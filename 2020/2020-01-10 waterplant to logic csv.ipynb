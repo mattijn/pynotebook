{
 "cells": [
  {
   "cell_type": "code",
   "execution_count": 1,
   "metadata": {},
   "outputs": [],
   "source": [
    "import pandas as pd"
   ]
  },
  {
   "cell_type": "code",
   "execution_count": 49,
   "metadata": {},
   "outputs": [],
   "source": [
    "df_2013 = pd.read_csv('totaal_waterplant_2013.csv')\n",
    "df_2016 = pd.read_csv('totaal_waterplant_2016.csv')"
   ]
  },
  {
   "cell_type": "code",
   "execution_count": 51,
   "metadata": {},
   "outputs": [],
   "source": [
    "df_2013.loc[:, 'year'] = 2013\n",
    "df_2016.loc[:, 'year'] = 2016"
   ]
  },
  {
   "cell_type": "code",
   "execution_count": 52,
   "metadata": {},
   "outputs": [],
   "source": [
    "df = pd.concat((df_2013, df_2016), axis=0)"
   ]
  },
  {
   "cell_type": "code",
   "execution_count": 53,
   "metadata": {},
   "outputs": [
    {
     "data": {
      "text/html": [
       "<div>\n",
       "<style scoped>\n",
       "    .dataframe tbody tr th:only-of-type {\n",
       "        vertical-align: middle;\n",
       "    }\n",
       "\n",
       "    .dataframe tbody tr th {\n",
       "        vertical-align: top;\n",
       "    }\n",
       "\n",
       "    .dataframe thead th {\n",
       "        text-align: right;\n",
       "    }\n",
       "</style>\n",
       "<table border=\"1\" class=\"dataframe\">\n",
       "  <thead>\n",
       "    <tr style=\"text-align: right;\">\n",
       "      <th></th>\n",
       "      <th>OBJECTID</th>\n",
       "      <th>TB</th>\n",
       "      <th>TB_class</th>\n",
       "      <th>ID_GEBIED</th>\n",
       "      <th>Beschrijving</th>\n",
       "      <th>x</th>\n",
       "      <th>y</th>\n",
       "      <th>geometry</th>\n",
       "      <th>year</th>\n",
       "    </tr>\n",
       "  </thead>\n",
       "  <tbody>\n",
       "    <tr>\n",
       "      <td>0</td>\n",
       "      <td>1</td>\n",
       "      <td>0.0</td>\n",
       "      <td>0</td>\n",
       "      <td>K17</td>\n",
       "      <td>IJmeer</td>\n",
       "      <td>5.136375</td>\n",
       "      <td>52.324776</td>\n",
       "      <td>POINT (5.136374912311344 52.32477593995228)</td>\n",
       "      <td>2013</td>\n",
       "    </tr>\n",
       "    <tr>\n",
       "      <td>1</td>\n",
       "      <td>2</td>\n",
       "      <td>0.0</td>\n",
       "      <td>0</td>\n",
       "      <td>K17</td>\n",
       "      <td>IJmeer</td>\n",
       "      <td>5.136365</td>\n",
       "      <td>52.326573</td>\n",
       "      <td>POINT (5.136364764947053 52.32657345535024)</td>\n",
       "      <td>2013</td>\n",
       "    </tr>\n",
       "    <tr>\n",
       "      <td>2</td>\n",
       "      <td>3</td>\n",
       "      <td>30.0</td>\n",
       "      <td>5</td>\n",
       "      <td>K17</td>\n",
       "      <td>IJmeer</td>\n",
       "      <td>5.130490</td>\n",
       "      <td>52.326562</td>\n",
       "      <td>POINT (5.130489891619272 52.32656175753802)</td>\n",
       "      <td>2013</td>\n",
       "    </tr>\n",
       "    <tr>\n",
       "      <td>3</td>\n",
       "      <td>4</td>\n",
       "      <td>1.0</td>\n",
       "      <td>1</td>\n",
       "      <td>K17</td>\n",
       "      <td>IJmeer</td>\n",
       "      <td>5.127659</td>\n",
       "      <td>52.326800</td>\n",
       "      <td>POINT (5.127658846768369 52.32680004822095)</td>\n",
       "      <td>2013</td>\n",
       "    </tr>\n",
       "    <tr>\n",
       "      <td>4</td>\n",
       "      <td>5</td>\n",
       "      <td>1.0</td>\n",
       "      <td>1</td>\n",
       "      <td>K17</td>\n",
       "      <td>IJmeer</td>\n",
       "      <td>5.133120</td>\n",
       "      <td>52.327015</td>\n",
       "      <td>POINT (5.133120387435941 52.32701502041948)</td>\n",
       "      <td>2013</td>\n",
       "    </tr>\n",
       "  </tbody>\n",
       "</table>\n",
       "</div>"
      ],
      "text/plain": [
       "   OBJECTID    TB  TB_class ID_GEBIED Beschrijving         x          y  \\\n",
       "0         1   0.0         0       K17       IJmeer  5.136375  52.324776   \n",
       "1         2   0.0         0       K17       IJmeer  5.136365  52.326573   \n",
       "2         3  30.0         5       K17       IJmeer  5.130490  52.326562   \n",
       "3         4   1.0         1       K17       IJmeer  5.127659  52.326800   \n",
       "4         5   1.0         1       K17       IJmeer  5.133120  52.327015   \n",
       "\n",
       "                                      geometry  year  \n",
       "0  POINT (5.136374912311344 52.32477593995228)  2013  \n",
       "1  POINT (5.136364764947053 52.32657345535024)  2013  \n",
       "2  POINT (5.130489891619272 52.32656175753802)  2013  \n",
       "3  POINT (5.127658846768369 52.32680004822095)  2013  \n",
       "4  POINT (5.133120387435941 52.32701502041948)  2013  "
      ]
     },
     "execution_count": 53,
     "metadata": {},
     "output_type": "execute_result"
    }
   ],
   "source": [
    "df.head()"
   ]
  },
  {
   "cell_type": "code",
   "execution_count": 54,
   "metadata": {},
   "outputs": [
    {
     "data": {
      "text/plain": [
       "array([0, 5, 1, 2, 3, 6, 4, 7], dtype=int64)"
      ]
     },
     "execution_count": 54,
     "metadata": {},
     "output_type": "execute_result"
    }
   ],
   "source": [
    "df.TB_class.unique()"
   ]
  },
  {
   "cell_type": "code",
   "execution_count": 55,
   "metadata": {},
   "outputs": [],
   "source": [
    "df.loc[df.TB_class == 7, 'TB_class'] = '75 - 100%'\n",
    "df.loc[df.TB_class == 6, 'TB_class'] = '50 - 75%'\n",
    "df.loc[df.TB_class == 5, 'TB_class'] = '25 - 50%'\n",
    "df.loc[df.TB_class == 4, 'TB_class'] = '15 - 25%'\n",
    "df.loc[df.TB_class == 3, 'TB_class'] = '05 - 15%'\n",
    "df.loc[df.TB_class == 2, 'TB_class'] = '01 - 05%'\n",
    "df.loc[df.TB_class == 1, 'TB_class'] = '00 - 01%'\n",
    "df.loc[df.TB_class == 0, 'TB_class'] = '00 - 00%'"
   ]
  },
  {
   "cell_type": "code",
   "execution_count": 56,
   "metadata": {},
   "outputs": [
    {
     "data": {
      "text/html": [
       "<div>\n",
       "<style scoped>\n",
       "    .dataframe tbody tr th:only-of-type {\n",
       "        vertical-align: middle;\n",
       "    }\n",
       "\n",
       "    .dataframe tbody tr th {\n",
       "        vertical-align: top;\n",
       "    }\n",
       "\n",
       "    .dataframe thead th {\n",
       "        text-align: right;\n",
       "    }\n",
       "</style>\n",
       "<table border=\"1\" class=\"dataframe\">\n",
       "  <thead>\n",
       "    <tr style=\"text-align: right;\">\n",
       "      <th></th>\n",
       "      <th>OBJECTID</th>\n",
       "      <th>TB</th>\n",
       "      <th>TB_class</th>\n",
       "      <th>ID_GEBIED</th>\n",
       "      <th>Beschrijving</th>\n",
       "      <th>x</th>\n",
       "      <th>y</th>\n",
       "      <th>geometry</th>\n",
       "      <th>year</th>\n",
       "    </tr>\n",
       "  </thead>\n",
       "  <tbody>\n",
       "    <tr>\n",
       "      <td>0</td>\n",
       "      <td>1</td>\n",
       "      <td>0.0</td>\n",
       "      <td>00 - 00%</td>\n",
       "      <td>K17</td>\n",
       "      <td>IJmeer</td>\n",
       "      <td>5.136375</td>\n",
       "      <td>52.324776</td>\n",
       "      <td>POINT (5.136374912311344 52.32477593995228)</td>\n",
       "      <td>2013</td>\n",
       "    </tr>\n",
       "    <tr>\n",
       "      <td>1</td>\n",
       "      <td>2</td>\n",
       "      <td>0.0</td>\n",
       "      <td>00 - 00%</td>\n",
       "      <td>K17</td>\n",
       "      <td>IJmeer</td>\n",
       "      <td>5.136365</td>\n",
       "      <td>52.326573</td>\n",
       "      <td>POINT (5.136364764947053 52.32657345535024)</td>\n",
       "      <td>2013</td>\n",
       "    </tr>\n",
       "    <tr>\n",
       "      <td>2</td>\n",
       "      <td>3</td>\n",
       "      <td>30.0</td>\n",
       "      <td>25 - 50%</td>\n",
       "      <td>K17</td>\n",
       "      <td>IJmeer</td>\n",
       "      <td>5.130490</td>\n",
       "      <td>52.326562</td>\n",
       "      <td>POINT (5.130489891619272 52.32656175753802)</td>\n",
       "      <td>2013</td>\n",
       "    </tr>\n",
       "    <tr>\n",
       "      <td>3</td>\n",
       "      <td>4</td>\n",
       "      <td>1.0</td>\n",
       "      <td>00 - 01%</td>\n",
       "      <td>K17</td>\n",
       "      <td>IJmeer</td>\n",
       "      <td>5.127659</td>\n",
       "      <td>52.326800</td>\n",
       "      <td>POINT (5.127658846768369 52.32680004822095)</td>\n",
       "      <td>2013</td>\n",
       "    </tr>\n",
       "    <tr>\n",
       "      <td>4</td>\n",
       "      <td>5</td>\n",
       "      <td>1.0</td>\n",
       "      <td>00 - 01%</td>\n",
       "      <td>K17</td>\n",
       "      <td>IJmeer</td>\n",
       "      <td>5.133120</td>\n",
       "      <td>52.327015</td>\n",
       "      <td>POINT (5.133120387435941 52.32701502041948)</td>\n",
       "      <td>2013</td>\n",
       "    </tr>\n",
       "  </tbody>\n",
       "</table>\n",
       "</div>"
      ],
      "text/plain": [
       "   OBJECTID    TB  TB_class ID_GEBIED Beschrijving         x          y  \\\n",
       "0         1   0.0  00 - 00%       K17       IJmeer  5.136375  52.324776   \n",
       "1         2   0.0  00 - 00%       K17       IJmeer  5.136365  52.326573   \n",
       "2         3  30.0  25 - 50%       K17       IJmeer  5.130490  52.326562   \n",
       "3         4   1.0  00 - 01%       K17       IJmeer  5.127659  52.326800   \n",
       "4         5   1.0  00 - 01%       K17       IJmeer  5.133120  52.327015   \n",
       "\n",
       "                                      geometry  year  \n",
       "0  POINT (5.136374912311344 52.32477593995228)  2013  \n",
       "1  POINT (5.136364764947053 52.32657345535024)  2013  \n",
       "2  POINT (5.130489891619272 52.32656175753802)  2013  \n",
       "3  POINT (5.127658846768369 52.32680004822095)  2013  \n",
       "4  POINT (5.133120387435941 52.32701502041948)  2013  "
      ]
     },
     "execution_count": 56,
     "metadata": {},
     "output_type": "execute_result"
    }
   ],
   "source": [
    "df.head()"
   ]
  },
  {
   "cell_type": "code",
   "execution_count": 57,
   "metadata": {},
   "outputs": [],
   "source": [
    "df_sel = df[['TB', 'TB_class', 'Beschrijving', 'year', 'x', 'y']]"
   ]
  },
  {
   "cell_type": "code",
   "execution_count": 58,
   "metadata": {},
   "outputs": [],
   "source": [
    "df_sel.columns = ['waterplant_pct', 'waterplant_class', 'region', 'year', 'x', 'y']"
   ]
  },
  {
   "cell_type": "code",
   "execution_count": 59,
   "metadata": {},
   "outputs": [],
   "source": [
    "df_sel.to_csv('waterplanten.csv')"
   ]
  },
  {
   "cell_type": "code",
   "execution_count": 24,
   "metadata": {},
   "outputs": [],
   "source": [
    "df_v = pd.read_json(r\"T:\\@Marc\\4142.10_MIJ-Brein\\vogels.json\")"
   ]
  },
  {
   "cell_type": "code",
   "execution_count": 44,
   "metadata": {},
   "outputs": [
    {
     "data": {
      "text/html": [
       "<div>\n",
       "<style scoped>\n",
       "    .dataframe tbody tr th:only-of-type {\n",
       "        vertical-align: middle;\n",
       "    }\n",
       "\n",
       "    .dataframe tbody tr th {\n",
       "        vertical-align: top;\n",
       "    }\n",
       "\n",
       "    .dataframe thead th {\n",
       "        text-align: right;\n",
       "    }\n",
       "</style>\n",
       "<table border=\"1\" class=\"dataframe\">\n",
       "  <thead>\n",
       "    <tr style=\"text-align: right;\">\n",
       "      <th></th>\n",
       "      <th>year</th>\n",
       "      <th>in</th>\n",
       "      <th>function</th>\n",
       "      <th>birdname</th>\n",
       "      <th>birdcount</th>\n",
       "    </tr>\n",
       "  </thead>\n",
       "  <tbody>\n",
       "    <tr>\n",
       "      <td>0</td>\n",
       "      <td>2012</td>\n",
       "      <td>seizoen gemiddeld</td>\n",
       "      <td>foerageren</td>\n",
       "      <td>Aalscholver</td>\n",
       "      <td>3305</td>\n",
       "    </tr>\n",
       "    <tr>\n",
       "      <td>1</td>\n",
       "      <td>2012</td>\n",
       "      <td>seizoen max</td>\n",
       "      <td>slapen</td>\n",
       "      <td>Aalscholver</td>\n",
       "      <td>317</td>\n",
       "    </tr>\n",
       "    <tr>\n",
       "      <td>26</td>\n",
       "      <td>2013</td>\n",
       "      <td>seizoen gemiddeld</td>\n",
       "      <td>foerageren</td>\n",
       "      <td>Aalscholver</td>\n",
       "      <td>3002</td>\n",
       "    </tr>\n",
       "    <tr>\n",
       "      <td>27</td>\n",
       "      <td>2013</td>\n",
       "      <td>seizoen max</td>\n",
       "      <td>slapen</td>\n",
       "      <td>Aalscholver</td>\n",
       "      <td>152</td>\n",
       "    </tr>\n",
       "    <tr>\n",
       "      <td>52</td>\n",
       "      <td>2014</td>\n",
       "      <td>seizoen gemiddeld</td>\n",
       "      <td>foerageren</td>\n",
       "      <td>Aalscholver</td>\n",
       "      <td>3607</td>\n",
       "    </tr>\n",
       "    <tr>\n",
       "      <td>53</td>\n",
       "      <td>2014</td>\n",
       "      <td>seizoen max</td>\n",
       "      <td>slapen</td>\n",
       "      <td>Aalscholver</td>\n",
       "      <td>506</td>\n",
       "    </tr>\n",
       "    <tr>\n",
       "      <td>78</td>\n",
       "      <td>2015</td>\n",
       "      <td>seizoen gemiddeld</td>\n",
       "      <td>foerageren</td>\n",
       "      <td>Aalscholver</td>\n",
       "      <td>2345</td>\n",
       "    </tr>\n",
       "    <tr>\n",
       "      <td>79</td>\n",
       "      <td>2015</td>\n",
       "      <td>seizoen max</td>\n",
       "      <td>slapen</td>\n",
       "      <td>Aalscholver</td>\n",
       "      <td>448</td>\n",
       "    </tr>\n",
       "    <tr>\n",
       "      <td>104</td>\n",
       "      <td>2016</td>\n",
       "      <td>seizoen gemiddeld</td>\n",
       "      <td>foerageren</td>\n",
       "      <td>Aalscholver</td>\n",
       "      <td>3310</td>\n",
       "    </tr>\n",
       "    <tr>\n",
       "      <td>105</td>\n",
       "      <td>2016</td>\n",
       "      <td>seizoen max</td>\n",
       "      <td>slapen</td>\n",
       "      <td>Aalscholver</td>\n",
       "      <td>450</td>\n",
       "    </tr>\n",
       "    <tr>\n",
       "      <td>130</td>\n",
       "      <td>2017</td>\n",
       "      <td>seizoen gemiddeld</td>\n",
       "      <td>foerageren</td>\n",
       "      <td>Aalscholver</td>\n",
       "      <td>2496</td>\n",
       "    </tr>\n",
       "    <tr>\n",
       "      <td>131</td>\n",
       "      <td>2017</td>\n",
       "      <td>seizoen max</td>\n",
       "      <td>slapen</td>\n",
       "      <td>Aalscholver</td>\n",
       "      <td>251</td>\n",
       "    </tr>\n",
       "  </tbody>\n",
       "</table>\n",
       "</div>"
      ],
      "text/plain": [
       "     year                 in    function     birdname  birdcount\n",
       "0    2012  seizoen gemiddeld  foerageren  Aalscholver       3305\n",
       "1    2012        seizoen max      slapen  Aalscholver        317\n",
       "26   2013  seizoen gemiddeld  foerageren  Aalscholver       3002\n",
       "27   2013        seizoen max      slapen  Aalscholver        152\n",
       "52   2014  seizoen gemiddeld  foerageren  Aalscholver       3607\n",
       "53   2014        seizoen max      slapen  Aalscholver        506\n",
       "78   2015  seizoen gemiddeld  foerageren  Aalscholver       2345\n",
       "79   2015        seizoen max      slapen  Aalscholver        448\n",
       "104  2016  seizoen gemiddeld  foerageren  Aalscholver       3310\n",
       "105  2016        seizoen max      slapen  Aalscholver        450\n",
       "130  2017  seizoen gemiddeld  foerageren  Aalscholver       2496\n",
       "131  2017        seizoen max      slapen  Aalscholver        251"
      ]
     },
     "execution_count": 44,
     "metadata": {},
     "output_type": "execute_result"
    }
   ],
   "source": [
    "df_v[df_v.birdname == 'Aalscholver']"
   ]
  },
  {
   "cell_type": "code",
   "execution_count": 46,
   "metadata": {},
   "outputs": [],
   "source": [
    "df_v_sel = df_v[['year', 'function', 'birdname', 'birdcount']]"
   ]
  },
  {
   "cell_type": "code",
   "execution_count": 47,
   "metadata": {},
   "outputs": [],
   "source": [
    "df_v_sel.to_csv('vogels.csv')"
   ]
  },
  {
   "cell_type": "code",
   "execution_count": 40,
   "metadata": {},
   "outputs": [],
   "source": [
    "#pd.concat((df_v, df_sel), axis=1)"
   ]
  },
  {
   "cell_type": "code",
   "execution_count": 39,
   "metadata": {},
   "outputs": [],
   "source": [
    "#pd.merge(df_sel, df_v, how='left', left_on='year', right_on='year' ,)"
   ]
  },
  {
   "cell_type": "code",
   "execution_count": 34,
   "metadata": {},
   "outputs": [],
   "source": [
    "df_all.to_csv('waterplant_vogel.csv')"
   ]
  },
  {
   "cell_type": "code",
   "execution_count": 36,
   "metadata": {},
   "outputs": [
    {
     "data": {
      "text/plain": [
       "(156, 5)"
      ]
     },
     "execution_count": 36,
     "metadata": {},
     "output_type": "execute_result"
    }
   ],
   "source": [
    "df_v.shape"
   ]
  },
  {
   "cell_type": "code",
   "execution_count": 37,
   "metadata": {},
   "outputs": [
    {
     "data": {
      "text/plain": [
       "(7575, 6)"
      ]
     },
     "execution_count": 37,
     "metadata": {},
     "output_type": "execute_result"
    }
   ],
   "source": [
    "df_sel.shape"
   ]
  },
  {
   "cell_type": "code",
   "execution_count": null,
   "metadata": {},
   "outputs": [],
   "source": []
  }
 ],
 "metadata": {
  "kernelspec": {
   "display_name": "Python 3",
   "language": "python",
   "name": "python3"
  },
  "language_info": {
   "codemirror_mode": {
    "name": "ipython",
    "version": 3
   },
   "file_extension": ".py",
   "mimetype": "text/x-python",
   "name": "python",
   "nbconvert_exporter": "python",
   "pygments_lexer": "ipython3",
   "version": "3.6.5"
  }
 },
 "nbformat": 4,
 "nbformat_minor": 4
}
