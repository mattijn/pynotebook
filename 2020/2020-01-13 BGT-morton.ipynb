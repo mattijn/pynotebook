{
 "cells": [
  {
   "cell_type": "code",
   "execution_count": 1,
   "metadata": {},
   "outputs": [],
   "source": [
    "#%pip install pyzorder\n",
    "import numpy as np\n",
    "from pyzorder import ZOrderIndexer\n",
    "import rasterio\n",
    "from rasterio.transform import from_origin\n",
    "import itertools"
   ]
  },
  {
   "cell_type": "code",
   "execution_count": 2,
   "metadata": {},
   "outputs": [],
   "source": [
    "def stepsize(agg_level):\n",
    "    return 2000 * (2**agg_level)"
   ]
  },
  {
   "cell_type": "code",
   "execution_count": 3,
   "metadata": {},
   "outputs": [
    {
     "name": "stdout",
     "output_type": "stream",
     "text": [
      "-100000 200000 412000 712000\n"
     ]
    }
   ],
   "source": [
    "# max extent from https://downloads.pdok.nl/js/embed/functions.js\n",
    "maxBBox = [\n",
    "    [-100000, 200000], \n",
    "    [412000, 200000], \n",
    "    [412000, 712000], \n",
    "    [-100000, 712000], \n",
    "    [-100000, 200000]\n",
    "]\n",
    "minX = maxBBox[0][0]\n",
    "minY = maxBBox[0][1]\n",
    "maxX = maxBBox[2][0]\n",
    "maxY = maxBBox[2][1]\n",
    "\n",
    "print(minX, minY, maxX, maxY)"
   ]
  },
  {
   "cell_type": "code",
   "execution_count": 4,
   "metadata": {},
   "outputs": [],
   "source": [
    "# aggregate_levels = [5,4,3,2,1,0]  # 5 is uitgezoomd, 0 is ingezoomd\n",
    "zoomlevel = 5\n",
    "stepSizeX = stepSizeY = stepsize(zoomlevel)\n",
    "\n",
    "stepsfromstartminX = np.floor((minX - minX) / stepSizeX)\n",
    "stepsfromstartminY = np.floor((minY - minY) / stepSizeY)\n",
    "\n",
    "stepsfromstartmaxX = np.ceil((maxX - minX) / stepSizeX)\n",
    "stepsfromstartmaxY = np.ceil((maxY - minY) / stepSizeY)\n",
    "\n",
    "stepsXaxis = stepsfromstartmaxX - stepsfromstartminX\n",
    "stepsYaxis = stepsfromstartmaxY - stepsfromstartminY\n",
    "\n",
    "positionX = (minX + (stepSizeX * stepsfromstartminX))\n",
    "positionY = (minY + (stepSizeY * stepsfromstartminY))\n",
    "\n",
    "stepsY = np.arange(0, stepsYaxis)\n",
    "stepsX = np.arange(0, stepsXaxis)"
   ]
  },
  {
   "cell_type": "code",
   "execution_count": 5,
   "metadata": {},
   "outputs": [
    {
     "name": "stdout",
     "output_type": "stream",
     "text": [
      "8.0 8.0\n"
     ]
    }
   ],
   "source": [
    "print(stepsXaxis, stepsYaxis)"
   ]
  },
  {
   "cell_type": "code",
   "execution_count": 6,
   "metadata": {},
   "outputs": [
    {
     "name": "stdout",
     "output_type": "stream",
     "text": [
      "64000 64000\n"
     ]
    }
   ],
   "source": [
    "print(stepSizeX, stepSizeY)"
   ]
  },
  {
   "cell_type": "code",
   "execution_count": 7,
   "metadata": {},
   "outputs": [],
   "source": [
    "# setup empty grid\n",
    "idx_XY = list(itertools.product(stepsX, stepsY))\n",
    "arr_XY = np.zeros((int(stepsXaxis), int(stepsYaxis)))"
   ]
  },
  {
   "cell_type": "code",
   "execution_count": 8,
   "metadata": {},
   "outputs": [],
   "source": [
    "# initiate morton grid\n",
    "zi = ZOrderIndexer(\n",
    "    row_range=(0, int(stepsXaxis)), \n",
    "    col_range=(0, int(stepsYaxis))\n",
    ")"
   ]
  },
  {
   "cell_type": "code",
   "execution_count": 9,
   "metadata": {},
   "outputs": [],
   "source": [
    "# fill array with morton numbers\n",
    "for r in stepsY:\n",
    "    r = int(r)\n",
    "    for c in stepsX:\n",
    "        c = int(c)        \n",
    "        arr_XY[c][r] = zi.zindex(c,r)"
   ]
  },
  {
   "cell_type": "code",
   "execution_count": 10,
   "metadata": {},
   "outputs": [],
   "source": [
    "# flip and transpode grid to get minium value bottom left of grid\n",
    "arr = np.flipud(arr_XY.T)"
   ]
  },
  {
   "cell_type": "code",
   "execution_count": 11,
   "metadata": {},
   "outputs": [],
   "source": [
    "from matplotlib import pyplot as plt\n",
    "%matplotlib inline"
   ]
  },
  {
   "cell_type": "code",
   "execution_count": 12,
   "metadata": {},
   "outputs": [
    {
     "data": {
      "text/plain": [
       "<matplotlib.colorbar.Colorbar at 0x927ccc0>"
      ]
     },
     "execution_count": 12,
     "metadata": {},
     "output_type": "execute_result"
    },
    {
     "data": {
      "image/png": "[encoded data removed]",
      "text/plain": [
       "<Figure size 432x288 with 2 Axes>"
      ]
     },
     "metadata": {
      "needs_background": "light"
     },
     "output_type": "display_data"
    }
   ],
   "source": [
    "im = plt.imshow(arr)\n",
    "plt.colorbar(im)"
   ]
  },
  {
   "cell_type": "code",
   "execution_count": 13,
   "metadata": {},
   "outputs": [
    {
     "data": {
      "text/plain": [
       "(8, 8)"
      ]
     },
     "execution_count": 13,
     "metadata": {},
     "output_type": "execute_result"
    }
   ],
   "source": [
    "arr.shape"
   ]
  },
  {
   "cell_type": "code",
   "execution_count": 14,
   "metadata": {},
   "outputs": [],
   "source": [
    "# write to tif\n",
    "transform = from_origin(minX, maxY, stepSizeX, stepSizeY)\n",
    "\n",
    "new_dataset = rasterio.open(f'agg_level_{zoomlevel}.tif', 'w', driver='GTiff',\n",
    "                            height = arr.shape[0], width = arr.shape[1],\n",
    "                            count=1, dtype=str(arr.dtype),\n",
    "                            crs=rasterio.crs.CRS.from_epsg(28992),\n",
    "                            transform=transform)\n",
    "\n",
    "new_dataset.write(arr, 1)\n",
    "new_dataset.close()"
   ]
  }
 ],
 "metadata": {
  "kernelspec": {
   "display_name": "Python 3",
   "language": "python",
   "name": "python3"
  },
  "language_info": {
   "codemirror_mode": {
    "name": "ipython",
    "version": 3
   },
   "file_extension": ".py",
   "mimetype": "text/x-python",
   "name": "python",
   "nbconvert_exporter": "python",
   "pygments_lexer": "ipython3",
   "version": "3.6.5"
  }
 },
 "nbformat": 4,
 "nbformat_minor": 4
}
