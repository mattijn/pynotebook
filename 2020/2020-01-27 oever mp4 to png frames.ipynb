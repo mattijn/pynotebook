{
 "cells": [
  {
   "cell_type": "code",
   "execution_count": 1,
   "metadata": {},
   "outputs": [],
   "source": [
    "import cv2\n",
    "import os"
   ]
  },
  {
   "cell_type": "code",
   "execution_count": 2,
   "metadata": {},
   "outputs": [
    {
     "name": "stdout",
     "output_type": "stream",
     "text": [
      "3941\n"
     ]
    }
   ],
   "source": [
    "video_capture = cv2.VideoCapture(r\"D:\\Projects\\RO\\Insta\\oever_view.mp4\")\n",
    "length = int(video_capture.get(cv2.CAP_PROP_FRAME_COUNT))\n",
    "print(length)\n",
    "\n",
    "frame_count = 0"
   ]
  },
  {
   "cell_type": "code",
   "execution_count": 3,
   "metadata": {},
   "outputs": [],
   "source": [
    "base_dir = r'D:\\Projects\\RO\\Insta\\equirect'\n",
    "while video_capture.isOpened():    \n",
    "    # Grab a single frame of video\n",
    "    ret, frame = video_capture.read()\n",
    "    frame_count += 1\n",
    "    # Bail out when the video file ends\n",
    "    if not ret:\n",
    "        video_capture.release()\n",
    "        break\n",
    "        \n",
    "    if frame_count % 15 == 0:  \n",
    "    # We will search face in every 15 frames to speed up process.\n",
    "        rgb_frame = frame[:, :, :]\n",
    "        frame_out = os.path.join(base_dir, f'frame_{str(frame_count).zfill(4)}.jpg')\n",
    "        cv2.imwrite(frame_out, rgb_frame)"
   ]
  },
  {
   "cell_type": "code",
   "execution_count": null,
   "metadata": {},
   "outputs": [],
   "source": []
  }
 ],
 "metadata": {
  "kernelspec": {
   "display_name": "Python 3",
   "language": "python",
   "name": "python3"
  },
  "language_info": {
   "codemirror_mode": {
    "name": "ipython",
    "version": 3
   },
   "file_extension": ".py",
   "mimetype": "text/x-python",
   "name": "python",
   "nbconvert_exporter": "python",
   "pygments_lexer": "ipython3",
   "version": "3.6.5"
  }
 },
 "nbformat": 4,
 "nbformat_minor": 4
}
