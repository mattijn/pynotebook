{
 "cells": [
  {
   "cell_type": "code",
   "execution_count": 1,
   "metadata": {},
   "outputs": [
    {
     "name": "stdout",
     "output_type": "stream",
     "text": [
      "dataservice is set. https://data.hkvservices.nl/dataservices/ will be used as portal\n"
     ]
    }
   ],
   "source": [
    "from hkvportal.io.services import dataportal as dp\n",
    "import json\n",
    "dp = dp()\n",
    "dp.setDataservice(dataservice = 'https://data.hkvservices.nl/dataservices/')"
   ]
  },
  {
   "cell_type": "code",
   "execution_count": 2,
   "metadata": {},
   "outputs": [
    {
     "data": {
      "text/plain": [
       "[{'date': '2018-01-05 16:29:56',\n",
       "  'description': 'serajganj waterlevels',\n",
       "  'id': 'f4859b9a-cb17-47cb-b485-70b557505c81',\n",
       "  'key': 'serajganj'},\n",
       " {'date': '2018-01-08 13:42:50',\n",
       "  'description': 'Parameter vega spec',\n",
       "  'id': '5d55159e-ad8e-4c3c-b90a-abb27430c276',\n",
       "  'key': 'weather_spec'},\n",
       " {'date': '2018-01-08 13:43:02',\n",
       "  'description': 'Ethiopia map vega spec',\n",
       "  'id': 'e06ac7f8-80ac-4804-961d-59601eca9ad5',\n",
       "  'key': 'map_spec'},\n",
       " {'date': '2018-01-08 13:43:23',\n",
       "  'description': 'Bullet chart vega spec',\n",
       "  'id': '567fb6f1-17d9-4e3d-b389-79e6543a6c95',\n",
       "  'key': 'bullet_chart_spec'}]"
      ]
     },
     "execution_count": 2,
     "metadata": {},
     "output_type": "execute_result"
    }
   ],
   "source": [
    "#dp.createDatabase(database = 'core-bangladesh')\n",
    "dp.listDatabase(database = 'core-bangladesh')"
   ]
  },
  {
   "cell_type": "code",
   "execution_count": 4,
   "metadata": {
    "scrolled": false
   },
   "outputs": [
    {
     "name": "stdout",
     "output_type": "stream",
     "text": [
      "https://data.hkvservices.nl/dataservices/data.asmx/read?database=core-bangladesh&key=weather_spec\n"
     ]
    }
   ],
   "source": [
    "json_spec = dp.getEntryDatabase(database = 'core-bangladesh', key = 'weather_spec')"
   ]
  },
  {
   "cell_type": "code",
   "execution_count": 9,
   "metadata": {},
   "outputs": [],
   "source": [
    "import json"
   ]
  },
  {
   "cell_type": "code",
   "execution_count": 10,
   "metadata": {},
   "outputs": [
    {
     "ename": "TypeError",
     "evalue": "'module' object is not callable",
     "output_type": "error",
     "traceback": [
      "\u001b[1;31m---------------------------------------------------------------------------\u001b[0m",
      "\u001b[1;31mTypeError\u001b[0m                                 Traceback (most recent call last)",
      "\u001b[1;32m<ipython-input-10-dd8ec44a6137>\u001b[0m in \u001b[0;36m<module>\u001b[1;34m()\u001b[0m\n\u001b[1;32m----> 1\u001b[1;33m \u001b[0mjson\u001b[0m\u001b[1;33m(\u001b[0m\u001b[0mjson_spec\u001b[0m\u001b[1;33m)\u001b[0m\u001b[1;33m\u001b[0m\u001b[0m\n\u001b[0m",
      "\u001b[1;31mTypeError\u001b[0m: 'module' object is not callable"
     ]
    }
   ],
   "source": [
    "json(json_spec)"
   ]
  },
  {
   "cell_type": "code",
   "execution_count": 14,
   "metadata": {},
   "outputs": [],
   "source": [
    "# Vega specs vanuit bestand laden\n",
    "import json\n",
    "vega_spec_path = r'C:\\Users\\hoek.HKV\\Desktop\\spec.json'\n",
    "vega_spec = json.load(open(vega_spec_path))"
   ]
  },
  {
   "cell_type": "code",
   "execution_count": 15,
   "metadata": {},
   "outputs": [
    {
     "data": {
      "text/plain": [
       "{'$schema': 'https://vega.github.io/schema/vega-lite/v2.json',\n",
       " 'config': {'invalidValues': 'null'},\n",
       " 'data': {'format': {'type': 'csv'},\n",
       "  'url': 'https://data.hkvservices.nl/dataservices/thredds.asmx/timeseries?url=http://81.171.27.131:8080/thredds/dodsC/HKV/PR3348_10/GPM_3IMERG_P/P24.HOUR-ethiopia.nc&layer=precipitation&longitude=44.35&latitude=11.71&output=csv'},\n",
       " 'encoding': {'x': {'axis': {'format': '%d %b %H:%M', 'labelAngle': -40},\n",
       "   'field': 'date',\n",
       "   'type': 'temporal'},\n",
       "  'y': {'field': 'value', 'type': 'quantitative'}},\n",
       " 'mark': 'bar'}"
      ]
     },
     "execution_count": 15,
     "metadata": {},
     "output_type": "execute_result"
    }
   ],
   "source": [
    "vega_spec"
   ]
  },
  {
   "cell_type": "code",
   "execution_count": 18,
   "metadata": {},
   "outputs": [
    {
     "data": {
      "text/plain": [
       "{'date': '2018-01-08 15:21:02',\n",
       " 'id': '5d55159e-ad8e-4c3c-b90a-abb27430c276',\n",
       " 'key': 'weather_spec'}"
      ]
     },
     "execution_count": 18,
     "metadata": {},
     "output_type": "execute_result"
    }
   ],
   "source": [
    "dp.setEntryDatabase(database = 'core-bangladesh', key = 'weather_spec', data=json.dumps(vega_spec), description='precipitation linkd to thredds')"
   ]
  },
  {
   "cell_type": "code",
   "execution_count": null,
   "metadata": {},
   "outputs": [],
   "source": []
  }
 ],
 "metadata": {
  "kernelspec": {
   "display_name": "Python 3",
   "language": "python",
   "name": "python3"
  },
  "language_info": {
   "codemirror_mode": {
    "name": "ipython",
    "version": 3
   },
   "file_extension": ".py",
   "mimetype": "text/x-python",
   "name": "python",
   "nbconvert_exporter": "python",
   "pygments_lexer": "ipython3",
   "version": "3.5.2"
  }
 },
 "nbformat": 4,
 "nbformat_minor": 2
}
