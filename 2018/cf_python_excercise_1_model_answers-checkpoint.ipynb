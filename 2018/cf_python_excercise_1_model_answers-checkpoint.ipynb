{
 "cells": [
  {
   "cell_type": "markdown",
   "metadata": {},
   "source": [
    "# cf-python exercises 1"
   ]
  },
  {
   "cell_type": "code",
   "execution_count": 1,
   "metadata": {
    "collapsed": true
   },
   "outputs": [],
   "source": [
    "# import the cf package\n",
    "import cf"
   ]
  },
  {
   "cell_type": "code",
   "execution_count": 2,
   "metadata": {
    "collapsed": false
   },
   "outputs": [],
   "source": [
    "# Read the field from file ncas_data/IPSL-CM5A-LR_r1i1p1_tas_n96_rcp45_mnth.nc\n",
    "# (use the cf.read_field function)\n",
    "f = cf.read_field('ncas_data/IPSL-CM5A-LR_r1i1p1_tas_n96_rcp45_mnth.nc')"
   ]
  },
  {
   "cell_type": "code",
   "execution_count": 3,
   "metadata": {
    "collapsed": false
   },
   "outputs": [
    {
     "data": {
      "text/plain": [
       "<CF Field: air_temperature(time(120), latitude(145), longitude(192)) K>"
      ]
     },
     "execution_count": 3,
     "metadata": {},
     "output_type": "execute_result"
    }
   ],
   "source": [
    "# Inspect the field as a one-line summary\n",
    "f"
   ]
  },
  {
   "cell_type": "code",
   "execution_count": 4,
   "metadata": {
    "collapsed": false
   },
   "outputs": [
    {
     "name": "stdout",
     "output_type": "stream",
     "text": [
      "air_temperature field summary\n",
      "-----------------------------\n",
      "Data           : air_temperature(time(120), latitude(145), longitude(192)) K\n",
      "Cell methods   : time: mean (interval: 30 minutes)\n",
      "Axes           : height(1) = [2.0] m\n",
      "               : time(120) = [1959-12-16T12:00:00Z, ..., 1969-11-16T00:00:00Z] 365_day\n",
      "               : latitude(145) = [-90.0, ..., 90.0] degrees_north\n",
      "               : longitude(192) = [0.0, ..., 358.125] degrees_east\n",
      "\n"
     ]
    }
   ],
   "source": [
    "# Inspect the field as a brief, multi-line summary\n",
    "# (use the print function)\n",
    "print f"
   ]
  },
  {
   "cell_type": "code",
   "execution_count": 5,
   "metadata": {
    "collapsed": false
   },
   "outputs": [
    {
     "name": "stdout",
     "output_type": "stream",
     "text": [
      "----------------------\n",
      "Field: air_temperature\n",
      "----------------------\n",
      "CDI = 'Climate Data Interface version 1.7.0 (http://mpimet.mpg.de/cdi)'\n",
      "CDO = 'Climate Data Operators version 1.7.0 (http://mpimet.mpg.de/cdo)'\n",
      "associated_files = 'baseURL: http://cmip-pcmdi.llnl.gov/CMIP5/dataLocation\n",
      "                    gridspecFile: gridspec_atmos_fx_IPSL-CM5A-\n",
      "                    LR_historical_r0i0p0.nc areacella: areacella_fx_IPSL-CM5A-\n",
      "                    LR_historical_r0i0p0.nc'\n",
      "branch_time = 1850.0\n",
      "cmor_version = '2.5.1'\n",
      "comment = 'This 20th century simulation include natural and anthropogenic\n",
      "           forcings.'\n",
      "contact = 'ipsl-cmip5 _at_ ipsl.jussieu.fr Data manager : Sebastien Denvil'\n",
      "creation_date = '2011-02-23T17:52:35Z'\n",
      "experiment = 'historical'\n",
      "experiment_id = 'historical'\n",
      "forcing = 'Nat,Ant,GHG,SA,Oz,LU,SS,Ds,BC,MD,OC,AA'\n",
      "frequency = 'mon'\n",
      "history = \"Thu May 26 15:47:13 2016: cdo mergetime /data/cr1/hadlg/helix/IPSL-\n",
      "           CM5A-LR_rcp45_tmp_output_1_hist.nc /data/cr1/hadlg/helix/IPSL-CM5A-\n",
      "           LR_rcp45_tmp_output_1_fut.nc /data/cr1/hadlg/helix/IPSL-CM5A-\n",
      "           LR_r1i1p1_tas_merged_rcp45.nc\\n2011-06-24T02:32:44Z altered by CMOR:\n",
      "           Treated scalar dimension: 'height'. 2011-06-24T02:32:44Z altered by\n",
      "           CMOR: replaced missing value flag (9.96921e+36) with standard\n",
      "           missing value (1e+20). 2011-06-24T02:32:45Z altered by CMOR:\n",
      "           Inverted axis: lat.\"\n",
      "initialization_method = 1\n",
      "institute_id = 'IPSL'\n",
      "institution = 'IPSL (Institut Pierre Simon Laplace, Paris, France)'\n",
      "long_name = 'Near-Surface Air Temperature'\n",
      "model_id = 'IPSL-CM5A-LR'\n",
      "modeling_realm = 'atmos'\n",
      "original_name = 't2m'\n",
      "parent_experiment = 'pre-industrial control'\n",
      "parent_experiment_id = 'piControl'\n",
      "parent_experiment_rip = 'r1i1p1'\n",
      "physics_version = 1\n",
      "product = 'output'\n",
      "project_id = 'CMIP5'\n",
      "realization = 1\n",
      "references = 'Model documentation and further reference available here :\n",
      "              http://icmc.ipsl.fr'\n",
      "source = 'IPSL-CM5A-LR (2010) : atmos : LMDZ4 (LMDZ4_v5, 96x95x39); ocean :\n",
      "          ORCA2 (NEMOV2_3, 2x2L31); seaIce : LIM2 (NEMOV2_3); ocnBgchem :\n",
      "          PISCES (NEMOV2_3); land : ORCHIDEE (orchidee_1_9_4_AR5)'\n",
      "standard_name = 'air_temperature'\n",
      "table_id = 'Table Amon (31 January 2011) 53b766a395ac41696af40aab76a49ae5'\n",
      "title = 'IPSL-CM5A-LR model output prepared for CMIP5 historical'\n",
      "tracking_id = '826ee5e9-3cc9-40a6-a42b-d84c6b4aad97'\n",
      "\n",
      "Domain Axis: height(1)\n",
      "Domain Axis: time(120)\n",
      "Domain Axis: latitude(145)\n",
      "Domain Axis: longitude(192)\n",
      "\n",
      "Data(time(120), latitude(145), longitude(192)) = [[[244.825790405, ..., 244.526885986]]] K\n",
      "\n",
      "Cell Method: time: mean (interval: 30 minutes)\n",
      "\n",
      "Dimension Coordinate: time\n",
      "    axis = 'T'\n",
      "    long_name = 'time'\n",
      "    standard_name = 'time'\n",
      "    Data(time(120)) = [1959-12-16T12:00:00Z, ..., 1969-11-16T00:00:00Z] 365_day\n",
      "    Bounds(time(120), 2) = [[1959-12-01T00:00:00Z, ..., 1969-12-01T00:00:00Z]] 365_day\n",
      "\n",
      "Dimension Coordinate: latitude\n",
      "    axis = 'Y'\n",
      "    long_name = 'latitude'\n",
      "    standard_name = 'latitude'\n",
      "    Data(latitude(145)) = [-90.0, ..., 90.0] degrees_north\n",
      "    Bounds(latitude(145), 2) = [[-90.0, ..., 90.0]] degrees_north\n",
      "\n",
      "Dimension Coordinate: longitude\n",
      "    axis = 'X'\n",
      "    long_name = 'longitude'\n",
      "    standard_name = 'longitude'\n",
      "    Data(longitude(192)) = [0.0, ..., 358.125] degrees_east\n",
      "    Bounds(longitude(192), 2) = [[-0.9375, ..., 359.0625]] degrees_east\n",
      "\n",
      "Dimension Coordinate: height\n",
      "    axis = 'Z'\n",
      "    long_name = 'height'\n",
      "    positive = 'up'\n",
      "    standard_name = 'height'\n",
      "    Data(height(1)) = [2.0] m\n",
      "\n"
     ]
    }
   ],
   "source": [
    "# Inspect the field in full detail\n",
    "#( use the field's dump method)\n",
    "f.dump()"
   ]
  },
  {
   "cell_type": "code",
   "execution_count": 6,
   "metadata": {
    "collapsed": false
   },
   "outputs": [
    {
     "data": {
      "text/plain": [
       "{'CDI': 'Climate Data Interface version 1.7.0 (http://mpimet.mpg.de/cdi)',\n",
       " 'CDO': 'Climate Data Operators version 1.7.0 (http://mpimet.mpg.de/cdo)',\n",
       " 'Conventions': 'CF-1.5',\n",
       " '_FillValue': 1.0000000200408773e+20,\n",
       " 'associated_files': 'baseURL: http://cmip-pcmdi.llnl.gov/CMIP5/dataLocation gridspecFile: gridspec_atmos_fx_IPSL-CM5A-LR_historical_r0i0p0.nc areacella: areacella_fx_IPSL-CM5A-LR_historical_r0i0p0.nc',\n",
       " 'branch_time': 1850.0,\n",
       " 'cmor_version': '2.5.1',\n",
       " 'comment': 'This 20th century simulation include natural and anthropogenic forcings.',\n",
       " 'contact': 'ipsl-cmip5 _at_ ipsl.jussieu.fr Data manager : Sebastien Denvil',\n",
       " 'creation_date': '2011-02-23T17:52:35Z',\n",
       " 'experiment': 'historical',\n",
       " 'experiment_id': 'historical',\n",
       " 'forcing': 'Nat,Ant,GHG,SA,Oz,LU,SS,Ds,BC,MD,OC,AA',\n",
       " 'frequency': 'mon',\n",
       " 'history': \"Thu May 26 15:47:13 2016: cdo mergetime /data/cr1/hadlg/helix/IPSL-CM5A-LR_rcp45_tmp_output_1_hist.nc /data/cr1/hadlg/helix/IPSL-CM5A-LR_rcp45_tmp_output_1_fut.nc /data/cr1/hadlg/helix/IPSL-CM5A-LR_r1i1p1_tas_merged_rcp45.nc\\n2011-06-24T02:32:44Z altered by CMOR: Treated scalar dimension: 'height'. 2011-06-24T02:32:44Z altered by CMOR: replaced missing value flag (9.96921e+36) with standard missing value (1e+20). 2011-06-24T02:32:45Z altered by CMOR: Inverted axis: lat.\",\n",
       " 'initialization_method': 1,\n",
       " 'institute_id': 'IPSL',\n",
       " 'institution': 'IPSL (Institut Pierre Simon Laplace, Paris, France)',\n",
       " 'long_name': 'Near-Surface Air Temperature',\n",
       " 'missing_value': 1e+20,\n",
       " 'model_id': 'IPSL-CM5A-LR',\n",
       " 'modeling_realm': 'atmos',\n",
       " 'original_name': 't2m',\n",
       " 'parent_experiment': 'pre-industrial control',\n",
       " 'parent_experiment_id': 'piControl',\n",
       " 'parent_experiment_rip': 'r1i1p1',\n",
       " 'physics_version': 1,\n",
       " 'product': 'output',\n",
       " 'project_id': 'CMIP5',\n",
       " 'realization': 1,\n",
       " 'references': 'Model documentation and further reference available here : http://icmc.ipsl.fr',\n",
       " 'source': 'IPSL-CM5A-LR (2010) : atmos : LMDZ4 (LMDZ4_v5, 96x95x39); ocean : ORCA2 (NEMOV2_3, 2x2L31); seaIce : LIM2 (NEMOV2_3); ocnBgchem : PISCES (NEMOV2_3); land : ORCHIDEE (orchidee_1_9_4_AR5)',\n",
       " 'standard_name': 'air_temperature',\n",
       " 'table_id': 'Table Amon (31 January 2011) 53b766a395ac41696af40aab76a49ae5',\n",
       " 'title': 'IPSL-CM5A-LR model output prepared for CMIP5 historical',\n",
       " 'tracking_id': '826ee5e9-3cc9-40a6-a42b-d84c6b4aad97'}"
      ]
     },
     "execution_count": 6,
     "metadata": {},
     "output_type": "execute_result"
    }
   ],
   "source": [
    "# Have a look at the descriptive properties\n",
    "# (use the properties method)\n",
    "f.properties()"
   ]
  },
  {
   "cell_type": "code",
   "execution_count": 7,
   "metadata": {
    "collapsed": false
   },
   "outputs": [
    {
     "data": {
      "text/plain": [
       "'orange'"
      ]
     },
     "execution_count": 7,
     "metadata": {},
     "output_type": "execute_result"
    }
   ],
   "source": [
    "# Change the CF long_name property to a new value and print the new value\n",
    "# (assign to the long_name attribute)\n",
    "f.long_name = 'orange'\n",
    "f.long_name"
   ]
  },
  {
   "cell_type": "code",
   "execution_count": 8,
   "metadata": {
    "collapsed": false
   },
   "outputs": [
    {
     "data": {
      "text/plain": [
       "'apple'"
      ]
     },
     "execution_count": 8,
     "metadata": {},
     "output_type": "execute_result"
    }
   ],
   "source": [
    "# Change the non-CF-standard original_name property to a new value and check that it has worked\n",
    "# (use the setprop and getprop methods)\n",
    "f.setprop('original_name', 'apple')\n",
    "f.getprop('original_name')"
   ]
  },
  {
   "cell_type": "code",
   "execution_count": 9,
   "metadata": {
    "collapsed": false
   },
   "outputs": [],
   "source": [
    "# Delete the non-CF-standard original_name property and the CF long_name property\n",
    "# (use the delprop method of the field and the pytohn del function)\n",
    "f.delprop('original_name')\n",
    "del f.long_name"
   ]
  },
  {
   "cell_type": "markdown",
   "metadata": {},
   "source": [
    "## Subspace by indices\n",
    "https://cfpython.bitbucket.io/docs/latest/generated/cf.Field.subspace.html"
   ]
  },
  {
   "cell_type": "code",
   "execution_count": 10,
   "metadata": {
    "collapsed": false
   },
   "outputs": [
    {
     "name": "stdout",
     "output_type": "stream",
     "text": [
      "air_temperature field summary\n",
      "-----------------------------\n",
      "Data           : air_temperature(time(1), latitude(145), longitude(192)) K\n",
      "Cell methods   : time: mean (interval: 30 minutes)\n",
      "Axes           : height(1) = [2.0] m\n",
      "               : time(1) = [1959-12-16T12:00:00Z] 365_day\n",
      "               : latitude(145) = [-90.0, ..., 90.0] degrees_north\n",
      "               : longitude(192) = [0.0, ..., 358.125] degrees_east\n",
      "\n"
     ]
    }
   ],
   "source": [
    "# Create a new field containing the XY field for just the first time\n",
    "# (use the index 0 in the time axis position)\n",
    "g = f.subspace[0]\n",
    "print g"
   ]
  },
  {
   "cell_type": "code",
   "execution_count": 11,
   "metadata": {
    "collapsed": false
   },
   "outputs": [
    {
     "name": "stdout",
     "output_type": "stream",
     "text": [
      "air_temperature field summary\n",
      "-----------------------------\n",
      "Data           : air_temperature(time(1), latitude(145), longitude(192)) K\n",
      "Cell methods   : time: mean (interval: 30 minutes)\n",
      "Axes           : height(1) = [2.0] m\n",
      "               : time(1) = [1969-11-16T00:00:00Z] 365_day\n",
      "               : latitude(145) = [-90.0, ..., 90.0] degrees_north\n",
      "               : longitude(192) = [0.0, ..., 358.125] degrees_east\n",
      "\n"
     ]
    }
   ],
   "source": [
    "# Create a new field containing the XY field for just the last time\n",
    "# (use the index -1 in the time axis position)\n",
    "g = f.subspace[-1]\n",
    "print g"
   ]
  },
  {
   "cell_type": "code",
   "execution_count": 12,
   "metadata": {
    "collapsed": false
   },
   "outputs": [
    {
     "name": "stdout",
     "output_type": "stream",
     "text": [
      "air_temperature field summary\n",
      "-----------------------------\n",
      "Data           : air_temperature(time(120), latitude(145), longitude(192)) K\n",
      "Cell methods   : time: mean (interval: 30 minutes)\n",
      "Axes           : height(1) = [2.0] m\n",
      "               : time(120) = [1959-12-16T12:00:00Z, ..., 1969-11-16T00:00:00Z] 365_day\n",
      "               : latitude(145) = [90.0, ..., -90.0] degrees_north\n",
      "               : longitude(192) = [0.0, ..., 358.125] degrees_east\n",
      "\n"
     ]
    }
   ],
   "source": [
    "# Create a new field containing with the latites axis reversed\n",
    "# (use the index ::-1 in the latitude axis position)\n",
    "g = f.subspace[:, ::-1]\n",
    "print g"
   ]
  },
  {
   "cell_type": "code",
   "execution_count": 13,
   "metadata": {
    "collapsed": false
   },
   "outputs": [
    {
     "name": "stdout",
     "output_type": "stream",
     "text": [
      "air_temperature field summary\n",
      "-----------------------------\n",
      "Data           : air_temperature(time(119), latitude(145), longitude(192)) K\n",
      "Cell methods   : time: mean (interval: 30 minutes)\n",
      "Axes           : height(1) = [2.0] m\n",
      "               : time(119) = [1960-01-16T12:00:00Z, ..., 1969-11-16T00:00:00Z] 365_day\n",
      "               : latitude(145) = [-90.0, ..., 90.0] degrees_north\n",
      "               : longitude(192) = [0.0, ..., 358.125] degrees_east\n",
      "\n"
     ]
    }
   ],
   "source": [
    "# Create a new field omitting the first time\n",
    "# (use the index 1: in the time axis position)\n",
    "g = f.subspace[1:]\n",
    "print g"
   ]
  },
  {
   "cell_type": "markdown",
   "metadata": {},
   "source": [
    "## Subspace by date-time\n",
    "https://cfpython.bitbucket.io/docs/latest/generated/cf.Field.subspace.html"
   ]
  },
  {
   "cell_type": "code",
   "execution_count": 14,
   "metadata": {
    "collapsed": false
   },
   "outputs": [
    {
     "name": "stdout",
     "output_type": "stream",
     "text": [
      "air_temperature field summary\n",
      "-----------------------------\n",
      "Data           : air_temperature(time(10), latitude(145), longitude(192)) K\n",
      "Cell methods   : time: mean (interval: 30 minutes)\n",
      "Axes           : height(1) = [2.0] m\n",
      "               : time(10) = [1960-02-15T00:00:00Z, ..., 1969-02-15T00:00:00Z] 365_day\n",
      "               : latitude(145) = [-90.0, ..., 90.0] degrees_north\n",
      "               : longitude(192) = [0.0, ..., 358.125] degrees_east\n",
      "\n"
     ]
    }
   ],
   "source": [
    "# Create a new field containing just the months of February\n",
    "# (use the cf.month function)\n",
    "g = f.subspace(T=cf.month(2))\n",
    "print g"
   ]
  },
  {
   "cell_type": "code",
   "execution_count": 15,
   "metadata": {
    "collapsed": false
   },
   "outputs": [
    {
     "name": "stdout",
     "output_type": "stream",
     "text": [
      "<CF DimensionCoordinate: time(10) 365_day>\n"
     ]
    }
   ],
   "source": [
    "# Get the coordinates of the new field\n",
    "# (pass the string 'T' to the field's coord method)\n",
    "t = g.coord('T')\n",
    "print t"
   ]
  },
  {
   "cell_type": "code",
   "execution_count": 16,
   "metadata": {
    "collapsed": false
   },
   "outputs": [
    {
     "data": {
      "text/plain": [
       "('days since 1850-1-1 00:00:00',\n",
       " array([ 40195.,  40560.,  40925.,  41290.,  41655.,  42020.,  42385.,\n",
       "         42750.,  43115.,  43480.]))"
      ]
     },
     "execution_count": 16,
     "metadata": {},
     "output_type": "execute_result"
    }
   ],
   "source": [
    "# Print the raw time coordinate values and their units\n",
    "# (use the coordinate object's array attribute)\n",
    "t.units, t.array"
   ]
  },
  {
   "cell_type": "code",
   "execution_count": 17,
   "metadata": {
    "collapsed": false
   },
   "outputs": [
    {
     "name": "stdout",
     "output_type": "stream",
     "text": [
      "[<CF Datetime: 1960-02-15T00:00:00Z 365_day>\n",
      " <CF Datetime: 1961-02-15T00:00:00Z 365_day>\n",
      " <CF Datetime: 1962-02-15T00:00:00Z 365_day>\n",
      " <CF Datetime: 1963-02-15T00:00:00Z 365_day>\n",
      " <CF Datetime: 1964-02-15T00:00:00Z 365_day>\n",
      " <CF Datetime: 1965-02-15T00:00:00Z 365_day>\n",
      " <CF Datetime: 1966-02-15T00:00:00Z 365_day>\n",
      " <CF Datetime: 1967-02-15T00:00:00Z 365_day>\n",
      " <CF Datetime: 1968-02-15T00:00:00Z 365_day>\n",
      " <CF Datetime: 1969-02-15T00:00:00Z 365_day>]\n"
     ]
    }
   ],
   "source": [
    "# Print the time coordinate values as date-times, rather than raw reference times\n",
    "# (use the coordinate object's dtarray method)\n",
    "print t.dtarray"
   ]
  },
  {
   "cell_type": "code",
   "execution_count": 18,
   "metadata": {
    "collapsed": false
   },
   "outputs": [
    {
     "name": "stdout",
     "output_type": "stream",
     "text": [
      "[[<CF Datetime: 1960-02-01T00:00:00Z 365_day>\n",
      "  <CF Datetime: 1960-03-01T00:00:00Z 365_day>]\n",
      " [<CF Datetime: 1961-02-01T00:00:00Z 365_day>\n",
      "  <CF Datetime: 1961-03-01T00:00:00Z 365_day>]\n",
      " [<CF Datetime: 1962-02-01T00:00:00Z 365_day>\n",
      "  <CF Datetime: 1962-03-01T00:00:00Z 365_day>]\n",
      " [<CF Datetime: 1963-02-01T00:00:00Z 365_day>\n",
      "  <CF Datetime: 1963-03-01T00:00:00Z 365_day>]\n",
      " [<CF Datetime: 1964-02-01T00:00:00Z 365_day>\n",
      "  <CF Datetime: 1964-03-01T00:00:00Z 365_day>]\n",
      " [<CF Datetime: 1965-02-01T00:00:00Z 365_day>\n",
      "  <CF Datetime: 1965-03-01T00:00:00Z 365_day>]\n",
      " [<CF Datetime: 1966-02-01T00:00:00Z 365_day>\n",
      "  <CF Datetime: 1966-03-01T00:00:00Z 365_day>]\n",
      " [<CF Datetime: 1967-02-01T00:00:00Z 365_day>\n",
      "  <CF Datetime: 1967-03-01T00:00:00Z 365_day>]\n",
      " [<CF Datetime: 1968-02-01T00:00:00Z 365_day>\n",
      "  <CF Datetime: 1968-03-01T00:00:00Z 365_day>]\n",
      " [<CF Datetime: 1969-02-01T00:00:00Z 365_day>\n",
      "  <CF Datetime: 1969-03-01T00:00:00Z 365_day>]]\n"
     ]
    }
   ],
   "source": [
    "# Print the time coordinates' cell bounds\n",
    "# (use the dtarray attribute of the coordinate object's bounds attribute)\n",
    "print t.bounds.dtarray"
   ]
  },
  {
   "cell_type": "code",
   "execution_count": 19,
   "metadata": {
    "collapsed": false
   },
   "outputs": [
    {
     "name": "stdout",
     "output_type": "stream",
     "text": [
      "air_temperature field summary\n",
      "-----------------------------\n",
      "Data           : air_temperature(time(30), latitude(145), longitude(192)) K\n",
      "Cell methods   : time: mean (interval: 30 minutes)\n",
      "Axes           : height(1) = [2.0] m\n",
      "               : time(30) = [1960-02-15T00:00:00Z, ..., 1969-04-16T00:00:00Z] 365_day\n",
      "               : latitude(145) = [-90.0, ..., 90.0] degrees_north\n",
      "               : longitude(192) = [0.0, ..., 358.125] degrees_east\n",
      "\n"
     ]
    }
   ],
   "source": [
    "# Create a new field that containing the months of February to April\n",
    "# (use the cf.wi function inside the cf.month function)\n",
    "h = f.subspace(T=cf.month(cf.wi(2, 4)))\n",
    "print h"
   ]
  },
  {
   "cell_type": "code",
   "execution_count": 20,
   "metadata": {
    "collapsed": false
   },
   "outputs": [
    {
     "name": "stdout",
     "output_type": "stream",
     "text": [
      "[<CF Datetime: 1960-02-15T00:00:00Z 365_day>\n",
      " <CF Datetime: 1960-03-16T12:00:00Z 365_day>\n",
      " <CF Datetime: 1960-04-16T00:00:00Z 365_day>\n",
      " <CF Datetime: 1961-02-15T00:00:00Z 365_day>\n",
      " <CF Datetime: 1961-03-16T12:00:00Z 365_day>\n",
      " <CF Datetime: 1961-04-16T00:00:00Z 365_day>\n",
      " <CF Datetime: 1962-02-15T00:00:00Z 365_day>\n",
      " <CF Datetime: 1962-03-16T12:00:00Z 365_day>\n",
      " <CF Datetime: 1962-04-16T00:00:00Z 365_day>\n",
      " <CF Datetime: 1963-02-15T00:00:00Z 365_day>\n",
      " <CF Datetime: 1963-03-16T12:00:00Z 365_day>\n",
      " <CF Datetime: 1963-04-16T00:00:00Z 365_day>\n",
      " <CF Datetime: 1964-02-15T00:00:00Z 365_day>\n",
      " <CF Datetime: 1964-03-16T12:00:00Z 365_day>\n",
      " <CF Datetime: 1964-04-16T00:00:00Z 365_day>\n",
      " <CF Datetime: 1965-02-15T00:00:00Z 365_day>\n",
      " <CF Datetime: 1965-03-16T12:00:00Z 365_day>\n",
      " <CF Datetime: 1965-04-16T00:00:00Z 365_day>\n",
      " <CF Datetime: 1966-02-15T00:00:00Z 365_day>\n",
      " <CF Datetime: 1966-03-16T12:00:00Z 365_day>\n",
      " <CF Datetime: 1966-04-16T00:00:00Z 365_day>\n",
      " <CF Datetime: 1967-02-15T00:00:00Z 365_day>\n",
      " <CF Datetime: 1967-03-16T12:00:00Z 365_day>\n",
      " <CF Datetime: 1967-04-16T00:00:00Z 365_day>\n",
      " <CF Datetime: 1968-02-15T00:00:00Z 365_day>\n",
      " <CF Datetime: 1968-03-16T12:00:00Z 365_day>\n",
      " <CF Datetime: 1968-04-16T00:00:00Z 365_day>\n",
      " <CF Datetime: 1969-02-15T00:00:00Z 365_day>\n",
      " <CF Datetime: 1969-03-16T12:00:00Z 365_day>\n",
      " <CF Datetime: 1969-04-16T00:00:00Z 365_day>]\n"
     ]
    }
   ],
   "source": [
    "# Check its time coordinate values\n",
    "print h.coord('T').dtarray"
   ]
  },
  {
   "cell_type": "code",
   "execution_count": 21,
   "metadata": {
    "collapsed": false
   },
   "outputs": [
    {
     "name": "stdout",
     "output_type": "stream",
     "text": [
      "[<CF Datetime: 1960-02-15T00:00:00Z 365_day>\n",
      " <CF Datetime: 1960-11-16T00:00:00Z 365_day>\n",
      " <CF Datetime: 1961-02-15T00:00:00Z 365_day>\n",
      " <CF Datetime: 1961-11-16T00:00:00Z 365_day>\n",
      " <CF Datetime: 1962-02-15T00:00:00Z 365_day>\n",
      " <CF Datetime: 1962-11-16T00:00:00Z 365_day>\n",
      " <CF Datetime: 1963-02-15T00:00:00Z 365_day>\n",
      " <CF Datetime: 1963-11-16T00:00:00Z 365_day>\n",
      " <CF Datetime: 1964-02-15T00:00:00Z 365_day>\n",
      " <CF Datetime: 1964-11-16T00:00:00Z 365_day>\n",
      " <CF Datetime: 1965-02-15T00:00:00Z 365_day>\n",
      " <CF Datetime: 1965-11-16T00:00:00Z 365_day>\n",
      " <CF Datetime: 1966-02-15T00:00:00Z 365_day>\n",
      " <CF Datetime: 1966-11-16T00:00:00Z 365_day>\n",
      " <CF Datetime: 1967-02-15T00:00:00Z 365_day>\n",
      " <CF Datetime: 1967-11-16T00:00:00Z 365_day>\n",
      " <CF Datetime: 1968-02-15T00:00:00Z 365_day>\n",
      " <CF Datetime: 1968-11-16T00:00:00Z 365_day>\n",
      " <CF Datetime: 1969-02-15T00:00:00Z 365_day>\n",
      " <CF Datetime: 1969-11-16T00:00:00Z 365_day>]\n"
     ]
    }
   ],
   "source": [
    "# Print the time coordinates of a new field that containing the months of February and November only\n",
    "# (connect two cf.month calls with |, the python \"or\" character)\n",
    "h = f.subspace(T=cf.month(2) | cf.month(11))\n",
    "print h.coord('T').dtarray"
   ]
  },
  {
   "cell_type": "code",
   "execution_count": 22,
   "metadata": {
    "collapsed": false
   },
   "outputs": [
    {
     "name": "stdout",
     "output_type": "stream",
     "text": [
      "[<CF Datetime: 1960-02-15T00:00:00Z 365_day>\n",
      " <CF Datetime: 1960-11-16T00:00:00Z 365_day>\n",
      " <CF Datetime: 1961-02-15T00:00:00Z 365_day>\n",
      " <CF Datetime: 1961-11-16T00:00:00Z 365_day>\n",
      " <CF Datetime: 1962-02-15T00:00:00Z 365_day>\n",
      " <CF Datetime: 1962-11-16T00:00:00Z 365_day>\n",
      " <CF Datetime: 1963-02-15T00:00:00Z 365_day>\n",
      " <CF Datetime: 1963-11-16T00:00:00Z 365_day>\n",
      " <CF Datetime: 1964-02-15T00:00:00Z 365_day>\n",
      " <CF Datetime: 1964-11-16T00:00:00Z 365_day>\n",
      " <CF Datetime: 1965-02-15T00:00:00Z 365_day>\n",
      " <CF Datetime: 1965-11-16T00:00:00Z 365_day>\n",
      " <CF Datetime: 1966-02-15T00:00:00Z 365_day>\n",
      " <CF Datetime: 1966-11-16T00:00:00Z 365_day>\n",
      " <CF Datetime: 1967-02-15T00:00:00Z 365_day>\n",
      " <CF Datetime: 1967-11-16T00:00:00Z 365_day>\n",
      " <CF Datetime: 1968-02-15T00:00:00Z 365_day>\n",
      " <CF Datetime: 1968-11-16T00:00:00Z 365_day>\n",
      " <CF Datetime: 1969-02-15T00:00:00Z 365_day>\n",
      " <CF Datetime: 1969-11-16T00:00:00Z 365_day>]\n"
     ]
    }
   ],
   "source": [
    "# Do the same again using the cf.set function inside the cf.month function\n",
    "h = f.subspace(T=cf.month(cf.set([2, 11])))\n",
    "print h.coord('T').dtarray"
   ]
  },
  {
   "cell_type": "code",
   "execution_count": 23,
   "metadata": {
    "collapsed": false
   },
   "outputs": [
    {
     "name": "stdout",
     "output_type": "stream",
     "text": [
      "air_temperature field summary\n",
      "-----------------------------\n",
      "Data           : air_temperature(time(1), latitude(145), longitude(192)) K\n",
      "Cell methods   : time: mean (interval: 30 minutes)\n",
      "Axes           : height(1) = [2.0] m\n",
      "               : time(1) = [1965-12-16T12:00:00Z] 365_day\n",
      "               : latitude(145) = [-90.0, ..., 90.0] degrees_north\n",
      "               : longitude(192) = [0.0, ..., 358.125] degrees_east\n",
      "\n"
     ]
    }
   ],
   "source": [
    "# Create a new field that containing only the time 1965-12-16 12:00\n",
    "# (use the cf.dt function)\n",
    "g = f.subspace(T=cf.dt('1965-12-16 12:00'))\n",
    "print g"
   ]
  },
  {
   "cell_type": "code",
   "execution_count": 24,
   "metadata": {
    "collapsed": false
   },
   "outputs": [
    {
     "name": "stdout",
     "output_type": "stream",
     "text": [
      "air_temperature field summary\n",
      "-----------------------------\n",
      "Data           : air_temperature(time(48), latitude(145), longitude(192)) K\n",
      "Cell methods   : time: mean (interval: 30 minutes)\n",
      "Axes           : height(1) = [2.0] m\n",
      "               : time(48) = [1965-12-16T12:00:00Z, ..., 1969-11-16T00:00:00Z] 365_day\n",
      "               : latitude(145) = [-90.0, ..., 90.0] degrees_north\n",
      "               : longitude(192) = [0.0, ..., 358.125] degrees_east\n",
      "\n"
     ]
    }
   ],
   "source": [
    "# Create a new field that containing only tall times after or including 1965-12-1\n",
    "# (use the cf.dt function inside the cf.ge function)\n",
    "g = f.subspace(T=cf.ge(cf.dt('1965-12-1')))\n",
    "print g"
   ]
  },
  {
   "cell_type": "code",
   "execution_count": 25,
   "metadata": {
    "collapsed": false
   },
   "outputs": [
    {
     "name": "stdout",
     "output_type": "stream",
     "text": [
      "[1959 1960 1961 1962 1963 1964 1965 1966 1967 1968 1969]\n"
     ]
    }
   ],
   "source": [
    "# Find all of the years wholly or partially spanned by the field\n",
    "# (use the unique method of the year attribute of the time coordinate object)\n",
    "years = f.coord('T').year.unique()\n",
    "print years.array"
   ]
  }
 ],
 "metadata": {
  "anaconda-cloud": {},
  "kernelspec": {
   "display_name": "Python [default]",
   "language": "python",
   "name": "python2"
  },
  "language_info": {
   "codemirror_mode": {
    "name": "ipython",
    "version": 2
   },
   "file_extension": ".py",
   "mimetype": "text/x-python",
   "name": "python",
   "nbconvert_exporter": "python",
   "pygments_lexer": "ipython2",
   "version": "2.7.12"
  }
 },
 "nbformat": 4,
 "nbformat_minor": 2
}
