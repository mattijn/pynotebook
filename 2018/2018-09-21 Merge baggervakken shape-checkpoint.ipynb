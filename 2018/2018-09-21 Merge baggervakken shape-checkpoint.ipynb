{
 "cells": [
  {
   "cell_type": "code",
   "execution_count": 1,
   "metadata": {
    "hideCode": false,
    "hidePrompt": false
   },
   "outputs": [],
   "source": [
    "import geopandas as gpd\n",
    "import shapely\n",
    "import glob\n",
    "\n",
    "from shapely.geometry import Polygon\n",
    "from shapely.ops import unary_union\n",
    "import pandas as pd\n",
    "import numpy as np\n",
    "%matplotlib inline"
   ]
  },
  {
   "cell_type": "code",
   "execution_count": 2,
   "metadata": {
    "hideCode": false,
    "hidePrompt": false
   },
   "outputs": [],
   "source": [
    "rd_string = (\"+proj=sterea +lat_0=52.15616055555555 +lon_0=5.38763888888889 \"\n",
    "             \"+k=0.999908 +x_0=155000 +y_0=463000 +ellps=bessel +units=m \"\n",
    "             \"+towgs84=565.2369,50.0087,465.658,-0.406857330322398,0.350732676542563,-1.8703473836068,4.0812 \"\n",
    "             \"+no_defs +no_defs\")"
   ]
  },
  {
   "cell_type": "code",
   "execution_count": 3,
   "metadata": {
    "hideCode": false,
    "hidePrompt": false
   },
   "outputs": [
    {
     "name": "stdout",
     "output_type": "stream",
     "text": [
      "['D:\\\\Projects\\\\Pr\\\\3317.30\\\\Toelevering\\\\20180918_update_baggervakken\\\\180905_Boontjes Vak 1-15\\\\180905_Boontjes Vak 1-15.shp'] 1\n"
     ]
    }
   ],
   "source": [
    "path = r'D:\\Projects\\Pr\\3317.30\\Toelevering\\20180918_update_baggervakken\\180905_Boontjes Vak 1-15'\n",
    "shp_files = glob.glob(r'{}\\**\\*.shp'.format(path), recursive=True)\n",
    "print(shp_files, len(shp_files))"
   ]
  },
  {
   "cell_type": "code",
   "execution_count": 4,
   "metadata": {},
   "outputs": [],
   "source": [
    "gdf_union = gpd.GeoDataFrame()"
   ]
  },
  {
   "cell_type": "code",
   "execution_count": 5,
   "metadata": {},
   "outputs": [],
   "source": [
    "gdf = gpd.read_file(shp_files[0])\n",
    "gdf.crs = rd_string"
   ]
  },
  {
   "cell_type": "code",
   "execution_count": 6,
   "metadata": {},
   "outputs": [],
   "source": [
    "polygons = []\n",
    "for geom in gdf['geometry']:\n",
    "    polygons.append(Polygon(geom))"
   ]
  },
  {
   "cell_type": "code",
   "execution_count": 10,
   "metadata": {},
   "outputs": [
    {
     "data": {
      "image/svg+xml": [
       "<svg xmlns=\"http://www.w3.org/2000/svg\" xmlns:xlink=\"http://www.w3.org/1999/xlink\" width=\"300\" height=\"300\" viewBox=\"153658.59159999999 569005.1256 2493.7368000000133 7757.8397999998415\" preserveAspectRatio=\"xMinYMin meet\"><g transform=\"matrix(1,0,0,-1,0,1145768.091)\"><polyline fill=\"none\" stroke=\"#66cc99\" stroke-width=\"51.718931999998944\" points=\"154109.486,569798.66 154146.083,569299.005 154045.40300000002,569292.453 154009.281,569789.614 153973.33,570284.421 153945.919,570661.6740000001 153973.671137364,570801.0862379039 154027.6511050606,571016.5478863365 154102.8321185656,571287.8356638824 154170.65222738538,571523.8991318245 154240.1652621862,571761.6130399415 154269.6908965812,571861.2208937015 154324.6161084067,572045.1125893855 154367.2597528099,572163.6493098618 154394.6829959105,572235.4198877041 154427.12133777118,572343.5932242804 154461.6520598158,572482.9530396183 154485.9218579018,572580.2857756858 154521.0382258463,572719.6052942995 154575.4619886121,572950.9221339768 154630.719022212,573205.7541625139 154672.0412410893,573420.5069803077 154748.9035754422,573697.0252419974 154759.1692011044,573735.7651229112 154769.6877083577,573780.9187778237 154793.390231524,573884.3280216989 154854.7620099642,574181.3255733468 154888.5129698118,574379.2146251879 154933.494,574672.15 155021.55,575166.243 155068.22699999998,575427.598 155211.859,575638.418 155491.833,576049.3580000002 155782.258,576475.6379999999 155865.001,576419.481 155573.62300000002,575991.802 155293.789,575581.067 155162.91,575388.965 155120.11110567956,575150.5301571579 155120.156,575150.5229999999 155031.784,574655.231 154986.50975130632,574359.3474438947 154952.8901689941,574162.8298659001 154893.128097895,573871.4890409504 154867.5618758259,573759.19562111 154845.6281761461,573671.9487780157 154768.7658417932,573395.276174171 154727.8539666383,573181.3573740893 154673.565365272,572931.0479920518 154617.2616207939,572691.6404440843 154581.9333790842,572551.5149164388 154557.4722111453,572454.4737155532 154523.0939840604,572315.3371209747 154491.0756234006,572208.8029501345 154417.5710969519,572007.9650372922 154335.455843626,571731.7351345228 154265.4072590845,571491.9053612875 154236.92087347098,571391.6507704614 154198.7835957114,571258.9450990104 154123.7443180669,570989.3102038846 154069.663622335,570772.127076518 154046.991,570651.8850000001 154073.396,570291.382 154109.486,569798.66\" opacity=\"0.8\" /></g></svg>"
      ],
      "text/plain": [
       "<shapely.geometry.linestring.LineString at 0x947b320>"
      ]
     },
     "execution_count": 10,
     "metadata": {},
     "output_type": "execute_result"
    }
   ],
   "source": [
    "un2 = unary_union(polygons)\n",
    "ls2 = shapely.geometry.LineString(un2.exterior)\n",
    "ls2"
   ]
  },
  {
   "cell_type": "code",
   "execution_count": 12,
   "metadata": {},
   "outputs": [
    {
     "data": {
      "text/html": [
       "<div>\n",
       "<style scoped>\n",
       "    .dataframe tbody tr th:only-of-type {\n",
       "        vertical-align: middle;\n",
       "    }\n",
       "\n",
       "    .dataframe tbody tr th {\n",
       "        vertical-align: top;\n",
       "    }\n",
       "\n",
       "    .dataframe thead th {\n",
       "        text-align: right;\n",
       "    }\n",
       "</style>\n",
       "<table border=\"1\" class=\"dataframe\">\n",
       "  <thead>\n",
       "    <tr style=\"text-align: right;\">\n",
       "      <th></th>\n",
       "    </tr>\n",
       "  </thead>\n",
       "  <tbody>\n",
       "    <tr>\n",
       "      <th>0</th>\n",
       "    </tr>\n",
       "  </tbody>\n",
       "</table>\n",
       "</div>"
      ],
      "text/plain": [
       "Empty GeoDataFrame\n",
       "Columns: []\n",
       "Index: [0]"
      ]
     },
     "execution_count": 12,
     "metadata": {},
     "output_type": "execute_result"
    }
   ],
   "source": [
    "gdf_union"
   ]
  },
  {
   "cell_type": "code",
   "execution_count": 15,
   "metadata": {},
   "outputs": [],
   "source": [
    "gdf_union.at[0, 'geometry'] = un2 # somehow doenst work directly with LineString, so set first with Polygon\n",
    "gdf_union.at[0, 'geometry'] = ls2 # once set, we can overwrite with LineString"
   ]
  },
  {
   "cell_type": "code",
   "execution_count": 16,
   "metadata": {},
   "outputs": [],
   "source": [
    "gdf_union.to_file(r'D:\\Projects\\Pr\\3317.30\\Werkfolder\\20180918_update_baggervakken/180905_Boontjes.shp')"
   ]
  }
 ],
 "metadata": {
  "celltoolbar": "Hide code",
  "hide_code_all_hidden": false,
  "kernelspec": {
   "display_name": "Python 3",
   "language": "python",
   "name": "python3"
  },
  "language_info": {
   "codemirror_mode": {
    "name": "ipython",
    "version": 3
   },
   "file_extension": ".py",
   "mimetype": "text/x-python",
   "name": "python",
   "nbconvert_exporter": "python",
   "pygments_lexer": "ipython3",
   "version": "3.6.5"
  }
 },
 "nbformat": 4,
 "nbformat_minor": 2
}
