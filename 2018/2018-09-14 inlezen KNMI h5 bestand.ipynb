{
 "cells": [
  {
   "cell_type": "code",
   "execution_count": 1,
   "metadata": {},
   "outputs": [],
   "source": [
    "from osgeo import gdal\n",
    "from osgeo import osr\n",
    "import h5py as h5py\n",
    "import json\n",
    "import numpy as np\n",
    "import matplotlib.pyplot as plt\n",
    "import os\n",
    "%matplotlib inline\n",
    "\n",
    "class NumpyEncoder(json.JSONEncoder):\n",
    "    def default(self, obj):\n",
    "        if isinstance(obj, np.ndarray):\n",
    "            return obj.tolist()\n",
    "        return json.JSONEncoder.default(self, obj)"
   ]
  },
  {
   "cell_type": "code",
   "execution_count": 2,
   "metadata": {},
   "outputs": [],
   "source": [
    "def create_tif(destName, array, fill_value, rows, cols, top_left_x, top_left_y, x_step, y_step, epsg, rotation=0):\n",
    "    \"\"\"\n",
    "    function to create tif file\n",
    "    \"\"\"\n",
    "    \n",
    "    # Create output tiff file.\n",
    "    # driver.Create() parameters are: output path, number of columns, number of rows,\n",
    "    # number of bands, data type\n",
    "    driver = gdal.GetDriverByName(\"GTiff\")\n",
    "    out_tif = driver.Create(destName, cols, rows, 1, gdal.GDT_Float32)\n",
    "\n",
    "    # Create Spatial Reference object and set GeoTIFF projection.\n",
    "    # This information may be found in either the data documentation or the netCDF file.\n",
    "    prj = osr.SpatialReference()\n",
    "    prj.ImportFromEPSG(epsg) # WGS84\n",
    "    out_tif.SetProjection(prj.ExportToWkt())\n",
    "\n",
    "    # Set GeoTransformation.\n",
    "    # This information may be found in either the data documentation, the netCDF file, or\n",
    "    # can be derived. For example, if you know the longitude range and number of columns\n",
    "    # you can calculate the x step as float(lon_range)/float(num_cols).\n",
    "    geotrans = [top_left_x, x_step, rotation, top_left_y, rotation, y_step]\n",
    "    out_tif.SetGeoTransform(geotrans)\n",
    "\n",
    "    # Finally we can write the array to the raster band.\n",
    "    out_band = out_tif.GetRasterBand(1)    \n",
    "    out_band.SetNoDataValue(fill_value)\n",
    "    out_band.WriteArray(array)\n",
    "\n",
    "    # Clear the memory and close the output file.\n",
    "    out_tif.FlushCache()\n",
    "    out_tif = None"
   ]
  },
  {
   "cell_type": "code",
   "execution_count": 3,
   "metadata": {},
   "outputs": [],
   "source": [
    "# open KNMI h5 file\n",
    "hdf_file = r'D:\\jupyter notebooks\\3717.30 KNMI H5 bestanden\\RAD_NL25_PCP_CM_201809140245.h5'\n",
    "dataset = h5py.File(hdf_file, 'r')"
   ]
  },
  {
   "cell_type": "markdown",
   "metadata": {},
   "source": [
    "Beschrijving van de mogelijke items in een KNMI HDF5 bestand:\n",
    "\n",
    "Bron: http://projects.knmi.nl/datacentrum/catalogus/catalogus/content/hdftag3-5.pdf\n",
    "\n",
    "____\n",
    "\n",
    "The following groups are the minimal required content of the KNMI HDF5 files.\n",
    "\n",
    "#### Overview group\n",
    "\n",
    "This group provides an overview of the dataset. It contains references, identifiers, a quicklook and fields describing the content of the file.\n",
    "\n",
    "#### Geographic group\n",
    "All information about the geographic reference of the dataset is placed in this group. This includes map projection and parameters used in this operation.\n",
    "\n",
    "#### Image group\n",
    "This group forms the core of a HDF5 image file. It contains most relevant image information. The\n",
    "image data (pixel values) itself and metadata about the image are placed in this group. There can be more than one image group in one HDF5 file. In the KNMI HDF5 implementation the following rules for the storage of multiple image-layers are defined: \n",
    "\n",
    "One HDF5 file can only contain multiple images (2D arrays) in case these images all have the same geographical properties (spatial resolution, area coverage and map projection). This implies that the images, stored in one HDF5 file, all have an equal number of pixel columns and rows.\n",
    "\n",
    "#### Radar group\n",
    "In this group, all relevant information regarding the radar systems is placed. This includes the position of the radar systems at the time of data capturing. Orbit prediction data are included here. Also descriptions of the on-board instruments/sensors can be placed here (e.g.spectral bands related to channels, etc.). If data of more than one satellite is included in the HDF5 file then more radar systems groups will be included in the file."
   ]
  },
  {
   "cell_type": "code",
   "execution_count": 4,
   "metadata": {},
   "outputs": [
    {
     "name": "stdout",
     "output_type": "stream",
     "text": [
      "geographic\n",
      "image1\n",
      "overview\n",
      "radar1\n",
      "radar2\n",
      "radar3\n",
      "visualisation1\n"
     ]
    }
   ],
   "source": [
    "# print the keys\n",
    "for key in dataset.keys():\n",
    "    print(key)"
   ]
  },
  {
   "cell_type": "code",
   "execution_count": 5,
   "metadata": {},
   "outputs": [
    {
     "name": "stdout",
     "output_type": "stream",
     "text": [
      "{\n",
      "  \"geographic\": {\n",
      "    \"geo_column_offset\": [\n",
      "      \"0.0\"\n",
      "    ],\n",
      "    \"geo_dim_pixel\": \"KM,KM\",\n",
      "    \"geo_number_columns\": [\n",
      "      \"700\"\n",
      "    ],\n",
      "    \"geo_number_rows\": [\n",
      "      \"765\"\n",
      "    ],\n",
      "    \"geo_par_pixel\": \"X,Y\",\n",
      "    \"geo_pixel_def\": \"LU\",\n",
      "    \"geo_pixel_size_x\": [\n",
      "      \"1.0000035\"\n",
      "    ],\n",
      "    \"geo_pixel_size_y\": [\n",
      "      \"-1.0000048\"\n",
      "    ],\n",
      "    \"geo_product_corners\": [\n",
      "      \"0.0\",\n",
      "      \"49.362064\",\n",
      "      \"0.0\",\n",
      "      \"55.973602\",\n",
      "      \"10.856453\",\n",
      "      \"55.388973\",\n",
      "      \"9.0093\",\n",
      "      \"48.8953\"\n",
      "    ],\n",
      "    \"geo_row_offset\": [\n",
      "      \"3649.982\"\n",
      "    ]\n",
      "  },\n",
      "  \"image1\": {\n",
      "    \"image_bytes_per_pixel\": [\n",
      "      \"1\"\n",
      "    ],\n",
      "    \"image_cloud_mask_applied\": \"1\",\n",
      "    \"image_geo_parameter\": \"REFLECTIVITY_\",\n",
      "    \"image_product_name\": \"RAD_NL25_PCP_\",\n",
      "    \"image_size\": [\n",
      "      \"535500\"\n",
      "    ]\n",
      "  },\n",
      "  \"overview\": {\n",
      "    \"hdftag_version_number\": \"3.6\",\n",
      "    \"number_image_groups\": [\n",
      "      \"1\"\n",
      "    ],\n",
      "    \"number_radar_groups\": [\n",
      "      \"3\"\n",
      "    ],\n",
      "    \"number_satellite_groups\": [\n",
      "      \"0\"\n",
      "    ],\n",
      "    \"number_station_groups\": [\n",
      "      \"0\"\n",
      "    ],\n",
      "    \"product_datetime_end\": \"14-SEP-2018;0\",\n",
      "    \"product_datetime_start\": \"14-SEP-2018;0\",\n",
      "    \"product_group_name\": \"RAD_NL25_PCP_\",\n",
      "    \"products_missing\": \"NA\"\n",
      "  },\n",
      "  \"radar1\": {\n",
      "    \"radar_location\": [\n",
      "      \"5.17834\",\n",
      "      \"52.10168\"\n",
      "    ],\n",
      "    \"radar_name\": \"DeBilt\",\n",
      "    \"radar_operational\": [\n",
      "      \"0\"\n",
      "    ]\n",
      "  },\n",
      "  \"radar2\": {\n",
      "    \"radar_location\": [\n",
      "      \"4.78997\",\n",
      "      \"52.95334\"\n",
      "    ],\n",
      "    \"radar_name\": \"DenHelder\",\n",
      "    \"radar_operational\": [\n",
      "      \"1\"\n",
      "    ]\n",
      "  },\n",
      "  \"radar3\": {\n",
      "    \"radar_location\": [\n",
      "      \"5.1381\",\n",
      "      \"51.8369\"\n",
      "    ],\n",
      "    \"radar_name\": \"Herwijnen\",\n",
      "    \"radar_operational\": [\n",
      "      \"1\"\n",
      "    ]\n",
      "  },\n",
      "  \"visualisation1\": {}\n",
      "}\n"
     ]
    }
   ],
   "source": [
    "# read all metadata from all key groups\n",
    "metadata = {}\n",
    "for key in dataset.keys():\n",
    "    metadata[key] = dict()\n",
    "    for attr_name in dataset[key].attrs:\n",
    "        # convert item to unicode\n",
    "        attr_item = dataset[key].attrs[attr_name].astype('U13')\n",
    "        # add to dictionary\n",
    "        metadata[key].update({attr_name: attr_item})\n",
    "\n",
    "# pretty print the metadata\n",
    "print(json.dumps(metadata, sort_keys=True, indent=2, cls=NumpyEncoder))        "
   ]
  },
  {
   "cell_type": "code",
   "execution_count": 6,
   "metadata": {},
   "outputs": [],
   "source": [
    "# undocumented fill_value, but retrieved from image\n",
    "fill_value = 255 # in other KNMI h5 files this has been the value 65535\n",
    "\n",
    "# get data\n",
    "precip = dataset['image1/image_data'][:]"
   ]
  },
  {
   "cell_type": "code",
   "execution_count": 7,
   "metadata": {},
   "outputs": [
    {
     "data": {
      "image/png": "[encoded data removed]",
      "text/plain": [
       "<Figure size 432x288 with 2 Axes>"
      ]
     },
     "metadata": {},
     "output_type": "display_data"
    }
   ],
   "source": [
    "# set fill value\n",
    "precip_ma = np.ma.masked_where(precip==fill_value, precip)\n",
    "\n",
    "im = plt.imshow(precip_ma, vmin=0, vmax=50)\n",
    "plt.colorbar(im)\n",
    "plt.show()"
   ]
  },
  {
   "cell_type": "markdown",
   "metadata": {},
   "source": [
    "#### Following describes how to save the array to EPSG:29882 geotiff"
   ]
  },
  {
   "cell_type": "code",
   "execution_count": 8,
   "metadata": {},
   "outputs": [],
   "source": [
    "# get array dimensions\n",
    "cols = int(metadata['geographic']['geo_number_columns'][0])\n",
    "rows = int(metadata['geographic']['geo_number_rows'][0])\n",
    "\n",
    "# get top-left coordinate + stepsize\n",
    "top_left_lon = float(metadata['geographic']['geo_product_corners'][0])\n",
    "top_left_lat = float(metadata['geographic']['geo_product_corners'][3])"
   ]
  },
  {
   "cell_type": "markdown",
   "metadata": {},
   "source": [
    "#### Definition of order of geo_product_corners\n",
    "(in Geographic group). The first corner is always the southwest corner. Then northwest, northeast and southeast. In earlier versions it was defined as lowerleft, upperleft, etc.\n",
    "\n",
    "[..]\n",
    "\n",
    "Latitude and longitude of each of the four product corners (starting with\n",
    "southwest corner and then clockwise)"
   ]
  },
  {
   "cell_type": "code",
   "execution_count": 11,
   "metadata": {},
   "outputs": [],
   "source": [
    "# strange file format, corners are defined in lat/lon, \n",
    "# while pixels are measured in kilometers\n",
    "# convert corner to RD (epsg:28992) so we can use pixel size from metadata\n",
    "prj_in = osr.SpatialReference() #spatial reference - from\n",
    "prj_in.ImportFromEPSG(4326) #wgs latlon\n",
    "prj_in.ExportToWkt()\n",
    "\n",
    "prj_out = osr.SpatialReference() #spatial reference - to\n",
    "prj_out.ImportFromEPSG(28992) #wgs utm 21S\n",
    "prj_out.ExportToWkt()\n",
    "\n",
    "prj_transform = osr.CoordinateTransformation(prj_in, prj_out)\n",
    "point_transform = prj_transform.TransformPoint(top_left_lon, top_left_lat)\n",
    "\n",
    "top_left_x = point_transform[0]\n",
    "top_left_y = point_transform[1]"
   ]
  },
  {
   "cell_type": "markdown",
   "metadata": {},
   "source": [
    "#### Definition of geo_dim_pixel\n",
    "Dimensions of image pixel size (horizontal,vertical) e.g. “KM,KM”"
   ]
  },
  {
   "cell_type": "code",
   "execution_count": null,
   "metadata": {},
   "outputs": [],
   "source": [
    "# raw pixel information from metadata is in KM\n",
    "# print(metadata['geopgraphic']['geo_dim_pixel'])\n",
    "x_step_raw = float(metadata['geographic']['geo_pixel_size_x'][0])\n",
    "y_step_raw = float(metadata['geographic']['geo_pixel_size_y'][0])\n",
    "rotation = 0\n",
    "\n",
    "# since epsg:28992 is measured in meters also convert pixel to meter\n",
    "x_step = x_step_raw * 1000\n",
    "y_step = y_step_raw * 1000"
   ]
  },
  {
   "cell_type": "code",
   "execution_count": null,
   "metadata": {},
   "outputs": [],
   "source": [
    "# create tmp file directory\n",
    "path_out = os.path.join(r'D:\\jupyter notebooks\\3717.30 KNMI H5 bestanden','RAD_NL25_PCP_CM_201809140245.tif')\n",
    "print('hdf as tif : {0}'.format(path_out))"
   ]
  },
  {
   "cell_type": "code",
   "execution_count": null,
   "metadata": {},
   "outputs": [],
   "source": [
    "# write to tif in epsg 28992 projection\n",
    "epsg = 28992\n",
    "create_tif(path_out, precip, fill_value, rows, cols, top_left_x, top_left_y, x_step, y_step, epsg=epsg)"
   ]
  },
  {
   "cell_type": "code",
   "execution_count": null,
   "metadata": {},
   "outputs": [],
   "source": []
  }
 ],
 "metadata": {
  "kernelspec": {
   "display_name": "Python 3",
   "language": "python",
   "name": "python3"
  },
  "language_info": {
   "codemirror_mode": {
    "name": "ipython",
    "version": 3
   },
   "file_extension": ".py",
   "mimetype": "text/x-python",
   "name": "python",
   "nbconvert_exporter": "python",
   "pygments_lexer": "ipython3",
   "version": "3.6.5"
  }
 },
 "nbformat": 4,
 "nbformat_minor": 2
}
