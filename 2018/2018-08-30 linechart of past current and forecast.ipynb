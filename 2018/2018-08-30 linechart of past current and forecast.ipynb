{
 "cells": [
  {
   "cell_type": "code",
   "execution_count": 15,
   "metadata": {},
   "outputs": [
    {
     "data": {
      "text/plain": [
       "DataTransformerRegistry.enable('csv')"
      ]
     },
     "execution_count": 15,
     "metadata": {},
     "output_type": "execute_result"
    }
   ],
   "source": [
    "import hkvfewspy as hkv\n",
    "from datetime import datetime, timedelta \n",
    "from dateutil.relativedelta import relativedelta\n",
    "import pandas as pd\n",
    "#import altair as alt\n",
    "import altair.vegalite.v3 as alt\n",
    "from hkvportal.io.services import dataportal as dp\n",
    "# parse data into Altair as json URL object\n",
    "alt.data_transformers.enable('csv')"
   ]
  },
  {
   "cell_type": "code",
   "execution_count": 16,
   "metadata": {},
   "outputs": [
    {
     "data": {
      "text/plain": [
       "'0.6.3'"
      ]
     },
     "execution_count": 16,
     "metadata": {},
     "output_type": "execute_result"
    }
   ],
   "source": [
    "hkv.__version__"
   ]
  },
  {
   "cell_type": "code",
   "execution_count": 17,
   "metadata": {},
   "outputs": [
    {
     "name": "stdout",
     "output_type": "stream",
     "text": [
      "2019-01-23 00:00:00 2019-05-02 00:00:00\n"
     ]
    }
   ],
   "source": [
    "date_to = datetime.now() + timedelta(days=9)\n",
    "date_to = date_to.replace(hour=0, minute=0, second=0, microsecond=0)\n",
    "\n",
    "date_from = datetime.now() - relativedelta(months=3)\n",
    "date_from = date_from.replace(hour=0, minute=0, second=0, microsecond=0)\n",
    "\n",
    "print(date_from, date_to)"
   ]
  },
  {
   "cell_type": "code",
   "execution_count": 4,
   "metadata": {},
   "outputs": [],
   "source": [
    "pi = hkv.Pi()\n",
    "pi.setClient(wsdl='http://www.oms-waddenzee.nl:8081/FewsPiService/fewspiservice?wsdl')"
   ]
  },
  {
   "cell_type": "code",
   "execution_count": 5,
   "metadata": {},
   "outputs": [],
   "source": [
    "# create query forecast data\n",
    "query = pi.setQueryParameters(prefill_defaults=True)\n",
    "query.parameterIds(['m3.minDepth.cut.f', 'm3.minDepth.cut'])\n",
    "query.startTime(date_from)\n",
    "query.endTime(date_to)\n",
    "query.clientTimeZone('Etc/GMT-1')\n",
    "# get as dataFrame\n",
    "df = pi.getTimeSeries(queryParameters=query, setFormat='df')\n",
    "# reset dataframe\n",
    "df.reset_index(inplace=True)"
   ]
  },
  {
   "cell_type": "code",
   "execution_count": 6,
   "metadata": {},
   "outputs": [],
   "source": [
    "# set noData value\n",
    "df.loc[df['value'] == -999.,'value'] = pd.np.nan\n",
    "#df.loc[df['value'] == 0.,'value'] = pd.np.nan"
   ]
  },
  {
   "cell_type": "code",
   "execution_count": 7,
   "metadata": {},
   "outputs": [],
   "source": [
    "df = df[['date','parameterId','locationId','stationName','value']]\n",
    "#df.head()"
   ]
  },
  {
   "cell_type": "code",
   "execution_count": 8,
   "metadata": {},
   "outputs": [
    {
     "name": "stderr",
     "output_type": "stream",
     "text": [
      "c:\\programdata\\miniconda3\\lib\\site-packages\\ipykernel_launcher.py:1: SettingWithCopyWarning: \n",
      "A value is trying to be set on a copy of a slice from a DataFrame.\n",
      "Try using .loc[row_indexer,col_indexer] = value instead\n",
      "\n",
      "See the caveats in the documentation: http://pandas.pydata.org/pandas-docs/stable/indexing.html#indexing-view-versus-copy\n",
      "  \"\"\"Entry point for launching an IPython kernel.\n",
      "c:\\programdata\\miniconda3\\lib\\site-packages\\ipykernel_launcher.py:2: SettingWithCopyWarning: \n",
      "A value is trying to be set on a copy of a slice from a DataFrame.\n",
      "Try using .loc[row_indexer,col_indexer] = value instead\n",
      "\n",
      "See the caveats in the documentation: http://pandas.pydata.org/pandas-docs/stable/indexing.html#indexing-view-versus-copy\n",
      "  \n"
     ]
    }
   ],
   "source": [
    "df['parameterId'] = df['parameterId'].str.replace('m3.minDepth.cut.f', 'Voorspelde volumes')\n",
    "df['parameterId'] = df['parameterId'].str.replace('m3.minDepth.cut', 'Actuele volumes')"
   ]
  },
  {
   "cell_type": "code",
   "execution_count": 9,
   "metadata": {},
   "outputs": [],
   "source": [
    "stations = df.stationName.unique().tolist()\n",
    "parameters = df.parameterId.unique().tolist()"
   ]
  },
  {
   "cell_type": "code",
   "execution_count": 10,
   "metadata": {},
   "outputs": [
    {
     "name": "stderr",
     "output_type": "stream",
     "text": [
      "c:\\programdata\\miniconda3\\lib\\site-packages\\pandas\\core\\indexing.py:543: SettingWithCopyWarning: \n",
      "A value is trying to be set on a copy of a slice from a DataFrame.\n",
      "Try using .loc[row_indexer,col_indexer] = value instead\n",
      "\n",
      "See the caveats in the documentation: http://pandas.pydata.org/pandas-docs/stable/indexing.html#indexing-view-versus-copy\n",
      "  self.obj[item] = s\n",
      "c:\\programdata\\miniconda3\\lib\\site-packages\\ipykernel_launcher.py:15: SettingWithCopyWarning: \n",
      "A value is trying to be set on a copy of a slice from a DataFrame\n",
      "\n",
      "See the caveats in the documentation: http://pandas.pydata.org/pandas-docs/stable/indexing.html#indexing-view-versus-copy\n",
      "  from ipykernel import kernelapp as app\n"
     ]
    }
   ],
   "source": [
    "for parameter in ['Voorspelde volumes']:#parameters:\n",
    "    for station in stations:\n",
    "        sel = df[(df['parameterId']==parameter) & (df['stationName']==station)]#['value']\n",
    "        sel1d = sel.value.diff(1)\n",
    "        slice_idx = sel1d.index[sel1d != 0].tolist()  \n",
    "        if parameter == 'Voorspelde volumes':\n",
    "            g = sel1d\n",
    "            #print(station, g.tail(3))\n",
    "            slice_idx.append(sel1d.index[-2])\n",
    "        slice_idx = list(sorted(set(slice_idx)))\n",
    "        slice_idx            \n",
    "        \n",
    "        df.loc[(df['parameterId']==parameter) & (df['stationName']==station),'value'] = df.iloc[slice_idx]\n",
    "df.loc[(df['value'] == 0.) & (df['parameterId'] == 'Actuele volumes'), 'value'] = pd.np.nan\n",
    "df.dropna(inplace=True)        "
   ]
  },
  {
   "cell_type": "code",
   "execution_count": 11,
   "metadata": {},
   "outputs": [],
   "source": [
    "#df.shape"
   ]
  },
  {
   "cell_type": "code",
   "execution_count": 18,
   "metadata": {},
   "outputs": [],
   "source": [
    "#df['stationName'].unique().tolist()"
   ]
  },
  {
   "cell_type": "code",
   "execution_count": 21,
   "metadata": {},
   "outputs": [
    {
     "data": {
      "application/vnd.vegalite.v3+json": {
       "$schema": "https://vega.github.io/schema/vega-lite/v3.2.1.json",
       "config": {
        "view": {
         "height": 300,
         "width": 400
        }
       },
       "data": {
        "format": {
         "type": "csv"
        },
        "url": "altair-data-a0fda3405e99dc8b42a732ffbc6a267a.csv"
       },
       "height": 300,
       "layer": [
        {
         "encoding": {
          "color": {
           "field": "parameterId",
           "legend": {
            "title": "Cut tov NGD (m³)"
           },
           "type": "nominal"
          },
          "tooltip": [
           {
            "field": "stationName",
            "type": "nominal"
           },
           {
            "field": "value",
            "type": "quantitative"
           },
           {
            "field": "date",
            "format": "%A, %B %e",
            "type": "temporal"
           }
          ],
          "x": {
           "field": "date",
           "type": "temporal"
          },
          "y": {
           "field": "value",
           "scale": {
            "zero": false
           },
           "title": "volume (m³)",
           "type": "quantitative"
          }
         },
         "mark": {
          "interpolate": "step-before",
          "opacity": 0.3,
          "type": "area"
         },
         "selection": {
          "location": {
           "bind": {
            "input": "select",
            "options": [
             "Den Helder - Texel, Vaarweg",
             "Den Helder veerhaven, Vak A",
             "Den Helder veerhaven, Vak B",
             "Den Helder veerhaven, Vak C",
             "Texel veerhaven, Vak A",
             "Texel veerhaven, Vak B",
             "Texel veerhaven, Vak C",
             "Texel veerhaven, Vak D",
             "Texel veerhaven, Vak E",
             "Visjagersgaatje",
             "Den Helder - Den Oever, Visjagersgaatje -Den Oever",
             "Den Oever, Toegangsgeul",
             "Den Oever, Buitenhaven",
             "Den Oever, Noorderhaven",
             "Den Oever, Waddenhaven",
             "Den Oever, Vissershaven",
             "Kornwerderzand, Toegangsgeul",
             "Boontjes",
             "Slenk",
             "Harlingen - Terschelling, Schuitengat",
             "Pollendam",
             "Harlingen - Noordzee, Pollendam",
             "Harlingen - Noordzee, Blauwe Slenk",
             "Blauwe Slenk",
             "Pannengat",
             "Holwerd - VA25",
             "VA4 - VA6",
             "VA9 - VA13",
             "Reegeul",
             "Holwerd, Veerdienst deel",
             "Holwerd, Rijkssteiger",
             "Holwerd, Westkant",
             "Nes, Veerdienst deel",
             "Nes, Voormalige rijkssteiger",
             "Nes, Oostkant",
             "Holwerd - Ameland, VA13 - VA25",
             "Holwerd - Ameland, VA4 - Reegeul",
             "Ballumerbocht, Loswal",
             "Ballumerbocht, Vaargeul",
             "Glinder",
             "Glinder - Groote Siege",
             "Groote Siege",
             "Schiermonnikoog, Veerdienst deel zuid",
             "Schiermonnikoog, Veerdienst deel noord",
             "Schiermonnikoog, Noordkant KNRM Ponton",
             "Lauwersoog, Veerdienst deel",
             "Schiermonnikoog, Zuidkant Veerdam KNRM",
             "Texel veerhaven, Vak F",
             "Den Helder - Noordzee",
             "Den Helder - Den Oever, Malzwin",
             "Den Helder - Kornwerderzand, Texelstroom",
             "Den Helder - Kornwerderzand, Doove Balg",
             "Den Helder - Kornwerderzand, Gedeelte van Boontjes",
             "Kornwerderzand - Harlingen, Zuid",
             "Kornwerderzand - Harlingen, Noord",
             "Harlingen - Terschelling, Westmeep - Noordmeep",
             "Terschelling, Jachthaven",
             "Terschelling, Veerkade",
             "Vliesloot",
             "Harlingen - Vlieland, Zuiderstortemelk",
             "Harlingen - Vlieland, Vliesloot",
             "Vlieland, Veerdienst deel",
             "Vlieland, Sneldienst deel",
             "Vlieland, Jachthaven",
             "Vlieland, Voormalige werkhaven",
             "Harlingen - Noordzee, Vliestroom",
             "Harlingen - Noordzee, Stortemelk",
             "Nes, Toegangsgeul",
             "Nes, Jachthaven Nes Ameland",
             "Holwerd - Ameland, VA9 - VA6",
             "Ameland - Noordzee",
             "Lauwersoog - Glinder",
             "Schiermonnikoog, Jachthaven",
             "Lauwersoog, Toegangsgeul",
             "Lauwersoog, Visserijhaven",
             "Lauwersoog - Noordzee",
             "Haven Noordpolderzijl, Havendeel",
             "Schanskerdiep"
            ]
           },
           "fields": [
            "stationName"
           ],
           "init": {
            "stationName": "Holwerd - Ameland, VA13 - VA25"
           },
           "type": "single"
          }
         },
         "transform": [
          {
           "filter": {
            "selection": "location"
           }
          }
         ]
        },
        {
         "encoding": {
          "opacity": {
           "value": 0
          },
          "x": {
           "field": "date",
           "type": "temporal"
          }
         },
         "mark": "point",
         "selection": {
          "nearest": {
           "empty": "none",
           "fields": [
            "date"
           ],
           "nearest": true,
           "on": "mouseover",
           "type": "single"
          }
         },
         "transform": [
          {
           "filter": {
            "selection": "location"
           }
          }
         ]
        },
        {
         "encoding": {
          "color": {
           "field": "parameterId",
           "legend": {
            "title": "Cut tov NGD (m³)"
           },
           "type": "nominal"
          },
          "opacity": {
           "condition": {
            "selection": "nearest",
            "value": 1
           },
           "value": 0
          },
          "tooltip": [
           {
            "field": "stationName",
            "type": "nominal"
           },
           {
            "field": "value",
            "type": "quantitative"
           },
           {
            "field": "date",
            "format": "%A, %B %e",
            "type": "temporal"
           }
          ],
          "x": {
           "field": "date",
           "type": "temporal"
          },
          "y": {
           "field": "value",
           "scale": {
            "zero": false
           },
           "title": "volume (m³)",
           "type": "quantitative"
          }
         },
         "mark": "point",
         "transform": [
          {
           "filter": {
            "selection": "location"
           }
          }
         ]
        },
        {
         "encoding": {
          "x": {
           "field": "date",
           "type": "temporal"
          }
         },
         "mark": {
          "color": "gray",
          "type": "rule"
         },
         "transform": [
          {
           "filter": {
            "selection": "nearest"
           }
          }
         ]
        },
        {
         "encoding": {
          "color": {
           "field": "parameterId",
           "legend": {
            "title": "Cut tov NGD (m³)"
           },
           "type": "nominal"
          },
          "text": {
           "condition": {
            "field": "value",
            "selection": "nearest",
            "type": "quantitative"
           },
           "value": " "
          },
          "tooltip": [
           {
            "field": "stationName",
            "type": "nominal"
           },
           {
            "field": "value",
            "type": "quantitative"
           },
           {
            "field": "date",
            "format": "%A, %B %e",
            "type": "temporal"
           }
          ],
          "x": {
           "field": "date",
           "type": "temporal"
          },
          "y": {
           "field": "value",
           "scale": {
            "zero": false
           },
           "title": "volume (m³)",
           "type": "quantitative"
          }
         },
         "mark": {
          "align": "left",
          "dx": 5,
          "dy": -5,
          "type": "text"
         },
         "transform": [
          {
           "filter": {
            "selection": "location"
           }
          }
         ]
        }
       ],
       "width": 600
      },
      "image/png": "[encoded data removed]",
      "text/plain": [
       "<VegaLite 3 object>\n",
       "\n",
       "If you see this message, it means the renderer has not been properly enabled\n",
       "for the frontend that you are using. For more information, see\n",
       "https://altair-viz.github.io/user_guide/troubleshooting.html\n"
      ]
     },
     "execution_count": 21,
     "metadata": {},
     "output_type": "execute_result"
    }
   ],
   "source": [
    "# CHART\n",
    "rangeStep = 8\n",
    "totalWith = rangeStep * len(df.date.unique())\n",
    "\n",
    "# inlcude dropdown filter\n",
    "loc_dropdown = alt.binding_select(options=df['stationName'].unique().tolist())\n",
    "loc_select = alt.selection_single(fields=['stationName'], bind=loc_dropdown, name='location', init={\"stationName\": \"Holwerd - Ameland, VA13 - VA25\"})\n",
    "\n",
    "line = alt.Chart().mark_area(opacity=0.3, interpolate='step-before').encode(\n",
    "    x='date',\n",
    "    y=alt.Y(field='value', type='quantitative', scale=alt.Scale(zero=False), title='volume (m³)'),\n",
    "    color=alt.Color('parameterId', legend=alt.Legend(title=\"Cut tov NGD (m³)\")),\n",
    "    tooltip=[alt.Tooltip('stationName:N'),\n",
    "             alt.Tooltip('value:Q'),\n",
    "             alt.Tooltip('date:T', format='%A, %B %e')]#['locationId', 'stationName', 'value', 'date']\n",
    ")\n",
    "\n",
    "# Create a selection that chooses the nearest point & selects based on x-value\n",
    "nearest = alt.selection_single(nearest=True, on='mouseover', fields=['date'], empty='none', name='nearest')\n",
    "\n",
    "# add interaction line\n",
    "# Transparent selectors across the chart. This is what tells us\n",
    "# the x-value of the cursor\n",
    "selectors = alt.Chart().mark_point().encode(\n",
    "    x='date',\n",
    "    opacity=alt.value(0),\n",
    ").add_selection(\n",
    "    nearest\n",
    ").transform_filter(loc_select)\n",
    "\n",
    "# Draw points on the line, and highlight based on selection\n",
    "points = line.mark_point().encode(\n",
    "    opacity=alt.condition(nearest, alt.value(1), alt.value(0))\n",
    ").transform_filter(loc_select)\n",
    "\n",
    "# Draw text labels near the points, and highlight based on selection\n",
    "text = line.mark_text(align='left', dx=5, dy=-5).encode(\n",
    "    text=alt.condition(nearest, 'value', alt.value(' '))\n",
    ").transform_filter(loc_select)\n",
    "\n",
    "# Draw a rule at the location of the selection\n",
    "rules = alt.Chart().mark_rule(color='gray').encode(\n",
    "    x='date',\n",
    ").transform_filter(nearest)\n",
    "\n",
    "lines = line.add_selection(loc_select).transform_filter(loc_select)\n",
    "\n",
    "# Put the five layers into a chart and bind the data\n",
    "alt.layer(lines, selectors, points, rules, text,\n",
    "          data=df, width=600, height=300)"
   ]
  },
  {
   "cell_type": "code",
   "execution_count": 22,
   "metadata": {},
   "outputs": [],
   "source": [
    "dp = dp()"
   ]
  },
  {
   "cell_type": "code",
   "execution_count": null,
   "metadata": {},
   "outputs": [],
   "source": []
  },
  {
   "cell_type": "code",
   "execution_count": 23,
   "metadata": {},
   "outputs": [
    {
     "name": "stdout",
     "output_type": "stream",
     "text": [
      "dataservice is set. https://dmws.hkvservices.nl/dataportal/ will be used as portal\n"
     ]
    }
   ],
   "source": [
    "#dp.setDataservice(dataservice = 'http://85.17.82.66/dataservices/')\n",
    "dp.setDataservice(dataservice = 'https://dmws.hkvservices.nl/dataportal/')"
   ]
  },
  {
   "cell_type": "code",
   "execution_count": 24,
   "metadata": {},
   "outputs": [
    {
     "data": {
      "text/plain": [
       "{'database': 'OMSWaddenzee',\n",
       " 'version': '0.2.0.0',\n",
       " 'date': '2019-04-23 13:09:17'}"
      ]
     },
     "execution_count": 24,
     "metadata": {},
     "output_type": "execute_result"
    }
   ],
   "source": [
    "dp.createDatabase(database='OMSWaddenzee')"
   ]
  },
  {
   "cell_type": "code",
   "execution_count": 25,
   "metadata": {},
   "outputs": [
    {
     "data": {
      "text/plain": [
       "{'id': 'c3c424bd-d01b-4080-9ab7-d52bf2ab1b7e',\n",
       " 'key': 'voorspelling',\n",
       " 'date': '2019-04-23 13:09:25'}"
      ]
     },
     "execution_count": 25,
     "metadata": {},
     "output_type": "execute_result"
    }
   ],
   "source": [
    "dp.setEntryDatabase(database = 'OMSWaddenzee', \n",
    "                    key = 'voorspelling', \n",
    "                    data = df.to_csv(index=False), \n",
    "                    description = 'voorspelling')"
   ]
  },
  {
   "cell_type": "code",
   "execution_count": 26,
   "metadata": {},
   "outputs": [
    {
     "name": "stdout",
     "output_type": "stream",
     "text": [
      "https://dmws.hkvservices.nl/dataportal/data.asmx/read?database=OMSWaddenzee&key=voorspelling\n"
     ]
    },
    {
     "ename": "JSONDecodeError",
     "evalue": "Expecting value: line 1 column 1 (char 0)",
     "output_type": "error",
     "traceback": [
      "\u001b[1;31m---------------------------------------------------------------------------\u001b[0m",
      "\u001b[1;31mJSONDecodeError\u001b[0m                           Traceback (most recent call last)",
      "\u001b[1;32m<ipython-input-26-d7f88e9871f1>\u001b[0m in \u001b[0;36m<module>\u001b[1;34m\u001b[0m\n\u001b[1;32m----> 1\u001b[1;33m \u001b[0mdp\u001b[0m\u001b[1;33m.\u001b[0m\u001b[0mgetEntryDatabase\u001b[0m\u001b[1;33m(\u001b[0m\u001b[0mdatabase\u001b[0m\u001b[1;33m=\u001b[0m\u001b[1;34m'OMSWaddenzee'\u001b[0m\u001b[1;33m,\u001b[0m \u001b[0mkey\u001b[0m\u001b[1;33m=\u001b[0m\u001b[1;34m'voorspelling'\u001b[0m\u001b[1;33m)\u001b[0m\u001b[1;33m\u001b[0m\u001b[0m\n\u001b[0m",
      "\u001b[1;32mc:\\programdata\\miniconda3\\lib\\site-packages\\hkvportal\\io\\services.py\u001b[0m in \u001b[0;36mgetEntryDatabase\u001b[1;34m(self, database, key)\u001b[0m\n\u001b[0;32m    152\u001b[0m         \u001b[0mprint\u001b[0m \u001b[1;33m(\u001b[0m\u001b[0murl\u001b[0m\u001b[1;33m)\u001b[0m\u001b[1;33m\u001b[0m\u001b[0m\n\u001b[0;32m    153\u001b[0m         \u001b[0mr\u001b[0m \u001b[1;33m=\u001b[0m \u001b[0mrequests\u001b[0m\u001b[1;33m.\u001b[0m\u001b[0mget\u001b[0m\u001b[1;33m(\u001b[0m\u001b[0murl\u001b[0m\u001b[1;33m)\u001b[0m\u001b[1;33m\u001b[0m\u001b[0m\n\u001b[1;32m--> 154\u001b[1;33m         \u001b[1;32mreturn\u001b[0m \u001b[0mr\u001b[0m\u001b[1;33m.\u001b[0m\u001b[0mjson\u001b[0m\u001b[1;33m(\u001b[0m\u001b[1;33m)\u001b[0m\u001b[1;33m\u001b[0m\u001b[0m\n\u001b[0m\u001b[0;32m    155\u001b[0m \u001b[1;33m\u001b[0m\u001b[0m\n\u001b[0;32m    156\u001b[0m     \u001b[1;32mdef\u001b[0m \u001b[0mdeleteEntryDatabase\u001b[0m\u001b[1;33m(\u001b[0m\u001b[0mself\u001b[0m\u001b[1;33m,\u001b[0m\u001b[0mdatabase\u001b[0m\u001b[1;33m,\u001b[0m \u001b[0mkey\u001b[0m\u001b[1;33m)\u001b[0m\u001b[1;33m:\u001b[0m\u001b[1;33m\u001b[0m\u001b[0m\n",
      "\u001b[1;32mc:\\programdata\\miniconda3\\lib\\site-packages\\requests\\models.py\u001b[0m in \u001b[0;36mjson\u001b[1;34m(self, **kwargs)\u001b[0m\n\u001b[0;32m    890\u001b[0m                     \u001b[1;31m# used.\u001b[0m\u001b[1;33m\u001b[0m\u001b[1;33m\u001b[0m\u001b[0m\n\u001b[0;32m    891\u001b[0m                     \u001b[1;32mpass\u001b[0m\u001b[1;33m\u001b[0m\u001b[0m\n\u001b[1;32m--> 892\u001b[1;33m         \u001b[1;32mreturn\u001b[0m \u001b[0mcomplexjson\u001b[0m\u001b[1;33m.\u001b[0m\u001b[0mloads\u001b[0m\u001b[1;33m(\u001b[0m\u001b[0mself\u001b[0m\u001b[1;33m.\u001b[0m\u001b[0mtext\u001b[0m\u001b[1;33m,\u001b[0m \u001b[1;33m**\u001b[0m\u001b[0mkwargs\u001b[0m\u001b[1;33m)\u001b[0m\u001b[1;33m\u001b[0m\u001b[0m\n\u001b[0m\u001b[0;32m    893\u001b[0m \u001b[1;33m\u001b[0m\u001b[0m\n\u001b[0;32m    894\u001b[0m     \u001b[1;33m@\u001b[0m\u001b[0mproperty\u001b[0m\u001b[1;33m\u001b[0m\u001b[0m\n",
      "\u001b[1;32mc:\\programdata\\miniconda3\\lib\\site-packages\\simplejson\\__init__.py\u001b[0m in \u001b[0;36mloads\u001b[1;34m(s, encoding, cls, object_hook, parse_float, parse_int, parse_constant, object_pairs_hook, use_decimal, **kw)\u001b[0m\n\u001b[0;32m    516\u001b[0m             \u001b[0mparse_constant\u001b[0m \u001b[1;32mis\u001b[0m \u001b[1;32mNone\u001b[0m \u001b[1;32mand\u001b[0m \u001b[0mobject_pairs_hook\u001b[0m \u001b[1;32mis\u001b[0m \u001b[1;32mNone\u001b[0m\u001b[1;33m\u001b[0m\u001b[0m\n\u001b[0;32m    517\u001b[0m             and not use_decimal and not kw):\n\u001b[1;32m--> 518\u001b[1;33m         \u001b[1;32mreturn\u001b[0m \u001b[0m_default_decoder\u001b[0m\u001b[1;33m.\u001b[0m\u001b[0mdecode\u001b[0m\u001b[1;33m(\u001b[0m\u001b[0ms\u001b[0m\u001b[1;33m)\u001b[0m\u001b[1;33m\u001b[0m\u001b[0m\n\u001b[0m\u001b[0;32m    519\u001b[0m     \u001b[1;32mif\u001b[0m \u001b[0mcls\u001b[0m \u001b[1;32mis\u001b[0m \u001b[1;32mNone\u001b[0m\u001b[1;33m:\u001b[0m\u001b[1;33m\u001b[0m\u001b[0m\n\u001b[0;32m    520\u001b[0m         \u001b[0mcls\u001b[0m \u001b[1;33m=\u001b[0m \u001b[0mJSONDecoder\u001b[0m\u001b[1;33m\u001b[0m\u001b[0m\n",
      "\u001b[1;32mc:\\programdata\\miniconda3\\lib\\site-packages\\simplejson\\decoder.py\u001b[0m in \u001b[0;36mdecode\u001b[1;34m(self, s, _w, _PY3)\u001b[0m\n\u001b[0;32m    368\u001b[0m         \u001b[1;32mif\u001b[0m \u001b[0m_PY3\u001b[0m \u001b[1;32mand\u001b[0m \u001b[0misinstance\u001b[0m\u001b[1;33m(\u001b[0m\u001b[0ms\u001b[0m\u001b[1;33m,\u001b[0m \u001b[0mbytes\u001b[0m\u001b[1;33m)\u001b[0m\u001b[1;33m:\u001b[0m\u001b[1;33m\u001b[0m\u001b[0m\n\u001b[0;32m    369\u001b[0m             \u001b[0ms\u001b[0m \u001b[1;33m=\u001b[0m \u001b[0mstr\u001b[0m\u001b[1;33m(\u001b[0m\u001b[0ms\u001b[0m\u001b[1;33m,\u001b[0m \u001b[0mself\u001b[0m\u001b[1;33m.\u001b[0m\u001b[0mencoding\u001b[0m\u001b[1;33m)\u001b[0m\u001b[1;33m\u001b[0m\u001b[0m\n\u001b[1;32m--> 370\u001b[1;33m         \u001b[0mobj\u001b[0m\u001b[1;33m,\u001b[0m \u001b[0mend\u001b[0m \u001b[1;33m=\u001b[0m \u001b[0mself\u001b[0m\u001b[1;33m.\u001b[0m\u001b[0mraw_decode\u001b[0m\u001b[1;33m(\u001b[0m\u001b[0ms\u001b[0m\u001b[1;33m)\u001b[0m\u001b[1;33m\u001b[0m\u001b[0m\n\u001b[0m\u001b[0;32m    371\u001b[0m         \u001b[0mend\u001b[0m \u001b[1;33m=\u001b[0m \u001b[0m_w\u001b[0m\u001b[1;33m(\u001b[0m\u001b[0ms\u001b[0m\u001b[1;33m,\u001b[0m \u001b[0mend\u001b[0m\u001b[1;33m)\u001b[0m\u001b[1;33m.\u001b[0m\u001b[0mend\u001b[0m\u001b[1;33m(\u001b[0m\u001b[1;33m)\u001b[0m\u001b[1;33m\u001b[0m\u001b[0m\n\u001b[0;32m    372\u001b[0m         \u001b[1;32mif\u001b[0m \u001b[0mend\u001b[0m \u001b[1;33m!=\u001b[0m \u001b[0mlen\u001b[0m\u001b[1;33m(\u001b[0m\u001b[0ms\u001b[0m\u001b[1;33m)\u001b[0m\u001b[1;33m:\u001b[0m\u001b[1;33m\u001b[0m\u001b[0m\n",
      "\u001b[1;32mc:\\programdata\\miniconda3\\lib\\site-packages\\simplejson\\decoder.py\u001b[0m in \u001b[0;36mraw_decode\u001b[1;34m(self, s, idx, _w, _PY3)\u001b[0m\n\u001b[0;32m    398\u001b[0m             \u001b[1;32melif\u001b[0m \u001b[0mord0\u001b[0m \u001b[1;33m==\u001b[0m \u001b[1;36m0xef\u001b[0m \u001b[1;32mand\u001b[0m \u001b[0ms\u001b[0m\u001b[1;33m[\u001b[0m\u001b[0midx\u001b[0m\u001b[1;33m:\u001b[0m\u001b[0midx\u001b[0m \u001b[1;33m+\u001b[0m \u001b[1;36m3\u001b[0m\u001b[1;33m]\u001b[0m \u001b[1;33m==\u001b[0m \u001b[1;34m'\\xef\\xbb\\xbf'\u001b[0m\u001b[1;33m:\u001b[0m\u001b[1;33m\u001b[0m\u001b[0m\n\u001b[0;32m    399\u001b[0m                 \u001b[0midx\u001b[0m \u001b[1;33m+=\u001b[0m \u001b[1;36m3\u001b[0m\u001b[1;33m\u001b[0m\u001b[0m\n\u001b[1;32m--> 400\u001b[1;33m         \u001b[1;32mreturn\u001b[0m \u001b[0mself\u001b[0m\u001b[1;33m.\u001b[0m\u001b[0mscan_once\u001b[0m\u001b[1;33m(\u001b[0m\u001b[0ms\u001b[0m\u001b[1;33m,\u001b[0m \u001b[0midx\u001b[0m\u001b[1;33m=\u001b[0m\u001b[0m_w\u001b[0m\u001b[1;33m(\u001b[0m\u001b[0ms\u001b[0m\u001b[1;33m,\u001b[0m \u001b[0midx\u001b[0m\u001b[1;33m)\u001b[0m\u001b[1;33m.\u001b[0m\u001b[0mend\u001b[0m\u001b[1;33m(\u001b[0m\u001b[1;33m)\u001b[0m\u001b[1;33m)\u001b[0m\u001b[1;33m\u001b[0m\u001b[0m\n\u001b[0m",
      "\u001b[1;31mJSONDecodeError\u001b[0m: Expecting value: line 1 column 1 (char 0)"
     ]
    }
   ],
   "source": [
    "dp.getEntryDatabase(database='OMSWaddenzee', key='voorspelling')"
   ]
  },
  {
   "cell_type": "code",
   "execution_count": null,
   "metadata": {},
   "outputs": [],
   "source": []
  }
 ],
 "metadata": {
  "kernelspec": {
   "display_name": "Python 3",
   "language": "python",
   "name": "python3"
  },
  "language_info": {
   "codemirror_mode": {
    "name": "ipython",
    "version": 3
   },
   "file_extension": ".py",
   "mimetype": "text/x-python",
   "name": "python",
   "nbconvert_exporter": "python",
   "pygments_lexer": "ipython3",
   "version": "3.6.5"
  }
 },
 "nbformat": 4,
 "nbformat_minor": 4
}
