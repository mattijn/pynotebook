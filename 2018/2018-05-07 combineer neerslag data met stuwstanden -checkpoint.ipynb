{
 "cells": [
  {
   "cell_type": "code",
   "execution_count": 1,
   "metadata": {},
   "outputs": [],
   "source": [
    "import pandas as pd"
   ]
  },
  {
   "cell_type": "code",
   "execution_count": 2,
   "metadata": {},
   "outputs": [],
   "source": [
    "neerslag_csv = r'D:\\Projects\\RO\\0815.10 Data Challenge 2018\\Neerslag\\neerslag_mm_hr.csv'"
   ]
  },
  {
   "cell_type": "code",
   "execution_count": 11,
   "metadata": {},
   "outputs": [],
   "source": [
    "df = pd.read_csv(neerslag_csv)\n",
    "df.set_index('datetime', inplace=True)\n",
    "df.index = pd.to_datetime(df.index)"
   ]
  },
  {
   "cell_type": "code",
   "execution_count": 16,
   "metadata": {},
   "outputs": [
    {
     "data": {
      "text/html": [
       "<div>\n",
       "<style scoped>\n",
       "    .dataframe tbody tr th:only-of-type {\n",
       "        vertical-align: middle;\n",
       "    }\n",
       "\n",
       "    .dataframe tbody tr th {\n",
       "        vertical-align: top;\n",
       "    }\n",
       "\n",
       "    .dataframe thead th {\n",
       "        text-align: right;\n",
       "    }\n",
       "</style>\n",
       "<table border=\"1\" class=\"dataframe\">\n",
       "  <thead>\n",
       "    <tr style=\"text-align: right;\">\n",
       "      <th></th>\n",
       "      <th>LHA200</th>\n",
       "      <th>LHA202</th>\n",
       "      <th>LHA203</th>\n",
       "      <th>LHA216</th>\n",
       "      <th>LHA225</th>\n",
       "      <th>LHA251</th>\n",
       "      <th>LHA256</th>\n",
       "      <th>LHA273</th>\n",
       "      <th>LHA333</th>\n",
       "      <th>LHA334</th>\n",
       "      <th>LHA339</th>\n",
       "      <th>LHA342</th>\n",
       "    </tr>\n",
       "    <tr>\n",
       "      <th>datetime</th>\n",
       "      <th></th>\n",
       "      <th></th>\n",
       "      <th></th>\n",
       "      <th></th>\n",
       "      <th></th>\n",
       "      <th></th>\n",
       "      <th></th>\n",
       "      <th></th>\n",
       "      <th></th>\n",
       "      <th></th>\n",
       "      <th></th>\n",
       "      <th></th>\n",
       "    </tr>\n",
       "  </thead>\n",
       "  <tbody>\n",
       "    <tr>\n",
       "      <th>2017-12-31 20:00:00</th>\n",
       "      <td>NaN</td>\n",
       "      <td>NaN</td>\n",
       "      <td>NaN</td>\n",
       "      <td>NaN</td>\n",
       "      <td>NaN</td>\n",
       "      <td>NaN</td>\n",
       "      <td>NaN</td>\n",
       "      <td>NaN</td>\n",
       "      <td>0.3247</td>\n",
       "      <td>0.3224</td>\n",
       "      <td>0.4310</td>\n",
       "      <td>0.4115</td>\n",
       "    </tr>\n",
       "    <tr>\n",
       "      <th>2017-12-31 21:00:00</th>\n",
       "      <td>NaN</td>\n",
       "      <td>NaN</td>\n",
       "      <td>NaN</td>\n",
       "      <td>NaN</td>\n",
       "      <td>NaN</td>\n",
       "      <td>NaN</td>\n",
       "      <td>NaN</td>\n",
       "      <td>NaN</td>\n",
       "      <td>0.0000</td>\n",
       "      <td>0.0000</td>\n",
       "      <td>0.0000</td>\n",
       "      <td>0.0000</td>\n",
       "    </tr>\n",
       "    <tr>\n",
       "      <th>2017-12-31 22:00:00</th>\n",
       "      <td>NaN</td>\n",
       "      <td>NaN</td>\n",
       "      <td>NaN</td>\n",
       "      <td>NaN</td>\n",
       "      <td>NaN</td>\n",
       "      <td>NaN</td>\n",
       "      <td>NaN</td>\n",
       "      <td>NaN</td>\n",
       "      <td>0.0000</td>\n",
       "      <td>0.0000</td>\n",
       "      <td>0.0000</td>\n",
       "      <td>0.0000</td>\n",
       "    </tr>\n",
       "    <tr>\n",
       "      <th>2017-12-31 23:00:00</th>\n",
       "      <td>NaN</td>\n",
       "      <td>NaN</td>\n",
       "      <td>NaN</td>\n",
       "      <td>NaN</td>\n",
       "      <td>NaN</td>\n",
       "      <td>NaN</td>\n",
       "      <td>NaN</td>\n",
       "      <td>NaN</td>\n",
       "      <td>0.0000</td>\n",
       "      <td>0.1020</td>\n",
       "      <td>0.1214</td>\n",
       "      <td>0.1483</td>\n",
       "    </tr>\n",
       "    <tr>\n",
       "      <th>2018-01-01 00:00:00</th>\n",
       "      <td>NaN</td>\n",
       "      <td>NaN</td>\n",
       "      <td>NaN</td>\n",
       "      <td>NaN</td>\n",
       "      <td>NaN</td>\n",
       "      <td>NaN</td>\n",
       "      <td>NaN</td>\n",
       "      <td>NaN</td>\n",
       "      <td>0.0000</td>\n",
       "      <td>0.0000</td>\n",
       "      <td>0.0000</td>\n",
       "      <td>0.0000</td>\n",
       "    </tr>\n",
       "  </tbody>\n",
       "</table>\n",
       "</div>"
      ],
      "text/plain": [
       "                     LHA200  LHA202  LHA203  LHA216  LHA225  LHA251  LHA256  \\\n",
       "datetime                                                                      \n",
       "2017-12-31 20:00:00     NaN     NaN     NaN     NaN     NaN     NaN     NaN   \n",
       "2017-12-31 21:00:00     NaN     NaN     NaN     NaN     NaN     NaN     NaN   \n",
       "2017-12-31 22:00:00     NaN     NaN     NaN     NaN     NaN     NaN     NaN   \n",
       "2017-12-31 23:00:00     NaN     NaN     NaN     NaN     NaN     NaN     NaN   \n",
       "2018-01-01 00:00:00     NaN     NaN     NaN     NaN     NaN     NaN     NaN   \n",
       "\n",
       "                     LHA273  LHA333  LHA334  LHA339  LHA342  \n",
       "datetime                                                     \n",
       "2017-12-31 20:00:00     NaN  0.3247  0.3224  0.4310  0.4115  \n",
       "2017-12-31 21:00:00     NaN  0.0000  0.0000  0.0000  0.0000  \n",
       "2017-12-31 22:00:00     NaN  0.0000  0.0000  0.0000  0.0000  \n",
       "2017-12-31 23:00:00     NaN  0.0000  0.1020  0.1214  0.1483  \n",
       "2018-01-01 00:00:00     NaN  0.0000  0.0000  0.0000  0.0000  "
      ]
     },
     "execution_count": 16,
     "metadata": {},
     "output_type": "execute_result"
    }
   ],
   "source": [
    "df.tail()"
   ]
  },
  {
   "cell_type": "code",
   "execution_count": 184,
   "metadata": {},
   "outputs": [
    {
     "name": "stderr",
     "output_type": "stream",
     "text": [
      "c:\\python35\\lib\\site-packages\\ipykernel_launcher.py:1: FutureWarning: pd.TimeGrouper is deprecated and will be removed; Please use pd.Grouper(freq=...)\n",
      "  \"\"\"Entry point for launching an IPython kernel.\n"
     ]
    }
   ],
   "source": [
    "df_1H = df.groupby(pd.TimeGrouper('H')).sum()\n",
    "df_2H = df_1H.rolling(window = '2H').sum()\n",
    "df_6H = df_1H.rolling(window = '6H').sum()\n",
    "df_12H = df_1H.rolling(window = '12H').sum()\n",
    "df_24H = df_1H.rolling(window = '24H').sum()\n",
    "#df_36H = df_1H.rolling(window = '36H').sum()\n",
    "\n",
    "df_1H_FC = df_1H.shift(freq= pd.Timedelta('-1 hour'))\n",
    "df_2H_FC = df_2H.shift(freq= pd.Timedelta('-2 hour'))\n",
    "df_6H_FC = df_6H.shift(freq= pd.Timedelta('-6 hour'))"
   ]
  },
  {
   "cell_type": "code",
   "execution_count": 185,
   "metadata": {},
   "outputs": [],
   "source": [
    "from_date = '2015-08-30 18:00'\n",
    "to_date = '2015-08-31 08:00'\n",
    "peilvak = 'LHA251'"
   ]
  },
  {
   "cell_type": "code",
   "execution_count": 186,
   "metadata": {},
   "outputs": [
    {
     "data": {
      "image/png": "[encoded data removed]",
      "text/plain": [
       "<matplotlib.figure.Figure at 0x50f74400>"
      ]
     },
     "metadata": {},
     "output_type": "display_data"
    }
   ],
   "source": [
    "%matplotlib inline\n",
    "import matplotlib.pyplot as plt\n",
    "\n",
    "fig, axes = plt.subplots(nrows=9, ncols=1, figsize=(15,8))\n",
    "\n",
    "df_1H[from_date:to_date][peilvak].plot(kind='bar', ax=axes[0], title='last 1H sum', sharex=True)\n",
    "df_1H_FC[from_date:to_date][peilvak].plot(kind='bar', ax=axes[1], title='coming 1H sum')\n",
    "\n",
    "df_2H[from_date:to_date][peilvak].plot(kind='bar', ax=axes[2], title='last 2H sum')\n",
    "df_2H_FC[from_date:to_date][peilvak].plot(kind='bar', ax=axes[3], title='coming 2H sum')\n",
    "\n",
    "df_6H[from_date:to_date][peilvak].plot(kind='bar', ax=axes[4], title='last 6H sum')\n",
    "df_6H_FC[from_date:to_date][peilvak].plot(kind='bar', ax=axes[5], title='coming 6H sum')\n",
    "\n",
    "df_12H[from_date:to_date][peilvak].plot(kind='bar', ax=axes[6], title='last 12H sum')\n",
    "df_24H[from_date:to_date][peilvak].plot(kind='bar', ax=axes[7], title='last 24H sum')\n",
    "#df_36H[from_date:to_date][peilvak].plot(kind='bar', ax=axes[8], title='last 36H sum')\n",
    "for ax in axes:\n",
    "    for bar in ax.patches:\n",
    "        bar.set_facecolor('#888888')\n",
    "\n",
    "plt.tight_layout()\n",
    "plt.show()"
   ]
  },
  {
   "cell_type": "code",
   "execution_count": 187,
   "metadata": {},
   "outputs": [
    {
     "data": {
      "text/plain": [
       "Index(['LHA200', 'LHA202', 'LHA203', 'LHA216', 'LHA225', 'LHA251', 'LHA256',\n",
       "       'LHA273', 'LHA333', 'LHA334', 'LHA339', 'LHA342'],\n",
       "      dtype='object')"
      ]
     },
     "execution_count": 187,
     "metadata": {},
     "output_type": "execute_result"
    }
   ],
   "source": [
    "df.columns"
   ]
  },
  {
   "cell_type": "code",
   "execution_count": 188,
   "metadata": {},
   "outputs": [
    {
     "name": "stdout",
     "output_type": "stream",
     "text": [
      "LHA200\n",
      "LHA202\n",
      "LHA203\n",
      "LHA216\n",
      "LHA225\n",
      "LHA251\n",
      "LHA256\n",
      "LHA273\n",
      "LHA333\n",
      "LHA334\n",
      "LHA339\n",
      "LHA342\n"
     ]
    }
   ],
   "source": [
    "for peilvak in df.columns:\n",
    "    print(peilvak)"
   ]
  },
  {
   "cell_type": "code",
   "execution_count": 189,
   "metadata": {},
   "outputs": [],
   "source": [
    "comb_peilvak = pd.concat([df_1H[peilvak], df_2H[peilvak], df_6H[peilvak], df_12H[peilvak], df_24H[peilvak],\n",
    "                          df_1H_FC[peilvak], df_2H_FC[peilvak], df_6H_FC[peilvak], ], axis=1)\n",
    "comb_peilvak.columns = ['X.last1Hsum', 'X.last2Hsum', 'X.last6Hsum','X.last12sum', \n",
    "                        'X.last24sum', 'X.coming1Hsum', 'X.coming2Hsum', 'X.coming6Hsum']"
   ]
  },
  {
   "cell_type": "code",
   "execution_count": 190,
   "metadata": {},
   "outputs": [
    {
     "data": {
      "text/plain": [
       "DatetimeIndex(['2015-08-30 18:00:00', '2015-08-30 19:00:00',\n",
       "               '2015-08-30 20:00:00', '2015-08-30 21:00:00',\n",
       "               '2015-08-30 22:00:00', '2015-08-30 23:00:00',\n",
       "               '2015-08-31 00:00:00', '2015-08-31 01:00:00',\n",
       "               '2015-08-31 02:00:00', '2015-08-31 03:00:00',\n",
       "               '2015-08-31 04:00:00', '2015-08-31 05:00:00',\n",
       "               '2015-08-31 06:00:00', '2015-08-31 07:00:00',\n",
       "               '2015-08-31 08:00:00'],\n",
       "              dtype='datetime64[ns]', name='datetime', freq='H')"
      ]
     },
     "execution_count": 190,
     "metadata": {},
     "output_type": "execute_result"
    }
   ],
   "source": [
    "comb_peilvak[from_date:to_date].index"
   ]
  },
  {
   "cell_type": "code",
   "execution_count": 191,
   "metadata": {},
   "outputs": [],
   "source": [
    "# fig, ax = plt.subplots()\n",
    "# ax2 = ax.twinx()\n",
    "\n",
    "# ax.bar(comb_peilvak[from_date:to_date].index, comb_peilvak[from_date:to_date])\n",
    "# ax2.plot(df_stuw[from_date:to_date]['peilvak.74'].index, df_stuw[from_date:to_date]['peilvak.74'])#, color='green', label='Hold')\n",
    "# ax.set_xticklabels(df_stuw[from_date:to_date]['peilvak.74'].index)\n",
    "# ax.legend(loc='best')\n",
    "\n",
    "\n",
    "# # neerslag\n",
    "# #ax = comb_peilvak[from_date:to_date].plot(kind='bar', figsize=(16,5))\n",
    "\n",
    "# # stuwdata\n",
    "# #df_stuw[from_date:to_date]['peilvak.74'].plot(kind='line', figsize=(16,5), ax=ax)"
   ]
  },
  {
   "cell_type": "code",
   "execution_count": 192,
   "metadata": {},
   "outputs": [],
   "source": [
    "stuw_csv = r'D:\\Projects\\RO\\0815.10 Data Challenge 2018\\Neerslag\\stuw_standen_peilvak.csv'"
   ]
  },
  {
   "cell_type": "code",
   "execution_count": 193,
   "metadata": {},
   "outputs": [],
   "source": [
    "df_stuw = pd.read_csv(stuw_csv)\n",
    "df_stuw.set_index('datetime', inplace=True)\n",
    "df_stuw.index = pd.to_datetime(df_stuw.index)\n",
    "df_stuw = df_stuw.resample('H').mean()"
   ]
  },
  {
   "cell_type": "code",
   "execution_count": 194,
   "metadata": {},
   "outputs": [],
   "source": [
    "df_Y_waterlevel = df_stuw['peilvak.74']\n",
    "df_Y_waterlevel.rename('Y.waterlevel', inplace=True)\n",
    "df_comb = pd.concat((comb_peilvak, df_Y_waterlevel), axis=1, join='inner')"
   ]
  },
  {
   "cell_type": "code",
   "execution_count": 195,
   "metadata": {},
   "outputs": [],
   "source": [
    "df_comb[df_comb < 0] = 0"
   ]
  },
  {
   "cell_type": "code",
   "execution_count": 196,
   "metadata": {},
   "outputs": [
    {
     "data": {
      "image/png": "[encoded data removed]",
      "text/plain": [
       "<matplotlib.figure.Figure at 0x1b77c7b8>"
      ]
     },
     "metadata": {},
     "output_type": "display_data"
    },
    {
     "data": {
      "text/plain": [
       "<matplotlib.axes._subplots.AxesSubplot at 0x48d58320>"
      ]
     },
     "execution_count": 196,
     "metadata": {},
     "output_type": "execute_result"
    },
    {
     "data": {
      "image/png": "[encoded data removed]",
      "text/plain": [
       "<matplotlib.figure.Figure at 0x466161d0>"
      ]
     },
     "metadata": {},
     "output_type": "display_data"
    }
   ],
   "source": [
    "from_date = '2015-08-28 18:00'\n",
    "to_date = '2015-09-02 08:00'\n",
    "\n",
    "df_comb[from_date:to_date][df_comb.columns.difference(['Y.waterlevel'])].plot(kind='area', figsize=(14,3), alpha=0.5)\n",
    "plt.show()\n",
    "df_comb[from_date:to_date]['Y.waterlevel'].plot(kind='line', figsize=(14,3))"
   ]
  },
  {
   "cell_type": "code",
   "execution_count": 197,
   "metadata": {},
   "outputs": [
    {
     "data": {
      "text/html": [
       "<div>\n",
       "<style scoped>\n",
       "    .dataframe tbody tr th:only-of-type {\n",
       "        vertical-align: middle;\n",
       "    }\n",
       "\n",
       "    .dataframe tbody tr th {\n",
       "        vertical-align: top;\n",
       "    }\n",
       "\n",
       "    .dataframe thead th {\n",
       "        text-align: right;\n",
       "    }\n",
       "</style>\n",
       "<table border=\"1\" class=\"dataframe\">\n",
       "  <thead>\n",
       "    <tr style=\"text-align: right;\">\n",
       "      <th></th>\n",
       "      <th>X.last1Hsum</th>\n",
       "      <th>X.last2Hsum</th>\n",
       "      <th>X.last6Hsum</th>\n",
       "      <th>X.last12sum</th>\n",
       "      <th>X.last24sum</th>\n",
       "      <th>X.coming1Hsum</th>\n",
       "      <th>X.coming2Hsum</th>\n",
       "      <th>X.coming6Hsum</th>\n",
       "      <th>Y.waterlevel</th>\n",
       "    </tr>\n",
       "    <tr>\n",
       "      <th>datetime</th>\n",
       "      <th></th>\n",
       "      <th></th>\n",
       "      <th></th>\n",
       "      <th></th>\n",
       "      <th></th>\n",
       "      <th></th>\n",
       "      <th></th>\n",
       "      <th></th>\n",
       "      <th></th>\n",
       "    </tr>\n",
       "  </thead>\n",
       "  <tbody>\n",
       "    <tr>\n",
       "      <th>2010-01-01 00:00:00</th>\n",
       "      <td>NaN</td>\n",
       "      <td>NaN</td>\n",
       "      <td>NaN</td>\n",
       "      <td>NaN</td>\n",
       "      <td>NaN</td>\n",
       "      <td>NaN</td>\n",
       "      <td>NaN</td>\n",
       "      <td>NaN</td>\n",
       "      <td>NaN</td>\n",
       "    </tr>\n",
       "    <tr>\n",
       "      <th>2010-01-01 01:00:00</th>\n",
       "      <td>NaN</td>\n",
       "      <td>NaN</td>\n",
       "      <td>NaN</td>\n",
       "      <td>NaN</td>\n",
       "      <td>NaN</td>\n",
       "      <td>NaN</td>\n",
       "      <td>NaN</td>\n",
       "      <td>NaN</td>\n",
       "      <td>NaN</td>\n",
       "    </tr>\n",
       "    <tr>\n",
       "      <th>2010-01-01 02:00:00</th>\n",
       "      <td>NaN</td>\n",
       "      <td>NaN</td>\n",
       "      <td>NaN</td>\n",
       "      <td>NaN</td>\n",
       "      <td>NaN</td>\n",
       "      <td>NaN</td>\n",
       "      <td>NaN</td>\n",
       "      <td>NaN</td>\n",
       "      <td>NaN</td>\n",
       "    </tr>\n",
       "    <tr>\n",
       "      <th>2010-01-01 03:00:00</th>\n",
       "      <td>NaN</td>\n",
       "      <td>NaN</td>\n",
       "      <td>NaN</td>\n",
       "      <td>NaN</td>\n",
       "      <td>NaN</td>\n",
       "      <td>NaN</td>\n",
       "      <td>NaN</td>\n",
       "      <td>NaN</td>\n",
       "      <td>NaN</td>\n",
       "    </tr>\n",
       "    <tr>\n",
       "      <th>2010-01-01 04:00:00</th>\n",
       "      <td>NaN</td>\n",
       "      <td>NaN</td>\n",
       "      <td>NaN</td>\n",
       "      <td>NaN</td>\n",
       "      <td>NaN</td>\n",
       "      <td>NaN</td>\n",
       "      <td>NaN</td>\n",
       "      <td>NaN</td>\n",
       "      <td>NaN</td>\n",
       "    </tr>\n",
       "  </tbody>\n",
       "</table>\n",
       "</div>"
      ],
      "text/plain": [
       "                     X.last1Hsum  X.last2Hsum  X.last6Hsum  X.last12sum  \\\n",
       "datetime                                                                  \n",
       "2010-01-01 00:00:00          NaN          NaN          NaN          NaN   \n",
       "2010-01-01 01:00:00          NaN          NaN          NaN          NaN   \n",
       "2010-01-01 02:00:00          NaN          NaN          NaN          NaN   \n",
       "2010-01-01 03:00:00          NaN          NaN          NaN          NaN   \n",
       "2010-01-01 04:00:00          NaN          NaN          NaN          NaN   \n",
       "\n",
       "                     X.last24sum  X.coming1Hsum  X.coming2Hsum  X.coming6Hsum  \\\n",
       "datetime                                                                        \n",
       "2010-01-01 00:00:00          NaN            NaN            NaN            NaN   \n",
       "2010-01-01 01:00:00          NaN            NaN            NaN            NaN   \n",
       "2010-01-01 02:00:00          NaN            NaN            NaN            NaN   \n",
       "2010-01-01 03:00:00          NaN            NaN            NaN            NaN   \n",
       "2010-01-01 04:00:00          NaN            NaN            NaN            NaN   \n",
       "\n",
       "                     Y.waterlevel  \n",
       "datetime                           \n",
       "2010-01-01 00:00:00           NaN  \n",
       "2010-01-01 01:00:00           NaN  \n",
       "2010-01-01 02:00:00           NaN  \n",
       "2010-01-01 03:00:00           NaN  \n",
       "2010-01-01 04:00:00           NaN  "
      ]
     },
     "execution_count": 197,
     "metadata": {},
     "output_type": "execute_result"
    }
   ],
   "source": [
    "df_comb.head()"
   ]
  },
  {
   "cell_type": "code",
   "execution_count": 198,
   "metadata": {},
   "outputs": [],
   "source": [
    "pv_out_csv = r'D:\\Projects\\RO\\0815.10 Data Challenge 2018\\Neerslag//peilvak.74.csv'"
   ]
  },
  {
   "cell_type": "code",
   "execution_count": 199,
   "metadata": {},
   "outputs": [],
   "source": [
    "df_comb.to_csv(pv_out_csv)"
   ]
  },
  {
   "cell_type": "code",
   "execution_count": null,
   "metadata": {},
   "outputs": [],
   "source": []
  }
 ],
 "metadata": {
  "kernelspec": {
   "display_name": "Python 3",
   "language": "python",
   "name": "python3"
  },
  "language_info": {
   "codemirror_mode": {
    "name": "ipython",
    "version": 3
   },
   "file_extension": ".py",
   "mimetype": "text/x-python",
   "name": "python",
   "nbconvert_exporter": "python",
   "pygments_lexer": "ipython3",
   "version": "3.5.2"
  }
 },
 "nbformat": 4,
 "nbformat_minor": 2
}
