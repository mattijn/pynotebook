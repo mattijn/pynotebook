{
 "cells": [
  {
   "cell_type": "code",
   "execution_count": 4,
   "metadata": {},
   "outputs": [],
   "source": [
    "from datetime import datetime\n",
    "import cartopy.crs as ccrs\n",
    "import cartopy.feature as cfeature\n",
    "import matplotlib.pyplot as plt\n",
    "#from netCDF4 import num2date\n",
    "import numpy as np\n",
    "import pandas as pd\n",
    "import geopandas as gpd\n",
    "import shapely\n",
    "#from siphon.catalog import TDSCatalog\n",
    "from urllib.error import HTTPError\n",
    "%matplotlib inline"
   ]
  },
  {
   "cell_type": "code",
   "execution_count": 2,
   "metadata": {},
   "outputs": [],
   "source": [
    "def baggervak_to_current(path_shp, crs_string):\n",
    "    \"\"\"\n",
    "    function to get current valid baggervakken\n",
    "    also sets appropriate coordinates system\n",
    "    \"\"\"\n",
    "\n",
    "    gdf = gpd.read_file(path_shp)\n",
    "    gdf.crs = rd_string\n",
    "\n",
    "    # only get currently valid shapes\n",
    "    # get list of duplicates (both the first and last [and middles if available])\n",
    "    duplicates_all = gdf[gdf['OBJECTCODE'].duplicated(keep=False)]\n",
    "    for obj in duplicates_all['OBJECTCODE'].unique():\n",
    "        duplicates_single = duplicates_all.loc[duplicates_all['OBJECTCODE'] == obj]\n",
    "        rows2drop = duplicates_single.loc[duplicates_single['END']\n",
    "                                          != duplicates_single['END'].max()]\n",
    "        gdf.drop(rows2drop.index.tolist(), axis=0, inplace=True)\n",
    "    return gdf"
   ]
  },
  {
   "cell_type": "code",
   "execution_count": 3,
   "metadata": {},
   "outputs": [],
   "source": [
    "def discrete_cmap(N, base_cmap=None):\n",
    "    \"\"\"Create an N-bin discrete colormap from the specified input map\"\"\"\n",
    "\n",
    "    # Note that if base_cmap is a string or None, you can simply do\n",
    "    #    return plt.cm.get_cmap(base_cmap, N)\n",
    "    # The following works for string, None, or a colormap instance:\n",
    "\n",
    "    base = plt.cm.get_cmap(base_cmap)\n",
    "    color_list = base(np.linspace(0, 1, N))\n",
    "    cmap_name = base.name + str(N)\n",
    "    return base.from_list(cmap_name, color_list, N)"
   ]
  },
  {
   "cell_type": "code",
   "execution_count": 4,
   "metadata": {},
   "outputs": [],
   "source": [
    "def plotwind(X, Y, U, V, T, WD, print_plot=True, print_save=False):\n",
    "    # Create a new figure\n",
    "    fig = plt.figure(figsize=(15, 12))\n",
    "\n",
    "    # Add the map and set the extent\n",
    "    ax = plt.axes(projection=ccrs.PlateCarree())\n",
    "    ax.set_extent([4.59, 7.28, 52.86, 53.66])\n",
    "\n",
    "    # Add state boundaries to plot\n",
    "    states_provinces = cfeature.NaturalEarthFeature(\n",
    "        category='physical',\n",
    "        name='coastline',\n",
    "        scale='10m',\n",
    "        facecolor='lightgray')\n",
    "    ax.add_feature(states_provinces, edgecolor='black', linewidth=2)\n",
    "\n",
    "    N = 4\n",
    "    im = plt.imshow(WD, extent=(left, right, bottom, top), transform=ccrs.PlateCarree(\n",
    "    ), zorder=2, alpha=0.5, vmin=1, vmax=3, cmap=discrete_cmap(N, 'jet'))\n",
    "    cb = plt.colorbar(im, orientation='horizontal', ticks=range(N))\n",
    "    cb.set_ticklabels(['NE', 'SE', 'SW', 'NW'])\n",
    "    cb.set_label('Wind direction', size=20)\n",
    "    cb.ax.tick_params(labelsize=20)\n",
    "    cb.ax.xaxis.set_label_position('top')\n",
    "    plt.clim(-0.5, N - 0.5)\n",
    "\n",
    "    qui = ax.quiver(X, Y, U, V, transform=ccrs.PlateCarree(), zorder=2)\n",
    "    # Make a title with the time value\n",
    "    ax.set_title('Windfield forecast for {0:%d %B %Y %H:%MZ}'.format(T),\n",
    "                 fontsize=20, family='monospace')\n",
    "    #plt.quiverkey(qui, 0.9, 1.05, 1, '1 m/s', labelpos='S',fontproperties={'weight': 'bold'})\n",
    "\n",
    "    if print_plot == True:\n",
    "        plt.show()\n",
    "        \n",
    "    if print_save == True:\n",
    "        plt.tight_layout()\n",
    "        plt.savefig(r'D:\\Projects\\Pr\\3317.20\\GFS_forecast\\fc_{}.png'.format(\n",
    "            int(T.timestamp())))   \n",
    "        plt.close(fig)\n",
    "        fig.clear()"
   ]
  },
  {
   "cell_type": "code",
   "execution_count": 5,
   "metadata": {},
   "outputs": [],
   "source": [
    "def get_wind_forecast_GFS(catalog='best'):\n",
    "    \n",
    "    base_url = 'http://thredds.ucar.edu/thredds/catalog/grib/NCEP/GFS/Global_0p25deg/'\n",
    "    \n",
    "    if catalog == 'best':\n",
    "        time_name_index_location = 1\n",
    "        best_gfs = TDSCatalog('{}{}'.format(base_url, 'catalog.xml?dataset=grib/NCEP/GFS/Global_0p25deg/Best'))\n",
    "    if catalog == 'latest':\n",
    "        time_name_index_location = 0\n",
    "        best_gfs = TDSCatalog('{}{}'.format(base_url, 'latest.xml'))\n",
    "    \n",
    "    #print(list(best_gfs.datasets))    \n",
    "\n",
    "    best_ds = best_gfs.datasets[0]\n",
    "    ncss = best_ds.subset()\n",
    "\n",
    "    # setup query for waddensea region collecting u- and v-components\n",
    "    query = ncss.query()\n",
    "    query.all_times()\n",
    "    query.lonlat_box(north=53.66, south=52.86, east=7.28, west=4.59)\n",
    "    query.accept('netcdf4')\n",
    "    query.variables('u-component_of_wind_height_above_ground','v-component_of_wind_height_above_ground')\n",
    "    query.vertical_level(10)\n",
    "\n",
    "    data = ncss.get_data(query)\n",
    "    #print(list(data.variables))\n",
    "\n",
    "    # get variables in the returend dataset\n",
    "    lat_var = data.variables['lat']\n",
    "    lon_var = data.variables['lon']\n",
    "    u_var = data.variables['u-component_of_wind_height_above_ground']\n",
    "    v_var = data.variables['v-component_of_wind_height_above_ground']\n",
    "    time_name = u_var.coordinates.split()[time_name_index_location]\n",
    "    time_var = data.variables[time_name]\n",
    "\n",
    "    # flat 1 dimension\n",
    "    u_vals = u_var[:].squeeze()\n",
    "    v_vals = v_var[:].squeeze()\n",
    "    lat_vals = lat_var[:].squeeze()\n",
    "    lon_vals = lon_var[:].squeeze()\n",
    "    time_vals = time_var[:].squeeze()\n",
    "\n",
    "    # Convert the number of hours since the reference time to an actual date\n",
    "    time_val = num2date(time_vals, time_var.units)\n",
    "\n",
    "    return lon_vals, lat_vals, u_vals, v_vals, time_val"
   ]
  },
  {
   "cell_type": "code",
   "execution_count": 6,
   "metadata": {},
   "outputs": [],
   "source": [
    "def GFS_to_wind_direction_velocity(lon_vals, lat_vals, u_vals, v_vals, time_val):\n",
    "    # create meshgrid for plotting purposes\n",
    "    X, Y = np.meshgrid(lon_vals, lat_vals)\n",
    "    T_list = []\n",
    "    WD_mean_list = []\n",
    "    WS_mean_list = []\n",
    "\n",
    "    for idx, T in enumerate(time_val):\n",
    "        #print(idx, T)\n",
    "        U, V = u_vals[idx], v_vals[idx]\n",
    "        WS = np.sqrt(U**2 + V**2)\n",
    "        WD = (np.arctan2(U, V)) * (180 / np.pi) + 180.0\n",
    "\n",
    "        if (WD.all() is np.ma.masked):\n",
    "            next\n",
    "        else:\n",
    "            # mask land and northsea\n",
    "            mask = [[True,  True,  True,  True,  True,  True,  True,  True, False, False, False,  True],\n",
    "                    [True,  True, False, False, False, False, False, False, False, False, False,  True], \n",
    "                    [False, False, False, False, False, False,  True,  True,  True, True, False, False], \n",
    "                    [False, False, False, False,  True,  True,  True,  True,  True, True,  True,  True], \n",
    "                    [False, False, False,  True,  True,  True,  True,  True,  True, True,  True,  True]\n",
    "                   ]  \n",
    "            WD = np.ma.MaskedArray(data=WD.data, mask=mask)\n",
    "            WS = np.ma.MaskedArray(data=WS.data, mask=mask)\n",
    "\n",
    "            # get mean of masked wind direction and velocity\n",
    "            WD_mean_deg = np.ma.mean(WD)\n",
    "            WS_mean = np.ma.mean(WS)\n",
    "\n",
    "            # reclassification of array\n",
    "            WD[np.ma.where(WD < 90)] = 0\n",
    "            WD[np.ma.where((90 < WD) & (WD < 180))] = 1\n",
    "            WD[np.ma.where((180 < WD) & (WD < 270))] = 2\n",
    "            WD[np.ma.where((270 < WD) & (WD < 360))] = 3\n",
    "\n",
    "            #print(T, WD_mean_deg)\n",
    "            # mask arrays\n",
    "            U = np.ma.MaskedArray(data=U.data, mask=mask)\n",
    "            V = np.ma.MaskedArray(data=V.data, mask=mask)\n",
    "\n",
    "            #plotwind(X, Y, U, V, T, WD, print_plot=False, print_save=False)\n",
    "\n",
    "            # append arrea mean (single value) to list\n",
    "            T_list.append(T)\n",
    "            WD_mean_list.append(WD_mean_deg)\n",
    "            WS_mean_list.append(WS_mean)\n",
    "\n",
    "    # create pandas dataframe using wind direction velocity\n",
    "    df_T_W = pd.DataFrame({'wind_direction': WD_mean_list, 'wind_velocity': WS_mean_list}, index=T_list)\n",
    "\n",
    "    # hour to day average\n",
    "    df_W_day = df_T_W.groupby(df_T_W.index.date).mean()\n",
    "\n",
    "    # classify direction into NE (0), SE (1), SW (2) and NW (3)\n",
    "    # wind is the direction where it comes from\n",
    "    # eg. 0 means the wind comes from direction North-East\n",
    "    WD_day_deg = np.array(df_W_day['wind_direction'].tolist())\n",
    "\n",
    "    # reclassification of wind direction array\n",
    "    WD_day_deg[np.ma.where(WD_day_deg < 90)] = 0\n",
    "    WD_day_deg[np.ma.where((90 < WD_day_deg) & (WD_day_deg < 180))] = 1\n",
    "    WD_day_deg[np.ma.where((180 < WD_day_deg) & (WD_day_deg < 270))] = 2\n",
    "    WD_day_deg[np.ma.where((270 < WD_day_deg) & (WD_day_deg < 360))] = 3\n",
    "\n",
    "    # set classified wind direction in dataframe\n",
    "    df_W_day.loc[:,'wind_direction'] = WD_day_deg.astype(int)    \n",
    "    \n",
    "    return df_W_day"
   ]
  },
  {
   "cell_type": "code",
   "execution_count": 7,
   "metadata": {},
   "outputs": [],
   "source": [
    "rd_string = (\"+proj=sterea +lat_0=52.15616055555555 +lon_0=5.38763888888889 \"\n",
    "             \"+k=0.999908 +x_0=155000 +y_0=463000 +ellps=bessel +units=m \" \n",
    "             \"+towgs84=565.2369,50.0087,465.658,-0.406857330322398,0.350732676542563,-1.8703473836068,4.0812 \"\n",
    "             \"+no_defs +no_defs\")"
   ]
  },
  {
   "cell_type": "code",
   "execution_count": 8,
   "metadata": {},
   "outputs": [],
   "source": [
    "# path to shapefile dredgefields\n",
    "shp_in = r'D:\\FEWSprojecten\\OmsWaddenzee\\trunk\\fews\\Config\\MapLayerFiles\\Baggervakken//Baggervakken.shp'"
   ]
  },
  {
   "cell_type": "code",
   "execution_count": 9,
   "metadata": {},
   "outputs": [],
   "source": [
    "# parse the shapefile into geodataframe\n",
    "gdf = baggervak_to_current(path_shp=shp_in, crs_string=rd_string)"
   ]
  },
  {
   "cell_type": "code",
   "execution_count": 10,
   "metadata": {},
   "outputs": [
    {
     "name": "stderr",
     "output_type": "stream",
     "text": [
      "c:\\python35\\lib\\site-packages\\ipykernel_launcher.py:37: RuntimeWarning: invalid value encountered in greater\n",
      "c:\\python35\\lib\\site-packages\\ipykernel_launcher.py:38: RuntimeWarning: invalid value encountered in greater\n"
     ]
    }
   ],
   "source": [
    "try:\n",
    "    lon_vals, lat_vals, u_vals, v_vals, time_val = get_wind_forecast_GFS(catalog='best')\n",
    "except:\n",
    "    print('seems there was an error at the *best* catalog, lets try the *latest* forecast')\n",
    "    lon_vals, lat_vals, u_vals, v_vals, time_val = get_wind_forecast_GFS(catalog='latest')"
   ]
  },
  {
   "cell_type": "code",
   "execution_count": 11,
   "metadata": {},
   "outputs": [],
   "source": [
    "df_wind = GFS_to_wind_direction_velocity(lon_vals, lat_vals, u_vals, v_vals, time_val)"
   ]
  },
  {
   "cell_type": "code",
   "execution_count": 12,
   "metadata": {},
   "outputs": [
    {
     "data": {
      "text/plain": [
       "array([<matplotlib.axes._subplots.AxesSubplot object at 0x000000000A2355F8>,\n",
       "       <matplotlib.axes._subplots.AxesSubplot object at 0x000000000A22C128>],\n",
       "      dtype=object)"
      ]
     },
     "execution_count": 12,
     "metadata": {},
     "output_type": "execute_result"
    },
    {
     "data": {
      "image/png": "[encoded data removed]",
      "text/plain": [
       "<matplotlib.figure.Figure at 0x10ff2b0>"
      ]
     },
     "metadata": {},
     "output_type": "display_data"
    }
   ],
   "source": [
    "df_wind.plot(subplots=True)"
   ]
  },
  {
   "cell_type": "code",
   "execution_count": 13,
   "metadata": {},
   "outputs": [
    {
     "data": {
      "text/plain": [
       "2018-07-09    6.257633\n",
       "2018-07-10    7.984992\n",
       "2018-07-11    5.525599\n",
       "2018-07-12    5.653172\n",
       "2018-07-13    4.332416\n",
       "Name: wind_velocity, dtype: float64"
      ]
     },
     "execution_count": 13,
     "metadata": {},
     "output_type": "execute_result"
    }
   ],
   "source": [
    "df_wind['wind_velocity'].head()"
   ]
  },
  {
   "cell_type": "code",
   "execution_count": 14,
   "metadata": {},
   "outputs": [
    {
     "data": {
      "text/plain": [
       "'2018-07-09,6.257632608766909\\n2018-07-10,7.984991780033817\\n2018-07-11,5.525598702607331\\n2018-07-12,5.653172104446976\\n2018-07-13,4.332415933962222\\n2018-07-14,2.4028981526692705\\n2018-07-15,3.791456540425618\\n2018-07-16,5.590766588846843\\n2018-07-17,4.397900404753508\\n2018-07-18,3.5981419704578546\\n2018-07-19,3.2210548037574402\\n2018-07-20,2.8501268581107815\\n2018-07-21,4.4262439586498115\\n2018-07-22,4.943645618580006\\n2018-07-23,5.027640166106048\\n2018-07-24,5.521965591995805\\n2018-07-25,6.054178873697916\\n2018-07-27,4.484934771502459\\n2018-07-28,4.545209531430845\\n'"
      ]
     },
     "execution_count": 14,
     "metadata": {},
     "output_type": "execute_result"
    }
   ],
   "source": [
    "df_wind['wind_velocity'].to_csv(date_format='%Y%m%d')"
   ]
  },
  {
   "cell_type": "code",
   "execution_count": 24,
   "metadata": {},
   "outputs": [
    {
     "data": {
      "text/plain": [
       "'20180712'"
      ]
     },
     "execution_count": 24,
     "metadata": {},
     "output_type": "execute_result"
    }
   ],
   "source": [
    "datetime.today().strftime('%Y%m%d')"
   ]
  },
  {
   "cell_type": "code",
   "execution_count": 15,
   "metadata": {},
   "outputs": [
    {
     "data": {
      "text/plain": [
       "'20180728'"
      ]
     },
     "execution_count": 15,
     "metadata": {},
     "output_type": "execute_result"
    }
   ],
   "source": [
    "df_wind.index[-1].strftime('%Y%m%d')"
   ]
  },
  {
   "cell_type": "code",
   "execution_count": 59,
   "metadata": {},
   "outputs": [
    {
     "name": "stderr",
     "output_type": "stream",
     "text": [
      "c:\\python35\\lib\\site-packages\\pandas\\io\\parsers.py:809: FutureWarning: The 'tupleize_cols' argument has been deprecated and will be removed in a future version. Column tuples will then always be converted to MultiIndex.\n",
      "\n",
      "\n",
      "  self.options, self.engine = self._clean_options(options, engine)\n"
     ]
    }
   ],
   "source": [
    "csv_coeff = r'D:\\Projects\\Pr\\3317.20\\Wind_voorspelling\\coefficients_baggervakken.csv'\n",
    "df = pd.io.parsers.read_csv(csv_coeff, header = [0,1], tupleize_cols = True)\n",
    "df.columns = [c for _, c in df.columns[:1]] + [c for c in df.columns[1:]]\n",
    "df = df.set_index(df.columns[0])\n",
    "df.columns = pd.MultiIndex.from_tuples(df.columns, names = ['wind_direction', 'coefficient'])"
   ]
  },
  {
   "cell_type": "code",
   "execution_count": 60,
   "metadata": {},
   "outputs": [
    {
     "data": {
      "text/html": [
       "<div>\n",
       "<style scoped>\n",
       "    .dataframe tbody tr th:only-of-type {\n",
       "        vertical-align: middle;\n",
       "    }\n",
       "\n",
       "    .dataframe tbody tr th {\n",
       "        vertical-align: top;\n",
       "    }\n",
       "\n",
       "    .dataframe thead tr th {\n",
       "        text-align: left;\n",
       "    }\n",
       "\n",
       "    .dataframe thead tr:last-of-type th {\n",
       "        text-align: right;\n",
       "    }\n",
       "</style>\n",
       "<table border=\"1\" class=\"dataframe\">\n",
       "  <thead>\n",
       "    <tr>\n",
       "      <th>wind_direction</th>\n",
       "      <th>Unnamed: 1_level_0</th>\n",
       "      <th colspan=\"2\" halign=\"left\">coeff_NE</th>\n",
       "      <th colspan=\"2\" halign=\"left\">coeff_SE</th>\n",
       "      <th colspan=\"2\" halign=\"left\">coeff_SW</th>\n",
       "      <th colspan=\"2\" halign=\"left\">coeff_NW</th>\n",
       "    </tr>\n",
       "    <tr>\n",
       "      <th>coefficient</th>\n",
       "      <th>OBJECTNAAM</th>\n",
       "      <th>a</th>\n",
       "      <th>b</th>\n",
       "      <th>a</th>\n",
       "      <th>b</th>\n",
       "      <th>a</th>\n",
       "      <th>b</th>\n",
       "      <th>a</th>\n",
       "      <th>b</th>\n",
       "    </tr>\n",
       "    <tr>\n",
       "      <th>OBJECTCODE</th>\n",
       "      <th></th>\n",
       "      <th></th>\n",
       "      <th></th>\n",
       "      <th></th>\n",
       "      <th></th>\n",
       "      <th></th>\n",
       "      <th></th>\n",
       "      <th></th>\n",
       "      <th></th>\n",
       "    </tr>\n",
       "  </thead>\n",
       "  <tbody>\n",
       "    <tr>\n",
       "      <th>1.7.2.3.2</th>\n",
       "      <td>Blauwe Slenk</td>\n",
       "      <td>-3.2</td>\n",
       "      <td>9.6</td>\n",
       "      <td>7.4</td>\n",
       "      <td>-5.0</td>\n",
       "      <td>-9.5</td>\n",
       "      <td>-4.0</td>\n",
       "      <td>4.9</td>\n",
       "      <td>3.9</td>\n",
       "    </tr>\n",
       "    <tr>\n",
       "      <th>1.7.1.3.1</th>\n",
       "      <td>Visjagersgaatje</td>\n",
       "      <td>2.6</td>\n",
       "      <td>2.4</td>\n",
       "      <td>9.5</td>\n",
       "      <td>8.5</td>\n",
       "      <td>1.3</td>\n",
       "      <td>0.2</td>\n",
       "      <td>-4.3</td>\n",
       "      <td>-3.3</td>\n",
       "    </tr>\n",
       "    <tr>\n",
       "      <th>1.7.3.1.1</th>\n",
       "      <td>Holwerd - VA25</td>\n",
       "      <td>-5.8</td>\n",
       "      <td>2.7</td>\n",
       "      <td>-3.6</td>\n",
       "      <td>-1.4</td>\n",
       "      <td>-4.3</td>\n",
       "      <td>7.9</td>\n",
       "      <td>-8.5</td>\n",
       "      <td>-1.0</td>\n",
       "    </tr>\n",
       "    <tr>\n",
       "      <th>1.7.3.1.2.A</th>\n",
       "      <td>VA4 - VA6</td>\n",
       "      <td>-3.9</td>\n",
       "      <td>-3.1</td>\n",
       "      <td>-4.2</td>\n",
       "      <td>3.1</td>\n",
       "      <td>-1.2</td>\n",
       "      <td>-2.1</td>\n",
       "      <td>1.6</td>\n",
       "      <td>-4.2</td>\n",
       "    </tr>\n",
       "    <tr>\n",
       "      <th>1.7.3.1.3</th>\n",
       "      <td>Reegeul</td>\n",
       "      <td>-4.8</td>\n",
       "      <td>-8.7</td>\n",
       "      <td>-1.5</td>\n",
       "      <td>2.4</td>\n",
       "      <td>9.5</td>\n",
       "      <td>6.7</td>\n",
       "      <td>-9.4</td>\n",
       "      <td>9.9</td>\n",
       "    </tr>\n",
       "  </tbody>\n",
       "</table>\n",
       "</div>"
      ],
      "text/plain": [
       "wind_direction Unnamed: 1_level_0 coeff_NE      coeff_SE      coeff_SW       \\\n",
       "coefficient            OBJECTNAAM        a    b        a    b        a    b   \n",
       "OBJECTCODE                                                                    \n",
       "1.7.2.3.2            Blauwe Slenk     -3.2  9.6      7.4 -5.0     -9.5 -4.0   \n",
       "1.7.1.3.1         Visjagersgaatje      2.6  2.4      9.5  8.5      1.3  0.2   \n",
       "1.7.3.1.1          Holwerd - VA25     -5.8  2.7     -3.6 -1.4     -4.3  7.9   \n",
       "1.7.3.1.2.A             VA4 - VA6     -3.9 -3.1     -4.2  3.1     -1.2 -2.1   \n",
       "1.7.3.1.3                 Reegeul     -4.8 -8.7     -1.5  2.4      9.5  6.7   \n",
       "\n",
       "wind_direction coeff_NW       \n",
       "coefficient           a    b  \n",
       "OBJECTCODE                    \n",
       "1.7.2.3.2           4.9  3.9  \n",
       "1.7.1.3.1          -4.3 -3.3  \n",
       "1.7.3.1.1          -8.5 -1.0  \n",
       "1.7.3.1.2.A         1.6 -4.2  \n",
       "1.7.3.1.3          -9.4  9.9  "
      ]
     },
     "execution_count": 60,
     "metadata": {},
     "output_type": "execute_result"
    }
   ],
   "source": [
    "df.head()"
   ]
  },
  {
   "cell_type": "code",
   "execution_count": null,
   "metadata": {},
   "outputs": [],
   "source": [
    "gdf_merge = pd.merge(gdf,df, right_index=True, left_on='OBJECTCODE')"
   ]
  },
  {
   "cell_type": "code",
   "execution_count": null,
   "metadata": {
    "scrolled": true
   },
   "outputs": [],
   "source": [
    "for idx, item in df_wind.iterrows():\n",
    "    \n",
    "    if item['wind direction'] == 0:\n",
    "        column = 'coeff_NE'\n",
    "    if item['wind direction'] == 1:\n",
    "        column = 'coeff_SE'\n",
    "    if item['wind direction'] == 2:\n",
    "        column = 'coeff_SW'\n",
    "    if item['wind direction'] == 3:\n",
    "        column = 'coeff_NW'\n",
    "    \n",
    "\n",
    "    coeff = pd.concat((gdf_merge[['OBJECTCODE', 'OBJECTNAAM', 'geometry']], gdf_merge[(\n",
    "        column, 'a')], gdf_merge[(column, 'b')]), axis=1)\n",
    "    coeff.loc[:,'wind_velocity'] = item['wind velocity']\n",
    "    \n",
    "    coeff.loc[:,'SDS'] = coeff[(column,'a')]*coeff['wind_velocity']+coeff[(column,'b')]\n",
    "    print(coeff[['wind_velocity', 'SDS']].head(1))\n",
    "    print(idx, column, '\\n')\n",
    "    #print(idx, column, item['wind velocity'])"
   ]
  },
  {
   "cell_type": "code",
   "execution_count": null,
   "metadata": {},
   "outputs": [],
   "source": [
    "coeff"
   ]
  },
  {
   "cell_type": "code",
   "execution_count": null,
   "metadata": {},
   "outputs": [],
   "source": []
  }
 ],
 "metadata": {
  "kernelspec": {
   "display_name": "Python 3",
   "language": "python",
   "name": "python3"
  },
  "language_info": {
   "codemirror_mode": {
    "name": "ipython",
    "version": 3
   },
   "file_extension": ".py",
   "mimetype": "text/x-python",
   "name": "python",
   "nbconvert_exporter": "python",
   "pygments_lexer": "ipython3",
   "version": "3.6.5"
  }
 },
 "nbformat": 4,
 "nbformat_minor": 4
}
