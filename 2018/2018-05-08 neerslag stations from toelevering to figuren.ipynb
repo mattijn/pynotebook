{
 "cells": [
  {
   "cell_type": "code",
   "execution_count": 1,
   "metadata": {},
   "outputs": [],
   "source": [
    "import pandas as pd\n",
    "import geopandas as gpd\n",
    "import glob\n",
    "import numpy as np\n",
    "import os\n",
    "import matplotlib.pyplot as plt\n",
    "import matplotlib as mpl\n",
    "%matplotlib inline"
   ]
  },
  {
   "cell_type": "code",
   "execution_count": 2,
   "metadata": {},
   "outputs": [
    {
     "data": {
      "text/plain": [
       "['D:\\\\Projects\\\\RO\\\\DataChallenge2018\\\\P_station\\\\2.3 neerslag\\\\LHA200-LHA230_2015_5minuten.csv',\n",
       " 'D:\\\\Projects\\\\RO\\\\DataChallenge2018\\\\P_station\\\\2.3 neerslag\\\\LHA231-LHA260_2015_5minuten.csv',\n",
       " 'D:\\\\Projects\\\\RO\\\\DataChallenge2018\\\\P_station\\\\2.3 neerslag\\\\LHA261-LHA316_2015_5minuten.csv',\n",
       " 'D:\\\\Projects\\\\RO\\\\DataChallenge2018\\\\P_station\\\\2.3 neerslag\\\\LHA317-LHA346_2015_5minuten.csv']"
      ]
     },
     "execution_count": 2,
     "metadata": {},
     "output_type": "execute_result"
    }
   ],
   "source": [
    "csv_path = r'D:\\Projects\\RO\\DataChallenge2018\\P_station\\2.3 neerslag'\n",
    "csv_ins = glob.glob('{}//*2015*.csv'.format(csv_path))\n",
    "csv_ins"
   ]
  },
  {
   "cell_type": "code",
   "execution_count": 3,
   "metadata": {},
   "outputs": [
    {
     "data": {
      "text/html": [
       "<div>\n",
       "<style scoped>\n",
       "    .dataframe tbody tr th:only-of-type {\n",
       "        vertical-align: middle;\n",
       "    }\n",
       "\n",
       "    .dataframe tbody tr th {\n",
       "        vertical-align: top;\n",
       "    }\n",
       "\n",
       "    .dataframe thead th {\n",
       "        text-align: right;\n",
       "    }\n",
       "</style>\n",
       "<table border=\"1\" class=\"dataframe\">\n",
       "  <thead>\n",
       "    <tr style=\"text-align: right;\">\n",
       "      <th></th>\n",
       "      <th>CODE</th>\n",
       "      <th>NAAM</th>\n",
       "      <th>SOORT</th>\n",
       "      <th>OPPERVLAK</th>\n",
       "      <th>TYPEBEHEER</th>\n",
       "      <th>ZOMERPEIL</th>\n",
       "      <th>WINTERPEIL</th>\n",
       "      <th>MIN_PEIL</th>\n",
       "      <th>MAX_PEIL</th>\n",
       "      <th>VASTPEIL</th>\n",
       "      <th>STREEFPEIL</th>\n",
       "      <th>STATUS</th>\n",
       "      <th>OPMERKING</th>\n",
       "      <th>ID</th>\n",
       "      <th>ID_1</th>\n",
       "      <th>som_pv</th>\n",
       "      <th>mm_30aug</th>\n",
       "      <th>geometry</th>\n",
       "    </tr>\n",
       "  </thead>\n",
       "  <tbody>\n",
       "    <tr>\n",
       "      <th>0</th>\n",
       "      <td>LHA208-P</td>\n",
       "      <td>LHA208</td>\n",
       "      <td>onbekend</td>\n",
       "      <td>223433</td>\n",
       "      <td>seizoensgebonden</td>\n",
       "      <td>-1.00</td>\n",
       "      <td>-1.00</td>\n",
       "      <td>999.0</td>\n",
       "      <td>999.0</td>\n",
       "      <td>999.0</td>\n",
       "      <td>999.0</td>\n",
       "      <td>praktijk</td>\n",
       "      <td>Praktijk ZP verlaagd met 0,50 m; WP verlaagd m...</td>\n",
       "      <td>0</td>\n",
       "      <td>0.0</td>\n",
       "      <td>0.000000</td>\n",
       "      <td>0.000</td>\n",
       "      <td>POLYGON ((4.941920841001056 51.7969964522338, ...</td>\n",
       "    </tr>\n",
       "    <tr>\n",
       "      <th>1</th>\n",
       "      <td>OOW103-P</td>\n",
       "      <td>OOW103</td>\n",
       "      <td>onbekend</td>\n",
       "      <td>1172819</td>\n",
       "      <td>seizoensgebonden</td>\n",
       "      <td>-0.50</td>\n",
       "      <td>-0.90</td>\n",
       "      <td>999.0</td>\n",
       "      <td>999.0</td>\n",
       "      <td>999.0</td>\n",
       "      <td>999.0</td>\n",
       "      <td>praktijk</td>\n",
       "      <td>Gecontroleerd SVA</td>\n",
       "      <td>1</td>\n",
       "      <td>1.0</td>\n",
       "      <td>9570.996902</td>\n",
       "      <td>95.710</td>\n",
       "      <td>POLYGON ((4.903290701630984 51.79346047031316,...</td>\n",
       "    </tr>\n",
       "    <tr>\n",
       "      <th>2</th>\n",
       "      <td>LHA245-P</td>\n",
       "      <td>LHA245</td>\n",
       "      <td>onbekend</td>\n",
       "      <td>319636</td>\n",
       "      <td>seizoensgebonden</td>\n",
       "      <td>-0.65</td>\n",
       "      <td>-0.85</td>\n",
       "      <td>999.0</td>\n",
       "      <td>999.0</td>\n",
       "      <td>999.0</td>\n",
       "      <td>999.0</td>\n",
       "      <td>praktijk</td>\n",
       "      <td>Praktijk ZP met 0,15 verhoogd, WP met 0,20 ver...</td>\n",
       "      <td>2</td>\n",
       "      <td>2.0</td>\n",
       "      <td>8565.447602</td>\n",
       "      <td>85.654</td>\n",
       "      <td>POLYGON ((5.01106176726913 51.78777180237206, ...</td>\n",
       "    </tr>\n",
       "    <tr>\n",
       "      <th>3</th>\n",
       "      <td>LHA307-P</td>\n",
       "      <td>LHA307</td>\n",
       "      <td>onbekend</td>\n",
       "      <td>33821</td>\n",
       "      <td>seizoensgebonden</td>\n",
       "      <td>-0.15</td>\n",
       "      <td>0.10</td>\n",
       "      <td>999.0</td>\n",
       "      <td>999.0</td>\n",
       "      <td>999.0</td>\n",
       "      <td>999.0</td>\n",
       "      <td>praktijk</td>\n",
       "      <td>Gecontroleerd SVA</td>\n",
       "      <td>3</td>\n",
       "      <td>0.0</td>\n",
       "      <td>0.000000</td>\n",
       "      <td>0.000</td>\n",
       "      <td>POLYGON ((5.045997492046079 51.76199457933275,...</td>\n",
       "    </tr>\n",
       "    <tr>\n",
       "      <th>4</th>\n",
       "      <td>LHA242-P</td>\n",
       "      <td>LHA242</td>\n",
       "      <td>onbekend</td>\n",
       "      <td>193706</td>\n",
       "      <td>seizoensgebonden</td>\n",
       "      <td>-0.80</td>\n",
       "      <td>-0.80</td>\n",
       "      <td>999.0</td>\n",
       "      <td>999.0</td>\n",
       "      <td>999.0</td>\n",
       "      <td>999.0</td>\n",
       "      <td>praktijk</td>\n",
       "      <td></td>\n",
       "      <td>4</td>\n",
       "      <td>4.0</td>\n",
       "      <td>8879.835731</td>\n",
       "      <td>88.798</td>\n",
       "      <td>POLYGON ((5.036162631826241 51.78961435609716,...</td>\n",
       "    </tr>\n",
       "  </tbody>\n",
       "</table>\n",
       "</div>"
      ],
      "text/plain": [
       "       CODE    NAAM     SOORT  OPPERVLAK        TYPEBEHEER  ZOMERPEIL  \\\n",
       "0  LHA208-P  LHA208  onbekend     223433  seizoensgebonden      -1.00   \n",
       "1  OOW103-P  OOW103  onbekend    1172819  seizoensgebonden      -0.50   \n",
       "2  LHA245-P  LHA245  onbekend     319636  seizoensgebonden      -0.65   \n",
       "3  LHA307-P  LHA307  onbekend      33821  seizoensgebonden      -0.15   \n",
       "4  LHA242-P  LHA242  onbekend     193706  seizoensgebonden      -0.80   \n",
       "\n",
       "   WINTERPEIL  MIN_PEIL  MAX_PEIL  VASTPEIL  STREEFPEIL    STATUS  \\\n",
       "0       -1.00     999.0     999.0     999.0       999.0  praktijk   \n",
       "1       -0.90     999.0     999.0     999.0       999.0  praktijk   \n",
       "2       -0.85     999.0     999.0     999.0       999.0  praktijk   \n",
       "3        0.10     999.0     999.0     999.0       999.0  praktijk   \n",
       "4       -0.80     999.0     999.0     999.0       999.0  praktijk   \n",
       "\n",
       "                                           OPMERKING  ID  ID_1       som_pv  \\\n",
       "0  Praktijk ZP verlaagd met 0,50 m; WP verlaagd m...   0   0.0     0.000000   \n",
       "1                                  Gecontroleerd SVA   1   1.0  9570.996902   \n",
       "2  Praktijk ZP met 0,15 verhoogd, WP met 0,20 ver...   2   2.0  8565.447602   \n",
       "3                                  Gecontroleerd SVA   3   0.0     0.000000   \n",
       "4                                                      4   4.0  8879.835731   \n",
       "\n",
       "   mm_30aug                                           geometry  \n",
       "0     0.000  POLYGON ((4.941920841001056 51.7969964522338, ...  \n",
       "1    95.710  POLYGON ((4.903290701630984 51.79346047031316,...  \n",
       "2    85.654  POLYGON ((5.01106176726913 51.78777180237206, ...  \n",
       "3     0.000  POLYGON ((5.045997492046079 51.76199457933275,...  \n",
       "4    88.798  POLYGON ((5.036162631826241 51.78961435609716,...  "
      ]
     },
     "execution_count": 3,
     "metadata": {},
     "output_type": "execute_result"
    }
   ],
   "source": [
    "gdf = gpd.read_file(r'D:\\Projects\\RO\\DataChallenge2018\\shape\\peilvakken_WRSL_neerslag_mmWGS84.shp')\n",
    "gdf.head()"
   ]
  },
  {
   "cell_type": "code",
   "execution_count": 4,
   "metadata": {},
   "outputs": [],
   "source": [
    "gdf_naam = []\n",
    "for code_in in gdf['NAAM'].values:\n",
    "#     if 'LHA' in code_in:\n",
    "#         gdf_naam.append(code_in)\n",
    "    gdf_naam.append(code_in)        \n",
    "pv_code_ws = [x[-3::] for x in gdf_naam]\n",
    "\n",
    "filter_code = []\n",
    "for code in pv_code_ws:\n",
    "    try:\n",
    "        filter_code.append(int(code))\n",
    "    except:\n",
    "        continue"
   ]
  },
  {
   "cell_type": "code",
   "execution_count": 5,
   "metadata": {},
   "outputs": [],
   "source": [
    "all_pv = np.array(filter_code)"
   ]
  },
  {
   "cell_type": "code",
   "execution_count": 6,
   "metadata": {},
   "outputs": [],
   "source": [
    "df_all = pd.DataFrame()"
   ]
  },
  {
   "cell_type": "code",
   "execution_count": 7,
   "metadata": {},
   "outputs": [
    {
     "name": "stdout",
     "output_type": "stream",
     "text": [
      "200 230\n",
      "231 260\n",
      "261 316\n",
      "317 346\n"
     ]
    }
   ],
   "source": [
    "for csv_in in csv_ins:\n",
    "\n",
    "    # find peilvak selection in csv\n",
    "    pv_start = int(os.path.basename(csv_in)[3:6])\n",
    "    pv_end = int(os.path.basename(csv_in)[10:13])\n",
    "    print(pv_start, pv_end)\n",
    "    select_pv = ['LHA{}'.format(x) for x in all_pv[(all_pv >= pv_start) & (all_pv <= pv_end)]]\n",
    "    \n",
    "    # read csv\n",
    "    df = pd.read_csv(csv_in, skiprows=2)#, index_col=[0,1,2])#, dtype=np.float64)\n",
    "    df.index = pd.to_datetime(df['Eind'], dayfirst=True)\n",
    "    df_sel = df[select_pv]\n",
    "    df_sel = df_sel.resample('H').sum()\n",
    "    \n",
    "    df_sel = df_sel.loc[:,~df_sel.columns.duplicated()]\n",
    "    df_all = pd.concat((df_all, df_sel))"
   ]
  },
  {
   "cell_type": "code",
   "execution_count": 8,
   "metadata": {},
   "outputs": [
    {
     "name": "stderr",
     "output_type": "stream",
     "text": [
      "c:\\python35\\lib\\site-packages\\ipykernel_launcher.py:1: FutureWarning: pd.TimeGrouper is deprecated and will be removed; Please use pd.Grouper(freq=...)\n",
      "  \"\"\"Entry point for launching an IPython kernel.\n"
     ]
    }
   ],
   "source": [
    "df_precip = df_all.groupby(pd.TimeGrouper('H')).sum()"
   ]
  },
  {
   "cell_type": "code",
   "execution_count": 9,
   "metadata": {},
   "outputs": [],
   "source": [
    "from_date = '2015-08-28 18:00'\n",
    "to_date = '2015-09-02 08:00'\n",
    "df_event = df_precip[from_date:to_date]"
   ]
  },
  {
   "cell_type": "code",
   "execution_count": 10,
   "metadata": {},
   "outputs": [],
   "source": [
    "png_out = r'D:\\Projects\\RO\\DataChallenge2018\\png_out\\precip'"
   ]
  },
  {
   "cell_type": "code",
   "execution_count": 11,
   "metadata": {},
   "outputs": [],
   "source": [
    "sel_gdf = gdf[gdf['ID'].isin([92,74])]\n",
    "sel_gdf.reset_index(drop=True, inplace=True)"
   ]
  },
  {
   "cell_type": "code",
   "execution_count": 12,
   "metadata": {},
   "outputs": [
    {
     "data": {
      "text/html": [
       "<div>\n",
       "<style scoped>\n",
       "    .dataframe tbody tr th:only-of-type {\n",
       "        vertical-align: middle;\n",
       "    }\n",
       "\n",
       "    .dataframe tbody tr th {\n",
       "        vertical-align: top;\n",
       "    }\n",
       "\n",
       "    .dataframe thead th {\n",
       "        text-align: right;\n",
       "    }\n",
       "</style>\n",
       "<table border=\"1\" class=\"dataframe\">\n",
       "  <thead>\n",
       "    <tr style=\"text-align: right;\">\n",
       "      <th></th>\n",
       "      <th>CODE</th>\n",
       "      <th>NAAM</th>\n",
       "      <th>SOORT</th>\n",
       "      <th>OPPERVLAK</th>\n",
       "      <th>TYPEBEHEER</th>\n",
       "      <th>ZOMERPEIL</th>\n",
       "      <th>WINTERPEIL</th>\n",
       "      <th>MIN_PEIL</th>\n",
       "      <th>MAX_PEIL</th>\n",
       "      <th>VASTPEIL</th>\n",
       "      <th>STREEFPEIL</th>\n",
       "      <th>STATUS</th>\n",
       "      <th>OPMERKING</th>\n",
       "      <th>ID</th>\n",
       "      <th>ID_1</th>\n",
       "      <th>som_pv</th>\n",
       "      <th>mm_30aug</th>\n",
       "      <th>geometry</th>\n",
       "    </tr>\n",
       "  </thead>\n",
       "  <tbody>\n",
       "    <tr>\n",
       "      <th>0</th>\n",
       "      <td>LHA342-P</td>\n",
       "      <td>LHA342</td>\n",
       "      <td>onbekend</td>\n",
       "      <td>1427959</td>\n",
       "      <td>seizoensgebonden</td>\n",
       "      <td>0.2</td>\n",
       "      <td>0.1</td>\n",
       "      <td>999.0</td>\n",
       "      <td>999.0</td>\n",
       "      <td>999.0</td>\n",
       "      <td>999.0</td>\n",
       "      <td>praktijk</td>\n",
       "      <td>Praktijk  ZP verlaagd met 0,1 m SVA</td>\n",
       "      <td>74</td>\n",
       "      <td>74.0</td>\n",
       "      <td>9828.534962</td>\n",
       "      <td>98.285</td>\n",
       "      <td>POLYGON ((5.100009664988654 51.76096770482393,...</td>\n",
       "    </tr>\n",
       "    <tr>\n",
       "      <th>1</th>\n",
       "      <td>LHA225-P</td>\n",
       "      <td>LHA225</td>\n",
       "      <td>onbekend</td>\n",
       "      <td>11275298</td>\n",
       "      <td>seizoensgebonden</td>\n",
       "      <td>-1.0</td>\n",
       "      <td>-1.3</td>\n",
       "      <td>999.0</td>\n",
       "      <td>999.0</td>\n",
       "      <td>999.0</td>\n",
       "      <td>999.0</td>\n",
       "      <td>praktijk</td>\n",
       "      <td>999</td>\n",
       "      <td>92</td>\n",
       "      <td>92.0</td>\n",
       "      <td>6372.271468</td>\n",
       "      <td>63.723</td>\n",
       "      <td>(POLYGON ((4.901560241380274 51.72032613312427...</td>\n",
       "    </tr>\n",
       "  </tbody>\n",
       "</table>\n",
       "</div>"
      ],
      "text/plain": [
       "       CODE    NAAM     SOORT  OPPERVLAK        TYPEBEHEER  ZOMERPEIL  \\\n",
       "0  LHA342-P  LHA342  onbekend    1427959  seizoensgebonden        0.2   \n",
       "1  LHA225-P  LHA225  onbekend   11275298  seizoensgebonden       -1.0   \n",
       "\n",
       "   WINTERPEIL  MIN_PEIL  MAX_PEIL  VASTPEIL  STREEFPEIL    STATUS  \\\n",
       "0         0.1     999.0     999.0     999.0       999.0  praktijk   \n",
       "1        -1.3     999.0     999.0     999.0       999.0  praktijk   \n",
       "\n",
       "                             OPMERKING  ID  ID_1       som_pv  mm_30aug  \\\n",
       "0  Praktijk  ZP verlaagd met 0,1 m SVA  74  74.0  9828.534962    98.285   \n",
       "1                                  999  92  92.0  6372.271468    63.723   \n",
       "\n",
       "                                            geometry  \n",
       "0  POLYGON ((5.100009664988654 51.76096770482393,...  \n",
       "1  (POLYGON ((4.901560241380274 51.72032613312427...  "
      ]
     },
     "execution_count": 12,
     "metadata": {},
     "output_type": "execute_result"
    }
   ],
   "source": [
    "sel_gdf.head()"
   ]
  },
  {
   "cell_type": "code",
   "execution_count": 13,
   "metadata": {},
   "outputs": [
    {
     "name": "stdout",
     "output_type": "stream",
     "text": [
      "D:\\Projects\\RO\\DataChallenge2018\\png_out\\precip\\new_datum_201508281800.png\n",
      "D:\\Projects\\RO\\DataChallenge2018\\png_out\\precip\\new_datum_201508281900.png\n",
      "D:\\Projects\\RO\\DataChallenge2018\\png_out\\precip\\new_datum_201508282000.png\n",
      "D:\\Projects\\RO\\DataChallenge2018\\png_out\\precip\\new_datum_201508282100.png\n",
      "D:\\Projects\\RO\\DataChallenge2018\\png_out\\precip\\new_datum_201508282200.png\n",
      "D:\\Projects\\RO\\DataChallenge2018\\png_out\\precip\\new_datum_201508282300.png\n",
      "D:\\Projects\\RO\\DataChallenge2018\\png_out\\precip\\new_datum_201508290000.png\n",
      "D:\\Projects\\RO\\DataChallenge2018\\png_out\\precip\\new_datum_201508290100.png\n",
      "D:\\Projects\\RO\\DataChallenge2018\\png_out\\precip\\new_datum_201508290200.png\n",
      "D:\\Projects\\RO\\DataChallenge2018\\png_out\\precip\\new_datum_201508290300.png\n",
      "D:\\Projects\\RO\\DataChallenge2018\\png_out\\precip\\new_datum_201508290400.png\n",
      "D:\\Projects\\RO\\DataChallenge2018\\png_out\\precip\\new_datum_201508290500.png\n",
      "D:\\Projects\\RO\\DataChallenge2018\\png_out\\precip\\new_datum_201508290600.png\n",
      "D:\\Projects\\RO\\DataChallenge2018\\png_out\\precip\\new_datum_201508290700.png\n",
      "D:\\Projects\\RO\\DataChallenge2018\\png_out\\precip\\new_datum_201508290800.png\n",
      "D:\\Projects\\RO\\DataChallenge2018\\png_out\\precip\\new_datum_201508290900.png\n",
      "D:\\Projects\\RO\\DataChallenge2018\\png_out\\precip\\new_datum_201508291000.png\n",
      "D:\\Projects\\RO\\DataChallenge2018\\png_out\\precip\\new_datum_201508291100.png\n",
      "D:\\Projects\\RO\\DataChallenge2018\\png_out\\precip\\new_datum_201508291200.png\n",
      "D:\\Projects\\RO\\DataChallenge2018\\png_out\\precip\\new_datum_201508291300.png\n",
      "D:\\Projects\\RO\\DataChallenge2018\\png_out\\precip\\new_datum_201508291400.png\n",
      "D:\\Projects\\RO\\DataChallenge2018\\png_out\\precip\\new_datum_201508291500.png\n",
      "D:\\Projects\\RO\\DataChallenge2018\\png_out\\precip\\new_datum_201508291600.png\n",
      "D:\\Projects\\RO\\DataChallenge2018\\png_out\\precip\\new_datum_201508291700.png\n",
      "D:\\Projects\\RO\\DataChallenge2018\\png_out\\precip\\new_datum_201508291800.png\n",
      "D:\\Projects\\RO\\DataChallenge2018\\png_out\\precip\\new_datum_201508291900.png\n",
      "D:\\Projects\\RO\\DataChallenge2018\\png_out\\precip\\new_datum_201508292000.png\n",
      "D:\\Projects\\RO\\DataChallenge2018\\png_out\\precip\\new_datum_201508292100.png\n",
      "D:\\Projects\\RO\\DataChallenge2018\\png_out\\precip\\new_datum_201508292200.png\n",
      "D:\\Projects\\RO\\DataChallenge2018\\png_out\\precip\\new_datum_201508292300.png\n",
      "D:\\Projects\\RO\\DataChallenge2018\\png_out\\precip\\new_datum_201508300000.png\n",
      "D:\\Projects\\RO\\DataChallenge2018\\png_out\\precip\\new_datum_201508300100.png\n",
      "D:\\Projects\\RO\\DataChallenge2018\\png_out\\precip\\new_datum_201508300200.png\n",
      "D:\\Projects\\RO\\DataChallenge2018\\png_out\\precip\\new_datum_201508300300.png\n",
      "D:\\Projects\\RO\\DataChallenge2018\\png_out\\precip\\new_datum_201508300400.png\n",
      "D:\\Projects\\RO\\DataChallenge2018\\png_out\\precip\\new_datum_201508300500.png\n",
      "D:\\Projects\\RO\\DataChallenge2018\\png_out\\precip\\new_datum_201508300600.png\n",
      "D:\\Projects\\RO\\DataChallenge2018\\png_out\\precip\\new_datum_201508300700.png\n",
      "D:\\Projects\\RO\\DataChallenge2018\\png_out\\precip\\new_datum_201508300800.png\n",
      "D:\\Projects\\RO\\DataChallenge2018\\png_out\\precip\\new_datum_201508300900.png\n",
      "D:\\Projects\\RO\\DataChallenge2018\\png_out\\precip\\new_datum_201508301000.png\n",
      "D:\\Projects\\RO\\DataChallenge2018\\png_out\\precip\\new_datum_201508301100.png\n",
      "D:\\Projects\\RO\\DataChallenge2018\\png_out\\precip\\new_datum_201508301200.png\n",
      "D:\\Projects\\RO\\DataChallenge2018\\png_out\\precip\\new_datum_201508301300.png\n",
      "D:\\Projects\\RO\\DataChallenge2018\\png_out\\precip\\new_datum_201508301400.png\n",
      "D:\\Projects\\RO\\DataChallenge2018\\png_out\\precip\\new_datum_201508301500.png\n",
      "D:\\Projects\\RO\\DataChallenge2018\\png_out\\precip\\new_datum_201508301600.png\n",
      "D:\\Projects\\RO\\DataChallenge2018\\png_out\\precip\\new_datum_201508301700.png\n",
      "D:\\Projects\\RO\\DataChallenge2018\\png_out\\precip\\new_datum_201508301800.png\n",
      "D:\\Projects\\RO\\DataChallenge2018\\png_out\\precip\\new_datum_201508301900.png\n",
      "D:\\Projects\\RO\\DataChallenge2018\\png_out\\precip\\new_datum_201508302000.png\n",
      "D:\\Projects\\RO\\DataChallenge2018\\png_out\\precip\\new_datum_201508302100.png\n",
      "D:\\Projects\\RO\\DataChallenge2018\\png_out\\precip\\new_datum_201508302200.png\n",
      "D:\\Projects\\RO\\DataChallenge2018\\png_out\\precip\\new_datum_201508302300.png\n",
      "D:\\Projects\\RO\\DataChallenge2018\\png_out\\precip\\new_datum_201508310000.png\n",
      "D:\\Projects\\RO\\DataChallenge2018\\png_out\\precip\\new_datum_201508310100.png\n",
      "D:\\Projects\\RO\\DataChallenge2018\\png_out\\precip\\new_datum_201508310200.png\n",
      "D:\\Projects\\RO\\DataChallenge2018\\png_out\\precip\\new_datum_201508310300.png\n",
      "D:\\Projects\\RO\\DataChallenge2018\\png_out\\precip\\new_datum_201508310400.png\n",
      "D:\\Projects\\RO\\DataChallenge2018\\png_out\\precip\\new_datum_201508310500.png\n",
      "D:\\Projects\\RO\\DataChallenge2018\\png_out\\precip\\new_datum_201508310600.png\n",
      "D:\\Projects\\RO\\DataChallenge2018\\png_out\\precip\\new_datum_201508310700.png\n",
      "D:\\Projects\\RO\\DataChallenge2018\\png_out\\precip\\new_datum_201508310800.png\n",
      "D:\\Projects\\RO\\DataChallenge2018\\png_out\\precip\\new_datum_201508310900.png\n",
      "D:\\Projects\\RO\\DataChallenge2018\\png_out\\precip\\new_datum_201508311000.png\n",
      "D:\\Projects\\RO\\DataChallenge2018\\png_out\\precip\\new_datum_201508311100.png\n",
      "D:\\Projects\\RO\\DataChallenge2018\\png_out\\precip\\new_datum_201508311200.png\n",
      "D:\\Projects\\RO\\DataChallenge2018\\png_out\\precip\\new_datum_201508311300.png\n",
      "D:\\Projects\\RO\\DataChallenge2018\\png_out\\precip\\new_datum_201508311400.png\n",
      "D:\\Projects\\RO\\DataChallenge2018\\png_out\\precip\\new_datum_201508311500.png\n",
      "D:\\Projects\\RO\\DataChallenge2018\\png_out\\precip\\new_datum_201508311600.png\n",
      "D:\\Projects\\RO\\DataChallenge2018\\png_out\\precip\\new_datum_201508311700.png\n",
      "D:\\Projects\\RO\\DataChallenge2018\\png_out\\precip\\new_datum_201508311800.png\n",
      "D:\\Projects\\RO\\DataChallenge2018\\png_out\\precip\\new_datum_201508311900.png\n",
      "D:\\Projects\\RO\\DataChallenge2018\\png_out\\precip\\new_datum_201508312000.png\n",
      "D:\\Projects\\RO\\DataChallenge2018\\png_out\\precip\\new_datum_201508312100.png\n",
      "D:\\Projects\\RO\\DataChallenge2018\\png_out\\precip\\new_datum_201508312200.png\n",
      "D:\\Projects\\RO\\DataChallenge2018\\png_out\\precip\\new_datum_201508312300.png\n",
      "D:\\Projects\\RO\\DataChallenge2018\\png_out\\precip\\new_datum_201509010000.png\n",
      "D:\\Projects\\RO\\DataChallenge2018\\png_out\\precip\\new_datum_201509010100.png\n",
      "D:\\Projects\\RO\\DataChallenge2018\\png_out\\precip\\new_datum_201509010200.png\n",
      "D:\\Projects\\RO\\DataChallenge2018\\png_out\\precip\\new_datum_201509010300.png\n",
      "D:\\Projects\\RO\\DataChallenge2018\\png_out\\precip\\new_datum_201509010400.png\n",
      "D:\\Projects\\RO\\DataChallenge2018\\png_out\\precip\\new_datum_201509010500.png\n",
      "D:\\Projects\\RO\\DataChallenge2018\\png_out\\precip\\new_datum_201509010600.png\n",
      "D:\\Projects\\RO\\DataChallenge2018\\png_out\\precip\\new_datum_201509010700.png\n",
      "D:\\Projects\\RO\\DataChallenge2018\\png_out\\precip\\new_datum_201509010800.png\n",
      "D:\\Projects\\RO\\DataChallenge2018\\png_out\\precip\\new_datum_201509010900.png\n",
      "D:\\Projects\\RO\\DataChallenge2018\\png_out\\precip\\new_datum_201509011000.png\n",
      "D:\\Projects\\RO\\DataChallenge2018\\png_out\\precip\\new_datum_201509011100.png\n",
      "D:\\Projects\\RO\\DataChallenge2018\\png_out\\precip\\new_datum_201509011200.png\n",
      "D:\\Projects\\RO\\DataChallenge2018\\png_out\\precip\\new_datum_201509011300.png\n",
      "D:\\Projects\\RO\\DataChallenge2018\\png_out\\precip\\new_datum_201509011400.png\n",
      "D:\\Projects\\RO\\DataChallenge2018\\png_out\\precip\\new_datum_201509011500.png\n",
      "D:\\Projects\\RO\\DataChallenge2018\\png_out\\precip\\new_datum_201509011600.png\n",
      "D:\\Projects\\RO\\DataChallenge2018\\png_out\\precip\\new_datum_201509011700.png\n",
      "D:\\Projects\\RO\\DataChallenge2018\\png_out\\precip\\new_datum_201509011800.png\n",
      "D:\\Projects\\RO\\DataChallenge2018\\png_out\\precip\\new_datum_201509011900.png\n",
      "D:\\Projects\\RO\\DataChallenge2018\\png_out\\precip\\new_datum_201509012000.png\n",
      "D:\\Projects\\RO\\DataChallenge2018\\png_out\\precip\\new_datum_201509012100.png\n",
      "D:\\Projects\\RO\\DataChallenge2018\\png_out\\precip\\new_datum_201509012200.png\n",
      "D:\\Projects\\RO\\DataChallenge2018\\png_out\\precip\\new_datum_201509012300.png\n",
      "D:\\Projects\\RO\\DataChallenge2018\\png_out\\precip\\new_datum_201509020000.png\n",
      "D:\\Projects\\RO\\DataChallenge2018\\png_out\\precip\\new_datum_201509020100.png\n",
      "D:\\Projects\\RO\\DataChallenge2018\\png_out\\precip\\new_datum_201509020200.png\n",
      "D:\\Projects\\RO\\DataChallenge2018\\png_out\\precip\\new_datum_201509020300.png\n",
      "D:\\Projects\\RO\\DataChallenge2018\\png_out\\precip\\new_datum_201509020400.png\n",
      "D:\\Projects\\RO\\DataChallenge2018\\png_out\\precip\\new_datum_201509020500.png\n",
      "D:\\Projects\\RO\\DataChallenge2018\\png_out\\precip\\new_datum_201509020600.png\n",
      "D:\\Projects\\RO\\DataChallenge2018\\png_out\\precip\\new_datum_201509020700.png\n"
     ]
    },
    {
     "name": "stdout",
     "output_type": "stream",
     "text": [
      "D:\\Projects\\RO\\DataChallenge2018\\png_out\\precip\\new_datum_201509020800.png\n"
     ]
    }
   ],
   "source": [
    "for df_date in df_event.iterrows():\n",
    "    df_in_date = pd.DataFrame(df_date[1]).reset_index()\n",
    "    df_in_date.columns = ['df_id', 'date_mm']\n",
    "    gdf_date_mm = pd.merge(gdf, df_in_date, left_on = 'NAAM', right_on = 'df_id')\n",
    "    \n",
    "    # plot using matplotlib\n",
    "    cmap = mpl.cm.Blues  # cool\n",
    "    norm = mpl.colors.Normalize(vmin=0, vmax=40)\n",
    "\n",
    "    # save figure to file\n",
    "    fig = plt.figure(figsize=(14,5))\n",
    "    plt.gca().set_aspect('equal')\n",
    "    ax = plt.gca()\n",
    "    feat = gdf_date_mm.plot('date_mm', vmin=0, vmax=40, ax=ax,\n",
    "                            cmap=cmap, norm=norm, legend=True, )\n",
    "    \n",
    "    gdf_date_mm.plot(ax=ax, color='None', edgecolor='black')\n",
    "    \n",
    "    colors_outline = ['#FF47FF','#8BB9BA']    \n",
    "    for sel_feat in sel_gdf.iterrows(): \n",
    "\n",
    "        df_feat = pd.DataFrame(sel_feat[1]).T\n",
    "        crs = {'init': 'epsg:4326'}\n",
    "        gdf_feat = gpd.GeoDataFrame(df_feat, crs=crs, geometry=df_feat['geometry'])    \n",
    "        gdf_feat.plot(ax=ax, color='None', edgecolor=colors_outline[sel_feat[0]], linewidth=2)    \n",
    "    plt.text(5.05, 51.81, df_date[0].strftime('%d %B %Y - %H:%M'), size=14)\n",
    "    plt.title('neerslag in mm/uur')\n",
    "    #plt.show()\n",
    "    \n",
    "    file_png_out = os.path.join(png_out,'new_datum_{}.png'.format(df_date[0].strftime('%Y%m%d%H%M')))\n",
    "    print(file_png_out)\n",
    "    plt.savefig(file_png_out)\n",
    "    plt.close(fig)    "
   ]
  },
  {
   "cell_type": "code",
   "execution_count": 37,
   "metadata": {},
   "outputs": [
    {
     "data": {
      "text/plain": [
       "'orange'"
      ]
     },
     "execution_count": 37,
     "metadata": {},
     "output_type": "execute_result"
    }
   ],
   "source": [
    "colors_outline[1]"
   ]
  },
  {
   "cell_type": "code",
   "execution_count": 69,
   "metadata": {},
   "outputs": [
    {
     "data": {
      "image/png": "[encoded data removed]",
      "text/plain": [
       "<matplotlib.figure.Figure at 0x246c5c18>"
      ]
     },
     "metadata": {},
     "output_type": "display_data"
    }
   ],
   "source": [
    "# plot using matplotlib\n",
    "cmap = mpl.cm.Blues  # cool\n",
    "norm = mpl.colors.Normalize(vmin=0, vmax=8)\n",
    "\n",
    "# save figure to file\n",
    "fig = plt.figure(figsize=(14,5))\n",
    "plt.gca().set_aspect('equal')\n",
    "ax = plt.gca()\n",
    "feat = gdf_date_mm.plot('date_mm', vmin=0, vmax=40, ax=ax,\n",
    "                        cmap=cmap, norm=norm, legend=True, )\n",
    "\n",
    "colors_outline = ['green','orange','red']\n",
    "for sel_feat in sel_gdf.iterrows(): \n",
    "    \n",
    "    df_feat = pd.DataFrame(sel_feat[1]).T\n",
    "    crs = {'init': 'epsg:4326'}\n",
    "    gdf_feat = gpd.GeoDataFrame(df_feat, crs=crs, geometry=df_feat['geometry'])    \n",
    "    gdf_feat.plot(ax=ax, color='None', edgecolor=colors_outline[sel_feat[0]])\n",
    "\n",
    "\n",
    "plt.text(5.05, 51.81, df_date[0].strftime('%d %B %Y - %H:%M'), size=14)\n",
    "plt.show()\n",
    "#plt.savefig(os.path.join(png_out,'datum_{}.png'.format(df_date[0].strftime('%Y%m%d%H%M'))))\n",
    "#plt.close(fig)"
   ]
  },
  {
   "cell_type": "code",
   "execution_count": 64,
   "metadata": {},
   "outputs": [
    {
     "data": {
      "text/plain": [
       "([], [])"
      ]
     },
     "execution_count": 64,
     "metadata": {},
     "output_type": "execute_result"
    }
   ],
   "source": [
    "feat.get_legend_handles_labels()"
   ]
  },
  {
   "cell_type": "code",
   "execution_count": 49,
   "metadata": {},
   "outputs": [
    {
     "data": {
      "text/plain": [
       "<matplotlib.axes._subplots.AxesSubplot at 0x279a7cc0>"
      ]
     },
     "execution_count": 49,
     "metadata": {},
     "output_type": "execute_result"
    },
    {
     "data": {
      "image/png": "[encoded data removed]",
      "text/plain": [
       "<matplotlib.figure.Figure at 0x27ddda58>"
      ]
     },
     "metadata": {},
     "output_type": "display_data"
    }
   ],
   "source": [
    "gdf_feat.plot()"
   ]
  },
  {
   "cell_type": "code",
   "execution_count": null,
   "metadata": {},
   "outputs": [],
   "source": []
  },
  {
   "cell_type": "code",
   "execution_count": null,
   "metadata": {},
   "outputs": [],
   "source": []
  },
  {
   "cell_type": "code",
   "execution_count": null,
   "metadata": {},
   "outputs": [],
   "source": []
  },
  {
   "cell_type": "code",
   "execution_count": null,
   "metadata": {},
   "outputs": [],
   "source": [
    "gdf.head()"
   ]
  },
  {
   "cell_type": "code",
   "execution_count": null,
   "metadata": {},
   "outputs": [],
   "source": []
  },
  {
   "cell_type": "code",
   "execution_count": null,
   "metadata": {},
   "outputs": [],
   "source": [
    "df_all.index.name = 'datetime'"
   ]
  },
  {
   "cell_type": "code",
   "execution_count": null,
   "metadata": {},
   "outputs": [],
   "source": [
    "df_all.to_csv(r'D:\\Projects\\RO\\0815.10 Data Challenge 2018\\Neerslag//neerslag_mm_hr.csv')"
   ]
  },
  {
   "cell_type": "code",
   "execution_count": null,
   "metadata": {},
   "outputs": [],
   "source": [
    "df_precip = df_all.groupby(pd.TimeGrouper('H')).sum()"
   ]
  },
  {
   "cell_type": "code",
   "execution_count": null,
   "metadata": {},
   "outputs": [],
   "source": []
  },
  {
   "cell_type": "code",
   "execution_count": null,
   "metadata": {},
   "outputs": [],
   "source": [
    "%matplotlib inline\n",
    "df_precip['2015-08-30 18:00':'2015-08-31 08:00']['LHA251'].plot(kind='bar')"
   ]
  },
  {
   "cell_type": "code",
   "execution_count": null,
   "metadata": {},
   "outputs": [],
   "source": [
    "df_2H = df_precip.rolling(window = '2H').sum()#.shift(1)\n",
    "df_2H['2015-08-30 17:00':'2015-08-31 08:00']['LHA251'].plot(kind='bar')"
   ]
  },
  {
   "cell_type": "code",
   "execution_count": null,
   "metadata": {},
   "outputs": [],
   "source": [
    "df_6H = df_precip.rolling(window = '6H').sum()#.shift(-6)\n",
    "df_6H['2015-08-30 17:00':'2015-08-31 08:00']['LHA251'].plot(kind='bar')\n",
    "\n",
    "# df_2H = df_precip.resample('2H', closed='right').sum().shift(1)\n",
    "# df_2H['2015-08-30 17:00':'2015-08-31 08:00']['LHA251'].plot(kind='bar')"
   ]
  },
  {
   "cell_type": "code",
   "execution_count": null,
   "metadata": {},
   "outputs": [],
   "source": [
    "df_6H.shape"
   ]
  },
  {
   "cell_type": "code",
   "execution_count": null,
   "metadata": {},
   "outputs": [],
   "source": [
    "df_2H.shape"
   ]
  },
  {
   "cell_type": "code",
   "execution_count": null,
   "metadata": {},
   "outputs": [],
   "source": [
    "df_precip.shape"
   ]
  },
  {
   "cell_type": "code",
   "execution_count": null,
   "metadata": {},
   "outputs": [],
   "source": [
    "df_precip.head()"
   ]
  },
  {
   "cell_type": "code",
   "execution_count": null,
   "metadata": {},
   "outputs": [],
   "source": [
    "df_2H.head()"
   ]
  },
  {
   "cell_type": "code",
   "execution_count": null,
   "metadata": {},
   "outputs": [],
   "source": []
  }
 ],
 "metadata": {
  "kernelspec": {
   "display_name": "Python 3",
   "language": "python",
   "name": "python3"
  },
  "language_info": {
   "codemirror_mode": {
    "name": "ipython",
    "version": 3
   },
   "file_extension": ".py",
   "mimetype": "text/x-python",
   "name": "python",
   "nbconvert_exporter": "python",
   "pygments_lexer": "ipython3",
   "version": "3.5.2"
  }
 },
 "nbformat": 4,
 "nbformat_minor": 2
}
