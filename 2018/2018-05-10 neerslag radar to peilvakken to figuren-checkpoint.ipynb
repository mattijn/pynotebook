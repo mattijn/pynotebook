{
 "cells": [
  {
   "cell_type": "code",
   "execution_count": 1,
   "metadata": {},
   "outputs": [],
   "source": [
    "import pandas as pd\n",
    "import geopandas as gpd\n",
    "import glob\n",
    "import numpy as np\n",
    "import os\n",
    "import matplotlib.pyplot as plt\n",
    "import matplotlib as mpl\n",
    "%matplotlib inline"
   ]
  },
  {
   "cell_type": "code",
   "execution_count": 2,
   "metadata": {},
   "outputs": [
    {
     "data": {
      "text/html": [
       "<div>\n",
       "<style scoped>\n",
       "    .dataframe tbody tr th:only-of-type {\n",
       "        vertical-align: middle;\n",
       "    }\n",
       "\n",
       "    .dataframe tbody tr th {\n",
       "        vertical-align: top;\n",
       "    }\n",
       "\n",
       "    .dataframe thead th {\n",
       "        text-align: right;\n",
       "    }\n",
       "</style>\n",
       "<table border=\"1\" class=\"dataframe\">\n",
       "  <thead>\n",
       "    <tr style=\"text-align: right;\">\n",
       "      <th></th>\n",
       "      <th>0</th>\n",
       "      <th>1</th>\n",
       "      <th>2</th>\n",
       "      <th>3</th>\n",
       "      <th>4</th>\n",
       "      <th>5</th>\n",
       "      <th>6</th>\n",
       "      <th>7</th>\n",
       "      <th>8</th>\n",
       "      <th>9</th>\n",
       "      <th>...</th>\n",
       "      <th>142</th>\n",
       "      <th>143</th>\n",
       "      <th>144</th>\n",
       "      <th>145</th>\n",
       "      <th>146</th>\n",
       "      <th>147</th>\n",
       "      <th>148</th>\n",
       "      <th>149</th>\n",
       "      <th>52</th>\n",
       "      <th>150</th>\n",
       "    </tr>\n",
       "    <tr>\n",
       "      <th>Unnamed: 0</th>\n",
       "      <th></th>\n",
       "      <th></th>\n",
       "      <th></th>\n",
       "      <th></th>\n",
       "      <th></th>\n",
       "      <th></th>\n",
       "      <th></th>\n",
       "      <th></th>\n",
       "      <th></th>\n",
       "      <th></th>\n",
       "      <th></th>\n",
       "      <th></th>\n",
       "      <th></th>\n",
       "      <th></th>\n",
       "      <th></th>\n",
       "      <th></th>\n",
       "      <th></th>\n",
       "      <th></th>\n",
       "      <th></th>\n",
       "      <th></th>\n",
       "      <th></th>\n",
       "    </tr>\n",
       "  </thead>\n",
       "  <tbody>\n",
       "    <tr>\n",
       "      <th>2015-08-30 17:45:00</th>\n",
       "      <td>0.0</td>\n",
       "      <td>0.0</td>\n",
       "      <td>0.0</td>\n",
       "      <td>0.0</td>\n",
       "      <td>0.0</td>\n",
       "      <td>0.0</td>\n",
       "      <td>0.0</td>\n",
       "      <td>0.0</td>\n",
       "      <td>0.0</td>\n",
       "      <td>0.0</td>\n",
       "      <td>...</td>\n",
       "      <td>0.0</td>\n",
       "      <td>0.0</td>\n",
       "      <td>0.0</td>\n",
       "      <td>0.0</td>\n",
       "      <td>0.0</td>\n",
       "      <td>0.0</td>\n",
       "      <td>0.0</td>\n",
       "      <td>0.0</td>\n",
       "      <td>0.0</td>\n",
       "      <td>0.0</td>\n",
       "    </tr>\n",
       "    <tr>\n",
       "      <th>2015-08-30 17:00:00</th>\n",
       "      <td>0.0</td>\n",
       "      <td>0.0</td>\n",
       "      <td>0.0</td>\n",
       "      <td>0.0</td>\n",
       "      <td>0.0</td>\n",
       "      <td>0.0</td>\n",
       "      <td>0.0</td>\n",
       "      <td>0.0</td>\n",
       "      <td>0.0</td>\n",
       "      <td>0.0</td>\n",
       "      <td>...</td>\n",
       "      <td>0.0</td>\n",
       "      <td>0.0</td>\n",
       "      <td>0.0</td>\n",
       "      <td>0.0</td>\n",
       "      <td>0.0</td>\n",
       "      <td>0.0</td>\n",
       "      <td>0.0</td>\n",
       "      <td>0.0</td>\n",
       "      <td>0.0</td>\n",
       "      <td>0.0</td>\n",
       "    </tr>\n",
       "    <tr>\n",
       "      <th>2015-08-30 17:05:00</th>\n",
       "      <td>0.0</td>\n",
       "      <td>0.0</td>\n",
       "      <td>0.0</td>\n",
       "      <td>0.0</td>\n",
       "      <td>0.0</td>\n",
       "      <td>0.0</td>\n",
       "      <td>0.0</td>\n",
       "      <td>0.0</td>\n",
       "      <td>0.0</td>\n",
       "      <td>0.0</td>\n",
       "      <td>...</td>\n",
       "      <td>0.0</td>\n",
       "      <td>0.0</td>\n",
       "      <td>0.0</td>\n",
       "      <td>0.0</td>\n",
       "      <td>0.0</td>\n",
       "      <td>0.0</td>\n",
       "      <td>0.0</td>\n",
       "      <td>0.0</td>\n",
       "      <td>0.0</td>\n",
       "      <td>0.0</td>\n",
       "    </tr>\n",
       "    <tr>\n",
       "      <th>2015-08-30 17:10:00</th>\n",
       "      <td>0.0</td>\n",
       "      <td>0.0</td>\n",
       "      <td>0.0</td>\n",
       "      <td>0.0</td>\n",
       "      <td>0.0</td>\n",
       "      <td>0.0</td>\n",
       "      <td>0.0</td>\n",
       "      <td>0.0</td>\n",
       "      <td>0.0</td>\n",
       "      <td>0.0</td>\n",
       "      <td>...</td>\n",
       "      <td>0.0</td>\n",
       "      <td>0.0</td>\n",
       "      <td>0.0</td>\n",
       "      <td>0.0</td>\n",
       "      <td>0.0</td>\n",
       "      <td>0.0</td>\n",
       "      <td>0.0</td>\n",
       "      <td>0.0</td>\n",
       "      <td>0.0</td>\n",
       "      <td>0.0</td>\n",
       "    </tr>\n",
       "    <tr>\n",
       "      <th>2015-08-30 17:15:00</th>\n",
       "      <td>0.0</td>\n",
       "      <td>0.0</td>\n",
       "      <td>0.0</td>\n",
       "      <td>0.0</td>\n",
       "      <td>0.0</td>\n",
       "      <td>0.0</td>\n",
       "      <td>0.0</td>\n",
       "      <td>0.0</td>\n",
       "      <td>0.0</td>\n",
       "      <td>0.0</td>\n",
       "      <td>...</td>\n",
       "      <td>0.0</td>\n",
       "      <td>0.0</td>\n",
       "      <td>0.0</td>\n",
       "      <td>0.0</td>\n",
       "      <td>0.0</td>\n",
       "      <td>0.0</td>\n",
       "      <td>0.0</td>\n",
       "      <td>0.0</td>\n",
       "      <td>0.0</td>\n",
       "      <td>0.0</td>\n",
       "    </tr>\n",
       "  </tbody>\n",
       "</table>\n",
       "<p>5 rows × 151 columns</p>\n",
       "</div>"
      ],
      "text/plain": [
       "                       0    1    2    3    4    5    6    7    8    9 ...   \\\n",
       "Unnamed: 0                                                            ...    \n",
       "2015-08-30 17:45:00  0.0  0.0  0.0  0.0  0.0  0.0  0.0  0.0  0.0  0.0 ...    \n",
       "2015-08-30 17:00:00  0.0  0.0  0.0  0.0  0.0  0.0  0.0  0.0  0.0  0.0 ...    \n",
       "2015-08-30 17:05:00  0.0  0.0  0.0  0.0  0.0  0.0  0.0  0.0  0.0  0.0 ...    \n",
       "2015-08-30 17:10:00  0.0  0.0  0.0  0.0  0.0  0.0  0.0  0.0  0.0  0.0 ...    \n",
       "2015-08-30 17:15:00  0.0  0.0  0.0  0.0  0.0  0.0  0.0  0.0  0.0  0.0 ...    \n",
       "\n",
       "                     142  143  144  145  146  147  148  149   52  150  \n",
       "Unnamed: 0                                                             \n",
       "2015-08-30 17:45:00  0.0  0.0  0.0  0.0  0.0  0.0  0.0  0.0  0.0  0.0  \n",
       "2015-08-30 17:00:00  0.0  0.0  0.0  0.0  0.0  0.0  0.0  0.0  0.0  0.0  \n",
       "2015-08-30 17:05:00  0.0  0.0  0.0  0.0  0.0  0.0  0.0  0.0  0.0  0.0  \n",
       "2015-08-30 17:10:00  0.0  0.0  0.0  0.0  0.0  0.0  0.0  0.0  0.0  0.0  \n",
       "2015-08-30 17:15:00  0.0  0.0  0.0  0.0  0.0  0.0  0.0  0.0  0.0  0.0  \n",
       "\n",
       "[5 rows x 151 columns]"
      ]
     },
     "execution_count": 2,
     "metadata": {},
     "output_type": "execute_result"
    }
   ],
   "source": [
    "# neerslag data per tijdstip per peilvak (index is tijdstap, columns is peilvak)\n",
    "df = pd.read_csv(r'P:\\RO\\0815.10\\Werkmap\\Mattijn\\neerslag\\agg_peilvak.csv')\n",
    "df.set_index('Unnamed: 0', inplace=True)\n",
    "df.index = pd.to_datetime(df.index)\n",
    "df.head()"
   ]
  },
  {
   "cell_type": "code",
   "execution_count": 3,
   "metadata": {},
   "outputs": [],
   "source": [
    "# from_date = '2015-08-28 18:00'\n",
    "# to_date = '2015-09-02 08:00'\n",
    "# df = df[from_date:to_date]"
   ]
  },
  {
   "cell_type": "code",
   "execution_count": 4,
   "metadata": {},
   "outputs": [],
   "source": [
    "gdf = gpd.read_file(r'D:\\Projects\\RO\\DataChallenge2018\\shape\\peilvakken_WRSL_neerslag_mmWGS84.shp')"
   ]
  },
  {
   "cell_type": "code",
   "execution_count": 5,
   "metadata": {},
   "outputs": [],
   "source": [
    "sel_gdf = gdf[gdf['ID'].isin([92,74])]\n",
    "sel_gdf.reset_index(drop=True, inplace=True)"
   ]
  },
  {
   "cell_type": "code",
   "execution_count": 6,
   "metadata": {},
   "outputs": [],
   "source": [
    "png_out = r'D:\\Projects\\RO\\DataChallenge2018\\png_out\\precip.radar.aggregated'"
   ]
  },
  {
   "cell_type": "code",
   "execution_count": 7,
   "metadata": {},
   "outputs": [
    {
     "name": "stdout",
     "output_type": "stream",
     "text": [
      "D:\\Projects\\RO\\DataChallenge2018\\png_out\\precip.radar.aggregated\\new_datum_201508301745.png\n",
      "D:\\Projects\\RO\\DataChallenge2018\\png_out\\precip.radar.aggregated\\new_datum_201508301700.png\n",
      "D:\\Projects\\RO\\DataChallenge2018\\png_out\\precip.radar.aggregated\\new_datum_201508301705.png\n",
      "D:\\Projects\\RO\\DataChallenge2018\\png_out\\precip.radar.aggregated\\new_datum_201508301710.png\n",
      "D:\\Projects\\RO\\DataChallenge2018\\png_out\\precip.radar.aggregated\\new_datum_201508301715.png\n",
      "D:\\Projects\\RO\\DataChallenge2018\\png_out\\precip.radar.aggregated\\new_datum_201508301720.png\n",
      "D:\\Projects\\RO\\DataChallenge2018\\png_out\\precip.radar.aggregated\\new_datum_201508301725.png\n",
      "D:\\Projects\\RO\\DataChallenge2018\\png_out\\precip.radar.aggregated\\new_datum_201508301730.png\n",
      "D:\\Projects\\RO\\DataChallenge2018\\png_out\\precip.radar.aggregated\\new_datum_201508301735.png\n",
      "D:\\Projects\\RO\\DataChallenge2018\\png_out\\precip.radar.aggregated\\new_datum_201508301740.png\n",
      "D:\\Projects\\RO\\DataChallenge2018\\png_out\\precip.radar.aggregated\\new_datum_201508301750.png\n",
      "D:\\Projects\\RO\\DataChallenge2018\\png_out\\precip.radar.aggregated\\new_datum_201508301755.png\n",
      "D:\\Projects\\RO\\DataChallenge2018\\png_out\\precip.radar.aggregated\\new_datum_201508301800.png\n",
      "D:\\Projects\\RO\\DataChallenge2018\\png_out\\precip.radar.aggregated\\new_datum_201508301805.png\n",
      "D:\\Projects\\RO\\DataChallenge2018\\png_out\\precip.radar.aggregated\\new_datum_201508301810.png\n",
      "D:\\Projects\\RO\\DataChallenge2018\\png_out\\precip.radar.aggregated\\new_datum_201508301815.png\n",
      "D:\\Projects\\RO\\DataChallenge2018\\png_out\\precip.radar.aggregated\\new_datum_201508301820.png\n",
      "D:\\Projects\\RO\\DataChallenge2018\\png_out\\precip.radar.aggregated\\new_datum_201508301825.png\n",
      "D:\\Projects\\RO\\DataChallenge2018\\png_out\\precip.radar.aggregated\\new_datum_201508301830.png\n",
      "D:\\Projects\\RO\\DataChallenge2018\\png_out\\precip.radar.aggregated\\new_datum_201508301835.png\n",
      "D:\\Projects\\RO\\DataChallenge2018\\png_out\\precip.radar.aggregated\\new_datum_201508301840.png\n",
      "D:\\Projects\\RO\\DataChallenge2018\\png_out\\precip.radar.aggregated\\new_datum_201508301845.png\n",
      "D:\\Projects\\RO\\DataChallenge2018\\png_out\\precip.radar.aggregated\\new_datum_201508301850.png\n",
      "D:\\Projects\\RO\\DataChallenge2018\\png_out\\precip.radar.aggregated\\new_datum_201508301855.png\n",
      "D:\\Projects\\RO\\DataChallenge2018\\png_out\\precip.radar.aggregated\\new_datum_201508301900.png\n",
      "D:\\Projects\\RO\\DataChallenge2018\\png_out\\precip.radar.aggregated\\new_datum_201508301905.png\n",
      "D:\\Projects\\RO\\DataChallenge2018\\png_out\\precip.radar.aggregated\\new_datum_201508301910.png\n",
      "D:\\Projects\\RO\\DataChallenge2018\\png_out\\precip.radar.aggregated\\new_datum_201508301915.png\n",
      "D:\\Projects\\RO\\DataChallenge2018\\png_out\\precip.radar.aggregated\\new_datum_201508301920.png\n",
      "D:\\Projects\\RO\\DataChallenge2018\\png_out\\precip.radar.aggregated\\new_datum_201508301925.png\n",
      "D:\\Projects\\RO\\DataChallenge2018\\png_out\\precip.radar.aggregated\\new_datum_201508301930.png\n",
      "D:\\Projects\\RO\\DataChallenge2018\\png_out\\precip.radar.aggregated\\new_datum_201508301935.png\n",
      "D:\\Projects\\RO\\DataChallenge2018\\png_out\\precip.radar.aggregated\\new_datum_201508301940.png\n",
      "D:\\Projects\\RO\\DataChallenge2018\\png_out\\precip.radar.aggregated\\new_datum_201508301945.png\n",
      "D:\\Projects\\RO\\DataChallenge2018\\png_out\\precip.radar.aggregated\\new_datum_201508301950.png\n",
      "D:\\Projects\\RO\\DataChallenge2018\\png_out\\precip.radar.aggregated\\new_datum_201508301955.png\n",
      "D:\\Projects\\RO\\DataChallenge2018\\png_out\\precip.radar.aggregated\\new_datum_201508302000.png\n",
      "D:\\Projects\\RO\\DataChallenge2018\\png_out\\precip.radar.aggregated\\new_datum_201508302005.png\n",
      "D:\\Projects\\RO\\DataChallenge2018\\png_out\\precip.radar.aggregated\\new_datum_201508302010.png\n",
      "D:\\Projects\\RO\\DataChallenge2018\\png_out\\precip.radar.aggregated\\new_datum_201508302015.png\n",
      "D:\\Projects\\RO\\DataChallenge2018\\png_out\\precip.radar.aggregated\\new_datum_201508302020.png\n",
      "D:\\Projects\\RO\\DataChallenge2018\\png_out\\precip.radar.aggregated\\new_datum_201508302025.png\n",
      "D:\\Projects\\RO\\DataChallenge2018\\png_out\\precip.radar.aggregated\\new_datum_201508302030.png\n",
      "D:\\Projects\\RO\\DataChallenge2018\\png_out\\precip.radar.aggregated\\new_datum_201508302035.png\n",
      "D:\\Projects\\RO\\DataChallenge2018\\png_out\\precip.radar.aggregated\\new_datum_201508302040.png\n",
      "D:\\Projects\\RO\\DataChallenge2018\\png_out\\precip.radar.aggregated\\new_datum_201508302045.png\n",
      "D:\\Projects\\RO\\DataChallenge2018\\png_out\\precip.radar.aggregated\\new_datum_201508302050.png\n",
      "D:\\Projects\\RO\\DataChallenge2018\\png_out\\precip.radar.aggregated\\new_datum_201508302055.png\n",
      "D:\\Projects\\RO\\DataChallenge2018\\png_out\\precip.radar.aggregated\\new_datum_201508302100.png\n",
      "D:\\Projects\\RO\\DataChallenge2018\\png_out\\precip.radar.aggregated\\new_datum_201508302105.png\n",
      "D:\\Projects\\RO\\DataChallenge2018\\png_out\\precip.radar.aggregated\\new_datum_201508302110.png\n",
      "D:\\Projects\\RO\\DataChallenge2018\\png_out\\precip.radar.aggregated\\new_datum_201508302115.png\n",
      "D:\\Projects\\RO\\DataChallenge2018\\png_out\\precip.radar.aggregated\\new_datum_201508302120.png\n",
      "D:\\Projects\\RO\\DataChallenge2018\\png_out\\precip.radar.aggregated\\new_datum_201508302125.png\n",
      "D:\\Projects\\RO\\DataChallenge2018\\png_out\\precip.radar.aggregated\\new_datum_201508302130.png\n",
      "D:\\Projects\\RO\\DataChallenge2018\\png_out\\precip.radar.aggregated\\new_datum_201508302135.png\n",
      "D:\\Projects\\RO\\DataChallenge2018\\png_out\\precip.radar.aggregated\\new_datum_201508302140.png\n",
      "D:\\Projects\\RO\\DataChallenge2018\\png_out\\precip.radar.aggregated\\new_datum_201508302145.png\n",
      "D:\\Projects\\RO\\DataChallenge2018\\png_out\\precip.radar.aggregated\\new_datum_201508302150.png\n",
      "D:\\Projects\\RO\\DataChallenge2018\\png_out\\precip.radar.aggregated\\new_datum_201508302155.png\n",
      "D:\\Projects\\RO\\DataChallenge2018\\png_out\\precip.radar.aggregated\\new_datum_201508302200.png\n",
      "D:\\Projects\\RO\\DataChallenge2018\\png_out\\precip.radar.aggregated\\new_datum_201508302205.png\n",
      "D:\\Projects\\RO\\DataChallenge2018\\png_out\\precip.radar.aggregated\\new_datum_201508302210.png\n",
      "D:\\Projects\\RO\\DataChallenge2018\\png_out\\precip.radar.aggregated\\new_datum_201508302215.png\n",
      "D:\\Projects\\RO\\DataChallenge2018\\png_out\\precip.radar.aggregated\\new_datum_201508302220.png\n",
      "D:\\Projects\\RO\\DataChallenge2018\\png_out\\precip.radar.aggregated\\new_datum_201508302225.png\n",
      "D:\\Projects\\RO\\DataChallenge2018\\png_out\\precip.radar.aggregated\\new_datum_201508302230.png\n",
      "D:\\Projects\\RO\\DataChallenge2018\\png_out\\precip.radar.aggregated\\new_datum_201508302235.png\n",
      "D:\\Projects\\RO\\DataChallenge2018\\png_out\\precip.radar.aggregated\\new_datum_201508302240.png\n",
      "D:\\Projects\\RO\\DataChallenge2018\\png_out\\precip.radar.aggregated\\new_datum_201508302245.png\n",
      "D:\\Projects\\RO\\DataChallenge2018\\png_out\\precip.radar.aggregated\\new_datum_201508302250.png\n",
      "D:\\Projects\\RO\\DataChallenge2018\\png_out\\precip.radar.aggregated\\new_datum_201508302255.png\n",
      "D:\\Projects\\RO\\DataChallenge2018\\png_out\\precip.radar.aggregated\\new_datum_201508302300.png\n",
      "D:\\Projects\\RO\\DataChallenge2018\\png_out\\precip.radar.aggregated\\new_datum_201508302305.png\n",
      "D:\\Projects\\RO\\DataChallenge2018\\png_out\\precip.radar.aggregated\\new_datum_201508302310.png\n",
      "D:\\Projects\\RO\\DataChallenge2018\\png_out\\precip.radar.aggregated\\new_datum_201508302315.png\n",
      "D:\\Projects\\RO\\DataChallenge2018\\png_out\\precip.radar.aggregated\\new_datum_201508302320.png\n",
      "D:\\Projects\\RO\\DataChallenge2018\\png_out\\precip.radar.aggregated\\new_datum_201508302325.png\n",
      "D:\\Projects\\RO\\DataChallenge2018\\png_out\\precip.radar.aggregated\\new_datum_201508302330.png\n",
      "D:\\Projects\\RO\\DataChallenge2018\\png_out\\precip.radar.aggregated\\new_datum_201508302335.png\n",
      "D:\\Projects\\RO\\DataChallenge2018\\png_out\\precip.radar.aggregated\\new_datum_201508302340.png\n",
      "D:\\Projects\\RO\\DataChallenge2018\\png_out\\precip.radar.aggregated\\new_datum_201508302345.png\n",
      "D:\\Projects\\RO\\DataChallenge2018\\png_out\\precip.radar.aggregated\\new_datum_201508302350.png\n",
      "D:\\Projects\\RO\\DataChallenge2018\\png_out\\precip.radar.aggregated\\new_datum_201508302355.png\n",
      "D:\\Projects\\RO\\DataChallenge2018\\png_out\\precip.radar.aggregated\\new_datum_201508310000.png\n",
      "D:\\Projects\\RO\\DataChallenge2018\\png_out\\precip.radar.aggregated\\new_datum_201508310005.png\n",
      "D:\\Projects\\RO\\DataChallenge2018\\png_out\\precip.radar.aggregated\\new_datum_201508310010.png\n",
      "D:\\Projects\\RO\\DataChallenge2018\\png_out\\precip.radar.aggregated\\new_datum_201508310015.png\n",
      "D:\\Projects\\RO\\DataChallenge2018\\png_out\\precip.radar.aggregated\\new_datum_201508310020.png\n",
      "D:\\Projects\\RO\\DataChallenge2018\\png_out\\precip.radar.aggregated\\new_datum_201508310025.png\n"
     ]
    },
    {
     "name": "stdout",
     "output_type": "stream",
     "text": [
      "D:\\Projects\\RO\\DataChallenge2018\\png_out\\precip.radar.aggregated\\new_datum_201508310030.png\n",
      "D:\\Projects\\RO\\DataChallenge2018\\png_out\\precip.radar.aggregated\\new_datum_201508310035.png\n",
      "D:\\Projects\\RO\\DataChallenge2018\\png_out\\precip.radar.aggregated\\new_datum_201508310040.png\n",
      "D:\\Projects\\RO\\DataChallenge2018\\png_out\\precip.radar.aggregated\\new_datum_201508310045.png\n",
      "D:\\Projects\\RO\\DataChallenge2018\\png_out\\precip.radar.aggregated\\new_datum_201508310050.png\n",
      "D:\\Projects\\RO\\DataChallenge2018\\png_out\\precip.radar.aggregated\\new_datum_201508310055.png\n",
      "D:\\Projects\\RO\\DataChallenge2018\\png_out\\precip.radar.aggregated\\new_datum_201508310100.png\n"
     ]
    }
   ],
   "source": [
    "for df_date in df.iterrows():\n",
    "    df_in_date = pd.DataFrame(df_date[1]).reset_index()\n",
    "    df_in_date.columns = ['df_id', 'date_mm']\n",
    "    df_in_date['df_id'] = df_in_date['df_id'].astype(int)\n",
    "    df_in_date['date_mm'] = df_in_date['date_mm'].astype(float)\n",
    "    gdf_date_mm = pd.merge(gdf, df_in_date, left_on = 'ID', right_on = 'df_id')\n",
    "    \n",
    "    # plot using matplotlib\n",
    "    cmap = mpl.cm.Blues  # cool\n",
    "    norm = mpl.colors.Normalize(vmin=0, vmax=8)\n",
    "\n",
    "    # save figure to file\n",
    "    fig = plt.figure(figsize=(14,5))\n",
    "    plt.gca().set_aspect('equal')\n",
    "    ax = plt.gca()\n",
    "    feat = gdf_date_mm.plot('date_mm', vmin=0, vmax=8, ax=ax,\n",
    "                            cmap=cmap, norm=norm, legend=True, )\n",
    "    \n",
    "    gdf_date_mm.plot(ax=ax, color='None', edgecolor='black')\n",
    "    \n",
    "    colors_outline = ['#FF47FF','#8BB9BA']    \n",
    "    for sel_feat in sel_gdf.iterrows(): \n",
    "\n",
    "        df_feat = pd.DataFrame(sel_feat[1]).T\n",
    "        crs = {'init': 'epsg:4326'}\n",
    "        gdf_feat = gpd.GeoDataFrame(df_feat, crs=crs, geometry=df_feat['geometry'])    \n",
    "        gdf_feat.plot(ax=ax, color='None', edgecolor=colors_outline[sel_feat[0]], linewidth=2)    \n",
    "    plt.text(5.05, 51.81, df_date[0].strftime('%d %B %Y - %H:%M'), size=14)\n",
    "    plt.title('neerslag in mm / 5min')\n",
    "    #plt.show()\n",
    "    \n",
    "    file_png_out = os.path.join(png_out,'new_datum_{}.png'.format(df_date[0].strftime('%Y%m%d%H%M')))\n",
    "    print(file_png_out)\n",
    "    plt.savefig(file_png_out)\n",
    "    plt.close(fig)    "
   ]
  },
  {
   "cell_type": "code",
   "execution_count": null,
   "metadata": {},
   "outputs": [],
   "source": [
    "pd.merge(gdf, df_in_date, left_on = 'ID', right_on = 'df_id')"
   ]
  },
  {
   "cell_type": "code",
   "execution_count": null,
   "metadata": {},
   "outputs": [],
   "source": [
    "df_date[0]"
   ]
  },
  {
   "cell_type": "code",
   "execution_count": null,
   "metadata": {},
   "outputs": [],
   "source": []
  },
  {
   "cell_type": "code",
   "execution_count": null,
   "metadata": {},
   "outputs": [],
   "source": [
    "gdf_naam = []\n",
    "for code_in in gdf['NAAM'].values:\n",
    "#     if 'LHA' in code_in:\n",
    "#         gdf_naam.append(code_in)\n",
    "    gdf_naam.append(code_in)        \n",
    "pv_code_ws = [x[-3::] for x in gdf_naam]\n",
    "\n",
    "filter_code = []\n",
    "for code in pv_code_ws:\n",
    "    try:\n",
    "        filter_code.append(int(code))\n",
    "    except:\n",
    "        continue"
   ]
  },
  {
   "cell_type": "code",
   "execution_count": null,
   "metadata": {},
   "outputs": [],
   "source": [
    "all_pv = np.array(filter_code)"
   ]
  },
  {
   "cell_type": "code",
   "execution_count": null,
   "metadata": {},
   "outputs": [],
   "source": [
    "df_all = pd.DataFrame()"
   ]
  },
  {
   "cell_type": "code",
   "execution_count": null,
   "metadata": {},
   "outputs": [],
   "source": [
    "for csv_in in csv_ins:\n",
    "\n",
    "    # find peilvak selection in csv\n",
    "    pv_start = int(os.path.basename(csv_in)[3:6])\n",
    "    pv_end = int(os.path.basename(csv_in)[10:13])\n",
    "    print(pv_start, pv_end)\n",
    "    select_pv = ['LHA{}'.format(x) for x in all_pv[(all_pv >= pv_start) & (all_pv <= pv_end)]]\n",
    "    \n",
    "    # read csv\n",
    "    df = pd.read_csv(csv_in, skiprows=2)#, index_col=[0,1,2])#, dtype=np.float64)\n",
    "    df.index = pd.to_datetime(df['Eind'], dayfirst=True)\n",
    "    df_sel = df[select_pv]\n",
    "    df_sel = df_sel.resample('H').sum()\n",
    "    \n",
    "    df_sel = df_sel.loc[:,~df_sel.columns.duplicated()]\n",
    "    df_all = pd.concat((df_all, df_sel))"
   ]
  },
  {
   "cell_type": "code",
   "execution_count": null,
   "metadata": {},
   "outputs": [],
   "source": [
    "df_precip = df_all.groupby(pd.TimeGrouper('H')).sum()"
   ]
  },
  {
   "cell_type": "code",
   "execution_count": null,
   "metadata": {},
   "outputs": [],
   "source": [
    "from_date = '2015-08-28 18:00'\n",
    "to_date = '2015-09-02 08:00'\n",
    "df_event = df_precip[from_date:to_date]"
   ]
  },
  {
   "cell_type": "code",
   "execution_count": null,
   "metadata": {},
   "outputs": [],
   "source": [
    "png_out = r'D:\\Projects\\RO\\DataChallenge2018\\png_out\\precip'"
   ]
  },
  {
   "cell_type": "code",
   "execution_count": null,
   "metadata": {},
   "outputs": [],
   "source": [
    "sel_gdf = gdf[gdf['ID'].isin([92,74])]\n",
    "sel_gdf.reset_index(drop=True, inplace=True)"
   ]
  },
  {
   "cell_type": "code",
   "execution_count": null,
   "metadata": {},
   "outputs": [],
   "source": [
    "sel_gdf.head()"
   ]
  },
  {
   "cell_type": "code",
   "execution_count": null,
   "metadata": {},
   "outputs": [],
   "source": [
    "for df_date in df_event.iterrows():\n",
    "    df_in_date = pd.DataFrame(df_date[1]).reset_index()\n",
    "    df_in_date.columns = ['df_id', 'date_mm']\n",
    "    gdf_date_mm = pd.merge(gdf, df_in_date, left_on = 'NAAM', right_on = 'df_id')\n",
    "    \n",
    "    # plot using matplotlib\n",
    "    cmap = mpl.cm.Blues  # cool\n",
    "    norm = mpl.colors.Normalize(vmin=0, vmax=40)\n",
    "\n",
    "    # save figure to file\n",
    "    fig = plt.figure(figsize=(14,5))\n",
    "    plt.gca().set_aspect('equal')\n",
    "    ax = plt.gca()\n",
    "    feat = gdf_date_mm.plot('date_mm', vmin=0, vmax=40, ax=ax,\n",
    "                            cmap=cmap, norm=norm, legend=True, )\n",
    "    \n",
    "    gdf_date_mm.plot(ax=ax, color='None', edgecolor='black')\n",
    "    \n",
    "    colors_outline = ['#FF47FF','#8BB9BA']    \n",
    "    for sel_feat in sel_gdf.iterrows(): \n",
    "\n",
    "        df_feat = pd.DataFrame(sel_feat[1]).T\n",
    "        crs = {'init': 'epsg:4326'}\n",
    "        gdf_feat = gpd.GeoDataFrame(df_feat, crs=crs, geometry=df_feat['geometry'])    \n",
    "        gdf_feat.plot(ax=ax, color='None', edgecolor=colors_outline[sel_feat[0]], linewidth=2)    \n",
    "    plt.text(5.05, 51.81, df_date[0].strftime('%d %B %Y - %H:%M'), size=14)\n",
    "    plt.title('neerslag in mm/uur')\n",
    "    #plt.show()\n",
    "    \n",
    "    file_png_out = os.path.join(png_out,'new_datum_{}.png'.format(df_date[0].strftime('%Y%m%d%H%M')))\n",
    "    print(file_png_out)\n",
    "    plt.savefig(file_png_out)\n",
    "    plt.close(fig)    "
   ]
  },
  {
   "cell_type": "code",
   "execution_count": null,
   "metadata": {},
   "outputs": [],
   "source": [
    "colors_outline[1]"
   ]
  },
  {
   "cell_type": "code",
   "execution_count": null,
   "metadata": {},
   "outputs": [],
   "source": [
    "# plot using matplotlib\n",
    "cmap = mpl.cm.Blues  # cool\n",
    "norm = mpl.colors.Normalize(vmin=0, vmax=8)\n",
    "\n",
    "# save figure to file\n",
    "fig = plt.figure(figsize=(14,5))\n",
    "plt.gca().set_aspect('equal')\n",
    "ax = plt.gca()\n",
    "feat = gdf_date_mm.plot('date_mm', vmin=0, vmax=40, ax=ax,\n",
    "                        cmap=cmap, norm=norm, legend=True, )\n",
    "\n",
    "colors_outline = ['green','orange','red']\n",
    "for sel_feat in sel_gdf.iterrows(): \n",
    "    \n",
    "    df_feat = pd.DataFrame(sel_feat[1]).T\n",
    "    crs = {'init': 'epsg:4326'}\n",
    "    gdf_feat = gpd.GeoDataFrame(df_feat, crs=crs, geometry=df_feat['geometry'])    \n",
    "    gdf_feat.plot(ax=ax, color='None', edgecolor=colors_outline[sel_feat[0]])\n",
    "\n",
    "\n",
    "plt.text(5.05, 51.81, df_date[0].strftime('%d %B %Y - %H:%M'), size=14)\n",
    "plt.show()\n",
    "#plt.savefig(os.path.join(png_out,'datum_{}.png'.format(df_date[0].strftime('%Y%m%d%H%M'))))\n",
    "#plt.close(fig)"
   ]
  },
  {
   "cell_type": "code",
   "execution_count": null,
   "metadata": {},
   "outputs": [],
   "source": [
    "feat.get_legend_handles_labels()"
   ]
  },
  {
   "cell_type": "code",
   "execution_count": null,
   "metadata": {},
   "outputs": [],
   "source": [
    "gdf_feat.plot()"
   ]
  },
  {
   "cell_type": "code",
   "execution_count": null,
   "metadata": {},
   "outputs": [],
   "source": []
  },
  {
   "cell_type": "code",
   "execution_count": null,
   "metadata": {},
   "outputs": [],
   "source": []
  },
  {
   "cell_type": "code",
   "execution_count": null,
   "metadata": {},
   "outputs": [],
   "source": []
  },
  {
   "cell_type": "code",
   "execution_count": null,
   "metadata": {},
   "outputs": [],
   "source": [
    "gdf.head()"
   ]
  },
  {
   "cell_type": "code",
   "execution_count": null,
   "metadata": {},
   "outputs": [],
   "source": []
  },
  {
   "cell_type": "code",
   "execution_count": null,
   "metadata": {},
   "outputs": [],
   "source": [
    "df_all.index.name = 'datetime'"
   ]
  },
  {
   "cell_type": "code",
   "execution_count": null,
   "metadata": {},
   "outputs": [],
   "source": [
    "df_all.to_csv(r'D:\\Projects\\RO\\0815.10 Data Challenge 2018\\Neerslag//neerslag_mm_hr.csv')"
   ]
  },
  {
   "cell_type": "code",
   "execution_count": null,
   "metadata": {},
   "outputs": [],
   "source": [
    "df_precip = df_all.groupby(pd.TimeGrouper('H')).sum()"
   ]
  },
  {
   "cell_type": "code",
   "execution_count": null,
   "metadata": {},
   "outputs": [],
   "source": []
  },
  {
   "cell_type": "code",
   "execution_count": null,
   "metadata": {},
   "outputs": [],
   "source": [
    "%matplotlib inline\n",
    "df_precip['2015-08-30 18:00':'2015-08-31 08:00']['LHA251'].plot(kind='bar')"
   ]
  },
  {
   "cell_type": "code",
   "execution_count": null,
   "metadata": {},
   "outputs": [],
   "source": [
    "df_2H = df_precip.rolling(window = '2H').sum()#.shift(1)\n",
    "df_2H['2015-08-30 17:00':'2015-08-31 08:00']['LHA251'].plot(kind='bar')"
   ]
  },
  {
   "cell_type": "code",
   "execution_count": null,
   "metadata": {},
   "outputs": [],
   "source": [
    "df_6H = df_precip.rolling(window = '6H').sum()#.shift(-6)\n",
    "df_6H['2015-08-30 17:00':'2015-08-31 08:00']['LHA251'].plot(kind='bar')\n",
    "\n",
    "# df_2H = df_precip.resample('2H', closed='right').sum().shift(1)\n",
    "# df_2H['2015-08-30 17:00':'2015-08-31 08:00']['LHA251'].plot(kind='bar')"
   ]
  },
  {
   "cell_type": "code",
   "execution_count": null,
   "metadata": {},
   "outputs": [],
   "source": [
    "df_6H.shape"
   ]
  },
  {
   "cell_type": "code",
   "execution_count": null,
   "metadata": {},
   "outputs": [],
   "source": [
    "df_2H.shape"
   ]
  },
  {
   "cell_type": "code",
   "execution_count": null,
   "metadata": {},
   "outputs": [],
   "source": [
    "df_precip.shape"
   ]
  },
  {
   "cell_type": "code",
   "execution_count": null,
   "metadata": {},
   "outputs": [],
   "source": [
    "df_precip.head()"
   ]
  },
  {
   "cell_type": "code",
   "execution_count": null,
   "metadata": {},
   "outputs": [],
   "source": [
    "df_2H.head()"
   ]
  },
  {
   "cell_type": "code",
   "execution_count": null,
   "metadata": {},
   "outputs": [],
   "source": []
  }
 ],
 "metadata": {
  "kernelspec": {
   "display_name": "Python 3",
   "language": "python",
   "name": "python3"
  },
  "language_info": {
   "codemirror_mode": {
    "name": "ipython",
    "version": 3
   },
   "file_extension": ".py",
   "mimetype": "text/x-python",
   "name": "python",
   "nbconvert_exporter": "python",
   "pygments_lexer": "ipython3",
   "version": "3.5.2"
  }
 },
 "nbformat": 4,
 "nbformat_minor": 2
}
