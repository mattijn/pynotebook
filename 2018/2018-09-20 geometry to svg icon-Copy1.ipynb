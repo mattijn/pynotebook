{
 "cells": [
  {
   "cell_type": "code",
   "execution_count": 30,
   "metadata": {},
   "outputs": [],
   "source": [
    "import geopandas as gpd\n",
    "import numpy as np\n",
    "from shapely import geometry\n",
    "from shapely.affinity import rotate\n",
    "from shapely.affinity import scale\n",
    "from shapely.affinity import translate\n",
    "from collections import OrderedDict\n",
    "from IPython.core.display import HTML\n",
    "import os\n",
    "%matplotlib inline"
   ]
  },
  {
   "cell_type": "code",
   "execution_count": 40,
   "metadata": {},
   "outputs": [],
   "source": [
    "## parameter settings\n",
    "# geometry_file = r\"D:\\Projects\\Pr\\3723.10\\Werkfolder\\catchments_raw.shp\"\n",
    "# svg_file = 'catchments_icons.txt'\n",
    "# key_column = 'catchment_'\n",
    "\n",
    "geometry_file = r\"D:\\Projects\\Pr\\3723.10\\Werkfolder\\ecowas_countries_WGS84.shp\"\n",
    "svg_file = 'country_icons.txt'\n",
    "key_column = 'COUNTRY'\n",
    "\n",
    "folder_svg = r'T:\\@niels\\svg'\n",
    "svg_width = 18\n",
    "svg_height = 18\n",
    "strokeWidth = 2"
   ]
  },
  {
   "cell_type": "code",
   "execution_count": 41,
   "metadata": {},
   "outputs": [
    {
     "data": {
      "text/plain": [
       "<matplotlib.axes._subplots.AxesSubplot at 0xabe7860>"
      ]
     },
     "execution_count": 41,
     "metadata": {},
     "output_type": "execute_result"
    },
    {
     "data": {
      "image/png": "[encoded data removed]",
      "text/plain": [
       "<Figure size 432x288 with 1 Axes>"
      ]
     },
     "metadata": {},
     "output_type": "display_data"
    }
   ],
   "source": [
    "gdf = gpd.read_file(geometry_file)\n",
    "# only select geometries that are not none\n",
    "gdf = gdf[~gdf['geometry'].isnull()]\n",
    "gdf.plot()"
   ]
  },
  {
   "cell_type": "code",
   "execution_count": 42,
   "metadata": {},
   "outputs": [
    {
     "data": {
      "text/html": [
       "<div>\n",
       "<style scoped>\n",
       "    .dataframe tbody tr th:only-of-type {\n",
       "        vertical-align: middle;\n",
       "    }\n",
       "\n",
       "    .dataframe tbody tr th {\n",
       "        vertical-align: top;\n",
       "    }\n",
       "\n",
       "    .dataframe thead th {\n",
       "        text-align: right;\n",
       "    }\n",
       "</style>\n",
       "<table border=\"1\" class=\"dataframe\">\n",
       "  <thead>\n",
       "    <tr style=\"text-align: right;\">\n",
       "      <th></th>\n",
       "      <th>ID</th>\n",
       "      <th>CODE</th>\n",
       "      <th>COUNTRY</th>\n",
       "      <th>MERGEFIELD</th>\n",
       "      <th>geometry</th>\n",
       "    </tr>\n",
       "  </thead>\n",
       "  <tbody>\n",
       "    <tr>\n",
       "      <th>108</th>\n",
       "      <td>391</td>\n",
       "      <td>GUB</td>\n",
       "      <td>Guinea-Bissau</td>\n",
       "      <td>1</td>\n",
       "      <td>POLYGON ((-16.14779099999578 11.36626999999862...</td>\n",
       "    </tr>\n",
       "    <tr>\n",
       "      <th>112</th>\n",
       "      <td>393</td>\n",
       "      <td>GUB</td>\n",
       "      <td>Guinea-Bissau</td>\n",
       "      <td>1</td>\n",
       "      <td>POLYGON ((-16.00370999998995 11.52159999999276...</td>\n",
       "    </tr>\n",
       "    <tr>\n",
       "      <th>114</th>\n",
       "      <td>394</td>\n",
       "      <td>GUB</td>\n",
       "      <td>Guinea-Bissau</td>\n",
       "      <td>1</td>\n",
       "      <td>POLYGON ((-16.4816400000127 11.27659999999742,...</td>\n",
       "    </tr>\n",
       "    <tr>\n",
       "      <th>166</th>\n",
       "      <td>446</td>\n",
       "      <td>LIB</td>\n",
       "      <td>Liberia</td>\n",
       "      <td>1</td>\n",
       "      <td>POLYGON ((-11.4591700000019 6.929609999999229,...</td>\n",
       "    </tr>\n",
       "    <tr>\n",
       "      <th>167</th>\n",
       "      <td>754</td>\n",
       "      <td>TOG</td>\n",
       "      <td>Togo</td>\n",
       "      <td>1</td>\n",
       "      <td>POLYGON ((0.613510000000133 7.920639999996638,...</td>\n",
       "    </tr>\n",
       "  </tbody>\n",
       "</table>\n",
       "</div>"
      ],
      "text/plain": [
       "      ID CODE        COUNTRY  MERGEFIELD  \\\n",
       "108  391  GUB  Guinea-Bissau           1   \n",
       "112  393  GUB  Guinea-Bissau           1   \n",
       "114  394  GUB  Guinea-Bissau           1   \n",
       "166  446  LIB        Liberia           1   \n",
       "167  754  TOG           Togo           1   \n",
       "\n",
       "                                              geometry  \n",
       "108  POLYGON ((-16.14779099999578 11.36626999999862...  \n",
       "112  POLYGON ((-16.00370999998995 11.52159999999276...  \n",
       "114  POLYGON ((-16.4816400000127 11.27659999999742,...  \n",
       "166  POLYGON ((-11.4591700000019 6.929609999999229,...  \n",
       "167  POLYGON ((0.613510000000133 7.920639999996638,...  "
      ]
     },
     "execution_count": 42,
     "metadata": {},
     "output_type": "execute_result"
    }
   ],
   "source": [
    "gdf.tail()"
   ]
  },
  {
   "cell_type": "code",
   "execution_count": 43,
   "metadata": {},
   "outputs": [],
   "source": [
    "# sometimes are multiple row items for the same feature \n",
    "# disssolve features into multipolygon\n",
    "gdf_dis = gdf.dissolve(key_column)"
   ]
  },
  {
   "cell_type": "code",
   "execution_count": 44,
   "metadata": {},
   "outputs": [],
   "source": [
    "# from Polygon to LineString\n",
    "for idx, row in gdf_dis.iterrows():\n",
    "    geom = row['geometry']\n",
    "    gdf_dis.at[idx, 'geometry'] = geom.boundary"
   ]
  },
  {
   "cell_type": "code",
   "execution_count": 45,
   "metadata": {},
   "outputs": [
    {
     "data": {
      "text/html": [
       "<div>\n",
       "<style scoped>\n",
       "    .dataframe tbody tr th:only-of-type {\n",
       "        vertical-align: middle;\n",
       "    }\n",
       "\n",
       "    .dataframe tbody tr th {\n",
       "        vertical-align: top;\n",
       "    }\n",
       "\n",
       "    .dataframe thead th {\n",
       "        text-align: right;\n",
       "    }\n",
       "</style>\n",
       "<table border=\"1\" class=\"dataframe\">\n",
       "  <thead>\n",
       "    <tr style=\"text-align: right;\">\n",
       "      <th></th>\n",
       "      <th>geometry</th>\n",
       "      <th>ID</th>\n",
       "      <th>COUNTRY</th>\n",
       "      <th>MERGEFIELD</th>\n",
       "    </tr>\n",
       "    <tr>\n",
       "      <th>CODE</th>\n",
       "      <th></th>\n",
       "      <th></th>\n",
       "      <th></th>\n",
       "      <th></th>\n",
       "    </tr>\n",
       "  </thead>\n",
       "  <tbody>\n",
       "    <tr>\n",
       "      <th>BEN</th>\n",
       "      <td>LINESTRING (2.405399999999645 11.9016100000008...</td>\n",
       "      <td>20</td>\n",
       "      <td>Benin</td>\n",
       "      <td>1</td>\n",
       "    </tr>\n",
       "    <tr>\n",
       "      <th>BUF</th>\n",
       "      <td>LINESTRING (0.2293500000000677 14.989669999995...</td>\n",
       "      <td>22</td>\n",
       "      <td>Burkina Faso</td>\n",
       "      <td>1</td>\n",
       "    </tr>\n",
       "    <tr>\n",
       "      <th>CAP</th>\n",
       "      <td>(LINESTRING (-24.68150299999979 14.83656199999...</td>\n",
       "      <td>27</td>\n",
       "      <td>Cape Verde</td>\n",
       "      <td>1</td>\n",
       "    </tr>\n",
       "    <tr>\n",
       "      <th>CDI</th>\n",
       "      <td>LINESTRING (-5.518920000002254 10.433260000005...</td>\n",
       "      <td>49</td>\n",
       "      <td>Cote d`Ivoire</td>\n",
       "      <td>1</td>\n",
       "    </tr>\n",
       "    <tr>\n",
       "      <th>GAM</th>\n",
       "      <td>(LINESTRING (-16.62441099999705 13.42024999999...</td>\n",
       "      <td>318</td>\n",
       "      <td>Gambia</td>\n",
       "      <td>1</td>\n",
       "    </tr>\n",
       "  </tbody>\n",
       "</table>\n",
       "</div>"
      ],
      "text/plain": [
       "                                               geometry   ID        COUNTRY  \\\n",
       "CODE                                                                          \n",
       "BEN   LINESTRING (2.405399999999645 11.9016100000008...   20          Benin   \n",
       "BUF   LINESTRING (0.2293500000000677 14.989669999995...   22   Burkina Faso   \n",
       "CAP   (LINESTRING (-24.68150299999979 14.83656199999...   27     Cape Verde   \n",
       "CDI   LINESTRING (-5.518920000002254 10.433260000005...   49  Cote d`Ivoire   \n",
       "GAM   (LINESTRING (-16.62441099999705 13.42024999999...  318         Gambia   \n",
       "\n",
       "      MERGEFIELD  \n",
       "CODE              \n",
       "BEN            1  \n",
       "BUF            1  \n",
       "CAP            1  \n",
       "CDI            1  \n",
       "GAM            1  "
      ]
     },
     "execution_count": 45,
     "metadata": {},
     "output_type": "execute_result"
    }
   ],
   "source": [
    "gdf_dis.head()"
   ]
  },
  {
   "cell_type": "code",
   "execution_count": 46,
   "metadata": {},
   "outputs": [],
   "source": [
    "def scale_locate_geom(geom, xmax, ymin, factor):\n",
    "    x1, y1 = geom.xy\n",
    "    round_vl = 3\n",
    "    x1_round = (np.round(np.array(x1), round_vl) - xmax ) * factor\n",
    "    y1_round = (np.round(np.array(y1), round_vl) - ymin ) * factor\n",
    "\n",
    "    coords_round = list(zip(np.array(x1_round), np.array(y1_round)))\n",
    "    unique_coords_round = OrderedDict.fromkeys(coords_round).keys() \n",
    "\n",
    "    geom = geometry.LinearRing(list(unique_coords_round)) \n",
    "    return geom"
   ]
  },
  {
   "cell_type": "code",
   "execution_count": 47,
   "metadata": {},
   "outputs": [
    {
     "name": "stdout",
     "output_type": "stream",
     "text": [
      "BEN\n",
      "7.5 3.0\n"
     ]
    },
    {
     "data": {
      "text/html": [
       " \n",
       "        <svg> \n",
       "        <polyline fill=\"none\" stroke=\"#BDBDBD\" stroke-width=\"2.0\" points=\"14.253313672741273,4.444485854106098 14.162896587477086,3.4557312765396553 15.440402501854965,3.0007291700489027 17.409161616478407,4.57573646174766 17.753329876516283,5.042405288917662 17.43541173800672,6.223660757691725 18.112081537403224,6.7311631072391 18.473749878459973,8.224503354183106 17.692079592950222,9.181174449881608 17.727079754987972,10.149512266259363 16.385406876874217,11.558268788278806 16.233739508043968,12.622857050260366 15.349985416590776,12.719107495864183 15.142901124534088,20.582477233678706 11.987053180796956,20.999562497961897 12.485805489834892,20.839145088622207 11.782885568910078,18.75080208703645 12.127053828947954,17.298295362469823 11.95788637909883,12.701607414845308 11.152882652230577,11.316184334184367 11.190799494438139,9.992011537089486 9.499124995946884,8.869089671711672 9.56329195968276,7.994085620767917 9.927876980909323,7.025747804390166 11.275383219362702,5.786158732219848 13.127475127193645,5.826992254597222 14.253313672741273,4.444485854106098\"/>\n",
       "        </svg >"
      ],
      "text/plain": [
       "<IPython.core.display.HTML object>"
      ]
     },
     "metadata": {},
     "output_type": "display_data"
    },
    {
     "name": "stdout",
     "output_type": "stream",
     "text": [
      "BUF\n",
      "3.0 5.5\n"
     ]
    },
    {
     "data": {
      "text/html": [
       " \n",
       "        <svg> \n",
       "        <polyline fill=\"none\" stroke=\"#BDBDBD\" stroke-width=\"2.0\" points=\"18.007450481551594,5.7087270579543485 17.86434671996704,6.746797201512161 18.393603489001983,7.8938987824677245 18.931946211153406,8.654847355972905 20.397056151185765,9.413524441198962 19.740596038520103,9.386266581849522 19.754224968194823,10.22898873340302 21.067145193526144,11.062624931840038 21.98028348173236,10.826390150811562 22.543612574954103,11.176199345796032 22.63674359439802,11.510108122826663 22.182445938574034,11.703184626551856 22.95020897691657,12.72308286387671 22.073414501176277,13.799768308179555 20.765037252403197,13.699822823898282 19.985916772665057,14.642490459733054 18.611666363797497,14.928697982902168 16.867163365433385,14.378997819355142 16.07668544429965,14.994571142996646 11.049881882607233,14.762879338526412 10.804561148462279,15.651031255662307 11.181628202796189,16.093971470090693 11.211157550424748,18.404075049955665 10.186716336541656,17.2229011448133 8.62847537706538,17.268330910395697 7.676721788114127,17.9520488824108 6.793112847536474,17.752157913848244 5.83681628202698,16.346106669073002 5.0554243140097235,16.243889696512607 5.000908595310843,14.628861530058334 5.6755406142094635,13.788410866783959 5.2030710521525165,12.902530437927183 7.1088497183341435,12.193826094841764 7.5086316554592525,11.29204524803115 7.288297292384618,10.887720334347799 7.885698709793161,10.678743412668767 7.615391604577889,9.897351444651507 8.430855896781946,9.113687988355132 9.68926040341439,9.85873614390647 10.132200617842779,9.53391331999232 10.03452662184062,8.648032891135545 10.963565328000675,8.741163910579463 11.043067417769873,7.818939669256768 11.863074686532167,7.280596947105343 12.957932037067977,7.512288751575577 13.001090314371256,6.864914592026395 13.682536798107236,6.805855896769279 15.894966381970054,5.499750136275313 18.007450481551594,5.7087270579543485\"/>\n",
       "        </svg >"
      ],
      "text/plain": [
       "<IPython.core.display.HTML object>"
      ]
     },
     "metadata": {},
     "output_type": "display_data"
    },
    {
     "name": "stdout",
     "output_type": "stream",
     "text": [
      "CAP\n",
      "3.0 4.0\n"
     ]
    },
    {
     "data": {
      "text/html": [
       " \n",
       "        <svg> \n",
       "        <polyline fill=\"none\" stroke=\"#BDBDBD\" stroke-width=\"2.0\" points=\"9.501541103358832,19.74091317938956 8.992859870614254,19.787765398194978 9.066484785879911,19.446413518326906 9.334211750482314,19.386174951291366 9.501541103358832,19.74091317938956\"/><polyline fill=\"none\" stroke=\"#BDBDBD\" stroke-width=\"2.0\" points=\"12.065026789426883,18.97789133027269 11.850845217744956,19.82792444288534 10.652767051149167,19.459799866557034 11.509493337876872,18.34203978934198 12.065026789426883,18.97789133027269\"/><polyline fill=\"none\" stroke=\"#BDBDBD\" stroke-width=\"2.0\" points=\"17.600281782581654,18.837334673856432 16.040772213772648,18.97789133027269 15.706113508019634,16.514803255930538 17.352634340324432,18.020767431819092 17.600281782581654,18.837334673856432\"/><polyline fill=\"none\" stroke=\"#BDBDBD\" stroke-width=\"2.0\" points=\"19.588154494754537,16.454564688895005 20.096835727499116,17.54555206964982 19.65508623590515,17.900290297748 19.059393739664777,17.579017940225114 19.588154494754537,16.454564688895005\"/><polyline fill=\"none\" stroke=\"#BDBDBD\" stroke-width=\"2.0\" points=\"22.124867484362362,10.43740115945588 22.847730288788867,11.668945196626964 21.515788639891877,12.137467384681168 21.32168659055513,10.450787507685995 22.124867484362362,10.43740115945588\"/><polyline fill=\"none\" stroke=\"#BDBDBD\" stroke-width=\"2.0\" points=\"12.004788222391339,7.612881682900474 13.544218268855188,7.887301821617944 13.892263322838314,8.26881274617639 11.897697436550363,8.750721282460718 11.181527806238927,7.646347553475792 12.004788222391339,7.612881682900474\"/><polyline fill=\"none\" stroke=\"#BDBDBD\" stroke-width=\"2.0\" points=\"21.308300242325018,6.240780989313144 21.502402291661763,6.361258123384232 21.522481814006944,8.001085781573964 20.83308488015573,7.07742775369567 21.308300242325018,6.240780989313144\"/><polyline fill=\"none\" stroke=\"#BDBDBD\" stroke-width=\"2.0\" points=\"9.006246218844367,6.662450958561928 8.986166696499186,6.9502574455095125 8.745212428357009,6.836473485553492 8.745212428357009,6.635678262101679 9.006246218844367,6.662450958561928\"/><polyline fill=\"none\" stroke=\"#BDBDBD\" stroke-width=\"2.0\" points=\"7.895179315744372,5.8057246718342235 8.236531195612455,6.508507953915547 6.924669069060645,6.582132869181203 6.998293984326303,6.053372114091443 7.895179315744372,5.8057246718342235\"/><polyline fill=\"none\" stroke=\"#BDBDBD\" stroke-width=\"2.0\" points=\"7.2191687301232985,4.145817491299287 7.379804908884749,4.928918862761336 5.251375540295598,5.752179278913747 5.124205232109464,4.647805549928821 7.2191687301232985,4.145817491299287\"/>\n",
       "        </svg >"
      ],
      "text/plain": [
       "<IPython.core.display.HTML object>"
      ]
     },
     "metadata": {},
     "output_type": "display_data"
    },
    {
     "name": "stdout",
     "output_type": "stream",
     "text": [
      "CDI\n",
      "3.5 3.0\n"
     ]
    },
    {
     "data": {
      "text/html": [
       " \n",
       "        <svg> \n",
       "        <polyline fill=\"none\" stroke=\"#BDBDBD\" stroke-width=\"2.0\" points=\"14.105891315382626,3.8264770611092978 15.20628068392821,4.181987472485563 15.646436431346443,5.307770441843738 16.46749619095353,5.953896506964091 17.491704757061342,6.176795891874608 18.673917950447496,5.3275210202535295 20.60947463460716,5.271090796225552 21.780401783187717,6.687489419327811 22.0879465041402,6.489983635229885 21.84247502961849,7.739913097449616 22.63814118841299,10.112804017826114 21.831188984812897,10.83228937418284 20.493792675349805,14.613114384057408 21.139918740470158,17.15811748771924 21.881976186438077,17.47976976467872 21.98072907848704,18.766378872516633 18.451018565536977,18.464477173966948 12.407341572140469,19.169854974316678 8.440296822973574,20.969979120809196 8.256898594882646,19.420969471241186 8.897381637600201,18.230291744250835 8.713983409509272,16.808250098745773 7.703882399408453,16.379380396133136 7.325799898420998,15.521640990907862 6.016618700971897,15.357993341226724 5.500282151115886,14.869871903384709 6.332627955528576,13.492974437102033 5.773968737651586,11.94678629873542 6.499097116411111,12.006038033964797 7.252440607184624,10.671463235703103 6.487811071605517,10.030980192985545 6.422916313973339,9.401783195073582 8.118644546014098,9.627504091185497 7.74620506742944,8.527114722639917 7.210117939163641,8.371931606562976 7.703882399408453,7.570622425365679 7.331442920823795,7.342080018052366 7.506376615310531,6.647988262508228 6.685316855703443,6.368658653569733 6.640172676481059,5.254161729017158 8.115823034812697,3.6712939450323567 9.842587890068842,4.593928107889809 10.076773319784955,4.004232266797434 10.85268890016966,4.018339822804425 10.937334236211628,3.152135883974953 11.445206252463436,3.4540375825246414 12.133654985604775,2.999774279099409 12.407341572140469,4.469781615028253 14.105891315382626,3.8264770611092978\"/>\n",
       "        </svg >"
      ],
      "text/plain": [
       "<IPython.core.display.HTML object>"
      ]
     },
     "metadata": {},
     "output_type": "display_data"
    },
    {
     "name": "stdout",
     "output_type": "stream",
     "text": [
      "GAM\n",
      "3.0 9.5\n"
     ]
    },
    {
     "data": {
      "text/html": [
       " \n",
       "        <svg> \n",
       "        <polyline fill=\"none\" stroke=\"#BDBDBD\" stroke-width=\"2.0\" points=\"6.439336928236752,11.920176167290702 6.4333868946356,11.616724453632301 6.659488171479115,11.658374688840315 6.439336928236752,11.920176167290702\"/><polyline fill=\"none\" stroke=\"#BDBDBD\" stroke-width=\"2.0\" points=\"22.873329734599483,11.396573210389938 22.998280440223535,12.402128888983452 20.594466865360918,13.128032988323152 15.507188136381863,10.914620488697178 14.340981550557427,12.27717818335941 11.29456434677114,12.390228821781168 11.270764212366561,13.473134937189567 5.653932492885591,14.038388129298355 5.249330208007716,12.45567919139376 6.183485483387496,11.509623848811685 6.832039145912322,12.634180199428108 7.885195093315,12.87813157707506 9.384603560803555,11.908276100088408 14.025629769696733,11.836875696874674 14.293381281748262,11.705974957649481 14.323131449753992,11.4322734119968 14.150580475320785,10.331517195784965 14.507582491389481,10.605218741437636 14.888384641862768,10.688519211853663 16.73884509181889,10.331517195784965 16.22119216851927,10.700419279055957 16.250942336525,10.914620488697178 16.31044267253645,10.991970925512064 16.905446032650957,11.200222101552143 17.143447376696766,11.06932136232695 17.399298821546,11.277572538367028 17.839601308030737,11.307322706372759 18.14900305529028,11.82497562967238 18.23825355930746,11.842825730475816 18.32750406332464,11.76547529366093 18.375104332133795,11.592924319227723 18.416754567341805,11.09907153033268 18.64285584418532,11.122871664737257 18.583355508173874,11.497723781609402 19.178358868288377,12.134377376931923 19.404460145131893,12.009426671307882 19.54726095155938,12.199827746544525 19.62461138837427,12.223627880949103 19.74361206039717,12.21767784734796 19.83286256441435,12.45567919139376 19.96971333724068,12.497329426601773 20.74916773899069,12.533029628208645 20.80866807500214,12.497329426601773 20.93361878062618,12.30692835136513 20.951468881429616,12.116527276128487 21.040719385446796,12.116527276128487 21.08831965425595,12.051076906515895 21.106169755059387,11.902326066487266 21.14186995666626,12.086777108122767 21.338221065504055,12.18792767934223 21.409621468717788,12.193877712943372 21.605972577555583,11.723825058452917 21.849923955202524,12.116527276128487 22.700778760166276,12.00347663770673 22.724578894570854,11.979676503302152 22.74242899537429,11.82497562967238 22.795979297784598,11.789275428065508 22.80192933138574,11.705974957649481 22.706728793767418,11.46202358000253 22.873329734599483,11.396573210389938\"/><polyline fill=\"none\" stroke=\"#BDBDBD\" stroke-width=\"2.0\" points=\"8.920500939914241,11.88447596568383 8.849100536700497,11.604824386430007 9.235852720774936,11.658374688840315 8.920500939914241,11.88447596568383\"/><polyline fill=\"none\" stroke=\"#BDBDBD\" stroke-width=\"2.0\" points=\"9.592854736843634,10.92057052229833 9.545254468034479,11.033621160720077 9.551204501635631,11.18832203434986 9.622604904849375,11.3132727399739 9.569054602439067,11.420373344794516 8.789600200689058,11.557224117620851 8.27789731099057,12.419978989786888 6.88558944832263,11.527473949615121 6.891539481923779,10.914620488697178 9.592854736843634,10.92057052229833\"/><polyline fill=\"none\" stroke=\"#BDBDBD\" stroke-width=\"2.0\" points=\"9.604754804045939,10.92057052229833 13.240225334345583,10.926520555899472 13.83522869446009,9.909064810103665 15.67973911081507,9.49851249162465 19.981613404442967,11.67622478964375 22.86737970099834,11.390623176788786 22.730528928172006,11.438223445597952 22.6769786257617,11.485823714407108 22.706728793767418,11.991576570504446 21.605972577555583,11.711924991250623 21.106169755059387,11.890425999284972 20.927668747025038,12.12247730972964 20.802718041400986,12.497329426601773 19.975663370841822,12.48542935939949 19.75551212759946,12.211727813746808 19.374709977126173,11.985626536903293 19.20810903629411,12.116527276128487 18.595255575376164,11.479873680805966 18.684506079393337,11.241872336760157 18.660705944988756,11.128821698338399 18.553605340168154,11.057421295124666 18.40485450013952,11.087171463130385 18.178753223296006,11.830925663273522 17.809851140025017,11.229972269557873 17.08989707428646,11.03957119432123 16.292592571733014,10.962220757506344 16.756695192622328,10.426717733403287 16.744795125420044,10.2839169269758 16.542493982981107,10.182766355756337 14.097030172910477,10.325567162183814 13.948279332881848,11.789275428065508 9.378653527202424,11.717875024851764 9.604754804045939,11.384673143187644 9.628554938450506,11.295422639170464 9.545254468034479,11.057421295124666 9.604754804045939,10.92057052229833\"/>\n",
       "        </svg >"
      ],
      "text/plain": [
       "<IPython.core.display.HTML object>"
      ]
     },
     "metadata": {},
     "output_type": "display_data"
    },
    {
     "name": "stdout",
     "output_type": "stream",
     "text": [
      "GHA\n",
      "6.0 3.0\n"
     ]
    },
    {
     "data": {
      "text/html": [
       " \n",
       "        <svg> \n",
       "        <polyline fill=\"none\" stroke=\"#BDBDBD\" stroke-width=\"2.0\" points=\"9.580292895549059,7.7111352228588625 9.339659039857619,5.111729967773421 8.875179737011349,4.566106690333527 9.177371090670368,3.472062067364302 15.36949577259081,3.7574650124867084 16.343223467714314,2.999188560249724 17.17145162218718,3.2538127563883386 16.860866064259856,4.280703745211117 18.173159998205037,5.416719389521875 18.26829431324584,6.1330248204173206 18.161967725847298,7.4313284139153275 17.74225751243199,7.8062695378996665 18.682408390482273,7.954567146639743 18.58727407544147,9.42635096168274 18.175958066294474,9.781705609041026 19.149685761417977,10.945701934246136 18.771946569344202,11.301056581604428 18.531312713652763,13.21493515477821 18.948224858978634,13.805327521649069 18.584476007352038,15.114823387504817 19.314771778694663,16.354367551124678 20.44239321873711,17.039894233036343 19.75127040064658,18.047198745233068 17.616344448407403,18.19829442206258 11.32069124717785,20.99916057958737 8.402306229896771,20.008644475927255 9.473966308150514,19.8855294799921 9.376033925020279,18.609610431209575 8.64014201749878,18.290630669013947 7.999384425018082,15.766773252343253 9.325668699410441,12.017362012499877 10.125916172988953,11.30385464969386 9.336860971768182,8.950679386478729 9.580292895549059,7.7111352228588625\"/>\n",
       "        </svg >"
      ],
      "text/plain": [
       "<IPython.core.display.HTML object>"
      ]
     },
     "metadata": {},
     "output_type": "display_data"
    },
    {
     "name": "stdout",
     "output_type": "stream",
     "text": [
      "GIN\n",
      "3.0 5.5\n"
     ]
    },
    {
     "data": {
      "text/html": [
       " \n",
       "        <svg> \n",
       "        <polyline fill=\"none\" stroke=\"#BDBDBD\" stroke-width=\"2.0\" points=\"5.364896784632421,9.419137474701932 5.998325952557419,8.32635127660232 8.299946440590231,7.835564554889439 8.297528772010363,7.112681649509387 7.690693958463898,6.704095659511964 8.41357686384395,6.380128069809871 8.309617114909695,5.5000967067385 9.699776548332874,5.582297438453958 9.900443040461786,5.988465759871511 10.294523018980009,5.826481965020463 11.60973472642733,6.3922164127092 13.746953751029224,6.068248823007101 13.662335350733905,6.704095659511964 14.104768700849455,7.083669626550989 15.02106509261882,6.595300573417976 15.652076591963947,7.390713536194022 16.529690286455452,6.604971247737446 18.00205045159409,7.076416620811393 18.923182180523185,6.464746470105194 18.715262682654675,6.017477782829909 19.302756147562206,5.9594537369131135 20.165863830574516,7.122352323828851 20.047398070161066,8.033813378438484 21.232055674295594,8.785708306776934 20.46565473447795,9.631892309730175 21.328762417490253,9.436061154760997 21.55118792683796,10.96402769723656 22.187034763342822,11.210629892382933 21.71317172168901,12.146267632791231 21.751854418966875,13.101246721838457 22.455395975707994,13.34059591124523 22.30550052375628,13.935342381892365 22.624632776298643,14.131173536861542 22.20154077482202,14.817791413543603 22.66089780499664,14.950763185436253 22.980030057539004,15.893653931584147 21.635806327133288,15.589027690520982 21.582617618376226,16.239380538505042 22.240223472099885,16.703572905839394 21.69383037305008,17.815700452577936 20.518843443235006,17.540086234473165 20.098169110338254,18.53858335795799 19.53485233122938,18.736832181507033 18.98120622643998,18.20010975677669 18.555696556383495,18.291981162811616 18.862740466026526,17.41194979974025 18.51701385910563,15.883983257264681 17.82556064526384,15.470561930107529 15.54569917444983,16.06772606933453 16.142863313676827,15.17318869478396 15.862413758412323,14.283486657393128 15.511851814331695,14.196450588517934 15.659329597703547,13.640386815148666 14.358623901735424,11.969777826460984 11.396979891399086,12.255062718885219 10.521783865487448,13.66939883810706 9.279102215436122,14.295575000292459 9.230748843838795,13.616210129349998 8.399070852364751,13.038387338761932 8.370058829406357,12.206709347287891 8.02433222248546,12.342098787760408 7.490027466334986,11.599874533741422 7.272437294147011,11.85614740320726 6.498783348589761,11.457232087529306 5.98865527823795,10.727096176409654 6.283610844981652,10.006630939609469 5.896783872203027,10.43455827824582 5.364896784632421,9.419137474701932\"/><polyline fill=\"none\" stroke=\"#BDBDBD\" stroke-width=\"2.0\" points=\"5.432591504868682,9.83739413901882 5.476109539306275,9.926847876473873 5.386655801851219,9.99696026529 5.34072009883376,9.883329842036282 5.432591504868682,9.83739413901882\"/><polyline fill=\"none\" stroke=\"#BDBDBD\" stroke-width=\"2.0\" points=\"5.065105880728989,10.006630939609469 4.999828829072598,9.818052790379886 5.299619732976026,9.612550961091245 5.302037401555896,10.100920014224258 5.065105880728989,10.006630939609469\"/><polyline fill=\"none\" stroke=\"#BDBDBD\" stroke-width=\"2.0\" points=\"5.244013355639101,9.610133292511374 5.352808441733089,9.44089649192073 5.386655801851219,9.660904332688572 5.292366727236427,9.60046261819191 5.244013355639101,9.610133292511374\"/>\n",
       "        </svg >"
      ],
      "text/plain": [
       "<IPython.core.display.HTML object>"
      ]
     },
     "metadata": {},
     "output_type": "display_data"
    },
    {
     "name": "stdout",
     "output_type": "stream",
     "text": [
      "GUB\n",
      "3.0 7.0\n"
     ]
    },
    {
     "data": {
      "text/html": [
       " \n",
       "        <svg> \n",
       "        <polyline fill=\"none\" stroke=\"#BDBDBD\" stroke-width=\"2.0\" points=\"11.870968967814328,13.283046059629587 12.27437669122269,13.493519654451342 11.397403379465366,13.750765159233492 11.613723463032176,13.452594233236002 11.870968967814328,13.283046059629587\"/><polyline fill=\"none\" stroke=\"#BDBDBD\" stroke-width=\"2.0\" points=\"9.19912361132702,11.73372654219165 8.854180775369134,12.382686792892073 8.21106701341377,11.838963339602534 9.0646543701909,11.616796767290678 9.19912361132702,11.73372654219165\"/><polyline fill=\"none\" stroke=\"#BDBDBD\" stroke-width=\"2.0\" points=\"7.679036537614323,11.406323172468923 7.825198756240555,11.909121204543123 7.217163926755484,11.83311685085749 7.474409431537612,11.143231178941729 7.679036537614323,11.406323172468923\"/><polyline fill=\"none\" stroke=\"#BDBDBD\" stroke-width=\"2.0\" points=\"9.175737656346817,13.774151114213685 9.088040325171102,13.651374850567667 9.204970100072066,13.435054767000857 9.345285829953243,13.668914316802812 9.175737656346817,13.774151114213685\"/><polyline fill=\"none\" stroke=\"#BDBDBD\" stroke-width=\"2.0\" points=\"9.503141026069555,13.633835384332519 9.316053386227994,13.399975834530562 9.45636911610917,13.247967127159294 9.760386530851706,13.651374850567667 9.503141026069555,13.633835384332519\"/><polyline fill=\"none\" stroke=\"#BDBDBD\" stroke-width=\"2.0\" points=\"13.718459411249743,16.44599647070099 14.028323314737333,16.38168509450545 13.753538343720036,16.84355770536431 13.484599861447796,16.633084110542555 13.718459411249743,16.44599647070099\"/><polyline fill=\"none\" stroke=\"#BDBDBD\" stroke-width=\"2.0\" points=\"6.381116036213502,15.206540856750648 6.346037103743207,15.031146194399177 6.685133450956037,15.124690014319958 6.381116036213502,15.206540856750648\"/><polyline fill=\"none\" stroke=\"#BDBDBD\" stroke-width=\"2.0\" points=\"8.333843277059799,14.686203358441302 8.21106701341377,14.475729763619547 8.550163360626598,14.37633945495371 8.637860691802334,14.49911571859974 8.333843277059799,14.686203358441302\"/><polyline fill=\"none\" stroke=\"#BDBDBD\" stroke-width=\"2.0\" points=\"10.882912369901076,14.29448861252303 10.736750151274855,14.124940438916617 11.005688633547095,13.896927377859715 11.222008717113907,14.072322040211175 10.882912369901076,14.29448861252303\"/><polyline fill=\"none\" stroke=\"#BDBDBD\" stroke-width=\"2.0\" points=\"8.22275999090386,15.10715054808481 8.12921617098309,15.487172316512991 7.49194889777276,15.43455391780755 7.918742576161325,14.996067261928882 8.22275999090386,15.10715054808481\"/><polyline fill=\"none\" stroke=\"#BDBDBD\" stroke-width=\"2.0\" points=\"8.702172067997866,14.832365577067524 9.006189482740401,14.70374282467645 9.000342993995368,14.955141840713543 8.39815465325533,14.925909396988306 8.702172067997866,14.832365577067524\"/><polyline fill=\"none\" stroke=\"#BDBDBD\" stroke-width=\"2.0\" points=\"8.702172067997866,16.48107540317129 8.25199243462912,16.726627930463337 7.755040891299966,16.212136920899034 8.503391450666214,15.60994858015901 8.702172067997866,16.48107540317129\"/><polyline fill=\"none\" stroke=\"#BDBDBD\" stroke-width=\"2.0\" points=\"9.59083835724529,16.24721585336933 9.321899874973049,15.808729197490674 9.356978807443333,15.66256697886445 9.84808386202744,16.46353593693614 9.59083835724529,16.24721585336933\"/><polyline fill=\"none\" stroke=\"#BDBDBD\" stroke-width=\"2.0\" points=\"8.98280352776022,16.288141274584667 8.81910184289884,15.884733551176307 8.95357108403496,15.668413467609497 9.339439341208186,16.036742258547577 8.98280352776022,16.288141274584667\"/><polyline fill=\"none\" stroke=\"#BDBDBD\" stroke-width=\"2.0\" points=\"10.520430067708055,15.890580039921353 10.461965180257558,15.452093384042696 11.186929784643612,15.148075969300152 11.16354382966342,15.364396052866962 10.520430067708055,15.890580039921353\"/><polyline fill=\"none\" stroke=\"#BDBDBD\" stroke-width=\"2.0\" points=\"10.005939058143754,15.680106445099598 9.725307598381411,15.440400406552595 10.163794254260067,15.06622512686947 10.152101276769976,15.551483692708523 10.005939058143754,15.680106445099598\"/><polyline fill=\"none\" stroke=\"#BDBDBD\" stroke-width=\"2.0\" points=\"9.696075154656173,14.195098303857204 9.000342993995368,14.306181590013132 8.737251000468161,14.124940438916617 9.041268415210697,13.803383557938934 9.696075154656173,14.195098303857204\"/><polyline fill=\"none\" stroke=\"#BDBDBD\" stroke-width=\"2.0\" points=\"8.164295103453384,13.797537069193877 7.924589064906382,14.212637770092352 7.451023476557431,14.259409680052737 7.907049598671234,13.76830462546864 8.164295103453384,13.797537069193877\"/><polyline fill=\"none\" stroke=\"#BDBDBD\" stroke-width=\"2.0\" points=\"7.322400724166345,13.967085242800293 6.784523759621862,13.896927377859715 6.690979939701091,13.674760805547859 7.690729515104433,13.382436368295414 7.322400724166345,13.967085242800293\"/><polyline fill=\"none\" stroke=\"#BDBDBD\" stroke-width=\"2.0\" points=\"5.001344692381981,9.061881185704355 7.9421285311415275,8.313530626338107 11.356477958250027,8.412920935003934 13.999090871012086,6.9980706587021295 22.59342932623383,7.027303102427368 23.00268353838725,8.255065738887621 22.458960085097708,9.523753796563204 21.096728207501336,9.938854497461667 22.564196882508583,10.926911095374917 22.570043371253636,12.675011230144506 17.004186085967177,13.86184844538942 14.688976542927847,17.25865840626277 14.782520362848627,16.054281724782722 12.958415874393404,15.984123859842134 12.905797475687963,14.440650831149252 12.040517141420741,14.884983975772954 14.016630337247232,12.961489178651906 12.66609143714096,13.481826676961251 11.80081110287374,12.593160387713827 14.85852471653426,11.131538201451626 9.44467613861907,12.53469550026334 9.894855771987826,11.301086375058041 8.591088781841949,11.686954632231267 6.9599184219733345,10.500117416986352 8.187681058433586,9.360052111701844 6.433734434918943,9.944700986206723 5.001344692381981,9.061881185704355\"/>\n",
       "        </svg >"
      ],
      "text/plain": [
       "<IPython.core.display.HTML object>"
      ]
     },
     "metadata": {},
     "output_type": "display_data"
    },
    {
     "name": "stdout",
     "output_type": "stream",
     "text": [
      "LIB\n",
      "3.0 3.0\n"
     ]
    },
    {
     "data": {
      "text/html": [
       " \n",
       "        <svg> \n",
       "        <polyline fill=\"none\" stroke=\"#BDBDBD\" stroke-width=\"2.0\" points=\"4.999528373799784,9.969134685015154 8.665350242013066,6.367625481156496 8.656775220099114,5.24429761042915 9.947316018148467,4.51970825870044 10.024491215374006,3.3020551469196597 12.228271847258952,3.0147919128023624 13.454499980953685,3.7479562864450173 14.067614047801055,6.457663211252962 13.523100156265278,8.018317199591714 16.125619307148852,8.562831091127487 17.42902263806913,6.697763824843539 18.65525077176387,9.638996341328111 17.39043503945636,11.731301688331712 18.175049544582716,12.473041083888317 20.164454628618927,12.721716719392843 20.73898109685352,14.02512005031312 22.273910019450426,14.67682171577326 22.552598231653775,16.837727238088455 21.579333244420543,18.647056861931734 21.858021456623888,21.000900377310785 14.277702084692807,17.60090418842993 10.135966500255352,13.669256640884228 5.449717024282119,10.92524962842049 4.999528373799784,9.969134685015154\"/>\n",
       "        </svg >"
      ],
      "text/plain": [
       "<IPython.core.display.HTML object>"
      ]
     },
     "metadata": {},
     "output_type": "display_data"
    },
    {
     "name": "stdout",
     "output_type": "stream",
     "text": [
      "MAL\n",
      "3.0 4.0\n"
     ]
    },
    {
     "data": {
      "text/html": [
       " \n",
       "        <svg> \n",
       "        <polyline fill=\"none\" stroke=\"#BDBDBD\" stroke-width=\"2.0\" points=\"12.341705598264221,19.90412454553638 11.627652979646683,20.133407496468617 11.537031622849657,19.57221017847257 11.312115966220892,19.760003833521832 11.115587722564689,19.643178710903975 11.082833015288653,19.978368548695393 10.782581531925011,19.972909430816053 10.691960175127981,20.20110055817242 10.023764146696893,19.844074248863652 9.655819601629446,20.18581502811027 9.329364352444975,19.797125835101333 9.279140467955056,19.232653046377685 8.889359451370254,19.321090756022976 9.235467524920344,18.93895250446925 8.700473972745124,18.599395372374364 8.753973327962646,18.187777884272204 8.364192311377842,17.662610744279796 8.09887918244197,17.688814510100624 8.192776009966598,17.890801871636164 7.77679122756097,18.167033236330717 7.111870669857481,17.9541276390365 6.715538711817469,18.308970301193533 6.430572758515979,17.949760344733026 6.016771623262084,18.170308707058318 5.8136924381506745,17.963954051219307 5.955629503013487,17.11888260349763 5.696867315532817,16.70944876254721 5.469768011752315,16.76949905921994 5.220832236454459,16.415748220638775 5.278698885975452,15.823979842518428 5.0199366984947815,15.474596298240733 5.001375697705033,15.178712109180562 5.477410776783394,15.024764984983204 5.541828367759592,14.419894723952442 5.812600614574805,14.215723715265163 6.463327465792009,14.804216622657908 6.653304767993006,14.454833078380213 8.095603711714366,14.443914842621535 8.178582303480317,14.162224360047642 8.18294959778379,14.376221780917732 12.355899304750503,14.36311989800732 12.551335724830839,13.462365447916387 12.249992417891328,13.281122734322334 11.200749961482376,3.9995305158702017 13.096155689188869,4.002805986597803 19.641638026516304,8.236897813813115 19.652556262274985,8.657249890522216 20.151519636446565,8.826482544781724 20.336037820768222,9.134376793176443 20.755298073901457,9.139835911055782 21.01951937926146,9.397506274960582 21.8929782399557,9.648625697410175 21.939926653718015,10.102824304971179 21.761959410851563,10.353943727420772 21.965038595962973,10.569032971866728 23.000087345885643,10.400892141183087 22.997903698733907,12.747221005722981 22.81884463229159,12.830199597488933 22.73914151125324,13.84122822874251 22.21943348914017,14.545454435177241 19.813054327927546,14.628433026943192 19.125205475130837,14.975632924069153 17.60211158679526,14.828236741326997 16.53867542390003,15.456035297450981 16.211128351139692,15.484422710423544 16.1903837031982,15.795592429545867 15.664124739629925,15.684226424807349 15.26997642874165,15.94298861228802 15.231762603586278,16.386268984090343 14.805951408997837,16.317484098810674 14.832155174818665,16.767315412068204 14.619249577524444,16.923446183417298 14.014379316493685,16.565328050532663 13.622414652757147,16.94200718420705 13.752341658285413,17.317594494305574 13.465192057832184,17.418042263285408 13.571098944691359,17.61238685978988 13.37893799533863,18.045840819409392 12.462898015185546,18.386489775080143 12.68999731896605,18.812300969668584 12.365725716933314,19.216275692739668 12.341705598264221,19.90412454553638\"/>\n",
       "        </svg >"
      ],
      "text/plain": [
       "<IPython.core.display.HTML object>"
      ]
     },
     "metadata": {},
     "output_type": "display_data"
    },
    {
     "name": "stdout",
     "output_type": "stream",
     "text": [
      "NIG\n",
      "3.0 5.5\n"
     ]
    },
    {
     "data": {
      "text/html": [
       " \n",
       "        <svg> \n",
       "        <polyline fill=\"none\" stroke=\"#BDBDBD\" stroke-width=\"2.0\" points=\"20.315531426036188,16.659781899364955 19.45359044157593,16.903126715558223 18.991917565994314,17.396639099800637 17.933253903022674,17.072558386646055 16.942817758609895,17.062324258862226 16.251445570546785,17.237441556496634 15.784087068418597,17.691154554913048 14.996059229063768,17.650218043777734 13.708833378919946,17.08165538912057 12.688831976464996,17.479649247380586 12.12709207366372,16.79509981117336 11.095719418115625,16.45396221837906 9.888092339623809,16.66887890183947 9.507155361003507,16.930417722981765 9.468493100486821,17.4728264955247 8.953375335367431,18.01409814275832 8.910164573613487,18.949952272324012 8.07324034595814,18.16192443296918 7.510363317847549,18.331356104057015 7.545614202436292,18.716841583914572 7.1612658478880515,18.20627232003244 7.388690909750915,18.10961666874072 7.268155626963598,17.82306109079351 6.602937321014718,17.8856029828058 5.945678892231033,17.46827799428744 5.938856140375151,17.046404504531825 6.26748535476699,17.0600500082436 5.493103019123932,16.63817651848798 4.999590634881514,15.725064895108579 5.071229529368317,15.20539862875193 5.899056754549147,15.222455508391645 6.316381743067506,14.89268916869049 8.822605924796283,14.8062676451826 9.363877572029903,14.072821820674859 9.44688771960985,13.019843784249794 9.633376270337399,12.933422260741905 9.635650520956027,10.489739971025413 11.425485757816778,10.147465252921803 13.277862886689817,8.550941318644487 18.433589039120978,5.500034113754147 20.046032727728694,5.849131583713644 20.94549884739633,6.50184151126007 21.86315897201299,6.09475065052554 22.092858284494483,7.812946992899487 23.000284281327318,9.112681221445765 22.72509995647325,9.567531345171494 22.4430928797633,13.035763538580195 21.168375408021937,14.361651649240699 20.384896069904364,15.70459663954092 20.131317125927268,15.827406172946867 20.315531426036188,16.659781899364955\"/>\n",
       "        </svg >"
      ],
      "text/plain": [
       "<IPython.core.display.HTML object>"
      ]
     },
     "metadata": {},
     "output_type": "display_data"
    },
    {
     "name": "stdout",
     "output_type": "stream",
     "text": [
      "NIR\n",
      "3.0 5.0\n"
     ]
    },
    {
     "data": {
      "text/html": [
       " \n",
       "        <svg> \n",
       "        <polyline fill=\"none\" stroke=\"#BDBDBD\" stroke-width=\"2.0\" points=\"5.02949788868132,16.281604752300918 5.135972601562514,12.238564950502337 5.590364686111833,12.189076703670231 5.959277071587518,11.137826369448867 6.358182333931147,10.917378724469492 6.433164526101006,10.18405288504831 6.643114664176597,10.229042200350223 6.556135321259564,9.15979614000809 6.20821794959144,8.898858111256995 6.482652772933108,8.200024080233948 6.428665594570813,7.057295471565357 7.108004255629698,6.343465002108337 7.158992146305199,5.628134888807919 7.661372833843227,5.283216804826589 9.25399459553095,4.999784118424536 10.61417156149212,5.449677271443665 11.354995620130284,6.35246286516872 12.700176147657483,5.827587519979735 14.397772978383001,6.5774094416782845 15.43702616185719,6.631396620040579 16.053379781493398,6.033038726525138 16.965163238278834,5.802093574641985 18.27135302587771,5.815590369232558 19.667521444080407,6.242988864600731 20.27637684449963,5.59214343656639 21.413106877794633,5.27121965407941 22.087946607323328,6.220494206949775 22.219915265542273,7.229754513556024 22.948742173433264,7.543180076826017 22.91575000887853,8.543442520371883 22.192921676361124,8.948346358089099 21.92148614070625,8.882362028979626 21.50308550839846,9.386242360361052 21.15666778057373,10.539468475933422 20.84024292961694,10.794407929310928 20.789255038941437,11.521735193358523 20.243384679944896,11.758678920615264 20.1369099670637,12.703454541955436 19.316604784725488,13.192338434902892 19.01967530373286,14.551015757020664 18.242859792853167,15.920190586042215 17.613009378626383,16.023666011236614 16.82269707315611,15.098385759860605 16.690728414937166,15.485293871457056 16.287324221063347,15.498790666047631 16.194346302772725,15.275343733381463 14.223814292548935,17.098910646952337 14.18632319646401,18.057183062883084 13.727432180384497,18.790508902304268 13.360019438752207,18.57006125732489 13.381014452559766,19.02595298571761 10.098294079363514,19.418859672687653 9.396460760653673,18.91198005361943 9.011052292900619,17.745257143456488 7.757350039820642,16.377581958278334 6.841067651505014,16.188626834010297 5.02949788868132,16.281604752300918\"/>\n",
       "        </svg >"
      ],
      "text/plain": [
       "<IPython.core.display.HTML object>"
      ]
     },
     "metadata": {},
     "output_type": "display_data"
    },
    {
     "name": "stdout",
     "output_type": "stream",
     "text": [
      "SEN\n",
      "3.0 5.5\n"
     ]
    },
    {
     "data": {
      "text/html": [
       " \n",
       "        <svg> \n",
       "        <polyline fill=\"none\" stroke=\"#BDBDBD\" stroke-width=\"2.0\" points=\"20.44353412972748,11.114812744535932 21.31513967784375,13.551213488095827 20.920284815442088,14.171281864608076 22.999853757424187,16.312272674074876 22.967680398265536,17.979437648659683 20.145199344801785,18.292396687748408 18.554080491864706,17.607981592918854 18.077329806150104,17.803946598703384 17.834567187043895,17.31257165882576 11.853247234366831,17.198502476354168 10.531214658029407,17.906316377844558 7.351901802987859,18.230974820263704 7.223208366353241,17.60213189125365 8.2059582461085,17.488062708782053 7.193959858027197,17.514386366275495 7.439647327966009,15.785799524205991 10.001816657327918,15.800423778369012 10.013516060658338,15.26810092683492 11.511039686952058,15.212528761015427 12.084310450142622,14.542737920348896 14.275023723763704,15.598609070919276 15.889541383361625,14.987315246904847 15.40694099598181,14.589535533670576 14.28379827626152,14.917118826922326 12.169131124288164,13.846623422188927 10.969942282920146,14.548587622014109 7.8491264445307,14.542737920348896 7.811103383706831,13.74132879221515 7.378225460481303,13.978241709656148 6.064967436641691,11.518442159435413 5.035419943564758,11.228881927007524 6.921948730594941,9.690410389057336 8.624211915170996,6.005098339975136 10.31185084558404,6.101618417451091 12.485015014209498,5.49909914593448 14.327671038750594,5.6102434775734675 15.754998245061795,7.166264120519285 17.132602987218714,7.332980617977771 17.580105164607268,8.64038894015217 20.44353412972748,11.114812744535932\"/>\n",
       "        </svg >"
      ],
      "text/plain": [
       "<IPython.core.display.HTML object>"
      ]
     },
     "metadata": {},
     "output_type": "display_data"
    },
    {
     "name": "stdout",
     "output_type": "stream",
     "text": [
      "SIL\n",
      "3.0 3.0\n"
     ]
    },
    {
     "data": {
      "text/html": [
       " \n",
       "        <svg> \n",
       "        <polyline fill=\"none\" stroke=\"#BDBDBD\" stroke-width=\"2.0\" points=\"9.593580867679355,18.207345269342184 7.454087181954289,17.29879315622606 7.37202441044702,17.064328094776737 9.253606528577828,16.85330953947235 9.593580867679355,18.207345269342184\"/><polyline fill=\"none\" stroke=\"#BDBDBD\" stroke-width=\"2.0\" points=\"15.853798008376252,20.99747950058912 9.839769182201142,18.342162679675543 9.693228518795314,16.26714688584904 7.29582326547599,15.475827303457582 6.809308262968646,13.336333617732514 6.047296813258356,13.576660305718072 5.103574940924837,12.175731563558369 7.1961756143600315,11.466474752674177 5.795246872200327,11.613015416079994 5.355624881982852,10.059684383978242 6.076604945939515,9.801772816383986 5.015650542881335,8.641170762209839 8.028526582505123,7.123009489325476 10.150435388621489,3.6939579656291457 17.330927895506974,3.002286034353645 20.484482972000357,7.052669970890687 20.126923753290143,8.400844074224281 20.976859601043934,8.611862629528678 21.656808279246977,10.768941194862434 20.208986524797414,12.937743013268669 22.723624308841384,11.882650236746722 22.618115031189195,13.547352173036902 20.853765443783047,14.53796705766029 20.865488696855515,16.073713210153354 15.853798008376252,20.99747950058912\"/>\n",
       "        </svg >"
      ],
      "text/plain": [
       "<IPython.core.display.HTML object>"
      ]
     },
     "metadata": {},
     "output_type": "display_data"
    },
    {
     "name": "stdout",
     "output_type": "stream",
     "text": [
      "TOG\n",
      "8.5 3.0\n"
     ]
    },
    {
     "data": {
      "text/html": [
       " \n",
       "        <svg> \n",
       "        <polyline fill=\"none\" stroke=\"#BDBDBD\" stroke-width=\"2.0\" points=\"13.204133032477952,14.503773914689646 13.618866395472924,13.030755418535083 12.374666306488002,11.543435771932415 12.900233585455771,11.089374245205164 13.021793364264642,9.208772961279678 11.820496726624029,9.019282717842316 12.356789868427875,8.540194177830879 12.371091018875976,5.965987097172423 10.815840907644823,4.814744486100164 11.091138053770798,3.2022897730766005 10.501215597786569,2.998498379191144 12.7786738066469,3.742158202492476 14.26956874086159,3.5097645077108055 13.779754338014078,5.694265238658472 15.853421152988949,7.070750969288342 15.806942414032616,8.693931545147986 16.836625246296,10.649613868926005 16.693613741814975,18.92640469076536 17.440848852728333,20.367245598411696 15.27064927222877,21.000071505740234 13.686796860101413,19.795199580487594 12.850179558887412,17.982528761190594 13.361445687407079,16.684699358025288 12.828727833215257,15.930313671887877 13.204133032477952,14.503773914689646\"/>\n",
       "        </svg >"
      ],
      "text/plain": [
       "<IPython.core.display.HTML object>"
      ]
     },
     "metadata": {},
     "output_type": "display_data"
    }
   ],
   "source": [
    "new_dict = {}\n",
    "for idx, row in gdf_dis.iterrows():\n",
    "    idx = row.name\n",
    "    print(idx)\n",
    "    \n",
    "    # simplify geometry\n",
    "    smp_geom = row['geometry'].simplify(0.1)\n",
    "    xmin, ymin, xmax, ymax = row['geometry'].bounds\n",
    "\n",
    "    # set factors for resizing\n",
    "    factor_y = svg_height / (ymax-ymin)\n",
    "    factor_x = svg_width / (xmax-xmin)\n",
    "\n",
    "    if factor_y >= factor_x:\n",
    "        factor = factor_x\n",
    "    else:\n",
    "        factor = factor_y\n",
    "    \n",
    "    # relocate and resize geometries\n",
    "    if smp_geom.type == 'LineString':\n",
    "        smp_gm = scale_locate_geom(smp_geom, xmax, ymin, factor)        \n",
    "        \n",
    "    if smp_geom.type == 'MultiLineString':\n",
    "        new_geom = []\n",
    "        for line in smp_geom:\n",
    "            ring = scale_locate_geom(line, xmax, ymin, factor)      \n",
    "            new_geom.append(ring)\n",
    "            \n",
    "        smp_gm = geometry.MultiLineString(new_geom)\n",
    "    \n",
    "    # rotate and flip\n",
    "    smp_gm = rotate(smp_gm, 180)\n",
    "    smp_gm = scale(smp_gm, xfact = -1, origin = (1, 0))\n",
    "    \n",
    "    # place geom in middle of dom\n",
    "    xmin, ymin, xmax, ymax = smp_gm.bounds\n",
    "    xoff = ((svg_width + strokeWidth * 2) / 2) - (np.round(xmax-xmin) / 2) + 1\n",
    "    yoff = ((svg_height + strokeWidth * 2) / 2) - (np.round(ymax-ymin) / 2) + 1\n",
    "    print(xoff, yoff)\n",
    "    smp_mv_gm = translate(smp_gm, xoff, yoff)    \n",
    "\n",
    "    # convert to svg and change styling\n",
    "    item_svg = smp_mv_gm.svg()\n",
    "    item_svg = item_svg.replace('stroke=\"#66cc99\" stroke-width=\"2.0\"', 'stroke=\"#BDBDBD\" stroke-width=\"2.0\"')\n",
    "    item_svg = item_svg.replace(' opacity=\"0.8\" ', '')    \n",
    "    item_svg = item_svg.replace('<g>', \"\")\n",
    "    item_svg = item_svg.replace('</g>', \"\")      \n",
    "    \n",
    "#     onmouseover=\"evt.target.setAttribute('fill', '#2196F3');\" onmouseout=\"evt.target.setAttribute('fill', 'none');\"')\"\"\")\n",
    "#     item_svg = item_svg.replace('<polyline fill=\"none\" stroke=\"#66cc99\" stroke-width=\"2.0\" ', '<polyline ') \n",
    "#     item_svg = item_svg.replace('<polyline fill=\"none\" stroke=\"#66cc99\" stroke-width=\"2.0\" ', '\"polyline\",{ ')\n",
    "#     item_svg = item_svg.replace(' opacity=\"0.8\" ', '')\n",
    "#     item_svg = item_svg.replace('/>', '}')\n",
    "#     item_svg = item_svg.replace('points=', 'points: points=')\n",
    "#     item_svg = item_svg.replace('\"}\"polyline\"', '}, \"polyline\"')\n",
    "#     item_svg = item_svg.replace('<g>', \"[\")\n",
    "#     item_svg = item_svg.replace('</g>', \"]\")    \n",
    "    new_dict.update({idx: item_svg})\n",
    "    display(HTML(''' \n",
    "        <svg> \n",
    "        {}\n",
    "        </svg >'''.format(item_svg)))    "
   ]
  },
  {
   "cell_type": "code",
   "execution_count": 48,
   "metadata": {},
   "outputs": [],
   "source": [
    "keys = new_dict.keys()\n",
    "with open(os.path.join(folder_svg, svg_file), 'w') as f:\n",
    "    for key in keys:\n",
    "        f.write('{}: \\n{}\\n\\n'.format(key, new_dict[key]))"
   ]
  },
  {
   "cell_type": "code",
   "execution_count": null,
   "metadata": {},
   "outputs": [],
   "source": []
  },
  {
   "cell_type": "code",
   "execution_count": null,
   "metadata": {},
   "outputs": [],
   "source": []
  }
 ],
 "metadata": {
  "kernelspec": {
   "display_name": "Python 3",
   "language": "python",
   "name": "python3"
  },
  "language_info": {
   "codemirror_mode": {
    "name": "ipython",
    "version": 3
   },
   "file_extension": ".py",
   "mimetype": "text/x-python",
   "name": "python",
   "nbconvert_exporter": "python",
   "pygments_lexer": "ipython3",
   "version": "3.6.5"
  }
 },
 "nbformat": 4,
 "nbformat_minor": 2
}
