{
 "cells": [
  {
   "cell_type": "code",
   "execution_count": 1,
   "metadata": {},
   "outputs": [],
   "source": [
    "import hkvportal"
   ]
  },
  {
   "cell_type": "code",
   "execution_count": 2,
   "metadata": {},
   "outputs": [],
   "source": [
    "from hkvportal.io.services import dataportal as dp\n",
    "dp = dp()"
   ]
  },
  {
   "cell_type": "code",
   "execution_count": 3,
   "metadata": {},
   "outputs": [
    {
     "name": "stdout",
     "output_type": "stream",
     "text": [
      "dataservice is set. https://dmws.hkvservices.nl/dataportal/ will be used as portal\n"
     ]
    }
   ],
   "source": [
    "dp.setDataservice(dataservice = 'https://dmws.hkvservices.nl/dataportal/')"
   ]
  },
  {
   "cell_type": "code",
   "execution_count": 4,
   "metadata": {},
   "outputs": [
    {
     "data": {
      "text/plain": [
       "{'exception': 'database name already exists'}"
      ]
     },
     "execution_count": 4,
     "metadata": {},
     "output_type": "execute_result"
    }
   ],
   "source": [
    "dp.createDatabase(database = 'vega')"
   ]
  },
  {
   "cell_type": "code",
   "execution_count": 5,
   "metadata": {},
   "outputs": [],
   "source": [
    "info_html = open(r\"D:\\Projects\\Markt\\waterbouwdag\\info.html\").read()"
   ]
  },
  {
   "cell_type": "code",
   "execution_count": 6,
   "metadata": {},
   "outputs": [
    {
     "data": {
      "text/plain": [
       "{'id': '6cc8f3c6-2d25-42e5-83f4-20491cd67eec',\n",
       " 'key': 'info_html',\n",
       " 'date': '2018-10-02 09:00:18'}"
      ]
     },
     "execution_count": 6,
     "metadata": {},
     "output_type": "execute_result"
    }
   ],
   "source": [
    "dp.setEntryDatabase(database = 'vega', \n",
    "                    key = 'info_html', \n",
    "                    data = info_html, \n",
    "                    description = 'info_html')"
   ]
  },
  {
   "cell_type": "code",
   "execution_count": 8,
   "metadata": {},
   "outputs": [],
   "source": [
    "# dp.getEntryDatabase(database = 'vega', \n",
    "#                     key = 'info_html')"
   ]
  },
  {
   "cell_type": "code",
   "execution_count": 18,
   "metadata": {},
   "outputs": [],
   "source": [
    "import json"
   ]
  },
  {
   "cell_type": "code",
   "execution_count": 21,
   "metadata": {},
   "outputs": [],
   "source": [
    "eu_extreme_discharge_locations = open(r\"D:\\Projects\\Markt\\waterbouwdag\\eu_extreme_discharge_locations.json\").read()"
   ]
  },
  {
   "cell_type": "code",
   "execution_count": 22,
   "metadata": {},
   "outputs": [
    {
     "data": {
      "text/plain": [
       "{'id': 'e09223a2-d313-472a-a8d2-0cac9ea9d084',\n",
       " 'key': 'eu_extreme_discharge_locations',\n",
       " 'date': '2018-09-28 14:01:48'}"
      ]
     },
     "execution_count": 22,
     "metadata": {},
     "output_type": "execute_result"
    }
   ],
   "source": [
    "dp.setEntryDatabase(database = 'vega', \n",
    "                    key = 'eu_extreme_discharge_locations', \n",
    "                    data = eu_extreme_discharge_locations, \n",
    "                    description = 'eu_extreme_discharge_locations')"
   ]
  },
  {
   "cell_type": "code",
   "execution_count": 23,
   "metadata": {},
   "outputs": [],
   "source": [
    "eu_extreme_discharge_som = open(r\"D:\\Projects\\Markt\\waterbouwdag\\eu_extreme_discharge_som.csv\").read()"
   ]
  },
  {
   "cell_type": "code",
   "execution_count": 24,
   "metadata": {},
   "outputs": [
    {
     "data": {
      "text/plain": [
       "{'id': '5c4ee5a5-dc2e-47c1-9cc0-f162ef2e0b40',\n",
       " 'key': 'eu_extreme_discharge_som',\n",
       " 'date': '2018-09-28 14:02:44'}"
      ]
     },
     "execution_count": 24,
     "metadata": {},
     "output_type": "execute_result"
    }
   ],
   "source": [
    "dp.setEntryDatabase(database = 'vega', \n",
    "                    key = 'eu_extreme_discharge_som', \n",
    "                    data = eu_extreme_discharge_som, \n",
    "                    description = 'eu_extreme_discharge_som')"
   ]
  },
  {
   "cell_type": "code",
   "execution_count": 25,
   "metadata": {},
   "outputs": [],
   "source": [
    "europe = open(r\"D:\\Projects\\Markt\\waterbouwdag\\europe.topojson\").read()"
   ]
  },
  {
   "cell_type": "code",
   "execution_count": 26,
   "metadata": {},
   "outputs": [
    {
     "data": {
      "text/plain": [
       "{'id': 'e818b0f6-a99a-47e4-a05a-574c46c7db06',\n",
       " 'key': 'europe',\n",
       " 'date': '2018-09-28 14:03:30'}"
      ]
     },
     "execution_count": 26,
     "metadata": {},
     "output_type": "execute_result"
    }
   ],
   "source": [
    "dp.setEntryDatabase(database = 'vega', \n",
    "                    key = 'europe', \n",
    "                    data = europe, \n",
    "                    description = 'europe')"
   ]
  },
  {
   "cell_type": "code",
   "execution_count": 45,
   "metadata": {},
   "outputs": [],
   "source": [
    "europe_rivers = open(r\"D:\\Projects\\Markt\\waterbouwdag\\europe_rivers.geojson\").read()"
   ]
  },
  {
   "cell_type": "code",
   "execution_count": 46,
   "metadata": {},
   "outputs": [
    {
     "data": {
      "text/plain": [
       "{'id': '370c9e01-32d9-453b-b699-0706b4931b38',\n",
       " 'key': 'europe_rivers',\n",
       " 'date': '2018-09-28 15:01:38'}"
      ]
     },
     "execution_count": 46,
     "metadata": {},
     "output_type": "execute_result"
    }
   ],
   "source": [
    "dp.setEntryDatabase(database = 'vega', \n",
    "                    key = 'europe_rivers', \n",
    "                    data = europe_rivers, \n",
    "                    description = 'europe_rivers')"
   ]
  },
  {
   "cell_type": "code",
   "execution_count": 10,
   "metadata": {},
   "outputs": [],
   "source": [
    "vega4_som_EU_river_extremes = open(r\"D:\\Projects\\Markt\\waterbouwdag\\vega4_som_EU_river_extremes.json\").read()"
   ]
  },
  {
   "cell_type": "code",
   "execution_count": 11,
   "metadata": {},
   "outputs": [
    {
     "data": {
      "text/plain": [
       "{'id': 'e515bc41-a7e2-428d-bca1-3fad8d56a984',\n",
       " 'key': 'vega4_som_EU_river_extremes',\n",
       " 'date': '2018-10-01 12:27:51'}"
      ]
     },
     "execution_count": 11,
     "metadata": {},
     "output_type": "execute_result"
    }
   ],
   "source": [
    "dp.setEntryDatabase(database = 'vega', \n",
    "                    key = 'vega4_som_EU_river_extremes', \n",
    "                    data = vega4_som_EU_river_extremes, \n",
    "                    description = 'vega4_som_EU_river_extremes')"
   ]
  },
  {
   "cell_type": "code",
   "execution_count": 9,
   "metadata": {},
   "outputs": [
    {
     "data": {
      "text/plain": [
       "{'id': '5b4fbee9-d309-41b9-8e0d-d00bb59266d0',\n",
       " 'key': 'vega4_som_EU_river_extremes_portrait',\n",
       " 'date': '2018-10-02 10:11:07'}"
      ]
     },
     "execution_count": 9,
     "metadata": {},
     "output_type": "execute_result"
    }
   ],
   "source": [
    "vega4_som_EU_river_extremes_portrait = open(r\"D:\\Projects\\Markt\\waterbouwdag\\vega4_som_EU_river_extremes_portrait.json\").read()\n",
    "dp.setEntryDatabase(database = 'vega', \n",
    "                    key = 'vega4_som_EU_river_extremes_portrait', \n",
    "                    data = vega4_som_EU_river_extremes_portrait, \n",
    "                    description = 'vega4_som_EU_river_extremes_portrait')"
   ]
  },
  {
   "cell_type": "code",
   "execution_count": 7,
   "metadata": {},
   "outputs": [
    {
     "data": {
      "text/plain": [
       "{'id': '280a48d4-47ea-4b59-9108-e3b347573d6a',\n",
       " 'key': 'vega4_som_EU_river_extremes_portrait_400px',\n",
       " 'date': '2018-10-02 14:28:52'}"
      ]
     },
     "execution_count": 7,
     "metadata": {},
     "output_type": "execute_result"
    }
   ],
   "source": [
    "vega4_som_EU_river_extremes_portrait_400px = open(r\"D:\\Projects\\Markt\\waterbouwdag\\vega4_som_EU_river_extremes_portrait_400px.json\").read()\n",
    "dp.setEntryDatabase(database = 'vega', \n",
    "                    key = 'vega4_som_EU_river_extremes_portrait_400px', \n",
    "                    data = vega4_som_EU_river_extremes_portrait_400px, \n",
    "                    description = 'vega4_som_EU_river_extremes_portrait_400px')"
   ]
  },
  {
   "cell_type": "code",
   "execution_count": 4,
   "metadata": {},
   "outputs": [
    {
     "data": {
      "text/plain": [
       "{'id': '6ce665a1-1a88-47df-88eb-6dcd49c44cb4',\n",
       " 'key': 'vega4_som_EU_river_extremes_portrait_300px',\n",
       " 'date': '2018-10-03 09:05:08'}"
      ]
     },
     "execution_count": 4,
     "metadata": {},
     "output_type": "execute_result"
    }
   ],
   "source": [
    "vega4_som_EU_river_extremes_portrait_300px = open(r\"D:\\Projects\\Markt\\waterbouwdag\\vega4_som_EU_river_extremes_portrait_300px.json\").read()\n",
    "dp.setEntryDatabase(database = 'vega', \n",
    "                    key = 'vega4_som_EU_river_extremes_portrait_300px', \n",
    "                    data = vega4_som_EU_river_extremes_portrait_300px, \n",
    "                    description = 'vega4_som_EU_river_extremes_portrait_300px')"
   ]
  },
  {
   "cell_type": "code",
   "execution_count": 5,
   "metadata": {},
   "outputs": [
    {
     "data": {
      "text/plain": [
       "{'id': '74157976-5fdd-4f52-a59f-abc39ddbab0f',\n",
       " 'key': 'vega4_som_EU_river_extremes_landscape_600px',\n",
       " 'date': '2018-10-03 09:05:30'}"
      ]
     },
     "execution_count": 5,
     "metadata": {},
     "output_type": "execute_result"
    }
   ],
   "source": [
    "vega4_som_EU_river_extremes_landscape_600px = open(r\"D:\\Projects\\Markt\\waterbouwdag\\vega4_som_EU_river_extremes_landscape_600px.json\").read()\n",
    "dp.setEntryDatabase(database = 'vega', \n",
    "                    key = 'vega4_som_EU_river_extremes_landscape_600px', \n",
    "                    data = vega4_som_EU_river_extremes_landscape_600px, \n",
    "                    description = 'vega4_som_EU_river_extremes_landscape_600px')"
   ]
  },
  {
   "cell_type": "code",
   "execution_count": 8,
   "metadata": {},
   "outputs": [
    {
     "data": {
      "text/plain": [
       "{'id': 'e377e573-f694-405c-b0f2-5be5cf9fb66c',\n",
       " 'key': 'vega4_som_EU_river_extremes_landscape_800px',\n",
       " 'date': '2018-10-02 14:29:32'}"
      ]
     },
     "execution_count": 8,
     "metadata": {},
     "output_type": "execute_result"
    }
   ],
   "source": [
    "vega4_som_EU_river_extremes_landscape_800px = open(r\"D:\\Projects\\Markt\\waterbouwdag\\vega4_som_EU_river_extremes_landscape_800px.json\").read()\n",
    "dp.setEntryDatabase(database = 'vega', \n",
    "                    key = 'vega4_som_EU_river_extremes_landscape_800px', \n",
    "                    data = vega4_som_EU_river_extremes_landscape_800px, \n",
    "                    description = 'vega4_som_EU_river_extremes_landscape_800px')"
   ]
  },
  {
   "cell_type": "code",
   "execution_count": 9,
   "metadata": {},
   "outputs": [
    {
     "name": "stdout",
     "output_type": "stream",
     "text": [
      "https://dmws.hkvservices.nl/dataportal/data.asmx/read?database=vega&key=vega4_som_EU_river_extremes_landscape_800px\n"
     ]
    },
    {
     "data": {
      "text/plain": [
       "{'$schema': 'https://vega.github.io/schema/vega/v4.0.json',\n",
       " 'autosize': 'pad',\n",
       " 'padding': 0,\n",
       " 'data': [{'name': 'brush_store'},\n",
       "  {'name': 'matrix_data',\n",
       "   'url': 'https://dmws.hkvservices.nl/dataportal/data.asmx/read?database=vega&key=eu_extreme_discharge_som',\n",
       "   'format': {'type': 'csv',\n",
       "    'parse': {'X': 'number',\n",
       "     'Y': 'number',\n",
       "     'U-matrix': 'number',\n",
       "     'Annual maxima of daily discharge': 'number',\n",
       "     'Annual maxima of daily precipitation': 'number',\n",
       "     'Annual maxima of daily precipitation and snowmelt': 'number',\n",
       "     'Annual maxima of daily snowmelt': 'number',\n",
       "     'Annual maxima of daily total runoff coefficient': 'number',\n",
       "     'Annual mean of daily discharge': 'number',\n",
       "     'Annual mean of daily near-surface air temperature': 'number',\n",
       "     'Annual mean of daily precipitation': 'number',\n",
       "     'Annual mean of daily total runoff coefficient': 'number',\n",
       "     'Area': 'number',\n",
       "     'Average elevation': 'number',\n",
       "     'Average water capacity': 'number',\n",
       "     'Build-up areas': 'number',\n",
       "     'Circularity': 'number',\n",
       "     'Clay': 'number',\n",
       "     'Confidence': 'number',\n",
       "     'Eolian deposits': 'number',\n",
       "     'Forests': 'number',\n",
       "     'Glaciers': 'number',\n",
       "     'Gravel': 'number',\n",
       "     'Irrigated agriculture': 'number',\n",
       "     'Lakes': 'number',\n",
       "     'Marshes': 'number',\n",
       "     'Peat': 'number',\n",
       "     'River network density': 'number',\n",
       "     'River slopeness': 'number',\n",
       "     'Sand': 'number',\n",
       "     'Silt': 'number',\n",
       "     'Slopeness (average)': 'number',\n",
       "     'Soil sealing': 'number',\n",
       "     'Soil texture (dimensionless index from 1 to 13)': 'number',\n",
       "     'Steepness (equation)': 'number',\n",
       "     'Time of concentration': 'number',\n",
       "     'Total area': 'number',\n",
       "     'Unconsolidated deposits': 'number',\n",
       "     'Total events in node': 'number'}},\n",
       "   'transform': [{'type': 'filter',\n",
       "     'expr': \"datum['U-matrix'] <= filter_u_matrix\"}]},\n",
       "  {'name': 'map_data',\n",
       "   'url': 'https://dmws.hkvservices.nl/dataportal/data.asmx/read?database=vega&key=eu_extreme_discharge_locations',\n",
       "   'format': {'type': 'json', 'property': 'features'},\n",
       "   'transform': []},\n",
       "  {'name': 'matrix_data_static', 'source': 'matrix_data'},\n",
       "  {'name': 'data_0',\n",
       "   'source': 'matrix_data',\n",
       "   'transform': [{'type': 'filter',\n",
       "     'expr': '!(length(data(\"brush_store\"))) || (vlInterval(\"brush_store\", datum))'},\n",
       "    {'type': 'lookup',\n",
       "     'from': 'map_data',\n",
       "     'key': 'properties.som_key',\n",
       "     'fields': ['XY'],\n",
       "     'as': ['geo']},\n",
       "    {'type': 'filter', 'expr': 'datum.geo'},\n",
       "    {'type': 'formula',\n",
       "     'expr': \"geoCentroid('projection', datum.geo)\",\n",
       "     'as': 'centroid'},\n",
       "    {'type': 'filter', 'expr': \"datum['U-matrix'] <= filter_u_matrix\"},\n",
       "    {'type': 'collect',\n",
       "     'sort': {'field': {'signal': 'variable'}, 'order': 'ascending'}}]},\n",
       "  {'name': 'map_outline',\n",
       "   'url': 'https://dmws.hkvservices.nl/dataportal/data.asmx/read?database=vega&key=europe',\n",
       "   'format': {'type': 'topojson', 'feature': 'europe'}},\n",
       "  {'name': 'map_rivers',\n",
       "   'url': 'https://dmws.hkvservices.nl/dataportal/data.asmx/read?database=vega&key=europe_rivers',\n",
       "   'format': {'type': 'json', 'propery': 'properties'}}],\n",
       " 'signals': [{'name': 'matrix_x_step', 'value': 6.67},\n",
       "  {'name': 'matrix_width', 'value': 400},\n",
       "  {'name': 'matrix_y_step', 'value': 6.67},\n",
       "  {'name': 'matrix_height', 'value': 332},\n",
       "  {'name': 'matrix_x', 'value': 0},\n",
       "  {'name': 'matrix_y', 'value': 0},\n",
       "  {'name': 'map_width', 'value': 400},\n",
       "  {'name': 'map_height', 'value': 332},\n",
       "  {'name': 'variable', 'value': 'Annual mean of daily precipitation'},\n",
       "  {'name': 'filter_u_matrix', 'value': 9.2},\n",
       "  {'name': 'column_numbers', 'value': 2},\n",
       "  {'name': 'unit',\n",
       "   'value': {},\n",
       "   'on': [{'events': [{'type': 'mousemove'}, {'type': 'touchmove'}],\n",
       "     'update': 'isTuple(group()) ? group() : unit'}]}],\n",
       " 'projections': [{'name': 'projection',\n",
       "   'type': 'mercator',\n",
       "   'scale': 285,\n",
       "   'rotate': [0, 0, 0],\n",
       "   'center': [7, 57],\n",
       "   'translate': [{'signal': 'map_width / 2'}, {'signal': 'map_height / 2'}]}],\n",
       " 'layout': {'padding': {'row': 80, 'column': 0},\n",
       "  'offset': 0,\n",
       "  'columns': {'signal': 'column_numbers'},\n",
       "  'bounds': 'full',\n",
       "  'align': 'none'},\n",
       " 'title': {'text': 'A self-organizing map of European catchments',\n",
       "  'orient': 'top',\n",
       "  'anchor': 'middle'},\n",
       " 'marks': [{'type': 'group',\n",
       "   'name': 'matrix_group',\n",
       "   'style': 'cell',\n",
       "   'title': {'text': 'create box to filter locations',\n",
       "    'anchor': 'middle',\n",
       "    'orient': 'bottom'},\n",
       "   'encode': {'update': {'x': {'signal': 'matrix_x'},\n",
       "     'y': {'signal': 'matrix_y'},\n",
       "     'width': {'signal': 'matrix_width'},\n",
       "     'height': {'signal': 'matrix_height'}}},\n",
       "   'signals': [{'name': 'brush_x',\n",
       "     'value': [],\n",
       "     'on': [{'events': [{'source': 'scope',\n",
       "         'type': 'mousedown',\n",
       "         'filter': ['!event.item || event.item.mark.name !== \"brush_brush\"',\n",
       "          'inScope(event.item)',\n",
       "          'inScope(event.item)',\n",
       "          'inScope(event.item)',\n",
       "          'inScope(event.item)']},\n",
       "        {'source': 'scope',\n",
       "         'type': 'touchstart',\n",
       "         'filter': ['!event.item || event.item.mark.name !== \"brush_brush\"',\n",
       "          'inScope(event.item)',\n",
       "          'inScope(event.item)',\n",
       "          'inScope(event.item)',\n",
       "          'inScope(event.item)']}],\n",
       "       'update': '[x(unit), x(unit)]'},\n",
       "      {'events': [{'source': 'window',\n",
       "         'type': 'mousemove',\n",
       "         'consume': True,\n",
       "         'between': [{'source': 'scope',\n",
       "           'type': 'mousedown',\n",
       "           'filter': ['!event.item || event.item.mark.name !== \"brush_brush\"',\n",
       "            'inScope(event.item)',\n",
       "            'inScope(event.item)',\n",
       "            'inScope(event.item)',\n",
       "            'inScope(event.item)']},\n",
       "          {'source': 'window', 'type': 'mouseup'}]},\n",
       "        {'source': 'window',\n",
       "         'type': 'touchmove',\n",
       "         'consume': True,\n",
       "         'between': [{'source': 'scope',\n",
       "           'type': 'touchstart',\n",
       "           'filter': ['!event.item || event.item.mark.name !== \"brush_brush\"',\n",
       "            'inScope(event.item)',\n",
       "            'inScope(event.item)',\n",
       "            'inScope(event.item)',\n",
       "            'inScope(event.item)']},\n",
       "          {'source': 'window', 'type': 'touchend'}]}],\n",
       "       'update': '[brush_x[0], clamp(x(unit), 0, matrix_width)]'},\n",
       "      {'events': {'signal': 'brush_scale_trigger'}, 'update': '[0, 0]'},\n",
       "      {'events': {'signal': 'brush_translate_delta'},\n",
       "       'update': 'clampRange(panLinear(brush_translate_anchor.extent_x, brush_translate_delta.x / span(brush_translate_anchor.extent_x)), 0, matrix_width)'},\n",
       "      {'events': {'signal': 'brush_zoom_delta'},\n",
       "       'update': 'clampRange(zoomLinear(brush_x, brush_zoom_anchor.x, brush_zoom_delta), 0, matrix_width)'}]},\n",
       "    {'name': 'brush_X',\n",
       "     'on': [{'events': {'signal': 'brush_x'},\n",
       "       'update': 'brush_x[0] === brush_x[1] ? null : invert(\"matrix_x\", brush_x)'}]},\n",
       "    {'name': 'brush_y',\n",
       "     'value': [],\n",
       "     'on': [{'events': [{'source': 'scope',\n",
       "         'type': 'mousedown',\n",
       "         'filter': ['!event.item || event.item.mark.name !== \"brush_brush\"',\n",
       "          'inScope(event.item)',\n",
       "          'inScope(event.item)',\n",
       "          'inScope(event.item)',\n",
       "          'inScope(event.item)']},\n",
       "        {'source': 'scope',\n",
       "         'type': 'touchstart',\n",
       "         'filter': ['!event.item || event.item.mark.name !== \"brush_brush\"',\n",
       "          'inScope(event.item)',\n",
       "          'inScope(event.item)',\n",
       "          'inScope(event.item)',\n",
       "          'inScope(event.item)']}],\n",
       "       'update': '[y(unit), y(unit)]'},\n",
       "      {'events': [{'source': 'window',\n",
       "         'type': 'mousemove',\n",
       "         'consume': True,\n",
       "         'between': [{'source': 'scope',\n",
       "           'type': 'mousedown',\n",
       "           'filter': ['!event.item || event.item.mark.name !== \"brush_brush\"',\n",
       "            'inScope(event.item)',\n",
       "            'inScope(event.item)',\n",
       "            'inScope(event.item)',\n",
       "            'inScope(event.item)']},\n",
       "          {'source': 'window', 'type': 'mouseup'}]},\n",
       "        {'source': 'window',\n",
       "         'type': 'touchmove',\n",
       "         'consume': True,\n",
       "         'between': [{'source': 'scope',\n",
       "           'type': 'touchstart',\n",
       "           'filter': ['!event.item || event.item.mark.name !== \"brush_brush\"',\n",
       "            'inScope(event.item)',\n",
       "            'inScope(event.item)',\n",
       "            'inScope(event.item)',\n",
       "            'inScope(event.item)']},\n",
       "          {'source': 'window', 'type': 'touchend'}]}],\n",
       "       'update': '[brush_y[0], clamp(y(unit), 0, matrix_height)]'},\n",
       "      {'events': {'signal': 'brush_scale_trigger'}, 'update': '[0, 0]'},\n",
       "      {'events': {'signal': 'brush_translate_delta'},\n",
       "       'update': 'clampRange(panLinear(brush_translate_anchor.extent_y, brush_translate_delta.y / span(brush_translate_anchor.extent_y)), 0, matrix_height)'},\n",
       "      {'events': {'signal': 'brush_zoom_delta'},\n",
       "       'update': 'clampRange(zoomLinear(brush_y, brush_zoom_anchor.y, brush_zoom_delta), 0, matrix_height)'}]},\n",
       "    {'name': 'brush_Y',\n",
       "     'on': [{'events': {'signal': 'brush_y'},\n",
       "       'update': 'brush_y[0] === brush_y[1] ? null : invert(\"matrix_y\", brush_y)'}]},\n",
       "    {'name': 'brush_scale_trigger',\n",
       "     'update': '(!isArray(brush_X) || (invert(\"matrix_x\", brush_x)[0] === brush_X[0] && invert(\"matrix_x\", brush_x)[1] === brush_X[1])) && (!isArray(brush_Y) || (invert(\"matrix_y\", brush_y)[0] === brush_Y[0] && invert(\"matrix_y\", brush_y)[1] === brush_Y[1])) ? brush_scale_trigger : {}'},\n",
       "    {'name': 'brush_tuple',\n",
       "     'on': [{'events': [{'signal': 'brush_X'}, {'signal': 'brush_Y'}],\n",
       "       'update': 'brush_X && brush_Y ? {unit: \"matrix_layer\", intervals: [{encoding: \"x\", field: \"X\", extent: brush_X}, {encoding: \"y\", field: \"Y\", extent: brush_Y}]} : null'}]},\n",
       "    {'name': 'brush_translate_anchor',\n",
       "     'value': {},\n",
       "     'on': [{'events': [{'source': 'scope',\n",
       "         'type': 'mousedown',\n",
       "         'markname': 'brush_brush'},\n",
       "        {'source': 'scope', 'type': 'touchstart', 'markname': 'brush_brush'}],\n",
       "       'update': '{x: x(unit), y: y(unit), extent_x: slice(brush_x), extent_y: slice(brush_y)}'}]},\n",
       "    {'name': 'brush_translate_delta',\n",
       "     'value': {},\n",
       "     'on': [{'events': [{'source': 'window',\n",
       "         'type': 'mousemove',\n",
       "         'consume': True,\n",
       "         'between': [{'source': 'scope',\n",
       "           'type': 'mousedown',\n",
       "           'markname': 'brush_brush'},\n",
       "          {'source': 'window', 'type': 'mouseup'}]},\n",
       "        {'source': 'window',\n",
       "         'type': 'touchmove',\n",
       "         'consume': True,\n",
       "         'between': [{'source': 'scope',\n",
       "           'type': 'touchstart',\n",
       "           'markname': 'brush_brush'},\n",
       "          {'source': 'window', 'type': 'touchend'}]}],\n",
       "       'update': '{x: brush_translate_anchor.x - x(unit), y: brush_translate_anchor.y - y(unit)}'}]},\n",
       "    {'name': 'brush_zoom_anchor',\n",
       "     'on': [{'events': [{'source': 'scope',\n",
       "         'type': 'wheel',\n",
       "         'consume': True,\n",
       "         'markname': 'brush_brush'},\n",
       "        {'source': 'scope',\n",
       "         'type': 'touchstart',\n",
       "         'filter': 'event.touches.length===2',\n",
       "         'consume': True,\n",
       "         'markname': 'brush_brush'}],\n",
       "       'update': '{x: x(unit), y: y(unit)}'}]},\n",
       "    {'name': 'brush_zoom_delta',\n",
       "     'on': [{'events': [{'source': 'scope',\n",
       "         'type': 'wheel',\n",
       "         'consume': True,\n",
       "         'markname': 'brush_brush'}],\n",
       "       'force': True,\n",
       "       'update': 'pow(1.001, event.deltaY * pow(16, event.deltaMode))'}]},\n",
       "    {'name': 'brush_modify',\n",
       "     'on': [{'events': {'signal': 'brush_tuple'},\n",
       "       'update': 'modify(\"brush_store\", brush_tuple, true)'}]},\n",
       "    {'name': 'dist2',\n",
       "     'value': 0,\n",
       "     'on': [{'events': {'type': 'touchstart',\n",
       "        'filter': 'event.touches.length===2'},\n",
       "       'update': 'pinchDistance(event)'},\n",
       "      {'events': {'signal': 'dist1'}, 'update': 'dist1'}]},\n",
       "    {'name': 'dist1',\n",
       "     'value': 0,\n",
       "     'on': [{'events': {'type': 'touchmove',\n",
       "        'consume': True,\n",
       "        'filter': 'event.touches.length===2'},\n",
       "       'update': 'pinchDistance(event)'}]}],\n",
       "   'marks': [{'name': 'brush_brush_bg',\n",
       "     'type': 'rect',\n",
       "     'clip': True,\n",
       "     'encode': {'enter': {'fill': {'value': '#333'},\n",
       "       'fillOpacity': {'value': 0.125}},\n",
       "      'update': {'x': [{'test': 'data(\"brush_store\").length && data(\"brush_store\")[0].unit === \"matrix_layer\"',\n",
       "         'signal': 'brush_x[0]'},\n",
       "        {'value': 0}],\n",
       "       'y': [{'test': 'data(\"brush_store\").length && data(\"brush_store\")[0].unit === \"matrix_layer\"',\n",
       "         'signal': 'brush_y[0]'},\n",
       "        {'value': 0}],\n",
       "       'x2': [{'test': 'data(\"brush_store\").length && data(\"brush_store\")[0].unit === \"matrix_layer\"',\n",
       "         'signal': 'brush_x[1]'},\n",
       "        {'value': 0}],\n",
       "       'y2': [{'test': 'data(\"brush_store\").length && data(\"brush_store\")[0].unit === \"matrix_layer\"',\n",
       "         'signal': 'brush_y[1]'},\n",
       "        {'value': 0}]}}},\n",
       "    {'name': 'matrix_layer_marks',\n",
       "     'type': 'rect',\n",
       "     'style': ['rect'],\n",
       "     'from': {'data': 'matrix_data'},\n",
       "     'encode': {'update': {'x': {'scale': 'matrix_x', 'field': 'X'},\n",
       "       'width': {'scale': 'matrix_x', 'band': 1, 'offset': -0.25},\n",
       "       'y': {'scale': 'matrix_y', 'field': 'Y'},\n",
       "       'height': {'scale': 'matrix_y', 'band': 1, 'offset': -0.25},\n",
       "       'fill': {'scale': 'color', 'field': {'signal': 'variable'}},\n",
       "       'fillOpacity': [{'test': '!(length(data(\"brush_store\"))) || (vlInterval(\"brush_store\", datum))',\n",
       "         'value': 1},\n",
       "        {'value': 0.25}],\n",
       "       'stroke': {'value': 'white'},\n",
       "       'strokeWidth': {'value': 0.025}},\n",
       "      'hover': {'stroke': {'value': '#000'}, 'strokeWidth': {'value': 1.5}}}},\n",
       "    {'name': 'brush_brush',\n",
       "     'type': 'rect',\n",
       "     'clip': True,\n",
       "     'encode': {'enter': {'fill': {'value': 'transparent'},\n",
       "       'stroke': {'value': 'white'}},\n",
       "      'update': {'x': [{'test': 'data(\"brush_store\").length && data(\"brush_store\")[0].unit === \"matrix_layer\"',\n",
       "         'signal': 'brush_x[0]'},\n",
       "        {'value': 0}],\n",
       "       'y': [{'test': 'data(\"brush_store\").length && data(\"brush_store\")[0].unit === \"matrix_layer\"',\n",
       "         'signal': 'brush_y[0]'},\n",
       "        {'value': 0}],\n",
       "       'x2': [{'test': 'data(\"brush_store\").length && data(\"brush_store\")[0].unit === \"matrix_layer\"',\n",
       "         'signal': 'brush_x[1]'},\n",
       "        {'value': 0}],\n",
       "       'y2': [{'test': 'data(\"brush_store\").length && data(\"brush_store\")[0].unit === \"matrix_layer\"',\n",
       "         'signal': 'brush_y[1]'},\n",
       "        {'value': 0}]}}}],\n",
       "   'axes': [{'scale': 'matrix_x',\n",
       "     'orient': 'bottom',\n",
       "     'labels': False,\n",
       "     'tickCount': 5,\n",
       "     'offset': 0,\n",
       "     'zindex': 1,\n",
       "     'encode': {'domain': {'update': {'strokeWidth': {'value': 0}}},\n",
       "      'ticks': {'update': {'strokeWidth': {'value': 0}}}}},\n",
       "    {'scale': 'matrix_y',\n",
       "     'offset': 0,\n",
       "     'orient': 'left',\n",
       "     'zindex': 1,\n",
       "     'labels': False,\n",
       "     'encode': {'domain': {'update': {'strokeWidth': {'value': 0}}},\n",
       "      'ticks': {'update': {'strokeWidth': {'value': 0}}}}}]},\n",
       "  {'type': 'group',\n",
       "   'name': 'map_group',\n",
       "   'style': 'cell',\n",
       "   'title': {'text': 'map element', 'anchor': 'start', 'orient': 'top'},\n",
       "   'encode': {'update': {'width': {'signal': 'map_width'},\n",
       "     'height': {'signal': 'map_height'},\n",
       "     'clip': {'value': True},\n",
       "     'fill': {'value': '#3D3D3D'}}},\n",
       "   'marks': [{'type': 'shape',\n",
       "     'from': {'data': 'map_outline'},\n",
       "     'encode': {'enter': {'stroke': {'value': '#3D3D3D'},\n",
       "       'strokeWidth': {'value': 1},\n",
       "       'fill': {'value': '#030303'}}},\n",
       "     'transform': [{'type': 'geoshape', 'projection': 'projection'}]},\n",
       "    {'type': 'shape',\n",
       "     'from': {'data': 'map_rivers'},\n",
       "     'encode': {'enter': {'stroke': {'value': '#00A4E2'},\n",
       "       'strokeWidth': {'value': 1}}},\n",
       "     'transform': [{'type': 'geoshape', 'projection': 'projection'}]},\n",
       "    {'name': 'circles',\n",
       "     'type': 'symbol',\n",
       "     'from': {'data': 'data_0'},\n",
       "     'encode': {'update': {'fill': {'scale': 'color',\n",
       "        'field': {'signal': 'variable'}},\n",
       "       'size': {'scale': 'size', 'field': {'signal': 'variable'}},\n",
       "       'stroke': {'value': 'white'},\n",
       "       'strokeWidth': {'value': 0.2},\n",
       "       'x': {'field': 'centroid[0]'},\n",
       "       'y': {'field': 'centroid[1]'},\n",
       "       'zindex': {'value': 2}},\n",
       "      'hover': {'strokeWidth': {'value': 1.5},\n",
       "       'stroke': {'value': 'black'},\n",
       "       'zindex': {'value': 3}}}}]}],\n",
       " 'scales': [{'name': 'size',\n",
       "   'domain': {'fields': [{'data': 'matrix_data',\n",
       "      'field': {'signal': 'variable'}}],\n",
       "    'sort': True},\n",
       "   'range': [30, 160]},\n",
       "  {'name': 'color',\n",
       "   'type': 'sequential',\n",
       "   'domain': {'fields': [{'data': 'matrix_data',\n",
       "      'field': {'signal': 'variable'}}],\n",
       "    'sort': True},\n",
       "   'range': ['#3D3D3D',\n",
       "    '#F0F8FF',\n",
       "    'cornflowerblue',\n",
       "    'mediumseagreen',\n",
       "    '#FFEE00',\n",
       "    'darkorange',\n",
       "    'firebrick'],\n",
       "   'nice': False,\n",
       "   'zero': False},\n",
       "  {'name': 'matrix_x',\n",
       "   'type': 'band',\n",
       "   'domain': {'data': 'matrix_data_static', 'field': 'X', 'sort': True},\n",
       "   'range': {'step': {'signal': 'matrix_x_step'}},\n",
       "   'paddingInner': 0,\n",
       "   'paddingOuter': 0},\n",
       "  {'name': 'matrix_y',\n",
       "   'type': 'band',\n",
       "   'domain': {'data': 'matrix_data_static', 'field': 'Y', 'sort': True},\n",
       "   'range': {'step': {'signal': 'matrix_y_step'}},\n",
       "   'paddingInner': 0,\n",
       "   'paddingOuter': 0}],\n",
       " 'legends': [{'fill': 'color',\n",
       "   'orient': 'none',\n",
       "   'encode': {'legend': {'enter': {'x': {'value': 404}, 'y': {'value': 345}}},\n",
       "    'title': {'update': {'fontSize': {'value': 20}, 'limit': {'value': 400}}}},\n",
       "   'title': {'signal': 'variable'},\n",
       "   'type': 'gradient',\n",
       "   'direction': 'horizontal',\n",
       "   'gradientLength': 400,\n",
       "   'labelOffset': 10,\n",
       "   'labelFontSize': 20}],\n",
       " 'config': {'axisY': {'minExtent': 0},\n",
       "  'style': {'text': {'baseline': 'middle'}},\n",
       "  'legend': {'offset': 30, 'orient': 'bottom'},\n",
       "  'title': {'offset': 10, 'fontSize': 18}}}"
      ]
     },
     "execution_count": 9,
     "metadata": {},
     "output_type": "execute_result"
    }
   ],
   "source": [
    "dp.getEntryDatabase(database = 'vega', \n",
    "                    key = 'vega4_som_EU_river_extremes_landscape_800px')"
   ]
  },
  {
   "cell_type": "code",
   "execution_count": null,
   "metadata": {},
   "outputs": [],
   "source": []
  }
 ],
 "metadata": {
  "kernelspec": {
   "display_name": "Python 3",
   "language": "python",
   "name": "python3"
  },
  "language_info": {
   "codemirror_mode": {
    "name": "ipython",
    "version": 3
   },
   "file_extension": ".py",
   "mimetype": "text/x-python",
   "name": "python",
   "nbconvert_exporter": "python",
   "pygments_lexer": "ipython3",
   "version": "3.6.5"
  }
 },
 "nbformat": 4,
 "nbformat_minor": 2
}
