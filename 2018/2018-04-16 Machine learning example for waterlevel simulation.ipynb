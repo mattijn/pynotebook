{
 "cells": [
  {
   "cell_type": "code",
   "execution_count": 2,
   "metadata": {},
   "outputs": [
    {
     "name": "stderr",
     "output_type": "stream",
     "text": [
      "c:\\python35\\lib\\site-packages\\h5py\\__init__.py:36: FutureWarning: Conversion of the second argument of issubdtype from `float` to `np.floating` is deprecated. In future, it will be treated as `np.float64 == np.dtype(float).type`.\n",
      "  from ._conv import register_converters as _register_converters\n"
     ]
    }
   ],
   "source": [
    "import pandas as pd\n",
    "import numpy as np\n",
    "import tensorflow as tf\n",
    "import matplotlib.pyplot as plt\n",
    "%matplotlib inline"
   ]
  },
  {
   "cell_type": "code",
   "execution_count": 4,
   "metadata": {},
   "outputs": [],
   "source": [
    "# Import data\n",
    "data = pd.read_csv(r'D:\\Projects\\RO\\0815.10 Data Challenge 2018\\sp500\\data_stocks.csv')\n",
    "# Drop date variable\n",
    "data = data.drop(['DATE'], 1)\n",
    "# Dimensions of dataset\n",
    "n = data.shape[0]\n",
    "p = data.shape[1]"
   ]
  },
  {
   "cell_type": "code",
   "execution_count": 5,
   "metadata": {},
   "outputs": [
    {
     "data": {
      "text/html": [
       "<div>\n",
       "<style scoped>\n",
       "    .dataframe tbody tr th:only-of-type {\n",
       "        vertical-align: middle;\n",
       "    }\n",
       "\n",
       "    .dataframe tbody tr th {\n",
       "        vertical-align: top;\n",
       "    }\n",
       "\n",
       "    .dataframe thead th {\n",
       "        text-align: right;\n",
       "    }\n",
       "</style>\n",
       "<table border=\"1\" class=\"dataframe\">\n",
       "  <thead>\n",
       "    <tr style=\"text-align: right;\">\n",
       "      <th></th>\n",
       "      <th>SP500</th>\n",
       "      <th>NASDAQ.AAL</th>\n",
       "      <th>NASDAQ.AAPL</th>\n",
       "      <th>NASDAQ.ADBE</th>\n",
       "      <th>NASDAQ.ADI</th>\n",
       "      <th>NASDAQ.ADP</th>\n",
       "      <th>NASDAQ.ADSK</th>\n",
       "      <th>NASDAQ.AKAM</th>\n",
       "      <th>NASDAQ.ALXN</th>\n",
       "      <th>NASDAQ.AMAT</th>\n",
       "      <th>...</th>\n",
       "      <th>NYSE.WYN</th>\n",
       "      <th>NYSE.XEC</th>\n",
       "      <th>NYSE.XEL</th>\n",
       "      <th>NYSE.XL</th>\n",
       "      <th>NYSE.XOM</th>\n",
       "      <th>NYSE.XRX</th>\n",
       "      <th>NYSE.XYL</th>\n",
       "      <th>NYSE.YUM</th>\n",
       "      <th>NYSE.ZBH</th>\n",
       "      <th>NYSE.ZTS</th>\n",
       "    </tr>\n",
       "  </thead>\n",
       "  <tbody>\n",
       "    <tr>\n",
       "      <th>0</th>\n",
       "      <td>2363.6101</td>\n",
       "      <td>42.3300</td>\n",
       "      <td>143.6800</td>\n",
       "      <td>129.6300</td>\n",
       "      <td>82.040</td>\n",
       "      <td>102.2300</td>\n",
       "      <td>85.2200</td>\n",
       "      <td>59.760</td>\n",
       "      <td>121.52</td>\n",
       "      <td>38.99</td>\n",
       "      <td>...</td>\n",
       "      <td>84.370</td>\n",
       "      <td>119.035</td>\n",
       "      <td>44.40</td>\n",
       "      <td>39.88</td>\n",
       "      <td>82.03</td>\n",
       "      <td>7.36</td>\n",
       "      <td>50.22</td>\n",
       "      <td>63.86</td>\n",
       "      <td>122.000</td>\n",
       "      <td>53.350</td>\n",
       "    </tr>\n",
       "    <tr>\n",
       "      <th>1</th>\n",
       "      <td>2364.1001</td>\n",
       "      <td>42.3600</td>\n",
       "      <td>143.7000</td>\n",
       "      <td>130.3200</td>\n",
       "      <td>82.080</td>\n",
       "      <td>102.1400</td>\n",
       "      <td>85.6500</td>\n",
       "      <td>59.840</td>\n",
       "      <td>121.48</td>\n",
       "      <td>39.01</td>\n",
       "      <td>...</td>\n",
       "      <td>84.370</td>\n",
       "      <td>119.035</td>\n",
       "      <td>44.11</td>\n",
       "      <td>39.88</td>\n",
       "      <td>82.03</td>\n",
       "      <td>7.38</td>\n",
       "      <td>50.22</td>\n",
       "      <td>63.74</td>\n",
       "      <td>121.770</td>\n",
       "      <td>53.350</td>\n",
       "    </tr>\n",
       "    <tr>\n",
       "      <th>2</th>\n",
       "      <td>2362.6799</td>\n",
       "      <td>42.3100</td>\n",
       "      <td>143.6901</td>\n",
       "      <td>130.2250</td>\n",
       "      <td>82.030</td>\n",
       "      <td>102.2125</td>\n",
       "      <td>85.5100</td>\n",
       "      <td>59.795</td>\n",
       "      <td>121.93</td>\n",
       "      <td>38.91</td>\n",
       "      <td>...</td>\n",
       "      <td>84.585</td>\n",
       "      <td>119.260</td>\n",
       "      <td>44.09</td>\n",
       "      <td>39.98</td>\n",
       "      <td>82.02</td>\n",
       "      <td>7.36</td>\n",
       "      <td>50.12</td>\n",
       "      <td>63.75</td>\n",
       "      <td>121.700</td>\n",
       "      <td>53.365</td>\n",
       "    </tr>\n",
       "    <tr>\n",
       "      <th>3</th>\n",
       "      <td>2364.3101</td>\n",
       "      <td>42.3700</td>\n",
       "      <td>143.6400</td>\n",
       "      <td>130.0729</td>\n",
       "      <td>82.000</td>\n",
       "      <td>102.1400</td>\n",
       "      <td>85.4872</td>\n",
       "      <td>59.620</td>\n",
       "      <td>121.44</td>\n",
       "      <td>38.84</td>\n",
       "      <td>...</td>\n",
       "      <td>84.460</td>\n",
       "      <td>119.260</td>\n",
       "      <td>44.25</td>\n",
       "      <td>39.99</td>\n",
       "      <td>82.02</td>\n",
       "      <td>7.35</td>\n",
       "      <td>50.16</td>\n",
       "      <td>63.88</td>\n",
       "      <td>121.700</td>\n",
       "      <td>53.380</td>\n",
       "    </tr>\n",
       "    <tr>\n",
       "      <th>4</th>\n",
       "      <td>2364.8501</td>\n",
       "      <td>42.5378</td>\n",
       "      <td>143.6600</td>\n",
       "      <td>129.8800</td>\n",
       "      <td>82.035</td>\n",
       "      <td>102.0600</td>\n",
       "      <td>85.7001</td>\n",
       "      <td>59.620</td>\n",
       "      <td>121.60</td>\n",
       "      <td>38.93</td>\n",
       "      <td>...</td>\n",
       "      <td>84.470</td>\n",
       "      <td>119.610</td>\n",
       "      <td>44.11</td>\n",
       "      <td>39.96</td>\n",
       "      <td>82.03</td>\n",
       "      <td>7.36</td>\n",
       "      <td>50.20</td>\n",
       "      <td>63.91</td>\n",
       "      <td>121.695</td>\n",
       "      <td>53.240</td>\n",
       "    </tr>\n",
       "  </tbody>\n",
       "</table>\n",
       "<p>5 rows × 501 columns</p>\n",
       "</div>"
      ],
      "text/plain": [
       "       SP500  NASDAQ.AAL  NASDAQ.AAPL  NASDAQ.ADBE  NASDAQ.ADI  NASDAQ.ADP  \\\n",
       "0  2363.6101     42.3300     143.6800     129.6300      82.040    102.2300   \n",
       "1  2364.1001     42.3600     143.7000     130.3200      82.080    102.1400   \n",
       "2  2362.6799     42.3100     143.6901     130.2250      82.030    102.2125   \n",
       "3  2364.3101     42.3700     143.6400     130.0729      82.000    102.1400   \n",
       "4  2364.8501     42.5378     143.6600     129.8800      82.035    102.0600   \n",
       "\n",
       "   NASDAQ.ADSK  NASDAQ.AKAM  NASDAQ.ALXN  NASDAQ.AMAT    ...     NYSE.WYN  \\\n",
       "0      85.2200       59.760       121.52        38.99    ...       84.370   \n",
       "1      85.6500       59.840       121.48        39.01    ...       84.370   \n",
       "2      85.5100       59.795       121.93        38.91    ...       84.585   \n",
       "3      85.4872       59.620       121.44        38.84    ...       84.460   \n",
       "4      85.7001       59.620       121.60        38.93    ...       84.470   \n",
       "\n",
       "   NYSE.XEC  NYSE.XEL  NYSE.XL  NYSE.XOM  NYSE.XRX  NYSE.XYL  NYSE.YUM  \\\n",
       "0   119.035     44.40    39.88     82.03      7.36     50.22     63.86   \n",
       "1   119.035     44.11    39.88     82.03      7.38     50.22     63.74   \n",
       "2   119.260     44.09    39.98     82.02      7.36     50.12     63.75   \n",
       "3   119.260     44.25    39.99     82.02      7.35     50.16     63.88   \n",
       "4   119.610     44.11    39.96     82.03      7.36     50.20     63.91   \n",
       "\n",
       "   NYSE.ZBH  NYSE.ZTS  \n",
       "0   122.000    53.350  \n",
       "1   121.770    53.350  \n",
       "2   121.700    53.365  \n",
       "3   121.700    53.380  \n",
       "4   121.695    53.240  \n",
       "\n",
       "[5 rows x 501 columns]"
      ]
     },
     "execution_count": 5,
     "metadata": {},
     "output_type": "execute_result"
    }
   ],
   "source": [
    "data.head()"
   ]
  },
  {
   "cell_type": "code",
   "execution_count": 6,
   "metadata": {},
   "outputs": [
    {
     "data": {
      "text/plain": [
       "Index(['SP500', 'NASDAQ.AAL', 'NASDAQ.AAPL', 'NASDAQ.ADBE', 'NASDAQ.ADI',\n",
       "       'NASDAQ.ADP', 'NASDAQ.ADSK', 'NASDAQ.AKAM', 'NASDAQ.ALXN',\n",
       "       'NASDAQ.AMAT',\n",
       "       ...\n",
       "       'NYSE.WYN', 'NYSE.XEC', 'NYSE.XEL', 'NYSE.XL', 'NYSE.XOM', 'NYSE.XRX',\n",
       "       'NYSE.XYL', 'NYSE.YUM', 'NYSE.ZBH', 'NYSE.ZTS'],\n",
       "      dtype='object', length=501)"
      ]
     },
     "execution_count": 6,
     "metadata": {},
     "output_type": "execute_result"
    }
   ],
   "source": [
    "data.columns"
   ]
  },
  {
   "cell_type": "code",
   "execution_count": 7,
   "metadata": {},
   "outputs": [
    {
     "data": {
      "text/plain": [
       "<matplotlib.axes._subplots.AxesSubplot at 0x1ab5ec50>"
      ]
     },
     "execution_count": 7,
     "metadata": {},
     "output_type": "execute_result"
    },
    {
     "data": {
      "image/png": "[encoded data removed]",
      "text/plain": [
       "<matplotlib.figure.Figure at 0x1ab3b358>"
      ]
     },
     "metadata": {},
     "output_type": "display_data"
    }
   ],
   "source": [
    "data['SP500'].plot()"
   ]
  },
  {
   "cell_type": "code",
   "execution_count": 9,
   "metadata": {},
   "outputs": [],
   "source": [
    "# Make data a numpy array\n",
    "data = data.values\n",
    "\n",
    "# Training and test data\n",
    "train_start = 0\n",
    "train_end = int(np.floor(0.8*n))\n",
    "test_start = train_end\n",
    "test_end = n\n",
    "data_train = data[np.arange(train_start, train_end), :]\n",
    "data_test = data[np.arange(test_start, test_end), :]"
   ]
  },
  {
   "cell_type": "code",
   "execution_count": 10,
   "metadata": {},
   "outputs": [],
   "source": [
    "# Scale data\n",
    "from sklearn.preprocessing import MinMaxScaler\n",
    "scaler = MinMaxScaler()\n",
    "scaler.fit(data_train)\n",
    "data_train = scaler.transform(data_train)\n",
    "data_test = scaler.transform(data_test)\n",
    "\n",
    "# Build X and y\n",
    "X_train = data_train[:, 1:]\n",
    "y_train = data_train[:, 0]\n",
    "X_test = data_test[:, 1:]\n",
    "y_test = data_test[:, 0]"
   ]
  },
  {
   "cell_type": "code",
   "execution_count": 11,
   "metadata": {},
   "outputs": [],
   "source": [
    "# Number of stocks in training data\n",
    "n_stocks = X_train.shape[1]"
   ]
  },
  {
   "cell_type": "code",
   "execution_count": 12,
   "metadata": {},
   "outputs": [],
   "source": [
    "# Neurons\n",
    "n_neurons_1 = 1024\n",
    "n_neurons_2 = 512\n",
    "n_neurons_3 = 256\n",
    "n_neurons_4 = 128"
   ]
  },
  {
   "cell_type": "code",
   "execution_count": 13,
   "metadata": {},
   "outputs": [],
   "source": [
    "# Session\n",
    "net = tf.InteractiveSession()"
   ]
  },
  {
   "cell_type": "code",
   "execution_count": 14,
   "metadata": {},
   "outputs": [],
   "source": [
    "# Placeholder\n",
    "X = tf.placeholder(dtype=tf.float32, shape=[None, n_stocks])\n",
    "Y = tf.placeholder(dtype=tf.float32, shape=[None])"
   ]
  },
  {
   "cell_type": "code",
   "execution_count": 15,
   "metadata": {},
   "outputs": [],
   "source": [
    "# Initializers\n",
    "sigma = 1\n",
    "weight_initializer = tf.variance_scaling_initializer(mode=\"fan_avg\", distribution=\"uniform\", scale=sigma)\n",
    "bias_initializer = tf.zeros_initializer()"
   ]
  },
  {
   "cell_type": "code",
   "execution_count": 16,
   "metadata": {},
   "outputs": [],
   "source": [
    "# Hidden weights\n",
    "W_hidden_1 = tf.Variable(weight_initializer([n_stocks, n_neurons_1]))\n",
    "bias_hidden_1 = tf.Variable(bias_initializer([n_neurons_1]))\n",
    "W_hidden_2 = tf.Variable(weight_initializer([n_neurons_1, n_neurons_2]))\n",
    "bias_hidden_2 = tf.Variable(bias_initializer([n_neurons_2]))\n",
    "W_hidden_3 = tf.Variable(weight_initializer([n_neurons_2, n_neurons_3]))\n",
    "bias_hidden_3 = tf.Variable(bias_initializer([n_neurons_3]))\n",
    "W_hidden_4 = tf.Variable(weight_initializer([n_neurons_3, n_neurons_4]))\n",
    "bias_hidden_4 = tf.Variable(bias_initializer([n_neurons_4]))"
   ]
  },
  {
   "cell_type": "code",
   "execution_count": 19,
   "metadata": {},
   "outputs": [],
   "source": [
    "# Output weights\n",
    "W_out = tf.Variable(weight_initializer([n_neurons_4, 1]))\n",
    "bias_out = tf.Variable(bias_initializer([1]))"
   ]
  },
  {
   "cell_type": "code",
   "execution_count": 20,
   "metadata": {},
   "outputs": [],
   "source": [
    "# Hidden layer\n",
    "hidden_1 = tf.nn.relu(tf.add(tf.matmul(X, W_hidden_1), bias_hidden_1))\n",
    "hidden_2 = tf.nn.relu(tf.add(tf.matmul(hidden_1, W_hidden_2), bias_hidden_2))\n",
    "hidden_3 = tf.nn.relu(tf.add(tf.matmul(hidden_2, W_hidden_3), bias_hidden_3))\n",
    "hidden_4 = tf.nn.relu(tf.add(tf.matmul(hidden_3, W_hidden_4), bias_hidden_4))"
   ]
  },
  {
   "cell_type": "code",
   "execution_count": 21,
   "metadata": {},
   "outputs": [],
   "source": [
    "# Output layer (transpose!)\n",
    "out = tf.transpose(tf.add(tf.matmul(hidden_4, W_out), bias_out))"
   ]
  },
  {
   "cell_type": "code",
   "execution_count": 22,
   "metadata": {},
   "outputs": [],
   "source": [
    "# Cost function\n",
    "mse = tf.reduce_mean(tf.squared_difference(out, Y))"
   ]
  },
  {
   "cell_type": "code",
   "execution_count": 24,
   "metadata": {},
   "outputs": [],
   "source": [
    "# Optimizer\n",
    "opt = tf.train.AdamOptimizer().minimize(mse)"
   ]
  },
  {
   "cell_type": "code",
   "execution_count": 25,
   "metadata": {},
   "outputs": [],
   "source": [
    "# Init\n",
    "net.run(tf.global_variables_initializer())"
   ]
  },
  {
   "cell_type": "code",
   "execution_count": 29,
   "metadata": {},
   "outputs": [],
   "source": [
    "# Fit neural net\n",
    "batch_size = 256\n",
    "mse_train = []\n",
    "mse_test = []"
   ]
  },
  {
   "cell_type": "code",
   "execution_count": 30,
   "metadata": {},
   "outputs": [
    {
     "name": "stdout",
     "output_type": "stream",
     "text": [
      "Using matplotlib backend: TkAgg\n",
      "MSE Train:  0.00030207672\n",
      "MSE Test:  0.017844837\n",
      "MSE Train:  0.0014450588\n",
      "MSE Test:  0.010149371\n",
      "MSE Train:  0.0002901688\n",
      "MSE Test:  0.014615039\n",
      "MSE Train:  0.00017403993\n",
      "MSE Test:  0.016469928\n",
      "MSE Train:  0.0007545753\n",
      "MSE Test:  0.018762754\n",
      "MSE Train:  0.00017778411\n",
      "MSE Test:  0.016438937\n",
      "MSE Train:  0.00022572363\n",
      "MSE Test:  0.015759915\n",
      "MSE Train:  0.00010952907\n",
      "MSE Test:  0.013967356\n",
      "MSE Train:  0.0003174681\n",
      "MSE Test:  0.015718456\n",
      "MSE Train:  0.0002838199\n",
      "MSE Test:  0.0144861825\n",
      "MSE Train:  0.00027872622\n",
      "MSE Test:  0.012708805\n",
      "MSE Train:  0.00033532546\n",
      "MSE Test:  0.013277259\n",
      "MSE Train:  0.00018772991\n",
      "MSE Test:  0.011301486\n",
      "MSE Train:  0.00029788353\n",
      "MSE Test:  0.008252029\n",
      "MSE Train:  0.00012649811\n",
      "MSE Test:  0.011259827\n",
      "MSE Train:  7.277567e-05\n",
      "MSE Test:  0.009369715\n",
      "MSE Train:  0.00034130394\n",
      "MSE Test:  0.013937662\n",
      "MSE Train:  5.7802758e-05\n",
      "MSE Test:  0.010267859\n",
      "MSE Train:  0.00033980247\n",
      "MSE Test:  0.012248905\n",
      "MSE Train:  0.00025475214\n",
      "MSE Test:  0.0074338163\n",
      "MSE Train:  5.3135846e-05\n",
      "MSE Test:  0.008797857\n",
      "MSE Train:  0.0011737128\n",
      "MSE Test:  0.015186784\n",
      "MSE Train:  5.544523e-05\n",
      "MSE Test:  0.008503799\n",
      "MSE Train:  0.00025145328\n",
      "MSE Test:  0.01038839\n",
      "MSE Train:  8.566323e-05\n",
      "MSE Test:  0.0068936525\n",
      "MSE Train:  0.00056583044\n",
      "MSE Test:  0.004783229\n",
      "MSE Train:  4.4160173e-05\n",
      "MSE Test:  0.007895805\n",
      "MSE Train:  8.160473e-05\n",
      "MSE Test:  0.0065188017\n",
      "MSE Train:  0.00022349216\n",
      "MSE Test:  0.008066895\n",
      "MSE Train:  6.3722946e-05\n",
      "MSE Test:  0.007797636\n"
     ]
    }
   ],
   "source": [
    "%matplotlib\n",
    "\n",
    "# Setup plot\n",
    "plt.ion()\n",
    "fig = plt.figure()\n",
    "ax1 = fig.add_subplot(111)\n",
    "line1, = ax1.plot(y_test)\n",
    "line2, = ax1.plot(y_test * 0.5)\n",
    "# Run\n",
    "epochs = 10\n",
    "for e in range(epochs):\n",
    "\n",
    "    # Shuffle training data\n",
    "    shuffle_indices = np.random.permutation(np.arange(len(y_train)))\n",
    "    X_train = X_train[shuffle_indices]\n",
    "    y_train = y_train[shuffle_indices]\n",
    "\n",
    "    # Minibatch training\n",
    "    for i in range(0, len(y_train) // batch_size):\n",
    "        start = i * batch_size\n",
    "        batch_x = X_train[start:start + batch_size]\n",
    "        batch_y = y_train[start:start + batch_size]\n",
    "        # Run optimizer with batch\n",
    "        net.run(opt, feed_dict={X: batch_x, Y: batch_y})\n",
    "\n",
    "        # Show progress\n",
    "        if np.mod(i, 50) == 0:\n",
    "            # MSE train and test\n",
    "            mse_train.append(net.run(mse, feed_dict={X: X_train, Y: y_train}))\n",
    "            mse_test.append(net.run(mse, feed_dict={X: X_test, Y: y_test}))\n",
    "            print('MSE Train: ', mse_train[-1])\n",
    "            print('MSE Test: ', mse_test[-1])\n",
    "            # Prediction\n",
    "            pred = net.run(out, feed_dict={X: X_test})\n",
    "            line2.set_ydata(pred)\n",
    "            plt.title('Epoch ' + str(e) + ', Batch ' + str(i))\n",
    "            plt.pause(0.01)\n",
    "            \n",
    "            fig.canvas.draw()"
   ]
  },
  {
   "cell_type": "code",
   "execution_count": null,
   "metadata": {},
   "outputs": [],
   "source": []
  },
  {
   "cell_type": "code",
   "execution_count": null,
   "metadata": {},
   "outputs": [],
   "source": []
  },
  {
   "cell_type": "code",
   "execution_count": null,
   "metadata": {},
   "outputs": [],
   "source": [
    "# Initializers\n",
    "sigma = 1\n",
    "weight_initializer = tf.variance_scaling_initializer(mode=\"fan_avg\", distribution=\"uniform\", scale=sigma)\n",
    "bias_initializer = tf.zeros_initializer()"
   ]
  },
  {
   "cell_type": "code",
   "execution_count": 30,
   "metadata": {},
   "outputs": [],
   "source": [
    "# Model architecture parameters\n",
    "n_stocks = 500"
   ]
  },
  {
   "cell_type": "code",
   "execution_count": 31,
   "metadata": {},
   "outputs": [],
   "source": [
    "# Placeholder\n",
    "X = tf.placeholder(dtype=tf.float32, shape=[None, n_stocks])\n",
    "Y = tf.placeholder(dtype=tf.float32, shape=[None])"
   ]
  },
  {
   "cell_type": "code",
   "execution_count": 29,
   "metadata": {},
   "outputs": [
    {
     "ename": "NameError",
     "evalue": "name 'weight_initializer' is not defined",
     "output_type": "error",
     "traceback": [
      "\u001b[1;31m---------------------------------------------------------------------------\u001b[0m",
      "\u001b[1;31mNameError\u001b[0m                                 Traceback (most recent call last)",
      "\u001b[1;32m<ipython-input-29-3fe906f3d53a>\u001b[0m in \u001b[0;36m<module>\u001b[1;34m()\u001b[0m\n\u001b[0;32m     12\u001b[0m \u001b[1;33m\u001b[0m\u001b[0m\n\u001b[0;32m     13\u001b[0m \u001b[1;31m# Layer 1: Variables for hidden weights and biases\u001b[0m\u001b[1;33m\u001b[0m\u001b[1;33m\u001b[0m\u001b[0m\n\u001b[1;32m---> 14\u001b[1;33m \u001b[0mW_hidden_1\u001b[0m \u001b[1;33m=\u001b[0m \u001b[0mtf\u001b[0m\u001b[1;33m.\u001b[0m\u001b[0mVariable\u001b[0m\u001b[1;33m(\u001b[0m\u001b[0mweight_initializer\u001b[0m\u001b[1;33m(\u001b[0m\u001b[1;33m[\u001b[0m\u001b[0mn_stocks\u001b[0m\u001b[1;33m,\u001b[0m \u001b[0mn_neurons_1\u001b[0m\u001b[1;33m]\u001b[0m\u001b[1;33m)\u001b[0m\u001b[1;33m)\u001b[0m\u001b[1;33m\u001b[0m\u001b[0m\n\u001b[0m\u001b[0;32m     15\u001b[0m \u001b[0mbias_hidden_1\u001b[0m \u001b[1;33m=\u001b[0m \u001b[0mtf\u001b[0m\u001b[1;33m.\u001b[0m\u001b[0mVariable\u001b[0m\u001b[1;33m(\u001b[0m\u001b[0mbias_initializer\u001b[0m\u001b[1;33m(\u001b[0m\u001b[1;33m[\u001b[0m\u001b[0mn_neurons_1\u001b[0m\u001b[1;33m]\u001b[0m\u001b[1;33m)\u001b[0m\u001b[1;33m)\u001b[0m\u001b[1;33m\u001b[0m\u001b[0m\n\u001b[0;32m     16\u001b[0m \u001b[1;31m# Layer 2: Variables for hidden weights and biases\u001b[0m\u001b[1;33m\u001b[0m\u001b[1;33m\u001b[0m\u001b[0m\n",
      "\u001b[1;31mNameError\u001b[0m: name 'weight_initializer' is not defined"
     ]
    }
   ],
   "source": [
    "# Model architecture parameters\n",
    "n_neurons_1 = 1024\n",
    "n_neurons_2 = 512\n",
    "n_neurons_3 = 256\n",
    "n_neurons_4 = 128\n",
    "n_target = 1\n",
    "\n",
    "\n",
    "# Layer 1: Variables for hidden weights and biases\n",
    "W_hidden_1 = tf.Variable(weight_initializer([n_stocks, n_neurons_1]))\n",
    "bias_hidden_1 = tf.Variable(bias_initializer([n_neurons_1]))\n",
    "# Layer 2: Variables for hidden weights and biases\n",
    "W_hidden_2 = tf.Variable(weight_initializer([n_neurons_1, n_neurons_2]))\n",
    "bias_hidden_2 = tf.Variable(bias_initializer([n_neurons_2]))\n",
    "# Layer 3: Variables for hidden weights and biases\n",
    "W_hidden_3 = tf.Variable(weight_initializer([n_neurons_2, n_neurons_3]))\n",
    "bias_hidden_3 = tf.Variable(bias_initializer([n_neurons_3]))\n",
    "# Layer 4: Variables for hidden weights and biases\n",
    "W_hidden_4 = tf.Variable(weight_initializer([n_neurons_3, n_neurons_4]))\n",
    "bias_hidden_4 = tf.Variable(bias_initializer([n_neurons_4]))\n",
    "\n",
    "# Output layer: Variables for output weights and biases\n",
    "W_out = tf.Variable(weight_initializer([n_neurons_4, n_target]))\n",
    "bias_out = tf.Variable(bias_initializer([n_target]))"
   ]
  },
  {
   "cell_type": "code",
   "execution_count": 33,
   "metadata": {},
   "outputs": [
    {
     "ename": "NameError",
     "evalue": "name 'W_hidden_1' is not defined",
     "output_type": "error",
     "traceback": [
      "\u001b[1;31m---------------------------------------------------------------------------\u001b[0m",
      "\u001b[1;31mNameError\u001b[0m                                 Traceback (most recent call last)",
      "\u001b[1;32m<ipython-input-33-2d5da4d4c3b0>\u001b[0m in \u001b[0;36m<module>\u001b[1;34m()\u001b[0m\n\u001b[0;32m      1\u001b[0m \u001b[1;31m# Hidden layer\u001b[0m\u001b[1;33m\u001b[0m\u001b[1;33m\u001b[0m\u001b[0m\n\u001b[1;32m----> 2\u001b[1;33m \u001b[0mhidden_1\u001b[0m \u001b[1;33m=\u001b[0m \u001b[0mtf\u001b[0m\u001b[1;33m.\u001b[0m\u001b[0mnn\u001b[0m\u001b[1;33m.\u001b[0m\u001b[0mrelu\u001b[0m\u001b[1;33m(\u001b[0m\u001b[0mtf\u001b[0m\u001b[1;33m.\u001b[0m\u001b[0madd\u001b[0m\u001b[1;33m(\u001b[0m\u001b[0mtf\u001b[0m\u001b[1;33m.\u001b[0m\u001b[0mmatmul\u001b[0m\u001b[1;33m(\u001b[0m\u001b[0mX\u001b[0m\u001b[1;33m,\u001b[0m \u001b[0mW_hidden_1\u001b[0m\u001b[1;33m)\u001b[0m\u001b[1;33m,\u001b[0m \u001b[0mbias_hidden_1\u001b[0m\u001b[1;33m)\u001b[0m\u001b[1;33m)\u001b[0m\u001b[1;33m\u001b[0m\u001b[0m\n\u001b[0m\u001b[0;32m      3\u001b[0m \u001b[0mhidden_2\u001b[0m \u001b[1;33m=\u001b[0m \u001b[0mtf\u001b[0m\u001b[1;33m.\u001b[0m\u001b[0mnn\u001b[0m\u001b[1;33m.\u001b[0m\u001b[0mrelu\u001b[0m\u001b[1;33m(\u001b[0m\u001b[0mtf\u001b[0m\u001b[1;33m.\u001b[0m\u001b[0madd\u001b[0m\u001b[1;33m(\u001b[0m\u001b[0mtf\u001b[0m\u001b[1;33m.\u001b[0m\u001b[0mmatmul\u001b[0m\u001b[1;33m(\u001b[0m\u001b[0mhidden_1\u001b[0m\u001b[1;33m,\u001b[0m \u001b[0mW_hidden_2\u001b[0m\u001b[1;33m)\u001b[0m\u001b[1;33m,\u001b[0m \u001b[0mbias_hidden_2\u001b[0m\u001b[1;33m)\u001b[0m\u001b[1;33m)\u001b[0m\u001b[1;33m\u001b[0m\u001b[0m\n\u001b[0;32m      4\u001b[0m \u001b[0mhidden_3\u001b[0m \u001b[1;33m=\u001b[0m \u001b[0mtf\u001b[0m\u001b[1;33m.\u001b[0m\u001b[0mnn\u001b[0m\u001b[1;33m.\u001b[0m\u001b[0mrelu\u001b[0m\u001b[1;33m(\u001b[0m\u001b[0mtf\u001b[0m\u001b[1;33m.\u001b[0m\u001b[0madd\u001b[0m\u001b[1;33m(\u001b[0m\u001b[0mtf\u001b[0m\u001b[1;33m.\u001b[0m\u001b[0mmatmul\u001b[0m\u001b[1;33m(\u001b[0m\u001b[0mhidden_2\u001b[0m\u001b[1;33m,\u001b[0m \u001b[0mW_hidden_3\u001b[0m\u001b[1;33m)\u001b[0m\u001b[1;33m,\u001b[0m \u001b[0mbias_hidden_3\u001b[0m\u001b[1;33m)\u001b[0m\u001b[1;33m)\u001b[0m\u001b[1;33m\u001b[0m\u001b[0m\n\u001b[0;32m      5\u001b[0m \u001b[0mhidden_4\u001b[0m \u001b[1;33m=\u001b[0m \u001b[0mtf\u001b[0m\u001b[1;33m.\u001b[0m\u001b[0mnn\u001b[0m\u001b[1;33m.\u001b[0m\u001b[0mrelu\u001b[0m\u001b[1;33m(\u001b[0m\u001b[0mtf\u001b[0m\u001b[1;33m.\u001b[0m\u001b[0madd\u001b[0m\u001b[1;33m(\u001b[0m\u001b[0mtf\u001b[0m\u001b[1;33m.\u001b[0m\u001b[0mmatmul\u001b[0m\u001b[1;33m(\u001b[0m\u001b[0mhidden_3\u001b[0m\u001b[1;33m,\u001b[0m \u001b[0mW_hidden_4\u001b[0m\u001b[1;33m)\u001b[0m\u001b[1;33m,\u001b[0m \u001b[0mbias_hidden_4\u001b[0m\u001b[1;33m)\u001b[0m\u001b[1;33m)\u001b[0m\u001b[1;33m\u001b[0m\u001b[0m\n",
      "\u001b[1;31mNameError\u001b[0m: name 'W_hidden_1' is not defined"
     ]
    }
   ],
   "source": [
    "# Hidden layer\n",
    "hidden_1 = tf.nn.relu(tf.add(tf.matmul(X, W_hidden_1), bias_hidden_1))\n",
    "hidden_2 = tf.nn.relu(tf.add(tf.matmul(hidden_1, W_hidden_2), bias_hidden_2))\n",
    "hidden_3 = tf.nn.relu(tf.add(tf.matmul(hidden_2, W_hidden_3), bias_hidden_3))\n",
    "hidden_4 = tf.nn.relu(tf.add(tf.matmul(hidden_3, W_hidden_4), bias_hidden_4))\n",
    "\n",
    "# Output layer (must be transposed)\n",
    "out = tf.transpose(tf.add(tf.matmul(hidden_4, W_out), bias_out))"
   ]
  },
  {
   "cell_type": "code",
   "execution_count": null,
   "metadata": {},
   "outputs": [],
   "source": []
  }
 ],
 "metadata": {
  "kernelspec": {
   "display_name": "Python 3",
   "language": "python",
   "name": "python3"
  },
  "language_info": {
   "codemirror_mode": {
    "name": "ipython",
    "version": 3
   },
   "file_extension": ".py",
   "mimetype": "text/x-python",
   "name": "python",
   "nbconvert_exporter": "python",
   "pygments_lexer": "ipython3",
   "version": "3.5.2"
  }
 },
 "nbformat": 4,
 "nbformat_minor": 2
}
