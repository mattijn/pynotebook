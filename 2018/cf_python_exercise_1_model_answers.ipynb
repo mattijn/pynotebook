{
 "cells": [
  {
   "cell_type": "markdown",
   "metadata": {},
   "source": [
    "# cf-python exercises 1"
   ]
  },
  {
   "cell_type": "code",
   "execution_count": 1,
   "metadata": {
    "collapsed": true
   },
   "outputs": [],
   "source": [
    "# import the cf package\n",
    "import cf"
   ]
  },
  {
   "cell_type": "code",
   "execution_count": 2,
   "metadata": {
    "collapsed": false
   },
   "outputs": [],
   "source": [
    "# Read the field from file ncas_data/IPSL-CM5A-LR_r1i1p1_tas_n96_rcp45_mnth.nc\n",
    "# (use the cf.read_field function)\n",
    "f = cf.read_field('ncas_data/IPSL-CM5A-LR_r1i1p1_tas_n96_rcp45_mnth.nc')"
   ]
  },
  {
   "cell_type": "code",
   "execution_count": 3,
   "metadata": {
    "collapsed": false
   },
   "outputs": [
    {
     "data": {
      "text/plain": [
       "<CF Field: air_temperature(time(120), latitude(145), longitude(192)) K>"
      ]
     },
     "execution_count": 3,
     "metadata": {},
     "output_type": "execute_result"
    }
   ],
   "source": [
    "# Inspect the field as a one-line summary\n",
    "f"
   ]
  },
  {
   "cell_type": "code",
   "execution_count": 4,
   "metadata": {
    "collapsed": false
   },
   "outputs": [
    {
     "name": "stdout",
     "output_type": "stream",
     "text": [
      "Field: air_temperature (ncvar%tas)\n",
      "----------------------------------\n",
      "Data           : air_temperature(time(120), latitude(145), longitude(192)) K\n",
      "Cell methods   : time: mean (interval: 30 minutes)\n",
      "Axes           : height(1) = [2.0] m\n",
      "               : time(120) = [1959-12-16T12:00:00Z, ..., 1969-11-16T00:00:00Z] 365_day\n",
      "               : latitude(145) = [-90.0, ..., 90.0] degrees_north\n",
      "               : longitude(192) = [0.0, ..., 358.125] degrees_east\n",
      "\n"
     ]
    }
   ],
   "source": [
    "# Inspect the field as a brief, multi-line summary\n",
    "# (use the print function)\n",
    "print f"
   ]
  },
  {
   "cell_type": "code",
   "execution_count": 5,
   "metadata": {
    "collapsed": false
   },
   "outputs": [
    {
     "name": "stdout",
     "output_type": "stream",
     "text": [
      "----------------------------------\n",
      "Field: air_temperature (ncvar%tas)\n",
      "----------------------------------\n",
      "CDI = 'Climate Data Interface version 1.7.0 (http://mpimet.mpg.de/cdi)'\n",
      "CDO = 'Climate Data Operators version 1.7.0 (http://mpimet.mpg.de/cdo)'\n",
      "associated_files = 'baseURL: http://cmip-pcmdi.llnl.gov/CMIP5/dataLocation\n",
      "                    gridspecFile: gridspec_atmos_fx_IPSL-CM5A-\n",
      "                    LR_historical_r0i0p0.nc areacella: areacella_fx_IPSL-CM5A-\n",
      "                    LR_historical_r0i0p0.nc'\n",
      "branch_time = 1850.0\n",
      "cmor_version = '2.5.1'\n",
      "comment = 'This 20th century simulation include natural and anthropogenic\n",
      "           forcings.'\n",
      "contact = 'ipsl-cmip5 _at_ ipsl.jussieu.fr Data manager : Sebastien Denvil'\n",
      "creation_date = '2011-02-23T17:52:35Z'\n",
      "experiment = 'historical'\n",
      "experiment_id = 'historical'\n",
      "forcing = 'Nat,Ant,GHG,SA,Oz,LU,SS,Ds,BC,MD,OC,AA'\n",
      "frequency = 'mon'\n",
      "history = \"Thu May 26 15:47:13 2016: cdo mergetime /data/cr1/hadlg/helix/IPSL-\n",
      "           CM5A-LR_rcp45_tmp_output_1_hist.nc /data/cr1/hadlg/helix/IPSL-CM5A-\n",
      "           LR_rcp45_tmp_output_1_fut.nc /data/cr1/hadlg/helix/IPSL-CM5A-\n",
      "           LR_r1i1p1_tas_merged_rcp45.nc\\n2011-06-24T02:32:44Z altered by CMOR:\n",
      "           Treated scalar dimension: 'height'. 2011-06-24T02:32:44Z altered by\n",
      "           CMOR: replaced missing value flag (9.96921e+36) with standard\n",
      "           missing value (1e+20). 2011-06-24T02:32:45Z altered by CMOR:\n",
      "           Inverted axis: lat.\"\n",
      "initialization_method = 1\n",
      "institute_id = 'IPSL'\n",
      "institution = 'IPSL (Institut Pierre Simon Laplace, Paris, France)'\n",
      "long_name = 'Near-Surface Air Temperature'\n",
      "model_id = 'IPSL-CM5A-LR'\n",
      "modeling_realm = 'atmos'\n",
      "original_name = 't2m'\n",
      "parent_experiment = 'pre-industrial control'\n",
      "parent_experiment_id = 'piControl'\n",
      "parent_experiment_rip = 'r1i1p1'\n",
      "physics_version = 1\n",
      "product = 'output'\n",
      "project_id = 'CMIP5'\n",
      "realization = 1\n",
      "references = 'Model documentation and further reference available here :\n",
      "              http://icmc.ipsl.fr'\n",
      "source = 'IPSL-CM5A-LR (2010) : atmos : LMDZ4 (LMDZ4_v5, 96x95x39); ocean :\n",
      "          ORCA2 (NEMOV2_3, 2x2L31); seaIce : LIM2 (NEMOV2_3); ocnBgchem :\n",
      "          PISCES (NEMOV2_3); land : ORCHIDEE (orchidee_1_9_4_AR5)'\n",
      "standard_name = 'air_temperature'\n",
      "table_id = 'Table Amon (31 January 2011) 53b766a395ac41696af40aab76a49ae5'\n",
      "title = 'IPSL-CM5A-LR model output prepared for CMIP5 historical'\n",
      "tracking_id = '826ee5e9-3cc9-40a6-a42b-d84c6b4aad97'\n",
      "\n",
      "Domain Axis: height(1)\n",
      "Domain Axis: time(120)\n",
      "Domain Axis: latitude(145)\n",
      "Domain Axis: longitude(192)\n",
      "\n",
      "Data(time(120), latitude(145), longitude(192)) = [[[244.825790405, ..., 244.526885986]]] K\n",
      "\n",
      "Cell Method: time: mean (interval: 30 minutes)\n",
      "\n",
      "Dimension Coordinate: time\n",
      "    axis = 'T'\n",
      "    long_name = 'time'\n",
      "    standard_name = 'time'\n",
      "    Data(time(120)) = [1959-12-16T12:00:00Z, ..., 1969-11-16T00:00:00Z] 365_day\n",
      "    Bounds(time(120), 2) = [[1959-12-01T00:00:00Z, ..., 1969-12-01T00:00:00Z]] 365_day\n",
      "\n",
      "Dimension Coordinate: latitude\n",
      "    axis = 'Y'\n",
      "    long_name = 'latitude'\n",
      "    standard_name = 'latitude'\n",
      "    Data(latitude(145)) = [-90.0, ..., 90.0] degrees_north\n",
      "    Bounds(latitude(145), 2) = [[-90.0, ..., 90.0]] degrees_north\n",
      "\n",
      "Dimension Coordinate: longitude\n",
      "    axis = 'X'\n",
      "    long_name = 'longitude'\n",
      "    standard_name = 'longitude'\n",
      "    Data(longitude(192)) = [0.0, ..., 358.125] degrees_east\n",
      "    Bounds(longitude(192), 2) = [[-0.9375, ..., 359.0625]] degrees_east\n",
      "\n",
      "Dimension Coordinate: height\n",
      "    axis = 'Z'\n",
      "    long_name = 'height'\n",
      "    positive = 'up'\n",
      "    standard_name = 'height'\n",
      "    Data(height(1)) = [2.0] m\n",
      "\n"
     ]
    }
   ],
   "source": [
    "# Inspect the field in full detail\n",
    "#( use the field's \"dump\" method)\n",
    "f.dump()"
   ]
  },
  {
   "cell_type": "code",
   "execution_count": 6,
   "metadata": {
    "collapsed": false
   },
   "outputs": [
    {
     "data": {
      "text/plain": [
       "{'CDI': 'Climate Data Interface version 1.7.0 (http://mpimet.mpg.de/cdi)',\n",
       " 'CDO': 'Climate Data Operators version 1.7.0 (http://mpimet.mpg.de/cdo)',\n",
       " 'Conventions': 'CF-1.5',\n",
       " '_FillValue': 1.0000000200408773e+20,\n",
       " 'associated_files': 'baseURL: http://cmip-pcmdi.llnl.gov/CMIP5/dataLocation gridspecFile: gridspec_atmos_fx_IPSL-CM5A-LR_historical_r0i0p0.nc areacella: areacella_fx_IPSL-CM5A-LR_historical_r0i0p0.nc',\n",
       " 'branch_time': 1850.0,\n",
       " 'cmor_version': '2.5.1',\n",
       " 'comment': 'This 20th century simulation include natural and anthropogenic forcings.',\n",
       " 'contact': 'ipsl-cmip5 _at_ ipsl.jussieu.fr Data manager : Sebastien Denvil',\n",
       " 'creation_date': '2011-02-23T17:52:35Z',\n",
       " 'experiment': 'historical',\n",
       " 'experiment_id': 'historical',\n",
       " 'forcing': 'Nat,Ant,GHG,SA,Oz,LU,SS,Ds,BC,MD,OC,AA',\n",
       " 'frequency': 'mon',\n",
       " 'history': \"Thu May 26 15:47:13 2016: cdo mergetime /data/cr1/hadlg/helix/IPSL-CM5A-LR_rcp45_tmp_output_1_hist.nc /data/cr1/hadlg/helix/IPSL-CM5A-LR_rcp45_tmp_output_1_fut.nc /data/cr1/hadlg/helix/IPSL-CM5A-LR_r1i1p1_tas_merged_rcp45.nc\\n2011-06-24T02:32:44Z altered by CMOR: Treated scalar dimension: 'height'. 2011-06-24T02:32:44Z altered by CMOR: replaced missing value flag (9.96921e+36) with standard missing value (1e+20). 2011-06-24T02:32:45Z altered by CMOR: Inverted axis: lat.\",\n",
       " 'initialization_method': 1,\n",
       " 'institute_id': 'IPSL',\n",
       " 'institution': 'IPSL (Institut Pierre Simon Laplace, Paris, France)',\n",
       " 'long_name': 'Near-Surface Air Temperature',\n",
       " 'missing_value': 1e+20,\n",
       " 'model_id': 'IPSL-CM5A-LR',\n",
       " 'modeling_realm': 'atmos',\n",
       " 'original_name': 't2m',\n",
       " 'parent_experiment': 'pre-industrial control',\n",
       " 'parent_experiment_id': 'piControl',\n",
       " 'parent_experiment_rip': 'r1i1p1',\n",
       " 'physics_version': 1,\n",
       " 'product': 'output',\n",
       " 'project_id': 'CMIP5',\n",
       " 'realization': 1,\n",
       " 'references': 'Model documentation and further reference available here : http://icmc.ipsl.fr',\n",
       " 'source': 'IPSL-CM5A-LR (2010) : atmos : LMDZ4 (LMDZ4_v5, 96x95x39); ocean : ORCA2 (NEMOV2_3, 2x2L31); seaIce : LIM2 (NEMOV2_3); ocnBgchem : PISCES (NEMOV2_3); land : ORCHIDEE (orchidee_1_9_4_AR5)',\n",
       " 'standard_name': 'air_temperature',\n",
       " 'table_id': 'Table Amon (31 January 2011) 53b766a395ac41696af40aab76a49ae5',\n",
       " 'title': 'IPSL-CM5A-LR model output prepared for CMIP5 historical',\n",
       " 'tracking_id': '826ee5e9-3cc9-40a6-a42b-d84c6b4aad97'}"
      ]
     },
     "execution_count": 6,
     "metadata": {},
     "output_type": "execute_result"
    }
   ],
   "source": [
    "# Have a look at the descriptive properties\n",
    "# (use the field's \"properties\" method)\n",
    "f.properties()"
   ]
  },
  {
   "cell_type": "code",
   "execution_count": 7,
   "metadata": {
    "collapsed": false
   },
   "outputs": [
    {
     "data": {
      "text/plain": [
       "'orange'"
      ]
     },
     "execution_count": 7,
     "metadata": {},
     "output_type": "execute_result"
    }
   ],
   "source": [
    "# Change the CF long_name property to a new value and print the new value\n",
    "# (assign to the field's \"long_name\" attribute)\n",
    "f.long_name = 'orange'\n",
    "f.long_name"
   ]
  },
  {
   "cell_type": "code",
   "execution_count": 8,
   "metadata": {
    "collapsed": false
   },
   "outputs": [
    {
     "data": {
      "text/plain": [
       "'apple'"
      ]
     },
     "execution_count": 8,
     "metadata": {},
     "output_type": "execute_result"
    }
   ],
   "source": [
    "# Change the original_name property to a new value and check that it has worked\n",
    "# (use the field's \"setprop\" and \"getprop\" methods)\n",
    "f.setprop('original_name', 'apple')\n",
    "f.getprop('original_name')"
   ]
  },
  {
   "cell_type": "code",
   "execution_count": 9,
   "metadata": {
    "collapsed": false
   },
   "outputs": [],
   "source": [
    "# Delete the original_name property and the CF long_name property\n",
    "# (use the field's \"delprop\" method and the python del function)\n",
    "f.delprop('original_name')\n",
    "del f.long_name"
   ]
  }
 ],
 "metadata": {
  "anaconda-cloud": {},
  "kernelspec": {
   "display_name": "Python [default]",
   "language": "python",
   "name": "python2"
  },
  "language_info": {
   "codemirror_mode": {
    "name": "ipython",
    "version": 2
   },
   "file_extension": ".py",
   "mimetype": "text/x-python",
   "name": "python",
   "nbconvert_exporter": "python",
   "pygments_lexer": "ipython2",
   "version": "2.7.12"
  }
 },
 "nbformat": 4,
 "nbformat_minor": 2
}
