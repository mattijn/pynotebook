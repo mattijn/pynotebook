{
 "cells": [
  {
   "cell_type": "code",
   "execution_count": 1,
   "metadata": {},
   "outputs": [],
   "source": [
    "import altair as alt\n",
    "import requests"
   ]
  },
  {
   "cell_type": "code",
   "execution_count": 2,
   "metadata": {},
   "outputs": [],
   "source": [
    "data = 'https://tsws.hkvservices.nl/mangrove.ws/entry.asmx/Call?function=ci.appfunctions.GetSectionById&parameters=%7Bid:43001001,%20momentid:0%7D'"
   ]
  },
  {
   "cell_type": "code",
   "execution_count": 3,
   "metadata": {},
   "outputs": [
    {
     "data": {
      "application/vnd.vegalite.v2+json": {
       "$schema": "https://vega.github.io/schema/vega-lite/v2.6.0.json",
       "config": {
        "view": {
         "height": 300,
         "width": 400
        }
       },
       "data": {
        "format": {
         "type": "json"
        },
        "url": "https://tsws.hkvservices.nl/mangrove.ws/entry.asmx/Call?function=ci.appfunctions.GetSectionById&parameters=%7Bid:43001001,%20momentid:0%7D"
       },
       "encoding": {
        "color": {
         "field": "failureprobability.parametercode",
         "type": "nominal"
        },
        "x": {
         "field": "failureprobability.datetime",
         "type": "temporal"
        },
        "y": {
         "field": "failureprobability.value",
         "type": "quantitative"
        }
       },
       "mark": "line"
      },
      "image/png": "[encoded data removed]",
      "text/plain": [
       "<VegaLite 2 object>\n",
       "\n",
       "If you see this message, it means the renderer has not been properly enabled\n",
       "for the frontend that you are using. For more information, see\n",
       "https://altair-viz.github.io/user_guide/troubleshooting.html\n"
      ]
     },
     "execution_count": 3,
     "metadata": {},
     "output_type": "execute_result"
    }
   ],
   "source": [
    "alt.Chart(data).mark_line().encode(\n",
    "    x=alt.X(field='failureprobability.datetime', type='temporal'),\n",
    "    y=alt.Y(field='failureprobability.value', type='quantitative'),\n",
    "    color=alt.Color(field='failureprobability.parametercode', type='nominal')\n",
    ")"
   ]
  },
  {
   "cell_type": "code",
   "execution_count": 8,
   "metadata": {},
   "outputs": [],
   "source": [
    "data_url = \"https://tsws.hkvservices.nl/mangrove.ws/entry.asmx/Call?function=ci.db.Data&parameters=%7bsource:%22measuringstation%22%7d\"\n",
    "chart = alt.Chart(data_url).mark_line().encode(\n",
    "    x = alt.X('datetime:T', axis = alt.Axis(format = '%Y-%m-%d %H:%M')), # datetime\n",
    "    y = alt.Y('value:Q', scale = alt.Scale(zero = False)),\n",
    "    color = 'parameter_code:N',\n",
    "    row = 'name:N'\n",
    ").transform_filter(\n",
    "    alt.datum.name == 'Amerongen boven' \n",
    ")\n"
   ]
  },
  {
   "cell_type": "code",
   "execution_count": 9,
   "metadata": {},
   "outputs": [
    {
     "data": {
      "text/plain": [
       "'{\\n  \"$schema\": \"https://vega.github.io/schema/vega-lite/v2.6.0.json\",\\n  \"config\": {\\n    \"view\": {\\n      \"height\": 300,\\n      \"width\": 400\\n    }\\n  },\\n  \"data\": {\\n    \"url\": \"https://tsws.hkvservices.nl/mangrove.ws/entry.asmx/Call?function=ci.db.Data&parameters=%7bsource:%22measuringstation%22%7d\"\\n  },\\n  \"encoding\": {\\n    \"color\": {\\n      \"field\": \"parameter_code\",\\n      \"type\": \"nominal\"\\n    },\\n    \"row\": {\\n      \"field\": \"name\",\\n      \"type\": \"nominal\"\\n    },\\n    \"x\": {\\n      \"axis\": {\\n        \"format\": \"%Y-%m-%d %H:%M\"\\n      },\\n      \"field\": \"datetime\",\\n      \"type\": \"temporal\"\\n    },\\n    \"y\": {\\n      \"field\": \"value\",\\n      \"scale\": {\\n        \"zero\": false\\n      },\\n      \"type\": \"quantitative\"\\n    }\\n  },\\n  \"mark\": \"line\",\\n  \"transform\": [\\n    {\\n      \"filter\": \"(datum.name === \\'Amerongen boven\\')\"\\n    }\\n  ]\\n}'"
      ]
     },
     "execution_count": 9,
     "metadata": {},
     "output_type": "execute_result"
    }
   ],
   "source": [
    "print(chart.to_json()"
   ]
  },
  {
   "cell_type": "code",
   "execution_count": 5,
   "metadata": {},
   "outputs": [],
   "source": [
    "import pandas as pd"
   ]
  },
  {
   "cell_type": "code",
   "execution_count": 6,
   "metadata": {},
   "outputs": [],
   "source": [
    "r = requests.get(\"https://tsws.hkvservices.nl/mangrove.ws/entry.asmx/Call?function=ci.db.Data&parameters=%7bsource:%22measuringstation%22%7d\")"
   ]
  },
  {
   "cell_type": "code",
   "execution_count": 7,
   "metadata": {},
   "outputs": [
    {
     "ename": "ValueError",
     "evalue": "Invalid file path or buffer object type: <class 'list'>",
     "output_type": "error",
     "traceback": [
      "\u001b[1;31m---------------------------------------------------------------------------\u001b[0m",
      "\u001b[1;31mValueError\u001b[0m                                Traceback (most recent call last)",
      "\u001b[1;32m<ipython-input-7-245fecc213cd>\u001b[0m in \u001b[0;36m<module>\u001b[1;34m()\u001b[0m\n\u001b[1;32m----> 1\u001b[1;33m \u001b[0mpd\u001b[0m\u001b[1;33m.\u001b[0m\u001b[0mread_json\u001b[0m\u001b[1;33m(\u001b[0m\u001b[0mr\u001b[0m\u001b[1;33m.\u001b[0m\u001b[0mjson\u001b[0m\u001b[1;33m(\u001b[0m\u001b[1;33m)\u001b[0m\u001b[1;33m)\u001b[0m\u001b[1;33m\u001b[0m\u001b[0m\n\u001b[0m",
      "\u001b[1;32mC:\\ProgramData\\Miniconda3\\lib\\site-packages\\pandas\\io\\json\\json.py\u001b[0m in \u001b[0;36mread_json\u001b[1;34m(path_or_buf, orient, typ, dtype, convert_axes, convert_dates, keep_default_dates, numpy, precise_float, date_unit, encoding, lines, chunksize, compression)\u001b[0m\n\u001b[0;32m    406\u001b[0m     \u001b[0mcompression\u001b[0m \u001b[1;33m=\u001b[0m \u001b[0m_infer_compression\u001b[0m\u001b[1;33m(\u001b[0m\u001b[0mpath_or_buf\u001b[0m\u001b[1;33m,\u001b[0m \u001b[0mcompression\u001b[0m\u001b[1;33m)\u001b[0m\u001b[1;33m\u001b[0m\u001b[0m\n\u001b[0;32m    407\u001b[0m     filepath_or_buffer, _, compression, should_close = get_filepath_or_buffer(\n\u001b[1;32m--> 408\u001b[1;33m         \u001b[0mpath_or_buf\u001b[0m\u001b[1;33m,\u001b[0m \u001b[0mencoding\u001b[0m\u001b[1;33m=\u001b[0m\u001b[0mencoding\u001b[0m\u001b[1;33m,\u001b[0m \u001b[0mcompression\u001b[0m\u001b[1;33m=\u001b[0m\u001b[0mcompression\u001b[0m\u001b[1;33m,\u001b[0m\u001b[1;33m\u001b[0m\u001b[0m\n\u001b[0m\u001b[0;32m    409\u001b[0m     )\n\u001b[0;32m    410\u001b[0m \u001b[1;33m\u001b[0m\u001b[0m\n",
      "\u001b[1;32mC:\\ProgramData\\Miniconda3\\lib\\site-packages\\pandas\\io\\common.py\u001b[0m in \u001b[0;36mget_filepath_or_buffer\u001b[1;34m(filepath_or_buffer, encoding, compression, mode)\u001b[0m\n\u001b[0;32m    216\u001b[0m     \u001b[1;32mif\u001b[0m \u001b[1;32mnot\u001b[0m \u001b[0mis_file_like\u001b[0m\u001b[1;33m(\u001b[0m\u001b[0mfilepath_or_buffer\u001b[0m\u001b[1;33m)\u001b[0m\u001b[1;33m:\u001b[0m\u001b[1;33m\u001b[0m\u001b[0m\n\u001b[0;32m    217\u001b[0m         \u001b[0mmsg\u001b[0m \u001b[1;33m=\u001b[0m \u001b[1;34m\"Invalid file path or buffer object type: {_type}\"\u001b[0m\u001b[1;33m\u001b[0m\u001b[0m\n\u001b[1;32m--> 218\u001b[1;33m         \u001b[1;32mraise\u001b[0m \u001b[0mValueError\u001b[0m\u001b[1;33m(\u001b[0m\u001b[0mmsg\u001b[0m\u001b[1;33m.\u001b[0m\u001b[0mformat\u001b[0m\u001b[1;33m(\u001b[0m\u001b[0m_type\u001b[0m\u001b[1;33m=\u001b[0m\u001b[0mtype\u001b[0m\u001b[1;33m(\u001b[0m\u001b[0mfilepath_or_buffer\u001b[0m\u001b[1;33m)\u001b[0m\u001b[1;33m)\u001b[0m\u001b[1;33m)\u001b[0m\u001b[1;33m\u001b[0m\u001b[0m\n\u001b[0m\u001b[0;32m    219\u001b[0m \u001b[1;33m\u001b[0m\u001b[0m\n\u001b[0;32m    220\u001b[0m     \u001b[1;32mreturn\u001b[0m \u001b[0mfilepath_or_buffer\u001b[0m\u001b[1;33m,\u001b[0m \u001b[1;32mNone\u001b[0m\u001b[1;33m,\u001b[0m \u001b[0mcompression\u001b[0m\u001b[1;33m,\u001b[0m \u001b[1;32mFalse\u001b[0m\u001b[1;33m\u001b[0m\u001b[0m\n",
      "\u001b[1;31mValueError\u001b[0m: Invalid file path or buffer object type: <class 'list'>"
     ]
    }
   ],
   "source": [
    "pd.read_json(r.json())"
   ]
  },
  {
   "cell_type": "code",
   "execution_count": 20,
   "metadata": {},
   "outputs": [],
   "source": [
    "df = pd.DataFrame.from_records(r.json())"
   ]
  },
  {
   "cell_type": "code",
   "execution_count": 21,
   "metadata": {},
   "outputs": [
    {
     "data": {
      "text/html": [
       "<div>\n",
       "<style scoped>\n",
       "    .dataframe tbody tr th:only-of-type {\n",
       "        vertical-align: middle;\n",
       "    }\n",
       "\n",
       "    .dataframe tbody tr th {\n",
       "        vertical-align: top;\n",
       "    }\n",
       "\n",
       "    .dataframe thead th {\n",
       "        text-align: right;\n",
       "    }\n",
       "</style>\n",
       "<table border=\"1\" class=\"dataframe\">\n",
       "  <thead>\n",
       "    <tr style=\"text-align: right;\">\n",
       "      <th></th>\n",
       "      <th>code</th>\n",
       "      <th>date</th>\n",
       "      <th>datetime</th>\n",
       "      <th>momentid</th>\n",
       "      <th>name</th>\n",
       "      <th>parameter_code</th>\n",
       "      <th>parameter_name</th>\n",
       "      <th>parameter_unit</th>\n",
       "      <th>value</th>\n",
       "    </tr>\n",
       "  </thead>\n",
       "  <tbody>\n",
       "    <tr>\n",
       "      <th>0</th>\n",
       "      <td>AMRO</td>\n",
       "      <td>2018-11-19T10:40:00</td>\n",
       "      <td>1.542624e+12</td>\n",
       "      <td>0</td>\n",
       "      <td>Amerongen beneden</td>\n",
       "      <td>H10</td>\n",
       "      <td>Gemeten waterstand</td>\n",
       "      <td>m+NAP</td>\n",
       "      <td>1.89</td>\n",
       "    </tr>\n",
       "    <tr>\n",
       "      <th>1</th>\n",
       "      <td>AMRB</td>\n",
       "      <td>2018-11-19T10:40:00</td>\n",
       "      <td>1.542624e+12</td>\n",
       "      <td>0</td>\n",
       "      <td>Amerongen boven</td>\n",
       "      <td>H10</td>\n",
       "      <td>Gemeten waterstand</td>\n",
       "      <td>m+NAP</td>\n",
       "      <td>6.04</td>\n",
       "    </tr>\n",
       "    <tr>\n",
       "      <th>2</th>\n",
       "      <td>ARNH</td>\n",
       "      <td>2018-11-19T10:40:00</td>\n",
       "      <td>1.542624e+12</td>\n",
       "      <td>0</td>\n",
       "      <td>Arnhem</td>\n",
       "      <td>H10</td>\n",
       "      <td>Gemeten waterstand</td>\n",
       "      <td>m+NAP</td>\n",
       "      <td>6.19</td>\n",
       "    </tr>\n",
       "    <tr>\n",
       "      <th>3</th>\n",
       "      <td>BORD</td>\n",
       "      <td>2018-11-19T10:40:00</td>\n",
       "      <td>1.542624e+12</td>\n",
       "      <td>0</td>\n",
       "      <td>Borgharen dorp</td>\n",
       "      <td>H10</td>\n",
       "      <td>Gemeten waterstand</td>\n",
       "      <td>m+NAP</td>\n",
       "      <td>38.28</td>\n",
       "    </tr>\n",
       "    <tr>\n",
       "      <th>4</th>\n",
       "      <td>CULB</td>\n",
       "      <td>2018-11-19T10:40:00</td>\n",
       "      <td>1.542624e+12</td>\n",
       "      <td>0</td>\n",
       "      <td>Culemborg brug</td>\n",
       "      <td>H10</td>\n",
       "      <td>Gemeten waterstand</td>\n",
       "      <td>m+NAP</td>\n",
       "      <td>1.95</td>\n",
       "    </tr>\n",
       "  </tbody>\n",
       "</table>\n",
       "</div>"
      ],
      "text/plain": [
       "   code                 date      datetime  momentid               name  \\\n",
       "0  AMRO  2018-11-19T10:40:00  1.542624e+12         0  Amerongen beneden   \n",
       "1  AMRB  2018-11-19T10:40:00  1.542624e+12         0    Amerongen boven   \n",
       "2  ARNH  2018-11-19T10:40:00  1.542624e+12         0             Arnhem   \n",
       "3  BORD  2018-11-19T10:40:00  1.542624e+12         0     Borgharen dorp   \n",
       "4  CULB  2018-11-19T10:40:00  1.542624e+12         0     Culemborg brug   \n",
       "\n",
       "  parameter_code      parameter_name parameter_unit  value  \n",
       "0            H10  Gemeten waterstand          m+NAP   1.89  \n",
       "1            H10  Gemeten waterstand          m+NAP   6.04  \n",
       "2            H10  Gemeten waterstand          m+NAP   6.19  \n",
       "3            H10  Gemeten waterstand          m+NAP  38.28  \n",
       "4            H10  Gemeten waterstand          m+NAP   1.95  "
      ]
     },
     "execution_count": 21,
     "metadata": {},
     "output_type": "execute_result"
    }
   ],
   "source": [
    "df.head()"
   ]
  },
  {
   "cell_type": "code",
   "execution_count": 26,
   "metadata": {},
   "outputs": [
    {
     "data": {
      "text/plain": [
       "['AMRO',\n",
       " 'AMRB',\n",
       " 'ARNH',\n",
       " 'BORD',\n",
       " 'CULB',\n",
       " 'DRIO',\n",
       " 'DRIB',\n",
       " 'HAGB',\n",
       " 'HOEK',\n",
       " 'IJSS',\n",
       " 'LOBI',\n",
       " 'NIJM',\n",
       " 'PANN',\n",
       " 'TIEW',\n",
       " 'VURE',\n",
       " 'WERK',\n",
       " 'ZALT',\n",
       " 'DODE']"
      ]
     },
     "execution_count": 26,
     "metadata": {},
     "output_type": "execute_result"
    }
   ],
   "source": []
  },
  {
   "cell_type": "code",
   "execution_count": 24,
   "metadata": {},
   "outputs": [],
   "source": [
    "import json"
   ]
  },
  {
   "cell_type": "code",
   "execution_count": 27,
   "metadata": {},
   "outputs": [
    {
     "data": {
      "text/plain": [
       "'[\"AMRO\", \"AMRB\", \"ARNH\", \"BORD\", \"CULB\", \"DRIO\", \"DRIB\", \"HAGB\", \"HOEK\", \"IJSS\", \"LOBI\", \"NIJM\", \"PANN\", \"TIEW\", \"VURE\", \"WERK\", \"ZALT\", \"DODE\"]'"
      ]
     },
     "execution_count": 27,
     "metadata": {},
     "output_type": "execute_result"
    }
   ],
   "source": [
    "json.dumps(df.code.unique().tolist())"
   ]
  },
  {
   "cell_type": "code",
   "execution_count": null,
   "metadata": {},
   "outputs": [],
   "source": []
  }
 ],
 "metadata": {
  "kernelspec": {
   "display_name": "Python 3",
   "language": "python",
   "name": "python3"
  },
  "language_info": {
   "codemirror_mode": {
    "name": "ipython",
    "version": 3
   },
   "file_extension": ".py",
   "mimetype": "text/x-python",
   "name": "python",
   "nbconvert_exporter": "python",
   "pygments_lexer": "ipython3",
   "version": "3.6.5"
  }
 },
 "nbformat": 4,
 "nbformat_minor": 2
}
