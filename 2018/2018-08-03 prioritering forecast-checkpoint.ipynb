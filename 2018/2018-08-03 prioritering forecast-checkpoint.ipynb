{
 "cells": [
  {
   "cell_type": "code",
   "execution_count": 1,
   "metadata": {},
   "outputs": [],
   "source": [
    "import hkvfewspy as hkv\n",
    "from datetime import datetime, timedelta\n",
    "import pandas as pd\n",
    "%matplotlib inline"
   ]
  },
  {
   "cell_type": "code",
   "execution_count": 2,
   "metadata": {},
   "outputs": [],
   "source": [
    "pi = hkv.pi\n",
    "pi.setClient(wsdl='http://www.oms-waddenzee.nl:8081/FewsPiService/fewspiservice?wsdl')"
   ]
  },
  {
   "cell_type": "code",
   "execution_count": 3,
   "metadata": {},
   "outputs": [],
   "source": [
    "date_fc = datetime.now() + timedelta(days=9)\n",
    "date_fc = date_fc.replace(hour=0, minute=0, second=0, microsecond=0)"
   ]
  },
  {
   "cell_type": "code",
   "execution_count": 4,
   "metadata": {},
   "outputs": [
    {
     "data": {
      "text/plain": [
       "datetime.datetime(2018, 8, 18, 0, 0)"
      ]
     },
     "execution_count": 4,
     "metadata": {},
     "output_type": "execute_result"
    }
   ],
   "source": [
    "date_fc"
   ]
  },
  {
   "cell_type": "code",
   "execution_count": 5,
   "metadata": {},
   "outputs": [],
   "source": [
    "query = pi.setQueryParameters(prefill_defaults=True)"
   ]
  },
  {
   "cell_type": "code",
   "execution_count": 6,
   "metadata": {},
   "outputs": [],
   "source": [
    "query.parameterIds(['m3.minDepth.cut.f'])\n",
    "query.startTime(date_fc)\n",
    "query.endTime(date_fc)\n",
    "query.clientTimeZone('Etc/GMT-1')"
   ]
  },
  {
   "cell_type": "code",
   "execution_count": 7,
   "metadata": {},
   "outputs": [],
   "source": [
    "df, entry = pi.getTimeSeries(queryParameters=query, setFormat='df')"
   ]
  },
  {
   "cell_type": "code",
   "execution_count": 8,
   "metadata": {},
   "outputs": [],
   "source": [
    "dates = df.index.get_level_values(0).drop_duplicates()\n",
    "df_fc = df.loc[dates[0]]  \n",
    "df_fc.reset_index(inplace=True)\n",
    "\n",
    "column_name = 'Voorspeld (+10 dagen) volume cut tov NGD (m3)'\n",
    "df_fc.rename(columns={'value': column_name}, inplace=True)\n",
    "#df_fc = df_fc[['locationId', column_name]]"
   ]
  },
  {
   "cell_type": "code",
   "execution_count": 9,
   "metadata": {},
   "outputs": [
    {
     "data": {
      "text/html": [
       "<div>\n",
       "<style scoped>\n",
       "    .dataframe tbody tr th:only-of-type {\n",
       "        vertical-align: middle;\n",
       "    }\n",
       "\n",
       "    .dataframe tbody tr th {\n",
       "        vertical-align: top;\n",
       "    }\n",
       "\n",
       "    .dataframe thead th {\n",
       "        text-align: right;\n",
       "    }\n",
       "</style>\n",
       "<table border=\"1\" class=\"dataframe\">\n",
       "  <thead>\n",
       "    <tr style=\"text-align: right;\">\n",
       "      <th></th>\n",
       "      <th>moduleInstanceId</th>\n",
       "      <th>qualifierId</th>\n",
       "      <th>parameterId</th>\n",
       "      <th>units</th>\n",
       "      <th>locationId</th>\n",
       "      <th>stationName</th>\n",
       "      <th>flag</th>\n",
       "      <th>Voorspeld (+10 dagen) volume cut tov NGD (m3)</th>\n",
       "    </tr>\n",
       "  </thead>\n",
       "  <tbody>\n",
       "    <tr>\n",
       "      <th>0</th>\n",
       "      <td>pr.Wind.minDepth.cutfill.volopp.setfill</td>\n",
       "      <td>q.all</td>\n",
       "      <td>m3.minDepth.cut.f</td>\n",
       "      <td>m3</td>\n",
       "      <td>bv.1.7.1.1</td>\n",
       "      <td>Den Helder - Texel, Vaarweg</td>\n",
       "      <td>0.0</td>\n",
       "      <td>311.10</td>\n",
       "    </tr>\n",
       "    <tr>\n",
       "      <th>1</th>\n",
       "      <td>pr.Wind.minDepth.cutfill.volopp.setfill</td>\n",
       "      <td>q.all</td>\n",
       "      <td>m3.minDepth.cut.f</td>\n",
       "      <td>m3</td>\n",
       "      <td>bv.1.7.1.1.1.1</td>\n",
       "      <td>Den Helder veerhaven, Vak A</td>\n",
       "      <td>0.0</td>\n",
       "      <td>417.73</td>\n",
       "    </tr>\n",
       "    <tr>\n",
       "      <th>2</th>\n",
       "      <td>pr.Wind.minDepth.cutfill.volopp.setfill</td>\n",
       "      <td>q.all</td>\n",
       "      <td>m3.minDepth.cut.f</td>\n",
       "      <td>m3</td>\n",
       "      <td>bv.1.7.1.1.1.2</td>\n",
       "      <td>Den Helder veerhaven, Vak B</td>\n",
       "      <td>0.0</td>\n",
       "      <td>3.13</td>\n",
       "    </tr>\n",
       "    <tr>\n",
       "      <th>3</th>\n",
       "      <td>pr.Wind.minDepth.cutfill.volopp.setfill</td>\n",
       "      <td>q.all</td>\n",
       "      <td>m3.minDepth.cut.f</td>\n",
       "      <td>m3</td>\n",
       "      <td>bv.1.7.1.1.1.3</td>\n",
       "      <td>Den Helder veerhaven, Vak C</td>\n",
       "      <td>0.0</td>\n",
       "      <td>4.23</td>\n",
       "    </tr>\n",
       "    <tr>\n",
       "      <th>4</th>\n",
       "      <td>pr.Wind.minDepth.cutfill.volopp.setfill</td>\n",
       "      <td>q.all</td>\n",
       "      <td>m3.minDepth.cut.f</td>\n",
       "      <td>m3</td>\n",
       "      <td>bv.1.7.1.1.2.1</td>\n",
       "      <td>Texel veerhaven, Vak A</td>\n",
       "      <td>0.0</td>\n",
       "      <td>372.04</td>\n",
       "    </tr>\n",
       "  </tbody>\n",
       "</table>\n",
       "</div>"
      ],
      "text/plain": [
       "                          moduleInstanceId qualifierId        parameterId  \\\n",
       "0  pr.Wind.minDepth.cutfill.volopp.setfill       q.all  m3.minDepth.cut.f   \n",
       "1  pr.Wind.minDepth.cutfill.volopp.setfill       q.all  m3.minDepth.cut.f   \n",
       "2  pr.Wind.minDepth.cutfill.volopp.setfill       q.all  m3.minDepth.cut.f   \n",
       "3  pr.Wind.minDepth.cutfill.volopp.setfill       q.all  m3.minDepth.cut.f   \n",
       "4  pr.Wind.minDepth.cutfill.volopp.setfill       q.all  m3.minDepth.cut.f   \n",
       "\n",
       "  units      locationId                  stationName  flag  \\\n",
       "0    m3      bv.1.7.1.1  Den Helder - Texel, Vaarweg   0.0   \n",
       "1    m3  bv.1.7.1.1.1.1  Den Helder veerhaven, Vak A   0.0   \n",
       "2    m3  bv.1.7.1.1.1.2  Den Helder veerhaven, Vak B   0.0   \n",
       "3    m3  bv.1.7.1.1.1.3  Den Helder veerhaven, Vak C   0.0   \n",
       "4    m3  bv.1.7.1.1.2.1       Texel veerhaven, Vak A   0.0   \n",
       "\n",
       "   Voorspeld (+10 dagen) volume cut tov NGD (m3)  \n",
       "0                                         311.10  \n",
       "1                                         417.73  \n",
       "2                                           3.13  \n",
       "3                                           4.23  \n",
       "4                                         372.04  "
      ]
     },
     "execution_count": 9,
     "metadata": {},
     "output_type": "execute_result"
    }
   ],
   "source": [
    "df_fc.head()"
   ]
  },
  {
   "cell_type": "code",
   "execution_count": 10,
   "metadata": {},
   "outputs": [
    {
     "data": {
      "text/plain": [
       "RendererRegistry.enable('svg')"
      ]
     },
     "execution_count": 10,
     "metadata": {},
     "output_type": "execute_result"
    }
   ],
   "source": [
    "import altair as alt\n",
    "alt.renderers.enable('svg')"
   ]
  },
  {
   "cell_type": "code",
   "execution_count": 11,
   "metadata": {},
   "outputs": [
    {
     "ename": "WebDriverException",
     "evalue": "Message: 'chromedriver' executable needs to be in PATH. Please see https://sites.google.com/a/chromium.org/chromedriver/home\n",
     "output_type": "error",
     "traceback": [
      "\u001b[1;31m---------------------------------------------------------------------------\u001b[0m",
      "\u001b[1;31mFileNotFoundError\u001b[0m                         Traceback (most recent call last)",
      "\u001b[1;32mC:\\ProgramData\\Miniconda3\\lib\\site-packages\\selenium\\webdriver\\common\\service.py\u001b[0m in \u001b[0;36mstart\u001b[1;34m(self)\u001b[0m\n\u001b[0;32m     75\u001b[0m                                             \u001b[0mstderr\u001b[0m\u001b[1;33m=\u001b[0m\u001b[0mself\u001b[0m\u001b[1;33m.\u001b[0m\u001b[0mlog_file\u001b[0m\u001b[1;33m,\u001b[0m\u001b[1;33m\u001b[0m\u001b[0m\n\u001b[1;32m---> 76\u001b[1;33m                                             stdin=PIPE)\n\u001b[0m\u001b[0;32m     77\u001b[0m         \u001b[1;32mexcept\u001b[0m \u001b[0mTypeError\u001b[0m\u001b[1;33m:\u001b[0m\u001b[1;33m\u001b[0m\u001b[0m\n",
      "\u001b[1;32mC:\\ProgramData\\Miniconda3\\lib\\subprocess.py\u001b[0m in \u001b[0;36m__init__\u001b[1;34m(self, args, bufsize, executable, stdin, stdout, stderr, preexec_fn, close_fds, shell, cwd, env, universal_newlines, startupinfo, creationflags, restore_signals, start_new_session, pass_fds, encoding, errors)\u001b[0m\n\u001b[0;32m    708\u001b[0m                                 \u001b[0merrread\u001b[0m\u001b[1;33m,\u001b[0m \u001b[0merrwrite\u001b[0m\u001b[1;33m,\u001b[0m\u001b[1;33m\u001b[0m\u001b[0m\n\u001b[1;32m--> 709\u001b[1;33m                                 restore_signals, start_new_session)\n\u001b[0m\u001b[0;32m    710\u001b[0m         \u001b[1;32mexcept\u001b[0m\u001b[1;33m:\u001b[0m\u001b[1;33m\u001b[0m\u001b[0m\n",
      "\u001b[1;32mC:\\ProgramData\\Miniconda3\\lib\\subprocess.py\u001b[0m in \u001b[0;36m_execute_child\u001b[1;34m(self, args, executable, preexec_fn, close_fds, pass_fds, cwd, env, startupinfo, creationflags, shell, p2cread, p2cwrite, c2pread, c2pwrite, errread, errwrite, unused_restore_signals, unused_start_new_session)\u001b[0m\n\u001b[0;32m    996\u001b[0m                                          \u001b[0mos\u001b[0m\u001b[1;33m.\u001b[0m\u001b[0mfspath\u001b[0m\u001b[1;33m(\u001b[0m\u001b[0mcwd\u001b[0m\u001b[1;33m)\u001b[0m \u001b[1;32mif\u001b[0m \u001b[0mcwd\u001b[0m \u001b[1;32mis\u001b[0m \u001b[1;32mnot\u001b[0m \u001b[1;32mNone\u001b[0m \u001b[1;32melse\u001b[0m \u001b[1;32mNone\u001b[0m\u001b[1;33m,\u001b[0m\u001b[1;33m\u001b[0m\u001b[0m\n\u001b[1;32m--> 997\u001b[1;33m                                          startupinfo)\n\u001b[0m\u001b[0;32m    998\u001b[0m             \u001b[1;32mfinally\u001b[0m\u001b[1;33m:\u001b[0m\u001b[1;33m\u001b[0m\u001b[0m\n",
      "\u001b[1;31mFileNotFoundError\u001b[0m: [WinError 2] The system cannot find the file specified",
      "\nDuring handling of the above exception, another exception occurred:\n",
      "\u001b[1;31mWebDriverException\u001b[0m                        Traceback (most recent call last)",
      "\u001b[1;32mC:\\ProgramData\\Miniconda3\\lib\\site-packages\\IPython\\core\\formatters.py\u001b[0m in \u001b[0;36m__call__\u001b[1;34m(self, obj, include, exclude)\u001b[0m\n\u001b[0;32m    968\u001b[0m \u001b[1;33m\u001b[0m\u001b[0m\n\u001b[0;32m    969\u001b[0m             \u001b[1;32mif\u001b[0m \u001b[0mmethod\u001b[0m \u001b[1;32mis\u001b[0m \u001b[1;32mnot\u001b[0m \u001b[1;32mNone\u001b[0m\u001b[1;33m:\u001b[0m\u001b[1;33m\u001b[0m\u001b[0m\n\u001b[1;32m--> 970\u001b[1;33m                 \u001b[1;32mreturn\u001b[0m \u001b[0mmethod\u001b[0m\u001b[1;33m(\u001b[0m\u001b[0minclude\u001b[0m\u001b[1;33m=\u001b[0m\u001b[0minclude\u001b[0m\u001b[1;33m,\u001b[0m \u001b[0mexclude\u001b[0m\u001b[1;33m=\u001b[0m\u001b[0mexclude\u001b[0m\u001b[1;33m)\u001b[0m\u001b[1;33m\u001b[0m\u001b[0m\n\u001b[0m\u001b[0;32m    971\u001b[0m             \u001b[1;32mreturn\u001b[0m \u001b[1;32mNone\u001b[0m\u001b[1;33m\u001b[0m\u001b[0m\n\u001b[0;32m    972\u001b[0m         \u001b[1;32melse\u001b[0m\u001b[1;33m:\u001b[0m\u001b[1;33m\u001b[0m\u001b[0m\n",
      "\u001b[1;32mC:\\ProgramData\\Miniconda3\\lib\\site-packages\\altair\\vegalite\\v2\\api.py\u001b[0m in \u001b[0;36m_repr_mimebundle_\u001b[1;34m(self, include, exclude)\u001b[0m\n\u001b[0;32m    914\u001b[0m             \u001b[1;32mreturn\u001b[0m \u001b[1;33m{\u001b[0m\u001b[1;33m}\u001b[0m\u001b[1;33m\u001b[0m\u001b[0m\n\u001b[0;32m    915\u001b[0m         \u001b[1;32melse\u001b[0m\u001b[1;33m:\u001b[0m\u001b[1;33m\u001b[0m\u001b[0m\n\u001b[1;32m--> 916\u001b[1;33m             \u001b[1;32mreturn\u001b[0m \u001b[0mrenderers\u001b[0m\u001b[1;33m.\u001b[0m\u001b[0mget\u001b[0m\u001b[1;33m(\u001b[0m\u001b[1;33m)\u001b[0m\u001b[1;33m(\u001b[0m\u001b[0mdct\u001b[0m\u001b[1;33m)\u001b[0m\u001b[1;33m\u001b[0m\u001b[0m\n\u001b[0m\u001b[0;32m    917\u001b[0m \u001b[1;33m\u001b[0m\u001b[0m\n\u001b[0;32m    918\u001b[0m     \u001b[1;32mdef\u001b[0m \u001b[0mdisplay\u001b[0m\u001b[1;33m(\u001b[0m\u001b[0mself\u001b[0m\u001b[1;33m)\u001b[0m\u001b[1;33m:\u001b[0m\u001b[1;33m\u001b[0m\u001b[0m\n",
      "\u001b[1;32mC:\\ProgramData\\Miniconda3\\lib\\site-packages\\altair\\vegalite\\v2\\display.py\u001b[0m in \u001b[0;36msvg_renderer\u001b[1;34m(spec, **metadata)\u001b[0m\n\u001b[0;32m     64\u001b[0m                               \u001b[0mvegaembed_version\u001b[0m\u001b[1;33m=\u001b[0m\u001b[0mVEGAEMBED_VERSION\u001b[0m\u001b[1;33m,\u001b[0m\u001b[1;33m\u001b[0m\u001b[0m\n\u001b[0;32m     65\u001b[0m                               \u001b[0mvegalite_version\u001b[0m\u001b[1;33m=\u001b[0m\u001b[0mVEGALITE_VERSION\u001b[0m\u001b[1;33m,\u001b[0m\u001b[1;33m\u001b[0m\u001b[0m\n\u001b[1;32m---> 66\u001b[1;33m                               **metadata)\n\u001b[0m\u001b[0;32m     67\u001b[0m \u001b[1;33m\u001b[0m\u001b[0m\n\u001b[0;32m     68\u001b[0m \u001b[1;32mdef\u001b[0m \u001b[0mcolab_renderer\u001b[0m\u001b[1;33m(\u001b[0m\u001b[0mspec\u001b[0m\u001b[1;33m,\u001b[0m \u001b[1;33m**\u001b[0m\u001b[0mmetadata\u001b[0m\u001b[1;33m)\u001b[0m\u001b[1;33m:\u001b[0m\u001b[1;33m\u001b[0m\u001b[0m\n",
      "\u001b[1;32mC:\\ProgramData\\Miniconda3\\lib\\site-packages\\altair\\utils\\mimebundle.py\u001b[0m in \u001b[0;36mspec_to_mimebundle\u001b[1;34m(spec, format, mode, vega_version, vegaembed_version, vegalite_version, **kwargs)\u001b[0m\n\u001b[0;32m     54\u001b[0m                               \u001b[0mvega_version\u001b[0m\u001b[1;33m=\u001b[0m\u001b[0mvega_version\u001b[0m\u001b[1;33m,\u001b[0m\u001b[1;33m\u001b[0m\u001b[0m\n\u001b[0;32m     55\u001b[0m                               \u001b[0mvegaembed_version\u001b[0m\u001b[1;33m=\u001b[0m\u001b[0mvegaembed_version\u001b[0m\u001b[1;33m,\u001b[0m\u001b[1;33m\u001b[0m\u001b[0m\n\u001b[1;32m---> 56\u001b[1;33m                               vegalite_version=vegalite_version, **kwargs)\n\u001b[0m\u001b[0;32m     57\u001b[0m         \u001b[1;32mif\u001b[0m \u001b[0mformat\u001b[0m \u001b[1;33m==\u001b[0m \u001b[1;34m'png'\u001b[0m\u001b[1;33m:\u001b[0m\u001b[1;33m\u001b[0m\u001b[0m\n\u001b[0;32m     58\u001b[0m             \u001b[0mrender\u001b[0m \u001b[1;33m=\u001b[0m \u001b[0mbase64\u001b[0m\u001b[1;33m.\u001b[0m\u001b[0mdecodebytes\u001b[0m\u001b[1;33m(\u001b[0m\u001b[0mrender\u001b[0m\u001b[1;33m.\u001b[0m\u001b[0msplit\u001b[0m\u001b[1;33m(\u001b[0m\u001b[1;34m','\u001b[0m\u001b[1;33m,\u001b[0m \u001b[1;36m1\u001b[0m\u001b[1;33m)\u001b[0m\u001b[1;33m[\u001b[0m\u001b[1;36m1\u001b[0m\u001b[1;33m]\u001b[0m\u001b[1;33m.\u001b[0m\u001b[0mencode\u001b[0m\u001b[1;33m(\u001b[0m\u001b[1;33m)\u001b[0m\u001b[1;33m)\u001b[0m\u001b[1;33m\u001b[0m\u001b[0m\n",
      "\u001b[1;32mC:\\ProgramData\\Miniconda3\\lib\\site-packages\\altair\\utils\\headless.py\u001b[0m in \u001b[0;36mcompile_spec\u001b[1;34m(spec, format, mode, vega_version, vegaembed_version, vegalite_version, scale_factor, driver_timeout, webdriver)\u001b[0m\n\u001b[0;32m    153\u001b[0m             \u001b[0mwebdriver_options\u001b[0m\u001b[1;33m.\u001b[0m\u001b[0madd_argument\u001b[0m\u001b[1;33m(\u001b[0m\u001b[1;34m'--no-sandbox'\u001b[0m\u001b[1;33m)\u001b[0m\u001b[1;33m\u001b[0m\u001b[0m\n\u001b[0;32m    154\u001b[0m \u001b[1;33m\u001b[0m\u001b[0m\n\u001b[1;32m--> 155\u001b[1;33m     \u001b[0mdriver\u001b[0m \u001b[1;33m=\u001b[0m \u001b[0mwebdriver_class\u001b[0m\u001b[1;33m(\u001b[0m\u001b[0moptions\u001b[0m\u001b[1;33m=\u001b[0m\u001b[0mwebdriver_options\u001b[0m\u001b[1;33m)\u001b[0m\u001b[1;33m\u001b[0m\u001b[0m\n\u001b[0m\u001b[0;32m    156\u001b[0m \u001b[1;33m\u001b[0m\u001b[0m\n\u001b[0;32m    157\u001b[0m     \u001b[1;32mtry\u001b[0m\u001b[1;33m:\u001b[0m\u001b[1;33m\u001b[0m\u001b[0m\n",
      "\u001b[1;32mC:\\ProgramData\\Miniconda3\\lib\\site-packages\\selenium\\webdriver\\chrome\\webdriver.py\u001b[0m in \u001b[0;36m__init__\u001b[1;34m(self, executable_path, port, options, service_args, desired_capabilities, service_log_path, chrome_options)\u001b[0m\n\u001b[0;32m     66\u001b[0m             \u001b[0mservice_args\u001b[0m\u001b[1;33m=\u001b[0m\u001b[0mservice_args\u001b[0m\u001b[1;33m,\u001b[0m\u001b[1;33m\u001b[0m\u001b[0m\n\u001b[0;32m     67\u001b[0m             log_path=service_log_path)\n\u001b[1;32m---> 68\u001b[1;33m         \u001b[0mself\u001b[0m\u001b[1;33m.\u001b[0m\u001b[0mservice\u001b[0m\u001b[1;33m.\u001b[0m\u001b[0mstart\u001b[0m\u001b[1;33m(\u001b[0m\u001b[1;33m)\u001b[0m\u001b[1;33m\u001b[0m\u001b[0m\n\u001b[0m\u001b[0;32m     69\u001b[0m \u001b[1;33m\u001b[0m\u001b[0m\n\u001b[0;32m     70\u001b[0m         \u001b[1;32mtry\u001b[0m\u001b[1;33m:\u001b[0m\u001b[1;33m\u001b[0m\u001b[0m\n",
      "\u001b[1;32mC:\\ProgramData\\Miniconda3\\lib\\site-packages\\selenium\\webdriver\\common\\service.py\u001b[0m in \u001b[0;36mstart\u001b[1;34m(self)\u001b[0m\n\u001b[0;32m     81\u001b[0m                 raise WebDriverException(\n\u001b[0;32m     82\u001b[0m                     \"'%s' executable needs to be in PATH. %s\" % (\n\u001b[1;32m---> 83\u001b[1;33m                         os.path.basename(self.path), self.start_error_message)\n\u001b[0m\u001b[0;32m     84\u001b[0m                 )\n\u001b[0;32m     85\u001b[0m             \u001b[1;32melif\u001b[0m \u001b[0merr\u001b[0m\u001b[1;33m.\u001b[0m\u001b[0merrno\u001b[0m \u001b[1;33m==\u001b[0m \u001b[0merrno\u001b[0m\u001b[1;33m.\u001b[0m\u001b[0mEACCES\u001b[0m\u001b[1;33m:\u001b[0m\u001b[1;33m\u001b[0m\u001b[0m\n",
      "\u001b[1;31mWebDriverException\u001b[0m: Message: 'chromedriver' executable needs to be in PATH. Please see https://sites.google.com/a/chromium.org/chromedriver/home\n"
     ]
    },
    {
     "data": {
      "text/plain": [
       "Chart({\n",
       "  data:                            moduleInstanceId qualifierId        parameterId  \\\n",
       "  0   pr.Wind.minDepth.cutfill.volopp.setfill       q.all  m3.minDepth.cut.f   \n",
       "  1   pr.Wind.minDepth.cutfill.volopp.setfill       q.all  m3.minDepth.cut.f   \n",
       "  2   pr.Wind.minDepth.cutfill.volopp.setfill       q.all  m3.minDepth.cut.f   \n",
       "  3   pr.Wind.minDepth.cutfill.volopp.setfill       q.all  m3.minDepth.cut.f   \n",
       "  4   pr.Wind.minDepth.cutfill.volopp.setfill       q.all  m3.minDepth.cut.f   \n",
       "  5   pr.Wind.minDepth.cutfill.volopp.setfill       q.all  m3.minDepth.cut.f   \n",
       "  6   pr.Wind.minDepth.cutfill.volopp.setfill       q.all  m3.minDepth.cut.f   \n",
       "  7   pr.Wind.minDepth.cutfill.volopp.setfill       q.all  m3.minDepth.cut.f   \n",
       "  8   pr.Wind.minDepth.cutfill.volopp.setfill       q.all  m3.minDepth.cut.f   \n",
       "  9   pr.Wind.minDepth.cutfill.volopp.setfill       q.all  m3.minDepth.cut.f   \n",
       "  10  pr.Wind.minDepth.cutfill.volopp.setfill       q.all  m3.minDepth.cut.f   \n",
       "  11  pr.Wind.minDepth.cutfill.volopp.setfill       q.all  m3.minDepth.cut.f   \n",
       "  12  pr.Wind.minDepth.cutfill.volopp.setfill       q.all  m3.minDepth.cut.f   \n",
       "  13  pr.Wind.minDepth.cutfill.volopp.setfill       q.all  m3.minDepth.cut.f   \n",
       "  14  pr.Wind.minDepth.cutfill.volopp.setfill       q.all  m3.minDepth.cut.f   \n",
       "  15  pr.Wind.minDepth.cutfill.volopp.setfill       q.all  m3.minDepth.cut.f   \n",
       "  16  pr.Wind.minDepth.cutfill.volopp.setfill       q.all  m3.minDepth.cut.f   \n",
       "  17  pr.Wind.minDepth.cutfill.volopp.setfill       q.all  m3.minDepth.cut.f   \n",
       "  18  pr.Wind.minDepth.cutfill.volopp.setfill       q.all  m3.minDepth.cut.f   \n",
       "  19  pr.Wind.minDepth.cutfill.volopp.setfill       q.all  m3.minDepth.cut.f   \n",
       "  20  pr.Wind.minDepth.cutfill.volopp.setfill       q.all  m3.minDepth.cut.f   \n",
       "  21  pr.Wind.minDepth.cutfill.volopp.setfill       q.all  m3.minDepth.cut.f   \n",
       "  22  pr.Wind.minDepth.cutfill.volopp.setfill       q.all  m3.minDepth.cut.f   \n",
       "  23  pr.Wind.minDepth.cutfill.volopp.setfill       q.all  m3.minDepth.cut.f   \n",
       "  24  pr.Wind.minDepth.cutfill.volopp.setfill       q.all  m3.minDepth.cut.f   \n",
       "  25  pr.Wind.minDepth.cutfill.volopp.setfill       q.all  m3.minDepth.cut.f   \n",
       "  26  pr.Wind.minDepth.cutfill.volopp.setfill       q.all  m3.minDepth.cut.f   \n",
       "  27  pr.Wind.minDepth.cutfill.volopp.setfill       q.all  m3.minDepth.cut.f   \n",
       "  28  pr.Wind.minDepth.cutfill.volopp.setfill       q.all  m3.minDepth.cut.f   \n",
       "  29  pr.Wind.minDepth.cutfill.volopp.setfill       q.all  m3.minDepth.cut.f   \n",
       "  ..                                      ...         ...                ...   \n",
       "  70  pr.Wind.minDepth.cutfill.volopp.setfill       q.all  m3.minDepth.cut.f   \n",
       "  71  pr.Wind.minDepth.cutfill.volopp.setfill       q.all  m3.minDepth.cut.f   \n",
       "  72  pr.Wind.minDepth.cutfill.volopp.setfill       q.all  m3.minDepth.cut.f   \n",
       "  73  pr.Wind.minDepth.cutfill.volopp.setfill       q.all  m3.minDepth.cut.f   \n",
       "  74  pr.Wind.minDepth.cutfill.volopp.setfill       q.all  m3.minDepth.cut.f   \n",
       "  75  pr.Wind.minDepth.cutfill.volopp.setfill       q.all  m3.minDepth.cut.f   \n",
       "  76  pr.Wind.minDepth.cutfill.volopp.setfill       q.all  m3.minDepth.cut.f   \n",
       "  77  pr.Wind.minDepth.cutfill.volopp.setfill       q.all  m3.minDepth.cut.f   \n",
       "  78  pr.Wind.minDepth.cutfill.volopp.setfill       q.all  m3.minDepth.cut.f   \n",
       "  79  pr.Wind.minDepth.cutfill.volopp.setfill       q.all  m3.minDepth.cut.f   \n",
       "  80  pr.Wind.minDepth.cutfill.volopp.setfill       q.all  m3.minDepth.cut.f   \n",
       "  81  pr.Wind.minDepth.cutfill.volopp.setfill       q.all  m3.minDepth.cut.f   \n",
       "  82  pr.Wind.minDepth.cutfill.volopp.setfill       q.all  m3.minDepth.cut.f   \n",
       "  83  pr.Wind.minDepth.cutfill.volopp.setfill       q.all  m3.minDepth.cut.f   \n",
       "  84  pr.Wind.minDepth.cutfill.volopp.setfill       q.all  m3.minDepth.cut.f   \n",
       "  85  pr.Wind.minDepth.cutfill.volopp.setfill       q.all  m3.minDepth.cut.f   \n",
       "  86  pr.Wind.minDepth.cutfill.volopp.setfill       q.all  m3.minDepth.cut.f   \n",
       "  87  pr.Wind.minDepth.cutfill.volopp.setfill       q.all  m3.minDepth.cut.f   \n",
       "  88  pr.Wind.minDepth.cutfill.volopp.setfill       q.all  m3.minDepth.cut.f   \n",
       "  89  pr.Wind.minDepth.cutfill.volopp.setfill       q.all  m3.minDepth.cut.f   \n",
       "  90  pr.Wind.minDepth.cutfill.volopp.setfill       q.all  m3.minDepth.cut.f   \n",
       "  91  pr.Wind.minDepth.cutfill.volopp.setfill       q.all  m3.minDepth.cut.f   \n",
       "  92  pr.Wind.minDepth.cutfill.volopp.setfill       q.all  m3.minDepth.cut.f   \n",
       "  93  pr.Wind.minDepth.cutfill.volopp.setfill       q.all  m3.minDepth.cut.f   \n",
       "  94  pr.Wind.minDepth.cutfill.volopp.setfill       q.all  m3.minDepth.cut.f   \n",
       "  95  pr.Wind.minDepth.cutfill.volopp.setfill       q.all  m3.minDepth.cut.f   \n",
       "  96  pr.Wind.minDepth.cutfill.volopp.setfill       q.all  m3.minDepth.cut.f   \n",
       "  97  pr.Wind.minDepth.cutfill.volopp.setfill       q.all  m3.minDepth.cut.f   \n",
       "  98  pr.Wind.minDepth.cutfill.volopp.setfill       q.all  m3.minDepth.cut.f   \n",
       "  99  pr.Wind.minDepth.cutfill.volopp.setfill       q.all  m3.minDepth.cut.f   \n",
       "  \n",
       "     units        locationId                                        stationName  \\\n",
       "  0     m3        bv.1.7.1.1                        Den Helder - Texel, Vaarweg   \n",
       "  1     m3    bv.1.7.1.1.1.1                        Den Helder veerhaven, Vak A   \n",
       "  2     m3    bv.1.7.1.1.1.2                        Den Helder veerhaven, Vak B   \n",
       "  3     m3    bv.1.7.1.1.1.3                        Den Helder veerhaven, Vak C   \n",
       "  4     m3    bv.1.7.1.1.2.1                             Texel veerhaven, Vak A   \n",
       "  5     m3    bv.1.7.1.1.2.2                             Texel veerhaven, Vak B   \n",
       "  6     m3    bv.1.7.1.1.2.3                             Texel veerhaven, Vak C   \n",
       "  7     m3    bv.1.7.1.1.2.4                             Texel veerhaven, Vak D   \n",
       "  8     m3    bv.1.7.1.1.2.5                             Texel veerhaven, Vak E   \n",
       "  9     m3    bv.1.7.1.1.2.6                             Texel veerhaven, Vak F   \n",
       "  10    m3        bv.1.7.1.2                              Den Helder - Noordzee   \n",
       "  11    m3      bv.1.7.1.3.1                                    Visjagersgaatje   \n",
       "  12    m3    bv.1.7.1.3.1.A                    Den Helder - Den Oever, Malzwin   \n",
       "  13    m3    bv.1.7.1.3.1.B  Den Helder - Den Oever, Visjagersgaatje -Den O...   \n",
       "  14    m3    bv.1.7.1.3.2.1                            Den Oever, Toegangsgeul   \n",
       "  15    m3    bv.1.7.1.3.2.2                             Den Oever, Buitenhaven   \n",
       "  16    m3    bv.1.7.1.3.2.3                               Den Oever, Voorhaven   \n",
       "  17    m3    bv.1.7.1.3.2.4                            Den Oever, Noorderhaven   \n",
       "  18    m3    bv.1.7.1.3.2.5                             Den Oever, Waddenhaven   \n",
       "  19    m3    bv.1.7.1.3.2.6                            Den Oever, Vissershaven   \n",
       "  20    m3    bv.1.7.1.3.2.7       Den Oever, Bodem bij remmingwerken / steiger   \n",
       "  21    m3    bv.1.7.1.3.2.8       Den Oever, Bodem bij beweegbare brug / sluis   \n",
       "  22    m3    bv.1.7.1.4.1.1                       Kornwerderzand, Toegangsgeul   \n",
       "  23    m3    bv.1.7.1.4.1.2                        Kornwerderzand, Buitenhaven   \n",
       "  24    m3    bv.1.7.1.4.1.3                          Kornwerderzand, Voorhaven   \n",
       "  25    m3    bv.1.7.1.4.1.4  Kornwerderzand, Bodem bij remmingwerken / steiger   \n",
       "  26    m3    bv.1.7.1.4.1.5  Kornwerderzand, Bodem bij beweegbare brug / sluis   \n",
       "  27    m3      bv.1.7.1.4.2                          Breezanddijk Noorderhaven   \n",
       "  28    m3      bv.1.7.1.4.A           Den Helder - Kornwerderzand, Texelstroom   \n",
       "  29    m3      bv.1.7.1.4.B            Den Helder - Kornwerderzand, Doove Balg   \n",
       "  ..   ...               ...                                                ...   \n",
       "  70    m3      bv.1.7.3.1.3                                            Reegeul   \n",
       "  71    m3    bv.1.7.3.1.4.1                           Holwerd, Veerdienst deel   \n",
       "  72    m3    bv.1.7.3.1.4.2                              Holwerd, Rijkssteiger   \n",
       "  73    m3    bv.1.7.3.1.4.3                                  Holwerd, Westkant   \n",
       "  74    m3    bv.1.7.3.1.5.1                               Nes, Veerdienst deel   \n",
       "  75    m3    bv.1.7.3.1.5.2                       Nes, Voormalige rijkssteiger   \n",
       "  76    m3    bv.1.7.3.1.5.3                                  Nes, Toegangsgeul   \n",
       "  77    m3    bv.1.7.3.1.5.4                                      Nes, Oostkant   \n",
       "  78    m3    bv.1.7.3.1.5.5                        Nes, Jachthaven Nes Ameland   \n",
       "  79    m3      bv.1.7.3.1.A                     Holwerd - Ameland, VA13 - VA25   \n",
       "  80    m3      bv.1.7.3.1.B                       Holwerd - Ameland, VA9 - VA6   \n",
       "  81    m3      bv.1.7.3.1.C                   Holwerd - Ameland, VA4 - Reegeul   \n",
       "  82    m3    bv.1.7.3.2.1.1                              Ballumerbocht, Loswal   \n",
       "  83    m3    bv.1.7.3.2.1.2                            Ballumerbocht, Vaargeul   \n",
       "  84    m3      bv.1.7.3.2.A                                 Ameland - Noordzee   \n",
       "  85    m3      bv.1.7.4.1.1                                            Glinder   \n",
       "  86    m3    bv.1.7.4.1.1.A                               Lauwersoog - Glinder   \n",
       "  87    m3    bv.1.7.4.1.1.B                             Glinder - Groote Siege   \n",
       "  88    m3      bv.1.7.4.1.2                                       Groote Siege   \n",
       "  89    m3  bv.1.7.4.1.3.1.A              Schiermonnikoog, Veerdienst deel zuid   \n",
       "  90    m3  bv.1.7.4.1.3.1.B             Schiermonnikoog, Zuidkant Veerdam KNRM   \n",
       "  91    m3  bv.1.7.4.1.3.2.A             Schiermonnikoog, Veerdienst deel noord   \n",
       "  92    m3  bv.1.7.4.1.3.2.B             Schiermonnikoog, Noordkant KNRM Ponton   \n",
       "  93    m3    bv.1.7.4.1.3.3                        Schiermonnikoog, Jachthaven   \n",
       "  94    m3    bv.1.7.4.1.4.1                        Lauwersoog, Veerdienst deel   \n",
       "  95    m3    bv.1.7.4.1.4.2                           Lauwersoog, Toegangsgeul   \n",
       "  96    m3    bv.1.7.4.1.4.3                          Lauwersoog, Visserijhaven   \n",
       "  97    m3        bv.1.7.4.2                              Lauwersoog - Noordzee   \n",
       "  98    m3        bv.1.7.5.1                   Haven Noordpolderzijl, Havendeel   \n",
       "  99    m3        bv.1.7.6.2                                      Schanskerdiep   \n",
       "  \n",
       "      flag  Voorspeld (+10 dagen) volume cut tov NGD (m3)  \n",
       "  0    0.0                                         311.10  \n",
       "  1    0.0                                         417.73  \n",
       "  2    0.0                                           3.13  \n",
       "  3    0.0                                           4.23  \n",
       "  4    0.0                                         372.04  \n",
       "  5    0.0                                         541.98  \n",
       "  6    0.0                                         701.15  \n",
       "  7    0.0                                         866.08  \n",
       "  8    0.0                                           1.26  \n",
       "  9    0.0                                           0.00  \n",
       "  10   0.0                                           0.00  \n",
       "  11   0.0                                           0.00  \n",
       "  12   0.0                                           0.00  \n",
       "  13   0.0                                          33.76  \n",
       "  14   0.0                                          52.46  \n",
       "  15   0.0                                        1682.27  \n",
       "  16   0.0                                        1560.28  \n",
       "  17   0.0                                        9911.01  \n",
       "  18   0.0                                        6541.08  \n",
       "  19   0.0                                         147.04  \n",
       "  20   0.0                                        3228.95  \n",
       "  21   0.0                                         704.54  \n",
       "  22   0.0                                         316.79  \n",
       "  23   0.0                                        1261.53  \n",
       "  24   0.0                                        2215.78  \n",
       "  25   0.0                                        1119.07  \n",
       "  26   0.0                                         264.66  \n",
       "  27   0.0                                         577.22  \n",
       "  28   0.0                                           0.00  \n",
       "  29   0.0                                           0.00  \n",
       "  ..   ...                                            ...  \n",
       "  70   0.0                                         173.40  \n",
       "  71   0.0                                         494.41  \n",
       "  72   0.0                                         254.63  \n",
       "  73   0.0                                          32.77  \n",
       "  74   0.0                                         198.89  \n",
       "  75   0.0                                         124.25  \n",
       "  76   0.0                                           0.00  \n",
       "  77   0.0                                         222.51  \n",
       "  78   0.0                                           0.00  \n",
       "  79   0.0                                          25.85  \n",
       "  80   0.0                                           0.00  \n",
       "  81   0.0                                         678.69  \n",
       "  82   0.0                                         201.03  \n",
       "  83   0.0                                         498.13  \n",
       "  84   0.0                                           0.00  \n",
       "  85   0.0                                           0.00  \n",
       "  86   0.0                                           0.00  \n",
       "  87   0.0                                           0.00  \n",
       "  88   0.0                                           0.00  \n",
       "  89   0.0                                           0.00  \n",
       "  90   0.0                                           0.00  \n",
       "  91   0.0                                           0.00  \n",
       "  92   0.0                                           0.00  \n",
       "  93   0.0                                           0.00  \n",
       "  94   0.0                                           0.00  \n",
       "  95   0.0                                           0.00  \n",
       "  96   0.0                                           0.00  \n",
       "  97   0.0                                           0.00  \n",
       "  98   0.0                                           0.00  \n",
       "  99   0.0                                           0.00  \n",
       "  \n",
       "  [100 rows x 8 columns],\n",
       "  encoding: EncodingWithFacet({\n",
       "    tooltip: [Tooltip({\n",
       "      shorthand: 'locationId'\n",
       "    }), Tooltip({\n",
       "      shorthand: 'stationName'\n",
       "    }), Tooltip({\n",
       "      shorthand: 'Voorspeld (+10 dagen) volume cut tov NGD (m3)'\n",
       "    })],\n",
       "    x: X({\n",
       "      shorthand: 'Voorspeld (+10 dagen) volume cut tov NGD (m3)'\n",
       "    }),\n",
       "    y: Y({\n",
       "      shorthand: 'stationName'\n",
       "    })\n",
       "  }),\n",
       "  mark: 'bar'\n",
       "})"
      ]
     },
     "execution_count": 11,
     "metadata": {},
     "output_type": "execute_result"
    }
   ],
   "source": [
    "fig = alt.Chart(df_fc).mark_bar().encode(\n",
    "    y='stationName',\n",
    "    x='Voorspeld (+10 dagen) volume cut tov NGD (m3)',\n",
    "    tooltip=['locationId', 'stationName', 'Voorspeld (+10 dagen) volume cut tov NGD (m3)']\n",
    ")\n",
    "fig"
   ]
  },
  {
   "cell_type": "code",
   "execution_count": null,
   "metadata": {},
   "outputs": [],
   "source": [
    "alt.renderers.names()\n",
    "alt.renderers.enable('svg')"
   ]
  },
  {
   "cell_type": "code",
   "execution_count": null,
   "metadata": {},
   "outputs": [],
   "source": [
    "\n",
    "from vega_datasets import data\n",
    "\n",
    "alt.Chart(data.cars()).mark_point().encode(\n",
    "    x='Horsepower',\n",
    "    y='Miles_per_Gallon',\n",
    "    color='Origin',\n",
    ").display(renderer='svg') #use 'svg' renderer "
   ]
  },
  {
   "cell_type": "code",
   "execution_count": null,
   "metadata": {},
   "outputs": [],
   "source": []
  },
  {
   "cell_type": "code",
   "execution_count": null,
   "metadata": {},
   "outputs": [],
   "source": []
  },
  {
   "cell_type": "code",
   "execution_count": null,
   "metadata": {},
   "outputs": [],
   "source": [
    "prio_refined = r'D:\\Projects\\Pr\\3317.20\\prioritering\\prioritering_refined.csv'"
   ]
  },
  {
   "cell_type": "code",
   "execution_count": null,
   "metadata": {},
   "outputs": [],
   "source": [
    "df_rf = pd.read_csv(prio_refined)"
   ]
  },
  {
   "cell_type": "code",
   "execution_count": null,
   "metadata": {},
   "outputs": [],
   "source": [
    "df_rf.head()"
   ]
  },
  {
   "cell_type": "code",
   "execution_count": null,
   "metadata": {},
   "outputs": [],
   "source": [
    "df_merge = df_rf.merge(df_fc, how='left', left_on='Objectcode', right_on='locationId')"
   ]
  },
  {
   "cell_type": "code",
   "execution_count": null,
   "metadata": {},
   "outputs": [],
   "source": [
    "df_out = df_merge[['Objectcode', 'Objectnaam', 'Activiteit', 'NGD (-mNAP)', 'OHD (-mNAP)',\n",
    "       'Volume cut tov NGD (m3)', 'Volume cut tov OHD (m3)', 'Voorspeld (+10 dagen) volume cut tov NGD (m3)',\n",
    "       'Percentage cut tov NGD (%)', 'Percentage cut tov OHD (%)',\n",
    "       'Gemiddelde dikte cut tov NGD (cm)',\n",
    "       'Gemiddelde dikte cut tov OHD (cm)'\n",
    "       ]]"
   ]
  },
  {
   "cell_type": "code",
   "execution_count": null,
   "metadata": {},
   "outputs": [],
   "source": []
  }
 ],
 "metadata": {
  "kernelspec": {
   "display_name": "Python 3",
   "language": "python",
   "name": "python3"
  },
  "language_info": {
   "codemirror_mode": {
    "name": "ipython",
    "version": 3
   },
   "file_extension": ".py",
   "mimetype": "text/x-python",
   "name": "python",
   "nbconvert_exporter": "python",
   "pygments_lexer": "ipython3",
   "version": "3.6.5"
  }
 },
 "nbformat": 4,
 "nbformat_minor": 2
}
