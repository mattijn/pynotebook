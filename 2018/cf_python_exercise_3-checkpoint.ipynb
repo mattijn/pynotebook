{
 "cells": [
  {
   "cell_type": "markdown",
   "metadata": {},
   "source": [
    "# cf-python exercises 3"
   ]
  },
  {
   "cell_type": "code",
   "execution_count": 1,
   "metadata": {
    "collapsed": false
   },
   "outputs": [],
   "source": [
    "# import the cf package\n"
   ]
  },
  {
   "cell_type": "code",
   "execution_count": 2,
   "metadata": {
    "collapsed": false
   },
   "outputs": [],
   "source": [
    "# Read the field from file ncas_data/IPSL-CM5A-LR_r1i1p1_tas_n96_rcp45_mnth.nc\n"
   ]
  },
  {
   "cell_type": "code",
   "execution_count": 3,
   "metadata": {
    "collapsed": false
   },
   "outputs": [],
   "source": [
    "# Find the temporal variance at each XY location and plot the result\n",
    "# (use the field's \"collapse\" method with the argument 'T: variance')\n"
   ]
  },
  {
   "cell_type": "code",
   "execution_count": 4,
   "metadata": {
    "collapsed": false
   },
   "outputs": [],
   "source": [
    "# Find the time mean at each X-Y point\n",
    "# (use the field's \"collapse\" method wit the argument 'T: mean')\n"
   ]
  },
  {
   "cell_type": "code",
   "execution_count": 5,
   "metadata": {
    "collapsed": false
   },
   "outputs": [],
   "source": [
    "# Calculate the global mean for each time and print the values for the first 12 times\n",
    "# (use specify the operation as 'X: Y: mean', or equivalently 'area: mean')\n"
   ]
  },
  {
   "cell_type": "code",
   "execution_count": 6,
   "metadata": {
    "collapsed": false
   },
   "outputs": [],
   "source": [
    "# Calculate the weighted global mean for each time and print the valuesfor the first 12 times\n",
    "# (use the \"weights\" parameter of the field's collapse method with the\n",
    "# value ['X', 'Y'] or equivelently the value 'area')\n"
   ]
  },
  {
   "cell_type": "code",
   "execution_count": 7,
   "metadata": {
    "collapsed": false
   },
   "outputs": [],
   "source": [
    "# For each time find the range spanned by the zonal means \n",
    "# (use the argument 'X: mean Y: range')\n"
   ]
  },
  {
   "cell_type": "code",
   "execution_count": 8,
   "metadata": {
    "collapsed": false
   },
   "outputs": [],
   "source": [
    "# Find the temporal minimum of the latitudinal maxima of the longitudinal means \n"
   ]
  },
  {
   "cell_type": "markdown",
   "metadata": {},
   "source": [
    "## Calculate anomalies from the mean"
   ]
  },
  {
   "cell_type": "code",
   "execution_count": 9,
   "metadata": {
    "collapsed": false
   },
   "outputs": [],
   "source": [
    "# Find the time average at each X-Y location, weighted by month lengths\n"
   ]
  },
  {
   "cell_type": "code",
   "execution_count": 10,
   "metadata": {
    "collapsed": false
   },
   "outputs": [],
   "source": [
    "# For each element of the original field, calculate the anomaly from the temporal mean\n",
    "# and print its array of values \n",
    "# (use simple subtraction)\n"
   ]
  },
  {
   "cell_type": "code",
   "execution_count": 11,
   "metadata": {
    "collapsed": false
   },
   "outputs": [],
   "source": [
    "# Plot the anomaly from the mean for the month of April 1966\n",
    "# (April 1966 may be specified as cf.month(4) & cf.year(1966))\n"
   ]
  },
  {
   "cell_type": "markdown",
   "metadata": {},
   "source": [
    "## Climatological time statistics"
   ]
  },
  {
   "cell_type": "code",
   "execution_count": 12,
   "metadata": {
    "collapsed": false
   },
   "outputs": [],
   "source": [
    "# Find the multiannual average of the seasonal (DJF, MAM, etc.) minima and plot the result for JJA \n",
    "# (use the special argument 'T: minimum within years T: mean over years' to the field's \"collapse\" method.\n",
    "#  This requires the \"within_years\" parameter to define over which persios to take the minima within each year.\n",
    "#  Set this parameter to cf.seasons(), which will specify the four seasons of DJF, MAM, JJA, SON)\n"
   ]
  },
  {
   "cell_type": "code",
   "execution_count": 13,
   "metadata": {
    "collapsed": false
   },
   "outputs": [],
   "source": [
    "# Print the new field's time cordiante values and their bounds - note that the bounds span the full 10 years,\n",
    "# but the coordinate values themselves lie in the correct season of the first year\n"
   ]
  },
  {
   "cell_type": "markdown",
   "metadata": {},
   "source": [
    "## Cell methods: describing the variation of the quantity within cells\n",
    "\n",
    "http://cfconventions.org/Data/cf-conventions/cf-conventions-1.7/cf-conventions.html#cell-methods"
   ]
  },
  {
   "cell_type": "code",
   "execution_count": 14,
   "metadata": {
    "collapsed": false
   },
   "outputs": [],
   "source": [
    "# Inspect the original and new fields' cell methods, that describe the variation of the quantity within cells,\n",
    "# i.e. a record of the collapses that have been performed\n",
    "# (use the cell_methods attribute of the field)\n"
   ]
  },
  {
   "cell_type": "markdown",
   "metadata": {
    "collapsed": true
   },
   "source": [
    "## Cell areas and weights"
   ]
  },
  {
   "cell_type": "code",
   "execution_count": 15,
   "metadata": {
    "collapsed": false
   },
   "outputs": [],
   "source": [
    "# Find and plot the horizontal cell areas of the field\n",
    "# (use the field's \"cell_area\" method)\n"
   ]
  },
  {
   "cell_type": "code",
   "execution_count": 16,
   "metadata": {
    "collapsed": false
   },
   "outputs": [],
   "source": [
    "# Find the weights used in time axis collapses\n",
    "# (use the field's weights method and teh cfp.lineplot function on the result)\n"
   ]
  },
  {
   "cell_type": "code",
   "execution_count": 17,
   "metadata": {
    "collapsed": false
   },
   "outputs": [],
   "source": [
    "# Find the weights used in area collapses\n",
    "# (use the field's weights method)\n"
   ]
  },
  {
   "cell_type": "code",
   "execution_count": 18,
   "metadata": {
    "collapsed": false
   },
   "outputs": [],
   "source": [
    "# Look at the help page for the collapse method\n"
   ]
  }
 ],
 "metadata": {
  "anaconda-cloud": {},
  "kernelspec": {
   "display_name": "Python [default]",
   "language": "python",
   "name": "python2"
  },
  "language_info": {
   "codemirror_mode": {
    "name": "ipython",
    "version": 2
   },
   "file_extension": ".py",
   "mimetype": "text/x-python",
   "name": "python",
   "nbconvert_exporter": "python",
   "pygments_lexer": "ipython2",
   "version": "2.7.12"
  }
 },
 "nbformat": 4,
 "nbformat_minor": 2
}
