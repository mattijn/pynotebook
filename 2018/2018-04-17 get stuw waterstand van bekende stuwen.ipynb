{
 "cells": [
  {
   "cell_type": "code",
   "execution_count": 20,
   "metadata": {},
   "outputs": [],
   "source": [
    "import pandas as pd\n",
    "import numpy as np"
   ]
  },
  {
   "cell_type": "code",
   "execution_count": 2,
   "metadata": {},
   "outputs": [],
   "source": [
    "path_stuwen = r'D:\\Projects\\RO\\0815.10 Data Challenge 2018\\2.2 Tijdreeksen_stuwen.csv'"
   ]
  },
  {
   "cell_type": "code",
   "execution_count": 17,
   "metadata": {},
   "outputs": [
    {
     "name": "stderr",
     "output_type": "stream",
     "text": [
      "c:\\python35\\lib\\site-packages\\pandas\\io\\parsers.py:809: FutureWarning: The 'tupleize_cols' argument has been deprecated and will be removed in a future version. Column tuples will then always be converted to MultiIndex.\n",
      "\n",
      "\n",
      "  self.options, self.engine = self._clean_options(options, engine)\n"
     ]
    }
   ],
   "source": [
    "df = pd.read_csv(path_stuwen, sep=';', header=[0,1], tupleize_cols=True)"
   ]
  },
  {
   "cell_type": "code",
   "execution_count": 18,
   "metadata": {},
   "outputs": [],
   "source": [
    "df.columns = pd.MultiIndex.from_tuples(df.columns)"
   ]
  },
  {
   "cell_type": "code",
   "execution_count": 21,
   "metadata": {},
   "outputs": [],
   "source": [
    "for i, col in enumerate(df.columns.levels):\n",
    "    columns = np.where(col.str.contains('Unnamed'), '', col)\n",
    "    df.columns.set_levels(columns, level=i, inplace=True)"
   ]
  },
  {
   "cell_type": "code",
   "execution_count": 32,
   "metadata": {},
   "outputs": [
    {
     "data": {
      "text/plain": [
       "0              -\n",
       "1              -\n",
       "2              -\n",
       "3              -\n",
       "4              -\n",
       "5              -\n",
       "6              -\n",
       "7              -\n",
       "8              -\n",
       "9              -\n",
       "10             -\n",
       "11             -\n",
       "12             -\n",
       "13             -\n",
       "14             -\n",
       "15             -\n",
       "16             -\n",
       "17             -\n",
       "18             -\n",
       "19             -\n",
       "20             -\n",
       "21             -\n",
       "22             -\n",
       "23             -\n",
       "24             -\n",
       "25             -\n",
       "26             -\n",
       "27             -\n",
       "28             -\n",
       "29             -\n",
       "           ...  \n",
       "280450    -0,497\n",
       "280451    -0,495\n",
       "280452    -0,495\n",
       "280453    -0,493\n",
       "280454     -0,49\n",
       "280455    -0,485\n",
       "280456    -0,474\n",
       "280457    -0,465\n",
       "280458    -0,456\n",
       "280459    -0,448\n",
       "280460    -0,439\n",
       "280461     -0,43\n",
       "280462    -0,426\n",
       "280463    -0,421\n",
       "280464    -0,415\n",
       "280465    -0,413\n",
       "280466     -0,41\n",
       "280467    -0,409\n",
       "280468    -0,407\n",
       "280469    -0,408\n",
       "280470    -0,406\n",
       "280471    -0,405\n",
       "280472    -0,406\n",
       "280473    -0,406\n",
       "280474    -0,405\n",
       "280475    -0,404\n",
       "280476    -0,407\n",
       "280477    -0,406\n",
       "280478    -0,409\n",
       "280479     -0,41\n",
       "Name: (Locatie: Stuw Toone, Jan van, Niveau Hbov(mNAP)), Length: 280480, dtype: object"
      ]
     },
     "execution_count": 32,
     "metadata": {},
     "output_type": "execute_result"
    }
   ],
   "source": [
    "df.loc[:,('Locatie: Stuw Toone, Jan van', 'Niveau Hbov(mNAP)')]"
   ]
  },
  {
   "cell_type": "code",
   "execution_count": 31,
   "metadata": {},
   "outputs": [
    {
     "data": {
      "text/plain": [
       "('Locatie: Stuw Toone, Jan van', 'Niveau Hbov(mNAP)')"
      ]
     },
     "execution_count": 31,
     "metadata": {},
     "output_type": "execute_result"
    }
   ],
   "source": [
    "df.columns[1]"
   ]
  },
  {
   "cell_type": "code",
   "execution_count": null,
   "metadata": {},
   "outputs": [],
   "source": []
  }
 ],
 "metadata": {
  "kernelspec": {
   "display_name": "Python 3",
   "language": "python",
   "name": "python3"
  },
  "language_info": {
   "codemirror_mode": {
    "name": "ipython",
    "version": 3
   },
   "file_extension": ".py",
   "mimetype": "text/x-python",
   "name": "python",
   "nbconvert_exporter": "python",
   "pygments_lexer": "ipython3",
   "version": "3.5.2"
  }
 },
 "nbformat": 4,
 "nbformat_minor": 2
}
