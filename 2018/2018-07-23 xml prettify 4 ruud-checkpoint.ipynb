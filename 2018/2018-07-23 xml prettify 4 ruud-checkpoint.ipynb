{
 "cells": [
  {
   "cell_type": "code",
   "execution_count": 12,
   "metadata": {},
   "outputs": [],
   "source": [
    "from xml.dom import minidom\n",
    "import glob, os, sys, time\n",
    "from shutil import copy\n",
    "from xml.etree.ElementTree import parse, Element, SubElement, Comment"
   ]
  },
  {
   "cell_type": "code",
   "execution_count": 25,
   "metadata": {},
   "outputs": [],
   "source": [
    "def prettify(elem):\n",
    "    \"\"\"Return a pretty-printed XML string for the Element.\n",
    "    \"\"\"\n",
    "    rough_string = ElementTree.tostring(elem, 'utf-8')\n",
    "    reparsed = minidom.parseString(rough_string)\n",
    "    dom_string = reparsed.toprettyxml(indent=\"  \", newl='\\n')\n",
    "    dom_string = '\\n'.join([s for s in dom_string.splitlines() if s.strip()])\n",
    "    return dom_string"
   ]
  },
  {
   "cell_type": "code",
   "execution_count": 26,
   "metadata": {},
   "outputs": [],
   "source": [
    "filename = r'T:\\2Mattijn\\timeseries_import_small_v2.xml'\n",
    "tree = parse(filename)\n",
    "elem = tree.getroot()"
   ]
  },
  {
   "cell_type": "code",
   "execution_count": 27,
   "metadata": {},
   "outputs": [
    {
     "name": "stdout",
     "output_type": "stream",
     "text": [
      "<?xml version=\"1.0\" ?>\n",
      "<ns0:TimeSeries version=\"1.2\" xmlns:ns0=\"http://www.wldelft.nl/fews/PI\" xmlns:xsi=\"http://www.w3.org/2001/XMLSchema-instance\" xsi:schemaLocation=\"http://www.wldelft.nl/fews/PI http://fews.wldelft.nl/schemas/version1.0/pi-schemas/pi_timeseries.xsd\">\n",
      "  <ns0:timeZone>0.0</ns0:timeZone>\n",
      "  <ns0:series>\n",
      "    <ns0:header>\n",
      "      <ns0:type>instantaneous</ns0:type>\n",
      "      <ns0:locationId>N_Backup</ns0:locationId>\n",
      "      <ns0:parameterId>dummy</ns0:parameterId>\n",
      "      <ns0:timeStep multiplier=\"300\" unit=\"second\"/>\n",
      "      <ns0:startDate date=\"1988-12-16\" time=\"00:00:00\"/>\n",
      "      <ns0:endDate date=\"1988-12-26\" time=\"00:00:00\"/>\n",
      "      <ns0:missVal>-999.0</ns0:missVal>\n",
      "      <ns0:stationName>Backup station</ns0:stationName>\n",
      "      <ns0:units>m3/s</ns0:units>\n",
      "      <ns0:creationDate>2018-07-18</ns0:creationDate>\n",
      "      <ns0:creationTime>12:42:32</ns0:creationTime>\n",
      "    </ns0:header>\n",
      "    <ns0:event date=\"1988-12-16\" flag=\"8\" time=\"00:00:00\" value=\"-999.0\"/>\n",
      "    <ns0:event date=\"1988-12-16\" flag=\"8\" time=\"00:05:00\" value=\"-999.0\"/>\n",
      "    <ns0:event date=\"1988-12-16\" flag=\"8\" time=\"00:10:00\" value=\"-999.0\"/>\n",
      "    <ns0:event date=\"1988-12-16\" flag=\"8\" time=\"00:15:00\" value=\"-999.0\"/>\n",
      "    <ns0:event date=\"1988-12-16\" flag=\"8\" time=\"00:20:00\" value=\"-999.0\"/>\n",
      "  </ns0:series>\n",
      "</ns0:TimeSeries>\n"
     ]
    }
   ],
   "source": [
    "print(prettify(elem))"
   ]
  },
  {
   "cell_type": "code",
   "execution_count": 28,
   "metadata": {},
   "outputs": [
    {
     "ename": "ImportError",
     "evalue": "No module named 'xml.dom.ext'",
     "output_type": "error",
     "traceback": [
      "\u001b[1;31m---------------------------------------------------------------------------\u001b[0m",
      "\u001b[1;31mImportError\u001b[0m                               Traceback (most recent call last)",
      "\u001b[1;32m<ipython-input-28-ae4ef90c9b42>\u001b[0m in \u001b[0;36m<module>\u001b[1;34m()\u001b[0m\n\u001b[1;32m----> 1\u001b[1;33m \u001b[1;32mfrom\u001b[0m \u001b[0mxml\u001b[0m\u001b[1;33m.\u001b[0m\u001b[0mdom\u001b[0m\u001b[1;33m.\u001b[0m\u001b[0mext\u001b[0m \u001b[1;32mimport\u001b[0m \u001b[0mPrettyPrint\u001b[0m\u001b[1;33m\u001b[0m\u001b[0m\n\u001b[0m",
      "\u001b[1;31mImportError\u001b[0m: No module named 'xml.dom.ext'"
     ]
    }
   ],
   "source": [
    "from xml.dom.ext import PrettyPrint"
   ]
  },
  {
   "cell_type": "code",
   "execution_count": 35,
   "metadata": {},
   "outputs": [],
   "source": [
    "import xml.dom.minidom"
   ]
  },
  {
   "cell_type": "code",
   "execution_count": 36,
   "metadata": {},
   "outputs": [],
   "source": [
    "xml_f = xml.dom.minidom.parse(filename) # or xml.dom.minidom.parseString(xml_string)\n",
    "pretty_xml_as_string = xml_f.toprettyxml()"
   ]
  },
  {
   "cell_type": "code",
   "execution_count": 39,
   "metadata": {},
   "outputs": [
    {
     "name": "stdout",
     "output_type": "stream",
     "text": [
      "<?xml version=\"1.0\" ?>\n",
      "<TimeSeries version=\"1.2\" xmlns=\"http://www.wldelft.nl/fews/PI\" xmlns:xsi=\"http://www.w3.org/2001/XMLSchema-instance\" xsi:schemaLocation=\"http://www.wldelft.nl/fews/PI http://fews.wldelft.nl/schemas/version1.0/pi-schemas/pi_timeseries.xsd\">\n",
      "\t\n",
      "\t\n",
      "\t<timeZone>0.0</timeZone>\n",
      "\t\n",
      "\t\n",
      "\t<series>\n",
      "\t\t\n",
      "\t\t\n",
      "\t\t<header>\n",
      "\t\t\t\n",
      "\t\t\t\n",
      "\t\t\t<type>instantaneous</type>\n",
      "\t\t\t\n",
      "\t\t\t\n",
      "\t\t\t<locationId>N_Backup</locationId>\n",
      "\t\t\t\n",
      "\t\t\t\n",
      "\t\t\t<parameterId>dummy</parameterId>\n",
      "\t\t\t\n",
      "\t\t\t\n",
      "\t\t\t<timeStep multiplier=\"300\" unit=\"second\"/>\n",
      "\t\t\t\n",
      "\t\t\t\n",
      "\t\t\t<startDate date=\"1988-12-16\" time=\"00:00:00\"/>\n",
      "\t\t\t\n",
      "\t\t\t\n",
      "\t\t\t<endDate date=\"1988-12-26\" time=\"00:00:00\"/>\n",
      "\t\t\t\n",
      "\t\t\t\n",
      "\t\t\t<missVal>-999.0</missVal>\n",
      "\t\t\t\n",
      "\t\t\t\n",
      "\t\t\t<stationName>Backup station</stationName>\n",
      "\t\t\t\n",
      "\t\t\t\n",
      "\t\t\t<units>m3/s</units>\n",
      "\t\t\t\n",
      "\t\t\t\n",
      "\t\t\t<creationDate>2018-07-18</creationDate>\n",
      "\t\t\t\n",
      "\t\t\t\n",
      "\t\t\t<creationTime>12:42:32</creationTime>\n",
      "\t\t\t\n",
      "\t\t\n",
      "\t\t</header>\n",
      "\t\t\n",
      "\t\t\n",
      "\t\t<event date=\"1988-12-16\" flag=\"8\" time=\"00:00:00\" value=\"-999.0\"/>\n",
      "\t\t<event date=\"1988-12-16\" flag=\"8\" time=\"00:05:00\" value=\"-999.0\"/>\n",
      "\t\t<event date=\"1988-12-16\" flag=\"8\" time=\"00:10:00\" value=\"-999.0\"/>\n",
      "\t\t<event date=\"1988-12-16\" flag=\"8\" time=\"00:15:00\" value=\"-999.0\"/>\n",
      "\t\t<event date=\"1988-12-16\" flag=\"8\" time=\"00:20:00\" value=\"-999.0\"/>\n",
      "\t\t\n",
      "\t\n",
      "\t</series>\n",
      "\t\n",
      "\n",
      "</TimeSeries>\n",
      "\n"
     ]
    }
   ],
   "source": [
    "print(pretty_xml_as_string)"
   ]
  },
  {
   "cell_type": "code",
   "execution_count": null,
   "metadata": {},
   "outputs": [],
   "source": []
  }
 ],
 "metadata": {
  "kernelspec": {
   "display_name": "Python 3",
   "language": "python",
   "name": "python3"
  },
  "language_info": {
   "codemirror_mode": {
    "name": "ipython",
    "version": 3
   },
   "file_extension": ".py",
   "mimetype": "text/x-python",
   "name": "python",
   "nbconvert_exporter": "python",
   "pygments_lexer": "ipython3",
   "version": "3.5.2"
  }
 },
 "nbformat": 4,
 "nbformat_minor": 2
}
