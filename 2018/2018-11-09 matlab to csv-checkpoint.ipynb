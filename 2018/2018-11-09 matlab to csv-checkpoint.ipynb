{
 "cells": [
  {
   "cell_type": "code",
   "execution_count": 1,
   "metadata": {},
   "outputs": [],
   "source": [
    "import scipy.io as sio\n",
    "import numpy as np\n",
    "import pandas as pd\n",
    "import geopandas as gpd\n",
    "from shapely.geometry import Point\n",
    "import os"
   ]
  },
  {
   "cell_type": "code",
   "execution_count": 2,
   "metadata": {},
   "outputs": [],
   "source": [
    "# load matlab content using scipy\n",
    "file_name = r\"D:\\Projects\\Pr\\3317.30\\Werkfolder\\20180911_nieuwe_grids\\invoer\\data2.mat\"\n",
    "mat_contents = sio.loadmat(file_name)"
   ]
  },
  {
   "cell_type": "code",
   "execution_count": 3,
   "metadata": {},
   "outputs": [],
   "source": [
    "# load matlab tables into numpy arrays\n",
    "data = mat_contents['data']\n",
    "points = mat_contents['points']"
   ]
  },
  {
   "cell_type": "code",
   "execution_count": 4,
   "metadata": {},
   "outputs": [
    {
     "data": {
      "text/plain": [
       "mappingproxy({'corr_r50': (dtype('O'), 0),\n",
       "              'corr_p50': (dtype('O'), 8),\n",
       "              'corr_sig50': (dtype('O'), 16),\n",
       "              'maxcorr_sig50': (dtype('O'), 24),\n",
       "              'coeffs_a50': (dtype('O'), 32),\n",
       "              'coeffs_b50': (dtype('O'), 40),\n",
       "              'corr_r95': (dtype('O'), 48),\n",
       "              'corr_p95': (dtype('O'), 56),\n",
       "              'corr_sig95': (dtype('O'), 64),\n",
       "              'maxcorr_sig95': (dtype('O'), 72),\n",
       "              'coeffs_a95': (dtype('O'), 80),\n",
       "              'coeffs_b95': (dtype('O'), 88)})"
      ]
     },
     "execution_count": 4,
     "metadata": {},
     "output_type": "execute_result"
    }
   ],
   "source": [
    "data.dtype.fields"
   ]
  },
  {
   "cell_type": "code",
   "execution_count": 5,
   "metadata": {},
   "outputs": [],
   "source": [
    "coeffs_a95 = data[0][0][10]\n",
    "coeffs_b95 = data[0][0][11]"
   ]
  },
  {
   "cell_type": "code",
   "execution_count": 6,
   "metadata": {},
   "outputs": [],
   "source": [
    "comb_a95_b95 = np.vstack((coeffs_a95, coeffs_b95))\n",
    "coeffs_a95_b95_pt = np.hstack((comb_a95_b95.T, points))"
   ]
  },
  {
   "cell_type": "code",
   "execution_count": 7,
   "metadata": {},
   "outputs": [],
   "source": [
    "# coeffs_a95_pt = np.hstack((coeffs_a95.T, points))\n",
    "df_a95_b95 = pd.DataFrame(data=coeffs_a95_b95_pt, columns=['A_000-090', 'A_090-180', 'A_180-270', 'A_270-360', 'B_000-090', 'B_090-180', 'B_180-270', 'B_270-360','X', 'Y'])"
   ]
  },
  {
   "cell_type": "code",
   "execution_count": 8,
   "metadata": {},
   "outputs": [
    {
     "data": {
      "text/html": [
       "<div>\n",
       "<style scoped>\n",
       "    .dataframe tbody tr th:only-of-type {\n",
       "        vertical-align: middle;\n",
       "    }\n",
       "\n",
       "    .dataframe tbody tr th {\n",
       "        vertical-align: top;\n",
       "    }\n",
       "\n",
       "    .dataframe thead th {\n",
       "        text-align: right;\n",
       "    }\n",
       "</style>\n",
       "<table border=\"1\" class=\"dataframe\">\n",
       "  <thead>\n",
       "    <tr style=\"text-align: right;\">\n",
       "      <th></th>\n",
       "      <th>A_000-090</th>\n",
       "      <th>A_090-180</th>\n",
       "      <th>A_180-270</th>\n",
       "      <th>A_270-360</th>\n",
       "      <th>B_000-090</th>\n",
       "      <th>B_090-180</th>\n",
       "      <th>B_180-270</th>\n",
       "      <th>B_270-360</th>\n",
       "      <th>X</th>\n",
       "      <th>Y</th>\n",
       "    </tr>\n",
       "  </thead>\n",
       "  <tbody>\n",
       "    <tr>\n",
       "      <th>0</th>\n",
       "      <td>0.0</td>\n",
       "      <td>0.0</td>\n",
       "      <td>0.0</td>\n",
       "      <td>0.0</td>\n",
       "      <td>0.011258</td>\n",
       "      <td>0.018561</td>\n",
       "      <td>0.005439</td>\n",
       "      <td>0.013013</td>\n",
       "      <td>187610.50</td>\n",
       "      <td>601157.50</td>\n",
       "    </tr>\n",
       "    <tr>\n",
       "      <th>1</th>\n",
       "      <td>0.0</td>\n",
       "      <td>0.0</td>\n",
       "      <td>0.0</td>\n",
       "      <td>0.0</td>\n",
       "      <td>0.006679</td>\n",
       "      <td>0.006954</td>\n",
       "      <td>0.005963</td>\n",
       "      <td>0.003600</td>\n",
       "      <td>209178.00</td>\n",
       "      <td>609446.00</td>\n",
       "    </tr>\n",
       "    <tr>\n",
       "      <th>2</th>\n",
       "      <td>NaN</td>\n",
       "      <td>NaN</td>\n",
       "      <td>NaN</td>\n",
       "      <td>NaN</td>\n",
       "      <td>NaN</td>\n",
       "      <td>NaN</td>\n",
       "      <td>NaN</td>\n",
       "      <td>NaN</td>\n",
       "      <td>208887.25</td>\n",
       "      <td>602892.25</td>\n",
       "    </tr>\n",
       "    <tr>\n",
       "      <th>3</th>\n",
       "      <td>NaN</td>\n",
       "      <td>NaN</td>\n",
       "      <td>NaN</td>\n",
       "      <td>NaN</td>\n",
       "      <td>NaN</td>\n",
       "      <td>NaN</td>\n",
       "      <td>NaN</td>\n",
       "      <td>NaN</td>\n",
       "      <td>208887.25</td>\n",
       "      <td>602895.25</td>\n",
       "    </tr>\n",
       "    <tr>\n",
       "      <th>4</th>\n",
       "      <td>NaN</td>\n",
       "      <td>NaN</td>\n",
       "      <td>NaN</td>\n",
       "      <td>NaN</td>\n",
       "      <td>NaN</td>\n",
       "      <td>NaN</td>\n",
       "      <td>NaN</td>\n",
       "      <td>NaN</td>\n",
       "      <td>208887.25</td>\n",
       "      <td>602898.25</td>\n",
       "    </tr>\n",
       "  </tbody>\n",
       "</table>\n",
       "</div>"
      ],
      "text/plain": [
       "   A_000-090  A_090-180  A_180-270  A_270-360  B_000-090  B_090-180  \\\n",
       "0        0.0        0.0        0.0        0.0   0.011258   0.018561   \n",
       "1        0.0        0.0        0.0        0.0   0.006679   0.006954   \n",
       "2        NaN        NaN        NaN        NaN        NaN        NaN   \n",
       "3        NaN        NaN        NaN        NaN        NaN        NaN   \n",
       "4        NaN        NaN        NaN        NaN        NaN        NaN   \n",
       "\n",
       "   B_180-270  B_270-360          X          Y  \n",
       "0   0.005439   0.013013  187610.50  601157.50  \n",
       "1   0.005963   0.003600  209178.00  609446.00  \n",
       "2        NaN        NaN  208887.25  602892.25  \n",
       "3        NaN        NaN  208887.25  602895.25  \n",
       "4        NaN        NaN  208887.25  602898.25  "
      ]
     },
     "execution_count": 8,
     "metadata": {},
     "output_type": "execute_result"
    }
   ],
   "source": [
    "df_a95_b95.head()"
   ]
  },
  {
   "cell_type": "code",
   "execution_count": 9,
   "metadata": {},
   "outputs": [
    {
     "data": {
      "text/plain": [
       "Index(['A_000-090', 'A_090-180', 'A_180-270', 'A_270-360', 'B_000-090',\n",
       "       'B_090-180', 'B_180-270', 'B_270-360', 'X', 'Y'],\n",
       "      dtype='object')"
      ]
     },
     "execution_count": 9,
     "metadata": {},
     "output_type": "execute_result"
    }
   ],
   "source": [
    "df_a95_b95.columns"
   ]
  },
  {
   "cell_type": "code",
   "execution_count": null,
   "metadata": {},
   "outputs": [],
   "source": []
  },
  {
   "cell_type": "code",
   "execution_count": null,
   "metadata": {},
   "outputs": [],
   "source": []
  },
  {
   "cell_type": "code",
   "execution_count": 10,
   "metadata": {},
   "outputs": [
    {
     "name": "stdout",
     "output_type": "stream",
     "text": [
      "A_000-090\n",
      "D:\\Projects\\Pr\\3317.30\\Werkfolder\\20180911_nieuwe_grids\\uitvoer\\ruweData_A\\WD_000_090.csv\n",
      "A_090-180\n",
      "D:\\Projects\\Pr\\3317.30\\Werkfolder\\20180911_nieuwe_grids\\uitvoer\\ruweData_A\\WD_090_180.csv\n",
      "A_180-270\n",
      "D:\\Projects\\Pr\\3317.30\\Werkfolder\\20180911_nieuwe_grids\\uitvoer\\ruweData_A\\WD_180_270.csv\n",
      "A_270-360\n",
      "D:\\Projects\\Pr\\3317.30\\Werkfolder\\20180911_nieuwe_grids\\uitvoer\\ruweData_A\\WD_270_360.csv\n",
      "B_000-090\n",
      "D:\\Projects\\Pr\\3317.30\\Werkfolder\\20180911_nieuwe_grids\\uitvoer\\ruweData_B\\WD_000_090.csv\n",
      "B_090-180\n",
      "D:\\Projects\\Pr\\3317.30\\Werkfolder\\20180911_nieuwe_grids\\uitvoer\\ruweData_B\\WD_090_180.csv\n",
      "B_180-270\n",
      "D:\\Projects\\Pr\\3317.30\\Werkfolder\\20180911_nieuwe_grids\\uitvoer\\ruweData_B\\WD_180_270.csv\n",
      "B_270-360\n",
      "D:\\Projects\\Pr\\3317.30\\Werkfolder\\20180911_nieuwe_grids\\uitvoer\\ruweData_B\\WD_270_360.csv\n"
     ]
    }
   ],
   "source": [
    "base_dir =  r\"D:\\Projects\\Pr\\3317.30\\Werkfolder\\20180911_nieuwe_grids\\uitvoer\"\n",
    "for coefdir in ['A_000-090', 'A_090-180', 'A_180-270', 'A_270-360', 'B_000-090','B_090-180', 'B_180-270', 'B_270-360']:\n",
    "    print(coefdir)\n",
    "    df_sel = df_a95_b95[['X', 'Y', coefdir]]\n",
    "    df_sel.columns = ['X', 'Y', 'Z']\n",
    "    \n",
    "    if 'A' in coefdir:\n",
    "        if '000-090' in coefdir:\n",
    "            file_out = os.path.join(base_dir, 'ruweData_A', 'WD_000_090.csv')\n",
    "        if '090-180' in coefdir:        \n",
    "            file_out = os.path.join(base_dir, 'ruweData_A', 'WD_090_180.csv')        \n",
    "        if '180-270' in coefdir:\n",
    "            file_out = os.path.join(base_dir, 'ruweData_A', 'WD_180_270.csv')        \n",
    "        if '270-360' in coefdir:\n",
    "            file_out = os.path.join(base_dir, 'ruweData_A', 'WD_270_360.csv')\n",
    "    if 'B' in coefdir:\n",
    "        if '000-090' in coefdir:\n",
    "            file_out = os.path.join(base_dir, 'ruweData_B', 'WD_000_090.csv')\n",
    "        if '090-180' in coefdir:        \n",
    "            file_out = os.path.join(base_dir, 'ruweData_B', 'WD_090_180.csv')        \n",
    "        if '180-270' in coefdir:\n",
    "            file_out = os.path.join(base_dir, 'ruweData_B', 'WD_180_270.csv')        \n",
    "        if '270-360' in coefdir:\n",
    "            file_out = os.path.join(base_dir, 'ruweData_B', 'WD_270_360.csv') \n",
    "    \n",
    "    print(file_out)\n",
    "    df_sel.to_csv(file_out, index=False)"
   ]
  },
  {
   "cell_type": "code",
   "execution_count": null,
   "metadata": {},
   "outputs": [],
   "source": []
  },
  {
   "cell_type": "code",
   "execution_count": null,
   "metadata": {},
   "outputs": [],
   "source": [
    "df_a95_b95.to_csv(r\"D:\\Projects\\Pr\\3317.30\\Werkfolder\\20180911_nieuwe_grids/coeffs_A_B_4_wdirs.csv\", index=False)"
   ]
  },
  {
   "cell_type": "code",
   "execution_count": null,
   "metadata": {},
   "outputs": [],
   "source": [
    "# # following creates a GeoDataFrame so it can be saved as shapefile\n",
    "# rd_string = (\"+proj=sterea +lat_0=52.15616055555555 +lon_0=5.38763888888889 \"\n",
    "#              \"+k=0.999908 +x_0=155000 +y_0=463000 +ellps=bessel +units=m \" \n",
    "#              \"+towgs84=565.2369,50.0087,465.658,-0.406857330322398,0.350732676542563,-1.8703473836068,4.0812 \"\n",
    "#              \"+no_defs +no_defs\")\n",
    "\n",
    "# # parse to geometry\n",
    "# geometry = [Point(xy) for xy in zip(df_a95['X'], df_a95['Y'])]\n",
    "# df_a = df_a95.drop(['X', 'Y'], axis=1)\n",
    "# gdf_a = gpd.GeoDataFrame(df_a, crs=rd_string, geometry=geometry)"
   ]
  },
  {
   "cell_type": "code",
   "execution_count": null,
   "metadata": {},
   "outputs": [],
   "source": [
    "# # save as shapefile\n",
    "# gdf_a.to_file(r\"D:\\Projects\\Pr\\3317.30\\Werkfolder\\20180911_nieuwe_grids/points_a_4_wdirs.shp\")"
   ]
  },
  {
   "cell_type": "code",
   "execution_count": null,
   "metadata": {},
   "outputs": [],
   "source": []
  }
 ],
 "metadata": {
  "kernelspec": {
   "display_name": "Python 3",
   "language": "python",
   "name": "python3"
  },
  "language_info": {
   "codemirror_mode": {
    "name": "ipython",
    "version": 3
   },
   "file_extension": ".py",
   "mimetype": "text/x-python",
   "name": "python",
   "nbconvert_exporter": "python",
   "pygments_lexer": "ipython3",
   "version": "3.6.5"
  }
 },
 "nbformat": 4,
 "nbformat_minor": 2
}
