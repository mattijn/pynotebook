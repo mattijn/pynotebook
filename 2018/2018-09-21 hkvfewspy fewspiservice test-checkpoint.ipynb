{
 "cells": [
  {
   "cell_type": "code",
   "execution_count": 1,
   "metadata": {},
   "outputs": [],
   "source": [
    "import hkvfewspy as fewspy\n",
    "from datetime import datetime\n",
    "import pandas as pd\n",
    "import altair as alt\n",
    "from datetime import datetime"
   ]
  },
  {
   "cell_type": "code",
   "execution_count": 2,
   "metadata": {},
   "outputs": [],
   "source": [
    "# set client\n",
    "pi = fewspy.Pi()\n",
    "#pi.setClient(wsdl='http://localhost:8200/FewsPiService?wsdl')\n",
    "pi.setClient(wsdl='http://172.17.40.13:8080/FewsWebServices/fewspiservice?wsdl')"
   ]
  },
  {
   "cell_type": "code",
   "execution_count": 3,
   "metadata": {},
   "outputs": [],
   "source": [
    "# get filter\n",
    "filters = pi.getFilters()\n",
    "filter_id = filters.f_fewsPi['id']"
   ]
  },
  {
   "cell_type": "code",
   "execution_count": 4,
   "metadata": {},
   "outputs": [
    {
     "data": {
      "text/html": [
       "<div>\n",
       "<style scoped>\n",
       "    .dataframe tbody tr th:only-of-type {\n",
       "        vertical-align: middle;\n",
       "    }\n",
       "\n",
       "    .dataframe tbody tr th {\n",
       "        vertical-align: top;\n",
       "    }\n",
       "\n",
       "    .dataframe thead th {\n",
       "        text-align: right;\n",
       "    }\n",
       "</style>\n",
       "<table border=\"1\" class=\"dataframe\">\n",
       "  <thead>\n",
       "    <tr style=\"text-align: right;\">\n",
       "      <th></th>\n",
       "      <th>value</th>\n",
       "      <th>user</th>\n",
       "    </tr>\n",
       "  </thead>\n",
       "  <tbody>\n",
       "    <tr>\n",
       "      <th>2018-03-01</th>\n",
       "      <td>71</td>\n",
       "      <td>hoek</td>\n",
       "    </tr>\n",
       "    <tr>\n",
       "      <th>2018-03-02</th>\n",
       "      <td>67</td>\n",
       "      <td>hoek</td>\n",
       "    </tr>\n",
       "    <tr>\n",
       "      <th>2018-03-03</th>\n",
       "      <td>54</td>\n",
       "      <td>hoek</td>\n",
       "    </tr>\n",
       "    <tr>\n",
       "      <th>2018-03-04</th>\n",
       "      <td>34</td>\n",
       "      <td>hoek</td>\n",
       "    </tr>\n",
       "    <tr>\n",
       "      <th>2018-03-05</th>\n",
       "      <td>69</td>\n",
       "      <td>hoek</td>\n",
       "    </tr>\n",
       "  </tbody>\n",
       "</table>\n",
       "</div>"
      ],
      "text/plain": [
       "            value  user\n",
       "2018-03-01     71  hoek\n",
       "2018-03-02     67  hoek\n",
       "2018-03-03     54  hoek\n",
       "2018-03-04     34  hoek\n",
       "2018-03-05     69  hoek"
      ]
     },
     "execution_count": 4,
     "metadata": {},
     "output_type": "execute_result"
    }
   ],
   "source": [
    "# write pandas.DataFrame\n",
    "df = pd.DataFrame(data=pd.np.random.randint(0, 100, size=(10,1)), \n",
    "                  index=pd.date_range(start='2018-03-01', periods=10, freq='D'),\n",
    "                  columns=['value'])\n",
    "df['user'] = 'hoek'\n",
    "df.head()"
   ]
  },
  {
   "cell_type": "code",
   "execution_count": 5,
   "metadata": {},
   "outputs": [],
   "source": [
    "# set some variable settings\n",
    "module_instance_id = 'i_wav_streamflow'\n",
    "location_id = 'awash_awash'\n",
    "qualifier_id = 'q_streamflow'\n",
    "parameter_id = 'Q.STAT'"
   ]
  },
  {
   "cell_type": "code",
   "execution_count": 6,
   "metadata": {},
   "outputs": [],
   "source": [
    "# create pi-timeseries object\n",
    "pi_ts = pi.setPiTimeSeries()\n",
    "\n",
    "# set a header object\n",
    "pi_ts.write.header.moduleInstanceId(module_instance_id)\n",
    "pi_ts.write.header.locationId(location_id)\n",
    "pi_ts.write.header.qualifierId(qualifier_id)\n",
    "pi_ts.write.header.parameterId(parameter_id)\n",
    "\n",
    "# set an events object (pandas.Series or pandas.DataFrame)\n",
    "pi_ts.write.events(df)\n",
    "pi_ts_xml = pi_ts.to.pi_xml()"
   ]
  },
  {
   "cell_type": "code",
   "execution_count": 7,
   "metadata": {},
   "outputs": [
    {
     "name": "stdout",
     "output_type": "stream",
     "text": [
      "External time series successfully mapped to FEWS time series awash_awash Q.STAT   q_streamflow nonequidistant\n",
      "1 time series imported, 0 time series rejected\n",
      "The following locations-parameter combination imported  awash_awash:Q.STAT\n"
     ]
    }
   ],
   "source": [
    "# ingest pi-timeseries into fews\n",
    "pi.putTimeSeriesForFilter(\n",
    "    filterId=filter_id, \n",
    "    piTimeSeriesXmlContent=pi_ts.to.pi_xml()\n",
    ")"
   ]
  },
  {
   "cell_type": "code",
   "execution_count": 8,
   "metadata": {},
   "outputs": [],
   "source": [
    "# start and end date\n",
    "start_date = df.index[0]\n",
    "end_date = df.index[-1]"
   ]
  },
  {
   "cell_type": "code",
   "execution_count": 9,
   "metadata": {},
   "outputs": [],
   "source": [
    "# initiate query object\n",
    "query = pi.setQueryParameters()"
   ]
  },
  {
   "cell_type": "code",
   "execution_count": 10,
   "metadata": {},
   "outputs": [],
   "source": [
    "# fill query object\n",
    "query.filterId(filter_id)\n",
    "query.parameterIds(parameter_id)\n",
    "query.locationIds(location_id)\n",
    "query.startTime(start_date)\n",
    "query.endTime(end_date)\n",
    "query.clientTimeZone('Europe/Amsterdam')"
   ]
  },
  {
   "cell_type": "code",
   "execution_count": 11,
   "metadata": {},
   "outputs": [],
   "source": [
    "# query timeseries\n",
    "df_query = pi.getTimeSeries(queryParameters=query, setFormat='df')"
   ]
  },
  {
   "cell_type": "code",
   "execution_count": 12,
   "metadata": {},
   "outputs": [
    {
     "data": {
      "text/html": [
       "<div>\n",
       "<style scoped>\n",
       "    .dataframe tbody tr th:only-of-type {\n",
       "        vertical-align: middle;\n",
       "    }\n",
       "\n",
       "    .dataframe tbody tr th {\n",
       "        vertical-align: top;\n",
       "    }\n",
       "\n",
       "    .dataframe thead th {\n",
       "        text-align: right;\n",
       "    }\n",
       "</style>\n",
       "<table border=\"1\" class=\"dataframe\">\n",
       "  <thead>\n",
       "    <tr style=\"text-align: right;\">\n",
       "      <th></th>\n",
       "      <th></th>\n",
       "      <th></th>\n",
       "      <th></th>\n",
       "      <th></th>\n",
       "      <th></th>\n",
       "      <th></th>\n",
       "      <th>flag</th>\n",
       "      <th>user</th>\n",
       "      <th>value</th>\n",
       "    </tr>\n",
       "    <tr>\n",
       "      <th>date</th>\n",
       "      <th>moduleInstanceId</th>\n",
       "      <th>qualifierId</th>\n",
       "      <th>parameterId</th>\n",
       "      <th>units</th>\n",
       "      <th>locationId</th>\n",
       "      <th>stationName</th>\n",
       "      <th></th>\n",
       "      <th></th>\n",
       "      <th></th>\n",
       "    </tr>\n",
       "  </thead>\n",
       "  <tbody>\n",
       "    <tr>\n",
       "      <th>2018-03-01 01:00:00+01:00</th>\n",
       "      <th>i_wav_streamflow</th>\n",
       "      <th>q_streamflow</th>\n",
       "      <th>Q.STAT</th>\n",
       "      <th>m3/s</th>\n",
       "      <th>awash_awash</th>\n",
       "      <th>awash_awash</th>\n",
       "      <td>0</td>\n",
       "      <td>hoek</td>\n",
       "      <td>71</td>\n",
       "    </tr>\n",
       "    <tr>\n",
       "      <th>2018-03-02 01:00:00+01:00</th>\n",
       "      <th>i_wav_streamflow</th>\n",
       "      <th>q_streamflow</th>\n",
       "      <th>Q.STAT</th>\n",
       "      <th>m3/s</th>\n",
       "      <th>awash_awash</th>\n",
       "      <th>awash_awash</th>\n",
       "      <td>0</td>\n",
       "      <td>hoek</td>\n",
       "      <td>67</td>\n",
       "    </tr>\n",
       "    <tr>\n",
       "      <th>2018-03-03 01:00:00+01:00</th>\n",
       "      <th>i_wav_streamflow</th>\n",
       "      <th>q_streamflow</th>\n",
       "      <th>Q.STAT</th>\n",
       "      <th>m3/s</th>\n",
       "      <th>awash_awash</th>\n",
       "      <th>awash_awash</th>\n",
       "      <td>0</td>\n",
       "      <td>hoek</td>\n",
       "      <td>54</td>\n",
       "    </tr>\n",
       "    <tr>\n",
       "      <th>2018-03-04 01:00:00+01:00</th>\n",
       "      <th>i_wav_streamflow</th>\n",
       "      <th>q_streamflow</th>\n",
       "      <th>Q.STAT</th>\n",
       "      <th>m3/s</th>\n",
       "      <th>awash_awash</th>\n",
       "      <th>awash_awash</th>\n",
       "      <td>0</td>\n",
       "      <td>hoek</td>\n",
       "      <td>34</td>\n",
       "    </tr>\n",
       "    <tr>\n",
       "      <th>2018-03-05 01:00:00+01:00</th>\n",
       "      <th>i_wav_streamflow</th>\n",
       "      <th>q_streamflow</th>\n",
       "      <th>Q.STAT</th>\n",
       "      <th>m3/s</th>\n",
       "      <th>awash_awash</th>\n",
       "      <th>awash_awash</th>\n",
       "      <td>0</td>\n",
       "      <td>hoek</td>\n",
       "      <td>69</td>\n",
       "    </tr>\n",
       "  </tbody>\n",
       "</table>\n",
       "</div>"
      ],
      "text/plain": [
       "                                                                                                  flag  \\\n",
       "date                      moduleInstanceId qualifierId  parameterId units locationId  stationName        \n",
       "2018-03-01 01:00:00+01:00 i_wav_streamflow q_streamflow Q.STAT      m3/s  awash_awash awash_awash    0   \n",
       "2018-03-02 01:00:00+01:00 i_wav_streamflow q_streamflow Q.STAT      m3/s  awash_awash awash_awash    0   \n",
       "2018-03-03 01:00:00+01:00 i_wav_streamflow q_streamflow Q.STAT      m3/s  awash_awash awash_awash    0   \n",
       "2018-03-04 01:00:00+01:00 i_wav_streamflow q_streamflow Q.STAT      m3/s  awash_awash awash_awash    0   \n",
       "2018-03-05 01:00:00+01:00 i_wav_streamflow q_streamflow Q.STAT      m3/s  awash_awash awash_awash    0   \n",
       "\n",
       "                                                                                                   user  \\\n",
       "date                      moduleInstanceId qualifierId  parameterId units locationId  stationName         \n",
       "2018-03-01 01:00:00+01:00 i_wav_streamflow q_streamflow Q.STAT      m3/s  awash_awash awash_awash  hoek   \n",
       "2018-03-02 01:00:00+01:00 i_wav_streamflow q_streamflow Q.STAT      m3/s  awash_awash awash_awash  hoek   \n",
       "2018-03-03 01:00:00+01:00 i_wav_streamflow q_streamflow Q.STAT      m3/s  awash_awash awash_awash  hoek   \n",
       "2018-03-04 01:00:00+01:00 i_wav_streamflow q_streamflow Q.STAT      m3/s  awash_awash awash_awash  hoek   \n",
       "2018-03-05 01:00:00+01:00 i_wav_streamflow q_streamflow Q.STAT      m3/s  awash_awash awash_awash  hoek   \n",
       "\n",
       "                                                                                                  value  \n",
       "date                      moduleInstanceId qualifierId  parameterId units locationId  stationName        \n",
       "2018-03-01 01:00:00+01:00 i_wav_streamflow q_streamflow Q.STAT      m3/s  awash_awash awash_awash    71  \n",
       "2018-03-02 01:00:00+01:00 i_wav_streamflow q_streamflow Q.STAT      m3/s  awash_awash awash_awash    67  \n",
       "2018-03-03 01:00:00+01:00 i_wav_streamflow q_streamflow Q.STAT      m3/s  awash_awash awash_awash    54  \n",
       "2018-03-04 01:00:00+01:00 i_wav_streamflow q_streamflow Q.STAT      m3/s  awash_awash awash_awash    34  \n",
       "2018-03-05 01:00:00+01:00 i_wav_streamflow q_streamflow Q.STAT      m3/s  awash_awash awash_awash    69  "
      ]
     },
     "execution_count": 12,
     "metadata": {},
     "output_type": "execute_result"
    }
   ],
   "source": [
    "# print first five rows\n",
    "df_query.head()"
   ]
  }
 ],
 "metadata": {
  "kernelspec": {
   "display_name": "Python 3",
   "language": "python",
   "name": "python3"
  },
  "language_info": {
   "codemirror_mode": {
    "name": "ipython",
    "version": 3
   },
   "file_extension": ".py",
   "mimetype": "text/x-python",
   "name": "python",
   "nbconvert_exporter": "python",
   "pygments_lexer": "ipython3",
   "version": "3.6.5"
  }
 },
 "nbformat": 4,
 "nbformat_minor": 2
}
