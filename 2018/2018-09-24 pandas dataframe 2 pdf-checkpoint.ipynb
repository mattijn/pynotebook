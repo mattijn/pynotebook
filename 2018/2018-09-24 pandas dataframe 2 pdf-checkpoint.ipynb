{
 "cells": [
  {
   "cell_type": "code",
   "execution_count": 1,
   "metadata": {},
   "outputs": [],
   "source": [
    "import pandas as pd"
   ]
  },
  {
   "cell_type": "code",
   "execution_count": 2,
   "metadata": {},
   "outputs": [
    {
     "data": {
      "text/html": [
       "<div>\n",
       "<style scoped>\n",
       "    .dataframe tbody tr th:only-of-type {\n",
       "        vertical-align: middle;\n",
       "    }\n",
       "\n",
       "    .dataframe tbody tr th {\n",
       "        vertical-align: top;\n",
       "    }\n",
       "\n",
       "    .dataframe thead th {\n",
       "        text-align: right;\n",
       "    }\n",
       "</style>\n",
       "<table border=\"1\" class=\"dataframe\">\n",
       "  <thead>\n",
       "    <tr style=\"text-align: right;\">\n",
       "      <th></th>\n",
       "      <th>value</th>\n",
       "      <th>flag</th>\n",
       "      <th>user</th>\n",
       "      <th>comment</th>\n",
       "    </tr>\n",
       "  </thead>\n",
       "  <tbody>\n",
       "    <tr>\n",
       "      <th>2018-03-01</th>\n",
       "      <td>12</td>\n",
       "      <td>0</td>\n",
       "      <td>61</td>\n",
       "      <td>None</td>\n",
       "    </tr>\n",
       "    <tr>\n",
       "      <th>2018-03-02</th>\n",
       "      <td>21</td>\n",
       "      <td>0</td>\n",
       "      <td>96</td>\n",
       "      <td>None</td>\n",
       "    </tr>\n",
       "    <tr>\n",
       "      <th>2018-03-03</th>\n",
       "      <td>80</td>\n",
       "      <td>0</td>\n",
       "      <td>77</td>\n",
       "      <td>None</td>\n",
       "    </tr>\n",
       "    <tr>\n",
       "      <th>2018-03-04</th>\n",
       "      <td>13</td>\n",
       "      <td>0</td>\n",
       "      <td>16</td>\n",
       "      <td>None</td>\n",
       "    </tr>\n",
       "    <tr>\n",
       "      <th>2018-03-05</th>\n",
       "      <td>37</td>\n",
       "      <td>0</td>\n",
       "      <td>9</td>\n",
       "      <td>None</td>\n",
       "    </tr>\n",
       "  </tbody>\n",
       "</table>\n",
       "</div>"
      ],
      "text/plain": [
       "            value  flag  user comment\n",
       "2018-03-01     12     0    61    None\n",
       "2018-03-02     21     0    96    None\n",
       "2018-03-03     80     0    77    None\n",
       "2018-03-04     13     0    16    None\n",
       "2018-03-05     37     0     9    None"
      ]
     },
     "execution_count": 2,
     "metadata": {},
     "output_type": "execute_result"
    }
   ],
   "source": [
    "# # create some series\n",
    "# s = pd.Series(data=pd.np.random.randint(0,100, size=(10)), \n",
    "#               index=pd.date_range(start='2018-03-01', periods=10, freq='D'),\n",
    "#               name='value')\n",
    "# s.plot()\n",
    "# write pandas.DataFrame\n",
    "df = pd.DataFrame(data=pd.np.random.randint(0, 100, size=(10,4)), \n",
    "                  index=pd.date_range(start='2018-03-01', periods=10, freq='D'),\n",
    "                  columns=['value', 'flag', 'user', 'comment'])\n",
    "df['flag'] = 0\n",
    "#df['user'] = 'hoek'\n",
    "df['comment'] = None\n",
    "\n",
    "df.head()"
   ]
  },
  {
   "cell_type": "code",
   "execution_count": 4,
   "metadata": {},
   "outputs": [
    {
     "name": "stdout",
     "output_type": "stream",
     "text": [
      "\\begin{tabular}{lrrrl}\n",
      "\\toprule\n",
      "{} &  value &  flag &  user & comment \\\\\n",
      "\\midrule\n",
      "2018-03-01 &     12 &     0 &    61 &    None \\\\\n",
      "2018-03-02 &     21 &     0 &    96 &    None \\\\\n",
      "2018-03-03 &     80 &     0 &    77 &    None \\\\\n",
      "2018-03-04 &     13 &     0 &    16 &    None \\\\\n",
      "2018-03-05 &     37 &     0 &     9 &    None \\\\\n",
      "2018-03-06 &      5 &     0 &    21 &    None \\\\\n",
      "2018-03-07 &      2 &     0 &    17 &    None \\\\\n",
      "2018-03-08 &     79 &     0 &    47 &    None \\\\\n",
      "2018-03-09 &     29 &     0 &    91 &    None \\\\\n",
      "2018-03-10 &      0 &     0 &    97 &    None \\\\\n",
      "\\bottomrule\n",
      "\\end{tabular}\n",
      "\n"
     ]
    }
   ],
   "source": [
    "print(df.to_latex())"
   ]
  },
  {
   "cell_type": "code",
   "execution_count": null,
   "metadata": {},
   "outputs": [],
   "source": []
  }
 ],
 "metadata": {
  "kernelspec": {
   "display_name": "Python 3",
   "language": "python",
   "name": "python3"
  },
  "language_info": {
   "codemirror_mode": {
    "name": "ipython",
    "version": 3
   },
   "file_extension": ".py",
   "mimetype": "text/x-python",
   "name": "python",
   "nbconvert_exporter": "python",
   "pygments_lexer": "ipython3",
   "version": "3.6.5"
  }
 },
 "nbformat": 4,
 "nbformat_minor": 2
}
