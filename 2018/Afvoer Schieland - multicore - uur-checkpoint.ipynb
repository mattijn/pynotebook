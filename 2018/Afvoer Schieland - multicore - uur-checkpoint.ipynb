{
 "cells": [
  {
   "cell_type": "code",
   "execution_count": 1,
   "metadata": {
    "hideCode": false,
    "hidePrompt": false
   },
   "outputs": [],
   "source": [
    "#import section\n",
    "import pandas as pd\n",
    "import numpy as np\n",
    "import os\n",
    "from datetime import datetime\n",
    "import hkvsobekpy as hkv\n",
    "import seaborn as sns\n",
    "import matplotlib.pyplot as plt\n",
    "from matplotlib.ticker import FormatStrFormatter\n",
    "plt.style.use('ggplot')\n",
    "plt.style.use('seaborn-poster') \n",
    "\n",
    "%matplotlib inline"
   ]
  },
  {
   "cell_type": "code",
   "execution_count": 2,
   "metadata": {
    "hideCode": false,
    "hidePrompt": false
   },
   "outputs": [],
   "source": [
    "# # define function\n",
    "# def readGem(sbkDir, sbkFle, sbkLoc, dteFrom, dteTo):\n",
    "#     \"\"\"\n",
    "#     Read parameter from sobek outputfile\n",
    "\n",
    "#     Parameters\n",
    "#     ----------\n",
    "#     sbkDir : sobek directory\n",
    "#     \"\"\"\n",
    "    \n",
    "#     rdFlow = hkv.read_his.ReadMetadata(os.path.join(sbkDir, sbkFle))\n",
    "#     locaties = np.asarray(rdFlow.GetLocations())\n",
    "#     tijdstappen = rdFlow.GetTimestamps()\n",
    "#     parameters = rdFlow.GetParameters()\n",
    "        \n",
    "#     uitlezen = (np.intersect1d(locaties, sbkLoc)).tolist()\n",
    "#     df_Hour = rdFlow.MultiWaardenArray(uitlezen,parameters,startMMdd=(1, 1),endMMdd=(12, 31),jaarmax_as='none',drop_lege_jaren=False)\n",
    "#     df_Hour = df_Hour.loc[dteFrom:dteTo, :] \n",
    "        \n",
    "#     return df_Hour"
   ]
  },
  {
   "cell_type": "code",
   "execution_count": 3,
   "metadata": {
    "hideCode": false,
    "hidePrompt": false
   },
   "outputs": [],
   "source": [
    "from_date = '2016-03-31'\n",
    "from_date = datetime.strptime(from_date,'%Y-%m-%d')\n",
    "to_date   = '2016-11-1'\n",
    "to_date = datetime.strptime(to_date, '%Y-%m-%d')"
   ]
  },
  {
   "cell_type": "code",
   "execution_count": 4,
   "metadata": {
    "hideCode": false,
    "hidePrompt": false
   },
   "outputs": [],
   "source": [
    "sobek_path = r'P:\\PR\\3777.10\\Werk\\notebooks\\data\\HHSKRAIN.lit\\9'\n",
    "output_path = r'D:\\jupyter notebooks\\3777.10 WSA Schieland\\test'\n",
    "lstColor = ['C5','C4','C3','C2','C1']"
   ]
  },
  {
   "cell_type": "code",
   "execution_count": 5,
   "metadata": {},
   "outputs": [],
   "source": [
    "# init reading his structure (time consuming, try to execute this part only once)\n",
    "pump_his = hkv.read_his.ReadMetadata(os.path.join(sobek_path, 'PUMP.HIS'))"
   ]
  },
  {
   "cell_type": "code",
   "execution_count": 6,
   "metadata": {},
   "outputs": [
    {
     "name": "stderr",
     "output_type": "stream",
     "text": [
      "C:\\ProgramData\\Miniconda3\\lib\\site-packages\\hkvsobekpy\\io\\his.py:351: UserWarning: this function will deprecate in the future, use function hkvsobekpy.GetLocations\n",
      "  warnings.warn(\"this function will deprecate in the future, use function hkvsobekpy.GetLocations\")\n"
     ]
    }
   ],
   "source": [
    "# structure is known, parse in once to dataframe (this is quick)\n",
    "df_pump = pump_his.DataFrame()\n",
    "locs = pump_his.KrijgLokaties()"
   ]
  },
  {
   "cell_type": "code",
   "execution_count": 7,
   "metadata": {},
   "outputs": [],
   "source": [
    "file = r'D:\\jupyter notebooks\\3777.10 WSA Schieland\\PR3777.10 Waterbalans\\conf\\Overzicht_gemalen.csv'\n",
    "df_data = pd.read_csv(file, header=0)\n",
    "\n",
    "#df_select = df_data[(df_data['Code'] == 'KGM-15')]\n",
    "for locid, df_select in df_data.groupby('Code') :\n",
    "    Gemaal = df_select.iloc[0]['Code']\n",
    "    Gebied =  df_select.iloc[0]['Gemaal']\n",
    "    Gemaal_GB =['{}'.format(Gemaal), '{}p1'.format(Gemaal), '{}p2'.format(Gemaal), '{}p3'.format(Gemaal), '{}p4'.format(Gemaal)] \n",
    "    Inlaat_GB =['f{}'.format(Gemaal), 'i{}'.format(Gemaal), '{}_i'.format(Gemaal)]\n",
    "    \n",
    "    locs_pump_GB = (np.intersect1d(locs, Gemaal_GB)).tolist()    \n",
    "    locs_inlt_GB = (np.intersect1d(locs, Inlaat_GB)).tolist()\n",
    "    \n",
    "    # parse dataframe locaties `Gemaal_GB`\n",
    "    df_gemaal_gb_alldates = df_pump.loc[:, pd.IndexSlice[:, locs_pump_GB]]\n",
    "    df_pump_GB6 = df_gemaal_gb_alldates[from_date:to_date]   \n",
    "    \n",
    "    # parse dataframe locaties `Inlaat_GB`\n",
    "    df_inlaat_gb_alldates = df_pump.loc[:, pd.IndexSlice[:, locs_inlt_GB]]\n",
    "    df_inlt_GB6 = df_inlaat_gb_alldates[from_date:to_date]"
   ]
  },
  {
   "cell_type": "markdown",
   "metadata": {},
   "source": [
    "## Afvoer (gemaal)"
   ]
  },
  {
   "cell_type": "code",
   "execution_count": 39,
   "metadata": {},
   "outputs": [],
   "source": [
    "file = r'D:\\jupyter notebooks\\3777.10 WSA Schieland\\PR3777.10 Waterbalans\\conf\\Overzicht_gemalen.csv'\n",
    "df_data = pd.read_csv(file, header=0)\n",
    "\n",
    "#df_select = df_data[(df_data['Code'] == 'KGM-15')]\n",
    "for locid, df_select in df_data.groupby('Code') :\n",
    "    Gemaal = df_select.iloc[0]['Code']\n",
    "    Gebied =  df_select.iloc[0]['Gemaal']\n",
    "    Gemaal_GB =['{}'.format(Gemaal), '{}p1'.format(Gemaal), '{}p2'.format(Gemaal), '{}p3'.format(Gemaal), '{}p4'.format(Gemaal)] \n",
    "    Inlaat_GB =['f{}'.format(Gemaal), 'i{}'.format(Gemaal), '{}_i'.format(Gemaal)]\n",
    "    \n",
    "    locs_pump_GB = (np.intersect1d(locs, Gemaal_GB)).tolist()    \n",
    "    locs_inlt_GB = (np.intersect1d(locs, Inlaat_GB)).tolist()\n",
    "    \n",
    "    # parse dataframe locaties `Gemaal_GB`\n",
    "    df_gemaal_gb_alldates = df_pump.loc[:, pd.IndexSlice[:, locs_pump_GB]]\n",
    "    df_pump_GB6 = df_gemaal_gb_alldates[from_date:to_date]   \n",
    "    \n",
    "    # parse dataframe locaties `Inlaat_GB`\n",
    "    df_inlaat_gb_alldates = df_pump.loc[:, pd.IndexSlice[:, locs_inlt_GB]]\n",
    "    df_inlt_GB6 = df_inlaat_gb_alldates[from_date:to_date]\n",
    "    \n",
    "    #figuur waterstand polder\n",
    "    fig1 = plt.figure(figsize = (15,8))\n",
    "    #waterstand polder\n",
    "    plt.plot(df_pump_GB6.index.values, df_pump_GB6[('Suction-Side Level (m AD)', df_select.iloc[0]['Code'])], color=lstColor[4], label = 'ws polder')\n",
    "    #streefpeil polder\n",
    "    df_dum = df_pump_GB6[('Suction-Side Level (m AD)', df_select.iloc[0]['Code'])]*0 +  df_select.iloc[0]['St_peil']\n",
    "    plt.plot(df_dum.index.values, df_dum[:], label = 'streefpeil polder', color=lstColor[1])\n",
    "    #in- en uitslagpeil polder    \n",
    "    i_pump=-1\n",
    "    for idx, row in df_select.iterrows():\n",
    "        i_pump +=1\n",
    "        df_dum = df_pump_GB6[('Suction-Side Level (m AD)', row['Code'])]*0 +  row['In_peil']\n",
    "        plt.plot(df_dum.index.values, df_dum[:], color=lstColor[i_pump], linestyle=':', label = 'inslag{}'.format(row['Cd_pomp']))\n",
    "        df_dum = df_pump_GB6[('Suction-Side Level (m AD)', row['Code'])]*0 +  row['Uit_peil']\n",
    "        plt.plot(df_dum.index.values, df_dum[:], color=lstColor[i_pump], linestyle='--', label = 'uitslag{}'.format(row['Cd_pomp']))\n",
    "    #opmaak grafiek\n",
    "    grfTitle = 'Gemaal %s %s-%s waterstand'%(df_select.iloc[0]['Gemaal'],str(from_date)[0:4],str(to_date)[0:4])\n",
    "    plt.title(grfTitle, fontsize = 20)\n",
    "    plt.ylabel('m+NAP', fontsize = 18)\n",
    "\n",
    "    # ylim is ±0.5m NAP streefpeil \n",
    "    plt.ylim(df_dum.mean() - 0.5, df_dum.mean() + 0.5)\n",
    "\n",
    "    leg = plt.legend(fontsize = 16,frameon=True)\n",
    "    #leg.set_title(title='overloopdebiet', prop = {'size':'xx-large'})\n",
    "    frame = leg.get_frame()\n",
    "    frame.set_color('white')\n",
    "\n",
    "    #plt.legend(loc = 'best', fontsize = 16)\n",
    "    plt.savefig(os.path.join(output_path, grfTitle))\n",
    "    fig1.clear()\n",
    "    plt.close()\n",
    "    #plt.show()   \n",
    "    \n",
    "    #figuur waterstand boezem\n",
    "    fig2 = plt.figure(figsize = (15,8))\n",
    "    plt.plot(df_pump_GB6.index.values, df_pump_GB6[('Delivery-Side Level (m AD)',df_select.iloc[0]['Code'])], color=lstColor[4], label = 'ws boezem')\n",
    "    #streefpeil boezem\n",
    "    df_dum = df_pump_GB6[('Suction-Side Level (m AD)', df_select.iloc[0]['Code'])]*0 +  df_select.iloc[0]['Bo_peil']\n",
    "    plt.plot(df_dum.index.values, df_dum[:], label = 'streefpeil boezem', color=lstColor[1])\n",
    "    #opmaak grafiek\n",
    "    grfTitle = 'Gemaal %s %s-%s boezem'%(df_select.iloc[0]['Gemaal'],str(from_date)[0:4],str(to_date)[0:4])\n",
    "    plt.title(grfTitle, fontsize = 20)\n",
    "    plt.ylabel('m+NAP', fontsize = 18)\n",
    "\n",
    "    # ylim is ±0.5m NAP streefpeil \n",
    "    plt.ylim(df_dum.mean() - 0.5, df_dum.mean() + 0.5)\n",
    "\n",
    "    #plt.legend(loc = 'best', fontsize = 16)\n",
    "    leg = plt.legend(fontsize = 16,frameon=True)\n",
    "    #leg.set_title(title='overloopdebiet', prop = {'size':'xx-large'})\n",
    "    frame = leg.get_frame()\n",
    "    frame.set_color('white')\n",
    "    plt.savefig(os.path.join(output_path, grfTitle))\n",
    "    fig2.clear() \n",
    "    plt.close()\n",
    "    #plt.tight_layout()\n",
    "    #plt.show()    \n",
    "    \n",
    "    #figuur afvoer polder\n",
    "    fig3 = plt.figure(figsize = (15,8))\n",
    "    plt.plot(df_pump_GB6.index.values, df_pump_GB6[('Pump Discharge (m3/s)')].sum(axis=1), label = 'Afvoer', color=lstColor[4])\n",
    "    #pompcapacitiet polder\n",
    "    cp_pump = 0\n",
    "    for idx, row in df_select.iterrows():\n",
    "        cp_pump += row['Cp_pomp']\n",
    "        df_dum = df_pump_GB6[('Pump Discharge (m3/s)')].sum(axis=1)*0 + cp_pump\n",
    "        plt.plot(df_dum.index.values, df_dum[:], label = 'capaciteit {}'.format(row['Cd_pomp']), linestyle=':')\n",
    "    #opmaak grafiek\n",
    "    grfTitle = 'Gemaal %s %s-%s afvoer'%(df_select.iloc[0]['Gemaal'],str(from_date)[0:4],str(to_date)[0:4])\n",
    "    plt.title(grfTitle, fontsize = 20)\n",
    "    plt.ylabel('m3/s', fontsize = 18)\n",
    "    leg = plt.legend(fontsize = 16,frameon=True)\n",
    "    #leg.set_title(title='overloopdebiet', prop = {'size':'xx-large'})\n",
    "    frame = leg.get_frame()\n",
    "    frame.set_color('white')\n",
    "    #plt.legend(loc = 'best', fontsize = 16)\n",
    "    plt.savefig(os.path.join(output_path, grfTitle))\n",
    "    fig3.clear()\n",
    "    plt.close()\n",
    "    #plt.show()\n",
    "    \n",
    "     #figuur inlaat polder\n",
    "    fig4 = plt.figure(figsize = (15,8))\n",
    "    plt.plot(df_inlt_GB6.index.values, df_inlt_GB6[('Pump Discharge (m3/s)')].sum(axis=1), label = 'Inlaat', color=lstColor[4])\n",
    "    #pompcapacitiet polder\n",
    "    cp_inlt = 0\n",
    "    for idx, row in df_select.iterrows():\n",
    "        cp_inlt += row['Cp_inlt']\n",
    "        df_dum = df_inlt_GB6[('Pump Discharge (m3/s)')].sum(axis=1)*0 + cp_inlt\n",
    "        plt.plot(df_dum.index.values, df_dum[:], label = 'capaciteit {}'.format(row['Cd_pomp']), linestyle=':')\n",
    "    #opmaak grafiek\n",
    "    grfTitle = 'Gemaal %s %s-%s inlaat'%(df_select.iloc[0]['Gemaal'],str(from_date)[0:4],str(to_date)[0:4])\n",
    "    plt.title(grfTitle, fontsize = 20)\n",
    "    plt.ylabel('m3/s', fontsize = 18)\n",
    "    leg = plt.legend(fontsize = 16,frameon=True)\n",
    "    #leg.set_title(title='overloopdebiet', prop = {'size':'xx-large'})\n",
    "    frame = leg.get_frame()\n",
    "    frame.set_color('white')\n",
    "    plt.savefig(os.path.join(output_path, grfTitle))  \n",
    "    fig4.clear()\n",
    "    plt.close()"
   ]
  },
  {
   "cell_type": "code",
   "execution_count": null,
   "metadata": {},
   "outputs": [],
   "source": []
  }
 ],
 "metadata": {
  "hide_code_all_hidden": false,
  "kernelspec": {
   "display_name": "Python 3",
   "language": "python",
   "name": "python3"
  },
  "language_info": {
   "codemirror_mode": {
    "name": "ipython",
    "version": 3
   },
   "file_extension": ".py",
   "mimetype": "text/x-python",
   "name": "python",
   "nbconvert_exporter": "python",
   "pygments_lexer": "ipython3",
   "version": "3.6.5"
  }
 },
 "nbformat": 4,
 "nbformat_minor": 2
}
