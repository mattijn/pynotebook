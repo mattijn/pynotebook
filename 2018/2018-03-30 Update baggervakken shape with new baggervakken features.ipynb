{
 "cells": [
  {
   "cell_type": "code",
   "execution_count": 1,
   "metadata": {
    "hideCode": false,
    "hidePrompt": false
   },
   "outputs": [],
   "source": [
    "import geopandas as gpd\n",
    "import shapely\n",
    "import glob\n",
    "from shapely.geometry import Polygon\n",
    "import pandas as pd\n",
    "import numpy as np\n",
    "%matplotlib inline"
   ]
  },
  {
   "cell_type": "code",
   "execution_count": 2,
   "metadata": {
    "hideCode": false,
    "hidePrompt": false
   },
   "outputs": [],
   "source": [
    "rd_string = (\"+proj=sterea +lat_0=52.15616055555555 +lon_0=5.38763888888889 \"\n",
    "             \"+k=0.999908 +x_0=155000 +y_0=463000 +ellps=bessel +units=m \"\n",
    "             \"+towgs84=565.2369,50.0087,465.658,-0.406857330322398,0.350732676542563,-1.8703473836068,4.0812 \"\n",
    "             \"+no_defs +no_defs\")"
   ]
  },
  {
   "cell_type": "code",
   "execution_count": 79,
   "metadata": {
    "hideCode": false,
    "hidePrompt": false
   },
   "outputs": [
    {
     "name": "stdout",
     "output_type": "stream",
     "text": [
      "['D:\\\\Projects\\\\Pr\\\\3317.30\\\\Toelevering\\\\2018-03-22 wijziging baggervak\\\\later\\\\10. 1.7.2.3.1.B Harlingen - Noordzee, Blauwe Slenk\\\\180321_BS-Noordzee_RD\\\\1.7.2.3.1.B_180321_BS-Noordzee_RD.shp', 'D:\\\\Projects\\\\Pr\\\\3317.30\\\\Toelevering\\\\2018-03-22 wijziging baggervak\\\\later\\\\19. 1.7.2.1.1.B Harlingen - Terschelling, Schuitengat\\\\180321_Terschelling, Schuitengat_RD\\\\1.7.2.1.1.B_180321_Terschelling, Schuitengat_RD.shp'] 2\n"
     ]
    }
   ],
   "source": [
    "path = r'D:\\Projects\\Pr\\3317.30\\Toelevering\\2018-03-22 wijziging baggervak\\later'\n",
    "shp_files = glob.glob(r'{}\\**\\*.shp'.format(path), recursive=True)\n",
    "print(shp_files, len(shp_files))"
   ]
  },
  {
   "cell_type": "code",
   "execution_count": 91,
   "metadata": {},
   "outputs": [],
   "source": [
    "gdf_comb = gpd.GeoDataFrame()"
   ]
  },
  {
   "cell_type": "code",
   "execution_count": 92,
   "metadata": {
    "hideCode": false,
    "hidePrompt": false
   },
   "outputs": [
    {
     "name": "stdout",
     "output_type": "stream",
     "text": [
      "0 D:\\Projects\\Pr\\3317.30\\Toelevering\\2018-03-22 wijziging baggervak\\later\\10. 1.7.2.3.1.B Harlingen - Noordzee, Blauwe Slenk\\180321_BS-Noordzee_RD\\1.7.2.3.1.B_180321_BS-Noordzee_RD.shp\n",
      "1 D:\\Projects\\Pr\\3317.30\\Toelevering\\2018-03-22 wijziging baggervak\\later\\19. 1.7.2.1.1.B Harlingen - Terschelling, Schuitengat\\180321_Terschelling, Schuitengat_RD\\1.7.2.1.1.B_180321_Terschelling, Schuitengat_RD.shp\n"
     ]
    }
   ],
   "source": [
    "for idx, shp in enumerate(shp_files):\n",
    "    print(idx, shp)\n",
    "    \n",
    "    gdf = gpd.read_file(shp)\n",
    "    gdf.crs = rd_string\n",
    "\n",
    "    end = 21000101\n",
    "    start = 20180401\n",
    "\n",
    "    if '1.7.2.3.1.B_180321_BS-Noordzee_RD' in shp:\n",
    "        start = 20171117    \n",
    "        objectcode = '1.7.2.3.1.B'    \n",
    "    \n",
    "    if '1.7.2.1.1.B_180321_Terschelling' in shp:\n",
    "#         start = 20171117    \n",
    "        objectcode = '1.7.2.1.1.B'       \n",
    "    \n",
    "    if '1.7.1.3.1.B_180321_DH-DO-VJG-DO_RD' in shp:\n",
    "#         start = 20171117    \n",
    "        objectcode = '1.7.1.3.1.B'  \n",
    "    \n",
    "    if '1.7.2.3.1_PD' in shp:\n",
    "#         start = 20171117    \n",
    "        objectcode = '1.7.2.3.1'      \n",
    "    \n",
    "    if '1.7.2.3.3_180321_Pannegat_RD' in shp:\n",
    "#         start = 20171117    \n",
    "        objectcode = '1.7.2.3.3'  \n",
    "    \n",
    "    if '1.7.2.1.1_180321_Slenk_RD' in shp:\n",
    "#         start = 20170927    \n",
    "        objectcode = '1.7.2.1.1'\n",
    "\n",
    "    if '1.7.4.1.1_180321_Glinder_RD' in shp:\n",
    "#         start = 20171117\n",
    "        objectcode = '1.7.4.1.1'\n",
    "\n",
    "    if '1.7.2.1.1.A_180321_West' in shp:\n",
    "#         start = 20170927\n",
    "        objectcode = '1.7.2.1.1.A'    \n",
    "\n",
    "\n",
    "    gdf.loc[0,'geometry'] = Polygon(gdf.geometry[0])    \n",
    "    gdf['START'] = pd.Series([start], index=gdf.index)\n",
    "    gdf['END'] = pd.Series([end], index=gdf.index)\n",
    "    gdf['OBJECTCODE'] = pd.Series([objectcode], index=gdf.index)\n",
    "    \n",
    "    gdf_comb = gdf_comb.append(gdf)#, ignore_index=True)"
   ]
  },
  {
   "cell_type": "code",
   "execution_count": 93,
   "metadata": {
    "hideCode": false,
    "hidePrompt": false
   },
   "outputs": [
    {
     "data": {
      "text/html": [
       "<div>\n",
       "<style scoped>\n",
       "    .dataframe tbody tr th:only-of-type {\n",
       "        vertical-align: middle;\n",
       "    }\n",
       "\n",
       "    .dataframe tbody tr th {\n",
       "        vertical-align: top;\n",
       "    }\n",
       "\n",
       "    .dataframe thead th {\n",
       "        text-align: right;\n",
       "    }\n",
       "</style>\n",
       "<table border=\"1\" class=\"dataframe\">\n",
       "  <thead>\n",
       "    <tr style=\"text-align: right;\">\n",
       "      <th></th>\n",
       "      <th>geometry</th>\n",
       "      <th>START</th>\n",
       "      <th>END</th>\n",
       "      <th>OBJECTCODE</th>\n",
       "    </tr>\n",
       "  </thead>\n",
       "  <tbody>\n",
       "    <tr>\n",
       "      <th>0</th>\n",
       "      <td>POLYGON ((149448.361 580248.868, 149248.334 58...</td>\n",
       "      <td>20171117</td>\n",
       "      <td>21000101</td>\n",
       "      <td>1.7.2.3.1.B</td>\n",
       "    </tr>\n",
       "    <tr>\n",
       "      <th>0</th>\n",
       "      <td>POLYGON ((143852.9513721167 596378.7145864532,...</td>\n",
       "      <td>20180401</td>\n",
       "      <td>21000101</td>\n",
       "      <td>1.7.2.1.1.B</td>\n",
       "    </tr>\n",
       "  </tbody>\n",
       "</table>\n",
       "</div>"
      ],
      "text/plain": [
       "                                            geometry     START       END  \\\n",
       "0  POLYGON ((149448.361 580248.868, 149248.334 58...  20171117  21000101   \n",
       "0  POLYGON ((143852.9513721167 596378.7145864532,...  20180401  21000101   \n",
       "\n",
       "    OBJECTCODE  \n",
       "0  1.7.2.3.1.B  \n",
       "0  1.7.2.1.1.B  "
      ]
     },
     "execution_count": 93,
     "metadata": {},
     "output_type": "execute_result"
    }
   ],
   "source": [
    "gdf_comb"
   ]
  },
  {
   "cell_type": "code",
   "execution_count": 94,
   "metadata": {
    "hideCode": false,
    "hidePrompt": false
   },
   "outputs": [
    {
     "data": {
      "text/plain": [
       "<matplotlib.axes._subplots.AxesSubplot at 0xa5d75f8>"
      ]
     },
     "execution_count": 94,
     "metadata": {},
     "output_type": "execute_result"
    },
    {
     "data": {
      "image/png": "[encoded data removed]",
      "text/plain": [
       "<matplotlib.figure.Figure at 0xa5c3780>"
      ]
     },
     "metadata": {},
     "output_type": "display_data"
    }
   ],
   "source": [
    "gdf_comb.plot()"
   ]
  },
  {
   "cell_type": "code",
   "execution_count": 96,
   "metadata": {
    "hideCode": false,
    "hidePrompt": false
   },
   "outputs": [
    {
     "data": {
      "text/html": [
       "<div>\n",
       "<style scoped>\n",
       "    .dataframe tbody tr th:only-of-type {\n",
       "        vertical-align: middle;\n",
       "    }\n",
       "\n",
       "    .dataframe tbody tr th {\n",
       "        vertical-align: top;\n",
       "    }\n",
       "\n",
       "    .dataframe thead th {\n",
       "        text-align: right;\n",
       "    }\n",
       "</style>\n",
       "<table border=\"1\" class=\"dataframe\">\n",
       "  <thead>\n",
       "    <tr style=\"text-align: right;\">\n",
       "      <th></th>\n",
       "      <th>ACTIVITEIT</th>\n",
       "      <th>AREA_REAL</th>\n",
       "      <th>DEFAULT_1</th>\n",
       "      <th>DIEPTE_MAX</th>\n",
       "      <th>DIEPTE_MIN</th>\n",
       "      <th>END</th>\n",
       "      <th>FRQ_EXC_50</th>\n",
       "      <th>FRQ_INC_50</th>\n",
       "      <th>FRQ_SURV</th>\n",
       "      <th>GUN_DAGEN</th>\n",
       "      <th>...</th>\n",
       "      <th>TYPEOBJ</th>\n",
       "      <th>WBO_CONCL</th>\n",
       "      <th>WBO_DAGEN</th>\n",
       "      <th>WBO_FILE</th>\n",
       "      <th>WBO_GELDIG</th>\n",
       "      <th>WBO_M_DAT</th>\n",
       "      <th>WBO_R_DAT</th>\n",
       "      <th>X_LABEL</th>\n",
       "      <th>Y_LABEL</th>\n",
       "      <th>geometry</th>\n",
       "    </tr>\n",
       "  </thead>\n",
       "  <tbody>\n",
       "    <tr>\n",
       "      <th>0</th>\n",
       "      <td>Taak</td>\n",
       "      <td>482619.0</td>\n",
       "      <td>1.0</td>\n",
       "      <td>8.0</td>\n",
       "      <td>7.5</td>\n",
       "      <td>21000101</td>\n",
       "      <td>4</td>\n",
       "      <td>2</td>\n",
       "      <td>6</td>\n",
       "      <td>-999</td>\n",
       "      <td>...</td>\n",
       "      <td>vaarweg</td>\n",
       "      <td>Verspreidbaar</td>\n",
       "      <td>404</td>\n",
       "      <td>KRD15-8600-6024-RAP-013a_harlingen-terschellin...</td>\n",
       "      <td>43030.0</td>\n",
       "      <td>42299.0</td>\n",
       "      <td>42332.0</td>\n",
       "      <td>149590.0</td>\n",
       "      <td>579048.0</td>\n",
       "      <td>POLYGON ((149442.7124357932 580249.0740603911,...</td>\n",
       "    </tr>\n",
       "    <tr>\n",
       "      <th>1</th>\n",
       "      <td>Raamact.</td>\n",
       "      <td>130307.0</td>\n",
       "      <td>1.0</td>\n",
       "      <td>4.0</td>\n",
       "      <td>3.5</td>\n",
       "      <td>21000101</td>\n",
       "      <td>4</td>\n",
       "      <td>2</td>\n",
       "      <td>6</td>\n",
       "      <td>-999</td>\n",
       "      <td>...</td>\n",
       "      <td>vaarweg</td>\n",
       "      <td>Verspreidbaar</td>\n",
       "      <td>401</td>\n",
       "      <td>DOM15-8600-6024-RAP-012a_den_oever-noordzee.pdf</td>\n",
       "      <td>43027.0</td>\n",
       "      <td>42296.0</td>\n",
       "      <td>42319.0</td>\n",
       "      <td>130187.0</td>\n",
       "      <td>552283.0</td>\n",
       "      <td>POLYGON ((129625.932283378 552658.7841377998, ...</td>\n",
       "    </tr>\n",
       "    <tr>\n",
       "      <th>2</th>\n",
       "      <td>Taak</td>\n",
       "      <td>228640.0</td>\n",
       "      <td>1.0</td>\n",
       "      <td>4.0</td>\n",
       "      <td>3.8</td>\n",
       "      <td>20180209</td>\n",
       "      <td>12</td>\n",
       "      <td>4</td>\n",
       "      <td>12</td>\n",
       "      <td>-999</td>\n",
       "      <td>...</td>\n",
       "      <td>vaarweg</td>\n",
       "      <td>Verspreidbaar</td>\n",
       "      <td>403</td>\n",
       "      <td>KRD15-8600-6024-RAP-014a_holwerd-ameland.pdf</td>\n",
       "      <td>43029.0</td>\n",
       "      <td>42298.0</td>\n",
       "      <td>42325.0</td>\n",
       "      <td>185655.0</td>\n",
       "      <td>601008.0</td>\n",
       "      <td>POLYGON ((185317.6546756364 601556.7232466646,...</td>\n",
       "    </tr>\n",
       "    <tr>\n",
       "      <th>3</th>\n",
       "      <td>Taak</td>\n",
       "      <td>29066.0</td>\n",
       "      <td>1.0</td>\n",
       "      <td>4.0</td>\n",
       "      <td>3.8</td>\n",
       "      <td>20180209</td>\n",
       "      <td>12</td>\n",
       "      <td>4</td>\n",
       "      <td>12</td>\n",
       "      <td>-999</td>\n",
       "      <td>...</td>\n",
       "      <td>vaarweg</td>\n",
       "      <td>Verspreidbaar</td>\n",
       "      <td>403</td>\n",
       "      <td>KRD15-8600-6024-RAP-014a_holwerd-ameland.pdf</td>\n",
       "      <td>43029.0</td>\n",
       "      <td>42298.0</td>\n",
       "      <td>42325.0</td>\n",
       "      <td>181012.0</td>\n",
       "      <td>604198.0</td>\n",
       "      <td>POLYGON ((181240.1501464844 604087.0973510742,...</td>\n",
       "    </tr>\n",
       "    <tr>\n",
       "      <th>4</th>\n",
       "      <td>Taak</td>\n",
       "      <td>38258.0</td>\n",
       "      <td>1.0</td>\n",
       "      <td>4.0</td>\n",
       "      <td>3.8</td>\n",
       "      <td>20180209</td>\n",
       "      <td>12</td>\n",
       "      <td>4</td>\n",
       "      <td>12</td>\n",
       "      <td>-999</td>\n",
       "      <td>...</td>\n",
       "      <td>vaarweg</td>\n",
       "      <td>Verspreidbaar</td>\n",
       "      <td>403</td>\n",
       "      <td>KRD15-8600-6024-RAP-014a_holwerd-ameland.pdf</td>\n",
       "      <td>43029.0</td>\n",
       "      <td>42298.0</td>\n",
       "      <td>42298.0</td>\n",
       "      <td>180144.0</td>\n",
       "      <td>604998.0</td>\n",
       "      <td>POLYGON ((180660.1662909701 605207.5438269211,...</td>\n",
       "    </tr>\n",
       "  </tbody>\n",
       "</table>\n",
       "<p>5 rows × 40 columns</p>\n",
       "</div>"
      ],
      "text/plain": [
       "  ACTIVITEIT  AREA_REAL  DEFAULT_1 DIEPTE_MAX DIEPTE_MIN       END FRQ_EXC_50  \\\n",
       "0       Taak   482619.0        1.0        8.0        7.5  21000101          4   \n",
       "1   Raamact.   130307.0        1.0        4.0        3.5  21000101          4   \n",
       "2       Taak   228640.0        1.0        4.0        3.8  20180209         12   \n",
       "3       Taak    29066.0        1.0        4.0        3.8  20180209         12   \n",
       "4       Taak    38258.0        1.0        4.0        3.8  20180209         12   \n",
       "\n",
       "  FRQ_INC_50 FRQ_SURV GUN_DAGEN  \\\n",
       "0          2        6      -999   \n",
       "1          2        6      -999   \n",
       "2          4       12      -999   \n",
       "3          4       12      -999   \n",
       "4          4       12      -999   \n",
       "\n",
       "                         ...                          TYPEOBJ      WBO_CONCL  \\\n",
       "0                        ...                          vaarweg  Verspreidbaar   \n",
       "1                        ...                          vaarweg  Verspreidbaar   \n",
       "2                        ...                          vaarweg  Verspreidbaar   \n",
       "3                        ...                          vaarweg  Verspreidbaar   \n",
       "4                        ...                          vaarweg  Verspreidbaar   \n",
       "\n",
       "  WBO_DAGEN                                           WBO_FILE WBO_GELDIG  \\\n",
       "0       404  KRD15-8600-6024-RAP-013a_harlingen-terschellin...    43030.0   \n",
       "1       401    DOM15-8600-6024-RAP-012a_den_oever-noordzee.pdf    43027.0   \n",
       "2       403       KRD15-8600-6024-RAP-014a_holwerd-ameland.pdf    43029.0   \n",
       "3       403       KRD15-8600-6024-RAP-014a_holwerd-ameland.pdf    43029.0   \n",
       "4       403       KRD15-8600-6024-RAP-014a_holwerd-ameland.pdf    43029.0   \n",
       "\n",
       "  WBO_M_DAT WBO_R_DAT   X_LABEL   Y_LABEL  \\\n",
       "0   42299.0   42332.0  149590.0  579048.0   \n",
       "1   42296.0   42319.0  130187.0  552283.0   \n",
       "2   42298.0   42325.0  185655.0  601008.0   \n",
       "3   42298.0   42325.0  181012.0  604198.0   \n",
       "4   42298.0   42298.0  180144.0  604998.0   \n",
       "\n",
       "                                            geometry  \n",
       "0  POLYGON ((149442.7124357932 580249.0740603911,...  \n",
       "1  POLYGON ((129625.932283378 552658.7841377998, ...  \n",
       "2  POLYGON ((185317.6546756364 601556.7232466646,...  \n",
       "3  POLYGON ((181240.1501464844 604087.0973510742,...  \n",
       "4  POLYGON ((180660.1662909701 605207.5438269211,...  \n",
       "\n",
       "[5 rows x 40 columns]"
      ]
     },
     "execution_count": 96,
     "metadata": {},
     "output_type": "execute_result"
    }
   ],
   "source": [
    "# read current valid shapefile\n",
    "shp_baggervakken = r'D:\\FEWSProjecten\\OmsWaddenzee\\trunk\\fews\\Config\\MapLayerFiles\\Baggervakken\\Baggervakken_update2.shp'\n",
    "df_bgv = gpd.read_file(shp_baggervakken)\n",
    "df_bgv.head()"
   ]
  },
  {
   "cell_type": "code",
   "execution_count": 97,
   "metadata": {},
   "outputs": [],
   "source": [
    "# append new shapes baggervakken\n",
    "df_bg_new = df_bgv.append(gdf_comb)"
   ]
  },
  {
   "cell_type": "code",
   "execution_count": 98,
   "metadata": {},
   "outputs": [],
   "source": [
    "# reset and drop the index\n",
    "df_bg_new.reset_index(drop=True, inplace=True)"
   ]
  },
  {
   "cell_type": "code",
   "execution_count": 99,
   "metadata": {},
   "outputs": [
    {
     "name": "stdout",
     "output_type": "stream",
     "text": [
      "1.7.2.3.1.B\n",
      "          END     START   OBJECTCODE                          OBJECTNAAM\n",
      "120  21000101  20171117  1.7.2.3.1.B  Harlingen - Noordzee, Blauwe Slenk\n",
      "94   20171117  20160101  1.7.2.3.1.B  Harlingen - Noordzee, Blauwe Slenk\n",
      "1.7.2.1.1.B\n"
     ]
    },
    {
     "name": "stderr",
     "output_type": "stream",
     "text": [
      "c:\\python35\\lib\\site-packages\\pandas\\core\\generic.py:3643: SettingWithCopyWarning: \n",
      "A value is trying to be set on a copy of a slice from a DataFrame.\n",
      "Try using .loc[row_indexer,col_indexer] = value instead\n",
      "\n",
      "See the caveats in the documentation: http://pandas.pydata.org/pandas-docs/stable/indexing.html#indexing-view-versus-copy\n",
      "  self[name] = value\n",
      "c:\\python35\\lib\\site-packages\\pandas\\core\\indexing.py:194: SettingWithCopyWarning: \n",
      "A value is trying to be set on a copy of a slice from a DataFrame\n",
      "\n",
      "See the caveats in the documentation: http://pandas.pydata.org/pandas-docs/stable/indexing.html#indexing-view-versus-copy\n",
      "  self._setitem_with_indexer(indexer, value)\n"
     ]
    },
    {
     "name": "stdout",
     "output_type": "stream",
     "text": [
      "          END     START   OBJECTCODE                             OBJECTNAAM\n",
      "121  21000101  20180401  1.7.2.1.1.B  Harlingen - Terschelling, Schuitengat\n",
      "102  20180401  20171117  1.7.2.1.1.B  Harlingen - Terschelling, Schuitengat\n"
     ]
    }
   ],
   "source": [
    "# change END date last valid feature\n",
    "# and copyover other metadata to new valid feature\n",
    "for idx,val in gdf_comb.iterrows():\n",
    "    print(val['OBJECTCODE'])\n",
    "    obj_code = val['OBJECTCODE']\n",
    "    df_sel = df_bg_new[df_bg_new['OBJECTCODE']==obj_code]\n",
    "    \n",
    "    # only select latest two known baggervakken\n",
    "    df_sel.START = df_sel.START.astype(int)\n",
    "    df_iter_two_row = df_sel.sort_values(by=['START'], ascending=False)[0:2]\n",
    "\n",
    "    # copy all column values except column START, END and geometry\n",
    "    unwanted = {'START','END','geometry'}\n",
    "    item_list = [e for e in df_iter_two_row.columns if e not in unwanted]\n",
    "    df_iter_two_row.loc[(df_iter_two_row.index.isin(df_iter_two_row.index[:1])), item_list] = df_iter_two_row.loc[(\n",
    "        df_iter_two_row.index.isin(df_iter_two_row.index[1:])), item_list].values\n",
    "\n",
    "    # change END date of former valid feature to START date of existing valid baggervak\n",
    "    df_iter_two_row.END.iloc[1] = df_iter_two_row.START.iloc[0]    \n",
    "    print(df_iter_two_row.loc[:,['END','START', 'OBJECTCODE', 'OBJECTNAAM']])\n",
    "    \n",
    "    # set adapted row in the bigger geodataframe\n",
    "    df_bg_new.iloc[df_iter_two_row.index] = df_iter_two_row    "
   ]
  },
  {
   "cell_type": "code",
   "execution_count": 100,
   "metadata": {},
   "outputs": [],
   "source": [
    "new_path = r'D:\\FEWSProjecten\\OmsWaddenzee\\trunk\\fews\\Config\\MapLayerFiles\\Baggervakken\\Baggervakken_update3.shp'\n",
    "df_bg_new.to_file(new_path)"
   ]
  },
  {
   "cell_type": "code",
   "execution_count": null,
   "metadata": {},
   "outputs": [],
   "source": []
  },
  {
   "cell_type": "code",
   "execution_count": 21,
   "metadata": {},
   "outputs": [],
   "source": [
    "duplicates_all = df_bg_new[df_bg_new['OBJECTCODE'].duplicated(keep=False)]"
   ]
  },
  {
   "cell_type": "code",
   "execution_count": 22,
   "metadata": {},
   "outputs": [
    {
     "data": {
      "text/plain": [
       "Int64Index([  1,   2,   3,   4,   6,   7,   8,  11,  26,  81,  84,  87,  88,\n",
       "             94,  99, 100, 101, 102, 103, 104, 105, 106, 107, 108, 109, 110,\n",
       "            111, 112, 113, 114, 115, 116, 117, 118, 119],\n",
       "           dtype='int64')"
      ]
     },
     "execution_count": 22,
     "metadata": {},
     "output_type": "execute_result"
    }
   ],
   "source": [
    "duplicates_all.index"
   ]
  },
  {
   "cell_type": "code",
   "execution_count": null,
   "metadata": {},
   "outputs": [],
   "source": []
  },
  {
   "cell_type": "code",
   "execution_count": 23,
   "metadata": {},
   "outputs": [],
   "source": [
    "## FURTHER CHANGES APPLIED IN QGIS (FILL COLUMN AND CHANGING END DATE OF PREVIOUS VALID BAGGERVAK)"
   ]
  },
  {
   "cell_type": "code",
   "execution_count": null,
   "metadata": {},
   "outputs": [],
   "source": [
    "## VALIDATE  NEW BAGGERVAKKEN"
   ]
  },
  {
   "cell_type": "code",
   "execution_count": 24,
   "metadata": {},
   "outputs": [],
   "source": [
    "def baggervak_to_current(path_shp, crs_string):\n",
    "    \"\"\"\n",
    "    function to get current valid baggervakken\n",
    "    also sets appropriate coordinates system\n",
    "    \"\"\"\n",
    "\n",
    "    gdf = gpd.read_file(path_shp)\n",
    "    gdf.crs = rd_string\n",
    "\n",
    "    # only get currently valid shapes\n",
    "    # get list of duplicates (both the first and last [and middles if available])\n",
    "    duplicates_all = gdf[gdf['OBJECTCODE'].duplicated(keep=False)]\n",
    "    for obj in duplicates_all['OBJECTCODE'].unique():\n",
    "        duplicates_single = duplicates_all.loc[duplicates_all['OBJECTCODE'] == obj]\n",
    "        rows2drop = duplicates_single.loc[duplicates_single['END']\n",
    "                                          != duplicates_single['END'].max()]\n",
    "        gdf.drop(rows2drop.index.tolist(), axis=0, inplace=True)\n",
    "    return gdf"
   ]
  },
  {
   "cell_type": "code",
   "execution_count": 25,
   "metadata": {},
   "outputs": [],
   "source": [
    "shp_baggervakken = r'D:\\FEWSProjecten\\OmsWaddenzee\\trunk\\fews\\Config\\MapLayerFiles\\Baggervakken\\Baggervakken.shp'"
   ]
  },
  {
   "cell_type": "code",
   "execution_count": 26,
   "metadata": {},
   "outputs": [],
   "source": [
    "bgf_val = baggervak_to_current(shp_baggervakken, rd_string)"
   ]
  },
  {
   "cell_type": "code",
   "execution_count": 27,
   "metadata": {},
   "outputs": [
    {
     "data": {
      "text/plain": [
       "100"
      ]
     },
     "execution_count": 27,
     "metadata": {},
     "output_type": "execute_result"
    }
   ],
   "source": [
    "len(bgf_val['OBJECTCODE'].unique())"
   ]
  },
  {
   "cell_type": "code",
   "execution_count": 28,
   "metadata": {},
   "outputs": [
    {
     "data": {
      "text/plain": [
       "100"
      ]
     },
     "execution_count": 28,
     "metadata": {},
     "output_type": "execute_result"
    }
   ],
   "source": [
    "len(bgf_val['OBJECTCODE'])"
   ]
  },
  {
   "cell_type": "code",
   "execution_count": null,
   "metadata": {},
   "outputs": [],
   "source": []
  }
 ],
 "metadata": {
  "celltoolbar": "Hide code",
  "hide_code_all_hidden": false,
  "kernelspec": {
   "display_name": "Python 3",
   "language": "python",
   "name": "python3"
  },
  "language_info": {
   "codemirror_mode": {
    "name": "ipython",
    "version": 3
   },
   "file_extension": ".py",
   "mimetype": "text/x-python",
   "name": "python",
   "nbconvert_exporter": "python",
   "pygments_lexer": "ipython3",
   "version": "3.6.5"
  }
 },
 "nbformat": 4,
 "nbformat_minor": 4
}
