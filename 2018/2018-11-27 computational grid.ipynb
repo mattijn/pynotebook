{
 "cells": [
  {
   "cell_type": "code",
   "execution_count": 1,
   "metadata": {},
   "outputs": [],
   "source": [
    "import pandas as pd\n",
    "import geopandas as gpd\n",
    "from rasterstats import zonal_stats\n",
    "import shapefile\n",
    "from osgeo import gdal\n",
    "from shapely import geometry\n",
    "from affine import Affine\n",
    "import numpy as np"
   ]
  },
  {
   "cell_type": "code",
   "execution_count": null,
   "metadata": {},
   "outputs": [],
   "source": []
  },
  {
   "cell_type": "code",
   "execution_count": null,
   "metadata": {},
   "outputs": [],
   "source": [
    "#D:\\Software\\Python37\\python.exe grid_to_vector_stats.py compute-risk --file-shape='//172.17.20.5/geofiles/data/continuinzicht_kanaaldijken/Overstromingsscenarios/area/geo_areas_28992.shp' --file-grid='//172.17.20.5/geofiles/data/continuinzicht_kanaaldijken/Overstromingsscenarios/geo_nattevoeten_dijkdeel396_28992.tif' --p-segment=1 --column-name='risk'"
   ]
  },
  {
   "cell_type": "code",
   "execution_count": 13,
   "metadata": {},
   "outputs": [],
   "source": [
    "file_shape = r\"D:\\Projects\\Pr\\3730.15\\Werkfolder\\ci\\kanaaldijken\\gea_areas_28992.shp\"\n",
    "file_grid = r\"D:\\Projects\\Pr\\3730.15\\Werkfolder\\ci\\kanaaldijken\\geo_nattevoeten_dijkdeel396_28992.tif\"\n",
    "p_segment = 1\n",
    "column_name = 'risk'"
   ]
  },
  {
   "cell_type": "code",
   "execution_count": 14,
   "metadata": {},
   "outputs": [],
   "source": [
    "def compute_risk(file_shape, file_grid, p_segment, column_name):\n",
    "    \"\"\"\n",
    "    function to compute the risk given the follow parameters:\n",
    "    \n",
    "    Parameters\n",
    "    -----\n",
    "    file_shape : str\n",
    "        path to vector file\n",
    "    file_grid : str\n",
    "        path to ascii grid\n",
    "    p_segment : float\n",
    "        failure probability on segment\n",
    "    column_name : str\n",
    "        name of the output column (eg. 'cond_risk_damage')\n",
    "    \n",
    "    Output\n",
    "    -------\n",
    "    csv_string : str\n",
    "        csv file as string object\n",
    "    \"\"\"\n",
    "\n",
    "    sf = shapefile.Reader(file_shape)    \n",
    "    fields = sf.fields[1:] \n",
    "    field_names = [field[0] for field in fields] \n",
    "    \n",
    "    atr_list = []\n",
    "    geom_list = []\n",
    "    for r in sf.shapeRecords():  \n",
    "        atr = dict(zip(field_names, r.record))  \n",
    "        geom = geometry.shape(r.shape.__geo_interface__)\n",
    "\n",
    "        atr_list.append(atr)\n",
    "        geom_list.append(geom) \n",
    "\n",
    "    df = pd.DataFrame(atr_list)\n",
    "    df.loc[:,'geometry'] = geom_list\n",
    "    gdf = gpd.GeoDataFrame(df)\n",
    "    \n",
    "    df_sel = gdf[['id','name','code']]\n",
    "    \n",
    "    ds = gdal.Open(file_grid)\n",
    "    band = ds.GetRasterBand(1)\n",
    "    gt = ds.GetGeoTransform()\n",
    "    nan = band.GetNoDataValue()  \n",
    "    \n",
    "    array  = band.ReadAsArray()\n",
    "    affine = Affine.from_gdal(*gt)\n",
    "    \n",
    "    array_msk = np.ma.masked_where(array == nan, array)\n",
    "    array_msk *= p_segment\n",
    "    \n",
    "    zs = zonal_stats(vectors=gdf['geometry'], raster=array_msk.data, affine=affine, stats=['sum'], all_touched=False, nodata=nan)  \n",
    "    \n",
    "    df_concat = pd.concat((df_sel, pd.DataFrame(zs)), axis=1)\n",
    "    df_concat.rename(columns={'sum': column_name}, inplace=True)\n",
    "    \n",
    "    json_out = df_concat.to_json(orient='records')\n",
    "    \n",
    "    return json_out"
   ]
  },
  {
   "cell_type": "code",
   "execution_count": 15,
   "metadata": {},
   "outputs": [],
   "source": [
    "json_out = compute_risk(file_shape, file_grid, p_segment, column_name)"
   ]
  },
  {
   "cell_type": "code",
   "execution_count": 16,
   "metadata": {},
   "outputs": [],
   "source": [
    "import json"
   ]
  },
  {
   "cell_type": "code",
   "execution_count": 17,
   "metadata": {},
   "outputs": [],
   "source": [
    "j = json.loads(json_out)"
   ]
  },
  {
   "cell_type": "code",
   "execution_count": 19,
   "metadata": {},
   "outputs": [],
   "source": [
    "df = pd.DataFrame.from_dict(j)"
   ]
  },
  {
   "cell_type": "code",
   "execution_count": 20,
   "metadata": {},
   "outputs": [
    {
     "data": {
      "text/html": [
       "<div>\n",
       "<style scoped>\n",
       "    .dataframe tbody tr th:only-of-type {\n",
       "        vertical-align: middle;\n",
       "    }\n",
       "\n",
       "    .dataframe tbody tr th {\n",
       "        vertical-align: top;\n",
       "    }\n",
       "\n",
       "    .dataframe thead th {\n",
       "        text-align: right;\n",
       "    }\n",
       "</style>\n",
       "<table border=\"1\" class=\"dataframe\">\n",
       "  <thead>\n",
       "    <tr style=\"text-align: right;\">\n",
       "      <th></th>\n",
       "      <th>code</th>\n",
       "      <th>id</th>\n",
       "      <th>name</th>\n",
       "      <th>risk</th>\n",
       "    </tr>\n",
       "  </thead>\n",
       "  <tbody>\n",
       "    <tr>\n",
       "      <th>0</th>\n",
       "      <td>BU18830200</td>\n",
       "      <td>1</td>\n",
       "      <td>Sittard-Geleen: Overhoven</td>\n",
       "      <td>NaN</td>\n",
       "    </tr>\n",
       "    <tr>\n",
       "      <th>1</th>\n",
       "      <td>BU18830201</td>\n",
       "      <td>2</td>\n",
       "      <td>Sittard-Geleen: Baandert</td>\n",
       "      <td>NaN</td>\n",
       "    </tr>\n",
       "    <tr>\n",
       "      <th>2</th>\n",
       "      <td>BU18830202</td>\n",
       "      <td>3</td>\n",
       "      <td>Sittard-Geleen: Stadbroek</td>\n",
       "      <td>NaN</td>\n",
       "    </tr>\n",
       "    <tr>\n",
       "      <th>3</th>\n",
       "      <td>BU18830203</td>\n",
       "      <td>4</td>\n",
       "      <td>Sittard-Geleen: Vrangendael</td>\n",
       "      <td>NaN</td>\n",
       "    </tr>\n",
       "    <tr>\n",
       "      <th>4</th>\n",
       "      <td>BU18830204</td>\n",
       "      <td>5</td>\n",
       "      <td>Sittard-Geleen: Broeksittard</td>\n",
       "      <td>NaN</td>\n",
       "    </tr>\n",
       "  </tbody>\n",
       "</table>\n",
       "</div>"
      ],
      "text/plain": [
       "         code  id                          name  risk\n",
       "0  BU18830200   1     Sittard-Geleen: Overhoven   NaN\n",
       "1  BU18830201   2      Sittard-Geleen: Baandert   NaN\n",
       "2  BU18830202   3     Sittard-Geleen: Stadbroek   NaN\n",
       "3  BU18830203   4   Sittard-Geleen: Vrangendael   NaN\n",
       "4  BU18830204   5  Sittard-Geleen: Broeksittard   NaN"
      ]
     },
     "execution_count": 20,
     "metadata": {},
     "output_type": "execute_result"
    }
   ],
   "source": [
    "df.head()"
   ]
  },
  {
   "cell_type": "code",
   "execution_count": 23,
   "metadata": {},
   "outputs": [
    {
     "data": {
      "text/plain": [
       "False"
      ]
     },
     "execution_count": 23,
     "metadata": {},
     "output_type": "execute_result"
    }
   ],
   "source": [
    "df['code'].isnull().values.any()"
   ]
  },
  {
   "cell_type": "code",
   "execution_count": null,
   "metadata": {},
   "outputs": [],
   "source": [
    "if __name__ == '__main__':\n",
    "    fire.Fire()"
   ]
  },
  {
   "cell_type": "code",
   "execution_count": null,
   "metadata": {},
   "outputs": [],
   "source": []
  },
  {
   "cell_type": "code",
   "execution_count": null,
   "metadata": {},
   "outputs": [],
   "source": []
  },
  {
   "cell_type": "code",
   "execution_count": null,
   "metadata": {},
   "outputs": [],
   "source": []
  },
  {
   "cell_type": "code",
   "execution_count": null,
   "metadata": {},
   "outputs": [],
   "source": []
  },
  {
   "cell_type": "code",
   "execution_count": null,
   "metadata": {},
   "outputs": [],
   "source": []
  },
  {
   "cell_type": "code",
   "execution_count": null,
   "metadata": {},
   "outputs": [],
   "source": []
  },
  {
   "cell_type": "code",
   "execution_count": null,
   "metadata": {},
   "outputs": [],
   "source": []
  }
 ],
 "metadata": {
  "kernelspec": {
   "display_name": "Python 3",
   "language": "python",
   "name": "python3"
  },
  "language_info": {
   "codemirror_mode": {
    "name": "ipython",
    "version": 3
   },
   "file_extension": ".py",
   "mimetype": "text/x-python",
   "name": "python",
   "nbconvert_exporter": "python",
   "pygments_lexer": "ipython3",
   "version": "3.6.5"
  }
 },
 "nbformat": 4,
 "nbformat_minor": 2
}
