{
 "cells": [
  {
   "cell_type": "code",
   "execution_count": 1,
   "metadata": {},
   "outputs": [],
   "source": [
    "import pandas as pd\n",
    "import altair as alt"
   ]
  },
  {
   "cell_type": "code",
   "execution_count": 2,
   "metadata": {},
   "outputs": [
    {
     "data": {
      "text/html": [
       "<div>\n",
       "<style scoped>\n",
       "    .dataframe tbody tr th:only-of-type {\n",
       "        vertical-align: middle;\n",
       "    }\n",
       "\n",
       "    .dataframe tbody tr th {\n",
       "        vertical-align: top;\n",
       "    }\n",
       "\n",
       "    .dataframe thead th {\n",
       "        text-align: right;\n",
       "    }\n",
       "</style>\n",
       "<table border=\"1\" class=\"dataframe\">\n",
       "  <thead>\n",
       "    <tr style=\"text-align: right;\">\n",
       "      <th></th>\n",
       "      <th>date</th>\n",
       "      <th>value</th>\n",
       "    </tr>\n",
       "  </thead>\n",
       "  <tbody>\n",
       "    <tr>\n",
       "      <th>0</th>\n",
       "      <td>2018-08-11 23:00:00</td>\n",
       "      <td>2</td>\n",
       "    </tr>\n",
       "    <tr>\n",
       "      <th>1</th>\n",
       "      <td>2018-08-12 23:00:00</td>\n",
       "      <td>4</td>\n",
       "    </tr>\n",
       "    <tr>\n",
       "      <th>2</th>\n",
       "      <td>2018-08-13 23:00:00</td>\n",
       "      <td>5</td>\n",
       "    </tr>\n",
       "    <tr>\n",
       "      <th>3</th>\n",
       "      <td>2018-08-14 23:00:00</td>\n",
       "      <td>1</td>\n",
       "    </tr>\n",
       "    <tr>\n",
       "      <th>4</th>\n",
       "      <td>2018-08-15 23:00:00</td>\n",
       "      <td>6</td>\n",
       "    </tr>\n",
       "  </tbody>\n",
       "</table>\n",
       "</div>"
      ],
      "text/plain": [
       "                 date  value\n",
       "0 2018-08-11 23:00:00      2\n",
       "1 2018-08-12 23:00:00      4\n",
       "2 2018-08-13 23:00:00      5\n",
       "3 2018-08-14 23:00:00      1\n",
       "4 2018-08-15 23:00:00      6"
      ]
     },
     "execution_count": 2,
     "metadata": {},
     "output_type": "execute_result"
    }
   ],
   "source": [
    "dates = pd.date_range(start='2018-8-11 23:00', end='2018-8-15 23:00')#, tz='Europe/Amsterdam')\n",
    "df = pd.DataFrame({'date': dates, 'value': [2,4,5,1,6]})\n",
    "df.head()"
   ]
  },
  {
   "cell_type": "code",
   "execution_count": 3,
   "metadata": {},
   "outputs": [
    {
     "data": {
      "application/vnd.vegalite.v2+json": {
       "$schema": "https://vega.github.io/schema/vega-lite/v2.6.0.json",
       "config": {
        "view": {
         "height": 300,
         "width": 400
        }
       },
       "data": {
        "name": "data-e4ef8207dec54718478b0f2252eac369"
       },
       "datasets": {
        "data-e4ef8207dec54718478b0f2252eac369": [
         {
          "date": "2018-08-11T23:00:00",
          "value": 2
         },
         {
          "date": "2018-08-12T23:00:00",
          "value": 4
         },
         {
          "date": "2018-08-13T23:00:00",
          "value": 5
         },
         {
          "date": "2018-08-14T23:00:00",
          "value": 1
         },
         {
          "date": "2018-08-15T23:00:00",
          "value": 6
         }
        ]
       },
       "encoding": {
        "x": {
         "field": "value",
         "type": "nominal"
        },
        "y": {
         "axis": {
          "format": "%A %H:%M (%b, %Y)",
          "title": "date"
         },
         "field": "date",
         "timeUnit": "yearmonthdatehoursminutes",
         "type": "ordinal"
        }
       },
       "mark": "bar"
      },
      "image/png": "[encoded data removed]",
      "text/plain": [
       "<VegaLite 2 object>\n",
       "\n",
       "If you see this message, it means the renderer has not been properly enabled\n",
       "for the frontend that you are using. For more information, see\n",
       "https://altair-viz.github.io/user_guide/troubleshooting.html\n"
      ]
     },
     "execution_count": 3,
     "metadata": {},
     "output_type": "execute_result"
    }
   ],
   "source": [
    "# discretization of time using timeUnit and custom date format\n",
    "alt.Chart(df).mark_bar().encode(\n",
    "    x=\"value:N\",    \n",
    "    y=alt.X(\"date:O\", \n",
    "            timeUnit=\"yearmonthdatehoursminutes\", \n",
    "            axis=alt.Axis(format='%A %H:%M (%b, %Y)', title='date')\n",
    "           )\n",
    ")"
   ]
  },
  {
   "cell_type": "code",
   "execution_count": 4,
   "metadata": {},
   "outputs": [
    {
     "data": {
      "application/vnd.vegalite.v2+json": {
       "$schema": "https://vega.github.io/schema/vega-lite/v2.6.0.json",
       "config": {
        "view": {
         "height": 300,
         "width": 400
        }
       },
       "data": {
        "name": "data-671e18e21abfa2effbec6e4604ac7e1c"
       },
       "datasets": {
        "data-671e18e21abfa2effbec6e4604ac7e1c": [
         {
          "date": "2018-08-11T23:00:00+00:00",
          "value": 2
         },
         {
          "date": "2018-08-12T23:00:00+00:00",
          "value": 4
         },
         {
          "date": "2018-08-13T23:00:00+00:00",
          "value": 5
         },
         {
          "date": "2018-08-14T23:00:00+00:00",
          "value": 1
         },
         {
          "date": "2018-08-15T23:00:00+00:00",
          "value": 6
         }
        ]
       },
       "encoding": {
        "x": {
         "field": "value",
         "type": "nominal"
        },
        "y": {
         "axis": {
          "format": "%A %H:%M (%b, %Y)",
          "title": "date"
         },
         "field": "date",
         "timeUnit": "yearmonthdatehoursminutes",
         "type": "ordinal"
        }
       },
       "mark": "bar"
      },
      "image/png": "[encoded data removed]",
      "text/plain": [
       "<VegaLite 2 object>\n",
       "\n",
       "If you see this message, it means the renderer has not been properly enabled\n",
       "for the frontend that you are using. For more information, see\n",
       "https://altair-viz.github.io/user_guide/troubleshooting.html\n"
      ]
     },
     "execution_count": 4,
     "metadata": {},
     "output_type": "execute_result"
    }
   ],
   "source": [
    "# if you localize the date in your data in a certain timezone\n",
    "# this example works well with a timezone 2 hours westwards of your current\n",
    "# timezone (since I'm currently in timezone CEST I use GMT)\n",
    "df['date'] = df.date.dt.tz_localize(\"GMT\")\n",
    "\n",
    "# then Altair will use the local timezone for visualising the data.\n",
    "alt.Chart(df).mark_bar().encode(\n",
    "    x=\"value:N\",    \n",
    "    y=alt.X(\"date:O\", \n",
    "            timeUnit=\"yearmonthdatehoursminutes\", \n",
    "            axis=alt.Axis(format='%A %H:%M (%b, %Y)', title='date')\n",
    "           )\n",
    ")"
   ]
  },
  {
   "cell_type": "code",
   "execution_count": 5,
   "metadata": {},
   "outputs": [
    {
     "data": {
      "application/vnd.vegalite.v2+json": {
       "$schema": "https://vega.github.io/schema/vega-lite/v2.6.0.json",
       "config": {
        "view": {
         "height": 300,
         "width": 400
        }
       },
       "data": {
        "name": "data-e4ef8207dec54718478b0f2252eac369"
       },
       "datasets": {
        "data-e4ef8207dec54718478b0f2252eac369": [
         {
          "date": "2018-08-11T23:00:00",
          "value": 2
         },
         {
          "date": "2018-08-12T23:00:00",
          "value": 4
         },
         {
          "date": "2018-08-13T23:00:00",
          "value": 5
         },
         {
          "date": "2018-08-14T23:00:00",
          "value": 1
         },
         {
          "date": "2018-08-15T23:00:00",
          "value": 6
         }
        ]
       },
       "encoding": {
        "x": {
         "field": "value",
         "type": "nominal"
        },
        "y": {
         "axis": {
          "format": "%A %H:%M (%b, %Y)",
          "title": "date"
         },
         "field": "date",
         "timeUnit": "utcyearmonthdatehoursminutes",
         "type": "ordinal"
        }
       },
       "mark": "bar"
      },
      "image/png": "[encoded data removed]",
      "text/plain": [
       "<VegaLite 2 object>\n",
       "\n",
       "If you see this message, it means the renderer has not been properly enabled\n",
       "for the frontend that you are using. For more information, see\n",
       "https://altair-viz.github.io/user_guide/troubleshooting.html\n"
      ]
     },
     "execution_count": 5,
     "metadata": {},
     "output_type": "execute_result"
    }
   ],
   "source": [
    "# without making your date timezone aware, Altair also has an option to \n",
    "# present your date in UTC, where it assumes the local timezone of the \n",
    "# date provided. For this use the prefix `utc` in timeUnit.\n",
    "df['date'] = df.date.dt.tz_localize(None)\n",
    "alt.Chart(df).mark_bar().encode(\n",
    "    x=\"value:N\",    \n",
    "    y=alt.X(\"date:O\", \n",
    "            timeUnit=\"utcyearmonthdatehoursminutes\", \n",
    "            axis=alt.Axis(format='%A %H:%M (%b, %Y)', title='date')\n",
    "           )\n",
    ")"
   ]
  },
  {
   "cell_type": "code",
   "execution_count": null,
   "metadata": {},
   "outputs": [],
   "source": []
  }
 ],
 "metadata": {
  "kernelspec": {
   "display_name": "Python 3",
   "language": "python",
   "name": "python3"
  },
  "language_info": {
   "codemirror_mode": {
    "name": "ipython",
    "version": 3
   },
   "file_extension": ".py",
   "mimetype": "text/x-python",
   "name": "python",
   "nbconvert_exporter": "python",
   "pygments_lexer": "ipython3",
   "version": "3.6.5"
  }
 },
 "nbformat": 4,
 "nbformat_minor": 2
}
