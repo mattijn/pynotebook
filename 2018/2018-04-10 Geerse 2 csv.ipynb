{
 "cells": [
  {
   "cell_type": "code",
   "execution_count": 1,
   "metadata": {},
   "outputs": [],
   "source": [
    "import pandas as pd"
   ]
  },
  {
   "cell_type": "code",
   "execution_count": 2,
   "metadata": {},
   "outputs": [],
   "source": [
    "# Geerse (2016)\n",
    "Stat_Dalfsen = {\n",
    "    'return_period': [\n",
    "        1.0, 2.0, 5.0, 10.0, 20.0,\n",
    "        50.0, 100.0, 250.0, 500.1, 1250.3,\n",
    "        2000.1, 3999.7, 9998.0, 20000.8, 50005.0,\n",
    "        99980.0, 999800.0\n",
    "    ],\n",
    "    'max_discharge': [\n",
    "        180.0, 216.0, 264.0, 300.0, 335.0,\n",
    "        383.0, 419.0, 459.0, 490.0, 530.0,\n",
    "        551.0, 582.0, 609.0, 623.0, 637.0, \n",
    "        643.0, 662.0\n",
    "    ]\n",
    "}\n",
    "\n",
    "df_Dalfsen = pd.DataFrame(data=Stat_Dalfsen)"
   ]
  },
  {
   "cell_type": "code",
   "execution_count": 5,
   "metadata": {},
   "outputs": [],
   "source": [
    "df_Dalfsen.to_csv(r'D:\\Projects\\Pr\\3694.10\\qq_stats_geerse/stat_Geerse_2016.csv', index=False)"
   ]
  },
  {
   "cell_type": "code",
   "execution_count": null,
   "metadata": {},
   "outputs": [],
   "source": []
  }
 ],
 "metadata": {
  "kernelspec": {
   "display_name": "Python 3",
   "language": "python",
   "name": "python3"
  },
  "language_info": {
   "codemirror_mode": {
    "name": "ipython",
    "version": 3
   },
   "file_extension": ".py",
   "mimetype": "text/x-python",
   "name": "python",
   "nbconvert_exporter": "python",
   "pygments_lexer": "ipython3",
   "version": "3.5.2"
  }
 },
 "nbformat": 4,
 "nbformat_minor": 2
}
