{
 "cells": [
  {
   "cell_type": "code",
   "execution_count": 1,
   "metadata": {},
   "outputs": [],
   "source": [
    "import geopandas as gpd\n",
    "import pandas as pd\n",
    "from shapely.geometry import Point, LineString\n",
    "from shapely import geometry, ops\n",
    "import matplotlib.pyplot as plt\n",
    "from fiona.crs import from_epsg\n",
    "import fiona\n",
    "import os\n",
    "import geopandas as gpd\n",
    "from shapely.ops import split, snap, nearest_points\n",
    "from shapely.geometry import MultiPoint\n",
    "%matplotlib inline"
   ]
  },
  {
   "cell_type": "code",
   "execution_count": 2,
   "metadata": {},
   "outputs": [],
   "source": [
    "def abstraction_parser(df_abstraction, save=False, shp_out=''):\n",
    "    \"\"\"\n",
    "    Function to create a geodataframe from a csv file. \n",
    "    Locations in the csv file are stored in UTM 37N and are parsed to espg:4326\n",
    "\n",
    "    Parameters\n",
    "    ----------\n",
    "    df_abstraction: pandas.DataFrame\n",
    "        dataframe containing the abstraction points\n",
    "    save: boolean [optional]\n",
    "        if True and a name is defined (shp_out) it will store the geodataframe\n",
    "        to shapefile\n",
    "    shp_out: str [optional]\n",
    "        if save is True it will store the geodataframe\n",
    "    \"\"\"\n",
    "    geometry = [Point(xy)\n",
    "                for xy in zip(df_abstraction.UTMx, df_abstraction.UTMy)]\n",
    "    crs = {'init': 'epsg:32637'}\n",
    "    gdf_abstraction = gpd.GeoDataFrame(\n",
    "        df_abstraction, crs=crs, geometry=geometry)\n",
    "    gdf_abstraction['geometry'] = gdf_abstraction['geometry'].to_crs(epsg=4326)\n",
    "    # gdf_abstraction.dropna(inplace=True)\n",
    "    gdf_abstraction.crs = from_epsg(4326)\n",
    "    gdf_abstraction.reset_index(inplace=True)\n",
    "    gdf_abstraction.loc[:, 'index'] = 'Awash-River'\n",
    "\n",
    "    if save == True and shp_out is not '':\n",
    "        # Save to disk\n",
    "        gdf_abstraction.to_file(shp_out)\n",
    "        print(shp_out)\n",
    "\n",
    "    return gdf_abstraction"
   ]
  },
  {
   "cell_type": "code",
   "execution_count": 3,
   "metadata": {},
   "outputs": [],
   "source": [
    "def abstraction2schematization(gdf_abstraction, save=False, shp_out=''):\n",
    "    \"\"\"\n",
    "    Function to create a schematized polyline from the abstraction points.\n",
    "\n",
    "    Parameters\n",
    "    ----------\n",
    "    gdf_abstraction: geopandas.GeoDataFrame\n",
    "        geodataframe containing the abstraction points in epsg:4326\n",
    "    save: boolean [optional]\n",
    "        if True and a name is defined (shp_out) it will store the geodataframe\n",
    "        to shapefile\n",
    "    shp_out: str [optional]\n",
    "        if save is True it will store the geodataframe\n",
    "    \"\"\"\n",
    "    # Aggregate these points with the GroupBy\n",
    "    gdf_abstraction_schematized = gdf_abstraction.groupby(\n",
    "        ['index'])['geometry'].apply(lambda x: LineString(x.tolist()))\n",
    "    gdf_abstraction_schematized = gpd.GeoDataFrame(data=gdf_abstraction_schematized,\n",
    "                                                   geometry='geometry',\n",
    "                                                   crs=gdf_abstraction.crs)\n",
    "\n",
    "    if save == True and shp_out is not '':\n",
    "        # Save to disk\n",
    "        gdf_abstraction_schematized.to_file(shp_out)\n",
    "        print(shp_out)\n",
    "\n",
    "    return gdf_abstraction_schematized"
   ]
  },
  {
   "cell_type": "code",
   "execution_count": 4,
   "metadata": {},
   "outputs": [],
   "source": [
    "def gdf2geojson(gdf, geojson_out):\n",
    "    \"\"\"\n",
    "    Function to create a geojson format for storage on data services portal\n",
    "\n",
    "    Parameter\n",
    "    --------\n",
    "    gdf : geopandas.GeoDataFrame\n",
    "        geodataframe to be parsed into geojson\n",
    "    geojson_out : str\n",
    "        path to store geojson file\n",
    "    \"\"\"\n",
    "    with open(geojson_out, 'w') as f:\n",
    "        f.write(gdf.to_json())"
   ]
  },
  {
   "cell_type": "code",
   "execution_count": 5,
   "metadata": {},
   "outputs": [],
   "source": [
    "def nearest_neighbor_within(others, point, max_distance):\n",
    "    \"\"\"Find nearest point among others up to a maximum distance.\n",
    "    \n",
    "    Args:\n",
    "        others: a list of Points or a MultiPoint\n",
    "        point: a Point\n",
    "        max_distance: maximum distance to search for the nearest neighbor\n",
    "        \n",
    "    Returns:\n",
    "        A shapely Point if one is within max_distance, None otherwise\n",
    "    \"\"\"\n",
    "    search_region = point.buffer(max_distance)\n",
    "    interesting_points = search_region.intersection(MultiPoint(others))\n",
    "    \n",
    "    if not interesting_points:\n",
    "        closest_point = None\n",
    "    elif isinstance(interesting_points, Point):\n",
    "        closest_point = interesting_points\n",
    "    else:            \n",
    "        distances = [point.distance(ip) for ip in interesting_points\n",
    "                     if point.distance(ip) > 0]\n",
    "        closest_point = interesting_points[distances.index(min(distances))]\n",
    "    \n",
    "    return closest_point"
   ]
  },
  {
   "cell_type": "code",
   "execution_count": 6,
   "metadata": {},
   "outputs": [],
   "source": [
    "def split_line_by_nearest_points(gdf_line, gdf_points, tolerance, max_distance):\n",
    "    \"\"\"\n",
    "    Split the union of lines with the union of points resulting \n",
    "    Parameters\n",
    "    ----------\n",
    "    gdf_line : geoDataFrame\n",
    "        geodataframe containing of multiple rows with connecting line segments\n",
    "    gdf_points : geoDataFrame\n",
    "        geodataframe containing multiple rows with a single point in each row\n",
    "\n",
    "    Returns\n",
    "    -------\n",
    "    gdf_segments : geoDataFrame\n",
    "        geodataframe of segments\n",
    "    \"\"\"\n",
    "\n",
    "    # union all geometries\n",
    "    line = gdf_line.geometry.unary_union\n",
    "    coords = gdf_points.geometry.unary_union\n",
    "\n",
    "    # parse line into multipoint\n",
    "    multicoords = [list(segment.coords) for segment in line]\n",
    "    flat_list = [item for sublist in multicoords for item in sublist]\n",
    "    mpoint_line = MultiPoint([Point(y) for y in flat_list])    \n",
    "\n",
    "    # snap coords to mpoint of line\n",
    "    coords_snapped = []\n",
    "    for point_abs in coords:\n",
    "        coords_snapped.append(nearest_neighbor_within(\n",
    "            mpoint_line, point_abs, max_distance=max_distance))\n",
    "    mcoords = MultiPoint([Point(y) for y in coords_snapped])\n",
    "    \n",
    "    # snap and split coords on line\n",
    "    # returns GeometryCollection\n",
    "    split_line = split(line, snap(mcoords, line, tolerance))\n",
    "\n",
    "    # transform Geometry Collection to GeoDataFrame\n",
    "    segments = [feature for feature in split_line]\n",
    "\n",
    "    # convert into geodataframe\n",
    "    gdf_segments = gpd.GeoDataFrame(geometry=segments)\n",
    "    gdf_segments.reset_index(inplace=True)\n",
    "\n",
    "    return gdf_segments"
   ]
  },
  {
   "cell_type": "code",
   "execution_count": 7,
   "metadata": {},
   "outputs": [],
   "source": [
    "base_folder = r'D:\\Projects\\Pr\\3348.10\\Werkfolder'\n",
    "\n",
    "json_awash = os.path.join(base_folder, 'json', 'simplified', 'catchment.json')\n",
    "shp_gauging_stations = os.path.join(\n",
    "    base_folder, 'shp', 'rivergauging_stations.shp')\n",
    "shp_river = os.path.join(base_folder, 'shp', 'awash_awash_river_main_network.shp')\n",
    "#json_river = os.path.join(base_folder, 'json', 'simplified', 'river.json')\n",
    "\n",
    "csv_abstraction_points = os.path.join(\n",
    "    base_folder, 'csv', 'abstraction_points.csv')\n",
    "\n",
    "# load basemaps\n",
    "gdf_awash = gpd.read_file(json_awash, driver='GeoJSON')\n",
    "gdf_gauge = gpd.read_file(shp_gauging_stations)\n",
    "gdf_river = gpd.read_file(shp_river)\n",
    "\n",
    "#gdf_river = gpd.read_file(json_river, driver='GeoJSON')"
   ]
  },
  {
   "cell_type": "code",
   "execution_count": 8,
   "metadata": {},
   "outputs": [
    {
     "name": "stdout",
     "output_type": "stream",
     "text": [
      "D:\\Projects\\Pr\\3348.10\\Werkfolder\\shp\\abstraction_points.shp\n"
     ]
    }
   ],
   "source": [
    "shp_abs_points = os.path.join(base_folder, 'shp', 'abstraction_points.shp')\n",
    "\n",
    "# abstraction points\n",
    "df_abstraction = pd.read_csv(csv_abstraction_points)\n",
    "gdf_abstraction = abstraction_parser(\n",
    "    df_abstraction, save=True, shp_out=shp_abs_points)\n",
    "\n",
    "# find closest point on river linestring and add to new column\n",
    "#gdf_abstraction['nearest'] = gdf_abstraction.apply(lambda row: nearest_points(row.geometry, merged_river)[1], axis=1)\n",
    "\n",
    "# use these points to split the river linestring into segments"
   ]
  },
  {
   "cell_type": "code",
   "execution_count": 12,
   "metadata": {},
   "outputs": [],
   "source": [
    "gdf_segments = split_line_by_nearest_points(gdf_river, gdf_abstraction, tolerance=1, max_distance=10)"
   ]
  },
  {
   "cell_type": "code",
   "execution_count": 13,
   "metadata": {},
   "outputs": [
    {
     "data": {
      "text/plain": [
       "<matplotlib.axes._subplots.AxesSubplot at 0xa0214a8>"
      ]
     },
     "execution_count": 13,
     "metadata": {},
     "output_type": "execute_result"
    },
    {
     "data": {
      "image/png": "[encoded data removed]",
      "text/plain": [
       "<matplotlib.figure.Figure at 0xa004828>"
      ]
     },
     "metadata": {},
     "output_type": "display_data"
    }
   ],
   "source": [
    "gdf_segments.plot(column='index', cmap='Paired')"
   ]
  },
  {
   "cell_type": "code",
   "execution_count": 14,
   "metadata": {},
   "outputs": [
    {
     "data": {
      "text/plain": [
       "<matplotlib.axes._subplots.AxesSubplot at 0xa073f60>"
      ]
     },
     "execution_count": 14,
     "metadata": {},
     "output_type": "execute_result"
    },
    {
     "data": {
      "image/png": "[encoded data removed]",
      "text/plain": [
       "<matplotlib.figure.Figure at 0xa02e978>"
      ]
     },
     "metadata": {},
     "output_type": "display_data"
    }
   ],
   "source": [
    "import matplotlib.pyplot as plt\n",
    "fig, ax = plt.subplots()\n",
    "a = gpd.GeoSeries(gdf_river.geometry.unary_union)\n",
    "b = gpd.GeoSeries(gdf_abstraction.geometry)\n",
    "\n",
    "a.plot(ax=ax, lw=6, color='gray')\n",
    "gdf_segments.plot(ax=ax, column='index', lw=3, cmap='terrain_r')\n",
    "b.plot(ax=ax, zorder=5)"
   ]
  },
  {
   "cell_type": "code",
   "execution_count": null,
   "metadata": {},
   "outputs": [],
   "source": [
    "gdf_segments.to_file('line.shp')"
   ]
  },
  {
   "cell_type": "code",
   "execution_count": 15,
   "metadata": {},
   "outputs": [],
   "source": [
    "# schmematize\n",
    "shp_abs_schema = os.path.join(base_folder, 'shp', 'abstraction_schema.shp')\n",
    "gdf_abstraction_schematized = abstraction2schematization(\n",
    "    gdf_abstraction, save=False)#, shp_out=shp_abs_schema)"
   ]
  },
  {
   "cell_type": "code",
   "execution_count": 16,
   "metadata": {},
   "outputs": [
    {
     "data": {
      "text/plain": [
       "<matplotlib.axes._subplots.AxesSubplot at 0x9cc14e0>"
      ]
     },
     "execution_count": 16,
     "metadata": {},
     "output_type": "execute_result"
    },
    {
     "data": {
      "image/png": "[encoded data removed]",
      "text/plain": [
       "<matplotlib.figure.Figure at 0xa042710>"
      ]
     },
     "metadata": {},
     "output_type": "display_data"
    }
   ],
   "source": [
    "gdf_abstraction_schematized.plot()"
   ]
  },
  {
   "cell_type": "code",
   "execution_count": null,
   "metadata": {},
   "outputs": [],
   "source": []
  },
  {
   "cell_type": "code",
   "execution_count": null,
   "metadata": {},
   "outputs": [],
   "source": [
    "df_abstraction.head()"
   ]
  },
  {
   "cell_type": "code",
   "execution_count": null,
   "metadata": {
    "scrolled": false
   },
   "outputs": [],
   "source": [
    "plt.figure(figsize=(12, 8))\n",
    "ax = plt.subplot()\n",
    "gdf_awash.plot(ax=ax)\n",
    "gdf_river.plot(ax=ax, color='lightblue')\n",
    "gdf_abstraction.plot(ax=ax, color='red', zorder=20)\n",
    "gdf_gauge.plot(ax=ax, color='lightgreen')\n",
    "gdf_abstraction_schematized.plot(ax=ax, color='orange', linewidth=5)"
   ]
  },
  {
   "cell_type": "code",
   "execution_count": null,
   "metadata": {},
   "outputs": [],
   "source": [
    "linestring = gdf_abstraction_schematized['geometry'].iloc[0]\n",
    "\n",
    "list_name = []\n",
    "list_geometry = []\n",
    "\n",
    "for idx, row in gdf_abstraction.iterrows():\n",
    "    #print(idx, row['Abstraction points'])\n",
    "    list_name.append(row['Abstraction points'])\n",
    "    \n",
    "    try:\n",
    "        segment = LineString([linestring.coords[idx], linestring.coords[idx+1]])\n",
    "        list_geometry.append(segment)\n",
    "    except IndexError as e:\n",
    "        pass"
   ]
  },
  {
   "cell_type": "code",
   "execution_count": null,
   "metadata": {},
   "outputs": [],
   "source": [
    "df_segments = pd.DataFrame([list_name,list_geometry]).T\n",
    "df_segments.columns = ['name','geometry']\n",
    "gdf_segments = gpd.GeoDataFrame(data=df_segments, geometry='geometry', crs=gdf_abstraction.crs)"
   ]
  },
  {
   "cell_type": "code",
   "execution_count": null,
   "metadata": {},
   "outputs": [],
   "source": [
    "gdf_segments"
   ]
  },
  {
   "cell_type": "code",
   "execution_count": null,
   "metadata": {},
   "outputs": [],
   "source": [
    "gdf_segments"
   ]
  },
  {
   "cell_type": "code",
   "execution_count": null,
   "metadata": {},
   "outputs": [],
   "source": [
    "gdf_segments.drop(index=18, inplace=True)"
   ]
  },
  {
   "cell_type": "code",
   "execution_count": null,
   "metadata": {},
   "outputs": [],
   "source": [
    "gdf_segments['geometry'].to_crs(epsg=32637).length.sum()"
   ]
  },
  {
   "cell_type": "code",
   "execution_count": null,
   "metadata": {},
   "outputs": [],
   "source": [
    "gdf_segments.index = gdf_segments.index[::-1]"
   ]
  },
  {
   "cell_type": "code",
   "execution_count": null,
   "metadata": {},
   "outputs": [],
   "source": [
    "gdf_list = [gdf_awash, gdf_river, gdf_abstraction,\n",
    "            gdf_gauge, gdf_abstraction_schematized, gdf_segments]\n",
    "gdf_name = ['catchment', 'river', 'abstraction_points',\n",
    "            'gauge_points', 'abstraction_schematized', 'segments']\n",
    "\n",
    "# store the geopandas geodataframe into geojson\n",
    "for idx in range(len(gdf_name)):\n",
    "    gdf = gdf_list[idx]\n",
    "    geojson_name = gdf_name[idx]\n",
    "    geojson_out = os.path.join(\n",
    "        base_folder, 'json', '{}.json'.format(geojson_name))\n",
    "    gdf2geojson(gdf, geojson_out)"
   ]
  },
  {
   "cell_type": "code",
   "execution_count": null,
   "metadata": {},
   "outputs": [],
   "source": [
    "from hkvportal.io.services import dataportal as dp\n",
    "dp = dp()\n",
    "dp.setDataservice(dataservice='https://data.hkvservices.nl/dataservices/')"
   ]
  },
  {
   "cell_type": "code",
   "execution_count": null,
   "metadata": {},
   "outputs": [],
   "source": [
    "dp.listDatabase(database='Ethiopia')"
   ]
  },
  {
   "cell_type": "code",
   "execution_count": null,
   "metadata": {},
   "outputs": [],
   "source": [
    "import json\n",
    "vega_spec_path = os.path.join(base_folder, 'json', 'river.json')\n",
    "vega_spec = json.load(open(vega_spec_path))\n",
    "# json data uploaden naar data portal\n",
    "dp.setEntryDatabase(database = 'Ethiopia', key = 'geojson_river', data = json.dumps(vega_spec), description = 'Awash Awash basin rivers')"
   ]
  },
  {
   "cell_type": "code",
   "execution_count": null,
   "metadata": {},
   "outputs": [],
   "source": [
    "vega_spec_path = os.path.join(base_folder, 'json', 'catchment.json')\n",
    "vega_spec = json.load(open(vega_spec_path))\n",
    "# json data uploaden naar data portal\n",
    "dp.setEntryDatabase(database = 'Ethiopia', key = 'geojson_catchment', data = json.dumps(vega_spec), description = 'Awash Awash basin catchment')"
   ]
  },
  {
   "cell_type": "code",
   "execution_count": null,
   "metadata": {},
   "outputs": [],
   "source": [
    "vega_spec_path = os.path.join(base_folder, 'json', 'segments.json')\n",
    "vega_spec = json.load(open(vega_spec_path))\n",
    "# json data uploaden naar data portal\n",
    "dp.setEntryDatabase(database = 'Ethiopia', key = 'geojson_segments', data = json.dumps(vega_spec), description = 'Awash Awash diversion points schematized')"
   ]
  },
  {
   "cell_type": "code",
   "execution_count": null,
   "metadata": {},
   "outputs": [],
   "source": [
    "vega_spec_path = os.path.join(base_folder, 'json', 'abstraction_points.json')\n",
    "vega_spec = json.load(open(vega_spec_path))\n",
    "# json data uploaden naar data portal\n",
    "dp.setEntryDatabase(database = 'Ethiopia', key = 'geojson_diversion_locations', data = json.dumps(vega_spec), description = 'Awash Awash diversion points')"
   ]
  },
  {
   "cell_type": "code",
   "execution_count": null,
   "metadata": {},
   "outputs": [],
   "source": [
    "vega_spec_path = os.path.join(base_folder, 'json', 'vega3_map.json')\n",
    "vega_spec = json.load(open(vega_spec_path))\n",
    "# json data uploaden naar data portal\n",
    "dp.setEntryDatabase(database = 'Ethiopia', key = 'vega3_map', data = json.dumps(vega_spec), description = 'Vega-3 map specification')"
   ]
  },
  {
   "cell_type": "code",
   "execution_count": null,
   "metadata": {},
   "outputs": [],
   "source": []
  }
 ],
 "metadata": {
  "kernelspec": {
   "display_name": "Python 3",
   "language": "python",
   "name": "python3"
  },
  "language_info": {
   "codemirror_mode": {
    "name": "ipython",
    "version": 3
   },
   "file_extension": ".py",
   "mimetype": "text/x-python",
   "name": "python",
   "nbconvert_exporter": "python",
   "pygments_lexer": "ipython3",
   "version": "3.5.2"
  }
 },
 "nbformat": 4,
 "nbformat_minor": 2
}
