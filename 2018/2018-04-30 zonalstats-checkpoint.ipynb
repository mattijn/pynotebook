{
 "cells": [
  {
   "cell_type": "code",
   "execution_count": 1,
   "metadata": {},
   "outputs": [],
   "source": [
    "from rasterstats import zonal_stats\n",
    "from osgeo import gdal\n",
    "import geopandas as gpd\n",
    "import pandas as pd\n",
    "import matplotlib.pyplot as plt\n",
    "import matplotlib as mpl\n",
    "import numpy as np\n",
    "import glob\n",
    "from tqdm import tqdm\n",
    "import os\n",
    "import datetime\n",
    "%matplotlib inline"
   ]
  },
  {
   "cell_type": "code",
   "execution_count": 2,
   "metadata": {},
   "outputs": [],
   "source": [
    "shp_in = r'P:\\RO\\0815.10\\Werkmap\\Jan\\Neesrlag_KNMI\\RAD_NL25_RAC_MFBS_EM_5min\\2015\\augustus2015_5minuten\\peilvakken_WRSL_neerslag_mm.shp'\n",
    "png_out = r'P:\\RO\\0815.10\\Werkmap\\Mattijn\\precip_event'"
   ]
  },
  {
   "cell_type": "code",
   "execution_count": 3,
   "metadata": {},
   "outputs": [],
   "source": [
    "tifs_in_dir = r'P:\\RO\\0815.10\\Werkmap\\Jan\\Neesrlag_KNMI\\RAD_NL25_RAC_MFBS_EM_5min\\2015\\augustus2015_5minuten\\tif_all'"
   ]
  },
  {
   "cell_type": "code",
   "execution_count": 4,
   "metadata": {},
   "outputs": [],
   "source": [
    "gdf = gpd.read_file(shp_in)"
   ]
  },
  {
   "cell_type": "code",
   "execution_count": 5,
   "metadata": {},
   "outputs": [
    {
     "data": {
      "text/plain": [
       "array([  0,   1,   2,   3,   4,   5,   6,   7,   8,   9,  10,  11,  12,\n",
       "        13,  14,  15,  16,  17,  18,  19,  20,  21,  22,  23,  24,  25,\n",
       "        26,  27,  28,  29,  30,  31,  32,  33,  34,  35,  36,  37,  38,\n",
       "        39,  40,  41,  42,  43,  44,  45,  46,  47,  48,  49,  50,  51,\n",
       "        53,  54,  55,  56,  57,  58,  59,  60,  61,  62,  63,  64,  65,\n",
       "        66,  67,  68,  69,  70,  71,  72,  73,  74,  75,  76,  77,  78,\n",
       "        79,  80,  81,  82,  83,  84,  85,  86,  87,  88,  89,  90,  91,\n",
       "        92,  93,  94,  95,  96,  97,  98,  99, 100, 101, 102, 103, 104,\n",
       "       105, 106, 107, 108, 109, 110, 111, 112, 113, 114, 115, 116, 117,\n",
       "       118, 119, 120, 121, 122, 123, 124, 125, 126, 127, 128, 129, 130,\n",
       "       131, 132, 133, 134, 135, 136, 137, 138, 139, 140, 141, 142, 143,\n",
       "       144, 145, 146, 147, 148, 149,  52, 150], dtype=int64)"
      ]
     },
     "execution_count": 5,
     "metadata": {},
     "output_type": "execute_result"
    }
   ],
   "source": [
    "gdf['ID'].values"
   ]
  },
  {
   "cell_type": "code",
   "execution_count": 6,
   "metadata": {},
   "outputs": [],
   "source": [
    "tif_files = glob.glob(tifs_in_dir + '//*.tif')"
   ]
  },
  {
   "cell_type": "code",
   "execution_count": 8,
   "metadata": {},
   "outputs": [
    {
     "name": "stderr",
     "output_type": "stream",
     "text": [
      "  0%|                                                 | 0/3744 [00:00<?, ?it/s]c:\\python35\\lib\\site-packages\\rasterio\\windows.py:483: RasterioDeprecationWarning: use 'width' attribute instead\n",
      "  RasterioDeprecationWarning)\n",
      "c:\\python35\\lib\\site-packages\\rasterstats\\io.py:303: RasterioDeprecationWarning: use 'height' attribute instead\n",
      "  self.band, window=win, boundless=True, masked=masked)\n",
      "c:\\python35\\lib\\site-packages\\rasterstats\\main.py:165: FutureWarning: Conversion of the second argument of issubdtype from `float` to `np.floating` is deprecated. In future, it will be treated as `np.float64 == np.dtype(float).type`.\n",
      "  np.issubdtype(fsrc.array.dtype, float)\n",
      "100%|████████████████████████████████████| 3744/3744 [1:01:42<00:00,  1.01it/s]\n"
     ]
    }
   ],
   "source": [
    "# init datetime\n",
    "df_in = pd.DataFrame(columns = gdf['ID'])\n",
    "for tif_in in tqdm(tif_files):\n",
    "    # get date from file\n",
    "    date_in = os.path.basename(tif_in)[-19:-7]\n",
    "    date_format = datetime.datetime.strptime(date_in, '%Y%m%d%H%M')\n",
    "\n",
    "    # collect mean zonal stats\n",
    "    stat_list = []\n",
    "    stats = zonal_stats(shp_in, tif_in, stats=['mean'], all_touched=True)    \n",
    "    for feature in stats:\n",
    "        stat_list.append(feature['mean'])    \n",
    "    \n",
    "    gdf.loc[:,'agg_stat'] = stat_list\n",
    "    gdf.loc[:,'agg_stat'] *= 0.01\n",
    "    \n",
    "#     # plot using matplotlib\n",
    "#     cmap = mpl.cm.viridis_r#cool\n",
    "#     norm = mpl.colors.Normalize(vmin=0, vmax=8)    \n",
    "    \n",
    "#     # save figure to file\n",
    "#     fig = plt.figure()\n",
    "#     plt.gca().set_aspect('equal')\n",
    "#     ax = plt.gca()\n",
    "#     feat = gdf.plot('agg_stat', vmin=0, vmax= 8, ax=ax, cmap=cmap, norm=norm, legend=True, )\n",
    "#     plt.text(130500,425000,date_format.strftime('%d %B %Y - %H:%M'), size=8)\n",
    "#     plt.savefig(os.path.join(png_out,'datum_{}.png'.format(date_format.strftime('%Y%m%d%H%M'))))    \n",
    "#     plt.close(fig)\n",
    "    \n",
    "    df_in.loc[date_format,:] = gdf['agg_stat'].values"
   ]
  },
  {
   "cell_type": "code",
   "execution_count": 9,
   "metadata": {},
   "outputs": [],
   "source": [
    "df_in.to_csv(r'P:\\RO\\0815.10\\Werkmap\\Mattijn\\neerslag//agg_peilvakv2.csv')"
   ]
  },
  {
   "cell_type": "code",
   "execution_count": null,
   "metadata": {},
   "outputs": [],
   "source": []
  },
  {
   "cell_type": "code",
   "execution_count": null,
   "metadata": {},
   "outputs": [],
   "source": [
    "gdf[['ID','agg_stat']].T"
   ]
  },
  {
   "cell_type": "code",
   "execution_count": null,
   "metadata": {},
   "outputs": [],
   "source": [
    "stats = zonal_stats(shp_in, tif_in, stats=['mean'], all_touched=True)"
   ]
  },
  {
   "cell_type": "code",
   "execution_count": null,
   "metadata": {},
   "outputs": [],
   "source": []
  },
  {
   "cell_type": "code",
   "execution_count": null,
   "metadata": {},
   "outputs": [],
   "source": []
  },
  {
   "cell_type": "code",
   "execution_count": null,
   "metadata": {
    "scrolled": false
   },
   "outputs": [],
   "source": []
  },
  {
   "cell_type": "code",
   "execution_count": null,
   "metadata": {},
   "outputs": [],
   "source": [
    "gdf.loc[:,'agg_stat'] = stat_list\n",
    "gdf.loc[:,'agg_stat'] *= 0.01"
   ]
  },
  {
   "cell_type": "code",
   "execution_count": null,
   "metadata": {},
   "outputs": [],
   "source": []
  },
  {
   "cell_type": "code",
   "execution_count": null,
   "metadata": {},
   "outputs": [],
   "source": [
    "\n",
    "plt.figure()\n",
    "plt.gca().set_aspect('equal')\n",
    "ax = plt.gca()\n",
    "feat = gdf.plot('agg_stat', vmin=0, vmax= 8, ax=ax, cmap=cmap, norm=norm, legend=True, )\n",
    "plt.text(130500,425000,date_format.strftime('%d %B %Y - %H:%M'), size=8)\n",
    "plt.savefig()"
   ]
  },
  {
   "cell_type": "code",
   "execution_count": null,
   "metadata": {},
   "outputs": [],
   "source": []
  },
  {
   "cell_type": "code",
   "execution_count": null,
   "metadata": {},
   "outputs": [],
   "source": []
  }
 ],
 "metadata": {
  "kernelspec": {
   "display_name": "Python 3",
   "language": "python",
   "name": "python3"
  },
  "language_info": {
   "codemirror_mode": {
    "name": "ipython",
    "version": 3
   },
   "file_extension": ".py",
   "mimetype": "text/x-python",
   "name": "python",
   "nbconvert_exporter": "python",
   "pygments_lexer": "ipython3",
   "version": "3.5.2"
  }
 },
 "nbformat": 4,
 "nbformat_minor": 2
}
