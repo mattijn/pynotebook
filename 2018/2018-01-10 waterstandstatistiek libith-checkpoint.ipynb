{
 "cells": [
  {
   "cell_type": "code",
   "execution_count": 1,
   "metadata": {},
   "outputs": [],
   "source": [
    "import pandas as pd\n",
    "import hkvsobekpy as hkv\n",
    "import numpy as np"
   ]
  },
  {
   "cell_type": "code",
   "execution_count": 2,
   "metadata": {},
   "outputs": [
    {
     "data": {
      "text/plain": [
       "'1.2.3'"
      ]
     },
     "execution_count": 2,
     "metadata": {},
     "output_type": "execute_result"
    }
   ],
   "source": [
    "hkv.__version__"
   ]
  },
  {
   "cell_type": "code",
   "execution_count": 3,
   "metadata": {},
   "outputs": [],
   "source": [
    "url = r'D:\\Projects\\RO\\Lobith\\sel_lobith.csv'\n",
    "df = pd.read_csv(url)"
   ]
  },
  {
   "cell_type": "code",
   "execution_count": 4,
   "metadata": {},
   "outputs": [
    {
     "data": {
      "text/html": [
       "<div>\n",
       "<style scoped>\n",
       "    .dataframe tbody tr th:only-of-type {\n",
       "        vertical-align: middle;\n",
       "    }\n",
       "\n",
       "    .dataframe tbody tr th {\n",
       "        vertical-align: top;\n",
       "    }\n",
       "\n",
       "    .dataframe thead th {\n",
       "        text-align: right;\n",
       "    }\n",
       "</style>\n",
       "<table border=\"1\" class=\"dataframe\">\n",
       "  <thead>\n",
       "    <tr style=\"text-align: right;\">\n",
       "      <th></th>\n",
       "      <th>WAARNEMINGDATUM</th>\n",
       "      <th>WAARNEMINGTIJD</th>\n",
       "      <th>LIMIETSYMBOOL</th>\n",
       "      <th>NUMERIEKEWAARDE</th>\n",
       "    </tr>\n",
       "  </thead>\n",
       "  <tbody>\n",
       "    <tr>\n",
       "      <th>0</th>\n",
       "      <td>29-09-1993</td>\n",
       "      <td>22:00:00</td>\n",
       "      <td>NaN</td>\n",
       "      <td>914</td>\n",
       "    </tr>\n",
       "    <tr>\n",
       "      <th>1</th>\n",
       "      <td>29-09-1993</td>\n",
       "      <td>23:00:00</td>\n",
       "      <td>NaN</td>\n",
       "      <td>913</td>\n",
       "    </tr>\n",
       "    <tr>\n",
       "      <th>2</th>\n",
       "      <td>30-09-1993</td>\n",
       "      <td>0:00:00</td>\n",
       "      <td>NaN</td>\n",
       "      <td>913</td>\n",
       "    </tr>\n",
       "    <tr>\n",
       "      <th>3</th>\n",
       "      <td>30-09-1993</td>\n",
       "      <td>1:00:00</td>\n",
       "      <td>NaN</td>\n",
       "      <td>912</td>\n",
       "    </tr>\n",
       "    <tr>\n",
       "      <th>4</th>\n",
       "      <td>30-09-1993</td>\n",
       "      <td>2:00:00</td>\n",
       "      <td>NaN</td>\n",
       "      <td>912</td>\n",
       "    </tr>\n",
       "  </tbody>\n",
       "</table>\n",
       "</div>"
      ],
      "text/plain": [
       "  WAARNEMINGDATUM WAARNEMINGTIJD  LIMIETSYMBOOL  NUMERIEKEWAARDE\n",
       "0      29-09-1993       22:00:00            NaN              914\n",
       "1      29-09-1993       23:00:00            NaN              913\n",
       "2      30-09-1993        0:00:00            NaN              913\n",
       "3      30-09-1993        1:00:00            NaN              912\n",
       "4      30-09-1993        2:00:00            NaN              912"
      ]
     },
     "execution_count": 4,
     "metadata": {},
     "output_type": "execute_result"
    }
   ],
   "source": [
    "df.head()"
   ]
  },
  {
   "cell_type": "code",
   "execution_count": 5,
   "metadata": {},
   "outputs": [],
   "source": [
    "datetime = pd.to_datetime(df['WAARNEMINGDATUM'] + ' ' + df['WAARNEMINGTIJD'])\n",
    "df_comb = pd.concat([datetime, df['NUMERIEKEWAARDE']/100], axis=1)\n",
    "df_comb.columns = ['datetime', 'waterlevel']\n",
    "df_comb.set_index('datetime', inplace=True)\n",
    "df_comb.sort_index(inplace=True)\n",
    "df_comb['waterlevel'].replace(9999999.99, np.nan, inplace=True)\n",
    "df_comb.reset_index(inplace=True)"
   ]
  },
  {
   "cell_type": "code",
   "execution_count": 6,
   "metadata": {},
   "outputs": [
    {
     "data": {
      "text/html": [
       "<div>\n",
       "<style scoped>\n",
       "    .dataframe tbody tr th:only-of-type {\n",
       "        vertical-align: middle;\n",
       "    }\n",
       "\n",
       "    .dataframe tbody tr th {\n",
       "        vertical-align: top;\n",
       "    }\n",
       "\n",
       "    .dataframe thead th {\n",
       "        text-align: right;\n",
       "    }\n",
       "</style>\n",
       "<table border=\"1\" class=\"dataframe\">\n",
       "  <thead>\n",
       "    <tr style=\"text-align: right;\">\n",
       "      <th></th>\n",
       "      <th>datetime</th>\n",
       "      <th>waterlevel</th>\n",
       "    </tr>\n",
       "  </thead>\n",
       "  <tbody>\n",
       "    <tr>\n",
       "      <th>0</th>\n",
       "      <td>1885-01-01 08:40:00</td>\n",
       "      <td>11.05</td>\n",
       "    </tr>\n",
       "    <tr>\n",
       "      <th>1</th>\n",
       "      <td>1885-01-02 08:40:00</td>\n",
       "      <td>9.60</td>\n",
       "    </tr>\n",
       "    <tr>\n",
       "      <th>2</th>\n",
       "      <td>1885-01-03 08:40:00</td>\n",
       "      <td>12.03</td>\n",
       "    </tr>\n",
       "    <tr>\n",
       "      <th>3</th>\n",
       "      <td>1885-01-04 08:40:00</td>\n",
       "      <td>10.59</td>\n",
       "    </tr>\n",
       "    <tr>\n",
       "      <th>4</th>\n",
       "      <td>1885-01-05 08:40:00</td>\n",
       "      <td>9.76</td>\n",
       "    </tr>\n",
       "  </tbody>\n",
       "</table>\n",
       "</div>"
      ],
      "text/plain": [
       "             datetime  waterlevel\n",
       "0 1885-01-01 08:40:00       11.05\n",
       "1 1885-01-02 08:40:00        9.60\n",
       "2 1885-01-03 08:40:00       12.03\n",
       "3 1885-01-04 08:40:00       10.59\n",
       "4 1885-01-05 08:40:00        9.76"
      ]
     },
     "execution_count": 6,
     "metadata": {},
     "output_type": "execute_result"
    }
   ],
   "source": [
    "df_comb.head()"
   ]
  },
  {
   "cell_type": "code",
   "execution_count": 7,
   "metadata": {},
   "outputs": [],
   "source": [
    "header = pd.MultiIndex.from_product([['Lobith'],\n",
    "                                     ['Waterlevel']],\n",
    "                                    names=['location','parameter'])"
   ]
  },
  {
   "cell_type": "code",
   "execution_count": 8,
   "metadata": {},
   "outputs": [],
   "source": [
    "df = pd.DataFrame(data= df_comb['waterlevel'].tolist(), index=df_comb['datetime'].tolist(), columns=header )"
   ]
  },
  {
   "cell_type": "code",
   "execution_count": 9,
   "metadata": {},
   "outputs": [
    {
     "data": {
      "text/html": [
       "<div>\n",
       "<style scoped>\n",
       "    .dataframe tbody tr th:only-of-type {\n",
       "        vertical-align: middle;\n",
       "    }\n",
       "\n",
       "    .dataframe tbody tr th {\n",
       "        vertical-align: top;\n",
       "    }\n",
       "\n",
       "    .dataframe thead tr th {\n",
       "        text-align: left;\n",
       "    }\n",
       "</style>\n",
       "<table border=\"1\" class=\"dataframe\">\n",
       "  <thead>\n",
       "    <tr>\n",
       "      <th>location</th>\n",
       "      <th>Lobith</th>\n",
       "    </tr>\n",
       "    <tr>\n",
       "      <th>parameter</th>\n",
       "      <th>Waterlevel</th>\n",
       "    </tr>\n",
       "  </thead>\n",
       "  <tbody>\n",
       "    <tr>\n",
       "      <th>2018-09-01 21:50:00</th>\n",
       "      <td>14.62</td>\n",
       "    </tr>\n",
       "    <tr>\n",
       "      <th>2018-09-01 22:00:00</th>\n",
       "      <td>14.61</td>\n",
       "    </tr>\n",
       "    <tr>\n",
       "      <th>2018-09-01 22:10:00</th>\n",
       "      <td>14.61</td>\n",
       "    </tr>\n",
       "    <tr>\n",
       "      <th>2018-09-01 22:20:00</th>\n",
       "      <td>14.61</td>\n",
       "    </tr>\n",
       "    <tr>\n",
       "      <th>2018-09-01 22:30:00</th>\n",
       "      <td>14.62</td>\n",
       "    </tr>\n",
       "  </tbody>\n",
       "</table>\n",
       "</div>"
      ],
      "text/plain": [
       "location                Lobith\n",
       "parameter           Waterlevel\n",
       "2018-09-01 21:50:00      14.62\n",
       "2018-09-01 22:00:00      14.61\n",
       "2018-09-01 22:10:00      14.61\n",
       "2018-09-01 22:20:00      14.61\n",
       "2018-09-01 22:30:00      14.62"
      ]
     },
     "execution_count": 9,
     "metadata": {},
     "output_type": "execute_result"
    }
   ],
   "source": [
    "df.tail()"
   ]
  },
  {
   "cell_type": "code",
   "execution_count": 10,
   "metadata": {},
   "outputs": [],
   "source": [
    "startMMdd=(1,1)\n",
    "endMMdd=(12,31)"
   ]
  },
  {
   "cell_type": "code",
   "execution_count": 11,
   "metadata": {},
   "outputs": [],
   "source": [
    "df_max = hkv.read_his.SelectPeriodeWaardenArray(df, startMMdd=(1,1), endMMdd=(12,31), jaarmax_as='date')\n",
    "#df_max = df.groupby(df.index.year).max()"
   ]
  },
  {
   "cell_type": "code",
   "execution_count": 12,
   "metadata": {},
   "outputs": [
    {
     "data": {
      "text/html": [
       "<div>\n",
       "<style scoped>\n",
       "    .dataframe tbody tr th:only-of-type {\n",
       "        vertical-align: middle;\n",
       "    }\n",
       "\n",
       "    .dataframe tbody tr th {\n",
       "        vertical-align: top;\n",
       "    }\n",
       "\n",
       "    .dataframe thead tr th {\n",
       "        text-align: left;\n",
       "    }\n",
       "</style>\n",
       "<table border=\"1\" class=\"dataframe\">\n",
       "  <thead>\n",
       "    <tr>\n",
       "      <th>location</th>\n",
       "      <th>Lobith</th>\n",
       "    </tr>\n",
       "    <tr>\n",
       "      <th>parameter</th>\n",
       "      <th>Waterlevel</th>\n",
       "    </tr>\n",
       "  </thead>\n",
       "  <tbody>\n",
       "    <tr>\n",
       "      <th>2014-12-23 15:00:00</th>\n",
       "      <td>10.95</td>\n",
       "    </tr>\n",
       "    <tr>\n",
       "      <th>2015-01-14 19:00:00</th>\n",
       "      <td>12.36</td>\n",
       "    </tr>\n",
       "    <tr>\n",
       "      <th>2016-02-13 15:40:00</th>\n",
       "      <td>12.95</td>\n",
       "    </tr>\n",
       "    <tr>\n",
       "      <th>2017-12-18 02:00:00</th>\n",
       "      <td>12.76</td>\n",
       "    </tr>\n",
       "    <tr>\n",
       "      <th>2018-09-01 21:50:00</th>\n",
       "      <td>14.62</td>\n",
       "    </tr>\n",
       "  </tbody>\n",
       "</table>\n",
       "</div>"
      ],
      "text/plain": [
       "location                Lobith\n",
       "parameter           Waterlevel\n",
       "2014-12-23 15:00:00      10.95\n",
       "2015-01-14 19:00:00      12.36\n",
       "2016-02-13 15:40:00      12.95\n",
       "2017-12-18 02:00:00      12.76\n",
       "2018-09-01 21:50:00      14.62"
      ]
     },
     "execution_count": 12,
     "metadata": {},
     "output_type": "execute_result"
    }
   ],
   "source": [
    "df_max.tail()"
   ]
  },
  {
   "cell_type": "code",
   "execution_count": null,
   "metadata": {},
   "outputs": [],
   "source": [
    "startMM, startdd = startMMdd\n",
    "endMM, enddd = endMMdd    \n",
    "\n",
    "# https://stackoverflow.com/a/45996897/2459096\n",
    "# maak een month_day dataframe van de MultiYear DataFrame\n",
    "month_day = pd.concat([\n",
    "                df.index.to_series().dt.month, \n",
    "                df.index.to_series().dt.day\n",
    "            ], axis=1).apply(tuple, axis=1)        \n",
    "\n",
    "# selecteer alleen de gebeurtenissen binnen een jaarlijks terugkerende periode \n",
    "df = df[(month_day >= (startMM, startdd)) & (month_day <= (endMM, enddd))]"
   ]
  },
  {
   "cell_type": "code",
   "execution_count": null,
   "metadata": {},
   "outputs": [],
   "source": [
    "df.tail()"
   ]
  },
  {
   "cell_type": "code",
   "execution_count": null,
   "metadata": {},
   "outputs": [],
   "source": [
    "# groupy year en selecteer de max. Returned volle datums waar de max van dat jaar was \n",
    "key = df.columns.levels[1][0]\n",
    "level = df.columns.names[1]\n",
    "slice_col = df.columns.levels[0][0]\n",
    "\n",
    "idx = df.xs(key=key, level=level, axis=1).groupby([df.index.year])[slice_col].transform(max) == df.xs(key=key, level=level, axis=1)[slice_col]"
   ]
  },
  {
   "cell_type": "code",
   "execution_count": null,
   "metadata": {},
   "outputs": [],
   "source": [
    "df = df[idx]"
   ]
  },
  {
   "cell_type": "code",
   "execution_count": null,
   "metadata": {},
   "outputs": [],
   "source": [
    "df.tail()"
   ]
  },
  {
   "cell_type": "code",
   "execution_count": null,
   "metadata": {},
   "outputs": [],
   "source": [
    "# if there are multiple events in a single year with same value take the first\n",
    "df_unique = pd.DataFrame(df.index, columns=['date'])\n",
    "df_unique['index'] = df_unique['date'].apply(lambda x:x.year)\n",
    "df_unique = df_unique.groupby('index').first()\n",
    "slice_unique_values = df_unique['date'].values\n",
    "df = df.loc[slice_unique_values]\n"
   ]
  },
  {
   "cell_type": "code",
   "execution_count": null,
   "metadata": {},
   "outputs": [],
   "source": [
    "df.tail()"
   ]
  },
  {
   "cell_type": "code",
   "execution_count": null,
   "metadata": {},
   "outputs": [],
   "source": [
    "# groupy year en selecteer de max. Returned volle datums waar de max van dat jaar was \n",
    "key = df.columns.levels[1][0]\n",
    "level = df.columns.names[1]\n",
    "slice_col = df.columns.levels[0][0]\n",
    "\n",
    "# # if there are multiple events in a single year with same value take the first\n",
    "# df_unique = pd.DataFrame(df.index, columns=['date'])\n",
    "# df_unique['index'] = df_unique['date'].apply(lambda x:x.year)\n",
    "# df_unique = df_unique.groupby('index').first()\n",
    "# slice_unique_values = df_unique['date'].values\n",
    "# df = df.loc[slice_unique_values]\n",
    "\n",
    "# # next get the year maxima of the remaining gebeurtenissen\n",
    "# idx = df.xs(key=key, level=level, axis=1).groupby([df.index.year])[slice_col].transform(max) == df.xs(key=key, level=level, axis=1)[slice_col]\n",
    "# df = df[idx]"
   ]
  },
  {
   "cell_type": "code",
   "execution_count": null,
   "metadata": {},
   "outputs": [],
   "source": [
    "df_unique = pd.DataFrame(df.index, columns=['date'])\n",
    "df_unique['index'] = df_unique['date'].apply(lambda x:x.year)\n",
    "df_unique = df_unique.groupby('index').first()\n",
    "# slice_unique_values = df_unique['date'].values\n",
    "# df = df.loc[slice_unique_values]"
   ]
  },
  {
   "cell_type": "code",
   "execution_count": null,
   "metadata": {},
   "outputs": [],
   "source": [
    "df_unique.head()"
   ]
  },
  {
   "cell_type": "code",
   "execution_count": null,
   "metadata": {},
   "outputs": [],
   "source": [
    "slice_unique_values = df_unique['date'].values\n",
    "df = df.loc[slice_unique_values]"
   ]
  },
  {
   "cell_type": "code",
   "execution_count": null,
   "metadata": {},
   "outputs": [],
   "source": [
    "df.shape[0]"
   ]
  },
  {
   "cell_type": "code",
   "execution_count": 13,
   "metadata": {},
   "outputs": [],
   "source": [
    "df_enkel = df_max\n",
    "N = df_max.shape[0]"
   ]
  },
  {
   "cell_type": "code",
   "execution_count": 14,
   "metadata": {},
   "outputs": [],
   "source": [
    "# get N from tijdstapInfo metadata his-file\n",
    "#N = reflow.hisFile.tijdstapInfo.N\n",
    "\n",
    "# leid de parameters voor waterstandstatistiek af\n",
    "ws = hkv.waterlevelstat.AfleidingParameters(\n",
    "    df_enkel=df_enkel, \n",
    "    N=N,  # aantal jaren voor bepaling van de plotposities\n",
    "    vensterArray=[0, 20],  # mee te nemen gebeurtenissen\n",
    "    GumbelT=[5,10, 25, 50, 100],  # terugkeertijden voor Gumbel functie\n",
    "    TOI=2,  # terugkeertijd voor het gewogen gemiddelde\n",
    "    startMMdd=(1, 1), # start groeiseizoen\n",
    "    endMMdd=(12, 31), # einde groeseizoen   \n",
    "    jaarmax_as='none', \n",
    "    Ggi=0.44, \n",
    "    GgN=0.12)"
   ]
  },
  {
   "cell_type": "code",
   "execution_count": 15,
   "metadata": {},
   "outputs": [],
   "source": [
    "stat_object = ws"
   ]
  },
  {
   "cell_type": "code",
   "execution_count": 16,
   "metadata": {},
   "outputs": [],
   "source": [
    "from matplotlib import pyplot as plt\n",
    "from matplotlib.ticker import ScalarFormatter, FormatStrFormatter"
   ]
  },
  {
   "cell_type": "code",
   "execution_count": 18,
   "metadata": {},
   "outputs": [
    {
     "data": {
      "image/png": "[encoded data removed]",
      "text/plain": [
       "<matplotlib.figure.Figure at 0x254d54e0>"
      ]
     },
     "metadata": {},
     "output_type": "display_data"
    }
   ],
   "source": [
    "ID = stat_object.stats.stap1.ID\n",
    "S1_vAmin = stat_object.stats.stap1.vAmin\n",
    "S1_vAmax = stat_object.stats.stap1.vAmax\n",
    "S1_T = stat_object.stats.stap1.T\n",
    "S1_ws_srt = stat_object.stats.stap1.ws_srt\n",
    "S1_GumbelT = stat_object.stats.stap1.GumbelT\n",
    "S1_GumbelWS = stat_object.stats.stap1.GumbelWS\n",
    "S1_GumbelWS_line = stat_object.stats.stap1.GumbelWS_line\n",
    "S1_r_squared = stat_object.stats.stap1.r_squared\n",
    "\n",
    "S2_T = stat_object.stats.stap2.T\n",
    "S2_ws_srt = stat_object.stats.stap2.ws_srt\n",
    "\n",
    "S3_Tarray_sel_jaar = stat_object.stats.stap3.Tarray_sel_jaar\n",
    "S3_WSarray_sel_jaar = stat_object.stats.stap3.WSarray_sel_jaar\n",
    "TOI3 = stat_object.stats.stap3.TOI\n",
    "S3_WSarray_TOI_jaar = stat_object.stats.stap3.WSarray_TOI_jaar          \n",
    "\n",
    "S4_Tarray_sel_jaar = stat_object.stats.stap4.Tarray_sel_jaar\n",
    "S4_WSarray_sel_jaar = stat_object.stats.stap4.WSarray_sel_jaar\n",
    "TOI = stat_object.stats.stap4.TOI\n",
    "S4_WSarray_TOI_jaar = stat_object.stats.stap4.WSarray_TOI_jaar  \n",
    "\n",
    "\n",
    "# Voor het figuur mag de TOI niet geplot worden in de gumbel fit. \n",
    "# Kijk of TOI binnen de GumbelT bestaan en verwijder dit punt als zo.\n",
    "if TOI in S1_GumbelT:            \n",
    "    idx = S1_GumbelT.index(TOI)\n",
    "    S1_GumbelT = np.delete(S1_GumbelT, idx)\n",
    "    S1_GumbelWS = np.delete(S1_GumbelWS, idx)       \n",
    "\n",
    "fig=plt.figure(figsize=(8,6))\n",
    "ax = fig.add_subplot(111)\n",
    "ax.set_xscale('log')\n",
    "\n",
    "# plot jaarmaxima gebeurtenissen over gehele jaar ## OPEN CIRKELS\n",
    "ax.plot(S1_T, S1_ws_srt, fillstyle='none', label='waterstanden (jaarmaxima)',\n",
    "        color='#2E589F', linestyle='', marker='o', markersize=8, markerfacecoloralt='gray', alpha=0.75)\n",
    "\n",
    "# # plot maxima gebeurtenissen over de zomerbuien ## DICHTE CIRKELS\n",
    "# ax.plot(S2_T, S2_ws_srt, fillstyle='full', label='waterstanden (maxima groeiseizoen)',\n",
    "#        color='cornflowerblue', linestyle='', marker='o', markersize=8, markerfacecoloralt='gray', alpha=0.75)\n",
    "\n",
    "# plot gumble fit voor T25, T50, T100 in lijn en punt\n",
    "ax.plot(S1_T[S1_vAmin:S1_vAmax],S1_GumbelWS_line, '-', color='#3BBB75', label='Gumbel fit (venster)')\n",
    "ax.scatter(S1_GumbelT, S1_GumbelWS,s=100, marker='s', facecolors='#3BBB75', zorder=10,label='waterstand op T10, T25, T50 en T100')\n",
    "\n",
    "# plot gewogen gemiddelde voor T10 op basis van geheel jaar in punt\n",
    "ax.scatter(TOI3, S3_WSarray_TOI_jaar,s=100, marker='s',facecolors='#FF5AC3', zorder=10,label='waterstand op T{}'.format(TOI3)) # geheel jaar\n",
    "\n",
    "# # plot gewogen gemiddelde voor T10 op basis van geheel jaar in punt ## HALF-GEVULDE CIRKELS        \n",
    "# ax.plot(S3_Tarray_sel_jaar,S3_WSarray_sel_jaar, fillstyle='right', label='gebeurtenissen voor bepaling T'+str(TOI3)+' (stedelijk)',\n",
    "#        color='#865FC5', linestyle='none', marker='o', markersize=8, markerfacecoloralt='white')        \n",
    "\n",
    "# # plot gewogen gemiddelde voor T10 op basis van alleen zomerbuien in punt\n",
    "# ax.scatter(TOI, S4_WSarray_TOI_jaar,s=100, marker='s',facecolors='#CE0002', zorder=10,label='waterstand op T10 (landelijk)') # zomerbuien               \n",
    "\n",
    "# # plot gewogen gemiddelde voor T10 op basis van zomerbuien in punt ## HALF-GEVULDE CIRKELS        \n",
    "# ax.plot(S4_Tarray_sel_jaar,S4_WSarray_sel_jaar, fillstyle='right', label='gebeurtenissen voor bepaling T'+str(TOI)+ ' (landelijk)',\n",
    "#        color='#F5AC1B', linestyle='none', marker='o', markersize=8, markerfacecoloralt='white')\n",
    "\n",
    "# plot r**2 rechtsbovenin\n",
    "ax.text(0.975, 0.975, '$r^2$: '+str(np.round(S1_r_squared,2)),\n",
    "        horizontalalignment='right',\n",
    "        verticalalignment='top',\n",
    "        transform=ax.transAxes)\n",
    "\n",
    "# axes settings\n",
    "ax.set_xlim(0.1,300)\n",
    "Ymin = min(S1_ws_srt) - 0.05\n",
    "Ymax = max(S1_ws_srt) + 0.25\n",
    "ax.set_ylim(Ymin,Ymax)\n",
    "ax.set_ylabel('Waterstand (m+NAP)')\n",
    "ax.set_xlabel('Terugkeertijd (jaren)')\n",
    "ax.xaxis.set_major_formatter(FormatStrFormatter('%.0f'))\n",
    "ax.grid(True,which='both', axis='both', linestyle='-', color= '0.75', zorder=0)\n",
    "\n",
    "ax.axhline(y=14.62, label='Max. Jan 2018 (14.65mNAP)')\n",
    "\n",
    "# legend settings\n",
    "legend = plt.legend(loc='lower right',prop={'size':10})\n",
    "legend.get_frame().set_facecolor('white')\n",
    "legend.get_frame().set_alpha(1)\n",
    "legend.get_frame().set_linewidth(1)\n",
    "legend.get_frame().set_edgecolor('#8B8B8B')\n",
    "\n",
    "# table settings\n",
    "col_labels=['Terugkeertijd','Waterstand (m+NAP)']        \n",
    "table_vals = pd.DataFrame([['T'+str(i) for i in S1_GumbelT],S1_GumbelWS.round(decimals=2).tolist()]).T.values.tolist()        \n",
    "# table_vals = [['T'+str(TOI)+' (landelijk)', str(round(S4_WSarray_TOI_jaar,2))]] + table_vals\n",
    "table_vals = [['T'+str(TOI3)+' (gewogen gemiddelde)', str(round(S3_WSarray_TOI_jaar,2))]] + table_vals\n",
    "\n",
    "# the rectangle is where I want to place the table\n",
    "the_table = ax.table(cellText=table_vals,\n",
    "                  colWidths = [0.4]*2,\n",
    "                  colLabels=col_labels,\n",
    "                  loc='bottom right',bbox=[1.01, 0.0, 0.5, 0.5])                \n",
    "\n",
    "plt.title('location: '+ID)\n",
    "plt.tight_layout()"
   ]
  },
  {
   "cell_type": "code",
   "execution_count": null,
   "metadata": {},
   "outputs": [],
   "source": [
    "df.tail()"
   ]
  },
  {
   "cell_type": "code",
   "execution_count": null,
   "metadata": {},
   "outputs": [],
   "source": []
  }
 ],
 "metadata": {
  "kernelspec": {
   "display_name": "Python 3",
   "language": "python",
   "name": "python3"
  },
  "language_info": {
   "codemirror_mode": {
    "name": "ipython",
    "version": 3
   },
   "file_extension": ".py",
   "mimetype": "text/x-python",
   "name": "python",
   "nbconvert_exporter": "python",
   "pygments_lexer": "ipython3",
   "version": "3.5.2"
  }
 },
 "nbformat": 4,
 "nbformat_minor": 2
}
