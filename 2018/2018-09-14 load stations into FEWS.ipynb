{
 "cells": [
  {
   "cell_type": "code",
   "execution_count": 1,
   "metadata": {},
   "outputs": [],
   "source": [
    "import geopandas as gpd"
   ]
  },
  {
   "cell_type": "code",
   "execution_count": 2,
   "metadata": {},
   "outputs": [],
   "source": [
    "gdf = gpd.read_file(r\"D:\\Projects\\Pr\\3348.10\\Werkfolder\\json\\abstraction_points.json\")"
   ]
  },
  {
   "cell_type": "code",
   "execution_count": 3,
   "metadata": {},
   "outputs": [
    {
     "data": {
      "text/html": [
       "<div>\n",
       "<style scoped>\n",
       "    .dataframe tbody tr th:only-of-type {\n",
       "        vertical-align: middle;\n",
       "    }\n",
       "\n",
       "    .dataframe tbody tr th {\n",
       "        vertical-align: top;\n",
       "    }\n",
       "\n",
       "    .dataframe thead th {\n",
       "        text-align: right;\n",
       "    }\n",
       "</style>\n",
       "<table border=\"1\" class=\"dataframe\">\n",
       "  <thead>\n",
       "    <tr style=\"text-align: right;\">\n",
       "      <th></th>\n",
       "      <th>id</th>\n",
       "      <th>Diversion system</th>\n",
       "      <th>index</th>\n",
       "      <th>UTMy</th>\n",
       "      <th>UTMx</th>\n",
       "      <th>Major crops or aggregates</th>\n",
       "      <th>Abstraction points</th>\n",
       "      <th>Total crop area (ha)</th>\n",
       "      <th>geometry</th>\n",
       "    </tr>\n",
       "  </thead>\n",
       "  <tbody>\n",
       "    <tr>\n",
       "      <th>0</th>\n",
       "      <td>0</td>\n",
       "      <td>Pump</td>\n",
       "      <td>Awash-River</td>\n",
       "      <td>936161</td>\n",
       "      <td>517228</td>\n",
       "      <td>Vegetable*, flower</td>\n",
       "      <td>Area @ koka</td>\n",
       "      <td>800</td>\n",
       "      <td>POINT (39.15651903010993 8.469094151895581)</td>\n",
       "    </tr>\n",
       "    <tr>\n",
       "      <th>1</th>\n",
       "      <td>1</td>\n",
       "      <td>Pump</td>\n",
       "      <td>Awash-River</td>\n",
       "      <td>936147</td>\n",
       "      <td>517441</td>\n",
       "      <td>_</td>\n",
       "      <td>Adama water supply</td>\n",
       "      <td>_</td>\n",
       "      <td>POINT (39.15845411102872 8.468966737645287)</td>\n",
       "    </tr>\n",
       "    <tr>\n",
       "      <th>2</th>\n",
       "      <td>2</td>\n",
       "      <td>Pump</td>\n",
       "      <td>Awash-River</td>\n",
       "      <td>937045</td>\n",
       "      <td>519959</td>\n",
       "      <td>Vegetable</td>\n",
       "      <td>Upstream wonjo</td>\n",
       "      <td>400</td>\n",
       "      <td>POINT (39.18133425107597 8.47707946712004)</td>\n",
       "    </tr>\n",
       "    <tr>\n",
       "      <th>3</th>\n",
       "      <td>3</td>\n",
       "      <td>Pump</td>\n",
       "      <td>Awash-River</td>\n",
       "      <td>934781</td>\n",
       "      <td>525506</td>\n",
       "      <td>Sugarcane</td>\n",
       "      <td>Wonji main</td>\n",
       "      <td>5,904</td>\n",
       "      <td>POINT (39.23171811821993 8.456574314711492)</td>\n",
       "    </tr>\n",
       "    <tr>\n",
       "      <th>4</th>\n",
       "      <td>4</td>\n",
       "      <td>Pump</td>\n",
       "      <td>Awash-River</td>\n",
       "      <td>930067</td>\n",
       "      <td>531565</td>\n",
       "      <td>Sugarcane</td>\n",
       "      <td>Kuriftu</td>\n",
       "      <td>1,123</td>\n",
       "      <td>POINT (39.28673134297797 8.413898563738627)</td>\n",
       "    </tr>\n",
       "  </tbody>\n",
       "</table>\n",
       "</div>"
      ],
      "text/plain": [
       "  id Diversion system        index    UTMy    UTMx Major crops or aggregates  \\\n",
       "0  0             Pump  Awash-River  936161  517228        Vegetable*, flower   \n",
       "1  1             Pump  Awash-River  936147  517441                         _   \n",
       "2  2             Pump  Awash-River  937045  519959                 Vegetable   \n",
       "3  3             Pump  Awash-River  934781  525506                 Sugarcane   \n",
       "4  4             Pump  Awash-River  930067  531565                 Sugarcane   \n",
       "\n",
       "   Abstraction points Total crop area (ha)  \\\n",
       "0         Area @ koka                  800   \n",
       "1  Adama water supply                    _   \n",
       "2     Upstream wonjo                   400   \n",
       "3          Wonji main                5,904   \n",
       "4             Kuriftu                1,123   \n",
       "\n",
       "                                      geometry  \n",
       "0  POINT (39.15651903010993 8.469094151895581)  \n",
       "1  POINT (39.15845411102872 8.468966737645287)  \n",
       "2   POINT (39.18133425107597 8.47707946712004)  \n",
       "3  POINT (39.23171811821993 8.456574314711492)  \n",
       "4  POINT (39.28673134297797 8.413898563738627)  "
      ]
     },
     "execution_count": 3,
     "metadata": {},
     "output_type": "execute_result"
    }
   ],
   "source": [
    "gdf.head()"
   ]
  },
  {
   "cell_type": "code",
   "execution_count": null,
   "metadata": {},
   "outputs": [],
   "source": []
  }
 ],
 "metadata": {
  "kernelspec": {
   "display_name": "Python 3",
   "language": "python",
   "name": "python3"
  },
  "language_info": {
   "codemirror_mode": {
    "name": "ipython",
    "version": 3
   },
   "file_extension": ".py",
   "mimetype": "text/x-python",
   "name": "python",
   "nbconvert_exporter": "python",
   "pygments_lexer": "ipython3",
   "version": "3.6.5"
  }
 },
 "nbformat": 4,
 "nbformat_minor": 2
}
