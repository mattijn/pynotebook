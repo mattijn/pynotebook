{
 "cells": [
  {
   "cell_type": "code",
   "execution_count": 1,
   "metadata": {},
   "outputs": [],
   "source": [
    "from netCDF4 import Dataset\n",
    "from datetime import timedelta, datetime\n",
    "from collections import OrderedDict\n",
    "import pandas as pd\n",
    "import altair as alt"
   ]
  },
  {
   "cell_type": "code",
   "execution_count": 2,
   "metadata": {},
   "outputs": [],
   "source": [
    "def read_series_from_netcdf(nc_path, location, quantity):\n",
    "    \"\"\" function to read timeseries from SOBEK netcdf\n",
    "    \"\"\"\n",
    "    nc_file = Dataset(nc_path)\n",
    "    nc_location_var = nc_file.variables[\"observation_id\"]\n",
    "    location_lst = [b''.join(x).strip() for x in nc_location_var[:]]\n",
    "\n",
    "    gridpoint_index = location_lst.index(location)\n",
    "\n",
    "    nc_quantity_var =  nc_file.variables[quantity]\n",
    "    values = nc_quantity_var[:,gridpoint_index]\n",
    "    times = nc_file.variables[\"time\"][:]\n",
    "    units = nc_file.variables[\"time\"].units\n",
    "\n",
    "    start_date = datetime.strptime(units.strip('seconds since '), \"%Y-%m-%d %H:%M:%S\")\n",
    "\n",
    "    time_series = OrderedDict()\n",
    "    for t, v in zip(times, values):\n",
    "        if isinstance(t, (int, float)):\n",
    "            t_dt = start_date + timedelta(seconds=t)\n",
    "        elif isinstance(t, datetime):\n",
    "            t_dt = t\n",
    "        else:\n",
    "            print(\"Got type %s for date, while int, float or datetime was expected\", type(t))\n",
    "        t_str = datetime.strftime(t_dt, \"%Y-%m-%d %H:%M:%S\")\n",
    "        time_series[t_str] = v\n",
    "\n",
    "    df = pd.Series(time_series).to_frame()\n",
    "    df.columns=[\"{}\".format(location.decode(\"utf-8\"))]\n",
    "\n",
    "    return df"
   ]
  },
  {
   "cell_type": "code",
   "execution_count": 3,
   "metadata": {},
   "outputs": [],
   "source": [
    "def get_observations_overview(obs_path, csv_path, location_up, location_do, quantity):\n",
    "    \"\"\" combine netcdf with status csv file\n",
    "    \"\"\"\n",
    "    # read up- and downstream location MK\n",
    "    df_up = read_series_from_netcdf(obs_path, location_up, quantity)\n",
    "    df_do = read_series_from_netcdf(obs_path, location_do, quantity)    \n",
    "\n",
    "    # combine up- and downstream location\n",
    "    df = pd.concat((df_do, df_up), axis=1)\n",
    "    df.index = pd.to_datetime(df.index)   \n",
    "    \n",
    "    # read BOS status MK\n",
    "    df_csv = pd.read_csv(csv_path)   \n",
    "    \n",
    "    # parse datetime and get unique states as list\n",
    "    df_csv.index = pd.to_datetime(df_csv.date)\n",
    "    states = df_csv.state.unique().tolist()\n",
    "    #df_csv.head()    \n",
    "    \n",
    "    # merge states with waterlevel and forward fill status\n",
    "    df_merge = pd.merge(df, df_csv, how='outer', left_index=True, right_index=True)\n",
    "    df_merge.reset_index(inplace=True)\n",
    "    cols = ['date', 'state', 'comp1', 'comp2']\n",
    "    df_merge[cols] = df_merge[cols].ffill()\n",
    "    #df_merge.head()\n",
    "\n",
    "    # prepare for water level locations\n",
    "    df_melt = df_merge.melt(id_vars=['index', 'state', 'comp1', 'comp2'], value_vars=['Nieuwe Waterweg Maeslantkering zee', 'Nieuwe Maas Maeslantkering rivier'], var_name='location')  \n",
    "    \n",
    "    return df_melt, states"
   ]
  },
  {
   "cell_type": "code",
   "execution_count": 4,
   "metadata": {},
   "outputs": [],
   "source": [
    "# observations netcdf\n",
    "obs_path_f0 = r\"D:\\Projects\\Pr\\MHWp5\\Toeleveringen\\MHWp5\\results\\q3_h5_u5_d1_failure_0\\model_output\\dflow1d\\output\\observations.nc\"\n",
    "obs_path_f3 = r\"D:\\Projects\\Pr\\MHWp5\\Toeleveringen\\MHWp5\\results\\q3_h5_u5_d1_failure3_v2\\model_output\\dflow1d\\output\\observations.nc\"\n",
    "# barrier csv\n",
    "csv_path_f0 = r\"D:\\Projects\\Pr\\MHWp5\\Toeleveringen\\MHWp5\\results\\q3_h5_u5_d1_failure_0\\model_output\\dflow1d\\output\\Maeslantkering_overview.csv\"\n",
    "csv_path_f3 = r\"D:\\Projects\\Pr\\MHWp5\\Toeleveringen\\MHWp5\\results\\q3_h5_u5_d1_failure3_v2\\model_output\\dflow1d\\output\\Maeslantkering_overview.csv\"\n",
    "\n",
    "# location and quantity of interest\n",
    "location_up = b\"Nieuwe Maas Maeslantkering rivier\"\n",
    "location_do = b\"Nieuwe Waterweg Maeslantkering zee\"\n",
    "quantity = \"water_level\""
   ]
  },
  {
   "cell_type": "code",
   "execution_count": 5,
   "metadata": {},
   "outputs": [],
   "source": [
    "df_melt_f0, states_f0 = get_observations_overview(obs_path_f0, csv_path_f0, location_up, location_do, quantity)\n",
    "df_melt_f3, states_f3 = get_observations_overview(obs_path_f3, csv_path_f3, location_up, location_do, quantity)"
   ]
  },
  {
   "cell_type": "code",
   "execution_count": 14,
   "metadata": {},
   "outputs": [],
   "source": [
    "# chart failure 0\n",
    "zoom_left = alt.selection_interval(bind='scales', encodings=['x'])\n",
    "\n",
    "top_left = alt.Chart(df_melt_f0).mark_line().encode(\n",
    "  x = alt.X('index:T', timeUnit = 'yearmonthdatehoursminutes', title = None),\n",
    "  y = alt.Y('value:Q', title = 'waterlevel [m+NAP]', scale=alt.Scale(domain=[-1,5.5])),\n",
    "  color = alt.Color('location:N'),\n",
    "  tooltip = [alt.Tooltip('value:Q', format = '.2f'),'state:O', alt.Tooltip('index:T', format = '%Y-%m-%d %H:%M')]\n",
    ").add_selection(zoom_left)\n",
    "\n",
    "bottom_left = alt.Chart(df_melt_f0).mark_line().encode(\n",
    "  x = alt.X('index:T', timeUnit = 'yearmonthdatehoursminutes', title = None),\n",
    "  y = alt.Y('state:O', sort = states_f0[::-1]),\n",
    "  order = alt.Order('index:T'),\n",
    "  tooltip = ['state:O', 'comp1:O', 'comp2:O', alt.Tooltip('index:T', format = '%Y-%m-%d %H:%M')]\n",
    ").add_selection(zoom_left)\n",
    "\n",
    "panel_left = (top_left & bottom_left).properties(title = 'Q3_H5_U5_D1 Normaal functioneren')"
   ]
  },
  {
   "cell_type": "code",
   "execution_count": 23,
   "metadata": {},
   "outputs": [],
   "source": [
    "# chart failure 3\n",
    "zoom_right = alt.selection_interval(bind='scales', encodings=['x'])\n",
    "\n",
    "top_right = alt.Chart(df_melt_f3).mark_line().encode(\n",
    "    x=alt.X('index:T',timeUnit='yearmonthdatehoursminutes', title=None),\n",
    "    y=alt.Y('value:Q', title='waterlevel [m+NAP]', scale=alt.Scale(domain=[-1,5.5])),\n",
    "    color=alt.Color('location:N'),\n",
    "    tooltip = [alt.Tooltip('value:Q', format = '.2f'),'state:O', alt.Tooltip('index:T', format = '%Y-%m-%d %H:%M')]\n",
    ").add_selection(zoom_right)\n",
    "\n",
    "bottom_right = alt.Chart(df_melt_f3).mark_line().encode(\n",
    "    x=alt.X('index:T',timeUnit='yearmonthdatehoursminutes', title=None),\n",
    "    y=alt.Y('state:O', sort = states_f0[::-1]),#sort=states_f3[::-1]),\n",
    "    order=alt.Order('index:T'),\n",
    "    tooltip=['state:O', 'comp1:O', 'comp2:O',alt.Tooltip('index:T', format='%Y-%m-%d %H:%M')]                 \n",
    ").add_selection(zoom_right)\n",
    "\n",
    "panel_right = (top_right & bottom_right).properties(title = 'Q3_H5_U5_D1 Faalmodus - 2')"
   ]
  },
  {
   "cell_type": "code",
   "execution_count": 24,
   "metadata": {},
   "outputs": [],
   "source": [
    "chart = (panel_left | panel_right).configure_legend(labelLimit = 0).configure_axisY(grid=True)"
   ]
  },
  {
   "cell_type": "code",
   "execution_count": 25,
   "metadata": {},
   "outputs": [
    {
     "data": {
      "application/vnd.vegalite.v2+json": {
       "$schema": "https://vega.github.io/schema/vega-lite/v2.6.0.json",
       "config": {
        "axisY": {
         "grid": true
        },
        "legend": {
         "labelLimit": 0
        },
        "view": {
         "height": 300,
         "width": 400
        }
       },
       "datasets": {
        "data-9c53101c189972684da97889f308f4ab": [
         {
          "comp1": null,
          "comp2": null,
          "index": "1991-01-05T03:20:00",
          "location": "Nieuwe Waterweg Maeslantkering zee",
          "state": null,
          "value": 1.3388391328403506
         },
         {
          "comp1": null,
          "comp2": null,
          "index": "1991-01-05T03:30:00",
          "location": "Nieuwe Waterweg Maeslantkering zee",
          "state": null,
          "value": 1.1170664782192552
         },
         {
          "comp1": null,
          "comp2": null,
          "index": "1991-01-05T03:40:00",
          "location": "Nieuwe Waterweg Maeslantkering zee",
          "state": null,
          "value": 0.7759028766971459
         },
         {
          "comp1": null,
          "comp2": null,
          "index": "1991-01-05T03:50:00",
          "location": "Nieuwe Waterweg Maeslantkering zee",
          "state": null,
          "value": 0.6502717769673362
         },
         {
          "comp1": null,
          "comp2": null,
          "index": "1991-01-05T04:00:00",
          "location": "Nieuwe Waterweg Maeslantkering zee",
          "state": null,
          "value": 0.6615691151047228
         },
         {
          "comp1": null,
          "comp2": null,
          "index": "1991-01-05T04:10:00",
          "location": "Nieuwe Waterweg Maeslantkering zee",
          "state": null,
          "value": 0.7200790070447948
         },
         {
          "comp1": 360,
          "comp2": -7,
          "index": "1991-01-05T04:20:00",
          "location": "Nieuwe Waterweg Maeslantkering zee",
          "state": "Rust",
          "value": 0.8218889132839957
         },
         {
          "comp1": 360,
          "comp2": -7,
          "index": "1991-01-05T04:30:00",
          "location": "Nieuwe Waterweg Maeslantkering zee",
          "state": "Rust",
          "value": 0.9768887301472597
         },
         {
          "comp1": 360,
          "comp2": -7,
          "index": "1991-01-05T04:40:00",
          "location": "Nieuwe Waterweg Maeslantkering zee",
          "state": "Rust",
          "value": 1.1505301568264774
         },
         {
          "comp1": 360,
          "comp2": -7,
          "index": "1991-01-05T04:50:00",
          "location": "Nieuwe Waterweg Maeslantkering zee",
          "state": "Rust",
          "value": 1.310727426610893
         },
         {
          "comp1": 360,
          "comp2": -7,
          "index": "1991-01-05T05:00:00",
          "location": "Nieuwe Waterweg Maeslantkering zee",
          "state": "Rust",
          "value": 1.3947692118187343
         },
         {
          "comp1": 360,
          "comp2": -7,
          "index": "1991-01-05T05:10:00",
          "location": "Nieuwe Waterweg Maeslantkering zee",
          "state": "Rust",
          "value": 1.3752387538458115
         },
         {
          "comp1": 360,
          "comp2": -7,
          "index": "1991-01-05T05:20:00",
          "location": "Nieuwe Waterweg Maeslantkering zee",
          "state": "Rust",
          "value": 1.314697300844879
         },
         {
          "comp1": 360,
          "comp2": -7,
          "index": "1991-01-05T05:30:00",
          "location": "Nieuwe Waterweg Maeslantkering zee",
          "state": "Rust",
          "value": 1.2538574949420527
         },
         {
          "comp1": 360,
          "comp2": -7,
          "index": "1991-01-05T05:40:00",
          "location": "Nieuwe Waterweg Maeslantkering zee",
          "state": "Rust",
          "value": 1.1974660770643357
         },
         {
          "comp1": 360,
          "comp2": -7,
          "index": "1991-01-05T05:50:00",
          "location": "Nieuwe Waterweg Maeslantkering zee",
          "state": "Rust",
          "value": 1.1502343365842047
         },
         {
          "comp1": 360,
          "comp2": -7,
          "index": "1991-01-05T06:00:00",
          "location": "Nieuwe Waterweg Maeslantkering zee",
          "state": "Rust",
          "value": 1.1041959540692854
         },
         {
          "comp1": 360,
          "comp2": -7,
          "index": "1991-01-05T06:10:00",
          "location": "Nieuwe Waterweg Maeslantkering zee",
          "state": "Rust",
          "value": 1.0600035558749241
         },
         {
          "comp1": 360,
          "comp2": -7,
          "index": "1991-01-05T06:20:00",
          "location": "Nieuwe Waterweg Maeslantkering zee",
          "state": "Rust",
          "value": 1.0322795379427006
         },
         {
          "comp1": 360,
          "comp2": -7,
          "index": "1991-01-05T06:30:00",
          "location": "Nieuwe Waterweg Maeslantkering zee",
          "state": "Rust",
          "value": 1.0339483272565353
         },
         {
          "comp1": 360,
          "comp2": -7,
          "index": "1991-01-05T06:40:00",
          "location": "Nieuwe Waterweg Maeslantkering zee",
          "state": "Rust",
          "value": 1.0410542186656175
         },
         {
          "comp1": 360,
          "comp2": -7,
          "index": "1991-01-05T06:50:00",
          "location": "Nieuwe Waterweg Maeslantkering zee",
          "state": "Rust",
          "value": 1.0336965496230461
         },
         {
          "comp1": 360,
          "comp2": -7,
          "index": "1991-01-05T07:00:00",
          "location": "Nieuwe Waterweg Maeslantkering zee",
          "state": "Rust",
          "value": 1.0044084857147886
         },
         {
          "comp1": 360,
          "comp2": -7,
          "index": "1991-01-05T07:10:00",
          "location": "Nieuwe Waterweg Maeslantkering zee",
          "state": "Rust",
          "value": 0.9499289820725365
         },
         {
          "comp1": 360,
          "comp2": -7,
          "index": "1991-01-05T07:20:00",
          "location": "Nieuwe Waterweg Maeslantkering zee",
          "state": "Rust",
          "value": 0.8673159979304254
         },
         {
          "comp1": 360,
          "comp2": -7,
          "index": "1991-01-05T07:30:00",
          "location": "Nieuwe Waterweg Maeslantkering zee",
          "state": "Rust",
          "value": 0.7702905069382592
         },
         {
          "comp1": 360,
          "comp2": -7,
          "index": "1991-01-05T07:40:00",
          "location": "Nieuwe Waterweg Maeslantkering zee",
          "state": "Rust",
          "value": 0.6691759049730037
         },
         {
          "comp1": 360,
          "comp2": -7,
          "index": "1991-01-05T07:50:00",
          "location": "Nieuwe Waterweg Maeslantkering zee",
          "state": "Rust",
          "value": 0.5671458432573685
         },
         {
          "comp1": 360,
          "comp2": -7,
          "index": "1991-01-05T08:00:00",
          "location": "Nieuwe Waterweg Maeslantkering zee",
          "state": "Rust",
          "value": 0.47303095480356594
         },
         {
          "comp1": 360,
          "comp2": -7,
          "index": "1991-01-05T08:10:00",
          "location": "Nieuwe Waterweg Maeslantkering zee",
          "state": "Rust",
          "value": 0.3859812766489088
         },
         {
          "comp1": 360,
          "comp2": -7,
          "index": "1991-01-05T08:20:00",
          "location": "Nieuwe Waterweg Maeslantkering zee",
          "state": "Rust",
          "value": 0.306270344299877
         },
         {
          "comp1": 360,
          "comp2": -7,
          "index": "1991-01-05T08:30:00",
          "location": "Nieuwe Waterweg Maeslantkering zee",
          "state": "Rust",
          "value": 0.22758243264079198
         },
         {
          "comp1": 360,
          "comp2": -7,
          "index": "1991-01-05T08:40:00",
          "location": "Nieuwe Waterweg Maeslantkering zee",
          "state": "Rust",
          "value": 0.1388185069269021
         },
         {
          "comp1": 360,
          "comp2": -7,
          "index": "1991-01-05T08:50:00",
          "location": "Nieuwe Waterweg Maeslantkering zee",
          "state": "Rust",
          "value": 0.04910728691729931
         },
         {
          "comp1": 360,
          "comp2": -7,
          "index": "1991-01-05T09:00:00",
          "location": "Nieuwe Waterweg Maeslantkering zee",
          "state": "Rust",
          "value": -0.03974356714618814
         },
         {
          "comp1": 360,
          "comp2": -7,
          "index": "1991-01-05T09:10:00",
          "location": "Nieuwe Waterweg Maeslantkering zee",
          "state": "Rust",
          "value": -0.12491967570241772
         },
         {
          "comp1": 360,
          "comp2": -7,
          "index": "1991-01-05T09:20:00",
          "location": "Nieuwe Waterweg Maeslantkering zee",
          "state": "Rust",
          "value": -0.20719075080353552
         },
         {
          "comp1": 360,
          "comp2": -7,
          "index": "1991-01-05T09:30:00",
          "location": "Nieuwe Waterweg Maeslantkering zee",
          "state": "Rust",
          "value": -0.28694922929365163
         },
         {
          "comp1": 360,
          "comp2": -7,
          "index": "1991-01-05T09:40:00",
          "location": "Nieuwe Waterweg Maeslantkering zee",
          "state": "Rust",
          "value": -0.3673841608013969
         },
         {
          "comp1": 360,
          "comp2": -7,
          "index": "1991-01-05T09:50:00",
          "location": "Nieuwe Waterweg Maeslantkering zee",
          "state": "Rust",
          "value": -0.44052167797885533
         },
         {
          "comp1": 360,
          "comp2": -7,
          "index": "1991-01-05T10:00:00",
          "location": "Nieuwe Waterweg Maeslantkering zee",
          "state": "Rust",
          "value": -0.504279044908925
         },
         {
          "comp1": 360,
          "comp2": -7,
          "index": "1991-01-05T10:10:00",
          "location": "Nieuwe Waterweg Maeslantkering zee",
          "state": "Rust",
          "value": -0.5545072695298461
         },
         {
          "comp1": 360,
          "comp2": -7,
          "index": "1991-01-05T10:20:00",
          "location": "Nieuwe Waterweg Maeslantkering zee",
          "state": "Rust",
          "value": -0.5867609956730843
         },
         {
          "comp1": 360,
          "comp2": -7,
          "index": "1991-01-05T10:30:00",
          "location": "Nieuwe Waterweg Maeslantkering zee",
          "state": "Rust",
          "value": -0.6075297602817079
         },
         {
          "comp1": 360,
          "comp2": -7,
          "index": "1991-01-05T10:40:00",
          "location": "Nieuwe Waterweg Maeslantkering zee",
          "state": "Rust",
          "value": -0.615894296854427
         },
         {
          "comp1": 360,
          "comp2": -7,
          "index": "1991-01-05T10:50:00",
          "location": "Nieuwe Waterweg Maeslantkering zee",
          "state": "Rust",
          "value": -0.6152359035970215
         },
         {
          "comp1": 360,
          "comp2": -7,
          "index": "1991-01-05T11:00:00",
          "location": "Nieuwe Waterweg Maeslantkering zee",
          "state": "Rust",
          "value": -0.6066114256081994
         },
         {
          "comp1": 360,
          "comp2": -7,
          "index": "1991-01-05T11:10:00",
          "location": "Nieuwe Waterweg Maeslantkering zee",
          "state": "Rust",
          "value": -0.5935734068873304
         },
         {
          "comp1": 360,
          "comp2": -7,
          "index": "1991-01-05T11:20:00",
          "location": "Nieuwe Waterweg Maeslantkering zee",
          "state": "Rust",
          "value": -0.5830336186683414
         },
         {
          "comp1": 360,
          "comp2": -7,
          "index": "1991-01-05T11:30:00",
          "location": "Nieuwe Waterweg Maeslantkering zee",
          "state": "Rust",
          "value": -0.5725340814643504
         },
         {
          "comp1": 360,
          "comp2": -7,
          "index": "1991-01-05T11:40:00",
          "location": "Nieuwe Waterweg Maeslantkering zee",
          "state": "Rust",
          "value": -0.5622035993225587
         },
         {
          "comp1": 360,
          "comp2": -7,
          "index": "1991-01-05T11:50:00",
          "location": "Nieuwe Waterweg Maeslantkering zee",
          "state": "Rust",
          "value": -0.5574583120756889
         },
         {
          "comp1": 360,
          "comp2": -7,
          "index": "1991-01-05T12:00:00",
          "location": "Nieuwe Waterweg Maeslantkering zee",
          "state": "Rust",
          "value": -0.5611845241955624
         },
         {
          "comp1": 360,
          "comp2": -7,
          "index": "1991-01-05T12:10:00",
          "location": "Nieuwe Waterweg Maeslantkering zee",
          "state": "Rust",
          "value": -0.5678641094464703
         },
         {
          "comp1": 360,
          "comp2": -7,
          "index": "1991-01-05T12:20:00",
          "location": "Nieuwe Waterweg Maeslantkering zee",
          "state": "Rust",
          "value": -0.576418632034142
         },
         {
          "comp1": 360,
          "comp2": -7,
          "index": "1991-01-05T12:30:00",
          "location": "Nieuwe Waterweg Maeslantkering zee",
          "state": "Rust",
          "value": -0.5817475540900857
         },
         {
          "comp1": 360,
          "comp2": -7,
          "index": "1991-01-05T12:40:00",
          "location": "Nieuwe Waterweg Maeslantkering zee",
          "state": "Rust",
          "value": -0.5866330742368658
         },
         {
          "comp1": 360,
          "comp2": -7,
          "index": "1991-01-05T12:50:00",
          "location": "Nieuwe Waterweg Maeslantkering zee",
          "state": "Rust",
          "value": -0.5893345069205426
         },
         {
          "comp1": 360,
          "comp2": -7,
          "index": "1991-01-05T13:00:00",
          "location": "Nieuwe Waterweg Maeslantkering zee",
          "state": "Rust",
          "value": -0.5890441249393911
         },
         {
          "comp1": 360,
          "comp2": -7,
          "index": "1991-01-05T13:10:00",
          "location": "Nieuwe Waterweg Maeslantkering zee",
          "state": "Rust",
          "value": -0.5866956179398349
         },
         {
          "comp1": 360,
          "comp2": -7,
          "index": "1991-01-05T13:20:00",
          "location": "Nieuwe Waterweg Maeslantkering zee",
          "state": "Rust",
          "value": -0.5829476625318584
         },
         {
          "comp1": 360,
          "comp2": -7,
          "index": "1991-01-05T13:30:00",
          "location": "Nieuwe Waterweg Maeslantkering zee",
          "state": "Rust",
          "value": -0.5794101405691577
         },
         {
          "comp1": 360,
          "comp2": -7,
          "index": "1991-01-05T13:40:00",
          "location": "Nieuwe Waterweg Maeslantkering zee",
          "state": "Rust",
          "value": -0.5731488560736846
         },
         {
          "comp1": 360,
          "comp2": -7,
          "index": "1991-01-05T13:50:00",
          "location": "Nieuwe Waterweg Maeslantkering zee",
          "state": "Rust",
          "value": -0.563924549701537
         },
         {
          "comp1": 360,
          "comp2": -7,
          "index": "1991-01-05T14:00:00",
          "location": "Nieuwe Waterweg Maeslantkering zee",
          "state": "Rust",
          "value": -0.5489167729719329
         },
         {
          "comp1": 360,
          "comp2": -7,
          "index": "1991-01-05T14:10:00",
          "location": "Nieuwe Waterweg Maeslantkering zee",
          "state": "Rust",
          "value": -0.5259615664444479
         },
         {
          "comp1": 360,
          "comp2": -7,
          "index": "1991-01-05T14:20:00",
          "location": "Nieuwe Waterweg Maeslantkering zee",
          "state": "Rust",
          "value": -0.49696263850508593
         },
         {
          "comp1": 360,
          "comp2": -7,
          "index": "1991-01-05T14:30:00",
          "location": "Nieuwe Waterweg Maeslantkering zee",
          "state": "Rust",
          "value": -0.4561109107974185
         },
         {
          "comp1": 360,
          "comp2": -7,
          "index": "1991-01-05T14:40:00",
          "location": "Nieuwe Waterweg Maeslantkering zee",
          "state": "Rust",
          "value": -0.40800853447972457
         },
         {
          "comp1": 360,
          "comp2": -7,
          "index": "1991-01-05T14:50:00",
          "location": "Nieuwe Waterweg Maeslantkering zee",
          "state": "Rust",
          "value": -0.35346831245314625
         },
         {
          "comp1": 360,
          "comp2": -7,
          "index": "1991-01-05T15:00:00",
          "location": "Nieuwe Waterweg Maeslantkering zee",
          "state": "Rust",
          "value": -0.29421462993591235
         },
         {
          "comp1": 360,
          "comp2": -7,
          "index": "1991-01-05T15:10:00",
          "location": "Nieuwe Waterweg Maeslantkering zee",
          "state": "Rust",
          "value": -0.22855205661853578
         },
         {
          "comp1": 360,
          "comp2": -7,
          "index": "1991-01-05T15:20:00",
          "location": "Nieuwe Waterweg Maeslantkering zee",
          "state": "Rust",
          "value": -0.15299467782940065
         },
         {
          "comp1": 360,
          "comp2": -7,
          "index": "1991-01-05T15:30:00",
          "location": "Nieuwe Waterweg Maeslantkering zee",
          "state": "Rust",
          "value": -0.054512223842648956
         },
         {
          "comp1": 360,
          "comp2": -7,
          "index": "1991-01-05T15:40:00",
          "location": "Nieuwe Waterweg Maeslantkering zee",
          "state": "Rust",
          "value": 0.06091720037132391
         },
         {
          "comp1": 360,
          "comp2": -7,
          "index": "1991-01-05T15:50:00",
          "location": "Nieuwe Waterweg Maeslantkering zee",
          "state": "Rust",
          "value": 0.19471433113226808
         },
         {
          "comp1": 360,
          "comp2": -7,
          "index": "1991-01-05T16:00:00",
          "location": "Nieuwe Waterweg Maeslantkering zee",
          "state": "Rust",
          "value": 0.35272975087821845
         },
         {
          "comp1": 360,
          "comp2": -7,
          "index": "1991-01-05T16:10:00",
          "location": "Nieuwe Waterweg Maeslantkering zee",
          "state": "Rust",
          "value": 0.516755889389829
         },
         {
          "comp1": 360,
          "comp2": -7,
          "index": "1991-01-05T16:20:00",
          "location": "Nieuwe Waterweg Maeslantkering zee",
          "state": "Rust",
          "value": 0.6781547656759277
         },
         {
          "comp1": 360,
          "comp2": -7,
          "index": "1991-01-05T16:30:00",
          "location": "Nieuwe Waterweg Maeslantkering zee",
          "state": "Rust",
          "value": 0.8272589345386194
         },
         {
          "comp1": 360,
          "comp2": -7,
          "index": "1991-01-05T16:40:00",
          "location": "Nieuwe Waterweg Maeslantkering zee",
          "state": "Rust",
          "value": 0.9655088082085594
         },
         {
          "comp1": 360,
          "comp2": -7,
          "index": "1991-01-05T16:50:00",
          "location": "Nieuwe Waterweg Maeslantkering zee",
          "state": "Rust",
          "value": 1.0849032113911898
         },
         {
          "comp1": 360,
          "comp2": -7,
          "index": "1991-01-05T17:00:00",
          "location": "Nieuwe Waterweg Maeslantkering zee",
          "state": "Rust",
          "value": 1.1910759675559845
         },
         {
          "comp1": 360,
          "comp2": -7,
          "index": "1991-01-05T17:10:00",
          "location": "Nieuwe Waterweg Maeslantkering zee",
          "state": "Rust",
          "value": 1.2599020321832406
         },
         {
          "comp1": 360,
          "comp2": -7,
          "index": "1991-01-05T17:20:00",
          "location": "Nieuwe Waterweg Maeslantkering zee",
          "state": "Rust",
          "value": 1.294681302304962
         },
         {
          "comp1": 360,
          "comp2": -7,
          "index": "1991-01-05T17:30:00",
          "location": "Nieuwe Waterweg Maeslantkering zee",
          "state": "Rust",
          "value": 1.3002075124770238
         },
         {
          "comp1": 360,
          "comp2": -7,
          "index": "1991-01-05T17:40:00",
          "location": "Nieuwe Waterweg Maeslantkering zee",
          "state": "Rust",
          "value": 1.2836711617032857
         },
         {
          "comp1": 360,
          "comp2": -7,
          "index": "1991-01-05T17:50:00",
          "location": "Nieuwe Waterweg Maeslantkering zee",
          "state": "Rust",
          "value": 1.2598249206529464
         },
         {
          "comp1": 360,
          "comp2": -7,
          "index": "1991-01-05T18:00:00",
          "location": "Nieuwe Waterweg Maeslantkering zee",
          "state": "Rust",
          "value": 1.2308478731156327
         },
         {
          "comp1": 360,
          "comp2": -7,
          "index": "1991-01-05T18:10:00",
          "location": "Nieuwe Waterweg Maeslantkering zee",
          "state": "Rust",
          "value": 1.2048052762946513
         },
         {
          "comp1": 360,
          "comp2": -7,
          "index": "1991-01-05T18:20:00",
          "location": "Nieuwe Waterweg Maeslantkering zee",
          "state": "Rust",
          "value": 1.1766572065997525
         },
         {
          "comp1": 360,
          "comp2": -7,
          "index": "1991-01-05T18:30:00",
          "location": "Nieuwe Waterweg Maeslantkering zee",
          "state": "Rust",
          "value": 1.1481124654132608
         },
         {
          "comp1": 360,
          "comp2": -7,
          "index": "1991-01-05T18:40:00",
          "location": "Nieuwe Waterweg Maeslantkering zee",
          "state": "Rust",
          "value": 1.1209533338960425
         },
         {
          "comp1": 360,
          "comp2": -7,
          "index": "1991-01-05T18:50:00",
          "location": "Nieuwe Waterweg Maeslantkering zee",
          "state": "Rust",
          "value": 1.0949813309755592
         },
         {
          "comp1": 360,
          "comp2": -7,
          "index": "1991-01-05T19:00:00",
          "location": "Nieuwe Waterweg Maeslantkering zee",
          "state": "Rust",
          "value": 1.0634641896195087
         },
         {
          "comp1": 360,
          "comp2": -7,
          "index": "1991-01-05T19:10:00",
          "location": "Nieuwe Waterweg Maeslantkering zee",
          "state": "Rust",
          "value": 1.0257724609725192
         },
         {
          "comp1": 360,
          "comp2": -7,
          "index": "1991-01-05T19:20:00",
          "location": "Nieuwe Waterweg Maeslantkering zee",
          "state": "Rust",
          "value": 0.9811319788590505
         },
         {
          "comp1": 360,
          "comp2": -7,
          "index": "1991-01-05T19:30:00",
          "location": "Nieuwe Waterweg Maeslantkering zee",
          "state": "Rust",
          "value": 0.9299408830537021
         },
         {
          "comp1": 360,
          "comp2": -7,
          "index": "1991-01-05T19:40:00",
          "location": "Nieuwe Waterweg Maeslantkering zee",
          "state": "Rust",
          "value": 0.8770205656424009
         },
         {
          "comp1": 360,
          "comp2": -7,
          "index": "1991-01-05T19:50:00",
          "location": "Nieuwe Waterweg Maeslantkering zee",
          "state": "Rust",
          "value": 0.8055604125890241
         },
         {
          "comp1": 360,
          "comp2": -7,
          "index": "1991-01-05T20:00:00",
          "location": "Nieuwe Waterweg Maeslantkering zee",
          "state": "Rust",
          "value": 0.7374482228508
         },
         {
          "comp1": 360,
          "comp2": -7,
          "index": "1991-01-05T20:10:00",
          "location": "Nieuwe Waterweg Maeslantkering zee",
          "state": "Rust",
          "value": 0.669033886521289
         },
         {
          "comp1": 360,
          "comp2": -7,
          "index": "1991-01-05T20:20:00",
          "location": "Nieuwe Waterweg Maeslantkering zee",
          "state": "Rust",
          "value": 0.602239410423691
         },
         {
          "comp1": 360,
          "comp2": -7,
          "index": "1991-01-05T20:30:00",
          "location": "Nieuwe Waterweg Maeslantkering zee",
          "state": "Rust",
          "value": 0.535003621994773
         },
         {
          "comp1": 360,
          "comp2": -7,
          "index": "1991-01-05T20:40:00",
          "location": "Nieuwe Waterweg Maeslantkering zee",
          "state": "Rust",
          "value": 0.4649670659649376
         },
         {
          "comp1": 360,
          "comp2": -7,
          "index": "1991-01-05T20:50:00",
          "location": "Nieuwe Waterweg Maeslantkering zee",
          "state": "Rust",
          "value": 0.3983107567853372
         },
         {
          "comp1": 360,
          "comp2": -7,
          "index": "1991-01-05T21:00:00",
          "location": "Nieuwe Waterweg Maeslantkering zee",
          "state": "Rust",
          "value": 0.3270267699364723
         },
         {
          "comp1": 360,
          "comp2": -7,
          "index": "1991-01-05T21:10:00",
          "location": "Nieuwe Waterweg Maeslantkering zee",
          "state": "Rust",
          "value": 0.25372573284470173
         },
         {
          "comp1": 360,
          "comp2": -7,
          "index": "1991-01-05T21:20:00",
          "location": "Nieuwe Waterweg Maeslantkering zee",
          "state": "Rust",
          "value": 0.17713228994255656
         },
         {
          "comp1": 360,
          "comp2": -7,
          "index": "1991-01-05T21:30:00",
          "location": "Nieuwe Waterweg Maeslantkering zee",
          "state": "Rust",
          "value": 0.09354168750287364
         },
         {
          "comp1": 360,
          "comp2": -7,
          "index": "1991-01-05T21:40:00",
          "location": "Nieuwe Waterweg Maeslantkering zee",
          "state": "Rust",
          "value": -0.0009495984285665484
         },
         {
          "comp1": 360,
          "comp2": -7,
          "index": "1991-01-05T21:50:00",
          "location": "Nieuwe Waterweg Maeslantkering zee",
          "state": "Rust",
          "value": -0.10129716333719249
         },
         {
          "comp1": 360,
          "comp2": -7,
          "index": "1991-01-05T22:00:00",
          "location": "Nieuwe Waterweg Maeslantkering zee",
          "state": "Rust",
          "value": -0.20021948896142427
         },
         {
          "comp1": 360,
          "comp2": -7,
          "index": "1991-01-05T22:10:00",
          "location": "Nieuwe Waterweg Maeslantkering zee",
          "state": "Rust",
          "value": -0.2947550263379207
         },
         {
          "comp1": 360,
          "comp2": -7,
          "index": "1991-01-05T22:20:00",
          "location": "Nieuwe Waterweg Maeslantkering zee",
          "state": "Rust",
          "value": -0.3817550868697781
         },
         {
          "comp1": 360,
          "comp2": -7,
          "index": "1991-01-05T22:30:00",
          "location": "Nieuwe Waterweg Maeslantkering zee",
          "state": "Rust",
          "value": -0.4585409708215988
         },
         {
          "comp1": 360,
          "comp2": -7,
          "index": "1991-01-05T22:40:00",
          "location": "Nieuwe Waterweg Maeslantkering zee",
          "state": "Rust",
          "value": -0.5195698913866325
         },
         {
          "comp1": 360,
          "comp2": -7,
          "index": "1991-01-05T22:50:00",
          "location": "Nieuwe Waterweg Maeslantkering zee",
          "state": "Rust",
          "value": -0.5632599278416074
         },
         {
          "comp1": 360,
          "comp2": -7,
          "index": "1991-01-05T23:00:00",
          "location": "Nieuwe Waterweg Maeslantkering zee",
          "state": "Rust",
          "value": -0.5905988325931228
         },
         {
          "comp1": 360,
          "comp2": -7,
          "index": "1991-01-05T23:10:00",
          "location": "Nieuwe Waterweg Maeslantkering zee",
          "state": "Rust",
          "value": -0.6003832017672797
         },
         {
          "comp1": 360,
          "comp2": -7,
          "index": "1991-01-05T23:20:00",
          "location": "Nieuwe Waterweg Maeslantkering zee",
          "state": "Rust",
          "value": -0.591426052936649
         },
         {
          "comp1": 360,
          "comp2": -7,
          "index": "1991-01-05T23:30:00",
          "location": "Nieuwe Waterweg Maeslantkering zee",
          "state": "Rust",
          "value": -0.5690893253809133
         },
         {
          "comp1": 360,
          "comp2": -7,
          "index": "1991-01-05T23:40:00",
          "location": "Nieuwe Waterweg Maeslantkering zee",
          "state": "Rust",
          "value": -0.548412557895213
         },
         {
          "comp1": 360,
          "comp2": -7,
          "index": "1991-01-05T23:50:00",
          "location": "Nieuwe Waterweg Maeslantkering zee",
          "state": "Rust",
          "value": -0.5359213151829484
         },
         {
          "comp1": 360,
          "comp2": -7,
          "index": "1991-01-06T00:00:00",
          "location": "Nieuwe Waterweg Maeslantkering zee",
          "state": "Rust",
          "value": -0.5330491394774686
         },
         {
          "comp1": 360,
          "comp2": -7,
          "index": "1991-01-06T00:10:00",
          "location": "Nieuwe Waterweg Maeslantkering zee",
          "state": "Rust",
          "value": -0.5325742279147503
         },
         {
          "comp1": 360,
          "comp2": -7,
          "index": "1991-01-06T00:20:00",
          "location": "Nieuwe Waterweg Maeslantkering zee",
          "state": "Rust",
          "value": -0.5384757335903704
         },
         {
          "comp1": 360,
          "comp2": -7,
          "index": "1991-01-06T00:30:00",
          "location": "Nieuwe Waterweg Maeslantkering zee",
          "state": "Rust",
          "value": -0.5464440050398383
         },
         {
          "comp1": 360,
          "comp2": -7,
          "index": "1991-01-06T00:40:00",
          "location": "Nieuwe Waterweg Maeslantkering zee",
          "state": "Rust",
          "value": -0.5546015374224955
         },
         {
          "comp1": 360,
          "comp2": -7,
          "index": "1991-01-06T00:50:00",
          "location": "Nieuwe Waterweg Maeslantkering zee",
          "state": "Rust",
          "value": -0.5658938140434842
         },
         {
          "comp1": 360,
          "comp2": -7,
          "index": "1991-01-06T01:00:00",
          "location": "Nieuwe Waterweg Maeslantkering zee",
          "state": "Rust",
          "value": -0.5745208477493388
         },
         {
          "comp1": 360,
          "comp2": -7,
          "index": "1991-01-06T01:10:00",
          "location": "Nieuwe Waterweg Maeslantkering zee",
          "state": "Rust",
          "value": -0.5814347449508139
         },
         {
          "comp1": 360,
          "comp2": -7,
          "index": "1991-01-06T01:20:00",
          "location": "Nieuwe Waterweg Maeslantkering zee",
          "state": "Rust",
          "value": -0.5839654071889298
         },
         {
          "comp1": 360,
          "comp2": -7,
          "index": "1991-01-06T01:30:00",
          "location": "Nieuwe Waterweg Maeslantkering zee",
          "state": "Rust",
          "value": -0.5825950832725624
         },
         {
          "comp1": 360,
          "comp2": -7,
          "index": "1991-01-06T01:40:00",
          "location": "Nieuwe Waterweg Maeslantkering zee",
          "state": "Rust",
          "value": -0.580394869986132
         },
         {
          "comp1": 360,
          "comp2": -7,
          "index": "1991-01-06T01:50:00",
          "location": "Nieuwe Waterweg Maeslantkering zee",
          "state": "Rust",
          "value": -0.5785065512468299
         },
         {
          "comp1": 360,
          "comp2": -7,
          "index": "1991-01-06T02:00:00",
          "location": "Nieuwe Waterweg Maeslantkering zee",
          "state": "Rust",
          "value": -0.5769567916364289
         },
         {
          "comp1": 360,
          "comp2": -7,
          "index": "1991-01-06T02:10:00",
          "location": "Nieuwe Waterweg Maeslantkering zee",
          "state": "Rust",
          "value": -0.5714246012386277
         },
         {
          "comp1": 360,
          "comp2": -7,
          "index": "1991-01-06T02:20:00",
          "location": "Nieuwe Waterweg Maeslantkering zee",
          "state": "Rust",
          "value": -0.5586446738980131
         },
         {
          "comp1": 360,
          "comp2": -7,
          "index": "1991-01-06T02:30:00",
          "location": "Nieuwe Waterweg Maeslantkering zee",
          "state": "Rust",
          "value": -0.5402356496216557
         },
         {
          "comp1": 360,
          "comp2": -7,
          "index": "1991-01-06T02:40:00",
          "location": "Nieuwe Waterweg Maeslantkering zee",
          "state": "Rust",
          "value": -0.5148231958472933
         },
         {
          "comp1": 360,
          "comp2": -7,
          "index": "1991-01-06T02:50:00",
          "location": "Nieuwe Waterweg Maeslantkering zee",
          "state": "Rust",
          "value": -0.47951379733659205
         },
         {
          "comp1": 360,
          "comp2": -7,
          "index": "1991-01-06T03:00:00",
          "location": "Nieuwe Waterweg Maeslantkering zee",
          "state": "Rust",
          "value": -0.4327061807451325
         },
         {
          "comp1": 360,
          "comp2": -7,
          "index": "1991-01-06T03:10:00",
          "location": "Nieuwe Waterweg Maeslantkering zee",
          "state": "Rust",
          "value": -0.3809681508462319
         },
         {
          "comp1": 360,
          "comp2": -7,
          "index": "1991-01-06T03:20:00",
          "location": "Nieuwe Waterweg Maeslantkering zee",
          "state": "Rust",
          "value": -0.32421950152583606
         },
         {
          "comp1": 360,
          "comp2": -7,
          "index": "1991-01-06T03:30:00",
          "location": "Nieuwe Waterweg Maeslantkering zee",
          "state": "Rust",
          "value": -0.25927605216496874
         },
         {
          "comp1": 360,
          "comp2": -7,
          "index": "1991-01-06T03:40:00",
          "location": "Nieuwe Waterweg Maeslantkering zee",
          "state": "Rust",
          "value": -0.18501980661453557
         },
         {
          "comp1": 360,
          "comp2": -7,
          "index": "1991-01-06T03:50:00",
          "location": "Nieuwe Waterweg Maeslantkering zee",
          "state": "Rust",
          "value": -0.09432403665181525
         },
         {
          "comp1": 360,
          "comp2": -7,
          "index": "1991-01-06T04:00:00",
          "location": "Nieuwe Waterweg Maeslantkering zee",
          "state": "Rust",
          "value": 0.01477635072538562
         },
         {
          "comp1": 360,
          "comp2": -7,
          "index": "1991-01-06T04:10:00",
          "location": "Nieuwe Waterweg Maeslantkering zee",
          "state": "Rust",
          "value": 0.1431145647464396
         },
         {
          "comp1": 360,
          "comp2": -7,
          "index": "1991-01-06T04:20:00",
          "location": "Nieuwe Waterweg Maeslantkering zee",
          "state": "Rust",
          "value": 0.2885153021079179
         },
         {
          "comp1": 360,
          "comp2": -7,
          "index": "1991-01-06T04:30:00",
          "location": "Nieuwe Waterweg Maeslantkering zee",
          "state": "Rust",
          "value": 0.4433395028230108
         },
         {
          "comp1": 360,
          "comp2": -7,
          "index": "1991-01-06T04:40:00",
          "location": "Nieuwe Waterweg Maeslantkering zee",
          "state": "Rust",
          "value": 0.6013984826333928
         },
         {
          "comp1": 360,
          "comp2": -7,
          "index": "1991-01-06T04:50:00",
          "location": "Nieuwe Waterweg Maeslantkering zee",
          "state": "Rust",
          "value": 0.7554084555743149
         },
         {
          "comp1": 360,
          "comp2": -7,
          "index": "1991-01-06T05:00:00",
          "location": "Nieuwe Waterweg Maeslantkering zee",
          "state": "Rust",
          "value": 0.8988489211883988
         },
         {
          "comp1": 360,
          "comp2": -7,
          "index": "1991-01-06T05:10:00",
          "location": "Nieuwe Waterweg Maeslantkering zee",
          "state": "Rust",
          "value": 1.0256771217908363
         },
         {
          "comp1": 360,
          "comp2": -7,
          "index": "1991-01-06T05:20:00",
          "location": "Nieuwe Waterweg Maeslantkering zee",
          "state": "Rust",
          "value": 1.1373948524441213
         },
         {
          "comp1": 360,
          "comp2": -7,
          "index": "1991-01-06T05:30:00",
          "location": "Nieuwe Waterweg Maeslantkering zee",
          "state": "Rust",
          "value": 1.2212669020915656
         },
         {
          "comp1": 360,
          "comp2": -7,
          "index": "1991-01-06T05:40:00",
          "location": "Nieuwe Waterweg Maeslantkering zee",
          "state": "Rust",
          "value": 1.2728165553223265
         },
         {
          "comp1": 360,
          "comp2": -7,
          "index": "1991-01-06T05:50:00",
          "location": "Nieuwe Waterweg Maeslantkering zee",
          "state": "Rust",
          "value": 1.293015839830999
         },
         {
          "comp1": 360,
          "comp2": -7,
          "index": "1991-01-06T06:00:00",
          "location": "Nieuwe Waterweg Maeslantkering zee",
          "state": "Rust",
          "value": 1.2893799117533493
         },
         {
          "comp1": 360,
          "comp2": -7,
          "index": "1991-01-06T06:10:00",
          "location": "Nieuwe Waterweg Maeslantkering zee",
          "state": "Rust",
          "value": 1.2662624627154593
         },
         {
          "comp1": 360,
          "comp2": -7,
          "index": "1991-01-06T06:20:00",
          "location": "Nieuwe Waterweg Maeslantkering zee",
          "state": "Rust",
          "value": 1.237001762380104
         },
         {
          "comp1": 360,
          "comp2": -7,
          "index": "1991-01-06T06:30:00",
          "location": "Nieuwe Waterweg Maeslantkering zee",
          "state": "Gemobiliseerd",
          "value": 1.206646326587595
         },
         {
          "comp1": 360,
          "comp2": -7,
          "index": "1991-01-06T06:40:00",
          "location": "Nieuwe Waterweg Maeslantkering zee",
          "state": "Gemobiliseerd",
          "value": 1.173072375852495
         },
         {
          "comp1": 360,
          "comp2": -7,
          "index": "1991-01-06T06:50:00",
          "location": "Nieuwe Waterweg Maeslantkering zee",
          "state": "Gemobiliseerd",
          "value": 1.139403987742882
         },
         {
          "comp1": 360,
          "comp2": -7,
          "index": "1991-01-06T07:00:00",
          "location": "Nieuwe Waterweg Maeslantkering zee",
          "state": "Gemobiliseerd",
          "value": 1.1102312775685936
         },
         {
          "comp1": 360,
          "comp2": -7,
          "index": "1991-01-06T07:10:00",
          "location": "Nieuwe Waterweg Maeslantkering zee",
          "state": "Gemobiliseerd",
          "value": 1.0801027157666565
         },
         {
          "comp1": 360,
          "comp2": -7,
          "index": "1991-01-06T07:20:00",
          "location": "Nieuwe Waterweg Maeslantkering zee",
          "state": "Gemobiliseerd",
          "value": 1.0482264490732087
         },
         {
          "comp1": 360,
          "comp2": -7,
          "index": "1991-01-06T07:30:00",
          "location": "Nieuwe Waterweg Maeslantkering zee",
          "state": "Gemobiliseerd",
          "value": 1.0117126505710878
         },
         {
          "comp1": 360,
          "comp2": -7,
          "index": "1991-01-06T07:40:00",
          "location": "Nieuwe Waterweg Maeslantkering zee",
          "state": "Gemobiliseerd",
          "value": 0.9703983193998319
         },
         {
          "comp1": 360,
          "comp2": -7,
          "index": "1991-01-06T07:50:00",
          "location": "Nieuwe Waterweg Maeslantkering zee",
          "state": "Gemobiliseerd",
          "value": 0.925715448176792
         },
         {
          "comp1": 360,
          "comp2": -7,
          "index": "1991-01-06T08:00:00",
          "location": "Nieuwe Waterweg Maeslantkering zee",
          "state": "Gemobiliseerd",
          "value": 0.8775972962198607
         },
         {
          "comp1": 360,
          "comp2": -7,
          "index": "1991-01-06T08:10:00",
          "location": "Nieuwe Waterweg Maeslantkering zee",
          "state": "Gemobiliseerd",
          "value": 0.8165775905611987
         },
         {
          "comp1": 360,
          "comp2": -7,
          "index": "1991-01-06T08:20:00",
          "location": "Nieuwe Waterweg Maeslantkering zee",
          "state": "Gemobiliseerd",
          "value": 0.7431757327684324
         },
         {
          "comp1": 360,
          "comp2": -7,
          "index": "1991-01-06T08:30:00",
          "location": "Nieuwe Waterweg Maeslantkering zee",
          "state": "Gemobiliseerd",
          "value": 0.6755200380146166
         },
         {
          "comp1": 360,
          "comp2": -7,
          "index": "1991-01-06T08:40:00",
          "location": "Nieuwe Waterweg Maeslantkering zee",
          "state": "Gemobiliseerd",
          "value": 0.6052116496429926
         },
         {
          "comp1": 360,
          "comp2": -7,
          "index": "1991-01-06T08:50:00",
          "location": "Nieuwe Waterweg Maeslantkering zee",
          "state": "Gemobiliseerd",
          "value": 0.5392970044669315
         },
         {
          "comp1": 360,
          "comp2": -7,
          "index": "1991-01-06T09:00:00",
          "location": "Nieuwe Waterweg Maeslantkering zee",
          "state": "Gemobiliseerd",
          "value": 0.46922866861604484
         },
         {
          "comp1": 360,
          "comp2": -7,
          "index": "1991-01-06T09:10:00",
          "location": "Nieuwe Waterweg Maeslantkering zee",
          "state": "Gemobiliseerd",
          "value": 0.39925056436288375
         },
         {
          "comp1": 360,
          "comp2": -7,
          "index": "1991-01-06T09:20:00",
          "location": "Nieuwe Waterweg Maeslantkering zee",
          "state": "Gemobiliseerd",
          "value": 0.3317316923345995
         },
         {
          "comp1": 360,
          "comp2": -7,
          "index": "1991-01-06T09:30:00",
          "location": "Nieuwe Waterweg Maeslantkering zee",
          "state": "Gemobiliseerd",
          "value": 0.2612870396914986
         },
         {
          "comp1": 360,
          "comp2": -7,
          "index": "1991-01-06T09:40:00",
          "location": "Nieuwe Waterweg Maeslantkering zee",
          "state": "Gemobiliseerd",
          "value": 0.1908046186685487
         },
         {
          "comp1": 360,
          "comp2": -7,
          "index": "1991-01-06T09:50:00",
          "location": "Nieuwe Waterweg Maeslantkering zee",
          "state": "Gemobiliseerd",
          "value": 0.11589590125117409
         },
         {
          "comp1": 360,
          "comp2": -7,
          "index": "1991-01-06T10:00:00",
          "location": "Nieuwe Waterweg Maeslantkering zee",
          "state": "Gemobiliseerd",
          "value": 0.03620028350762739
         },
         {
          "comp1": 360,
          "comp2": -7,
          "index": "1991-01-06T10:10:00",
          "location": "Nieuwe Waterweg Maeslantkering zee",
          "state": "Gemobiliseerd",
          "value": -0.0489164206974314
         },
         {
          "comp1": 360,
          "comp2": -7,
          "index": "1991-01-06T10:20:00",
          "location": "Nieuwe Waterweg Maeslantkering zee",
          "state": "Gemobiliseerd",
          "value": -0.13799666363392582
         },
         {
          "comp1": 360,
          "comp2": -7,
          "index": "1991-01-06T10:30:00",
          "location": "Nieuwe Waterweg Maeslantkering zee",
          "state": "Gemobiliseerd",
          "value": -0.23230739281382518
         },
         {
          "comp1": 360,
          "comp2": -7,
          "index": "1991-01-06T10:40:00",
          "location": "Nieuwe Waterweg Maeslantkering zee",
          "state": "Gemobiliseerd",
          "value": -0.32328477623918483
         },
         {
          "comp1": 360,
          "comp2": -7,
          "index": "1991-01-06T10:50:00",
          "location": "Nieuwe Waterweg Maeslantkering zee",
          "state": "Gemobiliseerd",
          "value": -0.4077061894007834
         },
         {
          "comp1": 360,
          "comp2": -7,
          "index": "1991-01-06T11:00:00",
          "location": "Nieuwe Waterweg Maeslantkering zee",
          "state": "Gemobiliseerd",
          "value": -0.4787519750090991
         },
         {
          "comp1": 360,
          "comp2": -7,
          "index": "1991-01-06T11:10:00",
          "location": "Nieuwe Waterweg Maeslantkering zee",
          "state": "Gemobiliseerd",
          "value": -0.5303575906866366
         },
         {
          "comp1": 360,
          "comp2": -7,
          "index": "1991-01-06T11:20:00",
          "location": "Nieuwe Waterweg Maeslantkering zee",
          "state": "Gemobiliseerd",
          "value": -0.5663858513283748
         },
         {
          "comp1": 360,
          "comp2": -7,
          "index": "1991-01-06T11:30:00",
          "location": "Nieuwe Waterweg Maeslantkering zee",
          "state": "Gemobiliseerd",
          "value": -0.5856405020581582
         },
         {
          "comp1": 360,
          "comp2": -7,
          "index": "1991-01-06T11:40:00",
          "location": "Nieuwe Waterweg Maeslantkering zee",
          "state": "Gemobiliseerd",
          "value": -0.5920572541325668
         },
         {
          "comp1": 360,
          "comp2": -7,
          "index": "1991-01-06T11:50:00",
          "location": "Nieuwe Waterweg Maeslantkering zee",
          "state": "Gemobiliseerd",
          "value": -0.5862084025390205
         },
         {
          "comp1": 360,
          "comp2": -7,
          "index": "1991-01-06T12:00:00",
          "location": "Nieuwe Waterweg Maeslantkering zee",
          "state": "Gemobiliseerd",
          "value": -0.5693223048421793
         },
         {
          "comp1": 360,
          "comp2": -7,
          "index": "1991-01-06T12:10:00",
          "location": "Nieuwe Waterweg Maeslantkering zee",
          "state": "Gemobiliseerd",
          "value": -0.5497077123712406
         },
         {
          "comp1": 360,
          "comp2": -7,
          "index": "1991-01-06T12:20:00",
          "location": "Nieuwe Waterweg Maeslantkering zee",
          "state": "Gemobiliseerd",
          "value": -0.5307179835459728
         },
         {
          "comp1": 360,
          "comp2": -7,
          "index": "1991-01-06T12:30:00",
          "location": "Nieuwe Waterweg Maeslantkering zee",
          "state": "Gemobiliseerd",
          "value": -0.5169979412664019
         },
         {
          "comp1": 360,
          "comp2": -7,
          "index": "1991-01-06T12:40:00",
          "location": "Nieuwe Waterweg Maeslantkering zee",
          "state": "Gemobiliseerd",
          "value": -0.5142069080661906
         },
         {
          "comp1": 360,
          "comp2": -7,
          "index": "1991-01-06T12:50:00",
          "location": "Nieuwe Waterweg Maeslantkering zee",
          "state": "Gemobiliseerd",
          "value": -0.5228035360148457
         },
         {
          "comp1": 360,
          "comp2": -7,
          "index": "1991-01-06T13:00:00",
          "location": "Nieuwe Waterweg Maeslantkering zee",
          "state": "Gemobiliseerd",
          "value": -0.5344017171741264
         },
         {
          "comp1": 360,
          "comp2": -7,
          "index": "1991-01-06T13:10:00",
          "location": "Nieuwe Waterweg Maeslantkering zee",
          "state": "Gemobiliseerd",
          "value": -0.5474398655210608
         },
         {
          "comp1": 360,
          "comp2": -7,
          "index": "1991-01-06T13:20:00",
          "location": "Nieuwe Waterweg Maeslantkering zee",
          "state": "Gemobiliseerd",
          "value": -0.5582791797984598
         },
         {
          "comp1": 360,
          "comp2": -7,
          "index": "1991-01-06T13:30:00",
          "location": "Nieuwe Waterweg Maeslantkering zee",
          "state": "Gemobiliseerd",
          "value": -0.5690679709385406
         },
         {
          "comp1": 360,
          "comp2": -7,
          "index": "1991-01-06T13:40:00",
          "location": "Nieuwe Waterweg Maeslantkering zee",
          "state": "Gemobiliseerd",
          "value": -0.5770700850033074
         },
         {
          "comp1": 360,
          "comp2": -7,
          "index": "1991-01-06T13:50:00",
          "location": "Nieuwe Waterweg Maeslantkering zee",
          "state": "Gemobiliseerd",
          "value": -0.5804388962700807
         },
         {
          "comp1": 360,
          "comp2": -7,
          "index": "1991-01-06T14:00:00",
          "location": "Nieuwe Waterweg Maeslantkering zee",
          "state": "Gemobiliseerd",
          "value": -0.5801467960347231
         },
         {
          "comp1": 360,
          "comp2": -7,
          "index": "1991-01-06T14:10:00",
          "location": "Nieuwe Waterweg Maeslantkering zee",
          "state": "Gemobiliseerd",
          "value": -0.5777900614302289
         },
         {
          "comp1": 360,
          "comp2": -7,
          "index": "1991-01-06T14:20:00",
          "location": "Nieuwe Waterweg Maeslantkering zee",
          "state": "Gemobiliseerd",
          "value": -0.574978048680442
         },
         {
          "comp1": 360,
          "comp2": -7,
          "index": "1991-01-06T14:30:00",
          "location": "Nieuwe Waterweg Maeslantkering zee",
          "state": "Gemobiliseerd",
          "value": -0.5697601959074892
         },
         {
          "comp1": 360,
          "comp2": -7,
          "index": "1991-01-06T14:40:00",
          "location": "Nieuwe Waterweg Maeslantkering zee",
          "state": "Gemobiliseerd",
          "value": -0.5616305138705283
         },
         {
          "comp1": 360,
          "comp2": -7,
          "index": "1991-01-06T14:50:00",
          "location": "Nieuwe Waterweg Maeslantkering zee",
          "state": "Gemobiliseerd",
          "value": -0.5475255141710413
         },
         {
          "comp1": 360,
          "comp2": -7,
          "index": "1991-01-06T15:00:00",
          "location": "Nieuwe Waterweg Maeslantkering zee",
          "state": "Gemobiliseerd",
          "value": -0.5256505554158609
         },
         {
          "comp1": 360,
          "comp2": -7,
          "index": "1991-01-06T15:10:00",
          "location": "Nieuwe Waterweg Maeslantkering zee",
          "state": "Gemobiliseerd",
          "value": -0.49708396730378646
         },
         {
          "comp1": 360,
          "comp2": -7,
          "index": "1991-01-06T15:20:00",
          "location": "Nieuwe Waterweg Maeslantkering zee",
          "state": "Gemobiliseerd",
          "value": -0.4565893659890593
         },
         {
          "comp1": 360,
          "comp2": -7,
          "index": "1991-01-06T15:30:00",
          "location": "Nieuwe Waterweg Maeslantkering zee",
          "state": "Gemobiliseerd",
          "value": -0.408504817541972
         },
         {
          "comp1": 360,
          "comp2": -7,
          "index": "1991-01-06T15:40:00",
          "location": "Nieuwe Waterweg Maeslantkering zee",
          "state": "Gemobiliseerd",
          "value": -0.35408976838019246
         },
         {
          "comp1": 360,
          "comp2": -7,
          "index": "1991-01-06T15:50:00",
          "location": "Nieuwe Waterweg Maeslantkering zee",
          "state": "Gemobiliseerd",
          "value": -0.2943228261323095
         },
         {
          "comp1": 360,
          "comp2": -7,
          "index": "1991-01-06T16:00:00",
          "location": "Nieuwe Waterweg Maeslantkering zee",
          "state": "Gemobiliseerd",
          "value": -0.22602602389887264
         },
         {
          "comp1": 360,
          "comp2": -7,
          "index": "1991-01-06T16:10:00",
          "location": "Nieuwe Waterweg Maeslantkering zee",
          "state": "Gemobiliseerd",
          "value": -0.14697639105413657
         },
         {
          "comp1": 360,
          "comp2": -7,
          "index": "1991-01-06T16:20:00",
          "location": "Nieuwe Waterweg Maeslantkering zee",
          "state": "Gemobiliseerd",
          "value": -0.04538989603262289
         },
         {
          "comp1": 360,
          "comp2": -7,
          "index": "1991-01-06T16:30:00",
          "location": "Nieuwe Waterweg Maeslantkering zee",
          "state": "Gemobiliseerd",
          "value": 0.07203209398017016
         },
         {
          "comp1": 360,
          "comp2": -7,
          "index": "1991-01-06T16:40:00",
          "location": "Nieuwe Waterweg Maeslantkering zee",
          "state": "Gemobiliseerd",
          "value": 0.2064777368526165
         },
         {
          "comp1": 360,
          "comp2": -7,
          "index": "1991-01-06T16:50:00",
          "location": "Nieuwe Waterweg Maeslantkering zee",
          "state": "Gemobiliseerd",
          "value": 0.3593962970412148
         },
         {
          "comp1": 360,
          "comp2": -7,
          "index": "1991-01-06T17:00:00",
          "location": "Nieuwe Waterweg Maeslantkering zee",
          "state": "Gemobiliseerd",
          "value": 0.515679757557805
         },
         {
          "comp1": 360,
          "comp2": -7,
          "index": "1991-01-06T17:10:00",
          "location": "Nieuwe Waterweg Maeslantkering zee",
          "state": "Gemobiliseerd",
          "value": 0.6692608374502158
         },
         {
          "comp1": 360,
          "comp2": -7,
          "index": "1991-01-06T17:20:00",
          "location": "Nieuwe Waterweg Maeslantkering zee",
          "state": "Gemobiliseerd",
          "value": 0.8143844275819344
         },
         {
          "comp1": 360,
          "comp2": -7,
          "index": "1991-01-06T17:30:00",
          "location": "Nieuwe Waterweg Maeslantkering zee",
          "state": "Gemobiliseerd",
          "value": 0.951562363771422
         },
         {
          "comp1": 360,
          "comp2": -7,
          "index": "1991-01-06T17:40:00",
          "location": "Nieuwe Waterweg Maeslantkering zee",
          "state": "Gemobiliseerd",
          "value": 1.0703500037464895
         },
         {
          "comp1": 360,
          "comp2": -7,
          "index": "1991-01-06T17:50:00",
          "location": "Nieuwe Waterweg Maeslantkering zee",
          "state": "Gemobiliseerd",
          "value": 1.17985878103688
         },
         {
          "comp1": 360,
          "comp2": -7,
          "index": "1991-01-06T18:00:00",
          "location": "Nieuwe Waterweg Maeslantkering zee",
          "state": "Gemobiliseerd",
          "value": 1.2783911411538105
         },
         {
          "comp1": 360,
          "comp2": -7,
          "index": "1991-01-06T18:10:00",
          "location": "Nieuwe Waterweg Maeslantkering zee",
          "state": "Gemobiliseerd",
          "value": 1.3591588828539054
         },
         {
          "comp1": 360,
          "comp2": -7,
          "index": "1991-01-06T18:20:00",
          "location": "Nieuwe Waterweg Maeslantkering zee",
          "state": "Gemobiliseerd",
          "value": 1.4231137591205194
         },
         {
          "comp1": 360,
          "comp2": -7,
          "index": "1991-01-06T18:30:00",
          "location": "Nieuwe Waterweg Maeslantkering zee",
          "state": "Gemobiliseerd",
          "value": 1.4648907805096412
         },
         {
          "comp1": 360,
          "comp2": -7,
          "index": "1991-01-06T18:40:00",
          "location": "Nieuwe Waterweg Maeslantkering zee",
          "state": "Gemobiliseerd",
          "value": 1.4889388449839775
         },
         {
          "comp1": 360,
          "comp2": -7,
          "index": "1991-01-06T18:50:00",
          "location": "Nieuwe Waterweg Maeslantkering zee",
          "state": "Gemobiliseerd",
          "value": 1.4988780796831427
         },
         {
          "comp1": 360,
          "comp2": -7,
          "index": "1991-01-06T19:00:00",
          "location": "Nieuwe Waterweg Maeslantkering zee",
          "state": "Gemobiliseerd",
          "value": 1.4976633848198597
         },
         {
          "comp1": 360,
          "comp2": -7,
          "index": "1991-01-06T19:10:00",
          "location": "Nieuwe Waterweg Maeslantkering zee",
          "state": "Gemobiliseerd",
          "value": 1.489968297621513
         },
         {
          "comp1": 360,
          "comp2": -7,
          "index": "1991-01-06T19:20:00",
          "location": "Nieuwe Waterweg Maeslantkering zee",
          "state": "Gemobiliseerd",
          "value": 1.4844600214751065
         },
         {
          "comp1": 360,
          "comp2": -7,
          "index": "1991-01-06T19:30:00",
          "location": "Nieuwe Waterweg Maeslantkering zee",
          "state": "Gemobiliseerd",
          "value": 1.491155247296754
         },
         {
          "comp1": 360,
          "comp2": -7,
          "index": "1991-01-06T19:40:00",
          "location": "Nieuwe Waterweg Maeslantkering zee",
          "state": "Gemobiliseerd",
          "value": 1.5089375474178122
         },
         {
          "comp1": 360,
          "comp2": -7,
          "index": "1991-01-06T19:50:00",
          "location": "Nieuwe Waterweg Maeslantkering zee",
          "state": "Gemobiliseerd",
          "value": 1.5276467995098333
         },
         {
          "comp1": 360,
          "comp2": -7,
          "index": "1991-01-06T20:00:00",
          "location": "Nieuwe Waterweg Maeslantkering zee",
          "state": "Alert",
          "value": 1.5442509201474026
         },
         {
          "comp1": 360,
          "comp2": -7,
          "index": "1991-01-06T20:10:00",
          "location": "Nieuwe Waterweg Maeslantkering zee",
          "state": "Alert",
          "value": 1.5568280613832228
         },
         {
          "comp1": 360,
          "comp2": -7,
          "index": "1991-01-06T20:20:00",
          "location": "Nieuwe Waterweg Maeslantkering zee",
          "state": "Alert",
          "value": 1.559895295689101
         },
         {
          "comp1": 360,
          "comp2": -7,
          "index": "1991-01-06T20:30:00",
          "location": "Nieuwe Waterweg Maeslantkering zee",
          "state": "Alert",
          "value": 1.5596492912404882
         },
         {
          "comp1": 360,
          "comp2": -7,
          "index": "1991-01-06T20:40:00",
          "location": "Nieuwe Waterweg Maeslantkering zee",
          "state": "Alert",
          "value": 1.543206228770215
         },
         {
          "comp1": 360,
          "comp2": -7,
          "index": "1991-01-06T20:50:00",
          "location": "Nieuwe Waterweg Maeslantkering zee",
          "state": "Alert",
          "value": 1.5199361173569823
         },
         {
          "comp1": 360,
          "comp2": -7,
          "index": "1991-01-06T21:00:00",
          "location": "Nieuwe Waterweg Maeslantkering zee",
          "state": "Alert",
          "value": 1.4929754139056965
         },
         {
          "comp1": 360,
          "comp2": -7,
          "index": "1991-01-06T21:10:00",
          "location": "Nieuwe Waterweg Maeslantkering zee",
          "state": "Alert",
          "value": 1.461655405104876
         },
         {
          "comp1": 360,
          "comp2": -7,
          "index": "1991-01-06T21:20:00",
          "location": "Nieuwe Waterweg Maeslantkering zee",
          "state": "Alert",
          "value": 1.4289615257372832
         },
         {
          "comp1": 360,
          "comp2": -7,
          "index": "1991-01-06T21:30:00",
          "location": "Nieuwe Waterweg Maeslantkering zee",
          "state": "Alert",
          "value": 1.3943838985510435
         },
         {
          "comp1": 360,
          "comp2": -7,
          "index": "1991-01-06T21:40:00",
          "location": "Nieuwe Waterweg Maeslantkering zee",
          "state": "Alert",
          "value": 1.364936409032198
         },
         {
          "comp1": 360,
          "comp2": -7,
          "index": "1991-01-06T21:50:00",
          "location": "Nieuwe Waterweg Maeslantkering zee",
          "state": "Alert",
          "value": 1.3300419190261834
         },
         {
          "comp1": 360,
          "comp2": -7,
          "index": "1991-01-06T22:00:00",
          "location": "Nieuwe Waterweg Maeslantkering zee",
          "state": "Alert",
          "value": 1.2967582641840927
         },
         {
          "comp1": 360,
          "comp2": -7,
          "index": "1991-01-06T22:10:00",
          "location": "Nieuwe Waterweg Maeslantkering zee",
          "state": "Alert",
          "value": 1.2664628303850511
         },
         {
          "comp1": 360,
          "comp2": -7,
          "index": "1991-01-06T22:20:00",
          "location": "Nieuwe Waterweg Maeslantkering zee",
          "state": "Alert",
          "value": 1.232652095798379
         },
         {
          "comp1": 360,
          "comp2": -7,
          "index": "1991-01-06T22:30:00",
          "location": "Nieuwe Waterweg Maeslantkering zee",
          "state": "Alert",
          "value": 1.1940894527352537
         },
         {
          "comp1": 360,
          "comp2": -7,
          "index": "1991-01-06T22:40:00",
          "location": "Nieuwe Waterweg Maeslantkering zee",
          "state": "Alert",
          "value": 1.1587484553441498
         },
         {
          "comp1": 360,
          "comp2": -7,
          "index": "1991-01-06T22:50:00",
          "location": "Nieuwe Waterweg Maeslantkering zee",
          "state": "Alert",
          "value": 1.1290275027839491
         },
         {
          "comp1": 360,
          "comp2": -7,
          "index": "1991-01-06T23:00:00",
          "location": "Nieuwe Waterweg Maeslantkering zee",
          "state": "Alert",
          "value": 1.10339684698568
         },
         {
          "comp1": 360,
          "comp2": -7,
          "index": "1991-01-06T23:10:00",
          "location": "Nieuwe Waterweg Maeslantkering zee",
          "state": "Alert",
          "value": 1.0823862309916203
         },
         {
          "comp1": 360,
          "comp2": -7,
          "index": "1991-01-06T23:20:00",
          "location": "Nieuwe Waterweg Maeslantkering zee",
          "state": "Alert",
          "value": 1.0702892918881182
         },
         {
          "comp1": 360,
          "comp2": -7,
          "index": "1991-01-06T23:30:00",
          "location": "Nieuwe Waterweg Maeslantkering zee",
          "state": "Alert",
          "value": 1.0739654579625917
         },
         {
          "comp1": 360,
          "comp2": -7,
          "index": "1991-01-06T23:40:00",
          "location": "Nieuwe Waterweg Maeslantkering zee",
          "state": "Alert",
          "value": 1.092861576303477
         },
         {
          "comp1": 360,
          "comp2": -7,
          "index": "1991-01-06T23:50:00",
          "location": "Nieuwe Waterweg Maeslantkering zee",
          "state": "Alert",
          "value": 1.126043179300261
         },
         {
          "comp1": 360,
          "comp2": -7,
          "index": "1991-01-07T00:00:00",
          "location": "Nieuwe Waterweg Maeslantkering zee",
          "state": "Stremmen",
          "value": 1.1679733183782368
         },
         {
          "comp1": 360,
          "comp2": -7,
          "index": "1991-01-07T00:10:00",
          "location": "Nieuwe Waterweg Maeslantkering zee",
          "state": "Stremmen",
          "value": 1.2137742885079277
         },
         {
          "comp1": 360,
          "comp2": -7,
          "index": "1991-01-07T00:20:00",
          "location": "Nieuwe Waterweg Maeslantkering zee",
          "state": "Stremmen",
          "value": 1.264806971024301
         },
         {
          "comp1": 360,
          "comp2": -7,
          "index": "1991-01-07T00:30:00",
          "location": "Nieuwe Waterweg Maeslantkering zee",
          "state": "Stremmen",
          "value": 1.3155494258032643
         },
         {
          "comp1": 360,
          "comp2": -7,
          "index": "1991-01-07T00:40:00",
          "location": "Nieuwe Waterweg Maeslantkering zee",
          "state": "Stremmen",
          "value": 1.365364749798572
         },
         {
          "comp1": 360,
          "comp2": -7,
          "index": "1991-01-07T00:50:00",
          "location": "Nieuwe Waterweg Maeslantkering zee",
          "state": "Stremmen",
          "value": 1.4094719874110462
         },
         {
          "comp1": 360,
          "comp2": -7,
          "index": "1991-01-07T01:00:00",
          "location": "Nieuwe Waterweg Maeslantkering zee",
          "state": "Stremmen",
          "value": 1.4623820113878634
         },
         {
          "comp1": 360,
          "comp2": -7,
          "index": "1991-01-07T01:10:00",
          "location": "Nieuwe Waterweg Maeslantkering zee",
          "state": "Stremmen",
          "value": 1.5111152801955121
         },
         {
          "comp1": 360,
          "comp2": -7,
          "index": "1991-01-07T01:20:00",
          "location": "Nieuwe Waterweg Maeslantkering zee",
          "state": "Stremmen",
          "value": 1.5576892738328376
         },
         {
          "comp1": 360,
          "comp2": -7,
          "index": "1991-01-07T01:30:00",
          "location": "Nieuwe Waterweg Maeslantkering zee",
          "state": "Stremmen",
          "value": 1.6001400385592872
         },
         {
          "comp1": 360,
          "comp2": -7,
          "index": "1991-01-07T01:40:00",
          "location": "Nieuwe Waterweg Maeslantkering zee",
          "state": "Stremmen",
          "value": 1.6403375829383438
         },
         {
          "comp1": 360,
          "comp2": -7,
          "index": "1991-01-07T01:50:00",
          "location": "Nieuwe Waterweg Maeslantkering zee",
          "state": "Stremmen",
          "value": 1.683712868467838
         },
         {
          "comp1": 360,
          "comp2": -7,
          "index": "1991-01-07T02:00:00",
          "location": "Nieuwe Waterweg Maeslantkering zee",
          "state": "Paraat",
          "value": 1.7285531764399673
         },
         {
          "comp1": 360,
          "comp2": -7,
          "index": "1991-01-07T02:10:00",
          "location": "Nieuwe Waterweg Maeslantkering zee",
          "state": "Paraat",
          "value": 1.7777324506609857
         },
         {
          "comp1": 360,
          "comp2": -7,
          "index": "1991-01-07T02:20:00",
          "location": "Nieuwe Waterweg Maeslantkering zee",
          "state": "Paraat",
          "value": 1.8298777211457715
         },
         {
          "comp1": 360,
          "comp2": -7,
          "index": "1991-01-07T02:30:00",
          "location": "Nieuwe Waterweg Maeslantkering zee",
          "state": "Paraat",
          "value": 1.8831621956129454
         },
         {
          "comp1": 360,
          "comp2": -7,
          "index": "1991-01-07T02:40:00",
          "location": "Nieuwe Waterweg Maeslantkering zee",
          "state": "Paraat",
          "value": 1.9370086299269658
         },
         {
          "comp1": 360,
          "comp2": -7,
          "index": "1991-01-07T02:50:00",
          "location": "Nieuwe Waterweg Maeslantkering zee",
          "state": "Paraat",
          "value": 1.9920363610619787
         },
         {
          "comp1": 360,
          "comp2": -7,
          "index": "1991-01-07T03:00:00",
          "location": "Nieuwe Waterweg Maeslantkering zee",
          "state": "Paraat",
          "value": 2.0516418212383307
         },
         {
          "comp1": 360,
          "comp2": -7,
          "index": "1991-01-07T03:10:00",
          "location": "Nieuwe Waterweg Maeslantkering zee",
          "state": "Paraat",
          "value": 2.115303339315166
         },
         {
          "comp1": 360,
          "comp2": -7,
          "index": "1991-01-07T03:20:00",
          "location": "Nieuwe Waterweg Maeslantkering zee",
          "state": "Paraat",
          "value": 2.1858188039249407
         },
         {
          "comp1": 360,
          "comp2": -7,
          "index": "1991-01-07T03:30:00",
          "location": "Nieuwe Waterweg Maeslantkering zee",
          "state": "Paraat",
          "value": 2.2608718638697836
         },
         {
          "comp1": 360,
          "comp2": -7,
          "index": "1991-01-07T03:40:00",
          "location": "Nieuwe Waterweg Maeslantkering zee",
          "state": "Paraat",
          "value": 2.349553177763148
         },
         {
          "comp1": 360,
          "comp2": -7,
          "index": "1991-01-07T03:50:00",
          "location": "Nieuwe Waterweg Maeslantkering zee",
          "state": "Paraat",
          "value": 2.445870420425995
         },
         {
          "comp1": 360,
          "comp2": -7,
          "index": "1991-01-07T04:00:00",
          "location": "Nieuwe Waterweg Maeslantkering zee",
          "state": "Paraat",
          "value": 2.528935848139273
         },
         {
          "comp1": 360,
          "comp2": -7,
          "index": "1991-01-07T04:10:00",
          "location": "Nieuwe Waterweg Maeslantkering zee",
          "state": "HorizontaalSluiten",
          "value": 2.6099205910140895
         },
         {
          "comp1": 360,
          "comp2": -7,
          "index": "1991-01-07T04:20:00",
          "location": "Nieuwe Waterweg Maeslantkering zee",
          "state": "HorizontaalSluiten",
          "value": 2.700058761781679
         },
         {
          "comp1": 180,
          "comp2": -7,
          "index": "1991-01-07T04:30:00",
          "location": "Nieuwe Waterweg Maeslantkering zee",
          "state": "AfzinkenCPSE",
          "value": 2.7961344762321865
         },
         {
          "comp1": 180,
          "comp2": -7,
          "index": "1991-01-07T04:40:00",
          "location": "Nieuwe Waterweg Maeslantkering zee",
          "state": "AfzinkenCPSE",
          "value": 2.907879779861122
         },
         {
          "comp1": 180,
          "comp2": -7,
          "index": "1991-01-07T04:50:00",
          "location": "Nieuwe Waterweg Maeslantkering zee",
          "state": "AfzinkenCPSE",
          "value": 3.0332830229120815
         },
         {
          "comp1": 180,
          "comp2": -7,
          "index": "1991-01-07T05:00:00",
          "location": "Nieuwe Waterweg Maeslantkering zee",
          "state": "AfzinkenCPSE",
          "value": 3.172805885156246
         },
         {
          "comp1": 180,
          "comp2": -7,
          "index": "1991-01-07T05:10:00",
          "location": "Nieuwe Waterweg Maeslantkering zee",
          "state": "AfzinkenCPSE",
          "value": 3.3314079129934435
         },
         {
          "comp1": 180,
          "comp2": -7,
          "index": "1991-01-07T05:20:00",
          "location": "Nieuwe Waterweg Maeslantkering zee",
          "state": "AfzinkenCPSE",
          "value": 3.502460904455329
         },
         {
          "comp1": 180,
          "comp2": -7,
          "index": "1991-01-07T05:30:00",
          "location": "Nieuwe Waterweg Maeslantkering zee",
          "state": "AfzinkenCPSE",
          "value": 3.687038009977524
         },
         {
          "comp1": 180,
          "comp2": -7,
          "index": "1991-01-07T05:40:00",
          "location": "Nieuwe Waterweg Maeslantkering zee",
          "state": "AfzinkenCPSE",
          "value": 3.8865136369268916
         },
         {
          "comp1": 180,
          "comp2": -7,
          "index": "1991-01-07T05:50:00",
          "location": "Nieuwe Waterweg Maeslantkering zee",
          "state": "AfzinkenCPSE",
          "value": 4.071475240853816
         },
         {
          "comp1": 180,
          "comp2": -7,
          "index": "1991-01-07T06:00:00",
          "location": "Nieuwe Waterweg Maeslantkering zee",
          "state": "AfzinkenCPSE",
          "value": 4.228759252168205
         },
         {
          "comp1": 180,
          "comp2": -7,
          "index": "1991-01-07T06:10:00",
          "location": "Nieuwe Waterweg Maeslantkering zee",
          "state": "AfzinkenCPSE",
          "value": 4.396417739942269
         },
         {
          "comp1": 180,
          "comp2": -7,
          "index": "1991-01-07T06:20:00",
          "location": "Nieuwe Waterweg Maeslantkering zee",
          "state": "AfzinkenCPSE",
          "value": 4.572302364531316
         },
         {
          "comp1": 180,
          "comp2": -7,
          "index": "1991-01-07T06:30:00",
          "location": "Nieuwe Waterweg Maeslantkering zee",
          "state": "AfzinkenCPSE",
          "value": 4.6523371736415875
         },
         {
          "comp1": 180,
          "comp2": -7,
          "index": "1991-01-07T06:40:00",
          "location": "Nieuwe Waterweg Maeslantkering zee",
          "state": "AfzinkenCPSE",
          "value": 4.691015657604213
         },
         {
          "comp1": 180,
          "comp2": -7,
          "index": "1991-01-07T06:50:00",
          "location": "Nieuwe Waterweg Maeslantkering zee",
          "state": "AfzinkenCPSE",
          "value": 4.69334338788586
         },
         {
          "comp1": 180,
          "comp2": -7,
          "index": "1991-01-07T07:00:00",
          "location": "Nieuwe Waterweg Maeslantkering zee",
          "state": "AfzinkenCPSE",
          "value": 4.676836622441705
         },
         {
          "comp1": 180,
          "comp2": -7,
          "index": "1991-01-07T07:10:00",
          "location": "Nieuwe Waterweg Maeslantkering zee",
          "state": "AfzinkenCPSE",
          "value": 4.682460026539585
         },
         {
          "comp1": 180,
          "comp2": -7,
          "index": "1991-01-07T07:20:00",
          "location": "Nieuwe Waterweg Maeslantkering zee",
          "state": "AfzinkenCPSE",
          "value": 4.679113396085925
         },
         {
          "comp1": 180,
          "comp2": -7,
          "index": "1991-01-07T07:30:00",
          "location": "Nieuwe Waterweg Maeslantkering zee",
          "state": "AfzinkenCPSE",
          "value": 4.679467113548926
         },
         {
          "comp1": 180,
          "comp2": -7,
          "index": "1991-01-07T07:40:00",
          "location": "Nieuwe Waterweg Maeslantkering zee",
          "state": "AfzinkenCPSE",
          "value": 4.699627340247812
         },
         {
          "comp1": 180,
          "comp2": -7,
          "index": "1991-01-07T07:50:00",
          "location": "Nieuwe Waterweg Maeslantkering zee",
          "state": "AfzinkenCPSE",
          "value": 4.743792851000341
         },
         {
          "comp1": 180,
          "comp2": -7,
          "index": "1991-01-07T08:00:00",
          "location": "Nieuwe Waterweg Maeslantkering zee",
          "state": "AfzinkenCPSE",
          "value": 4.795978610696014
         },
         {
          "comp1": 180,
          "comp2": -7,
          "index": "1991-01-07T08:10:00",
          "location": "Nieuwe Waterweg Maeslantkering zee",
          "state": "AfzinkenCPSE",
          "value": 4.837266818351402
         },
         {
          "comp1": 180,
          "comp2": -7,
          "index": "1991-01-07T08:20:00",
          "location": "Nieuwe Waterweg Maeslantkering zee",
          "state": "AfzinkenCPSE",
          "value": 4.868988567867585
         },
         {
          "comp1": 180,
          "comp2": -7,
          "index": "1991-01-07T08:30:00",
          "location": "Nieuwe Waterweg Maeslantkering zee",
          "state": "AfzinkenCPSE",
          "value": 4.8956317128325635
         },
         {
          "comp1": 180,
          "comp2": -7,
          "index": "1991-01-07T08:40:00",
          "location": "Nieuwe Waterweg Maeslantkering zee",
          "state": "AfzinkenCPSE",
          "value": 4.92345539489626
         },
         {
          "comp1": 180,
          "comp2": -7,
          "index": "1991-01-07T08:50:00",
          "location": "Nieuwe Waterweg Maeslantkering zee",
          "state": "AfzinkenCPSE",
          "value": 4.936140754860326
         },
         {
          "comp1": 180,
          "comp2": -7,
          "index": "1991-01-07T09:00:00",
          "location": "Nieuwe Waterweg Maeslantkering zee",
          "state": "AfzinkenCPSE",
          "value": 4.912042367147706
         },
         {
          "comp1": 180,
          "comp2": -7,
          "index": "1991-01-07T09:10:00",
          "location": "Nieuwe Waterweg Maeslantkering zee",
          "state": "AfzinkenCPSE",
          "value": 4.874122907925912
         },
         {
          "comp1": 180,
          "comp2": -7,
          "index": "1991-01-07T09:20:00",
          "location": "Nieuwe Waterweg Maeslantkering zee",
          "state": "AfzinkenCPSE",
          "value": 4.8387572306703985
         },
         {
          "comp1": 180,
          "comp2": -7,
          "index": "1991-01-07T09:30:00",
          "location": "Nieuwe Waterweg Maeslantkering zee",
          "state": "AfzinkenCPSE",
          "value": 4.783502173160453
         },
         {
          "comp1": 180,
          "comp2": -7,
          "index": "1991-01-07T09:40:00",
          "location": "Nieuwe Waterweg Maeslantkering zee",
          "state": "AfzinkenCPSE",
          "value": 4.728409210722949
         },
         {
          "comp1": 180,
          "comp2": -7,
          "index": "1991-01-07T09:50:00",
          "location": "Nieuwe Waterweg Maeslantkering zee",
          "state": "AfzinkenCPSE",
          "value": 4.659002333629065
         },
         {
          "comp1": 180,
          "comp2": -7,
          "index": "1991-01-07T10:00:00",
          "location": "Nieuwe Waterweg Maeslantkering zee",
          "state": "AfzinkenCPSE",
          "value": 4.58991881230784
         },
         {
          "comp1": 180,
          "comp2": -7,
          "index": "1991-01-07T10:10:00",
          "location": "Nieuwe Waterweg Maeslantkering zee",
          "state": "AfzinkenCPSE",
          "value": 4.532056770694193
         },
         {
          "comp1": 180,
          "comp2": -7,
          "index": "1991-01-07T10:20:00",
          "location": "Nieuwe Waterweg Maeslantkering zee",
          "state": "AfzinkenCPSE",
          "value": 4.473832839684645
         },
         {
          "comp1": 180,
          "comp2": -7,
          "index": "1991-01-07T10:30:00",
          "location": "Nieuwe Waterweg Maeslantkering zee",
          "state": "AfzinkenCPSE",
          "value": 4.410248488378789
         },
         {
          "comp1": 180,
          "comp2": -7,
          "index": "1991-01-07T10:40:00",
          "location": "Nieuwe Waterweg Maeslantkering zee",
          "state": "AfzinkenCPSE",
          "value": 4.337966677944577
         },
         {
          "comp1": 180,
          "comp2": -7,
          "index": "1991-01-07T10:50:00",
          "location": "Nieuwe Waterweg Maeslantkering zee",
          "state": "AfzinkenCPSE",
          "value": 4.269970490249573
         },
         {
          "comp1": 180,
          "comp2": -7,
          "index": "1991-01-07T11:00:00",
          "location": "Nieuwe Waterweg Maeslantkering zee",
          "state": "AfzinkenCPSE",
          "value": 4.211738406503753
         },
         {
          "comp1": 180,
          "comp2": -7,
          "index": "1991-01-07T11:10:00",
          "location": "Nieuwe Waterweg Maeslantkering zee",
          "state": "AfzinkenCPSE",
          "value": 4.155688699980927
         },
         {
          "comp1": 180,
          "comp2": -7,
          "index": "1991-01-07T11:20:00",
          "location": "Nieuwe Waterweg Maeslantkering zee",
          "state": "AfzinkenCPSE",
          "value": 4.0929231779154485
         },
         {
          "comp1": 180,
          "comp2": -7,
          "index": "1991-01-07T11:30:00",
          "location": "Nieuwe Waterweg Maeslantkering zee",
          "state": "AfzinkenCPSE",
          "value": 4.022088251371658
         },
         {
          "comp1": 180,
          "comp2": -7,
          "index": "1991-01-07T11:40:00",
          "location": "Nieuwe Waterweg Maeslantkering zee",
          "state": "AfzinkenCPSE",
          "value": 3.9510799903362765
         },
         {
          "comp1": 180,
          "comp2": -7,
          "index": "1991-01-07T11:50:00",
          "location": "Nieuwe Waterweg Maeslantkering zee",
          "state": "AfzinkenCPSE",
          "value": 3.881766144395778
         },
         {
          "comp1": 180,
          "comp2": -7,
          "index": "1991-01-07T12:00:00",
          "location": "Nieuwe Waterweg Maeslantkering zee",
          "state": "AfzinkenCPSE",
          "value": 3.8221229556093865
         },
         {
          "comp1": 180,
          "comp2": -7,
          "index": "1991-01-07T12:10:00",
          "location": "Nieuwe Waterweg Maeslantkering zee",
          "state": "AfzinkenCPSE",
          "value": 3.772599867789212
         },
         {
          "comp1": 180,
          "comp2": -7,
          "index": "1991-01-07T12:20:00",
          "location": "Nieuwe Waterweg Maeslantkering zee",
          "state": "AfzinkenCPSE",
          "value": 3.7432295070955677
         },
         {
          "comp1": 180,
          "comp2": -7,
          "index": "1991-01-07T12:30:00",
          "location": "Nieuwe Waterweg Maeslantkering zee",
          "state": "AfzinkenCPSE",
          "value": 3.7308689647758158
         },
         {
          "comp1": 180,
          "comp2": -7,
          "index": "1991-01-07T12:40:00",
          "location": "Nieuwe Waterweg Maeslantkering zee",
          "state": "AfzinkenCPSE",
          "value": 3.7352677839346735
         },
         {
          "comp1": 180,
          "comp2": -7,
          "index": "1991-01-07T12:50:00",
          "location": "Nieuwe Waterweg Maeslantkering zee",
          "state": "AfzinkenCPSE",
          "value": 3.7453736349590496
         },
         {
          "comp1": 180,
          "comp2": -7,
          "index": "1991-01-07T13:00:00",
          "location": "Nieuwe Waterweg Maeslantkering zee",
          "state": "AfzinkenCPSE",
          "value": 3.743608069786906
         },
         {
          "comp1": 180,
          "comp2": -7,
          "index": "1991-01-07T13:10:00",
          "location": "Nieuwe Waterweg Maeslantkering zee",
          "state": "AfzinkenCPSE",
          "value": 3.7384502719837185
         },
         {
          "comp1": 180,
          "comp2": -7,
          "index": "1991-01-07T13:20:00",
          "location": "Nieuwe Waterweg Maeslantkering zee",
          "state": "AfzinkenCPSE",
          "value": 3.730805371685014
         },
         {
          "comp1": 180,
          "comp2": -7,
          "index": "1991-01-07T13:30:00",
          "location": "Nieuwe Waterweg Maeslantkering zee",
          "state": "AfzinkenCPSE",
          "value": 3.6946613969051705
         },
         {
          "comp1": 180,
          "comp2": -7,
          "index": "1991-01-07T13:40:00",
          "location": "Nieuwe Waterweg Maeslantkering zee",
          "state": "AfzinkenCPSE",
          "value": 3.63755368100186
         },
         {
          "comp1": 180,
          "comp2": -7,
          "index": "1991-01-07T13:50:00",
          "location": "Nieuwe Waterweg Maeslantkering zee",
          "state": "AfzinkenCPSE",
          "value": 3.567237715432492
         },
         {
          "comp1": 180,
          "comp2": -7,
          "index": "1991-01-07T14:00:00",
          "location": "Nieuwe Waterweg Maeslantkering zee",
          "state": "AfzinkenCPSE",
          "value": 3.501432277755092
         },
         {
          "comp1": 180,
          "comp2": -7,
          "index": "1991-01-07T14:10:00",
          "location": "Nieuwe Waterweg Maeslantkering zee",
          "state": "AfzinkenCPSE",
          "value": 3.449352183379658
         },
         {
          "comp1": 180,
          "comp2": -7,
          "index": "1991-01-07T14:20:00",
          "location": "Nieuwe Waterweg Maeslantkering zee",
          "state": "AfzinkenCPSE",
          "value": 3.4009533806920036
         },
         {
          "comp1": 180,
          "comp2": -7,
          "index": "1991-01-07T14:30:00",
          "location": "Nieuwe Waterweg Maeslantkering zee",
          "state": "AfzinkenCPSE",
          "value": 3.351930143464961
         },
         {
          "comp1": 180,
          "comp2": -7,
          "index": "1991-01-07T14:40:00",
          "location": "Nieuwe Waterweg Maeslantkering zee",
          "state": "AfzinkenCPSE",
          "value": 3.312346295238995
         },
         {
          "comp1": 180,
          "comp2": -7,
          "index": "1991-01-07T14:50:00",
          "location": "Nieuwe Waterweg Maeslantkering zee",
          "state": "AfzinkenCPSE",
          "value": 3.2781715690984465
         },
         {
          "comp1": 180,
          "comp2": -7,
          "index": "1991-01-07T15:00:00",
          "location": "Nieuwe Waterweg Maeslantkering zee",
          "state": "AfzinkenCPSE",
          "value": 3.245514112476723
         },
         {
          "comp1": 180,
          "comp2": -7,
          "index": "1991-01-07T15:10:00",
          "location": "Nieuwe Waterweg Maeslantkering zee",
          "state": "AfzinkenCPSE",
          "value": 3.210046707022147
         },
         {
          "comp1": 180,
          "comp2": -7,
          "index": "1991-01-07T15:20:00",
          "location": "Nieuwe Waterweg Maeslantkering zee",
          "state": "AfzinkenCPSE",
          "value": 3.177376818185412
         },
         {
          "comp1": 180,
          "comp2": -7,
          "index": "1991-01-07T15:30:00",
          "location": "Nieuwe Waterweg Maeslantkering zee",
          "state": "AfzinkenCPSE",
          "value": 3.147096525794347
         },
         {
          "comp1": 180,
          "comp2": -7,
          "index": "1991-01-07T15:40:00",
          "location": "Nieuwe Waterweg Maeslantkering zee",
          "state": "AfzinkenCPSE",
          "value": 3.117792787305839
         },
         {
          "comp1": 180,
          "comp2": -7,
          "index": "1991-01-07T15:50:00",
          "location": "Nieuwe Waterweg Maeslantkering zee",
          "state": "AfzinkenCPSE",
          "value": 3.088052149082055
         },
         {
          "comp1": 180,
          "comp2": -7,
          "index": "1991-01-07T16:00:00",
          "location": "Nieuwe Waterweg Maeslantkering zee",
          "state": "AfzinkenCPSE",
          "value": 3.0588181619334915
         },
         {
          "comp1": 180,
          "comp2": -7,
          "index": "1991-01-07T16:10:00",
          "location": "Nieuwe Waterweg Maeslantkering zee",
          "state": "AfzinkenCPSE",
          "value": 3.0460284554179404
         },
         {
          "comp1": 180,
          "comp2": -7,
          "index": "1991-01-07T16:20:00",
          "location": "Nieuwe Waterweg Maeslantkering zee",
          "state": "AfzinkenCPSE",
          "value": 3.04052706343533
         },
         {
          "comp1": 180,
          "comp2": -7,
          "index": "1991-01-07T16:30:00",
          "location": "Nieuwe Waterweg Maeslantkering zee",
          "state": "AfzinkenCPSE",
          "value": 3.0429298840908756
         },
         {
          "comp1": 180,
          "comp2": -7,
          "index": "1991-01-07T16:40:00",
          "location": "Nieuwe Waterweg Maeslantkering zee",
          "state": "AfzinkenCPSE",
          "value": 3.0539832759056202
         },
         {
          "comp1": 180,
          "comp2": -7,
          "index": "1991-01-07T16:50:00",
          "location": "Nieuwe Waterweg Maeslantkering zee",
          "state": "AfzinkenCPSE",
          "value": 3.070707470503742
         },
         {
          "comp1": 180,
          "comp2": -7,
          "index": "1991-01-07T17:00:00",
          "location": "Nieuwe Waterweg Maeslantkering zee",
          "state": "AfzinkenCPSE",
          "value": 3.0904471367358854
         },
         {
          "comp1": 180,
          "comp2": -7,
          "index": "1991-01-07T17:10:00",
          "location": "Nieuwe Waterweg Maeslantkering zee",
          "state": "AfzinkenCPSE",
          "value": 3.1273780417823844
         },
         {
          "comp1": 180,
          "comp2": -7,
          "index": "1991-01-07T17:20:00",
          "location": "Nieuwe Waterweg Maeslantkering zee",
          "state": "AfzinkenCPSE",
          "value": 3.1796677105620326
         },
         {
          "comp1": 180,
          "comp2": -7,
          "index": "1991-01-07T17:30:00",
          "location": "Nieuwe Waterweg Maeslantkering zee",
          "state": "AfzinkenCPSE",
          "value": 3.233825476584098
         },
         {
          "comp1": 180,
          "comp2": -7,
          "index": "1991-01-07T17:40:00",
          "location": "Nieuwe Waterweg Maeslantkering zee",
          "state": "AfzinkenCPSE",
          "value": 3.309883526332445
         },
         {
          "comp1": 180,
          "comp2": -7,
          "index": "1991-01-07T17:50:00",
          "location": "Nieuwe Waterweg Maeslantkering zee",
          "state": "AfzinkenCPSE",
          "value": 3.392009999678554
         },
         {
          "comp1": 180,
          "comp2": -7,
          "index": "1991-01-07T18:00:00",
          "location": "Nieuwe Waterweg Maeslantkering zee",
          "state": "AfzinkenCPSE",
          "value": 3.489167826391092
         },
         {
          "comp1": 180,
          "comp2": -7,
          "index": "1991-01-07T18:10:00",
          "location": "Nieuwe Waterweg Maeslantkering zee",
          "state": "AfzinkenCPSE",
          "value": 3.5917119046140087
         },
         {
          "comp1": 180,
          "comp2": -7,
          "index": "1991-01-07T18:20:00",
          "location": "Nieuwe Waterweg Maeslantkering zee",
          "state": "AfzinkenCPSE",
          "value": 3.6899057393710937
         },
         {
          "comp1": 180,
          "comp2": -7,
          "index": "1991-01-07T18:30:00",
          "location": "Nieuwe Waterweg Maeslantkering zee",
          "state": "AfzinkenCPSE",
          "value": 3.778541506942885
         },
         {
          "comp1": 180,
          "comp2": -7,
          "index": "1991-01-07T18:40:00",
          "location": "Nieuwe Waterweg Maeslantkering zee",
          "state": "AfzinkenCPSE",
          "value": 3.8546072725958833
         },
         {
          "comp1": 180,
          "comp2": -7,
          "index": "1991-01-07T18:50:00",
          "location": "Nieuwe Waterweg Maeslantkering zee",
          "state": "AfzinkenCPSE",
          "value": 3.885872842349328
         },
         {
          "comp1": 180,
          "comp2": -7,
          "index": "1991-01-07T19:00:00",
          "location": "Nieuwe Waterweg Maeslantkering zee",
          "state": "AfzinkenCPSE",
          "value": 3.8729836096101593
         },
         {
          "comp1": 180,
          "comp2": -7,
          "index": "1991-01-07T19:10:00",
          "location": "Nieuwe Waterweg Maeslantkering zee",
          "state": "AfzinkenCPSE",
          "value": 3.823107619402931
         },
         {
          "comp1": 180,
          "comp2": -7,
          "index": "1991-01-07T19:20:00",
          "location": "Nieuwe Waterweg Maeslantkering zee",
          "state": "AfzinkenCPSE",
          "value": 3.7544127886831204
         },
         {
          "comp1": 180,
          "comp2": -7,
          "index": "1991-01-07T19:30:00",
          "location": "Nieuwe Waterweg Maeslantkering zee",
          "state": "AfzinkenCPSE",
          "value": 3.6834672293775736
         },
         {
          "comp1": 180,
          "comp2": -7,
          "index": "1991-01-07T19:40:00",
          "location": "Nieuwe Waterweg Maeslantkering zee",
          "state": "AfzinkenCPSE",
          "value": 3.6124117432042504
         },
         {
          "comp1": 180,
          "comp2": -7,
          "index": "1991-01-07T19:50:00",
          "location": "Nieuwe Waterweg Maeslantkering zee",
          "state": "AfzinkenCPSE",
          "value": 3.5419502652220602
         },
         {
          "comp1": 180,
          "comp2": -7,
          "index": "1991-01-07T20:00:00",
          "location": "Nieuwe Waterweg Maeslantkering zee",
          "state": "AfzinkenCPSE",
          "value": 3.47508963584787
         },
         {
          "comp1": 180,
          "comp2": -7,
          "index": "1991-01-07T20:10:00",
          "location": "Nieuwe Waterweg Maeslantkering zee",
          "state": "AfzinkenCPSE",
          "value": 3.414060090755
         },
         {
          "comp1": 180,
          "comp2": -7,
          "index": "1991-01-07T20:20:00",
          "location": "Nieuwe Waterweg Maeslantkering zee",
          "state": "AfzinkenCPSE",
          "value": 3.361149068400088
         },
         {
          "comp1": 180,
          "comp2": -7,
          "index": "1991-01-07T20:30:00",
          "location": "Nieuwe Waterweg Maeslantkering zee",
          "state": "AfzinkenCPSE",
          "value": 3.310549674093541
         },
         {
          "comp1": 180,
          "comp2": -7,
          "index": "1991-01-07T20:40:00",
          "location": "Nieuwe Waterweg Maeslantkering zee",
          "state": "AfzinkenCPSE",
          "value": 3.253326703308506
         },
         {
          "comp1": 180,
          "comp2": -7,
          "index": "1991-01-07T20:50:00",
          "location": "Nieuwe Waterweg Maeslantkering zee",
          "state": "AfzinkenCPSE",
          "value": 3.190936570870835
         },
         {
          "comp1": 180,
          "comp2": -7,
          "index": "1991-01-07T21:00:00",
          "location": "Nieuwe Waterweg Maeslantkering zee",
          "state": "AfzinkenCPSE",
          "value": 3.1165189041163526
         },
         {
          "comp1": 180,
          "comp2": -7,
          "index": "1991-01-07T21:10:00",
          "location": "Nieuwe Waterweg Maeslantkering zee",
          "state": "AfzinkenCPSE",
          "value": 3.0181922314830953
         },
         {
          "comp1": 180,
          "comp2": -7,
          "index": "1991-01-07T21:20:00",
          "location": "Nieuwe Waterweg Maeslantkering zee",
          "state": "AfzinkenCPSE",
          "value": 2.913552345513914
         },
         {
          "comp1": 180,
          "comp2": -7,
          "index": "1991-01-07T21:30:00",
          "location": "Nieuwe Waterweg Maeslantkering zee",
          "state": "AfzinkenCPSE",
          "value": 2.7964766012634055
         },
         {
          "comp1": 180,
          "comp2": -7,
          "index": "1991-01-07T21:40:00",
          "location": "Nieuwe Waterweg Maeslantkering zee",
          "state": "AfzinkenCPSE",
          "value": 2.6729630954096026
         },
         {
          "comp1": 180,
          "comp2": -7,
          "index": "1991-01-07T21:50:00",
          "location": "Nieuwe Waterweg Maeslantkering zee",
          "state": "AfzinkenCPSE",
          "value": 2.5525492773308303
         },
         {
          "comp1": 180,
          "comp2": -7,
          "index": "1991-01-07T22:00:00",
          "location": "Nieuwe Waterweg Maeslantkering zee",
          "state": "AfzinkenCPSE",
          "value": 2.426664198175934
         },
         {
          "comp1": 180,
          "comp2": -7,
          "index": "1991-01-07T22:10:00",
          "location": "Nieuwe Waterweg Maeslantkering zee",
          "state": "AfzinkenCPSE",
          "value": 2.297668630410475
         },
         {
          "comp1": 180,
          "comp2": -7,
          "index": "1991-01-07T22:20:00",
          "location": "Nieuwe Waterweg Maeslantkering zee",
          "state": "AfzinkenCPSE",
          "value": 2.161199746272123
         },
         {
          "comp1": 180,
          "comp2": -7,
          "index": "1991-01-07T22:30:00",
          "location": "Nieuwe Waterweg Maeslantkering zee",
          "state": "AfzinkenCPSE",
          "value": 2.0357820696348363
         },
         {
          "comp1": 180,
          "comp2": -12,
          "index": "1991-01-07T22:40:00",
          "location": "Nieuwe Waterweg Maeslantkering zee",
          "state": "Opdrijven",
          "value": 1.9074869283828075
         },
         {
          "comp1": 180,
          "comp2": -12,
          "index": "1991-01-07T22:50:00",
          "location": "Nieuwe Waterweg Maeslantkering zee",
          "state": "Opdrijven",
          "value": 1.7733264513991926
         },
         {
          "comp1": 180,
          "comp2": -12,
          "index": "1991-01-07T23:00:00",
          "location": "Nieuwe Waterweg Maeslantkering zee",
          "state": "Opdrijven",
          "value": 1.638380550270715
         },
         {
          "comp1": 180,
          "comp2": -7,
          "index": "1991-01-07T23:10:00",
          "location": "Nieuwe Waterweg Maeslantkering zee",
          "state": "Spuien",
          "value": 1.5014697933720822
         },
         {
          "comp1": 180,
          "comp2": -7,
          "index": "1991-01-07T23:20:00",
          "location": "Nieuwe Waterweg Maeslantkering zee",
          "state": "Spuien",
          "value": 1.3648976538529112
         },
         {
          "comp1": 180,
          "comp2": -7,
          "index": "1991-01-07T23:30:00",
          "location": "Nieuwe Waterweg Maeslantkering zee",
          "state": "Spuien",
          "value": 1.2322702240940695
         },
         {
          "comp1": 180,
          "comp2": -7,
          "index": "1991-01-07T23:40:00",
          "location": "Nieuwe Waterweg Maeslantkering zee",
          "state": "Spuien",
          "value": 1.1115909376732422
         },
         {
          "comp1": 180,
          "comp2": -7,
          "index": "1991-01-07T23:50:00",
          "location": "Nieuwe Waterweg Maeslantkering zee",
          "state": "Spuien",
          "value": 0.9965266492863183
         },
         {
          "comp1": 180,
          "comp2": -7,
          "index": "1991-01-08T00:00:00",
          "location": "Nieuwe Waterweg Maeslantkering zee",
          "state": "Spuien",
          "value": 0.8388558382169051
         },
         {
          "comp1": 180,
          "comp2": -7,
          "index": "1991-01-08T00:10:00",
          "location": "Nieuwe Waterweg Maeslantkering zee",
          "state": "Spuien",
          "value": 0.7580451315634095
         },
         {
          "comp1": 180,
          "comp2": -7,
          "index": "1991-01-08T00:20:00",
          "location": "Nieuwe Waterweg Maeslantkering zee",
          "state": "Spuien",
          "value": 0.686471350413122
         },
         {
          "comp1": 180,
          "comp2": -7,
          "index": "1991-01-08T00:30:00",
          "location": "Nieuwe Waterweg Maeslantkering zee",
          "state": "Spuien",
          "value": 0.611053120477659
         },
         {
          "comp1": 180,
          "comp2": -7,
          "index": "1991-01-08T00:40:00",
          "location": "Nieuwe Waterweg Maeslantkering zee",
          "state": "Spuien",
          "value": 0.5501748014034783
         },
         {
          "comp1": 180,
          "comp2": -7,
          "index": "1991-01-08T00:50:00",
          "location": "Nieuwe Waterweg Maeslantkering zee",
          "state": "Spuien",
          "value": 0.5052063566853401
         },
         {
          "comp1": 360,
          "comp2": -7,
          "index": "1991-01-08T01:00:00",
          "location": "Nieuwe Waterweg Maeslantkering zee",
          "state": "HorizontaalOpenen",
          "value": 0.46061171167017195
         },
         {
          "comp1": 360,
          "comp2": -7,
          "index": "1991-01-08T01:00:00",
          "location": "Nieuwe Waterweg Maeslantkering zee",
          "state": "Paraat",
          "value": 0.46061171167017195
         },
         {
          "comp1": 360,
          "comp2": -7,
          "index": "1991-01-08T01:00:00",
          "location": "Nieuwe Waterweg Maeslantkering zee",
          "state": "ParkerenKw",
          "value": 0.46061171167017195
         },
         {
          "comp1": 360,
          "comp2": -7,
          "index": "1991-01-08T01:10:00",
          "location": "Nieuwe Waterweg Maeslantkering zee",
          "state": "ParkerenKw",
          "value": 0.42239798129777756
         },
         {
          "comp1": 360,
          "comp2": -7,
          "index": "1991-01-08T01:20:00",
          "location": "Nieuwe Waterweg Maeslantkering zee",
          "state": "ParkerenKw",
          "value": 0.392915350971021
         },
         {
          "comp1": 360,
          "comp2": -7,
          "index": "1991-01-08T01:30:00",
          "location": "Nieuwe Waterweg Maeslantkering zee",
          "state": "ParkerenKw",
          "value": 0.36346975858749353
         },
         {
          "comp1": 360,
          "comp2": -7,
          "index": "1991-01-08T01:40:00",
          "location": "Nieuwe Waterweg Maeslantkering zee",
          "state": "ParkerenKw",
          "value": 0.3294310253377538
         },
         {
          "comp1": 360,
          "comp2": -7,
          "index": "1991-01-08T01:50:00",
          "location": "Nieuwe Waterweg Maeslantkering zee",
          "state": "ParkerenKw",
          "value": 0.29503329420805086
         },
         {
          "comp1": 360,
          "comp2": -7,
          "index": "1991-01-08T02:00:00",
          "location": "Nieuwe Waterweg Maeslantkering zee",
          "state": "Alert",
          "value": 0.25251152036390395
         },
         {
          "comp1": 360,
          "comp2": -7,
          "index": "1991-01-08T02:10:00",
          "location": "Nieuwe Waterweg Maeslantkering zee",
          "state": "Alert",
          "value": 0.20614554517321368
         },
         {
          "comp1": 360,
          "comp2": -7,
          "index": "1991-01-08T02:20:00",
          "location": "Nieuwe Waterweg Maeslantkering zee",
          "state": "Gemobiliseerd",
          "value": 0.1593730774853573
         },
         {
          "comp1": 360,
          "comp2": -7,
          "index": "1991-01-08T02:20:00",
          "location": "Nieuwe Waterweg Maeslantkering zee",
          "state": "Rust",
          "value": 0.1593730774853573
         },
         {
          "comp1": 360,
          "comp2": -7,
          "index": "1991-01-08T02:30:00",
          "location": "Nieuwe Waterweg Maeslantkering zee",
          "state": "Rust",
          "value": 0.1077812732583658
         },
         {
          "comp1": 360,
          "comp2": -7,
          "index": "1991-01-08T02:40:00",
          "location": "Nieuwe Waterweg Maeslantkering zee",
          "state": "Rust",
          "value": 0.058061599796640065
         },
         {
          "comp1": 360,
          "comp2": -7,
          "index": "1991-01-08T02:50:00",
          "location": "Nieuwe Waterweg Maeslantkering zee",
          "state": "Rust",
          "value": 0.0076428945282546725
         },
         {
          "comp1": 360,
          "comp2": -7,
          "index": "1991-01-08T03:00:00",
          "location": "Nieuwe Waterweg Maeslantkering zee",
          "state": "Rust",
          "value": -0.04144139590286691
         },
         {
          "comp1": 360,
          "comp2": -7,
          "index": "1991-01-08T03:10:00",
          "location": "Nieuwe Waterweg Maeslantkering zee",
          "state": "Rust",
          "value": -0.0874710725995471
         },
         {
          "comp1": 360,
          "comp2": -7,
          "index": "1991-01-08T03:20:00",
          "location": "Nieuwe Waterweg Maeslantkering zee",
          "state": "Rust",
          "value": -0.1324432919158852
         },
         {
          "comp1": 360,
          "comp2": -7,
          "index": "1991-01-08T03:30:00",
          "location": "Nieuwe Waterweg Maeslantkering zee",
          "state": "Rust",
          "value": -0.1769758770284555
         },
         {
          "comp1": 360,
          "comp2": -7,
          "index": "1991-01-08T03:40:00",
          "location": "Nieuwe Waterweg Maeslantkering zee",
          "state": "Rust",
          "value": -0.22123641763242355
         },
         {
          "comp1": 360,
          "comp2": -7,
          "index": "1991-01-08T03:50:00",
          "location": "Nieuwe Waterweg Maeslantkering zee",
          "state": "Rust",
          "value": -0.2613363214068884
         },
         {
          "comp1": 360,
          "comp2": -7,
          "index": "1991-01-08T04:00:00",
          "location": "Nieuwe Waterweg Maeslantkering zee",
          "state": "Rust",
          "value": -0.2939615890785914
         },
         {
          "comp1": 360,
          "comp2": -7,
          "index": "1991-01-08T04:10:00",
          "location": "Nieuwe Waterweg Maeslantkering zee",
          "state": "Rust",
          "value": -0.32200922320781733
         },
         {
          "comp1": 360,
          "comp2": -7,
          "index": "1991-01-08T04:20:00",
          "location": "Nieuwe Waterweg Maeslantkering zee",
          "state": "Rust",
          "value": -0.344418178991515
         },
         {
          "comp1": 360,
          "comp2": -7,
          "index": "1991-01-08T04:30:00",
          "location": "Nieuwe Waterweg Maeslantkering zee",
          "state": "Rust",
          "value": -0.35872078816053826
         },
         {
          "comp1": 360,
          "comp2": -7,
          "index": "1991-01-08T04:40:00",
          "location": "Nieuwe Waterweg Maeslantkering zee",
          "state": "Rust",
          "value": -0.36377828782275845
         },
         {
          "comp1": 360,
          "comp2": -7,
          "index": "1991-01-08T04:50:00",
          "location": "Nieuwe Waterweg Maeslantkering zee",
          "state": "Rust",
          "value": -0.364381574705979
         },
         {
          "comp1": 360,
          "comp2": -7,
          "index": "1991-01-08T05:00:00",
          "location": "Nieuwe Waterweg Maeslantkering zee",
          "state": "Rust",
          "value": -0.34058096724699555
         },
         {
          "comp1": 360,
          "comp2": -7,
          "index": "1991-01-08T05:10:00",
          "location": "Nieuwe Waterweg Maeslantkering zee",
          "state": "Rust",
          "value": -0.2929722866571375
         },
         {
          "comp1": 360,
          "comp2": -7,
          "index": "1991-01-08T05:20:00",
          "location": "Nieuwe Waterweg Maeslantkering zee",
          "state": "Rust",
          "value": -0.2340067917282998
         },
         {
          "comp1": 360,
          "comp2": -7,
          "index": "1991-01-08T05:30:00",
          "location": "Nieuwe Waterweg Maeslantkering zee",
          "state": "Rust",
          "value": -0.1549303365579387
         },
         {
          "comp1": 360,
          "comp2": -7,
          "index": "1991-01-08T05:40:00",
          "location": "Nieuwe Waterweg Maeslantkering zee",
          "state": "Rust",
          "value": -0.05307488893143749
         },
         {
          "comp1": 360,
          "comp2": -7,
          "index": "1991-01-08T05:50:00",
          "location": "Nieuwe Waterweg Maeslantkering zee",
          "state": "Rust",
          "value": 0.07408638727993723
         },
         {
          "comp1": 360,
          "comp2": -7,
          "index": "1991-01-08T06:00:00",
          "location": "Nieuwe Waterweg Maeslantkering zee",
          "state": "Rust",
          "value": 0.2193601583949799
         },
         {
          "comp1": 360,
          "comp2": -7,
          "index": "1991-01-08T06:10:00",
          "location": "Nieuwe Waterweg Maeslantkering zee",
          "state": "Rust",
          "value": 0.3515079207356225
         },
         {
          "comp1": 360,
          "comp2": -7,
          "index": "1991-01-08T06:20:00",
          "location": "Nieuwe Waterweg Maeslantkering zee",
          "state": "Rust",
          "value": 0.478126263128164
         },
         {
          "comp1": 360,
          "comp2": -7,
          "index": "1991-01-08T06:30:00",
          "location": "Nieuwe Waterweg Maeslantkering zee",
          "state": "Rust",
          "value": 0.6226757714618779
         },
         {
          "comp1": 360,
          "comp2": -7,
          "index": "1991-01-08T06:40:00",
          "location": "Nieuwe Waterweg Maeslantkering zee",
          "state": "Rust",
          "value": 0.7743310097365095
         },
         {
          "comp1": 360,
          "comp2": -7,
          "index": "1991-01-08T06:50:00",
          "location": "Nieuwe Waterweg Maeslantkering zee",
          "state": "Rust",
          "value": 0.9203306621222204
         },
         {
          "comp1": 360,
          "comp2": -7,
          "index": "1991-01-08T07:00:00",
          "location": "Nieuwe Waterweg Maeslantkering zee",
          "state": "Rust",
          "value": 1.0486070974581756
         },
         {
          "comp1": 360,
          "comp2": -7,
          "index": "1991-01-08T07:10:00",
          "location": "Nieuwe Waterweg Maeslantkering zee",
          "state": "Rust",
          "value": 1.1360971797158501
         },
         {
          "comp1": 360,
          "comp2": -7,
          "index": "1991-01-08T07:20:00",
          "location": "Nieuwe Waterweg Maeslantkering zee",
          "state": "Rust",
          "value": 1.1931369922512922
         },
         {
          "comp1": 360,
          "comp2": -7,
          "index": "1991-01-08T07:30:00",
          "location": "Nieuwe Waterweg Maeslantkering zee",
          "state": "Rust",
          "value": 1.227363670408693
         },
         {
          "comp1": 360,
          "comp2": -7,
          "index": "1991-01-08T07:40:00",
          "location": "Nieuwe Waterweg Maeslantkering zee",
          "state": "Rust",
          "value": 1.242020979726203
         },
         {
          "comp1": 360,
          "comp2": -7,
          "index": "1991-01-08T07:50:00",
          "location": "Nieuwe Waterweg Maeslantkering zee",
          "state": "Rust",
          "value": 1.2300754911633467
         },
         {
          "comp1": 360,
          "comp2": -7,
          "index": "1991-01-08T08:00:00",
          "location": "Nieuwe Waterweg Maeslantkering zee",
          "state": "Rust",
          "value": 1.2048227738357271
         },
         {
          "comp1": 360,
          "comp2": -7,
          "index": "1991-01-08T08:10:00",
          "location": "Nieuwe Waterweg Maeslantkering zee",
          "state": "Rust",
          "value": 1.1727413088544014
         },
         {
          "comp1": 360,
          "comp2": -7,
          "index": "1991-01-08T08:20:00",
          "location": "Nieuwe Waterweg Maeslantkering zee",
          "state": "Rust",
          "value": 1.1353878330240708
         },
         {
          "comp1": 360,
          "comp2": -7,
          "index": "1991-01-08T08:30:00",
          "location": "Nieuwe Waterweg Maeslantkering zee",
          "state": "Rust",
          "value": 1.0956253719454878
         },
         {
          "comp1": 360,
          "comp2": -7,
          "index": "1991-01-08T08:40:00",
          "location": "Nieuwe Waterweg Maeslantkering zee",
          "state": "Rust",
          "value": 1.0642753700881158
         },
         {
          "comp1": 360,
          "comp2": -7,
          "index": "1991-01-08T08:50:00",
          "location": "Nieuwe Waterweg Maeslantkering zee",
          "state": "Rust",
          "value": 1.0501593134376113
         },
         {
          "comp1": 360,
          "comp2": -7,
          "index": "1991-01-08T09:00:00",
          "location": "Nieuwe Waterweg Maeslantkering zee",
          "state": "Rust",
          "value": 1.0405493044648197
         },
         {
          "comp1": 360,
          "comp2": -7,
          "index": "1991-01-08T09:10:00",
          "location": "Nieuwe Waterweg Maeslantkering zee",
          "state": "Rust",
          "value": 1.0229654996041457
         },
         {
          "comp1": 360,
          "comp2": -7,
          "index": "1991-01-08T09:20:00",
          "location": "Nieuwe Waterweg Maeslantkering zee",
          "state": "Rust",
          "value": 0.9945169009411773
         },
         {
          "comp1": 360,
          "comp2": -7,
          "index": "1991-01-08T09:30:00",
          "location": "Nieuwe Waterweg Maeslantkering zee",
          "state": "Rust",
          "value": 0.9574127787298835
         },
         {
          "comp1": 360,
          "comp2": -7,
          "index": "1991-01-08T09:40:00",
          "location": "Nieuwe Waterweg Maeslantkering zee",
          "state": "Rust",
          "value": 0.9142755422134219
         },
         {
          "comp1": 360,
          "comp2": -7,
          "index": "1991-01-08T09:50:00",
          "location": "Nieuwe Waterweg Maeslantkering zee",
          "state": "Rust",
          "value": 0.8554428315374035
         },
         {
          "comp1": 360,
          "comp2": -7,
          "index": "1991-01-08T10:00:00",
          "location": "Nieuwe Waterweg Maeslantkering zee",
          "state": "Rust",
          "value": 0.787921370302703
         },
         {
          "comp1": 360,
          "comp2": -7,
          "index": "1991-01-08T10:10:00",
          "location": "Nieuwe Waterweg Maeslantkering zee",
          "state": "Rust",
          "value": 0.7163218480495115
         },
         {
          "comp1": 360,
          "comp2": -7,
          "index": "1991-01-08T10:20:00",
          "location": "Nieuwe Waterweg Maeslantkering zee",
          "state": "Rust",
          "value": 0.6376921455196952
         },
         {
          "comp1": 360,
          "comp2": -7,
          "index": "1991-01-08T10:30:00",
          "location": "Nieuwe Waterweg Maeslantkering zee",
          "state": "Rust",
          "value": 0.5553123838584746
         },
         {
          "comp1": 360,
          "comp2": -7,
          "index": "1991-01-08T10:40:00",
          "location": "Nieuwe Waterweg Maeslantkering zee",
          "state": "Rust",
          "value": 0.4619304262953793
         },
         {
          "comp1": 360,
          "comp2": -7,
          "index": "1991-01-08T10:50:00",
          "location": "Nieuwe Waterweg Maeslantkering zee",
          "state": "Rust",
          "value": 0.36421769576466884
         },
         {
          "comp1": 360,
          "comp2": -7,
          "index": "1991-01-08T11:00:00",
          "location": "Nieuwe Waterweg Maeslantkering zee",
          "state": "Rust",
          "value": 0.2683797571947883
         },
         {
          "comp1": 360,
          "comp2": -7,
          "index": "1991-01-08T11:10:00",
          "location": "Nieuwe Waterweg Maeslantkering zee",
          "state": "Rust",
          "value": 0.16852230976778196
         },
         {
          "comp1": 360,
          "comp2": -7,
          "index": "1991-01-08T11:20:00",
          "location": "Nieuwe Waterweg Maeslantkering zee",
          "state": "Rust",
          "value": 0.07292119344255378
         },
         {
          "comp1": 360,
          "comp2": -7,
          "index": "1991-01-08T11:30:00",
          "location": "Nieuwe Waterweg Maeslantkering zee",
          "state": "Rust",
          "value": -0.01955681817352206
         },
         {
          "comp1": 360,
          "comp2": -7,
          "index": "1991-01-08T11:40:00",
          "location": "Nieuwe Waterweg Maeslantkering zee",
          "state": "Rust",
          "value": -0.10675660757647837
         },
         {
          "comp1": 360,
          "comp2": -7,
          "index": "1991-01-08T11:50:00",
          "location": "Nieuwe Waterweg Maeslantkering zee",
          "state": "Rust",
          "value": -0.18816216340086314
         },
         {
          "comp1": 360,
          "comp2": -7,
          "index": "1991-01-08T12:00:00",
          "location": "Nieuwe Waterweg Maeslantkering zee",
          "state": "Rust",
          "value": -0.2633318316404146
         },
         {
          "comp1": 360,
          "comp2": -7,
          "index": "1991-01-08T12:10:00",
          "location": "Nieuwe Waterweg Maeslantkering zee",
          "state": "Rust",
          "value": -0.33726738678217055
         },
         {
          "comp1": 360,
          "comp2": -7,
          "index": "1991-01-08T12:20:00",
          "location": "Nieuwe Waterweg Maeslantkering zee",
          "state": "Rust",
          "value": -0.40434231034119505
         },
         {
          "comp1": 360,
          "comp2": -7,
          "index": "1991-01-08T12:30:00",
          "location": "Nieuwe Waterweg Maeslantkering zee",
          "state": "Rust",
          "value": -0.46433948928521357
         },
         {
          "comp1": 360,
          "comp2": -7,
          "index": "1991-01-08T12:40:00",
          "location": "Nieuwe Waterweg Maeslantkering zee",
          "state": "Rust",
          "value": -0.514022340673674
         },
         {
          "comp1": 360,
          "comp2": -7,
          "index": "1991-01-08T12:50:00",
          "location": "Nieuwe Waterweg Maeslantkering zee",
          "state": "Rust",
          "value": -0.5484605506441982
         },
         {
          "comp1": 360,
          "comp2": -7,
          "index": "1991-01-08T13:00:00",
          "location": "Nieuwe Waterweg Maeslantkering zee",
          "state": "Rust",
          "value": -0.57357017842335
         },
         {
          "comp1": 360,
          "comp2": -7,
          "index": "1991-01-08T13:10:00",
          "location": "Nieuwe Waterweg Maeslantkering zee",
          "state": "Rust",
          "value": -0.5882753299786276
         },
         {
          "comp1": 360,
          "comp2": -7,
          "index": "1991-01-08T13:20:00",
          "location": "Nieuwe Waterweg Maeslantkering zee",
          "state": "Rust",
          "value": -0.5929734683313289
         },
         {
          "comp1": 360,
          "comp2": -7,
          "index": "1991-01-08T13:30:00",
          "location": "Nieuwe Waterweg Maeslantkering zee",
          "state": "Rust",
          "value": -0.5880235750346696
         },
         {
          "comp1": 360,
          "comp2": -7,
          "index": "1991-01-08T13:40:00",
          "location": "Nieuwe Waterweg Maeslantkering zee",
          "state": "Rust",
          "value": -0.5757837370405325
         },
         {
          "comp1": 360,
          "comp2": -7,
          "index": "1991-01-08T13:50:00",
          "location": "Nieuwe Waterweg Maeslantkering zee",
          "state": "Rust",
          "value": -0.5632992285804076
         },
         {
          "comp1": 360,
          "comp2": -7,
          "index": "1991-01-08T14:00:00",
          "location": "Nieuwe Waterweg Maeslantkering zee",
          "state": "Rust",
          "value": -0.5488807908641864
         },
         {
          "comp1": 360,
          "comp2": -7,
          "index": "1991-01-08T14:10:00",
          "location": "Nieuwe Waterweg Maeslantkering zee",
          "state": "Rust",
          "value": -0.534142614165561
         },
         {
          "comp1": 360,
          "comp2": -7,
          "index": "1991-01-08T14:20:00",
          "location": "Nieuwe Waterweg Maeslantkering zee",
          "state": "Rust",
          "value": -0.5257221692602252
         },
         {
          "comp1": 360,
          "comp2": -7,
          "index": "1991-01-08T14:30:00",
          "location": "Nieuwe Waterweg Maeslantkering zee",
          "state": "Rust",
          "value": -0.5273136958729834
         },
         {
          "comp1": 360,
          "comp2": -7,
          "index": "1991-01-08T14:40:00",
          "location": "Nieuwe Waterweg Maeslantkering zee",
          "state": "Rust",
          "value": -0.5324651035672427
         },
         {
          "comp1": 360,
          "comp2": -7,
          "index": "1991-01-08T14:50:00",
          "location": "Nieuwe Waterweg Maeslantkering zee",
          "state": "Rust",
          "value": -0.5410479419346321
         },
         {
          "comp1": 360,
          "comp2": -7,
          "index": "1991-01-08T15:00:00",
          "location": "Nieuwe Waterweg Maeslantkering zee",
          "state": "Rust",
          "value": -0.5462090084206991
         },
         {
          "comp1": 360,
          "comp2": -7,
          "index": "1991-01-08T15:10:00",
          "location": "Nieuwe Waterweg Maeslantkering zee",
          "state": "Rust",
          "value": -0.550638564981986
         },
         {
          "comp1": 360,
          "comp2": -7,
          "index": "1991-01-08T15:20:00",
          "location": "Nieuwe Waterweg Maeslantkering zee",
          "state": "Rust",
          "value": -0.5535883254941039
         },
         {
          "comp1": 360,
          "comp2": -7,
          "index": "1991-01-08T15:30:00",
          "location": "Nieuwe Waterweg Maeslantkering zee",
          "state": "Rust",
          "value": -0.5535785511265761
         },
         {
          "comp1": 360,
          "comp2": -7,
          "index": "1991-01-08T15:40:00",
          "location": "Nieuwe Waterweg Maeslantkering zee",
          "state": "Rust",
          "value": -0.5512137533002052
         },
         {
          "comp1": 360,
          "comp2": -7,
          "index": "1991-01-08T15:50:00",
          "location": "Nieuwe Waterweg Maeslantkering zee",
          "state": "Rust",
          "value": -0.5472165445988062
         },
         {
          "comp1": 360,
          "comp2": -7,
          "index": "1991-01-08T16:00:00",
          "location": "Nieuwe Waterweg Maeslantkering zee",
          "state": "Rust",
          "value": -0.5425164380985696
         },
         {
          "comp1": 360,
          "comp2": -7,
          "index": "1991-01-08T16:10:00",
          "location": "Nieuwe Waterweg Maeslantkering zee",
          "state": "Rust",
          "value": -0.5356776088041681
         },
         {
          "comp1": 360,
          "comp2": -7,
          "index": "1991-01-08T16:20:00",
          "location": "Nieuwe Waterweg Maeslantkering zee",
          "state": "Rust",
          "value": -0.5257943405546593
         },
         {
          "comp1": 360,
          "comp2": -7,
          "index": "1991-01-08T16:30:00",
          "location": "Nieuwe Waterweg Maeslantkering zee",
          "state": "Rust",
          "value": -0.5097841301653078
         },
         {
          "comp1": 360,
          "comp2": -7,
          "index": "1991-01-08T16:40:00",
          "location": "Nieuwe Waterweg Maeslantkering zee",
          "state": "Rust",
          "value": -0.48598090843087943
         },
         {
          "comp1": 360,
          "comp2": -7,
          "index": "1991-01-08T16:50:00",
          "location": "Nieuwe Waterweg Maeslantkering zee",
          "state": "Rust",
          "value": -0.4566369499505308
         },
         {
          "comp1": 360,
          "comp2": -7,
          "index": "1991-01-08T17:00:00",
          "location": "Nieuwe Waterweg Maeslantkering zee",
          "state": "Rust",
          "value": -0.41559464614659486
         },
         {
          "comp1": 360,
          "comp2": -7,
          "index": "1991-01-08T17:10:00",
          "location": "Nieuwe Waterweg Maeslantkering zee",
          "state": "Rust",
          "value": -0.3673006404305065
         },
         {
          "comp1": 360,
          "comp2": -7,
          "index": "1991-01-08T17:20:00",
          "location": "Nieuwe Waterweg Maeslantkering zee",
          "state": "Rust",
          "value": -0.3115661840712386
         },
         {
          "comp1": 360,
          "comp2": -7,
          "index": "1991-01-08T17:30:00",
          "location": "Nieuwe Waterweg Maeslantkering zee",
          "state": "Rust",
          "value": -0.251207878944831
         },
         {
          "comp1": 360,
          "comp2": -7,
          "index": "1991-01-08T17:40:00",
          "location": "Nieuwe Waterweg Maeslantkering zee",
          "state": "Rust",
          "value": -0.18705031931201155
         },
         {
          "comp1": 360,
          "comp2": -7,
          "index": "1991-01-08T17:50:00",
          "location": "Nieuwe Waterweg Maeslantkering zee",
          "state": "Rust",
          "value": -0.11741943420712601
         },
         {
          "comp1": 360,
          "comp2": -7,
          "index": "1991-01-08T18:00:00",
          "location": "Nieuwe Waterweg Maeslantkering zee",
          "state": "Rust",
          "value": -0.02771239305159543
         },
         {
          "comp1": 360,
          "comp2": -7,
          "index": "1991-01-08T18:10:00",
          "location": "Nieuwe Waterweg Maeslantkering zee",
          "state": "Rust",
          "value": 0.07619660584169574
         },
         {
          "comp1": 360,
          "comp2": -7,
          "index": "1991-01-08T18:20:00",
          "location": "Nieuwe Waterweg Maeslantkering zee",
          "state": "Rust",
          "value": 0.19630402022927754
         },
         {
          "comp1": 360,
          "comp2": -7,
          "index": "1991-01-08T18:30:00",
          "location": "Nieuwe Waterweg Maeslantkering zee",
          "state": "Rust",
          "value": 0.3450076725418514
         },
         {
          "comp1": 360,
          "comp2": -7,
          "index": "1991-01-08T18:40:00",
          "location": "Nieuwe Waterweg Maeslantkering zee",
          "state": "Rust",
          "value": 0.5003374166215365
         },
         {
          "comp1": 360,
          "comp2": -7,
          "index": "1991-01-08T18:50:00",
          "location": "Nieuwe Waterweg Maeslantkering zee",
          "state": "Rust",
          "value": 0.6561033846093518
         },
         {
          "comp1": 360,
          "comp2": -7,
          "index": "1991-01-08T19:00:00",
          "location": "Nieuwe Waterweg Maeslantkering zee",
          "state": "Rust",
          "value": 0.8063695208001389
         },
         {
          "comp1": 360,
          "comp2": -7,
          "index": "1991-01-08T19:10:00",
          "location": "Nieuwe Waterweg Maeslantkering zee",
          "state": "Rust",
          "value": 0.9454834382684326
         },
         {
          "comp1": 360,
          "comp2": -7,
          "index": "1991-01-08T19:20:00",
          "location": "Nieuwe Waterweg Maeslantkering zee",
          "state": "Rust",
          "value": 1.0683368383239147
         },
         {
          "comp1": 360,
          "comp2": -7,
          "index": "1991-01-08T19:30:00",
          "location": "Nieuwe Waterweg Maeslantkering zee",
          "state": "Rust",
          "value": 1.1775157488818895
         },
         {
          "comp1": 360,
          "comp2": -7,
          "index": "1991-01-08T19:40:00",
          "location": "Nieuwe Waterweg Maeslantkering zee",
          "state": "Rust",
          "value": 1.2468846311194528
         },
         {
          "comp1": 360,
          "comp2": -7,
          "index": "1991-01-08T19:50:00",
          "location": "Nieuwe Waterweg Maeslantkering zee",
          "state": "Rust",
          "value": 1.2787273669293704
         },
         {
          "comp1": 360,
          "comp2": -7,
          "index": "1991-01-08T20:00:00",
          "location": "Nieuwe Waterweg Maeslantkering zee",
          "state": "Rust",
          "value": 1.2776246269051312
         },
         {
          "comp1": 360,
          "comp2": -7,
          "index": "1991-01-08T20:10:00",
          "location": "Nieuwe Waterweg Maeslantkering zee",
          "state": "Rust",
          "value": 1.255638637723366
         },
         {
          "comp1": 360,
          "comp2": -7,
          "index": "1991-01-08T20:20:00",
          "location": "Nieuwe Waterweg Maeslantkering zee",
          "state": "Rust",
          "value": 1.2287616731261597
         },
         {
          "comp1": 360,
          "comp2": -7,
          "index": "1991-01-08T20:30:00",
          "location": "Nieuwe Waterweg Maeslantkering zee",
          "state": "Rust",
          "value": 1.200967757747881
         },
         {
          "comp1": 360,
          "comp2": -7,
          "index": "1991-01-08T20:40:00",
          "location": "Nieuwe Waterweg Maeslantkering zee",
          "state": "Rust",
          "value": 1.1758765012334222
         },
         {
          "comp1": 360,
          "comp2": -7,
          "index": "1991-01-08T20:50:00",
          "location": "Nieuwe Waterweg Maeslantkering zee",
          "state": "Rust",
          "value": 1.1517336104510794
         },
         {
          "comp1": 360,
          "comp2": -7,
          "index": "1991-01-08T21:00:00",
          "location": "Nieuwe Waterweg Maeslantkering zee",
          "state": "Rust",
          "value": 1.1280185540037035
         },
         {
          "comp1": 360,
          "comp2": -7,
          "index": "1991-01-08T21:10:00",
          "location": "Nieuwe Waterweg Maeslantkering zee",
          "state": "Rust",
          "value": 1.1065153870887883
         },
         {
          "comp1": 360,
          "comp2": -7,
          "index": "1991-01-08T21:20:00",
          "location": "Nieuwe Waterweg Maeslantkering zee",
          "state": "Rust",
          "value": 1.0857550495432826
         },
         {
          "comp1": 360,
          "comp2": -7,
          "index": "1991-01-08T21:30:00",
          "location": "Nieuwe Waterweg Maeslantkering zee",
          "state": "Rust",
          "value": 1.0570852473123558
         },
         {
          "comp1": 360,
          "comp2": -7,
          "index": "1991-01-08T21:40:00",
          "location": "Nieuwe Waterweg Maeslantkering zee",
          "state": "Rust",
          "value": 1.0205936606903947
         },
         {
          "comp1": 360,
          "comp2": -7,
          "index": "1991-01-08T21:50:00",
          "location": "Nieuwe Waterweg Maeslantkering zee",
          "state": "Rust",
          "value": 0.9771394348715525
         },
         {
          "comp1": 360,
          "comp2": -7,
          "index": "1991-01-08T22:00:00",
          "location": "Nieuwe Waterweg Maeslantkering zee",
          "state": "Rust",
          "value": 0.9284253192480283
         },
         {
          "comp1": 360,
          "comp2": -7,
          "index": "1991-01-08T22:10:00",
          "location": "Nieuwe Waterweg Maeslantkering zee",
          "state": "Rust",
          "value": 0.8705835471429735
         },
         {
          "comp1": 360,
          "comp2": -7,
          "index": "1991-01-08T22:20:00",
          "location": "Nieuwe Waterweg Maeslantkering zee",
          "state": "Rust",
          "value": 0.8057774710039871
         },
         {
          "comp1": 360,
          "comp2": -7,
          "index": "1991-01-08T22:30:00",
          "location": "Nieuwe Waterweg Maeslantkering zee",
          "state": "Rust",
          "value": 0.7396003030584625
         },
         {
          "comp1": 360,
          "comp2": -7,
          "index": "1991-01-08T22:40:00",
          "location": "Nieuwe Waterweg Maeslantkering zee",
          "state": "Rust",
          "value": 0.6729154572003708
         },
         {
          "comp1": 360,
          "comp2": -7,
          "index": "1991-01-08T22:50:00",
          "location": "Nieuwe Waterweg Maeslantkering zee",
          "state": "Rust",
          "value": 0.6040498704816311
         },
         {
          "comp1": 360,
          "comp2": -7,
          "index": "1991-01-08T23:00:00",
          "location": "Nieuwe Waterweg Maeslantkering zee",
          "state": "Rust",
          "value": 0.5324300963548506
         },
         {
          "comp1": 360,
          "comp2": -7,
          "index": "1991-01-08T23:10:00",
          "location": "Nieuwe Waterweg Maeslantkering zee",
          "state": "Rust",
          "value": 0.4588135837628803
         },
         {
          "comp1": 360,
          "comp2": -7,
          "index": "1991-01-08T23:20:00",
          "location": "Nieuwe Waterweg Maeslantkering zee",
          "state": "Rust",
          "value": 0.38831514919376203
         },
         {
          "comp1": 360,
          "comp2": -7,
          "index": "1991-01-08T23:30:00",
          "location": "Nieuwe Waterweg Maeslantkering zee",
          "state": "Rust",
          "value": 0.3120226769958147
         },
         {
          "comp1": 360,
          "comp2": -7,
          "index": "1991-01-08T23:40:00",
          "location": "Nieuwe Waterweg Maeslantkering zee",
          "state": "Rust",
          "value": 0.2315563734413405
         },
         {
          "comp1": 360,
          "comp2": -7,
          "index": "1991-01-08T23:50:00",
          "location": "Nieuwe Waterweg Maeslantkering zee",
          "state": "Rust",
          "value": 0.14709745522054843
         },
         {
          "comp1": 360,
          "comp2": -7,
          "index": "1991-01-09T00:00:00",
          "location": "Nieuwe Waterweg Maeslantkering zee",
          "state": "Rust",
          "value": 0.05595223421032542
         },
         {
          "comp1": 360,
          "comp2": -7,
          "index": "1991-01-09T00:10:00",
          "location": "Nieuwe Waterweg Maeslantkering zee",
          "state": "Rust",
          "value": -0.04369929839998547
         },
         {
          "comp1": 360,
          "comp2": -7,
          "index": "1991-01-09T00:20:00",
          "location": "Nieuwe Waterweg Maeslantkering zee",
          "state": "Rust",
          "value": -0.14231863431917927
         },
         {
          "comp1": 360,
          "comp2": -7,
          "index": "1991-01-09T00:30:00",
          "location": "Nieuwe Waterweg Maeslantkering zee",
          "state": "Rust",
          "value": -0.23394854329819836
         },
         {
          "comp1": 360,
          "comp2": -7,
          "index": "1991-01-09T00:40:00",
          "location": "Nieuwe Waterweg Maeslantkering zee",
          "state": "Rust",
          "value": -0.31908969709745877
         },
         {
          "comp1": 360,
          "comp2": -7,
          "index": "1991-01-09T00:50:00",
          "location": "Nieuwe Waterweg Maeslantkering zee",
          "state": "Rust",
          "value": -0.3977157974047568
         },
         {
          "comp1": 360,
          "comp2": -7,
          "index": "1991-01-09T01:00:00",
          "location": "Nieuwe Waterweg Maeslantkering zee",
          "state": "Rust",
          "value": -0.46864172743734694
         },
         {
          "comp1": 360,
          "comp2": -7,
          "index": "1991-01-09T01:10:00",
          "location": "Nieuwe Waterweg Maeslantkering zee",
          "state": "Rust",
          "value": -0.5252930322767455
         },
         {
          "comp1": 360,
          "comp2": -7,
          "index": "1991-01-09T01:20:00",
          "location": "Nieuwe Waterweg Maeslantkering zee",
          "state": "Rust",
          "value": -0.5605136336409172
         },
         {
          "comp1": 360,
          "comp2": -7,
          "index": "1991-01-09T01:30:00",
          "location": "Nieuwe Waterweg Maeslantkering zee",
          "state": "Rust",
          "value": -0.5696382513254824
         },
         {
          "comp1": 360,
          "comp2": -7,
          "index": "1991-01-09T01:40:00",
          "location": "Nieuwe Waterweg Maeslantkering zee",
          "state": "Rust",
          "value": -0.5629928648825547
         },
         {
          "comp1": 360,
          "comp2": -7,
          "index": "1991-01-09T01:50:00",
          "location": "Nieuwe Waterweg Maeslantkering zee",
          "state": "Rust",
          "value": -0.5566718926480279
         },
         {
          "comp1": 360,
          "comp2": -7,
          "index": "1991-01-09T02:00:00",
          "location": "Nieuwe Waterweg Maeslantkering zee",
          "state": "Rust",
          "value": -0.5508884218157694
         },
         {
          "comp1": 360,
          "comp2": -7,
          "index": "1991-01-09T02:10:00",
          "location": "Nieuwe Waterweg Maeslantkering zee",
          "state": "Rust",
          "value": -0.5436055535992801
         },
         {
          "comp1": 360,
          "comp2": -7,
          "index": "1991-01-09T02:20:00",
          "location": "Nieuwe Waterweg Maeslantkering zee",
          "state": "Rust",
          "value": -0.53502971451908
         },
         {
          "comp1": 360,
          "comp2": -7,
          "index": "1991-01-09T02:30:00",
          "location": "Nieuwe Waterweg Maeslantkering zee",
          "state": "Rust",
          "value": -0.5290145682341304
         },
         {
          "comp1": 360,
          "comp2": -7,
          "index": "1991-01-09T02:40:00",
          "location": "Nieuwe Waterweg Maeslantkering zee",
          "state": "Rust",
          "value": -0.5244634409542361
         },
         {
          "comp1": 360,
          "comp2": -7,
          "index": "1991-01-09T02:50:00",
          "location": "Nieuwe Waterweg Maeslantkering zee",
          "state": "Rust",
          "value": -0.5285265486151718
         },
         {
          "comp1": 360,
          "comp2": -7,
          "index": "1991-01-09T03:00:00",
          "location": "Nieuwe Waterweg Maeslantkering zee",
          "state": "Rust",
          "value": -0.536026630717044
         },
         {
          "comp1": 360,
          "comp2": -7,
          "index": "1991-01-09T03:10:00",
          "location": "Nieuwe Waterweg Maeslantkering zee",
          "state": "Rust",
          "value": -0.5433217900647548
         },
         {
          "comp1": 360,
          "comp2": -7,
          "index": "1991-01-09T03:20:00",
          "location": "Nieuwe Waterweg Maeslantkering zee",
          "state": "Rust",
          "value": -0.5518628169953085
         },
         {
          "comp1": 360,
          "comp2": -7,
          "index": "1991-01-09T03:30:00",
          "location": "Nieuwe Waterweg Maeslantkering zee",
          "state": "Rust",
          "value": -0.557212006946168
         },
         {
          "comp1": 360,
          "comp2": -7,
          "index": "1991-01-09T03:40:00",
          "location": "Nieuwe Waterweg Maeslantkering zee",
          "state": "Rust",
          "value": -0.5629291785631687
         },
         {
          "comp1": 360,
          "comp2": -7,
          "index": "1991-01-09T03:50:00",
          "location": "Nieuwe Waterweg Maeslantkering zee",
          "state": "Rust",
          "value": -0.5664956573347603
         },
         {
          "comp1": 360,
          "comp2": -7,
          "index": "1991-01-09T04:00:00",
          "location": "Nieuwe Waterweg Maeslantkering zee",
          "state": "Rust",
          "value": -0.5670184649999879
         },
         {
          "comp1": 360,
          "comp2": -7,
          "index": "1991-01-09T04:10:00",
          "location": "Nieuwe Waterweg Maeslantkering zee",
          "state": "Rust",
          "value": -0.5664309037224321
         },
         {
          "comp1": 360,
          "comp2": -7,
          "index": "1991-01-09T04:20:00",
          "location": "Nieuwe Waterweg Maeslantkering zee",
          "state": "Rust",
          "value": -0.5653552359410803
         },
         {
          "comp1": 360,
          "comp2": -7,
          "index": "1991-01-09T04:30:00",
          "location": "Nieuwe Waterweg Maeslantkering zee",
          "state": "Rust",
          "value": -0.563300533786978
         },
         {
          "comp1": 360,
          "comp2": -7,
          "index": "1991-01-09T04:40:00",
          "location": "Nieuwe Waterweg Maeslantkering zee",
          "state": "Rust",
          "value": -0.5568802083399162
         },
         {
          "comp1": 360,
          "comp2": -7,
          "index": "1991-01-09T04:50:00",
          "location": "Nieuwe Waterweg Maeslantkering zee",
          "state": "Rust",
          "value": -0.5429470331925433
         },
         {
          "comp1": 360,
          "comp2": -7,
          "index": "1991-01-09T05:00:00",
          "location": "Nieuwe Waterweg Maeslantkering zee",
          "state": "Rust",
          "value": -0.5236591298596773
         },
         {
          "comp1": 360,
          "comp2": -7,
          "index": "1991-01-09T05:10:00",
          "location": "Nieuwe Waterweg Maeslantkering zee",
          "state": "Rust",
          "value": -0.4980233263927636
         },
         {
          "comp1": 360,
          "comp2": -7,
          "index": "1991-01-09T05:20:00",
          "location": "Nieuwe Waterweg Maeslantkering zee",
          "state": "Rust",
          "value": -0.4633911723617891
         },
         {
          "comp1": 360,
          "comp2": -7,
          "index": "1991-01-09T05:30:00",
          "location": "Nieuwe Waterweg Maeslantkering zee",
          "state": "Rust",
          "value": -0.4167777403138055
         },
         {
          "comp1": 360,
          "comp2": -7,
          "index": "1991-01-09T05:40:00",
          "location": "Nieuwe Waterweg Maeslantkering zee",
          "state": "Rust",
          "value": -0.36485366133591984
         },
         {
          "comp1": 360,
          "comp2": -7,
          "index": "1991-01-09T05:50:00",
          "location": "Nieuwe Waterweg Maeslantkering zee",
          "state": "Rust",
          "value": -0.30754661684121176
         },
         {
          "comp1": 360,
          "comp2": -7,
          "index": "1991-01-09T06:00:00",
          "location": "Nieuwe Waterweg Maeslantkering zee",
          "state": "Rust",
          "value": -0.24385166776836498
         },
         {
          "comp1": 360,
          "comp2": -7,
          "index": "1991-01-09T06:10:00",
          "location": "Nieuwe Waterweg Maeslantkering zee",
          "state": "Rust",
          "value": -0.1724880028945948
         },
         {
          "comp1": 360,
          "comp2": -7,
          "index": "1991-01-09T06:20:00",
          "location": "Nieuwe Waterweg Maeslantkering zee",
          "state": "Rust",
          "value": -0.08593086676135267
         },
         {
          "comp1": 360,
          "comp2": -7,
          "index": "1991-01-09T06:30:00",
          "location": "Nieuwe Waterweg Maeslantkering zee",
          "state": "Rust",
          "value": 0.01789289402538065
         },
         {
          "comp1": 360,
          "comp2": -7,
          "index": "1991-01-09T06:40:00",
          "location": "Nieuwe Waterweg Maeslantkering zee",
          "state": "Rust",
          "value": 0.13946292257005777
         },
         {
          "comp1": 360,
          "comp2": -7,
          "index": "1991-01-09T06:50:00",
          "location": "Nieuwe Waterweg Maeslantkering zee",
          "state": "Rust",
          "value": 0.2807780832393976
         },
         {
          "comp1": 360,
          "comp2": -7,
          "index": "1991-01-09T07:00:00",
          "location": "Nieuwe Waterweg Maeslantkering zee",
          "state": "Rust",
          "value": 0.4326793208435469
         },
         {
          "comp1": 360,
          "comp2": -7,
          "index": "1991-01-09T07:10:00",
          "location": "Nieuwe Waterweg Maeslantkering zee",
          "state": "Rust",
          "value": 0.589442343205542
         },
         {
          "comp1": 360,
          "comp2": -7,
          "index": "1991-01-09T07:20:00",
          "location": "Nieuwe Waterweg Maeslantkering zee",
          "state": "Rust",
          "value": 0.7455607588348385
         },
         {
          "comp1": 360,
          "comp2": -7,
          "index": "1991-01-09T07:30:00",
          "location": "Nieuwe Waterweg Maeslantkering zee",
          "state": "Rust",
          "value": 0.8905601742692265
         },
         {
          "comp1": 360,
          "comp2": -7,
          "index": "1991-01-09T07:40:00",
          "location": "Nieuwe Waterweg Maeslantkering zee",
          "state": "Rust",
          "value": 1.020379362765106
         },
         {
          "comp1": 360,
          "comp2": -7,
          "index": "1991-01-09T07:50:00",
          "location": "Nieuwe Waterweg Maeslantkering zee",
          "state": "Rust",
          "value": 1.1324962578815052
         },
         {
          "comp1": 360,
          "comp2": -7,
          "index": "1991-01-09T08:00:00",
          "location": "Nieuwe Waterweg Maeslantkering zee",
          "state": "Rust",
          "value": 1.2139155728257442
         },
         {
          "comp1": 360,
          "comp2": -7,
          "index": "1991-01-09T08:10:00",
          "location": "Nieuwe Waterweg Maeslantkering zee",
          "state": "Rust",
          "value": 1.2617792787975262
         },
         {
          "comp1": 360,
          "comp2": -7,
          "index": "1991-01-09T08:20:00",
          "location": "Nieuwe Waterweg Maeslantkering zee",
          "state": "Rust",
          "value": 1.277513585845325
         },
         {
          "comp1": 360,
          "comp2": -7,
          "index": "1991-01-09T08:30:00",
          "location": "Nieuwe Waterweg Maeslantkering zee",
          "state": "Rust",
          "value": 1.2701291889686528
         },
         {
          "comp1": 360,
          "comp2": -7,
          "index": "1991-01-09T08:40:00",
          "location": "Nieuwe Waterweg Maeslantkering zee",
          "state": "Rust",
          "value": 1.2475367658871621
         },
         {
          "comp1": 360,
          "comp2": -7,
          "index": "1991-01-09T08:50:00",
          "location": "Nieuwe Waterweg Maeslantkering zee",
          "state": "Rust",
          "value": 1.2214213197202755
         },
         {
          "comp1": 360,
          "comp2": -7,
          "index": "1991-01-09T09:00:00",
          "location": "Nieuwe Waterweg Maeslantkering zee",
          "state": "Rust",
          "value": 1.1945937285735964
         },
         {
          "comp1": 360,
          "comp2": -7,
          "index": "1991-01-09T09:10:00",
          "location": "Nieuwe Waterweg Maeslantkering zee",
          "state": "Rust",
          "value": 1.1643901481805057
         },
         {
          "comp1": 360,
          "comp2": -7,
          "index": "1991-01-09T09:20:00",
          "location": "Nieuwe Waterweg Maeslantkering zee",
          "state": "Rust",
          "value": 1.1333768166865255
         },
         {
          "comp1": 360,
          "comp2": -7,
          "index": "1991-01-09T09:30:00",
          "location": "Nieuwe Waterweg Maeslantkering zee",
          "state": "Rust",
          "value": 1.1055579703368767
         },
         {
          "comp1": 360,
          "comp2": -7,
          "index": "1991-01-09T09:40:00",
          "location": "Nieuwe Waterweg Maeslantkering zee",
          "state": "Rust",
          "value": 1.0761637648930105
         },
         {
          "comp1": 360,
          "comp2": -7,
          "index": "1991-01-09T09:50:00",
          "location": "Nieuwe Waterweg Maeslantkering zee",
          "state": "Rust",
          "value": 1.0434112671026357
         },
         {
          "comp1": 360,
          "comp2": -7,
          "index": "1991-01-09T10:00:00",
          "location": "Nieuwe Waterweg Maeslantkering zee",
          "state": "Rust",
          "value": 1.0068681826765777
         },
         {
          "comp1": 360,
          "comp2": -7,
          "index": "1991-01-09T10:10:00",
          "location": "Nieuwe Waterweg Maeslantkering zee",
          "state": "Rust",
          "value": 0.9653823218437818
         },
         {
          "comp1": 360,
          "comp2": -7,
          "index": "1991-01-09T10:20:00",
          "location": "Nieuwe Waterweg Maeslantkering zee",
          "state": "Rust",
          "value": 0.9215804146126588
         },
         {
          "comp1": 360,
          "comp2": -7,
          "index": "1991-01-09T10:30:00",
          "location": "Nieuwe Waterweg Maeslantkering zee",
          "state": "Rust",
          "value": 0.8702628251431956
         },
         {
          "comp1": 360,
          "comp2": -7,
          "index": "1991-01-09T10:40:00",
          "location": "Nieuwe Waterweg Maeslantkering zee",
          "state": "Rust",
          "value": 0.8110725202203097
         },
         {
          "comp1": 360,
          "comp2": -7,
          "index": "1991-01-09T10:50:00",
          "location": "Nieuwe Waterweg Maeslantkering zee",
          "state": "Rust",
          "value": 0.7391002003798159
         },
         {
          "comp1": 360,
          "comp2": -7,
          "index": "1991-01-09T11:00:00",
          "location": "Nieuwe Waterweg Maeslantkering zee",
          "state": "Rust",
          "value": 0.6725691372319254
         },
         {
          "comp1": 360,
          "comp2": -7,
          "index": "1991-01-09T11:10:00",
          "location": "Nieuwe Waterweg Maeslantkering zee",
          "state": "Rust",
          "value": 0.6030313657266725
         },
         {
          "comp1": 360,
          "comp2": -7,
          "index": "1991-01-09T11:20:00",
          "location": "Nieuwe Waterweg Maeslantkering zee",
          "state": "Rust",
          "value": 0.5369219555317363
         },
         {
          "comp1": 360,
          "comp2": -7,
          "index": "1991-01-09T11:30:00",
          "location": "Nieuwe Waterweg Maeslantkering zee",
          "state": "Rust",
          "value": 0.466718874982515
         },
         {
          "comp1": 360,
          "comp2": -7,
          "index": "1991-01-09T11:40:00",
          "location": "Nieuwe Waterweg Maeslantkering zee",
          "state": "Rust",
          "value": 0.39636769956779755
         },
         {
          "comp1": 360,
          "comp2": -7,
          "index": "1991-01-09T11:50:00",
          "location": "Nieuwe Waterweg Maeslantkering zee",
          "state": "Rust",
          "value": 0.3283782305461711
         },
         {
          "comp1": 360,
          "comp2": -7,
          "index": "1991-01-09T12:00:00",
          "location": "Nieuwe Waterweg Maeslantkering zee",
          "state": "Rust",
          "value": 0.2565382214886076
         },
         {
          "comp1": 360,
          "comp2": -7,
          "index": "1991-01-09T12:10:00",
          "location": "Nieuwe Waterweg Maeslantkering zee",
          "state": "Rust",
          "value": 0.1835115046677856
         },
         {
          "comp1": 360,
          "comp2": -7,
          "index": "1991-01-09T12:20:00",
          "location": "Nieuwe Waterweg Maeslantkering zee",
          "state": "Rust",
          "value": 0.1049480471304742
         },
         {
          "comp1": 360,
          "comp2": -7,
          "index": "1991-01-09T12:30:00",
          "location": "Nieuwe Waterweg Maeslantkering zee",
          "state": "Rust",
          "value": 0.02158982246152401
         },
         {
          "comp1": 360,
          "comp2": -7,
          "index": "1991-01-09T12:40:00",
          "location": "Nieuwe Waterweg Maeslantkering zee",
          "state": "Rust",
          "value": -0.06592089318891498
         },
         {
          "comp1": 360,
          "comp2": -7,
          "index": "1991-01-09T12:50:00",
          "location": "Nieuwe Waterweg Maeslantkering zee",
          "state": "Rust",
          "value": -0.1565956976958382
         },
         {
          "comp1": 360,
          "comp2": -7,
          "index": "1991-01-09T13:00:00",
          "location": "Nieuwe Waterweg Maeslantkering zee",
          "state": "Rust",
          "value": -0.2506937491501027
         },
         {
          "comp1": 360,
          "comp2": -7,
          "index": "1991-01-09T13:10:00",
          "location": "Nieuwe Waterweg Maeslantkering zee",
          "state": "Rust",
          "value": -0.33927201545700203
         },
         {
          "comp1": 360,
          "comp2": -7,
          "index": "1991-01-09T13:20:00",
          "location": "Nieuwe Waterweg Maeslantkering zee",
          "state": "Rust",
          "value": -0.4198349147127349
         },
         {
          "comp1": 360,
          "comp2": -7,
          "index": "1991-01-09T13:30:00",
          "location": "Nieuwe Waterweg Maeslantkering zee",
          "state": "Rust",
          "value": -0.4865001842961685
         },
         {
          "comp1": 360,
          "comp2": -7,
          "index": "1991-01-09T13:40:00",
          "location": "Nieuwe Waterweg Maeslantkering zee",
          "state": "Rust",
          "value": -0.5343838842163371
         },
         {
          "comp1": 360,
          "comp2": -7,
          "index": "1991-01-09T13:50:00",
          "location": "Nieuwe Waterweg Maeslantkering zee",
          "state": "Rust",
          "value": -0.5679357383000917
         },
         {
          "comp1": 360,
          "comp2": -7,
          "index": "1991-01-09T14:00:00",
          "location": "Nieuwe Waterweg Maeslantkering zee",
          "state": "Rust",
          "value": -0.5856316756806803
         },
         {
          "comp1": 360,
          "comp2": -7,
          "index": "1991-01-09T14:10:00",
          "location": "Nieuwe Waterweg Maeslantkering zee",
          "state": "Rust",
          "value": -0.5897550224237659
         },
         {
          "comp1": 360,
          "comp2": -7,
          "index": "1991-01-09T14:20:00",
          "location": "Nieuwe Waterweg Maeslantkering zee",
          "state": "Rust",
          "value": -0.5777893860214067
         },
         {
          "comp1": 360,
          "comp2": -7,
          "index": "1991-01-09T14:30:00",
          "location": "Nieuwe Waterweg Maeslantkering zee",
          "state": "Rust",
          "value": -0.5537470051343569
         },
         {
          "comp1": 360,
          "comp2": -7,
          "index": "1991-01-09T14:40:00",
          "location": "Nieuwe Waterweg Maeslantkering zee",
          "state": "Rust",
          "value": -0.5328082643404519
         },
         {
          "comp1": 360,
          "comp2": -7,
          "index": "1991-01-09T14:50:00",
          "location": "Nieuwe Waterweg Maeslantkering zee",
          "state": "Rust",
          "value": -0.5187101081317176
         },
         {
          "comp1": 360,
          "comp2": -7,
          "index": "1991-01-09T15:00:00",
          "location": "Nieuwe Waterweg Maeslantkering zee",
          "state": "Rust",
          "value": -0.5109265317391902
         },
         {
          "comp1": 360,
          "comp2": -7,
          "index": "1991-01-09T15:10:00",
          "location": "Nieuwe Waterweg Maeslantkering zee",
          "state": "Rust",
          "value": -0.5113561563971679
         },
         {
          "comp1": 360,
          "comp2": -7,
          "index": "1991-01-09T15:20:00",
          "location": "Nieuwe Waterweg Maeslantkering zee",
          "state": "Rust",
          "value": -0.519372018135032
         },
         {
          "comp1": 360,
          "comp2": -7,
          "index": "1991-01-09T15:30:00",
          "location": "Nieuwe Waterweg Maeslantkering zee",
          "state": "Rust",
          "value": -0.5289303269225596
         },
         {
          "comp1": 360,
          "comp2": -7,
          "index": "1991-01-09T15:40:00",
          "location": "Nieuwe Waterweg Maeslantkering zee",
          "state": "Rust",
          "value": -0.540566147321707
         },
         {
          "comp1": 360,
          "comp2": -7,
          "index": "1991-01-09T15:50:00",
          "location": "Nieuwe Waterweg Maeslantkering zee",
          "state": "Rust",
          "value": -0.5509090940037098
         },
         {
          "comp1": 360,
          "comp2": -7,
          "index": "1991-01-09T16:00:00",
          "location": "Nieuwe Waterweg Maeslantkering zee",
          "state": "Rust",
          "value": -0.5610663857827172
         },
         {
          "comp1": 360,
          "comp2": -7,
          "index": "1991-01-09T16:10:00",
          "location": "Nieuwe Waterweg Maeslantkering zee",
          "state": "Rust",
          "value": -0.5678704180807123
         },
         {
          "comp1": 360,
          "comp2": -7,
          "index": "1991-01-09T16:20:00",
          "location": "Nieuwe Waterweg Maeslantkering zee",
          "state": "Rust",
          "value": -0.570060196317525
         },
         {
          "comp1": 360,
          "comp2": -7,
          "index": "1991-01-09T16:30:00",
          "location": "Nieuwe Waterweg Maeslantkering zee",
          "state": "Rust",
          "value": -0.5691678451936006
         },
         {
          "comp1": 360,
          "comp2": -7,
          "index": "1991-01-09T16:40:00",
          "location": "Nieuwe Waterweg Maeslantkering zee",
          "state": "Rust",
          "value": -0.5670211986819376
         },
         {
          "comp1": 360,
          "comp2": -7,
          "index": "1991-01-09T16:50:00",
          "location": "Nieuwe Waterweg Maeslantkering zee",
          "state": "Rust",
          "value": -0.5646309905892924
         },
         {
          "comp1": 360,
          "comp2": -7,
          "index": "1991-01-09T17:00:00",
          "location": "Nieuwe Waterweg Maeslantkering zee",
          "state": "Rust",
          "value": -0.5595475026947403
         },
         {
          "comp1": 360,
          "comp2": -7,
          "index": "1991-01-09T17:10:00",
          "location": "Nieuwe Waterweg Maeslantkering zee",
          "state": "Rust",
          "value": -0.5513839564656818
         },
         {
          "comp1": 360,
          "comp2": -7,
          "index": "1991-01-09T17:20:00",
          "location": "Nieuwe Waterweg Maeslantkering zee",
          "state": "Rust",
          "value": -0.5369063432015863
         },
         {
          "comp1": 360,
          "comp2": -7,
          "index": "1991-01-09T17:30:00",
          "location": "Nieuwe Waterweg Maeslantkering zee",
          "state": "Rust",
          "value": -0.5143781198214598
         },
         {
          "comp1": 360,
          "comp2": -7,
          "index": "1991-01-09T17:40:00",
          "location": "Nieuwe Waterweg Maeslantkering zee",
          "state": "Rust",
          "value": -0.4850303318901964
         },
         {
          "comp1": 360,
          "comp2": -7,
          "index": "1991-01-09T17:50:00",
          "location": "Nieuwe Waterweg Maeslantkering zee",
          "state": "Rust",
          "value": -0.44356986708047785
         },
         {
          "comp1": 360,
          "comp2": -7,
          "index": "1991-01-09T18:00:00",
          "location": "Nieuwe Waterweg Maeslantkering zee",
          "state": "Rust",
          "value": -0.3948580493944062
         },
         {
          "comp1": 360,
          "comp2": -7,
          "index": "1991-01-09T18:10:00",
          "location": "Nieuwe Waterweg Maeslantkering zee",
          "state": "Rust",
          "value": -0.3404711303653589
         },
         {
          "comp1": 360,
          "comp2": -7,
          "index": "1991-01-09T18:20:00",
          "location": "Nieuwe Waterweg Maeslantkering zee",
          "state": "Rust",
          "value": -0.2812071288410781
         },
         {
          "comp1": 360,
          "comp2": -7,
          "index": "1991-01-09T18:30:00",
          "location": "Nieuwe Waterweg Maeslantkering zee",
          "state": "Rust",
          "value": -0.21406662653424938
         },
         {
          "comp1": 360,
          "comp2": -7,
          "index": "1991-01-09T18:40:00",
          "location": "Nieuwe Waterweg Maeslantkering zee",
          "state": "Rust",
          "value": -0.13688697629931748
         },
         {
          "comp1": 360,
          "comp2": -7,
          "index": "1991-01-09T18:50:00",
          "location": "Nieuwe Waterweg Maeslantkering zee",
          "state": "Rust",
          "value": -0.03741356747977954
         },
         {
          "comp1": 360,
          "comp2": -7,
          "index": "1991-01-09T19:00:00",
          "location": "Nieuwe Waterweg Maeslantkering zee",
          "state": "Rust",
          "value": 0.07794987986510155
         },
         {
          "comp1": 360,
          "comp2": -7,
          "index": "1991-01-09T19:10:00",
          "location": "Nieuwe Waterweg Maeslantkering zee",
          "state": "Rust",
          "value": 0.20886207948931856
         },
         {
          "comp1": 360,
          "comp2": -7,
          "index": "1991-01-09T19:20:00",
          "location": "Nieuwe Waterweg Maeslantkering zee",
          "state": "Rust",
          "value": 0.3588522330214849
         },
         {
          "comp1": 360,
          "comp2": -7,
          "index": "1991-01-09T19:30:00",
          "location": "Nieuwe Waterweg Maeslantkering zee",
          "state": "Rust",
          "value": 0.5138376901735766
         },
         {
          "comp1": 360,
          "comp2": -7,
          "index": "1991-01-09T19:40:00",
          "location": "Nieuwe Waterweg Maeslantkering zee",
          "state": "Rust",
          "value": 0.6675105444247202
         },
         {
          "comp1": 360,
          "comp2": -7,
          "index": "1991-01-09T19:50:00",
          "location": "Nieuwe Waterweg Maeslantkering zee",
          "state": "Rust",
          "value": 0.8129951863269658
         },
         {
          "comp1": 360,
          "comp2": -7,
          "index": "1991-01-09T20:00:00",
          "location": "Nieuwe Waterweg Maeslantkering zee",
          "state": "Rust",
          "value": 0.9505427062517048
         },
         {
          "comp1": 360,
          "comp2": -7,
          "index": "1991-01-09T20:10:00",
          "location": "Nieuwe Waterweg Maeslantkering zee",
          "state": "Rust",
          "value": 1.0697973059347516
         },
         {
          "comp1": 360,
          "comp2": -7,
          "index": "1991-01-09T20:20:00",
          "location": "Nieuwe Waterweg Maeslantkering zee",
          "state": "Rust",
          "value": 1.1741162096569364
         },
         {
          "comp1": 360,
          "comp2": -7,
          "index": "1991-01-09T20:30:00",
          "location": "Nieuwe Waterweg Maeslantkering zee",
          "state": "Rust",
          "value": 1.2417912657279113
         },
         {
          "comp1": 360,
          "comp2": -7,
          "index": "1991-01-09T20:40:00",
          "location": "Nieuwe Waterweg Maeslantkering zee",
          "state": "Rust",
          "value": 1.276720522890237
         },
         {
          "comp1": 360,
          "comp2": -7,
          "index": "1991-01-09T20:50:00",
          "location": "Nieuwe Waterweg Maeslantkering zee",
          "state": "Rust",
          "value": 1.2839091650495487
         },
         {
          "comp1": 360,
          "comp2": -7,
          "index": "1991-01-09T21:00:00",
          "location": "Nieuwe Waterweg Maeslantkering zee",
          "state": "Rust",
          "value": 1.2675066320875155
         },
         {
          "comp1": 360,
          "comp2": -7,
          "index": "1991-01-09T21:10:00",
          "location": "Nieuwe Waterweg Maeslantkering zee",
          "state": "Rust",
          "value": 1.2390768661361564
         },
         {
          "comp1": 360,
          "comp2": -7,
          "index": "1991-01-09T21:20:00",
          "location": "Nieuwe Waterweg Maeslantkering zee",
          "state": "Rust",
          "value": 1.2044610228710277
         },
         {
          "comp1": 360,
          "comp2": -7,
          "index": "1991-01-09T21:30:00",
          "location": "Nieuwe Waterweg Maeslantkering zee",
          "state": "Rust",
          "value": 1.1706136622336585
         },
         {
          "comp1": 360,
          "comp2": -7,
          "index": "1991-01-09T21:40:00",
          "location": "Nieuwe Waterweg Maeslantkering zee",
          "state": "Rust",
          "value": 1.1351535677983824
         },
         {
          "comp1": 360,
          "comp2": -7,
          "index": "1991-01-09T21:50:00",
          "location": "Nieuwe Waterweg Maeslantkering zee",
          "state": "Rust",
          "value": 1.10176477184913
         },
         {
          "comp1": 360,
          "comp2": -7,
          "index": "1991-01-09T22:00:00",
          "location": "Nieuwe Waterweg Maeslantkering zee",
          "state": "Rust",
          "value": 1.0728211408103387
         },
         {
          "comp1": 360,
          "comp2": -7,
          "index": "1991-01-09T22:10:00",
          "location": "Nieuwe Waterweg Maeslantkering zee",
          "state": "Rust",
          "value": 1.047442615651559
         },
         {
          "comp1": 360,
          "comp2": -7,
          "index": "1991-01-09T22:20:00",
          "location": "Nieuwe Waterweg Maeslantkering zee",
          "state": "Rust",
          "value": 1.0186379102179473
         },
         {
          "comp1": 360,
          "comp2": -7,
          "index": "1991-01-09T22:30:00",
          "location": "Nieuwe Waterweg Maeslantkering zee",
          "state": "Rust",
          "value": 0.9832457755065102
         },
         {
          "comp1": 360,
          "comp2": -7,
          "index": "1991-01-09T22:40:00",
          "location": "Nieuwe Waterweg Maeslantkering zee",
          "state": "Rust",
          "value": 0.9400561453474232
         },
         {
          "comp1": 360,
          "comp2": -7,
          "index": "1991-01-09T22:50:00",
          "location": "Nieuwe Waterweg Maeslantkering zee",
          "state": "Rust",
          "value": 0.8865595281139989
         },
         {
          "comp1": 360,
          "comp2": -7,
          "index": "1991-01-09T23:00:00",
          "location": "Nieuwe Waterweg Maeslantkering zee",
          "state": "Rust",
          "value": 0.832434321951845
         },
         {
          "comp1": 360,
          "comp2": -7,
          "index": "1991-01-09T23:10:00",
          "location": "Nieuwe Waterweg Maeslantkering zee",
          "state": "Rust",
          "value": 0.76889864227959
         },
         {
          "comp1": 360,
          "comp2": -7,
          "index": "1991-01-09T23:20:00",
          "location": "Nieuwe Waterweg Maeslantkering zee",
          "state": "Rust",
          "value": 0.694741461625319
         },
         {
          "comp1": 360,
          "comp2": -7,
          "index": "1991-01-09T23:30:00",
          "location": "Nieuwe Waterweg Maeslantkering zee",
          "state": "Rust",
          "value": 0.6239311610370314
         },
         {
          "comp1": 360,
          "comp2": -7,
          "index": "1991-01-09T23:40:00",
          "location": "Nieuwe Waterweg Maeslantkering zee",
          "state": "Rust",
          "value": 0.5511629712389413
         },
         {
          "comp1": 360,
          "comp2": -7,
          "index": "1991-01-09T23:50:00",
          "location": "Nieuwe Waterweg Maeslantkering zee",
          "state": "Rust",
          "value": 0.4811371099189369
         },
         {
          "comp1": 360,
          "comp2": -7,
          "index": "1991-01-10T00:00:00",
          "location": "Nieuwe Waterweg Maeslantkering zee",
          "state": "Rust",
          "value": 0.4096458060012611
         },
         {
          "comp1": 360,
          "comp2": -7,
          "index": "1991-01-10T00:10:00",
          "location": "Nieuwe Waterweg Maeslantkering zee",
          "state": "Rust",
          "value": 0.34128117874156155
         },
         {
          "comp1": 360,
          "comp2": -7,
          "index": "1991-01-10T00:20:00",
          "location": "Nieuwe Waterweg Maeslantkering zee",
          "state": "Rust",
          "value": 0.2700160380984584
         },
         {
          "comp1": 360,
          "comp2": -7,
          "index": "1991-01-10T00:30:00",
          "location": "Nieuwe Waterweg Maeslantkering zee",
          "state": "Rust",
          "value": 0.2013360892952398
         },
         {
          "comp1": 360,
          "comp2": -7,
          "index": "1991-01-10T00:40:00",
          "location": "Nieuwe Waterweg Maeslantkering zee",
          "state": "Rust",
          "value": 0.1332595116993918
         },
         {
          "comp1": 360,
          "comp2": -7,
          "index": "1991-01-10T00:50:00",
          "location": "Nieuwe Waterweg Maeslantkering zee",
          "state": "Rust",
          "value": 0.061530750759983883
         },
         {
          "comp1": 360,
          "comp2": -7,
          "index": "1991-01-10T01:00:00",
          "location": "Nieuwe Waterweg Maeslantkering zee",
          "state": "Rust",
          "value": -0.01887329355551898
         },
         {
          "comp1": 360,
          "comp2": -7,
          "index": "1991-01-10T01:10:00",
          "location": "Nieuwe Waterweg Maeslantkering zee",
          "state": "Rust",
          "value": -0.10564868293345803
         },
         {
          "comp1": 360,
          "comp2": -7,
          "index": "1991-01-10T01:20:00",
          "location": "Nieuwe Waterweg Maeslantkering zee",
          "state": "Rust",
          "value": -0.1939647381095961
         },
         {
          "comp1": 360,
          "comp2": -7,
          "index": "1991-01-10T01:30:00",
          "location": "Nieuwe Waterweg Maeslantkering zee",
          "state": "Rust",
          "value": -0.28278249177734055
         },
         {
          "comp1": 360,
          "comp2": -7,
          "index": "1991-01-10T01:40:00",
          "location": "Nieuwe Waterweg Maeslantkering zee",
          "state": "Rust",
          "value": -0.36808674562920934
         },
         {
          "comp1": 360,
          "comp2": -7,
          "index": "1991-01-10T01:50:00",
          "location": "Nieuwe Waterweg Maeslantkering zee",
          "state": "Rust",
          "value": -0.4448371980362295
         },
         {
          "comp1": 360,
          "comp2": -7,
          "index": "1991-01-10T02:00:00",
          "location": "Nieuwe Waterweg Maeslantkering zee",
          "state": "Rust",
          "value": -0.5054318748478442
         },
         {
          "comp1": 360,
          "comp2": -7,
          "index": "1991-01-10T02:10:00",
          "location": "Nieuwe Waterweg Maeslantkering zee",
          "state": "Rust",
          "value": -0.546702752943193
         },
         {
          "comp1": 360,
          "comp2": -7,
          "index": "1991-01-10T02:20:00",
          "location": "Nieuwe Waterweg Maeslantkering zee",
          "state": "Rust",
          "value": -0.5701385361486527
         },
         {
          "comp1": 360,
          "comp2": -7,
          "index": "1991-01-10T02:30:00",
          "location": "Nieuwe Waterweg Maeslantkering zee",
          "state": "Rust",
          "value": -0.5792682956704921
         },
         {
          "comp1": 360,
          "comp2": -7,
          "index": "1991-01-10T02:40:00",
          "location": "Nieuwe Waterweg Maeslantkering zee",
          "state": "Rust",
          "value": -0.5794759271692949
         },
         {
          "comp1": 360,
          "comp2": -7,
          "index": "1991-01-10T02:50:00",
          "location": "Nieuwe Waterweg Maeslantkering zee",
          "state": "Rust",
          "value": -0.5699635212005323
         },
         {
          "comp1": 360,
          "comp2": -7,
          "index": "1991-01-10T03:00:00",
          "location": "Nieuwe Waterweg Maeslantkering zee",
          "state": "Rust",
          "value": -0.5539150395367565
         },
         {
          "comp1": 360,
          "comp2": -7,
          "index": "1991-01-10T03:10:00",
          "location": "Nieuwe Waterweg Maeslantkering zee",
          "state": "Rust",
          "value": -0.5350604490805456
         },
         {
          "comp1": 360,
          "comp2": -7,
          "index": "1991-01-10T03:20:00",
          "location": "Nieuwe Waterweg Maeslantkering zee",
          "state": "Rust",
          "value": -0.5203291379055124
         },
         {
          "comp1": null,
          "comp2": null,
          "index": "1991-01-05T03:20:00",
          "location": "Nieuwe Maas Maeslantkering rivier",
          "state": null,
          "value": 1.3553534045854554
         },
         {
          "comp1": null,
          "comp2": null,
          "index": "1991-01-05T03:30:00",
          "location": "Nieuwe Maas Maeslantkering rivier",
          "state": null,
          "value": 1.1765674846326422
         },
         {
          "comp1": null,
          "comp2": null,
          "index": "1991-01-05T03:40:00",
          "location": "Nieuwe Maas Maeslantkering rivier",
          "state": null,
          "value": 0.8574818616614701
         },
         {
          "comp1": null,
          "comp2": null,
          "index": "1991-01-05T03:50:00",
          "location": "Nieuwe Maas Maeslantkering rivier",
          "state": null,
          "value": 0.7172291539661304
         },
         {
          "comp1": null,
          "comp2": null,
          "index": "1991-01-05T04:00:00",
          "location": "Nieuwe Maas Maeslantkering rivier",
          "state": null,
          "value": 0.7256756340570949
         },
         {
          "comp1": null,
          "comp2": null,
          "index": "1991-01-05T04:10:00",
          "location": "Nieuwe Maas Maeslantkering rivier",
          "state": null,
          "value": 0.786280521295572
         },
         {
          "comp1": 360,
          "comp2": -7,
          "index": "1991-01-05T04:20:00",
          "location": "Nieuwe Maas Maeslantkering rivier",
          "state": "Rust",
          "value": 0.8695190717949083
         },
         {
          "comp1": 360,
          "comp2": -7,
          "index": "1991-01-05T04:30:00",
          "location": "Nieuwe Maas Maeslantkering rivier",
          "state": "Rust",
          "value": 0.997398987778602
         },
         {
          "comp1": 360,
          "comp2": -7,
          "index": "1991-01-05T04:40:00",
          "location": "Nieuwe Maas Maeslantkering rivier",
          "state": "Rust",
          "value": 1.150100750807717
         },
         {
          "comp1": 360,
          "comp2": -7,
          "index": "1991-01-05T04:50:00",
          "location": "Nieuwe Maas Maeslantkering rivier",
          "state": "Rust",
          "value": 1.2958011324737693
         },
         {
          "comp1": 360,
          "comp2": -7,
          "index": "1991-01-05T05:00:00",
          "location": "Nieuwe Maas Maeslantkering rivier",
          "state": "Rust",
          "value": 1.3775138185373763
         },
         {
          "comp1": 360,
          "comp2": -7,
          "index": "1991-01-05T05:10:00",
          "location": "Nieuwe Maas Maeslantkering rivier",
          "state": "Rust",
          "value": 1.362415091767374
         },
         {
          "comp1": 360,
          "comp2": -7,
          "index": "1991-01-05T05:20:00",
          "location": "Nieuwe Maas Maeslantkering rivier",
          "state": "Rust",
          "value": 1.3034398557522393
         },
         {
          "comp1": 360,
          "comp2": -7,
          "index": "1991-01-05T05:30:00",
          "location": "Nieuwe Maas Maeslantkering rivier",
          "state": "Rust",
          "value": 1.2481802588381983
         },
         {
          "comp1": 360,
          "comp2": -7,
          "index": "1991-01-05T05:40:00",
          "location": "Nieuwe Maas Maeslantkering rivier",
          "state": "Rust",
          "value": 1.2021740981633358
         },
         {
          "comp1": 360,
          "comp2": -7,
          "index": "1991-01-05T05:50:00",
          "location": "Nieuwe Maas Maeslantkering rivier",
          "state": "Rust",
          "value": 1.1635727959433007
         },
         {
          "comp1": 360,
          "comp2": -7,
          "index": "1991-01-05T06:00:00",
          "location": "Nieuwe Maas Maeslantkering rivier",
          "state": "Rust",
          "value": 1.1234626846922724
         },
         {
          "comp1": 360,
          "comp2": -7,
          "index": "1991-01-05T06:10:00",
          "location": "Nieuwe Maas Maeslantkering rivier",
          "state": "Rust",
          "value": 1.0840159867848163
         },
         {
          "comp1": 360,
          "comp2": -7,
          "index": "1991-01-05T06:20:00",
          "location": "Nieuwe Maas Maeslantkering rivier",
          "state": "Rust",
          "value": 1.058434823945462
         },
         {
          "comp1": 360,
          "comp2": -7,
          "index": "1991-01-05T06:30:00",
          "location": "Nieuwe Maas Maeslantkering rivier",
          "state": "Rust",
          "value": 1.0593380076102614
         },
         {
          "comp1": 360,
          "comp2": -7,
          "index": "1991-01-05T06:40:00",
          "location": "Nieuwe Maas Maeslantkering rivier",
          "state": "Rust",
          "value": 1.0672388519087832
         },
         {
          "comp1": 360,
          "comp2": -7,
          "index": "1991-01-05T06:50:00",
          "location": "Nieuwe Maas Maeslantkering rivier",
          "state": "Rust",
          "value": 1.0612247546286535
         },
         {
          "comp1": 360,
          "comp2": -7,
          "index": "1991-01-05T07:00:00",
          "location": "Nieuwe Maas Maeslantkering rivier",
          "state": "Rust",
          "value": 1.0338701539750463
         },
         {
          "comp1": 360,
          "comp2": -7,
          "index": "1991-01-05T07:10:00",
          "location": "Nieuwe Maas Maeslantkering rivier",
          "state": "Rust",
          "value": 0.9841952512615117
         },
         {
          "comp1": 360,
          "comp2": -7,
          "index": "1991-01-05T07:20:00",
          "location": "Nieuwe Maas Maeslantkering rivier",
          "state": "Rust",
          "value": 0.9097935863883542
         },
         {
          "comp1": 360,
          "comp2": -7,
          "index": "1991-01-05T07:30:00",
          "location": "Nieuwe Maas Maeslantkering rivier",
          "state": "Rust",
          "value": 0.8221138648101319
         },
         {
          "comp1": 360,
          "comp2": -7,
          "index": "1991-01-05T07:40:00",
          "location": "Nieuwe Maas Maeslantkering rivier",
          "state": "Rust",
          "value": 0.732122192956164
         },
         {
          "comp1": 360,
          "comp2": -7,
          "index": "1991-01-05T07:50:00",
          "location": "Nieuwe Maas Maeslantkering rivier",
          "state": "Rust",
          "value": 0.6433295099397711
         },
         {
          "comp1": 360,
          "comp2": -7,
          "index": "1991-01-05T08:00:00",
          "location": "Nieuwe Maas Maeslantkering rivier",
          "state": "Rust",
          "value": 0.5624046974316111
         },
         {
          "comp1": 360,
          "comp2": -7,
          "index": "1991-01-05T08:10:00",
          "location": "Nieuwe Maas Maeslantkering rivier",
          "state": "Rust",
          "value": 0.48764597559895295
         },
         {
          "comp1": 360,
          "comp2": -7,
          "index": "1991-01-05T08:20:00",
          "location": "Nieuwe Maas Maeslantkering rivier",
          "state": "Rust",
          "value": 0.4185206235071954
         },
         {
          "comp1": 360,
          "comp2": -7,
          "index": "1991-01-05T08:30:00",
          "location": "Nieuwe Maas Maeslantkering rivier",
          "state": "Rust",
          "value": 0.34983736648441993
         },
         {
          "comp1": 360,
          "comp2": -7,
          "index": "1991-01-05T08:40:00",
          "location": "Nieuwe Maas Maeslantkering rivier",
          "state": "Rust",
          "value": 0.2712919258163727
         },
         {
          "comp1": 360,
          "comp2": -7,
          "index": "1991-01-05T08:50:00",
          "location": "Nieuwe Maas Maeslantkering rivier",
          "state": "Rust",
          "value": 0.18866909794948522
         },
         {
          "comp1": 360,
          "comp2": -7,
          "index": "1991-01-05T09:00:00",
          "location": "Nieuwe Maas Maeslantkering rivier",
          "state": "Rust",
          "value": 0.10552034130365129
         },
         {
          "comp1": 360,
          "comp2": -7,
          "index": "1991-01-05T09:10:00",
          "location": "Nieuwe Maas Maeslantkering rivier",
          "state": "Rust",
          "value": 0.02434665104821176
         },
         {
          "comp1": 360,
          "comp2": -7,
          "index": "1991-01-05T09:20:00",
          "location": "Nieuwe Maas Maeslantkering rivier",
          "state": "Rust",
          "value": -0.054425763340862576
         },
         {
          "comp1": 360,
          "comp2": -7,
          "index": "1991-01-05T09:30:00",
          "location": "Nieuwe Maas Maeslantkering rivier",
          "state": "Rust",
          "value": -0.13151823156379272
         },
         {
          "comp1": 360,
          "comp2": -7,
          "index": "1991-01-05T09:40:00",
          "location": "Nieuwe Maas Maeslantkering rivier",
          "state": "Rust",
          "value": -0.20890814700570215
         },
         {
          "comp1": 360,
          "comp2": -7,
          "index": "1991-01-05T09:50:00",
          "location": "Nieuwe Maas Maeslantkering rivier",
          "state": "Rust",
          "value": -0.2813558840967578
         },
         {
          "comp1": 360,
          "comp2": -7,
          "index": "1991-01-05T10:00:00",
          "location": "Nieuwe Maas Maeslantkering rivier",
          "state": "Rust",
          "value": -0.3456512049785714
         },
         {
          "comp1": 360,
          "comp2": -7,
          "index": "1991-01-05T10:10:00",
          "location": "Nieuwe Maas Maeslantkering rivier",
          "state": "Rust",
          "value": -0.39941374726969864
         },
         {
          "comp1": 360,
          "comp2": -7,
          "index": "1991-01-05T10:20:00",
          "location": "Nieuwe Maas Maeslantkering rivier",
          "state": "Rust",
          "value": -0.43820603116966955
         },
         {
          "comp1": 360,
          "comp2": -7,
          "index": "1991-01-05T10:30:00",
          "location": "Nieuwe Maas Maeslantkering rivier",
          "state": "Rust",
          "value": -0.4664688979896913
         },
         {
          "comp1": 360,
          "comp2": -7,
          "index": "1991-01-05T10:40:00",
          "location": "Nieuwe Maas Maeslantkering rivier",
          "state": "Rust",
          "value": -0.4846373421568346
         },
         {
          "comp1": 360,
          "comp2": -7,
          "index": "1991-01-05T10:50:00",
          "location": "Nieuwe Maas Maeslantkering rivier",
          "state": "Rust",
          "value": -0.494217423772074
         },
         {
          "comp1": 360,
          "comp2": -7,
          "index": "1991-01-05T11:00:00",
          "location": "Nieuwe Maas Maeslantkering rivier",
          "state": "Rust",
          "value": -0.4968533278701449
         },
         {
          "comp1": 360,
          "comp2": -7,
          "index": "1991-01-05T11:10:00",
          "location": "Nieuwe Maas Maeslantkering rivier",
          "state": "Rust",
          "value": -0.4940841008527994
         },
         {
          "comp1": 360,
          "comp2": -7,
          "index": "1991-01-05T11:20:00",
          "location": "Nieuwe Maas Maeslantkering rivier",
          "state": "Rust",
          "value": -0.49256971542133926
         },
         {
          "comp1": 360,
          "comp2": -7,
          "index": "1991-01-05T11:30:00",
          "location": "Nieuwe Maas Maeslantkering rivier",
          "state": "Rust",
          "value": -0.49106327443765957
         },
         {
          "comp1": 360,
          "comp2": -7,
          "index": "1991-01-05T11:40:00",
          "location": "Nieuwe Maas Maeslantkering rivier",
          "state": "Rust",
          "value": -0.4886231770331647
         },
         {
          "comp1": 360,
          "comp2": -7,
          "index": "1991-01-05T11:50:00",
          "location": "Nieuwe Maas Maeslantkering rivier",
          "state": "Rust",
          "value": -0.4893760402759627
         },
         {
          "comp1": 360,
          "comp2": -7,
          "index": "1991-01-05T12:00:00",
          "location": "Nieuwe Maas Maeslantkering rivier",
          "state": "Rust",
          "value": -0.4966040713242409
         },
         {
          "comp1": 360,
          "comp2": -7,
          "index": "1991-01-05T12:10:00",
          "location": "Nieuwe Maas Maeslantkering rivier",
          "state": "Rust",
          "value": -0.5066173127970193
         },
         {
          "comp1": 360,
          "comp2": -7,
          "index": "1991-01-05T12:20:00",
          "location": "Nieuwe Maas Maeslantkering rivier",
          "state": "Rust",
          "value": -0.5174964165192386
         },
         {
          "comp1": 360,
          "comp2": -7,
          "index": "1991-01-05T12:30:00",
          "location": "Nieuwe Maas Maeslantkering rivier",
          "state": "Rust",
          "value": -0.5251444233954429
         },
         {
          "comp1": 360,
          "comp2": -7,
          "index": "1991-01-05T12:40:00",
          "location": "Nieuwe Maas Maeslantkering rivier",
          "state": "Rust",
          "value": -0.5310520847913025
         },
         {
          "comp1": 360,
          "comp2": -7,
          "index": "1991-01-05T12:50:00",
          "location": "Nieuwe Maas Maeslantkering rivier",
          "state": "Rust",
          "value": -0.5353712946255964
         },
         {
          "comp1": 360,
          "comp2": -7,
          "index": "1991-01-05T13:00:00",
          "location": "Nieuwe Maas Maeslantkering rivier",
          "state": "Rust",
          "value": -0.5367463593593762
         },
         {
          "comp1": 360,
          "comp2": -7,
          "index": "1991-01-05T13:10:00",
          "location": "Nieuwe Maas Maeslantkering rivier",
          "state": "Rust",
          "value": -0.5360677306822399
         },
         {
          "comp1": 360,
          "comp2": -7,
          "index": "1991-01-05T13:20:00",
          "location": "Nieuwe Maas Maeslantkering rivier",
          "state": "Rust",
          "value": -0.5339477603227231
         },
         {
          "comp1": 360,
          "comp2": -7,
          "index": "1991-01-05T13:30:00",
          "location": "Nieuwe Maas Maeslantkering rivier",
          "state": "Rust",
          "value": -0.5320760857940515
         },
         {
          "comp1": 360,
          "comp2": -7,
          "index": "1991-01-05T13:40:00",
          "location": "Nieuwe Maas Maeslantkering rivier",
          "state": "Rust",
          "value": -0.5283257134724635
         },
         {
          "comp1": 360,
          "comp2": -7,
          "index": "1991-01-05T13:50:00",
          "location": "Nieuwe Maas Maeslantkering rivier",
          "state": "Rust",
          "value": -0.5218473845167442
         },
         {
          "comp1": 360,
          "comp2": -7,
          "index": "1991-01-05T14:00:00",
          "location": "Nieuwe Maas Maeslantkering rivier",
          "state": "Rust",
          "value": -0.5105194181586699
         },
         {
          "comp1": 360,
          "comp2": -7,
          "index": "1991-01-05T14:10:00",
          "location": "Nieuwe Maas Maeslantkering rivier",
          "state": "Rust",
          "value": -0.49193639488814667
         },
         {
          "comp1": 360,
          "comp2": -7,
          "index": "1991-01-05T14:20:00",
          "location": "Nieuwe Maas Maeslantkering rivier",
          "state": "Rust",
          "value": -0.46765266792039023
         },
         {
          "comp1": 360,
          "comp2": -7,
          "index": "1991-01-05T14:30:00",
          "location": "Nieuwe Maas Maeslantkering rivier",
          "state": "Rust",
          "value": -0.43292435013332137
         },
         {
          "comp1": 360,
          "comp2": -7,
          "index": "1991-01-05T14:40:00",
          "location": "Nieuwe Maas Maeslantkering rivier",
          "state": "Rust",
          "value": -0.3905735638095519
         },
         {
          "comp1": 360,
          "comp2": -7,
          "index": "1991-01-05T14:50:00",
          "location": "Nieuwe Maas Maeslantkering rivier",
          "state": "Rust",
          "value": -0.34213531426644006
         },
         {
          "comp1": 360,
          "comp2": -7,
          "index": "1991-01-05T15:00:00",
          "location": "Nieuwe Maas Maeslantkering rivier",
          "state": "Rust",
          "value": -0.28871075646783295
         },
         {
          "comp1": 360,
          "comp2": -7,
          "index": "1991-01-05T15:10:00",
          "location": "Nieuwe Maas Maeslantkering rivier",
          "state": "Rust",
          "value": -0.22921143651654263
         },
         {
          "comp1": 360,
          "comp2": -7,
          "index": "1991-01-05T15:20:00",
          "location": "Nieuwe Maas Maeslantkering rivier",
          "state": "Rust",
          "value": -0.16038396300528368
         },
         {
          "comp1": 360,
          "comp2": -7,
          "index": "1991-01-05T15:30:00",
          "location": "Nieuwe Maas Maeslantkering rivier",
          "state": "Rust",
          "value": -0.06988298175493125
         },
         {
          "comp1": 360,
          "comp2": -7,
          "index": "1991-01-05T15:40:00",
          "location": "Nieuwe Maas Maeslantkering rivier",
          "state": "Rust",
          "value": 0.04009720701130591
         },
         {
          "comp1": 360,
          "comp2": -7,
          "index": "1991-01-05T15:50:00",
          "location": "Nieuwe Maas Maeslantkering rivier",
          "state": "Rust",
          "value": 0.170524633168671
         },
         {
          "comp1": 360,
          "comp2": -7,
          "index": "1991-01-05T16:00:00",
          "location": "Nieuwe Maas Maeslantkering rivier",
          "state": "Rust",
          "value": 0.32272919167708936
         },
         {
          "comp1": 360,
          "comp2": -7,
          "index": "1991-01-05T16:10:00",
          "location": "Nieuwe Maas Maeslantkering rivier",
          "state": "Rust",
          "value": 0.47989524701598285
         },
         {
          "comp1": 360,
          "comp2": -7,
          "index": "1991-01-05T16:20:00",
          "location": "Nieuwe Maas Maeslantkering rivier",
          "state": "Rust",
          "value": 0.6302946268362212
         },
         {
          "comp1": 360,
          "comp2": -7,
          "index": "1991-01-05T16:30:00",
          "location": "Nieuwe Maas Maeslantkering rivier",
          "state": "Rust",
          "value": 0.7658077022412793
         },
         {
          "comp1": 360,
          "comp2": -7,
          "index": "1991-01-05T16:40:00",
          "location": "Nieuwe Maas Maeslantkering rivier",
          "state": "Rust",
          "value": 0.8883874108727644
         },
         {
          "comp1": 360,
          "comp2": -7,
          "index": "1991-01-05T16:50:00",
          "location": "Nieuwe Maas Maeslantkering rivier",
          "state": "Rust",
          "value": 0.9945242132109381
         },
         {
          "comp1": 360,
          "comp2": -7,
          "index": "1991-01-05T17:00:00",
          "location": "Nieuwe Maas Maeslantkering rivier",
          "state": "Rust",
          "value": 1.088800729578096
         },
         {
          "comp1": 360,
          "comp2": -7,
          "index": "1991-01-05T17:10:00",
          "location": "Nieuwe Maas Maeslantkering rivier",
          "state": "Rust",
          "value": 1.1544097040869623
         },
         {
          "comp1": 360,
          "comp2": -7,
          "index": "1991-01-05T17:20:00",
          "location": "Nieuwe Maas Maeslantkering rivier",
          "state": "Rust",
          "value": 1.1921420436008545
         },
         {
          "comp1": 360,
          "comp2": -7,
          "index": "1991-01-05T17:30:00",
          "location": "Nieuwe Maas Maeslantkering rivier",
          "state": "Rust",
          "value": 1.2066894351605948
         },
         {
          "comp1": 360,
          "comp2": -7,
          "index": "1991-01-05T17:40:00",
          "location": "Nieuwe Maas Maeslantkering rivier",
          "state": "Rust",
          "value": 1.2042220890927349
         },
         {
          "comp1": 360,
          "comp2": -7,
          "index": "1991-01-05T17:50:00",
          "location": "Nieuwe Maas Maeslantkering rivier",
          "state": "Rust",
          "value": 1.1967502177006215
         },
         {
          "comp1": 360,
          "comp2": -7,
          "index": "1991-01-05T18:00:00",
          "location": "Nieuwe Maas Maeslantkering rivier",
          "state": "Rust",
          "value": 1.1853985921067334
         },
         {
          "comp1": 360,
          "comp2": -7,
          "index": "1991-01-05T18:10:00",
          "location": "Nieuwe Maas Maeslantkering rivier",
          "state": "Rust",
          "value": 1.1774269748824109
         },
         {
          "comp1": 360,
          "comp2": -7,
          "index": "1991-01-05T18:20:00",
          "location": "Nieuwe Maas Maeslantkering rivier",
          "state": "Rust",
          "value": 1.168257539050459
         },
         {
          "comp1": 360,
          "comp2": -7,
          "index": "1991-01-05T18:30:00",
          "location": "Nieuwe Maas Maeslantkering rivier",
          "state": "Rust",
          "value": 1.1563631149610998
         },
         {
          "comp1": 360,
          "comp2": -7,
          "index": "1991-01-05T18:40:00",
          "location": "Nieuwe Maas Maeslantkering rivier",
          "state": "Rust",
          "value": 1.1423631389669113
         },
         {
          "comp1": 360,
          "comp2": -7,
          "index": "1991-01-05T18:50:00",
          "location": "Nieuwe Maas Maeslantkering rivier",
          "state": "Rust",
          "value": 1.125348208700975
         },
         {
          "comp1": 360,
          "comp2": -7,
          "index": "1991-01-05T19:00:00",
          "location": "Nieuwe Maas Maeslantkering rivier",
          "state": "Rust",
          "value": 1.1006898542315242
         },
         {
          "comp1": 360,
          "comp2": -7,
          "index": "1991-01-05T19:10:00",
          "location": "Nieuwe Maas Maeslantkering rivier",
          "state": "Rust",
          "value": 1.0671566056264812
         },
         {
          "comp1": 360,
          "comp2": -7,
          "index": "1991-01-05T19:20:00",
          "location": "Nieuwe Maas Maeslantkering rivier",
          "state": "Rust",
          "value": 1.0256072780362944
         },
         {
          "comp1": 360,
          "comp2": -7,
          "index": "1991-01-05T19:30:00",
          "location": "Nieuwe Maas Maeslantkering rivier",
          "state": "Rust",
          "value": 0.975821343486184
         },
         {
          "comp1": 360,
          "comp2": -7,
          "index": "1991-01-05T19:40:00",
          "location": "Nieuwe Maas Maeslantkering rivier",
          "state": "Rust",
          "value": 0.9255836509118961
         },
         {
          "comp1": 360,
          "comp2": -7,
          "index": "1991-01-05T19:50:00",
          "location": "Nieuwe Maas Maeslantkering rivier",
          "state": "Rust",
          "value": 0.8567878589602151
         },
         {
          "comp1": 360,
          "comp2": -7,
          "index": "1991-01-05T20:00:00",
          "location": "Nieuwe Maas Maeslantkering rivier",
          "state": "Rust",
          "value": 0.7888175494065637
         },
         {
          "comp1": 360,
          "comp2": -7,
          "index": "1991-01-05T20:10:00",
          "location": "Nieuwe Maas Maeslantkering rivier",
          "state": "Rust",
          "value": 0.7214453614499512
         },
         {
          "comp1": 360,
          "comp2": -7,
          "index": "1991-01-05T20:20:00",
          "location": "Nieuwe Maas Maeslantkering rivier",
          "state": "Rust",
          "value": 0.6561072466927108
         },
         {
          "comp1": 360,
          "comp2": -7,
          "index": "1991-01-05T20:30:00",
          "location": "Nieuwe Maas Maeslantkering rivier",
          "state": "Rust",
          "value": 0.5912613286678136
         },
         {
          "comp1": 360,
          "comp2": -7,
          "index": "1991-01-05T20:40:00",
          "location": "Nieuwe Maas Maeslantkering rivier",
          "state": "Rust",
          "value": 0.5255532022345923
         },
         {
          "comp1": 360,
          "comp2": -7,
          "index": "1991-01-05T20:50:00",
          "location": "Nieuwe Maas Maeslantkering rivier",
          "state": "Rust",
          "value": 0.463665915570804
         },
         {
          "comp1": 360,
          "comp2": -7,
          "index": "1991-01-05T21:00:00",
          "location": "Nieuwe Maas Maeslantkering rivier",
          "state": "Rust",
          "value": 0.39811356462265357
         },
         {
          "comp1": 360,
          "comp2": -7,
          "index": "1991-01-05T21:10:00",
          "location": "Nieuwe Maas Maeslantkering rivier",
          "state": "Rust",
          "value": 0.3286511818403106
         },
         {
          "comp1": 360,
          "comp2": -7,
          "index": "1991-01-05T21:20:00",
          "location": "Nieuwe Maas Maeslantkering rivier",
          "state": "Rust",
          "value": 0.2566459268402614
         },
         {
          "comp1": 360,
          "comp2": -7,
          "index": "1991-01-05T21:30:00",
          "location": "Nieuwe Maas Maeslantkering rivier",
          "state": "Rust",
          "value": 0.18009487357661835
         },
         {
          "comp1": 360,
          "comp2": -7,
          "index": "1991-01-05T21:40:00",
          "location": "Nieuwe Maas Maeslantkering rivier",
          "state": "Rust",
          "value": 0.09549879496302714
         },
         {
          "comp1": 360,
          "comp2": -7,
          "index": "1991-01-05T21:50:00",
          "location": "Nieuwe Maas Maeslantkering rivier",
          "state": "Rust",
          "value": 0.00550781396912835
         },
         {
          "comp1": 360,
          "comp2": -7,
          "index": "1991-01-05T22:00:00",
          "location": "Nieuwe Maas Maeslantkering rivier",
          "state": "Rust",
          "value": -0.08368966716959714
         },
         {
          "comp1": 360,
          "comp2": -7,
          "index": "1991-01-05T22:10:00",
          "location": "Nieuwe Maas Maeslantkering rivier",
          "state": "Rust",
          "value": -0.16928352218118203
         },
         {
          "comp1": 360,
          "comp2": -7,
          "index": "1991-01-05T22:20:00",
          "location": "Nieuwe Maas Maeslantkering rivier",
          "state": "Rust",
          "value": -0.24912286474775497
         },
         {
          "comp1": 360,
          "comp2": -7,
          "index": "1991-01-05T22:30:00",
          "location": "Nieuwe Maas Maeslantkering rivier",
          "state": "Rust",
          "value": -0.32129941896937775
         },
         {
          "comp1": 360,
          "comp2": -7,
          "index": "1991-01-05T22:40:00",
          "location": "Nieuwe Maas Maeslantkering rivier",
          "state": "Rust",
          "value": -0.3815517605984124
         },
         {
          "comp1": 360,
          "comp2": -7,
          "index": "1991-01-05T22:50:00",
          "location": "Nieuwe Maas Maeslantkering rivier",
          "state": "Rust",
          "value": -0.4276905452367685
         },
         {
          "comp1": 360,
          "comp2": -7,
          "index": "1991-01-05T23:00:00",
          "location": "Nieuwe Maas Maeslantkering rivier",
          "state": "Rust",
          "value": -0.4603740664610885
         },
         {
          "comp1": 360,
          "comp2": -7,
          "index": "1991-01-05T23:10:00",
          "location": "Nieuwe Maas Maeslantkering rivier",
          "state": "Rust",
          "value": -0.4789099601101063
         },
         {
          "comp1": 360,
          "comp2": -7,
          "index": "1991-01-05T23:20:00",
          "location": "Nieuwe Maas Maeslantkering rivier",
          "state": "Rust",
          "value": -0.4817904484411122
         },
         {
          "comp1": 360,
          "comp2": -7,
          "index": "1991-01-05T23:30:00",
          "location": "Nieuwe Maas Maeslantkering rivier",
          "state": "Rust",
          "value": -0.47192943793400405
         },
         {
          "comp1": 360,
          "comp2": -7,
          "index": "1991-01-05T23:40:00",
          "location": "Nieuwe Maas Maeslantkering rivier",
          "state": "Rust",
          "value": -0.4616033633885015
         },
         {
          "comp1": 360,
          "comp2": -7,
          "index": "1991-01-05T23:50:00",
          "location": "Nieuwe Maas Maeslantkering rivier",
          "state": "Rust",
          "value": -0.457843849498659
         },
         {
          "comp1": 360,
          "comp2": -7,
          "index": "1991-01-06T00:00:00",
          "location": "Nieuwe Maas Maeslantkering rivier",
          "state": "Rust",
          "value": -0.46235249611079865
         },
         {
          "comp1": 360,
          "comp2": -7,
          "index": "1991-01-06T00:10:00",
          "location": "Nieuwe Maas Maeslantkering rivier",
          "state": "Rust",
          "value": -0.46905928963987953
         },
         {
          "comp1": 360,
          "comp2": -7,
          "index": "1991-01-06T00:20:00",
          "location": "Nieuwe Maas Maeslantkering rivier",
          "state": "Rust",
          "value": -0.4792017813871587
         },
         {
          "comp1": 360,
          "comp2": -7,
          "index": "1991-01-06T00:30:00",
          "location": "Nieuwe Maas Maeslantkering rivier",
          "state": "Rust",
          "value": -0.491092768867053
         },
         {
          "comp1": 360,
          "comp2": -7,
          "index": "1991-01-06T00:40:00",
          "location": "Nieuwe Maas Maeslantkering rivier",
          "state": "Rust",
          "value": -0.5019461006823491
         },
         {
          "comp1": 360,
          "comp2": -7,
          "index": "1991-01-06T00:50:00",
          "location": "Nieuwe Maas Maeslantkering rivier",
          "state": "Rust",
          "value": -0.5147147875594748
         },
         {
          "comp1": 360,
          "comp2": -7,
          "index": "1991-01-06T01:00:00",
          "location": "Nieuwe Maas Maeslantkering rivier",
          "state": "Rust",
          "value": -0.5250299724858787
         },
         {
          "comp1": 360,
          "comp2": -7,
          "index": "1991-01-06T01:10:00",
          "location": "Nieuwe Maas Maeslantkering rivier",
          "state": "Rust",
          "value": -0.5329567804950113
         },
         {
          "comp1": 360,
          "comp2": -7,
          "index": "1991-01-06T01:20:00",
          "location": "Nieuwe Maas Maeslantkering rivier",
          "state": "Rust",
          "value": -0.5371626212931303
         },
         {
          "comp1": 360,
          "comp2": -7,
          "index": "1991-01-06T01:30:00",
          "location": "Nieuwe Maas Maeslantkering rivier",
          "state": "Rust",
          "value": -0.5373643725240128
         },
         {
          "comp1": 360,
          "comp2": -7,
          "index": "1991-01-06T01:40:00",
          "location": "Nieuwe Maas Maeslantkering rivier",
          "state": "Rust",
          "value": -0.5365908390001397
         },
         {
          "comp1": 360,
          "comp2": -7,
          "index": "1991-01-06T01:50:00",
          "location": "Nieuwe Maas Maeslantkering rivier",
          "state": "Rust",
          "value": -0.5361498193116655
         },
         {
          "comp1": 360,
          "comp2": -7,
          "index": "1991-01-06T02:00:00",
          "location": "Nieuwe Maas Maeslantkering rivier",
          "state": "Rust",
          "value": -0.5362858402483973
         },
         {
          "comp1": 360,
          "comp2": -7,
          "index": "1991-01-06T02:10:00",
          "location": "Nieuwe Maas Maeslantkering rivier",
          "state": "Rust",
          "value": -0.533470818425495
         },
         {
          "comp1": 360,
          "comp2": -7,
          "index": "1991-01-06T02:20:00",
          "location": "Nieuwe Maas Maeslantkering rivier",
          "state": "Rust",
          "value": -0.5241220679591803
         },
         {
          "comp1": 360,
          "comp2": -7,
          "index": "1991-01-06T02:30:00",
          "location": "Nieuwe Maas Maeslantkering rivier",
          "state": "Rust",
          "value": -0.5091328951706302
         },
         {
          "comp1": 360,
          "comp2": -7,
          "index": "1991-01-06T02:40:00",
          "location": "Nieuwe Maas Maeslantkering rivier",
          "state": "Rust",
          "value": -0.4881422291113466
         },
         {
          "comp1": 360,
          "comp2": -7,
          "index": "1991-01-06T02:50:00",
          "location": "Nieuwe Maas Maeslantkering rivier",
          "state": "Rust",
          "value": -0.45845785650567555
         },
         {
          "comp1": 360,
          "comp2": -7,
          "index": "1991-01-06T03:00:00",
          "location": "Nieuwe Maas Maeslantkering rivier",
          "state": "Rust",
          "value": -0.41779199805474965
         },
         {
          "comp1": 360,
          "comp2": -7,
          "index": "1991-01-06T03:10:00",
          "location": "Nieuwe Maas Maeslantkering rivier",
          "state": "Rust",
          "value": -0.37131203907527716
         },
         {
          "comp1": 360,
          "comp2": -7,
          "index": "1991-01-06T03:20:00",
          "location": "Nieuwe Maas Maeslantkering rivier",
          "state": "Rust",
          "value": -0.32026489386354345
         },
         {
          "comp1": 360,
          "comp2": -7,
          "index": "1991-01-06T03:30:00",
          "location": "Nieuwe Maas Maeslantkering rivier",
          "state": "Rust",
          "value": -0.2615022101021557
         },
         {
          "comp1": 360,
          "comp2": -7,
          "index": "1991-01-06T03:40:00",
          "location": "Nieuwe Maas Maeslantkering rivier",
          "state": "Rust",
          "value": -0.19342539357093194
         },
         {
          "comp1": 360,
          "comp2": -7,
          "index": "1991-01-06T03:50:00",
          "location": "Nieuwe Maas Maeslantkering rivier",
          "state": "Rust",
          "value": -0.10939133736459589
         },
         {
          "comp1": 360,
          "comp2": -7,
          "index": "1991-01-06T04:00:00",
          "location": "Nieuwe Maas Maeslantkering rivier",
          "state": "Rust",
          "value": -0.005940273196285037
         },
         {
          "comp1": 360,
          "comp2": -7,
          "index": "1991-01-06T04:10:00",
          "location": "Nieuwe Maas Maeslantkering rivier",
          "state": "Rust",
          "value": 0.11971173801714412
         },
         {
          "comp1": 360,
          "comp2": -7,
          "index": "1991-01-06T04:20:00",
          "location": "Nieuwe Maas Maeslantkering rivier",
          "state": "Rust",
          "value": 0.25995126675961827
         },
         {
          "comp1": 360,
          "comp2": -7,
          "index": "1991-01-06T04:30:00",
          "location": "Nieuwe Maas Maeslantkering rivier",
          "state": "Rust",
          "value": 0.4075289683133752
         },
         {
          "comp1": 360,
          "comp2": -7,
          "index": "1991-01-06T04:40:00",
          "location": "Nieuwe Maas Maeslantkering rivier",
          "state": "Rust",
          "value": 0.5540817871392505
         },
         {
          "comp1": 360,
          "comp2": -7,
          "index": "1991-01-06T04:50:00",
          "location": "Nieuwe Maas Maeslantkering rivier",
          "state": "Rust",
          "value": 0.6935964827590393
         },
         {
          "comp1": 360,
          "comp2": -7,
          "index": "1991-01-06T05:00:00",
          "location": "Nieuwe Maas Maeslantkering rivier",
          "state": "Rust",
          "value": 0.8214742883796226
         },
         {
          "comp1": 360,
          "comp2": -7,
          "index": "1991-01-06T05:10:00",
          "location": "Nieuwe Maas Maeslantkering rivier",
          "state": "Rust",
          "value": 0.9339616762433579
         },
         {
          "comp1": 360,
          "comp2": -7,
          "index": "1991-01-06T05:20:00",
          "location": "Nieuwe Maas Maeslantkering rivier",
          "state": "Rust",
          "value": 1.0321566604335337
         },
         {
          "comp1": 360,
          "comp2": -7,
          "index": "1991-01-06T05:30:00",
          "location": "Nieuwe Maas Maeslantkering rivier",
          "state": "Rust",
          "value": 1.109013292635627
         },
         {
          "comp1": 360,
          "comp2": -7,
          "index": "1991-01-06T05:40:00",
          "location": "Nieuwe Maas Maeslantkering rivier",
          "state": "Rust",
          "value": 1.1605393643122905
         },
         {
          "comp1": 360,
          "comp2": -7,
          "index": "1991-01-06T05:50:00",
          "location": "Nieuwe Maas Maeslantkering rivier",
          "state": "Rust",
          "value": 1.1872830023591516
         },
         {
          "comp1": 360,
          "comp2": -7,
          "index": "1991-01-06T06:00:00",
          "location": "Nieuwe Maas Maeslantkering rivier",
          "state": "Rust",
          "value": 1.1955302915170944
         },
         {
          "comp1": 360,
          "comp2": -7,
          "index": "1991-01-06T06:10:00",
          "location": "Nieuwe Maas Maeslantkering rivier",
          "state": "Rust",
          "value": 1.1892202543089028
         },
         {
          "comp1": 360,
          "comp2": -7,
          "index": "1991-01-06T06:20:00",
          "location": "Nieuwe Maas Maeslantkering rivier",
          "state": "Rust",
          "value": 1.179182639306281
         },
         {
          "comp1": 360,
          "comp2": -7,
          "index": "1991-01-06T06:30:00",
          "location": "Nieuwe Maas Maeslantkering rivier",
          "state": "Gemobiliseerd",
          "value": 1.1704498639830627
         },
         {
          "comp1": 360,
          "comp2": -7,
          "index": "1991-01-06T06:40:00",
          "location": "Nieuwe Maas Maeslantkering rivier",
          "state": "Gemobiliseerd",
          "value": 1.1603615510976255
         },
         {
          "comp1": 360,
          "comp2": -7,
          "index": "1991-01-06T06:50:00",
          "location": "Nieuwe Maas Maeslantkering rivier",
          "state": "Gemobiliseerd",
          "value": 1.1474539631373284
         },
         {
          "comp1": 360,
          "comp2": -7,
          "index": "1991-01-06T07:00:00",
          "location": "Nieuwe Maas Maeslantkering rivier",
          "state": "Gemobiliseerd",
          "value": 1.1326622790319287
         },
         {
          "comp1": 360,
          "comp2": -7,
          "index": "1991-01-06T07:10:00",
          "location": "Nieuwe Maas Maeslantkering rivier",
          "state": "Gemobiliseerd",
          "value": 1.1123882955259672
         },
         {
          "comp1": 360,
          "comp2": -7,
          "index": "1991-01-06T07:20:00",
          "location": "Nieuwe Maas Maeslantkering rivier",
          "state": "Gemobiliseerd",
          "value": 1.0858080676752113
         },
         {
          "comp1": 360,
          "comp2": -7,
          "index": "1991-01-06T07:30:00",
          "location": "Nieuwe Maas Maeslantkering rivier",
          "state": "Gemobiliseerd",
          "value": 1.0520271190314223
         },
         {
          "comp1": 360,
          "comp2": -7,
          "index": "1991-01-06T07:40:00",
          "location": "Nieuwe Maas Maeslantkering rivier",
          "state": "Gemobiliseerd",
          "value": 1.0119529305505253
         },
         {
          "comp1": 360,
          "comp2": -7,
          "index": "1991-01-06T07:50:00",
          "location": "Nieuwe Maas Maeslantkering rivier",
          "state": "Gemobiliseerd",
          "value": 0.9678871964795214
         },
         {
          "comp1": 360,
          "comp2": -7,
          "index": "1991-01-06T08:00:00",
          "location": "Nieuwe Maas Maeslantkering rivier",
          "state": "Gemobiliseerd",
          "value": 0.9201118569242595
         },
         {
          "comp1": 360,
          "comp2": -7,
          "index": "1991-01-06T08:10:00",
          "location": "Nieuwe Maas Maeslantkering rivier",
          "state": "Gemobiliseerd",
          "value": 0.8624111252192043
         },
         {
          "comp1": 360,
          "comp2": -7,
          "index": "1991-01-06T08:20:00",
          "location": "Nieuwe Maas Maeslantkering rivier",
          "state": "Gemobiliseerd",
          "value": 0.790794414794391
         },
         {
          "comp1": 360,
          "comp2": -7,
          "index": "1991-01-06T08:30:00",
          "location": "Nieuwe Maas Maeslantkering rivier",
          "state": "Gemobiliseerd",
          "value": 0.7224343666035479
         },
         {
          "comp1": 360,
          "comp2": -7,
          "index": "1991-01-06T08:40:00",
          "location": "Nieuwe Maas Maeslantkering rivier",
          "state": "Gemobiliseerd",
          "value": 0.6546868460564148
         },
         {
          "comp1": 360,
          "comp2": -7,
          "index": "1991-01-06T08:50:00",
          "location": "Nieuwe Maas Maeslantkering rivier",
          "state": "Gemobiliseerd",
          "value": 0.591775750716316
         },
         {
          "comp1": 360,
          "comp2": -7,
          "index": "1991-01-06T09:00:00",
          "location": "Nieuwe Maas Maeslantkering rivier",
          "state": "Gemobiliseerd",
          "value": 0.5269104493268366
         },
         {
          "comp1": 360,
          "comp2": -7,
          "index": "1991-01-06T09:10:00",
          "location": "Nieuwe Maas Maeslantkering rivier",
          "state": "Gemobiliseerd",
          "value": 0.46383240987287183
         },
         {
          "comp1": 360,
          "comp2": -7,
          "index": "1991-01-06T09:20:00",
          "location": "Nieuwe Maas Maeslantkering rivier",
          "state": "Gemobiliseerd",
          "value": 0.4047483999632159
         },
         {
          "comp1": 360,
          "comp2": -7,
          "index": "1991-01-06T09:30:00",
          "location": "Nieuwe Maas Maeslantkering rivier",
          "state": "Gemobiliseerd",
          "value": 0.3425442348141392
         },
         {
          "comp1": 360,
          "comp2": -7,
          "index": "1991-01-06T09:40:00",
          "location": "Nieuwe Maas Maeslantkering rivier",
          "state": "Gemobiliseerd",
          "value": 0.2765758880416907
         },
         {
          "comp1": 360,
          "comp2": -7,
          "index": "1991-01-06T09:50:00",
          "location": "Nieuwe Maas Maeslantkering rivier",
          "state": "Gemobiliseerd",
          "value": 0.20505366069328343
         },
         {
          "comp1": 360,
          "comp2": -7,
          "index": "1991-01-06T10:00:00",
          "location": "Nieuwe Maas Maeslantkering rivier",
          "state": "Gemobiliseerd",
          "value": 0.12887902651821267
         },
         {
          "comp1": 360,
          "comp2": -7,
          "index": "1991-01-06T10:10:00",
          "location": "Nieuwe Maas Maeslantkering rivier",
          "state": "Gemobiliseerd",
          "value": 0.04949566326781885
         },
         {
          "comp1": 360,
          "comp2": -7,
          "index": "1991-01-06T10:20:00",
          "location": "Nieuwe Maas Maeslantkering rivier",
          "state": "Gemobiliseerd",
          "value": -0.03201577686603027
         },
         {
          "comp1": 360,
          "comp2": -7,
          "index": "1991-01-06T10:30:00",
          "location": "Nieuwe Maas Maeslantkering rivier",
          "state": "Gemobiliseerd",
          "value": -0.11691831851665127
         },
         {
          "comp1": 360,
          "comp2": -7,
          "index": "1991-01-06T10:40:00",
          "location": "Nieuwe Maas Maeslantkering rivier",
          "state": "Gemobiliseerd",
          "value": -0.2000899922590117
         },
         {
          "comp1": 360,
          "comp2": -7,
          "index": "1991-01-06T10:50:00",
          "location": "Nieuwe Maas Maeslantkering rivier",
          "state": "Gemobiliseerd",
          "value": -0.27811339227953863
         },
         {
          "comp1": 360,
          "comp2": -7,
          "index": "1991-01-06T11:00:00",
          "location": "Nieuwe Maas Maeslantkering rivier",
          "state": "Gemobiliseerd",
          "value": -0.3462168026171011
         },
         {
          "comp1": 360,
          "comp2": -7,
          "index": "1991-01-06T11:10:00",
          "location": "Nieuwe Maas Maeslantkering rivier",
          "state": "Gemobiliseerd",
          "value": -0.3987334018552057
         },
         {
          "comp1": 360,
          "comp2": -7,
          "index": "1991-01-06T11:20:00",
          "location": "Nieuwe Maas Maeslantkering rivier",
          "state": "Gemobiliseerd",
          "value": -0.4380857896863916
         },
         {
          "comp1": 360,
          "comp2": -7,
          "index": "1991-01-06T11:30:00",
          "location": "Nieuwe Maas Maeslantkering rivier",
          "state": "Gemobiliseerd",
          "value": -0.4639991658450989
         },
         {
          "comp1": 360,
          "comp2": -7,
          "index": "1991-01-06T11:40:00",
          "location": "Nieuwe Maas Maeslantkering rivier",
          "state": "Gemobiliseerd",
          "value": -0.47872469406601686
         },
         {
          "comp1": 360,
          "comp2": -7,
          "index": "1991-01-06T11:50:00",
          "location": "Nieuwe Maas Maeslantkering rivier",
          "state": "Gemobiliseerd",
          "value": -0.48344573799617097
         },
         {
          "comp1": 360,
          "comp2": -7,
          "index": "1991-01-06T12:00:00",
          "location": "Nieuwe Maas Maeslantkering rivier",
          "state": "Gemobiliseerd",
          "value": -0.4780057593639075
         },
         {
          "comp1": 360,
          "comp2": -7,
          "index": "1991-01-06T12:10:00",
          "location": "Nieuwe Maas Maeslantkering rivier",
          "state": "Gemobiliseerd",
          "value": -0.4689527223655177
         },
         {
          "comp1": 360,
          "comp2": -7,
          "index": "1991-01-06T12:20:00",
          "location": "Nieuwe Maas Maeslantkering rivier",
          "state": "Gemobiliseerd",
          "value": -0.4598154237613826
         },
         {
          "comp1": 360,
          "comp2": -7,
          "index": "1991-01-06T12:30:00",
          "location": "Nieuwe Maas Maeslantkering rivier",
          "state": "Gemobiliseerd",
          "value": -0.4541019798363177
         },
         {
          "comp1": 360,
          "comp2": -7,
          "index": "1991-01-06T12:40:00",
          "location": "Nieuwe Maas Maeslantkering rivier",
          "state": "Gemobiliseerd",
          "value": -0.45670613174380487
         },
         {
          "comp1": 360,
          "comp2": -7,
          "index": "1991-01-06T12:50:00",
          "location": "Nieuwe Maas Maeslantkering rivier",
          "state": "Gemobiliseerd",
          "value": -0.468738855843475
         },
         {
          "comp1": 360,
          "comp2": -7,
          "index": "1991-01-06T13:00:00",
          "location": "Nieuwe Maas Maeslantkering rivier",
          "state": "Gemobiliseerd",
          "value": -0.48356235659956603
         },
         {
          "comp1": 360,
          "comp2": -7,
          "index": "1991-01-06T13:10:00",
          "location": "Nieuwe Maas Maeslantkering rivier",
          "state": "Gemobiliseerd",
          "value": -0.4985518258575576
         },
         {
          "comp1": 360,
          "comp2": -7,
          "index": "1991-01-06T13:20:00",
          "location": "Nieuwe Maas Maeslantkering rivier",
          "state": "Gemobiliseerd",
          "value": -0.5110001839479419
         },
         {
          "comp1": 360,
          "comp2": -7,
          "index": "1991-01-06T13:30:00",
          "location": "Nieuwe Maas Maeslantkering rivier",
          "state": "Gemobiliseerd",
          "value": -0.522242572538771
         },
         {
          "comp1": 360,
          "comp2": -7,
          "index": "1991-01-06T13:40:00",
          "location": "Nieuwe Maas Maeslantkering rivier",
          "state": "Gemobiliseerd",
          "value": -0.531290740049643
         },
         {
          "comp1": 360,
          "comp2": -7,
          "index": "1991-01-06T13:50:00",
          "location": "Nieuwe Maas Maeslantkering rivier",
          "state": "Gemobiliseerd",
          "value": -0.5359089738396968
         },
         {
          "comp1": 360,
          "comp2": -7,
          "index": "1991-01-06T14:00:00",
          "location": "Nieuwe Maas Maeslantkering rivier",
          "state": "Gemobiliseerd",
          "value": -0.5368980922383564
         },
         {
          "comp1": 360,
          "comp2": -7,
          "index": "1991-01-06T14:10:00",
          "location": "Nieuwe Maas Maeslantkering rivier",
          "state": "Gemobiliseerd",
          "value": -0.5358706410059227
         },
         {
          "comp1": 360,
          "comp2": -7,
          "index": "1991-01-06T14:20:00",
          "location": "Nieuwe Maas Maeslantkering rivier",
          "state": "Gemobiliseerd",
          "value": -0.5345613326317336
         },
         {
          "comp1": 360,
          "comp2": -7,
          "index": "1991-01-06T14:30:00",
          "location": "Nieuwe Maas Maeslantkering rivier",
          "state": "Gemobiliseerd",
          "value": -0.5316795043322179
         },
         {
          "comp1": 360,
          "comp2": -7,
          "index": "1991-01-06T14:40:00",
          "location": "Nieuwe Maas Maeslantkering rivier",
          "state": "Gemobiliseerd",
          "value": -0.5261665351595808
         },
         {
          "comp1": 360,
          "comp2": -7,
          "index": "1991-01-06T14:50:00",
          "location": "Nieuwe Maas Maeslantkering rivier",
          "state": "Gemobiliseerd",
          "value": -0.5155325057191325
         },
         {
          "comp1": 360,
          "comp2": -7,
          "index": "1991-01-06T15:00:00",
          "location": "Nieuwe Maas Maeslantkering rivier",
          "state": "Gemobiliseerd",
          "value": -0.4978343559821513
         },
         {
          "comp1": 360,
          "comp2": -7,
          "index": "1991-01-06T15:10:00",
          "location": "Nieuwe Maas Maeslantkering rivier",
          "state": "Gemobiliseerd",
          "value": -0.4739410808117563
         },
         {
          "comp1": 360,
          "comp2": -7,
          "index": "1991-01-06T15:20:00",
          "location": "Nieuwe Maas Maeslantkering rivier",
          "state": "Gemobiliseerd",
          "value": -0.43951935130810194
         },
         {
          "comp1": 360,
          "comp2": -7,
          "index": "1991-01-06T15:30:00",
          "location": "Nieuwe Maas Maeslantkering rivier",
          "state": "Gemobiliseerd",
          "value": -0.39699347276623337
         },
         {
          "comp1": 360,
          "comp2": -7,
          "index": "1991-01-06T15:40:00",
          "location": "Nieuwe Maas Maeslantkering rivier",
          "state": "Gemobiliseerd",
          "value": -0.34825799584809664
         },
         {
          "comp1": 360,
          "comp2": -7,
          "index": "1991-01-06T15:50:00",
          "location": "Nieuwe Maas Maeslantkering rivier",
          "state": "Gemobiliseerd",
          "value": -0.2941495264919165
         },
         {
          "comp1": 360,
          "comp2": -7,
          "index": "1991-01-06T16:00:00",
          "location": "Nieuwe Maas Maeslantkering rivier",
          "state": "Gemobiliseerd",
          "value": -0.23188393280680458
         },
         {
          "comp1": 360,
          "comp2": -7,
          "index": "1991-01-06T16:10:00",
          "location": "Nieuwe Maas Maeslantkering rivier",
          "state": "Gemobiliseerd",
          "value": -0.1591020846725375
         },
         {
          "comp1": 360,
          "comp2": -7,
          "index": "1991-01-06T16:20:00",
          "location": "Nieuwe Maas Maeslantkering rivier",
          "state": "Gemobiliseerd",
          "value": -0.06457007957068961
         },
         {
          "comp1": 360,
          "comp2": -7,
          "index": "1991-01-06T16:30:00",
          "location": "Nieuwe Maas Maeslantkering rivier",
          "state": "Gemobiliseerd",
          "value": 0.048870871170742465
         },
         {
          "comp1": 360,
          "comp2": -7,
          "index": "1991-01-06T16:40:00",
          "location": "Nieuwe Maas Maeslantkering rivier",
          "state": "Gemobiliseerd",
          "value": 0.18036213666300854
         },
         {
          "comp1": 360,
          "comp2": -7,
          "index": "1991-01-06T16:50:00",
          "location": "Nieuwe Maas Maeslantkering rivier",
          "state": "Gemobiliseerd",
          "value": 0.326559119561955
         },
         {
          "comp1": 360,
          "comp2": -7,
          "index": "1991-01-06T17:00:00",
          "location": "Nieuwe Maas Maeslantkering rivier",
          "state": "Gemobiliseerd",
          "value": 0.4747158621173243
         },
         {
          "comp1": 360,
          "comp2": -7,
          "index": "1991-01-06T17:10:00",
          "location": "Nieuwe Maas Maeslantkering rivier",
          "state": "Gemobiliseerd",
          "value": 0.6156464645218132
         },
         {
          "comp1": 360,
          "comp2": -7,
          "index": "1991-01-06T17:20:00",
          "location": "Nieuwe Maas Maeslantkering rivier",
          "state": "Gemobiliseerd",
          "value": 0.7456485860286897
         },
         {
          "comp1": 360,
          "comp2": -7,
          "index": "1991-01-06T17:30:00",
          "location": "Nieuwe Maas Maeslantkering rivier",
          "state": "Gemobiliseerd",
          "value": 0.866458420219729
         },
         {
          "comp1": 360,
          "comp2": -7,
          "index": "1991-01-06T17:40:00",
          "location": "Nieuwe Maas Maeslantkering rivier",
          "state": "Gemobiliseerd",
          "value": 0.9716117482910654
         },
         {
          "comp1": 360,
          "comp2": -7,
          "index": "1991-01-06T17:50:00",
          "location": "Nieuwe Maas Maeslantkering rivier",
          "state": "Gemobiliseerd",
          "value": 1.0679278288016552
         },
         {
          "comp1": 360,
          "comp2": -7,
          "index": "1991-01-06T18:00:00",
          "location": "Nieuwe Maas Maeslantkering rivier",
          "state": "Gemobiliseerd",
          "value": 1.1570413345633828
         },
         {
          "comp1": 360,
          "comp2": -7,
          "index": "1991-01-06T18:10:00",
          "location": "Nieuwe Maas Maeslantkering rivier",
          "state": "Gemobiliseerd",
          "value": 1.2339778594708728
         },
         {
          "comp1": 360,
          "comp2": -7,
          "index": "1991-01-06T18:20:00",
          "location": "Nieuwe Maas Maeslantkering rivier",
          "state": "Gemobiliseerd",
          "value": 1.298934360503539
         },
         {
          "comp1": 360,
          "comp2": -7,
          "index": "1991-01-06T18:30:00",
          "location": "Nieuwe Maas Maeslantkering rivier",
          "state": "Gemobiliseerd",
          "value": 1.3473009728732188
         },
         {
          "comp1": 360,
          "comp2": -7,
          "index": "1991-01-06T18:40:00",
          "location": "Nieuwe Maas Maeslantkering rivier",
          "state": "Gemobiliseerd",
          "value": 1.3828716617183412
         },
         {
          "comp1": 360,
          "comp2": -7,
          "index": "1991-01-06T18:50:00",
          "location": "Nieuwe Maas Maeslantkering rivier",
          "state": "Gemobiliseerd",
          "value": 1.4118332911469753
         },
         {
          "comp1": 360,
          "comp2": -7,
          "index": "1991-01-06T19:00:00",
          "location": "Nieuwe Maas Maeslantkering rivier",
          "state": "Gemobiliseerd",
          "value": 1.436200286914738
         },
         {
          "comp1": 360,
          "comp2": -7,
          "index": "1991-01-06T19:10:00",
          "location": "Nieuwe Maas Maeslantkering rivier",
          "state": "Gemobiliseerd",
          "value": 1.4511478136606306
         },
         {
          "comp1": 360,
          "comp2": -7,
          "index": "1991-01-06T19:20:00",
          "location": "Nieuwe Maas Maeslantkering rivier",
          "state": "Gemobiliseerd",
          "value": 1.4570301930347191
         },
         {
          "comp1": 360,
          "comp2": -7,
          "index": "1991-01-06T19:30:00",
          "location": "Nieuwe Maas Maeslantkering rivier",
          "state": "Gemobiliseerd",
          "value": 1.4648987659487338
         },
         {
          "comp1": 360,
          "comp2": -7,
          "index": "1991-01-06T19:40:00",
          "location": "Nieuwe Maas Maeslantkering rivier",
          "state": "Gemobiliseerd",
          "value": 1.4794030155774482
         },
         {
          "comp1": 360,
          "comp2": -7,
          "index": "1991-01-06T19:50:00",
          "location": "Nieuwe Maas Maeslantkering rivier",
          "state": "Gemobiliseerd",
          "value": 1.495406171389378
         },
         {
          "comp1": 360,
          "comp2": -7,
          "index": "1991-01-06T20:00:00",
          "location": "Nieuwe Maas Maeslantkering rivier",
          "state": "Alert",
          "value": 1.5096080808410197
         },
         {
          "comp1": 360,
          "comp2": -7,
          "index": "1991-01-06T20:10:00",
          "location": "Nieuwe Maas Maeslantkering rivier",
          "state": "Alert",
          "value": 1.5208072299787705
         },
         {
          "comp1": 360,
          "comp2": -7,
          "index": "1991-01-06T20:20:00",
          "location": "Nieuwe Maas Maeslantkering rivier",
          "state": "Alert",
          "value": 1.524576769507377
         },
         {
          "comp1": 360,
          "comp2": -7,
          "index": "1991-01-06T20:30:00",
          "location": "Nieuwe Maas Maeslantkering rivier",
          "state": "Alert",
          "value": 1.5262073021115454
         },
         {
          "comp1": 360,
          "comp2": -7,
          "index": "1991-01-06T20:40:00",
          "location": "Nieuwe Maas Maeslantkering rivier",
          "state": "Alert",
          "value": 1.5147053239114532
         },
         {
          "comp1": 360,
          "comp2": -7,
          "index": "1991-01-06T20:50:00",
          "location": "Nieuwe Maas Maeslantkering rivier",
          "state": "Alert",
          "value": 1.495768240654849
         },
         {
          "comp1": 360,
          "comp2": -7,
          "index": "1991-01-06T21:00:00",
          "location": "Nieuwe Maas Maeslantkering rivier",
          "state": "Alert",
          "value": 1.4735531036083573
         },
         {
          "comp1": 360,
          "comp2": -7,
          "index": "1991-01-06T21:10:00",
          "location": "Nieuwe Maas Maeslantkering rivier",
          "state": "Alert",
          "value": 1.447458958084253
         },
         {
          "comp1": 360,
          "comp2": -7,
          "index": "1991-01-06T21:20:00",
          "location": "Nieuwe Maas Maeslantkering rivier",
          "state": "Alert",
          "value": 1.4198663497056534
         },
         {
          "comp1": 360,
          "comp2": -7,
          "index": "1991-01-06T21:30:00",
          "location": "Nieuwe Maas Maeslantkering rivier",
          "state": "Alert",
          "value": 1.3894939830897162
         },
         {
          "comp1": 360,
          "comp2": -7,
          "index": "1991-01-06T21:40:00",
          "location": "Nieuwe Maas Maeslantkering rivier",
          "state": "Alert",
          "value": 1.363285038969083
         },
         {
          "comp1": 360,
          "comp2": -7,
          "index": "1991-01-06T21:50:00",
          "location": "Nieuwe Maas Maeslantkering rivier",
          "state": "Alert",
          "value": 1.3322492664281218
         },
         {
          "comp1": 360,
          "comp2": -7,
          "index": "1991-01-06T22:00:00",
          "location": "Nieuwe Maas Maeslantkering rivier",
          "state": "Alert",
          "value": 1.3005238448568672
         },
         {
          "comp1": 360,
          "comp2": -7,
          "index": "1991-01-06T22:10:00",
          "location": "Nieuwe Maas Maeslantkering rivier",
          "state": "Alert",
          "value": 1.270515526649957
         },
         {
          "comp1": 360,
          "comp2": -7,
          "index": "1991-01-06T22:20:00",
          "location": "Nieuwe Maas Maeslantkering rivier",
          "state": "Alert",
          "value": 1.2385226325237917
         },
         {
          "comp1": 360,
          "comp2": -7,
          "index": "1991-01-06T22:30:00",
          "location": "Nieuwe Maas Maeslantkering rivier",
          "state": "Alert",
          "value": 1.199616014708477
         },
         {
          "comp1": 360,
          "comp2": -7,
          "index": "1991-01-06T22:40:00",
          "location": "Nieuwe Maas Maeslantkering rivier",
          "state": "Alert",
          "value": 1.1640777558214201
         },
         {
          "comp1": 360,
          "comp2": -7,
          "index": "1991-01-06T22:50:00",
          "location": "Nieuwe Maas Maeslantkering rivier",
          "state": "Alert",
          "value": 1.1349405622180457
         },
         {
          "comp1": 360,
          "comp2": -7,
          "index": "1991-01-06T23:00:00",
          "location": "Nieuwe Maas Maeslantkering rivier",
          "state": "Alert",
          "value": 1.1101214307277827
         },
         {
          "comp1": 360,
          "comp2": -7,
          "index": "1991-01-06T23:10:00",
          "location": "Nieuwe Maas Maeslantkering rivier",
          "state": "Alert",
          "value": 1.0894598254853192
         },
         {
          "comp1": 360,
          "comp2": -7,
          "index": "1991-01-06T23:20:00",
          "location": "Nieuwe Maas Maeslantkering rivier",
          "state": "Alert",
          "value": 1.0770613222422092
         },
         {
          "comp1": 360,
          "comp2": -7,
          "index": "1991-01-06T23:30:00",
          "location": "Nieuwe Maas Maeslantkering rivier",
          "state": "Alert",
          "value": 1.0790494119132976
         },
         {
          "comp1": 360,
          "comp2": -7,
          "index": "1991-01-06T23:40:00",
          "location": "Nieuwe Maas Maeslantkering rivier",
          "state": "Alert",
          "value": 1.0954229456891684
         },
         {
          "comp1": 360,
          "comp2": -7,
          "index": "1991-01-06T23:50:00",
          "location": "Nieuwe Maas Maeslantkering rivier",
          "state": "Alert",
          "value": 1.1248495435988102
         },
         {
          "comp1": 360,
          "comp2": -7,
          "index": "1991-01-07T00:00:00",
          "location": "Nieuwe Maas Maeslantkering rivier",
          "state": "Stremmen",
          "value": 1.1627259351676107
         },
         {
          "comp1": 360,
          "comp2": -7,
          "index": "1991-01-07T00:10:00",
          "location": "Nieuwe Maas Maeslantkering rivier",
          "state": "Stremmen",
          "value": 1.2042497133330305
         },
         {
          "comp1": 360,
          "comp2": -7,
          "index": "1991-01-07T00:20:00",
          "location": "Nieuwe Maas Maeslantkering rivier",
          "state": "Stremmen",
          "value": 1.250928026913611
         },
         {
          "comp1": 360,
          "comp2": -7,
          "index": "1991-01-07T00:30:00",
          "location": "Nieuwe Maas Maeslantkering rivier",
          "state": "Stremmen",
          "value": 1.2986463666572388
         },
         {
          "comp1": 360,
          "comp2": -7,
          "index": "1991-01-07T00:40:00",
          "location": "Nieuwe Maas Maeslantkering rivier",
          "state": "Stremmen",
          "value": 1.3467326611809496
         },
         {
          "comp1": 360,
          "comp2": -7,
          "index": "1991-01-07T00:50:00",
          "location": "Nieuwe Maas Maeslantkering rivier",
          "state": "Stremmen",
          "value": 1.391551482692006
         },
         {
          "comp1": 360,
          "comp2": -7,
          "index": "1991-01-07T01:00:00",
          "location": "Nieuwe Maas Maeslantkering rivier",
          "state": "Stremmen",
          "value": 1.4417172222710208
         },
         {
          "comp1": 360,
          "comp2": -7,
          "index": "1991-01-07T01:10:00",
          "location": "Nieuwe Maas Maeslantkering rivier",
          "state": "Stremmen",
          "value": 1.4909567565334785
         },
         {
          "comp1": 360,
          "comp2": -7,
          "index": "1991-01-07T01:20:00",
          "location": "Nieuwe Maas Maeslantkering rivier",
          "state": "Stremmen",
          "value": 1.5362659373996135
         },
         {
          "comp1": 360,
          "comp2": -7,
          "index": "1991-01-07T01:30:00",
          "location": "Nieuwe Maas Maeslantkering rivier",
          "state": "Stremmen",
          "value": 1.5771576860767016
         },
         {
          "comp1": 360,
          "comp2": -7,
          "index": "1991-01-07T01:40:00",
          "location": "Nieuwe Maas Maeslantkering rivier",
          "state": "Stremmen",
          "value": 1.6149839121388139
         },
         {
          "comp1": 360,
          "comp2": -7,
          "index": "1991-01-07T01:50:00",
          "location": "Nieuwe Maas Maeslantkering rivier",
          "state": "Stremmen",
          "value": 1.6553208241511623
         },
         {
          "comp1": 360,
          "comp2": -7,
          "index": "1991-01-07T02:00:00",
          "location": "Nieuwe Maas Maeslantkering rivier",
          "state": "Paraat",
          "value": 1.6971674342219463
         },
         {
          "comp1": 360,
          "comp2": -7,
          "index": "1991-01-07T02:10:00",
          "location": "Nieuwe Maas Maeslantkering rivier",
          "state": "Paraat",
          "value": 1.742604630606156
         },
         {
          "comp1": 360,
          "comp2": -7,
          "index": "1991-01-07T02:20:00",
          "location": "Nieuwe Maas Maeslantkering rivier",
          "state": "Paraat",
          "value": 1.7904507082658647
         },
         {
          "comp1": 360,
          "comp2": -7,
          "index": "1991-01-07T02:30:00",
          "location": "Nieuwe Maas Maeslantkering rivier",
          "state": "Paraat",
          "value": 1.8383239867378272
         },
         {
          "comp1": 360,
          "comp2": -7,
          "index": "1991-01-07T02:40:00",
          "location": "Nieuwe Maas Maeslantkering rivier",
          "state": "Paraat",
          "value": 1.8858398541328611
         },
         {
          "comp1": 360,
          "comp2": -7,
          "index": "1991-01-07T02:50:00",
          "location": "Nieuwe Maas Maeslantkering rivier",
          "state": "Paraat",
          "value": 1.9348865008200966
         },
         {
          "comp1": 360,
          "comp2": -7,
          "index": "1991-01-07T03:00:00",
          "location": "Nieuwe Maas Maeslantkering rivier",
          "state": "Paraat",
          "value": 1.9899731789701036
         },
         {
          "comp1": 360,
          "comp2": -7,
          "index": "1991-01-07T03:10:00",
          "location": "Nieuwe Maas Maeslantkering rivier",
          "state": "Paraat",
          "value": 2.0510727480449815
         },
         {
          "comp1": 360,
          "comp2": -7,
          "index": "1991-01-07T03:20:00",
          "location": "Nieuwe Maas Maeslantkering rivier",
          "state": "Paraat",
          "value": 2.113775861736239
         },
         {
          "comp1": 360,
          "comp2": -7,
          "index": "1991-01-07T03:30:00",
          "location": "Nieuwe Maas Maeslantkering rivier",
          "state": "Paraat",
          "value": 2.1824450113467178
         },
         {
          "comp1": 360,
          "comp2": -7,
          "index": "1991-01-07T03:40:00",
          "location": "Nieuwe Maas Maeslantkering rivier",
          "state": "Paraat",
          "value": 2.2467026650343973
         },
         {
          "comp1": 360,
          "comp2": -7,
          "index": "1991-01-07T03:50:00",
          "location": "Nieuwe Maas Maeslantkering rivier",
          "state": "Paraat",
          "value": 2.3073162466706814
         },
         {
          "comp1": 360,
          "comp2": -7,
          "index": "1991-01-07T04:00:00",
          "location": "Nieuwe Maas Maeslantkering rivier",
          "state": "Paraat",
          "value": 2.3733462067004623
         },
         {
          "comp1": 360,
          "comp2": -7,
          "index": "1991-01-07T04:10:00",
          "location": "Nieuwe Maas Maeslantkering rivier",
          "state": "HorizontaalSluiten",
          "value": 2.4440146550348376
         },
         {
          "comp1": 360,
          "comp2": -7,
          "index": "1991-01-07T04:20:00",
          "location": "Nieuwe Maas Maeslantkering rivier",
          "state": "HorizontaalSluiten",
          "value": 2.518438056191314
         },
         {
          "comp1": 180,
          "comp2": -7,
          "index": "1991-01-07T04:30:00",
          "location": "Nieuwe Maas Maeslantkering rivier",
          "state": "AfzinkenCPSE",
          "value": 2.5901373618694548
         },
         {
          "comp1": 180,
          "comp2": -7,
          "index": "1991-01-07T04:40:00",
          "location": "Nieuwe Maas Maeslantkering rivier",
          "state": "AfzinkenCPSE",
          "value": 2.669782757725896
         },
         {
          "comp1": 180,
          "comp2": -7,
          "index": "1991-01-07T04:50:00",
          "location": "Nieuwe Maas Maeslantkering rivier",
          "state": "AfzinkenCPSE",
          "value": 2.761367799114424
         },
         {
          "comp1": 180,
          "comp2": -7,
          "index": "1991-01-07T05:00:00",
          "location": "Nieuwe Maas Maeslantkering rivier",
          "state": "AfzinkenCPSE",
          "value": 2.8661445548248077
         },
         {
          "comp1": 180,
          "comp2": -7,
          "index": "1991-01-07T05:10:00",
          "location": "Nieuwe Maas Maeslantkering rivier",
          "state": "AfzinkenCPSE",
          "value": 2.986400986369364
         },
         {
          "comp1": 180,
          "comp2": -7,
          "index": "1991-01-07T05:20:00",
          "location": "Nieuwe Maas Maeslantkering rivier",
          "state": "AfzinkenCPSE",
          "value": 3.1161582203272116
         },
         {
          "comp1": 180,
          "comp2": -7,
          "index": "1991-01-07T05:30:00",
          "location": "Nieuwe Maas Maeslantkering rivier",
          "state": "AfzinkenCPSE",
          "value": 3.25575570593755
         },
         {
          "comp1": 180,
          "comp2": -7,
          "index": "1991-01-07T05:40:00",
          "location": "Nieuwe Maas Maeslantkering rivier",
          "state": "AfzinkenCPSE",
          "value": 3.406663225817641
         },
         {
          "comp1": 180,
          "comp2": -7,
          "index": "1991-01-07T05:50:00",
          "location": "Nieuwe Maas Maeslantkering rivier",
          "state": "AfzinkenCPSE",
          "value": 3.549599460772957
         },
         {
          "comp1": 180,
          "comp2": -7,
          "index": "1991-01-07T06:00:00",
          "location": "Nieuwe Maas Maeslantkering rivier",
          "state": "AfzinkenCPSE",
          "value": 3.6697068517756413
         },
         {
          "comp1": 180,
          "comp2": -7,
          "index": "1991-01-07T06:10:00",
          "location": "Nieuwe Maas Maeslantkering rivier",
          "state": "AfzinkenCPSE",
          "value": 3.792302005739502
         },
         {
          "comp1": 180,
          "comp2": -7,
          "index": "1991-01-07T06:20:00",
          "location": "Nieuwe Maas Maeslantkering rivier",
          "state": "AfzinkenCPSE",
          "value": 3.9254301415429937
         },
         {
          "comp1": 180,
          "comp2": -7,
          "index": "1991-01-07T06:30:00",
          "location": "Nieuwe Maas Maeslantkering rivier",
          "state": "AfzinkenCPSE",
          "value": 4.009570265315183
         },
         {
          "comp1": 180,
          "comp2": -7,
          "index": "1991-01-07T06:40:00",
          "location": "Nieuwe Maas Maeslantkering rivier",
          "state": "AfzinkenCPSE",
          "value": 4.065391558970944
         },
         {
          "comp1": 180,
          "comp2": -7,
          "index": "1991-01-07T06:50:00",
          "location": "Nieuwe Maas Maeslantkering rivier",
          "state": "AfzinkenCPSE",
          "value": 4.093568198466897
         },
         {
          "comp1": 180,
          "comp2": -7,
          "index": "1991-01-07T07:00:00",
          "location": "Nieuwe Maas Maeslantkering rivier",
          "state": "AfzinkenCPSE",
          "value": 4.108521300373324
         },
         {
          "comp1": 180,
          "comp2": -7,
          "index": "1991-01-07T07:10:00",
          "location": "Nieuwe Maas Maeslantkering rivier",
          "state": "AfzinkenCPSE",
          "value": 4.1452669327318805
         },
         {
          "comp1": 180,
          "comp2": -7,
          "index": "1991-01-07T07:20:00",
          "location": "Nieuwe Maas Maeslantkering rivier",
          "state": "AfzinkenCPSE",
          "value": 4.173590799099073
         },
         {
          "comp1": 180,
          "comp2": -7,
          "index": "1991-01-07T07:30:00",
          "location": "Nieuwe Maas Maeslantkering rivier",
          "state": "AfzinkenCPSE",
          "value": 4.202392934988326
         },
         {
          "comp1": 180,
          "comp2": -7,
          "index": "1991-01-07T07:40:00",
          "location": "Nieuwe Maas Maeslantkering rivier",
          "state": "AfzinkenCPSE",
          "value": 4.241126891466226
         },
         {
          "comp1": 180,
          "comp2": -7,
          "index": "1991-01-07T07:50:00",
          "location": "Nieuwe Maas Maeslantkering rivier",
          "state": "AfzinkenCPSE",
          "value": 4.29636258499706
         },
         {
          "comp1": 180,
          "comp2": -7,
          "index": "1991-01-07T08:00:00",
          "location": "Nieuwe Maas Maeslantkering rivier",
          "state": "AfzinkenCPSE",
          "value": 4.363105343929985
         },
         {
          "comp1": 180,
          "comp2": -7,
          "index": "1991-01-07T08:10:00",
          "location": "Nieuwe Maas Maeslantkering rivier",
          "state": "AfzinkenCPSE",
          "value": 4.421869569653256
         },
         {
          "comp1": 180,
          "comp2": -7,
          "index": "1991-01-07T08:20:00",
          "location": "Nieuwe Maas Maeslantkering rivier",
          "state": "AfzinkenCPSE",
          "value": 4.470649669419796
         },
         {
          "comp1": 180,
          "comp2": -7,
          "index": "1991-01-07T08:30:00",
          "location": "Nieuwe Maas Maeslantkering rivier",
          "state": "AfzinkenCPSE",
          "value": 4.513831701925755
         },
         {
          "comp1": 180,
          "comp2": -7,
          "index": "1991-01-07T08:40:00",
          "location": "Nieuwe Maas Maeslantkering rivier",
          "state": "AfzinkenCPSE",
          "value": 4.559221332179128
         },
         {
          "comp1": 180,
          "comp2": -7,
          "index": "1991-01-07T08:50:00",
          "location": "Nieuwe Maas Maeslantkering rivier",
          "state": "AfzinkenCPSE",
          "value": 4.594987314953577
         },
         {
          "comp1": 180,
          "comp2": -7,
          "index": "1991-01-07T09:00:00",
          "location": "Nieuwe Maas Maeslantkering rivier",
          "state": "AfzinkenCPSE",
          "value": 4.601348060788661
         },
         {
          "comp1": 180,
          "comp2": -7,
          "index": "1991-01-07T09:10:00",
          "location": "Nieuwe Maas Maeslantkering rivier",
          "state": "AfzinkenCPSE",
          "value": 4.593047681108376
         },
         {
          "comp1": 180,
          "comp2": -7,
          "index": "1991-01-07T09:20:00",
          "location": "Nieuwe Maas Maeslantkering rivier",
          "state": "AfzinkenCPSE",
          "value": 4.582994033310515
         },
         {
          "comp1": 180,
          "comp2": -7,
          "index": "1991-01-07T09:30:00",
          "location": "Nieuwe Maas Maeslantkering rivier",
          "state": "AfzinkenCPSE",
          "value": 4.563359608909888
         },
         {
          "comp1": 180,
          "comp2": -7,
          "index": "1991-01-07T09:40:00",
          "location": "Nieuwe Maas Maeslantkering rivier",
          "state": "AfzinkenCPSE",
          "value": 4.544093311932259
         },
         {
          "comp1": 180,
          "comp2": -7,
          "index": "1991-01-07T09:50:00",
          "location": "Nieuwe Maas Maeslantkering rivier",
          "state": "AfzinkenCPSE",
          "value": 4.5108901323356925
         },
         {
          "comp1": 180,
          "comp2": -7,
          "index": "1991-01-07T10:00:00",
          "location": "Nieuwe Maas Maeslantkering rivier",
          "state": "AfzinkenCPSE",
          "value": 4.47650635981644
         },
         {
          "comp1": 180,
          "comp2": -7,
          "index": "1991-01-07T10:10:00",
          "location": "Nieuwe Maas Maeslantkering rivier",
          "state": "AfzinkenCPSE",
          "value": 4.448124928872965
         },
         {
          "comp1": 180,
          "comp2": -7,
          "index": "1991-01-07T10:20:00",
          "location": "Nieuwe Maas Maeslantkering rivier",
          "state": "AfzinkenCPSE",
          "value": 4.417427860030421
         },
         {
          "comp1": 180,
          "comp2": -7,
          "index": "1991-01-07T10:30:00",
          "location": "Nieuwe Maas Maeslantkering rivier",
          "state": "AfzinkenCPSE",
          "value": 4.37826158847838
         },
         {
          "comp1": 180,
          "comp2": -7,
          "index": "1991-01-07T10:40:00",
          "location": "Nieuwe Maas Maeslantkering rivier",
          "state": "AfzinkenCPSE",
          "value": 4.324574096194705
         },
         {
          "comp1": 180,
          "comp2": -7,
          "index": "1991-01-07T10:50:00",
          "location": "Nieuwe Maas Maeslantkering rivier",
          "state": "AfzinkenCPSE",
          "value": 4.266750913039554
         },
         {
          "comp1": 180,
          "comp2": -7,
          "index": "1991-01-07T11:00:00",
          "location": "Nieuwe Maas Maeslantkering rivier",
          "state": "AfzinkenCPSE",
          "value": 4.215392278364715
         },
         {
          "comp1": 180,
          "comp2": -7,
          "index": "1991-01-07T11:10:00",
          "location": "Nieuwe Maas Maeslantkering rivier",
          "state": "AfzinkenCPSE",
          "value": 4.161081991704254
         },
         {
          "comp1": 180,
          "comp2": -7,
          "index": "1991-01-07T11:20:00",
          "location": "Nieuwe Maas Maeslantkering rivier",
          "state": "AfzinkenCPSE",
          "value": 4.098081346530175
         },
         {
          "comp1": 180,
          "comp2": -7,
          "index": "1991-01-07T11:30:00",
          "location": "Nieuwe Maas Maeslantkering rivier",
          "state": "AfzinkenCPSE",
          "value": 4.034305410260379
         },
         {
          "comp1": 180,
          "comp2": -7,
          "index": "1991-01-07T11:40:00",
          "location": "Nieuwe Maas Maeslantkering rivier",
          "state": "AfzinkenCPSE",
          "value": 3.9724285485497037
         },
         {
          "comp1": 180,
          "comp2": -7,
          "index": "1991-01-07T11:50:00",
          "location": "Nieuwe Maas Maeslantkering rivier",
          "state": "AfzinkenCPSE",
          "value": 3.9118726977822793
         },
         {
          "comp1": 180,
          "comp2": -7,
          "index": "1991-01-07T12:00:00",
          "location": "Nieuwe Maas Maeslantkering rivier",
          "state": "AfzinkenCPSE",
          "value": 3.8579102452266127
         },
         {
          "comp1": 180,
          "comp2": -7,
          "index": "1991-01-07T12:10:00",
          "location": "Nieuwe Maas Maeslantkering rivier",
          "state": "AfzinkenCPSE",
          "value": 3.8115374611328408
         },
         {
          "comp1": 180,
          "comp2": -7,
          "index": "1991-01-07T12:20:00",
          "location": "Nieuwe Maas Maeslantkering rivier",
          "state": "AfzinkenCPSE",
          "value": 3.7793455386986263
         },
         {
          "comp1": 180,
          "comp2": -7,
          "index": "1991-01-07T12:30:00",
          "location": "Nieuwe Maas Maeslantkering rivier",
          "state": "AfzinkenCPSE",
          "value": 3.7626420464814294
         },
         {
          "comp1": 180,
          "comp2": -7,
          "index": "1991-01-07T12:40:00",
          "location": "Nieuwe Maas Maeslantkering rivier",
          "state": "AfzinkenCPSE",
          "value": 3.7631781398670863
         },
         {
          "comp1": 180,
          "comp2": -7,
          "index": "1991-01-07T12:50:00",
          "location": "Nieuwe Maas Maeslantkering rivier",
          "state": "AfzinkenCPSE",
          "value": 3.7672164006746174
         },
         {
          "comp1": 180,
          "comp2": -7,
          "index": "1991-01-07T13:00:00",
          "location": "Nieuwe Maas Maeslantkering rivier",
          "state": "AfzinkenCPSE",
          "value": 3.7594252197672007
         },
         {
          "comp1": 180,
          "comp2": -7,
          "index": "1991-01-07T13:10:00",
          "location": "Nieuwe Maas Maeslantkering rivier",
          "state": "AfzinkenCPSE",
          "value": 3.744022981999466
         },
         {
          "comp1": 180,
          "comp2": -7,
          "index": "1991-01-07T13:20:00",
          "location": "Nieuwe Maas Maeslantkering rivier",
          "state": "AfzinkenCPSE",
          "value": 3.7269616973494424
         },
         {
          "comp1": 180,
          "comp2": -7,
          "index": "1991-01-07T13:30:00",
          "location": "Nieuwe Maas Maeslantkering rivier",
          "state": "AfzinkenCPSE",
          "value": 3.689440622040933
         },
         {
          "comp1": 180,
          "comp2": -7,
          "index": "1991-01-07T13:40:00",
          "location": "Nieuwe Maas Maeslantkering rivier",
          "state": "AfzinkenCPSE",
          "value": 3.631517409849114
         },
         {
          "comp1": 180,
          "comp2": -7,
          "index": "1991-01-07T13:50:00",
          "location": "Nieuwe Maas Maeslantkering rivier",
          "state": "AfzinkenCPSE",
          "value": 3.559712090618376
         },
         {
          "comp1": 180,
          "comp2": -7,
          "index": "1991-01-07T14:00:00",
          "location": "Nieuwe Maas Maeslantkering rivier",
          "state": "AfzinkenCPSE",
          "value": 3.495030075674105
         },
         {
          "comp1": 180,
          "comp2": -7,
          "index": "1991-01-07T14:10:00",
          "location": "Nieuwe Maas Maeslantkering rivier",
          "state": "AfzinkenCPSE",
          "value": 3.4447655154787102
         },
         {
          "comp1": 180,
          "comp2": -7,
          "index": "1991-01-07T14:20:00",
          "location": "Nieuwe Maas Maeslantkering rivier",
          "state": "AfzinkenCPSE",
          "value": 3.3993770405884356
         },
         {
          "comp1": 180,
          "comp2": -7,
          "index": "1991-01-07T14:30:00",
          "location": "Nieuwe Maas Maeslantkering rivier",
          "state": "AfzinkenCPSE",
          "value": 3.3516206384695657
         },
         {
          "comp1": 180,
          "comp2": -7,
          "index": "1991-01-07T14:40:00",
          "location": "Nieuwe Maas Maeslantkering rivier",
          "state": "AfzinkenCPSE",
          "value": 3.3115590966326454
         },
         {
          "comp1": 180,
          "comp2": -7,
          "index": "1991-01-07T14:50:00",
          "location": "Nieuwe Maas Maeslantkering rivier",
          "state": "AfzinkenCPSE",
          "value": 3.2779120320864603
         },
         {
          "comp1": 180,
          "comp2": -7,
          "index": "1991-01-07T15:00:00",
          "location": "Nieuwe Maas Maeslantkering rivier",
          "state": "AfzinkenCPSE",
          "value": 3.246460667162435
         },
         {
          "comp1": 180,
          "comp2": -7,
          "index": "1991-01-07T15:10:00",
          "location": "Nieuwe Maas Maeslantkering rivier",
          "state": "AfzinkenCPSE",
          "value": 3.211933807240329
         },
         {
          "comp1": 180,
          "comp2": -7,
          "index": "1991-01-07T15:20:00",
          "location": "Nieuwe Maas Maeslantkering rivier",
          "state": "AfzinkenCPSE",
          "value": 3.1782107265474253
         },
         {
          "comp1": 180,
          "comp2": -7,
          "index": "1991-01-07T15:30:00",
          "location": "Nieuwe Maas Maeslantkering rivier",
          "state": "AfzinkenCPSE",
          "value": 3.1478787115072113
         },
         {
          "comp1": 180,
          "comp2": -7,
          "index": "1991-01-07T15:40:00",
          "location": "Nieuwe Maas Maeslantkering rivier",
          "state": "AfzinkenCPSE",
          "value": 3.118442351580252
         },
         {
          "comp1": 180,
          "comp2": -7,
          "index": "1991-01-07T15:50:00",
          "location": "Nieuwe Maas Maeslantkering rivier",
          "state": "AfzinkenCPSE",
          "value": 3.0878880234197696
         },
         {
          "comp1": 180,
          "comp2": -7,
          "index": "1991-01-07T16:00:00",
          "location": "Nieuwe Maas Maeslantkering rivier",
          "state": "AfzinkenCPSE",
          "value": 3.0569211336586597
         },
         {
          "comp1": 180,
          "comp2": -7,
          "index": "1991-01-07T16:10:00",
          "location": "Nieuwe Maas Maeslantkering rivier",
          "state": "AfzinkenCPSE",
          "value": 3.040352326484136
         },
         {
          "comp1": 180,
          "comp2": -7,
          "index": "1991-01-07T16:20:00",
          "location": "Nieuwe Maas Maeslantkering rivier",
          "state": "AfzinkenCPSE",
          "value": 3.0325854050490935
         },
         {
          "comp1": 180,
          "comp2": -7,
          "index": "1991-01-07T16:30:00",
          "location": "Nieuwe Maas Maeslantkering rivier",
          "state": "AfzinkenCPSE",
          "value": 3.0313626287418742
         },
         {
          "comp1": 180,
          "comp2": -7,
          "index": "1991-01-07T16:40:00",
          "location": "Nieuwe Maas Maeslantkering rivier",
          "state": "AfzinkenCPSE",
          "value": 3.037237063341003
         },
         {
          "comp1": 180,
          "comp2": -7,
          "index": "1991-01-07T16:50:00",
          "location": "Nieuwe Maas Maeslantkering rivier",
          "state": "AfzinkenCPSE",
          "value": 3.0508982745060753
         },
         {
          "comp1": 180,
          "comp2": -7,
          "index": "1991-01-07T17:00:00",
          "location": "Nieuwe Maas Maeslantkering rivier",
          "state": "AfzinkenCPSE",
          "value": 3.0685381537613345
         },
         {
          "comp1": 180,
          "comp2": -7,
          "index": "1991-01-07T17:10:00",
          "location": "Nieuwe Maas Maeslantkering rivier",
          "state": "AfzinkenCPSE",
          "value": 3.1031260777741227
         },
         {
          "comp1": 180,
          "comp2": -7,
          "index": "1991-01-07T17:20:00",
          "location": "Nieuwe Maas Maeslantkering rivier",
          "state": "AfzinkenCPSE",
          "value": 3.150951256168277
         },
         {
          "comp1": 180,
          "comp2": -7,
          "index": "1991-01-07T17:30:00",
          "location": "Nieuwe Maas Maeslantkering rivier",
          "state": "AfzinkenCPSE",
          "value": 3.198124621343224
         },
         {
          "comp1": 180,
          "comp2": -7,
          "index": "1991-01-07T17:40:00",
          "location": "Nieuwe Maas Maeslantkering rivier",
          "state": "AfzinkenCPSE",
          "value": 3.259864536559803
         },
         {
          "comp1": 180,
          "comp2": -7,
          "index": "1991-01-07T17:50:00",
          "location": "Nieuwe Maas Maeslantkering rivier",
          "state": "AfzinkenCPSE",
          "value": 3.3240578934766414
         },
         {
          "comp1": 180,
          "comp2": -7,
          "index": "1991-01-07T18:00:00",
          "location": "Nieuwe Maas Maeslantkering rivier",
          "state": "AfzinkenCPSE",
          "value": 3.3961262509229977
         },
         {
          "comp1": 180,
          "comp2": -7,
          "index": "1991-01-07T18:10:00",
          "location": "Nieuwe Maas Maeslantkering rivier",
          "state": "AfzinkenCPSE",
          "value": 3.4691633047346273
         },
         {
          "comp1": 180,
          "comp2": -7,
          "index": "1991-01-07T18:20:00",
          "location": "Nieuwe Maas Maeslantkering rivier",
          "state": "AfzinkenCPSE",
          "value": 3.5334701909769475
         },
         {
          "comp1": 180,
          "comp2": -7,
          "index": "1991-01-07T18:30:00",
          "location": "Nieuwe Maas Maeslantkering rivier",
          "state": "AfzinkenCPSE",
          "value": 3.588655215858347
         },
         {
          "comp1": 180,
          "comp2": -7,
          "index": "1991-01-07T18:40:00",
          "location": "Nieuwe Maas Maeslantkering rivier",
          "state": "AfzinkenCPSE",
          "value": 3.634840670915741
         },
         {
          "comp1": 180,
          "comp2": -7,
          "index": "1991-01-07T18:50:00",
          "location": "Nieuwe Maas Maeslantkering rivier",
          "state": "AfzinkenCPSE",
          "value": 3.6532398043884355
         },
         {
          "comp1": 180,
          "comp2": -7,
          "index": "1991-01-07T19:00:00",
          "location": "Nieuwe Maas Maeslantkering rivier",
          "state": "AfzinkenCPSE",
          "value": 3.6419686162090805
         },
         {
          "comp1": 180,
          "comp2": -7,
          "index": "1991-01-07T19:10:00",
          "location": "Nieuwe Maas Maeslantkering rivier",
          "state": "AfzinkenCPSE",
          "value": 3.6054055777580656
         },
         {
          "comp1": 180,
          "comp2": -7,
          "index": "1991-01-07T19:20:00",
          "location": "Nieuwe Maas Maeslantkering rivier",
          "state": "AfzinkenCPSE",
          "value": 3.5602403136405436
         },
         {
          "comp1": 180,
          "comp2": -7,
          "index": "1991-01-07T19:30:00",
          "location": "Nieuwe Maas Maeslantkering rivier",
          "state": "AfzinkenCPSE",
          "value": 3.520427986795888
         },
         {
          "comp1": 180,
          "comp2": -7,
          "index": "1991-01-07T19:40:00",
          "location": "Nieuwe Maas Maeslantkering rivier",
          "state": "AfzinkenCPSE",
          "value": 3.484755599781601
         },
         {
          "comp1": 180,
          "comp2": -7,
          "index": "1991-01-07T19:50:00",
          "location": "Nieuwe Maas Maeslantkering rivier",
          "state": "AfzinkenCPSE",
          "value": 3.450166719316858
         },
         {
          "comp1": 180,
          "comp2": -7,
          "index": "1991-01-07T20:00:00",
          "location": "Nieuwe Maas Maeslantkering rivier",
          "state": "AfzinkenCPSE",
          "value": 3.4154057564668294
         },
         {
          "comp1": 180,
          "comp2": -7,
          "index": "1991-01-07T20:10:00",
          "location": "Nieuwe Maas Maeslantkering rivier",
          "state": "AfzinkenCPSE",
          "value": 3.381352960858529
         },
         {
          "comp1": 180,
          "comp2": -7,
          "index": "1991-01-07T20:20:00",
          "location": "Nieuwe Maas Maeslantkering rivier",
          "state": "AfzinkenCPSE",
          "value": 3.3482388197893793
         },
         {
          "comp1": 180,
          "comp2": -7,
          "index": "1991-01-07T20:30:00",
          "location": "Nieuwe Maas Maeslantkering rivier",
          "state": "AfzinkenCPSE",
          "value": 3.3115769585648396
         },
         {
          "comp1": 180,
          "comp2": -7,
          "index": "1991-01-07T20:40:00",
          "location": "Nieuwe Maas Maeslantkering rivier",
          "state": "AfzinkenCPSE",
          "value": 3.2633870068523985
         },
         {
          "comp1": 180,
          "comp2": -7,
          "index": "1991-01-07T20:50:00",
          "location": "Nieuwe Maas Maeslantkering rivier",
          "state": "AfzinkenCPSE",
          "value": 3.2048746975858604
         },
         {
          "comp1": 180,
          "comp2": -7,
          "index": "1991-01-07T21:00:00",
          "location": "Nieuwe Maas Maeslantkering rivier",
          "state": "AfzinkenCPSE",
          "value": 3.131953674544182
         },
         {
          "comp1": 180,
          "comp2": -7,
          "index": "1991-01-07T21:10:00",
          "location": "Nieuwe Maas Maeslantkering rivier",
          "state": "AfzinkenCPSE",
          "value": 3.039310618247008
         },
         {
          "comp1": 180,
          "comp2": -7,
          "index": "1991-01-07T21:20:00",
          "location": "Nieuwe Maas Maeslantkering rivier",
          "state": "AfzinkenCPSE",
          "value": 2.942981169356198
         },
         {
          "comp1": 180,
          "comp2": -7,
          "index": "1991-01-07T21:30:00",
          "location": "Nieuwe Maas Maeslantkering rivier",
          "state": "AfzinkenCPSE",
          "value": 2.840224909978263
         },
         {
          "comp1": 180,
          "comp2": -7,
          "index": "1991-01-07T21:40:00",
          "location": "Nieuwe Maas Maeslantkering rivier",
          "state": "AfzinkenCPSE",
          "value": 2.73391563808172
         },
         {
          "comp1": 180,
          "comp2": -7,
          "index": "1991-01-07T21:50:00",
          "location": "Nieuwe Maas Maeslantkering rivier",
          "state": "AfzinkenCPSE",
          "value": 2.618510939276572
         },
         {
          "comp1": 180,
          "comp2": -7,
          "index": "1991-01-07T22:00:00",
          "location": "Nieuwe Maas Maeslantkering rivier",
          "state": "AfzinkenCPSE",
          "value": 2.489980123349759
         },
         {
          "comp1": 180,
          "comp2": -7,
          "index": "1991-01-07T22:10:00",
          "location": "Nieuwe Maas Maeslantkering rivier",
          "state": "AfzinkenCPSE",
          "value": 2.3551666123370887
         },
         {
          "comp1": 180,
          "comp2": -7,
          "index": "1991-01-07T22:20:00",
          "location": "Nieuwe Maas Maeslantkering rivier",
          "state": "AfzinkenCPSE",
          "value": 2.2273823508221473
         },
         {
          "comp1": 180,
          "comp2": -7,
          "index": "1991-01-07T22:30:00",
          "location": "Nieuwe Maas Maeslantkering rivier",
          "state": "AfzinkenCPSE",
          "value": 2.1087526168578985
         },
         {
          "comp1": 180,
          "comp2": -12,
          "index": "1991-01-07T22:40:00",
          "location": "Nieuwe Maas Maeslantkering rivier",
          "state": "Opdrijven",
          "value": 1.9894340287328183
         },
         {
          "comp1": 180,
          "comp2": -12,
          "index": "1991-01-07T22:50:00",
          "location": "Nieuwe Maas Maeslantkering rivier",
          "state": "Opdrijven",
          "value": 1.8614135501067937
         },
         {
          "comp1": 180,
          "comp2": -12,
          "index": "1991-01-07T23:00:00",
          "location": "Nieuwe Maas Maeslantkering rivier",
          "state": "Opdrijven",
          "value": 1.730071656993301
         },
         {
          "comp1": 180,
          "comp2": -7,
          "index": "1991-01-07T23:10:00",
          "location": "Nieuwe Maas Maeslantkering rivier",
          "state": "Spuien",
          "value": 1.5962901927415893
         },
         {
          "comp1": 180,
          "comp2": -7,
          "index": "1991-01-07T23:20:00",
          "location": "Nieuwe Maas Maeslantkering rivier",
          "state": "Spuien",
          "value": 1.4630874388188113
         },
         {
          "comp1": 180,
          "comp2": -7,
          "index": "1991-01-07T23:30:00",
          "location": "Nieuwe Maas Maeslantkering rivier",
          "state": "Spuien",
          "value": 1.332161257677376
         },
         {
          "comp1": 180,
          "comp2": -7,
          "index": "1991-01-07T23:40:00",
          "location": "Nieuwe Maas Maeslantkering rivier",
          "state": "Spuien",
          "value": 1.21096455726028
         },
         {
          "comp1": 180,
          "comp2": -7,
          "index": "1991-01-07T23:50:00",
          "location": "Nieuwe Maas Maeslantkering rivier",
          "state": "Spuien",
          "value": 1.0956131736124555
         },
         {
          "comp1": 180,
          "comp2": -7,
          "index": "1991-01-08T00:00:00",
          "location": "Nieuwe Maas Maeslantkering rivier",
          "state": "Spuien",
          "value": 1.0759635598664639
         },
         {
          "comp1": 180,
          "comp2": -7,
          "index": "1991-01-08T00:10:00",
          "location": "Nieuwe Maas Maeslantkering rivier",
          "state": "Spuien",
          "value": 0.9988336956479739
         },
         {
          "comp1": 180,
          "comp2": -7,
          "index": "1991-01-08T00:20:00",
          "location": "Nieuwe Maas Maeslantkering rivier",
          "state": "Spuien",
          "value": 0.9267071885950047
         },
         {
          "comp1": 180,
          "comp2": -7,
          "index": "1991-01-08T00:30:00",
          "location": "Nieuwe Maas Maeslantkering rivier",
          "state": "Spuien",
          "value": 0.8466076216512292
         },
         {
          "comp1": 180,
          "comp2": -7,
          "index": "1991-01-08T00:40:00",
          "location": "Nieuwe Maas Maeslantkering rivier",
          "state": "Spuien",
          "value": 0.7806611308220222
         },
         {
          "comp1": 180,
          "comp2": -7,
          "index": "1991-01-08T00:50:00",
          "location": "Nieuwe Maas Maeslantkering rivier",
          "state": "Spuien",
          "value": 0.7301045608171448
         },
         {
          "comp1": 360,
          "comp2": -7,
          "index": "1991-01-08T01:00:00",
          "location": "Nieuwe Maas Maeslantkering rivier",
          "state": "HorizontaalOpenen",
          "value": 0.6802410153308478
         },
         {
          "comp1": 360,
          "comp2": -7,
          "index": "1991-01-08T01:00:00",
          "location": "Nieuwe Maas Maeslantkering rivier",
          "state": "Paraat",
          "value": 0.6802410153308478
         },
         {
          "comp1": 360,
          "comp2": -7,
          "index": "1991-01-08T01:00:00",
          "location": "Nieuwe Maas Maeslantkering rivier",
          "state": "ParkerenKw",
          "value": 0.6802410153308478
         },
         {
          "comp1": 360,
          "comp2": -7,
          "index": "1991-01-08T01:10:00",
          "location": "Nieuwe Maas Maeslantkering rivier",
          "state": "ParkerenKw",
          "value": 0.6344129620641746
         },
         {
          "comp1": 360,
          "comp2": -7,
          "index": "1991-01-08T01:20:00",
          "location": "Nieuwe Maas Maeslantkering rivier",
          "state": "ParkerenKw",
          "value": 0.5967417567189086
         },
         {
          "comp1": 360,
          "comp2": -7,
          "index": "1991-01-08T01:30:00",
          "location": "Nieuwe Maas Maeslantkering rivier",
          "state": "ParkerenKw",
          "value": 0.5607435841407996
         },
         {
          "comp1": 360,
          "comp2": -7,
          "index": "1991-01-08T01:40:00",
          "location": "Nieuwe Maas Maeslantkering rivier",
          "state": "ParkerenKw",
          "value": 0.5223341131845441
         },
         {
          "comp1": 360,
          "comp2": -7,
          "index": "1991-01-08T01:50:00",
          "location": "Nieuwe Maas Maeslantkering rivier",
          "state": "ParkerenKw",
          "value": 0.482798778817988
         },
         {
          "comp1": 360,
          "comp2": -7,
          "index": "1991-01-08T02:00:00",
          "location": "Nieuwe Maas Maeslantkering rivier",
          "state": "Alert",
          "value": 0.4378504247962625
         },
         {
          "comp1": 360,
          "comp2": -7,
          "index": "1991-01-08T02:10:00",
          "location": "Nieuwe Maas Maeslantkering rivier",
          "state": "Alert",
          "value": 0.38887924303944943
         },
         {
          "comp1": 360,
          "comp2": -7,
          "index": "1991-01-08T02:20:00",
          "location": "Nieuwe Maas Maeslantkering rivier",
          "state": "Gemobiliseerd",
          "value": 0.34040579721224423
         },
         {
          "comp1": 360,
          "comp2": -7,
          "index": "1991-01-08T02:20:00",
          "location": "Nieuwe Maas Maeslantkering rivier",
          "state": "Rust",
          "value": 0.34040579721224423
         },
         {
          "comp1": 360,
          "comp2": -7,
          "index": "1991-01-08T02:30:00",
          "location": "Nieuwe Maas Maeslantkering rivier",
          "state": "Rust",
          "value": 0.2890866278785068
         },
         {
          "comp1": 360,
          "comp2": -7,
          "index": "1991-01-08T02:40:00",
          "location": "Nieuwe Maas Maeslantkering rivier",
          "state": "Rust",
          "value": 0.2391379849260579
         },
         {
          "comp1": 360,
          "comp2": -7,
          "index": "1991-01-08T02:50:00",
          "location": "Nieuwe Maas Maeslantkering rivier",
          "state": "Rust",
          "value": 0.18972442681571738
         },
         {
          "comp1": 360,
          "comp2": -7,
          "index": "1991-01-08T03:00:00",
          "location": "Nieuwe Maas Maeslantkering rivier",
          "state": "Rust",
          "value": 0.14078688554005184
         },
         {
          "comp1": 360,
          "comp2": -7,
          "index": "1991-01-08T03:10:00",
          "location": "Nieuwe Maas Maeslantkering rivier",
          "state": "Rust",
          "value": 0.09489155421722
         },
         {
          "comp1": 360,
          "comp2": -7,
          "index": "1991-01-08T03:20:00",
          "location": "Nieuwe Maas Maeslantkering rivier",
          "state": "Rust",
          "value": 0.05012834690042775
         },
         {
          "comp1": 360,
          "comp2": -7,
          "index": "1991-01-08T03:30:00",
          "location": "Nieuwe Maas Maeslantkering rivier",
          "state": "Rust",
          "value": 0.005814572916652137
         },
         {
          "comp1": 360,
          "comp2": -7,
          "index": "1991-01-08T03:40:00",
          "location": "Nieuwe Maas Maeslantkering rivier",
          "state": "Rust",
          "value": -0.03856251471596669
         },
         {
          "comp1": 360,
          "comp2": -7,
          "index": "1991-01-08T03:50:00",
          "location": "Nieuwe Maas Maeslantkering rivier",
          "state": "Rust",
          "value": -0.0804585716002818
         },
         {
          "comp1": 360,
          "comp2": -7,
          "index": "1991-01-08T04:00:00",
          "location": "Nieuwe Maas Maeslantkering rivier",
          "state": "Rust",
          "value": -0.11638950767790991
         },
         {
          "comp1": 360,
          "comp2": -7,
          "index": "1991-01-08T04:10:00",
          "location": "Nieuwe Maas Maeslantkering rivier",
          "state": "Rust",
          "value": -0.14799642313753958
         },
         {
          "comp1": 360,
          "comp2": -7,
          "index": "1991-01-08T04:20:00",
          "location": "Nieuwe Maas Maeslantkering rivier",
          "state": "Rust",
          "value": -0.1752988130363079
         },
         {
          "comp1": 360,
          "comp2": -7,
          "index": "1991-01-08T04:30:00",
          "location": "Nieuwe Maas Maeslantkering rivier",
          "state": "Rust",
          "value": -0.19604776662885268
         },
         {
          "comp1": 360,
          "comp2": -7,
          "index": "1991-01-08T04:40:00",
          "location": "Nieuwe Maas Maeslantkering rivier",
          "state": "Rust",
          "value": -0.20917428554909998
         },
         {
          "comp1": 360,
          "comp2": -7,
          "index": "1991-01-08T04:50:00",
          "location": "Nieuwe Maas Maeslantkering rivier",
          "state": "Rust",
          "value": -0.21745975516305197
         },
         {
          "comp1": 360,
          "comp2": -7,
          "index": "1991-01-08T05:00:00",
          "location": "Nieuwe Maas Maeslantkering rivier",
          "state": "Rust",
          "value": -0.20788020958586287
         },
         {
          "comp1": 360,
          "comp2": -7,
          "index": "1991-01-08T05:10:00",
          "location": "Nieuwe Maas Maeslantkering rivier",
          "state": "Rust",
          "value": -0.17607042419528554
         },
         {
          "comp1": 360,
          "comp2": -7,
          "index": "1991-01-08T05:20:00",
          "location": "Nieuwe Maas Maeslantkering rivier",
          "state": "Rust",
          "value": -0.1330202471066466
         },
         {
          "comp1": 360,
          "comp2": -7,
          "index": "1991-01-08T05:30:00",
          "location": "Nieuwe Maas Maeslantkering rivier",
          "state": "Rust",
          "value": -0.07290249720234879
         },
         {
          "comp1": 360,
          "comp2": -7,
          "index": "1991-01-08T05:40:00",
          "location": "Nieuwe Maas Maeslantkering rivier",
          "state": "Rust",
          "value": 0.007525346252586419
         },
         {
          "comp1": 360,
          "comp2": -7,
          "index": "1991-01-08T05:50:00",
          "location": "Nieuwe Maas Maeslantkering rivier",
          "state": "Rust",
          "value": 0.1114567109442015
         },
         {
          "comp1": 360,
          "comp2": -7,
          "index": "1991-01-08T06:00:00",
          "location": "Nieuwe Maas Maeslantkering rivier",
          "state": "Rust",
          "value": 0.2377944060926077
         },
         {
          "comp1": 360,
          "comp2": -7,
          "index": "1991-01-08T06:10:00",
          "location": "Nieuwe Maas Maeslantkering rivier",
          "state": "Rust",
          "value": 0.35734828033672067
         },
         {
          "comp1": 360,
          "comp2": -7,
          "index": "1991-01-08T06:20:00",
          "location": "Nieuwe Maas Maeslantkering rivier",
          "state": "Rust",
          "value": 0.4704208062214355
         },
         {
          "comp1": 360,
          "comp2": -7,
          "index": "1991-01-08T06:30:00",
          "location": "Nieuwe Maas Maeslantkering rivier",
          "state": "Rust",
          "value": 0.601632816801561
         },
         {
          "comp1": 360,
          "comp2": -7,
          "index": "1991-01-08T06:40:00",
          "location": "Nieuwe Maas Maeslantkering rivier",
          "state": "Rust",
          "value": 0.7477352416451697
         },
         {
          "comp1": 360,
          "comp2": -7,
          "index": "1991-01-08T06:50:00",
          "location": "Nieuwe Maas Maeslantkering rivier",
          "state": "Rust",
          "value": 0.8963838715340883
         },
         {
          "comp1": 360,
          "comp2": -7,
          "index": "1991-01-08T07:00:00",
          "location": "Nieuwe Maas Maeslantkering rivier",
          "state": "Rust",
          "value": 1.0261111064562323
         },
         {
          "comp1": 360,
          "comp2": -7,
          "index": "1991-01-08T07:10:00",
          "location": "Nieuwe Maas Maeslantkering rivier",
          "state": "Rust",
          "value": 1.1129024535470562
         },
         {
          "comp1": 360,
          "comp2": -7,
          "index": "1991-01-08T07:20:00",
          "location": "Nieuwe Maas Maeslantkering rivier",
          "state": "Rust",
          "value": 1.1689436454918238
         },
         {
          "comp1": 360,
          "comp2": -7,
          "index": "1991-01-08T07:30:00",
          "location": "Nieuwe Maas Maeslantkering rivier",
          "state": "Rust",
          "value": 1.2034793962892623
         },
         {
          "comp1": 360,
          "comp2": -7,
          "index": "1991-01-08T07:40:00",
          "location": "Nieuwe Maas Maeslantkering rivier",
          "state": "Rust",
          "value": 1.222411199464115
         },
         {
          "comp1": 360,
          "comp2": -7,
          "index": "1991-01-08T07:50:00",
          "location": "Nieuwe Maas Maeslantkering rivier",
          "state": "Rust",
          "value": 1.21836762212638
         },
         {
          "comp1": 360,
          "comp2": -7,
          "index": "1991-01-08T08:00:00",
          "location": "Nieuwe Maas Maeslantkering rivier",
          "state": "Rust",
          "value": 1.200618966310464
         },
         {
          "comp1": 360,
          "comp2": -7,
          "index": "1991-01-08T08:10:00",
          "location": "Nieuwe Maas Maeslantkering rivier",
          "state": "Rust",
          "value": 1.1766437808595156
         },
         {
          "comp1": 360,
          "comp2": -7,
          "index": "1991-01-08T08:20:00",
          "location": "Nieuwe Maas Maeslantkering rivier",
          "state": "Rust",
          "value": 1.1478284049472238
         },
         {
          "comp1": 360,
          "comp2": -7,
          "index": "1991-01-08T08:30:00",
          "location": "Nieuwe Maas Maeslantkering rivier",
          "state": "Rust",
          "value": 1.113768086285146
         },
         {
          "comp1": 360,
          "comp2": -7,
          "index": "1991-01-08T08:40:00",
          "location": "Nieuwe Maas Maeslantkering rivier",
          "state": "Rust",
          "value": 1.083437329787301
         },
         {
          "comp1": 360,
          "comp2": -7,
          "index": "1991-01-08T08:50:00",
          "location": "Nieuwe Maas Maeslantkering rivier",
          "state": "Rust",
          "value": 1.0678054691415806
         },
         {
          "comp1": 360,
          "comp2": -7,
          "index": "1991-01-08T09:00:00",
          "location": "Nieuwe Maas Maeslantkering rivier",
          "state": "Rust",
          "value": 1.0590251787620828
         },
         {
          "comp1": 360,
          "comp2": -7,
          "index": "1991-01-08T09:10:00",
          "location": "Nieuwe Maas Maeslantkering rivier",
          "state": "Rust",
          "value": 1.0428699922513234
         },
         {
          "comp1": 360,
          "comp2": -7,
          "index": "1991-01-08T09:20:00",
          "location": "Nieuwe Maas Maeslantkering rivier",
          "state": "Rust",
          "value": 1.0150843504606002
         },
         {
          "comp1": 360,
          "comp2": -7,
          "index": "1991-01-08T09:30:00",
          "location": "Nieuwe Maas Maeslantkering rivier",
          "state": "Rust",
          "value": 0.9793341807368494
         },
         {
          "comp1": 360,
          "comp2": -7,
          "index": "1991-01-08T09:40:00",
          "location": "Nieuwe Maas Maeslantkering rivier",
          "state": "Rust",
          "value": 0.9406759283930928
         },
         {
          "comp1": 360,
          "comp2": -7,
          "index": "1991-01-08T09:50:00",
          "location": "Nieuwe Maas Maeslantkering rivier",
          "state": "Rust",
          "value": 0.8893809724632795
         },
         {
          "comp1": 360,
          "comp2": -7,
          "index": "1991-01-08T10:00:00",
          "location": "Nieuwe Maas Maeslantkering rivier",
          "state": "Rust",
          "value": 0.8298044608569796
         },
         {
          "comp1": 360,
          "comp2": -7,
          "index": "1991-01-08T10:10:00",
          "location": "Nieuwe Maas Maeslantkering rivier",
          "state": "Rust",
          "value": 0.7681706552412012
         },
         {
          "comp1": 360,
          "comp2": -7,
          "index": "1991-01-08T10:20:00",
          "location": "Nieuwe Maas Maeslantkering rivier",
          "state": "Rust",
          "value": 0.7020670260030127
         },
         {
          "comp1": 360,
          "comp2": -7,
          "index": "1991-01-08T10:30:00",
          "location": "Nieuwe Maas Maeslantkering rivier",
          "state": "Rust",
          "value": 0.6324346081414122
         },
         {
          "comp1": 360,
          "comp2": -7,
          "index": "1991-01-08T10:40:00",
          "location": "Nieuwe Maas Maeslantkering rivier",
          "state": "Rust",
          "value": 0.5532683761406275
         },
         {
          "comp1": 360,
          "comp2": -7,
          "index": "1991-01-08T10:50:00",
          "location": "Nieuwe Maas Maeslantkering rivier",
          "state": "Rust",
          "value": 0.46727740247679794
         },
         {
          "comp1": 360,
          "comp2": -7,
          "index": "1991-01-08T11:00:00",
          "location": "Nieuwe Maas Maeslantkering rivier",
          "state": "Rust",
          "value": 0.3820792195672644
         },
         {
          "comp1": 360,
          "comp2": -7,
          "index": "1991-01-08T11:10:00",
          "location": "Nieuwe Maas Maeslantkering rivier",
          "state": "Rust",
          "value": 0.2930276048975706
         },
         {
          "comp1": 360,
          "comp2": -7,
          "index": "1991-01-08T11:20:00",
          "location": "Nieuwe Maas Maeslantkering rivier",
          "state": "Rust",
          "value": 0.20557180501941985
         },
         {
          "comp1": 360,
          "comp2": -7,
          "index": "1991-01-08T11:30:00",
          "location": "Nieuwe Maas Maeslantkering rivier",
          "state": "Rust",
          "value": 0.12075400034470268
         },
         {
          "comp1": 360,
          "comp2": -7,
          "index": "1991-01-08T11:40:00",
          "location": "Nieuwe Maas Maeslantkering rivier",
          "state": "Rust",
          "value": 0.039029858276257094
         },
         {
          "comp1": 360,
          "comp2": -7,
          "index": "1991-01-08T11:50:00",
          "location": "Nieuwe Maas Maeslantkering rivier",
          "state": "Rust",
          "value": -0.03778569930547966
         },
         {
          "comp1": 360,
          "comp2": -7,
          "index": "1991-01-08T12:00:00",
          "location": "Nieuwe Maas Maeslantkering rivier",
          "state": "Rust",
          "value": -0.10966759017503469
         },
         {
          "comp1": 360,
          "comp2": -7,
          "index": "1991-01-08T12:10:00",
          "location": "Nieuwe Maas Maeslantkering rivier",
          "state": "Rust",
          "value": -0.1800859976295702
         },
         {
          "comp1": 360,
          "comp2": -7,
          "index": "1991-01-08T12:20:00",
          "location": "Nieuwe Maas Maeslantkering rivier",
          "state": "Rust",
          "value": -0.2462426962070676
         },
         {
          "comp1": 360,
          "comp2": -7,
          "index": "1991-01-08T12:30:00",
          "location": "Nieuwe Maas Maeslantkering rivier",
          "state": "Rust",
          "value": -0.3071057715667366
         },
         {
          "comp1": 360,
          "comp2": -7,
          "index": "1991-01-08T12:40:00",
          "location": "Nieuwe Maas Maeslantkering rivier",
          "state": "Rust",
          "value": -0.3604051325287012
         },
         {
          "comp1": 360,
          "comp2": -7,
          "index": "1991-01-08T12:50:00",
          "location": "Nieuwe Maas Maeslantkering rivier",
          "state": "Rust",
          "value": -0.4014408580662386
         },
         {
          "comp1": 360,
          "comp2": -7,
          "index": "1991-01-08T13:00:00",
          "location": "Nieuwe Maas Maeslantkering rivier",
          "state": "Rust",
          "value": -0.43479702821517063
         },
         {
          "comp1": 360,
          "comp2": -7,
          "index": "1991-01-08T13:10:00",
          "location": "Nieuwe Maas Maeslantkering rivier",
          "state": "Rust",
          "value": -0.45750897745495517
         },
         {
          "comp1": 360,
          "comp2": -7,
          "index": "1991-01-08T13:20:00",
          "location": "Nieuwe Maas Maeslantkering rivier",
          "state": "Rust",
          "value": -0.4697928416340581
         },
         {
          "comp1": 360,
          "comp2": -7,
          "index": "1991-01-08T13:30:00",
          "location": "Nieuwe Maas Maeslantkering rivier",
          "state": "Rust",
          "value": -0.47380967374710287
         },
         {
          "comp1": 360,
          "comp2": -7,
          "index": "1991-01-08T13:40:00",
          "location": "Nieuwe Maas Maeslantkering rivier",
          "state": "Rust",
          "value": -0.4687456689896027
         },
         {
          "comp1": 360,
          "comp2": -7,
          "index": "1991-01-08T13:50:00",
          "location": "Nieuwe Maas Maeslantkering rivier",
          "state": "Rust",
          "value": -0.4626857293772485
         },
         {
          "comp1": 360,
          "comp2": -7,
          "index": "1991-01-08T14:00:00",
          "location": "Nieuwe Maas Maeslantkering rivier",
          "state": "Rust",
          "value": -0.4570743858262927
         },
         {
          "comp1": 360,
          "comp2": -7,
          "index": "1991-01-08T14:10:00",
          "location": "Nieuwe Maas Maeslantkering rivier",
          "state": "Rust",
          "value": -0.45109274987013376
         },
         {
          "comp1": 360,
          "comp2": -7,
          "index": "1991-01-08T14:20:00",
          "location": "Nieuwe Maas Maeslantkering rivier",
          "state": "Rust",
          "value": -0.44941925081648104
         },
         {
          "comp1": 360,
          "comp2": -7,
          "index": "1991-01-08T14:30:00",
          "location": "Nieuwe Maas Maeslantkering rivier",
          "state": "Rust",
          "value": -0.4553925137394968
         },
         {
          "comp1": 360,
          "comp2": -7,
          "index": "1991-01-08T14:40:00",
          "location": "Nieuwe Maas Maeslantkering rivier",
          "state": "Rust",
          "value": -0.4645439964075112
         },
         {
          "comp1": 360,
          "comp2": -7,
          "index": "1991-01-08T14:50:00",
          "location": "Nieuwe Maas Maeslantkering rivier",
          "state": "Rust",
          "value": -0.47565459975440194
         },
         {
          "comp1": 360,
          "comp2": -7,
          "index": "1991-01-08T15:00:00",
          "location": "Nieuwe Maas Maeslantkering rivier",
          "state": "Rust",
          "value": -0.4834124084911882
         },
         {
          "comp1": 360,
          "comp2": -7,
          "index": "1991-01-08T15:10:00",
          "location": "Nieuwe Maas Maeslantkering rivier",
          "state": "Rust",
          "value": -0.4889357607762518
         },
         {
          "comp1": 360,
          "comp2": -7,
          "index": "1991-01-08T15:20:00",
          "location": "Nieuwe Maas Maeslantkering rivier",
          "state": "Rust",
          "value": -0.49344148340143007
         },
         {
          "comp1": 360,
          "comp2": -7,
          "index": "1991-01-08T15:30:00",
          "location": "Nieuwe Maas Maeslantkering rivier",
          "state": "Rust",
          "value": -0.4950936805716513
         },
         {
          "comp1": 360,
          "comp2": -7,
          "index": "1991-01-08T15:40:00",
          "location": "Nieuwe Maas Maeslantkering rivier",
          "state": "Rust",
          "value": -0.4944543985035603
         },
         {
          "comp1": 360,
          "comp2": -7,
          "index": "1991-01-08T15:50:00",
          "location": "Nieuwe Maas Maeslantkering rivier",
          "state": "Rust",
          "value": -0.4922961086469966
         },
         {
          "comp1": 360,
          "comp2": -7,
          "index": "1991-01-08T16:00:00",
          "location": "Nieuwe Maas Maeslantkering rivier",
          "state": "Rust",
          "value": -0.489523601062274
         },
         {
          "comp1": 360,
          "comp2": -7,
          "index": "1991-01-08T16:10:00",
          "location": "Nieuwe Maas Maeslantkering rivier",
          "state": "Rust",
          "value": -0.4853904226480649
         },
         {
          "comp1": 360,
          "comp2": -7,
          "index": "1991-01-08T16:20:00",
          "location": "Nieuwe Maas Maeslantkering rivier",
          "state": "Rust",
          "value": -0.47862152112682343
         },
         {
          "comp1": 360,
          "comp2": -7,
          "index": "1991-01-08T16:30:00",
          "location": "Nieuwe Maas Maeslantkering rivier",
          "state": "Rust",
          "value": -0.46674154454537575
         },
         {
          "comp1": 360,
          "comp2": -7,
          "index": "1991-01-08T16:40:00",
          "location": "Nieuwe Maas Maeslantkering rivier",
          "state": "Rust",
          "value": -0.4477067873030583
         },
         {
          "comp1": 360,
          "comp2": -7,
          "index": "1991-01-08T16:50:00",
          "location": "Nieuwe Maas Maeslantkering rivier",
          "state": "Rust",
          "value": -0.4233959062515006
         },
         {
          "comp1": 360,
          "comp2": -7,
          "index": "1991-01-08T17:00:00",
          "location": "Nieuwe Maas Maeslantkering rivier",
          "state": "Rust",
          "value": -0.38909278524993396
         },
         {
          "comp1": 360,
          "comp2": -7,
          "index": "1991-01-08T17:10:00",
          "location": "Nieuwe Maas Maeslantkering rivier",
          "state": "Rust",
          "value": -0.3468230091127167
         },
         {
          "comp1": 360,
          "comp2": -7,
          "index": "1991-01-08T17:20:00",
          "location": "Nieuwe Maas Maeslantkering rivier",
          "state": "Rust",
          "value": -0.29775327804464113
         },
         {
          "comp1": 360,
          "comp2": -7,
          "index": "1991-01-08T17:30:00",
          "location": "Nieuwe Maas Maeslantkering rivier",
          "state": "Rust",
          "value": -0.24341039979451892
         },
         {
          "comp1": 360,
          "comp2": -7,
          "index": "1991-01-08T17:40:00",
          "location": "Nieuwe Maas Maeslantkering rivier",
          "state": "Rust",
          "value": -0.18541421476864386
         },
         {
          "comp1": 360,
          "comp2": -7,
          "index": "1991-01-08T17:50:00",
          "location": "Nieuwe Maas Maeslantkering rivier",
          "state": "Rust",
          "value": -0.12198147129007055
         },
         {
          "comp1": 360,
          "comp2": -7,
          "index": "1991-01-08T18:00:00",
          "location": "Nieuwe Maas Maeslantkering rivier",
          "state": "Rust",
          "value": -0.04023199872063074
         },
         {
          "comp1": 360,
          "comp2": -7,
          "index": "1991-01-08T18:10:00",
          "location": "Nieuwe Maas Maeslantkering rivier",
          "state": "Rust",
          "value": 0.0582642883306488
         },
         {
          "comp1": 360,
          "comp2": -7,
          "index": "1991-01-08T18:20:00",
          "location": "Nieuwe Maas Maeslantkering rivier",
          "state": "Rust",
          "value": 0.17338055874430325
         },
         {
          "comp1": 360,
          "comp2": -7,
          "index": "1991-01-08T18:30:00",
          "location": "Nieuwe Maas Maeslantkering rivier",
          "state": "Rust",
          "value": 0.31773534813246956
         },
         {
          "comp1": 360,
          "comp2": -7,
          "index": "1991-01-08T18:40:00",
          "location": "Nieuwe Maas Maeslantkering rivier",
          "state": "Rust",
          "value": 0.46812184287363934
         },
         {
          "comp1": 360,
          "comp2": -7,
          "index": "1991-01-08T18:50:00",
          "location": "Nieuwe Maas Maeslantkering rivier",
          "state": "Rust",
          "value": 0.6156844138906343
         },
         {
          "comp1": 360,
          "comp2": -7,
          "index": "1991-01-08T19:00:00",
          "location": "Nieuwe Maas Maeslantkering rivier",
          "state": "Rust",
          "value": 0.7547003089551638
         },
         {
          "comp1": 360,
          "comp2": -7,
          "index": "1991-01-08T19:10:00",
          "location": "Nieuwe Maas Maeslantkering rivier",
          "state": "Rust",
          "value": 0.880722749081485
         },
         {
          "comp1": 360,
          "comp2": -7,
          "index": "1991-01-08T19:20:00",
          "location": "Nieuwe Maas Maeslantkering rivier",
          "state": "Rust",
          "value": 0.9914312670342019
         },
         {
          "comp1": 360,
          "comp2": -7,
          "index": "1991-01-08T19:30:00",
          "location": "Nieuwe Maas Maeslantkering rivier",
          "state": "Rust",
          "value": 1.090333068561793
         },
         {
          "comp1": 360,
          "comp2": -7,
          "index": "1991-01-08T19:40:00",
          "location": "Nieuwe Maas Maeslantkering rivier",
          "state": "Rust",
          "value": 1.1577582993091302
         },
         {
          "comp1": 360,
          "comp2": -7,
          "index": "1991-01-08T19:50:00",
          "location": "Nieuwe Maas Maeslantkering rivier",
          "state": "Rust",
          "value": 1.1932545009154765
         },
         {
          "comp1": 360,
          "comp2": -7,
          "index": "1991-01-08T20:00:00",
          "location": "Nieuwe Maas Maeslantkering rivier",
          "state": "Rust",
          "value": 1.2004507409869678
         },
         {
          "comp1": 360,
          "comp2": -7,
          "index": "1991-01-08T20:10:00",
          "location": "Nieuwe Maas Maeslantkering rivier",
          "state": "Rust",
          "value": 1.1900633247351045
         },
         {
          "comp1": 360,
          "comp2": -7,
          "index": "1991-01-08T20:20:00",
          "location": "Nieuwe Maas Maeslantkering rivier",
          "state": "Rust",
          "value": 1.1774730254422372
         },
         {
          "comp1": 360,
          "comp2": -7,
          "index": "1991-01-08T20:30:00",
          "location": "Nieuwe Maas Maeslantkering rivier",
          "state": "Rust",
          "value": 1.1656055052322254
         },
         {
          "comp1": 360,
          "comp2": -7,
          "index": "1991-01-08T20:40:00",
          "location": "Nieuwe Maas Maeslantkering rivier",
          "state": "Rust",
          "value": 1.1560194797051635
         },
         {
          "comp1": 360,
          "comp2": -7,
          "index": "1991-01-08T20:50:00",
          "location": "Nieuwe Maas Maeslantkering rivier",
          "state": "Rust",
          "value": 1.146373893481536
         },
         {
          "comp1": 360,
          "comp2": -7,
          "index": "1991-01-08T21:00:00",
          "location": "Nieuwe Maas Maeslantkering rivier",
          "state": "Rust",
          "value": 1.1345776846059055
         },
         {
          "comp1": 360,
          "comp2": -7,
          "index": "1991-01-08T21:10:00",
          "location": "Nieuwe Maas Maeslantkering rivier",
          "state": "Rust",
          "value": 1.1221220173778454
         },
         {
          "comp1": 360,
          "comp2": -7,
          "index": "1991-01-08T21:20:00",
          "location": "Nieuwe Maas Maeslantkering rivier",
          "state": "Rust",
          "value": 1.1080862546277892
         },
         {
          "comp1": 360,
          "comp2": -7,
          "index": "1991-01-08T21:30:00",
          "location": "Nieuwe Maas Maeslantkering rivier",
          "state": "Rust",
          "value": 1.0849583626496389
         },
         {
          "comp1": 360,
          "comp2": -7,
          "index": "1991-01-08T21:40:00",
          "location": "Nieuwe Maas Maeslantkering rivier",
          "state": "Rust",
          "value": 1.0519264035418274
         },
         {
          "comp1": 360,
          "comp2": -7,
          "index": "1991-01-08T21:50:00",
          "location": "Nieuwe Maas Maeslantkering rivier",
          "state": "Rust",
          "value": 1.010833667410199
         },
         {
          "comp1": 360,
          "comp2": -7,
          "index": "1991-01-08T22:00:00",
          "location": "Nieuwe Maas Maeslantkering rivier",
          "state": "Rust",
          "value": 0.9639025052245066
         },
         {
          "comp1": 360,
          "comp2": -7,
          "index": "1991-01-08T22:10:00",
          "location": "Nieuwe Maas Maeslantkering rivier",
          "state": "Rust",
          "value": 0.9091089560264922
         },
         {
          "comp1": 360,
          "comp2": -7,
          "index": "1991-01-08T22:20:00",
          "location": "Nieuwe Maas Maeslantkering rivier",
          "state": "Rust",
          "value": 0.8457650996466367
         },
         {
          "comp1": 360,
          "comp2": -7,
          "index": "1991-01-08T22:30:00",
          "location": "Nieuwe Maas Maeslantkering rivier",
          "state": "Rust",
          "value": 0.7802358920076722
         },
         {
          "comp1": 360,
          "comp2": -7,
          "index": "1991-01-08T22:40:00",
          "location": "Nieuwe Maas Maeslantkering rivier",
          "state": "Rust",
          "value": 0.7145351971686549
         },
         {
          "comp1": 360,
          "comp2": -7,
          "index": "1991-01-08T22:50:00",
          "location": "Nieuwe Maas Maeslantkering rivier",
          "state": "Rust",
          "value": 0.6472535709852719
         },
         {
          "comp1": 360,
          "comp2": -7,
          "index": "1991-01-08T23:00:00",
          "location": "Nieuwe Maas Maeslantkering rivier",
          "state": "Rust",
          "value": 0.5786724874387542
         },
         {
          "comp1": 360,
          "comp2": -7,
          "index": "1991-01-08T23:10:00",
          "location": "Nieuwe Maas Maeslantkering rivier",
          "state": "Rust",
          "value": 0.5099542254953794
         },
         {
          "comp1": 360,
          "comp2": -7,
          "index": "1991-01-08T23:20:00",
          "location": "Nieuwe Maas Maeslantkering rivier",
          "state": "Rust",
          "value": 0.4455964185487345
         },
         {
          "comp1": 360,
          "comp2": -7,
          "index": "1991-01-08T23:30:00",
          "location": "Nieuwe Maas Maeslantkering rivier",
          "state": "Rust",
          "value": 0.37707692024981776
         },
         {
          "comp1": 360,
          "comp2": -7,
          "index": "1991-01-08T23:40:00",
          "location": "Nieuwe Maas Maeslantkering rivier",
          "state": "Rust",
          "value": 0.3042067374947613
         },
         {
          "comp1": 360,
          "comp2": -7,
          "index": "1991-01-08T23:50:00",
          "location": "Nieuwe Maas Maeslantkering rivier",
          "state": "Rust",
          "value": 0.22924848278905013
         },
         {
          "comp1": 360,
          "comp2": -7,
          "index": "1991-01-09T00:00:00",
          "location": "Nieuwe Maas Maeslantkering rivier",
          "state": "Rust",
          "value": 0.14869167693455237
         },
         {
          "comp1": 360,
          "comp2": -7,
          "index": "1991-01-09T00:10:00",
          "location": "Nieuwe Maas Maeslantkering rivier",
          "state": "Rust",
          "value": 0.06141082712067817
         },
         {
          "comp1": 360,
          "comp2": -7,
          "index": "1991-01-09T00:20:00",
          "location": "Nieuwe Maas Maeslantkering rivier",
          "state": "Rust",
          "value": -0.026143689694108928
         },
         {
          "comp1": 360,
          "comp2": -7,
          "index": "1991-01-09T00:30:00",
          "location": "Nieuwe Maas Maeslantkering rivier",
          "state": "Rust",
          "value": -0.10888449562274222
         },
         {
          "comp1": 360,
          "comp2": -7,
          "index": "1991-01-09T00:40:00",
          "location": "Nieuwe Maas Maeslantkering rivier",
          "state": "Rust",
          "value": -0.18684851747687886
         },
         {
          "comp1": 360,
          "comp2": -7,
          "index": "1991-01-09T00:50:00",
          "location": "Nieuwe Maas Maeslantkering rivier",
          "state": "Rust",
          "value": -0.2602844925961558
         },
         {
          "comp1": 360,
          "comp2": -7,
          "index": "1991-01-09T01:00:00",
          "location": "Nieuwe Maas Maeslantkering rivier",
          "state": "Rust",
          "value": -0.3281224060894723
         },
         {
          "comp1": 360,
          "comp2": -7,
          "index": "1991-01-09T01:10:00",
          "location": "Nieuwe Maas Maeslantkering rivier",
          "state": "Rust",
          "value": -0.38531071103623055
         },
         {
          "comp1": 360,
          "comp2": -7,
          "index": "1991-01-09T01:20:00",
          "location": "Nieuwe Maas Maeslantkering rivier",
          "state": "Rust",
          "value": -0.4255116655500114
         },
         {
          "comp1": 360,
          "comp2": -7,
          "index": "1991-01-09T01:30:00",
          "location": "Nieuwe Maas Maeslantkering rivier",
          "state": "Rust",
          "value": -0.4439551245270736
         },
         {
          "comp1": 360,
          "comp2": -7,
          "index": "1991-01-09T01:40:00",
          "location": "Nieuwe Maas Maeslantkering rivier",
          "state": "Rust",
          "value": -0.44714254789454144
         },
         {
          "comp1": 360,
          "comp2": -7,
          "index": "1991-01-09T01:50:00",
          "location": "Nieuwe Maas Maeslantkering rivier",
          "state": "Rust",
          "value": -0.4492161303518226
         },
         {
          "comp1": 360,
          "comp2": -7,
          "index": "1991-01-09T02:00:00",
          "location": "Nieuwe Maas Maeslantkering rivier",
          "state": "Rust",
          "value": -0.45268872993458426
         },
         {
          "comp1": 360,
          "comp2": -7,
          "index": "1991-01-09T02:10:00",
          "location": "Nieuwe Maas Maeslantkering rivier",
          "state": "Rust",
          "value": -0.45525490379265593
         },
         {
          "comp1": 360,
          "comp2": -7,
          "index": "1991-01-09T02:20:00",
          "location": "Nieuwe Maas Maeslantkering rivier",
          "state": "Rust",
          "value": -0.45606607140140587
         },
         {
          "comp1": 360,
          "comp2": -7,
          "index": "1991-01-09T02:30:00",
          "location": "Nieuwe Maas Maeslantkering rivier",
          "state": "Rust",
          "value": -0.45775109150113447
         },
         {
          "comp1": 360,
          "comp2": -7,
          "index": "1991-01-09T02:40:00",
          "location": "Nieuwe Maas Maeslantkering rivier",
          "state": "Rust",
          "value": -0.46020711684942767
         },
         {
          "comp1": 360,
          "comp2": -7,
          "index": "1991-01-09T02:50:00",
          "location": "Nieuwe Maas Maeslantkering rivier",
          "state": "Rust",
          "value": -0.4685030434440634
         },
         {
          "comp1": 360,
          "comp2": -7,
          "index": "1991-01-09T03:00:00",
          "location": "Nieuwe Maas Maeslantkering rivier",
          "state": "Rust",
          "value": -0.47995627288607057
         },
         {
          "comp1": 360,
          "comp2": -7,
          "index": "1991-01-09T03:10:00",
          "location": "Nieuwe Maas Maeslantkering rivier",
          "state": "Rust",
          "value": -0.49024194252428344
         },
         {
          "comp1": 360,
          "comp2": -7,
          "index": "1991-01-09T03:20:00",
          "location": "Nieuwe Maas Maeslantkering rivier",
          "state": "Rust",
          "value": -0.5006124648797127
         },
         {
          "comp1": 360,
          "comp2": -7,
          "index": "1991-01-09T03:30:00",
          "location": "Nieuwe Maas Maeslantkering rivier",
          "state": "Rust",
          "value": -0.5078695320852123
         },
         {
          "comp1": 360,
          "comp2": -7,
          "index": "1991-01-09T03:40:00",
          "location": "Nieuwe Maas Maeslantkering rivier",
          "state": "Rust",
          "value": -0.514376189396472
         },
         {
          "comp1": 360,
          "comp2": -7,
          "index": "1991-01-09T03:50:00",
          "location": "Nieuwe Maas Maeslantkering rivier",
          "state": "Rust",
          "value": -0.5193721497031992
         },
         {
          "comp1": 360,
          "comp2": -7,
          "index": "1991-01-09T04:00:00",
          "location": "Nieuwe Maas Maeslantkering rivier",
          "state": "Rust",
          "value": -0.5211642841231421
         },
         {
          "comp1": 360,
          "comp2": -7,
          "index": "1991-01-09T04:10:00",
          "location": "Nieuwe Maas Maeslantkering rivier",
          "state": "Rust",
          "value": -0.5216262340584942
         },
         {
          "comp1": 360,
          "comp2": -7,
          "index": "1991-01-09T04:20:00",
          "location": "Nieuwe Maas Maeslantkering rivier",
          "state": "Rust",
          "value": -0.5216426444175152
         },
         {
          "comp1": 360,
          "comp2": -7,
          "index": "1991-01-09T04:30:00",
          "location": "Nieuwe Maas Maeslantkering rivier",
          "state": "Rust",
          "value": -0.5211363899011338
         },
         {
          "comp1": 360,
          "comp2": -7,
          "index": "1991-01-09T04:40:00",
          "location": "Nieuwe Maas Maeslantkering rivier",
          "state": "Rust",
          "value": -0.5174070291617492
         },
         {
          "comp1": 360,
          "comp2": -7,
          "index": "1991-01-09T04:50:00",
          "location": "Nieuwe Maas Maeslantkering rivier",
          "state": "Rust",
          "value": -0.5069422259090139
         },
         {
          "comp1": 360,
          "comp2": -7,
          "index": "1991-01-09T05:00:00",
          "location": "Nieuwe Maas Maeslantkering rivier",
          "state": "Rust",
          "value": -0.4911640138007617
         },
         {
          "comp1": 360,
          "comp2": -7,
          "index": "1991-01-09T05:10:00",
          "location": "Nieuwe Maas Maeslantkering rivier",
          "state": "Rust",
          "value": -0.47007412020359945
         },
         {
          "comp1": 360,
          "comp2": -7,
          "index": "1991-01-09T05:20:00",
          "location": "Nieuwe Maas Maeslantkering rivier",
          "state": "Rust",
          "value": -0.44110283182924825
         },
         {
          "comp1": 360,
          "comp2": -7,
          "index": "1991-01-09T05:30:00",
          "location": "Nieuwe Maas Maeslantkering rivier",
          "state": "Rust",
          "value": -0.4008747639256905
         },
         {
          "comp1": 360,
          "comp2": -7,
          "index": "1991-01-09T05:40:00",
          "location": "Nieuwe Maas Maeslantkering rivier",
          "state": "Rust",
          "value": -0.3542050841332874
         },
         {
          "comp1": 360,
          "comp2": -7,
          "index": "1991-01-09T05:50:00",
          "location": "Nieuwe Maas Maeslantkering rivier",
          "state": "Rust",
          "value": -0.30263754397691595
         },
         {
          "comp1": 360,
          "comp2": -7,
          "index": "1991-01-09T06:00:00",
          "location": "Nieuwe Maas Maeslantkering rivier",
          "state": "Rust",
          "value": -0.24513506470076527
         },
         {
          "comp1": 360,
          "comp2": -7,
          "index": "1991-01-09T06:10:00",
          "location": "Nieuwe Maas Maeslantkering rivier",
          "state": "Rust",
          "value": -0.1797438534791363
         },
         {
          "comp1": 360,
          "comp2": -7,
          "index": "1991-01-09T06:20:00",
          "location": "Nieuwe Maas Maeslantkering rivier",
          "state": "Rust",
          "value": -0.09985295711680539
         },
         {
          "comp1": 360,
          "comp2": -7,
          "index": "1991-01-09T06:30:00",
          "location": "Nieuwe Maas Maeslantkering rivier",
          "state": "Rust",
          "value": -0.0017508163478251325
         },
         {
          "comp1": 360,
          "comp2": -7,
          "index": "1991-01-09T06:40:00",
          "location": "Nieuwe Maas Maeslantkering rivier",
          "state": "Rust",
          "value": 0.1162064857348775
         },
         {
          "comp1": 360,
          "comp2": -7,
          "index": "1991-01-09T06:50:00",
          "location": "Nieuwe Maas Maeslantkering rivier",
          "state": "Rust",
          "value": 0.25300387365383686
         },
         {
          "comp1": 360,
          "comp2": -7,
          "index": "1991-01-09T07:00:00",
          "location": "Nieuwe Maas Maeslantkering rivier",
          "state": "Rust",
          "value": 0.39772828680118766
         },
         {
          "comp1": 360,
          "comp2": -7,
          "index": "1991-01-09T07:10:00",
          "location": "Nieuwe Maas Maeslantkering rivier",
          "state": "Rust",
          "value": 0.5445320728161629
         },
         {
          "comp1": 360,
          "comp2": -7,
          "index": "1991-01-09T07:20:00",
          "location": "Nieuwe Maas Maeslantkering rivier",
          "state": "Rust",
          "value": 0.6872570156494957
         },
         {
          "comp1": 360,
          "comp2": -7,
          "index": "1991-01-09T07:30:00",
          "location": "Nieuwe Maas Maeslantkering rivier",
          "state": "Rust",
          "value": 0.8184797382604814
         },
         {
          "comp1": 360,
          "comp2": -7,
          "index": "1991-01-09T07:40:00",
          "location": "Nieuwe Maas Maeslantkering rivier",
          "state": "Rust",
          "value": 0.9338558312354147
         },
         {
          "comp1": 360,
          "comp2": -7,
          "index": "1991-01-09T07:50:00",
          "location": "Nieuwe Maas Maeslantkering rivier",
          "state": "Rust",
          "value": 1.0329468570430584
         },
         {
          "comp1": 360,
          "comp2": -7,
          "index": "1991-01-09T08:00:00",
          "location": "Nieuwe Maas Maeslantkering rivier",
          "state": "Rust",
          "value": 1.107937638763453
         },
         {
          "comp1": 360,
          "comp2": -7,
          "index": "1991-01-09T08:10:00",
          "location": "Nieuwe Maas Maeslantkering rivier",
          "state": "Rust",
          "value": 1.1555121919858002
         },
         {
          "comp1": 360,
          "comp2": -7,
          "index": "1991-01-09T08:20:00",
          "location": "Nieuwe Maas Maeslantkering rivier",
          "state": "Rust",
          "value": 1.1773853587800376
         },
         {
          "comp1": 360,
          "comp2": -7,
          "index": "1991-01-09T08:30:00",
          "location": "Nieuwe Maas Maeslantkering rivier",
          "state": "Rust",
          "value": 1.1810413457653868
         },
         {
          "comp1": 360,
          "comp2": -7,
          "index": "1991-01-09T08:40:00",
          "location": "Nieuwe Maas Maeslantkering rivier",
          "state": "Rust",
          "value": 1.1739271984816269
         },
         {
          "comp1": 360,
          "comp2": -7,
          "index": "1991-01-09T08:50:00",
          "location": "Nieuwe Maas Maeslantkering rivier",
          "state": "Rust",
          "value": 1.165148300495387
         },
         {
          "comp1": 360,
          "comp2": -7,
          "index": "1991-01-09T09:00:00",
          "location": "Nieuwe Maas Maeslantkering rivier",
          "state": "Rust",
          "value": 1.15765171489669
         },
         {
          "comp1": 360,
          "comp2": -7,
          "index": "1991-01-09T09:10:00",
          "location": "Nieuwe Maas Maeslantkering rivier",
          "state": "Rust",
          "value": 1.1483029610966218
         },
         {
          "comp1": 360,
          "comp2": -7,
          "index": "1991-01-09T09:20:00",
          "location": "Nieuwe Maas Maeslantkering rivier",
          "state": "Rust",
          "value": 1.1361638077630365
         },
         {
          "comp1": 360,
          "comp2": -7,
          "index": "1991-01-09T09:30:00",
          "location": "Nieuwe Maas Maeslantkering rivier",
          "state": "Rust",
          "value": 1.1222480054666253
         },
         {
          "comp1": 360,
          "comp2": -7,
          "index": "1991-01-09T09:40:00",
          "location": "Nieuwe Maas Maeslantkering rivier",
          "state": "Rust",
          "value": 1.103257368825578
         },
         {
          "comp1": 360,
          "comp2": -7,
          "index": "1991-01-09T09:50:00",
          "location": "Nieuwe Maas Maeslantkering rivier",
          "state": "Rust",
          "value": 1.0771861208725304
         },
         {
          "comp1": 360,
          "comp2": -7,
          "index": "1991-01-09T10:00:00",
          "location": "Nieuwe Maas Maeslantkering rivier",
          "state": "Rust",
          "value": 1.0439966404354941
         },
         {
          "comp1": 360,
          "comp2": -7,
          "index": "1991-01-09T10:10:00",
          "location": "Nieuwe Maas Maeslantkering rivier",
          "state": "Rust",
          "value": 1.0042619922718776
         },
         {
          "comp1": 360,
          "comp2": -7,
          "index": "1991-01-09T10:20:00",
          "location": "Nieuwe Maas Maeslantkering rivier",
          "state": "Rust",
          "value": 0.9614569777783142
         },
         {
          "comp1": 360,
          "comp2": -7,
          "index": "1991-01-09T10:30:00",
          "location": "Nieuwe Maas Maeslantkering rivier",
          "state": "Rust",
          "value": 0.9122278103589134
         },
         {
          "comp1": 360,
          "comp2": -7,
          "index": "1991-01-09T10:40:00",
          "location": "Nieuwe Maas Maeslantkering rivier",
          "state": "Rust",
          "value": 0.8549717655567598
         },
         {
          "comp1": 360,
          "comp2": -7,
          "index": "1991-01-09T10:50:00",
          "location": "Nieuwe Maas Maeslantkering rivier",
          "state": "Rust",
          "value": 0.784566888593086
         },
         {
          "comp1": 360,
          "comp2": -7,
          "index": "1991-01-09T11:00:00",
          "location": "Nieuwe Maas Maeslantkering rivier",
          "state": "Rust",
          "value": 0.718184099129117
         },
         {
          "comp1": 360,
          "comp2": -7,
          "index": "1991-01-09T11:10:00",
          "location": "Nieuwe Maas Maeslantkering rivier",
          "state": "Rust",
          "value": 0.6509208703829432
         },
         {
          "comp1": 360,
          "comp2": -7,
          "index": "1991-01-09T11:20:00",
          "location": "Nieuwe Maas Maeslantkering rivier",
          "state": "Rust",
          "value": 0.5872030439791873
         },
         {
          "comp1": 360,
          "comp2": -7,
          "index": "1991-01-09T11:30:00",
          "location": "Nieuwe Maas Maeslantkering rivier",
          "state": "Rust",
          "value": 0.521233385826885
         },
         {
          "comp1": 360,
          "comp2": -7,
          "index": "1991-01-09T11:40:00",
          "location": "Nieuwe Maas Maeslantkering rivier",
          "state": "Rust",
          "value": 0.4568088860457556
         },
         {
          "comp1": 360,
          "comp2": -7,
          "index": "1991-01-09T11:50:00",
          "location": "Nieuwe Maas Maeslantkering rivier",
          "state": "Rust",
          "value": 0.3968248863063638
         },
         {
          "comp1": 360,
          "comp2": -7,
          "index": "1991-01-09T12:00:00",
          "location": "Nieuwe Maas Maeslantkering rivier",
          "state": "Rust",
          "value": 0.3335896715719095
         },
         {
          "comp1": 360,
          "comp2": -7,
          "index": "1991-01-09T12:10:00",
          "location": "Nieuwe Maas Maeslantkering rivier",
          "state": "Rust",
          "value": 0.2661663206626273
         },
         {
          "comp1": 360,
          "comp2": -7,
          "index": "1991-01-09T12:20:00",
          "location": "Nieuwe Maas Maeslantkering rivier",
          "state": "Rust",
          "value": 0.19255659333246924
         },
         {
          "comp1": 360,
          "comp2": -7,
          "index": "1991-01-09T12:30:00",
          "location": "Nieuwe Maas Maeslantkering rivier",
          "state": "Rust",
          "value": 0.11436058248784493
         },
         {
          "comp1": 360,
          "comp2": -7,
          "index": "1991-01-09T12:40:00",
          "location": "Nieuwe Maas Maeslantkering rivier",
          "state": "Rust",
          "value": 0.03382721242517117
         },
         {
          "comp1": 360,
          "comp2": -7,
          "index": "1991-01-09T12:50:00",
          "location": "Nieuwe Maas Maeslantkering rivier",
          "state": "Rust",
          "value": -0.04834461607869292
         },
         {
          "comp1": 360,
          "comp2": -7,
          "index": "1991-01-09T13:00:00",
          "location": "Nieuwe Maas Maeslantkering rivier",
          "state": "Rust",
          "value": -0.13268317533474192
         },
         {
          "comp1": 360,
          "comp2": -7,
          "index": "1991-01-09T13:10:00",
          "location": "Nieuwe Maas Maeslantkering rivier",
          "state": "Rust",
          "value": -0.21347147565586858
         },
         {
          "comp1": 360,
          "comp2": -7,
          "index": "1991-01-09T13:20:00",
          "location": "Nieuwe Maas Maeslantkering rivier",
          "state": "Rust",
          "value": -0.2878564285583694
         },
         {
          "comp1": 360,
          "comp2": -7,
          "index": "1991-01-09T13:30:00",
          "location": "Nieuwe Maas Maeslantkering rivier",
          "state": "Rust",
          "value": -0.3520361093765313
         },
         {
          "comp1": 360,
          "comp2": -7,
          "index": "1991-01-09T13:40:00",
          "location": "Nieuwe Maas Maeslantkering rivier",
          "state": "Rust",
          "value": -0.40147150898466644
         },
         {
          "comp1": 360,
          "comp2": -7,
          "index": "1991-01-09T13:50:00",
          "location": "Nieuwe Maas Maeslantkering rivier",
          "state": "Rust",
          "value": -0.43900374338220316
         },
         {
          "comp1": 360,
          "comp2": -7,
          "index": "1991-01-09T14:00:00",
          "location": "Nieuwe Maas Maeslantkering rivier",
          "state": "Rust",
          "value": -0.4639362376388364
         },
         {
          "comp1": 360,
          "comp2": -7,
          "index": "1991-01-09T14:10:00",
          "location": "Nieuwe Maas Maeslantkering rivier",
          "state": "Rust",
          "value": -0.47723101829627956
         },
         {
          "comp1": 360,
          "comp2": -7,
          "index": "1991-01-09T14:20:00",
          "location": "Nieuwe Maas Maeslantkering rivier",
          "state": "Rust",
          "value": -0.4774346878749463
         },
         {
          "comp1": 360,
          "comp2": -7,
          "index": "1991-01-09T14:30:00",
          "location": "Nieuwe Maas Maeslantkering rivier",
          "state": "Rust",
          "value": -0.46579397019253416
         },
         {
          "comp1": 360,
          "comp2": -7,
          "index": "1991-01-09T14:40:00",
          "location": "Nieuwe Maas Maeslantkering rivier",
          "state": "Rust",
          "value": -0.45464826785468215
         },
         {
          "comp1": 360,
          "comp2": -7,
          "index": "1991-01-09T14:50:00",
          "location": "Nieuwe Maas Maeslantkering rivier",
          "state": "Rust",
          "value": -0.44924325365029144
         },
         {
          "comp1": 360,
          "comp2": -7,
          "index": "1991-01-09T15:00:00",
          "location": "Nieuwe Maas Maeslantkering rivier",
          "state": "Rust",
          "value": -0.44901183757316315
         },
         {
          "comp1": 360,
          "comp2": -7,
          "index": "1991-01-09T15:10:00",
          "location": "Nieuwe Maas Maeslantkering rivier",
          "state": "Rust",
          "value": -0.45488692168727674
         },
         {
          "comp1": 360,
          "comp2": -7,
          "index": "1991-01-09T15:20:00",
          "location": "Nieuwe Maas Maeslantkering rivier",
          "state": "Rust",
          "value": -0.4664846785156941
         },
         {
          "comp1": 360,
          "comp2": -7,
          "index": "1991-01-09T15:30:00",
          "location": "Nieuwe Maas Maeslantkering rivier",
          "state": "Rust",
          "value": -0.47912307074320065
         },
         {
          "comp1": 360,
          "comp2": -7,
          "index": "1991-01-09T15:40:00",
          "location": "Nieuwe Maas Maeslantkering rivier",
          "state": "Rust",
          "value": -0.49253716077778675
         },
         {
          "comp1": 360,
          "comp2": -7,
          "index": "1991-01-09T15:50:00",
          "location": "Nieuwe Maas Maeslantkering rivier",
          "state": "Rust",
          "value": -0.5043957530364394
         },
         {
          "comp1": 360,
          "comp2": -7,
          "index": "1991-01-09T16:00:00",
          "location": "Nieuwe Maas Maeslantkering rivier",
          "state": "Rust",
          "value": -0.5150681380194869
         },
         {
          "comp1": 360,
          "comp2": -7,
          "index": "1991-01-09T16:10:00",
          "location": "Nieuwe Maas Maeslantkering rivier",
          "state": "Rust",
          "value": -0.5229785082970498
         },
         {
          "comp1": 360,
          "comp2": -7,
          "index": "1991-01-09T16:20:00",
          "location": "Nieuwe Maas Maeslantkering rivier",
          "state": "Rust",
          "value": -0.5263869261777732
         },
         {
          "comp1": 360,
          "comp2": -7,
          "index": "1991-01-09T16:30:00",
          "location": "Nieuwe Maas Maeslantkering rivier",
          "state": "Rust",
          "value": -0.5267038466170364
         },
         {
          "comp1": 360,
          "comp2": -7,
          "index": "1991-01-09T16:40:00",
          "location": "Nieuwe Maas Maeslantkering rivier",
          "state": "Rust",
          "value": -0.5257608071378612
         },
         {
          "comp1": 360,
          "comp2": -7,
          "index": "1991-01-09T16:50:00",
          "location": "Nieuwe Maas Maeslantkering rivier",
          "state": "Rust",
          "value": -0.5248296454334349
         },
         {
          "comp1": 360,
          "comp2": -7,
          "index": "1991-01-09T17:00:00",
          "location": "Nieuwe Maas Maeslantkering rivier",
          "state": "Rust",
          "value": -0.5220003833725947
         },
         {
          "comp1": 360,
          "comp2": -7,
          "index": "1991-01-09T17:10:00",
          "location": "Nieuwe Maas Maeslantkering rivier",
          "state": "Rust",
          "value": -0.5163478562767674
         },
         {
          "comp1": 360,
          "comp2": -7,
          "index": "1991-01-09T17:20:00",
          "location": "Nieuwe Maas Maeslantkering rivier",
          "state": "Rust",
          "value": -0.5052903792681516
         },
         {
          "comp1": 360,
          "comp2": -7,
          "index": "1991-01-09T17:30:00",
          "location": "Nieuwe Maas Maeslantkering rivier",
          "state": "Rust",
          "value": -0.48692128126616885
         },
         {
          "comp1": 360,
          "comp2": -7,
          "index": "1991-01-09T17:40:00",
          "location": "Nieuwe Maas Maeslantkering rivier",
          "state": "Rust",
          "value": -0.46222938982395295
         },
         {
          "comp1": 360,
          "comp2": -7,
          "index": "1991-01-09T17:50:00",
          "location": "Nieuwe Maas Maeslantkering rivier",
          "state": "Rust",
          "value": -0.4268295790229845
         },
         {
          "comp1": 360,
          "comp2": -7,
          "index": "1991-01-09T18:00:00",
          "location": "Nieuwe Maas Maeslantkering rivier",
          "state": "Rust",
          "value": -0.3835389055689957
         },
         {
          "comp1": 360,
          "comp2": -7,
          "index": "1991-01-09T18:10:00",
          "location": "Nieuwe Maas Maeslantkering rivier",
          "state": "Rust",
          "value": -0.33466281010881094
         },
         {
          "comp1": 360,
          "comp2": -7,
          "index": "1991-01-09T18:20:00",
          "location": "Nieuwe Maas Maeslantkering rivier",
          "state": "Rust",
          "value": -0.28088771530536794
         },
         {
          "comp1": 360,
          "comp2": -7,
          "index": "1991-01-09T18:30:00",
          "location": "Nieuwe Maas Maeslantkering rivier",
          "state": "Rust",
          "value": -0.2195314686742901
         },
         {
          "comp1": 360,
          "comp2": -7,
          "index": "1991-01-09T18:40:00",
          "location": "Nieuwe Maas Maeslantkering rivier",
          "state": "Rust",
          "value": -0.14831714483939568
         },
         {
          "comp1": 360,
          "comp2": -7,
          "index": "1991-01-09T18:50:00",
          "location": "Nieuwe Maas Maeslantkering rivier",
          "state": "Rust",
          "value": -0.05561664963291547
         },
         {
          "comp1": 360,
          "comp2": -7,
          "index": "1991-01-09T19:00:00",
          "location": "Nieuwe Maas Maeslantkering rivier",
          "state": "Rust",
          "value": 0.0558800726307353
         },
         {
          "comp1": 360,
          "comp2": -7,
          "index": "1991-01-09T19:10:00",
          "location": "Nieuwe Maas Maeslantkering rivier",
          "state": "Rust",
          "value": 0.18385024978468675
         },
         {
          "comp1": 360,
          "comp2": -7,
          "index": "1991-01-09T19:20:00",
          "location": "Nieuwe Maas Maeslantkering rivier",
          "state": "Rust",
          "value": 0.32683947128708113
         },
         {
          "comp1": 360,
          "comp2": -7,
          "index": "1991-01-09T19:30:00",
          "location": "Nieuwe Maas Maeslantkering rivier",
          "state": "Rust",
          "value": 0.47324456169060386
         },
         {
          "comp1": 360,
          "comp2": -7,
          "index": "1991-01-09T19:40:00",
          "location": "Nieuwe Maas Maeslantkering rivier",
          "state": "Rust",
          "value": 0.6139227921964161
         },
         {
          "comp1": 360,
          "comp2": -7,
          "index": "1991-01-09T19:50:00",
          "location": "Nieuwe Maas Maeslantkering rivier",
          "state": "Rust",
          "value": 0.744208006902996
         },
         {
          "comp1": 360,
          "comp2": -7,
          "index": "1991-01-09T20:00:00",
          "location": "Nieuwe Maas Maeslantkering rivier",
          "state": "Rust",
          "value": 0.8653323963570501
         },
         {
          "comp1": 360,
          "comp2": -7,
          "index": "1991-01-09T20:10:00",
          "location": "Nieuwe Maas Maeslantkering rivier",
          "state": "Rust",
          "value": 0.9703471470433653
         },
         {
          "comp1": 360,
          "comp2": -7,
          "index": "1991-01-09T20:20:00",
          "location": "Nieuwe Maas Maeslantkering rivier",
          "state": "Rust",
          "value": 1.0638524579237045
         },
         {
          "comp1": 360,
          "comp2": -7,
          "index": "1991-01-09T20:30:00",
          "location": "Nieuwe Maas Maeslantkering rivier",
          "state": "Rust",
          "value": 1.128258789544894
         },
         {
          "comp1": 360,
          "comp2": -7,
          "index": "1991-01-09T20:40:00",
          "location": "Nieuwe Maas Maeslantkering rivier",
          "state": "Rust",
          "value": 1.1659437281927651
         },
         {
          "comp1": 360,
          "comp2": -7,
          "index": "1991-01-09T20:50:00",
          "location": "Nieuwe Maas Maeslantkering rivier",
          "state": "Rust",
          "value": 1.1819848792831515
         },
         {
          "comp1": 360,
          "comp2": -7,
          "index": "1991-01-09T21:00:00",
          "location": "Nieuwe Maas Maeslantkering rivier",
          "state": "Rust",
          "value": 1.1802381524509409
         },
         {
          "comp1": 360,
          "comp2": -7,
          "index": "1991-01-09T21:10:00",
          "location": "Nieuwe Maas Maeslantkering rivier",
          "state": "Rust",
          "value": 1.170346695093993
         },
         {
          "comp1": 360,
          "comp2": -7,
          "index": "1991-01-09T21:20:00",
          "location": "Nieuwe Maas Maeslantkering rivier",
          "state": "Rust",
          "value": 1.1569150130803048
         },
         {
          "comp1": 360,
          "comp2": -7,
          "index": "1991-01-09T21:30:00",
          "location": "Nieuwe Maas Maeslantkering rivier",
          "state": "Rust",
          "value": 1.1459803943329376
         },
         {
          "comp1": 360,
          "comp2": -7,
          "index": "1991-01-09T21:40:00",
          "location": "Nieuwe Maas Maeslantkering rivier",
          "state": "Rust",
          "value": 1.133099152253408
         },
         {
          "comp1": 360,
          "comp2": -7,
          "index": "1991-01-09T21:50:00",
          "location": "Nieuwe Maas Maeslantkering rivier",
          "state": "Rust",
          "value": 1.1165944385689808
         },
         {
          "comp1": 360,
          "comp2": -7,
          "index": "1991-01-09T22:00:00",
          "location": "Nieuwe Maas Maeslantkering rivier",
          "state": "Rust",
          "value": 1.098165832110801
         },
         {
          "comp1": 360,
          "comp2": -7,
          "index": "1991-01-09T22:10:00",
          "location": "Nieuwe Maas Maeslantkering rivier",
          "state": "Rust",
          "value": 1.0785192692043954
         },
         {
          "comp1": 360,
          "comp2": -7,
          "index": "1991-01-09T22:20:00",
          "location": "Nieuwe Maas Maeslantkering rivier",
          "state": "Rust",
          "value": 1.0529249640026337
         },
         {
          "comp1": 360,
          "comp2": -7,
          "index": "1991-01-09T22:30:00",
          "location": "Nieuwe Maas Maeslantkering rivier",
          "state": "Rust",
          "value": 1.0188149556663093
         },
         {
          "comp1": 360,
          "comp2": -7,
          "index": "1991-01-09T22:40:00",
          "location": "Nieuwe Maas Maeslantkering rivier",
          "state": "Rust",
          "value": 0.9764565338779809
         },
         {
          "comp1": 360,
          "comp2": -7,
          "index": "1991-01-09T22:50:00",
          "location": "Nieuwe Maas Maeslantkering rivier",
          "state": "Rust",
          "value": 0.9239830317803915
         },
         {
          "comp1": 360,
          "comp2": -7,
          "index": "1991-01-09T23:00:00",
          "location": "Nieuwe Maas Maeslantkering rivier",
          "state": "Rust",
          "value": 0.8697210842336948
         },
         {
          "comp1": 360,
          "comp2": -7,
          "index": "1991-01-09T23:10:00",
          "location": "Nieuwe Maas Maeslantkering rivier",
          "state": "Rust",
          "value": 0.8094224387586255
         },
         {
          "comp1": 360,
          "comp2": -7,
          "index": "1991-01-09T23:20:00",
          "location": "Nieuwe Maas Maeslantkering rivier",
          "state": "Rust",
          "value": 0.7373815242063145
         },
         {
          "comp1": 360,
          "comp2": -7,
          "index": "1991-01-09T23:30:00",
          "location": "Nieuwe Maas Maeslantkering rivier",
          "state": "Rust",
          "value": 0.6667377927919577
         },
         {
          "comp1": 360,
          "comp2": -7,
          "index": "1991-01-09T23:40:00",
          "location": "Nieuwe Maas Maeslantkering rivier",
          "state": "Rust",
          "value": 0.5967538806010717
         },
         {
          "comp1": 360,
          "comp2": -7,
          "index": "1991-01-09T23:50:00",
          "location": "Nieuwe Maas Maeslantkering rivier",
          "state": "Rust",
          "value": 0.5306192900572622
         },
         {
          "comp1": 360,
          "comp2": -7,
          "index": "1991-01-10T00:00:00",
          "location": "Nieuwe Maas Maeslantkering rivier",
          "state": "Rust",
          "value": 0.4647722716851111
         },
         {
          "comp1": 360,
          "comp2": -7,
          "index": "1991-01-10T00:10:00",
          "location": "Nieuwe Maas Maeslantkering rivier",
          "state": "Rust",
          "value": 0.4043252686824767
         },
         {
          "comp1": 360,
          "comp2": -7,
          "index": "1991-01-10T00:20:00",
          "location": "Nieuwe Maas Maeslantkering rivier",
          "state": "Rust",
          "value": 0.3444297388454083
         },
         {
          "comp1": 360,
          "comp2": -7,
          "index": "1991-01-10T00:30:00",
          "location": "Nieuwe Maas Maeslantkering rivier",
          "state": "Rust",
          "value": 0.2837957060055765
         },
         {
          "comp1": 360,
          "comp2": -7,
          "index": "1991-01-10T00:40:00",
          "location": "Nieuwe Maas Maeslantkering rivier",
          "state": "Rust",
          "value": 0.22174844886350176
         },
         {
          "comp1": 360,
          "comp2": -7,
          "index": "1991-01-10T00:50:00",
          "location": "Nieuwe Maas Maeslantkering rivier",
          "state": "Rust",
          "value": 0.15422525615986088
         },
         {
          "comp1": 360,
          "comp2": -7,
          "index": "1991-01-10T01:00:00",
          "location": "Nieuwe Maas Maeslantkering rivier",
          "state": "Rust",
          "value": 0.07839136944812221
         },
         {
          "comp1": 360,
          "comp2": -7,
          "index": "1991-01-10T01:10:00",
          "location": "Nieuwe Maas Maeslantkering rivier",
          "state": "Rust",
          "value": -0.0030628005407961753
         },
         {
          "comp1": 360,
          "comp2": -7,
          "index": "1991-01-10T01:20:00",
          "location": "Nieuwe Maas Maeslantkering rivier",
          "state": "Rust",
          "value": -0.08472473431403689
         },
         {
          "comp1": 360,
          "comp2": -7,
          "index": "1991-01-10T01:30:00",
          "location": "Nieuwe Maas Maeslantkering rivier",
          "state": "Rust",
          "value": -0.16552527157850433
         },
         {
          "comp1": 360,
          "comp2": -7,
          "index": "1991-01-10T01:40:00",
          "location": "Nieuwe Maas Maeslantkering rivier",
          "state": "Rust",
          "value": -0.2435731007554675
         },
         {
          "comp1": 360,
          "comp2": -7,
          "index": "1991-01-10T01:50:00",
          "location": "Nieuwe Maas Maeslantkering rivier",
          "state": "Rust",
          "value": -0.31523608739496334
         },
         {
          "comp1": 360,
          "comp2": -7,
          "index": "1991-01-10T02:00:00",
          "location": "Nieuwe Maas Maeslantkering rivier",
          "state": "Rust",
          "value": -0.3746255807791312
         },
         {
          "comp1": 360,
          "comp2": -7,
          "index": "1991-01-10T02:10:00",
          "location": "Nieuwe Maas Maeslantkering rivier",
          "state": "Rust",
          "value": -0.41829027439041533
         },
         {
          "comp1": 360,
          "comp2": -7,
          "index": "1991-01-10T02:20:00",
          "location": "Nieuwe Maas Maeslantkering rivier",
          "state": "Rust",
          "value": -0.4471400886243934
         },
         {
          "comp1": 360,
          "comp2": -7,
          "index": "1991-01-10T02:30:00",
          "location": "Nieuwe Maas Maeslantkering rivier",
          "state": "Rust",
          "value": -0.46389666858516165
         },
         {
          "comp1": 360,
          "comp2": -7,
          "index": "1991-01-10T02:40:00",
          "location": "Nieuwe Maas Maeslantkering rivier",
          "state": "Rust",
          "value": -0.4729889713499953
         },
         {
          "comp1": 360,
          "comp2": -7,
          "index": "1991-01-10T02:50:00",
          "location": "Nieuwe Maas Maeslantkering rivier",
          "state": "Rust",
          "value": -0.4740510715315501
         },
         {
          "comp1": 360,
          "comp2": -7,
          "index": "1991-01-10T03:00:00",
          "location": "Nieuwe Maas Maeslantkering rivier",
          "state": "Rust",
          "value": -0.46883284600823383
         },
         {
          "comp1": 360,
          "comp2": -7,
          "index": "1991-01-10T03:10:00",
          "location": "Nieuwe Maas Maeslantkering rivier",
          "state": "Rust",
          "value": -0.460243156670392
         },
         {
          "comp1": 360,
          "comp2": -7,
          "index": "1991-01-10T03:20:00",
          "location": "Nieuwe Maas Maeslantkering rivier",
          "state": "Rust",
          "value": -0.45403787873397883
         }
        ],
        "data-ca3655b0878f28ad80095f96957e094c": [
         {
          "comp1": null,
          "comp2": null,
          "index": "1991-01-05T03:20:00",
          "location": "Nieuwe Waterweg Maeslantkering zee",
          "state": null,
          "value": 1.3388391328403506
         },
         {
          "comp1": null,
          "comp2": null,
          "index": "1991-01-05T03:30:00",
          "location": "Nieuwe Waterweg Maeslantkering zee",
          "state": null,
          "value": 1.1170664782192552
         },
         {
          "comp1": null,
          "comp2": null,
          "index": "1991-01-05T03:40:00",
          "location": "Nieuwe Waterweg Maeslantkering zee",
          "state": null,
          "value": 0.7759028766971459
         },
         {
          "comp1": null,
          "comp2": null,
          "index": "1991-01-05T03:50:00",
          "location": "Nieuwe Waterweg Maeslantkering zee",
          "state": null,
          "value": 0.6502717769673362
         },
         {
          "comp1": null,
          "comp2": null,
          "index": "1991-01-05T04:00:00",
          "location": "Nieuwe Waterweg Maeslantkering zee",
          "state": null,
          "value": 0.6615691151047228
         },
         {
          "comp1": null,
          "comp2": null,
          "index": "1991-01-05T04:10:00",
          "location": "Nieuwe Waterweg Maeslantkering zee",
          "state": null,
          "value": 0.7200790070447948
         },
         {
          "comp1": 360,
          "comp2": -7,
          "index": "1991-01-05T04:20:00",
          "location": "Nieuwe Waterweg Maeslantkering zee",
          "state": "Rust",
          "value": 0.8218889132839957
         },
         {
          "comp1": 360,
          "comp2": -7,
          "index": "1991-01-05T04:30:00",
          "location": "Nieuwe Waterweg Maeslantkering zee",
          "state": "Rust",
          "value": 0.9768887301472597
         },
         {
          "comp1": 360,
          "comp2": -7,
          "index": "1991-01-05T04:40:00",
          "location": "Nieuwe Waterweg Maeslantkering zee",
          "state": "Rust",
          "value": 1.1505301568264774
         },
         {
          "comp1": 360,
          "comp2": -7,
          "index": "1991-01-05T04:50:00",
          "location": "Nieuwe Waterweg Maeslantkering zee",
          "state": "Rust",
          "value": 1.310727426610893
         },
         {
          "comp1": 360,
          "comp2": -7,
          "index": "1991-01-05T05:00:00",
          "location": "Nieuwe Waterweg Maeslantkering zee",
          "state": "Rust",
          "value": 1.3947692118187343
         },
         {
          "comp1": 360,
          "comp2": -7,
          "index": "1991-01-05T05:10:00",
          "location": "Nieuwe Waterweg Maeslantkering zee",
          "state": "Rust",
          "value": 1.3752387538458115
         },
         {
          "comp1": 360,
          "comp2": -7,
          "index": "1991-01-05T05:20:00",
          "location": "Nieuwe Waterweg Maeslantkering zee",
          "state": "Rust",
          "value": 1.314697300844879
         },
         {
          "comp1": 360,
          "comp2": -7,
          "index": "1991-01-05T05:30:00",
          "location": "Nieuwe Waterweg Maeslantkering zee",
          "state": "Rust",
          "value": 1.2538574949420527
         },
         {
          "comp1": 360,
          "comp2": -7,
          "index": "1991-01-05T05:40:00",
          "location": "Nieuwe Waterweg Maeslantkering zee",
          "state": "Rust",
          "value": 1.1974660770643357
         },
         {
          "comp1": 360,
          "comp2": -7,
          "index": "1991-01-05T05:50:00",
          "location": "Nieuwe Waterweg Maeslantkering zee",
          "state": "Rust",
          "value": 1.1502343365842047
         },
         {
          "comp1": 360,
          "comp2": -7,
          "index": "1991-01-05T06:00:00",
          "location": "Nieuwe Waterweg Maeslantkering zee",
          "state": "Rust",
          "value": 1.1041959540692854
         },
         {
          "comp1": 360,
          "comp2": -7,
          "index": "1991-01-05T06:10:00",
          "location": "Nieuwe Waterweg Maeslantkering zee",
          "state": "Rust",
          "value": 1.0600035558749241
         },
         {
          "comp1": 360,
          "comp2": -7,
          "index": "1991-01-05T06:20:00",
          "location": "Nieuwe Waterweg Maeslantkering zee",
          "state": "Rust",
          "value": 1.0322795379427006
         },
         {
          "comp1": 360,
          "comp2": -7,
          "index": "1991-01-05T06:30:00",
          "location": "Nieuwe Waterweg Maeslantkering zee",
          "state": "Rust",
          "value": 1.0339483272565353
         },
         {
          "comp1": 360,
          "comp2": -7,
          "index": "1991-01-05T06:40:00",
          "location": "Nieuwe Waterweg Maeslantkering zee",
          "state": "Rust",
          "value": 1.0410542186656175
         },
         {
          "comp1": 360,
          "comp2": -7,
          "index": "1991-01-05T06:50:00",
          "location": "Nieuwe Waterweg Maeslantkering zee",
          "state": "Rust",
          "value": 1.0336965496230461
         },
         {
          "comp1": 360,
          "comp2": -7,
          "index": "1991-01-05T07:00:00",
          "location": "Nieuwe Waterweg Maeslantkering zee",
          "state": "Rust",
          "value": 1.0044084857147886
         },
         {
          "comp1": 360,
          "comp2": -7,
          "index": "1991-01-05T07:10:00",
          "location": "Nieuwe Waterweg Maeslantkering zee",
          "state": "Rust",
          "value": 0.9499289820725365
         },
         {
          "comp1": 360,
          "comp2": -7,
          "index": "1991-01-05T07:20:00",
          "location": "Nieuwe Waterweg Maeslantkering zee",
          "state": "Rust",
          "value": 0.8673159979304254
         },
         {
          "comp1": 360,
          "comp2": -7,
          "index": "1991-01-05T07:30:00",
          "location": "Nieuwe Waterweg Maeslantkering zee",
          "state": "Rust",
          "value": 0.7702905069382592
         },
         {
          "comp1": 360,
          "comp2": -7,
          "index": "1991-01-05T07:40:00",
          "location": "Nieuwe Waterweg Maeslantkering zee",
          "state": "Rust",
          "value": 0.6691759049730037
         },
         {
          "comp1": 360,
          "comp2": -7,
          "index": "1991-01-05T07:50:00",
          "location": "Nieuwe Waterweg Maeslantkering zee",
          "state": "Rust",
          "value": 0.5671458432573685
         },
         {
          "comp1": 360,
          "comp2": -7,
          "index": "1991-01-05T08:00:00",
          "location": "Nieuwe Waterweg Maeslantkering zee",
          "state": "Rust",
          "value": 0.47303095480356594
         },
         {
          "comp1": 360,
          "comp2": -7,
          "index": "1991-01-05T08:10:00",
          "location": "Nieuwe Waterweg Maeslantkering zee",
          "state": "Rust",
          "value": 0.3859812766489088
         },
         {
          "comp1": 360,
          "comp2": -7,
          "index": "1991-01-05T08:20:00",
          "location": "Nieuwe Waterweg Maeslantkering zee",
          "state": "Rust",
          "value": 0.306270344299877
         },
         {
          "comp1": 360,
          "comp2": -7,
          "index": "1991-01-05T08:30:00",
          "location": "Nieuwe Waterweg Maeslantkering zee",
          "state": "Rust",
          "value": 0.22758243264079198
         },
         {
          "comp1": 360,
          "comp2": -7,
          "index": "1991-01-05T08:40:00",
          "location": "Nieuwe Waterweg Maeslantkering zee",
          "state": "Rust",
          "value": 0.1388185069269021
         },
         {
          "comp1": 360,
          "comp2": -7,
          "index": "1991-01-05T08:50:00",
          "location": "Nieuwe Waterweg Maeslantkering zee",
          "state": "Rust",
          "value": 0.04910728691729931
         },
         {
          "comp1": 360,
          "comp2": -7,
          "index": "1991-01-05T09:00:00",
          "location": "Nieuwe Waterweg Maeslantkering zee",
          "state": "Rust",
          "value": -0.03974356714618814
         },
         {
          "comp1": 360,
          "comp2": -7,
          "index": "1991-01-05T09:10:00",
          "location": "Nieuwe Waterweg Maeslantkering zee",
          "state": "Rust",
          "value": -0.12491967570241772
         },
         {
          "comp1": 360,
          "comp2": -7,
          "index": "1991-01-05T09:20:00",
          "location": "Nieuwe Waterweg Maeslantkering zee",
          "state": "Rust",
          "value": -0.20719075080353552
         },
         {
          "comp1": 360,
          "comp2": -7,
          "index": "1991-01-05T09:30:00",
          "location": "Nieuwe Waterweg Maeslantkering zee",
          "state": "Rust",
          "value": -0.28694922929365163
         },
         {
          "comp1": 360,
          "comp2": -7,
          "index": "1991-01-05T09:40:00",
          "location": "Nieuwe Waterweg Maeslantkering zee",
          "state": "Rust",
          "value": -0.3673841608013969
         },
         {
          "comp1": 360,
          "comp2": -7,
          "index": "1991-01-05T09:50:00",
          "location": "Nieuwe Waterweg Maeslantkering zee",
          "state": "Rust",
          "value": -0.44052167797885533
         },
         {
          "comp1": 360,
          "comp2": -7,
          "index": "1991-01-05T10:00:00",
          "location": "Nieuwe Waterweg Maeslantkering zee",
          "state": "Rust",
          "value": -0.504279044908925
         },
         {
          "comp1": 360,
          "comp2": -7,
          "index": "1991-01-05T10:10:00",
          "location": "Nieuwe Waterweg Maeslantkering zee",
          "state": "Rust",
          "value": -0.5545072695298461
         },
         {
          "comp1": 360,
          "comp2": -7,
          "index": "1991-01-05T10:20:00",
          "location": "Nieuwe Waterweg Maeslantkering zee",
          "state": "Rust",
          "value": -0.5867609956730843
         },
         {
          "comp1": 360,
          "comp2": -7,
          "index": "1991-01-05T10:30:00",
          "location": "Nieuwe Waterweg Maeslantkering zee",
          "state": "Rust",
          "value": -0.6075297602817079
         },
         {
          "comp1": 360,
          "comp2": -7,
          "index": "1991-01-05T10:40:00",
          "location": "Nieuwe Waterweg Maeslantkering zee",
          "state": "Rust",
          "value": -0.615894296854427
         },
         {
          "comp1": 360,
          "comp2": -7,
          "index": "1991-01-05T10:50:00",
          "location": "Nieuwe Waterweg Maeslantkering zee",
          "state": "Rust",
          "value": -0.6152359035970215
         },
         {
          "comp1": 360,
          "comp2": -7,
          "index": "1991-01-05T11:00:00",
          "location": "Nieuwe Waterweg Maeslantkering zee",
          "state": "Rust",
          "value": -0.6066114256081994
         },
         {
          "comp1": 360,
          "comp2": -7,
          "index": "1991-01-05T11:10:00",
          "location": "Nieuwe Waterweg Maeslantkering zee",
          "state": "Rust",
          "value": -0.5935734068873304
         },
         {
          "comp1": 360,
          "comp2": -7,
          "index": "1991-01-05T11:20:00",
          "location": "Nieuwe Waterweg Maeslantkering zee",
          "state": "Rust",
          "value": -0.5830336186683414
         },
         {
          "comp1": 360,
          "comp2": -7,
          "index": "1991-01-05T11:30:00",
          "location": "Nieuwe Waterweg Maeslantkering zee",
          "state": "Rust",
          "value": -0.5725340814643504
         },
         {
          "comp1": 360,
          "comp2": -7,
          "index": "1991-01-05T11:40:00",
          "location": "Nieuwe Waterweg Maeslantkering zee",
          "state": "Rust",
          "value": -0.5622035993225587
         },
         {
          "comp1": 360,
          "comp2": -7,
          "index": "1991-01-05T11:50:00",
          "location": "Nieuwe Waterweg Maeslantkering zee",
          "state": "Rust",
          "value": -0.5574583120756889
         },
         {
          "comp1": 360,
          "comp2": -7,
          "index": "1991-01-05T12:00:00",
          "location": "Nieuwe Waterweg Maeslantkering zee",
          "state": "Rust",
          "value": -0.5611845241955624
         },
         {
          "comp1": 360,
          "comp2": -7,
          "index": "1991-01-05T12:10:00",
          "location": "Nieuwe Waterweg Maeslantkering zee",
          "state": "Rust",
          "value": -0.5678641094464703
         },
         {
          "comp1": 360,
          "comp2": -7,
          "index": "1991-01-05T12:20:00",
          "location": "Nieuwe Waterweg Maeslantkering zee",
          "state": "Rust",
          "value": -0.576418632034142
         },
         {
          "comp1": 360,
          "comp2": -7,
          "index": "1991-01-05T12:30:00",
          "location": "Nieuwe Waterweg Maeslantkering zee",
          "state": "Rust",
          "value": -0.5817475540900857
         },
         {
          "comp1": 360,
          "comp2": -7,
          "index": "1991-01-05T12:40:00",
          "location": "Nieuwe Waterweg Maeslantkering zee",
          "state": "Rust",
          "value": -0.5866330742368658
         },
         {
          "comp1": 360,
          "comp2": -7,
          "index": "1991-01-05T12:50:00",
          "location": "Nieuwe Waterweg Maeslantkering zee",
          "state": "Rust",
          "value": -0.5893345069205426
         },
         {
          "comp1": 360,
          "comp2": -7,
          "index": "1991-01-05T13:00:00",
          "location": "Nieuwe Waterweg Maeslantkering zee",
          "state": "Rust",
          "value": -0.5890441249393911
         },
         {
          "comp1": 360,
          "comp2": -7,
          "index": "1991-01-05T13:10:00",
          "location": "Nieuwe Waterweg Maeslantkering zee",
          "state": "Rust",
          "value": -0.5866956179398349
         },
         {
          "comp1": 360,
          "comp2": -7,
          "index": "1991-01-05T13:20:00",
          "location": "Nieuwe Waterweg Maeslantkering zee",
          "state": "Rust",
          "value": -0.5829476625318584
         },
         {
          "comp1": 360,
          "comp2": -7,
          "index": "1991-01-05T13:30:00",
          "location": "Nieuwe Waterweg Maeslantkering zee",
          "state": "Rust",
          "value": -0.5794101405691577
         },
         {
          "comp1": 360,
          "comp2": -7,
          "index": "1991-01-05T13:40:00",
          "location": "Nieuwe Waterweg Maeslantkering zee",
          "state": "Rust",
          "value": -0.5731488560736846
         },
         {
          "comp1": 360,
          "comp2": -7,
          "index": "1991-01-05T13:50:00",
          "location": "Nieuwe Waterweg Maeslantkering zee",
          "state": "Rust",
          "value": -0.563924549701537
         },
         {
          "comp1": 360,
          "comp2": -7,
          "index": "1991-01-05T14:00:00",
          "location": "Nieuwe Waterweg Maeslantkering zee",
          "state": "Rust",
          "value": -0.5489167729719329
         },
         {
          "comp1": 360,
          "comp2": -7,
          "index": "1991-01-05T14:10:00",
          "location": "Nieuwe Waterweg Maeslantkering zee",
          "state": "Rust",
          "value": -0.5259615664444479
         },
         {
          "comp1": 360,
          "comp2": -7,
          "index": "1991-01-05T14:20:00",
          "location": "Nieuwe Waterweg Maeslantkering zee",
          "state": "Rust",
          "value": -0.49696263850508593
         },
         {
          "comp1": 360,
          "comp2": -7,
          "index": "1991-01-05T14:30:00",
          "location": "Nieuwe Waterweg Maeslantkering zee",
          "state": "Rust",
          "value": -0.4561109107974185
         },
         {
          "comp1": 360,
          "comp2": -7,
          "index": "1991-01-05T14:40:00",
          "location": "Nieuwe Waterweg Maeslantkering zee",
          "state": "Rust",
          "value": -0.40800853447972457
         },
         {
          "comp1": 360,
          "comp2": -7,
          "index": "1991-01-05T14:50:00",
          "location": "Nieuwe Waterweg Maeslantkering zee",
          "state": "Rust",
          "value": -0.35346831245314625
         },
         {
          "comp1": 360,
          "comp2": -7,
          "index": "1991-01-05T15:00:00",
          "location": "Nieuwe Waterweg Maeslantkering zee",
          "state": "Rust",
          "value": -0.29421462993591235
         },
         {
          "comp1": 360,
          "comp2": -7,
          "index": "1991-01-05T15:10:00",
          "location": "Nieuwe Waterweg Maeslantkering zee",
          "state": "Rust",
          "value": -0.22855205661853578
         },
         {
          "comp1": 360,
          "comp2": -7,
          "index": "1991-01-05T15:20:00",
          "location": "Nieuwe Waterweg Maeslantkering zee",
          "state": "Rust",
          "value": -0.15299467782940065
         },
         {
          "comp1": 360,
          "comp2": -7,
          "index": "1991-01-05T15:30:00",
          "location": "Nieuwe Waterweg Maeslantkering zee",
          "state": "Rust",
          "value": -0.054512223842648956
         },
         {
          "comp1": 360,
          "comp2": -7,
          "index": "1991-01-05T15:40:00",
          "location": "Nieuwe Waterweg Maeslantkering zee",
          "state": "Rust",
          "value": 0.06091720037132391
         },
         {
          "comp1": 360,
          "comp2": -7,
          "index": "1991-01-05T15:50:00",
          "location": "Nieuwe Waterweg Maeslantkering zee",
          "state": "Rust",
          "value": 0.19471433113226808
         },
         {
          "comp1": 360,
          "comp2": -7,
          "index": "1991-01-05T16:00:00",
          "location": "Nieuwe Waterweg Maeslantkering zee",
          "state": "Rust",
          "value": 0.35272975087821845
         },
         {
          "comp1": 360,
          "comp2": -7,
          "index": "1991-01-05T16:10:00",
          "location": "Nieuwe Waterweg Maeslantkering zee",
          "state": "Rust",
          "value": 0.516755889389829
         },
         {
          "comp1": 360,
          "comp2": -7,
          "index": "1991-01-05T16:20:00",
          "location": "Nieuwe Waterweg Maeslantkering zee",
          "state": "Rust",
          "value": 0.6781547656759277
         },
         {
          "comp1": 360,
          "comp2": -7,
          "index": "1991-01-05T16:30:00",
          "location": "Nieuwe Waterweg Maeslantkering zee",
          "state": "Rust",
          "value": 0.8272589345386194
         },
         {
          "comp1": 360,
          "comp2": -7,
          "index": "1991-01-05T16:40:00",
          "location": "Nieuwe Waterweg Maeslantkering zee",
          "state": "Rust",
          "value": 0.9655088082085594
         },
         {
          "comp1": 360,
          "comp2": -7,
          "index": "1991-01-05T16:50:00",
          "location": "Nieuwe Waterweg Maeslantkering zee",
          "state": "Rust",
          "value": 1.0849032113911898
         },
         {
          "comp1": 360,
          "comp2": -7,
          "index": "1991-01-05T17:00:00",
          "location": "Nieuwe Waterweg Maeslantkering zee",
          "state": "Rust",
          "value": 1.1910759675559845
         },
         {
          "comp1": 360,
          "comp2": -7,
          "index": "1991-01-05T17:10:00",
          "location": "Nieuwe Waterweg Maeslantkering zee",
          "state": "Rust",
          "value": 1.2599020321832406
         },
         {
          "comp1": 360,
          "comp2": -7,
          "index": "1991-01-05T17:20:00",
          "location": "Nieuwe Waterweg Maeslantkering zee",
          "state": "Rust",
          "value": 1.294681302304962
         },
         {
          "comp1": 360,
          "comp2": -7,
          "index": "1991-01-05T17:30:00",
          "location": "Nieuwe Waterweg Maeslantkering zee",
          "state": "Rust",
          "value": 1.3002075124770238
         },
         {
          "comp1": 360,
          "comp2": -7,
          "index": "1991-01-05T17:40:00",
          "location": "Nieuwe Waterweg Maeslantkering zee",
          "state": "Rust",
          "value": 1.2836711617032857
         },
         {
          "comp1": 360,
          "comp2": -7,
          "index": "1991-01-05T17:50:00",
          "location": "Nieuwe Waterweg Maeslantkering zee",
          "state": "Rust",
          "value": 1.2598249206529464
         },
         {
          "comp1": 360,
          "comp2": -7,
          "index": "1991-01-05T18:00:00",
          "location": "Nieuwe Waterweg Maeslantkering zee",
          "state": "Rust",
          "value": 1.2308478731156327
         },
         {
          "comp1": 360,
          "comp2": -7,
          "index": "1991-01-05T18:10:00",
          "location": "Nieuwe Waterweg Maeslantkering zee",
          "state": "Rust",
          "value": 1.2048052762946513
         },
         {
          "comp1": 360,
          "comp2": -7,
          "index": "1991-01-05T18:20:00",
          "location": "Nieuwe Waterweg Maeslantkering zee",
          "state": "Rust",
          "value": 1.1766572065997525
         },
         {
          "comp1": 360,
          "comp2": -7,
          "index": "1991-01-05T18:30:00",
          "location": "Nieuwe Waterweg Maeslantkering zee",
          "state": "Rust",
          "value": 1.1481124654132608
         },
         {
          "comp1": 360,
          "comp2": -7,
          "index": "1991-01-05T18:40:00",
          "location": "Nieuwe Waterweg Maeslantkering zee",
          "state": "Rust",
          "value": 1.1209533338960425
         },
         {
          "comp1": 360,
          "comp2": -7,
          "index": "1991-01-05T18:50:00",
          "location": "Nieuwe Waterweg Maeslantkering zee",
          "state": "Rust",
          "value": 1.0949813309755592
         },
         {
          "comp1": 360,
          "comp2": -7,
          "index": "1991-01-05T19:00:00",
          "location": "Nieuwe Waterweg Maeslantkering zee",
          "state": "Rust",
          "value": 1.0634641896195087
         },
         {
          "comp1": 360,
          "comp2": -7,
          "index": "1991-01-05T19:10:00",
          "location": "Nieuwe Waterweg Maeslantkering zee",
          "state": "Rust",
          "value": 1.0257724609725192
         },
         {
          "comp1": 360,
          "comp2": -7,
          "index": "1991-01-05T19:20:00",
          "location": "Nieuwe Waterweg Maeslantkering zee",
          "state": "Rust",
          "value": 0.9811319788590505
         },
         {
          "comp1": 360,
          "comp2": -7,
          "index": "1991-01-05T19:30:00",
          "location": "Nieuwe Waterweg Maeslantkering zee",
          "state": "Rust",
          "value": 0.9299408830537021
         },
         {
          "comp1": 360,
          "comp2": -7,
          "index": "1991-01-05T19:40:00",
          "location": "Nieuwe Waterweg Maeslantkering zee",
          "state": "Rust",
          "value": 0.8770205656424009
         },
         {
          "comp1": 360,
          "comp2": -7,
          "index": "1991-01-05T19:50:00",
          "location": "Nieuwe Waterweg Maeslantkering zee",
          "state": "Rust",
          "value": 0.8055604125890241
         },
         {
          "comp1": 360,
          "comp2": -7,
          "index": "1991-01-05T20:00:00",
          "location": "Nieuwe Waterweg Maeslantkering zee",
          "state": "Rust",
          "value": 0.7374482228508
         },
         {
          "comp1": 360,
          "comp2": -7,
          "index": "1991-01-05T20:10:00",
          "location": "Nieuwe Waterweg Maeslantkering zee",
          "state": "Rust",
          "value": 0.669033886521289
         },
         {
          "comp1": 360,
          "comp2": -7,
          "index": "1991-01-05T20:20:00",
          "location": "Nieuwe Waterweg Maeslantkering zee",
          "state": "Rust",
          "value": 0.602239410423691
         },
         {
          "comp1": 360,
          "comp2": -7,
          "index": "1991-01-05T20:30:00",
          "location": "Nieuwe Waterweg Maeslantkering zee",
          "state": "Rust",
          "value": 0.535003621994773
         },
         {
          "comp1": 360,
          "comp2": -7,
          "index": "1991-01-05T20:40:00",
          "location": "Nieuwe Waterweg Maeslantkering zee",
          "state": "Rust",
          "value": 0.4649670659649376
         },
         {
          "comp1": 360,
          "comp2": -7,
          "index": "1991-01-05T20:50:00",
          "location": "Nieuwe Waterweg Maeslantkering zee",
          "state": "Rust",
          "value": 0.3983107567853372
         },
         {
          "comp1": 360,
          "comp2": -7,
          "index": "1991-01-05T21:00:00",
          "location": "Nieuwe Waterweg Maeslantkering zee",
          "state": "Rust",
          "value": 0.3270267699364723
         },
         {
          "comp1": 360,
          "comp2": -7,
          "index": "1991-01-05T21:10:00",
          "location": "Nieuwe Waterweg Maeslantkering zee",
          "state": "Rust",
          "value": 0.25372573284470173
         },
         {
          "comp1": 360,
          "comp2": -7,
          "index": "1991-01-05T21:20:00",
          "location": "Nieuwe Waterweg Maeslantkering zee",
          "state": "Rust",
          "value": 0.17713228994255656
         },
         {
          "comp1": 360,
          "comp2": -7,
          "index": "1991-01-05T21:30:00",
          "location": "Nieuwe Waterweg Maeslantkering zee",
          "state": "Rust",
          "value": 0.09354168750287364
         },
         {
          "comp1": 360,
          "comp2": -7,
          "index": "1991-01-05T21:40:00",
          "location": "Nieuwe Waterweg Maeslantkering zee",
          "state": "Rust",
          "value": -0.0009495984285665484
         },
         {
          "comp1": 360,
          "comp2": -7,
          "index": "1991-01-05T21:50:00",
          "location": "Nieuwe Waterweg Maeslantkering zee",
          "state": "Rust",
          "value": -0.10129716333719249
         },
         {
          "comp1": 360,
          "comp2": -7,
          "index": "1991-01-05T22:00:00",
          "location": "Nieuwe Waterweg Maeslantkering zee",
          "state": "Rust",
          "value": -0.20021948896142427
         },
         {
          "comp1": 360,
          "comp2": -7,
          "index": "1991-01-05T22:10:00",
          "location": "Nieuwe Waterweg Maeslantkering zee",
          "state": "Rust",
          "value": -0.2947550263379207
         },
         {
          "comp1": 360,
          "comp2": -7,
          "index": "1991-01-05T22:20:00",
          "location": "Nieuwe Waterweg Maeslantkering zee",
          "state": "Rust",
          "value": -0.3817550868697781
         },
         {
          "comp1": 360,
          "comp2": -7,
          "index": "1991-01-05T22:30:00",
          "location": "Nieuwe Waterweg Maeslantkering zee",
          "state": "Rust",
          "value": -0.4585409708215988
         },
         {
          "comp1": 360,
          "comp2": -7,
          "index": "1991-01-05T22:40:00",
          "location": "Nieuwe Waterweg Maeslantkering zee",
          "state": "Rust",
          "value": -0.5195698913866325
         },
         {
          "comp1": 360,
          "comp2": -7,
          "index": "1991-01-05T22:50:00",
          "location": "Nieuwe Waterweg Maeslantkering zee",
          "state": "Rust",
          "value": -0.5632599278416074
         },
         {
          "comp1": 360,
          "comp2": -7,
          "index": "1991-01-05T23:00:00",
          "location": "Nieuwe Waterweg Maeslantkering zee",
          "state": "Rust",
          "value": -0.5905988325931228
         },
         {
          "comp1": 360,
          "comp2": -7,
          "index": "1991-01-05T23:10:00",
          "location": "Nieuwe Waterweg Maeslantkering zee",
          "state": "Rust",
          "value": -0.6003832017672797
         },
         {
          "comp1": 360,
          "comp2": -7,
          "index": "1991-01-05T23:20:00",
          "location": "Nieuwe Waterweg Maeslantkering zee",
          "state": "Rust",
          "value": -0.591426052936649
         },
         {
          "comp1": 360,
          "comp2": -7,
          "index": "1991-01-05T23:30:00",
          "location": "Nieuwe Waterweg Maeslantkering zee",
          "state": "Rust",
          "value": -0.5690893253809133
         },
         {
          "comp1": 360,
          "comp2": -7,
          "index": "1991-01-05T23:40:00",
          "location": "Nieuwe Waterweg Maeslantkering zee",
          "state": "Rust",
          "value": -0.548412557895213
         },
         {
          "comp1": 360,
          "comp2": -7,
          "index": "1991-01-05T23:50:00",
          "location": "Nieuwe Waterweg Maeslantkering zee",
          "state": "Rust",
          "value": -0.5359213151829484
         },
         {
          "comp1": 360,
          "comp2": -7,
          "index": "1991-01-06T00:00:00",
          "location": "Nieuwe Waterweg Maeslantkering zee",
          "state": "Rust",
          "value": -0.5330491394774686
         },
         {
          "comp1": 360,
          "comp2": -7,
          "index": "1991-01-06T00:10:00",
          "location": "Nieuwe Waterweg Maeslantkering zee",
          "state": "Rust",
          "value": -0.5325742279147503
         },
         {
          "comp1": 360,
          "comp2": -7,
          "index": "1991-01-06T00:20:00",
          "location": "Nieuwe Waterweg Maeslantkering zee",
          "state": "Rust",
          "value": -0.5384757335903704
         },
         {
          "comp1": 360,
          "comp2": -7,
          "index": "1991-01-06T00:30:00",
          "location": "Nieuwe Waterweg Maeslantkering zee",
          "state": "Rust",
          "value": -0.5464440050398383
         },
         {
          "comp1": 360,
          "comp2": -7,
          "index": "1991-01-06T00:40:00",
          "location": "Nieuwe Waterweg Maeslantkering zee",
          "state": "Rust",
          "value": -0.5546015374224955
         },
         {
          "comp1": 360,
          "comp2": -7,
          "index": "1991-01-06T00:50:00",
          "location": "Nieuwe Waterweg Maeslantkering zee",
          "state": "Rust",
          "value": -0.5658938140434842
         },
         {
          "comp1": 360,
          "comp2": -7,
          "index": "1991-01-06T01:00:00",
          "location": "Nieuwe Waterweg Maeslantkering zee",
          "state": "Rust",
          "value": -0.5745208477493388
         },
         {
          "comp1": 360,
          "comp2": -7,
          "index": "1991-01-06T01:10:00",
          "location": "Nieuwe Waterweg Maeslantkering zee",
          "state": "Rust",
          "value": -0.5814347449508139
         },
         {
          "comp1": 360,
          "comp2": -7,
          "index": "1991-01-06T01:20:00",
          "location": "Nieuwe Waterweg Maeslantkering zee",
          "state": "Rust",
          "value": -0.5839654071889298
         },
         {
          "comp1": 360,
          "comp2": -7,
          "index": "1991-01-06T01:30:00",
          "location": "Nieuwe Waterweg Maeslantkering zee",
          "state": "Rust",
          "value": -0.5825950832725624
         },
         {
          "comp1": 360,
          "comp2": -7,
          "index": "1991-01-06T01:40:00",
          "location": "Nieuwe Waterweg Maeslantkering zee",
          "state": "Rust",
          "value": -0.580394869986132
         },
         {
          "comp1": 360,
          "comp2": -7,
          "index": "1991-01-06T01:50:00",
          "location": "Nieuwe Waterweg Maeslantkering zee",
          "state": "Rust",
          "value": -0.5785065512468299
         },
         {
          "comp1": 360,
          "comp2": -7,
          "index": "1991-01-06T02:00:00",
          "location": "Nieuwe Waterweg Maeslantkering zee",
          "state": "Rust",
          "value": -0.5769567916364289
         },
         {
          "comp1": 360,
          "comp2": -7,
          "index": "1991-01-06T02:10:00",
          "location": "Nieuwe Waterweg Maeslantkering zee",
          "state": "Rust",
          "value": -0.5714246012386277
         },
         {
          "comp1": 360,
          "comp2": -7,
          "index": "1991-01-06T02:20:00",
          "location": "Nieuwe Waterweg Maeslantkering zee",
          "state": "Rust",
          "value": -0.5586446738980131
         },
         {
          "comp1": 360,
          "comp2": -7,
          "index": "1991-01-06T02:30:00",
          "location": "Nieuwe Waterweg Maeslantkering zee",
          "state": "Rust",
          "value": -0.5402356496216557
         },
         {
          "comp1": 360,
          "comp2": -7,
          "index": "1991-01-06T02:40:00",
          "location": "Nieuwe Waterweg Maeslantkering zee",
          "state": "Rust",
          "value": -0.5148231958472933
         },
         {
          "comp1": 360,
          "comp2": -7,
          "index": "1991-01-06T02:50:00",
          "location": "Nieuwe Waterweg Maeslantkering zee",
          "state": "Rust",
          "value": -0.47951379733659205
         },
         {
          "comp1": 360,
          "comp2": -7,
          "index": "1991-01-06T03:00:00",
          "location": "Nieuwe Waterweg Maeslantkering zee",
          "state": "Rust",
          "value": -0.4327061807451325
         },
         {
          "comp1": 360,
          "comp2": -7,
          "index": "1991-01-06T03:10:00",
          "location": "Nieuwe Waterweg Maeslantkering zee",
          "state": "Rust",
          "value": -0.3809681508462319
         },
         {
          "comp1": 360,
          "comp2": -7,
          "index": "1991-01-06T03:20:00",
          "location": "Nieuwe Waterweg Maeslantkering zee",
          "state": "Rust",
          "value": -0.32421950152583606
         },
         {
          "comp1": 360,
          "comp2": -7,
          "index": "1991-01-06T03:30:00",
          "location": "Nieuwe Waterweg Maeslantkering zee",
          "state": "Rust",
          "value": -0.25927605216496874
         },
         {
          "comp1": 360,
          "comp2": -7,
          "index": "1991-01-06T03:40:00",
          "location": "Nieuwe Waterweg Maeslantkering zee",
          "state": "Rust",
          "value": -0.18501980661453557
         },
         {
          "comp1": 360,
          "comp2": -7,
          "index": "1991-01-06T03:50:00",
          "location": "Nieuwe Waterweg Maeslantkering zee",
          "state": "Rust",
          "value": -0.09432403665181525
         },
         {
          "comp1": 360,
          "comp2": -7,
          "index": "1991-01-06T04:00:00",
          "location": "Nieuwe Waterweg Maeslantkering zee",
          "state": "Rust",
          "value": 0.01477635072538562
         },
         {
          "comp1": 360,
          "comp2": -7,
          "index": "1991-01-06T04:10:00",
          "location": "Nieuwe Waterweg Maeslantkering zee",
          "state": "Rust",
          "value": 0.1431145647464396
         },
         {
          "comp1": 360,
          "comp2": -7,
          "index": "1991-01-06T04:20:00",
          "location": "Nieuwe Waterweg Maeslantkering zee",
          "state": "Rust",
          "value": 0.2885153021079179
         },
         {
          "comp1": 360,
          "comp2": -7,
          "index": "1991-01-06T04:30:00",
          "location": "Nieuwe Waterweg Maeslantkering zee",
          "state": "Rust",
          "value": 0.4433395028230108
         },
         {
          "comp1": 360,
          "comp2": -7,
          "index": "1991-01-06T04:40:00",
          "location": "Nieuwe Waterweg Maeslantkering zee",
          "state": "Rust",
          "value": 0.6013984826333928
         },
         {
          "comp1": 360,
          "comp2": -7,
          "index": "1991-01-06T04:50:00",
          "location": "Nieuwe Waterweg Maeslantkering zee",
          "state": "Rust",
          "value": 0.7554084555743149
         },
         {
          "comp1": 360,
          "comp2": -7,
          "index": "1991-01-06T05:00:00",
          "location": "Nieuwe Waterweg Maeslantkering zee",
          "state": "Rust",
          "value": 0.8988489211883988
         },
         {
          "comp1": 360,
          "comp2": -7,
          "index": "1991-01-06T05:10:00",
          "location": "Nieuwe Waterweg Maeslantkering zee",
          "state": "Rust",
          "value": 1.0256771217908363
         },
         {
          "comp1": 360,
          "comp2": -7,
          "index": "1991-01-06T05:20:00",
          "location": "Nieuwe Waterweg Maeslantkering zee",
          "state": "Rust",
          "value": 1.1373948524441213
         },
         {
          "comp1": 360,
          "comp2": -7,
          "index": "1991-01-06T05:30:00",
          "location": "Nieuwe Waterweg Maeslantkering zee",
          "state": "Rust",
          "value": 1.2212669020915656
         },
         {
          "comp1": 360,
          "comp2": -7,
          "index": "1991-01-06T05:40:00",
          "location": "Nieuwe Waterweg Maeslantkering zee",
          "state": "Rust",
          "value": 1.2728165553223265
         },
         {
          "comp1": 360,
          "comp2": -7,
          "index": "1991-01-06T05:50:00",
          "location": "Nieuwe Waterweg Maeslantkering zee",
          "state": "Rust",
          "value": 1.293015839830999
         },
         {
          "comp1": 360,
          "comp2": -7,
          "index": "1991-01-06T06:00:00",
          "location": "Nieuwe Waterweg Maeslantkering zee",
          "state": "Rust",
          "value": 1.2893799117533493
         },
         {
          "comp1": 360,
          "comp2": -7,
          "index": "1991-01-06T06:10:00",
          "location": "Nieuwe Waterweg Maeslantkering zee",
          "state": "Rust",
          "value": 1.2662624627154593
         },
         {
          "comp1": 360,
          "comp2": -7,
          "index": "1991-01-06T06:20:00",
          "location": "Nieuwe Waterweg Maeslantkering zee",
          "state": "Rust",
          "value": 1.237001762380104
         },
         {
          "comp1": 360,
          "comp2": -7,
          "index": "1991-01-06T06:30:00",
          "location": "Nieuwe Waterweg Maeslantkering zee",
          "state": "Gemobiliseerd",
          "value": 1.206646326587595
         },
         {
          "comp1": 360,
          "comp2": -7,
          "index": "1991-01-06T06:40:00",
          "location": "Nieuwe Waterweg Maeslantkering zee",
          "state": "Gemobiliseerd",
          "value": 1.173072375852495
         },
         {
          "comp1": 360,
          "comp2": -7,
          "index": "1991-01-06T06:50:00",
          "location": "Nieuwe Waterweg Maeslantkering zee",
          "state": "Gemobiliseerd",
          "value": 1.139403987742882
         },
         {
          "comp1": 360,
          "comp2": -7,
          "index": "1991-01-06T07:00:00",
          "location": "Nieuwe Waterweg Maeslantkering zee",
          "state": "Gemobiliseerd",
          "value": 1.1102312775685936
         },
         {
          "comp1": 360,
          "comp2": -7,
          "index": "1991-01-06T07:10:00",
          "location": "Nieuwe Waterweg Maeslantkering zee",
          "state": "Gemobiliseerd",
          "value": 1.0801027157666565
         },
         {
          "comp1": 360,
          "comp2": -7,
          "index": "1991-01-06T07:20:00",
          "location": "Nieuwe Waterweg Maeslantkering zee",
          "state": "Gemobiliseerd",
          "value": 1.0482264490732087
         },
         {
          "comp1": 360,
          "comp2": -7,
          "index": "1991-01-06T07:30:00",
          "location": "Nieuwe Waterweg Maeslantkering zee",
          "state": "Gemobiliseerd",
          "value": 1.0117126505710878
         },
         {
          "comp1": 360,
          "comp2": -7,
          "index": "1991-01-06T07:40:00",
          "location": "Nieuwe Waterweg Maeslantkering zee",
          "state": "Gemobiliseerd",
          "value": 0.9703983193998319
         },
         {
          "comp1": 360,
          "comp2": -7,
          "index": "1991-01-06T07:50:00",
          "location": "Nieuwe Waterweg Maeslantkering zee",
          "state": "Gemobiliseerd",
          "value": 0.925715448176792
         },
         {
          "comp1": 360,
          "comp2": -7,
          "index": "1991-01-06T08:00:00",
          "location": "Nieuwe Waterweg Maeslantkering zee",
          "state": "Gemobiliseerd",
          "value": 0.8775972962198607
         },
         {
          "comp1": 360,
          "comp2": -7,
          "index": "1991-01-06T08:10:00",
          "location": "Nieuwe Waterweg Maeslantkering zee",
          "state": "Gemobiliseerd",
          "value": 0.8165775905611987
         },
         {
          "comp1": 360,
          "comp2": -7,
          "index": "1991-01-06T08:20:00",
          "location": "Nieuwe Waterweg Maeslantkering zee",
          "state": "Gemobiliseerd",
          "value": 0.7431757327684324
         },
         {
          "comp1": 360,
          "comp2": -7,
          "index": "1991-01-06T08:30:00",
          "location": "Nieuwe Waterweg Maeslantkering zee",
          "state": "Gemobiliseerd",
          "value": 0.6755200380146166
         },
         {
          "comp1": 360,
          "comp2": -7,
          "index": "1991-01-06T08:40:00",
          "location": "Nieuwe Waterweg Maeslantkering zee",
          "state": "Gemobiliseerd",
          "value": 0.6052116496429926
         },
         {
          "comp1": 360,
          "comp2": -7,
          "index": "1991-01-06T08:50:00",
          "location": "Nieuwe Waterweg Maeslantkering zee",
          "state": "Gemobiliseerd",
          "value": 0.5392970044669315
         },
         {
          "comp1": 360,
          "comp2": -7,
          "index": "1991-01-06T09:00:00",
          "location": "Nieuwe Waterweg Maeslantkering zee",
          "state": "Gemobiliseerd",
          "value": 0.46922866861604484
         },
         {
          "comp1": 360,
          "comp2": -7,
          "index": "1991-01-06T09:10:00",
          "location": "Nieuwe Waterweg Maeslantkering zee",
          "state": "Gemobiliseerd",
          "value": 0.39925056436288375
         },
         {
          "comp1": 360,
          "comp2": -7,
          "index": "1991-01-06T09:20:00",
          "location": "Nieuwe Waterweg Maeslantkering zee",
          "state": "Gemobiliseerd",
          "value": 0.3317316923345995
         },
         {
          "comp1": 360,
          "comp2": -7,
          "index": "1991-01-06T09:30:00",
          "location": "Nieuwe Waterweg Maeslantkering zee",
          "state": "Gemobiliseerd",
          "value": 0.2612870396914986
         },
         {
          "comp1": 360,
          "comp2": -7,
          "index": "1991-01-06T09:40:00",
          "location": "Nieuwe Waterweg Maeslantkering zee",
          "state": "Gemobiliseerd",
          "value": 0.1908046186685487
         },
         {
          "comp1": 360,
          "comp2": -7,
          "index": "1991-01-06T09:50:00",
          "location": "Nieuwe Waterweg Maeslantkering zee",
          "state": "Gemobiliseerd",
          "value": 0.11589590125117409
         },
         {
          "comp1": 360,
          "comp2": -7,
          "index": "1991-01-06T10:00:00",
          "location": "Nieuwe Waterweg Maeslantkering zee",
          "state": "Gemobiliseerd",
          "value": 0.03620028350762739
         },
         {
          "comp1": 360,
          "comp2": -7,
          "index": "1991-01-06T10:10:00",
          "location": "Nieuwe Waterweg Maeslantkering zee",
          "state": "Gemobiliseerd",
          "value": -0.0489164206974314
         },
         {
          "comp1": 360,
          "comp2": -7,
          "index": "1991-01-06T10:20:00",
          "location": "Nieuwe Waterweg Maeslantkering zee",
          "state": "Gemobiliseerd",
          "value": -0.13799666363392582
         },
         {
          "comp1": 360,
          "comp2": -7,
          "index": "1991-01-06T10:30:00",
          "location": "Nieuwe Waterweg Maeslantkering zee",
          "state": "Gemobiliseerd",
          "value": -0.23230739281382518
         },
         {
          "comp1": 360,
          "comp2": -7,
          "index": "1991-01-06T10:40:00",
          "location": "Nieuwe Waterweg Maeslantkering zee",
          "state": "Gemobiliseerd",
          "value": -0.32328477623918483
         },
         {
          "comp1": 360,
          "comp2": -7,
          "index": "1991-01-06T10:50:00",
          "location": "Nieuwe Waterweg Maeslantkering zee",
          "state": "Gemobiliseerd",
          "value": -0.4077061894007834
         },
         {
          "comp1": 360,
          "comp2": -7,
          "index": "1991-01-06T11:00:00",
          "location": "Nieuwe Waterweg Maeslantkering zee",
          "state": "Gemobiliseerd",
          "value": -0.4787519750090991
         },
         {
          "comp1": 360,
          "comp2": -7,
          "index": "1991-01-06T11:10:00",
          "location": "Nieuwe Waterweg Maeslantkering zee",
          "state": "Gemobiliseerd",
          "value": -0.5303575906866366
         },
         {
          "comp1": 360,
          "comp2": -7,
          "index": "1991-01-06T11:20:00",
          "location": "Nieuwe Waterweg Maeslantkering zee",
          "state": "Gemobiliseerd",
          "value": -0.5663858513283748
         },
         {
          "comp1": 360,
          "comp2": -7,
          "index": "1991-01-06T11:30:00",
          "location": "Nieuwe Waterweg Maeslantkering zee",
          "state": "Gemobiliseerd",
          "value": -0.5856405020581582
         },
         {
          "comp1": 360,
          "comp2": -7,
          "index": "1991-01-06T11:40:00",
          "location": "Nieuwe Waterweg Maeslantkering zee",
          "state": "Gemobiliseerd",
          "value": -0.5920572541325668
         },
         {
          "comp1": 360,
          "comp2": -7,
          "index": "1991-01-06T11:50:00",
          "location": "Nieuwe Waterweg Maeslantkering zee",
          "state": "Gemobiliseerd",
          "value": -0.5862084025390205
         },
         {
          "comp1": 360,
          "comp2": -7,
          "index": "1991-01-06T12:00:00",
          "location": "Nieuwe Waterweg Maeslantkering zee",
          "state": "Gemobiliseerd",
          "value": -0.5693223048421793
         },
         {
          "comp1": 360,
          "comp2": -7,
          "index": "1991-01-06T12:10:00",
          "location": "Nieuwe Waterweg Maeslantkering zee",
          "state": "Gemobiliseerd",
          "value": -0.5497077123712406
         },
         {
          "comp1": 360,
          "comp2": -7,
          "index": "1991-01-06T12:20:00",
          "location": "Nieuwe Waterweg Maeslantkering zee",
          "state": "Gemobiliseerd",
          "value": -0.5307179835459728
         },
         {
          "comp1": 360,
          "comp2": -7,
          "index": "1991-01-06T12:30:00",
          "location": "Nieuwe Waterweg Maeslantkering zee",
          "state": "Gemobiliseerd",
          "value": -0.5169979412664019
         },
         {
          "comp1": 360,
          "comp2": -7,
          "index": "1991-01-06T12:40:00",
          "location": "Nieuwe Waterweg Maeslantkering zee",
          "state": "Gemobiliseerd",
          "value": -0.5142069080661906
         },
         {
          "comp1": 360,
          "comp2": -7,
          "index": "1991-01-06T12:50:00",
          "location": "Nieuwe Waterweg Maeslantkering zee",
          "state": "Gemobiliseerd",
          "value": -0.5228035360148457
         },
         {
          "comp1": 360,
          "comp2": -7,
          "index": "1991-01-06T13:00:00",
          "location": "Nieuwe Waterweg Maeslantkering zee",
          "state": "Gemobiliseerd",
          "value": -0.5344017171741264
         },
         {
          "comp1": 360,
          "comp2": -7,
          "index": "1991-01-06T13:10:00",
          "location": "Nieuwe Waterweg Maeslantkering zee",
          "state": "Gemobiliseerd",
          "value": -0.5474398655210608
         },
         {
          "comp1": 360,
          "comp2": -7,
          "index": "1991-01-06T13:20:00",
          "location": "Nieuwe Waterweg Maeslantkering zee",
          "state": "Gemobiliseerd",
          "value": -0.5582791797984598
         },
         {
          "comp1": 360,
          "comp2": -7,
          "index": "1991-01-06T13:30:00",
          "location": "Nieuwe Waterweg Maeslantkering zee",
          "state": "Gemobiliseerd",
          "value": -0.5690679709385406
         },
         {
          "comp1": 360,
          "comp2": -7,
          "index": "1991-01-06T13:40:00",
          "location": "Nieuwe Waterweg Maeslantkering zee",
          "state": "Gemobiliseerd",
          "value": -0.5770700850033074
         },
         {
          "comp1": 360,
          "comp2": -7,
          "index": "1991-01-06T13:50:00",
          "location": "Nieuwe Waterweg Maeslantkering zee",
          "state": "Gemobiliseerd",
          "value": -0.5804388962700807
         },
         {
          "comp1": 360,
          "comp2": -7,
          "index": "1991-01-06T14:00:00",
          "location": "Nieuwe Waterweg Maeslantkering zee",
          "state": "Gemobiliseerd",
          "value": -0.5801467960347231
         },
         {
          "comp1": 360,
          "comp2": -7,
          "index": "1991-01-06T14:10:00",
          "location": "Nieuwe Waterweg Maeslantkering zee",
          "state": "Gemobiliseerd",
          "value": -0.5777900614302289
         },
         {
          "comp1": 360,
          "comp2": -7,
          "index": "1991-01-06T14:20:00",
          "location": "Nieuwe Waterweg Maeslantkering zee",
          "state": "Gemobiliseerd",
          "value": -0.574978048680442
         },
         {
          "comp1": 360,
          "comp2": -7,
          "index": "1991-01-06T14:30:00",
          "location": "Nieuwe Waterweg Maeslantkering zee",
          "state": "Gemobiliseerd",
          "value": -0.5697601959074892
         },
         {
          "comp1": 360,
          "comp2": -7,
          "index": "1991-01-06T14:40:00",
          "location": "Nieuwe Waterweg Maeslantkering zee",
          "state": "Gemobiliseerd",
          "value": -0.5616305138705283
         },
         {
          "comp1": 360,
          "comp2": -7,
          "index": "1991-01-06T14:50:00",
          "location": "Nieuwe Waterweg Maeslantkering zee",
          "state": "Gemobiliseerd",
          "value": -0.5475255141710413
         },
         {
          "comp1": 360,
          "comp2": -7,
          "index": "1991-01-06T15:00:00",
          "location": "Nieuwe Waterweg Maeslantkering zee",
          "state": "Gemobiliseerd",
          "value": -0.5256505554158609
         },
         {
          "comp1": 360,
          "comp2": -7,
          "index": "1991-01-06T15:10:00",
          "location": "Nieuwe Waterweg Maeslantkering zee",
          "state": "Gemobiliseerd",
          "value": -0.49708396730378646
         },
         {
          "comp1": 360,
          "comp2": -7,
          "index": "1991-01-06T15:20:00",
          "location": "Nieuwe Waterweg Maeslantkering zee",
          "state": "Gemobiliseerd",
          "value": -0.4565893659890593
         },
         {
          "comp1": 360,
          "comp2": -7,
          "index": "1991-01-06T15:30:00",
          "location": "Nieuwe Waterweg Maeslantkering zee",
          "state": "Gemobiliseerd",
          "value": -0.408504817541972
         },
         {
          "comp1": 360,
          "comp2": -7,
          "index": "1991-01-06T15:40:00",
          "location": "Nieuwe Waterweg Maeslantkering zee",
          "state": "Gemobiliseerd",
          "value": -0.35408976838019246
         },
         {
          "comp1": 360,
          "comp2": -7,
          "index": "1991-01-06T15:50:00",
          "location": "Nieuwe Waterweg Maeslantkering zee",
          "state": "Gemobiliseerd",
          "value": -0.2943228261323095
         },
         {
          "comp1": 360,
          "comp2": -7,
          "index": "1991-01-06T16:00:00",
          "location": "Nieuwe Waterweg Maeslantkering zee",
          "state": "Gemobiliseerd",
          "value": -0.22602602389887264
         },
         {
          "comp1": 360,
          "comp2": -7,
          "index": "1991-01-06T16:10:00",
          "location": "Nieuwe Waterweg Maeslantkering zee",
          "state": "Gemobiliseerd",
          "value": -0.14697639105413657
         },
         {
          "comp1": 360,
          "comp2": -7,
          "index": "1991-01-06T16:20:00",
          "location": "Nieuwe Waterweg Maeslantkering zee",
          "state": "Gemobiliseerd",
          "value": -0.04538989603262289
         },
         {
          "comp1": 360,
          "comp2": -7,
          "index": "1991-01-06T16:30:00",
          "location": "Nieuwe Waterweg Maeslantkering zee",
          "state": "Gemobiliseerd",
          "value": 0.07203209398017016
         },
         {
          "comp1": 360,
          "comp2": -7,
          "index": "1991-01-06T16:40:00",
          "location": "Nieuwe Waterweg Maeslantkering zee",
          "state": "Gemobiliseerd",
          "value": 0.2064777368526165
         },
         {
          "comp1": 360,
          "comp2": -7,
          "index": "1991-01-06T16:50:00",
          "location": "Nieuwe Waterweg Maeslantkering zee",
          "state": "Gemobiliseerd",
          "value": 0.3593962970412148
         },
         {
          "comp1": 360,
          "comp2": -7,
          "index": "1991-01-06T17:00:00",
          "location": "Nieuwe Waterweg Maeslantkering zee",
          "state": "Gemobiliseerd",
          "value": 0.515679757557805
         },
         {
          "comp1": 360,
          "comp2": -7,
          "index": "1991-01-06T17:10:00",
          "location": "Nieuwe Waterweg Maeslantkering zee",
          "state": "Gemobiliseerd",
          "value": 0.6692608374502158
         },
         {
          "comp1": 360,
          "comp2": -7,
          "index": "1991-01-06T17:20:00",
          "location": "Nieuwe Waterweg Maeslantkering zee",
          "state": "Gemobiliseerd",
          "value": 0.8143844275819344
         },
         {
          "comp1": 360,
          "comp2": -7,
          "index": "1991-01-06T17:30:00",
          "location": "Nieuwe Waterweg Maeslantkering zee",
          "state": "Gemobiliseerd",
          "value": 0.951562363771422
         },
         {
          "comp1": 360,
          "comp2": -7,
          "index": "1991-01-06T17:40:00",
          "location": "Nieuwe Waterweg Maeslantkering zee",
          "state": "Gemobiliseerd",
          "value": 1.0703500037464895
         },
         {
          "comp1": 360,
          "comp2": -7,
          "index": "1991-01-06T17:50:00",
          "location": "Nieuwe Waterweg Maeslantkering zee",
          "state": "Gemobiliseerd",
          "value": 1.17985878103688
         },
         {
          "comp1": 360,
          "comp2": -7,
          "index": "1991-01-06T18:00:00",
          "location": "Nieuwe Waterweg Maeslantkering zee",
          "state": "Gemobiliseerd",
          "value": 1.2783911411538105
         },
         {
          "comp1": 360,
          "comp2": -7,
          "index": "1991-01-06T18:10:00",
          "location": "Nieuwe Waterweg Maeslantkering zee",
          "state": "Gemobiliseerd",
          "value": 1.3591588828539054
         },
         {
          "comp1": 360,
          "comp2": -7,
          "index": "1991-01-06T18:20:00",
          "location": "Nieuwe Waterweg Maeslantkering zee",
          "state": "Gemobiliseerd",
          "value": 1.4231137591205194
         },
         {
          "comp1": 360,
          "comp2": -7,
          "index": "1991-01-06T18:30:00",
          "location": "Nieuwe Waterweg Maeslantkering zee",
          "state": "Gemobiliseerd",
          "value": 1.4648907805096412
         },
         {
          "comp1": 360,
          "comp2": -7,
          "index": "1991-01-06T18:40:00",
          "location": "Nieuwe Waterweg Maeslantkering zee",
          "state": "Gemobiliseerd",
          "value": 1.4889388449839775
         },
         {
          "comp1": 360,
          "comp2": -7,
          "index": "1991-01-06T18:50:00",
          "location": "Nieuwe Waterweg Maeslantkering zee",
          "state": "Gemobiliseerd",
          "value": 1.4988780796831427
         },
         {
          "comp1": 360,
          "comp2": -7,
          "index": "1991-01-06T19:00:00",
          "location": "Nieuwe Waterweg Maeslantkering zee",
          "state": "Gemobiliseerd",
          "value": 1.4976633848198597
         },
         {
          "comp1": 360,
          "comp2": -7,
          "index": "1991-01-06T19:10:00",
          "location": "Nieuwe Waterweg Maeslantkering zee",
          "state": "Gemobiliseerd",
          "value": 1.489968297621513
         },
         {
          "comp1": 360,
          "comp2": -7,
          "index": "1991-01-06T19:20:00",
          "location": "Nieuwe Waterweg Maeslantkering zee",
          "state": "Gemobiliseerd",
          "value": 1.4844600214751065
         },
         {
          "comp1": 360,
          "comp2": -7,
          "index": "1991-01-06T19:30:00",
          "location": "Nieuwe Waterweg Maeslantkering zee",
          "state": "Gemobiliseerd",
          "value": 1.491155247296754
         },
         {
          "comp1": 360,
          "comp2": -7,
          "index": "1991-01-06T19:40:00",
          "location": "Nieuwe Waterweg Maeslantkering zee",
          "state": "Gemobiliseerd",
          "value": 1.5089375474178122
         },
         {
          "comp1": 360,
          "comp2": -7,
          "index": "1991-01-06T19:50:00",
          "location": "Nieuwe Waterweg Maeslantkering zee",
          "state": "Gemobiliseerd",
          "value": 1.5276467995098333
         },
         {
          "comp1": 360,
          "comp2": -7,
          "index": "1991-01-06T20:00:00",
          "location": "Nieuwe Waterweg Maeslantkering zee",
          "state": "Alert",
          "value": 1.5442509201474026
         },
         {
          "comp1": 360,
          "comp2": -7,
          "index": "1991-01-06T20:10:00",
          "location": "Nieuwe Waterweg Maeslantkering zee",
          "state": "Alert",
          "value": 1.5568280613832228
         },
         {
          "comp1": 360,
          "comp2": -7,
          "index": "1991-01-06T20:20:00",
          "location": "Nieuwe Waterweg Maeslantkering zee",
          "state": "Alert",
          "value": 1.559895295689101
         },
         {
          "comp1": 360,
          "comp2": -7,
          "index": "1991-01-06T20:30:00",
          "location": "Nieuwe Waterweg Maeslantkering zee",
          "state": "Alert",
          "value": 1.5596492912404882
         },
         {
          "comp1": 360,
          "comp2": -7,
          "index": "1991-01-06T20:40:00",
          "location": "Nieuwe Waterweg Maeslantkering zee",
          "state": "Alert",
          "value": 1.543206228770215
         },
         {
          "comp1": 360,
          "comp2": -7,
          "index": "1991-01-06T20:50:00",
          "location": "Nieuwe Waterweg Maeslantkering zee",
          "state": "Alert",
          "value": 1.5199361173569823
         },
         {
          "comp1": 360,
          "comp2": -7,
          "index": "1991-01-06T21:00:00",
          "location": "Nieuwe Waterweg Maeslantkering zee",
          "state": "Alert",
          "value": 1.4929754139056965
         },
         {
          "comp1": 360,
          "comp2": -7,
          "index": "1991-01-06T21:10:00",
          "location": "Nieuwe Waterweg Maeslantkering zee",
          "state": "Alert",
          "value": 1.461655405104876
         },
         {
          "comp1": 360,
          "comp2": -7,
          "index": "1991-01-06T21:20:00",
          "location": "Nieuwe Waterweg Maeslantkering zee",
          "state": "Alert",
          "value": 1.4289615257372832
         },
         {
          "comp1": 360,
          "comp2": -7,
          "index": "1991-01-06T21:30:00",
          "location": "Nieuwe Waterweg Maeslantkering zee",
          "state": "Alert",
          "value": 1.3943838985510435
         },
         {
          "comp1": 360,
          "comp2": -7,
          "index": "1991-01-06T21:40:00",
          "location": "Nieuwe Waterweg Maeslantkering zee",
          "state": "Alert",
          "value": 1.364936409032198
         },
         {
          "comp1": 360,
          "comp2": -7,
          "index": "1991-01-06T21:50:00",
          "location": "Nieuwe Waterweg Maeslantkering zee",
          "state": "Alert",
          "value": 1.3300419190261834
         },
         {
          "comp1": 360,
          "comp2": -7,
          "index": "1991-01-06T22:00:00",
          "location": "Nieuwe Waterweg Maeslantkering zee",
          "state": "Alert",
          "value": 1.2967582641840927
         },
         {
          "comp1": 360,
          "comp2": -7,
          "index": "1991-01-06T22:10:00",
          "location": "Nieuwe Waterweg Maeslantkering zee",
          "state": "Alert",
          "value": 1.2664628303850511
         },
         {
          "comp1": 360,
          "comp2": -7,
          "index": "1991-01-06T22:20:00",
          "location": "Nieuwe Waterweg Maeslantkering zee",
          "state": "Alert",
          "value": 1.232652095798379
         },
         {
          "comp1": 360,
          "comp2": -7,
          "index": "1991-01-06T22:30:00",
          "location": "Nieuwe Waterweg Maeslantkering zee",
          "state": "Alert",
          "value": 1.1940894527352537
         },
         {
          "comp1": 360,
          "comp2": -7,
          "index": "1991-01-06T22:40:00",
          "location": "Nieuwe Waterweg Maeslantkering zee",
          "state": "Alert",
          "value": 1.1587484553441498
         },
         {
          "comp1": 360,
          "comp2": -7,
          "index": "1991-01-06T22:50:00",
          "location": "Nieuwe Waterweg Maeslantkering zee",
          "state": "Alert",
          "value": 1.1290275027839491
         },
         {
          "comp1": 360,
          "comp2": -7,
          "index": "1991-01-06T23:00:00",
          "location": "Nieuwe Waterweg Maeslantkering zee",
          "state": "Alert",
          "value": 1.10339684698568
         },
         {
          "comp1": 360,
          "comp2": -7,
          "index": "1991-01-06T23:10:00",
          "location": "Nieuwe Waterweg Maeslantkering zee",
          "state": "Alert",
          "value": 1.0823862309916203
         },
         {
          "comp1": 360,
          "comp2": -7,
          "index": "1991-01-06T23:20:00",
          "location": "Nieuwe Waterweg Maeslantkering zee",
          "state": "Alert",
          "value": 1.0702892918881182
         },
         {
          "comp1": 360,
          "comp2": -7,
          "index": "1991-01-06T23:30:00",
          "location": "Nieuwe Waterweg Maeslantkering zee",
          "state": "Alert",
          "value": 1.0739654579625917
         },
         {
          "comp1": 360,
          "comp2": -7,
          "index": "1991-01-06T23:40:00",
          "location": "Nieuwe Waterweg Maeslantkering zee",
          "state": "Alert",
          "value": 1.092861576303477
         },
         {
          "comp1": 360,
          "comp2": -7,
          "index": "1991-01-06T23:50:00",
          "location": "Nieuwe Waterweg Maeslantkering zee",
          "state": "Alert",
          "value": 1.126043179300261
         },
         {
          "comp1": 360,
          "comp2": -7,
          "index": "1991-01-07T00:00:00",
          "location": "Nieuwe Waterweg Maeslantkering zee",
          "state": "Stremmen",
          "value": 1.1679733183782368
         },
         {
          "comp1": 360,
          "comp2": -7,
          "index": "1991-01-07T00:10:00",
          "location": "Nieuwe Waterweg Maeslantkering zee",
          "state": "Stremmen",
          "value": 1.2137742885079277
         },
         {
          "comp1": 360,
          "comp2": -7,
          "index": "1991-01-07T00:20:00",
          "location": "Nieuwe Waterweg Maeslantkering zee",
          "state": "Stremmen",
          "value": 1.264806971024301
         },
         {
          "comp1": 360,
          "comp2": -7,
          "index": "1991-01-07T00:30:00",
          "location": "Nieuwe Waterweg Maeslantkering zee",
          "state": "Stremmen",
          "value": 1.3155494258032643
         },
         {
          "comp1": 360,
          "comp2": -7,
          "index": "1991-01-07T00:40:00",
          "location": "Nieuwe Waterweg Maeslantkering zee",
          "state": "Stremmen",
          "value": 1.365364749798572
         },
         {
          "comp1": 360,
          "comp2": -7,
          "index": "1991-01-07T00:50:00",
          "location": "Nieuwe Waterweg Maeslantkering zee",
          "state": "Stremmen",
          "value": 1.4094719874110462
         },
         {
          "comp1": 360,
          "comp2": -7,
          "index": "1991-01-07T01:00:00",
          "location": "Nieuwe Waterweg Maeslantkering zee",
          "state": "Stremmen",
          "value": 1.4623820113878634
         },
         {
          "comp1": 360,
          "comp2": -7,
          "index": "1991-01-07T01:10:00",
          "location": "Nieuwe Waterweg Maeslantkering zee",
          "state": "Stremmen",
          "value": 1.5111152801955121
         },
         {
          "comp1": 360,
          "comp2": -7,
          "index": "1991-01-07T01:20:00",
          "location": "Nieuwe Waterweg Maeslantkering zee",
          "state": "Stremmen",
          "value": 1.5576892738328376
         },
         {
          "comp1": 360,
          "comp2": -7,
          "index": "1991-01-07T01:30:00",
          "location": "Nieuwe Waterweg Maeslantkering zee",
          "state": "Stremmen",
          "value": 1.6001400385592872
         },
         {
          "comp1": 360,
          "comp2": -7,
          "index": "1991-01-07T01:40:00",
          "location": "Nieuwe Waterweg Maeslantkering zee",
          "state": "Stremmen",
          "value": 1.6403375829383438
         },
         {
          "comp1": 360,
          "comp2": -7,
          "index": "1991-01-07T01:50:00",
          "location": "Nieuwe Waterweg Maeslantkering zee",
          "state": "Stremmen",
          "value": 1.683712868467838
         },
         {
          "comp1": 360,
          "comp2": -7,
          "index": "1991-01-07T02:00:00",
          "location": "Nieuwe Waterweg Maeslantkering zee",
          "state": "Paraat",
          "value": 1.7285531764399673
         },
         {
          "comp1": 360,
          "comp2": -7,
          "index": "1991-01-07T02:10:00",
          "location": "Nieuwe Waterweg Maeslantkering zee",
          "state": "Paraat",
          "value": 1.7777324506609857
         },
         {
          "comp1": 360,
          "comp2": -7,
          "index": "1991-01-07T02:20:00",
          "location": "Nieuwe Waterweg Maeslantkering zee",
          "state": "Paraat",
          "value": 1.8298777211457715
         },
         {
          "comp1": 360,
          "comp2": -7,
          "index": "1991-01-07T02:30:00",
          "location": "Nieuwe Waterweg Maeslantkering zee",
          "state": "Paraat",
          "value": 1.8831621956129454
         },
         {
          "comp1": 360,
          "comp2": -7,
          "index": "1991-01-07T02:40:00",
          "location": "Nieuwe Waterweg Maeslantkering zee",
          "state": "Paraat",
          "value": 1.9370086299269658
         },
         {
          "comp1": 360,
          "comp2": -7,
          "index": "1991-01-07T02:50:00",
          "location": "Nieuwe Waterweg Maeslantkering zee",
          "state": "Paraat",
          "value": 1.9920363610619787
         },
         {
          "comp1": 360,
          "comp2": -7,
          "index": "1991-01-07T03:00:00",
          "location": "Nieuwe Waterweg Maeslantkering zee",
          "state": "Paraat",
          "value": 2.0516418212383307
         },
         {
          "comp1": 360,
          "comp2": -7,
          "index": "1991-01-07T03:10:00",
          "location": "Nieuwe Waterweg Maeslantkering zee",
          "state": "Paraat",
          "value": 2.115303339315166
         },
         {
          "comp1": 360,
          "comp2": -7,
          "index": "1991-01-07T03:20:00",
          "location": "Nieuwe Waterweg Maeslantkering zee",
          "state": "Paraat",
          "value": 2.1858188039249407
         },
         {
          "comp1": 360,
          "comp2": -7,
          "index": "1991-01-07T03:30:00",
          "location": "Nieuwe Waterweg Maeslantkering zee",
          "state": "Paraat",
          "value": 2.2606501866070525
         },
         {
          "comp1": 360,
          "comp2": -7,
          "index": "1991-01-07T03:40:00",
          "location": "Nieuwe Waterweg Maeslantkering zee",
          "state": "Paraat",
          "value": 2.342061667290259
         },
         {
          "comp1": 360,
          "comp2": -7,
          "index": "1991-01-07T03:50:00",
          "location": "Nieuwe Waterweg Maeslantkering zee",
          "state": "Paraat",
          "value": 2.4574195215613095
         },
         {
          "comp1": 360,
          "comp2": -7,
          "index": "1991-01-07T04:00:00",
          "location": "Nieuwe Waterweg Maeslantkering zee",
          "state": "Paraat",
          "value": 2.608942608241347
         },
         {
          "comp1": 360,
          "comp2": -7,
          "index": "1991-01-07T04:10:00",
          "location": "Nieuwe Waterweg Maeslantkering zee",
          "state": "HorizontaalSluiten",
          "value": 2.7818602057057333
         },
         {
          "comp1": 360,
          "comp2": -7,
          "index": "1991-01-07T04:20:00",
          "location": "Nieuwe Waterweg Maeslantkering zee",
          "state": "HorizontaalSluiten",
          "value": 2.9274329661936873
         },
         {
          "comp1": 360,
          "comp2": -7,
          "index": "1991-01-07T04:30:00",
          "location": "Nieuwe Waterweg Maeslantkering zee",
          "state": "HorizontaalSluiten",
          "value": 3.039694987671189
         },
         {
          "comp1": 0,
          "comp2": -7,
          "index": "1991-01-07T04:40:00",
          "location": "Nieuwe Waterweg Maeslantkering zee",
          "state": "AfzinkenCPSE",
          "value": 3.15815996313231
         },
         {
          "comp1": 0,
          "comp2": -7,
          "index": "1991-01-07T04:50:00",
          "location": "Nieuwe Waterweg Maeslantkering zee",
          "state": "AfzinkenCPSE",
          "value": 3.2615670311911447
         },
         {
          "comp1": 0,
          "comp2": -7,
          "index": "1991-01-07T05:00:00",
          "location": "Nieuwe Waterweg Maeslantkering zee",
          "state": "AfzinkenCPSE",
          "value": 3.4010462917823503
         },
         {
          "comp1": 0,
          "comp2": -13.15,
          "index": "1991-01-07T05:10:00",
          "location": "Nieuwe Waterweg Maeslantkering zee",
          "state": "AfzinkenBodem",
          "value": 3.522473983984005
         },
         {
          "comp1": 0,
          "comp2": -13.15,
          "index": "1991-01-07T05:20:00",
          "location": "Nieuwe Waterweg Maeslantkering zee",
          "state": "AfzinkenBodem",
          "value": 3.6841542559781586
         },
         {
          "comp1": 0,
          "comp2": -13.15,
          "index": "1991-01-07T05:30:00",
          "location": "Nieuwe Waterweg Maeslantkering zee",
          "state": "AfzinkenBodem",
          "value": 3.8799059063046175
         },
         {
          "comp1": 0,
          "comp2": -13.15,
          "index": "1991-01-07T05:40:00",
          "location": "Nieuwe Waterweg Maeslantkering zee",
          "state": "AfzinkenBodem",
          "value": 4.0900570795676705
         },
         {
          "comp1": 0,
          "comp2": -13.15,
          "index": "1991-01-07T05:50:00",
          "location": "Nieuwe Waterweg Maeslantkering zee",
          "state": "AfzinkenBodem",
          "value": 4.280138618550677
         },
         {
          "comp1": 0,
          "comp2": -13.15,
          "index": "1991-01-07T06:00:00",
          "location": "Nieuwe Waterweg Maeslantkering zee",
          "state": "AfzinkenBodem",
          "value": 4.450643989796326
         },
         {
          "comp1": 0,
          "comp2": -16.72,
          "index": "1991-01-07T06:10:00",
          "location": "Nieuwe Waterweg Maeslantkering zee",
          "state": "Keren",
          "value": 4.634944971777894
         },
         {
          "comp1": 0,
          "comp2": -16.72,
          "index": "1991-01-07T06:20:00",
          "location": "Nieuwe Waterweg Maeslantkering zee",
          "state": "Keren",
          "value": 4.8161202971119055
         },
         {
          "comp1": 0,
          "comp2": -16.72,
          "index": "1991-01-07T06:30:00",
          "location": "Nieuwe Waterweg Maeslantkering zee",
          "state": "Keren",
          "value": 4.883537005679521
         },
         {
          "comp1": 0,
          "comp2": -16.72,
          "index": "1991-01-07T06:40:00",
          "location": "Nieuwe Waterweg Maeslantkering zee",
          "state": "Keren",
          "value": 4.898326941547162
         },
         {
          "comp1": 0,
          "comp2": -16.72,
          "index": "1991-01-07T06:50:00",
          "location": "Nieuwe Waterweg Maeslantkering zee",
          "state": "Keren",
          "value": 4.900789508776968
         },
         {
          "comp1": 0,
          "comp2": -16.72,
          "index": "1991-01-07T07:00:00",
          "location": "Nieuwe Waterweg Maeslantkering zee",
          "state": "Keren",
          "value": 4.868674181991559
         },
         {
          "comp1": 0,
          "comp2": -16.72,
          "index": "1991-01-07T07:10:00",
          "location": "Nieuwe Waterweg Maeslantkering zee",
          "state": "Keren",
          "value": 4.857238601621555
         },
         {
          "comp1": 0,
          "comp2": -16.72,
          "index": "1991-01-07T07:20:00",
          "location": "Nieuwe Waterweg Maeslantkering zee",
          "state": "Keren",
          "value": 4.861705682360316
         },
         {
          "comp1": 0,
          "comp2": -16.72,
          "index": "1991-01-07T07:30:00",
          "location": "Nieuwe Waterweg Maeslantkering zee",
          "state": "Keren",
          "value": 4.819297076630869
         },
         {
          "comp1": 0,
          "comp2": -16.72,
          "index": "1991-01-07T07:40:00",
          "location": "Nieuwe Waterweg Maeslantkering zee",
          "state": "Keren",
          "value": 4.816863050379442
         },
         {
          "comp1": 0,
          "comp2": -16.72,
          "index": "1991-01-07T07:50:00",
          "location": "Nieuwe Waterweg Maeslantkering zee",
          "state": "Keren",
          "value": 4.860384812567057
         },
         {
          "comp1": 0,
          "comp2": -16.72,
          "index": "1991-01-07T08:00:00",
          "location": "Nieuwe Waterweg Maeslantkering zee",
          "state": "Keren",
          "value": 4.912866531354867
         },
         {
          "comp1": 0,
          "comp2": -16.72,
          "index": "1991-01-07T08:10:00",
          "location": "Nieuwe Waterweg Maeslantkering zee",
          "state": "Keren",
          "value": 4.951591667381935
         },
         {
          "comp1": 0,
          "comp2": -16.72,
          "index": "1991-01-07T08:20:00",
          "location": "Nieuwe Waterweg Maeslantkering zee",
          "state": "Keren",
          "value": 4.977764930904542
         },
         {
          "comp1": 0,
          "comp2": -16.72,
          "index": "1991-01-07T08:30:00",
          "location": "Nieuwe Waterweg Maeslantkering zee",
          "state": "Keren",
          "value": 5.007244386210878
         },
         {
          "comp1": 0,
          "comp2": -16.72,
          "index": "1991-01-07T08:40:00",
          "location": "Nieuwe Waterweg Maeslantkering zee",
          "state": "Keren",
          "value": 5.0265318823408585
         },
         {
          "comp1": 0,
          "comp2": -16.72,
          "index": "1991-01-07T08:50:00",
          "location": "Nieuwe Waterweg Maeslantkering zee",
          "state": "Keren",
          "value": 5.027602705735765
         },
         {
          "comp1": 0,
          "comp2": -16.72,
          "index": "1991-01-07T09:00:00",
          "location": "Nieuwe Waterweg Maeslantkering zee",
          "state": "Keren",
          "value": 4.982405834242899
         },
         {
          "comp1": 0,
          "comp2": -16.72,
          "index": "1991-01-07T09:10:00",
          "location": "Nieuwe Waterweg Maeslantkering zee",
          "state": "Keren",
          "value": 4.942080975432723
         },
         {
          "comp1": 0,
          "comp2": -16.72,
          "index": "1991-01-07T09:20:00",
          "location": "Nieuwe Waterweg Maeslantkering zee",
          "state": "Keren",
          "value": 4.890620374458688
         },
         {
          "comp1": 0,
          "comp2": -16.72,
          "index": "1991-01-07T09:30:00",
          "location": "Nieuwe Waterweg Maeslantkering zee",
          "state": "Keren",
          "value": 4.805337859220852
         },
         {
          "comp1": 0,
          "comp2": -16.72,
          "index": "1991-01-07T09:40:00",
          "location": "Nieuwe Waterweg Maeslantkering zee",
          "state": "Keren",
          "value": 4.720902454710351
         },
         {
          "comp1": 0,
          "comp2": -16.72,
          "index": "1991-01-07T09:50:00",
          "location": "Nieuwe Waterweg Maeslantkering zee",
          "state": "Keren",
          "value": 4.625476586347416
         },
         {
          "comp1": 0,
          "comp2": -16.72,
          "index": "1991-01-07T10:00:00",
          "location": "Nieuwe Waterweg Maeslantkering zee",
          "state": "Keren",
          "value": 4.534366473599214
         },
         {
          "comp1": 0,
          "comp2": -16.72,
          "index": "1991-01-07T10:10:00",
          "location": "Nieuwe Waterweg Maeslantkering zee",
          "state": "Keren",
          "value": 4.459140783933044
         },
         {
          "comp1": 0,
          "comp2": -16.72,
          "index": "1991-01-07T10:20:00",
          "location": "Nieuwe Waterweg Maeslantkering zee",
          "state": "Keren",
          "value": 4.390797611347237
         },
         {
          "comp1": 0,
          "comp2": -16.72,
          "index": "1991-01-07T10:30:00",
          "location": "Nieuwe Waterweg Maeslantkering zee",
          "state": "Keren",
          "value": 4.320287361857929
         },
         {
          "comp1": 0,
          "comp2": -16.72,
          "index": "1991-01-07T10:40:00",
          "location": "Nieuwe Waterweg Maeslantkering zee",
          "state": "Keren",
          "value": 4.236297885005813
         },
         {
          "comp1": 0,
          "comp2": -16.72,
          "index": "1991-01-07T10:50:00",
          "location": "Nieuwe Waterweg Maeslantkering zee",
          "state": "Keren",
          "value": 4.167042088296746
         },
         {
          "comp1": 0,
          "comp2": -16.72,
          "index": "1991-01-07T11:00:00",
          "location": "Nieuwe Waterweg Maeslantkering zee",
          "state": "Keren",
          "value": 4.108135102304179
         },
         {
          "comp1": 0,
          "comp2": -16.72,
          "index": "1991-01-07T11:10:00",
          "location": "Nieuwe Waterweg Maeslantkering zee",
          "state": "Keren",
          "value": 4.045283408901585
         },
         {
          "comp1": 0,
          "comp2": -16.72,
          "index": "1991-01-07T11:20:00",
          "location": "Nieuwe Waterweg Maeslantkering zee",
          "state": "Keren",
          "value": 3.974949419414306
         },
         {
          "comp1": 0,
          "comp2": -16.72,
          "index": "1991-01-07T11:30:00",
          "location": "Nieuwe Waterweg Maeslantkering zee",
          "state": "Keren",
          "value": 3.9081218371463544
         },
         {
          "comp1": 0,
          "comp2": -16.72,
          "index": "1991-01-07T11:40:00",
          "location": "Nieuwe Waterweg Maeslantkering zee",
          "state": "Keren",
          "value": 3.844133475194373
         },
         {
          "comp1": 0,
          "comp2": -16.72,
          "index": "1991-01-07T11:50:00",
          "location": "Nieuwe Waterweg Maeslantkering zee",
          "state": "Keren",
          "value": 3.7961327360978787
         },
         {
          "comp1": 0,
          "comp2": -16.72,
          "index": "1991-01-07T12:00:00",
          "location": "Nieuwe Waterweg Maeslantkering zee",
          "state": "Keren",
          "value": 3.768388891401494
         },
         {
          "comp1": 0,
          "comp2": -16.72,
          "index": "1991-01-07T12:10:00",
          "location": "Nieuwe Waterweg Maeslantkering zee",
          "state": "Keren",
          "value": 3.741094791673503
         },
         {
          "comp1": 0,
          "comp2": -16.72,
          "index": "1991-01-07T12:20:00",
          "location": "Nieuwe Waterweg Maeslantkering zee",
          "state": "Keren",
          "value": 3.7329684139139503
         },
         {
          "comp1": 0,
          "comp2": -16.72,
          "index": "1991-01-07T12:30:00",
          "location": "Nieuwe Waterweg Maeslantkering zee",
          "state": "Keren",
          "value": 3.7472089503213226
         },
         {
          "comp1": 0,
          "comp2": -16.72,
          "index": "1991-01-07T12:40:00",
          "location": "Nieuwe Waterweg Maeslantkering zee",
          "state": "Keren",
          "value": 3.7715339272716157
         },
         {
          "comp1": 0,
          "comp2": -16.72,
          "index": "1991-01-07T12:50:00",
          "location": "Nieuwe Waterweg Maeslantkering zee",
          "state": "Keren",
          "value": 3.786759031083596
         },
         {
          "comp1": 0,
          "comp2": -16.72,
          "index": "1991-01-07T13:00:00",
          "location": "Nieuwe Waterweg Maeslantkering zee",
          "state": "Keren",
          "value": 3.7880458508279067
         },
         {
          "comp1": 0,
          "comp2": -16.72,
          "index": "1991-01-07T13:10:00",
          "location": "Nieuwe Waterweg Maeslantkering zee",
          "state": "Keren",
          "value": 3.7883375065984453
         },
         {
          "comp1": 0,
          "comp2": -16.72,
          "index": "1991-01-07T13:20:00",
          "location": "Nieuwe Waterweg Maeslantkering zee",
          "state": "Keren",
          "value": 3.786675097592099
         },
         {
          "comp1": 0,
          "comp2": -16.72,
          "index": "1991-01-07T13:30:00",
          "location": "Nieuwe Waterweg Maeslantkering zee",
          "state": "Keren",
          "value": 3.7356771646736653
         },
         {
          "comp1": 0,
          "comp2": -16.72,
          "index": "1991-01-07T13:40:00",
          "location": "Nieuwe Waterweg Maeslantkering zee",
          "state": "Keren",
          "value": 3.662085763550232
         },
         {
          "comp1": 0,
          "comp2": -16.72,
          "index": "1991-01-07T13:50:00",
          "location": "Nieuwe Waterweg Maeslantkering zee",
          "state": "Keren",
          "value": 3.5880005036504654
         },
         {
          "comp1": 0,
          "comp2": -16.72,
          "index": "1991-01-07T14:00:00",
          "location": "Nieuwe Waterweg Maeslantkering zee",
          "state": "Keren",
          "value": 3.534278236615779
         },
         {
          "comp1": 0,
          "comp2": -16.72,
          "index": "1991-01-07T14:10:00",
          "location": "Nieuwe Waterweg Maeslantkering zee",
          "state": "Keren",
          "value": 3.470177677374996
         },
         {
          "comp1": 0,
          "comp2": -16.72,
          "index": "1991-01-07T14:20:00",
          "location": "Nieuwe Waterweg Maeslantkering zee",
          "state": "Keren",
          "value": 3.4224238924015618
         },
         {
          "comp1": 0,
          "comp2": -16.72,
          "index": "1991-01-07T14:30:00",
          "location": "Nieuwe Waterweg Maeslantkering zee",
          "state": "Keren",
          "value": 3.1660292490788944
         },
         {
          "comp1": 0,
          "comp2": -16.72,
          "index": "1991-01-07T14:40:00",
          "location": "Nieuwe Waterweg Maeslantkering zee",
          "state": "Keren",
          "value": 3.659786485584971
         },
         {
          "comp1": 0,
          "comp2": -16.72,
          "index": "1991-01-07T14:50:00",
          "location": "Nieuwe Waterweg Maeslantkering zee",
          "state": "Opdrijven",
          "value": 2.8399385264958976
         },
         {
          "comp1": 0,
          "comp2": -16.72,
          "index": "1991-01-07T15:00:00",
          "location": "Nieuwe Waterweg Maeslantkering zee",
          "state": "Opdrijven",
          "value": 3.1033166180048575
         },
         {
          "comp1": 0,
          "comp2": -16.72,
          "index": "1991-01-07T15:10:00",
          "location": "Nieuwe Waterweg Maeslantkering zee",
          "state": "Opdrijven",
          "value": 3.735531736207946
         },
         {
          "comp1": 0,
          "comp2": -16.72,
          "index": "1991-01-07T15:20:00",
          "location": "Nieuwe Waterweg Maeslantkering zee",
          "state": "Opdrijven",
          "value": 2.8377225582900545
         },
         {
          "comp1": 0,
          "comp2": -16.72,
          "index": "1991-01-07T15:30:00",
          "location": "Nieuwe Waterweg Maeslantkering zee",
          "state": "Opdrijven",
          "value": 3.982153948065266
         },
         {
          "comp1": 0,
          "comp2": -16.72,
          "index": "1991-01-07T15:40:00",
          "location": "Nieuwe Waterweg Maeslantkering zee",
          "state": "Opdrijven",
          "value": 2.7992557660384443
         },
         {
          "comp1": 0,
          "comp2": -7,
          "index": "1991-01-07T15:50:00",
          "location": "Nieuwe Waterweg Maeslantkering zee",
          "state": "Spuien",
          "value": 2.4954952153119434
         },
         {
          "comp1": 0,
          "comp2": -7,
          "index": "1991-01-07T15:50:00",
          "location": "Nieuwe Waterweg Maeslantkering zee",
          "state": "AfzinkenCPSE",
          "value": 2.4954952153119434
         },
         {
          "comp1": 0,
          "comp2": -7,
          "index": "1991-01-07T16:00:00",
          "location": "Nieuwe Waterweg Maeslantkering zee",
          "state": "AfzinkenCPSE",
          "value": 2.672595531878862
         },
         {
          "comp1": 0,
          "comp2": -7,
          "index": "1991-01-07T16:10:00",
          "location": "Nieuwe Waterweg Maeslantkering zee",
          "state": "AfzinkenCPSE",
          "value": 3.6250689589020024
         },
         {
          "comp1": 0,
          "comp2": -13.15,
          "index": "1991-01-07T16:20:00",
          "location": "Nieuwe Waterweg Maeslantkering zee",
          "state": "Opdrijven",
          "value": 3.563981230804549
         },
         {
          "comp1": 0,
          "comp2": -13.15,
          "index": "1991-01-07T16:30:00",
          "location": "Nieuwe Waterweg Maeslantkering zee",
          "state": "Opdrijven",
          "value": 3.5760582664592473
         },
         {
          "comp1": 0,
          "comp2": -13.15,
          "index": "1991-01-07T16:40:00",
          "location": "Nieuwe Waterweg Maeslantkering zee",
          "state": "Opdrijven",
          "value": 2.673497951377011
         },
         {
          "comp1": 0,
          "comp2": -13.15,
          "index": "1991-01-07T16:50:00",
          "location": "Nieuwe Waterweg Maeslantkering zee",
          "state": "Opdrijven",
          "value": 3.735895617729023
         },
         {
          "comp1": 0,
          "comp2": -7,
          "index": "1991-01-07T17:00:00",
          "location": "Nieuwe Waterweg Maeslantkering zee",
          "state": "Spuien",
          "value": 3.739459452719294
         },
         {
          "comp1": 0,
          "comp2": -7,
          "index": "1991-01-07T17:10:00",
          "location": "Nieuwe Waterweg Maeslantkering zee",
          "state": "AfzinkenCPSE",
          "value": 2.5837082171986867
         },
         {
          "comp1": 0,
          "comp2": -9.17,
          "index": "1991-01-07T17:20:00",
          "location": "Nieuwe Waterweg Maeslantkering zee",
          "state": "Opdrijven",
          "value": 2.485967249942109
         },
         {
          "comp1": 0,
          "comp2": -9.17,
          "index": "1991-01-07T17:30:00",
          "location": "Nieuwe Waterweg Maeslantkering zee",
          "state": "Opdrijven",
          "value": 4.255294881437776
         },
         {
          "comp1": 0,
          "comp2": -7,
          "index": "1991-01-07T17:40:00",
          "location": "Nieuwe Waterweg Maeslantkering zee",
          "state": "Spuien",
          "value": 2.9677533208761813
         },
         {
          "comp1": 0,
          "comp2": -7,
          "index": "1991-01-07T17:40:00",
          "location": "Nieuwe Waterweg Maeslantkering zee",
          "state": "AfzinkenCPSE",
          "value": 2.9677533208761813
         },
         {
          "comp1": 0,
          "comp2": -9.17,
          "index": "1991-01-07T17:50:00",
          "location": "Nieuwe Waterweg Maeslantkering zee",
          "state": "Opdrijven",
          "value": 3.403338136864532
         },
         {
          "comp1": 0,
          "comp2": -9.17,
          "index": "1991-01-07T18:00:00",
          "location": "Nieuwe Waterweg Maeslantkering zee",
          "state": "Opdrijven",
          "value": 3.7992210857938975
         },
         {
          "comp1": 0,
          "comp2": -7,
          "index": "1991-01-07T18:10:00",
          "location": "Nieuwe Waterweg Maeslantkering zee",
          "state": "Spuien",
          "value": 3.784423985124766
         },
         {
          "comp1": 0,
          "comp2": -7,
          "index": "1991-01-07T18:10:00",
          "location": "Nieuwe Waterweg Maeslantkering zee",
          "state": "AfzinkenCPSE",
          "value": 3.784423985124766
         },
         {
          "comp1": 0,
          "comp2": -7,
          "index": "1991-01-07T18:20:00",
          "location": "Nieuwe Waterweg Maeslantkering zee",
          "state": "AfzinkenCPSE",
          "value": 3.871442415509245
         },
         {
          "comp1": 0,
          "comp2": -7,
          "index": "1991-01-07T18:30:00",
          "location": "Nieuwe Waterweg Maeslantkering zee",
          "state": "AfzinkenCPSE",
          "value": 4.094181288348474
         },
         {
          "comp1": 0,
          "comp2": -13.15,
          "index": "1991-01-07T18:40:00",
          "location": "Nieuwe Waterweg Maeslantkering zee",
          "state": "AfzinkenBodem",
          "value": 4.079490302589047
         },
         {
          "comp1": 0,
          "comp2": -13.15,
          "index": "1991-01-07T18:50:00",
          "location": "Nieuwe Waterweg Maeslantkering zee",
          "state": "AfzinkenBodem",
          "value": 4.077796728196702
         },
         {
          "comp1": 0,
          "comp2": -13.15,
          "index": "1991-01-07T19:00:00",
          "location": "Nieuwe Waterweg Maeslantkering zee",
          "state": "AfzinkenBodem",
          "value": 4.117357071581508
         },
         {
          "comp1": 0,
          "comp2": -13.15,
          "index": "1991-01-07T19:10:00",
          "location": "Nieuwe Waterweg Maeslantkering zee",
          "state": "AfzinkenBodem",
          "value": 3.973708318269094
         },
         {
          "comp1": 0,
          "comp2": -13.15,
          "index": "1991-01-07T19:20:00",
          "location": "Nieuwe Waterweg Maeslantkering zee",
          "state": "AfzinkenBodem",
          "value": 3.8056082651477134
         },
         {
          "comp1": 0,
          "comp2": -13.15,
          "index": "1991-01-07T19:30:00",
          "location": "Nieuwe Waterweg Maeslantkering zee",
          "state": "AfzinkenBodem",
          "value": 3.722983220339678
         },
         {
          "comp1": 0,
          "comp2": -16.72,
          "index": "1991-01-07T19:40:00",
          "location": "Nieuwe Waterweg Maeslantkering zee",
          "state": "Keren",
          "value": 3.6403540990183654
         },
         {
          "comp1": 0,
          "comp2": -16.72,
          "index": "1991-01-07T19:50:00",
          "location": "Nieuwe Waterweg Maeslantkering zee",
          "state": "Keren",
          "value": 3.521779131495821
         },
         {
          "comp1": 0,
          "comp2": -16.72,
          "index": "1991-01-07T20:00:00",
          "location": "Nieuwe Waterweg Maeslantkering zee",
          "state": "Keren",
          "value": 3.4223223084643126
         },
         {
          "comp1": 0,
          "comp2": -16.72,
          "index": "1991-01-07T20:10:00",
          "location": "Nieuwe Waterweg Maeslantkering zee",
          "state": "Keren",
          "value": 3.3541302118673255
         },
         {
          "comp1": 0,
          "comp2": -16.72,
          "index": "1991-01-07T20:20:00",
          "location": "Nieuwe Waterweg Maeslantkering zee",
          "state": "Keren",
          "value": 3.3106617495589736
         },
         {
          "comp1": 0,
          "comp2": -16.72,
          "index": "1991-01-07T20:30:00",
          "location": "Nieuwe Waterweg Maeslantkering zee",
          "state": "Keren",
          "value": 3.281758164069006
         },
         {
          "comp1": 0,
          "comp2": -16.72,
          "index": "1991-01-07T20:40:00",
          "location": "Nieuwe Waterweg Maeslantkering zee",
          "state": "Keren",
          "value": 3.2313365547255497
         },
         {
          "comp1": 0,
          "comp2": -16.72,
          "index": "1991-01-07T20:50:00",
          "location": "Nieuwe Waterweg Maeslantkering zee",
          "state": "Keren",
          "value": 3.1579952631260144
         },
         {
          "comp1": 0,
          "comp2": -16.72,
          "index": "1991-01-07T21:00:00",
          "location": "Nieuwe Waterweg Maeslantkering zee",
          "state": "Keren",
          "value": 3.075308817977019
         },
         {
          "comp1": 0,
          "comp2": -16.72,
          "index": "1991-01-07T21:10:00",
          "location": "Nieuwe Waterweg Maeslantkering zee",
          "state": "Keren",
          "value": 2.9732684826601896
         },
         {
          "comp1": 0,
          "comp2": -16.72,
          "index": "1991-01-07T21:20:00",
          "location": "Nieuwe Waterweg Maeslantkering zee",
          "state": "Keren",
          "value": 2.8585484491849016
         },
         {
          "comp1": 0,
          "comp2": -16.72,
          "index": "1991-01-07T21:30:00",
          "location": "Nieuwe Waterweg Maeslantkering zee",
          "state": "Keren",
          "value": 2.7840385236525482
         },
         {
          "comp1": 0,
          "comp2": -16.72,
          "index": "1991-01-07T21:40:00",
          "location": "Nieuwe Waterweg Maeslantkering zee",
          "state": "Keren",
          "value": 2.6902972283159845
         },
         {
          "comp1": 0,
          "comp2": -16.72,
          "index": "1991-01-07T21:50:00",
          "location": "Nieuwe Waterweg Maeslantkering zee",
          "state": "Keren",
          "value": 4.017603619721496
         },
         {
          "comp1": 0,
          "comp2": -16.72,
          "index": "1991-01-07T22:00:00",
          "location": "Nieuwe Waterweg Maeslantkering zee",
          "state": "Keren",
          "value": 1.527665730165145
         },
         {
          "comp1": 0,
          "comp2": -16.72,
          "index": "1991-01-07T22:10:00",
          "location": "Nieuwe Waterweg Maeslantkering zee",
          "state": "Keren",
          "value": 3.1338470220989714
         },
         {
          "comp1": 0,
          "comp2": -16.72,
          "index": "1991-01-07T22:20:00",
          "location": "Nieuwe Waterweg Maeslantkering zee",
          "state": "Opdrijven",
          "value": 2.965489809972551
         },
         {
          "comp1": 0,
          "comp2": -16.72,
          "index": "1991-01-07T22:30:00",
          "location": "Nieuwe Waterweg Maeslantkering zee",
          "state": "Opdrijven",
          "value": 2.8167645654490485
         },
         {
          "comp1": 0,
          "comp2": -16.72,
          "index": "1991-01-07T22:40:00",
          "location": "Nieuwe Waterweg Maeslantkering zee",
          "state": "Opdrijven",
          "value": 1.596453619238328
         },
         {
          "comp1": 0,
          "comp2": -16.72,
          "index": "1991-01-07T22:50:00",
          "location": "Nieuwe Waterweg Maeslantkering zee",
          "state": "Opdrijven",
          "value": 2.206894033392389
         },
         {
          "comp1": 0,
          "comp2": -16.72,
          "index": "1991-01-07T23:00:00",
          "location": "Nieuwe Waterweg Maeslantkering zee",
          "state": "Opdrijven",
          "value": 0.967756389313327
         },
         {
          "comp1": 0,
          "comp2": -16.72,
          "index": "1991-01-07T23:10:00",
          "location": "Nieuwe Waterweg Maeslantkering zee",
          "state": "Opdrijven",
          "value": 2.1266948633683374
         },
         {
          "comp1": 0,
          "comp2": -7,
          "index": "1991-01-07T23:20:00",
          "location": "Nieuwe Waterweg Maeslantkering zee",
          "state": "Spuien",
          "value": 1.8253901465636673
         },
         {
          "comp1": 0,
          "comp2": -7,
          "index": "1991-01-07T23:20:00",
          "location": "Nieuwe Waterweg Maeslantkering zee",
          "state": "AfzinkenCPSE",
          "value": 1.8253901465636673
         },
         {
          "comp1": 0,
          "comp2": -7,
          "index": "1991-01-07T23:30:00",
          "location": "Nieuwe Waterweg Maeslantkering zee",
          "state": "AfzinkenCPSE",
          "value": 1.7008943464008173
         },
         {
          "comp1": 0,
          "comp2": -11.43,
          "index": "1991-01-07T23:40:00",
          "location": "Nieuwe Waterweg Maeslantkering zee",
          "state": "Opdrijven",
          "value": 1.5851740618739696
         },
         {
          "comp1": 0,
          "comp2": -11.43,
          "index": "1991-01-07T23:50:00",
          "location": "Nieuwe Waterweg Maeslantkering zee",
          "state": "Opdrijven",
          "value": 1.4808231093040842
         },
         {
          "comp1": 0,
          "comp2": -11.43,
          "index": "1991-01-08T00:00:00",
          "location": "Nieuwe Waterweg Maeslantkering zee",
          "state": "Opdrijven",
          "value": 1.0120352361694198
         },
         {
          "comp1": 0,
          "comp2": -7,
          "index": "1991-01-08T00:10:00",
          "location": "Nieuwe Waterweg Maeslantkering zee",
          "state": "Spuien",
          "value": 0.8634859022800421
         },
         {
          "comp1": 0,
          "comp2": -7,
          "index": "1991-01-08T00:20:00",
          "location": "Nieuwe Waterweg Maeslantkering zee",
          "state": "Spuien",
          "value": 0.7785403744361226
         },
         {
          "comp1": 0,
          "comp2": -7,
          "index": "1991-01-08T00:30:00",
          "location": "Nieuwe Waterweg Maeslantkering zee",
          "state": "Spuien",
          "value": 0.7323851949105028
         },
         {
          "comp1": 0,
          "comp2": -7,
          "index": "1991-01-08T00:40:00",
          "location": "Nieuwe Waterweg Maeslantkering zee",
          "state": "Spuien",
          "value": 0.6907589280296641
         },
         {
          "comp1": 0,
          "comp2": -7,
          "index": "1991-01-08T00:50:00",
          "location": "Nieuwe Waterweg Maeslantkering zee",
          "state": "Spuien",
          "value": 0.6489742234607138
         },
         {
          "comp1": 360,
          "comp2": -7,
          "index": "1991-01-08T01:00:00",
          "location": "Nieuwe Waterweg Maeslantkering zee",
          "state": "HorizontaalOpenen",
          "value": 0.6058888984453601
         },
         {
          "comp1": 360,
          "comp2": -7,
          "index": "1991-01-08T01:00:00",
          "location": "Nieuwe Waterweg Maeslantkering zee",
          "state": "Paraat",
          "value": 0.6058888984453601
         },
         {
          "comp1": 360,
          "comp2": -7,
          "index": "1991-01-08T01:00:00",
          "location": "Nieuwe Waterweg Maeslantkering zee",
          "state": "ParkerenKw",
          "value": 0.6058888984453601
         },
         {
          "comp1": 360,
          "comp2": -7,
          "index": "1991-01-08T01:10:00",
          "location": "Nieuwe Waterweg Maeslantkering zee",
          "state": "ParkerenKw",
          "value": 0.5581385684185753
         },
         {
          "comp1": 360,
          "comp2": -7,
          "index": "1991-01-08T01:20:00",
          "location": "Nieuwe Waterweg Maeslantkering zee",
          "state": "ParkerenKw",
          "value": 0.5099793932767916
         },
         {
          "comp1": 360,
          "comp2": -7,
          "index": "1991-01-08T01:30:00",
          "location": "Nieuwe Waterweg Maeslantkering zee",
          "state": "ParkerenKw",
          "value": 0.4734049720543728
         },
         {
          "comp1": 360,
          "comp2": -7,
          "index": "1991-01-08T01:40:00",
          "location": "Nieuwe Waterweg Maeslantkering zee",
          "state": "ParkerenKw",
          "value": 0.4383022137516539
         },
         {
          "comp1": 360,
          "comp2": -7,
          "index": "1991-01-08T01:50:00",
          "location": "Nieuwe Waterweg Maeslantkering zee",
          "state": "ParkerenKw",
          "value": 0.3977248382799118
         },
         {
          "comp1": 360,
          "comp2": -7,
          "index": "1991-01-08T02:00:00",
          "location": "Nieuwe Waterweg Maeslantkering zee",
          "state": "Alert",
          "value": 0.34651410900191926
         },
         {
          "comp1": 360,
          "comp2": -7,
          "index": "1991-01-08T02:10:00",
          "location": "Nieuwe Waterweg Maeslantkering zee",
          "state": "Alert",
          "value": 0.2931198139028295
         },
         {
          "comp1": 360,
          "comp2": -7,
          "index": "1991-01-08T02:20:00",
          "location": "Nieuwe Waterweg Maeslantkering zee",
          "state": "Alert",
          "value": 0.23949096486287344
         },
         {
          "comp1": 360,
          "comp2": -7,
          "index": "1991-01-08T02:30:00",
          "location": "Nieuwe Waterweg Maeslantkering zee",
          "state": "Alert",
          "value": 0.17923078911241563
         },
         {
          "comp1": 360,
          "comp2": -7,
          "index": "1991-01-08T02:40:00",
          "location": "Nieuwe Waterweg Maeslantkering zee",
          "state": "Alert",
          "value": 0.11722439599383026
         },
         {
          "comp1": 360,
          "comp2": -7,
          "index": "1991-01-08T02:50:00",
          "location": "Nieuwe Waterweg Maeslantkering zee",
          "state": "Alert",
          "value": 0.05368195061832826
         },
         {
          "comp1": 360,
          "comp2": -7,
          "index": "1991-01-08T03:00:00",
          "location": "Nieuwe Waterweg Maeslantkering zee",
          "state": "Alert",
          "value": -0.004801981673084022
         },
         {
          "comp1": 360,
          "comp2": -7,
          "index": "1991-01-08T03:10:00",
          "location": "Nieuwe Waterweg Maeslantkering zee",
          "state": "Alert",
          "value": -0.056199764613923585
         },
         {
          "comp1": 360,
          "comp2": -7,
          "index": "1991-01-08T03:20:00",
          "location": "Nieuwe Waterweg Maeslantkering zee",
          "state": "Alert",
          "value": -0.10478224609724533
         },
         {
          "comp1": 360,
          "comp2": -7,
          "index": "1991-01-08T03:30:00",
          "location": "Nieuwe Waterweg Maeslantkering zee",
          "state": "Alert",
          "value": -0.15202827675645117
         },
         {
          "comp1": 360,
          "comp2": -7,
          "index": "1991-01-08T03:40:00",
          "location": "Nieuwe Waterweg Maeslantkering zee",
          "state": "Alert",
          "value": -0.19735345133554189
         },
         {
          "comp1": 360,
          "comp2": -7,
          "index": "1991-01-08T03:50:00",
          "location": "Nieuwe Waterweg Maeslantkering zee",
          "state": "Alert",
          "value": -0.23700436888324075
         },
         {
          "comp1": 360,
          "comp2": -7,
          "index": "1991-01-08T04:00:00",
          "location": "Nieuwe Waterweg Maeslantkering zee",
          "state": "Alert",
          "value": -0.2688442878485015
         },
         {
          "comp1": 360,
          "comp2": -7,
          "index": "1991-01-08T04:10:00",
          "location": "Nieuwe Waterweg Maeslantkering zee",
          "state": "Alert",
          "value": -0.29708384981175817
         },
         {
          "comp1": 360,
          "comp2": -7,
          "index": "1991-01-08T04:20:00",
          "location": "Nieuwe Waterweg Maeslantkering zee",
          "state": "Alert",
          "value": -0.32110077259180536
         },
         {
          "comp1": 360,
          "comp2": -7,
          "index": "1991-01-08T04:30:00",
          "location": "Nieuwe Waterweg Maeslantkering zee",
          "state": "Alert",
          "value": -0.3379381972218291
         },
         {
          "comp1": 360,
          "comp2": -7,
          "index": "1991-01-08T04:40:00",
          "location": "Nieuwe Waterweg Maeslantkering zee",
          "state": "Gemobiliseerd",
          "value": -0.3459512934866892
         },
         {
          "comp1": 360,
          "comp2": -7,
          "index": "1991-01-08T04:40:00",
          "location": "Nieuwe Waterweg Maeslantkering zee",
          "state": "Rust",
          "value": -0.3459512934866892
         },
         {
          "comp1": 360,
          "comp2": -7,
          "index": "1991-01-08T04:50:00",
          "location": "Nieuwe Waterweg Maeslantkering zee",
          "state": "Rust",
          "value": -0.3497343337298249
         },
         {
          "comp1": 360,
          "comp2": -7,
          "index": "1991-01-08T05:00:00",
          "location": "Nieuwe Waterweg Maeslantkering zee",
          "state": "Rust",
          "value": -0.329107320768212
         },
         {
          "comp1": 360,
          "comp2": -7,
          "index": "1991-01-08T05:10:00",
          "location": "Nieuwe Waterweg Maeslantkering zee",
          "state": "Rust",
          "value": -0.2835659769034445
         },
         {
          "comp1": 360,
          "comp2": -7,
          "index": "1991-01-08T05:20:00",
          "location": "Nieuwe Waterweg Maeslantkering zee",
          "state": "Rust",
          "value": -0.2256554558679705
         },
         {
          "comp1": 360,
          "comp2": -7,
          "index": "1991-01-08T05:30:00",
          "location": "Nieuwe Waterweg Maeslantkering zee",
          "state": "Rust",
          "value": -0.1474213093917637
         },
         {
          "comp1": 360,
          "comp2": -7,
          "index": "1991-01-08T05:40:00",
          "location": "Nieuwe Waterweg Maeslantkering zee",
          "state": "Rust",
          "value": -0.04690692274805704
         },
         {
          "comp1": 360,
          "comp2": -7,
          "index": "1991-01-08T05:50:00",
          "location": "Nieuwe Waterweg Maeslantkering zee",
          "state": "Rust",
          "value": 0.0777671439051817
         },
         {
          "comp1": 360,
          "comp2": -7,
          "index": "1991-01-08T06:00:00",
          "location": "Nieuwe Waterweg Maeslantkering zee",
          "state": "Rust",
          "value": 0.2228502684271307
         },
         {
          "comp1": 360,
          "comp2": -7,
          "index": "1991-01-08T06:10:00",
          "location": "Nieuwe Waterweg Maeslantkering zee",
          "state": "Rust",
          "value": 0.35990220234838394
         },
         {
          "comp1": 360,
          "comp2": -7,
          "index": "1991-01-08T06:20:00",
          "location": "Nieuwe Waterweg Maeslantkering zee",
          "state": "Rust",
          "value": 0.5001051680976595
         },
         {
          "comp1": 360,
          "comp2": -7,
          "index": "1991-01-08T06:30:00",
          "location": "Nieuwe Waterweg Maeslantkering zee",
          "state": "Rust",
          "value": 0.6655818658763014
         },
         {
          "comp1": 360,
          "comp2": -7,
          "index": "1991-01-08T06:40:00",
          "location": "Nieuwe Waterweg Maeslantkering zee",
          "state": "Rust",
          "value": 0.8382364610098636
         },
         {
          "comp1": 360,
          "comp2": -7,
          "index": "1991-01-08T06:50:00",
          "location": "Nieuwe Waterweg Maeslantkering zee",
          "state": "Rust",
          "value": 1.0069224425200909
         },
         {
          "comp1": 360,
          "comp2": -7,
          "index": "1991-01-08T07:00:00",
          "location": "Nieuwe Waterweg Maeslantkering zee",
          "state": "Rust",
          "value": 1.1417148928929377
         },
         {
          "comp1": 360,
          "comp2": -7,
          "index": "1991-01-08T07:10:00",
          "location": "Nieuwe Waterweg Maeslantkering zee",
          "state": "Rust",
          "value": 1.2339682881006466
         },
         {
          "comp1": 360,
          "comp2": -7,
          "index": "1991-01-08T07:20:00",
          "location": "Nieuwe Waterweg Maeslantkering zee",
          "state": "Rust",
          "value": 1.2922790076972779
         },
         {
          "comp1": 360,
          "comp2": -7,
          "index": "1991-01-08T07:30:00",
          "location": "Nieuwe Waterweg Maeslantkering zee",
          "state": "Rust",
          "value": 1.3289345136574622
         },
         {
          "comp1": 360,
          "comp2": -7,
          "index": "1991-01-08T07:40:00",
          "location": "Nieuwe Waterweg Maeslantkering zee",
          "state": "Rust",
          "value": 1.342854874648749
         },
         {
          "comp1": 360,
          "comp2": -7,
          "index": "1991-01-08T07:50:00",
          "location": "Nieuwe Waterweg Maeslantkering zee",
          "state": "Rust",
          "value": 1.3262830628391293
         },
         {
          "comp1": 360,
          "comp2": -7,
          "index": "1991-01-08T08:00:00",
          "location": "Nieuwe Waterweg Maeslantkering zee",
          "state": "Rust",
          "value": 1.2967655013061514
         },
         {
          "comp1": 360,
          "comp2": -7,
          "index": "1991-01-08T08:10:00",
          "location": "Nieuwe Waterweg Maeslantkering zee",
          "state": "Rust",
          "value": 1.2645455195243198
         },
         {
          "comp1": 360,
          "comp2": -7,
          "index": "1991-01-08T08:20:00",
          "location": "Nieuwe Waterweg Maeslantkering zee",
          "state": "Rust",
          "value": 1.232203719313339
         },
         {
          "comp1": 360,
          "comp2": -7,
          "index": "1991-01-08T08:30:00",
          "location": "Nieuwe Waterweg Maeslantkering zee",
          "state": "Rust",
          "value": 1.1999132611767906
         },
         {
          "comp1": 360,
          "comp2": -7,
          "index": "1991-01-08T08:40:00",
          "location": "Nieuwe Waterweg Maeslantkering zee",
          "state": "Rust",
          "value": 1.1676812416799582
         },
         {
          "comp1": 360,
          "comp2": -7,
          "index": "1991-01-08T08:50:00",
          "location": "Nieuwe Waterweg Maeslantkering zee",
          "state": "Rust",
          "value": 1.142718986260922
         },
         {
          "comp1": 360,
          "comp2": -7,
          "index": "1991-01-08T09:00:00",
          "location": "Nieuwe Waterweg Maeslantkering zee",
          "state": "Rust",
          "value": 1.131211959031214
         },
         {
          "comp1": 360,
          "comp2": -7,
          "index": "1991-01-08T09:10:00",
          "location": "Nieuwe Waterweg Maeslantkering zee",
          "state": "Rust",
          "value": 1.1243938116318626
         },
         {
          "comp1": 360,
          "comp2": -7,
          "index": "1991-01-08T09:20:00",
          "location": "Nieuwe Waterweg Maeslantkering zee",
          "state": "Rust",
          "value": 1.107822894454683
         },
         {
          "comp1": 360,
          "comp2": -7,
          "index": "1991-01-08T09:30:00",
          "location": "Nieuwe Waterweg Maeslantkering zee",
          "state": "Rust",
          "value": 1.0747757982681736
         },
         {
          "comp1": 360,
          "comp2": -7,
          "index": "1991-01-08T09:40:00",
          "location": "Nieuwe Waterweg Maeslantkering zee",
          "state": "Rust",
          "value": 1.0272065415061107
         },
         {
          "comp1": 360,
          "comp2": -7,
          "index": "1991-01-08T09:50:00",
          "location": "Nieuwe Waterweg Maeslantkering zee",
          "state": "Rust",
          "value": 0.9624331616061643
         },
         {
          "comp1": 360,
          "comp2": -7,
          "index": "1991-01-08T10:00:00",
          "location": "Nieuwe Waterweg Maeslantkering zee",
          "state": "Rust",
          "value": 0.8908216662238836
         },
         {
          "comp1": 360,
          "comp2": -7,
          "index": "1991-01-08T10:10:00",
          "location": "Nieuwe Waterweg Maeslantkering zee",
          "state": "Rust",
          "value": 0.8150626319101705
         },
         {
          "comp1": 360,
          "comp2": -7,
          "index": "1991-01-08T10:20:00",
          "location": "Nieuwe Waterweg Maeslantkering zee",
          "state": "Rust",
          "value": 0.7307811524523266
         },
         {
          "comp1": 360,
          "comp2": -7,
          "index": "1991-01-08T10:30:00",
          "location": "Nieuwe Waterweg Maeslantkering zee",
          "state": "Rust",
          "value": 0.6410388720603798
         },
         {
          "comp1": 360,
          "comp2": -7,
          "index": "1991-01-08T10:40:00",
          "location": "Nieuwe Waterweg Maeslantkering zee",
          "state": "Rust",
          "value": 0.5383830223241349
         },
         {
          "comp1": 360,
          "comp2": -7,
          "index": "1991-01-08T10:50:00",
          "location": "Nieuwe Waterweg Maeslantkering zee",
          "state": "Rust",
          "value": 0.4271099929235101
         },
         {
          "comp1": 360,
          "comp2": -7,
          "index": "1991-01-08T11:00:00",
          "location": "Nieuwe Waterweg Maeslantkering zee",
          "state": "Rust",
          "value": 0.31278463727394873
         },
         {
          "comp1": 360,
          "comp2": -7,
          "index": "1991-01-08T11:10:00",
          "location": "Nieuwe Waterweg Maeslantkering zee",
          "state": "Rust",
          "value": 0.1948721697137069
         },
         {
          "comp1": 360,
          "comp2": -7,
          "index": "1991-01-08T11:20:00",
          "location": "Nieuwe Waterweg Maeslantkering zee",
          "state": "Rust",
          "value": 0.08502995506427638
         },
         {
          "comp1": 360,
          "comp2": -7,
          "index": "1991-01-08T11:30:00",
          "location": "Nieuwe Waterweg Maeslantkering zee",
          "state": "Rust",
          "value": -0.0172276081134558
         },
         {
          "comp1": 360,
          "comp2": -7,
          "index": "1991-01-08T11:40:00",
          "location": "Nieuwe Waterweg Maeslantkering zee",
          "state": "Rust",
          "value": -0.1115800138154103
         },
         {
          "comp1": 360,
          "comp2": -7,
          "index": "1991-01-08T11:50:00",
          "location": "Nieuwe Waterweg Maeslantkering zee",
          "state": "Rust",
          "value": -0.19911003841793937
         },
         {
          "comp1": 360,
          "comp2": -7,
          "index": "1991-01-08T12:00:00",
          "location": "Nieuwe Waterweg Maeslantkering zee",
          "state": "Rust",
          "value": -0.27980007974884585
         },
         {
          "comp1": 360,
          "comp2": -7,
          "index": "1991-01-08T12:10:00",
          "location": "Nieuwe Waterweg Maeslantkering zee",
          "state": "Rust",
          "value": -0.3577021139649219
         },
         {
          "comp1": 360,
          "comp2": -7,
          "index": "1991-01-08T12:20:00",
          "location": "Nieuwe Waterweg Maeslantkering zee",
          "state": "Rust",
          "value": -0.42722577007874546
         },
         {
          "comp1": 360,
          "comp2": -7,
          "index": "1991-01-08T12:30:00",
          "location": "Nieuwe Waterweg Maeslantkering zee",
          "state": "Rust",
          "value": -0.4882471140824701
         },
         {
          "comp1": 360,
          "comp2": -7,
          "index": "1991-01-08T12:40:00",
          "location": "Nieuwe Waterweg Maeslantkering zee",
          "state": "Rust",
          "value": -0.5374788160551291
         },
         {
          "comp1": 360,
          "comp2": -7,
          "index": "1991-01-08T12:50:00",
          "location": "Nieuwe Waterweg Maeslantkering zee",
          "state": "Rust",
          "value": -0.570436257610929
         },
         {
          "comp1": 360,
          "comp2": -7,
          "index": "1991-01-08T13:00:00",
          "location": "Nieuwe Waterweg Maeslantkering zee",
          "state": "Rust",
          "value": -0.5932284434724517
         },
         {
          "comp1": 360,
          "comp2": -7,
          "index": "1991-01-08T13:10:00",
          "location": "Nieuwe Waterweg Maeslantkering zee",
          "state": "Rust",
          "value": -0.6045670648380206
         },
         {
          "comp1": 360,
          "comp2": -7,
          "index": "1991-01-08T13:20:00",
          "location": "Nieuwe Waterweg Maeslantkering zee",
          "state": "Rust",
          "value": -0.6070537503619686
         },
         {
          "comp1": 360,
          "comp2": -7,
          "index": "1991-01-08T13:30:00",
          "location": "Nieuwe Waterweg Maeslantkering zee",
          "state": "Rust",
          "value": -0.6015173090899167
         },
         {
          "comp1": 360,
          "comp2": -7,
          "index": "1991-01-08T13:40:00",
          "location": "Nieuwe Waterweg Maeslantkering zee",
          "state": "Rust",
          "value": -0.5899363289649959
         },
         {
          "comp1": 360,
          "comp2": -7,
          "index": "1991-01-08T13:50:00",
          "location": "Nieuwe Waterweg Maeslantkering zee",
          "state": "Rust",
          "value": -0.5797509276018169
         },
         {
          "comp1": 360,
          "comp2": -7,
          "index": "1991-01-08T14:00:00",
          "location": "Nieuwe Waterweg Maeslantkering zee",
          "state": "Rust",
          "value": -0.5687689257479138
         },
         {
          "comp1": 360,
          "comp2": -7,
          "index": "1991-01-08T14:10:00",
          "location": "Nieuwe Waterweg Maeslantkering zee",
          "state": "Rust",
          "value": -0.5572325799693834
         },
         {
          "comp1": 360,
          "comp2": -7,
          "index": "1991-01-08T14:20:00",
          "location": "Nieuwe Waterweg Maeslantkering zee",
          "state": "Rust",
          "value": -0.5511619497650726
         },
         {
          "comp1": 360,
          "comp2": -7,
          "index": "1991-01-08T14:30:00",
          "location": "Nieuwe Waterweg Maeslantkering zee",
          "state": "Rust",
          "value": -0.5543204825677019
         },
         {
          "comp1": 360,
          "comp2": -7,
          "index": "1991-01-08T14:40:00",
          "location": "Nieuwe Waterweg Maeslantkering zee",
          "state": "Rust",
          "value": -0.5607984736809786
         },
         {
          "comp1": 360,
          "comp2": -7,
          "index": "1991-01-08T14:50:00",
          "location": "Nieuwe Waterweg Maeslantkering zee",
          "state": "Rust",
          "value": -0.5701767426789024
         },
         {
          "comp1": 360,
          "comp2": -7,
          "index": "1991-01-08T15:00:00",
          "location": "Nieuwe Waterweg Maeslantkering zee",
          "state": "Rust",
          "value": -0.576218297599101
         },
         {
          "comp1": 360,
          "comp2": -7,
          "index": "1991-01-08T15:10:00",
          "location": "Nieuwe Waterweg Maeslantkering zee",
          "state": "Rust",
          "value": -0.5817415487477375
         },
         {
          "comp1": 360,
          "comp2": -7,
          "index": "1991-01-08T15:20:00",
          "location": "Nieuwe Waterweg Maeslantkering zee",
          "state": "Rust",
          "value": -0.584901427179904
         },
         {
          "comp1": 360,
          "comp2": -7,
          "index": "1991-01-08T15:30:00",
          "location": "Nieuwe Waterweg Maeslantkering zee",
          "state": "Rust",
          "value": -0.5848741584970295
         },
         {
          "comp1": 360,
          "comp2": -7,
          "index": "1991-01-08T15:40:00",
          "location": "Nieuwe Waterweg Maeslantkering zee",
          "state": "Rust",
          "value": -0.5825533833506793
         },
         {
          "comp1": 360,
          "comp2": -7,
          "index": "1991-01-08T15:50:00",
          "location": "Nieuwe Waterweg Maeslantkering zee",
          "state": "Rust",
          "value": -0.5785309914678625
         },
         {
          "comp1": 360,
          "comp2": -7,
          "index": "1991-01-08T16:00:00",
          "location": "Nieuwe Waterweg Maeslantkering zee",
          "state": "Rust",
          "value": -0.5748050851727013
         },
         {
          "comp1": 360,
          "comp2": -7,
          "index": "1991-01-08T16:10:00",
          "location": "Nieuwe Waterweg Maeslantkering zee",
          "state": "Rust",
          "value": -0.5683863866931734
         },
         {
          "comp1": 360,
          "comp2": -7,
          "index": "1991-01-08T16:20:00",
          "location": "Nieuwe Waterweg Maeslantkering zee",
          "state": "Rust",
          "value": -0.559091729574604
         },
         {
          "comp1": 360,
          "comp2": -7,
          "index": "1991-01-08T16:30:00",
          "location": "Nieuwe Waterweg Maeslantkering zee",
          "state": "Rust",
          "value": -0.5438932300810553
         },
         {
          "comp1": 360,
          "comp2": -7,
          "index": "1991-01-08T16:40:00",
          "location": "Nieuwe Waterweg Maeslantkering zee",
          "state": "Rust",
          "value": -0.5205600758110057
         },
         {
          "comp1": 360,
          "comp2": -7,
          "index": "1991-01-08T16:50:00",
          "location": "Nieuwe Waterweg Maeslantkering zee",
          "state": "Rust",
          "value": -0.4916653729377317
         },
         {
          "comp1": 360,
          "comp2": -7,
          "index": "1991-01-08T17:00:00",
          "location": "Nieuwe Waterweg Maeslantkering zee",
          "state": "Rust",
          "value": -0.45092866615224375
         },
         {
          "comp1": 360,
          "comp2": -7,
          "index": "1991-01-08T17:10:00",
          "location": "Nieuwe Waterweg Maeslantkering zee",
          "state": "Rust",
          "value": -0.40322856258785905
         },
         {
          "comp1": 360,
          "comp2": -7,
          "index": "1991-01-08T17:20:00",
          "location": "Nieuwe Waterweg Maeslantkering zee",
          "state": "Rust",
          "value": -0.34894685977109025
         },
         {
          "comp1": 360,
          "comp2": -7,
          "index": "1991-01-08T17:30:00",
          "location": "Nieuwe Waterweg Maeslantkering zee",
          "state": "Rust",
          "value": -0.2888048546658575
         },
         {
          "comp1": 360,
          "comp2": -7,
          "index": "1991-01-08T17:40:00",
          "location": "Nieuwe Waterweg Maeslantkering zee",
          "state": "Rust",
          "value": -0.22224710623010344
         },
         {
          "comp1": 360,
          "comp2": -7,
          "index": "1991-01-08T17:50:00",
          "location": "Nieuwe Waterweg Maeslantkering zee",
          "state": "Rust",
          "value": -0.1493338354606939
         },
         {
          "comp1": 360,
          "comp2": -7,
          "index": "1991-01-08T18:00:00",
          "location": "Nieuwe Waterweg Maeslantkering zee",
          "state": "Rust",
          "value": -0.05259924376137427
         },
         {
          "comp1": 360,
          "comp2": -7,
          "index": "1991-01-08T18:10:00",
          "location": "Nieuwe Waterweg Maeslantkering zee",
          "state": "Rust",
          "value": 0.061404615035626775
         },
         {
          "comp1": 360,
          "comp2": -7,
          "index": "1991-01-08T18:20:00",
          "location": "Nieuwe Waterweg Maeslantkering zee",
          "state": "Rust",
          "value": 0.19263360098502294
         },
         {
          "comp1": 360,
          "comp2": -7,
          "index": "1991-01-08T18:30:00",
          "location": "Nieuwe Waterweg Maeslantkering zee",
          "state": "Rust",
          "value": 0.3516395041990127
         },
         {
          "comp1": 360,
          "comp2": -7,
          "index": "1991-01-08T18:40:00",
          "location": "Nieuwe Waterweg Maeslantkering zee",
          "state": "Rust",
          "value": 0.5202453428302852
         },
         {
          "comp1": 360,
          "comp2": -7,
          "index": "1991-01-08T18:50:00",
          "location": "Nieuwe Waterweg Maeslantkering zee",
          "state": "Rust",
          "value": 0.6856664233236406
         },
         {
          "comp1": 360,
          "comp2": -7,
          "index": "1991-01-08T19:00:00",
          "location": "Nieuwe Waterweg Maeslantkering zee",
          "state": "Rust",
          "value": 0.8367134155038549
         },
         {
          "comp1": 360,
          "comp2": -7,
          "index": "1991-01-08T19:10:00",
          "location": "Nieuwe Waterweg Maeslantkering zee",
          "state": "Rust",
          "value": 0.9734845003697026
         },
         {
          "comp1": 360,
          "comp2": -7,
          "index": "1991-01-08T19:20:00",
          "location": "Nieuwe Waterweg Maeslantkering zee",
          "state": "Rust",
          "value": 1.0931689714835577
         },
         {
          "comp1": 360,
          "comp2": -7,
          "index": "1991-01-08T19:30:00",
          "location": "Nieuwe Waterweg Maeslantkering zee",
          "state": "Rust",
          "value": 1.1981592850418212
         },
         {
          "comp1": 360,
          "comp2": -7,
          "index": "1991-01-08T19:40:00",
          "location": "Nieuwe Waterweg Maeslantkering zee",
          "state": "Rust",
          "value": 1.265924471684913
         },
         {
          "comp1": 360,
          "comp2": -7,
          "index": "1991-01-08T19:50:00",
          "location": "Nieuwe Waterweg Maeslantkering zee",
          "state": "Rust",
          "value": 1.2975615291104006
         },
         {
          "comp1": 360,
          "comp2": -7,
          "index": "1991-01-08T20:00:00",
          "location": "Nieuwe Waterweg Maeslantkering zee",
          "state": "Rust",
          "value": 1.3015570607180553
         },
         {
          "comp1": 360,
          "comp2": -7,
          "index": "1991-01-08T20:10:00",
          "location": "Nieuwe Waterweg Maeslantkering zee",
          "state": "Rust",
          "value": 1.2855710327613572
         },
         {
          "comp1": 360,
          "comp2": -7,
          "index": "1991-01-08T20:20:00",
          "location": "Nieuwe Waterweg Maeslantkering zee",
          "state": "Rust",
          "value": 1.264994190394047
         },
         {
          "comp1": 360,
          "comp2": -7,
          "index": "1991-01-08T20:30:00",
          "location": "Nieuwe Waterweg Maeslantkering zee",
          "state": "Rust",
          "value": 1.240128477956757
         },
         {
          "comp1": 360,
          "comp2": -7,
          "index": "1991-01-08T20:40:00",
          "location": "Nieuwe Waterweg Maeslantkering zee",
          "state": "Rust",
          "value": 1.2179653946254763
         },
         {
          "comp1": 360,
          "comp2": -7,
          "index": "1991-01-08T20:50:00",
          "location": "Nieuwe Waterweg Maeslantkering zee",
          "state": "Rust",
          "value": 1.1941283842695802
         },
         {
          "comp1": 360,
          "comp2": -7,
          "index": "1991-01-08T21:00:00",
          "location": "Nieuwe Waterweg Maeslantkering zee",
          "state": "Rust",
          "value": 1.1681275187839777
         },
         {
          "comp1": 360,
          "comp2": -7,
          "index": "1991-01-08T21:10:00",
          "location": "Nieuwe Waterweg Maeslantkering zee",
          "state": "Rust",
          "value": 1.1424957472777675
         },
         {
          "comp1": 360,
          "comp2": -7,
          "index": "1991-01-08T21:20:00",
          "location": "Nieuwe Waterweg Maeslantkering zee",
          "state": "Rust",
          "value": 1.1170630324171749
         },
         {
          "comp1": 360,
          "comp2": -7,
          "index": "1991-01-08T21:30:00",
          "location": "Nieuwe Waterweg Maeslantkering zee",
          "state": "Rust",
          "value": 1.0863521951161155
         },
         {
          "comp1": 360,
          "comp2": -7,
          "index": "1991-01-08T21:40:00",
          "location": "Nieuwe Waterweg Maeslantkering zee",
          "state": "Rust",
          "value": 1.0487521569624239
         },
         {
          "comp1": 360,
          "comp2": -7,
          "index": "1991-01-08T21:50:00",
          "location": "Nieuwe Waterweg Maeslantkering zee",
          "state": "Rust",
          "value": 1.0039808145804057
         },
         {
          "comp1": 360,
          "comp2": -7,
          "index": "1991-01-08T22:00:00",
          "location": "Nieuwe Waterweg Maeslantkering zee",
          "state": "Rust",
          "value": 0.9570073575315735
         },
         {
          "comp1": 360,
          "comp2": -7,
          "index": "1991-01-08T22:10:00",
          "location": "Nieuwe Waterweg Maeslantkering zee",
          "state": "Rust",
          "value": 0.897407560466765
         },
         {
          "comp1": 360,
          "comp2": -7,
          "index": "1991-01-08T22:20:00",
          "location": "Nieuwe Waterweg Maeslantkering zee",
          "state": "Rust",
          "value": 0.8298231897456952
         },
         {
          "comp1": 360,
          "comp2": -7,
          "index": "1991-01-08T22:30:00",
          "location": "Nieuwe Waterweg Maeslantkering zee",
          "state": "Rust",
          "value": 0.762101787468713
         },
         {
          "comp1": 360,
          "comp2": -7,
          "index": "1991-01-08T22:40:00",
          "location": "Nieuwe Waterweg Maeslantkering zee",
          "state": "Rust",
          "value": 0.6953970613112749
         },
         {
          "comp1": 360,
          "comp2": -7,
          "index": "1991-01-08T22:50:00",
          "location": "Nieuwe Waterweg Maeslantkering zee",
          "state": "Rust",
          "value": 0.6284645145939846
         },
         {
          "comp1": 360,
          "comp2": -7,
          "index": "1991-01-08T23:00:00",
          "location": "Nieuwe Waterweg Maeslantkering zee",
          "state": "Rust",
          "value": 0.5591373840370166
         },
         {
          "comp1": 360,
          "comp2": -7,
          "index": "1991-01-08T23:10:00",
          "location": "Nieuwe Waterweg Maeslantkering zee",
          "state": "Rust",
          "value": 0.4872628164527596
         },
         {
          "comp1": 360,
          "comp2": -7,
          "index": "1991-01-08T23:20:00",
          "location": "Nieuwe Waterweg Maeslantkering zee",
          "state": "Rust",
          "value": 0.4182707976127481
         },
         {
          "comp1": 360,
          "comp2": -7,
          "index": "1991-01-08T23:30:00",
          "location": "Nieuwe Waterweg Maeslantkering zee",
          "state": "Rust",
          "value": 0.3433208261793187
         },
         {
          "comp1": 360,
          "comp2": -7,
          "index": "1991-01-08T23:40:00",
          "location": "Nieuwe Waterweg Maeslantkering zee",
          "state": "Rust",
          "value": 0.26395610386346074
         },
         {
          "comp1": 360,
          "comp2": -7,
          "index": "1991-01-08T23:50:00",
          "location": "Nieuwe Waterweg Maeslantkering zee",
          "state": "Rust",
          "value": 0.18038216011913766
         },
         {
          "comp1": 360,
          "comp2": -7,
          "index": "1991-01-09T00:00:00",
          "location": "Nieuwe Waterweg Maeslantkering zee",
          "state": "Rust",
          "value": 0.09029082546259311
         },
         {
          "comp1": 360,
          "comp2": -7,
          "index": "1991-01-09T00:10:00",
          "location": "Nieuwe Waterweg Maeslantkering zee",
          "state": "Rust",
          "value": -0.011375194817687093
         },
         {
          "comp1": 360,
          "comp2": -7,
          "index": "1991-01-09T00:20:00",
          "location": "Nieuwe Waterweg Maeslantkering zee",
          "state": "Rust",
          "value": -0.11601478387416697
         },
         {
          "comp1": 360,
          "comp2": -7,
          "index": "1991-01-09T00:30:00",
          "location": "Nieuwe Waterweg Maeslantkering zee",
          "state": "Rust",
          "value": -0.21552947889275836
         },
         {
          "comp1": 360,
          "comp2": -7,
          "index": "1991-01-09T00:40:00",
          "location": "Nieuwe Waterweg Maeslantkering zee",
          "state": "Rust",
          "value": -0.3085101507437807
         },
         {
          "comp1": 360,
          "comp2": -7,
          "index": "1991-01-09T00:50:00",
          "location": "Nieuwe Waterweg Maeslantkering zee",
          "state": "Rust",
          "value": -0.39372189019721643
         },
         {
          "comp1": 360,
          "comp2": -7,
          "index": "1991-01-09T01:00:00",
          "location": "Nieuwe Waterweg Maeslantkering zee",
          "state": "Rust",
          "value": -0.4695621276286517
         },
         {
          "comp1": 360,
          "comp2": -7,
          "index": "1991-01-09T01:10:00",
          "location": "Nieuwe Waterweg Maeslantkering zee",
          "state": "Rust",
          "value": -0.5304083304742192
         },
         {
          "comp1": 360,
          "comp2": -7,
          "index": "1991-01-09T01:20:00",
          "location": "Nieuwe Waterweg Maeslantkering zee",
          "state": "Rust",
          "value": -0.5732217470090942
         },
         {
          "comp1": 360,
          "comp2": -7,
          "index": "1991-01-09T01:30:00",
          "location": "Nieuwe Waterweg Maeslantkering zee",
          "state": "Rust",
          "value": -0.594138965375997
         },
         {
          "comp1": 360,
          "comp2": -7,
          "index": "1991-01-09T01:40:00",
          "location": "Nieuwe Waterweg Maeslantkering zee",
          "state": "Rust",
          "value": -0.5906562307805882
         },
         {
          "comp1": 360,
          "comp2": -7,
          "index": "1991-01-09T01:50:00",
          "location": "Nieuwe Waterweg Maeslantkering zee",
          "state": "Rust",
          "value": -0.5773050171936368
         },
         {
          "comp1": 360,
          "comp2": -7,
          "index": "1991-01-09T02:00:00",
          "location": "Nieuwe Waterweg Maeslantkering zee",
          "state": "Rust",
          "value": -0.5643947344318678
         },
         {
          "comp1": 360,
          "comp2": -7,
          "index": "1991-01-09T02:10:00",
          "location": "Nieuwe Waterweg Maeslantkering zee",
          "state": "Rust",
          "value": -0.5545067013826055
         },
         {
          "comp1": 360,
          "comp2": -7,
          "index": "1991-01-09T02:20:00",
          "location": "Nieuwe Waterweg Maeslantkering zee",
          "state": "Rust",
          "value": -0.5474806406053039
         },
         {
          "comp1": 360,
          "comp2": -7,
          "index": "1991-01-09T02:30:00",
          "location": "Nieuwe Waterweg Maeslantkering zee",
          "state": "Rust",
          "value": -0.5443513941342073
         },
         {
          "comp1": 360,
          "comp2": -7,
          "index": "1991-01-09T02:40:00",
          "location": "Nieuwe Waterweg Maeslantkering zee",
          "state": "Rust",
          "value": -0.541541308334173
         },
         {
          "comp1": 360,
          "comp2": -7,
          "index": "1991-01-09T02:50:00",
          "location": "Nieuwe Waterweg Maeslantkering zee",
          "state": "Rust",
          "value": -0.5458209728793096
         },
         {
          "comp1": 360,
          "comp2": -7,
          "index": "1991-01-09T03:00:00",
          "location": "Nieuwe Waterweg Maeslantkering zee",
          "state": "Rust",
          "value": -0.5530514020552681
         },
         {
          "comp1": 360,
          "comp2": -7,
          "index": "1991-01-09T03:10:00",
          "location": "Nieuwe Waterweg Maeslantkering zee",
          "state": "Rust",
          "value": -0.5602368132831294
         },
         {
          "comp1": 360,
          "comp2": -7,
          "index": "1991-01-09T03:20:00",
          "location": "Nieuwe Waterweg Maeslantkering zee",
          "state": "Rust",
          "value": -0.5694639759844935
         },
         {
          "comp1": 360,
          "comp2": -7,
          "index": "1991-01-09T03:30:00",
          "location": "Nieuwe Waterweg Maeslantkering zee",
          "state": "Rust",
          "value": -0.5750133403878179
         },
         {
          "comp1": 360,
          "comp2": -7,
          "index": "1991-01-09T03:40:00",
          "location": "Nieuwe Waterweg Maeslantkering zee",
          "state": "Rust",
          "value": -0.5795245782078333
         },
         {
          "comp1": 360,
          "comp2": -7,
          "index": "1991-01-09T03:50:00",
          "location": "Nieuwe Waterweg Maeslantkering zee",
          "state": "Rust",
          "value": -0.5810942063357615
         },
         {
          "comp1": 360,
          "comp2": -7,
          "index": "1991-01-09T04:00:00",
          "location": "Nieuwe Waterweg Maeslantkering zee",
          "state": "Rust",
          "value": -0.5798651308338794
         },
         {
          "comp1": 360,
          "comp2": -7,
          "index": "1991-01-09T04:10:00",
          "location": "Nieuwe Waterweg Maeslantkering zee",
          "state": "Rust",
          "value": -0.5780005626147445
         },
         {
          "comp1": 360,
          "comp2": -7,
          "index": "1991-01-09T04:20:00",
          "location": "Nieuwe Waterweg Maeslantkering zee",
          "state": "Rust",
          "value": -0.5762140840099064
         },
         {
          "comp1": 360,
          "comp2": -7,
          "index": "1991-01-09T04:30:00",
          "location": "Nieuwe Waterweg Maeslantkering zee",
          "state": "Rust",
          "value": -0.5746116834254185
         },
         {
          "comp1": 360,
          "comp2": -7,
          "index": "1991-01-09T04:40:00",
          "location": "Nieuwe Waterweg Maeslantkering zee",
          "state": "Rust",
          "value": -0.5687366730180321
         },
         {
          "comp1": 360,
          "comp2": -7,
          "index": "1991-01-09T04:50:00",
          "location": "Nieuwe Waterweg Maeslantkering zee",
          "state": "Rust",
          "value": -0.5551979276317451
         },
         {
          "comp1": 360,
          "comp2": -7,
          "index": "1991-01-09T05:00:00",
          "location": "Nieuwe Waterweg Maeslantkering zee",
          "state": "Rust",
          "value": -0.536340657886329
         },
         {
          "comp1": 360,
          "comp2": -7,
          "index": "1991-01-09T05:10:00",
          "location": "Nieuwe Waterweg Maeslantkering zee",
          "state": "Rust",
          "value": -0.5107398118298069
         },
         {
          "comp1": 360,
          "comp2": -7,
          "index": "1991-01-09T05:20:00",
          "location": "Nieuwe Waterweg Maeslantkering zee",
          "state": "Rust",
          "value": -0.47565198212680354
         },
         {
          "comp1": 360,
          "comp2": -7,
          "index": "1991-01-09T05:30:00",
          "location": "Nieuwe Waterweg Maeslantkering zee",
          "state": "Rust",
          "value": -0.42854634038646533
         },
         {
          "comp1": 360,
          "comp2": -7,
          "index": "1991-01-09T05:40:00",
          "location": "Nieuwe Waterweg Maeslantkering zee",
          "state": "Rust",
          "value": -0.37679282080590437
         },
         {
          "comp1": 360,
          "comp2": -7,
          "index": "1991-01-09T05:50:00",
          "location": "Nieuwe Waterweg Maeslantkering zee",
          "state": "Rust",
          "value": -0.3189318249621842
         },
         {
          "comp1": 360,
          "comp2": -7,
          "index": "1991-01-09T06:00:00",
          "location": "Nieuwe Waterweg Maeslantkering zee",
          "state": "Rust",
          "value": -0.2531517833774495
         },
         {
          "comp1": 360,
          "comp2": -7,
          "index": "1991-01-09T06:10:00",
          "location": "Nieuwe Waterweg Maeslantkering zee",
          "state": "Rust",
          "value": -0.18006349676092254
         },
         {
          "comp1": 360,
          "comp2": -7,
          "index": "1991-01-09T06:20:00",
          "location": "Nieuwe Waterweg Maeslantkering zee",
          "state": "Rust",
          "value": -0.08977809839449288
         },
         {
          "comp1": 360,
          "comp2": -7,
          "index": "1991-01-09T06:30:00",
          "location": "Nieuwe Waterweg Maeslantkering zee",
          "state": "Rust",
          "value": 0.01989085561273223
         },
         {
          "comp1": 360,
          "comp2": -7,
          "index": "1991-01-09T06:40:00",
          "location": "Nieuwe Waterweg Maeslantkering zee",
          "state": "Rust",
          "value": 0.14657449263895547
         },
         {
          "comp1": 360,
          "comp2": -7,
          "index": "1991-01-09T06:50:00",
          "location": "Nieuwe Waterweg Maeslantkering zee",
          "state": "Rust",
          "value": 0.2927575820201234
         },
         {
          "comp1": 360,
          "comp2": -7,
          "index": "1991-01-09T07:00:00",
          "location": "Nieuwe Waterweg Maeslantkering zee",
          "state": "Rust",
          "value": 0.4495212132642306
         },
         {
          "comp1": 360,
          "comp2": -7,
          "index": "1991-01-09T07:10:00",
          "location": "Nieuwe Waterweg Maeslantkering zee",
          "state": "Rust",
          "value": 0.6087033349432657
         },
         {
          "comp1": 360,
          "comp2": -7,
          "index": "1991-01-09T07:20:00",
          "location": "Nieuwe Waterweg Maeslantkering zee",
          "state": "Rust",
          "value": 0.7634084473716861
         },
         {
          "comp1": 360,
          "comp2": -7,
          "index": "1991-01-09T07:30:00",
          "location": "Nieuwe Waterweg Maeslantkering zee",
          "state": "Rust",
          "value": 0.9056367402353731
         },
         {
          "comp1": 360,
          "comp2": -7,
          "index": "1991-01-09T07:40:00",
          "location": "Nieuwe Waterweg Maeslantkering zee",
          "state": "Rust",
          "value": 1.0331263208127592
         },
         {
          "comp1": 360,
          "comp2": -7,
          "index": "1991-01-09T07:50:00",
          "location": "Nieuwe Waterweg Maeslantkering zee",
          "state": "Rust",
          "value": 1.143680602513735
         },
         {
          "comp1": 360,
          "comp2": -7,
          "index": "1991-01-09T08:00:00",
          "location": "Nieuwe Waterweg Maeslantkering zee",
          "state": "Rust",
          "value": 1.2249573898696144
         },
         {
          "comp1": 360,
          "comp2": -7,
          "index": "1991-01-09T08:10:00",
          "location": "Nieuwe Waterweg Maeslantkering zee",
          "state": "Rust",
          "value": 1.273634856976932
         },
         {
          "comp1": 360,
          "comp2": -7,
          "index": "1991-01-09T08:20:00",
          "location": "Nieuwe Waterweg Maeslantkering zee",
          "state": "Rust",
          "value": 1.2926168640044609
         },
         {
          "comp1": 360,
          "comp2": -7,
          "index": "1991-01-09T08:30:00",
          "location": "Nieuwe Waterweg Maeslantkering zee",
          "state": "Rust",
          "value": 1.2902879272854428
         },
         {
          "comp1": 360,
          "comp2": -7,
          "index": "1991-01-09T08:40:00",
          "location": "Nieuwe Waterweg Maeslantkering zee",
          "state": "Rust",
          "value": 1.2700732427001578
         },
         {
          "comp1": 360,
          "comp2": -7,
          "index": "1991-01-09T08:50:00",
          "location": "Nieuwe Waterweg Maeslantkering zee",
          "state": "Rust",
          "value": 1.2445843873974771
         },
         {
          "comp1": 360,
          "comp2": -7,
          "index": "1991-01-09T09:00:00",
          "location": "Nieuwe Waterweg Maeslantkering zee",
          "state": "Rust",
          "value": 1.217941551822058
         },
         {
          "comp1": 360,
          "comp2": -7,
          "index": "1991-01-09T09:10:00",
          "location": "Nieuwe Waterweg Maeslantkering zee",
          "state": "Rust",
          "value": 1.1875683936901231
         },
         {
          "comp1": 360,
          "comp2": -7,
          "index": "1991-01-09T09:20:00",
          "location": "Nieuwe Waterweg Maeslantkering zee",
          "state": "Rust",
          "value": 1.1551432766093706
         },
         {
          "comp1": 360,
          "comp2": -7,
          "index": "1991-01-09T09:30:00",
          "location": "Nieuwe Waterweg Maeslantkering zee",
          "state": "Rust",
          "value": 1.1250602687916094
         },
         {
          "comp1": 360,
          "comp2": -7,
          "index": "1991-01-09T09:40:00",
          "location": "Nieuwe Waterweg Maeslantkering zee",
          "state": "Rust",
          "value": 1.0935183878651606
         },
         {
          "comp1": 360,
          "comp2": -7,
          "index": "1991-01-09T09:50:00",
          "location": "Nieuwe Waterweg Maeslantkering zee",
          "state": "Rust",
          "value": 1.0597788546201292
         },
         {
          "comp1": 360,
          "comp2": -7,
          "index": "1991-01-09T10:00:00",
          "location": "Nieuwe Waterweg Maeslantkering zee",
          "state": "Rust",
          "value": 1.0222480297976826
         },
         {
          "comp1": 360,
          "comp2": -7,
          "index": "1991-01-09T10:10:00",
          "location": "Nieuwe Waterweg Maeslantkering zee",
          "state": "Rust",
          "value": 0.9805237755235425
         },
         {
          "comp1": 360,
          "comp2": -7,
          "index": "1991-01-09T10:20:00",
          "location": "Nieuwe Waterweg Maeslantkering zee",
          "state": "Rust",
          "value": 0.9361294103796478
         },
         {
          "comp1": 360,
          "comp2": -7,
          "index": "1991-01-09T10:30:00",
          "location": "Nieuwe Waterweg Maeslantkering zee",
          "state": "Rust",
          "value": 0.8885245282748091
         },
         {
          "comp1": 360,
          "comp2": -7,
          "index": "1991-01-09T10:40:00",
          "location": "Nieuwe Waterweg Maeslantkering zee",
          "state": "Rust",
          "value": 0.8267660491714564
         },
         {
          "comp1": 360,
          "comp2": -7,
          "index": "1991-01-09T10:50:00",
          "location": "Nieuwe Waterweg Maeslantkering zee",
          "state": "Rust",
          "value": 0.7554452100660685
         },
         {
          "comp1": 360,
          "comp2": -7,
          "index": "1991-01-09T11:00:00",
          "location": "Nieuwe Waterweg Maeslantkering zee",
          "state": "Rust",
          "value": 0.6883477732808334
         },
         {
          "comp1": 360,
          "comp2": -7,
          "index": "1991-01-09T11:10:00",
          "location": "Nieuwe Waterweg Maeslantkering zee",
          "state": "Rust",
          "value": 0.619401556111279
         },
         {
          "comp1": 360,
          "comp2": -7,
          "index": "1991-01-09T11:20:00",
          "location": "Nieuwe Waterweg Maeslantkering zee",
          "state": "Rust",
          "value": 0.5550600705126553
         },
         {
          "comp1": 360,
          "comp2": -7,
          "index": "1991-01-09T11:30:00",
          "location": "Nieuwe Waterweg Maeslantkering zee",
          "state": "Rust",
          "value": 0.4844013218346979
         },
         {
          "comp1": 360,
          "comp2": -7,
          "index": "1991-01-09T11:40:00",
          "location": "Nieuwe Waterweg Maeslantkering zee",
          "state": "Rust",
          "value": 0.41416722332790257
         },
         {
          "comp1": 360,
          "comp2": -7,
          "index": "1991-01-09T11:50:00",
          "location": "Nieuwe Waterweg Maeslantkering zee",
          "state": "Rust",
          "value": 0.34734043879562354
         },
         {
          "comp1": 360,
          "comp2": -7,
          "index": "1991-01-09T12:00:00",
          "location": "Nieuwe Waterweg Maeslantkering zee",
          "state": "Rust",
          "value": 0.2765273987882899
         },
         {
          "comp1": 360,
          "comp2": -7,
          "index": "1991-01-09T12:10:00",
          "location": "Nieuwe Waterweg Maeslantkering zee",
          "state": "Rust",
          "value": 0.20382881885766402
         },
         {
          "comp1": 360,
          "comp2": -7,
          "index": "1991-01-09T12:20:00",
          "location": "Nieuwe Waterweg Maeslantkering zee",
          "state": "Rust",
          "value": 0.12497130827710577
         },
         {
          "comp1": 360,
          "comp2": -7,
          "index": "1991-01-09T12:30:00",
          "location": "Nieuwe Waterweg Maeslantkering zee",
          "state": "Rust",
          "value": 0.040738754257588466
         },
         {
          "comp1": 360,
          "comp2": -7,
          "index": "1991-01-09T12:40:00",
          "location": "Nieuwe Waterweg Maeslantkering zee",
          "state": "Rust",
          "value": -0.04843551603362792
         },
         {
          "comp1": 360,
          "comp2": -7,
          "index": "1991-01-09T12:50:00",
          "location": "Nieuwe Waterweg Maeslantkering zee",
          "state": "Rust",
          "value": -0.14113705303102936
         },
         {
          "comp1": 360,
          "comp2": -7,
          "index": "1991-01-09T13:00:00",
          "location": "Nieuwe Waterweg Maeslantkering zee",
          "state": "Rust",
          "value": -0.23800719031187986
         },
         {
          "comp1": 360,
          "comp2": -7,
          "index": "1991-01-09T13:10:00",
          "location": "Nieuwe Waterweg Maeslantkering zee",
          "state": "Rust",
          "value": -0.3294848397809393
         },
         {
          "comp1": 360,
          "comp2": -7,
          "index": "1991-01-09T13:20:00",
          "location": "Nieuwe Waterweg Maeslantkering zee",
          "state": "Rust",
          "value": -0.4129546790832939
         },
         {
          "comp1": 360,
          "comp2": -7,
          "index": "1991-01-09T13:30:00",
          "location": "Nieuwe Waterweg Maeslantkering zee",
          "state": "Rust",
          "value": -0.4825234543857571
         },
         {
          "comp1": 360,
          "comp2": -7,
          "index": "1991-01-09T13:40:00",
          "location": "Nieuwe Waterweg Maeslantkering zee",
          "state": "Rust",
          "value": -0.5331295271445878
         },
         {
          "comp1": 360,
          "comp2": -7,
          "index": "1991-01-09T13:50:00",
          "location": "Nieuwe Waterweg Maeslantkering zee",
          "state": "Rust",
          "value": -0.5689648868304295
         },
         {
          "comp1": 360,
          "comp2": -7,
          "index": "1991-01-09T14:00:00",
          "location": "Nieuwe Waterweg Maeslantkering zee",
          "state": "Rust",
          "value": -0.5884976860525697
         },
         {
          "comp1": 360,
          "comp2": -7,
          "index": "1991-01-09T14:10:00",
          "location": "Nieuwe Waterweg Maeslantkering zee",
          "state": "Rust",
          "value": -0.5941827691288756
         },
         {
          "comp1": 360,
          "comp2": -7,
          "index": "1991-01-09T14:20:00",
          "location": "Nieuwe Waterweg Maeslantkering zee",
          "state": "Rust",
          "value": -0.5834692659888723
         },
         {
          "comp1": 360,
          "comp2": -7,
          "index": "1991-01-09T14:30:00",
          "location": "Nieuwe Waterweg Maeslantkering zee",
          "state": "Rust",
          "value": -0.5590862416112783
         },
         {
          "comp1": 360,
          "comp2": -7,
          "index": "1991-01-09T14:40:00",
          "location": "Nieuwe Waterweg Maeslantkering zee",
          "state": "Rust",
          "value": -0.5375990449868299
         },
         {
          "comp1": 360,
          "comp2": -7,
          "index": "1991-01-09T14:50:00",
          "location": "Nieuwe Waterweg Maeslantkering zee",
          "state": "Rust",
          "value": -0.5233195928128189
         },
         {
          "comp1": 360,
          "comp2": -7,
          "index": "1991-01-09T15:00:00",
          "location": "Nieuwe Waterweg Maeslantkering zee",
          "state": "Rust",
          "value": -0.5157622856106666
         },
         {
          "comp1": 360,
          "comp2": -7,
          "index": "1991-01-09T15:10:00",
          "location": "Nieuwe Waterweg Maeslantkering zee",
          "state": "Rust",
          "value": -0.5167976559771204
         },
         {
          "comp1": 360,
          "comp2": -7,
          "index": "1991-01-09T15:20:00",
          "location": "Nieuwe Waterweg Maeslantkering zee",
          "state": "Rust",
          "value": -0.525647292170307
         },
         {
          "comp1": 360,
          "comp2": -7,
          "index": "1991-01-09T15:30:00",
          "location": "Nieuwe Waterweg Maeslantkering zee",
          "state": "Rust",
          "value": -0.5362923037768943
         },
         {
          "comp1": 360,
          "comp2": -7,
          "index": "1991-01-09T15:40:00",
          "location": "Nieuwe Waterweg Maeslantkering zee",
          "state": "Rust",
          "value": -0.5491481300551523
         },
         {
          "comp1": 360,
          "comp2": -7,
          "index": "1991-01-09T15:50:00",
          "location": "Nieuwe Waterweg Maeslantkering zee",
          "state": "Rust",
          "value": -0.5603308192022567
         },
         {
          "comp1": 360,
          "comp2": -7,
          "index": "1991-01-09T16:00:00",
          "location": "Nieuwe Waterweg Maeslantkering zee",
          "state": "Rust",
          "value": -0.5708298723150635
         },
         {
          "comp1": 360,
          "comp2": -7,
          "index": "1991-01-09T16:10:00",
          "location": "Nieuwe Waterweg Maeslantkering zee",
          "state": "Rust",
          "value": -0.5774611279819859
         },
         {
          "comp1": 360,
          "comp2": -7,
          "index": "1991-01-09T16:20:00",
          "location": "Nieuwe Waterweg Maeslantkering zee",
          "state": "Rust",
          "value": -0.5789638753052307
         },
         {
          "comp1": 360,
          "comp2": -7,
          "index": "1991-01-09T16:30:00",
          "location": "Nieuwe Waterweg Maeslantkering zee",
          "state": "Rust",
          "value": -0.5772386384863162
         },
         {
          "comp1": 360,
          "comp2": -7,
          "index": "1991-01-09T16:40:00",
          "location": "Nieuwe Waterweg Maeslantkering zee",
          "state": "Rust",
          "value": -0.5741136003810858
         },
         {
          "comp1": 360,
          "comp2": -7,
          "index": "1991-01-09T16:50:00",
          "location": "Nieuwe Waterweg Maeslantkering zee",
          "state": "Rust",
          "value": -0.5711460037180666
         },
         {
          "comp1": 360,
          "comp2": -7,
          "index": "1991-01-09T17:00:00",
          "location": "Nieuwe Waterweg Maeslantkering zee",
          "state": "Rust",
          "value": -0.5657299042145335
         },
         {
          "comp1": 360,
          "comp2": -7,
          "index": "1991-01-09T17:10:00",
          "location": "Nieuwe Waterweg Maeslantkering zee",
          "state": "Rust",
          "value": -0.5572323128358873
         },
         {
          "comp1": 360,
          "comp2": -7,
          "index": "1991-01-09T17:20:00",
          "location": "Nieuwe Waterweg Maeslantkering zee",
          "state": "Rust",
          "value": -0.5426276864930651
         },
         {
          "comp1": 360,
          "comp2": -7,
          "index": "1991-01-09T17:30:00",
          "location": "Nieuwe Waterweg Maeslantkering zee",
          "state": "Rust",
          "value": -0.5201565150164695
         },
         {
          "comp1": 360,
          "comp2": -7,
          "index": "1991-01-09T17:40:00",
          "location": "Nieuwe Waterweg Maeslantkering zee",
          "state": "Rust",
          "value": -0.49092102610498956
         },
         {
          "comp1": 360,
          "comp2": -7,
          "index": "1991-01-09T17:50:00",
          "location": "Nieuwe Waterweg Maeslantkering zee",
          "state": "Rust",
          "value": -0.44960408781664674
         },
         {
          "comp1": 360,
          "comp2": -7,
          "index": "1991-01-09T18:00:00",
          "location": "Nieuwe Waterweg Maeslantkering zee",
          "state": "Rust",
          "value": -0.4011331509196568
         },
         {
          "comp1": 360,
          "comp2": -7,
          "index": "1991-01-09T18:10:00",
          "location": "Nieuwe Waterweg Maeslantkering zee",
          "state": "Rust",
          "value": -0.34662689376968764
         },
         {
          "comp1": 360,
          "comp2": -7,
          "index": "1991-01-09T18:20:00",
          "location": "Nieuwe Waterweg Maeslantkering zee",
          "state": "Rust",
          "value": -0.2868681879324758
         },
         {
          "comp1": 360,
          "comp2": -7,
          "index": "1991-01-09T18:30:00",
          "location": "Nieuwe Waterweg Maeslantkering zee",
          "state": "Rust",
          "value": -0.2190521313279825
         },
         {
          "comp1": 360,
          "comp2": -7,
          "index": "1991-01-09T18:40:00",
          "location": "Nieuwe Waterweg Maeslantkering zee",
          "state": "Rust",
          "value": -0.14042995891132468
         },
         {
          "comp1": 360,
          "comp2": -7,
          "index": "1991-01-09T18:50:00",
          "location": "Nieuwe Waterweg Maeslantkering zee",
          "state": "Rust",
          "value": -0.0387551252852362
         },
         {
          "comp1": 360,
          "comp2": -7,
          "index": "1991-01-09T19:00:00",
          "location": "Nieuwe Waterweg Maeslantkering zee",
          "state": "Rust",
          "value": 0.07883374491400129
         },
         {
          "comp1": 360,
          "comp2": -7,
          "index": "1991-01-09T19:10:00",
          "location": "Nieuwe Waterweg Maeslantkering zee",
          "state": "Rust",
          "value": 0.21316740046305402
         },
         {
          "comp1": 360,
          "comp2": -7,
          "index": "1991-01-09T19:20:00",
          "location": "Nieuwe Waterweg Maeslantkering zee",
          "state": "Rust",
          "value": 0.36585735870592395
         },
         {
          "comp1": 360,
          "comp2": -7,
          "index": "1991-01-09T19:30:00",
          "location": "Nieuwe Waterweg Maeslantkering zee",
          "state": "Rust",
          "value": 0.522690459249934
         },
         {
          "comp1": 360,
          "comp2": -7,
          "index": "1991-01-09T19:40:00",
          "location": "Nieuwe Waterweg Maeslantkering zee",
          "state": "Rust",
          "value": 0.6770417425543944
         },
         {
          "comp1": 360,
          "comp2": -7,
          "index": "1991-01-09T19:50:00",
          "location": "Nieuwe Waterweg Maeslantkering zee",
          "state": "Rust",
          "value": 0.8220274922603755
         },
         {
          "comp1": 360,
          "comp2": -7,
          "index": "1991-01-09T20:00:00",
          "location": "Nieuwe Waterweg Maeslantkering zee",
          "state": "Rust",
          "value": 0.9589393458215472
         },
         {
          "comp1": 360,
          "comp2": -7,
          "index": "1991-01-09T20:10:00",
          "location": "Nieuwe Waterweg Maeslantkering zee",
          "state": "Rust",
          "value": 1.0779064151222386
         },
         {
          "comp1": 360,
          "comp2": -7,
          "index": "1991-01-09T20:20:00",
          "location": "Nieuwe Waterweg Maeslantkering zee",
          "state": "Rust",
          "value": 1.1825457118276954
         },
         {
          "comp1": 360,
          "comp2": -7,
          "index": "1991-01-09T20:30:00",
          "location": "Nieuwe Waterweg Maeslantkering zee",
          "state": "Rust",
          "value": 1.2509735951575753
         },
         {
          "comp1": 360,
          "comp2": -7,
          "index": "1991-01-09T20:40:00",
          "location": "Nieuwe Waterweg Maeslantkering zee",
          "state": "Rust",
          "value": 1.286593586606762
         },
         {
          "comp1": 360,
          "comp2": -7,
          "index": "1991-01-09T20:50:00",
          "location": "Nieuwe Waterweg Maeslantkering zee",
          "state": "Rust",
          "value": 1.2951616373716786
         },
         {
          "comp1": 360,
          "comp2": -7,
          "index": "1991-01-09T21:00:00",
          "location": "Nieuwe Waterweg Maeslantkering zee",
          "state": "Rust",
          "value": 1.279737816152838
         },
         {
          "comp1": 360,
          "comp2": -7,
          "index": "1991-01-09T21:10:00",
          "location": "Nieuwe Waterweg Maeslantkering zee",
          "state": "Rust",
          "value": 1.2514327763809285
         },
         {
          "comp1": 360,
          "comp2": -7,
          "index": "1991-01-09T21:20:00",
          "location": "Nieuwe Waterweg Maeslantkering zee",
          "state": "Rust",
          "value": 1.2159862793990748
         },
         {
          "comp1": 360,
          "comp2": -7,
          "index": "1991-01-09T21:30:00",
          "location": "Nieuwe Waterweg Maeslantkering zee",
          "state": "Rust",
          "value": 1.1825300871260143
         },
         {
          "comp1": 360,
          "comp2": -7,
          "index": "1991-01-09T21:40:00",
          "location": "Nieuwe Waterweg Maeslantkering zee",
          "state": "Rust",
          "value": 1.1471586774082623
         },
         {
          "comp1": 360,
          "comp2": -7,
          "index": "1991-01-09T21:50:00",
          "location": "Nieuwe Waterweg Maeslantkering zee",
          "state": "Rust",
          "value": 1.113785759396813
         },
         {
          "comp1": 360,
          "comp2": -7,
          "index": "1991-01-09T22:00:00",
          "location": "Nieuwe Waterweg Maeslantkering zee",
          "state": "Rust",
          "value": 1.0841881546405856
         },
         {
          "comp1": 360,
          "comp2": -7,
          "index": "1991-01-09T22:10:00",
          "location": "Nieuwe Waterweg Maeslantkering zee",
          "state": "Rust",
          "value": 1.0577166676210894
         },
         {
          "comp1": 360,
          "comp2": -7,
          "index": "1991-01-09T22:20:00",
          "location": "Nieuwe Waterweg Maeslantkering zee",
          "state": "Rust",
          "value": 1.0281707072679924
         },
         {
          "comp1": 360,
          "comp2": -7,
          "index": "1991-01-09T22:30:00",
          "location": "Nieuwe Waterweg Maeslantkering zee",
          "state": "Rust",
          "value": 0.9924951163358702
         },
         {
          "comp1": 360,
          "comp2": -7,
          "index": "1991-01-09T22:40:00",
          "location": "Nieuwe Waterweg Maeslantkering zee",
          "state": "Rust",
          "value": 0.949723912113339
         },
         {
          "comp1": 360,
          "comp2": -7,
          "index": "1991-01-09T22:50:00",
          "location": "Nieuwe Waterweg Maeslantkering zee",
          "state": "Rust",
          "value": 0.8955545021270815
         },
         {
          "comp1": 360,
          "comp2": -7,
          "index": "1991-01-09T23:00:00",
          "location": "Nieuwe Waterweg Maeslantkering zee",
          "state": "Rust",
          "value": 0.8437412288148779
         },
         {
          "comp1": 360,
          "comp2": -7,
          "index": "1991-01-09T23:10:00",
          "location": "Nieuwe Waterweg Maeslantkering zee",
          "state": "Rust",
          "value": 0.7770325253723291
         },
         {
          "comp1": 360,
          "comp2": -7,
          "index": "1991-01-09T23:20:00",
          "location": "Nieuwe Waterweg Maeslantkering zee",
          "state": "Rust",
          "value": 0.7043736565521975
         },
         {
          "comp1": 360,
          "comp2": -7,
          "index": "1991-01-09T23:30:00",
          "location": "Nieuwe Waterweg Maeslantkering zee",
          "state": "Rust",
          "value": 0.6323156907116373
         },
         {
          "comp1": 360,
          "comp2": -7,
          "index": "1991-01-09T23:40:00",
          "location": "Nieuwe Waterweg Maeslantkering zee",
          "state": "Rust",
          "value": 0.560350997250023
         },
         {
          "comp1": 360,
          "comp2": -7,
          "index": "1991-01-09T23:50:00",
          "location": "Nieuwe Waterweg Maeslantkering zee",
          "state": "Rust",
          "value": 0.49112814354474776
         },
         {
          "comp1": 360,
          "comp2": -7,
          "index": "1991-01-10T00:00:00",
          "location": "Nieuwe Waterweg Maeslantkering zee",
          "state": "Rust",
          "value": 0.4199206042250455
         },
         {
          "comp1": 360,
          "comp2": -7,
          "index": "1991-01-10T00:10:00",
          "location": "Nieuwe Waterweg Maeslantkering zee",
          "state": "Rust",
          "value": 0.3520409111617882
         },
         {
          "comp1": 360,
          "comp2": -7,
          "index": "1991-01-10T00:20:00",
          "location": "Nieuwe Waterweg Maeslantkering zee",
          "state": "Rust",
          "value": 0.28156832350074895
         },
         {
          "comp1": 360,
          "comp2": -7,
          "index": "1991-01-10T00:30:00",
          "location": "Nieuwe Waterweg Maeslantkering zee",
          "state": "Rust",
          "value": 0.21377975837060675
         },
         {
          "comp1": 360,
          "comp2": -7,
          "index": "1991-01-10T00:40:00",
          "location": "Nieuwe Waterweg Maeslantkering zee",
          "state": "Rust",
          "value": 0.14686457794417812
         },
         {
          "comp1": 360,
          "comp2": -7,
          "index": "1991-01-10T00:50:00",
          "location": "Nieuwe Waterweg Maeslantkering zee",
          "state": "Rust",
          "value": 0.07615199814308321
         },
         {
          "comp1": 360,
          "comp2": -7,
          "index": "1991-01-10T01:00:00",
          "location": "Nieuwe Waterweg Maeslantkering zee",
          "state": "Rust",
          "value": -0.004148802724379216
         },
         {
          "comp1": 360,
          "comp2": -7,
          "index": "1991-01-10T01:10:00",
          "location": "Nieuwe Waterweg Maeslantkering zee",
          "state": "Rust",
          "value": -0.09160116213920982
         },
         {
          "comp1": 360,
          "comp2": -7,
          "index": "1991-01-10T01:20:00",
          "location": "Nieuwe Waterweg Maeslantkering zee",
          "state": "Rust",
          "value": -0.1811372255089732
         },
         {
          "comp1": 360,
          "comp2": -7,
          "index": "1991-01-10T01:30:00",
          "location": "Nieuwe Waterweg Maeslantkering zee",
          "state": "Rust",
          "value": -0.27144396471954624
         },
         {
          "comp1": 360,
          "comp2": -7,
          "index": "1991-01-10T01:40:00",
          "location": "Nieuwe Waterweg Maeslantkering zee",
          "state": "Rust",
          "value": -0.35859863999353264
         },
         {
          "comp1": 360,
          "comp2": -7,
          "index": "1991-01-10T01:50:00",
          "location": "Nieuwe Waterweg Maeslantkering zee",
          "state": "Rust",
          "value": -0.4375275119515409
         },
         {
          "comp1": 360,
          "comp2": -7,
          "index": "1991-01-10T02:00:00",
          "location": "Nieuwe Waterweg Maeslantkering zee",
          "state": "Rust",
          "value": -0.5003250640076073
         },
         {
          "comp1": 360,
          "comp2": -7,
          "index": "1991-01-10T02:10:00",
          "location": "Nieuwe Waterweg Maeslantkering zee",
          "state": "Rust",
          "value": -0.54372776766218
         },
         {
          "comp1": 360,
          "comp2": -7,
          "index": "1991-01-10T02:20:00",
          "location": "Nieuwe Waterweg Maeslantkering zee",
          "state": "Rust",
          "value": -0.5692736432996599
         },
         {
          "comp1": 360,
          "comp2": -7,
          "index": "1991-01-10T02:30:00",
          "location": "Nieuwe Waterweg Maeslantkering zee",
          "state": "Rust",
          "value": -0.5803816610945086
         },
         {
          "comp1": 360,
          "comp2": -7,
          "index": "1991-01-10T02:40:00",
          "location": "Nieuwe Waterweg Maeslantkering zee",
          "state": "Rust",
          "value": -0.5826181303230152
         },
         {
          "comp1": 360,
          "comp2": -7,
          "index": "1991-01-10T02:50:00",
          "location": "Nieuwe Waterweg Maeslantkering zee",
          "state": "Rust",
          "value": -0.574481325263791
         },
         {
          "comp1": 360,
          "comp2": -7,
          "index": "1991-01-10T03:00:00",
          "location": "Nieuwe Waterweg Maeslantkering zee",
          "state": "Rust",
          "value": -0.5584453769000395
         },
         {
          "comp1": 360,
          "comp2": -7,
          "index": "1991-01-10T03:10:00",
          "location": "Nieuwe Waterweg Maeslantkering zee",
          "state": "Rust",
          "value": -0.5393219663122633
         },
         {
          "comp1": 360,
          "comp2": -7,
          "index": "1991-01-10T03:20:00",
          "location": "Nieuwe Waterweg Maeslantkering zee",
          "state": "Rust",
          "value": -0.5244062716904511
         },
         {
          "comp1": null,
          "comp2": null,
          "index": "1991-01-05T03:20:00",
          "location": "Nieuwe Maas Maeslantkering rivier",
          "state": null,
          "value": 1.3553534045854554
         },
         {
          "comp1": null,
          "comp2": null,
          "index": "1991-01-05T03:30:00",
          "location": "Nieuwe Maas Maeslantkering rivier",
          "state": null,
          "value": 1.1765674846326422
         },
         {
          "comp1": null,
          "comp2": null,
          "index": "1991-01-05T03:40:00",
          "location": "Nieuwe Maas Maeslantkering rivier",
          "state": null,
          "value": 0.8574818616614701
         },
         {
          "comp1": null,
          "comp2": null,
          "index": "1991-01-05T03:50:00",
          "location": "Nieuwe Maas Maeslantkering rivier",
          "state": null,
          "value": 0.7172291539661304
         },
         {
          "comp1": null,
          "comp2": null,
          "index": "1991-01-05T04:00:00",
          "location": "Nieuwe Maas Maeslantkering rivier",
          "state": null,
          "value": 0.7256756340570949
         },
         {
          "comp1": null,
          "comp2": null,
          "index": "1991-01-05T04:10:00",
          "location": "Nieuwe Maas Maeslantkering rivier",
          "state": null,
          "value": 0.786280521295572
         },
         {
          "comp1": 360,
          "comp2": -7,
          "index": "1991-01-05T04:20:00",
          "location": "Nieuwe Maas Maeslantkering rivier",
          "state": "Rust",
          "value": 0.8695190717949083
         },
         {
          "comp1": 360,
          "comp2": -7,
          "index": "1991-01-05T04:30:00",
          "location": "Nieuwe Maas Maeslantkering rivier",
          "state": "Rust",
          "value": 0.997398987778602
         },
         {
          "comp1": 360,
          "comp2": -7,
          "index": "1991-01-05T04:40:00",
          "location": "Nieuwe Maas Maeslantkering rivier",
          "state": "Rust",
          "value": 1.150100750807717
         },
         {
          "comp1": 360,
          "comp2": -7,
          "index": "1991-01-05T04:50:00",
          "location": "Nieuwe Maas Maeslantkering rivier",
          "state": "Rust",
          "value": 1.2958011324737693
         },
         {
          "comp1": 360,
          "comp2": -7,
          "index": "1991-01-05T05:00:00",
          "location": "Nieuwe Maas Maeslantkering rivier",
          "state": "Rust",
          "value": 1.3775138185373763
         },
         {
          "comp1": 360,
          "comp2": -7,
          "index": "1991-01-05T05:10:00",
          "location": "Nieuwe Maas Maeslantkering rivier",
          "state": "Rust",
          "value": 1.362415091767374
         },
         {
          "comp1": 360,
          "comp2": -7,
          "index": "1991-01-05T05:20:00",
          "location": "Nieuwe Maas Maeslantkering rivier",
          "state": "Rust",
          "value": 1.3034398557522393
         },
         {
          "comp1": 360,
          "comp2": -7,
          "index": "1991-01-05T05:30:00",
          "location": "Nieuwe Maas Maeslantkering rivier",
          "state": "Rust",
          "value": 1.2481802588381983
         },
         {
          "comp1": 360,
          "comp2": -7,
          "index": "1991-01-05T05:40:00",
          "location": "Nieuwe Maas Maeslantkering rivier",
          "state": "Rust",
          "value": 1.2021740981633358
         },
         {
          "comp1": 360,
          "comp2": -7,
          "index": "1991-01-05T05:50:00",
          "location": "Nieuwe Maas Maeslantkering rivier",
          "state": "Rust",
          "value": 1.1635727959433007
         },
         {
          "comp1": 360,
          "comp2": -7,
          "index": "1991-01-05T06:00:00",
          "location": "Nieuwe Maas Maeslantkering rivier",
          "state": "Rust",
          "value": 1.1234626846922724
         },
         {
          "comp1": 360,
          "comp2": -7,
          "index": "1991-01-05T06:10:00",
          "location": "Nieuwe Maas Maeslantkering rivier",
          "state": "Rust",
          "value": 1.0840159867848163
         },
         {
          "comp1": 360,
          "comp2": -7,
          "index": "1991-01-05T06:20:00",
          "location": "Nieuwe Maas Maeslantkering rivier",
          "state": "Rust",
          "value": 1.058434823945462
         },
         {
          "comp1": 360,
          "comp2": -7,
          "index": "1991-01-05T06:30:00",
          "location": "Nieuwe Maas Maeslantkering rivier",
          "state": "Rust",
          "value": 1.0593380076102614
         },
         {
          "comp1": 360,
          "comp2": -7,
          "index": "1991-01-05T06:40:00",
          "location": "Nieuwe Maas Maeslantkering rivier",
          "state": "Rust",
          "value": 1.0672388519087832
         },
         {
          "comp1": 360,
          "comp2": -7,
          "index": "1991-01-05T06:50:00",
          "location": "Nieuwe Maas Maeslantkering rivier",
          "state": "Rust",
          "value": 1.0612247546286535
         },
         {
          "comp1": 360,
          "comp2": -7,
          "index": "1991-01-05T07:00:00",
          "location": "Nieuwe Maas Maeslantkering rivier",
          "state": "Rust",
          "value": 1.0338701539750463
         },
         {
          "comp1": 360,
          "comp2": -7,
          "index": "1991-01-05T07:10:00",
          "location": "Nieuwe Maas Maeslantkering rivier",
          "state": "Rust",
          "value": 0.9841952512615117
         },
         {
          "comp1": 360,
          "comp2": -7,
          "index": "1991-01-05T07:20:00",
          "location": "Nieuwe Maas Maeslantkering rivier",
          "state": "Rust",
          "value": 0.9097935863883542
         },
         {
          "comp1": 360,
          "comp2": -7,
          "index": "1991-01-05T07:30:00",
          "location": "Nieuwe Maas Maeslantkering rivier",
          "state": "Rust",
          "value": 0.8221138648101319
         },
         {
          "comp1": 360,
          "comp2": -7,
          "index": "1991-01-05T07:40:00",
          "location": "Nieuwe Maas Maeslantkering rivier",
          "state": "Rust",
          "value": 0.732122192956164
         },
         {
          "comp1": 360,
          "comp2": -7,
          "index": "1991-01-05T07:50:00",
          "location": "Nieuwe Maas Maeslantkering rivier",
          "state": "Rust",
          "value": 0.6433295099397711
         },
         {
          "comp1": 360,
          "comp2": -7,
          "index": "1991-01-05T08:00:00",
          "location": "Nieuwe Maas Maeslantkering rivier",
          "state": "Rust",
          "value": 0.5624046974316111
         },
         {
          "comp1": 360,
          "comp2": -7,
          "index": "1991-01-05T08:10:00",
          "location": "Nieuwe Maas Maeslantkering rivier",
          "state": "Rust",
          "value": 0.48764597559895295
         },
         {
          "comp1": 360,
          "comp2": -7,
          "index": "1991-01-05T08:20:00",
          "location": "Nieuwe Maas Maeslantkering rivier",
          "state": "Rust",
          "value": 0.4185206235071954
         },
         {
          "comp1": 360,
          "comp2": -7,
          "index": "1991-01-05T08:30:00",
          "location": "Nieuwe Maas Maeslantkering rivier",
          "state": "Rust",
          "value": 0.34983736648441993
         },
         {
          "comp1": 360,
          "comp2": -7,
          "index": "1991-01-05T08:40:00",
          "location": "Nieuwe Maas Maeslantkering rivier",
          "state": "Rust",
          "value": 0.2712919258163727
         },
         {
          "comp1": 360,
          "comp2": -7,
          "index": "1991-01-05T08:50:00",
          "location": "Nieuwe Maas Maeslantkering rivier",
          "state": "Rust",
          "value": 0.18866909794948522
         },
         {
          "comp1": 360,
          "comp2": -7,
          "index": "1991-01-05T09:00:00",
          "location": "Nieuwe Maas Maeslantkering rivier",
          "state": "Rust",
          "value": 0.10552034130365129
         },
         {
          "comp1": 360,
          "comp2": -7,
          "index": "1991-01-05T09:10:00",
          "location": "Nieuwe Maas Maeslantkering rivier",
          "state": "Rust",
          "value": 0.02434665104821176
         },
         {
          "comp1": 360,
          "comp2": -7,
          "index": "1991-01-05T09:20:00",
          "location": "Nieuwe Maas Maeslantkering rivier",
          "state": "Rust",
          "value": -0.054425763340862576
         },
         {
          "comp1": 360,
          "comp2": -7,
          "index": "1991-01-05T09:30:00",
          "location": "Nieuwe Maas Maeslantkering rivier",
          "state": "Rust",
          "value": -0.13151823156379272
         },
         {
          "comp1": 360,
          "comp2": -7,
          "index": "1991-01-05T09:40:00",
          "location": "Nieuwe Maas Maeslantkering rivier",
          "state": "Rust",
          "value": -0.20890814700570215
         },
         {
          "comp1": 360,
          "comp2": -7,
          "index": "1991-01-05T09:50:00",
          "location": "Nieuwe Maas Maeslantkering rivier",
          "state": "Rust",
          "value": -0.2813558840967578
         },
         {
          "comp1": 360,
          "comp2": -7,
          "index": "1991-01-05T10:00:00",
          "location": "Nieuwe Maas Maeslantkering rivier",
          "state": "Rust",
          "value": -0.3456512049785714
         },
         {
          "comp1": 360,
          "comp2": -7,
          "index": "1991-01-05T10:10:00",
          "location": "Nieuwe Maas Maeslantkering rivier",
          "state": "Rust",
          "value": -0.39941374726969864
         },
         {
          "comp1": 360,
          "comp2": -7,
          "index": "1991-01-05T10:20:00",
          "location": "Nieuwe Maas Maeslantkering rivier",
          "state": "Rust",
          "value": -0.43820603116966955
         },
         {
          "comp1": 360,
          "comp2": -7,
          "index": "1991-01-05T10:30:00",
          "location": "Nieuwe Maas Maeslantkering rivier",
          "state": "Rust",
          "value": -0.4664688979896913
         },
         {
          "comp1": 360,
          "comp2": -7,
          "index": "1991-01-05T10:40:00",
          "location": "Nieuwe Maas Maeslantkering rivier",
          "state": "Rust",
          "value": -0.4846373421568346
         },
         {
          "comp1": 360,
          "comp2": -7,
          "index": "1991-01-05T10:50:00",
          "location": "Nieuwe Maas Maeslantkering rivier",
          "state": "Rust",
          "value": -0.494217423772074
         },
         {
          "comp1": 360,
          "comp2": -7,
          "index": "1991-01-05T11:00:00",
          "location": "Nieuwe Maas Maeslantkering rivier",
          "state": "Rust",
          "value": -0.4968533278701449
         },
         {
          "comp1": 360,
          "comp2": -7,
          "index": "1991-01-05T11:10:00",
          "location": "Nieuwe Maas Maeslantkering rivier",
          "state": "Rust",
          "value": -0.4940841008527994
         },
         {
          "comp1": 360,
          "comp2": -7,
          "index": "1991-01-05T11:20:00",
          "location": "Nieuwe Maas Maeslantkering rivier",
          "state": "Rust",
          "value": -0.49256971542133926
         },
         {
          "comp1": 360,
          "comp2": -7,
          "index": "1991-01-05T11:30:00",
          "location": "Nieuwe Maas Maeslantkering rivier",
          "state": "Rust",
          "value": -0.49106327443765957
         },
         {
          "comp1": 360,
          "comp2": -7,
          "index": "1991-01-05T11:40:00",
          "location": "Nieuwe Maas Maeslantkering rivier",
          "state": "Rust",
          "value": -0.4886231770331647
         },
         {
          "comp1": 360,
          "comp2": -7,
          "index": "1991-01-05T11:50:00",
          "location": "Nieuwe Maas Maeslantkering rivier",
          "state": "Rust",
          "value": -0.4893760402759627
         },
         {
          "comp1": 360,
          "comp2": -7,
          "index": "1991-01-05T12:00:00",
          "location": "Nieuwe Maas Maeslantkering rivier",
          "state": "Rust",
          "value": -0.4966040713242409
         },
         {
          "comp1": 360,
          "comp2": -7,
          "index": "1991-01-05T12:10:00",
          "location": "Nieuwe Maas Maeslantkering rivier",
          "state": "Rust",
          "value": -0.5066173127970193
         },
         {
          "comp1": 360,
          "comp2": -7,
          "index": "1991-01-05T12:20:00",
          "location": "Nieuwe Maas Maeslantkering rivier",
          "state": "Rust",
          "value": -0.5174964165192386
         },
         {
          "comp1": 360,
          "comp2": -7,
          "index": "1991-01-05T12:30:00",
          "location": "Nieuwe Maas Maeslantkering rivier",
          "state": "Rust",
          "value": -0.5251444233954429
         },
         {
          "comp1": 360,
          "comp2": -7,
          "index": "1991-01-05T12:40:00",
          "location": "Nieuwe Maas Maeslantkering rivier",
          "state": "Rust",
          "value": -0.5310520847913025
         },
         {
          "comp1": 360,
          "comp2": -7,
          "index": "1991-01-05T12:50:00",
          "location": "Nieuwe Maas Maeslantkering rivier",
          "state": "Rust",
          "value": -0.5353712946255964
         },
         {
          "comp1": 360,
          "comp2": -7,
          "index": "1991-01-05T13:00:00",
          "location": "Nieuwe Maas Maeslantkering rivier",
          "state": "Rust",
          "value": -0.5367463593593762
         },
         {
          "comp1": 360,
          "comp2": -7,
          "index": "1991-01-05T13:10:00",
          "location": "Nieuwe Maas Maeslantkering rivier",
          "state": "Rust",
          "value": -0.5360677306822399
         },
         {
          "comp1": 360,
          "comp2": -7,
          "index": "1991-01-05T13:20:00",
          "location": "Nieuwe Maas Maeslantkering rivier",
          "state": "Rust",
          "value": -0.5339477603227231
         },
         {
          "comp1": 360,
          "comp2": -7,
          "index": "1991-01-05T13:30:00",
          "location": "Nieuwe Maas Maeslantkering rivier",
          "state": "Rust",
          "value": -0.5320760857940515
         },
         {
          "comp1": 360,
          "comp2": -7,
          "index": "1991-01-05T13:40:00",
          "location": "Nieuwe Maas Maeslantkering rivier",
          "state": "Rust",
          "value": -0.5283257134724635
         },
         {
          "comp1": 360,
          "comp2": -7,
          "index": "1991-01-05T13:50:00",
          "location": "Nieuwe Maas Maeslantkering rivier",
          "state": "Rust",
          "value": -0.5218473845167442
         },
         {
          "comp1": 360,
          "comp2": -7,
          "index": "1991-01-05T14:00:00",
          "location": "Nieuwe Maas Maeslantkering rivier",
          "state": "Rust",
          "value": -0.5105194181586699
         },
         {
          "comp1": 360,
          "comp2": -7,
          "index": "1991-01-05T14:10:00",
          "location": "Nieuwe Maas Maeslantkering rivier",
          "state": "Rust",
          "value": -0.49193639488814667
         },
         {
          "comp1": 360,
          "comp2": -7,
          "index": "1991-01-05T14:20:00",
          "location": "Nieuwe Maas Maeslantkering rivier",
          "state": "Rust",
          "value": -0.46765266792039023
         },
         {
          "comp1": 360,
          "comp2": -7,
          "index": "1991-01-05T14:30:00",
          "location": "Nieuwe Maas Maeslantkering rivier",
          "state": "Rust",
          "value": -0.43292435013332137
         },
         {
          "comp1": 360,
          "comp2": -7,
          "index": "1991-01-05T14:40:00",
          "location": "Nieuwe Maas Maeslantkering rivier",
          "state": "Rust",
          "value": -0.3905735638095519
         },
         {
          "comp1": 360,
          "comp2": -7,
          "index": "1991-01-05T14:50:00",
          "location": "Nieuwe Maas Maeslantkering rivier",
          "state": "Rust",
          "value": -0.34213531426644006
         },
         {
          "comp1": 360,
          "comp2": -7,
          "index": "1991-01-05T15:00:00",
          "location": "Nieuwe Maas Maeslantkering rivier",
          "state": "Rust",
          "value": -0.28871075646783295
         },
         {
          "comp1": 360,
          "comp2": -7,
          "index": "1991-01-05T15:10:00",
          "location": "Nieuwe Maas Maeslantkering rivier",
          "state": "Rust",
          "value": -0.22921143651654263
         },
         {
          "comp1": 360,
          "comp2": -7,
          "index": "1991-01-05T15:20:00",
          "location": "Nieuwe Maas Maeslantkering rivier",
          "state": "Rust",
          "value": -0.16038396300528368
         },
         {
          "comp1": 360,
          "comp2": -7,
          "index": "1991-01-05T15:30:00",
          "location": "Nieuwe Maas Maeslantkering rivier",
          "state": "Rust",
          "value": -0.06988298175493125
         },
         {
          "comp1": 360,
          "comp2": -7,
          "index": "1991-01-05T15:40:00",
          "location": "Nieuwe Maas Maeslantkering rivier",
          "state": "Rust",
          "value": 0.04009720701130591
         },
         {
          "comp1": 360,
          "comp2": -7,
          "index": "1991-01-05T15:50:00",
          "location": "Nieuwe Maas Maeslantkering rivier",
          "state": "Rust",
          "value": 0.170524633168671
         },
         {
          "comp1": 360,
          "comp2": -7,
          "index": "1991-01-05T16:00:00",
          "location": "Nieuwe Maas Maeslantkering rivier",
          "state": "Rust",
          "value": 0.32272919167708936
         },
         {
          "comp1": 360,
          "comp2": -7,
          "index": "1991-01-05T16:10:00",
          "location": "Nieuwe Maas Maeslantkering rivier",
          "state": "Rust",
          "value": 0.47989524701598285
         },
         {
          "comp1": 360,
          "comp2": -7,
          "index": "1991-01-05T16:20:00",
          "location": "Nieuwe Maas Maeslantkering rivier",
          "state": "Rust",
          "value": 0.6302946268362212
         },
         {
          "comp1": 360,
          "comp2": -7,
          "index": "1991-01-05T16:30:00",
          "location": "Nieuwe Maas Maeslantkering rivier",
          "state": "Rust",
          "value": 0.7658077022412793
         },
         {
          "comp1": 360,
          "comp2": -7,
          "index": "1991-01-05T16:40:00",
          "location": "Nieuwe Maas Maeslantkering rivier",
          "state": "Rust",
          "value": 0.8883874108727644
         },
         {
          "comp1": 360,
          "comp2": -7,
          "index": "1991-01-05T16:50:00",
          "location": "Nieuwe Maas Maeslantkering rivier",
          "state": "Rust",
          "value": 0.9945242132109381
         },
         {
          "comp1": 360,
          "comp2": -7,
          "index": "1991-01-05T17:00:00",
          "location": "Nieuwe Maas Maeslantkering rivier",
          "state": "Rust",
          "value": 1.088800729578096
         },
         {
          "comp1": 360,
          "comp2": -7,
          "index": "1991-01-05T17:10:00",
          "location": "Nieuwe Maas Maeslantkering rivier",
          "state": "Rust",
          "value": 1.1544097040869623
         },
         {
          "comp1": 360,
          "comp2": -7,
          "index": "1991-01-05T17:20:00",
          "location": "Nieuwe Maas Maeslantkering rivier",
          "state": "Rust",
          "value": 1.1921420436008545
         },
         {
          "comp1": 360,
          "comp2": -7,
          "index": "1991-01-05T17:30:00",
          "location": "Nieuwe Maas Maeslantkering rivier",
          "state": "Rust",
          "value": 1.2066894351605948
         },
         {
          "comp1": 360,
          "comp2": -7,
          "index": "1991-01-05T17:40:00",
          "location": "Nieuwe Maas Maeslantkering rivier",
          "state": "Rust",
          "value": 1.2042220890927349
         },
         {
          "comp1": 360,
          "comp2": -7,
          "index": "1991-01-05T17:50:00",
          "location": "Nieuwe Maas Maeslantkering rivier",
          "state": "Rust",
          "value": 1.1967502177006215
         },
         {
          "comp1": 360,
          "comp2": -7,
          "index": "1991-01-05T18:00:00",
          "location": "Nieuwe Maas Maeslantkering rivier",
          "state": "Rust",
          "value": 1.1853985921067334
         },
         {
          "comp1": 360,
          "comp2": -7,
          "index": "1991-01-05T18:10:00",
          "location": "Nieuwe Maas Maeslantkering rivier",
          "state": "Rust",
          "value": 1.1774269748824109
         },
         {
          "comp1": 360,
          "comp2": -7,
          "index": "1991-01-05T18:20:00",
          "location": "Nieuwe Maas Maeslantkering rivier",
          "state": "Rust",
          "value": 1.168257539050459
         },
         {
          "comp1": 360,
          "comp2": -7,
          "index": "1991-01-05T18:30:00",
          "location": "Nieuwe Maas Maeslantkering rivier",
          "state": "Rust",
          "value": 1.1563631149610998
         },
         {
          "comp1": 360,
          "comp2": -7,
          "index": "1991-01-05T18:40:00",
          "location": "Nieuwe Maas Maeslantkering rivier",
          "state": "Rust",
          "value": 1.1423631389669113
         },
         {
          "comp1": 360,
          "comp2": -7,
          "index": "1991-01-05T18:50:00",
          "location": "Nieuwe Maas Maeslantkering rivier",
          "state": "Rust",
          "value": 1.125348208700975
         },
         {
          "comp1": 360,
          "comp2": -7,
          "index": "1991-01-05T19:00:00",
          "location": "Nieuwe Maas Maeslantkering rivier",
          "state": "Rust",
          "value": 1.1006898542315242
         },
         {
          "comp1": 360,
          "comp2": -7,
          "index": "1991-01-05T19:10:00",
          "location": "Nieuwe Maas Maeslantkering rivier",
          "state": "Rust",
          "value": 1.0671566056264812
         },
         {
          "comp1": 360,
          "comp2": -7,
          "index": "1991-01-05T19:20:00",
          "location": "Nieuwe Maas Maeslantkering rivier",
          "state": "Rust",
          "value": 1.0256072780362944
         },
         {
          "comp1": 360,
          "comp2": -7,
          "index": "1991-01-05T19:30:00",
          "location": "Nieuwe Maas Maeslantkering rivier",
          "state": "Rust",
          "value": 0.975821343486184
         },
         {
          "comp1": 360,
          "comp2": -7,
          "index": "1991-01-05T19:40:00",
          "location": "Nieuwe Maas Maeslantkering rivier",
          "state": "Rust",
          "value": 0.9255836509118961
         },
         {
          "comp1": 360,
          "comp2": -7,
          "index": "1991-01-05T19:50:00",
          "location": "Nieuwe Maas Maeslantkering rivier",
          "state": "Rust",
          "value": 0.8567878589602151
         },
         {
          "comp1": 360,
          "comp2": -7,
          "index": "1991-01-05T20:00:00",
          "location": "Nieuwe Maas Maeslantkering rivier",
          "state": "Rust",
          "value": 0.7888175494065637
         },
         {
          "comp1": 360,
          "comp2": -7,
          "index": "1991-01-05T20:10:00",
          "location": "Nieuwe Maas Maeslantkering rivier",
          "state": "Rust",
          "value": 0.7214453614499512
         },
         {
          "comp1": 360,
          "comp2": -7,
          "index": "1991-01-05T20:20:00",
          "location": "Nieuwe Maas Maeslantkering rivier",
          "state": "Rust",
          "value": 0.6561072466927108
         },
         {
          "comp1": 360,
          "comp2": -7,
          "index": "1991-01-05T20:30:00",
          "location": "Nieuwe Maas Maeslantkering rivier",
          "state": "Rust",
          "value": 0.5912613286678136
         },
         {
          "comp1": 360,
          "comp2": -7,
          "index": "1991-01-05T20:40:00",
          "location": "Nieuwe Maas Maeslantkering rivier",
          "state": "Rust",
          "value": 0.5255532022345923
         },
         {
          "comp1": 360,
          "comp2": -7,
          "index": "1991-01-05T20:50:00",
          "location": "Nieuwe Maas Maeslantkering rivier",
          "state": "Rust",
          "value": 0.463665915570804
         },
         {
          "comp1": 360,
          "comp2": -7,
          "index": "1991-01-05T21:00:00",
          "location": "Nieuwe Maas Maeslantkering rivier",
          "state": "Rust",
          "value": 0.39811356462265357
         },
         {
          "comp1": 360,
          "comp2": -7,
          "index": "1991-01-05T21:10:00",
          "location": "Nieuwe Maas Maeslantkering rivier",
          "state": "Rust",
          "value": 0.3286511818403106
         },
         {
          "comp1": 360,
          "comp2": -7,
          "index": "1991-01-05T21:20:00",
          "location": "Nieuwe Maas Maeslantkering rivier",
          "state": "Rust",
          "value": 0.2566459268402614
         },
         {
          "comp1": 360,
          "comp2": -7,
          "index": "1991-01-05T21:30:00",
          "location": "Nieuwe Maas Maeslantkering rivier",
          "state": "Rust",
          "value": 0.18009487357661835
         },
         {
          "comp1": 360,
          "comp2": -7,
          "index": "1991-01-05T21:40:00",
          "location": "Nieuwe Maas Maeslantkering rivier",
          "state": "Rust",
          "value": 0.09549879496302714
         },
         {
          "comp1": 360,
          "comp2": -7,
          "index": "1991-01-05T21:50:00",
          "location": "Nieuwe Maas Maeslantkering rivier",
          "state": "Rust",
          "value": 0.00550781396912835
         },
         {
          "comp1": 360,
          "comp2": -7,
          "index": "1991-01-05T22:00:00",
          "location": "Nieuwe Maas Maeslantkering rivier",
          "state": "Rust",
          "value": -0.08368966716959714
         },
         {
          "comp1": 360,
          "comp2": -7,
          "index": "1991-01-05T22:10:00",
          "location": "Nieuwe Maas Maeslantkering rivier",
          "state": "Rust",
          "value": -0.16928352218118203
         },
         {
          "comp1": 360,
          "comp2": -7,
          "index": "1991-01-05T22:20:00",
          "location": "Nieuwe Maas Maeslantkering rivier",
          "state": "Rust",
          "value": -0.24912286474775497
         },
         {
          "comp1": 360,
          "comp2": -7,
          "index": "1991-01-05T22:30:00",
          "location": "Nieuwe Maas Maeslantkering rivier",
          "state": "Rust",
          "value": -0.32129941896937775
         },
         {
          "comp1": 360,
          "comp2": -7,
          "index": "1991-01-05T22:40:00",
          "location": "Nieuwe Maas Maeslantkering rivier",
          "state": "Rust",
          "value": -0.3815517605984124
         },
         {
          "comp1": 360,
          "comp2": -7,
          "index": "1991-01-05T22:50:00",
          "location": "Nieuwe Maas Maeslantkering rivier",
          "state": "Rust",
          "value": -0.4276905452367685
         },
         {
          "comp1": 360,
          "comp2": -7,
          "index": "1991-01-05T23:00:00",
          "location": "Nieuwe Maas Maeslantkering rivier",
          "state": "Rust",
          "value": -0.4603740664610885
         },
         {
          "comp1": 360,
          "comp2": -7,
          "index": "1991-01-05T23:10:00",
          "location": "Nieuwe Maas Maeslantkering rivier",
          "state": "Rust",
          "value": -0.4789099601101063
         },
         {
          "comp1": 360,
          "comp2": -7,
          "index": "1991-01-05T23:20:00",
          "location": "Nieuwe Maas Maeslantkering rivier",
          "state": "Rust",
          "value": -0.4817904484411122
         },
         {
          "comp1": 360,
          "comp2": -7,
          "index": "1991-01-05T23:30:00",
          "location": "Nieuwe Maas Maeslantkering rivier",
          "state": "Rust",
          "value": -0.47192943793400405
         },
         {
          "comp1": 360,
          "comp2": -7,
          "index": "1991-01-05T23:40:00",
          "location": "Nieuwe Maas Maeslantkering rivier",
          "state": "Rust",
          "value": -0.4616033633885015
         },
         {
          "comp1": 360,
          "comp2": -7,
          "index": "1991-01-05T23:50:00",
          "location": "Nieuwe Maas Maeslantkering rivier",
          "state": "Rust",
          "value": -0.457843849498659
         },
         {
          "comp1": 360,
          "comp2": -7,
          "index": "1991-01-06T00:00:00",
          "location": "Nieuwe Maas Maeslantkering rivier",
          "state": "Rust",
          "value": -0.46235249611079865
         },
         {
          "comp1": 360,
          "comp2": -7,
          "index": "1991-01-06T00:10:00",
          "location": "Nieuwe Maas Maeslantkering rivier",
          "state": "Rust",
          "value": -0.46905928963987953
         },
         {
          "comp1": 360,
          "comp2": -7,
          "index": "1991-01-06T00:20:00",
          "location": "Nieuwe Maas Maeslantkering rivier",
          "state": "Rust",
          "value": -0.4792017813871587
         },
         {
          "comp1": 360,
          "comp2": -7,
          "index": "1991-01-06T00:30:00",
          "location": "Nieuwe Maas Maeslantkering rivier",
          "state": "Rust",
          "value": -0.491092768867053
         },
         {
          "comp1": 360,
          "comp2": -7,
          "index": "1991-01-06T00:40:00",
          "location": "Nieuwe Maas Maeslantkering rivier",
          "state": "Rust",
          "value": -0.5019461006823491
         },
         {
          "comp1": 360,
          "comp2": -7,
          "index": "1991-01-06T00:50:00",
          "location": "Nieuwe Maas Maeslantkering rivier",
          "state": "Rust",
          "value": -0.5147147875594748
         },
         {
          "comp1": 360,
          "comp2": -7,
          "index": "1991-01-06T01:00:00",
          "location": "Nieuwe Maas Maeslantkering rivier",
          "state": "Rust",
          "value": -0.5250299724858787
         },
         {
          "comp1": 360,
          "comp2": -7,
          "index": "1991-01-06T01:10:00",
          "location": "Nieuwe Maas Maeslantkering rivier",
          "state": "Rust",
          "value": -0.5329567804950113
         },
         {
          "comp1": 360,
          "comp2": -7,
          "index": "1991-01-06T01:20:00",
          "location": "Nieuwe Maas Maeslantkering rivier",
          "state": "Rust",
          "value": -0.5371626212931303
         },
         {
          "comp1": 360,
          "comp2": -7,
          "index": "1991-01-06T01:30:00",
          "location": "Nieuwe Maas Maeslantkering rivier",
          "state": "Rust",
          "value": -0.5373643725240128
         },
         {
          "comp1": 360,
          "comp2": -7,
          "index": "1991-01-06T01:40:00",
          "location": "Nieuwe Maas Maeslantkering rivier",
          "state": "Rust",
          "value": -0.5365908390001397
         },
         {
          "comp1": 360,
          "comp2": -7,
          "index": "1991-01-06T01:50:00",
          "location": "Nieuwe Maas Maeslantkering rivier",
          "state": "Rust",
          "value": -0.5361498193116655
         },
         {
          "comp1": 360,
          "comp2": -7,
          "index": "1991-01-06T02:00:00",
          "location": "Nieuwe Maas Maeslantkering rivier",
          "state": "Rust",
          "value": -0.5362858402483973
         },
         {
          "comp1": 360,
          "comp2": -7,
          "index": "1991-01-06T02:10:00",
          "location": "Nieuwe Maas Maeslantkering rivier",
          "state": "Rust",
          "value": -0.533470818425495
         },
         {
          "comp1": 360,
          "comp2": -7,
          "index": "1991-01-06T02:20:00",
          "location": "Nieuwe Maas Maeslantkering rivier",
          "state": "Rust",
          "value": -0.5241220679591803
         },
         {
          "comp1": 360,
          "comp2": -7,
          "index": "1991-01-06T02:30:00",
          "location": "Nieuwe Maas Maeslantkering rivier",
          "state": "Rust",
          "value": -0.5091328951706302
         },
         {
          "comp1": 360,
          "comp2": -7,
          "index": "1991-01-06T02:40:00",
          "location": "Nieuwe Maas Maeslantkering rivier",
          "state": "Rust",
          "value": -0.4881422291113466
         },
         {
          "comp1": 360,
          "comp2": -7,
          "index": "1991-01-06T02:50:00",
          "location": "Nieuwe Maas Maeslantkering rivier",
          "state": "Rust",
          "value": -0.45845785650567555
         },
         {
          "comp1": 360,
          "comp2": -7,
          "index": "1991-01-06T03:00:00",
          "location": "Nieuwe Maas Maeslantkering rivier",
          "state": "Rust",
          "value": -0.41779199805474965
         },
         {
          "comp1": 360,
          "comp2": -7,
          "index": "1991-01-06T03:10:00",
          "location": "Nieuwe Maas Maeslantkering rivier",
          "state": "Rust",
          "value": -0.37131203907527716
         },
         {
          "comp1": 360,
          "comp2": -7,
          "index": "1991-01-06T03:20:00",
          "location": "Nieuwe Maas Maeslantkering rivier",
          "state": "Rust",
          "value": -0.32026489386354345
         },
         {
          "comp1": 360,
          "comp2": -7,
          "index": "1991-01-06T03:30:00",
          "location": "Nieuwe Maas Maeslantkering rivier",
          "state": "Rust",
          "value": -0.2615022101021557
         },
         {
          "comp1": 360,
          "comp2": -7,
          "index": "1991-01-06T03:40:00",
          "location": "Nieuwe Maas Maeslantkering rivier",
          "state": "Rust",
          "value": -0.19342539357093194
         },
         {
          "comp1": 360,
          "comp2": -7,
          "index": "1991-01-06T03:50:00",
          "location": "Nieuwe Maas Maeslantkering rivier",
          "state": "Rust",
          "value": -0.10939133736459589
         },
         {
          "comp1": 360,
          "comp2": -7,
          "index": "1991-01-06T04:00:00",
          "location": "Nieuwe Maas Maeslantkering rivier",
          "state": "Rust",
          "value": -0.005940273196285037
         },
         {
          "comp1": 360,
          "comp2": -7,
          "index": "1991-01-06T04:10:00",
          "location": "Nieuwe Maas Maeslantkering rivier",
          "state": "Rust",
          "value": 0.11971173801714412
         },
         {
          "comp1": 360,
          "comp2": -7,
          "index": "1991-01-06T04:20:00",
          "location": "Nieuwe Maas Maeslantkering rivier",
          "state": "Rust",
          "value": 0.25995126675961827
         },
         {
          "comp1": 360,
          "comp2": -7,
          "index": "1991-01-06T04:30:00",
          "location": "Nieuwe Maas Maeslantkering rivier",
          "state": "Rust",
          "value": 0.4075289683133752
         },
         {
          "comp1": 360,
          "comp2": -7,
          "index": "1991-01-06T04:40:00",
          "location": "Nieuwe Maas Maeslantkering rivier",
          "state": "Rust",
          "value": 0.5540817871392505
         },
         {
          "comp1": 360,
          "comp2": -7,
          "index": "1991-01-06T04:50:00",
          "location": "Nieuwe Maas Maeslantkering rivier",
          "state": "Rust",
          "value": 0.6935964827590393
         },
         {
          "comp1": 360,
          "comp2": -7,
          "index": "1991-01-06T05:00:00",
          "location": "Nieuwe Maas Maeslantkering rivier",
          "state": "Rust",
          "value": 0.8214742883796226
         },
         {
          "comp1": 360,
          "comp2": -7,
          "index": "1991-01-06T05:10:00",
          "location": "Nieuwe Maas Maeslantkering rivier",
          "state": "Rust",
          "value": 0.9339616762433579
         },
         {
          "comp1": 360,
          "comp2": -7,
          "index": "1991-01-06T05:20:00",
          "location": "Nieuwe Maas Maeslantkering rivier",
          "state": "Rust",
          "value": 1.0321566604335337
         },
         {
          "comp1": 360,
          "comp2": -7,
          "index": "1991-01-06T05:30:00",
          "location": "Nieuwe Maas Maeslantkering rivier",
          "state": "Rust",
          "value": 1.109013292635627
         },
         {
          "comp1": 360,
          "comp2": -7,
          "index": "1991-01-06T05:40:00",
          "location": "Nieuwe Maas Maeslantkering rivier",
          "state": "Rust",
          "value": 1.1605393643122905
         },
         {
          "comp1": 360,
          "comp2": -7,
          "index": "1991-01-06T05:50:00",
          "location": "Nieuwe Maas Maeslantkering rivier",
          "state": "Rust",
          "value": 1.1872830023591516
         },
         {
          "comp1": 360,
          "comp2": -7,
          "index": "1991-01-06T06:00:00",
          "location": "Nieuwe Maas Maeslantkering rivier",
          "state": "Rust",
          "value": 1.1955302915170944
         },
         {
          "comp1": 360,
          "comp2": -7,
          "index": "1991-01-06T06:10:00",
          "location": "Nieuwe Maas Maeslantkering rivier",
          "state": "Rust",
          "value": 1.1892202543089028
         },
         {
          "comp1": 360,
          "comp2": -7,
          "index": "1991-01-06T06:20:00",
          "location": "Nieuwe Maas Maeslantkering rivier",
          "state": "Rust",
          "value": 1.179182639306281
         },
         {
          "comp1": 360,
          "comp2": -7,
          "index": "1991-01-06T06:30:00",
          "location": "Nieuwe Maas Maeslantkering rivier",
          "state": "Gemobiliseerd",
          "value": 1.1704498639830627
         },
         {
          "comp1": 360,
          "comp2": -7,
          "index": "1991-01-06T06:40:00",
          "location": "Nieuwe Maas Maeslantkering rivier",
          "state": "Gemobiliseerd",
          "value": 1.1603615510976255
         },
         {
          "comp1": 360,
          "comp2": -7,
          "index": "1991-01-06T06:50:00",
          "location": "Nieuwe Maas Maeslantkering rivier",
          "state": "Gemobiliseerd",
          "value": 1.1474539631373284
         },
         {
          "comp1": 360,
          "comp2": -7,
          "index": "1991-01-06T07:00:00",
          "location": "Nieuwe Maas Maeslantkering rivier",
          "state": "Gemobiliseerd",
          "value": 1.1326622790319287
         },
         {
          "comp1": 360,
          "comp2": -7,
          "index": "1991-01-06T07:10:00",
          "location": "Nieuwe Maas Maeslantkering rivier",
          "state": "Gemobiliseerd",
          "value": 1.1123882955259672
         },
         {
          "comp1": 360,
          "comp2": -7,
          "index": "1991-01-06T07:20:00",
          "location": "Nieuwe Maas Maeslantkering rivier",
          "state": "Gemobiliseerd",
          "value": 1.0858080676752113
         },
         {
          "comp1": 360,
          "comp2": -7,
          "index": "1991-01-06T07:30:00",
          "location": "Nieuwe Maas Maeslantkering rivier",
          "state": "Gemobiliseerd",
          "value": 1.0520271190314223
         },
         {
          "comp1": 360,
          "comp2": -7,
          "index": "1991-01-06T07:40:00",
          "location": "Nieuwe Maas Maeslantkering rivier",
          "state": "Gemobiliseerd",
          "value": 1.0119529305505253
         },
         {
          "comp1": 360,
          "comp2": -7,
          "index": "1991-01-06T07:50:00",
          "location": "Nieuwe Maas Maeslantkering rivier",
          "state": "Gemobiliseerd",
          "value": 0.9678871964795214
         },
         {
          "comp1": 360,
          "comp2": -7,
          "index": "1991-01-06T08:00:00",
          "location": "Nieuwe Maas Maeslantkering rivier",
          "state": "Gemobiliseerd",
          "value": 0.9201118569242595
         },
         {
          "comp1": 360,
          "comp2": -7,
          "index": "1991-01-06T08:10:00",
          "location": "Nieuwe Maas Maeslantkering rivier",
          "state": "Gemobiliseerd",
          "value": 0.8624111252192043
         },
         {
          "comp1": 360,
          "comp2": -7,
          "index": "1991-01-06T08:20:00",
          "location": "Nieuwe Maas Maeslantkering rivier",
          "state": "Gemobiliseerd",
          "value": 0.790794414794391
         },
         {
          "comp1": 360,
          "comp2": -7,
          "index": "1991-01-06T08:30:00",
          "location": "Nieuwe Maas Maeslantkering rivier",
          "state": "Gemobiliseerd",
          "value": 0.7224343666035479
         },
         {
          "comp1": 360,
          "comp2": -7,
          "index": "1991-01-06T08:40:00",
          "location": "Nieuwe Maas Maeslantkering rivier",
          "state": "Gemobiliseerd",
          "value": 0.6546868460564148
         },
         {
          "comp1": 360,
          "comp2": -7,
          "index": "1991-01-06T08:50:00",
          "location": "Nieuwe Maas Maeslantkering rivier",
          "state": "Gemobiliseerd",
          "value": 0.591775750716316
         },
         {
          "comp1": 360,
          "comp2": -7,
          "index": "1991-01-06T09:00:00",
          "location": "Nieuwe Maas Maeslantkering rivier",
          "state": "Gemobiliseerd",
          "value": 0.5269104493268366
         },
         {
          "comp1": 360,
          "comp2": -7,
          "index": "1991-01-06T09:10:00",
          "location": "Nieuwe Maas Maeslantkering rivier",
          "state": "Gemobiliseerd",
          "value": 0.46383240987287183
         },
         {
          "comp1": 360,
          "comp2": -7,
          "index": "1991-01-06T09:20:00",
          "location": "Nieuwe Maas Maeslantkering rivier",
          "state": "Gemobiliseerd",
          "value": 0.4047483999632159
         },
         {
          "comp1": 360,
          "comp2": -7,
          "index": "1991-01-06T09:30:00",
          "location": "Nieuwe Maas Maeslantkering rivier",
          "state": "Gemobiliseerd",
          "value": 0.3425442348141392
         },
         {
          "comp1": 360,
          "comp2": -7,
          "index": "1991-01-06T09:40:00",
          "location": "Nieuwe Maas Maeslantkering rivier",
          "state": "Gemobiliseerd",
          "value": 0.2765758880416907
         },
         {
          "comp1": 360,
          "comp2": -7,
          "index": "1991-01-06T09:50:00",
          "location": "Nieuwe Maas Maeslantkering rivier",
          "state": "Gemobiliseerd",
          "value": 0.20505366069328343
         },
         {
          "comp1": 360,
          "comp2": -7,
          "index": "1991-01-06T10:00:00",
          "location": "Nieuwe Maas Maeslantkering rivier",
          "state": "Gemobiliseerd",
          "value": 0.12887902651821267
         },
         {
          "comp1": 360,
          "comp2": -7,
          "index": "1991-01-06T10:10:00",
          "location": "Nieuwe Maas Maeslantkering rivier",
          "state": "Gemobiliseerd",
          "value": 0.04949566326781885
         },
         {
          "comp1": 360,
          "comp2": -7,
          "index": "1991-01-06T10:20:00",
          "location": "Nieuwe Maas Maeslantkering rivier",
          "state": "Gemobiliseerd",
          "value": -0.03201577686603027
         },
         {
          "comp1": 360,
          "comp2": -7,
          "index": "1991-01-06T10:30:00",
          "location": "Nieuwe Maas Maeslantkering rivier",
          "state": "Gemobiliseerd",
          "value": -0.11691831851665127
         },
         {
          "comp1": 360,
          "comp2": -7,
          "index": "1991-01-06T10:40:00",
          "location": "Nieuwe Maas Maeslantkering rivier",
          "state": "Gemobiliseerd",
          "value": -0.2000899922590117
         },
         {
          "comp1": 360,
          "comp2": -7,
          "index": "1991-01-06T10:50:00",
          "location": "Nieuwe Maas Maeslantkering rivier",
          "state": "Gemobiliseerd",
          "value": -0.27811339227953863
         },
         {
          "comp1": 360,
          "comp2": -7,
          "index": "1991-01-06T11:00:00",
          "location": "Nieuwe Maas Maeslantkering rivier",
          "state": "Gemobiliseerd",
          "value": -0.3462168026171011
         },
         {
          "comp1": 360,
          "comp2": -7,
          "index": "1991-01-06T11:10:00",
          "location": "Nieuwe Maas Maeslantkering rivier",
          "state": "Gemobiliseerd",
          "value": -0.3987334018552057
         },
         {
          "comp1": 360,
          "comp2": -7,
          "index": "1991-01-06T11:20:00",
          "location": "Nieuwe Maas Maeslantkering rivier",
          "state": "Gemobiliseerd",
          "value": -0.4380857896863916
         },
         {
          "comp1": 360,
          "comp2": -7,
          "index": "1991-01-06T11:30:00",
          "location": "Nieuwe Maas Maeslantkering rivier",
          "state": "Gemobiliseerd",
          "value": -0.4639991658450989
         },
         {
          "comp1": 360,
          "comp2": -7,
          "index": "1991-01-06T11:40:00",
          "location": "Nieuwe Maas Maeslantkering rivier",
          "state": "Gemobiliseerd",
          "value": -0.47872469406601686
         },
         {
          "comp1": 360,
          "comp2": -7,
          "index": "1991-01-06T11:50:00",
          "location": "Nieuwe Maas Maeslantkering rivier",
          "state": "Gemobiliseerd",
          "value": -0.48344573799617097
         },
         {
          "comp1": 360,
          "comp2": -7,
          "index": "1991-01-06T12:00:00",
          "location": "Nieuwe Maas Maeslantkering rivier",
          "state": "Gemobiliseerd",
          "value": -0.4780057593639075
         },
         {
          "comp1": 360,
          "comp2": -7,
          "index": "1991-01-06T12:10:00",
          "location": "Nieuwe Maas Maeslantkering rivier",
          "state": "Gemobiliseerd",
          "value": -0.4689527223655177
         },
         {
          "comp1": 360,
          "comp2": -7,
          "index": "1991-01-06T12:20:00",
          "location": "Nieuwe Maas Maeslantkering rivier",
          "state": "Gemobiliseerd",
          "value": -0.4598154237613826
         },
         {
          "comp1": 360,
          "comp2": -7,
          "index": "1991-01-06T12:30:00",
          "location": "Nieuwe Maas Maeslantkering rivier",
          "state": "Gemobiliseerd",
          "value": -0.4541019798363177
         },
         {
          "comp1": 360,
          "comp2": -7,
          "index": "1991-01-06T12:40:00",
          "location": "Nieuwe Maas Maeslantkering rivier",
          "state": "Gemobiliseerd",
          "value": -0.45670613174380487
         },
         {
          "comp1": 360,
          "comp2": -7,
          "index": "1991-01-06T12:50:00",
          "location": "Nieuwe Maas Maeslantkering rivier",
          "state": "Gemobiliseerd",
          "value": -0.468738855843475
         },
         {
          "comp1": 360,
          "comp2": -7,
          "index": "1991-01-06T13:00:00",
          "location": "Nieuwe Maas Maeslantkering rivier",
          "state": "Gemobiliseerd",
          "value": -0.48356235659956603
         },
         {
          "comp1": 360,
          "comp2": -7,
          "index": "1991-01-06T13:10:00",
          "location": "Nieuwe Maas Maeslantkering rivier",
          "state": "Gemobiliseerd",
          "value": -0.4985518258575576
         },
         {
          "comp1": 360,
          "comp2": -7,
          "index": "1991-01-06T13:20:00",
          "location": "Nieuwe Maas Maeslantkering rivier",
          "state": "Gemobiliseerd",
          "value": -0.5110001839479419
         },
         {
          "comp1": 360,
          "comp2": -7,
          "index": "1991-01-06T13:30:00",
          "location": "Nieuwe Maas Maeslantkering rivier",
          "state": "Gemobiliseerd",
          "value": -0.522242572538771
         },
         {
          "comp1": 360,
          "comp2": -7,
          "index": "1991-01-06T13:40:00",
          "location": "Nieuwe Maas Maeslantkering rivier",
          "state": "Gemobiliseerd",
          "value": -0.531290740049643
         },
         {
          "comp1": 360,
          "comp2": -7,
          "index": "1991-01-06T13:50:00",
          "location": "Nieuwe Maas Maeslantkering rivier",
          "state": "Gemobiliseerd",
          "value": -0.5359089738396968
         },
         {
          "comp1": 360,
          "comp2": -7,
          "index": "1991-01-06T14:00:00",
          "location": "Nieuwe Maas Maeslantkering rivier",
          "state": "Gemobiliseerd",
          "value": -0.5368980922383564
         },
         {
          "comp1": 360,
          "comp2": -7,
          "index": "1991-01-06T14:10:00",
          "location": "Nieuwe Maas Maeslantkering rivier",
          "state": "Gemobiliseerd",
          "value": -0.5358706410059227
         },
         {
          "comp1": 360,
          "comp2": -7,
          "index": "1991-01-06T14:20:00",
          "location": "Nieuwe Maas Maeslantkering rivier",
          "state": "Gemobiliseerd",
          "value": -0.5345613326317336
         },
         {
          "comp1": 360,
          "comp2": -7,
          "index": "1991-01-06T14:30:00",
          "location": "Nieuwe Maas Maeslantkering rivier",
          "state": "Gemobiliseerd",
          "value": -0.5316795043322179
         },
         {
          "comp1": 360,
          "comp2": -7,
          "index": "1991-01-06T14:40:00",
          "location": "Nieuwe Maas Maeslantkering rivier",
          "state": "Gemobiliseerd",
          "value": -0.5261665351595808
         },
         {
          "comp1": 360,
          "comp2": -7,
          "index": "1991-01-06T14:50:00",
          "location": "Nieuwe Maas Maeslantkering rivier",
          "state": "Gemobiliseerd",
          "value": -0.5155325057191325
         },
         {
          "comp1": 360,
          "comp2": -7,
          "index": "1991-01-06T15:00:00",
          "location": "Nieuwe Maas Maeslantkering rivier",
          "state": "Gemobiliseerd",
          "value": -0.4978343559821513
         },
         {
          "comp1": 360,
          "comp2": -7,
          "index": "1991-01-06T15:10:00",
          "location": "Nieuwe Maas Maeslantkering rivier",
          "state": "Gemobiliseerd",
          "value": -0.4739410808117563
         },
         {
          "comp1": 360,
          "comp2": -7,
          "index": "1991-01-06T15:20:00",
          "location": "Nieuwe Maas Maeslantkering rivier",
          "state": "Gemobiliseerd",
          "value": -0.43951935130810194
         },
         {
          "comp1": 360,
          "comp2": -7,
          "index": "1991-01-06T15:30:00",
          "location": "Nieuwe Maas Maeslantkering rivier",
          "state": "Gemobiliseerd",
          "value": -0.39699347276623337
         },
         {
          "comp1": 360,
          "comp2": -7,
          "index": "1991-01-06T15:40:00",
          "location": "Nieuwe Maas Maeslantkering rivier",
          "state": "Gemobiliseerd",
          "value": -0.34825799584809664
         },
         {
          "comp1": 360,
          "comp2": -7,
          "index": "1991-01-06T15:50:00",
          "location": "Nieuwe Maas Maeslantkering rivier",
          "state": "Gemobiliseerd",
          "value": -0.2941495264919165
         },
         {
          "comp1": 360,
          "comp2": -7,
          "index": "1991-01-06T16:00:00",
          "location": "Nieuwe Maas Maeslantkering rivier",
          "state": "Gemobiliseerd",
          "value": -0.23188393280680458
         },
         {
          "comp1": 360,
          "comp2": -7,
          "index": "1991-01-06T16:10:00",
          "location": "Nieuwe Maas Maeslantkering rivier",
          "state": "Gemobiliseerd",
          "value": -0.1591020846725375
         },
         {
          "comp1": 360,
          "comp2": -7,
          "index": "1991-01-06T16:20:00",
          "location": "Nieuwe Maas Maeslantkering rivier",
          "state": "Gemobiliseerd",
          "value": -0.06457007957068961
         },
         {
          "comp1": 360,
          "comp2": -7,
          "index": "1991-01-06T16:30:00",
          "location": "Nieuwe Maas Maeslantkering rivier",
          "state": "Gemobiliseerd",
          "value": 0.048870871170742465
         },
         {
          "comp1": 360,
          "comp2": -7,
          "index": "1991-01-06T16:40:00",
          "location": "Nieuwe Maas Maeslantkering rivier",
          "state": "Gemobiliseerd",
          "value": 0.18036213666300854
         },
         {
          "comp1": 360,
          "comp2": -7,
          "index": "1991-01-06T16:50:00",
          "location": "Nieuwe Maas Maeslantkering rivier",
          "state": "Gemobiliseerd",
          "value": 0.326559119561955
         },
         {
          "comp1": 360,
          "comp2": -7,
          "index": "1991-01-06T17:00:00",
          "location": "Nieuwe Maas Maeslantkering rivier",
          "state": "Gemobiliseerd",
          "value": 0.4747158621173243
         },
         {
          "comp1": 360,
          "comp2": -7,
          "index": "1991-01-06T17:10:00",
          "location": "Nieuwe Maas Maeslantkering rivier",
          "state": "Gemobiliseerd",
          "value": 0.6156464645218132
         },
         {
          "comp1": 360,
          "comp2": -7,
          "index": "1991-01-06T17:20:00",
          "location": "Nieuwe Maas Maeslantkering rivier",
          "state": "Gemobiliseerd",
          "value": 0.7456485860286897
         },
         {
          "comp1": 360,
          "comp2": -7,
          "index": "1991-01-06T17:30:00",
          "location": "Nieuwe Maas Maeslantkering rivier",
          "state": "Gemobiliseerd",
          "value": 0.866458420219729
         },
         {
          "comp1": 360,
          "comp2": -7,
          "index": "1991-01-06T17:40:00",
          "location": "Nieuwe Maas Maeslantkering rivier",
          "state": "Gemobiliseerd",
          "value": 0.9716117482910654
         },
         {
          "comp1": 360,
          "comp2": -7,
          "index": "1991-01-06T17:50:00",
          "location": "Nieuwe Maas Maeslantkering rivier",
          "state": "Gemobiliseerd",
          "value": 1.0679278288016552
         },
         {
          "comp1": 360,
          "comp2": -7,
          "index": "1991-01-06T18:00:00",
          "location": "Nieuwe Maas Maeslantkering rivier",
          "state": "Gemobiliseerd",
          "value": 1.1570413345633828
         },
         {
          "comp1": 360,
          "comp2": -7,
          "index": "1991-01-06T18:10:00",
          "location": "Nieuwe Maas Maeslantkering rivier",
          "state": "Gemobiliseerd",
          "value": 1.2339778594708728
         },
         {
          "comp1": 360,
          "comp2": -7,
          "index": "1991-01-06T18:20:00",
          "location": "Nieuwe Maas Maeslantkering rivier",
          "state": "Gemobiliseerd",
          "value": 1.298934360503539
         },
         {
          "comp1": 360,
          "comp2": -7,
          "index": "1991-01-06T18:30:00",
          "location": "Nieuwe Maas Maeslantkering rivier",
          "state": "Gemobiliseerd",
          "value": 1.3473009728732188
         },
         {
          "comp1": 360,
          "comp2": -7,
          "index": "1991-01-06T18:40:00",
          "location": "Nieuwe Maas Maeslantkering rivier",
          "state": "Gemobiliseerd",
          "value": 1.3828716617183412
         },
         {
          "comp1": 360,
          "comp2": -7,
          "index": "1991-01-06T18:50:00",
          "location": "Nieuwe Maas Maeslantkering rivier",
          "state": "Gemobiliseerd",
          "value": 1.4118332911469753
         },
         {
          "comp1": 360,
          "comp2": -7,
          "index": "1991-01-06T19:00:00",
          "location": "Nieuwe Maas Maeslantkering rivier",
          "state": "Gemobiliseerd",
          "value": 1.436200286914738
         },
         {
          "comp1": 360,
          "comp2": -7,
          "index": "1991-01-06T19:10:00",
          "location": "Nieuwe Maas Maeslantkering rivier",
          "state": "Gemobiliseerd",
          "value": 1.4511478136606306
         },
         {
          "comp1": 360,
          "comp2": -7,
          "index": "1991-01-06T19:20:00",
          "location": "Nieuwe Maas Maeslantkering rivier",
          "state": "Gemobiliseerd",
          "value": 1.4570301930347191
         },
         {
          "comp1": 360,
          "comp2": -7,
          "index": "1991-01-06T19:30:00",
          "location": "Nieuwe Maas Maeslantkering rivier",
          "state": "Gemobiliseerd",
          "value": 1.4648987659487338
         },
         {
          "comp1": 360,
          "comp2": -7,
          "index": "1991-01-06T19:40:00",
          "location": "Nieuwe Maas Maeslantkering rivier",
          "state": "Gemobiliseerd",
          "value": 1.4794030155774482
         },
         {
          "comp1": 360,
          "comp2": -7,
          "index": "1991-01-06T19:50:00",
          "location": "Nieuwe Maas Maeslantkering rivier",
          "state": "Gemobiliseerd",
          "value": 1.495406171389378
         },
         {
          "comp1": 360,
          "comp2": -7,
          "index": "1991-01-06T20:00:00",
          "location": "Nieuwe Maas Maeslantkering rivier",
          "state": "Alert",
          "value": 1.5096080808410197
         },
         {
          "comp1": 360,
          "comp2": -7,
          "index": "1991-01-06T20:10:00",
          "location": "Nieuwe Maas Maeslantkering rivier",
          "state": "Alert",
          "value": 1.5208072299787705
         },
         {
          "comp1": 360,
          "comp2": -7,
          "index": "1991-01-06T20:20:00",
          "location": "Nieuwe Maas Maeslantkering rivier",
          "state": "Alert",
          "value": 1.524576769507377
         },
         {
          "comp1": 360,
          "comp2": -7,
          "index": "1991-01-06T20:30:00",
          "location": "Nieuwe Maas Maeslantkering rivier",
          "state": "Alert",
          "value": 1.5262073021115454
         },
         {
          "comp1": 360,
          "comp2": -7,
          "index": "1991-01-06T20:40:00",
          "location": "Nieuwe Maas Maeslantkering rivier",
          "state": "Alert",
          "value": 1.5147053239114532
         },
         {
          "comp1": 360,
          "comp2": -7,
          "index": "1991-01-06T20:50:00",
          "location": "Nieuwe Maas Maeslantkering rivier",
          "state": "Alert",
          "value": 1.495768240654849
         },
         {
          "comp1": 360,
          "comp2": -7,
          "index": "1991-01-06T21:00:00",
          "location": "Nieuwe Maas Maeslantkering rivier",
          "state": "Alert",
          "value": 1.4735531036083573
         },
         {
          "comp1": 360,
          "comp2": -7,
          "index": "1991-01-06T21:10:00",
          "location": "Nieuwe Maas Maeslantkering rivier",
          "state": "Alert",
          "value": 1.447458958084253
         },
         {
          "comp1": 360,
          "comp2": -7,
          "index": "1991-01-06T21:20:00",
          "location": "Nieuwe Maas Maeslantkering rivier",
          "state": "Alert",
          "value": 1.4198663497056534
         },
         {
          "comp1": 360,
          "comp2": -7,
          "index": "1991-01-06T21:30:00",
          "location": "Nieuwe Maas Maeslantkering rivier",
          "state": "Alert",
          "value": 1.3894939830897162
         },
         {
          "comp1": 360,
          "comp2": -7,
          "index": "1991-01-06T21:40:00",
          "location": "Nieuwe Maas Maeslantkering rivier",
          "state": "Alert",
          "value": 1.363285038969083
         },
         {
          "comp1": 360,
          "comp2": -7,
          "index": "1991-01-06T21:50:00",
          "location": "Nieuwe Maas Maeslantkering rivier",
          "state": "Alert",
          "value": 1.3322492664281218
         },
         {
          "comp1": 360,
          "comp2": -7,
          "index": "1991-01-06T22:00:00",
          "location": "Nieuwe Maas Maeslantkering rivier",
          "state": "Alert",
          "value": 1.3005238448568672
         },
         {
          "comp1": 360,
          "comp2": -7,
          "index": "1991-01-06T22:10:00",
          "location": "Nieuwe Maas Maeslantkering rivier",
          "state": "Alert",
          "value": 1.270515526649957
         },
         {
          "comp1": 360,
          "comp2": -7,
          "index": "1991-01-06T22:20:00",
          "location": "Nieuwe Maas Maeslantkering rivier",
          "state": "Alert",
          "value": 1.2385226325237917
         },
         {
          "comp1": 360,
          "comp2": -7,
          "index": "1991-01-06T22:30:00",
          "location": "Nieuwe Maas Maeslantkering rivier",
          "state": "Alert",
          "value": 1.199616014708477
         },
         {
          "comp1": 360,
          "comp2": -7,
          "index": "1991-01-06T22:40:00",
          "location": "Nieuwe Maas Maeslantkering rivier",
          "state": "Alert",
          "value": 1.1640777558214201
         },
         {
          "comp1": 360,
          "comp2": -7,
          "index": "1991-01-06T22:50:00",
          "location": "Nieuwe Maas Maeslantkering rivier",
          "state": "Alert",
          "value": 1.1349405622180457
         },
         {
          "comp1": 360,
          "comp2": -7,
          "index": "1991-01-06T23:00:00",
          "location": "Nieuwe Maas Maeslantkering rivier",
          "state": "Alert",
          "value": 1.1101214307277827
         },
         {
          "comp1": 360,
          "comp2": -7,
          "index": "1991-01-06T23:10:00",
          "location": "Nieuwe Maas Maeslantkering rivier",
          "state": "Alert",
          "value": 1.0894598254853192
         },
         {
          "comp1": 360,
          "comp2": -7,
          "index": "1991-01-06T23:20:00",
          "location": "Nieuwe Maas Maeslantkering rivier",
          "state": "Alert",
          "value": 1.0770613222422092
         },
         {
          "comp1": 360,
          "comp2": -7,
          "index": "1991-01-06T23:30:00",
          "location": "Nieuwe Maas Maeslantkering rivier",
          "state": "Alert",
          "value": 1.0790494119132976
         },
         {
          "comp1": 360,
          "comp2": -7,
          "index": "1991-01-06T23:40:00",
          "location": "Nieuwe Maas Maeslantkering rivier",
          "state": "Alert",
          "value": 1.0954229456891684
         },
         {
          "comp1": 360,
          "comp2": -7,
          "index": "1991-01-06T23:50:00",
          "location": "Nieuwe Maas Maeslantkering rivier",
          "state": "Alert",
          "value": 1.1248495435988102
         },
         {
          "comp1": 360,
          "comp2": -7,
          "index": "1991-01-07T00:00:00",
          "location": "Nieuwe Maas Maeslantkering rivier",
          "state": "Stremmen",
          "value": 1.1627259351676107
         },
         {
          "comp1": 360,
          "comp2": -7,
          "index": "1991-01-07T00:10:00",
          "location": "Nieuwe Maas Maeslantkering rivier",
          "state": "Stremmen",
          "value": 1.2042497133330305
         },
         {
          "comp1": 360,
          "comp2": -7,
          "index": "1991-01-07T00:20:00",
          "location": "Nieuwe Maas Maeslantkering rivier",
          "state": "Stremmen",
          "value": 1.250928026913611
         },
         {
          "comp1": 360,
          "comp2": -7,
          "index": "1991-01-07T00:30:00",
          "location": "Nieuwe Maas Maeslantkering rivier",
          "state": "Stremmen",
          "value": 1.2986463666572388
         },
         {
          "comp1": 360,
          "comp2": -7,
          "index": "1991-01-07T00:40:00",
          "location": "Nieuwe Maas Maeslantkering rivier",
          "state": "Stremmen",
          "value": 1.3467326611809496
         },
         {
          "comp1": 360,
          "comp2": -7,
          "index": "1991-01-07T00:50:00",
          "location": "Nieuwe Maas Maeslantkering rivier",
          "state": "Stremmen",
          "value": 1.391551482692006
         },
         {
          "comp1": 360,
          "comp2": -7,
          "index": "1991-01-07T01:00:00",
          "location": "Nieuwe Maas Maeslantkering rivier",
          "state": "Stremmen",
          "value": 1.4417172222710208
         },
         {
          "comp1": 360,
          "comp2": -7,
          "index": "1991-01-07T01:10:00",
          "location": "Nieuwe Maas Maeslantkering rivier",
          "state": "Stremmen",
          "value": 1.4909567565334785
         },
         {
          "comp1": 360,
          "comp2": -7,
          "index": "1991-01-07T01:20:00",
          "location": "Nieuwe Maas Maeslantkering rivier",
          "state": "Stremmen",
          "value": 1.5362659373996135
         },
         {
          "comp1": 360,
          "comp2": -7,
          "index": "1991-01-07T01:30:00",
          "location": "Nieuwe Maas Maeslantkering rivier",
          "state": "Stremmen",
          "value": 1.5771576860767016
         },
         {
          "comp1": 360,
          "comp2": -7,
          "index": "1991-01-07T01:40:00",
          "location": "Nieuwe Maas Maeslantkering rivier",
          "state": "Stremmen",
          "value": 1.6149839121388139
         },
         {
          "comp1": 360,
          "comp2": -7,
          "index": "1991-01-07T01:50:00",
          "location": "Nieuwe Maas Maeslantkering rivier",
          "state": "Stremmen",
          "value": 1.6553208241511623
         },
         {
          "comp1": 360,
          "comp2": -7,
          "index": "1991-01-07T02:00:00",
          "location": "Nieuwe Maas Maeslantkering rivier",
          "state": "Paraat",
          "value": 1.6971674342219463
         },
         {
          "comp1": 360,
          "comp2": -7,
          "index": "1991-01-07T02:10:00",
          "location": "Nieuwe Maas Maeslantkering rivier",
          "state": "Paraat",
          "value": 1.742604630606156
         },
         {
          "comp1": 360,
          "comp2": -7,
          "index": "1991-01-07T02:20:00",
          "location": "Nieuwe Maas Maeslantkering rivier",
          "state": "Paraat",
          "value": 1.7904507082658647
         },
         {
          "comp1": 360,
          "comp2": -7,
          "index": "1991-01-07T02:30:00",
          "location": "Nieuwe Maas Maeslantkering rivier",
          "state": "Paraat",
          "value": 1.8383239867378272
         },
         {
          "comp1": 360,
          "comp2": -7,
          "index": "1991-01-07T02:40:00",
          "location": "Nieuwe Maas Maeslantkering rivier",
          "state": "Paraat",
          "value": 1.8858398541328611
         },
         {
          "comp1": 360,
          "comp2": -7,
          "index": "1991-01-07T02:50:00",
          "location": "Nieuwe Maas Maeslantkering rivier",
          "state": "Paraat",
          "value": 1.9348865008200966
         },
         {
          "comp1": 360,
          "comp2": -7,
          "index": "1991-01-07T03:00:00",
          "location": "Nieuwe Maas Maeslantkering rivier",
          "state": "Paraat",
          "value": 1.9899731789701036
         },
         {
          "comp1": 360,
          "comp2": -7,
          "index": "1991-01-07T03:10:00",
          "location": "Nieuwe Maas Maeslantkering rivier",
          "state": "Paraat",
          "value": 2.0510727480449815
         },
         {
          "comp1": 360,
          "comp2": -7,
          "index": "1991-01-07T03:20:00",
          "location": "Nieuwe Maas Maeslantkering rivier",
          "state": "Paraat",
          "value": 2.113775861736239
         },
         {
          "comp1": 360,
          "comp2": -7,
          "index": "1991-01-07T03:30:00",
          "location": "Nieuwe Maas Maeslantkering rivier",
          "state": "Paraat",
          "value": 2.1827827451960835
         },
         {
          "comp1": 360,
          "comp2": -7,
          "index": "1991-01-07T03:40:00",
          "location": "Nieuwe Maas Maeslantkering rivier",
          "state": "Paraat",
          "value": 2.2560114825019335
         },
         {
          "comp1": 360,
          "comp2": -7,
          "index": "1991-01-07T03:50:00",
          "location": "Nieuwe Maas Maeslantkering rivier",
          "state": "Paraat",
          "value": 2.2970282835190314
         },
         {
          "comp1": 360,
          "comp2": -7,
          "index": "1991-01-07T04:00:00",
          "location": "Nieuwe Maas Maeslantkering rivier",
          "state": "Paraat",
          "value": 2.2618565712269634
         },
         {
          "comp1": 360,
          "comp2": -7,
          "index": "1991-01-07T04:10:00",
          "location": "Nieuwe Maas Maeslantkering rivier",
          "state": "HorizontaalSluiten",
          "value": 2.1335516330603745
         },
         {
          "comp1": 360,
          "comp2": -7,
          "index": "1991-01-07T04:20:00",
          "location": "Nieuwe Maas Maeslantkering rivier",
          "state": "HorizontaalSluiten",
          "value": 1.9618394791418972
         },
         {
          "comp1": 360,
          "comp2": -7,
          "index": "1991-01-07T04:30:00",
          "location": "Nieuwe Maas Maeslantkering rivier",
          "state": "HorizontaalSluiten",
          "value": 1.8188567021085387
         },
         {
          "comp1": 0,
          "comp2": -7,
          "index": "1991-01-07T04:40:00",
          "location": "Nieuwe Maas Maeslantkering rivier",
          "state": "AfzinkenCPSE",
          "value": 1.7505219581819325
         },
         {
          "comp1": 0,
          "comp2": -7,
          "index": "1991-01-07T04:50:00",
          "location": "Nieuwe Maas Maeslantkering rivier",
          "state": "AfzinkenCPSE",
          "value": 1.794079082043103
         },
         {
          "comp1": 0,
          "comp2": -7,
          "index": "1991-01-07T05:00:00",
          "location": "Nieuwe Maas Maeslantkering rivier",
          "state": "AfzinkenCPSE",
          "value": 1.8628591787421436
         },
         {
          "comp1": 0,
          "comp2": -13.15,
          "index": "1991-01-07T05:10:00",
          "location": "Nieuwe Maas Maeslantkering rivier",
          "state": "AfzinkenBodem",
          "value": 1.9762564463366785
         },
         {
          "comp1": 0,
          "comp2": -13.15,
          "index": "1991-01-07T05:20:00",
          "location": "Nieuwe Maas Maeslantkering rivier",
          "state": "AfzinkenBodem",
          "value": 2.067134256134517
         },
         {
          "comp1": 0,
          "comp2": -13.15,
          "index": "1991-01-07T05:30:00",
          "location": "Nieuwe Maas Maeslantkering rivier",
          "state": "AfzinkenBodem",
          "value": 2.108780399623011
         },
         {
          "comp1": 0,
          "comp2": -13.15,
          "index": "1991-01-07T05:40:00",
          "location": "Nieuwe Maas Maeslantkering rivier",
          "state": "AfzinkenBodem",
          "value": 2.0975607269927443
         },
         {
          "comp1": 0,
          "comp2": -13.15,
          "index": "1991-01-07T05:50:00",
          "location": "Nieuwe Maas Maeslantkering rivier",
          "state": "AfzinkenBodem",
          "value": 2.062101145129965
         },
         {
          "comp1": 0,
          "comp2": -13.15,
          "index": "1991-01-07T06:00:00",
          "location": "Nieuwe Maas Maeslantkering rivier",
          "state": "AfzinkenBodem",
          "value": 2.0433981557180383
         },
         {
          "comp1": 0,
          "comp2": -16.72,
          "index": "1991-01-07T06:10:00",
          "location": "Nieuwe Maas Maeslantkering rivier",
          "state": "Keren",
          "value": 2.0522445477101745
         },
         {
          "comp1": 0,
          "comp2": -16.72,
          "index": "1991-01-07T06:20:00",
          "location": "Nieuwe Maas Maeslantkering rivier",
          "state": "Keren",
          "value": 2.103863908609152
         },
         {
          "comp1": 0,
          "comp2": -16.72,
          "index": "1991-01-07T06:30:00",
          "location": "Nieuwe Maas Maeslantkering rivier",
          "state": "Keren",
          "value": 2.187128007314173
         },
         {
          "comp1": 0,
          "comp2": -16.72,
          "index": "1991-01-07T06:40:00",
          "location": "Nieuwe Maas Maeslantkering rivier",
          "state": "Keren",
          "value": 2.276784479323337
         },
         {
          "comp1": 0,
          "comp2": -16.72,
          "index": "1991-01-07T06:50:00",
          "location": "Nieuwe Maas Maeslantkering rivier",
          "state": "Keren",
          "value": 2.352519067288946
         },
         {
          "comp1": 0,
          "comp2": -16.72,
          "index": "1991-01-07T07:00:00",
          "location": "Nieuwe Maas Maeslantkering rivier",
          "state": "Keren",
          "value": 2.4013387497446432
         },
         {
          "comp1": 0,
          "comp2": -16.72,
          "index": "1991-01-07T07:10:00",
          "location": "Nieuwe Maas Maeslantkering rivier",
          "state": "Keren",
          "value": 2.425425522310791
         },
         {
          "comp1": 0,
          "comp2": -16.72,
          "index": "1991-01-07T07:20:00",
          "location": "Nieuwe Maas Maeslantkering rivier",
          "state": "Keren",
          "value": 2.434465172545376
         },
         {
          "comp1": 0,
          "comp2": -16.72,
          "index": "1991-01-07T07:30:00",
          "location": "Nieuwe Maas Maeslantkering rivier",
          "state": "Keren",
          "value": 2.4479335613144895
         },
         {
          "comp1": 0,
          "comp2": -16.72,
          "index": "1991-01-07T07:40:00",
          "location": "Nieuwe Maas Maeslantkering rivier",
          "state": "Keren",
          "value": 2.4788906674740123
         },
         {
          "comp1": 0,
          "comp2": -16.72,
          "index": "1991-01-07T07:50:00",
          "location": "Nieuwe Maas Maeslantkering rivier",
          "state": "Keren",
          "value": 2.530346324628266
         },
         {
          "comp1": 0,
          "comp2": -16.72,
          "index": "1991-01-07T08:00:00",
          "location": "Nieuwe Maas Maeslantkering rivier",
          "state": "Keren",
          "value": 2.600511171318532
         },
         {
          "comp1": 0,
          "comp2": -16.72,
          "index": "1991-01-07T08:10:00",
          "location": "Nieuwe Maas Maeslantkering rivier",
          "state": "Keren",
          "value": 2.6894306494800118
         },
         {
          "comp1": 0,
          "comp2": -16.72,
          "index": "1991-01-07T08:20:00",
          "location": "Nieuwe Maas Maeslantkering rivier",
          "state": "Keren",
          "value": 2.795433077560895
         },
         {
          "comp1": 0,
          "comp2": -16.72,
          "index": "1991-01-07T08:30:00",
          "location": "Nieuwe Maas Maeslantkering rivier",
          "state": "Keren",
          "value": 2.911650512393023
         },
         {
          "comp1": 0,
          "comp2": -16.72,
          "index": "1991-01-07T08:40:00",
          "location": "Nieuwe Maas Maeslantkering rivier",
          "state": "Keren",
          "value": 3.0124763162514707
         },
         {
          "comp1": 0,
          "comp2": -16.72,
          "index": "1991-01-07T08:50:00",
          "location": "Nieuwe Maas Maeslantkering rivier",
          "state": "Keren",
          "value": 3.0921087990291736
         },
         {
          "comp1": 0,
          "comp2": -16.72,
          "index": "1991-01-07T09:00:00",
          "location": "Nieuwe Maas Maeslantkering rivier",
          "state": "Keren",
          "value": 3.160039057733078
         },
         {
          "comp1": 0,
          "comp2": -16.72,
          "index": "1991-01-07T09:10:00",
          "location": "Nieuwe Maas Maeslantkering rivier",
          "state": "Keren",
          "value": 3.236868165990828
         },
         {
          "comp1": 0,
          "comp2": -16.72,
          "index": "1991-01-07T09:20:00",
          "location": "Nieuwe Maas Maeslantkering rivier",
          "state": "Keren",
          "value": 3.331085208529942
         },
         {
          "comp1": 0,
          "comp2": -16.72,
          "index": "1991-01-07T09:30:00",
          "location": "Nieuwe Maas Maeslantkering rivier",
          "state": "Keren",
          "value": 3.4228131111633253
         },
         {
          "comp1": 0,
          "comp2": -16.72,
          "index": "1991-01-07T09:40:00",
          "location": "Nieuwe Maas Maeslantkering rivier",
          "state": "Keren",
          "value": 3.495791046445822
         },
         {
          "comp1": 0,
          "comp2": -16.72,
          "index": "1991-01-07T09:50:00",
          "location": "Nieuwe Maas Maeslantkering rivier",
          "state": "Keren",
          "value": 3.539336435651686
         },
         {
          "comp1": 0,
          "comp2": -16.72,
          "index": "1991-01-07T10:00:00",
          "location": "Nieuwe Maas Maeslantkering rivier",
          "state": "Keren",
          "value": 3.5648932716322967
         },
         {
          "comp1": 0,
          "comp2": -16.72,
          "index": "1991-01-07T10:10:00",
          "location": "Nieuwe Maas Maeslantkering rivier",
          "state": "Keren",
          "value": 3.576561651744131
         },
         {
          "comp1": 0,
          "comp2": -16.72,
          "index": "1991-01-07T10:20:00",
          "location": "Nieuwe Maas Maeslantkering rivier",
          "state": "Keren",
          "value": 3.5970350335494317
         },
         {
          "comp1": 0,
          "comp2": -16.72,
          "index": "1991-01-07T10:30:00",
          "location": "Nieuwe Maas Maeslantkering rivier",
          "state": "Keren",
          "value": 3.620758445280674
         },
         {
          "comp1": 0,
          "comp2": -16.72,
          "index": "1991-01-07T10:40:00",
          "location": "Nieuwe Maas Maeslantkering rivier",
          "state": "Keren",
          "value": 3.6424287884208235
         },
         {
          "comp1": 0,
          "comp2": -16.72,
          "index": "1991-01-07T10:50:00",
          "location": "Nieuwe Maas Maeslantkering rivier",
          "state": "Keren",
          "value": 3.6613906617421765
         },
         {
          "comp1": 0,
          "comp2": -16.72,
          "index": "1991-01-07T11:00:00",
          "location": "Nieuwe Maas Maeslantkering rivier",
          "state": "Keren",
          "value": 3.678055911072321
         },
         {
          "comp1": 0,
          "comp2": -16.72,
          "index": "1991-01-07T11:10:00",
          "location": "Nieuwe Maas Maeslantkering rivier",
          "state": "Keren",
          "value": 3.698638540881828
         },
         {
          "comp1": 0,
          "comp2": -16.72,
          "index": "1991-01-07T11:20:00",
          "location": "Nieuwe Maas Maeslantkering rivier",
          "state": "Keren",
          "value": 3.7214669115568118
         },
         {
          "comp1": 0,
          "comp2": -16.72,
          "index": "1991-01-07T11:30:00",
          "location": "Nieuwe Maas Maeslantkering rivier",
          "state": "Keren",
          "value": 3.739374455299931
         },
         {
          "comp1": 0,
          "comp2": -16.72,
          "index": "1991-01-07T11:40:00",
          "location": "Nieuwe Maas Maeslantkering rivier",
          "state": "Keren",
          "value": 3.7503521412316325
         },
         {
          "comp1": 0,
          "comp2": -16.72,
          "index": "1991-01-07T11:50:00",
          "location": "Nieuwe Maas Maeslantkering rivier",
          "state": "Keren",
          "value": 3.7572272550940675
         },
         {
          "comp1": 0,
          "comp2": -16.72,
          "index": "1991-01-07T12:00:00",
          "location": "Nieuwe Maas Maeslantkering rivier",
          "state": "Keren",
          "value": 3.7555853832598425
         },
         {
          "comp1": 0,
          "comp2": -16.72,
          "index": "1991-01-07T12:10:00",
          "location": "Nieuwe Maas Maeslantkering rivier",
          "state": "Keren",
          "value": 3.7426479376720536
         },
         {
          "comp1": 0,
          "comp2": -16.72,
          "index": "1991-01-07T12:20:00",
          "location": "Nieuwe Maas Maeslantkering rivier",
          "state": "Keren",
          "value": 3.7270661145156363
         },
         {
          "comp1": 0,
          "comp2": -16.72,
          "index": "1991-01-07T12:30:00",
          "location": "Nieuwe Maas Maeslantkering rivier",
          "state": "Keren",
          "value": 3.720990630935302
         },
         {
          "comp1": 0,
          "comp2": -16.72,
          "index": "1991-01-07T12:40:00",
          "location": "Nieuwe Maas Maeslantkering rivier",
          "state": "Keren",
          "value": 3.7180908357832756
         },
         {
          "comp1": 0,
          "comp2": -16.72,
          "index": "1991-01-07T12:50:00",
          "location": "Nieuwe Maas Maeslantkering rivier",
          "state": "Keren",
          "value": 3.7194485794458885
         },
         {
          "comp1": 0,
          "comp2": -16.72,
          "index": "1991-01-07T13:00:00",
          "location": "Nieuwe Maas Maeslantkering rivier",
          "state": "Keren",
          "value": 3.7154100289402514
         },
         {
          "comp1": 0,
          "comp2": -16.72,
          "index": "1991-01-07T13:10:00",
          "location": "Nieuwe Maas Maeslantkering rivier",
          "state": "Keren",
          "value": 3.710065234498635
         },
         {
          "comp1": 0,
          "comp2": -16.72,
          "index": "1991-01-07T13:20:00",
          "location": "Nieuwe Maas Maeslantkering rivier",
          "state": "Keren",
          "value": 3.7023866692641336
         },
         {
          "comp1": 0,
          "comp2": -16.72,
          "index": "1991-01-07T13:30:00",
          "location": "Nieuwe Maas Maeslantkering rivier",
          "state": "Keren",
          "value": 3.6832891762643363
         },
         {
          "comp1": 0,
          "comp2": -16.72,
          "index": "1991-01-07T13:40:00",
          "location": "Nieuwe Maas Maeslantkering rivier",
          "state": "Keren",
          "value": 3.6532310007319424
         },
         {
          "comp1": 0,
          "comp2": -16.72,
          "index": "1991-01-07T13:50:00",
          "location": "Nieuwe Maas Maeslantkering rivier",
          "state": "Keren",
          "value": 3.610300501513982
         },
         {
          "comp1": 0,
          "comp2": -16.72,
          "index": "1991-01-07T14:00:00",
          "location": "Nieuwe Maas Maeslantkering rivier",
          "state": "Keren",
          "value": 3.5410431132239317
         },
         {
          "comp1": 0,
          "comp2": -16.72,
          "index": "1991-01-07T14:10:00",
          "location": "Nieuwe Maas Maeslantkering rivier",
          "state": "Keren",
          "value": 3.4732642585198326
         },
         {
          "comp1": 0,
          "comp2": -16.72,
          "index": "1991-01-07T14:20:00",
          "location": "Nieuwe Maas Maeslantkering rivier",
          "state": "Keren",
          "value": 3.362049583216291
         },
         {
          "comp1": 0,
          "comp2": -16.72,
          "index": "1991-01-07T14:30:00",
          "location": "Nieuwe Maas Maeslantkering rivier",
          "state": "Keren",
          "value": 3.0914905088097115
         },
         {
          "comp1": 0,
          "comp2": -16.72,
          "index": "1991-01-07T14:40:00",
          "location": "Nieuwe Maas Maeslantkering rivier",
          "state": "Keren",
          "value": 2.653413475169114
         },
         {
          "comp1": 0,
          "comp2": -16.72,
          "index": "1991-01-07T14:50:00",
          "location": "Nieuwe Maas Maeslantkering rivier",
          "state": "Opdrijven",
          "value": 3.2799967383545163
         },
         {
          "comp1": 0,
          "comp2": -16.72,
          "index": "1991-01-07T15:00:00",
          "location": "Nieuwe Maas Maeslantkering rivier",
          "state": "Opdrijven",
          "value": 3.2983602392748015
         },
         {
          "comp1": 0,
          "comp2": -16.72,
          "index": "1991-01-07T15:10:00",
          "location": "Nieuwe Maas Maeslantkering rivier",
          "state": "Opdrijven",
          "value": 2.282523111642533
         },
         {
          "comp1": 0,
          "comp2": -16.72,
          "index": "1991-01-07T15:20:00",
          "location": "Nieuwe Maas Maeslantkering rivier",
          "state": "Opdrijven",
          "value": 2.9669949177978254
         },
         {
          "comp1": 0,
          "comp2": -16.72,
          "index": "1991-01-07T15:30:00",
          "location": "Nieuwe Maas Maeslantkering rivier",
          "state": "Opdrijven",
          "value": 2.253712763253935
         },
         {
          "comp1": 0,
          "comp2": -16.72,
          "index": "1991-01-07T15:40:00",
          "location": "Nieuwe Maas Maeslantkering rivier",
          "state": "Opdrijven",
          "value": 3.071702413207608
         },
         {
          "comp1": 0,
          "comp2": -7,
          "index": "1991-01-07T15:50:00",
          "location": "Nieuwe Maas Maeslantkering rivier",
          "state": "Spuien",
          "value": 2.9949526637281076
         },
         {
          "comp1": 0,
          "comp2": -7,
          "index": "1991-01-07T15:50:00",
          "location": "Nieuwe Maas Maeslantkering rivier",
          "state": "AfzinkenCPSE",
          "value": 2.9949526637281076
         },
         {
          "comp1": 0,
          "comp2": -7,
          "index": "1991-01-07T16:00:00",
          "location": "Nieuwe Maas Maeslantkering rivier",
          "state": "AfzinkenCPSE",
          "value": 3.1663872608186665
         },
         {
          "comp1": 0,
          "comp2": -7,
          "index": "1991-01-07T16:10:00",
          "location": "Nieuwe Maas Maeslantkering rivier",
          "state": "AfzinkenCPSE",
          "value": 2.507689573405149
         },
         {
          "comp1": 0,
          "comp2": -13.15,
          "index": "1991-01-07T16:20:00",
          "location": "Nieuwe Maas Maeslantkering rivier",
          "state": "Opdrijven",
          "value": 2.2782264340189493
         },
         {
          "comp1": 0,
          "comp2": -13.15,
          "index": "1991-01-07T16:30:00",
          "location": "Nieuwe Maas Maeslantkering rivier",
          "state": "Opdrijven",
          "value": 2.437769878507768
         },
         {
          "comp1": 0,
          "comp2": -13.15,
          "index": "1991-01-07T16:40:00",
          "location": "Nieuwe Maas Maeslantkering rivier",
          "state": "Opdrijven",
          "value": 3.118611756067358
         },
         {
          "comp1": 0,
          "comp2": -13.15,
          "index": "1991-01-07T16:50:00",
          "location": "Nieuwe Maas Maeslantkering rivier",
          "state": "Opdrijven",
          "value": 2.345311783573864
         },
         {
          "comp1": 0,
          "comp2": -7,
          "index": "1991-01-07T17:00:00",
          "location": "Nieuwe Maas Maeslantkering rivier",
          "state": "Spuien",
          "value": 2.3705494982358006
         },
         {
          "comp1": 0,
          "comp2": -7,
          "index": "1991-01-07T17:10:00",
          "location": "Nieuwe Maas Maeslantkering rivier",
          "state": "AfzinkenCPSE",
          "value": 3.3006999003268507
         },
         {
          "comp1": 0,
          "comp2": -9.17,
          "index": "1991-01-07T17:20:00",
          "location": "Nieuwe Maas Maeslantkering rivier",
          "state": "Opdrijven",
          "value": 3.4741761080948317
         },
         {
          "comp1": 0,
          "comp2": -9.17,
          "index": "1991-01-07T17:30:00",
          "location": "Nieuwe Maas Maeslantkering rivier",
          "state": "Opdrijven",
          "value": 1.7954070817708434
         },
         {
          "comp1": 0,
          "comp2": -7,
          "index": "1991-01-07T17:40:00",
          "location": "Nieuwe Maas Maeslantkering rivier",
          "state": "Spuien",
          "value": 2.894694877051539
         },
         {
          "comp1": 0,
          "comp2": -7,
          "index": "1991-01-07T17:40:00",
          "location": "Nieuwe Maas Maeslantkering rivier",
          "state": "AfzinkenCPSE",
          "value": 2.894694877051539
         },
         {
          "comp1": 0,
          "comp2": -9.17,
          "index": "1991-01-07T17:50:00",
          "location": "Nieuwe Maas Maeslantkering rivier",
          "state": "Opdrijven",
          "value": 3.1700720905426047
         },
         {
          "comp1": 0,
          "comp2": -9.17,
          "index": "1991-01-07T18:00:00",
          "location": "Nieuwe Maas Maeslantkering rivier",
          "state": "Opdrijven",
          "value": 3.357524053188109
         },
         {
          "comp1": 0,
          "comp2": -7,
          "index": "1991-01-07T18:10:00",
          "location": "Nieuwe Maas Maeslantkering rivier",
          "state": "Spuien",
          "value": 3.0059332060597357
         },
         {
          "comp1": 0,
          "comp2": -7,
          "index": "1991-01-07T18:10:00",
          "location": "Nieuwe Maas Maeslantkering rivier",
          "state": "AfzinkenCPSE",
          "value": 3.0059332060597357
         },
         {
          "comp1": 0,
          "comp2": -7,
          "index": "1991-01-07T18:20:00",
          "location": "Nieuwe Maas Maeslantkering rivier",
          "state": "AfzinkenCPSE",
          "value": 2.7227981013129714
         },
         {
          "comp1": 0,
          "comp2": -7,
          "index": "1991-01-07T18:30:00",
          "location": "Nieuwe Maas Maeslantkering rivier",
          "state": "AfzinkenCPSE",
          "value": 2.657467538950729
         },
         {
          "comp1": 0,
          "comp2": -13.15,
          "index": "1991-01-07T18:40:00",
          "location": "Nieuwe Maas Maeslantkering rivier",
          "state": "AfzinkenBodem",
          "value": 2.6831081911282557
         },
         {
          "comp1": 0,
          "comp2": -13.15,
          "index": "1991-01-07T18:50:00",
          "location": "Nieuwe Maas Maeslantkering rivier",
          "state": "AfzinkenBodem",
          "value": 2.749832649521366
         },
         {
          "comp1": 0,
          "comp2": -13.15,
          "index": "1991-01-07T19:00:00",
          "location": "Nieuwe Maas Maeslantkering rivier",
          "state": "AfzinkenBodem",
          "value": 2.807188517394629
         },
         {
          "comp1": 0,
          "comp2": -13.15,
          "index": "1991-01-07T19:10:00",
          "location": "Nieuwe Maas Maeslantkering rivier",
          "state": "AfzinkenBodem",
          "value": 2.867399586110639
         },
         {
          "comp1": 0,
          "comp2": -13.15,
          "index": "1991-01-07T19:20:00",
          "location": "Nieuwe Maas Maeslantkering rivier",
          "state": "AfzinkenBodem",
          "value": 2.955538183496424
         },
         {
          "comp1": 0,
          "comp2": -13.15,
          "index": "1991-01-07T19:30:00",
          "location": "Nieuwe Maas Maeslantkering rivier",
          "state": "AfzinkenBodem",
          "value": 2.999945129515796
         },
         {
          "comp1": 0,
          "comp2": -16.72,
          "index": "1991-01-07T19:40:00",
          "location": "Nieuwe Maas Maeslantkering rivier",
          "state": "Keren",
          "value": 2.972559796112108
         },
         {
          "comp1": 0,
          "comp2": -16.72,
          "index": "1991-01-07T19:50:00",
          "location": "Nieuwe Maas Maeslantkering rivier",
          "state": "Keren",
          "value": 2.914281999924224
         },
         {
          "comp1": 0,
          "comp2": -16.72,
          "index": "1991-01-07T20:00:00",
          "location": "Nieuwe Maas Maeslantkering rivier",
          "state": "Keren",
          "value": 2.865105515810403
         },
         {
          "comp1": 0,
          "comp2": -16.72,
          "index": "1991-01-07T20:10:00",
          "location": "Nieuwe Maas Maeslantkering rivier",
          "state": "Keren",
          "value": 2.8501919033228753
         },
         {
          "comp1": 0,
          "comp2": -16.72,
          "index": "1991-01-07T20:20:00",
          "location": "Nieuwe Maas Maeslantkering rivier",
          "state": "Keren",
          "value": 2.869292188037281
         },
         {
          "comp1": 0,
          "comp2": -16.72,
          "index": "1991-01-07T20:30:00",
          "location": "Nieuwe Maas Maeslantkering rivier",
          "state": "Keren",
          "value": 2.907583154048525
         },
         {
          "comp1": 0,
          "comp2": -16.72,
          "index": "1991-01-07T20:40:00",
          "location": "Nieuwe Maas Maeslantkering rivier",
          "state": "Keren",
          "value": 2.9478844920345804
         },
         {
          "comp1": 0,
          "comp2": -16.72,
          "index": "1991-01-07T20:50:00",
          "location": "Nieuwe Maas Maeslantkering rivier",
          "state": "Keren",
          "value": 2.975302333830219
         },
         {
          "comp1": 0,
          "comp2": -16.72,
          "index": "1991-01-07T21:00:00",
          "location": "Nieuwe Maas Maeslantkering rivier",
          "state": "Keren",
          "value": 2.9839600083371507
         },
         {
          "comp1": 0,
          "comp2": -16.72,
          "index": "1991-01-07T21:10:00",
          "location": "Nieuwe Maas Maeslantkering rivier",
          "state": "Keren",
          "value": 2.9714120075912236
         },
         {
          "comp1": 0,
          "comp2": -16.72,
          "index": "1991-01-07T21:20:00",
          "location": "Nieuwe Maas Maeslantkering rivier",
          "state": "Keren",
          "value": 2.9449093045917416
         },
         {
          "comp1": 0,
          "comp2": -16.72,
          "index": "1991-01-07T21:30:00",
          "location": "Nieuwe Maas Maeslantkering rivier",
          "state": "Keren",
          "value": 2.839890759126025
         },
         {
          "comp1": 0,
          "comp2": -16.72,
          "index": "1991-01-07T21:40:00",
          "location": "Nieuwe Maas Maeslantkering rivier",
          "state": "Keren",
          "value": 2.7335693519107207
         },
         {
          "comp1": 0,
          "comp2": -16.72,
          "index": "1991-01-07T21:50:00",
          "location": "Nieuwe Maas Maeslantkering rivier",
          "state": "Keren",
          "value": 1.1361916029686832
         },
         {
          "comp1": 0,
          "comp2": -16.72,
          "index": "1991-01-07T22:00:00",
          "location": "Nieuwe Maas Maeslantkering rivier",
          "state": "Keren",
          "value": 3.084873367009265
         },
         {
          "comp1": 0,
          "comp2": -16.72,
          "index": "1991-01-07T22:10:00",
          "location": "Nieuwe Maas Maeslantkering rivier",
          "state": "Keren",
          "value": 1.7539532510837914
         },
         {
          "comp1": 0,
          "comp2": -16.72,
          "index": "1991-01-07T22:20:00",
          "location": "Nieuwe Maas Maeslantkering rivier",
          "state": "Opdrijven",
          "value": 1.8935878457129156
         },
         {
          "comp1": 0,
          "comp2": -16.72,
          "index": "1991-01-07T22:30:00",
          "location": "Nieuwe Maas Maeslantkering rivier",
          "state": "Opdrijven",
          "value": 1.7438717316291437
         },
         {
          "comp1": 0,
          "comp2": -16.72,
          "index": "1991-01-07T22:40:00",
          "location": "Nieuwe Maas Maeslantkering rivier",
          "state": "Opdrijven",
          "value": 2.1572446196008244
         },
         {
          "comp1": 0,
          "comp2": -16.72,
          "index": "1991-01-07T22:50:00",
          "location": "Nieuwe Maas Maeslantkering rivier",
          "state": "Opdrijven",
          "value": 1.481562940671151
         },
         {
          "comp1": 0,
          "comp2": -16.72,
          "index": "1991-01-07T23:00:00",
          "location": "Nieuwe Maas Maeslantkering rivier",
          "state": "Opdrijven",
          "value": 2.4866821653004223
         },
         {
          "comp1": 0,
          "comp2": -16.72,
          "index": "1991-01-07T23:10:00",
          "location": "Nieuwe Maas Maeslantkering rivier",
          "state": "Opdrijven",
          "value": 1.559915636373224
         },
         {
          "comp1": 0,
          "comp2": -7,
          "index": "1991-01-07T23:20:00",
          "location": "Nieuwe Maas Maeslantkering rivier",
          "state": "Spuien",
          "value": 1.5044413609966671
         },
         {
          "comp1": 0,
          "comp2": -7,
          "index": "1991-01-07T23:20:00",
          "location": "Nieuwe Maas Maeslantkering rivier",
          "state": "AfzinkenCPSE",
          "value": 1.5044413609966671
         },
         {
          "comp1": 0,
          "comp2": -7,
          "index": "1991-01-07T23:30:00",
          "location": "Nieuwe Maas Maeslantkering rivier",
          "state": "AfzinkenCPSE",
          "value": 1.3257748970453753
         },
         {
          "comp1": 0,
          "comp2": -11.43,
          "index": "1991-01-07T23:40:00",
          "location": "Nieuwe Maas Maeslantkering rivier",
          "state": "Opdrijven",
          "value": 1.2637058065614486
         },
         {
          "comp1": 0,
          "comp2": -11.43,
          "index": "1991-01-07T23:50:00",
          "location": "Nieuwe Maas Maeslantkering rivier",
          "state": "Opdrijven",
          "value": 1.2037292114779472
         },
         {
          "comp1": 0,
          "comp2": -11.43,
          "index": "1991-01-08T00:00:00",
          "location": "Nieuwe Maas Maeslantkering rivier",
          "state": "Opdrijven",
          "value": 1.2542387923979457
         },
         {
          "comp1": 0,
          "comp2": -7,
          "index": "1991-01-08T00:10:00",
          "location": "Nieuwe Maas Maeslantkering rivier",
          "state": "Spuien",
          "value": 1.0978422303200839
         },
         {
          "comp1": 0,
          "comp2": -7,
          "index": "1991-01-08T00:20:00",
          "location": "Nieuwe Maas Maeslantkering rivier",
          "state": "Spuien",
          "value": 1.0111921340677856
         },
         {
          "comp1": 0,
          "comp2": -7,
          "index": "1991-01-08T00:30:00",
          "location": "Nieuwe Maas Maeslantkering rivier",
          "state": "Spuien",
          "value": 0.9698796419729576
         },
         {
          "comp1": 0,
          "comp2": -7,
          "index": "1991-01-08T00:40:00",
          "location": "Nieuwe Maas Maeslantkering rivier",
          "state": "Spuien",
          "value": 0.9246318915211007
         },
         {
          "comp1": 0,
          "comp2": -7,
          "index": "1991-01-08T00:50:00",
          "location": "Nieuwe Maas Maeslantkering rivier",
          "state": "Spuien",
          "value": 0.8770146494356333
         },
         {
          "comp1": 360,
          "comp2": -7,
          "index": "1991-01-08T01:00:00",
          "location": "Nieuwe Maas Maeslantkering rivier",
          "state": "HorizontaalOpenen",
          "value": 0.8289156084890885
         },
         {
          "comp1": 360,
          "comp2": -7,
          "index": "1991-01-08T01:00:00",
          "location": "Nieuwe Maas Maeslantkering rivier",
          "state": "Paraat",
          "value": 0.8289156084890885
         },
         {
          "comp1": 360,
          "comp2": -7,
          "index": "1991-01-08T01:00:00",
          "location": "Nieuwe Maas Maeslantkering rivier",
          "state": "ParkerenKw",
          "value": 0.8289156084890885
         },
         {
          "comp1": 360,
          "comp2": -7,
          "index": "1991-01-08T01:10:00",
          "location": "Nieuwe Maas Maeslantkering rivier",
          "state": "ParkerenKw",
          "value": 0.7747620985790149
         },
         {
          "comp1": 360,
          "comp2": -7,
          "index": "1991-01-08T01:20:00",
          "location": "Nieuwe Maas Maeslantkering rivier",
          "state": "ParkerenKw",
          "value": 0.7179168873714771
         },
         {
          "comp1": 360,
          "comp2": -7,
          "index": "1991-01-08T01:30:00",
          "location": "Nieuwe Maas Maeslantkering rivier",
          "state": "ParkerenKw",
          "value": 0.6702921563130315
         },
         {
          "comp1": 360,
          "comp2": -7,
          "index": "1991-01-08T01:40:00",
          "location": "Nieuwe Maas Maeslantkering rivier",
          "state": "ParkerenKw",
          "value": 0.6269155469604522
         },
         {
          "comp1": 360,
          "comp2": -7,
          "index": "1991-01-08T01:50:00",
          "location": "Nieuwe Maas Maeslantkering rivier",
          "state": "ParkerenKw",
          "value": 0.5803523730500086
         },
         {
          "comp1": 360,
          "comp2": -7,
          "index": "1991-01-08T02:00:00",
          "location": "Nieuwe Maas Maeslantkering rivier",
          "state": "Alert",
          "value": 0.5269267142869484
         },
         {
          "comp1": 360,
          "comp2": -7,
          "index": "1991-01-08T02:10:00",
          "location": "Nieuwe Maas Maeslantkering rivier",
          "state": "Alert",
          "value": 0.47066268886533
         },
         {
          "comp1": 360,
          "comp2": -7,
          "index": "1991-01-08T02:20:00",
          "location": "Nieuwe Maas Maeslantkering rivier",
          "state": "Alert",
          "value": 0.4158128003124872
         },
         {
          "comp1": 360,
          "comp2": -7,
          "index": "1991-01-08T02:30:00",
          "location": "Nieuwe Maas Maeslantkering rivier",
          "state": "Alert",
          "value": 0.35698862493701944
         },
         {
          "comp1": 360,
          "comp2": -7,
          "index": "1991-01-08T02:40:00",
          "location": "Nieuwe Maas Maeslantkering rivier",
          "state": "Alert",
          "value": 0.2960786672641657
         },
         {
          "comp1": 360,
          "comp2": -7,
          "index": "1991-01-08T02:50:00",
          "location": "Nieuwe Maas Maeslantkering rivier",
          "state": "Alert",
          "value": 0.23423666293505394
         },
         {
          "comp1": 360,
          "comp2": -7,
          "index": "1991-01-08T03:00:00",
          "location": "Nieuwe Maas Maeslantkering rivier",
          "state": "Alert",
          "value": 0.1759510438436754
         },
         {
          "comp1": 360,
          "comp2": -7,
          "index": "1991-01-08T03:10:00",
          "location": "Nieuwe Maas Maeslantkering rivier",
          "state": "Alert",
          "value": 0.1245038458835424
         },
         {
          "comp1": 360,
          "comp2": -7,
          "index": "1991-01-08T03:20:00",
          "location": "Nieuwe Maas Maeslantkering rivier",
          "state": "Alert",
          "value": 0.07591759311504132
         },
         {
          "comp1": 360,
          "comp2": -7,
          "index": "1991-01-08T03:30:00",
          "location": "Nieuwe Maas Maeslantkering rivier",
          "state": "Alert",
          "value": 0.028405080605740943
         },
         {
          "comp1": 360,
          "comp2": -7,
          "index": "1991-01-08T03:40:00",
          "location": "Nieuwe Maas Maeslantkering rivier",
          "state": "Alert",
          "value": -0.017876884922214578
         },
         {
          "comp1": 360,
          "comp2": -7,
          "index": "1991-01-08T03:50:00",
          "location": "Nieuwe Maas Maeslantkering rivier",
          "state": "Alert",
          "value": -0.060192206751337164
         },
         {
          "comp1": 360,
          "comp2": -7,
          "index": "1991-01-08T04:00:00",
          "location": "Nieuwe Maas Maeslantkering rivier",
          "state": "Alert",
          "value": -0.09593403668570731
         },
         {
          "comp1": 360,
          "comp2": -7,
          "index": "1991-01-08T04:10:00",
          "location": "Nieuwe Maas Maeslantkering rivier",
          "state": "Alert",
          "value": -0.12814636440492433
         },
         {
          "comp1": 360,
          "comp2": -7,
          "index": "1991-01-08T04:20:00",
          "location": "Nieuwe Maas Maeslantkering rivier",
          "state": "Alert",
          "value": -0.15732227417831057
         },
         {
          "comp1": 360,
          "comp2": -7,
          "index": "1991-01-08T04:30:00",
          "location": "Nieuwe Maas Maeslantkering rivier",
          "state": "Alert",
          "value": -0.1808643403725037
         },
         {
          "comp1": 360,
          "comp2": -7,
          "index": "1991-01-08T04:40:00",
          "location": "Nieuwe Maas Maeslantkering rivier",
          "state": "Gemobiliseerd",
          "value": -0.19680238257851757
         },
         {
          "comp1": 360,
          "comp2": -7,
          "index": "1991-01-08T04:40:00",
          "location": "Nieuwe Maas Maeslantkering rivier",
          "state": "Rust",
          "value": -0.19680238257851757
         },
         {
          "comp1": 360,
          "comp2": -7,
          "index": "1991-01-08T04:50:00",
          "location": "Nieuwe Maas Maeslantkering rivier",
          "state": "Rust",
          "value": -0.20837885152846644
         },
         {
          "comp1": 360,
          "comp2": -7,
          "index": "1991-01-08T05:00:00",
          "location": "Nieuwe Maas Maeslantkering rivier",
          "state": "Rust",
          "value": -0.20192553930652446
         },
         {
          "comp1": 360,
          "comp2": -7,
          "index": "1991-01-08T05:10:00",
          "location": "Nieuwe Maas Maeslantkering rivier",
          "state": "Rust",
          "value": -0.17230727599321788
         },
         {
          "comp1": 360,
          "comp2": -7,
          "index": "1991-01-08T05:20:00",
          "location": "Nieuwe Maas Maeslantkering rivier",
          "state": "Rust",
          "value": -0.13034121939791476
         },
         {
          "comp1": 360,
          "comp2": -7,
          "index": "1991-01-08T05:30:00",
          "location": "Nieuwe Maas Maeslantkering rivier",
          "state": "Rust",
          "value": -0.0711028712541502
         },
         {
          "comp1": 360,
          "comp2": -7,
          "index": "1991-01-08T05:40:00",
          "location": "Nieuwe Maas Maeslantkering rivier",
          "state": "Rust",
          "value": 0.008380096981201516
         },
         {
          "comp1": 360,
          "comp2": -7,
          "index": "1991-01-08T05:50:00",
          "location": "Nieuwe Maas Maeslantkering rivier",
          "state": "Rust",
          "value": 0.11003932155328655
         },
         {
          "comp1": 360,
          "comp2": -7,
          "index": "1991-01-08T06:00:00",
          "location": "Nieuwe Maas Maeslantkering rivier",
          "state": "Rust",
          "value": 0.23520748763344962
         },
         {
          "comp1": 360,
          "comp2": -7,
          "index": "1991-01-08T06:10:00",
          "location": "Nieuwe Maas Maeslantkering rivier",
          "state": "Rust",
          "value": 0.35845153534763446
         },
         {
          "comp1": 360,
          "comp2": -7,
          "index": "1991-01-08T06:20:00",
          "location": "Nieuwe Maas Maeslantkering rivier",
          "state": "Rust",
          "value": 0.4834761136153611
         },
         {
          "comp1": 360,
          "comp2": -7,
          "index": "1991-01-08T06:30:00",
          "location": "Nieuwe Maas Maeslantkering rivier",
          "state": "Rust",
          "value": 0.6346511731935371
         },
         {
          "comp1": 360,
          "comp2": -7,
          "index": "1991-01-08T06:40:00",
          "location": "Nieuwe Maas Maeslantkering rivier",
          "state": "Rust",
          "value": 0.8029334694290442
         },
         {
          "comp1": 360,
          "comp2": -7,
          "index": "1991-01-08T06:50:00",
          "location": "Nieuwe Maas Maeslantkering rivier",
          "state": "Rust",
          "value": 0.973183033755926
         },
         {
          "comp1": 360,
          "comp2": -7,
          "index": "1991-01-08T07:00:00",
          "location": "Nieuwe Maas Maeslantkering rivier",
          "state": "Rust",
          "value": 1.1070429883559538
         },
         {
          "comp1": 360,
          "comp2": -7,
          "index": "1991-01-08T07:10:00",
          "location": "Nieuwe Maas Maeslantkering rivier",
          "state": "Rust",
          "value": 1.196569880016297
         },
         {
          "comp1": 360,
          "comp2": -7,
          "index": "1991-01-08T07:20:00",
          "location": "Nieuwe Maas Maeslantkering rivier",
          "state": "Rust",
          "value": 1.2519881310552619
         },
         {
          "comp1": 360,
          "comp2": -7,
          "index": "1991-01-08T07:30:00",
          "location": "Nieuwe Maas Maeslantkering rivier",
          "state": "Rust",
          "value": 1.2884527423087755
         },
         {
          "comp1": 360,
          "comp2": -7,
          "index": "1991-01-08T07:40:00",
          "location": "Nieuwe Maas Maeslantkering rivier",
          "state": "Rust",
          "value": 1.3073638519910737
         },
         {
          "comp1": 360,
          "comp2": -7,
          "index": "1991-01-08T07:50:00",
          "location": "Nieuwe Maas Maeslantkering rivier",
          "state": "Rust",
          "value": 1.2996410375772478
         },
         {
          "comp1": 360,
          "comp2": -7,
          "index": "1991-01-08T08:00:00",
          "location": "Nieuwe Maas Maeslantkering rivier",
          "state": "Rust",
          "value": 1.2792658757992799
         },
         {
          "comp1": 360,
          "comp2": -7,
          "index": "1991-01-08T08:10:00",
          "location": "Nieuwe Maas Maeslantkering rivier",
          "state": "Rust",
          "value": 1.2572649981256347
         },
         {
          "comp1": 360,
          "comp2": -7,
          "index": "1991-01-08T08:20:00",
          "location": "Nieuwe Maas Maeslantkering rivier",
          "state": "Rust",
          "value": 1.2354088689677232
         },
         {
          "comp1": 360,
          "comp2": -7,
          "index": "1991-01-08T08:30:00",
          "location": "Nieuwe Maas Maeslantkering rivier",
          "state": "Rust",
          "value": 1.2107212273690253
         },
         {
          "comp1": 360,
          "comp2": -7,
          "index": "1991-01-08T08:40:00",
          "location": "Nieuwe Maas Maeslantkering rivier",
          "state": "Rust",
          "value": 1.1826838949174963
         },
         {
          "comp1": 360,
          "comp2": -7,
          "index": "1991-01-08T08:50:00",
          "location": "Nieuwe Maas Maeslantkering rivier",
          "state": "Rust",
          "value": 1.158184955071679
         },
         {
          "comp1": 360,
          "comp2": -7,
          "index": "1991-01-08T09:00:00",
          "location": "Nieuwe Maas Maeslantkering rivier",
          "state": "Rust",
          "value": 1.1452312731313439
         },
         {
          "comp1": 360,
          "comp2": -7,
          "index": "1991-01-08T09:10:00",
          "location": "Nieuwe Maas Maeslantkering rivier",
          "state": "Rust",
          "value": 1.1375669305872076
         },
         {
          "comp1": 360,
          "comp2": -7,
          "index": "1991-01-08T09:20:00",
          "location": "Nieuwe Maas Maeslantkering rivier",
          "state": "Rust",
          "value": 1.1219896673824807
         },
         {
          "comp1": 360,
          "comp2": -7,
          "index": "1991-01-08T09:30:00",
          "location": "Nieuwe Maas Maeslantkering rivier",
          "state": "Rust",
          "value": 1.0909811192771994
         },
         {
          "comp1": 360,
          "comp2": -7,
          "index": "1991-01-08T09:40:00",
          "location": "Nieuwe Maas Maeslantkering rivier",
          "state": "Rust",
          "value": 1.0470202262819537
         },
         {
          "comp1": 360,
          "comp2": -7,
          "index": "1991-01-08T09:50:00",
          "location": "Nieuwe Maas Maeslantkering rivier",
          "state": "Rust",
          "value": 0.9887323987205183
         },
         {
          "comp1": 360,
          "comp2": -7,
          "index": "1991-01-08T10:00:00",
          "location": "Nieuwe Maas Maeslantkering rivier",
          "state": "Rust",
          "value": 0.9239431347615762
         },
         {
          "comp1": 360,
          "comp2": -7,
          "index": "1991-01-08T10:10:00",
          "location": "Nieuwe Maas Maeslantkering rivier",
          "state": "Rust",
          "value": 0.8570258937018003
         },
         {
          "comp1": 360,
          "comp2": -7,
          "index": "1991-01-08T10:20:00",
          "location": "Nieuwe Maas Maeslantkering rivier",
          "state": "Rust",
          "value": 0.7842529633897205
         },
         {
          "comp1": 360,
          "comp2": -7,
          "index": "1991-01-08T10:30:00",
          "location": "Nieuwe Maas Maeslantkering rivier",
          "state": "Rust",
          "value": 0.7069675700797332
         },
         {
          "comp1": 360,
          "comp2": -7,
          "index": "1991-01-08T10:40:00",
          "location": "Nieuwe Maas Maeslantkering rivier",
          "state": "Rust",
          "value": 0.6187802169881519
         },
         {
          "comp1": 360,
          "comp2": -7,
          "index": "1991-01-08T10:50:00",
          "location": "Nieuwe Maas Maeslantkering rivier",
          "state": "Rust",
          "value": 0.5221622926616397
         },
         {
          "comp1": 360,
          "comp2": -7,
          "index": "1991-01-08T11:00:00",
          "location": "Nieuwe Maas Maeslantkering rivier",
          "state": "Rust",
          "value": 0.4216974356018062
         },
         {
          "comp1": 360,
          "comp2": -7,
          "index": "1991-01-08T11:10:00",
          "location": "Nieuwe Maas Maeslantkering rivier",
          "state": "Rust",
          "value": 0.31751977397246206
         },
         {
          "comp1": 360,
          "comp2": -7,
          "index": "1991-01-08T11:20:00",
          "location": "Nieuwe Maas Maeslantkering rivier",
          "state": "Rust",
          "value": 0.21824056031854558
         },
         {
          "comp1": 360,
          "comp2": -7,
          "index": "1991-01-08T11:30:00",
          "location": "Nieuwe Maas Maeslantkering rivier",
          "state": "Rust",
          "value": 0.12537677130830638
         },
         {
          "comp1": 360,
          "comp2": -7,
          "index": "1991-01-08T11:40:00",
          "location": "Nieuwe Maas Maeslantkering rivier",
          "state": "Rust",
          "value": 0.038706469936022656
         },
         {
          "comp1": 360,
          "comp2": -7,
          "index": "1991-01-08T11:50:00",
          "location": "Nieuwe Maas Maeslantkering rivier",
          "state": "Rust",
          "value": -0.04263530460554779
         },
         {
          "comp1": 360,
          "comp2": -7,
          "index": "1991-01-08T12:00:00",
          "location": "Nieuwe Maas Maeslantkering rivier",
          "state": "Rust",
          "value": -0.11900050332929549
         },
         {
          "comp1": 360,
          "comp2": -7,
          "index": "1991-01-08T12:10:00",
          "location": "Nieuwe Maas Maeslantkering rivier",
          "state": "Rust",
          "value": -0.19313376953644307
         },
         {
          "comp1": 360,
          "comp2": -7,
          "index": "1991-01-08T12:20:00",
          "location": "Nieuwe Maas Maeslantkering rivier",
          "state": "Rust",
          "value": -0.26188463105447696
         },
         {
          "comp1": 360,
          "comp2": -7,
          "index": "1991-01-08T12:30:00",
          "location": "Nieuwe Maas Maeslantkering rivier",
          "state": "Rust",
          "value": -0.32364339669797715
         },
         {
          "comp1": 360,
          "comp2": -7,
          "index": "1991-01-08T12:40:00",
          "location": "Nieuwe Maas Maeslantkering rivier",
          "state": "Rust",
          "value": -0.37664309294614673
         },
         {
          "comp1": 360,
          "comp2": -7,
          "index": "1991-01-08T12:50:00",
          "location": "Nieuwe Maas Maeslantkering rivier",
          "state": "Rust",
          "value": -0.4162258472459992
         },
         {
          "comp1": 360,
          "comp2": -7,
          "index": "1991-01-08T13:00:00",
          "location": "Nieuwe Maas Maeslantkering rivier",
          "state": "Rust",
          "value": -0.4464310459921681
         },
         {
          "comp1": 360,
          "comp2": -7,
          "index": "1991-01-08T13:10:00",
          "location": "Nieuwe Maas Maeslantkering rivier",
          "state": "Rust",
          "value": -0.4673394332487649
         },
         {
          "comp1": 360,
          "comp2": -7,
          "index": "1991-01-08T13:20:00",
          "location": "Nieuwe Maas Maeslantkering rivier",
          "state": "Rust",
          "value": -0.4799484352763145
         },
         {
          "comp1": 360,
          "comp2": -7,
          "index": "1991-01-08T13:30:00",
          "location": "Nieuwe Maas Maeslantkering rivier",
          "state": "Rust",
          "value": -0.48556743458622065
         },
         {
          "comp1": 360,
          "comp2": -7,
          "index": "1991-01-08T13:40:00",
          "location": "Nieuwe Maas Maeslantkering rivier",
          "state": "Rust",
          "value": -0.48486616621578765
         },
         {
          "comp1": 360,
          "comp2": -7,
          "index": "1991-01-08T13:50:00",
          "location": "Nieuwe Maas Maeslantkering rivier",
          "state": "Rust",
          "value": -0.4839760703239511
         },
         {
          "comp1": 360,
          "comp2": -7,
          "index": "1991-01-08T14:00:00",
          "location": "Nieuwe Maas Maeslantkering rivier",
          "state": "Rust",
          "value": -0.48221602093248767
         },
         {
          "comp1": 360,
          "comp2": -7,
          "index": "1991-01-08T14:10:00",
          "location": "Nieuwe Maas Maeslantkering rivier",
          "state": "Rust",
          "value": -0.4790262377966954
         },
         {
          "comp1": 360,
          "comp2": -7,
          "index": "1991-01-08T14:20:00",
          "location": "Nieuwe Maas Maeslantkering rivier",
          "state": "Rust",
          "value": -0.4788682080649143
         },
         {
          "comp1": 360,
          "comp2": -7,
          "index": "1991-01-08T14:30:00",
          "location": "Nieuwe Maas Maeslantkering rivier",
          "state": "Rust",
          "value": -0.4857060098979638
         },
         {
          "comp1": 360,
          "comp2": -7,
          "index": "1991-01-08T14:40:00",
          "location": "Nieuwe Maas Maeslantkering rivier",
          "state": "Rust",
          "value": -0.49569788254395
         },
         {
          "comp1": 360,
          "comp2": -7,
          "index": "1991-01-08T14:50:00",
          "location": "Nieuwe Maas Maeslantkering rivier",
          "state": "Rust",
          "value": -0.5073873008930236
         },
         {
          "comp1": 360,
          "comp2": -7,
          "index": "1991-01-08T15:00:00",
          "location": "Nieuwe Maas Maeslantkering rivier",
          "state": "Rust",
          "value": -0.5158616163574922
         },
         {
          "comp1": 360,
          "comp2": -7,
          "index": "1991-01-08T15:10:00",
          "location": "Nieuwe Maas Maeslantkering rivier",
          "state": "Rust",
          "value": -0.5224575291078957
         },
         {
          "comp1": 360,
          "comp2": -7,
          "index": "1991-01-08T15:20:00",
          "location": "Nieuwe Maas Maeslantkering rivier",
          "state": "Rust",
          "value": -0.527204302975945
         },
         {
          "comp1": 360,
          "comp2": -7,
          "index": "1991-01-08T15:30:00",
          "location": "Nieuwe Maas Maeslantkering rivier",
          "state": "Rust",
          "value": -0.5287580223700126
         },
         {
          "comp1": 360,
          "comp2": -7,
          "index": "1991-01-08T15:40:00",
          "location": "Nieuwe Maas Maeslantkering rivier",
          "state": "Rust",
          "value": -0.528070864330227
         },
         {
          "comp1": 360,
          "comp2": -7,
          "index": "1991-01-08T15:50:00",
          "location": "Nieuwe Maas Maeslantkering rivier",
          "state": "Rust",
          "value": -0.5255846323864845
         },
         {
          "comp1": 360,
          "comp2": -7,
          "index": "1991-01-08T16:00:00",
          "location": "Nieuwe Maas Maeslantkering rivier",
          "state": "Rust",
          "value": -0.5234025091244545
         },
         {
          "comp1": 360,
          "comp2": -7,
          "index": "1991-01-08T16:10:00",
          "location": "Nieuwe Maas Maeslantkering rivier",
          "state": "Rust",
          "value": -0.5194388133325825
         },
         {
          "comp1": 360,
          "comp2": -7,
          "index": "1991-01-08T16:20:00",
          "location": "Nieuwe Maas Maeslantkering rivier",
          "state": "Rust",
          "value": -0.5128445749891776
         },
         {
          "comp1": 360,
          "comp2": -7,
          "index": "1991-01-08T16:30:00",
          "location": "Nieuwe Maas Maeslantkering rivier",
          "state": "Rust",
          "value": -0.5013487391024556
         },
         {
          "comp1": 360,
          "comp2": -7,
          "index": "1991-01-08T16:40:00",
          "location": "Nieuwe Maas Maeslantkering rivier",
          "state": "Rust",
          "value": -0.48244566262495064
         },
         {
          "comp1": 360,
          "comp2": -7,
          "index": "1991-01-08T16:50:00",
          "location": "Nieuwe Maas Maeslantkering rivier",
          "state": "Rust",
          "value": -0.458198584201008
         },
         {
          "comp1": 360,
          "comp2": -7,
          "index": "1991-01-08T17:00:00",
          "location": "Nieuwe Maas Maeslantkering rivier",
          "state": "Rust",
          "value": -0.423945098028892
         },
         {
          "comp1": 360,
          "comp2": -7,
          "index": "1991-01-08T17:10:00",
          "location": "Nieuwe Maas Maeslantkering rivier",
          "state": "Rust",
          "value": -0.3819832362553865
         },
         {
          "comp1": 360,
          "comp2": -7,
          "index": "1991-01-08T17:20:00",
          "location": "Nieuwe Maas Maeslantkering rivier",
          "state": "Rust",
          "value": -0.33398958513418464
         },
         {
          "comp1": 360,
          "comp2": -7,
          "index": "1991-01-08T17:30:00",
          "location": "Nieuwe Maas Maeslantkering rivier",
          "state": "Rust",
          "value": -0.28009208452038037
         },
         {
          "comp1": 360,
          "comp2": -7,
          "index": "1991-01-08T17:40:00",
          "location": "Nieuwe Maas Maeslantkering rivier",
          "state": "Rust",
          "value": -0.2199657238647818
         },
         {
          "comp1": 360,
          "comp2": -7,
          "index": "1991-01-08T17:50:00",
          "location": "Nieuwe Maas Maeslantkering rivier",
          "state": "Rust",
          "value": -0.15357593603232356
         },
         {
          "comp1": 360,
          "comp2": -7,
          "index": "1991-01-08T18:00:00",
          "location": "Nieuwe Maas Maeslantkering rivier",
          "state": "Rust",
          "value": -0.06573564654136019
         },
         {
          "comp1": 360,
          "comp2": -7,
          "index": "1991-01-08T18:10:00",
          "location": "Nieuwe Maas Maeslantkering rivier",
          "state": "Rust",
          "value": 0.04215821282516205
         },
         {
          "comp1": 360,
          "comp2": -7,
          "index": "1991-01-08T18:20:00",
          "location": "Nieuwe Maas Maeslantkering rivier",
          "state": "Rust",
          "value": 0.1680375713156667
         },
         {
          "comp1": 360,
          "comp2": -7,
          "index": "1991-01-08T18:30:00",
          "location": "Nieuwe Maas Maeslantkering rivier",
          "state": "Rust",
          "value": 0.3225508176894655
         },
         {
          "comp1": 360,
          "comp2": -7,
          "index": "1991-01-08T18:40:00",
          "location": "Nieuwe Maas Maeslantkering rivier",
          "state": "Rust",
          "value": 0.48474865974997117
         },
         {
          "comp1": 360,
          "comp2": -7,
          "index": "1991-01-08T18:50:00",
          "location": "Nieuwe Maas Maeslantkering rivier",
          "state": "Rust",
          "value": 0.6413663067871413
         },
         {
          "comp1": 360,
          "comp2": -7,
          "index": "1991-01-08T19:00:00",
          "location": "Nieuwe Maas Maeslantkering rivier",
          "state": "Rust",
          "value": 0.7809038392497983
         },
         {
          "comp1": 360,
          "comp2": -7,
          "index": "1991-01-08T19:10:00",
          "location": "Nieuwe Maas Maeslantkering rivier",
          "state": "Rust",
          "value": 0.9035014340750558
         },
         {
          "comp1": 360,
          "comp2": -7,
          "index": "1991-01-08T19:20:00",
          "location": "Nieuwe Maas Maeslantkering rivier",
          "state": "Rust",
          "value": 1.0103972619275083
         },
         {
          "comp1": 360,
          "comp2": -7,
          "index": "1991-01-08T19:30:00",
          "location": "Nieuwe Maas Maeslantkering rivier",
          "state": "Rust",
          "value": 1.1049098930410017
         },
         {
          "comp1": 360,
          "comp2": -7,
          "index": "1991-01-08T19:40:00",
          "location": "Nieuwe Maas Maeslantkering rivier",
          "state": "Rust",
          "value": 1.1694220389676557
         },
         {
          "comp1": 360,
          "comp2": -7,
          "index": "1991-01-08T19:50:00",
          "location": "Nieuwe Maas Maeslantkering rivier",
          "state": "Rust",
          "value": 1.204062967544239
         },
         {
          "comp1": 360,
          "comp2": -7,
          "index": "1991-01-08T20:00:00",
          "location": "Nieuwe Maas Maeslantkering rivier",
          "state": "Rust",
          "value": 1.2166270681032119
         },
         {
          "comp1": 360,
          "comp2": -7,
          "index": "1991-01-08T20:10:00",
          "location": "Nieuwe Maas Maeslantkering rivier",
          "state": "Rust",
          "value": 1.214007856301336
         },
         {
          "comp1": 360,
          "comp2": -7,
          "index": "1991-01-08T20:20:00",
          "location": "Nieuwe Maas Maeslantkering rivier",
          "state": "Rust",
          "value": 1.208637601630793
         },
         {
          "comp1": 360,
          "comp2": -7,
          "index": "1991-01-08T20:30:00",
          "location": "Nieuwe Maas Maeslantkering rivier",
          "state": "Rust",
          "value": 1.200045477600862
         },
         {
          "comp1": 360,
          "comp2": -7,
          "index": "1991-01-08T20:40:00",
          "location": "Nieuwe Maas Maeslantkering rivier",
          "state": "Rust",
          "value": 1.1931670015236462
         },
         {
          "comp1": 360,
          "comp2": -7,
          "index": "1991-01-08T20:50:00",
          "location": "Nieuwe Maas Maeslantkering rivier",
          "state": "Rust",
          "value": 1.1841932448979433
         },
         {
          "comp1": 360,
          "comp2": -7,
          "index": "1991-01-08T21:00:00",
          "location": "Nieuwe Maas Maeslantkering rivier",
          "state": "Rust",
          "value": 1.1719101439071735
         },
         {
          "comp1": 360,
          "comp2": -7,
          "index": "1991-01-08T21:10:00",
          "location": "Nieuwe Maas Maeslantkering rivier",
          "state": "Rust",
          "value": 1.1572863180085047
         },
         {
          "comp1": 360,
          "comp2": -7,
          "index": "1991-01-08T21:20:00",
          "location": "Nieuwe Maas Maeslantkering rivier",
          "state": "Rust",
          "value": 1.1404407367899998
         },
         {
          "comp1": 360,
          "comp2": -7,
          "index": "1991-01-08T21:30:00",
          "location": "Nieuwe Maas Maeslantkering rivier",
          "state": "Rust",
          "value": 1.116550253722583
         },
         {
          "comp1": 360,
          "comp2": -7,
          "index": "1991-01-08T21:40:00",
          "location": "Nieuwe Maas Maeslantkering rivier",
          "state": "Rust",
          "value": 1.0834966660951046
         },
         {
          "comp1": 360,
          "comp2": -7,
          "index": "1991-01-08T21:50:00",
          "location": "Nieuwe Maas Maeslantkering rivier",
          "state": "Rust",
          "value": 1.0420179817206123
         },
         {
          "comp1": 360,
          "comp2": -7,
          "index": "1991-01-08T22:00:00",
          "location": "Nieuwe Maas Maeslantkering rivier",
          "state": "Rust",
          "value": 0.9969639941210371
         },
         {
          "comp1": 360,
          "comp2": -7,
          "index": "1991-01-08T22:10:00",
          "location": "Nieuwe Maas Maeslantkering rivier",
          "state": "Rust",
          "value": 0.9410343984919033
         },
         {
          "comp1": 360,
          "comp2": -7,
          "index": "1991-01-08T22:20:00",
          "location": "Nieuwe Maas Maeslantkering rivier",
          "state": "Rust",
          "value": 0.8747280894313008
         },
         {
          "comp1": 360,
          "comp2": -7,
          "index": "1991-01-08T22:30:00",
          "location": "Nieuwe Maas Maeslantkering rivier",
          "state": "Rust",
          "value": 0.8071691234412505
         },
         {
          "comp1": 360,
          "comp2": -7,
          "index": "1991-01-08T22:40:00",
          "location": "Nieuwe Maas Maeslantkering rivier",
          "state": "Rust",
          "value": 0.7406066613380071
         },
         {
          "comp1": 360,
          "comp2": -7,
          "index": "1991-01-08T22:50:00",
          "location": "Nieuwe Maas Maeslantkering rivier",
          "state": "Rust",
          "value": 0.6741288388124039
         },
         {
          "comp1": 360,
          "comp2": -7,
          "index": "1991-01-08T23:00:00",
          "location": "Nieuwe Maas Maeslantkering rivier",
          "state": "Rust",
          "value": 0.6064437847638547
         },
         {
          "comp1": 360,
          "comp2": -7,
          "index": "1991-01-08T23:10:00",
          "location": "Nieuwe Maas Maeslantkering rivier",
          "state": "Rust",
          "value": 0.538174435712711
         },
         {
          "comp1": 360,
          "comp2": -7,
          "index": "1991-01-08T23:20:00",
          "location": "Nieuwe Maas Maeslantkering rivier",
          "state": "Rust",
          "value": 0.47398934303874213
         },
         {
          "comp1": 360,
          "comp2": -7,
          "index": "1991-01-08T23:30:00",
          "location": "Nieuwe Maas Maeslantkering rivier",
          "state": "Rust",
          "value": 0.4056647988604749
         },
         {
          "comp1": 360,
          "comp2": -7,
          "index": "1991-01-08T23:40:00",
          "location": "Nieuwe Maas Maeslantkering rivier",
          "state": "Rust",
          "value": 0.3328710024026784
         },
         {
          "comp1": 360,
          "comp2": -7,
          "index": "1991-01-08T23:50:00",
          "location": "Nieuwe Maas Maeslantkering rivier",
          "state": "Rust",
          "value": 0.2579175449529812
         },
         {
          "comp1": 360,
          "comp2": -7,
          "index": "1991-01-09T00:00:00",
          "location": "Nieuwe Maas Maeslantkering rivier",
          "state": "Rust",
          "value": 0.17773951363047535
         },
         {
          "comp1": 360,
          "comp2": -7,
          "index": "1991-01-09T00:10:00",
          "location": "Nieuwe Maas Maeslantkering rivier",
          "state": "Rust",
          "value": 0.08838558501663311
         },
         {
          "comp1": 360,
          "comp2": -7,
          "index": "1991-01-09T00:20:00",
          "location": "Nieuwe Maas Maeslantkering rivier",
          "state": "Rust",
          "value": -0.004726428685654847
         },
         {
          "comp1": 360,
          "comp2": -7,
          "index": "1991-01-09T00:30:00",
          "location": "Nieuwe Maas Maeslantkering rivier",
          "state": "Rust",
          "value": -0.09436287768452077
         },
         {
          "comp1": 360,
          "comp2": -7,
          "index": "1991-01-09T00:40:00",
          "location": "Nieuwe Maas Maeslantkering rivier",
          "state": "Rust",
          "value": -0.17843973499701474
         },
         {
          "comp1": 360,
          "comp2": -7,
          "index": "1991-01-09T00:50:00",
          "location": "Nieuwe Maas Maeslantkering rivier",
          "state": "Rust",
          "value": -0.25654230341153117
         },
         {
          "comp1": 360,
          "comp2": -7,
          "index": "1991-01-09T01:00:00",
          "location": "Nieuwe Maas Maeslantkering rivier",
          "state": "Rust",
          "value": -0.3278177575633665
         },
         {
          "comp1": 360,
          "comp2": -7,
          "index": "1991-01-09T01:10:00",
          "location": "Nieuwe Maas Maeslantkering rivier",
          "state": "Rust",
          "value": -0.3880403836002645
         },
         {
          "comp1": 360,
          "comp2": -7,
          "index": "1991-01-09T01:20:00",
          "location": "Nieuwe Maas Maeslantkering rivier",
          "state": "Rust",
          "value": -0.4338964085777122
         },
         {
          "comp1": 360,
          "comp2": -7,
          "index": "1991-01-09T01:30:00",
          "location": "Nieuwe Maas Maeslantkering rivier",
          "state": "Rust",
          "value": -0.46238930985985344
         },
         {
          "comp1": 360,
          "comp2": -7,
          "index": "1991-01-09T01:40:00",
          "location": "Nieuwe Maas Maeslantkering rivier",
          "state": "Rust",
          "value": -0.4703826756012158
         },
         {
          "comp1": 360,
          "comp2": -7,
          "index": "1991-01-09T01:50:00",
          "location": "Nieuwe Maas Maeslantkering rivier",
          "state": "Rust",
          "value": -0.467928848843293
         },
         {
          "comp1": 360,
          "comp2": -7,
          "index": "1991-01-09T02:00:00",
          "location": "Nieuwe Maas Maeslantkering rivier",
          "state": "Rust",
          "value": -0.4653551399902138
         },
         {
          "comp1": 360,
          "comp2": -7,
          "index": "1991-01-09T02:10:00",
          "location": "Nieuwe Maas Maeslantkering rivier",
          "state": "Rust",
          "value": -0.4653144663417954
         },
         {
          "comp1": 360,
          "comp2": -7,
          "index": "1991-01-09T02:20:00",
          "location": "Nieuwe Maas Maeslantkering rivier",
          "state": "Rust",
          "value": -0.4675813889683803
         },
         {
          "comp1": 360,
          "comp2": -7,
          "index": "1991-01-09T02:30:00",
          "location": "Nieuwe Maas Maeslantkering rivier",
          "state": "Rust",
          "value": -0.4722214338024526
         },
         {
          "comp1": 360,
          "comp2": -7,
          "index": "1991-01-09T02:40:00",
          "location": "Nieuwe Maas Maeslantkering rivier",
          "state": "Rust",
          "value": -0.47644552841056576
         },
         {
          "comp1": 360,
          "comp2": -7,
          "index": "1991-01-09T02:50:00",
          "location": "Nieuwe Maas Maeslantkering rivier",
          "state": "Rust",
          "value": -0.48497245408566925
         },
         {
          "comp1": 360,
          "comp2": -7,
          "index": "1991-01-09T03:00:00",
          "location": "Nieuwe Maas Maeslantkering rivier",
          "state": "Rust",
          "value": -0.49619047773677255
         },
         {
          "comp1": 360,
          "comp2": -7,
          "index": "1991-01-09T03:10:00",
          "location": "Nieuwe Maas Maeslantkering rivier",
          "state": "Rust",
          "value": -0.5063391046664028
         },
         {
          "comp1": 360,
          "comp2": -7,
          "index": "1991-01-09T03:20:00",
          "location": "Nieuwe Maas Maeslantkering rivier",
          "state": "Rust",
          "value": -0.5171725301519231
         },
         {
          "comp1": 360,
          "comp2": -7,
          "index": "1991-01-09T03:30:00",
          "location": "Nieuwe Maas Maeslantkering rivier",
          "state": "Rust",
          "value": -0.5246852158804102
         },
         {
          "comp1": 360,
          "comp2": -7,
          "index": "1991-01-09T03:40:00",
          "location": "Nieuwe Maas Maeslantkering rivier",
          "state": "Rust",
          "value": -0.5301987721876074
         },
         {
          "comp1": 360,
          "comp2": -7,
          "index": "1991-01-09T03:50:00",
          "location": "Nieuwe Maas Maeslantkering rivier",
          "state": "Rust",
          "value": -0.533384596974421
         },
         {
          "comp1": 360,
          "comp2": -7,
          "index": "1991-01-09T04:00:00",
          "location": "Nieuwe Maas Maeslantkering rivier",
          "state": "Rust",
          "value": -0.5336252345641896
         },
         {
          "comp1": 360,
          "comp2": -7,
          "index": "1991-01-09T04:10:00",
          "location": "Nieuwe Maas Maeslantkering rivier",
          "state": "Rust",
          "value": -0.5330764013165857
         },
         {
          "comp1": 360,
          "comp2": -7,
          "index": "1991-01-09T04:20:00",
          "location": "Nieuwe Maas Maeslantkering rivier",
          "state": "Rust",
          "value": -0.5326396151301894
         },
         {
          "comp1": 360,
          "comp2": -7,
          "index": "1991-01-09T04:30:00",
          "location": "Nieuwe Maas Maeslantkering rivier",
          "state": "Rust",
          "value": -0.532501121896975
         },
         {
          "comp1": 360,
          "comp2": -7,
          "index": "1991-01-09T04:40:00",
          "location": "Nieuwe Maas Maeslantkering rivier",
          "state": "Rust",
          "value": -0.5292929991135144
         },
         {
          "comp1": 360,
          "comp2": -7,
          "index": "1991-01-09T04:50:00",
          "location": "Nieuwe Maas Maeslantkering rivier",
          "state": "Rust",
          "value": -0.5191534742675352
         },
         {
          "comp1": 360,
          "comp2": -7,
          "index": "1991-01-09T05:00:00",
          "location": "Nieuwe Maas Maeslantkering rivier",
          "state": "Rust",
          "value": -0.5036319683405222
         },
         {
          "comp1": 360,
          "comp2": -7,
          "index": "1991-01-09T05:10:00",
          "location": "Nieuwe Maas Maeslantkering rivier",
          "state": "Rust",
          "value": -0.48231012412695834
         },
         {
          "comp1": 360,
          "comp2": -7,
          "index": "1991-01-09T05:20:00",
          "location": "Nieuwe Maas Maeslantkering rivier",
          "state": "Rust",
          "value": -0.45282104506051907
         },
         {
          "comp1": 360,
          "comp2": -7,
          "index": "1991-01-09T05:30:00",
          "location": "Nieuwe Maas Maeslantkering rivier",
          "state": "Rust",
          "value": -0.4118742733016946
         },
         {
          "comp1": 360,
          "comp2": -7,
          "index": "1991-01-09T05:40:00",
          "location": "Nieuwe Maas Maeslantkering rivier",
          "state": "Rust",
          "value": -0.36524193824571066
         },
         {
          "comp1": 360,
          "comp2": -7,
          "index": "1991-01-09T05:50:00",
          "location": "Nieuwe Maas Maeslantkering rivier",
          "state": "Rust",
          "value": -0.3133415519387517
         },
         {
          "comp1": 360,
          "comp2": -7,
          "index": "1991-01-09T06:00:00",
          "location": "Nieuwe Maas Maeslantkering rivier",
          "state": "Rust",
          "value": -0.2536919539789279
         },
         {
          "comp1": 360,
          "comp2": -7,
          "index": "1991-01-09T06:10:00",
          "location": "Nieuwe Maas Maeslantkering rivier",
          "state": "Rust",
          "value": -0.1867742104664509
         },
         {
          "comp1": 360,
          "comp2": -7,
          "index": "1991-01-09T06:20:00",
          "location": "Nieuwe Maas Maeslantkering rivier",
          "state": "Rust",
          "value": -0.10377383865647587
         },
         {
          "comp1": 360,
          "comp2": -7,
          "index": "1991-01-09T06:30:00",
          "location": "Nieuwe Maas Maeslantkering rivier",
          "state": "Rust",
          "value": -0.00011434631201236156
         },
         {
          "comp1": 360,
          "comp2": -7,
          "index": "1991-01-09T06:40:00",
          "location": "Nieuwe Maas Maeslantkering rivier",
          "state": "Rust",
          "value": 0.12320981222352843
         },
         {
          "comp1": 360,
          "comp2": -7,
          "index": "1991-01-09T06:50:00",
          "location": "Nieuwe Maas Maeslantkering rivier",
          "state": "Rust",
          "value": 0.2650365218800832
         },
         {
          "comp1": 360,
          "comp2": -7,
          "index": "1991-01-09T07:00:00",
          "location": "Nieuwe Maas Maeslantkering rivier",
          "state": "Rust",
          "value": 0.4144426568672395
         },
         {
          "comp1": 360,
          "comp2": -7,
          "index": "1991-01-09T07:10:00",
          "location": "Nieuwe Maas Maeslantkering rivier",
          "state": "Rust",
          "value": 0.5638286514761259
         },
         {
          "comp1": 360,
          "comp2": -7,
          "index": "1991-01-09T07:20:00",
          "location": "Nieuwe Maas Maeslantkering rivier",
          "state": "Rust",
          "value": 0.7056409899010022
         },
         {
          "comp1": 360,
          "comp2": -7,
          "index": "1991-01-09T07:30:00",
          "location": "Nieuwe Maas Maeslantkering rivier",
          "state": "Rust",
          "value": 0.833631133445559
         },
         {
          "comp1": 360,
          "comp2": -7,
          "index": "1991-01-09T07:40:00",
          "location": "Nieuwe Maas Maeslantkering rivier",
          "state": "Rust",
          "value": 0.9469579316791801
         },
         {
          "comp1": 360,
          "comp2": -7,
          "index": "1991-01-09T07:50:00",
          "location": "Nieuwe Maas Maeslantkering rivier",
          "state": "Rust",
          "value": 1.0447628925362418
         },
         {
          "comp1": 360,
          "comp2": -7,
          "index": "1991-01-09T08:00:00",
          "location": "Nieuwe Maas Maeslantkering rivier",
          "state": "Rust",
          "value": 1.1198292029753483
         },
         {
          "comp1": 360,
          "comp2": -7,
          "index": "1991-01-09T08:10:00",
          "location": "Nieuwe Maas Maeslantkering rivier",
          "state": "Rust",
          "value": 1.168559493366823
         },
         {
          "comp1": 360,
          "comp2": -7,
          "index": "1991-01-09T08:20:00",
          "location": "Nieuwe Maas Maeslantkering rivier",
          "state": "Rust",
          "value": 1.1937459478306804
         },
         {
          "comp1": 360,
          "comp2": -7,
          "index": "1991-01-09T08:30:00",
          "location": "Nieuwe Maas Maeslantkering rivier",
          "state": "Rust",
          "value": 1.2026378315245017
         },
         {
          "comp1": 360,
          "comp2": -7,
          "index": "1991-01-09T08:40:00",
          "location": "Nieuwe Maas Maeslantkering rivier",
          "state": "Rust",
          "value": 1.1981061442226737
         },
         {
          "comp1": 360,
          "comp2": -7,
          "index": "1991-01-09T08:50:00",
          "location": "Nieuwe Maas Maeslantkering rivier",
          "state": "Rust",
          "value": 1.189972309740904
         },
         {
          "comp1": 360,
          "comp2": -7,
          "index": "1991-01-09T09:00:00",
          "location": "Nieuwe Maas Maeslantkering rivier",
          "state": "Rust",
          "value": 1.1816170717519956
         },
         {
          "comp1": 360,
          "comp2": -7,
          "index": "1991-01-09T09:10:00",
          "location": "Nieuwe Maas Maeslantkering rivier",
          "state": "Rust",
          "value": 1.1719549581135082
         },
         {
          "comp1": 360,
          "comp2": -7,
          "index": "1991-01-09T09:20:00",
          "location": "Nieuwe Maas Maeslantkering rivier",
          "state": "Rust",
          "value": 1.1588379783192773
         },
         {
          "comp1": 360,
          "comp2": -7,
          "index": "1991-01-09T09:30:00",
          "location": "Nieuwe Maas Maeslantkering rivier",
          "state": "Rust",
          "value": 1.1434364127615684
         },
         {
          "comp1": 360,
          "comp2": -7,
          "index": "1991-01-09T09:40:00",
          "location": "Nieuwe Maas Maeslantkering rivier",
          "state": "Rust",
          "value": 1.1230875193707173
         },
         {
          "comp1": 360,
          "comp2": -7,
          "index": "1991-01-09T09:50:00",
          "location": "Nieuwe Maas Maeslantkering rivier",
          "state": "Rust",
          "value": 1.0962465295206545
         },
         {
          "comp1": 360,
          "comp2": -7,
          "index": "1991-01-09T10:00:00",
          "location": "Nieuwe Maas Maeslantkering rivier",
          "state": "Rust",
          "value": 1.0628669109029623
         },
         {
          "comp1": 360,
          "comp2": -7,
          "index": "1991-01-09T10:10:00",
          "location": "Nieuwe Maas Maeslantkering rivier",
          "state": "Rust",
          "value": 1.0234513472680513
         },
         {
          "comp1": 360,
          "comp2": -7,
          "index": "1991-01-09T10:20:00",
          "location": "Nieuwe Maas Maeslantkering rivier",
          "state": "Rust",
          "value": 0.9804410713776117
         },
         {
          "comp1": 360,
          "comp2": -7,
          "index": "1991-01-09T10:30:00",
          "location": "Nieuwe Maas Maeslantkering rivier",
          "state": "Rust",
          "value": 0.9337154329603073
         },
         {
          "comp1": 360,
          "comp2": -7,
          "index": "1991-01-09T10:40:00",
          "location": "Nieuwe Maas Maeslantkering rivier",
          "state": "Rust",
          "value": 0.8758548462528669
         },
         {
          "comp1": 360,
          "comp2": -7,
          "index": "1991-01-09T10:50:00",
          "location": "Nieuwe Maas Maeslantkering rivier",
          "state": "Rust",
          "value": 0.8045555195766513
         },
         {
          "comp1": 360,
          "comp2": -7,
          "index": "1991-01-09T11:00:00",
          "location": "Nieuwe Maas Maeslantkering rivier",
          "state": "Rust",
          "value": 0.7381616233878603
         },
         {
          "comp1": 360,
          "comp2": -7,
          "index": "1991-01-09T11:10:00",
          "location": "Nieuwe Maas Maeslantkering rivier",
          "state": "Rust",
          "value": 0.6711759852898372
         },
         {
          "comp1": 360,
          "comp2": -7,
          "index": "1991-01-09T11:20:00",
          "location": "Nieuwe Maas Maeslantkering rivier",
          "state": "Rust",
          "value": 0.6090038331977956
         },
         {
          "comp1": 360,
          "comp2": -7,
          "index": "1991-01-09T11:30:00",
          "location": "Nieuwe Maas Maeslantkering rivier",
          "state": "Rust",
          "value": 0.5425147721867166
         },
         {
          "comp1": 360,
          "comp2": -7,
          "index": "1991-01-09T11:40:00",
          "location": "Nieuwe Maas Maeslantkering rivier",
          "state": "Rust",
          "value": 0.47741696029177966
         },
         {
          "comp1": 360,
          "comp2": -7,
          "index": "1991-01-09T11:50:00",
          "location": "Nieuwe Maas Maeslantkering rivier",
          "state": "Rust",
          "value": 0.41723752450273716
         },
         {
          "comp1": 360,
          "comp2": -7,
          "index": "1991-01-09T12:00:00",
          "location": "Nieuwe Maas Maeslantkering rivier",
          "state": "Rust",
          "value": 0.3530383592488714
         },
         {
          "comp1": 360,
          "comp2": -7,
          "index": "1991-01-09T12:10:00",
          "location": "Nieuwe Maas Maeslantkering rivier",
          "state": "Rust",
          "value": 0.28426654734892953
         },
         {
          "comp1": 360,
          "comp2": -7,
          "index": "1991-01-09T12:20:00",
          "location": "Nieuwe Maas Maeslantkering rivier",
          "state": "Rust",
          "value": 0.20965870837814418
         },
         {
          "comp1": 360,
          "comp2": -7,
          "index": "1991-01-09T12:30:00",
          "location": "Nieuwe Maas Maeslantkering rivier",
          "state": "Rust",
          "value": 0.13099371890522854
         },
         {
          "comp1": 360,
          "comp2": -7,
          "index": "1991-01-09T12:40:00",
          "location": "Nieuwe Maas Maeslantkering rivier",
          "state": "Rust",
          "value": 0.0497531193889238
         },
         {
          "comp1": 360,
          "comp2": -7,
          "index": "1991-01-09T12:50:00",
          "location": "Nieuwe Maas Maeslantkering rivier",
          "state": "Rust",
          "value": -0.03359911498510979
         },
         {
          "comp1": 360,
          "comp2": -7,
          "index": "1991-01-09T13:00:00",
          "location": "Nieuwe Maas Maeslantkering rivier",
          "state": "Rust",
          "value": -0.12014708866765354
         },
         {
          "comp1": 360,
          "comp2": -7,
          "index": "1991-01-09T13:10:00",
          "location": "Nieuwe Maas Maeslantkering rivier",
          "state": "Rust",
          "value": -0.20357064682872042
         },
         {
          "comp1": 360,
          "comp2": -7,
          "index": "1991-01-09T13:20:00",
          "location": "Nieuwe Maas Maeslantkering rivier",
          "state": "Rust",
          "value": -0.2806527613599967
         },
         {
          "comp1": 360,
          "comp2": -7,
          "index": "1991-01-09T13:30:00",
          "location": "Nieuwe Maas Maeslantkering rivier",
          "state": "Rust",
          "value": -0.34734938385498265
         },
         {
          "comp1": 360,
          "comp2": -7,
          "index": "1991-01-09T13:40:00",
          "location": "Nieuwe Maas Maeslantkering rivier",
          "state": "Rust",
          "value": -0.39889317263726576
         },
         {
          "comp1": 360,
          "comp2": -7,
          "index": "1991-01-09T13:50:00",
          "location": "Nieuwe Maas Maeslantkering rivier",
          "state": "Rust",
          "value": -0.4380911257097311
         },
         {
          "comp1": 360,
          "comp2": -7,
          "index": "1991-01-09T14:00:00",
          "location": "Nieuwe Maas Maeslantkering rivier",
          "state": "Rust",
          "value": -0.46437488189995857
         },
         {
          "comp1": 360,
          "comp2": -7,
          "index": "1991-01-09T14:10:00",
          "location": "Nieuwe Maas Maeslantkering rivier",
          "state": "Rust",
          "value": -0.47890931112921153
         },
         {
          "comp1": 360,
          "comp2": -7,
          "index": "1991-01-09T14:20:00",
          "location": "Nieuwe Maas Maeslantkering rivier",
          "state": "Rust",
          "value": -0.4801718660867401
         },
         {
          "comp1": 360,
          "comp2": -7,
          "index": "1991-01-09T14:30:00",
          "location": "Nieuwe Maas Maeslantkering rivier",
          "state": "Rust",
          "value": -0.46832443569665516
         },
         {
          "comp1": 360,
          "comp2": -7,
          "index": "1991-01-09T14:40:00",
          "location": "Nieuwe Maas Maeslantkering rivier",
          "state": "Rust",
          "value": -0.4567635309149206
         },
         {
          "comp1": 360,
          "comp2": -7,
          "index": "1991-01-09T14:50:00",
          "location": "Nieuwe Maas Maeslantkering rivier",
          "state": "Rust",
          "value": -0.451330909738197
         },
         {
          "comp1": 360,
          "comp2": -7,
          "index": "1991-01-09T15:00:00",
          "location": "Nieuwe Maas Maeslantkering rivier",
          "state": "Rust",
          "value": -0.4514534932688154
         },
         {
          "comp1": 360,
          "comp2": -7,
          "index": "1991-01-09T15:10:00",
          "location": "Nieuwe Maas Maeslantkering rivier",
          "state": "Rust",
          "value": -0.4580267526419626
         },
         {
          "comp1": 360,
          "comp2": -7,
          "index": "1991-01-09T15:20:00",
          "location": "Nieuwe Maas Maeslantkering rivier",
          "state": "Rust",
          "value": -0.47049273275001885
         },
         {
          "comp1": 360,
          "comp2": -7,
          "index": "1991-01-09T15:30:00",
          "location": "Nieuwe Maas Maeslantkering rivier",
          "state": "Rust",
          "value": -0.4842469156228424
         },
         {
          "comp1": 360,
          "comp2": -7,
          "index": "1991-01-09T15:40:00",
          "location": "Nieuwe Maas Maeslantkering rivier",
          "state": "Rust",
          "value": -0.4989163660029703
         },
         {
          "comp1": 360,
          "comp2": -7,
          "index": "1991-01-09T15:50:00",
          "location": "Nieuwe Maas Maeslantkering rivier",
          "state": "Rust",
          "value": -0.5117202532166762
         },
         {
          "comp1": 360,
          "comp2": -7,
          "index": "1991-01-09T16:00:00",
          "location": "Nieuwe Maas Maeslantkering rivier",
          "state": "Rust",
          "value": -0.5228367838501594
         },
         {
          "comp1": 360,
          "comp2": -7,
          "index": "1991-01-09T16:10:00",
          "location": "Nieuwe Maas Maeslantkering rivier",
          "state": "Rust",
          "value": -0.5307195028391074
         },
         {
          "comp1": 360,
          "comp2": -7,
          "index": "1991-01-09T16:20:00",
          "location": "Nieuwe Maas Maeslantkering rivier",
          "state": "Rust",
          "value": -0.5336539811225466
         },
         {
          "comp1": 360,
          "comp2": -7,
          "index": "1991-01-09T16:30:00",
          "location": "Nieuwe Maas Maeslantkering rivier",
          "state": "Rust",
          "value": -0.533347234229774
         },
         {
          "comp1": 360,
          "comp2": -7,
          "index": "1991-01-09T16:40:00",
          "location": "Nieuwe Maas Maeslantkering rivier",
          "state": "Rust",
          "value": -0.5316863850498891
         },
         {
          "comp1": 360,
          "comp2": -7,
          "index": "1991-01-09T16:50:00",
          "location": "Nieuwe Maas Maeslantkering rivier",
          "state": "Rust",
          "value": -0.5303213655114895
         },
         {
          "comp1": 360,
          "comp2": -7,
          "index": "1991-01-09T17:00:00",
          "location": "Nieuwe Maas Maeslantkering rivier",
          "state": "Rust",
          "value": -0.52734791275175
         },
         {
          "comp1": 360,
          "comp2": -7,
          "index": "1991-01-09T17:10:00",
          "location": "Nieuwe Maas Maeslantkering rivier",
          "state": "Rust",
          "value": -0.5215330277653552
         },
         {
          "comp1": 360,
          "comp2": -7,
          "index": "1991-01-09T17:20:00",
          "location": "Nieuwe Maas Maeslantkering rivier",
          "state": "Rust",
          "value": -0.5104466802706396
         },
         {
          "comp1": 360,
          "comp2": -7,
          "index": "1991-01-09T17:30:00",
          "location": "Nieuwe Maas Maeslantkering rivier",
          "state": "Rust",
          "value": -0.4921937957314552
         },
         {
          "comp1": 360,
          "comp2": -7,
          "index": "1991-01-09T17:40:00",
          "location": "Nieuwe Maas Maeslantkering rivier",
          "state": "Rust",
          "value": -0.4676717268736753
         },
         {
          "comp1": 360,
          "comp2": -7,
          "index": "1991-01-09T17:50:00",
          "location": "Nieuwe Maas Maeslantkering rivier",
          "state": "Rust",
          "value": -0.43245120567246054
         },
         {
          "comp1": 360,
          "comp2": -7,
          "index": "1991-01-09T18:00:00",
          "location": "Nieuwe Maas Maeslantkering rivier",
          "state": "Rust",
          "value": -0.38942123304969434
         },
         {
          "comp1": 360,
          "comp2": -7,
          "index": "1991-01-09T18:10:00",
          "location": "Nieuwe Maas Maeslantkering rivier",
          "state": "Rust",
          "value": -0.3405293526233814
         },
         {
          "comp1": 360,
          "comp2": -7,
          "index": "1991-01-09T18:20:00",
          "location": "Nieuwe Maas Maeslantkering rivier",
          "state": "Rust",
          "value": -0.2863424775237537
         },
         {
          "comp1": 360,
          "comp2": -7,
          "index": "1991-01-09T18:30:00",
          "location": "Nieuwe Maas Maeslantkering rivier",
          "state": "Rust",
          "value": -0.22442177507977695
         },
         {
          "comp1": 360,
          "comp2": -7,
          "index": "1991-01-09T18:40:00",
          "location": "Nieuwe Maas Maeslantkering rivier",
          "state": "Rust",
          "value": -0.1520055990309961
         },
         {
          "comp1": 360,
          "comp2": -7,
          "index": "1991-01-09T18:50:00",
          "location": "Nieuwe Maas Maeslantkering rivier",
          "state": "Rust",
          "value": -0.05736083710921811
         },
         {
          "comp1": 360,
          "comp2": -7,
          "index": "1991-01-09T19:00:00",
          "location": "Nieuwe Maas Maeslantkering rivier",
          "state": "Rust",
          "value": 0.056350300653660354
         },
         {
          "comp1": 360,
          "comp2": -7,
          "index": "1991-01-09T19:10:00",
          "location": "Nieuwe Maas Maeslantkering rivier",
          "state": "Rust",
          "value": 0.18759171957202422
         },
         {
          "comp1": 360,
          "comp2": -7,
          "index": "1991-01-09T19:20:00",
          "location": "Nieuwe Maas Maeslantkering rivier",
          "state": "Rust",
          "value": 0.33357508532068914
         },
         {
          "comp1": 360,
          "comp2": -7,
          "index": "1991-01-09T19:30:00",
          "location": "Nieuwe Maas Maeslantkering rivier",
          "state": "Rust",
          "value": 0.482098823913072
         },
         {
          "comp1": 360,
          "comp2": -7,
          "index": "1991-01-09T19:40:00",
          "location": "Nieuwe Maas Maeslantkering rivier",
          "state": "Rust",
          "value": 0.6237335992734101
         },
         {
          "comp1": 360,
          "comp2": -7,
          "index": "1991-01-09T19:50:00",
          "location": "Nieuwe Maas Maeslantkering rivier",
          "state": "Rust",
          "value": 0.7536839967162098
         },
         {
          "comp1": 360,
          "comp2": -7,
          "index": "1991-01-09T20:00:00",
          "location": "Nieuwe Maas Maeslantkering rivier",
          "state": "Rust",
          "value": 0.874163531742696
         },
         {
          "comp1": 360,
          "comp2": -7,
          "index": "1991-01-09T20:10:00",
          "location": "Nieuwe Maas Maeslantkering rivier",
          "state": "Rust",
          "value": 0.978712407062687
         },
         {
          "comp1": 360,
          "comp2": -7,
          "index": "1991-01-09T20:20:00",
          "location": "Nieuwe Maas Maeslantkering rivier",
          "state": "Rust",
          "value": 1.072368391419654
         },
         {
          "comp1": 360,
          "comp2": -7,
          "index": "1991-01-09T20:30:00",
          "location": "Nieuwe Maas Maeslantkering rivier",
          "state": "Rust",
          "value": 1.1375390335721398
         },
         {
          "comp1": 360,
          "comp2": -7,
          "index": "1991-01-09T20:40:00",
          "location": "Nieuwe Maas Maeslantkering rivier",
          "state": "Rust",
          "value": 1.1760616039717104
         },
         {
          "comp1": 360,
          "comp2": -7,
          "index": "1991-01-09T20:50:00",
          "location": "Nieuwe Maas Maeslantkering rivier",
          "state": "Rust",
          "value": 1.1933291930296974
         },
         {
          "comp1": 360,
          "comp2": -7,
          "index": "1991-01-09T21:00:00",
          "location": "Nieuwe Maas Maeslantkering rivier",
          "state": "Rust",
          "value": 1.1925674903961154
         },
         {
          "comp1": 360,
          "comp2": -7,
          "index": "1991-01-09T21:10:00",
          "location": "Nieuwe Maas Maeslantkering rivier",
          "state": "Rust",
          "value": 1.1826229326199946
         },
         {
          "comp1": 360,
          "comp2": -7,
          "index": "1991-01-09T21:20:00",
          "location": "Nieuwe Maas Maeslantkering rivier",
          "state": "Rust",
          "value": 1.1684441812709598
         },
         {
          "comp1": 360,
          "comp2": -7,
          "index": "1991-01-09T21:30:00",
          "location": "Nieuwe Maas Maeslantkering rivier",
          "state": "Rust",
          "value": 1.1579096520687364
         },
         {
          "comp1": 360,
          "comp2": -7,
          "index": "1991-01-09T21:40:00",
          "location": "Nieuwe Maas Maeslantkering rivier",
          "state": "Rust",
          "value": 1.145703352397208
         },
         {
          "comp1": 360,
          "comp2": -7,
          "index": "1991-01-09T21:50:00",
          "location": "Nieuwe Maas Maeslantkering rivier",
          "state": "Rust",
          "value": 1.1299778609476112
         },
         {
          "comp1": 360,
          "comp2": -7,
          "index": "1991-01-09T22:00:00",
          "location": "Nieuwe Maas Maeslantkering rivier",
          "state": "Rust",
          "value": 1.111645339225914
         },
         {
          "comp1": 360,
          "comp2": -7,
          "index": "1991-01-09T22:10:00",
          "location": "Nieuwe Maas Maeslantkering rivier",
          "state": "Rust",
          "value": 1.0913991522647017
         },
         {
          "comp1": 360,
          "comp2": -7,
          "index": "1991-01-09T22:20:00",
          "location": "Nieuwe Maas Maeslantkering rivier",
          "state": "Rust",
          "value": 1.0653856677695608
         },
         {
          "comp1": 360,
          "comp2": -7,
          "index": "1991-01-09T22:30:00",
          "location": "Nieuwe Maas Maeslantkering rivier",
          "state": "Rust",
          "value": 1.0311697367281005
         },
         {
          "comp1": 360,
          "comp2": -7,
          "index": "1991-01-09T22:40:00",
          "location": "Nieuwe Maas Maeslantkering rivier",
          "state": "Rust",
          "value": 0.989411983057115
         },
         {
          "comp1": 360,
          "comp2": -7,
          "index": "1991-01-09T22:50:00",
          "location": "Nieuwe Maas Maeslantkering rivier",
          "state": "Rust",
          "value": 0.9365097829230171
         },
         {
          "comp1": 360,
          "comp2": -7,
          "index": "1991-01-09T23:00:00",
          "location": "Nieuwe Maas Maeslantkering rivier",
          "state": "Rust",
          "value": 0.8842012836246376
         },
         {
          "comp1": 360,
          "comp2": -7,
          "index": "1991-01-09T23:10:00",
          "location": "Nieuwe Maas Maeslantkering rivier",
          "state": "Rust",
          "value": 0.8214482339462349
         },
         {
          "comp1": 360,
          "comp2": -7,
          "index": "1991-01-09T23:20:00",
          "location": "Nieuwe Maas Maeslantkering rivier",
          "state": "Rust",
          "value": 0.7492284049122256
         },
         {
          "comp1": 360,
          "comp2": -7,
          "index": "1991-01-09T23:30:00",
          "location": "Nieuwe Maas Maeslantkering rivier",
          "state": "Rust",
          "value": 0.6785649081465945
         },
         {
          "comp1": 360,
          "comp2": -7,
          "index": "1991-01-09T23:40:00",
          "location": "Nieuwe Maas Maeslantkering rivier",
          "state": "Rust",
          "value": 0.6093935085313473
         },
         {
          "comp1": 360,
          "comp2": -7,
          "index": "1991-01-09T23:50:00",
          "location": "Nieuwe Maas Maeslantkering rivier",
          "state": "Rust",
          "value": 0.5440782184722123
         },
         {
          "comp1": 360,
          "comp2": -7,
          "index": "1991-01-10T00:00:00",
          "location": "Nieuwe Maas Maeslantkering rivier",
          "state": "Rust",
          "value": 0.4787671670266399
         },
         {
          "comp1": 360,
          "comp2": -7,
          "index": "1991-01-10T00:10:00",
          "location": "Nieuwe Maas Maeslantkering rivier",
          "state": "Rust",
          "value": 0.4188186253437417
         },
         {
          "comp1": 360,
          "comp2": -7,
          "index": "1991-01-10T00:20:00",
          "location": "Nieuwe Maas Maeslantkering rivier",
          "state": "Rust",
          "value": 0.3588893723660559
         },
         {
          "comp1": 360,
          "comp2": -7,
          "index": "1991-01-10T00:30:00",
          "location": "Nieuwe Maas Maeslantkering rivier",
          "state": "Rust",
          "value": 0.2977190603689254
         },
         {
          "comp1": 360,
          "comp2": -7,
          "index": "1991-01-10T00:40:00",
          "location": "Nieuwe Maas Maeslantkering rivier",
          "state": "Rust",
          "value": 0.23517169029309626
         },
         {
          "comp1": 360,
          "comp2": -7,
          "index": "1991-01-10T00:50:00",
          "location": "Nieuwe Maas Maeslantkering rivier",
          "state": "Rust",
          "value": 0.16751577915499816
         },
         {
          "comp1": 360,
          "comp2": -7,
          "index": "1991-01-10T01:00:00",
          "location": "Nieuwe Maas Maeslantkering rivier",
          "state": "Rust",
          "value": 0.09153441884443402
         },
         {
          "comp1": 360,
          "comp2": -7,
          "index": "1991-01-10T01:10:00",
          "location": "Nieuwe Maas Maeslantkering rivier",
          "state": "Rust",
          "value": 0.009768626027393838
         },
         {
          "comp1": 360,
          "comp2": -7,
          "index": "1991-01-10T01:20:00",
          "location": "Nieuwe Maas Maeslantkering rivier",
          "state": "Rust",
          "value": -0.07263102131906433
         },
         {
          "comp1": 360,
          "comp2": -7,
          "index": "1991-01-10T01:30:00",
          "location": "Nieuwe Maas Maeslantkering rivier",
          "state": "Rust",
          "value": -0.15454206539755072
         },
         {
          "comp1": 360,
          "comp2": -7,
          "index": "1991-01-10T01:40:00",
          "location": "Nieuwe Maas Maeslantkering rivier",
          "state": "Rust",
          "value": -0.23417335840249534
         },
         {
          "comp1": 360,
          "comp2": -7,
          "index": "1991-01-10T01:50:00",
          "location": "Nieuwe Maas Maeslantkering rivier",
          "state": "Rust",
          "value": -0.307858306700755
         },
         {
          "comp1": 360,
          "comp2": -7,
          "index": "1991-01-10T02:00:00",
          "location": "Nieuwe Maas Maeslantkering rivier",
          "state": "Rust",
          "value": -0.3693244709022194
         },
         {
          "comp1": 360,
          "comp2": -7,
          "index": "1991-01-10T02:10:00",
          "location": "Nieuwe Maas Maeslantkering rivier",
          "state": "Rust",
          "value": -0.41490155585521027
         },
         {
          "comp1": 360,
          "comp2": -7,
          "index": "1991-01-10T02:20:00",
          "location": "Nieuwe Maas Maeslantkering rivier",
          "state": "Rust",
          "value": -0.4455461154410184
         },
         {
          "comp1": 360,
          "comp2": -7,
          "index": "1991-01-10T02:30:00",
          "location": "Nieuwe Maas Maeslantkering rivier",
          "state": "Rust",
          "value": -0.4639854937782246
         },
         {
          "comp1": 360,
          "comp2": -7,
          "index": "1991-01-10T02:40:00",
          "location": "Nieuwe Maas Maeslantkering rivier",
          "state": "Rust",
          "value": -0.4748329981565184
         },
         {
          "comp1": 360,
          "comp2": -7,
          "index": "1991-01-10T02:50:00",
          "location": "Nieuwe Maas Maeslantkering rivier",
          "state": "Rust",
          "value": -0.4772844495030949
         },
         {
          "comp1": 360,
          "comp2": -7,
          "index": "1991-01-10T03:00:00",
          "location": "Nieuwe Maas Maeslantkering rivier",
          "state": "Rust",
          "value": -0.4722382434302214
         },
         {
          "comp1": 360,
          "comp2": -7,
          "index": "1991-01-10T03:10:00",
          "location": "Nieuwe Maas Maeslantkering rivier",
          "state": "Rust",
          "value": -0.46336037725316914
         },
         {
          "comp1": 360,
          "comp2": -7,
          "index": "1991-01-10T03:20:00",
          "location": "Nieuwe Maas Maeslantkering rivier",
          "state": "Rust",
          "value": -0.4568969685226029
         }
        ]
       },
       "hconcat": [
        {
         "title": "Q3_H5_U5_D1 Normaal functioneren",
         "vconcat": [
          {
           "data": {
            "name": "data-ca3655b0878f28ad80095f96957e094c"
           },
           "encoding": {
            "color": {
             "field": "location",
             "type": "nominal"
            },
            "tooltip": [
             {
              "field": "value",
              "format": ".2f",
              "type": "quantitative"
             },
             {
              "field": "state",
              "type": "ordinal"
             },
             {
              "field": "index",
              "format": "%Y-%m-%d %H:%M",
              "type": "temporal"
             }
            ],
            "x": {
             "field": "index",
             "timeUnit": "yearmonthdatehoursminutes",
             "title": null,
             "type": "temporal"
            },
            "y": {
             "field": "value",
             "scale": {
              "domain": [
               -1,
               5.5
              ]
             },
             "title": "waterlevel [m+NAP]",
             "type": "quantitative"
            }
           },
           "mark": "line",
           "selection": {
            "selector005": {
             "bind": "scales",
             "encodings": [
              "x"
             ],
             "mark": {
              "fill": "#333",
              "fillOpacity": 0.125,
              "stroke": "white"
             },
             "on": "[mousedown, window:mouseup] > window:mousemove!",
             "resolve": "global",
             "translate": "[mousedown, window:mouseup] > window:mousemove!",
             "type": "interval",
             "zoom": "wheel!"
            }
           }
          },
          {
           "data": {
            "name": "data-ca3655b0878f28ad80095f96957e094c"
           },
           "encoding": {
            "order": {
             "field": "index",
             "type": "temporal"
            },
            "tooltip": [
             {
              "field": "state",
              "type": "ordinal"
             },
             {
              "field": "comp1",
              "type": "ordinal"
             },
             {
              "field": "comp2",
              "type": "ordinal"
             },
             {
              "field": "index",
              "format": "%Y-%m-%d %H:%M",
              "type": "temporal"
             }
            ],
            "x": {
             "field": "index",
             "timeUnit": "yearmonthdatehoursminutes",
             "title": null,
             "type": "temporal"
            },
            "y": {
             "field": "state",
             "sort": [
              "ParkerenKw",
              "HorizontaalOpenen",
              "Spuien",
              "Opdrijven",
              "Keren",
              "AfzinkenBodem",
              "AfzinkenCPSE",
              "HorizontaalSluiten",
              "Paraat",
              "Stremmen",
              "Alert",
              "Gemobiliseerd",
              "Rust"
             ],
             "type": "ordinal"
            }
           },
           "mark": "line",
           "selection": {
            "selector005": {
             "bind": "scales",
             "encodings": [
              "x"
             ],
             "mark": {
              "fill": "#333",
              "fillOpacity": 0.125,
              "stroke": "white"
             },
             "on": "[mousedown, window:mouseup] > window:mousemove!",
             "resolve": "global",
             "translate": "[mousedown, window:mouseup] > window:mousemove!",
             "type": "interval",
             "zoom": "wheel!"
            }
           }
          }
         ]
        },
        {
         "title": "Q3_H5_U5_D1 Faalmodus - 2",
         "vconcat": [
          {
           "data": {
            "name": "data-9c53101c189972684da97889f308f4ab"
           },
           "encoding": {
            "color": {
             "field": "location",
             "type": "nominal"
            },
            "tooltip": [
             {
              "field": "value",
              "format": ".2f",
              "type": "quantitative"
             },
             {
              "field": "state",
              "type": "ordinal"
             },
             {
              "field": "index",
              "format": "%Y-%m-%d %H:%M",
              "type": "temporal"
             }
            ],
            "x": {
             "field": "index",
             "timeUnit": "yearmonthdatehoursminutes",
             "title": null,
             "type": "temporal"
            },
            "y": {
             "field": "value",
             "scale": {
              "domain": [
               -1,
               5.5
              ]
             },
             "title": "waterlevel [m+NAP]",
             "type": "quantitative"
            }
           },
           "mark": "line",
           "selection": {
            "selector008": {
             "bind": "scales",
             "encodings": [
              "x"
             ],
             "mark": {
              "fill": "#333",
              "fillOpacity": 0.125,
              "stroke": "white"
             },
             "on": "[mousedown, window:mouseup] > window:mousemove!",
             "resolve": "global",
             "translate": "[mousedown, window:mouseup] > window:mousemove!",
             "type": "interval",
             "zoom": "wheel!"
            }
           }
          },
          {
           "data": {
            "name": "data-9c53101c189972684da97889f308f4ab"
           },
           "encoding": {
            "order": {
             "field": "index",
             "type": "temporal"
            },
            "tooltip": [
             {
              "field": "state",
              "type": "ordinal"
             },
             {
              "field": "comp1",
              "type": "ordinal"
             },
             {
              "field": "comp2",
              "type": "ordinal"
             },
             {
              "field": "index",
              "format": "%Y-%m-%d %H:%M",
              "type": "temporal"
             }
            ],
            "x": {
             "field": "index",
             "timeUnit": "yearmonthdatehoursminutes",
             "title": null,
             "type": "temporal"
            },
            "y": {
             "field": "state",
             "sort": [
              "ParkerenKw",
              "HorizontaalOpenen",
              "Spuien",
              "Opdrijven",
              "Keren",
              "AfzinkenBodem",
              "AfzinkenCPSE",
              "HorizontaalSluiten",
              "Paraat",
              "Stremmen",
              "Alert",
              "Gemobiliseerd",
              "Rust"
             ],
             "type": "ordinal"
            }
           },
           "mark": "line",
           "selection": {
            "selector008": {
             "bind": "scales",
             "encodings": [
              "x"
             ],
             "mark": {
              "fill": "#333",
              "fillOpacity": 0.125,
              "stroke": "white"
             },
             "on": "[mousedown, window:mouseup] > window:mousemove!",
             "resolve": "global",
             "translate": "[mousedown, window:mouseup] > window:mousemove!",
             "type": "interval",
             "zoom": "wheel!"
            }
           }
          }
         ]
        }
       ]
      },
      "image/png": "[encoded data removed]",
      "text/plain": [
       "<VegaLite 2 object>\n",
       "\n",
       "If you see this message, it means the renderer has not been properly enabled\n",
       "for the frontend that you are using. For more information, see\n",
       "https://altair-viz.github.io/user_guide/troubleshooting.html\n"
      ]
     },
     "execution_count": 25,
     "metadata": {},
     "output_type": "execute_result"
    }
   ],
   "source": [
    "# render in notebook\n",
    "chart"
   ]
  },
  {
   "cell_type": "code",
   "execution_count": 26,
   "metadata": {},
   "outputs": [],
   "source": [
    "# save as png and html\n",
    "chart.save('Q3_H5_U5_D1 Normaal functioneren en faalmodus-2.png', scale_factor=4.0)\n",
    "chart.save('Q3_H5_U5_D1 Normaal functioneren en faalmodus-2.html')"
   ]
  },
  {
   "cell_type": "code",
   "execution_count": null,
   "metadata": {},
   "outputs": [],
   "source": []
  }
 ],
 "metadata": {
  "kernelspec": {
   "display_name": "Python 3",
   "language": "python",
   "name": "python3"
  },
  "language_info": {
   "codemirror_mode": {
    "name": "ipython",
    "version": 3
   },
   "file_extension": ".py",
   "mimetype": "text/x-python",
   "name": "python",
   "nbconvert_exporter": "python",
   "pygments_lexer": "ipython3",
   "version": "3.6.5"
  }
 },
 "nbformat": 4,
 "nbformat_minor": 2
}
