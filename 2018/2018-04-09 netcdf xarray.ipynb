{
 "cells": [
  {
   "cell_type": "code",
   "execution_count": 1,
   "metadata": {},
   "outputs": [],
   "source": [
    "import numpy as np\n",
    "import matplotlib.pyplot as plt\n",
    "import matplotlib.collections\n",
    "import gridded\n",
    "import xarray as xr\n",
    "import datetime\n",
    "\n",
    "from osgeo import gdal, osr\n",
    "%matplotlib inline"
   ]
  },
  {
   "cell_type": "code",
   "execution_count": 2,
   "metadata": {},
   "outputs": [],
   "source": [
    "def create_tif(destName, array, fill_value, rows, cols, top_left_x, top_left_y, x_step=0.1, y_step=0.1, rotation=0):\n",
    "    \"\"\"\n",
    "    function to create tif file\n",
    "    \"\"\"\n",
    "    \n",
    "    # Create output tiff file.\n",
    "    # driver.Create() parameters are: output path, number of columns, number of rows,\n",
    "    # number of bands, data type\n",
    "    driver = gdal.GetDriverByName(\"GTiff\")\n",
    "    out_tif = driver.Create(destName, cols, rows, 1, gdal.GDT_Float32)\n",
    "\n",
    "    # Create Spatial Reference object and set GeoTIFF projection.\n",
    "    # This information may be found in either the data documentation or the netCDF file.\n",
    "    prj = osr.SpatialReference()\n",
    "    prj.ImportFromEPSG(28992) # WGS84\n",
    "    out_tif.SetProjection(prj.ExportToWkt())\n",
    "\n",
    "    # Set GeoTransformation.\n",
    "    # This information may be found in either the data documentation, the netCDF file, or\n",
    "    # can be derived. For example, if you know the longitude range and number of columns\n",
    "    # you can calculate the x step as float(lon_range)/float(num_cols).\n",
    "    geotrans = [top_left_x,x_step,rotation,top_left_y,rotation,-y_step]\n",
    "    out_tif.SetGeoTransform(geotrans)\n",
    "\n",
    "    # Finally we can write the array to the raster band.\n",
    "    out_band = out_tif.GetRasterBand(1)    \n",
    "    out_band.SetNoDataValue(fill_value)\n",
    "    out_band.WriteArray(array)\n",
    "\n",
    "    # Clear the memory and close the output file.\n",
    "    out_tif.FlushCache()\n",
    "    out_tif = None"
   ]
  },
  {
   "cell_type": "code",
   "execution_count": 6,
   "metadata": {},
   "outputs": [
    {
     "ename": "ValueError",
     "evalue": "Node coordinates standard_name is neither \"longitude\" nor \"latitude\" ",
     "output_type": "error",
     "traceback": [
      "\u001b[1;31m---------------------------------------------------------------------------\u001b[0m",
      "\u001b[1;31mValueError\u001b[0m                                Traceback (most recent call last)",
      "\u001b[1;32m<ipython-input-6-54efec1a677e>\u001b[0m in \u001b[0;36m<module>\u001b[1;34m()\u001b[0m\n\u001b[0;32m      1\u001b[0m \u001b[0mfile_nc\u001b[0m \u001b[1;33m=\u001b[0m \u001b[1;33m(\u001b[0m\u001b[1;34mr't:\\2mattijn\\c01_harlingen\\dflowfm\\dflowfmoutput\\001_map.nc'\u001b[0m\u001b[1;33m)\u001b[0m\u001b[1;33m\u001b[0m\u001b[0m\n\u001b[1;32m----> 2\u001b[1;33m \u001b[0mds\u001b[0m \u001b[1;33m=\u001b[0m \u001b[0mgridded\u001b[0m\u001b[1;33m.\u001b[0m\u001b[0mDataset\u001b[0m\u001b[1;33m(\u001b[0m\u001b[0mfile_nc\u001b[0m\u001b[1;33m)\u001b[0m\u001b[1;33m\u001b[0m\u001b[0m\n\u001b[0m",
      "\u001b[1;32mc:\\python35\\lib\\site-packages\\gridded\\gridded.py\u001b[0m in \u001b[0;36m__init__\u001b[1;34m(self, ncfile, grid, variables, grid_topology)\u001b[0m\n\u001b[0;32m     60\u001b[0m             self.grid = Grid.from_netCDF(filename=self.filename,\n\u001b[0;32m     61\u001b[0m                                          \u001b[0mdataset\u001b[0m\u001b[1;33m=\u001b[0m\u001b[0mself\u001b[0m\u001b[1;33m.\u001b[0m\u001b[0mnc_dataset\u001b[0m\u001b[1;33m,\u001b[0m\u001b[1;33m\u001b[0m\u001b[0m\n\u001b[1;32m---> 62\u001b[1;33m                                          grid_topology=grid_topology)\n\u001b[0m\u001b[0;32m     63\u001b[0m             \u001b[0mself\u001b[0m\u001b[1;33m.\u001b[0m\u001b[0mvariables\u001b[0m \u001b[1;33m=\u001b[0m \u001b[0mself\u001b[0m\u001b[1;33m.\u001b[0m\u001b[0m_load_variables\u001b[0m\u001b[1;33m(\u001b[0m\u001b[0mself\u001b[0m\u001b[1;33m.\u001b[0m\u001b[0mnc_dataset\u001b[0m\u001b[1;33m)\u001b[0m\u001b[1;33m\u001b[0m\u001b[0m\n\u001b[0;32m     64\u001b[0m         \u001b[1;32melse\u001b[0m\u001b[1;33m:\u001b[0m  \u001b[1;31m# no file passed in -- create from grid and variables\u001b[0m\u001b[1;33m\u001b[0m\u001b[0m\n",
      "\u001b[1;32mc:\\python35\\lib\\site-packages\\gridded\\grids.py\u001b[0m in \u001b[0;36mfrom_netCDF\u001b[1;34m(filename, dataset, grid_type, grid_topology, _default_types, *args, **kwargs)\u001b[0m\n\u001b[0;32m    419\u001b[0m         \u001b[0mcompliant\u001b[0m \u001b[1;33m=\u001b[0m \u001b[0mGrid\u001b[0m\u001b[1;33m.\u001b[0m\u001b[0m_find_topology_var\u001b[0m\u001b[1;33m(\u001b[0m\u001b[1;32mNone\u001b[0m\u001b[1;33m,\u001b[0m \u001b[0mgf\u001b[0m\u001b[1;33m)\u001b[0m\u001b[1;33m\u001b[0m\u001b[0m\n\u001b[0;32m    420\u001b[0m         \u001b[1;32mif\u001b[0m \u001b[0mcompliant\u001b[0m \u001b[1;32mis\u001b[0m \u001b[1;32mnot\u001b[0m \u001b[1;32mNone\u001b[0m\u001b[1;33m:\u001b[0m\u001b[1;33m\u001b[0m\u001b[0m\n\u001b[1;32m--> 421\u001b[1;33m             \u001b[0mc\u001b[0m \u001b[1;33m=\u001b[0m \u001b[0mGrid\u001b[0m\u001b[1;33m.\u001b[0m\u001b[0m_load_grid\u001b[0m\u001b[1;33m(\u001b[0m\u001b[0mfilename\u001b[0m\u001b[1;33m,\u001b[0m \u001b[0mcls\u001b[0m\u001b[1;33m,\u001b[0m \u001b[0mdataset\u001b[0m\u001b[1;33m)\u001b[0m\u001b[1;33m\u001b[0m\u001b[0m\n\u001b[0m\u001b[0;32m    422\u001b[0m             \u001b[0mc\u001b[0m\u001b[1;33m.\u001b[0m\u001b[0mgrid_topology\u001b[0m \u001b[1;33m=\u001b[0m \u001b[0mcompliant\u001b[0m\u001b[1;33m.\u001b[0m\u001b[0m__dict__\u001b[0m\u001b[1;33m\u001b[0m\u001b[0m\n\u001b[0;32m    423\u001b[0m         \u001b[1;32melse\u001b[0m\u001b[1;33m:\u001b[0m\u001b[1;33m\u001b[0m\u001b[0m\n",
      "\u001b[1;32mc:\\python35\\lib\\site-packages\\gridded\\grids.py\u001b[0m in \u001b[0;36m_load_grid\u001b[1;34m(filename, grid_type, dataset)\u001b[0m\n\u001b[0;32m    381\u001b[0m         '''\n\u001b[0;32m    382\u001b[0m         \u001b[1;32mif\u001b[0m \u001b[0missubclass\u001b[0m\u001b[1;33m(\u001b[0m\u001b[0mgrid_type\u001b[0m\u001b[1;33m,\u001b[0m \u001b[0mUGrid\u001b[0m\u001b[1;33m)\u001b[0m\u001b[1;33m:\u001b[0m\u001b[1;33m\u001b[0m\u001b[0m\n\u001b[1;32m--> 383\u001b[1;33m             \u001b[1;32mreturn\u001b[0m \u001b[0mgrid_type\u001b[0m\u001b[1;33m.\u001b[0m\u001b[0mfrom_ncfile\u001b[0m\u001b[1;33m(\u001b[0m\u001b[0mfilename\u001b[0m\u001b[1;33m)\u001b[0m\u001b[1;33m\u001b[0m\u001b[0m\n\u001b[0m\u001b[0;32m    384\u001b[0m         \u001b[1;32melif\u001b[0m \u001b[0missubclass\u001b[0m\u001b[1;33m(\u001b[0m\u001b[0mgrid_type\u001b[0m\u001b[1;33m,\u001b[0m \u001b[0mSGrid\u001b[0m\u001b[1;33m)\u001b[0m\u001b[1;33m:\u001b[0m\u001b[1;33m\u001b[0m\u001b[0m\n\u001b[0;32m    385\u001b[0m             \u001b[0mds\u001b[0m \u001b[1;33m=\u001b[0m \u001b[0mget_dataset\u001b[0m\u001b[1;33m(\u001b[0m\u001b[0mfilename\u001b[0m\u001b[1;33m,\u001b[0m \u001b[0mdataset\u001b[0m\u001b[1;33m)\u001b[0m\u001b[1;33m\u001b[0m\u001b[0m\n",
      "\u001b[1;32mc:\\python35\\lib\\site-packages\\gridded\\pyugrid\\ugrid.py\u001b[0m in \u001b[0;36mfrom_ncfile\u001b[1;34m(klass, nc_url, mesh_name, load_data)\u001b[0m\n\u001b[0;32m    159\u001b[0m         \u001b[0mgrid\u001b[0m \u001b[1;33m=\u001b[0m \u001b[0mklass\u001b[0m\u001b[1;33m(\u001b[0m\u001b[1;33m)\u001b[0m\u001b[1;33m\u001b[0m\u001b[0m\n\u001b[0;32m    160\u001b[0m         read_netcdf.load_grid_from_ncfilename(nc_url, grid,\n\u001b[1;32m--> 161\u001b[1;33m                                               mesh_name, load_data)\n\u001b[0m\u001b[0;32m    162\u001b[0m         \u001b[1;32mreturn\u001b[0m \u001b[0mgrid\u001b[0m\u001b[1;33m\u001b[0m\u001b[0m\n\u001b[0;32m    163\u001b[0m \u001b[1;33m\u001b[0m\u001b[0m\n",
      "\u001b[1;32mc:\\python35\\lib\\site-packages\\gridded\\pyugrid\\read_netcdf.py\u001b[0m in \u001b[0;36mload_grid_from_ncfilename\u001b[1;34m(filename, grid, mesh_name, load_data)\u001b[0m\n\u001b[0;32m    308\u001b[0m \u001b[1;33m\u001b[0m\u001b[0m\n\u001b[0;32m    309\u001b[0m     \u001b[1;32mwith\u001b[0m \u001b[0mnetCDF4\u001b[0m\u001b[1;33m.\u001b[0m\u001b[0mDataset\u001b[0m\u001b[1;33m(\u001b[0m\u001b[0mfilename\u001b[0m\u001b[1;33m,\u001b[0m \u001b[1;34m'r'\u001b[0m\u001b[1;33m)\u001b[0m \u001b[1;32mas\u001b[0m \u001b[0mnc\u001b[0m\u001b[1;33m:\u001b[0m\u001b[1;33m\u001b[0m\u001b[0m\n\u001b[1;32m--> 310\u001b[1;33m         \u001b[0mload_grid_from_nc_dataset\u001b[0m\u001b[1;33m(\u001b[0m\u001b[0mnc\u001b[0m\u001b[1;33m,\u001b[0m \u001b[0mgrid\u001b[0m\u001b[1;33m,\u001b[0m \u001b[0mmesh_name\u001b[0m\u001b[1;33m,\u001b[0m \u001b[0mload_data\u001b[0m\u001b[1;33m)\u001b[0m\u001b[1;33m\u001b[0m\u001b[0m\n\u001b[0m",
      "\u001b[1;32mc:\\python35\\lib\\site-packages\\gridded\\pyugrid\\read_netcdf.py\u001b[0m in \u001b[0;36mload_grid_from_nc_dataset\u001b[1;34m(nc, grid, mesh_name, load_data)\u001b[0m\n\u001b[0;32m    224\u001b[0m                 \u001b[0mnodes\u001b[0m\u001b[1;33m[\u001b[0m\u001b[1;33m:\u001b[0m\u001b[1;33m,\u001b[0m \u001b[1;36m0\u001b[0m\u001b[1;33m]\u001b[0m \u001b[1;33m=\u001b[0m \u001b[0mvar\u001b[0m\u001b[1;33m[\u001b[0m\u001b[1;33m:\u001b[0m\u001b[1;33m]\u001b[0m\u001b[1;33m\u001b[0m\u001b[0m\n\u001b[0;32m    225\u001b[0m             \u001b[1;32melse\u001b[0m\u001b[1;33m:\u001b[0m\u001b[1;33m\u001b[0m\u001b[0m\n\u001b[1;32m--> 226\u001b[1;33m                 raise ValueError('Node coordinates standard_name is neither '\n\u001b[0m\u001b[0;32m    227\u001b[0m                                  '\"longitude\" nor \"latitude\" ')\n\u001b[0;32m    228\u001b[0m         \u001b[0msetattr\u001b[0m\u001b[1;33m(\u001b[0m\u001b[0mgrid\u001b[0m\u001b[1;33m,\u001b[0m \u001b[0mdefs\u001b[0m\u001b[1;33m[\u001b[0m\u001b[1;34m'grid_attr'\u001b[0m\u001b[1;33m]\u001b[0m\u001b[1;33m,\u001b[0m \u001b[0mnodes\u001b[0m\u001b[1;33m)\u001b[0m\u001b[1;33m\u001b[0m\u001b[0m\n",
      "\u001b[1;31mValueError\u001b[0m: Node coordinates standard_name is neither \"longitude\" nor \"latitude\" "
     ]
    }
   ],
   "source": [
    "file_nc = (r't:\\2mattijn\\c01_harlingen\\dflowfm\\dflowfmoutput\\001_map.nc')\n",
    "ds = gridded.Dataset(file_nc)"
   ]
  },
  {
   "cell_type": "code",
   "execution_count": 8,
   "metadata": {},
   "outputs": [
    {
     "ename": "ValueError",
     "evalue": "You can create a Dataset from a file, or from raw databut not both.",
     "output_type": "error",
     "traceback": [
      "\u001b[1;31m---------------------------------------------------------------------------\u001b[0m",
      "\u001b[1;31mValueError\u001b[0m                                Traceback (most recent call last)",
      "\u001b[1;32m<ipython-input-8-8d41f3371154>\u001b[0m in \u001b[0;36m<module>\u001b[1;34m()\u001b[0m\n\u001b[0;32m      1\u001b[0m gridded.Dataset(file_nc, variables={\"longitude\": \"mesh2d_node_x\",\n\u001b[1;32m----> 2\u001b[1;33m                                     \u001b[1;34m\"latitude\"\u001b[0m\u001b[1;33m:\u001b[0m\u001b[1;34m\"mesh2_nodex_y\"\u001b[0m\u001b[1;33m\u001b[0m\u001b[0m\n\u001b[0m\u001b[0;32m      3\u001b[0m                                    })\n",
      "\u001b[1;32mc:\\python35\\lib\\site-packages\\gridded\\gridded.py\u001b[0m in \u001b[0;36m__init__\u001b[1;34m(self, ncfile, grid, variables, grid_topology)\u001b[0m\n\u001b[0;32m     54\u001b[0m         \u001b[1;32mif\u001b[0m \u001b[0mncfile\u001b[0m \u001b[1;32mis\u001b[0m \u001b[1;32mnot\u001b[0m \u001b[1;32mNone\u001b[0m\u001b[1;33m:\u001b[0m\u001b[1;33m\u001b[0m\u001b[0m\n\u001b[0;32m     55\u001b[0m             \u001b[1;32mif\u001b[0m \u001b[1;33m(\u001b[0m\u001b[0mgrid\u001b[0m \u001b[1;32mis\u001b[0m \u001b[1;32mnot\u001b[0m \u001b[1;32mNone\u001b[0m \u001b[1;32mor\u001b[0m \u001b[0mvariables\u001b[0m \u001b[1;32mis\u001b[0m \u001b[1;32mnot\u001b[0m \u001b[1;32mNone\u001b[0m \u001b[1;32mor\u001b[0m \u001b[0mgrid_topology\u001b[0m \u001b[1;32mis\u001b[0m \u001b[1;32mnot\u001b[0m \u001b[1;32mNone\u001b[0m\u001b[1;33m)\u001b[0m\u001b[1;33m:\u001b[0m\u001b[1;33m\u001b[0m\u001b[0m\n\u001b[1;32m---> 56\u001b[1;33m                 raise ValueError(\"You can create a Dataset from a file, or from raw data\"\n\u001b[0m\u001b[0;32m     57\u001b[0m                                  \"but not both.\")\n\u001b[0;32m     58\u001b[0m             \u001b[0mself\u001b[0m\u001b[1;33m.\u001b[0m\u001b[0mnc_dataset\u001b[0m \u001b[1;33m=\u001b[0m \u001b[0mget_dataset\u001b[0m\u001b[1;33m(\u001b[0m\u001b[0mncfile\u001b[0m\u001b[1;33m)\u001b[0m\u001b[1;33m\u001b[0m\u001b[0m\n",
      "\u001b[1;31mValueError\u001b[0m: You can create a Dataset from a file, or from raw databut not both."
     ]
    }
   ],
   "source": [
    "gridded.Dataset(file_nc, variables={\"longitude\": \"mesh2d_node_x\",\n",
    "                                    \"latitude\":\"mesh2_nodex_y\"\n",
    "                                   })"
   ]
  },
  {
   "cell_type": "code",
   "execution_count": 6,
   "metadata": {},
   "outputs": [
    {
     "name": "stdout",
     "output_type": "stream",
     "text": [
      "Variables available and their standard names:\n",
      "\n"
     ]
    },
    {
     "ename": "AttributeError",
     "evalue": "'Grid_R' object has no attribute 'variables'",
     "output_type": "error",
     "traceback": [
      "\u001b[1;31m---------------------------------------------------------------------------\u001b[0m",
      "\u001b[1;31mAttributeError\u001b[0m                            Traceback (most recent call last)",
      "\u001b[1;32m<ipython-input-6-a184415ca579>\u001b[0m in \u001b[0;36m<module>\u001b[1;34m()\u001b[0m\n\u001b[0;32m      1\u001b[0m \u001b[1;31m# what variables are there\"\u001b[0m\u001b[1;33m\u001b[0m\u001b[1;33m\u001b[0m\u001b[0m\n\u001b[0;32m      2\u001b[0m \u001b[0mprint\u001b[0m\u001b[1;33m(\u001b[0m\u001b[1;34m\"Variables available and their standard names:\\n\"\u001b[0m\u001b[1;33m)\u001b[0m\u001b[1;33m\u001b[0m\u001b[0m\n\u001b[1;32m----> 3\u001b[1;33m \u001b[1;32mfor\u001b[0m \u001b[0mname\u001b[0m\u001b[1;33m,\u001b[0m \u001b[0mvar\u001b[0m \u001b[1;32min\u001b[0m \u001b[0mds\u001b[0m\u001b[1;33m.\u001b[0m\u001b[0mvariables\u001b[0m\u001b[1;33m.\u001b[0m\u001b[0mitems\u001b[0m\u001b[1;33m(\u001b[0m\u001b[1;33m)\u001b[0m\u001b[1;33m:\u001b[0m\u001b[1;33m\u001b[0m\u001b[0m\n\u001b[0m\u001b[0;32m      4\u001b[0m     \u001b[1;32mtry\u001b[0m\u001b[1;33m:\u001b[0m\u001b[1;33m\u001b[0m\u001b[0m\n\u001b[0;32m      5\u001b[0m         \u001b[0mprint\u001b[0m\u001b[1;33m(\u001b[0m\u001b[0mname\u001b[0m\u001b[1;33m,\u001b[0m \u001b[1;34m\":\"\u001b[0m\u001b[1;33m,\u001b[0m \u001b[0mvar\u001b[0m\u001b[1;33m.\u001b[0m\u001b[0mattributes\u001b[0m\u001b[1;33m[\u001b[0m\u001b[1;34m'standard_name'\u001b[0m\u001b[1;33m]\u001b[0m\u001b[1;33m)\u001b[0m\u001b[1;33m\u001b[0m\u001b[0m\n",
      "\u001b[1;31mAttributeError\u001b[0m: 'Grid_R' object has no attribute 'variables'"
     ]
    }
   ],
   "source": [
    "# what variables are there\"\n",
    "print(\"Variables available and their standard names:\\n\")\n",
    "for name, var in ds.variables.items():\n",
    "    try:\n",
    "        print(name, \":\", var.attributes['standard_name'])\n",
    "    except KeyError:\n",
    "        pass"
   ]
  },
  {
   "cell_type": "code",
   "execution_count": 5,
   "metadata": {},
   "outputs": [
    {
     "data": {
      "text/plain": [
       "<xarray.Dataset>\n",
       "Dimensions:                      (Two: 2, max_nmesh2d_face_nodes: 5, nmesh2d_edge: 29441, nmesh2d_face: 16597, nmesh2d_node: 12845, time: 2)\n",
       "Coordinates:\n",
       "    mesh2d_node_x                (nmesh2d_node) float64 ...\n",
       "    mesh2d_node_y                (nmesh2d_node) float64 ...\n",
       "    mesh2d_edge_x                (nmesh2d_edge) float64 ...\n",
       "    mesh2d_edge_y                (nmesh2d_edge) float64 ...\n",
       "    mesh2d_face_x                (nmesh2d_face) float64 ...\n",
       "    mesh2d_face_y                (nmesh2d_face) float64 ...\n",
       "  * time                         (time) datetime64[ns] 2008-01-19T12:00:00 ...\n",
       "Dimensions without coordinates: Two, max_nmesh2d_face_nodes, nmesh2d_edge, nmesh2d_face, nmesh2d_node\n",
       "Data variables:\n",
       "    mesh2d                       int32 ...\n",
       "    projected_coordinate_system  int32 ...\n",
       "    mesh2d_node_z                (nmesh2d_node) float64 ...\n",
       "    mesh2d_edge_nodes            (nmesh2d_edge, Two) float64 ...\n",
       "    mesh2d_edge_x_bnd            (nmesh2d_edge, Two) float64 ...\n",
       "    mesh2d_edge_y_bnd            (nmesh2d_edge, Two) float64 ...\n",
       "    mesh2d_face_nodes            (nmesh2d_face, max_nmesh2d_face_nodes) float64 ...\n",
       "    mesh2d_edge_faces            (nmesh2d_edge, Two) float64 ...\n",
       "    mesh2d_face_x_bnd            (nmesh2d_face, max_nmesh2d_face_nodes) float64 ...\n",
       "    mesh2d_face_y_bnd            (nmesh2d_face, max_nmesh2d_face_nodes) float64 ...\n",
       "    mesh2d_edge_type             (nmesh2d_edge) float64 ...\n",
       "    mesh2d_flowelem_ba           (nmesh2d_face) float64 ...\n",
       "    mesh2d_flowelem_bl           (nmesh2d_face) float64 ...\n",
       "    timestep                     (time) float64 ...\n",
       "    mesh2d_Numlimdt              (time, nmesh2d_face) float64 ...\n",
       "    mesh2d_s1                    (time, nmesh2d_face) float64 ...\n",
       "    mesh2d_waterdepth            (time, nmesh2d_face) float64 ...\n",
       "    mesh2d_s0                    (time, nmesh2d_face) float64 ...\n",
       "    mesh2d_hu                    (time, nmesh2d_edge) float64 ...\n",
       "    mesh2d_u1                    (time, nmesh2d_edge) float64 ...\n",
       "    mesh2d_u0                    (time, nmesh2d_edge) float64 ...\n",
       "    mesh2d_ucx                   (time, nmesh2d_face) float64 ...\n",
       "    mesh2d_ucy                   (time, nmesh2d_face) float64 ...\n",
       "    mesh2d_ucmag                 (time, nmesh2d_face) float64 ...\n",
       "    mesh2d_ucxq                  (time, nmesh2d_face) float64 ...\n",
       "    mesh2d_ucyq                  (time, nmesh2d_face) float64 ...\n",
       "    mesh2d_q1                    (time, nmesh2d_edge) float64 ...\n",
       "    mesh2d_viu                   (time, nmesh2d_edge) float64 ...\n",
       "    mesh2d_diu                   (time, nmesh2d_edge) float64 ...\n",
       "    mesh2d_taus                  (time, nmesh2d_face) float64 ...\n",
       "    mesh2d_czs                   (time, nmesh2d_face) float64 ...\n",
       "    mesh2d_sa1                   (time, nmesh2d_face) float64 ...\n",
       "Attributes:\n",
       "    institution:    Deltares\n",
       "    references:     http://www.deltares.nl\n",
       "    source:         D-Flow FM 1.1.272.54187M. Model:\n",
       "    history:        Created on 2018-04-06T09:04:06+0200, D-Flow FM\n",
       "    date_created:   2018-04-06T09:04:06+0200\n",
       "    date_modified:  2018-04-06T09:04:06+0200\n",
       "    Conventions:    CF-1.6 UGRID-1.0/Deltares-0.8"
      ]
     },
     "execution_count": 5,
     "metadata": {},
     "output_type": "execute_result"
    }
   ],
   "source": [
    "ds = xr.open_dataset(url)\n",
    "ds"
   ]
  },
  {
   "cell_type": "code",
   "execution_count": null,
   "metadata": {},
   "outputs": [],
   "source": [
    "sec_arr = np.array(ds.timestamp[:])"
   ]
  },
  {
   "cell_type": "code",
   "execution_count": null,
   "metadata": {},
   "outputs": [],
   "source": [
    "[datetime.datetime.fromtimestamp(sec) for sec in sec_arr]"
   ]
  },
  {
   "cell_type": "code",
   "execution_count": null,
   "metadata": {},
   "outputs": [],
   "source": [
    "xgrid = np.array(ds.xgrid[0])"
   ]
  },
  {
   "cell_type": "code",
   "execution_count": null,
   "metadata": {},
   "outputs": [],
   "source": [
    "xgrid"
   ]
  },
  {
   "cell_type": "code",
   "execution_count": null,
   "metadata": {},
   "outputs": [],
   "source": [
    "ygrid_ = np.array(ds.ygrid[:])"
   ]
  },
  {
   "cell_type": "code",
   "execution_count": null,
   "metadata": {},
   "outputs": [],
   "source": [
    "ygrid = ygrid_[:,0]"
   ]
  },
  {
   "cell_type": "code",
   "execution_count": null,
   "metadata": {},
   "outputs": [],
   "source": [
    "ygrid.shape, xgrid.shape"
   ]
  },
  {
   "cell_type": "code",
   "execution_count": null,
   "metadata": {},
   "outputs": [],
   "source": [
    "# ygrid = np.array(ds.ygrid[:,0])"
   ]
  },
  {
   "cell_type": "code",
   "execution_count": null,
   "metadata": {},
   "outputs": [],
   "source": [
    "y, x = np.meshgrid(ygrid, xgrid)"
   ]
  },
  {
   "cell_type": "code",
   "execution_count": null,
   "metadata": {},
   "outputs": [],
   "source": [
    "# ds.dune_beach.attrs"
   ]
  },
  {
   "cell_type": "code",
   "execution_count": null,
   "metadata": {},
   "outputs": [],
   "source": [
    "z = np.array(ds.zgrid_interpolated[0])"
   ]
  },
  {
   "cell_type": "code",
   "execution_count": null,
   "metadata": {},
   "outputs": [],
   "source": [
    "z.shape"
   ]
  },
  {
   "cell_type": "code",
   "execution_count": null,
   "metadata": {},
   "outputs": [],
   "source": [
    "fill_value = z[0][0]"
   ]
  },
  {
   "cell_type": "code",
   "execution_count": null,
   "metadata": {},
   "outputs": [],
   "source": [
    "plt.imshow(z)\n",
    "plt.show()"
   ]
  },
  {
   "cell_type": "code",
   "execution_count": null,
   "metadata": {},
   "outputs": [],
   "source": [
    "xgrid"
   ]
  },
  {
   "cell_type": "code",
   "execution_count": null,
   "metadata": {},
   "outputs": [],
   "source": [
    "ygrid"
   ]
  },
  {
   "cell_type": "code",
   "execution_count": null,
   "metadata": {},
   "outputs": [],
   "source": [
    "fig, ax = plt.subplots()\n",
    "graph = ax.pcolorfast(xgrid, ygrid, z, cmap='viridis')\n",
    "plt.colorbar(graph)\n",
    "plt.show()"
   ]
  },
  {
   "cell_type": "code",
   "execution_count": null,
   "metadata": {},
   "outputs": [],
   "source": [
    "create_tif(destName=r'D:\\Projects\\RO\\netcdf_WB//zgrid_interpolated_2015050240200_v2.tif', array=z,\n",
    "           fill_value=fill_value.astype(float), rows=ygrid.shape[0], cols=xgrid.shape[0], top_left_x=xgrid[0], \n",
    "           top_left_y=ygrid[0], x_step=0.5, y_step=0.5)"
   ]
  },
  {
   "cell_type": "code",
   "execution_count": null,
   "metadata": {},
   "outputs": [],
   "source": []
  }
 ],
 "metadata": {
  "kernelspec": {
   "display_name": "Python 3",
   "language": "python",
   "name": "python3"
  },
  "language_info": {
   "codemirror_mode": {
    "name": "ipython",
    "version": 3
   },
   "file_extension": ".py",
   "mimetype": "text/x-python",
   "name": "python",
   "nbconvert_exporter": "python",
   "pygments_lexer": "ipython3",
   "version": "3.5.2"
  }
 },
 "nbformat": 4,
 "nbformat_minor": 2
}
