{
 "cells": [
  {
   "cell_type": "code",
   "execution_count": 1,
   "metadata": {},
   "outputs": [],
   "source": [
    "from rasterstats import zonal_stats\n",
    "from osgeo import gdal\n",
    "import geopandas as gpd\n",
    "import pandas as pd\n",
    "import matplotlib.pyplot as plt\n",
    "import matplotlib as mpl\n",
    "import numpy as np\n",
    "import glob\n",
    "from tqdm import tqdm\n",
    "import os\n",
    "import datetime\n",
    "%matplotlib inline"
   ]
  },
  {
   "cell_type": "code",
   "execution_count": 2,
   "metadata": {},
   "outputs": [],
   "source": [
    "shp_in = r'D:\\Projects\\RO\\DataChallenge2018\\shape\\peilvakken_WRSL_neerslag_mmWGS84.shp'\n",
    "png_out = r'D:\\Projects\\RO\\DataChallenge2018\\png_out\\precip'"
   ]
  },
  {
   "cell_type": "code",
   "execution_count": 3,
   "metadata": {},
   "outputs": [],
   "source": [
    "tifs_in_dir = r'D:\\Projects\\RO\\DataChallenge2018\\P\\P'"
   ]
  },
  {
   "cell_type": "code",
   "execution_count": 4,
   "metadata": {},
   "outputs": [],
   "source": [
    "gdf = gpd.read_file(shp_in)"
   ]
  },
  {
   "cell_type": "code",
   "execution_count": 5,
   "metadata": {},
   "outputs": [
    {
     "data": {
      "text/plain": [
       "array([  0,   1,   2,   3,   4,   5,   6,   7,   8,   9,  10,  11,  12,\n",
       "        13,  14,  15,  16,  17,  18,  19,  20,  21,  22,  23,  24,  25,\n",
       "        26,  27,  28,  29,  30,  31,  32,  33,  34,  35,  36,  37,  38,\n",
       "        39,  40,  41,  42,  43,  44,  45,  46,  47,  48,  49,  50,  51,\n",
       "        53,  54,  55,  56,  57,  58,  59,  60,  61,  62,  63,  64,  65,\n",
       "        66,  67,  68,  69,  70,  71,  72,  73,  74,  75,  76,  77,  78,\n",
       "        79,  80,  81,  82,  83,  84,  85,  86,  87,  88,  89,  90,  91,\n",
       "        92,  93,  94,  95,  96,  97,  98,  99, 100, 101, 102, 103, 104,\n",
       "       105, 106, 107, 108, 109, 110, 111, 112, 113, 114, 115, 116, 117,\n",
       "       118, 119, 120, 121, 122, 123, 124, 125, 126, 127, 128, 129, 130,\n",
       "       131, 132, 133, 134, 135, 136, 137, 138, 139, 140, 141, 142, 143,\n",
       "       144, 145, 146, 147, 148, 149,  52, 150], dtype=int64)"
      ]
     },
     "execution_count": 5,
     "metadata": {},
     "output_type": "execute_result"
    }
   ],
   "source": [
    "gdf['ID'].values"
   ]
  },
  {
   "cell_type": "code",
   "execution_count": 6,
   "metadata": {},
   "outputs": [],
   "source": [
    "tif_files = glob.glob(tifs_in_dir + '//*.tif')"
   ]
  },
  {
   "cell_type": "code",
   "execution_count": 7,
   "metadata": {},
   "outputs": [
    {
     "data": {
      "text/plain": [
       "'19700101'"
      ]
     },
     "execution_count": 7,
     "metadata": {},
     "output_type": "execute_result"
    }
   ],
   "source": [
    "os.path.basename(tif_files[0])[0:8]"
   ]
  },
  {
   "cell_type": "code",
   "execution_count": null,
   "metadata": {},
   "outputs": [],
   "source": []
  },
  {
   "cell_type": "code",
   "execution_count": 16,
   "metadata": {},
   "outputs": [
    {
     "name": "stderr",
     "output_type": "stream",
     "text": [
      "  0%|                                                | 0/16801 [00:00<?, ?it/s]c:\\python35\\lib\\site-packages\\rasterio\\windows.py:483: RasterioDeprecationWarning: use 'width' attribute instead\n",
      "  RasterioDeprecationWarning)\n",
      "c:\\python35\\lib\\site-packages\\rasterstats\\io.py:303: RasterioDeprecationWarning: use 'height' attribute instead\n",
      "  self.band, window=win, boundless=True, masked=masked)\n",
      "c:\\python35\\lib\\site-packages\\rasterstats\\main.py:165: FutureWarning: Conversion of the second argument of issubdtype from `float` to `np.floating` is deprecated. In future, it will be treated as `np.float64 == np.dtype(float).type`.\n",
      "  np.issubdtype(fsrc.array.dtype, float)\n",
      "100%|██████████████████████████████████| 16801/16801 [3:19:04<00:00,  1.41it/s]\n"
     ]
    }
   ],
   "source": [
    "# init datetime\n",
    "df_in = pd.DataFrame(columns = gdf['ID'])\n",
    "for tif_in in tqdm(tif_files):\n",
    "    # get date from file\n",
    "    # RADAR\n",
    "    #date_in = os.path.basename(tif_in)[-19:-7]\n",
    "    #date_format = datetime.datetime.strptime(date_in, '%Y%m%d%H%M')\n",
    "    # Interpolated station data\n",
    "    date_in = os.path.basename(tif_in)[0:8]\n",
    "    date_format = datetime.datetime.strptime(date_in, '%Y%m%d')\n",
    "    #print(date_format)\n",
    "    # collect mean zonal stats\n",
    "    stat_list = []\n",
    "    stats = zonal_stats(shp_in, tif_in, stats=['mean'], all_touched=True)    \n",
    "    for feature in stats:\n",
    "        stat_list.append(feature['mean'])    \n",
    "    \n",
    "    gdf.loc[:,'agg_stat'] = stat_list\n",
    "    gdf.loc[:,'agg_stat']# *= 0.01\n",
    "    \n",
    "#     # plot using matplotlib\n",
    "#     cmap = mpl.cm.viridis_r#cool\n",
    "#     norm = mpl.colors.Normalize(vmin=0, vmax=8)    \n",
    "    \n",
    "#     # save figure to file\n",
    "#     fig = plt.figure()\n",
    "#     plt.gca().set_aspect('equal')\n",
    "#     ax = plt.gca()\n",
    "#     feat = gdf.plot('agg_stat', vmin=0, vmax= 8, ax=ax, cmap=cmap, norm=norm, legend=True, )\n",
    "#     plt.text(130500,425000,date_format.strftime('%d %B %Y - %H:%M'), size=8)\n",
    "#     plt.savefig(os.path.join(png_out,'datum_{}.png'.format(date_format.strftime('%Y%m%d%H%M'))))    \n",
    "#     plt.close(fig)\n",
    "    \n",
    "    df_in.loc[date_format,:] = gdf['agg_stat'].values"
   ]
  },
  {
   "cell_type": "code",
   "execution_count": 15,
   "metadata": {},
   "outputs": [
    {
     "data": {
      "text/html": [
       "<div>\n",
       "<style scoped>\n",
       "    .dataframe tbody tr th:only-of-type {\n",
       "        vertical-align: middle;\n",
       "    }\n",
       "\n",
       "    .dataframe tbody tr th {\n",
       "        vertical-align: top;\n",
       "    }\n",
       "\n",
       "    .dataframe thead th {\n",
       "        text-align: right;\n",
       "    }\n",
       "</style>\n",
       "<table border=\"1\" class=\"dataframe\">\n",
       "  <thead>\n",
       "    <tr style=\"text-align: right;\">\n",
       "      <th>ID</th>\n",
       "      <th>0</th>\n",
       "      <th>1</th>\n",
       "      <th>2</th>\n",
       "      <th>3</th>\n",
       "      <th>4</th>\n",
       "      <th>5</th>\n",
       "      <th>6</th>\n",
       "      <th>7</th>\n",
       "      <th>8</th>\n",
       "      <th>9</th>\n",
       "      <th>...</th>\n",
       "      <th>142</th>\n",
       "      <th>143</th>\n",
       "      <th>144</th>\n",
       "      <th>145</th>\n",
       "      <th>146</th>\n",
       "      <th>147</th>\n",
       "      <th>148</th>\n",
       "      <th>149</th>\n",
       "      <th>52</th>\n",
       "      <th>150</th>\n",
       "    </tr>\n",
       "  </thead>\n",
       "  <tbody>\n",
       "    <tr>\n",
       "      <th>1970-01-01</th>\n",
       "      <td>0</td>\n",
       "      <td>0</td>\n",
       "      <td>0</td>\n",
       "      <td>0</td>\n",
       "      <td>0</td>\n",
       "      <td>0</td>\n",
       "      <td>0</td>\n",
       "      <td>0</td>\n",
       "      <td>0</td>\n",
       "      <td>0.049025</td>\n",
       "      <td>...</td>\n",
       "      <td>0.218513</td>\n",
       "      <td>0.132786</td>\n",
       "      <td>0</td>\n",
       "      <td>0</td>\n",
       "      <td>0</td>\n",
       "      <td>0.03922</td>\n",
       "      <td>0</td>\n",
       "      <td>0</td>\n",
       "      <td>0</td>\n",
       "      <td>0</td>\n",
       "    </tr>\n",
       "    <tr>\n",
       "      <th>1970-01-02</th>\n",
       "      <td>7.72069</td>\n",
       "      <td>7.40827</td>\n",
       "      <td>7.72034</td>\n",
       "      <td>6.97995</td>\n",
       "      <td>7.66304</td>\n",
       "      <td>7.58037</td>\n",
       "      <td>7.8899</td>\n",
       "      <td>8.02587</td>\n",
       "      <td>7.31545</td>\n",
       "      <td>7.31487</td>\n",
       "      <td>...</td>\n",
       "      <td>6.82801</td>\n",
       "      <td>6.65112</td>\n",
       "      <td>7.46221</td>\n",
       "      <td>7.4676</td>\n",
       "      <td>7.68208</td>\n",
       "      <td>7.47011</td>\n",
       "      <td>7.00734</td>\n",
       "      <td>6.58432</td>\n",
       "      <td>6.57213</td>\n",
       "      <td>7.40968</td>\n",
       "    </tr>\n",
       "    <tr>\n",
       "      <th>1970-01-03</th>\n",
       "      <td>0.618453</td>\n",
       "      <td>0.543242</td>\n",
       "      <td>0.47479</td>\n",
       "      <td>0.389135</td>\n",
       "      <td>0.375575</td>\n",
       "      <td>0.58833</td>\n",
       "      <td>0.402997</td>\n",
       "      <td>0.645396</td>\n",
       "      <td>0.584991</td>\n",
       "      <td>0.456914</td>\n",
       "      <td>...</td>\n",
       "      <td>0.642166</td>\n",
       "      <td>0.530801</td>\n",
       "      <td>0.350884</td>\n",
       "      <td>0.489185</td>\n",
       "      <td>0.479979</td>\n",
       "      <td>0.427684</td>\n",
       "      <td>0.367463</td>\n",
       "      <td>0.729274</td>\n",
       "      <td>0.729419</td>\n",
       "      <td>0.374553</td>\n",
       "    </tr>\n",
       "    <tr>\n",
       "      <th>1970-01-04</th>\n",
       "      <td>0</td>\n",
       "      <td>0</td>\n",
       "      <td>0</td>\n",
       "      <td>0</td>\n",
       "      <td>0</td>\n",
       "      <td>0</td>\n",
       "      <td>0</td>\n",
       "      <td>0</td>\n",
       "      <td>0</td>\n",
       "      <td>0</td>\n",
       "      <td>...</td>\n",
       "      <td>0</td>\n",
       "      <td>0</td>\n",
       "      <td>0</td>\n",
       "      <td>0</td>\n",
       "      <td>0</td>\n",
       "      <td>0</td>\n",
       "      <td>0</td>\n",
       "      <td>0</td>\n",
       "      <td>0</td>\n",
       "      <td>0</td>\n",
       "    </tr>\n",
       "    <tr>\n",
       "      <th>1970-01-05</th>\n",
       "      <td>1.47538</td>\n",
       "      <td>1.15919</td>\n",
       "      <td>2.2919</td>\n",
       "      <td>2.79517</td>\n",
       "      <td>2.63762</td>\n",
       "      <td>1.285</td>\n",
       "      <td>2.22741</td>\n",
       "      <td>1.60111</td>\n",
       "      <td>1.06934</td>\n",
       "      <td>2.32964</td>\n",
       "      <td>...</td>\n",
       "      <td>1.95151</td>\n",
       "      <td>0.857498</td>\n",
       "      <td>2.80618</td>\n",
       "      <td>1.26626</td>\n",
       "      <td>2.28496</td>\n",
       "      <td>2.3715</td>\n",
       "      <td>2.88323</td>\n",
       "      <td>1.39741</td>\n",
       "      <td>1.32921</td>\n",
       "      <td>2.74217</td>\n",
       "    </tr>\n",
       "  </tbody>\n",
       "</table>\n",
       "<p>5 rows × 151 columns</p>\n",
       "</div>"
      ],
      "text/plain": [
       "ID               0         1        2         3         4        5    \\\n",
       "1970-01-01         0         0        0         0         0        0   \n",
       "1970-01-02   7.72069   7.40827  7.72034   6.97995   7.66304  7.58037   \n",
       "1970-01-03  0.618453  0.543242  0.47479  0.389135  0.375575  0.58833   \n",
       "1970-01-04         0         0        0         0         0        0   \n",
       "1970-01-05   1.47538   1.15919   2.2919   2.79517   2.63762    1.285   \n",
       "\n",
       "ID               6         7         8         9      ...          142  \\\n",
       "1970-01-01         0         0         0  0.049025    ...     0.218513   \n",
       "1970-01-02    7.8899   8.02587   7.31545   7.31487    ...      6.82801   \n",
       "1970-01-03  0.402997  0.645396  0.584991  0.456914    ...     0.642166   \n",
       "1970-01-04         0         0         0         0    ...            0   \n",
       "1970-01-05   2.22741   1.60111   1.06934   2.32964    ...      1.95151   \n",
       "\n",
       "ID               143       144       145       146       147       148  \\\n",
       "1970-01-01  0.132786         0         0         0   0.03922         0   \n",
       "1970-01-02   6.65112   7.46221    7.4676   7.68208   7.47011   7.00734   \n",
       "1970-01-03  0.530801  0.350884  0.489185  0.479979  0.427684  0.367463   \n",
       "1970-01-04         0         0         0         0         0         0   \n",
       "1970-01-05  0.857498   2.80618   1.26626   2.28496    2.3715   2.88323   \n",
       "\n",
       "ID               149       52        150  \n",
       "1970-01-01         0         0         0  \n",
       "1970-01-02   6.58432   6.57213   7.40968  \n",
       "1970-01-03  0.729274  0.729419  0.374553  \n",
       "1970-01-04         0         0         0  \n",
       "1970-01-05   1.39741   1.32921   2.74217  \n",
       "\n",
       "[5 rows x 151 columns]"
      ]
     },
     "execution_count": 15,
     "metadata": {},
     "output_type": "execute_result"
    }
   ],
   "source": [
    "df_in.head()"
   ]
  },
  {
   "cell_type": "code",
   "execution_count": 17,
   "metadata": {},
   "outputs": [],
   "source": [
    "df_in.to_csv(r'P:\\RO\\0815.10\\Werkmap\\Mattijn\\neerslag//2018-05-04-agg_peilvakv.csv')"
   ]
  },
  {
   "cell_type": "code",
   "execution_count": null,
   "metadata": {},
   "outputs": [],
   "source": []
  },
  {
   "cell_type": "code",
   "execution_count": null,
   "metadata": {},
   "outputs": [],
   "source": [
    "gdf[['ID','agg_stat']].T"
   ]
  },
  {
   "cell_type": "code",
   "execution_count": null,
   "metadata": {},
   "outputs": [],
   "source": [
    "stats = zonal_stats(shp_in, tif_in, stats=['mean'], all_touched=True)"
   ]
  },
  {
   "cell_type": "code",
   "execution_count": null,
   "metadata": {},
   "outputs": [],
   "source": []
  },
  {
   "cell_type": "code",
   "execution_count": null,
   "metadata": {},
   "outputs": [],
   "source": []
  },
  {
   "cell_type": "code",
   "execution_count": null,
   "metadata": {
    "scrolled": false
   },
   "outputs": [],
   "source": []
  },
  {
   "cell_type": "code",
   "execution_count": null,
   "metadata": {},
   "outputs": [],
   "source": [
    "gdf.loc[:,'agg_stat'] = stat_list\n",
    "gdf.loc[:,'agg_stat'] *= 0.01"
   ]
  },
  {
   "cell_type": "code",
   "execution_count": null,
   "metadata": {},
   "outputs": [],
   "source": []
  },
  {
   "cell_type": "code",
   "execution_count": null,
   "metadata": {},
   "outputs": [],
   "source": [
    "\n",
    "plt.figure()\n",
    "plt.gca().set_aspect('equal')\n",
    "ax = plt.gca()\n",
    "feat = gdf.plot('agg_stat', vmin=0, vmax= 8, ax=ax, cmap=cmap, norm=norm, legend=True, )\n",
    "plt.text(130500,425000,date_format.strftime('%d %B %Y - %H:%M'), size=8)\n",
    "plt.savefig()"
   ]
  },
  {
   "cell_type": "code",
   "execution_count": null,
   "metadata": {},
   "outputs": [],
   "source": []
  },
  {
   "cell_type": "code",
   "execution_count": null,
   "metadata": {},
   "outputs": [],
   "source": []
  }
 ],
 "metadata": {
  "kernelspec": {
   "display_name": "Python 3",
   "language": "python",
   "name": "python3"
  },
  "language_info": {
   "codemirror_mode": {
    "name": "ipython",
    "version": 3
   },
   "file_extension": ".py",
   "mimetype": "text/x-python",
   "name": "python",
   "nbconvert_exporter": "python",
   "pygments_lexer": "ipython3",
   "version": "3.5.2"
  }
 },
 "nbformat": 4,
 "nbformat_minor": 2
}
