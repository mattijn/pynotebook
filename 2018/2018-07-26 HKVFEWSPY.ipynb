{
 "cells": [
  {
   "cell_type": "code",
   "execution_count": 3,
   "metadata": {},
   "outputs": [],
   "source": [
    "from hkvfewspy.io.fewspi import pi\n",
    "from datetime import datetime"
   ]
  },
  {
   "cell_type": "code",
   "execution_count": 4,
   "metadata": {},
   "outputs": [],
   "source": [
    "pi.setClient(wsdl = 'http://oms-waddenzee.nl:8081/FewsPiService/fewspiservice?wsdl')"
   ]
  },
  {
   "cell_type": "code",
   "execution_count": 7,
   "metadata": {},
   "outputs": [],
   "source": [
    "filters = pi.getFilters()"
   ]
  },
  {
   "cell_type": "code",
   "execution_count": 27,
   "metadata": {},
   "outputs": [
    {
     "name": "stdout",
     "output_type": "stream",
     "text": [
      "f_werk.1\n"
     ]
    }
   ],
   "source": [
    "# select filter\n",
    "filterId = filters.f_werk_1['id']\n",
    "print(filterId)"
   ]
  },
  {
   "cell_type": "code",
   "execution_count": 28,
   "metadata": {},
   "outputs": [
    {
     "name": "stdout",
     "output_type": "stream",
     "text": [
      "bv.1.7.2.3.2\n"
     ]
    }
   ],
   "source": [
    "# select location\n",
    "locations = pi.getLocations(filterId=filterId, setFormat='gdf')\n",
    "location = locations.loc[locations['locationId'] == 'bv.1.7.2.3.2']\n",
    "locationId = location['locationId'][0]\n",
    "print(locationId)"
   ]
  },
  {
   "cell_type": "code",
   "execution_count": 30,
   "metadata": {},
   "outputs": [
    {
     "name": "stdout",
     "output_type": "stream",
     "text": [
      "k.m3.gebaggerd.vdlee\n"
     ]
    }
   ],
   "source": [
    "# select parameter\n",
    "parameters = pi.getParameters(filterId)\n",
    "parameterId = parameters.k_m3_gebaggerd_vdlee['id']\n",
    "print(parameterId)"
   ]
  },
  {
   "cell_type": "code",
   "execution_count": 32,
   "metadata": {},
   "outputs": [],
   "source": [
    "# set start and end date\n",
    "startTime = datetime(2017,12,20)\n",
    "endTime =  datetime(2018,7,26)"
   ]
  },
  {
   "cell_type": "code",
   "execution_count": 135,
   "metadata": {},
   "outputs": [
    {
     "data": {
      "text/plain": [
       "'GMT'"
      ]
     },
     "execution_count": 135,
     "metadata": {},
     "output_type": "execute_result"
    }
   ],
   "source": [
    "pi.getTimeZoneId()"
   ]
  },
  {
   "cell_type": "code",
   "execution_count": null,
   "metadata": {},
   "outputs": [],
   "source": []
  },
  {
   "cell_type": "code",
   "execution_count": 221,
   "metadata": {},
   "outputs": [],
   "source": [
    "# dictionary to query\n",
    "params = dict(\n",
    "    filterId = filterId,\n",
    "    moduleInstanceIds=[],\n",
    "    parameterIds=[parameterId],\n",
    "    locationIds=[locationId],\n",
    "    startTime=startTime,\n",
    "    endTime=endTime,\n",
    "    clientTimeZone = 'Etc/GMT-1',# 'Europe/Amsterdam', # fewspi is stored in GMT(+0)\n",
    "    forecastSearchCount=1,\n",
    "    convertDatum='false',\n",
    "    useDisplayUnits='false',\n",
    "    showThresholds='true',\n",
    "    omitMissing='true',\n",
    "    onlyHeaders='false',\n",
    "    onlyManualEdits='false',\n",
    "    showStatistics='false',\n",
    "    ensembleId='',\n",
    "    importFromExternalDataSource='false',\n",
    "    showEnsembleMemberIds='false',\n",
    "    version='1.22'\n",
    ")"
   ]
  },
  {
   "cell_type": "code",
   "execution_count": 222,
   "metadata": {},
   "outputs": [
    {
     "name": "stdout",
     "output_type": "stream",
     "text": [
      "warning: 'header' has no attribute 'qualifierId'\n"
     ]
    }
   ],
   "source": [
    "df, entry = pi.getTimeSeries(queryParameters=params, setFormat='df')"
   ]
  },
  {
   "cell_type": "code",
   "execution_count": 223,
   "metadata": {},
   "outputs": [
    {
     "data": {
      "text/html": [
       "<div>\n",
       "<style scoped>\n",
       "    .dataframe tbody tr th:only-of-type {\n",
       "        vertical-align: middle;\n",
       "    }\n",
       "\n",
       "    .dataframe tbody tr th {\n",
       "        vertical-align: top;\n",
       "    }\n",
       "\n",
       "    .dataframe thead th {\n",
       "        text-align: right;\n",
       "    }\n",
       "</style>\n",
       "<table border=\"1\" class=\"dataframe\">\n",
       "  <thead>\n",
       "    <tr style=\"text-align: right;\">\n",
       "      <th></th>\n",
       "      <th></th>\n",
       "      <th></th>\n",
       "      <th></th>\n",
       "      <th></th>\n",
       "      <th></th>\n",
       "      <th></th>\n",
       "      <th>flag</th>\n",
       "      <th>value</th>\n",
       "    </tr>\n",
       "    <tr>\n",
       "      <th>date</th>\n",
       "      <th>moduleId</th>\n",
       "      <th>qualifierId</th>\n",
       "      <th>parameterId</th>\n",
       "      <th>units</th>\n",
       "      <th>locationId</th>\n",
       "      <th>stationName</th>\n",
       "      <th></th>\n",
       "      <th></th>\n",
       "    </tr>\n",
       "  </thead>\n",
       "  <tbody>\n",
       "    <tr>\n",
       "      <th>2018-01-19 00:00:00+01:00</th>\n",
       "      <th>pr.Reizen.vdLee.baggeracties</th>\n",
       "      <th></th>\n",
       "      <th>k.m3.gebaggerd.vdlee</th>\n",
       "      <th>m3</th>\n",
       "      <th>bv.1.7.2.3.2</th>\n",
       "      <th>Blauwe Slenk</th>\n",
       "      <td>0.0</td>\n",
       "      <td>928.03</td>\n",
       "    </tr>\n",
       "    <tr>\n",
       "      <th>2018-01-20 00:00:00+01:00</th>\n",
       "      <th>pr.Reizen.vdLee.baggeracties</th>\n",
       "      <th></th>\n",
       "      <th>k.m3.gebaggerd.vdlee</th>\n",
       "      <th>m3</th>\n",
       "      <th>bv.1.7.2.3.2</th>\n",
       "      <th>Blauwe Slenk</th>\n",
       "      <td>0.0</td>\n",
       "      <td>2301.13</td>\n",
       "    </tr>\n",
       "    <tr>\n",
       "      <th>2018-01-24 00:00:00+01:00</th>\n",
       "      <th>pr.Reizen.vdLee.baggeracties</th>\n",
       "      <th></th>\n",
       "      <th>k.m3.gebaggerd.vdlee</th>\n",
       "      <th>m3</th>\n",
       "      <th>bv.1.7.2.3.2</th>\n",
       "      <th>Blauwe Slenk</th>\n",
       "      <td>0.0</td>\n",
       "      <td>3943.18</td>\n",
       "    </tr>\n",
       "    <tr>\n",
       "      <th>2018-02-05 00:00:00+01:00</th>\n",
       "      <th>pr.Reizen.vdLee.baggeracties</th>\n",
       "      <th></th>\n",
       "      <th>k.m3.gebaggerd.vdlee</th>\n",
       "      <th>m3</th>\n",
       "      <th>bv.1.7.2.3.2</th>\n",
       "      <th>Blauwe Slenk</th>\n",
       "      <td>0.0</td>\n",
       "      <td>1212.12</td>\n",
       "    </tr>\n",
       "    <tr>\n",
       "      <th>2018-02-09 00:00:00+01:00</th>\n",
       "      <th>pr.Reizen.vdLee.baggeracties</th>\n",
       "      <th></th>\n",
       "      <th>k.m3.gebaggerd.vdlee</th>\n",
       "      <th>m3</th>\n",
       "      <th>bv.1.7.2.3.2</th>\n",
       "      <th>Blauwe Slenk</th>\n",
       "      <td>0.0</td>\n",
       "      <td>2804.92</td>\n",
       "    </tr>\n",
       "  </tbody>\n",
       "</table>\n",
       "</div>"
      ],
      "text/plain": [
       "                                                                                                                         flag  \\\n",
       "date                      moduleId                     qualifierId parameterId          units locationId   stationName          \n",
       "2018-01-19 00:00:00+01:00 pr.Reizen.vdLee.baggeracties             k.m3.gebaggerd.vdlee m3    bv.1.7.2.3.2 Blauwe Slenk   0.0   \n",
       "2018-01-20 00:00:00+01:00 pr.Reizen.vdLee.baggeracties             k.m3.gebaggerd.vdlee m3    bv.1.7.2.3.2 Blauwe Slenk   0.0   \n",
       "2018-01-24 00:00:00+01:00 pr.Reizen.vdLee.baggeracties             k.m3.gebaggerd.vdlee m3    bv.1.7.2.3.2 Blauwe Slenk   0.0   \n",
       "2018-02-05 00:00:00+01:00 pr.Reizen.vdLee.baggeracties             k.m3.gebaggerd.vdlee m3    bv.1.7.2.3.2 Blauwe Slenk   0.0   \n",
       "2018-02-09 00:00:00+01:00 pr.Reizen.vdLee.baggeracties             k.m3.gebaggerd.vdlee m3    bv.1.7.2.3.2 Blauwe Slenk   0.0   \n",
       "\n",
       "                                                                                                                           value  \n",
       "date                      moduleId                     qualifierId parameterId          units locationId   stationName            \n",
       "2018-01-19 00:00:00+01:00 pr.Reizen.vdLee.baggeracties             k.m3.gebaggerd.vdlee m3    bv.1.7.2.3.2 Blauwe Slenk   928.03  \n",
       "2018-01-20 00:00:00+01:00 pr.Reizen.vdLee.baggeracties             k.m3.gebaggerd.vdlee m3    bv.1.7.2.3.2 Blauwe Slenk  2301.13  \n",
       "2018-01-24 00:00:00+01:00 pr.Reizen.vdLee.baggeracties             k.m3.gebaggerd.vdlee m3    bv.1.7.2.3.2 Blauwe Slenk  3943.18  \n",
       "2018-02-05 00:00:00+01:00 pr.Reizen.vdLee.baggeracties             k.m3.gebaggerd.vdlee m3    bv.1.7.2.3.2 Blauwe Slenk  1212.12  \n",
       "2018-02-09 00:00:00+01:00 pr.Reizen.vdLee.baggeracties             k.m3.gebaggerd.vdlee m3    bv.1.7.2.3.2 Blauwe Slenk  2804.92  "
      ]
     },
     "execution_count": 223,
     "metadata": {},
     "output_type": "execute_result"
    }
   ],
   "source": [
    "df.head()"
   ]
  },
  {
   "cell_type": "code",
   "execution_count": 224,
   "metadata": {},
   "outputs": [],
   "source": [
    "df_format = df.reset_index()[['date','value']]"
   ]
  },
  {
   "cell_type": "code",
   "execution_count": 225,
   "metadata": {},
   "outputs": [],
   "source": [
    "formatted_df = df_format.loc[:, 'date'].astype(datetime)\n",
    "#formatted_df.values"
   ]
  },
  {
   "cell_type": "code",
   "execution_count": 226,
   "metadata": {},
   "outputs": [],
   "source": [
    "df_format.loc[:,'date'] = formatted_df.values"
   ]
  },
  {
   "cell_type": "code",
   "execution_count": 227,
   "metadata": {},
   "outputs": [
    {
     "data": {
      "text/plain": [
       "0    2018-01-19 00:00:00+01:00\n",
       "1    2018-01-20 00:00:00+01:00\n",
       "2    2018-01-24 00:00:00+01:00\n",
       "3    2018-02-05 00:00:00+01:00\n",
       "4    2018-02-09 00:00:00+01:00\n",
       "5    2018-02-13 00:00:00+01:00\n",
       "6    2018-02-23 00:00:00+01:00\n",
       "7    2018-03-01 00:00:00+01:00\n",
       "8    2018-03-08 00:00:00+01:00\n",
       "9    2018-03-12 00:00:00+01:00\n",
       "10   2018-03-13 00:00:00+01:00\n",
       "11   2018-03-14 00:00:00+01:00\n",
       "12   2018-03-16 00:00:00+01:00\n",
       "13   2018-03-21 00:00:00+01:00\n",
       "14   2018-03-22 00:00:00+01:00\n",
       "15   2018-03-23 00:00:00+01:00\n",
       "16   2018-03-26 00:00:00+01:00\n",
       "17   2018-03-27 00:00:00+01:00\n",
       "18   2018-03-28 00:00:00+01:00\n",
       "19   2018-03-29 00:00:00+01:00\n",
       "20   2018-03-30 00:00:00+01:00\n",
       "21   2018-04-03 00:00:00+01:00\n",
       "22   2018-04-04 00:00:00+01:00\n",
       "23   2018-04-05 00:00:00+01:00\n",
       "24   2018-04-06 00:00:00+01:00\n",
       "Name: date, dtype: datetime64[ns, Etc/GMT-1]"
      ]
     },
     "execution_count": 227,
     "metadata": {},
     "output_type": "execute_result"
    }
   ],
   "source": [
    "df_format.date"
   ]
  }
 ],
 "metadata": {
  "kernelspec": {
   "display_name": "Python 3",
   "language": "python",
   "name": "python3"
  },
  "language_info": {
   "codemirror_mode": {
    "name": "ipython",
    "version": 3
   },
   "file_extension": ".py",
   "mimetype": "text/x-python",
   "name": "python",
   "nbconvert_exporter": "python",
   "pygments_lexer": "ipython3",
   "version": "3.5.2"
  }
 },
 "nbformat": 4,
 "nbformat_minor": 2
}
