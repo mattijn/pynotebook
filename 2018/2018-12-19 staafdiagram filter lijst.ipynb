{
 "cells": [
  {
   "cell_type": "code",
   "execution_count": 1,
   "metadata": {},
   "outputs": [
    {
     "data": {
      "text/plain": [
       "DataTransformerRegistry.enable('csv')"
      ]
     },
     "execution_count": 1,
     "metadata": {},
     "output_type": "execute_result"
    }
   ],
   "source": [
    "import pandas as pd  \n",
    "import numpy as np  \n",
    "import altair as alt\n",
    "alt.data_transformers.enable('csv')"
   ]
  },
  {
   "cell_type": "code",
   "execution_count": 25,
   "metadata": {},
   "outputs": [
    {
     "data": {
      "text/html": [
       "<div>\n",
       "<style scoped>\n",
       "    .dataframe tbody tr th:only-of-type {\n",
       "        vertical-align: middle;\n",
       "    }\n",
       "\n",
       "    .dataframe tbody tr th {\n",
       "        vertical-align: top;\n",
       "    }\n",
       "\n",
       "    .dataframe thead th {\n",
       "        text-align: right;\n",
       "    }\n",
       "</style>\n",
       "<table border=\"1\" class=\"dataframe\">\n",
       "  <thead>\n",
       "    <tr style=\"text-align: right;\">\n",
       "      <th></th>\n",
       "      <th>GM_NAAM</th>\n",
       "      <th>BU_NAAM</th>\n",
       "      <th>BUCODE</th>\n",
       "      <th>Drempel</th>\n",
       "      <th>Diepte</th>\n",
       "      <th>MEDIAAN</th>\n",
       "      <th>BOVEN</th>\n",
       "      <th>BENEDEN</th>\n",
       "    </tr>\n",
       "  </thead>\n",
       "  <tbody>\n",
       "    <tr>\n",
       "      <th>0</th>\n",
       "      <td>'s-Gravenhage</td>\n",
       "      <td>Oostduinen</td>\n",
       "      <td>BU05180170</td>\n",
       "      <td>-1</td>\n",
       "      <td>Geen overstroming</td>\n",
       "      <td>1.000000e+00</td>\n",
       "      <td>1.000000e+00</td>\n",
       "      <td>1.000000e-07</td>\n",
       "    </tr>\n",
       "    <tr>\n",
       "      <th>1</th>\n",
       "      <td>'s-Gravenhage</td>\n",
       "      <td>Belgisch Park</td>\n",
       "      <td>BU05180271</td>\n",
       "      <td>-1</td>\n",
       "      <td>Geen overstroming</td>\n",
       "      <td>1.000000e+00</td>\n",
       "      <td>1.000000e+00</td>\n",
       "      <td>3.680000e-08</td>\n",
       "    </tr>\n",
       "    <tr>\n",
       "      <th>2</th>\n",
       "      <td>'s-Gravenhage</td>\n",
       "      <td>Belgisch Park</td>\n",
       "      <td>BU05180271</td>\n",
       "      <td>0</td>\n",
       "      <td>0-20 cm</td>\n",
       "      <td>3.680000e-08</td>\n",
       "      <td>3.680000e-08</td>\n",
       "      <td>3.680000e-08</td>\n",
       "    </tr>\n",
       "    <tr>\n",
       "      <th>3</th>\n",
       "      <td>'s-Gravenhage</td>\n",
       "      <td>Belgisch Park</td>\n",
       "      <td>BU05180271</td>\n",
       "      <td>20</td>\n",
       "      <td>20-50 cm</td>\n",
       "      <td>3.680000e-08</td>\n",
       "      <td>3.680000e-08</td>\n",
       "      <td>3.680000e-08</td>\n",
       "    </tr>\n",
       "    <tr>\n",
       "      <th>4</th>\n",
       "      <td>'s-Gravenhage</td>\n",
       "      <td>Belgisch Park</td>\n",
       "      <td>BU05180271</td>\n",
       "      <td>50</td>\n",
       "      <td>50-200 cm</td>\n",
       "      <td>3.680000e-08</td>\n",
       "      <td>3.680000e-08</td>\n",
       "      <td>1.000000e-07</td>\n",
       "    </tr>\n",
       "  </tbody>\n",
       "</table>\n",
       "</div>"
      ],
      "text/plain": [
       "         GM_NAAM        BU_NAAM      BUCODE  Drempel             Diepte  \\\n",
       "0  's-Gravenhage     Oostduinen  BU05180170       -1  Geen overstroming   \n",
       "1  's-Gravenhage  Belgisch Park  BU05180271       -1  Geen overstroming   \n",
       "2  's-Gravenhage  Belgisch Park  BU05180271        0            0-20 cm   \n",
       "3  's-Gravenhage  Belgisch Park  BU05180271       20           20-50 cm   \n",
       "4  's-Gravenhage  Belgisch Park  BU05180271       50          50-200 cm   \n",
       "\n",
       "        MEDIAAN         BOVEN       BENEDEN  \n",
       "0  1.000000e+00  1.000000e+00  1.000000e-07  \n",
       "1  1.000000e+00  1.000000e+00  3.680000e-08  \n",
       "2  3.680000e-08  3.680000e-08  3.680000e-08  \n",
       "3  3.680000e-08  3.680000e-08  3.680000e-08  \n",
       "4  3.680000e-08  3.680000e-08  1.000000e-07  "
      ]
     },
     "execution_count": 25,
     "metadata": {},
     "output_type": "execute_result"
    }
   ],
   "source": [
    "sortdata = pd.read_csv(r\"D:\\jupyter notebooks\\3941.10 Plaatsgebonden risico kaarten\\staafdiagram\\plaatsgebonden2015.csv\")\n",
    "sortdata.head()"
   ]
  },
  {
   "cell_type": "code",
   "execution_count": 3,
   "metadata": {},
   "outputs": [],
   "source": [
    "# topsteden = ['Nijmegen', 'Breda', 'Groningen', 'Almere', 'Tilburg', 'Eindhoven', 'Utrecht', 'Rotterdam', 'Amsterdam']#\"'s-Gravenhage\"\n",
    "# topdata = sortdata[sortdata['GM_NAAM'].isin(topsteden)]"
   ]
  },
  {
   "cell_type": "code",
   "execution_count": 26,
   "metadata": {},
   "outputs": [],
   "source": [
    "steden = sortdata['GM_NAAM'].unique().tolist()"
   ]
  },
  {
   "cell_type": "code",
   "execution_count": 6,
   "metadata": {},
   "outputs": [],
   "source": [
    "# # inlcude dropdown filter\n",
    "\n",
    "# loc_dropdown = alt.binding_select(options=topdata['GM_NAAM'].unique().tolist())\n",
    "# loc_select = alt.selection_single(fields=['GM_NAAM'], bind=loc_dropdown, name='location')\n",
    "\n",
    "# chart = alt.Chart(topdata).mark_rect().encode(\n",
    "#     x = alt.X('BU_NAAM', title='Buurt'),\n",
    "#     y = alt.Y('BENEDEN', axis=alt.Axis(format='%'), title='kans',scale = alt.Scale(type=\"log\")),\n",
    "#     y2 = 'BOVEN',\n",
    "#     color = alt.Color('Diepte', \n",
    "#                       sort=['Geen overstroming', '0-20cm', '20-50cm', '50-200cm', 'Meer dan 200cm'],\n",
    "#                       scale=alt.Scale(range=['#B2B2B2','#619900','#C5DB00','#FFD900', '#FF8400', '#FF2600']),\n",
    "#                       legend=alt.Legend(title='Waterdiepte')), \n",
    "#     column = alt.Column('GM_NAAM', title='Gemeente'),\n",
    "#     tooltip=['MEDIAAN']\n",
    "# ).add_selection(loc_select).transform_filter(loc_select)"
   ]
  },
  {
   "cell_type": "code",
   "execution_count": 27,
   "metadata": {},
   "outputs": [],
   "source": [
    "for stad in steden:\n",
    "    gemeente = sortdata[sortdata['GM_NAAM'] == stad]\n",
    "    # inlcude dropdown filter\n",
    "    chart = alt.Chart(gemeente).mark_rect().encode(\n",
    "        x = alt.X('BU_NAAM', title='Buurt'),\n",
    "        y = alt.Y('BENEDEN', axis=alt.Axis(format='%'), title='kans',scale = alt.Scale(type=\"log\")),\n",
    "        y2 = 'BOVEN',\n",
    "        color = alt.Color('Diepte', \n",
    "                          sort=['Geen overstroming', '0-20cm', '20-50cm', '50-200cm', 'Meer dan 200cm'],\n",
    "                          scale=alt.Scale(range=['#B2B2B2','#619900','#C5DB00','#FFD900', '#FF8400', '#FF2600']),\n",
    "                          legend=alt.Legend(title='Waterdiepte')), \n",
    "        column = alt.Column('GM_NAAM', title='Gemeente'),\n",
    "        tooltip=['MEDIAAN']\n",
    "    ).properties(\n",
    "    title='huidig')\n",
    "    chart.save(r'D:\\jupyter notebooks\\3941.10 Plaatsgebonden risico kaarten\\staafdiagram\\steden_2015\\{}.html'.format(stad))    "
   ]
  },
  {
   "cell_type": "code",
   "execution_count": 28,
   "metadata": {},
   "outputs": [
    {
     "data": {
      "application/vnd.vegalite.v2+json": {
       "$schema": "https://vega.github.io/schema/vega-lite/v2.6.0.json",
       "config": {
        "view": {
         "height": 300,
         "width": 400
        }
       },
       "data": {
        "format": {
         "type": "csv"
        },
        "url": "altair-data-a79dc36d115e8022eb6704a6cc38a8c2.csv"
       },
       "encoding": {
        "color": {
         "field": "Diepte",
         "legend": {
          "title": "Waterdiepte"
         },
         "scale": {
          "range": [
           "#B2B2B2",
           "#619900",
           "#C5DB00",
           "#FFD900",
           "#FF8400",
           "#FF2600"
          ]
         },
         "sort": [
          "Geen overstroming",
          "0-20cm",
          "20-50cm",
          "50-200cm",
          "Meer dan 200cm"
         ],
         "type": "nominal"
        },
        "column": {
         "field": "GM_NAAM",
         "title": "Gemeente",
         "type": "nominal"
        },
        "tooltip": [
         {
          "field": "MEDIAAN",
          "type": "quantitative"
         }
        ],
        "x": {
         "field": "BU_NAAM",
         "title": "Buurt",
         "type": "nominal"
        },
        "y": {
         "axis": {
          "format": "%"
         },
         "field": "BENEDEN",
         "scale": {
          "type": "log"
         },
         "title": "kans",
         "type": "quantitative"
        },
        "y2": {
         "field": "BOVEN",
         "type": "quantitative"
        }
       },
       "mark": "rect",
       "title": "huidig"
      },
      "image/png": "[encoded data removed]",
      "text/plain": [
       "<VegaLite 2 object>\n",
       "\n",
       "If you see this message, it means the renderer has not been properly enabled\n",
       "for the frontend that you are using. For more information, see\n",
       "https://altair-viz.github.io/user_guide/troubleshooting.html\n"
      ]
     },
     "execution_count": 28,
     "metadata": {},
     "output_type": "execute_result"
    }
   ],
   "source": [
    "chart"
   ]
  },
  {
   "cell_type": "code",
   "execution_count": null,
   "metadata": {},
   "outputs": [],
   "source": []
  }
 ],
 "metadata": {
  "kernelspec": {
   "display_name": "Python 3",
   "language": "python",
   "name": "python3"
  },
  "language_info": {
   "codemirror_mode": {
    "name": "ipython",
    "version": 3
   },
   "file_extension": ".py",
   "mimetype": "text/x-python",
   "name": "python",
   "nbconvert_exporter": "python",
   "pygments_lexer": "ipython3",
   "version": "3.6.5"
  }
 },
 "nbformat": 4,
 "nbformat_minor": 2
}
