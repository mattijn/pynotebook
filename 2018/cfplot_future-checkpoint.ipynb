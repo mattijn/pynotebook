{
 "cells": [
  {
   "cell_type": "code",
   "execution_count": null,
   "metadata": {
    "collapsed": true
   },
   "outputs": [],
   "source": [
    "## cf-plot development ideas\n",
    "\n",
    "# colorbar to be the width of the contour plot\n",
    "\n",
    "# trajectories - need a trajectory netCDF file from Kevin\n",
    "\n",
    "# rotated grid vectors - need sample data and plot from Arathy\n",
    "\n",
    "# Orca grid contours and vectors - iris looks to regrid the data and not plot on the original grid\n",
    "\n",
    "# Other grids - need to interpolate or use original grid?\n",
    "\n",
    "# Basemap -> Cartopy \n",
    "#            8 headline calls to Basemap in one routine so shouldn't be too hard at this level\n",
    "#            underlying references may be a different matter\n",
    "#            not all Basemap functionality is available yet in Cartopy...\n",
    "\n",
    "# Change to Python 3.x by end of 2020\n",
    "\n"
   ]
  },
  {
   "cell_type": "code",
   "execution_count": null,
   "metadata": {
    "collapsed": true
   },
   "outputs": [],
   "source": []
  }
 ],
 "metadata": {
  "anaconda-cloud": {},
  "kernelspec": {
   "display_name": "Python [conda root]",
   "language": "python",
   "name": "conda-root-py"
  },
  "language_info": {
   "codemirror_mode": {
    "name": "ipython",
    "version": 2
   },
   "file_extension": ".py",
   "mimetype": "text/x-python",
   "name": "python",
   "nbconvert_exporter": "python",
   "pygments_lexer": "ipython2",
   "version": "2.7.12"
  }
 },
 "nbformat": 4,
 "nbformat_minor": 1
}
