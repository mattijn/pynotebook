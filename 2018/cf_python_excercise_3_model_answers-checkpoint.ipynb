{
 "cells": [
  {
   "cell_type": "markdown",
   "metadata": {},
   "source": [
    "# cf-python exercises 2"
   ]
  },
  {
   "cell_type": "code",
   "execution_count": 2,
   "metadata": {
    "collapsed": true
   },
   "outputs": [],
   "source": [
    "# import the cf package\n",
    "import cf"
   ]
  },
  {
   "cell_type": "code",
   "execution_count": 3,
   "metadata": {
    "collapsed": false
   },
   "outputs": [],
   "source": [
    "# Read the field from file ncas_data/IPSL-CM5A-LR_r1i1p1_tas_n96_rcp45_mnth.nc\n",
    "f = cf.read_field('ncas_data/IPSL-CM5A-LR_r1i1p1_tas_n96_rcp45_mnth.nc')"
   ]
  },
  {
   "cell_type": "markdown",
   "metadata": {},
   "source": [
    "## Subspace by indices\n",
    "https://cfpython.bitbucket.io/docs/latest/generated/cf.Field.subspace.html"
   ]
  },
  {
   "cell_type": "code",
   "execution_count": 4,
   "metadata": {
    "collapsed": false
   },
   "outputs": [
    {
     "name": "stdout",
     "output_type": "stream",
     "text": [
      "air_temperature field summary\n",
      "-----------------------------\n",
      "Data           : air_temperature(time(1), latitude(145), longitude(192)) K\n",
      "Cell methods   : time: mean (interval: 30 minutes)\n",
      "Axes           : height(1) = [2.0] m\n",
      "               : time(1) = [1959-12-16T12:00:00Z] 365_day\n",
      "               : latitude(145) = [-90.0, ..., 90.0] degrees_north\n",
      "               : longitude(192) = [0.0, ..., 358.125] degrees_east\n",
      "\n"
     ]
    }
   ],
   "source": [
    "# Create a new field containing the XY field for just the first time and inspect the new field\n",
    "# (use the index 0 in the time axis position)\n",
    "g = f.subspace[0]\n",
    "print g"
   ]
  },
  {
   "cell_type": "code",
   "execution_count": 6,
   "metadata": {
    "collapsed": false
   },
   "outputs": [
    {
     "name": "stdout",
     "output_type": "stream",
     "text": [
      "air_temperature field summary\n",
      "-----------------------------\n",
      "Data           : air_temperature(time(1), latitude(145), longitude(192)) K\n",
      "Cell methods   : time: mean (interval: 30 minutes)\n",
      "Axes           : height(1) = [2.0] m\n",
      "               : time(1) = [1969-11-16T00:00:00Z] 365_day\n",
      "               : latitude(145) = [-90.0, ..., 90.0] degrees_north\n",
      "               : longitude(192) = [0.0, ..., 358.125] degrees_east\n",
      "\n"
     ]
    }
   ],
   "source": [
    "# Using the index-space method, create a new field containing the X-Y plane for just the last time and inspect the result\n",
    "# (use the index -1 in the time axis position)\n",
    "g = f.subspace[-1]\n",
    "print g"
   ]
  },
  {
   "cell_type": "code",
   "execution_count": 8,
   "metadata": {
    "collapsed": false
   },
   "outputs": [
    {
     "name": "stdout",
     "output_type": "stream",
     "text": [
      "air_temperature field summary\n",
      "-----------------------------\n",
      "Data           : air_temperature(time(120), latitude(145), longitude(192)) K\n",
      "Cell methods   : time: mean (interval: 30 minutes)\n",
      "Axes           : height(1) = [2.0] m\n",
      "               : time(120) = [1959-12-16T12:00:00Z, ..., 1969-11-16T00:00:00Z] 365_day\n",
      "               : latitude(145) = [90.0, ..., -90.0] degrees_north\n",
      "               : longitude(192) = [0.0, ..., 358.125] degrees_east\n",
      "\n"
     ]
    }
   ],
   "source": [
    "# Using the index-space method, create a new field containing with the latitude axis reversed and inspect the result\n",
    "# (use the index ::-1 in the latitude axis position)\n",
    "g = f.subspace[:, ::-1]\n",
    "print g"
   ]
  },
  {
   "cell_type": "code",
   "execution_count": 10,
   "metadata": {
    "collapsed": false
   },
   "outputs": [
    {
     "name": "stdout",
     "output_type": "stream",
     "text": [
      "air_temperature field summary\n",
      "-----------------------------\n",
      "Data           : air_temperature(time(119), latitude(145), longitude(192)) K\n",
      "Cell methods   : time: mean (interval: 30 minutes)\n",
      "Axes           : height(1) = [2.0] m\n",
      "               : time(119) = [1960-01-16T12:00:00Z, ..., 1969-11-16T00:00:00Z] 365_day\n",
      "               : latitude(145) = [-90.0, ..., 90.0] degrees_north\n",
      "               : longitude(192) = [0.0, ..., 358.125] degrees_east\n",
      "\n"
     ]
    }
   ],
   "source": [
    "# Using the index-space method, create a new field omitting the first time and inspect the result\n",
    "# (use the index 1: in the time axis position)\n",
    "g = f.subspace[1:]\n",
    "print g"
   ]
  },
  {
   "cell_type": "markdown",
   "metadata": {},
   "source": [
    "## Subspace by date-time\n",
    "https://cfpython.bitbucket.io/docs/latest/generated/cf.Field.subspace.html"
   ]
  },
  {
   "cell_type": "code",
   "execution_count": 11,
   "metadata": {
    "collapsed": false
   },
   "outputs": [
    {
     "name": "stdout",
     "output_type": "stream",
     "text": [
      "air_temperature field summary\n",
      "-----------------------------\n",
      "Data           : air_temperature(time(10), latitude(145), longitude(192)) K\n",
      "Cell methods   : time: mean (interval: 30 minutes)\n",
      "Axes           : height(1) = [2.0] m\n",
      "               : time(10) = [1960-02-15T00:00:00Z, ..., 1969-02-15T00:00:00Z] 365_day\n",
      "               : latitude(145) = [-90.0, ..., 90.0] degrees_north\n",
      "               : longitude(192) = [0.0, ..., 358.125] degrees_east\n",
      "\n"
     ]
    }
   ],
   "source": [
    "# using the metadata-space meothod, create a new field containing just the months of February and inspect the result\n",
    "# (identify the time axis with the \"T\" shorthand and use the cf.month function)\n",
    "g = f.subspace(T=cf.month(2))\n",
    "print g"
   ]
  },
  {
   "cell_type": "code",
   "execution_count": 13,
   "metadata": {
    "collapsed": false
   },
   "outputs": [
    {
     "name": "stdout",
     "output_type": "stream",
     "text": [
      "<CF DimensionCoordinate: time(10) 365_day>\n"
     ]
    }
   ],
   "source": [
    "# Get the coordinates of the new field\n",
    "# (pass the string 'T' to the field's coord method)\n",
    "t = g.coord('T')\n",
    "print t"
   ]
  },
  {
   "cell_type": "code",
   "execution_count": 14,
   "metadata": {
    "collapsed": false
   },
   "outputs": [
    {
     "data": {
      "text/plain": [
       "('days since 1850-1-1 00:00:00',\n",
       " array([ 40195.,  40560.,  40925.,  41290.,  41655.,  42020.,  42385.,\n",
       "         42750.,  43115.,  43480.]))"
      ]
     },
     "execution_count": 14,
     "metadata": {},
     "output_type": "execute_result"
    }
   ],
   "source": [
    "# Print the time coordinate values and their units\n",
    "# (use the coordinate object's units and array attributes)\n",
    "t.units, t.array"
   ]
  },
  {
   "cell_type": "code",
   "execution_count": 15,
   "metadata": {
    "collapsed": false
   },
   "outputs": [
    {
     "name": "stdout",
     "output_type": "stream",
     "text": [
      "[<CF Datetime: 1960-02-15T00:00:00Z 365_day>\n",
      " <CF Datetime: 1961-02-15T00:00:00Z 365_day>\n",
      " <CF Datetime: 1962-02-15T00:00:00Z 365_day>\n",
      " <CF Datetime: 1963-02-15T00:00:00Z 365_day>\n",
      " <CF Datetime: 1964-02-15T00:00:00Z 365_day>\n",
      " <CF Datetime: 1965-02-15T00:00:00Z 365_day>\n",
      " <CF Datetime: 1966-02-15T00:00:00Z 365_day>\n",
      " <CF Datetime: 1967-02-15T00:00:00Z 365_day>\n",
      " <CF Datetime: 1968-02-15T00:00:00Z 365_day>\n",
      " <CF Datetime: 1969-02-15T00:00:00Z 365_day>]\n"
     ]
    }
   ],
   "source": [
    "# Print the time coordinate values as date-times, rather than days since a reference time\n",
    "# (use the coordinate object's dtarray method)\n",
    "print t.dtarray"
   ]
  },
  {
   "cell_type": "code",
   "execution_count": 17,
   "metadata": {
    "collapsed": false
   },
   "outputs": [
    {
     "name": "stdout",
     "output_type": "stream",
     "text": [
      "[[<CF Datetime: 1960-02-01T00:00:00Z 365_day>\n",
      "  <CF Datetime: 1960-03-01T00:00:00Z 365_day>]\n",
      " [<CF Datetime: 1961-02-01T00:00:00Z 365_day>\n",
      "  <CF Datetime: 1961-03-01T00:00:00Z 365_day>]\n",
      " [<CF Datetime: 1962-02-01T00:00:00Z 365_day>\n",
      "  <CF Datetime: 1962-03-01T00:00:00Z 365_day>]\n",
      " [<CF Datetime: 1963-02-01T00:00:00Z 365_day>\n",
      "  <CF Datetime: 1963-03-01T00:00:00Z 365_day>]\n",
      " [<CF Datetime: 1964-02-01T00:00:00Z 365_day>\n",
      "  <CF Datetime: 1964-03-01T00:00:00Z 365_day>]\n",
      " [<CF Datetime: 1965-02-01T00:00:00Z 365_day>\n",
      "  <CF Datetime: 1965-03-01T00:00:00Z 365_day>]\n",
      " [<CF Datetime: 1966-02-01T00:00:00Z 365_day>\n",
      "  <CF Datetime: 1966-03-01T00:00:00Z 365_day>]\n",
      " [<CF Datetime: 1967-02-01T00:00:00Z 365_day>\n",
      "  <CF Datetime: 1967-03-01T00:00:00Z 365_day>]\n",
      " [<CF Datetime: 1968-02-01T00:00:00Z 365_day>\n",
      "  <CF Datetime: 1968-03-01T00:00:00Z 365_day>]\n",
      " [<CF Datetime: 1969-02-01T00:00:00Z 365_day>\n",
      "  <CF Datetime: 1969-03-01T00:00:00Z 365_day>]]\n"
     ]
    }
   ],
   "source": [
    "# Print the time coordinates' cell bounds\n",
    "# (use the dtarray attribute of the coordinate object's bounds attribute)\n",
    "print t.bounds.dtarray"
   ]
  },
  {
   "cell_type": "code",
   "execution_count": 20,
   "metadata": {
    "collapsed": false
   },
   "outputs": [
    {
     "name": "stdout",
     "output_type": "stream",
     "text": [
      "air_temperature field summary\n",
      "-----------------------------\n",
      "Data           : air_temperature(time(30), latitude(145), longitude(192)) K\n",
      "Cell methods   : time: mean (interval: 30 minutes)\n",
      "Axes           : height(1) = [2.0] m\n",
      "               : time(30) = [1960-02-15T00:00:00Z, ..., 1969-04-16T00:00:00Z] 365_day\n",
      "               : latitude(145) = [-90.0, ..., 90.0] degrees_north\n",
      "               : longitude(192) = [0.0, ..., 358.125] degrees_east\n",
      "\n"
     ]
    }
   ],
   "source": [
    "# Create a new field that containing the months of February to April and inspect the result\n",
    "# (use the cf.wi function inside the cf.month function)\n",
    "h = f.subspace(T=cf.month(cf.wi(2, 4)))\n",
    "print h"
   ]
  },
  {
   "cell_type": "code",
   "execution_count": 23,
   "metadata": {
    "collapsed": false
   },
   "outputs": [
    {
     "name": "stdout",
     "output_type": "stream",
     "text": [
      "[<CF Datetime: 1960-02-15T00:00:00Z 365_day>\n",
      " <CF Datetime: 1960-03-16T12:00:00Z 365_day>\n",
      " <CF Datetime: 1960-04-16T00:00:00Z 365_day>\n",
      " <CF Datetime: 1961-02-15T00:00:00Z 365_day>\n",
      " <CF Datetime: 1961-03-16T12:00:00Z 365_day>\n",
      " <CF Datetime: 1961-04-16T00:00:00Z 365_day>\n",
      " <CF Datetime: 1962-02-15T00:00:00Z 365_day>\n",
      " <CF Datetime: 1962-03-16T12:00:00Z 365_day>\n",
      " <CF Datetime: 1962-04-16T00:00:00Z 365_day>\n",
      " <CF Datetime: 1963-02-15T00:00:00Z 365_day>\n",
      " <CF Datetime: 1963-03-16T12:00:00Z 365_day>\n",
      " <CF Datetime: 1963-04-16T00:00:00Z 365_day>\n",
      " <CF Datetime: 1964-02-15T00:00:00Z 365_day>\n",
      " <CF Datetime: 1964-03-16T12:00:00Z 365_day>\n",
      " <CF Datetime: 1964-04-16T00:00:00Z 365_day>\n",
      " <CF Datetime: 1965-02-15T00:00:00Z 365_day>\n",
      " <CF Datetime: 1965-03-16T12:00:00Z 365_day>\n",
      " <CF Datetime: 1965-04-16T00:00:00Z 365_day>\n",
      " <CF Datetime: 1966-02-15T00:00:00Z 365_day>\n",
      " <CF Datetime: 1966-03-16T12:00:00Z 365_day>\n",
      " <CF Datetime: 1966-04-16T00:00:00Z 365_day>\n",
      " <CF Datetime: 1967-02-15T00:00:00Z 365_day>\n",
      " <CF Datetime: 1967-03-16T12:00:00Z 365_day>\n",
      " <CF Datetime: 1967-04-16T00:00:00Z 365_day>\n",
      " <CF Datetime: 1968-02-15T00:00:00Z 365_day>\n",
      " <CF Datetime: 1968-03-16T12:00:00Z 365_day>\n",
      " <CF Datetime: 1968-04-16T00:00:00Z 365_day>\n",
      " <CF Datetime: 1969-02-15T00:00:00Z 365_day>\n",
      " <CF Datetime: 1969-03-16T12:00:00Z 365_day>\n",
      " <CF Datetime: 1969-04-16T00:00:00Z 365_day>]\n"
     ]
    }
   ],
   "source": [
    "# Inspect this field's time coordinate values, checking that only months 2, 3 and 4 are present\n",
    "print h.coord('T').dtarray"
   ]
  },
  {
   "cell_type": "code",
   "execution_count": 24,
   "metadata": {
    "collapsed": false
   },
   "outputs": [
    {
     "name": "stdout",
     "output_type": "stream",
     "text": [
      "[<CF Datetime: 1960-02-15T00:00:00Z 365_day>\n",
      " <CF Datetime: 1960-11-16T00:00:00Z 365_day>\n",
      " <CF Datetime: 1961-02-15T00:00:00Z 365_day>\n",
      " <CF Datetime: 1961-11-16T00:00:00Z 365_day>\n",
      " <CF Datetime: 1962-02-15T00:00:00Z 365_day>\n",
      " <CF Datetime: 1962-11-16T00:00:00Z 365_day>\n",
      " <CF Datetime: 1963-02-15T00:00:00Z 365_day>\n",
      " <CF Datetime: 1963-11-16T00:00:00Z 365_day>\n",
      " <CF Datetime: 1964-02-15T00:00:00Z 365_day>\n",
      " <CF Datetime: 1964-11-16T00:00:00Z 365_day>\n",
      " <CF Datetime: 1965-02-15T00:00:00Z 365_day>\n",
      " <CF Datetime: 1965-11-16T00:00:00Z 365_day>\n",
      " <CF Datetime: 1966-02-15T00:00:00Z 365_day>\n",
      " <CF Datetime: 1966-11-16T00:00:00Z 365_day>\n",
      " <CF Datetime: 1967-02-15T00:00:00Z 365_day>\n",
      " <CF Datetime: 1967-11-16T00:00:00Z 365_day>\n",
      " <CF Datetime: 1968-02-15T00:00:00Z 365_day>\n",
      " <CF Datetime: 1968-11-16T00:00:00Z 365_day>\n",
      " <CF Datetime: 1969-02-15T00:00:00Z 365_day>\n",
      " <CF Datetime: 1969-11-16T00:00:00Z 365_day>]\n"
     ]
    }
   ],
   "source": [
    "# Print the time coordinates of a new field that containing the months of February and November only\n",
    "# (connect two cf.month calls with |, the python \"or\" character)\n",
    "h = f.subspace(T=cf.month(2) | cf.month(11))\n",
    "print h.coord('T').dtarray"
   ]
  },
  {
   "cell_type": "code",
   "execution_count": 26,
   "metadata": {
    "collapsed": false
   },
   "outputs": [
    {
     "name": "stdout",
     "output_type": "stream",
     "text": [
      "[<CF Datetime: 1960-02-15T00:00:00Z 365_day>\n",
      " <CF Datetime: 1960-11-16T00:00:00Z 365_day>\n",
      " <CF Datetime: 1961-02-15T00:00:00Z 365_day>\n",
      " <CF Datetime: 1961-11-16T00:00:00Z 365_day>\n",
      " <CF Datetime: 1962-02-15T00:00:00Z 365_day>\n",
      " <CF Datetime: 1962-11-16T00:00:00Z 365_day>\n",
      " <CF Datetime: 1963-02-15T00:00:00Z 365_day>\n",
      " <CF Datetime: 1963-11-16T00:00:00Z 365_day>\n",
      " <CF Datetime: 1964-02-15T00:00:00Z 365_day>\n",
      " <CF Datetime: 1964-11-16T00:00:00Z 365_day>\n",
      " <CF Datetime: 1965-02-15T00:00:00Z 365_day>\n",
      " <CF Datetime: 1965-11-16T00:00:00Z 365_day>\n",
      " <CF Datetime: 1966-02-15T00:00:00Z 365_day>\n",
      " <CF Datetime: 1966-11-16T00:00:00Z 365_day>\n",
      " <CF Datetime: 1967-02-15T00:00:00Z 365_day>\n",
      " <CF Datetime: 1967-11-16T00:00:00Z 365_day>\n",
      " <CF Datetime: 1968-02-15T00:00:00Z 365_day>\n",
      " <CF Datetime: 1968-11-16T00:00:00Z 365_day>\n",
      " <CF Datetime: 1969-02-15T00:00:00Z 365_day>\n",
      " <CF Datetime: 1969-11-16T00:00:00Z 365_day>]\n"
     ]
    }
   ],
   "source": [
    "# Do the same again using the cf.set function inside the cf.month function\n",
    "h = f.subspace(T=cf.month(cf.set([2, 11])))\n",
    "print h.coord('T').dtarray"
   ]
  },
  {
   "cell_type": "code",
   "execution_count": 32,
   "metadata": {
    "collapsed": false
   },
   "outputs": [
    {
     "name": "stdout",
     "output_type": "stream",
     "text": [
      "air_temperature field summary\n",
      "-----------------------------\n",
      "Data           : air_temperature(time(1), latitude(145), longitude(192)) K\n",
      "Cell methods   : time: mean (interval: 30 minutes)\n",
      "Axes           : height(1) = [2.0] m\n",
      "               : time(1) = [1965-12-16T12:00:00Z] 365_day\n",
      "               : latitude(145) = [-90.0, ..., 90.0] degrees_north\n",
      "               : longitude(192) = [0.0, ..., 358.125] degrees_east\n",
      "\n"
     ]
    }
   ],
   "source": [
    "# Create a new field that containing only the time 1965-12-16 12:00Z and print the result\n",
    "# (use the cf.dt function)\n",
    "g = f.subspace(T=cf.dt('1965-12-16 12:00'))\n",
    "print g"
   ]
  },
  {
   "cell_type": "code",
   "execution_count": 35,
   "metadata": {
    "collapsed": false
   },
   "outputs": [
    {
     "name": "stdout",
     "output_type": "stream",
     "text": [
      "air_temperature field summary\n",
      "-----------------------------\n",
      "Data           : air_temperature(time(48), latitude(145), longitude(192)) K\n",
      "Cell methods   : time: mean (interval: 30 minutes)\n",
      "Axes           : height(1) = [2.0] m\n",
      "               : time(48) = [1965-12-16T12:00:00Z, ..., 1969-11-16T00:00:00Z] 365_day\n",
      "               : latitude(145) = [-90.0, ..., 90.0] degrees_north\n",
      "               : longitude(192) = [0.0, ..., 358.125] degrees_east\n",
      "\n"
     ]
    }
   ],
   "source": [
    "# Create a new field that containing only all times after or including 1965-12-1 and print the result\n",
    "# (use the cf.dt function inside the cf.ge function)\n",
    "g = f.subspace(T=cf.ge(cf.dt('1965-12-1')))\n",
    "print g"
   ]
  },
  {
   "cell_type": "code",
   "execution_count": 37,
   "metadata": {
    "collapsed": false
   },
   "outputs": [
    {
     "name": "stdout",
     "output_type": "stream",
     "text": [
      "[1959 1960 1961 1962 1963 1964 1965 1966 1967 1968 1969]\n"
     ]
    }
   ],
   "source": [
    "# Find all of the years wholly or partially spanned by the field original field\n",
    "# (use the unique method of the year attribute of the time coordinate object)\n",
    "years = f.coord('T').year.unique()\n",
    "print years.array"
   ]
  },
  {
   "cell_type": "markdown",
   "metadata": {},
   "source": [
    "## Masking the data"
   ]
  },
  {
   "cell_type": "code",
   "execution_count": null,
   "metadata": {
    "collapsed": true
   },
   "outputs": [],
   "source": [
    "g = f.where(cf.lt(273.15), cf.masked)"
   ]
  },
  {
   "cell_type": "code",
   "execution_count": null,
   "metadata": {
    "collapsed": true
   },
   "outputs": [],
   "source": [
    "# Copy the field and convert its units to degrees Celcius\n",
    "c = f.copy()\n",
    "c.units = 'degC'"
   ]
  },
  {
   "cell_type": "code",
   "execution_count": null,
   "metadata": {
    "collapsed": false
   },
   "outputs": [],
   "source": [
    "# Mask te original field where the \"celcius\" field is less than zero\n",
    "# (use the < operator in the condition)\n",
    "h = f.where(c<0, cf.masked)"
   ]
  },
  {
   "cell_type": "code",
   "execution_count": null,
   "metadata": {
    "collapsed": false
   },
   "outputs": [],
   "source": [
    "# Check that the two methods give the same result\n",
    "h.equals(g)"
   ]
  },
  {
   "cell_type": "code",
   "execution_count": null,
   "metadata": {
    "collapsed": false
   },
   "outputs": [],
   "source": [
    "# Mask the field at all points outside of the tropics\n",
    "# (use the indices method to find the required indices and then use subspace assignment)\n",
    "indices= f.indices(latitude=cf.wo(-30, 30))\n",
    "print indices\n",
    "g = f.copy()\n",
    "g.subspace[indices] = cf.masked"
   ]
  },
  {
   "cell_type": "code",
   "execution_count": null,
   "metadata": {
    "collapsed": false
   },
   "outputs": [],
   "source": [
    "# Create the same masked field using the where method\n",
    "# (use the item keyword to the cf.Field.where method to indicate that the condition is applied to \n",
    "#  particular coordinates rather than the field's array values)\n",
    "h = f.where(cf.wo(-30, 30), cf.masked, item='latitude')"
   ]
  },
  {
   "cell_type": "code",
   "execution_count": null,
   "metadata": {
    "collapsed": false
   },
   "outputs": [],
   "source": [
    "# Check that the two methods give the same result\n",
    "h.equals(g)"
   ]
  },
  {
   "cell_type": "code",
   "execution_count": null,
   "metadata": {
    "collapsed": false
   },
   "outputs": [],
   "source": [
    "# Find the temporal variance at each location outside of the tropics\n",
    "# (use the collapse method)\n",
    "v = h.collapse('T: variance')\n",
    "print v"
   ]
  },
  {
   "cell_type": "code",
   "execution_count": null,
   "metadata": {
    "collapsed": true
   },
   "outputs": [],
   "source": [
    "# Find the time mean at each XY point\n",
    "# (use the cf.Field.collapse method)\n",
    "t_mean = f.collapse('T: mean')"
   ]
  },
  {
   "cell_type": "code",
   "execution_count": null,
   "metadata": {
    "collapsed": false
   },
   "outputs": [],
   "source": [
    "# Mask the original data where it is less than the time average\n",
    "# (use the < comparison operator between two fields to create the condition)\n",
    "g = f.where(f<t_mean, cf.masked)\n",
    "print g"
   ]
  },
  {
   "cell_type": "markdown",
   "metadata": {},
   "source": [
    "## Calculate anomalies from the mean"
   ]
  },
  {
   "cell_type": "code",
   "execution_count": null,
   "metadata": {
    "collapsed": false
   },
   "outputs": [],
   "source": [
    "# print the field's data array\n",
    "f.array"
   ]
  },
  {
   "cell_type": "code",
   "execution_count": null,
   "metadata": {
    "collapsed": false
   },
   "outputs": [],
   "source": [
    "# Find the time average at each XY location, weighted by month lengths\n",
    "# (use the field's \"collapse\" method with the weights parameter)\n",
    "t_mean = f.collapse('T: mean', weights='T')\n",
    "print t_mean"
   ]
  },
  {
   "cell_type": "code",
   "execution_count": null,
   "metadata": {
    "collapsed": false
   },
   "outputs": [],
   "source": [
    "# For each time in the original field, calulate the anomaly from the temporal mean and print its array of values \n",
    "# (use simple subtraction)\n",
    "t_anom = f - t_mean\n",
    "print t_anom\n",
    "print t_anom.array"
   ]
  },
  {
   "cell_type": "markdown",
   "metadata": {},
   "source": [
    "## Climatological time statistics"
   ]
  },
  {
   "cell_type": "code",
   "execution_count": null,
   "metadata": {
    "collapsed": false
   },
   "outputs": [],
   "source": [
    "# Find the multiannual average of seasonal minima\n",
    "# (use the field's collapse method with the \"within years\" and \"over years\" techniques,\n",
    "#  as well as the within_years parameter set to cf.seasons() to define over what\n",
    "#  time period to calculate the minima)\n",
    "g = f.collapse('T: minimum within years T: mean over years', within_years=cf.seasons())\n",
    "print g"
   ]
  },
  {
   "cell_type": "code",
   "execution_count": null,
   "metadata": {
    "collapsed": false
   },
   "outputs": [],
   "source": [
    "# Print the new time bounds\n",
    "g.coord('T').bounds.dtarray"
   ]
  },
  {
   "cell_type": "markdown",
   "metadata": {
    "collapsed": true
   },
   "source": [
    "## Cell areas and weights"
   ]
  },
  {
   "cell_type": "code",
   "execution_count": null,
   "metadata": {
    "collapsed": false
   },
   "outputs": [],
   "source": [
    "# Find the the horizontal cell areas of the field\n",
    "# (use the field's \"cell_area\" method)\n",
    "area = f.cell_area()\n",
    "print area\n",
    "print area.array"
   ]
  },
  {
   "cell_type": "code",
   "execution_count": null,
   "metadata": {
    "collapsed": false
   },
   "outputs": [],
   "source": [
    "# Find the weights used in time axis collapses\n",
    "# (use the field's weights method)\n",
    "w = f.weights('T')\n",
    "print w\n",
    "print w.array"
   ]
  },
  {
   "cell_type": "code",
   "execution_count": null,
   "metadata": {
    "collapsed": false
   },
   "outputs": [],
   "source": [
    "# Find the weights used in area collapses\n",
    "# (use the field's weights method)\n",
    "w = f.weights('area')\n",
    "print w\n",
    "print w.array"
   ]
  },
  {
   "cell_type": "code",
   "execution_count": null,
   "metadata": {
    "collapsed": false
   },
   "outputs": [],
   "source": [
    "help(f.collapse)\n"
   ]
  },
  {
   "cell_type": "code",
   "execution_count": null,
   "metadata": {
    "collapsed": true
   },
   "outputs": [],
   "source": []
  }
 ],
 "metadata": {
  "anaconda-cloud": {},
  "kernelspec": {
   "display_name": "Python [default]",
   "language": "python",
   "name": "python2"
  },
  "language_info": {
   "codemirror_mode": {
    "name": "ipython",
    "version": 2
   },
   "file_extension": ".py",
   "mimetype": "text/x-python",
   "name": "python",
   "nbconvert_exporter": "python",
   "pygments_lexer": "ipython2",
   "version": "2.7.12"
  }
 },
 "nbformat": 4,
 "nbformat_minor": 2
}
