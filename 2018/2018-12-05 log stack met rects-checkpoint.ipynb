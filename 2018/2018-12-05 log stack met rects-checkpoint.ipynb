{
 "cells": [
  {
   "cell_type": "code",
   "execution_count": 2,
   "metadata": {},
   "outputs": [],
   "source": [
    "import geopandas as gpd\n",
    "import altair as alt"
   ]
  },
  {
   "cell_type": "code",
   "execution_count": 3,
   "metadata": {},
   "outputs": [],
   "source": [
    "file_in = r\"D:\\Projects\\Pr\\3941.10\\Toeleveringen\\waterwijk.dbf\""
   ]
  },
  {
   "cell_type": "code",
   "execution_count": 4,
   "metadata": {},
   "outputs": [],
   "source": [
    "gdf = gpd.read_file(file_in)\n",
    "gdf = gdf.iloc[[0,2,3,4]]\n",
    "gdf.head()\n",
    "gdf.loc[:,'bovengrens'] = None\n",
    "gdf.loc[:,'benedengrens'] = None"
   ]
  },
  {
   "cell_type": "code",
   "execution_count": 6,
   "metadata": {},
   "outputs": [],
   "source": [
    "gdf.at[0,'bovengrens'] = 0.1\n",
    "gdf.at[0,'benedengrens'] = 0.00234\n",
    "gdf.at[2,'bovengrens'] = 0.00234\n",
    "gdf.at[2,'benedengrens'] = 0.000694\n",
    "gdf.at[3,'bovengrens'] = 0.000694\n",
    "gdf.at[3,'benedengrens'] = 0.000112\n",
    "gdf.at[4,'bovengrens'] = 0.000112\n",
    "gdf.at[4,'benedengrens'] = 0.000001"
   ]
  },
  {
   "cell_type": "code",
   "execution_count": 7,
   "metadata": {},
   "outputs": [
    {
     "data": {
      "text/html": [
       "<div>\n",
       "<style scoped>\n",
       "    .dataframe tbody tr th:only-of-type {\n",
       "        vertical-align: middle;\n",
       "    }\n",
       "\n",
       "    .dataframe tbody tr th {\n",
       "        vertical-align: top;\n",
       "    }\n",
       "\n",
       "    .dataframe thead th {\n",
       "        text-align: right;\n",
       "    }\n",
       "</style>\n",
       "<table border=\"1\" class=\"dataframe\">\n",
       "  <thead>\n",
       "    <tr style=\"text-align: right;\">\n",
       "      <th></th>\n",
       "      <th>GM_CODE</th>\n",
       "      <th>GM_NAAM</th>\n",
       "      <th>WK_CODE</th>\n",
       "      <th>BUCODE</th>\n",
       "      <th>BU_NAAM</th>\n",
       "      <th>MEDIAN</th>\n",
       "      <th>KLASSE</th>\n",
       "      <th>DREMPEL</th>\n",
       "      <th>BIJDRAGE</th>\n",
       "      <th>KANS</th>\n",
       "      <th>MEDIAAN</th>\n",
       "      <th>DIEPTE</th>\n",
       "      <th>INTERVAL</th>\n",
       "      <th>geometry</th>\n",
       "      <th>bovengrens</th>\n",
       "      <th>benedengrens</th>\n",
       "    </tr>\n",
       "  </thead>\n",
       "  <tbody>\n",
       "    <tr>\n",
       "      <th>0</th>\n",
       "      <td>0995</td>\n",
       "      <td>Lelystad</td>\n",
       "      <td>099544</td>\n",
       "      <td>BU09954420</td>\n",
       "      <td>Waterwijk</td>\n",
       "      <td>0</td>\n",
       "      <td>0</td>\n",
       "      <td>-1</td>\n",
       "      <td>0.007938</td>\n",
       "      <td>0.1000</td>\n",
       "      <td>0.100000</td>\n",
       "      <td>Geen significante overstroming</td>\n",
       "      <td>geen overstroming</td>\n",
       "      <td>None</td>\n",
       "      <td>0.1</td>\n",
       "      <td>0.00234</td>\n",
       "    </tr>\n",
       "    <tr>\n",
       "      <th>2</th>\n",
       "      <td>0995</td>\n",
       "      <td>Lelystad</td>\n",
       "      <td>099544</td>\n",
       "      <td>BU09954420</td>\n",
       "      <td>Waterwijk</td>\n",
       "      <td>15445000</td>\n",
       "      <td>3</td>\n",
       "      <td>20</td>\n",
       "      <td>0.270427</td>\n",
       "      <td>0.0020</td>\n",
       "      <td>0.001545</td>\n",
       "      <td>waterdiepte &gt; 20</td>\n",
       "      <td>geen overstroming, 20-50, 50-200, &gt;200</td>\n",
       "      <td>None</td>\n",
       "      <td>0.00234</td>\n",
       "      <td>0.000694</td>\n",
       "    </tr>\n",
       "    <tr>\n",
       "      <th>3</th>\n",
       "      <td>0995</td>\n",
       "      <td>Lelystad</td>\n",
       "      <td>099544</td>\n",
       "      <td>BU09954420</td>\n",
       "      <td>Waterwijk</td>\n",
       "      <td>5824000</td>\n",
       "      <td>3</td>\n",
       "      <td>50</td>\n",
       "      <td>0.269902</td>\n",
       "      <td>0.0010</td>\n",
       "      <td>0.000582</td>\n",
       "      <td>waterdiepte &gt; 50</td>\n",
       "      <td>geen overstroming, 20-50, 50-200, &gt;200</td>\n",
       "      <td>None</td>\n",
       "      <td>0.000694</td>\n",
       "      <td>0.000112</td>\n",
       "    </tr>\n",
       "    <tr>\n",
       "      <th>4</th>\n",
       "      <td>0995</td>\n",
       "      <td>Lelystad</td>\n",
       "      <td>099544</td>\n",
       "      <td>BU09954420</td>\n",
       "      <td>Waterwijk</td>\n",
       "      <td>1121500</td>\n",
       "      <td>3</td>\n",
       "      <td>200</td>\n",
       "      <td>0.181306</td>\n",
       "      <td>0.0001</td>\n",
       "      <td>0.000112</td>\n",
       "      <td>waterdiepte &gt; 200</td>\n",
       "      <td>geen overstroming, 20-50, 50-200, &gt;200</td>\n",
       "      <td>None</td>\n",
       "      <td>0.000112</td>\n",
       "      <td>1e-06</td>\n",
       "    </tr>\n",
       "  </tbody>\n",
       "</table>\n",
       "</div>"
      ],
      "text/plain": [
       "  GM_CODE   GM_NAAM WK_CODE      BUCODE    BU_NAAM    MEDIAN  KLASSE  DREMPEL  \\\n",
       "0    0995  Lelystad  099544  BU09954420  Waterwijk         0       0       -1   \n",
       "2    0995  Lelystad  099544  BU09954420  Waterwijk  15445000       3       20   \n",
       "3    0995  Lelystad  099544  BU09954420  Waterwijk   5824000       3       50   \n",
       "4    0995  Lelystad  099544  BU09954420  Waterwijk   1121500       3      200   \n",
       "\n",
       "   BIJDRAGE    KANS   MEDIAAN                          DIEPTE  \\\n",
       "0  0.007938  0.1000  0.100000  Geen significante overstroming   \n",
       "2  0.270427  0.0020  0.001545                waterdiepte > 20   \n",
       "3  0.269902  0.0010  0.000582                waterdiepte > 50   \n",
       "4  0.181306  0.0001  0.000112               waterdiepte > 200   \n",
       "\n",
       "                                 INTERVAL geometry bovengrens benedengrens  \n",
       "0                       geen overstroming     None        0.1      0.00234  \n",
       "2  geen overstroming, 20-50, 50-200, >200     None    0.00234     0.000694  \n",
       "3  geen overstroming, 20-50, 50-200, >200     None   0.000694     0.000112  \n",
       "4  geen overstroming, 20-50, 50-200, >200     None   0.000112        1e-06  "
      ]
     },
     "execution_count": 7,
     "metadata": {},
     "output_type": "execute_result"
    }
   ],
   "source": [
    "gdf.head()"
   ]
  },
  {
   "cell_type": "code",
   "execution_count": 8,
   "metadata": {},
   "outputs": [],
   "source": [
    "chart = alt.Chart(gdf)"
   ]
  },
  {
   "cell_type": "code",
   "execution_count": 13,
   "metadata": {},
   "outputs": [
    {
     "data": {
      "application/vnd.vegalite.v2+json": {
       "$schema": "https://vega.github.io/schema/vega-lite/v2.6.0.json",
       "config": {
        "view": {
         "height": 300,
         "width": 400
        }
       },
       "data": {
        "name": "data-64558ecd2c95461e0ce8f1e460b09955"
       },
       "datasets": {
        "data-64558ecd2c95461e0ce8f1e460b09955": [
         {
          "BIJDRAGE": 0.00793775984373,
          "BUCODE": "BU09954420",
          "BU_NAAM": "Waterwijk",
          "DIEPTE": "Geen significante overstroming",
          "DREMPEL": -1,
          "GM_CODE": "0995",
          "GM_NAAM": "Lelystad",
          "INTERVAL": "geen overstroming",
          "KANS": 0.1,
          "KLASSE": 0,
          "MEDIAAN": 0.1,
          "MEDIAN": 0,
          "WK_CODE": "099544",
          "benedengrens": 0.00234,
          "bovengrens": 0.1,
          "geometry": null
         },
         {
          "BIJDRAGE": 0.270427132001,
          "BUCODE": "BU09954420",
          "BU_NAAM": "Waterwijk",
          "DIEPTE": "waterdiepte > 20",
          "DREMPEL": 20,
          "GM_CODE": "0995",
          "GM_NAAM": "Lelystad",
          "INTERVAL": "geen overstroming, 20-50, 50-200, >200",
          "KANS": 0.002,
          "KLASSE": 3,
          "MEDIAAN": 0.0015445,
          "MEDIAN": 15445000,
          "WK_CODE": "099544",
          "benedengrens": 0.000694,
          "bovengrens": 0.00234,
          "geometry": null
         },
         {
          "BIJDRAGE": 0.269901860783,
          "BUCODE": "BU09954420",
          "BU_NAAM": "Waterwijk",
          "DIEPTE": "waterdiepte > 50",
          "DREMPEL": 50,
          "GM_CODE": "0995",
          "GM_NAAM": "Lelystad",
          "INTERVAL": "geen overstroming, 20-50, 50-200, >200",
          "KANS": 0.001,
          "KLASSE": 3,
          "MEDIAAN": 0.0005824,
          "MEDIAN": 5824000,
          "WK_CODE": "099544",
          "benedengrens": 0.000112,
          "bovengrens": 0.000694,
          "geometry": null
         },
         {
          "BIJDRAGE": 0.181306115369,
          "BUCODE": "BU09954420",
          "BU_NAAM": "Waterwijk",
          "DIEPTE": "waterdiepte > 200",
          "DREMPEL": 200,
          "GM_CODE": "0995",
          "GM_NAAM": "Lelystad",
          "INTERVAL": "geen overstroming, 20-50, 50-200, >200",
          "KANS": 0.0001,
          "KLASSE": 3,
          "MEDIAAN": 0.00011215,
          "MEDIAN": 1121500,
          "WK_CODE": "099544",
          "benedengrens": 1e-06,
          "bovengrens": 0.000112,
          "geometry": null
         }
        ]
       },
       "encoding": {
        "color": {
         "field": "DIEPTE",
         "type": "nominal"
        },
        "column": {
         "field": "GM_NAAM",
         "type": "nominal"
        },
        "x": {
         "field": "BU_NAAM",
         "type": "nominal"
        },
        "y": {
         "field": "benedengrens",
         "scale": {
          "type": "log"
         },
         "type": "quantitative"
        },
        "y2": {
         "field": "bovengrens",
         "type": "quantitative"
        }
       },
       "mark": "rect"
      },
      "image/png": "[encoded data removed]",
      "text/plain": [
       "<VegaLite 2 object>\n",
       "\n",
       "If you see this message, it means the renderer has not been properly enabled\n",
       "for the frontend that you are using. For more information, see\n",
       "https://altair-viz.github.io/user_guide/troubleshooting.html\n"
      ]
     },
     "execution_count": 13,
     "metadata": {},
     "output_type": "execute_result"
    }
   ],
   "source": [
    "chart.mark_rect().encode(\n",
    "    x = 'BU_NAAM',\n",
    "    y=alt.Y('benedengrens', scale = alt.Scale(type=\"log\")),\n",
    "    y2 = 'bovengrens',\n",
    "    color ='DIEPTE',\n",
    "    column = 'GM_NAAM'\n",
    ")"
   ]
  },
  {
   "cell_type": "code",
   "execution_count": 22,
   "metadata": {},
   "outputs": [
    {
     "data": {
      "application/vnd.vegalite.v2+json": {
       "$schema": "https://vega.github.io/schema/vega-lite/v2.6.0.json",
       "config": {
        "view": {
         "height": 300,
         "width": 400
        }
       },
       "data": {
        "name": "data-abab5daf9771dc0df18cf3ead2e9b95b"
       },
       "datasets": {
        "data-abab5daf9771dc0df18cf3ead2e9b95b": [
         {
          "BIJDRAGE": 0.00793775984373,
          "BUCODE": "BU09954420",
          "BU_NAAM": "Waterwijk",
          "DIEPTE": "Geen significante overstroming",
          "DREMPEL": -1,
          "GM_CODE": "0995",
          "GM_NAAM": "Lelystad",
          "INTERVAL": "geen overstroming",
          "KANS": 0.1,
          "KLASSE": 0,
          "MEDIAAN": 0.1,
          "MEDIAN": 0,
          "WK_CODE": "099544",
          "geometry": null
         },
         {
          "BIJDRAGE": 0.270427132001,
          "BUCODE": "BU09954420",
          "BU_NAAM": "Waterwijk",
          "DIEPTE": "waterdiepte > 20",
          "DREMPEL": 20,
          "GM_CODE": "0995",
          "GM_NAAM": "Lelystad",
          "INTERVAL": "geen overstroming, 20-50, 50-200, >200",
          "KANS": 0.002,
          "KLASSE": 3,
          "MEDIAAN": 0.0015445,
          "MEDIAN": 15445000,
          "WK_CODE": "099544",
          "geometry": null
         },
         {
          "BIJDRAGE": 0.269901860783,
          "BUCODE": "BU09954420",
          "BU_NAAM": "Waterwijk",
          "DIEPTE": "waterdiepte > 50",
          "DREMPEL": 50,
          "GM_CODE": "0995",
          "GM_NAAM": "Lelystad",
          "INTERVAL": "geen overstroming, 20-50, 50-200, >200",
          "KANS": 0.001,
          "KLASSE": 3,
          "MEDIAAN": 0.0005824,
          "MEDIAN": 5824000,
          "WK_CODE": "099544",
          "geometry": null
         },
         {
          "BIJDRAGE": 0.181306115369,
          "BUCODE": "BU09954420",
          "BU_NAAM": "Waterwijk",
          "DIEPTE": "waterdiepte > 200",
          "DREMPEL": 200,
          "GM_CODE": "0995",
          "GM_NAAM": "Lelystad",
          "INTERVAL": "geen overstroming, 20-50, 50-200, >200",
          "KANS": 0.0001,
          "KLASSE": 3,
          "MEDIAAN": 0.00011215,
          "MEDIAN": 1121500,
          "WK_CODE": "099544",
          "geometry": null
         }
        ]
       },
       "encoding": {
        "color": {
         "field": "DIEPTE",
         "type": "nominal"
        },
        "x": {
         "field": "BU_NAAM",
         "type": "nominal"
        },
        "y": {
         "field": "MEDIAAN",
         "scale": {
          "type": "linear"
         },
         "type": "quantitative"
        }
       },
       "mark": "bar"
      },
      "image/png": "[encoded data removed]",
      "text/plain": [
       "<VegaLite 2 object>\n",
       "\n",
       "If you see this message, it means the renderer has not been properly enabled\n",
       "for the frontend that you are using. For more information, see\n",
       "https://altair-viz.github.io/user_guide/troubleshooting.html\n"
      ]
     },
     "execution_count": 22,
     "metadata": {},
     "output_type": "execute_result"
    }
   ],
   "source": [
    "alt.Chart(gdf).mark_bar().encode(\n",
    "    x='BU_NAAM',\n",
    "    y=alt.Y('MEDIAAN', scale = alt.Scale(type=\"linear\")),\n",
    "    color='DIEPTE'\n",
    ")"
   ]
  },
  {
   "cell_type": "code",
   "execution_count": null,
   "metadata": {},
   "outputs": [],
   "source": []
  }
 ],
 "metadata": {
  "kernelspec": {
   "display_name": "Python 3",
   "language": "python",
   "name": "python3"
  },
  "language_info": {
   "codemirror_mode": {
    "name": "ipython",
    "version": 3
   },
   "file_extension": ".py",
   "mimetype": "text/x-python",
   "name": "python",
   "nbconvert_exporter": "python",
   "pygments_lexer": "ipython3",
   "version": "3.6.5"
  }
 },
 "nbformat": 4,
 "nbformat_minor": 2
}
