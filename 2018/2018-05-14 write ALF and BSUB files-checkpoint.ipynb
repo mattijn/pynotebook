{
 "cells": [
  {
   "cell_type": "code",
   "execution_count": 12,
   "metadata": {},
   "outputs": [],
   "source": [
    "import pandas as pd\n",
    "import numpy as np\n",
    "import sys\n",
    "import warnings\n",
    "import os\n",
    "from tqdm import tqdm_notebook as tqdm\n",
    "import matplotlib.pyplot as plt\n",
    "%matplotlib inline\n",
    "warnings.filterwarnings('ignore')"
   ]
  },
  {
   "cell_type": "markdown",
   "metadata": {},
   "source": [
    "#### Set paths"
   ]
  },
  {
   "cell_type": "code",
   "execution_count": 15,
   "metadata": {},
   "outputs": [],
   "source": [
    "in_dir = r'D:\\Projects\\Pr\\3711.10\\in_dir'\n",
    "out_dir = r'D:\\Projects\\Pr\\3711.10\\out_dir'\n",
    "input_file_name = os.path.join(in_dir, 'input_parameters.xlsx')\n",
    "output_alf_name = os.path.join(out_dir, 'UNPAVED_MVH.ALF')\n",
    "output_bsub_name = os.path.join(out_dir, 'bsub_your_model.sh')"
   ]
  },
  {
   "cell_type": "markdown",
   "metadata": {},
   "source": [
    "#### Read Excel Input"
   ]
  },
  {
   "cell_type": "code",
   "execution_count": 16,
   "metadata": {},
   "outputs": [
    {
     "data": {
      "text/html": [
       "<div>\n",
       "<style scoped>\n",
       "    .dataframe tbody tr th:only-of-type {\n",
       "        vertical-align: middle;\n",
       "    }\n",
       "\n",
       "    .dataframe tbody tr th {\n",
       "        vertical-align: top;\n",
       "    }\n",
       "\n",
       "    .dataframe thead th {\n",
       "        text-align: right;\n",
       "    }\n",
       "</style>\n",
       "<table border=\"1\" class=\"dataframe\">\n",
       "  <thead>\n",
       "    <tr style=\"text-align: right;\">\n",
       "      <th></th>\n",
       "      <th>location ID</th>\n",
       "      <th>parameter ID</th>\n",
       "      <th>parameter level</th>\n",
       "      <th>min</th>\n",
       "      <th>max</th>\n",
       "    </tr>\n",
       "  </thead>\n",
       "  <tbody>\n",
       "    <tr>\n",
       "      <th>0</th>\n",
       "      <td>Drain1</td>\n",
       "      <td>cvo</td>\n",
       "      <td>1</td>\n",
       "      <td>10</td>\n",
       "      <td>20</td>\n",
       "    </tr>\n",
       "    <tr>\n",
       "      <th>1</th>\n",
       "      <td>Drain1</td>\n",
       "      <td>cvo</td>\n",
       "      <td>2</td>\n",
       "      <td>20</td>\n",
       "      <td>30</td>\n",
       "    </tr>\n",
       "    <tr>\n",
       "      <th>2</th>\n",
       "      <td>Drain1</td>\n",
       "      <td>cvo</td>\n",
       "      <td>3</td>\n",
       "      <td>30</td>\n",
       "      <td>40</td>\n",
       "    </tr>\n",
       "    <tr>\n",
       "      <th>3</th>\n",
       "      <td>Drain1</td>\n",
       "      <td>cvo</td>\n",
       "      <td>4</td>\n",
       "      <td>40</td>\n",
       "      <td>50</td>\n",
       "    </tr>\n",
       "    <tr>\n",
       "      <th>4</th>\n",
       "      <td>Drain1</td>\n",
       "      <td>lv</td>\n",
       "      <td>1</td>\n",
       "      <td>50</td>\n",
       "      <td>60</td>\n",
       "    </tr>\n",
       "  </tbody>\n",
       "</table>\n",
       "</div>"
      ],
      "text/plain": [
       "  location ID parameter ID  parameter level  min  max\n",
       "0      Drain1          cvo                1   10   20\n",
       "1      Drain1          cvo                2   20   30\n",
       "2      Drain1          cvo                3   30   40\n",
       "3      Drain1          cvo                4   40   50\n",
       "4      Drain1           lv                1   50   60"
      ]
     },
     "execution_count": 16,
     "metadata": {},
     "output_type": "execute_result"
    }
   ],
   "source": [
    "df = pd.read_excel(input_file_name)\n",
    "df.head()"
   ]
  },
  {
   "cell_type": "markdown",
   "metadata": {},
   "source": [
    "#### Set sample size and number of decimals"
   ]
  },
  {
   "cell_type": "code",
   "execution_count": 17,
   "metadata": {},
   "outputs": [],
   "source": [
    "sample_size = 200\n",
    "decimals = 3"
   ]
  },
  {
   "cell_type": "markdown",
   "metadata": {},
   "source": [
    "#### Set `cvi` and `cvs` parameter values"
   ]
  },
  {
   "cell_type": "code",
   "execution_count": 18,
   "metadata": {},
   "outputs": [],
   "source": [
    "cvi_value = 400\n",
    "cvs_value = 0.1"
   ]
  },
  {
   "cell_type": "markdown",
   "metadata": {},
   "source": [
    "#### Set column-keys"
   ]
  },
  {
   "cell_type": "code",
   "execution_count": 19,
   "metadata": {},
   "outputs": [],
   "source": [
    "col_par_id = 'parameter ID'\n",
    "col_par_lvl = 'parameter level'\n",
    "col_par_rnd = 'random'\n",
    "val_par_cvo = 'cvo'\n",
    "val_par_lv = 'lv'"
   ]
  },
  {
   "cell_type": "code",
   "execution_count": 20,
   "metadata": {},
   "outputs": [
    {
     "name": "stdout",
     "output_type": "stream",
     "text": [
      "Drain1\n"
     ]
    },
    {
     "data": {
      "application/vnd.jupyter.widget-view+json": {
       "model_id": "9ad46d5da44944dc948686f645d04860",
       "version_major": 2,
       "version_minor": 0
      },
      "text/plain": [
       "HBox(children=(IntProgress(value=0, max=200), HTML(value='')))"
      ]
     },
     "metadata": {},
     "output_type": "display_data"
    },
    {
     "name": "stdout",
     "output_type": "stream",
     "text": [
      "\n",
      "Drain2\n"
     ]
    },
    {
     "data": {
      "application/vnd.jupyter.widget-view+json": {
       "model_id": "4410a56276dc461bba51433abf411c9b",
       "version_major": 2,
       "version_minor": 0
      },
      "text/plain": [
       "HBox(children=(IntProgress(value=0, max=200), HTML(value='')))"
      ]
     },
     "metadata": {},
     "output_type": "display_data"
    },
    {
     "name": "stdout",
     "output_type": "stream",
     "text": [
      "\n"
     ]
    }
   ],
   "source": [
    "alf_rows = []\n",
    "df_all = pd.DataFrame()\n",
    "grouped = df.groupby([\"location ID\"])\n",
    "\n",
    "for locID, group in grouped:\n",
    "    print(locID)\n",
    "    for sample_id in tqdm(range(sample_size)):\n",
    "        try:\n",
    "            count = group.shape[0]\n",
    "\n",
    "            param_rand = [np.round(np.random.uniform(row[1]['min'], row[1]['max']), decimals)\n",
    "                          for row in group.iterrows()]\n",
    "            group.loc[:, 'random'] = param_rand\n",
    "\n",
    "            dv = {'locID': locID,\n",
    "                  'cvi': cvi_value,\n",
    "                  'cvo1': group.loc[(group[col_par_id] == val_par_cvo) & (group[col_par_lvl] == 1), col_par_rnd].values[0],\n",
    "                  'cvo2': group.loc[(group[col_par_id] == val_par_cvo) & (group[col_par_lvl] == 2), col_par_rnd].values[0],\n",
    "                  'cvo3': group.loc[(group[col_par_id] == val_par_cvo) & (group[col_par_lvl] == 3), col_par_rnd].values[0],\n",
    "                  'cvo4': group.loc[(group[col_par_id] == val_par_cvo) & (group[col_par_lvl] == 4), col_par_rnd].values[0],\n",
    "                  'lv1': group.loc[(group[col_par_id] == val_par_lv) & (group[col_par_lvl] == 1), col_par_rnd].values[0],\n",
    "                  'lv2': group.loc[(group[col_par_id] == val_par_cvo) & (group[col_par_lvl] == 2), col_par_rnd].values[0],\n",
    "                  'lv3': group.loc[(group[col_par_id] == val_par_cvo) & (group[col_par_lvl] == 3), col_par_rnd].values[0]}\n",
    "\n",
    "            alf_row = \"ERNS id '{0}' nm '{0}' cvi {1} cvo {2} {3} {4} {5} cvs {6} {7} {8} erns\".format(\n",
    "                dv['locID'], dv['cvi'], dv['cvo1'], dv['cvo2'], dv['cvo3'], dv['cvo4'], dv['lv1'], dv['lv2'], dv['lv3'])\n",
    "            # print(alf_row)\n",
    "            alf_rows.append(alf_row)\n",
    "            df_sample = pd.DataFrame.from_dict(dv, orient='index').T\n",
    "            df_sample.rename(index={0: sample_id}, inplace=True)\n",
    "            df_all = df_all.append(df_sample)\n",
    "\n",
    "        except Exception as e:\n",
    "            if count != 7:\n",
    "                # catch number of variables\n",
    "                error = (\"Error: ID '{}' has {} parameter variables defined, fix first\".format(\n",
    "                    locID, count))\n",
    "                sys.exit(error)\n",
    "            else:\n",
    "                # return other errors\n",
    "                sys.exit(e)"
   ]
  },
  {
   "cell_type": "markdown",
   "metadata": {},
   "source": [
    "#### Visualise the histogram of each variable"
   ]
  },
  {
   "cell_type": "code",
   "execution_count": 21,
   "metadata": {},
   "outputs": [
    {
     "data": {
      "image/png": "[encoded data removed]",
      "text/plain": [
       "<matplotlib.figure.Figure at 0x7b7ac88>"
      ]
     },
     "metadata": {},
     "output_type": "display_data"
    }
   ],
   "source": [
    "out = df_all[df_all['locID'] == 'Drain1'][df_all.columns.difference(\n",
    "    ['locID', 'cvi'])].plot(kind='hist', subplots=True, figsize=(12, 8))"
   ]
  },
  {
   "cell_type": "markdown",
   "metadata": {},
   "source": [
    "#### Write to `.ALF` file"
   ]
  },
  {
   "cell_type": "code",
   "execution_count": 22,
   "metadata": {},
   "outputs": [],
   "source": [
    "with open(output_alf_name, 'w') as file_handler:\n",
    "    file_handler.write(\"\\n\".join(str(item) for item in alf_rows))"
   ]
  },
  {
   "cell_type": "markdown",
   "metadata": {},
   "source": [
    "#### Write `bsub` commands"
   ]
  },
  {
   "cell_type": "code",
   "execution_count": 11,
   "metadata": {},
   "outputs": [],
   "source": [
    "# define function\n",
    "def write_bsub(bsub_file, nodes, models, modeldir, case_id, que='production'):\n",
    "    \"\"\"\n",
    "    Write bsub string for 'your' model\n",
    "\n",
    "    Parameters\n",
    "    ----------\n",
    "    bsub_file : open file\n",
    "        Open file to write line to\n",
    "    nodes : list or int\n",
    "        nodes to assign calculations to\n",
    "    model : pandas.DataFrame\n",
    "        model properties\n",
    "    modeldir : str\n",
    "        directory where the models are located\n",
    "    projectfolder : str\n",
    "        directory of the project (eg. '3694_10')\n",
    "    case_id : str\n",
    "        Description for the case\n",
    "    \"\"\"\n",
    "\n",
    "    if not isinstance(nodes, list):\n",
    "        nodes = [nodes]\n",
    "\n",
    "    nodes = ' '.join(['node{:03d}'.format(m) for m in nodes])\n",
    "\n",
    "    string = (\n",
    "        'bsub -P {projectfolder} -cwd {modeldir} '\n",
    "        '-m \"{nodes}\" '\n",
    "        '-J {case_id} '\n",
    "        '-q \"{que}\" '\n",
    "        '-oo {case_id}.out -eo {case_id}.err '\n",
    "        '-R \"select[type==NTX64]\" '\n",
    "        'Manifest\\\\\\\\run_hbv_multiple.bat Sbk21204 pr 3694_10 sbk3694 {case_id} inputfiles hisfiles {modelargs}'\n",
    "    )\n",
    "\n",
    "    modelargs = ' '.join(['{}.lit {}'.format(model.model, model.subdir)\n",
    "                          for model in models.drop_duplicates(subset='model').itertuples()])\n",
    "\n",
    "    bsub_file.write(string.format(\n",
    "        nodes=nodes,\n",
    "        modeldir=modeldir.replace(\n",
    "            '/', r'\\\\').replace('r:', r'\\\\\\\\flevomeer\\\\projects'),\n",
    "        projectfolder=projectfolder,\n",
    "        modelargs=modelargs,\n",
    "        case_id=case_id,\n",
    "        que=que\n",
    "    ))\n",
    "\n",
    "    bsub_file.write('\\n')"
   ]
  },
  {
   "cell_type": "code",
   "execution_count": null,
   "metadata": {},
   "outputs": [],
   "source": [
    "# write bsub file for cluster\n",
    "bsub_file = open(output_bsub_name, 'w')\n",
    "\n",
    "models = pd.read_csv('c:/model_results/models.csv')\n",
    "\n",
    "for idx_date in tnrange(len(start_dates)):\n",
    "    batch_no = in_files[idx_file_start[idx_date]][-6:-3]\n",
    "    year_bat = str(idx_date).zfill(3)\n",
    "    case_id = '{0}_{1}'.format(batch_no, year_bat)\n",
    "    \n",
    "    bsub.write_hbv_bsub(\n",
    "        bsub_file=bsub_file,\n",
    "        nodes=[4, 5, 6],\n",
    "        models=models,\n",
    "        modeldir='r:/pr/3694_10/sbk3694',\n",
    "        case_id=case_id+'_GR'\n",
    "    )\n",
    "    \n",
    "bsub_file.close()"
   ]
  }
 ],
 "metadata": {
  "kernelspec": {
   "display_name": "Python 3",
   "language": "python",
   "name": "python3"
  },
  "language_info": {
   "codemirror_mode": {
    "name": "ipython",
    "version": 3
   },
   "file_extension": ".py",
   "mimetype": "text/x-python",
   "name": "python",
   "nbconvert_exporter": "python",
   "pygments_lexer": "ipython3",
   "version": "3.5.2"
  }
 },
 "nbformat": 4,
 "nbformat_minor": 2
}
