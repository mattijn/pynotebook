{
 "cells": [
  {
   "cell_type": "code",
   "execution_count": 11,
   "metadata": {},
   "outputs": [],
   "source": [
    "import geopandas as gpd\n",
    "import pandas as pd\n",
    "%matplotlib inline"
   ]
  },
  {
   "cell_type": "code",
   "execution_count": 24,
   "metadata": {},
   "outputs": [],
   "source": [
    "catchment = r\"D:\\Projects\\Pr\\3723.10\\Werkfolder\\catchments_raw.shp\"\n",
    "gdf_catchment = gpd.read_file(catchment)\n",
    "\n",
    "countries = r\"D:\\Projects\\Pr\\3723.10\\Werkfolder\\ecowas_countries_WGS84.shp\"\n",
    "gdf_countries = gpd.read_file(countries)\n",
    "gdf_countries = gdf_countries[~gdf_countries['geometry'].isnull()]\n",
    "gdf_countries = gdf_countries.dissolve('CODE')"
   ]
  },
  {
   "cell_type": "code",
   "execution_count": 25,
   "metadata": {},
   "outputs": [
    {
     "data": {
      "text/plain": [
       "<matplotlib.axes._subplots.AxesSubplot at 0x99f44e0>"
      ]
     },
     "execution_count": 25,
     "metadata": {},
     "output_type": "execute_result"
    },
    {
     "data": {
      "image/png": "[encoded data removed]",
      "text/plain": [
       "<Figure size 432x288 with 1 Axes>"
      ]
     },
     "metadata": {},
     "output_type": "display_data"
    }
   ],
   "source": [
    "gdf_countries.plot()"
   ]
  },
  {
   "cell_type": "code",
   "execution_count": 35,
   "metadata": {},
   "outputs": [
    {
     "name": "stdout",
     "output_type": "stream",
     "text": [
      "Benin\n",
      "Burkina Faso\n",
      "Cape Verde\n",
      "Cote d`Ivoire\n",
      "Gambia\n",
      "Ghana\n",
      "Guinea\n",
      "Guinea-Bissau\n",
      "Liberia\n",
      "Mali\n",
      "Niger\n",
      "Nigeria\n",
      "Senegal\n",
      "Sierra Leone\n",
      "Togo\n"
     ]
    }
   ],
   "source": [
    "dict_in = {}\n",
    "for idx, row in gdf_countries.iterrows():\n",
    "    key = row['COUNTRY']\n",
    "    print(key)\n",
    "    gdf_sel = gdf_catchment[gdf_catchment.overlaps(row['geometry'])]\n",
    "    items = gdf_sel['catchment_'].tolist()\n",
    "    dict_in.update({key: items})"
   ]
  },
  {
   "cell_type": "code",
   "execution_count": 37,
   "metadata": {},
   "outputs": [],
   "source": [
    "import os\n",
    "\n",
    "folder_in = r'D:\\Projects\\Pr\\3723.10\\Werkfolder'\n",
    "keys = dict_in.keys()\n",
    "with open(os.path.join(folder_in, 'catchments_in_country.txt'), 'w') as f:\n",
    "    for key in keys:\n",
    "        f.write('{}: \\n{}\\n\\n'.format(key, dict_in[key]))"
   ]
  },
  {
   "cell_type": "code",
   "execution_count": 36,
   "metadata": {},
   "outputs": [
    {
     "data": {
      "text/plain": [
       "{'Benin': ['-2', 'Niger', 'Oti'],\n",
       " 'Burkina Faso': ['-6',\n",
       "  '-7',\n",
       "  'Baoule_Bani',\n",
       "  'Black Volta',\n",
       "  'Komoe',\n",
       "  'Niger',\n",
       "  'Oti',\n",
       "  'White Volta'],\n",
       " 'Cape Verde': [],\n",
       " 'Cote d`Ivoire': ['-10',\n",
       "  '-18',\n",
       "  '-19',\n",
       "  '-8',\n",
       "  '-9',\n",
       "  'Bandama',\n",
       "  'Baoule_Bani',\n",
       "  'Black Volta',\n",
       "  'Cess',\n",
       "  'Komoe',\n",
       "  'Niger',\n",
       "  'Sassandra'],\n",
       " 'Gambia': ['-11', '-23', 'Gambia'],\n",
       " 'Ghana': ['-2',\n",
       "  '-6',\n",
       "  '-8',\n",
       "  'Black Volta',\n",
       "  'Komoe',\n",
       "  'Oti',\n",
       "  'Volta',\n",
       "  'White Volta'],\n",
       " 'Guinea': ['-17',\n",
       "  '-19',\n",
       "  '-20',\n",
       "  '-21',\n",
       "  '-22',\n",
       "  '-23',\n",
       "  'Baoule',\n",
       "  'Baoule_Bani',\n",
       "  'Cess',\n",
       "  'Gambia',\n",
       "  'Niger',\n",
       "  'Rokel',\n",
       "  'Sassandra',\n",
       "  'Senegal',\n",
       "  'St Paul'],\n",
       " 'Guinea-Bissau': ['-22', '-23', 'Rokel'],\n",
       " 'Liberia': ['-19', '-20', '-21', 'Cess', 'St Paul'],\n",
       " 'Mali': ['-13',\n",
       "  '-15',\n",
       "  '-17',\n",
       "  '-7',\n",
       "  'Bandama',\n",
       "  'Baoule',\n",
       "  'Baoule_Bani',\n",
       "  'Black Volta',\n",
       "  'Komoe',\n",
       "  'Niger',\n",
       "  'Senegal'],\n",
       " 'Niger': ['Komadugu', 'Niger', 'Sokoto'],\n",
       " 'Nigeria': ['-2', '-5', 'Benue', 'Komadugu', 'Niger', 'Sokoto'],\n",
       " 'Senegal': ['-11', '-23', 'Gambia', 'Senegal'],\n",
       " 'Sierra Leone': ['-20', '-21', 'Niger', 'Rokel'],\n",
       " 'Togo': ['-2', 'Oti', 'Volta', 'White Volta']}"
      ]
     },
     "execution_count": 36,
     "metadata": {},
     "output_type": "execute_result"
    }
   ],
   "source": [
    "dict_in"
   ]
  },
  {
   "cell_type": "code",
   "execution_count": null,
   "metadata": {},
   "outputs": [],
   "source": []
  }
 ],
 "metadata": {
  "kernelspec": {
   "display_name": "Python 3",
   "language": "python",
   "name": "python3"
  },
  "language_info": {
   "codemirror_mode": {
    "name": "ipython",
    "version": 3
   },
   "file_extension": ".py",
   "mimetype": "text/x-python",
   "name": "python",
   "nbconvert_exporter": "python",
   "pygments_lexer": "ipython3",
   "version": "3.6.5"
  }
 },
 "nbformat": 4,
 "nbformat_minor": 2
}
