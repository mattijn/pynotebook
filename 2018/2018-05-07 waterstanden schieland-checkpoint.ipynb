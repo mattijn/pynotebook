{
 "cells": [
  {
   "cell_type": "code",
   "execution_count": 1,
   "metadata": {},
   "outputs": [],
   "source": [
    "import pandas as pd\n",
    "import numpy as np\n",
    "import matplotlib.pyplot as plt"
   ]
  },
  {
   "cell_type": "code",
   "execution_count": 2,
   "metadata": {},
   "outputs": [],
   "source": [
    "csv_in = r'T:\\@Mattij\\WaterstandenRotte.csv'"
   ]
  },
  {
   "cell_type": "markdown",
   "metadata": {},
   "source": [
    "### Read csv"
   ]
  },
  {
   "cell_type": "code",
   "execution_count": 21,
   "metadata": {},
   "outputs": [
    {
     "name": "stderr",
     "output_type": "stream",
     "text": [
      "c:\\python35\\lib\\site-packages\\IPython\\core\\interactiveshell.py:2728: DtypeWarning: Columns (1,3,5,7,9,11,13,15,17,19,21) have mixed types. Specify dtype option on import or set low_memory=False.\n",
      "  interactivity=interactivity, compiler=compiler, result=result)\n"
     ]
    }
   ],
   "source": [
    "df = pd.read_csv(csv_in)\n",
    "df = df.drop(index=0)\n",
    "df.set_index('Unnamed: 0', inplace=True)\n",
    "df.index = pd.to_datetime(df.index)\n",
    "df.index.name = 'datetime'"
   ]
  },
  {
   "cell_type": "markdown",
   "metadata": {},
   "source": [
    "### Select columns and parse as float, replace -999 values"
   ]
  },
  {
   "cell_type": "code",
   "execution_count": 22,
   "metadata": {},
   "outputs": [],
   "source": [
    "df = df[['MPN-416', 'MPN-435','MPN-439','MPN-507','MPN-519','MPN-532','MPN-533','PLS-614','PLS-68','PLS-70']]\n",
    "df = df.astype(float)\n",
    "df.replace(-999,np.nan, inplace=True)\n",
    "\n",
    "# if necessary, resample to other timestep\n",
    "df = df.resample('10Min').mean()"
   ]
  },
  {
   "cell_type": "code",
   "execution_count": 23,
   "metadata": {},
   "outputs": [
    {
     "data": {
      "text/html": [
       "<div>\n",
       "<style scoped>\n",
       "    .dataframe tbody tr th:only-of-type {\n",
       "        vertical-align: middle;\n",
       "    }\n",
       "\n",
       "    .dataframe tbody tr th {\n",
       "        vertical-align: top;\n",
       "    }\n",
       "\n",
       "    .dataframe thead th {\n",
       "        text-align: right;\n",
       "    }\n",
       "</style>\n",
       "<table border=\"1\" class=\"dataframe\">\n",
       "  <thead>\n",
       "    <tr style=\"text-align: right;\">\n",
       "      <th></th>\n",
       "      <th>MPN-416</th>\n",
       "      <th>MPN-435</th>\n",
       "      <th>MPN-439</th>\n",
       "      <th>MPN-507</th>\n",
       "      <th>MPN-519</th>\n",
       "      <th>MPN-532</th>\n",
       "      <th>MPN-533</th>\n",
       "      <th>PLS-614</th>\n",
       "      <th>PLS-68</th>\n",
       "      <th>PLS-70</th>\n",
       "    </tr>\n",
       "    <tr>\n",
       "      <th>datetime</th>\n",
       "      <th></th>\n",
       "      <th></th>\n",
       "      <th></th>\n",
       "      <th></th>\n",
       "      <th></th>\n",
       "      <th></th>\n",
       "      <th></th>\n",
       "      <th></th>\n",
       "      <th></th>\n",
       "      <th></th>\n",
       "    </tr>\n",
       "  </thead>\n",
       "  <tbody>\n",
       "    <tr>\n",
       "      <th>2015-01-01 00:00:00</th>\n",
       "      <td>-1.0595</td>\n",
       "      <td>NaN</td>\n",
       "      <td>-1.054</td>\n",
       "      <td>NaN</td>\n",
       "      <td>NaN</td>\n",
       "      <td>NaN</td>\n",
       "      <td>NaN</td>\n",
       "      <td>NaN</td>\n",
       "      <td>NaN</td>\n",
       "      <td>NaN</td>\n",
       "    </tr>\n",
       "    <tr>\n",
       "      <th>2015-01-01 00:10:00</th>\n",
       "      <td>-1.0630</td>\n",
       "      <td>NaN</td>\n",
       "      <td>NaN</td>\n",
       "      <td>NaN</td>\n",
       "      <td>NaN</td>\n",
       "      <td>NaN</td>\n",
       "      <td>NaN</td>\n",
       "      <td>NaN</td>\n",
       "      <td>NaN</td>\n",
       "      <td>NaN</td>\n",
       "    </tr>\n",
       "    <tr>\n",
       "      <th>2015-01-01 00:20:00</th>\n",
       "      <td>-1.0635</td>\n",
       "      <td>NaN</td>\n",
       "      <td>NaN</td>\n",
       "      <td>NaN</td>\n",
       "      <td>NaN</td>\n",
       "      <td>NaN</td>\n",
       "      <td>NaN</td>\n",
       "      <td>NaN</td>\n",
       "      <td>NaN</td>\n",
       "      <td>NaN</td>\n",
       "    </tr>\n",
       "    <tr>\n",
       "      <th>2015-01-01 00:30:00</th>\n",
       "      <td>-1.0645</td>\n",
       "      <td>NaN</td>\n",
       "      <td>NaN</td>\n",
       "      <td>NaN</td>\n",
       "      <td>NaN</td>\n",
       "      <td>NaN</td>\n",
       "      <td>NaN</td>\n",
       "      <td>NaN</td>\n",
       "      <td>NaN</td>\n",
       "      <td>NaN</td>\n",
       "    </tr>\n",
       "    <tr>\n",
       "      <th>2015-01-01 00:40:00</th>\n",
       "      <td>-1.0705</td>\n",
       "      <td>NaN</td>\n",
       "      <td>NaN</td>\n",
       "      <td>NaN</td>\n",
       "      <td>NaN</td>\n",
       "      <td>NaN</td>\n",
       "      <td>NaN</td>\n",
       "      <td>NaN</td>\n",
       "      <td>NaN</td>\n",
       "      <td>NaN</td>\n",
       "    </tr>\n",
       "  </tbody>\n",
       "</table>\n",
       "</div>"
      ],
      "text/plain": [
       "                     MPN-416  MPN-435  MPN-439  MPN-507  MPN-519  MPN-532  \\\n",
       "datetime                                                                    \n",
       "2015-01-01 00:00:00  -1.0595      NaN   -1.054      NaN      NaN      NaN   \n",
       "2015-01-01 00:10:00  -1.0630      NaN      NaN      NaN      NaN      NaN   \n",
       "2015-01-01 00:20:00  -1.0635      NaN      NaN      NaN      NaN      NaN   \n",
       "2015-01-01 00:30:00  -1.0645      NaN      NaN      NaN      NaN      NaN   \n",
       "2015-01-01 00:40:00  -1.0705      NaN      NaN      NaN      NaN      NaN   \n",
       "\n",
       "                     MPN-533  PLS-614  PLS-68  PLS-70  \n",
       "datetime                                               \n",
       "2015-01-01 00:00:00      NaN      NaN     NaN     NaN  \n",
       "2015-01-01 00:10:00      NaN      NaN     NaN     NaN  \n",
       "2015-01-01 00:20:00      NaN      NaN     NaN     NaN  \n",
       "2015-01-01 00:30:00      NaN      NaN     NaN     NaN  \n",
       "2015-01-01 00:40:00      NaN      NaN     NaN     NaN  "
      ]
     },
     "execution_count": 23,
     "metadata": {},
     "output_type": "execute_result"
    }
   ],
   "source": [
    "df.head()"
   ]
  },
  {
   "cell_type": "markdown",
   "metadata": {},
   "source": [
    "### Create dataframe of existing and not existing values using 0 and 1"
   ]
  },
  {
   "cell_type": "code",
   "execution_count": 24,
   "metadata": {},
   "outputs": [],
   "source": [
    "newdf = df.notnull().astype('int')\n",
    "newdf.replace(0,np.nan, inplace=True)"
   ]
  },
  {
   "cell_type": "markdown",
   "metadata": {},
   "source": [
    "### Iterate over columns and increase line value"
   ]
  },
  {
   "cell_type": "code",
   "execution_count": 25,
   "metadata": {},
   "outputs": [
    {
     "name": "stdout",
     "output_type": "stream",
     "text": [
      "0 MPN-416\n",
      "1 MPN-435\n",
      "2 MPN-439\n",
      "3 MPN-507\n",
      "4 MPN-519\n",
      "5 MPN-532\n",
      "6 MPN-533\n",
      "7 PLS-614\n",
      "8 PLS-68\n",
      "9 PLS-70\n"
     ]
    }
   ],
   "source": [
    "for idx, col in enumerate(newdf.columns):\n",
    "    print(idx, col)\n",
    "    newdf[col] = newdf[col] + idx"
   ]
  },
  {
   "cell_type": "markdown",
   "metadata": {},
   "source": [
    "### plot"
   ]
  },
  {
   "cell_type": "code",
   "execution_count": 27,
   "metadata": {},
   "outputs": [
    {
     "data": {
      "image/png": "[encoded data removed]",
      "text/plain": [
       "<matplotlib.figure.Figure at 0x1c6e6630>"
      ]
     },
     "metadata": {},
     "output_type": "display_data"
    }
   ],
   "source": [
    "%matplotlib inline\n",
    "#%matplotlib notebook\n",
    "\n",
    "ax = newdf.plot(legend=False, figsize=(12,5),lw=4)\n",
    "#ax = newdf.plot(legend=False, figsize=(12,5),lw=4)\n",
    "ax.set_yticks(range(1,len(df.columns)+1))\n",
    "ax.set_yticklabels(list(df.columns))\n",
    "plt.show()"
   ]
  },
  {
   "cell_type": "code",
   "execution_count": null,
   "metadata": {},
   "outputs": [],
   "source": []
  }
 ],
 "metadata": {
  "kernelspec": {
   "display_name": "Python 3",
   "language": "python",
   "name": "python3"
  },
  "language_info": {
   "codemirror_mode": {
    "name": "ipython",
    "version": 3
   },
   "file_extension": ".py",
   "mimetype": "text/x-python",
   "name": "python",
   "nbconvert_exporter": "python",
   "pygments_lexer": "ipython3",
   "version": "3.5.2"
  }
 },
 "nbformat": 4,
 "nbformat_minor": 2
}
