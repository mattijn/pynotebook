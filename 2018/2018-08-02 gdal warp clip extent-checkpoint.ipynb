{
 "cells": [
  {
   "cell_type": "code",
   "execution_count": 1,
   "metadata": {},
   "outputs": [],
   "source": [
    "from osgeo import gdal\n",
    "import numpy as np\n",
    "import os"
   ]
  },
  {
   "cell_type": "code",
   "execution_count": 2,
   "metadata": {},
   "outputs": [],
   "source": [
    "def coord(file):\n",
    "    \"\"\"\n",
    "    function to get coordinates of gdal array computed from GeoTransform\n",
    "    \"\"\"\n",
    "    padfTransform = file.GetGeoTransform()\n",
    "    indices = np.indices(file.ReadAsArray().shape)\n",
    "    xp = padfTransform[0] + indices[1]*padfTransform[1] + indices[1]*padfTransform[2]   \n",
    "    yp = padfTransform[3] + indices[0]*padfTransform[4] + indices[0]*padfTransform[5]  \n",
    "    return xp,yp"
   ]
  },
  {
   "cell_type": "code",
   "execution_count": 3,
   "metadata": {},
   "outputs": [],
   "source": [
    "get_extent_ds = r'T:\\2Mattijn\\SPEI\\tif\\ncastif.tif'\n",
    "ds_2_clip = r'T:\\2Mattijn\\SPEI\\tif\\hdfastif.tif'"
   ]
  },
  {
   "cell_type": "code",
   "execution_count": 4,
   "metadata": {},
   "outputs": [],
   "source": [
    "# open clipped array and check extent\n",
    "ds = gdal.Open(get_extent_ds, gdal.GA_ReadOnly) # A GeoTiff file\n",
    "x,y = coord(ds)\n",
    "x_minmax = x[0][np.r_[0, -1]]\n",
    "y_minmax = y[:,0][np.r_[0, -1]]"
   ]
  },
  {
   "cell_type": "code",
   "execution_count": 5,
   "metadata": {},
   "outputs": [],
   "source": [
    "x_res = ds.GetGeoTransform()[1]\n",
    "y_res = ds.GetGeoTransform()[-1]"
   ]
  },
  {
   "cell_type": "code",
   "execution_count": 6,
   "metadata": {},
   "outputs": [],
   "source": [
    "xmin = x_minmax[0]\n",
    "ymin = y_minmax[1]\n",
    "xmax = x_minmax[1] + x_res # + x_rest to get extent, only just not 'intent'\n",
    "ymax = y_minmax[0] + -(y_res) # source y_resolution is negative, invert"
   ]
  },
  {
   "cell_type": "code",
   "execution_count": 7,
   "metadata": {},
   "outputs": [
    {
     "name": "stdout",
     "output_type": "stream",
     "text": [
      "tiffed hdf clip : T:\\2Mattijn\\SPEI\\tif\\hdf_tif_clip8.tif\n"
     ]
    }
   ],
   "source": [
    "# create tmp file directory\n",
    "path_out = os.path.join(r'T:\\2Mattijn\\SPEI\\tif','hdf_tif_clip.tif')\n",
    "print('tiffed hdf clip : {0}'.format(path_out))"
   ]
  },
  {
   "cell_type": "code",
   "execution_count": 8,
   "metadata": {},
   "outputs": [],
   "source": [
    "warp_options = gdal.WarpOptions(outputBounds=(xmin, ymin, xmax, ymax),\n",
    "                                xRes=x_res,\n",
    "                                yRes=y_res\n",
    "                               )\n",
    "res = gdal.Warp(path_out, ds_2_clip, options=warp_options)\n",
    "res = None"
   ]
  },
  {
   "cell_type": "code",
   "execution_count": null,
   "metadata": {},
   "outputs": [],
   "source": []
  }
 ],
 "metadata": {
  "kernelspec": {
   "display_name": "Python 3",
   "language": "python",
   "name": "python3"
  },
  "language_info": {
   "codemirror_mode": {
    "name": "ipython",
    "version": 3
   },
   "file_extension": ".py",
   "mimetype": "text/x-python",
   "name": "python",
   "nbconvert_exporter": "python",
   "pygments_lexer": "ipython3",
   "version": "3.5.2"
  }
 },
 "nbformat": 4,
 "nbformat_minor": 2
}
