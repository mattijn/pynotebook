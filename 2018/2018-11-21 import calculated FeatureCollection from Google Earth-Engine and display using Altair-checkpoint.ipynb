{
 "cells": [
  {
   "cell_type": "code",
   "execution_count": 1,
   "metadata": {},
   "outputs": [],
   "source": [
    "# import packages\n",
    "import numpy as np\n",
    "import pandas as pd\n",
    "import geopandas as gpd\n",
    "import altair as alt"
   ]
  },
  {
   "cell_type": "code",
   "execution_count": 2,
   "metadata": {},
   "outputs": [],
   "source": [
    "# open the exported table (GeoJSON format) from GEE in a GeoDataFrame\n",
    "fp_geojson = r\"D:\\jupyter notebooks\\3427.10 Myanmar FewsPi\\GEE training\\Training december 2018\\profiles_irrawady_v2.geojson\"\n",
    "gdf = gpd.read_file(fp_geojson)"
   ]
  },
  {
   "cell_type": "code",
   "execution_count": 3,
   "metadata": {},
   "outputs": [
    {
     "data": {
      "text/html": [
       "<div>\n",
       "<style scoped>\n",
       "    .dataframe tbody tr th:only-of-type {\n",
       "        vertical-align: middle;\n",
       "    }\n",
       "\n",
       "    .dataframe tbody tr th {\n",
       "        vertical-align: top;\n",
       "    }\n",
       "\n",
       "    .dataframe thead th {\n",
       "        text-align: right;\n",
       "    }\n",
       "</style>\n",
       "<table border=\"1\" class=\"dataframe\">\n",
       "  <thead>\n",
       "    <tr style=\"text-align: right;\">\n",
       "      <th></th>\n",
       "      <th>FID</th>\n",
       "      <th>dist</th>\n",
       "      <th>id</th>\n",
       "      <th>section_profile</th>\n",
       "      <th>geometry</th>\n",
       "    </tr>\n",
       "  </thead>\n",
       "  <tbody>\n",
       "    <tr>\n",
       "      <th>0</th>\n",
       "      <td>42</td>\n",
       "      <td>0.43</td>\n",
       "      <td>42</td>\n",
       "      <td>{'list': [[5060.0, 31], [5070.0, 31], [5080.0,...</td>\n",
       "      <td>LINESTRING (95.61285046534975 16.9956408015757...</td>\n",
       "    </tr>\n",
       "    <tr>\n",
       "      <th>1</th>\n",
       "      <td>44</td>\n",
       "      <td>0.45</td>\n",
       "      <td>44</td>\n",
       "      <td>{'list': [[4190.0, 3], [4200.0, 3], [4210.0, 3...</td>\n",
       "      <td>LINESTRING (95.62048062445238 16.9797970006156...</td>\n",
       "    </tr>\n",
       "    <tr>\n",
       "      <th>2</th>\n",
       "      <td>43</td>\n",
       "      <td>0.44</td>\n",
       "      <td>43</td>\n",
       "      <td>{'list': [[760.0, 5], [770.0, 5], [970.0, 1], ...</td>\n",
       "      <td>LINESTRING (95.60867631948776 17.0016551622801...</td>\n",
       "    </tr>\n",
       "    <tr>\n",
       "      <th>3</th>\n",
       "      <td>41</td>\n",
       "      <td>0.42</td>\n",
       "      <td>41</td>\n",
       "      <td>{'list': [[920.0, 7], [930.0, 7], [940.0, 7], ...</td>\n",
       "      <td>LINESTRING (95.61307488179396 16.9973014832627...</td>\n",
       "    </tr>\n",
       "    <tr>\n",
       "      <th>4</th>\n",
       "      <td>40</td>\n",
       "      <td>0.41</td>\n",
       "      <td>40</td>\n",
       "      <td>{'list': [[5050.0, 4], [5060.0, 4], [5070.0, 4...</td>\n",
       "      <td>LINESTRING (95.61473556348099 16.9901650403374...</td>\n",
       "    </tr>\n",
       "  </tbody>\n",
       "</table>\n",
       "</div>"
      ],
      "text/plain": [
       "   FID  dist  id                                    section_profile  \\\n",
       "0   42  0.43  42  {'list': [[5060.0, 31], [5070.0, 31], [5080.0,...   \n",
       "1   44  0.45  44  {'list': [[4190.0, 3], [4200.0, 3], [4210.0, 3...   \n",
       "2   43  0.44  43  {'list': [[760.0, 5], [770.0, 5], [970.0, 1], ...   \n",
       "3   41  0.42  41  {'list': [[920.0, 7], [930.0, 7], [940.0, 7], ...   \n",
       "4   40  0.41  40  {'list': [[5050.0, 4], [5060.0, 4], [5070.0, 4...   \n",
       "\n",
       "                                            geometry  \n",
       "0  LINESTRING (95.61285046534975 16.9956408015757...  \n",
       "1  LINESTRING (95.62048062445238 16.9797970006156...  \n",
       "2  LINESTRING (95.60867631948776 17.0016551622801...  \n",
       "3  LINESTRING (95.61307488179396 16.9973014832627...  \n",
       "4  LINESTRING (95.61473556348099 16.9901650403374...  "
      ]
     },
     "execution_count": 3,
     "metadata": {},
     "output_type": "execute_result"
    }
   ],
   "source": [
    "# plot our sections and show the first five rows of the table\n",
    "gdf.plot()\n",
    "gdf.head()"
   ]
  },
  {
   "cell_type": "code",
   "execution_count": 4,
   "metadata": {},
   "outputs": [
    {
     "data": {
      "text/plain": [
       "0    {'list': [[5060.0, 31], [5070.0, 31], [5080.0,...\n",
       "1    {'list': [[4190.0, 3], [4200.0, 3], [4210.0, 3...\n",
       "2    {'list': [[760.0, 5], [770.0, 5], [970.0, 1], ...\n",
       "3    {'list': [[920.0, 7], [930.0, 7], [940.0, 7], ...\n",
       "4    {'list': [[5050.0, 4], [5060.0, 4], [5070.0, 4...\n",
       "Name: section_profile, dtype: object"
      ]
     },
     "execution_count": 4,
     "metadata": {},
     "output_type": "execute_result"
    }
   ],
   "source": [
    "gdf['section_profile'].head()"
   ]
  },
  {
   "cell_type": "code",
   "execution_count": 5,
   "metadata": {},
   "outputs": [],
   "source": [
    "# x : dist\n",
    "# y : section_profile['list'][:, 0]\n",
    "# z : section_profile['list'][:, 1]"
   ]
  },
  {
   "cell_type": "code",
   "execution_count": 6,
   "metadata": {},
   "outputs": [],
   "source": [
    "df = pd.DataFrame()\n",
    "for idx, row in gdf.iterrows():\n",
    "    x = row['dist']\n",
    "    \n",
    "    section = np.array(row['section_profile']['list'])\n",
    "    y = section[:, 0]\n",
    "    z = section[:, 1]\n",
    "  \n",
    "    d = {'river_distance':[x] * len(y), 'section_meters':y, 'water_occurence':z}\n",
    "    df_row = pd.DataFrame(d)\n",
    "  \n",
    "    df = df.append(df_row, ignore_index=True)\n",
    "df.sort_values(by=['river_distance'], inplace=True)"
   ]
  },
  {
   "cell_type": "code",
   "execution_count": 7,
   "metadata": {},
   "outputs": [
    {
     "data": {
      "text/html": [
       "<div>\n",
       "<style scoped>\n",
       "    .dataframe tbody tr th:only-of-type {\n",
       "        vertical-align: middle;\n",
       "    }\n",
       "\n",
       "    .dataframe tbody tr th {\n",
       "        vertical-align: top;\n",
       "    }\n",
       "\n",
       "    .dataframe thead th {\n",
       "        text-align: right;\n",
       "    }\n",
       "</style>\n",
       "<table border=\"1\" class=\"dataframe\">\n",
       "  <thead>\n",
       "    <tr style=\"text-align: right;\">\n",
       "      <th></th>\n",
       "      <th>river_distance</th>\n",
       "      <th>section_meters</th>\n",
       "      <th>water_occurence</th>\n",
       "    </tr>\n",
       "  </thead>\n",
       "  <tbody>\n",
       "    <tr>\n",
       "      <th>13191</th>\n",
       "      <td>0.01</td>\n",
       "      <td>5910.0</td>\n",
       "      <td>42.0</td>\n",
       "    </tr>\n",
       "    <tr>\n",
       "      <th>13217</th>\n",
       "      <td>0.01</td>\n",
       "      <td>6190.0</td>\n",
       "      <td>98.0</td>\n",
       "    </tr>\n",
       "    <tr>\n",
       "      <th>13218</th>\n",
       "      <td>0.01</td>\n",
       "      <td>6210.0</td>\n",
       "      <td>98.0</td>\n",
       "    </tr>\n",
       "    <tr>\n",
       "      <th>13219</th>\n",
       "      <td>0.01</td>\n",
       "      <td>6220.0</td>\n",
       "      <td>98.0</td>\n",
       "    </tr>\n",
       "    <tr>\n",
       "      <th>13220</th>\n",
       "      <td>0.01</td>\n",
       "      <td>6230.0</td>\n",
       "      <td>98.0</td>\n",
       "    </tr>\n",
       "  </tbody>\n",
       "</table>\n",
       "</div>"
      ],
      "text/plain": [
       "       river_distance  section_meters  water_occurence\n",
       "13191            0.01          5910.0             42.0\n",
       "13217            0.01          6190.0             98.0\n",
       "13218            0.01          6210.0             98.0\n",
       "13219            0.01          6220.0             98.0\n",
       "13220            0.01          6230.0             98.0"
      ]
     },
     "execution_count": 7,
     "metadata": {},
     "output_type": "execute_result"
    }
   ],
   "source": [
    "df.head()"
   ]
  },
  {
   "cell_type": "code",
   "execution_count": 8,
   "metadata": {},
   "outputs": [],
   "source": [
    "#df.loc[:,'river_distance'] = df.river_distance.tolist()[::-1]"
   ]
  },
  {
   "cell_type": "code",
   "execution_count": 12,
   "metadata": {},
   "outputs": [],
   "source": [
    "df_cl = pd.DataFrame([{\"centerline\": 7225}])\n",
    "df_labels = pd.DataFrame({\n",
    "    'section_meters': [8680, 6347],\n",
    "    'river_distance': [0.31, 0.09],\n",
    "    'city': ['Nyaungdon', 'Danuby']\n",
    "})"
   ]
  },
  {
   "cell_type": "code",
   "execution_count": 13,
   "metadata": {},
   "outputs": [
    {
     "data": {
      "text/plain": [
       "DataTransformerRegistry.enable('json')"
      ]
     },
     "execution_count": 13,
     "metadata": {},
     "output_type": "execute_result"
    }
   ],
   "source": [
    "alt.data_transformers.enable('json')"
   ]
  },
  {
   "cell_type": "code",
   "execution_count": 16,
   "metadata": {},
   "outputs": [
    {
     "data": {
      "application/vnd.vegalite.v2+json": {
       "$schema": "https://vega.github.io/schema/vega-lite/v2.6.0.json",
       "config": {
        "view": {
         "height": 300,
         "width": 400
        }
       },
       "layer": [
        {
         "data": {
          "format": {
           "type": "json"
          },
          "url": "altair-data-8566d806844806a0e882fef4b0438125.json"
         },
         "encoding": {
          "color": {
           "field": "water_occurence",
           "legend": {
            "title": "water occurrence (%)"
           },
           "scale": {
            "range": [
             "#B8E377",
             "#AAC7FD",
             "#97D9E8",
             "#0000DC"
            ]
           },
           "type": "quantitative"
          },
          "x": {
           "bin": {
            "maxbins": 100
           },
           "field": "section_meters",
           "scale": {
            "paddingInner": 0,
            "rangeStep": 15
           },
           "sort": "descending",
           "title": "section distance (meters)",
           "type": "quantitative"
          },
          "y": {
           "field": "river_distance",
           "scale": {
            "paddingInner": 0,
            "rangeStep": 10
           },
           "title": "river distance (degrees)",
           "type": "ordinal"
          }
         },
         "mark": "rect"
        },
        {
         "data": {
          "format": {
           "type": "json"
          },
          "url": "altair-data-3f9c8de4435fed0fad39c14091641740.json"
         },
         "encoding": {
          "x": {
           "field": "centerline",
           "type": "quantitative"
          }
         },
         "mark": "rule"
        },
        {
         "data": {
          "format": {
           "type": "json"
          },
          "url": "altair-data-f8e06e775f66ffd261fd8ef783f62061.json"
         },
         "encoding": {
          "size": {
           "value": 120
          },
          "x": {
           "field": "section_meters",
           "type": "quantitative"
          },
          "y": {
           "field": "river_distance",
           "type": "ordinal"
          }
         },
         "mark": {
          "color": "orange",
          "filled": true,
          "opacity": 1,
          "type": "point"
         }
        },
        {
         "data": {
          "format": {
           "type": "json"
          },
          "url": "altair-data-f8e06e775f66ffd261fd8ef783f62061.json"
         },
         "encoding": {
          "size": {
           "value": 15
          },
          "text": {
           "field": "city",
           "type": "nominal"
          },
          "x": {
           "field": "section_meters",
           "type": "quantitative"
          },
          "y": {
           "field": "river_distance",
           "type": "ordinal"
          }
         },
         "mark": {
          "align": "left",
          "baseline": "middle",
          "color": "orange",
          "dx": 7,
          "dy": -7,
          "type": "text"
         }
        }
       ]
      },
      "image/png": "[encoded data removed]",
      "text/plain": [
       "<VegaLite 2 object>\n",
       "\n",
       "If you see this message, it means the renderer has not been properly enabled\n",
       "for the frontend that you are using. For more information, see\n",
       "https://altair-viz.github.io/user_guide/troubleshooting.html\n"
      ]
     },
     "execution_count": 16,
     "metadata": {},
     "output_type": "execute_result"
    }
   ],
   "source": [
    "# create a heatmap using water occurrence\n",
    "occurrence = alt.Chart(df).mark_rect().encode(\n",
    "    x=alt.X('section_meters', \n",
    "            bin=alt.Bin(maxbins=100), \n",
    "            sort='descending',\n",
    "            scale=alt.Scale(rangeStep=15, paddingInner=0.0), \n",
    "            title='section distance (meters)'),\n",
    "    y=alt.Y('river_distance:O', \n",
    "            scale=alt.Scale(rangeStep=10, paddingInner=0.0), \n",
    "            title='river distance (degrees)'),\n",
    "    color=alt.Color('water_occurence:Q', \n",
    "                    scale = alt.Scale(range=['#B8E377','#AAC7FD','#97D9E8','#0000DC']),\n",
    "                    legend = alt.Legend(title='water occurrence (%)'))\n",
    ")\n",
    "\n",
    "# add the centerline of the envelope\n",
    "centerline = alt.Chart(df_cl).mark_rule().encode(\n",
    "    x=alt.X('centerline:Q')\n",
    ")\n",
    "\n",
    "# add the locations of the cities\n",
    "citylocs = alt.Chart(df_labels).mark_point(\n",
    "    filled=True, \n",
    "    color='orange',\n",
    "    opacity=1).encode(\n",
    "      x=alt.X('section_meters:Q'),\n",
    "      y=alt.Y('river_distance:O'),\n",
    "      size=alt.value(120)\n",
    ")\n",
    "\n",
    "# add the labels of the locations of the cities\n",
    "citylabels = citylocs.mark_text(\n",
    "    color='orange',\n",
    "    align='left',\n",
    "    baseline='middle',\n",
    "    dx=7,\n",
    "    dy=-7\n",
    ").encode(\n",
    "    text='city',\n",
    "    size=alt.value(15)\n",
    ")\n",
    "\n",
    "occurrence + centerline + citylocs + citylabels"
   ]
  },
  {
   "cell_type": "code",
   "execution_count": null,
   "metadata": {},
   "outputs": [],
   "source": []
  }
 ],
 "metadata": {
  "kernelspec": {
   "display_name": "Python 3",
   "language": "python",
   "name": "python3"
  },
  "language_info": {
   "codemirror_mode": {
    "name": "ipython",
    "version": 3
   },
   "file_extension": ".py",
   "mimetype": "text/x-python",
   "name": "python",
   "nbconvert_exporter": "python",
   "pygments_lexer": "ipython3",
   "version": "3.6.5"
  }
 },
 "nbformat": 4,
 "nbformat_minor": 2
}
