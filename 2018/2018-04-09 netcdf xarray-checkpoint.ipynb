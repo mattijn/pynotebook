{
 "cells": [
  {
   "cell_type": "code",
   "execution_count": null,
   "metadata": {},
   "outputs": [],
   "source": [
    "import numpy as np\n",
    "import matplotlib.pyplot as plt\n",
    "import matplotlib.collections\n",
    "import gridded\n",
    "import xarray as xr\n",
    "import datetime\n",
    "from osgeo import gdal, osr\n",
    "%matplotlib inline"
   ]
  },
  {
   "cell_type": "code",
   "execution_count": null,
   "metadata": {},
   "outputs": [],
   "source": [
    "def create_tif(destName, array, fill_value, rows, cols, top_left_x, top_left_y, x_step=0.1, y_step=0.1, rotation=0):\n",
    "    \"\"\"\n",
    "    function to create tif file\n",
    "    \"\"\"\n",
    "    \n",
    "    # Create output tiff file.\n",
    "    # driver.Create() parameters are: output path, number of columns, number of rows,\n",
    "    # number of bands, data type\n",
    "    driver = gdal.GetDriverByName(\"GTiff\")\n",
    "    out_tif = driver.Create(destName, cols, rows, 1, gdal.GDT_Float32)\n",
    "\n",
    "    # Create Spatial Reference object and set GeoTIFF projection.\n",
    "    # This information may be found in either the data documentation or the netCDF file.\n",
    "    prj = osr.SpatialReference()\n",
    "    prj.ImportFromEPSG(28992) # WGS84\n",
    "    out_tif.SetProjection(prj.ExportToWkt())\n",
    "\n",
    "    # Set GeoTransformation.\n",
    "    # This information may be found in either the data documentation, the netCDF file, or\n",
    "    # can be derived. For example, if you know the longitude range and number of columns\n",
    "    # you can calculate the x step as float(lon_range)/float(num_cols).\n",
    "    geotrans = [top_left_x,x_step,rotation,top_left_y,rotation,-y_step]\n",
    "    out_tif.SetGeoTransform(geotrans)\n",
    "\n",
    "    # Finally we can write the array to the raster band.\n",
    "    out_band = out_tif.GetRasterBand(1)    \n",
    "    out_band.SetNoDataValue(fill_value)\n",
    "    out_band.WriteArray(array)\n",
    "\n",
    "    # Clear the memory and close the output file.\n",
    "    out_tif.FlushCache()\n",
    "    out_tif = None"
   ]
  },
  {
   "cell_type": "code",
   "execution_count": null,
   "metadata": {},
   "outputs": [],
   "source": [
    "url = (r'P:\\PR\\2877.20\\werkmap\\Data_analyse\\20180327_vanrepository_AnneVerheijen\\HPZ_total.nc')\n",
    "# ds = gridded.Grid.from_netCDF(url)"
   ]
  },
  {
   "cell_type": "code",
   "execution_count": null,
   "metadata": {},
   "outputs": [],
   "source": [
    "ds = xr.open_dataset(url, decode_times=False)\n",
    "ds"
   ]
  },
  {
   "cell_type": "code",
   "execution_count": null,
   "metadata": {},
   "outputs": [],
   "source": [
    "sec_arr = np.array(ds.timestamp[:])"
   ]
  },
  {
   "cell_type": "code",
   "execution_count": null,
   "metadata": {},
   "outputs": [],
   "source": [
    "[datetime.datetime.fromtimestamp(sec) for sec in sec_arr]"
   ]
  },
  {
   "cell_type": "code",
   "execution_count": null,
   "metadata": {},
   "outputs": [],
   "source": [
    "xgrid = np.array(ds.xgrid[0])"
   ]
  },
  {
   "cell_type": "code",
   "execution_count": null,
   "metadata": {},
   "outputs": [],
   "source": [
    "xgrid"
   ]
  },
  {
   "cell_type": "code",
   "execution_count": null,
   "metadata": {},
   "outputs": [],
   "source": [
    "ygrid_ = np.array(ds.ygrid[:])"
   ]
  },
  {
   "cell_type": "code",
   "execution_count": null,
   "metadata": {},
   "outputs": [],
   "source": [
    "ygrid = ygrid_[:,0]"
   ]
  },
  {
   "cell_type": "code",
   "execution_count": null,
   "metadata": {},
   "outputs": [],
   "source": [
    "ygrid.shape, xgrid.shape"
   ]
  },
  {
   "cell_type": "code",
   "execution_count": null,
   "metadata": {},
   "outputs": [],
   "source": [
    "# ygrid = np.array(ds.ygrid[:,0])"
   ]
  },
  {
   "cell_type": "code",
   "execution_count": null,
   "metadata": {},
   "outputs": [],
   "source": [
    "y, x = np.meshgrid(ygrid, xgrid)"
   ]
  },
  {
   "cell_type": "code",
   "execution_count": null,
   "metadata": {},
   "outputs": [],
   "source": [
    "# ds.dune_beach.attrs"
   ]
  },
  {
   "cell_type": "code",
   "execution_count": null,
   "metadata": {},
   "outputs": [],
   "source": [
    "z = np.array(ds.zgrid_interpolated[0])"
   ]
  },
  {
   "cell_type": "code",
   "execution_count": null,
   "metadata": {},
   "outputs": [],
   "source": [
    "z.shape"
   ]
  },
  {
   "cell_type": "code",
   "execution_count": null,
   "metadata": {},
   "outputs": [],
   "source": [
    "fill_value = z[0][0]"
   ]
  },
  {
   "cell_type": "code",
   "execution_count": null,
   "metadata": {},
   "outputs": [],
   "source": [
    "plt.imshow(z)\n",
    "plt.show()"
   ]
  },
  {
   "cell_type": "code",
   "execution_count": null,
   "metadata": {},
   "outputs": [],
   "source": [
    "xgrid"
   ]
  },
  {
   "cell_type": "code",
   "execution_count": null,
   "metadata": {},
   "outputs": [],
   "source": [
    "ygrid"
   ]
  },
  {
   "cell_type": "code",
   "execution_count": null,
   "metadata": {},
   "outputs": [],
   "source": [
    "fig, ax = plt.subplots()\n",
    "graph = ax.pcolorfast(xgrid, ygrid, z, cmap='viridis')\n",
    "plt.colorbar(graph)\n",
    "plt.show()"
   ]
  },
  {
   "cell_type": "code",
   "execution_count": null,
   "metadata": {},
   "outputs": [],
   "source": [
    "create_tif(destName=r'D:\\Projects\\RO\\netcdf_WB//zgrid_interpolated_2015050240200_v2.tif', array=z,\n",
    "           fill_value=fill_value.astype(float), rows=ygrid.shape[0], cols=xgrid.shape[0], top_left_x=xgrid[0], \n",
    "           top_left_y=ygrid[0], x_step=0.5, y_step=0.5)"
   ]
  },
  {
   "cell_type": "code",
   "execution_count": null,
   "metadata": {},
   "outputs": [],
   "source": []
  }
 ],
 "metadata": {
  "kernelspec": {
   "display_name": "Python 3",
   "language": "python",
   "name": "python3"
  },
  "language_info": {
   "codemirror_mode": {
    "name": "ipython",
    "version": 3
   },
   "file_extension": ".py",
   "mimetype": "text/x-python",
   "name": "python",
   "nbconvert_exporter": "python",
   "pygments_lexer": "ipython3",
   "version": "3.5.2"
  }
 },
 "nbformat": 4,
 "nbformat_minor": 2
}
