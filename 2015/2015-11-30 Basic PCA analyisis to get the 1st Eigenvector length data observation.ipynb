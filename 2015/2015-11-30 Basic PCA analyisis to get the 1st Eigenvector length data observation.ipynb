{
 "cells": [
  {
   "cell_type": "code",
   "execution_count": 1,
   "metadata": {
    "collapsed": false
   },
   "outputs": [
    {
     "name": "stdout",
     "output_type": "stream",
     "text": [
      "Populating the interactive namespace from numpy and matplotlib\n"
     ]
    }
   ],
   "source": [
    "%pylab inline\n",
    "from matplotlib import pyplot as plt\n",
    "from mpl_toolkits.mplot3d import Axes3D\n",
    "from mpl_toolkits.mplot3d import proj3d\n",
    "import numpy as np"
   ]
  },
  {
   "cell_type": "code",
   "execution_count": 2,
   "metadata": {
    "collapsed": false
   },
   "outputs": [],
   "source": [
    "np.random.seed(5) # random seed for consistency\n",
    "\n",
    "mu_vec1 = np.array([0,0])\n",
    "cov_mat1 = np.array([[1,0],[0,1]])\n",
    "class1_sample = np.random.multivariate_normal(mu_vec1, cov_mat1, 20).T\n",
    "assert class1_sample.shape == (2,20), \"The matrix has not the dimensions 3x20\"\n",
    "\n",
    "mu_vec2 = np.array([1,1])\n",
    "cov_mat2 = np.array([[1,0],[0,1]])\n",
    "class2_sample = np.random.multivariate_normal(mu_vec2, cov_mat2, 20).T\n",
    "assert class1_sample.shape == (2,20), \"The matrix has not the dimensions 3x20\""
   ]
  },
  {
   "cell_type": "code",
   "execution_count": 3,
   "metadata": {
    "collapsed": false
   },
   "outputs": [],
   "source": [
    "all_samples = np.concatenate((class1_sample, class2_sample), axis=1)\n",
    "assert all_samples.shape == (2,40), \"The matrix has not the dimensions 3x40\""
   ]
  },
  {
   "cell_type": "code",
   "execution_count": 4,
   "metadata": {
    "collapsed": false
   },
   "outputs": [
    {
     "data": {
      "text/plain": [
       "[<matplotlib.lines.Line2D at 0xb7a10f0>]"
      ]
     },
     "execution_count": 4,
     "metadata": {},
     "output_type": "execute_result"
    },
    {
     "data": {
      "image/png": "[encoded data removed]",
      "text/plain": [
       "<matplotlib.figure.Figure at 0xb771978>"
      ]
     },
     "metadata": {},
     "output_type": "display_data"
    }
   ],
   "source": [
    "points = all_samples.T\n",
    "\n",
    "#normalise data. THIS is neccesary as we are working with different units for different parameters..\n",
    "n_data = (points - points.mean(axis=0)) / points.std(axis=0)\n",
    "x, y = n_data.T#points.T\n",
    "plt.plot(x, y, 'r.')"
   ]
  },
  {
   "cell_type": "code",
   "execution_count": 5,
   "metadata": {
    "collapsed": false
   },
   "outputs": [
    {
     "name": "stdout",
     "output_type": "stream",
     "text": [
      "[ 1.2847883   0.76649375]\n",
      "[ 0.70710678  0.70710678]\n"
     ]
    }
   ],
   "source": [
    "\n",
    "#mean = np.mean(points.T,axis=1)\n",
    "#demeaned = points-mean\n",
    "evals, evecs = np.linalg.eig(cov(n_data.T))\n",
    "\n",
    "#evals,evecs are not guaranteed to be ordered\n",
    "order = evals.argsort()[::-1]\n",
    "print evals[order]\n",
    "print evecs[:,order[0]]"
   ]
  },
  {
   "cell_type": "code",
   "execution_count": 6,
   "metadata": {
    "collapsed": false
   },
   "outputs": [],
   "source": [
    "#mean\n",
    "m = n_data.mean(axis=0)\n",
    "\n",
    "# eigenvector\n",
    "e1 = evecs[:,order[0]]\n",
    "e1v = evals[order[0]]\n",
    "\n",
    "# coordinates first component l1 bottom, l2 top\n",
    "l1 = np.array([([0, e1[0]*e1v]+m[0])[1],\n",
    "               ([0, e1[1]*e1v]+m[1])[1]])\n",
    "l2 = np.array([([0, e1[0]*e1v]-m[0])[1]*-1,\n",
    "               ([0, e1[1]*e1v]-m[1])[1]*-1])"
   ]
  },
  {
   "cell_type": "code",
   "execution_count": 7,
   "metadata": {
    "collapsed": false
   },
   "outputs": [
    {
     "data": {
      "image/png": "[encoded data removed]",
      "text/plain": [
       "<matplotlib.figure.Figure at 0xb8e6438>"
      ]
     },
     "metadata": {},
     "output_type": "display_data"
    }
   ],
   "source": [
    "import matplotlib.pylab as plt\n",
    "import numpy as np\n",
    "\n",
    "def extended(x, y,x_in,y_in):\n",
    "    \"\"\"\n",
    "    apply 1 dimensional least square polynomial fit to extend the eigenvector to\n",
    "    extent of the data observations\n",
    "    \"\"\"\n",
    "\n",
    "    xlim = [x_in.min(),x_in.max()]\n",
    "    ylim = [y_in.min(),y_in.max()]\n",
    "\n",
    "    x_ext = np.linspace(xlim[0], xlim[1], 100)\n",
    "    p = np.polyfit(x, y , deg=1)\n",
    "    y_ext = np.poly1d(p)(x_ext)\n",
    "\n",
    "    return x_ext, y_ext\n",
    "\n",
    "x_short = [l1[0],l2[0]] # get x_array of eigenvector + eigenvalue computation\n",
    "y_short = [l1[1],l2[1]] # get y_array of eigenvector + eigenvalue computation\n",
    "x_ext,y_ext = extended(x_short, y_short,x,y)\n",
    "\n",
    "ax = plt.subplot(111)\n",
    "ax.scatter(x,y)\n",
    "\n",
    "ax.plot(x_short, y_short, color=\"g\", lw=4, label=\"short\")\n",
    "ax.plot(x_ext, y_ext)\n",
    "\n",
    "# set extent to x_ext and y_ext plus 35%\n",
    "ax.set_xlim(x_ext[0] + (x_ext[0] * .35), x_ext[-1] + (x_ext[-1] * .35))\n",
    "ax.set_ylim(y_ext[0] + (y_ext[0] * .35), y_ext[-1] + (y_ext[-1] * .35))\n",
    "\n",
    "plt.show()"
   ]
  }
 ],
 "metadata": {
  "kernelspec": {
   "display_name": "Python 2",
   "language": "python",
   "name": "python2"
  },
  "language_info": {
   "codemirror_mode": {
    "name": "ipython",
    "version": 2
   },
   "file_extension": ".py",
   "mimetype": "text/x-python",
   "name": "python",
   "nbconvert_exporter": "python",
   "pygments_lexer": "ipython2",
   "version": "2.7.6"
  }
 },
 "nbformat": 4,
 "nbformat_minor": 0
}
