{
 "cells": [
  {
   "cell_type": "code",
   "execution_count": 1,
   "metadata": {
    "collapsed": true
   },
   "outputs": [],
   "source": [
    "import matplotlib.pyplot as plt\n",
    "%matplotlib inline"
   ]
  },
  {
   "cell_type": "code",
   "execution_count": 47,
   "metadata": {
    "collapsed": true
   },
   "outputs": [],
   "source": [
    "import numpy as np\n",
    "\n",
    "# training data\n",
    "X1=np.array([[-0.31994,-0.32648,-0.33264,-0.33844],[-0.32648,-0.33264,-0.33844,-0.34393],[-0.33264,-0.33844,-0.34393,-0.34913],[-0.33844,-0.34393,-0.34913,-0.35406],[-0.34393,-0.34913,-.35406,-0.35873],[-0.34913,-0.35406,-0.35873,-0.36318],[-0.35406,-0.35873,-0.36318,-0.36741],[-0.35873,-0.36318,-0.36741,-0.37144],[-0.36318,-0.36741,-0.37144,-0.37529],[-0.36741,-.37144,-0.37529,-0.37896],[-0.37144,-0.37529,-0.37896,-0.38069],[-0.37529,-0.37896,-0.38069,-0.38214],[-0.37896,-0.38069,-0.38214,-0.38349],[-0.38069,-0.38214,-0.38349,-0.38475],[-.38214,-0.38349,-0.38475,-0.38593],[-0.38349,-0.38475,-0.38593,-0.38887]])\n",
    "X2=np.array([[-0.39265,-0.3929,-0.39326,-0.39361],[-0.3929,-0.39326,-0.39361,-0.3931],[-0.39326,-0.39361,-0.3931,-0.39265],[-0.39361,-0.3931,-0.39265,-0.39226],[-0.3931,-0.39265,-0.39226,-0.39193],[-0.39265,-0.39226,-0.39193,-0.39165],[-0.39226,-0.39193,-0.39165,-0.39143],[-0.39193,-0.39165,-0.39143,-0.39127],[-0.39165,-0.39143,-0.39127,-0.39116],[-0.39143,-0.39127,-0.39116,-0.39051],[-0.39127,-0.39116,-0.39051,-0.3893],[-0.39116,-0.39051,-0.3893,-0.39163],[-0.39051,-0.3893,-0.39163,-0.39407],[-0.3893,-0.39163,-0.39407,-0.39662],[-0.39163,-0.39407,-0.39662,-0.39929],[-0.39407,-0.39662,-0.39929,-0.4021]])\n",
    "\n",
    "# target values\n",
    "y1=np.array([-0.34393,-0.34913,-0.35406,-0.35873,-0.36318,-0.36741,-0.37144,-0.37529,-0.37896,-0.38069,-0.38214,-0.38349,-0.38475,-0.38593,-0.38887,-0.39184])\n",
    "y2=np.array([-0.3931,-0.39265,-0.39226,-0.39193,-0.39165,-0.39143,-0.39127,-0.39116,-0.39051,-0.3893,-0.39163,-0.39407,-0.39662,-0.39929,-0.4021,-0.40506])"
   ]
  },
  {
   "cell_type": "code",
   "execution_count": 9,
   "metadata": {
    "collapsed": true
   },
   "outputs": [],
   "source": [
    "# def slow_lstsq(L, b):\n",
    "#     return np.array([np.linalg.lstsq(L[k], b[k])[0]\n",
    "#                      for k in range(L.shape[0])])"
   ]
  },
  {
   "cell_type": "code",
   "execution_count": 10,
   "metadata": {
    "collapsed": false
   },
   "outputs": [],
   "source": [
    "def stacked_lstsq(L, b, rcond=1e-10):\n",
    "    \"\"\"\n",
    "    Solve L x = b, via SVD least squares cutting of small singular values\n",
    "    L is an array of shape (..., M, N) and b of shape (..., M).\n",
    "    Returns x of shape (..., N)\n",
    "    \"\"\"\n",
    "    u, s, v = np.linalg.svd(L, full_matrices=False)\n",
    "    s_max = s.max(axis=-1, keepdims=True)\n",
    "    s_min = rcond*s_max\n",
    "    inv_s = np.zeros_like(s)\n",
    "    inv_s[s >= s_min] = 1/s[s>=s_min]\n",
    "    x = np.einsum('...ji,...j->...i', v,\n",
    "                  inv_s * np.einsum('...ji,...j->...i', u, b.conj()))\n",
    "    return np.conj(x, x)"
   ]
  },
  {
   "cell_type": "code",
   "execution_count": 3,
   "metadata": {
    "collapsed": false
   },
   "outputs": [
    {
     "name": "stdout",
     "output_type": "stream",
     "text": [
      "pred: [-0.39106781 -0.39052089 -0.38950094 -0.39151748 -0.39359035 -0.39578961\n",
      " -0.39795392 -0.40023234]\n",
      "r^2: 0.67247516054\n"
     ]
    }
   ],
   "source": [
    "from sklearn.linear_model import LinearRegression\n",
    "\n",
    "# train the 1st half, predict the 2nd half\n",
    "half = len(y1)/2 # or y2 as they have the same length\n",
    "regressor = LinearRegression()\n",
    "regressor.fit(X2[:half], y2[:half])\n",
    "pred = regressor.predict(X2[half:])\n",
    "r_2 = regressor.score(X2[half:],y2[half:])\n",
    "\n",
    "# print the prediction and r^2\n",
    "print 'pred:',pred\n",
    "print 'r^2:',r_2"
   ]
  },
  {
   "cell_type": "code",
   "execution_count": 24,
   "metadata": {
    "collapsed": false
   },
   "outputs": [],
   "source": [
    "# set inner variables used to center data and get intercept\n",
    "fit, X_mean, y_mean, X_std = regressor.fit(X2[:half], y2[:half])\n",
    "intercept = y_mean - np.dot(X_mean, regressor.coef_)\n",
    "# apply prediction\n",
    "npdot = np.dot(X2[half:],regressor.coef_)\n",
    "prediction = npdot + intercept"
   ]
  },
  {
   "cell_type": "code",
   "execution_count": 25,
   "metadata": {
    "collapsed": false
   },
   "outputs": [
    {
     "name": "stdout",
     "output_type": "stream",
     "text": [
      "y_mean: -0.39193125 ()\n",
      "X_mean: [-0.392795   -0.39267    -0.39248625 -0.3922375 ] (4L,)\n",
      "coef_: [-0.03850863  0.00349721 -0.01601598  0.85630811] (4L,)\n",
      "npdot: [-0.31497392 -0.31442699 -0.31340704 -0.31542358 -0.31749646 -0.31969571\n",
      " -0.32186002 -0.32413844] (8L,)\n",
      "intercept: -0.0760938969093 ()\n",
      "predict: [-0.39106781 -0.39052089 -0.38950094 -0.39151748 -0.39359035 -0.39578961\n",
      " -0.39795392 -0.40023234] (8L,)\n"
     ]
    }
   ],
   "source": [
    "print 'y_mean:', y_mean, y_mean.shape\n",
    "print 'X_mean:', X_mean, X_mean.shape\n",
    "print 'coef_:', regressor.coef_, regressor.coef_.shape\n",
    "print 'npdot:', npdot, npdot.shape\n",
    "print 'intercept:', intercept, intercept.shape\n",
    "print 'predict:', prediction, prediction.shape"
   ]
  },
  {
   "cell_type": "code",
   "execution_count": 6,
   "metadata": {
    "collapsed": false
   },
   "outputs": [
    {
     "name": "stdout",
     "output_type": "stream",
     "text": [
      "y1 shape: (16L,) X1 shape: (16L, 4L)\n",
      "y_stack shape: (2L, 16L) X_stack: (2L, 16L, 4L)\n"
     ]
    }
   ],
   "source": [
    "# stack X1 & X2 and y1 & y2 \n",
    "y_stack = np.vstack((y1[None],y2[None]))\n",
    "X_stack = np.vstack((X1[None],X2[None]))\n",
    "\n",
    "print 'y1 shape:',y1.shape, 'X1 shape:',X1.shape\n",
    "print 'y_stack shape:',y_stack.shape, 'X_stack:',X_stack.shape"
   ]
  },
  {
   "cell_type": "code",
   "execution_count": 46,
   "metadata": {
    "collapsed": false
   },
   "outputs": [],
   "source": [
    "# center X_stack\n",
    "X_stack_mean = np.average(X_stack[:,:half],axis=1)\n",
    "X_stack_std = np.ones(X_stack[:,:half].shape[0::2])\n",
    "X_stack_center = X_stack[:,:half] - X_stack_mean[:,None,:]\n",
    "#X_stack -= X_stack_mean[:,None,:]\n",
    "\n",
    "# center y_stack\n",
    "y_stack_mean = np.average(y_stack[:,:half],axis=1)\n",
    "y_stack_center = y_stack[:,:half] - y_stack_mean[:,None]\n",
    "#y_stack -= y_stack_mean[:,None]"
   ]
  },
  {
   "cell_type": "code",
   "execution_count": 44,
   "metadata": {
    "collapsed": false
   },
   "outputs": [
    {
     "name": "stdout",
     "output_type": "stream",
     "text": [
      "[[-0.24156699  0.03427269 -0.21905861  1.4268369 ]\n",
      " [ 0.22515603 -0.14597701 -0.06533021  0.98525254]]\n",
      "coef_stack: [[-0.37094707  0.20182914  0.0021116   1.15952743]\n",
      " [-0.03850863  0.00349721 -0.01601598  0.85630811]]\n"
     ]
    }
   ],
   "source": [
    "# get coefficients by applying linear regression on stack\n",
    "coef_stack = stacked_lstsq(X_stack_center, y_stack_center)\n",
    "print 'coef_stack:',coef_stack"
   ]
  },
  {
   "cell_type": "code",
   "execution_count": 13,
   "metadata": {
    "collapsed": false
   },
   "outputs": [
    {
     "name": "stdout",
     "output_type": "stream",
     "text": [
      "intercept_stack: [-0.00358697 -0.0760939 ]\n"
     ]
    }
   ],
   "source": [
    "# calculate the intercept\n",
    "coef_stack = coef_stack / X_stack_std\n",
    "intercept_stack = y_stack_mean - np.einsum('ij,ij->i',X_stack_mean,coef_stack)\n",
    "print 'intercept_stack:',intercept_stack"
   ]
  },
  {
   "cell_type": "code",
   "execution_count": 42,
   "metadata": {
    "collapsed": false
   },
   "outputs": [
    {
     "name": "stdout",
     "output_type": "stream",
     "text": [
      "einsum: [[-0.37537687 -0.37888473 -0.38018059 -0.38117812 -0.38173433 -0.3828491\n",
      "  -0.3839546  -0.38711963]\n",
      " [-0.31497392 -0.31442699 -0.31340704 -0.31542358 -0.31749646 -0.31969571\n",
      "  -0.32186002 -0.32413844]]\n",
      "npdot: [-0.31497392 -0.31442699 -0.31340704 -0.31542358 -0.31749646 -0.31969571\n",
      " -0.32186002 -0.32413844]\n",
      "prediction_stack: [[-0.37896384 -0.3824717  -0.38376756 -0.38476509 -0.3853213  -0.38643607\n",
      "  -0.38754157 -0.3907066 ]\n",
      " [-0.39106781 -0.39052089 -0.38950094 -0.39151748 -0.39359035 -0.39578961\n",
      "  -0.39795392 -0.40023234]]\n",
      "y_stack_true: [[-0.37896 -0.38069 -0.38214 -0.38349 -0.38475 -0.38593 -0.38887 -0.39184]\n",
      " [-0.39051 -0.3893  -0.39163 -0.39407 -0.39662 -0.39929 -0.4021  -0.40506]]\n"
     ]
    }
   ],
   "source": [
    "# apply prediction using einsum\n",
    "einsum_stack = np.einsum('ijx,ix->ij',X_stack[:,half:],coef_stack)#X_stack[:,:half]\n",
    "print 'einsum:',einsum_stack\n",
    "print 'npdot:',npdot\n",
    "prediction_stack = einsum_stack + intercept_stack[None].T\n",
    "print 'prediction_stack:',prediction_stack\n",
    "y_stack_true = y_stack[:,half:]\n",
    "print 'y_stack_true:',y_stack_true"
   ]
  },
  {
   "cell_type": "code",
   "execution_count": 43,
   "metadata": {
    "collapsed": false
   },
   "outputs": [
    {
     "data": {
      "text/plain": [
       "array([ 0.91262442,  0.67247516])"
      ]
     },
     "execution_count": 43,
     "metadata": {},
     "output_type": "execute_result"
    }
   ],
   "source": [
    "#The coefficient R^2 is defined as (1 - u/v), where u is the regression\n",
    "#sum of squares ((y_true - y_pred) ** 2).sum() and v is the residual\n",
    "#sum of squares ((y_true - y_true.mean()) ** 2).sum().\n",
    "u = ((y_stack_true - prediction_stack) ** 2).sum(axis=-1)\n",
    "v = ((y_stack_true - y_stack_true.mean(axis=-1)[None].T) ** 2).sum(axis=-1)\n",
    "r_2_stack = 1 - u/v"
   ]
  },
  {
   "cell_type": "code",
   "execution_count": null,
   "metadata": {
    "collapsed": true
   },
   "outputs": [],
   "source": []
  }
 ],
 "metadata": {
  "kernelspec": {
   "display_name": "Python 2",
   "language": "python",
   "name": "python2"
  },
  "language_info": {
   "codemirror_mode": {
    "name": "ipython",
    "version": 2
   },
   "file_extension": ".py",
   "mimetype": "text/x-python",
   "name": "python",
   "nbconvert_exporter": "python",
   "pygments_lexer": "ipython2",
   "version": "2.7.6"
  }
 },
 "nbformat": 4,
 "nbformat_minor": 0
}
