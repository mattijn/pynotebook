{
 "cells": [
  {
   "cell_type": "code",
   "execution_count": 1,
   "metadata": {
    "collapsed": true
   },
   "outputs": [],
   "source": [
    "import numpy as np"
   ]
  },
  {
   "cell_type": "code",
   "execution_count": 174,
   "metadata": {
    "collapsed": false
   },
   "outputs": [],
   "source": [
    "# from sklearn.linear_model import LinearRegression\n",
    "# LR = LinearRegression()\n",
    "# y_pred = []\n",
    "# R2 = []\n",
    "# def loopLR(X_stack, y_stack, LR):\n",
    "#     for idx in range(y_stack.shape[0]):    \n",
    "#         LR.fit(X_stack[idx,:half], y_stack[idx,:half])\n",
    "#         y_pred_ = LR.predict(X_stack[idx,half:])\n",
    "#         R2_ = LR.score(X_stack[idx,half:],y_stack[idx,half:])\n",
    "#         y_pred.append(y_pred_)\n",
    "#         R2.append(R2_)    \n",
    "#     return R2, y_pred\n",
    "# loopLR(X_stack,y_stack,LR)"
   ]
  },
  {
   "cell_type": "code",
   "execution_count": 142,
   "metadata": {
    "collapsed": false
   },
   "outputs": [],
   "source": [
    "class LinearRegression_Multi:\n",
    "    def stacked_lstsq(self, L, b, rcond=1e-10):\n",
    "        \"\"\"\n",
    "        Solve L x = b, via SVD least squares cutting of small singular values\n",
    "        L is an array of shape (..., M, N) and b of shape (..., M).\n",
    "        Returns x of shape (..., N)\n",
    "        \"\"\"\n",
    "        u, s, v = np.linalg.svd(L, full_matrices=False)\n",
    "        s_max = s.max(axis=-1, keepdims=True)\n",
    "        s_min = rcond*s_max\n",
    "        inv_s = np.zeros_like(s)\n",
    "        inv_s[s >= s_min] = 1/s[s>=s_min]\n",
    "        x = np.einsum('...ji,...j->...i', v,\n",
    "                      inv_s * np.einsum('...ji,...j->...i', u, b.conj()))\n",
    "        return np.conj(x, x)    \n",
    "    \n",
    "    def center_data(self, X, y):\n",
    "        \"\"\" Centers data to have mean zero along axis 0. \n",
    "        \"\"\"\n",
    "        # center X        \n",
    "        X_mean = np.average(X,axis=1)\n",
    "        X_std = np.ones(X.shape[0::2])\n",
    "        X = X - X_mean[:,None,:] \n",
    "        # center y\n",
    "        y_mean = np.average(y,axis=1)\n",
    "        y = y - y_mean[:,None]\n",
    "        return X, y, X_mean, y_mean, X_std\n",
    "\n",
    "    def set_intercept(self, X_mean, y_mean, X_std):\n",
    "        \"\"\" Calculate the intercept_\n",
    "        \"\"\"\n",
    "        self.coef_ = self.coef_ / X_std # not really necessary\n",
    "        self.intercept_ = y_mean - np.einsum('ij,ij->i',X_mean,self.coef_)\n",
    "\n",
    "    def scores(self, y_pred, y_true ):\n",
    "        \"\"\" \n",
    "        The coefficient R^2 is defined as (1 - u/v), where u is the regression\n",
    "        sum of squares ((y_true - y_pred) ** 2).sum() and v is the residual\n",
    "        sum of squares ((y_true - y_true.mean()) ** 2).sum().        \n",
    "        \"\"\"        \n",
    "        u = ((y_true - y_pred) ** 2).sum(axis=-1)\n",
    "        v = ((y_true - y_true.mean(axis=-1)[None].T) ** 2).sum(axis=-1)\n",
    "        r_2 = 1 - u/v\n",
    "        return r_2\n",
    "    \n",
    "    def fit(self,X, y):\n",
    "        \"\"\" Fit linear model.        \n",
    "        \"\"\"        \n",
    "        # get coefficients by applying linear regression on stack\n",
    "        X_, y, X_mean, y_mean, X_std = self.center_data(X, y)\n",
    "        self.coef_ = self.stacked_lstsq(X_, y)\n",
    "        self.set_intercept(X_mean, y_mean, X_std)\n",
    "\n",
    "    def predict(self, X):\n",
    "        \"\"\"Predict using the linear model\n",
    "        \"\"\"\n",
    "        return np.einsum('ijx,ix->ij',X,self.coef_) + self.intercept_[None].T"
   ]
  },
  {
   "cell_type": "code",
   "execution_count": 143,
   "metadata": {
    "collapsed": true
   },
   "outputs": [],
   "source": [
    "# training data\n",
    "X1=np.array([[-0.31994,-0.32648,-0.33264,-0.33844],[-0.32648,-0.33264,-0.33844,-0.34393],[-0.33264,-0.33844,-0.34393,-0.34913],[-0.33844,-0.34393,-0.34913,-0.35406],[-0.34393,-0.34913,-.35406,-0.35873],[-0.34913,-0.35406,-0.35873,-0.36318],[-0.35406,-0.35873,-0.36318,-0.36741],[-0.35873,-0.36318,-0.36741,-0.37144],[-0.36318,-0.36741,-0.37144,-0.37529],[-0.36741,-.37144,-0.37529,-0.37896],[-0.37144,-0.37529,-0.37896,-0.38069],[-0.37529,-0.37896,-0.38069,-0.38214],[-0.37896,-0.38069,-0.38214,-0.38349],[-0.38069,-0.38214,-0.38349,-0.38475],[-.38214,-0.38349,-0.38475,-0.38593],[-0.38349,-0.38475,-0.38593,-0.38887]])\n",
    "X2=np.array([[-0.39265,-0.3929,-0.39326,-0.39361],[-0.3929,-0.39326,-0.39361,-0.3931],[-0.39326,-0.39361,-0.3931,-0.39265],[-0.39361,-0.3931,-0.39265,-0.39226],[-0.3931,-0.39265,-0.39226,-0.39193],[-0.39265,-0.39226,-0.39193,-0.39165],[-0.39226,-0.39193,-0.39165,-0.39143],[-0.39193,-0.39165,-0.39143,-0.39127],[-0.39165,-0.39143,-0.39127,-0.39116],[-0.39143,-0.39127,-0.39116,-0.39051],[-0.39127,-0.39116,-0.39051,-0.3893],[-0.39116,-0.39051,-0.3893,-0.39163],[-0.39051,-0.3893,-0.39163,-0.39407],[-0.3893,-0.39163,-0.39407,-0.39662],[-0.39163,-0.39407,-0.39662,-0.39929],[-0.39407,-0.39662,-0.39929,-0.4021]])\n",
    "\n",
    "# target values\n",
    "y1=np.array([-0.34393,-0.34913,-0.35406,-0.35873,-0.36318,-0.36741,-0.37144,-0.37529,-0.37896,-0.38069,-0.38214,-0.38349,-0.38475,-0.38593,-0.38887,-0.39184])\n",
    "y2=np.array([-0.3931,-0.39265,-0.39226,-0.39193,-0.39165,-0.39143,-0.39127,-0.39116,-0.39051,-0.3893,-0.39163,-0.39407,-0.39662,-0.39929,-0.4021,-0.40506])\n",
    "\n",
    "half = len(y1)/2 # or y2 as they have the same length\n",
    "# stack X1 & X2 and y1 & y2 \n",
    "y_stack = np.vstack((y1[None],y2[None]))\n",
    "X_stack = np.vstack((X1[None],X2[None]))"
   ]
  },
  {
   "cell_type": "code",
   "execution_count": 147,
   "metadata": {
    "collapsed": false
   },
   "outputs": [
    {
     "data": {
      "text/plain": [
       "array([ 0.91262442,  0.67247516])"
      ]
     },
     "execution_count": 147,
     "metadata": {},
     "output_type": "execute_result"
    }
   ],
   "source": [
    "LR_Multi = LinearRegression_Multi()"
   ]
  },
  {
   "cell_type": "code",
   "execution_count": 177,
   "metadata": {
    "collapsed": false
   },
   "outputs": [],
   "source": [
    "LR_Multi.fit(X_stack[:,:half], y_stack[:,:half])\n",
    "y_stack_pred = LR_Multi.predict(X_stack[:,half:])\n",
    "R2_stack = LR_Multi.scores(y_stack_pred, y_stack[:,half:])"
   ]
  },
  {
   "cell_type": "code",
   "execution_count": null,
   "metadata": {
    "collapsed": true
   },
   "outputs": [],
   "source": []
  }
 ],
 "metadata": {
  "kernelspec": {
   "display_name": "Python 2",
   "language": "python",
   "name": "python2"
  },
  "language_info": {
   "codemirror_mode": {
    "name": "ipython",
    "version": 2
   },
   "file_extension": ".py",
   "mimetype": "text/x-python",
   "name": "python",
   "nbconvert_exporter": "python",
   "pygments_lexer": "ipython2",
   "version": "2.7.6"
  }
 },
 "nbformat": 4,
 "nbformat_minor": 0
}
