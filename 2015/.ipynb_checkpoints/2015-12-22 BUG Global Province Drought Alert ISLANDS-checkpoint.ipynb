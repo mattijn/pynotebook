{
 "cells": [
  {
   "cell_type": "code",
   "execution_count": null,
   "metadata": {
    "collapsed": false
   },
   "outputs": [],
   "source": [
    "import sys\n",
    "import matplotlib.pyplot as plt\n",
    "import cartopy.crs as ccrs\n",
    "from cartopy.mpl.gridliner import LATITUDE_FORMATTER, LONGITUDE_FORMATTER\n",
    "import matplotlib.ticker as mticker\n",
    "import matplotlib.colors as mcolors\n",
    "import matplotlib.colorbar as mcb\n",
    "import cartopy.feature as cfeature\n",
    "from matplotlib import gridspec\n",
    "from datetime import datetime\n",
    "import warnings\n",
    "from osgeo import gdal\n",
    "import numpy as np\n",
    "from osgeo import gdal, ogr, osr\n",
    "import sys\n",
    "import pandas as pd\n",
    "import matplotlib\n",
    "import geopandas as gpd\n",
    "from matplotlib import gridspec\n",
    "from cartopy.io import shapereader\n",
    "import shapely.geometry as sgeom\n",
    "import numpy as np\n",
    "import matplotlib as mpl\n",
    "import urllib\n",
    "import numpy\n",
    "import numpy as np\n",
    "import numpy.ma as ma\n",
    "from lxml import etree\n",
    "from datetime import datetime, timedelta\n",
    "import matplotlib\n",
    "import matplotlib.colors as mcolors\n",
    "import matplotlib.pyplot as plt\n",
    "import numpy as np\n",
    "import matplotlib.colors as mcolors\n",
    "sys.path.insert(0, r'D:\\GitHub\\pynotebook\\ipymodules\\GDMA')\n",
    "import gdma"
   ]
  },
  {
   "cell_type": "code",
   "execution_count": null,
   "metadata": {
    "collapsed": false
   },
   "outputs": [],
   "source": [
    "endpoint='http://192.168.1.104:8080/rasdaman/ows'\n",
    "field={}\n",
    "field['SERVICE']='WCS'\n",
    "field['VERSION']='2.0.1'\n",
    "field['REQUEST']='DescribeCoverage'\n",
    "field['COVERAGEID']='NDVI_MOD13C1005_uptodate'#'NDVI_MOD13C1005'#'trmm_3b42_coverage_1'\n",
    "url_values = urllib.urlencode(field,doseq=True)\n",
    "full_url = endpoint + '?' + url_values\n",
    "data = urllib.urlopen(full_url).read()\n",
    "root = etree.fromstring(data)\n",
    "lc = root.find(\".//{http://www.opengis.net/gml/3.2}lowerCorner\").text\n",
    "uc = root.find(\".//{http://www.opengis.net/gml/3.2}upperCorner\").text\n",
    "start_date=int((lc.split(' '))[2])\n",
    "end_date=int((uc.split(' '))[2])\n",
    "#print [start_date, end_date]\n",
    "\n",
    "#generate the dates list \n",
    "start=datetime.fromtimestamp((start_date-(datetime(1970,1,1)-datetime(1601,1,1)).days)*24*60*60)\n",
    "#print start"
   ]
  },
  {
   "cell_type": "code",
   "execution_count": null,
   "metadata": {
    "collapsed": false
   },
   "outputs": [],
   "source": [
    "try:    \n",
    "    # get sample size coefficients from XML root\n",
    "    sample_size = root[0][3][0][5][0][1].text #sample size\n",
    "    #print root[0][3][0][5][0][1].text #sample size\n",
    "\n",
    "    # use coverage start_date and sample_size array to create all dates in ANSI\n",
    "    array_stepsize = np.fromstring(sample_size, dtype=int, sep=' ')\n",
    "    #print np.fromstring(sample_size, dtype=int, sep=' ')\n",
    "    array_all_ansi = array_stepsize + start_date  \n",
    "    print 'irregular'\n",
    "    print array_all_ansi\n",
    "except IndexError:\n",
    "    datelist, cur_pos = datelist_regular_coverage(root, start_date, start, cur_date)\n",
    "    print 'regular'\n",
    "\n",
    "# create array of all dates in ISO\n",
    "list_all_dates = []\n",
    "for stepsize in array_stepsize:\n",
    "    date_and_stepsize = start + timedelta(stepsize - 1)\n",
    "    list_all_dates.append(date_and_stepsize)\n",
    "    #print date_and_stepsize\n",
    "array_all_dates = np.array(list_all_dates)   \n",
    "\n",
    "# create array of all dates in string\n",
    "array_all_date_string = []\n",
    "for i in array_all_dates:\n",
    "    date_string = str(i.year).zfill(2)+'-'+str(i.month).zfill(2)+'-'+str(i.day).zfill(2)\n",
    "    array_all_date_string.append(date_string)\n",
    "array_all_date_string    "
   ]
  },
  {
   "cell_type": "code",
   "execution_count": null,
   "metadata": {
    "collapsed": false
   },
   "outputs": [],
   "source": [
    "start_date = 146639\n",
    "start = datetime.fromtimestamp((start_date-(datetime(1970,1,1)-datetime(1601,1,1)).days)*24*60*60)\n",
    "print start"
   ]
  },
  {
   "cell_type": "code",
   "execution_count": null,
   "metadata": {
    "collapsed": false
   },
   "outputs": [],
   "source": [
    "x = np.asarray(array_all_date_string)\n",
    "start = np.where(x == '2009-05-25')[0][0]\n",
    "end = start + 1\n",
    "#for date in range(start,end):    \n",
    "for date in array_all_date_string[start:end]:\n",
    "\n",
    "    #spl_arr = [70,30,80,50] minlon,maxlon, minlat, maxlat\n",
    "    #extent = [73.5,140,14,53.6]\n",
    "    #extent = [-179, 179, -60, 90]\n",
    "    extent = [142.07, 150.72, -44.24, -38.29]\n",
    "    spl_arr = [extent[0], extent[2], extent[1], extent[3]]\n",
    "    ndai_wcs= gdma._NDAI_CAL(date, spl_arr)\n",
    "    #ndai_wcs = 'NDAI20090626.tif'\n",
    "    array = gdal.Open(ndai_wcs).ReadAsArray()\n",
    "    #band = raster.GetRasterBand(1)\n",
    "    #array = band.ReadAsArray()\n",
    "    #band.GetNoDataValue()\n",
    "\n",
    "    array_msk = np.ma.masked_equal(array,array.min())\n",
    "    #plt.imshow(array_msk)    \n",
    "\n",
    "    vector_path = r'D:\\Data\\WorldShapefile//world_simplified.shp'\n",
    "    raster_path = ndai_wcs\n",
    "    nodata_value = array.min()\n",
    "    print 'nodata value NDAI: ', nodata_value\n",
    "    # get date in format DOY+YEAR: eg. 0652011\n",
    "    # NDAI_2014_008.tif\n",
    "\n",
    "    year = int(ndai_wcs[-12:-8])\n",
    "    month = int(ndai_wcs[-8:-6])\n",
    "    day = int(ndai_wcs[-6:-4])\n",
    "    date = datetime(year,month,day)\n",
    "    try: \n",
    "        date_str = str(date.year)+str(date.month).zfill(2)+str(date.day).zfill(2)\n",
    "        print date_str\n",
    "    except:        \n",
    "        print date, ' aaahh'    \n",
    "\n",
    "    stats = gdma.zonal_stats(vector_path, raster_path, nodata_value, date)   \n",
    "\n",
    "    df_stats = pd.DataFrame(stats)\n",
    "    #df_stats.set_index('FID', inplace=True)\n",
    "    #print df_stats.head(2)\n",
    "\n",
    "    # read shapefile and concatate on index using a 'inner' join\n",
    "    # meaning counties without statistics info will be ignored\n",
    "    gdf = gpd.read_file(vector_path)\n",
    "    gdf.index.rename('FID', inplace=True)\n",
    "    gdf.reset_index(inplace=True)\n",
    "    frames  = [df_stats,gdf]\n",
    "    gdf_df_stats = gdf.merge(df_stats, on='FID')\n",
    "    gdf_df_stats.set_index('FID', inplace=True)\n",
    "\n",
    "    # get column names\n",
    "    ax1_head = gdf_df_stats.columns[10] # P00082014\n",
    "    ax2_head = gdf_df_stats.columns[11] # P10082014\n",
    "    ax3_head = gdf_df_stats.columns[12] # P20082014\n",
    "    ax4_head = gdf_df_stats.columns[13] # P30082014\n",
    "    ax5_head = gdf_df_stats.columns[8]  # MEAN\n",
    "    ax6_head = gdf_df_stats.columns[6]  # DC0082014\n",
    "    print ax1_head, ax2_head, ax3_head, ax4_head, ax5_head, ax6_head\n",
    "    columns_shp = [ax1_head, ax2_head, ax3_head, ax4_head, ax5_head, ax6_head]\n",
    "    # drop NaN values for axis\n",
    "    gdf_df_stats.dropna(inplace=True, subset=columns_shp)\n",
    "    #gdf_df_stats.head(50)\n",
    "    #gdf_df_stats = gpd.pd.concat(frames, axis=1, join='inner')\n",
    "    #gdf_df_stats.index.rename('FID', inplace=True)\n",
    "    #gdf_df_stats.geometry = gdf_df_stats.geometry.astype(gpd.geoseries.GeoSeries) # overcome bug \n",
    "    #gdf_df_stats.head(2) \n",
    "\n",
    "    # if necessary save to shapefile\n",
    "    out_filename = r'D:\\GitHub\\pynotebook\\ipymodules\\GDMA//world_NDAI'+date_str+'.shp'\n",
    "    gdf_df_stats.to_file(out_filename)  \n",
    "\n",
    "    china_adm3 = out_filename\n",
    "    china_adm3_shp = shapereader.Reader(china_adm3)\n",
    "    # rasterize the data\n",
    "    gdma.rasterize(date_str = date_str, in_shp = out_filename)\n",
    "    gdma.plot_map(date_str = date_str, date=date, extent = extent)"
   ]
  },
  {
   "cell_type": "code",
   "execution_count": null,
   "metadata": {
    "collapsed": false
   },
   "outputs": [],
   "source": [
    "date_str = '20120828'\n",
    "out_filename = r'D:\\GitHub\\pynotebook\\ipymodules\\GDMA//world_NDAI20120828.shp'\n",
    "gdma.rasterize(date_str = date_str, in_shp = out_filename)"
   ]
  },
  {
   "cell_type": "code",
   "execution_count": null,
   "metadata": {
    "collapsed": false
   },
   "outputs": [],
   "source": []
  },
  {
   "cell_type": "code",
   "execution_count": null,
   "metadata": {
    "collapsed": false
   },
   "outputs": [],
   "source": [
    "date_str = '20120828'\n",
    "date=datetime(2012,8,28)\n",
    "extent = [-179, 179, -60, 90]\n",
    "gdma.plot_map(date_str = date_str, date=date, extent = extent)"
   ]
  },
  {
   "cell_type": "code",
   "execution_count": null,
   "metadata": {
    "collapsed": true
   },
   "outputs": [],
   "source": []
  }
 ],
 "metadata": {
  "kernelspec": {
   "display_name": "Python 2",
   "language": "python",
   "name": "python2"
  },
  "language_info": {
   "codemirror_mode": {
    "name": "ipython",
    "version": 2
   },
   "file_extension": ".py",
   "mimetype": "text/x-python",
   "name": "python",
   "nbconvert_exporter": "python",
   "pygments_lexer": "ipython2",
   "version": "2.7.6"
  }
 },
 "nbformat": 4,
 "nbformat_minor": 0
}
