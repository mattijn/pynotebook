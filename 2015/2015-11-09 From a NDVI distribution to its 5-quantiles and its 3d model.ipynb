{
 "metadata": {
  "name": "",
  "signature": "sha256:ad90a66a40462e2be7184ce42d8a13a4d542af6abc11b1da8578ac5e2ba279a7"
 },
 "nbformat": 3,
 "nbformat_minor": 0,
 "worksheets": [
  {
   "cells": [
    {
     "cell_type": "code",
     "collapsed": false,
     "input": [
      "import numpy as np\n",
      "from osgeo import gdal\n",
      "import matplotlib.pyplot as plt\n",
      "import pandas as pd\n",
      "%matplotlib inline"
     ],
     "language": "python",
     "metadata": {},
     "outputs": [],
     "prompt_number": 1
    },
    {
     "cell_type": "code",
     "collapsed": false,
     "input": [
      "from __future__ import division\n",
      "import scipy.signal\n",
      "import os\n",
      "import nitime.algorithms as tsa\n",
      "import os\n",
      "from osgeo import gdal\n",
      "import scipy.signal\n",
      "#plt.style.use('ggplot')\n",
      "import datetime\n",
      "import sys"
     ],
     "language": "python",
     "metadata": {},
     "outputs": [],
     "prompt_number": 2
    },
    {
     "cell_type": "code",
     "collapsed": false,
     "input": [
      "# Topics: line, color, LineCollection, cmap, colorline, codex\n",
      "'''\n",
      "Defines a function colorline that draws a (multi-)colored 2D line with coordinates x and y.\n",
      "The color is taken from optional data in z, and creates a LineCollection.\n",
      "\n",
      "z can be:\n",
      "- empty, in which case a default coloring will be used based on the position along the input arrays\n",
      "- a single number, for a uniform color [this can also be accomplished with the usual plt.plot]\n",
      "- an array of the length of at least the same length as x, to color according to this data\n",
      "- an array of a smaller length, in which case the colors are repeated along the curve\n",
      "\n",
      "The function colorline returns the LineCollection created, which can be modified afterwards.\n",
      "\n",
      "See also: plt.streamplot\n",
      "'''\n",
      "\n",
      "import numpy as np\n",
      "import matplotlib.pyplot as plt\n",
      "from matplotlib.collections import LineCollection\n",
      "from matplotlib.colors import ListedColormap, BoundaryNorm\n",
      "\n",
      "\n",
      "# Data manipulation:\n",
      "\n",
      "def make_segments(x, y):\n",
      "    '''\n",
      "    Create list of line segments from x and y coordinates, in the correct format for LineCollection:\n",
      "    an array of the form   numlines x (points per line) x 2 (x and y) array\n",
      "    '''\n",
      "\n",
      "    points = np.array([x, y]).T.reshape(-1, 1, 2)\n",
      "    segments = np.concatenate([points[:-1], points[1:]], axis=1)\n",
      "    \n",
      "    return segments\n",
      "\n",
      "\n",
      "# Interface to LineCollection:\n",
      "\n",
      "def colorline(x, y, z=None, cmap=plt.get_cmap('copper'), norm=plt.Normalize(0.0, 1.0), linewidth=3, alpha=1.0):\n",
      "    '''\n",
      "    Plot a colored line with coordinates x and y\n",
      "    Optionally specify colors in the array z\n",
      "    Optionally specify a colormap, a norm function and a line width\n",
      "    '''\n",
      "    \n",
      "    # Default colors equally spaced on [0,1]:\n",
      "    if z is None:\n",
      "        z = np.linspace(0.0, 1.0, len(x))\n",
      "           \n",
      "    # Special case if a single number:\n",
      "    if not hasattr(z, \"__iter__\"):  # to check for numerical input -- this is a hack\n",
      "        z = np.array([z])\n",
      "        \n",
      "    z = np.asarray(z)\n",
      "    \n",
      "    segments = make_segments(x, y)\n",
      "    lc = LineCollection(segments, array=z, cmap=cmap, norm=norm, linewidth=linewidth, alpha=alpha)\n",
      "    \n",
      "    ax = plt.gca()\n",
      "    ax.add_collection(lc)\n",
      "    \n",
      "    return lc\n",
      "        \n",
      "    \n",
      "def clear_frame(ax=None): \n",
      "    # Taken from a post by Tony S Yu\n",
      "    if ax is None: \n",
      "        ax = plt.gca() \n",
      "    ax.xaxis.set_visible(False) \n",
      "    ax.yaxis.set_visible(False) \n",
      "    for spine in ax.spines.itervalues(): \n",
      "        spine.set_visible(False) "
     ],
     "language": "python",
     "metadata": {},
     "outputs": [],
     "prompt_number": 3
    },
    {
     "cell_type": "code",
     "collapsed": false,
     "input": [
      "def listall(RootFolder, wildcard=''):\n",
      "    lists = [os.path.join(root, name)    \n",
      "                 for root, dirs, files in os.walk(RootFolder)\n",
      "                   for name in files\n",
      "                   if wildcard in name\n",
      "                     if name.endswith('.tif')]\n",
      "    return lists"
     ],
     "language": "python",
     "metadata": {},
     "outputs": [],
     "prompt_number": 4
    },
    {
     "cell_type": "code",
     "collapsed": false,
     "input": [
      "def getDatums(files):\n",
      "    \"\"\"\n",
      "    Get dates from list of files\n",
      "    Typical date is \"2010120\" year + doy    \n",
      "    \"\"\"\n",
      "    dates = []\n",
      "    for filename in files:\n",
      "        year = int(filename[-11:-7])\n",
      "        days = int(filename[-7:-4])    \n",
      "        dates.append(datetime.datetime(year, 1, 1) + datetime.timedelta(days - 1))\n",
      "    return dates"
     ],
     "language": "python",
     "metadata": {},
     "outputs": [],
     "prompt_number": 5
    },
    {
     "cell_type": "code",
     "collapsed": false,
     "input": [
      "def getDatumsLST(files):\n",
      "    \"\"\"\n",
      "    Get dates from list of files\n",
      "    Typical date is \"20101012\" year + month + day\n",
      "    \"\"\"\n",
      "    dates = []\n",
      "    for filename in files:\n",
      "        year = int(filename[-12:-8])\n",
      "        month = int(filename[-8:-6])\n",
      "        days = int(filename[-6:-4])    \n",
      "        dates.append(datetime.datetime(year, month, days))\n",
      "    return dates"
     ],
     "language": "python",
     "metadata": {},
     "outputs": [],
     "prompt_number": 6
    },
    {
     "cell_type": "code",
     "collapsed": false,
     "input": [
      "def getData(files, path_base, rowx, coly, xBlockSize, yBlockSize):\n",
      "    \"\"\"\n",
      "    Input:\n",
      "    files_ndvi = list_all(folder_ndvi)    \n",
      "    path_base = r'D:\\Data\\0_DAILY_INTERVAL_NDVI_TRMM\\InnerMongolia\\NDVI\\RAW2//NDVI_IM_2003001.tif'    \n",
      "    \n",
      "    rowx = 300\n",
      "    coly = 700    \n",
      "    \n",
      "    #blockSizes = utils.GetBlockSize(band)\n",
      "    xBlockSize = 5\n",
      "    yBlockSize = 5         \n",
      "    \"\"\"\n",
      "\n",
      "    print files[0], path_base, rowx, coly, xBlockSize, yBlockSize\n",
      "    # register all of the GDAL drivers\n",
      "    gdal.AllRegister()\n",
      "\n",
      "    # open the image\n",
      "    ds = gdal.Open(path_base, gdal.GA_ReadOnly)\n",
      "    if ds is None:\n",
      "        print 'Could not open base file'\n",
      "        sys.exit(1)\n",
      "\n",
      "    # get image size\n",
      "    rows = ds.RasterYSize\n",
      "    cols = ds.RasterXSize\n",
      "    bands = ds.RasterCount\n",
      "\n",
      "    # get the band and block sizes\n",
      "    band = ds.GetRasterBand(1)\n",
      "    base = band.ReadAsArray()\n",
      "    nan = band.GetNoDataValue()\n",
      "\n",
      "    # loop through the rows\n",
      "    for i in range(rowx-1, rowx, yBlockSize): #(0, rows, yBlockSize)\n",
      "        if i + yBlockSize < rows:\n",
      "            numRows = yBlockSize\n",
      "        else:\n",
      "            numRows = rows - i\n",
      "\n",
      "        # loop through the columns\n",
      "        for j in range(coly-1, coly, xBlockSize):# (0, cols, xBlockSize)\n",
      "            if j + xBlockSize < cols:\n",
      "                numCols = xBlockSize\n",
      "            else:\n",
      "                numCols = cols - j\n",
      "\n",
      "            print j, i, numCols, numRows\n",
      "            # set base array to fill \n",
      "            data_array = np.zeros(shape=(len(files),numRows,numCols), dtype=np.float32)\n",
      "\n",
      "            # select blocks from trmm and ndvi files\n",
      "            for m in range(len(files)):\n",
      "\n",
      "                raster = gdal.Open(files[m], gdal.GA_ReadOnly)\n",
      "                band = raster.GetRasterBand(1)            \n",
      "                data_array[m] = band.ReadAsArray(j, i, numCols, numRows).astype(np.float)\n",
      "\n",
      "            # reshape from 3D to 2D\n",
      "            data_array = data_array.reshape((int(data_array.shape[0]), \n",
      "                                             int(data_array.shape[1]*data_array.shape[2]))).T\n",
      "    return data_array"
     ],
     "language": "python",
     "metadata": {},
     "outputs": [],
     "prompt_number": 7
    },
    {
     "cell_type": "code",
     "collapsed": false,
     "input": [
      "def getDataLST(files, path_base):\n",
      "    \"\"\"\n",
      "    Input:\n",
      "    folder_lst = r'D:\\Downloads\\Mattijn@Jia\\LST_rasdaman'\n",
      "    path_base = r'D:\\Downloads\\Mattijn@Jia\\LST_rasdaman//LST_20111230.tif'    \n",
      "    \"\"\"\n",
      "    \n",
      "    print files[0], path_base\n",
      "    # register all of the GDAL drivers\n",
      "    gdal.AllRegister()\n",
      "\n",
      "    # open the image\n",
      "    ds = gdal.Open(path_base, gdal.GA_ReadOnly)\n",
      "    if ds is None:\n",
      "        print 'Could not open base file'\n",
      "        sys.exit(1)\n",
      "\n",
      "    # get image size\n",
      "    rows = ds.RasterYSize\n",
      "    cols = ds.RasterXSize\n",
      "    bands = ds.RasterCount\n",
      "\n",
      "    # get the band and block sizes\n",
      "    band = ds.GetRasterBand(1)\n",
      "    base = band.ReadAsArray()\n",
      "    nan = band.GetNoDataValue()\n",
      "\n",
      "    # set base array to fill \n",
      "    data_array = np.zeros(shape=(len(files),rows,cols), dtype=np.float32)\n",
      "\n",
      "    for m in range(len(files)):\n",
      "\n",
      "        raster = gdal.Open(files[m], gdal.GA_ReadOnly)\n",
      "        band = raster.GetRasterBand(1)            \n",
      "        data_array[m] = band.ReadAsArray().astype(np.float)\n",
      "\n",
      "    # reshape from 3D to 2D\n",
      "    data_array = data_array.reshape((int(data_array.shape[0]), \n",
      "                                     int(data_array.shape[1]*data_array.shape[2]))).T\n",
      "    return data_array"
     ],
     "language": "python",
     "metadata": {},
     "outputs": [],
     "prompt_number": 8
    },
    {
     "cell_type": "code",
     "collapsed": false,
     "input": [
      "folder_ndvi = r'D:\\Data\\0_DAILY_INTERVAL_NDVI_TRMM\\InnerMongolia\\NDVI\\RAW2'\n",
      "path_base_ndvi = r'D:\\Data\\0_DAILY_INTERVAL_NDVI_TRMM\\InnerMongolia\\NDVI\\RAW2//NDVI_IM_2003001.tif'    \n",
      "\n",
      "# row and column to start extracting data\n",
      "rowx = 300\n",
      "coly = 700    \n",
      "\n",
      "# blocksize to select the area of extraction\n",
      "#blockSizes = utils.GetBlockSize(band)\n",
      "xBlockSize = 5\n",
      "yBlockSize = 5 \n",
      "\n",
      "# get files from list\n",
      "files_ndvi = listall(folder_ndvi)\n",
      "\n",
      "# using the parameters do the work\n",
      "data_NDVI = getData(files_ndvi, path_base_ndvi, rowx, coly, xBlockSize, yBlockSize)"
     ],
     "language": "python",
     "metadata": {},
     "outputs": [
      {
       "output_type": "stream",
       "stream": "stdout",
       "text": [
        "D:\\Data\\0_DAILY_INTERVAL_NDVI_TRMM\\InnerMongolia\\NDVI\\RAW2\\NDVI_IM_2003001.tif D:\\Data\\0_DAILY_INTERVAL_NDVI_TRMM\\InnerMongolia\\NDVI\\RAW2//NDVI_IM_2003001.tif 300 700 5 5\n",
        "699 299 5 5\n"
       ]
      }
     ],
     "prompt_number": 9
    },
    {
     "cell_type": "code",
     "collapsed": false,
     "input": [
      "folder_trmm = r'D:\\Data\\0_DAILY_INTERVAL_NDVI_TRMM\\InnerMongolia\\TRMM2\\30_Day_Period\\30_DaySums'\n",
      "path_base_trmm = r'D:\\Data\\0_DAILY_INTERVAL_NDVI_TRMM\\InnerMongolia\\TRMM2\\30_Day_Period\\30_DaySums//TRMM_IM_2003001.tif'\n",
      "\n",
      "# row and column to start extracting data\n",
      "rowx = 17\n",
      "coly = 24    \n",
      "\n",
      "# blocksize to select the area of extraction\n",
      "#blockSizes = utils.GetBlockSize(band)\n",
      "xBlockSize = 2\n",
      "yBlockSize = 2 \n",
      "\n",
      "# get files from list\n",
      "files_trmm = listall(folder_trmm)\n",
      "\n",
      "# using the parameters do the work\n",
      "data_TRMM = getData(files_trmm, path_base_trmm, rowx, coly, xBlockSize, yBlockSize)"
     ],
     "language": "python",
     "metadata": {},
     "outputs": [
      {
       "output_type": "stream",
       "stream": "stdout",
       "text": [
        "D:\\Data\\0_DAILY_INTERVAL_NDVI_TRMM\\InnerMongolia\\TRMM2\\30_Day_Period\\30_DaySums\\TRMM_IM_2003001.tif D:\\Data\\0_DAILY_INTERVAL_NDVI_TRMM\\InnerMongolia\\TRMM2\\30_Day_Period\\30_DaySums//TRMM_IM_2003001.tif 17 24 2 2\n",
        "23 16 2 2\n"
       ]
      }
     ],
     "prompt_number": 10
    },
    {
     "cell_type": "code",
     "collapsed": false,
     "input": [
      "folder_lst = r'D:\\Downloads\\Mattijn@Jia\\LST_rasdaman'\n",
      "path_base_lst = r'D:\\Downloads\\Mattijn@Jia\\LST_rasdaman//LST_20111230.tif'\n",
      "\n",
      "# get files from list\n",
      "files_lst = listall(folder_lst)\n",
      "\n",
      "# using the parameters do the work\n",
      "data_LST = getDataLST(files_lst, path_base_lst)"
     ],
     "language": "python",
     "metadata": {},
     "outputs": [
      {
       "output_type": "stream",
       "stream": "stdout",
       "text": [
        "D:\\Downloads\\Mattijn@Jia\\LST_rasdaman\\LST_20000302.tif D:\\Downloads\\Mattijn@Jia\\LST_rasdaman//LST_20111230.tif\n"
       ]
      }
     ],
     "prompt_number": 11
    },
    {
     "cell_type": "markdown",
     "metadata": {},
     "source": [
      "Compute the cubic"
     ]
    },
    {
     "cell_type": "markdown",
     "metadata": {},
     "source": [
      "Get quantiles for NDVI"
     ]
    },
    {
     "cell_type": "code",
     "collapsed": false,
     "input": [
      "# mask NDVI where equal to NaN and create pandas time series\n",
      "ds_ma = np.ma.masked_equal(data_NDVI, data_NDVI.min())\n",
      "df = pd.Series(ds_ma.compressed())"
     ],
     "language": "python",
     "metadata": {},
     "outputs": [],
     "prompt_number": 12
    },
    {
     "cell_type": "code",
     "collapsed": false,
     "input": [
      "# Compute histogram as line plot\n",
      "y,binEdges=np.histogram(df, bins=100)\n",
      "bincenters = 0.5*(binEdges[1:]+binEdges[:-1])\n",
      "\n",
      "# Compute the 5-quantiles using pandas quantile function\n",
      "qcut_ndvi = df.quantile([0.2,0.4,0.6,0.8])\n",
      "qcut_ndvi.as_matrix().round(2)"
     ],
     "language": "python",
     "metadata": {},
     "outputs": [
      {
       "metadata": {},
       "output_type": "pyout",
       "prompt_number": 13,
       "text": [
        "array([ 0.05,  0.19,  0.31,  0.49])"
       ]
      }
     ],
     "prompt_number": 13
    },
    {
     "cell_type": "code",
     "collapsed": false,
     "input": [
      "# Plot normal histogram and add quantiles as vlines\n",
      "#plt.plot(bincenters,y,lw=1, color=plt.rcParams['axes.color_cycle'][5])\n",
      "plt.hist(ds_ma.flatten(), bins=100,color=plt.rcParams['axes.color_cycle'][0], edgecolor=plt.rcParams['axes.color_cycle'][0])\n",
      "plt.vlines(qcut_ndvi.as_matrix(),0,y.max(), color=plt.rcParams['axes.color_cycle'][3], lw=2,linestyle='solid')\n",
      "plt.xlabel('NDVI')\n",
      "plt.ylabel('Frequency')\n",
      "plt.ylim(0,y.max())\n",
      "#plt.suptitle('NDVI 5x5 time-series 2003-2012')\n",
      "plt.title('NDVI Histogram + 5-Quantiles')\n",
      "plt.show()\n",
      "#plt.savefig(r'D:\\Downloads\\Mattijn@Jia\\png//Histogram_quantiles_NDVI.png', dpi=150)"
     ],
     "language": "python",
     "metadata": {},
     "outputs": [
      {
       "output_type": "stream",
       "stream": "stderr",
       "text": [
        "C:\\Python27x86\\lib\\site-packages\\matplotlib\\__init__.py:892: UserWarning: axes.color_cycle is deprecated and replaced with axes.prop_cycle; please use the latter.\n",
        "  warnings.warn(self.msg_depr % (key, alt_key))\n"
       ]
      },
      {
       "metadata": {},
       "output_type": "display_data",
       "png": "[encoded data removed]",
       "text": [
        "<matplotlib.figure.Figure at 0xdb584f0>"
       ]
      }
     ],
     "prompt_number": 14
    },
    {
     "cell_type": "markdown",
     "metadata": {},
     "source": [
      "For TRMM 30-Day precipitation"
     ]
    },
    {
     "cell_type": "code",
     "collapsed": false,
     "input": [
      "# mask NDVI where equal to NaN and create pandas time series\n",
      "#ds_ma = np.ma.masked_equal(ap_trmm, ap_ndvi.min())\n",
      "df = pd.Series(data_TRMM.ravel())"
     ],
     "language": "python",
     "metadata": {},
     "outputs": [],
     "prompt_number": 15
    },
    {
     "cell_type": "code",
     "collapsed": false,
     "input": [
      "# Compute histogram as line plot\n",
      "y,binEdges=np.histogram(df,bins=100)\n",
      "bincenters = 0.5*(binEdges[1:]+binEdges[:-1])\n",
      "\n",
      "# Compute the 5-quantiles using pandas quantile function\n",
      "qcut_trmm = df.quantile([0.2,0.4,0.6,0.8])\n",
      "qcut_trmm.as_matrix().round(2)"
     ],
     "language": "python",
     "metadata": {},
     "outputs": [
      {
       "metadata": {},
       "output_type": "pyout",
       "prompt_number": 16,
       "text": [
        "array([  3.71,   8.02,  19.53,  52.47])"
       ]
      }
     ],
     "prompt_number": 16
    },
    {
     "cell_type": "code",
     "collapsed": false,
     "input": [
      "# Plot normal histogram and add quantiles as vlines\n",
      "#plt.plot(bincenters,y,lw=1, color=plt.rcParams['axes.color_cycle'][5])\n",
      "plt.hist(df, bins=100,color=plt.rcParams['axes.color_cycle'][0], edgecolor=plt.rcParams['axes.color_cycle'][0])\n",
      "plt.vlines(qcut_trmm.as_matrix(),0,y.max(), color=plt.rcParams['axes.color_cycle'][3], lw=2,linestyle='solid')\n",
      "plt.xlabel('Precipitation (mm)')\n",
      "plt.ylabel('Frequency')\n",
      "plt.ylim(0,y.max())\n",
      "#plt.suptitle('NDVI 5x5 time-series 2003-2012')\n",
      "plt.title('TRMM 30-day Histogram + 5-Quantiles')\n",
      "plt.show()\n",
      "#plt.savefig(r'D:\\Downloads\\Mattijn@Jia\\png//Histogram_quantiles_TRMM30day.png', dpi=150)"
     ],
     "language": "python",
     "metadata": {},
     "outputs": [
      {
       "metadata": {},
       "output_type": "display_data",
       "png": "[encoded data removed]",
       "text": [
        "<matplotlib.figure.Figure at 0xd9e0230>"
       ]
      }
     ],
     "prompt_number": 17
    },
    {
     "cell_type": "markdown",
     "metadata": {},
     "source": [
      "For LST precipitation"
     ]
    },
    {
     "cell_type": "code",
     "collapsed": false,
     "input": [
      "# mask NDVI where equal to NaN and create pandas time series\n",
      "#ds_ma = np.ma.masked_equal(ap_trmm, ap_ndvi.min())\n",
      "df = pd.Series(data_LST.ravel()*10)"
     ],
     "language": "python",
     "metadata": {},
     "outputs": [],
     "prompt_number": 18
    },
    {
     "cell_type": "code",
     "collapsed": false,
     "input": [
      "# Compute histogram as line plot\n",
      "y,binEdges=np.histogram(df,bins=100)\n",
      "bincenters = 0.5*(binEdges[1:]+binEdges[:-1])\n",
      "\n",
      "# Compute the 5-quantiles using pandas quantile function\n",
      "qcut_lst = df.quantile([0.2,0.4,0.6,0.8])\n",
      "qcut_lst.as_matrix().round(2)"
     ],
     "language": "python",
     "metadata": {},
     "outputs": [
      {
       "metadata": {},
       "output_type": "pyout",
       "prompt_number": 19,
       "text": [
        "array([ 12.99,  13.98,  14.82,  15.18])"
       ]
      }
     ],
     "prompt_number": 19
    },
    {
     "cell_type": "code",
     "collapsed": false,
     "input": [
      "# Plot normal histogram and add quantiles as vlines\n",
      "#plt.plot(bincenters,y,lw=1, color=plt.rcParams['axes.color_cycle'][5])\n",
      "plt.hist(df, bins=100,color=plt.rcParams['axes.color_cycle'][0], edgecolor=plt.rcParams['axes.color_cycle'][0])\n",
      "plt.vlines(qcut_lst.as_matrix(),0,y.max(), color=plt.rcParams['axes.color_cycle'][3], lw=2,linestyle='solid')\n",
      "plt.xlabel('LST (degrees)')\n",
      "plt.ylabel('Frequency')\n",
      "plt.ylim(0,y.max())\n",
      "#plt.suptitle('NDVI 5x5 time-series 2003-2012')\n",
      "plt.title('LST Histogram + 5-Quantiles')\n",
      "\n",
      "plt.savefig(r'D:\\Downloads\\Mattijn@Jia\\png//Histogram_quantiles_LST.png', dpi=150)"
     ],
     "language": "python",
     "metadata": {},
     "outputs": [
      {
       "metadata": {},
       "output_type": "display_data",
       "png": "[encoded data removed]",
       "text": [
        "<matplotlib.figure.Figure at 0x14366a50>"
       ]
      }
     ],
     "prompt_number": 20
    },
    {
     "cell_type": "markdown",
     "metadata": {},
     "source": [
      "Get 2009 data"
     ]
    },
    {
     "cell_type": "code",
     "collapsed": false,
     "input": [
      "# NDVI\n",
      "files_ndvi_2009 = files_ndvi[2191:2556]\n",
      "dates_ndvi_2009 = getDatums(files_ndvi_2009)\n",
      "\n",
      "# row and column to start extracting data\n",
      "rowx = 300\n",
      "coly = 700    \n",
      "\n",
      "# blocksize to select the area of extraction\n",
      "#blockSizes = utils.GetBlockSize(band)\n",
      "xBlockSize = 5\n",
      "yBlockSize = 5 \n",
      "\n",
      "data_NDVI_2009 = getData(files_ndvi_2009, path_base_ndvi, rowx, coly, xBlockSize, yBlockSize)"
     ],
     "language": "python",
     "metadata": {},
     "outputs": [
      {
       "output_type": "stream",
       "stream": "stdout",
       "text": [
        "D:\\Data\\0_DAILY_INTERVAL_NDVI_TRMM\\InnerMongolia\\NDVI\\RAW2\\NDVI_IM_2009001.tif D:\\Data\\0_DAILY_INTERVAL_NDVI_TRMM\\InnerMongolia\\NDVI\\RAW2//NDVI_IM_2003001.tif 300 700 5 5\n",
        "699 299 5 5\n"
       ]
      }
     ],
     "prompt_number": 21
    },
    {
     "cell_type": "code",
     "collapsed": false,
     "input": [
      "# TRMM\n",
      "files_trmm_2009 = files_trmm[2192:2557]\n",
      "dates_trmm_2009 = getDatums(files_trmm_2009)\n",
      "\n",
      "# row and column to start extracting data\n",
      "rowx = 17\n",
      "coly = 24    \n",
      "\n",
      "# blocksize to select the area of extraction\n",
      "#blockSizes = utils.GetBlockSize(band)\n",
      "xBlockSize = 2\n",
      "yBlockSize = 2 \n",
      "\n",
      "data_TRMM_2009 = getData(files_trmm_2009, path_base_trmm, rowx, coly, xBlockSize, yBlockSize)"
     ],
     "language": "python",
     "metadata": {},
     "outputs": [
      {
       "output_type": "stream",
       "stream": "stdout",
       "text": [
        "D:\\Data\\0_DAILY_INTERVAL_NDVI_TRMM\\InnerMongolia\\TRMM2\\30_Day_Period\\30_DaySums\\TRMM_IM_2009001.tif D:\\Data\\0_DAILY_INTERVAL_NDVI_TRMM\\InnerMongolia\\TRMM2\\30_Day_Period\\30_DaySums//TRMM_IM_2003001.tif 17 24 2 2\n",
        "23 16 2 2\n"
       ]
      }
     ],
     "prompt_number": 22
    },
    {
     "cell_type": "code",
     "collapsed": false,
     "input": [
      "# LST\n",
      "files_lst_2009 = files_lst[404:449]\n",
      "dates_lst_2009 = getDatumsLST(files_lst_2009)\n",
      "\n",
      "# using the parameters do the work\n",
      "data_LST_2009 = getDataLST(files_lst_2009, path_base_lst)"
     ],
     "language": "python",
     "metadata": {},
     "outputs": [
      {
       "output_type": "stream",
       "stream": "stdout",
       "text": [
        "D:\\Downloads\\Mattijn@Jia\\LST_rasdaman\\LST_20090106.tif D:\\Downloads\\Mattijn@Jia\\LST_rasdaman//LST_20111230.tif\n"
       ]
      }
     ],
     "prompt_number": 23
    },
    {
     "cell_type": "code",
     "collapsed": false,
     "input": [
      "# calculate the mean of 2009\n",
      "avg_lst_2009 = data_LST_2009.mean(axis=0)\n",
      "avg_ndvi_2009 = data_NDVI_2009.mean(axis=0)\n",
      "avg_trmm_2009 = data_TRMM_2009.mean(axis=0)"
     ],
     "language": "python",
     "metadata": {},
     "outputs": [],
     "prompt_number": 24
    },
    {
     "cell_type": "code",
     "collapsed": false,
     "input": [
      "# create pandas series of the mean and observations\n",
      "y2009_ndvi = pd.Series(avg_ndvi_2009,dates_ndvi_2009, name='NDVI')\n",
      "y2009_trmm = pd.Series(avg_trmm_2009,dates_trmm_2009, name='TRMM')\n",
      "y2009_lst = pd.Series(avg_lst_2009*10,dates_lst_2009, name='LST')"
     ],
     "language": "python",
     "metadata": {},
     "outputs": [],
     "prompt_number": 25
    },
    {
     "cell_type": "code",
     "collapsed": false,
     "input": [
      "# concatenate all dimensions and resmaple to decads\n",
      "y2009_comb = pd.concat([y2009_ndvi,y2009_trmm,y2009_lst],axis=1)\n",
      "y2009_comb = y2009_comb.resample(\"M\", how='mean')\n",
      "#y2009_comb.to_excel(r'D:\\Downloads\\Mattijn@Jia\\data//comb_2009_ndvi_trmm_lst_monthly.xlsx')"
     ],
     "language": "python",
     "metadata": {},
     "outputs": [],
     "prompt_number": 186
    },
    {
     "cell_type": "code",
     "collapsed": false,
     "input": [
      "print qcut_ndvi.as_matrix().round(2), qcut_lst.as_matrix().round(2), qcut_trmm.as_matrix().round(2)"
     ],
     "language": "python",
     "metadata": {},
     "outputs": [
      {
       "output_type": "stream",
       "stream": "stdout",
       "text": [
        "[ 0.05  0.19  0.31  0.49] [ 12.99  13.98  14.82  15.18] [  3.71   8.02  19.53  52.47]\n"
       ]
      }
     ],
     "prompt_number": 187
    },
    {
     "cell_type": "code",
     "collapsed": false,
     "input": [
      "# get quantiles for each variable\n",
      "qtls_NDVI = qcut_ndvi.as_matrix().round(2)\n",
      "qtls_TRMM = qcut_trmm.as_matrix().round(2)\n",
      "qtls_LST = qcut_lst.as_matrix().round(2)"
     ],
     "language": "python",
     "metadata": {},
     "outputs": [],
     "prompt_number": 188
    },
    {
     "cell_type": "code",
     "collapsed": false,
     "input": [
      "# do a deep copy and classify the variables\n",
      "y2009_class = y2009_comb.copy()"
     ],
     "language": "python",
     "metadata": {},
     "outputs": [],
     "prompt_number": 189
    },
    {
     "cell_type": "code",
     "collapsed": false,
     "input": [
      "# classify NDVI\n",
      "y2009_class['NDVI'].loc[(y2009_class['NDVI'] > qtls_NDVI[3])] = 4.5\n",
      "y2009_class['NDVI'].loc[(y2009_class['NDVI'] <= qtls_NDVI[0])] = 0.5\n",
      "y2009_class['NDVI'].loc[((y2009_class['NDVI'] > qtls_NDVI[0])) & ((y2009_class['NDVI'] <= qtls_NDVI[1]))] = 1.5\n",
      "y2009_class['NDVI'].loc[((y2009_class['NDVI'] > qtls_NDVI[1])) & ((y2009_class['NDVI'] <= qtls_NDVI[2]))] = 2.5\n",
      "y2009_class['NDVI'].loc[((y2009_class['NDVI'] > qtls_NDVI[2])) & ((y2009_class['NDVI'] <= qtls_NDVI[3]))] = 3.5\n",
      "\n",
      "# classify TRMM\n",
      "y2009_class['TRMM'].loc[(y2009_class['TRMM'] > qtls_TRMM[3])] = 4.5\n",
      "y2009_class['TRMM'].loc[(y2009_class['TRMM'] <= qtls_TRMM[0])] = 0.5\n",
      "y2009_class['TRMM'].loc[((y2009_class['TRMM'] > qtls_TRMM[0])) & ((y2009_class['TRMM'] <= qtls_TRMM[1]))] = 1.5\n",
      "y2009_class['TRMM'].loc[((y2009_class['TRMM'] > qtls_TRMM[1])) & ((y2009_class['TRMM'] <= qtls_TRMM[2]))] = 2.5\n",
      "y2009_class['TRMM'].loc[((y2009_class['TRMM'] > qtls_TRMM[2])) & ((y2009_class['TRMM'] <= qtls_TRMM[3]))] = 3.5\n",
      "\n",
      "# classify LST\n",
      "y2009_class['LST'].loc[(y2009_class['LST'] > qtls_LST[3])] = 4.5\n",
      "y2009_class['LST'].loc[(y2009_class['LST'] <= qtls_LST[0])] = 0.5\n",
      "y2009_class['LST'].loc[((y2009_class['LST'] > qtls_LST[0])) & ((y2009_class['LST'] <= qtls_LST[1]))] = 1.5\n",
      "y2009_class['LST'].loc[((y2009_class['LST'] > qtls_LST[1])) & ((y2009_class['LST'] <= qtls_LST[2]))] = 2.5\n",
      "y2009_class['LST'].loc[((y2009_class['LST'] > qtls_LST[2])) & ((y2009_class['LST'] <= qtls_LST[3]))] = 3.5"
     ],
     "language": "python",
     "metadata": {},
     "outputs": [],
     "prompt_number": 190
    },
    {
     "cell_type": "code",
     "collapsed": false,
     "input": [
      "#%matplotlib inline\n",
      "%matplotlib qt"
     ],
     "language": "python",
     "metadata": {},
     "outputs": [],
     "prompt_number": 154
    },
    {
     "cell_type": "code",
     "collapsed": false,
     "input": [
      "y2009_class"
     ],
     "language": "python",
     "metadata": {},
     "outputs": [
      {
       "html": [
        "<div style=\"max-width:1500px;overflow:auto;\">\n",
        "<table border=\"1\" class=\"dataframe\">\n",
        "  <thead>\n",
        "    <tr style=\"text-align: right;\">\n",
        "      <th></th>\n",
        "      <th>NDVI</th>\n",
        "      <th>TRMM</th>\n",
        "      <th>LST</th>\n",
        "    </tr>\n",
        "  </thead>\n",
        "  <tbody>\n",
        "    <tr>\n",
        "      <th>2009-01-31</th>\n",
        "      <td>0.5</td>\n",
        "      <td>0.5</td>\n",
        "      <td>0.5</td>\n",
        "    </tr>\n",
        "    <tr>\n",
        "      <th>2009-02-28</th>\n",
        "      <td>0.5</td>\n",
        "      <td>0.5</td>\n",
        "      <td>1.5</td>\n",
        "    </tr>\n",
        "    <tr>\n",
        "      <th>2009-03-31</th>\n",
        "      <td>0.5</td>\n",
        "      <td>0.5</td>\n",
        "      <td>1.5</td>\n",
        "    </tr>\n",
        "    <tr>\n",
        "      <th>2009-04-30</th>\n",
        "      <td>2.5</td>\n",
        "      <td>2.5</td>\n",
        "      <td>2.5</td>\n",
        "    </tr>\n",
        "    <tr>\n",
        "      <th>2009-05-31</th>\n",
        "      <td>3.5</td>\n",
        "      <td>3.5</td>\n",
        "      <td>3.5</td>\n",
        "    </tr>\n",
        "    <tr>\n",
        "      <th>2009-06-30</th>\n",
        "      <td>4.5</td>\n",
        "      <td>3.5</td>\n",
        "      <td>0.5</td>\n",
        "    </tr>\n",
        "    <tr>\n",
        "      <th>2009-07-31</th>\n",
        "      <td>4.5</td>\n",
        "      <td>1.5</td>\n",
        "      <td>3.5</td>\n",
        "    </tr>\n",
        "    <tr>\n",
        "      <th>2009-08-31</th>\n",
        "      <td>4.5</td>\n",
        "      <td>3.5</td>\n",
        "      <td>0.5</td>\n",
        "    </tr>\n",
        "    <tr>\n",
        "      <th>2009-09-30</th>\n",
        "      <td>3.5</td>\n",
        "      <td>3.5</td>\n",
        "      <td>3.5</td>\n",
        "    </tr>\n",
        "    <tr>\n",
        "      <th>2009-10-31</th>\n",
        "      <td>2.5</td>\n",
        "      <td>2.5</td>\n",
        "      <td>2.5</td>\n",
        "    </tr>\n",
        "    <tr>\n",
        "      <th>2009-11-30</th>\n",
        "      <td>1.5</td>\n",
        "      <td>1.5</td>\n",
        "      <td>1.5</td>\n",
        "    </tr>\n",
        "    <tr>\n",
        "      <th>2009-12-31</th>\n",
        "      <td>0.5</td>\n",
        "      <td>1.5</td>\n",
        "      <td>0.5</td>\n",
        "    </tr>\n",
        "  </tbody>\n",
        "</table>\n",
        "</div>"
       ],
       "metadata": {},
       "output_type": "pyout",
       "prompt_number": 192,
       "text": [
        "            NDVI  TRMM  LST\n",
        "2009-01-31   0.5   0.5  0.5\n",
        "2009-02-28   0.5   0.5  1.5\n",
        "2009-03-31   0.5   0.5  1.5\n",
        "2009-04-30   2.5   2.5  2.5\n",
        "2009-05-31   3.5   3.5  3.5\n",
        "2009-06-30   4.5   3.5  0.5\n",
        "2009-07-31   4.5   1.5  3.5\n",
        "2009-08-31   4.5   3.5  0.5\n",
        "2009-09-30   3.5   3.5  3.5\n",
        "2009-10-31   2.5   2.5  2.5\n",
        "2009-11-30   1.5   1.5  1.5\n",
        "2009-12-31   0.5   1.5  0.5"
       ]
      }
     ],
     "prompt_number": 192
    },
    {
     "cell_type": "code",
     "collapsed": false,
     "input": [
      "from mpl_toolkits.mplot3d import axes3d\n",
      "import matplotlib.pyplot as plt\n",
      "from matplotlib import cm"
     ],
     "language": "python",
     "metadata": {},
     "outputs": [],
     "prompt_number": 193
    },
    {
     "cell_type": "code",
     "collapsed": false,
     "input": [
      "import matplotlib as mpl"
     ],
     "language": "python",
     "metadata": {},
     "outputs": [],
     "prompt_number": 194
    },
    {
     "cell_type": "code",
     "collapsed": false,
     "input": [
      "for ii in np.linspace(0,359,360)[138:139]:\n",
      "    #CONSTANTS\n",
      "    NPOINTS = len(y2009_class['NDVI'])\n",
      "    COLOR='blue'\n",
      "    #RESFACT=10\n",
      "    MAP='jet' # choose carefully, or color transitions will not appear smoooth\n",
      "\n",
      "    # create random data\n",
      "    np.random.seed(101)\n",
      "    x = y2009_class['NDVI']\n",
      "    y = y2009_class['TRMM']\n",
      "    z = y2009_class['LST']\n",
      "\n",
      "    %matplotlib inline\n",
      "    fig = plt.figure(figsize=(8,8))\n",
      "    ax = plt.axes(projection='3d')\n",
      "\n",
      "    cm = plt.get_cmap(MAP)\n",
      "    ax.set_color_cycle([cm(1.*i/(NPOINTS-1)) for i in range(NPOINTS-1)])\n",
      "    for i in range(NPOINTS-1):\n",
      "        ax.plot(x[i:i+2],y[i:i+2],z[i:i+2])\n",
      "    #    ax.scatter(x[i:i+2],y[i:i+2],z[i:i+2])\n",
      "\n",
      "    #ax.plot(x,y,z)\n",
      "    ax.scatter(x,y,z,c=np.linspace(0,1,NPOINTS), s=40)\n",
      "\n",
      "\n",
      "    #ax.text(.05,1.05,'Reg. Res - Color Map')\n",
      "    ax.set_xlim(0,5)\n",
      "    ax.set_ylim(0,5)\n",
      "    ax.set_zlim(0,5)\n",
      "\n",
      "    qtls_NDVI_lst = qtls_NDVI.tolist()\n",
      "    qtls_NDVI_lst.insert(0,' ')\n",
      "    qtls_NDVI_lst.append(' ')\n",
      "\n",
      "    ax.w_xaxis.set_ticklabels(qtls_NDVI_lst)\n",
      "    ax.w_xaxis.set_label_text('NDVI 5-quantiles')\n",
      "\n",
      "    qtls_LST_lst = qtls_LST.tolist()\n",
      "    qtls_LST_lst.insert(0,' ')\n",
      "    qtls_LST_lst.append(' ')\n",
      "\n",
      "    ax.w_yaxis.set_ticklabels(qtls_LST_lst)\n",
      "    ax.w_yaxis.set_label_text('LST 5-quantiles (degrees)')\n",
      "\n",
      "    qtls_TRMM_lst = qtls_TRMM.tolist()\n",
      "    qtls_TRMM_lst.insert(0,' ')\n",
      "    qtls_TRMM_lst.append(' ')\n",
      "\n",
      "    ax.w_zaxis.set_ticklabels(qtls_TRMM_lst)\n",
      "    ax.w_zaxis.set_label_text('TRMM 5-quantiles (mm)')\n",
      "\n",
      "    ax.azim=int(ii)#ii\n",
      "    ax.elev=20#ii\n",
      "\n",
      "    ax1 = fig.add_axes([0.92,0.25,0.03,0.50])\n",
      "    ax1.text(-8,1.2,'axim: '+str(ax.azim).zfill(3)+' elev: '+str(ax.elev).zfill(3))\n",
      "    cmap = mpl.cm.jet\n",
      "    norm = mpl.colors.Normalize(vmin=0, vmax=NPOINTS)\n",
      "\n",
      "    cb = mpl.colorbar.ColorbarBase(ax1, cmap=cm,\n",
      "                                    norm=norm,\n",
      "                                    orientation='vertical')\n",
      "    #cb.set_label('Some Units')\n",
      "    cb.ax.set_yticklabels(y2009_class.index.map(lambda x: x.strftime('%d-%m-%Y')))\n",
      "    #plt.savefig(r'C:\\Users\\lenovo\\Pictures\\movie\\trial#2//'+str(int(ii))+'.png', dpi=100, bbox_inches='tight')\n",
      "    plt.show    \n",
      "    plt.tight_layout\n",
      "    #plt.clf()"
     ],
     "language": "python",
     "metadata": {},
     "outputs": [
      {
       "metadata": {},
       "output_type": "display_data",
       "png": "[encoded data removed]",
       "text": [
        "<matplotlib.figure.Figure at 0x25290430>"
       ]
      }
     ],
     "prompt_number": 195
    },
    {
     "cell_type": "code",
     "collapsed": false,
     "input": [
      "ax = None\n",
      "plt.clf()"
     ],
     "language": "python",
     "metadata": {},
     "outputs": [
      {
       "metadata": {},
       "output_type": "display_data",
       "text": [
        "<matplotlib.figure.Figure at 0x488f9d90>"
       ]
      }
     ],
     "prompt_number": 161
    },
    {
     "cell_type": "code",
     "collapsed": false,
     "input": [
      "np.linspace(0,359,360)"
     ],
     "language": "python",
     "metadata": {},
     "outputs": [
      {
       "metadata": {},
       "output_type": "pyout",
       "prompt_number": 171,
       "text": [
        "array([   0.,    1.,    2.,    3.,    4.,    5.,    6.,    7.,    8.,\n",
        "          9.,   10.,   11.,   12.,   13.,   14.,   15.,   16.,   17.,\n",
        "         18.,   19.,   20.,   21.,   22.,   23.,   24.,   25.,   26.,\n",
        "         27.,   28.,   29.,   30.,   31.,   32.,   33.,   34.,   35.,\n",
        "         36.,   37.,   38.,   39.,   40.,   41.,   42.,   43.,   44.,\n",
        "         45.,   46.,   47.,   48.,   49.,   50.,   51.,   52.,   53.,\n",
        "         54.,   55.,   56.,   57.,   58.,   59.,   60.,   61.,   62.,\n",
        "         63.,   64.,   65.,   66.,   67.,   68.,   69.,   70.,   71.,\n",
        "         72.,   73.,   74.,   75.,   76.,   77.,   78.,   79.,   80.,\n",
        "         81.,   82.,   83.,   84.,   85.,   86.,   87.,   88.,   89.,\n",
        "         90.,   91.,   92.,   93.,   94.,   95.,   96.,   97.,   98.,\n",
        "         99.,  100.,  101.,  102.,  103.,  104.,  105.,  106.,  107.,\n",
        "        108.,  109.,  110.,  111.,  112.,  113.,  114.,  115.,  116.,\n",
        "        117.,  118.,  119.,  120.,  121.,  122.,  123.,  124.,  125.,\n",
        "        126.,  127.,  128.,  129.,  130.,  131.,  132.,  133.,  134.,\n",
        "        135.,  136.,  137.,  138.,  139.,  140.,  141.,  142.,  143.,\n",
        "        144.,  145.,  146.,  147.,  148.,  149.,  150.,  151.,  152.,\n",
        "        153.,  154.,  155.,  156.,  157.,  158.,  159.,  160.,  161.,\n",
        "        162.,  163.,  164.,  165.,  166.,  167.,  168.,  169.,  170.,\n",
        "        171.,  172.,  173.,  174.,  175.,  176.,  177.,  178.,  179.,\n",
        "        180.,  181.,  182.,  183.,  184.,  185.,  186.,  187.,  188.,\n",
        "        189.,  190.,  191.,  192.,  193.,  194.,  195.,  196.,  197.,\n",
        "        198.,  199.,  200.,  201.,  202.,  203.,  204.,  205.,  206.,\n",
        "        207.,  208.,  209.,  210.,  211.,  212.,  213.,  214.,  215.,\n",
        "        216.,  217.,  218.,  219.,  220.,  221.,  222.,  223.,  224.,\n",
        "        225.,  226.,  227.,  228.,  229.,  230.,  231.,  232.,  233.,\n",
        "        234.,  235.,  236.,  237.,  238.,  239.,  240.,  241.,  242.,\n",
        "        243.,  244.,  245.,  246.,  247.,  248.,  249.,  250.,  251.,\n",
        "        252.,  253.,  254.,  255.,  256.,  257.,  258.,  259.,  260.,\n",
        "        261.,  262.,  263.,  264.,  265.,  266.,  267.,  268.,  269.,\n",
        "        270.,  271.,  272.,  273.,  274.,  275.,  276.,  277.,  278.,\n",
        "        279.,  280.,  281.,  282.,  283.,  284.,  285.,  286.,  287.,\n",
        "        288.,  289.,  290.,  291.,  292.,  293.,  294.,  295.,  296.,\n",
        "        297.,  298.,  299.,  300.,  301.,  302.,  303.,  304.,  305.,\n",
        "        306.,  307.,  308.,  309.,  310.,  311.,  312.,  313.,  314.,\n",
        "        315.,  316.,  317.,  318.,  319.,  320.,  321.,  322.,  323.,\n",
        "        324.,  325.,  326.,  327.,  328.,  329.,  330.,  331.,  332.,\n",
        "        333.,  334.,  335.,  336.,  337.,  338.,  339.,  340.,  341.,\n",
        "        342.,  343.,  344.,  345.,  346.,  347.,  348.,  349.,  350.,\n",
        "        351.,  352.,  353.,  354.,  355.,  356.,  357.,  358.,  359.])"
       ]
      }
     ],
     "prompt_number": 171
    },
    {
     "cell_type": "code",
     "collapsed": false,
     "input": [
      "from matplotlib.collections import LineCollection"
     ],
     "language": "python",
     "metadata": {},
     "outputs": []
    },
    {
     "cell_type": "code",
     "collapsed": false,
     "input": [
      "len(y2009_class['NDVI'])"
     ],
     "language": "python",
     "metadata": {},
     "outputs": []
    },
    {
     "cell_type": "code",
     "collapsed": false,
     "input": [
      "fig = plt.figure()\n",
      "ax = plt.axes(projection='3d')\n",
      "z = np.linspace(0, 1, len(y2009_class['NDVI']))\n",
      "x = z * np.sin(20 * z)\n",
      "y = z * np.cos(20 * z)\n",
      "c = x + y\n",
      "ax.scatter(x, y, z, c=c)"
     ],
     "language": "python",
     "metadata": {},
     "outputs": []
    },
    {
     "cell_type": "code",
     "collapsed": false,
     "input": [],
     "language": "python",
     "metadata": {},
     "outputs": []
    },
    {
     "cell_type": "code",
     "collapsed": false,
     "input": [],
     "language": "python",
     "metadata": {},
     "outputs": []
    },
    {
     "cell_type": "code",
     "collapsed": false,
     "input": [
      "fig = plt.figure()\n",
      "ax = plt.axes(projection='3d')\n",
      "\n",
      "ax.plot(y2009_class['NDVI'],y2009_class['TRMM'],y2009_class['LST'], 'b-')\n",
      "ax.scatter(y2009_class['NDVI'],y2009_class['TRMM'],y2009_class['LST'], s=40,c=c)\n",
      "\n",
      "plt.show()"
     ],
     "language": "python",
     "metadata": {},
     "outputs": []
    },
    {
     "cell_type": "code",
     "collapsed": false,
     "input": [
      "import matplotlib.pyplot as plot\n",
      "from mpl_toolkits.mplot3d.axes3d import Axes3D\n",
      "from mpl_toolkits.mplot3d.art3d import Line3DCollection\n",
      "import numpy as np\n",
      "\n",
      "X = [(0,0,0,1,0),(0,0,1,0,0),(0,1,0,0,0)]\n",
      "#c = np.linspace(0, 1., num = X.shape[1])[::-1]\n",
      "#a = np.ones(shape = c.shape[0])\n",
      "#r = zip(a, c, c, a) # an attempt to make red vary from light to dark\n",
      "r = [(1.0, 1.0, 1.0, 1.0), (1.0, 0.75, 0.75, 1.0), (1.0, 0.5, 0.5, 1.0), (1.0, 0.25, 0.25, 1.0), (1.0, 0.0, 0.0, 1.0)]\n",
      "# r, which contains n tuples of the form (r,g,b,a), looks something like this:\n",
      "# [(1.0, 1.0, 1.0, 1.0), \n",
      "# (1.0, 0.99998283232330165, 0.99998283232330165, 1.0),\n",
      "# (1.0, 0.9999656646466033, 0.9999656646466033, 1.0),\n",
      "# (1.0, 0.99994849696990495, 0.99994849696990495, 1.0),\n",
      "# ..., \n",
      "# (1.0, 1.7167676698312416e-05, 1.7167676698312416e-05, 1.0),\n",
      "# (1.0, 0.0, 0.0, 1.0)]\n",
      "\n",
      "fig = plot.figure()\n",
      "ax = fig.gca(projection = '3d')\n",
      "\n",
      "\n",
      "points = np.array([X[0], X[1], X[2]]).T.reshape(-1, 1, 3)\n",
      "segs = np.concatenate([points[:-1], points[1:]], axis = 1)\n",
      "#ax.add_collection(Line3DCollection(segs,disc))\n",
      "ax.add_collection(Line3DCollection(segs, colors=list(r)))\n",
      "#lc = Line3DCollection(segs, colors = r)\n",
      "#ax.add_collection3d(lc)\n",
      "\n",
      "#ax.set_xlim(-0.45, 0.45)\n",
      "#ax.set_ylim(-0.4, 0.5)\n",
      "#ax.set_zlim(-0.45, 0.45)\n",
      "\n",
      "plot.show()"
     ],
     "language": "python",
     "metadata": {},
     "outputs": []
    },
    {
     "cell_type": "code",
     "collapsed": false,
     "input": [
      "Line3DCollection(disc)"
     ],
     "language": "python",
     "metadata": {},
     "outputs": []
    },
    {
     "cell_type": "code",
     "collapsed": false,
     "input": [
      "matplotlib.collections.LineCollection()"
     ],
     "language": "python",
     "metadata": {},
     "outputs": []
    },
    {
     "cell_type": "code",
     "collapsed": false,
     "input": [],
     "language": "python",
     "metadata": {},
     "outputs": []
    },
    {
     "cell_type": "code",
     "collapsed": false,
     "input": [],
     "language": "python",
     "metadata": {},
     "outputs": []
    },
    {
     "cell_type": "code",
     "collapsed": false,
     "input": [
      "from mpl_toolkits.mplot3d import Axes3D\n",
      "import matplotlib.pyplot as plt\n",
      "import numpy as np\n",
      "from itertools import product, combinations\n",
      "#fig = plt.figure()\n",
      "fig = plt.figure(figsize=(6,6))\n",
      "ax = fig.gca(projection='3d')\n",
      "ax.set_aspect(\"equal\")\n",
      "\n",
      "#ax.w_xaxis.line.set_color(\"red\")\n",
      "#ax.w_xaxis.set_pane_color((1.0, 1.0, 1.0, 1.0))\n",
      "#ax.w_yaxis.set_pane_color((1.0, 1.0, 1.0, 1.0))\n",
      "#ax.w_zaxis.set_pane_color((1.0, 1.0, 1.0, 1.0))\n",
      "#ax.figure.set_facecolor('w')\n",
      "ax.set_axis_bgcolor('w')\n",
      "ax.set_xlim(-0.8,0.2)\n",
      "ax.set_ylim(0,1)\n",
      "ax.set_zlim(0,1)\n",
      "        \n",
      "ax.w_xaxis.set_ticklabels([' ', 0.49, 0.31, 0.19, 0.05, ' '])\n",
      "ax.w_xaxis.set_label_text('NDVI 5-quantiles')\n",
      "\n",
      "ax.w_yaxis.set_ticklabels([' ', 12.99,13.98,14.82,15.18, ' '])\n",
      "ax.w_yaxis.set_label_text('LST 5-quantiles (degrees)')\n",
      "\n",
      "\n",
      "ax.w_zaxis.set_ticklabels([' ', 3.71,8.02,19.53,52.47, ' '])\n",
      "ax.w_zaxis.set_label_text('TRMM 5-quantiles (mm)')\n",
      "\n",
      "# Face 1\n",
      "x1 = np.array([[0, 0.2, 0.2, 0, 0],\n",
      "               [0, 0, 0, 0, 0]])\n",
      "y1 = np.array([[0, 0, 0, 0, 0],\n",
      "               [0, 0, 0, 0, 0]])\n",
      "z1 = np.array([[0, 0, 0.2, 0.2, 0],\n",
      "               [0, 0, 0, 0, 0]])\n",
      "# Face 2\n",
      "x2 = np.array([[0, 0, 0, 0, 0],\n",
      "               [0, 0, 0, 0, 0]])\n",
      "y2 = np.array([[0, 0.2, 0.2, 0, 0],\n",
      "               [0, 0, 0, 0, 0]])\n",
      "z2 = np.array([[0, 0, 0.2, 0.2, 0],\n",
      "               [0, 0, 0, 0, 0]])\n",
      "# Face 3\n",
      "x3 = np.array([[0, 0.2, 0.2, 0, 0],\n",
      "               [0, 0, 0, 0, 0]])\n",
      "y3 = np.array([[0, 0, 0.2, 0.2, 0],\n",
      "               [0, 0, 0, 0, 0]])\n",
      "z3 = np.array([[0.2, 0.2, 0.2, 0.2, 0.2],\n",
      "               [0.2, 0.2, 0.2, 0.2, 0.2]])\n",
      "# Face 4\n",
      "x4 = np.array([[0, 0.2, 0.2, 0, 0],\n",
      "               [0, 0, 0, 0, 0]])\n",
      "y4 = np.array([[0.2, 0.2, 0.2, 0.2, 0.2],\n",
      "               [0.2, 0.2, 0.2, 0.2, 0.2]])\n",
      "z4 = np.array([[0, 0, 0.2, 0.2, 0],\n",
      "               [0, 0, 0, 0, 0]])\n",
      "# Face 5\n",
      "x5 = np.array([[0, 0, 0.2, 0.2, 0],\n",
      "               [0, 0, 0, 0, 0]])\n",
      "y5 = np.array([[0, 0.2, 0.2, 0, 0],\n",
      "               [0, 0, 0, 0, 0]])\n",
      "z5 = np.array([[0, 0, 0, 0, 0],\n",
      "               [0, 0, 0, 0, 0]])\n",
      "# Face 6\n",
      "x6 = np.array([[0.2, 0.2, 0.2, 0.2, 0.2],\n",
      "               [0.2, 0.2, 0.2, 0.2, 0.2]])\n",
      "y6 = np.array([[0, 0.2, 0.2, 0, 0],\n",
      "               [0, 0, 0, 0, 0]])\n",
      "z6 = np.array([[0, 0, 0.2, 0.2, 0],\n",
      "               [0, 0, 0, 0, 0]])\n",
      "\n",
      "\n",
      "#ax.plot_surface(x1,y1,z1)\n",
      "#ax.plot_surface(x2,y2,z2)\n",
      "#ax.plot_surface(x3,y3,z3)\n",
      "#ax.plot_surface(x4,y4,z4)\n",
      "#ax.plot_surface(x5,y5,z5)\n",
      "#ax.plot_surface(x6,y6,z6)\n",
      "ax.scatter([0.1],[0.1],[0.1],c=\"pink\",s=100)#jan\n",
      "ax.scatter([0.1],[0.3],[0.1],c=\"magenta\",s=100)#feb\n",
      "ax.scatter([0.1],[0.3],[0.1],c=\"mediumorchid\",s=100)#march\n",
      "ax.scatter([-0.3],[0.5],[0.5],c=\"slateblue\",s=100)#april\n",
      "ax.scatter([-0.5],[0.7],[0.7],c=\"dodgerblue\",s=100)#may\n",
      "ax.scatter([-0.7],[0.9],[0.7],c=\"cadetblue\",s=100)#june\n",
      "ax.scatter([-0.7],[0.7],[0.9],c=\"darkslategray\",s=100)#july\n",
      "ax.scatter([-0.7],[0.9],[0.7],c=\"mediumaquamarine\",s=100)#august\n",
      "ax.scatter([-0.5],[0.7],[0.7],c=\"green\",s=100)#september\n",
      "ax.scatter([-0.3],[0.5],[0.5],c=\"darksage\",s=100)#october\n",
      "ax.scatter([-0.1],[0.3],[0.3],c=\"olivedrab\",s=100)#november\n",
      "ax.scatter([0.1],[0.1],[0.3],c=\"darkkhaki\",s=100)#december\n",
      "\n",
      "fig.tight_layout()\n",
      "#fig.savefig(r'D:\\Downloads\\Mattijn@Jia\\png//cubic2.png', dpi=150)"
     ],
     "language": "python",
     "metadata": {},
     "outputs": []
    },
    {
     "cell_type": "code",
     "collapsed": false,
     "input": [],
     "language": "python",
     "metadata": {},
     "outputs": []
    },
    {
     "cell_type": "code",
     "collapsed": false,
     "input": [],
     "language": "python",
     "metadata": {},
     "outputs": []
    },
    {
     "cell_type": "code",
     "collapsed": false,
     "input": [],
     "language": "python",
     "metadata": {},
     "outputs": []
    },
    {
     "cell_type": "code",
     "collapsed": false,
     "input": [
      "import numpy as np\n",
      "from matplotlib import pyplot as plt\n",
      "from mpl_toolkits.mplot3d import Axes3D\n",
      "from mpl_toolkits.mplot3d import proj3d\n",
      "\n",
      "points = np.array([(1,1,1), (2,2,2)])\n",
      "labels = ['billy', 'bobby']\n",
      "\n",
      "fig = plt.figure()\n",
      "ax = fig.add_subplot(111, projection = '3d')\n",
      "xs, ys, zs = np.split(points, 3, axis=1)\n",
      "sc = ax.scatter(xs,ys,zs)\n",
      "\n",
      "# if this code is placed inside a function, then\n",
      "# we must use a predefined global variable so that\n",
      "# the update function has access to it. I'm not\n",
      "# sure why update_positions() doesn't get access\n",
      "# to its enclosing scope in this case.\n",
      "global labels_and_points\n",
      "labels_and_points = []\n",
      "\n",
      "for txt, x, y, z in zip(labels, xs, ys, zs):\n",
      "    x2, y2, _ = proj3d.proj_transform(x,y,z, ax.get_proj())\n",
      "    label = plt.annotate(\n",
      "        txt, xy = (x2, y2), xytext = (-20, 20),\n",
      "        textcoords = 'offset points', ha = 'right', va = 'bottom',\n",
      "        bbox = dict(boxstyle = 'round,pad=0.5', fc = 'yellow', alpha = 0.5),\n",
      "        arrowprops = dict(arrowstyle = '->', connectionstyle = 'arc3,rad=0'))\n",
      "    labels_and_points.append((label, x, y, z))\n",
      "\n",
      "\n",
      "def update_position(e):\n",
      "    for label, x, y, z in labels_and_points:\n",
      "        x2, y2, _ = proj3d.proj_transform(x, y, z, ax.get_proj())\n",
      "        label.xy = x2,y2\n",
      "        label.update_positions(fig.canvas.renderer)\n",
      "    fig.canvas.draw()\n",
      "\n",
      "fig.canvas.mpl_connect('motion_notify_event', update_position)\n",
      "\n",
      "plt.show()"
     ],
     "language": "python",
     "metadata": {},
     "outputs": []
    },
    {
     "cell_type": "code",
     "collapsed": false,
     "input": [],
     "language": "python",
     "metadata": {},
     "outputs": []
    }
   ],
   "metadata": {}
  }
 ]
}