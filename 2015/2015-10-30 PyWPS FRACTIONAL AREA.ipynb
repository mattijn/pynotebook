{
 "metadata": {
  "name": "",
  "signature": "sha256:f8a29312907df597c911a8d8b14b0c2fa643fc49124dc51c0dc47f9260f88980"
 },
 "nbformat": 3,
 "nbformat_minor": 0,
 "worksheets": [
  {
   "cells": [
    {
     "cell_type": "code",
     "collapsed": false,
     "input": [
      "from pywps.Process import WPSProcess \n",
      "import os\n",
      "import geojson\n",
      "import subprocess as sp\n",
      "import json\n",
      "import logging\n",
      "import sys\n",
      "import urllib\n",
      "from osgeo import gdal\n",
      "import numpy as np\n",
      "from datetime import datetime, timedelta\n",
      "import pandas as pd\n",
      "from cStringIO import StringIO\n",
      "from datetime import datetime, timedelta"
     ],
     "language": "python",
     "metadata": {},
     "outputs": [],
     "prompt_number": 1
    },
    {
     "cell_type": "code",
     "collapsed": false,
     "input": [
      "import matplotlib.pyplot as plt\n",
      "%matplotlib inline"
     ],
     "language": "python",
     "metadata": {},
     "outputs": [],
     "prompt_number": 2
    },
    {
     "cell_type": "code",
     "collapsed": false,
     "input": [
      "def getHistogramsFromWCS(NAME_1,NAME_2,NAME_3,extent,date,no_observations):\n",
      "    \n",
      "    # convert all required dates in ISO date format\n",
      "    date_start = datetime(int(date[0:4]),int(date[5:7]),int(date[8:10]))\n",
      "    date_list = []\n",
      "    date_list.append(date_start)\n",
      "    for i in range(1,no_observations+1):\n",
      "        #print i\n",
      "        date_list.append(date_start + (i *timedelta(days=8)))\n",
      "\n",
      "    # request data use WCS service baed on extend and clip based on sql query\n",
      "    array_NDAI = []\n",
      "    endpoint='http://192.168.1.104:8080/rasdaman/ows'\n",
      "    for j in date_list:\n",
      "        #d = 150842\n",
      "        date_in_string = '\"'+str(j.year)+'-'+str(j.month).zfill(2)+'-'+str(j.day).zfill(2)+'\"'\n",
      "        field={}\n",
      "        field['SERVICE']='WCS'\n",
      "        field['VERSION']='2.0.1'\n",
      "        field['REQUEST']='GetCoverage'\n",
      "        field['COVERAGEID']='NDAI_1km'#'trmm_3b42_coverage_1'\n",
      "        field['SUBSET']=['ansi('+date_in_string+')',#['ansi('+str(d)+')',\n",
      "                         'Lat('+str(extent[1])+','+str(extent[3])+')',\n",
      "                        'Long('+str(extent[0])+','+str(extent[2])+')']\n",
      "        field['FORMAT']='image/tiff'\n",
      "        url_values = urllib.urlencode(field,doseq=True)\n",
      "        full_url = endpoint + '?' + url_values\n",
      "        print full_url\n",
      "        tmpfilename='test'+str(j.toordinal())+'.tif'\n",
      "        f,h = urllib.urlretrieve(full_url,tmpfilename)\n",
      "        print h\n",
      "\n",
      "        #ds=gdal.Open(tmpfilename)\n",
      "        clippedfilename='test'+str(j.toordinal())+'clip.tif' \n",
      "\n",
      "        path_base = \"D:\\Data\\ChinaShapefile\\CHN_adm_gpkg\"\n",
      "        CHN_adm_gpkg = os.path.join(path_base, \"CHN_adm.gpkg\")\n",
      "\n",
      "        command = [\"gdalwarp\", \"-cutline\", CHN_adm_gpkg, \"-csql\", \"SELECT NAME_3 FROM CHN_adm3 WHERE NAME_1 = '\"+NAME_1+\"' and NAME_2 = '\"+NAME_2+\"' and NAME_3 = '\"+NAME_3+\"'\",\n",
      "                   \"-crop_to_cutline\", \"-of\", \"GTiff\", \"-dstnodata\",\"-9999\",tmpfilename, clippedfilename, \"-overwrite\"] # \n",
      "\n",
      "        print (sp.list2cmdline(command))\n",
      "\n",
      "        norm = sp.Popen(sp.list2cmdline(command), shell=True)  \n",
      "        norm.communicate()   \n",
      "\n",
      "        ds=gdal.Open(clippedfilename)\n",
      "        ds_clip = ds.ReadAsArray() \n",
      "\n",
      "        array_NDAI.append(ds_clip)\n",
      "\n",
      "\n",
      "    array_NDAI = np.asarray(array_NDAI)\n",
      "    #array_NDAI_ma = np.ma.masked_equal(array_NDAI, -9999)  \n",
      "    y_list=[]\n",
      "    bincenters_list=[]\n",
      "    for k in range(0,len(date_list)):\n",
      "        ds_hist_data = array_NDAI[k][array_NDAI[k] != -9999]\n",
      "        sorted_data = np.sort(ds_hist_data)\n",
      "        bincenters = np.concatenate([sorted_data, sorted_data[[-1]]])[~np.isnan(np.concatenate([sorted_data, sorted_data[[-1]]]))]\n",
      "        y = np.arange(sorted_data.size+1)/ (np.arange(sorted_data.size+1).max().astype(float) / 100)\n",
      "        y = y[~np.isnan(np.concatenate([sorted_data, sorted_data[[-1]]]))]        \n",
      "        #y = np.arange(sorted_data.size+1)/ (np.arange(sorted_data.size+1).max().astype(float) / 100)\n",
      "        #bincenters = np.concatenate([sorted_data, sorted_data[[-1]]])\n",
      "        y_list.append(y)\n",
      "        bincenters_list.append(bincenters)\n",
      "\n",
      "    date_list_string = []\n",
      "    for m in date_list:\n",
      "        print m\n",
      "        date_list_string.append(str(m.year)+'-'+str(m.month).zfill(2)+'-'+str(m.day).zfill(2))\n",
      "\n",
      "    return date_list_string, bincenters_list, y_list\n",
      "\n"
     ],
     "language": "python",
     "metadata": {},
     "outputs": [],
     "prompt_number": 82
    },
    {
     "cell_type": "code",
     "collapsed": false,
     "input": [
      "NAME_1 = \"Anhui\"\n",
      "NAME_2 = \"Bengbu\"\n",
      "NAME_3 = \"Guzhen\"\n",
      "extent = [117.04640962322863,33.00404358318741,117.59765626636589,33.50222015793983] # left, bottom, right, top\n",
      "date = \"2014-01-01\"\n",
      "no_observations = 2"
     ],
     "language": "python",
     "metadata": {},
     "outputs": [],
     "prompt_number": 83
    },
    {
     "cell_type": "code",
     "collapsed": false,
     "input": [
      "date_list_string, bincenters_list, y_list = getHistogramsFromWCS(NAME_1,NAME_2,NAME_3,extent,date,no_observations)"
     ],
     "language": "python",
     "metadata": {},
     "outputs": [
      {
       "output_type": "stream",
       "stream": "stdout",
       "text": [
        "http://192.168.1.104:8080/rasdaman/ows?SUBSET=ansi%28%222014-01-01%22%29&SUBSET=Lat%2833.0040435832%2C33.5022201579%29&SUBSET=Long%28117.046409623%2C117.597656266%29&SERVICE=WCS&FORMAT=image%2Ftiff&REQUEST=GetCoverage&VERSION=2.0.1&COVERAGEID=NDAI_1km\n",
        "Server: Apache-Coyote/1.1\r\n",
        "Access-Control-Allow-Origin: *\r\n",
        "Content-Type: image/tiff\r\n",
        "Date: Sat, 31 Oct 2015 00:13:42 GMT\r\n",
        "Connection: Close\r\n",
        "Proxy-Connection: Close\r\n"
       ]
      },
      {
       "output_type": "stream",
       "stream": "stdout",
       "text": [
        "\n",
        "gdalwarp -cutline D:\\Data\\ChinaShapefile\\CHN_adm_gpkg\\CHN_adm.gpkg -csql \"SELECT NAME_3 FROM CHN_adm3 WHERE NAME_1 = 'Anhui' and NAME_2 = 'Bengbu' and NAME_3 = 'Guzhen'\" -crop_to_cutline -of GTiff -dstnodata -9999 test735234.tif test735234clip.tif -overwrite\n",
        "http://192.168.1.104:8080/rasdaman/ows?SUBSET=ansi%28%222014-01-09%22%29&SUBSET=Lat%2833.0040435832%2C33.5022201579%29&SUBSET=Long%28117.046409623%2C117.597656266%29&SERVICE=WCS&FORMAT=image%2Ftiff&REQUEST=GetCoverage&VERSION=2.0.1&COVERAGEID=NDAI_1km"
       ]
      },
      {
       "output_type": "stream",
       "stream": "stdout",
       "text": [
        "\n",
        "Server: Apache-Coyote/1.1\r\n",
        "Access-Control-Allow-Origin: *\r\n",
        "Content-Type: image/tiff\r\n",
        "Date: Sat, 31 Oct 2015 00:13:42 GMT\r\n",
        "Connection: Close\r\n",
        "Proxy-Connection: Close\r\n"
       ]
      },
      {
       "output_type": "stream",
       "stream": "stdout",
       "text": [
        "\n",
        "gdalwarp -cutline D:\\Data\\ChinaShapefile\\CHN_adm_gpkg\\CHN_adm.gpkg -csql \"SELECT NAME_3 FROM CHN_adm3 WHERE NAME_1 = 'Anhui' and NAME_2 = 'Bengbu' and NAME_3 = 'Guzhen'\" -crop_to_cutline -of GTiff -dstnodata -9999 test735242.tif test735242clip.tif -overwrite\n",
        "http://192.168.1.104:8080/rasdaman/ows?SUBSET=ansi%28%222014-01-17%22%29&SUBSET=Lat%2833.0040435832%2C33.5022201579%29&SUBSET=Long%28117.046409623%2C117.597656266%29&SERVICE=WCS&FORMAT=image%2Ftiff&REQUEST=GetCoverage&VERSION=2.0.1&COVERAGEID=NDAI_1km"
       ]
      },
      {
       "output_type": "stream",
       "stream": "stdout",
       "text": [
        "\n",
        "Server: Apache-Coyote/1.1\r\n",
        "Access-Control-Allow-Origin: *\r\n",
        "Content-Type: image/tiff\r\n",
        "Date: Sat, 31 Oct 2015 00:13:42 GMT\r\n",
        "Connection: Close\r\n",
        "Proxy-Connection: Close\r\n"
       ]
      },
      {
       "output_type": "stream",
       "stream": "stdout",
       "text": [
        "\n",
        "gdalwarp -cutline D:\\Data\\ChinaShapefile\\CHN_adm_gpkg\\CHN_adm.gpkg -csql \"SELECT NAME_3 FROM CHN_adm3 WHERE NAME_1 = 'Anhui' and NAME_2 = 'Bengbu' and NAME_3 = 'Guzhen'\" -crop_to_cutline -of GTiff -dstnodata -9999 test735250.tif test735250clip.tif -overwrite\n",
        "2014-01-01 00:00:00"
       ]
      },
      {
       "output_type": "stream",
       "stream": "stdout",
       "text": [
        "\n",
        "2014-01-09 00:00:00\n",
        "2014-01-17 00:00:00\n"
       ]
      }
     ],
     "prompt_number": 84
    },
    {
     "cell_type": "code",
     "collapsed": false,
     "input": [
      "print y_list[1].shape, bincenters_list[1].shape\n",
      "plt.plot(bincenters_list[1],y_list[1])"
     ],
     "language": "python",
     "metadata": {},
     "outputs": [
      {
       "output_type": "stream",
       "stream": "stdout",
       "text": [
        "(1441,) (1441,)\n"
       ]
      },
      {
       "metadata": {},
       "output_type": "pyout",
       "prompt_number": 64,
       "text": [
        "[<matplotlib.lines.Line2D at 0x10794b90>]"
       ]
      },
      {
       "metadata": {},
       "output_type": "display_data",
       "png": "[encoded data removed]",
       "text": [
        "<matplotlib.figure.Figure at 0xeeb07d0>"
       ]
      }
     ],
     "prompt_number": 64
    },
    {
     "cell_type": "code",
     "collapsed": false,
     "input": [
      "plt.plot(y_list[1])"
     ],
     "language": "python",
     "metadata": {},
     "outputs": [
      {
       "metadata": {},
       "output_type": "pyout",
       "prompt_number": 70,
       "text": [
        "[<matplotlib.lines.Line2D at 0x10a8ab50>]"
       ]
      },
      {
       "metadata": {},
       "output_type": "display_data",
       "png": "[encoded data removed]",
       "text": [
        "<matplotlib.figure.Figure at 0xea489b0>"
       ]
      }
     ],
     "prompt_number": 70
    },
    {
     "cell_type": "code",
     "collapsed": false,
     "input": [
      "test1 = y_list[0]\n",
      "sorted_data = np.sort(test1)\n",
      "x = plt.step(np.concatenate([sorted_data, sorted_data[[-1]]]), np.arange(sorted_data.size+1)/ (np.arange(sorted_data.size+1).max().astype(float) / 100))\n",
      "plt.xlim([-1,1])\n",
      "plt.show()"
     ],
     "language": "python",
     "metadata": {},
     "outputs": [
      {
       "ename": "ValueError",
       "evalue": "'axis' entry is out of bounds",
       "output_type": "pyerr",
       "traceback": [
        "\u001b[1;31m---------------------------------------------------------------------------\u001b[0m\n\u001b[1;31mValueError\u001b[0m                                Traceback (most recent call last)",
        "\u001b[1;32m<ipython-input-43-63d38e95160e>\u001b[0m in \u001b[0;36m<module>\u001b[1;34m()\u001b[0m\n\u001b[0;32m      1\u001b[0m \u001b[0mtest1\u001b[0m \u001b[1;33m=\u001b[0m \u001b[0my_list\u001b[0m\u001b[1;33m[\u001b[0m\u001b[1;36m0\u001b[0m\u001b[1;33m]\u001b[0m\u001b[1;33m\u001b[0m\u001b[0m\n\u001b[0;32m      2\u001b[0m \u001b[0msorted_data\u001b[0m \u001b[1;33m=\u001b[0m \u001b[0mnp\u001b[0m\u001b[1;33m.\u001b[0m\u001b[0msort\u001b[0m\u001b[1;33m(\u001b[0m\u001b[0mtest1\u001b[0m\u001b[1;33m)\u001b[0m\u001b[1;33m\u001b[0m\u001b[0m\n\u001b[1;32m----> 3\u001b[1;33m \u001b[0mx\u001b[0m \u001b[1;33m=\u001b[0m \u001b[0mplt\u001b[0m\u001b[1;33m.\u001b[0m\u001b[0mstep\u001b[0m\u001b[1;33m(\u001b[0m\u001b[0mnp\u001b[0m\u001b[1;33m.\u001b[0m\u001b[0mconcatenate\u001b[0m\u001b[1;33m(\u001b[0m\u001b[1;33m[\u001b[0m\u001b[0msorted_data\u001b[0m\u001b[1;33m,\u001b[0m \u001b[0msorted_data\u001b[0m\u001b[1;33m[\u001b[0m\u001b[1;33m[\u001b[0m\u001b[1;33m-\u001b[0m\u001b[1;36m1\u001b[0m\u001b[1;33m]\u001b[0m\u001b[1;33m]\u001b[0m\u001b[1;33m]\u001b[0m\u001b[1;33m)\u001b[0m\u001b[1;33m,\u001b[0m \u001b[0mnp\u001b[0m\u001b[1;33m.\u001b[0m\u001b[0marange\u001b[0m\u001b[1;33m(\u001b[0m\u001b[0msorted_data\u001b[0m\u001b[1;33m.\u001b[0m\u001b[0msize\u001b[0m\u001b[1;33m+\u001b[0m\u001b[1;36m1\u001b[0m\u001b[1;33m)\u001b[0m\u001b[1;33m/\u001b[0m \u001b[1;33m(\u001b[0m\u001b[0mnp\u001b[0m\u001b[1;33m.\u001b[0m\u001b[0marange\u001b[0m\u001b[1;33m(\u001b[0m\u001b[0msorted_data\u001b[0m\u001b[1;33m.\u001b[0m\u001b[0msize\u001b[0m\u001b[1;33m+\u001b[0m\u001b[1;36m1\u001b[0m\u001b[1;33m)\u001b[0m\u001b[1;33m.\u001b[0m\u001b[0mmax\u001b[0m\u001b[1;33m(\u001b[0m\u001b[1;33m+\u001b[0m\u001b[1;36m1\u001b[0m\u001b[1;33m)\u001b[0m\u001b[1;33m.\u001b[0m\u001b[0mastype\u001b[0m\u001b[1;33m(\u001b[0m\u001b[0mfloat\u001b[0m\u001b[1;33m)\u001b[0m \u001b[1;33m/\u001b[0m \u001b[1;36m100\u001b[0m\u001b[1;33m)\u001b[0m\u001b[1;33m)\u001b[0m\u001b[1;33m\u001b[0m\u001b[0m\n\u001b[0m\u001b[0;32m      4\u001b[0m \u001b[0mplt\u001b[0m\u001b[1;33m.\u001b[0m\u001b[0mxlim\u001b[0m\u001b[1;33m(\u001b[0m\u001b[1;33m[\u001b[0m\u001b[1;33m-\u001b[0m\u001b[1;36m1\u001b[0m\u001b[1;33m,\u001b[0m\u001b[1;36m1\u001b[0m\u001b[1;33m]\u001b[0m\u001b[1;33m)\u001b[0m\u001b[1;33m\u001b[0m\u001b[0m\n\u001b[0;32m      5\u001b[0m \u001b[0mplt\u001b[0m\u001b[1;33m.\u001b[0m\u001b[0mshow\u001b[0m\u001b[1;33m(\u001b[0m\u001b[1;33m)\u001b[0m\u001b[1;33m\u001b[0m\u001b[0m\n",
        "\u001b[1;32mC:\\Python27x86\\lib\\site-packages\\numpy\\core\\_methods.pyc\u001b[0m in \u001b[0;36m_amax\u001b[1;34m(a, axis, out, keepdims)\u001b[0m\n\u001b[0;32m     15\u001b[0m \u001b[1;32mdef\u001b[0m \u001b[0m_amax\u001b[0m\u001b[1;33m(\u001b[0m\u001b[0ma\u001b[0m\u001b[1;33m,\u001b[0m \u001b[0maxis\u001b[0m\u001b[1;33m=\u001b[0m\u001b[0mNone\u001b[0m\u001b[1;33m,\u001b[0m \u001b[0mout\u001b[0m\u001b[1;33m=\u001b[0m\u001b[0mNone\u001b[0m\u001b[1;33m,\u001b[0m \u001b[0mkeepdims\u001b[0m\u001b[1;33m=\u001b[0m\u001b[0mFalse\u001b[0m\u001b[1;33m)\u001b[0m\u001b[1;33m:\u001b[0m\u001b[1;33m\u001b[0m\u001b[0m\n\u001b[0;32m     16\u001b[0m     return um.maximum.reduce(a, axis=axis,\n\u001b[1;32m---> 17\u001b[1;33m                             out=out, keepdims=keepdims)\n\u001b[0m\u001b[0;32m     18\u001b[0m \u001b[1;33m\u001b[0m\u001b[0m\n\u001b[0;32m     19\u001b[0m \u001b[1;32mdef\u001b[0m \u001b[0m_amin\u001b[0m\u001b[1;33m(\u001b[0m\u001b[0ma\u001b[0m\u001b[1;33m,\u001b[0m \u001b[0maxis\u001b[0m\u001b[1;33m=\u001b[0m\u001b[0mNone\u001b[0m\u001b[1;33m,\u001b[0m \u001b[0mout\u001b[0m\u001b[1;33m=\u001b[0m\u001b[0mNone\u001b[0m\u001b[1;33m,\u001b[0m \u001b[0mkeepdims\u001b[0m\u001b[1;33m=\u001b[0m\u001b[0mFalse\u001b[0m\u001b[1;33m)\u001b[0m\u001b[1;33m:\u001b[0m\u001b[1;33m\u001b[0m\u001b[0m\n",
        "\u001b[1;31mValueError\u001b[0m: 'axis' entry is out of bounds"
       ]
      }
     ],
     "prompt_number": 43
    },
    {
     "cell_type": "code",
     "collapsed": false,
     "input": [
      "plt.plot(np.concatenate([sorted_data, sorted_data[[-1]]]), np.arange(sorted_data.size+1)/ (np.arange(sorted_data.size+1).max().astype(float) / 100))\n",
      "plt.xlim([-1,1])\n",
      "plt.show()"
     ],
     "language": "python",
     "metadata": {},
     "outputs": [
      {
       "metadata": {},
       "output_type": "display_data",
       "png": "[encoded data removed]",
       "text": [
        "<matplotlib.figure.Figure at 0xe639a70>"
       ]
      }
     ],
     "prompt_number": 41
    },
    {
     "cell_type": "code",
     "collapsed": false,
     "input": [
      "np.concatenate([sorted_data, sorted_data[[-1]]])"
     ],
     "language": "python",
     "metadata": {},
     "outputs": [
      {
       "metadata": {},
       "output_type": "pyout",
       "prompt_number": 66,
       "text": [
        "array([-0.555, -0.54 , -0.52 , ...,    nan,    nan,    nan])"
       ]
      }
     ],
     "prompt_number": 66
    },
    {
     "cell_type": "code",
     "collapsed": false,
     "input": [
      "np.concatenate([sorted_data, sorted_data[[-1]]])"
     ],
     "language": "python",
     "metadata": {},
     "outputs": [
      {
       "metadata": {},
       "output_type": "pyout",
       "prompt_number": 71,
       "text": [
        "array([-0.555, -0.54 , -0.52 , ...,    nan,    nan,    nan])"
       ]
      }
     ],
     "prompt_number": 71
    },
    {
     "cell_type": "code",
     "collapsed": false,
     "input": [
      "bincenters = np.concatenate([sorted_data, sorted_data[[-1]]])[~np.isnan(np.concatenate([sorted_data, sorted_data[[-1]]]))]"
     ],
     "language": "python",
     "metadata": {},
     "outputs": [],
     "prompt_number": 79
    },
    {
     "cell_type": "code",
     "collapsed": false,
     "input": [
      "bincenters = np.concatenate([sorted_data, sorted_data[[-1]]])[~np.isnan(np.concatenate([sorted_data, sorted_data[[-1]]]))]\n",
      "y = np.arange(sorted_data.size+1)/ (np.arange(sorted_data.size+1).max().astype(float) / 100)\n",
      "y = y[~np.isnan(np.concatenate([sorted_data, sorted_data[[-1]]]))]"
     ],
     "language": "python",
     "metadata": {},
     "outputs": [],
     "prompt_number": 80
    },
    {
     "cell_type": "code",
     "collapsed": false,
     "input": [
      "plt.plot(bincenters,y)"
     ],
     "language": "python",
     "metadata": {},
     "outputs": [
      {
       "metadata": {},
       "output_type": "pyout",
       "prompt_number": 81,
       "text": [
        "[<matplotlib.lines.Line2D at 0x10bde310>]"
       ]
      },
      {
       "metadata": {},
       "output_type": "display_data",
       "png": "[encoded data removed]",
       "text": [
        "<matplotlib.figure.Figure at 0x10a96d30>"
       ]
      }
     ],
     "prompt_number": 81
    },
    {
     "cell_type": "code",
     "collapsed": false,
     "input": [
      "np.arange(sorted_data.size+1)/ (np.arange(sorted_data.size+1).max().astype(float) * 100)"
     ],
     "language": "python",
     "metadata": {},
     "outputs": [
      {
       "metadata": {},
       "output_type": "pyout",
       "prompt_number": 32,
       "text": [
        "array([  0.00000000e+00,   6.94444444e-02,   1.38888889e-01, ...,\n",
        "         9.98611111e+01,   9.99305556e+01,   1.00000000e+02])"
       ]
      }
     ],
     "prompt_number": 32
    },
    {
     "cell_type": "code",
     "collapsed": false,
     "input": [],
     "language": "python",
     "metadata": {},
     "outputs": []
    },
    {
     "cell_type": "code",
     "collapsed": false,
     "input": [
      "for l in range(0,len(date_list_string)):\n",
      "    print l\n",
      "    plt.plot(bincenters_list[l],np.cumsum(y_list[l]))\n",
      "plt.show()"
     ],
     "language": "python",
     "metadata": {},
     "outputs": [
      {
       "output_type": "stream",
       "stream": "stdout",
       "text": [
        "0\n",
        "1\n",
        "2\n"
       ]
      },
      {
       "metadata": {},
       "output_type": "display_data",
       "png": "[encoded data removed]",
       "text": [
        "<matplotlib.figure.Figure at 0x10a96630>"
       ]
      }
     ],
     "prompt_number": 85
    },
    {
     "cell_type": "code",
     "collapsed": false,
     "input": [
      "class Process(WPSProcess):\n",
      "\n",
      "\n",
      "    def __init__(self):\n",
      "\n",
      "        ##\n",
      "        # Process initialization\n",
      "        WPSProcess.__init__(self,\n",
      "            identifier = \"WPS_HISTOGRAM\",\n",
      "            title=\"Histogram computation based on County \",\n",
      "            abstract=\"\"\"Module to compute Histograms of numerous NDAI observations\"\"\",\n",
      "            version = \"1.0\",\n",
      "            storeSupported = True,\n",
      "            statusSupported = True)\n",
      "\n",
      "        ##\n",
      "        # Adding process inputs\n",
      "        self.NAME_1 = self.addLiteralInput(identifier=\"Province\",\n",
      "                    title=\"Chinese Province\",\n",
      "                    type=type(''))\n",
      "\n",
      "        self.NAME_2 = self.addLiteralInput(identifier=\"Prefecture\",\n",
      "                    title=\"Chinese Prefecture\",\n",
      "                    type=type(''))\n",
      "\n",
      "        self.NAME_3 = self.addLiteralInput(identifier=\"County\",\n",
      "                    title = \"Chinese County\",\n",
      "                    type=type(''))\n",
      "\n",
      "        self.bboxCounty = self.addLiteralInput(identifier=\"ExtentCounty\",\n",
      "                    title = \"The Extent of the web-based selected County\",\n",
      "                    type=type(''))   \n",
      "        \n",
      "        self.date = self.addLiteralInput(identifier=\"date\",\n",
      "                    title=\"The selected date of interest\",\n",
      "                    type=type(''))\n",
      "\n",
      "        self.no_observations = self.addLiteralInput(identifier=\"num_observations\",\n",
      "                    title=\"The number of succeeding observations to consider (output is num_observations+1)\",\n",
      "                    type=type(''))        \n",
      "\n",
      "        ##\n",
      "        # Adding process outputs\n",
      "\n",
      "        self.label_ts1 = self.addLiteralOutput(identifier  = \"label_ts1\", \n",
      "                                               title       = \"Label of the first observations\")        \n",
      "        self.hist_ts1 = self.addComplexOutput(identifier  = \"hist_ts1\", \n",
      "                                              title       = \"Histogram of the first observations\",\n",
      "                                              formats     = [{'mimeType':'text/xml'}]) \n",
      "        \n",
      "        self.label_ts2 = self.addLiteralOutput(identifier  = \"label_ts2\", \n",
      "                                               title       = \"Label of the first observations\")\n",
      "        self.hist_ts2 = self.addComplexOutput(identifier  = \"hist_ts2\", \n",
      "                                              title       = \"Histogram of the first observations\",\n",
      "                                              formats     = [{'mimeType':'text/xml'}]) \n",
      "        \n",
      "        self.label_ts3 = self.addLiteralOutput(identifier  = \"label_ts3\", \n",
      "                                               title       = \"Label of the first observations\")\n",
      "        self.hist_ts3 = self.addComplexOutput(identifier  = \"hist_ts3\", \n",
      "                                              title       = \"Histogram of the first observations\",\n",
      "                                              formats     = [{'mimeType':'text/xml'}]) \n",
      "        \n",
      "        self.label_ts4 = self.addLiteralOutput(identifier  = \"label_ts4\", \n",
      "                                               title       = \"Label of the first observations\")\n",
      "        self.hist_ts4 = self.addComplexOutput(identifier  = \"hist_ts4\", \n",
      "                                              title       = \"Histogram of the first observations\",\n",
      "                                              formats     = [{'mimeType':'text/xml'}]) \n",
      "        \n",
      "        self.label_ts5 = self.addLiteralOutput(identifier  = \"label_ts5\", \n",
      "                                               title       = \"Label of the first observations\")\n",
      "        self.hist_ts5 = self.addComplexOutput(identifier  = \"hist_ts5\", \n",
      "                                              title       = \"Histogram of the first observations\",\n",
      "                                              formats     = [{'mimeType':'text/xml'}])         \n",
      "\n",
      "\n",
      "    ##\n",
      "    # Execution part of the process\n",
      "    def execute(self):\n",
      "        # Load the data\n",
      "        NAME_1 = str(self.NAME_1.getValue())\n",
      "        NAME_2 = str(self.NAME_2.getValue())\n",
      "        NAME_3 = str(self.NAME_3.getValue())                \n",
      "        \n",
      "        extent = list(self.bboxCounty.getValue())\n",
      "        date = str(self.date.getValue())        \n",
      "        no_observations = int(self.no_observations.getValue())\n",
      "        \n",
      "        # Do the Work\n",
      "        date_list_string, bincenters_list, y_list = getHistogramsFromWCS(NAME_1,NAME_2,NAME_3,extent,date,no_observations)\n",
      "\n",
      "        # Save to out        \n",
      "        try:\n",
      "            label_ts1 = date_list_string[0]\n",
      "            hist_ts1 = StringIO()\n",
      "            json.dump(pd.Series(y_list[0],bincenters_list[0]).reset_index().as_matrix().tolist(), hist_ts1)\n",
      "            self.label_ts1.setValue( label_ts1 )\n",
      "            self.hist_ts1.setValue( hist_ts1 )\n",
      "            logging.info('ts1')\n",
      "        except:\n",
      "            pass\n",
      "        \n",
      "        try:\n",
      "            label_ts2 = date_list_string[1]\n",
      "            hist_ts2 = StringIO()\n",
      "            json.dump(pd.Series(y_list[1],bincenters_list[1]).reset_index().as_matrix().tolist(), hist_ts2)\n",
      "            self.label_ts2.setValue( label_ts2 )        \n",
      "            self.hist_ts2.setValue( hist_ts2 )\n",
      "            logging.info('ts2')            \n",
      "        except:\n",
      "            pass\n",
      "        \n",
      "        try:\n",
      "            label_ts3 = date_list_string[2]\n",
      "            hist_ts3 = StringIO()\n",
      "            json.dump(pd.Series(y_list[2],bincenters_list[2]).reset_index().as_matrix().tolist(), hist_ts3)\n",
      "            self.label_ts3.setValue( label_ts3 )        \n",
      "            self.hist_ts3.setValue( hist_ts3 )\n",
      "            logging.info('ts3')            \n",
      "        except:\n",
      "            pass        \n",
      "\n",
      "        try:\n",
      "            label_ts4 = date_list_string[3]\n",
      "            hist_ts4 = StringIO()\n",
      "            json.dump(pd.Series(y_list[3],bincenters_list[3]).reset_index().as_matrix().tolist(), hist_ts4)\n",
      "            self.label_ts4.setValue( label_ts4 )        \n",
      "            self.hist_ts4.setValue( hist_ts4 )\n",
      "            logging.info('ts4')            \n",
      "        except:\n",
      "            pass        \n",
      "\n",
      "        try:\n",
      "            label_ts5 = date_list_string[4]\n",
      "            hist_ts5 = StringIO()\n",
      "            json.dump(pd.Series(y_list[4],bincenters_list[4]).reset_index().as_matrix().tolist(), hist_ts5)\n",
      "            self.label_ts5.setValue( label_ts5 )        \n",
      "            self.hist_ts5.setValue( hist_ts5 )\n",
      "            logging.info('ts5')            \n",
      "        except:\n",
      "            pass        \n",
      "        return"
     ],
     "language": "python",
     "metadata": {},
     "outputs": [],
     "prompt_number": 4
    },
    {
     "cell_type": "code",
     "collapsed": false,
     "input": [
      "np.cumsum(y_list[0])"
     ],
     "language": "python",
     "metadata": {},
     "outputs": [
      {
       "metadata": {},
       "output_type": "pyout",
       "prompt_number": 11,
       "text": [
        "array([  0.00000000e+00,   0.00000000e+00,   0.00000000e+00,\n",
        "         0.00000000e+00,   0.00000000e+00,   0.00000000e+00,\n",
        "         0.00000000e+00,   0.00000000e+00,   0.00000000e+00,\n",
        "         0.00000000e+00,   0.00000000e+00,   0.00000000e+00,\n",
        "         0.00000000e+00,   0.00000000e+00,   0.00000000e+00,\n",
        "         0.00000000e+00,   0.00000000e+00,   0.00000000e+00,\n",
        "         0.00000000e+00,   0.00000000e+00,   0.00000000e+00,\n",
        "         0.00000000e+00,   3.47947112e-02,   6.95894224e-02,\n",
        "         1.04384134e-01,   1.39178845e-01,   2.78357690e-01,\n",
        "         3.82741823e-01,   4.52331246e-01,   4.87125957e-01,\n",
        "         5.91510090e-01,   7.65483646e-01,   9.04662491e-01,\n",
        "         1.21781489e+00,   1.73973556e+00,   1.98329854e+00,\n",
        "         2.71398747e+00,   3.54906054e+00,   5.53235908e+00,\n",
        "         7.41127349e+00,   9.39457203e+00,   1.16562283e+01,\n",
        "         1.46485734e+01,   1.79888657e+01,   2.12595685e+01,\n",
        "         2.50173974e+01,   2.84272791e+01,   3.04453723e+01,\n",
        "         3.30201809e+01,   3.54210160e+01,   3.83089770e+01,\n",
        "         4.13013222e+01,   4.33542102e+01,   4.49547669e+01,\n",
        "         4.63813500e+01,   4.74947808e+01,   4.82254697e+01,\n",
        "         4.86082116e+01,   4.91301322e+01,   4.95824635e+01,\n",
        "         4.96868476e+01,   4.97564370e+01,   4.98608212e+01,\n",
        "         4.98956159e+01,   5.00000000e+01,   5.00000000e+01,\n",
        "         5.00000000e+01,   5.00000000e+01,   5.00000000e+01,\n",
        "         5.00000000e+01,   5.00000000e+01,   5.00000000e+01,\n",
        "         5.00000000e+01,   5.00000000e+01,   5.00000000e+01,\n",
        "         5.00000000e+01,   5.00000000e+01,   5.00000000e+01,\n",
        "         5.00000000e+01,   5.00000000e+01,   5.00000000e+01,\n",
        "         5.00000000e+01,   5.00000000e+01,   5.00000000e+01,\n",
        "         5.00000000e+01,   5.00000000e+01,   5.00000000e+01,\n",
        "         5.00000000e+01,   5.00000000e+01,   5.00000000e+01,\n",
        "         5.00000000e+01,   5.00000000e+01,   5.00000000e+01,\n",
        "         5.00000000e+01,   5.00000000e+01,   5.00000000e+01,\n",
        "         5.00000000e+01,   5.00000000e+01,   5.00000000e+01,\n",
        "         5.00000000e+01])"
       ]
      }
     ],
     "prompt_number": 11
    },
    {
     "cell_type": "code",
     "collapsed": false,
     "input": [
      "        if len(date_list_string) == 2:\n",
      "            label_ts1 = date_list_string[0]\n",
      "            hist_ts1 = StringIO()\n",
      "            json.dump(pd.Series(y_list[0],bincenters_list[0]).reset_index().as_matrix().tolist(), hist_ts1)\n",
      "            self.label_ts1.setValue( label_ts1 )\n",
      "            self.hist_ts1.setValue( hist_ts1 )\n",
      "            logging.info('ts1')\n",
      "\n",
      "            label_ts2 = date_list_string[1]\n",
      "            hist_ts2 = StringIO()\n",
      "            json.dump(pd.Series(y_list[1],bincenters_list[1]).reset_index().as_matrix().tolist(), hist_ts2)\n",
      "            self.label_ts2.setValue( label_ts2 )        \n",
      "            self.hist_ts2.setValue( hist_ts2 )\n",
      "            logging.info('ts2')\n",
      "\n",
      "        if len(date_list_string) == 3:\n",
      "            label_ts1 = date_list_string[0]\n",
      "            hist_ts1 = StringIO()\n",
      "            json.dump(pd.Series(y_list[0],bincenters_list[0]).reset_index().as_matrix().tolist(), hist_ts1)\n",
      "            self.label_ts1.setValue( label_ts1 )\n",
      "            self.hist_ts1.setValue( hist_ts1 )\n",
      "            logging.info('ts1')\n",
      "\n",
      "            label_ts2 = date_list_string[1]\n",
      "            hist_ts2 = StringIO()\n",
      "            json.dump(pd.Series(y_list[1],bincenters_list[1]).reset_index().as_matrix().tolist(), hist_ts2)\n",
      "            self.label_ts2.setValue( label_ts2 )        \n",
      "            self.hist_ts2.setValue( hist_ts2 )\n",
      "            logging.info('ts2')    \n",
      "\n",
      "            label_ts3 = date_list_string[2]\n",
      "            hist_ts3 = StringIO()\n",
      "            json.dump(pd.Series(y_list[2],bincenters_list[2]).reset_index().as_matrix().tolist(), hist_ts3)\n",
      "            self.label_ts3.setValue( label_ts3 )        \n",
      "            self.hist_ts3.setValue( hist_ts3 )\n",
      "            logging.info('ts3')                \n",
      "\n",
      "        if len(date_list_string) == 4:\n",
      "            label_ts1 = date_list_string[0]\n",
      "            hist_ts1 = StringIO()\n",
      "            json.dump(pd.Series(y_list[0],bincenters_list[0]).reset_index().as_matrix().tolist(), hist_ts1)\n",
      "            self.label_ts1.setValue( label_ts1 )\n",
      "            self.hist_ts1.setValue( hist_ts1 )\n",
      "            logging.info('ts1')\n",
      "\n",
      "            label_ts2 = date_list_string[1]\n",
      "            hist_ts2 = StringIO()\n",
      "            json.dump(pd.Series(y_list[1],bincenters_list[1]).reset_index().as_matrix().tolist(), hist_ts2)\n",
      "            self.label_ts2.setValue( label_ts2 )        \n",
      "            self.hist_ts2.setValue( hist_ts2 )\n",
      "            logging.info('ts2')    \n",
      "\n",
      "            label_ts3 = date_list_string[2]\n",
      "            hist_ts3 = StringIO()\n",
      "            json.dump(pd.Series(y_list[2],bincenters_list[2]).reset_index().as_matrix().tolist(), hist_ts3)\n",
      "            self.label_ts3.setValue( label_ts3 )        \n",
      "            self.hist_ts3.setValue( hist_ts3 )\n",
      "            logging.info('ts3')                \n",
      "\n",
      "            label_ts4 = date_list_string[3]\n",
      "            hist_ts4 = StringIO()\n",
      "            json.dump(pd.Series(y_list[3],bincenters_list[3]).reset_index().as_matrix().tolist(), hist_ts4)\n",
      "            self.label_ts4.setValue( label_ts4 )        \n",
      "            self.hist_ts4.setValue( hist_ts4 )\n",
      "            logging.info('ts4')\n",
      "\n",
      "        if len(date_list_string) == 5:\n",
      "            label_ts1 = date_list_string[0]\n",
      "            hist_ts1 = StringIO()\n",
      "            json.dump(pd.Series(y_list[0],bincenters_list[0]).reset_index().as_matrix().tolist(), hist_ts1)\n",
      "            self.label_ts1.setValue( label_ts1 )\n",
      "            self.hist_ts1.setValue( hist_ts1 )\n",
      "            logging.info('ts1')\n",
      "\n",
      "            label_ts2 = date_list_string[1]\n",
      "            hist_ts2 = StringIO()\n",
      "            json.dump(pd.Series(y_list[1],bincenters_list[1]).reset_index().as_matrix().tolist(), hist_ts2)\n",
      "            self.label_ts2.setValue( label_ts2 )        \n",
      "            self.hist_ts2.setValue( hist_ts2 )\n",
      "            logging.info('ts2')    \n",
      "\n",
      "            label_ts3 = date_list_string[2]\n",
      "            hist_ts3 = StringIO()\n",
      "            json.dump(pd.Series(y_list[2],bincenters_list[2]).reset_index().as_matrix().tolist(), hist_ts3)\n",
      "            self.label_ts3.setValue( label_ts3 )        \n",
      "            self.hist_ts3.setValue( hist_ts3 )\n",
      "            logging.info('ts3')                \n",
      "\n",
      "            label_ts4 = date_list_string[3]\n",
      "            hist_ts4 = StringIO()\n",
      "            json.dump(pd.Series(y_list[3],bincenters_list[3]).reset_index().as_matrix().tolist(), hist_ts4)\n",
      "            self.label_ts4.setValue( label_ts4 )        \n",
      "            self.hist_ts4.setValue( hist_ts4 )\n",
      "            logging.info('ts4')    \n",
      "\n",
      "            label_ts5 = date_list_string[4]\n",
      "            hist_ts5 = StringIO()\n",
      "            json.dump(pd.Series(y_list[4],bincenters_list[4]).reset_index().as_matrix().tolist(), hist_ts5)\n",
      "            self.label_ts5.setValue( label_ts5 )        \n",
      "            self.hist_ts5.setValue( hist_ts5 )\n",
      "            logging.info('ts5')                "
     ],
     "language": "python",
     "metadata": {},
     "outputs": [
      {
       "metadata": {},
       "output_type": "pyout",
       "prompt_number": 40,
       "text": [
        "3"
       ]
      }
     ],
     "prompt_number": 40
    },
    {
     "cell_type": "code",
     "collapsed": false,
     "input": [
      "\n",
      "        # Save to out        \n",
      "        try:\n",
      "            label_ts1 = date_list_string[0]\n",
      "            hist_ts1 = StringIO()\n",
      "            out1 = json.dump(pd.Series(y_list[0],bincenters_list[0]).reset_index().as_matrix().tolist(), hist_ts1)\n",
      "            self.label_ts1.setValue( label_ts1 )\n",
      "            self.hist_ts1.setValue( hist_ts1 )\n",
      "            logging.info('ts1')\n",
      "        except :\n",
      "            print 'ts1 didnt work'\n",
      "            pass\n",
      "\n",
      "\n",
      "        try:\n",
      "            label_ts2 = date_list_string[1]\n",
      "            hist_ts2 = StringIO()\n",
      "            out2 = json.dump(pd.Series(y_list[1],bincenters_list[1]).reset_index().as_matrix().tolist(), hist_ts2)\n",
      "            self.label_ts2.setValue( label_ts2 )        \n",
      "            self.hist_ts2.setValue( hist_ts2 )\n",
      "            logging.info('ts2')            \n",
      "        except:\n",
      "            print 'ts2 didnt work'    \n",
      "            pass\n",
      "\n",
      "        try:\n",
      "            label_ts3 = date_list_string[2]\n",
      "            hist_ts3 = StringIO()\n",
      "            json.dump(pd.Series(y_list[2],bincenters_list[2]).reset_index().as_matrix().tolist(), hist_ts3)\n",
      "            self.label_ts3.setValue( label_ts3 )        \n",
      "            self.hist_ts3.setValue( hist_ts3 )\n",
      "            logging.info('ts3')            \n",
      "        except:\n",
      "            print 'ts3 didnt work'    \n",
      "            pass        \n",
      "\n",
      "        try:\n",
      "            label_ts4 = date_list_string[3]\n",
      "            hist_ts4 = StringIO()\n",
      "            json.dump(pd.Series(y_list[3],bincenters_list[3]).reset_index().as_matrix().tolist(), hist_ts4)\n",
      "            self.label_ts4.setValue( label_ts4 )        \n",
      "            self.hist_ts4.setValue( hist_ts4 )\n",
      "            logging.info('ts4')            \n",
      "        except :\n",
      "            print 'ts4 didnt work'\n",
      "            pass     \n",
      "\n",
      "        try:\n",
      "            label_ts5 = date_list_string[4]\n",
      "            hist_ts5 = StringIO()\n",
      "            json.dump(pd.Series(y_list[4],bincenters_list[4]).reset_index().as_matrix().tolist(), hist_ts5)\n",
      "            self.label_ts5.setValue( label_ts5 )        \n",
      "            self.hist_ts5.setValue( hist_ts5 )\n",
      "            logging.info('ts5')            \n",
      "        except:\n",
      "            print 'ts5 didnt work'    \n",
      "            pass "
     ],
     "language": "python",
     "metadata": {},
     "outputs": [
      {
       "output_type": "stream",
       "stream": "stdout",
       "text": [
        "ts1 didnt work\n",
        "ts4 didnt work\n",
        "ts5 didnt work\n"
       ]
      }
     ],
     "prompt_number": 55
    },
    {
     "cell_type": "code",
     "collapsed": false,
     "input": [
      "try:\n",
      "    from cStringIO import StringIO\n",
      "except:\n",
      "    from StringIO import StringIO\n",
      "label_ts2"
     ],
     "language": "python",
     "metadata": {},
     "outputs": [
      {
       "metadata": {},
       "output_type": "pyout",
       "prompt_number": 54,
       "text": [
        "'2014-01-09'"
       ]
      }
     ],
     "prompt_number": 54
    },
    {
     "cell_type": "code",
     "collapsed": false,
     "input": [
      "[[0.0,0.0,]]"
     ],
     "language": "python",
     "metadata": {},
     "outputs": []
    },
    {
     "cell_type": "code",
     "collapsed": false,
     "input": [
      "hist_ts2.getvalue()"
     ],
     "language": "python",
     "metadata": {},
     "outputs": [
      {
       "metadata": {},
       "output_type": "pyout",
       "prompt_number": 57,
       "text": [
        "'[[-0.99, 0.0], [-0.97, 0.0], [-0.95, 0.0], [-0.9299999999999999, 0.0], [-0.91, 0.0], [-0.89, 0.0], [-0.87, 0.0], [-0.85, 0.0], [-0.8300000000000001, 0.0], [-0.81, 0.0], [-0.79, 0.0], [-0.77, 0.0], [-0.75, 0.0], [-0.73, 0.0], [-0.71, 0.0], [-0.69, 0.0], [-0.6699999999999999, 0.0], [-0.6499999999999999, 0.0], [-0.63, 0.0], [-0.61, 0.0], [-0.5900000000000001, 0.0], [-0.5700000000000001, 0.0], [-0.55, 0.0], [-0.53, 0.0], [-0.51, 0.0], [-0.49, 0.034794711203897], [-0.47, 0.034794711203897], [-0.44999999999999996, 0.034794711203897], [-0.43, 0.034794711203897], [-0.41000000000000003, 0.0], [-0.39, 0.069589422407794], [-0.37, 0.034794711203897], [-0.35, 0.034794711203897], [-0.32999999999999996, 0.173973556019485], [-0.30999999999999994, 0.10438413361169101], [-0.29, 0.173973556019485], [-0.27, 0.139178844815588], [-0.25, 0.521920668058455], [-0.22999999999999998, 0.730688935281837], [-0.20999999999999996, 0.730688935281837], [-0.18999999999999995, 1.565762004175365], [-0.16999999999999998, 1.252609603340292], [-0.15000000000000002, 2.018093249826026], [-0.13, 2.713987473903966], [-0.10999999999999999, 3.5838552540013913], [-0.08999999999999997, 2.922755741127348], [-0.06999999999999995, 3.2011134307585243], [-0.04999999999999999, 2.679192762700069], [-0.030000000000000027, 2.992345163535142], [-0.010000000000000009, 3.375086986778009], [0.010000000000000009, 3.166318719554627], [0.030000000000000027, 2.748782185107863], [0.050000000000000044, 2.853166318719554], [0.07000000000000006, 2.679192762700069], [0.09000000000000008, 1.948503827418232], [0.1100000000000001, 1.565762004175365], [0.13000000000000012, 1.704940848990953], [0.15000000000000002, 0.939457202505219], [0.16999999999999993, 1.113430758524704], [0.18999999999999995, 0.556715379262352], [0.20999999999999996, 0.556715379262352], [0.22999999999999998, 0.313152400835073], [0.25, 0.313152400835073], [0.27, 0.173973556019485], [0.29000000000000004, 0.069589422407794], [0.31000000000000005, 0.10438413361169101], [0.33000000000000007, 0.034794711203897], [0.3500000000000001, 0.0], [0.3700000000000001, 0.0], [0.3900000000000001, 0.0], [0.41000000000000003, 0.0], [0.42999999999999994, 0.0], [0.44999999999999996, 0.0], [0.47, 0.0], [0.49, 0.0], [0.51, 0.0], [0.53, 0.0], [0.55, 0.0], [0.5700000000000001, 0.0], [0.5900000000000001, 0.0], [0.6100000000000001, 0.0], [0.6300000000000001, 0.0], [0.6500000000000001, 0.0], [0.67, 0.0], [0.69, 0.0], [0.71, 0.0], [0.73, 0.0], [0.75, 0.0], [0.77, 0.0], [0.79, 0.0], [0.81, 0.0], [0.8300000000000001, 0.0], [0.8500000000000001, 0.0], [0.8700000000000001, 0.0], [0.8900000000000001, 0.0], [0.91, 0.0], [0.9299999999999999, 0.0], [0.95, 0.0], [0.97, 0.0], [0.99, 0.0]]'"
       ]
      }
     ],
     "prompt_number": 57
    },
    {
     "cell_type": "code",
     "collapsed": false,
     "input": [
      "pd.Series(y_list[1],bincenters_list[1]).reset_index().as_matrix().tolist()"
     ],
     "language": "python",
     "metadata": {},
     "outputs": [
      {
       "metadata": {},
       "output_type": "pyout",
       "prompt_number": 51,
       "text": [
        "[[-0.99, 0.0],\n",
        " [-0.97, 0.0],\n",
        " [-0.95, 0.0],\n",
        " [-0.9299999999999999, 0.0],\n",
        " [-0.91, 0.0],\n",
        " [-0.89, 0.0],\n",
        " [-0.87, 0.0],\n",
        " [-0.85, 0.0],\n",
        " [-0.8300000000000001, 0.0],\n",
        " [-0.81, 0.0],\n",
        " [-0.79, 0.0],\n",
        " [-0.77, 0.0],\n",
        " [-0.75, 0.0],\n",
        " [-0.73, 0.0],\n",
        " [-0.71, 0.0],\n",
        " [-0.69, 0.0],\n",
        " [-0.6699999999999999, 0.0],\n",
        " [-0.6499999999999999, 0.0],\n",
        " [-0.63, 0.0],\n",
        " [-0.61, 0.0],\n",
        " [-0.5900000000000001, 0.0],\n",
        " [-0.5700000000000001, 0.0],\n",
        " [-0.55, 0.0],\n",
        " [-0.53, 0.0],\n",
        " [-0.51, 0.0],\n",
        " [-0.49, 0.034794711203897],\n",
        " [-0.47, 0.034794711203897],\n",
        " [-0.44999999999999996, 0.034794711203897],\n",
        " [-0.43, 0.034794711203897],\n",
        " [-0.41000000000000003, 0.0],\n",
        " [-0.39, 0.069589422407794],\n",
        " [-0.37, 0.034794711203897],\n",
        " [-0.35, 0.034794711203897],\n",
        " [-0.32999999999999996, 0.173973556019485],\n",
        " [-0.30999999999999994, 0.10438413361169101],\n",
        " [-0.29, 0.173973556019485],\n",
        " [-0.27, 0.139178844815588],\n",
        " [-0.25, 0.521920668058455],\n",
        " [-0.22999999999999998, 0.730688935281837],\n",
        " [-0.20999999999999996, 0.730688935281837],\n",
        " [-0.18999999999999995, 1.565762004175365],\n",
        " [-0.16999999999999998, 1.252609603340292],\n",
        " [-0.15000000000000002, 2.018093249826026],\n",
        " [-0.13, 2.713987473903966],\n",
        " [-0.10999999999999999, 3.5838552540013913],\n",
        " [-0.08999999999999997, 2.922755741127348],\n",
        " [-0.06999999999999995, 3.2011134307585243],\n",
        " [-0.04999999999999999, 2.679192762700069],\n",
        " [-0.030000000000000027, 2.992345163535142],\n",
        " [-0.010000000000000009, 3.375086986778009],\n",
        " [0.010000000000000009, 3.166318719554627],\n",
        " [0.030000000000000027, 2.748782185107863],\n",
        " [0.050000000000000044, 2.853166318719554],\n",
        " [0.07000000000000006, 2.679192762700069],\n",
        " [0.09000000000000008, 1.948503827418232],\n",
        " [0.1100000000000001, 1.565762004175365],\n",
        " [0.13000000000000012, 1.704940848990953],\n",
        " [0.15000000000000002, 0.939457202505219],\n",
        " [0.16999999999999993, 1.113430758524704],\n",
        " [0.18999999999999995, 0.556715379262352],\n",
        " [0.20999999999999996, 0.556715379262352],\n",
        " [0.22999999999999998, 0.313152400835073],\n",
        " [0.25, 0.313152400835073],\n",
        " [0.27, 0.173973556019485],\n",
        " [0.29000000000000004, 0.069589422407794],\n",
        " [0.31000000000000005, 0.10438413361169101],\n",
        " [0.33000000000000007, 0.034794711203897],\n",
        " [0.3500000000000001, 0.0],\n",
        " [0.3700000000000001, 0.0],\n",
        " [0.3900000000000001, 0.0],\n",
        " [0.41000000000000003, 0.0],\n",
        " [0.42999999999999994, 0.0],\n",
        " [0.44999999999999996, 0.0],\n",
        " [0.47, 0.0],\n",
        " [0.49, 0.0],\n",
        " [0.51, 0.0],\n",
        " [0.53, 0.0],\n",
        " [0.55, 0.0],\n",
        " [0.5700000000000001, 0.0],\n",
        " [0.5900000000000001, 0.0],\n",
        " [0.6100000000000001, 0.0],\n",
        " [0.6300000000000001, 0.0],\n",
        " [0.6500000000000001, 0.0],\n",
        " [0.67, 0.0],\n",
        " [0.69, 0.0],\n",
        " [0.71, 0.0],\n",
        " [0.73, 0.0],\n",
        " [0.75, 0.0],\n",
        " [0.77, 0.0],\n",
        " [0.79, 0.0],\n",
        " [0.81, 0.0],\n",
        " [0.8300000000000001, 0.0],\n",
        " [0.8500000000000001, 0.0],\n",
        " [0.8700000000000001, 0.0],\n",
        " [0.8900000000000001, 0.0],\n",
        " [0.91, 0.0],\n",
        " [0.9299999999999999, 0.0],\n",
        " [0.95, 0.0],\n",
        " [0.97, 0.0],\n",
        " [0.99, 0.0]]"
       ]
      }
     ],
     "prompt_number": 51
    },
    {
     "cell_type": "code",
     "collapsed": false,
     "input": [
      "try:\n",
      "    print date_list_string[3]\n",
      "except IndexError:\n",
      "    print 'x'"
     ],
     "language": "python",
     "metadata": {},
     "outputs": [
      {
       "output_type": "stream",
       "stream": "stdout",
       "text": [
        "x\n"
       ]
      }
     ],
     "prompt_number": 23
    },
    {
     "cell_type": "code",
     "collapsed": false,
     "input": [
      "\n",
      "json.dumps(pd.Series(y_list[3],bincenters_list[3]).reset_index().as_matrix().tolist())"
     ],
     "language": "python",
     "metadata": {},
     "outputs": [
      {
       "ename": "IndexError",
       "evalue": "list index out of range",
       "output_type": "pyerr",
       "traceback": [
        "\u001b[1;31m---------------------------------------------------------------------------\u001b[0m\n\u001b[1;31mIndexError\u001b[0m                                Traceback (most recent call last)",
        "\u001b[1;32m<ipython-input-39-fdea836d17ab>\u001b[0m in \u001b[0;36m<module>\u001b[1;34m()\u001b[0m\n\u001b[0;32m      1\u001b[0m \u001b[1;33m\u001b[0m\u001b[0m\n\u001b[1;32m----> 2\u001b[1;33m \u001b[0mjson\u001b[0m\u001b[1;33m.\u001b[0m\u001b[0mdumps\u001b[0m\u001b[1;33m(\u001b[0m\u001b[0mpd\u001b[0m\u001b[1;33m.\u001b[0m\u001b[0mSeries\u001b[0m\u001b[1;33m(\u001b[0m\u001b[0my_list\u001b[0m\u001b[1;33m[\u001b[0m\u001b[1;36m3\u001b[0m\u001b[1;33m]\u001b[0m\u001b[1;33m,\u001b[0m\u001b[0mbincenters_list\u001b[0m\u001b[1;33m[\u001b[0m\u001b[1;36m3\u001b[0m\u001b[1;33m]\u001b[0m\u001b[1;33m)\u001b[0m\u001b[1;33m.\u001b[0m\u001b[0mreset_index\u001b[0m\u001b[1;33m(\u001b[0m\u001b[1;33m)\u001b[0m\u001b[1;33m.\u001b[0m\u001b[0mas_matrix\u001b[0m\u001b[1;33m(\u001b[0m\u001b[1;33m)\u001b[0m\u001b[1;33m.\u001b[0m\u001b[0mtolist\u001b[0m\u001b[1;33m(\u001b[0m\u001b[1;33m)\u001b[0m\u001b[1;33m)\u001b[0m\u001b[1;33m\u001b[0m\u001b[0m\n\u001b[0m",
        "\u001b[1;31mIndexError\u001b[0m: list index out of range"
       ]
      }
     ],
     "prompt_number": 39
    },
    {
     "cell_type": "code",
     "collapsed": false,
     "input": [
      "date_list_string[3] in locals() or date_list_string[3] in globals()"
     ],
     "language": "python",
     "metadata": {},
     "outputs": [
      {
       "ename": "IndexError",
       "evalue": "list index out of range",
       "output_type": "pyerr",
       "traceback": [
        "\u001b[1;31m---------------------------------------------------------------------------\u001b[0m\n\u001b[1;31mIndexError\u001b[0m                                Traceback (most recent call last)",
        "\u001b[1;32m<ipython-input-26-bbbfed2cf4d6>\u001b[0m in \u001b[0;36m<module>\u001b[1;34m()\u001b[0m\n\u001b[1;32m----> 1\u001b[1;33m \u001b[0mdate_list_string\u001b[0m\u001b[1;33m[\u001b[0m\u001b[1;36m3\u001b[0m\u001b[1;33m]\u001b[0m \u001b[1;32min\u001b[0m \u001b[0mlocals\u001b[0m\u001b[1;33m(\u001b[0m\u001b[1;33m)\u001b[0m \u001b[1;32mor\u001b[0m \u001b[0mdate_list_string\u001b[0m\u001b[1;33m[\u001b[0m\u001b[1;36m3\u001b[0m\u001b[1;33m]\u001b[0m \u001b[1;32min\u001b[0m \u001b[0mglobals\u001b[0m\u001b[1;33m(\u001b[0m\u001b[1;33m)\u001b[0m\u001b[1;33m\u001b[0m\u001b[0m\n\u001b[0m",
        "\u001b[1;31mIndexError\u001b[0m: list index out of range"
       ]
      }
     ],
     "prompt_number": 26
    }
   ],
   "metadata": {}
  }
 ]
}