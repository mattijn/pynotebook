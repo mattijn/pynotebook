{
 "metadata": {
  "name": "",
  "signature": "sha256:7e488288eddd2cd8cdb767d450ae0ba747081685743fd1c571a174a310850e99"
 },
 "nbformat": 3,
 "nbformat_minor": 0,
 "worksheets": [
  {
   "cells": [
    {
     "cell_type": "code",
     "collapsed": false,
     "input": [
      "import os\n",
      "import geojson\n",
      "import subprocess as sp\n",
      "import json"
     ],
     "language": "python",
     "metadata": {},
     "outputs": [],
     "prompt_number": 1
    },
    {
     "cell_type": "code",
     "collapsed": false,
     "input": [
      "def ExtractGeoJSON(NAME_1in, NAME_2in, NAME_3in):\n",
      "    \"\"\"\n",
      "    Function to query OGC GeoPackage of China to extract county boundary as JSON\n",
      "    input\n",
      "    NAME_1in = Province/Shang (e.g: 'Anhui')\n",
      "    NAME_2in = Regon/Shi (e.g: 'Bengbu')\n",
      "    NAME_3in = County/Qian (e.g: 'Guzhen')\n",
      "    \n",
      "    output\n",
      "    Boundary of County in GeoJSON format    \n",
      "    \"\"\"\n",
      "    path_base = \"D:\\Data\\ChinaShapefile\\CHN_adm_gpkg\"\n",
      "    CHN_adm_gpkg = os.path.join(path_base, \"CHN_adm.gpkg\")\n",
      "    CHN_adm_geojson = os.path.join(path_base, \"CHN_adm_selection3.geojson\")\n",
      "    if os.path.exists(CHN_adm_geojson):\n",
      "        os.remove(CHN_adm_geojson)\n",
      "        print ('removed') \n",
      "    print (CHN_adm_geojson)\n",
      "    \n",
      "    command = [\"ogr2ogr\", \"-f\", \"GeoJSON\", CHN_adm_geojson, \"-sql\",\n",
      "               \"SELECT NAME_1, NAME_2, NAME_3 FROM CHN_adm3 WHERE NAME_1 = \"+NAME_1in+\" and NAME_2 = \"+NAME_2in+\" and NAME_3 = \"+NAME_3in+\"\",\n",
      "               CHN_adm_gpkg, \"-s_srs\", \"EPSG:4326\",\"-t_srs\",\"EPSG:900913\", \"-skipfailures\", \"-nlt\", \"LINESTRING\"]\n",
      "\n",
      "    print (sp.list2cmdline(command))\n",
      "    \n",
      "    norm = sp.Popen(sp.list2cmdline(command), shell=True)  \n",
      "    norm.communicate()     \n",
      "\n",
      "    with open(CHN_adm_geojson) as f:\n",
      "        geojson2ol = json.load(f)    \n",
      "    return geojson2ol"
     ],
     "language": "python",
     "metadata": {},
     "outputs": [],
     "prompt_number": 2
    },
    {
     "cell_type": "code",
     "collapsed": false,
     "input": [
      "NAME_1in = \"'Anhui'\"\n",
      "NAME_2in = \"'Bengbu'\"\n",
      "NAME_3in = \"'Guzhen'\"\n",
      "geoout = ExtractGeoJSON(NAME_1in, NAME_2in, NAME_3in)"
     ],
     "language": "python",
     "metadata": {},
     "outputs": [
      {
       "output_type": "stream",
       "stream": "stdout",
       "text": [
        "removed\n",
        "D:\\Data\\ChinaShapefile\\CHN_adm_gpkg\\CHN_adm_selection3.geojson\n",
        "ogr2ogr -f GeoJSON D:\\Data\\ChinaShapefile\\CHN_adm_gpkg\\CHN_adm_selection3.geojson -sql \"SELECT NAME_1, NAME_2, NAME_3 FROM CHN_adm3 WHERE NAME_1 = 'Anhui' and NAME_2 = 'Bengbu' and NAME_3 = 'Guzhen'\" D:\\Data\\ChinaShapefile\\CHN_adm_gpkg\\CHN_adm.gpkg -s_srs EPSG:4326 -t_srs EPSG:900913 -skipfailures -nlt LINESTRING\n"
       ]
      }
     ],
     "prompt_number": 3
    },
    {
     "cell_type": "code",
     "collapsed": false,
     "input": [],
     "language": "python",
     "metadata": {},
     "outputs": [],
     "prompt_number": 3
    },
    {
     "cell_type": "markdown",
     "metadata": {},
     "source": [
      "Get Coverage using extent and clip based on boundary"
     ]
    },
    {
     "cell_type": "code",
     "collapsed": false,
     "input": [
      "import os\n",
      "import geojson\n",
      "import subprocess as sp\n",
      "import json\n",
      "\n",
      "import os\n",
      "import sys\n",
      "import urllib\n",
      "from osgeo import gdal\n",
      "import numpy\n",
      "import numpy as np\n",
      "import numpy.ma as ma\n",
      "from lxml import etree\n",
      "from datetime import datetime, timedelta\n",
      "import matplotlib\n",
      "import matplotlib.colors as mcolors\n",
      "import matplotlib.pyplot as plt"
     ],
     "language": "python",
     "metadata": {},
     "outputs": [],
     "prompt_number": 4
    },
    {
     "cell_type": "code",
     "collapsed": false,
     "input": [
      "%matplotlib inline"
     ],
     "language": "python",
     "metadata": {},
     "outputs": [],
     "prompt_number": 16
    },
    {
     "cell_type": "code",
     "collapsed": false,
     "input": [
      "spl_arr=[75,25.5,103.75,39] # left, bottom, right, top\n",
      "extent = [117.04640962322863,33.00404358318741,117.59765626636589,33.50222015793983]\n",
      "d = 150842\n",
      "endpoint='http://192.168.1.104:8080/rasdaman/ows'\n",
      "field={}\n",
      "field['SERVICE']='WCS'\n",
      "field['VERSION']='2.0.1'\n",
      "field['REQUEST']='GetCoverage'\n",
      "field['COVERAGEID']='NDAI_1km'#'trmm_3b42_coverage_1'\n",
      "field['SUBSET']=['ansi('+str(d)+')',\n",
      "                 'Lat('+str(extent[1])+','+str(extent[3])+')',\n",
      "                'Long('+str(extent[0])+','+str(extent[2])+')']\n",
      "field['FORMAT']='image/tiff'\n",
      "url_values = urllib.urlencode(field,doseq=True)\n",
      "full_url = endpoint + '?' + url_values\n",
      "print full_url\n",
      "tmpfilename='test'+str(d)+'.tif'\n",
      "f,h = urllib.urlretrieve(full_url,tmpfilename)\n",
      "print h\n",
      "\n",
      "ds=gdal.Open(tmpfilename)"
     ],
     "language": "python",
     "metadata": {},
     "outputs": [
      {
       "output_type": "stream",
       "stream": "stdout",
       "text": [
        "http://192.168.1.104:8080/rasdaman/ows?SUBSET=ansi%28150842%29&SUBSET=Lat%2833.0040435832%2C33.5022201579%29&SUBSET=Long%28117.046409623%2C117.597656266%29&SERVICE=WCS&FORMAT=image%2Ftiff&REQUEST=GetCoverage&VERSION=2.0.1&COVERAGEID=NDAI_1km\n",
        "Server: Apache-Coyote/1.1\r\n",
        "Access-Control-Allow-Origin: *\r\n",
        "Content-Type: image/tiff\r\n",
        "Date: Fri, 30 Oct 2015 00:19:07 GMT\r\n",
        "Connection: Close\r\n",
        "Proxy-Connection: Close\r\n"
       ]
      },
      {
       "output_type": "stream",
       "stream": "stdout",
       "text": [
        "\n"
       ]
      }
     ],
     "prompt_number": 5
    },
    {
     "cell_type": "code",
     "collapsed": false,
     "input": [
      "ds=gdal.Open(tmpfilename)\n",
      "tmpfilename"
     ],
     "language": "python",
     "metadata": {},
     "outputs": [
      {
       "metadata": {},
       "output_type": "pyout",
       "prompt_number": 6,
       "text": [
        "'test150842.tif'"
       ]
      }
     ],
     "prompt_number": 6
    },
    {
     "cell_type": "code",
     "collapsed": false,
     "input": [
      "#polygon = r'D:\\GitHub\\pynotebook\\ipynotebooks\\Python2.7//polygon.geojson'\n",
      "#output_tif = r'D:\\GitHub\\pynotebook\\ipynotebooks\\Python2.7//output.tif'"
     ],
     "language": "python",
     "metadata": {},
     "outputs": [],
     "prompt_number": 183
    },
    {
     "cell_type": "code",
     "collapsed": false,
     "input": [
      "#command = [\"gdalwarp\", \"-dstnodata\", \"-9999\", \"-co\", \"COMPRESS=DEFLATE\", \"-of\", \"GTiff\", \"-r\", \"near\", \n",
      "#           \"-crop_to_cutline\", \"-cutline\", polygon, tmpfilename, output_tif]\n",
      "#print (sp.list2cmdline(command))"
     ],
     "language": "python",
     "metadata": {},
     "outputs": [],
     "prompt_number": 11
    },
    {
     "cell_type": "code",
     "collapsed": false,
     "input": [
      "#norm = sp.Popen(sp.list2cmdline(command), shell=True)  \n",
      "#norm.communicate() "
     ],
     "language": "python",
     "metadata": {},
     "outputs": []
    },
    {
     "cell_type": "code",
     "collapsed": false,
     "input": [
      "clippedfilename='test'+str(d)+'clip.tif'\n",
      "clippedfilename"
     ],
     "language": "python",
     "metadata": {},
     "outputs": [
      {
       "metadata": {},
       "output_type": "pyout",
       "prompt_number": 7,
       "text": [
        "'test150842clip.tif'"
       ]
      }
     ],
     "prompt_number": 7
    },
    {
     "cell_type": "code",
     "collapsed": false,
     "input": [
      "path_base = \"D:\\Data\\ChinaShapefile\\CHN_adm_gpkg\"\n",
      "CHN_adm_gpkg = os.path.join(path_base, \"CHN_adm.gpkg\")\n",
      "CHN_adm_gpkg"
     ],
     "language": "python",
     "metadata": {},
     "outputs": [
      {
       "metadata": {},
       "output_type": "pyout",
       "prompt_number": 9,
       "text": [
        "'D:\\\\Data\\\\ChinaShapefile\\\\CHN_adm_gpkg\\\\CHN_adm.gpkg'"
       ]
      }
     ],
     "prompt_number": 9
    },
    {
     "cell_type": "code",
     "collapsed": false,
     "input": [
      "NAME_1in = \"'Anhui'\"\n",
      "NAME_2in = \"'Bengbu'\"\n",
      "NAME_3in = \"'Guzhen'\""
     ],
     "language": "python",
     "metadata": {},
     "outputs": [],
     "prompt_number": 17
    },
    {
     "cell_type": "code",
     "collapsed": false,
     "input": [
      "command = [\"gdalwarp\", \"-cutline\", CHN_adm_gpkg, \"-csql\", \"SELECT NAME_3 FROM CHN_adm3 WHERE NAME_1 = \"+NAME_1in+\" and NAME_2 = \"+NAME_2in+\" and NAME_3 = \"+NAME_3in+\"\",\n",
      "           \"-crop_to_cutline\", \"-of\", \"GTiff\", \"-dstnodata\",\"-9999\",tmpfilename, clippedfilename, \"-overwrite\"] # \n",
      "\n",
      "print (sp.list2cmdline(command))\n",
      "\n",
      "norm = sp.Popen(sp.list2cmdline(command), shell=True)  \n",
      "norm.communicate() "
     ],
     "language": "python",
     "metadata": {},
     "outputs": [
      {
       "output_type": "stream",
       "stream": "stdout",
       "text": [
        "gdalwarp -cutline D:\\Data\\ChinaShapefile\\CHN_adm_gpkg\\CHN_adm.gpkg -csql \"SELECT NAME_3 FROM CHN_adm3 WHERE NAME_1 = 'Anhui' and NAME_2 = 'Bengbu' and NAME_3 = 'Guzhen'\" -crop_to_cutline -of GTiff -dstnodata -9999 test150842.tif test150842clip.tif -overwrite\n"
       ]
      },
      {
       "metadata": {},
       "output_type": "pyout",
       "prompt_number": 10,
       "text": [
        "(None, None)"
       ]
      }
     ],
     "prompt_number": 10
    },
    {
     "cell_type": "code",
     "collapsed": false,
     "input": [
      "ds=gdal.Open(clippedfilename)\n",
      "ds_clip = ds.ReadAsArray()\n",
      "ds_clip"
     ],
     "language": "python",
     "metadata": {},
     "outputs": [
      {
       "metadata": {},
       "output_type": "pyout",
       "prompt_number": 12,
       "text": [
        "array([[-9999., -9999., -9999., ..., -9999., -9999., -9999.],\n",
        "       [-9999., -9999., -9999., ..., -9999., -9999., -9999.],\n",
        "       [-9999., -9999., -9999., ..., -9999., -9999., -9999.],\n",
        "       ..., \n",
        "       [-9999., -9999., -9999., ..., -9999., -9999., -9999.],\n",
        "       [-9999., -9999., -9999., ..., -9999., -9999., -9999.],\n",
        "       [-9999., -9999., -9999., ..., -9999., -9999., -9999.]])"
       ]
      }
     ],
     "prompt_number": 12
    },
    {
     "cell_type": "code",
     "collapsed": false,
     "input": [
      "ds_clip_ma = np.ma.masked_equal(ds_clip, -9999)\n",
      "ds_clip_ma"
     ],
     "language": "python",
     "metadata": {},
     "outputs": [
      {
       "metadata": {},
       "output_type": "pyout",
       "prompt_number": 14,
       "text": [
        "masked_array(data =\n",
        " [[-- -- -- ..., -- -- --]\n",
        " [-- -- -- ..., -- -- --]\n",
        " [-- -- -- ..., -- -- --]\n",
        " ..., \n",
        " [-- -- -- ..., -- -- --]\n",
        " [-- -- -- ..., -- -- --]\n",
        " [-- -- -- ..., -- -- --]],\n",
        "             mask =\n",
        " [[ True  True  True ...,  True  True  True]\n",
        " [ True  True  True ...,  True  True  True]\n",
        " [ True  True  True ...,  True  True  True]\n",
        " ..., \n",
        " [ True  True  True ...,  True  True  True]\n",
        " [ True  True  True ...,  True  True  True]\n",
        " [ True  True  True ...,  True  True  True]],\n",
        "       fill_value = -9999.0)"
       ]
      }
     ],
     "prompt_number": 14
    },
    {
     "cell_type": "code",
     "collapsed": false,
     "input": [
      "##write the result VCI to disk\n",
      "# get parameters\n",
      "geotransform = ds.GetGeoTransform()\n",
      "spatialreference = ds.GetProjection()\n",
      "ncol = ds.RasterXSize\n",
      "nrow = ds.RasterYSize\n",
      "nband = 1\n",
      "\n",
      "trans = ds.GetGeoTransform()\n",
      "extent = (trans[0], trans[0] + ds.RasterXSize*trans[1],\n",
      "  trans[3] + ds.RasterYSize*trans[5], trans[3])\n",
      "\n",
      "# Create figure\n",
      "fig = plt.imshow(ds_clip_ma, extent=extent, interpolation='nearest')#vmin=-0.4, vmax=0.4\n",
      "plt.colorbar(fig)\n",
      "plt.axis('off')\n",
      "#plt.colorbar()\n",
      "fig.axes.get_xaxis().set_visible(False)\n",
      "fig.axes.get_yaxis().set_visible(False)\n",
      "plt.show()"
     ],
     "language": "python",
     "metadata": {},
     "outputs": [
      {
       "metadata": {},
       "output_type": "display_data",
       "png": "[encoded data removed]",
       "text": [
        "<matplotlib.figure.Figure at 0xc152850>"
       ]
      }
     ],
     "prompt_number": 17
    },
    {
     "cell_type": "code",
     "collapsed": false,
     "input": [
      "ds_hist_data = ds_clip[ds_clip != -9999]\n",
      "y,binEdges=np.histogram(ds_hist_data,bins=100, range=(-1,1), normed=True)\n",
      "bincenters = 0.5*(binEdges[1:]+binEdges[:-1])\n",
      "plt.plot(bincenters,y,'-')\n",
      "plt.show()"
     ],
     "language": "python",
     "metadata": {},
     "outputs": [
      {
       "metadata": {},
       "output_type": "display_data",
       "png": "[encoded data removed]",
       "text": [
        "<matplotlib.figure.Figure at 0x34c1030>"
       ]
      }
     ],
     "prompt_number": 18
    },
    {
     "cell_type": "code",
     "collapsed": false,
     "input": [],
     "language": "python",
     "metadata": {},
     "outputs": []
    },
    {
     "cell_type": "code",
     "collapsed": false,
     "input": [
      "class Process(WPSProcess):\n",
      "\n",
      "\n",
      "    def __init__(self):\n",
      "\n",
      "        ##\n",
      "        # Process initialization\n",
      "        WPSProcess.__init__(self,\n",
      "            identifier = \"WPS_HISTOGRAM\",\n",
      "            title=\"Histogram computation based on County \",\n",
      "            abstract=\"\"\"Module to compute Histograms of numerous NDAI observations\"\"\",\n",
      "            version = \"1.0\",\n",
      "            storeSupported = True,\n",
      "            statusSupported = True)\n",
      "\n",
      "        ##\n",
      "        # Adding process inputs\n",
      "        self.NAME_1 = self.addLiteralInput(identifier=\"Province\",\n",
      "                    title=\"Chinese Province\",\n",
      "                    type=type(''))\n",
      "\n",
      "        self.NAME_2 = self.addLiteralInput(identifier=\"Prefecture\",\n",
      "                    title=\"Chinese Prefecture\",\n",
      "                    type=type(''))\n",
      "\n",
      "        self.NAME_3 = self.addLiteralInput(identifier=\"County\",\n",
      "                    title = \"Chinese County\",\n",
      "                    type=type(''))\n",
      "\n",
      "        self.bboxCounty = self.addLiteralInput(identifier=\"ExtentCounty\",\n",
      "                    title = \"The Extent of the web-based selected County\",\n",
      "                    type=type(''))   \n",
      "        \n",
      "        self.date = self.addLiteralInput(identifier=\"date\",\n",
      "                    title=\"The selected date of interest\",\n",
      "                    type=type(''))\n",
      "\n",
      "        self.no_observations = self.addLiteralInput(identifier=\"num_observations\",\n",
      "                    title=\"The number of succeeding observations to consider (output is num_observations+1)\",\n",
      "                    type=type(''))        \n",
      "\n",
      "        ##\n",
      "        # Adding process outputs\n",
      "\n",
      "        self.hist_ts1 = self.addComplexOutput(identifier  = \"hist_ts1\", \n",
      "                                              title       = \"Histogram of the first observations\",\n",
      "                                              formats     = [{'mimeType':'text/xml'}]) \n",
      "        \n",
      "        self.hist_ts2 = self.addComplexOutput(identifier  = \"hist_ts2\", \n",
      "                                              title       = \"Histogram of the first observations\",\n",
      "                                              formats     = [{'mimeType':'text/xml'}]) \n",
      "        \n",
      "        self.hist_ts3 = self.addComplexOutput(identifier  = \"hist_ts3\", \n",
      "                                              title       = \"Histogram of the first observations\",\n",
      "                                              formats     = [{'mimeType':'text/xml'}]) \n",
      "        \n",
      "        self.hist_ts4 = self.addComplexOutput(identifier  = \"hist_ts4\", \n",
      "                                              title       = \"Histogram of the first observations\",\n",
      "                                              formats     = [{'mimeType':'text/xml'}]) \n",
      "        \n",
      "        self.hist_ts5 = self.addComplexOutput(identifier  = \"hist_ts5\", \n",
      "                                              title       = \"Histogram of the first observations\",\n",
      "                                              formats     = [{'mimeType':'text/xml'}])         \n",
      "\n",
      "\n",
      "    ##\n",
      "    # Execution part of the process\n",
      "    def execute(self):\n",
      "        # Load the data\n",
      "        NAME_1 = str(self.NAME_1.getValue())\n",
      "        NAME_2 = str(self.NAME_2.getValue())\n",
      "        NAME_3 = str(self.NAME_3.getValue())                \n",
      "        \n",
      "        extent = list(self.bboxCounty.getValue())\n",
      "        date = str(self.date.getValue())        \n",
      "        no_observations = int(self.no_observations.getValue())\n",
      "        \n",
      "        # Do the Work\n",
      "        # do something\n",
      "        \n",
      "        # Save to out\n",
      "        self.hist_ts1.setValue( hist_ts1 )\n",
      "        self.hist_ts2.setValue( hist_ts2 )\n",
      "        self.hist_ts3.setValue( hist_ts3 )\n",
      "        self.hist_ts4.setValue( hist_ts4 )\n",
      "        self.hist_ts5.setValue( hist_ts5 )        \n",
      "        return"
     ],
     "language": "python",
     "metadata": {},
     "outputs": [],
     "prompt_number": 110
    },
    {
     "cell_type": "code",
     "collapsed": false,
     "input": [
      "from datetime import datetime, timedelta"
     ],
     "language": "python",
     "metadata": {},
     "outputs": [],
     "prompt_number": 56
    },
    {
     "cell_type": "code",
     "collapsed": false,
     "input": [
      "NAME_1 = \"Anhui\"\n",
      "NAME_2 = \"Bengbu\"\n",
      "NAME_3 = \"Guzhen\"\n",
      "extent = [117.04640962322863,33.00404358318741,117.59765626636589,33.50222015793983] # left, bottom, right, top\n",
      "date = \"2014-01-01\"\n",
      "no_observations = 4"
     ],
     "language": "python",
     "metadata": {},
     "outputs": [],
     "prompt_number": 57
    },
    {
     "cell_type": "code",
     "collapsed": false,
     "input": [
      "j.toordinal()"
     ],
     "language": "python",
     "metadata": {},
     "outputs": [
      {
       "metadata": {},
       "output_type": "pyout",
       "prompt_number": 92,
       "text": [
        "735234"
       ]
      }
     ],
     "prompt_number": 92
    },
    {
     "cell_type": "code",
     "collapsed": false,
     "input": [
      "# convert all required dates in ISO date format\n",
      "date_start = datetime(int(date[0:4]),int(date[5:7]),int(date[8:10]))\n",
      "date_list = []\n",
      "date_list.append(date_start)\n",
      "for i in range(1,no_observations+1):\n",
      "    #print i\n",
      "    date_list.append(date_start + (i *timedelta(days=8)))\n",
      "\n",
      "# request data use WCS service baed on extend and clip based on sql query\n",
      "array_NDAI = []\n",
      "endpoint='http://192.168.1.104:8080/rasdaman/ows'\n",
      "for j in date_list:\n",
      "    #d = 150842\n",
      "    date_in_string = '\"'+str(j.year)+'-'+str(j.month).zfill(2)+'-'+str(j.day).zfill(2)+'\"'\n",
      "    field={}\n",
      "    field['SERVICE']='WCS'\n",
      "    field['VERSION']='2.0.1'\n",
      "    field['REQUEST']='GetCoverage'\n",
      "    field['COVERAGEID']='NDAI_1km'#'trmm_3b42_coverage_1'\n",
      "    field['SUBSET']=['ansi('+date_in_string+')',#['ansi('+str(d)+')',\n",
      "                     'Lat('+str(extent[1])+','+str(extent[3])+')',\n",
      "                    'Long('+str(extent[0])+','+str(extent[2])+')']\n",
      "    field['FORMAT']='image/tiff'\n",
      "    url_values = urllib.urlencode(field,doseq=True)\n",
      "    full_url = endpoint + '?' + url_values\n",
      "    print full_url\n",
      "    tmpfilename='test'+str(j.toordinal())+'.tif'\n",
      "    f,h = urllib.urlretrieve(full_url,tmpfilename)\n",
      "    print h\n",
      "\n",
      "    #ds=gdal.Open(tmpfilename)\n",
      "    clippedfilename='test'+str(j.toordinal())+'clip.tif' \n",
      "\n",
      "    path_base = \"D:\\Data\\ChinaShapefile\\CHN_adm_gpkg\"\n",
      "    CHN_adm_gpkg = os.path.join(path_base, \"CHN_adm.gpkg\")\n",
      "    \n",
      "    command = [\"gdalwarp\", \"-cutline\", CHN_adm_gpkg, \"-csql\", \"SELECT NAME_3 FROM CHN_adm3 WHERE NAME_1 = \"+NAME_1+\" and NAME_2 = \"+NAME_2+\" and NAME_3 = \"+NAME_3+\"\",\n",
      "               \"-crop_to_cutline\", \"-of\", \"GTiff\", \"-dstnodata\",\"-9999\",tmpfilename, clippedfilename, \"-overwrite\"] # \n",
      "\n",
      "    print (sp.list2cmdline(command))\n",
      "\n",
      "    norm = sp.Popen(sp.list2cmdline(command), shell=True)  \n",
      "    norm.communicate()   \n",
      "\n",
      "    ds=gdal.Open(clippedfilename)\n",
      "    ds_clip = ds.ReadAsArray() \n",
      "    \n",
      "    array_NDAI.append(ds_clip)\n",
      "array_NDAI = np.asarray(array_NDAI)\n",
      "array_NDAI_ma = np.ma.masked_equal(array_NDAI, -9999)    "
     ],
     "language": "python",
     "metadata": {},
     "outputs": [
      {
       "output_type": "stream",
       "stream": "stdout",
       "text": [
        "http://192.168.1.104:8080/rasdaman/ows?SUBSET=ansi%28%222014-01-01%22%29&SUBSET=Lat%2833.0040435832%2C33.5022201579%29&SUBSET=Long%28117.046409623%2C117.597656266%29&SERVICE=WCS&FORMAT=image%2Ftiff&REQUEST=GetCoverage&VERSION=2.0.1&COVERAGEID=NDAI_1km\n",
        "Server: Apache-Coyote/1.1\r\n",
        "Access-Control-Allow-Origin: *\r\n",
        "Content-Type: image/tiff\r\n",
        "Date: Fri, 30 Oct 2015 03:15:54 GMT\r\n",
        "Connection: Close\r\n",
        "Proxy-Connection: Close\r\n"
       ]
      },
      {
       "output_type": "stream",
       "stream": "stdout",
       "text": [
        "\n",
        "gdalwarp -cutline D:\\Data\\ChinaShapefile\\CHN_adm_gpkg\\CHN_adm.gpkg -csql \"SELECT NAME_3 FROM CHN_adm3 WHERE NAME_1 = Anhui and NAME_2 = Bengbu and NAME_3 = Guzhen\" -crop_to_cutline -of GTiff -dstnodata -9999 test735234.tif test735234clip.tif -overwrite\n"
       ]
      },
      {
       "ename": "AttributeError",
       "evalue": "'NoneType' object has no attribute 'ReadAsArray'",
       "output_type": "pyerr",
       "traceback": [
        "\u001b[1;31m---------------------------------------------------------------------------\u001b[0m\n\u001b[1;31mAttributeError\u001b[0m                            Traceback (most recent call last)",
        "\u001b[1;32m<ipython-input-93-ccace35490e8>\u001b[0m in \u001b[0;36m<module>\u001b[1;34m()\u001b[0m\n\u001b[0;32m     44\u001b[0m \u001b[1;33m\u001b[0m\u001b[0m\n\u001b[0;32m     45\u001b[0m     \u001b[0mds\u001b[0m\u001b[1;33m=\u001b[0m\u001b[0mgdal\u001b[0m\u001b[1;33m.\u001b[0m\u001b[0mOpen\u001b[0m\u001b[1;33m(\u001b[0m\u001b[0mclippedfilename\u001b[0m\u001b[1;33m)\u001b[0m\u001b[1;33m\u001b[0m\u001b[0m\n\u001b[1;32m---> 46\u001b[1;33m     \u001b[0mds_clip\u001b[0m \u001b[1;33m=\u001b[0m \u001b[0mds\u001b[0m\u001b[1;33m.\u001b[0m\u001b[0mReadAsArray\u001b[0m\u001b[1;33m(\u001b[0m\u001b[1;33m)\u001b[0m\u001b[1;33m\u001b[0m\u001b[0m\n\u001b[0m\u001b[0;32m     47\u001b[0m \u001b[1;33m\u001b[0m\u001b[0m\n\u001b[0;32m     48\u001b[0m     \u001b[0marray_NDAI\u001b[0m\u001b[1;33m.\u001b[0m\u001b[0mappend\u001b[0m\u001b[1;33m(\u001b[0m\u001b[0mds_clip\u001b[0m\u001b[1;33m)\u001b[0m\u001b[1;33m\u001b[0m\u001b[0m\n",
        "\u001b[1;31mAttributeError\u001b[0m: 'NoneType' object has no attribute 'ReadAsArray'"
       ]
      }
     ],
     "prompt_number": 93
    },
    {
     "cell_type": "code",
     "collapsed": false,
     "input": [
      "y_list=[]\n",
      "bincenters_list=[]\n",
      "for k in range(0,no_observations):\n",
      "    ds_hist_data = array_NDAI[k][array_NDAI[k] != -9999]\n",
      "    y,binEdges=np.histogram(ds_hist_data,bins=100, range=(-1,1), normed=True)\n",
      "    bincenters = 0.5*(binEdges[1:]+binEdges[:-1])\n",
      "    y_list.append(y)\n",
      "    bincenters_list.append(bincenters)"
     ],
     "language": "python",
     "metadata": {},
     "outputs": [],
     "prompt_number": 84
    },
    {
     "cell_type": "code",
     "collapsed": false,
     "input": [
      "y_list[0]"
     ],
     "language": "python",
     "metadata": {},
     "outputs": [
      {
       "metadata": {},
       "output_type": "pyout",
       "prompt_number": 85,
       "text": [
        "array([ 0.        ,  0.        ,  0.        ,  0.        ,  0.        ,\n",
        "        0.        ,  0.        ,  0.        ,  0.        ,  0.        ,\n",
        "        0.        ,  0.        ,  0.        ,  0.        ,  0.        ,\n",
        "        0.        ,  0.        ,  0.        ,  0.        ,  0.        ,\n",
        "        0.        ,  0.        ,  0.03479471,  0.03479471,  0.03479471,\n",
        "        0.03479471,  0.13917884,  0.10438413,  0.06958942,  0.03479471,\n",
        "        0.10438413,  0.17397356,  0.13917884,  0.3131524 ,  0.52192067,\n",
        "        0.24356298,  0.73068894,  0.83507307,  1.98329854,  1.87891441,\n",
        "        1.98329854,  2.26165623,  2.99234516,  3.34029228,  3.27070285,\n",
        "        3.75782881,  3.4098817 ,  2.01809325,  2.57480863,  2.40083507,\n",
        "        2.88796103,  2.99234516,  2.05288796,  1.60055672,  1.42658316,\n",
        "        1.11343076,  0.73068894,  0.38274182,  0.52192067,  0.45233125,\n",
        "        0.10438413,  0.06958942,  0.10438413,  0.03479471,  0.10438413,\n",
        "        0.        ,  0.        ,  0.        ,  0.        ,  0.        ,\n",
        "        0.        ,  0.        ,  0.        ,  0.        ,  0.        ,\n",
        "        0.        ,  0.        ,  0.        ,  0.        ,  0.        ,\n",
        "        0.        ,  0.        ,  0.        ,  0.        ,  0.        ,\n",
        "        0.        ,  0.        ,  0.        ,  0.        ,  0.        ,\n",
        "        0.        ,  0.        ,  0.        ,  0.        ,  0.        ,\n",
        "        0.        ,  0.        ,  0.        ,  0.        ,  0.        ])"
       ]
      }
     ],
     "prompt_number": 85
    },
    {
     "cell_type": "code",
     "collapsed": false,
     "input": [
      "for l in range(0,no_observations):\n",
      "    plt.plot(bincenters_list[l],y_list[l])\n",
      "plt.show()"
     ],
     "language": "python",
     "metadata": {},
     "outputs": [
      {
       "metadata": {},
       "output_type": "display_data",
       "png": "[encoded data removed]",
       "text": [
        "<matplotlib.figure.Figure at 0xf6ea0d0>"
       ]
      }
     ],
     "prompt_number": 86
    },
    {
     "cell_type": "code",
     "collapsed": false,
     "input": [],
     "language": "python",
     "metadata": {},
     "outputs": []
    },
    {
     "cell_type": "code",
     "collapsed": false,
     "input": [
      "ds_hist_data = array_NDAI[0][array_NDAI[0] != -9999]"
     ],
     "language": "python",
     "metadata": {},
     "outputs": [],
     "prompt_number": 76
    },
    {
     "cell_type": "code",
     "collapsed": false,
     "input": [
      "ds_hist_data"
     ],
     "language": "python",
     "metadata": {},
     "outputs": [
      {
       "metadata": {},
       "output_type": "pyout",
       "prompt_number": 77,
       "text": [
        "array([ 0.025, -0.085, -0.07 , ..., -0.035,  0.015, -0.275])"
       ]
      }
     ],
     "prompt_number": 77
    },
    {
     "cell_type": "code",
     "collapsed": false,
     "input": [],
     "language": "python",
     "metadata": {},
     "outputs": []
    },
    {
     "cell_type": "code",
     "collapsed": false,
     "input": [
      "ds_hist_data = array_NDAI[ds_clip != -9999]\n",
      "y,binEdges=np.histogram(ds_hist_data,bins=100, range=(-1,1), normed=True)\n",
      "bincenters = 0.5*(binEdges[1:]+binEdges[:-1])\n",
      "plt.plot(bincenters,y,'-')\n",
      "plt.show()"
     ],
     "language": "python",
     "metadata": {},
     "outputs": [
      {
       "metadata": {},
       "output_type": "pyout",
       "prompt_number": 67,
       "text": [
        "<matplotlib.image.AxesImage at 0xf1fa090>"
       ]
      },
      {
       "metadata": {},
       "output_type": "display_data",
       "png": "[encoded data removed]",
       "text": [
        "<matplotlib.figure.Figure at 0xc130a50>"
       ]
      }
     ],
     "prompt_number": 67
    },
    {
     "cell_type": "code",
     "collapsed": false,
     "input": [],
     "language": "python",
     "metadata": {},
     "outputs": []
    },
    {
     "cell_type": "code",
     "collapsed": false,
     "input": [
      "array_NDAI.shape"
     ],
     "language": "python",
     "metadata": {},
     "outputs": [
      {
       "metadata": {},
       "output_type": "pyout",
       "prompt_number": 63,
       "text": [
        "(5, 50, 55)"
       ]
      }
     ],
     "prompt_number": 63
    },
    {
     "cell_type": "code",
     "collapsed": false,
     "input": [
      "date_start+8"
     ],
     "language": "python",
     "metadata": {},
     "outputs": [
      {
       "ename": "TypeError",
       "evalue": "unsupported operand type(s) for +: 'datetime.datetime' and 'int'",
       "output_type": "pyerr",
       "traceback": [
        "\u001b[1;31m---------------------------------------------------------------------------\u001b[0m\n\u001b[1;31mTypeError\u001b[0m                                 Traceback (most recent call last)",
        "\u001b[1;32m<ipython-input-35-7a4260d0f029>\u001b[0m in \u001b[0;36m<module>\u001b[1;34m()\u001b[0m\n\u001b[1;32m----> 1\u001b[1;33m \u001b[0mdate_start\u001b[0m\u001b[1;33m+\u001b[0m\u001b[1;36m8\u001b[0m\u001b[1;33m\u001b[0m\u001b[0m\n\u001b[0m",
        "\u001b[1;31mTypeError\u001b[0m: unsupported operand type(s) for +: 'datetime.datetime' and 'int'"
       ]
      }
     ],
     "prompt_number": 35
    },
    {
     "cell_type": "code",
     "collapsed": false,
     "input": [],
     "language": "python",
     "metadata": {},
     "outputs": []
    }
   ],
   "metadata": {}
  }
 ]
}