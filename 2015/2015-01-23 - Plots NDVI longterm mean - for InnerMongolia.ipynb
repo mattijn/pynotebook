{
 "metadata": {
  "name": ""
 },
 "nbformat": 3,
 "nbformat_minor": 0,
 "worksheets": [
  {
   "cells": [
    {
     "cell_type": "markdown",
     "metadata": {},
     "source": [
      "load modules"
     ]
    },
    {
     "cell_type": "code",
     "collapsed": false,
     "input": [
      "import cartopy.crs as ccrs\n",
      "import cartopy\n",
      "import cartopy.feature as cfeature\n",
      "import numpy as np\n",
      "import os\n",
      "import matplotlib.pyplot as plt\n",
      "from osgeo import gdal, osr"
     ],
     "language": "python",
     "metadata": {},
     "outputs": [],
     "prompt_number": 1
    },
    {
     "cell_type": "code",
     "collapsed": false,
     "input": [
      "# (C) British Crown Copyright 2011 - 2012, Met Office\n",
      "#\n",
      "# This file is part of cartopy.\n",
      "#\n",
      "# cartopy is free software: you can redistribute it and/or modify it under\n",
      "# the terms of the GNU Lesser General Public License as published by the\n",
      "# Free Software Foundation, either version 3 of the License, or\n",
      "# (at your option) any later version.\n",
      "#\n",
      "# cartopy is distributed in the hope that it will be useful,\n",
      "# but WITHOUT ANY WARRANTY; without even the implied warranty of\n",
      "# MERCHANTABILITY or FITNESS FOR A PARTICULAR PURPOSE.  See the\n",
      "# GNU Lesser General Public License for more details.\n",
      "#\n",
      "# You should have received a copy of the GNU Lesser General Public License\n",
      "# along with cartopy.  If not, see <http://www.gnu.org/licenses/>.\n",
      "\"\"\"\n",
      "This module defines :class:`Feature` instances, for use with\n",
      "ax.add_feature().\n",
      "\n",
      "\"\"\"\n",
      "from abc import ABCMeta, abstractmethod\n",
      "import os.path\n",
      "\n",
      "import numpy as np\n",
      "import shapely.geometry\n",
      "\n",
      "import cartopy.io.shapereader as shapereader\n",
      "import cartopy.crs\n",
      "\n",
      "\n",
      "COLORS = {'land': np.array((240, 240, 220)) / 256.,\n",
      "          'land_alt1': np.array((220, 220, 220)) / 256.,\n",
      "          'water': np.array((152, 183, 226)) / 256.}\n",
      "\"\"\"\n",
      "A dictionary of colors useful for drawing Features.\n",
      "\n",
      "The named keys in this dictionary represent the \"type\" of\n",
      "feature being plotted.\n",
      "\n",
      "\"\"\"\n",
      "\n",
      "\n",
      "_NATURAL_EARTH_GEOM_CACHE = {}\n",
      "\"\"\"\n",
      "Caches a mapping between (name, category, scale) and a tuple of the\n",
      "resulting geometries.\n",
      "\n",
      "Provides a significant performance benefit (when combined with object id\n",
      "caching in GeoAxes.add_geometries) when producing multiple maps of the\n",
      "same projection.\n",
      "\n",
      "\"\"\"\n",
      "\n",
      "\n",
      "class Feature(object):\n",
      "    \"\"\"\n",
      "    Represents a collection of points, lines and polygons with convenience\n",
      "    methods for common drawing and filtering operations.\n",
      "\n",
      "    Args:\n",
      "\n",
      "        * crs - the coordinate reference system of this Feature\n",
      "\n",
      "    Kwargs:\n",
      "        Keyword arguments to be used when drawing this feature.\n",
      "\n",
      "    .. seealso::\n",
      "\n",
      "        To add features to the current matplotlib axes, see\n",
      "        :func:`GeoAxes <cartopy.mpl.geoaxes.GeoAxes.add_feature>`.\n",
      "\n",
      "    \"\"\"\n",
      "    __metaclass__ = ABCMeta\n",
      "\n",
      "    def __init__(self, crs, **kwargs):\n",
      "        self._crs = crs\n",
      "        self._kwargs = dict(kwargs)\n",
      "\n",
      "    @property\n",
      "    def crs(self):\n",
      "        \"\"\"The cartopy CRS for the geometries in this feature.\"\"\"\n",
      "        return self._crs\n",
      "\n",
      "    @property\n",
      "    def kwargs(self):\n",
      "        \"\"\"\n",
      "        The read-only dictionary of keyword arguments that are used when\n",
      "        creating the matplotlib artists for this feature.\n",
      "\n",
      "        \"\"\"\n",
      "        return dict(self._kwargs)\n",
      "\n",
      "    @abstractmethod\n",
      "    def geometries(self):\n",
      "        \"\"\"\n",
      "        Returns an iterator of (shapely) geometries for this feature.\n",
      "\n",
      "        \"\"\"\n",
      "        pass\n",
      "\n",
      "    def intersecting_geometries(self, extent):\n",
      "        \"\"\"\n",
      "        Returns an iterator of shapely geometries that intersect with\n",
      "        the given extent. The extent is assumed to be in the CRS of\n",
      "        the feature. If extent is None, the method returns all\n",
      "        geometries for this dataset.\n",
      "\n",
      "        \"\"\"\n",
      "        if extent is not None:\n",
      "            extent_geom = shapely.geometry.box(extent[0], extent[2],\n",
      "                                               extent[1], extent[3])\n",
      "            return (geom for geom in self.geometries() if\n",
      "                    extent_geom.intersects(geom))\n",
      "        else:\n",
      "            return self.geometries()\n",
      "\n",
      "\n",
      "class ShapelyFeature(Feature):\n",
      "    \"\"\"\n",
      "    A class capable of drawing a collection of\n",
      "    shapely geometries.\n",
      "\n",
      "    \"\"\"\n",
      "    def __init__(self, geometries, crs, **kwargs):\n",
      "        \"\"\"\n",
      "        Args:\n",
      "\n",
      "        * geometries:\n",
      "            A collection of shapely geometries.\n",
      "        * crs:\n",
      "            The cartopy CRS in which the provided geometries are defined.\n",
      "\n",
      "        Kwargs:\n",
      "            Keyword arguments to be used when drawing this feature.\n",
      "\n",
      "        \"\"\"\n",
      "        super(ShapelyFeature, self).__init__(crs, **kwargs)\n",
      "        self._geoms = tuple(geometries)\n",
      "\n",
      "    def geometries(self):\n",
      "        return iter(self._geoms)\n",
      "\n",
      "\n",
      "class NaturalEarthFeature(Feature):\n",
      "    \"\"\"\n",
      "    A simple interface to Natural Earth shapefiles.\n",
      "\n",
      "    See http://www.naturalearthdata.com/\n",
      "\n",
      "    \"\"\"\n",
      "    def __init__(self, category, name, scale, **kwargs):\n",
      "        \"\"\"\n",
      "        Args:\n",
      "\n",
      "        * category:\n",
      "            The category of the dataset, i.e. either 'cultural' or 'physical'.\n",
      "        * name:\n",
      "            The name of the dataset, e.g. 'admin_0_boundary_lines_land'.\n",
      "        * scale:\n",
      "            The dataset scale, i.e. one of '10m', '50m', or '110m'.\n",
      "            Corresponding to 1:10,000,000, 1:50,000,000, and 1:110,000,000\n",
      "            respectively.\n",
      "\n",
      "        Kwargs:\n",
      "            Keyword arguments to be used when drawing this feature.\n",
      "\n",
      "        \"\"\"\n",
      "        super(NaturalEarthFeature, self).__init__(cartopy.crs.PlateCarree(),\n",
      "                                                  **kwargs)\n",
      "        self.category = category\n",
      "        self.name = name\n",
      "        self.scale = scale\n",
      "\n",
      "    def geometries(self):\n",
      "        key = (self.name, self.category, self.scale)\n",
      "        if key not in _NATURAL_EARTH_GEOM_CACHE:\n",
      "            path = shapereader.natural_earth(resolution=self.scale,\n",
      "                                             category=self.category,\n",
      "                                             name=self.name)\n",
      "            geometries = tuple(shapereader.Reader(path).geometries())\n",
      "            _NATURAL_EARTH_GEOM_CACHE[key] = geometries\n",
      "        else:\n",
      "            geometries = _NATURAL_EARTH_GEOM_CACHE[key]\n",
      "\n",
      "        return iter(geometries)\n",
      "\n",
      "\n",
      "class GSHHSFeature(Feature):\n",
      "    \"\"\"\n",
      "    An interface to the GSHHS dataset.\n",
      "\n",
      "    See http://www.ngdc.noaa.gov/mgg/shorelines/gshhs.html\n",
      "\n",
      "    Args:\n",
      "\n",
      "    * scale:\n",
      "        The dataset scale. One of 'auto', 'coarse', 'low', 'intermediate',\n",
      "        'high, or 'full' (default is 'auto').\n",
      "    * levels:\n",
      "        A list of integers 1-4 corresponding to the desired GSHHS feature\n",
      "        levels to draw (default is [1] which corresponds to coastlines).\n",
      "\n",
      "    Kwargs:\n",
      "        Keyword arguments to be used when drawing the feature. Defaults\n",
      "        are edgecolor='black' and facecolor='none'.\n",
      "\n",
      "    \"\"\"\n",
      "\n",
      "    _geometries_cache = {}\n",
      "    \"\"\"\n",
      "    A mapping from scale and level to GSHHS shapely geometry::\n",
      "\n",
      "        {(scale, level): geom}\n",
      "\n",
      "    This provides a perfomance boost when plotting in interactive mode or\n",
      "    instantiating multiple GSHHS artists, by reducing repeated file IO.\n",
      "\n",
      "    \"\"\"\n",
      "    def __init__(self, scale='auto', levels=None, **kwargs):\n",
      "        super(GSHHSFeature, self).__init__(cartopy.crs.PlateCarree(), **kwargs)\n",
      "\n",
      "        if scale not in ('auto', 'a', 'coarse', 'c', 'low', 'l',\n",
      "                         'intermediate', 'i', 'high', 'h', 'full', 'f'):\n",
      "            raise ValueError(\"Unknown GSHHS scale '{}'.\".format(scale))\n",
      "        self._scale = scale\n",
      "\n",
      "        if levels is None:\n",
      "            levels = [1]\n",
      "        self._levels = set(levels)\n",
      "        unknown_levels = self._levels.difference([1, 2, 3, 4])\n",
      "        if unknown_levels:\n",
      "            raise ValueError(\"Unknown GSHHS levels \"\n",
      "                             \"'{}'.\".format(unknown_levels))\n",
      "\n",
      "        # Default kwargs\n",
      "        self._kwargs.setdefault('edgecolor', 'black')\n",
      "        self._kwargs.setdefault('facecolor', 'none')\n",
      "\n",
      "    def _scale_from_extent(self, extent):\n",
      "        \"\"\"\n",
      "        Returns the appropriate scale (e.g. 'i') for the given extent\n",
      "        expressed in PlateCarree CRS.\n",
      "\n",
      "        \"\"\"\n",
      "        # Default to coarse scale\n",
      "        scale = 'c'\n",
      "\n",
      "        if extent is not None:\n",
      "            # Upper limit on extent in degrees.\n",
      "            scale_limits = (('c', 20.0),\n",
      "                            ('l', 10.0),\n",
      "                            ('i', 2.0),\n",
      "                            ('h', 0.5),\n",
      "                            ('f', 0.1))\n",
      "\n",
      "            width = abs(extent[1] - extent[0])\n",
      "            height = abs(extent[3] - extent[2])\n",
      "            min_extent = min(width, height)\n",
      "            if min_extent != 0:\n",
      "                for scale, limit in scale_limits:\n",
      "                    if min_extent > limit:\n",
      "                        break\n",
      "\n",
      "        return scale\n",
      "\n",
      "    def geometries(self):\n",
      "        return self.intersecting_geometries(extent=None)\n",
      "\n",
      "    def intersecting_geometries(self, extent):\n",
      "        if self._scale == 'auto':\n",
      "            scale = self._scale_from_extent(extent)\n",
      "        else:\n",
      "            scale = self._scale[0]\n",
      "\n",
      "        if extent is not None:\n",
      "            extent_geom = shapely.geometry.box(extent[0], extent[2],\n",
      "                                               extent[1], extent[3])\n",
      "        for level in self._levels:\n",
      "            geoms = GSHHSFeature._geometries_cache.get((scale, level))\n",
      "            if geoms is None:\n",
      "                # Load GSHHS geometries from appropriate shape file.\n",
      "                # TODO selective load based on bbox of each geom in file.\n",
      "                path = shapereader.gshhs(scale, level)\n",
      "                geoms = tuple(shapereader.Reader(path).geometries())\n",
      "                GSHHSFeature._geometries_cache[(scale, level)] = geoms\n",
      "            for geom in geoms:\n",
      "                if extent is None or extent_geom.intersects(geom):\n",
      "                    yield geom\n",
      "\n",
      "\n",
      "BORDERS = NaturalEarthFeature('cultural', 'admin_0_boundary_lines_land',\n",
      "                              '10m', edgecolor='black', facecolor='none')\n",
      "\"\"\"Small scale (1:110m) country boundaries.\"\"\"\n",
      "\n",
      "\n",
      "COASTLINE = NaturalEarthFeature('physical', 'coastline', '10m',\n",
      "                                edgecolor='black', facecolor='none')\n",
      "\"\"\"Small scale (1:110m) coastline, including major islands.\"\"\"\n",
      "\n",
      "\n",
      "LAKES = NaturalEarthFeature('physical', 'lakes', '10m',\n",
      "                            edgecolor='face',\n",
      "                            facecolor=COLORS['water'])\n",
      "\"\"\"Small scale (1:110m) natural and artificial lakes.\"\"\"\n",
      "\n",
      "\n",
      "LAND = NaturalEarthFeature('physical', 'land', '10m',\n",
      "                           edgecolor='face',\n",
      "                           facecolor=COLORS['land'])\n",
      "\"\"\"Small scale (1:110m) land polygons, including major islands.\"\"\"\n",
      "\n",
      "\n",
      "OCEAN = NaturalEarthFeature('physical', 'ocean', '10m',\n",
      "                            edgecolor='face',\n",
      "                            facecolor=COLORS['water'])\n",
      "\"\"\"Small scale (1:110m) ocean polygons.\"\"\"\n",
      "\n",
      "\n",
      "RIVERS = NaturalEarthFeature('physical', 'rivers_lake_centerlines', '10m',\n",
      "                             edgecolor=COLORS['water'],\n",
      "                             facecolor='none')\n",
      "\"\"\"Small scale (1:110m) single-line drainages, including lake centerlines.\"\"\""
     ],
     "language": "python",
     "metadata": {},
     "outputs": [
      {
       "metadata": {},
       "output_type": "pyout",
       "prompt_number": 2,
       "text": [
        "'Small scale (1:110m) single-line drainages, including lake centerlines.'"
       ]
      }
     ],
     "prompt_number": 2
    },
    {
     "cell_type": "markdown",
     "metadata": {},
     "source": [
      "Get mask from another TIFie"
     ]
    },
    {
     "cell_type": "code",
     "collapsed": false,
     "input": [
      "folder = r'D:\\Data\\0_DAILY_INTERVAL_NDVI_TRMM\\InnerMongolia\\NDVI_2009\\DaySums_StdNormAnomalyRes_3857//'\n",
      "psdxx = folder+'TRMM_CQ_2009001.tif.tif'\n",
      "\n",
      "path_NDVI = r'D:\\Data\\0_DAILY_INTERVAL_NDVI_TRMM\\InnerMongolia\\NDVI_2009\\DaySums_StdNormAnomalyRes_3857//TRMM_CQ_2009001.tif.tif'\n",
      "ds_ndvi = gdal.Open(path_NDVI).ReadAsArray()\n",
      "\n",
      "ds2 = gdal.Open(psdxx)\n",
      "array2 = ds2.ReadAsArray()\n",
      "array2 = np.ma.masked_where(ds_ndvi == ds_ndvi[0][0], array2)\n",
      "array2 = np.flipud(array2)   \n",
      "array2 = np.ma.masked_equal(array2, array2.max())\n",
      "array2 = np.ma.masked_equal(array2, array2.min())"
     ],
     "language": "python",
     "metadata": {},
     "outputs": [],
     "prompt_number": 23
    },
    {
     "cell_type": "code",
     "collapsed": false,
     "input": [
      "array2.shape"
     ],
     "language": "python",
     "metadata": {},
     "outputs": [
      {
       "metadata": {},
       "output_type": "pyout",
       "prompt_number": 24,
       "text": [
        "(1021L, 1002L)"
       ]
      }
     ],
     "prompt_number": 24
    },
    {
     "cell_type": "markdown",
     "metadata": {},
     "source": [
      "Mask the places where values is NaN if there, Get the coordiantes and create grid with coordinates"
     ]
    },
    {
     "cell_type": "code",
     "collapsed": false,
     "input": [
      "def listall(RootFolder, varname=''):\n",
      "    lists = [os.path.join(root, name)    \n",
      "                 for root, dirs, files in os.walk(RootFolder)\n",
      "                   for name in files\n",
      "                   if varname in name\n",
      "                     if name.endswith('.tif')]\n",
      "    return lists\n",
      "\n",
      "def setMap(rasterBase):\n",
      "\n",
      "    # Read the data and metadata\n",
      "    ds = gdal.Open(rasterBase)\n",
      "    #band = ds.GetRasterBand(20)\n",
      "    \n",
      "    data = ds.ReadAsArray()\n",
      "    gt = ds.GetGeoTransform()\n",
      "    proj = ds.GetProjection()\n",
      "    \n",
      "    nan = ds.GetRasterBand(1).GetNoDataValue()\n",
      "    if nan != None:\n",
      "        data = np.ma.masked_equal(data,value=nan)\n",
      "    \n",
      "    xres = gt[1]\n",
      "    yres = gt[5]\n",
      "    \n",
      "    # get the edge coordinates and add half the resolution \n",
      "    # to go to center coordinates\n",
      "    xmin = gt[0] + xres * 0.5\n",
      "    xmax = gt[0] + (xres * ds.RasterXSize) - xres * 0.5\n",
      "    ymin = gt[3] + (yres * ds.RasterYSize) + yres * 0.5\n",
      "    ymax = gt[3] - yres * 0.5\n",
      "    \n",
      "    x = ds.RasterXSize \n",
      "    y = ds.RasterYSize  \n",
      "    extent = [ gt[0],gt[0]+x*gt[1], gt[3],gt[3]+y*gt[5]]\n",
      "    #ds = None\n",
      "    \n",
      "    # create a grid of xy coordinates in the original projection\n",
      "    xy_source = np.mgrid[xmin:xmax+xres:xres, ymax+yres:ymin:yres]\n",
      "    \n",
      "    return extent, xy_source, proj"
     ],
     "language": "python",
     "metadata": {},
     "outputs": [],
     "prompt_number": 25
    },
    {
     "cell_type": "markdown",
     "metadata": {},
     "source": [
      "Function to create continuous custom colorbar"
     ]
    },
    {
     "cell_type": "code",
     "collapsed": false,
     "input": [
      "import numpy as np\n",
      "import matplotlib.pyplot as plt\n",
      "import matplotlib.colors as mcolors\n",
      "\n",
      "def make_colormap(seq):\n",
      "    \"\"\"Return a LinearSegmentedColormap\n",
      "    seq: a sequence of floats and RGB-tuples. The floats should be increasing\n",
      "    and in the interval (0,1).\n",
      "    \"\"\"\n",
      "    seq = [(None,) * 3, 0.0] + list(seq) + [1.0, (None,) * 3]\n",
      "    cdict = {'red': [], 'green': [], 'blue': []}\n",
      "    for i, item in enumerate(seq):\n",
      "        if isinstance(item, float):\n",
      "            r1, g1, b1 = seq[i - 1]\n",
      "            r2, g2, b2 = seq[i + 1]\n",
      "            cdict['red'].append([item, r1, r2])\n",
      "            cdict['green'].append([item, g1, g2])\n",
      "            cdict['blue'].append([item, b1, b2])\n",
      "    return mcolors.LinearSegmentedColormap('CustomMap', cdict)\n",
      "c = mcolors.ColorConverter().to_rgb"
     ],
     "language": "python",
     "metadata": {},
     "outputs": [],
     "prompt_number": 26
    },
    {
     "cell_type": "code",
     "collapsed": false,
     "input": [
      "phase = make_colormap([c('#781800'), c('#B34700'),0.1, c('#B34700'), c('#F09400'),0.2, c('#F09400'), c('#FFBE3B'), 0.3, \n",
      "                       c('#FFBE3B'), c('#FFD88A'),0.4, c('#FFD88A'), c('#FFFFFF'),0.5, c('#FFFFFF'), c('#B6D676'), 0.6,\n",
      "                       c('#B6D676'), c('#8BBA2D'),0.7, c('#8BBA2D'), c('#60A100'),0.8, c('#60A100'), c('#1B8500'), 0.9,\n",
      "                       c('#1B8500'), c('#006915')])"
     ],
     "language": "python",
     "metadata": {},
     "outputs": [],
     "prompt_number": 27
    },
    {
     "cell_type": "markdown",
     "metadata": {},
     "source": [
      "Get extent and of basemap and use this information for all following"
     ]
    },
    {
     "cell_type": "code",
     "collapsed": false,
     "input": [
      "RasterFolder = r'D:\\Data\\0_DAILY_INTERVAL_NDVI_TRMM\\InnerMongolia\\NDVI_2009\\DaySums_StdNormAnomalyRes_3857'\n",
      "raster = listall(RasterFolder)\n",
      "#raster = raster[2191:2556]\n",
      "rasterBase = raster[0]\n",
      "extent, xy_source, proj = setMap(rasterBase)\n",
      "extent\n",
      "\n",
      "RasterFolderOut = r'D:\\GoogleChromeDownloads\\2015-19-01_WebsiteOL3_Rasdaman\\sandbox\\website_parts\\website_image_layer\\imgs\\ndvi_IM//'\n",
      "print raster[0], raster[-1]"
     ],
     "language": "python",
     "metadata": {},
     "outputs": [
      {
       "output_type": "stream",
       "stream": "stdout",
       "text": [
        "D:\\Data\\0_DAILY_INTERVAL_NDVI_TRMM\\InnerMongolia\\NDVI_2009\\DaySums_StdNormAnomalyRes_3857\\TRMM_CQ_2009001.tif.tif D:\\Data\\0_DAILY_INTERVAL_NDVI_TRMM\\InnerMongolia\\NDVI_2009\\DaySums_StdNormAnomalyRes_3857\\TRMM_CQ_2009365.tif.tif\n"
       ]
      }
     ],
     "prompt_number": 28
    },
    {
     "cell_type": "markdown",
     "metadata": {},
     "source": [
      "Flip the array to display"
     ]
    },
    {
     "cell_type": "code",
     "collapsed": false,
     "input": [
      "ds = gdal.Open(rasterBase)\n",
      "array = ds.ReadAsArray()\n",
      "img = np.flipud(array)\n",
      "\n",
      "img_extent = (extent[0], extent[1], extent[2], extent[3])\n"
     ],
     "language": "python",
     "metadata": {},
     "outputs": [],
     "prompt_number": 18
    },
    {
     "cell_type": "code",
     "collapsed": false,
     "input": [
      "ex0 = round(img_extent[0],8) \n",
      "ex1 = round(img_extent[1],8)\n",
      "ex2 = round(img_extent[2],8)\n",
      "ex3 = round(img_extent[3],8)\n",
      "\n",
      "print [ex0,ex1,ex2,ex3]\n",
      "print [extent[0], extent[1], extent[2], extent[3]]"
     ],
     "language": "python",
     "metadata": {},
     "outputs": [
      {
       "output_type": "stream",
       "stream": "stdout",
       "text": [
        "[12458535.95708269, 13788657.6362983, 6348695.64361026, 4993352.09622588]\n",
        "[12458535.957082685, 13788657.636298303, 6348695.643610263, 4993352.096225885]\n"
       ]
      }
     ],
     "prompt_number": 19
    },
    {
     "cell_type": "code",
     "collapsed": false,
     "input": [
      "import cStringIO\n",
      "from PIL import Image"
     ],
     "language": "python",
     "metadata": {},
     "outputs": [],
     "prompt_number": 31
    },
    {
     "cell_type": "raw",
     "metadata": {},
     "source": [
      "start python webserver, from folder of interest, e.g:\n",
      "D:\\GoogleChromeDownloads\\2015-19-01_WebsiteOL3_Rasdaman\\python -m SimpleHTTPServer"
     ]
    },
    {
     "cell_type": "code",
     "collapsed": false,
     "input": [
      "for j in range(0,365,8):#362,8):\n",
      "    \n",
      "    ds = gdal.Open(raster[j])\n",
      "    array = ds.ReadAsArray()\n",
      "    array = np.flipud(array)\n",
      "    array = np.ma.masked_array(array, array2.mask)\n",
      "    array = np.flipud(array)\n",
      "    #fig = plt.figure(figsize=[16,10])\n",
      "    fig = plt.imshow(array, cmap=phase, vmin=-0.4, vmax=0.4)\n",
      "    plt.axis('off')\n",
      "    fig.axes.get_xaxis().set_visible(False)\n",
      "    fig.axes.get_yaxis().set_visible(False)\n",
      "    outfolder = r'D:\\GoogleChromeDownloads\\2015-19-01_WebsiteOL3_Rasdaman\\sandbox\\website_parts\\website_image_layer\\imgs\\ndvi_IM//'\n",
      "    outpath = outfolder+'ndvi_IM_'+str(j+1).zfill(3)+'.png'\n",
      "    #print outpath    \n",
      "    #plt.savefig(outpath, bbox_inches='tight', pad_inches=0, dpi=200, transparent=True)\n",
      "    \n",
      "    # This bits is doing all the conversion compression and transparency shizzle    \n",
      "    ram = cStringIO.StringIO()    \n",
      "    plt.savefig(ram, bbox_inches='tight', pad_inches=0, dpi=200, transparent=True)\n",
      "    plt.close()    \n",
      "    ram.seek(0)\n",
      "    im = Image.open(ram)\n",
      "    im2 = im.convert('P', palette=Image.ADAPTIVE)    \n",
      "    outpath = outfolder+'ndvi_IM_'+str(j+1).zfill(3)+'.png'\n",
      "    im2.save(outpath, format='PNG', bits=8)    \n",
      "    print outpath    \n"
     ],
     "language": "python",
     "metadata": {},
     "outputs": [
      {
       "output_type": "stream",
       "stream": "stdout",
       "text": [
        "D:\\GoogleChromeDownloads\\2015-19-01_WebsiteOL3_Rasdaman\\sandbox\\website_parts\\website_image_layer\\imgs\\ndvi_IM//ndvi_IM_001.png\n",
        "D:\\GoogleChromeDownloads\\2015-19-01_WebsiteOL3_Rasdaman\\sandbox\\website_parts\\website_image_layer\\imgs\\ndvi_IM//ndvi_IM_009.png"
       ]
      },
      {
       "output_type": "stream",
       "stream": "stdout",
       "text": [
        "\n",
        "D:\\GoogleChromeDownloads\\2015-19-01_WebsiteOL3_Rasdaman\\sandbox\\website_parts\\website_image_layer\\imgs\\ndvi_IM//ndvi_IM_017.png"
       ]
      },
      {
       "output_type": "stream",
       "stream": "stdout",
       "text": [
        "\n",
        "D:\\GoogleChromeDownloads\\2015-19-01_WebsiteOL3_Rasdaman\\sandbox\\website_parts\\website_image_layer\\imgs\\ndvi_IM//ndvi_IM_025.png"
       ]
      },
      {
       "output_type": "stream",
       "stream": "stdout",
       "text": [
        "\n",
        "D:\\GoogleChromeDownloads\\2015-19-01_WebsiteOL3_Rasdaman\\sandbox\\website_parts\\website_image_layer\\imgs\\ndvi_IM//ndvi_IM_033.png"
       ]
      },
      {
       "output_type": "stream",
       "stream": "stdout",
       "text": [
        "\n",
        "D:\\GoogleChromeDownloads\\2015-19-01_WebsiteOL3_Rasdaman\\sandbox\\website_parts\\website_image_layer\\imgs\\ndvi_IM//ndvi_IM_041.png"
       ]
      },
      {
       "output_type": "stream",
       "stream": "stdout",
       "text": [
        "\n",
        "D:\\GoogleChromeDownloads\\2015-19-01_WebsiteOL3_Rasdaman\\sandbox\\website_parts\\website_image_layer\\imgs\\ndvi_IM//ndvi_IM_049.png"
       ]
      },
      {
       "output_type": "stream",
       "stream": "stdout",
       "text": [
        "\n",
        "D:\\GoogleChromeDownloads\\2015-19-01_WebsiteOL3_Rasdaman\\sandbox\\website_parts\\website_image_layer\\imgs\\ndvi_IM//ndvi_IM_057.png"
       ]
      },
      {
       "output_type": "stream",
       "stream": "stdout",
       "text": [
        "\n",
        "D:\\GoogleChromeDownloads\\2015-19-01_WebsiteOL3_Rasdaman\\sandbox\\website_parts\\website_image_layer\\imgs\\ndvi_IM//ndvi_IM_065.png"
       ]
      },
      {
       "output_type": "stream",
       "stream": "stdout",
       "text": [
        "\n",
        "D:\\GoogleChromeDownloads\\2015-19-01_WebsiteOL3_Rasdaman\\sandbox\\website_parts\\website_image_layer\\imgs\\ndvi_IM//ndvi_IM_073.png"
       ]
      },
      {
       "output_type": "stream",
       "stream": "stdout",
       "text": [
        "\n",
        "D:\\GoogleChromeDownloads\\2015-19-01_WebsiteOL3_Rasdaman\\sandbox\\website_parts\\website_image_layer\\imgs\\ndvi_IM//ndvi_IM_081.png"
       ]
      },
      {
       "output_type": "stream",
       "stream": "stdout",
       "text": [
        "\n",
        "D:\\GoogleChromeDownloads\\2015-19-01_WebsiteOL3_Rasdaman\\sandbox\\website_parts\\website_image_layer\\imgs\\ndvi_IM//ndvi_IM_089.png"
       ]
      },
      {
       "output_type": "stream",
       "stream": "stdout",
       "text": [
        "\n",
        "D:\\GoogleChromeDownloads\\2015-19-01_WebsiteOL3_Rasdaman\\sandbox\\website_parts\\website_image_layer\\imgs\\ndvi_IM//ndvi_IM_097.png"
       ]
      },
      {
       "output_type": "stream",
       "stream": "stdout",
       "text": [
        "\n",
        "D:\\GoogleChromeDownloads\\2015-19-01_WebsiteOL3_Rasdaman\\sandbox\\website_parts\\website_image_layer\\imgs\\ndvi_IM//ndvi_IM_105.png"
       ]
      },
      {
       "output_type": "stream",
       "stream": "stdout",
       "text": [
        "\n",
        "D:\\GoogleChromeDownloads\\2015-19-01_WebsiteOL3_Rasdaman\\sandbox\\website_parts\\website_image_layer\\imgs\\ndvi_IM//ndvi_IM_113.png"
       ]
      },
      {
       "output_type": "stream",
       "stream": "stdout",
       "text": [
        "\n",
        "D:\\GoogleChromeDownloads\\2015-19-01_WebsiteOL3_Rasdaman\\sandbox\\website_parts\\website_image_layer\\imgs\\ndvi_IM//ndvi_IM_121.png"
       ]
      },
      {
       "output_type": "stream",
       "stream": "stdout",
       "text": [
        "\n",
        "D:\\GoogleChromeDownloads\\2015-19-01_WebsiteOL3_Rasdaman\\sandbox\\website_parts\\website_image_layer\\imgs\\ndvi_IM//ndvi_IM_129.png"
       ]
      },
      {
       "output_type": "stream",
       "stream": "stdout",
       "text": [
        "\n",
        "D:\\GoogleChromeDownloads\\2015-19-01_WebsiteOL3_Rasdaman\\sandbox\\website_parts\\website_image_layer\\imgs\\ndvi_IM//ndvi_IM_137.png"
       ]
      },
      {
       "output_type": "stream",
       "stream": "stdout",
       "text": [
        "\n",
        "D:\\GoogleChromeDownloads\\2015-19-01_WebsiteOL3_Rasdaman\\sandbox\\website_parts\\website_image_layer\\imgs\\ndvi_IM//ndvi_IM_145.png"
       ]
      },
      {
       "output_type": "stream",
       "stream": "stdout",
       "text": [
        "\n",
        "D:\\GoogleChromeDownloads\\2015-19-01_WebsiteOL3_Rasdaman\\sandbox\\website_parts\\website_image_layer\\imgs\\ndvi_IM//ndvi_IM_153.png"
       ]
      },
      {
       "output_type": "stream",
       "stream": "stdout",
       "text": [
        "\n",
        "D:\\GoogleChromeDownloads\\2015-19-01_WebsiteOL3_Rasdaman\\sandbox\\website_parts\\website_image_layer\\imgs\\ndvi_IM//ndvi_IM_161.png"
       ]
      },
      {
       "output_type": "stream",
       "stream": "stdout",
       "text": [
        "\n",
        "D:\\GoogleChromeDownloads\\2015-19-01_WebsiteOL3_Rasdaman\\sandbox\\website_parts\\website_image_layer\\imgs\\ndvi_IM//ndvi_IM_169.png"
       ]
      },
      {
       "output_type": "stream",
       "stream": "stdout",
       "text": [
        "\n",
        "D:\\GoogleChromeDownloads\\2015-19-01_WebsiteOL3_Rasdaman\\sandbox\\website_parts\\website_image_layer\\imgs\\ndvi_IM//ndvi_IM_177.png"
       ]
      },
      {
       "output_type": "stream",
       "stream": "stdout",
       "text": [
        "\n",
        "D:\\GoogleChromeDownloads\\2015-19-01_WebsiteOL3_Rasdaman\\sandbox\\website_parts\\website_image_layer\\imgs\\ndvi_IM//ndvi_IM_185.png"
       ]
      },
      {
       "output_type": "stream",
       "stream": "stdout",
       "text": [
        "\n",
        "D:\\GoogleChromeDownloads\\2015-19-01_WebsiteOL3_Rasdaman\\sandbox\\website_parts\\website_image_layer\\imgs\\ndvi_IM//ndvi_IM_193.png"
       ]
      },
      {
       "output_type": "stream",
       "stream": "stdout",
       "text": [
        "\n",
        "D:\\GoogleChromeDownloads\\2015-19-01_WebsiteOL3_Rasdaman\\sandbox\\website_parts\\website_image_layer\\imgs\\ndvi_IM//ndvi_IM_201.png"
       ]
      },
      {
       "output_type": "stream",
       "stream": "stdout",
       "text": [
        "\n",
        "D:\\GoogleChromeDownloads\\2015-19-01_WebsiteOL3_Rasdaman\\sandbox\\website_parts\\website_image_layer\\imgs\\ndvi_IM//ndvi_IM_209.png"
       ]
      },
      {
       "output_type": "stream",
       "stream": "stdout",
       "text": [
        "\n",
        "D:\\GoogleChromeDownloads\\2015-19-01_WebsiteOL3_Rasdaman\\sandbox\\website_parts\\website_image_layer\\imgs\\ndvi_IM//ndvi_IM_217.png"
       ]
      },
      {
       "output_type": "stream",
       "stream": "stdout",
       "text": [
        "\n",
        "D:\\GoogleChromeDownloads\\2015-19-01_WebsiteOL3_Rasdaman\\sandbox\\website_parts\\website_image_layer\\imgs\\ndvi_IM//ndvi_IM_225.png"
       ]
      },
      {
       "output_type": "stream",
       "stream": "stdout",
       "text": [
        "\n",
        "D:\\GoogleChromeDownloads\\2015-19-01_WebsiteOL3_Rasdaman\\sandbox\\website_parts\\website_image_layer\\imgs\\ndvi_IM//ndvi_IM_233.png"
       ]
      },
      {
       "output_type": "stream",
       "stream": "stdout",
       "text": [
        "\n",
        "D:\\GoogleChromeDownloads\\2015-19-01_WebsiteOL3_Rasdaman\\sandbox\\website_parts\\website_image_layer\\imgs\\ndvi_IM//ndvi_IM_241.png"
       ]
      },
      {
       "output_type": "stream",
       "stream": "stdout",
       "text": [
        "\n",
        "D:\\GoogleChromeDownloads\\2015-19-01_WebsiteOL3_Rasdaman\\sandbox\\website_parts\\website_image_layer\\imgs\\ndvi_IM//ndvi_IM_249.png"
       ]
      },
      {
       "output_type": "stream",
       "stream": "stdout",
       "text": [
        "\n",
        "D:\\GoogleChromeDownloads\\2015-19-01_WebsiteOL3_Rasdaman\\sandbox\\website_parts\\website_image_layer\\imgs\\ndvi_IM//ndvi_IM_257.png"
       ]
      },
      {
       "output_type": "stream",
       "stream": "stdout",
       "text": [
        "\n",
        "D:\\GoogleChromeDownloads\\2015-19-01_WebsiteOL3_Rasdaman\\sandbox\\website_parts\\website_image_layer\\imgs\\ndvi_IM//ndvi_IM_265.png"
       ]
      },
      {
       "output_type": "stream",
       "stream": "stdout",
       "text": [
        "\n",
        "D:\\GoogleChromeDownloads\\2015-19-01_WebsiteOL3_Rasdaman\\sandbox\\website_parts\\website_image_layer\\imgs\\ndvi_IM//ndvi_IM_273.png"
       ]
      },
      {
       "output_type": "stream",
       "stream": "stdout",
       "text": [
        "\n",
        "D:\\GoogleChromeDownloads\\2015-19-01_WebsiteOL3_Rasdaman\\sandbox\\website_parts\\website_image_layer\\imgs\\ndvi_IM//ndvi_IM_281.png"
       ]
      },
      {
       "output_type": "stream",
       "stream": "stdout",
       "text": [
        "\n",
        "D:\\GoogleChromeDownloads\\2015-19-01_WebsiteOL3_Rasdaman\\sandbox\\website_parts\\website_image_layer\\imgs\\ndvi_IM//ndvi_IM_289.png"
       ]
      },
      {
       "output_type": "stream",
       "stream": "stdout",
       "text": [
        "\n",
        "D:\\GoogleChromeDownloads\\2015-19-01_WebsiteOL3_Rasdaman\\sandbox\\website_parts\\website_image_layer\\imgs\\ndvi_IM//ndvi_IM_297.png"
       ]
      },
      {
       "output_type": "stream",
       "stream": "stdout",
       "text": [
        "\n",
        "D:\\GoogleChromeDownloads\\2015-19-01_WebsiteOL3_Rasdaman\\sandbox\\website_parts\\website_image_layer\\imgs\\ndvi_IM//ndvi_IM_305.png"
       ]
      },
      {
       "output_type": "stream",
       "stream": "stdout",
       "text": [
        "\n",
        "D:\\GoogleChromeDownloads\\2015-19-01_WebsiteOL3_Rasdaman\\sandbox\\website_parts\\website_image_layer\\imgs\\ndvi_IM//ndvi_IM_313.png"
       ]
      },
      {
       "output_type": "stream",
       "stream": "stdout",
       "text": [
        "\n",
        "D:\\GoogleChromeDownloads\\2015-19-01_WebsiteOL3_Rasdaman\\sandbox\\website_parts\\website_image_layer\\imgs\\ndvi_IM//ndvi_IM_321.png"
       ]
      },
      {
       "output_type": "stream",
       "stream": "stdout",
       "text": [
        "\n",
        "D:\\GoogleChromeDownloads\\2015-19-01_WebsiteOL3_Rasdaman\\sandbox\\website_parts\\website_image_layer\\imgs\\ndvi_IM//ndvi_IM_329.png"
       ]
      },
      {
       "output_type": "stream",
       "stream": "stdout",
       "text": [
        "\n",
        "D:\\GoogleChromeDownloads\\2015-19-01_WebsiteOL3_Rasdaman\\sandbox\\website_parts\\website_image_layer\\imgs\\ndvi_IM//ndvi_IM_337.png"
       ]
      },
      {
       "output_type": "stream",
       "stream": "stdout",
       "text": [
        "\n",
        "D:\\GoogleChromeDownloads\\2015-19-01_WebsiteOL3_Rasdaman\\sandbox\\website_parts\\website_image_layer\\imgs\\ndvi_IM//ndvi_IM_345.png"
       ]
      },
      {
       "output_type": "stream",
       "stream": "stdout",
       "text": [
        "\n",
        "D:\\GoogleChromeDownloads\\2015-19-01_WebsiteOL3_Rasdaman\\sandbox\\website_parts\\website_image_layer\\imgs\\ndvi_IM//ndvi_IM_353.png"
       ]
      },
      {
       "output_type": "stream",
       "stream": "stdout",
       "text": [
        "\n",
        "D:\\GoogleChromeDownloads\\2015-19-01_WebsiteOL3_Rasdaman\\sandbox\\website_parts\\website_image_layer\\imgs\\ndvi_IM//ndvi_IM_361.png"
       ]
      },
      {
       "output_type": "stream",
       "stream": "stdout",
       "text": [
        "\n"
       ]
      }
     ],
     "prompt_number": 32
    },
    {
     "cell_type": "code",
     "collapsed": false,
     "input": [
      "im2.info"
     ],
     "language": "python",
     "metadata": {},
     "outputs": []
    },
    {
     "cell_type": "code",
     "collapsed": false,
     "input": [
      "img = Image.open(r'D:\\GoogleChromeDownloads\\2015-19-01_WebsiteOL3_Rasdaman\\sandbox\\website_parts\\website_image_layer\\imgs\\ndvi_IM//ndvi_IM_001ram.png')\n",
      "png_info = img.info"
     ],
     "language": "python",
     "metadata": {},
     "outputs": []
    },
    {
     "cell_type": "code",
     "collapsed": false,
     "input": [
      "png_info"
     ],
     "language": "python",
     "metadata": {},
     "outputs": []
    },
    {
     "cell_type": "code",
     "collapsed": false,
     "input": [],
     "language": "python",
     "metadata": {},
     "outputs": []
    },
    {
     "cell_type": "code",
     "collapsed": false,
     "input": [
      "for j in range(0,8,8):#362,8):\n",
      "    \n",
      "    ds = gdal.Open(raster[j])\n",
      "    array = ds.ReadAsArray()\n",
      "    array = np.flipud(array)\n",
      "    array = np.ma.masked_array(array, array2.mask)\n",
      "\n",
      "    fig = plt.figure(figsize=[16,10]) \n",
      "    ax = plt.subplot(1,1,1, projection=ccrs.PlateCarree())\n",
      "    ax.set_extent([ex0,ex1,ex2,ex3], ccrs.Geodetic())\n",
      "    #ax.coastlines(resolution='50m', color='black', linewidth=1)\n",
      "    #ax_gl = ax.gridlines(draw_labels=True, axes=0)\n",
      "    #ax_gl.ylabels_right = False\n",
      "    #ax_gl.xlabels_top = False\n",
      "    #ax.set_title('standardized anomaly 2009')\n",
      "    #ax.add_feature(OCEAN, facecolor='aqua', alpha='0.1')\n",
      "    #ax.add_feature(BORDERS, alpha='0.2')\n",
      "    #ax.add_feature(LAND, alpha='0.2')\n",
      "    #ax.coastlines(resolution='10m', color='black', linewidth=1)\n",
      "    ax.add_feature(BORDERS)\n",
      "    \n",
      "    im = ax.imshow(array, origin='upper', extent=img_extent, cmap=phase, vmin=-0.4, vmax=0.4)#, transform=ccrs.Mercator())\n",
      "    \n",
      "    #title = 'NDVI Standardized Anomaly 2009 DOY'+raster[j][-7:-4]\n",
      "    #plt.suptitle(title, y=0.98, fontsize=22)    \n",
      "    \n",
      "    #cax = fig.add_axes([0.182, 0.05, 0.661, 0.03]) # location of the legend\n",
      "    #ticks_ = [-0.4,-0.2,0,0.2,0.4]\n",
      "    #cb = fig.colorbar(im, cax=cax, ticks=ticks_, norm=norm, orientation='horizontal').set_label('NDVI difference')\n",
      "\n",
      "#     plt.subplots_adjust(left=None, bottom=None, right=None, top=None, wspace=None, hspace=None)\n",
      "    \n",
      "#     left  = 0.125  # the left side of the subplots of the figure\n",
      "#     right = 0.9    # the right side of the subplots of the figure\n",
      "#     bottom = 0.1   # the bottom of the subplots of the figure\n",
      "#     top = 0.9      # the top of the subplots of the figure\n",
      "#     wspace = 0.1   # the amount of width reserved for blank space between subplots\n",
      "#     hspace = 0.2   # the amount of height reserved for white space between subplots    \n",
      "\n",
      "    outPath = RasterFolderOut+raster[j][-14:-4]+'.png'\n",
      "\n",
      "    #plt.savefig(outPath, dpi=90)\n",
      "    print outPath\n",
      "    plt.show()\n",
      "    #plt.close(fig)\n",
      "    #fig.clf() "
     ],
     "language": "python",
     "metadata": {},
     "outputs": [
      {
       "ename": "MaskError",
       "evalue": "Mask and data not compatible: data size is 1023042, mask size is 1722.",
       "output_type": "pyerr",
       "traceback": [
        "\u001b[1;31m---------------------------------------------------------------------------\u001b[0m\n\u001b[1;31mMaskError\u001b[0m                                 Traceback (most recent call last)",
        "\u001b[1;32m<ipython-input-20-7095d2098a34>\u001b[0m in \u001b[0;36m<module>\u001b[1;34m()\u001b[0m\n\u001b[0;32m      4\u001b[0m     \u001b[0marray\u001b[0m \u001b[1;33m=\u001b[0m \u001b[0mds\u001b[0m\u001b[1;33m.\u001b[0m\u001b[0mReadAsArray\u001b[0m\u001b[1;33m(\u001b[0m\u001b[1;33m)\u001b[0m\u001b[1;33m\u001b[0m\u001b[0m\n\u001b[0;32m      5\u001b[0m     \u001b[0marray\u001b[0m \u001b[1;33m=\u001b[0m \u001b[0mnp\u001b[0m\u001b[1;33m.\u001b[0m\u001b[0mflipud\u001b[0m\u001b[1;33m(\u001b[0m\u001b[0marray\u001b[0m\u001b[1;33m)\u001b[0m\u001b[1;33m\u001b[0m\u001b[0m\n\u001b[1;32m----> 6\u001b[1;33m     \u001b[0marray\u001b[0m \u001b[1;33m=\u001b[0m \u001b[0mnp\u001b[0m\u001b[1;33m.\u001b[0m\u001b[0mma\u001b[0m\u001b[1;33m.\u001b[0m\u001b[0mmasked_array\u001b[0m\u001b[1;33m(\u001b[0m\u001b[0marray\u001b[0m\u001b[1;33m,\u001b[0m \u001b[0marray2\u001b[0m\u001b[1;33m.\u001b[0m\u001b[0mmask\u001b[0m\u001b[1;33m)\u001b[0m\u001b[1;33m\u001b[0m\u001b[0m\n\u001b[0m\u001b[0;32m      7\u001b[0m \u001b[1;33m\u001b[0m\u001b[0m\n\u001b[0;32m      8\u001b[0m     \u001b[0mfig\u001b[0m \u001b[1;33m=\u001b[0m \u001b[0mplt\u001b[0m\u001b[1;33m.\u001b[0m\u001b[0mfigure\u001b[0m\u001b[1;33m(\u001b[0m\u001b[0mfigsize\u001b[0m\u001b[1;33m=\u001b[0m\u001b[1;33m[\u001b[0m\u001b[1;36m16\u001b[0m\u001b[1;33m,\u001b[0m\u001b[1;36m10\u001b[0m\u001b[1;33m]\u001b[0m\u001b[1;33m)\u001b[0m\u001b[1;33m\u001b[0m\u001b[0m\n",
        "\u001b[1;32mD:\\Python27x64\\lib\\site-packages\\numpy\\ma\\core.pyc\u001b[0m in \u001b[0;36m__new__\u001b[1;34m(cls, data, mask, dtype, copy, subok, ndmin, fill_value, keep_mask, hard_mask, shrink, **options)\u001b[0m\n\u001b[0;32m   2717\u001b[0m                     \u001b[0mmsg\u001b[0m \u001b[1;33m=\u001b[0m \u001b[1;34m\"Mask and data not compatible: data size is %i, \"\u001b[0m \u001b[1;33m+\u001b[0m\u001b[0;31m \u001b[0m\u001b[0;31m\\\u001b[0m\u001b[1;33m\u001b[0m\u001b[0m\n\u001b[0;32m   2718\u001b[0m                           \u001b[1;34m\"mask size is %i.\"\u001b[0m\u001b[1;33m\u001b[0m\u001b[0m\n\u001b[1;32m-> 2719\u001b[1;33m                     \u001b[1;32mraise\u001b[0m \u001b[0mMaskError\u001b[0m\u001b[1;33m(\u001b[0m\u001b[0mmsg\u001b[0m \u001b[1;33m%\u001b[0m \u001b[1;33m(\u001b[0m\u001b[0mnd\u001b[0m\u001b[1;33m,\u001b[0m \u001b[0mnm\u001b[0m\u001b[1;33m)\u001b[0m\u001b[1;33m)\u001b[0m\u001b[1;33m\u001b[0m\u001b[0m\n\u001b[0m\u001b[0;32m   2720\u001b[0m                 \u001b[0mcopy\u001b[0m \u001b[1;33m=\u001b[0m \u001b[0mTrue\u001b[0m\u001b[1;33m\u001b[0m\u001b[0m\n\u001b[0;32m   2721\u001b[0m             \u001b[1;31m# Set the mask to the new value\u001b[0m\u001b[1;33m\u001b[0m\u001b[1;33m\u001b[0m\u001b[0m\n",
        "\u001b[1;31mMaskError\u001b[0m: Mask and data not compatible: data size is 1023042, mask size is 1722."
       ]
      }
     ],
     "prompt_number": 20
    },
    {
     "cell_type": "code",
     "collapsed": false,
     "input": [
      "proj = cartopy.crs.epsg(4326)"
     ],
     "language": "python",
     "metadata": {},
     "outputs": []
    },
    {
     "cell_type": "code",
     "collapsed": false,
     "input": [
      "cartopy.crs.Globe"
     ],
     "language": "python",
     "metadata": {},
     "outputs": []
    },
    {
     "cell_type": "code",
     "collapsed": false,
     "input": [
      "ccrs.Geodetic"
     ],
     "language": "python",
     "metadata": {},
     "outputs": []
    },
    {
     "cell_type": "code",
     "collapsed": false,
     "input": [
      "import cartopy.crs as ccrs\n",
      "from cartopy.io import srtm\n",
      "import matplotlib.pyplot as plt\n",
      "\n",
      "\n",
      "#def main():\n",
      "ax = plt.axes(projection=ccrs.PlateCarree())\n",
      "\n",
      "# Get the 1x1 degree SRTM tile for 12E, 47N\n",
      "elev, crs, extent = srtm.srtm_composite(12, 47, 1, 1)\n",
      "\n",
      "# Fill the gaps present in the elevation data\n",
      "#elev_filled = srtm.fill_gaps(elev, 15)\n",
      "\n",
      "# Add shading simulating the Sun at 10am (South-East)\n",
      "# and with a low angle (15 degrees above horizon)\n",
      "#shaded = srtm.add_shading(elev_filled, 135.0, 15.0)\n",
      "\n",
      "# The plot the result :\n",
      "plt.imshow(elev, extent=extent, transform=crs,\n",
      "           cmap='Greys', origin='lower')\n",
      "\n",
      "plt.title(\"SRTM Shaded Relief Map\")\n",
      "\n",
      "gl = ax.gridlines(draw_labels=True)\n",
      "gl.xlabels_top = False\n",
      "gl.ylabels_left = False\n",
      "\n",
      "plt.show()"
     ],
     "language": "python",
     "metadata": {},
     "outputs": []
    },
    {
     "cell_type": "code",
     "collapsed": false,
     "input": [
      "print crs"
     ],
     "language": "python",
     "metadata": {},
     "outputs": []
    },
    {
     "cell_type": "code",
     "collapsed": false,
     "input": [
      "ds.GetProjection()"
     ],
     "language": "python",
     "metadata": {},
     "outputs": []
    },
    {
     "cell_type": "code",
     "collapsed": false,
     "input": [
      "from pprint import pprint\n",
      "pprint (vars(crs))"
     ],
     "language": "python",
     "metadata": {},
     "outputs": []
    },
    {
     "cell_type": "code",
     "collapsed": false,
     "input": [
      "from pprint import pprint\n",
      "pprint (vars(crs.globe))"
     ],
     "language": "python",
     "metadata": {},
     "outputs": []
    },
    {
     "cell_type": "code",
     "collapsed": false,
     "input": [
      "ds.GetProjectionRef()"
     ],
     "language": "python",
     "metadata": {},
     "outputs": []
    },
    {
     "cell_type": "heading",
     "level": 1,
     "metadata": {},
     "source": [
      "From here its the NDVI 2008/2009 imagery"
     ]
    },
    {
     "cell_type": "markdown",
     "metadata": {},
     "source": [
      "Sort the raster in the folder based on the doy, necessary for iteration"
     ]
    },
    {
     "cell_type": "code",
     "collapsed": false,
     "input": [
      "raster_sorted = sorted(raster, key=lambda t: int(t[-7:-4]))"
     ],
     "language": "python",
     "metadata": {},
     "outputs": []
    },
    {
     "cell_type": "markdown",
     "metadata": {},
     "source": [
      "For all days in year with 8 step interval select corresponding raster, then select the corresponding raster of each year, create matplotlib using cartopy"
     ]
    },
    {
     "cell_type": "code",
     "collapsed": false,
     "input": [
      "for j in range(1,362,8):\n",
      "    doy = []\n",
      "    for i in raster_sorted:\n",
      "        if int(i[-7:-4]) == j:\n",
      "            doy.append(i)\n",
      "    for g in doy:    \n",
      "#         if int(g[-11:-7]) == 2001:\n",
      "#             img1 = g\n",
      "#         if int(g[-11:-7]) == 2002:\n",
      "#             img2 = g\n",
      "#         if int(g[-11:-7]) == 2003:\n",
      "#             img3 = g\n",
      "#         if int(g[-11:-7]) == 2004:\n",
      "#             img4 = g\n",
      "#         if int(g[-11:-7]) == 2005:\n",
      "#             img5 = g\n",
      "#         if int(g[-11:-7]) == 2006:\n",
      "#             img6 = g\n",
      "#         if int(g[-11:-7]) == 2007:\n",
      "#             img7 = g\n",
      "        if int(g[-11:-7]) == 2008:\n",
      "            img8 = g\n",
      "        if int(g[-11:-7]) == 2009:\n",
      "            img9 = g            \n",
      "#         if int(g[-11:-7]) == 2010:\n",
      "#             img10 = g\n",
      "#     ds1 = gdal.Open(img1)\n",
      "#     array1 = ds1.ReadAsArray()\n",
      "#     array1 = np.flipud(array1)\n",
      "\n",
      "#     ds2 = gdal.Open(img2)\n",
      "#     array2 = ds2.ReadAsArray()\n",
      "#     array2 = np.flipud(array2)    \n",
      "\n",
      "#     ds3 = gdal.Open(img3)\n",
      "#     array3 = ds3.ReadAsArray()\n",
      "#     array3 = np.flipud(array3)    \n",
      "\n",
      "#     ds4 = gdal.Open(img4)\n",
      "#     array4 = ds4.ReadAsArray()\n",
      "#     array4 = np.flipud(array4)\n",
      "\n",
      "#     ds5 = gdal.Open(img5)\n",
      "#     array5 = ds5.ReadAsArray()\n",
      "#     array5 = np.flipud(array5)\n",
      "\n",
      "#     ds6 = gdal.Open(img6)\n",
      "#     array6 = ds6.ReadAsArray()\n",
      "#     array6 = np.flipud(array6)\n",
      "\n",
      "#     ds7 = gdal.Open(img7)\n",
      "#     array7 = ds7.ReadAsArray()\n",
      "#     array7 = np.flipud(array7)\n",
      "\n",
      "    ds8 = gdal.Open(img8)\n",
      "    array8 = ds8.ReadAsArray()\n",
      "    array8 = np.flipud(array8)\n",
      "\n",
      "    ds9 = gdal.Open(img9)\n",
      "    array9 = ds9.ReadAsArray()\n",
      "    array9 = np.flipud(array9)    \n",
      "\n",
      "#     ds10 = gdal.Open(img10)\n",
      "#     array10 = ds10.ReadAsArray()\n",
      "#     array10 = np.flipud(array10)  \n",
      "    \n",
      "    fig = plt.figure(figsize=[16,10])\n",
      "    \n",
      "#     ax1 = plt.subplot(3,3,1, projection=ccrs.PlateCarree())\n",
      "#     ax1.set_extent([72, 136, 52, 17], ccrs.Geodetic())\n",
      "#     ax1.coastlines(resolution='50m', color='black', linewidth=1)\n",
      "#     ax1_gl = ax1.gridlines(draw_labels=True, axes=0)\n",
      "#     ax1_gl.ylabels_right = False\n",
      "#     ax1_gl.xlabels_top = False\n",
      "#     ax1_gl.xlabels_bottom = False\n",
      "#     ax1.set_title('2002')\n",
      "#     ax1.add_feature(cfeature.OCEAN, facecolor='aqua', alpha='0.1')\n",
      "#     ax1.add_feature(cfeature.BORDERS, alpha='0.2')\n",
      "    \n",
      "#     ax2 = plt.subplot(3,3,2, projection=ccrs.PlateCarree())\n",
      "#     ax2.set_extent([72, 136, 52, 17], ccrs.Geodetic())\n",
      "#     ax2.coastlines(resolution='50m', color='black', linewidth=1)\n",
      "#     ax2_gl = ax2.gridlines(draw_labels=False, axes=0)\n",
      "#     ax2.set_title('2003')\n",
      "#     ax2.add_feature(cfeature.OCEAN, facecolor='aqua', alpha='0.1')\n",
      "#     ax2.add_feature(cfeature.BORDERS, alpha='0.2')\n",
      "    \n",
      "#     ax3 = plt.subplot(3,3,3, projection=ccrs.PlateCarree())\n",
      "#     ax3.set_extent([72, 136, 52, 17], ccrs.Geodetic())\n",
      "#     ax3.coastlines(resolution='50m', color='black', linewidth=1)\n",
      "#     ax3_gl = ax3.gridlines(draw_labels=False, axes=0)\n",
      "#     ax3.set_title('2004')\n",
      "#     ax3.add_feature(cfeature.OCEAN, facecolor='aqua', alpha='0.1')\n",
      "#     ax3.add_feature(cfeature.BORDERS, alpha='0.2')\n",
      "    \n",
      "#     ax4 = plt.subplot(3,3,4, projection=ccrs.PlateCarree())\n",
      "#     ax4.set_extent([72, 136, 52, 17], ccrs.Geodetic())\n",
      "#     ax4.coastlines(resolution='50m', color='black', linewidth=1)\n",
      "#     ax4_gl = ax4.gridlines(draw_labels=True, axes=0)\n",
      "#     ax4_gl.ylabels_right = False\n",
      "#     ax4_gl.xlabels_top = False\n",
      "#     ax4_gl.xlabels_bottom = False\n",
      "#     ax4.set_title('2005')\n",
      "#     ax4.add_feature(cfeature.OCEAN, facecolor='aqua', alpha='0.1')\n",
      "#     ax4.add_feature(cfeature.BORDERS, alpha='0.2')\n",
      "    \n",
      "#     ax5 = plt.subplot(3,3,5, projection=ccrs.PlateCarree())\n",
      "#     ax5.set_extent([72, 136, 52, 17], ccrs.Geodetic())\n",
      "#     ax5.coastlines(resolution='50m', color='black', linewidth=1)\n",
      "#     ax5_gl = ax5.gridlines(draw_labels=False, axes=0)\n",
      "#     ax5.set_title('2006')\n",
      "#     ax5.add_feature(cfeature.OCEAN, facecolor='aqua', alpha='0.1')\n",
      "#     ax5.add_feature(cfeature.BORDERS, alpha='0.2')\n",
      "    \n",
      "#     ax6 = plt.subplot(3,3,6, projection=ccrs.PlateCarree())\n",
      "#     ax6.set_extent([72, 136, 52, 17], ccrs.Geodetic())\n",
      "#     ax6.coastlines(resolution='50m', color='black', linewidth=1)\n",
      "#     ax6_gl = ax6.gridlines(draw_labels=False, axes=0)\n",
      "#     ax6.set_title('2007')\n",
      "#     ax6.add_feature(cfeature.OCEAN, facecolor='aqua', alpha='0.1')\n",
      "#     ax6.add_feature(cfeature.BORDERS, alpha='0.2')\n",
      "    \n",
      "    ax7 = plt.subplot(1,2,1, projection=ccrs.PlateCarree())\n",
      "    ax7.set_extent([extent[0], extent[1], extent[2], extent[3]], ccrs.Geodetic())\n",
      "    ax7.coastlines(resolution='50m', color='black', linewidth=1)\n",
      "    ax7_gl = ax7.gridlines(draw_labels=True, axes=0)\n",
      "    ax7_gl.ylabels_right = False\n",
      "    ax7_gl.xlabels_top = False\n",
      "    ax7.set_title('2008')\n",
      "    ax7.add_feature(cfeature.OCEAN, facecolor='aqua', alpha='0.1')\n",
      "    ax7.add_feature(cfeature.BORDERS, alpha='0.2')\n",
      "    \n",
      "    ax8 = plt.subplot(1,2,2, projection=ccrs.PlateCarree())\n",
      "    ax8.set_extent([extent[0], extent[1], extent[2], extent[3]], ccrs.Geodetic())\n",
      "    ax8.coastlines(resolution='50m', color='black', linewidth=1)\n",
      "    ax8_gl = ax8.gridlines(draw_labels=True, axes=0)\n",
      "    ax8_gl.ylabels_right = False\n",
      "    ax8_gl.ylabels_left = False\n",
      "    ax8_gl.xlabels_top = False\n",
      "    ax8.set_title('2009')\n",
      "    ax8.add_feature(cfeature.OCEAN, facecolor='aqua', alpha='0.1')\n",
      "    ax8.add_feature(cfeature.BORDERS, alpha='0.2')\n",
      "    \n",
      "#     ax9 = plt.subplot(3,3,9, projection=ccrs.PlateCarree())\n",
      "#     ax9.set_extent([72, 136, 52, 17], ccrs.Geodetic())\n",
      "#     ax9.coastlines(resolution='50m', color='black', linewidth=1)\n",
      "#     ax9_gl = ax9.gridlines(draw_labels=True, axes=0)\n",
      "#     ax9_gl.ylabels_right = False\n",
      "#     ax9_gl.ylabels_left = False\n",
      "#     ax9_gl.xlabels_top = False\n",
      "#     ax9.set_title('2010')\n",
      "#     ax9.add_feature(cfeature.OCEAN, facecolor='aqua', alpha='0.1')\n",
      "#     ax9.add_feature(cfeature.BORDERS, alpha='0.2')\n",
      "    \n",
      "#     ax1.imshow(array2, origin='upper', extent=img_extent, cmap=cmap, norm=norm)#, transform=ccrs.Mercator())\n",
      "#     ax2.imshow(array3, origin='upper', extent=img_extent, cmap=cmap, norm=norm)#, transform=ccrs.Mercator())\n",
      "#     ax3.imshow(array4, origin='upper', extent=img_extent, cmap=cmap, norm=norm)#, transform=ccrs.Mercator())\n",
      "#     ax4.imshow(array5, origin='upper', extent=img_extent, cmap=cmap, norm=norm)#, transform=ccrs.Mercator())\n",
      "#     ax5.imshow(array6, origin='upper', extent=img_extent, cmap=cmap, norm=norm)#, transform=ccrs.Mercator())\n",
      "#     ax6.imshow(array7, origin='upper', extent=img_extent, cmap=cmap, norm=norm)#, transform=ccrs.Mercator())\n",
      "    ax7.imshow(array8, origin='upper', extent=img_extent, cmap=cmap, norm=norm)#, transform=ccrs.Mercator())\n",
      "    im = ax8.imshow(array9, origin='upper', extent=img_extent, cmap=cmap, norm=norm)#, transform=ccrs.Mercator())\n",
      "#     im = ax9.imshow(array10, origin='upper', extent=img_extent, cmap=cmap, norm=norm), transform=ccrs.Mercator())\n",
      "    \n",
      "    title = 'NVAI DOY'+g[-7:-4]\n",
      "    plt.suptitle(title, y=0.98, fontsize=22)    \n",
      "    \n",
      "    cax = fig.add_axes([0.15, 0.05, 0.7, 0.03]) # location of the legend\n",
      "    cb = fig.colorbar(im, cax=cax, ticks=[-1]+bounds+[1], norm=norm, extend='both', extendfrac='auto', orientation='horizontal').set_label('NDVI Difference')\n",
      "\n",
      "    plt.subplots_adjust(left=None, bottom=None, right=None, top=None, wspace=None, hspace=None)\n",
      "    \n",
      "    left  = 0.125  # the left side of the subplots of the figure\n",
      "    right = 0.9    # the right side of the subplots of the figure\n",
      "    bottom = 0.1   # the bottom of the subplots of the figure\n",
      "    top = 0.9      # the top of the subplots of the figure\n",
      "    wspace = 0.1   # the amount of width reserved for blank space between subplots\n",
      "    hspace = 0.2   # the amount of height reserved for white space between subplots\n",
      "\n",
      "\n",
      "    #plt.tight_layout()\n",
      "    outPath = r'D:\\Data\\NVAI_PNG//NVAI'+g[-7:-4]+'.png' # [-15:-4] original\n",
      "    print outPath\n",
      "    #fig.savefig(outPath, dpi=200)\n",
      "    #plt.savefig(outPath, dpi=200)\n",
      "    plt.show()\n",
      "    #plt.close(fig)\n",
      "    fig.clf() \n",
      "    #ax.cla()\n",
      "    doy = None"
     ],
     "language": "python",
     "metadata": {},
     "outputs": []
    },
    {
     "cell_type": "code",
     "collapsed": false,
     "input": [],
     "language": "python",
     "metadata": {},
     "outputs": []
    },
    {
     "cell_type": "code",
     "collapsed": false,
     "input": [],
     "language": "python",
     "metadata": {},
     "outputs": []
    },
    {
     "cell_type": "code",
     "collapsed": false,
     "input": [],
     "language": "python",
     "metadata": {},
     "outputs": []
    },
    {
     "cell_type": "code",
     "collapsed": false,
     "input": [
      "\n",
      "\n",
      "\n",
      "fig = plt.figure(figsize=[16,10])\n",
      "\n",
      "\n",
      "ax1 = plt.subplot(3,3,1, projection=ccrs.PlateCarree())\n",
      "ax1.set_extent([72, 136, 52, 17], ccrs.Geodetic())\n",
      "ax1.coastlines(resolution='50m', color='black', linewidth=1)\n",
      "ax1_gl = ax1.gridlines(draw_labels=True, axes=0)\n",
      "ax1_gl.ylabels_right = False\n",
      "ax1_gl.xlabels_top = False\n",
      "ax1_gl.xlabels_bottom = False\n",
      "ax1.set_title('2001')\n",
      "ax1.add_feature(cfeature.OCEAN, facecolor='aqua', alpha='0.1')\n",
      "ax1.add_feature(cfeature.BORDERS, alpha='0.2')\n",
      "\n",
      "ax2 = plt.subplot(3,3,2, projection=ccrs.PlateCarree())\n",
      "ax2.set_extent([72, 136, 52, 17], ccrs.Geodetic())\n",
      "ax2.coastlines(resolution='50m', color='black', linewidth=1)\n",
      "ax2_gl = ax2.gridlines(draw_labels=False, axes=0)\n",
      "ax2.set_title('2002')\n",
      "ax2.add_feature(cfeature.OCEAN, facecolor='aqua', alpha='0.1')\n",
      "ax2.add_feature(cfeature.BORDERS, alpha='0.2')\n",
      "\n",
      "ax3 = plt.subplot(3,3,3, projection=ccrs.PlateCarree())\n",
      "ax3.set_extent([72, 136, 52, 17], ccrs.Geodetic())\n",
      "ax3.coastlines(resolution='50m', color='black', linewidth=1)\n",
      "ax3_gl = ax3.gridlines(draw_labels=False, axes=0)\n",
      "ax3.set_title('2003')\n",
      "ax3.add_feature(cfeature.OCEAN, facecolor='aqua', alpha='0.1')\n",
      "ax3.add_feature(cfeature.BORDERS, alpha='0.2')\n",
      "\n",
      "ax4 = plt.subplot(3,3,4, projection=ccrs.PlateCarree())\n",
      "ax4.set_extent([72, 136, 52, 17], ccrs.Geodetic())\n",
      "ax4.coastlines(resolution='50m', color='black', linewidth=1)\n",
      "ax4_gl = ax4.gridlines(draw_labels=True, axes=0)\n",
      "ax4_gl.ylabels_right = False\n",
      "ax4_gl.xlabels_top = False\n",
      "ax4_gl.xlabels_bottom = False\n",
      "ax4.set_title('2004')\n",
      "ax4.add_feature(cfeature.OCEAN, facecolor='aqua', alpha='0.1')\n",
      "ax4.add_feature(cfeature.BORDERS, alpha='0.2')\n",
      "\n",
      "ax5 = plt.subplot(3,3,5, projection=ccrs.PlateCarree())\n",
      "ax5.set_extent([72, 136, 52, 17], ccrs.Geodetic())\n",
      "ax5.coastlines(resolution='50m', color='black', linewidth=1)\n",
      "ax5_gl = ax5.gridlines(draw_labels=False, axes=0)\n",
      "ax5.set_title('2005')\n",
      "ax5.add_feature(cfeature.OCEAN, facecolor='aqua', alpha='0.1')\n",
      "ax5.add_feature(cfeature.BORDERS, alpha='0.2')\n",
      "\n",
      "ax6 = plt.subplot(3,3,6, projection=ccrs.PlateCarree())\n",
      "ax6.set_extent([72, 136, 52, 17], ccrs.Geodetic())\n",
      "ax6.coastlines(resolution='50m', color='black', linewidth=1)\n",
      "ax6_gl = ax6.gridlines(draw_labels=False, axes=0)\n",
      "ax6.set_title('2006')\n",
      "ax6.add_feature(cfeature.OCEAN, facecolor='aqua', alpha='0.1')\n",
      "ax6.add_feature(cfeature.BORDERS, alpha='0.2')\n",
      "\n",
      "ax7 = plt.subplot(3,3,7, projection=ccrs.PlateCarree())\n",
      "ax7.set_extent([72, 136, 52, 17], ccrs.Geodetic())\n",
      "ax7.coastlines(resolution='50m', color='black', linewidth=1)\n",
      "ax7_gl = ax7.gridlines(draw_labels=True, axes=0)\n",
      "ax7_gl.ylabels_right = False\n",
      "ax7_gl.xlabels_top = False\n",
      "ax7.set_title('2007')\n",
      "ax7.add_feature(cfeature.OCEAN, facecolor='aqua', alpha='0.1')\n",
      "ax7.add_feature(cfeature.BORDERS, alpha='0.2')\n",
      "\n",
      "ax8 = plt.subplot(3,3,8, projection=ccrs.PlateCarree())\n",
      "ax8.set_extent([72, 136, 52, 17], ccrs.Geodetic())\n",
      "ax8.coastlines(resolution='50m', color='black', linewidth=1)\n",
      "ax8_gl = ax8.gridlines(draw_labels=True, axes=0)\n",
      "ax8_gl.ylabels_right = False\n",
      "ax8_gl.ylabels_left = False\n",
      "ax8_gl.xlabels_top = False\n",
      "ax8.set_title('2008')\n",
      "ax8.add_feature(cfeature.OCEAN, facecolor='aqua', alpha='0.1')\n",
      "ax8.add_feature(cfeature.BORDERS, alpha='0.2')\n",
      "\n",
      "ax9 = plt.subplot(3,3,9, projection=ccrs.PlateCarree())\n",
      "ax9.set_extent([72, 136, 52, 17], ccrs.Geodetic())\n",
      "ax9.coastlines(resolution='50m', color='black', linewidth=1)\n",
      "ax9_gl = ax9.gridlines(draw_labels=True, axes=0)\n",
      "ax9_gl.ylabels_right = False\n",
      "ax9_gl.ylabels_left = False\n",
      "ax9_gl.xlabels_top = False\n",
      "ax9.set_title('2009')\n",
      "ax9.add_feature(cfeature.OCEAN, facecolor='aqua', alpha='0.1')\n",
      "ax9.add_feature(cfeature.BORDERS, alpha='0.2')\n",
      "\n",
      "#ax9.text(0.5, 0.5, 'Text centered at (0.5, 0.5)\\nin data coordinates.', fontsize=14)\n",
      "\n",
      "\n",
      "\n",
      "#ax1.imshow(img, origin='upper', extent=img_extent, cmap=cmap, norm=norm)#, transform=ccrs.Mercator())\n",
      "#ax2.imshow(img, origin='upper', extent=img_extent, cmap=cmap, norm=norm)#, transform=ccrs.Mercator())\n",
      "#ax3.imshow(img, origin='upper', extent=img_extent, cmap=cmap, norm=norm)#, transform=ccrs.Mercator())\n",
      "#ax4.imshow(img, origin='upper', extent=img_extent, cmap=cmap, norm=norm)#, transform=ccrs.Mercator())\n",
      "#ax5.imshow(img, origin='upper', extent=img_extent, cmap=cmap, norm=norm)#, transform=ccrs.Mercator())\n",
      "#ax6.imshow(img, origin='upper', extent=img_extent, cmap=cmap, norm=norm)#, transform=ccrs.Mercator())\n",
      "#ax7.imshow(img, origin='upper', extent=img_extent, cmap=cmap, norm=norm)#, transform=ccrs.Mercator())\n",
      "#ax8.imshow(img, origin='upper', extent=img_extent, cmap=cmap, norm=norm)#, transform=ccrs.Mercator())\n",
      "im = ax9.imshow(img, origin='upper', extent=img_extent, cmap=cmap, norm=norm)#, transform=ccrs.Mercator())\n",
      "title = 'NDVI Anomaly DOY'+rasterBase[-7:-4]\n",
      "plt.suptitle(title, y=0.98, fontsize=22)\n",
      "\n",
      "\n",
      "\n",
      "\n",
      "\n",
      "\n",
      "cax = fig.add_axes([0.15, 0.05, 0.7, 0.03])\n",
      "cb = fig.colorbar(im, cax=cax, ticks=[-1]+bounds+[1], norm=norm, extend='both', extendfrac='auto', orientation='horizontal').set_label('NDVI Difference')\n",
      "\n",
      "\n",
      "outPath = r'D:\\Data\\NDVIanomalytimeseriesPNG//__TEST.png' # [-15:-4] original\n",
      "print outPath\n",
      "fig.savefig(outPath, dpi=200)\n"
     ],
     "language": "python",
     "metadata": {},
     "outputs": []
    },
    {
     "cell_type": "code",
     "collapsed": false,
     "input": [
      "import cartopy \n",
      "# Set up a standard map for latlon data.\n",
      "#geo_axes = pyplot.axes(projection=cartopy.crs.PlateCarree())\n",
      "\n",
      "# Set up an OSGB map.\n",
      "geo_axes = pyplot.subplot(2, 2, 1, projection=cartopy.crs.OSGB())"
     ],
     "language": "python",
     "metadata": {},
     "outputs": []
    },
    {
     "cell_type": "code",
     "collapsed": false,
     "input": [
      "fig = plt.figure()\n",
      "# plot 1\n",
      "\n",
      "ax1\n",
      "ax1 = plt.axes(projection=ccrs.PlateCarree())\n",
      "\n",
      "ax1.set_extent([72, 136, 52, 17], ccrs.Geodetic())\n",
      "ax1.coastlines(resolution='50m', color='black', linewidth=1)\n",
      "\n",
      "ax1.gridlines(draw_labels=True, axes=0)\n",
      "ax1.add_feature(cfeature.OCEAN, facecolor='aqua', alpha='0.1')\n",
      "ax1.add_feature(cfeature.BORDERS, alpha='0.2')\n",
      "\n",
      "\n",
      "#ax1 = fig.add_subplot(3, 3, 1)\n",
      "ax2 = fig.add_subplot(3, 3, 2)\n",
      "ax3 = fig.add_subplot(3, 3, 3)\n",
      "ax4 = fig.add_subplot(3, 3, 4)\n",
      "ax5 = fig.add_subplot(3, 3, 5)\n",
      "ax6 = fig.add_subplot(3, 3, 6)\n",
      "ax7 = fig.add_subplot(3, 3, 7)\n",
      "ax8 = fig.add_subplot(3, 3, 8)\n",
      "ax9 = fig.add_subplot(3, 3, 9)\n",
      "plt.tight_layout()"
     ],
     "language": "python",
     "metadata": {},
     "outputs": []
    },
    {
     "cell_type": "code",
     "collapsed": false,
     "input": [],
     "language": "python",
     "metadata": {},
     "outputs": []
    }
   ],
   "metadata": {}
  }
 ]
}