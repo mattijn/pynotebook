{
 "metadata": {
  "name": "",
  "signature": "sha256:2ab4d99cfd12a41ec24eaca401f7e702e478e9da14a0772c587279c72bccc962"
 },
 "nbformat": 3,
 "nbformat_minor": 0,
 "worksheets": [
  {
   "cells": [
    {
     "cell_type": "code",
     "collapsed": false,
     "input": [
      "from pywps.Process import WPSProcess \n",
      "import urllib\n",
      "from datetime import datetime\n",
      "from lxml import etree\n",
      "import pydap\n",
      "from pydap.client import open_url\n",
      "import logging"
     ],
     "language": "python",
     "metadata": {},
     "outputs": []
    },
    {
     "cell_type": "code",
     "collapsed": false,
     "input": [
      "def metadata_rsdm(CoverageName):\n",
      "    \"\"\"\n",
      "    Returns the Capabilities of a coverage.\n",
      "    \n",
      "    In:  \n",
      "    CoverageName : Name of the coverage ID in RASDAMAN\n",
      "    \n",
      "    Out:\n",
      "    from_date : First date of Coverage\n",
      "    end_date  : Last date of Coverage\n",
      "    temp_resolution : Temporal resolution\n",
      "    spatial_resolution : Spatial resolution\n",
      "    lonmin    : Longitude min\n",
      "    latmin    : Latitude min\n",
      "    lonmax    : Longitude max\n",
      "    latmax    : Latitude max\n",
      "    \"\"\"\n",
      "    endpoint='http://159.226.117.95:8080/rasdaman/ows'\n",
      "    field={}\n",
      "    field['SERVICE']='WCS'\n",
      "    field['VERSION']='2.0.1'\n",
      "    field['REQUEST']='DescribeCoverage'\n",
      "    field['COVERAGEID']=CoverageName#'modis_13c1_cov'#'trmm_3b42_coverage_1'\n",
      "    url_values = urllib.urlencode(field,doseq=True)\n",
      "    full_url = endpoint + '?' + url_values\n",
      "    data = urllib.urlopen(full_url).read()\n",
      "    root = etree.fromstring(data)\n",
      "\n",
      "    lc = root.find(\".//{http://www.opengis.net/gml/3.2}lowerCorner\").text\n",
      "    uc = root.find(\".//{http://www.opengis.net/gml/3.2}upperCorner\").text\n",
      "    start_date=int((lc.split(' '))[2])\n",
      "    end_date=int((uc.split(' '))[2])\n",
      "\n",
      "    # CONVERT DATES from_date, to_date\n",
      "    start=datetime.fromtimestamp((start_date-(datetime(1970,1,1)-datetime(1601,1,1)).days)*24*60*60)\n",
      "    end=datetime.fromtimestamp((end_date-(datetime(1970,1,1)-datetime(1601,1,1)).days)*24*60*60)\n",
      "    \n",
      "    from_date = str(start.year)+\"-\"+str(start.month).zfill(2)+\"-\"+str(start.day).zfill(2)\n",
      "    to_date = str(end.year)+\"-\"+str(end.month).zfill(2)+\"-\"+str(end.day).zfill(2)\n",
      "    \n",
      "    # GET BBOX lonmin, latmin, lonmax, latmax\n",
      "    lonmin = str((lc.split(' '))[1])\n",
      "    latmin = str((lc.split(' '))[0])\n",
      "    lonmax = str((uc.split(' '))[1])\n",
      "    latmax = str((uc.split(' '))[0])\n",
      "    \n",
      "    # GET RESOLUTION temp_resolution, spatial_resolution\n",
      "    temp_resolution = str((root[0][3][0][5].text).split(' ')[2]) + 'd'\n",
      "    spatial_resolution = str((root[0][3][0][3].text).split(' ')[1]) + 'deg'\n",
      "    out = [from_date, to_date, temp_resolution, lonmin, latmin, lonmax, latmax, spatial_resolution]\n",
      "    return out"
     ],
     "language": "python",
     "metadata": {},
     "outputs": [],
     "prompt_number": 122
    },
    {
     "cell_type": "code",
     "collapsed": false,
     "input": [
      "def metadata_opendap_gpcp():\n",
      "    opendap_url_ltm='http://www.esrl.noaa.gov/psd/thredds/dodsC/Datasets/gpcp/precip.mon.ltm.nc'\n",
      "    opendap_url_mon='http://www.esrl.noaa.gov/psd/thredds/dodsC/Datasets/gpcp/precip.mon.mean.nc'\n",
      "    \n",
      "    # open opendap connection and request the avaialable time + lon/lat\n",
      "    dataset_mon = open_url(opendap_url_mon)\n",
      "    time=dataset_mon.time[:]\n",
      "    lat=dataset_mon.lat[:]\n",
      "    lon=dataset_mon.lon[:]    \n",
      "    \n",
      "    # CONVERT DATES from_date, to_date\n",
      "    start_date = time[0]\n",
      "    end_date = time[-1]\n",
      "    start=datetime.fromtimestamp((start_date-(datetime(1970,1,1)-datetime(1800,1,1)).days)*24*60*60)\n",
      "    end=datetime.fromtimestamp((end_date-(datetime(1970,1,1)-datetime(1800,1,1)).days)*24*60*60)    \n",
      "    \n",
      "    from_date = str(start.year)+\"-\"+str(start.month).zfill(2)+\"-\"+str(start.day).zfill(2)\n",
      "    to_date = str(end.year)+\"-\"+str(end.month).zfill(2)+\"-\"+str(end.day).zfill(2)\n",
      "    \n",
      "    # GET BBOX lonmin, latmin, lonmax, latmax\n",
      "    lonmin = str(lon[0])\n",
      "    latmin = str(lat[0])\n",
      "    lonmax = str(lon[-1])\n",
      "    latmax = str(lat[-1])\n",
      "    \n",
      "    # GET RESOLUTION temp_resolution, spatial_resolution\n",
      "    temp_resolution = str(1) + 'm'\n",
      "    spatial_resolution = str(lon[1]-lon[0]) + 'deg'\n",
      "    return from_date, to_date, temp_resolution, lonmin, latmin, lonmax, latmax, spatial_resolution    "
     ],
     "language": "python",
     "metadata": {},
     "outputs": [],
     "prompt_number": 113
    },
    {
     "cell_type": "code",
     "collapsed": false,
     "input": [
      "class Process(WPSProcess):\n",
      "\n",
      "\n",
      "    def __init__(self):\n",
      "\n",
      "        ##\n",
      "        # Process initialization\n",
      "        WPSProcess.__init__(self,\n",
      "            identifier = \"WPS_METADATA\",\n",
      "            title=\"Metadata of the available coverage\",\n",
      "            abstract=\"\"\"Module to get all metadata of the coverages included in the system\"\"\",\n",
      "            version = \"1.0\",\n",
      "            storeSupported = True,\n",
      "            statusSupported = True)\n",
      "\n",
      "        ##\n",
      "        # Adding process inputs\n",
      "        ##\n",
      "\n",
      "        ##\n",
      "        # Adding process outputs\n",
      "\n",
      "        self.modis_13c1_cov_Out = self.addLiteralOutput(identifier=\"modis_13c1_cov\",\n",
      "                title=\"metadata modis_13c1_cov\")\n",
      "\n",
      "        self.modis_11c2_cov_Out = self.addLiteralOutput(identifier=\"modis_11c2_cov\",\n",
      "                title=\"metadata modis_11c2_cov\")\n",
      "        \n",
      "        self.trmm_3b42_coverage_1_Out = self.addLiteralOutput(identifier=\"trmm_3b42_coverage_1\",\n",
      "                title=\"metadata trmm_3b42_coverage_1\")\n",
      "        \n",
      "        self.gpcp_Out = self.addLiteralOutput(identifier=\"gpcp\",\n",
      "                title=\"metadata gpcp\")        \n",
      "\n",
      "\n",
      "    ##\n",
      "    # Execution part of the process\n",
      "    def execute(self):\n",
      "        \n",
      "        modis_13c1_cov = metadata_rsdm('modis_13c1_cov')\n",
      "        modis_11c2_cov = metadata_rsdm('modis_11c2_cov')\n",
      "        trmm_3b42_coverage_1 = metadata_rsdm('trmm_3b42_coverage_1')\n",
      "        gpcp = metadata_opendap_gpcp()\n",
      "\n",
      "\n",
      "        self.modis_13c1_cov_Out.setValue( modis_13c1_cov )\n",
      "        self.modis_11c2_cov_Out.setValue( modis_11c2_cov )\n",
      "        self.trmm_3b42_coverage_1_Out.setValue( trmm_3b42_coverage_1 )\n",
      "        self.gpcp_Out.setValue( gpcp )        \n",
      "        return"
     ],
     "language": "python",
     "metadata": {},
     "outputs": []
    },
    {
     "cell_type": "code",
     "collapsed": false,
     "input": [
      "modis_13c1_cov = metadata_rsdm('modis_13c1_cov')\n",
      "modis_11c2_cov = metadata_rsdm('modis_11c2_cov')\n",
      "trmm_3b42_coverage_1 = metadata_rsdm('trmm_3b42_coverage_1')\n",
      "#gpcp = metadata_opendap_gpcp()"
     ],
     "language": "python",
     "metadata": {},
     "outputs": [],
     "prompt_number": 123
    },
    {
     "cell_type": "code",
     "collapsed": false,
     "input": [
      "modis_13c1_cov, modis_11c2_cov, trmm_3b42_coverage_1#, gpcp"
     ],
     "language": "python",
     "metadata": {},
     "outputs": [
      {
       "metadata": {},
       "output_type": "pyout",
       "prompt_number": 129,
       "text": [
        "(['2000-02-14', '2015-01-22', '16d', '-180', '-90', '180', '90', '0.05deg'],\n",
        " ['2000-03-07', '2013-08-18', '16d', '-180', '-90', '180', '90', '0.05deg'],\n",
        " ['2001-01-02',\n",
        "  '2013-01-02',\n",
        "  '1d',\n",
        "  '-179.875',\n",
        "  '-50.125',\n",
        "  '180.125',\n",
        "  '49.875',\n",
        "  '0.25deg'])"
       ]
      }
     ],
     "prompt_number": 129
    },
    {
     "cell_type": "code",
     "collapsed": false,
     "input": [
      "str(gpcp)"
     ],
     "language": "python",
     "metadata": {},
     "outputs": [
      {
       "metadata": {},
       "output_type": "pyout",
       "prompt_number": 119,
       "text": [
        "\"('1979-01-01', '2015-04-01', '1m', '1.25', '88.75', '358.75', '-88.75', '2.5deg')\""
       ]
      }
     ],
     "prompt_number": 119
    },
    {
     "cell_type": "code",
     "collapsed": false,
     "input": [
      "lon[1]-lon[0]"
     ],
     "language": "python",
     "metadata": {},
     "outputs": [
      {
       "metadata": {},
       "output_type": "pyout",
       "prompt_number": 110,
       "text": [
        "2.5"
       ]
      }
     ],
     "prompt_number": 110
    },
    {
     "cell_type": "code",
     "collapsed": false,
     "input": [
      "import csv"
     ],
     "language": "python",
     "metadata": {},
     "outputs": [],
     "prompt_number": 127
    },
    {
     "cell_type": "code",
     "collapsed": false,
     "input": [
      "csv.writer(modis_13c1_cov)"
     ],
     "language": "python",
     "metadata": {},
     "outputs": [
      {
       "ename": "TypeError",
       "evalue": "argument 1 must have a \"write\" method",
       "output_type": "pyerr",
       "traceback": [
        "\u001b[1;31m---------------------------------------------------------------------------\u001b[0m\n\u001b[1;31mTypeError\u001b[0m                                 Traceback (most recent call last)",
        "\u001b[1;32m<ipython-input-130-b5313fd2321e>\u001b[0m in \u001b[0;36m<module>\u001b[1;34m()\u001b[0m\n\u001b[1;32m----> 1\u001b[1;33m \u001b[0mcsv\u001b[0m\u001b[1;33m.\u001b[0m\u001b[0mwriter\u001b[0m\u001b[1;33m(\u001b[0m\u001b[0mmodis_13c1_cov\u001b[0m\u001b[1;33m)\u001b[0m\u001b[1;33m\u001b[0m\u001b[0m\n\u001b[0m",
        "\u001b[1;31mTypeError\u001b[0m: argument 1 must have a \"write\" method"
       ]
      }
     ],
     "prompt_number": 130
    },
    {
     "cell_type": "code",
     "collapsed": false,
     "input": [
      "modis_13c1_cov."
     ],
     "language": "python",
     "metadata": {},
     "outputs": [
      {
       "metadata": {},
       "output_type": "pyout",
       "prompt_number": 103,
       "text": [
        "array([ 88.75,  86.25,  83.75,  81.25,  78.75,  76.25,  73.75,  71.25,\n",
        "        68.75,  66.25,  63.75,  61.25,  58.75,  56.25,  53.75,  51.25,\n",
        "        48.75,  46.25,  43.75,  41.25,  38.75,  36.25,  33.75,  31.25,\n",
        "        28.75,  26.25,  23.75,  21.25,  18.75,  16.25,  13.75,  11.25,\n",
        "         8.75,   6.25,   3.75,   1.25,  -1.25,  -3.75,  -6.25,  -8.75,\n",
        "       -11.25, -13.75, -16.25, -18.75, -21.25, -23.75, -26.25, -28.75,\n",
        "       -31.25, -33.75, -36.25, -38.75, -41.25, -43.75, -46.25, -48.75,\n",
        "       -51.25, -53.75, -56.25, -58.75, -61.25, -63.75, -66.25, -68.75,\n",
        "       -71.25, -73.75, -76.25, -78.75, -81.25, -83.75, -86.25, -88.75], dtype=float32)"
       ]
      }
     ],
     "prompt_number": 103
    },
    {
     "cell_type": "code",
     "collapsed": false,
     "input": [],
     "language": "python",
     "metadata": {},
     "outputs": []
    }
   ],
   "metadata": {}
  }
 ]
}