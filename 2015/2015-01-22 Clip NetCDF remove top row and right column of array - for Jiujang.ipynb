{
 "metadata": {
  "name": "",
  "signature": "sha256:e284a3b39d5fe96af1e8208049633af37248f25415ad3ec21fc1ccec521bc093"
 },
 "nbformat": 3,
 "nbformat_minor": 0,
 "worksheets": [
  {
   "cells": [
    {
     "cell_type": "code",
     "collapsed": false,
     "input": [
      "%matplotlib inline\n",
      "from osgeo import gdal\n",
      "import numpy as np\n",
      "import pandas as pd\n",
      "import scipy as sp\n",
      "import matplotlib.pyplot as plt\n",
      "from osgeo import gdal, ogr\n",
      "import sys\n",
      "import subprocess as sp\n",
      "import os\n",
      "from osgeo import gdal\n",
      "from osgeo.gdalconst import *\n",
      "gdal.AllRegister()"
     ],
     "language": "python",
     "metadata": {},
     "outputs": [],
     "prompt_number": 1
    },
    {
     "cell_type": "code",
     "collapsed": false,
     "input": [
      "def OpenRaster(filepath, band=1):\n",
      "    \"\"\"\n",
      "    In:\n",
      "    filepath = path to file\n",
      "    band     = 1\n",
      "\n",
      "    Return:\n",
      "    raster   = raster info\n",
      "    array    = numpy array\n",
      "    extent   = extent info\n",
      "    \"\"\"\n",
      "    raster = gdal.Open(filepath, gdal.GA_ReadOnly)\n",
      "    band = raster.GetRasterBand(band)\n",
      "    array = band.ReadAsArray()\n",
      "    extent = raster.GetGeoTransform()\n",
      "    return raster, array, extent\n",
      "\n",
      "def saveRaster(path, array, dsSource, datatype=3, formatraster=\"GTiff\", nan=None): \n",
      "    \"\"\"\n",
      "    Datatypes:\n",
      "    unknown = 0\n",
      "    byte = 1\n",
      "    unsigned int16 = 2\n",
      "    signed int16 = 3\n",
      "    unsigned int32 = 4\n",
      "    signed int32 = 5\n",
      "    float32 = 6\n",
      "    float64 = 7\n",
      "    complex int16 = 8\n",
      "    complex int32 = 9\n",
      "    complex float32 = 10\n",
      "    complex float64 = 11\n",
      "    float32 = 6, \n",
      "    signed int = 3\n",
      "    \n",
      "    Formatraster:\n",
      "    GeoTIFF = GTiff\n",
      "    Erdas = HFA (output = .img)\n",
      "    OGC web map service = WMS\n",
      "    png = PNG\n",
      "    \"\"\"\n",
      "    # Set Driver\n",
      "    format_ = formatraster #save as format\n",
      "    driver = gdal.GetDriverByName( format_ )\n",
      "    driver.Register()\n",
      "    \n",
      "    # Set Metadata for Raster output\n",
      "    cols = dsSource.RasterXSize\n",
      "    rows = dsSource.RasterYSize\n",
      "    bands = dsSource.RasterCount\n",
      "    datatype = datatype#band.DataType\n",
      "    \n",
      "    # Set Projection for Raster\n",
      "    outDataset = driver.Create(path, cols, rows, bands, datatype)\n",
      "    geoTransform = dsSource.GetGeoTransform()\n",
      "    outDataset.SetGeoTransform(geoTransform)\n",
      "    proj = dsSource.GetProjection()\n",
      "    outDataset.SetProjection(proj)\n",
      "    \n",
      "    if bands > 1:\n",
      "        for i in range(bands):\n",
      "            # Write output to band 1 of new Raster and write NaN value\n",
      "            outBand = outDataset.GetRasterBand(i+1)\n",
      "            if nan != None:\n",
      "                outBand.SetNoDataValue(nan)\n",
      "            outBand.WriteArray(array[i]) #save input array\n",
      "            #outBand.WriteArray(dem)\n",
      "    else:\n",
      "        outBand = outDataset.GetRasterBand(bands)        \n",
      "        if nan != None:\n",
      "            outBand.SetNoDataValue(nan)        \n",
      "        outBand.WriteArray(array) #save input array            \n",
      "    \n",
      "    # Close and finalise newly created Raster\n",
      "    #F_M01 = None\n",
      "    outBand = None\n",
      "    proj = None\n",
      "    geoTransform = None\n",
      "    outDataset = None\n",
      "    driver = None\n",
      "    datatype = None\n",
      "    bands = None\n",
      "    rows = None\n",
      "    cols = None\n",
      "    driver = None\n",
      "    array = None"
     ],
     "language": "python",
     "metadata": {},
     "outputs": [],
     "prompt_number": 37
    },
    {
     "cell_type": "markdown",
     "metadata": {},
     "source": [
      "REMOVE BOTTOM LINE ALL TRMM RASTER DATASETS JIUJANG 2006"
     ]
    },
    {
     "cell_type": "code",
     "collapsed": false,
     "input": [
      "def listall(RootFolder, varname=''):\n",
      "    lists = [os.path.join(root, name)    \n",
      "                 for root, dirs, files in os.walk(RootFolder)\n",
      "                   for name in files\n",
      "                   if varname in name\n",
      "                     if name.endswith('.tif')]\n",
      "    return lists"
     ],
     "language": "python",
     "metadata": {},
     "outputs": [],
     "prompt_number": 3
    },
    {
     "cell_type": "code",
     "collapsed": false,
     "input": [
      "path_to_base_file = r'D:\\Data\\0_DAILY_INTERVAL_NDVI_TRMM\\Jiujang\\NDVI2006_DryYear\\10_Day_Period\\10_DaySums_StdNormAnomalyClip//TRMM_CQ_2006001.tif'\n",
      "raster_base, array_base, extent_base = OpenRaster(path_to_base_file)\n",
      "path_to_files = r'D:\\Data\\0_DAILY_INTERVAL_NDVI_TRMM\\Jiujang\\TRMM2006_DryYear\\10_Day_Period\\10_DaySums_StdNormAnomalyResClip'\n",
      "all_files = listall(path_to_files)\n",
      "folder_out = r'D:\\Data\\0_DAILY_INTERVAL_NDVI_TRMM\\Jiujang\\TRMM2006_DryYear\\10_Day_Period\\10_DaySums_StdNormAnomalyResClip2//'\n",
      "\n",
      "for i in all_files:\n",
      "    file_name = i[-19::]\n",
      "    raster, array, extent = OpenRaster(i)\n",
      "    array_new = array.T[0:-1].T\n",
      "    path_out = folder_out + file_name    \n",
      "    saveRaster(path_out, array_new, raster_base,datatype=6)    \n",
      "    print path_out"
     ],
     "language": "python",
     "metadata": {},
     "outputs": [
      {
       "output_type": "stream",
       "stream": "stdout",
       "text": [
        "D:\\Data\\0_DAILY_INTERVAL_NDVI_TRMM\\Jiujang\\TRMM2006_DryYear\\10_Day_Period\\10_DaySums_StdNormAnomalyResClip2//TRMM_JJ_2006001.tif\n",
        "D:\\Data\\0_DAILY_INTERVAL_NDVI_TRMM\\Jiujang\\TRMM2006_DryYear\\10_Day_Period\\10_DaySums_StdNormAnomalyResClip2//TRMM_JJ_2006002.tif\n",
        "D:\\Data\\0_DAILY_INTERVAL_NDVI_TRMM\\Jiujang\\TRMM2006_DryYear\\10_Day_Period\\10_DaySums_StdNormAnomalyResClip2//TRMM_JJ_2006003.tif\n",
        "D:\\Data\\0_DAILY_INTERVAL_NDVI_TRMM\\Jiujang\\TRMM2006_DryYear\\10_Day_Period\\10_DaySums_StdNormAnomalyResClip2//TRMM_JJ_2006004.tif\n",
        "D:\\Data\\0_DAILY_INTERVAL_NDVI_TRMM\\Jiujang\\TRMM2006_DryYear\\10_Day_Period\\10_DaySums_StdNormAnomalyResClip2//TRMM_JJ_2006005.tif\n",
        "D:\\Data\\0_DAILY_INTERVAL_NDVI_TRMM\\Jiujang\\TRMM2006_DryYear\\10_Day_Period\\10_DaySums_StdNormAnomalyResClip2//TRMM_JJ_2006006.tif\n",
        "D:\\Data\\0_DAILY_INTERVAL_NDVI_TRMM\\Jiujang\\TRMM2006_DryYear\\10_Day_Period\\10_DaySums_StdNormAnomalyResClip2//TRMM_JJ_2006007.tif"
       ]
      },
      {
       "output_type": "stream",
       "stream": "stdout",
       "text": [
        "\n",
        "D:\\Data\\0_DAILY_INTERVAL_NDVI_TRMM\\Jiujang\\TRMM2006_DryYear\\10_Day_Period\\10_DaySums_StdNormAnomalyResClip2//TRMM_JJ_2006008.tif\n",
        "D:\\Data\\0_DAILY_INTERVAL_NDVI_TRMM\\Jiujang\\TRMM2006_DryYear\\10_Day_Period\\10_DaySums_StdNormAnomalyResClip2//TRMM_JJ_2006009.tif\n",
        "D:\\Data\\0_DAILY_INTERVAL_NDVI_TRMM\\Jiujang\\TRMM2006_DryYear\\10_Day_Period\\10_DaySums_StdNormAnomalyResClip2//TRMM_JJ_2006010.tif\n",
        "D:\\Data\\0_DAILY_INTERVAL_NDVI_TRMM\\Jiujang\\TRMM2006_DryYear\\10_Day_Period\\10_DaySums_StdNormAnomalyResClip2//TRMM_JJ_2006011.tif\n",
        "D:\\Data\\0_DAILY_INTERVAL_NDVI_TRMM\\Jiujang\\TRMM2006_DryYear\\10_Day_Period\\10_DaySums_StdNormAnomalyResClip2//TRMM_JJ_2006012.tif\n",
        "D:\\Data\\0_DAILY_INTERVAL_NDVI_TRMM\\Jiujang\\TRMM2006_DryYear\\10_Day_Period\\10_DaySums_StdNormAnomalyResClip2//TRMM_JJ_2006013.tif"
       ]
      },
      {
       "output_type": "stream",
       "stream": "stdout",
       "text": [
        "\n",
        "D:\\Data\\0_DAILY_INTERVAL_NDVI_TRMM\\Jiujang\\TRMM2006_DryYear\\10_Day_Period\\10_DaySums_StdNormAnomalyResClip2//TRMM_JJ_2006014.tif\n",
        "D:\\Data\\0_DAILY_INTERVAL_NDVI_TRMM\\Jiujang\\TRMM2006_DryYear\\10_Day_Period\\10_DaySums_StdNormAnomalyResClip2//TRMM_JJ_2006015.tif\n",
        "D:\\Data\\0_DAILY_INTERVAL_NDVI_TRMM\\Jiujang\\TRMM2006_DryYear\\10_Day_Period\\10_DaySums_StdNormAnomalyResClip2//TRMM_JJ_2006016.tif\n",
        "D:\\Data\\0_DAILY_INTERVAL_NDVI_TRMM\\Jiujang\\TRMM2006_DryYear\\10_Day_Period\\10_DaySums_StdNormAnomalyResClip2//TRMM_JJ_2006017.tif\n",
        "D:\\Data\\0_DAILY_INTERVAL_NDVI_TRMM\\Jiujang\\TRMM2006_DryYear\\10_Day_Period\\10_DaySums_StdNormAnomalyResClip2//TRMM_JJ_2006018.tif"
       ]
      },
      {
       "output_type": "stream",
       "stream": "stdout",
       "text": [
        "\n",
        "D:\\Data\\0_DAILY_INTERVAL_NDVI_TRMM\\Jiujang\\TRMM2006_DryYear\\10_Day_Period\\10_DaySums_StdNormAnomalyResClip2//TRMM_JJ_2006019.tif\n",
        "D:\\Data\\0_DAILY_INTERVAL_NDVI_TRMM\\Jiujang\\TRMM2006_DryYear\\10_Day_Period\\10_DaySums_StdNormAnomalyResClip2//TRMM_JJ_2006020.tif\n",
        "D:\\Data\\0_DAILY_INTERVAL_NDVI_TRMM\\Jiujang\\TRMM2006_DryYear\\10_Day_Period\\10_DaySums_StdNormAnomalyResClip2//TRMM_JJ_2006021.tif\n",
        "D:\\Data\\0_DAILY_INTERVAL_NDVI_TRMM\\Jiujang\\TRMM2006_DryYear\\10_Day_Period\\10_DaySums_StdNormAnomalyResClip2//TRMM_JJ_2006022.tif\n",
        "D:\\Data\\0_DAILY_INTERVAL_NDVI_TRMM\\Jiujang\\TRMM2006_DryYear\\10_Day_Period\\10_DaySums_StdNormAnomalyResClip2//TRMM_JJ_2006023.tif\n",
        "D:\\Data\\0_DAILY_INTERVAL_NDVI_TRMM\\Jiujang\\TRMM2006_DryYear\\10_Day_Period\\10_DaySums_StdNormAnomalyResClip2//TRMM_JJ_2006024.tif"
       ]
      },
      {
       "output_type": "stream",
       "stream": "stdout",
       "text": [
        "\n",
        "D:\\Data\\0_DAILY_INTERVAL_NDVI_TRMM\\Jiujang\\TRMM2006_DryYear\\10_Day_Period\\10_DaySums_StdNormAnomalyResClip2//TRMM_JJ_2006025.tif\n",
        "D:\\Data\\0_DAILY_INTERVAL_NDVI_TRMM\\Jiujang\\TRMM2006_DryYear\\10_Day_Period\\10_DaySums_StdNormAnomalyResClip2//TRMM_JJ_2006026.tif\n",
        "D:\\Data\\0_DAILY_INTERVAL_NDVI_TRMM\\Jiujang\\TRMM2006_DryYear\\10_Day_Period\\10_DaySums_StdNormAnomalyResClip2//TRMM_JJ_2006027.tif\n",
        "D:\\Data\\0_DAILY_INTERVAL_NDVI_TRMM\\Jiujang\\TRMM2006_DryYear\\10_Day_Period\\10_DaySums_StdNormAnomalyResClip2//TRMM_JJ_2006028.tif\n",
        "D:\\Data\\0_DAILY_INTERVAL_NDVI_TRMM\\Jiujang\\TRMM2006_DryYear\\10_Day_Period\\10_DaySums_StdNormAnomalyResClip2//TRMM_JJ_2006029.tif\n",
        "D:\\Data\\0_DAILY_INTERVAL_NDVI_TRMM\\Jiujang\\TRMM2006_DryYear\\10_Day_Period\\10_DaySums_StdNormAnomalyResClip2//TRMM_JJ_2006030.tif"
       ]
      },
      {
       "output_type": "stream",
       "stream": "stdout",
       "text": [
        "\n",
        "D:\\Data\\0_DAILY_INTERVAL_NDVI_TRMM\\Jiujang\\TRMM2006_DryYear\\10_Day_Period\\10_DaySums_StdNormAnomalyResClip2//TRMM_JJ_2006031.tif\n",
        "D:\\Data\\0_DAILY_INTERVAL_NDVI_TRMM\\Jiujang\\TRMM2006_DryYear\\10_Day_Period\\10_DaySums_StdNormAnomalyResClip2//TRMM_JJ_2006032.tif\n",
        "D:\\Data\\0_DAILY_INTERVAL_NDVI_TRMM\\Jiujang\\TRMM2006_DryYear\\10_Day_Period\\10_DaySums_StdNormAnomalyResClip2//TRMM_JJ_2006033.tif\n",
        "D:\\Data\\0_DAILY_INTERVAL_NDVI_TRMM\\Jiujang\\TRMM2006_DryYear\\10_Day_Period\\10_DaySums_StdNormAnomalyResClip2//TRMM_JJ_2006034.tif\n",
        "D:\\Data\\0_DAILY_INTERVAL_NDVI_TRMM\\Jiujang\\TRMM2006_DryYear\\10_Day_Period\\10_DaySums_StdNormAnomalyResClip2//TRMM_JJ_2006035.tif\n",
        "D:\\Data\\0_DAILY_INTERVAL_NDVI_TRMM\\Jiujang\\TRMM2006_DryYear\\10_Day_Period\\10_DaySums_StdNormAnomalyResClip2//TRMM_JJ_2006036.tif"
       ]
      },
      {
       "output_type": "stream",
       "stream": "stdout",
       "text": [
        "\n",
        "D:\\Data\\0_DAILY_INTERVAL_NDVI_TRMM\\Jiujang\\TRMM2006_DryYear\\10_Day_Period\\10_DaySums_StdNormAnomalyResClip2//TRMM_JJ_2006037.tif\n",
        "D:\\Data\\0_DAILY_INTERVAL_NDVI_TRMM\\Jiujang\\TRMM2006_DryYear\\10_Day_Period\\10_DaySums_StdNormAnomalyResClip2//TRMM_JJ_2006038.tif\n",
        "D:\\Data\\0_DAILY_INTERVAL_NDVI_TRMM\\Jiujang\\TRMM2006_DryYear\\10_Day_Period\\10_DaySums_StdNormAnomalyResClip2//TRMM_JJ_2006039.tif\n",
        "D:\\Data\\0_DAILY_INTERVAL_NDVI_TRMM\\Jiujang\\TRMM2006_DryYear\\10_Day_Period\\10_DaySums_StdNormAnomalyResClip2//TRMM_JJ_2006040.tif\n",
        "D:\\Data\\0_DAILY_INTERVAL_NDVI_TRMM\\Jiujang\\TRMM2006_DryYear\\10_Day_Period\\10_DaySums_StdNormAnomalyResClip2//TRMM_JJ_2006041.tif\n",
        "D:\\Data\\0_DAILY_INTERVAL_NDVI_TRMM\\Jiujang\\TRMM2006_DryYear\\10_Day_Period\\10_DaySums_StdNormAnomalyResClip2//TRMM_JJ_2006042.tif"
       ]
      },
      {
       "output_type": "stream",
       "stream": "stdout",
       "text": [
        "\n",
        "D:\\Data\\0_DAILY_INTERVAL_NDVI_TRMM\\Jiujang\\TRMM2006_DryYear\\10_Day_Period\\10_DaySums_StdNormAnomalyResClip2//TRMM_JJ_2006043.tif\n",
        "D:\\Data\\0_DAILY_INTERVAL_NDVI_TRMM\\Jiujang\\TRMM2006_DryYear\\10_Day_Period\\10_DaySums_StdNormAnomalyResClip2//TRMM_JJ_2006044.tif\n",
        "D:\\Data\\0_DAILY_INTERVAL_NDVI_TRMM\\Jiujang\\TRMM2006_DryYear\\10_Day_Period\\10_DaySums_StdNormAnomalyResClip2//TRMM_JJ_2006045.tif\n",
        "D:\\Data\\0_DAILY_INTERVAL_NDVI_TRMM\\Jiujang\\TRMM2006_DryYear\\10_Day_Period\\10_DaySums_StdNormAnomalyResClip2//TRMM_JJ_2006046.tif\n",
        "D:\\Data\\0_DAILY_INTERVAL_NDVI_TRMM\\Jiujang\\TRMM2006_DryYear\\10_Day_Period\\10_DaySums_StdNormAnomalyResClip2//TRMM_JJ_2006047.tif\n",
        "D:\\Data\\0_DAILY_INTERVAL_NDVI_TRMM\\Jiujang\\TRMM2006_DryYear\\10_Day_Period\\10_DaySums_StdNormAnomalyResClip2//TRMM_JJ_2006048.tif"
       ]
      },
      {
       "output_type": "stream",
       "stream": "stdout",
       "text": [
        "\n",
        "D:\\Data\\0_DAILY_INTERVAL_NDVI_TRMM\\Jiujang\\TRMM2006_DryYear\\10_Day_Period\\10_DaySums_StdNormAnomalyResClip2//TRMM_JJ_2006049.tif\n",
        "D:\\Data\\0_DAILY_INTERVAL_NDVI_TRMM\\Jiujang\\TRMM2006_DryYear\\10_Day_Period\\10_DaySums_StdNormAnomalyResClip2//TRMM_JJ_2006050.tif\n",
        "D:\\Data\\0_DAILY_INTERVAL_NDVI_TRMM\\Jiujang\\TRMM2006_DryYear\\10_Day_Period\\10_DaySums_StdNormAnomalyResClip2//TRMM_JJ_2006051.tif\n",
        "D:\\Data\\0_DAILY_INTERVAL_NDVI_TRMM\\Jiujang\\TRMM2006_DryYear\\10_Day_Period\\10_DaySums_StdNormAnomalyResClip2//TRMM_JJ_2006052.tif\n",
        "D:\\Data\\0_DAILY_INTERVAL_NDVI_TRMM\\Jiujang\\TRMM2006_DryYear\\10_Day_Period\\10_DaySums_StdNormAnomalyResClip2//TRMM_JJ_2006053.tif"
       ]
      },
      {
       "output_type": "stream",
       "stream": "stdout",
       "text": [
        "\n",
        "D:\\Data\\0_DAILY_INTERVAL_NDVI_TRMM\\Jiujang\\TRMM2006_DryYear\\10_Day_Period\\10_DaySums_StdNormAnomalyResClip2//TRMM_JJ_2006054.tif\n",
        "D:\\Data\\0_DAILY_INTERVAL_NDVI_TRMM\\Jiujang\\TRMM2006_DryYear\\10_Day_Period\\10_DaySums_StdNormAnomalyResClip2//TRMM_JJ_2006055.tif\n",
        "D:\\Data\\0_DAILY_INTERVAL_NDVI_TRMM\\Jiujang\\TRMM2006_DryYear\\10_Day_Period\\10_DaySums_StdNormAnomalyResClip2//TRMM_JJ_2006056.tif\n",
        "D:\\Data\\0_DAILY_INTERVAL_NDVI_TRMM\\Jiujang\\TRMM2006_DryYear\\10_Day_Period\\10_DaySums_StdNormAnomalyResClip2//TRMM_JJ_2006057.tif\n",
        "D:\\Data\\0_DAILY_INTERVAL_NDVI_TRMM\\Jiujang\\TRMM2006_DryYear\\10_Day_Period\\10_DaySums_StdNormAnomalyResClip2//TRMM_JJ_2006058.tif\n",
        "D:\\Data\\0_DAILY_INTERVAL_NDVI_TRMM\\Jiujang\\TRMM2006_DryYear\\10_Day_Period\\10_DaySums_StdNormAnomalyResClip2//TRMM_JJ_2006059.tif"
       ]
      },
      {
       "output_type": "stream",
       "stream": "stdout",
       "text": [
        "\n",
        "D:\\Data\\0_DAILY_INTERVAL_NDVI_TRMM\\Jiujang\\TRMM2006_DryYear\\10_Day_Period\\10_DaySums_StdNormAnomalyResClip2//TRMM_JJ_2006060.tif\n",
        "D:\\Data\\0_DAILY_INTERVAL_NDVI_TRMM\\Jiujang\\TRMM2006_DryYear\\10_Day_Period\\10_DaySums_StdNormAnomalyResClip2//TRMM_JJ_2006061.tif\n",
        "D:\\Data\\0_DAILY_INTERVAL_NDVI_TRMM\\Jiujang\\TRMM2006_DryYear\\10_Day_Period\\10_DaySums_StdNormAnomalyResClip2//TRMM_JJ_2006062.tif\n",
        "D:\\Data\\0_DAILY_INTERVAL_NDVI_TRMM\\Jiujang\\TRMM2006_DryYear\\10_Day_Period\\10_DaySums_StdNormAnomalyResClip2//TRMM_JJ_2006063.tif\n",
        "D:\\Data\\0_DAILY_INTERVAL_NDVI_TRMM\\Jiujang\\TRMM2006_DryYear\\10_Day_Period\\10_DaySums_StdNormAnomalyResClip2//TRMM_JJ_2006064.tif\n",
        "D:\\Data\\0_DAILY_INTERVAL_NDVI_TRMM\\Jiujang\\TRMM2006_DryYear\\10_Day_Period\\10_DaySums_StdNormAnomalyResClip2//TRMM_JJ_2006065.tif"
       ]
      },
      {
       "output_type": "stream",
       "stream": "stdout",
       "text": [
        "\n",
        "D:\\Data\\0_DAILY_INTERVAL_NDVI_TRMM\\Jiujang\\TRMM2006_DryYear\\10_Day_Period\\10_DaySums_StdNormAnomalyResClip2//TRMM_JJ_2006066.tif\n",
        "D:\\Data\\0_DAILY_INTERVAL_NDVI_TRMM\\Jiujang\\TRMM2006_DryYear\\10_Day_Period\\10_DaySums_StdNormAnomalyResClip2//TRMM_JJ_2006067.tif\n",
        "D:\\Data\\0_DAILY_INTERVAL_NDVI_TRMM\\Jiujang\\TRMM2006_DryYear\\10_Day_Period\\10_DaySums_StdNormAnomalyResClip2//TRMM_JJ_2006068.tif\n",
        "D:\\Data\\0_DAILY_INTERVAL_NDVI_TRMM\\Jiujang\\TRMM2006_DryYear\\10_Day_Period\\10_DaySums_StdNormAnomalyResClip2//TRMM_JJ_2006069.tif\n",
        "D:\\Data\\0_DAILY_INTERVAL_NDVI_TRMM\\Jiujang\\TRMM2006_DryYear\\10_Day_Period\\10_DaySums_StdNormAnomalyResClip2//TRMM_JJ_2006070.tif\n",
        "D:\\Data\\0_DAILY_INTERVAL_NDVI_TRMM\\Jiujang\\TRMM2006_DryYear\\10_Day_Period\\10_DaySums_StdNormAnomalyResClip2//TRMM_JJ_2006071.tif"
       ]
      },
      {
       "output_type": "stream",
       "stream": "stdout",
       "text": [
        "\n",
        "D:\\Data\\0_DAILY_INTERVAL_NDVI_TRMM\\Jiujang\\TRMM2006_DryYear\\10_Day_Period\\10_DaySums_StdNormAnomalyResClip2//TRMM_JJ_2006072.tif\n",
        "D:\\Data\\0_DAILY_INTERVAL_NDVI_TRMM\\Jiujang\\TRMM2006_DryYear\\10_Day_Period\\10_DaySums_StdNormAnomalyResClip2//TRMM_JJ_2006073.tif\n",
        "D:\\Data\\0_DAILY_INTERVAL_NDVI_TRMM\\Jiujang\\TRMM2006_DryYear\\10_Day_Period\\10_DaySums_StdNormAnomalyResClip2//TRMM_JJ_2006074.tif\n",
        "D:\\Data\\0_DAILY_INTERVAL_NDVI_TRMM\\Jiujang\\TRMM2006_DryYear\\10_Day_Period\\10_DaySums_StdNormAnomalyResClip2//TRMM_JJ_2006075.tif\n",
        "D:\\Data\\0_DAILY_INTERVAL_NDVI_TRMM\\Jiujang\\TRMM2006_DryYear\\10_Day_Period\\10_DaySums_StdNormAnomalyResClip2//TRMM_JJ_2006076.tif\n",
        "D:\\Data\\0_DAILY_INTERVAL_NDVI_TRMM\\Jiujang\\TRMM2006_DryYear\\10_Day_Period\\10_DaySums_StdNormAnomalyResClip2//TRMM_JJ_2006077.tif"
       ]
      },
      {
       "output_type": "stream",
       "stream": "stdout",
       "text": [
        "\n",
        "D:\\Data\\0_DAILY_INTERVAL_NDVI_TRMM\\Jiujang\\TRMM2006_DryYear\\10_Day_Period\\10_DaySums_StdNormAnomalyResClip2//TRMM_JJ_2006078.tif\n",
        "D:\\Data\\0_DAILY_INTERVAL_NDVI_TRMM\\Jiujang\\TRMM2006_DryYear\\10_Day_Period\\10_DaySums_StdNormAnomalyResClip2//TRMM_JJ_2006079.tif\n",
        "D:\\Data\\0_DAILY_INTERVAL_NDVI_TRMM\\Jiujang\\TRMM2006_DryYear\\10_Day_Period\\10_DaySums_StdNormAnomalyResClip2//TRMM_JJ_2006080.tif\n",
        "D:\\Data\\0_DAILY_INTERVAL_NDVI_TRMM\\Jiujang\\TRMM2006_DryYear\\10_Day_Period\\10_DaySums_StdNormAnomalyResClip2//TRMM_JJ_2006081.tif\n",
        "D:\\Data\\0_DAILY_INTERVAL_NDVI_TRMM\\Jiujang\\TRMM2006_DryYear\\10_Day_Period\\10_DaySums_StdNormAnomalyResClip2//TRMM_JJ_2006082.tif\n",
        "D:\\Data\\0_DAILY_INTERVAL_NDVI_TRMM\\Jiujang\\TRMM2006_DryYear\\10_Day_Period\\10_DaySums_StdNormAnomalyResClip2//TRMM_JJ_2006083.tif"
       ]
      },
      {
       "output_type": "stream",
       "stream": "stdout",
       "text": [
        "\n",
        "D:\\Data\\0_DAILY_INTERVAL_NDVI_TRMM\\Jiujang\\TRMM2006_DryYear\\10_Day_Period\\10_DaySums_StdNormAnomalyResClip2//TRMM_JJ_2006084.tif\n",
        "D:\\Data\\0_DAILY_INTERVAL_NDVI_TRMM\\Jiujang\\TRMM2006_DryYear\\10_Day_Period\\10_DaySums_StdNormAnomalyResClip2//TRMM_JJ_2006085.tif\n",
        "D:\\Data\\0_DAILY_INTERVAL_NDVI_TRMM\\Jiujang\\TRMM2006_DryYear\\10_Day_Period\\10_DaySums_StdNormAnomalyResClip2//TRMM_JJ_2006086.tif\n",
        "D:\\Data\\0_DAILY_INTERVAL_NDVI_TRMM\\Jiujang\\TRMM2006_DryYear\\10_Day_Period\\10_DaySums_StdNormAnomalyResClip2//TRMM_JJ_2006087.tif\n",
        "D:\\Data\\0_DAILY_INTERVAL_NDVI_TRMM\\Jiujang\\TRMM2006_DryYear\\10_Day_Period\\10_DaySums_StdNormAnomalyResClip2//TRMM_JJ_2006088.tif\n",
        "D:\\Data\\0_DAILY_INTERVAL_NDVI_TRMM\\Jiujang\\TRMM2006_DryYear\\10_Day_Period\\10_DaySums_StdNormAnomalyResClip2//TRMM_JJ_2006089.tif"
       ]
      },
      {
       "output_type": "stream",
       "stream": "stdout",
       "text": [
        "\n",
        "D:\\Data\\0_DAILY_INTERVAL_NDVI_TRMM\\Jiujang\\TRMM2006_DryYear\\10_Day_Period\\10_DaySums_StdNormAnomalyResClip2//TRMM_JJ_2006090.tif\n",
        "D:\\Data\\0_DAILY_INTERVAL_NDVI_TRMM\\Jiujang\\TRMM2006_DryYear\\10_Day_Period\\10_DaySums_StdNormAnomalyResClip2//TRMM_JJ_2006091.tif\n",
        "D:\\Data\\0_DAILY_INTERVAL_NDVI_TRMM\\Jiujang\\TRMM2006_DryYear\\10_Day_Period\\10_DaySums_StdNormAnomalyResClip2//TRMM_JJ_2006092.tif\n",
        "D:\\Data\\0_DAILY_INTERVAL_NDVI_TRMM\\Jiujang\\TRMM2006_DryYear\\10_Day_Period\\10_DaySums_StdNormAnomalyResClip2//TRMM_JJ_2006093.tif\n",
        "D:\\Data\\0_DAILY_INTERVAL_NDVI_TRMM\\Jiujang\\TRMM2006_DryYear\\10_Day_Period\\10_DaySums_StdNormAnomalyResClip2//TRMM_JJ_2006094.tif\n",
        "D:\\Data\\0_DAILY_INTERVAL_NDVI_TRMM\\Jiujang\\TRMM2006_DryYear\\10_Day_Period\\10_DaySums_StdNormAnomalyResClip2//TRMM_JJ_2006095.tif"
       ]
      },
      {
       "output_type": "stream",
       "stream": "stdout",
       "text": [
        "\n",
        "D:\\Data\\0_DAILY_INTERVAL_NDVI_TRMM\\Jiujang\\TRMM2006_DryYear\\10_Day_Period\\10_DaySums_StdNormAnomalyResClip2//TRMM_JJ_2006096.tif\n",
        "D:\\Data\\0_DAILY_INTERVAL_NDVI_TRMM\\Jiujang\\TRMM2006_DryYear\\10_Day_Period\\10_DaySums_StdNormAnomalyResClip2//TRMM_JJ_2006097.tif\n",
        "D:\\Data\\0_DAILY_INTERVAL_NDVI_TRMM\\Jiujang\\TRMM2006_DryYear\\10_Day_Period\\10_DaySums_StdNormAnomalyResClip2//TRMM_JJ_2006098.tif\n",
        "D:\\Data\\0_DAILY_INTERVAL_NDVI_TRMM\\Jiujang\\TRMM2006_DryYear\\10_Day_Period\\10_DaySums_StdNormAnomalyResClip2//TRMM_JJ_2006099.tif\n",
        "D:\\Data\\0_DAILY_INTERVAL_NDVI_TRMM\\Jiujang\\TRMM2006_DryYear\\10_Day_Period\\10_DaySums_StdNormAnomalyResClip2//TRMM_JJ_2006100.tif\n",
        "D:\\Data\\0_DAILY_INTERVAL_NDVI_TRMM\\Jiujang\\TRMM2006_DryYear\\10_Day_Period\\10_DaySums_StdNormAnomalyResClip2//TRMM_JJ_2006101.tif"
       ]
      },
      {
       "output_type": "stream",
       "stream": "stdout",
       "text": [
        "\n",
        "D:\\Data\\0_DAILY_INTERVAL_NDVI_TRMM\\Jiujang\\TRMM2006_DryYear\\10_Day_Period\\10_DaySums_StdNormAnomalyResClip2//TRMM_JJ_2006102.tif\n",
        "D:\\Data\\0_DAILY_INTERVAL_NDVI_TRMM\\Jiujang\\TRMM2006_DryYear\\10_Day_Period\\10_DaySums_StdNormAnomalyResClip2//TRMM_JJ_2006103.tif\n",
        "D:\\Data\\0_DAILY_INTERVAL_NDVI_TRMM\\Jiujang\\TRMM2006_DryYear\\10_Day_Period\\10_DaySums_StdNormAnomalyResClip2//TRMM_JJ_2006104.tif\n",
        "D:\\Data\\0_DAILY_INTERVAL_NDVI_TRMM\\Jiujang\\TRMM2006_DryYear\\10_Day_Period\\10_DaySums_StdNormAnomalyResClip2//TRMM_JJ_2006105.tif\n",
        "D:\\Data\\0_DAILY_INTERVAL_NDVI_TRMM\\Jiujang\\TRMM2006_DryYear\\10_Day_Period\\10_DaySums_StdNormAnomalyResClip2//TRMM_JJ_2006106.tif\n",
        "D:\\Data\\0_DAILY_INTERVAL_NDVI_TRMM\\Jiujang\\TRMM2006_DryYear\\10_Day_Period\\10_DaySums_StdNormAnomalyResClip2//TRMM_JJ_2006107.tif"
       ]
      },
      {
       "output_type": "stream",
       "stream": "stdout",
       "text": [
        "\n",
        "D:\\Data\\0_DAILY_INTERVAL_NDVI_TRMM\\Jiujang\\TRMM2006_DryYear\\10_Day_Period\\10_DaySums_StdNormAnomalyResClip2//TRMM_JJ_2006108.tif\n",
        "D:\\Data\\0_DAILY_INTERVAL_NDVI_TRMM\\Jiujang\\TRMM2006_DryYear\\10_Day_Period\\10_DaySums_StdNormAnomalyResClip2//TRMM_JJ_2006109.tif\n",
        "D:\\Data\\0_DAILY_INTERVAL_NDVI_TRMM\\Jiujang\\TRMM2006_DryYear\\10_Day_Period\\10_DaySums_StdNormAnomalyResClip2//TRMM_JJ_2006110.tif\n",
        "D:\\Data\\0_DAILY_INTERVAL_NDVI_TRMM\\Jiujang\\TRMM2006_DryYear\\10_Day_Period\\10_DaySums_StdNormAnomalyResClip2//TRMM_JJ_2006111.tif\n",
        "D:\\Data\\0_DAILY_INTERVAL_NDVI_TRMM\\Jiujang\\TRMM2006_DryYear\\10_Day_Period\\10_DaySums_StdNormAnomalyResClip2//TRMM_JJ_2006112.tif\n",
        "D:\\Data\\0_DAILY_INTERVAL_NDVI_TRMM\\Jiujang\\TRMM2006_DryYear\\10_Day_Period\\10_DaySums_StdNormAnomalyResClip2//TRMM_JJ_2006113.tif"
       ]
      },
      {
       "output_type": "stream",
       "stream": "stdout",
       "text": [
        "\n",
        "D:\\Data\\0_DAILY_INTERVAL_NDVI_TRMM\\Jiujang\\TRMM2006_DryYear\\10_Day_Period\\10_DaySums_StdNormAnomalyResClip2//TRMM_JJ_2006114.tif\n",
        "D:\\Data\\0_DAILY_INTERVAL_NDVI_TRMM\\Jiujang\\TRMM2006_DryYear\\10_Day_Period\\10_DaySums_StdNormAnomalyResClip2//TRMM_JJ_2006115.tif\n",
        "D:\\Data\\0_DAILY_INTERVAL_NDVI_TRMM\\Jiujang\\TRMM2006_DryYear\\10_Day_Period\\10_DaySums_StdNormAnomalyResClip2//TRMM_JJ_2006116.tif\n",
        "D:\\Data\\0_DAILY_INTERVAL_NDVI_TRMM\\Jiujang\\TRMM2006_DryYear\\10_Day_Period\\10_DaySums_StdNormAnomalyResClip2//TRMM_JJ_2006117.tif\n",
        "D:\\Data\\0_DAILY_INTERVAL_NDVI_TRMM\\Jiujang\\TRMM2006_DryYear\\10_Day_Period\\10_DaySums_StdNormAnomalyResClip2//TRMM_JJ_2006118.tif\n",
        "D:\\Data\\0_DAILY_INTERVAL_NDVI_TRMM\\Jiujang\\TRMM2006_DryYear\\10_Day_Period\\10_DaySums_StdNormAnomalyResClip2//TRMM_JJ_2006119.tif"
       ]
      },
      {
       "output_type": "stream",
       "stream": "stdout",
       "text": [
        "\n",
        "D:\\Data\\0_DAILY_INTERVAL_NDVI_TRMM\\Jiujang\\TRMM2006_DryYear\\10_Day_Period\\10_DaySums_StdNormAnomalyResClip2//TRMM_JJ_2006120.tif\n",
        "D:\\Data\\0_DAILY_INTERVAL_NDVI_TRMM\\Jiujang\\TRMM2006_DryYear\\10_Day_Period\\10_DaySums_StdNormAnomalyResClip2//TRMM_JJ_2006121.tif\n",
        "D:\\Data\\0_DAILY_INTERVAL_NDVI_TRMM\\Jiujang\\TRMM2006_DryYear\\10_Day_Period\\10_DaySums_StdNormAnomalyResClip2//TRMM_JJ_2006122.tif\n",
        "D:\\Data\\0_DAILY_INTERVAL_NDVI_TRMM\\Jiujang\\TRMM2006_DryYear\\10_Day_Period\\10_DaySums_StdNormAnomalyResClip2//TRMM_JJ_2006123.tif"
       ]
      },
      {
       "output_type": "stream",
       "stream": "stdout",
       "text": [
        "\n",
        "D:\\Data\\0_DAILY_INTERVAL_NDVI_TRMM\\Jiujang\\TRMM2006_DryYear\\10_Day_Period\\10_DaySums_StdNormAnomalyResClip2//TRMM_JJ_2006124.tif\n",
        "D:\\Data\\0_DAILY_INTERVAL_NDVI_TRMM\\Jiujang\\TRMM2006_DryYear\\10_Day_Period\\10_DaySums_StdNormAnomalyResClip2//TRMM_JJ_2006125.tif\n",
        "D:\\Data\\0_DAILY_INTERVAL_NDVI_TRMM\\Jiujang\\TRMM2006_DryYear\\10_Day_Period\\10_DaySums_StdNormAnomalyResClip2//TRMM_JJ_2006126.tif\n",
        "D:\\Data\\0_DAILY_INTERVAL_NDVI_TRMM\\Jiujang\\TRMM2006_DryYear\\10_Day_Period\\10_DaySums_StdNormAnomalyResClip2//TRMM_JJ_2006127.tif\n",
        "D:\\Data\\0_DAILY_INTERVAL_NDVI_TRMM\\Jiujang\\TRMM2006_DryYear\\10_Day_Period\\10_DaySums_StdNormAnomalyResClip2//TRMM_JJ_2006128.tif\n",
        "D:\\Data\\0_DAILY_INTERVAL_NDVI_TRMM\\Jiujang\\TRMM2006_DryYear\\10_Day_Period\\10_DaySums_StdNormAnomalyResClip2//TRMM_JJ_2006129.tif"
       ]
      },
      {
       "output_type": "stream",
       "stream": "stdout",
       "text": [
        "\n",
        "D:\\Data\\0_DAILY_INTERVAL_NDVI_TRMM\\Jiujang\\TRMM2006_DryYear\\10_Day_Period\\10_DaySums_StdNormAnomalyResClip2//TRMM_JJ_2006130.tif\n",
        "D:\\Data\\0_DAILY_INTERVAL_NDVI_TRMM\\Jiujang\\TRMM2006_DryYear\\10_Day_Period\\10_DaySums_StdNormAnomalyResClip2//TRMM_JJ_2006131.tif\n",
        "D:\\Data\\0_DAILY_INTERVAL_NDVI_TRMM\\Jiujang\\TRMM2006_DryYear\\10_Day_Period\\10_DaySums_StdNormAnomalyResClip2//TRMM_JJ_2006132.tif\n",
        "D:\\Data\\0_DAILY_INTERVAL_NDVI_TRMM\\Jiujang\\TRMM2006_DryYear\\10_Day_Period\\10_DaySums_StdNormAnomalyResClip2//TRMM_JJ_2006133.tif\n",
        "D:\\Data\\0_DAILY_INTERVAL_NDVI_TRMM\\Jiujang\\TRMM2006_DryYear\\10_Day_Period\\10_DaySums_StdNormAnomalyResClip2//TRMM_JJ_2006134.tif\n",
        "D:\\Data\\0_DAILY_INTERVAL_NDVI_TRMM\\Jiujang\\TRMM2006_DryYear\\10_Day_Period\\10_DaySums_StdNormAnomalyResClip2//TRMM_JJ_2006135.tif"
       ]
      },
      {
       "output_type": "stream",
       "stream": "stdout",
       "text": [
        "\n",
        "D:\\Data\\0_DAILY_INTERVAL_NDVI_TRMM\\Jiujang\\TRMM2006_DryYear\\10_Day_Period\\10_DaySums_StdNormAnomalyResClip2//TRMM_JJ_2006136.tif\n",
        "D:\\Data\\0_DAILY_INTERVAL_NDVI_TRMM\\Jiujang\\TRMM2006_DryYear\\10_Day_Period\\10_DaySums_StdNormAnomalyResClip2//TRMM_JJ_2006137.tif\n",
        "D:\\Data\\0_DAILY_INTERVAL_NDVI_TRMM\\Jiujang\\TRMM2006_DryYear\\10_Day_Period\\10_DaySums_StdNormAnomalyResClip2//TRMM_JJ_2006138.tif\n",
        "D:\\Data\\0_DAILY_INTERVAL_NDVI_TRMM\\Jiujang\\TRMM2006_DryYear\\10_Day_Period\\10_DaySums_StdNormAnomalyResClip2//TRMM_JJ_2006139.tif\n",
        "D:\\Data\\0_DAILY_INTERVAL_NDVI_TRMM\\Jiujang\\TRMM2006_DryYear\\10_Day_Period\\10_DaySums_StdNormAnomalyResClip2//TRMM_JJ_2006140.tif\n",
        "D:\\Data\\0_DAILY_INTERVAL_NDVI_TRMM\\Jiujang\\TRMM2006_DryYear\\10_Day_Period\\10_DaySums_StdNormAnomalyResClip2//TRMM_JJ_2006141.tif"
       ]
      },
      {
       "output_type": "stream",
       "stream": "stdout",
       "text": [
        "\n",
        "D:\\Data\\0_DAILY_INTERVAL_NDVI_TRMM\\Jiujang\\TRMM2006_DryYear\\10_Day_Period\\10_DaySums_StdNormAnomalyResClip2//TRMM_JJ_2006142.tif\n",
        "D:\\Data\\0_DAILY_INTERVAL_NDVI_TRMM\\Jiujang\\TRMM2006_DryYear\\10_Day_Period\\10_DaySums_StdNormAnomalyResClip2//TRMM_JJ_2006143.tif\n",
        "D:\\Data\\0_DAILY_INTERVAL_NDVI_TRMM\\Jiujang\\TRMM2006_DryYear\\10_Day_Period\\10_DaySums_StdNormAnomalyResClip2//TRMM_JJ_2006144.tif\n",
        "D:\\Data\\0_DAILY_INTERVAL_NDVI_TRMM\\Jiujang\\TRMM2006_DryYear\\10_Day_Period\\10_DaySums_StdNormAnomalyResClip2//TRMM_JJ_2006145.tif\n",
        "D:\\Data\\0_DAILY_INTERVAL_NDVI_TRMM\\Jiujang\\TRMM2006_DryYear\\10_Day_Period\\10_DaySums_StdNormAnomalyResClip2//TRMM_JJ_2006146.tif\n",
        "D:\\Data\\0_DAILY_INTERVAL_NDVI_TRMM\\Jiujang\\TRMM2006_DryYear\\10_Day_Period\\10_DaySums_StdNormAnomalyResClip2//TRMM_JJ_2006147.tif"
       ]
      },
      {
       "output_type": "stream",
       "stream": "stdout",
       "text": [
        "\n",
        "D:\\Data\\0_DAILY_INTERVAL_NDVI_TRMM\\Jiujang\\TRMM2006_DryYear\\10_Day_Period\\10_DaySums_StdNormAnomalyResClip2//TRMM_JJ_2006148.tif\n",
        "D:\\Data\\0_DAILY_INTERVAL_NDVI_TRMM\\Jiujang\\TRMM2006_DryYear\\10_Day_Period\\10_DaySums_StdNormAnomalyResClip2//TRMM_JJ_2006149.tif\n",
        "D:\\Data\\0_DAILY_INTERVAL_NDVI_TRMM\\Jiujang\\TRMM2006_DryYear\\10_Day_Period\\10_DaySums_StdNormAnomalyResClip2//TRMM_JJ_2006150.tif\n",
        "D:\\Data\\0_DAILY_INTERVAL_NDVI_TRMM\\Jiujang\\TRMM2006_DryYear\\10_Day_Period\\10_DaySums_StdNormAnomalyResClip2//TRMM_JJ_2006151.tif\n",
        "D:\\Data\\0_DAILY_INTERVAL_NDVI_TRMM\\Jiujang\\TRMM2006_DryYear\\10_Day_Period\\10_DaySums_StdNormAnomalyResClip2//TRMM_JJ_2006152.tif\n",
        "D:\\Data\\0_DAILY_INTERVAL_NDVI_TRMM\\Jiujang\\TRMM2006_DryYear\\10_Day_Period\\10_DaySums_StdNormAnomalyResClip2//TRMM_JJ_2006153.tif"
       ]
      },
      {
       "output_type": "stream",
       "stream": "stdout",
       "text": [
        "\n",
        "D:\\Data\\0_DAILY_INTERVAL_NDVI_TRMM\\Jiujang\\TRMM2006_DryYear\\10_Day_Period\\10_DaySums_StdNormAnomalyResClip2//TRMM_JJ_2006154.tif\n",
        "D:\\Data\\0_DAILY_INTERVAL_NDVI_TRMM\\Jiujang\\TRMM2006_DryYear\\10_Day_Period\\10_DaySums_StdNormAnomalyResClip2//TRMM_JJ_2006155.tif\n",
        "D:\\Data\\0_DAILY_INTERVAL_NDVI_TRMM\\Jiujang\\TRMM2006_DryYear\\10_Day_Period\\10_DaySums_StdNormAnomalyResClip2//TRMM_JJ_2006156.tif\n",
        "D:\\Data\\0_DAILY_INTERVAL_NDVI_TRMM\\Jiujang\\TRMM2006_DryYear\\10_Day_Period\\10_DaySums_StdNormAnomalyResClip2//TRMM_JJ_2006157.tif\n",
        "D:\\Data\\0_DAILY_INTERVAL_NDVI_TRMM\\Jiujang\\TRMM2006_DryYear\\10_Day_Period\\10_DaySums_StdNormAnomalyResClip2//TRMM_JJ_2006158.tif\n",
        "D:\\Data\\0_DAILY_INTERVAL_NDVI_TRMM\\Jiujang\\TRMM2006_DryYear\\10_Day_Period\\10_DaySums_StdNormAnomalyResClip2//TRMM_JJ_2006159.tif"
       ]
      },
      {
       "output_type": "stream",
       "stream": "stdout",
       "text": [
        "\n",
        "D:\\Data\\0_DAILY_INTERVAL_NDVI_TRMM\\Jiujang\\TRMM2006_DryYear\\10_Day_Period\\10_DaySums_StdNormAnomalyResClip2//TRMM_JJ_2006160.tif\n",
        "D:\\Data\\0_DAILY_INTERVAL_NDVI_TRMM\\Jiujang\\TRMM2006_DryYear\\10_Day_Period\\10_DaySums_StdNormAnomalyResClip2//TRMM_JJ_2006161.tif\n",
        "D:\\Data\\0_DAILY_INTERVAL_NDVI_TRMM\\Jiujang\\TRMM2006_DryYear\\10_Day_Period\\10_DaySums_StdNormAnomalyResClip2//TRMM_JJ_2006162.tif\n",
        "D:\\Data\\0_DAILY_INTERVAL_NDVI_TRMM\\Jiujang\\TRMM2006_DryYear\\10_Day_Period\\10_DaySums_StdNormAnomalyResClip2//TRMM_JJ_2006163.tif\n",
        "D:\\Data\\0_DAILY_INTERVAL_NDVI_TRMM\\Jiujang\\TRMM2006_DryYear\\10_Day_Period\\10_DaySums_StdNormAnomalyResClip2//TRMM_JJ_2006164.tif\n",
        "D:\\Data\\0_DAILY_INTERVAL_NDVI_TRMM\\Jiujang\\TRMM2006_DryYear\\10_Day_Period\\10_DaySums_StdNormAnomalyResClip2//TRMM_JJ_2006165.tif"
       ]
      },
      {
       "output_type": "stream",
       "stream": "stdout",
       "text": [
        "\n",
        "D:\\Data\\0_DAILY_INTERVAL_NDVI_TRMM\\Jiujang\\TRMM2006_DryYear\\10_Day_Period\\10_DaySums_StdNormAnomalyResClip2//TRMM_JJ_2006166.tif\n",
        "D:\\Data\\0_DAILY_INTERVAL_NDVI_TRMM\\Jiujang\\TRMM2006_DryYear\\10_Day_Period\\10_DaySums_StdNormAnomalyResClip2//TRMM_JJ_2006167.tif\n",
        "D:\\Data\\0_DAILY_INTERVAL_NDVI_TRMM\\Jiujang\\TRMM2006_DryYear\\10_Day_Period\\10_DaySums_StdNormAnomalyResClip2//TRMM_JJ_2006168.tif\n",
        "D:\\Data\\0_DAILY_INTERVAL_NDVI_TRMM\\Jiujang\\TRMM2006_DryYear\\10_Day_Period\\10_DaySums_StdNormAnomalyResClip2//TRMM_JJ_2006169.tif\n",
        "D:\\Data\\0_DAILY_INTERVAL_NDVI_TRMM\\Jiujang\\TRMM2006_DryYear\\10_Day_Period\\10_DaySums_StdNormAnomalyResClip2//TRMM_JJ_2006170.tif\n",
        "D:\\Data\\0_DAILY_INTERVAL_NDVI_TRMM\\Jiujang\\TRMM2006_DryYear\\10_Day_Period\\10_DaySums_StdNormAnomalyResClip2//TRMM_JJ_2006171.tif"
       ]
      },
      {
       "output_type": "stream",
       "stream": "stdout",
       "text": [
        "\n",
        "D:\\Data\\0_DAILY_INTERVAL_NDVI_TRMM\\Jiujang\\TRMM2006_DryYear\\10_Day_Period\\10_DaySums_StdNormAnomalyResClip2//TRMM_JJ_2006172.tif\n",
        "D:\\Data\\0_DAILY_INTERVAL_NDVI_TRMM\\Jiujang\\TRMM2006_DryYear\\10_Day_Period\\10_DaySums_StdNormAnomalyResClip2//TRMM_JJ_2006173.tif\n",
        "D:\\Data\\0_DAILY_INTERVAL_NDVI_TRMM\\Jiujang\\TRMM2006_DryYear\\10_Day_Period\\10_DaySums_StdNormAnomalyResClip2//TRMM_JJ_2006174.tif\n",
        "D:\\Data\\0_DAILY_INTERVAL_NDVI_TRMM\\Jiujang\\TRMM2006_DryYear\\10_Day_Period\\10_DaySums_StdNormAnomalyResClip2//TRMM_JJ_2006175.tif\n",
        "D:\\Data\\0_DAILY_INTERVAL_NDVI_TRMM\\Jiujang\\TRMM2006_DryYear\\10_Day_Period\\10_DaySums_StdNormAnomalyResClip2//TRMM_JJ_2006176.tif\n",
        "D:\\Data\\0_DAILY_INTERVAL_NDVI_TRMM\\Jiujang\\TRMM2006_DryYear\\10_Day_Period\\10_DaySums_StdNormAnomalyResClip2//TRMM_JJ_2006177.tif"
       ]
      },
      {
       "output_type": "stream",
       "stream": "stdout",
       "text": [
        "\n",
        "D:\\Data\\0_DAILY_INTERVAL_NDVI_TRMM\\Jiujang\\TRMM2006_DryYear\\10_Day_Period\\10_DaySums_StdNormAnomalyResClip2//TRMM_JJ_2006178.tif\n",
        "D:\\Data\\0_DAILY_INTERVAL_NDVI_TRMM\\Jiujang\\TRMM2006_DryYear\\10_Day_Period\\10_DaySums_StdNormAnomalyResClip2//TRMM_JJ_2006179.tif\n",
        "D:\\Data\\0_DAILY_INTERVAL_NDVI_TRMM\\Jiujang\\TRMM2006_DryYear\\10_Day_Period\\10_DaySums_StdNormAnomalyResClip2//TRMM_JJ_2006180.tif\n",
        "D:\\Data\\0_DAILY_INTERVAL_NDVI_TRMM\\Jiujang\\TRMM2006_DryYear\\10_Day_Period\\10_DaySums_StdNormAnomalyResClip2//TRMM_JJ_2006181.tif\n",
        "D:\\Data\\0_DAILY_INTERVAL_NDVI_TRMM\\Jiujang\\TRMM2006_DryYear\\10_Day_Period\\10_DaySums_StdNormAnomalyResClip2//TRMM_JJ_2006182.tif\n",
        "D:\\Data\\0_DAILY_INTERVAL_NDVI_TRMM\\Jiujang\\TRMM2006_DryYear\\10_Day_Period\\10_DaySums_StdNormAnomalyResClip2//TRMM_JJ_2006183.tif"
       ]
      },
      {
       "output_type": "stream",
       "stream": "stdout",
       "text": [
        "\n",
        "D:\\Data\\0_DAILY_INTERVAL_NDVI_TRMM\\Jiujang\\TRMM2006_DryYear\\10_Day_Period\\10_DaySums_StdNormAnomalyResClip2//TRMM_JJ_2006184.tif\n",
        "D:\\Data\\0_DAILY_INTERVAL_NDVI_TRMM\\Jiujang\\TRMM2006_DryYear\\10_Day_Period\\10_DaySums_StdNormAnomalyResClip2//TRMM_JJ_2006185.tif\n",
        "D:\\Data\\0_DAILY_INTERVAL_NDVI_TRMM\\Jiujang\\TRMM2006_DryYear\\10_Day_Period\\10_DaySums_StdNormAnomalyResClip2//TRMM_JJ_2006186.tif\n",
        "D:\\Data\\0_DAILY_INTERVAL_NDVI_TRMM\\Jiujang\\TRMM2006_DryYear\\10_Day_Period\\10_DaySums_StdNormAnomalyResClip2//TRMM_JJ_2006187.tif\n",
        "D:\\Data\\0_DAILY_INTERVAL_NDVI_TRMM\\Jiujang\\TRMM2006_DryYear\\10_Day_Period\\10_DaySums_StdNormAnomalyResClip2//TRMM_JJ_2006188.tif\n",
        "D:\\Data\\0_DAILY_INTERVAL_NDVI_TRMM\\Jiujang\\TRMM2006_DryYear\\10_Day_Period\\10_DaySums_StdNormAnomalyResClip2//TRMM_JJ_2006189.tif"
       ]
      },
      {
       "output_type": "stream",
       "stream": "stdout",
       "text": [
        "\n",
        "D:\\Data\\0_DAILY_INTERVAL_NDVI_TRMM\\Jiujang\\TRMM2006_DryYear\\10_Day_Period\\10_DaySums_StdNormAnomalyResClip2//TRMM_JJ_2006190.tif\n",
        "D:\\Data\\0_DAILY_INTERVAL_NDVI_TRMM\\Jiujang\\TRMM2006_DryYear\\10_Day_Period\\10_DaySums_StdNormAnomalyResClip2//TRMM_JJ_2006191.tif\n",
        "D:\\Data\\0_DAILY_INTERVAL_NDVI_TRMM\\Jiujang\\TRMM2006_DryYear\\10_Day_Period\\10_DaySums_StdNormAnomalyResClip2//TRMM_JJ_2006192.tif\n",
        "D:\\Data\\0_DAILY_INTERVAL_NDVI_TRMM\\Jiujang\\TRMM2006_DryYear\\10_Day_Period\\10_DaySums_StdNormAnomalyResClip2//TRMM_JJ_2006193.tif\n",
        "D:\\Data\\0_DAILY_INTERVAL_NDVI_TRMM\\Jiujang\\TRMM2006_DryYear\\10_Day_Period\\10_DaySums_StdNormAnomalyResClip2//TRMM_JJ_2006194.tif\n",
        "D:\\Data\\0_DAILY_INTERVAL_NDVI_TRMM\\Jiujang\\TRMM2006_DryYear\\10_Day_Period\\10_DaySums_StdNormAnomalyResClip2//TRMM_JJ_2006195.tif"
       ]
      },
      {
       "output_type": "stream",
       "stream": "stdout",
       "text": [
        "\n",
        "D:\\Data\\0_DAILY_INTERVAL_NDVI_TRMM\\Jiujang\\TRMM2006_DryYear\\10_Day_Period\\10_DaySums_StdNormAnomalyResClip2//TRMM_JJ_2006196.tif\n",
        "D:\\Data\\0_DAILY_INTERVAL_NDVI_TRMM\\Jiujang\\TRMM2006_DryYear\\10_Day_Period\\10_DaySums_StdNormAnomalyResClip2//TRMM_JJ_2006197.tif\n",
        "D:\\Data\\0_DAILY_INTERVAL_NDVI_TRMM\\Jiujang\\TRMM2006_DryYear\\10_Day_Period\\10_DaySums_StdNormAnomalyResClip2//TRMM_JJ_2006198.tif\n",
        "D:\\Data\\0_DAILY_INTERVAL_NDVI_TRMM\\Jiujang\\TRMM2006_DryYear\\10_Day_Period\\10_DaySums_StdNormAnomalyResClip2//TRMM_JJ_2006199.tif\n",
        "D:\\Data\\0_DAILY_INTERVAL_NDVI_TRMM\\Jiujang\\TRMM2006_DryYear\\10_Day_Period\\10_DaySums_StdNormAnomalyResClip2//TRMM_JJ_2006200.tif\n",
        "D:\\Data\\0_DAILY_INTERVAL_NDVI_TRMM\\Jiujang\\TRMM2006_DryYear\\10_Day_Period\\10_DaySums_StdNormAnomalyResClip2//TRMM_JJ_2006201.tif"
       ]
      },
      {
       "output_type": "stream",
       "stream": "stdout",
       "text": [
        "\n",
        "D:\\Data\\0_DAILY_INTERVAL_NDVI_TRMM\\Jiujang\\TRMM2006_DryYear\\10_Day_Period\\10_DaySums_StdNormAnomalyResClip2//TRMM_JJ_2006202.tif\n",
        "D:\\Data\\0_DAILY_INTERVAL_NDVI_TRMM\\Jiujang\\TRMM2006_DryYear\\10_Day_Period\\10_DaySums_StdNormAnomalyResClip2//TRMM_JJ_2006203.tif\n",
        "D:\\Data\\0_DAILY_INTERVAL_NDVI_TRMM\\Jiujang\\TRMM2006_DryYear\\10_Day_Period\\10_DaySums_StdNormAnomalyResClip2//TRMM_JJ_2006204.tif\n",
        "D:\\Data\\0_DAILY_INTERVAL_NDVI_TRMM\\Jiujang\\TRMM2006_DryYear\\10_Day_Period\\10_DaySums_StdNormAnomalyResClip2//TRMM_JJ_2006205.tif\n",
        "D:\\Data\\0_DAILY_INTERVAL_NDVI_TRMM\\Jiujang\\TRMM2006_DryYear\\10_Day_Period\\10_DaySums_StdNormAnomalyResClip2//TRMM_JJ_2006206.tif\n",
        "D:\\Data\\0_DAILY_INTERVAL_NDVI_TRMM\\Jiujang\\TRMM2006_DryYear\\10_Day_Period\\10_DaySums_StdNormAnomalyResClip2//TRMM_JJ_2006207.tif"
       ]
      },
      {
       "output_type": "stream",
       "stream": "stdout",
       "text": [
        "\n",
        "D:\\Data\\0_DAILY_INTERVAL_NDVI_TRMM\\Jiujang\\TRMM2006_DryYear\\10_Day_Period\\10_DaySums_StdNormAnomalyResClip2//TRMM_JJ_2006208.tif\n",
        "D:\\Data\\0_DAILY_INTERVAL_NDVI_TRMM\\Jiujang\\TRMM2006_DryYear\\10_Day_Period\\10_DaySums_StdNormAnomalyResClip2//TRMM_JJ_2006209.tif\n",
        "D:\\Data\\0_DAILY_INTERVAL_NDVI_TRMM\\Jiujang\\TRMM2006_DryYear\\10_Day_Period\\10_DaySums_StdNormAnomalyResClip2//TRMM_JJ_2006210.tif\n",
        "D:\\Data\\0_DAILY_INTERVAL_NDVI_TRMM\\Jiujang\\TRMM2006_DryYear\\10_Day_Period\\10_DaySums_StdNormAnomalyResClip2//TRMM_JJ_2006211.tif\n",
        "D:\\Data\\0_DAILY_INTERVAL_NDVI_TRMM\\Jiujang\\TRMM2006_DryYear\\10_Day_Period\\10_DaySums_StdNormAnomalyResClip2//TRMM_JJ_2006212.tif\n",
        "D:\\Data\\0_DAILY_INTERVAL_NDVI_TRMM\\Jiujang\\TRMM2006_DryYear\\10_Day_Period\\10_DaySums_StdNormAnomalyResClip2//TRMM_JJ_2006213.tif"
       ]
      },
      {
       "output_type": "stream",
       "stream": "stdout",
       "text": [
        "\n",
        "D:\\Data\\0_DAILY_INTERVAL_NDVI_TRMM\\Jiujang\\TRMM2006_DryYear\\10_Day_Period\\10_DaySums_StdNormAnomalyResClip2//TRMM_JJ_2006214.tif\n",
        "D:\\Data\\0_DAILY_INTERVAL_NDVI_TRMM\\Jiujang\\TRMM2006_DryYear\\10_Day_Period\\10_DaySums_StdNormAnomalyResClip2//TRMM_JJ_2006215.tif\n",
        "D:\\Data\\0_DAILY_INTERVAL_NDVI_TRMM\\Jiujang\\TRMM2006_DryYear\\10_Day_Period\\10_DaySums_StdNormAnomalyResClip2//TRMM_JJ_2006216.tif\n",
        "D:\\Data\\0_DAILY_INTERVAL_NDVI_TRMM\\Jiujang\\TRMM2006_DryYear\\10_Day_Period\\10_DaySums_StdNormAnomalyResClip2//TRMM_JJ_2006217.tif\n",
        "D:\\Data\\0_DAILY_INTERVAL_NDVI_TRMM\\Jiujang\\TRMM2006_DryYear\\10_Day_Period\\10_DaySums_StdNormAnomalyResClip2//TRMM_JJ_2006218.tif"
       ]
      },
      {
       "output_type": "stream",
       "stream": "stdout",
       "text": [
        "\n",
        "D:\\Data\\0_DAILY_INTERVAL_NDVI_TRMM\\Jiujang\\TRMM2006_DryYear\\10_Day_Period\\10_DaySums_StdNormAnomalyResClip2//TRMM_JJ_2006219.tif\n",
        "D:\\Data\\0_DAILY_INTERVAL_NDVI_TRMM\\Jiujang\\TRMM2006_DryYear\\10_Day_Period\\10_DaySums_StdNormAnomalyResClip2//TRMM_JJ_2006220.tif\n",
        "D:\\Data\\0_DAILY_INTERVAL_NDVI_TRMM\\Jiujang\\TRMM2006_DryYear\\10_Day_Period\\10_DaySums_StdNormAnomalyResClip2//TRMM_JJ_2006221.tif\n",
        "D:\\Data\\0_DAILY_INTERVAL_NDVI_TRMM\\Jiujang\\TRMM2006_DryYear\\10_Day_Period\\10_DaySums_StdNormAnomalyResClip2//TRMM_JJ_2006222.tif\n",
        "D:\\Data\\0_DAILY_INTERVAL_NDVI_TRMM\\Jiujang\\TRMM2006_DryYear\\10_Day_Period\\10_DaySums_StdNormAnomalyResClip2//TRMM_JJ_2006223.tif\n",
        "D:\\Data\\0_DAILY_INTERVAL_NDVI_TRMM\\Jiujang\\TRMM2006_DryYear\\10_Day_Period\\10_DaySums_StdNormAnomalyResClip2//TRMM_JJ_2006224.tif"
       ]
      },
      {
       "output_type": "stream",
       "stream": "stdout",
       "text": [
        "\n",
        "D:\\Data\\0_DAILY_INTERVAL_NDVI_TRMM\\Jiujang\\TRMM2006_DryYear\\10_Day_Period\\10_DaySums_StdNormAnomalyResClip2//TRMM_JJ_2006225.tif\n",
        "D:\\Data\\0_DAILY_INTERVAL_NDVI_TRMM\\Jiujang\\TRMM2006_DryYear\\10_Day_Period\\10_DaySums_StdNormAnomalyResClip2//TRMM_JJ_2006226.tif\n",
        "D:\\Data\\0_DAILY_INTERVAL_NDVI_TRMM\\Jiujang\\TRMM2006_DryYear\\10_Day_Period\\10_DaySums_StdNormAnomalyResClip2//TRMM_JJ_2006227.tif\n",
        "D:\\Data\\0_DAILY_INTERVAL_NDVI_TRMM\\Jiujang\\TRMM2006_DryYear\\10_Day_Period\\10_DaySums_StdNormAnomalyResClip2//TRMM_JJ_2006228.tif\n",
        "D:\\Data\\0_DAILY_INTERVAL_NDVI_TRMM\\Jiujang\\TRMM2006_DryYear\\10_Day_Period\\10_DaySums_StdNormAnomalyResClip2//TRMM_JJ_2006229.tif\n",
        "D:\\Data\\0_DAILY_INTERVAL_NDVI_TRMM\\Jiujang\\TRMM2006_DryYear\\10_Day_Period\\10_DaySums_StdNormAnomalyResClip2//TRMM_JJ_2006230.tif"
       ]
      },
      {
       "output_type": "stream",
       "stream": "stdout",
       "text": [
        "\n",
        "D:\\Data\\0_DAILY_INTERVAL_NDVI_TRMM\\Jiujang\\TRMM2006_DryYear\\10_Day_Period\\10_DaySums_StdNormAnomalyResClip2//TRMM_JJ_2006231.tif\n",
        "D:\\Data\\0_DAILY_INTERVAL_NDVI_TRMM\\Jiujang\\TRMM2006_DryYear\\10_Day_Period\\10_DaySums_StdNormAnomalyResClip2//TRMM_JJ_2006232.tif\n",
        "D:\\Data\\0_DAILY_INTERVAL_NDVI_TRMM\\Jiujang\\TRMM2006_DryYear\\10_Day_Period\\10_DaySums_StdNormAnomalyResClip2//TRMM_JJ_2006233.tif\n",
        "D:\\Data\\0_DAILY_INTERVAL_NDVI_TRMM\\Jiujang\\TRMM2006_DryYear\\10_Day_Period\\10_DaySums_StdNormAnomalyResClip2//TRMM_JJ_2006234.tif\n",
        "D:\\Data\\0_DAILY_INTERVAL_NDVI_TRMM\\Jiujang\\TRMM2006_DryYear\\10_Day_Period\\10_DaySums_StdNormAnomalyResClip2//TRMM_JJ_2006235.tif\n",
        "D:\\Data\\0_DAILY_INTERVAL_NDVI_TRMM\\Jiujang\\TRMM2006_DryYear\\10_Day_Period\\10_DaySums_StdNormAnomalyResClip2//TRMM_JJ_2006236.tif"
       ]
      },
      {
       "output_type": "stream",
       "stream": "stdout",
       "text": [
        "\n",
        "D:\\Data\\0_DAILY_INTERVAL_NDVI_TRMM\\Jiujang\\TRMM2006_DryYear\\10_Day_Period\\10_DaySums_StdNormAnomalyResClip2//TRMM_JJ_2006237.tif\n",
        "D:\\Data\\0_DAILY_INTERVAL_NDVI_TRMM\\Jiujang\\TRMM2006_DryYear\\10_Day_Period\\10_DaySums_StdNormAnomalyResClip2//TRMM_JJ_2006238.tif\n",
        "D:\\Data\\0_DAILY_INTERVAL_NDVI_TRMM\\Jiujang\\TRMM2006_DryYear\\10_Day_Period\\10_DaySums_StdNormAnomalyResClip2//TRMM_JJ_2006239.tif\n",
        "D:\\Data\\0_DAILY_INTERVAL_NDVI_TRMM\\Jiujang\\TRMM2006_DryYear\\10_Day_Period\\10_DaySums_StdNormAnomalyResClip2//TRMM_JJ_2006240.tif\n",
        "D:\\Data\\0_DAILY_INTERVAL_NDVI_TRMM\\Jiujang\\TRMM2006_DryYear\\10_Day_Period\\10_DaySums_StdNormAnomalyResClip2//TRMM_JJ_2006241.tif\n",
        "D:\\Data\\0_DAILY_INTERVAL_NDVI_TRMM\\Jiujang\\TRMM2006_DryYear\\10_Day_Period\\10_DaySums_StdNormAnomalyResClip2//TRMM_JJ_2006242.tif"
       ]
      },
      {
       "output_type": "stream",
       "stream": "stdout",
       "text": [
        "\n",
        "D:\\Data\\0_DAILY_INTERVAL_NDVI_TRMM\\Jiujang\\TRMM2006_DryYear\\10_Day_Period\\10_DaySums_StdNormAnomalyResClip2//TRMM_JJ_2006243.tif\n",
        "D:\\Data\\0_DAILY_INTERVAL_NDVI_TRMM\\Jiujang\\TRMM2006_DryYear\\10_Day_Period\\10_DaySums_StdNormAnomalyResClip2//TRMM_JJ_2006244.tif\n",
        "D:\\Data\\0_DAILY_INTERVAL_NDVI_TRMM\\Jiujang\\TRMM2006_DryYear\\10_Day_Period\\10_DaySums_StdNormAnomalyResClip2//TRMM_JJ_2006245.tif\n",
        "D:\\Data\\0_DAILY_INTERVAL_NDVI_TRMM\\Jiujang\\TRMM2006_DryYear\\10_Day_Period\\10_DaySums_StdNormAnomalyResClip2//TRMM_JJ_2006246.tif\n",
        "D:\\Data\\0_DAILY_INTERVAL_NDVI_TRMM\\Jiujang\\TRMM2006_DryYear\\10_Day_Period\\10_DaySums_StdNormAnomalyResClip2//TRMM_JJ_2006247.tif"
       ]
      },
      {
       "output_type": "stream",
       "stream": "stdout",
       "text": [
        "\n",
        "D:\\Data\\0_DAILY_INTERVAL_NDVI_TRMM\\Jiujang\\TRMM2006_DryYear\\10_Day_Period\\10_DaySums_StdNormAnomalyResClip2//TRMM_JJ_2006248.tif\n",
        "D:\\Data\\0_DAILY_INTERVAL_NDVI_TRMM\\Jiujang\\TRMM2006_DryYear\\10_Day_Period\\10_DaySums_StdNormAnomalyResClip2//TRMM_JJ_2006249.tif\n",
        "D:\\Data\\0_DAILY_INTERVAL_NDVI_TRMM\\Jiujang\\TRMM2006_DryYear\\10_Day_Period\\10_DaySums_StdNormAnomalyResClip2//TRMM_JJ_2006250.tif\n",
        "D:\\Data\\0_DAILY_INTERVAL_NDVI_TRMM\\Jiujang\\TRMM2006_DryYear\\10_Day_Period\\10_DaySums_StdNormAnomalyResClip2//TRMM_JJ_2006251.tif\n",
        "D:\\Data\\0_DAILY_INTERVAL_NDVI_TRMM\\Jiujang\\TRMM2006_DryYear\\10_Day_Period\\10_DaySums_StdNormAnomalyResClip2//TRMM_JJ_2006252.tif\n",
        "D:\\Data\\0_DAILY_INTERVAL_NDVI_TRMM\\Jiujang\\TRMM2006_DryYear\\10_Day_Period\\10_DaySums_StdNormAnomalyResClip2//TRMM_JJ_2006253.tif"
       ]
      },
      {
       "output_type": "stream",
       "stream": "stdout",
       "text": [
        "\n",
        "D:\\Data\\0_DAILY_INTERVAL_NDVI_TRMM\\Jiujang\\TRMM2006_DryYear\\10_Day_Period\\10_DaySums_StdNormAnomalyResClip2//TRMM_JJ_2006254.tif\n",
        "D:\\Data\\0_DAILY_INTERVAL_NDVI_TRMM\\Jiujang\\TRMM2006_DryYear\\10_Day_Period\\10_DaySums_StdNormAnomalyResClip2//TRMM_JJ_2006255.tif\n",
        "D:\\Data\\0_DAILY_INTERVAL_NDVI_TRMM\\Jiujang\\TRMM2006_DryYear\\10_Day_Period\\10_DaySums_StdNormAnomalyResClip2//TRMM_JJ_2006256.tif\n",
        "D:\\Data\\0_DAILY_INTERVAL_NDVI_TRMM\\Jiujang\\TRMM2006_DryYear\\10_Day_Period\\10_DaySums_StdNormAnomalyResClip2//TRMM_JJ_2006257.tif\n",
        "D:\\Data\\0_DAILY_INTERVAL_NDVI_TRMM\\Jiujang\\TRMM2006_DryYear\\10_Day_Period\\10_DaySums_StdNormAnomalyResClip2//TRMM_JJ_2006258.tif\n",
        "D:\\Data\\0_DAILY_INTERVAL_NDVI_TRMM\\Jiujang\\TRMM2006_DryYear\\10_Day_Period\\10_DaySums_StdNormAnomalyResClip2//TRMM_JJ_2006259.tif"
       ]
      },
      {
       "output_type": "stream",
       "stream": "stdout",
       "text": [
        "\n",
        "D:\\Data\\0_DAILY_INTERVAL_NDVI_TRMM\\Jiujang\\TRMM2006_DryYear\\10_Day_Period\\10_DaySums_StdNormAnomalyResClip2//TRMM_JJ_2006260.tif\n",
        "D:\\Data\\0_DAILY_INTERVAL_NDVI_TRMM\\Jiujang\\TRMM2006_DryYear\\10_Day_Period\\10_DaySums_StdNormAnomalyResClip2//TRMM_JJ_2006261.tif\n",
        "D:\\Data\\0_DAILY_INTERVAL_NDVI_TRMM\\Jiujang\\TRMM2006_DryYear\\10_Day_Period\\10_DaySums_StdNormAnomalyResClip2//TRMM_JJ_2006262.tif\n",
        "D:\\Data\\0_DAILY_INTERVAL_NDVI_TRMM\\Jiujang\\TRMM2006_DryYear\\10_Day_Period\\10_DaySums_StdNormAnomalyResClip2//TRMM_JJ_2006263.tif\n",
        "D:\\Data\\0_DAILY_INTERVAL_NDVI_TRMM\\Jiujang\\TRMM2006_DryYear\\10_Day_Period\\10_DaySums_StdNormAnomalyResClip2//TRMM_JJ_2006264.tif\n",
        "D:\\Data\\0_DAILY_INTERVAL_NDVI_TRMM\\Jiujang\\TRMM2006_DryYear\\10_Day_Period\\10_DaySums_StdNormAnomalyResClip2//TRMM_JJ_2006265.tif"
       ]
      },
      {
       "output_type": "stream",
       "stream": "stdout",
       "text": [
        "\n",
        "D:\\Data\\0_DAILY_INTERVAL_NDVI_TRMM\\Jiujang\\TRMM2006_DryYear\\10_Day_Period\\10_DaySums_StdNormAnomalyResClip2//TRMM_JJ_2006266.tif\n",
        "D:\\Data\\0_DAILY_INTERVAL_NDVI_TRMM\\Jiujang\\TRMM2006_DryYear\\10_Day_Period\\10_DaySums_StdNormAnomalyResClip2//TRMM_JJ_2006267.tif\n",
        "D:\\Data\\0_DAILY_INTERVAL_NDVI_TRMM\\Jiujang\\TRMM2006_DryYear\\10_Day_Period\\10_DaySums_StdNormAnomalyResClip2//TRMM_JJ_2006268.tif\n",
        "D:\\Data\\0_DAILY_INTERVAL_NDVI_TRMM\\Jiujang\\TRMM2006_DryYear\\10_Day_Period\\10_DaySums_StdNormAnomalyResClip2//TRMM_JJ_2006269.tif\n",
        "D:\\Data\\0_DAILY_INTERVAL_NDVI_TRMM\\Jiujang\\TRMM2006_DryYear\\10_Day_Period\\10_DaySums_StdNormAnomalyResClip2//TRMM_JJ_2006270.tif\n",
        "D:\\Data\\0_DAILY_INTERVAL_NDVI_TRMM\\Jiujang\\TRMM2006_DryYear\\10_Day_Period\\10_DaySums_StdNormAnomalyResClip2//TRMM_JJ_2006271.tif"
       ]
      },
      {
       "output_type": "stream",
       "stream": "stdout",
       "text": [
        "\n",
        "D:\\Data\\0_DAILY_INTERVAL_NDVI_TRMM\\Jiujang\\TRMM2006_DryYear\\10_Day_Period\\10_DaySums_StdNormAnomalyResClip2//TRMM_JJ_2006272.tif\n",
        "D:\\Data\\0_DAILY_INTERVAL_NDVI_TRMM\\Jiujang\\TRMM2006_DryYear\\10_Day_Period\\10_DaySums_StdNormAnomalyResClip2//TRMM_JJ_2006273.tif\n",
        "D:\\Data\\0_DAILY_INTERVAL_NDVI_TRMM\\Jiujang\\TRMM2006_DryYear\\10_Day_Period\\10_DaySums_StdNormAnomalyResClip2//TRMM_JJ_2006274.tif\n",
        "D:\\Data\\0_DAILY_INTERVAL_NDVI_TRMM\\Jiujang\\TRMM2006_DryYear\\10_Day_Period\\10_DaySums_StdNormAnomalyResClip2//TRMM_JJ_2006275.tif\n",
        "D:\\Data\\0_DAILY_INTERVAL_NDVI_TRMM\\Jiujang\\TRMM2006_DryYear\\10_Day_Period\\10_DaySums_StdNormAnomalyResClip2//TRMM_JJ_2006276.tif\n",
        "D:\\Data\\0_DAILY_INTERVAL_NDVI_TRMM\\Jiujang\\TRMM2006_DryYear\\10_Day_Period\\10_DaySums_StdNormAnomalyResClip2//TRMM_JJ_2006277.tif"
       ]
      },
      {
       "output_type": "stream",
       "stream": "stdout",
       "text": [
        "\n",
        "D:\\Data\\0_DAILY_INTERVAL_NDVI_TRMM\\Jiujang\\TRMM2006_DryYear\\10_Day_Period\\10_DaySums_StdNormAnomalyResClip2//TRMM_JJ_2006278.tif\n",
        "D:\\Data\\0_DAILY_INTERVAL_NDVI_TRMM\\Jiujang\\TRMM2006_DryYear\\10_Day_Period\\10_DaySums_StdNormAnomalyResClip2//TRMM_JJ_2006279.tif\n",
        "D:\\Data\\0_DAILY_INTERVAL_NDVI_TRMM\\Jiujang\\TRMM2006_DryYear\\10_Day_Period\\10_DaySums_StdNormAnomalyResClip2//TRMM_JJ_2006280.tif\n",
        "D:\\Data\\0_DAILY_INTERVAL_NDVI_TRMM\\Jiujang\\TRMM2006_DryYear\\10_Day_Period\\10_DaySums_StdNormAnomalyResClip2//TRMM_JJ_2006281.tif\n",
        "D:\\Data\\0_DAILY_INTERVAL_NDVI_TRMM\\Jiujang\\TRMM2006_DryYear\\10_Day_Period\\10_DaySums_StdNormAnomalyResClip2//TRMM_JJ_2006282.tif\n",
        "D:\\Data\\0_DAILY_INTERVAL_NDVI_TRMM\\Jiujang\\TRMM2006_DryYear\\10_Day_Period\\10_DaySums_StdNormAnomalyResClip2//TRMM_JJ_2006283.tif"
       ]
      },
      {
       "output_type": "stream",
       "stream": "stdout",
       "text": [
        "\n",
        "D:\\Data\\0_DAILY_INTERVAL_NDVI_TRMM\\Jiujang\\TRMM2006_DryYear\\10_Day_Period\\10_DaySums_StdNormAnomalyResClip2//TRMM_JJ_2006284.tif\n",
        "D:\\Data\\0_DAILY_INTERVAL_NDVI_TRMM\\Jiujang\\TRMM2006_DryYear\\10_Day_Period\\10_DaySums_StdNormAnomalyResClip2//TRMM_JJ_2006285.tif\n",
        "D:\\Data\\0_DAILY_INTERVAL_NDVI_TRMM\\Jiujang\\TRMM2006_DryYear\\10_Day_Period\\10_DaySums_StdNormAnomalyResClip2//TRMM_JJ_2006286.tif\n",
        "D:\\Data\\0_DAILY_INTERVAL_NDVI_TRMM\\Jiujang\\TRMM2006_DryYear\\10_Day_Period\\10_DaySums_StdNormAnomalyResClip2//TRMM_JJ_2006287.tif\n",
        "D:\\Data\\0_DAILY_INTERVAL_NDVI_TRMM\\Jiujang\\TRMM2006_DryYear\\10_Day_Period\\10_DaySums_StdNormAnomalyResClip2//TRMM_JJ_2006288.tif\n",
        "D:\\Data\\0_DAILY_INTERVAL_NDVI_TRMM\\Jiujang\\TRMM2006_DryYear\\10_Day_Period\\10_DaySums_StdNormAnomalyResClip2//TRMM_JJ_2006289.tif"
       ]
      },
      {
       "output_type": "stream",
       "stream": "stdout",
       "text": [
        "\n",
        "D:\\Data\\0_DAILY_INTERVAL_NDVI_TRMM\\Jiujang\\TRMM2006_DryYear\\10_Day_Period\\10_DaySums_StdNormAnomalyResClip2//TRMM_JJ_2006290.tif\n",
        "D:\\Data\\0_DAILY_INTERVAL_NDVI_TRMM\\Jiujang\\TRMM2006_DryYear\\10_Day_Period\\10_DaySums_StdNormAnomalyResClip2//TRMM_JJ_2006291.tif\n",
        "D:\\Data\\0_DAILY_INTERVAL_NDVI_TRMM\\Jiujang\\TRMM2006_DryYear\\10_Day_Period\\10_DaySums_StdNormAnomalyResClip2//TRMM_JJ_2006292.tif\n",
        "D:\\Data\\0_DAILY_INTERVAL_NDVI_TRMM\\Jiujang\\TRMM2006_DryYear\\10_Day_Period\\10_DaySums_StdNormAnomalyResClip2//TRMM_JJ_2006293.tif\n",
        "D:\\Data\\0_DAILY_INTERVAL_NDVI_TRMM\\Jiujang\\TRMM2006_DryYear\\10_Day_Period\\10_DaySums_StdNormAnomalyResClip2//TRMM_JJ_2006294.tif\n",
        "D:\\Data\\0_DAILY_INTERVAL_NDVI_TRMM\\Jiujang\\TRMM2006_DryYear\\10_Day_Period\\10_DaySums_StdNormAnomalyResClip2//TRMM_JJ_2006295.tif"
       ]
      },
      {
       "output_type": "stream",
       "stream": "stdout",
       "text": [
        "\n",
        "D:\\Data\\0_DAILY_INTERVAL_NDVI_TRMM\\Jiujang\\TRMM2006_DryYear\\10_Day_Period\\10_DaySums_StdNormAnomalyResClip2//TRMM_JJ_2006296.tif\n",
        "D:\\Data\\0_DAILY_INTERVAL_NDVI_TRMM\\Jiujang\\TRMM2006_DryYear\\10_Day_Period\\10_DaySums_StdNormAnomalyResClip2//TRMM_JJ_2006297.tif\n",
        "D:\\Data\\0_DAILY_INTERVAL_NDVI_TRMM\\Jiujang\\TRMM2006_DryYear\\10_Day_Period\\10_DaySums_StdNormAnomalyResClip2//TRMM_JJ_2006298.tif\n",
        "D:\\Data\\0_DAILY_INTERVAL_NDVI_TRMM\\Jiujang\\TRMM2006_DryYear\\10_Day_Period\\10_DaySums_StdNormAnomalyResClip2//TRMM_JJ_2006299.tif\n",
        "D:\\Data\\0_DAILY_INTERVAL_NDVI_TRMM\\Jiujang\\TRMM2006_DryYear\\10_Day_Period\\10_DaySums_StdNormAnomalyResClip2//TRMM_JJ_2006300.tif\n",
        "D:\\Data\\0_DAILY_INTERVAL_NDVI_TRMM\\Jiujang\\TRMM2006_DryYear\\10_Day_Period\\10_DaySums_StdNormAnomalyResClip2//TRMM_JJ_2006301.tif"
       ]
      },
      {
       "output_type": "stream",
       "stream": "stdout",
       "text": [
        "\n",
        "D:\\Data\\0_DAILY_INTERVAL_NDVI_TRMM\\Jiujang\\TRMM2006_DryYear\\10_Day_Period\\10_DaySums_StdNormAnomalyResClip2//TRMM_JJ_2006302.tif\n",
        "D:\\Data\\0_DAILY_INTERVAL_NDVI_TRMM\\Jiujang\\TRMM2006_DryYear\\10_Day_Period\\10_DaySums_StdNormAnomalyResClip2//TRMM_JJ_2006303.tif\n",
        "D:\\Data\\0_DAILY_INTERVAL_NDVI_TRMM\\Jiujang\\TRMM2006_DryYear\\10_Day_Period\\10_DaySums_StdNormAnomalyResClip2//TRMM_JJ_2006304.tif\n",
        "D:\\Data\\0_DAILY_INTERVAL_NDVI_TRMM\\Jiujang\\TRMM2006_DryYear\\10_Day_Period\\10_DaySums_StdNormAnomalyResClip2//TRMM_JJ_2006305.tif\n",
        "D:\\Data\\0_DAILY_INTERVAL_NDVI_TRMM\\Jiujang\\TRMM2006_DryYear\\10_Day_Period\\10_DaySums_StdNormAnomalyResClip2//TRMM_JJ_2006306.tif\n",
        "D:\\Data\\0_DAILY_INTERVAL_NDVI_TRMM\\Jiujang\\TRMM2006_DryYear\\10_Day_Period\\10_DaySums_StdNormAnomalyResClip2//TRMM_JJ_2006307.tif"
       ]
      },
      {
       "output_type": "stream",
       "stream": "stdout",
       "text": [
        "\n",
        "D:\\Data\\0_DAILY_INTERVAL_NDVI_TRMM\\Jiujang\\TRMM2006_DryYear\\10_Day_Period\\10_DaySums_StdNormAnomalyResClip2//TRMM_JJ_2006308.tif\n",
        "D:\\Data\\0_DAILY_INTERVAL_NDVI_TRMM\\Jiujang\\TRMM2006_DryYear\\10_Day_Period\\10_DaySums_StdNormAnomalyResClip2//TRMM_JJ_2006309.tif\n",
        "D:\\Data\\0_DAILY_INTERVAL_NDVI_TRMM\\Jiujang\\TRMM2006_DryYear\\10_Day_Period\\10_DaySums_StdNormAnomalyResClip2//TRMM_JJ_2006310.tif"
       ]
      },
      {
       "output_type": "stream",
       "stream": "stdout",
       "text": [
        "\n",
        "D:\\Data\\0_DAILY_INTERVAL_NDVI_TRMM\\Jiujang\\TRMM2006_DryYear\\10_Day_Period\\10_DaySums_StdNormAnomalyResClip2//TRMM_JJ_2006311.tif"
       ]
      },
      {
       "output_type": "stream",
       "stream": "stdout",
       "text": [
        "\n",
        "D:\\Data\\0_DAILY_INTERVAL_NDVI_TRMM\\Jiujang\\TRMM2006_DryYear\\10_Day_Period\\10_DaySums_StdNormAnomalyResClip2//TRMM_JJ_2006312.tif"
       ]
      },
      {
       "output_type": "stream",
       "stream": "stdout",
       "text": [
        "\n",
        "D:\\Data\\0_DAILY_INTERVAL_NDVI_TRMM\\Jiujang\\TRMM2006_DryYear\\10_Day_Period\\10_DaySums_StdNormAnomalyResClip2//TRMM_JJ_2006313.tif\n",
        "D:\\Data\\0_DAILY_INTERVAL_NDVI_TRMM\\Jiujang\\TRMM2006_DryYear\\10_Day_Period\\10_DaySums_StdNormAnomalyResClip2//TRMM_JJ_2006314.tif\n",
        "D:\\Data\\0_DAILY_INTERVAL_NDVI_TRMM\\Jiujang\\TRMM2006_DryYear\\10_Day_Period\\10_DaySums_StdNormAnomalyResClip2//TRMM_JJ_2006315.tif"
       ]
      },
      {
       "output_type": "stream",
       "stream": "stdout",
       "text": [
        "\n",
        "D:\\Data\\0_DAILY_INTERVAL_NDVI_TRMM\\Jiujang\\TRMM2006_DryYear\\10_Day_Period\\10_DaySums_StdNormAnomalyResClip2//TRMM_JJ_2006316.tif\n",
        "D:\\Data\\0_DAILY_INTERVAL_NDVI_TRMM\\Jiujang\\TRMM2006_DryYear\\10_Day_Period\\10_DaySums_StdNormAnomalyResClip2//TRMM_JJ_2006317.tif\n",
        "D:\\Data\\0_DAILY_INTERVAL_NDVI_TRMM\\Jiujang\\TRMM2006_DryYear\\10_Day_Period\\10_DaySums_StdNormAnomalyResClip2//TRMM_JJ_2006318.tif\n",
        "D:\\Data\\0_DAILY_INTERVAL_NDVI_TRMM\\Jiujang\\TRMM2006_DryYear\\10_Day_Period\\10_DaySums_StdNormAnomalyResClip2//TRMM_JJ_2006319.tif\n",
        "D:\\Data\\0_DAILY_INTERVAL_NDVI_TRMM\\Jiujang\\TRMM2006_DryYear\\10_Day_Period\\10_DaySums_StdNormAnomalyResClip2//TRMM_JJ_2006320.tif\n",
        "D:\\Data\\0_DAILY_INTERVAL_NDVI_TRMM\\Jiujang\\TRMM2006_DryYear\\10_Day_Period\\10_DaySums_StdNormAnomalyResClip2//TRMM_JJ_2006321.tif"
       ]
      },
      {
       "output_type": "stream",
       "stream": "stdout",
       "text": [
        "\n",
        "D:\\Data\\0_DAILY_INTERVAL_NDVI_TRMM\\Jiujang\\TRMM2006_DryYear\\10_Day_Period\\10_DaySums_StdNormAnomalyResClip2//TRMM_JJ_2006322.tif\n",
        "D:\\Data\\0_DAILY_INTERVAL_NDVI_TRMM\\Jiujang\\TRMM2006_DryYear\\10_Day_Period\\10_DaySums_StdNormAnomalyResClip2//TRMM_JJ_2006323.tif\n",
        "D:\\Data\\0_DAILY_INTERVAL_NDVI_TRMM\\Jiujang\\TRMM2006_DryYear\\10_Day_Period\\10_DaySums_StdNormAnomalyResClip2//TRMM_JJ_2006324.tif\n",
        "D:\\Data\\0_DAILY_INTERVAL_NDVI_TRMM\\Jiujang\\TRMM2006_DryYear\\10_Day_Period\\10_DaySums_StdNormAnomalyResClip2//TRMM_JJ_2006325.tif\n",
        "D:\\Data\\0_DAILY_INTERVAL_NDVI_TRMM\\Jiujang\\TRMM2006_DryYear\\10_Day_Period\\10_DaySums_StdNormAnomalyResClip2//TRMM_JJ_2006326.tif\n",
        "D:\\Data\\0_DAILY_INTERVAL_NDVI_TRMM\\Jiujang\\TRMM2006_DryYear\\10_Day_Period\\10_DaySums_StdNormAnomalyResClip2//TRMM_JJ_2006327.tif"
       ]
      },
      {
       "output_type": "stream",
       "stream": "stdout",
       "text": [
        "\n",
        "D:\\Data\\0_DAILY_INTERVAL_NDVI_TRMM\\Jiujang\\TRMM2006_DryYear\\10_Day_Period\\10_DaySums_StdNormAnomalyResClip2//TRMM_JJ_2006328.tif\n",
        "D:\\Data\\0_DAILY_INTERVAL_NDVI_TRMM\\Jiujang\\TRMM2006_DryYear\\10_Day_Period\\10_DaySums_StdNormAnomalyResClip2//TRMM_JJ_2006329.tif\n",
        "D:\\Data\\0_DAILY_INTERVAL_NDVI_TRMM\\Jiujang\\TRMM2006_DryYear\\10_Day_Period\\10_DaySums_StdNormAnomalyResClip2//TRMM_JJ_2006330.tif\n",
        "D:\\Data\\0_DAILY_INTERVAL_NDVI_TRMM\\Jiujang\\TRMM2006_DryYear\\10_Day_Period\\10_DaySums_StdNormAnomalyResClip2//TRMM_JJ_2006331.tif\n",
        "D:\\Data\\0_DAILY_INTERVAL_NDVI_TRMM\\Jiujang\\TRMM2006_DryYear\\10_Day_Period\\10_DaySums_StdNormAnomalyResClip2//TRMM_JJ_2006332.tif\n",
        "D:\\Data\\0_DAILY_INTERVAL_NDVI_TRMM\\Jiujang\\TRMM2006_DryYear\\10_Day_Period\\10_DaySums_StdNormAnomalyResClip2//TRMM_JJ_2006333.tif"
       ]
      },
      {
       "output_type": "stream",
       "stream": "stdout",
       "text": [
        "\n",
        "D:\\Data\\0_DAILY_INTERVAL_NDVI_TRMM\\Jiujang\\TRMM2006_DryYear\\10_Day_Period\\10_DaySums_StdNormAnomalyResClip2//TRMM_JJ_2006334.tif\n",
        "D:\\Data\\0_DAILY_INTERVAL_NDVI_TRMM\\Jiujang\\TRMM2006_DryYear\\10_Day_Period\\10_DaySums_StdNormAnomalyResClip2//TRMM_JJ_2006335.tif\n",
        "D:\\Data\\0_DAILY_INTERVAL_NDVI_TRMM\\Jiujang\\TRMM2006_DryYear\\10_Day_Period\\10_DaySums_StdNormAnomalyResClip2//TRMM_JJ_2006336.tif\n",
        "D:\\Data\\0_DAILY_INTERVAL_NDVI_TRMM\\Jiujang\\TRMM2006_DryYear\\10_Day_Period\\10_DaySums_StdNormAnomalyResClip2//TRMM_JJ_2006337.tif\n",
        "D:\\Data\\0_DAILY_INTERVAL_NDVI_TRMM\\Jiujang\\TRMM2006_DryYear\\10_Day_Period\\10_DaySums_StdNormAnomalyResClip2//TRMM_JJ_2006338.tif\n",
        "D:\\Data\\0_DAILY_INTERVAL_NDVI_TRMM\\Jiujang\\TRMM2006_DryYear\\10_Day_Period\\10_DaySums_StdNormAnomalyResClip2//TRMM_JJ_2006339.tif"
       ]
      },
      {
       "output_type": "stream",
       "stream": "stdout",
       "text": [
        "\n",
        "D:\\Data\\0_DAILY_INTERVAL_NDVI_TRMM\\Jiujang\\TRMM2006_DryYear\\10_Day_Period\\10_DaySums_StdNormAnomalyResClip2//TRMM_JJ_2006340.tif\n",
        "D:\\Data\\0_DAILY_INTERVAL_NDVI_TRMM\\Jiujang\\TRMM2006_DryYear\\10_Day_Period\\10_DaySums_StdNormAnomalyResClip2//TRMM_JJ_2006341.tif\n",
        "D:\\Data\\0_DAILY_INTERVAL_NDVI_TRMM\\Jiujang\\TRMM2006_DryYear\\10_Day_Period\\10_DaySums_StdNormAnomalyResClip2//TRMM_JJ_2006342.tif\n",
        "D:\\Data\\0_DAILY_INTERVAL_NDVI_TRMM\\Jiujang\\TRMM2006_DryYear\\10_Day_Period\\10_DaySums_StdNormAnomalyResClip2//TRMM_JJ_2006343.tif\n",
        "D:\\Data\\0_DAILY_INTERVAL_NDVI_TRMM\\Jiujang\\TRMM2006_DryYear\\10_Day_Period\\10_DaySums_StdNormAnomalyResClip2//TRMM_JJ_2006344.tif\n",
        "D:\\Data\\0_DAILY_INTERVAL_NDVI_TRMM\\Jiujang\\TRMM2006_DryYear\\10_Day_Period\\10_DaySums_StdNormAnomalyResClip2//TRMM_JJ_2006345.tif"
       ]
      },
      {
       "output_type": "stream",
       "stream": "stdout",
       "text": [
        "\n",
        "D:\\Data\\0_DAILY_INTERVAL_NDVI_TRMM\\Jiujang\\TRMM2006_DryYear\\10_Day_Period\\10_DaySums_StdNormAnomalyResClip2//TRMM_JJ_2006346.tif\n",
        "D:\\Data\\0_DAILY_INTERVAL_NDVI_TRMM\\Jiujang\\TRMM2006_DryYear\\10_Day_Period\\10_DaySums_StdNormAnomalyResClip2//TRMM_JJ_2006347.tif\n",
        "D:\\Data\\0_DAILY_INTERVAL_NDVI_TRMM\\Jiujang\\TRMM2006_DryYear\\10_Day_Period\\10_DaySums_StdNormAnomalyResClip2//TRMM_JJ_2006348.tif\n",
        "D:\\Data\\0_DAILY_INTERVAL_NDVI_TRMM\\Jiujang\\TRMM2006_DryYear\\10_Day_Period\\10_DaySums_StdNormAnomalyResClip2//TRMM_JJ_2006349.tif\n",
        "D:\\Data\\0_DAILY_INTERVAL_NDVI_TRMM\\Jiujang\\TRMM2006_DryYear\\10_Day_Period\\10_DaySums_StdNormAnomalyResClip2//TRMM_JJ_2006350.tif\n",
        "D:\\Data\\0_DAILY_INTERVAL_NDVI_TRMM\\Jiujang\\TRMM2006_DryYear\\10_Day_Period\\10_DaySums_StdNormAnomalyResClip2//TRMM_JJ_2006351.tif"
       ]
      },
      {
       "output_type": "stream",
       "stream": "stdout",
       "text": [
        "\n",
        "D:\\Data\\0_DAILY_INTERVAL_NDVI_TRMM\\Jiujang\\TRMM2006_DryYear\\10_Day_Period\\10_DaySums_StdNormAnomalyResClip2//TRMM_JJ_2006352.tif\n",
        "D:\\Data\\0_DAILY_INTERVAL_NDVI_TRMM\\Jiujang\\TRMM2006_DryYear\\10_Day_Period\\10_DaySums_StdNormAnomalyResClip2//TRMM_JJ_2006353.tif\n",
        "D:\\Data\\0_DAILY_INTERVAL_NDVI_TRMM\\Jiujang\\TRMM2006_DryYear\\10_Day_Period\\10_DaySums_StdNormAnomalyResClip2//TRMM_JJ_2006354.tif\n",
        "D:\\Data\\0_DAILY_INTERVAL_NDVI_TRMM\\Jiujang\\TRMM2006_DryYear\\10_Day_Period\\10_DaySums_StdNormAnomalyResClip2//TRMM_JJ_2006355.tif\n",
        "D:\\Data\\0_DAILY_INTERVAL_NDVI_TRMM\\Jiujang\\TRMM2006_DryYear\\10_Day_Period\\10_DaySums_StdNormAnomalyResClip2//TRMM_JJ_2006356.tif\n",
        "D:\\Data\\0_DAILY_INTERVAL_NDVI_TRMM\\Jiujang\\TRMM2006_DryYear\\10_Day_Period\\10_DaySums_StdNormAnomalyResClip2//TRMM_JJ_2006357.tif"
       ]
      },
      {
       "output_type": "stream",
       "stream": "stdout",
       "text": [
        "\n",
        "D:\\Data\\0_DAILY_INTERVAL_NDVI_TRMM\\Jiujang\\TRMM2006_DryYear\\10_Day_Period\\10_DaySums_StdNormAnomalyResClip2//TRMM_JJ_2006358.tif\n",
        "D:\\Data\\0_DAILY_INTERVAL_NDVI_TRMM\\Jiujang\\TRMM2006_DryYear\\10_Day_Period\\10_DaySums_StdNormAnomalyResClip2//TRMM_JJ_2006359.tif\n",
        "D:\\Data\\0_DAILY_INTERVAL_NDVI_TRMM\\Jiujang\\TRMM2006_DryYear\\10_Day_Period\\10_DaySums_StdNormAnomalyResClip2//TRMM_JJ_2006360.tif\n",
        "D:\\Data\\0_DAILY_INTERVAL_NDVI_TRMM\\Jiujang\\TRMM2006_DryYear\\10_Day_Period\\10_DaySums_StdNormAnomalyResClip2//TRMM_JJ_2006361.tif\n",
        "D:\\Data\\0_DAILY_INTERVAL_NDVI_TRMM\\Jiujang\\TRMM2006_DryYear\\10_Day_Period\\10_DaySums_StdNormAnomalyResClip2//TRMM_JJ_2006362.tif\n",
        "D:\\Data\\0_DAILY_INTERVAL_NDVI_TRMM\\Jiujang\\TRMM2006_DryYear\\10_Day_Period\\10_DaySums_StdNormAnomalyResClip2//TRMM_JJ_2006363.tif"
       ]
      },
      {
       "output_type": "stream",
       "stream": "stdout",
       "text": [
        "\n",
        "D:\\Data\\0_DAILY_INTERVAL_NDVI_TRMM\\Jiujang\\TRMM2006_DryYear\\10_Day_Period\\10_DaySums_StdNormAnomalyResClip2//TRMM_JJ_2006364.tif\n",
        "D:\\Data\\0_DAILY_INTERVAL_NDVI_TRMM\\Jiujang\\TRMM2006_DryYear\\10_Day_Period\\10_DaySums_StdNormAnomalyResClip2//TRMM_JJ_2006365.tif\n"
       ]
      }
     ],
     "prompt_number": 38
    },
    {
     "cell_type": "code",
     "collapsed": false,
     "input": [
      "array.shape"
     ],
     "language": "python",
     "metadata": {},
     "outputs": [
      {
       "metadata": {},
       "output_type": "pyout",
       "prompt_number": 19,
       "text": [
        "(330L, 500L)"
       ]
      }
     ],
     "prompt_number": 19
    },
    {
     "cell_type": "code",
     "collapsed": false,
     "input": [
      "array.T[0:-1].T.shape"
     ],
     "language": "python",
     "metadata": {},
     "outputs": [
      {
       "metadata": {},
       "output_type": "pyout",
       "prompt_number": 23,
       "text": [
        "(330L, 499L)"
       ]
      }
     ],
     "prompt_number": 23
    },
    {
     "cell_type": "code",
     "collapsed": false,
     "input": [
      "array_base.shape"
     ],
     "language": "python",
     "metadata": {},
     "outputs": [
      {
       "metadata": {},
       "output_type": "pyout",
       "prompt_number": 22,
       "text": [
        "(330L, 499L)"
       ]
      }
     ],
     "prompt_number": 22
    },
    {
     "cell_type": "code",
     "collapsed": false,
     "input": [],
     "language": "python",
     "metadata": {},
     "outputs": []
    },
    {
     "cell_type": "code",
     "collapsed": false,
     "input": [],
     "language": "python",
     "metadata": {},
     "outputs": []
    },
    {
     "cell_type": "code",
     "collapsed": false,
     "input": [],
     "language": "python",
     "metadata": {},
     "outputs": []
    },
    {
     "cell_type": "code",
     "collapsed": false,
     "input": [],
     "language": "python",
     "metadata": {},
     "outputs": []
    },
    {
     "cell_type": "code",
     "collapsed": false,
     "input": [
      "print 'x'"
     ],
     "language": "python",
     "metadata": {},
     "outputs": []
    },
    {
     "cell_type": "code",
     "collapsed": false,
     "input": [
      "filename = r'D:\\Data\\0_DAILY_INTERVAL_NDVI_TRMM\\Jiujang\\SoilRetention//JJ_Resample_1500_Clip1.tif'\n",
      "raster = gdal.Open(filename, gdal.GA_ReadOnly)\n",
      "#band = raster.GetRasterBand(band)\n",
      "#array = band.ReadAsArray()\n",
      "#extent = raster.GetGeoTransform()"
     ],
     "language": "python",
     "metadata": {},
     "outputs": []
    },
    {
     "cell_type": "code",
     "collapsed": false,
     "input": [
      "array_out = raster.ReadAsArray()[:,0:-1,:]"
     ],
     "language": "python",
     "metadata": {},
     "outputs": []
    },
    {
     "cell_type": "code",
     "collapsed": false,
     "input": [
      "#raster, array, extent = OpenRaster(r'D:\\Data\\0_DAILY_INTERVAL_NDVI_TRMM\\Jiujang\\SoilRetention//JJ_Resample_33_Clip1.tif')\n",
      "#array = np.array(raster.ReadAsArray())\n",
      "#ds_ref = gdal.Open(r'D:\\Data\\0_DAILY_INTERVAL_NDVI_TRMM\\Jiujang\\OUTPUT_2010//ph12.tif')\n",
      "path_out = r'D:\\Data\\0_DAILY_INTERVAL_NDVI_TRMM\\Jiujang\\SoilRetention//JJ_Resample_1500_Clip4.tif'\n",
      "saveRaster(path_out, array_out, raster, datatype=6)"
     ],
     "language": "python",
     "metadata": {},
     "outputs": []
    },
    {
     "cell_type": "code",
     "collapsed": false,
     "input": [
      "shapefile = 'D:\\Data\\ChinaShapefile//Jiujang.shp'\n",
      "daShapefile = shapefile\n",
      "driver = ogr.GetDriverByName('ESRI Shapefile')\n",
      "dataSource = driver.Open(daShapefile, 0)\n",
      "layer = dataSource.GetLayer()\n",
      "ex1,ex2,ex3,ex4 = layer.GetExtent()\n",
      "gdal_translate = 'D:\\Python34\\Lib\\site-packages\\osgeo\\\\gdal_translate.exe'"
     ],
     "language": "python",
     "metadata": {},
     "outputs": []
    },
    {
     "cell_type": "code",
     "collapsed": false,
     "input": [
      "folderout = r'D:\\Data\\ChinaSoilmoisture//'\n",
      "folderin = r'D:\\Data\\ChinaSoilmoisture\\TH1500//TH1500.nc'\n",
      "file_nc = 'NETCDF:\"'+folderin+'\":TH1500'\n",
      "\n",
      "pathout = folderout+'JJ_TH1500.tif'\n",
      "\n",
      "#folderin = r'D:\\GoogleChromeDownloads\\CL//CL.nc'\n",
      "#file_nc = 'NETCDF:\"'+folderin+'\":CL'\n",
      "ds = gdal.Open(file_nc, GA_ReadOnly)\n",
      "ds.RasterCount"
     ],
     "language": "python",
     "metadata": {},
     "outputs": []
    },
    {
     "cell_type": "code",
     "collapsed": false,
     "input": [
      "file_nc, pathout"
     ],
     "language": "python",
     "metadata": {},
     "outputs": []
    },
    {
     "cell_type": "code",
     "collapsed": false,
     "input": [
      "paramsnorm = [gdal_translate, \"-projwin\", str(ex1), str(ex4), str(ex2), str(ex3), file_nc, pathout]\n",
      "print (sp.list2cmdline(paramsnorm))\n",
      "print (file_nc)\n",
      "norm = sp.Popen(sp.list2cmdline(paramsnorm), shell=True)     \n",
      "norm.communicate() "
     ],
     "language": "python",
     "metadata": {},
     "outputs": []
    },
    {
     "cell_type": "code",
     "collapsed": false,
     "input": [
      "from osgeo import gdal, ogr\n",
      "import sys\n",
      "import subprocess as sp\n",
      "import os\n",
      "\n",
      "def clipraster(folderin, shapefile, folderout, format_end=''):\n",
      "\n",
      "    files = [os.path.join(root, name)\n",
      "               for root, dirs, files in os.walk(folderin)\n",
      "                 for name in files                 \n",
      "                 if name.endswith(format_end)]\n",
      "    \n",
      "    daShapefile = shapefile\n",
      "    driver = ogr.GetDriverByName('ESRI Shapefile')\n",
      "    dataSource = driver.Open(daShapefile, 0)\n",
      "    layer = dataSource.GetLayer()\n",
      "    ex1,ex2,ex3,ex4 = layer.GetExtent()\n",
      "    gdal_translate = 'C:\\Python27\\Lib\\site-packages\\osgeo\\\\gdal_translate.exe'\n",
      "\n",
      "    for j in files[0:1]:\n",
      "        out = j[-7:-3]+'china.tif'\n",
      "        path = folderout+out\n",
      "        j2 = \"NETCDF:\"+r'C:\\Downloads\\TH33\\TH33.nc'+\":TH33\"\n",
      "        paramsnorm = [gdal_translate, \"-projwin\", str(ex1), str(ex4), str(ex2), str(ex3), j2, path]\n",
      "        print (sp.list2cmdline(paramsnorm))\n",
      "        print (j2)\n",
      "        norm = sp.Popen(sp.list2cmdline(paramsnorm), shell=True)     \n",
      "        norm.communicate() "
     ],
     "language": "python",
     "metadata": {},
     "outputs": []
    },
    {
     "cell_type": "code",
     "collapsed": false,
     "input": [
      "layer = gdal.Open('netCDF:\"G:\\New folder\\AWC_CLASS1//AWC_CLASS1.nc\":long')"
     ],
     "language": "python",
     "metadata": {},
     "outputs": []
    },
    {
     "cell_type": "code",
     "collapsed": false,
     "input": [
      "folderin = r'D:\\GoogleChromeDownloads\\CL//CL.nc'\n",
      "file_nc = 'NETCDF:\"'+folderin+'\"'#:CL'\n",
      "ds = gdal.Open(file_nc, GA_ReadOnly)\n",
      "ds.RasterCount"
     ],
     "language": "python",
     "metadata": {},
     "outputs": []
    },
    {
     "cell_type": "markdown",
     "metadata": {},
     "source": [
      "Open and Clip NETCDF file field capacity and permanent wilting point"
     ]
    },
    {
     "cell_type": "code",
     "collapsed": false,
     "input": [
      "folderout = 'C:\\Users\\Matt\\Downloads\\AWC_CLASS2\\sm_retention//'\n",
      "folderin = 'C:\\Downloads\\TH33//'\n",
      "#folderin = 'C:\\Downloads\\TH33//'\n",
      "#folderin = 'C:\\Users\\Matt\\Downloads\\Globcover2009_V2.3_Global_//'\n",
      "shapefile = 'G:\\Data\\ChinaShapefile//Inner Mongolia.shp'\n",
      "format_end = 'nc'\n",
      "clipraster(folderin,shapefile,folderout,format_end)"
     ],
     "language": "python",
     "metadata": {},
     "outputs": []
    },
    {
     "cell_type": "markdown",
     "metadata": {},
     "source": [
      "Remove top and right line of array"
     ]
    },
    {
     "cell_type": "code",
     "collapsed": false,
     "input": [
      "raster, array, extent = OpenRaster('D:\\Data\\0_DAILY_INTERVAL_NDVI_TRMM\\Jiujang\\SoilRetention//JJ_Resample_33_Clip1.tif')\n",
      "array_out = array[0::].T[0:-1].T\n",
      "ds_ref = gdal.Open(r'D:\\Data\\0_DAILY_INTERVAL_NDVI_TRMM\\Jiujang\\OUTPUT_2010//ph12.tif')\n",
      "path_out = r'D:\\Data\\0_DAILY_INTERVAL_NDVI_TRMM\\Jiujang\\SoilRetention//JJ_Resample_33_Clip2.tif'"
     ],
     "language": "python",
     "metadata": {},
     "outputs": []
    },
    {
     "cell_type": "code",
     "collapsed": false,
     "input": [
      "saveRaster(path_out, array_out, ds_ref, datatype=6)"
     ],
     "language": "python",
     "metadata": {},
     "outputs": []
    },
    {
     "cell_type": "code",
     "collapsed": false,
     "input": [
      "filename = r'D:\\Data\\0_DAILY_INTERVAL_NDVI_TRMM\\Jiujang\\SoilRetention//JJ_Resample_33_Clip1.tif'\n",
      "#raster = gdal.Open(filepath)"
     ],
     "language": "python",
     "metadata": {},
     "outputs": []
    },
    {
     "cell_type": "code",
     "collapsed": false,
     "input": [
      "ds = gdal.Open(filename, GA_ReadOnly)"
     ],
     "language": "python",
     "metadata": {},
     "outputs": []
    },
    {
     "cell_type": "code",
     "collapsed": false,
     "input": [
      "if ds is None:\n",
      "    print ('Could not open ' + filename)"
     ],
     "language": "python",
     "metadata": {},
     "outputs": []
    },
    {
     "cell_type": "code",
     "collapsed": false,
     "input": [],
     "language": "python",
     "metadata": {},
     "outputs": []
    },
    {
     "cell_type": "code",
     "collapsed": false,
     "input": [
      "raster.ReadAsArray()"
     ],
     "language": "python",
     "metadata": {},
     "outputs": []
    },
    {
     "cell_type": "code",
     "collapsed": false,
     "input": [
      "from osgeo import gdal"
     ],
     "language": "python",
     "metadata": {},
     "outputs": []
    },
    {
     "cell_type": "code",
     "collapsed": false,
     "input": [
      "raster =gdal.Open(filepath)"
     ],
     "language": "python",
     "metadata": {},
     "outputs": []
    },
    {
     "cell_type": "raw",
     "metadata": {},
     "source": []
    },
    {
     "cell_type": "raw",
     "metadata": {},
     "source": []
    }
   ],
   "metadata": {}
  }
 ]
}