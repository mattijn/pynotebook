{
 "cells": [
  {
   "cell_type": "code",
   "execution_count": null,
   "metadata": {
    "collapsed": true
   },
   "outputs": [],
   "source": [
    "from osgeo import gdal\n",
    "import matplotlib.pyplot as plt\n",
    "import numpy as np\n",
    "import urllib\n",
    "%matplotlib inline"
   ]
  },
  {
   "cell_type": "code",
   "execution_count": null,
   "metadata": {
    "collapsed": false
   },
   "outputs": [],
   "source": [
    "url = 'http://192.168.1.104:8080/rasdaman/ows/wcs?query=for%20c%20in%20%28NDVI_MOD13C1005_uptodate%29%20return%20encode%28%20scale%28%20c[ansi%28147192:147558%29,Lat%2850%29,Long%2860:80%29],{ansi%28147192:147558%29,Long%280:20%29}%29,%22netcdf%22%29'\n",
    "path = 'test.nc'\n",
    "f,h = urllib.urlretrieve(url, path)"
   ]
  },
  {
   "cell_type": "code",
   "execution_count": null,
   "metadata": {
    "collapsed": true
   },
   "outputs": [],
   "source": []
  },
  {
   "cell_type": "code",
   "execution_count": null,
   "metadata": {
    "collapsed": false
   },
   "outputs": [],
   "source": [
    "#file = r'C:\\Users\\lenovo\\Downloads//ows (3)'\n",
    "ds = gdal.Open('NETCDF:'+path+':Band1')"
   ]
  },
  {
   "cell_type": "code",
   "execution_count": null,
   "metadata": {
    "collapsed": false
   },
   "outputs": [],
   "source": [
    "array = ds.ReadAsArray()"
   ]
  },
  {
   "cell_type": "code",
   "execution_count": null,
   "metadata": {
    "collapsed": false
   },
   "outputs": [],
   "source": [
    "print array.shape\n",
    "im = plt.imshow(np.ma.masked_equal(array, -3000))\n",
    "plt.colorbar(im)"
   ]
  },
  {
   "cell_type": "code",
   "execution_count": null,
   "metadata": {
    "collapsed": false
   },
   "outputs": [],
   "source": [
    "full_url_wcs = 'http://192.168.1.104:8080/rasdaman/ows?SERVICE=WCS&VERSION=2.0.1&REQUEST=GetCoverage&COVERAGEID=NDVI_MOD13C1005_uptodate&FORMAT=application/netcdf&SUBSET=Lat(50.71)&SUBSET=Long(3.04,7.34)&SUBSET=ansi(147192,147558)&SCALEFACTOR=2'\n",
    "path_wcs = 'test_wcs.nc'\n",
    "f,h = urllib.urlretrieve(full_url_wcs, path_wcs)"
   ]
  },
  {
   "cell_type": "code",
   "execution_count": null,
   "metadata": {
    "collapsed": false
   },
   "outputs": [],
   "source": [
    "ds = gdal.Open('NETCDF:'+path+':Band1')\n",
    "array = ds.ReadAsArray()\n",
    "print array.shape\n",
    "im = plt.imshow(np.ma.masked_equal(array, -3000)/10000., interpolation = 'nearest')\n",
    "plt.colorbar(im)"
   ]
  },
  {
   "cell_type": "code",
   "execution_count": null,
   "metadata": {
    "collapsed": true
   },
   "outputs": [],
   "source": [
    "url = 'http://192.168.1.104:8080/rasdaman/ows/wcs?query=for%20c%20in%20%28NDVI_MOD13C1005_uptodate%29%20return%20encode%28%20scale%28%20c[ansi%28147192:147558%29,Lat%2850%29,Long%2860:80%29],{ansi%28147192:147558%29,Long%280:10%29}%29,%22netcdf%22%29'\n",
    "path_down = 'test.nc'\n",
    "f,h = urllib.urlretrieve(url, path_down)\n",
    "ds_down = gdal.Open('NETCDF:'+path_down+':Band1')\n",
    "array_down = ds_down.ReadAsArray()\n",
    "\n",
    "url = 'http://192.168.1.104:8080/rasdaman/ows/wcs?query=for%20c%20in%20%28NDVI_MOD13C1005_uptodate%29%20return%20encode%28%20scale%28%20c[ansi%28147192:147558%29,Lat%2850%29,Long%2860:80%29],{ansi%28147192:147558%29,Long%280:20%29}%29,%22netcdf%22%29'\n",
    "path_org = 'test.nc'\n",
    "f,h = urllib.urlretrieve(url, path_org)\n",
    "ds_org = gdal.Open('NETCDF:'+path_org+':Band1')\n",
    "array_org = ds_org.ReadAsArray()\n",
    "\n",
    "url = 'http://192.168.1.104:8080/rasdaman/ows/wcs?query=for%20c%20in%20%28NDVI_MOD13C1005_uptodate%29%20return%20encode%28%20scale%28%20c[ansi%28147192:147558%29,Lat%2850%29,Long%2860:80%29],{ansi%28147192:147558%29,Long%280:40%29}%29,%22netcdf%22%29'\n",
    "path_up = 'test.nc'\n",
    "f,h = urllib.urlretrieve(url, path_up)\n",
    "ds_up = gdal.Open('NETCDF:'+path_up+':Band1')\n",
    "array_up = ds_up.ReadAsArray()"
   ]
  },
  {
   "cell_type": "code",
   "execution_count": null,
   "metadata": {
    "collapsed": false
   },
   "outputs": [],
   "source": [
    "fig = plt.figure(figsize=(20,10))\n",
    "ax1 = fig.add_subplot(311)\n",
    "img1 = ax1.imshow(array_down, cmap='viridis',interpolation = 'nearest')\n",
    "ax1.set_xlabel('Long')\n",
    "ax1.set_ylabel('ansi')\n",
    "ax1.set_title('DOWNSCALING array shape: '+str(array_down.shape))\n",
    "\n",
    "ax2 = fig.add_subplot(312)\n",
    "img2 = ax2.imshow(array_org, cmap='viridis',interpolation = 'nearest')\n",
    "ax2.set_xlabel('Long')\n",
    "ax2.set_ylabel('ansi')\n",
    "ax2.set_title('ORIGINAL array shape: '+str(array_org.shape))\n",
    "\n",
    "ax3 = fig.add_subplot(313)\n",
    "img3 = ax3.imshow(array_up, cmap='viridis',interpolation = 'nearest')\n",
    "ax3.set_xlabel('Long')\n",
    "ax3.set_ylabel('ansi')\n",
    "ax3.set_title('UPSCALING array shape: '+str(array_up.shape))\n",
    "\n",
    "plt.colorbar(img3, orientation='horizontal', ax=ax3)\n",
    "plt.tight_layout()\n",
    "#plt.savefig(r'D:\\tmp\\HANTS_OUT//slice_0_40.png', dpi=200)\n",
    "plt.show()"
   ]
  },
  {
   "cell_type": "code",
   "execution_count": null,
   "metadata": {
    "collapsed": false
   },
   "outputs": [],
   "source": [
    "url = 'http://192.168.1.104:8080/rasdaman/ows/wcs?query=for%20c%20in%20%28NDVI_MOD13C1005_uptodate%29%20return%20encode%28%20scale%28%20c[ansi%28145780%29,Lat%2850:70%29,Long%2860:80%29],{Lat%280:10%29,Long%280:10%29}%29,%22netcdf%22%29'\n",
    "path_down = 'test.nc'\n",
    "f,h = urllib.urlretrieve(url, path_down)\n",
    "ds_down = gdal.Open('NETCDF:'+path_down+':Band1')\n",
    "array_down = ds_down.ReadAsArray()\n",
    "\n",
    "url = 'http://192.168.1.104:8080/rasdaman/ows/wcs?query=for%20c%20in%20%28NDVI_MOD13C1005_uptodate%29%20return%20encode%28%20scale%28%20c[ansi%28145780%29,Lat%2850:70%29,Long%2860:80%29],{Lat%280:20%29,Long%280:20%29}%29,%22netcdf%22%29'\n",
    "path_org = 'test.nc'\n",
    "f,h = urllib.urlretrieve(url, path_org)\n",
    "ds_org = gdal.Open('NETCDF:'+path_org+':Band1')\n",
    "array_org = ds_org.ReadAsArray()\n",
    "\n",
    "url = 'http://192.168.1.104:8080/rasdaman/ows/wcs?query=for%20c%20in%20%28NDVI_MOD13C1005_uptodate%29%20return%20encode%28%20scale%28%20c[ansi%28145780%29,Lat%2850:70%29,Long%2860:80%29],{Lat%280:40%29,Long%280:40%29}%29,%22netcdf%22%29'\n",
    "path_up = 'test.nc'\n",
    "f,h = urllib.urlretrieve(url, path_up)\n",
    "ds_org = gdal.Open('NETCDF:'+path_org+':Band1')\n",
    "array_up = ds_org.ReadAsArray()"
   ]
  },
  {
   "cell_type": "code",
   "execution_count": null,
   "metadata": {
    "collapsed": false
   },
   "outputs": [],
   "source": [
    "fig = plt.figure(figsize=(20,10))\n",
    "ax1 = fig.add_subplot(131)\n",
    "img1 = ax1.imshow(np.ma.masked_equal(array_down,0), cmap='viridis',interpolation = 'nearest')\n",
    "ax1.set_xlabel('Long')\n",
    "ax1.set_ylabel('Lat')\n",
    "ax1.set_title('DOWNSCALING array shape: '+str(array_down.shape))\n",
    "\n",
    "ax2 = fig.add_subplot(132)\n",
    "img2 = ax2.imshow(array_org, cmap='viridis',interpolation = 'nearest')\n",
    "ax2.set_xlabel('Long')\n",
    "ax2.set_ylabel('Lat')\n",
    "ax2.set_title('ORIGINAL array shape: '+str(array_org.shape))\n",
    "\n",
    "ax3 = fig.add_subplot(133)\n",
    "img3 = ax3.imshow(array_up, cmap='viridis',interpolation = 'nearest')\n",
    "ax3.set_xlabel('Long')\n",
    "ax3.set_ylabel('Lat')\n",
    "ax3.set_title('UPSCALING array shape: '+str(array_up.shape))\n",
    "\n",
    "plt.colorbar(img3, orientation='horizontal')\n",
    "plt.tight_layout()\n",
    "plt.savefig(r'D:\\tmp\\HANTS_OUT//slice_lat_long.png', dpi=200)\n",
    "plt.show()"
   ]
  },
  {
   "cell_type": "code",
   "execution_count": null,
   "metadata": {
    "collapsed": true
   },
   "outputs": [],
   "source": []
  }
 ],
 "metadata": {
  "kernelspec": {
   "display_name": "Python 2",
   "language": "python",
   "name": "python2"
  },
  "language_info": {
   "codemirror_mode": {
    "name": "ipython",
    "version": 2
   },
   "file_extension": ".py",
   "mimetype": "text/x-python",
   "name": "python",
   "nbconvert_exporter": "python",
   "pygments_lexer": "ipython2",
   "version": "2.7.6"
  }
 },
 "nbformat": 4,
 "nbformat_minor": 0
}
