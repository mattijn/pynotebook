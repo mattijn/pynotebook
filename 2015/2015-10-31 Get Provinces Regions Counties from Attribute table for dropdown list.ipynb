{
 "metadata": {
  "name": "",
  "signature": "sha256:124885f6217e8fa3fcbe18ae9bfabfe3fe6162b82486f6b5c8df2971e1f630b6"
 },
 "nbformat": 3,
 "nbformat_minor": 0,
 "worksheets": [
  {
   "cells": [
    {
     "cell_type": "code",
     "collapsed": false,
     "input": [
      "import pandas as pd\n",
      "import numpy as np\n",
      "import json"
     ],
     "language": "python",
     "metadata": {},
     "outputs": [],
     "prompt_number": 61
    },
    {
     "cell_type": "code",
     "collapsed": false,
     "input": [
      "df = pd.read_csv(r'D:\\Data\\ChinaShapefile\\CHN_adm//CHINA_PROVINCE_REGION_COUNTY2.csv')"
     ],
     "language": "python",
     "metadata": {},
     "outputs": [],
     "prompt_number": 62
    },
    {
     "cell_type": "code",
     "collapsed": false,
     "input": [
      "df.sort('NAME_1', inplace=True)\n",
      "df.set_index(['NAME_1','NAME_2','NAME_3'], inplace=True)"
     ],
     "language": "python",
     "metadata": {},
     "outputs": [],
     "prompt_number": 63
    },
    {
     "cell_type": "code",
     "collapsed": false,
     "input": [
      "provinces_list=[]\n",
      "regions_list=[]\n",
      "counties_list=[]\n",
      "\n",
      "ix_chn = 0\n",
      "provinces = np.unique(df.index.get_level_values('NAME_1').values)\n",
      "\n",
      "province_code = str(ix_chn)\n",
      "province_names = np.unique(df.index.get_level_values('NAME_1').values).tolist()\n",
      "\n",
      "# append provinces to its list\n",
      "provinces_list.append(province_code)\n",
      "provinces_list.append(province_names)\n",
      "\n",
      "for ix_pr, pr in enumerate(provinces):\n",
      "    region_list = []\n",
      "    #print ix_pr\n",
      "    #print pr\n",
      "\n",
      "    df_prov = df.xs(pr, level='NAME_1', drop_level=False)    \n",
      "    regions = np.unique(df_prov.index.get_level_values('NAME_2').values)\n",
      "    \n",
      "    region_code = str(ix_chn)+'_'+str(ix_pr)\n",
      "    region_name = np.unique(df_prov.index.get_level_values('NAME_2').values).tolist()\n",
      "    \n",
      "    region_list.append(region_code)\n",
      "    region_list.append(region_name)\n",
      "    \n",
      "    regions_list.append(region_list)\n",
      "    \n",
      "    for ix_rg, rg in enumerate(regions):\n",
      "        \n",
      "        county_list = []\n",
      "        #print ix_rg\n",
      "        #print rg\n",
      "        \n",
      "        df_regions = df.xs(rg, level='NAME_2', drop_level=False)\n",
      "        \n",
      "        county_code = str(ix_chn)+'_'+str(ix_pr)+'_'+str(ix_rg)\n",
      "        county_names = np.unique(df_regions.index.get_level_values('NAME_3').values).tolist()\n",
      "        \n",
      "        county_list.append(county_code)\n",
      "        county_list.append(county_names)\n",
      "        \n",
      "        counties_list.append(county_list)\n",
      "        #print county_list\n",
      "print provinces_list"
     ],
     "language": "python",
     "metadata": {},
     "outputs": [
      {
       "output_type": "stream",
       "stream": "stdout",
       "text": [
        "['0', ['Anhui', 'Beijing', 'Chongqing', 'Fujian', 'Gansu', 'Guangdong', 'Guangxi', 'Guizhou', 'Hainan', 'Hebei', 'Heilongjiang', 'Henan', 'Hubei', 'Hunan', 'Jiangsu', 'Jiangxi', 'Jilin', 'Kaohsiung', 'Liaoning', 'Nei Mongol', 'Ningxia Hui', 'Pratas Islands', 'Qinghai', 'Shaanxi', 'Shandong', 'Shanghai', 'Shanxi', 'Sichuan', 'Taiwan', 'Tianjin', 'Xinjiang Uygur', 'Xizang', 'Yunnan', 'Zhejiang']]\n"
       ]
      }
     ],
     "prompt_number": 60
    },
    {
     "cell_type": "code",
     "collapsed": false,
     "input": [
      "with open(r'D:\\GoogleChromeDownloads\\MyWebSites\\CHINA_DROPDOWN\\js\\counties_china_v02.txt', 'w') as thefile:\n",
      "    for item in counties_list:\n",
      "        thefile.write(\"%s\\n\" % json.dumps(item))\n",
      "    for item in regions_list:\n",
      "        thefile.write(\"%s\\n\" % json.dumps(item))\n",
      "    for item in provinces_list:\n",
      "        thefile.write(\"%s\\n\" % json.dumps(item))        "
     ],
     "language": "python",
     "metadata": {},
     "outputs": [],
     "prompt_number": 64
    },
    {
     "cell_type": "code",
     "collapsed": false,
     "input": [],
     "language": "python",
     "metadata": {},
     "outputs": []
    }
   ],
   "metadata": {}
  }
 ]
}