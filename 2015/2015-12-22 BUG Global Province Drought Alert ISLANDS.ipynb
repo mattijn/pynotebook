{
 "cells": [
  {
   "cell_type": "code",
   "execution_count": 1,
   "metadata": {
    "collapsed": false
   },
   "outputs": [],
   "source": [
    "import sys\n",
    "import matplotlib.pyplot as plt\n",
    "import cartopy.crs as ccrs\n",
    "from cartopy.mpl.gridliner import LATITUDE_FORMATTER, LONGITUDE_FORMATTER\n",
    "import matplotlib.ticker as mticker\n",
    "import matplotlib.colors as mcolors\n",
    "import matplotlib.colorbar as mcb\n",
    "import cartopy.feature as cfeature\n",
    "from matplotlib import gridspec\n",
    "from datetime import datetime\n",
    "import warnings\n",
    "from osgeo import gdal\n",
    "import numpy as np\n",
    "from osgeo import gdal, ogr, osr\n",
    "import sys\n",
    "import pandas as pd\n",
    "import matplotlib\n",
    "import geopandas as gpd\n",
    "from matplotlib import gridspec\n",
    "from cartopy.io import shapereader\n",
    "import shapely.geometry as sgeom\n",
    "import numpy as np\n",
    "import matplotlib as mpl\n",
    "import urllib\n",
    "import numpy\n",
    "import numpy as np\n",
    "import numpy.ma as ma\n",
    "from lxml import etree\n",
    "from datetime import datetime, timedelta\n",
    "import matplotlib\n",
    "import matplotlib.colors as mcolors\n",
    "import matplotlib.pyplot as plt\n",
    "import numpy as np\n",
    "import matplotlib.colors as mcolors\n",
    "sys.path.insert(0, r'D:\\GitHub\\pynotebook\\ipymodules\\GDMA')\n",
    "import gdma"
   ]
  },
  {
   "cell_type": "code",
   "execution_count": 2,
   "metadata": {
    "collapsed": false
   },
   "outputs": [],
   "source": [
    "endpoint='http://192.168.1.104:8080/rasdaman/ows'\n",
    "field={}\n",
    "field['SERVICE']='WCS'\n",
    "field['VERSION']='2.0.1'\n",
    "field['REQUEST']='DescribeCoverage'\n",
    "field['COVERAGEID']='NDVI_MOD13C1005_uptodate'#'NDVI_MOD13C1005'#'trmm_3b42_coverage_1'\n",
    "url_values = urllib.urlencode(field,doseq=True)\n",
    "full_url = endpoint + '?' + url_values\n",
    "data = urllib.urlopen(full_url).read()\n",
    "root = etree.fromstring(data)\n",
    "lc = root.find(\".//{http://www.opengis.net/gml/3.2}lowerCorner\").text\n",
    "uc = root.find(\".//{http://www.opengis.net/gml/3.2}upperCorner\").text\n",
    "start_date=int((lc.split(' '))[2])\n",
    "end_date=int((uc.split(' '))[2])\n",
    "#print [start_date, end_date]\n",
    "\n",
    "#generate the dates list \n",
    "start=datetime.fromtimestamp((start_date-(datetime(1970,1,1)-datetime(1601,1,1)).days)*24*60*60)\n",
    "#print start"
   ]
  },
  {
   "cell_type": "code",
   "execution_count": 3,
   "metadata": {
    "collapsed": false
   },
   "outputs": [
    {
     "name": "stdout",
     "output_type": "stream",
     "text": [
      "irregular\n",
      "[145780 145796 145812 145828 145844 145860 145876 145892 145908 145924\n",
      " 145940 145956 145972 145988 146004 146020 146036 146052 146068 146084\n",
      " 146114 146130 146146 146162 146178 146194 146210 146226 146242 146258\n",
      " 146274 146290 146306 146322 146338 146354 146370 146386 146402 146418\n",
      " 146479 146495 146511 146527 146543 146559 146575 146591 146607 146623\n",
      " 146639 146655 146671 146687 146703 146719 146735 146751 146767 146783\n",
      " 146799 146815 146844 146860 146892 146908 146924 146940 146956 146972\n",
      " 146988 147004 147020 147036 147052 147068 147084 147100 147116 147132\n",
      " 147148 147164 147180 147209 147225 147241 147257 147273 147289 147305\n",
      " 147321 147337 147353 147369 147385 147401 147417 147433 147449 147465\n",
      " 147481 147497 147529 147545 147575 147591 147607 147623 147639 147655\n",
      " 147671 147687 147703 147719 147735 147751 147767 147783 147799 147815\n",
      " 147831 147847 147863 147879 147895 147911 147940 147956 147972 147988\n",
      " 148004 148020 148036 148052 148068 148084 148100 148116 148132 148148\n",
      " 148164 148180 148196 148212 148228 148244 148260 148276 148305 148321\n",
      " 148337 148353 148369 148385 148401 148417 148433 148449 148465 148481\n",
      " 148497 148513 148529 148545 148561 148577 148593 148609 148625 148641\n",
      " 148670 148686 148702 148718 148734 148750 148766 148782 148798 148814\n",
      " 148830 148846 148862 148878 148894 148942 148958 148974 148990 149006\n",
      " 149036 149052 149068 149084 149100 149116 149132 149148 149164 149180\n",
      " 149196 149212 149228 149244 149260 149276 149292 149308 149324 149340\n",
      " 149356 149372 149401 149417 149433 149449 149465 149481 149497 149513\n",
      " 149529 149545 149561 149577 149593 149609 149625 149641 149657 149673\n",
      " 149689 149705 149721 149737 149766 149782 149798 149814 149846 149862\n",
      " 149878 149894 149910 149926 149942 149958 149974 149990 150006 150022\n",
      " 150038 150054 150070 150086 150102 150131 150147 150163 150179 150195\n",
      " 150211 150227 150243 150259 150275 150291 150307 150323 150339 150355\n",
      " 150371 150387 150419 150435 150451 150467 150497 150513 150529 150545\n",
      " 150561 150577 150593 150609 150625 150641 150657 150673 150689 150705\n",
      " 150721 150737 150753 150769 150785 150801 150817 150833 150862 150878\n",
      " 150894 150910 150926 150942 150958 150974 150990 151006 151022 151038\n",
      " 151054 151070 151086 151102 151118 151134 151150 151166 151182 151198\n",
      " 151227 151243 151259 151275 151291 151307 151323 151339 151355 151371\n",
      " 151387 151403 151419 151435 151451 151467 151483 151499 151515]\n"
     ]
    },
    {
     "data": {
      "text/plain": [
       "['2000-02-18',\n",
       " '2000-03-05',\n",
       " '2000-03-21',\n",
       " '2000-04-06',\n",
       " '2000-04-22',\n",
       " '2000-05-08',\n",
       " '2000-05-24',\n",
       " '2000-06-09',\n",
       " '2000-06-25',\n",
       " '2000-07-11',\n",
       " '2000-07-27',\n",
       " '2000-08-12',\n",
       " '2000-08-28',\n",
       " '2000-09-13',\n",
       " '2000-09-29',\n",
       " '2000-10-15',\n",
       " '2000-10-31',\n",
       " '2000-11-16',\n",
       " '2000-12-02',\n",
       " '2000-12-18',\n",
       " '2001-01-17',\n",
       " '2001-02-02',\n",
       " '2001-02-18',\n",
       " '2001-03-06',\n",
       " '2001-03-22',\n",
       " '2001-04-07',\n",
       " '2001-04-23',\n",
       " '2001-05-09',\n",
       " '2001-05-25',\n",
       " '2001-06-10',\n",
       " '2001-06-26',\n",
       " '2001-07-12',\n",
       " '2001-07-28',\n",
       " '2001-08-13',\n",
       " '2001-08-29',\n",
       " '2001-09-14',\n",
       " '2001-09-30',\n",
       " '2001-10-16',\n",
       " '2001-11-01',\n",
       " '2001-11-17',\n",
       " '2002-01-17',\n",
       " '2002-02-02',\n",
       " '2002-02-18',\n",
       " '2002-03-06',\n",
       " '2002-03-22',\n",
       " '2002-04-07',\n",
       " '2002-04-23',\n",
       " '2002-05-09',\n",
       " '2002-05-25',\n",
       " '2002-06-10',\n",
       " '2002-06-26',\n",
       " '2002-07-12',\n",
       " '2002-07-28',\n",
       " '2002-08-13',\n",
       " '2002-08-29',\n",
       " '2002-09-14',\n",
       " '2002-09-30',\n",
       " '2002-10-16',\n",
       " '2002-11-01',\n",
       " '2002-11-17',\n",
       " '2002-12-03',\n",
       " '2002-12-19',\n",
       " '2003-01-17',\n",
       " '2003-02-02',\n",
       " '2003-03-06',\n",
       " '2003-03-22',\n",
       " '2003-04-07',\n",
       " '2003-04-23',\n",
       " '2003-05-09',\n",
       " '2003-05-25',\n",
       " '2003-06-10',\n",
       " '2003-06-26',\n",
       " '2003-07-12',\n",
       " '2003-07-28',\n",
       " '2003-08-13',\n",
       " '2003-08-29',\n",
       " '2003-09-14',\n",
       " '2003-09-30',\n",
       " '2003-10-16',\n",
       " '2003-11-01',\n",
       " '2003-11-17',\n",
       " '2003-12-03',\n",
       " '2003-12-19',\n",
       " '2004-01-17',\n",
       " '2004-02-02',\n",
       " '2004-02-18',\n",
       " '2004-03-05',\n",
       " '2004-03-21',\n",
       " '2004-04-06',\n",
       " '2004-04-22',\n",
       " '2004-05-08',\n",
       " '2004-05-24',\n",
       " '2004-06-09',\n",
       " '2004-06-25',\n",
       " '2004-07-11',\n",
       " '2004-07-27',\n",
       " '2004-08-12',\n",
       " '2004-08-28',\n",
       " '2004-09-13',\n",
       " '2004-09-29',\n",
       " '2004-10-15',\n",
       " '2004-10-31',\n",
       " '2004-12-02',\n",
       " '2004-12-18',\n",
       " '2005-01-17',\n",
       " '2005-02-02',\n",
       " '2005-02-18',\n",
       " '2005-03-06',\n",
       " '2005-03-22',\n",
       " '2005-04-07',\n",
       " '2005-04-23',\n",
       " '2005-05-09',\n",
       " '2005-05-25',\n",
       " '2005-06-10',\n",
       " '2005-06-26',\n",
       " '2005-07-12',\n",
       " '2005-07-28',\n",
       " '2005-08-13',\n",
       " '2005-08-29',\n",
       " '2005-09-14',\n",
       " '2005-09-30',\n",
       " '2005-10-16',\n",
       " '2005-11-01',\n",
       " '2005-11-17',\n",
       " '2005-12-03',\n",
       " '2005-12-19',\n",
       " '2006-01-17',\n",
       " '2006-02-02',\n",
       " '2006-02-18',\n",
       " '2006-03-06',\n",
       " '2006-03-22',\n",
       " '2006-04-07',\n",
       " '2006-04-23',\n",
       " '2006-05-09',\n",
       " '2006-05-25',\n",
       " '2006-06-10',\n",
       " '2006-06-26',\n",
       " '2006-07-12',\n",
       " '2006-07-28',\n",
       " '2006-08-13',\n",
       " '2006-08-29',\n",
       " '2006-09-14',\n",
       " '2006-09-30',\n",
       " '2006-10-16',\n",
       " '2006-11-01',\n",
       " '2006-11-17',\n",
       " '2006-12-03',\n",
       " '2006-12-19',\n",
       " '2007-01-17',\n",
       " '2007-02-02',\n",
       " '2007-02-18',\n",
       " '2007-03-06',\n",
       " '2007-03-22',\n",
       " '2007-04-07',\n",
       " '2007-04-23',\n",
       " '2007-05-09',\n",
       " '2007-05-25',\n",
       " '2007-06-10',\n",
       " '2007-06-26',\n",
       " '2007-07-12',\n",
       " '2007-07-28',\n",
       " '2007-08-13',\n",
       " '2007-08-29',\n",
       " '2007-09-14',\n",
       " '2007-09-30',\n",
       " '2007-10-16',\n",
       " '2007-11-01',\n",
       " '2007-11-17',\n",
       " '2007-12-03',\n",
       " '2007-12-19',\n",
       " '2008-01-17',\n",
       " '2008-02-02',\n",
       " '2008-02-18',\n",
       " '2008-03-05',\n",
       " '2008-03-21',\n",
       " '2008-04-06',\n",
       " '2008-04-22',\n",
       " '2008-05-08',\n",
       " '2008-05-24',\n",
       " '2008-06-09',\n",
       " '2008-06-25',\n",
       " '2008-07-11',\n",
       " '2008-07-27',\n",
       " '2008-08-12',\n",
       " '2008-08-28',\n",
       " '2008-10-15',\n",
       " '2008-10-31',\n",
       " '2008-11-16',\n",
       " '2008-12-02',\n",
       " '2008-12-18',\n",
       " '2009-01-17',\n",
       " '2009-02-02',\n",
       " '2009-02-18',\n",
       " '2009-03-06',\n",
       " '2009-03-22',\n",
       " '2009-04-07',\n",
       " '2009-04-23',\n",
       " '2009-05-09',\n",
       " '2009-05-25',\n",
       " '2009-06-10',\n",
       " '2009-06-26',\n",
       " '2009-07-12',\n",
       " '2009-07-28',\n",
       " '2009-08-13',\n",
       " '2009-08-29',\n",
       " '2009-09-14',\n",
       " '2009-09-30',\n",
       " '2009-10-16',\n",
       " '2009-11-01',\n",
       " '2009-11-17',\n",
       " '2009-12-03',\n",
       " '2009-12-19',\n",
       " '2010-01-17',\n",
       " '2010-02-02',\n",
       " '2010-02-18',\n",
       " '2010-03-06',\n",
       " '2010-03-22',\n",
       " '2010-04-07',\n",
       " '2010-04-23',\n",
       " '2010-05-09',\n",
       " '2010-05-25',\n",
       " '2010-06-10',\n",
       " '2010-06-26',\n",
       " '2010-07-12',\n",
       " '2010-07-28',\n",
       " '2010-08-13',\n",
       " '2010-08-29',\n",
       " '2010-09-14',\n",
       " '2010-09-30',\n",
       " '2010-10-16',\n",
       " '2010-11-01',\n",
       " '2010-11-17',\n",
       " '2010-12-03',\n",
       " '2010-12-19',\n",
       " '2011-01-17',\n",
       " '2011-02-02',\n",
       " '2011-02-18',\n",
       " '2011-03-06',\n",
       " '2011-04-07',\n",
       " '2011-04-23',\n",
       " '2011-05-09',\n",
       " '2011-05-25',\n",
       " '2011-06-10',\n",
       " '2011-06-26',\n",
       " '2011-07-12',\n",
       " '2011-07-28',\n",
       " '2011-08-13',\n",
       " '2011-08-29',\n",
       " '2011-09-14',\n",
       " '2011-09-30',\n",
       " '2011-10-16',\n",
       " '2011-11-01',\n",
       " '2011-11-17',\n",
       " '2011-12-03',\n",
       " '2011-12-19',\n",
       " '2012-01-17',\n",
       " '2012-02-02',\n",
       " '2012-02-18',\n",
       " '2012-03-05',\n",
       " '2012-03-21',\n",
       " '2012-04-06',\n",
       " '2012-04-22',\n",
       " '2012-05-08',\n",
       " '2012-05-24',\n",
       " '2012-06-09',\n",
       " '2012-06-25',\n",
       " '2012-07-11',\n",
       " '2012-07-27',\n",
       " '2012-08-12',\n",
       " '2012-08-28',\n",
       " '2012-09-13',\n",
       " '2012-09-29',\n",
       " '2012-10-31',\n",
       " '2012-11-16',\n",
       " '2012-12-02',\n",
       " '2012-12-18',\n",
       " '2013-01-17',\n",
       " '2013-02-02',\n",
       " '2013-02-18',\n",
       " '2013-03-06',\n",
       " '2013-03-22',\n",
       " '2013-04-07',\n",
       " '2013-04-23',\n",
       " '2013-05-09',\n",
       " '2013-05-25',\n",
       " '2013-06-10',\n",
       " '2013-06-26',\n",
       " '2013-07-12',\n",
       " '2013-07-28',\n",
       " '2013-08-13',\n",
       " '2013-08-29',\n",
       " '2013-09-14',\n",
       " '2013-09-30',\n",
       " '2013-10-16',\n",
       " '2013-11-01',\n",
       " '2013-11-17',\n",
       " '2013-12-03',\n",
       " '2013-12-19',\n",
       " '2014-01-17',\n",
       " '2014-02-02',\n",
       " '2014-02-18',\n",
       " '2014-03-06',\n",
       " '2014-03-22',\n",
       " '2014-04-07',\n",
       " '2014-04-23',\n",
       " '2014-05-09',\n",
       " '2014-05-25',\n",
       " '2014-06-10',\n",
       " '2014-06-26',\n",
       " '2014-07-12',\n",
       " '2014-07-28',\n",
       " '2014-08-13',\n",
       " '2014-08-29',\n",
       " '2014-09-14',\n",
       " '2014-09-30',\n",
       " '2014-10-16',\n",
       " '2014-11-01',\n",
       " '2014-11-17',\n",
       " '2014-12-03',\n",
       " '2014-12-19',\n",
       " '2015-01-17',\n",
       " '2015-02-02',\n",
       " '2015-02-18',\n",
       " '2015-03-06',\n",
       " '2015-03-22',\n",
       " '2015-04-07',\n",
       " '2015-04-23',\n",
       " '2015-05-09',\n",
       " '2015-05-25',\n",
       " '2015-06-10',\n",
       " '2015-06-26',\n",
       " '2015-07-12',\n",
       " '2015-07-28',\n",
       " '2015-08-13',\n",
       " '2015-08-29',\n",
       " '2015-09-14',\n",
       " '2015-09-30',\n",
       " '2015-10-16',\n",
       " '2015-11-01']"
      ]
     },
     "execution_count": 3,
     "metadata": {},
     "output_type": "execute_result"
    }
   ],
   "source": [
    "try:    \n",
    "    # get sample size coefficients from XML root\n",
    "    sample_size = root[0][3][0][5][0][1].text #sample size\n",
    "    #print root[0][3][0][5][0][1].text #sample size\n",
    "\n",
    "    # use coverage start_date and sample_size array to create all dates in ANSI\n",
    "    array_stepsize = np.fromstring(sample_size, dtype=int, sep=' ')\n",
    "    #print np.fromstring(sample_size, dtype=int, sep=' ')\n",
    "    array_all_ansi = array_stepsize + start_date  \n",
    "    print 'irregular'\n",
    "    print array_all_ansi\n",
    "except IndexError:\n",
    "    datelist, cur_pos = datelist_regular_coverage(root, start_date, start, cur_date)\n",
    "    print 'regular'\n",
    "\n",
    "# create array of all dates in ISO\n",
    "list_all_dates = []\n",
    "for stepsize in array_stepsize:\n",
    "    date_and_stepsize = start + timedelta(stepsize - 1)\n",
    "    list_all_dates.append(date_and_stepsize)\n",
    "    #print date_and_stepsize\n",
    "array_all_dates = np.array(list_all_dates)   \n",
    "\n",
    "# create array of all dates in string\n",
    "array_all_date_string = []\n",
    "for i in array_all_dates:\n",
    "    date_string = str(i.year).zfill(2)+'-'+str(i.month).zfill(2)+'-'+str(i.day).zfill(2)\n",
    "    array_all_date_string.append(date_string)\n",
    "array_all_date_string    "
   ]
  },
  {
   "cell_type": "code",
   "execution_count": 4,
   "metadata": {
    "collapsed": false
   },
   "outputs": [
    {
     "name": "stdout",
     "output_type": "stream",
     "text": [
      "2002-06-27 08:00:00\n"
     ]
    }
   ],
   "source": [
    "start_date = 146639\n",
    "start = datetime.fromtimestamp((start_date-(datetime(1970,1,1)-datetime(1601,1,1)).days)*24*60*60)\n",
    "print start"
   ]
  },
  {
   "cell_type": "code",
   "execution_count": 5,
   "metadata": {
    "collapsed": false
   },
   "outputs": [
    {
     "name": "stdout",
     "output_type": "stream",
     "text": [
      "NDAI start\n",
      "calculate NTAI\n",
      "[146242 146607 146972 147337 147703 148068 148433 148798 149164 149529\n",
      " 149894 150259 150625 150990 151355]\n",
      "8\n",
      "irregular\n",
      "LST:  2001-05-26 08:00:00\n",
      "LST:  2002-05-26 08:00:00\n",
      "LST:  2003-05-26 08:00:00\n",
      "LST:  2004-05-25 08:00:00\n",
      "LST:  2005-05-26 08:00:00\n",
      "LST:  2006-05-26 08:00:00\n",
      "LST:  2007-05-26 08:00:00\n",
      "LST:  2008-05-25 08:00:00\n",
      "LST:  2009-05-26 08:00:00\n",
      "LST:  2010-05-26 08:00:00\n",
      "LST:  2011-05-26 08:00:00\n",
      "LST:  2012-05-25 08:00:00\n",
      "LST:  2013-05-26 08:00:00\n",
      "LST:  2014-05-26 08:00:00\n",
      "LST:  2015-05-26 08:00:00\n",
      "calculate NVAI\n",
      "[145876 146242 146607 146972 147337 147703 148068 148433 148798 149164\n",
      " 149529 149894 150259 150625 150990 151355]\n",
      "9\n",
      "irregular\n",
      "NDVI:  2000-05-25 08:00:00\n",
      "NDVI:  2001-05-26 08:00:00\n",
      "NDVI:  2002-05-26 08:00:00\n",
      "NDVI:  2003-05-26 08:00:00\n",
      "NDVI:  2004-05-25 08:00:00\n",
      "NDVI:  2005-05-26 08:00:00\n",
      "NDVI:  2006-05-26 08:00:00\n",
      "NDVI:  2007-05-26 08:00:00\n",
      "NDVI:  2008-05-25 08:00:00\n",
      "NDVI:  2009-05-26 08:00:00\n",
      "NDVI:  2010-05-26 08:00:00\n",
      "NDVI:  2011-05-26 08:00:00\n",
      "NDVI:  2012-05-25 08:00:00\n",
      "NDVI:  2013-05-26 08:00:00\n",
      "NDVI:  2014-05-26 08:00:00\n",
      "NDVI:  2015-05-26 08:00:00\n",
      "calculate NDAI\n",
      "IMPROVED NDAI COMPUTATION\n",
      "NDAI end, lets save\n",
      "nodata value NDAI:  -3000.0\n",
      "20090525\n",
      "finished first 0 features\n",
      "P020090525 P120090525 P220090525 P320090525 MINIMUM DC20090525\n",
      "\"C:\\Program Files\\GDAL//gdal_rasterize.exe\" -a P020090525 -at -l world_NDAI20090525 -tr 0.05 0.05 -ot Float32 -init 7 D:\\GitHub\\pynotebook\\ipymodules\\GDMA//world_NDAI20090525.shp D:\\Downloads\\Mattijn@Zhou\\GlobalDroughtProvince\\tif//P020090525.tif\n",
      "\"C:\\Program Files\\GDAL//gdal_rasterize.exe\" -a P120090525 -at -l world_NDAI20090525 -tr 0.05 0.05 -ot Float32 -init 7 D:\\GitHub\\pynotebook\\ipymodules\\GDMA//world_NDAI20090525.shp D:\\Downloads\\Mattijn@Zhou\\GlobalDroughtProvince\\tif//P120090525.tif\n",
      "\"C:\\Program Files\\GDAL//gdal_rasterize.exe\" -a P220090525 -at -l world_NDAI20090525 -tr 0.05 0.05 -ot Float32 -init 7 D:\\GitHub\\pynotebook\\ipymodules\\GDMA//world_NDAI20090525.shp D:\\Downloads\\Mattijn@Zhou\\GlobalDroughtProvince\\tif//P220090525.tif\n",
      "\"C:\\Program Files\\GDAL//gdal_rasterize.exe\" -a P320090525 -at -l world_NDAI20090525 -tr 0.05 0.05 -ot Float32 -init 7 D:\\GitHub\\pynotebook\\ipymodules\\GDMA//world_NDAI20090525.shp D:\\Downloads\\Mattijn@Zhou\\GlobalDroughtProvince\\tif//P320090525.tif\n",
      "\"C:\\Program Files\\GDAL//gdal_rasterize.exe\" -a MN20090525 -at -l world_NDAI20090525 -tr 0.05 0.05 -ot Float32 -init 7 D:\\GitHub\\pynotebook\\ipymodules\\GDMA//world_NDAI20090525.shp D:\\Downloads\\Mattijn@Zhou\\GlobalDroughtProvince\\tif//MN20090525.tif\n",
      "\"C:\\Program Files\\GDAL//gdal_rasterize.exe\" -a DC20090525 -at -l world_NDAI20090525 -tr 0.05 0.05 -ot Float32 -init 7 D:\\GitHub\\pynotebook\\ipymodules\\GDMA//world_NDAI20090525.shp D:\\Downloads\\Mattijn@Zhou\\GlobalDroughtProvince\\tif//DC20090525.tif\n",
      "D:\\Downloads\\Mattijn@Zhou\\GlobalDroughtProvince\\tif//P020090525.tif\n",
      "D:\\Downloads\\Mattijn@Zhou\\GlobalDroughtProvince\\tif//P120090525.tif\n",
      "D:\\Downloads\\Mattijn@Zhou\\GlobalDroughtProvince\\tif//P220090525.tif\n",
      "D:\\Downloads\\Mattijn@Zhou\\GlobalDroughtProvince\\tif//P320090525.tif\n",
      "D:\\Downloads\\Mattijn@Zhou\\GlobalDroughtProvince\\tif//MN20090525.tif\n",
      "D:\\Downloads\\Mattijn@Zhou\\GlobalDroughtProvince\\tif//DC20090525.tif\n",
      "geotransform (143.81739807128918, 0.05, 0.0, -39.198822021484375, 0.0, -0.05)\n",
      "raster X size 302\n",
      "raster Y size 318\n",
      "D:\\Downloads\\Mattijn@Zhou\\GlobalDroughtProvince\\png//Global_DroughtAlert_1452009.png\n"
     ]
    },
    {
     "name": "stderr",
     "output_type": "stream",
     "text": [
      "D:\\Python27x64\\lib\\site-packages\\matplotlib\\artist.py:221: MatplotlibDeprecationWarning: This has been deprecated in mpl 1.5, please use the\n",
      "axes property.  A removal date has not been set.\n",
      "  warnings.warn(_get_axes_msg, mplDeprecation, stacklevel=1)\n"
     ]
    }
   ],
   "source": [
    "x = np.asarray(array_all_date_string)\n",
    "start = np.where(x == '2009-05-25')[0][0]\n",
    "end = start + 1\n",
    "#for date in range(start,end):    \n",
    "for date in array_all_date_string[start:end]:\n",
    "\n",
    "    #spl_arr = [70,30,80,50] minlon,maxlon, minlat, maxlat\n",
    "    #extent = [73.5,140,14,53.6]\n",
    "    #extent = [-179, 179, -60, 90]\n",
    "    extent = [142.1, 163, -58.4, -38.3]\n",
    "    spl_arr = [extent[0], extent[2], extent[1], extent[3]]\n",
    "    ndai_wcs= gdma._NDAI_CAL(date, spl_arr)\n",
    "    #ndai_wcs = 'NDAI20090525.tif'\n",
    "    array = gdal.Open(ndai_wcs).ReadAsArray()\n",
    "    #band = raster.GetRasterBand(1)\n",
    "    #array = band.ReadAsArray()\n",
    "    #band.GetNoDataValue()\n",
    "\n",
    "    array_msk = np.ma.masked_equal(array,array.min())\n",
    "    #plt.imshow(array_msk)    \n",
    "\n",
    "    vector_path = r'D:\\Data\\WorldShapefile//tasmania_simplified.shp'\n",
    "    raster_path = ndai_wcs\n",
    "    nodata_value = array.min()\n",
    "    print 'nodata value NDAI: ', nodata_value\n",
    "    # get date in format DOY+YEAR: eg. 0652011\n",
    "    # NDAI_2014_008.tif\n",
    "\n",
    "    year = int(ndai_wcs[-12:-8])\n",
    "    month = int(ndai_wcs[-8:-6])\n",
    "    day = int(ndai_wcs[-6:-4])\n",
    "    date = datetime(year,month,day)\n",
    "    try: \n",
    "        date_str = str(date.year)+str(date.month).zfill(2)+str(date.day).zfill(2)\n",
    "        print date_str\n",
    "    except:        \n",
    "        print date, ' aaahh'    \n",
    "\n",
    "    stats = gdma.zonal_stats(vector_path, raster_path, nodata_value, date)   \n",
    "\n",
    "    df_stats = pd.DataFrame(stats)\n",
    "    #df_stats.set_index('FID', inplace=True)\n",
    "    #print df_stats.head(2)\n",
    "\n",
    "    # read shapefile and concatate on index using a 'inner' join\n",
    "    # meaning counties without statistics info will be ignored\n",
    "    gdf = gpd.read_file(vector_path)\n",
    "    gdf.index.rename('FID', inplace=True)\n",
    "    gdf.reset_index(inplace=True)\n",
    "    frames  = [df_stats,gdf]\n",
    "    gdf_df_stats = gdf.merge(df_stats, on='FID')\n",
    "    gdf_df_stats.set_index('FID', inplace=True)\n",
    "\n",
    "    # get column names\n",
    "    ax1_head = gdf_df_stats.columns[10] # P00082014\n",
    "    ax2_head = gdf_df_stats.columns[11] # P10082014\n",
    "    ax3_head = gdf_df_stats.columns[12] # P20082014\n",
    "    ax4_head = gdf_df_stats.columns[13] # P30082014\n",
    "    ax5_head = gdf_df_stats.columns[8]  # MEAN\n",
    "    ax6_head = gdf_df_stats.columns[6]  # DC0082014\n",
    "    print ax1_head, ax2_head, ax3_head, ax4_head, ax5_head, ax6_head\n",
    "    columns_shp = [ax1_head, ax2_head, ax3_head, ax4_head, ax5_head, ax6_head]\n",
    "    # drop NaN values for axis\n",
    "    gdf_df_stats.dropna(inplace=True, subset=columns_shp)\n",
    "    #gdf_df_stats.head(50)\n",
    "    #gdf_df_stats = gpd.pd.concat(frames, axis=1, join='inner')\n",
    "    #gdf_df_stats.index.rename('FID', inplace=True)\n",
    "    #gdf_df_stats.geometry = gdf_df_stats.geometry.astype(gpd.geoseries.GeoSeries) # overcome bug \n",
    "    #gdf_df_stats.head(2) \n",
    "\n",
    "    # if necessary save to shapefile\n",
    "    out_filename = r'D:\\GitHub\\pynotebook\\ipymodules\\GDMA//world_NDAI'+date_str+'.shp'\n",
    "    gdf_df_stats.to_file(out_filename)  \n",
    "\n",
    "    china_adm3 = out_filename\n",
    "    china_adm3_shp = shapereader.Reader(china_adm3)\n",
    "    # rasterize the data\n",
    "    gdma.rasterize(date_str = date_str, in_shp = out_filename)\n",
    "    gdma.plot_map(date_str = date_str, date=date, extent = extent)"
   ]
  },
  {
   "cell_type": "code",
   "execution_count": 6,
   "metadata": {
    "collapsed": false
   },
   "outputs": [
    {
     "name": "stdout",
     "output_type": "stream",
     "text": [
      "nodata value NDAI:  -3000.0\n",
      "2009-05-25 00:00:00\n",
      "20090525\n"
     ]
    }
   ],
   "source": [
    "ndai_wcs = 'NDAI20090525.tif'\n",
    "array = gdal.Open(ndai_wcs).ReadAsArray()\n",
    "#band = raster.GetRasterBand(1)\n",
    "#array = band.ReadAsArray()\n",
    "#band.GetNoDataValue()\n",
    "\n",
    "array_msk = np.ma.masked_equal(array,array.min())\n",
    "#plt.imshow(array_msk)    \n",
    "\n",
    "vector_path = r'D:\\Data\\WorldShapefile//tasmania_simplified.shp'\n",
    "raster_path = ndai_wcs\n",
    "nodata_value = array.min()\n",
    "print 'nodata value NDAI: ', nodata_value\n",
    "# get date in format DOY+YEAR: eg. 0652011\n",
    "# NDAI_2014_008.tif\n",
    "\n",
    "year = int(ndai_wcs[-12:-8])\n",
    "month = int(ndai_wcs[-8:-6])\n",
    "day = int(ndai_wcs[-6:-4])\n",
    "date = datetime(year,month,day)\n",
    "print date\n",
    "try: \n",
    "    date_str = str(date.year)+str(date.month).zfill(2)+str(date.day).zfill(2)\n",
    "    print date_str\n",
    "except:        \n",
    "    print date, ' aaahh'"
   ]
  },
  {
   "cell_type": "code",
   "execution_count": 7,
   "metadata": {
    "collapsed": false
   },
   "outputs": [
    {
     "data": {
      "text/plain": [
       "<matplotlib.image.AxesImage at 0x16108a20>"
      ]
     },
     "execution_count": 7,
     "metadata": {},
     "output_type": "execute_result"
    },
    {
     "data": {
      "image/png": "[encoded data removed]",
      "text/plain": [
       "<matplotlib.figure.Figure at 0x3d25828>"
      ]
     },
     "metadata": {},
     "output_type": "display_data"
    }
   ],
   "source": [
    "%matplotlib inline\n",
    "plt.imshow(array_msk)"
   ]
  },
  {
   "cell_type": "code",
   "execution_count": 8,
   "metadata": {
    "collapsed": false
   },
   "outputs": [
    {
     "name": "stdout",
     "output_type": "stream",
     "text": [
      "D:\\Data\\WorldShapefile//tasmania_simplified.shp NDAI20090525.tif -3000.0 2009-05-25 00:00:00\n"
     ]
    }
   ],
   "source": [
    "print vector_path, raster_path, nodata_value, date"
   ]
  },
  {
   "cell_type": "code",
   "execution_count": 9,
   "metadata": {
    "collapsed": false
   },
   "outputs": [
    {
     "name": "stdout",
     "output_type": "stream",
     "text": [
      "finished first 0 features\n"
     ]
    }
   ],
   "source": [
    "stats = gdma.zonal_stats(vector_path, raster_path, nodata_value, date)"
   ]
  },
  {
   "cell_type": "code",
   "execution_count": 10,
   "metadata": {
    "collapsed": true
   },
   "outputs": [],
   "source": [
    "# lets decompose the zonal_stats function and see why we get this error"
   ]
  },
  {
   "cell_type": "code",
   "execution_count": 11,
   "metadata": {
    "collapsed": false
   },
   "outputs": [],
   "source": [
    "from osgeo.gdalconst import *\n",
    "# open raster layer\n",
    "rds = gdal.Open(raster_path, GA_ReadOnly)\n",
    "assert(rds)\n",
    "rb = rds.GetRasterBand(1)\n",
    "rgt = rds.GetGeoTransform()\n",
    "\n",
    "# set raster nodata value\n",
    "if nodata_value:\n",
    "    nodata_value = float(nodata_value)\n",
    "    rb.SetNoDataValue(nodata_value)\n",
    "\n",
    "# open vector layer\n",
    "vds = ogr.Open(vector_path, GA_ReadOnly)  \n",
    "assert(vds)\n",
    "vlyr = vds.GetLayer(0)    \n",
    "\n",
    "# compare EPSG values of vector and raster and change projection if necessary\n",
    "sourceSR = vlyr.GetSpatialRef()\n",
    "sourceSR.AutoIdentifyEPSG()\n",
    "EPSG_sourceSR = sourceSR.GetAuthorityCode(None)\n",
    "\n",
    "targetSR = osr.SpatialReference(wkt=rds.GetProjection())\n",
    "targetSR.AutoIdentifyEPSG()\n",
    "EPSG_targetSR = targetSR.GetAuthorityCode(None)\n",
    "\n",
    "if EPSG_sourceSR != EPSG_sourceSR:\n",
    "    # reproject vector geometry to same projection as raster\n",
    "    print 'unequal projections'    \n",
    "    sourceSR = vlyr.GetSpatialRef()\n",
    "    targetSR = osr.SpatialReference()\n",
    "    targetSR.ImportFromWkt(rds.GetProjectionRef())\n",
    "    coordTrans = osr.CreateCoordinateTransformation(sourceSR,targetSR)    \n",
    "\n",
    "\"\"\"do the work\"\"\"\n",
    "global_src_extent = None\n",
    "mem_drv = ogr.GetDriverByName('Memory')\n",
    "driver = gdal.GetDriverByName('MEM')\n",
    "\n",
    "# Loop through vectors\n",
    "stats = []\n",
    "feat = vlyr.GetNextFeature() "
   ]
  },
  {
   "cell_type": "code",
   "execution_count": 12,
   "metadata": {
    "collapsed": false
   },
   "outputs": [
    {
     "data": {
      "text/plain": [
       "'Tasmania'"
      ]
     },
     "execution_count": 12,
     "metadata": {},
     "output_type": "execute_result"
    }
   ],
   "source": [
    "feat.GetField('NAME_1')"
   ]
  },
  {
   "cell_type": "code",
   "execution_count": 13,
   "metadata": {
    "collapsed": true
   },
   "outputs": [],
   "source": [
    "def bbox_to_pixel_offsets(gt, bbox):\n",
    "    originX = gt[0]\n",
    "    originY = gt[3]\n",
    "    pixel_width = gt[1]\n",
    "    pixel_height = gt[5]\n",
    "    x1 = int((bbox[0] - originX) / pixel_width)\n",
    "    x2 = int((bbox[1] - originX) / pixel_width) + 1\n",
    "\n",
    "    y1 = int((bbox[3] - originY) / pixel_height)\n",
    "    y2 = int((bbox[2] - originY) / pixel_height) + 1\n",
    "\n",
    "    xsize = x2 - x1\n",
    "    ysize = y2 - y1\n",
    "    return (x1, y1, xsize, ysize)"
   ]
  },
  {
   "cell_type": "code",
   "execution_count": 14,
   "metadata": {
    "collapsed": false
   },
   "outputs": [
    {
     "name": "stdout",
     "output_type": "stream",
     "text": [
      "finished first 0 features\n"
     ]
    }
   ],
   "source": [
    "# print statement after each hunderds features\n",
    "fid = int(feat.GetFID())        \n",
    "if fid % 500 == 0:\n",
    "    print(\"finished first %s features\" % (fid))\n",
    "\n",
    "if not global_src_extent:\n",
    "    #print 'bbox county'\n",
    "    # use local source extent\n",
    "    # fastest option when you have fast disks and well indexed raster (ie tiled Geotiff)\n",
    "    # advantage: each feature uses the smallest raster chunk\n",
    "    # disadvantage: lots of reads on the source raster\n",
    "    src_offset = bbox_to_pixel_offsets(rgt, feat.geometry().GetEnvelope())\n",
    "    src_array = rb.ReadAsArray(*src_offset)\n",
    "\n",
    "    # calculate new geotransform of the feature subset\n",
    "    new_gt = (\n",
    "        (rgt[0] + (src_offset[0] * rgt[1])),\n",
    "        rgt[1],\n",
    "        0.0,\n",
    "        (rgt[3] + (src_offset[1] * rgt[5])),\n",
    "        0.0,\n",
    "        rgt[5]\n",
    "    )\n",
    "\n",
    "# Create a temporary vector layer in memory\n",
    "mem_ds = mem_drv.CreateDataSource('out')\n",
    "mem_layer = mem_ds.CreateLayer('poly', None, ogr.wkbPolygon)\n",
    "mem_layer.CreateFeature(feat.Clone())\n",
    "\n",
    "# Rasterize it\n",
    "rvds = driver.Create('', src_offset[2], src_offset[3], 1, gdal.GDT_Byte)\n",
    "rvds.SetGeoTransform(new_gt)\n",
    "gdal.RasterizeLayer(rvds, [1], mem_layer, burn_values=[1])\n",
    "rv_array = rvds.ReadAsArray()\n",
    "\n",
    "# Mask the source data array with our current feature\n",
    "# we take the logical_not to flip 0<->1 to get the correct mask effect\n",
    "# we also mask out nodata values explictly\n",
    "try:\n",
    "    masked = np.ma.MaskedArray(\n",
    "        src_array,\n",
    "        mask=np.logical_or(\n",
    "            src_array == nodata_value,\n",
    "            np.logical_not(rv_array)\n",
    "        )\n",
    "    )\n",
    "except:\n",
    "    print 'oi'\n",
    "\n",
    "    #print 'feature ID: ',int(feat.GetFID())\n",
    "\n",
    "    # GET STATISTICS FOR EACH COUNTY\n",
    "#     try:\n",
    "#         county_stats = getStatsCounty(cnty_array = masked, feat=feat, date=date)            \n",
    "#         stats.append(county_stats)\n",
    "\n",
    "#         rvds = None\n",
    "#         mem_ds = None\n",
    "#         feat = vlyr.GetNextFeature()\n",
    "#     except IndexError:\n",
    "#         print 'feature ID: ',fid, 'IndexError, ignore county and lets continue'                \n",
    "#         rvds = None\n",
    "#         mem_ds = None\n",
    "#         feat = vlyr.GetNextFeature()                \n",
    "\n",
    "\n",
    "# except np.ma.MaskError: \n",
    "#     # catch MaskError, ignore feature containing no valid corresponding raster data set\n",
    "#     # in my case the the most southern county of hainan is not totally within the raster extent            \n",
    "#     print 'feature ID: ',fid, ' maskError, ignore county and lets continue'\n",
    "\n",
    "#     rvds = None\n",
    "#     mem_ds = None\n",
    "#     feat = vlyr.GetNextFeature() "
   ]
  },
  {
   "cell_type": "code",
   "execution_count": 15,
   "metadata": {
    "collapsed": false
   },
   "outputs": [
    {
     "name": "stdout",
     "output_type": "stream",
     "text": [
      "2009-05-25 00:00:00\n"
     ]
    },
    {
     "data": {
      "image/png": "[encoded data removed]",
      "text/plain": [
       "<matplotlib.figure.Figure at 0x1b748e10>"
      ]
     },
     "metadata": {},
     "output_type": "display_data"
    }
   ],
   "source": [
    "plt.imshow(masked)\n",
    "print date"
   ]
  },
  {
   "cell_type": "code",
   "execution_count": 16,
   "metadata": {
    "collapsed": true
   },
   "outputs": [],
   "source": [
    "cnty_array = masked"
   ]
  },
  {
   "cell_type": "code",
   "execution_count": 17,
   "metadata": {
    "collapsed": false
   },
   "outputs": [
    {
     "data": {
      "text/plain": [
       "96960L"
      ]
     },
     "execution_count": 17,
     "metadata": {},
     "output_type": "execute_result"
    }
   ],
   "source": [
    "cnty_array.shape[0]*cnty_array.shape[1]"
   ]
  },
  {
   "cell_type": "code",
   "execution_count": 19,
   "metadata": {
    "collapsed": false
   },
   "outputs": [
    {
     "data": {
      "text/plain": [
       "96960"
      ]
     },
     "execution_count": 19,
     "metadata": {},
     "output_type": "execute_result"
    }
   ],
   "source": [
    "cnty_array.size"
   ]
  },
  {
   "cell_type": "code",
   "execution_count": 20,
   "metadata": {
    "collapsed": false
   },
   "outputs": [
    {
     "data": {
      "text/plain": [
       "2892"
      ]
     },
     "execution_count": 20,
     "metadata": {},
     "output_type": "execute_result"
    }
   ],
   "source": [
    "cnty_array.count()"
   ]
  },
  {
   "cell_type": "code",
   "execution_count": null,
   "metadata": {
    "collapsed": false
   },
   "outputs": [],
   "source": [
    "cnty_array[(cnty_array <= 0) ].count()"
   ]
  },
  {
   "cell_type": "code",
   "execution_count": 23,
   "metadata": {
    "collapsed": false
   },
   "outputs": [],
   "source": [
    "# def getStatsCounty(cnty_array, feat, date):\n",
    "#     \"\"\"\n",
    "#     Core function to calculate statistics to be applied for each county\n",
    "    \n",
    "#     Input:  \n",
    "#     cnty_array   = Masked raster array of a single county    \n",
    "#     feat         = feature of shapefile to extract ID\n",
    "#     Output: \n",
    "#     county_stats = Dictionary containing the stats for the county\n",
    "#     \"\"\"\n",
    "date = str(date.year)+str(date.month).zfill(2)+str(date.day).zfill(2)\n",
    "\n",
    "dc=0\n",
    "#percentage of no drought\n",
    "p0=(cnty_array[(cnty_array <= 0) ]).size*1.0/cnty_array.size\n",
    "if p0>=0.5: dc=1\n",
    "#percentage of no drought\n",
    "p1=(cnty_array[(cnty_array<=-0.15)]).size*1.0/cnty_array.size\n",
    "if p1>0.5: dc=2\n",
    "#percentage of no drought\n",
    "p2=(cnty_array[(cnty_array<=-0.25) ]).size*1.0/cnty_array.size\n",
    "if p2>=0.5: dc=3\n",
    "#percentage of no drought\n",
    "p3=(cnty_array[cnty_array <=-0.35]).size*1.0/cnty_array.size\n",
    "if p3>=0.5: dc=4\n",
    "#print cnty_array.count(),np.nanmin(cnty_array)\n",
    "ct=cnty_array.count()\n",
    "county_stats = {\n",
    "    'MINIMUM': np.nan if ct<2 else float(np.nanmin(cnty_array)),\n",
    "    'MN'+date: np.nan if ct<2 else float(np.nanmean(cnty_array)),\n",
    "    'MAX': np.nan if ct<2 else float(np.nanmax(cnty_array)),\n",
    "    'STD': np.nan if ct<2 else float(np.nanstd(cnty_array)),\n",
    "    'SUM': np.nan if ct<2 else float(np.nansum(cnty_array)),\n",
    "    'COUNT': int(cnty_array.count()),\n",
    "    'FID': int(feat.GetFID()),  \n",
    "    'P0'+date:p0,\n",
    "    'P1'+date:p1,\n",
    "    'P2'+date:p2,\n",
    "    'P3'+date:p3,\n",
    "    'DC'+date:dc}"
   ]
  },
  {
   "cell_type": "code",
   "execution_count": 21,
   "metadata": {
    "collapsed": false
   },
   "outputs": [
    {
     "data": {
      "text/plain": [
       "-0.012431195005774498"
      ]
     },
     "execution_count": 21,
     "metadata": {},
     "output_type": "execute_result"
    }
   ],
   "source": [
    "float(np.nanmean(cnty_array))"
   ]
  },
  {
   "cell_type": "code",
   "execution_count": 22,
   "metadata": {
    "collapsed": false
   },
   "outputs": [
    {
     "data": {
      "text/plain": [
       "-0.012431194838316773"
      ]
     },
     "execution_count": 22,
     "metadata": {},
     "output_type": "execute_result"
    }
   ],
   "source": [
    "np.ma.mean(cnty_array)"
   ]
  },
  {
   "cell_type": "code",
   "execution_count": 24,
   "metadata": {
    "collapsed": false
   },
   "outputs": [
    {
     "data": {
      "text/plain": [
       "{'COUNT': 2892,\n",
       " 'DC20090525': 4,\n",
       " 'FID': 0,\n",
       " 'MAX': 0.5061419606208801,\n",
       " 'MINIMUM': -0.5792328715324402,\n",
       " 'MN20090525': -0.012431195005774498,\n",
       " 'P020090525': 0.9815387788778878,\n",
       " 'P120090525': 0.9727722772277227,\n",
       " 'P220090525': 0.9689665841584159,\n",
       " 'P320090525': 0.9665635313531353,\n",
       " 'STD': 0.17689670622348785,\n",
       " 'SUM': -35.95101547241211}"
      ]
     },
     "execution_count": 24,
     "metadata": {},
     "output_type": "execute_result"
    }
   ],
   "source": [
    "county_stats"
   ]
  },
  {
   "cell_type": "code",
   "execution_count": 26,
   "metadata": {
    "collapsed": false
   },
   "outputs": [
    {
     "data": {
      "text/plain": [
       "{'DC20090525': 0,\n",
       " 'FID': 0,\n",
       " 'MN20090525': -0.012431194838316773,\n",
       " 'P020090525': 0.45435684647302904,\n",
       " 'P120090525': 0.21230982019363762,\n",
       " 'P220090525': 0.11410788381742738,\n",
       " 'P320090525': 0.046680497925311204}"
      ]
     },
     "execution_count": 26,
     "metadata": {},
     "output_type": "execute_result"
    }
   ],
   "source": [
    "county_stats"
   ]
  },
  {
   "cell_type": "code",
   "execution_count": 25,
   "metadata": {
    "collapsed": true
   },
   "outputs": [],
   "source": [
    "dc=0\n",
    "#percentage of no drought\n",
    "p0=(cnty_array[(cnty_array <= 0) ]).count()*1.0/cnty_array.count()\n",
    "if p0>=0.5: dc=1\n",
    "#percentage of no drought\n",
    "p1=(cnty_array[(cnty_array<=-0.15)]).count()*1.0/cnty_array.count()\n",
    "if p1>0.5: dc=2\n",
    "#percentage of no drought\n",
    "p2=(cnty_array[(cnty_array<=-0.25) ]).count()*1.0/cnty_array.count()\n",
    "if p2>=0.5: dc=3\n",
    "#percentage of no drought\n",
    "p3=(cnty_array[cnty_array <=-0.35]).count()*1.0/cnty_array.count()\n",
    "if p3>=0.5: dc=4\n",
    "#print cnty_array.count(),np.nanmin(cnty_array)\n",
    "ct=cnty_array.count()\n",
    "county_stats = {\n",
    "    #'MINIMUM': np.nan if ct<2 else float(np.nanmin(cnty_array)),\n",
    "    'MN'+date: np.nan if ct<2 else float(np.ma.mean(cnty_array)),\n",
    "    #'MAX': np.nan if ct<2 else float(np.nanmax(cnty_array)),\n",
    "    #'STD': np.nan if ct<2 else float(np.nanstd(cnty_array)),\n",
    "    #'SUM': np.nan if ct<2 else float(np.nansum(cnty_array)),\n",
    "    #'COUNT': int(cnty_array.count()),\n",
    "    'FID': int(feat.GetFID()),  \n",
    "    'P0'+date:p0,\n",
    "    'P1'+date:p1,\n",
    "    'P2'+date:p2,\n",
    "    'P3'+date:p3,\n",
    "    'DC'+date:dc}"
   ]
  },
  {
   "cell_type": "code",
   "execution_count": null,
   "metadata": {
    "collapsed": true
   },
   "outputs": [],
   "source": [
    "\n",
    "\n",
    "df_stats = pd.DataFrame(stats)\n",
    "#df_stats.set_index('FID', inplace=True)\n",
    "#print df_stats.head(2)\n",
    "\n",
    "# read shapefile and concatate on index using a 'inner' join\n",
    "# meaning counties without statistics info will be ignored\n",
    "gdf = gpd.read_file(vector_path)\n",
    "gdf.index.rename('FID', inplace=True)\n",
    "gdf.reset_index(inplace=True)\n",
    "frames  = [df_stats,gdf]\n",
    "gdf_df_stats = gdf.merge(df_stats, on='FID')\n",
    "gdf_df_stats.set_index('FID', inplace=True)\n",
    "\n",
    "# get column names\n",
    "ax1_head = gdf_df_stats.columns[10] # P00082014\n",
    "ax2_head = gdf_df_stats.columns[11] # P10082014\n",
    "ax3_head = gdf_df_stats.columns[12] # P20082014\n",
    "ax4_head = gdf_df_stats.columns[13] # P30082014\n",
    "ax5_head = gdf_df_stats.columns[8]  # MEAN\n",
    "ax6_head = gdf_df_stats.columns[6]  # DC0082014\n",
    "print ax1_head, ax2_head, ax3_head, ax4_head, ax5_head, ax6_head\n",
    "columns_shp = [ax1_head, ax2_head, ax3_head, ax4_head, ax5_head, ax6_head]\n",
    "# drop NaN values for axis\n",
    "gdf_df_stats.dropna(inplace=True, subset=columns_shp)\n",
    "#gdf_df_stats.head(50)\n",
    "#gdf_df_stats = gpd.pd.concat(frames, axis=1, join='inner')\n",
    "#gdf_df_stats.index.rename('FID', inplace=True)\n",
    "#gdf_df_stats.geometry = gdf_df_stats.geometry.astype(gpd.geoseries.GeoSeries) # overcome bug \n",
    "#gdf_df_stats.head(2) \n",
    "\n",
    "# if necessary save to shapefile\n",
    "out_filename = r'D:\\GitHub\\pynotebook\\ipymodules\\GDMA//world_NDAI'+date_str+'.shp'\n",
    "gdf_df_stats.to_file(out_filename)  \n"
   ]
  },
  {
   "cell_type": "code",
   "execution_count": null,
   "metadata": {
    "collapsed": false
   },
   "outputs": [],
   "source": [
    "date_str = '20120828'\n",
    "out_filename = r'D:\\GitHub\\pynotebook\\ipymodules\\GDMA//world_NDAI20120828.shp'\n",
    "gdma.rasterize(date_str = date_str, in_shp = out_filename)"
   ]
  },
  {
   "cell_type": "code",
   "execution_count": null,
   "metadata": {
    "collapsed": false
   },
   "outputs": [],
   "source": []
  },
  {
   "cell_type": "code",
   "execution_count": null,
   "metadata": {
    "collapsed": false
   },
   "outputs": [],
   "source": [
    "date_str = '20120828'\n",
    "date=datetime(2012,8,28)\n",
    "extent = [-179, 179, -60, 90]\n",
    "gdma.plot_map(date_str = date_str, date=date, extent = extent)"
   ]
  },
  {
   "cell_type": "code",
   "execution_count": null,
   "metadata": {
    "collapsed": true
   },
   "outputs": [],
   "source": []
  }
 ],
 "metadata": {
  "kernelspec": {
   "display_name": "Python 2",
   "language": "python",
   "name": "python2"
  },
  "language_info": {
   "codemirror_mode": {
    "name": "ipython",
    "version": 2
   },
   "file_extension": ".py",
   "mimetype": "text/x-python",
   "name": "python",
   "nbconvert_exporter": "python",
   "pygments_lexer": "ipython2",
   "version": "2.7.6"
  }
 },
 "nbformat": 4,
 "nbformat_minor": 0
}
