{
 "cells": [
  {
   "cell_type": "code",
   "execution_count": 1,
   "metadata": {
    "collapsed": false
   },
   "outputs": [],
   "source": [
    "import numpy as np\n",
    "from osgeo import gdal\n",
    "import subprocess as sp\n",
    "import os\n",
    "%matplotlib inline"
   ]
  },
  {
   "cell_type": "code",
   "execution_count": 4,
   "metadata": {
    "collapsed": false
   },
   "outputs": [],
   "source": [
    "def listall(RootFolder, wildcard='', extension='.tif'):\n",
    "    lists = [os.path.join(root, name)    \n",
    "                 for root, dirs, files in os.walk(RootFolder)\n",
    "                   for name in files\n",
    "                   if wildcard in name\n",
    "                     if name.endswith(extension)]\n",
    "    return lists"
   ]
  },
  {
   "cell_type": "code",
   "execution_count": 3,
   "metadata": {
    "collapsed": false
   },
   "outputs": [
    {
     "name": "stdout",
     "output_type": "stream",
     "text": [
      "IM_bbox_wrap\n"
     ]
    }
   ],
   "source": [
    "shapefile_bbox = r'D:\\Data\\ChinaShapefile//IM_bbox_wrap.shp'\n",
    "print os.path.splitext(os.path.basename(shapefile_bbox))[0]"
   ]
  },
  {
   "cell_type": "code",
   "execution_count": 5,
   "metadata": {
    "collapsed": false
   },
   "outputs": [],
   "source": [
    "gdalwarp = r'C:\\Program Files\\GDAL//gdalwarp.exe'\n",
    "shapefile_bbox = r'D:\\Data\\ChinaShapefile//IM_bbox_wrap.shp'\n",
    "folder_in = r'J:\\NDAI_2003-2014'\n",
    "folder_out = r'D:\\Data\\LS_DATA\\NDAI-1day_IM_bbox_warp//'"
   ]
  },
  {
   "cell_type": "code",
   "execution_count": null,
   "metadata": {
    "collapsed": false
   },
   "outputs": [
    {
     "name": "stdout",
     "output_type": "stream",
     "text": [
      "\"C:\\Program Files\\GDAL//gdalwarp.exe\" -cutline D:\\Data\\ChinaShapefile//IM_bbox_wrap.shp -crop_to_cutline -of GTiff -dstnodata -9999 J:\\NDAI_2003-2014\\2003\\NDAI_2003_001.tif D:\\Data\\LS_DATA\\NDAI-1day_IM_bbox_warp//NDAI_2003_001_IM_bbox_wrap.tif -overwrite\n",
      "\"C:\\Program Files\\GDAL//gdalwarp.exe\" -cutline D:\\Data\\ChinaShapefile//IM_bbox_wrap.shp -crop_to_cutline -of GTiff -dstnodata -9999 J:\\NDAI_2003-2014\\2003\\NDAI_2003_002.tif D:\\Data\\LS_DATA\\NDAI-1day_IM_bbox_warp//NDAI_2003_002_IM_bbox_wrap.tif -overwrite\n",
      "\"C:\\Program Files\\GDAL//gdalwarp.exe\" -cutline D:\\Data\\ChinaShapefile//IM_bbox_wrap.shp -crop_to_cutline -of GTiff -dstnodata -9999 J:\\NDAI_2003-2014\\2003\\NDAI_2003_003.tif D:\\Data\\LS_DATA\\NDAI-1day_IM_bbox_warp//NDAI_2003_003_IM_bbox_wrap.tif -overwrite\n",
      "\"C:\\Program Files\\GDAL//gdalwarp.exe\" -cutline D:\\Data\\ChinaShapefile//IM_bbox_wrap.shp -crop_to_cutline -of GTiff -dstnodata -9999 J:\\NDAI_2003-2014\\2003\\NDAI_2003_004.tif D:\\Data\\LS_DATA\\NDAI-1day_IM_bbox_warp//NDAI_2003_004_IM_bbox_wrap.tif -overwrite\n",
      "\"C:\\Program Files\\GDAL//gdalwarp.exe\" -cutline D:\\Data\\ChinaShapefile//IM_bbox_wrap.shp -crop_to_cutline -of GTiff -dstnodata -9999 J:\\NDAI_2003-2014\\2003\\NDAI_2003_005.tif D:\\Data\\LS_DATA\\NDAI-1day_IM_bbox_warp//NDAI_2003_005_IM_bbox_wrap.tif -overwrite\n",
      "\"C:\\Program Files\\GDAL//gdalwarp.exe\" -cutline D:\\Data\\ChinaShapefile//IM_bbox_wrap.shp -crop_to_cutline -of GTiff -dstnodata -9999 J:\\NDAI_2003-2014\\2003\\NDAI_2003_006.tif D:\\Data\\LS_DATA\\NDAI-1day_IM_bbox_warp//NDAI_2003_006_IM_bbox_wrap.tif -overwrite\n",
      "\"C:\\Program Files\\GDAL//gdalwarp.exe\" -cutline D:\\Data\\ChinaShapefile//IM_bbox_wrap.shp -crop_to_cutline -of GTiff -dstnodata -9999 J:\\NDAI_2003-2014\\2003\\NDAI_2003_007.tif D:\\Data\\LS_DATA\\NDAI-1day_IM_bbox_warp//NDAI_2003_007_IM_bbox_wrap.tif -overwrite\n",
      "\"C:\\Program Files\\GDAL//gdalwarp.exe\" -cutline D:\\Data\\ChinaShapefile//IM_bbox_wrap.shp -crop_to_cutline -of GTiff -dstnodata -9999 J:\\NDAI_2003-2014\\2003\\NDAI_2003_008.tif D:\\Data\\LS_DATA\\NDAI-1day_IM_bbox_warp//NDAI_2003_008_IM_bbox_wrap.tif -overwrite\n",
      "\"C:\\Program Files\\GDAL//gdalwarp.exe\" -cutline D:\\Data\\ChinaShapefile//IM_bbox_wrap.shp -crop_to_cutline -of GTiff -dstnodata -9999 J:\\NDAI_2003-2014\\2003\\NDAI_2003_009.tif D:\\Data\\LS_DATA\\NDAI-1day_IM_bbox_warp//NDAI_2003_009_IM_bbox_wrap.tif -overwrite\n",
      "\"C:\\Program Files\\GDAL//gdalwarp.exe\" -cutline D:\\Data\\ChinaShapefile//IM_bbox_wrap.shp -crop_to_cutline -of GTiff -dstnodata -9999 J:\\NDAI_2003-2014\\2003\\NDAI_2003_010.tif D:\\Data\\LS_DATA\\NDAI-1day_IM_bbox_warp//NDAI_2003_010_IM_bbox_wrap.tif -overwrite\n",
      "\"C:\\Program Files\\GDAL//gdalwarp.exe\" -cutline D:\\Data\\ChinaShapefile//IM_bbox_wrap.shp -crop_to_cutline -of GTiff -dstnodata -9999 J:\\NDAI_2003-2014\\2003\\NDAI_2003_011.tif D:\\Data\\LS_DATA\\NDAI-1day_IM_bbox_warp//NDAI_2003_011_IM_bbox_wrap.tif -overwrite\n",
      "\"C:\\Program Files\\GDAL//gdalwarp.exe\" -cutline D:\\Data\\ChinaShapefile//IM_bbox_wrap.shp -crop_to_cutline -of GTiff -dstnodata -9999 J:\\NDAI_2003-2014\\2003\\NDAI_2003_012.tif D:\\Data\\LS_DATA\\NDAI-1day_IM_bbox_warp//NDAI_2003_012_IM_bbox_wrap.tif -overwrite\n",
      "\"C:\\Program Files\\GDAL//gdalwarp.exe\" -cutline D:\\Data\\ChinaShapefile//IM_bbox_wrap.shp -crop_to_cutline -of GTiff -dstnodata -9999 J:\\NDAI_2003-2014\\2003\\NDAI_2003_013.tif D:\\Data\\LS_DATA\\NDAI-1day_IM_bbox_warp//NDAI_2003_013_IM_bbox_wrap.tif -overwrite\n",
      "\"C:\\Program Files\\GDAL//gdalwarp.exe\" -cutline D:\\Data\\ChinaShapefile//IM_bbox_wrap.shp -crop_to_cutline -of GTiff -dstnodata -9999 J:\\NDAI_2003-2014\\2003\\NDAI_2003_014.tif D:\\Data\\LS_DATA\\NDAI-1day_IM_bbox_warp//NDAI_2003_014_IM_bbox_wrap.tif -overwrite\n",
      "\"C:\\Program Files\\GDAL//gdalwarp.exe\" -cutline D:\\Data\\ChinaShapefile//IM_bbox_wrap.shp -crop_to_cutline -of GTiff -dstnodata -9999 J:\\NDAI_2003-2014\\2003\\NDAI_2003_015.tif D:\\Data\\LS_DATA\\NDAI-1day_IM_bbox_warp//NDAI_2003_015_IM_bbox_wrap.tif -overwrite\n",
      "\"C:\\Program Files\\GDAL//gdalwarp.exe\" -cutline D:\\Data\\ChinaShapefile//IM_bbox_wrap.shp -crop_to_cutline -of GTiff -dstnodata -9999 J:\\NDAI_2003-2014\\2003\\NDAI_2003_016.tif D:\\Data\\LS_DATA\\NDAI-1day_IM_bbox_warp//NDAI_2003_016_IM_bbox_wrap.tif -overwrite\n",
      "\"C:\\Program Files\\GDAL//gdalwarp.exe\" -cutline D:\\Data\\ChinaShapefile//IM_bbox_wrap.shp -crop_to_cutline -of GTiff -dstnodata -9999 J:\\NDAI_2003-2014\\2003\\NDAI_2003_017.tif D:\\Data\\LS_DATA\\NDAI-1day_IM_bbox_warp//NDAI_2003_017_IM_bbox_wrap.tif -overwrite\n",
      "\"C:\\Program Files\\GDAL//gdalwarp.exe\" -cutline D:\\Data\\ChinaShapefile//IM_bbox_wrap.shp -crop_to_cutline -of GTiff -dstnodata -9999 J:\\NDAI_2003-2014\\2003\\NDAI_2003_018.tif D:\\Data\\LS_DATA\\NDAI-1day_IM_bbox_warp//NDAI_2003_018_IM_bbox_wrap.tif -overwrite\n",
      "\"C:\\Program Files\\GDAL//gdalwarp.exe\" -cutline D:\\Data\\ChinaShapefile//IM_bbox_wrap.shp -crop_to_cutline -of GTiff -dstnodata -9999 J:\\NDAI_2003-2014\\2003\\NDAI_2003_019.tif D:\\Data\\LS_DATA\\NDAI-1day_IM_bbox_warp//NDAI_2003_019_IM_bbox_wrap.tif -overwrite\n",
      "\"C:\\Program Files\\GDAL//gdalwarp.exe\" -cutline D:\\Data\\ChinaShapefile//IM_bbox_wrap.shp -crop_to_cutline -of GTiff -dstnodata -9999 J:\\NDAI_2003-2014\\2003\\NDAI_2003_020.tif D:\\Data\\LS_DATA\\NDAI-1day_IM_bbox_warp//NDAI_2003_020_IM_bbox_wrap.tif -overwrite\n",
      "\"C:\\Program Files\\GDAL//gdalwarp.exe\" -cutline D:\\Data\\ChinaShapefile//IM_bbox_wrap.shp -crop_to_cutline -of GTiff -dstnodata -9999 J:\\NDAI_2003-2014\\2003\\NDAI_2003_021.tif D:\\Data\\LS_DATA\\NDAI-1day_IM_bbox_warp//NDAI_2003_021_IM_bbox_wrap.tif -overwrite\n",
      "\"C:\\Program Files\\GDAL//gdalwarp.exe\" -cutline D:\\Data\\ChinaShapefile//IM_bbox_wrap.shp -crop_to_cutline -of GTiff -dstnodata -9999 J:\\NDAI_2003-2014\\2003\\NDAI_2003_022.tif D:\\Data\\LS_DATA\\NDAI-1day_IM_bbox_warp//NDAI_2003_022_IM_bbox_wrap.tif -overwrite\n",
      "\"C:\\Program Files\\GDAL//gdalwarp.exe\" -cutline D:\\Data\\ChinaShapefile//IM_bbox_wrap.shp -crop_to_cutline -of GTiff -dstnodata -9999 J:\\NDAI_2003-2014\\2003\\NDAI_2003_023.tif D:\\Data\\LS_DATA\\NDAI-1day_IM_bbox_warp//NDAI_2003_023_IM_bbox_wrap.tif -overwrite\n",
      "\"C:\\Program Files\\GDAL//gdalwarp.exe\" -cutline D:\\Data\\ChinaShapefile//IM_bbox_wrap.shp -crop_to_cutline -of GTiff -dstnodata -9999 J:\\NDAI_2003-2014\\2003\\NDAI_2003_024.tif D:\\Data\\LS_DATA\\NDAI-1day_IM_bbox_warp//NDAI_2003_024_IM_bbox_wrap.tif -overwrite\n",
      "\"C:\\Program Files\\GDAL//gdalwarp.exe\" -cutline D:\\Data\\ChinaShapefile//IM_bbox_wrap.shp -crop_to_cutline -of GTiff -dstnodata -9999 J:\\NDAI_2003-2014\\2003\\NDAI_2003_025.tif D:\\Data\\LS_DATA\\NDAI-1day_IM_bbox_warp//NDAI_2003_025_IM_bbox_wrap.tif -overwrite\n",
      "\"C:\\Program Files\\GDAL//gdalwarp.exe\" -cutline D:\\Data\\ChinaShapefile//IM_bbox_wrap.shp -crop_to_cutline -of GTiff -dstnodata -9999 J:\\NDAI_2003-2014\\2003\\NDAI_2003_026.tif D:\\Data\\LS_DATA\\NDAI-1day_IM_bbox_warp//NDAI_2003_026_IM_bbox_wrap.tif -overwrite\n",
      "\"C:\\Program Files\\GDAL//gdalwarp.exe\" -cutline D:\\Data\\ChinaShapefile//IM_bbox_wrap.shp -crop_to_cutline -of GTiff -dstnodata -9999 J:\\NDAI_2003-2014\\2003\\NDAI_2003_027.tif D:\\Data\\LS_DATA\\NDAI-1day_IM_bbox_warp//NDAI_2003_027_IM_bbox_wrap.tif -overwrite\n",
      "\"C:\\Program Files\\GDAL//gdalwarp.exe\" -cutline D:\\Data\\ChinaShapefile//IM_bbox_wrap.shp -crop_to_cutline -of GTiff -dstnodata -9999 J:\\NDAI_2003-2014\\2003\\NDAI_2003_028.tif D:\\Data\\LS_DATA\\NDAI-1day_IM_bbox_warp//NDAI_2003_028_IM_bbox_wrap.tif -overwrite\n",
      "\"C:\\Program Files\\GDAL//gdalwarp.exe\" -cutline D:\\Data\\ChinaShapefile//IM_bbox_wrap.shp -crop_to_cutline -of GTiff -dstnodata -9999 J:\\NDAI_2003-2014\\2003\\NDAI_2003_029.tif D:\\Data\\LS_DATA\\NDAI-1day_IM_bbox_warp//NDAI_2003_029_IM_bbox_wrap.tif -overwrite\n",
      "\"C:\\Program Files\\GDAL//gdalwarp.exe\" -cutline D:\\Data\\ChinaShapefile//IM_bbox_wrap.shp -crop_to_cutline -of GTiff -dstnodata -9999 J:\\NDAI_2003-2014\\2003\\NDAI_2003_030.tif D:\\Data\\LS_DATA\\NDAI-1day_IM_bbox_warp//NDAI_2003_030_IM_bbox_wrap.tif -overwrite\n",
      "\"C:\\Program Files\\GDAL//gdalwarp.exe\" -cutline D:\\Data\\ChinaShapefile//IM_bbox_wrap.shp -crop_to_cutline -of GTiff -dstnodata -9999 J:\\NDAI_2003-2014\\2003\\NDAI_2003_031.tif D:\\Data\\LS_DATA\\NDAI-1day_IM_bbox_warp//NDAI_2003_031_IM_bbox_wrap.tif -overwrite\n",
      "\"C:\\Program Files\\GDAL//gdalwarp.exe\" -cutline D:\\Data\\ChinaShapefile//IM_bbox_wrap.shp -crop_to_cutline -of GTiff -dstnodata -9999 J:\\NDAI_2003-2014\\2003\\NDAI_2003_032.tif D:\\Data\\LS_DATA\\NDAI-1day_IM_bbox_warp//NDAI_2003_032_IM_bbox_wrap.tif -overwrite\n",
      "\"C:\\Program Files\\GDAL//gdalwarp.exe\" -cutline D:\\Data\\ChinaShapefile//IM_bbox_wrap.shp -crop_to_cutline -of GTiff -dstnodata -9999 J:\\NDAI_2003-2014\\2003\\NDAI_2003_033.tif D:\\Data\\LS_DATA\\NDAI-1day_IM_bbox_warp//NDAI_2003_033_IM_bbox_wrap.tif -overwrite\n",
      "\"C:\\Program Files\\GDAL//gdalwarp.exe\" -cutline D:\\Data\\ChinaShapefile//IM_bbox_wrap.shp -crop_to_cutline -of GTiff -dstnodata -9999 J:\\NDAI_2003-2014\\2003\\NDAI_2003_034.tif D:\\Data\\LS_DATA\\NDAI-1day_IM_bbox_warp//NDAI_2003_034_IM_bbox_wrap.tif -overwrite\n",
      "\"C:\\Program Files\\GDAL//gdalwarp.exe\" -cutline D:\\Data\\ChinaShapefile//IM_bbox_wrap.shp -crop_to_cutline -of GTiff -dstnodata -9999 J:\\NDAI_2003-2014\\2003\\NDAI_2003_035.tif D:\\Data\\LS_DATA\\NDAI-1day_IM_bbox_warp//NDAI_2003_035_IM_bbox_wrap.tif -overwrite\n",
      "\"C:\\Program Files\\GDAL//gdalwarp.exe\" -cutline D:\\Data\\ChinaShapefile//IM_bbox_wrap.shp -crop_to_cutline -of GTiff -dstnodata -9999 J:\\NDAI_2003-2014\\2003\\NDAI_2003_036.tif D:\\Data\\LS_DATA\\NDAI-1day_IM_bbox_warp//NDAI_2003_036_IM_bbox_wrap.tif -overwrite\n",
      "\"C:\\Program Files\\GDAL//gdalwarp.exe\" -cutline D:\\Data\\ChinaShapefile//IM_bbox_wrap.shp -crop_to_cutline -of GTiff -dstnodata -9999 J:\\NDAI_2003-2014\\2003\\NDAI_2003_037.tif D:\\Data\\LS_DATA\\NDAI-1day_IM_bbox_warp//NDAI_2003_037_IM_bbox_wrap.tif -overwrite\n",
      "\"C:\\Program Files\\GDAL//gdalwarp.exe\" -cutline D:\\Data\\ChinaShapefile//IM_bbox_wrap.shp -crop_to_cutline -of GTiff -dstnodata -9999 J:\\NDAI_2003-2014\\2003\\NDAI_2003_038.tif D:\\Data\\LS_DATA\\NDAI-1day_IM_bbox_warp//NDAI_2003_038_IM_bbox_wrap.tif -overwrite\n",
      "\"C:\\Program Files\\GDAL//gdalwarp.exe\" -cutline D:\\Data\\ChinaShapefile//IM_bbox_wrap.shp -crop_to_cutline -of GTiff -dstnodata -9999 J:\\NDAI_2003-2014\\2003\\NDAI_2003_039.tif D:\\Data\\LS_DATA\\NDAI-1day_IM_bbox_warp//NDAI_2003_039_IM_bbox_wrap.tif -overwrite\n",
      "\"C:\\Program Files\\GDAL//gdalwarp.exe\" -cutline D:\\Data\\ChinaShapefile//IM_bbox_wrap.shp -crop_to_cutline -of GTiff -dstnodata -9999 J:\\NDAI_2003-2014\\2003\\NDAI_2003_040.tif D:\\Data\\LS_DATA\\NDAI-1day_IM_bbox_warp//NDAI_2003_040_IM_bbox_wrap.tif -overwrite\n",
      "\"C:\\Program Files\\GDAL//gdalwarp.exe\" -cutline D:\\Data\\ChinaShapefile//IM_bbox_wrap.shp -crop_to_cutline -of GTiff -dstnodata -9999 J:\\NDAI_2003-2014\\2003\\NDAI_2003_041.tif D:\\Data\\LS_DATA\\NDAI-1day_IM_bbox_warp//NDAI_2003_041_IM_bbox_wrap.tif -overwrite\n",
      "\"C:\\Program Files\\GDAL//gdalwarp.exe\" -cutline D:\\Data\\ChinaShapefile//IM_bbox_wrap.shp -crop_to_cutline -of GTiff -dstnodata -9999 J:\\NDAI_2003-2014\\2003\\NDAI_2003_042.tif D:\\Data\\LS_DATA\\NDAI-1day_IM_bbox_warp//NDAI_2003_042_IM_bbox_wrap.tif -overwrite\n",
      "\"C:\\Program Files\\GDAL//gdalwarp.exe\" -cutline D:\\Data\\ChinaShapefile//IM_bbox_wrap.shp -crop_to_cutline -of GTiff -dstnodata -9999 J:\\NDAI_2003-2014\\2003\\NDAI_2003_043.tif D:\\Data\\LS_DATA\\NDAI-1day_IM_bbox_warp//NDAI_2003_043_IM_bbox_wrap.tif -overwrite\n",
      "\"C:\\Program Files\\GDAL//gdalwarp.exe\" -cutline D:\\Data\\ChinaShapefile//IM_bbox_wrap.shp -crop_to_cutline -of GTiff -dstnodata -9999 J:\\NDAI_2003-2014\\2003\\NDAI_2003_044.tif D:\\Data\\LS_DATA\\NDAI-1day_IM_bbox_warp//NDAI_2003_044_IM_bbox_wrap.tif -overwrite\n",
      "\"C:\\Program Files\\GDAL//gdalwarp.exe\" -cutline D:\\Data\\ChinaShapefile//IM_bbox_wrap.shp -crop_to_cutline -of GTiff -dstnodata -9999 J:\\NDAI_2003-2014\\2003\\NDAI_2003_045.tif D:\\Data\\LS_DATA\\NDAI-1day_IM_bbox_warp//NDAI_2003_045_IM_bbox_wrap.tif -overwrite\n",
      "\"C:\\Program Files\\GDAL//gdalwarp.exe\" -cutline D:\\Data\\ChinaShapefile//IM_bbox_wrap.shp -crop_to_cutline -of GTiff -dstnodata -9999 J:\\NDAI_2003-2014\\2003\\NDAI_2003_046.tif D:\\Data\\LS_DATA\\NDAI-1day_IM_bbox_warp//NDAI_2003_046_IM_bbox_wrap.tif -overwrite\n",
      "\"C:\\Program Files\\GDAL//gdalwarp.exe\" -cutline D:\\Data\\ChinaShapefile//IM_bbox_wrap.shp -crop_to_cutline -of GTiff -dstnodata -9999 J:\\NDAI_2003-2014\\2003\\NDAI_2003_047.tif D:\\Data\\LS_DATA\\NDAI-1day_IM_bbox_warp//NDAI_2003_047_IM_bbox_wrap.tif -overwrite\n",
      "\"C:\\Program Files\\GDAL//gdalwarp.exe\" -cutline D:\\Data\\ChinaShapefile//IM_bbox_wrap.shp -crop_to_cutline -of GTiff -dstnodata -9999 J:\\NDAI_2003-2014\\2003\\NDAI_2003_048.tif D:\\Data\\LS_DATA\\NDAI-1day_IM_bbox_warp//NDAI_2003_048_IM_bbox_wrap.tif -overwrite\n",
      "\"C:\\Program Files\\GDAL//gdalwarp.exe\" -cutline D:\\Data\\ChinaShapefile//IM_bbox_wrap.shp -crop_to_cutline -of GTiff -dstnodata -9999 J:\\NDAI_2003-2014\\2003\\NDAI_2003_049.tif D:\\Data\\LS_DATA\\NDAI-1day_IM_bbox_warp//NDAI_2003_049_IM_bbox_wrap.tif -overwrite\n",
      "\"C:\\Program Files\\GDAL//gdalwarp.exe\" -cutline D:\\Data\\ChinaShapefile//IM_bbox_wrap.shp -crop_to_cutline -of GTiff -dstnodata -9999 J:\\NDAI_2003-2014\\2003\\NDAI_2003_050.tif D:\\Data\\LS_DATA\\NDAI-1day_IM_bbox_warp//NDAI_2003_050_IM_bbox_wrap.tif -overwrite\n",
      "\"C:\\Program Files\\GDAL//gdalwarp.exe\" -cutline D:\\Data\\ChinaShapefile//IM_bbox_wrap.shp -crop_to_cutline -of GTiff -dstnodata -9999 J:\\NDAI_2003-2014\\2003\\NDAI_2003_051.tif D:\\Data\\LS_DATA\\NDAI-1day_IM_bbox_warp//NDAI_2003_051_IM_bbox_wrap.tif -overwrite\n",
      "\"C:\\Program Files\\GDAL//gdalwarp.exe\" -cutline D:\\Data\\ChinaShapefile//IM_bbox_wrap.shp -crop_to_cutline -of GTiff -dstnodata -9999 J:\\NDAI_2003-2014\\2003\\NDAI_2003_052.tif D:\\Data\\LS_DATA\\NDAI-1day_IM_bbox_warp//NDAI_2003_052_IM_bbox_wrap.tif -overwrite\n",
      "\"C:\\Program Files\\GDAL//gdalwarp.exe\" -cutline D:\\Data\\ChinaShapefile//IM_bbox_wrap.shp -crop_to_cutline -of GTiff -dstnodata -9999 J:\\NDAI_2003-2014\\2003\\NDAI_2003_053.tif D:\\Data\\LS_DATA\\NDAI-1day_IM_bbox_warp//NDAI_2003_053_IM_bbox_wrap.tif -overwrite\n",
      "\"C:\\Program Files\\GDAL//gdalwarp.exe\" -cutline D:\\Data\\ChinaShapefile//IM_bbox_wrap.shp -crop_to_cutline -of GTiff -dstnodata -9999 J:\\NDAI_2003-2014\\2003\\NDAI_2003_054.tif D:\\Data\\LS_DATA\\NDAI-1day_IM_bbox_warp//NDAI_2003_054_IM_bbox_wrap.tif -overwrite\n",
      "\"C:\\Program Files\\GDAL//gdalwarp.exe\" -cutline D:\\Data\\ChinaShapefile//IM_bbox_wrap.shp -crop_to_cutline -of GTiff -dstnodata -9999 J:\\NDAI_2003-2014\\2003\\NDAI_2003_055.tif D:\\Data\\LS_DATA\\NDAI-1day_IM_bbox_warp//NDAI_2003_055_IM_bbox_wrap.tif -overwrite\n",
      "\"C:\\Program Files\\GDAL//gdalwarp.exe\" -cutline D:\\Data\\ChinaShapefile//IM_bbox_wrap.shp -crop_to_cutline -of GTiff -dstnodata -9999 J:\\NDAI_2003-2014\\2003\\NDAI_2003_056.tif D:\\Data\\LS_DATA\\NDAI-1day_IM_bbox_warp//NDAI_2003_056_IM_bbox_wrap.tif -overwrite\n",
      "\"C:\\Program Files\\GDAL//gdalwarp.exe\" -cutline D:\\Data\\ChinaShapefile//IM_bbox_wrap.shp -crop_to_cutline -of GTiff -dstnodata -9999 J:\\NDAI_2003-2014\\2003\\NDAI_2003_057.tif D:\\Data\\LS_DATA\\NDAI-1day_IM_bbox_warp//NDAI_2003_057_IM_bbox_wrap.tif -overwrite\n",
      "\"C:\\Program Files\\GDAL//gdalwarp.exe\" -cutline D:\\Data\\ChinaShapefile//IM_bbox_wrap.shp -crop_to_cutline -of GTiff -dstnodata -9999 J:\\NDAI_2003-2014\\2003\\NDAI_2003_058.tif D:\\Data\\LS_DATA\\NDAI-1day_IM_bbox_warp//NDAI_2003_058_IM_bbox_wrap.tif -overwrite\n",
      "\"C:\\Program Files\\GDAL//gdalwarp.exe\" -cutline D:\\Data\\ChinaShapefile//IM_bbox_wrap.shp -crop_to_cutline -of GTiff -dstnodata -9999 J:\\NDAI_2003-2014\\2003\\NDAI_2003_059.tif D:\\Data\\LS_DATA\\NDAI-1day_IM_bbox_warp//NDAI_2003_059_IM_bbox_wrap.tif -overwrite\n",
      "\"C:\\Program Files\\GDAL//gdalwarp.exe\" -cutline D:\\Data\\ChinaShapefile//IM_bbox_wrap.shp -crop_to_cutline -of GTiff -dstnodata -9999 J:\\NDAI_2003-2014\\2003\\NDAI_2003_060.tif D:\\Data\\LS_DATA\\NDAI-1day_IM_bbox_warp//NDAI_2003_060_IM_bbox_wrap.tif -overwrite\n",
      "\"C:\\Program Files\\GDAL//gdalwarp.exe\" -cutline D:\\Data\\ChinaShapefile//IM_bbox_wrap.shp -crop_to_cutline -of GTiff -dstnodata -9999 J:\\NDAI_2003-2014\\2003\\NDAI_2003_061.tif D:\\Data\\LS_DATA\\NDAI-1day_IM_bbox_warp//NDAI_2003_061_IM_bbox_wrap.tif -overwrite\n",
      "\"C:\\Program Files\\GDAL//gdalwarp.exe\" -cutline D:\\Data\\ChinaShapefile//IM_bbox_wrap.shp -crop_to_cutline -of GTiff -dstnodata -9999 J:\\NDAI_2003-2014\\2003\\NDAI_2003_062.tif D:\\Data\\LS_DATA\\NDAI-1day_IM_bbox_warp//NDAI_2003_062_IM_bbox_wrap.tif -overwrite\n",
      "\"C:\\Program Files\\GDAL//gdalwarp.exe\" -cutline D:\\Data\\ChinaShapefile//IM_bbox_wrap.shp -crop_to_cutline -of GTiff -dstnodata -9999 J:\\NDAI_2003-2014\\2003\\NDAI_2003_063.tif D:\\Data\\LS_DATA\\NDAI-1day_IM_bbox_warp//NDAI_2003_063_IM_bbox_wrap.tif -overwrite\n",
      "\"C:\\Program Files\\GDAL//gdalwarp.exe\" -cutline D:\\Data\\ChinaShapefile//IM_bbox_wrap.shp -crop_to_cutline -of GTiff -dstnodata -9999 J:\\NDAI_2003-2014\\2003\\NDAI_2003_064.tif D:\\Data\\LS_DATA\\NDAI-1day_IM_bbox_warp//NDAI_2003_064_IM_bbox_wrap.tif -overwrite\n",
      "\"C:\\Program Files\\GDAL//gdalwarp.exe\" -cutline D:\\Data\\ChinaShapefile//IM_bbox_wrap.shp -crop_to_cutline -of GTiff -dstnodata -9999 J:\\NDAI_2003-2014\\2003\\NDAI_2003_065.tif D:\\Data\\LS_DATA\\NDAI-1day_IM_bbox_warp//NDAI_2003_065_IM_bbox_wrap.tif -overwrite\n",
      "\"C:\\Program Files\\GDAL//gdalwarp.exe\" -cutline D:\\Data\\ChinaShapefile//IM_bbox_wrap.shp -crop_to_cutline -of GTiff -dstnodata -9999 J:\\NDAI_2003-2014\\2003\\NDAI_2003_066.tif D:\\Data\\LS_DATA\\NDAI-1day_IM_bbox_warp//NDAI_2003_066_IM_bbox_wrap.tif -overwrite\n",
      "\"C:\\Program Files\\GDAL//gdalwarp.exe\" -cutline D:\\Data\\ChinaShapefile//IM_bbox_wrap.shp -crop_to_cutline -of GTiff -dstnodata -9999 J:\\NDAI_2003-2014\\2003\\NDAI_2003_067.tif D:\\Data\\LS_DATA\\NDAI-1day_IM_bbox_warp//NDAI_2003_067_IM_bbox_wrap.tif -overwrite\n",
      "\"C:\\Program Files\\GDAL//gdalwarp.exe\" -cutline D:\\Data\\ChinaShapefile//IM_bbox_wrap.shp -crop_to_cutline -of GTiff -dstnodata -9999 J:\\NDAI_2003-2014\\2003\\NDAI_2003_068.tif D:\\Data\\LS_DATA\\NDAI-1day_IM_bbox_warp//NDAI_2003_068_IM_bbox_wrap.tif -overwrite\n",
      "\"C:\\Program Files\\GDAL//gdalwarp.exe\" -cutline D:\\Data\\ChinaShapefile//IM_bbox_wrap.shp -crop_to_cutline -of GTiff -dstnodata -9999 J:\\NDAI_2003-2014\\2003\\NDAI_2003_069.tif D:\\Data\\LS_DATA\\NDAI-1day_IM_bbox_warp//NDAI_2003_069_IM_bbox_wrap.tif -overwrite\n",
      "\"C:\\Program Files\\GDAL//gdalwarp.exe\" -cutline D:\\Data\\ChinaShapefile//IM_bbox_wrap.shp -crop_to_cutline -of GTiff -dstnodata -9999 J:\\NDAI_2003-2014\\2003\\NDAI_2003_070.tif D:\\Data\\LS_DATA\\NDAI-1day_IM_bbox_warp//NDAI_2003_070_IM_bbox_wrap.tif -overwrite\n",
      "\"C:\\Program Files\\GDAL//gdalwarp.exe\" -cutline D:\\Data\\ChinaShapefile//IM_bbox_wrap.shp -crop_to_cutline -of GTiff -dstnodata -9999 J:\\NDAI_2003-2014\\2003\\NDAI_2003_071.tif D:\\Data\\LS_DATA\\NDAI-1day_IM_bbox_warp//NDAI_2003_071_IM_bbox_wrap.tif -overwrite\n",
      "\"C:\\Program Files\\GDAL//gdalwarp.exe\" -cutline D:\\Data\\ChinaShapefile//IM_bbox_wrap.shp -crop_to_cutline -of GTiff -dstnodata -9999 J:\\NDAI_2003-2014\\2003\\NDAI_2003_072.tif D:\\Data\\LS_DATA\\NDAI-1day_IM_bbox_warp//NDAI_2003_072_IM_bbox_wrap.tif -overwrite\n",
      "\"C:\\Program Files\\GDAL//gdalwarp.exe\" -cutline D:\\Data\\ChinaShapefile//IM_bbox_wrap.shp -crop_to_cutline -of GTiff -dstnodata -9999 J:\\NDAI_2003-2014\\2003\\NDAI_2003_073.tif D:\\Data\\LS_DATA\\NDAI-1day_IM_bbox_warp//NDAI_2003_073_IM_bbox_wrap.tif -overwrite\n",
      "\"C:\\Program Files\\GDAL//gdalwarp.exe\" -cutline D:\\Data\\ChinaShapefile//IM_bbox_wrap.shp -crop_to_cutline -of GTiff -dstnodata -9999 J:\\NDAI_2003-2014\\2003\\NDAI_2003_074.tif D:\\Data\\LS_DATA\\NDAI-1day_IM_bbox_warp//NDAI_2003_074_IM_bbox_wrap.tif -overwrite\n",
      "\"C:\\Program Files\\GDAL//gdalwarp.exe\" -cutline D:\\Data\\ChinaShapefile//IM_bbox_wrap.shp -crop_to_cutline -of GTiff -dstnodata -9999 J:\\NDAI_2003-2014\\2003\\NDAI_2003_075.tif D:\\Data\\LS_DATA\\NDAI-1day_IM_bbox_warp//NDAI_2003_075_IM_bbox_wrap.tif -overwrite\n",
      "\"C:\\Program Files\\GDAL//gdalwarp.exe\" -cutline D:\\Data\\ChinaShapefile//IM_bbox_wrap.shp -crop_to_cutline -of GTiff -dstnodata -9999 J:\\NDAI_2003-2014\\2003\\NDAI_2003_076.tif D:\\Data\\LS_DATA\\NDAI-1day_IM_bbox_warp//NDAI_2003_076_IM_bbox_wrap.tif -overwrite\n",
      "\"C:\\Program Files\\GDAL//gdalwarp.exe\" -cutline D:\\Data\\ChinaShapefile//IM_bbox_wrap.shp -crop_to_cutline -of GTiff -dstnodata -9999 J:\\NDAI_2003-2014\\2003\\NDAI_2003_077.tif D:\\Data\\LS_DATA\\NDAI-1day_IM_bbox_warp//NDAI_2003_077_IM_bbox_wrap.tif -overwrite\n",
      "\"C:\\Program Files\\GDAL//gdalwarp.exe\" -cutline D:\\Data\\ChinaShapefile//IM_bbox_wrap.shp -crop_to_cutline -of GTiff -dstnodata -9999 J:\\NDAI_2003-2014\\2003\\NDAI_2003_078.tif D:\\Data\\LS_DATA\\NDAI-1day_IM_bbox_warp//NDAI_2003_078_IM_bbox_wrap.tif -overwrite\n",
      "\"C:\\Program Files\\GDAL//gdalwarp.exe\" -cutline D:\\Data\\ChinaShapefile//IM_bbox_wrap.shp -crop_to_cutline -of GTiff -dstnodata -9999 J:\\NDAI_2003-2014\\2003\\NDAI_2003_079.tif D:\\Data\\LS_DATA\\NDAI-1day_IM_bbox_warp//NDAI_2003_079_IM_bbox_wrap.tif -overwrite\n",
      "\"C:\\Program Files\\GDAL//gdalwarp.exe\" -cutline D:\\Data\\ChinaShapefile//IM_bbox_wrap.shp -crop_to_cutline -of GTiff -dstnodata -9999 J:\\NDAI_2003-2014\\2003\\NDAI_2003_080.tif D:\\Data\\LS_DATA\\NDAI-1day_IM_bbox_warp//NDAI_2003_080_IM_bbox_wrap.tif -overwrite\n",
      "\"C:\\Program Files\\GDAL//gdalwarp.exe\" -cutline D:\\Data\\ChinaShapefile//IM_bbox_wrap.shp -crop_to_cutline -of GTiff -dstnodata -9999 J:\\NDAI_2003-2014\\2003\\NDAI_2003_081.tif D:\\Data\\LS_DATA\\NDAI-1day_IM_bbox_warp//NDAI_2003_081_IM_bbox_wrap.tif -overwrite\n",
      "\"C:\\Program Files\\GDAL//gdalwarp.exe\" -cutline D:\\Data\\ChinaShapefile//IM_bbox_wrap.shp -crop_to_cutline -of GTiff -dstnodata -9999 J:\\NDAI_2003-2014\\2003\\NDAI_2003_082.tif D:\\Data\\LS_DATA\\NDAI-1day_IM_bbox_warp//NDAI_2003_082_IM_bbox_wrap.tif -overwrite\n",
      "\"C:\\Program Files\\GDAL//gdalwarp.exe\" -cutline D:\\Data\\ChinaShapefile//IM_bbox_wrap.shp -crop_to_cutline -of GTiff -dstnodata -9999 J:\\NDAI_2003-2014\\2003\\NDAI_2003_083.tif D:\\Data\\LS_DATA\\NDAI-1day_IM_bbox_warp//NDAI_2003_083_IM_bbox_wrap.tif -overwrite\n",
      "\"C:\\Program Files\\GDAL//gdalwarp.exe\" -cutline D:\\Data\\ChinaShapefile//IM_bbox_wrap.shp -crop_to_cutline -of GTiff -dstnodata -9999 J:\\NDAI_2003-2014\\2003\\NDAI_2003_084.tif D:\\Data\\LS_DATA\\NDAI-1day_IM_bbox_warp//NDAI_2003_084_IM_bbox_wrap.tif -overwrite\n",
      "\"C:\\Program Files\\GDAL//gdalwarp.exe\" -cutline D:\\Data\\ChinaShapefile//IM_bbox_wrap.shp -crop_to_cutline -of GTiff -dstnodata -9999 J:\\NDAI_2003-2014\\2003\\NDAI_2003_085.tif D:\\Data\\LS_DATA\\NDAI-1day_IM_bbox_warp//NDAI_2003_085_IM_bbox_wrap.tif -overwrite\n",
      "\"C:\\Program Files\\GDAL//gdalwarp.exe\" -cutline D:\\Data\\ChinaShapefile//IM_bbox_wrap.shp -crop_to_cutline -of GTiff -dstnodata -9999 J:\\NDAI_2003-2014\\2003\\NDAI_2003_086.tif D:\\Data\\LS_DATA\\NDAI-1day_IM_bbox_warp//NDAI_2003_086_IM_bbox_wrap.tif -overwrite\n",
      "\"C:\\Program Files\\GDAL//gdalwarp.exe\" -cutline D:\\Data\\ChinaShapefile//IM_bbox_wrap.shp -crop_to_cutline -of GTiff -dstnodata -9999 J:\\NDAI_2003-2014\\2003\\NDAI_2003_087.tif D:\\Data\\LS_DATA\\NDAI-1day_IM_bbox_warp//NDAI_2003_087_IM_bbox_wrap.tif -overwrite\n",
      "\"C:\\Program Files\\GDAL//gdalwarp.exe\" -cutline D:\\Data\\ChinaShapefile//IM_bbox_wrap.shp -crop_to_cutline -of GTiff -dstnodata -9999 J:\\NDAI_2003-2014\\2003\\NDAI_2003_088.tif D:\\Data\\LS_DATA\\NDAI-1day_IM_bbox_warp//NDAI_2003_088_IM_bbox_wrap.tif -overwrite\n",
      "\"C:\\Program Files\\GDAL//gdalwarp.exe\" -cutline D:\\Data\\ChinaShapefile//IM_bbox_wrap.shp -crop_to_cutline -of GTiff -dstnodata -9999 J:\\NDAI_2003-2014\\2003\\NDAI_2003_089.tif D:\\Data\\LS_DATA\\NDAI-1day_IM_bbox_warp//NDAI_2003_089_IM_bbox_wrap.tif -overwrite\n",
      "\"C:\\Program Files\\GDAL//gdalwarp.exe\" -cutline D:\\Data\\ChinaShapefile//IM_bbox_wrap.shp -crop_to_cutline -of GTiff -dstnodata -9999 J:\\NDAI_2003-2014\\2003\\NDAI_2003_090.tif D:\\Data\\LS_DATA\\NDAI-1day_IM_bbox_warp//NDAI_2003_090_IM_bbox_wrap.tif -overwrite\n",
      "\"C:\\Program Files\\GDAL//gdalwarp.exe\" -cutline D:\\Data\\ChinaShapefile//IM_bbox_wrap.shp -crop_to_cutline -of GTiff -dstnodata -9999 J:\\NDAI_2003-2014\\2003\\NDAI_2003_091.tif D:\\Data\\LS_DATA\\NDAI-1day_IM_bbox_warp//NDAI_2003_091_IM_bbox_wrap.tif -overwrite\n",
      "\"C:\\Program Files\\GDAL//gdalwarp.exe\" -cutline D:\\Data\\ChinaShapefile//IM_bbox_wrap.shp -crop_to_cutline -of GTiff -dstnodata -9999 J:\\NDAI_2003-2014\\2003\\NDAI_2003_092.tif D:\\Data\\LS_DATA\\NDAI-1day_IM_bbox_warp//NDAI_2003_092_IM_bbox_wrap.tif -overwrite\n",
      "\"C:\\Program Files\\GDAL//gdalwarp.exe\" -cutline D:\\Data\\ChinaShapefile//IM_bbox_wrap.shp -crop_to_cutline -of GTiff -dstnodata -9999 J:\\NDAI_2003-2014\\2003\\NDAI_2003_093.tif D:\\Data\\LS_DATA\\NDAI-1day_IM_bbox_warp//NDAI_2003_093_IM_bbox_wrap.tif -overwrite\n",
      "\"C:\\Program Files\\GDAL//gdalwarp.exe\" -cutline D:\\Data\\ChinaShapefile//IM_bbox_wrap.shp -crop_to_cutline -of GTiff -dstnodata -9999 J:\\NDAI_2003-2014\\2003\\NDAI_2003_094.tif D:\\Data\\LS_DATA\\NDAI-1day_IM_bbox_warp//NDAI_2003_094_IM_bbox_wrap.tif -overwrite\n",
      "\"C:\\Program Files\\GDAL//gdalwarp.exe\" -cutline D:\\Data\\ChinaShapefile//IM_bbox_wrap.shp -crop_to_cutline -of GTiff -dstnodata -9999 J:\\NDAI_2003-2014\\2003\\NDAI_2003_095.tif D:\\Data\\LS_DATA\\NDAI-1day_IM_bbox_warp//NDAI_2003_095_IM_bbox_wrap.tif -overwrite\n",
      "\"C:\\Program Files\\GDAL//gdalwarp.exe\" -cutline D:\\Data\\ChinaShapefile//IM_bbox_wrap.shp -crop_to_cutline -of GTiff -dstnodata -9999 J:\\NDAI_2003-2014\\2003\\NDAI_2003_096.tif D:\\Data\\LS_DATA\\NDAI-1day_IM_bbox_warp//NDAI_2003_096_IM_bbox_wrap.tif -overwrite\n",
      "\"C:\\Program Files\\GDAL//gdalwarp.exe\" -cutline D:\\Data\\ChinaShapefile//IM_bbox_wrap.shp -crop_to_cutline -of GTiff -dstnodata -9999 J:\\NDAI_2003-2014\\2003\\NDAI_2003_097.tif D:\\Data\\LS_DATA\\NDAI-1day_IM_bbox_warp//NDAI_2003_097_IM_bbox_wrap.tif -overwrite\n",
      "\"C:\\Program Files\\GDAL//gdalwarp.exe\" -cutline D:\\Data\\ChinaShapefile//IM_bbox_wrap.shp -crop_to_cutline -of GTiff -dstnodata -9999 J:\\NDAI_2003-2014\\2003\\NDAI_2003_098.tif D:\\Data\\LS_DATA\\NDAI-1day_IM_bbox_warp//NDAI_2003_098_IM_bbox_wrap.tif -overwrite\n",
      "\"C:\\Program Files\\GDAL//gdalwarp.exe\" -cutline D:\\Data\\ChinaShapefile//IM_bbox_wrap.shp -crop_to_cutline -of GTiff -dstnodata -9999 J:\\NDAI_2003-2014\\2003\\NDAI_2003_099.tif D:\\Data\\LS_DATA\\NDAI-1day_IM_bbox_warp//NDAI_2003_099_IM_bbox_wrap.tif -overwrite\n",
      "\"C:\\Program Files\\GDAL//gdalwarp.exe\" -cutline D:\\Data\\ChinaShapefile//IM_bbox_wrap.shp -crop_to_cutline -of GTiff -dstnodata -9999 J:\\NDAI_2003-2014\\2003\\NDAI_2003_100.tif D:\\Data\\LS_DATA\\NDAI-1day_IM_bbox_warp//NDAI_2003_100_IM_bbox_wrap.tif -overwrite\n",
      "\"C:\\Program Files\\GDAL//gdalwarp.exe\" -cutline D:\\Data\\ChinaShapefile//IM_bbox_wrap.shp -crop_to_cutline -of GTiff -dstnodata -9999 J:\\NDAI_2003-2014\\2003\\NDAI_2003_101.tif D:\\Data\\LS_DATA\\NDAI-1day_IM_bbox_warp//NDAI_2003_101_IM_bbox_wrap.tif -overwrite\n",
      "\"C:\\Program Files\\GDAL//gdalwarp.exe\" -cutline D:\\Data\\ChinaShapefile//IM_bbox_wrap.shp -crop_to_cutline -of GTiff -dstnodata -9999 J:\\NDAI_2003-2014\\2003\\NDAI_2003_102.tif D:\\Data\\LS_DATA\\NDAI-1day_IM_bbox_warp//NDAI_2003_102_IM_bbox_wrap.tif -overwrite"
     ]
    }
   ],
   "source": [
    "list_files = listall(folder_in)\n",
    "\n",
    "for in_file_name in list_files:\n",
    "    \n",
    "    out_file_name = folder_out + os.path.splitext(os.path.basename(in_file_name))[0] + '_IM_bbox_wrap.tif'\n",
    "    command = [gdalwarp, '-cutline', shapefile_bbox, '-crop_to_cutline', '-of','GTiff','-dstnodata', '-9999', \n",
    "               in_file_name, out_file_name,'-overwrite']\n",
    "    \n",
    "    print (sp.list2cmdline(command))\n",
    "\n",
    "    norm = sp.Popen(sp.list2cmdline(command),stdout=sp.PIPE, shell=True)\n",
    "    norm.communicate()"
   ]
  },
  {
   "cell_type": "code",
   "execution_count": null,
   "metadata": {
    "collapsed": false
   },
   "outputs": [],
   "source": []
  },
  {
   "cell_type": "code",
   "execution_count": null,
   "metadata": {
    "collapsed": false
   },
   "outputs": [],
   "source": []
  }
 ],
 "metadata": {
  "kernelspec": {
   "display_name": "Python 2",
   "language": "python",
   "name": "python2"
  },
  "language_info": {
   "codemirror_mode": {
    "name": "ipython",
    "version": 2
   },
   "file_extension": ".py",
   "mimetype": "text/x-python",
   "name": "python",
   "nbconvert_exporter": "python",
   "pygments_lexer": "ipython2",
   "version": "2.7.6"
  }
 },
 "nbformat": 4,
 "nbformat_minor": 0
}
