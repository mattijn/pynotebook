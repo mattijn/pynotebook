{
 "metadata": {
  "name": "",
  "signature": "sha256:52e055a6d2557618db146f27347586a66d716bb889813d241c228f407c54c856"
 },
 "nbformat": 3,
 "nbformat_minor": 0,
 "worksheets": [
  {
   "cells": [
    {
     "cell_type": "code",
     "collapsed": false,
     "input": [
      "from pywps.Process import WPSProcess \n",
      "import pydap.client\n",
      "from pydap.client import open_url\n",
      "import numpy as np\n",
      "from datetime import datetime as dt\n",
      "import os\n",
      "import sys\n",
      "import gdal\n",
      "import shutil\n",
      "import logging\n",
      "from matplotlib import pyplot as plt\n",
      "from matplotlib import colors as mpl_cl\n",
      "from mpl_toolkits.basemap import Basemap\n",
      "from osgeo import osr, gdal\n",
      "import pandas as pd\n",
      "from datetime import datetime\n",
      "import cStringIO\n",
      "import json\n",
      "%matplotlib inline"
     ],
     "language": "python",
     "metadata": {},
     "outputs": [],
     "prompt_number": 137
    },
    {
     "cell_type": "code",
     "collapsed": false,
     "input": [
      "def unix_time(dt):\n",
      "    epoch = datetime.utcfromtimestamp(0)\n",
      "    delta = dt - epoch\n",
      "    logging.info('function `unix_time` complete')\n",
      "    return delta.total_seconds()    \n",
      "\n",
      "def unix_time_millis(dt):\n",
      "    logging.info('function `unix_time_millis` complete')\n",
      "    return int(unix_time(dt) * 1000)"
     ],
     "language": "python",
     "metadata": {},
     "outputs": [],
     "prompt_number": 148
    },
    {
     "cell_type": "code",
     "collapsed": false,
     "input": [
      "def PAP_DI_CAL_TIMESERIES(from_date='2010-06-06', to_date='2014-06-06', lon_in = 113.9797, lat_in = 42.7202):\n",
      "\n",
      "    opendap_url_mon='http://www.esrl.noaa.gov/psd/thredds/dodsC/Datasets/gpcp/precip.mon.mean.nc'\n",
      "    opendap_url_ltm='http://www.esrl.noaa.gov/psd/thredds/dodsC/Datasets/gpcp/precip.mon.ltm.nc'\n",
      "\n",
      "    # convert iso-date to gregorian calendar and get the month\n",
      "    fo_dta=(dt.strptime(from_date,'%Y-%m-%d').date()-dt.strptime('1800-01-01','%Y-%m-%d').date()).days\n",
      "    to_dta=(dt.strptime(to_date,'%Y-%m-%d').date()-dt.strptime('1800-01-01','%Y-%m-%d').date()).days\n",
      "    mon=(dt.strptime(from_date,'%Y-%m-%d').date()).month\n",
      "\n",
      "    # open opendap connection and request the avaialable time + lon/lat\n",
      "    dataset_mon = open_url(opendap_url_mon)\n",
      "    time=dataset_mon.time[:]\n",
      "    lat=dataset_mon.lat[:]\n",
      "    lon=dataset_mon.lon[:]\n",
      "\n",
      "    fo_dt_ind=next((index for index,value in enumerate(time) if value > fo_dta),0)-1\n",
      "    to_dt_ind=next((index for index,value in enumerate(time) if value > to_dta),0)-1\n",
      "\n",
      "    if lon_in < 0: lon_in += 360 #+ 180 # GPCP is from 0-360, OL is from -180-180\n",
      "\n",
      "    lon_index = next((index for index,value in enumerate(lon) if value > lon_in),0)-1\n",
      "    lat_index = next((index for index,value in enumerate(lat) if value < lat_in),0)-1\n",
      "\n",
      "    time_sel = (time>fo_dta)&(time<to_dta)\n",
      "    time_sel[np.nonzero(time_sel)[0]-1] = True\n",
      "\n",
      "    dataset_mon=dataset_mon['precip'][time_sel,lat_index,lon_index]\n",
      "    mon = np.ma.masked_less((dataset_mon['precip'][:]).squeeze(),0)\n",
      "\n",
      "    months_index = np.ones(shape=(12),dtype=bool)\n",
      "    dataset_ltm = open_url(opendap_url_ltm)\n",
      "    dataset_ltm=dataset_ltm['precip'][months_index,lat_index,lon_index]\n",
      "\n",
      "    ltm = np.ma.masked_less((dataset_ltm['precip'][:]).squeeze(),0)\n",
      "\n",
      "    from_date_ordinal = datetime.toordinal(datetime(1800,1,1)) + time[fo_dt_ind]\n",
      "    from_date_ordinal = datetime.fromordinal(int(from_date_ordinal))\n",
      "\n",
      "    end_date_ordinal = datetime.toordinal(datetime(1800,1,1)) + time[to_dt_ind]\n",
      "    end_date_ordinal = datetime.fromordinal(int(end_date_ordinal))\n",
      "\n",
      "    date_range = pd.date_range(from_date_ordinal, end_date_ordinal, freq='MS')\n",
      "\n",
      "    ts = pd.Series(mon, index=date_range)\n",
      "\n",
      "    new_dates = []\n",
      "    new_values = []\n",
      "    for i,j in zip(ts.index, ts):\n",
      "        #print i.month, j, ltm[i.month-1]\n",
      "        new_dates.append(i)\n",
      "        new_values.append((j-ltm[i.month-1])/(ltm[i.month-1]+1)*100)\n",
      "    PAP = pd.Series(new_values, index=new_dates)\n",
      "\n",
      "    # data preparation for HighCharts: Output need to be in JSON format with time \n",
      "    # in Unix milliseconds\n",
      "    dthandler = lambda obj: (\n",
      "    unix_time_millis(obj)\n",
      "    if isinstance(obj, datetime)\n",
      "    or isinstance(obj, date)\n",
      "    else None)\n",
      "\n",
      "    output1 = cStringIO.StringIO()\n",
      "\n",
      "    logging.info('ready to dump files to JSON')\n",
      "    # np.savetxt(output, pyhants, delimiter=',')\n",
      "    out1 = json.dump(PAP.reset_index().as_matrix().tolist(), output1, default=dthandler)\n",
      "\n",
      "    logging.info('dates converted from ISO 8601 to UNIX in ms')             \n",
      "    \n",
      "    return output1"
     ],
     "language": "python",
     "metadata": {},
     "outputs": [],
     "prompt_number": 162
    },
    {
     "cell_type": "code",
     "collapsed": false,
     "input": [
      "from_date='2010-01-01' \n",
      "to_date='2012-01-01'\n",
      "lon_in = 112.3977\n",
      "lat_in = 42.0712"
     ],
     "language": "python",
     "metadata": {},
     "outputs": [],
     "prompt_number": 166
    },
    {
     "cell_type": "code",
     "collapsed": false,
     "input": [
      "opendap_url_mon='http://www.esrl.noaa.gov/psd/thredds/dodsC/Datasets/gpcp/precip.mon.mean.nc'\n",
      "opendap_url_ltm='http://www.esrl.noaa.gov/psd/thredds/dodsC/Datasets/gpcp/precip.mon.ltm.nc'\n",
      "\n",
      "# convert iso-date to gregorian calendar and get the month\n",
      "fo_dta=(dt.strptime(from_date,'%Y-%m-%d').date()-dt.strptime('1800-01-01','%Y-%m-%d').date()).days\n",
      "to_dta=(dt.strptime(to_date,'%Y-%m-%d').date()-dt.strptime('1800-01-01','%Y-%m-%d').date()).days\n",
      "mon=(dt.strptime(from_date,'%Y-%m-%d').date()).month\n",
      "\n",
      "# open opendap connection and request the avaialable time + lon/lat\n",
      "dataset_mon = open_url(opendap_url_mon)\n",
      "time=dataset_mon.time[:]\n",
      "lat=dataset_mon.lat[:]\n",
      "lon=dataset_mon.lon[:]\n",
      "\n",
      "fo_dt_ind=next((index for index,value in enumerate(time) if value > fo_dta),0)-1\n",
      "to_dt_ind=next((index for index,value in enumerate(time) if value > to_dta),0)-1\n",
      "\n",
      "if lon_in < 0: lon_in += 360 #+ 180 # GPCP is from 0-360, OL is from -180-180\n",
      "\n",
      "lon_index = next((index for index,value in enumerate(lon) if value > lon_in),0)-1\n",
      "lat_index = next((index for index,value in enumerate(lat) if value < lat_in),0)-1\n",
      "\n",
      "time_sel = (time>fo_dta)&(time<to_dta)\n",
      "time_sel[np.nonzero(time_sel)[0]-1] = True\n",
      "\n",
      "dataset_mon=dataset_mon['precip'][time_sel,lat_index,lon_index]\n",
      "mon = np.ma.masked_less((dataset_mon['precip'][:]).squeeze(),0)\n",
      "\n",
      "months_index = np.ones(shape=(12),dtype=bool)\n",
      "dataset_ltm = open_url(opendap_url_ltm)\n",
      "dataset_ltm=dataset_ltm['precip'][months_index,lat_index,lon_index]\n",
      "\n",
      "ltm = np.ma.masked_less((dataset_ltm['precip'][:]).squeeze(),0)\n",
      "\n",
      "from_date_ordinal = datetime.toordinal(datetime(1800,1,1)) + time[fo_dt_ind]\n",
      "from_date_ordinal = datetime.fromordinal(int(from_date_ordinal))\n",
      "\n",
      "end_date_ordinal = datetime.toordinal(datetime(1800,1,1)) + time[to_dt_ind]\n",
      "end_date_ordinal = datetime.fromordinal(int(end_date_ordinal))\n",
      "\n",
      "date_range = pd.date_range(from_date_ordinal, end_date_ordinal, freq='MS')\n",
      "\n",
      "ts = pd.Series(mon, index=date_range[:-1])\n",
      "\n",
      "new_dates = []\n",
      "new_values = []\n",
      "for i,j in zip(ts.index, ts):\n",
      "    #print i.month, j, ltm[i.month-1]\n",
      "    new_dates.append(i)\n",
      "    new_values.append((j-ltm[i.month-1])/(ltm[i.month-1]+1)*100)\n",
      "PAP = pd.Series(new_values, index=new_dates)\n",
      "\n",
      "# data preparation for HighCharts: Output need to be in JSON format with time \n",
      "# in Unix milliseconds\n",
      "dthandler = lambda obj: (\n",
      "unix_time_millis(obj)\n",
      "if isinstance(obj, datetime)\n",
      "or isinstance(obj, date)\n",
      "else None)\n",
      "\n",
      "output1 = cStringIO.StringIO()\n",
      "\n",
      "logging.info('ready to dump files to JSON')\n",
      "# np.savetxt(output, pyhants, delimiter=',')\n",
      "out1 = json.dump(PAP.reset_index().as_matrix().tolist(), output1, default=dthandler)\n",
      "\n",
      "logging.info('dates converted from ISO 8601 to UNIX in ms')  "
     ],
     "language": "python",
     "metadata": {},
     "outputs": [],
     "prompt_number": 174
    },
    {
     "cell_type": "code",
     "collapsed": false,
     "input": [
      "PAP"
     ],
     "language": "python",
     "metadata": {},
     "outputs": [
      {
       "metadata": {},
       "output_type": "pyout",
       "prompt_number": 175,
       "text": [
        "2010-01-01     6.202945\n",
        "2010-02-01    -1.724998\n",
        "2010-03-01     8.753264\n",
        "2010-04-01     9.838535\n",
        "2010-05-01    49.203907\n",
        "2010-06-01    -0.321427\n",
        "2010-07-01   -29.274352\n",
        "2010-08-01   -44.108855\n",
        "2010-09-01    47.710138\n",
        "2010-10-01     8.556871\n",
        "2010-11-01     3.803869\n",
        "2010-12-01     0.857832\n",
        "2011-01-01    -0.290009\n",
        "2011-02-01     8.840677\n",
        "2011-03-01   -10.290656\n",
        "2011-04-01    -2.023689\n",
        "2011-05-01    -4.391542\n",
        "2011-06-01    17.954618\n",
        "2011-07-01   -18.701665\n",
        "2011-08-01   -32.487652\n",
        "2011-09-01    -1.502339\n",
        "2011-10-01     5.131297\n",
        "2011-11-01     8.427753\n",
        "2011-12-01    -0.944464\n",
        "dtype: float64"
       ]
      }
     ],
     "prompt_number": 175
    },
    {
     "cell_type": "code",
     "collapsed": false,
     "input": [
      "date_range"
     ],
     "language": "python",
     "metadata": {},
     "outputs": []
    },
    {
     "cell_type": "code",
     "collapsed": false,
     "input": [],
     "language": "python",
     "metadata": {},
     "outputs": []
    },
    {
     "cell_type": "code",
     "collapsed": false,
     "input": [],
     "language": "python",
     "metadata": {},
     "outputs": []
    },
    {
     "cell_type": "code",
     "collapsed": false,
     "input": [],
     "language": "python",
     "metadata": {},
     "outputs": []
    },
    {
     "cell_type": "code",
     "collapsed": false,
     "input": [],
     "language": "python",
     "metadata": {},
     "outputs": []
    },
    {
     "cell_type": "code",
     "collapsed": false,
     "input": [
      "class Process(WPSProcess):\n",
      "\n",
      "\n",
      "    def __init__(self):\n",
      "\n",
      "        ##\n",
      "        # Process initialization\n",
      "        WPSProcess.__init__(self,\n",
      "            identifier = \"WPS_PRECIP_DI_CAL_TS\",\n",
      "            title=\"Compute PAP TIMESERIES\",\n",
      "            abstract=\"\"\"Module to compute PAP TimeSeries based on GPCP data\"\"\",\n",
      "            version = \"1.0\",\n",
      "            storeSupported = True,\n",
      "            statusSupported = True)\n",
      "\n",
      "        ##\n",
      "        # Adding process inputs\n",
      "        self.lonIn = self.addLiteralInput(identifier=\"lon\",\n",
      "                    title=\"Longitude\")\n",
      "\n",
      "        self.latIn = self.addLiteralInput(identifier=\"lat\",\n",
      "                    title=\"Latitude\")        \n",
      "\n",
      "        self.fromDateIn = self.addLiteralInput(identifier=\"from_date\",\n",
      "                    title = \"The start date to be calcualted\",\n",
      "                                          type=type(''))\n",
      "\n",
      "        self.toDateIn = self.addLiteralInput(identifier=\"to_date\",\n",
      "                    title = \"The final date to be calcualted\",\n",
      "                                          type=type(''))        \n",
      "\n",
      "        ##\n",
      "        # Adding process outputs\n",
      "\n",
      "        self.papOut = self.addComplexOutput(identifier  = \"pap_ts\", \n",
      "                                        title       = \"Pap Timeseries\",\n",
      "                                        formats     = [{'mimeType':'text/xml'}]) #xml/application ||application/json   \n",
      "\n",
      "\n",
      "    ##\n",
      "    # Execution part of the process\n",
      "    def execute(self):\n",
      "        # Load the data\n",
      "        from_date = str(self.fromDateIn.getValue())\n",
      "        to_date = str(self.toDateIn.getValue())\n",
      "        lon_in = float(self.lonIn.getValue())\n",
      "        lat_in = float(self.latIn.getValue())\n",
      "        \n",
      "        # Do the Work\n",
      "        pap_out = PAP_DI_CAL_TIMESERIES(from_date=from_date, to_date=to_date, lon_in=lon_in, lat_in=lat_in)\n",
      "        \n",
      "        # Save to out\n",
      "        self.papOut.setValue( pap_out )\n",
      "        return"
     ],
     "language": "python",
     "metadata": {},
     "outputs": []
    },
    {
     "cell_type": "code",
     "collapsed": false,
     "input": [
      "pap_out = PAP_DI_CAL_TIMESERIES(from_date='2010-06-06', to_date='2014-06-06', lon_in = 113.9797, lat_in = 42.7202)"
     ],
     "language": "python",
     "metadata": {},
     "outputs": [],
     "prompt_number": 155
    },
    {
     "cell_type": "code",
     "collapsed": false,
     "input": [
      "\n",
      "\n",
      "# ouput\n",
      "self.resu1.setValue(pap_out)\n",
      "return"
     ],
     "language": "python",
     "metadata": {},
     "outputs": [
      {
       "ename": "NameError",
       "evalue": "name 'self' is not defined",
       "output_type": "pyerr",
       "traceback": [
        "\u001b[1;31m---------------------------------------------------------------------------\u001b[0m\n\u001b[1;31mNameError\u001b[0m                                 Traceback (most recent call last)",
        "\u001b[1;32m<ipython-input-149-a4056086fb9b>\u001b[0m in \u001b[0;36m<module>\u001b[1;34m()\u001b[0m\n\u001b[0;32m     16\u001b[0m \u001b[1;33m\u001b[0m\u001b[0m\n\u001b[0;32m     17\u001b[0m \u001b[1;31m# ouput\u001b[0m\u001b[1;33m\u001b[0m\u001b[1;33m\u001b[0m\u001b[0m\n\u001b[1;32m---> 18\u001b[1;33m \u001b[0mself\u001b[0m\u001b[1;33m.\u001b[0m\u001b[0mresu1\u001b[0m\u001b[1;33m.\u001b[0m\u001b[0msetValue\u001b[0m\u001b[1;33m(\u001b[0m\u001b[0moutput1\u001b[0m\u001b[1;33m)\u001b[0m\u001b[1;33m\u001b[0m\u001b[0m\n\u001b[0m\u001b[0;32m     19\u001b[0m \u001b[1;32mreturn\u001b[0m\u001b[1;33m\u001b[0m\u001b[0m\n",
        "\u001b[1;31mNameError\u001b[0m: name 'self' is not defined"
       ]
      }
     ],
     "prompt_number": 149
    },
    {
     "cell_type": "code",
     "collapsed": false,
     "input": [
      "pap_out.getvalue()"
     ],
     "language": "python",
     "metadata": {},
     "outputs": [
      {
       "metadata": {},
       "output_type": "pyout",
       "prompt_number": 158,
       "text": [
        "'[[1275350400000, -16.829538466233103], [1277942400000, -45.9286298750332], [1280620800000, -33.95487971678553], [1283299200000, 112.85423437169177], [1285891200000, 5.55842558387806], [1288569600000, 6.407816443633174], [1291161600000, -0.16164553647760935], [1293840000000, 0.16337547852290377], [1296518400000, 19.165626940549167], [1298937600000, -14.380427529862185], [1301616000000, -0.1913880316077133], [1304208000000, 2.0540769813907724], [1306886400000, -3.7647276903750075], [1309478400000, -24.487195023587436], [1312156800000, -42.01354164117988], [1314835200000, 2.6451018810094333], [1317427200000, -6.157940227816091], [1320105600000, 11.329109286611823], [1322697600000, -1.344921192859628], [1325376000000, -0.3687911141676967], [1328054400000, -6.8649351176343725], [1330560000000, 23.836672205214494], [1333238400000, -10.936405995835731], [1335830400000, 24.725817129432315], [1338508800000, 53.70111839186038], [1341100800000, 53.47840850222515], [1343779200000, -19.407257116552014], [1346457600000, 39.88690418177602], [1349049600000, 13.57267351211567], [1351728000000, 47.7447233452838], [1354320000000, 8.346621937687736], [1356998400000, 0.6078525112193598], [1359676800000, -4.075016335097063], [1362096000000, -4.797972757631674], [1364774400000, -4.000439912369245], [1367366400000, -24.836681513881985], [1370044800000, 69.42046594593967], [1372636800000, -2.726043811340082], [1375315200000, 5.674471227814233], [1377993600000, 18.519302443598285], [1380585600000, -10.555116617216814], [1383264000000, -4.433072048826357], [1385856000000, -3.6383602501171604], [1388534400000, -1.3614693497403625], [1391212800000, 6.686226721991441], [1393632000000, -4.824555421955164], [1396310400000, 6.292681813261877], [1398902400000, 21.090039381891348], [1401580800000, 12.51253484050878]]'"
       ]
      }
     ],
     "prompt_number": 158
    },
    {
     "cell_type": "code",
     "collapsed": false,
     "input": [
      "months_index = np.ones(shape=(12),dtype=bool)"
     ],
     "language": "python",
     "metadata": {},
     "outputs": [],
     "prompt_number": 160
    },
    {
     "cell_type": "code",
     "collapsed": false,
     "input": [
      "months_index"
     ],
     "language": "python",
     "metadata": {},
     "outputs": [
      {
       "metadata": {},
       "output_type": "pyout",
       "prompt_number": 161,
       "text": [
        "array([ True,  True,  True,  True,  True,  True,  True,  True,  True,\n",
        "        True,  True,  True], dtype=bool)"
       ]
      }
     ],
     "prompt_number": 161
    },
    {
     "cell_type": "code",
     "collapsed": false,
     "input": [],
     "language": "python",
     "metadata": {},
     "outputs": []
    }
   ],
   "metadata": {}
  }
 ]
}