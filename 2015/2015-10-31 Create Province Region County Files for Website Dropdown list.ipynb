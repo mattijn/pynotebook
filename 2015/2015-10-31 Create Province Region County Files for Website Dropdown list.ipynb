{
 "metadata": {
  "name": "",
  "signature": "sha256:88429b61c479b3eaf8f951c47eee1458f529fa808fcc12565a506eec00569c21"
 },
 "nbformat": 3,
 "nbformat_minor": 0,
 "worksheets": [
  {
   "cells": [
    {
     "cell_type": "code",
     "collapsed": false,
     "input": [
      "import pandas as pd"
     ],
     "language": "python",
     "metadata": {},
     "outputs": []
    },
    {
     "cell_type": "code",
     "collapsed": false,
     "input": [
      "df = pd.read_csv(r'D:\\Data\\ChinaShapefile\\CHN_adm//CHINA_PROVINCE_REGION_COUNTY.csv')\n",
      "df.sort('NAME_1', inplace=True)\n",
      "df.set_index(['NAME_1','NAME_2','NAME_3'], inplace=True)"
     ],
     "language": "python",
     "metadata": {},
     "outputs": []
    },
    {
     "cell_type": "code",
     "collapsed": false,
     "input": [
      "for index, row in df.iterrows():\n",
      "    print row['NAME_1']\n",
      "    "
     ],
     "language": "python",
     "metadata": {},
     "outputs": []
    },
    {
     "cell_type": "code",
     "collapsed": false,
     "input": [
      "for province,new_df in df.groupby(level=2):\n",
      "    print new_df"
     ],
     "language": "python",
     "metadata": {},
     "outputs": []
    },
    {
     "cell_type": "code",
     "collapsed": false,
     "input": [
      "for idate in df.index.get_level_values('NAME_1'):\n",
      "    print df.ix[idate], idate"
     ],
     "language": "python",
     "metadata": {},
     "outputs": []
    },
    {
     "cell_type": "code",
     "collapsed": false,
     "input": [],
     "language": "python",
     "metadata": {},
     "outputs": []
    }
   ],
   "metadata": {}
  }
 ]
}