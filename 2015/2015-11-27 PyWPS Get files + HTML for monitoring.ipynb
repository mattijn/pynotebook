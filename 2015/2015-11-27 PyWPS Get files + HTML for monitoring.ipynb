{
 "metadata": {
  "name": "",
  "signature": "sha256:3c4da477400e7c2c4bacee27b60eefd0c908b345b5ad1e63917c3d210d28b69c"
 },
 "nbformat": 3,
 "nbformat_minor": 0,
 "worksheets": [
  {
   "cells": [
    {
     "cell_type": "code",
     "collapsed": false,
     "input": [
      "from pywps.Process import WPSProcess \n",
      "from os import walk\n",
      "import logging\n",
      "from cStringIO import StringIO\n",
      "from datetime import datetime, timedelta"
     ],
     "language": "python",
     "metadata": {},
     "outputs": [],
     "prompt_number": 8
    },
    {
     "cell_type": "code",
     "collapsed": false,
     "input": [
      "def listall(RootFolder, varname='',extension='.png'):\n",
      "    lists = [os.path.join(root, name)\n",
      "             for root, dirs, files in os.walk(RootFolder)\n",
      "             for name in files\n",
      "             if varname in name\n",
      "             if name.endswith(extension)]\n",
      "    return lists"
     ],
     "language": "python",
     "metadata": {},
     "outputs": [],
     "prompt_number": 9
    },
    {
     "cell_type": "code",
     "collapsed": false,
     "input": [
      "def getHTML():\n",
      "    listHTML = []\n",
      "    path_to_maps = r'D:\\MicrosoftEdgeDownloads\\drought_monitoring\\drought_monitoring\\img_small'\n",
      "    _, _, filenames = next(walk(path_to_maps), (None, None, []))\n",
      "    #filenames = listall(path_to_maps)\n",
      "    for file_path in filenames:\n",
      "        #print file_path\n",
      "        year = int(file_path[-8:-4])\n",
      "        days = int(file_path[-11:-8])        \n",
      "        file_date = datetime(year, 1, 1) + timedelta(days - 1)\n",
      "        file_date = str(file_date.year)+'-'+str(file_date.month)+'-'+str(file_date.day)\n",
      "        listHTML.append('<div class=\"rsContent\"><a class=\"rsImg\" href=\"img_small/'+file_path+\n",
      "                        '\"></a><i class=\"rsTmb\">'+file_date+'</i></div>')\n",
      "    strHTML = ''.join(listHTML)\n",
      "    output = StringIO()\n",
      "    output.write(strHTML)\n",
      "    id_ = len(filenames) - 1\n",
      "    return output, id_"
     ],
     "language": "python",
     "metadata": {},
     "outputs": [],
     "prompt_number": 6
    },
    {
     "cell_type": "code",
     "collapsed": false,
     "input": [
      "class Process(WPSProcess):\n",
      "\n",
      "\n",
      "    def __init__(self):\n",
      "\n",
      "        ##\n",
      "        # Process initialization\n",
      "        WPSProcess.__init__(self,\n",
      "            identifier      = \"WPS_GETHTML\",\n",
      "            title           = \"Get HTML to be ingested into the drought monitoring viewer\",\n",
      "            abstract        = \"Module to get list of all images as HTML\",\n",
      "            version         = \"1.0\",\n",
      "            storeSupported  = True,\n",
      "            statusSupported = True)\n",
      "\n",
      "        ##\n",
      "#        # Adding process inputs\n",
      "#        self.process_input = self.addLiteralInput(identifier=\"input\",\n",
      "#                                                  title=\"Chinese Province\",\n",
      "#                                                  type=type(''))\n",
      "        ##\n",
      "        # Adding process outputs\n",
      "\n",
      "        self.flsHTML = self.addComplexOutput(identifier  = \"filesHTML\", \n",
      "                                             title       = \"HTML to be loaded into the viewer\",\n",
      "                                             formats     = [{'mimeType':'text/xml'}]) \n",
      "        self.slideID = self.addLiteralOutput(identifier  = \"slideID\", \n",
      "                                             title       = \"slideID of the most recent observation\") \n",
      "        \n",
      "    ##\n",
      "    # Execution part of the process\n",
      "    def execute(self):\n",
      "        # Load the data\n",
      "        #process_input = str(self.process_input.getValue())\n",
      "        \n",
      "        # Do the Work\n",
      "        filesHTML, slideID = getHTML()\n",
      "        logging.info('ID number most recent observation: '+slideID)\n",
      "\n",
      "        # Save to out        \n",
      "        self.flsHTML.setValue( filesHTML )\n",
      "        self.slideID.setValue( slideID )        \n",
      "\n",
      "        return"
     ],
     "language": "python",
     "metadata": {},
     "outputs": [],
     "prompt_number": 4
    },
    {
     "cell_type": "code",
     "collapsed": false,
     "input": [
      "a,b = getHTML()"
     ],
     "language": "python",
     "metadata": {},
     "outputs": [],
     "prompt_number": 11
    },
    {
     "cell_type": "code",
     "collapsed": false,
     "input": [
      "a.getvalue()"
     ],
     "language": "python",
     "metadata": {},
     "outputs": [
      {
       "metadata": {},
       "output_type": "pyout",
       "prompt_number": 12,
       "text": [
        "'<div class=\"rsContent\"><a class=\"rsImg\" href=\"img_small/DroughtAlert_1612014.png\"></a><i class=\"rsTmb\">2014-6-10</i></div><div class=\"rsContent\"><a class=\"rsImg\" href=\"img_small/DroughtAlert_1692014.png\"></a><i class=\"rsTmb\">2014-6-18</i></div><div class=\"rsContent\"><a class=\"rsImg\" href=\"img_small/DroughtAlert_1772014.png\"></a><i class=\"rsTmb\">2014-6-26</i></div><div class=\"rsContent\"><a class=\"rsImg\" href=\"img_small/DroughtAlert_1852014.png\"></a><i class=\"rsTmb\">2014-7-4</i></div><div class=\"rsContent\"><a class=\"rsImg\" href=\"img_small/DroughtAlert_1932014.png\"></a><i class=\"rsTmb\">2014-7-12</i></div><div class=\"rsContent\"><a class=\"rsImg\" href=\"img_small/DroughtAlert_2012014.png\"></a><i class=\"rsTmb\">2014-7-20</i></div><div class=\"rsContent\"><a class=\"rsImg\" href=\"img_small/DroughtAlert_2092014.png\"></a><i class=\"rsTmb\">2014-7-28</i></div><div class=\"rsContent\"><a class=\"rsImg\" href=\"img_small/DroughtAlert_2172014.png\"></a><i class=\"rsTmb\">2014-8-5</i></div><div class=\"rsContent\"><a class=\"rsImg\" href=\"img_small/DroughtAlert_2252014.png\"></a><i class=\"rsTmb\">2014-8-13</i></div><div class=\"rsContent\"><a class=\"rsImg\" href=\"img_small/DroughtAlert_2332014.png\"></a><i class=\"rsTmb\">2014-8-21</i></div><div class=\"rsContent\"><a class=\"rsImg\" href=\"img_small/DroughtAlert_2412014.png\"></a><i class=\"rsTmb\">2014-8-29</i></div><div class=\"rsContent\"><a class=\"rsImg\" href=\"img_small/DroughtAlert_2492014.png\"></a><i class=\"rsTmb\">2014-9-6</i></div>'"
       ]
      }
     ],
     "prompt_number": 12
    },
    {
     "cell_type": "code",
     "collapsed": false,
     "input": [
      "from cgi import escape"
     ],
     "language": "python",
     "metadata": {},
     "outputs": [],
     "prompt_number": 13
    },
    {
     "cell_type": "code",
     "collapsed": false,
     "input": [
      "print escape(a.getvalue())"
     ],
     "language": "python",
     "metadata": {},
     "outputs": [
      {
       "output_type": "stream",
       "stream": "stdout",
       "text": [
        "&lt;div class=\"rsContent\"&gt;&lt;a class=\"rsImg\" href=\"img_small/DroughtAlert_1612014.png\"&gt;&lt;/a&gt;&lt;i class=\"rsTmb\"&gt;2014-6-10&lt;/i&gt;&lt;/div&gt;&lt;div class=\"rsContent\"&gt;&lt;a class=\"rsImg\" href=\"img_small/DroughtAlert_1692014.png\"&gt;&lt;/a&gt;&lt;i class=\"rsTmb\"&gt;2014-6-18&lt;/i&gt;&lt;/div&gt;&lt;div class=\"rsContent\"&gt;&lt;a class=\"rsImg\" href=\"img_small/DroughtAlert_1772014.png\"&gt;&lt;/a&gt;&lt;i class=\"rsTmb\"&gt;2014-6-26&lt;/i&gt;&lt;/div&gt;&lt;div class=\"rsContent\"&gt;&lt;a class=\"rsImg\" href=\"img_small/DroughtAlert_1852014.png\"&gt;&lt;/a&gt;&lt;i class=\"rsTmb\"&gt;2014-7-4&lt;/i&gt;&lt;/div&gt;&lt;div class=\"rsContent\"&gt;&lt;a class=\"rsImg\" href=\"img_small/DroughtAlert_1932014.png\"&gt;&lt;/a&gt;&lt;i class=\"rsTmb\"&gt;2014-7-12&lt;/i&gt;&lt;/div&gt;&lt;div class=\"rsContent\"&gt;&lt;a class=\"rsImg\" href=\"img_small/DroughtAlert_2012014.png\"&gt;&lt;/a&gt;&lt;i class=\"rsTmb\"&gt;2014-7-20&lt;/i&gt;&lt;/div&gt;&lt;div class=\"rsContent\"&gt;&lt;a class=\"rsImg\" href=\"img_small/DroughtAlert_2092014.png\"&gt;&lt;/a&gt;&lt;i class=\"rsTmb\"&gt;2014-7-28&lt;/i&gt;&lt;/div&gt;&lt;div class=\"rsContent\"&gt;&lt;a class=\"rsImg\" href=\"img_small/DroughtAlert_2172014.png\"&gt;&lt;/a&gt;&lt;i class=\"rsTmb\"&gt;2014-8-5&lt;/i&gt;&lt;/div&gt;&lt;div class=\"rsContent\"&gt;&lt;a class=\"rsImg\" href=\"img_small/DroughtAlert_2252014.png\"&gt;&lt;/a&gt;&lt;i class=\"rsTmb\"&gt;2014-8-13&lt;/i&gt;&lt;/div&gt;&lt;div class=\"rsContent\"&gt;&lt;a class=\"rsImg\" href=\"img_small/DroughtAlert_2332014.png\"&gt;&lt;/a&gt;&lt;i class=\"rsTmb\"&gt;2014-8-21&lt;/i&gt;&lt;/div&gt;&lt;div class=\"rsContent\"&gt;&lt;a class=\"rsImg\" href=\"img_small/DroughtAlert_2412014.png\"&gt;&lt;/a&gt;&lt;i class=\"rsTmb\"&gt;2014-8-29&lt;/i&gt;&lt;/div&gt;&lt;div class=\"rsContent\"&gt;&lt;a class=\"rsImg\" href=\"img_small/DroughtAlert_2492014.png\"&gt;&lt;/a&gt;&lt;i class=\"rsTmb\"&gt;2014-9-6&lt;/i&gt;&lt;/div&gt;\n"
       ]
      }
     ],
     "prompt_number": 15
    },
    {
     "cell_type": "code",
     "collapsed": false,
     "input": [],
     "language": "python",
     "metadata": {},
     "outputs": []
    }
   ],
   "metadata": {}
  }
 ]
}