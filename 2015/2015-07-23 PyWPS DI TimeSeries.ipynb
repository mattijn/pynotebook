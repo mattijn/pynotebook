{
 "metadata": {
  "name": "",
  "signature": "sha256:167ab17a8ea7c993736c21fd14d79b8f51518a8322328ba580abece5e4901ddc"
 },
 "nbformat": 3,
 "nbformat_minor": 0,
 "worksheets": [
  {
   "cells": [
    {
     "cell_type": "code",
     "collapsed": false,
     "input": [
      "from pywps.Process import WPSProcess \n",
      "import logging\n",
      "import os\n",
      "import sys\n",
      "import urllib2\n",
      "#from osgeo import gdal\n",
      "#import numpy\n",
      "import numpy as np\n",
      "#import numpy.ma as ma\n",
      "from lxml import etree\n",
      "import datetime\n",
      "#import matplotlib\n",
      "#import matplotlib.colors as mcolors\n",
      "#import matplotlib.pyplot as plt\n",
      "import pandas as pd\n",
      "from cStringIO import StringIO\n",
      "#import cStringIO\n",
      "import jdcal\n",
      "import json\n",
      "#%matplotlib inline\n",
      "#plt.style.use('ggplot')"
     ],
     "language": "python",
     "metadata": {},
     "outputs": [],
     "prompt_number": 58
    },
    {
     "cell_type": "code",
     "collapsed": false,
     "input": [
      "# Computing diagonal for each row of a 2d array. See: http://stackoverflow.com/q/27214027/2459096\n",
      "def makediag3d(M):\n",
      "    b = np.zeros((M.shape[0], M.shape[1] * M.shape[1]))\n",
      "    b[:, ::M.shape[1] + 1] = M\n",
      "    \n",
      "    logging.info('function `makediag3d` complete')    \n",
      "    return b.reshape(M.shape[0], M.shape[1], M.shape[1]) \n",
      "\n",
      "def get_starter_matrix(base_period_len, sample_count, frequencies_considered_count):\n",
      "    nr = min(2 * frequencies_considered_count + 1,\n",
      "                  sample_count)  # number of 2*+1 frequencies, or number of input images\n",
      "    mat = np.zeros(shape=(nr, sample_count))\n",
      "    mat[0, :] = 1\n",
      "    ang = 2 * np.pi * np.arange(base_period_len) / base_period_len\n",
      "    cs = np.cos(ang)\n",
      "    sn = np.sin(ang)\n",
      "    # create some standard sinus and cosinus functions and put in matrix\n",
      "    i = np.arange(1, frequencies_considered_count + 1)\n",
      "    ts = np.arange(sample_count)\n",
      "    for column in xrange(sample_count):\n",
      "        index = np.mod(i * ts[column], base_period_len)\n",
      "        # index looks like 000, 123, 246, etc, until it wraps around (for len(i)==3)\n",
      "        mat[2 * i - 1, column] = cs.take(index)\n",
      "        mat[2 * i, column] = sn.take(index)\n",
      "\n",
      "    logging.info('function `get_starter_matrix` complete')\n",
      "    return mat\n",
      "\n",
      "def HANTS(sample_count, inputs,\n",
      "          frequencies_considered_count=3,\n",
      "          outliers_to_reject='Lo',\n",
      "          low=0., high=255,\n",
      "          fit_error_tolerance=5,\n",
      "          delta=0.1):\n",
      "    \"\"\"\n",
      "    Function to apply the Harmonic analysis of time series applied to arrays\n",
      "\n",
      "    sample_count    = nr. of images (total number of actual samples of the time series)\n",
      "    base_period_len    = length of the base period, measured in virtual samples\n",
      "            (days, dekads, months, etc.)\n",
      "    frequencies_considered_count    = number of frequencies to be considered above the zero frequency\n",
      "    inputs     = array of input sample values (e.g. NDVI values)\n",
      "    ts    = array of size sample_count of time sample indicators\n",
      "            (indicates virtual sample number relative to the base period);\n",
      "            numbers in array ts maybe greater than base_period_len\n",
      "            If no aux file is used (no time samples), we assume ts(i)= i,\n",
      "            where i=1, ..., sample_count\n",
      "    outliers_to_reject  = 2-character string indicating rejection of high or low outliers\n",
      "            select from 'Hi', 'Lo' or 'None'\n",
      "    low   = valid range minimum\n",
      "    high  = valid range maximum (values outside the valid range are rejeced\n",
      "            right away)\n",
      "    fit_error_tolerance   = fit error tolerance (points deviating more than fit_error_tolerance from curve\n",
      "            fit are rejected)\n",
      "    dod   = degree of overdeterminedness (iteration stops if number of\n",
      "            points reaches the minimum required for curve fitting, plus\n",
      "            dod). This is a safety measure\n",
      "    delta = small positive number (e.g. 0.1) to suppress high amplitudes\n",
      "    \"\"\"\n",
      "\n",
      "    # define some parameters\n",
      "    base_period_len = sample_count  #\n",
      "\n",
      "    # check which setting to set for outlier filtering\n",
      "    if outliers_to_reject == 'Hi':\n",
      "        sHiLo = -1\n",
      "    elif outliers_to_reject == 'Lo':\n",
      "        sHiLo = 1\n",
      "    else:\n",
      "        sHiLo = 0\n",
      "\n",
      "    nr = min(2 * frequencies_considered_count + 1,\n",
      "             sample_count)  # number of 2*+1 frequencies, or number of input images\n",
      "\n",
      "    # create empty arrays to fill\n",
      "    outputs = np.zeros(shape=(inputs.shape[0], sample_count))\n",
      "\n",
      "    mat = get_starter_matrix(base_period_len, sample_count, frequencies_considered_count)\n",
      "\n",
      "    # repeat the mat array over the number of arrays in inputs\n",
      "    # and create arrays with ones with shape inputs where high and low values are set to 0\n",
      "    mat = np.tile(mat[None].T, (1, inputs.shape[0])).T\n",
      "    p = np.ones_like(inputs)\n",
      "    p[(low >= inputs) | (inputs > high)] = 0\n",
      "    nout = np.sum(p == 0, axis=-1)  # count the outliers for each timeseries\n",
      "\n",
      "    # prepare for while loop\n",
      "    ready = np.zeros((inputs.shape[0]), dtype=bool)  # all timeseries set to false\n",
      "\n",
      "    dod = 1  # (2*frequencies_considered_count-1)  # Um, no it isn't :/\n",
      "    noutmax = sample_count - nr - dod\n",
      "    # prepare to add delta to suppress high amplitudes but not for [0,0]\n",
      "    Adelta = np.tile(np.diag(np.ones(nr))[None].T, (1, inputs.shape[0])).T * delta\n",
      "    Adelta[:, 0, 0] -= delta\n",
      "    \n",
      "    for _ in xrange(sample_count):\n",
      "        if ready.all():\n",
      "            break        \n",
      "        \n",
      "        # multiply outliers with timeseries\n",
      "        za = np.einsum('ijk,ik->ij', mat, p * inputs)\n",
      "        #print za\n",
      "\n",
      "        # multiply mat with the multiplication of multiply diagonal of p with transpose of mat\n",
      "        diag = makediag3d(p)\n",
      "        #print diag\n",
      "        \n",
      "        A = np.einsum('ajk,aki->aji', mat, np.einsum('aij,jka->ajk', diag, mat.T))\n",
      "        # add delta to suppress high amplitudes but not for [0,0]\n",
      "        A += Adelta\n",
      "        #A[:, 0, 0] = A[:, 0, 0] - delta\n",
      "        #print A\n",
      "\n",
      "        # solve linear matrix equation and define reconstructed timeseries\n",
      "        zr = np.linalg.solve(A, za)\n",
      "        #print zr\n",
      "        \n",
      "        outputs = np.einsum('ijk,kj->ki', mat.T, zr)\n",
      "        #print outputs\n",
      "\n",
      "        # calculate error and sort err by index\n",
      "        err = p * (sHiLo * (outputs - inputs))\n",
      "        rankVec = np.argsort(err, axis=1, )\n",
      "\n",
      "        # select maximum error and compute new ready status\n",
      "        maxerr = np.max(err, axis=-1)\n",
      "        #maxerr = np.diag(err.take(rankVec[:, sample_count - 1], axis=-1))\n",
      "        ready = (maxerr <= fit_error_tolerance) | (nout == noutmax)        \n",
      "\n",
      "        # if ready is still false\n",
      "        if not ready.all():\n",
      "            j = rankVec.take(sample_count - 1, axis=-1)\n",
      "\n",
      "            p.T[j.T, np.indices(j.shape)] = p.T[j.T, np.indices(j.shape)] * ready.astype(\n",
      "                int)  #*check\n",
      "            nout += 1\n",
      "\n",
      "    logging.info('function `HANTS` complete')\n",
      "    return outputs"
     ],
     "language": "python",
     "metadata": {},
     "outputs": [],
     "prompt_number": 59
    },
    {
     "cell_type": "code",
     "collapsed": false,
     "input": [
      "def convert_ansi_date(date, offset=0.5):\n",
      "    logging.info('function `convert_ansi_date` complete')\n",
      "    return jdcal.jd2gcal(2305812.5, date + offset) # 0.5 offset is to adjust from night to noon\n",
      "\n",
      "def unix_time(dt):\n",
      "    epoch = datetime.datetime.utcfromtimestamp(0)\n",
      "    delta = dt - epoch\n",
      "    logging.info('function `unix_time` complete')\n",
      "    return delta.total_seconds()    \n",
      "\n",
      "def unix_time_millis(dt):\n",
      "    logging.info('function `unix_time_millis` complete')\n",
      "    return int(unix_time(dt) * 1000)\n",
      "\n",
      "def region(pixel):\n",
      "    \"\"\"\n",
      "    Extract pixel or regio:\n",
      "    region1pix = single lat/lon\n",
      "    region4pix = block of 4 pixels [2x2]\n",
      "    region9pix = block of 9 pixels [3x3]\n",
      "    \"\"\"\n",
      "    if pixel == 0:\n",
      "        regionpix = [0,0]\n",
      "    elif pixel == 4:\n",
      "        regionpix = [-0.025,0.025]\n",
      "    elif pixel == 9:\n",
      "        regionpix = [-0.075,0.075]\n",
      "    else:\n",
      "        return\n",
      "    return regionpix"
     ],
     "language": "python",
     "metadata": {},
     "outputs": [],
     "prompt_number": 60
    },
    {
     "cell_type": "code",
     "collapsed": false,
     "input": [
      "def COMPUTE_NVAI(lon_center=5.6943, lat_center=53.1533, pix_offset=0, \n",
      "                 from_date='2010-01-01', to_date='2012-01-01', pyhants=0, \n",
      "                 ann_freq=6, outliers_rj='None'):\n",
      "    \"\"\"\n",
      "    pyhants: 0 means will NOT use, 1 will use\n",
      "    \"\"\"\n",
      "    \n",
      "    regionpix = region(pix_offset)\n",
      "    \n",
      "    Long1 = str(lon_center + regionpix[0])\n",
      "    Long2 = str(lon_center + regionpix[1])\n",
      "    Lat1 = str(lat_center + regionpix[0])\n",
      "    Lat2 = str(lat_center + regionpix[1])\n",
      "    \n",
      "    full_url = \"http://159.226.117.95:8080/rasdaman/ows/wcs2?service=WCS&version=2.0.1&request=GetCoverage&coverageId=modis_13c1_cov&subset=Long(\"+Long1+\",\"+Long2+\")&subset=Lat(\"+Lat1+\",\"+Lat2+\")\"\n",
      "    f = urllib2.urlopen(full_url)     \n",
      "    root = etree.fromstring(f.read())    \n",
      "    \n",
      "    # read grid envelope of domain set\n",
      "    xml_low_env = StringIO(root[1][0][0][0][0].text)\n",
      "    xml_high_env = StringIO(root[1][0][0][0][1].text)\n",
      "\n",
      "    # load grid envelope as numpy array\n",
      "    low_env = np.loadtxt(xml_low_env, dtype='int', delimiter=' ')\n",
      "    high_env = np.loadtxt(xml_high_env, dtype='int', delimiter=' ')\n",
      "    ts_shape = high_env - low_env + 1\n",
      "\n",
      "    easting = ts_shape[0]\n",
      "    northing = ts_shape[1]\n",
      "    time = ts_shape[2]    \n",
      "\n",
      "    ## extract the dates\n",
      "    #sd = ansi_date_to_greg_date(low_env[2]+140734)\n",
      "    #ed = ansi_date_to_greg_date(high_env[2]+140734)\n",
      "\n",
      "    # extract the values we need from the parsed XML\n",
      "    sta_date_ansi = np.loadtxt(StringIO(root[0][0][0].text))[2] # 150116\n",
      "    end_date_ansi = np.loadtxt(StringIO(root[0][0][1].text))[2] # 150852\n",
      "    sta_date_rasd = np.loadtxt(StringIO(root[1][0][0][0][0].text))[2] # 9382\n",
      "    end_date_rasd = np.loadtxt(StringIO(root[1][0][0][0][1].text))[2] # 9427\n",
      "    timestep_date = np.loadtxt(StringIO(root[1][0][5].text))[2] # 16\n",
      "\n",
      "    # compute the start and end-date\n",
      "    dif_date_anra = sta_date_ansi - sta_date_rasd\n",
      "    dif_date_rasd = end_date_rasd - sta_date_rasd + 1\n",
      "    end_date_anra = dif_date_rasd * timestep_date + sta_date_rasd + dif_date_anra\n",
      "\n",
      "    sd = convert_ansi_date(sta_date_ansi) # (2012, 1, 2, 0.5)\n",
      "    ed = convert_ansi_date(end_date_anra) # (2014, 1, 7, 0.5)\n",
      "\n",
      "    # convert dates to pandas date_range\n",
      "    str_date = str(sd[1])+'.'+str(sd[2])+'.'+str(sd[0])+'.'+str(int(np.round(sd[3]*24)))+':00'\n",
      "    end_date = str(ed[1])+'.'+str(ed[2])+'.'+str(ed[0])+'.'+str(int(np.round(ed[3]*24)))+':00'\n",
      "    freq_date = str(int(timestep_date))+'D'\n",
      "    dates = pd.date_range(str_date,end_date, freq=freq_date)\n",
      "    dates = dates[:-1]\n",
      "\n",
      "    logging.info('dates converted from ANSI to ISO 8601')    \n",
      "    \n",
      "    # read data block of range set\n",
      "    xml_ts = StringIO(root[2][0][1].text)\n",
      "\n",
      "    # load data block as numpy array\n",
      "    ts = np.loadtxt(xml_ts, dtype='float', delimiter=',')\n",
      "    ts_reshape = ts.reshape((easting*northing,time)) #Easting = ts_shape[0], Northing = ts_shape[1], time = ts_shape[2]\n",
      "    \n",
      "    # compute mean so regional statistics can be computed as well\n",
      "    ts_mean = ts_reshape.mean(axis=0)\n",
      "    ndvi = pd.Series(ts_mean.flatten()/10000.,dates, name='nvdi')\n",
      "\n",
      "    # Interpolate NDVI 16 day interval to 1 day interval using linear interpolation\n",
      "    x = pd.date_range(str_date,end_date,freq='D')\n",
      "    ndvi_int = ndvi.reindex(x)\n",
      "    #ndvi_int = ndvi_int.fillna(method='pad')\n",
      "    ndvi_int = ndvi_int.interpolate(method='linear')\n",
      "    ndvi_int.name = 'ndvi_int'\n",
      "    \n",
      "    \n",
      "    if pyhants == 0:\n",
      "\n",
      "        #Compute NVAI using 16 day interval NDVI data        \n",
      "        #nvai = ndvi.groupby([ndvi.index.month]).apply(lambda g: (g - g.mean())/(g.max() - g.min()))\n",
      "        #nvai.name = 'nvai'\n",
      "        \n",
      "        # Compute NVAI using daily interpolated NDVI data\n",
      "        nvai = ndvi_int.groupby([ndvi_int.index.month,ndvi_int.index.day]).apply(lambda g: (g - g.mean())/(g.max() - g.min()))\n",
      "        nvai.name = 'nvai'  \n",
      "        nvai_sel = nvai.ix[from_date:to_date]        \n",
      "    \n",
      "    elif pyhants == 1:\n",
      "        # Compute PyHANTS first and then calculate mean\n",
      "        frequencies = len(ndvi_int) / 365 * ann_freq\n",
      "        outliers = outliers_rj\n",
      "        pyhants = HANTS(sample_count=time, inputs=ts_reshape/100, frequencies_considered_count=frequencies,  outliers_to_reject=outliers)\n",
      "        pyhants *= 100\n",
      "        pyhants_mean = pyhants.mean(axis=0)\n",
      "        ndvi_pyhants = pd.Series(pyhants_mean.flatten()/10000.,dates, name='ndvi_pyhants')        \n",
      "        \n",
      "        # interpolate reconstructed NDVI to daily values\n",
      "        x = pd.date_range(str_date,end_date,freq='D')\n",
      "        ndvi_pyhants_int = ndvi_pyhants.reindex(x)\n",
      "        ndvi_pyhants_int = ndvi_pyhants_int.interpolate(method='linear')\n",
      "        ndvi_pyhants_int.name = 'ndvi_pyhants_int'     \n",
      "        \n",
      "        # Compute NVAI using daily interpolated PyHANTS reconstructed NDVI data\n",
      "        nvai = ndvi_pyhants_int.groupby([ndvi_pyhants_int.index.month,ndvi_pyhants_int.index.day]).apply(lambda g: (g - g.mean())/(g.max() - g.min()))\n",
      "        nvai.name = 'nvai'\n",
      "        nvai_sel = nvai.ix[from_date:to_date]\n",
      "    \n",
      "    # data preparation for HighCharts: Output need to be in JSON format with time \n",
      "    # in Unix milliseconds\n",
      "    dthandler = lambda obj: (\n",
      "    unix_time_millis(obj)\n",
      "    if isinstance(obj, datetime.datetime)\n",
      "    or isinstance(obj, datetime.date)\n",
      "    else None)\n",
      "\n",
      "    nvai_json = StringIO()\n",
      "\n",
      "    logging.info('ready to dump files to JSON')\n",
      "    # np.savetxt(output, pyhants, delimiter=',')\n",
      "    out1 = json.dump(nvai_sel.reset_index().as_matrix().tolist(), nvai_json, default=dthandler)\n",
      "\n",
      "    logging.info('dates converted from ISO 8601 to UNIX in ms')             \n",
      "    \n",
      "    return nvai_json, root,full_url,f #nvai_sel"
     ],
     "language": "python",
     "metadata": {},
     "outputs": [],
     "prompt_number": 61
    },
    {
     "cell_type": "code",
     "collapsed": false,
     "input": [
      "class Process(WPSProcess):\n",
      "\n",
      "\n",
      "    def __init__(self):\n",
      "\n",
      "        ##\n",
      "        # Process initialization\n",
      "        WPSProcess.__init__(self,\n",
      "            identifier = \"WPS_NVAI_DI_CAL_TS\",\n",
      "            title=\"Compute PAP TIMESERIES\",\n",
      "            abstract=\"\"\"Module to compute PAP TimeSeries based on GPCP data\"\"\",\n",
      "            version = \"1.0\",\n",
      "            storeSupported = True,\n",
      "            statusSupported = True)\n",
      "\n",
      "        ##\n",
      "        # Adding process inputs\n",
      "        self.lonIn = self.addLiteralInput(identifier=\"lon_center\",\n",
      "                    title=\"Longitude\",\n",
      "                    type=type(''))\n",
      "\n",
      "        self.latIn = self.addLiteralInput(identifier=\"lat_center\",\n",
      "                    title=\"Latitude\",\n",
      "                    type=type(''))\n",
      "\n",
      "        self.fromDateIn = self.addLiteralInput(identifier=\"from_date\",\n",
      "                    title = \"The start date to be calcualted\",\n",
      "                                          type=type(''))\n",
      "\n",
      "        self.toDateIn = self.addLiteralInput(identifier=\"to_date\",\n",
      "                    title = \"The final date to be calcualted\",\n",
      "                                          type=type(''))   \n",
      "        \n",
      "        self.pixOff = self.addLiteralInput(identifier=\"pix_offset\",\n",
      "                    title=\"pixel offset, 0, 4 or 9\",\n",
      "                    type=type(''))\n",
      "\n",
      "        self.pyHants = self.addLiteralInput(identifier=\"pyhants\",\n",
      "                    title=\"exclude pyhants (0) or include pyhants (1)\",\n",
      "                    type=type(''))\n",
      "\n",
      "        self.freqan = self.addLiteralInput(identifier=\"ann_freq\",\n",
      "                    title = \"number of annual (!) frequencies\",\n",
      "                                          type=type(''))\n",
      "\n",
      "        self.outlier = self.addLiteralInput(identifier=\"outliers_rj\",\n",
      "                    title = \"what type of outliers to reject, Hi, Lo, or None\",\n",
      "                                          type=type(''))        \n",
      "        \n",
      "\n",
      "        ##\n",
      "        # Adding process outputs\n",
      "\n",
      "        self.nvaiOut = self.addComplexOutput(identifier  = \"nvai_ts\", \n",
      "                                        title       = \"NVAI Timeseries\",\n",
      "                                        formats     = [{'mimeType':'text/xml'}]) #xml/application ||application/json   \n",
      "\n",
      "\n",
      "    ##\n",
      "    # Execution part of the process\n",
      "    def execute(self):\n",
      "        # Load the data\n",
      "        lon_center = float(self.lonIn.getValue())\n",
      "        lat_center = float(self.latIn.getValue())\n",
      "        pix_offset = float(self.pixOff.getValue())                \n",
      "        \n",
      "        from_date = str(self.fromDateIn.getValue())\n",
      "        to_date = str(self.toDateIn.getValue())\n",
      "        \n",
      "        pyhants = float(self.pyHants.getValue())\n",
      "        ann_freq = float(self.freqan.getValue())\n",
      "        outliers_rj = str(self.outlier.getValue())        \n",
      "        \n",
      "        # Do the Work\n",
      "        NVAI_OUT = COMPUTE_NVAI(lon_center=lon_center, lat_center=lat_center, pix_offset=pix_offset, \n",
      "                         from_date=from_date, to_date=to_date, pyhants=pyhants, \n",
      "                         ann_freq=ann_freq, outliers_rj=outliers_rj)\n",
      "        \n",
      "        # Save to out\n",
      "        self.nvaiOut.setValue( NVAI_OUT )\n",
      "        return"
     ],
     "language": "python",
     "metadata": {},
     "outputs": [],
     "prompt_number": 5
    },
    {
     "cell_type": "code",
     "collapsed": false,
     "input": [
      "test_,root,url,f = COMPUTE_NVAI(lon_center=5.6943, lat_center=53.1533, pix_offset=9, \n",
      "                 from_date='2010-01-01', to_date='2012-01-01', pyhants=1, \n",
      "                 ann_freq=6, outliers_rj='None')"
     ],
     "language": "python",
     "metadata": {},
     "outputs": [],
     "prompt_number": 62
    },
    {
     "cell_type": "code",
     "collapsed": false,
     "input": [
      "url"
     ],
     "language": "python",
     "metadata": {},
     "outputs": [
      {
       "metadata": {},
       "output_type": "pyout",
       "prompt_number": 68,
       "text": [
        "'http://159.226.117.95:8080/rasdaman/ows/wcs2?service=WCS&version=2.0.1&request=GetCoverage&coverageId=modis_13c1_cov&subset=Long(5.6193,5.7693)&subset=Lat(53.0783,53.2283)'"
       ]
      }
     ],
     "prompt_number": 68
    },
    {
     "cell_type": "code",
     "collapsed": false,
     "input": [
      "e = xml.etree.ElementTree.parse(f).getroot()"
     ],
     "language": "python",
     "metadata": {},
     "outputs": [
      {
       "ename": "ParseError",
       "evalue": "no element found: line 1, column 0",
       "output_type": "pyerr",
       "traceback": [
        "\u001b[1;36m  File \u001b[1;32m\"<string>\"\u001b[1;36m, line \u001b[1;32munknown\u001b[0m\n\u001b[1;31mParseError\u001b[0m\u001b[1;31m:\u001b[0m no element found: line 1, column 0\n"
       ]
      }
     ],
     "prompt_number": 64
    },
    {
     "cell_type": "code",
     "collapsed": false,
     "input": [
      "import urllib2\n",
      "from xml.etree import ElementTree"
     ],
     "language": "python",
     "metadata": {},
     "outputs": [],
     "prompt_number": 70
    },
    {
     "cell_type": "code",
     "collapsed": false,
     "input": [
      "result = urllib2.urlopen(url).read()\n",
      "root = ElementTree.fromstring(result)"
     ],
     "language": "python",
     "metadata": {},
     "outputs": [],
     "prompt_number": 86
    },
    {
     "cell_type": "code",
     "collapsed": false,
     "input": [
      "result  = \"\"\"<gmlcov:RectifiedGridCoverage\n",
      "    xmlns='http://www.opengis.net/gml/3.2'\n",
      "    xmlns:gml='http://www.opengis.net/gml/3.2'\n",
      "    xmlns:gmlcov='http://www.opengis.net/gmlcov/1.0'\n",
      "    xmlns:swe='http://www.opengis.net/swe/2.0'\n",
      "    xmlns:xsi='http://www.w3.org/2001/XMLSchema-instance'\n",
      "    xmlns:wcs='http://www.opengis.net/wcs/2.0' gml:id=\"modis_13c1_cov\"\n",
      "    xsi:schemaLocation= 'http://www.opengis.net/wcs/2.0 http://schemas.opengis.net/wcs/2.0/wcsAll.xsd'>\n",
      "\n",
      "  <boundedBy>\n",
      "    <Envelope srsName=\"http://localhost:8080/def/crs-compound?1=http://localhost:8080/def/crs/EPSG/0/4326&amp;2=http://localhost:8080/def/crs/OGC/0/AnsiDate\" axisLabels=\"Lat Long ansi\" uomLabels=\"9122 9122 d\" srsDimension=\"3\">\n",
      "      <lowerCorner>39.9 107.25 149375</lowerCorner>\n",
      "      <upperCorner>39.95 107.3 150127</upperCorner>\n",
      "    </Envelope>\n",
      "  </boundedBy>\n",
      "\n",
      "  <domainSet>\"\"\""
     ],
     "language": "python",
     "metadata": {},
     "outputs": [],
     "prompt_number": 122
    },
    {
     "cell_type": "code",
     "collapsed": false,
     "input": [
      "if result[0:400].split('\"')[5] == 'modis_11c2_cov':\n",
      "    scaling_value = 100\n",
      "if result[0:400].split('\"')[5] == 'modis_13c1_cov':    \n",
      "    scaling_value = 10000"
     ],
     "language": "python",
     "metadata": {},
     "outputs": [
      {
       "ename": "IndexError",
       "evalue": "list index out of range",
       "output_type": "pyerr",
       "traceback": [
        "\u001b[1;31m---------------------------------------------------------------------------\u001b[0m\n\u001b[1;31mIndexError\u001b[0m                                Traceback (most recent call last)",
        "\u001b[1;32m<ipython-input-123-9ee8855a538d>\u001b[0m in \u001b[0;36m<module>\u001b[1;34m()\u001b[0m\n\u001b[1;32m----> 1\u001b[1;33m \u001b[1;32mif\u001b[0m \u001b[0mresult\u001b[0m\u001b[1;33m[\u001b[0m\u001b[1;36m0\u001b[0m\u001b[1;33m:\u001b[0m\u001b[1;36m400\u001b[0m\u001b[1;33m]\u001b[0m\u001b[1;33m.\u001b[0m\u001b[0msplit\u001b[0m\u001b[1;33m(\u001b[0m\u001b[1;34m'\"'\u001b[0m\u001b[1;33m)\u001b[0m\u001b[1;33m[\u001b[0m\u001b[1;36m5\u001b[0m\u001b[1;33m]\u001b[0m \u001b[1;33m==\u001b[0m \u001b[1;34m'modis_11c2_cov'\u001b[0m\u001b[1;33m:\u001b[0m\u001b[1;33m\u001b[0m\u001b[0m\n\u001b[0m\u001b[0;32m      2\u001b[0m     \u001b[0mscaling_value\u001b[0m \u001b[1;33m=\u001b[0m \u001b[1;36m100\u001b[0m\u001b[1;33m\u001b[0m\u001b[0m\n\u001b[0;32m      3\u001b[0m \u001b[1;32mif\u001b[0m \u001b[0mresult\u001b[0m\u001b[1;33m[\u001b[0m\u001b[1;36m0\u001b[0m\u001b[1;33m:\u001b[0m\u001b[1;36m400\u001b[0m\u001b[1;33m]\u001b[0m\u001b[1;33m.\u001b[0m\u001b[0msplit\u001b[0m\u001b[1;33m(\u001b[0m\u001b[1;34m'\"'\u001b[0m\u001b[1;33m)\u001b[0m\u001b[1;33m[\u001b[0m\u001b[1;36m5\u001b[0m\u001b[1;33m]\u001b[0m \u001b[1;33m==\u001b[0m \u001b[1;34m'modis_13c1_cov'\u001b[0m\u001b[1;33m:\u001b[0m\u001b[1;33m\u001b[0m\u001b[0m\n\u001b[0;32m      4\u001b[0m     \u001b[0mscaling_value\u001b[0m \u001b[1;33m=\u001b[0m \u001b[1;36m10000\u001b[0m\u001b[1;33m\u001b[0m\u001b[0m\n",
        "\u001b[1;31mIndexError\u001b[0m: list index out of range"
       ]
      }
     ],
     "prompt_number": 123
    },
    {
     "cell_type": "code",
     "collapsed": false,
     "input": [
      "result[0:400].split('\"')"
     ],
     "language": "python",
     "metadata": {},
     "outputs": [
      {
       "metadata": {},
       "output_type": "pyout",
       "prompt_number": 135,
       "text": [
        "[\"<gmlcov:RectifiedGridCoverage\\n    xmlns='http://www.opengis.net/gml/3.2'\\n    xmlns:gml='http://www.opengis.net/gml/3.2'\\n    xmlns:gmlcov='http://www.opengis.net/gmlcov/1.0'\\n    xmlns:swe='http://www.opengis.net/swe/2.0'\\n    xmlns:xsi='http://www.w3.org/2001/XMLSchema-instance'\\n    xmlns:wcs='http://www.opengis.net/wcs/2.0' gml:id=\",\n",
        " 'modis_13c1_cov',\n",
        " \"\\n    xsi:schemaLocation= 'http://www.opengis.net/wcs\"]"
       ]
      }
     ],
     "prompt_number": 135
    },
    {
     "cell_type": "code",
     "collapsed": false,
     "input": [
      "root.get(\"gml:id\")"
     ],
     "language": "python",
     "metadata": {},
     "outputs": [],
     "prompt_number": 83
    },
    {
     "cell_type": "code",
     "collapsed": false,
     "input": [
      "import xml.dom.minidom\n",
      "\n",
      "xml = xml.dom.minidom.parse(result) # or xml.dom.minidom.parseString(xml_string)\n",
      "#pretty_xml_as_string = xml.toprettyxml()"
     ],
     "language": "python",
     "metadata": {},
     "outputs": [
      {
       "ename": "IOError",
       "evalue": "[Errno 2] No such file or directory: '<?xml version=\"1.0\" encoding=\"UTF-8\"?>\\n<gmlcov:RectifiedGridCoverage\\n    xmlns=\\'http://www.opengis.net/gml/3.2\\'\\n    xmlns:gml=\\'http://www.opengis.net/gml/3.2\\'\\n    xmlns:gmlcov=\\'http://www.opengis.net/gmlcov/1.0\\'\\n    xmlns:swe=\\'http://www.opengis.net/swe/2.0\\'\\n    xmlns:xsi=\\'http://www.w3.org/2001/XMLSchema-instance\\'\\n    xmlns:wcs=\\'http://www.opengis.net/wcs/2.0\\' gml:id=\"modis_13c1_cov\"\\n    xsi:schemaLocation= \\'http://www.opengis.net/wcs/2.0 http://schemas.opengis.net/wcs/2.0/wcsAll.xsd\\'>\\n\\n  <boundedBy>\\n    <Envelope srsName=\"http://localhost:8080/def/crs-compound?1=http://localhost:8080/def/crs/EPSG/0/4326&amp;2=http://localhost:8080/def/crs/OGC/0/AnsiDate\" axisLabels=\"Lat Long ansi\" uomLabels=\"9122 9122 d\" srsDimension=\"3\">\\n      <lowerCorner>53.05 5.6 145775</lowerCorner>\\n      <upperCorner>53.25 5.8 151231</upperCorner>\\n    </Envelope>\\n  </boundedBy>\\n\\n  <domainSet>\\n    <RectifiedGrid dimension=\"3\" gml:id=\"modis_13c1_cov-grid\">\\n      <limits>\\n        <GridEnvelope>\\n          <low>3712 735 9111</low>\\n          <high>3715 738 9451</high>\\n        </GridEnvelope>\\n      </limits>\\n      <axisLabels>Long Lat ansi</axisLabels>\\n      <origin>\\n          <Point gml:id=\"modis_13c1_cov-origin\" srsName=\"http://localhost:8080/def/crs-compound?1=http://localhost:8080/def/crs/EPSG/0/4326&amp;2=http://localhost:8080/def/crs/OGC/0/AnsiDate\" axisLabels=\"Lat Long ansi\" uomLabels=\"9122 9122 d\" srsDimension=\"3\">\\n              <pos>53.225 5.625 145783</pos>\\n          </Point>\\n      </origin>\\n      <offsetVector srsName=\"http://localhost:8080/def/crs-compound?1=http://localhost:8080/def/crs/EPSG/0/4326&amp;2=http://localhost:8080/def/crs/OGC/0/AnsiDate\" axisLabels=\"Lat Long ansi\" uomLabels=\"9122 9122 d\" srsDimension=\"3\">0 0.05 0</offsetVector>\\n      <offsetVector srsName=\"http://localhost:8080/def/crs-compound?1=http://localhost:8080/def/crs/EPSG/0/4326&amp;2=http://localhost:8080/def/crs/OGC/0/AnsiDate\" axisLabels=\"Lat Long ansi\" uomLabels=\"9122 9122 d\" srsDimension=\"3\">-0.05 0 0</offsetVector>\\n      <offsetVector srsName=\"http://localhost:8080/def/crs-compound?1=http://localhost:8080/def/crs/EPSG/0/4326&amp;2=http://localhost:8080/def/crs/OGC/0/AnsiDate\" axisLabels=\"Lat Long ansi\" uomLabels=\"9122 9122 d\" srsDimension=\"3\">0 0 16</offsetVector>\\n    </RectifiedGrid>\\n  </domainSet>\\n\\n  <rangeSet>\\n    <DataBlock>\\n      <rangeParameters/>\\n      <tupleList ts=\",\" cs=\" \">5473,3431,5557,5830,6837,6109,7149,7299,6098,6584,7366,6935,7400,7428,7091,6862,6733,6579,5274,3170,5516,5285,5047,4465,5061,5546,6585,6118,6520,5782,6724,7699,8131,7654,7568,7173,6413,6854,6545,6658,6484,5491,3780,5324,5126,5482,5294,4904,5387,5539,5974,6025,7390,7711,8011,8123,7290,6984,7053,7145,6785,6407,6199,6276,4078,3090,1098,5525,5228,4454,4926,5378,6118,6555,7312,6758,7884,8106,7724,7294,5431,6413,6463,6428,6630,6150,6695,6059,2959,758,5755,6345,5660,4912,5661,6851,6875,6449,6946,7165,8368,7995,7126,7429,6558,6995,6801,6250,6680,6494,4123,5021,5029,5424,5617,1313,4796,5767,6832,6541,6119,6257,7309,7033,8103,6130,7369,7012,7318,7091,6750,6845,6640,5918,4854,5057,6345,5182,4966,4404,6109,7045,7333,6489,6910,7990,7539,7165,7712,6770,6719,7005,6680,7069,6708,5537,5044,5135,5511,5731,5829,5721,5390,6533,6813,7694,7943,7494,7858,7377,6504,6694,6921,6844,6810,7001,7021,6553,4935,5351,3252,3984,6026,5844,5849,6462,6055,7024,7103,7008,7807,7434,7626,7272,7050,6502,6477,6601,6350,6237,4654,5139,4576,4645,4767,4856,3304,5075,5338,6439,6778,6224,7230,7832,7779,7358,7067,6331,7493,6333,6497,6637,6919,7187,6088,5645,103,6689,5744,4762,4844,5401,6556,6658,6810,7188,7623,7517,7710,7017,7180,6743,6639,6663,6772,8140,2519,1444,3495,6031,5101,5379,4516,4963,4996,5906,6814,6483,7471,8235,8146,7832,6790,7130,6091,6395,6513,6246,5925,2708,5132,6461,5637,632,5136,5188,5708,6723,7667,6571,6825,7873,7669,7526,7028,6846,6916,7234,6477,6444,6838,6266,553,4023,4393,6243,6324,4603,4463,3960,5587,6066,6628,7000,7032,7890,7622,7375,6616,6941,7210,6795,7095,6533,7169,5584,5526,6867,5986,6097,5784,5713,6167,6490,7608,6830,7210,7253,7736,7315,6505,6648,6676,6706,6932,5565,7189,6919,6324,6066,5485,7020,5826,7428,7833,8031,7204,7573,7469,7605,6836,7692,7520,8168,8076,7719,7358,7477,7384,6546,4862,7294,6789,6346,4384,6345,6961,7823,8074,8050,6807,7561,7327,8141,7930,8240,7705,6915,8017,7858,7948,7701,6806,3696,6672,6582,7142,6912,6788,7523,7617,5290,7639,7607,7547,7986,8065,8020,8108,7745,8075,7902,7555,7521,7366,5475,3603,2434,6723,6217,5379,6098,6517,7653,7984,8260,7053,7485,8012,7875,8183,6872,7426,7555,7415,7393,7068,7663,6909,6708,942,6306,7366,7410,6241,7517,8240,8108,7065,7152,6625,7989,8348,7970,8435,7550,7849,7913,7386,7873,7864,5757,5731,6054,6963,7043,2977,6662,7585,7798,8054,7045,6809,7484,7181,8094,6135,8167,7918,8055,7940,7792,7807,7549,7093,5921,6127,7366,6351,6039,5674,7518,7998,8133,6694,6716,7854,7521,7760,8184,7534,7680,7766,7708,7580,7752,6503,5141,6532,7603,7306,7461,7453,7363,8046,8029,7681,8134,7487,8020,7797,7414,8052,8144,8128,7713,7905,8154,7635,5784,6483,5093,6357,7337,7084,7283,7427,7447,8079,8100,7093,7802,7134,7903,8198,8186,7765,7757,7758,7489,7286,6730,6716,6116,6204,5995,6117,4694,6796,7224,8186,8206,7080,7797,7502,7400,7999,7754,7526,8134,7641,7217,7360,4185,7837,7042,6432,3,7489,6781,5492,5432,6806,7834,7918,7615,7216,7799,7330,7815,7492,8423,7972,7758,7774,7699,8480,3048,2368,2546,7153,6528,6716,6094,6347,6632,7533,7808,7078,7556,7844,7878,5234,7776,8247,6950,7727,7625,7328,7438,6802,6329,6916,6701,1111,5879,6483,7199,5418,8377,6732,6762,7837,7267,7704,7867,7641,7634,8123,7339,7232,7915,7394,1592,4940,2577,7326,7591,5745,5790,5173,7255,7739,6956,7870,7047,7766,7418,7814,7550,8365,8089,7690,8041,7627,8289,6996,6803,8698,7466,7404,7373,7511,7933,8427,8362,7372,7678,7672,7920,7461,7382,7778,7938,7816,8620,7888,8114,7920,7097,7112,6860,7690,7499,8249,8731,8484,7376,7971,7920,7572,8218,7801,7666,8235,8305,8114,7868,8136,8011,7271,6782,7864,7320,6946,7295,6958,8049,8415,8769,8540,7379,7906,7641,8263,7983,8413,5195,5638,8009,8391,8508,8124,7497,2960,7111,6874,7803,7544,7449,8453,8443,7072,8454,7831,7687,7945,8178,8172,8335,8159,7313,8252,7995,8079,8007,6907,4275,3223,7263,7233,5750,6576,6747,8337,8544,8685,6992,7764,8191,8003,8333,7268,7636,7892,7965,7757,7593,8108,7325,7372,1299,6645,7806,8147,7013,8382,8898,8744,7491,7623,6758,8027,8268,8232,8761,7830,7954,8409,7832,8410,8456,6823,6070,6637,7577,7714,717,7389,8378,8557,8762,7358,7040,7970,7425,8331,6426,8456,8357,8316,8327,8224,8190,6583,7339,6392,6484,7806,6720,6422,6139,7937,8560,8480,7291,7225,7800,7634,8257,8480,7989,7996,8052,8100,8019,8090,7165,5671,7061,7008,7720,7910,8073,8143,8561,8287,8199,8374,7765,8045,7157,7826,8319,8446,8232,8208,8226,8354,8082,6863,7020,5710,7754,7912,7725,7908,8057,8220,8586,8389,7396,8165,7171,8092,8008,8651,8144,8157,8175,7978,7907,3061,7365,6673,6901,6572,6506,5745,7500,8184,8906,8682,7486,8151,7833,7599,8308,8141,7806,8671,8004,7862,7727,6838,8397,7674,6849,-2,56,6974,5603,5705,6480,8362,8424,8000,7691,8008,7383,7892,8100,8454,8041,7938,8207,7929,8293,3960,1762,2665,7280,6970,7141,6465,7033,7173,7983,8226,7146,7975,8132,7913,7315,7979,8551,6747,8109,8076,7761,7753,7061,6964,6658,7068,1525,6226,6932,7905,7267,8653,7164,7216,8252,7206,7997,8145,8090,7951,8537,7898,7839,8428,7820,4347,6912,1174,5459,7814,6298,6351,5543,7828,8309,7193,8056,7182,8101,7672,8015,7972,8761,8475,8085,8440,8133,9098,7445,7213,9102,7882,7807,7860,7990,8060,8790,8527,7356,8032,8049,8144,7759,7716,8256,8190,7987,8723,8020,7998,8046,7126,7175,7010,7796,7914,8426,8937,8304,6917,7873,8076,7776,8473,8265,7935,8476,8275,8208,8164,8185,8201,7590,7134,8015,7408,7378,7267,7150,8019,8684,8782,8782,7037,8009,7747,8366,8228,8460,6041,5981,8136,8431,8561,8311,7631,3544,7209,7016,7921,7639,7638,8643,8639,4107,8675,8012,7806,8352,8395,8380,8281,8265,8319,8324,7956,8209,8151,7238,5003,4206,7544,7452,5982,6862,7112,8672,8701,8866,6958,7865,8386,7950,8471,7378,7815,8139,8183,7959,7805,8371,7585,5304,1669,6936,7974,8363,7185,8648,9047,8838,7397,7649,6616,8091,8563,8327,8809,8084,8206,8474,8009,8521,8556,6114,6348,6943,7739,7900,2346,7645,8641,8844,8926,7345,6721,8428,7593,8468,8462,8594,8416,8314,8345,8340,8319,5852,7161,6768,6772,7974,6880,6656,6407,8407,8780,8529,7418,7433,7897,7715,8329,8573,7682,7916,8295,8123,7801,8218,7282,6633,7291,5124,7924,8090,8268,8213,8780,8325,8411,8014,7596,8412,6625,7776,8432,8335,8399,8398,8414,8526,8333,7543,7322,4284,7502,8204,7707,8365,8133,8382,8734,8295,7758,7958,7017,8290,8467,8712,7985,8234,8304,8066,7938,2221,7293,6802,7033,6755,6586,6448,7541,8286,8935,8656,7105,8134,7701,7625,8321,8012,7977,8738,7942,7950,7785,7435,9100,7874,6862,-104,525,7046,5671,5519,6783,8479,8622,7854,7369,8198,7176,7930,7748,8414,7942,8247,8141,7725,8473,4104,2126,4151,7408,6929,7071,6484,7024,7215,8033,8453,7297,8098,8659,7903,7403,7653,8616,7768,8078,8040,7775,7627,6384,6342,7683,7098,1453,6352,7058,8025,7508,8723,6813,6895,8144,7806,8149,8294,8167,8070,8520,8113,7868,8403,8102,2097,6232,1387,8092,7802,6399,6446,5668,7926,8432,6337,8262,7175,8270,7415,8190,7676,8532,8540,8159,8498,8255,9049,7505,7294,8059,8071,7972,8124,8088,8449,8830,8451,6895,8010,7997,8268,7742,7638,8356,8138,8055,8422,8332,7985,8074,7256,7147,6600,5755,6657,5953,6117,6832,6088,7180,7090,6576,6300,6726,7163,7393,7170,7134,7088,6702,6541,5554,717,5848,5633,5397,5676,5496,5838,6877,6507,6766,5796,6780,7204,7864,7559,7732,7710,6347,7180,6678,6979,6703,5584,1558,5637,5474,5844,5730,5386,5907,6033,6693,6401,7192,7334,7623,7760,7263,7111,7151,7364,7017,6401,6478,6347,4227,3090,928,5734,4976,4620,5178,5433,6151,6697,7158,6431,7368,7641,7491,7421,6204,6514,6629,6573,6601,6165,6736,5821,4330,948,6182,6444,6098,5241,6227,7253,6969,6432,6710,7058,7873,7896,7280,7193,6860,7363,7082,6801,6995,6380,5039,4265,5624,5694,6086,2658,5376,6317,7104,6850,6348,6364,7240,6831,7791,5634,7361,7220,7384,7177,6984,6976,6975,5829,4887,4904,6444,5334,5085,4669,6393,7154,7268,6265,6695,7586,7420,7437,7909,6963,6971,7306,6988,7094,6902,5731,5033,5437,6010,6258,6449,6226,6021,6797,6904,7494,7693,7482,7651,7316,6831,7130,7227,7120,6954,7067,6681,6640,4677,5504,4221,2208,6358,6013,6228,6612,6236,6941,7013,6763,7310,7066,7317,7971,7515,7163,6951,7034,6640,6462,4870,5494,4965,5088,5318,5300,4051,5718,6170,7014,7214,6548,7361,7425,7412,7364,7266,6708,7989,6902,6790,6647,6780,6931,6059,5637,68,2370,5701,5055,5115,5121,6770,6784,6896,6926,7330,7247,7468,7565,8249,7053,7531,7055,7000,8288,2817,1622,4424,6609,5617,5837,5111,5682,5647,6477,6952,6611,7201,7745,7804,7509,7240,7543,2695,6850,6891,6684,6688,2737,4204,6347,5784,784,5307,5704,6373,6815,7405,6391,6675,7735,6083,7410,7286,7121,7044,7649,6895,6851,7167,6545,638,4306,3597,6671,6617,5024,5002,4430,6123,6532,6907,7196,6986,7567,7411,7590,7086,6908,7556,7090,7464,6906,7818,5829,5731,6864,6593,6559,6429,6329,6712,6965,7757,6221,7271,7282,7606,7278,6523,7203,7068,6995,7138,6140,7322,7041,6085,6049,5567,7216,7487,7812,8330,8628,7715,8002,7811,7755,7097,7173,7771,8377,8167,8019,7718,7867,7750,7014,5253,7666,7031,6762,2896,6768,7355,8055,8574,8556,7425,7954,7506,8145,7981,8378,8201,7172,8390,8284,8209,7874,7160,4852,6868,6559,7466,7240,7084,8023,8082,7199,8047,7835,7908,7437,7951,8173,8281,7985,8016,8288,7913,6670,7751,6113,3787,2458,7032,6503,5589,6427,7046,8133,8527,8805,7214,7816,8026,7739,8263,6887,7292,7635,7766,7620,7362,7939,7006,7090,1157,7306,7639,7834,6622,8040,8752,8842,7645,7400,8133,8135,7985,8043,7874,7814,8146,8251,7881,8250,8215,5836,5412,6990,7404,7340,1077,7174,8115,8340,8671,7831,7002,8116,7408,8288,6869,8382,8264,8227,8162,8095,8089,7647,7311,5982,6306,7639,6489,6252,5918,7856,8416,8653,7044,6946,7955,7622,8068,8321,7802,7804,8234,8131,7516,7981,6984,5480,6968,7421,7553,7562,7895,7960,8618,8510,8020,8326,7828,8036,7671,7429,8144,8396,8173,8010,8199,7957,7934,6074,6829,3659,3952,7725,7372,7751,7935,7933,8577,8615,7363,8125,7048,7761,8351,8377,7947,7882,8045,7843,7705,6435,7068,6363,6676,6366,6522,5598,7295,7828,8794,8770,7340,7993,7795,7424,8084,7854,7546,8566,7675,7667,7381,6667,7773,7597,6623,96,7748,6820,5624,5636,6814,8109,8242,8309,7380,8113,7474,7682,7628,8461,8019,7711,8088,7835,8866,3295,1672,3222,7361,6750,6853,6218,6570,6801,7741,8227,7045,7636,8141,8096,7713,7891,8414,5405,7892,7902,7608,7934,6899,6274,7093,6891,983,5909,6689,7584,5142,8395,7329,7132,8138,5949,7786,7627,7871,7775,8350,7857,7640,8322,7775,749,5816,7129,7558,7878,6011,5728,5321,7445,7999,6552,8233,7155,8031,7121,7842,7481,8149,8317,7861,8228,7887,8311,7135,7103,8773,7643,7590,7594,7630,8100,8637,8649,7247,7695,7853,7866,7571,7349,7950,8059,7776,8276,7935,8168,7928,6909,7086,6900,7395,5117,8073,8631,8677,7833,8271,7810,7862,8261,5820,7704,8398,8388,8088,8036,8051,7953,7214,5559,7755,7137,6945,5470,6943,7609,8231,8694,8647,7572,8160,7564,8303,8204,8446,7008,4827,8199,8425,8452,8051,7397,4718,6959,6796,7750,7483,7341,8315,8344,6054,8513,7797,8004,7612,8187,8157,8394,8174,8121,8251,8001,8029,7911,6843,4064,2643,7145,7044,5762,6640,7094,8228,8632,8839,7399,7734,8141,7822,8375,7261,7421,7784,7835,7622,7449,7998,7157,7261,1410,7093,7821,7997,6871,8287,8880,8890,7843,7598,7031,7829,7961,8236,8408,7925,8109,8301,7810,8312,8322,6910,5352,6778,7396,7546,-180,7291,8290,8473,8787,7813,7151,8012,7553,8261,7764,8460,8285,8321,8267,8160,8166,8315,7218,6133,6359,7821,6595,6309,5987,7985,8575,8658,7190,7122,7859,7769,8369,8589,7875,7878,8146,8174,7915,8063,7156,6743,6958,7629,7535,7669,7906,7892,8649,8403,8375,8441,7720,8141,6667,7523,8267,8409,8059,8036,8103,8010,7869,6460,6828,4956,7597,7686,7406,7642,8037,8040,8627,8616,7640,8255,6992,8132,7815,8560,8118,8383,7944,7911,7824,2866,7119,6497,6713,6384,6435,5786,7380,7954,8813,8702,7582,8101,7757,7423,8350,8018,7833,8597,7844,7786,7596,6748,7802,7625,6508,41,114,6702,5423,5631,6515,8249,8312,8316,7717,8141,7353,7809,7690,8333,8017,8195,8197,7861,8076,3515,1874,3359,7170,6815,7074,6322,7131,6946,7942,8181,7704,7780,8034,8198,6209,7946,8546,6075,8050,7999,7698,7903,6927,6658,6479,7123,1414,6041,6829,7751,5925,8632,7580,7497,8332,7514,7996,7819,8093,7820,8445,7904,7792,8284,7664,3921,6116,1646,4223,7595,6190,6265,5418,7586,8116,6864,8148,7215,8124,7546,8016,7898,8739,8509,8145,8461,8174,8531,7720,7235,8945,7775,7717,7781,8001,7937,8793,8689,7313,8177,8006,8118,7686,7544,8229,8093,7899,8441,8524,8000,7932,6572,6777,6595,7687,7436,8207,8707,8354,7034,8180,7928,7900,8374,7460,7790,8405,8244,8132,8153,8027,7995,7345,6805,7821,7221,7316,5087,6933,7445,8429,8778,8670,6986,8038,7570,8272,8171,8488,4589,6954,8320,8269,8405,8061,7469,5177,7034,6787,7752,7522,7442,8383,8339,6971,8547,7970,7833,7956,8376,8319,8207,8262,7951,8324,8110,8171,8023,6943,4334,3345,7365,7075,5735,6606,6820,8402,8538,8816,6796,7879,8336,7799,8433,7590,7821,8122,7982,7767,7566,8131,7279,6206,1557,7096,7817,8056,6876,8290,8843,8601,7220,7462,5232,8034,7997,8137,8655,7868,7835,8302,7820,8370,8371,5584,6177,6572,7365,7580,657,7310,8273,8535,8746,7428,6665,8191,7508,8308,8383,8445,8289,8360,8228,8209,8194,7253,6950,6407,6501,7817,6632,6418,6146,8193,8440,8513,6970,6752,7822,7688,8305,8604,7730,7973,8359,8070,7509,8099,7170,6663,6893,3797,7668,7844,8007,7852,8521,8259,8217,8038,7598,8398,7096,7880,8449,7881,8286,8107,8205,8310,8182,7248,7107,4146,7609,7954,7419,8037,7786,8153,8512,8264,7676,8080,6993,8397,8379,8700,7817,8227,8002,7815,7723,2350,7200,6498,6824,6493,6321,5460,7189,7881,8662,8598,6984,7873,7699,7561,8166,8099,7903,8707,8014,7751,7629,7376,7941,7694,6535,-77,1,7050,5300,5451,6321,8200,8328,7845,7150,8241,7379,8115,7850,8380,7861,7665,8015,7560,8518,3764,2013,5656,7215,6844,7039,6348,6879,7038,7840,8099,7215,7940,8034,7874,6245,7856,8534,7663,7967,7790,7704,7862,6894,6827,6807,7081,1652,6075,6849,7771,6781,8565,6849,6723,8214,7613,8012,8016,8118,7985,8400,7903,7631,8171,7819,880,6144,1282,6099,7418,6223,6231,5514,7626,8174,6486,8282,7182,8282,7376,8180,7698,8684,8464,8059,8380,8134,8548,7809,7182,8339,7859,7739,7894,8002,8250,8789,8568,7034,8060,7976,8119,7507,7694,8345,8057,8044,8372,8758,7921,7908,7117,6975,6339,6797,5519,7106,7583,7625,6821,7675,7559,5665,6910,6555,7529,8004,7702,7679,7388,7344,7227,6617,5042,6580,6366,6450,6302,6171,6763,7649,7671,7768,6532,7650,7679,8075,7941,8111,8262,6166,7849,7074,7736,7071,6472,1888,6310,6167,6759,6545,6274,7150,7298,7424,6848,7816,7701,8131,8211,8002,7917,7849,7856,7724,7170,7307,7148,5635,871,1258,6574,6070,5130,5799,6294,7240,7596,7607,6647,7293,7963,8000,8118,6008,7270,7466,7206,7098,6850,7489,6468,6363,1055,6777,6216,6775,5873,7012,7771,7834,6950,7199,7643,7888,8095,8002,5671,7745,7878,7493,7331,7472,7369,6266,4911,6468,6104,6624,4083,6071,7001,7454,7464,6753,6486,7235,7158,8172,7319,8156,7874,7977,7644,7366,7393,7404,6515,5559,5527,7221,5877,5560,5246,7104,7549,7661,6798,6814,7963,7654,8027,7933,7450,7376,7570,7329,7392,7388,6403,5542,5984,4072,6746,6962,6898,6778,7276,7134,7641,7865,7483,7996,7476,7325,7558,7212,7680,7234,7445,6959,7240,5563,6139,4128,3639,6855,6595,6128,7140,6812,7538,7634,7006,7790,7230,7417,8010,7835,7348,7241,7476,6992,6868,5562,6172,5588,5781,5814,5923,4289,6410,6776,7708,7726,6704,7533,7550,7669,7723,7401,6919,8230,7239,7176,6866,7409,7471,6893,6281,211,315,5360,5274,5156,5105,7333,7386,7310,7260,7666,7464,7763,7575,8137,7200,7545,7359,7056,8791,3289,1366,2688,6918,5991,6274,5513,6165,6094,6799,7409,6535,7524,7889,7893,8083,7413,7635,7805,7066,7103,6853,6953,3614,4176,6456,6039,1057,5394,5938,6679,6512,7566,6707,7036,7903,7522,7653,7433,7368,7131,7957,7056,6992,7455,6985,782,5551,5209,7081,6860,5310,5286,4700,6553,6980,6709,7862,7255,7579,7593,7789,7258,7963,7726,7212,7650,7342,8278,6289,6296,6807,6932,6942,6826,7348,7167,7739,8137,6706,7686,7743,7829,7215,6883,7443,7381,7463,7800,6842,7637,7508,6345,6477,6104,7220,6423,7746,8332,8546,7691,8079,7797,7489,7917,7115,7751,8386,8164,8272,7753,7915,7754,6947,5515,7594,6997,6874,1411,6776,7403,8069,8580,8547,7618,7948,7642,8087,7829,8376,8546,7094,8352,8224,8116,7486,7027,5323,6804,6677,7407,7236,7134,8035,8018,4326,7925,7917,7858,7378,7955,8042,8277,8122,7990,8251,7804,6947,7660,6622,4016,2337,6999,6454,5590,6428,7408,8028,8462,8748,7187,7982,7973,7663,8255,6823,7290,7721,7801,7569,7340,7854,6956,7064,1143,7356,1596,7753,6574,8020,8665,8809,7768,7572,7526,7993,8168,8070,7560,7951,7756,8214,7975,8112,8077,5825,5333,7041,7303,7298,977,7078,8019,8223,8610,7791,7187,8060,7342,8324,7622,8426,8246,8154,8137,8103,8021,7761,7186,5902,6175,7688,6377,6159,5792,7663,8323,8571,7456,7021,7897,7646,8161,8383,7765,7753,8263,8145,7887,7916,6845,6626,6560,7146,7412,7319,7762,7832,8534,8445,8174,8428,7833,7667,7681,7538,8040,8510,8184,8012,8147,8124,7770,6022,6774,3687,2186,7623,7274,7696,7840,7793,8486,8551,7560,8108,7008,7876,8418,8137,7876,8000,8080,7809,7639,5860,6982,6313,6609,6309,6441,5601,7239,7803,8708,8713,7564,8064,7804,7392,8045,7875,7428,8518,7612,7710,7474,6550,7723,7568,6573,120,1118,6661,5659,5501,6095,8008,8198,8364,7538,8175,7382,7854,7513,8386,7920,7613,8059,7778,8837,3141,1384,3289,7383,6754,6776,6160,6500,6764,7712,8209,6894,7743,8082,7967,7078,7798,8195,6984,7884,7904,7606,7914,6764,6401,7009,6877,1098,5848,6625,7559,5345,8470,7514,7457,8077,7347,7681,7464,7865,7738,8345,7843,7604,8300,7715,880,5634,6796,7559,7886,6046,5874,5412,7419,7935,6935,8243,7400,7905,7247,7907,7497,8258,8287,7885,8253,7871,8341,7177,7046,8616,7506,7447,7502,7531,7879,8563,8753,7178,7899,7664,7905,7661,7242,7791,8006,7619,8207,8449,8016,7902,6921,6986,6820,7351,6730,8077,8684,8629,7651,8320,8058,7313,8191,5470,7932,8532,8301,8211,7997,8102,8029,7136,2178,7824,7265,7006,4780,6959,7684,8341,8841,8749,7353,8207,7736,8228,8085,8485,8604,5303,8475,8335,8491,8483,7425,4095,7078,7021,7775,7541,7492,8359,8334,6076,8665,7600,8074,8072,8121,8241,8348,8194,8288,8311,8055,8031,7923,6858,4168,2396,7106,6861,5722,6584,7467,8268,8490,8753,7219,7797,8220,7777,8257,7140,7296,7645,7796,7624,7464,8059,7103,7232,1537,7437,7844,7984,6786,8248,8853,8842,7470,7380,5823,8210,8494,8097,7716,7877,7909,8270,7806,8336,8346,6383,5837,7124,7414,7481,470,7225,8232,8479,8822,7901,6889,8191,7787,8267,7941,8489,8291,8388,8312,8198,8227,7614,7159,6196,6338,7844,6601,6335,6002,8135,8569,8688,7444,6849,7942,7902,8312,8602,7758,7889,8400,8201,8136,8117,7233,7024,6802,7705,7598,7823,7946,7826,8667,8515,8202,8376,7759,8300,7622,7623,8278,8382,8395,8187,8247,8085,8006,6607,6984,4865,7821,7811,7493,7766,8079,8095,8612,8654,7518,8136,7074,7627,8595,7915,8061,8229,8144,7914,7852,3584,7125,6505,6776,6360,6336,5231,7343,7966,8724,8745,7546,7834,7905,7531,8105,8060,7841,8576,7794,7474,7550,6308,7835,7739,6700,42,179,6695,4873,5446,6184,8237,8455,8273,7653,8104,7603,7960,7963,8570,7808,8385,8148,7841,7807,3650,1025,6017,7274,6825,7129,6353,7147,6946,7880,8200,6979,7761,8112,8192,5127,7915,8434,6978,8096,8062,7732,7973,6926,6579,6675,7109,1143,5936,6826,7817,5732,8611,7461,7217,8257,7911,7908,7698,7984,7724,8429,7826,7794,8349,7788,2272,6157,3364,8054,7392,6132,6198,5495,7543,8113,7161,8211,7225,8156,7497,8055,7866,8558,8348,8061,8556,8152,8554,7611,7298,8913,7790,7698,7758,7938,7918,8671,8685,7124,7940,7798,8026,7597,7349,8124,8049,7935,8191,8853,7964,7953,6382,6826,6766,7667,7544,8134,8737,8480,7452,8244,8055,7809,8500,7274,7987,8490,8220,8103,8126,8041,7920,7226,6676,7777,7198,7192,3711,6849,7529,8414,8834,8770,7115,8186,7646,8224,8199,8389,6973,6059,8167,8321,8462,8202,7488,5778,7017,6963,7732,7457,7424,8340,8315,8157,8606,7994,7802,8028,8129,8268,8320,8191,7918,8303,8051,8112,7993,6867,5115,2041,7178,7121,5617,6519,6669,8263,8572,8787,7306,7933,8313,7732,8329,7494,7638,7821,7865,7713,7522,8035,7128,7151,1350,7118,7684,7979,6700,8194,8822,8579,7529,7547,5549,8080,8451,8059,6993,7834,8150,8207,7865,8321,8327,5360,5958,6667,7049,7553,1944,7255,8230,8523,8780,7388,7051,8236,7339,8378,8150,8489,8180,8357,8217,8110,8138,7335,6758,6231,6356,7684,6523,6266,5946,8133,8446,8649,7439,7076,7987,7670,8332,8632,7732,7926,8367,8081,8087,8076,7009,6730,6856,5961,7624,7710,7953,7795,8417,8280,8271,8175,7409,8410,7460,7788,8321,7329,7819,8073,8195,8117,8101,6269,6978,4434,7584,7811,7455,7737,7891,8161,8603,8421,7632,8143,7106,8135,8372,8370,8049,8245,8155,7889,7747,3186,7035,6479,6823,6466,6255,4811,7112,7848,8763,8706,7276,8028,7778,7753,8239,8084,7824,8620,7881,7372,7647,6044,7874,7633,6438,-66,-72,6296,5184,5577,6191,8150,8382,8060,7174,8188,7546,8125,8239,8106,7883,7986,8056,7680,8477,3776,699,5491,7091,6742,7012,6251,6962,6908,7909,8096,7151,7906,8070,8034,6489,7931,8547,6354,7962,7959,7743,7892,6622,6502,6599,7204,1233,5863,6687,7610,7214,8571,7077,6877,8238,7607,7952,8174,7941,7710,8106,7856,7748,8273,7823,773,6739,1547,7983,7345,6122,6095,5369,7535,8167,6095,8159,7385,8161,7291,8219,7678,8748,8341,7963,8394,8116,8586,7657,7181,8233,7728,7652,7773,7844,8095,8792,8581,7289,8104,7817,8172,7683,7532,8227,7981,7939,8145,8539,7898,7842,6997,6847,6508,6501,6261,6917,7476,7498,7140,7434,7298,4488,6879,3798,7053,7764,7591,7238,7164,7190,6596,6452,5194,6357,6147,5997,3552,5784,6365,7249,7208,7297,6874,7328,7369,7705,7558,7840,7817,4264,7662,6873,7417,6140,6099,1119,5992,5866,6236,6089,5978,6769,7019,7393,6781,7228,7488,6598,7819,7689,7721,7654,7868,7491,7154,6889,6773,5516,3986,1722,6124,5470,4751,5397,5919,6876,7192,7559,6874,7453,7455,7604,7974,6727,6989,7369,6755,6597,6241,6906,5906,5894,1071,6380,3345,6430,5543,6787,7368,7422,7157,7701,5332,7580,7657,7779,4272,7528,7573,7198,6959,6952,7113,6373,5358,6162,5923,6164,3232,5764,6667,7132,7261,6898,6628,6822,6653,7694,7286,7811,7401,7716,7427,7307,7084,7178,6235,5442,5170,6767,5470,5210,5010,6665,7112,7472,6612,6529,7347,7187,7745,7761,7014,7163,7349,7193,6919,7025,6101,5245,5361,3322,6480,6050,6527,6647,7121,7113,7518,7683,6844,7531,6808,7131,7333,7148,7630,7101,7301,7030,6938,4925,5736,3060,6432,6479,6034,5679,6681,6551,7318,7402,6807,7295,6931,6973,7822,7511,7045,7144,7465,6765,6617,5365,5908,5395,5467,5461,5567,3864,5930,6430,7359,7635,6737,7203,7137,7097,7490,7128,6778,8023,6979,7028,6482,6980,7573,6330,5840,55,176,4325,4610,4936,4308,6708,6947,6902,6943,6886,7211,7454,7584,7956,6938,7344,6914,6569,8581,2220,982,2494,6518,5637,5810,5072,5705,5447,6197,6803,6027,6895,7065,7454,6147,7162,7648,7637,6741,6911,6635,6679,5254,5247,5853,5834,1017,5002,5476,6274,4804,6574,6456,6758,7188,7375,7510,7638,7618,7133,7642,6938,6762,6928,6565,961,5023,5571,6784,6328,4920,4990,4485,6111,6488,4750,7412,6930,7103,7062,7441,7063,7357,7450,6953,7306,6955,7989,5924,5922,6176,6457,6381,6337,7007,6540,7102,7606,6611,7179,7112,7403,6985,6826,7130,7060,7260,7404,7012,7304,7007,6371,5968,5803,6925,6712,7344,7923,7731,7085,7600,7388,6875,7916,6616,7344,7910,7692,7924,7382,7416,7221,6703,4603,7200,6598,6465,530,6271,6813,7703,7835,7894,6847,7359,7125,7610,7416,7846,8247,4047,7759,7434,7571,7232,6529,4781,6567,6369,6825,6811,6623,7360,7523,2917,7783,7318,7584,6597,7561,7487,7763,7688,7906,7676,7480,7252,7155,6147,4433,1984,6520,5630,5023,5735,6779,7344,7712,7936,6623,7529,7483,7433,7968,7028,7131,7363,7139,7058,6777,7313,6428,6401,838,6831,2472,7034,5996,7328,7834,7833,6995,6967,6514,7227,7576,7660,8172,7316,6947,7648,7400,7532,7533,5066,4893,6518,6624,6610,108,6295,7184,7496,7851,7012,6678,7218,6757,7668,7063,7978,7883,7865,7608,7505,7373,7042,6453,5410,5503,7088,5620,5435,5103,6964,7314,7458,7053,6560,7230,7264,7852,7903,7442,7457,7555,7282,7168,7019,6212,5852,5666,5797,6617,5589,6675,6622,7300,7124,7001,7859,6751,7324,6576,7251,7668,7710,7603,7097,7119,7208,6885,5412,5875,654,6961,6502,6156,6521,6836,6647,7284,7101,6749,7106,6771,6715,7601,7565,7265,7242,7322,6867,6618,5166,6019,5432,5702,5517,5677,4489,6065,6688,7470,7289,6649,6990,6910,6941,7380,7236,7113,7929,6749,6623,6585,4998,6777,6546,5749,51,-140,5228,4652,4657,2793,6890,7159,6928,6840,7057,7020,7548,6570,7910,7209,7674,7073,6626,7799,2813,1056,5349,6758,5914,5997,5302,5531,5800,6610,7093,6450,6908,7212,7200,5272,7142,7635,7519,6984,6895,6634,6883,4975,5019,5995,5998,879,5167,5607,6335,3422,7357,6110,6366,7117,7102,7216,7173,7283,7190,7571,6777,6586,7124,6496,643,3272,5545,6575,6472,4971,4956,4490,5985,6413,5087,7041,6208,6910,6399,7222,6930,7565,7473,6941,7271,6668,7499,6019,5889,7236,6307,6356,6240,6373,6467,7127,7535,6028,6724,6794,6974,6701,6522,7123,7101,7012,7449,8107,7164,6820,6105,6042,5866,7629,6698,8178,8740,8472,7202,8352,8064,7029,8340,4548,7922,8577,8231,8107,7962,8042,7861,7009,1981,7882,7332,7067,3031,6985,7712,8596,8864,8764,7110,8152,7697,8268,8213,8501,8744,5381,8410,7952,8413,8691,7458,5889,7202,7248,7811,7585,7521,8433,8429,7719,8671,7743,8130,8011,8131,8247,8295,8094,8190,8364,8125,8175,8010,7010,4218,2886,7294,6772,5786,6634,7882,8506,8564,8540,6500,7456,8286,7882,8489,7414,7511,7864,7963,7784,7609,8194,7231,7413,1447,7628,7896,8155,6850,8358,8886,8721,7361,7433,6181,8331,8230,8184,8007,7925,7841,8178,8041,8340,8341,6270,5272,7268,7522,7488,366,7304,8213,8546,8813,7247,6905,8251,7473,8472,7501,8488,8439,8440,8292,8175,8235,7454,7168,6370,6515,7896,6699,6465,6118,8240,8542,8435,7716,7346,8039,7905,8570,8762,7579,7919,8113,8062,8083,8155,7167,6626,6764,7878,7734,7852,8018,7918,8429,8277,8341,8450,7474,8255,6960,7758,8268,8281,8276,8076,8200,8197,8038,6481,7034,4846,5310,7852,7424,7933,8136,8104,8610,8460,7389,8160,7125,7214,8345,7532,7996,8257,8136,7905,7799,7042,7158,6571,6842,6471,6599,5461,7268,7988,8729,8587,7282,8025,7983,7651,8402,8005,7846,8477,7828,7457,7546,5650,7911,7824,6769,0,291,6648,4912,5399,6277,8341,8585,7784,7559,7977,7769,8244,7042,8581,7730,8398,8095,7767,7833,3767,113,6500,7368,6944,7249,6482,6987,7075,7946,8225,6490,7977,8072,8150,6779,7874,8501,5075,8041,7983,7602,7897,5885,6239,6885,7133,1262,5904,6759,7760,8072,8517,6892,7199,8204,7955,7982,8051,8023,7734,8459,7796,7731,8319,7798,1638,6791,4176,5625,7329,6090,6113,5500,7661,8209,6281,8002,7490,8098,7835,8231,8013,8293,8244,7942,8423,8078,8614,7740,7283,8492,7784,7711,7743,8184,8000,8610,8525,7408,8030,7939,8155,7560,7655,8215,8059,8053,8134,8989,7925,7967,6856,6943,6903,7563,6915,8075,8745,8541,7489,8303,8007,8001,8270,7226,8016,8557,8421,8179,8054,8102,6604,7290,5952,7796,7221,6862,4714,6900,7530,8436,8818,8746,7231,8177,7684,8035,8118,8453,7915,6090,8438,7904,8482,8678,7490,2395,7023,6988,7671,7412,7474,8248,8221,7947,8717,7993,7845,7966,8224,8200,8362,7802,7847,8332,8000,8105,8044,6903,4880,2207,7122,6752,5585,6398,7038,8174,8644,8778,7438,7562,8401,7877,8351,7379,7559,7792,7967,7720,7473,7908,7073,7101,1152,7212,7664,7931,6583,8174,8869,8816,7523,7578,6785,8195,8399,8006,6856,7992,8266,8303,8162,8341,8353,5323,5140,6937,7170,7484,1882,7234,8226,8584,8875,7296,7327,8141,7532,8405,7904,8386,8252,8425,8201,8110,8141,7246,6714,6130,6357,7664,6442,6214,5942,7973,8533,8743,7587,7491,7956,7718,8338,8684,7889,7885,8009,8119,8197,8140,6937,5569,6791,7700,7695,7601,8021,8101,8653,8568,8342,8218,7633,8325,7695,7726,8100,7671,7916,8102,8172,7906,7983,5892,6883,4789,7243,7670,7207,7822,7911,8034,8697,8633,7745,8194,7229,8243,8269,8270,8149,8192,8156,8012,7912,2417,7250,6547,6847,6492,6387,6730,7400,7987,8790,8788,7591,8062,7878,7761,8299,8020,7836,8417,7903,7871,7911,6882,8070,7709,6294,-23,94,4633,4920,5746,6240,8041,8376,8455,7408,8139,7508,8070,8388,7748,7923,8284,8201,7893,8097,3719,84,5808,6994,6750,6926,6130,6878,6737,7821,8272,7584,8111,8194,8029,7181,7978,8524,7473,8030,8046,7849,7960,6544,6091,6467,7217,1316,5818,6634,7623,8137,8596,7443,7431,8013,7340,8035,7948,7942,7705,8281,7919,7832,8376,7902,430,7055,1502,2166,7395,6103,6064,5564,7433,8133,7687,8204,7554,8083,7482,8101,7915,8721,8341,8045,8408,8253,8670,7800,7265,7894,7752,7647,7822,7863,8104,8771,8720,7419,8161,8636,8234,7687,7705,8200,7987,7879,8028,8869,7758,7505,6422,6128,5932</tupleList>\\n    </DataBlock>\\n  </rangeSet>\\n\\n  <coverageFunction>\\n    <GridFunction>\\n      <sequenceRule axisOrder=\"+3 +2 +1\">Linear</sequenceRule>\\n      <startPoint>3712 735 9111</startPoint>\\n    </GridFunction>\\n  </coverageFunction>\\n\\n  <gmlcov:rangeType>\\n    <swe:DataRecord>\\n    <swe:field name=\"b1\">\\n      <swe:Quantity xmlns:swe=\"http://www.opengis.net/swe/2.0\"><swe:label>pixel_value</swe:label><swe:uom code=\"undefined\" /></swe:Quantity>\\n    </swe:field>\\n    </swe:DataRecord>\\n  </gmlcov:rangeType>\\n<gmlcov:metadata/>\\n</gmlcov:RectifiedGridCoverage>\\n'",
       "output_type": "pyerr",
       "traceback": [
        "\u001b[1;31m---------------------------------------------------------------------------\u001b[0m\n\u001b[1;31mIOError\u001b[0m                                   Traceback (most recent call last)",
        "\u001b[1;32m<ipython-input-93-8319260db436>\u001b[0m in \u001b[0;36m<module>\u001b[1;34m()\u001b[0m\n\u001b[0;32m      1\u001b[0m \u001b[1;32mimport\u001b[0m \u001b[0mxml\u001b[0m\u001b[1;33m.\u001b[0m\u001b[0mdom\u001b[0m\u001b[1;33m.\u001b[0m\u001b[0mminidom\u001b[0m\u001b[1;33m\u001b[0m\u001b[0m\n\u001b[0;32m      2\u001b[0m \u001b[1;33m\u001b[0m\u001b[0m\n\u001b[1;32m----> 3\u001b[1;33m \u001b[0mxml\u001b[0m \u001b[1;33m=\u001b[0m \u001b[0mxml\u001b[0m\u001b[1;33m.\u001b[0m\u001b[0mdom\u001b[0m\u001b[1;33m.\u001b[0m\u001b[0mminidom\u001b[0m\u001b[1;33m.\u001b[0m\u001b[0mparse\u001b[0m\u001b[1;33m(\u001b[0m\u001b[0mresult\u001b[0m\u001b[1;33m)\u001b[0m \u001b[1;31m# or xml.dom.minidom.parseString(xml_string)\u001b[0m\u001b[1;33m\u001b[0m\u001b[0m\n\u001b[0m\u001b[0;32m      4\u001b[0m \u001b[1;31m#pretty_xml_as_string = xml.toprettyxml()\u001b[0m\u001b[1;33m\u001b[0m\u001b[1;33m\u001b[0m\u001b[0m\n",
        "\u001b[1;32mC:\\Python27x86\\lib\\xml\\dom\\minidom.pyc\u001b[0m in \u001b[0;36mparse\u001b[1;34m(file, parser, bufsize)\u001b[0m\n\u001b[0;32m   1916\u001b[0m     \u001b[1;32mif\u001b[0m \u001b[0mparser\u001b[0m \u001b[1;32mis\u001b[0m \u001b[0mNone\u001b[0m \u001b[1;32mand\u001b[0m \u001b[1;32mnot\u001b[0m \u001b[0mbufsize\u001b[0m\u001b[1;33m:\u001b[0m\u001b[1;33m\u001b[0m\u001b[0m\n\u001b[0;32m   1917\u001b[0m         \u001b[1;32mfrom\u001b[0m \u001b[0mxml\u001b[0m\u001b[1;33m.\u001b[0m\u001b[0mdom\u001b[0m \u001b[1;32mimport\u001b[0m \u001b[0mexpatbuilder\u001b[0m\u001b[1;33m\u001b[0m\u001b[0m\n\u001b[1;32m-> 1918\u001b[1;33m         \u001b[1;32mreturn\u001b[0m \u001b[0mexpatbuilder\u001b[0m\u001b[1;33m.\u001b[0m\u001b[0mparse\u001b[0m\u001b[1;33m(\u001b[0m\u001b[0mfile\u001b[0m\u001b[1;33m)\u001b[0m\u001b[1;33m\u001b[0m\u001b[0m\n\u001b[0m\u001b[0;32m   1919\u001b[0m     \u001b[1;32melse\u001b[0m\u001b[1;33m:\u001b[0m\u001b[1;33m\u001b[0m\u001b[0m\n\u001b[0;32m   1920\u001b[0m         \u001b[1;32mfrom\u001b[0m \u001b[0mxml\u001b[0m\u001b[1;33m.\u001b[0m\u001b[0mdom\u001b[0m \u001b[1;32mimport\u001b[0m \u001b[0mpulldom\u001b[0m\u001b[1;33m\u001b[0m\u001b[0m\n",
        "\u001b[1;32mC:\\Python27x86\\lib\\xml\\dom\\expatbuilder.pyc\u001b[0m in \u001b[0;36mparse\u001b[1;34m(file, namespaces)\u001b[0m\n\u001b[0;32m    920\u001b[0m \u001b[1;33m\u001b[0m\u001b[0m\n\u001b[0;32m    921\u001b[0m     \u001b[1;32mif\u001b[0m \u001b[0misinstance\u001b[0m\u001b[1;33m(\u001b[0m\u001b[0mfile\u001b[0m\u001b[1;33m,\u001b[0m \u001b[0mStringTypes\u001b[0m\u001b[1;33m)\u001b[0m\u001b[1;33m:\u001b[0m\u001b[1;33m\u001b[0m\u001b[0m\n\u001b[1;32m--> 922\u001b[1;33m         \u001b[0mfp\u001b[0m \u001b[1;33m=\u001b[0m \u001b[0mopen\u001b[0m\u001b[1;33m(\u001b[0m\u001b[0mfile\u001b[0m\u001b[1;33m,\u001b[0m \u001b[1;34m'rb'\u001b[0m\u001b[1;33m)\u001b[0m\u001b[1;33m\u001b[0m\u001b[0m\n\u001b[0m\u001b[0;32m    923\u001b[0m         \u001b[1;32mtry\u001b[0m\u001b[1;33m:\u001b[0m\u001b[1;33m\u001b[0m\u001b[0m\n\u001b[0;32m    924\u001b[0m             \u001b[0mresult\u001b[0m \u001b[1;33m=\u001b[0m \u001b[0mbuilder\u001b[0m\u001b[1;33m.\u001b[0m\u001b[0mparseFile\u001b[0m\u001b[1;33m(\u001b[0m\u001b[0mfp\u001b[0m\u001b[1;33m)\u001b[0m\u001b[1;33m\u001b[0m\u001b[0m\n",
        "\u001b[1;31mIOError\u001b[0m: [Errno 2] No such file or directory: '<?xml version=\"1.0\" encoding=\"UTF-8\"?>\\n<gmlcov:RectifiedGridCoverage\\n    xmlns=\\'http://www.opengis.net/gml/3.2\\'\\n    xmlns:gml=\\'http://www.opengis.net/gml/3.2\\'\\n    xmlns:gmlcov=\\'http://www.opengis.net/gmlcov/1.0\\'\\n    xmlns:swe=\\'http://www.opengis.net/swe/2.0\\'\\n    xmlns:xsi=\\'http://www.w3.org/2001/XMLSchema-instance\\'\\n    xmlns:wcs=\\'http://www.opengis.net/wcs/2.0\\' gml:id=\"modis_13c1_cov\"\\n    xsi:schemaLocation= \\'http://www.opengis.net/wcs/2.0 http://schemas.opengis.net/wcs/2.0/wcsAll.xsd\\'>\\n\\n  <boundedBy>\\n    <Envelope srsName=\"http://localhost:8080/def/crs-compound?1=http://localhost:8080/def/crs/EPSG/0/4326&amp;2=http://localhost:8080/def/crs/OGC/0/AnsiDate\" axisLabels=\"Lat Long ansi\" uomLabels=\"9122 9122 d\" srsDimension=\"3\">\\n      <lowerCorner>53.05 5.6 145775</lowerCorner>\\n      <upperCorner>53.25 5.8 151231</upperCorner>\\n    </Envelope>\\n  </boundedBy>\\n\\n  <domainSet>\\n    <RectifiedGrid dimension=\"3\" gml:id=\"modis_13c1_cov-grid\">\\n      <limits>\\n        <GridEnvelope>\\n          <low>3712 735 9111</low>\\n          <high>3715 738 9451</high>\\n        </GridEnvelope>\\n      </limits>\\n      <axisLabels>Long Lat ansi</axisLabels>\\n      <origin>\\n          <Point gml:id=\"modis_13c1_cov-origin\" srsName=\"http://localhost:8080/def/crs-compound?1=http://localhost:8080/def/crs/EPSG/0/4326&amp;2=http://localhost:8080/def/crs/OGC/0/AnsiDate\" axisLabels=\"Lat Long ansi\" uomLabels=\"9122 9122 d\" srsDimension=\"3\">\\n              <pos>53.225 5.625 145783</pos>\\n          </Point>\\n      </origin>\\n      <offsetVector srsName=\"http://localhost:8080/def/crs-compound?1=http://localhost:8080/def/crs/EPSG/0/4326&amp;2=http://localhost:8080/def/crs/OGC/0/AnsiDate\" axisLabels=\"Lat Long ansi\" uomLabels=\"9122 9122 d\" srsDimension=\"3\">0 0.05 0</offsetVector>\\n      <offsetVector srsName=\"http://localhost:8080/def/crs-compound?1=http://localhost:8080/def/crs/EPSG/0/4326&amp;2=http://localhost:8080/def/crs/OGC/0/AnsiDate\" axisLabels=\"Lat Long ansi\" uomLabels=\"9122 9122 d\" srsDimension=\"3\">-0.05 0 0</offsetVector>\\n      <offsetVector srsName=\"http://localhost:8080/def/crs-compound?1=http://localhost:8080/def/crs/EPSG/0/4326&amp;2=http://localhost:8080/def/crs/OGC/0/AnsiDate\" axisLabels=\"Lat Long ansi\" uomLabels=\"9122 9122 d\" srsDimension=\"3\">0 0 16</offsetVector>\\n    </RectifiedGrid>\\n  </domainSet>\\n\\n  <rangeSet>\\n    <DataBlock>\\n      <rangeParameters/>\\n      <tupleList ts=\",\" cs=\" \">5473,3431,5557,5830,6837,6109,7149,7299,6098,6584,7366,6935,7400,7428,7091,6862,6733,6579,5274,3170,5516,5285,5047,4465,5061,5546,6585,6118,6520,5782,6724,7699,8131,7654,7568,7173,6413,6854,6545,6658,6484,5491,3780,5324,5126,5482,5294,4904,5387,5539,5974,6025,7390,7711,8011,8123,7290,6984,7053,7145,6785,6407,6199,6276,4078,3090,1098,5525,5228,4454,4926,5378,6118,6555,7312,6758,7884,8106,7724,7294,5431,6413,6463,6428,6630,6150,6695,6059,2959,758,5755,6345,5660,4912,5661,6851,6875,6449,6946,7165,8368,7995,7126,7429,6558,6995,6801,6250,6680,6494,4123,5021,5029,5424,5617,1313,4796,5767,6832,6541,6119,6257,7309,7033,8103,6130,7369,7012,7318,7091,6750,6845,6640,5918,4854,5057,6345,5182,4966,4404,6109,7045,7333,6489,6910,7990,7539,7165,7712,6770,6719,7005,6680,7069,6708,5537,5044,5135,5511,5731,5829,5721,5390,6533,6813,7694,7943,7494,7858,7377,6504,6694,6921,6844,6810,7001,7021,6553,4935,5351,3252,3984,6026,5844,5849,6462,6055,7024,7103,7008,7807,7434,7626,7272,7050,6502,6477,6601,6350,6237,4654,5139,4576,4645,4767,4856,3304,5075,5338,6439,6778,6224,7230,7832,7779,7358,7067,6331,7493,6333,6497,6637,6919,7187,6088,5645,103,6689,5744,4762,4844,5401,6556,6658,6810,7188,7623,7517,7710,7017,7180,6743,6639,6663,6772,8140,2519,1444,3495,6031,5101,5379,4516,4963,4996,5906,6814,6483,7471,8235,8146,7832,6790,7130,6091,6395,6513,6246,5925,2708,5132,6461,5637,632,5136,5188,5708,6723,7667,6571,6825,7873,7669,7526,7028,6846,6916,7234,6477,6444,6838,6266,553,4023,4393,6243,6324,4603,4463,3960,5587,6066,6628,7000,7032,7890,7622,7375,6616,6941,7210,6795,7095,6533,7169,5584,5526,6867,5986,6097,5784,5713,6167,6490,7608,6830,7210,7253,7736,7315,6505,6648,6676,6706,6932,5565,7189,6919,6324,6066,5485,7020,5826,7428,7833,8031,7204,7573,7469,7605,6836,7692,7520,8168,8076,7719,7358,7477,7384,6546,4862,7294,6789,6346,4384,6345,6961,7823,8074,8050,6807,7561,7327,8141,7930,8240,7705,6915,8017,7858,7948,7701,6806,3696,6672,6582,7142,6912,6788,7523,7617,5290,7639,7607,7547,7986,8065,8020,8108,7745,8075,7902,7555,7521,7366,5475,3603,2434,6723,6217,5379,6098,6517,7653,7984,8260,7053,7485,8012,7875,8183,6872,7426,7555,7415,7393,7068,7663,6909,6708,942,6306,7366,7410,6241,7517,8240,8108,7065,7152,6625,7989,8348,7970,8435,7550,7849,7913,7386,7873,7864,5757,5731,6054,6963,7043,2977,6662,7585,7798,8054,7045,6809,7484,7181,8094,6135,8167,7918,8055,7940,7792,7807,7549,7093,5921,6127,7366,6351,6039,5674,7518,7998,8133,6694,6716,7854,7521,7760,8184,7534,7680,7766,7708,7580,7752,6503,5141,6532,7603,7306,7461,7453,7363,8046,8029,7681,8134,7487,8020,7797,7414,8052,8144,8128,7713,7905,8154,7635,5784,6483,5093,6357,7337,7084,7283,7427,7447,8079,8100,7093,7802,7134,7903,8198,8186,7765,7757,7758,7489,7286,6730,6716,6116,6204,5995,6117,4694,6796,7224,8186,8206,7080,7797,7502,7400,7999,7754,7526,8134,7641,7217,7360,4185,7837,7042,6432,3,7489,6781,5492,5432,6806,7834,7918,7615,7216,7799,7330,7815,7492,8423,7972,7758,7774,7699,8480,3048,2368,2546,7153,6528,6716,6094,6347,6632,7533,7808,7078,7556,7844,7878,5234,7776,8247,6950,7727,7625,7328,7438,6802,6329,6916,6701,1111,5879,6483,7199,5418,8377,6732,6762,7837,7267,7704,7867,7641,7634,8123,7339,7232,7915,7394,1592,4940,2577,7326,7591,5745,5790,5173,7255,7739,6956,7870,7047,7766,7418,7814,7550,8365,8089,7690,8041,7627,8289,6996,6803,8698,7466,7404,7373,7511,7933,8427,8362,7372,7678,7672,7920,7461,7382,7778,7938,7816,8620,7888,8114,7920,7097,7112,6860,7690,7499,8249,8731,8484,7376,7971,7920,7572,8218,7801,7666,8235,8305,8114,7868,8136,8011,7271,6782,7864,7320,6946,7295,6958,8049,8415,8769,8540,7379,7906,7641,8263,7983,8413,5195,5638,8009,8391,8508,8124,7497,2960,7111,6874,7803,7544,7449,8453,8443,7072,8454,7831,7687,7945,8178,8172,8335,8159,7313,8252,7995,8079,8007,6907,4275,3223,7263,7233,5750,6576,6747,8337,8544,8685,6992,7764,8191,8003,8333,7268,7636,7892,7965,7757,7593,8108,7325,7372,1299,6645,7806,8147,7013,8382,8898,8744,7491,7623,6758,8027,8268,8232,8761,7830,7954,8409,7832,8410,8456,6823,6070,6637,7577,7714,717,7389,8378,8557,8762,7358,7040,7970,7425,8331,6426,8456,8357,8316,8327,8224,8190,6583,7339,6392,6484,7806,6720,6422,6139,7937,8560,8480,7291,7225,7800,7634,8257,8480,7989,7996,8052,8100,8019,8090,7165,5671,7061,7008,7720,7910,8073,8143,8561,8287,8199,8374,7765,8045,7157,7826,8319,8446,8232,8208,8226,8354,8082,6863,7020,5710,7754,7912,7725,7908,8057,8220,8586,8389,7396,8165,7171,8092,8008,8651,8144,8157,8175,7978,7907,3061,7365,6673,6901,6572,6506,5745,7500,8184,8906,8682,7486,8151,7833,7599,8308,8141,7806,8671,8004,7862,7727,6838,8397,7674,6849,-2,56,6974,5603,5705,6480,8362,8424,8000,7691,8008,7383,7892,8100,8454,8041,7938,8207,7929,8293,3960,1762,2665,7280,6970,7141,6465,7033,7173,7983,8226,7146,7975,8132,7913,7315,7979,8551,6747,8109,8076,7761,7753,7061,6964,6658,7068,1525,6226,6932,7905,7267,8653,7164,7216,8252,7206,7997,8145,8090,7951,8537,7898,7839,8428,7820,4347,6912,1174,5459,7814,6298,6351,5543,7828,8309,7193,8056,7182,8101,7672,8015,7972,8761,8475,8085,8440,8133,9098,7445,7213,9102,7882,7807,7860,7990,8060,8790,8527,7356,8032,8049,8144,7759,7716,8256,8190,7987,8723,8020,7998,8046,7126,7175,7010,7796,7914,8426,8937,8304,6917,7873,8076,7776,8473,8265,7935,8476,8275,8208,8164,8185,8201,7590,7134,8015,7408,7378,7267,7150,8019,8684,8782,8782,7037,8009,7747,8366,8228,8460,6041,5981,8136,8431,8561,8311,7631,3544,7209,7016,7921,7639,7638,8643,8639,4107,8675,8012,7806,8352,8395,8380,8281,8265,8319,8324,7956,8209,8151,7238,5003,4206,7544,7452,5982,6862,7112,8672,8701,8866,6958,7865,8386,7950,8471,7378,7815,8139,8183,7959,7805,8371,7585,5304,1669,6936,7974,8363,7185,8648,9047,8838,7397,7649,6616,8091,8563,8327,8809,8084,8206,8474,8009,8521,8556,6114,6348,6943,7739,7900,2346,7645,8641,8844,8926,7345,6721,8428,7593,8468,8462,8594,8416,8314,8345,8340,8319,5852,7161,6768,6772,7974,6880,6656,6407,8407,8780,8529,7418,7433,7897,7715,8329,8573,7682,7916,8295,8123,7801,8218,7282,6633,7291,5124,7924,8090,8268,8213,8780,8325,8411,8014,7596,8412,6625,7776,8432,8335,8399,8398,8414,8526,8333,7543,7322,4284,7502,8204,7707,8365,8133,8382,8734,8295,7758,7958,7017,8290,8467,8712,7985,8234,8304,8066,7938,2221,7293,6802,7033,6755,6586,6448,7541,8286,8935,8656,7105,8134,7701,7625,8321,8012,7977,8738,7942,7950,7785,7435,9100,7874,6862,-104,525,7046,5671,5519,6783,8479,8622,7854,7369,8198,7176,7930,7748,8414,7942,8247,8141,7725,8473,4104,2126,4151,7408,6929,7071,6484,7024,7215,8033,8453,7297,8098,8659,7903,7403,7653,8616,7768,8078,8040,7775,7627,6384,6342,7683,7098,1453,6352,7058,8025,7508,8723,6813,6895,8144,7806,8149,8294,8167,8070,8520,8113,7868,8403,8102,2097,6232,1387,8092,7802,6399,6446,5668,7926,8432,6337,8262,7175,8270,7415,8190,7676,8532,8540,8159,8498,8255,9049,7505,7294,8059,8071,7972,8124,8088,8449,8830,8451,6895,8010,7997,8268,7742,7638,8356,8138,8055,8422,8332,7985,8074,7256,7147,6600,5755,6657,5953,6117,6832,6088,7180,7090,6576,6300,6726,7163,7393,7170,7134,7088,6702,6541,5554,717,5848,5633,5397,5676,5496,5838,6877,6507,6766,5796,6780,7204,7864,7559,7732,7710,6347,7180,6678,6979,6703,5584,1558,5637,5474,5844,5730,5386,5907,6033,6693,6401,7192,7334,7623,7760,7263,7111,7151,7364,7017,6401,6478,6347,4227,3090,928,5734,4976,4620,5178,5433,6151,6697,7158,6431,7368,7641,7491,7421,6204,6514,6629,6573,6601,6165,6736,5821,4330,948,6182,6444,6098,5241,6227,7253,6969,6432,6710,7058,7873,7896,7280,7193,6860,7363,7082,6801,6995,6380,5039,4265,5624,5694,6086,2658,5376,6317,7104,6850,6348,6364,7240,6831,7791,5634,7361,7220,7384,7177,6984,6976,6975,5829,4887,4904,6444,5334,5085,4669,6393,7154,7268,6265,6695,7586,7420,7437,7909,6963,6971,7306,6988,7094,6902,5731,5033,5437,6010,6258,6449,6226,6021,6797,6904,7494,7693,7482,7651,7316,6831,7130,7227,7120,6954,7067,6681,6640,4677,5504,4221,2208,6358,6013,6228,6612,6236,6941,7013,6763,7310,7066,7317,7971,7515,7163,6951,7034,6640,6462,4870,5494,4965,5088,5318,5300,4051,5718,6170,7014,7214,6548,7361,7425,7412,7364,7266,6708,7989,6902,6790,6647,6780,6931,6059,5637,68,2370,5701,5055,5115,5121,6770,6784,6896,6926,7330,7247,7468,7565,8249,7053,7531,7055,7000,8288,2817,1622,4424,6609,5617,5837,5111,5682,5647,6477,6952,6611,7201,7745,7804,7509,7240,7543,2695,6850,6891,6684,6688,2737,4204,6347,5784,784,5307,5704,6373,6815,7405,6391,6675,7735,6083,7410,7286,7121,7044,7649,6895,6851,7167,6545,638,4306,3597,6671,6617,5024,5002,4430,6123,6532,6907,7196,6986,7567,7411,7590,7086,6908,7556,7090,7464,6906,7818,5829,5731,6864,6593,6559,6429,6329,6712,6965,7757,6221,7271,7282,7606,7278,6523,7203,7068,6995,7138,6140,7322,7041,6085,6049,5567,7216,7487,7812,8330,8628,7715,8002,7811,7755,7097,7173,7771,8377,8167,8019,7718,7867,7750,7014,5253,7666,7031,6762,2896,6768,7355,8055,8574,8556,7425,7954,7506,8145,7981,8378,8201,7172,8390,8284,8209,7874,7160,4852,6868,6559,7466,7240,7084,8023,8082,7199,8047,7835,7908,7437,7951,8173,8281,7985,8016,8288,7913,6670,7751,6113,3787,2458,7032,6503,5589,6427,7046,8133,8527,8805,7214,7816,8026,7739,8263,6887,7292,7635,7766,7620,7362,7939,7006,7090,1157,7306,7639,7834,6622,8040,8752,8842,7645,7400,8133,8135,7985,8043,7874,7814,8146,8251,7881,8250,8215,5836,5412,6990,7404,7340,1077,7174,8115,8340,8671,7831,7002,8116,7408,8288,6869,8382,8264,8227,8162,8095,8089,7647,7311,5982,6306,7639,6489,6252,5918,7856,8416,8653,7044,6946,7955,7622,8068,8321,7802,7804,8234,8131,7516,7981,6984,5480,6968,7421,7553,7562,7895,7960,8618,8510,8020,8326,7828,8036,7671,7429,8144,8396,8173,8010,8199,7957,7934,6074,6829,3659,3952,7725,7372,7751,7935,7933,8577,8615,7363,8125,7048,7761,8351,8377,7947,7882,8045,7843,7705,6435,7068,6363,6676,6366,6522,5598,7295,7828,8794,8770,7340,7993,7795,7424,8084,7854,7546,8566,7675,7667,7381,6667,7773,7597,6623,96,7748,6820,5624,5636,6814,8109,8242,8309,7380,8113,7474,7682,7628,8461,8019,7711,8088,7835,8866,3295,1672,3222,7361,6750,6853,6218,6570,6801,7741,8227,7045,7636,8141,8096,7713,7891,8414,5405,7892,7902,7608,7934,6899,6274,7093,6891,983,5909,6689,7584,5142,8395,7329,7132,8138,5949,7786,7627,7871,7775,8350,7857,7640,8322,7775,749,5816,7129,7558,7878,6011,5728,5321,7445,7999,6552,8233,7155,8031,7121,7842,7481,8149,8317,7861,8228,7887,8311,7135,7103,8773,7643,7590,7594,7630,8100,8637,8649,7247,7695,7853,7866,7571,7349,7950,8059,7776,8276,7935,8168,7928,6909,7086,6900,7395,5117,8073,8631,8677,7833,8271,7810,7862,8261,5820,7704,8398,8388,8088,8036,8051,7953,7214,5559,7755,7137,6945,5470,6943,7609,8231,8694,8647,7572,8160,7564,8303,8204,8446,7008,4827,8199,8425,8452,8051,7397,4718,6959,6796,7750,7483,7341,8315,8344,6054,8513,7797,8004,7612,8187,8157,8394,8174,8121,8251,8001,8029,7911,6843,4064,2643,7145,7044,5762,6640,7094,8228,8632,8839,7399,7734,8141,7822,8375,7261,7421,7784,7835,7622,7449,7998,7157,7261,1410,7093,7821,7997,6871,8287,8880,8890,7843,7598,7031,7829,7961,8236,8408,7925,8109,8301,7810,8312,8322,6910,5352,6778,7396,7546,-180,7291,8290,8473,8787,7813,7151,8012,7553,8261,7764,8460,8285,8321,8267,8160,8166,8315,7218,6133,6359,7821,6595,6309,5987,7985,8575,8658,7190,7122,7859,7769,8369,8589,7875,7878,8146,8174,7915,8063,7156,6743,6958,7629,7535,7669,7906,7892,8649,8403,8375,8441,7720,8141,6667,7523,8267,8409,8059,8036,8103,8010,7869,6460,6828,4956,7597,7686,7406,7642,8037,8040,8627,8616,7640,8255,6992,8132,7815,8560,8118,8383,7944,7911,7824,2866,7119,6497,6713,6384,6435,5786,7380,7954,8813,8702,7582,8101,7757,7423,8350,8018,7833,8597,7844,7786,7596,6748,7802,7625,6508,41,114,6702,5423,5631,6515,8249,8312,8316,7717,8141,7353,7809,7690,8333,8017,8195,8197,7861,8076,3515,1874,3359,7170,6815,7074,6322,7131,6946,7942,8181,7704,7780,8034,8198,6209,7946,8546,6075,8050,7999,7698,7903,6927,6658,6479,7123,1414,6041,6829,7751,5925,8632,7580,7497,8332,7514,7996,7819,8093,7820,8445,7904,7792,8284,7664,3921,6116,1646,4223,7595,6190,6265,5418,7586,8116,6864,8148,7215,8124,7546,8016,7898,8739,8509,8145,8461,8174,8531,7720,7235,8945,7775,7717,7781,8001,7937,8793,8689,7313,8177,8006,8118,7686,7544,8229,8093,7899,8441,8524,8000,7932,6572,6777,6595,7687,7436,8207,8707,8354,7034,8180,7928,7900,8374,7460,7790,8405,8244,8132,8153,8027,7995,7345,6805,7821,7221,7316,5087,6933,7445,8429,8778,8670,6986,8038,7570,8272,8171,8488,4589,6954,8320,8269,8405,8061,7469,5177,7034,6787,7752,7522,7442,8383,8339,6971,8547,7970,7833,7956,8376,8319,8207,8262,7951,8324,8110,8171,8023,6943,4334,3345,7365,7075,5735,6606,6820,8402,8538,8816,6796,7879,8336,7799,8433,7590,7821,8122,7982,7767,7566,8131,7279,6206,1557,7096,7817,8056,6876,8290,8843,8601,7220,7462,5232,8034,7997,8137,8655,7868,7835,8302,7820,8370,8371,5584,6177,6572,7365,7580,657,7310,8273,8535,8746,7428,6665,8191,7508,8308,8383,8445,8289,8360,8228,8209,8194,7253,6950,6407,6501,7817,6632,6418,6146,8193,8440,8513,6970,6752,7822,7688,8305,8604,7730,7973,8359,8070,7509,8099,7170,6663,6893,3797,7668,7844,8007,7852,8521,8259,8217,8038,7598,8398,7096,7880,8449,7881,8286,8107,8205,8310,8182,7248,7107,4146,7609,7954,7419,8037,7786,8153,8512,8264,7676,8080,6993,8397,8379,8700,7817,8227,8002,7815,7723,2350,7200,6498,6824,6493,6321,5460,7189,7881,8662,8598,6984,7873,7699,7561,8166,8099,7903,8707,8014,7751,7629,7376,7941,7694,6535,-77,1,7050,5300,5451,6321,8200,8328,7845,7150,8241,7379,8115,7850,8380,7861,7665,8015,7560,8518,3764,2013,5656,7215,6844,7039,6348,6879,7038,7840,8099,7215,7940,8034,7874,6245,7856,8534,7663,7967,7790,7704,7862,6894,6827,6807,7081,1652,6075,6849,7771,6781,8565,6849,6723,8214,7613,8012,8016,8118,7985,8400,7903,7631,8171,7819,880,6144,1282,6099,7418,6223,6231,5514,7626,8174,6486,8282,7182,8282,7376,8180,7698,8684,8464,8059,8380,8134,8548,7809,7182,8339,7859,7739,7894,8002,8250,8789,8568,7034,8060,7976,8119,7507,7694,8345,8057,8044,8372,8758,7921,7908,7117,6975,6339,6797,5519,7106,7583,7625,6821,7675,7559,5665,6910,6555,7529,8004,7702,7679,7388,7344,7227,6617,5042,6580,6366,6450,6302,6171,6763,7649,7671,7768,6532,7650,7679,8075,7941,8111,8262,6166,7849,7074,7736,7071,6472,1888,6310,6167,6759,6545,6274,7150,7298,7424,6848,7816,7701,8131,8211,8002,7917,7849,7856,7724,7170,7307,7148,5635,871,1258,6574,6070,5130,5799,6294,7240,7596,7607,6647,7293,7963,8000,8118,6008,7270,7466,7206,7098,6850,7489,6468,6363,1055,6777,6216,6775,5873,7012,7771,7834,6950,7199,7643,7888,8095,8002,5671,7745,7878,7493,7331,7472,7369,6266,4911,6468,6104,6624,4083,6071,7001,7454,7464,6753,6486,7235,7158,8172,7319,8156,7874,7977,7644,7366,7393,7404,6515,5559,5527,7221,5877,5560,5246,7104,7549,7661,6798,6814,7963,7654,8027,7933,7450,7376,7570,7329,7392,7388,6403,5542,5984,4072,6746,6962,6898,6778,7276,7134,7641,7865,7483,7996,7476,7325,7558,7212,7680,7234,7445,6959,7240,5563,6139,4128,3639,6855,6595,6128,7140,6812,7538,7634,7006,7790,7230,7417,8010,7835,7348,7241,7476,6992,6868,5562,6172,5588,5781,5814,5923,4289,6410,6776,7708,7726,6704,7533,7550,7669,7723,7401,6919,8230,7239,7176,6866,7409,7471,6893,6281,211,315,5360,5274,5156,5105,7333,7386,7310,7260,7666,7464,7763,7575,8137,7200,7545,7359,7056,8791,3289,1366,2688,6918,5991,6274,5513,6165,6094,6799,7409,6535,7524,7889,7893,8083,7413,7635,7805,7066,7103,6853,6953,3614,4176,6456,6039,1057,5394,5938,6679,6512,7566,6707,7036,7903,7522,7653,7433,7368,7131,7957,7056,6992,7455,6985,782,5551,5209,7081,6860,5310,5286,4700,6553,6980,6709,7862,7255,7579,7593,7789,7258,7963,7726,7212,7650,7342,8278,6289,6296,6807,6932,6942,6826,7348,7167,7739,8137,6706,7686,7743,7829,7215,6883,7443,7381,7463,7800,6842,7637,7508,6345,6477,6104,7220,6423,7746,8332,8546,7691,8079,7797,7489,7917,7115,7751,8386,8164,8272,7753,7915,7754,6947,5515,7594,6997,6874,1411,6776,7403,8069,8580,8547,7618,7948,7642,8087,7829,8376,8546,7094,8352,8224,8116,7486,7027,5323,6804,6677,7407,7236,7134,8035,8018,4326,7925,7917,7858,7378,7955,8042,8277,8122,7990,8251,7804,6947,7660,6622,4016,2337,6999,6454,5590,6428,7408,8028,8462,8748,7187,7982,7973,7663,8255,6823,7290,7721,7801,7569,7340,7854,6956,7064,1143,7356,1596,7753,6574,8020,8665,8809,7768,7572,7526,7993,8168,8070,7560,7951,7756,8214,7975,8112,8077,5825,5333,7041,7303,7298,977,7078,8019,8223,8610,7791,7187,8060,7342,8324,7622,8426,8246,8154,8137,8103,8021,7761,7186,5902,6175,7688,6377,6159,5792,7663,8323,8571,7456,7021,7897,7646,8161,8383,7765,7753,8263,8145,7887,7916,6845,6626,6560,7146,7412,7319,7762,7832,8534,8445,8174,8428,7833,7667,7681,7538,8040,8510,8184,8012,8147,8124,7770,6022,6774,3687,2186,7623,7274,7696,7840,7793,8486,8551,7560,8108,7008,7876,8418,8137,7876,8000,8080,7809,7639,5860,6982,6313,6609,6309,6441,5601,7239,7803,8708,8713,7564,8064,7804,7392,8045,7875,7428,8518,7612,7710,7474,6550,7723,7568,6573,120,1118,6661,5659,5501,6095,8008,8198,8364,7538,8175,7382,7854,7513,8386,7920,7613,8059,7778,8837,3141,1384,3289,7383,6754,6776,6160,6500,6764,7712,8209,6894,7743,8082,7967,7078,7798,8195,6984,7884,7904,7606,7914,6764,6401,7009,6877,1098,5848,6625,7559,5345,8470,7514,7457,8077,7347,7681,7464,7865,7738,8345,7843,7604,8300,7715,880,5634,6796,7559,7886,6046,5874,5412,7419,7935,6935,8243,7400,7905,7247,7907,7497,8258,8287,7885,8253,7871,8341,7177,7046,8616,7506,7447,7502,7531,7879,8563,8753,7178,7899,7664,7905,7661,7242,7791,8006,7619,8207,8449,8016,7902,6921,6986,6820,7351,6730,8077,8684,8629,7651,8320,8058,7313,8191,5470,7932,8532,8301,8211,7997,8102,8029,7136,2178,7824,7265,7006,4780,6959,7684,8341,8841,8749,7353,8207,7736,8228,8085,8485,8604,5303,8475,8335,8491,8483,7425,4095,7078,7021,7775,7541,7492,8359,8334,6076,8665,7600,8074,8072,8121,8241,8348,8194,8288,8311,8055,8031,7923,6858,4168,2396,7106,6861,5722,6584,7467,8268,8490,8753,7219,7797,8220,7777,8257,7140,7296,7645,7796,7624,7464,8059,7103,7232,1537,7437,7844,7984,6786,8248,8853,8842,7470,7380,5823,8210,8494,8097,7716,7877,7909,8270,7806,8336,8346,6383,5837,7124,7414,7481,470,7225,8232,8479,8822,7901,6889,8191,7787,8267,7941,8489,8291,8388,8312,8198,8227,7614,7159,6196,6338,7844,6601,6335,6002,8135,8569,8688,7444,6849,7942,7902,8312,8602,7758,7889,8400,8201,8136,8117,7233,7024,6802,7705,7598,7823,7946,7826,8667,8515,8202,8376,7759,8300,7622,7623,8278,8382,8395,8187,8247,8085,8006,6607,6984,4865,7821,7811,7493,7766,8079,8095,8612,8654,7518,8136,7074,7627,8595,7915,8061,8229,8144,7914,7852,3584,7125,6505,6776,6360,6336,5231,7343,7966,8724,8745,7546,7834,7905,7531,8105,8060,7841,8576,7794,7474,7550,6308,7835,7739,6700,42,179,6695,4873,5446,6184,8237,8455,8273,7653,8104,7603,7960,7963,8570,7808,8385,8148,7841,7807,3650,1025,6017,7274,6825,7129,6353,7147,6946,7880,8200,6979,7761,8112,8192,5127,7915,8434,6978,8096,8062,7732,7973,6926,6579,6675,7109,1143,5936,6826,7817,5732,8611,7461,7217,8257,7911,7908,7698,7984,7724,8429,7826,7794,8349,7788,2272,6157,3364,8054,7392,6132,6198,5495,7543,8113,7161,8211,7225,8156,7497,8055,7866,8558,8348,8061,8556,8152,8554,7611,7298,8913,7790,7698,7758,7938,7918,8671,8685,7124,7940,7798,8026,7597,7349,8124,8049,7935,8191,8853,7964,7953,6382,6826,6766,7667,7544,8134,8737,8480,7452,8244,8055,7809,8500,7274,7987,8490,8220,8103,8126,8041,7920,7226,6676,7777,7198,7192,3711,6849,7529,8414,8834,8770,7115,8186,7646,8224,8199,8389,6973,6059,8167,8321,8462,8202,7488,5778,7017,6963,7732,7457,7424,8340,8315,8157,8606,7994,7802,8028,8129,8268,8320,8191,7918,8303,8051,8112,7993,6867,5115,2041,7178,7121,5617,6519,6669,8263,8572,8787,7306,7933,8313,7732,8329,7494,7638,7821,7865,7713,7522,8035,7128,7151,1350,7118,7684,7979,6700,8194,8822,8579,7529,7547,5549,8080,8451,8059,6993,7834,8150,8207,7865,8321,8327,5360,5958,6667,7049,7553,1944,7255,8230,8523,8780,7388,7051,8236,7339,8378,8150,8489,8180,8357,8217,8110,8138,7335,6758,6231,6356,7684,6523,6266,5946,8133,8446,8649,7439,7076,7987,7670,8332,8632,7732,7926,8367,8081,8087,8076,7009,6730,6856,5961,7624,7710,7953,7795,8417,8280,8271,8175,7409,8410,7460,7788,8321,7329,7819,8073,8195,8117,8101,6269,6978,4434,7584,7811,7455,7737,7891,8161,8603,8421,7632,8143,7106,8135,8372,8370,8049,8245,8155,7889,7747,3186,7035,6479,6823,6466,6255,4811,7112,7848,8763,8706,7276,8028,7778,7753,8239,8084,7824,8620,7881,7372,7647,6044,7874,7633,6438,-66,-72,6296,5184,5577,6191,8150,8382,8060,7174,8188,7546,8125,8239,8106,7883,7986,8056,7680,8477,3776,699,5491,7091,6742,7012,6251,6962,6908,7909,8096,7151,7906,8070,8034,6489,7931,8547,6354,7962,7959,7743,7892,6622,6502,6599,7204,1233,5863,6687,7610,7214,8571,7077,6877,8238,7607,7952,8174,7941,7710,8106,7856,7748,8273,7823,773,6739,1547,7983,7345,6122,6095,5369,7535,8167,6095,8159,7385,8161,7291,8219,7678,8748,8341,7963,8394,8116,8586,7657,7181,8233,7728,7652,7773,7844,8095,8792,8581,7289,8104,7817,8172,7683,7532,8227,7981,7939,8145,8539,7898,7842,6997,6847,6508,6501,6261,6917,7476,7498,7140,7434,7298,4488,6879,3798,7053,7764,7591,7238,7164,7190,6596,6452,5194,6357,6147,5997,3552,5784,6365,7249,7208,7297,6874,7328,7369,7705,7558,7840,7817,4264,7662,6873,7417,6140,6099,1119,5992,5866,6236,6089,5978,6769,7019,7393,6781,7228,7488,6598,7819,7689,7721,7654,7868,7491,7154,6889,6773,5516,3986,1722,6124,5470,4751,5397,5919,6876,7192,7559,6874,7453,7455,7604,7974,6727,6989,7369,6755,6597,6241,6906,5906,5894,1071,6380,3345,6430,5543,6787,7368,7422,7157,7701,5332,7580,7657,7779,4272,7528,7573,7198,6959,6952,7113,6373,5358,6162,5923,6164,3232,5764,6667,7132,7261,6898,6628,6822,6653,7694,7286,7811,7401,7716,7427,7307,7084,7178,6235,5442,5170,6767,5470,5210,5010,6665,7112,7472,6612,6529,7347,7187,7745,7761,7014,7163,7349,7193,6919,7025,6101,5245,5361,3322,6480,6050,6527,6647,7121,7113,7518,7683,6844,7531,6808,7131,7333,7148,7630,7101,7301,7030,6938,4925,5736,3060,6432,6479,6034,5679,6681,6551,7318,7402,6807,7295,6931,6973,7822,7511,7045,7144,7465,6765,6617,5365,5908,5395,5467,5461,5567,3864,5930,6430,7359,7635,6737,7203,7137,7097,7490,7128,6778,8023,6979,7028,6482,6980,7573,6330,5840,55,176,4325,4610,4936,4308,6708,6947,6902,6943,6886,7211,7454,7584,7956,6938,7344,6914,6569,8581,2220,982,2494,6518,5637,5810,5072,5705,5447,6197,6803,6027,6895,7065,7454,6147,7162,7648,7637,6741,6911,6635,6679,5254,5247,5853,5834,1017,5002,5476,6274,4804,6574,6456,6758,7188,7375,7510,7638,7618,7133,7642,6938,6762,6928,6565,961,5023,5571,6784,6328,4920,4990,4485,6111,6488,4750,7412,6930,7103,7062,7441,7063,7357,7450,6953,7306,6955,7989,5924,5922,6176,6457,6381,6337,7007,6540,7102,7606,6611,7179,7112,7403,6985,6826,7130,7060,7260,7404,7012,7304,7007,6371,5968,5803,6925,6712,7344,7923,7731,7085,7600,7388,6875,7916,6616,7344,7910,7692,7924,7382,7416,7221,6703,4603,7200,6598,6465,530,6271,6813,7703,7835,7894,6847,7359,7125,7610,7416,7846,8247,4047,7759,7434,7571,7232,6529,4781,6567,6369,6825,6811,6623,7360,7523,2917,7783,7318,7584,6597,7561,7487,7763,7688,7906,7676,7480,7252,7155,6147,4433,1984,6520,5630,5023,5735,6779,7344,7712,7936,6623,7529,7483,7433,7968,7028,7131,7363,7139,7058,6777,7313,6428,6401,838,6831,2472,7034,5996,7328,7834,7833,6995,6967,6514,7227,7576,7660,8172,7316,6947,7648,7400,7532,7533,5066,4893,6518,6624,6610,108,6295,7184,7496,7851,7012,6678,7218,6757,7668,7063,7978,7883,7865,7608,7505,7373,7042,6453,5410,5503,7088,5620,5435,5103,6964,7314,7458,7053,6560,7230,7264,7852,7903,7442,7457,7555,7282,7168,7019,6212,5852,5666,5797,6617,5589,6675,6622,7300,7124,7001,7859,6751,7324,6576,7251,7668,7710,7603,7097,7119,7208,6885,5412,5875,654,6961,6502,6156,6521,6836,6647,7284,7101,6749,7106,6771,6715,7601,7565,7265,7242,7322,6867,6618,5166,6019,5432,5702,5517,5677,4489,6065,6688,7470,7289,6649,6990,6910,6941,7380,7236,7113,7929,6749,6623,6585,4998,6777,6546,5749,51,-140,5228,4652,4657,2793,6890,7159,6928,6840,7057,7020,7548,6570,7910,7209,7674,7073,6626,7799,2813,1056,5349,6758,5914,5997,5302,5531,5800,6610,7093,6450,6908,7212,7200,5272,7142,7635,7519,6984,6895,6634,6883,4975,5019,5995,5998,879,5167,5607,6335,3422,7357,6110,6366,7117,7102,7216,7173,7283,7190,7571,6777,6586,7124,6496,643,3272,5545,6575,6472,4971,4956,4490,5985,6413,5087,7041,6208,6910,6399,7222,6930,7565,7473,6941,7271,6668,7499,6019,5889,7236,6307,6356,6240,6373,6467,7127,7535,6028,6724,6794,6974,6701,6522,7123,7101,7012,7449,8107,7164,6820,6105,6042,5866,7629,6698,8178,8740,8472,7202,8352,8064,7029,8340,4548,7922,8577,8231,8107,7962,8042,7861,7009,1981,7882,7332,7067,3031,6985,7712,8596,8864,8764,7110,8152,7697,8268,8213,8501,8744,5381,8410,7952,8413,8691,7458,5889,7202,7248,7811,7585,7521,8433,8429,7719,8671,7743,8130,8011,8131,8247,8295,8094,8190,8364,8125,8175,8010,7010,4218,2886,7294,6772,5786,6634,7882,8506,8564,8540,6500,7456,8286,7882,8489,7414,7511,7864,7963,7784,7609,8194,7231,7413,1447,7628,7896,8155,6850,8358,8886,8721,7361,7433,6181,8331,8230,8184,8007,7925,7841,8178,8041,8340,8341,6270,5272,7268,7522,7488,366,7304,8213,8546,8813,7247,6905,8251,7473,8472,7501,8488,8439,8440,8292,8175,8235,7454,7168,6370,6515,7896,6699,6465,6118,8240,8542,8435,7716,7346,8039,7905,8570,8762,7579,7919,8113,8062,8083,8155,7167,6626,6764,7878,7734,7852,8018,7918,8429,8277,8341,8450,7474,8255,6960,7758,8268,8281,8276,8076,8200,8197,8038,6481,7034,4846,5310,7852,7424,7933,8136,8104,8610,8460,7389,8160,7125,7214,8345,7532,7996,8257,8136,7905,7799,7042,7158,6571,6842,6471,6599,5461,7268,7988,8729,8587,7282,8025,7983,7651,8402,8005,7846,8477,7828,7457,7546,5650,7911,7824,6769,0,291,6648,4912,5399,6277,8341,8585,7784,7559,7977,7769,8244,7042,8581,7730,8398,8095,7767,7833,3767,113,6500,7368,6944,7249,6482,6987,7075,7946,8225,6490,7977,8072,8150,6779,7874,8501,5075,8041,7983,7602,7897,5885,6239,6885,7133,1262,5904,6759,7760,8072,8517,6892,7199,8204,7955,7982,8051,8023,7734,8459,7796,7731,8319,7798,1638,6791,4176,5625,7329,6090,6113,5500,7661,8209,6281,8002,7490,8098,7835,8231,8013,8293,8244,7942,8423,8078,8614,7740,7283,8492,7784,7711,7743,8184,8000,8610,8525,7408,8030,7939,8155,7560,7655,8215,8059,8053,8134,8989,7925,7967,6856,6943,6903,7563,6915,8075,8745,8541,7489,8303,8007,8001,8270,7226,8016,8557,8421,8179,8054,8102,6604,7290,5952,7796,7221,6862,4714,6900,7530,8436,8818,8746,7231,8177,7684,8035,8118,8453,7915,6090,8438,7904,8482,8678,7490,2395,7023,6988,7671,7412,7474,8248,8221,7947,8717,7993,7845,7966,8224,8200,8362,7802,7847,8332,8000,8105,8044,6903,4880,2207,7122,6752,5585,6398,7038,8174,8644,8778,7438,7562,8401,7877,8351,7379,7559,7792,7967,7720,7473,7908,7073,7101,1152,7212,7664,7931,6583,8174,8869,8816,7523,7578,6785,8195,8399,8006,6856,7992,8266,8303,8162,8341,8353,5323,5140,6937,7170,7484,1882,7234,8226,8584,8875,7296,7327,8141,7532,8405,7904,8386,8252,8425,8201,8110,8141,7246,6714,6130,6357,7664,6442,6214,5942,7973,8533,8743,7587,7491,7956,7718,8338,8684,7889,7885,8009,8119,8197,8140,6937,5569,6791,7700,7695,7601,8021,8101,8653,8568,8342,8218,7633,8325,7695,7726,8100,7671,7916,8102,8172,7906,7983,5892,6883,4789,7243,7670,7207,7822,7911,8034,8697,8633,7745,8194,7229,8243,8269,8270,8149,8192,8156,8012,7912,2417,7250,6547,6847,6492,6387,6730,7400,7987,8790,8788,7591,8062,7878,7761,8299,8020,7836,8417,7903,7871,7911,6882,8070,7709,6294,-23,94,4633,4920,5746,6240,8041,8376,8455,7408,8139,7508,8070,8388,7748,7923,8284,8201,7893,8097,3719,84,5808,6994,6750,6926,6130,6878,6737,7821,8272,7584,8111,8194,8029,7181,7978,8524,7473,8030,8046,7849,7960,6544,6091,6467,7217,1316,5818,6634,7623,8137,8596,7443,7431,8013,7340,8035,7948,7942,7705,8281,7919,7832,8376,7902,430,7055,1502,2166,7395,6103,6064,5564,7433,8133,7687,8204,7554,8083,7482,8101,7915,8721,8341,8045,8408,8253,8670,7800,7265,7894,7752,7647,7822,7863,8104,8771,8720,7419,8161,8636,8234,7687,7705,8200,7987,7879,8028,8869,7758,7505,6422,6128,5932</tupleList>\\n    </DataBlock>\\n  </rangeSet>\\n\\n  <coverageFunction>\\n    <GridFunction>\\n      <sequenceRule axisOrder=\"+3 +2 +1\">Linear</sequenceRule>\\n      <startPoint>3712 735 9111</startPoint>\\n    </GridFunction>\\n  </coverageFunction>\\n\\n  <gmlcov:rangeType>\\n    <swe:DataRecord>\\n    <swe:field name=\"b1\">\\n      <swe:Quantity xmlns:swe=\"http://www.opengis.net/swe/2.0\"><swe:label>pixel_value</swe:label><swe:uom code=\"undefined\" /></swe:Quantity>\\n    </swe:field>\\n    </swe:DataRecord>\\n  </gmlcov:rangeType>\\n<gmlcov:metadata/>\\n</gmlcov:RectifiedGridCoverage>\\n'"
       ]
      }
     ],
     "prompt_number": 93
    },
    {
     "cell_type": "code",
     "collapsed": false,
     "input": [
      "xml"
     ],
     "language": "python",
     "metadata": {},
     "outputs": [
      {
       "metadata": {},
       "output_type": "pyout",
       "prompt_number": 73,
       "text": [
        "<Element '{http://www.opengis.net/gmlcov/1.0}RectifiedGridCoverage' at 0x9354c30>"
       ]
      }
     ],
     "prompt_number": 73
    },
    {
     "cell_type": "code",
     "collapsed": false,
     "input": [],
     "language": "python",
     "metadata": {},
     "outputs": []
    },
    {
     "cell_type": "code",
     "collapsed": false,
     "input": [
      "from_date='2010-01-01'\n",
      "frm_year = int(from_date[0:4])\n",
      "frm_month = int(from_date[5:7])\n",
      "frm_day = int(from_date[8:10])"
     ],
     "language": "python",
     "metadata": {},
     "outputs": [],
     "prompt_number": 7
    },
    {
     "cell_type": "code",
     "collapsed": false,
     "input": [
      "test_.head()"
     ],
     "language": "python",
     "metadata": {},
     "outputs": []
    },
    {
     "cell_type": "code",
     "collapsed": false,
     "input": [
      "frm = datetime.datetime(2010,1,1)\n",
      "to = datetime.datetime(2012,1,1)"
     ],
     "language": "python",
     "metadata": {},
     "outputs": [],
     "prompt_number": 8
    },
    {
     "cell_type": "code",
     "collapsed": false,
     "input": [
      "test_.ix['2010-01-01':'2012-01-01']"
     ],
     "language": "python",
     "metadata": {},
     "outputs": []
    },
    {
     "cell_type": "code",
     "collapsed": false,
     "input": [
      "year = ndvi.index.year\n",
      "sel = ((2009 <= year) & (year <= 2011))\n",
      "x_sel_min = ndvi.index[sel][0]\n",
      "x_sel_max = ndvi.index[sel][-1]"
     ],
     "language": "python",
     "metadata": {},
     "outputs": []
    },
    {
     "cell_type": "code",
     "collapsed": false,
     "input": [
      "Long1 = str(lon_center + regionpix[0])\n",
      "Long2 = str(lon_center + regionpix[1])\n",
      "Lat1 = str(lat_center + regionpix[0])\n",
      "Lat2 = str(lat_center + regionpix[1])\n",
      "in_date_str = '2010-01-01' \n",
      "in_date_end = '2012-01-01'"
     ],
     "language": "python",
     "metadata": {},
     "outputs": []
    },
    {
     "cell_type": "code",
     "collapsed": false,
     "input": [
      "full_url = \"http://159.226.117.95:8080/rasdaman/ows/wcs2?service=WCS&version=2.0.1&request=GetCoverage&coverageId=modis_13c1_cov&subset=Long(\"+Long1+\",\"+Long2+\")&subset=Lat(\"+Lat1+\",\"+Lat2+\")\""
     ],
     "language": "python",
     "metadata": {},
     "outputs": []
    },
    {
     "cell_type": "code",
     "collapsed": false,
     "input": [
      "f = urllib2.urlopen(full_url)"
     ],
     "language": "python",
     "metadata": {},
     "outputs": []
    },
    {
     "cell_type": "code",
     "collapsed": false,
     "input": [
      "root = etree.fromstring(f.read())"
     ],
     "language": "python",
     "metadata": {},
     "outputs": []
    },
    {
     "cell_type": "code",
     "collapsed": false,
     "input": [
      "# read grid envelope of domain set\n",
      "xml_low_env = StringIO(root[1][0][0][0][0].text)\n",
      "xml_high_env = StringIO(root[1][0][0][0][1].text)\n",
      "\n",
      "# load grid envelope as numpy array\n",
      "low_env = np.loadtxt(xml_low_env, dtype='int', delimiter=' ')\n",
      "high_env = np.loadtxt(xml_high_env, dtype='int', delimiter=' ')\n",
      "ts_shape = high_env - low_env + 1\n",
      "\n",
      "easting = ts_shape[0]\n",
      "northing = ts_shape[1]\n",
      "time = ts_shape[2]"
     ],
     "language": "python",
     "metadata": {},
     "outputs": []
    },
    {
     "cell_type": "code",
     "collapsed": false,
     "input": [
      "## extract the dates\n",
      "#sd = ansi_date_to_greg_date(low_env[2]+140734)\n",
      "#ed = ansi_date_to_greg_date(high_env[2]+140734)\n",
      "\n",
      "# extract the values we need from the parsed XML\n",
      "sta_date_ansi = np.loadtxt(StringIO(root[0][0][0].text))[2] # 150116\n",
      "end_date_ansi = np.loadtxt(StringIO(root[0][0][1].text))[2] # 150852\n",
      "sta_date_rasd = np.loadtxt(StringIO(root[1][0][0][0][0].text))[2] # 9382\n",
      "end_date_rasd = np.loadtxt(StringIO(root[1][0][0][0][1].text))[2] # 9427\n",
      "timestep_date = np.loadtxt(StringIO(root[1][0][5].text))[2] # 16\n",
      "\n",
      "# compute the start and end-date\n",
      "dif_date_anra = sta_date_ansi - sta_date_rasd\n",
      "dif_date_rasd = end_date_rasd - sta_date_rasd + 1\n",
      "end_date_anra = dif_date_rasd * timestep_date + sta_date_rasd + dif_date_anra\n",
      "\n",
      "sd = convert_ansi_date(sta_date_ansi) # (2012, 1, 2, 0.5)\n",
      "ed = convert_ansi_date(end_date_anra) # (2014, 1, 7, 0.5)\n",
      "\n",
      "# convert dates to pandas date_range\n",
      "str_date = str(sd[1])+'.'+str(sd[2])+'.'+str(sd[0])+'.'+str(int(np.round(sd[3]*24)))+':00'\n",
      "end_date = str(ed[1])+'.'+str(ed[2])+'.'+str(ed[0])+'.'+str(int(np.round(ed[3]*24)))+':00'\n",
      "freq_date = str(int(timestep_date))+'D'\n",
      "dates = pd.date_range(str_date,end_date, freq=freq_date)\n",
      "dates = dates[:-1]\n",
      "\n",
      "logging.info('dates converted from ANSI to ISO 8601')"
     ],
     "language": "python",
     "metadata": {},
     "outputs": []
    },
    {
     "cell_type": "code",
     "collapsed": false,
     "input": [
      "# read data block of range set\n",
      "xml_ts = StringIO(root[2][0][1].text)\n",
      "\n",
      "# load data block as numpy array\n",
      "ts = np.loadtxt(xml_ts, dtype='float', delimiter=',')\n",
      "ts_reshape = ts.reshape((easting*northing,time)) #Easting = ts_shape[0], Northing = ts_shape[1], time = ts_shape[2]"
     ],
     "language": "python",
     "metadata": {},
     "outputs": []
    },
    {
     "cell_type": "code",
     "collapsed": false,
     "input": [
      "# compute mean so regional statistics can be computed as well\n",
      "ts_mean = ts_reshape.mean(axis=0)"
     ],
     "language": "python",
     "metadata": {},
     "outputs": []
    },
    {
     "cell_type": "code",
     "collapsed": false,
     "input": [
      "ndvi = pd.Series(ts_mean.flatten()/10000.,dates, name='nvdi')\n",
      "year = ndvi.index.year\n",
      "sel = ((2009 <= year) & (year <= 2011))\n",
      "x_sel_min = ndvi.index[sel][0]\n",
      "x_sel_max = ndvi.index[sel][-1]"
     ],
     "language": "python",
     "metadata": {},
     "outputs": []
    },
    {
     "cell_type": "markdown",
     "metadata": {},
     "source": [
      "Visualise normal NDVI 16 day interval"
     ]
    },
    {
     "cell_type": "markdown",
     "metadata": {},
     "source": [
      "Selector close-up for the year 2009-2011 for a detailed view"
     ]
    },
    {
     "cell_type": "code",
     "collapsed": false,
     "input": [
      "matplotlib.pylab.rcParams['figure.figsize'] = (18.0, 5.0)\n",
      "ndvi.plot(legend=True, title=ndvi.name)\n",
      "ax = ndvi.plot(legend=True, title=ndvi.name, style='.')\n",
      "ymin, ymax = ax.get_ylim()\n",
      "ax.axvspan(x_sel_min,x_sel_max, color='gray', alpha=0.2)\n",
      "\n",
      "plt.show()\n",
      "\n",
      "ndvi[sel].plot(legend=True, title=ndvi.name)\n",
      "ndvi[sel].plot(legend=True, title=ndvi.name, style='.')\n",
      "plt.show()"
     ],
     "language": "python",
     "metadata": {},
     "outputs": []
    },
    {
     "cell_type": "markdown",
     "metadata": {},
     "source": [
      "Compute and visualise NVAI using 16 day interval NDVI data"
     ]
    },
    {
     "cell_type": "code",
     "collapsed": false,
     "input": [
      "nvai = ndvi.groupby([ndvi.index.month]).apply(lambda g: (g - g.mean())/(g.max() - g.min()))\n",
      "nvai.name = 'nvai'\n",
      "nvai.plot(legend=True, title=nvai.name)\n",
      "ax = nvai.plot(legend=True, title=nvai.name, style='.')\n",
      "ymin, ymax = ax.get_ylim()\n",
      "ax.axvspan(x_sel_min,x_sel_max, color='gray', alpha=0.2)\n",
      "\n",
      "plt.show()\n",
      "nvai[sel].plot(legend=True, title=nvai.name)\n",
      "nvai[sel].plot(legend=True, title=nvai.name, style='.')\n",
      "plt.show()"
     ],
     "language": "python",
     "metadata": {},
     "outputs": []
    },
    {
     "cell_type": "markdown",
     "metadata": {},
     "source": [
      "Interpolate NDVI 16 day interval to 1 day interval using linear interpolation"
     ]
    },
    {
     "cell_type": "code",
     "collapsed": false,
     "input": [
      "x = pd.date_range(str_date,end_date,freq='D')\n",
      "ndvi_int = ndvi.reindex(x)\n",
      "#ndvi_int = ndvi_int.fillna(method='pad')\n",
      "ndvi_int = ndvi_int.interpolate(method='linear')\n",
      "ndvi_int.name = 'ndvi_int'\n",
      "\n",
      "year2 = ndvi_int.index.year\n",
      "sel2= ((2009 <= year2) & (year2 <= 2011))\n",
      "x_sel2_min = ndvi_int.index[sel2][0]\n",
      "x_sel2_max = ndvi_int.index[sel2][-1]"
     ],
     "language": "python",
     "metadata": {},
     "outputs": []
    },
    {
     "cell_type": "code",
     "collapsed": false,
     "input": [
      "ndvi_int.plot(legend=True, title=ndvi_int.name)\n",
      "ax = ndvi_int.plot(legend=True, title=ndvi_int.name, style='.')\n",
      "ymin, ymax = ax.get_ylim()\n",
      "ax.axvspan(x_sel_min,x_sel_max, color='gray', alpha=0.2)\n",
      "plt.show()\n",
      "\n",
      "ndvi_int[sel2].plot(legend=True, title=ndvi_int.name)\n",
      "ndvi_int[sel2].plot(legend=True, title=ndvi_int.name, style='.')\n",
      "plt.show()"
     ],
     "language": "python",
     "metadata": {},
     "outputs": []
    },
    {
     "cell_type": "markdown",
     "metadata": {},
     "source": [
      "Compute and visualise NVAI using 1 day interpolated NDVI data"
     ]
    },
    {
     "cell_type": "code",
     "collapsed": false,
     "input": [
      "nvai_int = ndvi_int.groupby([ndvi_int.index.month,ndvi_int.index.day]).apply(lambda g: (g - g.mean())/(g.max() - g.min()))\n",
      "nvai_int.name = 'nvai_int'\n",
      "nvai_int.plot(legend=True, title=nvai_int.name)\n",
      "ax = nvai_int.plot(legend=True, title=nvai_int.name, style='.')\n",
      "ymin, ymax = ax.get_ylim()\n",
      "ax.axvspan(x_sel_min,x_sel_max, color='gray', alpha=0.2)\n",
      "plt.show()\n",
      "\n",
      "nvai_int[sel2].plot(legend=True, title=nvai_int.name)\n",
      "nvai_int[sel2].plot(legend=True, title=nvai_int.name, style='.')\n",
      "plt.show()"
     ],
     "language": "python",
     "metadata": {},
     "outputs": []
    },
    {
     "cell_type": "markdown",
     "metadata": {},
     "source": [
      "Define parameters PyHANTS, settings are set that Low values are seen as outliers and we use 6 frequencies / year"
     ]
    },
    {
     "cell_type": "code",
     "collapsed": false,
     "input": [
      "frequencies = len(ndvi_int) / 365 * 6\n",
      "outliers = \"Lo\""
     ],
     "language": "python",
     "metadata": {},
     "outputs": []
    },
    {
     "cell_type": "markdown",
     "metadata": {},
     "source": [
      "Apply PyHANTS reconstruction on the original 16 day interval NDVI data"
     ]
    },
    {
     "cell_type": "code",
     "collapsed": false,
     "input": [
      "pyhants = HANTS(sample_count=time, inputs=ts_reshape/100, frequencies_considered_count=frequencies,  outliers_to_reject=outliers)\n",
      "pyhants *= 100\n",
      "pyhants_mean = pyhants.mean(axis=0)\n",
      "ndvi_pyhants = pd.Series(pyhants_mean.flatten()/10000.,dates, name='ndvi_pyhants')"
     ],
     "language": "python",
     "metadata": {},
     "outputs": []
    },
    {
     "cell_type": "code",
     "collapsed": false,
     "input": [
      "ndvi_pyhants.plot(legend=True, title=ndvi_pyhants.name)\n",
      "ax = ndvi_pyhants.plot(legend=True, title=ndvi_pyhants.name, style='.')\n",
      "ymin, ymax = ax.get_ylim()\n",
      "ax.axvspan(x_sel_min,x_sel_max, color='gray', alpha=0.2)\n",
      "plt.show()\n",
      "\n",
      "ndvi_pyhants[sel].plot(legend=True, title=ndvi_pyhants.name)\n",
      "ndvi_pyhants[sel].plot(legend=True, title=ndvi_pyhants.name, style='.')\n",
      "plt.show()"
     ],
     "language": "python",
     "metadata": {},
     "outputs": []
    },
    {
     "cell_type": "markdown",
     "metadata": {},
     "source": [
      "Visualise normal NDVI 16 day interval AND PyHANTS reconstructed NDVI 16 day interval"
     ]
    },
    {
     "cell_type": "code",
     "collapsed": false,
     "input": [
      "ndvi_comb = pd.concat([ndvi, ndvi_pyhants],axis=1)\n",
      "ax = ndvi_comb.plot(legend=True, title='ndvi_comb of original and reconstructed NDVI')\n",
      "ymin, ymax = ax.get_ylim()\n",
      "ax.axvspan(x_sel_min,x_sel_max, color='gray', alpha=0.2)\n",
      "plt.show()\n",
      "\n",
      "ndvi_comb[sel].plot(legend=True, title='ndvi_comb of original and reconstructed NDVI')\n",
      "plt.show()"
     ],
     "language": "python",
     "metadata": {},
     "outputs": []
    },
    {
     "cell_type": "markdown",
     "metadata": {},
     "source": [
      "Interpolate PyHANTS reconstructed NDVI 16 day interval to 1 day interval using linear interpolation"
     ]
    },
    {
     "cell_type": "code",
     "collapsed": false,
     "input": [
      "x = pd.date_range(str_date,end_date,freq='D')\n",
      "ndvi_pyhants_int = ndvi_pyhants.reindex(x)\n",
      "ndvi_pyhants_int = ndvi_pyhants_int.interpolate(method='linear')\n",
      "ndvi_pyhants_int.name = 'ndvi_pyhants_int'\n",
      "ndvi_pyhants_int.plot(legend=True, title=ndvi_pyhants_int.name)\n",
      "ax = ndvi_pyhants_int.plot(legend=True, title=ndvi_pyhants_int.name, style=',')\n",
      "ymin, ymax = ax.get_ylim()\n",
      "ax.axvspan(x_sel_min,x_sel_max, color='gray', alpha=0.2)\n",
      "plt.show()\n",
      "\n",
      "ndvi_pyhants_int[sel2].plot(legend=True, title=ndvi_pyhants_int.name)\n",
      "ndvi_pyhants_int[sel2].plot(legend=True, title=ndvi_pyhants_int.name, style=',')\n",
      "plt.show()"
     ],
     "language": "python",
     "metadata": {},
     "outputs": []
    },
    {
     "cell_type": "markdown",
     "metadata": {},
     "source": [
      "Compute and visualise NVAI using 1 day interpolated PyHANTS reconstructed NDVI data"
     ]
    },
    {
     "cell_type": "code",
     "collapsed": false,
     "input": [
      "nvai_pyhants_int = ndvi_pyhants_int.groupby([ndvi_pyhants_int.index.month,ndvi_pyhants_int.index.day]).apply(lambda g: (g - g.mean())/(g.max() - g.min()))\n",
      "nvai_pyhants_int.name = 'nvai_pyhants_int'\n",
      "nvai_pyhants_int.plot(legend=True, title=nvai_pyhants_int.name)\n",
      "ax = nvai_pyhants_int.plot(legend=True, title=nvai_pyhants_int.name, style=',')\n",
      "ymin, ymax = ax.get_ylim()\n",
      "ax.axvspan(x_sel_min,x_sel_max, color='gray', alpha=0.2)\n",
      "plt.show()\n",
      "\n",
      "nvai_pyhants_int[sel2].plot(legend=True, title=nvai_pyhants_int.name)\n",
      "nvai_pyhants_int[sel2].plot(legend=True, title=nvai_pyhants_int.name, style=',')\n",
      "plt.show()"
     ],
     "language": "python",
     "metadata": {},
     "outputs": []
    },
    {
     "cell_type": "markdown",
     "metadata": {},
     "source": [
      "Visualise normal NDVI 16 day interval AND PyHANTS reconstructed NDVI 16 day interval"
     ]
    },
    {
     "cell_type": "code",
     "collapsed": false,
     "input": [
      "nvai_comb = pd.concat([nvai_int, nvai_pyhants_int], axis=1)\n",
      "ax = nvai_comb.plot(legend=True, title='nvai_comb')\n",
      "ymin, ymax = ax.get_ylim()\n",
      "ax.axvspan(x_sel_min,x_sel_max, color='gray', alpha=0.2)\n",
      "plt.show()\n",
      "\n",
      "nvai_comb[sel2].plot(legend=True, title='nvai_comb')\n",
      "plt.show()"
     ],
     "language": "python",
     "metadata": {},
     "outputs": []
    },
    {
     "cell_type": "markdown",
     "metadata": {},
     "source": [
      "Visualise the difference between NVAI using original NDVI data and PyHANTS reconstructed NDVI data"
     ]
    },
    {
     "cell_type": "code",
     "collapsed": false,
     "input": [
      "nvai_comb_dif = nvai_comb.nvai_int - nvai_comb.nvai_pyhants_int\n",
      "nvai_comb_dif.name = 'nvai_diff'\n",
      "ax = nvai_comb_dif.plot(legend=True, title=nvai_comb_dif.name, kind='area', stacked=False)\n",
      "ymin, ymax = ax.get_ylim()\n",
      "ax.axvspan(x_sel_min,x_sel_max, color='gray', alpha=0.2)\n",
      "plt.tight_layout()\n",
      "plt.show()\n",
      "\n",
      "\n",
      "nvai_comb_dif[sel2].plot(legend=True, title=nvai_comb_dif.name, kind='area', stacked=False)\n",
      "plt.tight_layout()\n",
      "plt.show()"
     ],
     "language": "python",
     "metadata": {},
     "outputs": []
    },
    {
     "cell_type": "markdown",
     "metadata": {},
     "source": [
      "Compute and visualise the standard deviation of the interpolated NVAI using PyHANTS reconstructed NDVI data"
     ]
    },
    {
     "cell_type": "code",
     "collapsed": false,
     "input": [
      "nvai_pyhants_int_std_low = nvai_pyhants_int.groupby([nvai_pyhants_int.index.month,nvai_pyhants_int.index.day]).apply(lambda g: ((g - g.std())))\n",
      "nvai_pyhants_int_std_upp = nvai_pyhants_int.groupby([nvai_pyhants_int.index.month,nvai_pyhants_int.index.day]).apply(lambda g: ((g + g.std())))"
     ],
     "language": "python",
     "metadata": {},
     "outputs": []
    },
    {
     "cell_type": "code",
     "collapsed": false,
     "input": [
      "fig, ax = plt.subplots(1, 1, sharex=True)\n",
      "ax.plot(nvai_pyhants_int.index, nvai_pyhants_int, color='g')\n",
      "ax.fill_between(nvai_pyhants_int.index, nvai_pyhants_int, nvai_pyhants_int_std_upp,facecolor='g', alpha=0.2)\n",
      "ax.fill_between(nvai_pyhants_int.index, nvai_pyhants_int, nvai_pyhants_int_std_low,facecolor='g', alpha=0.2)\n",
      "ymin, ymax = ax.get_ylim()\n",
      "ax.axvspan(x_sel_min,x_sel_max, color='gray', alpha=0.2)\n",
      "plt.tight_layout()\n",
      "plt.show()\n",
      "\n",
      "fig, ax = plt.subplots(1, 1, sharex=True)\n",
      "ax.plot(nvai_pyhants_int.index[sel2], nvai_pyhants_int[sel2], color='g')\n",
      "ax.fill_between(nvai_pyhants_int.index[sel2], nvai_pyhants_int[sel2], nvai_pyhants_int_std_upp[sel2],facecolor='g', alpha=0.2)\n",
      "ax.fill_between(nvai_pyhants_int.index[sel2], nvai_pyhants_int[sel2], nvai_pyhants_int_std_low[sel2],facecolor='g', alpha=0.2)\n",
      "plt.tight_layout()\n",
      "plt.show()"
     ],
     "language": "python",
     "metadata": {},
     "outputs": []
    },
    {
     "cell_type": "markdown",
     "metadata": {},
     "source": [
      "Compare with the computed NVAI using raw NDVI data"
     ]
    },
    {
     "cell_type": "code",
     "collapsed": false,
     "input": [
      "fig, ax = plt.subplots(1, 1, sharex=True)\n",
      "ax.plot(nvai_int.index, nvai_int, color='r', lw=1)\n",
      "ax.plot(nvai_pyhants_int.index, nvai_pyhants_int, color='g', alpha=0.2)\n",
      "ax.fill_between(nvai_pyhants_int.index, nvai_pyhants_int, nvai_pyhants_int_std_upp,facecolor='g', alpha=0.2)\n",
      "ax.fill_between(nvai_pyhants_int.index, nvai_pyhants_int, nvai_pyhants_int_std_low,facecolor='g', alpha=0.2)\n",
      "ymin, ymax = ax.get_ylim()\n",
      "ax.axvspan(x_sel_min,x_sel_max, color='gray', alpha=0.2)\n",
      "plt.tight_layout()\n",
      "plt.show()\n",
      "\n",
      "fig, ax = plt.subplots(1, 1, sharex=True)\n",
      "ax.plot(nvai_int.index[sel2], nvai_int[sel2], color='r', lw=1)\n",
      "ax.plot(nvai_pyhants_int.index[sel2], nvai_pyhants_int[sel2], color='g', alpha=0.2)\n",
      "ax.fill_between(nvai_pyhants_int.index[sel2], nvai_pyhants_int[sel2], nvai_pyhants_int_std_upp[sel2],facecolor='g', alpha=0.2)\n",
      "ax.fill_between(nvai_pyhants_int.index[sel2], nvai_pyhants_int[sel2], nvai_pyhants_int_std_low[sel2],facecolor='g', alpha=0.2)\n",
      "plt.tight_layout()\n",
      "plt.show()"
     ],
     "language": "python",
     "metadata": {},
     "outputs": []
    },
    {
     "cell_type": "code",
     "collapsed": false,
     "input": [
      "x = nvai_pyhants_int_std_upp > nvai_int \n",
      "y = nvai_pyhants_int_std_low < nvai_int\n",
      "z = x==y\n",
      "q = np.where(z == True)\n",
      "z = np.invert(z)\n",
      "z.ix[q] = np.nan\n",
      "r = z * nvai_int"
     ],
     "language": "python",
     "metadata": {},
     "outputs": []
    },
    {
     "cell_type": "code",
     "collapsed": false,
     "input": [
      "fig, ax = plt.subplots(1, 1, sharex=True)\n",
      "ax.plot(nvai_pyhants_int.index, nvai_pyhants_int, color='g', alpha=0.5)\n",
      "ax.plot(nvai_int.index, nvai_int, color='r')\n",
      "ax.fill_between(nvai_pyhants_int.index, nvai_pyhants_int, nvai_pyhants_int_std_upp,facecolor='g', alpha=0.2)\n",
      "ax.fill_between(nvai_pyhants_int.index, nvai_pyhants_int, nvai_pyhants_int_std_low,facecolor='g', alpha=0.2)\n",
      "plt.plot(r.index, r, color='m', linestyle='-', lw=3)\n",
      "plt.title( 'NVAI using raw NDVI data is for: ' + str(np.round(100 - (float(r.isnull().sum()) / float(len(r))) * 100.,3)) +'% outside PyHANTS reconstructed NVAI +/- 1 standard deviation')\n",
      "ymin, ymax = ax.get_ylim()\n",
      "ax.axvspan(x_sel_min,x_sel_max, color='gray', alpha=0.2)\n",
      "plt.tight_layout()\n",
      "plt.show()\n",
      "\n",
      "fig, ax = plt.subplots(1, 1, sharex=True)\n",
      "ax.plot(nvai_pyhants_int.index[sel2], nvai_pyhants_int[sel2], color='g', alpha=0.5)\n",
      "ax.plot(nvai_int.index[sel2], nvai_int[sel2], color='r')\n",
      "ax.fill_between(nvai_pyhants_int.index[sel2], nvai_pyhants_int[sel2], nvai_pyhants_int_std_upp[sel2],facecolor='g', alpha=0.2)\n",
      "ax.fill_between(nvai_pyhants_int.index[sel2], nvai_pyhants_int[sel2], nvai_pyhants_int_std_low[sel2],facecolor='g', alpha=0.2)\n",
      "plt.plot(r.index[sel2], r[sel2], color='m', linestyle='-', lw=3)\n",
      "plt.title( 'NVAI using raw NDVI data is for: ' + str(np.round(100 - (float(r.isnull().sum()) / float(len(r))) * 100.,3)) +'% outside PyHANTS reconstructed NVAI +/- 1 standard deviation')\n",
      "plt.tight_layout()\n",
      "plt.show()"
     ],
     "language": "python",
     "metadata": {},
     "outputs": []
    },
    {
     "cell_type": "markdown",
     "metadata": {},
     "source": [
      "Applying some statistics on the original derived NVAI and PyHANTS reconstructed derived NVAI"
     ]
    },
    {
     "cell_type": "code",
     "collapsed": false,
     "input": [
      "import scipy.stats as stats\n",
      "import statsmodels.api as sm\n",
      "import statsmodels.formula.api as smf"
     ],
     "language": "python",
     "metadata": {},
     "outputs": []
    },
    {
     "cell_type": "code",
     "collapsed": false,
     "input": [
      "results = smf.ols('nvai_pyhants_int ~ nvai_int', nvai_comb).fit()\n",
      "print results.summary()"
     ],
     "language": "python",
     "metadata": {},
     "outputs": []
    },
    {
     "cell_type": "code",
     "collapsed": false,
     "input": [
      "intercept, slope = results.params\n",
      "r2 = results.rsquared\n",
      "pearsson = nvai_comb.nvai_int.corr(nvai_comb.nvai_pyhants_int)\n",
      "print slope, intercept, r2, pearsson"
     ],
     "language": "python",
     "metadata": {},
     "outputs": []
    },
    {
     "cell_type": "code",
     "collapsed": false,
     "input": [
      "x_lim = [min(nvai_comb.nvai_int),max(nvai_comb.nvai_int)]\n",
      "y_lim = [min(nvai_comb.nvai_pyhants_int),max(nvai_comb.nvai_pyhants_int)]\n",
      "\n",
      "matplotlib.pylab.rcParams['figure.figsize'] = (10, 10.0)\n",
      "f = plt.figure()\n",
      "ax = f.add_subplot(111)\n",
      "ax.plot(nvai_comb.nvai_int,nvai_comb.nvai_pyhants_int, marker='.', ls='', c='c')\n",
      "ax.vlines(0,min(x_lim, y_lim)[0],max(x_lim, y_lim)[1])\n",
      "ax.hlines(0,min(x_lim, y_lim)[0],max(x_lim, y_lim)[1])\n",
      "ax.set_xlim(min(x_lim, y_lim)[0],max(x_lim, y_lim)[1])\n",
      "ax.set_ylim(min(x_lim, y_lim)[0],max(x_lim, y_lim)[1])\n",
      "ax.set_xlabel('NVAI (original NDVI)')\n",
      "ax.set_ylabel('NVAI (PyHANTS reconstructed NDVI)')\n",
      "ax.hold(True)\n",
      "x = np.array([min(x_lim, y_lim)[0],max(x_lim, y_lim)[1]])\n",
      "y = intercept + slope * x\n",
      "ax.plot(x, y, 'm-', lw=2)\n",
      "ax.set_title('Correlation between NVAI (original NDVI) vs NVAI (PyHANTS reconstructed NDVI)')\n",
      "ax.text(0.1, 0.95,'$r^2$ = '+str(np.round(r2,3)), ha='center', va='center', transform=ax.transAxes, size=14)\n",
      "ax.text(0.14, 0.90,'Pearsson = '+str(np.round(pearsson,3)), ha='center', va='center', transform=ax.transAxes, size=14)"
     ],
     "language": "python",
     "metadata": {},
     "outputs": []
    },
    {
     "cell_type": "markdown",
     "metadata": {},
     "source": [
      "final combination plot"
     ]
    },
    {
     "cell_type": "code",
     "collapsed": false,
     "input": [
      "ndvi_comb[sel].plot(legend=True, title='ndvi_comb of original and reconstructed NDVI', color=['r','g'])\n",
      "plt.tight_layout()\n",
      "plt.show()\n",
      "\n",
      "nvai_comb[sel2].plot(legend=True, title='nvai_comb', color=['r','g'])\n",
      "plt.tight_layout()\n",
      "plt.show()\n",
      "\n",
      "fig, ax = plt.subplots(1, 1, sharex=True)\n",
      "l2 = ax.plot(nvai_pyhants_int.index[sel2], nvai_pyhants_int[sel2], color='g', alpha=0.5, label='nvai_pyhants_int')\n",
      "l4 = ax.plot([], [], color='g', alpha=0.2, linewidth=10, label='+/- 1std')\n",
      "l3 = ax.plot(nvai_int.index[sel2], nvai_int[sel2], color='r', label='nvai_int')\n",
      "l1 = ax.plot(r.index[sel2], r[sel2], color='m', linestyle='-', lw=3, label='nvai_int out std')\n",
      "ax.fill_between(nvai_pyhants_int.index[sel2], nvai_pyhants_int[sel2], nvai_pyhants_int_std_upp[sel2],facecolor='g', alpha=0.2)\n",
      "ax.fill_between(nvai_pyhants_int.index[sel2], nvai_pyhants_int[sel2], nvai_pyhants_int_std_low[sel2],facecolor='g', alpha=0.2)\n",
      "\n",
      "\n",
      "#p2 = plt.Rectangle((0, 0), 1, 1, fc=\"red\")\n",
      "\n",
      "ax.legend()\n",
      "#ax.legend(p2, a2_label)\n",
      "\n",
      "\n",
      "plt.title( 'NVAI using raw NDVI data is for: ' + str(np.round(100 - (float(r.isnull().sum()) / float(len(r))) * 100.,3)) +'% outside PyHANTS reconstructed NVAI +/- 1 standard deviation')\n",
      "plt.tight_layout()\n",
      "plt.show()"
     ],
     "language": "python",
     "metadata": {},
     "outputs": []
    },
    {
     "cell_type": "code",
     "collapsed": false,
     "input": [],
     "language": "python",
     "metadata": {},
     "outputs": []
    }
   ],
   "metadata": {}
  }
 ]
}