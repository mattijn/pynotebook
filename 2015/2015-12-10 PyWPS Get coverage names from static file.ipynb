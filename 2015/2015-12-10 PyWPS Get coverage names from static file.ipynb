{
 "cells": [
  {
   "cell_type": "code",
   "execution_count": 14,
   "metadata": {
    "collapsed": false
   },
   "outputs": [
    {
     "name": "stdout",
     "output_type": "stream",
     "text": [
      "DATA: {'COVG_NAME_NDVI_MOD13C1005': 'NDVI_MOD13C1005_uptodate', 'COVG_NAME_LST_MOD11C2005': 'LST_MOD11C2005_uptodate', 'COVG_NAME_PREP_CHIRP_DEKAD': 'PREP_CHIRPS2_dekad_uptodate'}\n",
      "JSON: {\"COVG_NAME_NDVI_MOD13C1005\": \"NDVI_MOD13C1005_uptodate\", \"COVG_NAME_LST_MOD11C2005\": \"LST_MOD11C2005_uptodate\", \"COVG_NAME_PREP_CHIRP_DEKAD\": \"PREP_CHIRPS2_dekad_uptodate\"}\n"
     ]
    }
   ],
   "source": [
    "import json\n",
    "\n",
    "data =  { 'COVG_NAME_LST_MOD11C2005':'LST_MOD11C2005_uptodate', \n",
    "          'COVG_NAME_NDVI_MOD13C1005':'NDVI_MOD13C1005_uptodate',\n",
    "          'COVG_NAME_PREP_CHIRP_DEKAD':'PREP_CHIRPS2_dekad_uptodate'} \n",
    "print 'DATA:', repr(data)\n",
    "\n",
    "data_string = json.dumps(data)\n",
    "print 'JSON:', data_string\n",
    "\n",
    "file_json = r'D:\\Downloads\\Mattijn@Zhou\\coverages_names.json'\n",
    "with open(file_json, 'w') as outfile:\n",
    "    json.dump(data, outfile, sort_keys = True, indent = 4, ensure_ascii=False)"
   ]
  },
  {
   "cell_type": "code",
   "execution_count": 15,
   "metadata": {
    "collapsed": false
   },
   "outputs": [],
   "source": [
    "data_load = json.loads(data_string)\n",
    "#for coverage in data_string:\n",
    "#    print coverage"
   ]
  },
  {
   "cell_type": "code",
   "execution_count": 16,
   "metadata": {
    "collapsed": false
   },
   "outputs": [
    {
     "name": "stdout",
     "output_type": "stream",
     "text": [
      "LST_MOD11C2005_uptodate\n"
     ]
    }
   ],
   "source": [
    "print data_load['COVG_NAME_LST_MOD11C2005']"
   ]
  },
  {
   "cell_type": "code",
   "execution_count": 25,
   "metadata": {
    "collapsed": false
   },
   "outputs": [],
   "source": [
    "def GetCoverageNames():\n",
    "    file_json = r'D:\\Downloads\\Mattijn@Zhou\\coverages_names.json'\n",
    "    with open(file_json) as json_data:\n",
    "        d = json.load(json_data)\n",
    "    _CoverageID_NDVI = d['COVG_NAME_NDVI_MOD13C1005']\n",
    "    _CoverageID_LST  = d['COVG_NAME_LST_MOD11C2005']\n",
    "    return _CoverageID_NDVI, _CoverageID_LST"
   ]
  },
  {
   "cell_type": "code",
   "execution_count": 27,
   "metadata": {
    "collapsed": false
   },
   "outputs": [
    {
     "name": "stdout",
     "output_type": "stream",
     "text": [
      "NDVI_MOD13C1005_uptodate LST_MOD11C2005_uptodate\n"
     ]
    }
   ],
   "source": [
    "CoverageID_NDVI, CoverageID_LST = GetCoverageNames()\n",
    "print CoverageID_NDVI, CoverageID_LST"
   ]
  },
  {
   "cell_type": "code",
   "execution_count": 23,
   "metadata": {
    "collapsed": false
   },
   "outputs": [
    {
     "data": {
      "text/plain": [
       "u'LST_MOD11C2005_uptodate'"
      ]
     },
     "execution_count": 23,
     "metadata": {},
     "output_type": "execute_result"
    }
   ],
   "source": [
    "d['COVG_NAME_LST_MOD11C2005']"
   ]
  },
  {
   "cell_type": "code",
   "execution_count": null,
   "metadata": {
    "collapsed": true
   },
   "outputs": [],
   "source": []
  }
 ],
 "metadata": {
  "kernelspec": {
   "display_name": "Python 2",
   "language": "python",
   "name": "python2"
  },
  "language_info": {
   "codemirror_mode": {
    "name": "ipython",
    "version": 2
   },
   "file_extension": ".py",
   "mimetype": "text/x-python",
   "name": "python",
   "nbconvert_exporter": "python",
   "pygments_lexer": "ipython2",
   "version": "2.7.6"
  }
 },
 "nbformat": 4,
 "nbformat_minor": 0
}
