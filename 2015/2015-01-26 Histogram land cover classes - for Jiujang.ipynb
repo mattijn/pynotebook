{
 "metadata": {
  "name": ""
 },
 "nbformat": 3,
 "nbformat_minor": 0,
 "worksheets": [
  {
   "cells": [
    {
     "cell_type": "code",
     "collapsed": false,
     "input": [
      "import pandas as pd\n",
      "import matplotlib.pyplot as plt\n",
      "from osgeo import gdal"
     ],
     "language": "python",
     "metadata": {},
     "outputs": [],
     "prompt_number": 2
    },
    {
     "cell_type": "code",
     "collapsed": false,
     "input": [
      "rasterBase = r'D:\\Data\\0_DAILY_INTERVAL_NDVI_TRMM\\Jiujang\\GlobCover//JJ_GlobCover.tif'\n",
      "ds = gdal.Open(rasterBase)\n",
      "array = ds.ReadAsArray()\n",
      "band = ds.GetRasterBand(1)\n",
      "nan = band.GetNoDataValue()"
     ],
     "language": "python",
     "metadata": {},
     "outputs": [],
     "prompt_number": 3
    },
    {
     "cell_type": "code",
     "collapsed": false,
     "input": [
      "y= np.bincount(array.flatten())\n",
      "ii = np.nonzero(y)[0]\n",
      "zipped = zip(ii,y[ii])\n",
      "vstack = np.vstack((ii,y[ii]))"
     ],
     "language": "python",
     "metadata": {},
     "outputs": [],
     "prompt_number": 32
    },
    {
     "cell_type": "code",
     "collapsed": false,
     "input": [
      "df2 = pd.DataFrame(vstack.T)\n",
      "df2.set_index(0, inplace=True)\n",
      "df2.T"
     ],
     "language": "python",
     "metadata": {},
     "outputs": [
      {
       "html": [
        "<div style=\"max-height:1000px;max-width:1500px;overflow:auto;\">\n",
        "<table border=\"1\" class=\"dataframe\">\n",
        "  <thead>\n",
        "    <tr style=\"text-align: right;\">\n",
        "      <th></th>\n",
        "      <th>11</th>\n",
        "      <th>14</th>\n",
        "      <th>20</th>\n",
        "      <th>30</th>\n",
        "      <th>40</th>\n",
        "      <th>50</th>\n",
        "      <th>70</th>\n",
        "      <th>100</th>\n",
        "      <th>110</th>\n",
        "      <th>120</th>\n",
        "      <th>130</th>\n",
        "      <th>140</th>\n",
        "      <th>170</th>\n",
        "      <th>180</th>\n",
        "      <th>190</th>\n",
        "      <th>200</th>\n",
        "      <th>210</th>\n",
        "      <th>220</th>\n",
        "    </tr>\n",
        "  </thead>\n",
        "  <tbody>\n",
        "    <tr>\n",
        "      <th>1</th>\n",
        "      <td> 27332</td>\n",
        "      <td> 41776</td>\n",
        "      <td> 3534</td>\n",
        "      <td> 5548</td>\n",
        "      <td> 4681</td>\n",
        "      <td> 107</td>\n",
        "      <td> 35313</td>\n",
        "      <td> 19196</td>\n",
        "      <td> 318</td>\n",
        "      <td> 2468</td>\n",
        "      <td> 13786</td>\n",
        "      <td> 1333</td>\n",
        "      <td> 5</td>\n",
        "      <td> 26</td>\n",
        "      <td> 1218</td>\n",
        "      <td> 80</td>\n",
        "      <td> 7948</td>\n",
        "      <td> 1</td>\n",
        "    </tr>\n",
        "  </tbody>\n",
        "</table>\n",
        "</div>"
       ],
       "metadata": {},
       "output_type": "pyout",
       "prompt_number": 48,
       "text": [
        "0    11     14    20    30    40   50     70     100  110   120    130   140  \\\n",
        "1  27332  41776  3534  5548  4681  107  35313  19196  318  2468  13786  1333   \n",
        "\n",
        "0  170  180   190  200   210  220  \n",
        "1    5   26  1218   80  7948    1  "
       ]
      }
     ],
     "prompt_number": 48
    },
    {
     "cell_type": "code",
     "collapsed": false,
     "input": [
      "df2 = df2.ix[[14,70,11,100,130,210,30,40,20],:]\n",
      "df2.sort()"
     ],
     "language": "python",
     "metadata": {},
     "outputs": [
      {
       "html": [
        "<div style=\"max-height:1000px;max-width:1500px;overflow:auto;\">\n",
        "<table border=\"1\" class=\"dataframe\">\n",
        "  <thead>\n",
        "    <tr style=\"text-align: right;\">\n",
        "      <th></th>\n",
        "      <th>1</th>\n",
        "    </tr>\n",
        "  </thead>\n",
        "  <tbody>\n",
        "    <tr>\n",
        "      <th>11 </th>\n",
        "      <td> 27332</td>\n",
        "    </tr>\n",
        "    <tr>\n",
        "      <th>14 </th>\n",
        "      <td> 41776</td>\n",
        "    </tr>\n",
        "    <tr>\n",
        "      <th>20 </th>\n",
        "      <td>  3534</td>\n",
        "    </tr>\n",
        "    <tr>\n",
        "      <th>30 </th>\n",
        "      <td>  5548</td>\n",
        "    </tr>\n",
        "    <tr>\n",
        "      <th>40 </th>\n",
        "      <td>  4681</td>\n",
        "    </tr>\n",
        "    <tr>\n",
        "      <th>70 </th>\n",
        "      <td> 35313</td>\n",
        "    </tr>\n",
        "    <tr>\n",
        "      <th>100</th>\n",
        "      <td> 19196</td>\n",
        "    </tr>\n",
        "    <tr>\n",
        "      <th>130</th>\n",
        "      <td> 13786</td>\n",
        "    </tr>\n",
        "    <tr>\n",
        "      <th>210</th>\n",
        "      <td>  7948</td>\n",
        "    </tr>\n",
        "  </tbody>\n",
        "</table>\n",
        "</div>"
       ],
       "metadata": {},
       "output_type": "pyout",
       "prompt_number": 53,
       "text": [
        "         1\n",
        "11   27332\n",
        "14   41776\n",
        "20    3534\n",
        "30    5548\n",
        "40    4681\n",
        "70   35313\n",
        "100  19196\n",
        "130  13786\n",
        "210   7948"
       ]
      }
     ],
     "prompt_number": 53
    },
    {
     "cell_type": "code",
     "collapsed": false,
     "input": [
      "df = pd.DataFrame(data=([17,25,3,3,21,12,8,5]),index=(['Irrigated croplands', \n",
      "                                                          'Rainfed croplands',                                                           \n",
      "                                                          'Mosaic vegetation/croplands',\n",
      "                                                          'Closed to open broadleaved evergreen or semi-deciduous forest',\n",
      "                                                          'Closed needleleaved evergreen forest',\n",
      "                                                          'Closed to open mixed broadleaved and needleleaved forest',\n",
      "                                                          'Closed to open shrubland',\n",
      "                                                          'Water bodies',\n",
      "                                                          ]))"
     ],
     "language": "python",
     "metadata": {},
     "outputs": [],
     "prompt_number": 65
    },
    {
     "cell_type": "code",
     "collapsed": false,
     "input": [
      "df = pd.DataFrame(data=([12,22,10,4,16,9,17]),index=(['Bare areas',\n",
      "                                                      'Sparse (<15%) vegetation',\n",
      "                                                      \"Closed to open (>15%) herbaceous vegetation \\n(grassland, savannas or lichens / mosses)\",\n",
      "                                                      'Open (15-40%) needle-leaved deciduous or evergreen forest (>5m)',\n",
      "                                                      'Mosaic vegetation (50-70%) / cropland (20-50%)', \n",
      "                                                      'Mosaic cropland (50-70%) / vegetation (20-50%)', \n",
      "                                                      'Rainfed croplands',\n",
      "                                                      ]))"
     ],
     "language": "python",
     "metadata": {},
     "outputs": [],
     "prompt_number": 50
    },
    {
     "cell_type": "code",
     "collapsed": false,
     "input": [
      "df = pd.DataFrame(data=([12,22,10,4,16,9,17]),index=(['Bare areas',\n",
      "                                                      'Sparse (<15%) vegetation',\n",
      "                                                      \"Closed to open (>15%) herbaceous vegetation \\n(grassland, savannas or lichens / mosses)\",\n",
      "                                                      'Open (15-40%) needle-leaved deciduous or evergreen forest (>5m)',\n",
      "                                                      'Mosaic vegetation (50-70%) / cropland (20-50%)', \n",
      "                                                      'Mosaic cropland (50-70%) / vegetation (20-50%)', \n",
      "                                                      'Rainfed croplands',\n",
      "                                                      ]))"
     ],
     "language": "python",
     "metadata": {},
     "outputs": [],
     "prompt_number": 61
    },
    {
     "cell_type": "code",
     "collapsed": false,
     "input": [
      "rects1 = df.plot(kind='barh', legend=None, width=0.90, color=['#AAF0F0','#FFFF64', '#CDCD66', '#006400', '#243C00', '#788200', '#966400','#0046C8']\n",
      "                                                              #'#fff5d7', '#ffebaf', '#ffb432', '#286400', '#cdcd66', '#dcf064', '#ffff64'], \n",
      "        grid=False, xticks=None, zorder=4, fontsize=14, figsize=(14.5,4), xlim=(0,27))\n",
      "plt.grid(axis='x')\n",
      "plt.tick_params(direction='out', color='white')\n",
      "plt.xlabel('Area (%)')\n",
      "\n",
      "\n",
      "\n",
      "\n",
      "def autolabel(rects):\n",
      "# attach some text labels\n",
      "    for rect in rects.patches:\n",
      "        width = rect.get_width()\n",
      "        plt.text(rect.get_x()+rect.get_width()-0.75, rect.get_y()+0.25,  '%s'% (width),\n",
      "                ha='center', va='bottom', zorder=5)\n",
      "autolabel(rects1)\n",
      "rects1.axes.set_visible(True)\n",
      "rects1.axes.set_frame_on(False)\n",
      "\n",
      "plt.tight_layout()\n",
      "\n",
      "pltOut = r'D:\\Data\\0_DAILY_INTERVAL_NDVI_TRMM\\Jiujang\\GlobCover//out2.png'\n",
      "\n",
      "plt.savefig(pltOut, dpi=400)\n",
      "plt.show()"
     ],
     "language": "python",
     "metadata": {},
     "outputs": [
      {
       "metadata": {},
       "output_type": "display_data",
       "png": "[encoded data removed]",
       "text": [
        "<matplotlib.figure.Figure at 0xea56550>"
       ]
      }
     ],
     "prompt_number": 67
    },
    {
     "cell_type": "code",
     "collapsed": false,
     "input": [
      "color=['#ffff64', '#dcf064', '#cdcd66', '#286400', '#ffb432', '#ffebaf', '#fff5d7']\n",
      "color=['#fff5d7', '#ffebaf', '#ffb432', '#286400', '#cdcd66', '#dcf064', '#ffff64']"
     ],
     "language": "python",
     "metadata": {},
     "outputs": [
      {
       "ename": "SyntaxError",
       "evalue": "invalid syntax (<ipython-input-181-8c3614691b16>, line 1)",
       "output_type": "pyerr",
       "traceback": [
        "\u001b[1;36m  File \u001b[1;32m\"<ipython-input-181-8c3614691b16>\"\u001b[1;36m, line \u001b[1;32m1\u001b[0m\n\u001b[1;33m    rects1.axes.set_frame_on(False))\u001b[0m\n\u001b[1;37m                                   ^\u001b[0m\n\u001b[1;31mSyntaxError\u001b[0m\u001b[1;31m:\u001b[0m invalid syntax\n"
       ]
      }
     ],
     "prompt_number": 181
    },
    {
     "cell_type": "code",
     "collapsed": false,
     "input": [
      "for i in rects1.patches:\n",
      "    print i.get_y()\n",
      "    print i.get_x()"
     ],
     "language": "python",
     "metadata": {},
     "outputs": [
      {
       "output_type": "stream",
       "stream": "stdout",
       "text": [
        "-0.45\n",
        "0\n",
        "0.55\n",
        "0\n",
        "1.55\n",
        "0\n",
        "2.55\n",
        "0\n",
        "3.55\n",
        "0\n",
        "4.55\n",
        "0\n",
        "5.55\n",
        "0\n"
       ]
      }
     ],
     "prompt_number": 105
    },
    {
     "cell_type": "code",
     "collapsed": false,
     "input": [
      "i.get_y()"
     ],
     "language": "python",
     "metadata": {},
     "outputs": [
      {
       "metadata": {},
       "output_type": "pyout",
       "prompt_number": 104,
       "text": [
        "5.5499999999999998"
       ]
      }
     ],
     "prompt_number": 104
    },
    {
     "cell_type": "code",
     "collapsed": false,
     "input": [],
     "language": "python",
     "metadata": {},
     "outputs": [
      {
       "metadata": {},
       "output_type": "pyout",
       "prompt_number": 92,
       "text": [
        "0"
       ]
      }
     ],
     "prompt_number": 92
    },
    {
     "cell_type": "code",
     "collapsed": false,
     "input": [],
     "language": "python",
     "metadata": {},
     "outputs": []
    }
   ],
   "metadata": {}
  }
 ]
}