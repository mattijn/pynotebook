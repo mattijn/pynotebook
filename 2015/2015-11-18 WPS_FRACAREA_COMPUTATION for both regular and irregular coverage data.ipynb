{
 "metadata": {
  "name": "",
  "signature": "sha256:31f79c2294204b2a6e311e586c76b0f8a6d80c51bcb8e2ac68df0c1a72c9912f"
 },
 "nbformat": 3,
 "nbformat_minor": 0,
 "worksheets": [
  {
   "cells": [
    {
     "cell_type": "code",
     "collapsed": false,
     "input": [
      "from pywps.Process import WPSProcess \n",
      "import types\n",
      "import os\n",
      "import geojson\n",
      "import subprocess as sp\n",
      "import json\n",
      "import logging\n",
      "import sys\n",
      "import urllib\n",
      "from osgeo import gdal\n",
      "import numpy as np\n",
      "from lxml import etree\n",
      "from datetime import datetime, timedelta\n",
      "import pandas as pd\n",
      "from cStringIO import StringIO\n",
      "from datetime import datetime, timedelta"
     ],
     "language": "python",
     "metadata": {},
     "outputs": [],
     "prompt_number": 1
    },
    {
     "cell_type": "code",
     "collapsed": false,
     "input": [
      "def find_nearest(array,value):\n",
      "    return (np.abs(array-value)).argmin()"
     ],
     "language": "python",
     "metadata": {},
     "outputs": [],
     "prompt_number": 2
    },
    {
     "cell_type": "code",
     "collapsed": false,
     "input": [
      "def datelist_irregular_coverage(root, date, no_observations):\n",
      "    #get ANSI start date of coverage\n",
      "    lc = root.find(\".//{http://www.opengis.net/gml/3.2}lowerCorner\").text\n",
      "    start_date=int((lc.split(' '))[2])\n",
      "    #print [start_date, end_date]\n",
      "\n",
      "    #convert user date to ISO date\n",
      "    cur_date = datetime.strptime(date,\"%Y-%m-%d\")\n",
      "    #convert start date coverage to ISO date\n",
      "    start = datetime.fromtimestamp((start_date-(datetime(1970,1,1)-datetime(1601,1,1)).days)*24*60*60)\n",
      "    #print start    \n",
      "\n",
      "    # get sample size coefficients from XML root\n",
      "    sample_size = root[0][3][0][5][0][1].text #sample size\n",
      "    #print root[0][3][0][5][0][1].text #sample size\n",
      "    \n",
      "    # use coverage start_date and sample_size array to create all dates in ANSI\n",
      "    array_stepsize = np.fromstring(sample_size, dtype=int, sep=' ')\n",
      "    #print np.fromstring(sample_size, dtype=int, sep=' ')\n",
      "    array_all_ansi = array_stepsize + start_date   \n",
      "    \n",
      "    # create array of all dates in ISO\n",
      "    list_all_dates = []\n",
      "    for stepsize in array_stepsize:\n",
      "        date_and_stepsize = start + timedelta(stepsize - 1)\n",
      "        list_all_dates.append(date_and_stepsize)\n",
      "        #print date_and_stepsize\n",
      "    array_all_dates = np.array(list_all_dates)      \n",
      "\n",
      "    # subtract user date of all dates in ISO \n",
      "    # and find the nearest available coverage date\n",
      "    array_diff_dates = array_all_dates - cur_date\n",
      "    idx_nearest_date = find_nearest(array_diff_dates, timedelta(0))\n",
      "    date_list = array_all_dates[idx_nearest_date-no_observations:idx_nearest_date+1]\n",
      "    \n",
      "    # return datelist in ANSI and the index of the nearest date\n",
      "    return date_list[::-1]"
     ],
     "language": "python",
     "metadata": {},
     "outputs": [],
     "prompt_number": 3
    },
    {
     "cell_type": "code",
     "collapsed": false,
     "input": [
      "def getDateList(date, no_observations):\n",
      "\n",
      "    ##request image cube for the specified date and area by WCS.\n",
      "    #firstly we get the temporal length of avaliable NDVI data from the DescribeCoverage of WCS\n",
      "    endpoint='http://192.168.1.104:8080/rasdaman/ows'\n",
      "    field={}\n",
      "    field['SERVICE']='WCS'\n",
      "    field['VERSION']='2.0.1'\n",
      "    field['REQUEST']='DescribeCoverage'\n",
      "    field['COVERAGEID']='NDVI_MOD13C1005_uptodate'#NDVI_MOD13C1005_uptodate\n",
      "    url_values = urllib.urlencode(field,doseq=True)\n",
      "    full_url = endpoint + '?' + url_values\n",
      "    print full_url\n",
      "    data = urllib.urlopen(full_url).read()\n",
      "    root = etree.fromstring(data)\n",
      "\n",
      "    try:\n",
      "        # regular coverage: should contain a fixed temporal resolution \n",
      "        # get it and compute date_list    \n",
      "        temp_res = int((root[0][3][0][5].text).split(' ')[2])\n",
      "        print 'regular coverage'\n",
      "        print temp_res\n",
      "\n",
      "        # convert all required dates in ISO date format\n",
      "        date_start = datetime(int(date[0:4]),int(date[5:7]),int(date[8:10]))\n",
      "        date_list = []\n",
      "        date_list.append(date_start)\n",
      "        for i in range(1,no_observations+1):\n",
      "            #print i\n",
      "            date_list.append(date_start - (i *timedelta(days=temp_res)))\n",
      "    except:\n",
      "        # irregular coverage: get date_list according to the offset\n",
      "        print 'irregular coverage'\n",
      "        date_list = datelist_irregular_coverage(root, date, no_observations)    \n",
      "    return date_list"
     ],
     "language": "python",
     "metadata": {},
     "outputs": [],
     "prompt_number": 4
    },
    {
     "cell_type": "code",
     "collapsed": false,
     "input": [
      "extent=[108.8,38.2,121.1,43.5]\n",
      "date = \"2014-04-01\"\n",
      "no_observations = 4\n",
      "coverageID = 'NDVI_MOD13C1005_uptodate'"
     ],
     "language": "python",
     "metadata": {},
     "outputs": [],
     "prompt_number": 10
    },
    {
     "cell_type": "code",
     "collapsed": false,
     "input": [
      "date_list = getDateList(date, no_observations, coverageID)\n",
      "# request data use WCS service baed on extend and clip based on sql query\n",
      "array_NDAI = []\n",
      "endpoint='http://192.168.1.104:8080/rasdaman/ows'\n",
      "for j in date_list:\n",
      "    #logging.info(j)\n",
      "    #d = 150842\n",
      "    date_in_string = '\"'+str(j.year)+'-'+str(j.month).zfill(2)+'-'+str(j.day).zfill(2)+'\"'\n",
      "\n",
      "    #logging.info(date_in_string)\n",
      "    #logging.info(str(extent[1]))\n",
      "    #logging.info(str(extent[3]))\n",
      "    #logging.info(str(extent[0]))\n",
      "    #logging.info(str(extent[2]))\n",
      "\n",
      "    field={}\n",
      "    field['SERVICE']='WCS'\n",
      "    field['VERSION']='2.0.1'\n",
      "    field['REQUEST']='GetCoverage'\n",
      "    field['COVERAGEID']=coverageID#'trmm_3b42_coverage_1'#NDVI_MOD13C1005_uptodate\n",
      "    field['SUBSET']=['ansi('+date_in_string+')',#['ansi('+str(d)+')',\n",
      "                     'Lat('+str(extent[1])+','+str(extent[3])+')',\n",
      "                    'Long('+str(extent[0])+','+str(extent[2])+')']\n",
      "    field['FORMAT']='image/tiff'\n",
      "    url_values = urllib.urlencode(field,doseq=True)\n",
      "    full_url = endpoint + '?' + url_values\n",
      "\n",
      "    logging.info(full_url)\n",
      "    print full_url\n",
      "    tmpfilename='test'+str(j.toordinal())+'.tif'\n",
      "\n",
      "    #logging.info(tmpfilename)\n",
      "    f,h = urllib.urlretrieve(full_url,tmpfilename)\n",
      "    #logging.info(h)\n",
      "    #print h\n",
      "    #ds_test_tmpfilename = gdal.Open(tmpfilename).ReadAsArray()\n",
      "    #logging.info(ds_test_tmpfilename[0])\n",
      "\n",
      "    #ds=gdal.Open(tmpfilename)\n",
      "#         clippedfilename='test'+str(j.toordinal())+'clip.tif' \n",
      "\n",
      "#         path_base = \"/var/www/html/wps/CHN_adm\"\n",
      "#         CHN_adm_gpkg = os.path.join(path_base, \"CHN_adm.gpkg\")\n",
      "\n",
      "#         command = [\"/usr/bin/gdalwarp\",\"-cutline\",CHN_adm_gpkg,\"-csql\",\"SELECT NAME_3 FROM CHN_adm3 WHERE NAME_1 = '\"+NAME_1+\"' and NAME_2 = '\"+NAME_2+\"' and NAME_3 = '\"+NAME_3+\"'\",\"-crop_to_cutline\",\"-of\",\"GTiff\",\"-dstnodata\",\"-9999\",tmpfilename,clippedfilename, \"-overwrite\"]\n",
      "\n",
      "#         logging.info(sp.list2cmdline(command))\n",
      "#         #print (sp.list2cmdline(command))\n",
      "\n",
      "#         norm = sp.Popen(sp.list2cmdline(command),stdout=sp.PIPE, shell=True)  \n",
      "#         norm.communicate()   \n",
      "\n",
      "#         ds=gdal.Open(clippedfilename)\n",
      "#         ds_clip = ds.ReadAsArray() \n",
      "\n",
      "    ds=gdal.Open(tmpfilename)\n",
      "    ds_clip = ds.ReadAsArray()         \n",
      "\n",
      "    #logging.info(ds_clip[0])\n",
      "\n",
      "    array_NDAI.append(ds_clip)"
     ],
     "language": "python",
     "metadata": {},
     "outputs": [
      {
       "output_type": "stream",
       "stream": "stdout",
       "text": [
        "http://192.168.1.104:8080/rasdaman/ows?VERSION=2.0.1&REQUEST=DescribeCoverage&SERVICE=WCS&COVERAGEID=NDVI_MOD13C1005_uptodate\n",
        "irregular coverage"
       ]
      },
      {
       "output_type": "stream",
       "stream": "stdout",
       "text": [
        "\n",
        "http://192.168.1.104:8080/rasdaman/ows?SUBSET=ansi%28%222014-04-07%22%29&SUBSET=Lat%2838.2%2C43.5%29&SUBSET=Long%28108.8%2C121.1%29&SERVICE=WCS&FORMAT=image%2Ftiff&REQUEST=GetCoverage&VERSION=2.0.1&COVERAGEID=NDVI_MOD13C1005_uptodate\n",
        "http://192.168.1.104:8080/rasdaman/ows?SUBSET=ansi%28%222014-03-22%22%29&SUBSET=Lat%2838.2%2C43.5%29&SUBSET=Long%28108.8%2C121.1%29&SERVICE=WCS&FORMAT=image%2Ftiff&REQUEST=GetCoverage&VERSION=2.0.1&COVERAGEID=NDVI_MOD13C1005_uptodate"
       ]
      },
      {
       "output_type": "stream",
       "stream": "stdout",
       "text": [
        "\n",
        "http://192.168.1.104:8080/rasdaman/ows?SUBSET=ansi%28%222014-03-06%22%29&SUBSET=Lat%2838.2%2C43.5%29&SUBSET=Long%28108.8%2C121.1%29&SERVICE=WCS&FORMAT=image%2Ftiff&REQUEST=GetCoverage&VERSION=2.0.1&COVERAGEID=NDVI_MOD13C1005_uptodate"
       ]
      },
      {
       "output_type": "stream",
       "stream": "stdout",
       "text": [
        "\n",
        "http://192.168.1.104:8080/rasdaman/ows?SUBSET=ansi%28%222014-02-18%22%29&SUBSET=Lat%2838.2%2C43.5%29&SUBSET=Long%28108.8%2C121.1%29&SERVICE=WCS&FORMAT=image%2Ftiff&REQUEST=GetCoverage&VERSION=2.0.1&COVERAGEID=NDVI_MOD13C1005_uptodate"
       ]
      },
      {
       "output_type": "stream",
       "stream": "stdout",
       "text": [
        "\n",
        "http://192.168.1.104:8080/rasdaman/ows?SUBSET=ansi%28%222014-02-02%22%29&SUBSET=Lat%2838.2%2C43.5%29&SUBSET=Long%28108.8%2C121.1%29&SERVICE=WCS&FORMAT=image%2Ftiff&REQUEST=GetCoverage&VERSION=2.0.1&COVERAGEID=NDVI_MOD13C1005_uptodate"
       ]
      },
      {
       "output_type": "stream",
       "stream": "stdout",
       "text": [
        "\n"
       ]
      }
     ],
     "prompt_number": 6
    },
    {
     "cell_type": "code",
     "collapsed": false,
     "input": [
      "array_NDAI"
     ],
     "language": "python",
     "metadata": {},
     "outputs": [
      {
       "metadata": {},
       "output_type": "pyout",
       "prompt_number": 7,
       "text": [
        "[array([[  969,  1005,  1011, ...,  1836,  1897,  1890],\n",
        "        [ 1028,  1017,  1049, ...,  2026,  2072,  2034],\n",
        "        [ 1138,  1172,  1187, ...,  1717,  2034,  2058],\n",
        "        ..., \n",
        "        [ 1392,  1776,  2061, ..., -3000, -3000, -3000],\n",
        "        [ 1511,  1942,  1594, ..., -3000, -3000, -3000],\n",
        "        [ 1863,  1887,  1875, ..., -3000, -3000, -3000]], dtype=int16),\n",
        " array([[ 1005,  1019,   944, ...,  1909,  1979,  1987],\n",
        "        [ 1023,  1032,  1027, ...,  2073,  2040,  2042],\n",
        "        [ 1144,  1178,  1213, ...,  1775,  2053,  2064],\n",
        "        ..., \n",
        "        [ 1367,  1537,  1701, ..., -3000, -3000, -3000],\n",
        "        [ 1419,  1639,  1506, ..., -3000, -3000, -3000],\n",
        "        [ 1669,  1644,  1602, ..., -3000, -3000, -3000]], dtype=int16),\n",
        " array([[ 1039,  1045,  1017, ...,  1995,  2002,  1978],\n",
        "        [ 1086,  1119,  1124, ...,  2504,  1499,  1974],\n",
        "        [ 1158,  1202,  1234, ...,  1448,  1389,  2029],\n",
        "        ..., \n",
        "        [ 1269,  1469,  1572, ..., -3000, -3000, -3000],\n",
        "        [ 1385,  1508,  1400, ..., -3000, -3000, -3000],\n",
        "        [ 1560,  1558,  1498, ..., -3000, -3000, -3000]], dtype=int16),\n",
        " array([[ 1076,  1093,  1065, ...,  1933,  1988,  1961],\n",
        "        [  882,  1117,  1114, ...,  2292,  1245,  2224],\n",
        "        [ 1026,  1190,  1239, ...,   961,  1866,  2351],\n",
        "        ..., \n",
        "        [ 1222,  1433,  1592, ..., -3000, -3000, -3000],\n",
        "        [ 1281,  1506,  1372, ..., -3000, -3000, -3000],\n",
        "        [ 1588,  1588,  1516, ..., -3000, -3000, -3000]], dtype=int16),\n",
        " array([[ 1003,   990,   978, ...,  1916,  1828,  1914],\n",
        "        [  964,  1059,   642, ...,  2214,  1165,  1185],\n",
        "        [  651,   805,  1240, ...,  1298,  1970,  2301],\n",
        "        ..., \n",
        "        [  949,  1094,   685, ..., -3000, -3000, -3000],\n",
        "        [  647,   569,   846, ..., -3000, -3000, -3000],\n",
        "        [ 1378,   854,   331, ..., -3000, -3000, -3000]], dtype=int16)]"
       ]
      }
     ],
     "prompt_number": 7
    },
    {
     "cell_type": "code",
     "collapsed": false,
     "input": [],
     "language": "python",
     "metadata": {},
     "outputs": []
    }
   ],
   "metadata": {}
  }
 ]
}