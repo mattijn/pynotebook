{
 "cells": [
  {
   "cell_type": "code",
   "execution_count": 1,
   "metadata": {},
   "outputs": [],
   "source": [
    "import os\n",
    "from glob import glob\n",
    "import subprocess as sp"
   ]
  },
  {
   "cell_type": "code",
   "execution_count": 2,
   "metadata": {},
   "outputs": [],
   "source": [
    "def cmd(command, wd='./', parse_directly=False):\n",
    "    \"\"\"\n",
    "    Function to execute commands from python.\n",
    "    \n",
    "    Parameters\n",
    "    ----------\n",
    "    command : list of strings / str\n",
    "        example 1 (list of strings):\n",
    "            command = ['path/to/run.bat', '-d', 'path/to/dir'] \n",
    "            if parse_directly is False (default)\n",
    "            \n",
    "        example 2 (str):\n",
    "            command = 'path/to/run.bat -d path/to/dir'\n",
    "            if parse_directly is True\n",
    "    wd : str\n",
    "        working directory to execute the script\n",
    "        example: \n",
    "            './' is current working directory (default)\n",
    "            '/' is single directoy higher, relative\n",
    "            'c:/to/folder' is absolute path\n",
    "    parse_directly : boolean\n",
    "        parse command as a single string\n",
    "        \n",
    "    Returns\n",
    "    -------\n",
    "    out_cmd : str\n",
    "        output as is received from the commandline\n",
    "    \"\"\"\n",
    "    \n",
    "    if parse_directly==True:\n",
    "        #print(command)\n",
    "        norm = sp.Popen(command,stdout=sp.PIPE, shell=True, cwd=wd)\n",
    "    else:\n",
    "        #print(sp.list2cmdline(command))\n",
    "        norm = sp.Popen(sp.list2cmdline(command),stdout=sp.PIPE, shell=True, cwd=wd)            \n",
    "             \n",
    "    out_cmd = norm.communicate()\n",
    "    \n",
    "    try:\n",
    "        out_cmd = out_cmd[0].decode('utf-8')\n",
    "    except:\n",
    "        pass\n",
    "    return out_cmd"
   ]
  },
  {
   "cell_type": "code",
   "execution_count": 3,
   "metadata": {},
   "outputs": [
    {
     "name": "stdout",
     "output_type": "stream",
     "text": [
      " Volume in drive D is DATA\n",
      " Volume Serial Number is CE86-87BB\n",
      "\n",
      " Directory of D:\\jupyter notebooks\\3730.15 Continu-Inzicht\n",
      "\n",
      "01/08/2019  01:18 PM    <DIR>          .\n",
      "01/08/2019  01:18 PM    <DIR>          ..\n",
      "01/08/2019  12:02 PM    <DIR>          .ipynb_checkpoints\n",
      "11/19/2018  09:38 AM            41,918 2018-11-16 meetstations voorspelling ensemble line.ipynb\n",
      "11/23/2018  01:24 PM            28,714 2018-11-21 monitoring sections info.ipynb\n",
      "12/14/2018  12:04 PM             8,570 2018-11-27 computational grid.ipynb\n",
      "12/14/2018  10:11 AM            14,242 2018-12-14 compute afgeleide grids.ipynb\n",
      "01/08/2019  01:18 PM             3,957 2019-01-08 read waqua SDS files by commandline.ipynb\n",
      "11/21/2018  04:19 PM           139,849 geo_areas_28992.dbf\n",
      "06/29/2018  07:44 AM               433 geo_areas_28992.prj\n",
      "06/29/2018  07:44 AM               706 geo_areas_28992.qpj\n",
      "11/21/2018  04:19 PM           800,120 geo_areas_28992.shp\n",
      "11/21/2018  04:19 PM             2,212 geo_areas_28992.shx\n",
      "11/27/2018  12:17 PM           831,258 geo_betuwe-_en_tieler-_en_culemborgerwaarden__angeren__tp__getroffenen.asc\n",
      "11/27/2018  12:17 PM               422 geo_betuwe-_en_tieler-_en_culemborgerwaarden__angeren__tp__getroffenen.prj\n",
      "11/27/2018  12:12 PM           614,300 geo_betuwe-_en_tieler-_en_culemborgerwaarden__angeren__tp__nattevoeten.asc\n",
      "11/27/2018  12:16 PM               422 geo_betuwe-_en_tieler-_en_culemborgerwaarden__angeren__tp__nattevoeten.prj\n",
      "05/27/2016  01:47 PM         1,141,680 geo_betuwe-_en_tieler-_en_culemborgerwaarden__angeren__tp__schade.asc\n",
      "01/03/2017  08:25 AM               428 geo_betuwe-_en_tieler-_en_culemborgerwaarden__angeren__tp__schade.prj\n",
      "05/27/2016  01:55 PM           868,405 geo_betuwe-_en_tieler-_en_culemborgerwaarden__angeren__tp__slachtoffers.asc\n",
      "01/03/2017  08:25 AM               428 geo_betuwe-_en_tieler-_en_culemborgerwaarden__angeren__tp__slachtoffers.prj\n",
      "05/27/2016  01:40 PM           786,208 geo_betuwe-_en_tieler-_en_culemborgerwaarden__angeren__tp__stijgsnelheid.asc\n",
      "01/03/2017  08:25 AM               428 geo_betuwe-_en_tieler-_en_culemborgerwaarden__angeren__tp__stijgsnelheid.prj\n",
      "05/27/2016  01:33 PM           782,331 geo_betuwe-_en_tieler-_en_culemborgerwaarden__angeren__tp__stroomsnelheid.asc\n",
      "01/03/2017  08:25 AM               428 geo_betuwe-_en_tieler-_en_culemborgerwaarden__angeren__tp__stroomsnelheid.prj\n",
      "05/27/2016  01:24 PM           781,045 geo_betuwe-_en_tieler-_en_culemborgerwaarden__angeren__tp__waterdiepte.asc\n",
      "01/03/2017  08:25 AM               428 geo_betuwe-_en_tieler-_en_culemborgerwaarden__angeren__tp__waterdiepte.prj\n",
      "12/13/2018  05:03 PM            15,784 Untitled.ipynb\n",
      "              25 File(s)      6,864,716 bytes\n",
      "               3 Dir(s)  94,342,893,568 bytes free\n",
      "\n"
     ]
    }
   ],
   "source": [
    "out = cmd(['dir'])\n",
    "print(out)"
   ]
  },
  {
   "cell_type": "code",
   "execution_count": 4,
   "metadata": {},
   "outputs": [
    {
     "data": {
      "text/plain": [
       "'D:\\\\jupyter notebooks\\\\3730.15 Continu-Inzicht'"
      ]
     },
     "execution_count": 4,
     "metadata": {},
     "output_type": "execute_result"
    }
   ],
   "source": [
    "dir_path = os.getcwd()\n",
    "dir_path"
   ]
  },
  {
   "cell_type": "code",
   "execution_count": 5,
   "metadata": {},
   "outputs": [
    {
     "name": "stdout",
     "output_type": "stream",
     "text": [
      " Volume in drive D is DATA\n",
      " Volume Serial Number is CE86-87BB\n",
      "\n",
      " Directory of D:\\jupyter notebooks\\3730.15 Continu-Inzicht\n",
      "\n",
      "01/08/2019  01:18 PM    <DIR>          .\n",
      "01/08/2019  01:18 PM    <DIR>          ..\n",
      "01/08/2019  12:02 PM    <DIR>          .ipynb_checkpoints\n",
      "11/19/2018  09:38 AM            41,918 2018-11-16 meetstations voorspelling ensemble line.ipynb\n",
      "11/23/2018  01:24 PM            28,714 2018-11-21 monitoring sections info.ipynb\n",
      "12/14/2018  12:04 PM             8,570 2018-11-27 computational grid.ipynb\n",
      "12/14/2018  10:11 AM            14,242 2018-12-14 compute afgeleide grids.ipynb\n",
      "01/08/2019  01:18 PM             3,957 2019-01-08 read waqua SDS files by commandline.ipynb\n",
      "11/21/2018  04:19 PM           139,849 geo_areas_28992.dbf\n",
      "06/29/2018  07:44 AM               433 geo_areas_28992.prj\n",
      "06/29/2018  07:44 AM               706 geo_areas_28992.qpj\n",
      "11/21/2018  04:19 PM           800,120 geo_areas_28992.shp\n",
      "11/21/2018  04:19 PM             2,212 geo_areas_28992.shx\n",
      "11/27/2018  12:17 PM           831,258 geo_betuwe-_en_tieler-_en_culemborgerwaarden__angeren__tp__getroffenen.asc\n",
      "11/27/2018  12:17 PM               422 geo_betuwe-_en_tieler-_en_culemborgerwaarden__angeren__tp__getroffenen.prj\n",
      "11/27/2018  12:12 PM           614,300 geo_betuwe-_en_tieler-_en_culemborgerwaarden__angeren__tp__nattevoeten.asc\n",
      "11/27/2018  12:16 PM               422 geo_betuwe-_en_tieler-_en_culemborgerwaarden__angeren__tp__nattevoeten.prj\n",
      "05/27/2016  01:47 PM         1,141,680 geo_betuwe-_en_tieler-_en_culemborgerwaarden__angeren__tp__schade.asc\n",
      "01/03/2017  08:25 AM               428 geo_betuwe-_en_tieler-_en_culemborgerwaarden__angeren__tp__schade.prj\n",
      "05/27/2016  01:55 PM           868,405 geo_betuwe-_en_tieler-_en_culemborgerwaarden__angeren__tp__slachtoffers.asc\n",
      "01/03/2017  08:25 AM               428 geo_betuwe-_en_tieler-_en_culemborgerwaarden__angeren__tp__slachtoffers.prj\n",
      "05/27/2016  01:40 PM           786,208 geo_betuwe-_en_tieler-_en_culemborgerwaarden__angeren__tp__stijgsnelheid.asc\n",
      "01/03/2017  08:25 AM               428 geo_betuwe-_en_tieler-_en_culemborgerwaarden__angeren__tp__stijgsnelheid.prj\n",
      "05/27/2016  01:33 PM           782,331 geo_betuwe-_en_tieler-_en_culemborgerwaarden__angeren__tp__stroomsnelheid.asc\n",
      "01/03/2017  08:25 AM               428 geo_betuwe-_en_tieler-_en_culemborgerwaarden__angeren__tp__stroomsnelheid.prj\n",
      "05/27/2016  01:24 PM           781,045 geo_betuwe-_en_tieler-_en_culemborgerwaarden__angeren__tp__waterdiepte.asc\n",
      "01/03/2017  08:25 AM               428 geo_betuwe-_en_tieler-_en_culemborgerwaarden__angeren__tp__waterdiepte.prj\n",
      "12/13/2018  05:03 PM            15,784 Untitled.ipynb\n",
      "              25 File(s)      6,864,716 bytes\n",
      "               3 Dir(s)  94,342,893,568 bytes free\n",
      "\n"
     ]
    }
   ],
   "source": [
    "out = cmd('dir', wd=dir_path, parse_directly=True)\n",
    "print(out)"
   ]
  },
  {
   "cell_type": "code",
   "execution_count": 6,
   "metadata": {},
   "outputs": [
    {
     "name": "stdout",
     "output_type": "stream",
     "text": [
      " Volume in drive D is DATA\n",
      " Volume Serial Number is CE86-87BB\n",
      "\n",
      " Directory of D:\\jupyter notebooks\n",
      "\n",
      "12/20/2018  02:16 PM    <DIR>          .\n",
      "12/20/2018  02:16 PM    <DIR>          ..\n",
      "12/14/2018  09:29 AM    <DIR>          .ipynb_checkpoints\n",
      "01/03/2019  02:25 PM    <DIR>          0001.00 Markt\n",
      "12/22/2016  09:16 AM    <DIR>          0002.10 pandas 2 jqplot\n",
      "12/10/2018  03:50 PM    <DIR>          0708.10 Jong HKV\n",
      "12/22/2016  09:16 AM    <DIR>          0726.10 python cursus\n",
      "04/03/2017  08:57 AM    <DIR>          0770.10 Dashboard 2.0\n",
      "06/09/2017  04:55 PM    <DIR>          0788.10 Data Challenge\n",
      "09/14/2018  11:10 AM    <DIR>          0815.10 Data Challenge 2018\n",
      "11/09/2017  08:56 AM    <DIR>          2695.40 Zeespiegelmonitor\n",
      "07/12/2017  04:38 PM    <DIR>          2702.10 Fews volta\n",
      "09/27/2017  09:04 AM    <DIR>          2811.20 Imprex\n",
      "09/25/2018  09:21 AM    <DIR>          2877.20 Hondsbossche Duinen\n",
      "01/06/2017  03:15 PM    <DIR>          2901.10 Fortissimo\n",
      "02/01/2018  02:36 PM    <DIR>          3035.11 CORE Bangladesh\n",
      "02/12/2018  10:53 AM    <DIR>          3282.10 MyFloodRisk\n",
      "12/19/2018  10:23 AM    <DIR>          3317.20 OMS Waddenzee\n",
      "11/14/2018  02:39 PM    <DIR>          3317.30 OMS Waddenzee flexibel\n",
      "01/03/2019  04:09 PM    <DIR>          3348.10 WIP Awash - Ethiopie\n",
      "12/22/2016  09:16 AM    <DIR>          3398.10 Muhle sobek\n",
      "04/19/2017  05:13 PM    <DIR>          3412.10 Faas\n",
      "11/20/2018  11:43 AM    <DIR>          3427.10 Myanmar FewsPi\n",
      "12/22/2016  09:16 AM    <DIR>          3444.10 debiet Brommelen\n",
      "09/01/2017  02:39 PM    <DIR>          3492.10 Eact LSA-SAF\n",
      "10/30/2018  09:37 AM    <DIR>          3517.10 Golfoverslag\n",
      "11/09/2018  04:15 PM    <DIR>          3537.30 SOM VNK data\n",
      "05/17/2017  01:46 PM    <DIR>          3556.10 HAAS Vega\n",
      "09/28/2017  03:58 PM    <DIR>          3594.10 HB-havens\n",
      "11/08/2017  06:03 PM    <DIR>          3629.10 SingleRunner\n",
      "01/10/2018  03:35 PM    <DIR>          3651.10 Waterstands statistiek\n",
      "04/06/2018  12:25 PM    <DIR>          3688.10 Profielgenerator AHN3+\n",
      "02/01/2018  03:06 PM    <DIR>          3694.10 Notebooks opschalen\n",
      "12/05/2017  10:52 PM    <DIR>          3694.10 vecht\n",
      "05/15/2018  09:20 PM    <DIR>          3694.20 POV Vecht\n",
      "05/15/2018  09:29 PM    <DIR>          3711.10 tol inunatie\n",
      "09/14/2018  01:57 PM    <DIR>          3717.30 KNMI H5 bestanden\n",
      "09/25/2018  02:48 PM    <DIR>          3723.10 ECOWAS\n",
      "01/08/2019  01:18 PM    <DIR>          3730.15 Continu-Inzicht\n",
      "04/24/2018  11:33 AM    <DIR>          3739.10 Scheldestromen\n",
      "11/16/2018  11:40 AM    <DIR>          3777.10 WSA Schieland\n",
      "12/21/2018  12:02 PM    <DIR>          3789.20 MHWp5 OVGK\n",
      "12/20/2018  03:37 PM    <DIR>          3834.10 ZZL Datavalidatie\n",
      "12/19/2018  11:06 AM    <DIR>          3941.10 Plaatsgebonden risico kaarten\n",
      "11/20/2018  10:52 AM    <DIR>          HKV Altair Notebooks\n",
      "07/18/2018  01:54 PM    <SYMLINKD>     HKV_packages [D:\\HKV sites + packages]\n",
      "10/05/2017  08:06 AM    <DIR>          RADI\n",
      "11/28/2018  11:36 AM    <DIR>          spelen\n",
      "               0 File(s)              0 bytes\n",
      "              48 Dir(s)  94,342,893,568 bytes free\n",
      "\n"
     ]
    }
   ],
   "source": [
    "out = cmd(['dir'], wd='../')\n",
    "print(out)"
   ]
  },
  {
   "cell_type": "code",
   "execution_count": 7,
   "metadata": {},
   "outputs": [],
   "source": [
    "dir_in = r'D:\\jupyter notebooks\\2695.40 Zeespiegelmonitor'\n",
    "subdirs = [dir for dir in glob(r'{}\\*'.format(dir_in)) if os.path.isdir(dir)]"
   ]
  },
  {
   "cell_type": "code",
   "execution_count": 8,
   "metadata": {},
   "outputs": [
    {
     "data": {
      "text/plain": [
       "['D:\\\\jupyter notebooks\\\\2695.40 Zeespiegelmonitor\\\\Jupyter Notebooks',\n",
       " 'D:\\\\jupyter notebooks\\\\2695.40 Zeespiegelmonitor\\\\NotebooksPschijf',\n",
       " 'D:\\\\jupyter notebooks\\\\2695.40 Zeespiegelmonitor\\\\review',\n",
       " 'D:\\\\jupyter notebooks\\\\2695.40 Zeespiegelmonitor\\\\Werkzaamheden']"
      ]
     },
     "execution_count": 8,
     "metadata": {},
     "output_type": "execute_result"
    }
   ],
   "source": [
    "subdirs"
   ]
  },
  {
   "cell_type": "code",
   "execution_count": null,
   "metadata": {},
   "outputs": [],
   "source": [
    "for cur_dir in subdirs:\n",
    "    command = ['c:/run.bat', 'arg1', 'arg2']\n",
    "    out = cmd(command, wd=cur_dir)\n",
    "    print(out)"
   ]
  }
 ],
 "metadata": {
  "kernelspec": {
   "display_name": "Python 3",
   "language": "python",
   "name": "python3"
  },
  "language_info": {
   "codemirror_mode": {
    "name": "ipython",
    "version": 3
   },
   "file_extension": ".py",
   "mimetype": "text/x-python",
   "name": "python",
   "nbconvert_exporter": "python",
   "pygments_lexer": "ipython3",
   "version": "3.6.5"
  }
 },
 "nbformat": 4,
 "nbformat_minor": 2
}
