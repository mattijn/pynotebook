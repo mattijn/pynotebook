{
 "cells": [
  {
   "cell_type": "code",
   "execution_count": 2,
   "metadata": {},
   "outputs": [
    {
     "name": "stdout",
     "output_type": "stream",
     "text": [
      "dataservice is set. https://dmws.hkvservices.nl/dataportal/ will be used as portal\n"
     ]
    }
   ],
   "source": [
    "from hkvportal.io.services import dataportal as dp\n",
    "dp = dp()\n",
    "dp.setDataservice(dataservice='https://dmws.hkvservices.nl/dataportal/')"
   ]
  },
  {
   "cell_type": "code",
   "execution_count": 3,
   "metadata": {},
   "outputs": [],
   "source": [
    "with open(r\"C:\\Users\\hoek.HKV\\Downloads\\pwo_gebieden.topo.json\", 'r') as f:\n",
    "    topo = f.read()"
   ]
  },
  {
   "cell_type": "code",
   "execution_count": 5,
   "metadata": {},
   "outputs": [
    {
     "name": "stdout",
     "output_type": "stream",
     "text": [
      "available at https://dmws.hkvservices.nl/dataportal/data.asmx/read2?database=WaterDataScheldestromen&key=pwo_gebieden&contentType=SET_BY_USER\n"
     ]
    },
    {
     "data": {
      "text/plain": [
       "{'id': '0bc6a579-a802-408b-addd-df0b80300277',\n",
       " 'key': 'pwo_gebieden',\n",
       " 'date': '2019-06-04 13:40:19'}"
      ]
     },
     "execution_count": 5,
     "metadata": {},
     "output_type": "execute_result"
    }
   ],
   "source": [
    "dp.setEntryDatabase(database='WaterDataScheldestromen', key='pwo_gebieden', \n",
    "                    data=topo, \n",
    "                    description='PWO-gebieden in TopoJSON formaat')"
   ]
  },
  {
   "cell_type": "code",
   "execution_count": null,
   "metadata": {},
   "outputs": [],
   "source": []
  }
 ],
 "metadata": {
  "kernelspec": {
   "display_name": "Python 3",
   "language": "python",
   "name": "python3"
  },
  "language_info": {
   "codemirror_mode": {
    "name": "ipython",
    "version": 3
   },
   "file_extension": ".py",
   "mimetype": "text/x-python",
   "name": "python",
   "nbconvert_exporter": "python",
   "pygments_lexer": "ipython3",
   "version": "3.6.5"
  }
 },
 "nbformat": 4,
 "nbformat_minor": 4
}
