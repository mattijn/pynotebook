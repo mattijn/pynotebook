{
 "cells": [
  {
   "cell_type": "code",
   "execution_count": 1,
   "metadata": {},
   "outputs": [],
   "source": [
    "import geojson\n",
    "import geopandas as gpd\n",
    "import altair as alt"
   ]
  },
  {
   "cell_type": "code",
   "execution_count": null,
   "metadata": {},
   "outputs": [],
   "source": [
    "gdf = gpd.read_file(r\"D:\\FEWSProjecten\\FEWS_Scheldestromen_Bathymetrie\\FEWS\\Config\\MapLayerFiles\\boundary\\boundary.shp\")\n",
    "alt.Chart(gdf).mark_geoshape(tooltip={\"content\": \"data\"})\n",
    "alt.Chart(gdf).mark_bar(tooltip={\"content\": \"data\"}).encode(\n",
    "    x='naam',\n",
    "    y='id'\n",
    ")"
   ]
  },
  {
   "cell_type": "code",
   "execution_count": 40,
   "metadata": {},
   "outputs": [],
   "source": [
    "s = '''{  \n",
    "    \"type\":\"FeatureCollection\",\n",
    "    \"crs\":{  \n",
    "       \"type\":\"name\",\n",
    "       \"properties\":{  \n",
    "          \"name\":\"urn:ogc:def:crs:OGC:1.3:CRS84\"\n",
    "       }\n",
    "    },\n",
    "    \"features\":[  \n",
    "       { \"type\": \"Feature\", \"properties\": { \"country\": \"Belgium\", \"gdp\": 389300.0, \"population\": 10414336.0, \"reg_veh_per_1000_inh\": 508 }, \"geometry\": { \"type\": \"Polygon\", \"coordinates\": [ [ [ 3.3, 51.3 ], [ 4.0, 51.3 ], [ 5.0, 51.5 ], [ 5.6, 51.0 ], [ 6.2, 50.8 ], [ 6.0, 50.1 ], [ 5.8, 50.1 ], [ 5.7, 49.5 ], [ 4.8, 50.0 ], [ 4.3, 49.9 ], [ 3.6, 50.4 ], [ 3.1, 50.8 ], [ 2.7, 50.8 ], [ 2.5, 51.1 ], [ 3.3, 51.3 ] ] ] } },\n",
    "       { \"type\": \"Feature\", \"properties\": { \"country\": \"Luxembourg\", \"gdp\": 39370.0, \"population\": 491775.0, \"reg_veh_per_1000_inh\": 678 }, \"geometry\": { \"type\": \"Polygon\", \"coordinates\": [ [ [ 6.0, 50.1 ], [ 6.2, 49.9 ], [ 6.2, 49.5 ], [ 5.9, 49.4 ], [ 5.7, 49.5 ], [ 5.8, 50.1 ], [ 6.0, 50.1 ] ] ] } },\n",
    "       { \"type\": \"Feature\", \"properties\": { \"country\": \"Netherlands\", \"gdp\": 672000.0, \"population\": 16715999.0, \"reg_veh_per_1000_inh\": 477 }, \"geometry\": { \"type\": \"Polygon\", \"coordinates\": [ [ [ 6.1, 53.5 ], [ 6.9, 53.5 ], [ 7.1, 53.1 ], [ 6.8, 52.2 ], [ 6.6, 51.9 ], [ 6.0, 51.9 ], [ 6.2, 50.8 ], [ 5.6, 51.0 ], [ 5.0, 51.5 ], [ 4.0, 51.3 ], [ 3.3, 51.3 ], [ 3.8, 51.6 ], [ 4.7, 53.1 ], [ 6.1, 53.5 ] ] ] } }\n",
    "    ]\n",
    " }'''\n",
    "gj = geojson.loads(s)\n",
    "gdf = gpd.GeoDataFrame.from_features(gj)"
   ]
  },
  {
   "cell_type": "code",
   "execution_count": 41,
   "metadata": {},
   "outputs": [
    {
     "data": {
      "text/html": [
       "<div>\n",
       "<style scoped>\n",
       "    .dataframe tbody tr th:only-of-type {\n",
       "        vertical-align: middle;\n",
       "    }\n",
       "\n",
       "    .dataframe tbody tr th {\n",
       "        vertical-align: top;\n",
       "    }\n",
       "\n",
       "    .dataframe thead th {\n",
       "        text-align: right;\n",
       "    }\n",
       "</style>\n",
       "<table border=\"1\" class=\"dataframe\">\n",
       "  <thead>\n",
       "    <tr style=\"text-align: right;\">\n",
       "      <th></th>\n",
       "      <th>country</th>\n",
       "      <th>gdp</th>\n",
       "      <th>geometry</th>\n",
       "      <th>population</th>\n",
       "      <th>reg_veh_per_1000_inh</th>\n",
       "    </tr>\n",
       "  </thead>\n",
       "  <tbody>\n",
       "    <tr>\n",
       "      <th>0</th>\n",
       "      <td>Belgium</td>\n",
       "      <td>389300.0</td>\n",
       "      <td>POLYGON ((3.3 51.3, 4 51.3, 5 51.5, 5.6 51, 6....</td>\n",
       "      <td>10414336.0</td>\n",
       "      <td>508</td>\n",
       "    </tr>\n",
       "    <tr>\n",
       "      <th>1</th>\n",
       "      <td>Luxembourg</td>\n",
       "      <td>39370.0</td>\n",
       "      <td>POLYGON ((6 50.1, 6.2 49.9, 6.2 49.5, 5.9 49.4...</td>\n",
       "      <td>491775.0</td>\n",
       "      <td>678</td>\n",
       "    </tr>\n",
       "    <tr>\n",
       "      <th>2</th>\n",
       "      <td>Netherlands</td>\n",
       "      <td>672000.0</td>\n",
       "      <td>POLYGON ((6.1 53.5, 6.9 53.5, 7.1 53.1, 6.8 52...</td>\n",
       "      <td>16715999.0</td>\n",
       "      <td>477</td>\n",
       "    </tr>\n",
       "  </tbody>\n",
       "</table>\n",
       "</div>"
      ],
      "text/plain": [
       "       country       gdp                                           geometry  \\\n",
       "0      Belgium  389300.0  POLYGON ((3.3 51.3, 4 51.3, 5 51.5, 5.6 51, 6....   \n",
       "1   Luxembourg   39370.0  POLYGON ((6 50.1, 6.2 49.9, 6.2 49.5, 5.9 49.4...   \n",
       "2  Netherlands  672000.0  POLYGON ((6.1 53.5, 6.9 53.5, 7.1 53.1, 6.8 52...   \n",
       "\n",
       "   population  reg_veh_per_1000_inh  \n",
       "0  10414336.0                   508  \n",
       "1    491775.0                   678  \n",
       "2  16715999.0                   477  "
      ]
     },
     "execution_count": 41,
     "metadata": {},
     "output_type": "execute_result"
    }
   ],
   "source": [
    "gdf.head()"
   ]
  },
  {
   "cell_type": "code",
   "execution_count": 42,
   "metadata": {},
   "outputs": [
    {
     "data": {
      "application/vnd.vegalite.v3+json": {
       "$schema": "https://vega.github.io/schema/vega-lite/v3.4.0.json",
       "config": {
        "mark": {
         "tooltip": null
        },
        "view": {
         "height": 300,
         "width": 400
        }
       },
       "data": {
        "name": "data-180f755a1725b0103291875ff3f0ee5a"
       },
       "datasets": {
        "data-180f755a1725b0103291875ff3f0ee5a": [
         {
          "country": "Belgium",
          "gdp": 389300,
          "geometry": {
           "coordinates": [
            [
             [
              3.3,
              51.3
             ],
             [
              4,
              51.3
             ],
             [
              5,
              51.5
             ],
             [
              5.6,
              51
             ],
             [
              6.2,
              50.8
             ],
             [
              6,
              50.1
             ],
             [
              5.8,
              50.1
             ],
             [
              5.7,
              49.5
             ],
             [
              4.8,
              50
             ],
             [
              4.3,
              49.9
             ],
             [
              3.6,
              50.4
             ],
             [
              3.1,
              50.8
             ],
             [
              2.7,
              50.8
             ],
             [
              2.5,
              51.1
             ],
             [
              3.3,
              51.3
             ]
            ]
           ],
           "type": "Polygon"
          },
          "population": 10414336,
          "reg_veh_per_1000_inh": 508,
          "type": "Feature"
         },
         {
          "country": "Luxembourg",
          "gdp": 39370,
          "geometry": {
           "coordinates": [
            [
             [
              6,
              50.1
             ],
             [
              6.2,
              49.9
             ],
             [
              6.2,
              49.5
             ],
             [
              5.9,
              49.4
             ],
             [
              5.7,
              49.5
             ],
             [
              5.8,
              50.1
             ],
             [
              6,
              50.1
             ]
            ]
           ],
           "type": "Polygon"
          },
          "population": 491775,
          "reg_veh_per_1000_inh": 678,
          "type": "Feature"
         },
         {
          "country": "Netherlands",
          "gdp": 672000,
          "geometry": {
           "coordinates": [
            [
             [
              6.1,
              53.5
             ],
             [
              6.9,
              53.5
             ],
             [
              7.1,
              53.1
             ],
             [
              6.8,
              52.2
             ],
             [
              6.6,
              51.9
             ],
             [
              6,
              51.9
             ],
             [
              6.2,
              50.8
             ],
             [
              5.6,
              51
             ],
             [
              5,
              51.5
             ],
             [
              4,
              51.3
             ],
             [
              3.3,
              51.3
             ],
             [
              3.8,
              51.6
             ],
             [
              4.7,
              53.1
             ],
             [
              6.1,
              53.5
             ]
            ]
           ],
           "type": "Polygon"
          },
          "population": 16715999,
          "reg_veh_per_1000_inh": 477,
          "type": "Feature"
         }
        ]
       },
       "hconcat": [
        {
         "encoding": {
          "color": {
           "condition": {
            "field": "reg_veh_per_1000_inh",
            "selection": "selector001",
            "type": "quantitative"
           },
           "value": "lightgray"
          }
         },
         "mark": {
          "tooltip": {
           "content": "data"
          },
          "type": "geoshape"
         },
         "selection": {
          "selector001": {
           "type": "single"
          }
         }
        },
        {
         "encoding": {
          "color": {
           "condition": {
            "field": "reg_veh_per_1000_inh",
            "selection": "selector001",
            "type": "quantitative"
           },
           "value": "lightgray"
          },
          "x": {
           "field": "country",
           "type": "nominal"
          },
          "y": {
           "field": "population",
           "type": "quantitative"
          }
         },
         "mark": {
          "tooltip": {
           "content": "data"
          },
          "type": "bar"
         },
         "selection": {
          "selector001": {
           "type": "single"
          }
         }
        }
       ]
      },
      "image/png": "[encoded data removed]",
      "text/plain": [
       "<VegaLite 3 object>\n",
       "\n",
       "If you see this message, it means the renderer has not been properly enabled\n",
       "for the frontend that you are using. For more information, see\n",
       "https://altair-viz.github.io/user_guide/troubleshooting.html\n"
      ]
     },
     "execution_count": 42,
     "metadata": {},
     "output_type": "execute_result"
    }
   ],
   "source": [
    "single = alt.selection_single()\n",
    "\n",
    "b = alt.Chart().mark_bar(tooltip={\"content\": \"data\"}\n",
    ").encode(\n",
    "    x='country',\n",
    "    y='population',\n",
    "    color=alt.condition(single, 'reg_veh_per_1000_inh', alt.value('lightgray'))\n",
    ").add_selection(single)\n",
    "\n",
    "g = alt.Chart().mark_geoshape(tooltip={\"content\": \"data\"}\n",
    ").encode(\n",
    "    color=alt.condition(single, 'reg_veh_per_1000_inh', alt.value('lightgray'))\n",
    ").add_selection(single)\n",
    "\n",
    "alt.hconcat(g, b,data=gdf)"
   ]
  },
  {
   "cell_type": "code",
   "execution_count": null,
   "metadata": {},
   "outputs": [],
   "source": [
    "single = alt.selection_single()\n",
    "\n",
    "b = alt.Chart().mark_bar(tooltip={\"content\": \"data\"}\n",
    ").encode(\n",
    "    x='country:N',\n",
    "    y='population:Q',\n",
    "    color=alt.condition(single, 'reg_veh_per_1000_inh:Q', alt.value('lightgray'))\n",
    ").add_selection(single)\n",
    "\n",
    "g = alt.Chart().mark_geoshape(tooltip={\"content\": \"data\"}\n",
    ").encode(\n",
    "    color=alt.condition(single, 'reg_veh_per_1000_inh:Q', alt.value('lightgray'))\n",
    ").add_selection(single)\n",
    "\n",
    "alt.hconcat(g, b,data=gj)"
   ]
  },
  {
   "cell_type": "code",
   "execution_count": null,
   "metadata": {},
   "outputs": [],
   "source": []
  }
 ],
 "metadata": {
  "kernelspec": {
   "display_name": "Python 3",
   "language": "python",
   "name": "python3"
  },
  "language_info": {
   "codemirror_mode": {
    "name": "ipython",
    "version": 3
   },
   "file_extension": ".py",
   "mimetype": "text/x-python",
   "name": "python",
   "nbconvert_exporter": "python",
   "pygments_lexer": "ipython3",
   "version": "3.6.5"
  }
 },
 "nbformat": 4,
 "nbformat_minor": 4
}
