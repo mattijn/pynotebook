{
 "cells": [
  {
   "cell_type": "code",
   "execution_count": 10,
   "metadata": {},
   "outputs": [],
   "source": [
    "import geopandas as gpd\n",
    "%matplotlib inline"
   ]
  },
  {
   "cell_type": "code",
   "execution_count": 2,
   "metadata": {},
   "outputs": [],
   "source": [
    "gdf = gpd.read_file(r\"D:\\Projects\\Pr\\3317.30\\Verzending\\Baggervakken-vanaf-5-november-2018.shp\")"
   ]
  },
  {
   "cell_type": "code",
   "execution_count": 4,
   "metadata": {},
   "outputs": [
    {
     "data": {
      "text/plain": [
       "Index(['ACTIVITEIT', 'AREA_REAL', 'DEFAULT_1', 'DIEPTE_MAX', 'DIEPTE_MIN',\n",
       "       'END', 'FRQ_EXC_50', 'FRQ_INC_50', 'FRQ_SURV', 'GUN_DAGEN', 'GUN_FILE',\n",
       "       'GUN_GELDIG', 'HERST_TIJD', 'ID', 'ID_MARS', 'ID_VDLEE', 'IND_HIS_M3',\n",
       "       'INST_EXCL', 'INST_INCL', 'KLEUR', 'KOMBERGING', 'OBJECTCODE',\n",
       "       'OBJECTNAAM', 'ONDERZOEK', 'RESP_TIJD', 'SRT', 'STAM', 'START',\n",
       "       'TDS_M3', 'TOT_PIXELS', 'TYPEOBJ', 'WBO_CONCL', 'WBO_DAGEN', 'WBO_FILE',\n",
       "       'WBO_GELDIG', 'WBO_M_DAT', 'WBO_R_DAT', 'X_LABEL', 'Y_LABEL', 'layer',\n",
       "       'path', 'geometry'],\n",
       "      dtype='object')"
      ]
     },
     "execution_count": 4,
     "metadata": {},
     "output_type": "execute_result"
    }
   ],
   "source": [
    "gdf.columns#head()"
   ]
  },
  {
   "cell_type": "code",
   "execution_count": 24,
   "metadata": {},
   "outputs": [],
   "source": [
    "geom = gdf[gdf['ID_VDLEE']=='Boontjes']['geometry']\n",
    "g1 = geom.iloc[0]"
   ]
  },
  {
   "cell_type": "code",
   "execution_count": 25,
   "metadata": {},
   "outputs": [
    {
     "data": {
      "text/plain": [
       "'POLYGON ((154109.486 569798.6600000006, 154146.083 569299.0050000005, 154045.403 569292.4529999997, 154009.281 569789.614000001, 153973.33 570284.4210000015, 153945.919 570661.6739999962, 153973.671137364 570801.0862379044, 154027.6511050606 571016.5478863381, 154102.8321185656 571287.8356638805, 154170.6522273854 571523.8991318293, 154240.1652621862 571761.6130399408, 154269.6908965812 571861.2208937018, 154324.6161084067 572045.1125893856, 154367.2597528099 572163.6493098608, 154394.6829959105 572235.4198877029, 154427.1213377712 572343.5932242816, 154461.6520598158 572482.9530396195, 154485.9218579018 572580.2857756839, 154521.0382258463 572719.6052943035, 154575.4619886121 572950.9221339802, 154630.719022212 573205.7541625146, 154672.0412410893 573420.5069803084, 154748.9035754422 573697.0252419986, 154759.1692011044 573735.7651229114, 154769.6877083577 573780.918777825, 154793.390231524 573884.3280216953, 154854.7620099642 574181.3255733456, 154888.5129698118 574379.2146251923, 154933.494 574672.1499999963, 155021.55 575166.2429999998, 155068.227 575427.5980000015, 155211.859 575638.4180000008, 155491.833 576049.3580000014, 155782.258 576475.6379999999, 155865.001 576419.480999999, 155573.623 575991.801999998, 155293.789 575581.0670000023, 155162.91 575388.9649999979, 155120.1111056796 575150.5301571573, 155120.156 575150.5230000023, 155031.784 574655.2309999999, 154986.5097513063 574359.3474438939, 154952.8901689941 574162.8298659013, 154893.128097895 573871.4890409518, 154867.5618758259 573759.1956211091, 154845.6281761461 573671.9487780172, 154768.7658417932 573395.2761741712, 154727.8539666383 573181.3573740884, 154673.565365272 572931.0479920503, 154617.2616207939 572691.6404440843, 154581.9333790842 572551.514916436, 154557.4722111453 572454.4737155549, 154523.0939840604 572315.337120972, 154491.0756234006 572208.8029501383, 154417.5710969519 572007.9650372921, 154335.455843626 571731.7351345266, 154265.4072590845 571491.9053612832, 154236.920873471 571391.6507704617, 154198.7835957114 571258.9450990107, 154123.7443180669 570989.3102038832, 154069.663622335 570772.1270765197, 154046.991 570651.8850000008, 154073.396 570291.3820000001, 154109.486 569798.6600000006))'"
      ]
     },
     "execution_count": 25,
     "metadata": {},
     "output_type": "execute_result"
    }
   ],
   "source": [
    "g1.wkt"
   ]
  },
  {
   "cell_type": "code",
   "execution_count": 27,
   "metadata": {},
   "outputs": [],
   "source": [
    "geom_repr = geom.to_crs(epsg='25831')\n",
    "g2 = geom_repr.iloc[0]"
   ]
  },
  {
   "cell_type": "code",
   "execution_count": 29,
   "metadata": {},
   "outputs": [],
   "source": [
    "geom_repr.to_file(r\"D:\\Projects\\Pr\\3317.30\\Verzending\\Baggervakken-vanaf-5-november-2018.geojson\", driver='GeoJSON')"
   ]
  },
  {
   "cell_type": "code",
   "execution_count": null,
   "metadata": {},
   "outputs": [],
   "source": []
  }
 ],
 "metadata": {
  "kernelspec": {
   "display_name": "Python 3",
   "language": "python",
   "name": "python3"
  },
  "language_info": {
   "codemirror_mode": {
    "name": "ipython",
    "version": 3
   },
   "file_extension": ".py",
   "mimetype": "text/x-python",
   "name": "python",
   "nbconvert_exporter": "python",
   "pygments_lexer": "ipython3",
   "version": "3.6.5"
  }
 },
 "nbformat": 4,
 "nbformat_minor": 2
}
