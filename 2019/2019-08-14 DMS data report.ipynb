{
 "cells": [
  {
   "cell_type": "code",
   "execution_count": 1,
   "metadata": {},
   "outputs": [],
   "source": [
    "import altair as alt\n",
    "import pandas as pd"
   ]
  },
  {
   "cell_type": "code",
   "execution_count": 2,
   "metadata": {},
   "outputs": [],
   "source": [
    "df = pd.read_csv(r\"C:\\Users\\hoek.HKV\\Downloads\\test (1).csv\", index_col=0)"
   ]
  },
  {
   "cell_type": "code",
   "execution_count": 3,
   "metadata": {},
   "outputs": [
    {
     "data": {
      "text/html": [
       "<div>\n",
       "<style scoped>\n",
       "    .dataframe tbody tr th:only-of-type {\n",
       "        vertical-align: middle;\n",
       "    }\n",
       "\n",
       "    .dataframe tbody tr th {\n",
       "        vertical-align: top;\n",
       "    }\n",
       "\n",
       "    .dataframe thead th {\n",
       "        text-align: right;\n",
       "    }\n",
       "</style>\n",
       "<table border=\"1\" class=\"dataframe\">\n",
       "  <thead>\n",
       "    <tr style=\"text-align: right;\">\n",
       "      <th></th>\n",
       "      <th>Parameter</th>\n",
       "      <th>Locatie</th>\n",
       "      <th>Expected files</th>\n",
       "      <th>Valid files</th>\n",
       "      <th>Week</th>\n",
       "    </tr>\n",
       "  </thead>\n",
       "  <tbody>\n",
       "    <tr>\n",
       "      <th>0</th>\n",
       "      <td>STB</td>\n",
       "      <td>FL65</td>\n",
       "      <td>1.0</td>\n",
       "      <td>1.0</td>\n",
       "      <td>2019-W22</td>\n",
       "    </tr>\n",
       "    <tr>\n",
       "      <th>1</th>\n",
       "      <td>STB</td>\n",
       "      <td>FL65</td>\n",
       "      <td>1.0</td>\n",
       "      <td>1.0</td>\n",
       "      <td>2019-W23</td>\n",
       "    </tr>\n",
       "    <tr>\n",
       "      <th>2</th>\n",
       "      <td>STB</td>\n",
       "      <td>FL65</td>\n",
       "      <td>1.0</td>\n",
       "      <td>1.0</td>\n",
       "      <td>2019-W24</td>\n",
       "    </tr>\n",
       "    <tr>\n",
       "      <th>3</th>\n",
       "      <td>STB</td>\n",
       "      <td>FL65</td>\n",
       "      <td>1.0</td>\n",
       "      <td>1.0</td>\n",
       "      <td>2019-W26</td>\n",
       "    </tr>\n",
       "    <tr>\n",
       "      <th>4</th>\n",
       "      <td>STB</td>\n",
       "      <td>FL65</td>\n",
       "      <td>1.0</td>\n",
       "      <td>1.0</td>\n",
       "      <td>2019-W27</td>\n",
       "    </tr>\n",
       "  </tbody>\n",
       "</table>\n",
       "</div>"
      ],
      "text/plain": [
       "  Parameter Locatie  Expected files  Valid files      Week\n",
       "0       STB    FL65             1.0          1.0  2019-W22\n",
       "1       STB    FL65             1.0          1.0  2019-W23\n",
       "2       STB    FL65             1.0          1.0  2019-W24\n",
       "3       STB    FL65             1.0          1.0  2019-W26\n",
       "4       STB    FL65             1.0          1.0  2019-W27"
      ]
     },
     "execution_count": 3,
     "metadata": {},
     "output_type": "execute_result"
    }
   ],
   "source": [
    "df.head()"
   ]
  },
  {
   "cell_type": "code",
   "execution_count": 43,
   "metadata": {},
   "outputs": [
    {
     "data": {
      "application/vnd.vegalite.v3+json": {
       "$schema": "https://vega.github.io/schema/vega-lite/v3.3.0.json",
       "config": {
        "axisX": {
         "labelAngle": -45
        },
        "axisY": {
         "titleAlign": "left",
         "titleAngle": 0,
         "titleX": -50,
         "titleY": -3
        },
        "mark": {
         "tooltip": null
        },
        "scale": {
         "bandPaddingInner": 0.1,
         "bandPaddingOuter": 0.05
        },
        "view": {
         "height": 300,
         "width": 400
        }
       },
       "data": {
        "name": "data-0267379650b66b65f100d4c17fa51f07"
       },
       "datasets": {
        "data-0267379650b66b65f100d4c17fa51f07": [
         {
          "Expected files": 1,
          "Locatie": "FL65",
          "Parameter": "STB",
          "Valid files": 1,
          "Week": "2019-W22"
         },
         {
          "Expected files": 1,
          "Locatie": "FL65",
          "Parameter": "STB",
          "Valid files": 1,
          "Week": "2019-W23"
         },
         {
          "Expected files": 1,
          "Locatie": "FL65",
          "Parameter": "STB",
          "Valid files": 1,
          "Week": "2019-W24"
         },
         {
          "Expected files": 1,
          "Locatie": "FL65",
          "Parameter": "STB",
          "Valid files": 1,
          "Week": "2019-W26"
         },
         {
          "Expected files": 1,
          "Locatie": "FL65",
          "Parameter": "STB",
          "Valid files": 1,
          "Week": "2019-W27"
         },
         {
          "Expected files": 1,
          "Locatie": "FL65",
          "Parameter": "STB",
          "Valid files": 1,
          "Week": "2019-W28"
         },
         {
          "Expected files": 1,
          "Locatie": "FL65",
          "Parameter": "STB",
          "Valid files": 1,
          "Week": "2019-W29"
         },
         {
          "Expected files": 1,
          "Locatie": "FL65",
          "Parameter": "STB",
          "Valid files": 1,
          "Week": "2019-W30"
         },
         {
          "Expected files": 1,
          "Locatie": "FL65",
          "Parameter": "ADC",
          "Valid files": 1,
          "Week": "2019-W22"
         },
         {
          "Expected files": 1,
          "Locatie": "FL65",
          "Parameter": "ADC",
          "Valid files": 1,
          "Week": "2019-W23"
         },
         {
          "Expected files": 1,
          "Locatie": "FL65",
          "Parameter": "ADC",
          "Valid files": 1,
          "Week": "2019-W24"
         },
         {
          "Expected files": 1,
          "Locatie": "FL65",
          "Parameter": "ADC",
          "Valid files": 1,
          "Week": "2019-W26"
         },
         {
          "Expected files": 1,
          "Locatie": "FL65",
          "Parameter": "ADC",
          "Valid files": 1,
          "Week": "2019-W27"
         },
         {
          "Expected files": 1,
          "Locatie": "FL65",
          "Parameter": "ADC",
          "Valid files": 1,
          "Week": "2019-W28"
         },
         {
          "Expected files": 1,
          "Locatie": "FL65",
          "Parameter": "ADC",
          "Valid files": 1,
          "Week": "2019-W29"
         },
         {
          "Expected files": 1,
          "Locatie": "FL65",
          "Parameter": "ADC",
          "Valid files": 1,
          "Week": "2019-W30"
         },
         {
          "Expected files": 1,
          "Locatie": "FL65_A",
          "Parameter": "ALT",
          "Valid files": 1,
          "Week": "2019-W22"
         },
         {
          "Expected files": 1,
          "Locatie": "FL65_A",
          "Parameter": "ALT",
          "Valid files": 1,
          "Week": "2019-W23"
         },
         {
          "Expected files": 1,
          "Locatie": "FL65_A",
          "Parameter": "ALT",
          "Valid files": 1,
          "Week": "2019-W24"
         },
         {
          "Expected files": 1,
          "Locatie": "FL65_A",
          "Parameter": "ALT",
          "Valid files": 1,
          "Week": "2019-W26"
         },
         {
          "Expected files": 1,
          "Locatie": "FL65_A",
          "Parameter": "ALT",
          "Valid files": 1,
          "Week": "2019-W27"
         },
         {
          "Expected files": 1,
          "Locatie": "FL65_A",
          "Parameter": "ALT",
          "Valid files": 1,
          "Week": "2019-W28"
         },
         {
          "Expected files": 1,
          "Locatie": "FL65_A",
          "Parameter": "ALT",
          "Valid files": 1,
          "Week": "2019-W29"
         },
         {
          "Expected files": 1,
          "Locatie": "FL65_A",
          "Parameter": "ALT",
          "Valid files": 1,
          "Week": "2019-W30"
         },
         {
          "Expected files": 0,
          "Locatie": "FL65_A",
          "Parameter": "ADV",
          "Valid files": 0,
          "Week": "2019-W22"
         },
         {
          "Expected files": 0.3035714285714285,
          "Locatie": "FL65_A",
          "Parameter": "ADV",
          "Valid files": 0.3035714285714285,
          "Week": "2019-W23"
         },
         {
          "Expected files": 1,
          "Locatie": "FL65_A",
          "Parameter": "ADV",
          "Valid files": 1,
          "Week": "2019-W24"
         },
         {
          "Expected files": 1,
          "Locatie": "FL65_A",
          "Parameter": "ADV",
          "Valid files": 1,
          "Week": "2019-W26"
         },
         {
          "Expected files": 0.5297619047619048,
          "Locatie": "FL65_A",
          "Parameter": "ADV",
          "Valid files": 0.5297619047619048,
          "Week": "2019-W27"
         },
         {
          "Expected files": 0,
          "Locatie": "FL65_A",
          "Parameter": "ADV",
          "Valid files": 0,
          "Week": "2019-W28"
         },
         {
          "Expected files": 0,
          "Locatie": "FL65_A",
          "Parameter": "ADV",
          "Valid files": 0,
          "Week": "2019-W29"
         },
         {
          "Expected files": 0,
          "Locatie": "FL65_A",
          "Parameter": "ADV",
          "Valid files": 0,
          "Week": "2019-W30"
         },
         {
          "Expected files": 1,
          "Locatie": "FL65_B",
          "Parameter": "ALT",
          "Valid files": 1,
          "Week": "2019-W22"
         },
         {
          "Expected files": 1,
          "Locatie": "FL65_B",
          "Parameter": "ALT",
          "Valid files": 1,
          "Week": "2019-W23"
         },
         {
          "Expected files": 1,
          "Locatie": "FL65_B",
          "Parameter": "ALT",
          "Valid files": 1,
          "Week": "2019-W24"
         },
         {
          "Expected files": 1,
          "Locatie": "FL65_B",
          "Parameter": "ALT",
          "Valid files": 1,
          "Week": "2019-W26"
         },
         {
          "Expected files": 1,
          "Locatie": "FL65_B",
          "Parameter": "ALT",
          "Valid files": 1,
          "Week": "2019-W27"
         },
         {
          "Expected files": 1,
          "Locatie": "FL65_B",
          "Parameter": "ALT",
          "Valid files": 1,
          "Week": "2019-W28"
         },
         {
          "Expected files": 1,
          "Locatie": "FL65_B",
          "Parameter": "ALT",
          "Valid files": 1,
          "Week": "2019-W29"
         },
         {
          "Expected files": 1,
          "Locatie": "FL65_B",
          "Parameter": "ALT",
          "Valid files": 1,
          "Week": "2019-W30"
         },
         {
          "Expected files": 1,
          "Locatie": "FL65_C",
          "Parameter": "ALT",
          "Valid files": 1,
          "Week": "2019-W22"
         },
         {
          "Expected files": 1,
          "Locatie": "FL65_C",
          "Parameter": "ALT",
          "Valid files": 1,
          "Week": "2019-W23"
         },
         {
          "Expected files": 1,
          "Locatie": "FL65_C",
          "Parameter": "ALT",
          "Valid files": 1,
          "Week": "2019-W24"
         },
         {
          "Expected files": 1,
          "Locatie": "FL65_C",
          "Parameter": "ALT",
          "Valid files": 1,
          "Week": "2019-W26"
         },
         {
          "Expected files": 1,
          "Locatie": "FL65_C",
          "Parameter": "ALT",
          "Valid files": 1,
          "Week": "2019-W27"
         },
         {
          "Expected files": 1,
          "Locatie": "FL65_C",
          "Parameter": "ALT",
          "Valid files": 1,
          "Week": "2019-W28"
         },
         {
          "Expected files": 1,
          "Locatie": "FL65_C",
          "Parameter": "ALT",
          "Valid files": 1,
          "Week": "2019-W29"
         },
         {
          "Expected files": 1,
          "Locatie": "FL65_C",
          "Parameter": "ALT",
          "Valid files": 1,
          "Week": "2019-W30"
         },
         {
          "Expected files": 0,
          "Locatie": "FL65_C",
          "Parameter": "ADV",
          "Valid files": 0,
          "Week": "2019-W22"
         },
         {
          "Expected files": 0.3035714285714285,
          "Locatie": "FL65_C",
          "Parameter": "ADV",
          "Valid files": 0.3035714285714285,
          "Week": "2019-W23"
         },
         {
          "Expected files": 1,
          "Locatie": "FL65_C",
          "Parameter": "ADV",
          "Valid files": 1,
          "Week": "2019-W24"
         },
         {
          "Expected files": 1,
          "Locatie": "FL65_C",
          "Parameter": "ADV",
          "Valid files": 1,
          "Week": "2019-W26"
         },
         {
          "Expected files": 0.4880952380952381,
          "Locatie": "FL65_C",
          "Parameter": "ADV",
          "Valid files": 0.4880952380952381,
          "Week": "2019-W27"
         },
         {
          "Expected files": 0,
          "Locatie": "FL65_C",
          "Parameter": "ADV",
          "Valid files": 0,
          "Week": "2019-W28"
         },
         {
          "Expected files": 0,
          "Locatie": "FL65_C",
          "Parameter": "ADV",
          "Valid files": 0,
          "Week": "2019-W29"
         },
         {
          "Expected files": 0,
          "Locatie": "FL65_C",
          "Parameter": "ADV",
          "Valid files": 0,
          "Week": "2019-W30"
         },
         {
          "Expected files": 1,
          "Locatie": "FL66",
          "Parameter": "STB",
          "Valid files": 1,
          "Week": "2019-W22"
         },
         {
          "Expected files": 1,
          "Locatie": "FL66",
          "Parameter": "STB",
          "Valid files": 1,
          "Week": "2019-W23"
         },
         {
          "Expected files": 1,
          "Locatie": "FL66",
          "Parameter": "STB",
          "Valid files": 1,
          "Week": "2019-W24"
         },
         {
          "Expected files": 1,
          "Locatie": "FL66",
          "Parameter": "STB",
          "Valid files": 1,
          "Week": "2019-W26"
         },
         {
          "Expected files": 1,
          "Locatie": "FL66",
          "Parameter": "STB",
          "Valid files": 1,
          "Week": "2019-W27"
         },
         {
          "Expected files": 0.7142857142857143,
          "Locatie": "FL66",
          "Parameter": "STB",
          "Valid files": 0.7142857142857143,
          "Week": "2019-W28"
         },
         {
          "Expected files": 1,
          "Locatie": "FL66",
          "Parameter": "STB",
          "Valid files": 1,
          "Week": "2019-W29"
         },
         {
          "Expected files": 1,
          "Locatie": "FL66",
          "Parameter": "STB",
          "Valid files": 1,
          "Week": "2019-W30"
         },
         {
          "Expected files": 1,
          "Locatie": "FL66",
          "Parameter": "ADC",
          "Valid files": 1,
          "Week": "2019-W22"
         },
         {
          "Expected files": 1,
          "Locatie": "FL66",
          "Parameter": "ADC",
          "Valid files": 1,
          "Week": "2019-W23"
         },
         {
          "Expected files": 1,
          "Locatie": "FL66",
          "Parameter": "ADC",
          "Valid files": 1,
          "Week": "2019-W24"
         },
         {
          "Expected files": 1,
          "Locatie": "FL66",
          "Parameter": "ADC",
          "Valid files": 1,
          "Week": "2019-W26"
         },
         {
          "Expected files": 1,
          "Locatie": "FL66",
          "Parameter": "ADC",
          "Valid files": 1,
          "Week": "2019-W27"
         },
         {
          "Expected files": 1,
          "Locatie": "FL66",
          "Parameter": "ADC",
          "Valid files": 1,
          "Week": "2019-W28"
         },
         {
          "Expected files": 1,
          "Locatie": "FL66",
          "Parameter": "ADC",
          "Valid files": 1,
          "Week": "2019-W29"
         },
         {
          "Expected files": 1,
          "Locatie": "FL66",
          "Parameter": "ADC",
          "Valid files": 1,
          "Week": "2019-W30"
         },
         {
          "Expected files": 1,
          "Locatie": "FL67",
          "Parameter": "STB",
          "Valid files": 1,
          "Week": "2019-W22"
         },
         {
          "Expected files": 1,
          "Locatie": "FL67",
          "Parameter": "STB",
          "Valid files": 1,
          "Week": "2019-W23"
         },
         {
          "Expected files": 1,
          "Locatie": "FL67",
          "Parameter": "STB",
          "Valid files": 1,
          "Week": "2019-W24"
         },
         {
          "Expected files": 1,
          "Locatie": "FL67",
          "Parameter": "STB",
          "Valid files": 1,
          "Week": "2019-W26"
         },
         {
          "Expected files": 1,
          "Locatie": "FL67",
          "Parameter": "STB",
          "Valid files": 1,
          "Week": "2019-W27"
         },
         {
          "Expected files": 0.5714285714285714,
          "Locatie": "FL67",
          "Parameter": "STB",
          "Valid files": 0.5714285714285714,
          "Week": "2019-W28"
         },
         {
          "Expected files": 0.7142857142857143,
          "Locatie": "FL67",
          "Parameter": "STB",
          "Valid files": 0.7142857142857143,
          "Week": "2019-W29"
         },
         {
          "Expected files": 0.8571428571428571,
          "Locatie": "FL67",
          "Parameter": "STB",
          "Valid files": 0.8571428571428571,
          "Week": "2019-W30"
         },
         {
          "Expected files": 1,
          "Locatie": "FL67",
          "Parameter": "MPP",
          "Valid files": 1,
          "Week": "2019-W22"
         },
         {
          "Expected files": 1,
          "Locatie": "FL67",
          "Parameter": "MPP",
          "Valid files": 1,
          "Week": "2019-W23"
         },
         {
          "Expected files": 1,
          "Locatie": "FL67",
          "Parameter": "MPP",
          "Valid files": 1,
          "Week": "2019-W24"
         },
         {
          "Expected files": 1,
          "Locatie": "FL67",
          "Parameter": "MPP",
          "Valid files": 1,
          "Week": "2019-W26"
         },
         {
          "Expected files": 1.2857142857142858,
          "Locatie": "FL67",
          "Parameter": "MPP",
          "Valid files": 1.2857142857142858,
          "Week": "2019-W27"
         },
         {
          "Expected files": 0.8571428571428571,
          "Locatie": "FL67",
          "Parameter": "MPP",
          "Valid files": 0.8571428571428571,
          "Week": "2019-W28"
         },
         {
          "Expected files": 0.2857142857142857,
          "Locatie": "FL67",
          "Parameter": "MPP",
          "Valid files": 0.2857142857142857,
          "Week": "2019-W29"
         },
         {
          "Expected files": 0,
          "Locatie": "FL67",
          "Parameter": "MPP",
          "Valid files": 0,
          "Week": "2019-W30"
         },
         {
          "Expected files": 0,
          "Locatie": "FL67",
          "Parameter": "ADV",
          "Valid files": 0,
          "Week": "2019-W22"
         },
         {
          "Expected files": 0.3035714285714285,
          "Locatie": "FL67",
          "Parameter": "ADV",
          "Valid files": 0.3035714285714285,
          "Week": "2019-W23"
         },
         {
          "Expected files": 1,
          "Locatie": "FL67",
          "Parameter": "ADV",
          "Valid files": 1,
          "Week": "2019-W24"
         },
         {
          "Expected files": 1,
          "Locatie": "FL67",
          "Parameter": "ADV",
          "Valid files": 1,
          "Week": "2019-W26"
         },
         {
          "Expected files": 0.5297619047619048,
          "Locatie": "FL67",
          "Parameter": "ADV",
          "Valid files": 0.5297619047619048,
          "Week": "2019-W27"
         },
         {
          "Expected files": 0,
          "Locatie": "FL67",
          "Parameter": "ADV",
          "Valid files": 0,
          "Week": "2019-W28"
         },
         {
          "Expected files": 0,
          "Locatie": "FL67",
          "Parameter": "ADV",
          "Valid files": 0,
          "Week": "2019-W29"
         },
         {
          "Expected files": 0,
          "Locatie": "FL67",
          "Parameter": "ADV",
          "Valid files": 0,
          "Week": "2019-W30"
         },
         {
          "Expected files": 1,
          "Locatie": "FL67",
          "Parameter": "ADC",
          "Valid files": 1,
          "Week": "2019-W22"
         },
         {
          "Expected files": 1,
          "Locatie": "FL67",
          "Parameter": "ADC",
          "Valid files": 1,
          "Week": "2019-W23"
         },
         {
          "Expected files": 1,
          "Locatie": "FL67",
          "Parameter": "ADC",
          "Valid files": 1,
          "Week": "2019-W24"
         },
         {
          "Expected files": 1,
          "Locatie": "FL67",
          "Parameter": "ADC",
          "Valid files": 1,
          "Week": "2019-W26"
         },
         {
          "Expected files": 1,
          "Locatie": "FL67",
          "Parameter": "ADC",
          "Valid files": 1,
          "Week": "2019-W27"
         },
         {
          "Expected files": 1,
          "Locatie": "FL67",
          "Parameter": "ADC",
          "Valid files": 1,
          "Week": "2019-W28"
         },
         {
          "Expected files": 1,
          "Locatie": "FL67",
          "Parameter": "ADC",
          "Valid files": 1,
          "Week": "2019-W29"
         },
         {
          "Expected files": 1,
          "Locatie": "FL67",
          "Parameter": "ADC",
          "Valid files": 1,
          "Week": "2019-W30"
         },
         {
          "Expected files": 1,
          "Locatie": "FL68",
          "Parameter": "STB",
          "Valid files": 1,
          "Week": "2019-W22"
         },
         {
          "Expected files": 1,
          "Locatie": "FL68",
          "Parameter": "STB",
          "Valid files": 1,
          "Week": "2019-W23"
         },
         {
          "Expected files": 1,
          "Locatie": "FL68",
          "Parameter": "STB",
          "Valid files": 1,
          "Week": "2019-W24"
         },
         {
          "Expected files": 1,
          "Locatie": "FL68",
          "Parameter": "STB",
          "Valid files": 1,
          "Week": "2019-W26"
         },
         {
          "Expected files": 1,
          "Locatie": "FL68",
          "Parameter": "STB",
          "Valid files": 1,
          "Week": "2019-W27"
         },
         {
          "Expected files": 0.5714285714285714,
          "Locatie": "FL68",
          "Parameter": "STB",
          "Valid files": 0.5714285714285714,
          "Week": "2019-W28"
         },
         {
          "Expected files": 0.5714285714285714,
          "Locatie": "FL68",
          "Parameter": "STB",
          "Valid files": 0.5714285714285714,
          "Week": "2019-W29"
         },
         {
          "Expected files": 0.8571428571428571,
          "Locatie": "FL68",
          "Parameter": "STB",
          "Valid files": 0.8571428571428571,
          "Week": "2019-W30"
         },
         {
          "Expected files": 1,
          "Locatie": "FL68",
          "Parameter": "ADC",
          "Valid files": 1,
          "Week": "2019-W22"
         },
         {
          "Expected files": 1,
          "Locatie": "FL68",
          "Parameter": "ADC",
          "Valid files": 1,
          "Week": "2019-W23"
         },
         {
          "Expected files": 1,
          "Locatie": "FL68",
          "Parameter": "ADC",
          "Valid files": 1,
          "Week": "2019-W24"
         },
         {
          "Expected files": 1,
          "Locatie": "FL68",
          "Parameter": "ADC",
          "Valid files": 1,
          "Week": "2019-W26"
         },
         {
          "Expected files": 1,
          "Locatie": "FL68",
          "Parameter": "ADC",
          "Valid files": 1,
          "Week": "2019-W27"
         },
         {
          "Expected files": 1,
          "Locatie": "FL68",
          "Parameter": "ADC",
          "Valid files": 1,
          "Week": "2019-W28"
         },
         {
          "Expected files": 1,
          "Locatie": "FL68",
          "Parameter": "ADC",
          "Valid files": 1,
          "Week": "2019-W29"
         },
         {
          "Expected files": 1,
          "Locatie": "FL68",
          "Parameter": "ADC",
          "Valid files": 1,
          "Week": "2019-W30"
         },
         {
          "Expected files": 1,
          "Locatie": "FL69",
          "Parameter": "STB",
          "Valid files": 1,
          "Week": "2019-W22"
         },
         {
          "Expected files": 1,
          "Locatie": "FL69",
          "Parameter": "STB",
          "Valid files": 1,
          "Week": "2019-W23"
         },
         {
          "Expected files": 1,
          "Locatie": "FL69",
          "Parameter": "STB",
          "Valid files": 1,
          "Week": "2019-W24"
         },
         {
          "Expected files": 1,
          "Locatie": "FL69",
          "Parameter": "STB",
          "Valid files": 1,
          "Week": "2019-W26"
         },
         {
          "Expected files": 1,
          "Locatie": "FL69",
          "Parameter": "STB",
          "Valid files": 1,
          "Week": "2019-W27"
         },
         {
          "Expected files": 0.5714285714285714,
          "Locatie": "FL69",
          "Parameter": "STB",
          "Valid files": 0.5714285714285714,
          "Week": "2019-W28"
         },
         {
          "Expected files": 0.5714285714285714,
          "Locatie": "FL69",
          "Parameter": "STB",
          "Valid files": 0.5714285714285714,
          "Week": "2019-W29"
         },
         {
          "Expected files": 0.8571428571428571,
          "Locatie": "FL69",
          "Parameter": "STB",
          "Valid files": 0.8571428571428571,
          "Week": "2019-W30"
         },
         {
          "Expected files": 1,
          "Locatie": "FL69",
          "Parameter": "MPP",
          "Valid files": 1,
          "Week": "2019-W22"
         },
         {
          "Expected files": 1,
          "Locatie": "FL69",
          "Parameter": "MPP",
          "Valid files": 1,
          "Week": "2019-W23"
         },
         {
          "Expected files": 1,
          "Locatie": "FL69",
          "Parameter": "MPP",
          "Valid files": 1,
          "Week": "2019-W24"
         },
         {
          "Expected files": 1,
          "Locatie": "FL69",
          "Parameter": "MPP",
          "Valid files": 1,
          "Week": "2019-W26"
         },
         {
          "Expected files": 1.2857142857142858,
          "Locatie": "FL69",
          "Parameter": "MPP",
          "Valid files": 1.2857142857142858,
          "Week": "2019-W27"
         },
         {
          "Expected files": 1,
          "Locatie": "FL69",
          "Parameter": "MPP",
          "Valid files": 1,
          "Week": "2019-W28"
         },
         {
          "Expected files": 0.2857142857142857,
          "Locatie": "FL69",
          "Parameter": "MPP",
          "Valid files": 0.2857142857142857,
          "Week": "2019-W29"
         },
         {
          "Expected files": 0,
          "Locatie": "FL69",
          "Parameter": "MPP",
          "Valid files": 0,
          "Week": "2019-W30"
         },
         {
          "Expected files": 0,
          "Locatie": "FL69",
          "Parameter": "ADV",
          "Valid files": 0,
          "Week": "2019-W22"
         },
         {
          "Expected files": 0.3035714285714285,
          "Locatie": "FL69",
          "Parameter": "ADV",
          "Valid files": 0.3035714285714285,
          "Week": "2019-W23"
         },
         {
          "Expected files": 1,
          "Locatie": "FL69",
          "Parameter": "ADV",
          "Valid files": 1,
          "Week": "2019-W24"
         },
         {
          "Expected files": 1,
          "Locatie": "FL69",
          "Parameter": "ADV",
          "Valid files": 1,
          "Week": "2019-W26"
         },
         {
          "Expected files": 0.5297619047619048,
          "Locatie": "FL69",
          "Parameter": "ADV",
          "Valid files": 0.5297619047619048,
          "Week": "2019-W27"
         },
         {
          "Expected files": 0,
          "Locatie": "FL69",
          "Parameter": "ADV",
          "Valid files": 0,
          "Week": "2019-W28"
         },
         {
          "Expected files": 0,
          "Locatie": "FL69",
          "Parameter": "ADV",
          "Valid files": 0,
          "Week": "2019-W29"
         },
         {
          "Expected files": 0,
          "Locatie": "FL69",
          "Parameter": "ADV",
          "Valid files": 0,
          "Week": "2019-W30"
         },
         {
          "Expected files": 1,
          "Locatie": "FL69",
          "Parameter": "ADC",
          "Valid files": 1,
          "Week": "2019-W22"
         },
         {
          "Expected files": 1,
          "Locatie": "FL69",
          "Parameter": "ADC",
          "Valid files": 1,
          "Week": "2019-W23"
         },
         {
          "Expected files": 1,
          "Locatie": "FL69",
          "Parameter": "ADC",
          "Valid files": 1,
          "Week": "2019-W24"
         },
         {
          "Expected files": 1,
          "Locatie": "FL69",
          "Parameter": "ADC",
          "Valid files": 1,
          "Week": "2019-W26"
         },
         {
          "Expected files": 1,
          "Locatie": "FL69",
          "Parameter": "ADC",
          "Valid files": 1,
          "Week": "2019-W27"
         },
         {
          "Expected files": 1,
          "Locatie": "FL69",
          "Parameter": "ADC",
          "Valid files": 1,
          "Week": "2019-W28"
         },
         {
          "Expected files": 1,
          "Locatie": "FL69",
          "Parameter": "ADC",
          "Valid files": 1,
          "Week": "2019-W29"
         },
         {
          "Expected files": 1,
          "Locatie": "FL69",
          "Parameter": "ADC",
          "Valid files": 1,
          "Week": "2019-W30"
         },
         {
          "Expected files": 1,
          "Locatie": "FL69_A",
          "Parameter": "ALT",
          "Valid files": 1,
          "Week": "2019-W22"
         },
         {
          "Expected files": 1,
          "Locatie": "FL69_A",
          "Parameter": "ALT",
          "Valid files": 1,
          "Week": "2019-W23"
         },
         {
          "Expected files": 1,
          "Locatie": "FL69_A",
          "Parameter": "ALT",
          "Valid files": 1,
          "Week": "2019-W24"
         },
         {
          "Expected files": 1,
          "Locatie": "FL69_A",
          "Parameter": "ALT",
          "Valid files": 1,
          "Week": "2019-W26"
         },
         {
          "Expected files": 1,
          "Locatie": "FL69_A",
          "Parameter": "ALT",
          "Valid files": 1,
          "Week": "2019-W27"
         },
         {
          "Expected files": 1,
          "Locatie": "FL69_A",
          "Parameter": "ALT",
          "Valid files": 1,
          "Week": "2019-W28"
         },
         {
          "Expected files": 1,
          "Locatie": "FL69_A",
          "Parameter": "ALT",
          "Valid files": 1,
          "Week": "2019-W29"
         },
         {
          "Expected files": 1,
          "Locatie": "FL69_A",
          "Parameter": "ALT",
          "Valid files": 1,
          "Week": "2019-W30"
         },
         {
          "Expected files": 0,
          "Locatie": "FL69_A",
          "Parameter": "ADV",
          "Valid files": 0,
          "Week": "2019-W22"
         },
         {
          "Expected files": 0.3035714285714285,
          "Locatie": "FL69_A",
          "Parameter": "ADV",
          "Valid files": 0.3035714285714285,
          "Week": "2019-W23"
         },
         {
          "Expected files": 1,
          "Locatie": "FL69_A",
          "Parameter": "ADV",
          "Valid files": 1,
          "Week": "2019-W24"
         },
         {
          "Expected files": 1,
          "Locatie": "FL69_A",
          "Parameter": "ADV",
          "Valid files": 1,
          "Week": "2019-W26"
         },
         {
          "Expected files": 0.5297619047619048,
          "Locatie": "FL69_A",
          "Parameter": "ADV",
          "Valid files": 0.5297619047619048,
          "Week": "2019-W27"
         },
         {
          "Expected files": 0,
          "Locatie": "FL69_A",
          "Parameter": "ADV",
          "Valid files": 0,
          "Week": "2019-W28"
         },
         {
          "Expected files": 0,
          "Locatie": "FL69_A",
          "Parameter": "ADV",
          "Valid files": 0,
          "Week": "2019-W29"
         },
         {
          "Expected files": 0,
          "Locatie": "FL69_A",
          "Parameter": "ADV",
          "Valid files": 0,
          "Week": "2019-W30"
         },
         {
          "Expected files": 1,
          "Locatie": "FL69_B",
          "Parameter": "ALT",
          "Valid files": 1,
          "Week": "2019-W22"
         },
         {
          "Expected files": 1,
          "Locatie": "FL69_B",
          "Parameter": "ALT",
          "Valid files": 1,
          "Week": "2019-W23"
         },
         {
          "Expected files": 1,
          "Locatie": "FL69_B",
          "Parameter": "ALT",
          "Valid files": 1,
          "Week": "2019-W24"
         },
         {
          "Expected files": 1,
          "Locatie": "FL69_B",
          "Parameter": "ALT",
          "Valid files": 1,
          "Week": "2019-W26"
         },
         {
          "Expected files": 1,
          "Locatie": "FL69_B",
          "Parameter": "ALT",
          "Valid files": 1,
          "Week": "2019-W27"
         },
         {
          "Expected files": 1,
          "Locatie": "FL69_B",
          "Parameter": "ALT",
          "Valid files": 1,
          "Week": "2019-W28"
         },
         {
          "Expected files": 1,
          "Locatie": "FL69_B",
          "Parameter": "ALT",
          "Valid files": 1,
          "Week": "2019-W29"
         },
         {
          "Expected files": 1,
          "Locatie": "FL69_B",
          "Parameter": "ALT",
          "Valid files": 1,
          "Week": "2019-W30"
         },
         {
          "Expected files": 1,
          "Locatie": "FL69_C",
          "Parameter": "ALT",
          "Valid files": 1,
          "Week": "2019-W22"
         },
         {
          "Expected files": 1,
          "Locatie": "FL69_C",
          "Parameter": "ALT",
          "Valid files": 1,
          "Week": "2019-W23"
         },
         {
          "Expected files": 1,
          "Locatie": "FL69_C",
          "Parameter": "ALT",
          "Valid files": 1,
          "Week": "2019-W24"
         },
         {
          "Expected files": 1,
          "Locatie": "FL69_C",
          "Parameter": "ALT",
          "Valid files": 1,
          "Week": "2019-W26"
         },
         {
          "Expected files": 1,
          "Locatie": "FL69_C",
          "Parameter": "ALT",
          "Valid files": 1,
          "Week": "2019-W27"
         },
         {
          "Expected files": 1,
          "Locatie": "FL69_C",
          "Parameter": "ALT",
          "Valid files": 1,
          "Week": "2019-W28"
         },
         {
          "Expected files": 1,
          "Locatie": "FL69_C",
          "Parameter": "ALT",
          "Valid files": 1,
          "Week": "2019-W29"
         },
         {
          "Expected files": 1,
          "Locatie": "FL69_C",
          "Parameter": "ALT",
          "Valid files": 1,
          "Week": "2019-W30"
         },
         {
          "Expected files": 0,
          "Locatie": "FL69_C",
          "Parameter": "ADV",
          "Valid files": 0,
          "Week": "2019-W22"
         },
         {
          "Expected files": 0.3035714285714285,
          "Locatie": "FL69_C",
          "Parameter": "ADV",
          "Valid files": 0.3035714285714285,
          "Week": "2019-W23"
         },
         {
          "Expected files": 1,
          "Locatie": "FL69_C",
          "Parameter": "ADV",
          "Valid files": 1,
          "Week": "2019-W24"
         },
         {
          "Expected files": 1,
          "Locatie": "FL69_C",
          "Parameter": "ADV",
          "Valid files": 1,
          "Week": "2019-W26"
         },
         {
          "Expected files": 0.5297619047619048,
          "Locatie": "FL69_C",
          "Parameter": "ADV",
          "Valid files": 0.5297619047619048,
          "Week": "2019-W27"
         },
         {
          "Expected files": 0,
          "Locatie": "FL69_C",
          "Parameter": "ADV",
          "Valid files": 0,
          "Week": "2019-W28"
         },
         {
          "Expected files": 0,
          "Locatie": "FL69_C",
          "Parameter": "ADV",
          "Valid files": 0,
          "Week": "2019-W29"
         },
         {
          "Expected files": 0,
          "Locatie": "FL69_C",
          "Parameter": "ADV",
          "Valid files": 0,
          "Week": "2019-W30"
         },
         {
          "Expected files": 1,
          "Locatie": "FL70",
          "Parameter": "STB",
          "Valid files": 1,
          "Week": "2019-W22"
         },
         {
          "Expected files": 1,
          "Locatie": "FL70",
          "Parameter": "STB",
          "Valid files": 1,
          "Week": "2019-W23"
         },
         {
          "Expected files": 1,
          "Locatie": "FL70",
          "Parameter": "STB",
          "Valid files": 1,
          "Week": "2019-W24"
         },
         {
          "Expected files": 1,
          "Locatie": "FL70",
          "Parameter": "STB",
          "Valid files": 1,
          "Week": "2019-W26"
         },
         {
          "Expected files": 1,
          "Locatie": "FL70",
          "Parameter": "STB",
          "Valid files": 1,
          "Week": "2019-W27"
         },
         {
          "Expected files": 0.5714285714285714,
          "Locatie": "FL70",
          "Parameter": "STB",
          "Valid files": 0.5714285714285714,
          "Week": "2019-W28"
         },
         {
          "Expected files": 0.5714285714285714,
          "Locatie": "FL70",
          "Parameter": "STB",
          "Valid files": 0.5714285714285714,
          "Week": "2019-W29"
         },
         {
          "Expected files": 0.8571428571428571,
          "Locatie": "FL70",
          "Parameter": "STB",
          "Valid files": 0.8571428571428571,
          "Week": "2019-W30"
         },
         {
          "Expected files": 1,
          "Locatie": "FL70",
          "Parameter": "ADC",
          "Valid files": 1,
          "Week": "2019-W22"
         },
         {
          "Expected files": 1,
          "Locatie": "FL70",
          "Parameter": "ADC",
          "Valid files": 1,
          "Week": "2019-W23"
         },
         {
          "Expected files": 1,
          "Locatie": "FL70",
          "Parameter": "ADC",
          "Valid files": 1,
          "Week": "2019-W24"
         },
         {
          "Expected files": 1,
          "Locatie": "FL70",
          "Parameter": "ADC",
          "Valid files": 1,
          "Week": "2019-W26"
         },
         {
          "Expected files": 1,
          "Locatie": "FL70",
          "Parameter": "ADC",
          "Valid files": 1,
          "Week": "2019-W27"
         },
         {
          "Expected files": 1,
          "Locatie": "FL70",
          "Parameter": "ADC",
          "Valid files": 1,
          "Week": "2019-W28"
         },
         {
          "Expected files": 1,
          "Locatie": "FL70",
          "Parameter": "ADC",
          "Valid files": 1,
          "Week": "2019-W29"
         },
         {
          "Expected files": 1,
          "Locatie": "FL70",
          "Parameter": "ADC",
          "Valid files": 1,
          "Week": "2019-W30"
         }
        ]
       },
       "encoding": {
        "facet": {
         "field": "Parameter",
         "title": "Sensor",
         "type": "nominal"
        },
        "fill": {
         "field": "Expected files",
         "legend": {
          "format": ".0%",
          "title": "Health",
          "values": [
           0,
           0.5,
           1
          ]
         },
         "scale": {
          "domain": [
           0,
           0.85,
           1
          ],
          "range": [
           "red",
           "#FFDC00",
           "#2ECC40"
          ]
         },
         "type": "quantitative"
        },
        "stroke": {
         "condition": {
          "selection": "selector038",
          "value": "black"
         },
         "value": "white"
        },
        "tooltip": [
         {
          "field": "Locatie",
          "type": "nominal"
         },
         {
          "field": "Parameter",
          "type": "nominal"
         },
         {
          "field": "Week",
          "type": "nominal"
         },
         {
          "field": "Expected files",
          "format": ".0%",
          "type": "quantitative"
         },
         {
          "field": "Valid files",
          "format": ".0%",
          "type": "quantitative"
         }
        ],
        "x": {
         "field": "Locatie",
         "title": null,
         "type": "nominal"
        },
        "y": {
         "field": "Week",
         "sort": "descending",
         "type": "nominal"
        }
       },
       "mark": {
        "strokeWidth": 1,
        "type": "rect"
       },
       "resolve": {
        "scale": {
         "x": "independent"
        }
       },
       "selection": {
        "selector038": {
         "empty": "none",
         "on": "mouseover",
         "type": "single"
        }
       }
      },
      "image/png": "[encoded data removed]",
      "text/plain": [
       "<VegaLite 3 object>\n",
       "\n",
       "If you see this message, it means the renderer has not been properly enabled\n",
       "for the frontend that you are using. For more information, see\n",
       "https://altair-viz.github.io/user_guide/troubleshooting.html\n"
      ]
     },
     "execution_count": 43,
     "metadata": {},
     "output_type": "execute_result"
    }
   ],
   "source": [
    "single_nearest = alt.selection_single(on='mouseover', empty='none')\n",
    "alt.Chart(df).mark_rect(strokeWidth=1.).encode(\n",
    "    y=alt.Y('Week:N', sort='descending'),\n",
    "    x=alt.X('Locatie:N', title=None),\n",
    "    fill=alt.Fill(\n",
    "        'Expected files:Q',\n",
    "        scale=alt.Scale(\n",
    "            domain=[0,.85,1.00],\n",
    "            range=['red','#FFDC00','#2ECC40']\n",
    "        ),\n",
    "        legend=alt.Legend(values=[0,0.50,1], title='Health', format='.0%')        \n",
    "    ),\n",
    "    stroke=alt.condition(single_nearest,alt.StrokeValue('black'), alt.StrokeValue('white')),\n",
    "    tooltip=['Locatie:N',\n",
    "             'Parameter:N', \n",
    "             'Week:N', \n",
    "             alt.Tooltip('Expected files:Q', format='.0%'), \n",
    "             alt.Tooltip('Valid files:Q', format='.0%')],   \n",
    "    facet=alt.Facet('Parameter:N', title='Sensor')\n",
    ").resolve_scale(\n",
    "    x='independent'\n",
    ").configure_scale(\n",
    "    bandPaddingInner=0.1,\n",
    "    bandPaddingOuter=0.05\n",
    ").configure_axisX(\n",
    "    labelAngle=-45\n",
    ").configure_axisY(\n",
    "    titleAngle=0,\n",
    "    titleAlign=\"left\",\n",
    "    titleY=-3,\n",
    "    titleX=-50,\n",
    ").add_selection(\n",
    "    single_nearest\n",
    ")"
   ]
  },
  {
   "cell_type": "code",
   "execution_count": null,
   "metadata": {},
   "outputs": [],
   "source": []
  }
 ],
 "metadata": {
  "kernelspec": {
   "display_name": "Python 3",
   "language": "python",
   "name": "python3"
  },
  "language_info": {
   "codemirror_mode": {
    "name": "ipython",
    "version": 3
   },
   "file_extension": ".py",
   "mimetype": "text/x-python",
   "name": "python",
   "nbconvert_exporter": "python",
   "pygments_lexer": "ipython3",
   "version": "3.6.5"
  }
 },
 "nbformat": 4,
 "nbformat_minor": 4
}
