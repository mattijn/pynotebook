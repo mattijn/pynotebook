{
 "cells": [
  {
   "cell_type": "code",
   "execution_count": 6,
   "metadata": {},
   "outputs": [],
   "source": [
    "from hkvportal.io.services import dataportal as dp\n",
    "import pandas as pd\n",
    "dp = dp()"
   ]
  },
  {
   "cell_type": "code",
   "execution_count": 7,
   "metadata": {},
   "outputs": [
    {
     "name": "stdout",
     "output_type": "stream",
     "text": [
      "dataservice is set. https://dmws.hkvservices.nl/dataportal/ will be used as portal\n"
     ]
    }
   ],
   "source": [
    "dp.setDataservice(dataservice = 'https://dmws.hkvservices.nl/dataportal/')"
   ]
  },
  {
   "cell_type": "code",
   "execution_count": 8,
   "metadata": {},
   "outputs": [
    {
     "data": {
      "text/plain": [
       "[{'id': '5184e175-e28a-4803-9a31-d6814dd261a0',\n",
       "  'key': 'locations',\n",
       "  'date': '2017-12-08 12:09:41',\n",
       "  'description': 'Locations Ethiopia'},\n",
       " {'id': 'f78b2da0-0f59-4346-8878-47edfa1dd333',\n",
       "  'key': 'weather',\n",
       "  'date': '2017-12-08 15:22:28',\n",
       "  'description': 'Seattle weather'},\n",
       " {'id': 'e2659a35-705c-4e59-bbd7-b28ece00b7cb',\n",
       "  'key': 'weather_spec',\n",
       "  'date': '2018-02-15 14:39:50',\n",
       "  'description': 'Parameter vega spec'},\n",
       " {'id': '19e7b1b1-df1c-4c1e-99db-24473d25742b',\n",
       "  'key': 'map_spec',\n",
       "  'date': '2019-01-03 14:32:19',\n",
       "  'description': 'Ethiopia map vega spec'},\n",
       " {'id': 'ba593c4a-3c5c-49f3-a682-bae5ca7c54e8',\n",
       "  'key': 'geojson_weredas',\n",
       "  'date': '2017-12-12 16:27:01',\n",
       "  'description': 'Ethiopia map weredas'},\n",
       " {'id': '4dd031ec-023b-4813-94d1-766be70b560f',\n",
       "  'key': 'map_spec_rw',\n",
       "  'date': '2017-12-12 16:46:51',\n",
       "  'description': 'Ethiopia map vega spec'},\n",
       " {'id': 'b45c2f0b-bf75-4964-80f8-9ee1a1cf574a',\n",
       "  'key': 'bullet_chart_spec',\n",
       "  'date': '2018-02-15 11:33:28',\n",
       "  'description': 'Bullet chart vega spec'},\n",
       " {'id': 'a2839933-b647-42af-97c3-8c8d26fb6758',\n",
       "  'key': 'geojson_river',\n",
       "  'date': '2017-12-20 19:23:15',\n",
       "  'description': 'Awash Awash basin rivers'},\n",
       " {'id': '23303693-03ec-4964-a6a8-4e8b557f012c',\n",
       "  'key': 'geojson_catchment',\n",
       "  'date': '2017-12-20 19:23:29',\n",
       "  'description': 'Awash Awash basin catchment'},\n",
       " {'id': 'da466ba7-87b1-44ad-a306-080ee66ab05d',\n",
       "  'key': 'geojson_segments',\n",
       "  'date': '2017-12-20 20:59:03',\n",
       "  'description': 'Awash Awash diversion points schematized'},\n",
       " {'id': '9ee82677-bdee-44a6-9288-44cb6408369f',\n",
       "  'key': 'geojson_diversion_locations',\n",
       "  'date': '2017-12-20 20:02:29',\n",
       "  'description': 'Awash Awash diversion points'},\n",
       " {'id': '76ebcb20-1596-4ea4-be9c-29d06bd1ca2e',\n",
       "  'key': 'vega3_map',\n",
       "  'date': '2017-12-20 21:12:49',\n",
       "  'description': 'Vega-3 map specification'}]"
      ]
     },
     "execution_count": 8,
     "metadata": {},
     "output_type": "execute_result"
    }
   ],
   "source": [
    "dp.listDatabase(database='Ethiopia')"
   ]
  },
  {
   "cell_type": "code",
   "execution_count": null,
   "metadata": {},
   "outputs": [],
   "source": [
    "df = pd.read_csv('bls')"
   ]
  },
  {
   "cell_type": "code",
   "execution_count": null,
   "metadata": {},
   "outputs": [],
   "source": [
    "dp.setEntryDatabase(database='Ethiopia', key='water_allocation', data=df.to_csv(index=False), description='bkla')"
   ]
  },
  {
   "cell_type": "code",
   "execution_count": 5,
   "metadata": {},
   "outputs": [
    {
     "name": "stdout",
     "output_type": "stream",
     "text": [
      "http://85.17.82.66/dataservices/data.asmx/read?database=OMSWaddenzee&key=voorspelling\n"
     ]
    },
    {
     "ename": "JSONDecodeError",
     "evalue": "Expecting value: line 1 column 1 (char 0)",
     "output_type": "error",
     "traceback": [
      "\u001b[1;31m---------------------------------------------------------------------------\u001b[0m",
      "\u001b[1;31mJSONDecodeError\u001b[0m                           Traceback (most recent call last)",
      "\u001b[1;32m<ipython-input-5-d7f88e9871f1>\u001b[0m in \u001b[0;36m<module>\u001b[1;34m\u001b[0m\n\u001b[1;32m----> 1\u001b[1;33m \u001b[0mdp\u001b[0m\u001b[1;33m.\u001b[0m\u001b[0mgetEntryDatabase\u001b[0m\u001b[1;33m(\u001b[0m\u001b[0mdatabase\u001b[0m\u001b[1;33m=\u001b[0m\u001b[1;34m'OMSWaddenzee'\u001b[0m\u001b[1;33m,\u001b[0m \u001b[0mkey\u001b[0m\u001b[1;33m=\u001b[0m\u001b[1;34m'voorspelling'\u001b[0m\u001b[1;33m)\u001b[0m\u001b[1;33m\u001b[0m\u001b[0m\n\u001b[0m",
      "\u001b[1;32mc:\\programdata\\miniconda3\\lib\\site-packages\\hkvportal\\io\\services.py\u001b[0m in \u001b[0;36mgetEntryDatabase\u001b[1;34m(self, database, key)\u001b[0m\n\u001b[0;32m    152\u001b[0m         \u001b[0mprint\u001b[0m \u001b[1;33m(\u001b[0m\u001b[0murl\u001b[0m\u001b[1;33m)\u001b[0m\u001b[1;33m\u001b[0m\u001b[0m\n\u001b[0;32m    153\u001b[0m         \u001b[0mr\u001b[0m \u001b[1;33m=\u001b[0m \u001b[0mrequests\u001b[0m\u001b[1;33m.\u001b[0m\u001b[0mget\u001b[0m\u001b[1;33m(\u001b[0m\u001b[0murl\u001b[0m\u001b[1;33m)\u001b[0m\u001b[1;33m\u001b[0m\u001b[0m\n\u001b[1;32m--> 154\u001b[1;33m         \u001b[1;32mreturn\u001b[0m \u001b[0mr\u001b[0m\u001b[1;33m.\u001b[0m\u001b[0mjson\u001b[0m\u001b[1;33m(\u001b[0m\u001b[1;33m)\u001b[0m\u001b[1;33m\u001b[0m\u001b[0m\n\u001b[0m\u001b[0;32m    155\u001b[0m \u001b[1;33m\u001b[0m\u001b[0m\n\u001b[0;32m    156\u001b[0m     \u001b[1;32mdef\u001b[0m \u001b[0mdeleteEntryDatabase\u001b[0m\u001b[1;33m(\u001b[0m\u001b[0mself\u001b[0m\u001b[1;33m,\u001b[0m\u001b[0mdatabase\u001b[0m\u001b[1;33m,\u001b[0m \u001b[0mkey\u001b[0m\u001b[1;33m)\u001b[0m\u001b[1;33m:\u001b[0m\u001b[1;33m\u001b[0m\u001b[0m\n",
      "\u001b[1;32mc:\\programdata\\miniconda3\\lib\\site-packages\\requests\\models.py\u001b[0m in \u001b[0;36mjson\u001b[1;34m(self, **kwargs)\u001b[0m\n\u001b[0;32m    890\u001b[0m                     \u001b[1;31m# used.\u001b[0m\u001b[1;33m\u001b[0m\u001b[1;33m\u001b[0m\u001b[0m\n\u001b[0;32m    891\u001b[0m                     \u001b[1;32mpass\u001b[0m\u001b[1;33m\u001b[0m\u001b[0m\n\u001b[1;32m--> 892\u001b[1;33m         \u001b[1;32mreturn\u001b[0m \u001b[0mcomplexjson\u001b[0m\u001b[1;33m.\u001b[0m\u001b[0mloads\u001b[0m\u001b[1;33m(\u001b[0m\u001b[0mself\u001b[0m\u001b[1;33m.\u001b[0m\u001b[0mtext\u001b[0m\u001b[1;33m,\u001b[0m \u001b[1;33m**\u001b[0m\u001b[0mkwargs\u001b[0m\u001b[1;33m)\u001b[0m\u001b[1;33m\u001b[0m\u001b[0m\n\u001b[0m\u001b[0;32m    893\u001b[0m \u001b[1;33m\u001b[0m\u001b[0m\n\u001b[0;32m    894\u001b[0m     \u001b[1;33m@\u001b[0m\u001b[0mproperty\u001b[0m\u001b[1;33m\u001b[0m\u001b[0m\n",
      "\u001b[1;32mc:\\programdata\\miniconda3\\lib\\site-packages\\simplejson\\__init__.py\u001b[0m in \u001b[0;36mloads\u001b[1;34m(s, encoding, cls, object_hook, parse_float, parse_int, parse_constant, object_pairs_hook, use_decimal, **kw)\u001b[0m\n\u001b[0;32m    516\u001b[0m             \u001b[0mparse_constant\u001b[0m \u001b[1;32mis\u001b[0m \u001b[1;32mNone\u001b[0m \u001b[1;32mand\u001b[0m \u001b[0mobject_pairs_hook\u001b[0m \u001b[1;32mis\u001b[0m \u001b[1;32mNone\u001b[0m\u001b[1;33m\u001b[0m\u001b[0m\n\u001b[0;32m    517\u001b[0m             and not use_decimal and not kw):\n\u001b[1;32m--> 518\u001b[1;33m         \u001b[1;32mreturn\u001b[0m \u001b[0m_default_decoder\u001b[0m\u001b[1;33m.\u001b[0m\u001b[0mdecode\u001b[0m\u001b[1;33m(\u001b[0m\u001b[0ms\u001b[0m\u001b[1;33m)\u001b[0m\u001b[1;33m\u001b[0m\u001b[0m\n\u001b[0m\u001b[0;32m    519\u001b[0m     \u001b[1;32mif\u001b[0m \u001b[0mcls\u001b[0m \u001b[1;32mis\u001b[0m \u001b[1;32mNone\u001b[0m\u001b[1;33m:\u001b[0m\u001b[1;33m\u001b[0m\u001b[0m\n\u001b[0;32m    520\u001b[0m         \u001b[0mcls\u001b[0m \u001b[1;33m=\u001b[0m \u001b[0mJSONDecoder\u001b[0m\u001b[1;33m\u001b[0m\u001b[0m\n",
      "\u001b[1;32mc:\\programdata\\miniconda3\\lib\\site-packages\\simplejson\\decoder.py\u001b[0m in \u001b[0;36mdecode\u001b[1;34m(self, s, _w, _PY3)\u001b[0m\n\u001b[0;32m    368\u001b[0m         \u001b[1;32mif\u001b[0m \u001b[0m_PY3\u001b[0m \u001b[1;32mand\u001b[0m \u001b[0misinstance\u001b[0m\u001b[1;33m(\u001b[0m\u001b[0ms\u001b[0m\u001b[1;33m,\u001b[0m \u001b[0mbytes\u001b[0m\u001b[1;33m)\u001b[0m\u001b[1;33m:\u001b[0m\u001b[1;33m\u001b[0m\u001b[0m\n\u001b[0;32m    369\u001b[0m             \u001b[0ms\u001b[0m \u001b[1;33m=\u001b[0m \u001b[0mstr\u001b[0m\u001b[1;33m(\u001b[0m\u001b[0ms\u001b[0m\u001b[1;33m,\u001b[0m \u001b[0mself\u001b[0m\u001b[1;33m.\u001b[0m\u001b[0mencoding\u001b[0m\u001b[1;33m)\u001b[0m\u001b[1;33m\u001b[0m\u001b[0m\n\u001b[1;32m--> 370\u001b[1;33m         \u001b[0mobj\u001b[0m\u001b[1;33m,\u001b[0m \u001b[0mend\u001b[0m \u001b[1;33m=\u001b[0m \u001b[0mself\u001b[0m\u001b[1;33m.\u001b[0m\u001b[0mraw_decode\u001b[0m\u001b[1;33m(\u001b[0m\u001b[0ms\u001b[0m\u001b[1;33m)\u001b[0m\u001b[1;33m\u001b[0m\u001b[0m\n\u001b[0m\u001b[0;32m    371\u001b[0m         \u001b[0mend\u001b[0m \u001b[1;33m=\u001b[0m \u001b[0m_w\u001b[0m\u001b[1;33m(\u001b[0m\u001b[0ms\u001b[0m\u001b[1;33m,\u001b[0m \u001b[0mend\u001b[0m\u001b[1;33m)\u001b[0m\u001b[1;33m.\u001b[0m\u001b[0mend\u001b[0m\u001b[1;33m(\u001b[0m\u001b[1;33m)\u001b[0m\u001b[1;33m\u001b[0m\u001b[0m\n\u001b[0;32m    372\u001b[0m         \u001b[1;32mif\u001b[0m \u001b[0mend\u001b[0m \u001b[1;33m!=\u001b[0m \u001b[0mlen\u001b[0m\u001b[1;33m(\u001b[0m\u001b[0ms\u001b[0m\u001b[1;33m)\u001b[0m\u001b[1;33m:\u001b[0m\u001b[1;33m\u001b[0m\u001b[0m\n",
      "\u001b[1;32mc:\\programdata\\miniconda3\\lib\\site-packages\\simplejson\\decoder.py\u001b[0m in \u001b[0;36mraw_decode\u001b[1;34m(self, s, idx, _w, _PY3)\u001b[0m\n\u001b[0;32m    398\u001b[0m             \u001b[1;32melif\u001b[0m \u001b[0mord0\u001b[0m \u001b[1;33m==\u001b[0m \u001b[1;36m0xef\u001b[0m \u001b[1;32mand\u001b[0m \u001b[0ms\u001b[0m\u001b[1;33m[\u001b[0m\u001b[0midx\u001b[0m\u001b[1;33m:\u001b[0m\u001b[0midx\u001b[0m \u001b[1;33m+\u001b[0m \u001b[1;36m3\u001b[0m\u001b[1;33m]\u001b[0m \u001b[1;33m==\u001b[0m \u001b[1;34m'\\xef\\xbb\\xbf'\u001b[0m\u001b[1;33m:\u001b[0m\u001b[1;33m\u001b[0m\u001b[0m\n\u001b[0;32m    399\u001b[0m                 \u001b[0midx\u001b[0m \u001b[1;33m+=\u001b[0m \u001b[1;36m3\u001b[0m\u001b[1;33m\u001b[0m\u001b[0m\n\u001b[1;32m--> 400\u001b[1;33m         \u001b[1;32mreturn\u001b[0m \u001b[0mself\u001b[0m\u001b[1;33m.\u001b[0m\u001b[0mscan_once\u001b[0m\u001b[1;33m(\u001b[0m\u001b[0ms\u001b[0m\u001b[1;33m,\u001b[0m \u001b[0midx\u001b[0m\u001b[1;33m=\u001b[0m\u001b[0m_w\u001b[0m\u001b[1;33m(\u001b[0m\u001b[0ms\u001b[0m\u001b[1;33m,\u001b[0m \u001b[0midx\u001b[0m\u001b[1;33m)\u001b[0m\u001b[1;33m.\u001b[0m\u001b[0mend\u001b[0m\u001b[1;33m(\u001b[0m\u001b[1;33m)\u001b[0m\u001b[1;33m)\u001b[0m\u001b[1;33m\u001b[0m\u001b[0m\n\u001b[0m",
      "\u001b[1;31mJSONDecodeError\u001b[0m: Expecting value: line 1 column 1 (char 0)"
     ]
    }
   ],
   "source": [
    "dp.getEntryDatabase(database='Ethiopia', key='water_allocation')"
   ]
  },
  {
   "cell_type": "code",
   "execution_count": 6,
   "metadata": {},
   "outputs": [],
   "source": [
    "import pandas as pd"
   ]
  },
  {
   "cell_type": "code",
   "execution_count": 7,
   "metadata": {},
   "outputs": [],
   "source": [
    "df = pd.read_csv(r\"C:\\Users\\hoek.HKV\\Desktop\\voorspellingen_update.csv\")"
   ]
  },
  {
   "cell_type": "code",
   "execution_count": 8,
   "metadata": {},
   "outputs": [
    {
     "data": {
      "text/html": [
       "<div>\n",
       "<style scoped>\n",
       "    .dataframe tbody tr th:only-of-type {\n",
       "        vertical-align: middle;\n",
       "    }\n",
       "\n",
       "    .dataframe tbody tr th {\n",
       "        vertical-align: top;\n",
       "    }\n",
       "\n",
       "    .dataframe thead th {\n",
       "        text-align: right;\n",
       "    }\n",
       "</style>\n",
       "<table border=\"1\" class=\"dataframe\">\n",
       "  <thead>\n",
       "    <tr style=\"text-align: right;\">\n",
       "      <th></th>\n",
       "      <th>date</th>\n",
       "      <th>parameterId</th>\n",
       "      <th>locationId</th>\n",
       "      <th>stationName</th>\n",
       "      <th>value</th>\n",
       "    </tr>\n",
       "  </thead>\n",
       "  <tbody>\n",
       "    <tr>\n",
       "      <th>0</th>\n",
       "      <td>2019-01-25 00:00:00+01:00</td>\n",
       "      <td>Actuele volumes</td>\n",
       "      <td>bv.1.7.1.1</td>\n",
       "      <td>Den Helder - Texel, Vaarweg</td>\n",
       "      <td>304.89</td>\n",
       "    </tr>\n",
       "    <tr>\n",
       "      <th>1</th>\n",
       "      <td>2019-01-25 00:00:00+01:00</td>\n",
       "      <td>Actuele volumes</td>\n",
       "      <td>bv.1.7.1.1.1.1</td>\n",
       "      <td>Den Helder veerhaven, Vak A</td>\n",
       "      <td>395.60</td>\n",
       "    </tr>\n",
       "    <tr>\n",
       "      <th>2</th>\n",
       "      <td>2019-01-25 00:00:00+01:00</td>\n",
       "      <td>Actuele volumes</td>\n",
       "      <td>bv.1.7.1.1.1.2</td>\n",
       "      <td>Den Helder veerhaven, Vak B</td>\n",
       "      <td>1.39</td>\n",
       "    </tr>\n",
       "    <tr>\n",
       "      <th>3</th>\n",
       "      <td>2019-01-25 00:00:00+01:00</td>\n",
       "      <td>Actuele volumes</td>\n",
       "      <td>bv.1.7.1.1.1.3</td>\n",
       "      <td>Den Helder veerhaven, Vak C</td>\n",
       "      <td>5.44</td>\n",
       "    </tr>\n",
       "    <tr>\n",
       "      <th>4</th>\n",
       "      <td>2019-01-25 00:00:00+01:00</td>\n",
       "      <td>Actuele volumes</td>\n",
       "      <td>bv.1.7.1.1.2.1</td>\n",
       "      <td>Texel veerhaven, Vak A</td>\n",
       "      <td>355.86</td>\n",
       "    </tr>\n",
       "  </tbody>\n",
       "</table>\n",
       "</div>"
      ],
      "text/plain": [
       "                        date      parameterId      locationId  \\\n",
       "0  2019-01-25 00:00:00+01:00  Actuele volumes      bv.1.7.1.1   \n",
       "1  2019-01-25 00:00:00+01:00  Actuele volumes  bv.1.7.1.1.1.1   \n",
       "2  2019-01-25 00:00:00+01:00  Actuele volumes  bv.1.7.1.1.1.2   \n",
       "3  2019-01-25 00:00:00+01:00  Actuele volumes  bv.1.7.1.1.1.3   \n",
       "4  2019-01-25 00:00:00+01:00  Actuele volumes  bv.1.7.1.1.2.1   \n",
       "\n",
       "                   stationName   value  \n",
       "0  Den Helder - Texel, Vaarweg  304.89  \n",
       "1  Den Helder veerhaven, Vak A  395.60  \n",
       "2  Den Helder veerhaven, Vak B    1.39  \n",
       "3  Den Helder veerhaven, Vak C    5.44  \n",
       "4       Texel veerhaven, Vak A  355.86  "
      ]
     },
     "execution_count": 8,
     "metadata": {},
     "output_type": "execute_result"
    }
   ],
   "source": [
    "df.head()"
   ]
  },
  {
   "cell_type": "code",
   "execution_count": 9,
   "metadata": {},
   "outputs": [
    {
     "data": {
      "text/plain": [
       "{'id': '0ca12fa1-acbc-4f25-86da-c74cfb5d04d8',\n",
       " 'key': 'voorspelling',\n",
       " 'date': '2019-04-25 07:18:19'}"
      ]
     },
     "execution_count": 9,
     "metadata": {},
     "output_type": "execute_result"
    }
   ],
   "source": [
    "dp.setEntryDatabase(database = 'OMSWaddenzee', \n",
    "                    key = 'voorspelling', \n",
    "                    data = df.to_csv(index=False), \n",
    "                    description = 'voorspelling')"
   ]
  },
  {
   "cell_type": "code",
   "execution_count": null,
   "metadata": {},
   "outputs": [],
   "source": []
  },
  {
   "cell_type": "code",
   "execution_count": null,
   "metadata": {},
   "outputs": [],
   "source": [
    "spec = dp.getEntryDatabase(database='vega', key='NL_kustgrens')"
   ]
  },
  {
   "cell_type": "code",
   "execution_count": null,
   "metadata": {},
   "outputs": [],
   "source": [
    "with open('vega_spec_T1T9_v4.json', 'w') as f:\n",
    "    print(json.dumps(spec), file=f)"
   ]
  },
  {
   "cell_type": "code",
   "execution_count": null,
   "metadata": {},
   "outputs": [],
   "source": [
    "with open(r'C:\\Users\\hoek.HKV\\Downloads\\NL_kustgrens.json', 'r') as f:\n",
    "    new_spec = json.load(f)"
   ]
  },
  {
   "cell_type": "code",
   "execution_count": null,
   "metadata": {},
   "outputs": [],
   "source": [
    "dp.setEntryDatabase(database='vega', \n",
    "                       key='NL_kustgrens', \n",
    "                       data =json.dumps(new_spec), \n",
    "                       description = 'NL kustgrens')"
   ]
  },
  {
   "cell_type": "markdown",
   "metadata": {},
   "source": [
    "### VEGA SPEC T1T9 v5 incl orientatie duinvoet korreldiameter"
   ]
  },
  {
   "cell_type": "code",
   "execution_count": null,
   "metadata": {},
   "outputs": [],
   "source": [
    "spec = dp.getEntryDatabase(database='vega', key='NL_kustgrens')"
   ]
  },
  {
   "cell_type": "code",
   "execution_count": null,
   "metadata": {},
   "outputs": [],
   "source": [
    "with open('vega_spec_T1T9_v5_incl_orientatie_duinvoet_korreldiameter.json', 'w') as f:\n",
    "    print(json.dumps(spec), file=f)"
   ]
  },
  {
   "cell_type": "code",
   "execution_count": null,
   "metadata": {},
   "outputs": [],
   "source": [
    "with open('vega_spec_T1T9_v5_incl_orientatie_duinvoet_korreldiameter.json', 'r') as f:\n",
    "    new_spec = json.load(f)"
   ]
  },
  {
   "cell_type": "code",
   "execution_count": null,
   "metadata": {},
   "outputs": [],
   "source": [
    "dp.updateEntryDatabase(database='PR2877_21', \n",
    "                       key='vega_spec_T1T9_v5_incl_orientatie_duinvoet_korreldiameter', \n",
    "                       data =json.dumps(new_spec), \n",
    "                       description = 'update urls naar nieuwe omgeving')"
   ]
  },
  {
   "cell_type": "code",
   "execution_count": null,
   "metadata": {},
   "outputs": [],
   "source": []
  }
 ],
 "metadata": {
  "kernelspec": {
   "display_name": "Python 3",
   "language": "python",
   "name": "python3"
  },
  "language_info": {
   "codemirror_mode": {
    "name": "ipython",
    "version": 3
   },
   "file_extension": ".py",
   "mimetype": "text/x-python",
   "name": "python",
   "nbconvert_exporter": "python",
   "pygments_lexer": "ipython3",
   "version": "3.6.5"
  }
 },
 "nbformat": 4,
 "nbformat_minor": 4
}
