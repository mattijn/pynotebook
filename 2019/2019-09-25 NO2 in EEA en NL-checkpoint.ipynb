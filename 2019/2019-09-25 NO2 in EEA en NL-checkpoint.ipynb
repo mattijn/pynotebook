{
 "cells": [
  {
   "cell_type": "code",
   "execution_count": 1,
   "metadata": {},
   "outputs": [
    {
     "name": "stdout",
     "output_type": "stream",
     "text": [
      "Dataservice is recognized. https://tsws.hkvservices.nl/mangrove.ws/entry.asmx?WSDL will be used as portal\n"
     ]
    }
   ],
   "source": [
    "from io import StringIO\n",
    "import pandas as pd\n",
    "import geopandas as gpd\n",
    "from shapely.geometry import Point\n",
    "import topojson\n",
    "import hkvportal\n",
    "import io\n",
    "import altair as alt\n",
    "dp = hkvportal.Service('https://tsws.hkvservices.nl/mangrove.ws/', '236ebLIeCDdnKbfGe956IvZetIv1')"
   ]
  },
  {
   "cell_type": "code",
   "execution_count": 2,
   "metadata": {},
   "outputs": [],
   "source": [
    "string = \"Lat;Lon;Title;Ministerie;Project;Locatie\\n52,224061;5,771514;;Ministerie van Defensie;AOCS\\/Kamp Nieuw Milligen;Kamp Nieuw Milligen, Meerveld, Netherlands\\n50,8937;6,068266;;Ministerie van Defensie;APS Eygelshoven;Eygelshoven, Netherlands\\n52,14177;5,345255;;Ministerie van Defensie;Bernhardkazerne;198D-DW Barchman Wuytierslaan, Amersfoort, Netherlands\\n52,124407;5,273323;;Ministerie van Defensie;Camp New Amsterdam;Camp New Amsterdam, Huis ter Heide, Netherlands\\n52,027665;5,869627;;Ministerie van Defensie;Cluster Schaarsbergen;Schaarsbergen, Netherlands\\n52,10434;4,312698;;Ministerie van Defensie;Frederikkazerne;Frederikkazerne, The Hague, Netherlands\\n51,506796;5,316709;;Ministerie van Defensie;Genm. De Ruyter van Stevenickkazerne;Oirschot, Netherlands\\n50,936341;5,972782;;Ministerie van Defensie;HV Nassau Ouwerkerkkamp;5 Akerstraat, Brunssum, Netherlands\\n52,779122;6,242758;;Ministerie van Defensie;Johannes Postkazenrne;Havelte, Netherlands\\n53,001202;4,762978;;Ministerie van Defensie;Joost Dourleinkazerne;Joost Dourleinkazerne, Den Hoorn, Netherlands\\n52,205651;5,927752;;Ministerie van Defensie;Koning Willem III Kazerne;Frankenlaan, Apeldoorn, Netherlands\\n52,392733;5,912084;;Ministerie van Defensie;Legerplaats bij Olderboek;Legerplaats bij Oldebroek, 't Harde, Netherlands\\n52,298179;5,65841;;Ministerie van Defensie;Legerplaats Ermelo;Legerplaats Ermelo, Ermelo, Netherlands\\n52,124951;5,760447;;Ministerie van Defensie;Legerplaats Harskamp;Legerplaats Harskamp, Harskamp, Netherlands\\n52,186824;5,691431;;Ministerie van Defensie;Legerplaats Stroe;Stroe, Netherlands\\n52,135797;5,428444;;Ministerie van Defensie;Leusden;Leusden, Netherlands\\n51,534572;5,854679;;Ministerie van Defensie;Luchthavenbesluit De Peel;1 Ripseweg, Vredepeel, Netherlands\\n51,584054;4,924138;;Ministerie van Defensie;Luchthavenbesluit Gilze-Rijen;Gilze-Rijen, Rijen, Netherlands\\n51,418796;4,340462;;Ministerie van Defensie;Luchthavenbesluit Woensdrecht;Woensdrecht, Netherlands\\n51,519442;5,85923;;Ministerie van Defensie;Luitenant Generaal Bestkazerne;Luitenant-generaal Bestkazerne, Vredepeel, Netherlands\\n52,40603;5,89716;;Ministerie van Defensie;Luitenant Kolonel Tonnetkazerne;Luitenant-kolonel Tonnetkazerne, 't Harde, Netherlands\\n52,158342;4,492073;;Ministerie van Defensie;Marine Etablissement Amsterdam;Etablissement Einstein, Leiden, Netherlands\\n51,459208;3,618506;;Ministerie van Defensie;Marine Kazerne Vlissingen;Vlissingen, Netherlands\\n52,960141;4,737929;;Ministerie van Defensie;Marinekazerne Erfprins;Fort Erfprins, Den Helder, Netherlands\\n;;;Ministerie van Defensie;Militaire oefenvlieggebieden;?\\n53,040779;6,393889;;Ministerie van Defensie;MMC-Veenhuizen;Veenhuizen, Netherlands\\n;;;Ministerie van Defensie;Nieuwe Haven;?\\n;;;Ministerie van Defensie;Oefenterreinen-Defensie;?\\n51,482686;5,340987;;Ministerie van Defensie;OT Oirschotse Heide;Verspreide huizen Zuid-Oirschotse Heide, Oirschot, Netherlands\\n52,765042;4,658659;;Ministerie van Defensie;Petten KM;Petten, Netherlands\\n52,124157;5,309955;;Ministerie van Defensie;Regio Soesterberg;Soesterberg, Netherlands\\n51,395744;4,328997;;Ministerie van Defensie;Schietfaciliteit Ossendrecht;Ossendrecht, Netherlands\\n52,67355;6,293895;;Ministerie van Defensie;USAG nic oost;Nic Oostinghweg, De Wijk, Netherlands\\n52,922178;4,781179;;Ministerie van Defensie;Vliegbasis De Kooy;De Kooy, Den Helder, Netherlands\\n51,452541;5,376337;;Ministerie van Defensie;Vliegbasis Eindhoven;Eindhoven Airport, Eindhoven, Netherlands\\n51,568354;4,925511;;Ministerie van Defensie;Vliegbasis Gilze-Rijen;Vliegbasis Gilze-Rijen, Rijen, Netherlands\\n53,226239;5,752203;;Ministerie van Defensie;Vliegbasis Leeuwarden;Vliegbasis Leeuwarden, Leeuwarden, Netherlands\\n51,658611;5,702765;;Ministerie van Defensie;Vliegbasis Volkel;Vliegbasis Volkel, Volkel, Netherlands\\n51,430203;4,348619;;Ministerie van Defensie;Vliegbasis Woensdrecht;Vliegbasis Woensdrecht, Hoogerheide, Netherlands\\n53,016555;6,468887;;Ministerie van Defensie;Walaardt Sacre Kamp;Huis Ter Heide, Netherlands\\n52,242929;6,306813;;Ministerie van Infrastructuur en Waterstaat ;A1 Apeldoorn - Azelo;A1, Bathmen, Netherlands\\n51,952315;6,051491;;Ministerie van Infrastructuur en Waterstaat ;A12\\/A15 Ressen - Oudbroeken (ViA15);BP A12 Oudbroeken, Duiven, Netherlands\\n51,033989;5,823739;;Ministerie van Infrastructuur en Waterstaat ;A2 Het Vonderen - Kerensheide;A2, Born, Netherlands\\n51,877478;4,967682;;Ministerie van Infrastructuur en Waterstaat ;A27 Houten - Hooipolder;A27, Hoogblokland, Netherlands\\n52,103029;5,153583;;Ministerie van Infrastructuur en Waterstaat ;A27\\/A12 Ring Utrecht;A27, Utrecht, Netherlands\\n52,172857;5,425839;;Ministerie van Infrastructuur en Waterstaat ;A28\\/A1 knooppunt Hoevelaken;A28, Amersfoort, Netherlands\\n52,043546;4,348639;;Ministerie van Infrastructuur en Waterstaat ;A4 Passage Den Haag;A4, The Hague, Netherlands\\n52,548496;5,513752;;Ministerie van Infrastructuur en Waterstaat ;A6 Almere Buiten-Oost - Lelystad;Lelystad Centrum - Swifterbant, Lelystad, Netherlands\\n51,401507;6,107747;;Ministerie van Infrastructuur en Waterstaat ;A67\\/A73 Knooppunt Zaarderheiken;Zaarderheiken, Blerick, Netherlands\\n52,991897;5,152237;;Ministerie van Infrastructuur en Waterstaat ;Afsluitdijk;Afsluitdijk, Den Oever, Netherlands\\n;;;Ministerie van Infrastructuur en Waterstaat ;Capaciteitsuitbreiding ligplaatsen Ijssel;?\\n;;;Ministerie van Infrastructuur en Waterstaat ;Deltaplan Zoetwater: Noordervaart;?\\n52,08021;4,325601;;Ministerie van Infrastructuur en Waterstaat ;Den Haag CS, perronsporen 11 en 12;Den Haag Centraal, The Hague, Netherlands\\n;;;Ministerie van Infrastructuur en Waterstaat ;European Rail Traffic Management System (ERTMS);?\\n;;;Ministerie van Infrastructuur en Waterstaat ;Fietsparkeren bij stations;?\\n;;;Ministerie van Infrastructuur en Waterstaat ;Goederenroute Elst-Deventer-Twente (NaNOV);?\\n;;;Ministerie van Infrastructuur en Waterstaat ;Grensoverschrijdend spoorvervoer;?\\n52,45863;5,102502;;Ministerie van Infrastructuur en Waterstaat ;Hoogwaterbeschermingsprogramma Dijkversterking Marken;Marken, Netherlands\\n52,460022;4,599433;;Ministerie van Infrastructuur en Waterstaat ;Hoogwaterbeschermingsprogramma: Ijmuiden;Ymuiden, Netherlands\\n53,230032;4,909946;;Ministerie van Infrastructuur en Waterstaat ;Hoogwaterbeschermingsprogramma: Vlieland;Vlieland, Netherlands\\n52,693611;5,280991;;Ministerie van Infrastructuur en Waterstaat ;Hoogwaterbeschermingsprogramma 2: Houtribdijk, onderdeel Trintelzand B\\/watersportstrand;Houtribdijk, Enkhuizen, Netherlands\\n;;;Ministerie van Infrastructuur en Waterstaat ;Kleine stations;?\\n51,907676;5,996553;;Ministerie van Infrastructuur en Waterstaat ;Krib- en oeververlaging Pannerdensch Kanaal;Pannerdensch Kanaal, Pannerden, Netherlands\\n;;;Ministerie van Infrastructuur en Waterstaat ;Kustlijnzorg;?\\n52,309672;4,762127;;Ministerie van Infrastructuur en Waterstaat ;Luchthavenverkeersbesluit Schiphol;Schiphol Airport, Schiphol, Netherlands\\n52,455736;5,52432;;Ministerie van Infrastructuur en Waterstaat ;Luchthavenbesluit Lelystad Airport;Lelystad Airport, Lelystad, Netherlands\\n53,33077;6,06171;;Ministerie van Infrastructuur en Waterstaat ;Maaslijn (spoorwegproject);Oostrum, Netherlands\\n;;;Ministerie van Infrastructuur en Waterstaat ;Maatregelenpakket HSL-Zuid;?\\n;;;Ministerie van Infrastructuur en Waterstaat ;Meer veilig (verbeteren verkeersveiligheid hoofdwegennet);?\\n;;;Ministerie van Infrastructuur en Waterstaat ;Meerjarenprogramma Geluidsanering (MJPG);?\\n;;;Ministerie van Infrastructuur en Waterstaat ;Meerjarenprogramma Ontsnippering (MJPO);?\\n53,245241;6,876298;;Ministerie van Infrastructuur en Waterstaat ;N33 Zuidbroek - Appingedam;N33, Siddeburen, Netherlands\\n52,3607;6,524794;;Ministerie van Infrastructuur en Waterstaat ;N35 Nijverdal - Wierden;2 Schapendijk, Notter, Netherlands\\n52,555014;5,881369;;Ministerie van Infrastructuur en Waterstaat ;N50 Kampen - Kampen Zuid;N50, Kampen, Netherlands\\n;;;Ministerie van Infrastructuur en Waterstaat ;Overwegenaanpak;?\\n;;;Ministerie van Infrastructuur en Waterstaat ;Plan van Aanpak Goederen Emplacementen (PAGE) Risicoreductie (verbeteren externe veiligheid rond spooremplacementen);?\\n52,495245;4,756951;;Ministerie van Infrastructuur en Waterstaat ;Programma Hoogfrequent Spoorvervoer: Alkmaar - Amsterdam;Krommenie, Netherlands\\n52,378908;4,901278;;Ministerie van Infrastructuur en Waterstaat ;Programma Hoogfrequent Spoorvervoer: Amsterdam Centraal;Amsterdam Centraal, Amsterdam, Netherlands\\n51,564458;5,074477;;Ministerie van Infrastructuur en Waterstaat ;Programma Hoogfrequent Spoorvervoer: Eindhoven - Breda;Tilburg, Netherlands\\n51,656378;5,291072;;Ministerie van Infrastructuur en Waterstaat ;Programma Hoogfrequent Spoorvervoer: Meteren - Boxtel;Van Miertstraat, Vught, Netherlands\\n51,843041;5,85378;;Ministerie van Infrastructuur en Waterstaat ;Programma Hoogfrequent Spoorvervoer: Nijmegen;Stationsplein, Nymegen, Netherlands\\n;;;Ministerie van Infrastructuur en Waterstaat ;Programma Emplacementen op orde;?\\n;;;Ministerie van Infrastructuur en Waterstaat ;Programma Kleine Functiewijzingen;?\\n;;;Ministerie van Infrastructuur en Waterstaat ;Programma Vervanging & Renovatie - Hoofdvaarwegen;?\\n;;;Ministerie van Infrastructuur en Waterstaat ;Programma Vervanging & Renovatie - Hoofdwatersysteem;?\\n;;;Ministerie van Infrastructuur en Waterstaat ;Programma Vervanging & Renovatie - Hoofdwegen;?\\n51,497752;4,239225;;Ministerie van Infrastructuur en Waterstaat ;Rijksstructuurvisie Grevelingen en Volkerak - Zoommeer;Zoommeer\\n51,534043;5,184314;;Ministerie van Infrastructuur en Waterstaat ;SmartwayZ.nl: InnovA58 (Eindhoven - Tilburg);A58, Moergestel, Netherlands\\n51,536247;4,796284;;Ministerie van Infrastructuur en Waterstaat ;SmartwayZ.nl: InnovA58 (Sint-Annabosch - Galder);A58, Ulvenhout, Netherlands\\n51,922369;4,409507;;Ministerie van Infrastructuur en Waterstaat ;Sporen Schiedam - Rotterdam;Parallelweg, Schiedam, Netherlands\\n;;;Ministerie van Infrastructuur en Waterstaat ;Sporendriehoek Noord-Nederland;?\\n;;;Ministerie van Infrastructuur en Waterstaat ;Toegankelijkheid Stations;?\\n;;;Ministerie van Infrastructuur en Waterstaat ;Verbeterprogramma Waterkwaliteit Rijkswateren (Kaderrichtlijn Water);?\\n51,958333;3,983333;;Ministerie van Economische Zaken en Klimaat;Windpark Tweede Maasvlakte;?\\n;;;Ministerie van Economische Zaken en Klimaat;Windparken Flevoland;?\\n52,375473;3,455292;;Ministerie van Economische Zaken en Klimaat;Wind op Zee Hollandse Kust (west);\\n52,755572;3,073453;;Ministerie van Economische Zaken en Klimaat;Wind op Zee Ijmuiden Ver kavels I en II;\\n52,655156;3,068055;;Ministerie van Economische Zaken en Klimaat;Wind op Zee Ijmuiden Ver kavels III en IV;\\n53,847798;5,534127;;Ministerie van Economische Zaken en Klimaat;Wind op Zee Ten Noorden Van De Wadden;\\n52,633182;3,745837;;Ministerie van Economische Zaken en Klimaat;Net op Zee Hollandse Kust (noord) en (west Alpha);\\n52,35112;3,453265;;Ministerie van Economische Zaken en Klimaat;Net op Zee Hollandse Kust (weta Beta);\\n52,705572;3,071453;;Ministerie van Economische Zaken en Klimaat;Net op Zee Ijmuiden Ver Noord;\\n52,605156;3,063055;;Ministerie van Economische Zaken en Klimaat;Net op Zee Ijmuiden Ver zuid;\\n53,857798;5,534127;;Ministerie van Economische Zaken en Klimaat;Net op Zee Ten Noorden Van DE Wadden;\\n;;;Ministerie van Economische Zaken en Klimaat;Hoogspanningsnet Zuid-West 380 kV oost;?\\n;;;Ministerie van Economische Zaken en Klimaat;Gaswinning Noordzee;?\\n;;;Ministerie van Economische Zaken en Klimaat;Gaswinning Waddenzee;?\\n;;;Ministerie van Economische Zaken en Klimaat;14 gas-\\/olieboringen offshore;?\\n;;;Ministerie van Economische Zaken en Klimaat;18 gas-\\/olieboringen op land;?\\n;;;Ministerie van Economische Zaken en Klimaat;7 aardwarmte boringen op land;?\\n;;;Ministerie van Economische Zaken en Klimaat;Revisievergunning zoutwinning;?\\n;;;Ministerie van Economische Zaken en Klimaat;Onderhouds- en sluitingswerkzaamheden mijnbouwprojecten;?\\n;;;Ministerie van Economische Zaken en Klimaat;CCS-infrastructuur Noordzee;?\\n53,488774;6,084061;;Ministerie van Economische Zaken en Klimaat;Elektrificatie Ameland Westgat;Westgat\\n;;;Ministerie van Landbouw Natuur en Voedselkwaliteit;Boomkorvisserij;?\\n;;;Ministerie van Landbouw Natuur en Voedselkwaliteit;Garnalenvisserij;?\\n;;;Ministerie van Landbouw Natuur en Voedselkwaliteit;Mosselzaadvisserij;?\\n;;;Ministerie van Landbouw Natuur en Voedselkwaliteit;Spisulavisserij;?\\n;;;Ministerie van Landbouw Natuur en Voedselkwaliteit;Zandwinning Noordzee;Op te zoeken?\\n52,784695;4,680028;;Ministerie van Volksgezondheid, Welzijn en Sport;Pallas medische isotopenreactor;Petten, Netherlands\\n52,079195;4,312242;;Ministerie van Binnenlandse Zaken en Koninkrijksrelaties \\/ Rijksvastgoedbedrijf;Renovatie Binnenhof;Binnenhof, The Hague, Netherlands\\n;;;Ministerie van Binnenlandse Zaken en Koninkrijksrelaties \\/ Rijksvastgoedbedrijf;(Ver)bouw Rijkskantoren in o.a. Arnhem, Assen, Centrum Den Haag, Haarlem, Utrecht, Zwolle;?\\n;;;Ministerie van Binnenlandse Zaken en Koninkrijksrelaties \\/ Rijksvastgoedbedrijf;(Ver)bouw t.b.v. Rechtspraak in o.a. Almelo, Arnhem, Den Haag;?\\n;;;Ministerie van Binnenlandse Zaken en Koninkrijksrelaties \\/ Rijksvastgoedbedrijf;(Ver)bouw t.b.v. Penitentiaire inrichitngen o.a. te Alphen aan den Rijn, Balkburg, Scheveningen, Spijkenisse, Veenhuizen, Vught en Westzaan;?\\n;;;Ministerie van Binnenlandse Zaken en Koninkrijksrelaties \\/ Rijksvastgoedbedrijf;(Ver)bouw t.b.v. andere functies in o.a. in De Bilt, Ter Apel;?\\n;;;Ministerie van Binnenlandse Zaken en Koninkrijksrelaties \\/ Rijksvastgoedbedrijf;(Ver)bouw t.b.v. internationale organisaties in Den Haag;?\\n;;;Ministerie van Binnenlandse Zaken en Koninkrijksrelaties \\/ Rijksvastgoedbedrijf;Verkoop van diverse vastgoedobjecten met sloop\\/herontwikkeling;\""
   ]
  },
  {
   "cell_type": "code",
   "execution_count": 3,
   "metadata": {},
   "outputs": [],
   "source": [
    "def geom_string_to_gdf(string):\n",
    "    \n",
    "    DATA = StringIO(string)\n",
    "    df = pd.read_csv(DATA, sep=\";\")\n",
    "    df['Lat'] = pd.to_numeric(df['Lat'].str.replace(',','.'))\n",
    "    df['Lon'] = pd.to_numeric(df['Lon'].str.replace(',','.'))    \n",
    "    \n",
    "    df.dropna(subset=['Lon', 'Lat'], inplace=True)\n",
    "    geometry = [Point(xy) for xy in zip(df.Lon, df.Lat)]\n",
    "    df = df.drop(['Lon', 'Lat'], axis=1)\n",
    "    crs = {'init': 'epsg:4326'}\n",
    "    gdf = gpd.GeoDataFrame(df, crs=crs, geometry=geometry)    \n",
    "    \n",
    "    return gdf"
   ]
  },
  {
   "cell_type": "code",
   "execution_count": 4,
   "metadata": {},
   "outputs": [
    {
     "data": {
      "text/html": [
       "<div>\n",
       "<style scoped>\n",
       "    .dataframe tbody tr th:only-of-type {\n",
       "        vertical-align: middle;\n",
       "    }\n",
       "\n",
       "    .dataframe tbody tr th {\n",
       "        vertical-align: top;\n",
       "    }\n",
       "\n",
       "    .dataframe thead th {\n",
       "        text-align: right;\n",
       "    }\n",
       "</style>\n",
       "<table border=\"1\" class=\"dataframe\">\n",
       "  <thead>\n",
       "    <tr style=\"text-align: right;\">\n",
       "      <th></th>\n",
       "      <th>Title</th>\n",
       "      <th>Ministerie</th>\n",
       "      <th>Project</th>\n",
       "      <th>Locatie</th>\n",
       "      <th>geometry</th>\n",
       "    </tr>\n",
       "  </thead>\n",
       "  <tbody>\n",
       "    <tr>\n",
       "      <th>0</th>\n",
       "      <td>NaN</td>\n",
       "      <td>Ministerie van Defensie</td>\n",
       "      <td>AOCS\\/Kamp Nieuw Milligen</td>\n",
       "      <td>Kamp Nieuw Milligen, Meerveld, Netherlands</td>\n",
       "      <td>POINT (5.771514 52.224061)</td>\n",
       "    </tr>\n",
       "    <tr>\n",
       "      <th>1</th>\n",
       "      <td>NaN</td>\n",
       "      <td>Ministerie van Defensie</td>\n",
       "      <td>APS Eygelshoven</td>\n",
       "      <td>Eygelshoven, Netherlands</td>\n",
       "      <td>POINT (6.068266 50.8937)</td>\n",
       "    </tr>\n",
       "    <tr>\n",
       "      <th>2</th>\n",
       "      <td>NaN</td>\n",
       "      <td>Ministerie van Defensie</td>\n",
       "      <td>Bernhardkazerne</td>\n",
       "      <td>198D-DW Barchman Wuytierslaan, Amersfoort, Net...</td>\n",
       "      <td>POINT (5.345255 52.14177)</td>\n",
       "    </tr>\n",
       "    <tr>\n",
       "      <th>3</th>\n",
       "      <td>NaN</td>\n",
       "      <td>Ministerie van Defensie</td>\n",
       "      <td>Camp New Amsterdam</td>\n",
       "      <td>Camp New Amsterdam, Huis ter Heide, Netherlands</td>\n",
       "      <td>POINT (5.273323 52.124407)</td>\n",
       "    </tr>\n",
       "    <tr>\n",
       "      <th>4</th>\n",
       "      <td>NaN</td>\n",
       "      <td>Ministerie van Defensie</td>\n",
       "      <td>Cluster Schaarsbergen</td>\n",
       "      <td>Schaarsbergen, Netherlands</td>\n",
       "      <td>POINT (5.869626999999999 52.027665)</td>\n",
       "    </tr>\n",
       "  </tbody>\n",
       "</table>\n",
       "</div>"
      ],
      "text/plain": [
       "   Title               Ministerie                    Project  \\\n",
       "0    NaN  Ministerie van Defensie  AOCS\\/Kamp Nieuw Milligen   \n",
       "1    NaN  Ministerie van Defensie            APS Eygelshoven   \n",
       "2    NaN  Ministerie van Defensie            Bernhardkazerne   \n",
       "3    NaN  Ministerie van Defensie         Camp New Amsterdam   \n",
       "4    NaN  Ministerie van Defensie      Cluster Schaarsbergen   \n",
       "\n",
       "                                             Locatie  \\\n",
       "0         Kamp Nieuw Milligen, Meerveld, Netherlands   \n",
       "1                           Eygelshoven, Netherlands   \n",
       "2  198D-DW Barchman Wuytierslaan, Amersfoort, Net...   \n",
       "3    Camp New Amsterdam, Huis ter Heide, Netherlands   \n",
       "4                         Schaarsbergen, Netherlands   \n",
       "\n",
       "                              geometry  \n",
       "0           POINT (5.771514 52.224061)  \n",
       "1             POINT (6.068266 50.8937)  \n",
       "2            POINT (5.345255 52.14177)  \n",
       "3           POINT (5.273323 52.124407)  \n",
       "4  POINT (5.869626999999999 52.027665)  "
      ]
     },
     "execution_count": 4,
     "metadata": {},
     "output_type": "execute_result"
    }
   ],
   "source": [
    "geomNL = geom_string_to_gdf(string)\n",
    "geomNL.crs = {'init': 'epsg:4326'}\n",
    "geomNL.head()"
   ]
  },
  {
   "cell_type": "code",
   "execution_count": 5,
   "metadata": {},
   "outputs": [],
   "source": [
    "gdfNL = gpd.read_file('nl_no2_geojson_collection.geo.json')\n",
    "gdfNL.columns = map(str.lower, gdfNL.columns) \n",
    "gdfNL = gdfNL.replace(to_replace= r'\\\\', value= '', regex=True)\n",
    "gdfNL['ministerie'] = gdfNL['ministerie'].str.replace('/ ','')\n",
    "gdfNL['ministerie'] = gdfNL['ministerie'].str.replace(' Rijksvastgoedbedrijf','')\n",
    "gdfNL['ministerie'] = gdfNL['ministerie'].str.replace('Ministerie van Defensie','Def')\n",
    "gdfNL['ministerie'] = gdfNL['ministerie'].str.replace('Ministerie van Infrastructuur en Waterstaat','I&W')\n",
    "gdfNL['ministerie'] = gdfNL['ministerie'].str.replace('Ministerie van Economische Zaken en Klimaat','EZK')\n",
    "gdfNL['ministerie'] = gdfNL['ministerie'].str.replace('Ministerie van Volksgezondheid, Welzijn en Sport','VWS')\n",
    "gdfNL['ministerie'] = gdfNL['ministerie'].str.replace('Ministerie van Binnenlandse Zaken en Koninkrijksrelaties','BZK')"
   ]
  },
  {
   "cell_type": "code",
   "execution_count": 6,
   "metadata": {},
   "outputs": [
    {
     "data": {
      "text/plain": [
       "array(['Def', 'EZK', 'I&W', 'VWS', 'BZK'], dtype=object)"
      ]
     },
     "execution_count": 6,
     "metadata": {},
     "output_type": "execute_result"
    }
   ],
   "source": [
    "gdfNL.ministerie.unique()"
   ]
  },
  {
   "cell_type": "code",
   "execution_count": null,
   "metadata": {},
   "outputs": [],
   "source": []
  },
  {
   "cell_type": "code",
   "execution_count": 7,
   "metadata": {},
   "outputs": [
    {
     "data": {
      "text/html": [
       "<div>\n",
       "<style scoped>\n",
       "    .dataframe tbody tr th:only-of-type {\n",
       "        vertical-align: middle;\n",
       "    }\n",
       "\n",
       "    .dataframe tbody tr th {\n",
       "        vertical-align: top;\n",
       "    }\n",
       "\n",
       "    .dataframe thead th {\n",
       "        text-align: right;\n",
       "    }\n",
       "</style>\n",
       "<table border=\"1\" class=\"dataframe\">\n",
       "  <thead>\n",
       "    <tr style=\"text-align: right;\">\n",
       "      <th></th>\n",
       "      <th>locatie</th>\n",
       "      <th>ministerie</th>\n",
       "      <th>project</th>\n",
       "      <th>date</th>\n",
       "      <th>median</th>\n",
       "      <th>geometry</th>\n",
       "      <th>lon</th>\n",
       "      <th>lat</th>\n",
       "    </tr>\n",
       "  </thead>\n",
       "  <tbody>\n",
       "    <tr>\n",
       "      <th>0</th>\n",
       "      <td>Kamp Nieuw Milligen, Meerveld, Netherlands</td>\n",
       "      <td>Def</td>\n",
       "      <td>AOCS/Kamp Nieuw Milligen</td>\n",
       "      <td>2018-07</td>\n",
       "      <td>0.000109</td>\n",
       "      <td>POINT (5.771514 52.224061)</td>\n",
       "      <td>5.771514</td>\n",
       "      <td>52.224061</td>\n",
       "    </tr>\n",
       "    <tr>\n",
       "      <th>1</th>\n",
       "      <td>Kamp Nieuw Milligen, Meerveld, Netherlands</td>\n",
       "      <td>Def</td>\n",
       "      <td>AOCS/Kamp Nieuw Milligen</td>\n",
       "      <td>2018-08</td>\n",
       "      <td>0.000107</td>\n",
       "      <td>POINT (5.771514 52.224061)</td>\n",
       "      <td>5.771514</td>\n",
       "      <td>52.224061</td>\n",
       "    </tr>\n",
       "    <tr>\n",
       "      <th>2</th>\n",
       "      <td>Kamp Nieuw Milligen, Meerveld, Netherlands</td>\n",
       "      <td>Def</td>\n",
       "      <td>AOCS/Kamp Nieuw Milligen</td>\n",
       "      <td>2018-09</td>\n",
       "      <td>0.000138</td>\n",
       "      <td>POINT (5.771514 52.224061)</td>\n",
       "      <td>5.771514</td>\n",
       "      <td>52.224061</td>\n",
       "    </tr>\n",
       "    <tr>\n",
       "      <th>3</th>\n",
       "      <td>Kamp Nieuw Milligen, Meerveld, Netherlands</td>\n",
       "      <td>Def</td>\n",
       "      <td>AOCS/Kamp Nieuw Milligen</td>\n",
       "      <td>2018-10</td>\n",
       "      <td>0.000112</td>\n",
       "      <td>POINT (5.771514 52.224061)</td>\n",
       "      <td>5.771514</td>\n",
       "      <td>52.224061</td>\n",
       "    </tr>\n",
       "    <tr>\n",
       "      <th>4</th>\n",
       "      <td>Kamp Nieuw Milligen, Meerveld, Netherlands</td>\n",
       "      <td>Def</td>\n",
       "      <td>AOCS/Kamp Nieuw Milligen</td>\n",
       "      <td>2018-11</td>\n",
       "      <td>0.000144</td>\n",
       "      <td>POINT (5.771514 52.224061)</td>\n",
       "      <td>5.771514</td>\n",
       "      <td>52.224061</td>\n",
       "    </tr>\n",
       "  </tbody>\n",
       "</table>\n",
       "</div>"
      ],
      "text/plain": [
       "                                      locatie ministerie  \\\n",
       "0  Kamp Nieuw Milligen, Meerveld, Netherlands        Def   \n",
       "1  Kamp Nieuw Milligen, Meerveld, Netherlands        Def   \n",
       "2  Kamp Nieuw Milligen, Meerveld, Netherlands        Def   \n",
       "3  Kamp Nieuw Milligen, Meerveld, Netherlands        Def   \n",
       "4  Kamp Nieuw Milligen, Meerveld, Netherlands        Def   \n",
       "\n",
       "                    project     date    median                    geometry  \\\n",
       "0  AOCS/Kamp Nieuw Milligen  2018-07  0.000109  POINT (5.771514 52.224061)   \n",
       "1  AOCS/Kamp Nieuw Milligen  2018-08  0.000107  POINT (5.771514 52.224061)   \n",
       "2  AOCS/Kamp Nieuw Milligen  2018-09  0.000138  POINT (5.771514 52.224061)   \n",
       "3  AOCS/Kamp Nieuw Milligen  2018-10  0.000112  POINT (5.771514 52.224061)   \n",
       "4  AOCS/Kamp Nieuw Milligen  2018-11  0.000144  POINT (5.771514 52.224061)   \n",
       "\n",
       "        lon        lat  \n",
       "0  5.771514  52.224061  \n",
       "1  5.771514  52.224061  \n",
       "2  5.771514  52.224061  \n",
       "3  5.771514  52.224061  \n",
       "4  5.771514  52.224061  "
      ]
     },
     "execution_count": 7,
     "metadata": {},
     "output_type": "execute_result"
    }
   ],
   "source": [
    "dataNL = pd.merge(gdfNL, geomNL[['geometry', 'Locatie']], how='inner', left_on='locatie', right_on='Locatie', suffixes=('_x',''))\n",
    "dataNL['lon'] = dataNL.geometry.x\n",
    "dataNL['lat'] = dataNL.geometry.y\n",
    "dataNL.drop(['Locatie', 'geometry_x', 'max', 'min','title','id'], axis=1, inplace=True)\n",
    "dataNL.date = pd.to_datetime(dataNL.date).dt.strftime('%Y-%m')\n",
    "dataNL.head()"
   ]
  },
  {
   "cell_type": "code",
   "execution_count": 8,
   "metadata": {},
   "outputs": [],
   "source": [
    "month_sorted = dataNL.date.unique().tolist()"
   ]
  },
  {
   "cell_type": "code",
   "execution_count": 9,
   "metadata": {},
   "outputs": [],
   "source": [
    "from shapely.geometry.base import BaseMultipartGeometry\n",
    "from shapely.geometry.polygon import orient as orient_\n",
    "from shapely.geometry import Polygon\n",
    "\n",
    "def orient(geom, sign=1.0):\n",
    "    if isinstance(geom, BaseMultipartGeometry):\n",
    "        return geom.__class__(\n",
    "            list(\n",
    "                map(\n",
    "                    lambda geom: orient(geom, sign),\n",
    "                    geom.geoms,\n",
    "                )\n",
    "            )\n",
    "        )\n",
    "    if isinstance(geom, (Polygon,)):\n",
    "        return orient_(geom, sign)\n",
    "    return geom"
   ]
  },
  {
   "cell_type": "code",
   "execution_count": 10,
   "metadata": {},
   "outputs": [],
   "source": [
    "width = 300\n",
    "height = 300"
   ]
  },
  {
   "cell_type": "code",
   "execution_count": 11,
   "metadata": {},
   "outputs": [],
   "source": [
    "# remote geojson data object\n",
    "url_geojson = 'https://raw.githubusercontent.com/cartomap/nl/master/wgs84/provincie_%7B2017%7D.geojson'\n",
    "data_geojson_remote = alt.Data(url=url_geojson, format=alt.DataFormat(property='features',type='json'))\n",
    "\n",
    "# chart object\n",
    "provpltNL = alt.Chart(data_geojson_remote).mark_geoshape(stroke='black', fill='#F1F1F1',strokeWidth=1\n",
    ").properties(\n",
    "    width=width,\n",
    "    height=height,\n",
    "    projection={'type': 'conicConformal', 'rotate': [-20, 0.0], 'center':[-14.7, 52.1],'scale':5500, 'precision':0.1, 'translate':[width/2,height/2]}\n",
    ")"
   ]
  },
  {
   "cell_type": "code",
   "execution_count": 12,
   "metadata": {},
   "outputs": [],
   "source": [
    "#from shapely.ops import orient # version >=1.7a2\n",
    "#dataNL.geometry = dataNL.geometry.apply(orient, args=(-1,))"
   ]
  },
  {
   "cell_type": "code",
   "execution_count": 13,
   "metadata": {},
   "outputs": [],
   "source": [
    "datesNL = dataNL.date.unique()\n",
    "dates_dropdownNL = alt.binding_select(options=datesNL.tolist())\n",
    "dates_selectNL = alt.selection_single(empty='none', fields=['date'], bind=dates_dropdownNL, name=\"Dates\", init={'date':datesNL[-1]})#, on=\"click[event.shiftKey&!event.shiftKey]\")#, clear=False)\n",
    "locatie_selectNL = alt.selection_single(empty='none', fields=['locatie'], init={'locatie':'Houtribdijk, Enkhuizen, Netherlands'}, on='mouseover')\n",
    "locatie_date_highlightNL = alt.selection_single(empty='none', fields=['locatie', 'date'], on='mouseover')"
   ]
  },
  {
   "cell_type": "code",
   "execution_count": 14,
   "metadata": {},
   "outputs": [],
   "source": [
    "mappltNL = alt.Chart().mark_circle(opacity=0.9, stroke='black').encode(\n",
    "    latitude=\"lat:Q\",\n",
    "    longitude=\"lon:Q\",\n",
    "    color=alt.Color('median',scale=alt.Scale(type='quantize', scheme=alt.SchemeParams('blueorange', count=5), domain=[0,0.00016]), legend=alt.Legend(title='NO₂ mol/m²', format='.1s')),\n",
    "    tooltip=['date:O','locatie',alt.Tooltip('median', format='.4s'),'ministerie', 'project'],\n",
    "    size=alt.Size('median',scale=alt.Scale(domain=[0,0.00016])),\n",
    "    strokeWidth=alt.condition(locatie_selectNL, alt.StrokeWidthValue(2), alt.StrokeWidthValue(1))\n",
    ").properties(\n",
    "    width=width,\n",
    "    height=height,\n",
    "    projection={'type': 'conicConformal', 'rotate': [-20, 0.0], 'center':[-14.7, 52.1],'scale':5500, 'precision':0.1, 'translate':[width/2,height/2]}\n",
    ").add_selection(\n",
    "    dates_selectNL\n",
    ").transform_filter(\n",
    "    dates_selectNL\n",
    ").add_selection(\n",
    "    locatie_selectNL\n",
    ")"
   ]
  },
  {
   "cell_type": "code",
   "execution_count": 15,
   "metadata": {},
   "outputs": [],
   "source": [
    "titlepltNL = alt.Chart().mark_text(size=12).encode(\n",
    "    text='date:O'\n",
    ").add_selection(\n",
    "    dates_selectNL\n",
    ").transform_filter(\n",
    "    dates_selectNL\n",
    ")"
   ]
  },
  {
   "cell_type": "code",
   "execution_count": 16,
   "metadata": {},
   "outputs": [],
   "source": [
    "boxpltNL = alt.Chart().mark_boxplot().encode(\n",
    "    y=alt.Y('date:N', title=None, sort=month_sorted),\n",
    "    x=alt.X('median:Q', title='NO₂ mol/m²', axis=alt.Axis(format='.2s'), scale=alt.Scale(domain=[0,0.00021])),\n",
    "    color=alt.condition(dates_selectNL, alt.value('#FF9C33'), alt.value('#77B2D4')),\n",
    "    tooltip=['date:O', 'locatie',alt.Tooltip('median', format='.4s'), 'ministerie', 'project']\n",
    ").properties(\n",
    "    width=width\n",
    ").add_selection(\n",
    "    dates_selectNL\n",
    ")"
   ]
  },
  {
   "cell_type": "code",
   "execution_count": 17,
   "metadata": {},
   "outputs": [],
   "source": [
    "circlepltNL = alt.Chart(dataNL).mark_point(stroke='black'\n",
    ").encode(    \n",
    "    y=alt.Y('date:N', axis=alt.Axis(labelAngle=0), title=None),\n",
    "    x=alt.X('ministerie:N', title=None, axis=alt.Axis(labelLimit=300, labelAngle=-45)),\n",
    "    size=alt.Size('mean(median):Q',\n",
    "        scale=alt.Scale(range=[0, 500], type='symlog'),\n",
    "        legend=alt.Legend(title='NO₂ mol/m²', format='.1s')\n",
    "    ),\n",
    "    fill=alt.Fill('mean(median):Q', scale=alt.Scale(type='quantize', scheme=alt.SchemeParams('blueorange', count=5), domain=[0,0.00016]), legend=None),\n",
    "    tooltip=['date:N',alt.Tooltip('mean(median):Q', format='.4s'), 'ministerie'],\n",
    "    strokeWidth=alt.condition(dates_selectNL, alt.StrokeWidthValue(2), alt.StrokeWidthValue(1)),\n",
    "    fillOpacity=alt.FillOpacityValue(1)\n",
    ").add_selection(\n",
    "    dates_selectNL\n",
    ").add_selection(\n",
    "    locatie_date_highlightNL\n",
    ")"
   ]
  },
  {
   "cell_type": "code",
   "execution_count": 18,
   "metadata": {},
   "outputs": [
    {
     "data": {
      "application/vnd.vegalite.v3+json": {
       "$schema": "https://vega.github.io/schema/vega-lite/v3.4.0.json",
       "config": {
        "mark": {
         "tooltip": null
        },
        "view": {
         "height": 300,
         "width": 400
        }
       },
       "data": {
        "name": "data-594e33cdfb3acff63f810390b1d7752d"
       },
       "datasets": {
        "data-594e33cdfb3acff63f810390b1d7752d": [
         {
          "date": "2018-07",
          "geometry": {
           "coordinates": [
            5.771514,
            52.224061
           ],
           "type": "Point"
          },
          "lat": 52.224061,
          "locatie": "Kamp Nieuw Milligen, Meerveld, Netherlands",
          "lon": 5.771514,
          "median": 0.00010932608711300418,
          "ministerie": "Def",
          "project": "AOCS/Kamp Nieuw Milligen",
          "type": "Feature"
         },
         {
          "date": "2018-08",
          "geometry": {
           "coordinates": [
            5.771514,
            52.224061
           ],
           "type": "Point"
          },
          "lat": 52.224061,
          "locatie": "Kamp Nieuw Milligen, Meerveld, Netherlands",
          "lon": 5.771514,
          "median": 0.00010697711589032334,
          "ministerie": "Def",
          "project": "AOCS/Kamp Nieuw Milligen",
          "type": "Feature"
         },
         {
          "date": "2018-09",
          "geometry": {
           "coordinates": [
            5.771514,
            52.224061
           ],
           "type": "Point"
          },
          "lat": 52.224061,
          "locatie": "Kamp Nieuw Milligen, Meerveld, Netherlands",
          "lon": 5.771514,
          "median": 0.0001377282023895532,
          "ministerie": "Def",
          "project": "AOCS/Kamp Nieuw Milligen",
          "type": "Feature"
         },
         {
          "date": "2018-10",
          "geometry": {
           "coordinates": [
            5.771514,
            52.224061
           ],
           "type": "Point"
          },
          "lat": 52.224061,
          "locatie": "Kamp Nieuw Milligen, Meerveld, Netherlands",
          "lon": 5.771514,
          "median": 0.00011156633266782744,
          "ministerie": "Def",
          "project": "AOCS/Kamp Nieuw Milligen",
          "type": "Feature"
         },
         {
          "date": "2018-11",
          "geometry": {
           "coordinates": [
            5.771514,
            52.224061
           ],
           "type": "Point"
          },
          "lat": 52.224061,
          "locatie": "Kamp Nieuw Milligen, Meerveld, Netherlands",
          "lon": 5.771514,
          "median": 0.0001440188498236239,
          "ministerie": "Def",
          "project": "AOCS/Kamp Nieuw Milligen",
          "type": "Feature"
         },
         {
          "date": "2018-12",
          "geometry": {
           "coordinates": [
            5.771514,
            52.224061
           ],
           "type": "Point"
          },
          "lat": 52.224061,
          "locatie": "Kamp Nieuw Milligen, Meerveld, Netherlands",
          "lon": 5.771514,
          "median": 0.00010428224913864015,
          "ministerie": "Def",
          "project": "AOCS/Kamp Nieuw Milligen",
          "type": "Feature"
         },
         {
          "date": "2019-01",
          "geometry": {
           "coordinates": [
            5.771514,
            52.224061
           ],
           "type": "Point"
          },
          "lat": 52.224061,
          "locatie": "Kamp Nieuw Milligen, Meerveld, Netherlands",
          "lon": 5.771514,
          "median": 0.0001026223015917954,
          "ministerie": "Def",
          "project": "AOCS/Kamp Nieuw Milligen",
          "type": "Feature"
         },
         {
          "date": "2019-02",
          "geometry": {
           "coordinates": [
            5.771514,
            52.224061
           ],
           "type": "Point"
          },
          "lat": 52.224061,
          "locatie": "Kamp Nieuw Milligen, Meerveld, Netherlands",
          "lon": 5.771514,
          "median": 0.0001515674413136616,
          "ministerie": "Def",
          "project": "AOCS/Kamp Nieuw Milligen",
          "type": "Feature"
         },
         {
          "date": "2019-03",
          "geometry": {
           "coordinates": [
            5.771514,
            52.224061
           ],
           "type": "Point"
          },
          "lat": 52.224061,
          "locatie": "Kamp Nieuw Milligen, Meerveld, Netherlands",
          "lon": 5.771514,
          "median": 0.0001032781005253918,
          "ministerie": "Def",
          "project": "AOCS/Kamp Nieuw Milligen",
          "type": "Feature"
         },
         {
          "date": "2019-04",
          "geometry": {
           "coordinates": [
            5.771514,
            52.224061
           ],
           "type": "Point"
          },
          "lat": 52.224061,
          "locatie": "Kamp Nieuw Milligen, Meerveld, Netherlands",
          "lon": 5.771514,
          "median": 0.00010776597566995029,
          "ministerie": "Def",
          "project": "AOCS/Kamp Nieuw Milligen",
          "type": "Feature"
         },
         {
          "date": "2019-05",
          "geometry": {
           "coordinates": [
            5.771514,
            52.224061
           ],
           "type": "Point"
          },
          "lat": 52.224061,
          "locatie": "Kamp Nieuw Milligen, Meerveld, Netherlands",
          "lon": 5.771514,
          "median": 0.00011146253698759287,
          "ministerie": "Def",
          "project": "AOCS/Kamp Nieuw Milligen",
          "type": "Feature"
         },
         {
          "date": "2019-06",
          "geometry": {
           "coordinates": [
            5.771514,
            52.224061
           ],
           "type": "Point"
          },
          "lat": 52.224061,
          "locatie": "Kamp Nieuw Milligen, Meerveld, Netherlands",
          "lon": 5.771514,
          "median": 0.00010403622196149441,
          "ministerie": "Def",
          "project": "AOCS/Kamp Nieuw Milligen",
          "type": "Feature"
         },
         {
          "date": "2019-07",
          "geometry": {
           "coordinates": [
            5.771514,
            52.224061
           ],
           "type": "Point"
          },
          "lat": 52.224061,
          "locatie": "Kamp Nieuw Milligen, Meerveld, Netherlands",
          "lon": 5.771514,
          "median": 0.00010325944813948095,
          "ministerie": "Def",
          "project": "AOCS/Kamp Nieuw Milligen",
          "type": "Feature"
         },
         {
          "date": "2019-08",
          "geometry": {
           "coordinates": [
            5.771514,
            52.224061
           ],
           "type": "Point"
          },
          "lat": 52.224061,
          "locatie": "Kamp Nieuw Milligen, Meerveld, Netherlands",
          "lon": 5.771514,
          "median": 0.00011533940761950738,
          "ministerie": "Def",
          "project": "AOCS/Kamp Nieuw Milligen",
          "type": "Feature"
         },
         {
          "date": "2019-09",
          "geometry": {
           "coordinates": [
            5.771514,
            52.224061
           ],
           "type": "Point"
          },
          "lat": 52.224061,
          "locatie": "Kamp Nieuw Milligen, Meerveld, Netherlands",
          "lon": 5.771514,
          "median": 9.669608074977874e-05,
          "ministerie": "Def",
          "project": "AOCS/Kamp Nieuw Milligen",
          "type": "Feature"
         },
         {
          "date": "2018-07",
          "geometry": {
           "coordinates": [
            6.068266,
            50.8937
           ],
           "type": "Point"
          },
          "lat": 50.8937,
          "locatie": "Eygelshoven, Netherlands",
          "lon": 6.068266,
          "median": 0.00012693020560618703,
          "ministerie": "Def",
          "project": "APS Eygelshoven",
          "type": "Feature"
         },
         {
          "date": "2018-08",
          "geometry": {
           "coordinates": [
            6.068266,
            50.8937
           ],
           "type": "Point"
          },
          "lat": 50.8937,
          "locatie": "Eygelshoven, Netherlands",
          "lon": 6.068266,
          "median": 0.00012080659732128874,
          "ministerie": "Def",
          "project": "APS Eygelshoven",
          "type": "Feature"
         },
         {
          "date": "2018-09",
          "geometry": {
           "coordinates": [
            6.068266,
            50.8937
           ],
           "type": "Point"
          },
          "lat": 50.8937,
          "locatie": "Eygelshoven, Netherlands",
          "lon": 6.068266,
          "median": 0.00014358024396138292,
          "ministerie": "Def",
          "project": "APS Eygelshoven",
          "type": "Feature"
         },
         {
          "date": "2018-10",
          "geometry": {
           "coordinates": [
            6.068266,
            50.8937
           ],
           "type": "Point"
          },
          "lat": 50.8937,
          "locatie": "Eygelshoven, Netherlands",
          "lon": 6.068266,
          "median": 0.00013952664091959572,
          "ministerie": "Def",
          "project": "APS Eygelshoven",
          "type": "Feature"
         },
         {
          "date": "2018-11",
          "geometry": {
           "coordinates": [
            6.068266,
            50.8937
           ],
           "type": "Point"
          },
          "lat": 50.8937,
          "locatie": "Eygelshoven, Netherlands",
          "lon": 6.068266,
          "median": 0.00014158654084894806,
          "ministerie": "Def",
          "project": "APS Eygelshoven",
          "type": "Feature"
         },
         {
          "date": "2018-12",
          "geometry": {
           "coordinates": [
            6.068266,
            50.8937
           ],
           "type": "Point"
          },
          "lat": 50.8937,
          "locatie": "Eygelshoven, Netherlands",
          "lon": 6.068266,
          "median": 0.00010870207226411681,
          "ministerie": "Def",
          "project": "APS Eygelshoven",
          "type": "Feature"
         },
         {
          "date": "2019-01",
          "geometry": {
           "coordinates": [
            6.068266,
            50.8937
           ],
           "type": "Point"
          },
          "lat": 50.8937,
          "locatie": "Eygelshoven, Netherlands",
          "lon": 6.068266,
          "median": 0.0001326103458197671,
          "ministerie": "Def",
          "project": "APS Eygelshoven",
          "type": "Feature"
         },
         {
          "date": "2019-02",
          "geometry": {
           "coordinates": [
            6.068266,
            50.8937
           ],
           "type": "Point"
          },
          "lat": 50.8937,
          "locatie": "Eygelshoven, Netherlands",
          "lon": 6.068266,
          "median": 0.0001346942808595486,
          "ministerie": "Def",
          "project": "APS Eygelshoven",
          "type": "Feature"
         },
         {
          "date": "2019-03",
          "geometry": {
           "coordinates": [
            6.068266,
            50.8937
           ],
           "type": "Point"
          },
          "lat": 50.8937,
          "locatie": "Eygelshoven, Netherlands",
          "lon": 6.068266,
          "median": 0.00010800376912811771,
          "ministerie": "Def",
          "project": "APS Eygelshoven",
          "type": "Feature"
         },
         {
          "date": "2019-04",
          "geometry": {
           "coordinates": [
            6.068266,
            50.8937
           ],
           "type": "Point"
          },
          "lat": 50.8937,
          "locatie": "Eygelshoven, Netherlands",
          "lon": 6.068266,
          "median": 0.00014317267579136092,
          "ministerie": "Def",
          "project": "APS Eygelshoven",
          "type": "Feature"
         },
         {
          "date": "2019-05",
          "geometry": {
           "coordinates": [
            6.068266,
            50.8937
           ],
           "type": "Point"
          },
          "lat": 50.8937,
          "locatie": "Eygelshoven, Netherlands",
          "lon": 6.068266,
          "median": 0.00011566608009161428,
          "ministerie": "Def",
          "project": "APS Eygelshoven",
          "type": "Feature"
         },
         {
          "date": "2019-06",
          "geometry": {
           "coordinates": [
            6.068266,
            50.8937
           ],
           "type": "Point"
          },
          "lat": 50.8937,
          "locatie": "Eygelshoven, Netherlands",
          "lon": 6.068266,
          "median": 0.00010452855381026597,
          "ministerie": "Def",
          "project": "APS Eygelshoven",
          "type": "Feature"
         },
         {
          "date": "2019-07",
          "geometry": {
           "coordinates": [
            6.068266,
            50.8937
           ],
           "type": "Point"
          },
          "lat": 50.8937,
          "locatie": "Eygelshoven, Netherlands",
          "lon": 6.068266,
          "median": 0.00011137789260828868,
          "ministerie": "Def",
          "project": "APS Eygelshoven",
          "type": "Feature"
         },
         {
          "date": "2019-08",
          "geometry": {
           "coordinates": [
            6.068266,
            50.8937
           ],
           "type": "Point"
          },
          "lat": 50.8937,
          "locatie": "Eygelshoven, Netherlands",
          "lon": 6.068266,
          "median": 0.00010153986345720533,
          "ministerie": "Def",
          "project": "APS Eygelshoven",
          "type": "Feature"
         },
         {
          "date": "2019-09",
          "geometry": {
           "coordinates": [
            6.068266,
            50.8937
           ],
           "type": "Point"
          },
          "lat": 50.8937,
          "locatie": "Eygelshoven, Netherlands",
          "lon": 6.068266,
          "median": 0.00010826612183909644,
          "ministerie": "Def",
          "project": "APS Eygelshoven",
          "type": "Feature"
         },
         {
          "date": "2018-07",
          "geometry": {
           "coordinates": [
            5.345255,
            52.14177
           ],
           "type": "Point"
          },
          "lat": 52.14177,
          "locatie": "198D-DW Barchman Wuytierslaan, Amersfoort, Netherlands",
          "lon": 5.345255,
          "median": 0.00011360255695514975,
          "ministerie": "Def",
          "project": "Bernhardkazerne",
          "type": "Feature"
         },
         {
          "date": "2018-08",
          "geometry": {
           "coordinates": [
            5.345255,
            52.14177
           ],
           "type": "Point"
          },
          "lat": 52.14177,
          "locatie": "198D-DW Barchman Wuytierslaan, Amersfoort, Netherlands",
          "lon": 5.345255,
          "median": 0.00011194547561938452,
          "ministerie": "Def",
          "project": "Bernhardkazerne",
          "type": "Feature"
         },
         {
          "date": "2018-09",
          "geometry": {
           "coordinates": [
            5.345255,
            52.14177
           ],
           "type": "Point"
          },
          "lat": 52.14177,
          "locatie": "198D-DW Barchman Wuytierslaan, Amersfoort, Netherlands",
          "lon": 5.345255,
          "median": 0.00014481158860704056,
          "ministerie": "Def",
          "project": "Bernhardkazerne",
          "type": "Feature"
         },
         {
          "date": "2018-10",
          "geometry": {
           "coordinates": [
            5.345255,
            52.14177
           ],
           "type": "Point"
          },
          "lat": 52.14177,
          "locatie": "198D-DW Barchman Wuytierslaan, Amersfoort, Netherlands",
          "lon": 5.345255,
          "median": 0.00011288141467957757,
          "ministerie": "Def",
          "project": "Bernhardkazerne",
          "type": "Feature"
         },
         {
          "date": "2018-11",
          "geometry": {
           "coordinates": [
            5.345255,
            52.14177
           ],
           "type": "Point"
          },
          "lat": 52.14177,
          "locatie": "198D-DW Barchman Wuytierslaan, Amersfoort, Netherlands",
          "lon": 5.345255,
          "median": 0.00013266036783853323,
          "ministerie": "Def",
          "project": "Bernhardkazerne",
          "type": "Feature"
         },
         {
          "date": "2018-12",
          "geometry": {
           "coordinates": [
            5.345255,
            52.14177
           ],
           "type": "Point"
          },
          "lat": 52.14177,
          "locatie": "198D-DW Barchman Wuytierslaan, Amersfoort, Netherlands",
          "lon": 5.345255,
          "median": 0.00010634171928287705,
          "ministerie": "Def",
          "project": "Bernhardkazerne",
          "type": "Feature"
         },
         {
          "date": "2019-01",
          "geometry": {
           "coordinates": [
            5.345255,
            52.14177
           ],
           "type": "Point"
          },
          "lat": 52.14177,
          "locatie": "198D-DW Barchman Wuytierslaan, Amersfoort, Netherlands",
          "lon": 5.345255,
          "median": 8.662297227841078e-05,
          "ministerie": "Def",
          "project": "Bernhardkazerne",
          "type": "Feature"
         },
         {
          "date": "2019-02",
          "geometry": {
           "coordinates": [
            5.345255,
            52.14177
           ],
           "type": "Point"
          },
          "lat": 52.14177,
          "locatie": "198D-DW Barchman Wuytierslaan, Amersfoort, Netherlands",
          "lon": 5.345255,
          "median": 0.00014274237708023938,
          "ministerie": "Def",
          "project": "Bernhardkazerne",
          "type": "Feature"
         },
         {
          "date": "2019-03",
          "geometry": {
           "coordinates": [
            5.345255,
            52.14177
           ],
           "type": "Point"
          },
          "lat": 52.14177,
          "locatie": "198D-DW Barchman Wuytierslaan, Amersfoort, Netherlands",
          "lon": 5.345255,
          "median": 0.00011047796989960989,
          "ministerie": "Def",
          "project": "Bernhardkazerne",
          "type": "Feature"
         },
         {
          "date": "2019-04",
          "geometry": {
           "coordinates": [
            5.345255,
            52.14177
           ],
           "type": "Point"
          },
          "lat": 52.14177,
          "locatie": "198D-DW Barchman Wuytierslaan, Amersfoort, Netherlands",
          "lon": 5.345255,
          "median": 0.00011473814795726932,
          "ministerie": "Def",
          "project": "Bernhardkazerne",
          "type": "Feature"
         },
         {
          "date": "2019-05",
          "geometry": {
           "coordinates": [
            5.345255,
            52.14177
           ],
           "type": "Point"
          },
          "lat": 52.14177,
          "locatie": "198D-DW Barchman Wuytierslaan, Amersfoort, Netherlands",
          "lon": 5.345255,
          "median": 0.00011415924048570613,
          "ministerie": "Def",
          "project": "Bernhardkazerne",
          "type": "Feature"
         },
         {
          "date": "2019-06",
          "geometry": {
           "coordinates": [
            5.345255,
            52.14177
           ],
           "type": "Point"
          },
          "lat": 52.14177,
          "locatie": "198D-DW Barchman Wuytierslaan, Amersfoort, Netherlands",
          "lon": 5.345255,
          "median": 0.00010967370681211863,
          "ministerie": "Def",
          "project": "Bernhardkazerne",
          "type": "Feature"
         },
         {
          "date": "2019-07",
          "geometry": {
           "coordinates": [
            5.345255,
            52.14177
           ],
           "type": "Point"
          },
          "lat": 52.14177,
          "locatie": "198D-DW Barchman Wuytierslaan, Amersfoort, Netherlands",
          "lon": 5.345255,
          "median": 0.00010521603086073017,
          "ministerie": "Def",
          "project": "Bernhardkazerne",
          "type": "Feature"
         },
         {
          "date": "2019-08",
          "geometry": {
           "coordinates": [
            5.345255,
            52.14177
           ],
           "type": "Point"
          },
          "lat": 52.14177,
          "locatie": "198D-DW Barchman Wuytierslaan, Amersfoort, Netherlands",
          "lon": 5.345255,
          "median": 0.00011759272191605934,
          "ministerie": "Def",
          "project": "Bernhardkazerne",
          "type": "Feature"
         },
         {
          "date": "2019-09",
          "geometry": {
           "coordinates": [
            5.345255,
            52.14177
           ],
           "type": "Point"
          },
          "lat": 52.14177,
          "locatie": "198D-DW Barchman Wuytierslaan, Amersfoort, Netherlands",
          "lon": 5.345255,
          "median": 0.00010173145904822706,
          "ministerie": "Def",
          "project": "Bernhardkazerne",
          "type": "Feature"
         },
         {
          "date": "2018-07",
          "geometry": {
           "coordinates": [
            5.273323,
            52.124407
           ],
           "type": "Point"
          },
          "lat": 52.124407,
          "locatie": "Camp New Amsterdam, Huis ter Heide, Netherlands",
          "lon": 5.273323,
          "median": 0.00011575222207609812,
          "ministerie": "Def",
          "project": "Camp New Amsterdam",
          "type": "Feature"
         },
         {
          "date": "2018-08",
          "geometry": {
           "coordinates": [
            5.273323,
            52.124407
           ],
           "type": "Point"
          },
          "lat": 52.124407,
          "locatie": "Camp New Amsterdam, Huis ter Heide, Netherlands",
          "lon": 5.273323,
          "median": 0.00011267577371017621,
          "ministerie": "Def",
          "project": "Camp New Amsterdam",
          "type": "Feature"
         },
         {
          "date": "2018-09",
          "geometry": {
           "coordinates": [
            5.273323,
            52.124407
           ],
           "type": "Point"
          },
          "lat": 52.124407,
          "locatie": "Camp New Amsterdam, Huis ter Heide, Netherlands",
          "lon": 5.273323,
          "median": 0.00014889115118421614,
          "ministerie": "Def",
          "project": "Camp New Amsterdam",
          "type": "Feature"
         },
         {
          "date": "2018-10",
          "geometry": {
           "coordinates": [
            5.273323,
            52.124407
           ],
           "type": "Point"
          },
          "lat": 52.124407,
          "locatie": "Camp New Amsterdam, Huis ter Heide, Netherlands",
          "lon": 5.273323,
          "median": 0.00011079399477688327,
          "ministerie": "Def",
          "project": "Camp New Amsterdam",
          "type": "Feature"
         },
         {
          "date": "2018-11",
          "geometry": {
           "coordinates": [
            5.273323,
            52.124407
           ],
           "type": "Point"
          },
          "lat": 52.124407,
          "locatie": "Camp New Amsterdam, Huis ter Heide, Netherlands",
          "lon": 5.273323,
          "median": 0.00013263260113500455,
          "ministerie": "Def",
          "project": "Camp New Amsterdam",
          "type": "Feature"
         },
         {
          "date": "2018-12",
          "geometry": {
           "coordinates": [
            5.273323,
            52.124407
           ],
           "type": "Point"
          },
          "lat": 52.124407,
          "locatie": "Camp New Amsterdam, Huis ter Heide, Netherlands",
          "lon": 5.273323,
          "median": 0.00010753724155778628,
          "ministerie": "Def",
          "project": "Camp New Amsterdam",
          "type": "Feature"
         },
         {
          "date": "2019-01",
          "geometry": {
           "coordinates": [
            5.273323,
            52.124407
           ],
           "type": "Point"
          },
          "lat": 52.124407,
          "locatie": "Camp New Amsterdam, Huis ter Heide, Netherlands",
          "lon": 5.273323,
          "median": 8.563582377973944e-05,
          "ministerie": "Def",
          "project": "Camp New Amsterdam",
          "type": "Feature"
         },
         {
          "date": "2019-02",
          "geometry": {
           "coordinates": [
            5.273323,
            52.124407
           ],
           "type": "Point"
          },
          "lat": 52.124407,
          "locatie": "Camp New Amsterdam, Huis ter Heide, Netherlands",
          "lon": 5.273323,
          "median": 0.0001381728794542678,
          "ministerie": "Def",
          "project": "Camp New Amsterdam",
          "type": "Feature"
         },
         {
          "date": "2019-03",
          "geometry": {
           "coordinates": [
            5.273323,
            52.124407
           ],
           "type": "Point"
          },
          "lat": 52.124407,
          "locatie": "Camp New Amsterdam, Huis ter Heide, Netherlands",
          "lon": 5.273323,
          "median": 0.00011313036152484589,
          "ministerie": "Def",
          "project": "Camp New Amsterdam",
          "type": "Feature"
         },
         {
          "date": "2019-04",
          "geometry": {
           "coordinates": [
            5.273323,
            52.124407
           ],
           "type": "Point"
          },
          "lat": 52.124407,
          "locatie": "Camp New Amsterdam, Huis ter Heide, Netherlands",
          "lon": 5.273323,
          "median": 0.00011797523277132842,
          "ministerie": "Def",
          "project": "Camp New Amsterdam",
          "type": "Feature"
         },
         {
          "date": "2019-05",
          "geometry": {
           "coordinates": [
            5.273323,
            52.124407
           ],
           "type": "Point"
          },
          "lat": 52.124407,
          "locatie": "Camp New Amsterdam, Huis ter Heide, Netherlands",
          "lon": 5.273323,
          "median": 0.00011442569788515546,
          "ministerie": "Def",
          "project": "Camp New Amsterdam",
          "type": "Feature"
         },
         {
          "date": "2019-06",
          "geometry": {
           "coordinates": [
            5.273323,
            52.124407
           ],
           "type": "Point"
          },
          "lat": 52.124407,
          "locatie": "Camp New Amsterdam, Huis ter Heide, Netherlands",
          "lon": 5.273323,
          "median": 0.00010927602267133695,
          "ministerie": "Def",
          "project": "Camp New Amsterdam",
          "type": "Feature"
         },
         {
          "date": "2019-07",
          "geometry": {
           "coordinates": [
            5.273323,
            52.124407
           ],
           "type": "Point"
          },
          "lat": 52.124407,
          "locatie": "Camp New Amsterdam, Huis ter Heide, Netherlands",
          "lon": 5.273323,
          "median": 0.00010644644381459397,
          "ministerie": "Def",
          "project": "Camp New Amsterdam",
          "type": "Feature"
         },
         {
          "date": "2019-08",
          "geometry": {
           "coordinates": [
            5.273323,
            52.124407
           ],
           "type": "Point"
          },
          "lat": 52.124407,
          "locatie": "Camp New Amsterdam, Huis ter Heide, Netherlands",
          "lon": 5.273323,
          "median": 0.000118111575205613,
          "ministerie": "Def",
          "project": "Camp New Amsterdam",
          "type": "Feature"
         },
         {
          "date": "2019-09",
          "geometry": {
           "coordinates": [
            5.273323,
            52.124407
           ],
           "type": "Point"
          },
          "lat": 52.124407,
          "locatie": "Camp New Amsterdam, Huis ter Heide, Netherlands",
          "lon": 5.273323,
          "median": 9.958063327222328e-05,
          "ministerie": "Def",
          "project": "Camp New Amsterdam",
          "type": "Feature"
         },
         {
          "date": "2018-07",
          "geometry": {
           "coordinates": [
            5.8696269999999995,
            52.027665
           ],
           "type": "Point"
          },
          "lat": 52.027665,
          "locatie": "Schaarsbergen, Netherlands",
          "lon": 5.8696269999999995,
          "median": 0.00011156167657347313,
          "ministerie": "Def",
          "project": "Cluster Schaarsbergen",
          "type": "Feature"
         },
         {
          "date": "2018-08",
          "geometry": {
           "coordinates": [
            5.8696269999999995,
            52.027665
           ],
           "type": "Point"
          },
          "lat": 52.027665,
          "locatie": "Schaarsbergen, Netherlands",
          "lon": 5.8696269999999995,
          "median": 0.00010849848569541457,
          "ministerie": "Def",
          "project": "Cluster Schaarsbergen",
          "type": "Feature"
         },
         {
          "date": "2018-09",
          "geometry": {
           "coordinates": [
            5.8696269999999995,
            52.027665
           ],
           "type": "Point"
          },
          "lat": 52.027665,
          "locatie": "Schaarsbergen, Netherlands",
          "lon": 5.8696269999999995,
          "median": 0.00013618463465970188,
          "ministerie": "Def",
          "project": "Cluster Schaarsbergen",
          "type": "Feature"
         },
         {
          "date": "2018-10",
          "geometry": {
           "coordinates": [
            5.8696269999999995,
            52.027665
           ],
           "type": "Point"
          },
          "lat": 52.027665,
          "locatie": "Schaarsbergen, Netherlands",
          "lon": 5.8696269999999995,
          "median": 0.00012120848259655759,
          "ministerie": "Def",
          "project": "Cluster Schaarsbergen",
          "type": "Feature"
         },
         {
          "date": "2018-11",
          "geometry": {
           "coordinates": [
            5.8696269999999995,
            52.027665
           ],
           "type": "Point"
          },
          "lat": 52.027665,
          "locatie": "Schaarsbergen, Netherlands",
          "lon": 5.8696269999999995,
          "median": 0.00015409917978104204,
          "ministerie": "Def",
          "project": "Cluster Schaarsbergen",
          "type": "Feature"
         },
         {
          "date": "2018-12",
          "geometry": {
           "coordinates": [
            5.8696269999999995,
            52.027665
           ],
           "type": "Point"
          },
          "lat": 52.027665,
          "locatie": "Schaarsbergen, Netherlands",
          "lon": 5.8696269999999995,
          "median": 0.0001111454370030999,
          "ministerie": "Def",
          "project": "Cluster Schaarsbergen",
          "type": "Feature"
         },
         {
          "date": "2019-01",
          "geometry": {
           "coordinates": [
            5.8696269999999995,
            52.027665
           ],
           "type": "Point"
          },
          "lat": 52.027665,
          "locatie": "Schaarsbergen, Netherlands",
          "lon": 5.8696269999999995,
          "median": 0.00012513105269871963,
          "ministerie": "Def",
          "project": "Cluster Schaarsbergen",
          "type": "Feature"
         },
         {
          "date": "2019-02",
          "geometry": {
           "coordinates": [
            5.8696269999999995,
            52.027665
           ],
           "type": "Point"
          },
          "lat": 52.027665,
          "locatie": "Schaarsbergen, Netherlands",
          "lon": 5.8696269999999995,
          "median": 0.0001578496056568119,
          "ministerie": "Def",
          "project": "Cluster Schaarsbergen",
          "type": "Feature"
         },
         {
          "date": "2019-03",
          "geometry": {
           "coordinates": [
            5.8696269999999995,
            52.027665
           ],
           "type": "Point"
          },
          "lat": 52.027665,
          "locatie": "Schaarsbergen, Netherlands",
          "lon": 5.8696269999999995,
          "median": 0.00010978345778517612,
          "ministerie": "Def",
          "project": "Cluster Schaarsbergen",
          "type": "Feature"
         },
         {
          "date": "2019-04",
          "geometry": {
           "coordinates": [
            5.8696269999999995,
            52.027665
           ],
           "type": "Point"
          },
          "lat": 52.027665,
          "locatie": "Schaarsbergen, Netherlands",
          "lon": 5.8696269999999995,
          "median": 0.00011305822497931114,
          "ministerie": "Def",
          "project": "Cluster Schaarsbergen",
          "type": "Feature"
         },
         {
          "date": "2019-05",
          "geometry": {
           "coordinates": [
            5.8696269999999995,
            52.027665
           ],
           "type": "Point"
          },
          "lat": 52.027665,
          "locatie": "Schaarsbergen, Netherlands",
          "lon": 5.8696269999999995,
          "median": 0.00011714856255721854,
          "ministerie": "Def",
          "project": "Cluster Schaarsbergen",
          "type": "Feature"
         },
         {
          "date": "2019-06",
          "geometry": {
           "coordinates": [
            5.8696269999999995,
            52.027665
           ],
           "type": "Point"
          },
          "lat": 52.027665,
          "locatie": "Schaarsbergen, Netherlands",
          "lon": 5.8696269999999995,
          "median": 0.00011061230179620907,
          "ministerie": "Def",
          "project": "Cluster Schaarsbergen",
          "type": "Feature"
         },
         {
          "date": "2019-07",
          "geometry": {
           "coordinates": [
            5.8696269999999995,
            52.027665
           ],
           "type": "Point"
          },
          "lat": 52.027665,
          "locatie": "Schaarsbergen, Netherlands",
          "lon": 5.8696269999999995,
          "median": 0.00010947495320579037,
          "ministerie": "Def",
          "project": "Cluster Schaarsbergen",
          "type": "Feature"
         },
         {
          "date": "2019-08",
          "geometry": {
           "coordinates": [
            5.8696269999999995,
            52.027665
           ],
           "type": "Point"
          },
          "lat": 52.027665,
          "locatie": "Schaarsbergen, Netherlands",
          "lon": 5.8696269999999995,
          "median": 0.00011436967179179192,
          "ministerie": "Def",
          "project": "Cluster Schaarsbergen",
          "type": "Feature"
         },
         {
          "date": "2019-09",
          "geometry": {
           "coordinates": [
            5.8696269999999995,
            52.027665
           ],
           "type": "Point"
          },
          "lat": 52.027665,
          "locatie": "Schaarsbergen, Netherlands",
          "lon": 5.8696269999999995,
          "median": 0.00011163319140905514,
          "ministerie": "Def",
          "project": "Cluster Schaarsbergen",
          "type": "Feature"
         },
         {
          "date": "2018-07",
          "geometry": {
           "coordinates": [
            4.312698,
            52.10434
           ],
           "type": "Point"
          },
          "lat": 52.10434,
          "locatie": "Frederikkazerne, The Hague, Netherlands",
          "lon": 4.312698,
          "median": 0.00012348562800115537,
          "ministerie": "Def",
          "project": "Frederikkazerne",
          "type": "Feature"
         },
         {
          "date": "2018-08",
          "geometry": {
           "coordinates": [
            4.312698,
            52.10434
           ],
           "type": "Point"
          },
          "lat": 52.10434,
          "locatie": "Frederikkazerne, The Hague, Netherlands",
          "lon": 4.312698,
          "median": 0.00010614267958469596,
          "ministerie": "Def",
          "project": "Frederikkazerne",
          "type": "Feature"
         },
         {
          "date": "2018-09",
          "geometry": {
           "coordinates": [
            4.312698,
            52.10434
           ],
           "type": "Point"
          },
          "lat": 52.10434,
          "locatie": "Frederikkazerne, The Hague, Netherlands",
          "lon": 4.312698,
          "median": 0.00012704690897139378,
          "ministerie": "Def",
          "project": "Frederikkazerne",
          "type": "Feature"
         },
         {
          "date": "2018-10",
          "geometry": {
           "coordinates": [
            4.312698,
            52.10434
           ],
           "type": "Point"
          },
          "lat": 52.10434,
          "locatie": "Frederikkazerne, The Hague, Netherlands",
          "lon": 4.312698,
          "median": 0.00012384049477986991,
          "ministerie": "Def",
          "project": "Frederikkazerne",
          "type": "Feature"
         },
         {
          "date": "2018-11",
          "geometry": {
           "coordinates": [
            4.312698,
            52.10434
           ],
           "type": "Point"
          },
          "lat": 52.10434,
          "locatie": "Frederikkazerne, The Hague, Netherlands",
          "lon": 4.312698,
          "median": 0.0001610438021522489,
          "ministerie": "Def",
          "project": "Frederikkazerne",
          "type": "Feature"
         },
         {
          "date": "2018-12",
          "geometry": {
           "coordinates": [
            4.312698,
            52.10434
           ],
           "type": "Point"
          },
          "lat": 52.10434,
          "locatie": "Frederikkazerne, The Hague, Netherlands",
          "lon": 4.312698,
          "median": 9.845804743235931e-05,
          "ministerie": "Def",
          "project": "Frederikkazerne",
          "type": "Feature"
         },
         {
          "date": "2019-01",
          "geometry": {
           "coordinates": [
            4.312698,
            52.10434
           ],
           "type": "Point"
          },
          "lat": 52.10434,
          "locatie": "Frederikkazerne, The Hague, Netherlands",
          "lon": 4.312698,
          "median": 5.634942138266277e-05,
          "ministerie": "Def",
          "project": "Frederikkazerne",
          "type": "Feature"
         },
         {
          "date": "2019-02",
          "geometry": {
           "coordinates": [
            4.312698,
            52.10434
           ],
           "type": "Point"
          },
          "lat": 52.10434,
          "locatie": "Frederikkazerne, The Hague, Netherlands",
          "lon": 4.312698,
          "median": 0.00017101794219342992,
          "ministerie": "Def",
          "project": "Frederikkazerne",
          "type": "Feature"
         },
         {
          "date": "2019-03",
          "geometry": {
           "coordinates": [
            4.312698,
            52.10434
           ],
           "type": "Point"
          },
          "lat": 52.10434,
          "locatie": "Frederikkazerne, The Hague, Netherlands",
          "lon": 4.312698,
          "median": 0.00010299023745639324,
          "ministerie": "Def",
          "project": "Frederikkazerne",
          "type": "Feature"
         },
         {
          "date": "2019-04",
          "geometry": {
           "coordinates": [
            4.312698,
            52.10434
           ],
           "type": "Point"
          },
          "lat": 52.10434,
          "locatie": "Frederikkazerne, The Hague, Netherlands",
          "lon": 4.312698,
          "median": 0.00014030749016672703,
          "ministerie": "Def",
          "project": "Frederikkazerne",
          "type": "Feature"
         },
         {
          "date": "2019-05",
          "geometry": {
           "coordinates": [
            4.312698,
            52.10434
           ],
           "type": "Point"
          },
          "lat": 52.10434,
          "locatie": "Frederikkazerne, The Hague, Netherlands",
          "lon": 4.312698,
          "median": 0.00011689179664147583,
          "ministerie": "Def",
          "project": "Frederikkazerne",
          "type": "Feature"
         },
         {
          "date": "2019-06",
          "geometry": {
           "coordinates": [
            4.312698,
            52.10434
           ],
           "type": "Point"
          },
          "lat": 52.10434,
          "locatie": "Frederikkazerne, The Hague, Netherlands",
          "lon": 4.312698,
          "median": 0.00011937334420508705,
          "ministerie": "Def",
          "project": "Frederikkazerne",
          "type": "Feature"
         },
         {
          "date": "2019-07",
          "geometry": {
           "coordinates": [
            4.312698,
            52.10434
           ],
           "type": "Point"
          },
          "lat": 52.10434,
          "locatie": "Frederikkazerne, The Hague, Netherlands",
          "lon": 4.312698,
          "median": 0.00011008063668946335,
          "ministerie": "Def",
          "project": "Frederikkazerne",
          "type": "Feature"
         },
         {
          "date": "2019-08",
          "geometry": {
           "coordinates": [
            4.312698,
            52.10434
           ],
           "type": "Point"
          },
          "lat": 52.10434,
          "locatie": "Frederikkazerne, The Hague, Netherlands",
          "lon": 4.312698,
          "median": 0.00010607591548650556,
          "ministerie": "Def",
          "project": "Frederikkazerne",
          "type": "Feature"
         },
         {
          "date": "2019-09",
          "geometry": {
           "coordinates": [
            4.312698,
            52.10434
           ],
           "type": "Point"
          },
          "lat": 52.10434,
          "locatie": "Frederikkazerne, The Hague, Netherlands",
          "lon": 4.312698,
          "median": 8.219995795982898e-05,
          "ministerie": "Def",
          "project": "Frederikkazerne",
          "type": "Feature"
         },
         {
          "date": "2018-07",
          "geometry": {
           "coordinates": [
            5.3167089999999995,
            51.506796
           ],
           "type": "Point"
          },
          "lat": 51.506796,
          "locatie": "Oirschot, Netherlands",
          "lon": 5.3167089999999995,
          "median": 0.00012744863406438807,
          "ministerie": "Def",
          "project": "Genm. De Ruyter van Stevenickkazerne",
          "type": "Feature"
         },
         {
          "date": "2018-08",
          "geometry": {
           "coordinates": [
            5.3167089999999995,
            51.506796
           ],
           "type": "Point"
          },
          "lat": 51.506796,
          "locatie": "Oirschot, Netherlands",
          "lon": 5.3167089999999995,
          "median": 0.00010543471580604091,
          "ministerie": "Def",
          "project": "Genm. De Ruyter van Stevenickkazerne",
          "type": "Feature"
         },
         {
          "date": "2018-09",
          "geometry": {
           "coordinates": [
            5.3167089999999995,
            51.506796
           ],
           "type": "Point"
          },
          "lat": 51.506796,
          "locatie": "Oirschot, Netherlands",
          "lon": 5.3167089999999995,
          "median": 0.00013597578825210306,
          "ministerie": "Def",
          "project": "Genm. De Ruyter van Stevenickkazerne",
          "type": "Feature"
         },
         {
          "date": "2018-10",
          "geometry": {
           "coordinates": [
            5.3167089999999995,
            51.506796
           ],
           "type": "Point"
          },
          "lat": 51.506796,
          "locatie": "Oirschot, Netherlands",
          "lon": 5.3167089999999995,
          "median": 0.00013150184246613766,
          "ministerie": "Def",
          "project": "Genm. De Ruyter van Stevenickkazerne",
          "type": "Feature"
         },
         {
          "date": "2018-11",
          "geometry": {
           "coordinates": [
            5.3167089999999995,
            51.506796
           ],
           "type": "Point"
          },
          "lat": 51.506796,
          "locatie": "Oirschot, Netherlands",
          "lon": 5.3167089999999995,
          "median": 0.00013770404324282243,
          "ministerie": "Def",
          "project": "Genm. De Ruyter van Stevenickkazerne",
          "type": "Feature"
         },
         {
          "date": "2018-12",
          "geometry": {
           "coordinates": [
            5.3167089999999995,
            51.506796
           ],
           "type": "Point"
          },
          "lat": 51.506796,
          "locatie": "Oirschot, Netherlands",
          "lon": 5.3167089999999995,
          "median": 0.00011920725894933612,
          "ministerie": "Def",
          "project": "Genm. De Ruyter van Stevenickkazerne",
          "type": "Feature"
         },
         {
          "date": "2019-01",
          "geometry": {
           "coordinates": [
            5.3167089999999995,
            51.506796
           ],
           "type": "Point"
          },
          "lat": 51.506796,
          "locatie": "Oirschot, Netherlands",
          "lon": 5.3167089999999995,
          "median": 0.00010715804091887549,
          "ministerie": "Def",
          "project": "Genm. De Ruyter van Stevenickkazerne",
          "type": "Feature"
         },
         {
          "date": "2019-02",
          "geometry": {
           "coordinates": [
            5.3167089999999995,
            51.506796
           ],
           "type": "Point"
          },
          "lat": 51.506796,
          "locatie": "Oirschot, Netherlands",
          "lon": 5.3167089999999995,
          "median": 0.00013353673421079293,
          "ministerie": "Def",
          "project": "Genm. De Ruyter van Stevenickkazerne",
          "type": "Feature"
         },
         {
          "date": "2019-03",
          "geometry": {
           "coordinates": [
            5.3167089999999995,
            51.506796
           ],
           "type": "Point"
          },
          "lat": 51.506796,
          "locatie": "Oirschot, Netherlands",
          "lon": 5.3167089999999995,
          "median": 0.00011802486551459879,
          "ministerie": "Def",
          "project": "Genm. De Ruyter van Stevenickkazerne",
          "type": "Feature"
         },
         {
          "date": "2019-04",
          "geometry": {
           "coordinates": [
            5.3167089999999995,
            51.506796
           ],
           "type": "Point"
          },
          "lat": 51.506796,
          "locatie": "Oirschot, Netherlands",
          "lon": 5.3167089999999995,
          "median": 0.00014251151878852397,
          "ministerie": "Def",
          "project": "Genm. De Ruyter van Stevenickkazerne",
          "type": "Feature"
         },
         {
          "date": "2019-05",
          "geometry": {
           "coordinates": [
            5.3167089999999995,
            51.506796
           ],
           "type": "Point"
          },
          "lat": 51.506796,
          "locatie": "Oirschot, Netherlands",
          "lon": 5.3167089999999995,
          "median": 0.00012587723170999946,
          "ministerie": "Def",
          "project": "Genm. De Ruyter van Stevenickkazerne",
          "type": "Feature"
         },
         {
          "date": "2019-06",
          "geometry": {
           "coordinates": [
            5.3167089999999995,
            51.506796
           ],
           "type": "Point"
          },
          "lat": 51.506796,
          "locatie": "Oirschot, Netherlands",
          "lon": 5.3167089999999995,
          "median": 0.00011502827692311257,
          "ministerie": "Def",
          "project": "Genm. De Ruyter van Stevenickkazerne",
          "type": "Feature"
         },
         {
          "date": "2019-07",
          "geometry": {
           "coordinates": [
            5.3167089999999995,
            51.506796
           ],
           "type": "Point"
          },
          "lat": 51.506796,
          "locatie": "Oirschot, Netherlands",
          "lon": 5.3167089999999995,
          "median": 0.00011005975480958873,
          "ministerie": "Def",
          "project": "Genm. De Ruyter van Stevenickkazerne",
          "type": "Feature"
         },
         {
          "date": "2019-08",
          "geometry": {
           "coordinates": [
            5.3167089999999995,
            51.506796
           ],
           "type": "Point"
          },
          "lat": 51.506796,
          "locatie": "Oirschot, Netherlands",
          "lon": 5.3167089999999995,
          "median": 0.00011249198360262862,
          "ministerie": "Def",
          "project": "Genm. De Ruyter van Stevenickkazerne",
          "type": "Feature"
         },
         {
          "date": "2019-09",
          "geometry": {
           "coordinates": [
            5.3167089999999995,
            51.506796
           ],
           "type": "Point"
          },
          "lat": 51.506796,
          "locatie": "Oirschot, Netherlands",
          "lon": 5.3167089999999995,
          "median": 9.082734558323442e-05,
          "ministerie": "Def",
          "project": "Genm. De Ruyter van Stevenickkazerne",
          "type": "Feature"
         },
         {
          "date": "2018-07",
          "geometry": {
           "coordinates": [
            5.972782,
            50.936341
           ],
           "type": "Point"
          },
          "lat": 50.936341,
          "locatie": "5 Akerstraat, Brunssum, Netherlands",
          "lon": 5.972782,
          "median": 0.00012347064751485666,
          "ministerie": "Def",
          "project": "HV Nassau Ouwerkerkkamp",
          "type": "Feature"
         },
         {
          "date": "2018-08",
          "geometry": {
           "coordinates": [
            5.972782,
            50.936341
           ],
           "type": "Point"
          },
          "lat": 50.936341,
          "locatie": "5 Akerstraat, Brunssum, Netherlands",
          "lon": 5.972782,
          "median": 0.00011842992535093799,
          "ministerie": "Def",
          "project": "HV Nassau Ouwerkerkkamp",
          "type": "Feature"
         },
         {
          "date": "2018-09",
          "geometry": {
           "coordinates": [
            5.972782,
            50.936341
           ],
           "type": "Point"
          },
          "lat": 50.936341,
          "locatie": "5 Akerstraat, Brunssum, Netherlands",
          "lon": 5.972782,
          "median": 0.0001432556309737265,
          "ministerie": "Def",
          "project": "HV Nassau Ouwerkerkkamp",
          "type": "Feature"
         },
         {
          "date": "2018-10",
          "geometry": {
           "coordinates": [
            5.972782,
            50.936341
           ],
           "type": "Point"
          },
          "lat": 50.936341,
          "locatie": "5 Akerstraat, Brunssum, Netherlands",
          "lon": 5.972782,
          "median": 0.00014009392899719302,
          "ministerie": "Def",
          "project": "HV Nassau Ouwerkerkkamp",
          "type": "Feature"
         },
         {
          "date": "2018-11",
          "geometry": {
           "coordinates": [
            5.972782,
            50.936341
           ],
           "type": "Point"
          },
          "lat": 50.936341,
          "locatie": "5 Akerstraat, Brunssum, Netherlands",
          "lon": 5.972782,
          "median": 0.0001392204638809354,
          "ministerie": "Def",
          "project": "HV Nassau Ouwerkerkkamp",
          "type": "Feature"
         },
         {
          "date": "2018-12",
          "geometry": {
           "coordinates": [
            5.972782,
            50.936341
           ],
           "type": "Point"
          },
          "lat": 50.936341,
          "locatie": "5 Akerstraat, Brunssum, Netherlands",
          "lon": 5.972782,
          "median": 0.0001029475285878905,
          "ministerie": "Def",
          "project": "HV Nassau Ouwerkerkkamp",
          "type": "Feature"
         },
         {
          "date": "2019-01",
          "geometry": {
           "coordinates": [
            5.972782,
            50.936341
           ],
           "type": "Point"
          },
          "lat": 50.936341,
          "locatie": "5 Akerstraat, Brunssum, Netherlands",
          "lon": 5.972782,
          "median": 0.0001261393003748606,
          "ministerie": "Def",
          "project": "HV Nassau Ouwerkerkkamp",
          "type": "Feature"
         },
         {
          "date": "2019-02",
          "geometry": {
           "coordinates": [
            5.972782,
            50.936341
           ],
           "type": "Point"
          },
          "lat": 50.936341,
          "locatie": "5 Akerstraat, Brunssum, Netherlands",
          "lon": 5.972782,
          "median": 0.00013555684232402919,
          "ministerie": "Def",
          "project": "HV Nassau Ouwerkerkkamp",
          "type": "Feature"
         },
         {
          "date": "2019-03",
          "geometry": {
           "coordinates": [
            5.972782,
            50.936341
           ],
           "type": "Point"
          },
          "lat": 50.936341,
          "locatie": "5 Akerstraat, Brunssum, Netherlands",
          "lon": 5.972782,
          "median": 0.00010910270793829113,
          "ministerie": "Def",
          "project": "HV Nassau Ouwerkerkkamp",
          "type": "Feature"
         },
         {
          "date": "2019-04",
          "geometry": {
           "coordinates": [
            5.972782,
            50.936341
           ],
           "type": "Point"
          },
          "lat": 50.936341,
          "locatie": "5 Akerstraat, Brunssum, Netherlands",
          "lon": 5.972782,
          "median": 0.00013940360496355572,
          "ministerie": "Def",
          "project": "HV Nassau Ouwerkerkkamp",
          "type": "Feature"
         },
         {
          "date": "2019-05",
          "geometry": {
           "coordinates": [
            5.972782,
            50.936341
           ],
           "type": "Point"
          },
          "lat": 50.936341,
          "locatie": "5 Akerstraat, Brunssum, Netherlands",
          "lon": 5.972782,
          "median": 0.00011773965502152532,
          "ministerie": "Def",
          "project": "HV Nassau Ouwerkerkkamp",
          "type": "Feature"
         },
         {
          "date": "2019-06",
          "geometry": {
           "coordinates": [
            5.972782,
            50.936341
           ],
           "type": "Point"
          },
          "lat": 50.936341,
          "locatie": "5 Akerstraat, Brunssum, Netherlands",
          "lon": 5.972782,
          "median": 0.00010469323532981191,
          "ministerie": "Def",
          "project": "HV Nassau Ouwerkerkkamp",
          "type": "Feature"
         },
         {
          "date": "2019-07",
          "geometry": {
           "coordinates": [
            5.972782,
            50.936341
           ],
           "type": "Point"
          },
          "lat": 50.936341,
          "locatie": "5 Akerstraat, Brunssum, Netherlands",
          "lon": 5.972782,
          "median": 0.0001096697193269898,
          "ministerie": "Def",
          "project": "HV Nassau Ouwerkerkkamp",
          "type": "Feature"
         },
         {
          "date": "2019-08",
          "geometry": {
           "coordinates": [
            5.972782,
            50.936341
           ],
           "type": "Point"
          },
          "lat": 50.936341,
          "locatie": "5 Akerstraat, Brunssum, Netherlands",
          "lon": 5.972782,
          "median": 9.88479239367449e-05,
          "ministerie": "Def",
          "project": "HV Nassau Ouwerkerkkamp",
          "type": "Feature"
         },
         {
          "date": "2019-09",
          "geometry": {
           "coordinates": [
            5.972782,
            50.936341
           ],
           "type": "Point"
          },
          "lat": 50.936341,
          "locatie": "5 Akerstraat, Brunssum, Netherlands",
          "lon": 5.972782,
          "median": 0.00011017887663911097,
          "ministerie": "Def",
          "project": "HV Nassau Ouwerkerkkamp",
          "type": "Feature"
         },
         {
          "date": "2018-07",
          "geometry": {
           "coordinates": [
            6.242758,
            52.779121999999994
           ],
           "type": "Point"
          },
          "lat": 52.779121999999994,
          "locatie": "Havelte, Netherlands",
          "lon": 6.242758,
          "median": 9.995919734509217e-05,
          "ministerie": "Def",
          "project": "Johannes Postkazenrne",
          "type": "Feature"
         },
         {
          "date": "2018-08",
          "geometry": {
           "coordinates": [
            6.242758,
            52.779121999999994
           ],
           "type": "Point"
          },
          "lat": 52.779121999999994,
          "locatie": "Havelte, Netherlands",
          "lon": 6.242758,
          "median": 9.817963291425258e-05,
          "ministerie": "Def",
          "project": "Johannes Postkazenrne",
          "type": "Feature"
         },
         {
          "date": "2018-09",
          "geometry": {
           "coordinates": [
            6.242758,
            52.779121999999994
           ],
           "type": "Point"
          },
          "lat": 52.779121999999994,
          "locatie": "Havelte, Netherlands",
          "lon": 6.242758,
          "median": 0.00011526393063832074,
          "ministerie": "Def",
          "project": "Johannes Postkazenrne",
          "type": "Feature"
         },
         {
          "date": "2018-10",
          "geometry": {
           "coordinates": [
            6.242758,
            52.779121999999994
           ],
           "type": "Point"
          },
          "lat": 52.779121999999994,
          "locatie": "Havelte, Netherlands",
          "lon": 6.242758,
          "median": 9.143868733667937e-05,
          "ministerie": "Def",
          "project": "Johannes Postkazenrne",
          "type": "Feature"
         },
         {
          "date": "2018-11",
          "geometry": {
           "coordinates": [
            6.242758,
            52.779121999999994
           ],
           "type": "Point"
          },
          "lat": 52.779121999999994,
          "locatie": "Havelte, Netherlands",
          "lon": 6.242758,
          "median": 0.00011651027437395106,
          "ministerie": "Def",
          "project": "Johannes Postkazenrne",
          "type": "Feature"
         },
         {
          "date": "2018-12",
          "geometry": {
           "coordinates": [
            6.242758,
            52.779121999999994
           ],
           "type": "Point"
          },
          "lat": 52.779121999999994,
          "locatie": "Havelte, Netherlands",
          "lon": 6.242758,
          "median": 7.562607215794104e-05,
          "ministerie": "Def",
          "project": "Johannes Postkazenrne",
          "type": "Feature"
         },
         {
          "date": "2019-01",
          "geometry": {
           "coordinates": [
            6.242758,
            52.779121999999994
           ],
           "type": "Point"
          },
          "lat": 52.779121999999994,
          "locatie": "Havelte, Netherlands",
          "lon": 6.242758,
          "median": 6.770262799614755e-05,
          "ministerie": "Def",
          "project": "Johannes Postkazenrne",
          "type": "Feature"
         },
         {
          "date": "2019-02",
          "geometry": {
           "coordinates": [
            6.242758,
            52.779121999999994
           ],
           "type": "Point"
          },
          "lat": 52.779121999999994,
          "locatie": "Havelte, Netherlands",
          "lon": 6.242758,
          "median": 0.00013312024627986673,
          "ministerie": "Def",
          "project": "Johannes Postkazenrne",
          "type": "Feature"
         },
         {
          "date": "2019-03",
          "geometry": {
           "coordinates": [
            6.242758,
            52.779121999999994
           ],
           "type": "Point"
          },
          "lat": 52.779121999999994,
          "locatie": "Havelte, Netherlands",
          "lon": 6.242758,
          "median": 7.653369365102253e-05,
          "ministerie": "Def",
          "project": "Johannes Postkazenrne",
          "type": "Feature"
         },
         {
          "date": "2019-04",
          "geometry": {
           "coordinates": [
            6.242758,
            52.779121999999994
           ],
           "type": "Point"
          },
          "lat": 52.779121999999994,
          "locatie": "Havelte, Netherlands",
          "lon": 6.242758,
          "median": 0.0001023227086989209,
          "ministerie": "Def",
          "project": "Johannes Postkazenrne",
          "type": "Feature"
         },
         {
          "date": "2019-05",
          "geometry": {
           "coordinates": [
            6.242758,
            52.779121999999994
           ],
           "type": "Point"
          },
          "lat": 52.779121999999994,
          "locatie": "Havelte, Netherlands",
          "lon": 6.242758,
          "median": 9.609794022160807e-05,
          "ministerie": "Def",
          "project": "Johannes Postkazenrne",
          "type": "Feature"
         },
         {
          "date": "2019-06",
          "geometry": {
           "coordinates": [
            6.242758,
            52.779121999999994
           ],
           "type": "Point"
          },
          "lat": 52.779121999999994,
          "locatie": "Havelte, Netherlands",
          "lon": 6.242758,
          "median": 9.725003474159166e-05,
          "ministerie": "Def",
          "project": "Johannes Postkazenrne",
          "type": "Feature"
         },
         {
          "date": "2019-07",
          "geometry": {
           "coordinates": [
            6.242758,
            52.779121999999994
           ],
           "type": "Point"
          },
          "lat": 52.779121999999994,
          "locatie": "Havelte, Netherlands",
          "lon": 6.242758,
          "median": 8.906563388367197e-05,
          "ministerie": "Def",
          "project": "Johannes Postkazenrne",
          "type": "Feature"
         },
         {
          "date": "2019-08",
          "geometry": {
           "coordinates": [
            6.242758,
            52.779121999999994
           ],
           "type": "Point"
          },
          "lat": 52.779121999999994,
          "locatie": "Havelte, Netherlands",
          "lon": 6.242758,
          "median": 0.00010010717024911023,
          "ministerie": "Def",
          "project": "Johannes Postkazenrne",
          "type": "Feature"
         },
         {
          "date": "2019-09",
          "geometry": {
           "coordinates": [
            6.242758,
            52.779121999999994
           ],
           "type": "Point"
          },
          "lat": 52.779121999999994,
          "locatie": "Havelte, Netherlands",
          "lon": 6.242758,
          "median": 7.43424316169694e-05,
          "ministerie": "Def",
          "project": "Johannes Postkazenrne",
          "type": "Feature"
         },
         {
          "date": "2018-07",
          "geometry": {
           "coordinates": [
            4.7629779999999995,
            53.001202
           ],
           "type": "Point"
          },
          "lat": 53.001202,
          "locatie": "Joost Dourleinkazerne, Den Hoorn, Netherlands",
          "lon": 4.7629779999999995,
          "median": 9.481279138892382e-05,
          "ministerie": "Def",
          "project": "Joost Dourleinkazerne",
          "type": "Feature"
         },
         {
          "date": "2018-08",
          "geometry": {
           "coordinates": [
            4.7629779999999995,
            53.001202
           ],
           "type": "Point"
          },
          "lat": 53.001202,
          "locatie": "Joost Dourleinkazerne, Den Hoorn, Netherlands",
          "lon": 4.7629779999999995,
          "median": 8.40765086782313e-05,
          "ministerie": "Def",
          "project": "Joost Dourleinkazerne",
          "type": "Feature"
         },
         {
          "date": "2018-09",
          "geometry": {
           "coordinates": [
            4.7629779999999995,
            53.001202
           ],
           "type": "Point"
          },
          "lat": 53.001202,
          "locatie": "Joost Dourleinkazerne, Den Hoorn, Netherlands",
          "lon": 4.7629779999999995,
          "median": 9.328410600916256e-05,
          "ministerie": "Def",
          "project": "Joost Dourleinkazerne",
          "type": "Feature"
         },
         {
          "date": "2018-10",
          "geometry": {
           "coordinates": [
            4.7629779999999995,
            53.001202
           ],
           "type": "Point"
          },
          "lat": 53.001202,
          "locatie": "Joost Dourleinkazerne, Den Hoorn, Netherlands",
          "lon": 4.7629779999999995,
          "median": 7.872567174991148e-05,
          "ministerie": "Def",
          "project": "Joost Dourleinkazerne",
          "type": "Feature"
         },
         {
          "date": "2018-11",
          "geometry": {
           "coordinates": [
            4.7629779999999995,
            53.001202
           ],
           "type": "Point"
          },
          "lat": 53.001202,
          "locatie": "Joost Dourleinkazerne, Den Hoorn, Netherlands",
          "lon": 4.7629779999999995,
          "median": 0.00011136881270441738,
          "ministerie": "Def",
          "project": "Joost Dourleinkazerne",
          "type": "Feature"
         },
         {
          "date": "2018-12",
          "geometry": {
           "coordinates": [
            4.7629779999999995,
            53.001202
           ],
           "type": "Point"
          },
          "lat": 53.001202,
          "locatie": "Joost Dourleinkazerne, Den Hoorn, Netherlands",
          "lon": 4.7629779999999995,
          "median": 6.541040259568396e-05,
          "ministerie": "Def",
          "project": "Joost Dourleinkazerne",
          "type": "Feature"
         },
         {
          "date": "2019-01",
          "geometry": {
           "coordinates": [
            4.7629779999999995,
            53.001202
           ],
           "type": "Point"
          },
          "lat": 53.001202,
          "locatie": "Joost Dourleinkazerne, Den Hoorn, Netherlands",
          "lon": 4.7629779999999995,
          "median": 4.044653136069302e-05,
          "ministerie": "Def",
          "project": "Joost Dourleinkazerne",
          "type": "Feature"
         },
         {
          "date": "2019-02",
          "geometry": {
           "coordinates": [
            4.7629779999999995,
            53.001202
           ],
           "type": "Point"
          },
          "lat": 53.001202,
          "locatie": "Joost Dourleinkazerne, Den Hoorn, Netherlands",
          "lon": 4.7629779999999995,
          "median": 0.00013183826051700576,
          "ministerie": "Def",
          "project": "Joost Dourleinkazerne",
          "type": "Feature"
         },
         {
          "date": "2019-03",
          "geometry": {
           "coordinates": [
            4.7629779999999995,
            53.001202
           ],
           "type": "Point"
          },
          "lat": 53.001202,
          "locatie": "Joost Dourleinkazerne, Den Hoorn, Netherlands",
          "lon": 4.7629779999999995,
          "median": 7.59013564675115e-05,
          "ministerie": "Def",
          "project": "Joost Dourleinkazerne",
          "type": "Feature"
         },
         {
          "date": "2019-04",
          "geometry": {
           "coordinates": [
            4.7629779999999995,
            53.001202
           ],
           "type": "Point"
          },
          "lat": 53.001202,
          "locatie": "Joost Dourleinkazerne, Den Hoorn, Netherlands",
          "lon": 4.7629779999999995,
          "median": 9.749393450041338e-05,
          "ministerie": "Def",
          "project": "Joost Dourleinkazerne",
          "type": "Feature"
         },
         {
          "date": "2019-05",
          "geometry": {
           "coordinates": [
            4.7629779999999995,
            53.001202
           ],
           "type": "Point"
          },
          "lat": 53.001202,
          "locatie": "Joost Dourleinkazerne, Den Hoorn, Netherlands",
          "lon": 4.7629779999999995,
          "median": 9.570331167196855e-05,
          "ministerie": "Def",
          "project": "Joost Dourleinkazerne",
          "type": "Feature"
         },
         {
          "date": "2019-06",
          "geometry": {
           "coordinates": [
            4.7629779999999995,
            53.001202
           ],
           "type": "Point"
          },
          "lat": 53.001202,
          "locatie": "Joost Dourleinkazerne, Den Hoorn, Netherlands",
          "lon": 4.7629779999999995,
          "median": 0.00010609305493830619,
          "ministerie": "Def",
          "project": "Joost Dourleinkazerne",
          "type": "Feature"
         },
         {
          "date": "2019-07",
          "geometry": {
           "coordinates": [
            4.7629779999999995,
            53.001202
           ],
           "type": "Point"
          },
          "lat": 53.001202,
          "locatie": "Joost Dourleinkazerne, Den Hoorn, Netherlands",
          "lon": 4.7629779999999995,
          "median": 9.287492132662627e-05,
          "ministerie": "Def",
          "project": "Joost Dourleinkazerne",
          "type": "Feature"
         },
         {
          "date": "2019-08",
          "geometry": {
           "coordinates": [
            4.7629779999999995,
            53.001202
           ],
           "type": "Point"
          },
          "lat": 53.001202,
          "locatie": "Joost Dourleinkazerne, Den Hoorn, Netherlands",
          "lon": 4.7629779999999995,
          "median": 9.067583289844997e-05,
          "ministerie": "Def",
          "project": "Joost Dourleinkazerne",
          "type": "Feature"
         },
         {
          "date": "2019-09",
          "geometry": {
           "coordinates": [
            4.7629779999999995,
            53.001202
           ],
           "type": "Point"
          },
          "lat": 53.001202,
          "locatie": "Joost Dourleinkazerne, Den Hoorn, Netherlands",
          "lon": 4.7629779999999995,
          "median": 7.56474204710218e-05,
          "ministerie": "Def",
          "project": "Joost Dourleinkazerne",
          "type": "Feature"
         },
         {
          "date": "2018-07",
          "geometry": {
           "coordinates": [
            5.927752,
            52.205651
           ],
           "type": "Point"
          },
          "lat": 52.205651,
          "locatie": "Frankenlaan, Apeldoorn, Netherlands",
          "lon": 5.927752,
          "median": 0.00010879378542652624,
          "ministerie": "Def",
          "project": "Koning Willem III Kazerne",
          "type": "Feature"
         },
         {
          "date": "2018-08",
          "geometry": {
           "coordinates": [
            5.927752,
            52.205651
           ],
           "type": "Point"
          },
          "lat": 52.205651,
          "locatie": "Frankenlaan, Apeldoorn, Netherlands",
          "lon": 5.927752,
          "median": 0.00010652782181649198,
          "ministerie": "Def",
          "project": "Koning Willem III Kazerne",
          "type": "Feature"
         },
         {
          "date": "2018-09",
          "geometry": {
           "coordinates": [
            5.927752,
            52.205651
           ],
           "type": "Point"
          },
          "lat": 52.205651,
          "locatie": "Frankenlaan, Apeldoorn, Netherlands",
          "lon": 5.927752,
          "median": 0.00012916584176635932,
          "ministerie": "Def",
          "project": "Koning Willem III Kazerne",
          "type": "Feature"
         },
         {
          "date": "2018-10",
          "geometry": {
           "coordinates": [
            5.927752,
            52.205651
           ],
           "type": "Point"
          },
          "lat": 52.205651,
          "locatie": "Frankenlaan, Apeldoorn, Netherlands",
          "lon": 5.927752,
          "median": 0.00011501393653152013,
          "ministerie": "Def",
          "project": "Koning Willem III Kazerne",
          "type": "Feature"
         },
         {
          "date": "2018-11",
          "geometry": {
           "coordinates": [
            5.927752,
            52.205651
           ],
           "type": "Point"
          },
          "lat": 52.205651,
          "locatie": "Frankenlaan, Apeldoorn, Netherlands",
          "lon": 5.927752,
          "median": 0.00014830270083621144,
          "ministerie": "Def",
          "project": "Koning Willem III Kazerne",
          "type": "Feature"
         },
         {
          "date": "2018-12",
          "geometry": {
           "coordinates": [
            5.927752,
            52.205651
           ],
           "type": "Point"
          },
          "lat": 52.205651,
          "locatie": "Frankenlaan, Apeldoorn, Netherlands",
          "lon": 5.927752,
          "median": 0.00010860118157279071,
          "ministerie": "Def",
          "project": "Koning Willem III Kazerne",
          "type": "Feature"
         },
         {
          "date": "2019-01",
          "geometry": {
           "coordinates": [
            5.927752,
            52.205651
           ],
           "type": "Point"
          },
          "lat": 52.205651,
          "locatie": "Frankenlaan, Apeldoorn, Netherlands",
          "lon": 5.927752,
          "median": 0.00010383458836529363,
          "ministerie": "Def",
          "project": "Koning Willem III Kazerne",
          "type": "Feature"
         },
         {
          "date": "2019-02",
          "geometry": {
           "coordinates": [
            5.927752,
            52.205651
           ],
           "type": "Point"
          },
          "lat": 52.205651,
          "locatie": "Frankenlaan, Apeldoorn, Netherlands",
          "lon": 5.927752,
          "median": 0.00015684596534168332,
          "ministerie": "Def",
          "project": "Koning Willem III Kazerne",
          "type": "Feature"
         },
         {
          "date": "2019-03",
          "geometry": {
           "coordinates": [
            5.927752,
            52.205651
           ],
           "type": "Point"
          },
          "lat": 52.205651,
          "locatie": "Frankenlaan, Apeldoorn, Netherlands",
          "lon": 5.927752,
          "median": 0.0001045850858095939,
          "ministerie": "Def",
          "project": "Koning Willem III Kazerne",
          "type": "Feature"
         },
         {
          "date": "2019-04",
          "geometry": {
           "coordinates": [
            5.927752,
            52.205651
           ],
           "type": "Point"
          },
          "lat": 52.205651,
          "locatie": "Frankenlaan, Apeldoorn, Netherlands",
          "lon": 5.927752,
          "median": 0.00010368668024453118,
          "ministerie": "Def",
          "project": "Koning Willem III Kazerne",
          "type": "Feature"
         },
         {
          "date": "2019-05",
          "geometry": {
           "coordinates": [
            5.927752,
            52.205651
           ],
           "type": "Point"
          },
          "lat": 52.205651,
          "locatie": "Frankenlaan, Apeldoorn, Netherlands",
          "lon": 5.927752,
          "median": 0.00010936971442117703,
          "ministerie": "Def",
          "project": "Koning Willem III Kazerne",
          "type": "Feature"
         },
         {
          "date": "2019-06",
          "geometry": {
           "coordinates": [
            5.927752,
            52.205651
           ],
           "type": "Point"
          },
          "lat": 52.205651,
          "locatie": "Frankenlaan, Apeldoorn, Netherlands",
          "lon": 5.927752,
          "median": 0.00010750336953916234,
          "ministerie": "Def",
          "project": "Koning Willem III Kazerne",
          "type": "Feature"
         },
         {
          "date": "2019-07",
          "geometry": {
           "coordinates": [
            5.927752,
            52.205651
           ],
           "type": "Point"
          },
          "lat": 52.205651,
          "locatie": "Frankenlaan, Apeldoorn, Netherlands",
          "lon": 5.927752,
          "median": 0.00010052994184661657,
          "ministerie": "Def",
          "project": "Koning Willem III Kazerne",
          "type": "Feature"
         },
         {
          "date": "2019-08",
          "geometry": {
           "coordinates": [
            5.927752,
            52.205651
           ],
           "type": "Point"
          },
          "lat": 52.205651,
          "locatie": "Frankenlaan, Apeldoorn, Netherlands",
          "lon": 5.927752,
          "median": 0.00011155084939673543,
          "ministerie": "Def",
          "project": "Koning Willem III Kazerne",
          "type": "Feature"
         },
         {
          "date": "2019-09",
          "geometry": {
           "coordinates": [
            5.927752,
            52.205651
           ],
           "type": "Point"
          },
          "lat": 52.205651,
          "locatie": "Frankenlaan, Apeldoorn, Netherlands",
          "lon": 5.927752,
          "median": 0.00010381524043623358,
          "ministerie": "Def",
          "project": "Koning Willem III Kazerne",
          "type": "Feature"
         },
         {
          "date": "2018-07",
          "geometry": {
           "coordinates": [
            5.912083999999999,
            52.392733
           ],
           "type": "Point"
          },
          "lat": 52.392733,
          "locatie": "Legerplaats bij Oldebroek, 't Harde, Netherlands",
          "lon": 5.912083999999999,
          "median": 0.00010491484209783632,
          "ministerie": "Def",
          "project": "Legerplaats bij Olderboek",
          "type": "Feature"
         },
         {
          "date": "2018-08",
          "geometry": {
           "coordinates": [
            5.912083999999999,
            52.392733
           ],
           "type": "Point"
          },
          "lat": 52.392733,
          "locatie": "Legerplaats bij Oldebroek, 't Harde, Netherlands",
          "lon": 5.912083999999999,
          "median": 0.00010394377117756327,
          "ministerie": "Def",
          "project": "Legerplaats bij Olderboek",
          "type": "Feature"
         },
         {
          "date": "2018-09",
          "geometry": {
           "coordinates": [
            5.912083999999999,
            52.392733
           ],
           "type": "Point"
          },
          "lat": 52.392733,
          "locatie": "Legerplaats bij Oldebroek, 't Harde, Netherlands",
          "lon": 5.912083999999999,
          "median": 0.0001267538646061439,
          "ministerie": "Def",
          "project": "Legerplaats bij Olderboek",
          "type": "Feature"
         },
         {
          "date": "2018-10",
          "geometry": {
           "coordinates": [
            5.912083999999999,
            52.392733
           ],
           "type": "Point"
          },
          "lat": 52.392733,
          "locatie": "Legerplaats bij Oldebroek, 't Harde, Netherlands",
          "lon": 5.912083999999999,
          "median": 0.00010410644608782604,
          "ministerie": "Def",
          "project": "Legerplaats bij Olderboek",
          "type": "Feature"
         },
         {
          "date": "2018-11",
          "geometry": {
           "coordinates": [
            5.912083999999999,
            52.392733
           ],
           "type": "Point"
          },
          "lat": 52.392733,
          "locatie": "Legerplaats bij Oldebroek, 't Harde, Netherlands",
          "lon": 5.912083999999999,
          "median": 0.00013251000200398266,
          "ministerie": "Def",
          "project": "Legerplaats bij Olderboek",
          "type": "Feature"
         },
         {
          "date": "2018-12",
          "geometry": {
           "coordinates": [
            5.912083999999999,
            52.392733
           ],
           "type": "Point"
          },
          "lat": 52.392733,
          "locatie": "Legerplaats bij Oldebroek, 't Harde, Netherlands",
          "lon": 5.912083999999999,
          "median": 9.487784154757447e-05,
          "ministerie": "Def",
          "project": "Legerplaats bij Olderboek",
          "type": "Feature"
         },
         {
          "date": "2019-01",
          "geometry": {
           "coordinates": [
            5.912083999999999,
            52.392733
           ],
           "type": "Point"
          },
          "lat": 52.392733,
          "locatie": "Legerplaats bij Oldebroek, 't Harde, Netherlands",
          "lon": 5.912083999999999,
          "median": 8.24519571961011e-05,
          "ministerie": "Def",
          "project": "Legerplaats bij Olderboek",
          "type": "Feature"
         },
         {
          "date": "2019-02",
          "geometry": {
           "coordinates": [
            5.912083999999999,
            52.392733
           ],
           "type": "Point"
          },
          "lat": 52.392733,
          "locatie": "Legerplaats bij Oldebroek, 't Harde, Netherlands",
          "lon": 5.912083999999999,
          "median": 0.00014348511155754217,
          "ministerie": "Def",
          "project": "Legerplaats bij Olderboek",
          "type": "Feature"
         },
         {
          "date": "2019-03",
          "geometry": {
           "coordinates": [
            5.912083999999999,
            52.392733
           ],
           "type": "Point"
          },
          "lat": 52.392733,
          "locatie": "Legerplaats bij Oldebroek, 't Harde, Netherlands",
          "lon": 5.912083999999999,
          "median": 9.595372102921829e-05,
          "ministerie": "Def",
          "project": "Legerplaats bij Olderboek",
          "type": "Feature"
         },
         {
          "date": "2019-04",
          "geometry": {
           "coordinates": [
            5.912083999999999,
            52.392733
           ],
           "type": "Point"
          },
          "lat": 52.392733,
          "locatie": "Legerplaats bij Oldebroek, 't Harde, Netherlands",
          "lon": 5.912083999999999,
          "median": 0.00010639770334819332,
          "ministerie": "Def",
          "project": "Legerplaats bij Olderboek",
          "type": "Feature"
         },
         {
          "date": "2019-05",
          "geometry": {
           "coordinates": [
            5.912083999999999,
            52.392733
           ],
           "type": "Point"
          },
          "lat": 52.392733,
          "locatie": "Legerplaats bij Oldebroek, 't Harde, Netherlands",
          "lon": 5.912083999999999,
          "median": 0.00010231327178189531,
          "ministerie": "Def",
          "project": "Legerplaats bij Olderboek",
          "type": "Feature"
         },
         {
          "date": "2019-06",
          "geometry": {
           "coordinates": [
            5.912083999999999,
            52.392733
           ],
           "type": "Point"
          },
          "lat": 52.392733,
          "locatie": "Legerplaats bij Oldebroek, 't Harde, Netherlands",
          "lon": 5.912083999999999,
          "median": 0.00010311531025040613,
          "ministerie": "Def",
          "project": "Legerplaats bij Olderboek",
          "type": "Feature"
         },
         {
          "date": "2019-07",
          "geometry": {
           "coordinates": [
            5.912083999999999,
            52.392733
           ],
           "type": "Point"
          },
          "lat": 52.392733,
          "locatie": "Legerplaats bij Oldebroek, 't Harde, Netherlands",
          "lon": 5.912083999999999,
          "median": 9.58905802690424e-05,
          "ministerie": "Def",
          "project": "Legerplaats bij Olderboek",
          "type": "Feature"
         },
         {
          "date": "2019-08",
          "geometry": {
           "coordinates": [
            5.912083999999999,
            52.392733
           ],
           "type": "Point"
          },
          "lat": 52.392733,
          "locatie": "Legerplaats bij Oldebroek, 't Harde, Netherlands",
          "lon": 5.912083999999999,
          "median": 0.00011096988713807246,
          "ministerie": "Def",
          "project": "Legerplaats bij Olderboek",
          "type": "Feature"
         },
         {
          "date": "2019-09",
          "geometry": {
           "coordinates": [
            5.912083999999999,
            52.392733
           ],
           "type": "Point"
          },
          "lat": 52.392733,
          "locatie": "Legerplaats bij Oldebroek, 't Harde, Netherlands",
          "lon": 5.912083999999999,
          "median": 9.413684165338054e-05,
          "ministerie": "Def",
          "project": "Legerplaats bij Olderboek",
          "type": "Feature"
         },
         {
          "date": "2018-07",
          "geometry": {
           "coordinates": [
            5.65841,
            52.298179
           ],
           "type": "Point"
          },
          "lat": 52.298179,
          "locatie": "Legerplaats Ermelo, Ermelo, Netherlands",
          "lon": 5.65841,
          "median": 0.00010836664853499278,
          "ministerie": "Def",
          "project": "Legerplaats Ermelo",
          "type": "Feature"
         },
         {
          "date": "2018-08",
          "geometry": {
           "coordinates": [
            5.65841,
            52.298179
           ],
           "type": "Point"
          },
          "lat": 52.298179,
          "locatie": "Legerplaats Ermelo, Ermelo, Netherlands",
          "lon": 5.65841,
          "median": 0.0001110927842091769,
          "ministerie": "Def",
          "project": "Legerplaats Ermelo",
          "type": "Feature"
         },
         {
          "date": "2018-09",
          "geometry": {
           "coordinates": [
            5.65841,
            52.298179
           ],
           "type": "Point"
          },
          "lat": 52.298179,
          "locatie": "Legerplaats Ermelo, Ermelo, Netherlands",
          "lon": 5.65841,
          "median": 0.00013587446927431398,
          "ministerie": "Def",
          "project": "Legerplaats Ermelo",
          "type": "Feature"
         },
         {
          "date": "2018-10",
          "geometry": {
           "coordinates": [
            5.65841,
            52.298179
           ],
           "type": "Point"
          },
          "lat": 52.298179,
          "locatie": "Legerplaats Ermelo, Ermelo, Netherlands",
          "lon": 5.65841,
          "median": 0.00010857804674533772,
          "ministerie": "Def",
          "project": "Legerplaats Ermelo",
          "type": "Feature"
         },
         {
          "date": "2018-11",
          "geometry": {
           "coordinates": [
            5.65841,
            52.298179
           ],
           "type": "Point"
          },
          "lat": 52.298179,
          "locatie": "Legerplaats Ermelo, Ermelo, Netherlands",
          "lon": 5.65841,
          "median": 0.00014288224338088185,
          "ministerie": "Def",
          "project": "Legerplaats Ermelo",
          "type": "Feature"
         },
         {
          "date": "2018-12",
          "geometry": {
           "coordinates": [
            5.65841,
            52.298179
           ],
           "type": "Point"
          },
          "lat": 52.298179,
          "locatie": "Legerplaats Ermelo, Ermelo, Netherlands",
          "lon": 5.65841,
          "median": 0.00010052335337120322,
          "ministerie": "Def",
          "project": "Legerplaats Ermelo",
          "type": "Feature"
         },
         {
          "date": "2019-01",
          "geometry": {
           "coordinates": [
            5.65841,
            52.298179
           ],
           "type": "Point"
          },
          "lat": 52.298179,
          "locatie": "Legerplaats Ermelo, Ermelo, Netherlands",
          "lon": 5.65841,
          "median": 9.651692016590061e-05,
          "ministerie": "Def",
          "project": "Legerplaats Ermelo",
          "type": "Feature"
         },
         {
          "date": "2019-02",
          "geometry": {
           "coordinates": [
            5.65841,
            52.298179
           ],
           "type": "Point"
          },
          "lat": 52.298179,
          "locatie": "Legerplaats Ermelo, Ermelo, Netherlands",
          "lon": 5.65841,
          "median": 0.00015594855358358473,
          "ministerie": "Def",
          "project": "Legerplaats Ermelo",
          "type": "Feature"
         },
         {
          "date": "2019-03",
          "geometry": {
           "coordinates": [
            5.65841,
            52.298179
           ],
           "type": "Point"
          },
          "lat": 52.298179,
          "locatie": "Legerplaats Ermelo, Ermelo, Netherlands",
          "lon": 5.65841,
          "median": 0.00010802748665370212,
          "ministerie": "Def",
          "project": "Legerplaats Ermelo",
          "type": "Feature"
         },
         {
          "date": "2019-04",
          "geometry": {
           "coordinates": [
            5.65841,
            52.298179
           ],
           "type": "Point"
          },
          "lat": 52.298179,
          "locatie": "Legerplaats Ermelo, Ermelo, Netherlands",
          "lon": 5.65841,
          "median": 0.00010675883095245808,
          "ministerie": "Def",
          "project": "Legerplaats Ermelo",
          "type": "Feature"
         },
         {
          "date": "2019-05",
          "geometry": {
           "coordinates": [
            5.65841,
            52.298179
           ],
           "type": "Point"
          },
          "lat": 52.298179,
          "locatie": "Legerplaats Ermelo, Ermelo, Netherlands",
          "lon": 5.65841,
          "median": 0.0001109280856424686,
          "ministerie": "Def",
          "project": "Legerplaats Ermelo",
          "type": "Feature"
         },
         {
          "date": "2019-06",
          "geometry": {
           "coordinates": [
            5.65841,
            52.298179
           ],
           "type": "Point"
          },
          "lat": 52.298179,
          "locatie": "Legerplaats Ermelo, Ermelo, Netherlands",
          "lon": 5.65841,
          "median": 0.00010445656183716564,
          "ministerie": "Def",
          "project": "Legerplaats Ermelo",
          "type": "Feature"
         },
         {
          "date": "2019-07",
          "geometry": {
           "coordinates": [
            5.65841,
            52.298179
           ],
           "type": "Point"
          },
          "lat": 52.298179,
          "locatie": "Legerplaats Ermelo, Ermelo, Netherlands",
          "lon": 5.65841,
          "median": 0.0001024895868630541,
          "ministerie": "Def",
          "project": "Legerplaats Ermelo",
          "type": "Feature"
         },
         {
          "date": "2019-08",
          "geometry": {
           "coordinates": [
            5.65841,
            52.298179
           ],
           "type": "Point"
          },
          "lat": 52.298179,
          "locatie": "Legerplaats Ermelo, Ermelo, Netherlands",
          "lon": 5.65841,
          "median": 0.00011781308421632275,
          "ministerie": "Def",
          "project": "Legerplaats Ermelo",
          "type": "Feature"
         },
         {
          "date": "2019-09",
          "geometry": {
           "coordinates": [
            5.65841,
            52.298179
           ],
           "type": "Point"
          },
          "lat": 52.298179,
          "locatie": "Legerplaats Ermelo, Ermelo, Netherlands",
          "lon": 5.65841,
          "median": 9.463128814922513e-05,
          "ministerie": "Def",
          "project": "Legerplaats Ermelo",
          "type": "Feature"
         },
         {
          "date": "2018-07",
          "geometry": {
           "coordinates": [
            5.760447,
            52.124951
           ],
           "type": "Point"
          },
          "lat": 52.124951,
          "locatie": "Legerplaats Harskamp, Harskamp, Netherlands",
          "lon": 5.760447,
          "median": 0.00011107461614301428,
          "ministerie": "Def",
          "project": "Legerplaats Harskamp",
          "type": "Feature"
         },
         {
          "date": "2018-08",
          "geometry": {
           "coordinates": [
            5.760447,
            52.124951
           ],
           "type": "Point"
          },
          "lat": 52.124951,
          "locatie": "Legerplaats Harskamp, Harskamp, Netherlands",
          "lon": 5.760447,
          "median": 0.00010937810861990637,
          "ministerie": "Def",
          "project": "Legerplaats Harskamp",
          "type": "Feature"
         },
         {
          "date": "2018-09",
          "geometry": {
           "coordinates": [
            5.760447,
            52.124951
           ],
           "type": "Point"
          },
          "lat": 52.124951,
          "locatie": "Legerplaats Harskamp, Harskamp, Netherlands",
          "lon": 5.760447,
          "median": 0.00013912781532904195,
          "ministerie": "Def",
          "project": "Legerplaats Harskamp",
          "type": "Feature"
         },
         {
          "date": "2018-10",
          "geometry": {
           "coordinates": [
            5.760447,
            52.124951
           ],
           "type": "Point"
          },
          "lat": 52.124951,
          "locatie": "Legerplaats Harskamp, Harskamp, Netherlands",
          "lon": 5.760447,
          "median": 0.00012203277599736165,
          "ministerie": "Def",
          "project": "Legerplaats Harskamp",
          "type": "Feature"
         },
         {
          "date": "2018-11",
          "geometry": {
           "coordinates": [
            5.760447,
            52.124951
           ],
           "type": "Point"
          },
          "lat": 52.124951,
          "locatie": "Legerplaats Harskamp, Harskamp, Netherlands",
          "lon": 5.760447,
          "median": 0.00014841520704419545,
          "ministerie": "Def",
          "project": "Legerplaats Harskamp",
          "type": "Feature"
         },
         {
          "date": "2018-12",
          "geometry": {
           "coordinates": [
            5.760447,
            52.124951
           ],
           "type": "Point"
          },
          "lat": 52.124951,
          "locatie": "Legerplaats Harskamp, Harskamp, Netherlands",
          "lon": 5.760447,
          "median": 0.00010682498847103893,
          "ministerie": "Def",
          "project": "Legerplaats Harskamp",
          "type": "Feature"
         },
         {
          "date": "2019-01",
          "geometry": {
           "coordinates": [
            5.760447,
            52.124951
           ],
           "type": "Point"
          },
          "lat": 52.124951,
          "locatie": "Legerplaats Harskamp, Harskamp, Netherlands",
          "lon": 5.760447,
          "median": 0.00010830597966560163,
          "ministerie": "Def",
          "project": "Legerplaats Harskamp",
          "type": "Feature"
         },
         {
          "date": "2019-02",
          "geometry": {
           "coordinates": [
            5.760447,
            52.124951
           ],
           "type": "Point"
          },
          "lat": 52.124951,
          "locatie": "Legerplaats Harskamp, Harskamp, Netherlands",
          "lon": 5.760447,
          "median": 0.00015415568263632364,
          "ministerie": "Def",
          "project": "Legerplaats Harskamp",
          "type": "Feature"
         },
         {
          "date": "2019-03",
          "geometry": {
           "coordinates": [
            5.760447,
            52.124951
           ],
           "type": "Point"
          },
          "lat": 52.124951,
          "locatie": "Legerplaats Harskamp, Harskamp, Netherlands",
          "lon": 5.760447,
          "median": 0.00010614548035448627,
          "ministerie": "Def",
          "project": "Legerplaats Harskamp",
          "type": "Feature"
         },
         {
          "date": "2019-04",
          "geometry": {
           "coordinates": [
            5.760447,
            52.124951
           ],
           "type": "Point"
          },
          "lat": 52.124951,
          "locatie": "Legerplaats Harskamp, Harskamp, Netherlands",
          "lon": 5.760447,
          "median": 0.0001113029065891169,
          "ministerie": "Def",
          "project": "Legerplaats Harskamp",
          "type": "Feature"
         },
         {
          "date": "2019-05",
          "geometry": {
           "coordinates": [
            5.760447,
            52.124951
           ],
           "type": "Point"
          },
          "lat": 52.124951,
          "locatie": "Legerplaats Harskamp, Harskamp, Netherlands",
          "lon": 5.760447,
          "median": 0.00011563771113287657,
          "ministerie": "Def",
          "project": "Legerplaats Harskamp",
          "type": "Feature"
         },
         {
          "date": "2019-06",
          "geometry": {
           "coordinates": [
            5.760447,
            52.124951
           ],
           "type": "Point"
          },
          "lat": 52.124951,
          "locatie": "Legerplaats Harskamp, Harskamp, Netherlands",
          "lon": 5.760447,
          "median": 0.00010898372633408841,
          "ministerie": "Def",
          "project": "Legerplaats Harskamp",
          "type": "Feature"
         },
         {
          "date": "2019-07",
          "geometry": {
           "coordinates": [
            5.760447,
            52.124951
           ],
           "type": "Point"
          },
          "lat": 52.124951,
          "locatie": "Legerplaats Harskamp, Harskamp, Netherlands",
          "lon": 5.760447,
          "median": 0.00010656545135728632,
          "ministerie": "Def",
          "project": "Legerplaats Harskamp",
          "type": "Feature"
         },
         {
          "date": "2019-08",
          "geometry": {
           "coordinates": [
            5.760447,
            52.124951
           ],
           "type": "Point"
          },
          "lat": 52.124951,
          "locatie": "Legerplaats Harskamp, Harskamp, Netherlands",
          "lon": 5.760447,
          "median": 0.00011413248072486959,
          "ministerie": "Def",
          "project": "Legerplaats Harskamp",
          "type": "Feature"
         },
         {
          "date": "2019-09",
          "geometry": {
           "coordinates": [
            5.760447,
            52.124951
           ],
           "type": "Point"
          },
          "lat": 52.124951,
          "locatie": "Legerplaats Harskamp, Harskamp, Netherlands",
          "lon": 5.760447,
          "median": 0.00010021066555054858,
          "ministerie": "Def",
          "project": "Legerplaats Harskamp",
          "type": "Feature"
         },
         {
          "date": "2018-07",
          "geometry": {
           "coordinates": [
            5.691431,
            52.186824
           ],
           "type": "Point"
          },
          "lat": 52.186824,
          "locatie": "Stroe, Netherlands",
          "lon": 5.691431,
          "median": 0.0001122783204907128,
          "ministerie": "Def",
          "project": "Legerplaats Stroe",
          "type": "Feature"
         },
         {
          "date": "2018-08",
          "geometry": {
           "coordinates": [
            5.691431,
            52.186824
           ],
           "type": "Point"
          },
          "lat": 52.186824,
          "locatie": "Stroe, Netherlands",
          "lon": 5.691431,
          "median": 0.00010998112941354447,
          "ministerie": "Def",
          "project": "Legerplaats Stroe",
          "type": "Feature"
         },
         {
          "date": "2018-09",
          "geometry": {
           "coordinates": [
            5.691431,
            52.186824
           ],
           "type": "Point"
          },
          "lat": 52.186824,
          "locatie": "Stroe, Netherlands",
          "lon": 5.691431,
          "median": 0.0001439973152805284,
          "ministerie": "Def",
          "project": "Legerplaats Stroe",
          "type": "Feature"
         },
         {
          "date": "2018-10",
          "geometry": {
           "coordinates": [
            5.691431,
            52.186824
           ],
           "type": "Point"
          },
          "lat": 52.186824,
          "locatie": "Stroe, Netherlands",
          "lon": 5.691431,
          "median": 0.00011424884724712931,
          "ministerie": "Def",
          "project": "Legerplaats Stroe",
          "type": "Feature"
         },
         {
          "date": "2018-11",
          "geometry": {
           "coordinates": [
            5.691431,
            52.186824
           ],
           "type": "Point"
          },
          "lat": 52.186824,
          "locatie": "Stroe, Netherlands",
          "lon": 5.691431,
          "median": 0.00014555877714883536,
          "ministerie": "Def",
          "project": "Legerplaats Stroe",
          "type": "Feature"
         },
         {
          "date": "2018-12",
          "geometry": {
           "coordinates": [
            5.691431,
            52.186824
           ],
           "type": "Point"
          },
          "lat": 52.186824,
          "locatie": "Stroe, Netherlands",
          "lon": 5.691431,
          "median": 0.00010514621681068093,
          "ministerie": "Def",
          "project": "Legerplaats Stroe",
          "type": "Feature"
         },
         {
          "date": "2019-01",
          "geometry": {
           "coordinates": [
            5.691431,
            52.186824
           ],
           "type": "Point"
          },
          "lat": 52.186824,
          "locatie": "Stroe, Netherlands",
          "lon": 5.691431,
          "median": 0.00010221789125353098,
          "ministerie": "Def",
          "project": "Legerplaats Stroe",
          "type": "Feature"
         },
         {
          "date": "2019-02",
          "geometry": {
           "coordinates": [
            5.691431,
            52.186824
           ],
           "type": "Point"
          },
          "lat": 52.186824,
          "locatie": "Stroe, Netherlands",
          "lon": 5.691431,
          "median": 0.0001541980600450188,
          "ministerie": "Def",
          "project": "Legerplaats Stroe",
          "type": "Feature"
         },
         {
          "date": "2019-03",
          "geometry": {
           "coordinates": [
            5.691431,
            52.186824
           ],
           "type": "Point"
          },
          "lat": 52.186824,
          "locatie": "Stroe, Netherlands",
          "lon": 5.691431,
          "median": 0.0001027124235406518,
          "ministerie": "Def",
          "project": "Legerplaats Stroe",
          "type": "Feature"
         },
         {
          "date": "2019-04",
          "geometry": {
           "coordinates": [
            5.691431,
            52.186824
           ],
           "type": "Point"
          },
          "lat": 52.186824,
          "locatie": "Stroe, Netherlands",
          "lon": 5.691431,
          "median": 0.00010925615592075993,
          "ministerie": "Def",
          "project": "Legerplaats Stroe",
          "type": "Feature"
         },
         {
          "date": "2019-05",
          "geometry": {
           "coordinates": [
            5.691431,
            52.186824
           ],
           "type": "Point"
          },
          "lat": 52.186824,
          "locatie": "Stroe, Netherlands",
          "lon": 5.691431,
          "median": 0.00011344023016673734,
          "ministerie": "Def",
          "project": "Legerplaats Stroe",
          "type": "Feature"
         },
         {
          "date": "2019-06",
          "geometry": {
           "coordinates": [
            5.691431,
            52.186824
           ],
           "type": "Point"
          },
          "lat": 52.186824,
          "locatie": "Stroe, Netherlands",
          "lon": 5.691431,
          "median": 0.00010418410194060554,
          "ministerie": "Def",
          "project": "Legerplaats Stroe",
          "type": "Feature"
         },
         {
          "date": "2019-07",
          "geometry": {
           "coordinates": [
            5.691431,
            52.186824
           ],
           "type": "Point"
          },
          "lat": 52.186824,
          "locatie": "Stroe, Netherlands",
          "lon": 5.691431,
          "median": 0.00010435718523539364,
          "ministerie": "Def",
          "project": "Legerplaats Stroe",
          "type": "Feature"
         },
         {
          "date": "2019-08",
          "geometry": {
           "coordinates": [
            5.691431,
            52.186824
           ],
           "type": "Point"
          },
          "lat": 52.186824,
          "locatie": "Stroe, Netherlands",
          "lon": 5.691431,
          "median": 0.0001165580882700246,
          "ministerie": "Def",
          "project": "Legerplaats Stroe",
          "type": "Feature"
         },
         {
          "date": "2019-09",
          "geometry": {
           "coordinates": [
            5.691431,
            52.186824
           ],
           "type": "Point"
          },
          "lat": 52.186824,
          "locatie": "Stroe, Netherlands",
          "lon": 5.691431,
          "median": 9.617913719269168e-05,
          "ministerie": "Def",
          "project": "Legerplaats Stroe",
          "type": "Feature"
         },
         {
          "date": "2018-07",
          "geometry": {
           "coordinates": [
            5.428444,
            52.135797
           ],
           "type": "Point"
          },
          "lat": 52.135797,
          "locatie": "Leusden, Netherlands",
          "lon": 5.428444,
          "median": 0.00011398557818475343,
          "ministerie": "Def",
          "project": "Leusden",
          "type": "Feature"
         },
         {
          "date": "2018-08",
          "geometry": {
           "coordinates": [
            5.428444,
            52.135797
           ],
           "type": "Point"
          },
          "lat": 52.135797,
          "locatie": "Leusden, Netherlands",
          "lon": 5.428444,
          "median": 0.00010936909080383825,
          "ministerie": "Def",
          "project": "Leusden",
          "type": "Feature"
         },
         {
          "date": "2018-09",
          "geometry": {
           "coordinates": [
            5.428444,
            52.135797
           ],
           "type": "Point"
          },
          "lat": 52.135797,
          "locatie": "Leusden, Netherlands",
          "lon": 5.428444,
          "median": 0.0001426736851065763,
          "ministerie": "Def",
          "project": "Leusden",
          "type": "Feature"
         },
         {
          "date": "2018-10",
          "geometry": {
           "coordinates": [
            5.428444,
            52.135797
           ],
           "type": "Point"
          },
          "lat": 52.135797,
          "locatie": "Leusden, Netherlands",
          "lon": 5.428444,
          "median": 0.000117112123275344,
          "ministerie": "Def",
          "project": "Leusden",
          "type": "Feature"
         },
         {
          "date": "2018-11",
          "geometry": {
           "coordinates": [
            5.428444,
            52.135797
           ],
           "type": "Point"
          },
          "lat": 52.135797,
          "locatie": "Leusden, Netherlands",
          "lon": 5.428444,
          "median": 0.0001331681401400199,
          "ministerie": "Def",
          "project": "Leusden",
          "type": "Feature"
         },
         {
          "date": "2018-12",
          "geometry": {
           "coordinates": [
            5.428444,
            52.135797
           ],
           "type": "Point"
          },
          "lat": 52.135797,
          "locatie": "Leusden, Netherlands",
          "lon": 5.428444,
          "median": 0.00010576435317892304,
          "ministerie": "Def",
          "project": "Leusden",
          "type": "Feature"
         },
         {
          "date": "2019-01",
          "geometry": {
           "coordinates": [
            5.428444,
            52.135797
           ],
           "type": "Point"
          },
          "lat": 52.135797,
          "locatie": "Leusden, Netherlands",
          "lon": 5.428444,
          "median": 8.671048513576503e-05,
          "ministerie": "Def",
          "project": "Leusden",
          "type": "Feature"
         },
         {
          "date": "2019-02",
          "geometry": {
           "coordinates": [
            5.428444,
            52.135797
           ],
           "type": "Point"
          },
          "lat": 52.135797,
          "locatie": "Leusden, Netherlands",
          "lon": 5.428444,
          "median": 0.00015244228416122496,
          "ministerie": "Def",
          "project": "Leusden",
          "type": "Feature"
         },
         {
          "date": "2019-03",
          "geometry": {
           "coordinates": [
            5.428444,
            52.135797
           ],
           "type": "Point"
          },
          "lat": 52.135797,
          "locatie": "Leusden, Netherlands",
          "lon": 5.428444,
          "median": 0.00010756407573353499,
          "ministerie": "Def",
          "project": "Leusden",
          "type": "Feature"
         },
         {
          "date": "2019-04",
          "geometry": {
           "coordinates": [
            5.428444,
            52.135797
           ],
           "type": "Point"
          },
          "lat": 52.135797,
          "locatie": "Leusden, Netherlands",
          "lon": 5.428444,
          "median": 0.00011238982861313759,
          "ministerie": "Def",
          "project": "Leusden",
          "type": "Feature"
         },
         {
          "date": "2019-05",
          "geometry": {
           "coordinates": [
            5.428444,
            52.135797
           ],
           "type": "Point"
          },
          "lat": 52.135797,
          "locatie": "Leusden, Netherlands",
          "lon": 5.428444,
          "median": 0.00011382913342949027,
          "ministerie": "Def",
          "project": "Leusden",
          "type": "Feature"
         },
         {
          "date": "2019-06",
          "geometry": {
           "coordinates": [
            5.428444,
            52.135797
           ],
           "type": "Point"
          },
          "lat": 52.135797,
          "locatie": "Leusden, Netherlands",
          "lon": 5.428444,
          "median": 0.000109635754512753,
          "ministerie": "Def",
          "project": "Leusden",
          "type": "Feature"
         },
         {
          "date": "2019-07",
          "geometry": {
           "coordinates": [
            5.428444,
            52.135797
           ],
           "type": "Point"
          },
          "lat": 52.135797,
          "locatie": "Leusden, Netherlands",
          "lon": 5.428444,
          "median": 0.00010424836873532459,
          "ministerie": "Def",
          "project": "Leusden",
          "type": "Feature"
         },
         {
          "date": "2019-08",
          "geometry": {
           "coordinates": [
            5.428444,
            52.135797
           ],
           "type": "Point"
          },
          "lat": 52.135797,
          "locatie": "Leusden, Netherlands",
          "lon": 5.428444,
          "median": 0.00011613695086361769,
          "ministerie": "Def",
          "project": "Leusden",
          "type": "Feature"
         },
         {
          "date": "2019-09",
          "geometry": {
           "coordinates": [
            5.428444,
            52.135797
           ],
           "type": "Point"
          },
          "lat": 52.135797,
          "locatie": "Leusden, Netherlands",
          "lon": 5.428444,
          "median": 0.00010135501680930581,
          "ministerie": "Def",
          "project": "Leusden",
          "type": "Feature"
         },
         {
          "date": "2018-07",
          "geometry": {
           "coordinates": [
            5.854679,
            51.534572
           ],
           "type": "Point"
          },
          "lat": 51.534572,
          "locatie": "1 Ripseweg, Vredepeel, Netherlands",
          "lon": 5.854679,
          "median": 0.00012328685047087006,
          "ministerie": "Def",
          "project": "Luchthavenbesluit De Peel",
          "type": "Feature"
         },
         {
          "date": "2018-08",
          "geometry": {
           "coordinates": [
            5.854679,
            51.534572
           ],
           "type": "Point"
          },
          "lat": 51.534572,
          "locatie": "1 Ripseweg, Vredepeel, Netherlands",
          "lon": 5.854679,
          "median": 0.00011402551180699471,
          "ministerie": "Def",
          "project": "Luchthavenbesluit De Peel",
          "type": "Feature"
         },
         {
          "date": "2018-09",
          "geometry": {
           "coordinates": [
            5.854679,
            51.534572
           ],
           "type": "Point"
          },
          "lat": 51.534572,
          "locatie": "1 Ripseweg, Vredepeel, Netherlands",
          "lon": 5.854679,
          "median": 0.00013709479583283706,
          "ministerie": "Def",
          "project": "Luchthavenbesluit De Peel",
          "type": "Feature"
         },
         {
          "date": "2018-10",
          "geometry": {
           "coordinates": [
            5.854679,
            51.534572
           ],
           "type": "Point"
          },
          "lat": 51.534572,
          "locatie": "1 Ripseweg, Vredepeel, Netherlands",
          "lon": 5.854679,
          "median": 0.00013073321315459907,
          "ministerie": "Def",
          "project": "Luchthavenbesluit De Peel",
          "type": "Feature"
         },
         {
          "date": "2018-11",
          "geometry": {
           "coordinates": [
            5.854679,
            51.534572
           ],
           "type": "Point"
          },
          "lat": 51.534572,
          "locatie": "1 Ripseweg, Vredepeel, Netherlands",
          "lon": 5.854679,
          "median": 0.00014747933892067522,
          "ministerie": "Def",
          "project": "Luchthavenbesluit De Peel",
          "type": "Feature"
         },
         {
          "date": "2018-12",
          "geometry": {
           "coordinates": [
            5.854679,
            51.534572
           ],
           "type": "Point"
          },
          "lat": 51.534572,
          "locatie": "1 Ripseweg, Vredepeel, Netherlands",
          "lon": 5.854679,
          "median": 0.00012287449135328643,
          "ministerie": "Def",
          "project": "Luchthavenbesluit De Peel",
          "type": "Feature"
         },
         {
          "date": "2019-01",
          "geometry": {
           "coordinates": [
            5.854679,
            51.534572
           ],
           "type": "Point"
          },
          "lat": 51.534572,
          "locatie": "1 Ripseweg, Vredepeel, Netherlands",
          "lon": 5.854679,
          "median": 0.00012260701325275154,
          "ministerie": "Def",
          "project": "Luchthavenbesluit De Peel",
          "type": "Feature"
         },
         {
          "date": "2019-02",
          "geometry": {
           "coordinates": [
            5.854679,
            51.534572
           ],
           "type": "Point"
          },
          "lat": 51.534572,
          "locatie": "1 Ripseweg, Vredepeel, Netherlands",
          "lon": 5.854679,
          "median": 0.00014794545683063676,
          "ministerie": "Def",
          "project": "Luchthavenbesluit De Peel",
          "type": "Feature"
         },
         {
          "date": "2019-03",
          "geometry": {
           "coordinates": [
            5.854679,
            51.534572
           ],
           "type": "Point"
          },
          "lat": 51.534572,
          "locatie": "1 Ripseweg, Vredepeel, Netherlands",
          "lon": 5.854679,
          "median": 0.00010428845436222047,
          "ministerie": "Def",
          "project": "Luchthavenbesluit De Peel",
          "type": "Feature"
         },
         {
          "date": "2019-04",
          "geometry": {
           "coordinates": [
            5.854679,
            51.534572
           ],
           "type": "Point"
          },
          "lat": 51.534572,
          "locatie": "1 Ripseweg, Vredepeel, Netherlands",
          "lon": 5.854679,
          "median": 0.0001395717910925243,
          "ministerie": "Def",
          "project": "Luchthavenbesluit De Peel",
          "type": "Feature"
         },
         {
          "date": "2019-05",
          "geometry": {
           "coordinates": [
            5.854679,
            51.534572
           ],
           "type": "Point"
          },
          "lat": 51.534572,
          "locatie": "1 Ripseweg, Vredepeel, Netherlands",
          "lon": 5.854679,
          "median": 0.00012288990734184705,
          "ministerie": "Def",
          "project": "Luchthavenbesluit De Peel",
          "type": "Feature"
         },
         {
          "date": "2019-06",
          "geometry": {
           "coordinates": [
            5.854679,
            51.534572
           ],
           "type": "Point"
          },
          "lat": 51.534572,
          "locatie": "1 Ripseweg, Vredepeel, Netherlands",
          "lon": 5.854679,
          "median": 0.00011203344266349767,
          "ministerie": "Def",
          "project": "Luchthavenbesluit De Peel",
          "type": "Feature"
         },
         {
          "date": "2019-07",
          "geometry": {
           "coordinates": [
            5.854679,
            51.534572
           ],
           "type": "Point"
          },
          "lat": 51.534572,
          "locatie": "1 Ripseweg, Vredepeel, Netherlands",
          "lon": 5.854679,
          "median": 0.00010588108458377234,
          "ministerie": "Def",
          "project": "Luchthavenbesluit De Peel",
          "type": "Feature"
         },
         {
          "date": "2019-08",
          "geometry": {
           "coordinates": [
            5.854679,
            51.534572
           ],
           "type": "Point"
          },
          "lat": 51.534572,
          "locatie": "1 Ripseweg, Vredepeel, Netherlands",
          "lon": 5.854679,
          "median": 0.00010761690175055801,
          "ministerie": "Def",
          "project": "Luchthavenbesluit De Peel",
          "type": "Feature"
         },
         {
          "date": "2019-09",
          "geometry": {
           "coordinates": [
            5.854679,
            51.534572
           ],
           "type": "Point"
          },
          "lat": 51.534572,
          "locatie": "1 Ripseweg, Vredepeel, Netherlands",
          "lon": 5.854679,
          "median": 0.00010488954029431876,
          "ministerie": "Def",
          "project": "Luchthavenbesluit De Peel",
          "type": "Feature"
         },
         {
          "date": "2018-07",
          "geometry": {
           "coordinates": [
            4.924138,
            51.584053999999995
           ],
           "type": "Point"
          },
          "lat": 51.584053999999995,
          "locatie": "Gilze-Rijen, Rijen, Netherlands",
          "lon": 4.924138,
          "median": 0.00013526953262044117,
          "ministerie": "Def",
          "project": "Luchthavenbesluit Gilze-Rijen",
          "type": "Feature"
         },
         {
          "date": "2018-08",
          "geometry": {
           "coordinates": [
            4.924138,
            51.584053999999995
           ],
           "type": "Point"
          },
          "lat": 51.584053999999995,
          "locatie": "Gilze-Rijen, Rijen, Netherlands",
          "lon": 4.924138,
          "median": 0.00011691856343531981,
          "ministerie": "Def",
          "project": "Luchthavenbesluit Gilze-Rijen",
          "type": "Feature"
         },
         {
          "date": "2018-09",
          "geometry": {
           "coordinates": [
            4.924138,
            51.584053999999995
           ],
           "type": "Point"
          },
          "lat": 51.584053999999995,
          "locatie": "Gilze-Rijen, Rijen, Netherlands",
          "lon": 4.924138,
          "median": 0.00014438404645581034,
          "ministerie": "Def",
          "project": "Luchthavenbesluit Gilze-Rijen",
          "type": "Feature"
         },
         {
          "date": "2018-10",
          "geometry": {
           "coordinates": [
            4.924138,
            51.584053999999995
           ],
           "type": "Point"
          },
          "lat": 51.584053999999995,
          "locatie": "Gilze-Rijen, Rijen, Netherlands",
          "lon": 4.924138,
          "median": 0.0001249136112164706,
          "ministerie": "Def",
          "project": "Luchthavenbesluit Gilze-Rijen",
          "type": "Feature"
         },
         {
          "date": "2018-11",
          "geometry": {
           "coordinates": [
            4.924138,
            51.584053999999995
           ],
           "type": "Point"
          },
          "lat": 51.584053999999995,
          "locatie": "Gilze-Rijen, Rijen, Netherlands",
          "lon": 4.924138,
          "median": 0.00013818972295572219,
          "ministerie": "Def",
          "project": "Luchthavenbesluit Gilze-Rijen",
          "type": "Feature"
         },
         {
          "date": "2018-12",
          "geometry": {
           "coordinates": [
            4.924138,
            51.584053999999995
           ],
           "type": "Point"
          },
          "lat": 51.584053999999995,
          "locatie": "Gilze-Rijen, Rijen, Netherlands",
          "lon": 4.924138,
          "median": 0.00010984147957060486,
          "ministerie": "Def",
          "project": "Luchthavenbesluit Gilze-Rijen",
          "type": "Feature"
         },
         {
          "date": "2019-01",
          "geometry": {
           "coordinates": [
            4.924138,
            51.584053999999995
           ],
           "type": "Point"
          },
          "lat": 51.584053999999995,
          "locatie": "Gilze-Rijen, Rijen, Netherlands",
          "lon": 4.924138,
          "median": 9.182531954182819e-05,
          "ministerie": "Def",
          "project": "Luchthavenbesluit Gilze-Rijen",
          "type": "Feature"
         },
         {
          "date": "2019-02",
          "geometry": {
           "coordinates": [
            4.924138,
            51.584053999999995
           ],
           "type": "Point"
          },
          "lat": 51.584053999999995,
          "locatie": "Gilze-Rijen, Rijen, Netherlands",
          "lon": 4.924138,
          "median": 0.00013874376694374794,
          "ministerie": "Def",
          "project": "Luchthavenbesluit Gilze-Rijen",
          "type": "Feature"
         },
         {
          "date": "2019-03",
          "geometry": {
           "coordinates": [
            4.924138,
            51.584053999999995
           ],
           "type": "Point"
          },
          "lat": 51.584053999999995,
          "locatie": "Gilze-Rijen, Rijen, Netherlands",
          "lon": 4.924138,
          "median": 0.00011412650765835508,
          "ministerie": "Def",
          "project": "Luchthavenbesluit Gilze-Rijen",
          "type": "Feature"
         },
         {
          "date": "2019-04",
          "geometry": {
           "coordinates": [
            4.924138,
            51.584053999999995
           ],
           "type": "Point"
          },
          "lat": 51.584053999999995,
          "locatie": "Gilze-Rijen, Rijen, Netherlands",
          "lon": 4.924138,
          "median": 0.0001422268517649694,
          "ministerie": "Def",
          "project": "Luchthavenbesluit Gilze-Rijen",
          "type": "Feature"
         },
         {
          "date": "2019-05",
          "geometry": {
           "coordinates": [
            4.924138,
            51.584053999999995
           ],
           "type": "Point"
          },
          "lat": 51.584053999999995,
          "locatie": "Gilze-Rijen, Rijen, Netherlands",
          "lon": 4.924138,
          "median": 0.00012754144504946284,
          "ministerie": "Def",
          "project": "Luchthavenbesluit Gilze-Rijen",
          "type": "Feature"
         },
         {
          "date": "2019-06",
          "geometry": {
           "coordinates": [
            4.924138,
            51.584053999999995
           ],
           "type": "Point"
          },
          "lat": 51.584053999999995,
          "locatie": "Gilze-Rijen, Rijen, Netherlands",
          "lon": 4.924138,
          "median": 0.00011224567424505949,
          "ministerie": "Def",
          "project": "Luchthavenbesluit Gilze-Rijen",
          "type": "Feature"
         },
         {
          "date": "2019-07",
          "geometry": {
           "coordinates": [
            4.924138,
            51.584053999999995
           ],
           "type": "Point"
          },
          "lat": 51.584053999999995,
          "locatie": "Gilze-Rijen, Rijen, Netherlands",
          "lon": 4.924138,
          "median": 0.00010921535333135849,
          "ministerie": "Def",
          "project": "Luchthavenbesluit Gilze-Rijen",
          "type": "Feature"
         },
         {
          "date": "2019-08",
          "geometry": {
           "coordinates": [
            4.924138,
            51.584053999999995
           ],
           "type": "Point"
          },
          "lat": 51.584053999999995,
          "locatie": "Gilze-Rijen, Rijen, Netherlands",
          "lon": 4.924138,
          "median": 0.00011715086644203878,
          "ministerie": "Def",
          "project": "Luchthavenbesluit Gilze-Rijen",
          "type": "Feature"
         },
         {
          "date": "2019-09",
          "geometry": {
           "coordinates": [
            4.924138,
            51.584053999999995
           ],
           "type": "Point"
          },
          "lat": 51.584053999999995,
          "locatie": "Gilze-Rijen, Rijen, Netherlands",
          "lon": 4.924138,
          "median": 9.247427678246681e-05,
          "ministerie": "Def",
          "project": "Luchthavenbesluit Gilze-Rijen",
          "type": "Feature"
         },
         {
          "date": "2018-07",
          "geometry": {
           "coordinates": [
            4.3404620000000005,
            51.418796
           ],
           "type": "Point"
          },
          "lat": 51.418796,
          "locatie": "Woensdrecht, Netherlands",
          "lon": 4.3404620000000005,
          "median": 0.00013804381958492168,
          "ministerie": "Def",
          "project": "Luchthavenbesluit Woensdrecht",
          "type": "Feature"
         },
         {
          "date": "2018-08",
          "geometry": {
           "coordinates": [
            4.3404620000000005,
            51.418796
           ],
           "type": "Point"
          },
          "lat": 51.418796,
          "locatie": "Woensdrecht, Netherlands",
          "lon": 4.3404620000000005,
          "median": 0.00010858021978172152,
          "ministerie": "Def",
          "project": "Luchthavenbesluit Woensdrecht",
          "type": "Feature"
         },
         {
          "date": "2018-09",
          "geometry": {
           "coordinates": [
            4.3404620000000005,
            51.418796
           ],
           "type": "Point"
          },
          "lat": 51.418796,
          "locatie": "Woensdrecht, Netherlands",
          "lon": 4.3404620000000005,
          "median": 0.0001309438354610346,
          "ministerie": "Def",
          "project": "Luchthavenbesluit Woensdrecht",
          "type": "Feature"
         },
         {
          "date": "2018-10",
          "geometry": {
           "coordinates": [
            4.3404620000000005,
            51.418796
           ],
           "type": "Point"
          },
          "lat": 51.418796,
          "locatie": "Woensdrecht, Netherlands",
          "lon": 4.3404620000000005,
          "median": 0.00013564593194371802,
          "ministerie": "Def",
          "project": "Luchthavenbesluit Woensdrecht",
          "type": "Feature"
         },
         {
          "date": "2018-11",
          "geometry": {
           "coordinates": [
            4.3404620000000005,
            51.418796
           ],
           "type": "Point"
          },
          "lat": 51.418796,
          "locatie": "Woensdrecht, Netherlands",
          "lon": 4.3404620000000005,
          "median": 0.0001692278019618243,
          "ministerie": "Def",
          "project": "Luchthavenbesluit Woensdrecht",
          "type": "Feature"
         },
         {
          "date": "2018-12",
          "geometry": {
           "coordinates": [
            4.3404620000000005,
            51.418796
           ],
           "type": "Point"
          },
          "lat": 51.418796,
          "locatie": "Woensdrecht, Netherlands",
          "lon": 4.3404620000000005,
          "median": 0.00011036417708965018,
          "ministerie": "Def",
          "project": "Luchthavenbesluit Woensdrecht",
          "type": "Feature"
         },
         {
          "date": "2019-01",
          "geometry": {
           "coordinates": [
            4.3404620000000005,
            51.418796
           ],
           "type": "Point"
          },
          "lat": 51.418796,
          "locatie": "Woensdrecht, Netherlands",
          "lon": 4.3404620000000005,
          "median": 0.0001040721581375692,
          "ministerie": "Def",
          "project": "Luchthavenbesluit Woensdrecht",
          "type": "Feature"
         },
         {
          "date": "2019-02",
          "geometry": {
           "coordinates": [
            4.3404620000000005,
            51.418796
           ],
           "type": "Point"
          },
          "lat": 51.418796,
          "locatie": "Woensdrecht, Netherlands",
          "lon": 4.3404620000000005,
          "median": 0.00016881919873412699,
          "ministerie": "Def",
          "project": "Luchthavenbesluit Woensdrecht",
          "type": "Feature"
         },
         {
          "date": "2019-03",
          "geometry": {
           "coordinates": [
            4.3404620000000005,
            51.418796
           ],
           "type": "Point"
          },
          "lat": 51.418796,
          "locatie": "Woensdrecht, Netherlands",
          "lon": 4.3404620000000005,
          "median": 9.469751620247549e-05,
          "ministerie": "Def",
          "project": "Luchthavenbesluit Woensdrecht",
          "type": "Feature"
         },
         {
          "date": "2019-04",
          "geometry": {
           "coordinates": [
            4.3404620000000005,
            51.418796
           ],
           "type": "Point"
          },
          "lat": 51.418796,
          "locatie": "Woensdrecht, Netherlands",
          "lon": 4.3404620000000005,
          "median": 0.00014689656622618403,
          "ministerie": "Def",
          "project": "Luchthavenbesluit Woensdrecht",
          "type": "Feature"
         },
         {
          "date": "2019-05",
          "geometry": {
           "coordinates": [
            4.3404620000000005,
            51.418796
           ],
           "type": "Point"
          },
          "lat": 51.418796,
          "locatie": "Woensdrecht, Netherlands",
          "lon": 4.3404620000000005,
          "median": 0.0001320251467154323,
          "ministerie": "Def",
          "project": "Luchthavenbesluit Woensdrecht",
          "type": "Feature"
         },
         {
          "date": "2019-06",
          "geometry": {
           "coordinates": [
            4.3404620000000005,
            51.418796
           ],
           "type": "Point"
          },
          "lat": 51.418796,
          "locatie": "Woensdrecht, Netherlands",
          "lon": 4.3404620000000005,
          "median": 0.00012877296407399574,
          "ministerie": "Def",
          "project": "Luchthavenbesluit Woensdrecht",
          "type": "Feature"
         },
         {
          "date": "2019-07",
          "geometry": {
           "coordinates": [
            4.3404620000000005,
            51.418796
           ],
           "type": "Point"
          },
          "lat": 51.418796,
          "locatie": "Woensdrecht, Netherlands",
          "lon": 4.3404620000000005,
          "median": 0.00011627569068356193,
          "ministerie": "Def",
          "project": "Luchthavenbesluit Woensdrecht",
          "type": "Feature"
         },
         {
          "date": "2019-08",
          "geometry": {
           "coordinates": [
            4.3404620000000005,
            51.418796
           ],
           "type": "Point"
          },
          "lat": 51.418796,
          "locatie": "Woensdrecht, Netherlands",
          "lon": 4.3404620000000005,
          "median": 0.00012336144252318262,
          "ministerie": "Def",
          "project": "Luchthavenbesluit Woensdrecht",
          "type": "Feature"
         },
         {
          "date": "2019-09",
          "geometry": {
           "coordinates": [
            4.3404620000000005,
            51.418796
           ],
           "type": "Point"
          },
          "lat": 51.418796,
          "locatie": "Woensdrecht, Netherlands",
          "lon": 4.3404620000000005,
          "median": 0.00010549782952992321,
          "ministerie": "Def",
          "project": "Luchthavenbesluit Woensdrecht",
          "type": "Feature"
         },
         {
          "date": "2018-07",
          "geometry": {
           "coordinates": [
            5.85923,
            51.519442
           ],
           "type": "Point"
          },
          "lat": 51.519442,
          "locatie": "Luitenant-generaal Bestkazerne, Vredepeel, Netherlands",
          "lon": 5.85923,
          "median": 0.00012348493825944172,
          "ministerie": "Def",
          "project": "Luitenant Generaal Bestkazerne",
          "type": "Feature"
         },
         {
          "date": "2018-08",
          "geometry": {
           "coordinates": [
            5.85923,
            51.519442
           ],
           "type": "Point"
          },
          "lat": 51.519442,
          "locatie": "Luitenant-generaal Bestkazerne, Vredepeel, Netherlands",
          "lon": 5.85923,
          "median": 0.00011298145131102345,
          "ministerie": "Def",
          "project": "Luitenant Generaal Bestkazerne",
          "type": "Feature"
         },
         {
          "date": "2018-09",
          "geometry": {
           "coordinates": [
            5.85923,
            51.519442
           ],
           "type": "Point"
          },
          "lat": 51.519442,
          "locatie": "Luitenant-generaal Bestkazerne, Vredepeel, Netherlands",
          "lon": 5.85923,
          "median": 0.00013709479583283706,
          "ministerie": "Def",
          "project": "Luitenant Generaal Bestkazerne",
          "type": "Feature"
         },
         {
          "date": "2018-10",
          "geometry": {
           "coordinates": [
            5.85923,
            51.519442
           ],
           "type": "Point"
          },
          "lat": 51.519442,
          "locatie": "Luitenant-generaal Bestkazerne, Vredepeel, Netherlands",
          "lon": 5.85923,
          "median": 0.00013003199273953214,
          "ministerie": "Def",
          "project": "Luitenant Generaal Bestkazerne",
          "type": "Feature"
         },
         {
          "date": "2018-11",
          "geometry": {
           "coordinates": [
            5.85923,
            51.519442
           ],
           "type": "Point"
          },
          "lat": 51.519442,
          "locatie": "Luitenant-generaal Bestkazerne, Vredepeel, Netherlands",
          "lon": 5.85923,
          "median": 0.00014747933892067522,
          "ministerie": "Def",
          "project": "Luitenant Generaal Bestkazerne",
          "type": "Feature"
         },
         {
          "date": "2018-12",
          "geometry": {
           "coordinates": [
            5.85923,
            51.519442
           ],
           "type": "Point"
          },
          "lat": 51.519442,
          "locatie": "Luitenant-generaal Bestkazerne, Vredepeel, Netherlands",
          "lon": 5.85923,
          "median": 0.00012315458103298425,
          "ministerie": "Def",
          "project": "Luitenant Generaal Bestkazerne",
          "type": "Feature"
         },
         {
          "date": "2019-01",
          "geometry": {
           "coordinates": [
            5.85923,
            51.519442
           ],
           "type": "Point"
          },
          "lat": 51.519442,
          "locatie": "Luitenant-generaal Bestkazerne, Vredepeel, Netherlands",
          "lon": 5.85923,
          "median": 0.00012367738236207515,
          "ministerie": "Def",
          "project": "Luitenant Generaal Bestkazerne",
          "type": "Feature"
         },
         {
          "date": "2019-02",
          "geometry": {
           "coordinates": [
            5.85923,
            51.519442
           ],
           "type": "Point"
          },
          "lat": 51.519442,
          "locatie": "Luitenant-generaal Bestkazerne, Vredepeel, Netherlands",
          "lon": 5.85923,
          "median": 0.00014994489602285636,
          "ministerie": "Def",
          "project": "Luitenant Generaal Bestkazerne",
          "type": "Feature"
         },
         {
          "date": "2019-03",
          "geometry": {
           "coordinates": [
            5.85923,
            51.519442
           ],
           "type": "Point"
          },
          "lat": 51.519442,
          "locatie": "Luitenant-generaal Bestkazerne, Vredepeel, Netherlands",
          "lon": 5.85923,
          "median": 0.00010471138761365135,
          "ministerie": "Def",
          "project": "Luitenant Generaal Bestkazerne",
          "type": "Feature"
         },
         {
          "date": "2019-04",
          "geometry": {
           "coordinates": [
            5.85923,
            51.519442
           ],
           "type": "Point"
          },
          "lat": 51.519442,
          "locatie": "Luitenant-generaal Bestkazerne, Vredepeel, Netherlands",
          "lon": 5.85923,
          "median": 0.00014118543064545208,
          "ministerie": "Def",
          "project": "Luitenant Generaal Bestkazerne",
          "type": "Feature"
         },
         {
          "date": "2019-05",
          "geometry": {
           "coordinates": [
            5.85923,
            51.519442
           ],
           "type": "Point"
          },
          "lat": 51.519442,
          "locatie": "Luitenant-generaal Bestkazerne, Vredepeel, Netherlands",
          "lon": 5.85923,
          "median": 0.0001230994116164991,
          "ministerie": "Def",
          "project": "Luitenant Generaal Bestkazerne",
          "type": "Feature"
         },
         {
          "date": "2019-06",
          "geometry": {
           "coordinates": [
            5.85923,
            51.519442
           ],
           "type": "Point"
          },
          "lat": 51.519442,
          "locatie": "Luitenant-generaal Bestkazerne, Vredepeel, Netherlands",
          "lon": 5.85923,
          "median": 0.00011137402443394821,
          "ministerie": "Def",
          "project": "Luitenant Generaal Bestkazerne",
          "type": "Feature"
         },
         {
          "date": "2019-07",
          "geometry": {
           "coordinates": [
            5.85923,
            51.519442
           ],
           "type": "Point"
          },
          "lat": 51.519442,
          "locatie": "Luitenant-generaal Bestkazerne, Vredepeel, Netherlands",
          "lon": 5.85923,
          "median": 0.00010522052211031166,
          "ministerie": "Def",
          "project": "Luitenant Generaal Bestkazerne",
          "type": "Feature"
         },
         {
          "date": "2019-08",
          "geometry": {
           "coordinates": [
            5.85923,
            51.519442
           ],
           "type": "Point"
          },
          "lat": 51.519442,
          "locatie": "Luitenant-generaal Bestkazerne, Vredepeel, Netherlands",
          "lon": 5.85923,
          "median": 0.00010741421129585329,
          "ministerie": "Def",
          "project": "Luitenant Generaal Bestkazerne",
          "type": "Feature"
         },
         {
          "date": "2019-09",
          "geometry": {
           "coordinates": [
            5.85923,
            51.519442
           ],
           "type": "Point"
          },
          "lat": 51.519442,
          "locatie": "Luitenant-generaal Bestkazerne, Vredepeel, Netherlands",
          "lon": 5.85923,
          "median": 0.00010486453848973963,
          "ministerie": "Def",
          "project": "Luitenant Generaal Bestkazerne",
          "type": "Feature"
         },
         {
          "date": "2018-07",
          "geometry": {
           "coordinates": [
            5.8971599999999995,
            52.40603
           ],
           "type": "Point"
          },
          "lat": 52.40603,
          "locatie": "Luitenant-kolonel Tonnetkazerne, 't Harde, Netherlands",
          "lon": 5.8971599999999995,
          "median": 0.00010484156518941745,
          "ministerie": "Def",
          "project": "Luitenant Kolonel Tonnetkazerne",
          "type": "Feature"
         },
         {
          "date": "2018-08",
          "geometry": {
           "coordinates": [
            5.8971599999999995,
            52.40603
           ],
           "type": "Point"
          },
          "lat": 52.40603,
          "locatie": "Luitenant-kolonel Tonnetkazerne, 't Harde, Netherlands",
          "lon": 5.8971599999999995,
          "median": 0.00010401688328886031,
          "ministerie": "Def",
          "project": "Luitenant Kolonel Tonnetkazerne",
          "type": "Feature"
         },
         {
          "date": "2018-09",
          "geometry": {
           "coordinates": [
            5.8971599999999995,
            52.40603
           ],
           "type": "Point"
          },
          "lat": 52.40603,
          "locatie": "Luitenant-kolonel Tonnetkazerne, 't Harde, Netherlands",
          "lon": 5.8971599999999995,
          "median": 0.00012591528502525762,
          "ministerie": "Def",
          "project": "Luitenant Kolonel Tonnetkazerne",
          "type": "Feature"
         },
         {
          "date": "2018-10",
          "geometry": {
           "coordinates": [
            5.8971599999999995,
            52.40603
           ],
           "type": "Point"
          },
          "lat": 52.40603,
          "locatie": "Luitenant-kolonel Tonnetkazerne, 't Harde, Netherlands",
          "lon": 5.8971599999999995,
          "median": 0.0001031863027596326,
          "ministerie": "Def",
          "project": "Luitenant Kolonel Tonnetkazerne",
          "type": "Feature"
         },
         {
          "date": "2018-11",
          "geometry": {
           "coordinates": [
            5.8971599999999995,
            52.40603
           ],
           "type": "Point"
          },
          "lat": 52.40603,
          "locatie": "Luitenant-kolonel Tonnetkazerne, 't Harde, Netherlands",
          "lon": 5.8971599999999995,
          "median": 0.00013157813979877998,
          "ministerie": "Def",
          "project": "Luitenant Kolonel Tonnetkazerne",
          "type": "Feature"
         },
         {
          "date": "2018-12",
          "geometry": {
           "coordinates": [
            5.8971599999999995,
            52.40603
           ],
           "type": "Point"
          },
          "lat": 52.40603,
          "locatie": "Luitenant-kolonel Tonnetkazerne, 't Harde, Netherlands",
          "lon": 5.8971599999999995,
          "median": 9.487784154757447e-05,
          "ministerie": "Def",
          "project": "Luitenant Kolonel Tonnetkazerne",
          "type": "Feature"
         },
         {
          "date": "2019-01",
          "geometry": {
           "coordinates": [
            5.8971599999999995,
            52.40603
           ],
           "type": "Point"
          },
          "lat": 52.40603,
          "locatie": "Luitenant-kolonel Tonnetkazerne, 't Harde, Netherlands",
          "lon": 5.8971599999999995,
          "median": 8.182181015992088e-05,
          "ministerie": "Def",
          "project": "Luitenant Kolonel Tonnetkazerne",
          "type": "Feature"
         },
         {
          "date": "2019-02",
          "geometry": {
           "coordinates": [
            5.8971599999999995,
            52.40603
           ],
           "type": "Point"
          },
          "lat": 52.40603,
          "locatie": "Luitenant-kolonel Tonnetkazerne, 't Harde, Netherlands",
          "lon": 5.8971599999999995,
          "median": 0.000144293579181405,
          "ministerie": "Def",
          "project": "Luitenant Kolonel Tonnetkazerne",
          "type": "Feature"
         },
         {
          "date": "2019-03",
          "geometry": {
           "coordinates": [
            5.8971599999999995,
            52.40603
           ],
           "type": "Point"
          },
          "lat": 52.40603,
          "locatie": "Luitenant-kolonel Tonnetkazerne, 't Harde, Netherlands",
          "lon": 5.8971599999999995,
          "median": 9.586147765325957e-05,
          "ministerie": "Def",
          "project": "Luitenant Kolonel Tonnetkazerne",
          "type": "Feature"
         },
         {
          "date": "2019-04",
          "geometry": {
           "coordinates": [
            5.8971599999999995,
            52.40603
           ],
           "type": "Point"
          },
          "lat": 52.40603,
          "locatie": "Luitenant-kolonel Tonnetkazerne, 't Harde, Netherlands",
          "lon": 5.8971599999999995,
          "median": 0.00010645966069042542,
          "ministerie": "Def",
          "project": "Luitenant Kolonel Tonnetkazerne",
          "type": "Feature"
         },
         {
          "date": "2019-05",
          "geometry": {
           "coordinates": [
            5.8971599999999995,
            52.40603
           ],
           "type": "Point"
          },
          "lat": 52.40603,
          "locatie": "Luitenant-kolonel Tonnetkazerne, 't Harde, Netherlands",
          "lon": 5.8971599999999995,
          "median": 0.00010202182602370158,
          "ministerie": "Def",
          "project": "Luitenant Kolonel Tonnetkazerne",
          "type": "Feature"
         },
         {
          "date": "2019-06",
          "geometry": {
           "coordinates": [
            5.8971599999999995,
            52.40603
           ],
           "type": "Point"
          },
          "lat": 52.40603,
          "locatie": "Luitenant-kolonel Tonnetkazerne, 't Harde, Netherlands",
          "lon": 5.8971599999999995,
          "median": 0.00010247285782347641,
          "ministerie": "Def",
          "project": "Luitenant Kolonel Tonnetkazerne",
          "type": "Feature"
         },
         {
          "date": "2019-07",
          "geometry": {
           "coordinates": [
            5.8971599999999995,
            52.40603
           ],
           "type": "Point"
          },
          "lat": 52.40603,
          "locatie": "Luitenant-kolonel Tonnetkazerne, 't Harde, Netherlands",
          "lon": 5.8971599999999995,
          "median": 9.580456038692678e-05,
          "ministerie": "Def",
          "project": "Luitenant Kolonel Tonnetkazerne",
          "type": "Feature"
         },
         {
          "date": "2019-08",
          "geometry": {
           "coordinates": [
            5.8971599999999995,
            52.40603
           ],
           "type": "Point"
          },
          "lat": 52.40603,
          "locatie": "Luitenant-kolonel Tonnetkazerne, 't Harde, Netherlands",
          "lon": 5.8971599999999995,
          "median": 0.00011114983887984547,
          "ministerie": "Def",
          "project": "Luitenant Kolonel Tonnetkazerne",
          "type": "Feature"
         },
         {
          "date": "2019-09",
          "geometry": {
           "coordinates": [
            5.8971599999999995,
            52.40603
           ],
           "type": "Point"
          },
          "lat": 52.40603,
          "locatie": "Luitenant-kolonel Tonnetkazerne, 't Harde, Netherlands",
          "lon": 5.8971599999999995,
          "median": 9.354110248208032e-05,
          "ministerie": "Def",
          "project": "Luitenant Kolonel Tonnetkazerne",
          "type": "Feature"
         },
         {
          "date": "2018-07",
          "geometry": {
           "coordinates": [
            4.492073,
            52.158342
           ],
           "type": "Point"
          },
          "lat": 52.158342,
          "locatie": "Etablissement Einstein, Leiden, Netherlands",
          "lon": 4.492073,
          "median": 0.00012321311805862933,
          "ministerie": "Def",
          "project": "Marine Etablissement Amsterdam",
          "type": "Feature"
         },
         {
          "date": "2018-08",
          "geometry": {
           "coordinates": [
            4.492073,
            52.158342
           ],
           "type": "Point"
          },
          "lat": 52.158342,
          "locatie": "Etablissement Einstein, Leiden, Netherlands",
          "lon": 4.492073,
          "median": 0.00010802014518577338,
          "ministerie": "Def",
          "project": "Marine Etablissement Amsterdam",
          "type": "Feature"
         },
         {
          "date": "2018-09",
          "geometry": {
           "coordinates": [
            4.492073,
            52.158342
           ],
           "type": "Point"
          },
          "lat": 52.158342,
          "locatie": "Etablissement Einstein, Leiden, Netherlands",
          "lon": 4.492073,
          "median": 0.00012409679384782707,
          "ministerie": "Def",
          "project": "Marine Etablissement Amsterdam",
          "type": "Feature"
         },
         {
          "date": "2018-10",
          "geometry": {
           "coordinates": [
            4.492073,
            52.158342
           ],
           "type": "Point"
          },
          "lat": 52.158342,
          "locatie": "Etablissement Einstein, Leiden, Netherlands",
          "lon": 4.492073,
          "median": 0.00012661211815216656,
          "ministerie": "Def",
          "project": "Marine Etablissement Amsterdam",
          "type": "Feature"
         },
         {
          "date": "2018-11",
          "geometry": {
           "coordinates": [
            4.492073,
            52.158342
           ],
           "type": "Point"
          },
          "lat": 52.158342,
          "locatie": "Etablissement Einstein, Leiden, Netherlands",
          "lon": 4.492073,
          "median": 0.00014788749103900045,
          "ministerie": "Def",
          "project": "Marine Etablissement Amsterdam",
          "type": "Feature"
         },
         {
          "date": "2018-12",
          "geometry": {
           "coordinates": [
            4.492073,
            52.158342
           ],
           "type": "Point"
          },
          "lat": 52.158342,
          "locatie": "Etablissement Einstein, Leiden, Netherlands",
          "lon": 4.492073,
          "median": 9.724443225422874e-05,
          "ministerie": "Def",
          "project": "Marine Etablissement Amsterdam",
          "type": "Feature"
         },
         {
          "date": "2019-01",
          "geometry": {
           "coordinates": [
            4.492073,
            52.158342
           ],
           "type": "Point"
          },
          "lat": 52.158342,
          "locatie": "Etablissement Einstein, Leiden, Netherlands",
          "lon": 4.492073,
          "median": 5.963588409940712e-05,
          "ministerie": "Def",
          "project": "Marine Etablissement Amsterdam",
          "type": "Feature"
         },
         {
          "date": "2019-02",
          "geometry": {
           "coordinates": [
            4.492073,
            52.158342
           ],
           "type": "Point"
          },
          "lat": 52.158342,
          "locatie": "Etablissement Einstein, Leiden, Netherlands",
          "lon": 4.492073,
          "median": 0.00015475287630993943,
          "ministerie": "Def",
          "project": "Marine Etablissement Amsterdam",
          "type": "Feature"
         },
         {
          "date": "2019-03",
          "geometry": {
           "coordinates": [
            4.492073,
            52.158342
           ],
           "type": "Point"
          },
          "lat": 52.158342,
          "locatie": "Etablissement Einstein, Leiden, Netherlands",
          "lon": 4.492073,
          "median": 9.385315231054127e-05,
          "ministerie": "Def",
          "project": "Marine Etablissement Amsterdam",
          "type": "Feature"
         },
         {
          "date": "2019-04",
          "geometry": {
           "coordinates": [
            4.492073,
            52.158342
           ],
           "type": "Point"
          },
          "lat": 52.158342,
          "locatie": "Etablissement Einstein, Leiden, Netherlands",
          "lon": 4.492073,
          "median": 0.0001334982940479447,
          "ministerie": "Def",
          "project": "Marine Etablissement Amsterdam",
          "type": "Feature"
         },
         {
          "date": "2019-05",
          "geometry": {
           "coordinates": [
            4.492073,
            52.158342
           ],
           "type": "Point"
          },
          "lat": 52.158342,
          "locatie": "Etablissement Einstein, Leiden, Netherlands",
          "lon": 4.492073,
          "median": 0.0001142497884021097,
          "ministerie": "Def",
          "project": "Marine Etablissement Amsterdam",
          "type": "Feature"
         },
         {
          "date": "2019-06",
          "geometry": {
           "coordinates": [
            4.492073,
            52.158342
           ],
           "type": "Point"
          },
          "lat": 52.158342,
          "locatie": "Etablissement Einstein, Leiden, Netherlands",
          "lon": 4.492073,
          "median": 0.00011972508487237123,
          "ministerie": "Def",
          "project": "Marine Etablissement Amsterdam",
          "type": "Feature"
         },
         {
          "date": "2019-07",
          "geometry": {
           "coordinates": [
            4.492073,
            52.158342
           ],
           "type": "Point"
          },
          "lat": 52.158342,
          "locatie": "Etablissement Einstein, Leiden, Netherlands",
          "lon": 4.492073,
          "median": 0.00010435311314895256,
          "ministerie": "Def",
          "project": "Marine Etablissement Amsterdam",
          "type": "Feature"
         },
         {
          "date": "2019-08",
          "geometry": {
           "coordinates": [
            4.492073,
            52.158342
           ],
           "type": "Point"
          },
          "lat": 52.158342,
          "locatie": "Etablissement Einstein, Leiden, Netherlands",
          "lon": 4.492073,
          "median": 0.00010595766798360273,
          "ministerie": "Def",
          "project": "Marine Etablissement Amsterdam",
          "type": "Feature"
         },
         {
          "date": "2019-09",
          "geometry": {
           "coordinates": [
            4.492073,
            52.158342
           ],
           "type": "Point"
          },
          "lat": 52.158342,
          "locatie": "Etablissement Einstein, Leiden, Netherlands",
          "lon": 4.492073,
          "median": 7.896795068518259e-05,
          "ministerie": "Def",
          "project": "Marine Etablissement Amsterdam",
          "type": "Feature"
         },
         {
          "date": "2018-07",
          "geometry": {
           "coordinates": [
            3.6185059999999996,
            51.459208000000004
           ],
           "type": "Point"
          },
          "lat": 51.459208000000004,
          "locatie": "Vlissingen, Netherlands",
          "lon": 3.6185059999999996,
          "median": 0.00011702955985280262,
          "ministerie": "Def",
          "project": "Marine Kazerne Vlissingen",
          "type": "Feature"
         },
         {
          "date": "2018-08",
          "geometry": {
           "coordinates": [
            3.6185059999999996,
            51.459208000000004
           ],
           "type": "Point"
          },
          "lat": 51.459208000000004,
          "locatie": "Vlissingen, Netherlands",
          "lon": 3.6185059999999996,
          "median": 0.00010013905013295823,
          "ministerie": "Def",
          "project": "Marine Kazerne Vlissingen",
          "type": "Feature"
         },
         {
          "date": "2018-09",
          "geometry": {
           "coordinates": [
            3.6185059999999996,
            51.459208000000004
           ],
           "type": "Point"
          },
          "lat": 51.459208000000004,
          "locatie": "Vlissingen, Netherlands",
          "lon": 3.6185059999999996,
          "median": 0.0001065545305524391,
          "ministerie": "Def",
          "project": "Marine Kazerne Vlissingen",
          "type": "Feature"
         },
         {
          "date": "2018-10",
          "geometry": {
           "coordinates": [
            3.6185059999999996,
            51.459208000000004
           ],
           "type": "Point"
          },
          "lat": 51.459208000000004,
          "locatie": "Vlissingen, Netherlands",
          "lon": 3.6185059999999996,
          "median": 0.00011125668902341373,
          "ministerie": "Def",
          "project": "Marine Kazerne Vlissingen",
          "type": "Feature"
         },
         {
          "date": "2018-11",
          "geometry": {
           "coordinates": [
            3.6185059999999996,
            51.459208000000004
           ],
           "type": "Point"
          },
          "lat": 51.459208000000004,
          "locatie": "Vlissingen, Netherlands",
          "lon": 3.6185059999999996,
          "median": 0.00013806543976607744,
          "ministerie": "Def",
          "project": "Marine Kazerne Vlissingen",
          "type": "Feature"
         },
         {
          "date": "2018-12",
          "geometry": {
           "coordinates": [
            3.6185059999999996,
            51.459208000000004
           ],
           "type": "Point"
          },
          "lat": 51.459208000000004,
          "locatie": "Vlissingen, Netherlands",
          "lon": 3.6185059999999996,
          "median": 8.818175951389053e-05,
          "ministerie": "Def",
          "project": "Marine Kazerne Vlissingen",
          "type": "Feature"
         },
         {
          "date": "2019-01",
          "geometry": {
           "coordinates": [
            3.6185059999999996,
            51.459208000000004
           ],
           "type": "Point"
          },
          "lat": 51.459208000000004,
          "locatie": "Vlissingen, Netherlands",
          "lon": 3.6185059999999996,
          "median": 7.012090395856782e-05,
          "ministerie": "Def",
          "project": "Marine Kazerne Vlissingen",
          "type": "Feature"
         },
         {
          "date": "2019-02",
          "geometry": {
           "coordinates": [
            3.6185059999999996,
            51.459208000000004
           ],
           "type": "Point"
          },
          "lat": 51.459208000000004,
          "locatie": "Vlissingen, Netherlands",
          "lon": 3.6185059999999996,
          "median": 0.00015585913987999268,
          "ministerie": "Def",
          "project": "Marine Kazerne Vlissingen",
          "type": "Feature"
         },
         {
          "date": "2019-03",
          "geometry": {
           "coordinates": [
            3.6185059999999996,
            51.459208000000004
           ],
           "type": "Point"
          },
          "lat": 51.459208000000004,
          "locatie": "Vlissingen, Netherlands",
          "lon": 3.6185059999999996,
          "median": 9.542635015435326e-05,
          "ministerie": "Def",
          "project": "Marine Kazerne Vlissingen",
          "type": "Feature"
         },
         {
          "date": "2019-04",
          "geometry": {
           "coordinates": [
            3.6185059999999996,
            51.459208000000004
           ],
           "type": "Point"
          },
          "lat": 51.459208000000004,
          "locatie": "Vlissingen, Netherlands",
          "lon": 3.6185059999999996,
          "median": 0.00016570700972806662,
          "ministerie": "Def",
          "project": "Marine Kazerne Vlissingen",
          "type": "Feature"
         },
         {
          "date": "2019-05",
          "geometry": {
           "coordinates": [
            3.6185059999999996,
            51.459208000000004
           ],
           "type": "Point"
          },
          "lat": 51.459208000000004,
          "locatie": "Vlissingen, Netherlands",
          "lon": 3.6185059999999996,
          "median": 0.00010967490966792678,
          "ministerie": "Def",
          "project": "Marine Kazerne Vlissingen",
          "type": "Feature"
         },
         {
          "date": "2019-06",
          "geometry": {
           "coordinates": [
            3.6185059999999996,
            51.459208000000004
           ],
           "type": "Point"
          },
          "lat": 51.459208000000004,
          "locatie": "Vlissingen, Netherlands",
          "lon": 3.6185059999999996,
          "median": 0.000119236851105328,
          "ministerie": "Def",
          "project": "Marine Kazerne Vlissingen",
          "type": "Feature"
         },
         {
          "date": "2019-07",
          "geometry": {
           "coordinates": [
            3.6185059999999996,
            51.459208000000004
           ],
           "type": "Point"
          },
          "lat": 51.459208000000004,
          "locatie": "Vlissingen, Netherlands",
          "lon": 3.6185059999999996,
          "median": 0.00010700852142558758,
          "ministerie": "Def",
          "project": "Marine Kazerne Vlissingen",
          "type": "Feature"
         },
         {
          "date": "2019-08",
          "geometry": {
           "coordinates": [
            3.6185059999999996,
            51.459208000000004
           ],
           "type": "Point"
          },
          "lat": 51.459208000000004,
          "locatie": "Vlissingen, Netherlands",
          "lon": 3.6185059999999996,
          "median": 0.00010979823384895514,
          "ministerie": "Def",
          "project": "Marine Kazerne Vlissingen",
          "type": "Feature"
         },
         {
          "date": "2019-09",
          "geometry": {
           "coordinates": [
            3.6185059999999996,
            51.459208000000004
           ],
           "type": "Point"
          },
          "lat": 51.459208000000004,
          "locatie": "Vlissingen, Netherlands",
          "lon": 3.6185059999999996,
          "median": 9.370298106605761e-05,
          "ministerie": "Def",
          "project": "Marine Kazerne Vlissingen",
          "type": "Feature"
         },
         {
          "date": "2018-07",
          "geometry": {
           "coordinates": [
            4.737929,
            52.960141
           ],
           "type": "Point"
          },
          "lat": 52.960141,
          "locatie": "Fort Erfprins, Den Helder, Netherlands",
          "lon": 4.737929,
          "median": 9.640375668276714e-05,
          "ministerie": "Def",
          "project": "Marinekazerne Erfprins",
          "type": "Feature"
         },
         {
          "date": "2018-08",
          "geometry": {
           "coordinates": [
            4.737929,
            52.960141
           ],
           "type": "Point"
          },
          "lat": 52.960141,
          "locatie": "Fort Erfprins, Den Helder, Netherlands",
          "lon": 4.737929,
          "median": 8.533082655048929e-05,
          "ministerie": "Def",
          "project": "Marinekazerne Erfprins",
          "type": "Feature"
         },
         {
          "date": "2018-09",
          "geometry": {
           "coordinates": [
            4.737929,
            52.960141
           ],
           "type": "Point"
          },
          "lat": 52.960141,
          "locatie": "Fort Erfprins, Den Helder, Netherlands",
          "lon": 4.737929,
          "median": 9.633521768064867e-05,
          "ministerie": "Def",
          "project": "Marinekazerne Erfprins",
          "type": "Feature"
         },
         {
          "date": "2018-10",
          "geometry": {
           "coordinates": [
            4.737929,
            52.960141
           ],
           "type": "Point"
          },
          "lat": 52.960141,
          "locatie": "Fort Erfprins, Den Helder, Netherlands",
          "lon": 4.737929,
          "median": 8.234925105282296e-05,
          "ministerie": "Def",
          "project": "Marinekazerne Erfprins",
          "type": "Feature"
         },
         {
          "date": "2018-11",
          "geometry": {
           "coordinates": [
            4.737929,
            52.960141
           ],
           "type": "Point"
          },
          "lat": 52.960141,
          "locatie": "Fort Erfprins, Den Helder, Netherlands",
          "lon": 4.737929,
          "median": 0.00011063827417018645,
          "ministerie": "Def",
          "project": "Marinekazerne Erfprins",
          "type": "Feature"
         },
         {
          "date": "2018-12",
          "geometry": {
           "coordinates": [
            4.737929,
            52.960141
           ],
           "type": "Point"
          },
          "lat": 52.960141,
          "locatie": "Fort Erfprins, Den Helder, Netherlands",
          "lon": 4.737929,
          "median": 6.83930229570251e-05,
          "ministerie": "Def",
          "project": "Marinekazerne Erfprins",
          "type": "Feature"
         },
         {
          "date": "2019-01",
          "geometry": {
           "coordinates": [
            4.737929,
            52.960141
           ],
           "type": "Point"
          },
          "lat": 52.960141,
          "locatie": "Fort Erfprins, Den Helder, Netherlands",
          "lon": 4.737929,
          "median": 4.2558737965987657e-05,
          "ministerie": "Def",
          "project": "Marinekazerne Erfprins",
          "type": "Feature"
         },
         {
          "date": "2019-02",
          "geometry": {
           "coordinates": [
            4.737929,
            52.960141
           ],
           "type": "Point"
          },
          "lat": 52.960141,
          "locatie": "Fort Erfprins, Den Helder, Netherlands",
          "lon": 4.737929,
          "median": 0.0001318398796847519,
          "ministerie": "Def",
          "project": "Marinekazerne Erfprins",
          "type": "Feature"
         },
         {
          "date": "2019-03",
          "geometry": {
           "coordinates": [
            4.737929,
            52.960141
           ],
           "type": "Point"
          },
          "lat": 52.960141,
          "locatie": "Fort Erfprins, Den Helder, Netherlands",
          "lon": 4.737929,
          "median": 7.735051622148603e-05,
          "ministerie": "Def",
          "project": "Marinekazerne Erfprins",
          "type": "Feature"
         },
         {
          "date": "2019-04",
          "geometry": {
           "coordinates": [
            4.737929,
            52.960141
           ],
           "type": "Point"
          },
          "lat": 52.960141,
          "locatie": "Fort Erfprins, Den Helder, Netherlands",
          "lon": 4.737929,
          "median": 9.818152368079708e-05,
          "ministerie": "Def",
          "project": "Marinekazerne Erfprins",
          "type": "Feature"
         },
         {
          "date": "2019-05",
          "geometry": {
           "coordinates": [
            4.737929,
            52.960141
           ],
           "type": "Point"
          },
          "lat": 52.960141,
          "locatie": "Fort Erfprins, Den Helder, Netherlands",
          "lon": 4.737929,
          "median": 9.596192899287255e-05,
          "ministerie": "Def",
          "project": "Marinekazerne Erfprins",
          "type": "Feature"
         },
         {
          "date": "2019-06",
          "geometry": {
           "coordinates": [
            4.737929,
            52.960141
           ],
           "type": "Point"
          },
          "lat": 52.960141,
          "locatie": "Fort Erfprins, Den Helder, Netherlands",
          "lon": 4.737929,
          "median": 0.00010594195109760212,
          "ministerie": "Def",
          "project": "Marinekazerne Erfprins",
          "type": "Feature"
         },
         {
          "date": "2019-07",
          "geometry": {
           "coordinates": [
            4.737929,
            52.960141
           ],
           "type": "Point"
          },
          "lat": 52.960141,
          "locatie": "Fort Erfprins, Den Helder, Netherlands",
          "lon": 4.737929,
          "median": 9.459755525125661e-05,
          "ministerie": "Def",
          "project": "Marinekazerne Erfprins",
          "type": "Feature"
         },
         {
          "date": "2019-08",
          "geometry": {
           "coordinates": [
            4.737929,
            52.960141
           ],
           "type": "Point"
          },
          "lat": 52.960141,
          "locatie": "Fort Erfprins, Den Helder, Netherlands",
          "lon": 4.737929,
          "median": 9.194759658172721e-05,
          "ministerie": "Def",
          "project": "Marinekazerne Erfprins",
          "type": "Feature"
         },
         {
          "date": "2019-09",
          "geometry": {
           "coordinates": [
            4.737929,
            52.960141
           ],
           "type": "Point"
          },
          "lat": 52.960141,
          "locatie": "Fort Erfprins, Den Helder, Netherlands",
          "lon": 4.737929,
          "median": 7.585146642311041e-05,
          "ministerie": "Def",
          "project": "Marinekazerne Erfprins",
          "type": "Feature"
         },
         {
          "date": "2018-07",
          "geometry": {
           "coordinates": [
            6.393889,
            53.040779
           ],
           "type": "Point"
          },
          "lat": 53.040779,
          "locatie": "Veenhuizen, Netherlands",
          "lon": 6.393889,
          "median": 9.361045780949816e-05,
          "ministerie": "Def",
          "project": "MMC-Veenhuizen",
          "type": "Feature"
         },
         {
          "date": "2018-08",
          "geometry": {
           "coordinates": [
            6.393889,
            53.040779
           ],
           "type": "Point"
          },
          "lat": 53.040779,
          "locatie": "Veenhuizen, Netherlands",
          "lon": 6.393889,
          "median": 9.109784840121823e-05,
          "ministerie": "Def",
          "project": "MMC-Veenhuizen",
          "type": "Feature"
         },
         {
          "date": "2018-09",
          "geometry": {
           "coordinates": [
            6.393889,
            53.040779
           ],
           "type": "Point"
          },
          "lat": 53.040779,
          "locatie": "Veenhuizen, Netherlands",
          "lon": 6.393889,
          "median": 0.00011108128039300285,
          "ministerie": "Def",
          "project": "MMC-Veenhuizen",
          "type": "Feature"
         },
         {
          "date": "2018-10",
          "geometry": {
           "coordinates": [
            6.393889,
            53.040779
           ],
           "type": "Point"
          },
          "lat": 53.040779,
          "locatie": "Veenhuizen, Netherlands",
          "lon": 6.393889,
          "median": 8.957985213631835e-05,
          "ministerie": "Def",
          "project": "MMC-Veenhuizen",
          "type": "Feature"
         },
         {
          "date": "2018-11",
          "geometry": {
           "coordinates": [
            6.393889,
            53.040779
           ],
           "type": "Point"
          },
          "lat": 53.040779,
          "locatie": "Veenhuizen, Netherlands",
          "lon": 6.393889,
          "median": 0.00010506336548132822,
          "ministerie": "Def",
          "project": "MMC-Veenhuizen",
          "type": "Feature"
         },
         {
          "date": "2018-12",
          "geometry": {
           "coordinates": [
            6.393889,
            53.040779
           ],
           "type": "Point"
          },
          "lat": 53.040779,
          "locatie": "Veenhuizen, Netherlands",
          "lon": 6.393889,
          "median": 8.043580601224676e-05,
          "ministerie": "Def",
          "project": "MMC-Veenhuizen",
          "type": "Feature"
         },
         {
          "date": "2019-01",
          "geometry": {
           "coordinates": [
            6.393889,
            53.040779
           ],
           "type": "Point"
          },
          "lat": 53.040779,
          "locatie": "Veenhuizen, Netherlands",
          "lon": 6.393889,
          "median": 4.676217600449947e-05,
          "ministerie": "Def",
          "project": "MMC-Veenhuizen",
          "type": "Feature"
         },
         {
          "date": "2019-02",
          "geometry": {
           "coordinates": [
            6.393889,
            53.040779
           ],
           "type": "Point"
          },
          "lat": 53.040779,
          "locatie": "Veenhuizen, Netherlands",
          "lon": 6.393889,
          "median": 0.0001335135893896222,
          "ministerie": "Def",
          "project": "MMC-Veenhuizen",
          "type": "Feature"
         },
         {
          "date": "2019-03",
          "geometry": {
           "coordinates": [
            6.393889,
            53.040779
           ],
           "type": "Point"
          },
          "lat": 53.040779,
          "locatie": "Veenhuizen, Netherlands",
          "lon": 6.393889,
          "median": 7.017826257516073e-05,
          "ministerie": "Def",
          "project": "MMC-Veenhuizen",
          "type": "Feature"
         },
         {
          "date": "2019-04",
          "geometry": {
           "coordinates": [
            6.393889,
            53.040779
           ],
           "type": "Point"
          },
          "lat": 53.040779,
          "locatie": "Veenhuizen, Netherlands",
          "lon": 6.393889,
          "median": 9.99791010392612e-05,
          "ministerie": "Def",
          "project": "MMC-Veenhuizen",
          "type": "Feature"
         },
         {
          "date": "2019-05",
          "geometry": {
           "coordinates": [
            6.393889,
            53.040779
           ],
           "type": "Point"
          },
          "lat": 53.040779,
          "locatie": "Veenhuizen, Netherlands",
          "lon": 6.393889,
          "median": 9.600864723324776e-05,
          "ministerie": "Def",
          "project": "MMC-Veenhuizen",
          "type": "Feature"
         },
         {
          "date": "2019-06",
          "geometry": {
           "coordinates": [
            6.393889,
            53.040779
           ],
           "type": "Point"
          },
          "lat": 53.040779,
          "locatie": "Veenhuizen, Netherlands",
          "lon": 6.393889,
          "median": 9.575870887246378e-05,
          "ministerie": "Def",
          "project": "MMC-Veenhuizen",
          "type": "Feature"
         },
         {
          "date": "2019-07",
          "geometry": {
           "coordinates": [
            6.393889,
            53.040779
           ],
           "type": "Point"
          },
          "lat": 53.040779,
          "locatie": "Veenhuizen, Netherlands",
          "lon": 6.393889,
          "median": 8.704460622305216e-05,
          "ministerie": "Def",
          "project": "MMC-Veenhuizen",
          "type": "Feature"
         },
         {
          "date": "2019-08",
          "geometry": {
           "coordinates": [
            6.393889,
            53.040779
           ],
           "type": "Point"
          },
          "lat": 53.040779,
          "locatie": "Veenhuizen, Netherlands",
          "lon": 6.393889,
          "median": 9.898417372576252e-05,
          "ministerie": "Def",
          "project": "MMC-Veenhuizen",
          "type": "Feature"
         },
         {
          "date": "2019-09",
          "geometry": {
           "coordinates": [
            6.393889,
            53.040779
           ],
           "type": "Point"
          },
          "lat": 53.040779,
          "locatie": "Veenhuizen, Netherlands",
          "lon": 6.393889,
          "median": 7.43517882310121e-05,
          "ministerie": "Def",
          "project": "MMC-Veenhuizen",
          "type": "Feature"
         },
         {
          "date": "2018-07",
          "geometry": {
           "coordinates": [
            5.340987,
            51.482686
           ],
           "type": "Point"
          },
          "lat": 51.482686,
          "locatie": "Verspreide huizen Zuid-Oirschotse Heide, Oirschot, Netherlands",
          "lon": 5.340987,
          "median": 0.00012902278289807077,
          "ministerie": "Def",
          "project": "OT Oirschotse Heide",
          "type": "Feature"
         },
         {
          "date": "2018-08",
          "geometry": {
           "coordinates": [
            5.340987,
            51.482686
           ],
           "type": "Point"
          },
          "lat": 51.482686,
          "locatie": "Verspreide huizen Zuid-Oirschotse Heide, Oirschot, Netherlands",
          "lon": 5.340987,
          "median": 0.000105734907165223,
          "ministerie": "Def",
          "project": "OT Oirschotse Heide",
          "type": "Feature"
         },
         {
          "date": "2018-09",
          "geometry": {
           "coordinates": [
            5.340987,
            51.482686
           ],
           "type": "Point"
          },
          "lat": 51.482686,
          "locatie": "Verspreide huizen Zuid-Oirschotse Heide, Oirschot, Netherlands",
          "lon": 5.340987,
          "median": 0.00013605067501216755,
          "ministerie": "Def",
          "project": "OT Oirschotse Heide",
          "type": "Feature"
         },
         {
          "date": "2018-10",
          "geometry": {
           "coordinates": [
            5.340987,
            51.482686
           ],
           "type": "Point"
          },
          "lat": 51.482686,
          "locatie": "Verspreide huizen Zuid-Oirschotse Heide, Oirschot, Netherlands",
          "lon": 5.340987,
          "median": 0.0001308558266741929,
          "ministerie": "Def",
          "project": "OT Oirschotse Heide",
          "type": "Feature"
         },
         {
          "date": "2018-11",
          "geometry": {
           "coordinates": [
            5.340987,
            51.482686
           ],
           "type": "Point"
          },
          "lat": 51.482686,
          "locatie": "Verspreide huizen Zuid-Oirschotse Heide, Oirschot, Netherlands",
          "lon": 5.340987,
          "median": 0.00013920979108661413,
          "ministerie": "Def",
          "project": "OT Oirschotse Heide",
          "type": "Feature"
         },
         {
          "date": "2018-12",
          "geometry": {
           "coordinates": [
            5.340987,
            51.482686
           ],
           "type": "Point"
          },
          "lat": 51.482686,
          "locatie": "Verspreide huizen Zuid-Oirschotse Heide, Oirschot, Netherlands",
          "lon": 5.340987,
          "median": 0.00012158098979853094,
          "ministerie": "Def",
          "project": "OT Oirschotse Heide",
          "type": "Feature"
         },
         {
          "date": "2019-01",
          "geometry": {
           "coordinates": [
            5.340987,
            51.482686
           ],
           "type": "Point"
          },
          "lat": 51.482686,
          "locatie": "Verspreide huizen Zuid-Oirschotse Heide, Oirschot, Netherlands",
          "lon": 5.340987,
          "median": 0.00011017077874026108,
          "ministerie": "Def",
          "project": "OT Oirschotse Heide",
          "type": "Feature"
         },
         {
          "date": "2019-02",
          "geometry": {
           "coordinates": [
            5.340987,
            51.482686
           ],
           "type": "Point"
          },
          "lat": 51.482686,
          "locatie": "Verspreide huizen Zuid-Oirschotse Heide, Oirschot, Netherlands",
          "lon": 5.340987,
          "median": 0.00013647537815898982,
          "ministerie": "Def",
          "project": "OT Oirschotse Heide",
          "type": "Feature"
         },
         {
          "date": "2019-03",
          "geometry": {
           "coordinates": [
            5.340987,
            51.482686
           ],
           "type": "Point"
          },
          "lat": 51.482686,
          "locatie": "Verspreide huizen Zuid-Oirschotse Heide, Oirschot, Netherlands",
          "lon": 5.340987,
          "median": 0.00011939655291061652,
          "ministerie": "Def",
          "project": "OT Oirschotse Heide",
          "type": "Feature"
         },
         {
          "date": "2019-04",
          "geometry": {
           "coordinates": [
            5.340987,
            51.482686
           ],
           "type": "Point"
          },
          "lat": 51.482686,
          "locatie": "Verspreide huizen Zuid-Oirschotse Heide, Oirschot, Netherlands",
          "lon": 5.340987,
          "median": 0.00014514541210899735,
          "ministerie": "Def",
          "project": "OT Oirschotse Heide",
          "type": "Feature"
         },
         {
          "date": "2019-05",
          "geometry": {
           "coordinates": [
            5.340987,
            51.482686
           ],
           "type": "Point"
          },
          "lat": 51.482686,
          "locatie": "Verspreide huizen Zuid-Oirschotse Heide, Oirschot, Netherlands",
          "lon": 5.340987,
          "median": 0.00012493523172452115,
          "ministerie": "Def",
          "project": "OT Oirschotse Heide",
          "type": "Feature"
         },
         {
          "date": "2019-06",
          "geometry": {
           "coordinates": [
            5.340987,
            51.482686
           ],
           "type": "Point"
          },
          "lat": 51.482686,
          "locatie": "Verspreide huizen Zuid-Oirschotse Heide, Oirschot, Netherlands",
          "lon": 5.340987,
          "median": 0.00011502827692311257,
          "ministerie": "Def",
          "project": "OT Oirschotse Heide",
          "type": "Feature"
         },
         {
          "date": "2019-07",
          "geometry": {
           "coordinates": [
            5.340987,
            51.482686
           ],
           "type": "Point"
          },
          "lat": 51.482686,
          "locatie": "Verspreide huizen Zuid-Oirschotse Heide, Oirschot, Netherlands",
          "lon": 5.340987,
          "median": 0.00011085706093857402,
          "ministerie": "Def",
          "project": "OT Oirschotse Heide",
          "type": "Feature"
         },
         {
          "date": "2019-08",
          "geometry": {
           "coordinates": [
            5.340987,
            51.482686
           ],
           "type": "Point"
          },
          "lat": 51.482686,
          "locatie": "Verspreide huizen Zuid-Oirschotse Heide, Oirschot, Netherlands",
          "lon": 5.340987,
          "median": 0.00011273714309567798,
          "ministerie": "Def",
          "project": "OT Oirschotse Heide",
          "type": "Feature"
         },
         {
          "date": "2019-09",
          "geometry": {
           "coordinates": [
            5.340987,
            51.482686
           ],
           "type": "Point"
          },
          "lat": 51.482686,
          "locatie": "Verspreide huizen Zuid-Oirschotse Heide, Oirschot, Netherlands",
          "lon": 5.340987,
          "median": 9.230757110134107e-05,
          "ministerie": "Def",
          "project": "OT Oirschotse Heide",
          "type": "Feature"
         },
         {
          "date": "2018-07",
          "geometry": {
           "coordinates": [
            4.658658999999999,
            52.765042
           ],
           "type": "Point"
          },
          "lat": 52.765042,
          "locatie": "Petten, Netherlands",
          "lon": 4.658658999999999,
          "median": 9.900684837371617e-05,
          "ministerie": "Def",
          "project": "Petten KM",
          "type": "Feature"
         },
         {
          "date": "2018-07",
          "geometry": {
           "coordinates": [
            4.680028,
            52.78469499999999
           ],
           "type": "Point"
          },
          "lat": 52.78469499999999,
          "locatie": "Petten, Netherlands",
          "lon": 4.680028,
          "median": 9.900684837371617e-05,
          "ministerie": "Def",
          "project": "Petten KM",
          "type": "Feature"
         },
         {
          "date": "2018-07",
          "geometry": {
           "coordinates": [
            4.658658999999999,
            52.765042
           ],
           "type": "Point"
          },
          "lat": 52.765042,
          "locatie": "Petten, Netherlands",
          "lon": 4.658658999999999,
          "median": 9.890645653034102e-05,
          "ministerie": "VWS",
          "project": "Pallas medische isotopenreactor",
          "type": "Feature"
         },
         {
          "date": "2018-07",
          "geometry": {
           "coordinates": [
            4.680028,
            52.78469499999999
           ],
           "type": "Point"
          },
          "lat": 52.78469499999999,
          "locatie": "Petten, Netherlands",
          "lon": 4.680028,
          "median": 9.890645653034102e-05,
          "ministerie": "VWS",
          "project": "Pallas medische isotopenreactor",
          "type": "Feature"
         },
         {
          "date": "2018-08",
          "geometry": {
           "coordinates": [
            4.658658999999999,
            52.765042
           ],
           "type": "Point"
          },
          "lat": 52.765042,
          "locatie": "Petten, Netherlands",
          "lon": 4.658658999999999,
          "median": 8.556970715289935e-05,
          "ministerie": "Def",
          "project": "Petten KM",
          "type": "Feature"
         },
         {
          "date": "2018-08",
          "geometry": {
           "coordinates": [
            4.680028,
            52.78469499999999
           ],
           "type": "Point"
          },
          "lat": 52.78469499999999,
          "locatie": "Petten, Netherlands",
          "lon": 4.680028,
          "median": 8.556970715289935e-05,
          "ministerie": "Def",
          "project": "Petten KM",
          "type": "Feature"
         },
         {
          "date": "2018-08",
          "geometry": {
           "coordinates": [
            4.658658999999999,
            52.765042
           ],
           "type": "Point"
          },
          "lat": 52.765042,
          "locatie": "Petten, Netherlands",
          "lon": 4.658658999999999,
          "median": 8.507728759302725e-05,
          "ministerie": "VWS",
          "project": "Pallas medische isotopenreactor",
          "type": "Feature"
         },
         {
          "date": "2018-08",
          "geometry": {
           "coordinates": [
            4.680028,
            52.78469499999999
           ],
           "type": "Point"
          },
          "lat": 52.78469499999999,
          "locatie": "Petten, Netherlands",
          "lon": 4.680028,
          "median": 8.507728759302725e-05,
          "ministerie": "VWS",
          "project": "Pallas medische isotopenreactor",
          "type": "Feature"
         },
         {
          "date": "2018-09",
          "geometry": {
           "coordinates": [
            4.658658999999999,
            52.765042
           ],
           "type": "Point"
          },
          "lat": 52.765042,
          "locatie": "Petten, Netherlands",
          "lon": 4.658658999999999,
          "median": 0.0001008362669381313,
          "ministerie": "Def",
          "project": "Petten KM",
          "type": "Feature"
         },
         {
          "date": "2018-09",
          "geometry": {
           "coordinates": [
            4.680028,
            52.78469499999999
           ],
           "type": "Point"
          },
          "lat": 52.78469499999999,
          "locatie": "Petten, Netherlands",
          "lon": 4.680028,
          "median": 0.0001008362669381313,
          "ministerie": "Def",
          "project": "Petten KM",
          "type": "Feature"
         },
         {
          "date": "2018-09",
          "geometry": {
           "coordinates": [
            4.658658999999999,
            52.765042
           ],
           "type": "Point"
          },
          "lat": 52.765042,
          "locatie": "Petten, Netherlands",
          "lon": 4.658658999999999,
          "median": 0.00010063561421702616,
          "ministerie": "VWS",
          "project": "Pallas medische isotopenreactor",
          "type": "Feature"
         },
         {
          "date": "2018-09",
          "geometry": {
           "coordinates": [
            4.680028,
            52.78469499999999
           ],
           "type": "Point"
          },
          "lat": 52.78469499999999,
          "locatie": "Petten, Netherlands",
          "lon": 4.680028,
          "median": 0.00010063561421702616,
          "ministerie": "VWS",
          "project": "Pallas medische isotopenreactor",
          "type": "Feature"
         },
         {
          "date": "2018-10",
          "geometry": {
           "coordinates": [
            4.658658999999999,
            52.765042
           ],
           "type": "Point"
          },
          "lat": 52.765042,
          "locatie": "Petten, Netherlands",
          "lon": 4.658658999999999,
          "median": 8.452720857650631e-05,
          "ministerie": "Def",
          "project": "Petten KM",
          "type": "Feature"
         },
         {
          "date": "2018-10",
          "geometry": {
           "coordinates": [
            4.680028,
            52.78469499999999
           ],
           "type": "Point"
          },
          "lat": 52.78469499999999,
          "locatie": "Petten, Netherlands",
          "lon": 4.680028,
          "median": 8.452720857650631e-05,
          "ministerie": "Def",
          "project": "Petten KM",
          "type": "Feature"
         },
         {
          "date": "2018-10",
          "geometry": {
           "coordinates": [
            4.658658999999999,
            52.765042
           ],
           "type": "Point"
          },
          "lat": 52.765042,
          "locatie": "Petten, Netherlands",
          "lon": 4.658658999999999,
          "median": 8.364240056835115e-05,
          "ministerie": "VWS",
          "project": "Pallas medische isotopenreactor",
          "type": "Feature"
         },
         {
          "date": "2018-10",
          "geometry": {
           "coordinates": [
            4.680028,
            52.78469499999999
           ],
           "type": "Point"
          },
          "lat": 52.78469499999999,
          "locatie": "Petten, Netherlands",
          "lon": 4.680028,
          "median": 8.364240056835115e-05,
          "ministerie": "VWS",
          "project": "Pallas medische isotopenreactor",
          "type": "Feature"
         },
         {
          "date": "2018-11",
          "geometry": {
           "coordinates": [
            4.658658999999999,
            52.765042
           ],
           "type": "Point"
          },
          "lat": 52.765042,
          "locatie": "Petten, Netherlands",
          "lon": 4.658658999999999,
          "median": 0.00012064869473285087,
          "ministerie": "Def",
          "project": "Petten KM",
          "type": "Feature"
         },
         {
          "date": "2018-11",
          "geometry": {
           "coordinates": [
            4.680028,
            52.78469499999999
           ],
           "type": "Point"
          },
          "lat": 52.78469499999999,
          "locatie": "Petten, Netherlands",
          "lon": 4.680028,
          "median": 0.00012064869473285087,
          "ministerie": "Def",
          "project": "Petten KM",
          "type": "Feature"
         },
         {
          "date": "2018-11",
          "geometry": {
           "coordinates": [
            4.658658999999999,
            52.765042
           ],
           "type": "Point"
          },
          "lat": 52.765042,
          "locatie": "Petten, Netherlands",
          "lon": 4.658658999999999,
          "median": 0.00011680598254315555,
          "ministerie": "VWS",
          "project": "Pallas medische isotopenreactor",
          "type": "Feature"
         },
         {
          "date": "2018-11",
          "geometry": {
           "coordinates": [
            4.680028,
            52.78469499999999
           ],
           "type": "Point"
          },
          "lat": 52.78469499999999,
          "locatie": "Petten, Netherlands",
          "lon": 4.680028,
          "median": 0.00011680598254315555,
          "ministerie": "VWS",
          "project": "Pallas medische isotopenreactor",
          "type": "Feature"
         },
         {
          "date": "2018-12",
          "geometry": {
           "coordinates": [
            4.658658999999999,
            52.765042
           ],
           "type": "Point"
          },
          "lat": 52.765042,
          "locatie": "Petten, Netherlands",
          "lon": 4.658658999999999,
          "median": 7.99791669123806e-05,
          "ministerie": "Def",
          "project": "Petten KM",
          "type": "Feature"
         },
         {
          "date": "2018-12",
          "geometry": {
           "coordinates": [
            4.680028,
            52.78469499999999
           ],
           "type": "Point"
          },
          "lat": 52.78469499999999,
          "locatie": "Petten, Netherlands",
          "lon": 4.680028,
          "median": 7.99791669123806e-05,
          "ministerie": "Def",
          "project": "Petten KM",
          "type": "Feature"
         },
         {
          "date": "2018-12",
          "geometry": {
           "coordinates": [
            4.658658999999999,
            52.765042
           ],
           "type": "Point"
          },
          "lat": 52.765042,
          "locatie": "Petten, Netherlands",
          "lon": 4.658658999999999,
          "median": 7.739644347792206e-05,
          "ministerie": "VWS",
          "project": "Pallas medische isotopenreactor",
          "type": "Feature"
         },
         {
          "date": "2018-12",
          "geometry": {
           "coordinates": [
            4.680028,
            52.78469499999999
           ],
           "type": "Point"
          },
          "lat": 52.78469499999999,
          "locatie": "Petten, Netherlands",
          "lon": 4.680028,
          "median": 7.739644347792206e-05,
          "ministerie": "VWS",
          "project": "Pallas medische isotopenreactor",
          "type": "Feature"
         },
         {
          "date": "2019-01",
          "geometry": {
           "coordinates": [
            4.658658999999999,
            52.765042
           ],
           "type": "Point"
          },
          "lat": 52.765042,
          "locatie": "Petten, Netherlands",
          "lon": 4.658658999999999,
          "median": 5.14961939158311e-05,
          "ministerie": "Def",
          "project": "Petten KM",
          "type": "Feature"
         },
         {
          "date": "2019-01",
          "geometry": {
           "coordinates": [
            4.680028,
            52.78469499999999
           ],
           "type": "Point"
          },
          "lat": 52.78469499999999,
          "locatie": "Petten, Netherlands",
          "lon": 4.680028,
          "median": 5.14961939158311e-05,
          "ministerie": "Def",
          "project": "Petten KM",
          "type": "Feature"
         },
         {
          "date": "2019-01",
          "geometry": {
           "coordinates": [
            4.658658999999999,
            52.765042
           ],
           "type": "Point"
          },
          "lat": 52.765042,
          "locatie": "Petten, Netherlands",
          "lon": 4.658658999999999,
          "median": 5.126029869961066e-05,
          "ministerie": "VWS",
          "project": "Pallas medische isotopenreactor",
          "type": "Feature"
         },
         {
          "date": "2019-01",
          "geometry": {
           "coordinates": [
            4.680028,
            52.78469499999999
           ],
           "type": "Point"
          },
          "lat": 52.78469499999999,
          "locatie": "Petten, Netherlands",
          "lon": 4.680028,
          "median": 5.126029869961066e-05,
          "ministerie": "VWS",
          "project": "Pallas medische isotopenreactor",
          "type": "Feature"
         },
         {
          "date": "2019-02",
          "geometry": {
           "coordinates": [
            4.658658999999999,
            52.765042
           ],
           "type": "Point"
          },
          "lat": 52.765042,
          "locatie": "Petten, Netherlands",
          "lon": 4.658658999999999,
          "median": 0.00012428246775147018,
          "ministerie": "Def",
          "project": "Petten KM",
          "type": "Feature"
         },
         {
          "date": "2019-02",
          "geometry": {
           "coordinates": [
            4.680028,
            52.78469499999999
           ],
           "type": "Point"
          },
          "lat": 52.78469499999999,
          "locatie": "Petten, Netherlands",
          "lon": 4.680028,
          "median": 0.00012428246775147018,
          "ministerie": "Def",
          "project": "Petten KM",
          "type": "Feature"
         },
         {
          "date": "2019-02",
          "geometry": {
           "coordinates": [
            4.658658999999999,
            52.765042
           ],
           "type": "Point"
          },
          "lat": 52.765042,
          "locatie": "Petten, Netherlands",
          "lon": 4.658658999999999,
          "median": 0.00012335433742927788,
          "ministerie": "VWS",
          "project": "Pallas medische isotopenreactor",
          "type": "Feature"
         },
         {
          "date": "2019-02",
          "geometry": {
           "coordinates": [
            4.680028,
            52.78469499999999
           ],
           "type": "Point"
          },
          "lat": 52.78469499999999,
          "locatie": "Petten, Netherlands",
          "lon": 4.680028,
          "median": 0.00012335433742927788,
          "ministerie": "VWS",
          "project": "Pallas medische isotopenreactor",
          "type": "Feature"
         },
         {
          "date": "2019-03",
          "geometry": {
           "coordinates": [
            4.658658999999999,
            52.765042
           ],
           "type": "Point"
          },
          "lat": 52.765042,
          "locatie": "Petten, Netherlands",
          "lon": 4.658658999999999,
          "median": 7.86646386909155e-05,
          "ministerie": "Def",
          "project": "Petten KM",
          "type": "Feature"
         },
         {
          "date": "2019-03",
          "geometry": {
           "coordinates": [
            4.680028,
            52.78469499999999
           ],
           "type": "Point"
          },
          "lat": 52.78469499999999,
          "locatie": "Petten, Netherlands",
          "lon": 4.680028,
          "median": 7.86646386909155e-05,
          "ministerie": "Def",
          "project": "Petten KM",
          "type": "Feature"
         },
         {
          "date": "2019-03",
          "geometry": {
           "coordinates": [
            4.658658999999999,
            52.765042
           ],
           "type": "Point"
          },
          "lat": 52.765042,
          "locatie": "Petten, Netherlands",
          "lon": 4.658658999999999,
          "median": 7.86646386909155e-05,
          "ministerie": "VWS",
          "project": "Pallas medische isotopenreactor",
          "type": "Feature"
         },
         {
          "date": "2019-03",
          "geometry": {
           "coordinates": [
            4.680028,
            52.78469499999999
           ],
           "type": "Point"
          },
          "lat": 52.78469499999999,
          "locatie": "Petten, Netherlands",
          "lon": 4.680028,
          "median": 7.86646386909155e-05,
          "ministerie": "VWS",
          "project": "Pallas medische isotopenreactor",
          "type": "Feature"
         },
         {
          "date": "2019-04",
          "geometry": {
           "coordinates": [
            4.658658999999999,
            52.765042
           ],
           "type": "Point"
          },
          "lat": 52.765042,
          "locatie": "Petten, Netherlands",
          "lon": 4.658658999999999,
          "median": 0.00010217707081006863,
          "ministerie": "Def",
          "project": "Petten KM",
          "type": "Feature"
         },
         {
          "date": "2019-04",
          "geometry": {
           "coordinates": [
            4.680028,
            52.78469499999999
           ],
           "type": "Point"
          },
          "lat": 52.78469499999999,
          "locatie": "Petten, Netherlands",
          "lon": 4.680028,
          "median": 0.00010217707081006863,
          "ministerie": "Def",
          "project": "Petten KM",
          "type": "Feature"
         },
         {
          "date": "2019-04",
          "geometry": {
           "coordinates": [
            4.658658999999999,
            52.765042
           ],
           "type": "Point"
          },
          "lat": 52.765042,
          "locatie": "Petten, Netherlands",
          "lon": 4.658658999999999,
          "median": 0.00010153986600184007,
          "ministerie": "VWS",
          "project": "Pallas medische isotopenreactor",
          "type": "Feature"
         },
         {
          "date": "2019-04",
          "geometry": {
           "coordinates": [
            4.680028,
            52.78469499999999
           ],
           "type": "Point"
          },
          "lat": 52.78469499999999,
          "locatie": "Petten, Netherlands",
          "lon": 4.680028,
          "median": 0.00010153986600184007,
          "ministerie": "VWS",
          "project": "Pallas medische isotopenreactor",
          "type": "Feature"
         },
         {
          "date": "2019-05",
          "geometry": {
           "coordinates": [
            4.658658999999999,
            52.765042
           ],
           "type": "Point"
          },
          "lat": 52.765042,
          "locatie": "Petten, Netherlands",
          "lon": 4.658658999999999,
          "median": 0.00010056340790423715,
          "ministerie": "Def",
          "project": "Petten KM",
          "type": "Feature"
         },
         {
          "date": "2019-05",
          "geometry": {
           "coordinates": [
            4.680028,
            52.78469499999999
           ],
           "type": "Point"
          },
          "lat": 52.78469499999999,
          "locatie": "Petten, Netherlands",
          "lon": 4.680028,
          "median": 0.00010056340790423715,
          "ministerie": "Def",
          "project": "Petten KM",
          "type": "Feature"
         },
         {
          "date": "2019-05",
          "geometry": {
           "coordinates": [
            4.658658999999999,
            52.765042
           ],
           "type": "Point"
          },
          "lat": 52.765042,
          "locatie": "Petten, Netherlands",
          "lon": 4.658658999999999,
          "median": 9.925367703544907e-05,
          "ministerie": "VWS",
          "project": "Pallas medische isotopenreactor",
          "type": "Feature"
         },
         {
          "date": "2019-05",
          "geometry": {
           "coordinates": [
            4.680028,
            52.78469499999999
           ],
           "type": "Point"
          },
          "lat": 52.78469499999999,
          "locatie": "Petten, Netherlands",
          "lon": 4.680028,
          "median": 9.925367703544907e-05,
          "ministerie": "VWS",
          "project": "Pallas medische isotopenreactor",
          "type": "Feature"
         },
         {
          "date": "2019-06",
          "geometry": {
           "coordinates": [
            4.658658999999999,
            52.765042
           ],
           "type": "Point"
          },
          "lat": 52.765042,
          "locatie": "Petten, Netherlands",
          "lon": 4.658658999999999,
          "median": 0.00010928790658726666,
          "ministerie": "Def",
          "project": "Petten KM",
          "type": "Feature"
         },
         {
          "date": "2019-06",
          "geometry": {
           "coordinates": [
            4.680028,
            52.78469499999999
           ],
           "type": "Point"
          },
          "lat": 52.78469499999999,
          "locatie": "Petten, Netherlands",
          "lon": 4.680028,
          "median": 0.00010928790658726666,
          "ministerie": "Def",
          "project": "Petten KM",
          "type": "Feature"
         },
         {
          "date": "2019-06",
          "geometry": {
           "coordinates": [
            4.658658999999999,
            52.765042
           ],
           "type": "Point"
          },
          "lat": 52.765042,
          "locatie": "Petten, Netherlands",
          "lon": 4.658658999999999,
          "median": 0.00010834213554294429,
          "ministerie": "VWS",
          "project": "Pallas medische isotopenreactor",
          "type": "Feature"
         },
         {
          "date": "2019-06",
          "geometry": {
           "coordinates": [
            4.680028,
            52.78469499999999
           ],
           "type": "Point"
          },
          "lat": 52.78469499999999,
          "locatie": "Petten, Netherlands",
          "lon": 4.680028,
          "median": 0.00010834213554294429,
          "ministerie": "VWS",
          "project": "Pallas medische isotopenreactor",
          "type": "Feature"
         },
         {
          "date": "2019-07",
          "geometry": {
           "coordinates": [
            4.658658999999999,
            52.765042
           ],
           "type": "Point"
          },
          "lat": 52.765042,
          "locatie": "Petten, Netherlands",
          "lon": 4.658658999999999,
          "median": 9.679631248108487e-05,
          "ministerie": "Def",
          "project": "Petten KM",
          "type": "Feature"
         },
         {
          "date": "2019-07",
          "geometry": {
           "coordinates": [
            4.680028,
            52.78469499999999
           ],
           "type": "Point"
          },
          "lat": 52.78469499999999,
          "locatie": "Petten, Netherlands",
          "lon": 4.680028,
          "median": 9.679631248108487e-05,
          "ministerie": "Def",
          "project": "Petten KM",
          "type": "Feature"
         },
         {
          "date": "2019-07",
          "geometry": {
           "coordinates": [
            4.658658999999999,
            52.765042
           ],
           "type": "Point"
          },
          "lat": 52.765042,
          "locatie": "Petten, Netherlands",
          "lon": 4.658658999999999,
          "median": 9.622108273983038e-05,
          "ministerie": "VWS",
          "project": "Pallas medische isotopenreactor",
          "type": "Feature"
         },
         {
          "date": "2019-07",
          "geometry": {
           "coordinates": [
            4.680028,
            52.78469499999999
           ],
           "type": "Point"
          },
          "lat": 52.78469499999999,
          "locatie": "Petten, Netherlands",
          "lon": 4.680028,
          "median": 9.622108273983038e-05,
          "ministerie": "VWS",
          "project": "Pallas medische isotopenreactor",
          "type": "Feature"
         },
         {
          "date": "2019-08",
          "geometry": {
           "coordinates": [
            4.658658999999999,
            52.765042
           ],
           "type": "Point"
          },
          "lat": 52.765042,
          "locatie": "Petten, Netherlands",
          "lon": 4.658658999999999,
          "median": 9.448339533883378e-05,
          "ministerie": "Def",
          "project": "Petten KM",
          "type": "Feature"
         },
         {
          "date": "2019-08",
          "geometry": {
           "coordinates": [
            4.680028,
            52.78469499999999
           ],
           "type": "Point"
          },
          "lat": 52.78469499999999,
          "locatie": "Petten, Netherlands",
          "lon": 4.680028,
          "median": 9.448339533883378e-05,
          "ministerie": "Def",
          "project": "Petten KM",
          "type": "Feature"
         },
         {
          "date": "2019-08",
          "geometry": {
           "coordinates": [
            4.658658999999999,
            52.765042
           ],
           "type": "Point"
          },
          "lat": 52.765042,
          "locatie": "Petten, Netherlands",
          "lon": 4.658658999999999,
          "median": 9.386241748951215e-05,
          "ministerie": "VWS",
          "project": "Pallas medische isotopenreactor",
          "type": "Feature"
         },
         {
          "date": "2019-08",
          "geometry": {
           "coordinates": [
            4.680028,
            52.78469499999999
           ],
           "type": "Point"
          },
          "lat": 52.78469499999999,
          "locatie": "Petten, Netherlands",
          "lon": 4.680028,
          "median": 9.386241748951215e-05,
          "ministerie": "VWS",
          "project": "Pallas medische isotopenreactor",
          "type": "Feature"
         },
         {
          "date": "2019-09",
          "geometry": {
           "coordinates": [
            4.658658999999999,
            52.765042
           ],
           "type": "Point"
          },
          "lat": 52.765042,
          "locatie": "Petten, Netherlands",
          "lon": 4.658658999999999,
          "median": 7.09171371917008e-05,
          "ministerie": "Def",
          "project": "Petten KM",
          "type": "Feature"
         },
         {
          "date": "2019-09",
          "geometry": {
           "coordinates": [
            4.680028,
            52.78469499999999
           ],
           "type": "Point"
          },
          "lat": 52.78469499999999,
          "locatie": "Petten, Netherlands",
          "lon": 4.680028,
          "median": 7.09171371917008e-05,
          "ministerie": "Def",
          "project": "Petten KM",
          "type": "Feature"
         },
         {
          "date": "2019-09",
          "geometry": {
           "coordinates": [
            4.658658999999999,
            52.765042
           ],
           "type": "Point"
          },
          "lat": 52.765042,
          "locatie": "Petten, Netherlands",
          "lon": 4.658658999999999,
          "median": 7.112956985330193e-05,
          "ministerie": "VWS",
          "project": "Pallas medische isotopenreactor",
          "type": "Feature"
         },
         {
          "date": "2019-09",
          "geometry": {
           "coordinates": [
            4.680028,
            52.78469499999999
           ],
           "type": "Point"
          },
          "lat": 52.78469499999999,
          "locatie": "Petten, Netherlands",
          "lon": 4.680028,
          "median": 7.112956985330193e-05,
          "ministerie": "VWS",
          "project": "Pallas medische isotopenreactor",
          "type": "Feature"
         },
         {
          "date": "2018-07",
          "geometry": {
           "coordinates": [
            5.309955,
            52.124157000000004
           ],
           "type": "Point"
          },
          "lat": 52.124157000000004,
          "locatie": "Soesterberg, Netherlands",
          "lon": 5.309955,
          "median": 0.00011522789736362145,
          "ministerie": "Def",
          "project": "Regio Soesterberg",
          "type": "Feature"
         },
         {
          "date": "2018-08",
          "geometry": {
           "coordinates": [
            5.309955,
            52.124157000000004
           ],
           "type": "Point"
          },
          "lat": 52.124157000000004,
          "locatie": "Soesterberg, Netherlands",
          "lon": 5.309955,
          "median": 0.00011212640814175397,
          "ministerie": "Def",
          "project": "Regio Soesterberg",
          "type": "Feature"
         },
         {
          "date": "2018-09",
          "geometry": {
           "coordinates": [
            5.309955,
            52.124157000000004
           ],
           "type": "Point"
          },
          "lat": 52.124157000000004,
          "locatie": "Soesterberg, Netherlands",
          "lon": 5.309955,
          "median": 0.00014753898615727523,
          "ministerie": "Def",
          "project": "Regio Soesterberg",
          "type": "Feature"
         },
         {
          "date": "2018-10",
          "geometry": {
           "coordinates": [
            5.309955,
            52.124157000000004
           ],
           "type": "Point"
          },
          "lat": 52.124157000000004,
          "locatie": "Soesterberg, Netherlands",
          "lon": 5.309955,
          "median": 0.00011116129489549024,
          "ministerie": "Def",
          "project": "Regio Soesterberg",
          "type": "Feature"
         },
         {
          "date": "2018-11",
          "geometry": {
           "coordinates": [
            5.309955,
            52.124157000000004
           ],
           "type": "Point"
          },
          "lat": 52.124157000000004,
          "locatie": "Soesterberg, Netherlands",
          "lon": 5.309955,
          "median": 0.00013226306163973954,
          "ministerie": "Def",
          "project": "Regio Soesterberg",
          "type": "Feature"
         },
         {
          "date": "2018-12",
          "geometry": {
           "coordinates": [
            5.309955,
            52.124157000000004
           ],
           "type": "Point"
          },
          "lat": 52.124157000000004,
          "locatie": "Soesterberg, Netherlands",
          "lon": 5.309955,
          "median": 0.0001069749885652782,
          "ministerie": "Def",
          "project": "Regio Soesterberg",
          "type": "Feature"
         },
         {
          "date": "2019-01",
          "geometry": {
           "coordinates": [
            5.309955,
            52.124157000000004
           ],
           "type": "Point"
          },
          "lat": 52.124157000000004,
          "locatie": "Soesterberg, Netherlands",
          "lon": 5.309955,
          "median": 8.686284168923046e-05,
          "ministerie": "Def",
          "project": "Regio Soesterberg",
          "type": "Feature"
         },
         {
          "date": "2019-02",
          "geometry": {
           "coordinates": [
            5.309955,
            52.124157000000004
           ],
           "type": "Point"
          },
          "lat": 52.124157000000004,
          "locatie": "Soesterberg, Netherlands",
          "lon": 5.309955,
          "median": 0.0001389666102373485,
          "ministerie": "Def",
          "project": "Regio Soesterberg",
          "type": "Feature"
         },
         {
          "date": "2019-03",
          "geometry": {
           "coordinates": [
            5.309955,
            52.124157000000004
           ],
           "type": "Point"
          },
          "lat": 52.124157000000004,
          "locatie": "Soesterberg, Netherlands",
          "lon": 5.309955,
          "median": 0.00011313036152484589,
          "ministerie": "Def",
          "project": "Regio Soesterberg",
          "type": "Feature"
         },
         {
          "date": "2019-04",
          "geometry": {
           "coordinates": [
            5.309955,
            52.124157000000004
           ],
           "type": "Point"
          },
          "lat": 52.124157000000004,
          "locatie": "Soesterberg, Netherlands",
          "lon": 5.309955,
          "median": 0.00011696969886543229,
          "ministerie": "Def",
          "project": "Regio Soesterberg",
          "type": "Feature"
         },
         {
          "date": "2019-05",
          "geometry": {
           "coordinates": [
            5.309955,
            52.124157000000004
           ],
           "type": "Point"
          },
          "lat": 52.124157000000004,
          "locatie": "Soesterberg, Netherlands",
          "lon": 5.309955,
          "median": 0.00011411097106915178,
          "ministerie": "Def",
          "project": "Regio Soesterberg",
          "type": "Feature"
         },
         {
          "date": "2019-06",
          "geometry": {
           "coordinates": [
            5.309955,
            52.124157000000004
           ],
           "type": "Point"
          },
          "lat": 52.124157000000004,
          "locatie": "Soesterberg, Netherlands",
          "lon": 5.309955,
          "median": 0.0001096259303681718,
          "ministerie": "Def",
          "project": "Regio Soesterberg",
          "type": "Feature"
         },
         {
          "date": "2019-07",
          "geometry": {
           "coordinates": [
            5.309955,
            52.124157000000004
           ],
           "type": "Point"
          },
          "lat": 52.124157000000004,
          "locatie": "Soesterberg, Netherlands",
          "lon": 5.309955,
          "median": 0.0001059781070247932,
          "ministerie": "Def",
          "project": "Regio Soesterberg",
          "type": "Feature"
         },
         {
          "date": "2019-08",
          "geometry": {
           "coordinates": [
            5.309955,
            52.124157000000004
           ],
           "type": "Point"
          },
          "lat": 52.124157000000004,
          "locatie": "Soesterberg, Netherlands",
          "lon": 5.309955,
          "median": 0.00011718685091253646,
          "ministerie": "Def",
          "project": "Regio Soesterberg",
          "type": "Feature"
         },
         {
          "date": "2019-09",
          "geometry": {
           "coordinates": [
            5.309955,
            52.124157000000004
           ],
           "type": "Point"
          },
          "lat": 52.124157000000004,
          "locatie": "Soesterberg, Netherlands",
          "lon": 5.309955,
          "median": 0.00010160802412428893,
          "ministerie": "Def",
          "project": "Regio Soesterberg",
          "type": "Feature"
         },
         {
          "date": "2018-07",
          "geometry": {
           "coordinates": [
            4.328997,
            51.395744
           ],
           "type": "Point"
          },
          "lat": 51.395744,
          "locatie": "Ossendrecht, Netherlands",
          "lon": 4.328997,
          "median": 0.00014350477568022922,
          "ministerie": "Def",
          "project": "Schietfaciliteit Ossendrecht",
          "type": "Feature"
         },
         {
          "date": "2018-08",
          "geometry": {
           "coordinates": [
            4.328997,
            51.395744
           ],
           "type": "Point"
          },
          "lat": 51.395744,
          "locatie": "Ossendrecht, Netherlands",
          "lon": 4.328997,
          "median": 0.00011089859557350324,
          "ministerie": "Def",
          "project": "Schietfaciliteit Ossendrecht",
          "type": "Feature"
         },
         {
          "date": "2018-09",
          "geometry": {
           "coordinates": [
            4.328997,
            51.395744
           ],
           "type": "Point"
          },
          "lat": 51.395744,
          "locatie": "Ossendrecht, Netherlands",
          "lon": 4.328997,
          "median": 0.00013625618660883414,
          "ministerie": "Def",
          "project": "Schietfaciliteit Ossendrecht",
          "type": "Feature"
         },
         {
          "date": "2018-10",
          "geometry": {
           "coordinates": [
            4.328997,
            51.395744
           ],
           "type": "Point"
          },
          "lat": 51.395744,
          "locatie": "Ossendrecht, Netherlands",
          "lon": 4.328997,
          "median": 0.00014007144061268045,
          "ministerie": "Def",
          "project": "Schietfaciliteit Ossendrecht",
          "type": "Feature"
         },
         {
          "date": "2018-11",
          "geometry": {
           "coordinates": [
            4.328997,
            51.395744
           ],
           "type": "Point"
          },
          "lat": 51.395744,
          "locatie": "Ossendrecht, Netherlands",
          "lon": 4.328997,
          "median": 0.00017138045392788988,
          "ministerie": "Def",
          "project": "Schietfaciliteit Ossendrecht",
          "type": "Feature"
         },
         {
          "date": "2018-12",
          "geometry": {
           "coordinates": [
            4.328997,
            51.395744
           ],
           "type": "Point"
          },
          "lat": 51.395744,
          "locatie": "Ossendrecht, Netherlands",
          "lon": 4.328997,
          "median": 0.0001133513306983441,
          "ministerie": "Def",
          "project": "Schietfaciliteit Ossendrecht",
          "type": "Feature"
         },
         {
          "date": "2019-01",
          "geometry": {
           "coordinates": [
            4.328997,
            51.395744
           ],
           "type": "Point"
          },
          "lat": 51.395744,
          "locatie": "Ossendrecht, Netherlands",
          "lon": 4.328997,
          "median": 0.00010474414303135809,
          "ministerie": "Def",
          "project": "Schietfaciliteit Ossendrecht",
          "type": "Feature"
         },
         {
          "date": "2019-02",
          "geometry": {
           "coordinates": [
            4.328997,
            51.395744
           ],
           "type": "Point"
          },
          "lat": 51.395744,
          "locatie": "Ossendrecht, Netherlands",
          "lon": 4.328997,
          "median": 0.00017176513118464926,
          "ministerie": "Def",
          "project": "Schietfaciliteit Ossendrecht",
          "type": "Feature"
         },
         {
          "date": "2019-03",
          "geometry": {
           "coordinates": [
            4.328997,
            51.395744
           ],
           "type": "Point"
          },
          "lat": 51.395744,
          "locatie": "Ossendrecht, Netherlands",
          "lon": 4.328997,
          "median": 9.643183277650456e-05,
          "ministerie": "Def",
          "project": "Schietfaciliteit Ossendrecht",
          "type": "Feature"
         },
         {
          "date": "2019-04",
          "geometry": {
           "coordinates": [
            4.328997,
            51.395744
           ],
           "type": "Point"
          },
          "lat": 51.395744,
          "locatie": "Ossendrecht, Netherlands",
          "lon": 4.328997,
          "median": 0.0001473368205989456,
          "ministerie": "Def",
          "project": "Schietfaciliteit Ossendrecht",
          "type": "Feature"
         },
         {
          "date": "2019-05",
          "geometry": {
           "coordinates": [
            4.328997,
            51.395744
           ],
           "type": "Point"
          },
          "lat": 51.395744,
          "locatie": "Ossendrecht, Netherlands",
          "lon": 4.328997,
          "median": 0.00013276316136180726,
          "ministerie": "Def",
          "project": "Schietfaciliteit Ossendrecht",
          "type": "Feature"
         },
         {
          "date": "2019-06",
          "geometry": {
           "coordinates": [
            4.328997,
            51.395744
           ],
           "type": "Point"
          },
          "lat": 51.395744,
          "locatie": "Ossendrecht, Netherlands",
          "lon": 4.328997,
          "median": 0.00013205574941821396,
          "ministerie": "Def",
          "project": "Schietfaciliteit Ossendrecht",
          "type": "Feature"
         },
         {
          "date": "2019-07",
          "geometry": {
           "coordinates": [
            4.328997,
            51.395744
           ],
           "type": "Point"
          },
          "lat": 51.395744,
          "locatie": "Ossendrecht, Netherlands",
          "lon": 4.328997,
          "median": 0.000120375188998878,
          "ministerie": "Def",
          "project": "Schietfaciliteit Ossendrecht",
          "type": "Feature"
         },
         {
          "date": "2019-08",
          "geometry": {
           "coordinates": [
            4.328997,
            51.395744
           ],
           "type": "Point"
          },
          "lat": 51.395744,
          "locatie": "Ossendrecht, Netherlands",
          "lon": 4.328997,
          "median": 0.00012614846534080606,
          "ministerie": "Def",
          "project": "Schietfaciliteit Ossendrecht",
          "type": "Feature"
         },
         {
          "date": "2019-09",
          "geometry": {
           "coordinates": [
            4.328997,
            51.395744
           ],
           "type": "Point"
          },
          "lat": 51.395744,
          "locatie": "Ossendrecht, Netherlands",
          "lon": 4.328997,
          "median": 0.00011046664327130705,
          "ministerie": "Def",
          "project": "Schietfaciliteit Ossendrecht",
          "type": "Feature"
         },
         {
          "date": "2018-07",
          "geometry": {
           "coordinates": [
            6.293895,
            52.67355
           ],
           "type": "Point"
          },
          "lat": 52.67355,
          "locatie": "Nic Oostinghweg, De Wijk, Netherlands",
          "lon": 6.293895,
          "median": 0.00010211675888333501,
          "ministerie": "Def",
          "project": "USAG nic oost",
          "type": "Feature"
         },
         {
          "date": "2018-08",
          "geometry": {
           "coordinates": [
            6.293895,
            52.67355
           ],
           "type": "Point"
          },
          "lat": 52.67355,
          "locatie": "Nic Oostinghweg, De Wijk, Netherlands",
          "lon": 6.293895,
          "median": 9.97438817780216e-05,
          "ministerie": "Def",
          "project": "USAG nic oost",
          "type": "Feature"
         },
         {
          "date": "2018-09",
          "geometry": {
           "coordinates": [
            6.293895,
            52.67355
           ],
           "type": "Point"
          },
          "lat": 52.67355,
          "locatie": "Nic Oostinghweg, De Wijk, Netherlands",
          "lon": 6.293895,
          "median": 0.00012223362567611521,
          "ministerie": "Def",
          "project": "USAG nic oost",
          "type": "Feature"
         },
         {
          "date": "2018-10",
          "geometry": {
           "coordinates": [
            6.293895,
            52.67355
           ],
           "type": "Point"
          },
          "lat": 52.67355,
          "locatie": "Nic Oostinghweg, De Wijk, Netherlands",
          "lon": 6.293895,
          "median": 9.731778302827868e-05,
          "ministerie": "Def",
          "project": "USAG nic oost",
          "type": "Feature"
         },
         {
          "date": "2018-11",
          "geometry": {
           "coordinates": [
            6.293895,
            52.67355
           ],
           "type": "Point"
          },
          "lat": 52.67355,
          "locatie": "Nic Oostinghweg, De Wijk, Netherlands",
          "lon": 6.293895,
          "median": 0.00011924289996722968,
          "ministerie": "Def",
          "project": "USAG nic oost",
          "type": "Feature"
         },
         {
          "date": "2018-12",
          "geometry": {
           "coordinates": [
            6.293895,
            52.67355
           ],
           "type": "Point"
          },
          "lat": 52.67355,
          "locatie": "Nic Oostinghweg, De Wijk, Netherlands",
          "lon": 6.293895,
          "median": 7.858823146461938e-05,
          "ministerie": "Def",
          "project": "USAG nic oost",
          "type": "Feature"
         },
         {
          "date": "2019-01",
          "geometry": {
           "coordinates": [
            6.293895,
            52.67355
           ],
           "type": "Point"
          },
          "lat": 52.67355,
          "locatie": "Nic Oostinghweg, De Wijk, Netherlands",
          "lon": 6.293895,
          "median": 6.805124173264688e-05,
          "ministerie": "Def",
          "project": "USAG nic oost",
          "type": "Feature"
         },
         {
          "date": "2019-02",
          "geometry": {
           "coordinates": [
            6.293895,
            52.67355
           ],
           "type": "Point"
          },
          "lat": 52.67355,
          "locatie": "Nic Oostinghweg, De Wijk, Netherlands",
          "lon": 6.293895,
          "median": 0.00013222689108411398,
          "ministerie": "Def",
          "project": "USAG nic oost",
          "type": "Feature"
         },
         {
          "date": "2019-03",
          "geometry": {
           "coordinates": [
            6.293895,
            52.67355
           ],
           "type": "Point"
          },
          "lat": 52.67355,
          "locatie": "Nic Oostinghweg, De Wijk, Netherlands",
          "lon": 6.293895,
          "median": 8.530739854540993e-05,
          "ministerie": "Def",
          "project": "USAG nic oost",
          "type": "Feature"
         },
         {
          "date": "2019-04",
          "geometry": {
           "coordinates": [
            6.293895,
            52.67355
           ],
           "type": "Point"
          },
          "lat": 52.67355,
          "locatie": "Nic Oostinghweg, De Wijk, Netherlands",
          "lon": 6.293895,
          "median": 0.0001033664991649114,
          "ministerie": "Def",
          "project": "USAG nic oost",
          "type": "Feature"
         },
         {
          "date": "2019-05",
          "geometry": {
           "coordinates": [
            6.293895,
            52.67355
           ],
           "type": "Point"
          },
          "lat": 52.67355,
          "locatie": "Nic Oostinghweg, De Wijk, Netherlands",
          "lon": 6.293895,
          "median": 9.560637408867478e-05,
          "ministerie": "Def",
          "project": "USAG nic oost",
          "type": "Feature"
         },
         {
          "date": "2019-06",
          "geometry": {
           "coordinates": [
            6.293895,
            52.67355
           ],
           "type": "Point"
          },
          "lat": 52.67355,
          "locatie": "Nic Oostinghweg, De Wijk, Netherlands",
          "lon": 6.293895,
          "median": 9.745957504492253e-05,
          "ministerie": "Def",
          "project": "USAG nic oost",
          "type": "Feature"
         },
         {
          "date": "2019-07",
          "geometry": {
           "coordinates": [
            6.293895,
            52.67355
           ],
           "type": "Point"
          },
          "lat": 52.67355,
          "locatie": "Nic Oostinghweg, De Wijk, Netherlands",
          "lon": 6.293895,
          "median": 8.985476550145846e-05,
          "ministerie": "Def",
          "project": "USAG nic oost",
          "type": "Feature"
         },
         {
          "date": "2019-08",
          "geometry": {
           "coordinates": [
            6.293895,
            52.67355
           ],
           "type": "Point"
          },
          "lat": 52.67355,
          "locatie": "Nic Oostinghweg, De Wijk, Netherlands",
          "lon": 6.293895,
          "median": 0.00010381830582994805,
          "ministerie": "Def",
          "project": "USAG nic oost",
          "type": "Feature"
         },
         {
          "date": "2019-09",
          "geometry": {
           "coordinates": [
            6.293895,
            52.67355
           ],
           "type": "Point"
          },
          "lat": 52.67355,
          "locatie": "Nic Oostinghweg, De Wijk, Netherlands",
          "lon": 6.293895,
          "median": 7.642523996764794e-05,
          "ministerie": "Def",
          "project": "USAG nic oost",
          "type": "Feature"
         },
         {
          "date": "2018-07",
          "geometry": {
           "coordinates": [
            4.781179,
            52.922178
           ],
           "type": "Point"
          },
          "lat": 52.922178,
          "locatie": "De Kooy, Den Helder, Netherlands",
          "lon": 4.781179,
          "median": 9.700413562079152e-05,
          "ministerie": "Def",
          "project": "Vliegbasis De Kooy",
          "type": "Feature"
         },
         {
          "date": "2018-08",
          "geometry": {
           "coordinates": [
            4.781179,
            52.922178
           ],
           "type": "Point"
          },
          "lat": 52.922178,
          "locatie": "De Kooy, Den Helder, Netherlands",
          "lon": 4.781179,
          "median": 8.548219557269476e-05,
          "ministerie": "Def",
          "project": "Vliegbasis De Kooy",
          "type": "Feature"
         },
         {
          "date": "2018-09",
          "geometry": {
           "coordinates": [
            4.781179,
            52.922178
           ],
           "type": "Point"
          },
          "lat": 52.922178,
          "locatie": "De Kooy, Den Helder, Netherlands",
          "lon": 4.781179,
          "median": 9.620236232876778e-05,
          "ministerie": "Def",
          "project": "Vliegbasis De Kooy",
          "type": "Feature"
         },
         {
          "date": "2018-10",
          "geometry": {
           "coordinates": [
            4.781179,
            52.922178
           ],
           "type": "Point"
          },
          "lat": 52.922178,
          "locatie": "De Kooy, Den Helder, Netherlands",
          "lon": 4.781179,
          "median": 8.18789796593262e-05,
          "ministerie": "Def",
          "project": "Vliegbasis De Kooy",
          "type": "Feature"
         },
         {
          "date": "2018-11",
          "geometry": {
           "coordinates": [
            4.781179,
            52.922178
           ],
           "type": "Point"
          },
          "lat": 52.922178,
          "locatie": "De Kooy, Den Helder, Netherlands",
          "lon": 4.781179,
          "median": 0.00011023317140573788,
          "ministerie": "Def",
          "project": "Vliegbasis De Kooy",
          "type": "Feature"
         },
         {
          "date": "2018-12",
          "geometry": {
           "coordinates": [
            4.781179,
            52.922178
           ],
           "type": "Point"
          },
          "lat": 52.922178,
          "locatie": "De Kooy, Den Helder, Netherlands",
          "lon": 4.781179,
          "median": 6.91112599544733e-05,
          "ministerie": "Def",
          "project": "Vliegbasis De Kooy",
          "type": "Feature"
         },
         {
          "date": "2019-01",
          "geometry": {
           "coordinates": [
            4.781179,
            52.922178
           ],
           "type": "Point"
          },
          "lat": 52.922178,
          "locatie": "De Kooy, Den Helder, Netherlands",
          "lon": 4.781179,
          "median": 4.32882995044443e-05,
          "ministerie": "Def",
          "project": "Vliegbasis De Kooy",
          "type": "Feature"
         },
         {
          "date": "2019-02",
          "geometry": {
           "coordinates": [
            4.781179,
            52.922178
           ],
           "type": "Point"
          },
          "lat": 52.922178,
          "locatie": "De Kooy, Den Helder, Netherlands",
          "lon": 4.781179,
          "median": 0.0001294356977291696,
          "ministerie": "Def",
          "project": "Vliegbasis De Kooy",
          "type": "Feature"
         },
         {
          "date": "2019-03",
          "geometry": {
           "coordinates": [
            4.781179,
            52.922178
           ],
           "type": "Point"
          },
          "lat": 52.922178,
          "locatie": "De Kooy, Den Helder, Netherlands",
          "lon": 4.781179,
          "median": 7.803524463593001e-05,
          "ministerie": "Def",
          "project": "Vliegbasis De Kooy",
          "type": "Feature"
         },
         {
          "date": "2019-04",
          "geometry": {
           "coordinates": [
            4.781179,
            52.922178
           ],
           "type": "Point"
          },
          "lat": 52.922178,
          "locatie": "De Kooy, Den Helder, Netherlands",
          "lon": 4.781179,
          "median": 9.766077897581366e-05,
          "ministerie": "Def",
          "project": "Vliegbasis De Kooy",
          "type": "Feature"
         },
         {
          "date": "2019-05",
          "geometry": {
           "coordinates": [
            4.781179,
            52.922178
           ],
           "type": "Point"
          },
          "lat": 52.922178,
          "locatie": "De Kooy, Den Helder, Netherlands",
          "lon": 4.781179,
          "median": 9.539034585102869e-05,
          "ministerie": "Def",
          "project": "Vliegbasis De Kooy",
          "type": "Feature"
         },
         {
          "date": "2019-06",
          "geometry": {
           "coordinates": [
            4.781179,
            52.922178
           ],
           "type": "Point"
          },
          "lat": 52.922178,
          "locatie": "De Kooy, Den Helder, Netherlands",
          "lon": 4.781179,
          "median": 0.00010519560597390044,
          "ministerie": "Def",
          "project": "Vliegbasis De Kooy",
          "type": "Feature"
         },
         {
          "date": "2019-07",
          "geometry": {
           "coordinates": [
            4.781179,
            52.922178
           ],
           "type": "Point"
          },
          "lat": 52.922178,
          "locatie": "De Kooy, Den Helder, Netherlands",
          "lon": 4.781179,
          "median": 9.368865588339255e-05,
          "ministerie": "Def",
          "project": "Vliegbasis De Kooy",
          "type": "Feature"
         },
         {
          "date": "2019-08",
          "geometry": {
           "coordinates": [
            4.781179,
            52.922178
           ],
           "type": "Point"
          },
          "lat": 52.922178,
          "locatie": "De Kooy, Den Helder, Netherlands",
          "lon": 4.781179,
          "median": 9.19655872161924e-05,
          "ministerie": "Def",
          "project": "Vliegbasis De Kooy",
          "type": "Feature"
         },
         {
          "date": "2019-09",
          "geometry": {
           "coordinates": [
            4.781179,
            52.922178
           ],
           "type": "Point"
          },
          "lat": 52.922178,
          "locatie": "De Kooy, Den Helder, Netherlands",
          "lon": 4.781179,
          "median": 7.636685977069127e-05,
          "ministerie": "Def",
          "project": "Vliegbasis De Kooy",
          "type": "Feature"
         },
         {
          "date": "2018-07",
          "geometry": {
           "coordinates": [
            5.376337,
            51.452541
           ],
           "type": "Point"
          },
          "lat": 51.452541,
          "locatie": "Eindhoven Airport, Eindhoven, Netherlands",
          "lon": 5.376337,
          "median": 0.0001302856097887789,
          "ministerie": "Def",
          "project": "Vliegbasis Eindhoven",
          "type": "Feature"
         },
         {
          "date": "2018-08",
          "geometry": {
           "coordinates": [
            5.376337,
            51.452541
           ],
           "type": "Point"
          },
          "lat": 51.452541,
          "locatie": "Eindhoven Airport, Eindhoven, Netherlands",
          "lon": 5.376337,
          "median": 0.00010644431369269904,
          "ministerie": "Def",
          "project": "Vliegbasis Eindhoven",
          "type": "Feature"
         },
         {
          "date": "2018-09",
          "geometry": {
           "coordinates": [
            5.376337,
            51.452541
           ],
           "type": "Point"
          },
          "lat": 51.452541,
          "locatie": "Eindhoven Airport, Eindhoven, Netherlands",
          "lon": 5.376337,
          "median": 0.00013696818496100605,
          "ministerie": "Def",
          "project": "Vliegbasis Eindhoven",
          "type": "Feature"
         },
         {
          "date": "2018-10",
          "geometry": {
           "coordinates": [
            5.376337,
            51.452541
           ],
           "type": "Point"
          },
          "lat": 51.452541,
          "locatie": "Eindhoven Airport, Eindhoven, Netherlands",
          "lon": 5.376337,
          "median": 0.00012972598779015243,
          "ministerie": "Def",
          "project": "Vliegbasis Eindhoven",
          "type": "Feature"
         },
         {
          "date": "2018-11",
          "geometry": {
           "coordinates": [
            5.376337,
            51.452541
           ],
           "type": "Point"
          },
          "lat": 51.452541,
          "locatie": "Eindhoven Airport, Eindhoven, Netherlands",
          "lon": 5.376337,
          "median": 0.0001426671806257218,
          "ministerie": "Def",
          "project": "Vliegbasis Eindhoven",
          "type": "Feature"
         },
         {
          "date": "2018-12",
          "geometry": {
           "coordinates": [
            5.376337,
            51.452541
           ],
           "type": "Point"
          },
          "lat": 51.452541,
          "locatie": "Eindhoven Airport, Eindhoven, Netherlands",
          "lon": 5.376337,
          "median": 0.00012487258936744183,
          "ministerie": "Def",
          "project": "Vliegbasis Eindhoven",
          "type": "Feature"
         },
         {
          "date": "2019-01",
          "geometry": {
           "coordinates": [
            5.376337,
            51.452541
           ],
           "type": "Point"
          },
          "lat": 51.452541,
          "locatie": "Eindhoven Airport, Eindhoven, Netherlands",
          "lon": 5.376337,
          "median": 0.0001172179897742251,
          "ministerie": "Def",
          "project": "Vliegbasis Eindhoven",
          "type": "Feature"
         },
         {
          "date": "2019-02",
          "geometry": {
           "coordinates": [
            5.376337,
            51.452541
           ],
           "type": "Point"
          },
          "lat": 51.452541,
          "locatie": "Eindhoven Airport, Eindhoven, Netherlands",
          "lon": 5.376337,
          "median": 0.0001405688355244502,
          "ministerie": "Def",
          "project": "Vliegbasis Eindhoven",
          "type": "Feature"
         },
         {
          "date": "2019-03",
          "geometry": {
           "coordinates": [
            5.376337,
            51.452541
           ],
           "type": "Point"
          },
          "lat": 51.452541,
          "locatie": "Eindhoven Airport, Eindhoven, Netherlands",
          "lon": 5.376337,
          "median": 0.00012098310980945826,
          "ministerie": "Def",
          "project": "Vliegbasis Eindhoven",
          "type": "Feature"
         },
         {
          "date": "2019-04",
          "geometry": {
           "coordinates": [
            5.376337,
            51.452541
           ],
           "type": "Point"
          },
          "lat": 51.452541,
          "locatie": "Eindhoven Airport, Eindhoven, Netherlands",
          "lon": 5.376337,
          "median": 0.00014784437200977168,
          "ministerie": "Def",
          "project": "Vliegbasis Eindhoven",
          "type": "Feature"
         },
         {
          "date": "2019-05",
          "geometry": {
           "coordinates": [
            5.376337,
            51.452541
           ],
           "type": "Point"
          },
          "lat": 51.452541,
          "locatie": "Eindhoven Airport, Eindhoven, Netherlands",
          "lon": 5.376337,
          "median": 0.00012493523172452115,
          "ministerie": "Def",
          "project": "Vliegbasis Eindhoven",
          "type": "Feature"
         },
         {
          "date": "2019-06",
          "geometry": {
           "coordinates": [
            5.376337,
            51.452541
           ],
           "type": "Point"
          },
          "lat": 51.452541,
          "locatie": "Eindhoven Airport, Eindhoven, Netherlands",
          "lon": 5.376337,
          "median": 0.00011464405542938039,
          "ministerie": "Def",
          "project": "Vliegbasis Eindhoven",
          "type": "Feature"
         },
         {
          "date": "2019-07",
          "geometry": {
           "coordinates": [
            5.376337,
            51.452541
           ],
           "type": "Point"
          },
          "lat": 51.452541,
          "locatie": "Eindhoven Airport, Eindhoven, Netherlands",
          "lon": 5.376337,
          "median": 0.00011146291113293489,
          "ministerie": "Def",
          "project": "Vliegbasis Eindhoven",
          "type": "Feature"
         },
         {
          "date": "2019-08",
          "geometry": {
           "coordinates": [
            5.376337,
            51.452541
           ],
           "type": "Point"
          },
          "lat": 51.452541,
          "locatie": "Eindhoven Airport, Eindhoven, Netherlands",
          "lon": 5.376337,
          "median": 0.00011344869411727421,
          "ministerie": "Def",
          "project": "Vliegbasis Eindhoven",
          "type": "Feature"
         },
         {
          "date": "2019-09",
          "geometry": {
           "coordinates": [
            5.376337,
            51.452541
           ],
           "type": "Point"
          },
          "lat": 51.452541,
          "locatie": "Eindhoven Airport, Eindhoven, Netherlands",
          "lon": 5.376337,
          "median": 9.68947740359077e-05,
          "ministerie": "Def",
          "project": "Vliegbasis Eindhoven",
          "type": "Feature"
         },
         {
          "date": "2018-07",
          "geometry": {
           "coordinates": [
            4.925511,
            51.568354
           ],
           "type": "Point"
          },
          "lat": 51.568354,
          "locatie": "Vliegbasis Gilze-Rijen, Rijen, Netherlands",
          "lon": 4.925511,
          "median": 0.00013524365203920752,
          "ministerie": "Def",
          "project": "Vliegbasis Gilze-Rijen",
          "type": "Feature"
         },
         {
          "date": "2018-08",
          "geometry": {
           "coordinates": [
            4.925511,
            51.568354
           ],
           "type": "Point"
          },
          "lat": 51.568354,
          "locatie": "Vliegbasis Gilze-Rijen, Rijen, Netherlands",
          "lon": 4.925511,
          "median": 0.00011631399049869363,
          "ministerie": "Def",
          "project": "Vliegbasis Gilze-Rijen",
          "type": "Feature"
         },
         {
          "date": "2018-09",
          "geometry": {
           "coordinates": [
            4.925511,
            51.568354
           ],
           "type": "Point"
          },
          "lat": 51.568354,
          "locatie": "Vliegbasis Gilze-Rijen, Rijen, Netherlands",
          "lon": 4.925511,
          "median": 0.00014438404645581034,
          "ministerie": "Def",
          "project": "Vliegbasis Gilze-Rijen",
          "type": "Feature"
         },
         {
          "date": "2018-10",
          "geometry": {
           "coordinates": [
            4.925511,
            51.568354
           ],
           "type": "Point"
          },
          "lat": 51.568354,
          "locatie": "Vliegbasis Gilze-Rijen, Rijen, Netherlands",
          "lon": 4.925511,
          "median": 0.00012379082876761937,
          "ministerie": "Def",
          "project": "Vliegbasis Gilze-Rijen",
          "type": "Feature"
         },
         {
          "date": "2018-11",
          "geometry": {
           "coordinates": [
            4.925511,
            51.568354
           ],
           "type": "Point"
          },
          "lat": 51.568354,
          "locatie": "Vliegbasis Gilze-Rijen, Rijen, Netherlands",
          "lon": 4.925511,
          "median": 0.00013768780627287924,
          "ministerie": "Def",
          "project": "Vliegbasis Gilze-Rijen",
          "type": "Feature"
         },
         {
          "date": "2018-12",
          "geometry": {
           "coordinates": [
            4.925511,
            51.568354
           ],
           "type": "Point"
          },
          "lat": 51.568354,
          "locatie": "Vliegbasis Gilze-Rijen, Rijen, Netherlands",
          "lon": 4.925511,
          "median": 0.00011108965393668946,
          "ministerie": "Def",
          "project": "Vliegbasis Gilze-Rijen",
          "type": "Feature"
         },
         {
          "date": "2019-01",
          "geometry": {
           "coordinates": [
            4.925511,
            51.568354
           ],
           "type": "Point"
          },
          "lat": 51.568354,
          "locatie": "Vliegbasis Gilze-Rijen, Rijen, Netherlands",
          "lon": 4.925511,
          "median": 9.525857256804606e-05,
          "ministerie": "Def",
          "project": "Vliegbasis Gilze-Rijen",
          "type": "Feature"
         },
         {
          "date": "2019-02",
          "geometry": {
           "coordinates": [
            4.925511,
            51.568354
           ],
           "type": "Point"
          },
          "lat": 51.568354,
          "locatie": "Vliegbasis Gilze-Rijen, Rijen, Netherlands",
          "lon": 4.925511,
          "median": 0.0001379991736030206,
          "ministerie": "Def",
          "project": "Vliegbasis Gilze-Rijen",
          "type": "Feature"
         },
         {
          "date": "2019-03",
          "geometry": {
           "coordinates": [
            4.925511,
            51.568354
           ],
           "type": "Point"
          },
          "lat": 51.568354,
          "locatie": "Vliegbasis Gilze-Rijen, Rijen, Netherlands",
          "lon": 4.925511,
          "median": 0.00011406528696758,
          "ministerie": "Def",
          "project": "Vliegbasis Gilze-Rijen",
          "type": "Feature"
         },
         {
          "date": "2019-04",
          "geometry": {
           "coordinates": [
            4.925511,
            51.568354
           ],
           "type": "Point"
          },
          "lat": 51.568354,
          "locatie": "Vliegbasis Gilze-Rijen, Rijen, Netherlands",
          "lon": 4.925511,
          "median": 0.00014272722288526964,
          "ministerie": "Def",
          "project": "Vliegbasis Gilze-Rijen",
          "type": "Feature"
         },
         {
          "date": "2019-05",
          "geometry": {
           "coordinates": [
            4.925511,
            51.568354
           ],
           "type": "Point"
          },
          "lat": 51.568354,
          "locatie": "Vliegbasis Gilze-Rijen, Rijen, Netherlands",
          "lon": 4.925511,
          "median": 0.00012754144504946284,
          "ministerie": "Def",
          "project": "Vliegbasis Gilze-Rijen",
          "type": "Feature"
         },
         {
          "date": "2019-06",
          "geometry": {
           "coordinates": [
            4.925511,
            51.568354
           ],
           "type": "Point"
          },
          "lat": 51.568354,
          "locatie": "Vliegbasis Gilze-Rijen, Rijen, Netherlands",
          "lon": 4.925511,
          "median": 0.00011270704389053162,
          "ministerie": "Def",
          "project": "Vliegbasis Gilze-Rijen",
          "type": "Feature"
         },
         {
          "date": "2019-07",
          "geometry": {
           "coordinates": [
            4.925511,
            51.568354
           ],
           "type": "Point"
          },
          "lat": 51.568354,
          "locatie": "Vliegbasis Gilze-Rijen, Rijen, Netherlands",
          "lon": 4.925511,
          "median": 0.00010908717709145914,
          "ministerie": "Def",
          "project": "Vliegbasis Gilze-Rijen",
          "type": "Feature"
         },
         {
          "date": "2019-08",
          "geometry": {
           "coordinates": [
            4.925511,
            51.568354
           ],
           "type": "Point"
          },
          "lat": 51.568354,
          "locatie": "Vliegbasis Gilze-Rijen, Rijen, Netherlands",
          "lon": 4.925511,
          "median": 0.00011704135459081998,
          "ministerie": "Def",
          "project": "Vliegbasis Gilze-Rijen",
          "type": "Feature"
         },
         {
          "date": "2019-09",
          "geometry": {
           "coordinates": [
            4.925511,
            51.568354
           ],
           "type": "Point"
          },
          "lat": 51.568354,
          "locatie": "Vliegbasis Gilze-Rijen, Rijen, Netherlands",
          "lon": 4.925511,
          "median": 9.209810257325323e-05,
          "ministerie": "Def",
          "project": "Vliegbasis Gilze-Rijen",
          "type": "Feature"
         },
         {
          "date": "2018-07",
          "geometry": {
           "coordinates": [
            5.752203,
            53.226239
           ],
           "type": "Point"
          },
          "lat": 53.226239,
          "locatie": "Vliegbasis Leeuwarden, Leeuwarden, Netherlands",
          "lon": 5.752203,
          "median": 9.269404743703884e-05,
          "ministerie": "Def",
          "project": "Vliegbasis Leeuwarden",
          "type": "Feature"
         },
         {
          "date": "2018-08",
          "geometry": {
           "coordinates": [
            5.752203,
            53.226239
           ],
           "type": "Point"
          },
          "lat": 53.226239,
          "locatie": "Vliegbasis Leeuwarden, Leeuwarden, Netherlands",
          "lon": 5.752203,
          "median": 8.331370734657901e-05,
          "ministerie": "Def",
          "project": "Vliegbasis Leeuwarden",
          "type": "Feature"
         },
         {
          "date": "2018-09",
          "geometry": {
           "coordinates": [
            5.752203,
            53.226239
           ],
           "type": "Point"
          },
          "lat": 53.226239,
          "locatie": "Vliegbasis Leeuwarden, Leeuwarden, Netherlands",
          "lon": 5.752203,
          "median": 9.196745403219805e-05,
          "ministerie": "Def",
          "project": "Vliegbasis Leeuwarden",
          "type": "Feature"
         },
         {
          "date": "2018-10",
          "geometry": {
           "coordinates": [
            5.752203,
            53.226239
           ],
           "type": "Point"
          },
          "lat": 53.226239,
          "locatie": "Vliegbasis Leeuwarden, Leeuwarden, Netherlands",
          "lon": 5.752203,
          "median": 8.120200072880834e-05,
          "ministerie": "Def",
          "project": "Vliegbasis Leeuwarden",
          "type": "Feature"
         },
         {
          "date": "2018-11",
          "geometry": {
           "coordinates": [
            5.752203,
            53.226239
           ],
           "type": "Point"
          },
          "lat": 53.226239,
          "locatie": "Vliegbasis Leeuwarden, Leeuwarden, Netherlands",
          "lon": 5.752203,
          "median": 0.00010875092016844543,
          "ministerie": "Def",
          "project": "Vliegbasis Leeuwarden",
          "type": "Feature"
         },
         {
          "date": "2018-12",
          "geometry": {
           "coordinates": [
            5.752203,
            53.226239
           ],
           "type": "Point"
          },
          "lat": 53.226239,
          "locatie": "Vliegbasis Leeuwarden, Leeuwarden, Netherlands",
          "lon": 5.752203,
          "median": 6.817477009661139e-05,
          "ministerie": "Def",
          "project": "Vliegbasis Leeuwarden",
          "type": "Feature"
         },
         {
          "date": "2019-01",
          "geometry": {
           "coordinates": [
            5.752203,
            53.226239
           ],
           "type": "Point"
          },
          "lat": 53.226239,
          "locatie": "Vliegbasis Leeuwarden, Leeuwarden, Netherlands",
          "lon": 5.752203,
          "median": 3.897492933901958e-05,
          "ministerie": "Def",
          "project": "Vliegbasis Leeuwarden",
          "type": "Feature"
         },
         {
          "date": "2019-02",
          "geometry": {
           "coordinates": [
            5.752203,
            53.226239
           ],
           "type": "Point"
          },
          "lat": 53.226239,
          "locatie": "Vliegbasis Leeuwarden, Leeuwarden, Netherlands",
          "lon": 5.752203,
          "median": 0.00012845919388381014,
          "ministerie": "Def",
          "project": "Vliegbasis Leeuwarden",
          "type": "Feature"
         },
         {
          "date": "2019-03",
          "geometry": {
           "coordinates": [
            5.752203,
            53.226239
           ],
           "type": "Point"
          },
          "lat": 53.226239,
          "locatie": "Vliegbasis Leeuwarden, Leeuwarden, Netherlands",
          "lon": 5.752203,
          "median": 6.577598329456934e-05,
          "ministerie": "Def",
          "project": "Vliegbasis Leeuwarden",
          "type": "Feature"
         },
         {
          "date": "2019-04",
          "geometry": {
           "coordinates": [
            5.752203,
            53.226239
           ],
           "type": "Point"
          },
          "lat": 53.226239,
          "locatie": "Vliegbasis Leeuwarden, Leeuwarden, Netherlands",
          "lon": 5.752203,
          "median": 9.103537766418128e-05,
          "ministerie": "Def",
          "project": "Vliegbasis Leeuwarden",
          "type": "Feature"
         },
         {
          "date": "2019-05",
          "geometry": {
           "coordinates": [
            5.752203,
            53.226239
           ],
           "type": "Point"
          },
          "lat": 53.226239,
          "locatie": "Vliegbasis Leeuwarden, Leeuwarden, Netherlands",
          "lon": 5.752203,
          "median": 8.90383641155567e-05,
          "ministerie": "Def",
          "project": "Vliegbasis Leeuwarden",
          "type": "Feature"
         },
         {
          "date": "2019-06",
          "geometry": {
           "coordinates": [
            5.752203,
            53.226239
           ],
           "type": "Point"
          },
          "lat": 53.226239,
          "locatie": "Vliegbasis Leeuwarden, Leeuwarden, Netherlands",
          "lon": 5.752203,
          "median": 9.70271770749234e-05,
          "ministerie": "Def",
          "project": "Vliegbasis Leeuwarden",
          "type": "Feature"
         },
         {
          "date": "2019-07",
          "geometry": {
           "coordinates": [
            5.752203,
            53.226239
           ],
           "type": "Point"
          },
          "lat": 53.226239,
          "locatie": "Vliegbasis Leeuwarden, Leeuwarden, Netherlands",
          "lon": 5.752203,
          "median": 8.627440134583011e-05,
          "ministerie": "Def",
          "project": "Vliegbasis Leeuwarden",
          "type": "Feature"
         },
         {
          "date": "2019-08",
          "geometry": {
           "coordinates": [
            5.752203,
            53.226239
           ],
           "type": "Point"
          },
          "lat": 53.226239,
          "locatie": "Vliegbasis Leeuwarden, Leeuwarden, Netherlands",
          "lon": 5.752203,
          "median": 9.259840278130182e-05,
          "ministerie": "Def",
          "project": "Vliegbasis Leeuwarden",
          "type": "Feature"
         },
         {
          "date": "2019-09",
          "geometry": {
           "coordinates": [
            5.752203,
            53.226239
           ],
           "type": "Point"
          },
          "lat": 53.226239,
          "locatie": "Vliegbasis Leeuwarden, Leeuwarden, Netherlands",
          "lon": 5.752203,
          "median": 6.959862635609841e-05,
          "ministerie": "Def",
          "project": "Vliegbasis Leeuwarden",
          "type": "Feature"
         },
         {
          "date": "2018-07",
          "geometry": {
           "coordinates": [
            5.702765,
            51.658611
           ],
           "type": "Point"
          },
          "lat": 51.658611,
          "locatie": "Vliegbasis Volkel, Volkel, Netherlands",
          "lon": 5.702765,
          "median": 0.00012249152192572623,
          "ministerie": "Def",
          "project": "Vliegbasis Volkel",
          "type": "Feature"
         },
         {
          "date": "2018-08",
          "geometry": {
           "coordinates": [
            5.702765,
            51.658611
           ],
           "type": "Point"
          },
          "lat": 51.658611,
          "locatie": "Vliegbasis Volkel, Volkel, Netherlands",
          "lon": 5.702765,
          "median": 0.00010872691214686158,
          "ministerie": "Def",
          "project": "Vliegbasis Volkel",
          "type": "Feature"
         },
         {
          "date": "2018-09",
          "geometry": {
           "coordinates": [
            5.702765,
            51.658611
           ],
           "type": "Point"
          },
          "lat": 51.658611,
          "locatie": "Vliegbasis Volkel, Volkel, Netherlands",
          "lon": 5.702765,
          "median": 0.00013482733505634393,
          "ministerie": "Def",
          "project": "Vliegbasis Volkel",
          "type": "Feature"
         },
         {
          "date": "2018-10",
          "geometry": {
           "coordinates": [
            5.702765,
            51.658611
           ],
           "type": "Point"
          },
          "lat": 51.658611,
          "locatie": "Vliegbasis Volkel, Volkel, Netherlands",
          "lon": 5.702765,
          "median": 0.00013649341908994936,
          "ministerie": "Def",
          "project": "Vliegbasis Volkel",
          "type": "Feature"
         },
         {
          "date": "2018-11",
          "geometry": {
           "coordinates": [
            5.702765,
            51.658611
           ],
           "type": "Point"
          },
          "lat": 51.658611,
          "locatie": "Vliegbasis Volkel, Volkel, Netherlands",
          "lon": 5.702765,
          "median": 0.00014857630771877357,
          "ministerie": "Def",
          "project": "Vliegbasis Volkel",
          "type": "Feature"
         },
         {
          "date": "2018-12",
          "geometry": {
           "coordinates": [
            5.702765,
            51.658611
           ],
           "type": "Point"
          },
          "lat": 51.658611,
          "locatie": "Vliegbasis Volkel, Volkel, Netherlands",
          "lon": 5.702765,
          "median": 0.0001133538374462856,
          "ministerie": "Def",
          "project": "Vliegbasis Volkel",
          "type": "Feature"
         },
         {
          "date": "2019-01",
          "geometry": {
           "coordinates": [
            5.702765,
            51.658611
           ],
           "type": "Point"
          },
          "lat": 51.658611,
          "locatie": "Vliegbasis Volkel, Volkel, Netherlands",
          "lon": 5.702765,
          "median": 0.00011990870410589835,
          "ministerie": "Def",
          "project": "Vliegbasis Volkel",
          "type": "Feature"
         },
         {
          "date": "2019-02",
          "geometry": {
           "coordinates": [
            5.702765,
            51.658611
           ],
           "type": "Point"
          },
          "lat": 51.658611,
          "locatie": "Vliegbasis Volkel, Volkel, Netherlands",
          "lon": 5.702765,
          "median": 0.00014174640710159933,
          "ministerie": "Def",
          "project": "Vliegbasis Volkel",
          "type": "Feature"
         },
         {
          "date": "2019-03",
          "geometry": {
           "coordinates": [
            5.702765,
            51.658611
           ],
           "type": "Point"
          },
          "lat": 51.658611,
          "locatie": "Vliegbasis Volkel, Volkel, Netherlands",
          "lon": 5.702765,
          "median": 0.00011308595667057348,
          "ministerie": "Def",
          "project": "Vliegbasis Volkel",
          "type": "Feature"
         },
         {
          "date": "2019-04",
          "geometry": {
           "coordinates": [
            5.702765,
            51.658611
           ],
           "type": "Point"
          },
          "lat": 51.658611,
          "locatie": "Vliegbasis Volkel, Volkel, Netherlands",
          "lon": 5.702765,
          "median": 0.00012706786700927427,
          "ministerie": "Def",
          "project": "Vliegbasis Volkel",
          "type": "Feature"
         },
         {
          "date": "2019-05",
          "geometry": {
           "coordinates": [
            5.702765,
            51.658611
           ],
           "type": "Point"
          },
          "lat": 51.658611,
          "locatie": "Vliegbasis Volkel, Volkel, Netherlands",
          "lon": 5.702765,
          "median": 0.00012710706221830408,
          "ministerie": "Def",
          "project": "Vliegbasis Volkel",
          "type": "Feature"
         },
         {
          "date": "2019-06",
          "geometry": {
           "coordinates": [
            5.702765,
            51.658611
           ],
           "type": "Point"
          },
          "lat": 51.658611,
          "locatie": "Vliegbasis Volkel, Volkel, Netherlands",
          "lon": 5.702765,
          "median": 0.00011526526220068695,
          "ministerie": "Def",
          "project": "Vliegbasis Volkel",
          "type": "Feature"
         },
         {
          "date": "2019-07",
          "geometry": {
           "coordinates": [
            5.702765,
            51.658611
           ],
           "type": "Point"
          },
          "lat": 51.658611,
          "locatie": "Vliegbasis Volkel, Volkel, Netherlands",
          "lon": 5.702765,
          "median": 0.00010938233233590426,
          "ministerie": "Def",
          "project": "Vliegbasis Volkel",
          "type": "Feature"
         },
         {
          "date": "2019-08",
          "geometry": {
           "coordinates": [
            5.702765,
            51.658611
           ],
           "type": "Point"
          },
          "lat": 51.658611,
          "locatie": "Vliegbasis Volkel, Volkel, Netherlands",
          "lon": 5.702765,
          "median": 0.0001111795404578613,
          "ministerie": "Def",
          "project": "Vliegbasis Volkel",
          "type": "Feature"
         },
         {
          "date": "2019-09",
          "geometry": {
           "coordinates": [
            5.702765,
            51.658611
           ],
           "type": "Point"
          },
          "lat": 51.658611,
          "locatie": "Vliegbasis Volkel, Volkel, Netherlands",
          "lon": 5.702765,
          "median": 0.00010714889324481318,
          "ministerie": "Def",
          "project": "Vliegbasis Volkel",
          "type": "Feature"
         },
         {
          "date": "2018-07",
          "geometry": {
           "coordinates": [
            4.348619,
            51.430203000000006
           ],
           "type": "Point"
          },
          "lat": 51.430203000000006,
          "locatie": "Vliegbasis Woensdrecht, Hoogerheide, Netherlands",
          "lon": 4.348619,
          "median": 0.00013743460479866734,
          "ministerie": "Def",
          "project": "Vliegbasis Woensdrecht",
          "type": "Feature"
         },
         {
          "date": "2018-08",
          "geometry": {
           "coordinates": [
            4.348619,
            51.430203000000006
           ],
           "type": "Point"
          },
          "lat": 51.430203000000006,
          "locatie": "Vliegbasis Woensdrecht, Hoogerheide, Netherlands",
          "lon": 4.348619,
          "median": 0.00010806844658152657,
          "ministerie": "Def",
          "project": "Vliegbasis Woensdrecht",
          "type": "Feature"
         },
         {
          "date": "2018-09",
          "geometry": {
           "coordinates": [
            4.348619,
            51.430203000000006
           ],
           "type": "Point"
          },
          "lat": 51.430203000000006,
          "locatie": "Vliegbasis Woensdrecht, Hoogerheide, Netherlands",
          "lon": 4.348619,
          "median": 0.00013074267917545512,
          "ministerie": "Def",
          "project": "Vliegbasis Woensdrecht",
          "type": "Feature"
         },
         {
          "date": "2018-10",
          "geometry": {
           "coordinates": [
            4.348619,
            51.430203000000006
           ],
           "type": "Point"
          },
          "lat": 51.430203000000006,
          "locatie": "Vliegbasis Woensdrecht, Hoogerheide, Netherlands",
          "lon": 4.348619,
          "median": 0.00013440564920331013,
          "ministerie": "Def",
          "project": "Vliegbasis Woensdrecht",
          "type": "Feature"
         },
         {
          "date": "2018-11",
          "geometry": {
           "coordinates": [
            4.348619,
            51.430203000000006
           ],
           "type": "Point"
          },
          "lat": 51.430203000000006,
          "locatie": "Vliegbasis Woensdrecht, Hoogerheide, Netherlands",
          "lon": 4.348619,
          "median": 0.0001692278019618243,
          "ministerie": "Def",
          "project": "Vliegbasis Woensdrecht",
          "type": "Feature"
         },
         {
          "date": "2018-12",
          "geometry": {
           "coordinates": [
            4.348619,
            51.430203000000006
           ],
           "type": "Point"
          },
          "lat": 51.430203000000006,
          "locatie": "Vliegbasis Woensdrecht, Hoogerheide, Netherlands",
          "lon": 4.348619,
          "median": 0.00010800357304201354,
          "ministerie": "Def",
          "project": "Vliegbasis Woensdrecht",
          "type": "Feature"
         },
         {
          "date": "2019-01",
          "geometry": {
           "coordinates": [
            4.348619,
            51.430203000000006
           ],
           "type": "Point"
          },
          "lat": 51.430203000000006,
          "locatie": "Vliegbasis Woensdrecht, Hoogerheide, Netherlands",
          "lon": 4.348619,
          "median": 0.00010229177875815285,
          "ministerie": "Def",
          "project": "Vliegbasis Woensdrecht",
          "type": "Feature"
         },
         {
          "date": "2019-02",
          "geometry": {
           "coordinates": [
            4.348619,
            51.430203000000006
           ],
           "type": "Point"
          },
          "lat": 51.430203000000006,
          "locatie": "Vliegbasis Woensdrecht, Hoogerheide, Netherlands",
          "lon": 4.348619,
          "median": 0.00016574935297957884,
          "ministerie": "Def",
          "project": "Vliegbasis Woensdrecht",
          "type": "Feature"
         },
         {
          "date": "2019-03",
          "geometry": {
           "coordinates": [
            4.348619,
            51.430203000000006
           ],
           "type": "Point"
          },
          "lat": 51.430203000000006,
          "locatie": "Vliegbasis Woensdrecht, Hoogerheide, Netherlands",
          "lon": 4.348619,
          "median": 9.454884416731146e-05,
          "ministerie": "Def",
          "project": "Vliegbasis Woensdrecht",
          "type": "Feature"
         },
         {
          "date": "2019-04",
          "geometry": {
           "coordinates": [
            4.348619,
            51.430203000000006
           ],
           "type": "Point"
          },
          "lat": 51.430203000000006,
          "locatie": "Vliegbasis Woensdrecht, Hoogerheide, Netherlands",
          "lon": 4.348619,
          "median": 0.00014689656622618403,
          "ministerie": "Def",
          "project": "Vliegbasis Woensdrecht",
          "type": "Feature"
         },
         {
          "date": "2019-05",
          "geometry": {
           "coordinates": [
            4.348619,
            51.430203000000006
           ],
           "type": "Point"
          },
          "lat": 51.430203000000006,
          "locatie": "Vliegbasis Woensdrecht, Hoogerheide, Netherlands",
          "lon": 4.348619,
          "median": 0.0001319933867606315,
          "ministerie": "Def",
          "project": "Vliegbasis Woensdrecht",
          "type": "Feature"
         },
         {
          "date": "2019-06",
          "geometry": {
           "coordinates": [
            4.348619,
            51.430203000000006
           ],
           "type": "Point"
          },
          "lat": 51.430203000000006,
          "locatie": "Vliegbasis Woensdrecht, Hoogerheide, Netherlands",
          "lon": 4.348619,
          "median": 0.00012344938151768098,
          "ministerie": "Def",
          "project": "Vliegbasis Woensdrecht",
          "type": "Feature"
         },
         {
          "date": "2019-07",
          "geometry": {
           "coordinates": [
            4.348619,
            51.430203000000006
           ],
           "type": "Point"
          },
          "lat": 51.430203000000006,
          "locatie": "Vliegbasis Woensdrecht, Hoogerheide, Netherlands",
          "lon": 4.348619,
          "median": 0.00011517732491483912,
          "ministerie": "Def",
          "project": "Vliegbasis Woensdrecht",
          "type": "Feature"
         },
         {
          "date": "2019-08",
          "geometry": {
           "coordinates": [
            4.348619,
            51.430203000000006
           ],
           "type": "Point"
          },
          "lat": 51.430203000000006,
          "locatie": "Vliegbasis Woensdrecht, Hoogerheide, Netherlands",
          "lon": 4.348619,
          "median": 0.00012206091196276248,
          "ministerie": "Def",
          "project": "Vliegbasis Woensdrecht",
          "type": "Feature"
         },
         {
          "date": "2019-09",
          "geometry": {
           "coordinates": [
            4.348619,
            51.430203000000006
           ],
           "type": "Point"
          },
          "lat": 51.430203000000006,
          "locatie": "Vliegbasis Woensdrecht, Hoogerheide, Netherlands",
          "lon": 4.348619,
          "median": 9.604784795818995e-05,
          "ministerie": "Def",
          "project": "Vliegbasis Woensdrecht",
          "type": "Feature"
         },
         {
          "date": "2018-07",
          "geometry": {
           "coordinates": [
            6.4688870000000005,
            53.016555000000004
           ],
           "type": "Point"
          },
          "lat": 53.016555000000004,
          "locatie": "Huis Ter Heide, Netherlands",
          "lon": 6.4688870000000005,
          "median": 9.458106063278359e-05,
          "ministerie": "Def",
          "project": "Walaardt Sacre Kamp",
          "type": "Feature"
         },
         {
          "date": "2018-08",
          "geometry": {
           "coordinates": [
            6.4688870000000005,
            53.016555000000004
           ],
           "type": "Point"
          },
          "lat": 53.016555000000004,
          "locatie": "Huis Ter Heide, Netherlands",
          "lon": 6.4688870000000005,
          "median": 9.104709751670074e-05,
          "ministerie": "Def",
          "project": "Walaardt Sacre Kamp",
          "type": "Feature"
         },
         {
          "date": "2018-09",
          "geometry": {
           "coordinates": [
            6.4688870000000005,
            53.016555000000004
           ],
           "type": "Point"
          },
          "lat": 53.016555000000004,
          "locatie": "Huis Ter Heide, Netherlands",
          "lon": 6.4688870000000005,
          "median": 0.00011112686479464173,
          "ministerie": "Def",
          "project": "Walaardt Sacre Kamp",
          "type": "Feature"
         },
         {
          "date": "2018-10",
          "geometry": {
           "coordinates": [
            6.4688870000000005,
            53.016555000000004
           ],
           "type": "Point"
          },
          "lat": 53.016555000000004,
          "locatie": "Huis Ter Heide, Netherlands",
          "lon": 6.4688870000000005,
          "median": 9.031071385834366e-05,
          "ministerie": "Def",
          "project": "Walaardt Sacre Kamp",
          "type": "Feature"
         },
         {
          "date": "2018-11",
          "geometry": {
           "coordinates": [
            6.4688870000000005,
            53.016555000000004
           ],
           "type": "Point"
          },
          "lat": 53.016555000000004,
          "locatie": "Huis Ter Heide, Netherlands",
          "lon": 6.4688870000000005,
          "median": 0.00010454574663922214,
          "ministerie": "Def",
          "project": "Walaardt Sacre Kamp",
          "type": "Feature"
         },
         {
          "date": "2018-12",
          "geometry": {
           "coordinates": [
            6.4688870000000005,
            53.016555000000004
           ],
           "type": "Point"
          },
          "lat": 53.016555000000004,
          "locatie": "Huis Ter Heide, Netherlands",
          "lon": 6.4688870000000005,
          "median": 7.814744933975308e-05,
          "ministerie": "Def",
          "project": "Walaardt Sacre Kamp",
          "type": "Feature"
         },
         {
          "date": "2019-01",
          "geometry": {
           "coordinates": [
            6.4688870000000005,
            53.016555000000004
           ],
           "type": "Point"
          },
          "lat": 53.016555000000004,
          "locatie": "Huis Ter Heide, Netherlands",
          "lon": 6.4688870000000005,
          "median": 4.81470561821148e-05,
          "ministerie": "Def",
          "project": "Walaardt Sacre Kamp",
          "type": "Feature"
         },
         {
          "date": "2019-02",
          "geometry": {
           "coordinates": [
            6.4688870000000005,
            53.016555000000004
           ],
           "type": "Point"
          },
          "lat": 53.016555000000004,
          "locatie": "Huis Ter Heide, Netherlands",
          "lon": 6.4688870000000005,
          "median": 0.00013390846760165235,
          "ministerie": "Def",
          "project": "Walaardt Sacre Kamp",
          "type": "Feature"
         },
         {
          "date": "2019-03",
          "geometry": {
           "coordinates": [
            6.4688870000000005,
            53.016555000000004
           ],
           "type": "Point"
          },
          "lat": 53.016555000000004,
          "locatie": "Huis Ter Heide, Netherlands",
          "lon": 6.4688870000000005,
          "median": 7.006981469758814e-05,
          "ministerie": "Def",
          "project": "Walaardt Sacre Kamp",
          "type": "Feature"
         },
         {
          "date": "2019-04",
          "geometry": {
           "coordinates": [
            6.4688870000000005,
            53.016555000000004
           ],
           "type": "Point"
          },
          "lat": 53.016555000000004,
          "locatie": "Huis Ter Heide, Netherlands",
          "lon": 6.4688870000000005,
          "median": 0.00010000210028486266,
          "ministerie": "Def",
          "project": "Walaardt Sacre Kamp",
          "type": "Feature"
         },
         {
          "date": "2019-05",
          "geometry": {
           "coordinates": [
            6.4688870000000005,
            53.016555000000004
           ],
           "type": "Point"
          },
          "lat": 53.016555000000004,
          "locatie": "Huis Ter Heide, Netherlands",
          "lon": 6.4688870000000005,
          "median": 9.739084236031636e-05,
          "ministerie": "Def",
          "project": "Walaardt Sacre Kamp",
          "type": "Feature"
         },
         {
          "date": "2019-06",
          "geometry": {
           "coordinates": [
            6.4688870000000005,
            53.016555000000004
           ],
           "type": "Point"
          },
          "lat": 53.016555000000004,
          "locatie": "Huis Ter Heide, Netherlands",
          "lon": 6.4688870000000005,
          "median": 9.654347876047171e-05,
          "ministerie": "Def",
          "project": "Walaardt Sacre Kamp",
          "type": "Feature"
         },
         {
          "date": "2019-07",
          "geometry": {
           "coordinates": [
            6.4688870000000005,
            53.016555000000004
           ],
           "type": "Point"
          },
          "lat": 53.016555000000004,
          "locatie": "Huis Ter Heide, Netherlands",
          "lon": 6.4688870000000005,
          "median": 8.877513027982786e-05,
          "ministerie": "Def",
          "project": "Walaardt Sacre Kamp",
          "type": "Feature"
         },
         {
          "date": "2019-08",
          "geometry": {
           "coordinates": [
            6.4688870000000005,
            53.016555000000004
           ],
           "type": "Point"
          },
          "lat": 53.016555000000004,
          "locatie": "Huis Ter Heide, Netherlands",
          "lon": 6.4688870000000005,
          "median": 9.92716193000677e-05,
          "ministerie": "Def",
          "project": "Walaardt Sacre Kamp",
          "type": "Feature"
         },
         {
          "date": "2019-09",
          "geometry": {
           "coordinates": [
            6.4688870000000005,
            53.016555000000004
           ],
           "type": "Point"
          },
          "lat": 53.016555000000004,
          "locatie": "Huis Ter Heide, Netherlands",
          "lon": 6.4688870000000005,
          "median": 7.539902435382828e-05,
          "ministerie": "Def",
          "project": "Walaardt Sacre Kamp",
          "type": "Feature"
         },
         {
          "date": "2018-07",
          "geometry": {
           "coordinates": [
            3.983333,
            51.958333
           ],
           "type": "Point"
          },
          "lat": 51.958333,
          "locatie": "?",
          "lon": 3.983333,
          "median": 0.00012566426990270402,
          "ministerie": "EZK",
          "project": "Windpark Tweede Maasvlakte",
          "type": "Feature"
         },
         {
          "date": "2018-08",
          "geometry": {
           "coordinates": [
            3.983333,
            51.958333
           ],
           "type": "Point"
          },
          "lat": 51.958333,
          "locatie": "?",
          "lon": 3.983333,
          "median": 0.00010509779207615,
          "ministerie": "EZK",
          "project": "Windpark Tweede Maasvlakte",
          "type": "Feature"
         },
         {
          "date": "2018-09",
          "geometry": {
           "coordinates": [
            3.983333,
            51.958333
           ],
           "type": "Point"
          },
          "lat": 51.958333,
          "locatie": "?",
          "lon": 3.983333,
          "median": 0.00011442751200645173,
          "ministerie": "EZK",
          "project": "Windpark Tweede Maasvlakte",
          "type": "Feature"
         },
         {
          "date": "2018-10",
          "geometry": {
           "coordinates": [
            3.983333,
            51.958333
           ],
           "type": "Point"
          },
          "lat": 51.958333,
          "locatie": "?",
          "lon": 3.983333,
          "median": 0.00012551539111882448,
          "ministerie": "EZK",
          "project": "Windpark Tweede Maasvlakte",
          "type": "Feature"
         },
         {
          "date": "2018-11",
          "geometry": {
           "coordinates": [
            3.983333,
            51.958333
           ],
           "type": "Point"
          },
          "lat": 51.958333,
          "locatie": "?",
          "lon": 3.983333,
          "median": 0.00014655231409934556,
          "ministerie": "EZK",
          "project": "Windpark Tweede Maasvlakte",
          "type": "Feature"
         },
         {
          "date": "2018-12",
          "geometry": {
           "coordinates": [
            3.983333,
            51.958333
           ],
           "type": "Point"
          },
          "lat": 51.958333,
          "locatie": "?",
          "lon": 3.983333,
          "median": 9.56099511604819e-05,
          "ministerie": "EZK",
          "project": "Windpark Tweede Maasvlakte",
          "type": "Feature"
         },
         {
          "date": "2019-01",
          "geometry": {
           "coordinates": [
            3.983333,
            51.958333
           ],
           "type": "Point"
          },
          "lat": 51.958333,
          "locatie": "?",
          "lon": 3.983333,
          "median": 6.534230540616338e-05,
          "ministerie": "EZK",
          "project": "Windpark Tweede Maasvlakte",
          "type": "Feature"
         },
         {
          "date": "2019-02",
          "geometry": {
           "coordinates": [
            3.983333,
            51.958333
           ],
           "type": "Point"
          },
          "lat": 51.958333,
          "locatie": "?",
          "lon": 3.983333,
          "median": 0.00014257458678912371,
          "ministerie": "EZK",
          "project": "Windpark Tweede Maasvlakte",
          "type": "Feature"
         },
         {
          "date": "2019-03",
          "geometry": {
           "coordinates": [
            3.983333,
            51.958333
           ],
           "type": "Point"
          },
          "lat": 51.958333,
          "locatie": "?",
          "lon": 3.983333,
          "median": 0.00010093135132619149,
          "ministerie": "EZK",
          "project": "Windpark Tweede Maasvlakte",
          "type": "Feature"
         },
         {
          "date": "2019-04",
          "geometry": {
           "coordinates": [
            3.983333,
            51.958333
           ],
           "type": "Point"
          },
          "lat": 51.958333,
          "locatie": "?",
          "lon": 3.983333,
          "median": 0.00017516660494633829,
          "ministerie": "EZK",
          "project": "Windpark Tweede Maasvlakte",
          "type": "Feature"
         },
         {
          "date": "2019-05",
          "geometry": {
           "coordinates": [
            3.983333,
            51.958333
           ],
           "type": "Point"
          },
          "lat": 51.958333,
          "locatie": "?",
          "lon": 3.983333,
          "median": 0.00011928611213065088,
          "ministerie": "EZK",
          "project": "Windpark Tweede Maasvlakte",
          "type": "Feature"
         },
         {
          "date": "2019-06",
          "geometry": {
           "coordinates": [
            3.983333,
            51.958333
           ],
           "type": "Point"
          },
          "lat": 51.958333,
          "locatie": "?",
          "lon": 3.983333,
          "median": 0.00012326839149068286,
          "ministerie": "EZK",
          "project": "Windpark Tweede Maasvlakte",
          "type": "Feature"
         },
         {
          "date": "2019-07",
          "geometry": {
           "coordinates": [
            3.983333,
            51.958333
           ],
           "type": "Point"
          },
          "lat": 51.958333,
          "locatie": "?",
          "lon": 3.983333,
          "median": 0.00011196044561288774,
          "ministerie": "EZK",
          "project": "Windpark Tweede Maasvlakte",
          "type": "Feature"
         },
         {
          "date": "2019-08",
          "geometry": {
           "coordinates": [
            3.983333,
            51.958333
           ],
           "type": "Point"
          },
          "lat": 51.958333,
          "locatie": "?",
          "lon": 3.983333,
          "median": 0.0001006989819426755,
          "ministerie": "EZK",
          "project": "Windpark Tweede Maasvlakte",
          "type": "Feature"
         },
         {
          "date": "2019-09",
          "geometry": {
           "coordinates": [
            3.983333,
            51.958333
           ],
           "type": "Point"
          },
          "lat": 51.958333,
          "locatie": "?",
          "lon": 3.983333,
          "median": 8.446038692260186e-05,
          "ministerie": "EZK",
          "project": "Windpark Tweede Maasvlakte",
          "type": "Feature"
         },
         {
          "date": "2018-07",
          "geometry": {
           "coordinates": [
            6.084061,
            53.488774
           ],
           "type": "Point"
          },
          "lat": 53.488774,
          "locatie": "Westgat",
          "lon": 6.084061,
          "median": 8.998589043089213e-05,
          "ministerie": "EZK",
          "project": "Elektrificatie Ameland Westgat",
          "type": "Feature"
         },
         {
          "date": "2018-08",
          "geometry": {
           "coordinates": [
            6.084061,
            53.488774
           ],
           "type": "Point"
          },
          "lat": 53.488774,
          "locatie": "Westgat",
          "lon": 6.084061,
          "median": 8.592342969778165e-05,
          "ministerie": "EZK",
          "project": "Elektrificatie Ameland Westgat",
          "type": "Feature"
         },
         {
          "date": "2018-09",
          "geometry": {
           "coordinates": [
            6.084061,
            53.488774
           ],
           "type": "Point"
          },
          "lat": 53.488774,
          "locatie": "Westgat",
          "lon": 6.084061,
          "median": 8.69263364653435e-05,
          "ministerie": "EZK",
          "project": "Elektrificatie Ameland Westgat",
          "type": "Feature"
         },
         {
          "date": "2018-10",
          "geometry": {
           "coordinates": [
            6.084061,
            53.488774
           ],
           "type": "Point"
          },
          "lat": 53.488774,
          "locatie": "Westgat",
          "lon": 6.084061,
          "median": 8.451559801770739e-05,
          "ministerie": "EZK",
          "project": "Elektrificatie Ameland Westgat",
          "type": "Feature"
         },
         {
          "date": "2018-11",
          "geometry": {
           "coordinates": [
            6.084061,
            53.488774
           ],
           "type": "Point"
          },
          "lat": 53.488774,
          "locatie": "Westgat",
          "lon": 6.084061,
          "median": 0.0001075438244829451,
          "ministerie": "EZK",
          "project": "Elektrificatie Ameland Westgat",
          "type": "Feature"
         },
         {
          "date": "2018-12",
          "geometry": {
           "coordinates": [
            6.084061,
            53.488774
           ],
           "type": "Point"
          },
          "lat": 53.488774,
          "locatie": "Westgat",
          "lon": 6.084061,
          "median": 6.828137702541426e-05,
          "ministerie": "EZK",
          "project": "Elektrificatie Ameland Westgat",
          "type": "Feature"
         },
         {
          "date": "2019-01",
          "geometry": {
           "coordinates": [
            6.084061,
            53.488774
           ],
           "type": "Point"
          },
          "lat": 53.488774,
          "locatie": "Westgat",
          "lon": 6.084061,
          "median": 3.79014819164647e-05,
          "ministerie": "EZK",
          "project": "Elektrificatie Ameland Westgat",
          "type": "Feature"
         },
         {
          "date": "2019-02",
          "geometry": {
           "coordinates": [
            6.084061,
            53.488774
           ],
           "type": "Point"
          },
          "lat": 53.488774,
          "locatie": "Westgat",
          "lon": 6.084061,
          "median": 0.00013530844888190113,
          "ministerie": "EZK",
          "project": "Elektrificatie Ameland Westgat",
          "type": "Feature"
         },
         {
          "date": "2019-03",
          "geometry": {
           "coordinates": [
            6.084061,
            53.488774
           ],
           "type": "Point"
          },
          "lat": 53.488774,
          "locatie": "Westgat",
          "lon": 6.084061,
          "median": 6.960586900485589e-05,
          "ministerie": "EZK",
          "project": "Elektrificatie Ameland Westgat",
          "type": "Feature"
         },
         {
          "date": "2019-04",
          "geometry": {
           "coordinates": [
            6.084061,
            53.488774
           ],
           "type": "Point"
          },
          "lat": 53.488774,
          "locatie": "Westgat",
          "lon": 6.084061,
          "median": 9.74891346273657e-05,
          "ministerie": "EZK",
          "project": "Elektrificatie Ameland Westgat",
          "type": "Feature"
         },
         {
          "date": "2019-05",
          "geometry": {
           "coordinates": [
            6.084061,
            53.488774
           ],
           "type": "Point"
          },
          "lat": 53.488774,
          "locatie": "Westgat",
          "lon": 6.084061,
          "median": 9.136555743851121e-05,
          "ministerie": "EZK",
          "project": "Elektrificatie Ameland Westgat",
          "type": "Feature"
         },
         {
          "date": "2019-06",
          "geometry": {
           "coordinates": [
            6.084061,
            53.488774
           ],
           "type": "Point"
          },
          "lat": 53.488774,
          "locatie": "Westgat",
          "lon": 6.084061,
          "median": 0.00010324560140414398,
          "ministerie": "EZK",
          "project": "Elektrificatie Ameland Westgat",
          "type": "Feature"
         },
         {
          "date": "2019-07",
          "geometry": {
           "coordinates": [
            6.084061,
            53.488774
           ],
           "type": "Point"
          },
          "lat": 53.488774,
          "locatie": "Westgat",
          "lon": 6.084061,
          "median": 8.765292295720428e-05,
          "ministerie": "EZK",
          "project": "Elektrificatie Ameland Westgat",
          "type": "Feature"
         },
         {
          "date": "2019-08",
          "geometry": {
           "coordinates": [
            6.084061,
            53.488774
           ],
           "type": "Point"
          },
          "lat": 53.488774,
          "locatie": "Westgat",
          "lon": 6.084061,
          "median": 9.608219319971463e-05,
          "ministerie": "EZK",
          "project": "Elektrificatie Ameland Westgat",
          "type": "Feature"
         },
         {
          "date": "2019-09",
          "geometry": {
           "coordinates": [
            6.084061,
            53.488774
           ],
           "type": "Point"
          },
          "lat": 53.488774,
          "locatie": "Westgat",
          "lon": 6.084061,
          "median": 7.479771738871932e-05,
          "ministerie": "EZK",
          "project": "Elektrificatie Ameland Westgat",
          "type": "Feature"
         },
         {
          "date": "2018-07",
          "geometry": {
           "coordinates": [
            5.152237,
            52.991896999999994
           ],
           "type": "Point"
          },
          "lat": 52.991896999999994,
          "locatie": "Afsluitdijk, Den Oever, Netherlands",
          "lon": 5.152237,
          "median": 9.249938984504638e-05,
          "ministerie": "I&W",
          "project": "Afsluitdijk",
          "type": "Feature"
         },
         {
          "date": "2018-08",
          "geometry": {
           "coordinates": [
            5.152237,
            52.991896999999994
           ],
           "type": "Point"
          },
          "lat": 52.991896999999994,
          "locatie": "Afsluitdijk, Den Oever, Netherlands",
          "lon": 5.152237,
          "median": 8.926154259825125e-05,
          "ministerie": "I&W",
          "project": "Afsluitdijk",
          "type": "Feature"
         },
         {
          "date": "2018-09",
          "geometry": {
           "coordinates": [
            5.152237,
            52.991896999999994
           ],
           "type": "Point"
          },
          "lat": 52.991896999999994,
          "locatie": "Afsluitdijk, Den Oever, Netherlands",
          "lon": 5.152237,
          "median": 9.910759867538878e-05,
          "ministerie": "I&W",
          "project": "Afsluitdijk",
          "type": "Feature"
         },
         {
          "date": "2018-10",
          "geometry": {
           "coordinates": [
            5.152237,
            52.991896999999994
           ],
           "type": "Point"
          },
          "lat": 52.991896999999994,
          "locatie": "Afsluitdijk, Den Oever, Netherlands",
          "lon": 5.152237,
          "median": 7.744548929622397e-05,
          "ministerie": "I&W",
          "project": "Afsluitdijk",
          "type": "Feature"
         },
         {
          "date": "2018-11",
          "geometry": {
           "coordinates": [
            5.152237,
            52.991896999999994
           ],
           "type": "Point"
          },
          "lat": 52.991896999999994,
          "locatie": "Afsluitdijk, Den Oever, Netherlands",
          "lon": 5.152237,
          "median": 0.00013319579006037678,
          "ministerie": "I&W",
          "project": "Afsluitdijk",
          "type": "Feature"
         },
         {
          "date": "2018-12",
          "geometry": {
           "coordinates": [
            5.152237,
            52.991896999999994
           ],
           "type": "Point"
          },
          "lat": 52.991896999999994,
          "locatie": "Afsluitdijk, Den Oever, Netherlands",
          "lon": 5.152237,
          "median": 7.731385267106816e-05,
          "ministerie": "I&W",
          "project": "Afsluitdijk",
          "type": "Feature"
         },
         {
          "date": "2019-01",
          "geometry": {
           "coordinates": [
            5.152237,
            52.991896999999994
           ],
           "type": "Point"
          },
          "lat": 52.991896999999994,
          "locatie": "Afsluitdijk, Den Oever, Netherlands",
          "lon": 5.152237,
          "median": 3.758776801987551e-05,
          "ministerie": "I&W",
          "project": "Afsluitdijk",
          "type": "Feature"
         },
         {
          "date": "2019-02",
          "geometry": {
           "coordinates": [
            5.152237,
            52.991896999999994
           ],
           "type": "Point"
          },
          "lat": 52.991896999999994,
          "locatie": "Afsluitdijk, Den Oever, Netherlands",
          "lon": 5.152237,
          "median": 0.00012110617171856575,
          "ministerie": "I&W",
          "project": "Afsluitdijk",
          "type": "Feature"
         },
         {
          "date": "2019-03",
          "geometry": {
           "coordinates": [
            5.152237,
            52.991896999999994
           ],
           "type": "Point"
          },
          "lat": 52.991896999999994,
          "locatie": "Afsluitdijk, Den Oever, Netherlands",
          "lon": 5.152237,
          "median": 7.478483928175985e-05,
          "ministerie": "I&W",
          "project": "Afsluitdijk",
          "type": "Feature"
         },
         {
          "date": "2019-04",
          "geometry": {
           "coordinates": [
            5.152237,
            52.991896999999994
           ],
           "type": "Point"
          },
          "lat": 52.991896999999994,
          "locatie": "Afsluitdijk, Den Oever, Netherlands",
          "lon": 5.152237,
          "median": 9.958096821322546e-05,
          "ministerie": "I&W",
          "project": "Afsluitdijk",
          "type": "Feature"
         },
         {
          "date": "2019-05",
          "geometry": {
           "coordinates": [
            5.152237,
            52.991896999999994
           ],
           "type": "Point"
          },
          "lat": 52.991896999999994,
          "locatie": "Afsluitdijk, Den Oever, Netherlands",
          "lon": 5.152237,
          "median": 9.71372281863517e-05,
          "ministerie": "I&W",
          "project": "Afsluitdijk",
          "type": "Feature"
         },
         {
          "date": "2019-06",
          "geometry": {
           "coordinates": [
            5.152237,
            52.991896999999994
           ],
           "type": "Point"
          },
          "lat": 52.991896999999994,
          "locatie": "Afsluitdijk, Den Oever, Netherlands",
          "lon": 5.152237,
          "median": 0.00010094336518912116,
          "ministerie": "I&W",
          "project": "Afsluitdijk",
          "type": "Feature"
         },
         {
          "date": "2019-07",
          "geometry": {
           "coordinates": [
            5.152237,
            52.991896999999994
           ],
           "type": "Point"
          },
          "lat": 52.991896999999994,
          "locatie": "Afsluitdijk, Den Oever, Netherlands",
          "lon": 5.152237,
          "median": 9.217063419167747e-05,
          "ministerie": "I&W",
          "project": "Afsluitdijk",
          "type": "Feature"
         },
         {
          "date": "2019-08",
          "geometry": {
           "coordinates": [
            5.152237,
            52.991896999999994
           ],
           "type": "Point"
          },
          "lat": 52.991896999999994,
          "locatie": "Afsluitdijk, Den Oever, Netherlands",
          "lon": 5.152237,
          "median": 9.682545366912986e-05,
          "ministerie": "I&W",
          "project": "Afsluitdijk",
          "type": "Feature"
         },
         {
          "date": "2019-09",
          "geometry": {
           "coordinates": [
            5.152237,
            52.991896999999994
           ],
           "type": "Point"
          },
          "lat": 52.991896999999994,
          "locatie": "Afsluitdijk, Den Oever, Netherlands",
          "lon": 5.152237,
          "median": 7.241671767120098e-05,
          "ministerie": "I&W",
          "project": "Afsluitdijk",
          "type": "Feature"
         },
         {
          "date": "2018-07",
          "geometry": {
           "coordinates": [
            4.325601,
            52.08021
           ],
           "type": "Point"
          },
          "lat": 52.08021,
          "locatie": "Den Haag Centraal, The Hague, Netherlands",
          "lon": 4.325601,
          "median": 0.00012538514266039946,
          "ministerie": "I&W",
          "project": "Den Haag CS, perronsporen 11 en 12",
          "type": "Feature"
         },
         {
          "date": "2018-08",
          "geometry": {
           "coordinates": [
            4.325601,
            52.08021
           ],
           "type": "Point"
          },
          "lat": 52.08021,
          "locatie": "Den Haag Centraal, The Hague, Netherlands",
          "lon": 4.325601,
          "median": 0.00010902368141778114,
          "ministerie": "I&W",
          "project": "Den Haag CS, perronsporen 11 en 12",
          "type": "Feature"
         },
         {
          "date": "2018-09",
          "geometry": {
           "coordinates": [
            4.325601,
            52.08021
           ],
           "type": "Point"
          },
          "lat": 52.08021,
          "locatie": "Den Haag Centraal, The Hague, Netherlands",
          "lon": 4.325601,
          "median": 0.00012694785915172947,
          "ministerie": "I&W",
          "project": "Den Haag CS, perronsporen 11 en 12",
          "type": "Feature"
         },
         {
          "date": "2018-10",
          "geometry": {
           "coordinates": [
            4.325601,
            52.08021
           ],
           "type": "Point"
          },
          "lat": 52.08021,
          "locatie": "Den Haag Centraal, The Hague, Netherlands",
          "lon": 4.325601,
          "median": 0.00012405157269139853,
          "ministerie": "I&W",
          "project": "Den Haag CS, perronsporen 11 en 12",
          "type": "Feature"
         },
         {
          "date": "2018-11",
          "geometry": {
           "coordinates": [
            4.325601,
            52.08021
           ],
           "type": "Point"
          },
          "lat": 52.08021,
          "locatie": "Den Haag Centraal, The Hague, Netherlands",
          "lon": 4.325601,
          "median": 0.0001604834563206403,
          "ministerie": "I&W",
          "project": "Den Haag CS, perronsporen 11 en 12",
          "type": "Feature"
         },
         {
          "date": "2018-12",
          "geometry": {
           "coordinates": [
            4.325601,
            52.08021
           ],
           "type": "Point"
          },
          "lat": 52.08021,
          "locatie": "Den Haag Centraal, The Hague, Netherlands",
          "lon": 4.325601,
          "median": 0.0001014514418784529,
          "ministerie": "I&W",
          "project": "Den Haag CS, perronsporen 11 en 12",
          "type": "Feature"
         },
         {
          "date": "2019-01",
          "geometry": {
           "coordinates": [
            4.325601,
            52.08021
           ],
           "type": "Point"
          },
          "lat": 52.08021,
          "locatie": "Den Haag Centraal, The Hague, Netherlands",
          "lon": 4.325601,
          "median": 5.834697913087439e-05,
          "ministerie": "I&W",
          "project": "Den Haag CS, perronsporen 11 en 12",
          "type": "Feature"
         },
         {
          "date": "2019-02",
          "geometry": {
           "coordinates": [
            4.325601,
            52.08021
           ],
           "type": "Point"
          },
          "lat": 52.08021,
          "locatie": "Den Haag Centraal, The Hague, Netherlands",
          "lon": 4.325601,
          "median": 0.0001751774249029146,
          "ministerie": "I&W",
          "project": "Den Haag CS, perronsporen 11 en 12",
          "type": "Feature"
         },
         {
          "date": "2019-03",
          "geometry": {
           "coordinates": [
            4.325601,
            52.08021
           ],
           "type": "Point"
          },
          "lat": 52.08021,
          "locatie": "Den Haag Centraal, The Hague, Netherlands",
          "lon": 4.325601,
          "median": 0.00010252720411826782,
          "ministerie": "I&W",
          "project": "Den Haag CS, perronsporen 11 en 12",
          "type": "Feature"
         },
         {
          "date": "2019-04",
          "geometry": {
           "coordinates": [
            4.325601,
            52.08021
           ],
           "type": "Point"
          },
          "lat": 52.08021,
          "locatie": "Den Haag Centraal, The Hague, Netherlands",
          "lon": 4.325601,
          "median": 0.0001390848779493531,
          "ministerie": "I&W",
          "project": "Den Haag CS, perronsporen 11 en 12",
          "type": "Feature"
         },
         {
          "date": "2019-05",
          "geometry": {
           "coordinates": [
            4.325601,
            52.08021
           ],
           "type": "Point"
          },
          "lat": 52.08021,
          "locatie": "Den Haag Centraal, The Hague, Netherlands",
          "lon": 4.325601,
          "median": 0.00011766235301701398,
          "ministerie": "I&W",
          "project": "Den Haag CS, perronsporen 11 en 12",
          "type": "Feature"
         },
         {
          "date": "2019-06",
          "geometry": {
           "coordinates": [
            4.325601,
            52.08021
           ],
           "type": "Point"
          },
          "lat": 52.08021,
          "locatie": "Den Haag Centraal, The Hague, Netherlands",
          "lon": 4.325601,
          "median": 0.0001198104364448227,
          "ministerie": "I&W",
          "project": "Den Haag CS, perronsporen 11 en 12",
          "type": "Feature"
         },
         {
          "date": "2019-07",
          "geometry": {
           "coordinates": [
            4.325601,
            52.08021
           ],
           "type": "Point"
          },
          "lat": 52.08021,
          "locatie": "Den Haag Centraal, The Hague, Netherlands",
          "lon": 4.325601,
          "median": 0.0001109045737696291,
          "ministerie": "I&W",
          "project": "Den Haag CS, perronsporen 11 en 12",
          "type": "Feature"
         },
         {
          "date": "2019-08",
          "geometry": {
           "coordinates": [
            4.325601,
            52.08021
           ],
           "type": "Point"
          },
          "lat": 52.08021,
          "locatie": "Den Haag Centraal, The Hague, Netherlands",
          "lon": 4.325601,
          "median": 0.00010625184222590178,
          "ministerie": "I&W",
          "project": "Den Haag CS, perronsporen 11 en 12",
          "type": "Feature"
         },
         {
          "date": "2019-09",
          "geometry": {
           "coordinates": [
            4.325601,
            52.08021
           ],
           "type": "Point"
          },
          "lat": 52.08021,
          "locatie": "Den Haag Centraal, The Hague, Netherlands",
          "lon": 4.325601,
          "median": 8.507138301173603e-05,
          "ministerie": "I&W",
          "project": "Den Haag CS, perronsporen 11 en 12",
          "type": "Feature"
         },
         {
          "date": "2018-07",
          "geometry": {
           "coordinates": [
            5.102501999999999,
            52.45863000000001
           ],
           "type": "Point"
          },
          "lat": 52.45863000000001,
          "locatie": "Marken, Netherlands",
          "lon": 5.102501999999999,
          "median": 0.00010629519824849105,
          "ministerie": "I&W",
          "project": "Hoogwaterbeschermingsprogramma Dijkversterking Marken",
          "type": "Feature"
         },
         {
          "date": "2018-08",
          "geometry": {
           "coordinates": [
            5.102501999999999,
            52.45863000000001
           ],
           "type": "Point"
          },
          "lat": 52.45863000000001,
          "locatie": "Marken, Netherlands",
          "lon": 5.102501999999999,
          "median": 0.00010623546193285492,
          "ministerie": "I&W",
          "project": "Hoogwaterbeschermingsprogramma Dijkversterking Marken",
          "type": "Feature"
         },
         {
          "date": "2018-09",
          "geometry": {
           "coordinates": [
            5.102501999999999,
            52.45863000000001
           ],
           "type": "Point"
          },
          "lat": 52.45863000000001,
          "locatie": "Marken, Netherlands",
          "lon": 5.102501999999999,
          "median": 0.00012511176464613527,
          "ministerie": "I&W",
          "project": "Hoogwaterbeschermingsprogramma Dijkversterking Marken",
          "type": "Feature"
         },
         {
          "date": "2018-10",
          "geometry": {
           "coordinates": [
            5.102501999999999,
            52.45863000000001
           ],
           "type": "Point"
          },
          "lat": 52.45863000000001,
          "locatie": "Marken, Netherlands",
          "lon": 5.102501999999999,
          "median": 0.00011928546297816046,
          "ministerie": "I&W",
          "project": "Hoogwaterbeschermingsprogramma Dijkversterking Marken",
          "type": "Feature"
         },
         {
          "date": "2018-11",
          "geometry": {
           "coordinates": [
            5.102501999999999,
            52.45863000000001
           ],
           "type": "Point"
          },
          "lat": 52.45863000000001,
          "locatie": "Marken, Netherlands",
          "lon": 5.102501999999999,
          "median": 0.00015736936742167143,
          "ministerie": "I&W",
          "project": "Hoogwaterbeschermingsprogramma Dijkversterking Marken",
          "type": "Feature"
         },
         {
          "date": "2018-12",
          "geometry": {
           "coordinates": [
            5.102501999999999,
            52.45863000000001
           ],
           "type": "Point"
          },
          "lat": 52.45863000000001,
          "locatie": "Marken, Netherlands",
          "lon": 5.102501999999999,
          "median": 0.0001055365864885971,
          "ministerie": "I&W",
          "project": "Hoogwaterbeschermingsprogramma Dijkversterking Marken",
          "type": "Feature"
         },
         {
          "date": "2019-01",
          "geometry": {
           "coordinates": [
            5.102501999999999,
            52.45863000000001
           ],
           "type": "Point"
          },
          "lat": 52.45863000000001,
          "locatie": "Marken, Netherlands",
          "lon": 5.102501999999999,
          "median": 7.605980510220592e-05,
          "ministerie": "I&W",
          "project": "Hoogwaterbeschermingsprogramma Dijkversterking Marken",
          "type": "Feature"
         },
         {
          "date": "2019-02",
          "geometry": {
           "coordinates": [
            5.102501999999999,
            52.45863000000001
           ],
           "type": "Point"
          },
          "lat": 52.45863000000001,
          "locatie": "Marken, Netherlands",
          "lon": 5.102501999999999,
          "median": 0.00013585838083956205,
          "ministerie": "I&W",
          "project": "Hoogwaterbeschermingsprogramma Dijkversterking Marken",
          "type": "Feature"
         },
         {
          "date": "2019-03",
          "geometry": {
           "coordinates": [
            5.102501999999999,
            52.45863000000001
           ],
           "type": "Point"
          },
          "lat": 52.45863000000001,
          "locatie": "Marken, Netherlands",
          "lon": 5.102501999999999,
          "median": 0.00010385616163146089,
          "ministerie": "I&W",
          "project": "Hoogwaterbeschermingsprogramma Dijkversterking Marken",
          "type": "Feature"
         },
         {
          "date": "2019-04",
          "geometry": {
           "coordinates": [
            5.102501999999999,
            52.45863000000001
           ],
           "type": "Point"
          },
          "lat": 52.45863000000001,
          "locatie": "Marken, Netherlands",
          "lon": 5.102501999999999,
          "median": 0.0001139569649240002,
          "ministerie": "I&W",
          "project": "Hoogwaterbeschermingsprogramma Dijkversterking Marken",
          "type": "Feature"
         },
         {
          "date": "2019-05",
          "geometry": {
           "coordinates": [
            5.102501999999999,
            52.45863000000001
           ],
           "type": "Point"
          },
          "lat": 52.45863000000001,
          "locatie": "Marken, Netherlands",
          "lon": 5.102501999999999,
          "median": 0.00011383924478414581,
          "ministerie": "I&W",
          "project": "Hoogwaterbeschermingsprogramma Dijkversterking Marken",
          "type": "Feature"
         },
         {
          "date": "2019-06",
          "geometry": {
           "coordinates": [
            5.102501999999999,
            52.45863000000001
           ],
           "type": "Point"
          },
          "lat": 52.45863000000001,
          "locatie": "Marken, Netherlands",
          "lon": 5.102501999999999,
          "median": 0.00011895290993508759,
          "ministerie": "I&W",
          "project": "Hoogwaterbeschermingsprogramma Dijkversterking Marken",
          "type": "Feature"
         },
         {
          "date": "2019-07",
          "geometry": {
           "coordinates": [
            5.102501999999999,
            52.45863000000001
           ],
           "type": "Point"
          },
          "lat": 52.45863000000001,
          "locatie": "Marken, Netherlands",
          "lon": 5.102501999999999,
          "median": 0.00010464287900436285,
          "ministerie": "I&W",
          "project": "Hoogwaterbeschermingsprogramma Dijkversterking Marken",
          "type": "Feature"
         },
         {
          "date": "2019-08",
          "geometry": {
           "coordinates": [
            5.102501999999999,
            52.45863000000001
           ],
           "type": "Point"
          },
          "lat": 52.45863000000001,
          "locatie": "Marken, Netherlands",
          "lon": 5.102501999999999,
          "median": 0.00012305979907978326,
          "ministerie": "I&W",
          "project": "Hoogwaterbeschermingsprogramma Dijkversterking Marken",
          "type": "Feature"
         },
         {
          "date": "2019-09",
          "geometry": {
           "coordinates": [
            5.102501999999999,
            52.45863000000001
           ],
           "type": "Point"
          },
          "lat": 52.45863000000001,
          "locatie": "Marken, Netherlands",
          "lon": 5.102501999999999,
          "median": 9.648767357519788e-05,
          "ministerie": "I&W",
          "project": "Hoogwaterbeschermingsprogramma Dijkversterking Marken",
          "type": "Feature"
         },
         {
          "date": "2018-07",
          "geometry": {
           "coordinates": [
            4.599433,
            52.460021999999995
           ],
           "type": "Point"
          },
          "lat": 52.460021999999995,
          "locatie": "Ymuiden, Netherlands",
          "lon": 4.599433,
          "median": 0.0001184682005259674,
          "ministerie": "I&W",
          "project": "Hoogwaterbeschermingsprogramma: Ijmuiden",
          "type": "Feature"
         },
         {
          "date": "2018-08",
          "geometry": {
           "coordinates": [
            4.599433,
            52.460021999999995
           ],
           "type": "Point"
          },
          "lat": 52.460021999999995,
          "locatie": "Ymuiden, Netherlands",
          "lon": 4.599433,
          "median": 0.00010490054197212018,
          "ministerie": "I&W",
          "project": "Hoogwaterbeschermingsprogramma: Ijmuiden",
          "type": "Feature"
         },
         {
          "date": "2018-09",
          "geometry": {
           "coordinates": [
            4.599433,
            52.460021999999995
           ],
           "type": "Point"
          },
          "lat": 52.460021999999995,
          "locatie": "Ymuiden, Netherlands",
          "lon": 4.599433,
          "median": 0.0001134256524583121,
          "ministerie": "I&W",
          "project": "Hoogwaterbeschermingsprogramma: Ijmuiden",
          "type": "Feature"
         },
         {
          "date": "2018-10",
          "geometry": {
           "coordinates": [
            4.599433,
            52.460021999999995
           ],
           "type": "Point"
          },
          "lat": 52.460021999999995,
          "locatie": "Ymuiden, Netherlands",
          "lon": 4.599433,
          "median": 0.00011688918719973766,
          "ministerie": "I&W",
          "project": "Hoogwaterbeschermingsprogramma: Ijmuiden",
          "type": "Feature"
         },
         {
          "date": "2018-11",
          "geometry": {
           "coordinates": [
            4.599433,
            52.460021999999995
           ],
           "type": "Point"
          },
          "lat": 52.460021999999995,
          "locatie": "Ymuiden, Netherlands",
          "lon": 4.599433,
          "median": 0.00016030492633462186,
          "ministerie": "I&W",
          "project": "Hoogwaterbeschermingsprogramma: Ijmuiden",
          "type": "Feature"
         },
         {
          "date": "2018-12",
          "geometry": {
           "coordinates": [
            4.599433,
            52.460021999999995
           ],
           "type": "Point"
          },
          "lat": 52.460021999999995,
          "locatie": "Ymuiden, Netherlands",
          "lon": 4.599433,
          "median": 0.00010741932419477962,
          "ministerie": "I&W",
          "project": "Hoogwaterbeschermingsprogramma: Ijmuiden",
          "type": "Feature"
         },
         {
          "date": "2019-01",
          "geometry": {
           "coordinates": [
            4.599433,
            52.460021999999995
           ],
           "type": "Point"
          },
          "lat": 52.460021999999995,
          "locatie": "Ymuiden, Netherlands",
          "lon": 4.599433,
          "median": 6.293835758697242e-05,
          "ministerie": "I&W",
          "project": "Hoogwaterbeschermingsprogramma: Ijmuiden",
          "type": "Feature"
         },
         {
          "date": "2019-02",
          "geometry": {
           "coordinates": [
            4.599433,
            52.460021999999995
           ],
           "type": "Point"
          },
          "lat": 52.460021999999995,
          "locatie": "Ymuiden, Netherlands",
          "lon": 4.599433,
          "median": 0.0001517878845334053,
          "ministerie": "I&W",
          "project": "Hoogwaterbeschermingsprogramma: Ijmuiden",
          "type": "Feature"
         },
         {
          "date": "2019-03",
          "geometry": {
           "coordinates": [
            4.599433,
            52.460021999999995
           ],
           "type": "Point"
          },
          "lat": 52.460021999999995,
          "locatie": "Ymuiden, Netherlands",
          "lon": 4.599433,
          "median": 8.838299982016906e-05,
          "ministerie": "I&W",
          "project": "Hoogwaterbeschermingsprogramma: Ijmuiden",
          "type": "Feature"
         },
         {
          "date": "2019-04",
          "geometry": {
           "coordinates": [
            4.599433,
            52.460021999999995
           ],
           "type": "Point"
          },
          "lat": 52.460021999999995,
          "locatie": "Ymuiden, Netherlands",
          "lon": 4.599433,
          "median": 0.00013100843352731317,
          "ministerie": "I&W",
          "project": "Hoogwaterbeschermingsprogramma: Ijmuiden",
          "type": "Feature"
         },
         {
          "date": "2019-05",
          "geometry": {
           "coordinates": [
            4.599433,
            52.460021999999995
           ],
           "type": "Point"
          },
          "lat": 52.460021999999995,
          "locatie": "Ymuiden, Netherlands",
          "lon": 4.599433,
          "median": 0.00011294929596792021,
          "ministerie": "I&W",
          "project": "Hoogwaterbeschermingsprogramma: Ijmuiden",
          "type": "Feature"
         },
         {
          "date": "2019-06",
          "geometry": {
           "coordinates": [
            4.599433,
            52.460021999999995
           ],
           "type": "Point"
          },
          "lat": 52.460021999999995,
          "locatie": "Ymuiden, Netherlands",
          "lon": 4.599433,
          "median": 0.00011616365372901782,
          "ministerie": "I&W",
          "project": "Hoogwaterbeschermingsprogramma: Ijmuiden",
          "type": "Feature"
         },
         {
          "date": "2019-07",
          "geometry": {
           "coordinates": [
            4.599433,
            52.460021999999995
           ],
           "type": "Point"
          },
          "lat": 52.460021999999995,
          "locatie": "Ymuiden, Netherlands",
          "lon": 4.599433,
          "median": 0.00010995675984304398,
          "ministerie": "I&W",
          "project": "Hoogwaterbeschermingsprogramma: Ijmuiden",
          "type": "Feature"
         },
         {
          "date": "2019-08",
          "geometry": {
           "coordinates": [
            4.599433,
            52.460021999999995
           ],
           "type": "Point"
          },
          "lat": 52.460021999999995,
          "locatie": "Ymuiden, Netherlands",
          "lon": 4.599433,
          "median": 0.00010691130592022091,
          "ministerie": "I&W",
          "project": "Hoogwaterbeschermingsprogramma: Ijmuiden",
          "type": "Feature"
         },
         {
          "date": "2019-09",
          "geometry": {
           "coordinates": [
            4.599433,
            52.460021999999995
           ],
           "type": "Point"
          },
          "lat": 52.460021999999995,
          "locatie": "Ymuiden, Netherlands",
          "lon": 4.599433,
          "median": 7.98524015408475e-05,
          "ministerie": "I&W",
          "project": "Hoogwaterbeschermingsprogramma: Ijmuiden",
          "type": "Feature"
         },
         {
          "date": "2018-07",
          "geometry": {
           "coordinates": [
            4.909946,
            53.230031999999994
           ],
           "type": "Point"
          },
          "lat": 53.230031999999994,
          "locatie": "Vlieland, Netherlands",
          "lon": 4.909946,
          "median": 9.11100208823612e-05,
          "ministerie": "I&W",
          "project": "Hoogwaterbeschermingsprogramma: Vlieland",
          "type": "Feature"
         },
         {
          "date": "2018-08",
          "geometry": {
           "coordinates": [
            4.909946,
            53.230031999999994
           ],
           "type": "Point"
          },
          "lat": 53.230031999999994,
          "locatie": "Vlieland, Netherlands",
          "lon": 4.909946,
          "median": 8.536412860848941e-05,
          "ministerie": "I&W",
          "project": "Hoogwaterbeschermingsprogramma: Vlieland",
          "type": "Feature"
         },
         {
          "date": "2018-09",
          "geometry": {
           "coordinates": [
            4.909946,
            53.230031999999994
           ],
           "type": "Point"
          },
          "lat": 53.230031999999994,
          "locatie": "Vlieland, Netherlands",
          "lon": 4.909946,
          "median": 9.09083682927303e-05,
          "ministerie": "I&W",
          "project": "Hoogwaterbeschermingsprogramma: Vlieland",
          "type": "Feature"
         },
         {
          "date": "2018-10",
          "geometry": {
           "coordinates": [
            4.909946,
            53.230031999999994
           ],
           "type": "Point"
          },
          "lat": 53.230031999999994,
          "locatie": "Vlieland, Netherlands",
          "lon": 4.909946,
          "median": 7.72565208564067e-05,
          "ministerie": "I&W",
          "project": "Hoogwaterbeschermingsprogramma: Vlieland",
          "type": "Feature"
         },
         {
          "date": "2018-11",
          "geometry": {
           "coordinates": [
            4.909946,
            53.230031999999994
           ],
           "type": "Point"
          },
          "lat": 53.230031999999994,
          "locatie": "Vlieland, Netherlands",
          "lon": 4.909946,
          "median": 0.00011426113928413969,
          "ministerie": "I&W",
          "project": "Hoogwaterbeschermingsprogramma: Vlieland",
          "type": "Feature"
         },
         {
          "date": "2018-12",
          "geometry": {
           "coordinates": [
            4.909946,
            53.230031999999994
           ],
           "type": "Point"
          },
          "lat": 53.230031999999994,
          "locatie": "Vlieland, Netherlands",
          "lon": 4.909946,
          "median": 7.021064084256068e-05,
          "ministerie": "I&W",
          "project": "Hoogwaterbeschermingsprogramma: Vlieland",
          "type": "Feature"
         },
         {
          "date": "2019-01",
          "geometry": {
           "coordinates": [
            4.909946,
            53.230031999999994
           ],
           "type": "Point"
          },
          "lat": 53.230031999999994,
          "locatie": "Vlieland, Netherlands",
          "lon": 4.909946,
          "median": 3.992420770743501e-05,
          "ministerie": "I&W",
          "project": "Hoogwaterbeschermingsprogramma: Vlieland",
          "type": "Feature"
         },
         {
          "date": "2019-02",
          "geometry": {
           "coordinates": [
            4.909946,
            53.230031999999994
           ],
           "type": "Point"
          },
          "lat": 53.230031999999994,
          "locatie": "Vlieland, Netherlands",
          "lon": 4.909946,
          "median": 0.00014534863294102252,
          "ministerie": "I&W",
          "project": "Hoogwaterbeschermingsprogramma: Vlieland",
          "type": "Feature"
         },
         {
          "date": "2019-03",
          "geometry": {
           "coordinates": [
            4.909946,
            53.230031999999994
           ],
           "type": "Point"
          },
          "lat": 53.230031999999994,
          "locatie": "Vlieland, Netherlands",
          "lon": 4.909946,
          "median": 7.120860524390584e-05,
          "ministerie": "I&W",
          "project": "Hoogwaterbeschermingsprogramma: Vlieland",
          "type": "Feature"
         },
         {
          "date": "2019-04",
          "geometry": {
           "coordinates": [
            4.909946,
            53.230031999999994
           ],
           "type": "Point"
          },
          "lat": 53.230031999999994,
          "locatie": "Vlieland, Netherlands",
          "lon": 4.909946,
          "median": 9.755737400332698e-05,
          "ministerie": "I&W",
          "project": "Hoogwaterbeschermingsprogramma: Vlieland",
          "type": "Feature"
         },
         {
          "date": "2019-05",
          "geometry": {
           "coordinates": [
            4.909946,
            53.230031999999994
           ],
           "type": "Point"
          },
          "lat": 53.230031999999994,
          "locatie": "Vlieland, Netherlands",
          "lon": 4.909946,
          "median": 9.564680446422978e-05,
          "ministerie": "I&W",
          "project": "Hoogwaterbeschermingsprogramma: Vlieland",
          "type": "Feature"
         },
         {
          "date": "2019-06",
          "geometry": {
           "coordinates": [
            4.909946,
            53.230031999999994
           ],
           "type": "Point"
          },
          "lat": 53.230031999999994,
          "locatie": "Vlieland, Netherlands",
          "lon": 4.909946,
          "median": 0.00010594946584566712,
          "ministerie": "I&W",
          "project": "Hoogwaterbeschermingsprogramma: Vlieland",
          "type": "Feature"
         },
         {
          "date": "2019-07",
          "geometry": {
           "coordinates": [
            4.909946,
            53.230031999999994
           ],
           "type": "Point"
          },
          "lat": 53.230031999999994,
          "locatie": "Vlieland, Netherlands",
          "lon": 4.909946,
          "median": 9.211514389038163e-05,
          "ministerie": "I&W",
          "project": "Hoogwaterbeschermingsprogramma: Vlieland",
          "type": "Feature"
         },
         {
          "date": "2019-08",
          "geometry": {
           "coordinates": [
            4.909946,
            53.230031999999994
           ],
           "type": "Point"
          },
          "lat": 53.230031999999994,
          "locatie": "Vlieland, Netherlands",
          "lon": 4.909946,
          "median": 9.26433494896628e-05,
          "ministerie": "I&W",
          "project": "Hoogwaterbeschermingsprogramma: Vlieland",
          "type": "Feature"
         },
         {
          "date": "2019-09",
          "geometry": {
           "coordinates": [
            4.909946,
            53.230031999999994
           ],
           "type": "Point"
          },
          "lat": 53.230031999999994,
          "locatie": "Vlieland, Netherlands",
          "lon": 4.909946,
          "median": 7.39131390456357e-05,
          "ministerie": "I&W",
          "project": "Hoogwaterbeschermingsprogramma: Vlieland",
          "type": "Feature"
         },
         {
          "date": "2018-07",
          "geometry": {
           "coordinates": [
            5.280991,
            52.693611
           ],
           "type": "Point"
          },
          "lat": 52.693611,
          "locatie": "Houtribdijk, Enkhuizen, Netherlands",
          "lon": 5.280991,
          "median": 9.518608577778759e-05,
          "ministerie": "I&W",
          "project": "Hoogwaterbeschermingsprogramma 2: Houtribdijk, onderdeel Trintelzand B/watersportstrand",
          "type": "Feature"
         },
         {
          "date": "2018-08",
          "geometry": {
           "coordinates": [
            5.280991,
            52.693611
           ],
           "type": "Point"
          },
          "lat": 52.693611,
          "locatie": "Houtribdijk, Enkhuizen, Netherlands",
          "lon": 5.280991,
          "median": 0.00010098324128193781,
          "ministerie": "I&W",
          "project": "Hoogwaterbeschermingsprogramma 2: Houtribdijk, onderdeel Trintelzand B/watersportstrand",
          "type": "Feature"
         },
         {
          "date": "2018-09",
          "geometry": {
           "coordinates": [
            5.280991,
            52.693611
           ],
           "type": "Point"
          },
          "lat": 52.693611,
          "locatie": "Houtribdijk, Enkhuizen, Netherlands",
          "lon": 5.280991,
          "median": 0.000109524832535306,
          "ministerie": "I&W",
          "project": "Hoogwaterbeschermingsprogramma 2: Houtribdijk, onderdeel Trintelzand B/watersportstrand",
          "type": "Feature"
         },
         {
          "date": "2018-10",
          "geometry": {
           "coordinates": [
            5.280991,
            52.693611
           ],
           "type": "Point"
          },
          "lat": 52.693611,
          "locatie": "Houtribdijk, Enkhuizen, Netherlands",
          "lon": 5.280991,
          "median": 9.823221980181725e-05,
          "ministerie": "I&W",
          "project": "Hoogwaterbeschermingsprogramma 2: Houtribdijk, onderdeel Trintelzand B/watersportstrand",
          "type": "Feature"
         },
         {
          "date": "2018-11",
          "geometry": {
           "coordinates": [
            5.280991,
            52.693611
           ],
           "type": "Point"
          },
          "lat": 52.693611,
          "locatie": "Houtribdijk, Enkhuizen, Netherlands",
          "lon": 5.280991,
          "median": 0.00014043206567126694,
          "ministerie": "I&W",
          "project": "Hoogwaterbeschermingsprogramma 2: Houtribdijk, onderdeel Trintelzand B/watersportstrand",
          "type": "Feature"
         },
         {
          "date": "2018-12",
          "geometry": {
           "coordinates": [
            5.280991,
            52.693611
           ],
           "type": "Point"
          },
          "lat": 52.693611,
          "locatie": "Houtribdijk, Enkhuizen, Netherlands",
          "lon": 5.280991,
          "median": 8.66053921271835e-05,
          "ministerie": "I&W",
          "project": "Hoogwaterbeschermingsprogramma 2: Houtribdijk, onderdeel Trintelzand B/watersportstrand",
          "type": "Feature"
         },
         {
          "date": "2019-01",
          "geometry": {
           "coordinates": [
            5.280991,
            52.693611
           ],
           "type": "Point"
          },
          "lat": 52.693611,
          "locatie": "Houtribdijk, Enkhuizen, Netherlands",
          "lon": 5.280991,
          "median": 7.386139114971656e-05,
          "ministerie": "I&W",
          "project": "Hoogwaterbeschermingsprogramma 2: Houtribdijk, onderdeel Trintelzand B/watersportstrand",
          "type": "Feature"
         },
         {
          "date": "2019-02",
          "geometry": {
           "coordinates": [
            5.280991,
            52.693611
           ],
           "type": "Point"
          },
          "lat": 52.693611,
          "locatie": "Houtribdijk, Enkhuizen, Netherlands",
          "lon": 5.280991,
          "median": 0.00012680740359279405,
          "ministerie": "I&W",
          "project": "Hoogwaterbeschermingsprogramma 2: Houtribdijk, onderdeel Trintelzand B/watersportstrand",
          "type": "Feature"
         },
         {
          "date": "2019-03",
          "geometry": {
           "coordinates": [
            5.280991,
            52.693611
           ],
           "type": "Point"
          },
          "lat": 52.693611,
          "locatie": "Houtribdijk, Enkhuizen, Netherlands",
          "lon": 5.280991,
          "median": 8.228639489971101e-05,
          "ministerie": "I&W",
          "project": "Hoogwaterbeschermingsprogramma 2: Houtribdijk, onderdeel Trintelzand B/watersportstrand",
          "type": "Feature"
         },
         {
          "date": "2019-04",
          "geometry": {
           "coordinates": [
            5.280991,
            52.693611
           ],
           "type": "Point"
          },
          "lat": 52.693611,
          "locatie": "Houtribdijk, Enkhuizen, Netherlands",
          "lon": 5.280991,
          "median": 0.00010844825374078937,
          "ministerie": "I&W",
          "project": "Hoogwaterbeschermingsprogramma 2: Houtribdijk, onderdeel Trintelzand B/watersportstrand",
          "type": "Feature"
         },
         {
          "date": "2019-05",
          "geometry": {
           "coordinates": [
            5.280991,
            52.693611
           ],
           "type": "Point"
          },
          "lat": 52.693611,
          "locatie": "Houtribdijk, Enkhuizen, Netherlands",
          "lon": 5.280991,
          "median": 0.00010638459020374439,
          "ministerie": "I&W",
          "project": "Hoogwaterbeschermingsprogramma 2: Houtribdijk, onderdeel Trintelzand B/watersportstrand",
          "type": "Feature"
         },
         {
          "date": "2019-06",
          "geometry": {
           "coordinates": [
            5.280991,
            52.693611
           ],
           "type": "Point"
          },
          "lat": 52.693611,
          "locatie": "Houtribdijk, Enkhuizen, Netherlands",
          "lon": 5.280991,
          "median": 0.00011138948320876807,
          "ministerie": "I&W",
          "project": "Hoogwaterbeschermingsprogramma 2: Houtribdijk, onderdeel Trintelzand B/watersportstrand",
          "type": "Feature"
         },
         {
          "date": "2019-07",
          "geometry": {
           "coordinates": [
            5.280991,
            52.693611
           ],
           "type": "Point"
          },
          "lat": 52.693611,
          "locatie": "Houtribdijk, Enkhuizen, Netherlands",
          "lon": 5.280991,
          "median": 9.534833201338435e-05,
          "ministerie": "I&W",
          "project": "Hoogwaterbeschermingsprogramma 2: Houtribdijk, onderdeel Trintelzand B/watersportstrand",
          "type": "Feature"
         },
         {
          "date": "2019-08",
          "geometry": {
           "coordinates": [
            5.280991,
            52.693611
           ],
           "type": "Point"
          },
          "lat": 52.693611,
          "locatie": "Houtribdijk, Enkhuizen, Netherlands",
          "lon": 5.280991,
          "median": 0.00011637071200848861,
          "ministerie": "I&W",
          "project": "Hoogwaterbeschermingsprogramma 2: Houtribdijk, onderdeel Trintelzand B/watersportstrand",
          "type": "Feature"
         },
         {
          "date": "2019-09",
          "geometry": {
           "coordinates": [
            5.280991,
            52.693611
           ],
           "type": "Point"
          },
          "lat": 52.693611,
          "locatie": "Houtribdijk, Enkhuizen, Netherlands",
          "lon": 5.280991,
          "median": 8.055769100594588e-05,
          "ministerie": "I&W",
          "project": "Hoogwaterbeschermingsprogramma 2: Houtribdijk, onderdeel Trintelzand B/watersportstrand",
          "type": "Feature"
         },
         {
          "date": "2018-07",
          "geometry": {
           "coordinates": [
            5.996553,
            51.907676
           ],
           "type": "Point"
          },
          "lat": 51.907676,
          "locatie": "Pannerdensch Kanaal, Pannerden, Netherlands",
          "lon": 5.996553,
          "median": 0.00011754148476835529,
          "ministerie": "I&W",
          "project": "Krib- en oeververlaging Pannerdensch Kanaal",
          "type": "Feature"
         },
         {
          "date": "2018-08",
          "geometry": {
           "coordinates": [
            5.996553,
            51.907676
           ],
           "type": "Point"
          },
          "lat": 51.907676,
          "locatie": "Pannerdensch Kanaal, Pannerden, Netherlands",
          "lon": 5.996553,
          "median": 0.00010636230283645446,
          "ministerie": "I&W",
          "project": "Krib- en oeververlaging Pannerdensch Kanaal",
          "type": "Feature"
         },
         {
          "date": "2018-09",
          "geometry": {
           "coordinates": [
            5.996553,
            51.907676
           ],
           "type": "Point"
          },
          "lat": 51.907676,
          "locatie": "Pannerdensch Kanaal, Pannerden, Netherlands",
          "lon": 5.996553,
          "median": 0.00014378391847385185,
          "ministerie": "I&W",
          "project": "Krib- en oeververlaging Pannerdensch Kanaal",
          "type": "Feature"
         },
         {
          "date": "2018-10",
          "geometry": {
           "coordinates": [
            5.996553,
            51.907676
           ],
           "type": "Point"
          },
          "lat": 51.907676,
          "locatie": "Pannerdensch Kanaal, Pannerden, Netherlands",
          "lon": 5.996553,
          "median": 0.00012805329625613235,
          "ministerie": "I&W",
          "project": "Krib- en oeververlaging Pannerdensch Kanaal",
          "type": "Feature"
         },
         {
          "date": "2018-11",
          "geometry": {
           "coordinates": [
            5.996553,
            51.907676
           ],
           "type": "Point"
          },
          "lat": 51.907676,
          "locatie": "Pannerdensch Kanaal, Pannerden, Netherlands",
          "lon": 5.996553,
          "median": 0.00016761338516517763,
          "ministerie": "I&W",
          "project": "Krib- en oeververlaging Pannerdensch Kanaal",
          "type": "Feature"
         },
         {
          "date": "2018-12",
          "geometry": {
           "coordinates": [
            5.996553,
            51.907676
           ],
           "type": "Point"
          },
          "lat": 51.907676,
          "locatie": "Pannerdensch Kanaal, Pannerden, Netherlands",
          "lon": 5.996553,
          "median": 0.00012259538729990154,
          "ministerie": "I&W",
          "project": "Krib- en oeververlaging Pannerdensch Kanaal",
          "type": "Feature"
         },
         {
          "date": "2019-01",
          "geometry": {
           "coordinates": [
            5.996553,
            51.907676
           ],
           "type": "Point"
          },
          "lat": 51.907676,
          "locatie": "Pannerdensch Kanaal, Pannerden, Netherlands",
          "lon": 5.996553,
          "median": 0.00012930925211105147,
          "ministerie": "I&W",
          "project": "Krib- en oeververlaging Pannerdensch Kanaal",
          "type": "Feature"
         },
         {
          "date": "2019-02",
          "geometry": {
           "coordinates": [
            5.996553,
            51.907676
           ],
           "type": "Point"
          },
          "lat": 51.907676,
          "locatie": "Pannerdensch Kanaal, Pannerden, Netherlands",
          "lon": 5.996553,
          "median": 0.00015965727733820777,
          "ministerie": "I&W",
          "project": "Krib- en oeververlaging Pannerdensch Kanaal",
          "type": "Feature"
         },
         {
          "date": "2019-03",
          "geometry": {
           "coordinates": [
            5.996553,
            51.907676
           ],
           "type": "Point"
          },
          "lat": 51.907676,
          "locatie": "Pannerdensch Kanaal, Pannerden, Netherlands",
          "lon": 5.996553,
          "median": 0.00010793996660846971,
          "ministerie": "I&W",
          "project": "Krib- en oeververlaging Pannerdensch Kanaal",
          "type": "Feature"
         },
         {
          "date": "2019-04",
          "geometry": {
           "coordinates": [
            5.996553,
            51.907676
           ],
           "type": "Point"
          },
          "lat": 51.907676,
          "locatie": "Pannerdensch Kanaal, Pannerden, Netherlands",
          "lon": 5.996553,
          "median": 0.00011494801976853967,
          "ministerie": "I&W",
          "project": "Krib- en oeververlaging Pannerdensch Kanaal",
          "type": "Feature"
         },
         {
          "date": "2019-05",
          "geometry": {
           "coordinates": [
            5.996553,
            51.907676
           ],
           "type": "Point"
          },
          "lat": 51.907676,
          "locatie": "Pannerdensch Kanaal, Pannerden, Netherlands",
          "lon": 5.996553,
          "median": 0.00011838049894579008,
          "ministerie": "I&W",
          "project": "Krib- en oeververlaging Pannerdensch Kanaal",
          "type": "Feature"
         },
         {
          "date": "2019-06",
          "geometry": {
           "coordinates": [
            5.996553,
            51.907676
           ],
           "type": "Point"
          },
          "lat": 51.907676,
          "locatie": "Pannerdensch Kanaal, Pannerden, Netherlands",
          "lon": 5.996553,
          "median": 0.00011111862841062248,
          "ministerie": "I&W",
          "project": "Krib- en oeververlaging Pannerdensch Kanaal",
          "type": "Feature"
         },
         {
          "date": "2019-07",
          "geometry": {
           "coordinates": [
            5.996553,
            51.907676
           ],
           "type": "Point"
          },
          "lat": 51.907676,
          "locatie": "Pannerdensch Kanaal, Pannerden, Netherlands",
          "lon": 5.996553,
          "median": 0.00010800256072729966,
          "ministerie": "I&W",
          "project": "Krib- en oeververlaging Pannerdensch Kanaal",
          "type": "Feature"
         },
         {
          "date": "2019-08",
          "geometry": {
           "coordinates": [
            5.996553,
            51.907676
           ],
           "type": "Point"
          },
          "lat": 51.907676,
          "locatie": "Pannerdensch Kanaal, Pannerden, Netherlands",
          "lon": 5.996553,
          "median": 0.0001122860819516035,
          "ministerie": "I&W",
          "project": "Krib- en oeververlaging Pannerdensch Kanaal",
          "type": "Feature"
         },
         {
          "date": "2019-09",
          "geometry": {
           "coordinates": [
            5.996553,
            51.907676
           ],
           "type": "Point"
          },
          "lat": 51.907676,
          "locatie": "Pannerdensch Kanaal, Pannerden, Netherlands",
          "lon": 5.996553,
          "median": 0.00012862063290835368,
          "ministerie": "I&W",
          "project": "Krib- en oeververlaging Pannerdensch Kanaal",
          "type": "Feature"
         },
         {
          "date": "2018-07",
          "geometry": {
           "coordinates": [
            4.7621269999999996,
            52.309672
           ],
           "type": "Point"
          },
          "lat": 52.309672,
          "locatie": "Schiphol Airport, Schiphol, Netherlands",
          "lon": 4.7621269999999996,
          "median": 0.00014725008804816753,
          "ministerie": "I&W",
          "project": "Luchthavenverkeersbesluit Schiphol",
          "type": "Feature"
         },
         {
          "date": "2018-08",
          "geometry": {
           "coordinates": [
            4.7621269999999996,
            52.309672
           ],
           "type": "Point"
          },
          "lat": 52.309672,
          "locatie": "Schiphol Airport, Schiphol, Netherlands",
          "lon": 4.7621269999999996,
          "median": 0.00011812542765103839,
          "ministerie": "I&W",
          "project": "Luchthavenverkeersbesluit Schiphol",
          "type": "Feature"
         },
         {
          "date": "2018-09",
          "geometry": {
           "coordinates": [
            4.7621269999999996,
            52.309672
           ],
           "type": "Point"
          },
          "lat": 52.309672,
          "locatie": "Schiphol Airport, Schiphol, Netherlands",
          "lon": 4.7621269999999996,
          "median": 0.00013622523692902178,
          "ministerie": "I&W",
          "project": "Luchthavenverkeersbesluit Schiphol",
          "type": "Feature"
         },
         {
          "date": "2018-10",
          "geometry": {
           "coordinates": [
            4.7621269999999996,
            52.309672
           ],
           "type": "Point"
          },
          "lat": 52.309672,
          "locatie": "Schiphol Airport, Schiphol, Netherlands",
          "lon": 4.7621269999999996,
          "median": 0.00013099026620267285,
          "ministerie": "I&W",
          "project": "Luchthavenverkeersbesluit Schiphol",
          "type": "Feature"
         },
         {
          "date": "2018-11",
          "geometry": {
           "coordinates": [
            4.7621269999999996,
            52.309672
           ],
           "type": "Point"
          },
          "lat": 52.309672,
          "locatie": "Schiphol Airport, Schiphol, Netherlands",
          "lon": 4.7621269999999996,
          "median": 0.00015537134372967579,
          "ministerie": "I&W",
          "project": "Luchthavenverkeersbesluit Schiphol",
          "type": "Feature"
         },
         {
          "date": "2018-12",
          "geometry": {
           "coordinates": [
            4.7621269999999996,
            52.309672
           ],
           "type": "Point"
          },
          "lat": 52.309672,
          "locatie": "Schiphol Airport, Schiphol, Netherlands",
          "lon": 4.7621269999999996,
          "median": 0.00011159140587838304,
          "ministerie": "I&W",
          "project": "Luchthavenverkeersbesluit Schiphol",
          "type": "Feature"
         },
         {
          "date": "2019-01",
          "geometry": {
           "coordinates": [
            4.7621269999999996,
            52.309672
           ],
           "type": "Point"
          },
          "lat": 52.309672,
          "locatie": "Schiphol Airport, Schiphol, Netherlands",
          "lon": 4.7621269999999996,
          "median": 7.757640560157597e-05,
          "ministerie": "I&W",
          "project": "Luchthavenverkeersbesluit Schiphol",
          "type": "Feature"
         },
         {
          "date": "2019-02",
          "geometry": {
           "coordinates": [
            4.7621269999999996,
            52.309672
           ],
           "type": "Point"
          },
          "lat": 52.309672,
          "locatie": "Schiphol Airport, Schiphol, Netherlands",
          "lon": 4.7621269999999996,
          "median": 0.00016236889881890583,
          "ministerie": "I&W",
          "project": "Luchthavenverkeersbesluit Schiphol",
          "type": "Feature"
         },
         {
          "date": "2019-03",
          "geometry": {
           "coordinates": [
            4.7621269999999996,
            52.309672
           ],
           "type": "Point"
          },
          "lat": 52.309672,
          "locatie": "Schiphol Airport, Schiphol, Netherlands",
          "lon": 4.7621269999999996,
          "median": 9.756095532103213e-05,
          "ministerie": "I&W",
          "project": "Luchthavenverkeersbesluit Schiphol",
          "type": "Feature"
         },
         {
          "date": "2019-04",
          "geometry": {
           "coordinates": [
            4.7621269999999996,
            52.309672
           ],
           "type": "Point"
          },
          "lat": 52.309672,
          "locatie": "Schiphol Airport, Schiphol, Netherlands",
          "lon": 4.7621269999999996,
          "median": 0.0001312890017288737,
          "ministerie": "I&W",
          "project": "Luchthavenverkeersbesluit Schiphol",
          "type": "Feature"
         },
         {
          "date": "2019-05",
          "geometry": {
           "coordinates": [
            4.7621269999999996,
            52.309672
           ],
           "type": "Point"
          },
          "lat": 52.309672,
          "locatie": "Schiphol Airport, Schiphol, Netherlands",
          "lon": 4.7621269999999996,
          "median": 0.00011866022408237823,
          "ministerie": "I&W",
          "project": "Luchthavenverkeersbesluit Schiphol",
          "type": "Feature"
         },
         {
          "date": "2019-06",
          "geometry": {
           "coordinates": [
            4.7621269999999996,
            52.309672
           ],
           "type": "Point"
          },
          "lat": 52.309672,
          "locatie": "Schiphol Airport, Schiphol, Netherlands",
          "lon": 4.7621269999999996,
          "median": 0.00012039690045639873,
          "ministerie": "I&W",
          "project": "Luchthavenverkeersbesluit Schiphol",
          "type": "Feature"
         },
         {
          "date": "2019-07",
          "geometry": {
           "coordinates": [
            4.7621269999999996,
            52.309672
           ],
           "type": "Point"
          },
          "lat": 52.309672,
          "locatie": "Schiphol Airport, Schiphol, Netherlands",
          "lon": 4.7621269999999996,
          "median": 0.00011891662870766595,
          "ministerie": "I&W",
          "project": "Luchthavenverkeersbesluit Schiphol",
          "type": "Feature"
         },
         {
          "date": "2019-08",
          "geometry": {
           "coordinates": [
            4.7621269999999996,
            52.309672
           ],
           "type": "Point"
          },
          "lat": 52.309672,
          "locatie": "Schiphol Airport, Schiphol, Netherlands",
          "lon": 4.7621269999999996,
          "median": 0.00011630305380094796,
          "ministerie": "I&W",
          "project": "Luchthavenverkeersbesluit Schiphol",
          "type": "Feature"
         },
         {
          "date": "2019-09",
          "geometry": {
           "coordinates": [
            4.7621269999999996,
            52.309672
           ],
           "type": "Point"
          },
          "lat": 52.309672,
          "locatie": "Schiphol Airport, Schiphol, Netherlands",
          "lon": 4.7621269999999996,
          "median": 8.170006822264789e-05,
          "ministerie": "I&W",
          "project": "Luchthavenverkeersbesluit Schiphol",
          "type": "Feature"
         },
         {
          "date": "2018-07",
          "geometry": {
           "coordinates": [
            5.5243199999999995,
            52.455736
           ],
           "type": "Point"
          },
          "lat": 52.455736,
          "locatie": "Lelystad Airport, Lelystad, Netherlands",
          "lon": 5.5243199999999995,
          "median": 0.000105102417417341,
          "ministerie": "I&W",
          "project": "Luchthavenbesluit Lelystad Airport",
          "type": "Feature"
         },
         {
          "date": "2018-08",
          "geometry": {
           "coordinates": [
            5.5243199999999995,
            52.455736
           ],
           "type": "Point"
          },
          "lat": 52.455736,
          "locatie": "Lelystad Airport, Lelystad, Netherlands",
          "lon": 5.5243199999999995,
          "median": 0.0001016003337827245,
          "ministerie": "I&W",
          "project": "Luchthavenbesluit Lelystad Airport",
          "type": "Feature"
         },
         {
          "date": "2018-09",
          "geometry": {
           "coordinates": [
            5.5243199999999995,
            52.455736
           ],
           "type": "Point"
          },
          "lat": 52.455736,
          "locatie": "Lelystad Airport, Lelystad, Netherlands",
          "lon": 5.5243199999999995,
          "median": 0.00012335976116063297,
          "ministerie": "I&W",
          "project": "Luchthavenbesluit Lelystad Airport",
          "type": "Feature"
         },
         {
          "date": "2018-10",
          "geometry": {
           "coordinates": [
            5.5243199999999995,
            52.455736
           ],
           "type": "Point"
          },
          "lat": 52.455736,
          "locatie": "Lelystad Airport, Lelystad, Netherlands",
          "lon": 5.5243199999999995,
          "median": 0.00010869388941512689,
          "ministerie": "I&W",
          "project": "Luchthavenbesluit Lelystad Airport",
          "type": "Feature"
         },
         {
          "date": "2018-11",
          "geometry": {
           "coordinates": [
            5.5243199999999995,
            52.455736
           ],
           "type": "Point"
          },
          "lat": 52.455736,
          "locatie": "Lelystad Airport, Lelystad, Netherlands",
          "lon": 5.5243199999999995,
          "median": 0.00014469744869168152,
          "ministerie": "I&W",
          "project": "Luchthavenbesluit Lelystad Airport",
          "type": "Feature"
         },
         {
          "date": "2018-12",
          "geometry": {
           "coordinates": [
            5.5243199999999995,
            52.455736
           ],
           "type": "Point"
          },
          "lat": 52.455736,
          "locatie": "Lelystad Airport, Lelystad, Netherlands",
          "lon": 5.5243199999999995,
          "median": 9.456982743781436e-05,
          "ministerie": "I&W",
          "project": "Luchthavenbesluit Lelystad Airport",
          "type": "Feature"
         },
         {
          "date": "2019-01",
          "geometry": {
           "coordinates": [
            5.5243199999999995,
            52.455736
           ],
           "type": "Point"
          },
          "lat": 52.455736,
          "locatie": "Lelystad Airport, Lelystad, Netherlands",
          "lon": 5.5243199999999995,
          "median": 8.001893271883555e-05,
          "ministerie": "I&W",
          "project": "Luchthavenbesluit Lelystad Airport",
          "type": "Feature"
         },
         {
          "date": "2019-02",
          "geometry": {
           "coordinates": [
            5.5243199999999995,
            52.455736
           ],
           "type": "Point"
          },
          "lat": 52.455736,
          "locatie": "Lelystad Airport, Lelystad, Netherlands",
          "lon": 5.5243199999999995,
          "median": 0.0001657867504430559,
          "ministerie": "I&W",
          "project": "Luchthavenbesluit Lelystad Airport",
          "type": "Feature"
         },
         {
          "date": "2019-03",
          "geometry": {
           "coordinates": [
            5.5243199999999995,
            52.455736
           ],
           "type": "Point"
          },
          "lat": 52.455736,
          "locatie": "Lelystad Airport, Lelystad, Netherlands",
          "lon": 5.5243199999999995,
          "median": 9.366910671815276e-05,
          "ministerie": "I&W",
          "project": "Luchthavenbesluit Lelystad Airport",
          "type": "Feature"
         },
         {
          "date": "2019-04",
          "geometry": {
           "coordinates": [
            5.5243199999999995,
            52.455736
           ],
           "type": "Point"
          },
          "lat": 52.455736,
          "locatie": "Lelystad Airport, Lelystad, Netherlands",
          "lon": 5.5243199999999995,
          "median": 0.00010813693526530324,
          "ministerie": "I&W",
          "project": "Luchthavenbesluit Lelystad Airport",
          "type": "Feature"
         },
         {
          "date": "2019-05",
          "geometry": {
           "coordinates": [
            5.5243199999999995,
            52.455736
           ],
           "type": "Point"
          },
          "lat": 52.455736,
          "locatie": "Lelystad Airport, Lelystad, Netherlands",
          "lon": 5.5243199999999995,
          "median": 0.00010992112220264971,
          "ministerie": "I&W",
          "project": "Luchthavenbesluit Lelystad Airport",
          "type": "Feature"
         },
         {
          "date": "2019-06",
          "geometry": {
           "coordinates": [
            5.5243199999999995,
            52.455736
           ],
           "type": "Point"
          },
          "lat": 52.455736,
          "locatie": "Lelystad Airport, Lelystad, Netherlands",
          "lon": 5.5243199999999995,
          "median": 0.00010807023136294447,
          "ministerie": "I&W",
          "project": "Luchthavenbesluit Lelystad Airport",
          "type": "Feature"
         },
         {
          "date": "2019-07",
          "geometry": {
           "coordinates": [
            5.5243199999999995,
            52.455736
           ],
           "type": "Point"
          },
          "lat": 52.455736,
          "locatie": "Lelystad Airport, Lelystad, Netherlands",
          "lon": 5.5243199999999995,
          "median": 9.862106559587914e-05,
          "ministerie": "I&W",
          "project": "Luchthavenbesluit Lelystad Airport",
          "type": "Feature"
         },
         {
          "date": "2019-08",
          "geometry": {
           "coordinates": [
            5.5243199999999995,
            52.455736
           ],
           "type": "Point"
          },
          "lat": 52.455736,
          "locatie": "Lelystad Airport, Lelystad, Netherlands",
          "lon": 5.5243199999999995,
          "median": 0.00011694750559941717,
          "ministerie": "I&W",
          "project": "Luchthavenbesluit Lelystad Airport",
          "type": "Feature"
         },
         {
          "date": "2019-09",
          "geometry": {
           "coordinates": [
            5.5243199999999995,
            52.455736
           ],
           "type": "Point"
          },
          "lat": 52.455736,
          "locatie": "Lelystad Airport, Lelystad, Netherlands",
          "lon": 5.5243199999999995,
          "median": 8.941773558035493e-05,
          "ministerie": "I&W",
          "project": "Luchthavenbesluit Lelystad Airport",
          "type": "Feature"
         },
         {
          "date": "2018-07",
          "geometry": {
           "coordinates": [
            6.06171,
            53.330769999999994
           ],
           "type": "Point"
          },
          "lat": 53.330769999999994,
          "locatie": "Oostrum, Netherlands",
          "lon": 6.06171,
          "median": 9.033591777551919e-05,
          "ministerie": "I&W",
          "project": "Maaslijn (spoorwegproject)",
          "type": "Feature"
         },
         {
          "date": "2018-08",
          "geometry": {
           "coordinates": [
            6.06171,
            53.330769999999994
           ],
           "type": "Point"
          },
          "lat": 53.330769999999994,
          "locatie": "Oostrum, Netherlands",
          "lon": 6.06171,
          "median": 8.361595973838121e-05,
          "ministerie": "I&W",
          "project": "Maaslijn (spoorwegproject)",
          "type": "Feature"
         },
         {
          "date": "2018-09",
          "geometry": {
           "coordinates": [
            6.06171,
            53.330769999999994
           ],
           "type": "Point"
          },
          "lat": 53.330769999999994,
          "locatie": "Oostrum, Netherlands",
          "lon": 6.06171,
          "median": 8.60675712631903e-05,
          "ministerie": "I&W",
          "project": "Maaslijn (spoorwegproject)",
          "type": "Feature"
         },
         {
          "date": "2018-10",
          "geometry": {
           "coordinates": [
            6.06171,
            53.330769999999994
           ],
           "type": "Point"
          },
          "lat": 53.330769999999994,
          "locatie": "Oostrum, Netherlands",
          "lon": 6.06171,
          "median": 7.93026496038164e-05,
          "ministerie": "I&W",
          "project": "Maaslijn (spoorwegproject)",
          "type": "Feature"
         },
         {
          "date": "2018-11",
          "geometry": {
           "coordinates": [
            6.06171,
            53.330769999999994
           ],
           "type": "Point"
          },
          "lat": 53.330769999999994,
          "locatie": "Oostrum, Netherlands",
          "lon": 6.06171,
          "median": 0.00010306783310595668,
          "ministerie": "I&W",
          "project": "Maaslijn (spoorwegproject)",
          "type": "Feature"
         },
         {
          "date": "2018-12",
          "geometry": {
           "coordinates": [
            6.06171,
            53.330769999999994
           ],
           "type": "Point"
          },
          "lat": 53.330769999999994,
          "locatie": "Oostrum, Netherlands",
          "lon": 6.06171,
          "median": 6.995333350702683e-05,
          "ministerie": "I&W",
          "project": "Maaslijn (spoorwegproject)",
          "type": "Feature"
         },
         {
          "date": "2019-01",
          "geometry": {
           "coordinates": [
            6.06171,
            53.330769999999994
           ],
           "type": "Point"
          },
          "lat": 53.330769999999994,
          "locatie": "Oostrum, Netherlands",
          "lon": 6.06171,
          "median": 4.046615373083458e-05,
          "ministerie": "I&W",
          "project": "Maaslijn (spoorwegproject)",
          "type": "Feature"
         },
         {
          "date": "2019-02",
          "geometry": {
           "coordinates": [
            6.06171,
            53.330769999999994
           ],
           "type": "Point"
          },
          "lat": 53.330769999999994,
          "locatie": "Oostrum, Netherlands",
          "lon": 6.06171,
          "median": 0.00012788794992957264,
          "ministerie": "I&W",
          "project": "Maaslijn (spoorwegproject)",
          "type": "Feature"
         },
         {
          "date": "2019-03",
          "geometry": {
           "coordinates": [
            6.06171,
            53.330769999999994
           ],
           "type": "Point"
          },
          "lat": 53.330769999999994,
          "locatie": "Oostrum, Netherlands",
          "lon": 6.06171,
          "median": 6.752210902050138e-05,
          "ministerie": "I&W",
          "project": "Maaslijn (spoorwegproject)",
          "type": "Feature"
         },
         {
          "date": "2019-04",
          "geometry": {
           "coordinates": [
            6.06171,
            53.330769999999994
           ],
           "type": "Point"
          },
          "lat": 53.330769999999994,
          "locatie": "Oostrum, Netherlands",
          "lon": 6.06171,
          "median": 9.277396748075262e-05,
          "ministerie": "I&W",
          "project": "Maaslijn (spoorwegproject)",
          "type": "Feature"
         },
         {
          "date": "2019-05",
          "geometry": {
           "coordinates": [
            6.06171,
            53.330769999999994
           ],
           "type": "Point"
          },
          "lat": 53.330769999999994,
          "locatie": "Oostrum, Netherlands",
          "lon": 6.06171,
          "median": 8.912257180782035e-05,
          "ministerie": "I&W",
          "project": "Maaslijn (spoorwegproject)",
          "type": "Feature"
         },
         {
          "date": "2019-06",
          "geometry": {
           "coordinates": [
            6.06171,
            53.330769999999994
           ],
           "type": "Point"
          },
          "lat": 53.330769999999994,
          "locatie": "Oostrum, Netherlands",
          "lon": 6.06171,
          "median": 9.816697882828108e-05,
          "ministerie": "I&W",
          "project": "Maaslijn (spoorwegproject)",
          "type": "Feature"
         },
         {
          "date": "2019-07",
          "geometry": {
           "coordinates": [
            6.06171,
            53.330769999999994
           ],
           "type": "Point"
          },
          "lat": 53.330769999999994,
          "locatie": "Oostrum, Netherlands",
          "lon": 6.06171,
          "median": 8.395187175105857e-05,
          "ministerie": "I&W",
          "project": "Maaslijn (spoorwegproject)",
          "type": "Feature"
         },
         {
          "date": "2019-08",
          "geometry": {
           "coordinates": [
            6.06171,
            53.330769999999994
           ],
           "type": "Point"
          },
          "lat": 53.330769999999994,
          "locatie": "Oostrum, Netherlands",
          "lon": 6.06171,
          "median": 9.331353066954762e-05,
          "ministerie": "I&W",
          "project": "Maaslijn (spoorwegproject)",
          "type": "Feature"
         },
         {
          "date": "2019-09",
          "geometry": {
           "coordinates": [
            6.06171,
            53.330769999999994
           ],
           "type": "Point"
          },
          "lat": 53.330769999999994,
          "locatie": "Oostrum, Netherlands",
          "lon": 6.06171,
          "median": 6.645279617214942e-05,
          "ministerie": "I&W",
          "project": "Maaslijn (spoorwegproject)",
          "type": "Feature"
         },
         {
          "date": "2018-07",
          "geometry": {
           "coordinates": [
            6.876297999999999,
            53.245241
           ],
           "type": "Point"
          },
          "lat": 53.245241,
          "locatie": "N33, Siddeburen, Netherlands",
          "lon": 6.876297999999999,
          "median": 9.795979713089764e-05,
          "ministerie": "I&W",
          "project": "N33 Zuidbroek - Appingedam",
          "type": "Feature"
         },
         {
          "date": "2018-08",
          "geometry": {
           "coordinates": [
            6.876297999999999,
            53.245241
           ],
           "type": "Point"
          },
          "lat": 53.245241,
          "locatie": "N33, Siddeburen, Netherlands",
          "lon": 6.876297999999999,
          "median": 8.950725882327372e-05,
          "ministerie": "I&W",
          "project": "N33 Zuidbroek - Appingedam",
          "type": "Feature"
         },
         {
          "date": "2018-09",
          "geometry": {
           "coordinates": [
            6.876297999999999,
            53.245241
           ],
           "type": "Point"
          },
          "lat": 53.245241,
          "locatie": "N33, Siddeburen, Netherlands",
          "lon": 6.876297999999999,
          "median": 0.00010514085480039614,
          "ministerie": "I&W",
          "project": "N33 Zuidbroek - Appingedam",
          "type": "Feature"
         },
         {
          "date": "2018-10",
          "geometry": {
           "coordinates": [
            6.876297999999999,
            53.245241
           ],
           "type": "Point"
          },
          "lat": 53.245241,
          "locatie": "N33, Siddeburen, Netherlands",
          "lon": 6.876297999999999,
          "median": 0.00010168572669294003,
          "ministerie": "I&W",
          "project": "N33 Zuidbroek - Appingedam",
          "type": "Feature"
         },
         {
          "date": "2018-11",
          "geometry": {
           "coordinates": [
            6.876297999999999,
            53.245241
           ],
           "type": "Point"
          },
          "lat": 53.245241,
          "locatie": "N33, Siddeburen, Netherlands",
          "lon": 6.876297999999999,
          "median": 9.726966527523473e-05,
          "ministerie": "I&W",
          "project": "N33 Zuidbroek - Appingedam",
          "type": "Feature"
         },
         {
          "date": "2018-12",
          "geometry": {
           "coordinates": [
            6.876297999999999,
            53.245241
           ],
           "type": "Point"
          },
          "lat": 53.245241,
          "locatie": "N33, Siddeburen, Netherlands",
          "lon": 6.876297999999999,
          "median": 7.954351104732412e-05,
          "ministerie": "I&W",
          "project": "N33 Zuidbroek - Appingedam",
          "type": "Feature"
         },
         {
          "date": "2019-01",
          "geometry": {
           "coordinates": [
            6.876297999999999,
            53.245241
           ],
           "type": "Point"
          },
          "lat": 53.245241,
          "locatie": "N33, Siddeburen, Netherlands",
          "lon": 6.876297999999999,
          "median": 5.7029997366548087e-05,
          "ministerie": "I&W",
          "project": "N33 Zuidbroek - Appingedam",
          "type": "Feature"
         },
         {
          "date": "2019-02",
          "geometry": {
           "coordinates": [
            6.876297999999999,
            53.245241
           ],
           "type": "Point"
          },
          "lat": 53.245241,
          "locatie": "N33, Siddeburen, Netherlands",
          "lon": 6.876297999999999,
          "median": 0.00013142090590081228,
          "ministerie": "I&W",
          "project": "N33 Zuidbroek - Appingedam",
          "type": "Feature"
         },
         {
          "date": "2019-03",
          "geometry": {
           "coordinates": [
            6.876297999999999,
            53.245241
           ],
           "type": "Point"
          },
          "lat": 53.245241,
          "locatie": "N33, Siddeburen, Netherlands",
          "lon": 6.876297999999999,
          "median": 7.176620782152707e-05,
          "ministerie": "I&W",
          "project": "N33 Zuidbroek - Appingedam",
          "type": "Feature"
         },
         {
          "date": "2019-04",
          "geometry": {
           "coordinates": [
            6.876297999999999,
            53.245241
           ],
           "type": "Point"
          },
          "lat": 53.245241,
          "locatie": "N33, Siddeburen, Netherlands",
          "lon": 6.876297999999999,
          "median": 9.658828702624442e-05,
          "ministerie": "I&W",
          "project": "N33 Zuidbroek - Appingedam",
          "type": "Feature"
         },
         {
          "date": "2019-05",
          "geometry": {
           "coordinates": [
            6.876297999999999,
            53.245241
           ],
           "type": "Point"
          },
          "lat": 53.245241,
          "locatie": "N33, Siddeburen, Netherlands",
          "lon": 6.876297999999999,
          "median": 9.500135078795331e-05,
          "ministerie": "I&W",
          "project": "N33 Zuidbroek - Appingedam",
          "type": "Feature"
         },
         {
          "date": "2019-06",
          "geometry": {
           "coordinates": [
            6.876297999999999,
            53.245241
           ],
           "type": "Point"
          },
          "lat": 53.245241,
          "locatie": "N33, Siddeburen, Netherlands",
          "lon": 6.876297999999999,
          "median": 9.9151777661563e-05,
          "ministerie": "I&W",
          "project": "N33 Zuidbroek - Appingedam",
          "type": "Feature"
         },
         {
          "date": "2019-07",
          "geometry": {
           "coordinates": [
            6.876297999999999,
            53.245241
           ],
           "type": "Point"
          },
          "lat": 53.245241,
          "locatie": "N33, Siddeburen, Netherlands",
          "lon": 6.876297999999999,
          "median": 8.6272313580002e-05,
          "ministerie": "I&W",
          "project": "N33 Zuidbroek - Appingedam",
          "type": "Feature"
         },
         {
          "date": "2019-08",
          "geometry": {
           "coordinates": [
            6.876297999999999,
            53.245241
           ],
           "type": "Point"
          },
          "lat": 53.245241,
          "locatie": "N33, Siddeburen, Netherlands",
          "lon": 6.876297999999999,
          "median": 9.949030936695635e-05,
          "ministerie": "I&W",
          "project": "N33 Zuidbroek - Appingedam",
          "type": "Feature"
         },
         {
          "date": "2019-09",
          "geometry": {
           "coordinates": [
            6.876297999999999,
            53.245241
           ],
           "type": "Point"
          },
          "lat": 53.245241,
          "locatie": "N33, Siddeburen, Netherlands",
          "lon": 6.876297999999999,
          "median": 8.222723494993055e-05,
          "ministerie": "I&W",
          "project": "N33 Zuidbroek - Appingedam",
          "type": "Feature"
         },
         {
          "date": "2018-07",
          "geometry": {
           "coordinates": [
            6.524794,
            52.3607
           ],
           "type": "Point"
          },
          "lat": 52.3607,
          "locatie": "2 Schapendijk, Notter, Netherlands",
          "lon": 6.524794,
          "median": 0.00010230540127327417,
          "ministerie": "I&W",
          "project": "N35 Nijverdal - Wierden",
          "type": "Feature"
         },
         {
          "date": "2018-08",
          "geometry": {
           "coordinates": [
            6.524794,
            52.3607
           ],
           "type": "Point"
          },
          "lat": 52.3607,
          "locatie": "2 Schapendijk, Notter, Netherlands",
          "lon": 6.524794,
          "median": 0.00010394356650067493,
          "ministerie": "I&W",
          "project": "N35 Nijverdal - Wierden",
          "type": "Feature"
         },
         {
          "date": "2018-09",
          "geometry": {
           "coordinates": [
            6.524794,
            52.3607
           ],
           "type": "Point"
          },
          "lat": 52.3607,
          "locatie": "2 Schapendijk, Notter, Netherlands",
          "lon": 6.524794,
          "median": 0.00011772498011752575,
          "ministerie": "I&W",
          "project": "N35 Nijverdal - Wierden",
          "type": "Feature"
         },
         {
          "date": "2018-10",
          "geometry": {
           "coordinates": [
            6.524794,
            52.3607
           ],
           "type": "Point"
          },
          "lat": 52.3607,
          "locatie": "2 Schapendijk, Notter, Netherlands",
          "lon": 6.524794,
          "median": 0.00011726053492943473,
          "ministerie": "I&W",
          "project": "N35 Nijverdal - Wierden",
          "type": "Feature"
         },
         {
          "date": "2018-11",
          "geometry": {
           "coordinates": [
            6.524794,
            52.3607
           ],
           "type": "Point"
          },
          "lat": 52.3607,
          "locatie": "2 Schapendijk, Notter, Netherlands",
          "lon": 6.524794,
          "median": 0.0001351252165670799,
          "ministerie": "I&W",
          "project": "N35 Nijverdal - Wierden",
          "type": "Feature"
         },
         {
          "date": "2018-12",
          "geometry": {
           "coordinates": [
            6.524794,
            52.3607
           ],
           "type": "Point"
          },
          "lat": 52.3607,
          "locatie": "2 Schapendijk, Notter, Netherlands",
          "lon": 6.524794,
          "median": 9.529163462761539e-05,
          "ministerie": "I&W",
          "project": "N35 Nijverdal - Wierden",
          "type": "Feature"
         },
         {
          "date": "2019-01",
          "geometry": {
           "coordinates": [
            6.524794,
            52.3607
           ],
           "type": "Point"
          },
          "lat": 52.3607,
          "locatie": "2 Schapendijk, Notter, Netherlands",
          "lon": 6.524794,
          "median": 9.62051988354453e-05,
          "ministerie": "I&W",
          "project": "N35 Nijverdal - Wierden",
          "type": "Feature"
         },
         {
          "date": "2019-02",
          "geometry": {
           "coordinates": [
            6.524794,
            52.3607
           ],
           "type": "Point"
          },
          "lat": 52.3607,
          "locatie": "2 Schapendijk, Notter, Netherlands",
          "lon": 6.524794,
          "median": 0.00014789431588724256,
          "ministerie": "I&W",
          "project": "N35 Nijverdal - Wierden",
          "type": "Feature"
         },
         {
          "date": "2019-03",
          "geometry": {
           "coordinates": [
            6.524794,
            52.3607
           ],
           "type": "Point"
          },
          "lat": 52.3607,
          "locatie": "2 Schapendijk, Notter, Netherlands",
          "lon": 6.524794,
          "median": 9.806619114763516e-05,
          "ministerie": "I&W",
          "project": "N35 Nijverdal - Wierden",
          "type": "Feature"
         },
         {
          "date": "2019-04",
          "geometry": {
           "coordinates": [
            6.524794,
            52.3607
           ],
           "type": "Point"
          },
          "lat": 52.3607,
          "locatie": "2 Schapendijk, Notter, Netherlands",
          "lon": 6.524794,
          "median": 0.00010570047917719464,
          "ministerie": "I&W",
          "project": "N35 Nijverdal - Wierden",
          "type": "Feature"
         },
         {
          "date": "2019-05",
          "geometry": {
           "coordinates": [
            6.524794,
            52.3607
           ],
           "type": "Point"
          },
          "lat": 52.3607,
          "locatie": "2 Schapendijk, Notter, Netherlands",
          "lon": 6.524794,
          "median": 0.00010711091050091671,
          "ministerie": "I&W",
          "project": "N35 Nijverdal - Wierden",
          "type": "Feature"
         },
         {
          "date": "2019-06",
          "geometry": {
           "coordinates": [
            6.524794,
            52.3607
           ],
           "type": "Point"
          },
          "lat": 52.3607,
          "locatie": "2 Schapendijk, Notter, Netherlands",
          "lon": 6.524794,
          "median": 0.0001043159651168567,
          "ministerie": "I&W",
          "project": "N35 Nijverdal - Wierden",
          "type": "Feature"
         },
         {
          "date": "2019-07",
          "geometry": {
           "coordinates": [
            6.524794,
            52.3607
           ],
           "type": "Point"
          },
          "lat": 52.3607,
          "locatie": "2 Schapendijk, Notter, Netherlands",
          "lon": 6.524794,
          "median": 9.672080194533469e-05,
          "ministerie": "I&W",
          "project": "N35 Nijverdal - Wierden",
          "type": "Feature"
         },
         {
          "date": "2019-08",
          "geometry": {
           "coordinates": [
            6.524794,
            52.3607
           ],
           "type": "Point"
          },
          "lat": 52.3607,
          "locatie": "2 Schapendijk, Notter, Netherlands",
          "lon": 6.524794,
          "median": 0.00010922683941316791,
          "ministerie": "I&W",
          "project": "N35 Nijverdal - Wierden",
          "type": "Feature"
         },
         {
          "date": "2019-09",
          "geometry": {
           "coordinates": [
            6.524794,
            52.3607
           ],
           "type": "Point"
          },
          "lat": 52.3607,
          "locatie": "2 Schapendijk, Notter, Netherlands",
          "lon": 6.524794,
          "median": 0.00010349715023153944,
          "ministerie": "I&W",
          "project": "N35 Nijverdal - Wierden",
          "type": "Feature"
         },
         {
          "date": "2018-07",
          "geometry": {
           "coordinates": [
            5.881369,
            52.555014
           ],
           "type": "Point"
          },
          "lat": 52.555014,
          "locatie": "N50, Kampen, Netherlands",
          "lon": 5.881369,
          "median": 0.00010496008326299489,
          "ministerie": "I&W",
          "project": "N50 Kampen - Kampen Zuid",
          "type": "Feature"
         },
         {
          "date": "2018-08",
          "geometry": {
           "coordinates": [
            5.881369,
            52.555014
           ],
           "type": "Point"
          },
          "lat": 52.555014,
          "locatie": "N50, Kampen, Netherlands",
          "lon": 5.881369,
          "median": 0.00010028602266740758,
          "ministerie": "I&W",
          "project": "N50 Kampen - Kampen Zuid",
          "type": "Feature"
         },
         {
          "date": "2018-09",
          "geometry": {
           "coordinates": [
            5.881369,
            52.555014
           ],
           "type": "Point"
          },
          "lat": 52.555014,
          "locatie": "N50, Kampen, Netherlands",
          "lon": 5.881369,
          "median": 0.00012073663415214878,
          "ministerie": "I&W",
          "project": "N50 Kampen - Kampen Zuid",
          "type": "Feature"
         },
         {
          "date": "2018-10",
          "geometry": {
           "coordinates": [
            5.881369,
            52.555014
           ],
           "type": "Point"
          },
          "lat": 52.555014,
          "locatie": "N50, Kampen, Netherlands",
          "lon": 5.881369,
          "median": 9.944740851104025e-05,
          "ministerie": "I&W",
          "project": "N50 Kampen - Kampen Zuid",
          "type": "Feature"
         },
         {
          "date": "2018-11",
          "geometry": {
           "coordinates": [
            5.881369,
            52.555014
           ],
           "type": "Point"
          },
          "lat": 52.555014,
          "locatie": "N50, Kampen, Netherlands",
          "lon": 5.881369,
          "median": 0.0001286529950448312,
          "ministerie": "I&W",
          "project": "N50 Kampen - Kampen Zuid",
          "type": "Feature"
         },
         {
          "date": "2018-12",
          "geometry": {
           "coordinates": [
            5.881369,
            52.555014
           ],
           "type": "Point"
          },
          "lat": 52.555014,
          "locatie": "N50, Kampen, Netherlands",
          "lon": 5.881369,
          "median": 8.381441586705812e-05,
          "ministerie": "I&W",
          "project": "N50 Kampen - Kampen Zuid",
          "type": "Feature"
         },
         {
          "date": "2019-01",
          "geometry": {
           "coordinates": [
            5.881369,
            52.555014
           ],
           "type": "Point"
          },
          "lat": 52.555014,
          "locatie": "N50, Kampen, Netherlands",
          "lon": 5.881369,
          "median": 7.487191184032464e-05,
          "ministerie": "I&W",
          "project": "N50 Kampen - Kampen Zuid",
          "type": "Feature"
         },
         {
          "date": "2019-02",
          "geometry": {
           "coordinates": [
            5.881369,
            52.555014
           ],
           "type": "Point"
          },
          "lat": 52.555014,
          "locatie": "N50, Kampen, Netherlands",
          "lon": 5.881369,
          "median": 0.00014293569984147325,
          "ministerie": "I&W",
          "project": "N50 Kampen - Kampen Zuid",
          "type": "Feature"
         },
         {
          "date": "2019-03",
          "geometry": {
           "coordinates": [
            5.881369,
            52.555014
           ],
           "type": "Point"
          },
          "lat": 52.555014,
          "locatie": "N50, Kampen, Netherlands",
          "lon": 5.881369,
          "median": 8.486208061817681e-05,
          "ministerie": "I&W",
          "project": "N50 Kampen - Kampen Zuid",
          "type": "Feature"
         },
         {
          "date": "2019-04",
          "geometry": {
           "coordinates": [
            5.881369,
            52.555014
           ],
           "type": "Point"
          },
          "lat": 52.555014,
          "locatie": "N50, Kampen, Netherlands",
          "lon": 5.881369,
          "median": 0.00010375232920292653,
          "ministerie": "I&W",
          "project": "N50 Kampen - Kampen Zuid",
          "type": "Feature"
         },
         {
          "date": "2019-05",
          "geometry": {
           "coordinates": [
            5.881369,
            52.555014
           ],
           "type": "Point"
          },
          "lat": 52.555014,
          "locatie": "N50, Kampen, Netherlands",
          "lon": 5.881369,
          "median": 9.925524032214781e-05,
          "ministerie": "I&W",
          "project": "N50 Kampen - Kampen Zuid",
          "type": "Feature"
         },
         {
          "date": "2019-06",
          "geometry": {
           "coordinates": [
            5.881369,
            52.555014
           ],
           "type": "Point"
          },
          "lat": 52.555014,
          "locatie": "N50, Kampen, Netherlands",
          "lon": 5.881369,
          "median": 9.969756404852467e-05,
          "ministerie": "I&W",
          "project": "N50 Kampen - Kampen Zuid",
          "type": "Feature"
         },
         {
          "date": "2019-07",
          "geometry": {
           "coordinates": [
            5.881369,
            52.555014
           ],
           "type": "Point"
          },
          "lat": 52.555014,
          "locatie": "N50, Kampen, Netherlands",
          "lon": 5.881369,
          "median": 9.164269609220849e-05,
          "ministerie": "I&W",
          "project": "N50 Kampen - Kampen Zuid",
          "type": "Feature"
         },
         {
          "date": "2019-08",
          "geometry": {
           "coordinates": [
            5.881369,
            52.555014
           ],
           "type": "Point"
          },
          "lat": 52.555014,
          "locatie": "N50, Kampen, Netherlands",
          "lon": 5.881369,
          "median": 0.00010620149623719044,
          "ministerie": "I&W",
          "project": "N50 Kampen - Kampen Zuid",
          "type": "Feature"
         },
         {
          "date": "2019-09",
          "geometry": {
           "coordinates": [
            5.881369,
            52.555014
           ],
           "type": "Point"
          },
          "lat": 52.555014,
          "locatie": "N50, Kampen, Netherlands",
          "lon": 5.881369,
          "median": 7.606090382536461e-05,
          "ministerie": "I&W",
          "project": "N50 Kampen - Kampen Zuid",
          "type": "Feature"
         },
         {
          "date": "2018-07",
          "geometry": {
           "coordinates": [
            4.756951,
            52.495245
           ],
           "type": "Point"
          },
          "lat": 52.495245,
          "locatie": "Krommenie, Netherlands",
          "lon": 4.756951,
          "median": 0.00011097884368472059,
          "ministerie": "I&W",
          "project": "Programma Hoogfrequent Spoorvervoer: Alkmaar - Amsterdam",
          "type": "Feature"
         },
         {
          "date": "2018-08",
          "geometry": {
           "coordinates": [
            4.756951,
            52.495245
           ],
           "type": "Point"
          },
          "lat": 52.495245,
          "locatie": "Krommenie, Netherlands",
          "lon": 4.756951,
          "median": 9.920942895881379e-05,
          "ministerie": "I&W",
          "project": "Programma Hoogfrequent Spoorvervoer: Alkmaar - Amsterdam",
          "type": "Feature"
         },
         {
          "date": "2018-09",
          "geometry": {
           "coordinates": [
            4.756951,
            52.495245
           ],
           "type": "Point"
          },
          "lat": 52.495245,
          "locatie": "Krommenie, Netherlands",
          "lon": 4.756951,
          "median": 0.00011031720823951996,
          "ministerie": "I&W",
          "project": "Programma Hoogfrequent Spoorvervoer: Alkmaar - Amsterdam",
          "type": "Feature"
         },
         {
          "date": "2018-10",
          "geometry": {
           "coordinates": [
            4.756951,
            52.495245
           ],
           "type": "Point"
          },
          "lat": 52.495245,
          "locatie": "Krommenie, Netherlands",
          "lon": 4.756951,
          "median": 0.00011644282614886985,
          "ministerie": "I&W",
          "project": "Programma Hoogfrequent Spoorvervoer: Alkmaar - Amsterdam",
          "type": "Feature"
         },
         {
          "date": "2018-11",
          "geometry": {
           "coordinates": [
            4.756951,
            52.495245
           ],
           "type": "Point"
          },
          "lat": 52.495245,
          "locatie": "Krommenie, Netherlands",
          "lon": 4.756951,
          "median": 0.00015110932872630656,
          "ministerie": "I&W",
          "project": "Programma Hoogfrequent Spoorvervoer: Alkmaar - Amsterdam",
          "type": "Feature"
         },
         {
          "date": "2018-12",
          "geometry": {
           "coordinates": [
            4.756951,
            52.495245
           ],
           "type": "Point"
          },
          "lat": 52.495245,
          "locatie": "Krommenie, Netherlands",
          "lon": 4.756951,
          "median": 9.870795734127682e-05,
          "ministerie": "I&W",
          "project": "Programma Hoogfrequent Spoorvervoer: Alkmaar - Amsterdam",
          "type": "Feature"
         },
         {
          "date": "2019-01",
          "geometry": {
           "coordinates": [
            4.756951,
            52.495245
           ],
           "type": "Point"
          },
          "lat": 52.495245,
          "locatie": "Krommenie, Netherlands",
          "lon": 4.756951,
          "median": 6.933344829316364e-05,
          "ministerie": "I&W",
          "project": "Programma Hoogfrequent Spoorvervoer: Alkmaar - Amsterdam",
          "type": "Feature"
         },
         {
          "date": "2019-02",
          "geometry": {
           "coordinates": [
            4.756951,
            52.495245
           ],
           "type": "Point"
          },
          "lat": 52.495245,
          "locatie": "Krommenie, Netherlands",
          "lon": 4.756951,
          "median": 0.00014633216778747737,
          "ministerie": "I&W",
          "project": "Programma Hoogfrequent Spoorvervoer: Alkmaar - Amsterdam",
          "type": "Feature"
         },
         {
          "date": "2019-03",
          "geometry": {
           "coordinates": [
            4.756951,
            52.495245
           ],
           "type": "Point"
          },
          "lat": 52.495245,
          "locatie": "Krommenie, Netherlands",
          "lon": 4.756951,
          "median": 9.086935333966578e-05,
          "ministerie": "I&W",
          "project": "Programma Hoogfrequent Spoorvervoer: Alkmaar - Amsterdam",
          "type": "Feature"
         },
         {
          "date": "2019-04",
          "geometry": {
           "coordinates": [
            4.756951,
            52.495245
           ],
           "type": "Point"
          },
          "lat": 52.495245,
          "locatie": "Krommenie, Netherlands",
          "lon": 4.756951,
          "median": 0.0001126693466529187,
          "ministerie": "I&W",
          "project": "Programma Hoogfrequent Spoorvervoer: Alkmaar - Amsterdam",
          "type": "Feature"
         },
         {
          "date": "2019-05",
          "geometry": {
           "coordinates": [
            4.756951,
            52.495245
           ],
           "type": "Point"
          },
          "lat": 52.495245,
          "locatie": "Krommenie, Netherlands",
          "lon": 4.756951,
          "median": 0.00010531685984460637,
          "ministerie": "I&W",
          "project": "Programma Hoogfrequent Spoorvervoer: Alkmaar - Amsterdam",
          "type": "Feature"
         },
         {
          "date": "2019-06",
          "geometry": {
           "coordinates": [
            4.756951,
            52.495245
           ],
           "type": "Point"
          },
          "lat": 52.495245,
          "locatie": "Krommenie, Netherlands",
          "lon": 4.756951,
          "median": 0.00011438323203151494,
          "ministerie": "I&W",
          "project": "Programma Hoogfrequent Spoorvervoer: Alkmaar - Amsterdam",
          "type": "Feature"
         },
         {
          "date": "2019-07",
          "geometry": {
           "coordinates": [
            4.756951,
            52.495245
           ],
           "type": "Point"
          },
          "lat": 52.495245,
          "locatie": "Krommenie, Netherlands",
          "lon": 4.756951,
          "median": 0.00010844675125554204,
          "ministerie": "I&W",
          "project": "Programma Hoogfrequent Spoorvervoer: Alkmaar - Amsterdam",
          "type": "Feature"
         },
         {
          "date": "2019-08",
          "geometry": {
           "coordinates": [
            4.756951,
            52.495245
           ],
           "type": "Point"
          },
          "lat": 52.495245,
          "locatie": "Krommenie, Netherlands",
          "lon": 4.756951,
          "median": 0.00010866809951202072,
          "ministerie": "I&W",
          "project": "Programma Hoogfrequent Spoorvervoer: Alkmaar - Amsterdam",
          "type": "Feature"
         },
         {
          "date": "2019-09",
          "geometry": {
           "coordinates": [
            4.756951,
            52.495245
           ],
           "type": "Point"
          },
          "lat": 52.495245,
          "locatie": "Krommenie, Netherlands",
          "lon": 4.756951,
          "median": 8.328160071890815e-05,
          "ministerie": "I&W",
          "project": "Programma Hoogfrequent Spoorvervoer: Alkmaar - Amsterdam",
          "type": "Feature"
         },
         {
          "date": "2018-07",
          "geometry": {
           "coordinates": [
            4.901278,
            52.378908
           ],
           "type": "Point"
          },
          "lat": 52.378908,
          "locatie": "Amsterdam Centraal, Amsterdam, Netherlands",
          "lon": 4.901278,
          "median": 0.00012923620851848478,
          "ministerie": "I&W",
          "project": "Programma Hoogfrequent Spoorvervoer: Amsterdam Centraal",
          "type": "Feature"
         },
         {
          "date": "2018-08",
          "geometry": {
           "coordinates": [
            4.901278,
            52.378908
           ],
           "type": "Point"
          },
          "lat": 52.378908,
          "locatie": "Amsterdam Centraal, Amsterdam, Netherlands",
          "lon": 4.901278,
          "median": 0.00011949528561672196,
          "ministerie": "I&W",
          "project": "Programma Hoogfrequent Spoorvervoer: Amsterdam Centraal",
          "type": "Feature"
         },
         {
          "date": "2018-09",
          "geometry": {
           "coordinates": [
            4.901278,
            52.378908
           ],
           "type": "Point"
          },
          "lat": 52.378908,
          "locatie": "Amsterdam Centraal, Amsterdam, Netherlands",
          "lon": 4.901278,
          "median": 0.00013501739522030735,
          "ministerie": "I&W",
          "project": "Programma Hoogfrequent Spoorvervoer: Amsterdam Centraal",
          "type": "Feature"
         },
         {
          "date": "2018-10",
          "geometry": {
           "coordinates": [
            4.901278,
            52.378908
           ],
           "type": "Point"
          },
          "lat": 52.378908,
          "locatie": "Amsterdam Centraal, Amsterdam, Netherlands",
          "lon": 4.901278,
          "median": 0.00013172250875849635,
          "ministerie": "I&W",
          "project": "Programma Hoogfrequent Spoorvervoer: Amsterdam Centraal",
          "type": "Feature"
         },
         {
          "date": "2018-11",
          "geometry": {
           "coordinates": [
            4.901278,
            52.378908
           ],
           "type": "Point"
          },
          "lat": 52.378908,
          "locatie": "Amsterdam Centraal, Amsterdam, Netherlands",
          "lon": 4.901278,
          "median": 0.0001589771379101875,
          "ministerie": "I&W",
          "project": "Programma Hoogfrequent Spoorvervoer: Amsterdam Centraal",
          "type": "Feature"
         },
         {
          "date": "2018-12",
          "geometry": {
           "coordinates": [
            4.901278,
            52.378908
           ],
           "type": "Point"
          },
          "lat": 52.378908,
          "locatie": "Amsterdam Centraal, Amsterdam, Netherlands",
          "lon": 4.901278,
          "median": 0.0001079886750032932,
          "ministerie": "I&W",
          "project": "Programma Hoogfrequent Spoorvervoer: Amsterdam Centraal",
          "type": "Feature"
         },
         {
          "date": "2019-01",
          "geometry": {
           "coordinates": [
            4.901278,
            52.378908
           ],
           "type": "Point"
          },
          "lat": 52.378908,
          "locatie": "Amsterdam Centraal, Amsterdam, Netherlands",
          "lon": 4.901278,
          "median": 7.360398608490323e-05,
          "ministerie": "I&W",
          "project": "Programma Hoogfrequent Spoorvervoer: Amsterdam Centraal",
          "type": "Feature"
         },
         {
          "date": "2019-02",
          "geometry": {
           "coordinates": [
            4.901278,
            52.378908
           ],
           "type": "Point"
          },
          "lat": 52.378908,
          "locatie": "Amsterdam Centraal, Amsterdam, Netherlands",
          "lon": 4.901278,
          "median": 0.00015701988908917332,
          "ministerie": "I&W",
          "project": "Programma Hoogfrequent Spoorvervoer: Amsterdam Centraal",
          "type": "Feature"
         },
         {
          "date": "2019-03",
          "geometry": {
           "coordinates": [
            4.901278,
            52.378908
           ],
           "type": "Point"
          },
          "lat": 52.378908,
          "locatie": "Amsterdam Centraal, Amsterdam, Netherlands",
          "lon": 4.901278,
          "median": 0.00010644651633841144,
          "ministerie": "I&W",
          "project": "Programma Hoogfrequent Spoorvervoer: Amsterdam Centraal",
          "type": "Feature"
         },
         {
          "date": "2019-04",
          "geometry": {
           "coordinates": [
            4.901278,
            52.378908
           ],
           "type": "Point"
          },
          "lat": 52.378908,
          "locatie": "Amsterdam Centraal, Amsterdam, Netherlands",
          "lon": 4.901278,
          "median": 0.00012033673496797357,
          "ministerie": "I&W",
          "project": "Programma Hoogfrequent Spoorvervoer: Amsterdam Centraal",
          "type": "Feature"
         },
         {
          "date": "2019-05",
          "geometry": {
           "coordinates": [
            4.901278,
            52.378908
           ],
           "type": "Point"
          },
          "lat": 52.378908,
          "locatie": "Amsterdam Centraal, Amsterdam, Netherlands",
          "lon": 4.901278,
          "median": 0.00011900639947270975,
          "ministerie": "I&W",
          "project": "Programma Hoogfrequent Spoorvervoer: Amsterdam Centraal",
          "type": "Feature"
         },
         {
          "date": "2019-06",
          "geometry": {
           "coordinates": [
            4.901278,
            52.378908
           ],
           "type": "Point"
          },
          "lat": 52.378908,
          "locatie": "Amsterdam Centraal, Amsterdam, Netherlands",
          "lon": 4.901278,
          "median": 0.00011990983809999904,
          "ministerie": "I&W",
          "project": "Programma Hoogfrequent Spoorvervoer: Amsterdam Centraal",
          "type": "Feature"
         },
         {
          "date": "2019-07",
          "geometry": {
           "coordinates": [
            4.901278,
            52.378908
           ],
           "type": "Point"
          },
          "lat": 52.378908,
          "locatie": "Amsterdam Centraal, Amsterdam, Netherlands",
          "lon": 4.901278,
          "median": 0.00011739615635239465,
          "ministerie": "I&W",
          "project": "Programma Hoogfrequent Spoorvervoer: Amsterdam Centraal",
          "type": "Feature"
         },
         {
          "date": "2019-08",
          "geometry": {
           "coordinates": [
            4.901278,
            52.378908
           ],
           "type": "Point"
          },
          "lat": 52.378908,
          "locatie": "Amsterdam Centraal, Amsterdam, Netherlands",
          "lon": 4.901278,
          "median": 0.00012078657894799227,
          "ministerie": "I&W",
          "project": "Programma Hoogfrequent Spoorvervoer: Amsterdam Centraal",
          "type": "Feature"
         },
         {
          "date": "2019-09",
          "geometry": {
           "coordinates": [
            4.901278,
            52.378908
           ],
           "type": "Point"
          },
          "lat": 52.378908,
          "locatie": "Amsterdam Centraal, Amsterdam, Netherlands",
          "lon": 4.901278,
          "median": 8.928761771822319e-05,
          "ministerie": "I&W",
          "project": "Programma Hoogfrequent Spoorvervoer: Amsterdam Centraal",
          "type": "Feature"
         },
         {
          "date": "2018-07",
          "geometry": {
           "coordinates": [
            5.074477,
            51.564458
           ],
           "type": "Point"
          },
          "lat": 51.564458,
          "locatie": "Tilburg, Netherlands",
          "lon": 5.074477,
          "median": 0.00012800448970793973,
          "ministerie": "I&W",
          "project": "Programma Hoogfrequent Spoorvervoer: Eindhoven - Breda",
          "type": "Feature"
         },
         {
          "date": "2018-08",
          "geometry": {
           "coordinates": [
            5.074477,
            51.564458
           ],
           "type": "Point"
          },
          "lat": 51.564458,
          "locatie": "Tilburg, Netherlands",
          "lon": 5.074477,
          "median": 0.0001131202324813793,
          "ministerie": "I&W",
          "project": "Programma Hoogfrequent Spoorvervoer: Eindhoven - Breda",
          "type": "Feature"
         },
         {
          "date": "2018-09",
          "geometry": {
           "coordinates": [
            5.074477,
            51.564458
           ],
           "type": "Point"
          },
          "lat": 51.564458,
          "locatie": "Tilburg, Netherlands",
          "lon": 5.074477,
          "median": 0.00014373356573349927,
          "ministerie": "I&W",
          "project": "Programma Hoogfrequent Spoorvervoer: Eindhoven - Breda",
          "type": "Feature"
         },
         {
          "date": "2018-10",
          "geometry": {
           "coordinates": [
            5.074477,
            51.564458
           ],
           "type": "Point"
          },
          "lat": 51.564458,
          "locatie": "Tilburg, Netherlands",
          "lon": 5.074477,
          "median": 0.00012666365538125423,
          "ministerie": "I&W",
          "project": "Programma Hoogfrequent Spoorvervoer: Eindhoven - Breda",
          "type": "Feature"
         },
         {
          "date": "2018-11",
          "geometry": {
           "coordinates": [
            5.074477,
            51.564458
           ],
           "type": "Point"
          },
          "lat": 51.564458,
          "locatie": "Tilburg, Netherlands",
          "lon": 5.074477,
          "median": 0.00013133797695359997,
          "ministerie": "I&W",
          "project": "Programma Hoogfrequent Spoorvervoer: Eindhoven - Breda",
          "type": "Feature"
         },
         {
          "date": "2018-12",
          "geometry": {
           "coordinates": [
            5.074477,
            51.564458
           ],
           "type": "Point"
          },
          "lat": 51.564458,
          "locatie": "Tilburg, Netherlands",
          "lon": 5.074477,
          "median": 0.00010911450261844204,
          "ministerie": "I&W",
          "project": "Programma Hoogfrequent Spoorvervoer: Eindhoven - Breda",
          "type": "Feature"
         },
         {
          "date": "2019-01",
          "geometry": {
           "coordinates": [
            5.074477,
            51.564458
           ],
           "type": "Point"
          },
          "lat": 51.564458,
          "locatie": "Tilburg, Netherlands",
          "lon": 5.074477,
          "median": 0.00010247644706302907,
          "ministerie": "I&W",
          "project": "Programma Hoogfrequent Spoorvervoer: Eindhoven - Breda",
          "type": "Feature"
         },
         {
          "date": "2019-02",
          "geometry": {
           "coordinates": [
            5.074477,
            51.564458
           ],
           "type": "Point"
          },
          "lat": 51.564458,
          "locatie": "Tilburg, Netherlands",
          "lon": 5.074477,
          "median": 0.00013828598494461952,
          "ministerie": "I&W",
          "project": "Programma Hoogfrequent Spoorvervoer: Eindhoven - Breda",
          "type": "Feature"
         },
         {
          "date": "2019-03",
          "geometry": {
           "coordinates": [
            5.074477,
            51.564458
           ],
           "type": "Point"
          },
          "lat": 51.564458,
          "locatie": "Tilburg, Netherlands",
          "lon": 5.074477,
          "median": 0.00012285355055370397,
          "ministerie": "I&W",
          "project": "Programma Hoogfrequent Spoorvervoer: Eindhoven - Breda",
          "type": "Feature"
         },
         {
          "date": "2019-04",
          "geometry": {
           "coordinates": [
            5.074477,
            51.564458
           ],
           "type": "Point"
          },
          "lat": 51.564458,
          "locatie": "Tilburg, Netherlands",
          "lon": 5.074477,
          "median": 0.00014404686953639612,
          "ministerie": "I&W",
          "project": "Programma Hoogfrequent Spoorvervoer: Eindhoven - Breda",
          "type": "Feature"
         },
         {
          "date": "2019-05",
          "geometry": {
           "coordinates": [
            5.074477,
            51.564458
           ],
           "type": "Point"
          },
          "lat": 51.564458,
          "locatie": "Tilburg, Netherlands",
          "lon": 5.074477,
          "median": 0.00012902170610163126,
          "ministerie": "I&W",
          "project": "Programma Hoogfrequent Spoorvervoer: Eindhoven - Breda",
          "type": "Feature"
         },
         {
          "date": "2019-06",
          "geometry": {
           "coordinates": [
            5.074477,
            51.564458
           ],
           "type": "Point"
          },
          "lat": 51.564458,
          "locatie": "Tilburg, Netherlands",
          "lon": 5.074477,
          "median": 0.00011547673723854866,
          "ministerie": "I&W",
          "project": "Programma Hoogfrequent Spoorvervoer: Eindhoven - Breda",
          "type": "Feature"
         },
         {
          "date": "2019-07",
          "geometry": {
           "coordinates": [
            5.074477,
            51.564458
           ],
           "type": "Point"
          },
          "lat": 51.564458,
          "locatie": "Tilburg, Netherlands",
          "lon": 5.074477,
          "median": 0.00010843832909397056,
          "ministerie": "I&W",
          "project": "Programma Hoogfrequent Spoorvervoer: Eindhoven - Breda",
          "type": "Feature"
         },
         {
          "date": "2019-08",
          "geometry": {
           "coordinates": [
            5.074477,
            51.564458
           ],
           "type": "Point"
          },
          "lat": 51.564458,
          "locatie": "Tilburg, Netherlands",
          "lon": 5.074477,
          "median": 0.00011472623413239554,
          "ministerie": "I&W",
          "project": "Programma Hoogfrequent Spoorvervoer: Eindhoven - Breda",
          "type": "Feature"
         },
         {
          "date": "2019-09",
          "geometry": {
           "coordinates": [
            5.074477,
            51.564458
           ],
           "type": "Point"
          },
          "lat": 51.564458,
          "locatie": "Tilburg, Netherlands",
          "lon": 5.074477,
          "median": 8.60258332977537e-05,
          "ministerie": "I&W",
          "project": "Programma Hoogfrequent Spoorvervoer: Eindhoven - Breda",
          "type": "Feature"
         },
         {
          "date": "2018-07",
          "geometry": {
           "coordinates": [
            5.291072,
            51.656378000000004
           ],
           "type": "Point"
          },
          "lat": 51.656378000000004,
          "locatie": "Van Miertstraat, Vught, Netherlands",
          "lon": 5.291072,
          "median": 0.00012401103580552685,
          "ministerie": "I&W",
          "project": "Programma Hoogfrequent Spoorvervoer: Meteren - Boxtel",
          "type": "Feature"
         },
         {
          "date": "2018-08",
          "geometry": {
           "coordinates": [
            5.291072,
            51.656378000000004
           ],
           "type": "Point"
          },
          "lat": 51.656378000000004,
          "locatie": "Van Miertstraat, Vught, Netherlands",
          "lon": 5.291072,
          "median": 0.00010898045729845762,
          "ministerie": "I&W",
          "project": "Programma Hoogfrequent Spoorvervoer: Meteren - Boxtel",
          "type": "Feature"
         },
         {
          "date": "2018-09",
          "geometry": {
           "coordinates": [
            5.291072,
            51.656378000000004
           ],
           "type": "Point"
          },
          "lat": 51.656378000000004,
          "locatie": "Van Miertstraat, Vught, Netherlands",
          "lon": 5.291072,
          "median": 0.0001380412091703429,
          "ministerie": "I&W",
          "project": "Programma Hoogfrequent Spoorvervoer: Meteren - Boxtel",
          "type": "Feature"
         },
         {
          "date": "2018-10",
          "geometry": {
           "coordinates": [
            5.291072,
            51.656378000000004
           ],
           "type": "Point"
          },
          "lat": 51.656378000000004,
          "locatie": "Van Miertstraat, Vught, Netherlands",
          "lon": 5.291072,
          "median": 0.00013395975111052394,
          "ministerie": "I&W",
          "project": "Programma Hoogfrequent Spoorvervoer: Meteren - Boxtel",
          "type": "Feature"
         },
         {
          "date": "2018-11",
          "geometry": {
           "coordinates": [
            5.291072,
            51.656378000000004
           ],
           "type": "Point"
          },
          "lat": 51.656378000000004,
          "locatie": "Van Miertstraat, Vught, Netherlands",
          "lon": 5.291072,
          "median": 0.00013621189720126897,
          "ministerie": "I&W",
          "project": "Programma Hoogfrequent Spoorvervoer: Meteren - Boxtel",
          "type": "Feature"
         },
         {
          "date": "2018-12",
          "geometry": {
           "coordinates": [
            5.291072,
            51.656378000000004
           ],
           "type": "Point"
          },
          "lat": 51.656378000000004,
          "locatie": "Van Miertstraat, Vught, Netherlands",
          "lon": 5.291072,
          "median": 0.00011069480269622617,
          "ministerie": "I&W",
          "project": "Programma Hoogfrequent Spoorvervoer: Meteren - Boxtel",
          "type": "Feature"
         },
         {
          "date": "2019-01",
          "geometry": {
           "coordinates": [
            5.291072,
            51.656378000000004
           ],
           "type": "Point"
          },
          "lat": 51.656378000000004,
          "locatie": "Van Miertstraat, Vught, Netherlands",
          "lon": 5.291072,
          "median": 0.00010159840894630179,
          "ministerie": "I&W",
          "project": "Programma Hoogfrequent Spoorvervoer: Meteren - Boxtel",
          "type": "Feature"
         },
         {
          "date": "2019-02",
          "geometry": {
           "coordinates": [
            5.291072,
            51.656378000000004
           ],
           "type": "Point"
          },
          "lat": 51.656378000000004,
          "locatie": "Van Miertstraat, Vught, Netherlands",
          "lon": 5.291072,
          "median": 0.00013210052566137165,
          "ministerie": "I&W",
          "project": "Programma Hoogfrequent Spoorvervoer: Meteren - Boxtel",
          "type": "Feature"
         },
         {
          "date": "2019-03",
          "geometry": {
           "coordinates": [
            5.291072,
            51.656378000000004
           ],
           "type": "Point"
          },
          "lat": 51.656378000000004,
          "locatie": "Van Miertstraat, Vught, Netherlands",
          "lon": 5.291072,
          "median": 0.00010962883970933035,
          "ministerie": "I&W",
          "project": "Programma Hoogfrequent Spoorvervoer: Meteren - Boxtel",
          "type": "Feature"
         },
         {
          "date": "2019-04",
          "geometry": {
           "coordinates": [
            5.291072,
            51.656378000000004
           ],
           "type": "Point"
          },
          "lat": 51.656378000000004,
          "locatie": "Van Miertstraat, Vught, Netherlands",
          "lon": 5.291072,
          "median": 0.00013232504374038675,
          "ministerie": "I&W",
          "project": "Programma Hoogfrequent Spoorvervoer: Meteren - Boxtel",
          "type": "Feature"
         },
         {
          "date": "2019-05",
          "geometry": {
           "coordinates": [
            5.291072,
            51.656378000000004
           ],
           "type": "Point"
          },
          "lat": 51.656378000000004,
          "locatie": "Van Miertstraat, Vught, Netherlands",
          "lon": 5.291072,
          "median": 0.0001269435903947718,
          "ministerie": "I&W",
          "project": "Programma Hoogfrequent Spoorvervoer: Meteren - Boxtel",
          "type": "Feature"
         },
         {
          "date": "2019-06",
          "geometry": {
           "coordinates": [
            5.291072,
            51.656378000000004
           ],
           "type": "Point"
          },
          "lat": 51.656378000000004,
          "locatie": "Van Miertstraat, Vught, Netherlands",
          "lon": 5.291072,
          "median": 0.0001130735552065644,
          "ministerie": "I&W",
          "project": "Programma Hoogfrequent Spoorvervoer: Meteren - Boxtel",
          "type": "Feature"
         },
         {
          "date": "2019-07",
          "geometry": {
           "coordinates": [
            5.291072,
            51.656378000000004
           ],
           "type": "Point"
          },
          "lat": 51.656378000000004,
          "locatie": "Van Miertstraat, Vught, Netherlands",
          "lon": 5.291072,
          "median": 0.00011009679292328656,
          "ministerie": "I&W",
          "project": "Programma Hoogfrequent Spoorvervoer: Meteren - Boxtel",
          "type": "Feature"
         },
         {
          "date": "2019-08",
          "geometry": {
           "coordinates": [
            5.291072,
            51.656378000000004
           ],
           "type": "Point"
          },
          "lat": 51.656378000000004,
          "locatie": "Van Miertstraat, Vught, Netherlands",
          "lon": 5.291072,
          "median": 0.00011306512319937526,
          "ministerie": "I&W",
          "project": "Programma Hoogfrequent Spoorvervoer: Meteren - Boxtel",
          "type": "Feature"
         },
         {
          "date": "2019-09",
          "geometry": {
           "coordinates": [
            5.291072,
            51.656378000000004
           ],
           "type": "Point"
          },
          "lat": 51.656378000000004,
          "locatie": "Van Miertstraat, Vught, Netherlands",
          "lon": 5.291072,
          "median": 9.337637311546132e-05,
          "ministerie": "I&W",
          "project": "Programma Hoogfrequent Spoorvervoer: Meteren - Boxtel",
          "type": "Feature"
         },
         {
          "date": "2018-07",
          "geometry": {
           "coordinates": [
            5.85378,
            51.843041
           ],
           "type": "Point"
          },
          "lat": 51.843041,
          "locatie": "Stationsplein, Nymegen, Netherlands",
          "lon": 5.85378,
          "median": 0.00012321288522798568,
          "ministerie": "I&W",
          "project": "Programma Hoogfrequent Spoorvervoer: Nijmegen",
          "type": "Feature"
         },
         {
          "date": "2018-08",
          "geometry": {
           "coordinates": [
            5.85378,
            51.843041
           ],
           "type": "Point"
          },
          "lat": 51.843041,
          "locatie": "Stationsplein, Nymegen, Netherlands",
          "lon": 5.85378,
          "median": 0.00010511873514999117,
          "ministerie": "I&W",
          "project": "Programma Hoogfrequent Spoorvervoer: Nijmegen",
          "type": "Feature"
         },
         {
          "date": "2018-09",
          "geometry": {
           "coordinates": [
            5.85378,
            51.843041
           ],
           "type": "Point"
          },
          "lat": 51.843041,
          "locatie": "Stationsplein, Nymegen, Netherlands",
          "lon": 5.85378,
          "median": 0.00014145152060114527,
          "ministerie": "I&W",
          "project": "Programma Hoogfrequent Spoorvervoer: Nijmegen",
          "type": "Feature"
         },
         {
          "date": "2018-10",
          "geometry": {
           "coordinates": [
            5.85378,
            51.843041
           ],
           "type": "Point"
          },
          "lat": 51.843041,
          "locatie": "Stationsplein, Nymegen, Netherlands",
          "lon": 5.85378,
          "median": 0.00013298077101353556,
          "ministerie": "I&W",
          "project": "Programma Hoogfrequent Spoorvervoer: Nijmegen",
          "type": "Feature"
         },
         {
          "date": "2018-11",
          "geometry": {
           "coordinates": [
            5.85378,
            51.843041
           ],
           "type": "Point"
          },
          "lat": 51.843041,
          "locatie": "Stationsplein, Nymegen, Netherlands",
          "lon": 5.85378,
          "median": 0.00016840456802163527,
          "ministerie": "I&W",
          "project": "Programma Hoogfrequent Spoorvervoer: Nijmegen",
          "type": "Feature"
         },
         {
          "date": "2018-12",
          "geometry": {
           "coordinates": [
            5.85378,
            51.843041
           ],
           "type": "Point"
          },
          "lat": 51.843041,
          "locatie": "Stationsplein, Nymegen, Netherlands",
          "lon": 5.85378,
          "median": 0.00011747256506377412,
          "ministerie": "I&W",
          "project": "Programma Hoogfrequent Spoorvervoer: Nijmegen",
          "type": "Feature"
         },
         {
          "date": "2019-01",
          "geometry": {
           "coordinates": [
            5.85378,
            51.843041
           ],
           "type": "Point"
          },
          "lat": 51.843041,
          "locatie": "Stationsplein, Nymegen, Netherlands",
          "lon": 5.85378,
          "median": 0.00012235552640049718,
          "ministerie": "I&W",
          "project": "Programma Hoogfrequent Spoorvervoer: Nijmegen",
          "type": "Feature"
         },
         {
          "date": "2019-02",
          "geometry": {
           "coordinates": [
            5.85378,
            51.843041
           ],
           "type": "Point"
          },
          "lat": 51.843041,
          "locatie": "Stationsplein, Nymegen, Netherlands",
          "lon": 5.85378,
          "median": 0.0001529128573043865,
          "ministerie": "I&W",
          "project": "Programma Hoogfrequent Spoorvervoer: Nijmegen",
          "type": "Feature"
         },
         {
          "date": "2019-03",
          "geometry": {
           "coordinates": [
            5.85378,
            51.843041
           ],
           "type": "Point"
          },
          "lat": 51.843041,
          "locatie": "Stationsplein, Nymegen, Netherlands",
          "lon": 5.85378,
          "median": 0.00010942687602694015,
          "ministerie": "I&W",
          "project": "Programma Hoogfrequent Spoorvervoer: Nijmegen",
          "type": "Feature"
         },
         {
          "date": "2019-04",
          "geometry": {
           "coordinates": [
            5.85378,
            51.843041
           ],
           "type": "Point"
          },
          "lat": 51.843041,
          "locatie": "Stationsplein, Nymegen, Netherlands",
          "lon": 5.85378,
          "median": 0.00011997161345789209,
          "ministerie": "I&W",
          "project": "Programma Hoogfrequent Spoorvervoer: Nijmegen",
          "type": "Feature"
         },
         {
          "date": "2019-05",
          "geometry": {
           "coordinates": [
            5.85378,
            51.843041
           ],
           "type": "Point"
          },
          "lat": 51.843041,
          "locatie": "Stationsplein, Nymegen, Netherlands",
          "lon": 5.85378,
          "median": 0.00011978841518153368,
          "ministerie": "I&W",
          "project": "Programma Hoogfrequent Spoorvervoer: Nijmegen",
          "type": "Feature"
         },
         {
          "date": "2019-06",
          "geometry": {
           "coordinates": [
            5.85378,
            51.843041
           ],
           "type": "Point"
          },
          "lat": 51.843041,
          "locatie": "Stationsplein, Nymegen, Netherlands",
          "lon": 5.85378,
          "median": 0.00011529777071190101,
          "ministerie": "I&W",
          "project": "Programma Hoogfrequent Spoorvervoer: Nijmegen",
          "type": "Feature"
         },
         {
          "date": "2019-07",
          "geometry": {
           "coordinates": [
            5.85378,
            51.843041
           ],
           "type": "Point"
          },
          "lat": 51.843041,
          "locatie": "Stationsplein, Nymegen, Netherlands",
          "lon": 5.85378,
          "median": 0.00011137371984659694,
          "ministerie": "I&W",
          "project": "Programma Hoogfrequent Spoorvervoer: Nijmegen",
          "type": "Feature"
         },
         {
          "date": "2019-08",
          "geometry": {
           "coordinates": [
            5.85378,
            51.843041
           ],
           "type": "Point"
          },
          "lat": 51.843041,
          "locatie": "Stationsplein, Nymegen, Netherlands",
          "lon": 5.85378,
          "median": 0.00011670244566630572,
          "ministerie": "I&W",
          "project": "Programma Hoogfrequent Spoorvervoer: Nijmegen",
          "type": "Feature"
         },
         {
          "date": "2019-09",
          "geometry": {
           "coordinates": [
            5.85378,
            51.843041
           ],
           "type": "Point"
          },
          "lat": 51.843041,
          "locatie": "Stationsplein, Nymegen, Netherlands",
          "lon": 5.85378,
          "median": 0.0001354427705387416,
          "ministerie": "I&W",
          "project": "Programma Hoogfrequent Spoorvervoer: Nijmegen",
          "type": "Feature"
         },
         {
          "date": "2018-07",
          "geometry": {
           "coordinates": [
            4.239225,
            51.497752
           ],
           "type": "Point"
          },
          "lat": 51.497752,
          "locatie": "Zoommeer",
          "lon": 4.239225,
          "median": 0.00013246648450149223,
          "ministerie": "I&W",
          "project": "Rijksstructuurvisie Grevelingen en Volkerak - Zoommeer",
          "type": "Feature"
         },
         {
          "date": "2018-08",
          "geometry": {
           "coordinates": [
            4.239225,
            51.497752
           ],
           "type": "Point"
          },
          "lat": 51.497752,
          "locatie": "Zoommeer",
          "lon": 4.239225,
          "median": 0.00010264408410876058,
          "ministerie": "I&W",
          "project": "Rijksstructuurvisie Grevelingen en Volkerak - Zoommeer",
          "type": "Feature"
         },
         {
          "date": "2018-09",
          "geometry": {
           "coordinates": [
            4.239225,
            51.497752
           ],
           "type": "Point"
          },
          "lat": 51.497752,
          "locatie": "Zoommeer",
          "lon": 4.239225,
          "median": 0.0001280260186880929,
          "ministerie": "I&W",
          "project": "Rijksstructuurvisie Grevelingen en Volkerak - Zoommeer",
          "type": "Feature"
         },
         {
          "date": "2018-10",
          "geometry": {
           "coordinates": [
            4.239225,
            51.497752
           ],
           "type": "Point"
          },
          "lat": 51.497752,
          "locatie": "Zoommeer",
          "lon": 4.239225,
          "median": 0.00013098317752852694,
          "ministerie": "I&W",
          "project": "Rijksstructuurvisie Grevelingen en Volkerak - Zoommeer",
          "type": "Feature"
         },
         {
          "date": "2018-11",
          "geometry": {
           "coordinates": [
            4.239225,
            51.497752
           ],
           "type": "Point"
          },
          "lat": 51.497752,
          "locatie": "Zoommeer",
          "lon": 4.239225,
          "median": 0.00015376742521766573,
          "ministerie": "I&W",
          "project": "Rijksstructuurvisie Grevelingen en Volkerak - Zoommeer",
          "type": "Feature"
         },
         {
          "date": "2018-12",
          "geometry": {
           "coordinates": [
            4.239225,
            51.497752
           ],
           "type": "Point"
          },
          "lat": 51.497752,
          "locatie": "Zoommeer",
          "lon": 4.239225,
          "median": 9.792086348170415e-05,
          "ministerie": "I&W",
          "project": "Rijksstructuurvisie Grevelingen en Volkerak - Zoommeer",
          "type": "Feature"
         },
         {
          "date": "2019-01",
          "geometry": {
           "coordinates": [
            4.239225,
            51.497752
           ],
           "type": "Point"
          },
          "lat": 51.497752,
          "locatie": "Zoommeer",
          "lon": 4.239225,
          "median": 8.348723526540672e-05,
          "ministerie": "I&W",
          "project": "Rijksstructuurvisie Grevelingen en Volkerak - Zoommeer",
          "type": "Feature"
         },
         {
          "date": "2019-02",
          "geometry": {
           "coordinates": [
            4.239225,
            51.497752
           ],
           "type": "Point"
          },
          "lat": 51.497752,
          "locatie": "Zoommeer",
          "lon": 4.239225,
          "median": 0.00015068774519022554,
          "ministerie": "I&W",
          "project": "Rijksstructuurvisie Grevelingen en Volkerak - Zoommeer",
          "type": "Feature"
         },
         {
          "date": "2019-03",
          "geometry": {
           "coordinates": [
            4.239225,
            51.497752
           ],
           "type": "Point"
          },
          "lat": 51.497752,
          "locatie": "Zoommeer",
          "lon": 4.239225,
          "median": 9.518915664603523e-05,
          "ministerie": "I&W",
          "project": "Rijksstructuurvisie Grevelingen en Volkerak - Zoommeer",
          "type": "Feature"
         },
         {
          "date": "2019-04",
          "geometry": {
           "coordinates": [
            4.239225,
            51.497752
           ],
           "type": "Point"
          },
          "lat": 51.497752,
          "locatie": "Zoommeer",
          "lon": 4.239225,
          "median": 0.00015354972943053486,
          "ministerie": "I&W",
          "project": "Rijksstructuurvisie Grevelingen en Volkerak - Zoommeer",
          "type": "Feature"
         },
         {
          "date": "2019-05",
          "geometry": {
           "coordinates": [
            4.239225,
            51.497752
           ],
           "type": "Point"
          },
          "lat": 51.497752,
          "locatie": "Zoommeer",
          "lon": 4.239225,
          "median": 0.00012958122349930108,
          "ministerie": "I&W",
          "project": "Rijksstructuurvisie Grevelingen en Volkerak - Zoommeer",
          "type": "Feature"
         },
         {
          "date": "2019-06",
          "geometry": {
           "coordinates": [
            4.239225,
            51.497752
           ],
           "type": "Point"
          },
          "lat": 51.497752,
          "locatie": "Zoommeer",
          "lon": 4.239225,
          "median": 0.00011843648826470599,
          "ministerie": "I&W",
          "project": "Rijksstructuurvisie Grevelingen en Volkerak - Zoommeer",
          "type": "Feature"
         },
         {
          "date": "2019-07",
          "geometry": {
           "coordinates": [
            4.239225,
            51.497752
           ],
           "type": "Point"
          },
          "lat": 51.497752,
          "locatie": "Zoommeer",
          "lon": 4.239225,
          "median": 0.00011125885066576302,
          "ministerie": "I&W",
          "project": "Rijksstructuurvisie Grevelingen en Volkerak - Zoommeer",
          "type": "Feature"
         },
         {
          "date": "2019-08",
          "geometry": {
           "coordinates": [
            4.239225,
            51.497752
           ],
           "type": "Point"
          },
          "lat": 51.497752,
          "locatie": "Zoommeer",
          "lon": 4.239225,
          "median": 0.00012030469537344229,
          "ministerie": "I&W",
          "project": "Rijksstructuurvisie Grevelingen en Volkerak - Zoommeer",
          "type": "Feature"
         },
         {
          "date": "2019-09",
          "geometry": {
           "coordinates": [
            4.239225,
            51.497752
           ],
           "type": "Point"
          },
          "lat": 51.497752,
          "locatie": "Zoommeer",
          "lon": 4.239225,
          "median": 8.618771244073287e-05,
          "ministerie": "I&W",
          "project": "Rijksstructuurvisie Grevelingen en Volkerak - Zoommeer",
          "type": "Feature"
         },
         {
          "date": "2018-07",
          "geometry": {
           "coordinates": [
            5.184314,
            51.534043
           ],
           "type": "Point"
          },
          "lat": 51.534043,
          "locatie": "A58, Moergestel, Netherlands",
          "lon": 5.184314,
          "median": 0.00012380352267343266,
          "ministerie": "I&W",
          "project": "SmartwayZ.nl: InnovA58 (Eindhoven - Tilburg)",
          "type": "Feature"
         },
         {
          "date": "2018-08",
          "geometry": {
           "coordinates": [
            5.184314,
            51.534043
           ],
           "type": "Point"
          },
          "lat": 51.534043,
          "locatie": "A58, Moergestel, Netherlands",
          "lon": 5.184314,
          "median": 0.00010482964089314497,
          "ministerie": "I&W",
          "project": "SmartwayZ.nl: InnovA58 (Eindhoven - Tilburg)",
          "type": "Feature"
         },
         {
          "date": "2018-09",
          "geometry": {
           "coordinates": [
            5.184314,
            51.534043
           ],
           "type": "Point"
          },
          "lat": 51.534043,
          "locatie": "A58, Moergestel, Netherlands",
          "lon": 5.184314,
          "median": 0.00013810336705184534,
          "ministerie": "I&W",
          "project": "SmartwayZ.nl: InnovA58 (Eindhoven - Tilburg)",
          "type": "Feature"
         },
         {
          "date": "2018-10",
          "geometry": {
           "coordinates": [
            5.184314,
            51.534043
           ],
           "type": "Point"
          },
          "lat": 51.534043,
          "locatie": "A58, Moergestel, Netherlands",
          "lon": 5.184314,
          "median": 0.00012229176512227154,
          "ministerie": "I&W",
          "project": "SmartwayZ.nl: InnovA58 (Eindhoven - Tilburg)",
          "type": "Feature"
         },
         {
          "date": "2018-11",
          "geometry": {
           "coordinates": [
            5.184314,
            51.534043
           ],
           "type": "Point"
          },
          "lat": 51.534043,
          "locatie": "A58, Moergestel, Netherlands",
          "lon": 5.184314,
          "median": 0.00013295627973011504,
          "ministerie": "I&W",
          "project": "SmartwayZ.nl: InnovA58 (Eindhoven - Tilburg)",
          "type": "Feature"
         },
         {
          "date": "2018-12",
          "geometry": {
           "coordinates": [
            5.184314,
            51.534043
           ],
           "type": "Point"
          },
          "lat": 51.534043,
          "locatie": "A58, Moergestel, Netherlands",
          "lon": 5.184314,
          "median": 0.00011150337377330288,
          "ministerie": "I&W",
          "project": "SmartwayZ.nl: InnovA58 (Eindhoven - Tilburg)",
          "type": "Feature"
         },
         {
          "date": "2019-01",
          "geometry": {
           "coordinates": [
            5.184314,
            51.534043
           ],
           "type": "Point"
          },
          "lat": 51.534043,
          "locatie": "A58, Moergestel, Netherlands",
          "lon": 5.184314,
          "median": 0.00010346575632730521,
          "ministerie": "I&W",
          "project": "SmartwayZ.nl: InnovA58 (Eindhoven - Tilburg)",
          "type": "Feature"
         },
         {
          "date": "2019-02",
          "geometry": {
           "coordinates": [
            5.184314,
            51.534043
           ],
           "type": "Point"
          },
          "lat": 51.534043,
          "locatie": "A58, Moergestel, Netherlands",
          "lon": 5.184314,
          "median": 0.00012989860843322897,
          "ministerie": "I&W",
          "project": "SmartwayZ.nl: InnovA58 (Eindhoven - Tilburg)",
          "type": "Feature"
         },
         {
          "date": "2019-03",
          "geometry": {
           "coordinates": [
            5.184314,
            51.534043
           ],
           "type": "Point"
          },
          "lat": 51.534043,
          "locatie": "A58, Moergestel, Netherlands",
          "lon": 5.184314,
          "median": 0.0001233802904607728,
          "ministerie": "I&W",
          "project": "SmartwayZ.nl: InnovA58 (Eindhoven - Tilburg)",
          "type": "Feature"
         },
         {
          "date": "2019-04",
          "geometry": {
           "coordinates": [
            5.184314,
            51.534043
           ],
           "type": "Point"
          },
          "lat": 51.534043,
          "locatie": "A58, Moergestel, Netherlands",
          "lon": 5.184314,
          "median": 0.00014100755105088034,
          "ministerie": "I&W",
          "project": "SmartwayZ.nl: InnovA58 (Eindhoven - Tilburg)",
          "type": "Feature"
         },
         {
          "date": "2019-05",
          "geometry": {
           "coordinates": [
            5.184314,
            51.534043
           ],
           "type": "Point"
          },
          "lat": 51.534043,
          "locatie": "A58, Moergestel, Netherlands",
          "lon": 5.184314,
          "median": 0.0001259918208234012,
          "ministerie": "I&W",
          "project": "SmartwayZ.nl: InnovA58 (Eindhoven - Tilburg)",
          "type": "Feature"
         },
         {
          "date": "2019-06",
          "geometry": {
           "coordinates": [
            5.184314,
            51.534043
           ],
           "type": "Point"
          },
          "lat": 51.534043,
          "locatie": "A58, Moergestel, Netherlands",
          "lon": 5.184314,
          "median": 0.00011471233301563188,
          "ministerie": "I&W",
          "project": "SmartwayZ.nl: InnovA58 (Eindhoven - Tilburg)",
          "type": "Feature"
         },
         {
          "date": "2019-07",
          "geometry": {
           "coordinates": [
            5.184314,
            51.534043
           ],
           "type": "Point"
          },
          "lat": 51.534043,
          "locatie": "A58, Moergestel, Netherlands",
          "lon": 5.184314,
          "median": 0.00010665776609821547,
          "ministerie": "I&W",
          "project": "SmartwayZ.nl: InnovA58 (Eindhoven - Tilburg)",
          "type": "Feature"
         },
         {
          "date": "2019-08",
          "geometry": {
           "coordinates": [
            5.184314,
            51.534043
           ],
           "type": "Point"
          },
          "lat": 51.534043,
          "locatie": "A58, Moergestel, Netherlands",
          "lon": 5.184314,
          "median": 0.00011273714309567798,
          "ministerie": "I&W",
          "project": "SmartwayZ.nl: InnovA58 (Eindhoven - Tilburg)",
          "type": "Feature"
         },
         {
          "date": "2019-09",
          "geometry": {
           "coordinates": [
            5.184314,
            51.534043
           ],
           "type": "Point"
          },
          "lat": 51.534043,
          "locatie": "A58, Moergestel, Netherlands",
          "lon": 5.184314,
          "median": 8.942684770186322e-05,
          "ministerie": "I&W",
          "project": "SmartwayZ.nl: InnovA58 (Eindhoven - Tilburg)",
          "type": "Feature"
         },
         {
          "date": "2018-07",
          "geometry": {
           "coordinates": [
            4.796284,
            51.536246999999996
           ],
           "type": "Point"
          },
          "lat": 51.536246999999996,
          "locatie": "A58, Ulvenhout, Netherlands",
          "lon": 4.796284,
          "median": 0.00013502741581547672,
          "ministerie": "I&W",
          "project": "SmartwayZ.nl: InnovA58 (Sint-Annabosch - Galder)",
          "type": "Feature"
         },
         {
          "date": "2018-08",
          "geometry": {
           "coordinates": [
            4.796284,
            51.536246999999996
           ],
           "type": "Point"
          },
          "lat": 51.536246999999996,
          "locatie": "A58, Ulvenhout, Netherlands",
          "lon": 4.796284,
          "median": 0.00011729320249287412,
          "ministerie": "I&W",
          "project": "SmartwayZ.nl: InnovA58 (Sint-Annabosch - Galder)",
          "type": "Feature"
         },
         {
          "date": "2018-09",
          "geometry": {
           "coordinates": [
            4.796284,
            51.536246999999996
           ],
           "type": "Point"
          },
          "lat": 51.536246999999996,
          "locatie": "A58, Ulvenhout, Netherlands",
          "lon": 4.796284,
          "median": 0.00014270179785634443,
          "ministerie": "I&W",
          "project": "SmartwayZ.nl: InnovA58 (Sint-Annabosch - Galder)",
          "type": "Feature"
         },
         {
          "date": "2018-10",
          "geometry": {
           "coordinates": [
            4.796284,
            51.536246999999996
           ],
           "type": "Point"
          },
          "lat": 51.536246999999996,
          "locatie": "A58, Ulvenhout, Netherlands",
          "lon": 4.796284,
          "median": 0.00011989314451512575,
          "ministerie": "I&W",
          "project": "SmartwayZ.nl: InnovA58 (Sint-Annabosch - Galder)",
          "type": "Feature"
         },
         {
          "date": "2018-11",
          "geometry": {
           "coordinates": [
            4.796284,
            51.536246999999996
           ],
           "type": "Point"
          },
          "lat": 51.536246999999996,
          "locatie": "A58, Ulvenhout, Netherlands",
          "lon": 4.796284,
          "median": 0.00013905979622497384,
          "ministerie": "I&W",
          "project": "SmartwayZ.nl: InnovA58 (Sint-Annabosch - Galder)",
          "type": "Feature"
         },
         {
          "date": "2018-12",
          "geometry": {
           "coordinates": [
            4.796284,
            51.536246999999996
           ],
           "type": "Point"
          },
          "lat": 51.536246999999996,
          "locatie": "A58, Ulvenhout, Netherlands",
          "lon": 4.796284,
          "median": 0.00011176747648278251,
          "ministerie": "I&W",
          "project": "SmartwayZ.nl: InnovA58 (Sint-Annabosch - Galder)",
          "type": "Feature"
         },
         {
          "date": "2019-01",
          "geometry": {
           "coordinates": [
            4.796284,
            51.536246999999996
           ],
           "type": "Point"
          },
          "lat": 51.536246999999996,
          "locatie": "A58, Ulvenhout, Netherlands",
          "lon": 4.796284,
          "median": 9.840497461694039e-05,
          "ministerie": "I&W",
          "project": "SmartwayZ.nl: InnovA58 (Sint-Annabosch - Galder)",
          "type": "Feature"
         },
         {
          "date": "2019-02",
          "geometry": {
           "coordinates": [
            4.796284,
            51.536246999999996
           ],
           "type": "Point"
          },
          "lat": 51.536246999999996,
          "locatie": "A58, Ulvenhout, Netherlands",
          "lon": 4.796284,
          "median": 0.00013662617891452763,
          "ministerie": "I&W",
          "project": "SmartwayZ.nl: InnovA58 (Sint-Annabosch - Galder)",
          "type": "Feature"
         },
         {
          "date": "2019-03",
          "geometry": {
           "coordinates": [
            4.796284,
            51.536246999999996
           ],
           "type": "Point"
          },
          "lat": 51.536246999999996,
          "locatie": "A58, Ulvenhout, Netherlands",
          "lon": 4.796284,
          "median": 0.00010667594688129611,
          "ministerie": "I&W",
          "project": "SmartwayZ.nl: InnovA58 (Sint-Annabosch - Galder)",
          "type": "Feature"
         },
         {
          "date": "2019-04",
          "geometry": {
           "coordinates": [
            4.796284,
            51.536246999999996
           ],
           "type": "Point"
          },
          "lat": 51.536246999999996,
          "locatie": "A58, Ulvenhout, Netherlands",
          "lon": 4.796284,
          "median": 0.00014189042966234985,
          "ministerie": "I&W",
          "project": "SmartwayZ.nl: InnovA58 (Sint-Annabosch - Galder)",
          "type": "Feature"
         },
         {
          "date": "2019-05",
          "geometry": {
           "coordinates": [
            4.796284,
            51.536246999999996
           ],
           "type": "Point"
          },
          "lat": 51.536246999999996,
          "locatie": "A58, Ulvenhout, Netherlands",
          "lon": 4.796284,
          "median": 0.00012765555695900066,
          "ministerie": "I&W",
          "project": "SmartwayZ.nl: InnovA58 (Sint-Annabosch - Galder)",
          "type": "Feature"
         },
         {
          "date": "2019-06",
          "geometry": {
           "coordinates": [
            4.796284,
            51.536246999999996
           ],
           "type": "Point"
          },
          "lat": 51.536246999999996,
          "locatie": "A58, Ulvenhout, Netherlands",
          "lon": 4.796284,
          "median": 0.00011440597623038775,
          "ministerie": "I&W",
          "project": "SmartwayZ.nl: InnovA58 (Sint-Annabosch - Galder)",
          "type": "Feature"
         },
         {
          "date": "2019-07",
          "geometry": {
           "coordinates": [
            4.796284,
            51.536246999999996
           ],
           "type": "Point"
          },
          "lat": 51.536246999999996,
          "locatie": "A58, Ulvenhout, Netherlands",
          "lon": 4.796284,
          "median": 0.00011081302221409706,
          "ministerie": "I&W",
          "project": "SmartwayZ.nl: InnovA58 (Sint-Annabosch - Galder)",
          "type": "Feature"
         },
         {
          "date": "2019-08",
          "geometry": {
           "coordinates": [
            4.796284,
            51.536246999999996
           ],
           "type": "Point"
          },
          "lat": 51.536246999999996,
          "locatie": "A58, Ulvenhout, Netherlands",
          "lon": 4.796284,
          "median": 0.00011593051069413399,
          "ministerie": "I&W",
          "project": "SmartwayZ.nl: InnovA58 (Sint-Annabosch - Galder)",
          "type": "Feature"
         },
         {
          "date": "2019-09",
          "geometry": {
           "coordinates": [
            4.796284,
            51.536246999999996
           ],
           "type": "Point"
          },
          "lat": 51.536246999999996,
          "locatie": "A58, Ulvenhout, Netherlands",
          "lon": 4.796284,
          "median": 9.017740368866124e-05,
          "ministerie": "I&W",
          "project": "SmartwayZ.nl: InnovA58 (Sint-Annabosch - Galder)",
          "type": "Feature"
         },
         {
          "date": "2018-07",
          "geometry": {
           "coordinates": [
            4.409507,
            51.922369
           ],
           "type": "Point"
          },
          "lat": 51.922369,
          "locatie": "Parallelweg, Schiedam, Netherlands",
          "lon": 4.409507,
          "median": 0.0001479401209622317,
          "ministerie": "I&W",
          "project": "Sporen Schiedam - Rotterdam",
          "type": "Feature"
         },
         {
          "date": "2018-08",
          "geometry": {
           "coordinates": [
            4.409507,
            51.922369
           ],
           "type": "Point"
          },
          "lat": 51.922369,
          "locatie": "Parallelweg, Schiedam, Netherlands",
          "lon": 4.409507,
          "median": 0.00011218884537811391,
          "ministerie": "I&W",
          "project": "Sporen Schiedam - Rotterdam",
          "type": "Feature"
         },
         {
          "date": "2018-09",
          "geometry": {
           "coordinates": [
            4.409507,
            51.922369
           ],
           "type": "Point"
          },
          "lat": 51.922369,
          "locatie": "Parallelweg, Schiedam, Netherlands",
          "lon": 4.409507,
          "median": 0.00013812880264324386,
          "ministerie": "I&W",
          "project": "Sporen Schiedam - Rotterdam",
          "type": "Feature"
         },
         {
          "date": "2018-10",
          "geometry": {
           "coordinates": [
            4.409507,
            51.922369
           ],
           "type": "Point"
          },
          "lat": 51.922369,
          "locatie": "Parallelweg, Schiedam, Netherlands",
          "lon": 4.409507,
          "median": 0.00014106083723707351,
          "ministerie": "I&W",
          "project": "Sporen Schiedam - Rotterdam",
          "type": "Feature"
         },
         {
          "date": "2018-11",
          "geometry": {
           "coordinates": [
            4.409507,
            51.922369
           ],
           "type": "Point"
          },
          "lat": 51.922369,
          "locatie": "Parallelweg, Schiedam, Netherlands",
          "lon": 4.409507,
          "median": 0.00015914959784699118,
          "ministerie": "I&W",
          "project": "Sporen Schiedam - Rotterdam",
          "type": "Feature"
         },
         {
          "date": "2018-12",
          "geometry": {
           "coordinates": [
            4.409507,
            51.922369
           ],
           "type": "Point"
          },
          "lat": 51.922369,
          "locatie": "Parallelweg, Schiedam, Netherlands",
          "lon": 4.409507,
          "median": 0.00010662085765391615,
          "ministerie": "I&W",
          "project": "Sporen Schiedam - Rotterdam",
          "type": "Feature"
         },
         {
          "date": "2019-01",
          "geometry": {
           "coordinates": [
            4.409507,
            51.922369
           ],
           "type": "Point"
          },
          "lat": 51.922369,
          "locatie": "Parallelweg, Schiedam, Netherlands",
          "lon": 4.409507,
          "median": 8.586660260334611e-05,
          "ministerie": "I&W",
          "project": "Sporen Schiedam - Rotterdam",
          "type": "Feature"
         },
         {
          "date": "2019-02",
          "geometry": {
           "coordinates": [
            4.409507,
            51.922369
           ],
           "type": "Point"
          },
          "lat": 51.922369,
          "locatie": "Parallelweg, Schiedam, Netherlands",
          "lon": 4.409507,
          "median": 0.00017907512665260583,
          "ministerie": "I&W",
          "project": "Sporen Schiedam - Rotterdam",
          "type": "Feature"
         },
         {
          "date": "2019-03",
          "geometry": {
           "coordinates": [
            4.409507,
            51.922369
           ],
           "type": "Point"
          },
          "lat": 51.922369,
          "locatie": "Parallelweg, Schiedam, Netherlands",
          "lon": 4.409507,
          "median": 0.00011464343697298318,
          "ministerie": "I&W",
          "project": "Sporen Schiedam - Rotterdam",
          "type": "Feature"
         },
         {
          "date": "2019-04",
          "geometry": {
           "coordinates": [
            4.409507,
            51.922369
           ],
           "type": "Point"
          },
          "lat": 51.922369,
          "locatie": "Parallelweg, Schiedam, Netherlands",
          "lon": 4.409507,
          "median": 0.00014780825891825612,
          "ministerie": "I&W",
          "project": "Sporen Schiedam - Rotterdam",
          "type": "Feature"
         },
         {
          "date": "2019-05",
          "geometry": {
           "coordinates": [
            4.409507,
            51.922369
           ],
           "type": "Point"
          },
          "lat": 51.922369,
          "locatie": "Parallelweg, Schiedam, Netherlands",
          "lon": 4.409507,
          "median": 0.00012363377079043536,
          "ministerie": "I&W",
          "project": "Sporen Schiedam - Rotterdam",
          "type": "Feature"
         },
         {
          "date": "2019-06",
          "geometry": {
           "coordinates": [
            4.409507,
            51.922369
           ],
           "type": "Point"
          },
          "lat": 51.922369,
          "locatie": "Parallelweg, Schiedam, Netherlands",
          "lon": 4.409507,
          "median": 0.00013253195356810465,
          "ministerie": "I&W",
          "project": "Sporen Schiedam - Rotterdam",
          "type": "Feature"
         },
         {
          "date": "2019-07",
          "geometry": {
           "coordinates": [
            4.409507,
            51.922369
           ],
           "type": "Point"
          },
          "lat": 51.922369,
          "locatie": "Parallelweg, Schiedam, Netherlands",
          "lon": 4.409507,
          "median": 0.00012360510299913585,
          "ministerie": "I&W",
          "project": "Sporen Schiedam - Rotterdam",
          "type": "Feature"
         },
         {
          "date": "2019-08",
          "geometry": {
           "coordinates": [
            4.409507,
            51.922369
           ],
           "type": "Point"
          },
          "lat": 51.922369,
          "locatie": "Parallelweg, Schiedam, Netherlands",
          "lon": 4.409507,
          "median": 0.00011085500491133014,
          "ministerie": "I&W",
          "project": "Sporen Schiedam - Rotterdam",
          "type": "Feature"
         },
         {
          "date": "2019-09",
          "geometry": {
           "coordinates": [
            4.409507,
            51.922369
           ],
           "type": "Point"
          },
          "lat": 51.922369,
          "locatie": "Parallelweg, Schiedam, Netherlands",
          "lon": 4.409507,
          "median": 0.00010624718360358268,
          "ministerie": "I&W",
          "project": "Sporen Schiedam - Rotterdam",
          "type": "Feature"
         },
         {
          "date": "2018-07",
          "geometry": {
           "coordinates": [
            5.153583,
            52.103029
           ],
           "type": "Point"
          },
          "lat": 52.103029,
          "locatie": "A27, Utrecht, Netherlands",
          "lon": 5.153583,
          "median": 0.00012216567943867292,
          "ministerie": "I&W",
          "project": "A27/A12 Ring Utrecht",
          "type": "Feature"
         },
         {
          "date": "2018-08",
          "geometry": {
           "coordinates": [
            5.153583,
            52.103029
           ],
           "type": "Point"
          },
          "lat": 52.103029,
          "locatie": "A27, Utrecht, Netherlands",
          "lon": 5.153583,
          "median": 0.00011796460899964926,
          "ministerie": "I&W",
          "project": "A27/A12 Ring Utrecht",
          "type": "Feature"
         },
         {
          "date": "2018-09",
          "geometry": {
           "coordinates": [
            5.153583,
            52.103029
           ],
           "type": "Point"
          },
          "lat": 52.103029,
          "locatie": "A27, Utrecht, Netherlands",
          "lon": 5.153583,
          "median": 0.0001513676820123528,
          "ministerie": "I&W",
          "project": "A27/A12 Ring Utrecht",
          "type": "Feature"
         },
         {
          "date": "2018-10",
          "geometry": {
           "coordinates": [
            5.153583,
            52.103029
           ],
           "type": "Point"
          },
          "lat": 52.103029,
          "locatie": "A27, Utrecht, Netherlands",
          "lon": 5.153583,
          "median": 0.00011413416977329909,
          "ministerie": "I&W",
          "project": "A27/A12 Ring Utrecht",
          "type": "Feature"
         },
         {
          "date": "2018-11",
          "geometry": {
           "coordinates": [
            5.153583,
            52.103029
           ],
           "type": "Point"
          },
          "lat": 52.103029,
          "locatie": "A27, Utrecht, Netherlands",
          "lon": 5.153583,
          "median": 0.00013475077237721768,
          "ministerie": "I&W",
          "project": "A27/A12 Ring Utrecht",
          "type": "Feature"
         },
         {
          "date": "2018-12",
          "geometry": {
           "coordinates": [
            5.153583,
            52.103029
           ],
           "type": "Point"
          },
          "lat": 52.103029,
          "locatie": "A27, Utrecht, Netherlands",
          "lon": 5.153583,
          "median": 0.00011216611892450601,
          "ministerie": "I&W",
          "project": "A27/A12 Ring Utrecht",
          "type": "Feature"
         },
         {
          "date": "2019-01",
          "geometry": {
           "coordinates": [
            5.153583,
            52.103029
           ],
           "type": "Point"
          },
          "lat": 52.103029,
          "locatie": "A27, Utrecht, Netherlands",
          "lon": 5.153583,
          "median": 8.563582377973944e-05,
          "ministerie": "I&W",
          "project": "A27/A12 Ring Utrecht",
          "type": "Feature"
         },
         {
          "date": "2019-02",
          "geometry": {
           "coordinates": [
            5.153583,
            52.103029
           ],
           "type": "Point"
          },
          "lat": 52.103029,
          "locatie": "A27, Utrecht, Netherlands",
          "lon": 5.153583,
          "median": 0.0001433468860341236,
          "ministerie": "I&W",
          "project": "A27/A12 Ring Utrecht",
          "type": "Feature"
         },
         {
          "date": "2019-03",
          "geometry": {
           "coordinates": [
            5.153583,
            52.103029
           ],
           "type": "Point"
          },
          "lat": 52.103029,
          "locatie": "A27, Utrecht, Netherlands",
          "lon": 5.153583,
          "median": 0.00010805332149725394,
          "ministerie": "I&W",
          "project": "A27/A12 Ring Utrecht",
          "type": "Feature"
         },
         {
          "date": "2019-04",
          "geometry": {
           "coordinates": [
            5.153583,
            52.103029
           ],
           "type": "Point"
          },
          "lat": 52.103029,
          "locatie": "A27, Utrecht, Netherlands",
          "lon": 5.153583,
          "median": 0.00012491100679687883,
          "ministerie": "I&W",
          "project": "A27/A12 Ring Utrecht",
          "type": "Feature"
         },
         {
          "date": "2019-05",
          "geometry": {
           "coordinates": [
            5.153583,
            52.103029
           ],
           "type": "Point"
          },
          "lat": 52.103029,
          "locatie": "A27, Utrecht, Netherlands",
          "lon": 5.153583,
          "median": 0.00011815589462126376,
          "ministerie": "I&W",
          "project": "A27/A12 Ring Utrecht",
          "type": "Feature"
         },
         {
          "date": "2019-06",
          "geometry": {
           "coordinates": [
            5.153583,
            52.103029
           ],
           "type": "Point"
          },
          "lat": 52.103029,
          "locatie": "A27, Utrecht, Netherlands",
          "lon": 5.153583,
          "median": 0.00011081842257741799,
          "ministerie": "I&W",
          "project": "A27/A12 Ring Utrecht",
          "type": "Feature"
         },
         {
          "date": "2019-07",
          "geometry": {
           "coordinates": [
            5.153583,
            52.103029
           ],
           "type": "Point"
          },
          "lat": 52.103029,
          "locatie": "A27, Utrecht, Netherlands",
          "lon": 5.153583,
          "median": 0.00011322346836095676,
          "ministerie": "I&W",
          "project": "A27/A12 Ring Utrecht",
          "type": "Feature"
         },
         {
          "date": "2019-08",
          "geometry": {
           "coordinates": [
            5.153583,
            52.103029
           ],
           "type": "Point"
          },
          "lat": 52.103029,
          "locatie": "A27, Utrecht, Netherlands",
          "lon": 5.153583,
          "median": 0.00012261441166381383,
          "ministerie": "I&W",
          "project": "A27/A12 Ring Utrecht",
          "type": "Feature"
         },
         {
          "date": "2019-09",
          "geometry": {
           "coordinates": [
            5.153583,
            52.103029
           ],
           "type": "Point"
          },
          "lat": 52.103029,
          "locatie": "A27, Utrecht, Netherlands",
          "lon": 5.153583,
          "median": 9.130437250747626e-05,
          "ministerie": "I&W",
          "project": "A27/A12 Ring Utrecht",
          "type": "Feature"
         },
         {
          "date": "2018-07",
          "geometry": {
           "coordinates": [
            5.425839,
            52.172857
           ],
           "type": "Point"
          },
          "lat": 52.172857,
          "locatie": "A28, Amersfoort, Netherlands",
          "lon": 5.425839,
          "median": 0.00011385266043362208,
          "ministerie": "I&W",
          "project": "A28/A1 knooppunt Hoevelaken",
          "type": "Feature"
         },
         {
          "date": "2018-08",
          "geometry": {
           "coordinates": [
            5.425839,
            52.172857
           ],
           "type": "Point"
          },
          "lat": 52.172857,
          "locatie": "A28, Amersfoort, Netherlands",
          "lon": 5.425839,
          "median": 0.00011096716349672637,
          "ministerie": "I&W",
          "project": "A28/A1 knooppunt Hoevelaken",
          "type": "Feature"
         },
         {
          "date": "2018-09",
          "geometry": {
           "coordinates": [
            5.425839,
            52.172857
           ],
           "type": "Point"
          },
          "lat": 52.172857,
          "locatie": "A28, Amersfoort, Netherlands",
          "lon": 5.425839,
          "median": 0.00014030936936689888,
          "ministerie": "I&W",
          "project": "A28/A1 knooppunt Hoevelaken",
          "type": "Feature"
         },
         {
          "date": "2018-10",
          "geometry": {
           "coordinates": [
            5.425839,
            52.172857
           ],
           "type": "Point"
          },
          "lat": 52.172857,
          "locatie": "A28, Amersfoort, Netherlands",
          "lon": 5.425839,
          "median": 0.00011533834935457748,
          "ministerie": "I&W",
          "project": "A28/A1 knooppunt Hoevelaken",
          "type": "Feature"
         },
         {
          "date": "2018-11",
          "geometry": {
           "coordinates": [
            5.425839,
            52.172857
           ],
           "type": "Point"
          },
          "lat": 52.172857,
          "locatie": "A28, Amersfoort, Netherlands",
          "lon": 5.425839,
          "median": 0.00013575502245277224,
          "ministerie": "I&W",
          "project": "A28/A1 knooppunt Hoevelaken",
          "type": "Feature"
         },
         {
          "date": "2018-12",
          "geometry": {
           "coordinates": [
            5.425839,
            52.172857
           ],
           "type": "Point"
          },
          "lat": 52.172857,
          "locatie": "A28, Amersfoort, Netherlands",
          "lon": 5.425839,
          "median": 0.00010544501567478577,
          "ministerie": "I&W",
          "project": "A28/A1 knooppunt Hoevelaken",
          "type": "Feature"
         },
         {
          "date": "2019-01",
          "geometry": {
           "coordinates": [
            5.425839,
            52.172857
           ],
           "type": "Point"
          },
          "lat": 52.172857,
          "locatie": "A28, Amersfoort, Netherlands",
          "lon": 5.425839,
          "median": 8.535361848771572e-05,
          "ministerie": "I&W",
          "project": "A28/A1 knooppunt Hoevelaken",
          "type": "Feature"
         },
         {
          "date": "2019-02",
          "geometry": {
           "coordinates": [
            5.425839,
            52.172857
           ],
           "type": "Point"
          },
          "lat": 52.172857,
          "locatie": "A28, Amersfoort, Netherlands",
          "lon": 5.425839,
          "median": 0.00015459148562513292,
          "ministerie": "I&W",
          "project": "A28/A1 knooppunt Hoevelaken",
          "type": "Feature"
         },
         {
          "date": "2019-03",
          "geometry": {
           "coordinates": [
            5.425839,
            52.172857
           ],
           "type": "Point"
          },
          "lat": 52.172857,
          "locatie": "A28, Amersfoort, Netherlands",
          "lon": 5.425839,
          "median": 0.00010584200936136767,
          "ministerie": "I&W",
          "project": "A28/A1 knooppunt Hoevelaken",
          "type": "Feature"
         },
         {
          "date": "2019-04",
          "geometry": {
           "coordinates": [
            5.425839,
            52.172857
           ],
           "type": "Point"
          },
          "lat": 52.172857,
          "locatie": "A28, Amersfoort, Netherlands",
          "lon": 5.425839,
          "median": 0.00011204542376540128,
          "ministerie": "I&W",
          "project": "A28/A1 knooppunt Hoevelaken",
          "type": "Feature"
         },
         {
          "date": "2019-05",
          "geometry": {
           "coordinates": [
            5.425839,
            52.172857
           ],
           "type": "Point"
          },
          "lat": 52.172857,
          "locatie": "A28, Amersfoort, Netherlands",
          "lon": 5.425839,
          "median": 0.00011396561138919564,
          "ministerie": "I&W",
          "project": "A28/A1 knooppunt Hoevelaken",
          "type": "Feature"
         },
         {
          "date": "2019-06",
          "geometry": {
           "coordinates": [
            5.425839,
            52.172857
           ],
           "type": "Point"
          },
          "lat": 52.172857,
          "locatie": "A28, Amersfoort, Netherlands",
          "lon": 5.425839,
          "median": 0.00011040555546060205,
          "ministerie": "I&W",
          "project": "A28/A1 knooppunt Hoevelaken",
          "type": "Feature"
         },
         {
          "date": "2019-07",
          "geometry": {
           "coordinates": [
            5.425839,
            52.172857
           ],
           "type": "Point"
          },
          "lat": 52.172857,
          "locatie": "A28, Amersfoort, Netherlands",
          "lon": 5.425839,
          "median": 0.00010380530875409022,
          "ministerie": "I&W",
          "project": "A28/A1 knooppunt Hoevelaken",
          "type": "Feature"
         },
         {
          "date": "2019-08",
          "geometry": {
           "coordinates": [
            5.425839,
            52.172857
           ],
           "type": "Point"
          },
          "lat": 52.172857,
          "locatie": "A28, Amersfoort, Netherlands",
          "lon": 5.425839,
          "median": 0.00011759272191605934,
          "ministerie": "I&W",
          "project": "A28/A1 knooppunt Hoevelaken",
          "type": "Feature"
         },
         {
          "date": "2019-09",
          "geometry": {
           "coordinates": [
            5.425839,
            52.172857
           ],
           "type": "Point"
          },
          "lat": 52.172857,
          "locatie": "A28, Amersfoort, Netherlands",
          "lon": 5.425839,
          "median": 0.00010094519988651813,
          "ministerie": "I&W",
          "project": "A28/A1 knooppunt Hoevelaken",
          "type": "Feature"
         },
         {
          "date": "2018-07",
          "geometry": {
           "coordinates": [
            4.348639,
            52.043546
           ],
           "type": "Point"
          },
          "lat": 52.043546,
          "locatie": "A4, The Hague, Netherlands",
          "lon": 4.348639,
          "median": 0.00013021824170695817,
          "ministerie": "I&W",
          "project": "A4 Passage Den Haag",
          "type": "Feature"
         },
         {
          "date": "2018-08",
          "geometry": {
           "coordinates": [
            4.348639,
            52.043546
           ],
           "type": "Point"
          },
          "lat": 52.043546,
          "locatie": "A4, The Hague, Netherlands",
          "lon": 4.348639,
          "median": 0.00011085127334808931,
          "ministerie": "I&W",
          "project": "A4 Passage Den Haag",
          "type": "Feature"
         },
         {
          "date": "2018-09",
          "geometry": {
           "coordinates": [
            4.348639,
            52.043546
           ],
           "type": "Point"
          },
          "lat": 52.043546,
          "locatie": "A4, The Hague, Netherlands",
          "lon": 4.348639,
          "median": 0.00012789534106939792,
          "ministerie": "I&W",
          "project": "A4 Passage Den Haag",
          "type": "Feature"
         },
         {
          "date": "2018-10",
          "geometry": {
           "coordinates": [
            4.348639,
            52.043546
           ],
           "type": "Point"
          },
          "lat": 52.043546,
          "locatie": "A4, The Hague, Netherlands",
          "lon": 4.348639,
          "median": 0.0001234642696558103,
          "ministerie": "I&W",
          "project": "A4 Passage Den Haag",
          "type": "Feature"
         },
         {
          "date": "2018-11",
          "geometry": {
           "coordinates": [
            4.348639,
            52.043546
           ],
           "type": "Point"
          },
          "lat": 52.043546,
          "locatie": "A4, The Hague, Netherlands",
          "lon": 4.348639,
          "median": 0.0001582765398779884,
          "ministerie": "I&W",
          "project": "A4 Passage Den Haag",
          "type": "Feature"
         },
         {
          "date": "2018-12",
          "geometry": {
           "coordinates": [
            4.348639,
            52.043546
           ],
           "type": "Point"
          },
          "lat": 52.043546,
          "locatie": "A4, The Hague, Netherlands",
          "lon": 4.348639,
          "median": 0.0001039363128347818,
          "ministerie": "I&W",
          "project": "A4 Passage Den Haag",
          "type": "Feature"
         },
         {
          "date": "2019-01",
          "geometry": {
           "coordinates": [
            4.348639,
            52.043546
           ],
           "type": "Point"
          },
          "lat": 52.043546,
          "locatie": "A4, The Hague, Netherlands",
          "lon": 4.348639,
          "median": 6.573000271628368e-05,
          "ministerie": "I&W",
          "project": "A4 Passage Den Haag",
          "type": "Feature"
         },
         {
          "date": "2019-02",
          "geometry": {
           "coordinates": [
            4.348639,
            52.043546
           ],
           "type": "Point"
          },
          "lat": 52.043546,
          "locatie": "A4, The Hague, Netherlands",
          "lon": 4.348639,
          "median": 0.00017905626542057156,
          "ministerie": "I&W",
          "project": "A4 Passage Den Haag",
          "type": "Feature"
         },
         {
          "date": "2019-03",
          "geometry": {
           "coordinates": [
            4.348639,
            52.043546
           ],
           "type": "Point"
          },
          "lat": 52.043546,
          "locatie": "A4, The Hague, Netherlands",
          "lon": 4.348639,
          "median": 0.00010138525976799428,
          "ministerie": "I&W",
          "project": "A4 Passage Den Haag",
          "type": "Feature"
         },
         {
          "date": "2019-04",
          "geometry": {
           "coordinates": [
            4.348639,
            52.043546
           ],
           "type": "Point"
          },
          "lat": 52.043546,
          "locatie": "A4, The Hague, Netherlands",
          "lon": 4.348639,
          "median": 0.00013865909769271312,
          "ministerie": "I&W",
          "project": "A4 Passage Den Haag",
          "type": "Feature"
         },
         {
          "date": "2019-05",
          "geometry": {
           "coordinates": [
            4.348639,
            52.043546
           ],
           "type": "Point"
          },
          "lat": 52.043546,
          "locatie": "A4, The Hague, Netherlands",
          "lon": 4.348639,
          "median": 0.00011780803834290563,
          "ministerie": "I&W",
          "project": "A4 Passage Den Haag",
          "type": "Feature"
         },
         {
          "date": "2019-06",
          "geometry": {
           "coordinates": [
            4.348639,
            52.043546
           ],
           "type": "Point"
          },
          "lat": 52.043546,
          "locatie": "A4, The Hague, Netherlands",
          "lon": 4.348639,
          "median": 0.00012361626419506058,
          "ministerie": "I&W",
          "project": "A4 Passage Den Haag",
          "type": "Feature"
         },
         {
          "date": "2019-07",
          "geometry": {
           "coordinates": [
            4.348639,
            52.043546
           ],
           "type": "Point"
          },
          "lat": 52.043546,
          "locatie": "A4, The Hague, Netherlands",
          "lon": 4.348639,
          "median": 0.00011233110757640668,
          "ministerie": "I&W",
          "project": "A4 Passage Den Haag",
          "type": "Feature"
         },
         {
          "date": "2019-08",
          "geometry": {
           "coordinates": [
            4.348639,
            52.043546
           ],
           "type": "Point"
          },
          "lat": 52.043546,
          "locatie": "A4, The Hague, Netherlands",
          "lon": 4.348639,
          "median": 0.00010625184222590178,
          "ministerie": "I&W",
          "project": "A4 Passage Den Haag",
          "type": "Feature"
         },
         {
          "date": "2019-09",
          "geometry": {
           "coordinates": [
            4.348639,
            52.043546
           ],
           "type": "Point"
          },
          "lat": 52.043546,
          "locatie": "A4, The Hague, Netherlands",
          "lon": 4.348639,
          "median": 9.233816537909036e-05,
          "ministerie": "I&W",
          "project": "A4 Passage Den Haag",
          "type": "Feature"
         },
         {
          "date": "2018-07",
          "geometry": {
           "coordinates": [
            5.513751999999999,
            52.54849599999999
           ],
           "type": "Point"
          },
          "lat": 52.54849599999999,
          "locatie": "Lelystad Centrum - Swifterbant, Lelystad, Netherlands",
          "lon": 5.513751999999999,
          "median": 0.00010257521353196353,
          "ministerie": "I&W",
          "project": "A6 Almere Buiten-Oost - Lelystad",
          "type": "Feature"
         },
         {
          "date": "2018-08",
          "geometry": {
           "coordinates": [
            5.513751999999999,
            52.54849599999999
           ],
           "type": "Point"
          },
          "lat": 52.54849599999999,
          "locatie": "Lelystad Centrum - Swifterbant, Lelystad, Netherlands",
          "lon": 5.513751999999999,
          "median": 0.00010315030689501331,
          "ministerie": "I&W",
          "project": "A6 Almere Buiten-Oost - Lelystad",
          "type": "Feature"
         },
         {
          "date": "2018-09",
          "geometry": {
           "coordinates": [
            5.513751999999999,
            52.54849599999999
           ],
           "type": "Point"
          },
          "lat": 52.54849599999999,
          "locatie": "Lelystad Centrum - Swifterbant, Lelystad, Netherlands",
          "lon": 5.513751999999999,
          "median": 0.0001247959801417497,
          "ministerie": "I&W",
          "project": "A6 Almere Buiten-Oost - Lelystad",
          "type": "Feature"
         },
         {
          "date": "2018-10",
          "geometry": {
           "coordinates": [
            5.513751999999999,
            52.54849599999999
           ],
           "type": "Point"
          },
          "lat": 52.54849599999999,
          "locatie": "Lelystad Centrum - Swifterbant, Lelystad, Netherlands",
          "lon": 5.513751999999999,
          "median": 0.00010452966390267893,
          "ministerie": "I&W",
          "project": "A6 Almere Buiten-Oost - Lelystad",
          "type": "Feature"
         },
         {
          "date": "2018-11",
          "geometry": {
           "coordinates": [
            5.513751999999999,
            52.54849599999999
           ],
           "type": "Point"
          },
          "lat": 52.54849599999999,
          "locatie": "Lelystad Centrum - Swifterbant, Lelystad, Netherlands",
          "lon": 5.513751999999999,
          "median": 0.00014058279894577774,
          "ministerie": "I&W",
          "project": "A6 Almere Buiten-Oost - Lelystad",
          "type": "Feature"
         },
         {
          "date": "2018-12",
          "geometry": {
           "coordinates": [
            5.513751999999999,
            52.54849599999999
           ],
           "type": "Point"
          },
          "lat": 52.54849599999999,
          "locatie": "Lelystad Centrum - Swifterbant, Lelystad, Netherlands",
          "lon": 5.513751999999999,
          "median": 9.167080861516297e-05,
          "ministerie": "I&W",
          "project": "A6 Almere Buiten-Oost - Lelystad",
          "type": "Feature"
         },
         {
          "date": "2019-01",
          "geometry": {
           "coordinates": [
            5.513751999999999,
            52.54849599999999
           ],
           "type": "Point"
          },
          "lat": 52.54849599999999,
          "locatie": "Lelystad Centrum - Swifterbant, Lelystad, Netherlands",
          "lon": 5.513751999999999,
          "median": 7.762196764815599e-05,
          "ministerie": "I&W",
          "project": "A6 Almere Buiten-Oost - Lelystad",
          "type": "Feature"
         },
         {
          "date": "2019-02",
          "geometry": {
           "coordinates": [
            5.513751999999999,
            52.54849599999999
           ],
           "type": "Point"
          },
          "lat": 52.54849599999999,
          "locatie": "Lelystad Centrum - Swifterbant, Lelystad, Netherlands",
          "lon": 5.513751999999999,
          "median": 0.00015039135584998277,
          "ministerie": "I&W",
          "project": "A6 Almere Buiten-Oost - Lelystad",
          "type": "Feature"
         },
         {
          "date": "2019-03",
          "geometry": {
           "coordinates": [
            5.513751999999999,
            52.54849599999999
           ],
           "type": "Point"
          },
          "lat": 52.54849599999999,
          "locatie": "Lelystad Centrum - Swifterbant, Lelystad, Netherlands",
          "lon": 5.513751999999999,
          "median": 9.195772469980704e-05,
          "ministerie": "I&W",
          "project": "A6 Almere Buiten-Oost - Lelystad",
          "type": "Feature"
         },
         {
          "date": "2019-04",
          "geometry": {
           "coordinates": [
            5.513751999999999,
            52.54849599999999
           ],
           "type": "Point"
          },
          "lat": 52.54849599999999,
          "locatie": "Lelystad Centrum - Swifterbant, Lelystad, Netherlands",
          "lon": 5.513751999999999,
          "median": 0.00011135866002108814,
          "ministerie": "I&W",
          "project": "A6 Almere Buiten-Oost - Lelystad",
          "type": "Feature"
         },
         {
          "date": "2019-05",
          "geometry": {
           "coordinates": [
            5.513751999999999,
            52.54849599999999
           ],
           "type": "Point"
          },
          "lat": 52.54849599999999,
          "locatie": "Lelystad Centrum - Swifterbant, Lelystad, Netherlands",
          "lon": 5.513751999999999,
          "median": 0.00011000948870787397,
          "ministerie": "I&W",
          "project": "A6 Almere Buiten-Oost - Lelystad",
          "type": "Feature"
         },
         {
          "date": "2019-06",
          "geometry": {
           "coordinates": [
            5.513751999999999,
            52.54849599999999
           ],
           "type": "Point"
          },
          "lat": 52.54849599999999,
          "locatie": "Lelystad Centrum - Swifterbant, Lelystad, Netherlands",
          "lon": 5.513751999999999,
          "median": 0.00011132246118833047,
          "ministerie": "I&W",
          "project": "A6 Almere Buiten-Oost - Lelystad",
          "type": "Feature"
         },
         {
          "date": "2019-07",
          "geometry": {
           "coordinates": [
            5.513751999999999,
            52.54849599999999
           ],
           "type": "Point"
          },
          "lat": 52.54849599999999,
          "locatie": "Lelystad Centrum - Swifterbant, Lelystad, Netherlands",
          "lon": 5.513751999999999,
          "median": 9.845119117938722e-05,
          "ministerie": "I&W",
          "project": "A6 Almere Buiten-Oost - Lelystad",
          "type": "Feature"
         },
         {
          "date": "2019-08",
          "geometry": {
           "coordinates": [
            5.513751999999999,
            52.54849599999999
           ],
           "type": "Point"
          },
          "lat": 52.54849599999999,
          "locatie": "Lelystad Centrum - Swifterbant, Lelystad, Netherlands",
          "lon": 5.513751999999999,
          "median": 0.00012296563468601834,
          "ministerie": "I&W",
          "project": "A6 Almere Buiten-Oost - Lelystad",
          "type": "Feature"
         },
         {
          "date": "2019-09",
          "geometry": {
           "coordinates": [
            5.513751999999999,
            52.54849599999999
           ],
           "type": "Point"
          },
          "lat": 52.54849599999999,
          "locatie": "Lelystad Centrum - Swifterbant, Lelystad, Netherlands",
          "lon": 5.513751999999999,
          "median": 8.814693137537688e-05,
          "ministerie": "I&W",
          "project": "A6 Almere Buiten-Oost - Lelystad",
          "type": "Feature"
         },
         {
          "date": "2018-07",
          "geometry": {
           "coordinates": [
            6.107747,
            51.401507
           ],
           "type": "Point"
          },
          "lat": 51.401507,
          "locatie": "Zaarderheiken, Blerick, Netherlands",
          "lon": 6.107747,
          "median": 0.00012235144822625443,
          "ministerie": "I&W",
          "project": "A67/A73 Knooppunt Zaarderheiken",
          "type": "Feature"
         },
         {
          "date": "2018-08",
          "geometry": {
           "coordinates": [
            6.107747,
            51.401507
           ],
           "type": "Point"
          },
          "lat": 51.401507,
          "locatie": "Zaarderheiken, Blerick, Netherlands",
          "lon": 6.107747,
          "median": 0.0001181902236791838,
          "ministerie": "I&W",
          "project": "A67/A73 Knooppunt Zaarderheiken",
          "type": "Feature"
         },
         {
          "date": "2018-09",
          "geometry": {
           "coordinates": [
            6.107747,
            51.401507
           ],
           "type": "Point"
          },
          "lat": 51.401507,
          "locatie": "Zaarderheiken, Blerick, Netherlands",
          "lon": 6.107747,
          "median": 0.0001513825700385496,
          "ministerie": "I&W",
          "project": "A67/A73 Knooppunt Zaarderheiken",
          "type": "Feature"
         },
         {
          "date": "2018-10",
          "geometry": {
           "coordinates": [
            6.107747,
            51.401507
           ],
           "type": "Point"
          },
          "lat": 51.401507,
          "locatie": "Zaarderheiken, Blerick, Netherlands",
          "lon": 6.107747,
          "median": 0.0001368315160640316,
          "ministerie": "I&W",
          "project": "A67/A73 Knooppunt Zaarderheiken",
          "type": "Feature"
         },
         {
          "date": "2018-11",
          "geometry": {
           "coordinates": [
            6.107747,
            51.401507
           ],
           "type": "Point"
          },
          "lat": 51.401507,
          "locatie": "Zaarderheiken, Blerick, Netherlands",
          "lon": 6.107747,
          "median": 0.0001717004633974284,
          "ministerie": "I&W",
          "project": "A67/A73 Knooppunt Zaarderheiken",
          "type": "Feature"
         },
         {
          "date": "2018-12",
          "geometry": {
           "coordinates": [
            6.107747,
            51.401507
           ],
           "type": "Point"
          },
          "lat": 51.401507,
          "locatie": "Zaarderheiken, Blerick, Netherlands",
          "lon": 6.107747,
          "median": 0.0001264971651835367,
          "ministerie": "I&W",
          "project": "A67/A73 Knooppunt Zaarderheiken",
          "type": "Feature"
         },
         {
          "date": "2019-01",
          "geometry": {
           "coordinates": [
            6.107747,
            51.401507
           ],
           "type": "Point"
          },
          "lat": 51.401507,
          "locatie": "Zaarderheiken, Blerick, Netherlands",
          "lon": 6.107747,
          "median": 0.0001399881143807754,
          "ministerie": "I&W",
          "project": "A67/A73 Knooppunt Zaarderheiken",
          "type": "Feature"
         },
         {
          "date": "2019-02",
          "geometry": {
           "coordinates": [
            6.107747,
            51.401507
           ],
           "type": "Point"
          },
          "lat": 51.401507,
          "locatie": "Zaarderheiken, Blerick, Netherlands",
          "lon": 6.107747,
          "median": 0.00016741561775256869,
          "ministerie": "I&W",
          "project": "A67/A73 Knooppunt Zaarderheiken",
          "type": "Feature"
         },
         {
          "date": "2019-03",
          "geometry": {
           "coordinates": [
            6.107747,
            51.401507
           ],
           "type": "Point"
          },
          "lat": 51.401507,
          "locatie": "Zaarderheiken, Blerick, Netherlands",
          "lon": 6.107747,
          "median": 0.00011421420741747327,
          "ministerie": "I&W",
          "project": "A67/A73 Knooppunt Zaarderheiken",
          "type": "Feature"
         },
         {
          "date": "2019-04",
          "geometry": {
           "coordinates": [
            6.107747,
            51.401507
           ],
           "type": "Point"
          },
          "lat": 51.401507,
          "locatie": "Zaarderheiken, Blerick, Netherlands",
          "lon": 6.107747,
          "median": 0.00014897362845056586,
          "ministerie": "I&W",
          "project": "A67/A73 Knooppunt Zaarderheiken",
          "type": "Feature"
         },
         {
          "date": "2019-05",
          "geometry": {
           "coordinates": [
            6.107747,
            51.401507
           ],
           "type": "Point"
          },
          "lat": 51.401507,
          "locatie": "Zaarderheiken, Blerick, Netherlands",
          "lon": 6.107747,
          "median": 0.00012805729784304276,
          "ministerie": "I&W",
          "project": "A67/A73 Knooppunt Zaarderheiken",
          "type": "Feature"
         },
         {
          "date": "2019-06",
          "geometry": {
           "coordinates": [
            6.107747,
            51.401507
           ],
           "type": "Point"
          },
          "lat": 51.401507,
          "locatie": "Zaarderheiken, Blerick, Netherlands",
          "lon": 6.107747,
          "median": 0.00011349177097903112,
          "ministerie": "I&W",
          "project": "A67/A73 Knooppunt Zaarderheiken",
          "type": "Feature"
         },
         {
          "date": "2019-07",
          "geometry": {
           "coordinates": [
            6.107747,
            51.401507
           ],
           "type": "Point"
          },
          "lat": 51.401507,
          "locatie": "Zaarderheiken, Blerick, Netherlands",
          "lon": 6.107747,
          "median": 0.00011015777859731467,
          "ministerie": "I&W",
          "project": "A67/A73 Knooppunt Zaarderheiken",
          "type": "Feature"
         },
         {
          "date": "2019-08",
          "geometry": {
           "coordinates": [
            6.107747,
            51.401507
           ],
           "type": "Point"
          },
          "lat": 51.401507,
          "locatie": "Zaarderheiken, Blerick, Netherlands",
          "lon": 6.107747,
          "median": 0.00010650281025981224,
          "ministerie": "I&W",
          "project": "A67/A73 Knooppunt Zaarderheiken",
          "type": "Feature"
         },
         {
          "date": "2019-09",
          "geometry": {
           "coordinates": [
            6.107747,
            51.401507
           ],
           "type": "Point"
          },
          "lat": 51.401507,
          "locatie": "Zaarderheiken, Blerick, Netherlands",
          "lon": 6.107747,
          "median": 0.00010331828093161764,
          "ministerie": "I&W",
          "project": "A67/A73 Knooppunt Zaarderheiken",
          "type": "Feature"
         },
         {
          "date": "2018-07",
          "geometry": {
           "coordinates": [
            6.306813,
            52.242929
           ],
           "type": "Point"
          },
          "lat": 52.242929,
          "locatie": "A1, Bathmen, Netherlands",
          "lon": 6.306813,
          "median": 0.000104525579627888,
          "ministerie": "I&W",
          "project": "A1 Apeldoorn - Azelo",
          "type": "Feature"
         },
         {
          "date": "2018-08",
          "geometry": {
           "coordinates": [
            6.306813,
            52.242929
           ],
           "type": "Point"
          },
          "lat": 52.242929,
          "locatie": "A1, Bathmen, Netherlands",
          "lon": 6.306813,
          "median": 0.00010350743546070651,
          "ministerie": "I&W",
          "project": "A1 Apeldoorn - Azelo",
          "type": "Feature"
         },
         {
          "date": "2018-09",
          "geometry": {
           "coordinates": [
            6.306813,
            52.242929
           ],
           "type": "Point"
          },
          "lat": 52.242929,
          "locatie": "A1, Bathmen, Netherlands",
          "lon": 6.306813,
          "median": 0.00012128151865908876,
          "ministerie": "I&W",
          "project": "A1 Apeldoorn - Azelo",
          "type": "Feature"
         },
         {
          "date": "2018-10",
          "geometry": {
           "coordinates": [
            6.306813,
            52.242929
           ],
           "type": "Point"
          },
          "lat": 52.242929,
          "locatie": "A1, Bathmen, Netherlands",
          "lon": 6.306813,
          "median": 0.00011454152250433571,
          "ministerie": "I&W",
          "project": "A1 Apeldoorn - Azelo",
          "type": "Feature"
         },
         {
          "date": "2018-11",
          "geometry": {
           "coordinates": [
            6.306813,
            52.242929
           ],
           "type": "Point"
          },
          "lat": 52.242929,
          "locatie": "A1, Bathmen, Netherlands",
          "lon": 6.306813,
          "median": 0.00014179635036271065,
          "ministerie": "I&W",
          "project": "A1 Apeldoorn - Azelo",
          "type": "Feature"
         },
         {
          "date": "2018-12",
          "geometry": {
           "coordinates": [
            6.306813,
            52.242929
           ],
           "type": "Point"
          },
          "lat": 52.242929,
          "locatie": "A1, Bathmen, Netherlands",
          "lon": 6.306813,
          "median": 0.00010216622469592145,
          "ministerie": "I&W",
          "project": "A1 Apeldoorn - Azelo",
          "type": "Feature"
         },
         {
          "date": "2019-01",
          "geometry": {
           "coordinates": [
            6.306813,
            52.242929
           ],
           "type": "Point"
          },
          "lat": 52.242929,
          "locatie": "A1, Bathmen, Netherlands",
          "lon": 6.306813,
          "median": 0.00010336307608003513,
          "ministerie": "I&W",
          "project": "A1 Apeldoorn - Azelo",
          "type": "Feature"
         },
         {
          "date": "2019-02",
          "geometry": {
           "coordinates": [
            6.306813,
            52.242929
           ],
           "type": "Point"
          },
          "lat": 52.242929,
          "locatie": "A1, Bathmen, Netherlands",
          "lon": 6.306813,
          "median": 0.00014859160847859623,
          "ministerie": "I&W",
          "project": "A1 Apeldoorn - Azelo",
          "type": "Feature"
         },
         {
          "date": "2019-03",
          "geometry": {
           "coordinates": [
            6.306813,
            52.242929
           ],
           "type": "Point"
          },
          "lat": 52.242929,
          "locatie": "A1, Bathmen, Netherlands",
          "lon": 6.306813,
          "median": 9.598724330724812e-05,
          "ministerie": "I&W",
          "project": "A1 Apeldoorn - Azelo",
          "type": "Feature"
         },
         {
          "date": "2019-04",
          "geometry": {
           "coordinates": [
            6.306813,
            52.242929
           ],
           "type": "Point"
          },
          "lat": 52.242929,
          "locatie": "A1, Bathmen, Netherlands",
          "lon": 6.306813,
          "median": 0.00010599774254818774,
          "ministerie": "I&W",
          "project": "A1 Apeldoorn - Azelo",
          "type": "Feature"
         },
         {
          "date": "2019-05",
          "geometry": {
           "coordinates": [
            6.306813,
            52.242929
           ],
           "type": "Point"
          },
          "lat": 52.242929,
          "locatie": "A1, Bathmen, Netherlands",
          "lon": 6.306813,
          "median": 0.00010583750113289027,
          "ministerie": "I&W",
          "project": "A1 Apeldoorn - Azelo",
          "type": "Feature"
         },
         {
          "date": "2019-06",
          "geometry": {
           "coordinates": [
            6.306813,
            52.242929
           ],
           "type": "Point"
          },
          "lat": 52.242929,
          "locatie": "A1, Bathmen, Netherlands",
          "lon": 6.306813,
          "median": 0.00010405441435495835,
          "ministerie": "I&W",
          "project": "A1 Apeldoorn - Azelo",
          "type": "Feature"
         },
         {
          "date": "2019-07",
          "geometry": {
           "coordinates": [
            6.306813,
            52.242929
           ],
           "type": "Point"
          },
          "lat": 52.242929,
          "locatie": "A1, Bathmen, Netherlands",
          "lon": 6.306813,
          "median": 9.589683031663299e-05,
          "ministerie": "I&W",
          "project": "A1 Apeldoorn - Azelo",
          "type": "Feature"
         },
         {
          "date": "2019-08",
          "geometry": {
           "coordinates": [
            6.306813,
            52.242929
           ],
           "type": "Point"
          },
          "lat": 52.242929,
          "locatie": "A1, Bathmen, Netherlands",
          "lon": 6.306813,
          "median": 0.00010818983719218522,
          "ministerie": "I&W",
          "project": "A1 Apeldoorn - Azelo",
          "type": "Feature"
         },
         {
          "date": "2019-09",
          "geometry": {
           "coordinates": [
            6.306813,
            52.242929
           ],
           "type": "Point"
          },
          "lat": 52.242929,
          "locatie": "A1, Bathmen, Netherlands",
          "lon": 6.306813,
          "median": 0.00011111631362323442,
          "ministerie": "I&W",
          "project": "A1 Apeldoorn - Azelo",
          "type": "Feature"
         },
         {
          "date": "2018-07",
          "geometry": {
           "coordinates": [
            6.051491,
            51.952315000000006
           ],
           "type": "Point"
          },
          "lat": 51.952315000000006,
          "locatie": "BP A12 Oudbroeken, Duiven, Netherlands",
          "lon": 6.051491,
          "median": 0.00011612612096060306,
          "ministerie": "I&W",
          "project": "A12/A15 Ressen - Oudbroeken (ViA15)",
          "type": "Feature"
         },
         {
          "date": "2018-08",
          "geometry": {
           "coordinates": [
            6.051491,
            51.952315000000006
           ],
           "type": "Point"
          },
          "lat": 51.952315000000006,
          "locatie": "BP A12 Oudbroeken, Duiven, Netherlands",
          "lon": 6.051491,
          "median": 0.00010660936823114753,
          "ministerie": "I&W",
          "project": "A12/A15 Ressen - Oudbroeken (ViA15)",
          "type": "Feature"
         },
         {
          "date": "2018-09",
          "geometry": {
           "coordinates": [
            6.051491,
            51.952315000000006
           ],
           "type": "Point"
          },
          "lat": 51.952315000000006,
          "locatie": "BP A12 Oudbroeken, Duiven, Netherlands",
          "lon": 6.051491,
          "median": 0.00013580200902651995,
          "ministerie": "I&W",
          "project": "A12/A15 Ressen - Oudbroeken (ViA15)",
          "type": "Feature"
         },
         {
          "date": "2018-10",
          "geometry": {
           "coordinates": [
            6.051491,
            51.952315000000006
           ],
           "type": "Point"
          },
          "lat": 51.952315000000006,
          "locatie": "BP A12 Oudbroeken, Duiven, Netherlands",
          "lon": 6.051491,
          "median": 0.00012430524549111562,
          "ministerie": "I&W",
          "project": "A12/A15 Ressen - Oudbroeken (ViA15)",
          "type": "Feature"
         },
         {
          "date": "2018-11",
          "geometry": {
           "coordinates": [
            6.051491,
            51.952315000000006
           ],
           "type": "Point"
          },
          "lat": 51.952315000000006,
          "locatie": "BP A12 Oudbroeken, Duiven, Netherlands",
          "lon": 6.051491,
          "median": 0.0001658887644925443,
          "ministerie": "I&W",
          "project": "A12/A15 Ressen - Oudbroeken (ViA15)",
          "type": "Feature"
         },
         {
          "date": "2018-12",
          "geometry": {
           "coordinates": [
            6.051491,
            51.952315000000006
           ],
           "type": "Point"
          },
          "lat": 51.952315000000006,
          "locatie": "BP A12 Oudbroeken, Duiven, Netherlands",
          "lon": 6.051491,
          "median": 0.00011434304956927518,
          "ministerie": "I&W",
          "project": "A12/A15 Ressen - Oudbroeken (ViA15)",
          "type": "Feature"
         },
         {
          "date": "2019-01",
          "geometry": {
           "coordinates": [
            6.051491,
            51.952315000000006
           ],
           "type": "Point"
          },
          "lat": 51.952315000000006,
          "locatie": "BP A12 Oudbroeken, Duiven, Netherlands",
          "lon": 6.051491,
          "median": 0.00012460529393895932,
          "ministerie": "I&W",
          "project": "A12/A15 Ressen - Oudbroeken (ViA15)",
          "type": "Feature"
         },
         {
          "date": "2019-02",
          "geometry": {
           "coordinates": [
            6.051491,
            51.952315000000006
           ],
           "type": "Point"
          },
          "lat": 51.952315000000006,
          "locatie": "BP A12 Oudbroeken, Duiven, Netherlands",
          "lon": 6.051491,
          "median": 0.00016307697652275416,
          "ministerie": "I&W",
          "project": "A12/A15 Ressen - Oudbroeken (ViA15)",
          "type": "Feature"
         },
         {
          "date": "2019-03",
          "geometry": {
           "coordinates": [
            6.051491,
            51.952315000000006
           ],
           "type": "Point"
          },
          "lat": 51.952315000000006,
          "locatie": "BP A12 Oudbroeken, Duiven, Netherlands",
          "lon": 6.051491,
          "median": 0.00010672187023671003,
          "ministerie": "I&W",
          "project": "A12/A15 Ressen - Oudbroeken (ViA15)",
          "type": "Feature"
         },
         {
          "date": "2019-04",
          "geometry": {
           "coordinates": [
            6.051491,
            51.952315000000006
           ],
           "type": "Point"
          },
          "lat": 51.952315000000006,
          "locatie": "BP A12 Oudbroeken, Duiven, Netherlands",
          "lon": 6.051491,
          "median": 0.0001110465163947083,
          "ministerie": "I&W",
          "project": "A12/A15 Ressen - Oudbroeken (ViA15)",
          "type": "Feature"
         },
         {
          "date": "2019-05",
          "geometry": {
           "coordinates": [
            6.051491,
            51.952315000000006
           ],
           "type": "Point"
          },
          "lat": 51.952315000000006,
          "locatie": "BP A12 Oudbroeken, Duiven, Netherlands",
          "lon": 6.051491,
          "median": 0.00011688978151557462,
          "ministerie": "I&W",
          "project": "A12/A15 Ressen - Oudbroeken (ViA15)",
          "type": "Feature"
         },
         {
          "date": "2019-06",
          "geometry": {
           "coordinates": [
            6.051491,
            51.952315000000006
           ],
           "type": "Point"
          },
          "lat": 51.952315000000006,
          "locatie": "BP A12 Oudbroeken, Duiven, Netherlands",
          "lon": 6.051491,
          "median": 0.00010895152081502602,
          "ministerie": "I&W",
          "project": "A12/A15 Ressen - Oudbroeken (ViA15)",
          "type": "Feature"
         },
         {
          "date": "2019-07",
          "geometry": {
           "coordinates": [
            6.051491,
            51.952315000000006
           ],
           "type": "Point"
          },
          "lat": 51.952315000000006,
          "locatie": "BP A12 Oudbroeken, Duiven, Netherlands",
          "lon": 6.051491,
          "median": 0.00010659297549864277,
          "ministerie": "I&W",
          "project": "A12/A15 Ressen - Oudbroeken (ViA15)",
          "type": "Feature"
         },
         {
          "date": "2019-08",
          "geometry": {
           "coordinates": [
            6.051491,
            51.952315000000006
           ],
           "type": "Point"
          },
          "lat": 51.952315000000006,
          "locatie": "BP A12 Oudbroeken, Duiven, Netherlands",
          "lon": 6.051491,
          "median": 0.00011091977648902684,
          "ministerie": "I&W",
          "project": "A12/A15 Ressen - Oudbroeken (ViA15)",
          "type": "Feature"
         },
         {
          "date": "2019-09",
          "geometry": {
           "coordinates": [
            6.051491,
            51.952315000000006
           ],
           "type": "Point"
          },
          "lat": 51.952315000000006,
          "locatie": "BP A12 Oudbroeken, Duiven, Netherlands",
          "lon": 6.051491,
          "median": 0.0001308411185089943,
          "ministerie": "I&W",
          "project": "A12/A15 Ressen - Oudbroeken (ViA15)",
          "type": "Feature"
         },
         {
          "date": "2018-07",
          "geometry": {
           "coordinates": [
            5.823739,
            51.033989
           ],
           "type": "Point"
          },
          "lat": 51.033989,
          "locatie": "A2, Born, Netherlands",
          "lon": 5.823739,
          "median": 0.00012687777780229226,
          "ministerie": "I&W",
          "project": "A2 Het Vonderen - Kerensheide",
          "type": "Feature"
         },
         {
          "date": "2018-08",
          "geometry": {
           "coordinates": [
            5.823739,
            51.033989
           ],
           "type": "Point"
          },
          "lat": 51.033989,
          "locatie": "A2, Born, Netherlands",
          "lon": 5.823739,
          "median": 0.00011988660844508559,
          "ministerie": "I&W",
          "project": "A2 Het Vonderen - Kerensheide",
          "type": "Feature"
         },
         {
          "date": "2018-09",
          "geometry": {
           "coordinates": [
            5.823739,
            51.033989
           ],
           "type": "Point"
          },
          "lat": 51.033989,
          "locatie": "A2, Born, Netherlands",
          "lon": 5.823739,
          "median": 0.0001459744929025609,
          "ministerie": "I&W",
          "project": "A2 Het Vonderen - Kerensheide",
          "type": "Feature"
         },
         {
          "date": "2018-10",
          "geometry": {
           "coordinates": [
            5.823739,
            51.033989
           ],
           "type": "Point"
          },
          "lat": 51.033989,
          "locatie": "A2, Born, Netherlands",
          "lon": 5.823739,
          "median": 0.00014778534242341655,
          "ministerie": "I&W",
          "project": "A2 Het Vonderen - Kerensheide",
          "type": "Feature"
         },
         {
          "date": "2018-11",
          "geometry": {
           "coordinates": [
            5.823739,
            51.033989
           ],
           "type": "Point"
          },
          "lat": 51.033989,
          "locatie": "A2, Born, Netherlands",
          "lon": 5.823739,
          "median": 0.00015080706620634464,
          "ministerie": "I&W",
          "project": "A2 Het Vonderen - Kerensheide",
          "type": "Feature"
         },
         {
          "date": "2018-12",
          "geometry": {
           "coordinates": [
            5.823739,
            51.033989
           ],
           "type": "Point"
          },
          "lat": 51.033989,
          "locatie": "A2, Born, Netherlands",
          "lon": 5.823739,
          "median": 0.00011278607481348299,
          "ministerie": "I&W",
          "project": "A2 Het Vonderen - Kerensheide",
          "type": "Feature"
         },
         {
          "date": "2019-01",
          "geometry": {
           "coordinates": [
            5.823739,
            51.033989
           ],
           "type": "Point"
          },
          "lat": 51.033989,
          "locatie": "A2, Born, Netherlands",
          "lon": 5.823739,
          "median": 0.00013993715071657165,
          "ministerie": "I&W",
          "project": "A2 Het Vonderen - Kerensheide",
          "type": "Feature"
         },
         {
          "date": "2019-02",
          "geometry": {
           "coordinates": [
            5.823739,
            51.033989
           ],
           "type": "Point"
          },
          "lat": 51.033989,
          "locatie": "A2, Born, Netherlands",
          "lon": 5.823739,
          "median": 0.00013951041033798847,
          "ministerie": "I&W",
          "project": "A2 Het Vonderen - Kerensheide",
          "type": "Feature"
         },
         {
          "date": "2019-03",
          "geometry": {
           "coordinates": [
            5.823739,
            51.033989
           ],
           "type": "Point"
          },
          "lat": 51.033989,
          "locatie": "A2, Born, Netherlands",
          "lon": 5.823739,
          "median": 0.00010913714140770026,
          "ministerie": "I&W",
          "project": "A2 Het Vonderen - Kerensheide",
          "type": "Feature"
         },
         {
          "date": "2019-04",
          "geometry": {
           "coordinates": [
            5.823739,
            51.033989
           ],
           "type": "Point"
          },
          "lat": 51.033989,
          "locatie": "A2, Born, Netherlands",
          "lon": 5.823739,
          "median": 0.00015254078883963592,
          "ministerie": "I&W",
          "project": "A2 Het Vonderen - Kerensheide",
          "type": "Feature"
         },
         {
          "date": "2019-05",
          "geometry": {
           "coordinates": [
            5.823739,
            51.033989
           ],
           "type": "Point"
          },
          "lat": 51.033989,
          "locatie": "A2, Born, Netherlands",
          "lon": 5.823739,
          "median": 0.00012839576047604073,
          "ministerie": "I&W",
          "project": "A2 Het Vonderen - Kerensheide",
          "type": "Feature"
         },
         {
          "date": "2019-06",
          "geometry": {
           "coordinates": [
            5.823739,
            51.033989
           ],
           "type": "Point"
          },
          "lat": 51.033989,
          "locatie": "A2, Born, Netherlands",
          "lon": 5.823739,
          "median": 0.00010845705434061177,
          "ministerie": "I&W",
          "project": "A2 Het Vonderen - Kerensheide",
          "type": "Feature"
         },
         {
          "date": "2019-07",
          "geometry": {
           "coordinates": [
            5.823739,
            51.033989
           ],
           "type": "Point"
          },
          "lat": 51.033989,
          "locatie": "A2, Born, Netherlands",
          "lon": 5.823739,
          "median": 0.0001117199464544868,
          "ministerie": "I&W",
          "project": "A2 Het Vonderen - Kerensheide",
          "type": "Feature"
         },
         {
          "date": "2019-08",
          "geometry": {
           "coordinates": [
            5.823739,
            51.033989
           ],
           "type": "Point"
          },
          "lat": 51.033989,
          "locatie": "A2, Born, Netherlands",
          "lon": 5.823739,
          "median": 0.00010507665711919094,
          "ministerie": "I&W",
          "project": "A2 Het Vonderen - Kerensheide",
          "type": "Feature"
         },
         {
          "date": "2019-09",
          "geometry": {
           "coordinates": [
            5.823739,
            51.033989
           ],
           "type": "Point"
          },
          "lat": 51.033989,
          "locatie": "A2, Born, Netherlands",
          "lon": 5.823739,
          "median": 0.00011898770628785346,
          "ministerie": "I&W",
          "project": "A2 Het Vonderen - Kerensheide",
          "type": "Feature"
         },
         {
          "date": "2018-07",
          "geometry": {
           "coordinates": [
            4.967682,
            51.877478
           ],
           "type": "Point"
          },
          "lat": 51.877478,
          "locatie": "A27, Hoogblokland, Netherlands",
          "lon": 4.967682,
          "median": 0.00012676120119783864,
          "ministerie": "I&W",
          "project": "A27 Houten - Hooipolder",
          "type": "Feature"
         },
         {
          "date": "2018-08",
          "geometry": {
           "coordinates": [
            4.967682,
            51.877478
           ],
           "type": "Point"
          },
          "lat": 51.877478,
          "locatie": "A27, Hoogblokland, Netherlands",
          "lon": 4.967682,
          "median": 0.00010876291699091457,
          "ministerie": "I&W",
          "project": "A27 Houten - Hooipolder",
          "type": "Feature"
         },
         {
          "date": "2018-09",
          "geometry": {
           "coordinates": [
            4.967682,
            51.877478
           ],
           "type": "Point"
          },
          "lat": 51.877478,
          "locatie": "A27, Hoogblokland, Netherlands",
          "lon": 4.967682,
          "median": 0.00013708324971680472,
          "ministerie": "I&W",
          "project": "A27 Houten - Hooipolder",
          "type": "Feature"
         },
         {
          "date": "2018-10",
          "geometry": {
           "coordinates": [
            4.967682,
            51.877478
           ],
           "type": "Point"
          },
          "lat": 51.877478,
          "locatie": "A27, Hoogblokland, Netherlands",
          "lon": 4.967682,
          "median": 0.00012176042182609701,
          "ministerie": "I&W",
          "project": "A27 Houten - Hooipolder",
          "type": "Feature"
         },
         {
          "date": "2018-11",
          "geometry": {
           "coordinates": [
            4.967682,
            51.877478
           ],
           "type": "Point"
          },
          "lat": 51.877478,
          "locatie": "A27, Hoogblokland, Netherlands",
          "lon": 4.967682,
          "median": 0.00014066700569189972,
          "ministerie": "I&W",
          "project": "A27 Houten - Hooipolder",
          "type": "Feature"
         },
         {
          "date": "2018-12",
          "geometry": {
           "coordinates": [
            4.967682,
            51.877478
           ],
           "type": "Point"
          },
          "lat": 51.877478,
          "locatie": "A27, Hoogblokland, Netherlands",
          "lon": 4.967682,
          "median": 0.00011039791518355758,
          "ministerie": "I&W",
          "project": "A27 Houten - Hooipolder",
          "type": "Feature"
         },
         {
          "date": "2019-01",
          "geometry": {
           "coordinates": [
            4.967682,
            51.877478
           ],
           "type": "Point"
          },
          "lat": 51.877478,
          "locatie": "A27, Hoogblokland, Netherlands",
          "lon": 4.967682,
          "median": 8.903121852199547e-05,
          "ministerie": "I&W",
          "project": "A27 Houten - Hooipolder",
          "type": "Feature"
         },
         {
          "date": "2019-02",
          "geometry": {
           "coordinates": [
            4.967682,
            51.877478
           ],
           "type": "Point"
          },
          "lat": 51.877478,
          "locatie": "A27, Hoogblokland, Netherlands",
          "lon": 4.967682,
          "median": 0.0001326185053531957,
          "ministerie": "I&W",
          "project": "A27 Houten - Hooipolder",
          "type": "Feature"
         },
         {
          "date": "2019-03",
          "geometry": {
           "coordinates": [
            4.967682,
            51.877478
           ],
           "type": "Point"
          },
          "lat": 51.877478,
          "locatie": "A27, Hoogblokland, Netherlands",
          "lon": 4.967682,
          "median": 9.75498352734303e-05,
          "ministerie": "I&W",
          "project": "A27 Houten - Hooipolder",
          "type": "Feature"
         },
         {
          "date": "2019-04",
          "geometry": {
           "coordinates": [
            4.967682,
            51.877478
           ],
           "type": "Point"
          },
          "lat": 51.877478,
          "locatie": "A27, Hoogblokland, Netherlands",
          "lon": 4.967682,
          "median": 0.00012318801028597985,
          "ministerie": "I&W",
          "project": "A27 Houten - Hooipolder",
          "type": "Feature"
         },
         {
          "date": "2019-05",
          "geometry": {
           "coordinates": [
            4.967682,
            51.877478
           ],
           "type": "Point"
          },
          "lat": 51.877478,
          "locatie": "A27, Hoogblokland, Netherlands",
          "lon": 4.967682,
          "median": 0.00011714501306414604,
          "ministerie": "I&W",
          "project": "A27 Houten - Hooipolder",
          "type": "Feature"
         },
         {
          "date": "2019-06",
          "geometry": {
           "coordinates": [
            4.967682,
            51.877478
           ],
           "type": "Point"
          },
          "lat": 51.877478,
          "locatie": "A27, Hoogblokland, Netherlands",
          "lon": 4.967682,
          "median": 0.0001106431991502177,
          "ministerie": "I&W",
          "project": "A27 Houten - Hooipolder",
          "type": "Feature"
         },
         {
          "date": "2019-07",
          "geometry": {
           "coordinates": [
            4.967682,
            51.877478
           ],
           "type": "Point"
          },
          "lat": 51.877478,
          "locatie": "A27, Hoogblokland, Netherlands",
          "lon": 4.967682,
          "median": 0.00011016201276134456,
          "ministerie": "I&W",
          "project": "A27 Houten - Hooipolder",
          "type": "Feature"
         },
         {
          "date": "2019-08",
          "geometry": {
           "coordinates": [
            4.967682,
            51.877478
           ],
           "type": "Point"
          },
          "lat": 51.877478,
          "locatie": "A27, Hoogblokland, Netherlands",
          "lon": 4.967682,
          "median": 0.00011247681558892958,
          "ministerie": "I&W",
          "project": "A27 Houten - Hooipolder",
          "type": "Feature"
         },
         {
          "date": "2019-09",
          "geometry": {
           "coordinates": [
            4.967682,
            51.877478
           ],
           "type": "Point"
          },
          "lat": 51.877478,
          "locatie": "A27, Hoogblokland, Netherlands",
          "lon": 4.967682,
          "median": 0.00010320147339371033,
          "ministerie": "I&W",
          "project": "A27 Houten - Hooipolder",
          "type": "Feature"
         },
         {
          "date": "2018-07",
          "geometry": {
           "coordinates": [
            4.3122419999999995,
            52.079195
           ],
           "type": "Point"
          },
          "lat": 52.079195,
          "locatie": "Binnenhof, The Hague, Netherlands",
          "lon": 4.3122419999999995,
          "median": 0.00012538514266039946,
          "ministerie": "BZK",
          "project": "Renovatie Binnenhof",
          "type": "Feature"
         },
         {
          "date": "2018-08",
          "geometry": {
           "coordinates": [
            4.3122419999999995,
            52.079195
           ],
           "type": "Point"
          },
          "lat": 52.079195,
          "locatie": "Binnenhof, The Hague, Netherlands",
          "lon": 4.3122419999999995,
          "median": 0.00010858989844564348,
          "ministerie": "BZK",
          "project": "Renovatie Binnenhof",
          "type": "Feature"
         },
         {
          "date": "2018-09",
          "geometry": {
           "coordinates": [
            4.3122419999999995,
            52.079195
           ],
           "type": "Point"
          },
          "lat": 52.079195,
          "locatie": "Binnenhof, The Hague, Netherlands",
          "lon": 4.3122419999999995,
          "median": 0.00012704690897139378,
          "ministerie": "BZK",
          "project": "Renovatie Binnenhof",
          "type": "Feature"
         },
         {
          "date": "2018-10",
          "geometry": {
           "coordinates": [
            4.3122419999999995,
            52.079195
           ],
           "type": "Point"
          },
          "lat": 52.079195,
          "locatie": "Binnenhof, The Hague, Netherlands",
          "lon": 4.3122419999999995,
          "median": 0.00012428407296787342,
          "ministerie": "BZK",
          "project": "Renovatie Binnenhof",
          "type": "Feature"
         },
         {
          "date": "2018-11",
          "geometry": {
           "coordinates": [
            4.3122419999999995,
            52.079195
           ],
           "type": "Point"
          },
          "lat": 52.079195,
          "locatie": "Binnenhof, The Hague, Netherlands",
          "lon": 4.3122419999999995,
          "median": 0.0001619516551727429,
          "ministerie": "BZK",
          "project": "Renovatie Binnenhof",
          "type": "Feature"
         },
         {
          "date": "2018-12",
          "geometry": {
           "coordinates": [
            4.3122419999999995,
            52.079195
           ],
           "type": "Point"
          },
          "lat": 52.079195,
          "locatie": "Binnenhof, The Hague, Netherlands",
          "lon": 4.3122419999999995,
          "median": 0.0001037309630191885,
          "ministerie": "BZK",
          "project": "Renovatie Binnenhof",
          "type": "Feature"
         },
         {
          "date": "2019-01",
          "geometry": {
           "coordinates": [
            4.3122419999999995,
            52.079195
           ],
           "type": "Point"
          },
          "lat": 52.079195,
          "locatie": "Binnenhof, The Hague, Netherlands",
          "lon": 4.3122419999999995,
          "median": 5.834697913087439e-05,
          "ministerie": "BZK",
          "project": "Renovatie Binnenhof",
          "type": "Feature"
         },
         {
          "date": "2019-02",
          "geometry": {
           "coordinates": [
            4.3122419999999995,
            52.079195
           ],
           "type": "Point"
          },
          "lat": 52.079195,
          "locatie": "Binnenhof, The Hague, Netherlands",
          "lon": 4.3122419999999995,
          "median": 0.00017660086450632662,
          "ministerie": "BZK",
          "project": "Renovatie Binnenhof",
          "type": "Feature"
         },
         {
          "date": "2019-03",
          "geometry": {
           "coordinates": [
            4.3122419999999995,
            52.079195
           ],
           "type": "Point"
          },
          "lat": 52.079195,
          "locatie": "Binnenhof, The Hague, Netherlands",
          "lon": 4.3122419999999995,
          "median": 0.0001029110534407504,
          "ministerie": "BZK",
          "project": "Renovatie Binnenhof",
          "type": "Feature"
         },
         {
          "date": "2019-04",
          "geometry": {
           "coordinates": [
            4.3122419999999995,
            52.079195
           ],
           "type": "Point"
          },
          "lat": 52.079195,
          "locatie": "Binnenhof, The Hague, Netherlands",
          "lon": 4.3122419999999995,
          "median": 0.0001407013346433887,
          "ministerie": "BZK",
          "project": "Renovatie Binnenhof",
          "type": "Feature"
         },
         {
          "date": "2019-05",
          "geometry": {
           "coordinates": [
            4.3122419999999995,
            52.079195
           ],
           "type": "Point"
          },
          "lat": 52.079195,
          "locatie": "Binnenhof, The Hague, Netherlands",
          "lon": 4.3122419999999995,
          "median": 0.00011773095755827977,
          "ministerie": "BZK",
          "project": "Renovatie Binnenhof",
          "type": "Feature"
         },
         {
          "date": "2019-06",
          "geometry": {
           "coordinates": [
            4.3122419999999995,
            52.079195
           ],
           "type": "Point"
          },
          "lat": 52.079195,
          "locatie": "Binnenhof, The Hague, Netherlands",
          "lon": 4.3122419999999995,
          "median": 0.0001198104364448227,
          "ministerie": "BZK",
          "project": "Renovatie Binnenhof",
          "type": "Feature"
         },
         {
          "date": "2019-07",
          "geometry": {
           "coordinates": [
            4.3122419999999995,
            52.079195
           ],
           "type": "Point"
          },
          "lat": 52.079195,
          "locatie": "Binnenhof, The Hague, Netherlands",
          "lon": 4.3122419999999995,
          "median": 0.00011092626656411296,
          "ministerie": "BZK",
          "project": "Renovatie Binnenhof",
          "type": "Feature"
         },
         {
          "date": "2019-08",
          "geometry": {
           "coordinates": [
            4.3122419999999995,
            52.079195
           ],
           "type": "Point"
          },
          "lat": 52.079195,
          "locatie": "Binnenhof, The Hague, Netherlands",
          "lon": 4.3122419999999995,
          "median": 0.00010627963638398796,
          "ministerie": "BZK",
          "project": "Renovatie Binnenhof",
          "type": "Feature"
         },
         {
          "date": "2019-09",
          "geometry": {
           "coordinates": [
            4.3122419999999995,
            52.079195
           ],
           "type": "Point"
          },
          "lat": 52.079195,
          "locatie": "Binnenhof, The Hague, Netherlands",
          "lon": 4.3122419999999995,
          "median": 8.507138301173603e-05,
          "ministerie": "BZK",
          "project": "Renovatie Binnenhof",
          "type": "Feature"
         }
        ]
       },
       "hconcat": [
        {
         "layer": [
          {
           "data": {
            "format": {
             "property": "features",
             "type": "json"
            },
            "url": "https://raw.githubusercontent.com/cartomap/nl/master/wgs84/provincie_%7B2017%7D.geojson"
           },
           "height": 300,
           "mark": {
            "fill": "#F1F1F1",
            "stroke": "black",
            "strokeWidth": 1,
            "type": "geoshape"
           },
           "projection": {
            "center": [
             -14.7,
             52.1
            ],
            "precision": 0.1,
            "rotate": [
             -20,
             0
            ],
            "scale": 5500,
            "translate": [
             150,
             150
            ],
            "type": "conicConformal"
           },
           "width": 300
          },
          {
           "encoding": {
            "color": {
             "field": "median",
             "legend": {
              "format": ".1s",
              "title": "NO₂ mol/m²"
             },
             "scale": {
              "domain": [
               0,
               0.00016
              ],
              "scheme": {
               "count": 5,
               "name": "blueorange"
              },
              "type": "quantize"
             },
             "type": "quantitative"
            },
            "latitude": {
             "field": "lat",
             "type": "quantitative"
            },
            "longitude": {
             "field": "lon",
             "type": "quantitative"
            },
            "size": {
             "field": "median",
             "scale": {
              "domain": [
               0,
               0.00016
              ]
             },
             "type": "quantitative"
            },
            "strokeWidth": {
             "condition": {
              "selection": "selector001",
              "value": 2
             },
             "value": 1
            },
            "tooltip": [
             {
              "field": "date",
              "type": "ordinal"
             },
             {
              "field": "locatie",
              "type": "nominal"
             },
             {
              "field": "median",
              "format": ".4s",
              "type": "quantitative"
             },
             {
              "field": "ministerie",
              "type": "nominal"
             },
             {
              "field": "project",
              "type": "nominal"
             }
            ]
           },
           "height": 300,
           "mark": {
            "opacity": 0.9,
            "stroke": "black",
            "type": "circle"
           },
           "projection": {
            "center": [
             -14.7,
             52.1
            ],
            "precision": 0.1,
            "rotate": [
             -20,
             0
            ],
            "scale": 5500,
            "translate": [
             150,
             150
            ],
            "type": "conicConformal"
           },
           "selection": {
            "Dates": {
             "bind": {
              "input": "select",
              "options": [
               "2018-07",
               "2018-08",
               "2018-09",
               "2018-10",
               "2018-11",
               "2018-12",
               "2019-01",
               "2019-02",
               "2019-03",
               "2019-04",
               "2019-05",
               "2019-06",
               "2019-07",
               "2019-08",
               "2019-09"
              ]
             },
             "empty": "none",
             "fields": [
              "date"
             ],
             "init": {
              "date": "2019-09"
             },
             "type": "single"
            },
            "selector001": {
             "empty": "none",
             "fields": [
              "locatie"
             ],
             "init": {
              "locatie": "Houtribdijk, Enkhuizen, Netherlands"
             },
             "on": "mouseover",
             "type": "single"
            }
           },
           "transform": [
            {
             "filter": {
              "selection": "Dates"
             }
            }
           ],
           "width": 300
          }
         ]
        },
        {
         "encoding": {
          "color": {
           "condition": {
            "selection": "Dates",
            "value": "#FF9C33"
           },
           "value": "#77B2D4"
          },
          "tooltip": [
           {
            "field": "date",
            "type": "ordinal"
           },
           {
            "field": "locatie",
            "type": "nominal"
           },
           {
            "field": "median",
            "format": ".4s",
            "type": "quantitative"
           },
           {
            "field": "ministerie",
            "type": "nominal"
           },
           {
            "field": "project",
            "type": "nominal"
           }
          ],
          "x": {
           "axis": {
            "format": ".2s"
           },
           "field": "median",
           "scale": {
            "domain": [
             0,
             0.00021
            ]
           },
           "title": "NO₂ mol/m²",
           "type": "quantitative"
          },
          "y": {
           "field": "date",
           "sort": [
            "2018-07",
            "2018-08",
            "2018-09",
            "2018-10",
            "2018-11",
            "2018-12",
            "2019-01",
            "2019-02",
            "2019-03",
            "2019-04",
            "2019-05",
            "2019-06",
            "2019-07",
            "2019-08",
            "2019-09"
           ],
           "title": null,
           "type": "nominal"
          }
         },
         "mark": "boxplot",
         "selection": {
          "Dates": {
           "bind": {
            "input": "select",
            "options": [
             "2018-07",
             "2018-08",
             "2018-09",
             "2018-10",
             "2018-11",
             "2018-12",
             "2019-01",
             "2019-02",
             "2019-03",
             "2019-04",
             "2019-05",
             "2019-06",
             "2019-07",
             "2019-08",
             "2019-09"
            ]
           },
           "empty": "none",
           "fields": [
            "date"
           ],
           "init": {
            "date": "2019-09"
           },
           "type": "single"
          }
         },
         "width": 300
        },
        {
         "encoding": {
          "fill": {
           "aggregate": "mean",
           "field": "median",
           "legend": null,
           "scale": {
            "domain": [
             0,
             0.00016
            ],
            "scheme": {
             "count": 5,
             "name": "blueorange"
            },
            "type": "quantize"
           },
           "type": "quantitative"
          },
          "fillOpacity": {
           "value": 1
          },
          "size": {
           "aggregate": "mean",
           "field": "median",
           "legend": {
            "format": ".1s",
            "title": "NO₂ mol/m²"
           },
           "scale": {
            "range": [
             0,
             500
            ],
            "type": "symlog"
           },
           "type": "quantitative"
          },
          "strokeWidth": {
           "condition": {
            "selection": "Dates",
            "value": 2
           },
           "value": 1
          },
          "tooltip": [
           {
            "field": "date",
            "type": "nominal"
           },
           {
            "aggregate": "mean",
            "field": "median",
            "format": ".4s",
            "type": "quantitative"
           },
           {
            "field": "ministerie",
            "type": "nominal"
           }
          ],
          "x": {
           "axis": {
            "labelAngle": -45,
            "labelLimit": 300
           },
           "field": "ministerie",
           "title": null,
           "type": "nominal"
          },
          "y": {
           "axis": {
            "labelAngle": 0
           },
           "field": "date",
           "title": null,
           "type": "nominal"
          }
         },
         "mark": {
          "stroke": "black",
          "type": "point"
         },
         "selection": {
          "Dates": {
           "bind": {
            "input": "select",
            "options": [
             "2018-07",
             "2018-08",
             "2018-09",
             "2018-10",
             "2018-11",
             "2018-12",
             "2019-01",
             "2019-02",
             "2019-03",
             "2019-04",
             "2019-05",
             "2019-06",
             "2019-07",
             "2019-08",
             "2019-09"
            ]
           },
           "empty": "none",
           "fields": [
            "date"
           ],
           "init": {
            "date": "2019-09"
           },
           "type": "single"
          },
          "selector002": {
           "empty": "none",
           "fields": [
            "locatie",
            "date"
           ],
           "on": "mouseover",
           "type": "single"
          }
         }
        }
       ]
      },
      "image/png": "[encoded data removed]",
      "text/plain": [
       "<VegaLite 3 object>\n",
       "\n",
       "If you see this message, it means the renderer has not been properly enabled\n",
       "for the frontend that you are using. For more information, see\n",
       "https://altair-viz.github.io/user_guide/troubleshooting.html\n"
      ]
     },
     "execution_count": 18,
     "metadata": {},
     "output_type": "execute_result"
    }
   ],
   "source": [
    "chartNL = alt.hconcat(alt.layer(provpltNL,mappltNL), boxpltNL, circlepltNL, data=dataNL)\n",
    "chartNL"
   ]
  },
  {
   "cell_type": "code",
   "execution_count": null,
   "metadata": {},
   "outputs": [],
   "source": []
  },
  {
   "cell_type": "code",
   "execution_count": 19,
   "metadata": {},
   "outputs": [],
   "source": [
    "geomEU = gpd.read_file('europe_eea.shp')"
   ]
  },
  {
   "cell_type": "code",
   "execution_count": 20,
   "metadata": {},
   "outputs": [],
   "source": [
    "gdfEU = gpd.read_file('NO2_EU_EEA_geojson_collection.geo.json', driver='GeoJSON')"
   ]
  },
  {
   "cell_type": "code",
   "execution_count": 21,
   "metadata": {},
   "outputs": [
    {
     "data": {
      "text/html": [
       "<div>\n",
       "<style scoped>\n",
       "    .dataframe tbody tr th:only-of-type {\n",
       "        vertical-align: middle;\n",
       "    }\n",
       "\n",
       "    .dataframe tbody tr th {\n",
       "        vertical-align: top;\n",
       "    }\n",
       "\n",
       "    .dataframe thead th {\n",
       "        text-align: right;\n",
       "    }\n",
       "</style>\n",
       "<table border=\"1\" class=\"dataframe\">\n",
       "  <thead>\n",
       "    <tr style=\"text-align: right;\">\n",
       "      <th></th>\n",
       "      <th>id</th>\n",
       "      <th>continent</th>\n",
       "      <th>date</th>\n",
       "      <th>gdp_md_est</th>\n",
       "      <th>iso_a3</th>\n",
       "      <th>max</th>\n",
       "      <th>median</th>\n",
       "      <th>min</th>\n",
       "      <th>name</th>\n",
       "      <th>pop_est</th>\n",
       "      <th>geometry</th>\n",
       "    </tr>\n",
       "  </thead>\n",
       "  <tbody>\n",
       "    <tr>\n",
       "      <th>0</th>\n",
       "      <td>0_0000000000000000000c</td>\n",
       "      <td>Asia</td>\n",
       "      <td>2018-07-01</td>\n",
       "      <td>29260.0</td>\n",
       "      <td>CYP</td>\n",
       "      <td>0.000095</td>\n",
       "      <td>0.000075</td>\n",
       "      <td>0.000073</td>\n",
       "      <td>Cyprus</td>\n",
       "      <td>1221549</td>\n",
       "      <td>None</td>\n",
       "    </tr>\n",
       "    <tr>\n",
       "      <th>1</th>\n",
       "      <td>0_00000000000000000000</td>\n",
       "      <td>Europe</td>\n",
       "      <td>2018-07-01</td>\n",
       "      <td>870800.0</td>\n",
       "      <td>NLD</td>\n",
       "      <td>0.000155</td>\n",
       "      <td>0.000108</td>\n",
       "      <td>0.000090</td>\n",
       "      <td>Netherlands</td>\n",
       "      <td>17084719</td>\n",
       "      <td>None</td>\n",
       "    </tr>\n",
       "    <tr>\n",
       "      <th>2</th>\n",
       "      <td>0_00000000000000000001</td>\n",
       "      <td>Europe</td>\n",
       "      <td>2018-07-01</td>\n",
       "      <td>297100.0</td>\n",
       "      <td>PRT</td>\n",
       "      <td>0.000096</td>\n",
       "      <td>0.000077</td>\n",
       "      <td>0.000073</td>\n",
       "      <td>Portugal</td>\n",
       "      <td>10839514</td>\n",
       "      <td>None</td>\n",
       "    </tr>\n",
       "    <tr>\n",
       "      <th>3</th>\n",
       "      <td>0_00000000000000000002</td>\n",
       "      <td>Europe</td>\n",
       "      <td>2018-07-01</td>\n",
       "      <td>1690000.0</td>\n",
       "      <td>ESP</td>\n",
       "      <td>0.000150</td>\n",
       "      <td>0.000078</td>\n",
       "      <td>0.000069</td>\n",
       "      <td>Spain</td>\n",
       "      <td>48958159</td>\n",
       "      <td>None</td>\n",
       "    </tr>\n",
       "    <tr>\n",
       "      <th>4</th>\n",
       "      <td>0_00000000000000000003</td>\n",
       "      <td>Europe</td>\n",
       "      <td>2018-07-01</td>\n",
       "      <td>322000.0</td>\n",
       "      <td>IRL</td>\n",
       "      <td>0.000093</td>\n",
       "      <td>0.000078</td>\n",
       "      <td>0.000070</td>\n",
       "      <td>Ireland</td>\n",
       "      <td>5011102</td>\n",
       "      <td>None</td>\n",
       "    </tr>\n",
       "  </tbody>\n",
       "</table>\n",
       "</div>"
      ],
      "text/plain": [
       "                       id continent        date  gdp_md_est iso_a3       max  \\\n",
       "0  0_0000000000000000000c      Asia  2018-07-01     29260.0    CYP  0.000095   \n",
       "1  0_00000000000000000000    Europe  2018-07-01    870800.0    NLD  0.000155   \n",
       "2  0_00000000000000000001    Europe  2018-07-01    297100.0    PRT  0.000096   \n",
       "3  0_00000000000000000002    Europe  2018-07-01   1690000.0    ESP  0.000150   \n",
       "4  0_00000000000000000003    Europe  2018-07-01    322000.0    IRL  0.000093   \n",
       "\n",
       "     median       min         name   pop_est geometry  \n",
       "0  0.000075  0.000073       Cyprus   1221549     None  \n",
       "1  0.000108  0.000090  Netherlands  17084719     None  \n",
       "2  0.000077  0.000073     Portugal  10839514     None  \n",
       "3  0.000078  0.000069        Spain  48958159     None  \n",
       "4  0.000078  0.000070      Ireland   5011102     None  "
      ]
     },
     "execution_count": 21,
     "metadata": {},
     "output_type": "execute_result"
    }
   ],
   "source": [
    "gdfEU.head()"
   ]
  },
  {
   "cell_type": "code",
   "execution_count": 22,
   "metadata": {},
   "outputs": [
    {
     "data": {
      "text/html": [
       "<div>\n",
       "<style scoped>\n",
       "    .dataframe tbody tr th:only-of-type {\n",
       "        vertical-align: middle;\n",
       "    }\n",
       "\n",
       "    .dataframe tbody tr th {\n",
       "        vertical-align: top;\n",
       "    }\n",
       "\n",
       "    .dataframe thead th {\n",
       "        text-align: right;\n",
       "    }\n",
       "</style>\n",
       "<table border=\"1\" class=\"dataframe\">\n",
       "  <thead>\n",
       "    <tr style=\"text-align: right;\">\n",
       "      <th></th>\n",
       "      <th>date</th>\n",
       "      <th>median</th>\n",
       "      <th>name</th>\n",
       "      <th>geometry</th>\n",
       "    </tr>\n",
       "  </thead>\n",
       "  <tbody>\n",
       "    <tr>\n",
       "      <th>0</th>\n",
       "      <td>2018-07</td>\n",
       "      <td>0.000075</td>\n",
       "      <td>Cyprus</td>\n",
       "      <td>POLYGON ((32.73178022637745 35.14002594658844,...</td>\n",
       "    </tr>\n",
       "    <tr>\n",
       "      <th>1</th>\n",
       "      <td>2018-08</td>\n",
       "      <td>0.000072</td>\n",
       "      <td>Cyprus</td>\n",
       "      <td>POLYGON ((32.73178022637745 35.14002594658844,...</td>\n",
       "    </tr>\n",
       "    <tr>\n",
       "      <th>2</th>\n",
       "      <td>2018-09</td>\n",
       "      <td>0.000067</td>\n",
       "      <td>Cyprus</td>\n",
       "      <td>POLYGON ((32.73178022637745 35.14002594658844,...</td>\n",
       "    </tr>\n",
       "    <tr>\n",
       "      <th>3</th>\n",
       "      <td>2018-10</td>\n",
       "      <td>0.000063</td>\n",
       "      <td>Cyprus</td>\n",
       "      <td>POLYGON ((32.73178022637745 35.14002594658844,...</td>\n",
       "    </tr>\n",
       "    <tr>\n",
       "      <th>4</th>\n",
       "      <td>2018-11</td>\n",
       "      <td>0.000066</td>\n",
       "      <td>Cyprus</td>\n",
       "      <td>POLYGON ((32.73178022637745 35.14002594658844,...</td>\n",
       "    </tr>\n",
       "  </tbody>\n",
       "</table>\n",
       "</div>"
      ],
      "text/plain": [
       "      date    median    name  \\\n",
       "0  2018-07  0.000075  Cyprus   \n",
       "1  2018-08  0.000072  Cyprus   \n",
       "2  2018-09  0.000067  Cyprus   \n",
       "3  2018-10  0.000063  Cyprus   \n",
       "4  2018-11  0.000066  Cyprus   \n",
       "\n",
       "                                            geometry  \n",
       "0  POLYGON ((32.73178022637745 35.14002594658844,...  \n",
       "1  POLYGON ((32.73178022637745 35.14002594658844,...  \n",
       "2  POLYGON ((32.73178022637745 35.14002594658844,...  \n",
       "3  POLYGON ((32.73178022637745 35.14002594658844,...  \n",
       "4  POLYGON ((32.73178022637745 35.14002594658844,...  "
      ]
     },
     "execution_count": 22,
     "metadata": {},
     "output_type": "execute_result"
    }
   ],
   "source": [
    "dataEU = pd.merge(gdfEU, geomEU[['geometry', 'name']], how='inner', on='name', suffixes=('_x',''))\n",
    "dataEU.drop(['id', 'geometry_x', 'max', 'min','iso_a3','continent','pop_est','gdp_md_est'], axis=1, inplace=True)\n",
    "dataEU.date = pd.to_datetime(dataEU.date).dt.strftime('%Y-%m')\n",
    "dataEU.head()"
   ]
  },
  {
   "cell_type": "code",
   "execution_count": 23,
   "metadata": {},
   "outputs": [],
   "source": [
    "from shapely.geometry.base import BaseMultipartGeometry\n",
    "from shapely.geometry.polygon import orient as orient_\n",
    "from shapely.geometry import Polygon\n",
    "\n",
    "def orient(geom, sign=1.0):\n",
    "    if isinstance(geom, BaseMultipartGeometry):\n",
    "        return geom.__class__(\n",
    "            list(\n",
    "                map(\n",
    "                    lambda geom: orient(geom, sign),\n",
    "                    geom.geoms,\n",
    "                )\n",
    "            )\n",
    "        )\n",
    "    if isinstance(geom, (Polygon,)):\n",
    "        return orient_(geom, sign)\n",
    "    return geom"
   ]
  },
  {
   "cell_type": "code",
   "execution_count": 24,
   "metadata": {},
   "outputs": [],
   "source": [
    "#from shapely.ops import orient # version >=1.7a2\n",
    "dataEU.geometry = dataEU.geometry.apply(orient, args=(-1,))"
   ]
  },
  {
   "cell_type": "code",
   "execution_count": 25,
   "metadata": {},
   "outputs": [
    {
     "data": {
      "text/html": [
       "<div>\n",
       "<style scoped>\n",
       "    .dataframe tbody tr th:only-of-type {\n",
       "        vertical-align: middle;\n",
       "    }\n",
       "\n",
       "    .dataframe tbody tr th {\n",
       "        vertical-align: top;\n",
       "    }\n",
       "\n",
       "    .dataframe thead th {\n",
       "        text-align: right;\n",
       "    }\n",
       "</style>\n",
       "<table border=\"1\" class=\"dataframe\">\n",
       "  <thead>\n",
       "    <tr style=\"text-align: right;\">\n",
       "      <th></th>\n",
       "      <th>date</th>\n",
       "      <th>median</th>\n",
       "      <th>name</th>\n",
       "      <th>geometry</th>\n",
       "    </tr>\n",
       "  </thead>\n",
       "  <tbody>\n",
       "    <tr>\n",
       "      <th>0</th>\n",
       "      <td>2018-07</td>\n",
       "      <td>0.000075</td>\n",
       "      <td>Cyprus</td>\n",
       "      <td>POLYGON ((32.73178022637745 35.14002594658844,...</td>\n",
       "    </tr>\n",
       "    <tr>\n",
       "      <th>1</th>\n",
       "      <td>2018-08</td>\n",
       "      <td>0.000072</td>\n",
       "      <td>Cyprus</td>\n",
       "      <td>POLYGON ((32.73178022637745 35.14002594658844,...</td>\n",
       "    </tr>\n",
       "    <tr>\n",
       "      <th>2</th>\n",
       "      <td>2018-09</td>\n",
       "      <td>0.000067</td>\n",
       "      <td>Cyprus</td>\n",
       "      <td>POLYGON ((32.73178022637745 35.14002594658844,...</td>\n",
       "    </tr>\n",
       "    <tr>\n",
       "      <th>3</th>\n",
       "      <td>2018-10</td>\n",
       "      <td>0.000063</td>\n",
       "      <td>Cyprus</td>\n",
       "      <td>POLYGON ((32.73178022637745 35.14002594658844,...</td>\n",
       "    </tr>\n",
       "    <tr>\n",
       "      <th>4</th>\n",
       "      <td>2018-11</td>\n",
       "      <td>0.000066</td>\n",
       "      <td>Cyprus</td>\n",
       "      <td>POLYGON ((32.73178022637745 35.14002594658844,...</td>\n",
       "    </tr>\n",
       "  </tbody>\n",
       "</table>\n",
       "</div>"
      ],
      "text/plain": [
       "      date    median    name  \\\n",
       "0  2018-07  0.000075  Cyprus   \n",
       "1  2018-08  0.000072  Cyprus   \n",
       "2  2018-09  0.000067  Cyprus   \n",
       "3  2018-10  0.000063  Cyprus   \n",
       "4  2018-11  0.000066  Cyprus   \n",
       "\n",
       "                                            geometry  \n",
       "0  POLYGON ((32.73178022637745 35.14002594658844,...  \n",
       "1  POLYGON ((32.73178022637745 35.14002594658844,...  \n",
       "2  POLYGON ((32.73178022637745 35.14002594658844,...  \n",
       "3  POLYGON ((32.73178022637745 35.14002594658844,...  \n",
       "4  POLYGON ((32.73178022637745 35.14002594658844,...  "
      ]
     },
     "execution_count": 25,
     "metadata": {},
     "output_type": "execute_result"
    }
   ],
   "source": [
    "dataEU.head()"
   ]
  },
  {
   "cell_type": "code",
   "execution_count": 26,
   "metadata": {},
   "outputs": [],
   "source": [
    "datesEU = dataEU.date.unique()\n",
    "dates_dropdownEU = alt.binding_select(options=datesEU.tolist())\n",
    "dates_selectEU = alt.selection_single(empty='none', fields=['date'], bind=dates_dropdownEU, name=\"Dates\", init={'date':datesEU[-1]})#, on=\"click[event.shiftKey&!event.shiftKey]\", clear=False)\n",
    "country_selectEU = alt.selection_single(empty='none', fields=['name'], init={'name':'Netherlands'}, on='mouseover')\n",
    "country_date_highlightEU = alt.selection_single(empty='none', fields=['name', 'date'], on='mouseover')"
   ]
  },
  {
   "cell_type": "code",
   "execution_count": 27,
   "metadata": {},
   "outputs": [],
   "source": [
    "width = 300\n",
    "height = 300\n",
    "\n",
    "mappltEU = alt.Chart().mark_geoshape(stroke='black').encode(\n",
    "    color=alt.Color('median:Q', scale=alt.Scale(type='quantize', scheme=alt.SchemeParams('blueorange', count=5), domain=[0,0.00016]),legend=alt.Legend(title='NO₂ mol/m²', format='.1s')),\n",
    "    tooltip=['date:O','name',alt.Tooltip('median', format='.4s')],\n",
    "    strokeWidth=alt.condition(country_selectEU, alt.StrokeWidthValue(2), alt.StrokeWidthValue(1))\n",
    ").properties(\n",
    "    width=width,\n",
    "    height=height,\n",
    "    projection={'type': 'conicConformal', 'rotate': [-20, 0.0], 'center':[-11, 54.0],'scale':400, 'precision':0.1, 'translate':[width/2,height/2]}\n",
    ").add_selection(\n",
    "    dates_selectEU\n",
    ").transform_filter(\n",
    "    dates_selectEU\n",
    ").add_selection(country_selectEU)"
   ]
  },
  {
   "cell_type": "code",
   "execution_count": 28,
   "metadata": {},
   "outputs": [],
   "source": [
    "basepltEU = alt.Chart().mark_geoshape(stroke='black', fill='white',strokeWidth=1).encode(\n",
    ").properties(\n",
    "    width=width,\n",
    "    height=height,\n",
    "    projection={'type': 'conicConformal', 'rotate': [-20, 0.0], 'center':[-11, 54.0],'scale':400, 'precision':0.1, 'translate':[width/2,height/2]}\n",
    ")"
   ]
  },
  {
   "cell_type": "code",
   "execution_count": 29,
   "metadata": {},
   "outputs": [],
   "source": [
    "titlepltEU = alt.Chart().mark_text(size=12).encode(\n",
    "    text='date:O'\n",
    ").add_selection(\n",
    "    dates_selectEU\n",
    ").transform_filter(\n",
    "    dates_selectEU\n",
    ")"
   ]
  },
  {
   "cell_type": "code",
   "execution_count": 30,
   "metadata": {},
   "outputs": [],
   "source": [
    "boxpltEU = alt.Chart().mark_boxplot().encode(\n",
    "    y=alt.Y('date:O', title=None),\n",
    "    x=alt.X('median:Q', title='NO₂ mol/m²', axis=alt.Axis(format='.1s'), scale=alt.Scale(domain=[0,0.00021])),\n",
    "    color=alt.condition(dates_selectEU, alt.value('#FF9C33'), alt.value('#77B2D4')),\n",
    "    tooltip=['date:O','name',alt.Tooltip('median', format='.4s')]\n",
    ").properties(width=width\n",
    ").add_selection(\n",
    "    dates_selectEU\n",
    ")"
   ]
  },
  {
   "cell_type": "code",
   "execution_count": 41,
   "metadata": {},
   "outputs": [],
   "source": [
    "circlepltEU = alt.Chart(dataEU).mark_circle(stroke='black'\n",
    ").encode(    \n",
    "    y=alt.Y('date:O', axis=alt.Axis(labelAngle=0), title=None),\n",
    "    x=alt.X('name:N', title=None, axis=alt.Axis(labelAngle=-45)),\n",
    "    size=alt.Size('median:Q',\n",
    "        scale=alt.Scale(range=[0, 500], type='symlog'),\n",
    "        legend=alt.Legend(title='NO₂ mol/m²', format='.1s')\n",
    "    ),\n",
    "    fill=alt.Fill('median:Q', scale=alt.Scale(type='quantize', scheme=alt.SchemeParams('blueorange', count=5), domain=[0,0.00016]), legend=None),\n",
    "    tooltip=['date:O','name:N',alt.Tooltip('median', format='.4s')],\n",
    "    strokeWidth=alt.condition({'or': [dates_selectEU, country_date_highlightEU]}, alt.StrokeWidthValue(2), alt.StrokeWidthValue(1)),\n",
    "    fillOpacity=alt.FillOpacityValue(1)\n",
    ").add_selection(\n",
    "    dates_selectEU\n",
    ").add_selection(\n",
    "    country_date_highlightEU\n",
    ")"
   ]
  },
  {
   "cell_type": "code",
   "execution_count": 42,
   "metadata": {},
   "outputs": [
    {
     "ename": "SchemaValidationError",
     "evalue": "Invalid specification\n\n        altair.vegalite.v3.schema.channels.StrokeWidthValue, validating 'additionalProperties'\n\n        Additional properties are not allowed ('or' was unexpected)\n        ",
     "output_type": "error",
     "traceback": [
      "\u001b[1;31m---------------------------------------------------------------------------\u001b[0m",
      "\u001b[1;31mSchemaValidationError\u001b[0m                     Traceback (most recent call last)",
      "\u001b[1;32mc:\\programdata\\miniconda3\\lib\\site-packages\\altair\\vegalite\\v3\\api.py\u001b[0m in \u001b[0;36mto_dict\u001b[1;34m(self, *args, **kwargs)\u001b[0m\n\u001b[0;32m    382\u001b[0m         \u001b[1;32mif\u001b[0m \u001b[0mdct\u001b[0m \u001b[1;32mis\u001b[0m \u001b[1;32mNone\u001b[0m\u001b[1;33m:\u001b[0m\u001b[1;33m\u001b[0m\u001b[0m\n\u001b[0;32m    383\u001b[0m             \u001b[0mkwargs\u001b[0m\u001b[1;33m[\u001b[0m\u001b[1;34m'validate'\u001b[0m\u001b[1;33m]\u001b[0m \u001b[1;33m=\u001b[0m \u001b[1;34m'deep'\u001b[0m\u001b[1;33m\u001b[0m\u001b[0m\n\u001b[1;32m--> 384\u001b[1;33m             \u001b[0mdct\u001b[0m \u001b[1;33m=\u001b[0m \u001b[0msuper\u001b[0m\u001b[1;33m(\u001b[0m\u001b[0mTopLevelMixin\u001b[0m\u001b[1;33m,\u001b[0m \u001b[0mcopy\u001b[0m\u001b[1;33m)\u001b[0m\u001b[1;33m.\u001b[0m\u001b[0mto_dict\u001b[0m\u001b[1;33m(\u001b[0m\u001b[1;33m*\u001b[0m\u001b[0margs\u001b[0m\u001b[1;33m,\u001b[0m \u001b[1;33m**\u001b[0m\u001b[0mkwargs\u001b[0m\u001b[1;33m)\u001b[0m\u001b[1;33m\u001b[0m\u001b[0m\n\u001b[0m\u001b[0;32m    385\u001b[0m \u001b[1;33m\u001b[0m\u001b[0m\n\u001b[0;32m    386\u001b[0m         \u001b[1;31m# TODO: following entries are added after validation. Should they be validated?\u001b[0m\u001b[1;33m\u001b[0m\u001b[1;33m\u001b[0m\u001b[0m\n",
      "\u001b[1;32mc:\\programdata\\miniconda3\\lib\\site-packages\\altair\\utils\\schemapi.py\u001b[0m in \u001b[0;36mto_dict\u001b[1;34m(self, validate, ignore, context)\u001b[0m\n\u001b[0;32m    292\u001b[0m             result = _todict({k: v for k, v in self._kwds.items()\n\u001b[0;32m    293\u001b[0m                               if k not in ignore},\n\u001b[1;32m--> 294\u001b[1;33m                               validate=sub_validate, context=context)\n\u001b[0m\u001b[0;32m    295\u001b[0m         \u001b[1;32melse\u001b[0m\u001b[1;33m:\u001b[0m\u001b[1;33m\u001b[0m\u001b[0m\n\u001b[0;32m    296\u001b[0m             raise ValueError(\"{} instance has both a value and properties : \"\n",
      "\u001b[1;32mc:\\programdata\\miniconda3\\lib\\site-packages\\altair\\utils\\schemapi.py\u001b[0m in \u001b[0;36m_todict\u001b[1;34m(obj, validate, context)\u001b[0m\n\u001b[0;32m     48\u001b[0m         \u001b[1;32mreturn\u001b[0m \u001b[1;33m[\u001b[0m\u001b[0m_todict\u001b[0m\u001b[1;33m(\u001b[0m\u001b[0mv\u001b[0m\u001b[1;33m,\u001b[0m \u001b[0mvalidate\u001b[0m\u001b[1;33m,\u001b[0m \u001b[0mcontext\u001b[0m\u001b[1;33m)\u001b[0m \u001b[1;32mfor\u001b[0m \u001b[0mv\u001b[0m \u001b[1;32min\u001b[0m \u001b[0mobj\u001b[0m\u001b[1;33m]\u001b[0m\u001b[1;33m\u001b[0m\u001b[0m\n\u001b[0;32m     49\u001b[0m     \u001b[1;32melif\u001b[0m \u001b[0misinstance\u001b[0m\u001b[1;33m(\u001b[0m\u001b[0mobj\u001b[0m\u001b[1;33m,\u001b[0m \u001b[0mdict\u001b[0m\u001b[1;33m)\u001b[0m\u001b[1;33m:\u001b[0m\u001b[1;33m\u001b[0m\u001b[0m\n\u001b[1;32m---> 50\u001b[1;33m         return {k: _todict(v, validate, context) for k, v in obj.items()\n\u001b[0m\u001b[0;32m     51\u001b[0m                 if v is not Undefined}\n\u001b[0;32m     52\u001b[0m     \u001b[1;32melif\u001b[0m \u001b[0mhasattr\u001b[0m\u001b[1;33m(\u001b[0m\u001b[0mobj\u001b[0m\u001b[1;33m,\u001b[0m \u001b[1;34m'to_dict'\u001b[0m\u001b[1;33m)\u001b[0m\u001b[1;33m:\u001b[0m\u001b[1;33m\u001b[0m\u001b[0m\n",
      "\u001b[1;32mc:\\programdata\\miniconda3\\lib\\site-packages\\altair\\utils\\schemapi.py\u001b[0m in \u001b[0;36m<dictcomp>\u001b[1;34m(.0)\u001b[0m\n\u001b[0;32m     49\u001b[0m     \u001b[1;32melif\u001b[0m \u001b[0misinstance\u001b[0m\u001b[1;33m(\u001b[0m\u001b[0mobj\u001b[0m\u001b[1;33m,\u001b[0m \u001b[0mdict\u001b[0m\u001b[1;33m)\u001b[0m\u001b[1;33m:\u001b[0m\u001b[1;33m\u001b[0m\u001b[0m\n\u001b[0;32m     50\u001b[0m         return {k: _todict(v, validate, context) for k, v in obj.items()\n\u001b[1;32m---> 51\u001b[1;33m                 if v is not Undefined}\n\u001b[0m\u001b[0;32m     52\u001b[0m     \u001b[1;32melif\u001b[0m \u001b[0mhasattr\u001b[0m\u001b[1;33m(\u001b[0m\u001b[0mobj\u001b[0m\u001b[1;33m,\u001b[0m \u001b[1;34m'to_dict'\u001b[0m\u001b[1;33m)\u001b[0m\u001b[1;33m:\u001b[0m\u001b[1;33m\u001b[0m\u001b[0m\n\u001b[0;32m     53\u001b[0m         \u001b[1;32mreturn\u001b[0m \u001b[0mobj\u001b[0m\u001b[1;33m.\u001b[0m\u001b[0mto_dict\u001b[0m\u001b[1;33m(\u001b[0m\u001b[1;33m)\u001b[0m\u001b[1;33m\u001b[0m\u001b[0m\n",
      "\u001b[1;32mc:\\programdata\\miniconda3\\lib\\site-packages\\altair\\utils\\schemapi.py\u001b[0m in \u001b[0;36m_todict\u001b[1;34m(obj, validate, context)\u001b[0m\n\u001b[0;32m     44\u001b[0m     \u001b[1;34m\"\"\"Convert an object to a dict representation.\"\"\"\u001b[0m\u001b[1;33m\u001b[0m\u001b[0m\n\u001b[0;32m     45\u001b[0m     \u001b[1;32mif\u001b[0m \u001b[0misinstance\u001b[0m\u001b[1;33m(\u001b[0m\u001b[0mobj\u001b[0m\u001b[1;33m,\u001b[0m \u001b[0mSchemaBase\u001b[0m\u001b[1;33m)\u001b[0m\u001b[1;33m:\u001b[0m\u001b[1;33m\u001b[0m\u001b[0m\n\u001b[1;32m---> 46\u001b[1;33m         \u001b[1;32mreturn\u001b[0m \u001b[0mobj\u001b[0m\u001b[1;33m.\u001b[0m\u001b[0mto_dict\u001b[0m\u001b[1;33m(\u001b[0m\u001b[0mvalidate\u001b[0m\u001b[1;33m=\u001b[0m\u001b[0mvalidate\u001b[0m\u001b[1;33m,\u001b[0m \u001b[0mcontext\u001b[0m\u001b[1;33m=\u001b[0m\u001b[0mcontext\u001b[0m\u001b[1;33m)\u001b[0m\u001b[1;33m\u001b[0m\u001b[0m\n\u001b[0m\u001b[0;32m     47\u001b[0m     \u001b[1;32melif\u001b[0m \u001b[0misinstance\u001b[0m\u001b[1;33m(\u001b[0m\u001b[0mobj\u001b[0m\u001b[1;33m,\u001b[0m \u001b[1;33m(\u001b[0m\u001b[0mlist\u001b[0m\u001b[1;33m,\u001b[0m \u001b[0mtuple\u001b[0m\u001b[1;33m)\u001b[0m\u001b[1;33m)\u001b[0m\u001b[1;33m:\u001b[0m\u001b[1;33m\u001b[0m\u001b[0m\n\u001b[0;32m     48\u001b[0m         \u001b[1;32mreturn\u001b[0m \u001b[1;33m[\u001b[0m\u001b[0m_todict\u001b[0m\u001b[1;33m(\u001b[0m\u001b[0mv\u001b[0m\u001b[1;33m,\u001b[0m \u001b[0mvalidate\u001b[0m\u001b[1;33m,\u001b[0m \u001b[0mcontext\u001b[0m\u001b[1;33m)\u001b[0m \u001b[1;32mfor\u001b[0m \u001b[0mv\u001b[0m \u001b[1;32min\u001b[0m \u001b[0mobj\u001b[0m\u001b[1;33m]\u001b[0m\u001b[1;33m\u001b[0m\u001b[0m\n",
      "\u001b[1;32mc:\\programdata\\miniconda3\\lib\\site-packages\\altair\\utils\\schemapi.py\u001b[0m in \u001b[0;36mto_dict\u001b[1;34m(self, validate, ignore, context)\u001b[0m\n\u001b[0;32m    292\u001b[0m             result = _todict({k: v for k, v in self._kwds.items()\n\u001b[0;32m    293\u001b[0m                               if k not in ignore},\n\u001b[1;32m--> 294\u001b[1;33m                               validate=sub_validate, context=context)\n\u001b[0m\u001b[0;32m    295\u001b[0m         \u001b[1;32melse\u001b[0m\u001b[1;33m:\u001b[0m\u001b[1;33m\u001b[0m\u001b[0m\n\u001b[0;32m    296\u001b[0m             raise ValueError(\"{} instance has both a value and properties : \"\n",
      "\u001b[1;32mc:\\programdata\\miniconda3\\lib\\site-packages\\altair\\utils\\schemapi.py\u001b[0m in \u001b[0;36m_todict\u001b[1;34m(obj, validate, context)\u001b[0m\n\u001b[0;32m     48\u001b[0m         \u001b[1;32mreturn\u001b[0m \u001b[1;33m[\u001b[0m\u001b[0m_todict\u001b[0m\u001b[1;33m(\u001b[0m\u001b[0mv\u001b[0m\u001b[1;33m,\u001b[0m \u001b[0mvalidate\u001b[0m\u001b[1;33m,\u001b[0m \u001b[0mcontext\u001b[0m\u001b[1;33m)\u001b[0m \u001b[1;32mfor\u001b[0m \u001b[0mv\u001b[0m \u001b[1;32min\u001b[0m \u001b[0mobj\u001b[0m\u001b[1;33m]\u001b[0m\u001b[1;33m\u001b[0m\u001b[0m\n\u001b[0;32m     49\u001b[0m     \u001b[1;32melif\u001b[0m \u001b[0misinstance\u001b[0m\u001b[1;33m(\u001b[0m\u001b[0mobj\u001b[0m\u001b[1;33m,\u001b[0m \u001b[0mdict\u001b[0m\u001b[1;33m)\u001b[0m\u001b[1;33m:\u001b[0m\u001b[1;33m\u001b[0m\u001b[0m\n\u001b[1;32m---> 50\u001b[1;33m         return {k: _todict(v, validate, context) for k, v in obj.items()\n\u001b[0m\u001b[0;32m     51\u001b[0m                 if v is not Undefined}\n\u001b[0;32m     52\u001b[0m     \u001b[1;32melif\u001b[0m \u001b[0mhasattr\u001b[0m\u001b[1;33m(\u001b[0m\u001b[0mobj\u001b[0m\u001b[1;33m,\u001b[0m \u001b[1;34m'to_dict'\u001b[0m\u001b[1;33m)\u001b[0m\u001b[1;33m:\u001b[0m\u001b[1;33m\u001b[0m\u001b[0m\n",
      "\u001b[1;32mc:\\programdata\\miniconda3\\lib\\site-packages\\altair\\utils\\schemapi.py\u001b[0m in \u001b[0;36m<dictcomp>\u001b[1;34m(.0)\u001b[0m\n\u001b[0;32m     49\u001b[0m     \u001b[1;32melif\u001b[0m \u001b[0misinstance\u001b[0m\u001b[1;33m(\u001b[0m\u001b[0mobj\u001b[0m\u001b[1;33m,\u001b[0m \u001b[0mdict\u001b[0m\u001b[1;33m)\u001b[0m\u001b[1;33m:\u001b[0m\u001b[1;33m\u001b[0m\u001b[0m\n\u001b[0;32m     50\u001b[0m         return {k: _todict(v, validate, context) for k, v in obj.items()\n\u001b[1;32m---> 51\u001b[1;33m                 if v is not Undefined}\n\u001b[0m\u001b[0;32m     52\u001b[0m     \u001b[1;32melif\u001b[0m \u001b[0mhasattr\u001b[0m\u001b[1;33m(\u001b[0m\u001b[0mobj\u001b[0m\u001b[1;33m,\u001b[0m \u001b[1;34m'to_dict'\u001b[0m\u001b[1;33m)\u001b[0m\u001b[1;33m:\u001b[0m\u001b[1;33m\u001b[0m\u001b[0m\n\u001b[0;32m     53\u001b[0m         \u001b[1;32mreturn\u001b[0m \u001b[0mobj\u001b[0m\u001b[1;33m.\u001b[0m\u001b[0mto_dict\u001b[0m\u001b[1;33m(\u001b[0m\u001b[1;33m)\u001b[0m\u001b[1;33m\u001b[0m\u001b[0m\n",
      "\u001b[1;32mc:\\programdata\\miniconda3\\lib\\site-packages\\altair\\utils\\schemapi.py\u001b[0m in \u001b[0;36m_todict\u001b[1;34m(obj, validate, context)\u001b[0m\n\u001b[0;32m     44\u001b[0m     \u001b[1;34m\"\"\"Convert an object to a dict representation.\"\"\"\u001b[0m\u001b[1;33m\u001b[0m\u001b[0m\n\u001b[0;32m     45\u001b[0m     \u001b[1;32mif\u001b[0m \u001b[0misinstance\u001b[0m\u001b[1;33m(\u001b[0m\u001b[0mobj\u001b[0m\u001b[1;33m,\u001b[0m \u001b[0mSchemaBase\u001b[0m\u001b[1;33m)\u001b[0m\u001b[1;33m:\u001b[0m\u001b[1;33m\u001b[0m\u001b[0m\n\u001b[1;32m---> 46\u001b[1;33m         \u001b[1;32mreturn\u001b[0m \u001b[0mobj\u001b[0m\u001b[1;33m.\u001b[0m\u001b[0mto_dict\u001b[0m\u001b[1;33m(\u001b[0m\u001b[0mvalidate\u001b[0m\u001b[1;33m=\u001b[0m\u001b[0mvalidate\u001b[0m\u001b[1;33m,\u001b[0m \u001b[0mcontext\u001b[0m\u001b[1;33m=\u001b[0m\u001b[0mcontext\u001b[0m\u001b[1;33m)\u001b[0m\u001b[1;33m\u001b[0m\u001b[0m\n\u001b[0m\u001b[0;32m     47\u001b[0m     \u001b[1;32melif\u001b[0m \u001b[0misinstance\u001b[0m\u001b[1;33m(\u001b[0m\u001b[0mobj\u001b[0m\u001b[1;33m,\u001b[0m \u001b[1;33m(\u001b[0m\u001b[0mlist\u001b[0m\u001b[1;33m,\u001b[0m \u001b[0mtuple\u001b[0m\u001b[1;33m)\u001b[0m\u001b[1;33m)\u001b[0m\u001b[1;33m:\u001b[0m\u001b[1;33m\u001b[0m\u001b[0m\n\u001b[0;32m     48\u001b[0m         \u001b[1;32mreturn\u001b[0m \u001b[1;33m[\u001b[0m\u001b[0m_todict\u001b[0m\u001b[1;33m(\u001b[0m\u001b[0mv\u001b[0m\u001b[1;33m,\u001b[0m \u001b[0mvalidate\u001b[0m\u001b[1;33m,\u001b[0m \u001b[0mcontext\u001b[0m\u001b[1;33m)\u001b[0m \u001b[1;32mfor\u001b[0m \u001b[0mv\u001b[0m \u001b[1;32min\u001b[0m \u001b[0mobj\u001b[0m\u001b[1;33m]\u001b[0m\u001b[1;33m\u001b[0m\u001b[0m\n",
      "\u001b[1;32mc:\\programdata\\miniconda3\\lib\\site-packages\\altair\\vegalite\\v3\\schema\\channels.py\u001b[0m in \u001b[0;36mto_dict\u001b[1;34m(self, validate, ignore, context)\u001b[0m\n\u001b[0;32m     79\u001b[0m         return super(ValueChannelMixin, copy).to_dict(validate=validate,\n\u001b[0;32m     80\u001b[0m                                                       \u001b[0mignore\u001b[0m\u001b[1;33m=\u001b[0m\u001b[0mignore\u001b[0m\u001b[1;33m,\u001b[0m\u001b[1;33m\u001b[0m\u001b[0m\n\u001b[1;32m---> 81\u001b[1;33m                                                       context=context)\n\u001b[0m\u001b[0;32m     82\u001b[0m \u001b[1;33m\u001b[0m\u001b[0m\n\u001b[0;32m     83\u001b[0m \u001b[1;33m\u001b[0m\u001b[0m\n",
      "\u001b[1;32mc:\\programdata\\miniconda3\\lib\\site-packages\\altair\\utils\\schemapi.py\u001b[0m in \u001b[0;36mto_dict\u001b[1;34m(self, validate, ignore, context)\u001b[0m\n\u001b[0;32m    292\u001b[0m             result = _todict({k: v for k, v in self._kwds.items()\n\u001b[0;32m    293\u001b[0m                               if k not in ignore},\n\u001b[1;32m--> 294\u001b[1;33m                               validate=sub_validate, context=context)\n\u001b[0m\u001b[0;32m    295\u001b[0m         \u001b[1;32melse\u001b[0m\u001b[1;33m:\u001b[0m\u001b[1;33m\u001b[0m\u001b[0m\n\u001b[0;32m    296\u001b[0m             raise ValueError(\"{} instance has both a value and properties : \"\n",
      "\u001b[1;32mc:\\programdata\\miniconda3\\lib\\site-packages\\altair\\utils\\schemapi.py\u001b[0m in \u001b[0;36m_todict\u001b[1;34m(obj, validate, context)\u001b[0m\n\u001b[0;32m     48\u001b[0m         \u001b[1;32mreturn\u001b[0m \u001b[1;33m[\u001b[0m\u001b[0m_todict\u001b[0m\u001b[1;33m(\u001b[0m\u001b[0mv\u001b[0m\u001b[1;33m,\u001b[0m \u001b[0mvalidate\u001b[0m\u001b[1;33m,\u001b[0m \u001b[0mcontext\u001b[0m\u001b[1;33m)\u001b[0m \u001b[1;32mfor\u001b[0m \u001b[0mv\u001b[0m \u001b[1;32min\u001b[0m \u001b[0mobj\u001b[0m\u001b[1;33m]\u001b[0m\u001b[1;33m\u001b[0m\u001b[0m\n\u001b[0;32m     49\u001b[0m     \u001b[1;32melif\u001b[0m \u001b[0misinstance\u001b[0m\u001b[1;33m(\u001b[0m\u001b[0mobj\u001b[0m\u001b[1;33m,\u001b[0m \u001b[0mdict\u001b[0m\u001b[1;33m)\u001b[0m\u001b[1;33m:\u001b[0m\u001b[1;33m\u001b[0m\u001b[0m\n\u001b[1;32m---> 50\u001b[1;33m         return {k: _todict(v, validate, context) for k, v in obj.items()\n\u001b[0m\u001b[0;32m     51\u001b[0m                 if v is not Undefined}\n\u001b[0;32m     52\u001b[0m     \u001b[1;32melif\u001b[0m \u001b[0mhasattr\u001b[0m\u001b[1;33m(\u001b[0m\u001b[0mobj\u001b[0m\u001b[1;33m,\u001b[0m \u001b[1;34m'to_dict'\u001b[0m\u001b[1;33m)\u001b[0m\u001b[1;33m:\u001b[0m\u001b[1;33m\u001b[0m\u001b[0m\n",
      "\u001b[1;32mc:\\programdata\\miniconda3\\lib\\site-packages\\altair\\utils\\schemapi.py\u001b[0m in \u001b[0;36m<dictcomp>\u001b[1;34m(.0)\u001b[0m\n\u001b[0;32m     49\u001b[0m     \u001b[1;32melif\u001b[0m \u001b[0misinstance\u001b[0m\u001b[1;33m(\u001b[0m\u001b[0mobj\u001b[0m\u001b[1;33m,\u001b[0m \u001b[0mdict\u001b[0m\u001b[1;33m)\u001b[0m\u001b[1;33m:\u001b[0m\u001b[1;33m\u001b[0m\u001b[0m\n\u001b[0;32m     50\u001b[0m         return {k: _todict(v, validate, context) for k, v in obj.items()\n\u001b[1;32m---> 51\u001b[1;33m                 if v is not Undefined}\n\u001b[0m\u001b[0;32m     52\u001b[0m     \u001b[1;32melif\u001b[0m \u001b[0mhasattr\u001b[0m\u001b[1;33m(\u001b[0m\u001b[0mobj\u001b[0m\u001b[1;33m,\u001b[0m \u001b[1;34m'to_dict'\u001b[0m\u001b[1;33m)\u001b[0m\u001b[1;33m:\u001b[0m\u001b[1;33m\u001b[0m\u001b[0m\n\u001b[0;32m     53\u001b[0m         \u001b[1;32mreturn\u001b[0m \u001b[0mobj\u001b[0m\u001b[1;33m.\u001b[0m\u001b[0mto_dict\u001b[0m\u001b[1;33m(\u001b[0m\u001b[1;33m)\u001b[0m\u001b[1;33m\u001b[0m\u001b[0m\n",
      "\u001b[1;32mc:\\programdata\\miniconda3\\lib\\site-packages\\altair\\utils\\schemapi.py\u001b[0m in \u001b[0;36m_todict\u001b[1;34m(obj, validate, context)\u001b[0m\n\u001b[0;32m     44\u001b[0m     \u001b[1;34m\"\"\"Convert an object to a dict representation.\"\"\"\u001b[0m\u001b[1;33m\u001b[0m\u001b[0m\n\u001b[0;32m     45\u001b[0m     \u001b[1;32mif\u001b[0m \u001b[0misinstance\u001b[0m\u001b[1;33m(\u001b[0m\u001b[0mobj\u001b[0m\u001b[1;33m,\u001b[0m \u001b[0mSchemaBase\u001b[0m\u001b[1;33m)\u001b[0m\u001b[1;33m:\u001b[0m\u001b[1;33m\u001b[0m\u001b[0m\n\u001b[1;32m---> 46\u001b[1;33m         \u001b[1;32mreturn\u001b[0m \u001b[0mobj\u001b[0m\u001b[1;33m.\u001b[0m\u001b[0mto_dict\u001b[0m\u001b[1;33m(\u001b[0m\u001b[0mvalidate\u001b[0m\u001b[1;33m=\u001b[0m\u001b[0mvalidate\u001b[0m\u001b[1;33m,\u001b[0m \u001b[0mcontext\u001b[0m\u001b[1;33m=\u001b[0m\u001b[0mcontext\u001b[0m\u001b[1;33m)\u001b[0m\u001b[1;33m\u001b[0m\u001b[0m\n\u001b[0m\u001b[0;32m     47\u001b[0m     \u001b[1;32melif\u001b[0m \u001b[0misinstance\u001b[0m\u001b[1;33m(\u001b[0m\u001b[0mobj\u001b[0m\u001b[1;33m,\u001b[0m \u001b[1;33m(\u001b[0m\u001b[0mlist\u001b[0m\u001b[1;33m,\u001b[0m \u001b[0mtuple\u001b[0m\u001b[1;33m)\u001b[0m\u001b[1;33m)\u001b[0m\u001b[1;33m:\u001b[0m\u001b[1;33m\u001b[0m\u001b[0m\n\u001b[0;32m     48\u001b[0m         \u001b[1;32mreturn\u001b[0m \u001b[1;33m[\u001b[0m\u001b[0m_todict\u001b[0m\u001b[1;33m(\u001b[0m\u001b[0mv\u001b[0m\u001b[1;33m,\u001b[0m \u001b[0mvalidate\u001b[0m\u001b[1;33m,\u001b[0m \u001b[0mcontext\u001b[0m\u001b[1;33m)\u001b[0m \u001b[1;32mfor\u001b[0m \u001b[0mv\u001b[0m \u001b[1;32min\u001b[0m \u001b[0mobj\u001b[0m\u001b[1;33m]\u001b[0m\u001b[1;33m\u001b[0m\u001b[0m\n",
      "\u001b[1;32mc:\\programdata\\miniconda3\\lib\\site-packages\\altair\\vegalite\\v3\\schema\\channels.py\u001b[0m in \u001b[0;36mto_dict\u001b[1;34m(self, validate, ignore, context)\u001b[0m\n\u001b[0;32m     79\u001b[0m         return super(ValueChannelMixin, copy).to_dict(validate=validate,\n\u001b[0;32m     80\u001b[0m                                                       \u001b[0mignore\u001b[0m\u001b[1;33m=\u001b[0m\u001b[0mignore\u001b[0m\u001b[1;33m,\u001b[0m\u001b[1;33m\u001b[0m\u001b[0m\n\u001b[1;32m---> 81\u001b[1;33m                                                       context=context)\n\u001b[0m\u001b[0;32m     82\u001b[0m \u001b[1;33m\u001b[0m\u001b[0m\n\u001b[0;32m     83\u001b[0m \u001b[1;33m\u001b[0m\u001b[0m\n",
      "\u001b[1;32mc:\\programdata\\miniconda3\\lib\\site-packages\\altair\\utils\\schemapi.py\u001b[0m in \u001b[0;36mto_dict\u001b[1;34m(self, validate, ignore, context)\u001b[0m\n\u001b[0;32m    300\u001b[0m                 \u001b[0mself\u001b[0m\u001b[1;33m.\u001b[0m\u001b[0mvalidate\u001b[0m\u001b[1;33m(\u001b[0m\u001b[0mresult\u001b[0m\u001b[1;33m)\u001b[0m\u001b[1;33m\u001b[0m\u001b[0m\n\u001b[0;32m    301\u001b[0m             \u001b[1;32mexcept\u001b[0m \u001b[0mjsonschema\u001b[0m\u001b[1;33m.\u001b[0m\u001b[0mValidationError\u001b[0m \u001b[1;32mas\u001b[0m \u001b[0merr\u001b[0m\u001b[1;33m:\u001b[0m\u001b[1;33m\u001b[0m\u001b[0m\n\u001b[1;32m--> 302\u001b[1;33m                 \u001b[1;32mraise\u001b[0m \u001b[0mSchemaValidationError\u001b[0m\u001b[1;33m(\u001b[0m\u001b[0mself\u001b[0m\u001b[1;33m,\u001b[0m \u001b[0merr\u001b[0m\u001b[1;33m)\u001b[0m\u001b[1;33m\u001b[0m\u001b[0m\n\u001b[0m\u001b[0;32m    303\u001b[0m         \u001b[1;32mreturn\u001b[0m \u001b[0mresult\u001b[0m\u001b[1;33m\u001b[0m\u001b[0m\n\u001b[0;32m    304\u001b[0m \u001b[1;33m\u001b[0m\u001b[0m\n",
      "\u001b[1;31mSchemaValidationError\u001b[0m: Invalid specification\n\n        altair.vegalite.v3.schema.channels.StrokeWidthValue, validating 'additionalProperties'\n\n        Additional properties are not allowed ('or' was unexpected)\n        "
     ]
    },
    {
     "data": {
      "text/plain": [
       "alt.Chart(...)"
      ]
     },
     "execution_count": 42,
     "metadata": {},
     "output_type": "execute_result"
    }
   ],
   "source": [
    "circlepltEU"
   ]
  },
  {
   "cell_type": "code",
   "execution_count": 33,
   "metadata": {},
   "outputs": [],
   "source": [
    "chartEU = alt.hconcat(alt.vconcat(titlepltEU,alt.layer(basepltEU,mappltEU), boxpltEU),circlepltEU, data=dataEU)"
   ]
  },
  {
   "cell_type": "code",
   "execution_count": 34,
   "metadata": {},
   "outputs": [],
   "source": [
    "chartNL = alt.hconcat(alt.layer(provpltNL,mappltNL), boxpltNL, circlepltNL, data=dataNL)"
   ]
  },
  {
   "cell_type": "code",
   "execution_count": 37,
   "metadata": {},
   "outputs": [],
   "source": [
    "chartNL_EU = alt.vconcat(\n",
    "    titlepltEU, \n",
    "    alt.vconcat(\n",
    "        alt.hconcat(alt.layer(basepltEU,mappltEU), boxpltEU, circlepltEU, data=dataEU),\n",
    "        alt.hconcat(alt.layer(provpltNL,mappltNL), boxpltNL, circlepltNL, data=dataNL),\n",
    "        data=dataEU\n",
    "    ),\n",
    "    data=dataEU\n",
    ")"
   ]
  },
  {
   "cell_type": "code",
   "execution_count": 38,
   "metadata": {},
   "outputs": [
    {
     "ename": "SchemaValidationError",
     "evalue": "Invalid specification\n\n        altair.vegalite.v3.api.Chart, validating 'required'\n\n        'data' is a required property\n        ",
     "output_type": "error",
     "traceback": [
      "\u001b[1;31m---------------------------------------------------------------------------\u001b[0m",
      "\u001b[1;31mSchemaValidationError\u001b[0m                     Traceback (most recent call last)",
      "\u001b[1;32mc:\\programdata\\miniconda3\\lib\\site-packages\\altair\\vegalite\\v3\\api.py\u001b[0m in \u001b[0;36mto_dict\u001b[1;34m(self, *args, **kwargs)\u001b[0m\n\u001b[0;32m    382\u001b[0m         \u001b[1;32mif\u001b[0m \u001b[0mdct\u001b[0m \u001b[1;32mis\u001b[0m \u001b[1;32mNone\u001b[0m\u001b[1;33m:\u001b[0m\u001b[1;33m\u001b[0m\u001b[0m\n\u001b[0;32m    383\u001b[0m             \u001b[0mkwargs\u001b[0m\u001b[1;33m[\u001b[0m\u001b[1;34m'validate'\u001b[0m\u001b[1;33m]\u001b[0m \u001b[1;33m=\u001b[0m \u001b[1;34m'deep'\u001b[0m\u001b[1;33m\u001b[0m\u001b[0m\n\u001b[1;32m--> 384\u001b[1;33m             \u001b[0mdct\u001b[0m \u001b[1;33m=\u001b[0m \u001b[0msuper\u001b[0m\u001b[1;33m(\u001b[0m\u001b[0mTopLevelMixin\u001b[0m\u001b[1;33m,\u001b[0m \u001b[0mcopy\u001b[0m\u001b[1;33m)\u001b[0m\u001b[1;33m.\u001b[0m\u001b[0mto_dict\u001b[0m\u001b[1;33m(\u001b[0m\u001b[1;33m*\u001b[0m\u001b[0margs\u001b[0m\u001b[1;33m,\u001b[0m \u001b[1;33m**\u001b[0m\u001b[0mkwargs\u001b[0m\u001b[1;33m)\u001b[0m\u001b[1;33m\u001b[0m\u001b[0m\n\u001b[0m\u001b[0;32m    385\u001b[0m \u001b[1;33m\u001b[0m\u001b[0m\n\u001b[0;32m    386\u001b[0m         \u001b[1;31m# TODO: following entries are added after validation. Should they be validated?\u001b[0m\u001b[1;33m\u001b[0m\u001b[1;33m\u001b[0m\u001b[0m\n",
      "\u001b[1;32mc:\\programdata\\miniconda3\\lib\\site-packages\\altair\\utils\\schemapi.py\u001b[0m in \u001b[0;36mto_dict\u001b[1;34m(self, validate, ignore, context)\u001b[0m\n\u001b[0;32m    292\u001b[0m             result = _todict({k: v for k, v in self._kwds.items()\n\u001b[0;32m    293\u001b[0m                               if k not in ignore},\n\u001b[1;32m--> 294\u001b[1;33m                               validate=sub_validate, context=context)\n\u001b[0m\u001b[0;32m    295\u001b[0m         \u001b[1;32melse\u001b[0m\u001b[1;33m:\u001b[0m\u001b[1;33m\u001b[0m\u001b[0m\n\u001b[0;32m    296\u001b[0m             raise ValueError(\"{} instance has both a value and properties : \"\n",
      "\u001b[1;32mc:\\programdata\\miniconda3\\lib\\site-packages\\altair\\utils\\schemapi.py\u001b[0m in \u001b[0;36m_todict\u001b[1;34m(obj, validate, context)\u001b[0m\n\u001b[0;32m     48\u001b[0m         \u001b[1;32mreturn\u001b[0m \u001b[1;33m[\u001b[0m\u001b[0m_todict\u001b[0m\u001b[1;33m(\u001b[0m\u001b[0mv\u001b[0m\u001b[1;33m,\u001b[0m \u001b[0mvalidate\u001b[0m\u001b[1;33m,\u001b[0m \u001b[0mcontext\u001b[0m\u001b[1;33m)\u001b[0m \u001b[1;32mfor\u001b[0m \u001b[0mv\u001b[0m \u001b[1;32min\u001b[0m \u001b[0mobj\u001b[0m\u001b[1;33m]\u001b[0m\u001b[1;33m\u001b[0m\u001b[0m\n\u001b[0;32m     49\u001b[0m     \u001b[1;32melif\u001b[0m \u001b[0misinstance\u001b[0m\u001b[1;33m(\u001b[0m\u001b[0mobj\u001b[0m\u001b[1;33m,\u001b[0m \u001b[0mdict\u001b[0m\u001b[1;33m)\u001b[0m\u001b[1;33m:\u001b[0m\u001b[1;33m\u001b[0m\u001b[0m\n\u001b[1;32m---> 50\u001b[1;33m         return {k: _todict(v, validate, context) for k, v in obj.items()\n\u001b[0m\u001b[0;32m     51\u001b[0m                 if v is not Undefined}\n\u001b[0;32m     52\u001b[0m     \u001b[1;32melif\u001b[0m \u001b[0mhasattr\u001b[0m\u001b[1;33m(\u001b[0m\u001b[0mobj\u001b[0m\u001b[1;33m,\u001b[0m \u001b[1;34m'to_dict'\u001b[0m\u001b[1;33m)\u001b[0m\u001b[1;33m:\u001b[0m\u001b[1;33m\u001b[0m\u001b[0m\n",
      "\u001b[1;32mc:\\programdata\\miniconda3\\lib\\site-packages\\altair\\utils\\schemapi.py\u001b[0m in \u001b[0;36m<dictcomp>\u001b[1;34m(.0)\u001b[0m\n\u001b[0;32m     49\u001b[0m     \u001b[1;32melif\u001b[0m \u001b[0misinstance\u001b[0m\u001b[1;33m(\u001b[0m\u001b[0mobj\u001b[0m\u001b[1;33m,\u001b[0m \u001b[0mdict\u001b[0m\u001b[1;33m)\u001b[0m\u001b[1;33m:\u001b[0m\u001b[1;33m\u001b[0m\u001b[0m\n\u001b[0;32m     50\u001b[0m         return {k: _todict(v, validate, context) for k, v in obj.items()\n\u001b[1;32m---> 51\u001b[1;33m                 if v is not Undefined}\n\u001b[0m\u001b[0;32m     52\u001b[0m     \u001b[1;32melif\u001b[0m \u001b[0mhasattr\u001b[0m\u001b[1;33m(\u001b[0m\u001b[0mobj\u001b[0m\u001b[1;33m,\u001b[0m \u001b[1;34m'to_dict'\u001b[0m\u001b[1;33m)\u001b[0m\u001b[1;33m:\u001b[0m\u001b[1;33m\u001b[0m\u001b[0m\n\u001b[0;32m     53\u001b[0m         \u001b[1;32mreturn\u001b[0m \u001b[0mobj\u001b[0m\u001b[1;33m.\u001b[0m\u001b[0mto_dict\u001b[0m\u001b[1;33m(\u001b[0m\u001b[1;33m)\u001b[0m\u001b[1;33m\u001b[0m\u001b[0m\n",
      "\u001b[1;32mc:\\programdata\\miniconda3\\lib\\site-packages\\altair\\utils\\schemapi.py\u001b[0m in \u001b[0;36m_todict\u001b[1;34m(obj, validate, context)\u001b[0m\n\u001b[0;32m     46\u001b[0m         \u001b[1;32mreturn\u001b[0m \u001b[0mobj\u001b[0m\u001b[1;33m.\u001b[0m\u001b[0mto_dict\u001b[0m\u001b[1;33m(\u001b[0m\u001b[0mvalidate\u001b[0m\u001b[1;33m=\u001b[0m\u001b[0mvalidate\u001b[0m\u001b[1;33m,\u001b[0m \u001b[0mcontext\u001b[0m\u001b[1;33m=\u001b[0m\u001b[0mcontext\u001b[0m\u001b[1;33m)\u001b[0m\u001b[1;33m\u001b[0m\u001b[0m\n\u001b[0;32m     47\u001b[0m     \u001b[1;32melif\u001b[0m \u001b[0misinstance\u001b[0m\u001b[1;33m(\u001b[0m\u001b[0mobj\u001b[0m\u001b[1;33m,\u001b[0m \u001b[1;33m(\u001b[0m\u001b[0mlist\u001b[0m\u001b[1;33m,\u001b[0m \u001b[0mtuple\u001b[0m\u001b[1;33m)\u001b[0m\u001b[1;33m)\u001b[0m\u001b[1;33m:\u001b[0m\u001b[1;33m\u001b[0m\u001b[0m\n\u001b[1;32m---> 48\u001b[1;33m         \u001b[1;32mreturn\u001b[0m \u001b[1;33m[\u001b[0m\u001b[0m_todict\u001b[0m\u001b[1;33m(\u001b[0m\u001b[0mv\u001b[0m\u001b[1;33m,\u001b[0m \u001b[0mvalidate\u001b[0m\u001b[1;33m,\u001b[0m \u001b[0mcontext\u001b[0m\u001b[1;33m)\u001b[0m \u001b[1;32mfor\u001b[0m \u001b[0mv\u001b[0m \u001b[1;32min\u001b[0m \u001b[0mobj\u001b[0m\u001b[1;33m]\u001b[0m\u001b[1;33m\u001b[0m\u001b[0m\n\u001b[0m\u001b[0;32m     49\u001b[0m     \u001b[1;32melif\u001b[0m \u001b[0misinstance\u001b[0m\u001b[1;33m(\u001b[0m\u001b[0mobj\u001b[0m\u001b[1;33m,\u001b[0m \u001b[0mdict\u001b[0m\u001b[1;33m)\u001b[0m\u001b[1;33m:\u001b[0m\u001b[1;33m\u001b[0m\u001b[0m\n\u001b[0;32m     50\u001b[0m         return {k: _todict(v, validate, context) for k, v in obj.items()\n",
      "\u001b[1;32mc:\\programdata\\miniconda3\\lib\\site-packages\\altair\\utils\\schemapi.py\u001b[0m in \u001b[0;36m<listcomp>\u001b[1;34m(.0)\u001b[0m\n\u001b[0;32m     46\u001b[0m         \u001b[1;32mreturn\u001b[0m \u001b[0mobj\u001b[0m\u001b[1;33m.\u001b[0m\u001b[0mto_dict\u001b[0m\u001b[1;33m(\u001b[0m\u001b[0mvalidate\u001b[0m\u001b[1;33m=\u001b[0m\u001b[0mvalidate\u001b[0m\u001b[1;33m,\u001b[0m \u001b[0mcontext\u001b[0m\u001b[1;33m=\u001b[0m\u001b[0mcontext\u001b[0m\u001b[1;33m)\u001b[0m\u001b[1;33m\u001b[0m\u001b[0m\n\u001b[0;32m     47\u001b[0m     \u001b[1;32melif\u001b[0m \u001b[0misinstance\u001b[0m\u001b[1;33m(\u001b[0m\u001b[0mobj\u001b[0m\u001b[1;33m,\u001b[0m \u001b[1;33m(\u001b[0m\u001b[0mlist\u001b[0m\u001b[1;33m,\u001b[0m \u001b[0mtuple\u001b[0m\u001b[1;33m)\u001b[0m\u001b[1;33m)\u001b[0m\u001b[1;33m:\u001b[0m\u001b[1;33m\u001b[0m\u001b[0m\n\u001b[1;32m---> 48\u001b[1;33m         \u001b[1;32mreturn\u001b[0m \u001b[1;33m[\u001b[0m\u001b[0m_todict\u001b[0m\u001b[1;33m(\u001b[0m\u001b[0mv\u001b[0m\u001b[1;33m,\u001b[0m \u001b[0mvalidate\u001b[0m\u001b[1;33m,\u001b[0m \u001b[0mcontext\u001b[0m\u001b[1;33m)\u001b[0m \u001b[1;32mfor\u001b[0m \u001b[0mv\u001b[0m \u001b[1;32min\u001b[0m \u001b[0mobj\u001b[0m\u001b[1;33m]\u001b[0m\u001b[1;33m\u001b[0m\u001b[0m\n\u001b[0m\u001b[0;32m     49\u001b[0m     \u001b[1;32melif\u001b[0m \u001b[0misinstance\u001b[0m\u001b[1;33m(\u001b[0m\u001b[0mobj\u001b[0m\u001b[1;33m,\u001b[0m \u001b[0mdict\u001b[0m\u001b[1;33m)\u001b[0m\u001b[1;33m:\u001b[0m\u001b[1;33m\u001b[0m\u001b[0m\n\u001b[0;32m     50\u001b[0m         return {k: _todict(v, validate, context) for k, v in obj.items()\n",
      "\u001b[1;32mc:\\programdata\\miniconda3\\lib\\site-packages\\altair\\utils\\schemapi.py\u001b[0m in \u001b[0;36m_todict\u001b[1;34m(obj, validate, context)\u001b[0m\n\u001b[0;32m     44\u001b[0m     \u001b[1;34m\"\"\"Convert an object to a dict representation.\"\"\"\u001b[0m\u001b[1;33m\u001b[0m\u001b[0m\n\u001b[0;32m     45\u001b[0m     \u001b[1;32mif\u001b[0m \u001b[0misinstance\u001b[0m\u001b[1;33m(\u001b[0m\u001b[0mobj\u001b[0m\u001b[1;33m,\u001b[0m \u001b[0mSchemaBase\u001b[0m\u001b[1;33m)\u001b[0m\u001b[1;33m:\u001b[0m\u001b[1;33m\u001b[0m\u001b[0m\n\u001b[1;32m---> 46\u001b[1;33m         \u001b[1;32mreturn\u001b[0m \u001b[0mobj\u001b[0m\u001b[1;33m.\u001b[0m\u001b[0mto_dict\u001b[0m\u001b[1;33m(\u001b[0m\u001b[0mvalidate\u001b[0m\u001b[1;33m=\u001b[0m\u001b[0mvalidate\u001b[0m\u001b[1;33m,\u001b[0m \u001b[0mcontext\u001b[0m\u001b[1;33m=\u001b[0m\u001b[0mcontext\u001b[0m\u001b[1;33m)\u001b[0m\u001b[1;33m\u001b[0m\u001b[0m\n\u001b[0m\u001b[0;32m     47\u001b[0m     \u001b[1;32melif\u001b[0m \u001b[0misinstance\u001b[0m\u001b[1;33m(\u001b[0m\u001b[0mobj\u001b[0m\u001b[1;33m,\u001b[0m \u001b[1;33m(\u001b[0m\u001b[0mlist\u001b[0m\u001b[1;33m,\u001b[0m \u001b[0mtuple\u001b[0m\u001b[1;33m)\u001b[0m\u001b[1;33m)\u001b[0m\u001b[1;33m:\u001b[0m\u001b[1;33m\u001b[0m\u001b[0m\n\u001b[0;32m     48\u001b[0m         \u001b[1;32mreturn\u001b[0m \u001b[1;33m[\u001b[0m\u001b[0m_todict\u001b[0m\u001b[1;33m(\u001b[0m\u001b[0mv\u001b[0m\u001b[1;33m,\u001b[0m \u001b[0mvalidate\u001b[0m\u001b[1;33m,\u001b[0m \u001b[0mcontext\u001b[0m\u001b[1;33m)\u001b[0m \u001b[1;32mfor\u001b[0m \u001b[0mv\u001b[0m \u001b[1;32min\u001b[0m \u001b[0mobj\u001b[0m\u001b[1;33m]\u001b[0m\u001b[1;33m\u001b[0m\u001b[0m\n",
      "\u001b[1;32mc:\\programdata\\miniconda3\\lib\\site-packages\\altair\\vegalite\\v3\\api.py\u001b[0m in \u001b[0;36mto_dict\u001b[1;34m(self, *args, **kwargs)\u001b[0m\n\u001b[0;32m    382\u001b[0m         \u001b[1;32mif\u001b[0m \u001b[0mdct\u001b[0m \u001b[1;32mis\u001b[0m \u001b[1;32mNone\u001b[0m\u001b[1;33m:\u001b[0m\u001b[1;33m\u001b[0m\u001b[0m\n\u001b[0;32m    383\u001b[0m             \u001b[0mkwargs\u001b[0m\u001b[1;33m[\u001b[0m\u001b[1;34m'validate'\u001b[0m\u001b[1;33m]\u001b[0m \u001b[1;33m=\u001b[0m \u001b[1;34m'deep'\u001b[0m\u001b[1;33m\u001b[0m\u001b[0m\n\u001b[1;32m--> 384\u001b[1;33m             \u001b[0mdct\u001b[0m \u001b[1;33m=\u001b[0m \u001b[0msuper\u001b[0m\u001b[1;33m(\u001b[0m\u001b[0mTopLevelMixin\u001b[0m\u001b[1;33m,\u001b[0m \u001b[0mcopy\u001b[0m\u001b[1;33m)\u001b[0m\u001b[1;33m.\u001b[0m\u001b[0mto_dict\u001b[0m\u001b[1;33m(\u001b[0m\u001b[1;33m*\u001b[0m\u001b[0margs\u001b[0m\u001b[1;33m,\u001b[0m \u001b[1;33m**\u001b[0m\u001b[0mkwargs\u001b[0m\u001b[1;33m)\u001b[0m\u001b[1;33m\u001b[0m\u001b[0m\n\u001b[0m\u001b[0;32m    385\u001b[0m \u001b[1;33m\u001b[0m\u001b[0m\n\u001b[0;32m    386\u001b[0m         \u001b[1;31m# TODO: following entries are added after validation. Should they be validated?\u001b[0m\u001b[1;33m\u001b[0m\u001b[1;33m\u001b[0m\u001b[0m\n",
      "\u001b[1;32mc:\\programdata\\miniconda3\\lib\\site-packages\\altair\\utils\\schemapi.py\u001b[0m in \u001b[0;36mto_dict\u001b[1;34m(self, validate, ignore, context)\u001b[0m\n\u001b[0;32m    300\u001b[0m                 \u001b[0mself\u001b[0m\u001b[1;33m.\u001b[0m\u001b[0mvalidate\u001b[0m\u001b[1;33m(\u001b[0m\u001b[0mresult\u001b[0m\u001b[1;33m)\u001b[0m\u001b[1;33m\u001b[0m\u001b[0m\n\u001b[0;32m    301\u001b[0m             \u001b[1;32mexcept\u001b[0m \u001b[0mjsonschema\u001b[0m\u001b[1;33m.\u001b[0m\u001b[0mValidationError\u001b[0m \u001b[1;32mas\u001b[0m \u001b[0merr\u001b[0m\u001b[1;33m:\u001b[0m\u001b[1;33m\u001b[0m\u001b[0m\n\u001b[1;32m--> 302\u001b[1;33m                 \u001b[1;32mraise\u001b[0m \u001b[0mSchemaValidationError\u001b[0m\u001b[1;33m(\u001b[0m\u001b[0mself\u001b[0m\u001b[1;33m,\u001b[0m \u001b[0merr\u001b[0m\u001b[1;33m)\u001b[0m\u001b[1;33m\u001b[0m\u001b[0m\n\u001b[0m\u001b[0;32m    303\u001b[0m         \u001b[1;32mreturn\u001b[0m \u001b[0mresult\u001b[0m\u001b[1;33m\u001b[0m\u001b[0m\n\u001b[0;32m    304\u001b[0m \u001b[1;33m\u001b[0m\u001b[0m\n",
      "\u001b[1;31mSchemaValidationError\u001b[0m: Invalid specification\n\n        altair.vegalite.v3.api.Chart, validating 'required'\n\n        'data' is a required property\n        "
     ]
    },
    {
     "data": {
      "text/plain": [
       "alt.VConcatChart(...)"
      ]
     },
     "execution_count": 38,
     "metadata": {},
     "output_type": "execute_result"
    }
   ],
   "source": [
    "chartNL_EU"
   ]
  },
  {
   "cell_type": "code",
   "execution_count": null,
   "metadata": {},
   "outputs": [],
   "source": [
    "# export visualization as an 'in-memory text stream'\n",
    "export_html = io.StringIO()\n",
    "chartNL_EU.save(export_html, format='html')"
   ]
  },
  {
   "cell_type": "code",
   "execution_count": null,
   "metadata": {},
   "outputs": [],
   "source": [
    "dp.new_entry(\n",
    "    database='hoek',\n",
    "    key='NL_EEA_NO2_TROPOMI',\n",
    "    data=export_html,\n",
    "    description='Maand aggregates NO2 voor EEA staten en NL locaties'\n",
    ")"
   ]
  },
  {
   "cell_type": "code",
   "execution_count": null,
   "metadata": {},
   "outputs": [],
   "source": [
    "dp.update_entry(\n",
    "    database='hoek',\n",
    "    key='NL_EEA_NO2_TROPOMI',\n",
    "    data=export_html,\n",
    "    description='Maand aggregates NO2 voor EEA staten en NL locaties'\n",
    ")"
   ]
  },
  {
   "cell_type": "code",
   "execution_count": null,
   "metadata": {},
   "outputs": [],
   "source": []
  },
  {
   "cell_type": "code",
   "execution_count": null,
   "metadata": {},
   "outputs": [],
   "source": []
  },
  {
   "cell_type": "code",
   "execution_count": null,
   "metadata": {},
   "outputs": [],
   "source": []
  },
  {
   "cell_type": "code",
   "execution_count": null,
   "metadata": {},
   "outputs": [],
   "source": []
  },
  {
   "cell_type": "code",
   "execution_count": null,
   "metadata": {},
   "outputs": [],
   "source": []
  },
  {
   "cell_type": "code",
   "execution_count": null,
   "metadata": {},
   "outputs": [],
   "source": []
  },
  {
   "cell_type": "code",
   "execution_count": null,
   "metadata": {},
   "outputs": [],
   "source": []
  }
 ],
 "metadata": {
  "kernelspec": {
   "display_name": "Python 3",
   "language": "python",
   "name": "python3"
  },
  "language_info": {
   "codemirror_mode": {
    "name": "ipython",
    "version": 3
   },
   "file_extension": ".py",
   "mimetype": "text/x-python",
   "name": "python",
   "nbconvert_exporter": "python",
   "pygments_lexer": "ipython3",
   "version": "3.6.5"
  }
 },
 "nbformat": 4,
 "nbformat_minor": 4
}
