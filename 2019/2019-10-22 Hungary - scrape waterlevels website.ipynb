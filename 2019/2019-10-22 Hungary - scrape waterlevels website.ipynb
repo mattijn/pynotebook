{
 "cells": [
  {
   "cell_type": "code",
   "execution_count": null,
   "metadata": {},
   "outputs": [],
   "source": [
    "import requests\n",
    "from hkvfewspy.utils import untangle\n",
    "import pandas as pd"
   ]
  },
  {
   "cell_type": "code",
   "execution_count": null,
   "metadata": {},
   "outputs": [],
   "source": [
    "url_locations = 'http://edukovizig.hu/map/eduvizig_allomaspontok.php?vizigkod=1'"
   ]
  },
  {
   "cell_type": "code",
   "execution_count": null,
   "metadata": {},
   "outputs": [],
   "source": [
    "r = requests.get(url_locations)\n",
    "r.encoding = r.apparent_encoding\n",
    "u = untangle.parse_raw(r.text)"
   ]
  },
  {
   "cell_type": "code",
   "execution_count": null,
   "metadata": {},
   "outputs": [],
   "source": [
    "d_list = []\n",
    "for marker in u.markers.marker:\n",
    "    m = marker\n",
    "    d = {\n",
    "        'name':m['nev'], \n",
    "        'lat':float(m['lat']), \n",
    "        'lon':float(m['lng']), \n",
    "        'id':m['voa'], \n",
    "        'stream':m['viznev'], \n",
    "        'zero_level_mBf':float(m['nullpont']), \n",
    "        'threshold_1_cm':float(m['fok1']), \n",
    "        'threshold_2_cm':float(m['fok2']), \n",
    "        'threshold_3_cm':float(m['fok3']),\n",
    "        'min_waterlevel_cm':float(m['lkv']),\n",
    "        'max_waterlevel_cm':float(m['lnv']),    \n",
    "        'river_km':m['folyamkm'],\n",
    "        'waterlevel_cm':float(m['vizallas'])\n",
    "    }\n",
    "    d_list.append(d)"
   ]
  },
  {
   "cell_type": "code",
   "execution_count": null,
   "metadata": {},
   "outputs": [],
   "source": [
    "df = pd.DataFrame(d_list)\n",
    "df.head()"
   ]
  },
  {
   "cell_type": "code",
   "execution_count": null,
   "metadata": {},
   "outputs": [],
   "source": [
    "import geopandas"
   ]
  },
  {
   "cell_type": "code",
   "execution_count": null,
   "metadata": {},
   "outputs": [],
   "source": [
    "gdf = geopandas.GeoDataFrame(df, geometry=geopandas.points_from_xy(df.lon, df.lat))"
   ]
  },
  {
   "cell_type": "code",
   "execution_count": null,
   "metadata": {},
   "outputs": [],
   "source": [
    "gdf.to_file(r'D:\\Projects\\Pr\\2505.12\\Eduvizig\\Sensor stations (waterstandlocaties)//stations.shp')"
   ]
  },
  {
   "cell_type": "code",
   "execution_count": null,
   "metadata": {},
   "outputs": [],
   "source": [
    "df.tail()"
   ]
  },
  {
   "cell_type": "code",
   "execution_count": null,
   "metadata": {},
   "outputs": [],
   "source": [
    "for idx, id_voa in enumerate(df.id):\n",
    "    print(id_voa)\n",
    "    url_loc = 'http://edukovizig.hu/map/export.php?voa={}'.format(id_voa) \n",
    "    r = requests.get(url_loc)\n",
    "\n",
    "    with open(\"location_id_{}.csv\".format(id_voa), \"w\") as f:\n",
    "        try:\n",
    "            r.encoding = r.apparent_encoding            \n",
    "            f.write(r.text)\n",
    "        except:\n",
    "            try:\n",
    "                r.encoding = 'utf-8'\n",
    "                f.write(r.text)\n",
    "            except:\n",
    "                print('failed: {}'.format(id_voa))\n",
    "                continue"
   ]
  },
  {
   "cell_type": "code",
   "execution_count": null,
   "metadata": {},
   "outputs": [],
   "source": []
  }
 ],
 "metadata": {
  "kernelspec": {
   "display_name": "Python 3",
   "language": "python",
   "name": "python3"
  },
  "language_info": {
   "codemirror_mode": {
    "name": "ipython",
    "version": 3
   },
   "file_extension": ".py",
   "mimetype": "text/x-python",
   "name": "python",
   "nbconvert_exporter": "python",
   "pygments_lexer": "ipython3",
   "version": "3.6.5"
  }
 },
 "nbformat": 4,
 "nbformat_minor": 4
}
