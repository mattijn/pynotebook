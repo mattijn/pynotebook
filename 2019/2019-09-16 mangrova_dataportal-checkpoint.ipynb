{
 "cells": [
  {
   "cell_type": "code",
   "execution_count": 116,
   "metadata": {},
   "outputs": [],
   "source": [
    "# server test\n",
    "\n",
    "import zeep\n",
    "#client = zeep.Client(wsdl='http://localhost/mangrove.ws/entry.asmx?WSDL')\n",
    "client = zeep.Client(wsdl='https://tsws.hkvservices.nl/mangrove.ws/entry.asmx?WSDL')\n",
    "#client.wsdl.dump()"
   ]
  },
  {
   "cell_type": "code",
   "execution_count": 126,
   "metadata": {},
   "outputs": [],
   "source": [
    "# constante parameters\n",
    "\n",
    "database = 'demo'\n",
    "uid = '236ebLIeCDdnKbfGe956IvZetIv1'\n",
    "#some_url = r\"http://localhost/mangrove.ws/entry.asmx/Call?\"\n",
    "some_url = r\"https://tsws.hkvservices.nl/mangrove.ws/entry.asmx/Call?\""
   ]
  },
  {
   "cell_type": "code",
   "execution_count": 127,
   "metadata": {},
   "outputs": [
    {
     "data": {
      "text/plain": [
       "'{ \"database\": \"demo\",\"version\": \"0.3.0.0\",\"date\": \"2019-09-17 07:25:21\"}'"
      ]
     },
     "execution_count": 127,
     "metadata": {},
     "output_type": "execute_result"
    }
   ],
   "source": [
    "# aanmaken van een database\n",
    "\n",
    "parameters = {\n",
    "    \"uid\": uid,\n",
    "    \"database\":database}\n",
    "\n",
    "payload = {'function':'dataportal.db.CreateDatabase','parameters':json.dumps(parameters)}\n",
    "           \n",
    "r = requests.get(some_url, payload)\n",
    "#r.json()\n",
    "r.text"
   ]
  },
  {
   "cell_type": "code",
   "execution_count": 128,
   "metadata": {},
   "outputs": [
    {
     "data": {
      "text/plain": [
       "{'database': 'demo', 'version': '0.3.0.0', 'date': '2019-09-17 07:25:21'}"
      ]
     },
     "execution_count": 128,
     "metadata": {},
     "output_type": "execute_result"
    }
   ],
   "source": [
    "# ophalen versie van de database\n",
    "\n",
    "parameters = {\"database\":database}\n",
    "\n",
    "payload = {'function':'dataportal.db.GetVersion','parameters':json.dumps(parameters)}\n",
    "           \n",
    "r = requests.get(some_url, payload)\n",
    "r.json()"
   ]
  },
  {
   "cell_type": "code",
   "execution_count": 129,
   "metadata": {},
   "outputs": [
    {
     "data": {
      "text/plain": [
       "<Response [200]>"
      ]
     },
     "execution_count": 129,
     "metadata": {},
     "output_type": "execute_result"
    }
   ],
   "source": [
    "# aanmaken entry met een image\n",
    "\n",
    "import requests\n",
    "import json\n",
    "from zeep import Client, Settings\n",
    "\n",
    "settings = Settings(strict=False,raw_response=True)\n",
    "#client = Client('http://localhost/mangrove.ws/entry.asmx?WSDL', settings=settings)\n",
    "client = Client('https://tsws.hkvservices.nl/mangrove.ws/entry.asmx?WSDL', settings=settings)\n",
    "\n",
    "bytes = open(r'D:\\rick.jpg', \"rb\").read() \n",
    "    \n",
    "parameters = {\n",
    "    \"uid\": uid,\n",
    "    \"database\":database,\n",
    "    \"key\":\"imagetest\",\n",
    "    \"description\":\"test data\"}\n",
    "\n",
    "zeep_out = client.service.CallBytes(function=\"dataportal.db.createentry\", parameters=json.dumps(parameters), bytes=bytes)\n",
    "zeep_out\n",
    "\n",
    "## test\n",
    "#http://localhost/mangrove.ws/data.ashx?function=dataportal.db.getdata&parameters={database:'demo',key:'imagetest'}&contentType=image/png\n",
    "#https://tsws.hkvservices.nl/mangrove.ws/data.ashx?function=dataportal.db.getdata&parameters={database:'demo',key:'imagetest'}&contentType=image/png"
   ]
  },
  {
   "cell_type": "code",
   "execution_count": 130,
   "metadata": {},
   "outputs": [
    {
     "data": {
      "text/plain": [
       "<Response [200]>"
      ]
     },
     "execution_count": 130,
     "metadata": {},
     "output_type": "execute_result"
    }
   ],
   "source": [
    "# update entry met een image\n",
    "\n",
    "import requests\n",
    "import json\n",
    "from zeep import Client, Settings\n",
    "\n",
    "settings = Settings(strict=False,raw_response=True)\n",
    "#client = Client('http://localhost/mangrove.ws/entry.asmx?WSDL', settings=settings)\n",
    "client = Client('https://tsws.hkvservices.nl/mangrove.ws/entry.asmx?WSDL', settings=settings)\n",
    "\n",
    "bytes = open(r'D:\\funny.jpg', \"rb\").read() \n",
    "    \n",
    "parameters = {\n",
    "    \"uid\": uid,\n",
    "    \"database\":database,\n",
    "    \"key\":\"imagetest\",\n",
    "    \"description\":\"test data\"}\n",
    "\n",
    "zeep_out = client.service.CallBytes(function=\"dataportal.db.UpdateEntry\", parameters=json.dumps(parameters), bytes=bytes)\n",
    "zeep_out\n",
    "\n",
    "## test\n",
    "#https://tsws.hkvservices.nl/mangrove.ws/data.ashx?function=dataportal.db.getdata&parameters={database:'demo',key:'imagetest'}&contentType=image/png"
   ]
  },
  {
   "cell_type": "code",
   "execution_count": 146,
   "metadata": {},
   "outputs": [
    {
     "data": {
      "text/plain": [
       "<Response [200]>"
      ]
     },
     "execution_count": 146,
     "metadata": {},
     "output_type": "execute_result"
    }
   ],
   "source": [
    "# aanmaken entry met json data via bytes aanroep (CallBytes)\n",
    "\n",
    "import requests\n",
    "import json\n",
    "from zeep import Client, Settings\n",
    "\n",
    "settings = Settings(strict=False,raw_response=True)\n",
    "#client = Client('http://localhost/mangrove.ws/entry.asmx?WSDL', settings=settings)\n",
    "client = Client('https://tsws.hkvservices.nl/mangrove.ws/entry.asmx?WSDL', settings=settings)\n",
    "\n",
    "data = [{'name': 'piet', 'age': 21}]\n",
    "bytes = json.dumps(data).encode('utf-8')\n",
    "    \n",
    "parameters = {\n",
    "    \"uid\": uid,\n",
    "    \"database\":database,\n",
    "    \"key\":\"jsontest\",\n",
    "    \"description\":\"test data\"}\n",
    "\n",
    "zeep_out = client.service.CallBytes(function=\"dataportal.db.createentry\", parameters=json.dumps(parameters), bytes=bytes)\n",
    "zeep_out\n",
    "\n",
    "## test\n",
    "#https://tsws.hkvservices.nl/mangrove.ws/data.ashx?function=dataportal.db.getdata&parameters={database:'demo',key:'jsontest'}&contentType=text/plain\n"
   ]
  },
  {
   "cell_type": "code",
   "execution_count": 143,
   "metadata": {},
   "outputs": [
    {
     "data": {
      "text/plain": [
       "{}"
      ]
     },
     "execution_count": 143,
     "metadata": {},
     "output_type": "execute_result"
    }
   ],
   "source": [
    "# ophalen entry data via standaard Mangrove aanroep (Call)\n",
    "\n",
    "parameters = {\"database\":database, \"key\":\"jsontest\"}\n",
    "\n",
    "payload = {'function':'dataportal.db.ReadEntry','parameters':json.dumps(parameters)}\n",
    "           \n",
    "r = requests.get(some_url, payload)\n",
    "r.text\n",
    "r.json()"
   ]
  },
  {
   "cell_type": "code",
   "execution_count": 140,
   "metadata": {},
   "outputs": [
    {
     "data": {
      "text/plain": [
       "{'database': 'demo', 'version': '0.3.0.0', 'recordsaffected': '1'}"
      ]
     },
     "execution_count": 140,
     "metadata": {},
     "output_type": "execute_result"
    }
   ],
   "source": [
    "# update bestaande entry met json data via standaard Mangrove aanroep (Call)\n",
    "\n",
    "import requests\n",
    "import ast\n",
    "import json\n",
    "\n",
    "data = [{'name': 'piet', 'age': 21},{'name': 'klaas', 'age': 24}]\n",
    "parameters = {\n",
    "    \"uid\": uid,\n",
    "    \"data\": data,\n",
    "    \"database\":database,\n",
    "    \"key\":\"jsontest\",\n",
    "    \"description\":\"nieuwe data\"}\n",
    "\n",
    "payload = {'function':'dataportal.db.UpdateEntry','parameters':json.dumps(parameters)}\n",
    "           \n",
    "r = requests.get(some_url, payload)\n",
    "r.json()"
   ]
  },
  {
   "cell_type": "code",
   "execution_count": 142,
   "metadata": {},
   "outputs": [
    {
     "data": {
      "text/plain": [
       "{'database': 'demo', 'version': '0.3.0.0', 'recordsaffected': '1'}"
      ]
     },
     "execution_count": 142,
     "metadata": {},
     "output_type": "execute_result"
    }
   ],
   "source": [
    "# ophalen entry data\n",
    "\n",
    "parameters = {\n",
    "    \"uid\": uid,\n",
    "    \"database\":database, \n",
    "    \"key\":\"jsontest\"}\n",
    "\n",
    "payload = {'function':'dataportal.db.DeleteEntry','parameters':json.dumps(parameters)}\n",
    "           \n",
    "r = requests.get(some_url, payload)\n",
    "\n",
    "r.json()"
   ]
  },
  {
   "cell_type": "code",
   "execution_count": 144,
   "metadata": {},
   "outputs": [
    {
     "data": {
      "text/plain": [
       "[{'id': '38867e3c-773c-4581-91e1-55e2e662bd94',\n",
       "  'key': 'imagetest',\n",
       "  'date': '2019-09-17 07:26:25',\n",
       "  'description': 'test data'}]"
      ]
     },
     "execution_count": 144,
     "metadata": {},
     "output_type": "execute_result"
    }
   ],
   "source": [
    "# ophalen entrylist (was list) via standaard Mangrove aanroep (Call)\n",
    "\n",
    "parameters = {\"database\":database}\n",
    "\n",
    "payload = {'function':'dataportal.db.GetEntries','parameters':json.dumps(parameters)}\n",
    "           \n",
    "r = requests.get(some_url, payload)\n",
    "#r.text\n",
    "r.json()"
   ]
  },
  {
   "cell_type": "code",
   "execution_count": 145,
   "metadata": {},
   "outputs": [
    {
     "data": {
      "text/plain": [
       "{'database': 'demo',\n",
       " 'version': '0.3.0.0',\n",
       " 'date': '2019-09-17 07:25:21',\n",
       " 'data': [{'id': '38867e3c-773c-4581-91e1-55e2e662bd94',\n",
       "   'key': 'imagetest',\n",
       "   'date': '2019-09-17 07:26:25',\n",
       "   'description': 'test data'}]}"
      ]
     },
     "execution_count": 145,
     "metadata": {},
     "output_type": "execute_result"
    }
   ],
   "source": [
    "# ophalen entrylist (was list) via standaard Mangrove aanroep (Call)\n",
    "\n",
    "parameters = {\"database\":database}\n",
    "\n",
    "payload = {'function':'dataportal.db.GetInfo','parameters':json.dumps(parameters)}\n",
    "           \n",
    "r = requests.get(some_url, payload)\n",
    "#r.text\n",
    "r.json()"
   ]
  }
 ],
 "metadata": {
  "kernelspec": {
   "display_name": "Python 3",
   "language": "python",
   "name": "python3"
  },
  "language_info": {
   "codemirror_mode": {
    "name": "ipython",
    "version": 3
   },
   "file_extension": ".py",
   "mimetype": "text/x-python",
   "name": "python",
   "nbconvert_exporter": "python",
   "pygments_lexer": "ipython3",
   "version": "3.7.1"
  }
 },
 "nbformat": 4,
 "nbformat_minor": 4
}
