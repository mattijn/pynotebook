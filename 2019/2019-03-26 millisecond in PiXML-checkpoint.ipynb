{
 "cells": [
  {
   "cell_type": "code",
   "execution_count": 1,
   "metadata": {},
   "outputs": [],
   "source": [
    "import pandas as pd\n",
    "import hkvfewspy"
   ]
  },
  {
   "cell_type": "markdown",
   "metadata": {},
   "source": [
    "## Import CSV as DataFrame and show the DateTimeIndex"
   ]
  },
  {
   "cell_type": "code",
   "execution_count": 2,
   "metadata": {},
   "outputs": [
    {
     "data": {
      "text/html": [
       "<div>\n",
       "<style scoped>\n",
       "    .dataframe tbody tr th:only-of-type {\n",
       "        vertical-align: middle;\n",
       "    }\n",
       "\n",
       "    .dataframe tbody tr th {\n",
       "        vertical-align: top;\n",
       "    }\n",
       "\n",
       "    .dataframe thead th {\n",
       "        text-align: right;\n",
       "    }\n",
       "</style>\n",
       "<table border=\"1\" class=\"dataframe\">\n",
       "  <thead>\n",
       "    <tr style=\"text-align: right;\">\n",
       "      <th></th>\n",
       "      <th>value</th>\n",
       "    </tr>\n",
       "  </thead>\n",
       "  <tbody>\n",
       "    <tr>\n",
       "      <th>2019-02-15 09:00:11.250</th>\n",
       "      <td>-1.68</td>\n",
       "    </tr>\n",
       "    <tr>\n",
       "      <th>2019-02-15 09:00:11.500</th>\n",
       "      <td>-1.63</td>\n",
       "    </tr>\n",
       "    <tr>\n",
       "      <th>2019-02-15 09:00:11.750</th>\n",
       "      <td>-1.73</td>\n",
       "    </tr>\n",
       "    <tr>\n",
       "      <th>2019-02-15 09:00:12.000</th>\n",
       "      <td>-1.78</td>\n",
       "    </tr>\n",
       "    <tr>\n",
       "      <th>2019-02-15 09:00:12.250</th>\n",
       "      <td>-1.78</td>\n",
       "    </tr>\n",
       "  </tbody>\n",
       "</table>\n",
       "</div>"
      ],
      "text/plain": [
       "                         value\n",
       "2019-02-15 09:00:11.250  -1.68\n",
       "2019-02-15 09:00:11.500  -1.63\n",
       "2019-02-15 09:00:11.750  -1.73\n",
       "2019-02-15 09:00:12.000  -1.78\n",
       "2019-02-15 09:00:12.250  -1.78"
      ]
     },
     "execution_count": 2,
     "metadata": {},
     "output_type": "execute_result"
    }
   ],
   "source": [
    "csv_in = r\"D:\\Projects\\Pr\\3916.10\\Werkmap\\csv_fractional_seconds.csv\"\n",
    "df = pd.read_csv(csv_in, index_col=0, parse_dates=True)\n",
    "df.head()"
   ]
  },
  {
   "cell_type": "code",
   "execution_count": 3,
   "metadata": {},
   "outputs": [
    {
     "data": {
      "text/plain": [
       "DatetimeIndex(['2019-02-15 09:00:11.250000', '2019-02-15 09:00:11.500000',\n",
       "               '2019-02-15 09:00:11.750000',        '2019-02-15 09:00:12',\n",
       "               '2019-02-15 09:00:12.250000'],\n",
       "              dtype='datetime64[ns]', freq=None)"
      ]
     },
     "execution_count": 3,
     "metadata": {},
     "output_type": "execute_result"
    }
   ],
   "source": [
    "df.index[0:5]"
   ]
  },
  {
   "cell_type": "markdown",
   "metadata": {},
   "source": [
    "## Convert to PiXML object"
   ]
  },
  {
   "cell_type": "code",
   "execution_count": 4,
   "metadata": {},
   "outputs": [],
   "source": [
    "pi = hkvfewspy.Pi() \n",
    "\n",
    "# create pi-timeseries object\n",
    "pi_ts = pi.setPiTimeSeries()\n",
    "\n",
    "# set a header object\n",
    "pi_ts.write.header.moduleInstanceId('ruw_ongevalideerd_STB')\n",
    "pi_ts.write.header.locationId('FL65')\n",
    "pi_ts.write.header.parameterId('H.w.0')\n",
    "pi_ts.write.header.missVal(-9999)\n",
    "\n",
    "# set an events object (pandas.Series or pandas.DataFrame)\n",
    "pi_ts.write.events(df)\n",
    "pi_ts_xml = pi_ts.to.pi_xml()"
   ]
  },
  {
   "cell_type": "code",
   "execution_count": 5,
   "metadata": {},
   "outputs": [
    {
     "name": "stdout",
     "output_type": "stream",
     "text": [
      "<?xml version=\"1.0\" ?>\n",
      "<TimeSeries version=\"1.22\" xmlns=\"http://www.wldelft.nl/fews/PI\" xmlns:xsi=\"http://www.w3.org/2001/XMLSchema-instance\" xsi:schemaLocation=\"http://www.wldelft.nl/fews/PI http://fews.wldelft.nl/schemas/version1.0/pi-schemas/pi_timeseries.xsd\">\n",
      "  <timeZone>0.0</timeZone>\n",
      "  <series>\n",
      "    <header>\n",
      "      <type>instantaneous</type>\n",
      "      <moduleInstanceId>ruw_ongevalideerd_STB</moduleInstanceId>\n",
      "      <locationId>FL65</locationId>\n",
      "      <parameterId>H.w.0</parameterId>\n",
      "      <missVal>-9999</missVal>\n",
      "    </header>\n",
      "    <properties/>\n",
      "    <event date=\"2019-02-15\" time=\"09:00:11.250\" value=\"-1.6800000000000002\"/>\n",
      "    <event date=\"2019-02-15\" time=\"09:00:11.500\" value=\"-1.63\"/>\n",
      "    <event date=\"2019-02-15\" time=\"09:00:11.750\" value=\"-1.73\"/>\n",
      "    <event date=\"2019-02-15\" time=\"09:00:12.000\" value=\"-1.78\"/>\n",
      "    <event date=\"2019-02-15\" time=\"09:00:12.250\" value=\"-1.78\"/>\n",
      "    <event date=\"2019-02-15\" time=\"09:00:12.500\" value=\"-1.78\"/>\n",
      "    <event date=\"2019-02-15\" time=\"09:00:12.750\" value=\"-1.73\"/>\n",
      "    <event date=\"2019-02-15\" time=\"09:00:13.000\" value=\"-1.73\"/>\n",
      "    <event date=\"2019-02-15\" time=\"09:00:13.250\" value=\"-1.73\"/>\n",
      "    <event date=\"2019-02-15\" time=\"09:00:13.500\" value=\"-1.6800000000000002\"/>\n",
      "    <event date=\"2019-02-15\" time=\"09:00:13.750\" value=\"-1.73\"/>\n",
      "    <event date=\"2019-02-15\" time=\"09:00:14.000\" value=\"-1.73\"/>\n",
      "    <event date=\"2019-02-15\" time=\"09:00:14.250\" value=\"-1.73\"/>\n",
      "    <event date=\"2019-02-15\" time=\"09:00:14.500\" value=\"-1.78\"/>\n",
      "    <event date=\"2019-02-15\" time=\"09:00:14.750\" value=\"-1.78\"/>\n",
      "    <event date=\"2019-02-15\" time=\"09:00:15.000\" value=\"-1.78\"/>\n",
      "    <event date=\"2019-02-15\" time=\"09:00:15.250\" value=\"-1.73\"/>\n",
      "  </series>\n",
      "</TimeSeries>\n",
      "\n"
     ]
    }
   ],
   "source": [
    "print(pi_ts_xml)"
   ]
  },
  {
   "cell_type": "code",
   "execution_count": 6,
   "metadata": {},
   "outputs": [],
   "source": [
    "xml_out = r\"D:\\Projects\\Pr\\3916.10\\Werkmap\\xml_fractional_seconds.xml\"\n",
    "with open(xml_out, \"w\") as text_file:\n",
    "    print(pi_ts_xml, file=text_file)"
   ]
  },
  {
   "cell_type": "markdown",
   "metadata": {},
   "source": [
    "## Connect to FewsPiService and push the PiXML into FEWS"
   ]
  },
  {
   "cell_type": "code",
   "execution_count": 7,
   "metadata": {},
   "outputs": [
    {
     "name": "stdout",
     "output_type": "stream",
     "text": [
      "External time series successfully mapped to FEWS time series FL65 H.w.0   nonequidistant\n",
      "1 time series imported, 0 time series rejected\n",
      "The following locations-parameter combination imported  FL65:H.w.0\n"
     ]
    }
   ],
   "source": [
    "pi.setClient(wsdl='https://db.dmhoutribdijk.nl/FewsWebServices/fewspiservice?wsdl')\n",
    "\n",
    "pi.putTimeSeriesForFilter(\n",
    "   filterId='f_ruw_ongevalideerd.STB', \n",
    "   piTimeSeriesXmlContent=pi_ts_xml\n",
    ")"
   ]
  },
  {
   "cell_type": "markdown",
   "metadata": {},
   "source": [
    "## Check the result by querying the FEWSPiService"
   ]
  },
  {
   "cell_type": "code",
   "execution_count": 8,
   "metadata": {},
   "outputs": [],
   "source": [
    "query = pi.setQueryParameters(prefill_defaults=True)"
   ]
  },
  {
   "cell_type": "code",
   "execution_count": 9,
   "metadata": {},
   "outputs": [],
   "source": [
    "query.parameterIds(['H.w.0'])\n",
    "query.moduleInstanceIds(['ruw_ongevalideerd_STB'])\n",
    "query.locationIds(['FL65'])\n",
    "query.startTime(pd.datetime(2019,2,15,9,0,11,250)) \n",
    "query.endTime(pd.datetime(2019,2,15,9,0, 15,250))"
   ]
  },
  {
   "cell_type": "code",
   "execution_count": 10,
   "metadata": {},
   "outputs": [
    {
     "data": {
      "text/plain": [
       "{'clientTimeZone': 'Etc/GMT',\n",
       " 'convertDatum': False,\n",
       " 'forecastSearchCount': 0,\n",
       " 'importFromExternalDataSource': False,\n",
       " 'omitMissing': False,\n",
       " 'onlyHeaders': False,\n",
       " 'onlyManualEdits': False,\n",
       " 'showEnsembleMemberIds': False,\n",
       " 'showLocationAttributes': False,\n",
       " 'showStatistics': False,\n",
       " 'showThresholds': False,\n",
       " 'useDisplayUnits': True,\n",
       " 'version': '1.22',\n",
       " 'parameterIds': ['H.w.0'],\n",
       " 'moduleInstanceIds': ['ruw_ongevalideerd_STB'],\n",
       " 'locationIds': ['FL65'],\n",
       " 'startTime': datetime.datetime(2019, 2, 15, 9, 0, 11, 250),\n",
       " 'endTime': datetime.datetime(2019, 2, 15, 9, 0, 15, 250)}"
      ]
     },
     "execution_count": 10,
     "metadata": {},
     "output_type": "execute_result"
    }
   ],
   "source": [
    "query.query"
   ]
  },
  {
   "cell_type": "code",
   "execution_count": 11,
   "metadata": {},
   "outputs": [
    {
     "name": "stdout",
     "output_type": "stream",
     "text": [
      "<?xml version=\"1.0\" encoding=\"UTF-8\"?>\n",
      "<TimeSeries xmlns=\"http://www.wldelft.nl/fews/PI\" xmlns:xsi=\"http://www.w3.org/2001/XMLSchema-instance\" xsi:schemaLocation=\"http://www.wldelft.nl/fews/PI http://fews.wldelft.nl/schemas/version1.0/pi-schemas/pi_timeseries.xsd\" version=\"1.22\" xmlns:fs=\"http://www.wldelft.nl/fews/fs\">\n",
      "    <timeZone>0.0</timeZone>\n",
      "    <series>\n",
      "        <header>\n",
      "            <type>instantaneous</type>\n",
      "            <moduleInstanceId>ruw_ongevalideerd_STB</moduleInstanceId>\n",
      "            <locationId>FL65</locationId>\n",
      "            <parameterId>H.w.0</parameterId>\n",
      "            <timeStep unit=\"nonequidistant\"/>\n",
      "            <startDate date=\"2019-02-15\" time=\"09:00:11\"/>\n",
      "            <endDate date=\"2019-02-15\" time=\"09:00:15\"/>\n",
      "            <missVal>-999.0</missVal>\n",
      "            <stationName>FL65 Marker Wadden Zuiderstrand</stationName>\n",
      "            <lat>52.57262694703878</lat>\n",
      "            <lon>5.37282288109573</lon>\n",
      "            <x>154025.0</x>\n",
      "            <y>509448.0</y>\n",
      "            <units>mNAP</units>\n",
      "        </header>\n",
      "        <event date=\"2019-02-15\" time=\"09:00:11\" value=\"-1.73\" flag=\"0\"/>\n",
      "        <event date=\"2019-02-15\" time=\"09:00:12\" value=\"-1.73\" flag=\"0\"/>\n",
      "        <event date=\"2019-02-15\" time=\"09:00:13\" value=\"-1.73\" flag=\"0\"/>\n",
      "        <event date=\"2019-02-15\" time=\"09:00:14\" value=\"-1.78\" flag=\"0\"/>\n",
      "        <event date=\"2019-02-15\" time=\"09:00:15\" value=\"-1.73\" flag=\"0\"/>\n",
      "    </series>\n",
      "</TimeSeries>\n"
     ]
    }
   ],
   "source": [
    "df_get = pi.getTimeSeries(queryParameters=query, print_response=True)"
   ]
  },
  {
   "cell_type": "code",
   "execution_count": 12,
   "metadata": {},
   "outputs": [
    {
     "data": {
      "text/html": [
       "<div>\n",
       "<style scoped>\n",
       "    .dataframe tbody tr th:only-of-type {\n",
       "        vertical-align: middle;\n",
       "    }\n",
       "\n",
       "    .dataframe tbody tr th {\n",
       "        vertical-align: top;\n",
       "    }\n",
       "\n",
       "    .dataframe thead th {\n",
       "        text-align: right;\n",
       "    }\n",
       "</style>\n",
       "<table border=\"1\" class=\"dataframe\">\n",
       "  <thead>\n",
       "    <tr style=\"text-align: right;\">\n",
       "      <th></th>\n",
       "      <th>moduleInstanceId</th>\n",
       "      <th>qualifierId</th>\n",
       "      <th>parameterId</th>\n",
       "      <th>units</th>\n",
       "      <th>locationId</th>\n",
       "      <th>stationName</th>\n",
       "      <th>flag</th>\n",
       "      <th>value</th>\n",
       "    </tr>\n",
       "    <tr>\n",
       "      <th>date</th>\n",
       "      <th></th>\n",
       "      <th></th>\n",
       "      <th></th>\n",
       "      <th></th>\n",
       "      <th></th>\n",
       "      <th></th>\n",
       "      <th></th>\n",
       "      <th></th>\n",
       "    </tr>\n",
       "  </thead>\n",
       "  <tbody>\n",
       "    <tr>\n",
       "      <th>2019-02-15 09:00:11+00:00</th>\n",
       "      <td>ruw_ongevalideerd_STB</td>\n",
       "      <td></td>\n",
       "      <td>H.w.0</td>\n",
       "      <td>mNAP</td>\n",
       "      <td>FL65</td>\n",
       "      <td>FL65 Marker Wadden Zuiderstrand</td>\n",
       "      <td>0</td>\n",
       "      <td>-1.73</td>\n",
       "    </tr>\n",
       "    <tr>\n",
       "      <th>2019-02-15 09:00:12+00:00</th>\n",
       "      <td>ruw_ongevalideerd_STB</td>\n",
       "      <td></td>\n",
       "      <td>H.w.0</td>\n",
       "      <td>mNAP</td>\n",
       "      <td>FL65</td>\n",
       "      <td>FL65 Marker Wadden Zuiderstrand</td>\n",
       "      <td>0</td>\n",
       "      <td>-1.73</td>\n",
       "    </tr>\n",
       "    <tr>\n",
       "      <th>2019-02-15 09:00:13+00:00</th>\n",
       "      <td>ruw_ongevalideerd_STB</td>\n",
       "      <td></td>\n",
       "      <td>H.w.0</td>\n",
       "      <td>mNAP</td>\n",
       "      <td>FL65</td>\n",
       "      <td>FL65 Marker Wadden Zuiderstrand</td>\n",
       "      <td>0</td>\n",
       "      <td>-1.73</td>\n",
       "    </tr>\n",
       "    <tr>\n",
       "      <th>2019-02-15 09:00:14+00:00</th>\n",
       "      <td>ruw_ongevalideerd_STB</td>\n",
       "      <td></td>\n",
       "      <td>H.w.0</td>\n",
       "      <td>mNAP</td>\n",
       "      <td>FL65</td>\n",
       "      <td>FL65 Marker Wadden Zuiderstrand</td>\n",
       "      <td>0</td>\n",
       "      <td>-1.78</td>\n",
       "    </tr>\n",
       "    <tr>\n",
       "      <th>2019-02-15 09:00:15+00:00</th>\n",
       "      <td>ruw_ongevalideerd_STB</td>\n",
       "      <td></td>\n",
       "      <td>H.w.0</td>\n",
       "      <td>mNAP</td>\n",
       "      <td>FL65</td>\n",
       "      <td>FL65 Marker Wadden Zuiderstrand</td>\n",
       "      <td>0</td>\n",
       "      <td>-1.73</td>\n",
       "    </tr>\n",
       "  </tbody>\n",
       "</table>\n",
       "</div>"
      ],
      "text/plain": [
       "                                moduleInstanceId qualifierId parameterId  \\\n",
       "date                                                                       \n",
       "2019-02-15 09:00:11+00:00  ruw_ongevalideerd_STB                   H.w.0   \n",
       "2019-02-15 09:00:12+00:00  ruw_ongevalideerd_STB                   H.w.0   \n",
       "2019-02-15 09:00:13+00:00  ruw_ongevalideerd_STB                   H.w.0   \n",
       "2019-02-15 09:00:14+00:00  ruw_ongevalideerd_STB                   H.w.0   \n",
       "2019-02-15 09:00:15+00:00  ruw_ongevalideerd_STB                   H.w.0   \n",
       "\n",
       "                          units locationId                      stationName  \\\n",
       "date                                                                          \n",
       "2019-02-15 09:00:11+00:00  mNAP       FL65  FL65 Marker Wadden Zuiderstrand   \n",
       "2019-02-15 09:00:12+00:00  mNAP       FL65  FL65 Marker Wadden Zuiderstrand   \n",
       "2019-02-15 09:00:13+00:00  mNAP       FL65  FL65 Marker Wadden Zuiderstrand   \n",
       "2019-02-15 09:00:14+00:00  mNAP       FL65  FL65 Marker Wadden Zuiderstrand   \n",
       "2019-02-15 09:00:15+00:00  mNAP       FL65  FL65 Marker Wadden Zuiderstrand   \n",
       "\n",
       "                          flag value  \n",
       "date                                  \n",
       "2019-02-15 09:00:11+00:00    0 -1.73  \n",
       "2019-02-15 09:00:12+00:00    0 -1.73  \n",
       "2019-02-15 09:00:13+00:00    0 -1.73  \n",
       "2019-02-15 09:00:14+00:00    0 -1.78  \n",
       "2019-02-15 09:00:15+00:00    0 -1.73  "
      ]
     },
     "execution_count": 12,
     "metadata": {},
     "output_type": "execute_result"
    }
   ],
   "source": [
    "df_get.head()"
   ]
  },
  {
   "cell_type": "code",
   "execution_count": 13,
   "metadata": {},
   "outputs": [
    {
     "data": {
      "text/plain": [
       "DatetimeIndex(['2019-02-15 09:00:11+00:00', '2019-02-15 09:00:12+00:00',\n",
       "               '2019-02-15 09:00:13+00:00', '2019-02-15 09:00:14+00:00',\n",
       "               '2019-02-15 09:00:15+00:00'],\n",
       "              dtype='datetime64[ns, Etc/GMT]', name='date', freq=None)"
      ]
     },
     "execution_count": 13,
     "metadata": {},
     "output_type": "execute_result"
    }
   ],
   "source": [
    "df_get.index"
   ]
  },
  {
   "cell_type": "code",
   "execution_count": null,
   "metadata": {},
   "outputs": [],
   "source": []
  },
  {
   "cell_type": "code",
   "execution_count": null,
   "metadata": {},
   "outputs": [],
   "source": []
  }
 ],
 "metadata": {
  "kernelspec": {
   "display_name": "Python 3",
   "language": "python",
   "name": "python3"
  },
  "language_info": {
   "codemirror_mode": {
    "name": "ipython",
    "version": 3
   },
   "file_extension": ".py",
   "mimetype": "text/x-python",
   "name": "python",
   "nbconvert_exporter": "python",
   "pygments_lexer": "ipython3",
   "version": "3.6.5"
  }
 },
 "nbformat": 4,
 "nbformat_minor": 2
}
