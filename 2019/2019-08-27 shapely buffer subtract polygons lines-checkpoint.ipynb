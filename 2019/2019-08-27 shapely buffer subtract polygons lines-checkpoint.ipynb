{
 "cells": [
  {
   "cell_type": "code",
   "execution_count": 2,
   "metadata": {},
   "outputs": [],
   "source": [
    "import shapely\n",
    "import geopandas as gpd\n",
    "%matplotlib inline"
   ]
  },
  {
   "cell_type": "code",
   "execution_count": 3,
   "metadata": {},
   "outputs": [],
   "source": [
    "boundary = gpd.read_file(r\"D:\\jupyter notebooks\\spelen\\van Johan\\data\\winterbedWBI2017.shp\")"
   ]
  },
  {
   "cell_type": "code",
   "execution_count": 5,
   "metadata": {},
   "outputs": [],
   "source": [
    "cascaded = boundary.geometry.cascaded_union"
   ]
  },
  {
   "cell_type": "code",
   "execution_count": 6,
   "metadata": {},
   "outputs": [],
   "source": [
    "lines = gpd.read_file(r\"D:\\jupyter notebooks\\spelen\\van Johan\\data\\hoogwatervrij_lijnen.shp\")\n",
    "buffer_lines = lines.geometry.buffer(0.5)"
   ]
  },
  {
   "cell_type": "code",
   "execution_count": 8,
   "metadata": {},
   "outputs": [],
   "source": [
    "vlakken = gpd.read_file(r\"D:\\jupyter notebooks\\spelen\\van Johan\\data\\hoogwatervrij_vlakken.shp\")\n",
    "geom_vlakken = vlakken.geometry"
   ]
  },
  {
   "cell_type": "code",
   "execution_count": 7,
   "metadata": {},
   "outputs": [
    {
     "data": {
      "text/plain": [
       "\u001b[1;31mType:\u001b[0m        GeoSeries\n",
       "\u001b[1;31mString form:\u001b[0m\n",
       "0     POLYGON ((151647.9658971565 422304.7372677604,...\n",
       "           1     POLYGON ((141133.0668264414 417498. <...> 12326 422681.702788421, ...\n",
       "           54    POLYGON ((118229.9686942877 419339.3450870814,...\n",
       "           dtype: object\n",
       "\u001b[1;31mLength:\u001b[0m      55\n",
       "\u001b[1;31mFile:\u001b[0m        c:\\programdata\\miniconda3\\lib\\site-packages\\geopandas\\geoseries.py\n",
       "\u001b[1;31mDocstring:\u001b[0m   A Series object designed to store shapely geometry objects.\n"
      ]
     },
     "metadata": {},
     "output_type": "display_data"
    }
   ],
   "source": [
    "?buffer_lines"
   ]
  },
  {
   "cell_type": "code",
   "execution_count": 14,
   "metadata": {},
   "outputs": [],
   "source": [
    "list_lines = [pol for pol in buffer_lines]\n",
    "list_vlakken = [pol for pol in geom_vlakken]"
   ]
  },
  {
   "cell_type": "code",
   "execution_count": 15,
   "metadata": {},
   "outputs": [],
   "source": [
    "holes = list_lines + list_vlakken"
   ]
  },
  {
   "cell_type": "code",
   "execution_count": 10,
   "metadata": {},
   "outputs": [],
   "source": [
    "from shapely import geometry"
   ]
  },
  {
   "cell_type": "code",
   "execution_count": 17,
   "metadata": {},
   "outputs": [],
   "source": [
    "polygon = geometry.Polygon(shell=cascaded.exterior.coords, holes=[hole.exterior.coords for hole in holes])"
   ]
  },
  {
   "cell_type": "code",
   "execution_count": 18,
   "metadata": {},
   "outputs": [
    {
     "data": {
      "text/plain": [
       "\u001b[1;31mType:\u001b[0m           Polygon\n",
       "\u001b[1;31mString form:\u001b[0m    POLYGON ((87356.68812068924 411457.265267903, 87346.2360839844 411452.1461181641, 87345.865478515 <...> .375, 150173.0780999996 426599.5625, 150172.9530999996 426603.25, 150182.2655999996 426603.6875))\n",
       "\u001b[1;31mFile:\u001b[0m           c:\\programdata\\miniconda3\\lib\\site-packages\\shapely\\geometry\\polygon.py\n",
       "\u001b[1;31mDocstring:\u001b[0m     \n",
       "A two-dimensional figure bounded by a linear ring\n",
       "\n",
       "A polygon has a non-zero area. It may have one or more negative-space\n",
       "\"holes\" which are also bounded by linear rings. If any rings cross each\n",
       "other, the feature is invalid and operations on it may fail.\n",
       "\n",
       "Attributes\n",
       "----------\n",
       "exterior : LinearRing\n",
       "    The ring which bounds the positive space of the polygon.\n",
       "interiors : sequence\n",
       "    A sequence of rings which bound all existing holes.\n",
       "\u001b[1;31mInit docstring:\u001b[0m\n",
       "Parameters\n",
       "----------\n",
       "shell : sequence\n",
       "    A sequence of (x, y [,z]) numeric coordinate pairs or triples\n",
       "holes : sequence\n",
       "    A sequence of objects which satisfy the same requirements as the\n",
       "    shell parameters above\n",
       "\n",
       "Example\n",
       "-------\n",
       "Create a square polygon with no holes\n",
       "\n",
       "  >>> coords = ((0., 0.), (0., 1.), (1., 1.), (1., 0.), (0., 0.))\n",
       "  >>> polygon = Polygon(coords)\n",
       "  >>> polygon.area\n",
       "  1.0\n"
      ]
     },
     "metadata": {},
     "output_type": "display_data"
    }
   ],
   "source": [
    "?polygon"
   ]
  },
  {
   "cell_type": "code",
   "execution_count": 20,
   "metadata": {},
   "outputs": [],
   "source": [
    "from shapely.geometry import mapping, Polygon\n",
    "import fiona\n",
    "\n",
    "# Here's an example Shapely geometry\n",
    "poly = Polygon([(0, 0), (0, 1), (1, 1), (0, 0)])\n",
    "\n",
    "# Define a polygon feature geometry with one attribute\n",
    "schema = {\n",
    "    'geometry': 'Polygon',\n",
    "    'properties': {'id': 'int'},\n",
    "}\n",
    "\n",
    "# Write a new Shapefile\n",
    "with fiona.open('my_shp3.shp', 'w', 'ESRI Shapefile', schema) as c:\n",
    "    ## If there are multiple geometries, put the \"for\" loop here\n",
    "    c.write({\n",
    "        'geometry': mapping(polygon),\n",
    "        'properties': {'id': 123},\n",
    "    })"
   ]
  },
  {
   "cell_type": "code",
   "execution_count": null,
   "metadata": {},
   "outputs": [],
   "source": []
  }
 ],
 "metadata": {
  "kernelspec": {
   "display_name": "Python 3",
   "language": "python",
   "name": "python3"
  },
  "language_info": {
   "codemirror_mode": {
    "name": "ipython",
    "version": 3
   },
   "file_extension": ".py",
   "mimetype": "text/x-python",
   "name": "python",
   "nbconvert_exporter": "python",
   "pygments_lexer": "ipython3",
   "version": "3.6.5"
  }
 },
 "nbformat": 4,
 "nbformat_minor": 4
}
