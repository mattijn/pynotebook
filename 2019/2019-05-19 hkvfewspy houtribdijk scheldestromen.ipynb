{
 "cells": [
  {
   "cell_type": "code",
   "execution_count": 1,
   "metadata": {},
   "outputs": [],
   "source": [
    "import hkvfewspy as hkv\n",
    "import pandas as pd"
   ]
  },
  {
   "cell_type": "code",
   "execution_count": 2,
   "metadata": {},
   "outputs": [],
   "source": [
    "pi = hkv.Pi(protocol='rest')\n",
    "url = 'https://db.dmhoutribdijk.nl/FewsWebServices/rest/fewspiservice/v1/'\n",
    "pi.setUrl(url=url)"
   ]
  },
  {
   "cell_type": "code",
   "execution_count": 4,
   "metadata": {},
   "outputs": [
    {
     "data": {
      "text/html": [
       "<div>\n",
       "<style scoped>\n",
       "    .dataframe tbody tr th:only-of-type {\n",
       "        vertical-align: middle;\n",
       "    }\n",
       "\n",
       "    .dataframe tbody tr th {\n",
       "        vertical-align: top;\n",
       "    }\n",
       "\n",
       "    .dataframe thead th {\n",
       "        text-align: right;\n",
       "    }\n",
       "</style>\n",
       "<table border=\"1\" class=\"dataframe\">\n",
       "  <thead>\n",
       "    <tr style=\"text-align: right;\">\n",
       "      <th></th>\n",
       "      <th>f_ruw_ongevalideerd_ADC</th>\n",
       "      <th>f_ruw_ongevalideerd_ADV</th>\n",
       "      <th>f_ruw_ongevalideerd_ALT</th>\n",
       "    </tr>\n",
       "  </thead>\n",
       "  <tbody>\n",
       "    <tr>\n",
       "      <th>id</th>\n",
       "      <td>f_ruw_ongevalideerd.ADC</td>\n",
       "      <td>f_ruw_ongevalideerd.ADV</td>\n",
       "      <td>f_ruw_ongevalideerd.ALT</td>\n",
       "    </tr>\n",
       "    <tr>\n",
       "      <th>name</th>\n",
       "      <td>ADC</td>\n",
       "      <td>ADV</td>\n",
       "      <td>ALT</td>\n",
       "    </tr>\n",
       "  </tbody>\n",
       "</table>\n",
       "</div>"
      ],
      "text/plain": [
       "      f_ruw_ongevalideerd_ADC  f_ruw_ongevalideerd_ADV  \\\n",
       "id    f_ruw_ongevalideerd.ADC  f_ruw_ongevalideerd.ADV   \n",
       "name                      ADC                      ADV   \n",
       "\n",
       "      f_ruw_ongevalideerd_ALT  \n",
       "id    f_ruw_ongevalideerd.ALT  \n",
       "name                      ALT  "
      ]
     },
     "execution_count": 4,
     "metadata": {},
     "output_type": "execute_result"
    }
   ],
   "source": [
    "filters = pi.getFilters()\n",
    "filters.iloc[:,0:3]"
   ]
  },
  {
   "cell_type": "code",
   "execution_count": null,
   "metadata": {},
   "outputs": [],
   "source": []
  }
 ],
 "metadata": {
  "kernelspec": {
   "display_name": "Python 3",
   "language": "python",
   "name": "python3"
  },
  "language_info": {
   "codemirror_mode": {
    "name": "ipython",
    "version": 3
   },
   "file_extension": ".py",
   "mimetype": "text/x-python",
   "name": "python",
   "nbconvert_exporter": "python",
   "pygments_lexer": "ipython3",
   "version": "3.6.5"
  }
 },
 "nbformat": 4,
 "nbformat_minor": 4
}
