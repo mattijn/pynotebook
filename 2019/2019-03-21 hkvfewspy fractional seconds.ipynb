{
 "cells": [
  {
   "cell_type": "code",
   "execution_count": 1,
   "metadata": {},
   "outputs": [],
   "source": [
    "import pandas as pd\n",
    "import csv\n",
    "import re\n",
    "import hkvfewspy\n",
    "import numpy as np\n",
    "from datetime import datetime"
   ]
  },
  {
   "cell_type": "markdown",
   "metadata": {},
   "source": [
    "## Data wrangling"
   ]
  },
  {
   "cell_type": "code",
   "execution_count": 12,
   "metadata": {},
   "outputs": [],
   "source": [
    "# Create a dictionary with all the pathnames of the different instruments. We will only use the data file of the ALT instrument.\n",
    "with open(r\"D:\\Projects\\Pr\\3916.10\\Toeleveringen\\Pathnames.csv\", 'r') as f:\n",
    "    reader = csv.reader(f)\n",
    "    mydict = {}\n",
    "    for row in reader:\n",
    "        i, j = row\n",
    "        mydict[i] = j\n",
    "\n",
    "# Select the path of the file        \n",
    "#path = mydict['STB']\n",
    "path = r\"D:\\Projects\\Pr\\3916.10\\Toeleveringen\\STB_FL65_1902150941.dat\"\n",
    "# And get the name of the file: in future versions a script can be generated which handles all files\n",
    "file = path.split('\\\\')[-1]\n",
    "\n",
    "# From the file, search for the name of the instrument and the location\n",
    "instrument = re.search('(.*)_FL', file).group(1)\n",
    "location = re.search('{}_(.*)_'.format(instrument), file).group(1)\n",
    "\n",
    "### METADATA: level n+NAP of 0 scale STB\n",
    "locations = ['FL65', 'FL66', 'FL67', 'FL68', 'FL69', 'FL70'] \n",
    "STB_z0 = [-1.58, -1.51, -1.46, np.nan, -1.45, -1.65] # from file 190220 LakeSIDE Inmeting Meetpalen\n",
    "z0 = dict(zip(locations, STB_z0)) \n",
    "\n",
    "### LOAD THE DATA AND CREATE A NICE DATAFRAME ###   \n",
    "\n",
    "# Column names\n",
    "colnames = ['TIMESTAMP','RECORD','EtroLevel']\n",
    "# Create a dataframe of the data file (use the column names and skip the first 4 rows)        \n",
    "df = pd.read_csv(path, names=colnames, header=None, skiprows = 4)\n",
    "\n",
    "# DUMMY CODE\n",
    "df['H_w_0'] = pd.to_numeric(df['EtroLevel'],errors='NAN')/100+z0[location]\n",
    "# DUMMY CODE\n",
    "\n",
    "# Subtract the year, month, day, time from the column 'TIME' and store in columns as integer\n",
    "df['YEAR'] = pd.to_numeric(df['TIMESTAMP'].str.slice(0,4))\n",
    "df['MONTH'] = pd.to_numeric(df['TIMESTAMP'].str.slice(5,7))\n",
    "df['DAY'] = pd.to_numeric(df['TIMESTAMP'].str.slice(8,10))\n",
    "df['HOUR'] = pd.to_numeric(df['TIMESTAMP'].str.slice(11,13))\n",
    "df['MINUTE'] = pd.to_numeric(df['TIMESTAMP'].str.slice(14,16))\n",
    "df['SECOND'] = pd.to_numeric(df['TIMESTAMP'].str.slice(17,22))\n",
    "\n",
    "# Create a column with the datetime\n",
    "df['DATETIME'] = pd.to_datetime(df.loc[:,['YEAR', 'MONTH', 'DAY', 'HOUR', 'MINUTE', 'SECOND']])\n",
    "# Use the datetime as the index of the dataframe\n",
    "df.index = df.pop('DATETIME')\n",
    "# Delete the columns 'TIME', 'YEAR', 'MONTH', etc\n",
    "df.drop(['TIMESTAMP', 'YEAR', 'MONTH', 'DAY', 'HOUR', 'MINUTE', 'SECOND','EtroLevel','RECORD'], axis=1, inplace=True)\n",
    "\n",
    "# SET NAN to -9999\n",
    "df.fillna(-9999, inplace=True)\n",
    "df = df.head(17)"
   ]
  },
  {
   "cell_type": "code",
   "execution_count": 14,
   "metadata": {},
   "outputs": [],
   "source": [
    "df.to_csv(r\"D:\\Projects\\Pr\\3916.10\\Werkmap//csv_fractional_seconds.csv\", index=True)"
   ]
  },
  {
   "cell_type": "code",
   "execution_count": 13,
   "metadata": {},
   "outputs": [
    {
     "data": {
      "text/html": [
       "<div>\n",
       "<style scoped>\n",
       "    .dataframe tbody tr th:only-of-type {\n",
       "        vertical-align: middle;\n",
       "    }\n",
       "\n",
       "    .dataframe tbody tr th {\n",
       "        vertical-align: top;\n",
       "    }\n",
       "\n",
       "    .dataframe thead th {\n",
       "        text-align: right;\n",
       "    }\n",
       "</style>\n",
       "<table border=\"1\" class=\"dataframe\">\n",
       "  <thead>\n",
       "    <tr style=\"text-align: right;\">\n",
       "      <th></th>\n",
       "      <th>H_w_0</th>\n",
       "    </tr>\n",
       "    <tr>\n",
       "      <th>DATETIME</th>\n",
       "      <th></th>\n",
       "    </tr>\n",
       "  </thead>\n",
       "  <tbody>\n",
       "    <tr>\n",
       "      <th>2019-02-15 09:00:11.250</th>\n",
       "      <td>-1.68</td>\n",
       "    </tr>\n",
       "    <tr>\n",
       "      <th>2019-02-15 09:00:11.500</th>\n",
       "      <td>-1.63</td>\n",
       "    </tr>\n",
       "    <tr>\n",
       "      <th>2019-02-15 09:00:11.750</th>\n",
       "      <td>-1.73</td>\n",
       "    </tr>\n",
       "    <tr>\n",
       "      <th>2019-02-15 09:00:12.000</th>\n",
       "      <td>-1.78</td>\n",
       "    </tr>\n",
       "    <tr>\n",
       "      <th>2019-02-15 09:00:12.250</th>\n",
       "      <td>-1.78</td>\n",
       "    </tr>\n",
       "    <tr>\n",
       "      <th>2019-02-15 09:00:12.500</th>\n",
       "      <td>-1.78</td>\n",
       "    </tr>\n",
       "    <tr>\n",
       "      <th>2019-02-15 09:00:12.750</th>\n",
       "      <td>-1.73</td>\n",
       "    </tr>\n",
       "    <tr>\n",
       "      <th>2019-02-15 09:00:13.000</th>\n",
       "      <td>-1.73</td>\n",
       "    </tr>\n",
       "    <tr>\n",
       "      <th>2019-02-15 09:00:13.250</th>\n",
       "      <td>-1.73</td>\n",
       "    </tr>\n",
       "    <tr>\n",
       "      <th>2019-02-15 09:00:13.500</th>\n",
       "      <td>-1.68</td>\n",
       "    </tr>\n",
       "    <tr>\n",
       "      <th>2019-02-15 09:00:13.750</th>\n",
       "      <td>-1.73</td>\n",
       "    </tr>\n",
       "    <tr>\n",
       "      <th>2019-02-15 09:00:14.000</th>\n",
       "      <td>-1.73</td>\n",
       "    </tr>\n",
       "    <tr>\n",
       "      <th>2019-02-15 09:00:14.250</th>\n",
       "      <td>-1.73</td>\n",
       "    </tr>\n",
       "    <tr>\n",
       "      <th>2019-02-15 09:00:14.500</th>\n",
       "      <td>-1.78</td>\n",
       "    </tr>\n",
       "    <tr>\n",
       "      <th>2019-02-15 09:00:14.750</th>\n",
       "      <td>-1.78</td>\n",
       "    </tr>\n",
       "    <tr>\n",
       "      <th>2019-02-15 09:00:15.000</th>\n",
       "      <td>-1.78</td>\n",
       "    </tr>\n",
       "    <tr>\n",
       "      <th>2019-02-15 09:00:15.250</th>\n",
       "      <td>-1.73</td>\n",
       "    </tr>\n",
       "  </tbody>\n",
       "</table>\n",
       "</div>"
      ],
      "text/plain": [
       "                         H_w_0\n",
       "DATETIME                      \n",
       "2019-02-15 09:00:11.250  -1.68\n",
       "2019-02-15 09:00:11.500  -1.63\n",
       "2019-02-15 09:00:11.750  -1.73\n",
       "2019-02-15 09:00:12.000  -1.78\n",
       "2019-02-15 09:00:12.250  -1.78\n",
       "2019-02-15 09:00:12.500  -1.78\n",
       "2019-02-15 09:00:12.750  -1.73\n",
       "2019-02-15 09:00:13.000  -1.73\n",
       "2019-02-15 09:00:13.250  -1.73\n",
       "2019-02-15 09:00:13.500  -1.68\n",
       "2019-02-15 09:00:13.750  -1.73\n",
       "2019-02-15 09:00:14.000  -1.73\n",
       "2019-02-15 09:00:14.250  -1.73\n",
       "2019-02-15 09:00:14.500  -1.78\n",
       "2019-02-15 09:00:14.750  -1.78\n",
       "2019-02-15 09:00:15.000  -1.78\n",
       "2019-02-15 09:00:15.250  -1.73"
      ]
     },
     "execution_count": 13,
     "metadata": {},
     "output_type": "execute_result"
    }
   ],
   "source": [
    "# Print DataFrame\n",
    "df"
   ]
  },
  {
   "cell_type": "code",
   "execution_count": 15,
   "metadata": {},
   "outputs": [
    {
     "data": {
      "text/plain": [
       "DatetimeIndex(['2019-02-15 09:00:11.250000', '2019-02-15 09:00:11.500000',\n",
       "               '2019-02-15 09:00:11.750000',        '2019-02-15 09:00:12',\n",
       "               '2019-02-15 09:00:12.250000', '2019-02-15 09:00:12.500000',\n",
       "               '2019-02-15 09:00:12.750000',        '2019-02-15 09:00:13',\n",
       "               '2019-02-15 09:00:13.250000', '2019-02-15 09:00:13.500000',\n",
       "               '2019-02-15 09:00:13.750000',        '2019-02-15 09:00:14',\n",
       "               '2019-02-15 09:00:14.250000', '2019-02-15 09:00:14.500000',\n",
       "               '2019-02-15 09:00:14.750000',        '2019-02-15 09:00:15',\n",
       "               '2019-02-15 09:00:15.250000'],\n",
       "              dtype='datetime64[ns]', name='DATETIME', freq=None)"
      ]
     },
     "execution_count": 15,
     "metadata": {},
     "output_type": "execute_result"
    }
   ],
   "source": [
    "# DATETIME index goes up to microseconds\n",
    "df.index"
   ]
  },
  {
   "cell_type": "markdown",
   "metadata": {},
   "source": [
    "## Create a FewsPi connection"
   ]
  },
  {
   "cell_type": "code",
   "execution_count": 16,
   "metadata": {},
   "outputs": [],
   "source": [
    "pi = hkvfewspy.Pi() \n",
    "pi.setClient(wsdl='https://db.dmhoutribdijk.nl/FewsWebServices/fewspiservice?wsdl')\n",
    "\n",
    "filters = pi.getFilters()\n",
    "filter_id = filters['f_ruw_ongevalideerd_{}'.format(instrument)]['id']\n",
    "locations = pi.getLocations(filterId=filter_id)\n",
    "parameters = pi.getParameters()\n",
    "\n",
    "# set variable settings\n",
    "module_instance_id = 'ruw_ongevalideerd_STB'# \n",
    "location_id = locations.loc['locationId', location]\n",
    "parameter_id = parameters.loc['id', 'H_w_0']\n",
    "\n",
    "df_H_w_0 = pd.DataFrame(data = df['H_w_0'].values, index = df.index.values, columns = ['value'])\n",
    "\n",
    "# create pi-timeseries object\n",
    "pi_ts = pi.setPiTimeSeries()\n",
    "\n",
    "# set a header object\n",
    "pi_ts.write.header.moduleInstanceId(module_instance_id)\n",
    "pi_ts.write.header.locationId(location_id)\n",
    "pi_ts.write.header.parameterId(parameter_id)\n",
    "pi_ts.write.header.missVal(-9999)\n",
    "\n",
    "# set an events object (pandas.Series or pandas.DataFrame)\n",
    "pi_ts.write.events(df_H_w_0)\n",
    "pi_ts_xml = pi_ts.to.pi_xml()"
   ]
  },
  {
   "cell_type": "code",
   "execution_count": 19,
   "metadata": {},
   "outputs": [
    {
     "data": {
      "text/html": [
       "<div>\n",
       "<style scoped>\n",
       "    .dataframe tbody tr th:only-of-type {\n",
       "        vertical-align: middle;\n",
       "    }\n",
       "\n",
       "    .dataframe tbody tr th {\n",
       "        vertical-align: top;\n",
       "    }\n",
       "\n",
       "    .dataframe thead th {\n",
       "        text-align: right;\n",
       "    }\n",
       "</style>\n",
       "<table border=\"1\" class=\"dataframe\">\n",
       "  <thead>\n",
       "    <tr style=\"text-align: right;\">\n",
       "      <th></th>\n",
       "      <th>value</th>\n",
       "    </tr>\n",
       "  </thead>\n",
       "  <tbody>\n",
       "    <tr>\n",
       "      <th>2019-02-15 09:00:11.250</th>\n",
       "      <td>-1.68</td>\n",
       "    </tr>\n",
       "    <tr>\n",
       "      <th>2019-02-15 09:00:11.500</th>\n",
       "      <td>-1.63</td>\n",
       "    </tr>\n",
       "    <tr>\n",
       "      <th>2019-02-15 09:00:11.750</th>\n",
       "      <td>-1.73</td>\n",
       "    </tr>\n",
       "    <tr>\n",
       "      <th>2019-02-15 09:00:12.000</th>\n",
       "      <td>-1.78</td>\n",
       "    </tr>\n",
       "    <tr>\n",
       "      <th>2019-02-15 09:00:12.250</th>\n",
       "      <td>-1.78</td>\n",
       "    </tr>\n",
       "  </tbody>\n",
       "</table>\n",
       "</div>"
      ],
      "text/plain": [
       "                         value\n",
       "2019-02-15 09:00:11.250  -1.68\n",
       "2019-02-15 09:00:11.500  -1.63\n",
       "2019-02-15 09:00:11.750  -1.73\n",
       "2019-02-15 09:00:12.000  -1.78\n",
       "2019-02-15 09:00:12.250  -1.78"
      ]
     },
     "execution_count": 19,
     "metadata": {},
     "output_type": "execute_result"
    }
   ],
   "source": [
    "df_H_w_0.head()"
   ]
  },
  {
   "cell_type": "code",
   "execution_count": 18,
   "metadata": {},
   "outputs": [
    {
     "data": {
      "text/plain": [
       "('f_ruw_ongevalideerd.STB', 'ruw_ongevalideerd_STB', 'FL65', 'H.w.0')"
      ]
     },
     "execution_count": 18,
     "metadata": {},
     "output_type": "execute_result"
    }
   ],
   "source": [
    "filter_id, module_instance_id, location_id, parameter_id"
   ]
  },
  {
   "cell_type": "code",
   "execution_count": null,
   "metadata": {},
   "outputs": [],
   "source": [
    "print(pi_ts.to.pi_xml()[0:2000])"
   ]
  },
  {
   "cell_type": "code",
   "execution_count": null,
   "metadata": {},
   "outputs": [],
   "source": [
    "# http://fews.wldelft.nl/schemas/version1.0/pi-schemas/pi_timeseries.xsd\n",
    "# ISO 8601 (hh:mm:ss.dsec e.g. 16:30:0.001)"
   ]
  },
  {
   "cell_type": "code",
   "execution_count": null,
   "metadata": {},
   "outputs": [],
   "source": [
    "# Push data to FewsPi"
   ]
  },
  {
   "cell_type": "code",
   "execution_count": null,
   "metadata": {},
   "outputs": [],
   "source": [
    "pi.putTimeSeriesForFilter(\n",
    "   filterId=filter_id, \n",
    "   piTimeSeriesXmlContent=pi_ts.to.pi_xml()\n",
    ")"
   ]
  },
  {
   "cell_type": "code",
   "execution_count": null,
   "metadata": {},
   "outputs": [],
   "source": [
    "query = pi.setQueryParameters(prefill_defaults=True)"
   ]
  },
  {
   "cell_type": "code",
   "execution_count": null,
   "metadata": {},
   "outputs": [],
   "source": [
    "query.parameterIds(['H.w.0'])\n",
    "query.moduleInstanceIds(['ruw_ongevalideerd_STB'])\n",
    "query.locationIds(['FL65'])\n",
    "query.startTime(datetime(2019,2,15,9,0,11,250)) \n",
    "query.endTime(datetime(2019,2,15,9,10, 11,0))"
   ]
  },
  {
   "cell_type": "code",
   "execution_count": null,
   "metadata": {},
   "outputs": [],
   "source": [
    "query.query"
   ]
  },
  {
   "cell_type": "code",
   "execution_count": null,
   "metadata": {},
   "outputs": [],
   "source": [
    "df_get = pi.getTimeSeries(queryParameters=query, setFormat='df', header='longform' ,print_response=True)"
   ]
  },
  {
   "cell_type": "code",
   "execution_count": null,
   "metadata": {},
   "outputs": [],
   "source": []
  }
 ],
 "metadata": {
  "kernelspec": {
   "display_name": "Python 3",
   "language": "python",
   "name": "python3"
  },
  "language_info": {
   "codemirror_mode": {
    "name": "ipython",
    "version": 3
   },
   "file_extension": ".py",
   "mimetype": "text/x-python",
   "name": "python",
   "nbconvert_exporter": "python",
   "pygments_lexer": "ipython3",
   "version": "3.6.5"
  }
 },
 "nbformat": 4,
 "nbformat_minor": 2
}
