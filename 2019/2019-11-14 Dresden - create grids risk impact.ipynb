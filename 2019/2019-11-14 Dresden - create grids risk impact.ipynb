{
 "cells": [
  {
   "cell_type": "code",
   "execution_count": 1,
   "metadata": {},
   "outputs": [],
   "source": [
    "from osgeo import gdal, ogr, gdalconst\n",
    "import os\n",
    "from glob import glob\n",
    "import subprocess as sp\n",
    "from datetime import datetime, timedelta\n",
    "import numpy as np\n",
    "import pandas as pd\n",
    "from matplotlib import pyplot as plt\n",
    "import pandas as pd\n",
    "%matplotlib inline"
   ]
  },
  {
   "cell_type": "code",
   "execution_count": 2,
   "metadata": {},
   "outputs": [],
   "source": [
    "def saveRaster(path, array, dsSource, datatype=6, formatraster=\"GTiff\", nan=None): \n",
    "    \"\"\"\n",
    "    Datatypes:\n",
    "    unknown = 0\n",
    "    byte = 1\n",
    "    unsigned int16 = 2\n",
    "    signed int16 = 3\n",
    "    unsigned int32 = 4\n",
    "    signed int32 = 5\n",
    "    float32 = 6\n",
    "    float64 = 7\n",
    "    complex int16 = 8\n",
    "    complex int32 = 9\n",
    "    complex float32 = 10\n",
    "    complex float64 = 11\n",
    "    float32 = 6, \n",
    "    signed int = 3\n",
    "    \n",
    "    Formatraster:\n",
    "    GeoTIFF = GTiff\n",
    "    Erdas = HFA (output = .img)\n",
    "    OGC web map service = WMS\n",
    "    png = PNG\n",
    "    \"\"\"\n",
    "    # Set Driver\n",
    "    format_ = formatraster #save as format\n",
    "    driver = gdal.GetDriverByName( format_ )\n",
    "    driver.Register()\n",
    "    \n",
    "    # Set Metadata for Raster output\n",
    "    cols = dsSource.RasterXSize\n",
    "    rows = dsSource.RasterYSize\n",
    "    bands = dsSource.RasterCount\n",
    "    datatype = datatype#band.DataType\n",
    "    \n",
    "    # Set Projection for Raster\n",
    "    outDataset = driver.Create(path, cols, rows, bands, datatype)\n",
    "    geoTransform = dsSource.GetGeoTransform()\n",
    "    outDataset.SetGeoTransform(geoTransform)\n",
    "    proj = dsSource.GetProjection()\n",
    "    outDataset.SetProjection(proj)\n",
    "    \n",
    "    # Write output to band 1 of new Raster and write NaN value\n",
    "    outBand = outDataset.GetRasterBand(1)\n",
    "    if nan != None:\n",
    "        outBand.SetNoDataValue(nan)\n",
    "    outBand.WriteArray(array) #save input array\n",
    "    #outBand.WriteArray(dem)\n",
    "    \n",
    "    # Close and finalise newly created Raster\n",
    "    #F_M01 = None\n",
    "    outBand = None\n",
    "    proj = None\n",
    "    geoTransform = None\n",
    "    outDataset = None\n",
    "    driver = None\n",
    "    datatype = None\n",
    "    bands = None\n",
    "    rows = None\n",
    "    cols = None\n",
    "    driver = None\n",
    "    array = None"
   ]
  },
  {
   "cell_type": "code",
   "execution_count": 3,
   "metadata": {},
   "outputs": [],
   "source": [
    "def compute_nattevoeten_getroffenen(inw_grid, wdp_grid, nattevoeten_out, getroffenen_out, victims_out):\n",
    "    # hungary\n",
    "    items =[\n",
    "        {'depth': 0,  'factor_casualties': 0},\n",
    "        {'depth': 0.5,'factor_casualties': 0},\n",
    "        {'depth': 1,  'factor_casualties': 0},\n",
    "        {'depth': 1.5,'factor_casualties': 0},\n",
    "        {'depth': 2,  'factor_casualties': 0},\n",
    "        {'depth': 3,  'factor_casualties': 0.025},\n",
    "        {'depth': 4,  'factor_casualties': 0.05},\n",
    "        {'depth': 5,  'factor_casualties': 0.075},\n",
    "        {'depth': 6,  'factor_casualties': 0.1}\n",
    "    ]\n",
    "    df = pd.DataFrame(items)\n",
    "    df.sort_values('depth', ascending=True, inplace=True)\n",
    "    df.head()    \n",
    "    \n",
    "    ds_inw = gdal.Open(inw_grid)\n",
    "    band_inw = ds_inw.GetRasterBand(1)\n",
    "    nan_inw = band_inw.GetNoDataValue()\n",
    "    array_inw = band_inw.ReadAsArray()\n",
    "    array_inw = array_inw.astype(float)\n",
    "    #extra_nan = 31075\n",
    "    array_inw_msk = np.ma.masked_where(array_inw == nan_inw, array_inw)\n",
    "    #array_inw_msk = np.ma.masked_where(array_inw_msk == extra_nan, array_inw_msk)\n",
    "    \n",
    "\n",
    "\n",
    "    ds_wdp = gdal.Open(wdp_grid)\n",
    "    band_wdp = ds_wdp.GetRasterBand(1)\n",
    "    nan_wdp = band_wdp.GetNoDataValue()\n",
    "    array_wdp = band_wdp.ReadAsArray()\n",
    "    array_wdp = array_wdp.astype(float)\n",
    "    array_wdp_msk = np.ma.masked_where(array_wdp == nan_wdp, array_wdp)\n",
    "#     array_wdp_msk = np.ma.masked_where(array_wdepth_mask > 600, array_wdp_msk)\n",
    "    \n",
    "    # compute victims\n",
    "    concat_casualties = np.zeros(shape=(df.shape[0], array_wdp_msk.shape[0], array_wdp_msk.shape[1]))\n",
    "    for idx, row in df.iterrows():\n",
    "        print(row['depth'])\n",
    "        idx_grid = array_wdp_msk > row['depth']    \n",
    "        idx_pop_grid = idx_grid * array_inw_msk\n",
    "        casualties = idx_pop_grid * row['factor_casualties']\n",
    "        concat_casualties[idx] = casualties\n",
    "    max_casualties = concat_casualties.max(axis=0)    \n",
    "    \n",
    "    # export victims  \n",
    "    #max_casualties[array_inw_msk.mask] = 0.\n",
    "    saveRaster(victims_out, max_casualties, ds_wdp, datatype=6, formatraster=\"GTiff\", nan=0.)    \n",
    "    \n",
    "    # compute nattevoeten grid\n",
    "    array_wdp_msk[array_wdp_msk > 0] = 1    \n",
    "        \n",
    "    # export nattevoeten grid\n",
    "    #array_wdp_msk = np.ma.masked_where(array_inw_msk == nan_inw, array_wdp_msk)\n",
    "    saveRaster(nattevoeten_out, array_wdp_msk.data, ds_wdp, datatype=6, formatraster=\"GTiff\", nan=nan_wdp)    \n",
    "\n",
    "    array_gtf_msk = array_inw_msk * array_wdp_msk\n",
    "    array_gtf_msk.data[array_gtf_msk.mask] = nan_wdp\n",
    "    \n",
    "    # export getroffenen grid\n",
    "    saveRaster(getroffenen_out, array_gtf_msk, ds_wdp, datatype=6, formatraster=\"GTiff\", nan=nan_wdp)"
   ]
  },
  {
   "cell_type": "code",
   "execution_count": 4,
   "metadata": {},
   "outputs": [],
   "source": [
    "wdp_grids_list = glob(r\"D:\\Projects\\Pr\\2505.12\\Dresden\\Floodscenarios (overstromingsscenarios)\\Jan\\*floodwaterdepth*.tif\")\n",
    "inw_grid = r\"D:\\Projects\\Pr\\2505.12\\Dresden\\Floodscenarios (overstromingsscenarios)\\Jan\\inhabitants_100m.tif\""
   ]
  },
  {
   "cell_type": "code",
   "execution_count": 5,
   "metadata": {},
   "outputs": [],
   "source": [
    "ds_inw = gdal.Open(inw_grid)\n",
    "band_inw = ds_inw.GetRasterBand(1)\n",
    "nan_inw = band_inw.GetNoDataValue()\n",
    "array_inw = band_inw.ReadAsArray()\n",
    "array_inw = array_inw.astype(float)\n",
    "#extra_nan = 0\n",
    "array_inw_msk = np.ma.masked_where(array_inw == nan_inw, array_inw)\n",
    "#array_inw_msk = np.ma.masked_where(array_inw_msk == extra_nan, array_inw_msk)"
   ]
  },
  {
   "cell_type": "code",
   "execution_count": 7,
   "metadata": {},
   "outputs": [
    {
     "data": {
      "text/plain": [
       "<matplotlib.colorbar.Colorbar at 0x6c01198>"
      ]
     },
     "execution_count": 7,
     "metadata": {},
     "output_type": "execute_result"
    },
    {
     "data": {
      "image/png": "[encoded data removed]",
      "text/plain": [
       "<Figure size 432x288 with 2 Axes>"
      ]
     },
     "metadata": {
      "needs_background": "light"
     },
     "output_type": "display_data"
    }
   ],
   "source": [
    "im = plt.imshow(array_inw_msk)\n",
    "plt.colorbar(im)"
   ]
  },
  {
   "cell_type": "code",
   "execution_count": 8,
   "metadata": {},
   "outputs": [],
   "source": [
    "# extra_wdepth_mask_grid = r\"P:\\PR\\3730.10\\Werkzaamheden\\PR3730.15_IT\\Data\\Dresden\\Floodscenarios (overstromingsscenarios)\\floodwaterdepth_HQ2_600cm_100m.tif\"\n",
    "# ds_wdepth_mask = gdal.Open(extra_wdepth_mask_grid)\n",
    "# band_wdepth_mask = ds_wdepth_mask.GetRasterBand(1)\n",
    "# nan_wdepth_mask = band_wdepth_mask.GetNoDataValue()\n",
    "# array_wdepth_mask = band_wdepth_mask.ReadAsArray()\n",
    "# array_wdepth_mask = array_wdepth_mask.astype(float)\n",
    "# extra_nan_mask = 0\n",
    "# array_inw_msk = np.ma.masked_where(array_wdepth_mask > 600, array_inw_msk)\n",
    "# array_inw_msk = np.ma.masked_where(array_wdepth_mask == extra_nan, array_inw_msk)\n",
    "# nan_inh = -999.\n",
    "# array_inw_msk.data[array_inw_msk.mask] = nan_inh\n",
    "# im = plt.imshow(array_inw_msk.data)\n",
    "# plt.title('inhabitants')\n",
    "# plt.colorbar(im)\n",
    "# fp_inhabitants_river_mask = r\"D:\\Projects\\Pr\\2505.12\\Dresden\\Floodscenarios (overstromingsscenarios)\\Jan\\inhabitants_100m.tif\"\n",
    "# saveRaster(fp_inhabitants_river_mask, array_inw_msk.data, ds_inw, datatype=6, formatraster=\"GTiff\", nan=nan_inh)"
   ]
  },
  {
   "cell_type": "code",
   "execution_count": 9,
   "metadata": {},
   "outputs": [
    {
     "name": "stdout",
     "output_type": "stream",
     "text": [
      "D:\\Projects\\Pr\\2505.12\\Dresden\\Floodscenarios (overstromingsscenarios)\\Jan\\floodwaterdepth_gtHQ5_700cm_100m.tif\n",
      "0.0\n",
      "0.5\n",
      "1.0\n",
      "1.5\n",
      "2.0\n",
      "3.0\n",
      "4.0\n",
      "5.0\n",
      "6.0\n",
      "D:\\Projects\\Pr\\2505.12\\Dresden\\Floodscenarios (overstromingsscenarios)\\Jan\\floodwaterdepth_HQ10_750cm_100m.tif\n",
      "0.0\n",
      "0.5\n",
      "1.0\n",
      "1.5\n",
      "2.0\n",
      "3.0\n",
      "4.0\n",
      "5.0\n",
      "6.0\n",
      "D:\\Projects\\Pr\\2505.12\\Dresden\\Floodscenarios (overstromingsscenarios)\\Jan\\floodwaterdepth_HQ2_600cm_100m.tif\n",
      "0.0\n",
      "0.5\n",
      "1.0\n",
      "1.5\n",
      "2.0\n",
      "3.0\n",
      "4.0\n",
      "5.0\n",
      "6.0\n",
      "D:\\Projects\\Pr\\2505.12\\Dresden\\Floodscenarios (overstromingsscenarios)\\Jan\\floodwaterdepth_ltHQ200_900cm_100m.tif\n",
      "0.0\n",
      "0.5\n",
      "1.0\n",
      "1.5\n",
      "2.0\n",
      "3.0\n",
      "4.0\n",
      "5.0\n",
      "6.0\n",
      "D:\\Projects\\Pr\\2505.12\\Dresden\\Floodscenarios (overstromingsscenarios)\\Jan\\floodwaterdepth_ltHQ200_950cm_100m.tif\n",
      "0.0\n",
      "0.5\n",
      "1.0\n",
      "1.5\n",
      "2.0\n",
      "3.0\n",
      "4.0\n",
      "5.0\n",
      "6.0\n",
      "D:\\Projects\\Pr\\2505.12\\Dresden\\Floodscenarios (overstromingsscenarios)\\Jan\\floodwaterdepth_ltHQ20_800cm_100m.tif\n",
      "0.0\n",
      "0.5\n",
      "1.0\n",
      "1.5\n",
      "2.0\n",
      "3.0\n",
      "4.0\n",
      "5.0\n",
      "6.0\n",
      "D:\\Projects\\Pr\\2505.12\\Dresden\\Floodscenarios (overstromingsscenarios)\\Jan\\floodwaterdepth_ltHQ50_850cm_100m.tif\n",
      "0.0\n",
      "0.5\n",
      "1.0\n",
      "1.5\n",
      "2.0\n",
      "3.0\n",
      "4.0\n",
      "5.0\n",
      "6.0\n",
      "D:\\Projects\\Pr\\2505.12\\Dresden\\Floodscenarios (overstromingsscenarios)\\Jan\\floodwaterdepth_ltHQ5_650cm_100m.tif\n",
      "0.0\n",
      "0.5\n",
      "1.0\n",
      "1.5\n",
      "2.0\n",
      "3.0\n",
      "4.0\n",
      "5.0\n",
      "6.0\n"
     ]
    }
   ],
   "source": [
    "for wdp_grid in wdp_grids_list:\n",
    "    print(wdp_grid)\n",
    "    nattevoeten_out = wdp_grid.replace('floodwaterdepth', 'flooded_settlements') \n",
    "    getroffenen_out = wdp_grid.replace('floodwaterdepth', 'affected_people')    \n",
    "    victims_out = wdp_grid.replace('floodwaterdepth', 'victims')   \n",
    "    compute_nattevoeten_getroffenen(inw_grid, wdp_grid, nattevoeten_out, getroffenen_out, victims_out)    "
   ]
  },
  {
   "cell_type": "code",
   "execution_count": null,
   "metadata": {},
   "outputs": [],
   "source": [
    "extra_wdepth_mask_grid = r\"P:\\PR\\3730.10\\Werkzaamheden\\PR3730.15_IT\\Data\\Dresden\\Floodscenarios (overstromingsscenarios)\\floodwaterdepth_HQ2_600cm_100m.tif\"\n",
    "ds_wdepth_mask = gdal.Open(extra_wdepth_mask_grid)\n",
    "band_wdepth_mask = ds_wdepth_mask.GetRasterBand(1)\n",
    "nan_wdepth_mask = band_wdepth_mask.GetNoDataValue()\n",
    "array_wdepth_mask = band_wdepth_mask.ReadAsArray()\n",
    "array_wdepth_mask = array_wdepth_mask.astype(float)\n",
    "array_wdepth_mask = np.ma.masked_where(array_wdepth_mask > 600, array_wdepth_mask)    "
   ]
  },
  {
   "cell_type": "code",
   "execution_count": null,
   "metadata": {},
   "outputs": [],
   "source": [
    "for wdp_grid in wdp_grids_list:\n",
    "    print(wdp_grid)\n",
    "    \n",
    "    ds_wdepth = gdal.Open(wdp_grid)\n",
    "    band_wdepth = ds_wdepth.GetRasterBand(1)\n",
    "    nan_wdepth = band_wdepth.GetNoDataValue()\n",
    "    array_wdepth = band_wdepth.ReadAsArray()\n",
    "    array_wdepth = array_wdepth.astype(float)\n",
    "    array_wdepth = np.ma.masked_where(array_wdepth == nan_wdepth, array_wdepth)\n",
    "    array_wdepth = np.ma.masked_where(array_wdepth_mask > 600, array_wdepth)    \n",
    "    plt.imshow(array_wdepth)\n",
    "    plt.show()\n",
    "\n",
    "    array_wdepth.data[array_wdepth.mask] = nan_wdepth\n",
    "    saveRaster(wdp_grid, array_wdepth, ds_wdepth, datatype=6, formatraster=\"GTiff\", nan=nan_wdepth)"
   ]
  },
  {
   "cell_type": "code",
   "execution_count": null,
   "metadata": {},
   "outputs": [],
   "source": []
  },
  {
   "cell_type": "code",
   "execution_count": null,
   "metadata": {},
   "outputs": [],
   "source": [
    "extra_wdepth_mask_grid = r\"P:\\PR\\3730.10\\Werkzaamheden\\PR3730.15_IT\\Data\\Dresden\\Floodscenarios (overstromingsscenarios)\\floodwaterdepth_HQ2_600cm_100m.tif\"\n"
   ]
  },
  {
   "cell_type": "code",
   "execution_count": null,
   "metadata": {},
   "outputs": [],
   "source": [
    "im = plt.imshow(array_wdepth_mask)"
   ]
  },
  {
   "cell_type": "code",
   "execution_count": null,
   "metadata": {},
   "outputs": [],
   "source": []
  },
  {
   "cell_type": "code",
   "execution_count": null,
   "metadata": {},
   "outputs": [],
   "source": [
    "ds_inw = gdal.Open(inw_grid)\n",
    "band_inw = ds_inw.GetRasterBand(1)\n",
    "nan_inw = band_inw.GetNoDataValue()\n",
    "array_inw = band_inw.ReadAsArray()\n",
    "array_inw = array_inw.astype(float)\n",
    "#extra_nan = 31075\n",
    "array_inw_msk = np.ma.masked_where(array_inw == nan_inw, array_inw)\n",
    "#array_inw_msk = np.ma.masked_where(array_inw_msk == extra_nan, array_inw_msk)\n",
    "\n",
    "ds_wdp = gdal.Open(wdp_grid)\n",
    "band_wdp = ds_wdp.GetRasterBand(1)\n",
    "nan_wdp = band_wdp.GetNoDataValue()\n",
    "array_wdp = band_wdp.ReadAsArray()\n",
    "array_wdp = array_wdp.astype(float)\n",
    "array_wdp_msk = np.ma.masked_where(array_wdp == nan_wdp, array_wdp)    \n",
    "\n",
    "#array_wdp_msk[array_wdp_msk > 0] = 1    \n",
    "\n",
    "# export nattevoeten grid\n",
    "#saveRaster(nattevoeten_out, array_wdp_msk.data, ds_wdp, datatype=6, formatraster=\"GTiff\", nan=nan_wdp)    \n",
    "\n",
    "#array_gtf_msk = array_inw_msk * array_wdp_msk\n",
    "#array_gtf_msk.data[array_gtf_msk.mask] = nan_wdp"
   ]
  },
  {
   "cell_type": "code",
   "execution_count": null,
   "metadata": {},
   "outputs": [],
   "source": [
    "im = plt.imshow(array_wdp_msk)\n",
    "plt.colorbar(im)"
   ]
  },
  {
   "cell_type": "code",
   "execution_count": null,
   "metadata": {},
   "outputs": [],
   "source": [
    "im = plt.imshow(array_gtf_msk)\n",
    "plt.colorbar(im)"
   ]
  },
  {
   "cell_type": "code",
   "execution_count": null,
   "metadata": {},
   "outputs": [],
   "source": [
    "im = plt.imshow(array_wdp_msk)\n",
    "plt.colorbar(im)"
   ]
  },
  {
   "cell_type": "code",
   "execution_count": null,
   "metadata": {},
   "outputs": [],
   "source": []
  }
 ],
 "metadata": {
  "kernelspec": {
   "display_name": "Python 3",
   "language": "python",
   "name": "python3"
  },
  "language_info": {
   "codemirror_mode": {
    "name": "ipython",
    "version": 3
   },
   "file_extension": ".py",
   "mimetype": "text/x-python",
   "name": "python",
   "nbconvert_exporter": "python",
   "pygments_lexer": "ipython3",
   "version": "3.6.5"
  }
 },
 "nbformat": 4,
 "nbformat_minor": 4
}
