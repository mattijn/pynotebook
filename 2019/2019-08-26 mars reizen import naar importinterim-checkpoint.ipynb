{
 "cells": [
  {
   "cell_type": "code",
   "execution_count": 1,
   "metadata": {},
   "outputs": [],
   "source": [
    "import pandas as pd\n",
    "import glob\n",
    "import geopandas as gpd\n",
    "import sys\n",
    "import getopt"
   ]
  },
  {
   "cell_type": "code",
   "execution_count": 2,
   "metadata": {},
   "outputs": [],
   "source": [
    "def getIxensumM3(df):\n",
    "    # init mass delta series\n",
    "    s = pd.Series(index=df.index, name='mass_delta')\n",
    "\n",
    "    # initiate the empty and full massa ship with first loading session\n",
    "    mass_empty = df.iloc[0]['dredgeSessionMassEmptyShip']\n",
    "    mass_full = df.iloc[0]['dredgeSessionMassFullShip']\n",
    "    dM = mass_full - mass_empty\n",
    "    s[df.index[0]] = dM\n",
    "\n",
    "    # compute delta mass for all dumping sessions\n",
    "    for index, row in df[1::].iterrows():    \n",
    "        if row['dredgeSessionType'] == 'LOADING':\n",
    "            mass_empty = mass_full\n",
    "            mass_full = row['dredgeSessionMassFullShip']\n",
    "            dM = mass_full - mass_empty\n",
    "            s[index] = dM\n",
    "        if row['dredgeSessionType'] == 'DUMPING':\n",
    "            mass_empty = row['dredgeSessionMassEmptyShip']\n",
    "            dM = mass_full - mass_empty\n",
    "            s[index] = dM\n",
    "            mass_full = mass_empty\n",
    "\n",
    "\n",
    "    # compute total dumping TDS\n",
    "    m3_dumping = df.loc[df['dredgeSessionType'] == 'LOADING']['dredgeSessionM3'].sum()\n",
    "\n",
    "    maxdM = s[df.loc[df['dredgeSessionType'] == 'DUMPING'].index].max()\n",
    "    # index of DUMPING sessions with highest delta mass \n",
    "    ix_maxdM = (s==maxdM).idxmax()\n",
    "    \n",
    "    return ix_maxdM, m3_dumping"
   ]
  },
  {
   "cell_type": "code",
   "execution_count": 3,
   "metadata": {},
   "outputs": [],
   "source": [
    "inputfile = r\"C:\\Users\\hoek.HKV\\Desktop\\Import\\data.marinusg.tripnr_0_TLS.Marinus G-1566670641058.txt\"\n",
    "outputfile = r\"C:\\Users\\hoek.HKV\\Desktop\\ImportInterim\\data.marinusg.tripnr_0_TLS.Marinus G-1566670641058.txt\"\n",
    "shapefile = r\"D:\\FEWSProjecten\\OmsWaddenzee\\trunk\\fews\\Config\\MapLayerFiles\\Baggervakken\\Baggervakken.shp\""
   ]
  },
  {
   "cell_type": "code",
   "execution_count": 4,
   "metadata": {},
   "outputs": [],
   "source": [
    "df = pd.read_csv(r'{}'.format(inputfile), sep='\\t', encoding='utf-16-le')\n",
    "df = df.reset_index(drop=True)  "
   ]
  },
  {
   "cell_type": "code",
   "execution_count": 5,
   "metadata": {},
   "outputs": [],
   "source": [
    "df.sort_values(['tripId', 'dredgeSessionEndDt'], inplace=True)\n",
    "df['dredgeSessionLocation']=df['dredgeSessionLocation'].astype(str)\n",
    "\n",
    "# select shapefile\n",
    "right = gpd.read_file(shapefile)[['ID_MARS', 'TDS_M3']]\n",
    "\n",
    "df = df.merge(right, how='left', left_on='dredgeSessionLocation', right_on='ID_MARS')"
   ]
  },
  {
   "cell_type": "code",
   "execution_count": 6,
   "metadata": {},
   "outputs": [],
   "source": [
    "# compute kuubs\n",
    "df['dredgeSessionM3'] = df['dredgeSessionQuantity'] / df['TDS_M3'] # aanpassing 26-01-2016 van '*' naar '/'\n",
    "# drop the unwanted columns\n",
    "df.drop(['ID_MARS','TDS_M3'], axis=1, inplace=True)\n",
    "df = df.loc[df['dredgeSessionType'].isin(['DUMPING','LOADING'])]\n",
    "# In[9]:\n",
    "\n",
    "uq_tripId = df['tripId'].unique()\n",
    "for tripId in uq_tripId:\n",
    "    # get slice of dataframe based on tripId\n",
    "    df3 = df.loc[df['tripId'] == tripId].copy()\n",
    "\n",
    "    # get the index of the dumping sessions with the highest delta mass\n",
    "    # this is supposed to be the session with the most amount dumped M3\n",
    "    # and get the sum of all loaded M3\n",
    "    dumpix, sumM3 = getIxensumM3(df3)\n",
    "\n",
    "    # assign these M3 values in the main dataframe\n",
    "    df.loc[df.index == dumpix, 'dredgeSessionM3'] = sumM3"
   ]
  },
  {
   "cell_type": "code",
   "execution_count": 7,
   "metadata": {},
   "outputs": [],
   "source": [
    "s_nan = dict(zip(df.columns,['-',-999,'-','-',-999,-999,'-','-','-','-','-','-',-999,'1-1-1970 00:00','1-1-1970 00:00',-999,'0:00:00',-999,-999,-999,-999,-999,-999,-999,-999,-999,-999,-999,-999,-999,-999,-999,-999,-999,'0:00:00',-999,-999,-999,-999,-999,-999,-999,-999,-999,'-', '-','1-1-1970 00:00','1-1-1970 00:00','0:00:00',-999,-999,-999,-999,-999]))\n",
    "df.fillna(s_nan, inplace=True)\n",
    "df[['ls_endTs', 'dredgeSessionId', 'dredgeSessionQuantity', 'tripM3', 'tripM3_calc']] = df[['ls_endTs','dredgeSessionId', 'dredgeSessionQuantity', 'tripM3', 'tripM3_calc']].astype(int)"
   ]
  },
  {
   "cell_type": "code",
   "execution_count": 8,
   "metadata": {},
   "outputs": [],
   "source": [
    "# write to csv\n",
    "df.to_csv(outputfile, sep='\\t', index=False)"
   ]
  },
  {
   "cell_type": "code",
   "execution_count": null,
   "metadata": {},
   "outputs": [],
   "source": []
  },
  {
   "cell_type": "code",
   "execution_count": null,
   "metadata": {},
   "outputs": [],
   "source": [
    "\n",
    "\n",
    "\n",
    "# In[3]:\n",
    "\n",
    "# MAIN PROGRAM  \n",
    "def main(argv):\n",
    "    # input argument checking\n",
    "    try:\n",
    "        opts, args = getopt.getopt(argv,\"hi:o:s:\",[\"ipath=\",\"opath=\",\"spath=\"])\n",
    "    except getopt.GetoptError:\n",
    "        print ('usage: MARS_parser.py -i <inputfile> -o <outputfile> -s <shapefile>')\n",
    "        sys.exit(2)\n",
    "    for opt, arg in opts:\n",
    "        if opt == '-h':\n",
    "            print ('updateDepth.py -i <inputfile> -o <outputfile> -s <shapefile>')\n",
    "            sys.exit()\n",
    "        elif opt in (\"-i\", \"--inputfile\"):\n",
    "            inputfile = arg\n",
    "        elif opt in (\"-o\", \"--outputfile\"):\n",
    "            outputfile = arg\n",
    "        elif opt in (\"-s\", \"--shapefile\"):\n",
    "            shapefile = arg\n",
    "\n",
    "    # In[5]:\n",
    "\n",
    "  \n",
    "\n",
    "\n",
    "    # In[6]:\n",
    "\n",
    "    df.sort_values(['tripId', 'dredgeSessionEndDt'], inplace=True)\n",
    "\n",
    "    # select shapefile\n",
    "    right = gpd.read_file(shapefile)[['ID_MARS', 'TDS_M3']]\n",
    "\n",
    "    # apply a leftish join on\n",
    "    right['ID_MARS']=right['ID_MARS'].astype(str)\n",
    "    df['dredgeSessionLocation']=df['dredgeSessionLocation'].astype(str)\n",
    "    df = df.merge(right, how='left', left_on='dredgeSessionLocation', right_on='ID_MARS')\n",
    "    # compute kuubs\n",
    "    df['dredgeSessionM3'] = df['dredgeSessionQuantity'] / df['TDS_M3'] # aanpassing 26-01-2016 van '*' naar '/'\n",
    "    # drop the unwanted columns\n",
    "    df.drop(['ID_MARS','TDS_M3'], axis=1, inplace=True)\n",
    "    df = df.loc[df['dredgeSessionType'].isin(['DUMPING','LOADING'])]\n",
    "    # In[9]:\n",
    "\n",
    "    uq_tripId = df['tripId'].unique()\n",
    "    for tripId in uq_tripId:\n",
    "        # get slice of dataframe based on tripId\n",
    "        df3 = df.loc[df['tripId'] == tripId].copy()\n",
    "        \n",
    "        # get the index of the dumping sessions with the highest delta mass\n",
    "        # this is supposed to be the session with the most amount dumped M3\n",
    "        # and get the sum of all loaded M3\n",
    "        dumpix, sumM3 = getIxensumM3(df3)\n",
    "        \n",
    "        # assign these M3 values in the main dataframe\n",
    "        df.loc[df.index == dumpix, 'dredgeSessionM3'] = sumM3\n",
    "\n",
    "\n",
    "    # In[9]:\n",
    "\n",
    "    s_nan = dict(zip(df.columns,['-',-999,'-','-',-999,-999,'-','-','-','-','-','-',-999,'1-1-1970 00:00','1-1-1970 00:00',-999,'0:00:00',-999,-999,-999,-999,-999,-999,-999,-999,-999,-999,-999,-999,-999,-999,-999,-999,-999,'0:00:00',-999,-999,-999,-999,-999,-999,-999,-999,-999,'-', '-','1-1-1970 00:00','1-1-1970 00:00','0:00:00',-999,-999,-999,-999,-999]))\n",
    "\n",
    "\n",
    "    # In[10]:\n",
    "    \n",
    "\n",
    "\n",
    "    df.fillna(s_nan, inplace=True)\n",
    "    df[['ls_endTs', 'dredgeSessionId', 'dredgeSessionQuantity', 'tripM3', 'tripM3_calc']] = df[['ls_endTs','dredgeSessionId', 'dredgeSessionQuantity', 'tripM3', 'tripM3_calc']].astype(int)\n",
    "    # write to csv\n",
    "    df.to_csv(outputfile, sep='\\t', index=False)\n",
    "\n",
    "         \n",
    "if __name__ == \"__main__\":\n",
    "    main(sys.argv[1:])\n"
   ]
  }
 ],
 "metadata": {
  "kernelspec": {
   "display_name": "Python 3",
   "language": "python",
   "name": "python3"
  },
  "language_info": {
   "codemirror_mode": {
    "name": "ipython",
    "version": 3
   },
   "file_extension": ".py",
   "mimetype": "text/x-python",
   "name": "python",
   "nbconvert_exporter": "python",
   "pygments_lexer": "ipython3",
   "version": "3.6.5"
  }
 },
 "nbformat": 4,
 "nbformat_minor": 4
}
