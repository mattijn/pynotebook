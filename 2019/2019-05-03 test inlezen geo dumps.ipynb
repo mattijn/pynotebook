{
 "cells": [
  {
   "cell_type": "code",
   "execution_count": 1,
   "metadata": {},
   "outputs": [],
   "source": [
    "import geopandas as gpd\n",
    "from fiona.errors import FionaValueError\n",
    "from glob import glob\n",
    "import logging\n",
    "import os"
   ]
  },
  {
   "cell_type": "code",
   "execution_count": 2,
   "metadata": {},
   "outputs": [],
   "source": [
    "def setup_custom_logger(name):\n",
    "    formatter = logging.Formatter(fmt='%(asctime)s %(levelname)-8s %(message)s',\n",
    "                                  datefmt='%Y-%m-%d %H:%M:%S')\n",
    "    handler = logging.FileHandler('log.txt', mode='w')\n",
    "    handler.setFormatter(formatter)\n",
    "    logger = logging.getLogger(name)\n",
    "    logger.setLevel(logging.DEBUG)\n",
    "    logger.addHandler(handler)\n",
    "    return logger"
   ]
  },
  {
   "cell_type": "code",
   "execution_count": 3,
   "metadata": {},
   "outputs": [],
   "source": [
    "logging_folder = r\"D:\\jupyter notebooks\\4019.10 TimeDependentLocatios HDSR\\logs\"\n",
    "os.chdir(logging_folder)\n",
    "logger = setup_custom_logger('Logger')"
   ]
  },
  {
   "cell_type": "code",
   "execution_count": 4,
   "metadata": {},
   "outputs": [],
   "source": [
    "shp_files = glob(r\"D:\\Projects\\Pr\\4019.10\\Toeleveringen\\Maandelijkse_Geodump_PG_AVG\\**\\*.shp\", recursive=True)"
   ]
  },
  {
   "cell_type": "code",
   "execution_count": 5,
   "metadata": {},
   "outputs": [],
   "source": [
    "logger.info('START processing shp files')\n",
    "for shp in shp_files:    \n",
    "    try:        \n",
    "        gdf = gpd.read_file(shp)\n",
    "        logger.debug('succesfull parsed {}'.format(shp))\n",
    "    except (ValueError, FionaValueError) as e:\n",
    "        logger.error('{} in {}'.format(e, shp))"
   ]
  },
  {
   "cell_type": "code",
   "execution_count": null,
   "metadata": {},
   "outputs": [],
   "source": []
  }
 ],
 "metadata": {
  "kernelspec": {
   "display_name": "Python 3",
   "language": "python",
   "name": "python3"
  },
  "language_info": {
   "codemirror_mode": {
    "name": "ipython",
    "version": 3
   },
   "file_extension": ".py",
   "mimetype": "text/x-python",
   "name": "python",
   "nbconvert_exporter": "python",
   "pygments_lexer": "ipython3",
   "version": "3.6.5"
  }
 },
 "nbformat": 4,
 "nbformat_minor": 4
}
