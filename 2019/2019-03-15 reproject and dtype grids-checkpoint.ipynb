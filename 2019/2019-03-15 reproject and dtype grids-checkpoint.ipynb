{
 "cells": [
  {
   "cell_type": "code",
   "execution_count": 1,
   "metadata": {},
   "outputs": [],
   "source": [
    "from osgeo import gdal\n",
    "from glob import glob"
   ]
  },
  {
   "cell_type": "code",
   "execution_count": 2,
   "metadata": {},
   "outputs": [],
   "source": [
    "tifs = glob(r'D:\\Projects\\Pr\\3915.10\\Data_Viewer\\Tiff_Overstroming\\*.tif')"
   ]
  },
  {
   "cell_type": "code",
   "execution_count": 3,
   "metadata": {},
   "outputs": [
    {
     "name": "stdout",
     "output_type": "stream",
     "text": [
      "D:\\Projects\\Pr\\3915.10\\Data_Viewer\\Tiff_Overstroming\\kaart_4326_0.00.tif\n",
      "D:\\Projects\\Pr\\3915.10\\Data_Viewer\\Tiff_Overstroming\\kaart_4326_0.25.tif\n",
      "D:\\Projects\\Pr\\3915.10\\Data_Viewer\\Tiff_Overstroming\\kaart_4326_0.50.tif\n",
      "D:\\Projects\\Pr\\3915.10\\Data_Viewer\\Tiff_Overstroming\\kaart_4326_0.75.tif\n",
      "D:\\Projects\\Pr\\3915.10\\Data_Viewer\\Tiff_Overstroming\\kaart_4326_1.00.tif\n",
      "D:\\Projects\\Pr\\3915.10\\Data_Viewer\\Tiff_Overstroming\\kaart_4326_1.25.tif\n",
      "D:\\Projects\\Pr\\3915.10\\Data_Viewer\\Tiff_Overstroming\\kaart_4326_1.50.tif\n",
      "D:\\Projects\\Pr\\3915.10\\Data_Viewer\\Tiff_Overstroming\\kaart_4326_1.75.tif\n",
      "D:\\Projects\\Pr\\3915.10\\Data_Viewer\\Tiff_Overstroming\\kaart_4326_2.00.tif\n",
      "D:\\Projects\\Pr\\3915.10\\Data_Viewer\\Tiff_Overstroming\\kaart_4326_2.25.tif\n",
      "D:\\Projects\\Pr\\3915.10\\Data_Viewer\\Tiff_Overstroming\\kaart_4326_2.50.tif\n",
      "D:\\Projects\\Pr\\3915.10\\Data_Viewer\\Tiff_Overstroming\\kaart_4326_2.75.tif\n",
      "D:\\Projects\\Pr\\3915.10\\Data_Viewer\\Tiff_Overstroming\\kaart_4326_3.00.tif\n",
      "D:\\Projects\\Pr\\3915.10\\Data_Viewer\\Tiff_Overstroming\\kaart_4326_3.25.tif\n",
      "D:\\Projects\\Pr\\3915.10\\Data_Viewer\\Tiff_Overstroming\\kaart_4326_3.50.tif\n",
      "D:\\Projects\\Pr\\3915.10\\Data_Viewer\\Tiff_Overstroming\\kaart_4326_3.75.tif\n",
      "D:\\Projects\\Pr\\3915.10\\Data_Viewer\\Tiff_Overstroming\\kaart_4326_4.00.tif\n",
      "D:\\Projects\\Pr\\3915.10\\Data_Viewer\\Tiff_Overstroming\\kaart_4326_4.25.tif\n",
      "D:\\Projects\\Pr\\3915.10\\Data_Viewer\\Tiff_Overstroming\\kaart_4326_4.50.tif\n",
      "D:\\Projects\\Pr\\3915.10\\Data_Viewer\\Tiff_Overstroming\\kaart_4326_4.75.tif\n",
      "D:\\Projects\\Pr\\3915.10\\Data_Viewer\\Tiff_Overstroming\\kaart_4326_5.00.tif\n",
      "D:\\Projects\\Pr\\3915.10\\Data_Viewer\\Tiff_Overstroming\\kaart_4326_5.25.tif\n",
      "D:\\Projects\\Pr\\3915.10\\Data_Viewer\\Tiff_Overstroming\\kaart_4326_5.50.tif\n",
      "D:\\Projects\\Pr\\3915.10\\Data_Viewer\\Tiff_Overstroming\\kaart_4326_5.75.tif\n",
      "D:\\Projects\\Pr\\3915.10\\Data_Viewer\\Tiff_Overstroming\\kaart_4326_6.00.tif\n",
      "D:\\Projects\\Pr\\3915.10\\Data_Viewer\\Tiff_Overstroming\\kaart_4326_6.25.tif\n",
      "D:\\Projects\\Pr\\3915.10\\Data_Viewer\\Tiff_Overstroming\\kaart_4326_6.50.tif\n",
      "D:\\Projects\\Pr\\3915.10\\Data_Viewer\\Tiff_Overstroming\\kaart_4326_6.75.tif\n",
      "D:\\Projects\\Pr\\3915.10\\Data_Viewer\\Tiff_Overstroming\\kaart_4326_7.00.tif\n",
      "D:\\Projects\\Pr\\3915.10\\Data_Viewer\\Tiff_Overstroming\\kaart_4326_7.25.tif\n",
      "D:\\Projects\\Pr\\3915.10\\Data_Viewer\\Tiff_Overstroming\\kaart_4326_7.50.tif\n",
      "D:\\Projects\\Pr\\3915.10\\Data_Viewer\\Tiff_Overstroming\\kaart_4326_7.75.tif\n",
      "D:\\Projects\\Pr\\3915.10\\Data_Viewer\\Tiff_Overstroming\\kaart_4326_8.00.tif\n"
     ]
    }
   ],
   "source": [
    "for tif_in in tifs:\n",
    "    tif_list = tif_in.split('+')\n",
    "    base = tif_list[0]\n",
    "    base = base.replace('overstroming','4326')\n",
    "    depth = tif_list[1].split('meter')[0]\n",
    "    format_depth = \"{0:.2f}\".format(float(depth))\n",
    "    tif_out = '{}{}.tif'.format(base,format_depth)\n",
    "    print(tif_out)\n",
    "    \n",
    "    # reproject and set new dtype\n",
    "    ds = gdal.Warp(tif_out, tif_in, dstSRS='EPSG:4326', outputType=gdal.GDT_Byte, dstNodata=255)\n",
    "    ds = None\n",
    "\n",
    "    ds = gdal.Open(tif_out, 1) # 0 = read-only, 1 = read-write.\n",
    "    gdal.SetConfigOption('COMPRESS_OVERVIEW', 'DEFLATE')#, 'GDAL_TIFF_OVR_BLOCKSIZE','512')\n",
    "    ds.BuildOverviews(\"CUBICSPLINE\", [2,4,8,16,32,64])\n",
    "    del ds    "
   ]
  },
  {
   "cell_type": "code",
   "execution_count": null,
   "metadata": {},
   "outputs": [],
   "source": []
  },
  {
   "cell_type": "code",
   "execution_count": null,
   "metadata": {},
   "outputs": [],
   "source": []
  }
 ],
 "metadata": {
  "kernelspec": {
   "display_name": "Python 3",
   "language": "python",
   "name": "python3"
  },
  "language_info": {
   "codemirror_mode": {
    "name": "ipython",
    "version": 3
   },
   "file_extension": ".py",
   "mimetype": "text/x-python",
   "name": "python",
   "nbconvert_exporter": "python",
   "pygments_lexer": "ipython3",
   "version": "3.6.5"
  }
 },
 "nbformat": 4,
 "nbformat_minor": 2
}
