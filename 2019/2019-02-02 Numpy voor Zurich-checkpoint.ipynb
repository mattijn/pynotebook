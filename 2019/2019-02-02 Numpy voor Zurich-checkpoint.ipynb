{
 "cells": [
  {
   "cell_type": "code",
   "execution_count": 1,
   "metadata": {},
   "outputs": [],
   "source": [
    "import numpy as np\n",
    "import pandas as pd"
   ]
  },
  {
   "cell_type": "code",
   "execution_count": 2,
   "metadata": {},
   "outputs": [
    {
     "name": "stdout",
     "output_type": "stream",
     "text": [
      "scenario array\n",
      " [[1 2 3 0 1]\n",
      " [2 3 2 2 2]\n",
      " [0 3 3 2 2]]\n",
      "column combination to slice\n",
      " [[0, 1], [0, 3], [1, 4]]\n"
     ]
    }
   ],
   "source": [
    "# principe\n",
    "A = np.array([[1, 2, 3, 0, 1],[2, 3, 2, 2, 2],[0, 3, 3, 2, 2]])\n",
    "cols = [[0,1], [0,3], [1,4]]\n",
    "print('scenario array\\n',A)\n",
    "print('column combination to slice\\n', cols)"
   ]
  },
  {
   "cell_type": "code",
   "execution_count": 3,
   "metadata": {},
   "outputs": [
    {
     "data": {
      "text/plain": [
       "array([[2, 1, 2],\n",
       "       [3, 2, 3],\n",
       "       [3, 2, 3]])"
      ]
     },
     "execution_count": 3,
     "metadata": {},
     "output_type": "execute_result"
    }
   ],
   "source": [
    "# slice column combination and compute max\n",
    "A[:,cols].swapaxes(0,1).max(axis=2).T"
   ]
  },
  {
   "cell_type": "code",
   "execution_count": 4,
   "metadata": {},
   "outputs": [],
   "source": [
    "# load TableToArray numpy object\n",
    "npy_path = r\"D:\\Projects\\Pr\\3728.10\\Database\\meren500.npy\"\n",
    "void = np.load(npy_path)"
   ]
  },
  {
   "cell_type": "code",
   "execution_count": 5,
   "metadata": {},
   "outputs": [],
   "source": [
    "# prepare empty array\n",
    "array = np.empty((void.shape[0], len(void[0])))\n",
    "# parse void array\n",
    "for row_ix in range(void.shape[0]):\n",
    "    y = void[row_ix]\n",
    "    array[row_ix] = np.array(y.tolist())   "
   ]
  },
  {
   "cell_type": "code",
   "execution_count": 6,
   "metadata": {},
   "outputs": [
    {
     "data": {
      "text/plain": [
       "array([1.10000002, 1.10000002, 1.10000002, ...,        nan,        nan,\n",
       "              nan])"
      ]
     },
     "execution_count": 6,
     "metadata": {},
     "output_type": "execute_result"
    }
   ],
   "source": [
    "# risk values are higher than 1, this is possible?\n",
    "array[:,91]"
   ]
  },
  {
   "cell_type": "code",
   "execution_count": 7,
   "metadata": {},
   "outputs": [],
   "source": [
    "# set nan values to 0, multiply by ten-thousand and change type to integer\n",
    "array[np.isnan(array)] = 0\n",
    "array *= 10000\n",
    "array = array.astype(int) "
   ]
  },
  {
   "cell_type": "code",
   "execution_count": 8,
   "metadata": {},
   "outputs": [
    {
     "name": "stderr",
     "output_type": "stream",
     "text": [
      "C:\\ProgramData\\Miniconda3\\lib\\site-packages\\IPython\\core\\interactiveshell.py:2785: DtypeWarning: Columns (4) have mixed types. Specify dtype option on import or set low_memory=False.\n",
      "  interactivity=interactivity, compiler=compiler, result=result)\n"
     ]
    },
    {
     "data": {
      "text/html": [
       "<div>\n",
       "<style scoped>\n",
       "    .dataframe tbody tr th:only-of-type {\n",
       "        vertical-align: middle;\n",
       "    }\n",
       "\n",
       "    .dataframe tbody tr th {\n",
       "        vertical-align: top;\n",
       "    }\n",
       "\n",
       "    .dataframe thead th {\n",
       "        text-align: right;\n",
       "    }\n",
       "</style>\n",
       "<table border=\"1\" class=\"dataframe\">\n",
       "  <thead>\n",
       "    <tr style=\"text-align: right;\">\n",
       "      <th></th>\n",
       "      <th>Unnamed: 0</th>\n",
       "      <th>ID</th>\n",
       "      <th>Regio</th>\n",
       "      <th>T_Bin</th>\n",
       "      <th>DKR</th>\n",
       "      <th>Cond_Prob</th>\n",
       "      <th>Breach_ID1</th>\n",
       "      <th>Breach_name1</th>\n",
       "      <th>Flood_scenario_ID1</th>\n",
       "      <th>Flood_scenario_Name1</th>\n",
       "      <th>...</th>\n",
       "      <th>Breach_ID3</th>\n",
       "      <th>Breach_name3</th>\n",
       "      <th>Flood_scenario_ID3</th>\n",
       "      <th>Flood_scenario_Name3</th>\n",
       "      <th>Breach_ID4</th>\n",
       "      <th>Breach_name4</th>\n",
       "      <th>Flood_scenario_ID4</th>\n",
       "      <th>Flood_scenario_Name4</th>\n",
       "      <th>Flood_duration</th>\n",
       "      <th>Scenario_Prob</th>\n",
       "    </tr>\n",
       "  </thead>\n",
       "  <tbody>\n",
       "    <tr>\n",
       "      <th>0</th>\n",
       "      <td>0</td>\n",
       "      <td>666</td>\n",
       "      <td>Meren</td>\n",
       "      <td>10000</td>\n",
       "      <td>6</td>\n",
       "      <td>0.006383</td>\n",
       "      <td>31</td>\n",
       "      <td>Lemmer Riensluis</td>\n",
       "      <td>165</td>\n",
       "      <td>geo_friesland_en_groningen__lemmer_riensluis__...</td>\n",
       "      <td>...</td>\n",
       "      <td>NaN</td>\n",
       "      <td>NaN</td>\n",
       "      <td>NaN</td>\n",
       "      <td>NaN</td>\n",
       "      <td>NaN</td>\n",
       "      <td>NaN</td>\n",
       "      <td>NaN</td>\n",
       "      <td>NaN</td>\n",
       "      <td>99</td>\n",
       "      <td>5.744681e-07</td>\n",
       "    </tr>\n",
       "    <tr>\n",
       "      <th>1</th>\n",
       "      <td>1</td>\n",
       "      <td>667</td>\n",
       "      <td>Meren</td>\n",
       "      <td>100000</td>\n",
       "      <td>6</td>\n",
       "      <td>0.005769</td>\n",
       "      <td>31</td>\n",
       "      <td>Lemmer Riensluis</td>\n",
       "      <td>167</td>\n",
       "      <td>geo_friesland_en_groningen__lemmer_riensluis__...</td>\n",
       "      <td>...</td>\n",
       "      <td>NaN</td>\n",
       "      <td>NaN</td>\n",
       "      <td>NaN</td>\n",
       "      <td>NaN</td>\n",
       "      <td>NaN</td>\n",
       "      <td>NaN</td>\n",
       "      <td>NaN</td>\n",
       "      <td>NaN</td>\n",
       "      <td>99</td>\n",
       "      <td>5.192308e-08</td>\n",
       "    </tr>\n",
       "    <tr>\n",
       "      <th>2</th>\n",
       "      <td>2</td>\n",
       "      <td>668</td>\n",
       "      <td>Meren</td>\n",
       "      <td>1000000</td>\n",
       "      <td>6</td>\n",
       "      <td>0.001408</td>\n",
       "      <td>31</td>\n",
       "      <td>Lemmer Riensluis</td>\n",
       "      <td>167</td>\n",
       "      <td>geo_friesland_en_groningen__lemmer_riensluis__...</td>\n",
       "      <td>...</td>\n",
       "      <td>NaN</td>\n",
       "      <td>NaN</td>\n",
       "      <td>NaN</td>\n",
       "      <td>NaN</td>\n",
       "      <td>NaN</td>\n",
       "      <td>NaN</td>\n",
       "      <td>NaN</td>\n",
       "      <td>NaN</td>\n",
       "      <td>99</td>\n",
       "      <td>1.408451e-09</td>\n",
       "    </tr>\n",
       "    <tr>\n",
       "      <th>3</th>\n",
       "      <td>3</td>\n",
       "      <td>669</td>\n",
       "      <td>Meren</td>\n",
       "      <td>500</td>\n",
       "      <td>6</td>\n",
       "      <td>0.014286</td>\n",
       "      <td>32</td>\n",
       "      <td>Lemmer PM Sluis</td>\n",
       "      <td>168</td>\n",
       "      <td>geo_friesland_en_groningen__lemmer_pm_sluis__t...</td>\n",
       "      <td>...</td>\n",
       "      <td>NaN</td>\n",
       "      <td>NaN</td>\n",
       "      <td>NaN</td>\n",
       "      <td>NaN</td>\n",
       "      <td>NaN</td>\n",
       "      <td>NaN</td>\n",
       "      <td>NaN</td>\n",
       "      <td>NaN</td>\n",
       "      <td>99</td>\n",
       "      <td>1.428571e-05</td>\n",
       "    </tr>\n",
       "    <tr>\n",
       "      <th>4</th>\n",
       "      <td>4</td>\n",
       "      <td>670</td>\n",
       "      <td>Meren</td>\n",
       "      <td>1000</td>\n",
       "      <td>6</td>\n",
       "      <td>0.011765</td>\n",
       "      <td>32</td>\n",
       "      <td>Lemmer PM Sluis</td>\n",
       "      <td>168</td>\n",
       "      <td>geo_friesland_en_groningen__lemmer_pm_sluis__t...</td>\n",
       "      <td>...</td>\n",
       "      <td>NaN</td>\n",
       "      <td>NaN</td>\n",
       "      <td>NaN</td>\n",
       "      <td>NaN</td>\n",
       "      <td>NaN</td>\n",
       "      <td>NaN</td>\n",
       "      <td>NaN</td>\n",
       "      <td>NaN</td>\n",
       "      <td>99</td>\n",
       "      <td>5.882353e-06</td>\n",
       "    </tr>\n",
       "  </tbody>\n",
       "</table>\n",
       "<p>5 rows × 24 columns</p>\n",
       "</div>"
      ],
      "text/plain": [
       "   Unnamed: 0   ID  Regio    T_Bin DKR  Cond_Prob  Breach_ID1  \\\n",
       "0           0  666  Meren    10000   6   0.006383          31   \n",
       "1           1  667  Meren   100000   6   0.005769          31   \n",
       "2           2  668  Meren  1000000   6   0.001408          31   \n",
       "3           3  669  Meren      500   6   0.014286          32   \n",
       "4           4  670  Meren     1000   6   0.011765          32   \n",
       "\n",
       "       Breach_name1  Flood_scenario_ID1  \\\n",
       "0  Lemmer Riensluis                 165   \n",
       "1  Lemmer Riensluis                 167   \n",
       "2  Lemmer Riensluis                 167   \n",
       "3   Lemmer PM Sluis                 168   \n",
       "4   Lemmer PM Sluis                 168   \n",
       "\n",
       "                                Flood_scenario_Name1  ...  Breach_ID3  \\\n",
       "0  geo_friesland_en_groningen__lemmer_riensluis__...  ...         NaN   \n",
       "1  geo_friesland_en_groningen__lemmer_riensluis__...  ...         NaN   \n",
       "2  geo_friesland_en_groningen__lemmer_riensluis__...  ...         NaN   \n",
       "3  geo_friesland_en_groningen__lemmer_pm_sluis__t...  ...         NaN   \n",
       "4  geo_friesland_en_groningen__lemmer_pm_sluis__t...  ...         NaN   \n",
       "\n",
       "  Breach_name3  Flood_scenario_ID3 Flood_scenario_Name3  Breach_ID4  \\\n",
       "0          NaN                 NaN                  NaN         NaN   \n",
       "1          NaN                 NaN                  NaN         NaN   \n",
       "2          NaN                 NaN                  NaN         NaN   \n",
       "3          NaN                 NaN                  NaN         NaN   \n",
       "4          NaN                 NaN                  NaN         NaN   \n",
       "\n",
       "  Breach_name4  Flood_scenario_ID4 Flood_scenario_Name4  Flood_duration  \\\n",
       "0          NaN                 NaN                  NaN              99   \n",
       "1          NaN                 NaN                  NaN              99   \n",
       "2          NaN                 NaN                  NaN              99   \n",
       "3          NaN                 NaN                  NaN              99   \n",
       "4          NaN                 NaN                  NaN              99   \n",
       "\n",
       "   Scenario_Prob  \n",
       "0   5.744681e-07  \n",
       "1   5.192308e-08  \n",
       "2   1.408451e-09  \n",
       "3   1.428571e-05  \n",
       "4   5.882353e-06  \n",
       "\n",
       "[5 rows x 24 columns]"
      ]
     },
     "execution_count": 8,
     "metadata": {},
     "output_type": "execute_result"
    }
   ],
   "source": [
    "# load event set\n",
    "csv_path = r\"D:\\Projects\\Pr\\3728.10\\Database\\eventsetplus_v4_20190128\\eventsetplus_Meren.csv\"\n",
    "df = pd.read_csv(csv_path)\n",
    "df.head()"
   ]
  },
  {
   "cell_type": "code",
   "execution_count": 9,
   "metadata": {},
   "outputs": [],
   "source": [
    "# # get T500 events\n",
    "# df_500 = df[df['T_Bin'] == 500]\n",
    "# b = df_500[['Flood_scenario_ID1', 'Flood_scenario_ID2', 'Flood_scenario_ID3']]\n",
    "# get all events\n",
    "b = df[['Flood_scenario_ID1', 'Flood_scenario_ID2', 'Flood_scenario_ID3']]\n",
    "\n",
    "enkelvoudig = b[(~b['Flood_scenario_ID1'].isnull()) & (b['Flood_scenario_ID2'].isnull()) & (b['Flood_scenario_ID3'].isnull())]\n",
    "tweevoudig = b[(~b['Flood_scenario_ID1'].isnull()) & (~b['Flood_scenario_ID2'].isnull()) & (b['Flood_scenario_ID3'].isnull())]\n",
    "drievoudig = b[(~b['Flood_scenario_ID1'].isnull()) & (~b['Flood_scenario_ID2'].isnull()) & (~b['Flood_scenario_ID3'].isnull())]"
   ]
  },
  {
   "cell_type": "code",
   "execution_count": 10,
   "metadata": {},
   "outputs": [
    {
     "name": "stderr",
     "output_type": "stream",
     "text": [
      "C:\\ProgramData\\Miniconda3\\lib\\site-packages\\pandas\\core\\indexing.py:543: SettingWithCopyWarning: \n",
      "A value is trying to be set on a copy of a slice from a DataFrame.\n",
      "Try using .loc[row_indexer,col_indexer] = value instead\n",
      "\n",
      "See the caveats in the documentation: http://pandas.pydata.org/pandas-docs/stable/indexing.html#indexing-view-versus-copy\n",
      "  self.obj[item] = s\n"
     ]
    },
    {
     "data": {
      "text/html": [
       "<div>\n",
       "<style scoped>\n",
       "    .dataframe tbody tr th:only-of-type {\n",
       "        vertical-align: middle;\n",
       "    }\n",
       "\n",
       "    .dataframe tbody tr th {\n",
       "        vertical-align: top;\n",
       "    }\n",
       "\n",
       "    .dataframe thead th {\n",
       "        text-align: right;\n",
       "    }\n",
       "</style>\n",
       "<table border=\"1\" class=\"dataframe\">\n",
       "  <thead>\n",
       "    <tr style=\"text-align: right;\">\n",
       "      <th></th>\n",
       "      <th>Flood_scenario_ID1</th>\n",
       "      <th>Flood_scenario_ID2</th>\n",
       "    </tr>\n",
       "  </thead>\n",
       "  <tbody>\n",
       "    <tr>\n",
       "      <th>0</th>\n",
       "      <td>F168</td>\n",
       "      <td>F323</td>\n",
       "    </tr>\n",
       "    <tr>\n",
       "      <th>1</th>\n",
       "      <td>F168</td>\n",
       "      <td>F349</td>\n",
       "    </tr>\n",
       "    <tr>\n",
       "      <th>2</th>\n",
       "      <td>F168</td>\n",
       "      <td>F400</td>\n",
       "    </tr>\n",
       "    <tr>\n",
       "      <th>3</th>\n",
       "      <td>F168</td>\n",
       "      <td>F460</td>\n",
       "    </tr>\n",
       "    <tr>\n",
       "      <th>4</th>\n",
       "      <td>F168</td>\n",
       "      <td>F480</td>\n",
       "    </tr>\n",
       "  </tbody>\n",
       "</table>\n",
       "</div>"
      ],
      "text/plain": [
       "  Flood_scenario_ID1 Flood_scenario_ID2\n",
       "0               F168               F323\n",
       "1               F168               F349\n",
       "2               F168               F400\n",
       "3               F168               F460\n",
       "4               F168               F480"
      ]
     },
     "execution_count": 10,
     "metadata": {},
     "output_type": "execute_result"
    }
   ],
   "source": [
    "# parse tweevoudige breaches into array to be used as lookup on scenario dataframe\n",
    "tweevoudig.loc[:, 'Flood_scenario_ID1'] = 'F' + tweevoudig['Flood_scenario_ID1'].astype(int).astype(str)\n",
    "tweevoudig.loc[:, 'Flood_scenario_ID2'] = 'F' + tweevoudig['Flood_scenario_ID2'].astype(int).astype(str)\n",
    "tweevoudig = tweevoudig[['Flood_scenario_ID1','Flood_scenario_ID2']].reset_index(drop=True)\n",
    "tweevoudig.head()"
   ]
  },
  {
   "cell_type": "code",
   "execution_count": 11,
   "metadata": {},
   "outputs": [
    {
     "data": {
      "text/html": [
       "<div>\n",
       "<style scoped>\n",
       "    .dataframe tbody tr th:only-of-type {\n",
       "        vertical-align: middle;\n",
       "    }\n",
       "\n",
       "    .dataframe tbody tr th {\n",
       "        vertical-align: top;\n",
       "    }\n",
       "\n",
       "    .dataframe thead th {\n",
       "        text-align: right;\n",
       "    }\n",
       "</style>\n",
       "<table border=\"1\" class=\"dataframe\">\n",
       "  <thead>\n",
       "    <tr style=\"text-align: right;\">\n",
       "      <th></th>\n",
       "      <th>id</th>\n",
       "    </tr>\n",
       "  </thead>\n",
       "  <tbody>\n",
       "    <tr>\n",
       "      <th>0</th>\n",
       "      <td>OBJECTID</td>\n",
       "    </tr>\n",
       "    <tr>\n",
       "      <th>1</th>\n",
       "      <td>nl_grid</td>\n",
       "    </tr>\n",
       "    <tr>\n",
       "      <th>2</th>\n",
       "      <td>X</td>\n",
       "    </tr>\n",
       "    <tr>\n",
       "      <th>3</th>\n",
       "      <td>Y</td>\n",
       "    </tr>\n",
       "    <tr>\n",
       "      <th>4</th>\n",
       "      <td>F81</td>\n",
       "    </tr>\n",
       "  </tbody>\n",
       "</table>\n",
       "</div>"
      ],
      "text/plain": [
       "         id\n",
       "0  OBJECTID\n",
       "1   nl_grid\n",
       "2         X\n",
       "3         Y\n",
       "4       F81"
      ]
     },
     "execution_count": 11,
     "metadata": {},
     "output_type": "execute_result"
    }
   ],
   "source": [
    "# load fieldnames which correspond to scenarios\n",
    "path_columns = r\"D:\\Projects\\Pr\\3728.10\\Database\\fieldnames.csv\"\n",
    "s = pd.read_csv(path_columns)\n",
    "s = s[2::4].reset_index(drop=True)\n",
    "s.columns = ['id']\n",
    "s.head()"
   ]
  },
  {
   "cell_type": "code",
   "execution_count": 12,
   "metadata": {},
   "outputs": [
    {
     "data": {
      "text/plain": [
       "((1850, 1), (69913, 1930))"
      ]
     },
     "execution_count": 12,
     "metadata": {},
     "output_type": "execute_result"
    }
   ],
   "source": [
    "# not all scenarios are present in the fieldnames.csv\n",
    "# 1850 (-4) scenarios in fieldnames.csv\n",
    "# 1930 (-1) scenarios in meren500.npy\n",
    "s.shape, array.shape"
   ]
  },
  {
   "cell_type": "code",
   "execution_count": 13,
   "metadata": {},
   "outputs": [
    {
     "data": {
      "text/plain": [
       "array([[  91,  246],\n",
       "       [  91,  272],\n",
       "       [  91,  323],\n",
       "       ...,\n",
       "       [1808, 1811],\n",
       "       [1808, 1814],\n",
       "       [1811, 1814]])"
      ]
     },
     "execution_count": 13,
     "metadata": {},
     "output_type": "execute_result"
    }
   ],
   "source": [
    "# continue anyway\n",
    "# get combinations as index array\n",
    "combs = tweevoudig.values\n",
    "\n",
    "idx_comb = []\n",
    "for comb in combs:\n",
    "    idxes = s.index[s['id'].isin(comb)].tolist()\n",
    "    idx_comb.append(idxes)   \n",
    "\n",
    "idx_comb = np.array(idx_comb)    \n",
    "idx_comb"
   ]
  },
  {
   "cell_type": "code",
   "execution_count": 14,
   "metadata": {},
   "outputs": [
    {
     "data": {
      "text/plain": [
       "(5910, 2)"
      ]
     },
     "execution_count": 14,
     "metadata": {},
     "output_type": "execute_result"
    }
   ],
   "source": [
    "# number of combinations\n",
    "idx_comb.shape"
   ]
  },
  {
   "cell_type": "code",
   "execution_count": 15,
   "metadata": {},
   "outputs": [],
   "source": [
    "#%%timeit\n",
    "# slice and compute max at once\n",
    "selection = array[:, idx_comb].swapaxes(0,1).max(axis=2).T"
   ]
  },
  {
   "cell_type": "code",
   "execution_count": 16,
   "metadata": {},
   "outputs": [
    {
     "data": {
      "text/plain": [
       "array([[1.1   , 1.1   , 1.1   , ..., 0.    , 0.    , 0.    ],\n",
       "       [1.1   , 1.1   , 1.1   , ..., 0.    , 0.    , 0.    ],\n",
       "       [1.1   , 1.1   , 1.1   , ..., 0.    , 0.    , 0.    ],\n",
       "       ...,\n",
       "       [0.    , 0.    , 0.    , ..., 0.0049, 0.0049, 0.0049],\n",
       "       [0.    , 0.    , 0.    , ..., 0.0074, 0.0074, 0.0074],\n",
       "       [0.    , 0.    , 0.    , ..., 0.0199, 0.0199, 0.0199]])"
      ]
     },
     "execution_count": 16,
     "metadata": {},
     "output_type": "execute_result"
    }
   ],
   "source": [
    "selection / 10000"
   ]
  },
  {
   "cell_type": "code",
   "execution_count": 17,
   "metadata": {},
   "outputs": [],
   "source": [
    "# scenario risk are above 1, that seems not possible"
   ]
  },
  {
   "cell_type": "code",
   "execution_count": 18,
   "metadata": {},
   "outputs": [
    {
     "data": {
      "text/plain": [
       "(69913, 5910)"
      ]
     },
     "execution_count": 18,
     "metadata": {},
     "output_type": "execute_result"
    }
   ],
   "source": [
    "# ~70.000 points for ~6.000 tweevoudige scenario combinations\n",
    "selection.shape"
   ]
  },
  {
   "cell_type": "code",
   "execution_count": null,
   "metadata": {},
   "outputs": [],
   "source": []
  }
 ],
 "metadata": {
  "kernelspec": {
   "display_name": "Python 3",
   "language": "python",
   "name": "python3"
  },
  "language_info": {
   "codemirror_mode": {
    "name": "ipython",
    "version": 3
   },
   "file_extension": ".py",
   "mimetype": "text/x-python",
   "name": "python",
   "nbconvert_exporter": "python",
   "pygments_lexer": "ipython3",
   "version": "3.6.5"
  }
 },
 "nbformat": 4,
 "nbformat_minor": 2
}
