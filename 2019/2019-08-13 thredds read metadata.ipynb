{
 "cells": [
  {
   "cell_type": "code",
   "execution_count": 1,
   "metadata": {},
   "outputs": [],
   "source": [
    "from hkvfewspy.utils.untangle import parse_raw\n",
    "import requests\n",
    "from datetime import datetime, timedelta\n",
    "import pandas as pd"
   ]
  },
  {
   "cell_type": "code",
   "execution_count": 2,
   "metadata": {},
   "outputs": [],
   "source": [
    "url = 'https://thredds.dmhoutribdijk.nl/thredds/catalog/MONITOR/data_standard/STB/FL65/catalog.xml'"
   ]
  },
  {
   "cell_type": "code",
   "execution_count": 3,
   "metadata": {},
   "outputs": [],
   "source": [
    "start_rel_T0 = 8\n",
    "period_days = 7\n",
    "parIds = ['STB']\n",
    "locIds = ['FL65']"
   ]
  },
  {
   "cell_type": "code",
   "execution_count": 4,
   "metadata": {},
   "outputs": [],
   "source": [
    "r = requests.get(url)\n",
    "po = parse_raw(r.text)"
   ]
  },
  {
   "cell_type": "code",
   "execution_count": 5,
   "metadata": {},
   "outputs": [],
   "source": [
    "items = []\n",
    "for ds in po.catalog.dataset.dataset:\n",
    "    items.append({'name':ds['name'], \n",
    "                  'size':float(ds.dataSize.cdata),\n",
    "                  'unit':ds.dataSize['units'],\n",
    "                  'date':pd.to_datetime(ds['name'][-11:-3], format='%Y%m%d')}) #%H%M%S "
   ]
  },
  {
   "cell_type": "code",
   "execution_count": 6,
   "metadata": {},
   "outputs": [],
   "source": [
    "df = pd.DataFrame.from_dict(items)\n",
    "end = pd.datetime.now() - timedelta(start_rel_T0)\n",
    "start = end - timedelta(period_days)\n",
    "dt_slice = df[(df['date'] > start) & (df['date']<end)]\n",
    "freq_no = dt_slice.shape[0] / period_days * 100\n",
    "dt_gt_0 = dt_slice[dt_slice['size'] > 0]\n",
    "freq_size = dt_gt_0.shape[0] / period_days * 100"
   ]
  },
  {
   "cell_type": "code",
   "execution_count": 7,
   "metadata": {},
   "outputs": [],
   "source": [
    "report = []\n",
    "for parId in parIds:\n",
    "    for locId in locIds:\n",
    "        report.append({'parId':parId, 'locId':locId, '#frequency':freq_no, 'size_frequency':freq_size})        "
   ]
  },
  {
   "cell_type": "code",
   "execution_count": 8,
   "metadata": {},
   "outputs": [],
   "source": [
    "df_rep = pd.DataFrame().from_dict(report)"
   ]
  },
  {
   "cell_type": "code",
   "execution_count": 9,
   "metadata": {},
   "outputs": [
    {
     "data": {
      "text/html": [
       "<div>\n",
       "<style scoped>\n",
       "    .dataframe tbody tr th:only-of-type {\n",
       "        vertical-align: middle;\n",
       "    }\n",
       "\n",
       "    .dataframe tbody tr th {\n",
       "        vertical-align: top;\n",
       "    }\n",
       "\n",
       "    .dataframe thead th {\n",
       "        text-align: right;\n",
       "    }\n",
       "</style>\n",
       "<table border=\"1\" class=\"dataframe\">\n",
       "  <thead>\n",
       "    <tr style=\"text-align: right;\">\n",
       "      <th></th>\n",
       "      <th>#frequency</th>\n",
       "      <th>locId</th>\n",
       "      <th>parId</th>\n",
       "      <th>size_frequency</th>\n",
       "    </tr>\n",
       "  </thead>\n",
       "  <tbody>\n",
       "    <tr>\n",
       "      <th>0</th>\n",
       "      <td>100.0</td>\n",
       "      <td>FL65</td>\n",
       "      <td>STB</td>\n",
       "      <td>100.0</td>\n",
       "    </tr>\n",
       "  </tbody>\n",
       "</table>\n",
       "</div>"
      ],
      "text/plain": [
       "   #frequency locId parId  size_frequency\n",
       "0       100.0  FL65   STB           100.0"
      ]
     },
     "execution_count": 9,
     "metadata": {},
     "output_type": "execute_result"
    }
   ],
   "source": [
    "df_rep"
   ]
  },
  {
   "cell_type": "code",
   "execution_count": null,
   "metadata": {},
   "outputs": [],
   "source": []
  }
 ],
 "metadata": {
  "kernelspec": {
   "display_name": "Python 3",
   "language": "python",
   "name": "python3"
  },
  "language_info": {
   "codemirror_mode": {
    "name": "ipython",
    "version": 3
   },
   "file_extension": ".py",
   "mimetype": "text/x-python",
   "name": "python",
   "nbconvert_exporter": "python",
   "pygments_lexer": "ipython3",
   "version": "3.6.5"
  }
 },
 "nbformat": 4,
 "nbformat_minor": 4
}
