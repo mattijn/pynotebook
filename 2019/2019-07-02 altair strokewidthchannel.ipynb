{
 "cells": [
  {
   "cell_type": "code",
   "execution_count": 1,
   "metadata": {},
   "outputs": [],
   "source": [
    "import pandas as pd\n",
    "import os, time"
   ]
  },
  {
   "cell_type": "code",
   "execution_count": 2,
   "metadata": {},
   "outputs": [],
   "source": [
    "init_file = r\"C:\\Users\\hoek.HKV\\Desktop\\FTP_reizen_handmatig.xlsm\""
   ]
  },
  {
   "cell_type": "code",
   "execution_count": 3,
   "metadata": {},
   "outputs": [],
   "source": [
    "df = pd.read_excel(init_file, skiprows=1)\n",
    "df.drop(df.columns[[11,12,14,15]], axis=1, inplace=True)\n",
    "df.dropna(how='all', inplace=True)\n",
    "df[['tripid', 'week', 'trip_duration_bruto_secs' ]] = df[['tripid', 'week', 'trip_duration_bruto_secs' ]].astype(int)\n",
    "\n"
   ]
  },
  {
   "cell_type": "code",
   "execution_count": 4,
   "metadata": {},
   "outputs": [
    {
     "data": {
      "text/html": [
       "<div>\n",
       "<style scoped>\n",
       "    .dataframe tbody tr th:only-of-type {\n",
       "        vertical-align: middle;\n",
       "    }\n",
       "\n",
       "    .dataframe tbody tr th {\n",
       "        vertical-align: top;\n",
       "    }\n",
       "\n",
       "    .dataframe thead th {\n",
       "        text-align: right;\n",
       "    }\n",
       "</style>\n",
       "<table border=\"1\" class=\"dataframe\">\n",
       "  <thead>\n",
       "    <tr style=\"text-align: right;\">\n",
       "      <th></th>\n",
       "      <th>projectname</th>\n",
       "      <th>contractnumber</th>\n",
       "      <th>parcelnumber</th>\n",
       "      <th>shipname</th>\n",
       "      <th>tripid</th>\n",
       "      <th>tripnumber</th>\n",
       "      <th>triptype</th>\n",
       "      <th>tripstatus</th>\n",
       "      <th>loadinglocations</th>\n",
       "      <th>dumpinglocations</th>\n",
       "      <th>...</th>\n",
       "      <th>trip_durdelays_secs</th>\n",
       "      <th>trip_durdelays_dtts</th>\n",
       "      <th>lv_startts</th>\n",
       "      <th>ls_endts</th>\n",
       "      <th>duration_lv</th>\n",
       "      <th>duration_trld</th>\n",
       "      <th>duration_ld</th>\n",
       "      <th>duration_vv</th>\n",
       "      <th>duration_trls</th>\n",
       "      <th>duration_ls</th>\n",
       "    </tr>\n",
       "  </thead>\n",
       "  <tbody>\n",
       "    <tr>\n",
       "      <th>0</th>\n",
       "      <td>Waddenzee</td>\n",
       "      <td>31107688.0</td>\n",
       "      <td>NaN</td>\n",
       "      <td>Ameland</td>\n",
       "      <td>1</td>\n",
       "      <td>NaN</td>\n",
       "      <td>Verspreiden</td>\n",
       "      <td>NaN</td>\n",
       "      <td>Holwerd - VA25</td>\n",
       "      <td>Zuiderspruit</td>\n",
       "      <td>...</td>\n",
       "      <td>NaN</td>\n",
       "      <td>NaN</td>\n",
       "      <td>NaN</td>\n",
       "      <td>NaN</td>\n",
       "      <td>NaN</td>\n",
       "      <td>NaN</td>\n",
       "      <td>NaN</td>\n",
       "      <td>NaN</td>\n",
       "      <td>NaN</td>\n",
       "      <td>NaN</td>\n",
       "    </tr>\n",
       "    <tr>\n",
       "      <th>1</th>\n",
       "      <td>Waddenzee</td>\n",
       "      <td>31107688.0</td>\n",
       "      <td>NaN</td>\n",
       "      <td>Ameland</td>\n",
       "      <td>2</td>\n",
       "      <td>NaN</td>\n",
       "      <td>Agiteren</td>\n",
       "      <td>NaN</td>\n",
       "      <td>Holwerd - VA25</td>\n",
       "      <td>NaN</td>\n",
       "      <td>...</td>\n",
       "      <td>NaN</td>\n",
       "      <td>NaN</td>\n",
       "      <td>NaN</td>\n",
       "      <td>NaN</td>\n",
       "      <td>NaN</td>\n",
       "      <td>NaN</td>\n",
       "      <td>NaN</td>\n",
       "      <td>NaN</td>\n",
       "      <td>NaN</td>\n",
       "      <td>NaN</td>\n",
       "    </tr>\n",
       "    <tr>\n",
       "      <th>2</th>\n",
       "      <td>Waddenzee</td>\n",
       "      <td>31107688.0</td>\n",
       "      <td>NaN</td>\n",
       "      <td>Ameland</td>\n",
       "      <td>3</td>\n",
       "      <td>NaN</td>\n",
       "      <td>Agiteren</td>\n",
       "      <td>NaN</td>\n",
       "      <td>Holwerd - VA25</td>\n",
       "      <td>NaN</td>\n",
       "      <td>...</td>\n",
       "      <td>NaN</td>\n",
       "      <td>NaN</td>\n",
       "      <td>NaN</td>\n",
       "      <td>NaN</td>\n",
       "      <td>NaN</td>\n",
       "      <td>NaN</td>\n",
       "      <td>NaN</td>\n",
       "      <td>NaN</td>\n",
       "      <td>NaN</td>\n",
       "      <td>NaN</td>\n",
       "    </tr>\n",
       "    <tr>\n",
       "      <th>3</th>\n",
       "      <td>Waddenzee</td>\n",
       "      <td>31107688.0</td>\n",
       "      <td>NaN</td>\n",
       "      <td>Ameland</td>\n",
       "      <td>4</td>\n",
       "      <td>NaN</td>\n",
       "      <td>Agiteren</td>\n",
       "      <td>NaN</td>\n",
       "      <td>Holwerd - VA25</td>\n",
       "      <td>NaN</td>\n",
       "      <td>...</td>\n",
       "      <td>NaN</td>\n",
       "      <td>NaN</td>\n",
       "      <td>NaN</td>\n",
       "      <td>NaN</td>\n",
       "      <td>NaN</td>\n",
       "      <td>NaN</td>\n",
       "      <td>NaN</td>\n",
       "      <td>NaN</td>\n",
       "      <td>NaN</td>\n",
       "      <td>NaN</td>\n",
       "    </tr>\n",
       "    <tr>\n",
       "      <th>4</th>\n",
       "      <td>Waddenzee</td>\n",
       "      <td>31107688.0</td>\n",
       "      <td>NaN</td>\n",
       "      <td>Ameland</td>\n",
       "      <td>5</td>\n",
       "      <td>NaN</td>\n",
       "      <td>Agiteren</td>\n",
       "      <td>NaN</td>\n",
       "      <td>Holwerd - VA25</td>\n",
       "      <td>NaN</td>\n",
       "      <td>...</td>\n",
       "      <td>NaN</td>\n",
       "      <td>NaN</td>\n",
       "      <td>NaN</td>\n",
       "      <td>NaN</td>\n",
       "      <td>NaN</td>\n",
       "      <td>NaN</td>\n",
       "      <td>NaN</td>\n",
       "      <td>NaN</td>\n",
       "      <td>NaN</td>\n",
       "      <td>NaN</td>\n",
       "    </tr>\n",
       "  </tbody>\n",
       "</table>\n",
       "<p>5 rows × 41 columns</p>\n",
       "</div>"
      ],
      "text/plain": [
       "  projectname  contractnumber parcelnumber shipname  tripid  tripnumber  \\\n",
       "0   Waddenzee      31107688.0          NaN  Ameland       1         NaN   \n",
       "1   Waddenzee      31107688.0          NaN  Ameland       2         NaN   \n",
       "2   Waddenzee      31107688.0          NaN  Ameland       3         NaN   \n",
       "3   Waddenzee      31107688.0          NaN  Ameland       4         NaN   \n",
       "4   Waddenzee      31107688.0          NaN  Ameland       5         NaN   \n",
       "\n",
       "      triptype tripstatus loadinglocations dumpinglocations  ...  \\\n",
       "0  Verspreiden        NaN   Holwerd - VA25     Zuiderspruit  ...   \n",
       "1     Agiteren        NaN   Holwerd - VA25              NaN  ...   \n",
       "2     Agiteren        NaN   Holwerd - VA25              NaN  ...   \n",
       "3     Agiteren        NaN   Holwerd - VA25              NaN  ...   \n",
       "4     Agiteren        NaN   Holwerd - VA25              NaN  ...   \n",
       "\n",
       "   trip_durdelays_secs trip_durdelays_dtts lv_startts  ls_endts duration_lv  \\\n",
       "0                  NaN                 NaN        NaN       NaN         NaN   \n",
       "1                  NaN                 NaN        NaN       NaN         NaN   \n",
       "2                  NaN                 NaN        NaN       NaN         NaN   \n",
       "3                  NaN                 NaN        NaN       NaN         NaN   \n",
       "4                  NaN                 NaN        NaN       NaN         NaN   \n",
       "\n",
       "   duration_trld  duration_ld  duration_vv  duration_trls  duration_ls  \n",
       "0            NaN          NaN          NaN            NaN          NaN  \n",
       "1            NaN          NaN          NaN            NaN          NaN  \n",
       "2            NaN          NaN          NaN            NaN          NaN  \n",
       "3            NaN          NaN          NaN            NaN          NaN  \n",
       "4            NaN          NaN          NaN            NaN          NaN  \n",
       "\n",
       "[5 rows x 41 columns]"
      ]
     },
     "execution_count": 4,
     "metadata": {},
     "output_type": "execute_result"
    }
   ],
   "source": [
    "df.head()"
   ]
  },
  {
   "cell_type": "code",
   "execution_count": 5,
   "metadata": {},
   "outputs": [
    {
     "data": {
      "text/plain": [
       "Index(['projectname', 'contractnumber', 'parcelnumber', 'shipname', 'tripid',\n",
       "       'tripnumber', 'triptype', 'tripstatus', 'loadinglocations',\n",
       "       'dumpinglocations', 'week', 'trip_startts_dt', 'trip_endts_dt',\n",
       "       'trip_duration_bruto_secs', 'trip_duration_bruto_dt',\n",
       "       'trip_massemptyship_ton', 'trip_massfullship_ton',\n",
       "       'trip_massemptyship_corrected_ton', 'soundingvolume',\n",
       "       'hoppervolumeloss', 'hoppervolume', 'hoppervolumelossperc',\n",
       "       'hvl_reductionperc', 'triptds', 'triptds_calc', 'tripm3', 'tripm3_calc',\n",
       "       'hoppervolumem3bu', 'trip_m3bu_bruto', 'trip_m3bu_bruto_calc',\n",
       "       'trip_nrofdelays', 'trip_durdelays_secs', 'trip_durdelays_dtts',\n",
       "       'lv_startts', 'ls_endts', 'duration_lv', 'duration_trld', 'duration_ld',\n",
       "       'duration_vv', 'duration_trls', 'duration_ls'],\n",
       "      dtype='object')"
      ]
     },
     "execution_count": 5,
     "metadata": {},
     "output_type": "execute_result"
    }
   ],
   "source": [
    "df.columns"
   ]
  },
  {
   "cell_type": "code",
   "execution_count": 6,
   "metadata": {},
   "outputs": [],
   "source": [
    "base, extension = os.path.splitext(init_file)"
   ]
  },
  {
   "cell_type": "code",
   "execution_count": 7,
   "metadata": {},
   "outputs": [],
   "source": [
    "interimFolder = r\"C:\\Users\\hoek.HKV\\Desktop\""
   ]
  },
  {
   "cell_type": "code",
   "execution_count": 8,
   "metadata": {},
   "outputs": [],
   "source": [
    "init_file = r\"C:\\Users\\hoek.HKV\\Desktop\\FTP_reizen_handmatig_20190424154221.xlsm\"\n",
    "ts = time.strftime(\"%Y%m%d%H%M%S\")            \n",
    "interim_file = os.path.join( os.path.abspath(interimFolder), base + '_' + ts + '.csv' )"
   ]
  },
  {
   "cell_type": "code",
   "execution_count": 9,
   "metadata": {},
   "outputs": [
    {
     "data": {
      "text/plain": [
       "'C:\\\\Users\\\\hoek.HKV\\\\Desktop\\\\FTP_reizen_handmatig_20190702171746.csv'"
      ]
     },
     "execution_count": 9,
     "metadata": {},
     "output_type": "execute_result"
    }
   ],
   "source": [
    "interim_file"
   ]
  },
  {
   "cell_type": "code",
   "execution_count": 10,
   "metadata": {},
   "outputs": [],
   "source": [
    "df.to_csv(interim_file, index=False, sep=';') "
   ]
  },
  {
   "cell_type": "code",
   "execution_count": null,
   "metadata": {},
   "outputs": [],
   "source": []
  }
 ],
 "metadata": {
  "kernelspec": {
   "display_name": "Python 3",
   "language": "python",
   "name": "python3"
  },
  "language_info": {
   "codemirror_mode": {
    "name": "ipython",
    "version": 3
   },
   "file_extension": ".py",
   "mimetype": "text/x-python",
   "name": "python",
   "nbconvert_exporter": "python",
   "pygments_lexer": "ipython3",
   "version": "3.6.5"
  }
 },
 "nbformat": 4,
 "nbformat_minor": 4
}
