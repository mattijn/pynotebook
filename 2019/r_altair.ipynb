{
 "cells": [
  {
   "cell_type": "code",
   "execution_count": 1,
   "metadata": {},
   "outputs": [],
   "source": [
    "library(reticulate)\n",
    "use_python(\"/usr/local/bin/python3\", required = T)\n",
    "library(IRdisplay)"
   ]
  },
  {
   "cell_type": "code",
   "execution_count": 2,
   "metadata": {},
   "outputs": [
    {
     "data": {
      "text/plain": [
       "python:         /usr/local/bin/python3\n",
       "libpython:      /usr/local/opt/python/Frameworks/Python.framework/Versions/3.7/lib/python3.7/config-3.7m-darwin/libpython3.7.dylib\n",
       "pythonhome:     /usr/local/opt/python/Frameworks/Python.framework/Versions/3.7:/usr/local/opt/python/Frameworks/Python.framework/Versions/3.7\n",
       "version:        3.7.0 (default, Jul 23 2018, 20:22:55)  [Clang 9.1.0 (clang-902.0.39.2)]\n",
       "numpy:          /usr/local/lib/python3.7/site-packages/numpy\n",
       "numpy_version:  1.15.0\n",
       "\n",
       "NOTE: Python version was forced by use_python function"
      ]
     },
     "metadata": {},
     "output_type": "display_data"
    }
   ],
   "source": [
    "py_config()"
   ]
  },
  {
   "cell_type": "code",
   "execution_count": 3,
   "metadata": {},
   "outputs": [
    {
     "data": {
      "text/plain": [
       "DataTransformerRegistry.enable('json')"
      ]
     },
     "metadata": {},
     "output_type": "display_data"
    }
   ],
   "source": [
    "alt <- import(\"altair\")\n",
    "alt$data_transformers$enable('json')"
   ]
  },
  {
   "cell_type": "code",
   "execution_count": 4,
   "metadata": {},
   "outputs": [],
   "source": [
    "vega_datasets <- import(\"vega_datasets\")\n",
    "cars <- vega_datasets$data$cars()"
   ]
  },
  {
   "cell_type": "code",
   "execution_count": 5,
   "metadata": {},
   "outputs": [],
   "source": [
    "chart <- alt$Chart(cars)$mark_point()$encode(\n",
    "    x = \"Horsepower:Q\",\n",
    "    y = \"Miles_per_Gallon:Q\",\n",
    "    color = \"Origin:N\"\n",
    ")"
   ]
  },
  {
   "cell_type": "code",
   "execution_count": 6,
   "metadata": {},
   "outputs": [
    {
     "ename": "ERROR",
     "evalue": "Error in prepare_content(isbinary, data, file): Data needs to be a character vector\n",
     "output_type": "error",
     "traceback": [
      "Error in prepare_content(isbinary, data, file): Data needs to be a character vector\nTraceback:\n",
      "1. IRdisplay::display_json(chart$data)",
      "2. display_raw(\"application/json\", FALSE, data, file)",
      "3. prepare_content(isbinary, data, file)",
      "4. stop(\"Data needs to be a character vector\")"
     ]
    }
   ],
   "source": [
    "IRdisplay::display_json(chart)"
   ]
  },
  {
   "cell_type": "code",
   "execution_count": 7,
   "metadata": {},
   "outputs": [
    {
     "data": {
      "text/html": [
       "<ol>\n",
       "\t<li><dl>\n",
       "\t<dt>$`application/vnd.vegalite.v2+json`</dt>\n",
       "\t\t<dd><dl>\n",
       "\t<dt>$config</dt>\n",
       "\t\t<dd><strong>$view</strong> = <dl>\n",
       "\t<dt>$width</dt>\n",
       "\t\t<dd>400</dd>\n",
       "\t<dt>$height</dt>\n",
       "\t\t<dd>300</dd>\n",
       "</dl>\n",
       "</dd>\n",
       "\t<dt>$data</dt>\n",
       "\t\t<dd><dl>\n",
       "\t<dt>$url</dt>\n",
       "\t\t<dd>'altair-data-9ed1a3eeabb63b2ee6cae45deafc8ab7.json'</dd>\n",
       "\t<dt>$format</dt>\n",
       "\t\t<dd><strong>$type</strong> = 'json'</dd>\n",
       "</dl>\n",
       "</dd>\n",
       "\t<dt>$mark</dt>\n",
       "\t\t<dd>'point'</dd>\n",
       "\t<dt>$encoding</dt>\n",
       "\t\t<dd><dl>\n",
       "\t<dt>$color</dt>\n",
       "\t\t<dd><dl>\n",
       "\t<dt>$type</dt>\n",
       "\t\t<dd>'nominal'</dd>\n",
       "\t<dt>$field</dt>\n",
       "\t\t<dd>'Origin'</dd>\n",
       "</dl>\n",
       "</dd>\n",
       "\t<dt>$x</dt>\n",
       "\t\t<dd><dl>\n",
       "\t<dt>$type</dt>\n",
       "\t\t<dd>'quantitative'</dd>\n",
       "\t<dt>$field</dt>\n",
       "\t\t<dd>'Horsepower'</dd>\n",
       "</dl>\n",
       "</dd>\n",
       "\t<dt>$y</dt>\n",
       "\t\t<dd><dl>\n",
       "\t<dt>$type</dt>\n",
       "\t\t<dd>'quantitative'</dd>\n",
       "\t<dt>$field</dt>\n",
       "\t\t<dd>'Miles_per_Gallon'</dd>\n",
       "</dl>\n",
       "</dd>\n",
       "</dl>\n",
       "</dd>\n",
       "\t<dt>$`$schema`</dt>\n",
       "\t\t<dd>'https://vega.github.io/schema/vega-lite/v2.6.0.json'</dd>\n",
       "</dl>\n",
       "</dd>\n",
       "\t<dt>$`text/plain`</dt>\n",
       "\t\t<dd>'&lt;VegaLite 2 object&gt;\\n\\nIf you see this message, it means the renderer has not been properly enabled\\nfor the frontend that you are using. For more information, see\\nhttps://altair-viz.github.io/user_guide/troubleshooting.html\\n'</dd>\n",
       "</dl>\n",
       "</li>\n",
       "\t<li><dl>\n",
       "</dl>\n",
       "</li>\n",
       "</ol>\n"
      ],
      "text/latex": [
       "\\begin{enumerate}\n",
       "\\item \\begin{description}\n",
       "\\item[\\$`application/vnd.vegalite.v2+json`] \\begin{description}\n",
       "\\item[\\$config] \\textbf{\\$view} = \\begin{description}\n",
       "\\item[\\$width] 400\n",
       "\\item[\\$height] 300\n",
       "\\end{description}\n",
       "\n",
       "\\item[\\$data] \\begin{description}\n",
       "\\item[\\$url] 'altair-data-9ed1a3eeabb63b2ee6cae45deafc8ab7.json'\n",
       "\\item[\\$format] \\textbf{\\$type} = 'json'\n",
       "\\end{description}\n",
       "\n",
       "\\item[\\$mark] 'point'\n",
       "\\item[\\$encoding] \\begin{description}\n",
       "\\item[\\$color] \\begin{description}\n",
       "\\item[\\$type] 'nominal'\n",
       "\\item[\\$field] 'Origin'\n",
       "\\end{description}\n",
       "\n",
       "\\item[\\$x] \\begin{description}\n",
       "\\item[\\$type] 'quantitative'\n",
       "\\item[\\$field] 'Horsepower'\n",
       "\\end{description}\n",
       "\n",
       "\\item[\\$y] \\begin{description}\n",
       "\\item[\\$type] 'quantitative'\n",
       "\\item[\\$field] 'Miles\\_per\\_Gallon'\n",
       "\\end{description}\n",
       "\n",
       "\\end{description}\n",
       "\n",
       "\\item[\\$`\\$schema`] 'https://vega.github.io/schema/vega-lite/v2.6.0.json'\n",
       "\\end{description}\n",
       "\n",
       "\\item[\\$`text/plain`] '<VegaLite 2 object>\\textbackslash{}n\\textbackslash{}nIf you see this message, it means the renderer has not been properly enabled\\textbackslash{}nfor the frontend that you are using. For more information, see\\textbackslash{}nhttps://altair-viz.github.io/user\\_guide/troubleshooting.html\\textbackslash{}n'\n",
       "\\end{description}\n",
       "\n",
       "\\item \\begin{description}\n",
       "\\end{description}\n",
       "\n",
       "\\end{enumerate}\n"
      ],
      "text/markdown": [
       "1. $`application/vnd.vegalite.v2+json`\n",
       ":   $config\n",
       ":   **$view** = $width\n",
       ":   400\n",
       "$height\n",
       ":   300\n",
       "\n",
       "\n",
       "\n",
       "$data\n",
       ":   $url\n",
       ":   'altair-data-9ed1a3eeabb63b2ee6cae45deafc8ab7.json'\n",
       "$format\n",
       ":   **$type** = 'json'\n",
       "\n",
       "\n",
       "\n",
       "$mark\n",
       ":   'point'\n",
       "$encoding\n",
       ":   $color\n",
       ":   $type\n",
       ":   'nominal'\n",
       "$field\n",
       ":   'Origin'\n",
       "\n",
       "\n",
       "\n",
       "$x\n",
       ":   $type\n",
       ":   'quantitative'\n",
       "$field\n",
       ":   'Horsepower'\n",
       "\n",
       "\n",
       "\n",
       "$y\n",
       ":   $type\n",
       ":   'quantitative'\n",
       "$field\n",
       ":   'Miles_per_Gallon'\n",
       "\n",
       "\n",
       "\n",
       "\n",
       "\n",
       "\n",
       "$`$schema`\n",
       ":   'https://vega.github.io/schema/vega-lite/v2.6.0.json'\n",
       "\n",
       "\n",
       "\n",
       "$`text/plain`\n",
       ":   '&lt;VegaLite 2 object&gt;\\n\\nIf you see this message, it means the renderer has not been properly enabled\\nfor the frontend that you are using. For more information, see\\nhttps://altair-viz.github.io/user_guide/troubleshooting.html\\n'\n",
       "\n",
       "\n",
       "\n",
       "2. \n",
       "\n",
       "\n",
       "\n",
       "\n"
      ],
      "text/plain": [
       "[[1]]\n",
       "[[1]]$`application/vnd.vegalite.v2+json`\n",
       "[[1]]$`application/vnd.vegalite.v2+json`$config\n",
       "[[1]]$`application/vnd.vegalite.v2+json`$config$view\n",
       "[[1]]$`application/vnd.vegalite.v2+json`$config$view$width\n",
       "[1] 400\n",
       "\n",
       "[[1]]$`application/vnd.vegalite.v2+json`$config$view$height\n",
       "[1] 300\n",
       "\n",
       "\n",
       "\n",
       "[[1]]$`application/vnd.vegalite.v2+json`$data\n",
       "[[1]]$`application/vnd.vegalite.v2+json`$data$url\n",
       "[1] \"altair-data-9ed1a3eeabb63b2ee6cae45deafc8ab7.json\"\n",
       "\n",
       "[[1]]$`application/vnd.vegalite.v2+json`$data$format\n",
       "[[1]]$`application/vnd.vegalite.v2+json`$data$format$type\n",
       "[1] \"json\"\n",
       "\n",
       "\n",
       "\n",
       "[[1]]$`application/vnd.vegalite.v2+json`$mark\n",
       "[1] \"point\"\n",
       "\n",
       "[[1]]$`application/vnd.vegalite.v2+json`$encoding\n",
       "[[1]]$`application/vnd.vegalite.v2+json`$encoding$color\n",
       "[[1]]$`application/vnd.vegalite.v2+json`$encoding$color$type\n",
       "[1] \"nominal\"\n",
       "\n",
       "[[1]]$`application/vnd.vegalite.v2+json`$encoding$color$field\n",
       "[1] \"Origin\"\n",
       "\n",
       "\n",
       "[[1]]$`application/vnd.vegalite.v2+json`$encoding$x\n",
       "[[1]]$`application/vnd.vegalite.v2+json`$encoding$x$type\n",
       "[1] \"quantitative\"\n",
       "\n",
       "[[1]]$`application/vnd.vegalite.v2+json`$encoding$x$field\n",
       "[1] \"Horsepower\"\n",
       "\n",
       "\n",
       "[[1]]$`application/vnd.vegalite.v2+json`$encoding$y\n",
       "[[1]]$`application/vnd.vegalite.v2+json`$encoding$y$type\n",
       "[1] \"quantitative\"\n",
       "\n",
       "[[1]]$`application/vnd.vegalite.v2+json`$encoding$y$field\n",
       "[1] \"Miles_per_Gallon\"\n",
       "\n",
       "\n",
       "\n",
       "[[1]]$`application/vnd.vegalite.v2+json`$`$schema`\n",
       "[1] \"https://vega.github.io/schema/vega-lite/v2.6.0.json\"\n",
       "\n",
       "\n",
       "[[1]]$`text/plain`\n",
       "[1] \"<VegaLite 2 object>\\n\\nIf you see this message, it means the renderer has not been properly enabled\\nfor the frontend that you are using. For more information, see\\nhttps://altair-viz.github.io/user_guide/troubleshooting.html\\n\"\n",
       "\n",
       "\n",
       "[[2]]\n",
       "named list()\n"
      ]
     },
     "metadata": {},
     "output_type": "display_data"
    }
   ],
   "source": [
    "chart$`_repr_mimebundle_`(include = NULL, exclude = NULL)"
   ]
  }
 ],
 "metadata": {
  "kernelspec": {
   "display_name": "R",
   "language": "R",
   "name": "ir"
  },
  "language_info": {
   "codemirror_mode": "r",
   "file_extension": ".r",
   "mimetype": "text/x-r-source",
   "name": "R",
   "pygments_lexer": "r",
   "version": "3.5.1"
  }
 },
 "nbformat": 4,
 "nbformat_minor": 2
}
