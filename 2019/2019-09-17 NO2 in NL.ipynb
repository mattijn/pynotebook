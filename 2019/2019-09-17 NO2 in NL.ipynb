{
 "cells": [
  {
   "cell_type": "code",
   "execution_count": 3,
   "metadata": {},
   "outputs": [
    {
     "name": "stdout",
     "output_type": "stream",
     "text": [
      "Dataservice is recognized. https://tsws.hkvservices.nl/mangrove.ws/entry.asmx?WSDL will be used as portal\n"
     ]
    }
   ],
   "source": [
    "from io import StringIO\n",
    "import pandas as pd\n",
    "import geopandas as gpd\n",
    "from shapely.geometry import Point\n",
    "import topojson\n",
    "import hkvportal\n",
    "import io\n",
    "import altair as alt\n",
    "dp = hkvportal.Service('https://tsws.hkvservices.nl/mangrove.ws/', '236ebLIeCDdnKbfGe956IvZetIv1')"
   ]
  },
  {
   "cell_type": "code",
   "execution_count": 4,
   "metadata": {},
   "outputs": [],
   "source": [
    "string = \"Lat;Lon;Title;Ministerie;Project;Locatie\\n52,224061;5,771514;;Ministerie van Defensie;AOCS\\/Kamp Nieuw Milligen;Kamp Nieuw Milligen, Meerveld, Netherlands\\n50,8937;6,068266;;Ministerie van Defensie;APS Eygelshoven;Eygelshoven, Netherlands\\n52,14177;5,345255;;Ministerie van Defensie;Bernhardkazerne;198D-DW Barchman Wuytierslaan, Amersfoort, Netherlands\\n52,124407;5,273323;;Ministerie van Defensie;Camp New Amsterdam;Camp New Amsterdam, Huis ter Heide, Netherlands\\n52,027665;5,869627;;Ministerie van Defensie;Cluster Schaarsbergen;Schaarsbergen, Netherlands\\n52,10434;4,312698;;Ministerie van Defensie;Frederikkazerne;Frederikkazerne, The Hague, Netherlands\\n51,506796;5,316709;;Ministerie van Defensie;Genm. De Ruyter van Stevenickkazerne;Oirschot, Netherlands\\n50,936341;5,972782;;Ministerie van Defensie;HV Nassau Ouwerkerkkamp;5 Akerstraat, Brunssum, Netherlands\\n52,779122;6,242758;;Ministerie van Defensie;Johannes Postkazenrne;Havelte, Netherlands\\n53,001202;4,762978;;Ministerie van Defensie;Joost Dourleinkazerne;Joost Dourleinkazerne, Den Hoorn, Netherlands\\n52,205651;5,927752;;Ministerie van Defensie;Koning Willem III Kazerne;Frankenlaan, Apeldoorn, Netherlands\\n52,392733;5,912084;;Ministerie van Defensie;Legerplaats bij Olderboek;Legerplaats bij Oldebroek, 't Harde, Netherlands\\n52,298179;5,65841;;Ministerie van Defensie;Legerplaats Ermelo;Legerplaats Ermelo, Ermelo, Netherlands\\n52,124951;5,760447;;Ministerie van Defensie;Legerplaats Harskamp;Legerplaats Harskamp, Harskamp, Netherlands\\n52,186824;5,691431;;Ministerie van Defensie;Legerplaats Stroe;Stroe, Netherlands\\n52,135797;5,428444;;Ministerie van Defensie;Leusden;Leusden, Netherlands\\n51,534572;5,854679;;Ministerie van Defensie;Luchthavenbesluit De Peel;1 Ripseweg, Vredepeel, Netherlands\\n51,584054;4,924138;;Ministerie van Defensie;Luchthavenbesluit Gilze-Rijen;Gilze-Rijen, Rijen, Netherlands\\n51,418796;4,340462;;Ministerie van Defensie;Luchthavenbesluit Woensdrecht;Woensdrecht, Netherlands\\n51,519442;5,85923;;Ministerie van Defensie;Luitenant Generaal Bestkazerne;Luitenant-generaal Bestkazerne, Vredepeel, Netherlands\\n52,40603;5,89716;;Ministerie van Defensie;Luitenant Kolonel Tonnetkazerne;Luitenant-kolonel Tonnetkazerne, 't Harde, Netherlands\\n52,158342;4,492073;;Ministerie van Defensie;Marine Etablissement Amsterdam;Etablissement Einstein, Leiden, Netherlands\\n51,459208;3,618506;;Ministerie van Defensie;Marine Kazerne Vlissingen;Vlissingen, Netherlands\\n52,960141;4,737929;;Ministerie van Defensie;Marinekazerne Erfprins;Fort Erfprins, Den Helder, Netherlands\\n;;;Ministerie van Defensie;Militaire oefenvlieggebieden;?\\n53,040779;6,393889;;Ministerie van Defensie;MMC-Veenhuizen;Veenhuizen, Netherlands\\n;;;Ministerie van Defensie;Nieuwe Haven;?\\n;;;Ministerie van Defensie;Oefenterreinen-Defensie;?\\n51,482686;5,340987;;Ministerie van Defensie;OT Oirschotse Heide;Verspreide huizen Zuid-Oirschotse Heide, Oirschot, Netherlands\\n52,765042;4,658659;;Ministerie van Defensie;Petten KM;Petten, Netherlands\\n52,124157;5,309955;;Ministerie van Defensie;Regio Soesterberg;Soesterberg, Netherlands\\n51,395744;4,328997;;Ministerie van Defensie;Schietfaciliteit Ossendrecht;Ossendrecht, Netherlands\\n52,67355;6,293895;;Ministerie van Defensie;USAG nic oost;Nic Oostinghweg, De Wijk, Netherlands\\n52,922178;4,781179;;Ministerie van Defensie;Vliegbasis De Kooy;De Kooy, Den Helder, Netherlands\\n51,452541;5,376337;;Ministerie van Defensie;Vliegbasis Eindhoven;Eindhoven Airport, Eindhoven, Netherlands\\n51,568354;4,925511;;Ministerie van Defensie;Vliegbasis Gilze-Rijen;Vliegbasis Gilze-Rijen, Rijen, Netherlands\\n53,226239;5,752203;;Ministerie van Defensie;Vliegbasis Leeuwarden;Vliegbasis Leeuwarden, Leeuwarden, Netherlands\\n51,658611;5,702765;;Ministerie van Defensie;Vliegbasis Volkel;Vliegbasis Volkel, Volkel, Netherlands\\n51,430203;4,348619;;Ministerie van Defensie;Vliegbasis Woensdrecht;Vliegbasis Woensdrecht, Hoogerheide, Netherlands\\n53,016555;6,468887;;Ministerie van Defensie;Walaardt Sacre Kamp;Huis Ter Heide, Netherlands\\n52,242929;6,306813;;Ministerie van Infrastructuur en Waterstaat ;A1 Apeldoorn - Azelo;A1, Bathmen, Netherlands\\n51,952315;6,051491;;Ministerie van Infrastructuur en Waterstaat ;A12\\/A15 Ressen - Oudbroeken (ViA15);BP A12 Oudbroeken, Duiven, Netherlands\\n51,033989;5,823739;;Ministerie van Infrastructuur en Waterstaat ;A2 Het Vonderen - Kerensheide;A2, Born, Netherlands\\n51,877478;4,967682;;Ministerie van Infrastructuur en Waterstaat ;A27 Houten - Hooipolder;A27, Hoogblokland, Netherlands\\n52,103029;5,153583;;Ministerie van Infrastructuur en Waterstaat ;A27\\/A12 Ring Utrecht;A27, Utrecht, Netherlands\\n52,172857;5,425839;;Ministerie van Infrastructuur en Waterstaat ;A28\\/A1 knooppunt Hoevelaken;A28, Amersfoort, Netherlands\\n52,043546;4,348639;;Ministerie van Infrastructuur en Waterstaat ;A4 Passage Den Haag;A4, The Hague, Netherlands\\n52,548496;5,513752;;Ministerie van Infrastructuur en Waterstaat ;A6 Almere Buiten-Oost - Lelystad;Lelystad Centrum - Swifterbant, Lelystad, Netherlands\\n51,401507;6,107747;;Ministerie van Infrastructuur en Waterstaat ;A67\\/A73 Knooppunt Zaarderheiken;Zaarderheiken, Blerick, Netherlands\\n52,991897;5,152237;;Ministerie van Infrastructuur en Waterstaat ;Afsluitdijk;Afsluitdijk, Den Oever, Netherlands\\n;;;Ministerie van Infrastructuur en Waterstaat ;Capaciteitsuitbreiding ligplaatsen Ijssel;?\\n;;;Ministerie van Infrastructuur en Waterstaat ;Deltaplan Zoetwater: Noordervaart;?\\n52,08021;4,325601;;Ministerie van Infrastructuur en Waterstaat ;Den Haag CS, perronsporen 11 en 12;Den Haag Centraal, The Hague, Netherlands\\n;;;Ministerie van Infrastructuur en Waterstaat ;European Rail Traffic Management System (ERTMS);?\\n;;;Ministerie van Infrastructuur en Waterstaat ;Fietsparkeren bij stations;?\\n;;;Ministerie van Infrastructuur en Waterstaat ;Goederenroute Elst-Deventer-Twente (NaNOV);?\\n;;;Ministerie van Infrastructuur en Waterstaat ;Grensoverschrijdend spoorvervoer;?\\n52,45863;5,102502;;Ministerie van Infrastructuur en Waterstaat ;Hoogwaterbeschermingsprogramma Dijkversterking Marken;Marken, Netherlands\\n52,460022;4,599433;;Ministerie van Infrastructuur en Waterstaat ;Hoogwaterbeschermingsprogramma: Ijmuiden;Ymuiden, Netherlands\\n53,230032;4,909946;;Ministerie van Infrastructuur en Waterstaat ;Hoogwaterbeschermingsprogramma: Vlieland;Vlieland, Netherlands\\n52,693611;5,280991;;Ministerie van Infrastructuur en Waterstaat ;Hoogwaterbeschermingsprogramma 2: Houtribdijk, onderdeel Trintelzand B\\/watersportstrand;Houtribdijk, Enkhuizen, Netherlands\\n;;;Ministerie van Infrastructuur en Waterstaat ;Kleine stations;?\\n51,907676;5,996553;;Ministerie van Infrastructuur en Waterstaat ;Krib- en oeververlaging Pannerdensch Kanaal;Pannerdensch Kanaal, Pannerden, Netherlands\\n;;;Ministerie van Infrastructuur en Waterstaat ;Kustlijnzorg;?\\n52,309672;4,762127;;Ministerie van Infrastructuur en Waterstaat ;Luchthavenverkeersbesluit Schiphol;Schiphol Airport, Schiphol, Netherlands\\n52,455736;5,52432;;Ministerie van Infrastructuur en Waterstaat ;Luchthavenbesluit Lelystad Airport;Lelystad Airport, Lelystad, Netherlands\\n53,33077;6,06171;;Ministerie van Infrastructuur en Waterstaat ;Maaslijn (spoorwegproject);Oostrum, Netherlands\\n;;;Ministerie van Infrastructuur en Waterstaat ;Maatregelenpakket HSL-Zuid;?\\n;;;Ministerie van Infrastructuur en Waterstaat ;Meer veilig (verbeteren verkeersveiligheid hoofdwegennet);?\\n;;;Ministerie van Infrastructuur en Waterstaat ;Meerjarenprogramma Geluidsanering (MJPG);?\\n;;;Ministerie van Infrastructuur en Waterstaat ;Meerjarenprogramma Ontsnippering (MJPO);?\\n53,245241;6,876298;;Ministerie van Infrastructuur en Waterstaat ;N33 Zuidbroek - Appingedam;N33, Siddeburen, Netherlands\\n52,3607;6,524794;;Ministerie van Infrastructuur en Waterstaat ;N35 Nijverdal - Wierden;2 Schapendijk, Notter, Netherlands\\n52,555014;5,881369;;Ministerie van Infrastructuur en Waterstaat ;N50 Kampen - Kampen Zuid;N50, Kampen, Netherlands\\n;;;Ministerie van Infrastructuur en Waterstaat ;Overwegenaanpak;?\\n;;;Ministerie van Infrastructuur en Waterstaat ;Plan van Aanpak Goederen Emplacementen (PAGE) Risicoreductie (verbeteren externe veiligheid rond spooremplacementen);?\\n52,495245;4,756951;;Ministerie van Infrastructuur en Waterstaat ;Programma Hoogfrequent Spoorvervoer: Alkmaar - Amsterdam;Krommenie, Netherlands\\n52,378908;4,901278;;Ministerie van Infrastructuur en Waterstaat ;Programma Hoogfrequent Spoorvervoer: Amsterdam Centraal;Amsterdam Centraal, Amsterdam, Netherlands\\n51,564458;5,074477;;Ministerie van Infrastructuur en Waterstaat ;Programma Hoogfrequent Spoorvervoer: Eindhoven - Breda;Tilburg, Netherlands\\n51,656378;5,291072;;Ministerie van Infrastructuur en Waterstaat ;Programma Hoogfrequent Spoorvervoer: Meteren - Boxtel;Van Miertstraat, Vught, Netherlands\\n51,843041;5,85378;;Ministerie van Infrastructuur en Waterstaat ;Programma Hoogfrequent Spoorvervoer: Nijmegen;Stationsplein, Nymegen, Netherlands\\n;;;Ministerie van Infrastructuur en Waterstaat ;Programma Emplacementen op orde;?\\n;;;Ministerie van Infrastructuur en Waterstaat ;Programma Kleine Functiewijzingen;?\\n;;;Ministerie van Infrastructuur en Waterstaat ;Programma Vervanging & Renovatie - Hoofdvaarwegen;?\\n;;;Ministerie van Infrastructuur en Waterstaat ;Programma Vervanging & Renovatie - Hoofdwatersysteem;?\\n;;;Ministerie van Infrastructuur en Waterstaat ;Programma Vervanging & Renovatie - Hoofdwegen;?\\n51,497752;4,239225;;Ministerie van Infrastructuur en Waterstaat ;Rijksstructuurvisie Grevelingen en Volkerak - Zoommeer;Zoommeer\\n51,534043;5,184314;;Ministerie van Infrastructuur en Waterstaat ;SmartwayZ.nl: InnovA58 (Eindhoven - Tilburg);A58, Moergestel, Netherlands\\n51,536247;4,796284;;Ministerie van Infrastructuur en Waterstaat ;SmartwayZ.nl: InnovA58 (Sint-Annabosch - Galder);A58, Ulvenhout, Netherlands\\n51,922369;4,409507;;Ministerie van Infrastructuur en Waterstaat ;Sporen Schiedam - Rotterdam;Parallelweg, Schiedam, Netherlands\\n;;;Ministerie van Infrastructuur en Waterstaat ;Sporendriehoek Noord-Nederland;?\\n;;;Ministerie van Infrastructuur en Waterstaat ;Toegankelijkheid Stations;?\\n;;;Ministerie van Infrastructuur en Waterstaat ;Verbeterprogramma Waterkwaliteit Rijkswateren (Kaderrichtlijn Water);?\\n51,958333;3,983333;;Ministerie van Economische Zaken en Klimaat;Windpark Tweede Maasvlakte;?\\n;;;Ministerie van Economische Zaken en Klimaat;Windparken Flevoland;?\\n52,375473;3,455292;;Ministerie van Economische Zaken en Klimaat;Wind op Zee Hollandse Kust (west);\\n52,755572;3,073453;;Ministerie van Economische Zaken en Klimaat;Wind op Zee Ijmuiden Ver kavels I en II;\\n52,655156;3,068055;;Ministerie van Economische Zaken en Klimaat;Wind op Zee Ijmuiden Ver kavels III en IV;\\n53,847798;5,534127;;Ministerie van Economische Zaken en Klimaat;Wind op Zee Ten Noorden Van De Wadden;\\n52,633182;3,745837;;Ministerie van Economische Zaken en Klimaat;Net op Zee Hollandse Kust (noord) en (west Alpha);\\n52,35112;3,453265;;Ministerie van Economische Zaken en Klimaat;Net op Zee Hollandse Kust (weta Beta);\\n52,705572;3,071453;;Ministerie van Economische Zaken en Klimaat;Net op Zee Ijmuiden Ver Noord;\\n52,605156;3,063055;;Ministerie van Economische Zaken en Klimaat;Net op Zee Ijmuiden Ver zuid;\\n53,857798;5,534127;;Ministerie van Economische Zaken en Klimaat;Net op Zee Ten Noorden Van DE Wadden;\\n;;;Ministerie van Economische Zaken en Klimaat;Hoogspanningsnet Zuid-West 380 kV oost;?\\n;;;Ministerie van Economische Zaken en Klimaat;Gaswinning Noordzee;?\\n;;;Ministerie van Economische Zaken en Klimaat;Gaswinning Waddenzee;?\\n;;;Ministerie van Economische Zaken en Klimaat;14 gas-\\/olieboringen offshore;?\\n;;;Ministerie van Economische Zaken en Klimaat;18 gas-\\/olieboringen op land;?\\n;;;Ministerie van Economische Zaken en Klimaat;7 aardwarmte boringen op land;?\\n;;;Ministerie van Economische Zaken en Klimaat;Revisievergunning zoutwinning;?\\n;;;Ministerie van Economische Zaken en Klimaat;Onderhouds- en sluitingswerkzaamheden mijnbouwprojecten;?\\n;;;Ministerie van Economische Zaken en Klimaat;CCS-infrastructuur Noordzee;?\\n53,488774;6,084061;;Ministerie van Economische Zaken en Klimaat;Elektrificatie Ameland Westgat;Westgat\\n;;;Ministerie van Landbouw Natuur en Voedselkwaliteit;Boomkorvisserij;?\\n;;;Ministerie van Landbouw Natuur en Voedselkwaliteit;Garnalenvisserij;?\\n;;;Ministerie van Landbouw Natuur en Voedselkwaliteit;Mosselzaadvisserij;?\\n;;;Ministerie van Landbouw Natuur en Voedselkwaliteit;Spisulavisserij;?\\n;;;Ministerie van Landbouw Natuur en Voedselkwaliteit;Zandwinning Noordzee;Op te zoeken?\\n52,784695;4,680028;;Ministerie van Volksgezondheid, Welzijn en Sport;Pallas medische isotopenreactor;Petten, Netherlands\\n52,079195;4,312242;;Ministerie van Binnenlandse Zaken en Koninkrijksrelaties \\/ Rijksvastgoedbedrijf;Renovatie Binnenhof;Binnenhof, The Hague, Netherlands\\n;;;Ministerie van Binnenlandse Zaken en Koninkrijksrelaties \\/ Rijksvastgoedbedrijf;(Ver)bouw Rijkskantoren in o.a. Arnhem, Assen, Centrum Den Haag, Haarlem, Utrecht, Zwolle;?\\n;;;Ministerie van Binnenlandse Zaken en Koninkrijksrelaties \\/ Rijksvastgoedbedrijf;(Ver)bouw t.b.v. Rechtspraak in o.a. Almelo, Arnhem, Den Haag;?\\n;;;Ministerie van Binnenlandse Zaken en Koninkrijksrelaties \\/ Rijksvastgoedbedrijf;(Ver)bouw t.b.v. Penitentiaire inrichitngen o.a. te Alphen aan den Rijn, Balkburg, Scheveningen, Spijkenisse, Veenhuizen, Vught en Westzaan;?\\n;;;Ministerie van Binnenlandse Zaken en Koninkrijksrelaties \\/ Rijksvastgoedbedrijf;(Ver)bouw t.b.v. andere functies in o.a. in De Bilt, Ter Apel;?\\n;;;Ministerie van Binnenlandse Zaken en Koninkrijksrelaties \\/ Rijksvastgoedbedrijf;(Ver)bouw t.b.v. internationale organisaties in Den Haag;?\\n;;;Ministerie van Binnenlandse Zaken en Koninkrijksrelaties \\/ Rijksvastgoedbedrijf;Verkoop van diverse vastgoedobjecten met sloop\\/herontwikkeling;\""
   ]
  },
  {
   "cell_type": "code",
   "execution_count": 5,
   "metadata": {},
   "outputs": [],
   "source": [
    "def geom_string_to_gdf(string):\n",
    "    \n",
    "    DATA = StringIO(string)\n",
    "    df = pd.read_csv(DATA, sep=\";\")\n",
    "    df['Lat'] = pd.to_numeric(df['Lat'].str.replace(',','.'))\n",
    "    df['Lon'] = pd.to_numeric(df['Lon'].str.replace(',','.'))    \n",
    "    \n",
    "    df.dropna(subset=['Lon', 'Lat'], inplace=True)\n",
    "    geometry = [Point(xy) for xy in zip(df.Lon, df.Lat)]\n",
    "    df = df.drop(['Lon', 'Lat'], axis=1)\n",
    "    crs = {'init': 'epsg:4326'}\n",
    "    gdf = gpd.GeoDataFrame(df, crs=crs, geometry=geometry)    \n",
    "    \n",
    "    return gdf"
   ]
  },
  {
   "cell_type": "code",
   "execution_count": 6,
   "metadata": {},
   "outputs": [
    {
     "data": {
      "text/html": [
       "<div>\n",
       "<style scoped>\n",
       "    .dataframe tbody tr th:only-of-type {\n",
       "        vertical-align: middle;\n",
       "    }\n",
       "\n",
       "    .dataframe tbody tr th {\n",
       "        vertical-align: top;\n",
       "    }\n",
       "\n",
       "    .dataframe thead th {\n",
       "        text-align: right;\n",
       "    }\n",
       "</style>\n",
       "<table border=\"1\" class=\"dataframe\">\n",
       "  <thead>\n",
       "    <tr style=\"text-align: right;\">\n",
       "      <th></th>\n",
       "      <th>Title</th>\n",
       "      <th>Ministerie</th>\n",
       "      <th>Project</th>\n",
       "      <th>Locatie</th>\n",
       "      <th>geometry</th>\n",
       "    </tr>\n",
       "  </thead>\n",
       "  <tbody>\n",
       "    <tr>\n",
       "      <th>0</th>\n",
       "      <td>NaN</td>\n",
       "      <td>Ministerie van Defensie</td>\n",
       "      <td>AOCS\\/Kamp Nieuw Milligen</td>\n",
       "      <td>Kamp Nieuw Milligen, Meerveld, Netherlands</td>\n",
       "      <td>POINT (5.771514 52.224061)</td>\n",
       "    </tr>\n",
       "    <tr>\n",
       "      <th>1</th>\n",
       "      <td>NaN</td>\n",
       "      <td>Ministerie van Defensie</td>\n",
       "      <td>APS Eygelshoven</td>\n",
       "      <td>Eygelshoven, Netherlands</td>\n",
       "      <td>POINT (6.068266 50.8937)</td>\n",
       "    </tr>\n",
       "    <tr>\n",
       "      <th>2</th>\n",
       "      <td>NaN</td>\n",
       "      <td>Ministerie van Defensie</td>\n",
       "      <td>Bernhardkazerne</td>\n",
       "      <td>198D-DW Barchman Wuytierslaan, Amersfoort, Net...</td>\n",
       "      <td>POINT (5.345255 52.14177)</td>\n",
       "    </tr>\n",
       "    <tr>\n",
       "      <th>3</th>\n",
       "      <td>NaN</td>\n",
       "      <td>Ministerie van Defensie</td>\n",
       "      <td>Camp New Amsterdam</td>\n",
       "      <td>Camp New Amsterdam, Huis ter Heide, Netherlands</td>\n",
       "      <td>POINT (5.273323 52.124407)</td>\n",
       "    </tr>\n",
       "    <tr>\n",
       "      <th>4</th>\n",
       "      <td>NaN</td>\n",
       "      <td>Ministerie van Defensie</td>\n",
       "      <td>Cluster Schaarsbergen</td>\n",
       "      <td>Schaarsbergen, Netherlands</td>\n",
       "      <td>POINT (5.869626999999999 52.027665)</td>\n",
       "    </tr>\n",
       "  </tbody>\n",
       "</table>\n",
       "</div>"
      ],
      "text/plain": [
       "   Title               Ministerie                    Project  \\\n",
       "0    NaN  Ministerie van Defensie  AOCS\\/Kamp Nieuw Milligen   \n",
       "1    NaN  Ministerie van Defensie            APS Eygelshoven   \n",
       "2    NaN  Ministerie van Defensie            Bernhardkazerne   \n",
       "3    NaN  Ministerie van Defensie         Camp New Amsterdam   \n",
       "4    NaN  Ministerie van Defensie      Cluster Schaarsbergen   \n",
       "\n",
       "                                             Locatie  \\\n",
       "0         Kamp Nieuw Milligen, Meerveld, Netherlands   \n",
       "1                           Eygelshoven, Netherlands   \n",
       "2  198D-DW Barchman Wuytierslaan, Amersfoort, Net...   \n",
       "3    Camp New Amsterdam, Huis ter Heide, Netherlands   \n",
       "4                         Schaarsbergen, Netherlands   \n",
       "\n",
       "                              geometry  \n",
       "0           POINT (5.771514 52.224061)  \n",
       "1             POINT (6.068266 50.8937)  \n",
       "2            POINT (5.345255 52.14177)  \n",
       "3           POINT (5.273323 52.124407)  \n",
       "4  POINT (5.869626999999999 52.027665)  "
      ]
     },
     "execution_count": 6,
     "metadata": {},
     "output_type": "execute_result"
    }
   ],
   "source": [
    "geom = geom_string_to_gdf(string)\n",
    "#gdf.geometry = gdf.geometry.buffer(0.1)\n",
    "geom.head()"
   ]
  },
  {
   "cell_type": "code",
   "execution_count": 9,
   "metadata": {},
   "outputs": [
    {
     "data": {
      "application/vnd.vegalite.v3+json": {
       "$schema": "https://vega.github.io/schema/vega-lite/v3.4.0.json",
       "config": {
        "mark": {
         "tooltip": null
        },
        "view": {
         "height": 300,
         "width": 400
        }
       },
       "data": {
        "name": "data-4595038c1a1e8a5e219bb63732c306ca"
       },
       "datasets": {
        "data-4595038c1a1e8a5e219bb63732c306ca": [
         {
          "Locatie": "Kamp Nieuw Milligen, Meerveld, Netherlands",
          "Ministerie": "Ministerie van Defensie",
          "Project": "AOCS\\/Kamp Nieuw Milligen",
          "Title": null,
          "geometry": {
           "coordinates": [
            5.771514,
            52.224061
           ],
           "type": "Point"
          },
          "type": "Feature"
         },
         {
          "Locatie": "Eygelshoven, Netherlands",
          "Ministerie": "Ministerie van Defensie",
          "Project": "APS Eygelshoven",
          "Title": null,
          "geometry": {
           "coordinates": [
            6.068266,
            50.8937
           ],
           "type": "Point"
          },
          "type": "Feature"
         },
         {
          "Locatie": "198D-DW Barchman Wuytierslaan, Amersfoort, Netherlands",
          "Ministerie": "Ministerie van Defensie",
          "Project": "Bernhardkazerne",
          "Title": null,
          "geometry": {
           "coordinates": [
            5.345255,
            52.14177
           ],
           "type": "Point"
          },
          "type": "Feature"
         },
         {
          "Locatie": "Camp New Amsterdam, Huis ter Heide, Netherlands",
          "Ministerie": "Ministerie van Defensie",
          "Project": "Camp New Amsterdam",
          "Title": null,
          "geometry": {
           "coordinates": [
            5.273323,
            52.124407
           ],
           "type": "Point"
          },
          "type": "Feature"
         },
         {
          "Locatie": "Schaarsbergen, Netherlands",
          "Ministerie": "Ministerie van Defensie",
          "Project": "Cluster Schaarsbergen",
          "Title": null,
          "geometry": {
           "coordinates": [
            5.8696269999999995,
            52.027665
           ],
           "type": "Point"
          },
          "type": "Feature"
         },
         {
          "Locatie": "Frederikkazerne, The Hague, Netherlands",
          "Ministerie": "Ministerie van Defensie",
          "Project": "Frederikkazerne",
          "Title": null,
          "geometry": {
           "coordinates": [
            4.312698,
            52.10434
           ],
           "type": "Point"
          },
          "type": "Feature"
         },
         {
          "Locatie": "Oirschot, Netherlands",
          "Ministerie": "Ministerie van Defensie",
          "Project": "Genm. De Ruyter van Stevenickkazerne",
          "Title": null,
          "geometry": {
           "coordinates": [
            5.3167089999999995,
            51.506796
           ],
           "type": "Point"
          },
          "type": "Feature"
         },
         {
          "Locatie": "5 Akerstraat, Brunssum, Netherlands",
          "Ministerie": "Ministerie van Defensie",
          "Project": "HV Nassau Ouwerkerkkamp",
          "Title": null,
          "geometry": {
           "coordinates": [
            5.972782,
            50.936341
           ],
           "type": "Point"
          },
          "type": "Feature"
         },
         {
          "Locatie": "Havelte, Netherlands",
          "Ministerie": "Ministerie van Defensie",
          "Project": "Johannes Postkazenrne",
          "Title": null,
          "geometry": {
           "coordinates": [
            6.242758,
            52.779121999999994
           ],
           "type": "Point"
          },
          "type": "Feature"
         },
         {
          "Locatie": "Joost Dourleinkazerne, Den Hoorn, Netherlands",
          "Ministerie": "Ministerie van Defensie",
          "Project": "Joost Dourleinkazerne",
          "Title": null,
          "geometry": {
           "coordinates": [
            4.7629779999999995,
            53.001202
           ],
           "type": "Point"
          },
          "type": "Feature"
         },
         {
          "Locatie": "Frankenlaan, Apeldoorn, Netherlands",
          "Ministerie": "Ministerie van Defensie",
          "Project": "Koning Willem III Kazerne",
          "Title": null,
          "geometry": {
           "coordinates": [
            5.927752,
            52.205651
           ],
           "type": "Point"
          },
          "type": "Feature"
         },
         {
          "Locatie": "Legerplaats bij Oldebroek, 't Harde, Netherlands",
          "Ministerie": "Ministerie van Defensie",
          "Project": "Legerplaats bij Olderboek",
          "Title": null,
          "geometry": {
           "coordinates": [
            5.912083999999999,
            52.392733
           ],
           "type": "Point"
          },
          "type": "Feature"
         },
         {
          "Locatie": "Legerplaats Ermelo, Ermelo, Netherlands",
          "Ministerie": "Ministerie van Defensie",
          "Project": "Legerplaats Ermelo",
          "Title": null,
          "geometry": {
           "coordinates": [
            5.65841,
            52.298179
           ],
           "type": "Point"
          },
          "type": "Feature"
         },
         {
          "Locatie": "Legerplaats Harskamp, Harskamp, Netherlands",
          "Ministerie": "Ministerie van Defensie",
          "Project": "Legerplaats Harskamp",
          "Title": null,
          "geometry": {
           "coordinates": [
            5.760447,
            52.124951
           ],
           "type": "Point"
          },
          "type": "Feature"
         },
         {
          "Locatie": "Stroe, Netherlands",
          "Ministerie": "Ministerie van Defensie",
          "Project": "Legerplaats Stroe",
          "Title": null,
          "geometry": {
           "coordinates": [
            5.691431,
            52.186824
           ],
           "type": "Point"
          },
          "type": "Feature"
         },
         {
          "Locatie": "Leusden, Netherlands",
          "Ministerie": "Ministerie van Defensie",
          "Project": "Leusden",
          "Title": null,
          "geometry": {
           "coordinates": [
            5.428444,
            52.135797
           ],
           "type": "Point"
          },
          "type": "Feature"
         },
         {
          "Locatie": "1 Ripseweg, Vredepeel, Netherlands",
          "Ministerie": "Ministerie van Defensie",
          "Project": "Luchthavenbesluit De Peel",
          "Title": null,
          "geometry": {
           "coordinates": [
            5.854679,
            51.534572
           ],
           "type": "Point"
          },
          "type": "Feature"
         },
         {
          "Locatie": "Gilze-Rijen, Rijen, Netherlands",
          "Ministerie": "Ministerie van Defensie",
          "Project": "Luchthavenbesluit Gilze-Rijen",
          "Title": null,
          "geometry": {
           "coordinates": [
            4.924138,
            51.584053999999995
           ],
           "type": "Point"
          },
          "type": "Feature"
         },
         {
          "Locatie": "Woensdrecht, Netherlands",
          "Ministerie": "Ministerie van Defensie",
          "Project": "Luchthavenbesluit Woensdrecht",
          "Title": null,
          "geometry": {
           "coordinates": [
            4.3404620000000005,
            51.418796
           ],
           "type": "Point"
          },
          "type": "Feature"
         },
         {
          "Locatie": "Luitenant-generaal Bestkazerne, Vredepeel, Netherlands",
          "Ministerie": "Ministerie van Defensie",
          "Project": "Luitenant Generaal Bestkazerne",
          "Title": null,
          "geometry": {
           "coordinates": [
            5.85923,
            51.519442
           ],
           "type": "Point"
          },
          "type": "Feature"
         },
         {
          "Locatie": "Luitenant-kolonel Tonnetkazerne, 't Harde, Netherlands",
          "Ministerie": "Ministerie van Defensie",
          "Project": "Luitenant Kolonel Tonnetkazerne",
          "Title": null,
          "geometry": {
           "coordinates": [
            5.8971599999999995,
            52.40603
           ],
           "type": "Point"
          },
          "type": "Feature"
         },
         {
          "Locatie": "Etablissement Einstein, Leiden, Netherlands",
          "Ministerie": "Ministerie van Defensie",
          "Project": "Marine Etablissement Amsterdam",
          "Title": null,
          "geometry": {
           "coordinates": [
            4.492073,
            52.158342
           ],
           "type": "Point"
          },
          "type": "Feature"
         },
         {
          "Locatie": "Vlissingen, Netherlands",
          "Ministerie": "Ministerie van Defensie",
          "Project": "Marine Kazerne Vlissingen",
          "Title": null,
          "geometry": {
           "coordinates": [
            3.6185059999999996,
            51.459208000000004
           ],
           "type": "Point"
          },
          "type": "Feature"
         },
         {
          "Locatie": "Fort Erfprins, Den Helder, Netherlands",
          "Ministerie": "Ministerie van Defensie",
          "Project": "Marinekazerne Erfprins",
          "Title": null,
          "geometry": {
           "coordinates": [
            4.737929,
            52.960141
           ],
           "type": "Point"
          },
          "type": "Feature"
         },
         {
          "Locatie": "Veenhuizen, Netherlands",
          "Ministerie": "Ministerie van Defensie",
          "Project": "MMC-Veenhuizen",
          "Title": null,
          "geometry": {
           "coordinates": [
            6.393889,
            53.040779
           ],
           "type": "Point"
          },
          "type": "Feature"
         },
         {
          "Locatie": "Verspreide huizen Zuid-Oirschotse Heide, Oirschot, Netherlands",
          "Ministerie": "Ministerie van Defensie",
          "Project": "OT Oirschotse Heide",
          "Title": null,
          "geometry": {
           "coordinates": [
            5.340987,
            51.482686
           ],
           "type": "Point"
          },
          "type": "Feature"
         },
         {
          "Locatie": "Petten, Netherlands",
          "Ministerie": "Ministerie van Defensie",
          "Project": "Petten KM",
          "Title": null,
          "geometry": {
           "coordinates": [
            4.658658999999999,
            52.765042
           ],
           "type": "Point"
          },
          "type": "Feature"
         },
         {
          "Locatie": "Soesterberg, Netherlands",
          "Ministerie": "Ministerie van Defensie",
          "Project": "Regio Soesterberg",
          "Title": null,
          "geometry": {
           "coordinates": [
            5.309955,
            52.124157000000004
           ],
           "type": "Point"
          },
          "type": "Feature"
         },
         {
          "Locatie": "Ossendrecht, Netherlands",
          "Ministerie": "Ministerie van Defensie",
          "Project": "Schietfaciliteit Ossendrecht",
          "Title": null,
          "geometry": {
           "coordinates": [
            4.328997,
            51.395744
           ],
           "type": "Point"
          },
          "type": "Feature"
         },
         {
          "Locatie": "Nic Oostinghweg, De Wijk, Netherlands",
          "Ministerie": "Ministerie van Defensie",
          "Project": "USAG nic oost",
          "Title": null,
          "geometry": {
           "coordinates": [
            6.293895,
            52.67355
           ],
           "type": "Point"
          },
          "type": "Feature"
         },
         {
          "Locatie": "De Kooy, Den Helder, Netherlands",
          "Ministerie": "Ministerie van Defensie",
          "Project": "Vliegbasis De Kooy",
          "Title": null,
          "geometry": {
           "coordinates": [
            4.781179,
            52.922178
           ],
           "type": "Point"
          },
          "type": "Feature"
         },
         {
          "Locatie": "Eindhoven Airport, Eindhoven, Netherlands",
          "Ministerie": "Ministerie van Defensie",
          "Project": "Vliegbasis Eindhoven",
          "Title": null,
          "geometry": {
           "coordinates": [
            5.376337,
            51.452541
           ],
           "type": "Point"
          },
          "type": "Feature"
         },
         {
          "Locatie": "Vliegbasis Gilze-Rijen, Rijen, Netherlands",
          "Ministerie": "Ministerie van Defensie",
          "Project": "Vliegbasis Gilze-Rijen",
          "Title": null,
          "geometry": {
           "coordinates": [
            4.925511,
            51.568354
           ],
           "type": "Point"
          },
          "type": "Feature"
         },
         {
          "Locatie": "Vliegbasis Leeuwarden, Leeuwarden, Netherlands",
          "Ministerie": "Ministerie van Defensie",
          "Project": "Vliegbasis Leeuwarden",
          "Title": null,
          "geometry": {
           "coordinates": [
            5.752203,
            53.226239
           ],
           "type": "Point"
          },
          "type": "Feature"
         },
         {
          "Locatie": "Vliegbasis Volkel, Volkel, Netherlands",
          "Ministerie": "Ministerie van Defensie",
          "Project": "Vliegbasis Volkel",
          "Title": null,
          "geometry": {
           "coordinates": [
            5.702765,
            51.658611
           ],
           "type": "Point"
          },
          "type": "Feature"
         },
         {
          "Locatie": "Vliegbasis Woensdrecht, Hoogerheide, Netherlands",
          "Ministerie": "Ministerie van Defensie",
          "Project": "Vliegbasis Woensdrecht",
          "Title": null,
          "geometry": {
           "coordinates": [
            4.348619,
            51.430203000000006
           ],
           "type": "Point"
          },
          "type": "Feature"
         },
         {
          "Locatie": "Huis Ter Heide, Netherlands",
          "Ministerie": "Ministerie van Defensie",
          "Project": "Walaardt Sacre Kamp",
          "Title": null,
          "geometry": {
           "coordinates": [
            6.4688870000000005,
            53.016555000000004
           ],
           "type": "Point"
          },
          "type": "Feature"
         },
         {
          "Locatie": "A1, Bathmen, Netherlands",
          "Ministerie": "Ministerie van Infrastructuur en Waterstaat ",
          "Project": "A1 Apeldoorn - Azelo",
          "Title": null,
          "geometry": {
           "coordinates": [
            6.306813,
            52.242929
           ],
           "type": "Point"
          },
          "type": "Feature"
         },
         {
          "Locatie": "BP A12 Oudbroeken, Duiven, Netherlands",
          "Ministerie": "Ministerie van Infrastructuur en Waterstaat ",
          "Project": "A12\\/A15 Ressen - Oudbroeken (ViA15)",
          "Title": null,
          "geometry": {
           "coordinates": [
            6.051491,
            51.952315000000006
           ],
           "type": "Point"
          },
          "type": "Feature"
         },
         {
          "Locatie": "A2, Born, Netherlands",
          "Ministerie": "Ministerie van Infrastructuur en Waterstaat ",
          "Project": "A2 Het Vonderen - Kerensheide",
          "Title": null,
          "geometry": {
           "coordinates": [
            5.823739,
            51.033989
           ],
           "type": "Point"
          },
          "type": "Feature"
         },
         {
          "Locatie": "A27, Hoogblokland, Netherlands",
          "Ministerie": "Ministerie van Infrastructuur en Waterstaat ",
          "Project": "A27 Houten - Hooipolder",
          "Title": null,
          "geometry": {
           "coordinates": [
            4.967682,
            51.877478
           ],
           "type": "Point"
          },
          "type": "Feature"
         },
         {
          "Locatie": "A27, Utrecht, Netherlands",
          "Ministerie": "Ministerie van Infrastructuur en Waterstaat ",
          "Project": "A27\\/A12 Ring Utrecht",
          "Title": null,
          "geometry": {
           "coordinates": [
            5.153583,
            52.103029
           ],
           "type": "Point"
          },
          "type": "Feature"
         },
         {
          "Locatie": "A28, Amersfoort, Netherlands",
          "Ministerie": "Ministerie van Infrastructuur en Waterstaat ",
          "Project": "A28\\/A1 knooppunt Hoevelaken",
          "Title": null,
          "geometry": {
           "coordinates": [
            5.425839,
            52.172857
           ],
           "type": "Point"
          },
          "type": "Feature"
         },
         {
          "Locatie": "A4, The Hague, Netherlands",
          "Ministerie": "Ministerie van Infrastructuur en Waterstaat ",
          "Project": "A4 Passage Den Haag",
          "Title": null,
          "geometry": {
           "coordinates": [
            4.348639,
            52.043546
           ],
           "type": "Point"
          },
          "type": "Feature"
         },
         {
          "Locatie": "Lelystad Centrum - Swifterbant, Lelystad, Netherlands",
          "Ministerie": "Ministerie van Infrastructuur en Waterstaat ",
          "Project": "A6 Almere Buiten-Oost - Lelystad",
          "Title": null,
          "geometry": {
           "coordinates": [
            5.513751999999999,
            52.54849599999999
           ],
           "type": "Point"
          },
          "type": "Feature"
         },
         {
          "Locatie": "Zaarderheiken, Blerick, Netherlands",
          "Ministerie": "Ministerie van Infrastructuur en Waterstaat ",
          "Project": "A67\\/A73 Knooppunt Zaarderheiken",
          "Title": null,
          "geometry": {
           "coordinates": [
            6.107747,
            51.401507
           ],
           "type": "Point"
          },
          "type": "Feature"
         },
         {
          "Locatie": "Afsluitdijk, Den Oever, Netherlands",
          "Ministerie": "Ministerie van Infrastructuur en Waterstaat ",
          "Project": "Afsluitdijk",
          "Title": null,
          "geometry": {
           "coordinates": [
            5.152237,
            52.991896999999994
           ],
           "type": "Point"
          },
          "type": "Feature"
         },
         {
          "Locatie": "Den Haag Centraal, The Hague, Netherlands",
          "Ministerie": "Ministerie van Infrastructuur en Waterstaat ",
          "Project": "Den Haag CS, perronsporen 11 en 12",
          "Title": null,
          "geometry": {
           "coordinates": [
            4.325601,
            52.08021
           ],
           "type": "Point"
          },
          "type": "Feature"
         },
         {
          "Locatie": "Marken, Netherlands",
          "Ministerie": "Ministerie van Infrastructuur en Waterstaat ",
          "Project": "Hoogwaterbeschermingsprogramma Dijkversterking Marken",
          "Title": null,
          "geometry": {
           "coordinates": [
            5.102501999999999,
            52.45863000000001
           ],
           "type": "Point"
          },
          "type": "Feature"
         },
         {
          "Locatie": "Ymuiden, Netherlands",
          "Ministerie": "Ministerie van Infrastructuur en Waterstaat ",
          "Project": "Hoogwaterbeschermingsprogramma: Ijmuiden",
          "Title": null,
          "geometry": {
           "coordinates": [
            4.599433,
            52.460021999999995
           ],
           "type": "Point"
          },
          "type": "Feature"
         },
         {
          "Locatie": "Vlieland, Netherlands",
          "Ministerie": "Ministerie van Infrastructuur en Waterstaat ",
          "Project": "Hoogwaterbeschermingsprogramma: Vlieland",
          "Title": null,
          "geometry": {
           "coordinates": [
            4.909946,
            53.230031999999994
           ],
           "type": "Point"
          },
          "type": "Feature"
         },
         {
          "Locatie": "Houtribdijk, Enkhuizen, Netherlands",
          "Ministerie": "Ministerie van Infrastructuur en Waterstaat ",
          "Project": "Hoogwaterbeschermingsprogramma 2: Houtribdijk, onderdeel Trintelzand B\\/watersportstrand",
          "Title": null,
          "geometry": {
           "coordinates": [
            5.280991,
            52.693611
           ],
           "type": "Point"
          },
          "type": "Feature"
         },
         {
          "Locatie": "Pannerdensch Kanaal, Pannerden, Netherlands",
          "Ministerie": "Ministerie van Infrastructuur en Waterstaat ",
          "Project": "Krib- en oeververlaging Pannerdensch Kanaal",
          "Title": null,
          "geometry": {
           "coordinates": [
            5.996553,
            51.907676
           ],
           "type": "Point"
          },
          "type": "Feature"
         },
         {
          "Locatie": "Schiphol Airport, Schiphol, Netherlands",
          "Ministerie": "Ministerie van Infrastructuur en Waterstaat ",
          "Project": "Luchthavenverkeersbesluit Schiphol",
          "Title": null,
          "geometry": {
           "coordinates": [
            4.7621269999999996,
            52.309672
           ],
           "type": "Point"
          },
          "type": "Feature"
         },
         {
          "Locatie": "Lelystad Airport, Lelystad, Netherlands",
          "Ministerie": "Ministerie van Infrastructuur en Waterstaat ",
          "Project": "Luchthavenbesluit Lelystad Airport",
          "Title": null,
          "geometry": {
           "coordinates": [
            5.5243199999999995,
            52.455736
           ],
           "type": "Point"
          },
          "type": "Feature"
         },
         {
          "Locatie": "Oostrum, Netherlands",
          "Ministerie": "Ministerie van Infrastructuur en Waterstaat ",
          "Project": "Maaslijn (spoorwegproject)",
          "Title": null,
          "geometry": {
           "coordinates": [
            6.06171,
            53.330769999999994
           ],
           "type": "Point"
          },
          "type": "Feature"
         },
         {
          "Locatie": "N33, Siddeburen, Netherlands",
          "Ministerie": "Ministerie van Infrastructuur en Waterstaat ",
          "Project": "N33 Zuidbroek - Appingedam",
          "Title": null,
          "geometry": {
           "coordinates": [
            6.876297999999999,
            53.245241
           ],
           "type": "Point"
          },
          "type": "Feature"
         },
         {
          "Locatie": "2 Schapendijk, Notter, Netherlands",
          "Ministerie": "Ministerie van Infrastructuur en Waterstaat ",
          "Project": "N35 Nijverdal - Wierden",
          "Title": null,
          "geometry": {
           "coordinates": [
            6.524794,
            52.3607
           ],
           "type": "Point"
          },
          "type": "Feature"
         },
         {
          "Locatie": "N50, Kampen, Netherlands",
          "Ministerie": "Ministerie van Infrastructuur en Waterstaat ",
          "Project": "N50 Kampen - Kampen Zuid",
          "Title": null,
          "geometry": {
           "coordinates": [
            5.881369,
            52.555014
           ],
           "type": "Point"
          },
          "type": "Feature"
         },
         {
          "Locatie": "Krommenie, Netherlands",
          "Ministerie": "Ministerie van Infrastructuur en Waterstaat ",
          "Project": "Programma Hoogfrequent Spoorvervoer: Alkmaar - Amsterdam",
          "Title": null,
          "geometry": {
           "coordinates": [
            4.756951,
            52.495245
           ],
           "type": "Point"
          },
          "type": "Feature"
         },
         {
          "Locatie": "Amsterdam Centraal, Amsterdam, Netherlands",
          "Ministerie": "Ministerie van Infrastructuur en Waterstaat ",
          "Project": "Programma Hoogfrequent Spoorvervoer: Amsterdam Centraal",
          "Title": null,
          "geometry": {
           "coordinates": [
            4.901278,
            52.378908
           ],
           "type": "Point"
          },
          "type": "Feature"
         },
         {
          "Locatie": "Tilburg, Netherlands",
          "Ministerie": "Ministerie van Infrastructuur en Waterstaat ",
          "Project": "Programma Hoogfrequent Spoorvervoer: Eindhoven - Breda",
          "Title": null,
          "geometry": {
           "coordinates": [
            5.074477,
            51.564458
           ],
           "type": "Point"
          },
          "type": "Feature"
         },
         {
          "Locatie": "Van Miertstraat, Vught, Netherlands",
          "Ministerie": "Ministerie van Infrastructuur en Waterstaat ",
          "Project": "Programma Hoogfrequent Spoorvervoer: Meteren - Boxtel",
          "Title": null,
          "geometry": {
           "coordinates": [
            5.291072,
            51.656378000000004
           ],
           "type": "Point"
          },
          "type": "Feature"
         },
         {
          "Locatie": "Stationsplein, Nymegen, Netherlands",
          "Ministerie": "Ministerie van Infrastructuur en Waterstaat ",
          "Project": "Programma Hoogfrequent Spoorvervoer: Nijmegen",
          "Title": null,
          "geometry": {
           "coordinates": [
            5.85378,
            51.843041
           ],
           "type": "Point"
          },
          "type": "Feature"
         },
         {
          "Locatie": "Zoommeer",
          "Ministerie": "Ministerie van Infrastructuur en Waterstaat ",
          "Project": "Rijksstructuurvisie Grevelingen en Volkerak - Zoommeer",
          "Title": null,
          "geometry": {
           "coordinates": [
            4.239225,
            51.497752
           ],
           "type": "Point"
          },
          "type": "Feature"
         },
         {
          "Locatie": "A58, Moergestel, Netherlands",
          "Ministerie": "Ministerie van Infrastructuur en Waterstaat ",
          "Project": "SmartwayZ.nl: InnovA58 (Eindhoven - Tilburg)",
          "Title": null,
          "geometry": {
           "coordinates": [
            5.184314,
            51.534043
           ],
           "type": "Point"
          },
          "type": "Feature"
         },
         {
          "Locatie": "A58, Ulvenhout, Netherlands",
          "Ministerie": "Ministerie van Infrastructuur en Waterstaat ",
          "Project": "SmartwayZ.nl: InnovA58 (Sint-Annabosch - Galder)",
          "Title": null,
          "geometry": {
           "coordinates": [
            4.796284,
            51.536246999999996
           ],
           "type": "Point"
          },
          "type": "Feature"
         },
         {
          "Locatie": "Parallelweg, Schiedam, Netherlands",
          "Ministerie": "Ministerie van Infrastructuur en Waterstaat ",
          "Project": "Sporen Schiedam - Rotterdam",
          "Title": null,
          "geometry": {
           "coordinates": [
            4.409507,
            51.922369
           ],
           "type": "Point"
          },
          "type": "Feature"
         },
         {
          "Locatie": "?",
          "Ministerie": "Ministerie van Economische Zaken en Klimaat",
          "Project": "Windpark Tweede Maasvlakte",
          "Title": null,
          "geometry": {
           "coordinates": [
            3.983333,
            51.958333
           ],
           "type": "Point"
          },
          "type": "Feature"
         },
         {
          "Locatie": null,
          "Ministerie": "Ministerie van Economische Zaken en Klimaat",
          "Project": "Wind op Zee Hollandse Kust (west)",
          "Title": null,
          "geometry": {
           "coordinates": [
            3.455292,
            52.375473
           ],
           "type": "Point"
          },
          "type": "Feature"
         },
         {
          "Locatie": null,
          "Ministerie": "Ministerie van Economische Zaken en Klimaat",
          "Project": "Wind op Zee Ijmuiden Ver kavels I en II",
          "Title": null,
          "geometry": {
           "coordinates": [
            3.0734529999999998,
            52.755571999999994
           ],
           "type": "Point"
          },
          "type": "Feature"
         },
         {
          "Locatie": null,
          "Ministerie": "Ministerie van Economische Zaken en Klimaat",
          "Project": "Wind op Zee Ijmuiden Ver kavels III en IV",
          "Title": null,
          "geometry": {
           "coordinates": [
            3.0680549999999998,
            52.655156000000005
           ],
           "type": "Point"
          },
          "type": "Feature"
         },
         {
          "Locatie": null,
          "Ministerie": "Ministerie van Economische Zaken en Klimaat",
          "Project": "Wind op Zee Ten Noorden Van De Wadden",
          "Title": null,
          "geometry": {
           "coordinates": [
            5.534127,
            53.847798
           ],
           "type": "Point"
          },
          "type": "Feature"
         },
         {
          "Locatie": null,
          "Ministerie": "Ministerie van Economische Zaken en Klimaat",
          "Project": "Net op Zee Hollandse Kust (noord) en (west Alpha)",
          "Title": null,
          "geometry": {
           "coordinates": [
            3.7458370000000003,
            52.633182
           ],
           "type": "Point"
          },
          "type": "Feature"
         },
         {
          "Locatie": null,
          "Ministerie": "Ministerie van Economische Zaken en Klimaat",
          "Project": "Net op Zee Hollandse Kust (weta Beta)",
          "Title": null,
          "geometry": {
           "coordinates": [
            3.453265,
            52.35112
           ],
           "type": "Point"
          },
          "type": "Feature"
         },
         {
          "Locatie": null,
          "Ministerie": "Ministerie van Economische Zaken en Klimaat",
          "Project": "Net op Zee Ijmuiden Ver Noord",
          "Title": null,
          "geometry": {
           "coordinates": [
            3.071453,
            52.705572
           ],
           "type": "Point"
          },
          "type": "Feature"
         },
         {
          "Locatie": null,
          "Ministerie": "Ministerie van Economische Zaken en Klimaat",
          "Project": "Net op Zee Ijmuiden Ver zuid",
          "Title": null,
          "geometry": {
           "coordinates": [
            3.063055,
            52.60515600000001
           ],
           "type": "Point"
          },
          "type": "Feature"
         },
         {
          "Locatie": null,
          "Ministerie": "Ministerie van Economische Zaken en Klimaat",
          "Project": "Net op Zee Ten Noorden Van DE Wadden",
          "Title": null,
          "geometry": {
           "coordinates": [
            5.534127,
            53.857797999999995
           ],
           "type": "Point"
          },
          "type": "Feature"
         },
         {
          "Locatie": "Westgat",
          "Ministerie": "Ministerie van Economische Zaken en Klimaat",
          "Project": "Elektrificatie Ameland Westgat",
          "Title": null,
          "geometry": {
           "coordinates": [
            6.084061,
            53.488774
           ],
           "type": "Point"
          },
          "type": "Feature"
         },
         {
          "Locatie": "Petten, Netherlands",
          "Ministerie": "Ministerie van Volksgezondheid, Welzijn en Sport",
          "Project": "Pallas medische isotopenreactor",
          "Title": null,
          "geometry": {
           "coordinates": [
            4.680028,
            52.78469499999999
           ],
           "type": "Point"
          },
          "type": "Feature"
         },
         {
          "Locatie": "Binnenhof, The Hague, Netherlands",
          "Ministerie": "Ministerie van Binnenlandse Zaken en Koninkrijksrelaties \\/ Rijksvastgoedbedrijf",
          "Project": "Renovatie Binnenhof",
          "Title": null,
          "geometry": {
           "coordinates": [
            4.3122419999999995,
            52.079195
           ],
           "type": "Point"
          },
          "type": "Feature"
         }
        ]
       },
       "encoding": {
        "tooltip": [
         {
          "field": "Title",
          "type": "quantitative"
         }
        ]
       },
       "mark": "geoshape"
      },
      "image/png": "[encoded data removed]",
      "text/plain": [
       "<VegaLite 3 object>\n",
       "\n",
       "If you see this message, it means the renderer has not been properly enabled\n",
       "for the frontend that you are using. For more information, see\n",
       "https://altair-viz.github.io/user_guide/troubleshooting.html\n"
      ]
     },
     "execution_count": 9,
     "metadata": {},
     "output_type": "execute_result"
    }
   ],
   "source": [
    "alt.Chart(geom).mark_geoshape().encode(tooltip=['Title'])"
   ]
  },
  {
   "cell_type": "code",
   "execution_count": 10,
   "metadata": {},
   "outputs": [],
   "source": [
    "geom.crs = {'init': 'epsg:4326'}"
   ]
  },
  {
   "cell_type": "code",
   "execution_count": 17,
   "metadata": {},
   "outputs": [],
   "source": [
    "#gdf.to_file('../altair_data/nl_spots.shp')"
   ]
  },
  {
   "cell_type": "code",
   "execution_count": 11,
   "metadata": {},
   "outputs": [
    {
     "data": {
      "text/html": [
       "<div>\n",
       "<style scoped>\n",
       "    .dataframe tbody tr th:only-of-type {\n",
       "        vertical-align: middle;\n",
       "    }\n",
       "\n",
       "    .dataframe tbody tr th {\n",
       "        vertical-align: top;\n",
       "    }\n",
       "\n",
       "    .dataframe thead th {\n",
       "        text-align: right;\n",
       "    }\n",
       "</style>\n",
       "<table border=\"1\" class=\"dataframe\">\n",
       "  <thead>\n",
       "    <tr style=\"text-align: right;\">\n",
       "      <th></th>\n",
       "      <th>Title</th>\n",
       "      <th>Ministerie</th>\n",
       "      <th>Project</th>\n",
       "      <th>Locatie</th>\n",
       "      <th>geometry</th>\n",
       "    </tr>\n",
       "  </thead>\n",
       "  <tbody>\n",
       "    <tr>\n",
       "      <th>0</th>\n",
       "      <td>NaN</td>\n",
       "      <td>Ministerie van Defensie</td>\n",
       "      <td>AOCS\\/Kamp Nieuw Milligen</td>\n",
       "      <td>Kamp Nieuw Milligen, Meerveld, Netherlands</td>\n",
       "      <td>POINT (5.771514 52.224061)</td>\n",
       "    </tr>\n",
       "    <tr>\n",
       "      <th>1</th>\n",
       "      <td>NaN</td>\n",
       "      <td>Ministerie van Defensie</td>\n",
       "      <td>APS Eygelshoven</td>\n",
       "      <td>Eygelshoven, Netherlands</td>\n",
       "      <td>POINT (6.068266 50.8937)</td>\n",
       "    </tr>\n",
       "    <tr>\n",
       "      <th>2</th>\n",
       "      <td>NaN</td>\n",
       "      <td>Ministerie van Defensie</td>\n",
       "      <td>Bernhardkazerne</td>\n",
       "      <td>198D-DW Barchman Wuytierslaan, Amersfoort, Net...</td>\n",
       "      <td>POINT (5.345255 52.14177)</td>\n",
       "    </tr>\n",
       "    <tr>\n",
       "      <th>3</th>\n",
       "      <td>NaN</td>\n",
       "      <td>Ministerie van Defensie</td>\n",
       "      <td>Camp New Amsterdam</td>\n",
       "      <td>Camp New Amsterdam, Huis ter Heide, Netherlands</td>\n",
       "      <td>POINT (5.273323 52.124407)</td>\n",
       "    </tr>\n",
       "    <tr>\n",
       "      <th>4</th>\n",
       "      <td>NaN</td>\n",
       "      <td>Ministerie van Defensie</td>\n",
       "      <td>Cluster Schaarsbergen</td>\n",
       "      <td>Schaarsbergen, Netherlands</td>\n",
       "      <td>POINT (5.869626999999999 52.027665)</td>\n",
       "    </tr>\n",
       "  </tbody>\n",
       "</table>\n",
       "</div>"
      ],
      "text/plain": [
       "   Title               Ministerie                    Project  \\\n",
       "0    NaN  Ministerie van Defensie  AOCS\\/Kamp Nieuw Milligen   \n",
       "1    NaN  Ministerie van Defensie            APS Eygelshoven   \n",
       "2    NaN  Ministerie van Defensie            Bernhardkazerne   \n",
       "3    NaN  Ministerie van Defensie         Camp New Amsterdam   \n",
       "4    NaN  Ministerie van Defensie      Cluster Schaarsbergen   \n",
       "\n",
       "                                             Locatie  \\\n",
       "0         Kamp Nieuw Milligen, Meerveld, Netherlands   \n",
       "1                           Eygelshoven, Netherlands   \n",
       "2  198D-DW Barchman Wuytierslaan, Amersfoort, Net...   \n",
       "3    Camp New Amsterdam, Huis ter Heide, Netherlands   \n",
       "4                         Schaarsbergen, Netherlands   \n",
       "\n",
       "                              geometry  \n",
       "0           POINT (5.771514 52.224061)  \n",
       "1             POINT (6.068266 50.8937)  \n",
       "2            POINT (5.345255 52.14177)  \n",
       "3           POINT (5.273323 52.124407)  \n",
       "4  POINT (5.869626999999999 52.027665)  "
      ]
     },
     "execution_count": 11,
     "metadata": {},
     "output_type": "execute_result"
    }
   ],
   "source": [
    "geom.head()"
   ]
  },
  {
   "cell_type": "code",
   "execution_count": 12,
   "metadata": {},
   "outputs": [],
   "source": [
    "gdf = gpd.read_file('nl_no2_geojson_collection.geo.json')\n",
    "gdf.columns = map(str.lower, gdf.columns) \n",
    "gdf = gdf.replace(to_replace= r'\\\\', value= '', regex=True)\n",
    "gdf['ministerie'] = gdf['ministerie'].str.replace('/ ','')\n",
    "gdf['ministerie'] = gdf['ministerie'].str.replace(' Rijksvastgoedbedrijf','')"
   ]
  },
  {
   "cell_type": "code",
   "execution_count": 13,
   "metadata": {},
   "outputs": [
    {
     "data": {
      "text/plain": [
       "array(['Ministerie van Defensie',\n",
       "       'Ministerie van Economische Zaken en Klimaat',\n",
       "       'Ministerie van Infrastructuur en Waterstaat',\n",
       "       'Ministerie van Volksgezondheid, Welzijn en Sport',\n",
       "       'Ministerie van Binnenlandse Zaken en Koninkrijksrelaties'],\n",
       "      dtype=object)"
      ]
     },
     "execution_count": 13,
     "metadata": {},
     "output_type": "execute_result"
    }
   ],
   "source": [
    "gdf.ministerie.unique()"
   ]
  },
  {
   "cell_type": "code",
   "execution_count": 14,
   "metadata": {},
   "outputs": [
    {
     "data": {
      "text/html": [
       "<div>\n",
       "<style scoped>\n",
       "    .dataframe tbody tr th:only-of-type {\n",
       "        vertical-align: middle;\n",
       "    }\n",
       "\n",
       "    .dataframe tbody tr th {\n",
       "        vertical-align: top;\n",
       "    }\n",
       "\n",
       "    .dataframe thead th {\n",
       "        text-align: right;\n",
       "    }\n",
       "</style>\n",
       "<table border=\"1\" class=\"dataframe\">\n",
       "  <thead>\n",
       "    <tr style=\"text-align: right;\">\n",
       "      <th></th>\n",
       "      <th>locatie</th>\n",
       "      <th>ministerie</th>\n",
       "      <th>project</th>\n",
       "      <th>title</th>\n",
       "      <th>date</th>\n",
       "      <th>id</th>\n",
       "      <th>max</th>\n",
       "      <th>median</th>\n",
       "      <th>min</th>\n",
       "      <th>geometry</th>\n",
       "      <th>lon</th>\n",
       "      <th>lat</th>\n",
       "    </tr>\n",
       "  </thead>\n",
       "  <tbody>\n",
       "    <tr>\n",
       "      <th>0</th>\n",
       "      <td>Kamp Nieuw Milligen, Meerveld, Netherlands</td>\n",
       "      <td>Ministerie van Defensie</td>\n",
       "      <td>AOCS/Kamp Nieuw Milligen</td>\n",
       "      <td></td>\n",
       "      <td>2018-07-01</td>\n",
       "      <td>0</td>\n",
       "      <td>0.000113</td>\n",
       "      <td>0.000109</td>\n",
       "      <td>0.000102</td>\n",
       "      <td>POINT (5.771514 52.224061)</td>\n",
       "      <td>5.771514</td>\n",
       "      <td>52.224061</td>\n",
       "    </tr>\n",
       "    <tr>\n",
       "      <th>1</th>\n",
       "      <td>Kamp Nieuw Milligen, Meerveld, Netherlands</td>\n",
       "      <td>Ministerie van Defensie</td>\n",
       "      <td>AOCS/Kamp Nieuw Milligen</td>\n",
       "      <td></td>\n",
       "      <td>2018-08-01</td>\n",
       "      <td>0</td>\n",
       "      <td>0.000115</td>\n",
       "      <td>0.000107</td>\n",
       "      <td>0.000101</td>\n",
       "      <td>POINT (5.771514 52.224061)</td>\n",
       "      <td>5.771514</td>\n",
       "      <td>52.224061</td>\n",
       "    </tr>\n",
       "    <tr>\n",
       "      <th>2</th>\n",
       "      <td>Kamp Nieuw Milligen, Meerveld, Netherlands</td>\n",
       "      <td>Ministerie van Defensie</td>\n",
       "      <td>AOCS/Kamp Nieuw Milligen</td>\n",
       "      <td></td>\n",
       "      <td>2018-09-01</td>\n",
       "      <td>0</td>\n",
       "      <td>0.000155</td>\n",
       "      <td>0.000138</td>\n",
       "      <td>0.000126</td>\n",
       "      <td>POINT (5.771514 52.224061)</td>\n",
       "      <td>5.771514</td>\n",
       "      <td>52.224061</td>\n",
       "    </tr>\n",
       "    <tr>\n",
       "      <th>3</th>\n",
       "      <td>Kamp Nieuw Milligen, Meerveld, Netherlands</td>\n",
       "      <td>Ministerie van Defensie</td>\n",
       "      <td>AOCS/Kamp Nieuw Milligen</td>\n",
       "      <td></td>\n",
       "      <td>2018-10-01</td>\n",
       "      <td>0</td>\n",
       "      <td>0.000132</td>\n",
       "      <td>0.000112</td>\n",
       "      <td>0.000099</td>\n",
       "      <td>POINT (5.771514 52.224061)</td>\n",
       "      <td>5.771514</td>\n",
       "      <td>52.224061</td>\n",
       "    </tr>\n",
       "    <tr>\n",
       "      <th>4</th>\n",
       "      <td>Kamp Nieuw Milligen, Meerveld, Netherlands</td>\n",
       "      <td>Ministerie van Defensie</td>\n",
       "      <td>AOCS/Kamp Nieuw Milligen</td>\n",
       "      <td></td>\n",
       "      <td>2018-11-01</td>\n",
       "      <td>0</td>\n",
       "      <td>0.000154</td>\n",
       "      <td>0.000144</td>\n",
       "      <td>0.000126</td>\n",
       "      <td>POINT (5.771514 52.224061)</td>\n",
       "      <td>5.771514</td>\n",
       "      <td>52.224061</td>\n",
       "    </tr>\n",
       "  </tbody>\n",
       "</table>\n",
       "</div>"
      ],
      "text/plain": [
       "                                      locatie               ministerie  \\\n",
       "0  Kamp Nieuw Milligen, Meerveld, Netherlands  Ministerie van Defensie   \n",
       "1  Kamp Nieuw Milligen, Meerveld, Netherlands  Ministerie van Defensie   \n",
       "2  Kamp Nieuw Milligen, Meerveld, Netherlands  Ministerie van Defensie   \n",
       "3  Kamp Nieuw Milligen, Meerveld, Netherlands  Ministerie van Defensie   \n",
       "4  Kamp Nieuw Milligen, Meerveld, Netherlands  Ministerie van Defensie   \n",
       "\n",
       "                    project title        date id       max    median  \\\n",
       "0  AOCS/Kamp Nieuw Milligen        2018-07-01  0  0.000113  0.000109   \n",
       "1  AOCS/Kamp Nieuw Milligen        2018-08-01  0  0.000115  0.000107   \n",
       "2  AOCS/Kamp Nieuw Milligen        2018-09-01  0  0.000155  0.000138   \n",
       "3  AOCS/Kamp Nieuw Milligen        2018-10-01  0  0.000132  0.000112   \n",
       "4  AOCS/Kamp Nieuw Milligen        2018-11-01  0  0.000154  0.000144   \n",
       "\n",
       "        min                    geometry       lon        lat  \n",
       "0  0.000102  POINT (5.771514 52.224061)  5.771514  52.224061  \n",
       "1  0.000101  POINT (5.771514 52.224061)  5.771514  52.224061  \n",
       "2  0.000126  POINT (5.771514 52.224061)  5.771514  52.224061  \n",
       "3  0.000099  POINT (5.771514 52.224061)  5.771514  52.224061  \n",
       "4  0.000126  POINT (5.771514 52.224061)  5.771514  52.224061  "
      ]
     },
     "execution_count": 14,
     "metadata": {},
     "output_type": "execute_result"
    }
   ],
   "source": [
    "data = pd.merge(gdf, geom[['geometry', 'Locatie']], how='inner', left_on='locatie', right_on='Locatie', suffixes=('_x',''))\n",
    "data['lon'] = data.geometry.x\n",
    "data['lat'] = data.geometry.y\n",
    "data.drop(['Locatie', 'geometry_x'], axis=1, inplace=True)\n",
    "data.head()"
   ]
  },
  {
   "cell_type": "code",
   "execution_count": 15,
   "metadata": {},
   "outputs": [],
   "source": [
    "from shapely.geometry.base import BaseMultipartGeometry\n",
    "from shapely.geometry.polygon import orient as orient_\n",
    "from shapely.geometry import Polygon\n",
    "\n",
    "def orient(geom, sign=1.0):\n",
    "    if isinstance(geom, BaseMultipartGeometry):\n",
    "        return geom.__class__(\n",
    "            list(\n",
    "                map(\n",
    "                    lambda geom: orient(geom, sign),\n",
    "                    geom.geoms,\n",
    "                )\n",
    "            )\n",
    "        )\n",
    "    if isinstance(geom, (Polygon,)):\n",
    "        return orient_(geom, sign)\n",
    "    return geom"
   ]
  },
  {
   "cell_type": "code",
   "execution_count": 40,
   "metadata": {},
   "outputs": [],
   "source": [
    "# remote geojson data object\n",
    "url_geojson = 'https://raw.githubusercontent.com/cartomap/nl/master/wgs84/provincie_%7B2017%7D.geojson'\n",
    "data_geojson_remote = alt.Data(url=url_geojson, format=alt.DataFormat(property='features',type='json'))\n",
    "\n",
    "# chart object\n",
    "provplt = alt.Chart(data_geojson_remote).mark_geoshape(stroke='black', fill='#F1F1F1',strokeWidth=1\n",
    ").properties(\n",
    "    width=width,\n",
    "    height=height,\n",
    "    projection={'type': 'conicConformal', 'rotate': [-20, 0.0], 'center':[-14.7, 52.1],'scale':5500, 'precision':0.1, 'translate':[width/2,height/2]}\n",
    ")"
   ]
  },
  {
   "cell_type": "code",
   "execution_count": 41,
   "metadata": {},
   "outputs": [],
   "source": [
    "#from shapely.ops import orient # version >=1.7a2\n",
    "data.geometry = data.geometry.apply(orient, args=(-1,))"
   ]
  },
  {
   "cell_type": "code",
   "execution_count": 59,
   "metadata": {},
   "outputs": [],
   "source": [
    "dates = data.date.unique()\n",
    "dates_dropdown = alt.binding_select(options=dates.tolist())\n",
    "dates_select = alt.selection_single(empty='none', fields=['date'], bind=dates_dropdown, name=\"Dates\", init={'date':dates[-1]})#, on=\"click[event.shiftKey&!event.shiftKey]\")#, clear=False)\n",
    "locatie_select = alt.selection_single(empty='none', fields=['locatie'], init={'locatie':'Houtribdijk, Enkhuizen, Netherlands'}, on='mouseover')\n",
    "locatie_date_highlight = alt.selection_single(empty='none', fields=['locatie', 'date'], on='mouseover')"
   ]
  },
  {
   "cell_type": "code",
   "execution_count": 60,
   "metadata": {},
   "outputs": [],
   "source": [
    "width = 300\n",
    "height = 300\n",
    "\n",
    "\n",
    "mapplt = alt.Chart().mark_circle(opacity=0.9, stroke='black').encode(\n",
    "    latitude=\"lat:Q\",\n",
    "    longitude=\"lon:Q\",\n",
    "    color=alt.Color('median',scale=alt.Scale(type='quantize', scheme=alt.SchemeParams('blueorange', count=5), domain=[0,0.00016]), legend=alt.Legend(title='NO₂ mol/m²', format='.1s')),\n",
    "    tooltip=['locatie',alt.Tooltip('median', format='.4s')],\n",
    "    size=alt.Size('median',scale=alt.Scale(domain=[0,0.00016])),\n",
    "    strokeWidth=alt.condition(locatie_select, alt.StrokeWidthValue(2), alt.StrokeWidthValue(1))\n",
    ").properties(\n",
    "    width=width,\n",
    "    height=height,\n",
    "    projection={'type': 'conicConformal', 'rotate': [-20, 0.0], 'center':[-14.7, 52.1],'scale':5500, 'precision':0.1, 'translate':[width/2,height/2]}\n",
    ").add_selection(\n",
    "    dates_select\n",
    ").transform_filter(\n",
    "    dates_select\n",
    ").add_selection(\n",
    "    locatie_select\n",
    ")"
   ]
  },
  {
   "cell_type": "code",
   "execution_count": 61,
   "metadata": {},
   "outputs": [],
   "source": [
    "titleplt = alt.Chart().mark_text(size=12).encode(\n",
    "    text='date:N'\n",
    ").add_selection(\n",
    "    dates_select\n",
    ").transform_filter(\n",
    "    dates_select\n",
    ")"
   ]
  },
  {
   "cell_type": "code",
   "execution_count": 62,
   "metadata": {},
   "outputs": [],
   "source": [
    "boxplt = alt.Chart().mark_boxplot().encode(\n",
    "    y=alt.Y('date:O', title=None),\n",
    "    x=alt.X('median:Q', title='NO₂ mol/m²', axis=alt.Axis(format='.2s')),\n",
    "    color=alt.condition(dates_select, alt.value('#FF9C33'), alt.value('#77B2D4')),\n",
    "    tooltip=['locatie',alt.Tooltip('median', format='.4s')]\n",
    ").properties(\n",
    "    width=width\n",
    ").add_selection(\n",
    "    dates_select\n",
    ")"
   ]
  },
  {
   "cell_type": "code",
   "execution_count": 63,
   "metadata": {},
   "outputs": [],
   "source": [
    "circleplt = alt.Chart().mark_point(stroke='black'\n",
    ").encode(    \n",
    "    x=alt.X('date:O', axis=alt.Axis(labelAngle=0), title=None),\n",
    "    y=alt.Y('ministerie:N', title=None, axis=alt.Axis(labelLimit=300)),\n",
    "    size=alt.Size('mean(median):Q',\n",
    "        scale=alt.Scale(range=[0, 500], type='symlog'),\n",
    "        legend=alt.Legend(title='NO₂ mol/m²', format='.1s')\n",
    "    ),\n",
    "    fill=alt.Fill('mean(median):Q', scale=alt.Scale(type='quantize', scheme=alt.SchemeParams('blueorange', count=5), domain=[0,0.00016]), legend=None),\n",
    "    tooltip=['date:O',alt.Tooltip('mean(median):Q', format='.4s')],\n",
    "    strokeWidth=alt.condition(locatie_select, alt.StrokeWidthValue(2), alt.StrokeWidthValue(1)),\n",
    "    fillOpacity=alt.condition(locatie_date_highlight, alt.FillOpacityValue(0.6), alt.FillOpacityValue(1))\n",
    ").add_selection(\n",
    "    dates_select\n",
    ").add_selection(\n",
    "    locatie_date_highlight\n",
    ")"
   ]
  },
  {
   "cell_type": "code",
   "execution_count": 65,
   "metadata": {},
   "outputs": [
    {
     "data": {
      "application/vnd.vegalite.v3+json": {
       "$schema": "https://vega.github.io/schema/vega-lite/v3.4.0.json",
       "config": {
        "mark": {
         "tooltip": null
        },
        "view": {
         "height": 300,
         "width": 400
        }
       },
       "data": {
        "name": "data-e067b05e002b48b876a0deafaa18790b"
       },
       "datasets": {
        "data-e067b05e002b48b876a0deafaa18790b": [
         {
          "date": "2018-07-01",
          "geometry": {
           "coordinates": [
            5.771514,
            52.224061
           ],
           "type": "Point"
          },
          "id": "0",
          "lat": 52.224061,
          "locatie": "Kamp Nieuw Milligen, Meerveld, Netherlands",
          "lon": 5.771514,
          "max": 0.00011348979790687288,
          "median": 0.00010932608711300418,
          "min": 0.00010242138159810565,
          "ministerie": "Ministerie van Defensie",
          "project": "AOCS/Kamp Nieuw Milligen",
          "title": "",
          "type": "Feature"
         },
         {
          "date": "2018-08-01",
          "geometry": {
           "coordinates": [
            5.771514,
            52.224061
           ],
           "type": "Point"
          },
          "id": "0",
          "lat": 52.224061,
          "locatie": "Kamp Nieuw Milligen, Meerveld, Netherlands",
          "lon": 5.771514,
          "max": 0.00011538131814849155,
          "median": 0.00010697711589032334,
          "min": 0.00010095987569939307,
          "ministerie": "Ministerie van Defensie",
          "project": "AOCS/Kamp Nieuw Milligen",
          "title": "",
          "type": "Feature"
         },
         {
          "date": "2018-09-01",
          "geometry": {
           "coordinates": [
            5.771514,
            52.224061
           ],
           "type": "Point"
          },
          "id": "0",
          "lat": 52.224061,
          "locatie": "Kamp Nieuw Milligen, Meerveld, Netherlands",
          "lon": 5.771514,
          "max": 0.00015488388466582004,
          "median": 0.0001377282023895532,
          "min": 0.00012574421518717473,
          "ministerie": "Ministerie van Defensie",
          "project": "AOCS/Kamp Nieuw Milligen",
          "title": "",
          "type": "Feature"
         },
         {
          "date": "2018-10-01",
          "geometry": {
           "coordinates": [
            5.771514,
            52.224061
           ],
           "type": "Point"
          },
          "id": "0",
          "lat": 52.224061,
          "locatie": "Kamp Nieuw Milligen, Meerveld, Netherlands",
          "lon": 5.771514,
          "max": 0.00013166679127607495,
          "median": 0.00011156633266782744,
          "min": 9.914607289829291e-05,
          "ministerie": "Ministerie van Defensie",
          "project": "AOCS/Kamp Nieuw Milligen",
          "title": "",
          "type": "Feature"
         },
         {
          "date": "2018-11-01",
          "geometry": {
           "coordinates": [
            5.771514,
            52.224061
           ],
           "type": "Point"
          },
          "id": "0",
          "lat": 52.224061,
          "locatie": "Kamp Nieuw Milligen, Meerveld, Netherlands",
          "lon": 5.771514,
          "max": 0.0001543852116677857,
          "median": 0.0001440188498236239,
          "min": 0.00012586786760948598,
          "ministerie": "Ministerie van Defensie",
          "project": "AOCS/Kamp Nieuw Milligen",
          "title": "",
          "type": "Feature"
         },
         {
          "date": "2018-12-01",
          "geometry": {
           "coordinates": [
            5.771514,
            52.224061
           ],
           "type": "Point"
          },
          "id": "0",
          "lat": 52.224061,
          "locatie": "Kamp Nieuw Milligen, Meerveld, Netherlands",
          "lon": 5.771514,
          "max": 0.00011393833119655028,
          "median": 0.00010428224913864015,
          "min": 9.117490418696376e-05,
          "ministerie": "Ministerie van Defensie",
          "project": "AOCS/Kamp Nieuw Milligen",
          "title": "",
          "type": "Feature"
         },
         {
          "date": "2019-01-01",
          "geometry": {
           "coordinates": [
            5.771514,
            52.224061
           ],
           "type": "Point"
          },
          "id": "0",
          "lat": 52.224061,
          "locatie": "Kamp Nieuw Milligen, Meerveld, Netherlands",
          "lon": 5.771514,
          "max": 0.00011902409919985881,
          "median": 0.0001026223015917954,
          "min": 8.00974891819805e-05,
          "ministerie": "Ministerie van Defensie",
          "project": "AOCS/Kamp Nieuw Milligen",
          "title": "",
          "type": "Feature"
         },
         {
          "date": "2019-02-01",
          "geometry": {
           "coordinates": [
            5.771514,
            52.224061
           ],
           "type": "Point"
          },
          "id": "0",
          "lat": 52.224061,
          "locatie": "Kamp Nieuw Milligen, Meerveld, Netherlands",
          "lon": 5.771514,
          "max": 0.00016546201368328184,
          "median": 0.0001515674413136616,
          "min": 0.00013578329526353627,
          "ministerie": "Ministerie van Defensie",
          "project": "AOCS/Kamp Nieuw Milligen",
          "title": "",
          "type": "Feature"
         },
         {
          "date": "2019-03-01",
          "geometry": {
           "coordinates": [
            5.771514,
            52.224061
           ],
           "type": "Point"
          },
          "id": "0",
          "lat": 52.224061,
          "locatie": "Kamp Nieuw Milligen, Meerveld, Netherlands",
          "lon": 5.771514,
          "max": 0.00011156989077421791,
          "median": 0.0001032781005253918,
          "min": 9.754264101502486e-05,
          "ministerie": "Ministerie van Defensie",
          "project": "AOCS/Kamp Nieuw Milligen",
          "title": "",
          "type": "Feature"
         },
         {
          "date": "2019-04-01",
          "geometry": {
           "coordinates": [
            5.771514,
            52.224061
           ],
           "type": "Point"
          },
          "id": "0",
          "lat": 52.224061,
          "locatie": "Kamp Nieuw Milligen, Meerveld, Netherlands",
          "lon": 5.771514,
          "max": 0.00011286081475324263,
          "median": 0.00010776597566995029,
          "min": 0.0001012322973110713,
          "ministerie": "Ministerie van Defensie",
          "project": "AOCS/Kamp Nieuw Milligen",
          "title": "",
          "type": "Feature"
         },
         {
          "date": "2019-05-01",
          "geometry": {
           "coordinates": [
            5.771514,
            52.224061
           ],
           "type": "Point"
          },
          "id": "0",
          "lat": 52.224061,
          "locatie": "Kamp Nieuw Milligen, Meerveld, Netherlands",
          "lon": 5.771514,
          "max": 0.00011907798443338134,
          "median": 0.00011146253698759287,
          "min": 0.00010390935328967674,
          "ministerie": "Ministerie van Defensie",
          "project": "AOCS/Kamp Nieuw Milligen",
          "title": "",
          "type": "Feature"
         },
         {
          "date": "2019-06-01",
          "geometry": {
           "coordinates": [
            5.771514,
            52.224061
           ],
           "type": "Point"
          },
          "id": "0",
          "lat": 52.224061,
          "locatie": "Kamp Nieuw Milligen, Meerveld, Netherlands",
          "lon": 5.771514,
          "max": 0.00011213129255338572,
          "median": 0.00010403622196149441,
          "min": 9.814314398681745e-05,
          "ministerie": "Ministerie van Defensie",
          "project": "AOCS/Kamp Nieuw Milligen",
          "title": "",
          "type": "Feature"
         },
         {
          "date": "2019-07-01",
          "geometry": {
           "coordinates": [
            5.771514,
            52.224061
           ],
           "type": "Point"
          },
          "id": "0",
          "lat": 52.224061,
          "locatie": "Kamp Nieuw Milligen, Meerveld, Netherlands",
          "lon": 5.771514,
          "max": 0.00011102919756417552,
          "median": 0.00010325944813948095,
          "min": 9.501668254000524e-05,
          "ministerie": "Ministerie van Defensie",
          "project": "AOCS/Kamp Nieuw Milligen",
          "title": "",
          "type": "Feature"
         },
         {
          "date": "2019-08-01",
          "geometry": {
           "coordinates": [
            5.771514,
            52.224061
           ],
           "type": "Point"
          },
          "id": "0",
          "lat": 52.224061,
          "locatie": "Kamp Nieuw Milligen, Meerveld, Netherlands",
          "lon": 5.771514,
          "max": 0.00012002051880699582,
          "median": 0.00011533940761950738,
          "min": 0.00010706302716254431,
          "ministerie": "Ministerie van Defensie",
          "project": "AOCS/Kamp Nieuw Milligen",
          "title": "",
          "type": "Feature"
         },
         {
          "date": "2019-09-01",
          "geometry": {
           "coordinates": [
            5.771514,
            52.224061
           ],
           "type": "Point"
          },
          "id": "0",
          "lat": 52.224061,
          "locatie": "Kamp Nieuw Milligen, Meerveld, Netherlands",
          "lon": 5.771514,
          "max": 0.00012373314530123025,
          "median": 9.669608074977874e-05,
          "min": 7.895506132626906e-05,
          "ministerie": "Ministerie van Defensie",
          "project": "AOCS/Kamp Nieuw Milligen",
          "title": "",
          "type": "Feature"
         },
         {
          "date": "2018-07-01",
          "geometry": {
           "coordinates": [
            6.068266,
            50.8937
           ],
           "type": "Point"
          },
          "id": "1",
          "lat": 50.8937,
          "locatie": "Eygelshoven, Netherlands",
          "lon": 6.068266,
          "max": 0.00013660534945183933,
          "median": 0.00012693020560618703,
          "min": 0.0001131957464915421,
          "ministerie": "Ministerie van Defensie",
          "project": "APS Eygelshoven",
          "title": "",
          "type": "Feature"
         },
         {
          "date": "2018-08-01",
          "geometry": {
           "coordinates": [
            6.068266,
            50.8937
           ],
           "type": "Point"
          },
          "id": "1",
          "lat": 50.8937,
          "locatie": "Eygelshoven, Netherlands",
          "lon": 6.068266,
          "max": 0.00012911739001244702,
          "median": 0.00012080659732128874,
          "min": 0.00011072582896488615,
          "ministerie": "Ministerie van Defensie",
          "project": "APS Eygelshoven",
          "title": "",
          "type": "Feature"
         },
         {
          "date": "2018-09-01",
          "geometry": {
           "coordinates": [
            6.068266,
            50.8937
           ],
           "type": "Point"
          },
          "id": "1",
          "lat": 50.8937,
          "locatie": "Eygelshoven, Netherlands",
          "lon": 6.068266,
          "max": 0.00015418164387919327,
          "median": 0.00014358024396138292,
          "min": 0.00012478008437515368,
          "ministerie": "Ministerie van Defensie",
          "project": "APS Eygelshoven",
          "title": "",
          "type": "Feature"
         },
         {
          "date": "2018-10-01",
          "geometry": {
           "coordinates": [
            6.068266,
            50.8937
           ],
           "type": "Point"
          },
          "id": "1",
          "lat": 50.8937,
          "locatie": "Eygelshoven, Netherlands",
          "lon": 6.068266,
          "max": 0.00016273670189548284,
          "median": 0.00013952664091959572,
          "min": 0.00012307809083722532,
          "ministerie": "Ministerie van Defensie",
          "project": "APS Eygelshoven",
          "title": "",
          "type": "Feature"
         },
         {
          "date": "2018-11-01",
          "geometry": {
           "coordinates": [
            6.068266,
            50.8937
           ],
           "type": "Point"
          },
          "id": "1",
          "lat": 50.8937,
          "locatie": "Eygelshoven, Netherlands",
          "lon": 6.068266,
          "max": 0.000147430171468947,
          "median": 0.00014158654084894806,
          "min": 0.00013299992868461382,
          "ministerie": "Ministerie van Defensie",
          "project": "APS Eygelshoven",
          "title": "",
          "type": "Feature"
         },
         {
          "date": "2018-12-01",
          "geometry": {
           "coordinates": [
            6.068266,
            50.8937
           ],
           "type": "Point"
          },
          "id": "1",
          "lat": 50.8937,
          "locatie": "Eygelshoven, Netherlands",
          "lon": 6.068266,
          "max": 0.00012325012420026513,
          "median": 0.00010870207226411681,
          "min": 9.200828935718164e-05,
          "ministerie": "Ministerie van Defensie",
          "project": "APS Eygelshoven",
          "title": "",
          "type": "Feature"
         },
         {
          "date": "2019-01-01",
          "geometry": {
           "coordinates": [
            6.068266,
            50.8937
           ],
           "type": "Point"
          },
          "id": "1",
          "lat": 50.8937,
          "locatie": "Eygelshoven, Netherlands",
          "lon": 6.068266,
          "max": 0.000159035276263469,
          "median": 0.0001326103458197671,
          "min": 0.00010972921518259682,
          "ministerie": "Ministerie van Defensie",
          "project": "APS Eygelshoven",
          "title": "",
          "type": "Feature"
         },
         {
          "date": "2019-02-01",
          "geometry": {
           "coordinates": [
            6.068266,
            50.8937
           ],
           "type": "Point"
          },
          "id": "1",
          "lat": 50.8937,
          "locatie": "Eygelshoven, Netherlands",
          "lon": 6.068266,
          "max": 0.00014306085457476927,
          "median": 0.0001346942808595486,
          "min": 0.00011332549897653654,
          "ministerie": "Ministerie van Defensie",
          "project": "APS Eygelshoven",
          "title": "",
          "type": "Feature"
         },
         {
          "date": "2019-03-01",
          "geometry": {
           "coordinates": [
            6.068266,
            50.8937
           ],
           "type": "Point"
          },
          "id": "1",
          "lat": 50.8937,
          "locatie": "Eygelshoven, Netherlands",
          "lon": 6.068266,
          "max": 0.00011467240628714739,
          "median": 0.00010800376912811771,
          "min": 0.00010070694782108808,
          "ministerie": "Ministerie van Defensie",
          "project": "APS Eygelshoven",
          "title": "",
          "type": "Feature"
         },
         {
          "date": "2019-04-01",
          "geometry": {
           "coordinates": [
            6.068266,
            50.8937
           ],
           "type": "Point"
          },
          "id": "1",
          "lat": 50.8937,
          "locatie": "Eygelshoven, Netherlands",
          "lon": 6.068266,
          "max": 0.00015484059486300608,
          "median": 0.00014317267579136092,
          "min": 0.00013018378912135864,
          "ministerie": "Ministerie van Defensie",
          "project": "APS Eygelshoven",
          "title": "",
          "type": "Feature"
         },
         {
          "date": "2019-05-01",
          "geometry": {
           "coordinates": [
            6.068266,
            50.8937
           ],
           "type": "Point"
          },
          "id": "1",
          "lat": 50.8937,
          "locatie": "Eygelshoven, Netherlands",
          "lon": 6.068266,
          "max": 0.00012180173455968482,
          "median": 0.00011566608009161428,
          "min": 0.00011070529272697882,
          "ministerie": "Ministerie van Defensie",
          "project": "APS Eygelshoven",
          "title": "",
          "type": "Feature"
         },
         {
          "date": "2019-06-01",
          "geometry": {
           "coordinates": [
            6.068266,
            50.8937
           ],
           "type": "Point"
          },
          "id": "1",
          "lat": 50.8937,
          "locatie": "Eygelshoven, Netherlands",
          "lon": 6.068266,
          "max": 0.0001074266474461183,
          "median": 0.00010452855381026597,
          "min": 9.730264917655806e-05,
          "ministerie": "Ministerie van Defensie",
          "project": "APS Eygelshoven",
          "title": "",
          "type": "Feature"
         },
         {
          "date": "2019-07-01",
          "geometry": {
           "coordinates": [
            6.068266,
            50.8937
           ],
           "type": "Point"
          },
          "id": "1",
          "lat": 50.8937,
          "locatie": "Eygelshoven, Netherlands",
          "lon": 6.068266,
          "max": 0.0001165821856503413,
          "median": 0.00011137789260828868,
          "min": 0.00010409340886163068,
          "ministerie": "Ministerie van Defensie",
          "project": "APS Eygelshoven",
          "title": "",
          "type": "Feature"
         },
         {
          "date": "2019-08-01",
          "geometry": {
           "coordinates": [
            6.068266,
            50.8937
           ],
           "type": "Point"
          },
          "id": "1",
          "lat": 50.8937,
          "locatie": "Eygelshoven, Netherlands",
          "lon": 6.068266,
          "max": 0.00010599975939840078,
          "median": 0.00010153986345720533,
          "min": 9.27550264045923e-05,
          "ministerie": "Ministerie van Defensie",
          "project": "APS Eygelshoven",
          "title": "",
          "type": "Feature"
         },
         {
          "date": "2019-09-01",
          "geometry": {
           "coordinates": [
            6.068266,
            50.8937
           ],
           "type": "Point"
          },
          "id": "1",
          "lat": 50.8937,
          "locatie": "Eygelshoven, Netherlands",
          "lon": 6.068266,
          "max": 0.00011864157378273745,
          "median": 0.00010826612183909644,
          "min": 9.197767212754115e-05,
          "ministerie": "Ministerie van Defensie",
          "project": "APS Eygelshoven",
          "title": "",
          "type": "Feature"
         },
         {
          "date": "2018-07-01",
          "geometry": {
           "coordinates": [
            5.345255,
            52.14177
           ],
           "type": "Point"
          },
          "id": "2",
          "lat": 52.14177,
          "locatie": "198D-DW Barchman Wuytierslaan, Amersfoort, Netherlands",
          "lon": 5.345255,
          "max": 0.00012390151823638007,
          "median": 0.00011360255695514975,
          "min": 0.00010660368570825085,
          "ministerie": "Ministerie van Defensie",
          "project": "Bernhardkazerne",
          "title": "",
          "type": "Feature"
         },
         {
          "date": "2018-08-01",
          "geometry": {
           "coordinates": [
            5.345255,
            52.14177
           ],
           "type": "Point"
          },
          "id": "2",
          "lat": 52.14177,
          "locatie": "198D-DW Barchman Wuytierslaan, Amersfoort, Netherlands",
          "lon": 5.345255,
          "max": 0.0001151147393030713,
          "median": 0.00011194547561938452,
          "min": 0.00010435802866431862,
          "ministerie": "Ministerie van Defensie",
          "project": "Bernhardkazerne",
          "title": "",
          "type": "Feature"
         },
         {
          "date": "2018-09-01",
          "geometry": {
           "coordinates": [
            5.345255,
            52.14177
           ],
           "type": "Point"
          },
          "id": "2",
          "lat": 52.14177,
          "locatie": "198D-DW Barchman Wuytierslaan, Amersfoort, Netherlands",
          "lon": 5.345255,
          "max": 0.00015883928774565855,
          "median": 0.00014481158860704056,
          "min": 0.0001266906201365543,
          "ministerie": "Ministerie van Defensie",
          "project": "Bernhardkazerne",
          "title": "",
          "type": "Feature"
         },
         {
          "date": "2018-10-01",
          "geometry": {
           "coordinates": [
            5.345255,
            52.14177
           ],
           "type": "Point"
          },
          "id": "2",
          "lat": 52.14177,
          "locatie": "198D-DW Barchman Wuytierslaan, Amersfoort, Netherlands",
          "lon": 5.345255,
          "max": 0.00012287374556763098,
          "median": 0.00011288141467957757,
          "min": 0.0001050166312044132,
          "ministerie": "Ministerie van Defensie",
          "project": "Bernhardkazerne",
          "title": "",
          "type": "Feature"
         },
         {
          "date": "2018-11-01",
          "geometry": {
           "coordinates": [
            5.345255,
            52.14177
           ],
           "type": "Point"
          },
          "id": "2",
          "lat": 52.14177,
          "locatie": "198D-DW Barchman Wuytierslaan, Amersfoort, Netherlands",
          "lon": 5.345255,
          "max": 0.00015051752223764755,
          "median": 0.00013266036783853323,
          "min": 0.00011967091603251153,
          "ministerie": "Ministerie van Defensie",
          "project": "Bernhardkazerne",
          "title": "",
          "type": "Feature"
         },
         {
          "date": "2018-12-01",
          "geometry": {
           "coordinates": [
            5.345255,
            52.14177
           ],
           "type": "Point"
          },
          "id": "2",
          "lat": 52.14177,
          "locatie": "198D-DW Barchman Wuytierslaan, Amersfoort, Netherlands",
          "lon": 5.345255,
          "max": 0.00012458808496902457,
          "median": 0.00010634171928287705,
          "min": 9.516022581495287e-05,
          "ministerie": "Ministerie van Defensie",
          "project": "Bernhardkazerne",
          "title": "",
          "type": "Feature"
         },
         {
          "date": "2019-01-01",
          "geometry": {
           "coordinates": [
            5.345255,
            52.14177
           ],
           "type": "Point"
          },
          "id": "2",
          "lat": 52.14177,
          "locatie": "198D-DW Barchman Wuytierslaan, Amersfoort, Netherlands",
          "lon": 5.345255,
          "max": 9.616850002203137e-05,
          "median": 8.662297227841078e-05,
          "min": 7.4479808658297e-05,
          "ministerie": "Ministerie van Defensie",
          "project": "Bernhardkazerne",
          "title": "",
          "type": "Feature"
         },
         {
          "date": "2019-02-01",
          "geometry": {
           "coordinates": [
            5.345255,
            52.14177
           ],
           "type": "Point"
          },
          "id": "2",
          "lat": 52.14177,
          "locatie": "198D-DW Barchman Wuytierslaan, Amersfoort, Netherlands",
          "lon": 5.345255,
          "max": 0.00016451177602426264,
          "median": 0.00014274237708023938,
          "min": 0.00012808639233819011,
          "ministerie": "Ministerie van Defensie",
          "project": "Bernhardkazerne",
          "title": "",
          "type": "Feature"
         },
         {
          "date": "2019-03-01",
          "geometry": {
           "coordinates": [
            5.345255,
            52.14177
           ],
           "type": "Point"
          },
          "id": "2",
          "lat": 52.14177,
          "locatie": "198D-DW Barchman Wuytierslaan, Amersfoort, Netherlands",
          "lon": 5.345255,
          "max": 0.00012604562734662208,
          "median": 0.00011047796989960989,
          "min": 9.454856626689434e-05,
          "ministerie": "Ministerie van Defensie",
          "project": "Bernhardkazerne",
          "title": "",
          "type": "Feature"
         },
         {
          "date": "2019-04-01",
          "geometry": {
           "coordinates": [
            5.345255,
            52.14177
           ],
           "type": "Point"
          },
          "id": "2",
          "lat": 52.14177,
          "locatie": "198D-DW Barchman Wuytierslaan, Amersfoort, Netherlands",
          "lon": 5.345255,
          "max": 0.00012328482989687473,
          "median": 0.00011473814795726932,
          "min": 0.000108781670529514,
          "ministerie": "Ministerie van Defensie",
          "project": "Bernhardkazerne",
          "title": "",
          "type": "Feature"
         },
         {
          "date": "2019-05-01",
          "geometry": {
           "coordinates": [
            5.345255,
            52.14177
           ],
           "type": "Point"
          },
          "id": "2",
          "lat": 52.14177,
          "locatie": "198D-DW Barchman Wuytierslaan, Amersfoort, Netherlands",
          "lon": 5.345255,
          "max": 0.00011976414297433567,
          "median": 0.00011415924048570613,
          "min": 0.00010992164196958092,
          "ministerie": "Ministerie van Defensie",
          "project": "Bernhardkazerne",
          "title": "",
          "type": "Feature"
         },
         {
          "date": "2019-06-01",
          "geometry": {
           "coordinates": [
            5.345255,
            52.14177
           ],
           "type": "Point"
          },
          "id": "2",
          "lat": 52.14177,
          "locatie": "198D-DW Barchman Wuytierslaan, Amersfoort, Netherlands",
          "lon": 5.345255,
          "max": 0.00011423914645544612,
          "median": 0.00010967370681211863,
          "min": 0.0001036735721069662,
          "ministerie": "Ministerie van Defensie",
          "project": "Bernhardkazerne",
          "title": "",
          "type": "Feature"
         },
         {
          "date": "2019-07-01",
          "geometry": {
           "coordinates": [
            5.345255,
            52.14177
           ],
           "type": "Point"
          },
          "id": "2",
          "lat": 52.14177,
          "locatie": "198D-DW Barchman Wuytierslaan, Amersfoort, Netherlands",
          "lon": 5.345255,
          "max": 0.00011054896819878193,
          "median": 0.00010521603086073017,
          "min": 0.00010164585546590388,
          "ministerie": "Ministerie van Defensie",
          "project": "Bernhardkazerne",
          "title": "",
          "type": "Feature"
         },
         {
          "date": "2019-08-01",
          "geometry": {
           "coordinates": [
            5.345255,
            52.14177
           ],
           "type": "Point"
          },
          "id": "2",
          "lat": 52.14177,
          "locatie": "198D-DW Barchman Wuytierslaan, Amersfoort, Netherlands",
          "lon": 5.345255,
          "max": 0.0001243596548679267,
          "median": 0.00011759272191605934,
          "min": 0.00010832667612703517,
          "ministerie": "Ministerie van Defensie",
          "project": "Bernhardkazerne",
          "title": "",
          "type": "Feature"
         },
         {
          "date": "2019-09-01",
          "geometry": {
           "coordinates": [
            5.345255,
            52.14177
           ],
           "type": "Point"
          },
          "id": "2",
          "lat": 52.14177,
          "locatie": "198D-DW Barchman Wuytierslaan, Amersfoort, Netherlands",
          "lon": 5.345255,
          "max": 0.00011377337410396567,
          "median": 0.00010173145904822706,
          "min": 7.81103091883456e-05,
          "ministerie": "Ministerie van Defensie",
          "project": "Bernhardkazerne",
          "title": "",
          "type": "Feature"
         },
         {
          "date": "2018-07-01",
          "geometry": {
           "coordinates": [
            5.273323,
            52.124407
           ],
           "type": "Point"
          },
          "id": "3",
          "lat": 52.124407,
          "locatie": "Camp New Amsterdam, Huis ter Heide, Netherlands",
          "lon": 5.273323,
          "max": 0.0001255089300684631,
          "median": 0.00011575222207609812,
          "min": 0.00010801740427268669,
          "ministerie": "Ministerie van Defensie",
          "project": "Camp New Amsterdam",
          "title": "",
          "type": "Feature"
         },
         {
          "date": "2018-08-01",
          "geometry": {
           "coordinates": [
            5.273323,
            52.124407
           ],
           "type": "Point"
          },
          "id": "3",
          "lat": 52.124407,
          "locatie": "Camp New Amsterdam, Huis ter Heide, Netherlands",
          "lon": 5.273323,
          "max": 0.00011980141336613997,
          "median": 0.00011267577371017621,
          "min": 0.00010435802866431862,
          "ministerie": "Ministerie van Defensie",
          "project": "Camp New Amsterdam",
          "title": "",
          "type": "Feature"
         },
         {
          "date": "2018-09-01",
          "geometry": {
           "coordinates": [
            5.273323,
            52.124407
           ],
           "type": "Point"
          },
          "id": "3",
          "lat": 52.124407,
          "locatie": "Camp New Amsterdam, Huis ter Heide, Netherlands",
          "lon": 5.273323,
          "max": 0.00015996599431239704,
          "median": 0.00014889115118421614,
          "min": 0.00013258229092644164,
          "ministerie": "Ministerie van Defensie",
          "project": "Camp New Amsterdam",
          "title": "",
          "type": "Feature"
         },
         {
          "date": "2018-10-01",
          "geometry": {
           "coordinates": [
            5.273323,
            52.124407
           ],
           "type": "Point"
          },
          "id": "3",
          "lat": 52.124407,
          "locatie": "Camp New Amsterdam, Huis ter Heide, Netherlands",
          "lon": 5.273323,
          "max": 0.00012287374556763098,
          "median": 0.00011079399477688327,
          "min": 0.00010247818863717839,
          "ministerie": "Ministerie van Defensie",
          "project": "Camp New Amsterdam",
          "title": "",
          "type": "Feature"
         },
         {
          "date": "2018-11-01",
          "geometry": {
           "coordinates": [
            5.273323,
            52.124407
           ],
           "type": "Point"
          },
          "id": "3",
          "lat": 52.124407,
          "locatie": "Camp New Amsterdam, Huis ter Heide, Netherlands",
          "lon": 5.273323,
          "max": 0.000141040563595565,
          "median": 0.00013263260113500455,
          "min": 0.00011967091603251153,
          "ministerie": "Ministerie van Defensie",
          "project": "Camp New Amsterdam",
          "title": "",
          "type": "Feature"
         },
         {
          "date": "2018-12-01",
          "geometry": {
           "coordinates": [
            5.273323,
            52.124407
           ],
           "type": "Point"
          },
          "id": "3",
          "lat": 52.124407,
          "locatie": "Camp New Amsterdam, Huis ter Heide, Netherlands",
          "lon": 5.273323,
          "max": 0.00012458808496902457,
          "median": 0.00010753724155778628,
          "min": 9.516022581495287e-05,
          "ministerie": "Ministerie van Defensie",
          "project": "Camp New Amsterdam",
          "title": "",
          "type": "Feature"
         },
         {
          "date": "2019-01-01",
          "geometry": {
           "coordinates": [
            5.273323,
            52.124407
           ],
           "type": "Point"
          },
          "id": "3",
          "lat": 52.124407,
          "locatie": "Camp New Amsterdam, Huis ter Heide, Netherlands",
          "lon": 5.273323,
          "max": 0.00010516509304674316,
          "median": 8.563582377973944e-05,
          "min": 7.40276397152077e-05,
          "ministerie": "Ministerie van Defensie",
          "project": "Camp New Amsterdam",
          "title": "",
          "type": "Feature"
         },
         {
          "date": "2019-02-01",
          "geometry": {
           "coordinates": [
            5.273323,
            52.124407
           ],
           "type": "Point"
          },
          "id": "3",
          "lat": 52.124407,
          "locatie": "Camp New Amsterdam, Huis ter Heide, Netherlands",
          "lon": 5.273323,
          "max": 0.00015459148562513292,
          "median": 0.0001381728794542678,
          "min": 0.00012808639233819011,
          "ministerie": "Ministerie van Defensie",
          "project": "Camp New Amsterdam",
          "title": "",
          "type": "Feature"
         },
         {
          "date": "2019-03-01",
          "geometry": {
           "coordinates": [
            5.273323,
            52.124407
           ],
           "type": "Point"
          },
          "id": "3",
          "lat": 52.124407,
          "locatie": "Camp New Amsterdam, Huis ter Heide, Netherlands",
          "lon": 5.273323,
          "max": 0.00012604562734662208,
          "median": 0.00011313036152484589,
          "min": 0.00010036316962214187,
          "ministerie": "Ministerie van Defensie",
          "project": "Camp New Amsterdam",
          "title": "",
          "type": "Feature"
         },
         {
          "date": "2019-04-01",
          "geometry": {
           "coordinates": [
            5.273323,
            52.124407
           ],
           "type": "Point"
          },
          "id": "3",
          "lat": 52.124407,
          "locatie": "Camp New Amsterdam, Huis ter Heide, Netherlands",
          "lon": 5.273323,
          "max": 0.00013126450290989805,
          "median": 0.00011797523277132842,
          "min": 0.0001096955924778141,
          "ministerie": "Ministerie van Defensie",
          "project": "Camp New Amsterdam",
          "title": "",
          "type": "Feature"
         },
         {
          "date": "2019-05-01",
          "geometry": {
           "coordinates": [
            5.273323,
            52.124407
           ],
           "type": "Point"
          },
          "id": "3",
          "lat": 52.124407,
          "locatie": "Camp New Amsterdam, Huis ter Heide, Netherlands",
          "lon": 5.273323,
          "max": 0.00012086962110673894,
          "median": 0.00011442569788515546,
          "min": 0.00010992164196958092,
          "ministerie": "Ministerie van Defensie",
          "project": "Camp New Amsterdam",
          "title": "",
          "type": "Feature"
         },
         {
          "date": "2019-06-01",
          "geometry": {
           "coordinates": [
            5.273323,
            52.124407
           ],
           "type": "Point"
          },
          "id": "3",
          "lat": 52.124407,
          "locatie": "Camp New Amsterdam, Huis ter Heide, Netherlands",
          "lon": 5.273323,
          "max": 0.00011571283751407847,
          "median": 0.00010927602267133695,
          "min": 0.0001031062834725247,
          "ministerie": "Ministerie van Defensie",
          "project": "Camp New Amsterdam",
          "title": "",
          "type": "Feature"
         },
         {
          "date": "2019-07-01",
          "geometry": {
           "coordinates": [
            5.273323,
            52.124407
           ],
           "type": "Point"
          },
          "id": "3",
          "lat": 52.124407,
          "locatie": "Camp New Amsterdam, Huis ter Heide, Netherlands",
          "lon": 5.273323,
          "max": 0.00011384711124552887,
          "median": 0.00010644644381459397,
          "min": 0.00010153236904774697,
          "ministerie": "Ministerie van Defensie",
          "project": "Camp New Amsterdam",
          "title": "",
          "type": "Feature"
         },
         {
          "date": "2019-08-01",
          "geometry": {
           "coordinates": [
            5.273323,
            52.124407
           ],
           "type": "Point"
          },
          "id": "3",
          "lat": 52.124407,
          "locatie": "Camp New Amsterdam, Huis ter Heide, Netherlands",
          "lon": 5.273323,
          "max": 0.00012862199218943715,
          "median": 0.000118111575205613,
          "min": 0.00010832667612703517,
          "ministerie": "Ministerie van Defensie",
          "project": "Camp New Amsterdam",
          "title": "",
          "type": "Feature"
         },
         {
          "date": "2019-09-01",
          "geometry": {
           "coordinates": [
            5.273323,
            52.124407
           ],
           "type": "Point"
          },
          "id": "3",
          "lat": 52.124407,
          "locatie": "Camp New Amsterdam, Huis ter Heide, Netherlands",
          "lon": 5.273323,
          "max": 0.00011377337410396567,
          "median": 9.958063327222328e-05,
          "min": 7.81103091883456e-05,
          "ministerie": "Ministerie van Defensie",
          "project": "Camp New Amsterdam",
          "title": "",
          "type": "Feature"
         },
         {
          "date": "2018-07-01",
          "geometry": {
           "coordinates": [
            5.8696269999999995,
            52.027665
           ],
           "type": "Point"
          },
          "id": "4",
          "lat": 52.027665,
          "locatie": "Schaarsbergen, Netherlands",
          "lon": 5.8696269999999995,
          "max": 0.00012038018646875942,
          "median": 0.00011156167657347313,
          "min": 0.00010685971953098452,
          "ministerie": "Ministerie van Defensie",
          "project": "Cluster Schaarsbergen",
          "title": "",
          "type": "Feature"
         },
         {
          "date": "2018-08-01",
          "geometry": {
           "coordinates": [
            5.8696269999999995,
            52.027665
           ],
           "type": "Point"
          },
          "id": "4",
          "lat": 52.027665,
          "locatie": "Schaarsbergen, Netherlands",
          "lon": 5.8696269999999995,
          "max": 0.0001167850277852267,
          "median": 0.00010849848569541457,
          "min": 0.00010357000269296469,
          "ministerie": "Ministerie van Defensie",
          "project": "Cluster Schaarsbergen",
          "title": "",
          "type": "Feature"
         },
         {
          "date": "2018-09-01",
          "geometry": {
           "coordinates": [
            5.8696269999999995,
            52.027665
           ],
           "type": "Point"
          },
          "id": "4",
          "lat": 52.027665,
          "locatie": "Schaarsbergen, Netherlands",
          "lon": 5.8696269999999995,
          "max": 0.00015995183964143944,
          "median": 0.00013618463465970188,
          "min": 0.00011998414613271026,
          "ministerie": "Ministerie van Defensie",
          "project": "Cluster Schaarsbergen",
          "title": "",
          "type": "Feature"
         },
         {
          "date": "2018-10-01",
          "geometry": {
           "coordinates": [
            5.8696269999999995,
            52.027665
           ],
           "type": "Point"
          },
          "id": "4",
          "lat": 52.027665,
          "locatie": "Schaarsbergen, Netherlands",
          "lon": 5.8696269999999995,
          "max": 0.0001342345931334421,
          "median": 0.00012120848259655759,
          "min": 0.00010792571993079036,
          "ministerie": "Ministerie van Defensie",
          "project": "Cluster Schaarsbergen",
          "title": "",
          "type": "Feature"
         },
         {
          "date": "2018-11-01",
          "geometry": {
           "coordinates": [
            5.8696269999999995,
            52.027665
           ],
           "type": "Point"
          },
          "id": "4",
          "lat": 52.027665,
          "locatie": "Schaarsbergen, Netherlands",
          "lon": 5.8696269999999995,
          "max": 0.0001747280281945569,
          "median": 0.00015409917978104204,
          "min": 0.00014351486463061002,
          "ministerie": "Ministerie van Defensie",
          "project": "Cluster Schaarsbergen",
          "title": "",
          "type": "Feature"
         },
         {
          "date": "2018-12-01",
          "geometry": {
           "coordinates": [
            5.8696269999999995,
            52.027665
           ],
           "type": "Point"
          },
          "id": "4",
          "lat": 52.027665,
          "locatie": "Schaarsbergen, Netherlands",
          "lon": 5.8696269999999995,
          "max": 0.00012947464711032808,
          "median": 0.0001111454370030999,
          "min": 9.996021981351078e-05,
          "ministerie": "Ministerie van Defensie",
          "project": "Cluster Schaarsbergen",
          "title": "",
          "type": "Feature"
         },
         {
          "date": "2019-01-01",
          "geometry": {
           "coordinates": [
            5.8696269999999995,
            52.027665
           ],
           "type": "Point"
          },
          "id": "4",
          "lat": 52.027665,
          "locatie": "Schaarsbergen, Netherlands",
          "lon": 5.8696269999999995,
          "max": 0.0001355046551907435,
          "median": 0.00012513105269871963,
          "min": 0.00010926614413619973,
          "ministerie": "Ministerie van Defensie",
          "project": "Cluster Schaarsbergen",
          "title": "",
          "type": "Feature"
         },
         {
          "date": "2019-02-01",
          "geometry": {
           "coordinates": [
            5.8696269999999995,
            52.027665
           ],
           "type": "Point"
          },
          "id": "4",
          "lat": 52.027665,
          "locatie": "Schaarsbergen, Netherlands",
          "lon": 5.8696269999999995,
          "max": 0.00016936307982507828,
          "median": 0.0001578496056568119,
          "min": 0.00014687439971865855,
          "ministerie": "Ministerie van Defensie",
          "project": "Cluster Schaarsbergen",
          "title": "",
          "type": "Feature"
         },
         {
          "date": "2019-03-01",
          "geometry": {
           "coordinates": [
            5.8696269999999995,
            52.027665
           ],
           "type": "Point"
          },
          "id": "4",
          "lat": 52.027665,
          "locatie": "Schaarsbergen, Netherlands",
          "lon": 5.8696269999999995,
          "max": 0.00012230273239720654,
          "median": 0.00010978345778517612,
          "min": 9.848174490615233e-05,
          "ministerie": "Ministerie van Defensie",
          "project": "Cluster Schaarsbergen",
          "title": "",
          "type": "Feature"
         },
         {
          "date": "2019-04-01",
          "geometry": {
           "coordinates": [
            5.8696269999999995,
            52.027665
           ],
           "type": "Point"
          },
          "id": "4",
          "lat": 52.027665,
          "locatie": "Schaarsbergen, Netherlands",
          "lon": 5.8696269999999995,
          "max": 0.00011982550252938385,
          "median": 0.00011305822497931114,
          "min": 0.00010188856708017263,
          "ministerie": "Ministerie van Defensie",
          "project": "Cluster Schaarsbergen",
          "title": "",
          "type": "Feature"
         },
         {
          "date": "2019-05-01",
          "geometry": {
           "coordinates": [
            5.8696269999999995,
            52.027665
           ],
           "type": "Point"
          },
          "id": "4",
          "lat": 52.027665,
          "locatie": "Schaarsbergen, Netherlands",
          "lon": 5.8696269999999995,
          "max": 0.00012175381200472466,
          "median": 0.00011714856255721854,
          "min": 0.00011020703459507786,
          "ministerie": "Ministerie van Defensie",
          "project": "Cluster Schaarsbergen",
          "title": "",
          "type": "Feature"
         },
         {
          "date": "2019-06-01",
          "geometry": {
           "coordinates": [
            5.8696269999999995,
            52.027665
           ],
           "type": "Point"
          },
          "id": "4",
          "lat": 52.027665,
          "locatie": "Schaarsbergen, Netherlands",
          "lon": 5.8696269999999995,
          "max": 0.00011763743331556862,
          "median": 0.00011061230179620907,
          "min": 0.00010454554021365474,
          "ministerie": "Ministerie van Defensie",
          "project": "Cluster Schaarsbergen",
          "title": "",
          "type": "Feature"
         },
         {
          "date": "2019-07-01",
          "geometry": {
           "coordinates": [
            5.8696269999999995,
            52.027665
           ],
           "type": "Point"
          },
          "id": "4",
          "lat": 52.027665,
          "locatie": "Schaarsbergen, Netherlands",
          "lon": 5.8696269999999995,
          "max": 0.00011550014944216601,
          "median": 0.00010947495320579037,
          "min": 9.995176441548828e-05,
          "ministerie": "Ministerie van Defensie",
          "project": "Cluster Schaarsbergen",
          "title": "",
          "type": "Feature"
         },
         {
          "date": "2019-08-01",
          "geometry": {
           "coordinates": [
            5.8696269999999995,
            52.027665
           ],
           "type": "Point"
          },
          "id": "4",
          "lat": 52.027665,
          "locatie": "Schaarsbergen, Netherlands",
          "lon": 5.8696269999999995,
          "max": 0.00011952886265425201,
          "median": 0.00011436967179179192,
          "min": 0.00010761876432221122,
          "ministerie": "Ministerie van Defensie",
          "project": "Cluster Schaarsbergen",
          "title": "",
          "type": "Feature"
         },
         {
          "date": "2019-09-01",
          "geometry": {
           "coordinates": [
            5.8696269999999995,
            52.027665
           ],
           "type": "Point"
          },
          "id": "4",
          "lat": 52.027665,
          "locatie": "Schaarsbergen, Netherlands",
          "lon": 5.8696269999999995,
          "max": 0.00015742443792987615,
          "median": 0.00011163319140905514,
          "min": 8.511680700570367e-05,
          "ministerie": "Ministerie van Defensie",
          "project": "Cluster Schaarsbergen",
          "title": "",
          "type": "Feature"
         },
         {
          "date": "2018-07-01",
          "geometry": {
           "coordinates": [
            4.312698,
            52.10434
           ],
           "type": "Point"
          },
          "id": "5",
          "lat": 52.10434,
          "locatie": "Frederikkazerne, The Hague, Netherlands",
          "lon": 4.312698,
          "max": 0.0001376778512374727,
          "median": 0.00012348562800115537,
          "min": 0.0001080906622519251,
          "ministerie": "Ministerie van Defensie",
          "project": "Frederikkazerne",
          "title": "",
          "type": "Feature"
         },
         {
          "date": "2018-08-01",
          "geometry": {
           "coordinates": [
            4.312698,
            52.10434
           ],
           "type": "Point"
          },
          "id": "5",
          "lat": 52.10434,
          "locatie": "Frederikkazerne, The Hague, Netherlands",
          "lon": 4.312698,
          "max": 0.00011512132186908275,
          "median": 0.00010614267958469596,
          "min": 9.448191472618991e-05,
          "ministerie": "Ministerie van Defensie",
          "project": "Frederikkazerne",
          "title": "",
          "type": "Feature"
         },
         {
          "date": "2018-09-01",
          "geometry": {
           "coordinates": [
            4.312698,
            52.10434
           ],
           "type": "Point"
          },
          "id": "5",
          "lat": 52.10434,
          "locatie": "Frederikkazerne, The Hague, Netherlands",
          "lon": 4.312698,
          "max": 0.0001366378419334069,
          "median": 0.00012704690897139378,
          "min": 0.00011527684910106473,
          "ministerie": "Ministerie van Defensie",
          "project": "Frederikkazerne",
          "title": "",
          "type": "Feature"
         },
         {
          "date": "2018-10-01",
          "geometry": {
           "coordinates": [
            4.312698,
            52.10434
           ],
           "type": "Point"
          },
          "id": "5",
          "lat": 52.10434,
          "locatie": "Frederikkazerne, The Hague, Netherlands",
          "lon": 4.312698,
          "max": 0.00014373456827937095,
          "median": 0.00012384049477986991,
          "min": 9.565523942001164e-05,
          "ministerie": "Ministerie van Defensie",
          "project": "Frederikkazerne",
          "title": "",
          "type": "Feature"
         },
         {
          "date": "2018-11-01",
          "geometry": {
           "coordinates": [
            4.312698,
            52.10434
           ],
           "type": "Point"
          },
          "id": "5",
          "lat": 52.10434,
          "locatie": "Frederikkazerne, The Hague, Netherlands",
          "lon": 4.312698,
          "max": 0.00018960379876391872,
          "median": 0.0001610438021522489,
          "min": 0.00013603170028621527,
          "ministerie": "Ministerie van Defensie",
          "project": "Frederikkazerne",
          "title": "",
          "type": "Feature"
         },
         {
          "date": "2018-12-01",
          "geometry": {
           "coordinates": [
            4.312698,
            52.10434
           ],
           "type": "Point"
          },
          "id": "5",
          "lat": 52.10434,
          "locatie": "Frederikkazerne, The Hague, Netherlands",
          "lon": 4.312698,
          "max": 0.00012125192680996574,
          "median": 9.845804743235931e-05,
          "min": 8.370876457775012e-05,
          "ministerie": "Ministerie van Defensie",
          "project": "Frederikkazerne",
          "title": "",
          "type": "Feature"
         },
         {
          "date": "2019-01-01",
          "geometry": {
           "coordinates": [
            4.312698,
            52.10434
           ],
           "type": "Point"
          },
          "id": "5",
          "lat": 52.10434,
          "locatie": "Frederikkazerne, The Hague, Netherlands",
          "lon": 4.312698,
          "max": 7.977943459991366e-05,
          "median": 5.634942138266277e-05,
          "min": 5.074668843008112e-05,
          "ministerie": "Ministerie van Defensie",
          "project": "Frederikkazerne",
          "title": "",
          "type": "Feature"
         },
         {
          "date": "2019-02-01",
          "geometry": {
           "coordinates": [
            4.312698,
            52.10434
           ],
           "type": "Point"
          },
          "id": "5",
          "lat": 52.10434,
          "locatie": "Frederikkazerne, The Hague, Netherlands",
          "lon": 4.312698,
          "max": 0.00020651046016331771,
          "median": 0.00017101794219342992,
          "min": 0.00013395438067762016,
          "ministerie": "Ministerie van Defensie",
          "project": "Frederikkazerne",
          "title": "",
          "type": "Feature"
         },
         {
          "date": "2019-03-01",
          "geometry": {
           "coordinates": [
            4.312698,
            52.10434
           ],
           "type": "Point"
          },
          "id": "5",
          "lat": 52.10434,
          "locatie": "Frederikkazerne, The Hague, Netherlands",
          "lon": 4.312698,
          "max": 0.00010916148420802935,
          "median": 0.00010299023745639324,
          "min": 9.205129026668146e-05,
          "ministerie": "Ministerie van Defensie",
          "project": "Frederikkazerne",
          "title": "",
          "type": "Feature"
         },
         {
          "date": "2019-04-01",
          "geometry": {
           "coordinates": [
            4.312698,
            52.10434
           ],
           "type": "Point"
          },
          "id": "5",
          "lat": 52.10434,
          "locatie": "Frederikkazerne, The Hague, Netherlands",
          "lon": 4.312698,
          "max": 0.0001521985257404387,
          "median": 0.00014030749016672703,
          "min": 0.00012882349255960435,
          "ministerie": "Ministerie van Defensie",
          "project": "Frederikkazerne",
          "title": "",
          "type": "Feature"
         },
         {
          "date": "2019-05-01",
          "geometry": {
           "coordinates": [
            4.312698,
            52.10434
           ],
           "type": "Point"
          },
          "id": "5",
          "lat": 52.10434,
          "locatie": "Frederikkazerne, The Hague, Netherlands",
          "lon": 4.312698,
          "max": 0.00012360624168650247,
          "median": 0.00011689179664147583,
          "min": 0.00011128997728388591,
          "ministerie": "Ministerie van Defensie",
          "project": "Frederikkazerne",
          "title": "",
          "type": "Feature"
         },
         {
          "date": "2019-06-01",
          "geometry": {
           "coordinates": [
            4.312698,
            52.10434
           ],
           "type": "Point"
          },
          "id": "5",
          "lat": 52.10434,
          "locatie": "Frederikkazerne, The Hague, Netherlands",
          "lon": 4.312698,
          "max": 0.0001346407295188525,
          "median": 0.00011937334420508705,
          "min": 0.00010835024798750426,
          "ministerie": "Ministerie van Defensie",
          "project": "Frederikkazerne",
          "title": "",
          "type": "Feature"
         },
         {
          "date": "2019-07-01",
          "geometry": {
           "coordinates": [
            4.312698,
            52.10434
           ],
           "type": "Point"
          },
          "id": "5",
          "lat": 52.10434,
          "locatie": "Frederikkazerne, The Hague, Netherlands",
          "lon": 4.312698,
          "max": 0.00012003504525637254,
          "median": 0.00011008063668946335,
          "min": 9.70240798778832e-05,
          "ministerie": "Ministerie van Defensie",
          "project": "Frederikkazerne",
          "title": "",
          "type": "Feature"
         },
         {
          "date": "2019-08-01",
          "geometry": {
           "coordinates": [
            4.312698,
            52.10434
           ],
           "type": "Point"
          },
          "id": "5",
          "lat": 52.10434,
          "locatie": "Frederikkazerne, The Hague, Netherlands",
          "lon": 4.312698,
          "max": 0.00011472076950816846,
          "median": 0.00010607591548650556,
          "min": 0.00010039713379228488,
          "ministerie": "Ministerie van Defensie",
          "project": "Frederikkazerne",
          "title": "",
          "type": "Feature"
         },
         {
          "date": "2019-09-01",
          "geometry": {
           "coordinates": [
            4.312698,
            52.10434
           ],
           "type": "Point"
          },
          "id": "5",
          "lat": 52.10434,
          "locatie": "Frederikkazerne, The Hague, Netherlands",
          "lon": 4.312698,
          "max": 0.00011636297122073817,
          "median": 8.219995795982898e-05,
          "min": 7.44555436540395e-05,
          "ministerie": "Ministerie van Defensie",
          "project": "Frederikkazerne",
          "title": "",
          "type": "Feature"
         },
         {
          "date": "2018-07-01",
          "geometry": {
           "coordinates": [
            5.3167089999999995,
            51.506796
           ],
           "type": "Point"
          },
          "id": "6",
          "lat": 51.506796,
          "locatie": "Oirschot, Netherlands",
          "lon": 5.3167089999999995,
          "max": 0.0001345925257015126,
          "median": 0.00012744863406438807,
          "min": 0.0001165676887598941,
          "ministerie": "Ministerie van Defensie",
          "project": "Genm. De Ruyter van Stevenickkazerne",
          "title": "",
          "type": "Feature"
         },
         {
          "date": "2018-08-01",
          "geometry": {
           "coordinates": [
            5.3167089999999995,
            51.506796
           ],
           "type": "Point"
          },
          "id": "6",
          "lat": 51.506796,
          "locatie": "Oirschot, Netherlands",
          "lon": 5.3167089999999995,
          "max": 0.0001117710606812036,
          "median": 0.00010543471580604091,
          "min": 0.00010015771840699017,
          "ministerie": "Ministerie van Defensie",
          "project": "Genm. De Ruyter van Stevenickkazerne",
          "title": "",
          "type": "Feature"
         },
         {
          "date": "2018-09-01",
          "geometry": {
           "coordinates": [
            5.3167089999999995,
            51.506796
           ],
           "type": "Point"
          },
          "id": "6",
          "lat": 51.506796,
          "locatie": "Oirschot, Netherlands",
          "lon": 5.3167089999999995,
          "max": 0.00014682469191029668,
          "median": 0.00013597578825210306,
          "min": 0.00012820682961154164,
          "ministerie": "Ministerie van Defensie",
          "project": "Genm. De Ruyter van Stevenickkazerne",
          "title": "",
          "type": "Feature"
         },
         {
          "date": "2018-10-01",
          "geometry": {
           "coordinates": [
            5.3167089999999995,
            51.506796
           ],
           "type": "Point"
          },
          "id": "6",
          "lat": 51.506796,
          "locatie": "Oirschot, Netherlands",
          "lon": 5.3167089999999995,
          "max": 0.0001460268348682754,
          "median": 0.00013150184246613766,
          "min": 0.00011376872134860605,
          "ministerie": "Ministerie van Defensie",
          "project": "Genm. De Ruyter van Stevenickkazerne",
          "title": "",
          "type": "Feature"
         },
         {
          "date": "2018-11-01",
          "geometry": {
           "coordinates": [
            5.3167089999999995,
            51.506796
           ],
           "type": "Point"
          },
          "id": "6",
          "lat": 51.506796,
          "locatie": "Oirschot, Netherlands",
          "lon": 5.3167089999999995,
          "max": 0.00014898306835675612,
          "median": 0.00013770404324282243,
          "min": 0.0001285620575191928,
          "ministerie": "Ministerie van Defensie",
          "project": "Genm. De Ruyter van Stevenickkazerne",
          "title": "",
          "type": "Feature"
         },
         {
          "date": "2018-12-01",
          "geometry": {
           "coordinates": [
            5.3167089999999995,
            51.506796
           ],
           "type": "Point"
          },
          "id": "6",
          "lat": 51.506796,
          "locatie": "Oirschot, Netherlands",
          "lon": 5.3167089999999995,
          "max": 0.00015115815571289926,
          "median": 0.00011920725894933612,
          "min": 0.00010706629340919185,
          "ministerie": "Ministerie van Defensie",
          "project": "Genm. De Ruyter van Stevenickkazerne",
          "title": "",
          "type": "Feature"
         },
         {
          "date": "2019-01-01",
          "geometry": {
           "coordinates": [
            5.3167089999999995,
            51.506796
           ],
           "type": "Point"
          },
          "id": "6",
          "lat": 51.506796,
          "locatie": "Oirschot, Netherlands",
          "lon": 5.3167089999999995,
          "max": 0.00013054897955846483,
          "median": 0.00010715804091887549,
          "min": 9.238503116648644e-05,
          "ministerie": "Ministerie van Defensie",
          "project": "Genm. De Ruyter van Stevenickkazerne",
          "title": "",
          "type": "Feature"
         },
         {
          "date": "2019-02-01",
          "geometry": {
           "coordinates": [
            5.3167089999999995,
            51.506796
           ],
           "type": "Point"
          },
          "id": "6",
          "lat": 51.506796,
          "locatie": "Oirschot, Netherlands",
          "lon": 5.3167089999999995,
          "max": 0.00015458033356206276,
          "median": 0.00013353673421079293,
          "min": 0.00011979482538873236,
          "ministerie": "Ministerie van Defensie",
          "project": "Genm. De Ruyter van Stevenickkazerne",
          "title": "",
          "type": "Feature"
         },
         {
          "date": "2019-03-01",
          "geometry": {
           "coordinates": [
            5.3167089999999995,
            51.506796
           ],
           "type": "Point"
          },
          "id": "6",
          "lat": 51.506796,
          "locatie": "Oirschot, Netherlands",
          "lon": 5.3167089999999995,
          "max": 0.00013489584251698576,
          "median": 0.00011802486551459879,
          "min": 0.00010063165244822932,
          "ministerie": "Ministerie van Defensie",
          "project": "Genm. De Ruyter van Stevenickkazerne",
          "title": "",
          "type": "Feature"
         },
         {
          "date": "2019-04-01",
          "geometry": {
           "coordinates": [
            5.3167089999999995,
            51.506796
           ],
           "type": "Point"
          },
          "id": "6",
          "lat": 51.506796,
          "locatie": "Oirschot, Netherlands",
          "lon": 5.3167089999999995,
          "max": 0.00015286591951735318,
          "median": 0.00014251151878852397,
          "min": 0.00012917288404423743,
          "ministerie": "Ministerie van Defensie",
          "project": "Genm. De Ruyter van Stevenickkazerne",
          "title": "",
          "type": "Feature"
         },
         {
          "date": "2019-05-01",
          "geometry": {
           "coordinates": [
            5.3167089999999995,
            51.506796
           ],
           "type": "Point"
          },
          "id": "6",
          "lat": 51.506796,
          "locatie": "Oirschot, Netherlands",
          "lon": 5.3167089999999995,
          "max": 0.00013013074298692757,
          "median": 0.00012587723170999946,
          "min": 0.00011917699634893936,
          "ministerie": "Ministerie van Defensie",
          "project": "Genm. De Ruyter van Stevenickkazerne",
          "title": "",
          "type": "Feature"
         },
         {
          "date": "2019-06-01",
          "geometry": {
           "coordinates": [
            5.3167089999999995,
            51.506796
           ],
           "type": "Point"
          },
          "id": "6",
          "lat": 51.506796,
          "locatie": "Oirschot, Netherlands",
          "lon": 5.3167089999999995,
          "max": 0.00012029830784453997,
          "median": 0.00011502827692311257,
          "min": 0.0001074884639820084,
          "ministerie": "Ministerie van Defensie",
          "project": "Genm. De Ruyter van Stevenickkazerne",
          "title": "",
          "type": "Feature"
         },
         {
          "date": "2019-07-01",
          "geometry": {
           "coordinates": [
            5.3167089999999995,
            51.506796
           ],
           "type": "Point"
          },
          "id": "6",
          "lat": 51.506796,
          "locatie": "Oirschot, Netherlands",
          "lon": 5.3167089999999995,
          "max": 0.00011923760030185804,
          "median": 0.00011005975480958873,
          "min": 0.00010145589694627715,
          "ministerie": "Ministerie van Defensie",
          "project": "Genm. De Ruyter van Stevenickkazerne",
          "title": "",
          "type": "Feature"
         },
         {
          "date": "2019-08-01",
          "geometry": {
           "coordinates": [
            5.3167089999999995,
            51.506796
           ],
           "type": "Point"
          },
          "id": "6",
          "lat": 51.506796,
          "locatie": "Oirschot, Netherlands",
          "lon": 5.3167089999999995,
          "max": 0.00011895281292226505,
          "median": 0.00011249198360262862,
          "min": 0.00010749499779194593,
          "ministerie": "Ministerie van Defensie",
          "project": "Genm. De Ruyter van Stevenickkazerne",
          "title": "",
          "type": "Feature"
         },
         {
          "date": "2019-09-01",
          "geometry": {
           "coordinates": [
            5.3167089999999995,
            51.506796
           ],
           "type": "Point"
          },
          "id": "6",
          "lat": 51.506796,
          "locatie": "Oirschot, Netherlands",
          "lon": 5.3167089999999995,
          "max": 0.00011418827749821233,
          "median": 9.082734558323442e-05,
          "min": 8.46831280796323e-05,
          "ministerie": "Ministerie van Defensie",
          "project": "Genm. De Ruyter van Stevenickkazerne",
          "title": "",
          "type": "Feature"
         },
         {
          "date": "2018-07-01",
          "geometry": {
           "coordinates": [
            5.972782,
            50.936341
           ],
           "type": "Point"
          },
          "id": "7",
          "lat": 50.936341,
          "locatie": "5 Akerstraat, Brunssum, Netherlands",
          "lon": 5.972782,
          "max": 0.00013660534945183933,
          "median": 0.00012347064751485666,
          "min": 0.00011290406203423443,
          "ministerie": "Ministerie van Defensie",
          "project": "HV Nassau Ouwerkerkkamp",
          "title": "",
          "type": "Feature"
         },
         {
          "date": "2018-08-01",
          "geometry": {
           "coordinates": [
            5.972782,
            50.936341
           ],
           "type": "Point"
          },
          "id": "7",
          "lat": 50.936341,
          "locatie": "5 Akerstraat, Brunssum, Netherlands",
          "lon": 5.972782,
          "max": 0.00012630035053007305,
          "median": 0.00011842992535093799,
          "min": 0.00011364178923291595,
          "ministerie": "Ministerie van Defensie",
          "project": "HV Nassau Ouwerkerkkamp",
          "title": "",
          "type": "Feature"
         },
         {
          "date": "2018-09-01",
          "geometry": {
           "coordinates": [
            5.972782,
            50.936341
           ],
           "type": "Point"
          },
          "id": "7",
          "lat": 50.936341,
          "locatie": "5 Akerstraat, Brunssum, Netherlands",
          "lon": 5.972782,
          "max": 0.00015477802662644535,
          "median": 0.0001432556309737265,
          "min": 0.00012956731370650232,
          "ministerie": "Ministerie van Defensie",
          "project": "HV Nassau Ouwerkerkkamp",
          "title": "",
          "type": "Feature"
         },
         {
          "date": "2018-10-01",
          "geometry": {
           "coordinates": [
            5.972782,
            50.936341
           ],
           "type": "Point"
          },
          "id": "7",
          "lat": 50.936341,
          "locatie": "5 Akerstraat, Brunssum, Netherlands",
          "lon": 5.972782,
          "max": 0.00015728765285427125,
          "median": 0.00014009392899719302,
          "min": 0.0001280516063746353,
          "ministerie": "Ministerie van Defensie",
          "project": "HV Nassau Ouwerkerkkamp",
          "title": "",
          "type": "Feature"
         },
         {
          "date": "2018-11-01",
          "geometry": {
           "coordinates": [
            5.972782,
            50.936341
           ],
           "type": "Point"
          },
          "id": "7",
          "lat": 50.936341,
          "locatie": "5 Akerstraat, Brunssum, Netherlands",
          "lon": 5.972782,
          "max": 0.00014676264799120108,
          "median": 0.0001392204638809354,
          "min": 0.0001248975604539737,
          "ministerie": "Ministerie van Defensie",
          "project": "HV Nassau Ouwerkerkkamp",
          "title": "",
          "type": "Feature"
         },
         {
          "date": "2018-12-01",
          "geometry": {
           "coordinates": [
            5.972782,
            50.936341
           ],
           "type": "Point"
          },
          "id": "7",
          "lat": 50.936341,
          "locatie": "5 Akerstraat, Brunssum, Netherlands",
          "lon": 5.972782,
          "max": 0.00012325012420026513,
          "median": 0.0001029475285878905,
          "min": 9.063757913770984e-05,
          "ministerie": "Ministerie van Defensie",
          "project": "HV Nassau Ouwerkerkkamp",
          "title": "",
          "type": "Feature"
         },
         {
          "date": "2019-01-01",
          "geometry": {
           "coordinates": [
            5.972782,
            50.936341
           ],
           "type": "Point"
          },
          "id": "7",
          "lat": 50.936341,
          "locatie": "5 Akerstraat, Brunssum, Netherlands",
          "lon": 5.972782,
          "max": 0.0001477541954955086,
          "median": 0.0001261393003748606,
          "min": 0.00010972921518259682,
          "ministerie": "Ministerie van Defensie",
          "project": "HV Nassau Ouwerkerkkamp",
          "title": "",
          "type": "Feature"
         },
         {
          "date": "2019-02-01",
          "geometry": {
           "coordinates": [
            5.972782,
            50.936341
           ],
           "type": "Point"
          },
          "id": "7",
          "lat": 50.936341,
          "locatie": "5 Akerstraat, Brunssum, Netherlands",
          "lon": 5.972782,
          "max": 0.0001454961214679243,
          "median": 0.00013555684232402919,
          "min": 0.00011336229233377968,
          "ministerie": "Ministerie van Defensie",
          "project": "HV Nassau Ouwerkerkkamp",
          "title": "",
          "type": "Feature"
         },
         {
          "date": "2019-03-01",
          "geometry": {
           "coordinates": [
            5.972782,
            50.936341
           ],
           "type": "Point"
          },
          "id": "7",
          "lat": 50.936341,
          "locatie": "5 Akerstraat, Brunssum, Netherlands",
          "lon": 5.972782,
          "max": 0.00012009550754277443,
          "median": 0.00010910270793829113,
          "min": 0.00010394035780336708,
          "ministerie": "Ministerie van Defensie",
          "project": "HV Nassau Ouwerkerkkamp",
          "title": "",
          "type": "Feature"
         },
         {
          "date": "2019-04-01",
          "geometry": {
           "coordinates": [
            5.972782,
            50.936341
           ],
           "type": "Point"
          },
          "id": "7",
          "lat": 50.936341,
          "locatie": "5 Akerstraat, Brunssum, Netherlands",
          "lon": 5.972782,
          "max": 0.00015544830239377916,
          "median": 0.00013940360496355572,
          "min": 0.00012744564446620643,
          "ministerie": "Ministerie van Defensie",
          "project": "HV Nassau Ouwerkerkkamp",
          "title": "",
          "type": "Feature"
         },
         {
          "date": "2019-05-01",
          "geometry": {
           "coordinates": [
            5.972782,
            50.936341
           ],
           "type": "Point"
          },
          "id": "7",
          "lat": 50.936341,
          "locatie": "5 Akerstraat, Brunssum, Netherlands",
          "lon": 5.972782,
          "max": 0.00012787829715820765,
          "median": 0.00011773965502152532,
          "min": 0.00011019009224266725,
          "ministerie": "Ministerie van Defensie",
          "project": "HV Nassau Ouwerkerkkamp",
          "title": "",
          "type": "Feature"
         },
         {
          "date": "2019-06-01",
          "geometry": {
           "coordinates": [
            5.972782,
            50.936341
           ],
           "type": "Point"
          },
          "id": "7",
          "lat": 50.936341,
          "locatie": "5 Akerstraat, Brunssum, Netherlands",
          "lon": 5.972782,
          "max": 0.00010932640518899538,
          "median": 0.00010469323532981191,
          "min": 9.673846398612245e-05,
          "ministerie": "Ministerie van Defensie",
          "project": "HV Nassau Ouwerkerkkamp",
          "title": "",
          "type": "Feature"
         },
         {
          "date": "2019-07-01",
          "geometry": {
           "coordinates": [
            5.972782,
            50.936341
           ],
           "type": "Point"
          },
          "id": "7",
          "lat": 50.936341,
          "locatie": "5 Akerstraat, Brunssum, Netherlands",
          "lon": 5.972782,
          "max": 0.0001165821856503413,
          "median": 0.0001096697193269898,
          "min": 0.00010409340886163068,
          "ministerie": "Ministerie van Defensie",
          "project": "HV Nassau Ouwerkerkkamp",
          "title": "",
          "type": "Feature"
         },
         {
          "date": "2019-08-01",
          "geometry": {
           "coordinates": [
            5.972782,
            50.936341
           ],
           "type": "Point"
          },
          "id": "7",
          "lat": 50.936341,
          "locatie": "5 Akerstraat, Brunssum, Netherlands",
          "lon": 5.972782,
          "max": 0.00010599975939840078,
          "median": 9.88479239367449e-05,
          "min": 9.241262667539395e-05,
          "ministerie": "Ministerie van Defensie",
          "project": "HV Nassau Ouwerkerkkamp",
          "title": "",
          "type": "Feature"
         },
         {
          "date": "2019-09-01",
          "geometry": {
           "coordinates": [
            5.972782,
            50.936341
           ],
           "type": "Point"
          },
          "id": "7",
          "lat": 50.936341,
          "locatie": "5 Akerstraat, Brunssum, Netherlands",
          "lon": 5.972782,
          "max": 0.00012513093147796997,
          "median": 0.00011017887663911097,
          "min": 0.0001057336826882789,
          "ministerie": "Ministerie van Defensie",
          "project": "HV Nassau Ouwerkerkkamp",
          "title": "",
          "type": "Feature"
         },
         {
          "date": "2018-07-01",
          "geometry": {
           "coordinates": [
            6.242758,
            52.779121999999994
           ],
           "type": "Point"
          },
          "id": "8",
          "lat": 52.779121999999994,
          "locatie": "Havelte, Netherlands",
          "lon": 6.242758,
          "max": 0.00010329026554245502,
          "median": 9.995919734509217e-05,
          "min": 9.422385492572014e-05,
          "ministerie": "Ministerie van Defensie",
          "project": "Johannes Postkazenrne",
          "title": "",
          "type": "Feature"
         },
         {
          "date": "2018-08-01",
          "geometry": {
           "coordinates": [
            6.242758,
            52.779121999999994
           ],
           "type": "Point"
          },
          "id": "8",
          "lat": 52.779121999999994,
          "locatie": "Havelte, Netherlands",
          "lon": 6.242758,
          "max": 0.00010476147340705311,
          "median": 9.817963291425258e-05,
          "min": 9.135547939079751e-05,
          "ministerie": "Ministerie van Defensie",
          "project": "Johannes Postkazenrne",
          "title": "",
          "type": "Feature"
         },
         {
          "date": "2018-09-01",
          "geometry": {
           "coordinates": [
            6.242758,
            52.779121999999994
           ],
           "type": "Point"
          },
          "id": "8",
          "lat": 52.779121999999994,
          "locatie": "Havelte, Netherlands",
          "lon": 6.242758,
          "max": 0.00012834204083167453,
          "median": 0.00011526393063832074,
          "min": 0.00010218819443252869,
          "ministerie": "Ministerie van Defensie",
          "project": "Johannes Postkazenrne",
          "title": "",
          "type": "Feature"
         },
         {
          "date": "2018-10-01",
          "geometry": {
           "coordinates": [
            6.242758,
            52.779121999999994
           ],
           "type": "Point"
          },
          "id": "8",
          "lat": 52.779121999999994,
          "locatie": "Havelte, Netherlands",
          "lon": 6.242758,
          "max": 9.980367758544162e-05,
          "median": 9.143868733667937e-05,
          "min": 8.273810817627236e-05,
          "ministerie": "Ministerie van Defensie",
          "project": "Johannes Postkazenrne",
          "title": "",
          "type": "Feature"
         },
         {
          "date": "2018-11-01",
          "geometry": {
           "coordinates": [
            6.242758,
            52.779121999999994
           ],
           "type": "Point"
          },
          "id": "8",
          "lat": 52.779121999999994,
          "locatie": "Havelte, Netherlands",
          "lon": 6.242758,
          "max": 0.00012501650780905038,
          "median": 0.00011651027437395106,
          "min": 0.0001022337019094266,
          "ministerie": "Ministerie van Defensie",
          "project": "Johannes Postkazenrne",
          "title": "",
          "type": "Feature"
         },
         {
          "date": "2018-12-01",
          "geometry": {
           "coordinates": [
            6.242758,
            52.779121999999994
           ],
           "type": "Point"
          },
          "id": "8",
          "lat": 52.779121999999994,
          "locatie": "Havelte, Netherlands",
          "lon": 6.242758,
          "max": 8.469239401165396e-05,
          "median": 7.562607215794104e-05,
          "min": 6.840145215392113e-05,
          "ministerie": "Ministerie van Defensie",
          "project": "Johannes Postkazenrne",
          "title": "",
          "type": "Feature"
         },
         {
          "date": "2019-01-01",
          "geometry": {
           "coordinates": [
            6.242758,
            52.779121999999994
           ],
           "type": "Point"
          },
          "id": "8",
          "lat": 52.779121999999994,
          "locatie": "Havelte, Netherlands",
          "lon": 6.242758,
          "max": 8.142136419489137e-05,
          "median": 6.770262799614755e-05,
          "min": 5.2850380598101765e-05,
          "ministerie": "Ministerie van Defensie",
          "project": "Johannes Postkazenrne",
          "title": "",
          "type": "Feature"
         },
         {
          "date": "2019-02-01",
          "geometry": {
           "coordinates": [
            6.242758,
            52.779121999999994
           ],
           "type": "Point"
          },
          "id": "8",
          "lat": 52.779121999999994,
          "locatie": "Havelte, Netherlands",
          "lon": 6.242758,
          "max": 0.000142896271427162,
          "median": 0.00013312024627986673,
          "min": 0.00011137176625197753,
          "ministerie": "Ministerie van Defensie",
          "project": "Johannes Postkazenrne",
          "title": "",
          "type": "Feature"
         },
         {
          "date": "2019-03-01",
          "geometry": {
           "coordinates": [
            6.242758,
            52.779121999999994
           ],
           "type": "Point"
          },
          "id": "8",
          "lat": 52.779121999999994,
          "locatie": "Havelte, Netherlands",
          "lon": 6.242758,
          "max": 9.075701382244006e-05,
          "median": 7.653369365102253e-05,
          "min": 7.207153248600662e-05,
          "ministerie": "Ministerie van Defensie",
          "project": "Johannes Postkazenrne",
          "title": "",
          "type": "Feature"
         },
         {
          "date": "2019-04-01",
          "geometry": {
           "coordinates": [
            6.242758,
            52.779121999999994
           ],
           "type": "Point"
          },
          "id": "8",
          "lat": 52.779121999999994,
          "locatie": "Havelte, Netherlands",
          "lon": 6.242758,
          "max": 0.00011072901543229818,
          "median": 0.0001023227086989209,
          "min": 9.699218299552559e-05,
          "ministerie": "Ministerie van Defensie",
          "project": "Johannes Postkazenrne",
          "title": "",
          "type": "Feature"
         },
         {
          "date": "2019-05-01",
          "geometry": {
           "coordinates": [
            6.242758,
            52.779121999999994
           ],
           "type": "Point"
          },
          "id": "8",
          "lat": 52.779121999999994,
          "locatie": "Havelte, Netherlands",
          "lon": 6.242758,
          "max": 9.920511770236276e-05,
          "median": 9.609794022160807e-05,
          "min": 9.24953898619718e-05,
          "ministerie": "Ministerie van Defensie",
          "project": "Johannes Postkazenrne",
          "title": "",
          "type": "Feature"
         },
         {
          "date": "2019-06-01",
          "geometry": {
           "coordinates": [
            6.242758,
            52.779121999999994
           ],
           "type": "Point"
          },
          "id": "8",
          "lat": 52.779121999999994,
          "locatie": "Havelte, Netherlands",
          "lon": 6.242758,
          "max": 0.00010189885506406426,
          "median": 9.725003474159166e-05,
          "min": 9.245084134833804e-05,
          "ministerie": "Ministerie van Defensie",
          "project": "Johannes Postkazenrne",
          "title": "",
          "type": "Feature"
         },
         {
          "date": "2019-07-01",
          "geometry": {
           "coordinates": [
            6.242758,
            52.779121999999994
           ],
           "type": "Point"
          },
          "id": "8",
          "lat": 52.779121999999994,
          "locatie": "Havelte, Netherlands",
          "lon": 6.242758,
          "max": 9.463640527468747e-05,
          "median": 8.906563388367197e-05,
          "min": 8.492453765041882e-05,
          "ministerie": "Ministerie van Defensie",
          "project": "Johannes Postkazenrne",
          "title": "",
          "type": "Feature"
         },
         {
          "date": "2019-08-01",
          "geometry": {
           "coordinates": [
            6.242758,
            52.779121999999994
           ],
           "type": "Point"
          },
          "id": "8",
          "lat": 52.779121999999994,
          "locatie": "Havelte, Netherlands",
          "lon": 6.242758,
          "max": 0.00010544770112503754,
          "median": 0.00010010717024911023,
          "min": 9.706954369903542e-05,
          "ministerie": "Ministerie van Defensie",
          "project": "Johannes Postkazenrne",
          "title": "",
          "type": "Feature"
         },
         {
          "date": "2019-09-01",
          "geometry": {
           "coordinates": [
            6.242758,
            52.779121999999994
           ],
           "type": "Point"
          },
          "id": "8",
          "lat": 52.779121999999994,
          "locatie": "Havelte, Netherlands",
          "lon": 6.242758,
          "max": 9.337587107438594e-05,
          "median": 7.43424316169694e-05,
          "min": 5.792123227733404e-05,
          "ministerie": "Ministerie van Defensie",
          "project": "Johannes Postkazenrne",
          "title": "",
          "type": "Feature"
         },
         {
          "date": "2018-07-01",
          "geometry": {
           "coordinates": [
            4.7629779999999995,
            53.001202
           ],
           "type": "Point"
          },
          "id": "9",
          "lat": 53.001202,
          "locatie": "Joost Dourleinkazerne, Den Hoorn, Netherlands",
          "lon": 4.7629779999999995,
          "max": 0.00010205414010141576,
          "median": 9.481279138892382e-05,
          "min": 8.85309959597681e-05,
          "ministerie": "Ministerie van Defensie",
          "project": "Joost Dourleinkazerne",
          "title": "",
          "type": "Feature"
         },
         {
          "date": "2018-08-01",
          "geometry": {
           "coordinates": [
            4.7629779999999995,
            53.001202
           ],
           "type": "Point"
          },
          "id": "9",
          "lat": 53.001202,
          "locatie": "Joost Dourleinkazerne, Den Hoorn, Netherlands",
          "lon": 4.7629779999999995,
          "max": 8.772203282369585e-05,
          "median": 8.40765086782313e-05,
          "min": 8.022900874493644e-05,
          "ministerie": "Ministerie van Defensie",
          "project": "Joost Dourleinkazerne",
          "title": "",
          "type": "Feature"
         },
         {
          "date": "2018-09-01",
          "geometry": {
           "coordinates": [
            4.7629779999999995,
            53.001202
           ],
           "type": "Point"
          },
          "id": "9",
          "lat": 53.001202,
          "locatie": "Joost Dourleinkazerne, Den Hoorn, Netherlands",
          "lon": 4.7629779999999995,
          "max": 0.000104169511320394,
          "median": 9.328410600916256e-05,
          "min": 8.436208435859963e-05,
          "ministerie": "Ministerie van Defensie",
          "project": "Joost Dourleinkazerne",
          "title": "",
          "type": "Feature"
         },
         {
          "date": "2018-10-01",
          "geometry": {
           "coordinates": [
            4.7629779999999995,
            53.001202
           ],
           "type": "Point"
          },
          "id": "9",
          "lat": 53.001202,
          "locatie": "Joost Dourleinkazerne, Den Hoorn, Netherlands",
          "lon": 4.7629779999999995,
          "max": 8.839328297922464e-05,
          "median": 7.872567174991148e-05,
          "min": 7.057980684346615e-05,
          "ministerie": "Ministerie van Defensie",
          "project": "Joost Dourleinkazerne",
          "title": "",
          "type": "Feature"
         },
         {
          "date": "2018-11-01",
          "geometry": {
           "coordinates": [
            4.7629779999999995,
            53.001202
           ],
           "type": "Point"
          },
          "id": "9",
          "lat": 53.001202,
          "locatie": "Joost Dourleinkazerne, Den Hoorn, Netherlands",
          "lon": 4.7629779999999995,
          "max": 0.0001352024001459212,
          "median": 0.00011136881270441738,
          "min": 9.390095281709046e-05,
          "ministerie": "Ministerie van Defensie",
          "project": "Joost Dourleinkazerne",
          "title": "",
          "type": "Feature"
         },
         {
          "date": "2018-12-01",
          "geometry": {
           "coordinates": [
            4.7629779999999995,
            53.001202
           ],
           "type": "Point"
          },
          "id": "9",
          "lat": 53.001202,
          "locatie": "Joost Dourleinkazerne, Den Hoorn, Netherlands",
          "lon": 4.7629779999999995,
          "max": 8.268456381763125e-05,
          "median": 6.541040259568396e-05,
          "min": 5.905972284381278e-05,
          "ministerie": "Ministerie van Defensie",
          "project": "Joost Dourleinkazerne",
          "title": "",
          "type": "Feature"
         },
         {
          "date": "2019-01-01",
          "geometry": {
           "coordinates": [
            4.7629779999999995,
            53.001202
           ],
           "type": "Point"
          },
          "id": "9",
          "lat": 53.001202,
          "locatie": "Joost Dourleinkazerne, Den Hoorn, Netherlands",
          "lon": 4.7629779999999995,
          "max": 4.928521593683399e-05,
          "median": 4.044653136069302e-05,
          "min": 3.4650885936571285e-05,
          "ministerie": "Ministerie van Defensie",
          "project": "Joost Dourleinkazerne",
          "title": "",
          "type": "Feature"
         },
         {
          "date": "2019-02-01",
          "geometry": {
           "coordinates": [
            4.7629779999999995,
            53.001202
           ],
           "type": "Point"
          },
          "id": "9",
          "lat": 53.001202,
          "locatie": "Joost Dourleinkazerne, Den Hoorn, Netherlands",
          "lon": 4.7629779999999995,
          "max": 0.00013803050679922024,
          "median": 0.00013183826051700576,
          "min": 0.00011919157468495322,
          "ministerie": "Ministerie van Defensie",
          "project": "Joost Dourleinkazerne",
          "title": "",
          "type": "Feature"
         },
         {
          "date": "2019-03-01",
          "geometry": {
           "coordinates": [
            4.7629779999999995,
            53.001202
           ],
           "type": "Point"
          },
          "id": "9",
          "lat": 53.001202,
          "locatie": "Joost Dourleinkazerne, Den Hoorn, Netherlands",
          "lon": 4.7629779999999995,
          "max": 8.215739989009694e-05,
          "median": 7.59013564675115e-05,
          "min": 6.779431267072081e-05,
          "ministerie": "Ministerie van Defensie",
          "project": "Joost Dourleinkazerne",
          "title": "",
          "type": "Feature"
         },
         {
          "date": "2019-04-01",
          "geometry": {
           "coordinates": [
            4.7629779999999995,
            53.001202
           ],
           "type": "Point"
          },
          "id": "9",
          "lat": 53.001202,
          "locatie": "Joost Dourleinkazerne, Den Hoorn, Netherlands",
          "lon": 4.7629779999999995,
          "max": 0.00010030683188233525,
          "median": 9.749393450041338e-05,
          "min": 8.957066893344745e-05,
          "ministerie": "Ministerie van Defensie",
          "project": "Joost Dourleinkazerne",
          "title": "",
          "type": "Feature"
         },
         {
          "date": "2019-05-01",
          "geometry": {
           "coordinates": [
            4.7629779999999995,
            53.001202
           ],
           "type": "Point"
          },
          "id": "9",
          "lat": 53.001202,
          "locatie": "Joost Dourleinkazerne, Den Hoorn, Netherlands",
          "lon": 4.7629779999999995,
          "max": 0.00010218510826953357,
          "median": 9.570331167196855e-05,
          "min": 9.064156305823044e-05,
          "ministerie": "Ministerie van Defensie",
          "project": "Joost Dourleinkazerne",
          "title": "",
          "type": "Feature"
         },
         {
          "date": "2019-06-01",
          "geometry": {
           "coordinates": [
            4.7629779999999995,
            53.001202
           ],
           "type": "Point"
          },
          "id": "9",
          "lat": 53.001202,
          "locatie": "Joost Dourleinkazerne, Den Hoorn, Netherlands",
          "lon": 4.7629779999999995,
          "max": 0.00011410719525883906,
          "median": 0.00010609305493830619,
          "min": 0.00010113712251947282,
          "ministerie": "Ministerie van Defensie",
          "project": "Joost Dourleinkazerne",
          "title": "",
          "type": "Feature"
         },
         {
          "date": "2019-07-01",
          "geometry": {
           "coordinates": [
            4.7629779999999995,
            53.001202
           ],
           "type": "Point"
          },
          "id": "9",
          "lat": 53.001202,
          "locatie": "Joost Dourleinkazerne, Den Hoorn, Netherlands",
          "lon": 4.7629779999999995,
          "max": 9.779848187463358e-05,
          "median": 9.287492132662627e-05,
          "min": 8.678993617650121e-05,
          "ministerie": "Ministerie van Defensie",
          "project": "Joost Dourleinkazerne",
          "title": "",
          "type": "Feature"
         },
         {
          "date": "2019-08-01",
          "geometry": {
           "coordinates": [
            4.7629779999999995,
            53.001202
           ],
           "type": "Point"
          },
          "id": "9",
          "lat": 53.001202,
          "locatie": "Joost Dourleinkazerne, Den Hoorn, Netherlands",
          "lon": 4.7629779999999995,
          "max": 9.769995085662231e-05,
          "median": 9.067583289844997e-05,
          "min": 8.661122410558164e-05,
          "ministerie": "Ministerie van Defensie",
          "project": "Joost Dourleinkazerne",
          "title": "",
          "type": "Feature"
         },
         {
          "date": "2019-09-01",
          "geometry": {
           "coordinates": [
            4.7629779999999995,
            53.001202
           ],
           "type": "Point"
          },
          "id": "9",
          "lat": 53.001202,
          "locatie": "Joost Dourleinkazerne, Den Hoorn, Netherlands",
          "lon": 4.7629779999999995,
          "max": 8.123907537083142e-05,
          "median": 7.56474204710218e-05,
          "min": 6.803909845833619e-05,
          "ministerie": "Ministerie van Defensie",
          "project": "Joost Dourleinkazerne",
          "title": "",
          "type": "Feature"
         },
         {
          "date": "2018-07-01",
          "geometry": {
           "coordinates": [
            5.927752,
            52.205651
           ],
           "type": "Point"
          },
          "id": "10",
          "lat": 52.205651,
          "locatie": "Frankenlaan, Apeldoorn, Netherlands",
          "lon": 5.927752,
          "max": 0.00011282659154364044,
          "median": 0.00010879378542652624,
          "min": 0.00010472605831552263,
          "ministerie": "Ministerie van Defensie",
          "project": "Koning Willem III Kazerne",
          "title": "",
          "type": "Feature"
         },
         {
          "date": "2018-08-01",
          "geometry": {
           "coordinates": [
            5.927752,
            52.205651
           ],
           "type": "Point"
          },
          "id": "10",
          "lat": 52.205651,
          "locatie": "Frankenlaan, Apeldoorn, Netherlands",
          "lon": 5.927752,
          "max": 0.0001173071100210571,
          "median": 0.00010652782181649198,
          "min": 0.00010095987569939307,
          "ministerie": "Ministerie van Defensie",
          "project": "Koning Willem III Kazerne",
          "title": "",
          "type": "Feature"
         },
         {
          "date": "2018-09-01",
          "geometry": {
           "coordinates": [
            5.927752,
            52.205651
           ],
           "type": "Point"
          },
          "id": "10",
          "lat": 52.205651,
          "locatie": "Frankenlaan, Apeldoorn, Netherlands",
          "lon": 5.927752,
          "max": 0.000144402048695082,
          "median": 0.00012916584176635932,
          "min": 0.00011741630937214704,
          "ministerie": "Ministerie van Defensie",
          "project": "Koning Willem III Kazerne",
          "title": "",
          "type": "Feature"
         },
         {
          "date": "2018-10-01",
          "geometry": {
           "coordinates": [
            5.927752,
            52.205651
           ],
           "type": "Point"
          },
          "id": "10",
          "lat": 52.205651,
          "locatie": "Frankenlaan, Apeldoorn, Netherlands",
          "lon": 5.927752,
          "max": 0.00012596000555820808,
          "median": 0.00011501393653152013,
          "min": 0.00010494918024051003,
          "ministerie": "Ministerie van Defensie",
          "project": "Koning Willem III Kazerne",
          "title": "",
          "type": "Feature"
         },
         {
          "date": "2018-11-01",
          "geometry": {
           "coordinates": [
            5.927752,
            52.205651
           ],
           "type": "Point"
          },
          "id": "10",
          "lat": 52.205651,
          "locatie": "Frankenlaan, Apeldoorn, Netherlands",
          "lon": 5.927752,
          "max": 0.00016003889304115517,
          "median": 0.00014830270083621144,
          "min": 0.00012567090743687004,
          "ministerie": "Ministerie van Defensie",
          "project": "Koning Willem III Kazerne",
          "title": "",
          "type": "Feature"
         },
         {
          "date": "2018-12-01",
          "geometry": {
           "coordinates": [
            5.927752,
            52.205651
           ],
           "type": "Point"
          },
          "id": "10",
          "lat": 52.205651,
          "locatie": "Frankenlaan, Apeldoorn, Netherlands",
          "lon": 5.927752,
          "max": 0.00011612534581217915,
          "median": 0.00010860118157279071,
          "min": 9.002537164733212e-05,
          "ministerie": "Ministerie van Defensie",
          "project": "Koning Willem III Kazerne",
          "title": "",
          "type": "Feature"
         },
         {
          "date": "2019-01-01",
          "geometry": {
           "coordinates": [
            5.927752,
            52.205651
           ],
           "type": "Point"
          },
          "id": "10",
          "lat": 52.205651,
          "locatie": "Frankenlaan, Apeldoorn, Netherlands",
          "lon": 5.927752,
          "max": 0.00012436058197963024,
          "median": 0.00010383458836529363,
          "min": 7.871414416643399e-05,
          "ministerie": "Ministerie van Defensie",
          "project": "Koning Willem III Kazerne",
          "title": "",
          "type": "Feature"
         },
         {
          "date": "2019-02-01",
          "geometry": {
           "coordinates": [
            5.927752,
            52.205651
           ],
           "type": "Point"
          },
          "id": "10",
          "lat": 52.205651,
          "locatie": "Frankenlaan, Apeldoorn, Netherlands",
          "lon": 5.927752,
          "max": 0.00017839227803051472,
          "median": 0.00015684596534168332,
          "min": 0.00013515482947789456,
          "ministerie": "Ministerie van Defensie",
          "project": "Koning Willem III Kazerne",
          "title": "",
          "type": "Feature"
         },
         {
          "date": "2019-03-01",
          "geometry": {
           "coordinates": [
            5.927752,
            52.205651
           ],
           "type": "Point"
          },
          "id": "10",
          "lat": 52.205651,
          "locatie": "Frankenlaan, Apeldoorn, Netherlands",
          "lon": 5.927752,
          "max": 0.00011175877443747595,
          "median": 0.0001045850858095939,
          "min": 9.423735900782049e-05,
          "ministerie": "Ministerie van Defensie",
          "project": "Koning Willem III Kazerne",
          "title": "",
          "type": "Feature"
         },
         {
          "date": "2019-04-01",
          "geometry": {
           "coordinates": [
            5.927752,
            52.205651
           ],
           "type": "Point"
          },
          "id": "10",
          "lat": 52.205651,
          "locatie": "Frankenlaan, Apeldoorn, Netherlands",
          "lon": 5.927752,
          "max": 0.00011248118244111538,
          "median": 0.00010368668024453118,
          "min": 9.994953146918119e-05,
          "ministerie": "Ministerie van Defensie",
          "project": "Koning Willem III Kazerne",
          "title": "",
          "type": "Feature"
         },
         {
          "date": "2019-05-01",
          "geometry": {
           "coordinates": [
            5.927752,
            52.205651
           ],
           "type": "Point"
          },
          "id": "10",
          "lat": 52.205651,
          "locatie": "Frankenlaan, Apeldoorn, Netherlands",
          "lon": 5.927752,
          "max": 0.00011524877118063159,
          "median": 0.00010936971442117703,
          "min": 0.00010041362512290273,
          "ministerie": "Ministerie van Defensie",
          "project": "Koning Willem III Kazerne",
          "title": "",
          "type": "Feature"
         },
         {
          "date": "2019-06-01",
          "geometry": {
           "coordinates": [
            5.927752,
            52.205651
           ],
           "type": "Point"
          },
          "id": "10",
          "lat": 52.205651,
          "locatie": "Frankenlaan, Apeldoorn, Netherlands",
          "lon": 5.927752,
          "max": 0.0001130226764034154,
          "median": 0.00010750336953916234,
          "min": 9.783997666090727e-05,
          "ministerie": "Ministerie van Defensie",
          "project": "Koning Willem III Kazerne",
          "title": "",
          "type": "Feature"
         },
         {
          "date": "2019-07-01",
          "geometry": {
           "coordinates": [
            5.927752,
            52.205651
           ],
           "type": "Point"
          },
          "id": "10",
          "lat": 52.205651,
          "locatie": "Frankenlaan, Apeldoorn, Netherlands",
          "lon": 5.927752,
          "max": 0.00010652868513716385,
          "median": 0.00010052994184661657,
          "min": 8.908159879305915e-05,
          "ministerie": "Ministerie van Defensie",
          "project": "Koning Willem III Kazerne",
          "title": "",
          "type": "Feature"
         },
         {
          "date": "2019-08-01",
          "geometry": {
           "coordinates": [
            5.927752,
            52.205651
           ],
           "type": "Point"
          },
          "id": "10",
          "lat": 52.205651,
          "locatie": "Frankenlaan, Apeldoorn, Netherlands",
          "lon": 5.927752,
          "max": 0.00011955772554069261,
          "median": 0.00011155084939673543,
          "min": 0.00010395927529316396,
          "ministerie": "Ministerie van Defensie",
          "project": "Koning Willem III Kazerne",
          "title": "",
          "type": "Feature"
         },
         {
          "date": "2019-09-01",
          "geometry": {
           "coordinates": [
            5.927752,
            52.205651
           ],
           "type": "Point"
          },
          "id": "10",
          "lat": 52.205651,
          "locatie": "Frankenlaan, Apeldoorn, Netherlands",
          "lon": 5.927752,
          "max": 0.00012373314530123025,
          "median": 0.00010381524043623358,
          "min": 7.895506132626906e-05,
          "ministerie": "Ministerie van Defensie",
          "project": "Koning Willem III Kazerne",
          "title": "",
          "type": "Feature"
         },
         {
          "date": "2018-07-01",
          "geometry": {
           "coordinates": [
            5.912083999999999,
            52.392733
           ],
           "type": "Point"
          },
          "id": "11",
          "lat": 52.392733,
          "locatie": "Legerplaats bij Oldebroek, 't Harde, Netherlands",
          "lon": 5.912083999999999,
          "max": 0.00011192320380359888,
          "median": 0.00010491484209783632,
          "min": 9.959695561721494e-05,
          "ministerie": "Ministerie van Defensie",
          "project": "Legerplaats bij Olderboek",
          "title": "",
          "type": "Feature"
         },
         {
          "date": "2018-08-01",
          "geometry": {
           "coordinates": [
            5.912083999999999,
            52.392733
           ],
           "type": "Point"
          },
          "id": "11",
          "lat": 52.392733,
          "locatie": "Legerplaats bij Oldebroek, 't Harde, Netherlands",
          "lon": 5.912083999999999,
          "max": 0.00010973471623361222,
          "median": 0.00010394377117756327,
          "min": 9.957462316378951e-05,
          "ministerie": "Ministerie van Defensie",
          "project": "Legerplaats bij Olderboek",
          "title": "",
          "type": "Feature"
         },
         {
          "date": "2018-09-01",
          "geometry": {
           "coordinates": [
            5.912083999999999,
            52.392733
           ],
           "type": "Point"
          },
          "id": "11",
          "lat": 52.392733,
          "locatie": "Legerplaats bij Oldebroek, 't Harde, Netherlands",
          "lon": 5.912083999999999,
          "max": 0.00014240502603729988,
          "median": 0.0001267538646061439,
          "min": 0.00011529066038475816,
          "ministerie": "Ministerie van Defensie",
          "project": "Legerplaats bij Olderboek",
          "title": "",
          "type": "Feature"
         },
         {
          "date": "2018-10-01",
          "geometry": {
           "coordinates": [
            5.912083999999999,
            52.392733
           ],
           "type": "Point"
          },
          "id": "11",
          "lat": 52.392733,
          "locatie": "Legerplaats bij Oldebroek, 't Harde, Netherlands",
          "lon": 5.912083999999999,
          "max": 0.00011707690299604925,
          "median": 0.00010410644608782604,
          "min": 9.801493433769792e-05,
          "ministerie": "Ministerie van Defensie",
          "project": "Legerplaats bij Olderboek",
          "title": "",
          "type": "Feature"
         },
         {
          "date": "2018-11-01",
          "geometry": {
           "coordinates": [
            5.912083999999999,
            52.392733
           ],
           "type": "Point"
          },
          "id": "11",
          "lat": 52.392733,
          "locatie": "Legerplaats bij Oldebroek, 't Harde, Netherlands",
          "lon": 5.912083999999999,
          "max": 0.00015086186261176226,
          "median": 0.00013251000200398266,
          "min": 0.00012455879186745733,
          "ministerie": "Ministerie van Defensie",
          "project": "Legerplaats bij Olderboek",
          "title": "",
          "type": "Feature"
         },
         {
          "date": "2018-12-01",
          "geometry": {
           "coordinates": [
            5.912083999999999,
            52.392733
           ],
           "type": "Point"
          },
          "id": "11",
          "lat": 52.392733,
          "locatie": "Legerplaats bij Oldebroek, 't Harde, Netherlands",
          "lon": 5.912083999999999,
          "max": 0.0001037789713046262,
          "median": 9.487784154757447e-05,
          "min": 7.306288898689672e-05,
          "ministerie": "Ministerie van Defensie",
          "project": "Legerplaats bij Olderboek",
          "title": "",
          "type": "Feature"
         },
         {
          "date": "2019-01-01",
          "geometry": {
           "coordinates": [
            5.912083999999999,
            52.392733
           ],
           "type": "Point"
          },
          "id": "11",
          "lat": 52.392733,
          "locatie": "Legerplaats bij Oldebroek, 't Harde, Netherlands",
          "lon": 5.912083999999999,
          "max": 0.00010731284312655127,
          "median": 8.24519571961011e-05,
          "min": 7.29131332363582e-05,
          "ministerie": "Ministerie van Defensie",
          "project": "Legerplaats bij Olderboek",
          "title": "",
          "type": "Feature"
         },
         {
          "date": "2019-02-01",
          "geometry": {
           "coordinates": [
            5.912083999999999,
            52.392733
           ],
           "type": "Point"
          },
          "id": "11",
          "lat": 52.392733,
          "locatie": "Legerplaats bij Oldebroek, 't Harde, Netherlands",
          "lon": 5.912083999999999,
          "max": 0.0001548749161565359,
          "median": 0.00014348511155754217,
          "min": 0.00013515482947789456,
          "ministerie": "Ministerie van Defensie",
          "project": "Legerplaats bij Olderboek",
          "title": "",
          "type": "Feature"
         },
         {
          "date": "2019-03-01",
          "geometry": {
           "coordinates": [
            5.912083999999999,
            52.392733
           ],
           "type": "Point"
          },
          "id": "11",
          "lat": 52.392733,
          "locatie": "Legerplaats bij Oldebroek, 't Harde, Netherlands",
          "lon": 5.912083999999999,
          "max": 0.00011363557249981954,
          "median": 9.595372102921829e-05,
          "min": 8.188073762347976e-05,
          "ministerie": "Ministerie van Defensie",
          "project": "Legerplaats bij Olderboek",
          "title": "",
          "type": "Feature"
         },
         {
          "date": "2019-04-01",
          "geometry": {
           "coordinates": [
            5.912083999999999,
            52.392733
           ],
           "type": "Point"
          },
          "id": "11",
          "lat": 52.392733,
          "locatie": "Legerplaats bij Oldebroek, 't Harde, Netherlands",
          "lon": 5.912083999999999,
          "max": 0.00011254605645690747,
          "median": 0.00010639770334819332,
          "min": 0.00010089554052683525,
          "ministerie": "Ministerie van Defensie",
          "project": "Legerplaats bij Olderboek",
          "title": "",
          "type": "Feature"
         },
         {
          "date": "2019-05-01",
          "geometry": {
           "coordinates": [
            5.912083999999999,
            52.392733
           ],
           "type": "Point"
          },
          "id": "11",
          "lat": 52.392733,
          "locatie": "Legerplaats bij Oldebroek, 't Harde, Netherlands",
          "lon": 5.912083999999999,
          "max": 0.00010892084635077718,
          "median": 0.00010231327178189531,
          "min": 9.83172362532656e-05,
          "ministerie": "Ministerie van Defensie",
          "project": "Legerplaats bij Olderboek",
          "title": "",
          "type": "Feature"
         },
         {
          "date": "2019-06-01",
          "geometry": {
           "coordinates": [
            5.912083999999999,
            52.392733
           ],
           "type": "Point"
          },
          "id": "11",
          "lat": 52.392733,
          "locatie": "Legerplaats bij Oldebroek, 't Harde, Netherlands",
          "lon": 5.912083999999999,
          "max": 0.00011161237781892011,
          "median": 0.00010311531025040613,
          "min": 9.887758934025751e-05,
          "ministerie": "Ministerie van Defensie",
          "project": "Legerplaats bij Olderboek",
          "title": "",
          "type": "Feature"
         },
         {
          "date": "2019-07-01",
          "geometry": {
           "coordinates": [
            5.912083999999999,
            52.392733
           ],
           "type": "Point"
          },
          "id": "11",
          "lat": 52.392733,
          "locatie": "Legerplaats bij Oldebroek, 't Harde, Netherlands",
          "lon": 5.912083999999999,
          "max": 0.00010199109502957306,
          "median": 9.58905802690424e-05,
          "min": 8.903080015443265e-05,
          "ministerie": "Ministerie van Defensie",
          "project": "Legerplaats bij Olderboek",
          "title": "",
          "type": "Feature"
         },
         {
          "date": "2019-08-01",
          "geometry": {
           "coordinates": [
            5.912083999999999,
            52.392733
           ],
           "type": "Point"
          },
          "id": "11",
          "lat": 52.392733,
          "locatie": "Legerplaats bij Oldebroek, 't Harde, Netherlands",
          "lon": 5.912083999999999,
          "max": 0.00011573561593572734,
          "median": 0.00011096988713807246,
          "min": 0.00010379890992262891,
          "ministerie": "Ministerie van Defensie",
          "project": "Legerplaats bij Olderboek",
          "title": "",
          "type": "Feature"
         },
         {
          "date": "2019-09-01",
          "geometry": {
           "coordinates": [
            5.912083999999999,
            52.392733
           ],
           "type": "Point"
          },
          "id": "11",
          "lat": 52.392733,
          "locatie": "Legerplaats bij Oldebroek, 't Harde, Netherlands",
          "lon": 5.912083999999999,
          "max": 0.0001221005222760141,
          "median": 9.413684165338054e-05,
          "min": 8.340571031250385e-05,
          "ministerie": "Ministerie van Defensie",
          "project": "Legerplaats bij Olderboek",
          "title": "",
          "type": "Feature"
         },
         {
          "date": "2018-07-01",
          "geometry": {
           "coordinates": [
            5.65841,
            52.298179
           ],
           "type": "Point"
          },
          "id": "12",
          "lat": 52.298179,
          "locatie": "Legerplaats Ermelo, Ermelo, Netherlands",
          "lon": 5.65841,
          "max": 0.00011573029631369657,
          "median": 0.00010836664853499278,
          "min": 0.00010325357540797888,
          "ministerie": "Ministerie van Defensie",
          "project": "Legerplaats Ermelo",
          "title": "",
          "type": "Feature"
         },
         {
          "date": "2018-08-01",
          "geometry": {
           "coordinates": [
            5.65841,
            52.298179
           ],
           "type": "Point"
          },
          "id": "12",
          "lat": 52.298179,
          "locatie": "Legerplaats Ermelo, Ermelo, Netherlands",
          "lon": 5.65841,
          "max": 0.0001170745806645124,
          "median": 0.0001110927842091769,
          "min": 0.00010213996661467248,
          "ministerie": "Ministerie van Defensie",
          "project": "Legerplaats Ermelo",
          "title": "",
          "type": "Feature"
         },
         {
          "date": "2018-09-01",
          "geometry": {
           "coordinates": [
            5.65841,
            52.298179
           ],
           "type": "Point"
          },
          "id": "12",
          "lat": 52.298179,
          "locatie": "Legerplaats Ermelo, Ermelo, Netherlands",
          "lon": 5.65841,
          "max": 0.00014955361257307231,
          "median": 0.00013587446927431398,
          "min": 0.00012151119282270792,
          "ministerie": "Ministerie van Defensie",
          "project": "Legerplaats Ermelo",
          "title": "",
          "type": "Feature"
         },
         {
          "date": "2018-10-01",
          "geometry": {
           "coordinates": [
            5.65841,
            52.298179
           ],
           "type": "Point"
          },
          "id": "12",
          "lat": 52.298179,
          "locatie": "Legerplaats Ermelo, Ermelo, Netherlands",
          "lon": 5.65841,
          "max": 0.00011751591955544427,
          "median": 0.00010857804674533772,
          "min": 9.57590192514095e-05,
          "ministerie": "Ministerie van Defensie",
          "project": "Legerplaats Ermelo",
          "title": "",
          "type": "Feature"
         },
         {
          "date": "2018-11-01",
          "geometry": {
           "coordinates": [
            5.65841,
            52.298179
           ],
           "type": "Point"
          },
          "id": "12",
          "lat": 52.298179,
          "locatie": "Legerplaats Ermelo, Ermelo, Netherlands",
          "lon": 5.65841,
          "max": 0.0001602592613613249,
          "median": 0.00014288224338088185,
          "min": 0.00012809651386728755,
          "ministerie": "Ministerie van Defensie",
          "project": "Legerplaats Ermelo",
          "title": "",
          "type": "Feature"
         },
         {
          "date": "2018-12-01",
          "geometry": {
           "coordinates": [
            5.65841,
            52.298179
           ],
           "type": "Point"
          },
          "id": "12",
          "lat": 52.298179,
          "locatie": "Legerplaats Ermelo, Ermelo, Netherlands",
          "lon": 5.65841,
          "max": 0.00012095838610548526,
          "median": 0.00010052335337120322,
          "min": 8.329087623902521e-05,
          "ministerie": "Ministerie van Defensie",
          "project": "Legerplaats Ermelo",
          "title": "",
          "type": "Feature"
         },
         {
          "date": "2019-01-01",
          "geometry": {
           "coordinates": [
            5.65841,
            52.298179
           ],
           "type": "Point"
          },
          "id": "12",
          "lat": 52.298179,
          "locatie": "Legerplaats Ermelo, Ermelo, Netherlands",
          "lon": 5.65841,
          "max": 0.00011328395146607248,
          "median": 9.651692016590061e-05,
          "min": 6.184631638461724e-05,
          "ministerie": "Ministerie van Defensie",
          "project": "Legerplaats Ermelo",
          "title": "",
          "type": "Feature"
         },
         {
          "date": "2019-02-01",
          "geometry": {
           "coordinates": [
            5.65841,
            52.298179
           ],
           "type": "Point"
          },
          "id": "12",
          "lat": 52.298179,
          "locatie": "Legerplaats Ermelo, Ermelo, Netherlands",
          "lon": 5.65841,
          "max": 0.00018536963034421206,
          "median": 0.00015594855358358473,
          "min": 0.00013552821135493935,
          "ministerie": "Ministerie van Defensie",
          "project": "Legerplaats Ermelo",
          "title": "",
          "type": "Feature"
         },
         {
          "date": "2019-03-01",
          "geometry": {
           "coordinates": [
            5.65841,
            52.298179
           ],
           "type": "Point"
          },
          "id": "12",
          "lat": 52.298179,
          "locatie": "Legerplaats Ermelo, Ermelo, Netherlands",
          "lon": 5.65841,
          "max": 0.00011838817635149071,
          "median": 0.00010802748665370212,
          "min": 9.522091593217425e-05,
          "ministerie": "Ministerie van Defensie",
          "project": "Legerplaats Ermelo",
          "title": "",
          "type": "Feature"
         },
         {
          "date": "2019-04-01",
          "geometry": {
           "coordinates": [
            5.65841,
            52.298179
           ],
           "type": "Point"
          },
          "id": "12",
          "lat": 52.298179,
          "locatie": "Legerplaats Ermelo, Ermelo, Netherlands",
          "lon": 5.65841,
          "max": 0.00011325855815731491,
          "median": 0.00010675883095245808,
          "min": 0.00010164150195083373,
          "ministerie": "Ministerie van Defensie",
          "project": "Legerplaats Ermelo",
          "title": "",
          "type": "Feature"
         },
         {
          "date": "2019-05-01",
          "geometry": {
           "coordinates": [
            5.65841,
            52.298179
           ],
           "type": "Point"
          },
          "id": "12",
          "lat": 52.298179,
          "locatie": "Legerplaats Ermelo, Ermelo, Netherlands",
          "lon": 5.65841,
          "max": 0.0001141879573008966,
          "median": 0.0001109280856424686,
          "min": 0.00010325579298345326,
          "ministerie": "Ministerie van Defensie",
          "project": "Legerplaats Ermelo",
          "title": "",
          "type": "Feature"
         },
         {
          "date": "2019-06-01",
          "geometry": {
           "coordinates": [
            5.65841,
            52.298179
           ],
           "type": "Point"
          },
          "id": "12",
          "lat": 52.298179,
          "locatie": "Legerplaats Ermelo, Ermelo, Netherlands",
          "lon": 5.65841,
          "max": 0.00011500646605876813,
          "median": 0.00010445656183716564,
          "min": 9.908689389703795e-05,
          "ministerie": "Ministerie van Defensie",
          "project": "Legerplaats Ermelo",
          "title": "",
          "type": "Feature"
         },
         {
          "date": "2019-07-01",
          "geometry": {
           "coordinates": [
            5.65841,
            52.298179
           ],
           "type": "Point"
          },
          "id": "12",
          "lat": 52.298179,
          "locatie": "Legerplaats Ermelo, Ermelo, Netherlands",
          "lon": 5.65841,
          "max": 0.00010687362373573706,
          "median": 0.0001024895868630541,
          "min": 9.210526027577694e-05,
          "ministerie": "Ministerie van Defensie",
          "project": "Legerplaats Ermelo",
          "title": "",
          "type": "Feature"
         },
         {
          "date": "2019-08-01",
          "geometry": {
           "coordinates": [
            5.65841,
            52.298179
           ],
           "type": "Point"
          },
          "id": "12",
          "lat": 52.298179,
          "locatie": "Legerplaats Ermelo, Ermelo, Netherlands",
          "lon": 5.65841,
          "max": 0.00012427723220375346,
          "median": 0.00011781308421632275,
          "min": 0.00010857886445592158,
          "ministerie": "Ministerie van Defensie",
          "project": "Legerplaats Ermelo",
          "title": "",
          "type": "Feature"
         },
         {
          "date": "2019-09-01",
          "geometry": {
           "coordinates": [
            5.65841,
            52.298179
           ],
           "type": "Point"
          },
          "id": "12",
          "lat": 52.298179,
          "locatie": "Legerplaats Ermelo, Ermelo, Netherlands",
          "lon": 5.65841,
          "max": 0.00011268260860874155,
          "median": 9.463128814922513e-05,
          "min": 8.131276990752667e-05,
          "ministerie": "Ministerie van Defensie",
          "project": "Legerplaats Ermelo",
          "title": "",
          "type": "Feature"
         },
         {
          "date": "2018-07-01",
          "geometry": {
           "coordinates": [
            5.760447,
            52.124951
           ],
           "type": "Point"
          },
          "id": "13",
          "lat": 52.124951,
          "locatie": "Legerplaats Harskamp, Harskamp, Netherlands",
          "lon": 5.760447,
          "max": 0.00011777995678130537,
          "median": 0.00011107461614301428,
          "min": 0.00010472605831552263,
          "ministerie": "Ministerie van Defensie",
          "project": "Legerplaats Harskamp",
          "title": "",
          "type": "Feature"
         },
         {
          "date": "2018-08-01",
          "geometry": {
           "coordinates": [
            5.760447,
            52.124951
           ],
           "type": "Point"
          },
          "id": "13",
          "lat": 52.124951,
          "locatie": "Legerplaats Harskamp, Harskamp, Netherlands",
          "lon": 5.760447,
          "max": 0.00011873227519954734,
          "median": 0.00010937810861990637,
          "min": 0.00010446820670040324,
          "ministerie": "Ministerie van Defensie",
          "project": "Legerplaats Harskamp",
          "title": "",
          "type": "Feature"
         },
         {
          "date": "2018-09-01",
          "geometry": {
           "coordinates": [
            5.760447,
            52.124951
           ],
           "type": "Point"
          },
          "id": "13",
          "lat": 52.124951,
          "locatie": "Legerplaats Harskamp, Harskamp, Netherlands",
          "lon": 5.760447,
          "max": 0.00015488388466582004,
          "median": 0.00013912781532904195,
          "min": 0.00012346984513515426,
          "ministerie": "Ministerie van Defensie",
          "project": "Legerplaats Harskamp",
          "title": "",
          "type": "Feature"
         },
         {
          "date": "2018-10-01",
          "geometry": {
           "coordinates": [
            5.760447,
            52.124951
           ],
           "type": "Point"
          },
          "id": "13",
          "lat": 52.124951,
          "locatie": "Legerplaats Harskamp, Harskamp, Netherlands",
          "lon": 5.760447,
          "max": 0.00013166679127607495,
          "median": 0.00012203277599736165,
          "min": 0.00010494918024051003,
          "ministerie": "Ministerie van Defensie",
          "project": "Legerplaats Harskamp",
          "title": "",
          "type": "Feature"
         },
         {
          "date": "2018-11-01",
          "geometry": {
           "coordinates": [
            5.760447,
            52.124951
           ],
           "type": "Point"
          },
          "id": "13",
          "lat": 52.124951,
          "locatie": "Legerplaats Harskamp, Harskamp, Netherlands",
          "lon": 5.760447,
          "max": 0.00016178214988817435,
          "median": 0.00014841520704419545,
          "min": 0.00013592832693824628,
          "ministerie": "Ministerie van Defensie",
          "project": "Legerplaats Harskamp",
          "title": "",
          "type": "Feature"
         },
         {
          "date": "2018-12-01",
          "geometry": {
           "coordinates": [
            5.760447,
            52.124951
           ],
           "type": "Point"
          },
          "id": "13",
          "lat": 52.124951,
          "locatie": "Legerplaats Harskamp, Harskamp, Netherlands",
          "lon": 5.760447,
          "max": 0.00012103869233677778,
          "median": 0.00010682498847103893,
          "min": 9.662597193969819e-05,
          "ministerie": "Ministerie van Defensie",
          "project": "Legerplaats Harskamp",
          "title": "",
          "type": "Feature"
         },
         {
          "date": "2019-01-01",
          "geometry": {
           "coordinates": [
            5.760447,
            52.124951
           ],
           "type": "Point"
          },
          "id": "13",
          "lat": 52.124951,
          "locatie": "Legerplaats Harskamp, Harskamp, Netherlands",
          "lon": 5.760447,
          "max": 0.00013217398372944444,
          "median": 0.00010830597966560163,
          "min": 9.67021135600809e-05,
          "ministerie": "Ministerie van Defensie",
          "project": "Legerplaats Harskamp",
          "title": "",
          "type": "Feature"
         },
         {
          "date": "2019-02-01",
          "geometry": {
           "coordinates": [
            5.760447,
            52.124951
           ],
           "type": "Point"
          },
          "id": "13",
          "lat": 52.124951,
          "locatie": "Legerplaats Harskamp, Harskamp, Netherlands",
          "lon": 5.760447,
          "max": 0.00016936307982507828,
          "median": 0.00015415568263632364,
          "min": 0.0001445989559974442,
          "ministerie": "Ministerie van Defensie",
          "project": "Legerplaats Harskamp",
          "title": "",
          "type": "Feature"
         },
         {
          "date": "2019-03-01",
          "geometry": {
           "coordinates": [
            5.760447,
            52.124951
           ],
           "type": "Point"
          },
          "id": "13",
          "lat": 52.124951,
          "locatie": "Legerplaats Harskamp, Harskamp, Netherlands",
          "lon": 5.760447,
          "max": 0.00012230273239720654,
          "median": 0.00010614548035448627,
          "min": 9.787906310521066e-05,
          "ministerie": "Ministerie van Defensie",
          "project": "Legerplaats Harskamp",
          "title": "",
          "type": "Feature"
         },
         {
          "date": "2019-04-01",
          "geometry": {
           "coordinates": [
            5.760447,
            52.124951
           ],
           "type": "Point"
          },
          "id": "13",
          "lat": 52.124951,
          "locatie": "Legerplaats Harskamp, Harskamp, Netherlands",
          "lon": 5.760447,
          "max": 0.00012438592773503758,
          "median": 0.0001113029065891169,
          "min": 0.00010188856708017263,
          "ministerie": "Ministerie van Defensie",
          "project": "Legerplaats Harskamp",
          "title": "",
          "type": "Feature"
         },
         {
          "date": "2019-05-01",
          "geometry": {
           "coordinates": [
            5.760447,
            52.124951
           ],
           "type": "Point"
          },
          "id": "13",
          "lat": 52.124951,
          "locatie": "Legerplaats Harskamp, Harskamp, Netherlands",
          "lon": 5.760447,
          "max": 0.00011907798443338134,
          "median": 0.00011563771113287657,
          "min": 0.00010962539531798785,
          "ministerie": "Ministerie van Defensie",
          "project": "Legerplaats Harskamp",
          "title": "",
          "type": "Feature"
         },
         {
          "date": "2019-06-01",
          "geometry": {
           "coordinates": [
            5.760447,
            52.124951
           ],
           "type": "Point"
          },
          "id": "13",
          "lat": 52.124951,
          "locatie": "Legerplaats Harskamp, Harskamp, Netherlands",
          "lon": 5.760447,
          "max": 0.00011434767886424895,
          "median": 0.00010898372633408841,
          "min": 0.00010199706674218782,
          "ministerie": "Ministerie van Defensie",
          "project": "Legerplaats Harskamp",
          "title": "",
          "type": "Feature"
         },
         {
          "date": "2019-07-01",
          "geometry": {
           "coordinates": [
            5.760447,
            52.124951
           ],
           "type": "Point"
          },
          "id": "13",
          "lat": 52.124951,
          "locatie": "Legerplaats Harskamp, Harskamp, Netherlands",
          "lon": 5.760447,
          "max": 0.00011550014944216601,
          "median": 0.00010656545135728632,
          "min": 0.00010107642447110265,
          "ministerie": "Ministerie van Defensie",
          "project": "Legerplaats Harskamp",
          "title": "",
          "type": "Feature"
         },
         {
          "date": "2019-08-01",
          "geometry": {
           "coordinates": [
            5.760447,
            52.124951
           ],
           "type": "Point"
          },
          "id": "13",
          "lat": 52.124951,
          "locatie": "Legerplaats Harskamp, Harskamp, Netherlands",
          "lon": 5.760447,
          "max": 0.00011955772554069261,
          "median": 0.00011413248072486959,
          "min": 0.00011015763079370725,
          "ministerie": "Ministerie van Defensie",
          "project": "Legerplaats Harskamp",
          "title": "",
          "type": "Feature"
         },
         {
          "date": "2019-09-01",
          "geometry": {
           "coordinates": [
            5.760447,
            52.124951
           ],
           "type": "Point"
          },
          "id": "13",
          "lat": 52.124951,
          "locatie": "Legerplaats Harskamp, Harskamp, Netherlands",
          "lon": 5.760447,
          "max": 0.00012373314530123025,
          "median": 0.00010021066555054858,
          "min": 8.511680700570367e-05,
          "ministerie": "Ministerie van Defensie",
          "project": "Legerplaats Harskamp",
          "title": "",
          "type": "Feature"
         },
         {
          "date": "2018-07-01",
          "geometry": {
           "coordinates": [
            5.691431,
            52.186824
           ],
           "type": "Point"
          },
          "id": "14",
          "lat": 52.186824,
          "locatie": "Stroe, Netherlands",
          "lon": 5.691431,
          "max": 0.00011879411050693306,
          "median": 0.0001122783204907128,
          "min": 0.00010652789920293803,
          "ministerie": "Ministerie van Defensie",
          "project": "Legerplaats Stroe",
          "title": "",
          "type": "Feature"
         },
         {
          "date": "2018-08-01",
          "geometry": {
           "coordinates": [
            5.691431,
            52.186824
           ],
           "type": "Point"
          },
          "id": "14",
          "lat": 52.186824,
          "locatie": "Stroe, Netherlands",
          "lon": 5.691431,
          "max": 0.00011756306412280537,
          "median": 0.00010998112941354447,
          "min": 0.00010446820670040324,
          "ministerie": "Ministerie van Defensie",
          "project": "Legerplaats Stroe",
          "title": "",
          "type": "Feature"
         },
         {
          "date": "2018-09-01",
          "geometry": {
           "coordinates": [
            5.691431,
            52.186824
           ],
           "type": "Point"
          },
          "id": "14",
          "lat": 52.186824,
          "locatie": "Stroe, Netherlands",
          "lon": 5.691431,
          "max": 0.00015488388466582004,
          "median": 0.0001439973152805284,
          "min": 0.00013240615670542517,
          "ministerie": "Ministerie van Defensie",
          "project": "Legerplaats Stroe",
          "title": "",
          "type": "Feature"
         },
         {
          "date": "2018-10-01",
          "geometry": {
           "coordinates": [
            5.691431,
            52.186824
           ],
           "type": "Point"
          },
          "id": "14",
          "lat": 52.186824,
          "locatie": "Stroe, Netherlands",
          "lon": 5.691431,
          "max": 0.00013166679127607495,
          "median": 0.00011424884724712931,
          "min": 0.0001003896970357141,
          "ministerie": "Ministerie van Defensie",
          "project": "Legerplaats Stroe",
          "title": "",
          "type": "Feature"
         },
         {
          "date": "2018-11-01",
          "geometry": {
           "coordinates": [
            5.691431,
            52.186824
           ],
           "type": "Point"
          },
          "id": "14",
          "lat": 52.186824,
          "locatie": "Stroe, Netherlands",
          "lon": 5.691431,
          "max": 0.0001602592613613249,
          "median": 0.00014555877714883536,
          "min": 0.00012898425464451303,
          "ministerie": "Ministerie van Defensie",
          "project": "Legerplaats Stroe",
          "title": "",
          "type": "Feature"
         },
         {
          "date": "2018-12-01",
          "geometry": {
           "coordinates": [
            5.691431,
            52.186824
           ],
           "type": "Point"
          },
          "id": "14",
          "lat": 52.186824,
          "locatie": "Stroe, Netherlands",
          "lon": 5.691431,
          "max": 0.00012095838610548526,
          "median": 0.00010514621681068093,
          "min": 9.135416019050434e-05,
          "ministerie": "Ministerie van Defensie",
          "project": "Legerplaats Stroe",
          "title": "",
          "type": "Feature"
         },
         {
          "date": "2019-01-01",
          "geometry": {
           "coordinates": [
            5.691431,
            52.186824
           ],
           "type": "Point"
          },
          "id": "14",
          "lat": 52.186824,
          "locatie": "Stroe, Netherlands",
          "lon": 5.691431,
          "max": 0.00011328395146607248,
          "median": 0.00010221789125353098,
          "min": 8.29727418897371e-05,
          "ministerie": "Ministerie van Defensie",
          "project": "Legerplaats Stroe",
          "title": "",
          "type": "Feature"
         },
         {
          "date": "2019-02-01",
          "geometry": {
           "coordinates": [
            5.691431,
            52.186824
           ],
           "type": "Point"
          },
          "id": "14",
          "lat": 52.186824,
          "locatie": "Stroe, Netherlands",
          "lon": 5.691431,
          "max": 0.00016965894736023927,
          "median": 0.0001541980600450188,
          "min": 0.00014289168757386506,
          "ministerie": "Ministerie van Defensie",
          "project": "Legerplaats Stroe",
          "title": "",
          "type": "Feature"
         },
         {
          "date": "2019-03-01",
          "geometry": {
           "coordinates": [
            5.691431,
            52.186824
           ],
           "type": "Point"
          },
          "id": "14",
          "lat": 52.186824,
          "locatie": "Stroe, Netherlands",
          "lon": 5.691431,
          "max": 0.00011610872108248962,
          "median": 0.0001027124235406518,
          "min": 9.70434191198237e-05,
          "ministerie": "Ministerie van Defensie",
          "project": "Legerplaats Stroe",
          "title": "",
          "type": "Feature"
         },
         {
          "date": "2019-04-01",
          "geometry": {
           "coordinates": [
            5.691431,
            52.186824
           ],
           "type": "Point"
          },
          "id": "14",
          "lat": 52.186824,
          "locatie": "Stroe, Netherlands",
          "lon": 5.691431,
          "max": 0.00011307773456792347,
          "median": 0.00010925615592075993,
          "min": 0.00010241500312220748,
          "ministerie": "Ministerie van Defensie",
          "project": "Legerplaats Stroe",
          "title": "",
          "type": "Feature"
         },
         {
          "date": "2019-05-01",
          "geometry": {
           "coordinates": [
            5.691431,
            52.186824
           ],
           "type": "Point"
          },
          "id": "14",
          "lat": 52.186824,
          "locatie": "Stroe, Netherlands",
          "lon": 5.691431,
          "max": 0.00011907798443338134,
          "median": 0.00011344023016673734,
          "min": 0.00010692460273276083,
          "ministerie": "Ministerie van Defensie",
          "project": "Legerplaats Stroe",
          "title": "",
          "type": "Feature"
         },
         {
          "date": "2019-06-01",
          "geometry": {
           "coordinates": [
            5.691431,
            52.186824
           ],
           "type": "Point"
          },
          "id": "14",
          "lat": 52.186824,
          "locatie": "Stroe, Netherlands",
          "lon": 5.691431,
          "max": 0.00011434767886424895,
          "median": 0.00010418410194060554,
          "min": 0.00010055045268633127,
          "ministerie": "Ministerie van Defensie",
          "project": "Legerplaats Stroe",
          "title": "",
          "type": "Feature"
         },
         {
          "date": "2019-07-01",
          "geometry": {
           "coordinates": [
            5.691431,
            52.186824
           ],
           "type": "Point"
          },
          "id": "14",
          "lat": 52.186824,
          "locatie": "Stroe, Netherlands",
          "lon": 5.691431,
          "max": 0.00011107562386314385,
          "median": 0.00010435718523539364,
          "min": 0.00010184420534642413,
          "ministerie": "Ministerie van Defensie",
          "project": "Legerplaats Stroe",
          "title": "",
          "type": "Feature"
         },
         {
          "date": "2019-08-01",
          "geometry": {
           "coordinates": [
            5.691431,
            52.186824
           ],
           "type": "Point"
          },
          "id": "14",
          "lat": 52.186824,
          "locatie": "Stroe, Netherlands",
          "lon": 5.691431,
          "max": 0.00012138920144274425,
          "median": 0.0001165580882700246,
          "min": 0.00011015763079370725,
          "ministerie": "Ministerie van Defensie",
          "project": "Legerplaats Stroe",
          "title": "",
          "type": "Feature"
         },
         {
          "date": "2019-09-01",
          "geometry": {
           "coordinates": [
            5.691431,
            52.186824
           ],
           "type": "Point"
          },
          "id": "14",
          "lat": 52.186824,
          "locatie": "Stroe, Netherlands",
          "lon": 5.691431,
          "max": 0.00010950283973157015,
          "median": 9.617913719269168e-05,
          "min": 7.917838802666816e-05,
          "ministerie": "Ministerie van Defensie",
          "project": "Legerplaats Stroe",
          "title": "",
          "type": "Feature"
         },
         {
          "date": "2018-07-01",
          "geometry": {
           "coordinates": [
            5.428444,
            52.135797
           ],
           "type": "Point"
          },
          "id": "15",
          "lat": 52.135797,
          "locatie": "Leusden, Netherlands",
          "lon": 5.428444,
          "max": 0.0001187526979850955,
          "median": 0.00011398557818475343,
          "min": 0.00010801740427268669,
          "ministerie": "Ministerie van Defensie",
          "project": "Leusden",
          "title": "",
          "type": "Feature"
         },
         {
          "date": "2018-08-01",
          "geometry": {
           "coordinates": [
            5.428444,
            52.135797
           ],
           "type": "Point"
          },
          "id": "15",
          "lat": 52.135797,
          "locatie": "Leusden, Netherlands",
          "lon": 5.428444,
          "max": 0.00011478987745202715,
          "median": 0.00010936909080383825,
          "min": 0.00010435802866431862,
          "ministerie": "Ministerie van Defensie",
          "project": "Leusden",
          "title": "",
          "type": "Feature"
         },
         {
          "date": "2018-09-01",
          "geometry": {
           "coordinates": [
            5.428444,
            52.135797
           ],
           "type": "Point"
          },
          "id": "15",
          "lat": 52.135797,
          "locatie": "Leusden, Netherlands",
          "lon": 5.428444,
          "max": 0.00015406485121211434,
          "median": 0.0001426736851065763,
          "min": 0.00012440945283742622,
          "ministerie": "Ministerie van Defensie",
          "project": "Leusden",
          "title": "",
          "type": "Feature"
         },
         {
          "date": "2018-10-01",
          "geometry": {
           "coordinates": [
            5.428444,
            52.135797
           ],
           "type": "Point"
          },
          "id": "15",
          "lat": 52.135797,
          "locatie": "Leusden, Netherlands",
          "lon": 5.428444,
          "max": 0.00012287374556763098,
          "median": 0.000117112123275344,
          "min": 0.0001050166312044132,
          "ministerie": "Ministerie van Defensie",
          "project": "Leusden",
          "title": "",
          "type": "Feature"
         },
         {
          "date": "2018-11-01",
          "geometry": {
           "coordinates": [
            5.428444,
            52.135797
           ],
           "type": "Point"
          },
          "id": "15",
          "lat": 52.135797,
          "locatie": "Leusden, Netherlands",
          "lon": 5.428444,
          "max": 0.0001476152909997179,
          "median": 0.0001331681401400199,
          "min": 0.00012336153598138503,
          "ministerie": "Ministerie van Defensie",
          "project": "Leusden",
          "title": "",
          "type": "Feature"
         },
         {
          "date": "2018-12-01",
          "geometry": {
           "coordinates": [
            5.428444,
            52.135797
           ],
           "type": "Point"
          },
          "id": "15",
          "lat": 52.135797,
          "locatie": "Leusden, Netherlands",
          "lon": 5.428444,
          "max": 0.00011598692071856931,
          "median": 0.00010576435317892304,
          "min": 9.516022581495287e-05,
          "ministerie": "Ministerie van Defensie",
          "project": "Leusden",
          "title": "",
          "type": "Feature"
         },
         {
          "date": "2019-01-01",
          "geometry": {
           "coordinates": [
            5.428444,
            52.135797
           ],
           "type": "Point"
          },
          "id": "15",
          "lat": 52.135797,
          "locatie": "Leusden, Netherlands",
          "lon": 5.428444,
          "max": 0.00011045490732829244,
          "median": 8.671048513576503e-05,
          "min": 7.4479808658297e-05,
          "ministerie": "Ministerie van Defensie",
          "project": "Leusden",
          "title": "",
          "type": "Feature"
         },
         {
          "date": "2019-02-01",
          "geometry": {
           "coordinates": [
            5.428444,
            52.135797
           ],
           "type": "Point"
          },
          "id": "15",
          "lat": 52.135797,
          "locatie": "Leusden, Netherlands",
          "lon": 5.428444,
          "max": 0.00016721364853140836,
          "median": 0.00015244228416122496,
          "min": 0.0001312531967414543,
          "ministerie": "Ministerie van Defensie",
          "project": "Leusden",
          "title": "",
          "type": "Feature"
         },
         {
          "date": "2019-03-01",
          "geometry": {
           "coordinates": [
            5.428444,
            52.135797
           ],
           "type": "Point"
          },
          "id": "15",
          "lat": 52.135797,
          "locatie": "Leusden, Netherlands",
          "lon": 5.428444,
          "max": 0.00012264684482943267,
          "median": 0.00010756407573353499,
          "min": 9.724745909968244e-05,
          "ministerie": "Ministerie van Defensie",
          "project": "Leusden",
          "title": "",
          "type": "Feature"
         },
         {
          "date": "2019-04-01",
          "geometry": {
           "coordinates": [
            5.428444,
            52.135797
           ],
           "type": "Point"
          },
          "id": "15",
          "lat": 52.135797,
          "locatie": "Leusden, Netherlands",
          "lon": 5.428444,
          "max": 0.00012328482989687473,
          "median": 0.00011238982861313759,
          "min": 0.000108781670529514,
          "ministerie": "Ministerie van Defensie",
          "project": "Leusden",
          "title": "",
          "type": "Feature"
         },
         {
          "date": "2019-05-01",
          "geometry": {
           "coordinates": [
            5.428444,
            52.135797
           ],
           "type": "Point"
          },
          "id": "15",
          "lat": 52.135797,
          "locatie": "Leusden, Netherlands",
          "lon": 5.428444,
          "max": 0.00011693073832333209,
          "median": 0.00011382913342949027,
          "min": 0.00010629237294779159,
          "ministerie": "Ministerie van Defensie",
          "project": "Leusden",
          "title": "",
          "type": "Feature"
         },
         {
          "date": "2019-06-01",
          "geometry": {
           "coordinates": [
            5.428444,
            52.135797
           ],
           "type": "Point"
          },
          "id": "15",
          "lat": 52.135797,
          "locatie": "Leusden, Netherlands",
          "lon": 5.428444,
          "max": 0.00011413906759116799,
          "median": 0.000109635754512753,
          "min": 0.0001036735721069662,
          "ministerie": "Ministerie van Defensie",
          "project": "Leusden",
          "title": "",
          "type": "Feature"
         },
         {
          "date": "2019-07-01",
          "geometry": {
           "coordinates": [
            5.428444,
            52.135797
           ],
           "type": "Point"
          },
          "id": "15",
          "lat": 52.135797,
          "locatie": "Leusden, Netherlands",
          "lon": 5.428444,
          "max": 0.00010831215350242575,
          "median": 0.00010424836873532459,
          "min": 9.913545894625655e-05,
          "ministerie": "Ministerie van Defensie",
          "project": "Leusden",
          "title": "",
          "type": "Feature"
         },
         {
          "date": "2019-08-01",
          "geometry": {
           "coordinates": [
            5.428444,
            52.135797
           ],
           "type": "Point"
          },
          "id": "15",
          "lat": 52.135797,
          "locatie": "Leusden, Netherlands",
          "lon": 5.428444,
          "max": 0.00012413994409143925,
          "median": 0.00011613695086361769,
          "min": 0.00010832667612703517,
          "ministerie": "Ministerie van Defensie",
          "project": "Leusden",
          "title": "",
          "type": "Feature"
         },
         {
          "date": "2019-09-01",
          "geometry": {
           "coordinates": [
            5.428444,
            52.135797
           ],
           "type": "Point"
          },
          "id": "15",
          "lat": 52.135797,
          "locatie": "Leusden, Netherlands",
          "lon": 5.428444,
          "max": 0.00011377337410396567,
          "median": 0.00010135501680930581,
          "min": 7.542588371904682e-05,
          "ministerie": "Ministerie van Defensie",
          "project": "Leusden",
          "title": "",
          "type": "Feature"
         },
         {
          "date": "2018-07-01",
          "geometry": {
           "coordinates": [
            5.854679,
            51.534572
           ],
           "type": "Point"
          },
          "id": "16",
          "lat": 51.534572,
          "locatie": "1 Ripseweg, Vredepeel, Netherlands",
          "lon": 5.854679,
          "max": 0.0001284567668687374,
          "median": 0.00012328685047087006,
          "min": 0.00011629258169659679,
          "ministerie": "Ministerie van Defensie",
          "project": "Luchthavenbesluit De Peel",
          "title": "",
          "type": "Feature"
         },
         {
          "date": "2018-08-01",
          "geometry": {
           "coordinates": [
            5.854679,
            51.534572
           ],
           "type": "Point"
          },
          "id": "16",
          "lat": 51.534572,
          "locatie": "1 Ripseweg, Vredepeel, Netherlands",
          "lon": 5.854679,
          "max": 0.00011929390890400688,
          "median": 0.00011402551180699471,
          "min": 0.00010578015997264939,
          "ministerie": "Ministerie van Defensie",
          "project": "Luchthavenbesluit De Peel",
          "title": "",
          "type": "Feature"
         },
         {
          "date": "2018-09-01",
          "geometry": {
           "coordinates": [
            5.854679,
            51.534572
           ],
           "type": "Point"
          },
          "id": "16",
          "lat": 51.534572,
          "locatie": "1 Ripseweg, Vredepeel, Netherlands",
          "lon": 5.854679,
          "max": 0.00015123126043731694,
          "median": 0.00013709479583283706,
          "min": 0.00013116386160819723,
          "ministerie": "Ministerie van Defensie",
          "project": "Luchthavenbesluit De Peel",
          "title": "",
          "type": "Feature"
         },
         {
          "date": "2018-10-01",
          "geometry": {
           "coordinates": [
            5.854679,
            51.534572
           ],
           "type": "Point"
          },
          "id": "16",
          "lat": 51.534572,
          "locatie": "1 Ripseweg, Vredepeel, Netherlands",
          "lon": 5.854679,
          "max": 0.0001406834926456213,
          "median": 0.00013073321315459907,
          "min": 0.000121959030507288,
          "ministerie": "Ministerie van Defensie",
          "project": "Luchthavenbesluit De Peel",
          "title": "",
          "type": "Feature"
         },
         {
          "date": "2018-11-01",
          "geometry": {
           "coordinates": [
            5.854679,
            51.534572
           ],
           "type": "Point"
          },
          "id": "16",
          "lat": 51.534572,
          "locatie": "1 Ripseweg, Vredepeel, Netherlands",
          "lon": 5.854679,
          "max": 0.00016162982285050268,
          "median": 0.00014747933892067522,
          "min": 0.00013375201792447628,
          "ministerie": "Ministerie van Defensie",
          "project": "Luchthavenbesluit De Peel",
          "title": "",
          "type": "Feature"
         },
         {
          "date": "2018-12-01",
          "geometry": {
           "coordinates": [
            5.854679,
            51.534572
           ],
           "type": "Point"
          },
          "id": "16",
          "lat": 51.534572,
          "locatie": "1 Ripseweg, Vredepeel, Netherlands",
          "lon": 5.854679,
          "max": 0.0001412899710445409,
          "median": 0.00012287449135328643,
          "min": 0.00010455639055051414,
          "ministerie": "Ministerie van Defensie",
          "project": "Luchthavenbesluit De Peel",
          "title": "",
          "type": "Feature"
         },
         {
          "date": "2019-01-01",
          "geometry": {
           "coordinates": [
            5.854679,
            51.534572
           ],
           "type": "Point"
          },
          "id": "16",
          "lat": 51.534572,
          "locatie": "1 Ripseweg, Vredepeel, Netherlands",
          "lon": 5.854679,
          "max": 0.0001473234369768761,
          "median": 0.00012260701325275154,
          "min": 0.00010971107423830509,
          "ministerie": "Ministerie van Defensie",
          "project": "Luchthavenbesluit De Peel",
          "title": "",
          "type": "Feature"
         },
         {
          "date": "2019-02-01",
          "geometry": {
           "coordinates": [
            5.854679,
            51.534572
           ],
           "type": "Point"
          },
          "id": "16",
          "lat": 51.534572,
          "locatie": "1 Ripseweg, Vredepeel, Netherlands",
          "lon": 5.854679,
          "max": 0.00016035507355522107,
          "median": 0.00014794545683063676,
          "min": 0.00013267146314094015,
          "ministerie": "Ministerie van Defensie",
          "project": "Luchthavenbesluit De Peel",
          "title": "",
          "type": "Feature"
         },
         {
          "date": "2019-03-01",
          "geometry": {
           "coordinates": [
            5.854679,
            51.534572
           ],
           "type": "Point"
          },
          "id": "16",
          "lat": 51.534572,
          "locatie": "1 Ripseweg, Vredepeel, Netherlands",
          "lon": 5.854679,
          "max": 0.00011607838695334927,
          "median": 0.00010428845436222047,
          "min": 9.674432658357546e-05,
          "ministerie": "Ministerie van Defensie",
          "project": "Luchthavenbesluit De Peel",
          "title": "",
          "type": "Feature"
         },
         {
          "date": "2019-04-01",
          "geometry": {
           "coordinates": [
            5.854679,
            51.534572
           ],
           "type": "Point"
          },
          "id": "16",
          "lat": 51.534572,
          "locatie": "1 Ripseweg, Vredepeel, Netherlands",
          "lon": 5.854679,
          "max": 0.0001556192188243849,
          "median": 0.0001395717910925243,
          "min": 0.00012874282116179085,
          "ministerie": "Ministerie van Defensie",
          "project": "Luchthavenbesluit De Peel",
          "title": "",
          "type": "Feature"
         },
         {
          "date": "2019-05-01",
          "geometry": {
           "coordinates": [
            5.854679,
            51.534572
           ],
           "type": "Point"
          },
          "id": "16",
          "lat": 51.534572,
          "locatie": "1 Ripseweg, Vredepeel, Netherlands",
          "lon": 5.854679,
          "max": 0.0001298412898904644,
          "median": 0.00012288990734184705,
          "min": 0.00011858292942607553,
          "ministerie": "Ministerie van Defensie",
          "project": "Luchthavenbesluit De Peel",
          "title": "",
          "type": "Feature"
         },
         {
          "date": "2019-06-01",
          "geometry": {
           "coordinates": [
            5.854679,
            51.534572
           ],
           "type": "Point"
          },
          "id": "16",
          "lat": 51.534572,
          "locatie": "1 Ripseweg, Vredepeel, Netherlands",
          "lon": 5.854679,
          "max": 0.00011615165862721214,
          "median": 0.00011203344266349767,
          "min": 0.00010155305790249258,
          "ministerie": "Ministerie van Defensie",
          "project": "Luchthavenbesluit De Peel",
          "title": "",
          "type": "Feature"
         },
         {
          "date": "2019-07-01",
          "geometry": {
           "coordinates": [
            5.854679,
            51.534572
           ],
           "type": "Point"
          },
          "id": "16",
          "lat": 51.534572,
          "locatie": "1 Ripseweg, Vredepeel, Netherlands",
          "lon": 5.854679,
          "max": 0.0001133291522015687,
          "median": 0.00010588108458377234,
          "min": 0.0001005442614280241,
          "ministerie": "Ministerie van Defensie",
          "project": "Luchthavenbesluit De Peel",
          "title": "",
          "type": "Feature"
         },
         {
          "date": "2019-08-01",
          "geometry": {
           "coordinates": [
            5.854679,
            51.534572
           ],
           "type": "Point"
          },
          "id": "16",
          "lat": 51.534572,
          "locatie": "1 Ripseweg, Vredepeel, Netherlands",
          "lon": 5.854679,
          "max": 0.0001129208708217782,
          "median": 0.00010761690175055801,
          "min": 9.615919621727475e-05,
          "ministerie": "Ministerie van Defensie",
          "project": "Luchthavenbesluit De Peel",
          "title": "",
          "type": "Feature"
         },
         {
          "date": "2019-09-01",
          "geometry": {
           "coordinates": [
            5.854679,
            51.534572
           ],
           "type": "Point"
          },
          "id": "16",
          "lat": 51.534572,
          "locatie": "1 Ripseweg, Vredepeel, Netherlands",
          "lon": 5.854679,
          "max": 0.00011956759408349171,
          "median": 0.00010488954029431876,
          "min": 9.836085027349959e-05,
          "ministerie": "Ministerie van Defensie",
          "project": "Luchthavenbesluit De Peel",
          "title": "",
          "type": "Feature"
         },
         {
          "date": "2018-07-01",
          "geometry": {
           "coordinates": [
            4.924138,
            51.584053999999995
           ],
           "type": "Point"
          },
          "id": "17",
          "lat": 51.584053999999995,
          "locatie": "Gilze-Rijen, Rijen, Netherlands",
          "lon": 4.924138,
          "max": 0.00014111239376590873,
          "median": 0.00013526953262044117,
          "min": 0.00011839307295365302,
          "ministerie": "Ministerie van Defensie",
          "project": "Luchthavenbesluit Gilze-Rijen",
          "title": "",
          "type": "Feature"
         },
         {
          "date": "2018-08-01",
          "geometry": {
           "coordinates": [
            4.924138,
            51.584053999999995
           ],
           "type": "Point"
          },
          "id": "17",
          "lat": 51.584053999999995,
          "locatie": "Gilze-Rijen, Rijen, Netherlands",
          "lon": 4.924138,
          "max": 0.00012262127711437643,
          "median": 0.00011691856343531981,
          "min": 0.00010484462109161541,
          "ministerie": "Ministerie van Defensie",
          "project": "Luchthavenbesluit Gilze-Rijen",
          "title": "",
          "type": "Feature"
         },
         {
          "date": "2018-09-01",
          "geometry": {
           "coordinates": [
            4.924138,
            51.584053999999995
           ],
           "type": "Point"
          },
          "id": "17",
          "lat": 51.584053999999995,
          "locatie": "Gilze-Rijen, Rijen, Netherlands",
          "lon": 4.924138,
          "max": 0.00015461356088053435,
          "median": 0.00014438404645581034,
          "min": 0.00012918803435118593,
          "ministerie": "Ministerie van Defensie",
          "project": "Luchthavenbesluit Gilze-Rijen",
          "title": "",
          "type": "Feature"
         },
         {
          "date": "2018-10-01",
          "geometry": {
           "coordinates": [
            4.924138,
            51.584053999999995
           ],
           "type": "Point"
          },
          "id": "17",
          "lat": 51.584053999999995,
          "locatie": "Gilze-Rijen, Rijen, Netherlands",
          "lon": 4.924138,
          "max": 0.00014466221909970045,
          "median": 0.0001249136112164706,
          "min": 0.00011349499365449887,
          "ministerie": "Ministerie van Defensie",
          "project": "Luchthavenbesluit Gilze-Rijen",
          "title": "",
          "type": "Feature"
         },
         {
          "date": "2018-11-01",
          "geometry": {
           "coordinates": [
            4.924138,
            51.584053999999995
           ],
           "type": "Point"
          },
          "id": "17",
          "lat": 51.584053999999995,
          "locatie": "Gilze-Rijen, Rijen, Netherlands",
          "lon": 4.924138,
          "max": 0.00015372598136309534,
          "median": 0.00013818972295572219,
          "min": 0.00012462670062389497,
          "ministerie": "Ministerie van Defensie",
          "project": "Luchthavenbesluit Gilze-Rijen",
          "title": "",
          "type": "Feature"
         },
         {
          "date": "2018-12-01",
          "geometry": {
           "coordinates": [
            4.924138,
            51.584053999999995
           ],
           "type": "Point"
          },
          "id": "17",
          "lat": 51.584053999999995,
          "locatie": "Gilze-Rijen, Rijen, Netherlands",
          "lon": 4.924138,
          "max": 0.00012907197522873332,
          "median": 0.00010984147957060486,
          "min": 9.864439925877377e-05,
          "ministerie": "Ministerie van Defensie",
          "project": "Luchthavenbesluit Gilze-Rijen",
          "title": "",
          "type": "Feature"
         },
         {
          "date": "2019-01-01",
          "geometry": {
           "coordinates": [
            4.924138,
            51.584053999999995
           ],
           "type": "Point"
          },
          "id": "17",
          "lat": 51.584053999999995,
          "locatie": "Gilze-Rijen, Rijen, Netherlands",
          "lon": 4.924138,
          "max": 0.00011881691427418564,
          "median": 9.182531954182819e-05,
          "min": 7.996475805430472e-05,
          "ministerie": "Ministerie van Defensie",
          "project": "Luchthavenbesluit Gilze-Rijen",
          "title": "",
          "type": "Feature"
         },
         {
          "date": "2019-02-01",
          "geometry": {
           "coordinates": [
            4.924138,
            51.584053999999995
           ],
           "type": "Point"
          },
          "id": "17",
          "lat": 51.584053999999995,
          "locatie": "Gilze-Rijen, Rijen, Netherlands",
          "lon": 4.924138,
          "max": 0.0001603310665814206,
          "median": 0.00013874376694374794,
          "min": 0.0001158761078841053,
          "ministerie": "Ministerie van Defensie",
          "project": "Luchthavenbesluit Gilze-Rijen",
          "title": "",
          "type": "Feature"
         },
         {
          "date": "2019-03-01",
          "geometry": {
           "coordinates": [
            4.924138,
            51.584053999999995
           ],
           "type": "Point"
          },
          "id": "17",
          "lat": 51.584053999999995,
          "locatie": "Gilze-Rijen, Rijen, Netherlands",
          "lon": 4.924138,
          "max": 0.00013530573589032397,
          "median": 0.00011412650765835508,
          "min": 9.948482285073564e-05,
          "ministerie": "Ministerie van Defensie",
          "project": "Luchthavenbesluit Gilze-Rijen",
          "title": "",
          "type": "Feature"
         },
         {
          "date": "2019-04-01",
          "geometry": {
           "coordinates": [
            4.924138,
            51.584053999999995
           ],
           "type": "Point"
          },
          "id": "17",
          "lat": 51.584053999999995,
          "locatie": "Gilze-Rijen, Rijen, Netherlands",
          "lon": 4.924138,
          "max": 0.00015619974759894224,
          "median": 0.0001422268517649694,
          "min": 0.0001289457544436577,
          "ministerie": "Ministerie van Defensie",
          "project": "Luchthavenbesluit Gilze-Rijen",
          "title": "",
          "type": "Feature"
         },
         {
          "date": "2019-05-01",
          "geometry": {
           "coordinates": [
            4.924138,
            51.584053999999995
           ],
           "type": "Point"
          },
          "id": "17",
          "lat": 51.584053999999995,
          "locatie": "Gilze-Rijen, Rijen, Netherlands",
          "lon": 4.924138,
          "max": 0.00013454361453514772,
          "median": 0.00012754144504946284,
          "min": 0.00012110984004870689,
          "ministerie": "Ministerie van Defensie",
          "project": "Luchthavenbesluit Gilze-Rijen",
          "title": "",
          "type": "Feature"
         },
         {
          "date": "2019-06-01",
          "geometry": {
           "coordinates": [
            4.924138,
            51.584053999999995
           ],
           "type": "Point"
          },
          "id": "17",
          "lat": 51.584053999999995,
          "locatie": "Gilze-Rijen, Rijen, Netherlands",
          "lon": 4.924138,
          "max": 0.00012074010897015546,
          "median": 0.00011224567424505949,
          "min": 0.00010815906857101142,
          "ministerie": "Ministerie van Defensie",
          "project": "Luchthavenbesluit Gilze-Rijen",
          "title": "",
          "type": "Feature"
         },
         {
          "date": "2019-07-01",
          "geometry": {
           "coordinates": [
            4.924138,
            51.584053999999995
           ],
           "type": "Point"
          },
          "id": "17",
          "lat": 51.584053999999995,
          "locatie": "Gilze-Rijen, Rijen, Netherlands",
          "lon": 4.924138,
          "max": 0.00011480732646236479,
          "median": 0.00010921535333135849,
          "min": 0.00010312272206647322,
          "ministerie": "Ministerie van Defensie",
          "project": "Luchthavenbesluit Gilze-Rijen",
          "title": "",
          "type": "Feature"
         },
         {
          "date": "2019-08-01",
          "geometry": {
           "coordinates": [
            4.924138,
            51.584053999999995
           ],
           "type": "Point"
          },
          "id": "17",
          "lat": 51.584053999999995,
          "locatie": "Gilze-Rijen, Rijen, Netherlands",
          "lon": 4.924138,
          "max": 0.00012375989172142,
          "median": 0.00011715086644203878,
          "min": 0.00010336625564377755,
          "ministerie": "Ministerie van Defensie",
          "project": "Luchthavenbesluit Gilze-Rijen",
          "title": "",
          "type": "Feature"
         },
         {
          "date": "2019-09-01",
          "geometry": {
           "coordinates": [
            4.924138,
            51.584053999999995
           ],
           "type": "Point"
          },
          "id": "17",
          "lat": 51.584053999999995,
          "locatie": "Gilze-Rijen, Rijen, Netherlands",
          "lon": 4.924138,
          "max": 9.795886549414192e-05,
          "median": 9.247427678246681e-05,
          "min": 8.00759491016696e-05,
          "ministerie": "Ministerie van Defensie",
          "project": "Luchthavenbesluit Gilze-Rijen",
          "title": "",
          "type": "Feature"
         },
         {
          "date": "2018-07-01",
          "geometry": {
           "coordinates": [
            4.3404620000000005,
            51.418796
           ],
           "type": "Point"
          },
          "id": "18",
          "lat": 51.418796,
          "locatie": "Woensdrecht, Netherlands",
          "lon": 4.3404620000000005,
          "max": 0.00016563033568672836,
          "median": 0.00013804381958492168,
          "min": 0.0001307278352255736,
          "ministerie": "Ministerie van Defensie",
          "project": "Luchthavenbesluit Woensdrecht",
          "title": "",
          "type": "Feature"
         },
         {
          "date": "2018-08-01",
          "geometry": {
           "coordinates": [
            4.3404620000000005,
            51.418796
           ],
           "type": "Point"
          },
          "id": "18",
          "lat": 51.418796,
          "locatie": "Woensdrecht, Netherlands",
          "lon": 4.3404620000000005,
          "max": 0.00012601193157024682,
          "median": 0.00010858021978172152,
          "min": 0.00010101474617840722,
          "ministerie": "Ministerie van Defensie",
          "project": "Luchthavenbesluit Woensdrecht",
          "title": "",
          "type": "Feature"
         },
         {
          "date": "2018-09-01",
          "geometry": {
           "coordinates": [
            4.3404620000000005,
            51.418796
           ],
           "type": "Point"
          },
          "id": "18",
          "lat": 51.418796,
          "locatie": "Woensdrecht, Netherlands",
          "lon": 4.3404620000000005,
          "max": 0.0001563876942485157,
          "median": 0.0001309438354610346,
          "min": 0.00012446060718754236,
          "ministerie": "Ministerie van Defensie",
          "project": "Luchthavenbesluit Woensdrecht",
          "title": "",
          "type": "Feature"
         },
         {
          "date": "2018-10-01",
          "geometry": {
           "coordinates": [
            4.3404620000000005,
            51.418796
           ],
           "type": "Point"
          },
          "id": "18",
          "lat": 51.418796,
          "locatie": "Woensdrecht, Netherlands",
          "lon": 4.3404620000000005,
          "max": 0.00016371681587907679,
          "median": 0.00013564593194371802,
          "min": 0.0001221714192070067,
          "ministerie": "Ministerie van Defensie",
          "project": "Luchthavenbesluit Woensdrecht",
          "title": "",
          "type": "Feature"
         },
         {
          "date": "2018-11-01",
          "geometry": {
           "coordinates": [
            4.3404620000000005,
            51.418796
           ],
           "type": "Point"
          },
          "id": "18",
          "lat": 51.418796,
          "locatie": "Woensdrecht, Netherlands",
          "lon": 4.3404620000000005,
          "max": 0.00018434149387758225,
          "median": 0.0001692278019618243,
          "min": 0.0001474251115238606,
          "ministerie": "Ministerie van Defensie",
          "project": "Luchthavenbesluit Woensdrecht",
          "title": "",
          "type": "Feature"
         },
         {
          "date": "2018-12-01",
          "geometry": {
           "coordinates": [
            4.3404620000000005,
            51.418796
           ],
           "type": "Point"
          },
          "id": "18",
          "lat": 51.418796,
          "locatie": "Woensdrecht, Netherlands",
          "lon": 4.3404620000000005,
          "max": 0.00013643766578752548,
          "median": 0.00011036417708965018,
          "min": 9.792086348170415e-05,
          "ministerie": "Ministerie van Defensie",
          "project": "Luchthavenbesluit Woensdrecht",
          "title": "",
          "type": "Feature"
         },
         {
          "date": "2019-01-01",
          "geometry": {
           "coordinates": [
            4.3404620000000005,
            51.418796
           ],
           "type": "Point"
          },
          "id": "18",
          "lat": 51.418796,
          "locatie": "Woensdrecht, Netherlands",
          "lon": 4.3404620000000005,
          "max": 0.0001230295540244121,
          "median": 0.0001040721581375692,
          "min": 7.560811099923653e-05,
          "ministerie": "Ministerie van Defensie",
          "project": "Luchthavenbesluit Woensdrecht",
          "title": "",
          "type": "Feature"
         },
         {
          "date": "2019-02-01",
          "geometry": {
           "coordinates": [
            4.3404620000000005,
            51.418796
           ],
           "type": "Point"
          },
          "id": "18",
          "lat": 51.418796,
          "locatie": "Woensdrecht, Netherlands",
          "lon": 4.3404620000000005,
          "max": 0.0001998021622897246,
          "median": 0.00016881919873412699,
          "min": 0.00014131662660878951,
          "ministerie": "Ministerie van Defensie",
          "project": "Luchthavenbesluit Woensdrecht",
          "title": "",
          "type": "Feature"
         },
         {
          "date": "2019-03-01",
          "geometry": {
           "coordinates": [
            4.3404620000000005,
            51.418796
           ],
           "type": "Point"
          },
          "id": "18",
          "lat": 51.418796,
          "locatie": "Woensdrecht, Netherlands",
          "lon": 4.3404620000000005,
          "max": 0.00012294472253415734,
          "median": 9.469751620247549e-05,
          "min": 8.880787208909169e-05,
          "ministerie": "Ministerie van Defensie",
          "project": "Luchthavenbesluit Woensdrecht",
          "title": "",
          "type": "Feature"
         },
         {
          "date": "2019-04-01",
          "geometry": {
           "coordinates": [
            4.3404620000000005,
            51.418796
           ],
           "type": "Point"
          },
          "id": "18",
          "lat": 51.418796,
          "locatie": "Woensdrecht, Netherlands",
          "lon": 4.3404620000000005,
          "max": 0.00017388213640914305,
          "median": 0.00014689656622618403,
          "min": 0.00013420457253232598,
          "ministerie": "Ministerie van Defensie",
          "project": "Luchthavenbesluit Woensdrecht",
          "title": "",
          "type": "Feature"
         },
         {
          "date": "2019-05-01",
          "geometry": {
           "coordinates": [
            4.3404620000000005,
            51.418796
           ],
           "type": "Point"
          },
          "id": "18",
          "lat": 51.418796,
          "locatie": "Woensdrecht, Netherlands",
          "lon": 4.3404620000000005,
          "max": 0.00015346542690557495,
          "median": 0.0001320251467154323,
          "min": 0.0001243726836686597,
          "ministerie": "Ministerie van Defensie",
          "project": "Luchthavenbesluit Woensdrecht",
          "title": "",
          "type": "Feature"
         },
         {
          "date": "2019-06-01",
          "geometry": {
           "coordinates": [
            4.3404620000000005,
            51.418796
           ],
           "type": "Point"
          },
          "id": "18",
          "lat": 51.418796,
          "locatie": "Woensdrecht, Netherlands",
          "lon": 4.3404620000000005,
          "max": 0.00015456208230933083,
          "median": 0.00012877296407399574,
          "min": 0.00011567173129248693,
          "ministerie": "Ministerie van Defensie",
          "project": "Luchthavenbesluit Woensdrecht",
          "title": "",
          "type": "Feature"
         },
         {
          "date": "2019-07-01",
          "geometry": {
           "coordinates": [
            4.3404620000000005,
            51.418796
           ],
           "type": "Point"
          },
          "id": "18",
          "lat": 51.418796,
          "locatie": "Woensdrecht, Netherlands",
          "lon": 4.3404620000000005,
          "max": 0.00013858348289661737,
          "median": 0.00011627569068356193,
          "min": 0.00010793894794837708,
          "ministerie": "Ministerie van Defensie",
          "project": "Luchthavenbesluit Woensdrecht",
          "title": "",
          "type": "Feature"
         },
         {
          "date": "2019-08-01",
          "geometry": {
           "coordinates": [
            4.3404620000000005,
            51.418796
           ],
           "type": "Point"
          },
          "id": "18",
          "lat": 51.418796,
          "locatie": "Woensdrecht, Netherlands",
          "lon": 4.3404620000000005,
          "max": 0.0001451121279850147,
          "median": 0.00012336144252318262,
          "min": 0.00010789490021926248,
          "ministerie": "Ministerie van Defensie",
          "project": "Luchthavenbesluit Woensdrecht",
          "title": "",
          "type": "Feature"
         },
         {
          "date": "2019-09-01",
          "geometry": {
           "coordinates": [
            4.3404620000000005,
            51.418796
           ],
           "type": "Point"
          },
          "id": "18",
          "lat": 51.418796,
          "locatie": "Woensdrecht, Netherlands",
          "lon": 4.3404620000000005,
          "max": 0.00012463557697877146,
          "median": 0.00010549782952992321,
          "min": 8.016588193961592e-05,
          "ministerie": "Ministerie van Defensie",
          "project": "Luchthavenbesluit Woensdrecht",
          "title": "",
          "type": "Feature"
         },
         {
          "date": "2018-07-01",
          "geometry": {
           "coordinates": [
            5.85923,
            51.519442
           ],
           "type": "Point"
          },
          "id": "19",
          "lat": 51.519442,
          "locatie": "Luitenant-generaal Bestkazerne, Vredepeel, Netherlands",
          "lon": 5.85923,
          "max": 0.0001284567668687374,
          "median": 0.00012348493825944172,
          "min": 0.00011629258169659679,
          "ministerie": "Ministerie van Defensie",
          "project": "Luitenant Generaal Bestkazerne",
          "title": "",
          "type": "Feature"
         },
         {
          "date": "2018-08-01",
          "geometry": {
           "coordinates": [
            5.85923,
            51.519442
           ],
           "type": "Point"
          },
          "id": "19",
          "lat": 51.519442,
          "locatie": "Luitenant-generaal Bestkazerne, Vredepeel, Netherlands",
          "lon": 5.85923,
          "max": 0.00011929390890400688,
          "median": 0.00011298145131102345,
          "min": 0.00010578015997264939,
          "ministerie": "Ministerie van Defensie",
          "project": "Luitenant Generaal Bestkazerne",
          "title": "",
          "type": "Feature"
         },
         {
          "date": "2018-09-01",
          "geometry": {
           "coordinates": [
            5.85923,
            51.519442
           ],
           "type": "Point"
          },
          "id": "19",
          "lat": 51.519442,
          "locatie": "Luitenant-generaal Bestkazerne, Vredepeel, Netherlands",
          "lon": 5.85923,
          "max": 0.00015123126043731694,
          "median": 0.00013709479583283706,
          "min": 0.00013116386160819723,
          "ministerie": "Ministerie van Defensie",
          "project": "Luitenant Generaal Bestkazerne",
          "title": "",
          "type": "Feature"
         },
         {
          "date": "2018-10-01",
          "geometry": {
           "coordinates": [
            5.85923,
            51.519442
           ],
           "type": "Point"
          },
          "id": "19",
          "lat": 51.519442,
          "locatie": "Luitenant-generaal Bestkazerne, Vredepeel, Netherlands",
          "lon": 5.85923,
          "max": 0.0001406834926456213,
          "median": 0.00013003199273953214,
          "min": 0.000121959030507288,
          "ministerie": "Ministerie van Defensie",
          "project": "Luitenant Generaal Bestkazerne",
          "title": "",
          "type": "Feature"
         },
         {
          "date": "2018-11-01",
          "geometry": {
           "coordinates": [
            5.85923,
            51.519442
           ],
           "type": "Point"
          },
          "id": "19",
          "lat": 51.519442,
          "locatie": "Luitenant-generaal Bestkazerne, Vredepeel, Netherlands",
          "lon": 5.85923,
          "max": 0.00016162982285050268,
          "median": 0.00014747933892067522,
          "min": 0.00013375201792447628,
          "ministerie": "Ministerie van Defensie",
          "project": "Luitenant Generaal Bestkazerne",
          "title": "",
          "type": "Feature"
         },
         {
          "date": "2018-12-01",
          "geometry": {
           "coordinates": [
            5.85923,
            51.519442
           ],
           "type": "Point"
          },
          "id": "19",
          "lat": 51.519442,
          "locatie": "Luitenant-generaal Bestkazerne, Vredepeel, Netherlands",
          "lon": 5.85923,
          "max": 0.0001412899710445409,
          "median": 0.00012315458103298425,
          "min": 0.00010455639055051414,
          "ministerie": "Ministerie van Defensie",
          "project": "Luitenant Generaal Bestkazerne",
          "title": "",
          "type": "Feature"
         },
         {
          "date": "2019-01-01",
          "geometry": {
           "coordinates": [
            5.85923,
            51.519442
           ],
           "type": "Point"
          },
          "id": "19",
          "lat": 51.519442,
          "locatie": "Luitenant-generaal Bestkazerne, Vredepeel, Netherlands",
          "lon": 5.85923,
          "max": 0.0001473234369768761,
          "median": 0.00012367738236207515,
          "min": 0.00010971107423830509,
          "ministerie": "Ministerie van Defensie",
          "project": "Luitenant Generaal Bestkazerne",
          "title": "",
          "type": "Feature"
         },
         {
          "date": "2019-02-01",
          "geometry": {
           "coordinates": [
            5.85923,
            51.519442
           ],
           "type": "Point"
          },
          "id": "19",
          "lat": 51.519442,
          "locatie": "Luitenant-generaal Bestkazerne, Vredepeel, Netherlands",
          "lon": 5.85923,
          "max": 0.00016035507355522107,
          "median": 0.00014994489602285636,
          "min": 0.00013267146314094015,
          "ministerie": "Ministerie van Defensie",
          "project": "Luitenant Generaal Bestkazerne",
          "title": "",
          "type": "Feature"
         },
         {
          "date": "2019-03-01",
          "geometry": {
           "coordinates": [
            5.85923,
            51.519442
           ],
           "type": "Point"
          },
          "id": "19",
          "lat": 51.519442,
          "locatie": "Luitenant-generaal Bestkazerne, Vredepeel, Netherlands",
          "lon": 5.85923,
          "max": 0.00011607838695334927,
          "median": 0.00010471138761365135,
          "min": 9.674432658357546e-05,
          "ministerie": "Ministerie van Defensie",
          "project": "Luitenant Generaal Bestkazerne",
          "title": "",
          "type": "Feature"
         },
         {
          "date": "2019-04-01",
          "geometry": {
           "coordinates": [
            5.85923,
            51.519442
           ],
           "type": "Point"
          },
          "id": "19",
          "lat": 51.519442,
          "locatie": "Luitenant-generaal Bestkazerne, Vredepeel, Netherlands",
          "lon": 5.85923,
          "max": 0.0001556192188243849,
          "median": 0.00014118543064545208,
          "min": 0.00012874282116179085,
          "ministerie": "Ministerie van Defensie",
          "project": "Luitenant Generaal Bestkazerne",
          "title": "",
          "type": "Feature"
         },
         {
          "date": "2019-05-01",
          "geometry": {
           "coordinates": [
            5.85923,
            51.519442
           ],
           "type": "Point"
          },
          "id": "19",
          "lat": 51.519442,
          "locatie": "Luitenant-generaal Bestkazerne, Vredepeel, Netherlands",
          "lon": 5.85923,
          "max": 0.0001298412898904644,
          "median": 0.0001230994116164991,
          "min": 0.00011858292942607553,
          "ministerie": "Ministerie van Defensie",
          "project": "Luitenant Generaal Bestkazerne",
          "title": "",
          "type": "Feature"
         },
         {
          "date": "2019-06-01",
          "geometry": {
           "coordinates": [
            5.85923,
            51.519442
           ],
           "type": "Point"
          },
          "id": "19",
          "lat": 51.519442,
          "locatie": "Luitenant-generaal Bestkazerne, Vredepeel, Netherlands",
          "lon": 5.85923,
          "max": 0.00011615165862721214,
          "median": 0.00011137402443394821,
          "min": 0.00010155305790249258,
          "ministerie": "Ministerie van Defensie",
          "project": "Luitenant Generaal Bestkazerne",
          "title": "",
          "type": "Feature"
         },
         {
          "date": "2019-07-01",
          "geometry": {
           "coordinates": [
            5.85923,
            51.519442
           ],
           "type": "Point"
          },
          "id": "19",
          "lat": 51.519442,
          "locatie": "Luitenant-generaal Bestkazerne, Vredepeel, Netherlands",
          "lon": 5.85923,
          "max": 0.0001133291522015687,
          "median": 0.00010522052211031166,
          "min": 0.0001005442614280241,
          "ministerie": "Ministerie van Defensie",
          "project": "Luitenant Generaal Bestkazerne",
          "title": "",
          "type": "Feature"
         },
         {
          "date": "2019-08-01",
          "geometry": {
           "coordinates": [
            5.85923,
            51.519442
           ],
           "type": "Point"
          },
          "id": "19",
          "lat": 51.519442,
          "locatie": "Luitenant-generaal Bestkazerne, Vredepeel, Netherlands",
          "lon": 5.85923,
          "max": 0.0001129208708217782,
          "median": 0.00010741421129585329,
          "min": 9.615919621727475e-05,
          "ministerie": "Ministerie van Defensie",
          "project": "Luitenant Generaal Bestkazerne",
          "title": "",
          "type": "Feature"
         },
         {
          "date": "2019-09-01",
          "geometry": {
           "coordinates": [
            5.85923,
            51.519442
           ],
           "type": "Point"
          },
          "id": "19",
          "lat": 51.519442,
          "locatie": "Luitenant-generaal Bestkazerne, Vredepeel, Netherlands",
          "lon": 5.85923,
          "max": 0.00011956759408349171,
          "median": 0.00010486453848973963,
          "min": 9.836085027349959e-05,
          "ministerie": "Ministerie van Defensie",
          "project": "Luitenant Generaal Bestkazerne",
          "title": "",
          "type": "Feature"
         },
         {
          "date": "2018-07-01",
          "geometry": {
           "coordinates": [
            5.8971599999999995,
            52.40603
           ],
           "type": "Point"
          },
          "id": "20",
          "lat": 52.40603,
          "locatie": "Luitenant-kolonel Tonnetkazerne, 't Harde, Netherlands",
          "lon": 5.8971599999999995,
          "max": 0.00011192320380359888,
          "median": 0.00010484156518941745,
          "min": 9.959695561721494e-05,
          "ministerie": "Ministerie van Defensie",
          "project": "Luitenant Kolonel Tonnetkazerne",
          "title": "",
          "type": "Feature"
         },
         {
          "date": "2018-08-01",
          "geometry": {
           "coordinates": [
            5.8971599999999995,
            52.40603
           ],
           "type": "Point"
          },
          "id": "20",
          "lat": 52.40603,
          "locatie": "Luitenant-kolonel Tonnetkazerne, 't Harde, Netherlands",
          "lon": 5.8971599999999995,
          "max": 0.00010973471623361222,
          "median": 0.00010401688328886031,
          "min": 9.957462316378951e-05,
          "ministerie": "Ministerie van Defensie",
          "project": "Luitenant Kolonel Tonnetkazerne",
          "title": "",
          "type": "Feature"
         },
         {
          "date": "2018-09-01",
          "geometry": {
           "coordinates": [
            5.8971599999999995,
            52.40603
           ],
           "type": "Point"
          },
          "id": "20",
          "lat": 52.40603,
          "locatie": "Luitenant-kolonel Tonnetkazerne, 't Harde, Netherlands",
          "lon": 5.8971599999999995,
          "max": 0.00014240502603729988,
          "median": 0.00012591528502525762,
          "min": 0.00011529066038475816,
          "ministerie": "Ministerie van Defensie",
          "project": "Luitenant Kolonel Tonnetkazerne",
          "title": "",
          "type": "Feature"
         },
         {
          "date": "2018-10-01",
          "geometry": {
           "coordinates": [
            5.8971599999999995,
            52.40603
           ],
           "type": "Point"
          },
          "id": "20",
          "lat": 52.40603,
          "locatie": "Luitenant-kolonel Tonnetkazerne, 't Harde, Netherlands",
          "lon": 5.8971599999999995,
          "max": 0.00011707690299604925,
          "median": 0.0001031863027596326,
          "min": 9.695463813841343e-05,
          "ministerie": "Ministerie van Defensie",
          "project": "Luitenant Kolonel Tonnetkazerne",
          "title": "",
          "type": "Feature"
         },
         {
          "date": "2018-11-01",
          "geometry": {
           "coordinates": [
            5.8971599999999995,
            52.40603
           ],
           "type": "Point"
          },
          "id": "20",
          "lat": 52.40603,
          "locatie": "Luitenant-kolonel Tonnetkazerne, 't Harde, Netherlands",
          "lon": 5.8971599999999995,
          "max": 0.00014677984990815258,
          "median": 0.00013157813979877998,
          "min": 0.00012293655890971422,
          "ministerie": "Ministerie van Defensie",
          "project": "Luitenant Kolonel Tonnetkazerne",
          "title": "",
          "type": "Feature"
         },
         {
          "date": "2018-12-01",
          "geometry": {
           "coordinates": [
            5.8971599999999995,
            52.40603
           ],
           "type": "Point"
          },
          "id": "20",
          "lat": 52.40603,
          "locatie": "Luitenant-kolonel Tonnetkazerne, 't Harde, Netherlands",
          "lon": 5.8971599999999995,
          "max": 0.0001037789713046262,
          "median": 9.487784154757447e-05,
          "min": 7.306288898689672e-05,
          "ministerie": "Ministerie van Defensie",
          "project": "Luitenant Kolonel Tonnetkazerne",
          "title": "",
          "type": "Feature"
         },
         {
          "date": "2019-01-01",
          "geometry": {
           "coordinates": [
            5.8971599999999995,
            52.40603
           ],
           "type": "Point"
          },
          "id": "20",
          "lat": 52.40603,
          "locatie": "Luitenant-kolonel Tonnetkazerne, 't Harde, Netherlands",
          "lon": 5.8971599999999995,
          "max": 0.00010731284312655127,
          "median": 8.182181015992088e-05,
          "min": 7.29131332363582e-05,
          "ministerie": "Ministerie van Defensie",
          "project": "Luitenant Kolonel Tonnetkazerne",
          "title": "",
          "type": "Feature"
         },
         {
          "date": "2019-02-01",
          "geometry": {
           "coordinates": [
            5.8971599999999995,
            52.40603
           ],
           "type": "Point"
          },
          "id": "20",
          "lat": 52.40603,
          "locatie": "Luitenant-kolonel Tonnetkazerne, 't Harde, Netherlands",
          "lon": 5.8971599999999995,
          "max": 0.0001548749161565359,
          "median": 0.000144293579181405,
          "min": 0.00013750460036351348,
          "ministerie": "Ministerie van Defensie",
          "project": "Luitenant Kolonel Tonnetkazerne",
          "title": "",
          "type": "Feature"
         },
         {
          "date": "2019-03-01",
          "geometry": {
           "coordinates": [
            5.8971599999999995,
            52.40603
           ],
           "type": "Point"
          },
          "id": "20",
          "lat": 52.40603,
          "locatie": "Luitenant-kolonel Tonnetkazerne, 't Harde, Netherlands",
          "lon": 5.8971599999999995,
          "max": 0.00011363557249981954,
          "median": 9.586147765325957e-05,
          "min": 8.035160967523103e-05,
          "ministerie": "Ministerie van Defensie",
          "project": "Luitenant Kolonel Tonnetkazerne",
          "title": "",
          "type": "Feature"
         },
         {
          "date": "2019-04-01",
          "geometry": {
           "coordinates": [
            5.8971599999999995,
            52.40603
           ],
           "type": "Point"
          },
          "id": "20",
          "lat": 52.40603,
          "locatie": "Luitenant-kolonel Tonnetkazerne, 't Harde, Netherlands",
          "lon": 5.8971599999999995,
          "max": 0.00011254605645690747,
          "median": 0.00010645966069042542,
          "min": 0.0001006157270275209,
          "ministerie": "Ministerie van Defensie",
          "project": "Luitenant Kolonel Tonnetkazerne",
          "title": "",
          "type": "Feature"
         },
         {
          "date": "2019-05-01",
          "geometry": {
           "coordinates": [
            5.8971599999999995,
            52.40603
           ],
           "type": "Point"
          },
          "id": "20",
          "lat": 52.40603,
          "locatie": "Luitenant-kolonel Tonnetkazerne, 't Harde, Netherlands",
          "lon": 5.8971599999999995,
          "max": 0.00010892084635077718,
          "median": 0.00010202182602370158,
          "min": 9.83172362532656e-05,
          "ministerie": "Ministerie van Defensie",
          "project": "Luitenant Kolonel Tonnetkazerne",
          "title": "",
          "type": "Feature"
         },
         {
          "date": "2019-06-01",
          "geometry": {
           "coordinates": [
            5.8971599999999995,
            52.40603
           ],
           "type": "Point"
          },
          "id": "20",
          "lat": 52.40603,
          "locatie": "Luitenant-kolonel Tonnetkazerne, 't Harde, Netherlands",
          "lon": 5.8971599999999995,
          "max": 0.00011161237781892011,
          "median": 0.00010247285782347641,
          "min": 9.887758934025751e-05,
          "ministerie": "Ministerie van Defensie",
          "project": "Luitenant Kolonel Tonnetkazerne",
          "title": "",
          "type": "Feature"
         },
         {
          "date": "2019-07-01",
          "geometry": {
           "coordinates": [
            5.8971599999999995,
            52.40603
           ],
           "type": "Point"
          },
          "id": "20",
          "lat": 52.40603,
          "locatie": "Luitenant-kolonel Tonnetkazerne, 't Harde, Netherlands",
          "lon": 5.8971599999999995,
          "max": 0.00010199109502957306,
          "median": 9.580456038692678e-05,
          "min": 8.903080015443265e-05,
          "ministerie": "Ministerie van Defensie",
          "project": "Luitenant Kolonel Tonnetkazerne",
          "title": "",
          "type": "Feature"
         },
         {
          "date": "2019-08-01",
          "geometry": {
           "coordinates": [
            5.8971599999999995,
            52.40603
           ],
           "type": "Point"
          },
          "id": "20",
          "lat": 52.40603,
          "locatie": "Luitenant-kolonel Tonnetkazerne, 't Harde, Netherlands",
          "lon": 5.8971599999999995,
          "max": 0.00011573561593572734,
          "median": 0.00011114983887984547,
          "min": 0.00010435567721524657,
          "ministerie": "Ministerie van Defensie",
          "project": "Luitenant Kolonel Tonnetkazerne",
          "title": "",
          "type": "Feature"
         },
         {
          "date": "2019-09-01",
          "geometry": {
           "coordinates": [
            5.8971599999999995,
            52.40603
           ],
           "type": "Point"
          },
          "id": "20",
          "lat": 52.40603,
          "locatie": "Luitenant-kolonel Tonnetkazerne, 't Harde, Netherlands",
          "lon": 5.8971599999999995,
          "max": 0.0001221005222760141,
          "median": 9.354110248208032e-05,
          "min": 8.340571031250385e-05,
          "ministerie": "Ministerie van Defensie",
          "project": "Luitenant Kolonel Tonnetkazerne",
          "title": "",
          "type": "Feature"
         },
         {
          "date": "2018-07-01",
          "geometry": {
           "coordinates": [
            4.492073,
            52.158342
           ],
           "type": "Point"
          },
          "id": "21",
          "lat": 52.158342,
          "locatie": "Etablissement Einstein, Leiden, Netherlands",
          "lon": 4.492073,
          "max": 0.00013231857660577536,
          "median": 0.00012321311805862933,
          "min": 0.00011560554827562453,
          "ministerie": "Ministerie van Defensie",
          "project": "Marine Etablissement Amsterdam",
          "title": "",
          "type": "Feature"
         },
         {
          "date": "2018-08-01",
          "geometry": {
           "coordinates": [
            4.492073,
            52.158342
           ],
           "type": "Point"
          },
          "id": "21",
          "lat": 52.158342,
          "locatie": "Etablissement Einstein, Leiden, Netherlands",
          "lon": 4.492073,
          "max": 0.00011843873725245747,
          "median": 0.00010802014518577338,
          "min": 9.934257832355797e-05,
          "ministerie": "Ministerie van Defensie",
          "project": "Marine Etablissement Amsterdam",
          "title": "",
          "type": "Feature"
         },
         {
          "date": "2018-09-01",
          "geometry": {
           "coordinates": [
            4.492073,
            52.158342
           ],
           "type": "Point"
          },
          "id": "21",
          "lat": 52.158342,
          "locatie": "Etablissement Einstein, Leiden, Netherlands",
          "lon": 4.492073,
          "max": 0.00014478744790009254,
          "median": 0.00012409679384782707,
          "min": 0.00011468116569791686,
          "ministerie": "Ministerie van Defensie",
          "project": "Marine Etablissement Amsterdam",
          "title": "",
          "type": "Feature"
         },
         {
          "date": "2018-10-01",
          "geometry": {
           "coordinates": [
            4.492073,
            52.158342
           ],
           "type": "Point"
          },
          "id": "21",
          "lat": 52.158342,
          "locatie": "Etablissement Einstein, Leiden, Netherlands",
          "lon": 4.492073,
          "max": 0.0001450071285944432,
          "median": 0.00012661211815216656,
          "min": 0.00011184594768565148,
          "ministerie": "Ministerie van Defensie",
          "project": "Marine Etablissement Amsterdam",
          "title": "",
          "type": "Feature"
         },
         {
          "date": "2018-11-01",
          "geometry": {
           "coordinates": [
            4.492073,
            52.158342
           ],
           "type": "Point"
          },
          "id": "21",
          "lat": 52.158342,
          "locatie": "Etablissement Einstein, Leiden, Netherlands",
          "lon": 4.492073,
          "max": 0.0001664924930082634,
          "median": 0.00014788749103900045,
          "min": 0.0001330578331483238,
          "ministerie": "Ministerie van Defensie",
          "project": "Marine Etablissement Amsterdam",
          "title": "",
          "type": "Feature"
         },
         {
          "date": "2018-12-01",
          "geometry": {
           "coordinates": [
            4.492073,
            52.158342
           ],
           "type": "Point"
          },
          "id": "21",
          "lat": 52.158342,
          "locatie": "Etablissement Einstein, Leiden, Netherlands",
          "lon": 4.492073,
          "max": 0.00011828614815077522,
          "median": 9.724443225422874e-05,
          "min": 8.551550461090244e-05,
          "ministerie": "Ministerie van Defensie",
          "project": "Marine Etablissement Amsterdam",
          "title": "",
          "type": "Feature"
         },
         {
          "date": "2019-01-01",
          "geometry": {
           "coordinates": [
            4.492073,
            52.158342
           ],
           "type": "Point"
          },
          "id": "21",
          "lat": 52.158342,
          "locatie": "Etablissement Einstein, Leiden, Netherlands",
          "lon": 4.492073,
          "max": 7.146457210183144e-05,
          "median": 5.963588409940712e-05,
          "min": 5.2156232413835824e-05,
          "ministerie": "Ministerie van Defensie",
          "project": "Marine Etablissement Amsterdam",
          "title": "",
          "type": "Feature"
         },
         {
          "date": "2019-02-01",
          "geometry": {
           "coordinates": [
            4.492073,
            52.158342
           ],
           "type": "Point"
          },
          "id": "21",
          "lat": 52.158342,
          "locatie": "Etablissement Einstein, Leiden, Netherlands",
          "lon": 4.492073,
          "max": 0.00018332932198069968,
          "median": 0.00015475287630993943,
          "min": 0.000138564916738613,
          "ministerie": "Ministerie van Defensie",
          "project": "Marine Etablissement Amsterdam",
          "title": "",
          "type": "Feature"
         },
         {
          "date": "2019-03-01",
          "geometry": {
           "coordinates": [
            4.492073,
            52.158342
           ],
           "type": "Point"
          },
          "id": "21",
          "lat": 52.158342,
          "locatie": "Etablissement Einstein, Leiden, Netherlands",
          "lon": 4.492073,
          "max": 0.00010341017689012679,
          "median": 9.385315231054127e-05,
          "min": 8.786998117349562e-05,
          "ministerie": "Ministerie van Defensie",
          "project": "Marine Etablissement Amsterdam",
          "title": "",
          "type": "Feature"
         },
         {
          "date": "2019-04-01",
          "geometry": {
           "coordinates": [
            4.492073,
            52.158342
           ],
           "type": "Point"
          },
          "id": "21",
          "lat": 52.158342,
          "locatie": "Etablissement Einstein, Leiden, Netherlands",
          "lon": 4.492073,
          "max": 0.00013887322994998193,
          "median": 0.0001334982940479447,
          "min": 0.0001224100906080824,
          "ministerie": "Ministerie van Defensie",
          "project": "Marine Etablissement Amsterdam",
          "title": "",
          "type": "Feature"
         },
         {
          "date": "2019-05-01",
          "geometry": {
           "coordinates": [
            4.492073,
            52.158342
           ],
           "type": "Point"
          },
          "id": "21",
          "lat": 52.158342,
          "locatie": "Etablissement Einstein, Leiden, Netherlands",
          "lon": 4.492073,
          "max": 0.00011861950611575895,
          "median": 0.0001142497884021097,
          "min": 0.00010842367919394746,
          "ministerie": "Ministerie van Defensie",
          "project": "Marine Etablissement Amsterdam",
          "title": "",
          "type": "Feature"
         },
         {
          "date": "2019-06-01",
          "geometry": {
           "coordinates": [
            4.492073,
            52.158342
           ],
           "type": "Point"
          },
          "id": "21",
          "lat": 52.158342,
          "locatie": "Etablissement Einstein, Leiden, Netherlands",
          "lon": 4.492073,
          "max": 0.00012976144721494774,
          "median": 0.00011972508487237123,
          "min": 0.0001137015147130313,
          "ministerie": "Ministerie van Defensie",
          "project": "Marine Etablissement Amsterdam",
          "title": "",
          "type": "Feature"
         },
         {
          "date": "2019-07-01",
          "geometry": {
           "coordinates": [
            4.492073,
            52.158342
           ],
           "type": "Point"
          },
          "id": "21",
          "lat": 52.158342,
          "locatie": "Etablissement Einstein, Leiden, Netherlands",
          "lon": 4.492073,
          "max": 0.00011644324865943226,
          "median": 0.00010435311314895256,
          "min": 9.766312179304476e-05,
          "ministerie": "Ministerie van Defensie",
          "project": "Marine Etablissement Amsterdam",
          "title": "",
          "type": "Feature"
         },
         {
          "date": "2019-08-01",
          "geometry": {
           "coordinates": [
            4.492073,
            52.158342
           ],
           "type": "Point"
          },
          "id": "21",
          "lat": 52.158342,
          "locatie": "Etablissement Einstein, Leiden, Netherlands",
          "lon": 4.492073,
          "max": 0.00011334032520295449,
          "median": 0.00010595766798360273,
          "min": 9.818217949941754e-05,
          "ministerie": "Ministerie van Defensie",
          "project": "Marine Etablissement Amsterdam",
          "title": "",
          "type": "Feature"
         },
         {
          "date": "2019-09-01",
          "geometry": {
           "coordinates": [
            4.492073,
            52.158342
           ],
           "type": "Point"
          },
          "id": "21",
          "lat": 52.158342,
          "locatie": "Etablissement Einstein, Leiden, Netherlands",
          "lon": 4.492073,
          "max": 9.23751067603007e-05,
          "median": 7.896795068518259e-05,
          "min": 7.444173955126613e-05,
          "ministerie": "Ministerie van Defensie",
          "project": "Marine Etablissement Amsterdam",
          "title": "",
          "type": "Feature"
         },
         {
          "date": "2018-07-01",
          "geometry": {
           "coordinates": [
            3.6185059999999996,
            51.459208000000004
           ],
           "type": "Point"
          },
          "id": "22",
          "lat": 51.459208000000004,
          "locatie": "Vlissingen, Netherlands",
          "lon": 3.6185059999999996,
          "max": 0.00012800188739684972,
          "median": 0.00011702955985280262,
          "min": 0.00010577994703721887,
          "ministerie": "Ministerie van Defensie",
          "project": "Marine Kazerne Vlissingen",
          "title": "",
          "type": "Feature"
         },
         {
          "date": "2018-08-01",
          "geometry": {
           "coordinates": [
            3.6185059999999996,
            51.459208000000004
           ],
           "type": "Point"
          },
          "id": "22",
          "lat": 51.459208000000004,
          "locatie": "Vlissingen, Netherlands",
          "lon": 3.6185059999999996,
          "max": 0.00010675239048657307,
          "median": 0.00010013905013295823,
          "min": 8.914541831472889e-05,
          "ministerie": "Ministerie van Defensie",
          "project": "Marine Kazerne Vlissingen",
          "title": "",
          "type": "Feature"
         },
         {
          "date": "2018-09-01",
          "geometry": {
           "coordinates": [
            3.6185059999999996,
            51.459208000000004
           ],
           "type": "Point"
          },
          "id": "22",
          "lat": 51.459208000000004,
          "locatie": "Vlissingen, Netherlands",
          "lon": 3.6185059999999996,
          "max": 0.00012134326243540272,
          "median": 0.0001065545305524391,
          "min": 9.300831879954785e-05,
          "ministerie": "Ministerie van Defensie",
          "project": "Marine Kazerne Vlissingen",
          "title": "",
          "type": "Feature"
         },
         {
          "date": "2018-10-01",
          "geometry": {
           "coordinates": [
            3.6185059999999996,
            51.459208000000004
           ],
           "type": "Point"
          },
          "id": "22",
          "lat": 51.459208000000004,
          "locatie": "Vlissingen, Netherlands",
          "lon": 3.6185059999999996,
          "max": 0.00012470428352251173,
          "median": 0.00011125668902341373,
          "min": 9.454291441690461e-05,
          "ministerie": "Ministerie van Defensie",
          "project": "Marine Kazerne Vlissingen",
          "title": "",
          "type": "Feature"
         },
         {
          "date": "2018-11-01",
          "geometry": {
           "coordinates": [
            3.6185059999999996,
            51.459208000000004
           ],
           "type": "Point"
          },
          "id": "22",
          "lat": 51.459208000000004,
          "locatie": "Vlissingen, Netherlands",
          "lon": 3.6185059999999996,
          "max": 0.00015892905597517887,
          "median": 0.00013806543976607744,
          "min": 0.00012314423672286218,
          "ministerie": "Ministerie van Defensie",
          "project": "Marine Kazerne Vlissingen",
          "title": "",
          "type": "Feature"
         },
         {
          "date": "2018-12-01",
          "geometry": {
           "coordinates": [
            3.6185059999999996,
            51.459208000000004
           ],
           "type": "Point"
          },
          "id": "22",
          "lat": 51.459208000000004,
          "locatie": "Vlissingen, Netherlands",
          "lon": 3.6185059999999996,
          "max": 0.00010074452438857406,
          "median": 8.818175951389053e-05,
          "min": 7.551675726367955e-05,
          "ministerie": "Ministerie van Defensie",
          "project": "Marine Kazerne Vlissingen",
          "title": "",
          "type": "Feature"
         },
         {
          "date": "2019-01-01",
          "geometry": {
           "coordinates": [
            3.6185059999999996,
            51.459208000000004
           ],
           "type": "Point"
          },
          "id": "22",
          "lat": 51.459208000000004,
          "locatie": "Vlissingen, Netherlands",
          "lon": 3.6185059999999996,
          "max": 8.551656629865452e-05,
          "median": 7.012090395856782e-05,
          "min": 5.165921902516857e-05,
          "ministerie": "Ministerie van Defensie",
          "project": "Marine Kazerne Vlissingen",
          "title": "",
          "type": "Feature"
         },
         {
          "date": "2019-02-01",
          "geometry": {
           "coordinates": [
            3.6185059999999996,
            51.459208000000004
           ],
           "type": "Point"
          },
          "id": "22",
          "lat": 51.459208000000004,
          "locatie": "Vlissingen, Netherlands",
          "lon": 3.6185059999999996,
          "max": 0.0001740931038511917,
          "median": 0.00015585913987999268,
          "min": 0.00013541544464454154,
          "ministerie": "Ministerie van Defensie",
          "project": "Marine Kazerne Vlissingen",
          "title": "",
          "type": "Feature"
         },
         {
          "date": "2019-03-01",
          "geometry": {
           "coordinates": [
            3.6185059999999996,
            51.459208000000004
           ],
           "type": "Point"
          },
          "id": "22",
          "lat": 51.459208000000004,
          "locatie": "Vlissingen, Netherlands",
          "lon": 3.6185059999999996,
          "max": 0.0001083970784170611,
          "median": 9.542635015435326e-05,
          "min": 8.365996473003179e-05,
          "ministerie": "Ministerie van Defensie",
          "project": "Marine Kazerne Vlissingen",
          "title": "",
          "type": "Feature"
         },
         {
          "date": "2019-04-01",
          "geometry": {
           "coordinates": [
            3.6185059999999996,
            51.459208000000004
           ],
           "type": "Point"
          },
          "id": "22",
          "lat": 51.459208000000004,
          "locatie": "Vlissingen, Netherlands",
          "lon": 3.6185059999999996,
          "max": 0.00017762099741958082,
          "median": 0.00016570700972806662,
          "min": 0.00015428935876116157,
          "ministerie": "Ministerie van Defensie",
          "project": "Marine Kazerne Vlissingen",
          "title": "",
          "type": "Feature"
         },
         {
          "date": "2019-05-01",
          "geometry": {
           "coordinates": [
            3.6185059999999996,
            51.459208000000004
           ],
           "type": "Point"
          },
          "id": "22",
          "lat": 51.459208000000004,
          "locatie": "Vlissingen, Netherlands",
          "lon": 3.6185059999999996,
          "max": 0.00011692577754729427,
          "median": 0.00010967490966792678,
          "min": 0.00010139553342014551,
          "ministerie": "Ministerie van Defensie",
          "project": "Marine Kazerne Vlissingen",
          "title": "",
          "type": "Feature"
         },
         {
          "date": "2019-06-01",
          "geometry": {
           "coordinates": [
            3.6185059999999996,
            51.459208000000004
           ],
           "type": "Point"
          },
          "id": "22",
          "lat": 51.459208000000004,
          "locatie": "Vlissingen, Netherlands",
          "lon": 3.6185059999999996,
          "max": 0.00012909764308734347,
          "median": 0.000119236851105328,
          "min": 0.00011087033962486708,
          "ministerie": "Ministerie van Defensie",
          "project": "Marine Kazerne Vlissingen",
          "title": "",
          "type": "Feature"
         },
         {
          "date": "2019-07-01",
          "geometry": {
           "coordinates": [
            3.6185059999999996,
            51.459208000000004
           ],
           "type": "Point"
          },
          "id": "22",
          "lat": 51.459208000000004,
          "locatie": "Vlissingen, Netherlands",
          "lon": 3.6185059999999996,
          "max": 0.00011515878577483818,
          "median": 0.00010700852142558758,
          "min": 9.738371591083705e-05,
          "ministerie": "Ministerie van Defensie",
          "project": "Marine Kazerne Vlissingen",
          "title": "",
          "type": "Feature"
         },
         {
          "date": "2019-08-01",
          "geometry": {
           "coordinates": [
            3.6185059999999996,
            51.459208000000004
           ],
           "type": "Point"
          },
          "id": "22",
          "lat": 51.459208000000004,
          "locatie": "Vlissingen, Netherlands",
          "lon": 3.6185059999999996,
          "max": 0.00011413264455717146,
          "median": 0.00010979823384895514,
          "min": 9.763066085497292e-05,
          "ministerie": "Ministerie van Defensie",
          "project": "Marine Kazerne Vlissingen",
          "title": "",
          "type": "Feature"
         },
         {
          "date": "2019-09-01",
          "geometry": {
           "coordinates": [
            3.6185059999999996,
            51.459208000000004
           ],
           "type": "Point"
          },
          "id": "22",
          "lat": 51.459208000000004,
          "locatie": "Vlissingen, Netherlands",
          "lon": 3.6185059999999996,
          "max": 9.963509000954218e-05,
          "median": 9.370298106605761e-05,
          "min": 8.10526980785653e-05,
          "ministerie": "Ministerie van Defensie",
          "project": "Marine Kazerne Vlissingen",
          "title": "",
          "type": "Feature"
         },
         {
          "date": "2018-07-01",
          "geometry": {
           "coordinates": [
            4.737929,
            52.960141
           ],
           "type": "Point"
          },
          "id": "23",
          "lat": 52.960141,
          "locatie": "Fort Erfprins, Den Helder, Netherlands",
          "lon": 4.737929,
          "max": 0.00010205414010141576,
          "median": 9.640375668276714e-05,
          "min": 8.951890448740448e-05,
          "ministerie": "Ministerie van Defensie",
          "project": "Marinekazerne Erfprins",
          "title": "",
          "type": "Feature"
         },
         {
          "date": "2018-08-01",
          "geometry": {
           "coordinates": [
            4.737929,
            52.960141
           ],
           "type": "Point"
          },
          "id": "23",
          "lat": 52.960141,
          "locatie": "Fort Erfprins, Den Helder, Netherlands",
          "lon": 4.737929,
          "max": 8.909001758992933e-05,
          "median": 8.533082655048929e-05,
          "min": 8.022900874493644e-05,
          "ministerie": "Ministerie van Defensie",
          "project": "Marinekazerne Erfprins",
          "title": "",
          "type": "Feature"
         },
         {
          "date": "2018-09-01",
          "geometry": {
           "coordinates": [
            4.737929,
            52.960141
           ],
           "type": "Point"
          },
          "id": "23",
          "lat": 52.960141,
          "locatie": "Fort Erfprins, Den Helder, Netherlands",
          "lon": 4.737929,
          "max": 0.000104169511320394,
          "median": 9.633521768064867e-05,
          "min": 8.436208435859963e-05,
          "ministerie": "Ministerie van Defensie",
          "project": "Marinekazerne Erfprins",
          "title": "",
          "type": "Feature"
         },
         {
          "date": "2018-10-01",
          "geometry": {
           "coordinates": [
            4.737929,
            52.960141
           ],
           "type": "Point"
          },
          "id": "23",
          "lat": 52.960141,
          "locatie": "Fort Erfprins, Den Helder, Netherlands",
          "lon": 4.737929,
          "max": 8.839328297922464e-05,
          "median": 8.234925105282296e-05,
          "min": 7.230208623437786e-05,
          "ministerie": "Ministerie van Defensie",
          "project": "Marinekazerne Erfprins",
          "title": "",
          "type": "Feature"
         },
         {
          "date": "2018-11-01",
          "geometry": {
           "coordinates": [
            4.737929,
            52.960141
           ],
           "type": "Point"
          },
          "id": "23",
          "lat": 52.960141,
          "locatie": "Fort Erfprins, Den Helder, Netherlands",
          "lon": 4.737929,
          "max": 0.0001282115263165906,
          "median": 0.00011063827417018645,
          "min": 9.390095281709046e-05,
          "ministerie": "Ministerie van Defensie",
          "project": "Marinekazerne Erfprins",
          "title": "",
          "type": "Feature"
         },
         {
          "date": "2018-12-01",
          "geometry": {
           "coordinates": [
            4.737929,
            52.960141
           ],
           "type": "Point"
          },
          "id": "23",
          "lat": 52.960141,
          "locatie": "Fort Erfprins, Den Helder, Netherlands",
          "lon": 4.737929,
          "max": 8.444064951618202e-05,
          "median": 6.83930229570251e-05,
          "min": 5.905972284381278e-05,
          "ministerie": "Ministerie van Defensie",
          "project": "Marinekazerne Erfprins",
          "title": "",
          "type": "Feature"
         },
         {
          "date": "2019-01-01",
          "geometry": {
           "coordinates": [
            4.737929,
            52.960141
           ],
           "type": "Point"
          },
          "id": "23",
          "lat": 52.960141,
          "locatie": "Fort Erfprins, Den Helder, Netherlands",
          "lon": 4.737929,
          "max": 4.928521593683399e-05,
          "median": 4.2558737965987657e-05,
          "min": 3.4650885936571285e-05,
          "ministerie": "Ministerie van Defensie",
          "project": "Marinekazerne Erfprins",
          "title": "",
          "type": "Feature"
         },
         {
          "date": "2019-02-01",
          "geometry": {
           "coordinates": [
            4.737929,
            52.960141
           ],
           "type": "Point"
          },
          "id": "23",
          "lat": 52.960141,
          "locatie": "Fort Erfprins, Den Helder, Netherlands",
          "lon": 4.737929,
          "max": 0.00013803050679922024,
          "median": 0.0001318398796847519,
          "min": 0.00011529331771679285,
          "ministerie": "Ministerie van Defensie",
          "project": "Marinekazerne Erfprins",
          "title": "",
          "type": "Feature"
         },
         {
          "date": "2019-03-01",
          "geometry": {
           "coordinates": [
            4.737929,
            52.960141
           ],
           "type": "Point"
          },
          "id": "23",
          "lat": 52.960141,
          "locatie": "Fort Erfprins, Den Helder, Netherlands",
          "lon": 4.737929,
          "max": 8.446200648793128e-05,
          "median": 7.735051622148603e-05,
          "min": 6.978150498800373e-05,
          "ministerie": "Ministerie van Defensie",
          "project": "Marinekazerne Erfprins",
          "title": "",
          "type": "Feature"
         },
         {
          "date": "2019-04-01",
          "geometry": {
           "coordinates": [
            4.737929,
            52.960141
           ],
           "type": "Point"
          },
          "id": "23",
          "lat": 52.960141,
          "locatie": "Fort Erfprins, Den Helder, Netherlands",
          "lon": 4.737929,
          "max": 0.00010347791960173203,
          "median": 9.818152368079708e-05,
          "min": 9.208896020579427e-05,
          "ministerie": "Ministerie van Defensie",
          "project": "Marinekazerne Erfprins",
          "title": "",
          "type": "Feature"
         },
         {
          "date": "2019-05-01",
          "geometry": {
           "coordinates": [
            4.737929,
            52.960141
           ],
           "type": "Point"
          },
          "id": "23",
          "lat": 52.960141,
          "locatie": "Fort Erfprins, Den Helder, Netherlands",
          "lon": 4.737929,
          "max": 0.00010232016217362624,
          "median": 9.596192899287255e-05,
          "min": 9.075868630902052e-05,
          "ministerie": "Ministerie van Defensie",
          "project": "Marinekazerne Erfprins",
          "title": "",
          "type": "Feature"
         },
         {
          "date": "2019-06-01",
          "geometry": {
           "coordinates": [
            4.737929,
            52.960141
           ],
           "type": "Point"
          },
          "id": "23",
          "lat": 52.960141,
          "locatie": "Fort Erfprins, Den Helder, Netherlands",
          "lon": 4.737929,
          "max": 0.00011449203620584488,
          "median": 0.00010594195109760212,
          "min": 0.00010159708745634259,
          "ministerie": "Ministerie van Defensie",
          "project": "Marinekazerne Erfprins",
          "title": "",
          "type": "Feature"
         },
         {
          "date": "2019-07-01",
          "geometry": {
           "coordinates": [
            4.737929,
            52.960141
           ],
           "type": "Point"
          },
          "id": "23",
          "lat": 52.960141,
          "locatie": "Fort Erfprins, Den Helder, Netherlands",
          "lon": 4.737929,
          "max": 9.779848187463358e-05,
          "median": 9.459755525125661e-05,
          "min": 8.835556809973674e-05,
          "ministerie": "Ministerie van Defensie",
          "project": "Marinekazerne Erfprins",
          "title": "",
          "type": "Feature"
         },
         {
          "date": "2019-08-01",
          "geometry": {
           "coordinates": [
            4.737929,
            52.960141
           ],
           "type": "Point"
          },
          "id": "23",
          "lat": 52.960141,
          "locatie": "Fort Erfprins, Den Helder, Netherlands",
          "lon": 4.737929,
          "max": 9.769995085662231e-05,
          "median": 9.194759658172721e-05,
          "min": 8.758283802652407e-05,
          "ministerie": "Ministerie van Defensie",
          "project": "Marinekazerne Erfprins",
          "title": "",
          "type": "Feature"
         },
         {
          "date": "2019-09-01",
          "geometry": {
           "coordinates": [
            4.737929,
            52.960141
           ],
           "type": "Point"
          },
          "id": "23",
          "lat": 52.960141,
          "locatie": "Fort Erfprins, Den Helder, Netherlands",
          "lon": 4.737929,
          "max": 8.123907537083142e-05,
          "median": 7.585146642311041e-05,
          "min": 7.060359672786111e-05,
          "ministerie": "Ministerie van Defensie",
          "project": "Marinekazerne Erfprins",
          "title": "",
          "type": "Feature"
         },
         {
          "date": "2018-07-01",
          "geometry": {
           "coordinates": [
            6.393889,
            53.040779
           ],
           "type": "Point"
          },
          "id": "25",
          "lat": 53.040779,
          "locatie": "Veenhuizen, Netherlands",
          "lon": 6.393889,
          "max": 9.804567024333991e-05,
          "median": 9.361045780949816e-05,
          "min": 8.9805985714073e-05,
          "ministerie": "Ministerie van Defensie",
          "project": "MMC-Veenhuizen",
          "title": "",
          "type": "Feature"
         },
         {
          "date": "2018-08-01",
          "geometry": {
           "coordinates": [
            6.393889,
            53.040779
           ],
           "type": "Point"
          },
          "id": "25",
          "lat": 53.040779,
          "locatie": "Veenhuizen, Netherlands",
          "lon": 6.393889,
          "max": 9.759098788935058e-05,
          "median": 9.109784840121823e-05,
          "min": 8.715157678128844e-05,
          "ministerie": "Ministerie van Defensie",
          "project": "MMC-Veenhuizen",
          "title": "",
          "type": "Feature"
         },
         {
          "date": "2018-09-01",
          "geometry": {
           "coordinates": [
            6.393889,
            53.040779
           ],
           "type": "Point"
          },
          "id": "25",
          "lat": 53.040779,
          "locatie": "Veenhuizen, Netherlands",
          "lon": 6.393889,
          "max": 0.00012123662608977657,
          "median": 0.00011108128039300285,
          "min": 0.0001004198302638606,
          "ministerie": "Ministerie van Defensie",
          "project": "MMC-Veenhuizen",
          "title": "",
          "type": "Feature"
         },
         {
          "date": "2018-10-01",
          "geometry": {
           "coordinates": [
            6.393889,
            53.040779
           ],
           "type": "Point"
          },
          "id": "25",
          "lat": 53.040779,
          "locatie": "Veenhuizen, Netherlands",
          "lon": 6.393889,
          "max": 9.87375644414727e-05,
          "median": 8.957985213631835e-05,
          "min": 8.274485298898071e-05,
          "ministerie": "Ministerie van Defensie",
          "project": "MMC-Veenhuizen",
          "title": "",
          "type": "Feature"
         },
         {
          "date": "2018-11-01",
          "geometry": {
           "coordinates": [
            6.393889,
            53.040779
           ],
           "type": "Point"
          },
          "id": "25",
          "lat": 53.040779,
          "locatie": "Veenhuizen, Netherlands",
          "lon": 6.393889,
          "max": 0.00011558176661494278,
          "median": 0.00010506336548132822,
          "min": 9.750381247827776e-05,
          "ministerie": "Ministerie van Defensie",
          "project": "MMC-Veenhuizen",
          "title": "",
          "type": "Feature"
         },
         {
          "date": "2018-12-01",
          "geometry": {
           "coordinates": [
            6.393889,
            53.040779
           ],
           "type": "Point"
          },
          "id": "25",
          "lat": 53.040779,
          "locatie": "Veenhuizen, Netherlands",
          "lon": 6.393889,
          "max": 9.400530288698853e-05,
          "median": 8.043580601224676e-05,
          "min": 6.966593768982827e-05,
          "ministerie": "Ministerie van Defensie",
          "project": "MMC-Veenhuizen",
          "title": "",
          "type": "Feature"
         },
         {
          "date": "2019-01-01",
          "geometry": {
           "coordinates": [
            6.393889,
            53.040779
           ],
           "type": "Point"
          },
          "id": "25",
          "lat": 53.040779,
          "locatie": "Veenhuizen, Netherlands",
          "lon": 6.393889,
          "max": 6.82623347364976e-05,
          "median": 4.676217600449947e-05,
          "min": 3.7803910523376637e-05,
          "ministerie": "Ministerie van Defensie",
          "project": "MMC-Veenhuizen",
          "title": "",
          "type": "Feature"
         },
         {
          "date": "2019-02-01",
          "geometry": {
           "coordinates": [
            6.393889,
            53.040779
           ],
           "type": "Point"
          },
          "id": "25",
          "lat": 53.040779,
          "locatie": "Veenhuizen, Netherlands",
          "lon": 6.393889,
          "max": 0.0001472028318944022,
          "median": 0.0001335135893896222,
          "min": 0.00012106294709883852,
          "ministerie": "Ministerie van Defensie",
          "project": "MMC-Veenhuizen",
          "title": "",
          "type": "Feature"
         },
         {
          "date": "2019-03-01",
          "geometry": {
           "coordinates": [
            6.393889,
            53.040779
           ],
           "type": "Point"
          },
          "id": "25",
          "lat": 53.040779,
          "locatie": "Veenhuizen, Netherlands",
          "lon": 6.393889,
          "max": 7.611686838759694e-05,
          "median": 7.017826257516073e-05,
          "min": 6.409232546128909e-05,
          "ministerie": "Ministerie van Defensie",
          "project": "MMC-Veenhuizen",
          "title": "",
          "type": "Feature"
         },
         {
          "date": "2019-04-01",
          "geometry": {
           "coordinates": [
            6.393889,
            53.040779
           ],
           "type": "Point"
          },
          "id": "25",
          "lat": 53.040779,
          "locatie": "Veenhuizen, Netherlands",
          "lon": 6.393889,
          "max": 0.00010393546108389273,
          "median": 9.99791010392612e-05,
          "min": 9.447801858186722e-05,
          "ministerie": "Ministerie van Defensie",
          "project": "MMC-Veenhuizen",
          "title": "",
          "type": "Feature"
         },
         {
          "date": "2019-05-01",
          "geometry": {
           "coordinates": [
            6.393889,
            53.040779
           ],
           "type": "Point"
          },
          "id": "25",
          "lat": 53.040779,
          "locatie": "Veenhuizen, Netherlands",
          "lon": 6.393889,
          "max": 9.876123695264212e-05,
          "median": 9.600864723324776e-05,
          "min": 8.958880350584743e-05,
          "ministerie": "Ministerie van Defensie",
          "project": "MMC-Veenhuizen",
          "title": "",
          "type": "Feature"
         },
         {
          "date": "2019-06-01",
          "geometry": {
           "coordinates": [
            6.393889,
            53.040779
           ],
           "type": "Point"
          },
          "id": "25",
          "lat": 53.040779,
          "locatie": "Veenhuizen, Netherlands",
          "lon": 6.393889,
          "max": 9.997886081691831e-05,
          "median": 9.575870887246378e-05,
          "min": 9.182085705106147e-05,
          "ministerie": "Ministerie van Defensie",
          "project": "MMC-Veenhuizen",
          "title": "",
          "type": "Feature"
         },
         {
          "date": "2019-07-01",
          "geometry": {
           "coordinates": [
            6.393889,
            53.040779
           ],
           "type": "Point"
          },
          "id": "25",
          "lat": 53.040779,
          "locatie": "Veenhuizen, Netherlands",
          "lon": 6.393889,
          "max": 9.312714859625988e-05,
          "median": 8.704460622305216e-05,
          "min": 8.289263132610358e-05,
          "ministerie": "Ministerie van Defensie",
          "project": "MMC-Veenhuizen",
          "title": "",
          "type": "Feature"
         },
         {
          "date": "2019-08-01",
          "geometry": {
           "coordinates": [
            6.393889,
            53.040779
           ],
           "type": "Point"
          },
          "id": "25",
          "lat": 53.040779,
          "locatie": "Veenhuizen, Netherlands",
          "lon": 6.393889,
          "max": 0.00010458343893830218,
          "median": 9.898417372576252e-05,
          "min": 9.174589536001971e-05,
          "ministerie": "Ministerie van Defensie",
          "project": "MMC-Veenhuizen",
          "title": "",
          "type": "Feature"
         },
         {
          "date": "2019-09-01",
          "geometry": {
           "coordinates": [
            6.393889,
            53.040779
           ],
           "type": "Point"
          },
          "id": "25",
          "lat": 53.040779,
          "locatie": "Veenhuizen, Netherlands",
          "lon": 6.393889,
          "max": 8.916059596231207e-05,
          "median": 7.43517882310121e-05,
          "min": 6.243573443498462e-05,
          "ministerie": "Ministerie van Defensie",
          "project": "MMC-Veenhuizen",
          "title": "",
          "type": "Feature"
         },
         {
          "date": "2018-07-01",
          "geometry": {
           "coordinates": [
            5.340987,
            51.482686
           ],
           "type": "Point"
          },
          "id": "28",
          "lat": 51.482686,
          "locatie": "Verspreide huizen Zuid-Oirschotse Heide, Oirschot, Netherlands",
          "lon": 5.340987,
          "max": 0.0001345925257015126,
          "median": 0.00012902278289807077,
          "min": 0.0001165676887598941,
          "ministerie": "Ministerie van Defensie",
          "project": "OT Oirschotse Heide",
          "title": "",
          "type": "Feature"
         },
         {
          "date": "2018-08-01",
          "geometry": {
           "coordinates": [
            5.340987,
            51.482686
           ],
           "type": "Point"
          },
          "id": "28",
          "lat": 51.482686,
          "locatie": "Verspreide huizen Zuid-Oirschotse Heide, Oirschot, Netherlands",
          "lon": 5.340987,
          "max": 0.00011235237616347149,
          "median": 0.000105734907165223,
          "min": 0.00010015771840699017,
          "ministerie": "Ministerie van Defensie",
          "project": "OT Oirschotse Heide",
          "title": "",
          "type": "Feature"
         },
         {
          "date": "2018-09-01",
          "geometry": {
           "coordinates": [
            5.340987,
            51.482686
           ],
           "type": "Point"
          },
          "id": "28",
          "lat": 51.482686,
          "locatie": "Verspreide huizen Zuid-Oirschotse Heide, Oirschot, Netherlands",
          "lon": 5.340987,
          "max": 0.00014682469191029668,
          "median": 0.00013605067501216755,
          "min": 0.00012846232725083543,
          "ministerie": "Ministerie van Defensie",
          "project": "OT Oirschotse Heide",
          "title": "",
          "type": "Feature"
         },
         {
          "date": "2018-10-01",
          "geometry": {
           "coordinates": [
            5.340987,
            51.482686
           ],
           "type": "Point"
          },
          "id": "28",
          "lat": 51.482686,
          "locatie": "Verspreide huizen Zuid-Oirschotse Heide, Oirschot, Netherlands",
          "lon": 5.340987,
          "max": 0.0001460268348682754,
          "median": 0.0001308558266741929,
          "min": 0.00011565541183127545,
          "ministerie": "Ministerie van Defensie",
          "project": "OT Oirschotse Heide",
          "title": "",
          "type": "Feature"
         },
         {
          "date": "2018-11-01",
          "geometry": {
           "coordinates": [
            5.340987,
            51.482686
           ],
           "type": "Point"
          },
          "id": "28",
          "lat": 51.482686,
          "locatie": "Verspreide huizen Zuid-Oirschotse Heide, Oirschot, Netherlands",
          "lon": 5.340987,
          "max": 0.00014898306835675612,
          "median": 0.00013920979108661413,
          "min": 0.0001285620575191928,
          "ministerie": "Ministerie van Defensie",
          "project": "OT Oirschotse Heide",
          "title": "",
          "type": "Feature"
         },
         {
          "date": "2018-12-01",
          "geometry": {
           "coordinates": [
            5.340987,
            51.482686
           ],
           "type": "Point"
          },
          "id": "28",
          "lat": 51.482686,
          "locatie": "Verspreide huizen Zuid-Oirschotse Heide, Oirschot, Netherlands",
          "lon": 5.340987,
          "max": 0.00015115815571289926,
          "median": 0.00012158098979853094,
          "min": 0.00010837819627996125,
          "ministerie": "Ministerie van Defensie",
          "project": "OT Oirschotse Heide",
          "title": "",
          "type": "Feature"
         },
         {
          "date": "2019-01-01",
          "geometry": {
           "coordinates": [
            5.340987,
            51.482686
           ],
           "type": "Point"
          },
          "id": "28",
          "lat": 51.482686,
          "locatie": "Verspreide huizen Zuid-Oirschotse Heide, Oirschot, Netherlands",
          "lon": 5.340987,
          "max": 0.00013054897955846483,
          "median": 0.00011017077874026108,
          "min": 9.238503116648644e-05,
          "ministerie": "Ministerie van Defensie",
          "project": "OT Oirschotse Heide",
          "title": "",
          "type": "Feature"
         },
         {
          "date": "2019-02-01",
          "geometry": {
           "coordinates": [
            5.340987,
            51.482686
           ],
           "type": "Point"
          },
          "id": "28",
          "lat": 51.482686,
          "locatie": "Verspreide huizen Zuid-Oirschotse Heide, Oirschot, Netherlands",
          "lon": 5.340987,
          "max": 0.00015458033356206276,
          "median": 0.00013647537815898982,
          "min": 0.00012015314861958943,
          "ministerie": "Ministerie van Defensie",
          "project": "OT Oirschotse Heide",
          "title": "",
          "type": "Feature"
         },
         {
          "date": "2019-03-01",
          "geometry": {
           "coordinates": [
            5.340987,
            51.482686
           ],
           "type": "Point"
          },
          "id": "28",
          "lat": 51.482686,
          "locatie": "Verspreide huizen Zuid-Oirschotse Heide, Oirschot, Netherlands",
          "lon": 5.340987,
          "max": 0.00013489584251698576,
          "median": 0.00011939655291061652,
          "min": 0.00010063165244822932,
          "ministerie": "Ministerie van Defensie",
          "project": "OT Oirschotse Heide",
          "title": "",
          "type": "Feature"
         },
         {
          "date": "2019-04-01",
          "geometry": {
           "coordinates": [
            5.340987,
            51.482686
           ],
           "type": "Point"
          },
          "id": "28",
          "lat": 51.482686,
          "locatie": "Verspreide huizen Zuid-Oirschotse Heide, Oirschot, Netherlands",
          "lon": 5.340987,
          "max": 0.00015592315065628622,
          "median": 0.00014514541210899735,
          "min": 0.00012917288404423743,
          "ministerie": "Ministerie van Defensie",
          "project": "OT Oirschotse Heide",
          "title": "",
          "type": "Feature"
         },
         {
          "date": "2019-05-01",
          "geometry": {
           "coordinates": [
            5.340987,
            51.482686
           ],
           "type": "Point"
          },
          "id": "28",
          "lat": 51.482686,
          "locatie": "Verspreide huizen Zuid-Oirschotse Heide, Oirschot, Netherlands",
          "lon": 5.340987,
          "max": 0.00013013074298692757,
          "median": 0.00012493523172452115,
          "min": 0.00011917699634893936,
          "ministerie": "Ministerie van Defensie",
          "project": "OT Oirschotse Heide",
          "title": "",
          "type": "Feature"
         },
         {
          "date": "2019-06-01",
          "geometry": {
           "coordinates": [
            5.340987,
            51.482686
           ],
           "type": "Point"
          },
          "id": "28",
          "lat": 51.482686,
          "locatie": "Verspreide huizen Zuid-Oirschotse Heide, Oirschot, Netherlands",
          "lon": 5.340987,
          "max": 0.00012029830784453997,
          "median": 0.00011502827692311257,
          "min": 0.0001074884639820084,
          "ministerie": "Ministerie van Defensie",
          "project": "OT Oirschotse Heide",
          "title": "",
          "type": "Feature"
         },
         {
          "date": "2019-07-01",
          "geometry": {
           "coordinates": [
            5.340987,
            51.482686
           ],
           "type": "Point"
          },
          "id": "28",
          "lat": 51.482686,
          "locatie": "Verspreide huizen Zuid-Oirschotse Heide, Oirschot, Netherlands",
          "lon": 5.340987,
          "max": 0.00011923760030185804,
          "median": 0.00011085706093857402,
          "min": 0.00010394958303304047,
          "ministerie": "Ministerie van Defensie",
          "project": "OT Oirschotse Heide",
          "title": "",
          "type": "Feature"
         },
         {
          "date": "2019-08-01",
          "geometry": {
           "coordinates": [
            5.340987,
            51.482686
           ],
           "type": "Point"
          },
          "id": "28",
          "lat": 51.482686,
          "locatie": "Verspreide huizen Zuid-Oirschotse Heide, Oirschot, Netherlands",
          "lon": 5.340987,
          "max": 0.00011895281292226505,
          "median": 0.00011273714309567798,
          "min": 0.00010507716408864795,
          "ministerie": "Ministerie van Defensie",
          "project": "OT Oirschotse Heide",
          "title": "",
          "type": "Feature"
         },
         {
          "date": "2019-09-01",
          "geometry": {
           "coordinates": [
            5.340987,
            51.482686
           ],
           "type": "Point"
          },
          "id": "28",
          "lat": 51.482686,
          "locatie": "Verspreide huizen Zuid-Oirschotse Heide, Oirschot, Netherlands",
          "lon": 5.340987,
          "max": 0.0001255892155747128,
          "median": 9.230757110134107e-05,
          "min": 8.46831280796323e-05,
          "ministerie": "Ministerie van Defensie",
          "project": "OT Oirschotse Heide",
          "title": "",
          "type": "Feature"
         },
         {
          "date": "2018-07-01",
          "geometry": {
           "coordinates": [
            4.658658999999999,
            52.765042
           ],
           "type": "Point"
          },
          "id": "29",
          "lat": 52.765042,
          "locatie": "Petten, Netherlands",
          "lon": 4.658658999999999,
          "max": 0.00010202542034676298,
          "median": 9.900684837371617e-05,
          "min": 9.40165184350742e-05,
          "ministerie": "Ministerie van Defensie",
          "project": "Petten KM",
          "title": "",
          "type": "Feature"
         },
         {
          "date": "2018-07-01",
          "geometry": {
           "coordinates": [
            4.680028,
            52.78469499999999
           ],
           "type": "Point"
          },
          "id": "29",
          "lat": 52.78469499999999,
          "locatie": "Petten, Netherlands",
          "lon": 4.680028,
          "max": 0.00010202542034676298,
          "median": 9.900684837371617e-05,
          "min": 9.40165184350742e-05,
          "ministerie": "Ministerie van Defensie",
          "project": "Petten KM",
          "title": "",
          "type": "Feature"
         },
         {
          "date": "2018-07-01",
          "geometry": {
           "coordinates": [
            4.658658999999999,
            52.765042
           ],
           "type": "Point"
          },
          "id": "119",
          "lat": 52.765042,
          "locatie": "Petten, Netherlands",
          "lon": 4.658658999999999,
          "max": 0.00010202542034676298,
          "median": 9.890645653034102e-05,
          "min": 9.382642015800651e-05,
          "ministerie": "Ministerie van Volksgezondheid, Welzijn en Sport",
          "project": "Pallas medische isotopenreactor",
          "title": "",
          "type": "Feature"
         },
         {
          "date": "2018-07-01",
          "geometry": {
           "coordinates": [
            4.680028,
            52.78469499999999
           ],
           "type": "Point"
          },
          "id": "119",
          "lat": 52.78469499999999,
          "locatie": "Petten, Netherlands",
          "lon": 4.680028,
          "max": 0.00010202542034676298,
          "median": 9.890645653034102e-05,
          "min": 9.382642015800651e-05,
          "ministerie": "Ministerie van Volksgezondheid, Welzijn en Sport",
          "project": "Pallas medische isotopenreactor",
          "title": "",
          "type": "Feature"
         },
         {
          "date": "2018-08-01",
          "geometry": {
           "coordinates": [
            4.658658999999999,
            52.765042
           ],
           "type": "Point"
          },
          "id": "29",
          "lat": 52.765042,
          "locatie": "Petten, Netherlands",
          "lon": 4.658658999999999,
          "max": 9.788210445549339e-05,
          "median": 8.556970715289935e-05,
          "min": 8.209462248487398e-05,
          "ministerie": "Ministerie van Defensie",
          "project": "Petten KM",
          "title": "",
          "type": "Feature"
         },
         {
          "date": "2018-08-01",
          "geometry": {
           "coordinates": [
            4.680028,
            52.78469499999999
           ],
           "type": "Point"
          },
          "id": "29",
          "lat": 52.78469499999999,
          "locatie": "Petten, Netherlands",
          "lon": 4.680028,
          "max": 9.788210445549339e-05,
          "median": 8.556970715289935e-05,
          "min": 8.209462248487398e-05,
          "ministerie": "Ministerie van Defensie",
          "project": "Petten KM",
          "title": "",
          "type": "Feature"
         },
         {
          "date": "2018-08-01",
          "geometry": {
           "coordinates": [
            4.658658999999999,
            52.765042
           ],
           "type": "Point"
          },
          "id": "119",
          "lat": 52.765042,
          "locatie": "Petten, Netherlands",
          "lon": 4.658658999999999,
          "max": 9.405814125784673e-05,
          "median": 8.507728759302725e-05,
          "min": 8.104713934601616e-05,
          "ministerie": "Ministerie van Volksgezondheid, Welzijn en Sport",
          "project": "Pallas medische isotopenreactor",
          "title": "",
          "type": "Feature"
         },
         {
          "date": "2018-08-01",
          "geometry": {
           "coordinates": [
            4.680028,
            52.78469499999999
           ],
           "type": "Point"
          },
          "id": "119",
          "lat": 52.78469499999999,
          "locatie": "Petten, Netherlands",
          "lon": 4.680028,
          "max": 9.405814125784673e-05,
          "median": 8.507728759302725e-05,
          "min": 8.104713934601616e-05,
          "ministerie": "Ministerie van Volksgezondheid, Welzijn en Sport",
          "project": "Pallas medische isotopenreactor",
          "title": "",
          "type": "Feature"
         },
         {
          "date": "2018-09-01",
          "geometry": {
           "coordinates": [
            4.658658999999999,
            52.765042
           ],
           "type": "Point"
          },
          "id": "29",
          "lat": 52.765042,
          "locatie": "Petten, Netherlands",
          "lon": 4.658658999999999,
          "max": 0.00010829347079283714,
          "median": 0.0001008362669381313,
          "min": 9.227814734913409e-05,
          "ministerie": "Ministerie van Defensie",
          "project": "Petten KM",
          "title": "",
          "type": "Feature"
         },
         {
          "date": "2018-09-01",
          "geometry": {
           "coordinates": [
            4.680028,
            52.78469499999999
           ],
           "type": "Point"
          },
          "id": "29",
          "lat": 52.78469499999999,
          "locatie": "Petten, Netherlands",
          "lon": 4.680028,
          "max": 0.00010829347079283714,
          "median": 0.0001008362669381313,
          "min": 9.227814734913409e-05,
          "ministerie": "Ministerie van Defensie",
          "project": "Petten KM",
          "title": "",
          "type": "Feature"
         },
         {
          "date": "2018-09-01",
          "geometry": {
           "coordinates": [
            4.658658999999999,
            52.765042
           ],
           "type": "Point"
          },
          "id": "119",
          "lat": 52.765042,
          "locatie": "Petten, Netherlands",
          "lon": 4.658658999999999,
          "max": 0.00010730517336003166,
          "median": 0.00010063561421702616,
          "min": 9.115319699048996e-05,
          "ministerie": "Ministerie van Volksgezondheid, Welzijn en Sport",
          "project": "Pallas medische isotopenreactor",
          "title": "",
          "type": "Feature"
         },
         {
          "date": "2018-09-01",
          "geometry": {
           "coordinates": [
            4.680028,
            52.78469499999999
           ],
           "type": "Point"
          },
          "id": "119",
          "lat": 52.78469499999999,
          "locatie": "Petten, Netherlands",
          "lon": 4.680028,
          "max": 0.00010730517336003166,
          "median": 0.00010063561421702616,
          "min": 9.115319699048996e-05,
          "ministerie": "Ministerie van Volksgezondheid, Welzijn en Sport",
          "project": "Pallas medische isotopenreactor",
          "title": "",
          "type": "Feature"
         },
         {
          "date": "2018-10-01",
          "geometry": {
           "coordinates": [
            4.658658999999999,
            52.765042
           ],
           "type": "Point"
          },
          "id": "29",
          "lat": 52.765042,
          "locatie": "Petten, Netherlands",
          "lon": 4.658658999999999,
          "max": 9.500842371556575e-05,
          "median": 8.452720857650631e-05,
          "min": 7.832577016450619e-05,
          "ministerie": "Ministerie van Defensie",
          "project": "Petten KM",
          "title": "",
          "type": "Feature"
         },
         {
          "date": "2018-10-01",
          "geometry": {
           "coordinates": [
            4.680028,
            52.78469499999999
           ],
           "type": "Point"
          },
          "id": "29",
          "lat": 52.78469499999999,
          "locatie": "Petten, Netherlands",
          "lon": 4.680028,
          "max": 9.500842371556575e-05,
          "median": 8.452720857650631e-05,
          "min": 7.832577016450619e-05,
          "ministerie": "Ministerie van Defensie",
          "project": "Petten KM",
          "title": "",
          "type": "Feature"
         },
         {
          "date": "2018-10-01",
          "geometry": {
           "coordinates": [
            4.658658999999999,
            52.765042
           ],
           "type": "Point"
          },
          "id": "119",
          "lat": 52.765042,
          "locatie": "Petten, Netherlands",
          "lon": 4.658658999999999,
          "max": 9.500842371556575e-05,
          "median": 8.364240056835115e-05,
          "min": 7.832577016450619e-05,
          "ministerie": "Ministerie van Volksgezondheid, Welzijn en Sport",
          "project": "Pallas medische isotopenreactor",
          "title": "",
          "type": "Feature"
         },
         {
          "date": "2018-10-01",
          "geometry": {
           "coordinates": [
            4.680028,
            52.78469499999999
           ],
           "type": "Point"
          },
          "id": "119",
          "lat": 52.78469499999999,
          "locatie": "Petten, Netherlands",
          "lon": 4.680028,
          "max": 9.500842371556575e-05,
          "median": 8.364240056835115e-05,
          "min": 7.832577016450619e-05,
          "ministerie": "Ministerie van Volksgezondheid, Welzijn en Sport",
          "project": "Pallas medische isotopenreactor",
          "title": "",
          "type": "Feature"
         },
         {
          "date": "2018-11-01",
          "geometry": {
           "coordinates": [
            4.658658999999999,
            52.765042
           ],
           "type": "Point"
          },
          "id": "29",
          "lat": 52.765042,
          "locatie": "Petten, Netherlands",
          "lon": 4.658658999999999,
          "max": 0.0001347156794508919,
          "median": 0.00012064869473285087,
          "min": 9.780994973547169e-05,
          "ministerie": "Ministerie van Defensie",
          "project": "Petten KM",
          "title": "",
          "type": "Feature"
         },
         {
          "date": "2018-11-01",
          "geometry": {
           "coordinates": [
            4.680028,
            52.78469499999999
           ],
           "type": "Point"
          },
          "id": "29",
          "lat": 52.78469499999999,
          "locatie": "Petten, Netherlands",
          "lon": 4.680028,
          "max": 0.0001347156794508919,
          "median": 0.00012064869473285087,
          "min": 9.780994973547169e-05,
          "ministerie": "Ministerie van Defensie",
          "project": "Petten KM",
          "title": "",
          "type": "Feature"
         },
         {
          "date": "2018-11-01",
          "geometry": {
           "coordinates": [
            4.658658999999999,
            52.765042
           ],
           "type": "Point"
          },
          "id": "119",
          "lat": 52.765042,
          "locatie": "Petten, Netherlands",
          "lon": 4.658658999999999,
          "max": 0.00013018395111430436,
          "median": 0.00011680598254315555,
          "min": 9.780994973547169e-05,
          "ministerie": "Ministerie van Volksgezondheid, Welzijn en Sport",
          "project": "Pallas medische isotopenreactor",
          "title": "",
          "type": "Feature"
         },
         {
          "date": "2018-11-01",
          "geometry": {
           "coordinates": [
            4.680028,
            52.78469499999999
           ],
           "type": "Point"
          },
          "id": "119",
          "lat": 52.78469499999999,
          "locatie": "Petten, Netherlands",
          "lon": 4.680028,
          "max": 0.00013018395111430436,
          "median": 0.00011680598254315555,
          "min": 9.780994973547169e-05,
          "ministerie": "Ministerie van Volksgezondheid, Welzijn en Sport",
          "project": "Pallas medische isotopenreactor",
          "title": "",
          "type": "Feature"
         },
         {
          "date": "2018-12-01",
          "geometry": {
           "coordinates": [
            4.658658999999999,
            52.765042
           ],
           "type": "Point"
          },
          "id": "29",
          "lat": 52.765042,
          "locatie": "Petten, Netherlands",
          "lon": 4.658658999999999,
          "max": 9.597229182015265e-05,
          "median": 7.99791669123806e-05,
          "min": 6.85714499391208e-05,
          "ministerie": "Ministerie van Defensie",
          "project": "Petten KM",
          "title": "",
          "type": "Feature"
         },
         {
          "date": "2018-12-01",
          "geometry": {
           "coordinates": [
            4.680028,
            52.78469499999999
           ],
           "type": "Point"
          },
          "id": "29",
          "lat": 52.78469499999999,
          "locatie": "Petten, Netherlands",
          "lon": 4.680028,
          "max": 9.597229182015265e-05,
          "median": 7.99791669123806e-05,
          "min": 6.85714499391208e-05,
          "ministerie": "Ministerie van Defensie",
          "project": "Petten KM",
          "title": "",
          "type": "Feature"
         },
         {
          "date": "2018-12-01",
          "geometry": {
           "coordinates": [
            4.658658999999999,
            52.765042
           ],
           "type": "Point"
          },
          "id": "119",
          "lat": 52.765042,
          "locatie": "Petten, Netherlands",
          "lon": 4.658658999999999,
          "max": 8.928263059273323e-05,
          "median": 7.739644347792206e-05,
          "min": 6.775738284115794e-05,
          "ministerie": "Ministerie van Volksgezondheid, Welzijn en Sport",
          "project": "Pallas medische isotopenreactor",
          "title": "",
          "type": "Feature"
         },
         {
          "date": "2018-12-01",
          "geometry": {
           "coordinates": [
            4.680028,
            52.78469499999999
           ],
           "type": "Point"
          },
          "id": "119",
          "lat": 52.78469499999999,
          "locatie": "Petten, Netherlands",
          "lon": 4.680028,
          "max": 8.928263059273323e-05,
          "median": 7.739644347792206e-05,
          "min": 6.775738284115794e-05,
          "ministerie": "Ministerie van Volksgezondheid, Welzijn en Sport",
          "project": "Pallas medische isotopenreactor",
          "title": "",
          "type": "Feature"
         },
         {
          "date": "2019-01-01",
          "geometry": {
           "coordinates": [
            4.658658999999999,
            52.765042
           ],
           "type": "Point"
          },
          "id": "29",
          "lat": 52.765042,
          "locatie": "Petten, Netherlands",
          "lon": 4.658658999999999,
          "max": 6.285086875698486e-05,
          "median": 5.14961939158311e-05,
          "min": 4.363753704447698e-05,
          "ministerie": "Ministerie van Defensie",
          "project": "Petten KM",
          "title": "",
          "type": "Feature"
         },
         {
          "date": "2019-01-01",
          "geometry": {
           "coordinates": [
            4.680028,
            52.78469499999999
           ],
           "type": "Point"
          },
          "id": "29",
          "lat": 52.78469499999999,
          "locatie": "Petten, Netherlands",
          "lon": 4.680028,
          "max": 6.285086875698486e-05,
          "median": 5.14961939158311e-05,
          "min": 4.363753704447698e-05,
          "ministerie": "Ministerie van Defensie",
          "project": "Petten KM",
          "title": "",
          "type": "Feature"
         },
         {
          "date": "2019-01-01",
          "geometry": {
           "coordinates": [
            4.658658999999999,
            52.765042
           ],
           "type": "Point"
          },
          "id": "119",
          "lat": 52.765042,
          "locatie": "Petten, Netherlands",
          "lon": 4.658658999999999,
          "max": 6.285086875698486e-05,
          "median": 5.126029869961066e-05,
          "min": 4.149771456489468e-05,
          "ministerie": "Ministerie van Volksgezondheid, Welzijn en Sport",
          "project": "Pallas medische isotopenreactor",
          "title": "",
          "type": "Feature"
         },
         {
          "date": "2019-01-01",
          "geometry": {
           "coordinates": [
            4.680028,
            52.78469499999999
           ],
           "type": "Point"
          },
          "id": "119",
          "lat": 52.78469499999999,
          "locatie": "Petten, Netherlands",
          "lon": 4.680028,
          "max": 6.285086875698486e-05,
          "median": 5.126029869961066e-05,
          "min": 4.149771456489468e-05,
          "ministerie": "Ministerie van Volksgezondheid, Welzijn en Sport",
          "project": "Pallas medische isotopenreactor",
          "title": "",
          "type": "Feature"
         },
         {
          "date": "2019-02-01",
          "geometry": {
           "coordinates": [
            4.658658999999999,
            52.765042
           ],
           "type": "Point"
          },
          "id": "29",
          "lat": 52.765042,
          "locatie": "Petten, Netherlands",
          "lon": 4.658658999999999,
          "max": 0.00013730024511460215,
          "median": 0.00012428246775147018,
          "min": 0.00011567130422918126,
          "ministerie": "Ministerie van Defensie",
          "project": "Petten KM",
          "title": "",
          "type": "Feature"
         },
         {
          "date": "2019-02-01",
          "geometry": {
           "coordinates": [
            4.680028,
            52.78469499999999
           ],
           "type": "Point"
          },
          "id": "29",
          "lat": 52.78469499999999,
          "locatie": "Petten, Netherlands",
          "lon": 4.680028,
          "max": 0.00013730024511460215,
          "median": 0.00012428246775147018,
          "min": 0.00011567130422918126,
          "ministerie": "Ministerie van Defensie",
          "project": "Petten KM",
          "title": "",
          "type": "Feature"
         },
         {
          "date": "2019-02-01",
          "geometry": {
           "coordinates": [
            4.658658999999999,
            52.765042
           ],
           "type": "Point"
          },
          "id": "119",
          "lat": 52.765042,
          "locatie": "Petten, Netherlands",
          "lon": 4.658658999999999,
          "max": 0.00013567641176060515,
          "median": 0.00012335433742927788,
          "min": 0.00011366105804411294,
          "ministerie": "Ministerie van Volksgezondheid, Welzijn en Sport",
          "project": "Pallas medische isotopenreactor",
          "title": "",
          "type": "Feature"
         },
         {
          "date": "2019-02-01",
          "geometry": {
           "coordinates": [
            4.680028,
            52.78469499999999
           ],
           "type": "Point"
          },
          "id": "119",
          "lat": 52.78469499999999,
          "locatie": "Petten, Netherlands",
          "lon": 4.680028,
          "max": 0.00013567641176060515,
          "median": 0.00012335433742927788,
          "min": 0.00011366105804411294,
          "ministerie": "Ministerie van Volksgezondheid, Welzijn en Sport",
          "project": "Pallas medische isotopenreactor",
          "title": "",
          "type": "Feature"
         },
         {
          "date": "2019-03-01",
          "geometry": {
           "coordinates": [
            4.658658999999999,
            52.765042
           ],
           "type": "Point"
          },
          "id": "29",
          "lat": 52.765042,
          "locatie": "Petten, Netherlands",
          "lon": 4.658658999999999,
          "max": 8.557172279357565e-05,
          "median": 7.86646386909155e-05,
          "min": 7.307649502763525e-05,
          "ministerie": "Ministerie van Defensie",
          "project": "Petten KM",
          "title": "",
          "type": "Feature"
         },
         {
          "date": "2019-03-01",
          "geometry": {
           "coordinates": [
            4.680028,
            52.78469499999999
           ],
           "type": "Point"
          },
          "id": "29",
          "lat": 52.78469499999999,
          "locatie": "Petten, Netherlands",
          "lon": 4.680028,
          "max": 8.557172279357565e-05,
          "median": 7.86646386909155e-05,
          "min": 7.307649502763525e-05,
          "ministerie": "Ministerie van Defensie",
          "project": "Petten KM",
          "title": "",
          "type": "Feature"
         },
         {
          "date": "2019-03-01",
          "geometry": {
           "coordinates": [
            4.658658999999999,
            52.765042
           ],
           "type": "Point"
          },
          "id": "119",
          "lat": 52.765042,
          "locatie": "Petten, Netherlands",
          "lon": 4.658658999999999,
          "max": 8.446200648793128e-05,
          "median": 7.86646386909155e-05,
          "min": 7.307649502763525e-05,
          "ministerie": "Ministerie van Volksgezondheid, Welzijn en Sport",
          "project": "Pallas medische isotopenreactor",
          "title": "",
          "type": "Feature"
         },
         {
          "date": "2019-03-01",
          "geometry": {
           "coordinates": [
            4.680028,
            52.78469499999999
           ],
           "type": "Point"
          },
          "id": "119",
          "lat": 52.78469499999999,
          "locatie": "Petten, Netherlands",
          "lon": 4.680028,
          "max": 8.446200648793128e-05,
          "median": 7.86646386909155e-05,
          "min": 7.307649502763525e-05,
          "ministerie": "Ministerie van Volksgezondheid, Welzijn en Sport",
          "project": "Pallas medische isotopenreactor",
          "title": "",
          "type": "Feature"
         },
         {
          "date": "2019-04-01",
          "geometry": {
           "coordinates": [
            4.658658999999999,
            52.765042
           ],
           "type": "Point"
          },
          "id": "29",
          "lat": 52.765042,
          "locatie": "Petten, Netherlands",
          "lon": 4.658658999999999,
          "max": 0.00011197360436199233,
          "median": 0.00010217707081006863,
          "min": 9.743453119881451e-05,
          "ministerie": "Ministerie van Defensie",
          "project": "Petten KM",
          "title": "",
          "type": "Feature"
         },
         {
          "date": "2019-04-01",
          "geometry": {
           "coordinates": [
            4.680028,
            52.78469499999999
           ],
           "type": "Point"
          },
          "id": "29",
          "lat": 52.78469499999999,
          "locatie": "Petten, Netherlands",
          "lon": 4.680028,
          "max": 0.00011197360436199233,
          "median": 0.00010217707081006863,
          "min": 9.743453119881451e-05,
          "ministerie": "Ministerie van Defensie",
          "project": "Petten KM",
          "title": "",
          "type": "Feature"
         },
         {
          "date": "2019-04-01",
          "geometry": {
           "coordinates": [
            4.658658999999999,
            52.765042
           ],
           "type": "Point"
          },
          "id": "119",
          "lat": 52.765042,
          "locatie": "Petten, Netherlands",
          "lon": 4.658658999999999,
          "max": 0.00010833817642634408,
          "median": 0.00010153986600184007,
          "min": 9.636243296857978e-05,
          "ministerie": "Ministerie van Volksgezondheid, Welzijn en Sport",
          "project": "Pallas medische isotopenreactor",
          "title": "",
          "type": "Feature"
         },
         {
          "date": "2019-04-01",
          "geometry": {
           "coordinates": [
            4.680028,
            52.78469499999999
           ],
           "type": "Point"
          },
          "id": "119",
          "lat": 52.78469499999999,
          "locatie": "Petten, Netherlands",
          "lon": 4.680028,
          "max": 0.00010833817642634408,
          "median": 0.00010153986600184007,
          "min": 9.636243296857978e-05,
          "ministerie": "Ministerie van Volksgezondheid, Welzijn en Sport",
          "project": "Pallas medische isotopenreactor",
          "title": "",
          "type": "Feature"
         },
         {
          "date": "2019-05-01",
          "geometry": {
           "coordinates": [
            4.658658999999999,
            52.765042
           ],
           "type": "Point"
          },
          "id": "29",
          "lat": 52.765042,
          "locatie": "Petten, Netherlands",
          "lon": 4.658658999999999,
          "max": 0.00010952922093565576,
          "median": 0.00010056340790423715,
          "min": 9.426614468583527e-05,
          "ministerie": "Ministerie van Defensie",
          "project": "Petten KM",
          "title": "",
          "type": "Feature"
         },
         {
          "date": "2019-05-01",
          "geometry": {
           "coordinates": [
            4.680028,
            52.78469499999999
           ],
           "type": "Point"
          },
          "id": "29",
          "lat": 52.78469499999999,
          "locatie": "Petten, Netherlands",
          "lon": 4.680028,
          "max": 0.00010952922093565576,
          "median": 0.00010056340790423715,
          "min": 9.426614468583527e-05,
          "ministerie": "Ministerie van Defensie",
          "project": "Petten KM",
          "title": "",
          "type": "Feature"
         },
         {
          "date": "2019-05-01",
          "geometry": {
           "coordinates": [
            4.658658999999999,
            52.765042
           ],
           "type": "Point"
          },
          "id": "119",
          "lat": 52.765042,
          "locatie": "Petten, Netherlands",
          "lon": 4.658658999999999,
          "max": 0.00010952922093565576,
          "median": 9.925367703544907e-05,
          "min": 9.354942247820998e-05,
          "ministerie": "Ministerie van Volksgezondheid, Welzijn en Sport",
          "project": "Pallas medische isotopenreactor",
          "title": "",
          "type": "Feature"
         },
         {
          "date": "2019-05-01",
          "geometry": {
           "coordinates": [
            4.680028,
            52.78469499999999
           ],
           "type": "Point"
          },
          "id": "119",
          "lat": 52.78469499999999,
          "locatie": "Petten, Netherlands",
          "lon": 4.680028,
          "max": 0.00010952922093565576,
          "median": 9.925367703544907e-05,
          "min": 9.354942247820998e-05,
          "ministerie": "Ministerie van Volksgezondheid, Welzijn en Sport",
          "project": "Pallas medische isotopenreactor",
          "title": "",
          "type": "Feature"
         },
         {
          "date": "2019-06-01",
          "geometry": {
           "coordinates": [
            4.658658999999999,
            52.765042
           ],
           "type": "Point"
          },
          "id": "29",
          "lat": 52.765042,
          "locatie": "Petten, Netherlands",
          "lon": 4.658658999999999,
          "max": 0.00011502394478957933,
          "median": 0.00010928790658726666,
          "min": 0.00010121450031874701,
          "ministerie": "Ministerie van Defensie",
          "project": "Petten KM",
          "title": "",
          "type": "Feature"
         },
         {
          "date": "2019-06-01",
          "geometry": {
           "coordinates": [
            4.680028,
            52.78469499999999
           ],
           "type": "Point"
          },
          "id": "29",
          "lat": 52.78469499999999,
          "locatie": "Petten, Netherlands",
          "lon": 4.680028,
          "max": 0.00011502394478957933,
          "median": 0.00010928790658726666,
          "min": 0.00010121450031874701,
          "ministerie": "Ministerie van Defensie",
          "project": "Petten KM",
          "title": "",
          "type": "Feature"
         },
         {
          "date": "2019-06-01",
          "geometry": {
           "coordinates": [
            4.658658999999999,
            52.765042
           ],
           "type": "Point"
          },
          "id": "119",
          "lat": 52.765042,
          "locatie": "Petten, Netherlands",
          "lon": 4.658658999999999,
          "max": 0.00011502394478957933,
          "median": 0.00010834213554294429,
          "min": 0.00010121450031874701,
          "ministerie": "Ministerie van Volksgezondheid, Welzijn en Sport",
          "project": "Pallas medische isotopenreactor",
          "title": "",
          "type": "Feature"
         },
         {
          "date": "2019-06-01",
          "geometry": {
           "coordinates": [
            4.680028,
            52.78469499999999
           ],
           "type": "Point"
          },
          "id": "119",
          "lat": 52.78469499999999,
          "locatie": "Petten, Netherlands",
          "lon": 4.680028,
          "max": 0.00011502394478957933,
          "median": 0.00010834213554294429,
          "min": 0.00010121450031874701,
          "ministerie": "Ministerie van Volksgezondheid, Welzijn en Sport",
          "project": "Pallas medische isotopenreactor",
          "title": "",
          "type": "Feature"
         },
         {
          "date": "2019-07-01",
          "geometry": {
           "coordinates": [
            4.658658999999999,
            52.765042
           ],
           "type": "Point"
          },
          "id": "29",
          "lat": 52.765042,
          "locatie": "Petten, Netherlands",
          "lon": 4.658658999999999,
          "max": 0.00010256231439156359,
          "median": 9.679631248108487e-05,
          "min": 9.217811020789668e-05,
          "ministerie": "Ministerie van Defensie",
          "project": "Petten KM",
          "title": "",
          "type": "Feature"
         },
         {
          "date": "2019-07-01",
          "geometry": {
           "coordinates": [
            4.680028,
            52.78469499999999
           ],
           "type": "Point"
          },
          "id": "29",
          "lat": 52.78469499999999,
          "locatie": "Petten, Netherlands",
          "lon": 4.680028,
          "max": 0.00010256231439156359,
          "median": 9.679631248108487e-05,
          "min": 9.217811020789668e-05,
          "ministerie": "Ministerie van Defensie",
          "project": "Petten KM",
          "title": "",
          "type": "Feature"
         },
         {
          "date": "2019-07-01",
          "geometry": {
           "coordinates": [
            4.658658999999999,
            52.765042
           ],
           "type": "Point"
          },
          "id": "119",
          "lat": 52.765042,
          "locatie": "Petten, Netherlands",
          "lon": 4.658658999999999,
          "max": 0.00010101358114353542,
          "median": 9.622108273983038e-05,
          "min": 9.013017001233961e-05,
          "ministerie": "Ministerie van Volksgezondheid, Welzijn en Sport",
          "project": "Pallas medische isotopenreactor",
          "title": "",
          "type": "Feature"
         },
         {
          "date": "2019-07-01",
          "geometry": {
           "coordinates": [
            4.680028,
            52.78469499999999
           ],
           "type": "Point"
          },
          "id": "119",
          "lat": 52.78469499999999,
          "locatie": "Petten, Netherlands",
          "lon": 4.680028,
          "max": 0.00010101358114353542,
          "median": 9.622108273983038e-05,
          "min": 9.013017001233961e-05,
          "ministerie": "Ministerie van Volksgezondheid, Welzijn en Sport",
          "project": "Pallas medische isotopenreactor",
          "title": "",
          "type": "Feature"
         },
         {
          "date": "2019-08-01",
          "geometry": {
           "coordinates": [
            4.658658999999999,
            52.765042
           ],
           "type": "Point"
          },
          "id": "29",
          "lat": 52.765042,
          "locatie": "Petten, Netherlands",
          "lon": 4.658658999999999,
          "max": 0.00010267385626411105,
          "median": 9.448339533883378e-05,
          "min": 8.855109626892954e-05,
          "ministerie": "Ministerie van Defensie",
          "project": "Petten KM",
          "title": "",
          "type": "Feature"
         },
         {
          "date": "2019-08-01",
          "geometry": {
           "coordinates": [
            4.680028,
            52.78469499999999
           ],
           "type": "Point"
          },
          "id": "29",
          "lat": 52.78469499999999,
          "locatie": "Petten, Netherlands",
          "lon": 4.680028,
          "max": 0.00010267385626411105,
          "median": 9.448339533883378e-05,
          "min": 8.855109626892954e-05,
          "ministerie": "Ministerie van Defensie",
          "project": "Petten KM",
          "title": "",
          "type": "Feature"
         },
         {
          "date": "2019-08-01",
          "geometry": {
           "coordinates": [
            4.658658999999999,
            52.765042
           ],
           "type": "Point"
          },
          "id": "119",
          "lat": 52.765042,
          "locatie": "Petten, Netherlands",
          "lon": 4.658658999999999,
          "max": 0.00010201643054689677,
          "median": 9.386241748951215e-05,
          "min": 8.855109626892954e-05,
          "ministerie": "Ministerie van Volksgezondheid, Welzijn en Sport",
          "project": "Pallas medische isotopenreactor",
          "title": "",
          "type": "Feature"
         },
         {
          "date": "2019-08-01",
          "geometry": {
           "coordinates": [
            4.680028,
            52.78469499999999
           ],
           "type": "Point"
          },
          "id": "119",
          "lat": 52.78469499999999,
          "locatie": "Petten, Netherlands",
          "lon": 4.680028,
          "max": 0.00010201643054689677,
          "median": 9.386241748951215e-05,
          "min": 8.855109626892954e-05,
          "ministerie": "Ministerie van Volksgezondheid, Welzijn en Sport",
          "project": "Pallas medische isotopenreactor",
          "title": "",
          "type": "Feature"
         },
         {
          "date": "2019-09-01",
          "geometry": {
           "coordinates": [
            4.658658999999999,
            52.765042
           ],
           "type": "Point"
          },
          "id": "29",
          "lat": 52.765042,
          "locatie": "Petten, Netherlands",
          "lon": 4.658658999999999,
          "max": 8.003557487203678e-05,
          "median": 7.09171371917008e-05,
          "min": 6.358721186557833e-05,
          "ministerie": "Ministerie van Defensie",
          "project": "Petten KM",
          "title": "",
          "type": "Feature"
         },
         {
          "date": "2019-09-01",
          "geometry": {
           "coordinates": [
            4.680028,
            52.78469499999999
           ],
           "type": "Point"
          },
          "id": "29",
          "lat": 52.78469499999999,
          "locatie": "Petten, Netherlands",
          "lon": 4.680028,
          "max": 8.003557487203678e-05,
          "median": 7.09171371917008e-05,
          "min": 6.358721186557833e-05,
          "ministerie": "Ministerie van Defensie",
          "project": "Petten KM",
          "title": "",
          "type": "Feature"
         },
         {
          "date": "2019-09-01",
          "geometry": {
           "coordinates": [
            4.658658999999999,
            52.765042
           ],
           "type": "Point"
          },
          "id": "119",
          "lat": 52.765042,
          "locatie": "Petten, Netherlands",
          "lon": 4.658658999999999,
          "max": 8.003557487203678e-05,
          "median": 7.112956985330193e-05,
          "min": 6.358721186557833e-05,
          "ministerie": "Ministerie van Volksgezondheid, Welzijn en Sport",
          "project": "Pallas medische isotopenreactor",
          "title": "",
          "type": "Feature"
         },
         {
          "date": "2019-09-01",
          "geometry": {
           "coordinates": [
            4.680028,
            52.78469499999999
           ],
           "type": "Point"
          },
          "id": "119",
          "lat": 52.78469499999999,
          "locatie": "Petten, Netherlands",
          "lon": 4.680028,
          "max": 8.003557487203678e-05,
          "median": 7.112956985330193e-05,
          "min": 6.358721186557833e-05,
          "ministerie": "Ministerie van Volksgezondheid, Welzijn en Sport",
          "project": "Pallas medische isotopenreactor",
          "title": "",
          "type": "Feature"
         },
         {
          "date": "2018-07-01",
          "geometry": {
           "coordinates": [
            5.309955,
            52.124157000000004
           ],
           "type": "Point"
          },
          "id": "30",
          "lat": 52.124157000000004,
          "locatie": "Soesterberg, Netherlands",
          "lon": 5.309955,
          "max": 0.0001255089300684631,
          "median": 0.00011522789736362145,
          "min": 0.00010801740427268669,
          "ministerie": "Ministerie van Defensie",
          "project": "Regio Soesterberg",
          "title": "",
          "type": "Feature"
         },
         {
          "date": "2018-08-01",
          "geometry": {
           "coordinates": [
            5.309955,
            52.124157000000004
           ],
           "type": "Point"
          },
          "id": "30",
          "lat": 52.124157000000004,
          "locatie": "Soesterberg, Netherlands",
          "lon": 5.309955,
          "max": 0.00011717858797055669,
          "median": 0.00011212640814175397,
          "min": 0.00010060656877322572,
          "ministerie": "Ministerie van Defensie",
          "project": "Regio Soesterberg",
          "title": "",
          "type": "Feature"
         },
         {
          "date": "2018-09-01",
          "geometry": {
           "coordinates": [
            5.309955,
            52.124157000000004
           ],
           "type": "Point"
          },
          "id": "30",
          "lat": 52.124157000000004,
          "locatie": "Soesterberg, Netherlands",
          "lon": 5.309955,
          "max": 0.00015996599431239704,
          "median": 0.00014753898615727523,
          "min": 0.0001324304103036411,
          "ministerie": "Ministerie van Defensie",
          "project": "Regio Soesterberg",
          "title": "",
          "type": "Feature"
         },
         {
          "date": "2018-10-01",
          "geometry": {
           "coordinates": [
            5.309955,
            52.124157000000004
           ],
           "type": "Point"
          },
          "id": "30",
          "lat": 52.124157000000004,
          "locatie": "Soesterberg, Netherlands",
          "lon": 5.309955,
          "max": 0.00012287374556763098,
          "median": 0.00011116129489549024,
          "min": 0.00010247818863717839,
          "ministerie": "Ministerie van Defensie",
          "project": "Regio Soesterberg",
          "title": "",
          "type": "Feature"
         },
         {
          "date": "2018-11-01",
          "geometry": {
           "coordinates": [
            5.309955,
            52.124157000000004
           ],
           "type": "Point"
          },
          "id": "30",
          "lat": 52.124157000000004,
          "locatie": "Soesterberg, Netherlands",
          "lon": 5.309955,
          "max": 0.00014247935677556616,
          "median": 0.00013226306163973954,
          "min": 0.00011967091603251153,
          "ministerie": "Ministerie van Defensie",
          "project": "Regio Soesterberg",
          "title": "",
          "type": "Feature"
         },
         {
          "date": "2018-12-01",
          "geometry": {
           "coordinates": [
            5.309955,
            52.124157000000004
           ],
           "type": "Point"
          },
          "id": "30",
          "lat": 52.124157000000004,
          "locatie": "Soesterberg, Netherlands",
          "lon": 5.309955,
          "max": 0.00012458808496902457,
          "median": 0.0001069749885652782,
          "min": 9.516022581495287e-05,
          "ministerie": "Ministerie van Defensie",
          "project": "Regio Soesterberg",
          "title": "",
          "type": "Feature"
         },
         {
          "date": "2019-01-01",
          "geometry": {
           "coordinates": [
            5.309955,
            52.124157000000004
           ],
           "type": "Point"
          },
          "id": "30",
          "lat": 52.124157000000004,
          "locatie": "Soesterberg, Netherlands",
          "lon": 5.309955,
          "max": 0.00010126315848505778,
          "median": 8.686284168923046e-05,
          "min": 7.40276397152077e-05,
          "ministerie": "Ministerie van Defensie",
          "project": "Regio Soesterberg",
          "title": "",
          "type": "Feature"
         },
         {
          "date": "2019-02-01",
          "geometry": {
           "coordinates": [
            5.309955,
            52.124157000000004
           ],
           "type": "Point"
          },
          "id": "30",
          "lat": 52.124157000000004,
          "locatie": "Soesterberg, Netherlands",
          "lon": 5.309955,
          "max": 0.00016165748820640147,
          "median": 0.0001389666102373485,
          "min": 0.00012808639233819011,
          "ministerie": "Ministerie van Defensie",
          "project": "Regio Soesterberg",
          "title": "",
          "type": "Feature"
         },
         {
          "date": "2019-03-01",
          "geometry": {
           "coordinates": [
            5.309955,
            52.124157000000004
           ],
           "type": "Point"
          },
          "id": "30",
          "lat": 52.124157000000004,
          "locatie": "Soesterberg, Netherlands",
          "lon": 5.309955,
          "max": 0.00012604562734662208,
          "median": 0.00011313036152484589,
          "min": 0.00010036316962214187,
          "ministerie": "Ministerie van Defensie",
          "project": "Regio Soesterberg",
          "title": "",
          "type": "Feature"
         },
         {
          "date": "2019-04-01",
          "geometry": {
           "coordinates": [
            5.309955,
            52.124157000000004
           ],
           "type": "Point"
          },
          "id": "30",
          "lat": 52.124157000000004,
          "locatie": "Soesterberg, Netherlands",
          "lon": 5.309955,
          "max": 0.00012599050198968016,
          "median": 0.00011696969886543229,
          "min": 0.000108781670529514,
          "ministerie": "Ministerie van Defensie",
          "project": "Regio Soesterberg",
          "title": "",
          "type": "Feature"
         },
         {
          "date": "2019-05-01",
          "geometry": {
           "coordinates": [
            5.309955,
            52.124157000000004
           ],
           "type": "Point"
          },
          "id": "30",
          "lat": 52.124157000000004,
          "locatie": "Soesterberg, Netherlands",
          "lon": 5.309955,
          "max": 0.00011971558880865249,
          "median": 0.00011411097106915178,
          "min": 0.00010992164196958092,
          "ministerie": "Ministerie van Defensie",
          "project": "Regio Soesterberg",
          "title": "",
          "type": "Feature"
         },
         {
          "date": "2019-06-01",
          "geometry": {
           "coordinates": [
            5.309955,
            52.124157000000004
           ],
           "type": "Point"
          },
          "id": "30",
          "lat": 52.124157000000004,
          "locatie": "Soesterberg, Netherlands",
          "lon": 5.309955,
          "max": 0.00011570701604099631,
          "median": 0.0001096259303681718,
          "min": 0.0001036735721069662,
          "ministerie": "Ministerie van Defensie",
          "project": "Regio Soesterberg",
          "title": "",
          "type": "Feature"
         },
         {
          "date": "2019-07-01",
          "geometry": {
           "coordinates": [
            5.309955,
            52.124157000000004
           ],
           "type": "Point"
          },
          "id": "30",
          "lat": 52.124157000000004,
          "locatie": "Soesterberg, Netherlands",
          "lon": 5.309955,
          "max": 0.00011081800409211675,
          "median": 0.0001059781070247932,
          "min": 0.00010073271508349799,
          "ministerie": "Ministerie van Defensie",
          "project": "Regio Soesterberg",
          "title": "",
          "type": "Feature"
         },
         {
          "date": "2019-08-01",
          "geometry": {
           "coordinates": [
            5.309955,
            52.124157000000004
           ],
           "type": "Point"
          },
          "id": "30",
          "lat": 52.124157000000004,
          "locatie": "Soesterberg, Netherlands",
          "lon": 5.309955,
          "max": 0.00012862199218943715,
          "median": 0.00011718685091253646,
          "min": 0.00010832667612703517,
          "ministerie": "Ministerie van Defensie",
          "project": "Regio Soesterberg",
          "title": "",
          "type": "Feature"
         },
         {
          "date": "2019-09-01",
          "geometry": {
           "coordinates": [
            5.309955,
            52.124157000000004
           ],
           "type": "Point"
          },
          "id": "30",
          "lat": 52.124157000000004,
          "locatie": "Soesterberg, Netherlands",
          "lon": 5.309955,
          "max": 0.00011377337410396567,
          "median": 0.00010160802412428893,
          "min": 7.81103091883456e-05,
          "ministerie": "Ministerie van Defensie",
          "project": "Regio Soesterberg",
          "title": "",
          "type": "Feature"
         },
         {
          "date": "2018-07-01",
          "geometry": {
           "coordinates": [
            4.328997,
            51.395744
           ],
           "type": "Point"
          },
          "id": "31",
          "lat": 51.395744,
          "locatie": "Ossendrecht, Netherlands",
          "lon": 4.328997,
          "max": 0.00018283418982177453,
          "median": 0.00014350477568022922,
          "min": 0.0001307278352255736,
          "ministerie": "Ministerie van Defensie",
          "project": "Schietfaciliteit Ossendrecht",
          "title": "",
          "type": "Feature"
         },
         {
          "date": "2018-08-01",
          "geometry": {
           "coordinates": [
            4.328997,
            51.395744
           ],
           "type": "Point"
          },
          "id": "31",
          "lat": 51.395744,
          "locatie": "Ossendrecht, Netherlands",
          "lon": 4.328997,
          "max": 0.00012952408249121406,
          "median": 0.00011089859557350324,
          "min": 0.00010193302402069976,
          "ministerie": "Ministerie van Defensie",
          "project": "Schietfaciliteit Ossendrecht",
          "title": "",
          "type": "Feature"
         },
         {
          "date": "2018-09-01",
          "geometry": {
           "coordinates": [
            4.328997,
            51.395744
           ],
           "type": "Point"
          },
          "id": "31",
          "lat": 51.395744,
          "locatie": "Ossendrecht, Netherlands",
          "lon": 4.328997,
          "max": 0.00017539345039789626,
          "median": 0.00013625618660883414,
          "min": 0.00012560429007637213,
          "ministerie": "Ministerie van Defensie",
          "project": "Schietfaciliteit Ossendrecht",
          "title": "",
          "type": "Feature"
         },
         {
          "date": "2018-10-01",
          "geometry": {
           "coordinates": [
            4.328997,
            51.395744
           ],
           "type": "Point"
          },
          "id": "31",
          "lat": 51.395744,
          "locatie": "Ossendrecht, Netherlands",
          "lon": 4.328997,
          "max": 0.00017461199084120897,
          "median": 0.00014007144061268045,
          "min": 0.0001221714192070067,
          "ministerie": "Ministerie van Defensie",
          "project": "Schietfaciliteit Ossendrecht",
          "title": "",
          "type": "Feature"
         },
         {
          "date": "2018-11-01",
          "geometry": {
           "coordinates": [
            4.328997,
            51.395744
           ],
           "type": "Point"
          },
          "id": "31",
          "lat": 51.395744,
          "locatie": "Ossendrecht, Netherlands",
          "lon": 4.328997,
          "max": 0.00020377377222757787,
          "median": 0.00017138045392788988,
          "min": 0.00014344734408653937,
          "ministerie": "Ministerie van Defensie",
          "project": "Schietfaciliteit Ossendrecht",
          "title": "",
          "type": "Feature"
         },
         {
          "date": "2018-12-01",
          "geometry": {
           "coordinates": [
            4.328997,
            51.395744
           ],
           "type": "Point"
          },
          "id": "31",
          "lat": 51.395744,
          "locatie": "Ossendrecht, Netherlands",
          "lon": 4.328997,
          "max": 0.00014138406889677103,
          "median": 0.0001133513306983441,
          "min": 9.792086348170415e-05,
          "ministerie": "Ministerie van Defensie",
          "project": "Schietfaciliteit Ossendrecht",
          "title": "",
          "type": "Feature"
         },
         {
          "date": "2019-01-01",
          "geometry": {
           "coordinates": [
            4.328997,
            51.395744
           ],
           "type": "Point"
          },
          "id": "31",
          "lat": 51.395744,
          "locatie": "Ossendrecht, Netherlands",
          "lon": 4.328997,
          "max": 0.00012768894639777215,
          "median": 0.00010474414303135809,
          "min": 7.560811099923653e-05,
          "ministerie": "Ministerie van Defensie",
          "project": "Schietfaciliteit Ossendrecht",
          "title": "",
          "type": "Feature"
         },
         {
          "date": "2019-02-01",
          "geometry": {
           "coordinates": [
            4.328997,
            51.395744
           ],
           "type": "Point"
          },
          "id": "31",
          "lat": 51.395744,
          "locatie": "Ossendrecht, Netherlands",
          "lon": 4.328997,
          "max": 0.0001998021622897246,
          "median": 0.00017176513118464926,
          "min": 0.00014819269174768014,
          "ministerie": "Ministerie van Defensie",
          "project": "Schietfaciliteit Ossendrecht",
          "title": "",
          "type": "Feature"
         },
         {
          "date": "2019-03-01",
          "geometry": {
           "coordinates": [
            4.328997,
            51.395744
           ],
           "type": "Point"
          },
          "id": "31",
          "lat": 51.395744,
          "locatie": "Ossendrecht, Netherlands",
          "lon": 4.328997,
          "max": 0.0001320797077289381,
          "median": 9.643183277650456e-05,
          "min": 9.168124233838171e-05,
          "ministerie": "Ministerie van Defensie",
          "project": "Schietfaciliteit Ossendrecht",
          "title": "",
          "type": "Feature"
         },
         {
          "date": "2019-04-01",
          "geometry": {
           "coordinates": [
            4.328997,
            51.395744
           ],
           "type": "Point"
          },
          "id": "31",
          "lat": 51.395744,
          "locatie": "Ossendrecht, Netherlands",
          "lon": 4.328997,
          "max": 0.00018717312744359976,
          "median": 0.0001473368205989456,
          "min": 0.00013420457253232598,
          "ministerie": "Ministerie van Defensie",
          "project": "Schietfaciliteit Ossendrecht",
          "title": "",
          "type": "Feature"
         },
         {
          "date": "2019-05-01",
          "geometry": {
           "coordinates": [
            4.328997,
            51.395744
           ],
           "type": "Point"
          },
          "id": "31",
          "lat": 51.395744,
          "locatie": "Ossendrecht, Netherlands",
          "lon": 4.328997,
          "max": 0.00016370441884323977,
          "median": 0.00013276316136180726,
          "min": 0.0001243726836686597,
          "ministerie": "Ministerie van Defensie",
          "project": "Schietfaciliteit Ossendrecht",
          "title": "",
          "type": "Feature"
         },
         {
          "date": "2019-06-01",
          "geometry": {
           "coordinates": [
            4.328997,
            51.395744
           ],
           "type": "Point"
          },
          "id": "31",
          "lat": 51.395744,
          "locatie": "Ossendrecht, Netherlands",
          "lon": 4.328997,
          "max": 0.00015954967764570202,
          "median": 0.00013205574941821396,
          "min": 0.000116358290896362,
          "ministerie": "Ministerie van Defensie",
          "project": "Schietfaciliteit Ossendrecht",
          "title": "",
          "type": "Feature"
         },
         {
          "date": "2019-07-01",
          "geometry": {
           "coordinates": [
            4.328997,
            51.395744
           ],
           "type": "Point"
          },
          "id": "31",
          "lat": 51.395744,
          "locatie": "Ossendrecht, Netherlands",
          "lon": 4.328997,
          "max": 0.00015391664925954124,
          "median": 0.000120375188998878,
          "min": 0.00010812852711102248,
          "ministerie": "Ministerie van Defensie",
          "project": "Schietfaciliteit Ossendrecht",
          "title": "",
          "type": "Feature"
         },
         {
          "date": "2019-08-01",
          "geometry": {
           "coordinates": [
            4.328997,
            51.395744
           ],
           "type": "Point"
          },
          "id": "31",
          "lat": 51.395744,
          "locatie": "Ossendrecht, Netherlands",
          "lon": 4.328997,
          "max": 0.00015916599810627622,
          "median": 0.00012614846534080606,
          "min": 0.00011232820179429837,
          "ministerie": "Ministerie van Defensie",
          "project": "Schietfaciliteit Ossendrecht",
          "title": "",
          "type": "Feature"
         },
         {
          "date": "2019-09-01",
          "geometry": {
           "coordinates": [
            4.328997,
            51.395744
           ],
           "type": "Point"
          },
          "id": "31",
          "lat": 51.395744,
          "locatie": "Ossendrecht, Netherlands",
          "lon": 4.328997,
          "max": 0.00016116418459558872,
          "median": 0.00011046664327130705,
          "min": 8.018298143987751e-05,
          "ministerie": "Ministerie van Defensie",
          "project": "Schietfaciliteit Ossendrecht",
          "title": "",
          "type": "Feature"
         },
         {
          "date": "2018-07-01",
          "geometry": {
           "coordinates": [
            6.293895,
            52.67355
           ],
           "type": "Point"
          },
          "id": "32",
          "lat": 52.67355,
          "locatie": "Nic Oostinghweg, De Wijk, Netherlands",
          "lon": 6.293895,
          "max": 0.0001052551562805718,
          "median": 0.00010211675888333501,
          "min": 9.607903274226815e-05,
          "ministerie": "Ministerie van Defensie",
          "project": "USAG nic oost",
          "title": "",
          "type": "Feature"
         },
         {
          "date": "2018-08-01",
          "geometry": {
           "coordinates": [
            6.293895,
            52.67355
           ],
           "type": "Point"
          },
          "id": "32",
          "lat": 52.67355,
          "locatie": "Nic Oostinghweg, De Wijk, Netherlands",
          "lon": 6.293895,
          "max": 0.00010476147340705311,
          "median": 9.97438817780216e-05,
          "min": 9.35194329940714e-05,
          "ministerie": "Ministerie van Defensie",
          "project": "USAG nic oost",
          "title": "",
          "type": "Feature"
         },
         {
          "date": "2018-09-01",
          "geometry": {
           "coordinates": [
            6.293895,
            52.67355
           ],
           "type": "Point"
          },
          "id": "32",
          "lat": 52.67355,
          "locatie": "Nic Oostinghweg, De Wijk, Netherlands",
          "lon": 6.293895,
          "max": 0.00013542271335609257,
          "median": 0.00012223362567611521,
          "min": 0.00010218819443252869,
          "ministerie": "Ministerie van Defensie",
          "project": "USAG nic oost",
          "title": "",
          "type": "Feature"
         },
         {
          "date": "2018-10-01",
          "geometry": {
           "coordinates": [
            6.293895,
            52.67355
           ],
           "type": "Point"
          },
          "id": "32",
          "lat": 52.67355,
          "locatie": "Nic Oostinghweg, De Wijk, Netherlands",
          "lon": 6.293895,
          "max": 0.00010414748976472765,
          "median": 9.731778302827868e-05,
          "min": 8.709500348711545e-05,
          "ministerie": "Ministerie van Defensie",
          "project": "USAG nic oost",
          "title": "",
          "type": "Feature"
         },
         {
          "date": "2018-11-01",
          "geometry": {
           "coordinates": [
            6.293895,
            52.67355
           ],
           "type": "Point"
          },
          "id": "32",
          "lat": 52.67355,
          "locatie": "Nic Oostinghweg, De Wijk, Netherlands",
          "lon": 6.293895,
          "max": 0.0001291373008199604,
          "median": 0.00011924289996722968,
          "min": 0.00010364983577514212,
          "ministerie": "Ministerie van Defensie",
          "project": "USAG nic oost",
          "title": "",
          "type": "Feature"
         },
         {
          "date": "2018-12-01",
          "geometry": {
           "coordinates": [
            6.293895,
            52.67355
           ],
           "type": "Point"
          },
          "id": "32",
          "lat": 52.67355,
          "locatie": "Nic Oostinghweg, De Wijk, Netherlands",
          "lon": 6.293895,
          "max": 9.675207834974368e-05,
          "median": 7.858823146461938e-05,
          "min": 6.840145215392113e-05,
          "ministerie": "Ministerie van Defensie",
          "project": "USAG nic oost",
          "title": "",
          "type": "Feature"
         },
         {
          "date": "2019-01-01",
          "geometry": {
           "coordinates": [
            6.293895,
            52.67355
           ],
           "type": "Point"
          },
          "id": "32",
          "lat": 52.67355,
          "locatie": "Nic Oostinghweg, De Wijk, Netherlands",
          "lon": 6.293895,
          "max": 8.51580484988524e-05,
          "median": 6.805124173264688e-05,
          "min": 5.702342605218291e-05,
          "ministerie": "Ministerie van Defensie",
          "project": "USAG nic oost",
          "title": "",
          "type": "Feature"
         },
         {
          "date": "2019-02-01",
          "geometry": {
           "coordinates": [
            6.293895,
            52.67355
           ],
           "type": "Point"
          },
          "id": "32",
          "lat": 52.67355,
          "locatie": "Nic Oostinghweg, De Wijk, Netherlands",
          "lon": 6.293895,
          "max": 0.00014127740884964623,
          "median": 0.00013222689108411398,
          "min": 0.00012306528515182436,
          "ministerie": "Ministerie van Defensie",
          "project": "USAG nic oost",
          "title": "",
          "type": "Feature"
         },
         {
          "date": "2019-03-01",
          "geometry": {
           "coordinates": [
            6.293895,
            52.67355
           ],
           "type": "Point"
          },
          "id": "32",
          "lat": 52.67355,
          "locatie": "Nic Oostinghweg, De Wijk, Netherlands",
          "lon": 6.293895,
          "max": 9.075701382244006e-05,
          "median": 8.530739854540993e-05,
          "min": 7.207153248600662e-05,
          "ministerie": "Ministerie van Defensie",
          "project": "USAG nic oost",
          "title": "",
          "type": "Feature"
         },
         {
          "date": "2019-04-01",
          "geometry": {
           "coordinates": [
            6.293895,
            52.67355
           ],
           "type": "Point"
          },
          "id": "32",
          "lat": 52.67355,
          "locatie": "Nic Oostinghweg, De Wijk, Netherlands",
          "lon": 6.293895,
          "max": 0.00011144548625452444,
          "median": 0.0001033664991649114,
          "min": 9.878724085865542e-05,
          "ministerie": "Ministerie van Defensie",
          "project": "USAG nic oost",
          "title": "",
          "type": "Feature"
         },
         {
          "date": "2019-05-01",
          "geometry": {
           "coordinates": [
            6.293895,
            52.67355
           ],
           "type": "Point"
          },
          "id": "32",
          "lat": 52.67355,
          "locatie": "Nic Oostinghweg, De Wijk, Netherlands",
          "lon": 6.293895,
          "max": 9.93668245071509e-05,
          "median": 9.560637408867478e-05,
          "min": 9.289726585848257e-05,
          "ministerie": "Ministerie van Defensie",
          "project": "USAG nic oost",
          "title": "",
          "type": "Feature"
         },
         {
          "date": "2019-06-01",
          "geometry": {
           "coordinates": [
            6.293895,
            52.67355
           ],
           "type": "Point"
          },
          "id": "32",
          "lat": 52.67355,
          "locatie": "Nic Oostinghweg, De Wijk, Netherlands",
          "lon": 6.293895,
          "max": 0.00010217842282145284,
          "median": 9.745957504492253e-05,
          "min": 9.245084134833804e-05,
          "ministerie": "Ministerie van Defensie",
          "project": "USAG nic oost",
          "title": "",
          "type": "Feature"
         },
         {
          "date": "2019-07-01",
          "geometry": {
           "coordinates": [
            6.293895,
            52.67355
           ],
           "type": "Point"
          },
          "id": "32",
          "lat": 52.67355,
          "locatie": "Nic Oostinghweg, De Wijk, Netherlands",
          "lon": 6.293895,
          "max": 9.463640527468747e-05,
          "median": 8.985476550145846e-05,
          "min": 8.559291932213303e-05,
          "ministerie": "Ministerie van Defensie",
          "project": "USAG nic oost",
          "title": "",
          "type": "Feature"
         },
         {
          "date": "2019-08-01",
          "geometry": {
           "coordinates": [
            6.293895,
            52.67355
           ],
           "type": "Point"
          },
          "id": "32",
          "lat": 52.67355,
          "locatie": "Nic Oostinghweg, De Wijk, Netherlands",
          "lon": 6.293895,
          "max": 0.00011480203228774002,
          "median": 0.00010381830582994805,
          "min": 9.706954369903542e-05,
          "ministerie": "Ministerie van Defensie",
          "project": "USAG nic oost",
          "title": "",
          "type": "Feature"
         },
         {
          "date": "2019-09-01",
          "geometry": {
           "coordinates": [
            6.293895,
            52.67355
           ],
           "type": "Point"
          },
          "id": "32",
          "lat": 52.67355,
          "locatie": "Nic Oostinghweg, De Wijk, Netherlands",
          "lon": 6.293895,
          "max": 9.91332417470403e-05,
          "median": 7.642523996764794e-05,
          "min": 6.7570035753306e-05,
          "ministerie": "Ministerie van Defensie",
          "project": "USAG nic oost",
          "title": "",
          "type": "Feature"
         },
         {
          "date": "2018-07-01",
          "geometry": {
           "coordinates": [
            4.781179,
            52.922178
           ],
           "type": "Point"
          },
          "id": "33",
          "lat": 52.922178,
          "locatie": "De Kooy, Den Helder, Netherlands",
          "lon": 4.781179,
          "max": 0.00010205414010141576,
          "median": 9.700413562079152e-05,
          "min": 9.018713752587792e-05,
          "ministerie": "Ministerie van Defensie",
          "project": "Vliegbasis De Kooy",
          "title": "",
          "type": "Feature"
         },
         {
          "date": "2018-08-01",
          "geometry": {
           "coordinates": [
            4.781179,
            52.922178
           ],
           "type": "Point"
          },
          "id": "33",
          "lat": 52.922178,
          "locatie": "De Kooy, Den Helder, Netherlands",
          "lon": 4.781179,
          "max": 8.909001758992933e-05,
          "median": 8.548219557269476e-05,
          "min": 8.022900874493644e-05,
          "ministerie": "Ministerie van Defensie",
          "project": "Vliegbasis De Kooy",
          "title": "",
          "type": "Feature"
         },
         {
          "date": "2018-09-01",
          "geometry": {
           "coordinates": [
            4.781179,
            52.922178
           ],
           "type": "Point"
          },
          "id": "33",
          "lat": 52.922178,
          "locatie": "De Kooy, Den Helder, Netherlands",
          "lon": 4.781179,
          "max": 0.000104169511320394,
          "median": 9.620236232876778e-05,
          "min": 8.436208435859963e-05,
          "ministerie": "Ministerie van Defensie",
          "project": "Vliegbasis De Kooy",
          "title": "",
          "type": "Feature"
         },
         {
          "date": "2018-10-01",
          "geometry": {
           "coordinates": [
            4.781179,
            52.922178
           ],
           "type": "Point"
          },
          "id": "33",
          "lat": 52.922178,
          "locatie": "De Kooy, Den Helder, Netherlands",
          "lon": 4.781179,
          "max": 8.839328297922464e-05,
          "median": 8.18789796593262e-05,
          "min": 7.230208623437786e-05,
          "ministerie": "Ministerie van Defensie",
          "project": "Vliegbasis De Kooy",
          "title": "",
          "type": "Feature"
         },
         {
          "date": "2018-11-01",
          "geometry": {
           "coordinates": [
            4.781179,
            52.922178
           ],
           "type": "Point"
          },
          "id": "33",
          "lat": 52.922178,
          "locatie": "De Kooy, Den Helder, Netherlands",
          "lon": 4.781179,
          "max": 0.0001352024001459212,
          "median": 0.00011023317140573788,
          "min": 9.990414823297852e-05,
          "ministerie": "Ministerie van Defensie",
          "project": "Vliegbasis De Kooy",
          "title": "",
          "type": "Feature"
         },
         {
          "date": "2018-12-01",
          "geometry": {
           "coordinates": [
            4.781179,
            52.922178
           ],
           "type": "Point"
          },
          "id": "33",
          "lat": 52.922178,
          "locatie": "De Kooy, Den Helder, Netherlands",
          "lon": 4.781179,
          "max": 8.268456381763125e-05,
          "median": 6.91112599544733e-05,
          "min": 6.0724559038720166e-05,
          "ministerie": "Ministerie van Defensie",
          "project": "Vliegbasis De Kooy",
          "title": "",
          "type": "Feature"
         },
         {
          "date": "2019-01-01",
          "geometry": {
           "coordinates": [
            4.781179,
            52.922178
           ],
           "type": "Point"
          },
          "id": "33",
          "lat": 52.922178,
          "locatie": "De Kooy, Den Helder, Netherlands",
          "lon": 4.781179,
          "max": 5.397798450397571e-05,
          "median": 4.32882995044443e-05,
          "min": 3.4650885936571285e-05,
          "ministerie": "Ministerie van Defensie",
          "project": "Vliegbasis De Kooy",
          "title": "",
          "type": "Feature"
         },
         {
          "date": "2019-02-01",
          "geometry": {
           "coordinates": [
            4.781179,
            52.922178
           ],
           "type": "Point"
          },
          "id": "33",
          "lat": 52.922178,
          "locatie": "De Kooy, Den Helder, Netherlands",
          "lon": 4.781179,
          "max": 0.0001371496411092811,
          "median": 0.0001294356977291696,
          "min": 0.00011415978055395619,
          "ministerie": "Ministerie van Defensie",
          "project": "Vliegbasis De Kooy",
          "title": "",
          "type": "Feature"
         },
         {
          "date": "2019-03-01",
          "geometry": {
           "coordinates": [
            4.781179,
            52.922178
           ],
           "type": "Point"
          },
          "id": "33",
          "lat": 52.922178,
          "locatie": "De Kooy, Den Helder, Netherlands",
          "lon": 4.781179,
          "max": 8.446200648793128e-05,
          "median": 7.803524463593001e-05,
          "min": 7.146561256377026e-05,
          "ministerie": "Ministerie van Defensie",
          "project": "Vliegbasis De Kooy",
          "title": "",
          "type": "Feature"
         },
         {
          "date": "2019-04-01",
          "geometry": {
           "coordinates": [
            4.781179,
            52.922178
           ],
           "type": "Point"
          },
          "id": "33",
          "lat": 52.922178,
          "locatie": "De Kooy, Den Helder, Netherlands",
          "lon": 4.781179,
          "max": 0.00010347791960173203,
          "median": 9.766077897581366e-05,
          "min": 9.480810625269384e-05,
          "ministerie": "Ministerie van Defensie",
          "project": "Vliegbasis De Kooy",
          "title": "",
          "type": "Feature"
         },
         {
          "date": "2019-05-01",
          "geometry": {
           "coordinates": [
            4.781179,
            52.922178
           ],
           "type": "Point"
          },
          "id": "33",
          "lat": 52.922178,
          "locatie": "De Kooy, Den Helder, Netherlands",
          "lon": 4.781179,
          "max": 0.00010218510826953357,
          "median": 9.539034585102869e-05,
          "min": 9.075868630902052e-05,
          "ministerie": "Ministerie van Defensie",
          "project": "Vliegbasis De Kooy",
          "title": "",
          "type": "Feature"
         },
         {
          "date": "2019-06-01",
          "geometry": {
           "coordinates": [
            4.781179,
            52.922178
           ],
           "type": "Point"
          },
          "id": "33",
          "lat": 52.922178,
          "locatie": "De Kooy, Den Helder, Netherlands",
          "lon": 4.781179,
          "max": 0.0001082854978449177,
          "median": 0.00010519560597390044,
          "min": 9.969642254358433e-05,
          "ministerie": "Ministerie van Defensie",
          "project": "Vliegbasis De Kooy",
          "title": "",
          "type": "Feature"
         },
         {
          "date": "2019-07-01",
          "geometry": {
           "coordinates": [
            4.781179,
            52.922178
           ],
           "type": "Point"
          },
          "id": "33",
          "lat": 52.922178,
          "locatie": "De Kooy, Den Helder, Netherlands",
          "lon": 4.781179,
          "max": 9.688562009241554e-05,
          "median": 9.368865588339255e-05,
          "min": 8.835556809973674e-05,
          "ministerie": "Ministerie van Defensie",
          "project": "Vliegbasis De Kooy",
          "title": "",
          "type": "Feature"
         },
         {
          "date": "2019-08-01",
          "geometry": {
           "coordinates": [
            4.781179,
            52.922178
           ],
           "type": "Point"
          },
          "id": "33",
          "lat": 52.922178,
          "locatie": "De Kooy, Den Helder, Netherlands",
          "lon": 4.781179,
          "max": 9.769995085662231e-05,
          "median": 9.19655872161924e-05,
          "min": 8.758283802652407e-05,
          "ministerie": "Ministerie van Defensie",
          "project": "Vliegbasis De Kooy",
          "title": "",
          "type": "Feature"
         },
         {
          "date": "2019-09-01",
          "geometry": {
           "coordinates": [
            4.781179,
            52.922178
           ],
           "type": "Point"
          },
          "id": "33",
          "lat": 52.922178,
          "locatie": "De Kooy, Den Helder, Netherlands",
          "lon": 4.781179,
          "max": 8.123907537083142e-05,
          "median": 7.636685977069127e-05,
          "min": 7.024264851670943e-05,
          "ministerie": "Ministerie van Defensie",
          "project": "Vliegbasis De Kooy",
          "title": "",
          "type": "Feature"
         },
         {
          "date": "2018-07-01",
          "geometry": {
           "coordinates": [
            5.376337,
            51.452541
           ],
           "type": "Point"
          },
          "id": "34",
          "lat": 51.452541,
          "locatie": "Eindhoven Airport, Eindhoven, Netherlands",
          "lon": 5.376337,
          "max": 0.00013498107728082687,
          "median": 0.0001302856097887789,
          "min": 0.0001181984094477058,
          "ministerie": "Ministerie van Defensie",
          "project": "Vliegbasis Eindhoven",
          "title": "",
          "type": "Feature"
         },
         {
          "date": "2018-08-01",
          "geometry": {
           "coordinates": [
            5.376337,
            51.452541
           ],
           "type": "Point"
          },
          "id": "34",
          "lat": 51.452541,
          "locatie": "Eindhoven Airport, Eindhoven, Netherlands",
          "lon": 5.376337,
          "max": 0.00011252577218009597,
          "median": 0.00010644431369269904,
          "min": 0.00010094022822824596,
          "ministerie": "Ministerie van Defensie",
          "project": "Vliegbasis Eindhoven",
          "title": "",
          "type": "Feature"
         },
         {
          "date": "2018-09-01",
          "geometry": {
           "coordinates": [
            5.376337,
            51.452541
           ],
           "type": "Point"
          },
          "id": "34",
          "lat": 51.452541,
          "locatie": "Eindhoven Airport, Eindhoven, Netherlands",
          "lon": 5.376337,
          "max": 0.0001502728700870648,
          "median": 0.00013696818496100605,
          "min": 0.00012846232725083543,
          "ministerie": "Ministerie van Defensie",
          "project": "Vliegbasis Eindhoven",
          "title": "",
          "type": "Feature"
         },
         {
          "date": "2018-10-01",
          "geometry": {
           "coordinates": [
            5.376337,
            51.452541
           ],
           "type": "Point"
          },
          "id": "34",
          "lat": 51.452541,
          "locatie": "Eindhoven Airport, Eindhoven, Netherlands",
          "lon": 5.376337,
          "max": 0.0001460268348682754,
          "median": 0.00012972598779015243,
          "min": 0.00011694568820530549,
          "ministerie": "Ministerie van Defensie",
          "project": "Vliegbasis Eindhoven",
          "title": "",
          "type": "Feature"
         },
         {
          "date": "2018-11-01",
          "geometry": {
           "coordinates": [
            5.376337,
            51.452541
           ],
           "type": "Point"
          },
          "id": "34",
          "lat": 51.452541,
          "locatie": "Eindhoven Airport, Eindhoven, Netherlands",
          "lon": 5.376337,
          "max": 0.00015607208248557468,
          "median": 0.0001426671806257218,
          "min": 0.0001285620575191928,
          "ministerie": "Ministerie van Defensie",
          "project": "Vliegbasis Eindhoven",
          "title": "",
          "type": "Feature"
         },
         {
          "date": "2018-12-01",
          "geometry": {
           "coordinates": [
            5.376337,
            51.452541
           ],
           "type": "Point"
          },
          "id": "34",
          "lat": 51.452541,
          "locatie": "Eindhoven Airport, Eindhoven, Netherlands",
          "lon": 5.376337,
          "max": 0.00015639358025509864,
          "median": 0.00012487258936744183,
          "min": 0.00010837819627996125,
          "ministerie": "Ministerie van Defensie",
          "project": "Vliegbasis Eindhoven",
          "title": "",
          "type": "Feature"
         },
         {
          "date": "2019-01-01",
          "geometry": {
           "coordinates": [
            5.376337,
            51.452541
           ],
           "type": "Point"
          },
          "id": "34",
          "lat": 51.452541,
          "locatie": "Eindhoven Airport, Eindhoven, Netherlands",
          "lon": 5.376337,
          "max": 0.00014122738289823168,
          "median": 0.0001172179897742251,
          "min": 9.238503116648644e-05,
          "ministerie": "Ministerie van Defensie",
          "project": "Vliegbasis Eindhoven",
          "title": "",
          "type": "Feature"
         },
         {
          "date": "2019-02-01",
          "geometry": {
           "coordinates": [
            5.376337,
            51.452541
           ],
           "type": "Point"
          },
          "id": "34",
          "lat": 51.452541,
          "locatie": "Eindhoven Airport, Eindhoven, Netherlands",
          "lon": 5.376337,
          "max": 0.00015458033356206276,
          "median": 0.0001405688355244502,
          "min": 0.00012683612978233724,
          "ministerie": "Ministerie van Defensie",
          "project": "Vliegbasis Eindhoven",
          "title": "",
          "type": "Feature"
         },
         {
          "date": "2019-03-01",
          "geometry": {
           "coordinates": [
            5.376337,
            51.452541
           ],
           "type": "Point"
          },
          "id": "34",
          "lat": 51.452541,
          "locatie": "Eindhoven Airport, Eindhoven, Netherlands",
          "lon": 5.376337,
          "max": 0.00013645097351400182,
          "median": 0.00012098310980945826,
          "min": 0.00010063165244822932,
          "ministerie": "Ministerie van Defensie",
          "project": "Vliegbasis Eindhoven",
          "title": "",
          "type": "Feature"
         },
         {
          "date": "2019-04-01",
          "geometry": {
           "coordinates": [
            5.376337,
            51.452541
           ],
           "type": "Point"
          },
          "id": "34",
          "lat": 51.452541,
          "locatie": "Eindhoven Airport, Eindhoven, Netherlands",
          "lon": 5.376337,
          "max": 0.00015592315065628622,
          "median": 0.00014784437200977168,
          "min": 0.00013449009316244306,
          "ministerie": "Ministerie van Defensie",
          "project": "Vliegbasis Eindhoven",
          "title": "",
          "type": "Feature"
         },
         {
          "date": "2019-05-01",
          "geometry": {
           "coordinates": [
            5.376337,
            51.452541
           ],
           "type": "Point"
          },
          "id": "34",
          "lat": 51.452541,
          "locatie": "Eindhoven Airport, Eindhoven, Netherlands",
          "lon": 5.376337,
          "max": 0.00013013074298692757,
          "median": 0.00012493523172452115,
          "min": 0.00011879688593178784,
          "ministerie": "Ministerie van Defensie",
          "project": "Vliegbasis Eindhoven",
          "title": "",
          "type": "Feature"
         },
         {
          "date": "2019-06-01",
          "geometry": {
           "coordinates": [
            5.376337,
            51.452541
           ],
           "type": "Point"
          },
          "id": "34",
          "lat": 51.452541,
          "locatie": "Eindhoven Airport, Eindhoven, Netherlands",
          "lon": 5.376337,
          "max": 0.00012029830784453997,
          "median": 0.00011464405542938039,
          "min": 0.0001083121329957223,
          "ministerie": "Ministerie van Defensie",
          "project": "Vliegbasis Eindhoven",
          "title": "",
          "type": "Feature"
         },
         {
          "date": "2019-07-01",
          "geometry": {
           "coordinates": [
            5.376337,
            51.452541
           ],
           "type": "Point"
          },
          "id": "34",
          "lat": 51.452541,
          "locatie": "Eindhoven Airport, Eindhoven, Netherlands",
          "lon": 5.376337,
          "max": 0.00011923760030185804,
          "median": 0.00011146291113293489,
          "min": 0.00010394958303304047,
          "ministerie": "Ministerie van Defensie",
          "project": "Vliegbasis Eindhoven",
          "title": "",
          "type": "Feature"
         },
         {
          "date": "2019-08-01",
          "geometry": {
           "coordinates": [
            5.376337,
            51.452541
           ],
           "type": "Point"
          },
          "id": "34",
          "lat": 51.452541,
          "locatie": "Eindhoven Airport, Eindhoven, Netherlands",
          "lon": 5.376337,
          "max": 0.00012038867134833708,
          "median": 0.00011344869411727421,
          "min": 0.00010091408702587879,
          "ministerie": "Ministerie van Defensie",
          "project": "Vliegbasis Eindhoven",
          "title": "",
          "type": "Feature"
         },
         {
          "date": "2019-09-01",
          "geometry": {
           "coordinates": [
            5.376337,
            51.452541
           ],
           "type": "Point"
          },
          "id": "34",
          "lat": 51.452541,
          "locatie": "Eindhoven Airport, Eindhoven, Netherlands",
          "lon": 5.376337,
          "max": 0.00013351824597668607,
          "median": 9.68947740359077e-05,
          "min": 8.46831280796323e-05,
          "ministerie": "Ministerie van Defensie",
          "project": "Vliegbasis Eindhoven",
          "title": "",
          "type": "Feature"
         },
         {
          "date": "2018-07-01",
          "geometry": {
           "coordinates": [
            4.925511,
            51.568354
           ],
           "type": "Point"
          },
          "id": "35",
          "lat": 51.568354,
          "locatie": "Vliegbasis Gilze-Rijen, Rijen, Netherlands",
          "lon": 4.925511,
          "max": 0.00014031707542017102,
          "median": 0.00013524365203920752,
          "min": 0.00011772420953904227,
          "ministerie": "Ministerie van Defensie",
          "project": "Vliegbasis Gilze-Rijen",
          "title": "",
          "type": "Feature"
         },
         {
          "date": "2018-08-01",
          "geometry": {
           "coordinates": [
            4.925511,
            51.568354
           ],
           "type": "Point"
          },
          "id": "35",
          "lat": 51.568354,
          "locatie": "Vliegbasis Gilze-Rijen, Rijen, Netherlands",
          "lon": 4.925511,
          "max": 0.00012262127711437643,
          "median": 0.00011631399049869363,
          "min": 0.00010484462109161541,
          "ministerie": "Ministerie van Defensie",
          "project": "Vliegbasis Gilze-Rijen",
          "title": "",
          "type": "Feature"
         },
         {
          "date": "2018-09-01",
          "geometry": {
           "coordinates": [
            4.925511,
            51.568354
           ],
           "type": "Point"
          },
          "id": "35",
          "lat": 51.568354,
          "locatie": "Vliegbasis Gilze-Rijen, Rijen, Netherlands",
          "lon": 4.925511,
          "max": 0.00015461356088053435,
          "median": 0.00014438404645581034,
          "min": 0.00012918803435118593,
          "ministerie": "Ministerie van Defensie",
          "project": "Vliegbasis Gilze-Rijen",
          "title": "",
          "type": "Feature"
         },
         {
          "date": "2018-10-01",
          "geometry": {
           "coordinates": [
            4.925511,
            51.568354
           ],
           "type": "Point"
          },
          "id": "35",
          "lat": 51.568354,
          "locatie": "Vliegbasis Gilze-Rijen, Rijen, Netherlands",
          "lon": 4.925511,
          "max": 0.00014466221909970045,
          "median": 0.00012379082876761937,
          "min": 0.0001051830185963188,
          "ministerie": "Ministerie van Defensie",
          "project": "Vliegbasis Gilze-Rijen",
          "title": "",
          "type": "Feature"
         },
         {
          "date": "2018-11-01",
          "geometry": {
           "coordinates": [
            4.925511,
            51.568354
           ],
           "type": "Point"
          },
          "id": "35",
          "lat": 51.568354,
          "locatie": "Vliegbasis Gilze-Rijen, Rijen, Netherlands",
          "lon": 4.925511,
          "max": 0.00014991727895196215,
          "median": 0.00013768780627287924,
          "min": 0.00012462670062389497,
          "ministerie": "Ministerie van Defensie",
          "project": "Vliegbasis Gilze-Rijen",
          "title": "",
          "type": "Feature"
         },
         {
          "date": "2018-12-01",
          "geometry": {
           "coordinates": [
            4.925511,
            51.568354
           ],
           "type": "Point"
          },
          "id": "35",
          "lat": 51.568354,
          "locatie": "Vliegbasis Gilze-Rijen, Rijen, Netherlands",
          "lon": 4.925511,
          "max": 0.00012907197522873332,
          "median": 0.00011108965393668946,
          "min": 9.864439925877377e-05,
          "ministerie": "Ministerie van Defensie",
          "project": "Vliegbasis Gilze-Rijen",
          "title": "",
          "type": "Feature"
         },
         {
          "date": "2019-01-01",
          "geometry": {
           "coordinates": [
            4.925511,
            51.568354
           ],
           "type": "Point"
          },
          "id": "35",
          "lat": 51.568354,
          "locatie": "Vliegbasis Gilze-Rijen, Rijen, Netherlands",
          "lon": 4.925511,
          "max": 0.00011881691427418564,
          "median": 9.525857256804606e-05,
          "min": 8.010187584331387e-05,
          "ministerie": "Ministerie van Defensie",
          "project": "Vliegbasis Gilze-Rijen",
          "title": "",
          "type": "Feature"
         },
         {
          "date": "2019-02-01",
          "geometry": {
           "coordinates": [
            4.925511,
            51.568354
           ],
           "type": "Point"
          },
          "id": "35",
          "lat": 51.568354,
          "locatie": "Vliegbasis Gilze-Rijen, Rijen, Netherlands",
          "lon": 4.925511,
          "max": 0.0001603310665814206,
          "median": 0.0001379991736030206,
          "min": 0.0001158761078841053,
          "ministerie": "Ministerie van Defensie",
          "project": "Vliegbasis Gilze-Rijen",
          "title": "",
          "type": "Feature"
         },
         {
          "date": "2019-03-01",
          "geometry": {
           "coordinates": [
            4.925511,
            51.568354
           ],
           "type": "Point"
          },
          "id": "35",
          "lat": 51.568354,
          "locatie": "Vliegbasis Gilze-Rijen, Rijen, Netherlands",
          "lon": 4.925511,
          "max": 0.00013530573589032397,
          "median": 0.00011406528696758,
          "min": 9.948482285073564e-05,
          "ministerie": "Ministerie van Defensie",
          "project": "Vliegbasis Gilze-Rijen",
          "title": "",
          "type": "Feature"
         },
         {
          "date": "2019-04-01",
          "geometry": {
           "coordinates": [
            4.925511,
            51.568354
           ],
           "type": "Point"
          },
          "id": "35",
          "lat": 51.568354,
          "locatie": "Vliegbasis Gilze-Rijen, Rijen, Netherlands",
          "lon": 4.925511,
          "max": 0.00015619974759894224,
          "median": 0.00014272722288526964,
          "min": 0.00012958871381388385,
          "ministerie": "Ministerie van Defensie",
          "project": "Vliegbasis Gilze-Rijen",
          "title": "",
          "type": "Feature"
         },
         {
          "date": "2019-05-01",
          "geometry": {
           "coordinates": [
            4.925511,
            51.568354
           ],
           "type": "Point"
          },
          "id": "35",
          "lat": 51.568354,
          "locatie": "Vliegbasis Gilze-Rijen, Rijen, Netherlands",
          "lon": 4.925511,
          "max": 0.00013454361453514772,
          "median": 0.00012754144504946284,
          "min": 0.00012110984004870689,
          "ministerie": "Ministerie van Defensie",
          "project": "Vliegbasis Gilze-Rijen",
          "title": "",
          "type": "Feature"
         },
         {
          "date": "2019-06-01",
          "geometry": {
           "coordinates": [
            4.925511,
            51.568354
           ],
           "type": "Point"
          },
          "id": "35",
          "lat": 51.568354,
          "locatie": "Vliegbasis Gilze-Rijen, Rijen, Netherlands",
          "lon": 4.925511,
          "max": 0.00012074010897015546,
          "median": 0.00011270704389053162,
          "min": 0.00010815906857101142,
          "ministerie": "Ministerie van Defensie",
          "project": "Vliegbasis Gilze-Rijen",
          "title": "",
          "type": "Feature"
         },
         {
          "date": "2019-07-01",
          "geometry": {
           "coordinates": [
            4.925511,
            51.568354
           ],
           "type": "Point"
          },
          "id": "35",
          "lat": 51.568354,
          "locatie": "Vliegbasis Gilze-Rijen, Rijen, Netherlands",
          "lon": 4.925511,
          "max": 0.00011480732646236479,
          "median": 0.00010908717709145914,
          "min": 0.00010087613087115887,
          "ministerie": "Ministerie van Defensie",
          "project": "Vliegbasis Gilze-Rijen",
          "title": "",
          "type": "Feature"
         },
         {
          "date": "2019-08-01",
          "geometry": {
           "coordinates": [
            4.925511,
            51.568354
           ],
           "type": "Point"
          },
          "id": "35",
          "lat": 51.568354,
          "locatie": "Vliegbasis Gilze-Rijen, Rijen, Netherlands",
          "lon": 4.925511,
          "max": 0.00012375989172142,
          "median": 0.00011704135459081998,
          "min": 0.00010336625564377755,
          "ministerie": "Ministerie van Defensie",
          "project": "Vliegbasis Gilze-Rijen",
          "title": "",
          "type": "Feature"
         },
         {
          "date": "2019-09-01",
          "geometry": {
           "coordinates": [
            4.925511,
            51.568354
           ],
           "type": "Point"
          },
          "id": "35",
          "lat": 51.568354,
          "locatie": "Vliegbasis Gilze-Rijen, Rijen, Netherlands",
          "lon": 4.925511,
          "max": 9.795886549414192e-05,
          "median": 9.209810257325323e-05,
          "min": 8.00759491016696e-05,
          "ministerie": "Ministerie van Defensie",
          "project": "Vliegbasis Gilze-Rijen",
          "title": "",
          "type": "Feature"
         },
         {
          "date": "2018-07-01",
          "geometry": {
           "coordinates": [
            5.752203,
            53.226239
           ],
           "type": "Point"
          },
          "id": "36",
          "lat": 53.226239,
          "locatie": "Vliegbasis Leeuwarden, Leeuwarden, Netherlands",
          "lon": 5.752203,
          "max": 9.711465372750939e-05,
          "median": 9.269404743703884e-05,
          "min": 8.741731880596877e-05,
          "ministerie": "Ministerie van Defensie",
          "project": "Vliegbasis Leeuwarden",
          "title": "",
          "type": "Feature"
         },
         {
          "date": "2018-08-01",
          "geometry": {
           "coordinates": [
            5.752203,
            53.226239
           ],
           "type": "Point"
          },
          "id": "36",
          "lat": 53.226239,
          "locatie": "Vliegbasis Leeuwarden, Leeuwarden, Netherlands",
          "lon": 5.752203,
          "max": 9.131317678313712e-05,
          "median": 8.331370734657901e-05,
          "min": 7.855135428259367e-05,
          "ministerie": "Ministerie van Defensie",
          "project": "Vliegbasis Leeuwarden",
          "title": "",
          "type": "Feature"
         },
         {
          "date": "2018-09-01",
          "geometry": {
           "coordinates": [
            5.752203,
            53.226239
           ],
           "type": "Point"
          },
          "id": "36",
          "lat": 53.226239,
          "locatie": "Vliegbasis Leeuwarden, Leeuwarden, Netherlands",
          "lon": 5.752203,
          "max": 0.00010487838912948076,
          "median": 9.196745403219805e-05,
          "min": 8.637663487273061e-05,
          "ministerie": "Ministerie van Defensie",
          "project": "Vliegbasis Leeuwarden",
          "title": "",
          "type": "Feature"
         },
         {
          "date": "2018-10-01",
          "geometry": {
           "coordinates": [
            5.752203,
            53.226239
           ],
           "type": "Point"
          },
          "id": "36",
          "lat": 53.226239,
          "locatie": "Vliegbasis Leeuwarden, Leeuwarden, Netherlands",
          "lon": 5.752203,
          "max": 9.864391176961362e-05,
          "median": 8.120200072880834e-05,
          "min": 7.034826096335117e-05,
          "ministerie": "Ministerie van Defensie",
          "project": "Vliegbasis Leeuwarden",
          "title": "",
          "type": "Feature"
         },
         {
          "date": "2018-11-01",
          "geometry": {
           "coordinates": [
            5.752203,
            53.226239
           ],
           "type": "Point"
          },
          "id": "36",
          "lat": 53.226239,
          "locatie": "Vliegbasis Leeuwarden, Leeuwarden, Netherlands",
          "lon": 5.752203,
          "max": 0.00011641503852211971,
          "median": 0.00010875092016844543,
          "min": 9.964148193830624e-05,
          "ministerie": "Ministerie van Defensie",
          "project": "Vliegbasis Leeuwarden",
          "title": "",
          "type": "Feature"
         },
         {
          "date": "2018-12-01",
          "geometry": {
           "coordinates": [
            5.752203,
            53.226239
           ],
           "type": "Point"
          },
          "id": "36",
          "lat": 53.226239,
          "locatie": "Vliegbasis Leeuwarden, Leeuwarden, Netherlands",
          "lon": 5.752203,
          "max": 7.606261986235692e-05,
          "median": 6.817477009661139e-05,
          "min": 5.874196121526661e-05,
          "ministerie": "Ministerie van Defensie",
          "project": "Vliegbasis Leeuwarden",
          "title": "",
          "type": "Feature"
         },
         {
          "date": "2019-01-01",
          "geometry": {
           "coordinates": [
            5.752203,
            53.226239
           ],
           "type": "Point"
          },
          "id": "36",
          "lat": 53.226239,
          "locatie": "Vliegbasis Leeuwarden, Leeuwarden, Netherlands",
          "lon": 5.752203,
          "max": 5.052039806492007e-05,
          "median": 3.897492933901958e-05,
          "min": 2.719997643389325e-05,
          "ministerie": "Ministerie van Defensie",
          "project": "Vliegbasis Leeuwarden",
          "title": "",
          "type": "Feature"
         },
         {
          "date": "2019-02-01",
          "geometry": {
           "coordinates": [
            5.752203,
            53.226239
           ],
           "type": "Point"
          },
          "id": "36",
          "lat": 53.226239,
          "locatie": "Vliegbasis Leeuwarden, Leeuwarden, Netherlands",
          "lon": 5.752203,
          "max": 0.00013431393017526716,
          "median": 0.00012845919388381014,
          "min": 0.00011416722554713488,
          "ministerie": "Ministerie van Defensie",
          "project": "Vliegbasis Leeuwarden",
          "title": "",
          "type": "Feature"
         },
         {
          "date": "2019-03-01",
          "geometry": {
           "coordinates": [
            5.752203,
            53.226239
           ],
           "type": "Point"
          },
          "id": "36",
          "lat": 53.226239,
          "locatie": "Vliegbasis Leeuwarden, Leeuwarden, Netherlands",
          "lon": 5.752203,
          "max": 7.20725276927348e-05,
          "median": 6.577598329456934e-05,
          "min": 6.345147994579747e-05,
          "ministerie": "Ministerie van Defensie",
          "project": "Vliegbasis Leeuwarden",
          "title": "",
          "type": "Feature"
         },
         {
          "date": "2019-04-01",
          "geometry": {
           "coordinates": [
            5.752203,
            53.226239
           ],
           "type": "Point"
          },
          "id": "36",
          "lat": 53.226239,
          "locatie": "Vliegbasis Leeuwarden, Leeuwarden, Netherlands",
          "lon": 5.752203,
          "max": 9.734249033499509e-05,
          "median": 9.103537766418128e-05,
          "min": 8.705779328010976e-05,
          "ministerie": "Ministerie van Defensie",
          "project": "Vliegbasis Leeuwarden",
          "title": "",
          "type": "Feature"
         },
         {
          "date": "2019-05-01",
          "geometry": {
           "coordinates": [
            5.752203,
            53.226239
           ],
           "type": "Point"
          },
          "id": "36",
          "lat": 53.226239,
          "locatie": "Vliegbasis Leeuwarden, Leeuwarden, Netherlands",
          "lon": 5.752203,
          "max": 9.160731006549329e-05,
          "median": 8.90383641155567e-05,
          "min": 8.64898320287466e-05,
          "ministerie": "Ministerie van Defensie",
          "project": "Vliegbasis Leeuwarden",
          "title": "",
          "type": "Feature"
         },
         {
          "date": "2019-06-01",
          "geometry": {
           "coordinates": [
            5.752203,
            53.226239
           ],
           "type": "Point"
          },
          "id": "36",
          "lat": 53.226239,
          "locatie": "Vliegbasis Leeuwarden, Leeuwarden, Netherlands",
          "lon": 5.752203,
          "max": 0.00010040950143484998,
          "median": 9.70271770749234e-05,
          "min": 9.318923235329442e-05,
          "ministerie": "Ministerie van Defensie",
          "project": "Vliegbasis Leeuwarden",
          "title": "",
          "type": "Feature"
         },
         {
          "date": "2019-07-01",
          "geometry": {
           "coordinates": [
            5.752203,
            53.226239
           ],
           "type": "Point"
          },
          "id": "36",
          "lat": 53.226239,
          "locatie": "Vliegbasis Leeuwarden, Leeuwarden, Netherlands",
          "lon": 5.752203,
          "max": 9.04794607369382e-05,
          "median": 8.627440134583011e-05,
          "min": 8.395106124226004e-05,
          "ministerie": "Ministerie van Defensie",
          "project": "Vliegbasis Leeuwarden",
          "title": "",
          "type": "Feature"
         },
         {
          "date": "2019-08-01",
          "geometry": {
           "coordinates": [
            5.752203,
            53.226239
           ],
           "type": "Point"
          },
          "id": "36",
          "lat": 53.226239,
          "locatie": "Vliegbasis Leeuwarden, Leeuwarden, Netherlands",
          "lon": 5.752203,
          "max": 9.885440472482645e-05,
          "median": 9.259840278130182e-05,
          "min": 8.737785537960008e-05,
          "ministerie": "Ministerie van Defensie",
          "project": "Vliegbasis Leeuwarden",
          "title": "",
          "type": "Feature"
         },
         {
          "date": "2019-09-01",
          "geometry": {
           "coordinates": [
            5.752203,
            53.226239
           ],
           "type": "Point"
          },
          "id": "36",
          "lat": 53.226239,
          "locatie": "Vliegbasis Leeuwarden, Leeuwarden, Netherlands",
          "lon": 5.752203,
          "max": 8.844557305565104e-05,
          "median": 6.959862635609841e-05,
          "min": 5.964119918644428e-05,
          "ministerie": "Ministerie van Defensie",
          "project": "Vliegbasis Leeuwarden",
          "title": "",
          "type": "Feature"
         },
         {
          "date": "2018-07-01",
          "geometry": {
           "coordinates": [
            5.702765,
            51.658611
           ],
           "type": "Point"
          },
          "id": "37",
          "lat": 51.658611,
          "locatie": "Vliegbasis Volkel, Volkel, Netherlands",
          "lon": 5.702765,
          "max": 0.0001284567668687374,
          "median": 0.00012249152192572623,
          "min": 0.00011573413907697193,
          "ministerie": "Ministerie van Defensie",
          "project": "Vliegbasis Volkel",
          "title": "",
          "type": "Feature"
         },
         {
          "date": "2018-08-01",
          "geometry": {
           "coordinates": [
            5.702765,
            51.658611
           ],
           "type": "Point"
          },
          "id": "37",
          "lat": 51.658611,
          "locatie": "Vliegbasis Volkel, Volkel, Netherlands",
          "lon": 5.702765,
          "max": 0.00011413210770097201,
          "median": 0.00010872691214686158,
          "min": 0.0001030262421991191,
          "ministerie": "Ministerie van Defensie",
          "project": "Vliegbasis Volkel",
          "title": "",
          "type": "Feature"
         },
         {
          "date": "2018-09-01",
          "geometry": {
           "coordinates": [
            5.702765,
            51.658611
           ],
           "type": "Point"
          },
          "id": "37",
          "lat": 51.658611,
          "locatie": "Vliegbasis Volkel, Volkel, Netherlands",
          "lon": 5.702765,
          "max": 0.0001511062752701309,
          "median": 0.00013482733505634393,
          "min": 0.00012276568776366389,
          "ministerie": "Ministerie van Defensie",
          "project": "Vliegbasis Volkel",
          "title": "",
          "type": "Feature"
         },
         {
          "date": "2018-10-01",
          "geometry": {
           "coordinates": [
            5.702765,
            51.658611
           ],
           "type": "Point"
          },
          "id": "37",
          "lat": 51.658611,
          "locatie": "Vliegbasis Volkel, Volkel, Netherlands",
          "lon": 5.702765,
          "max": 0.00014270020518831613,
          "median": 0.00013649341908994936,
          "min": 0.0001256089235539548,
          "ministerie": "Ministerie van Defensie",
          "project": "Vliegbasis Volkel",
          "title": "",
          "type": "Feature"
         },
         {
          "date": "2018-11-01",
          "geometry": {
           "coordinates": [
            5.702765,
            51.658611
           ],
           "type": "Point"
          },
          "id": "37",
          "lat": 51.658611,
          "locatie": "Vliegbasis Volkel, Volkel, Netherlands",
          "lon": 5.702765,
          "max": 0.0001673912483965978,
          "median": 0.00014857630771877357,
          "min": 0.00013626773206064567,
          "ministerie": "Ministerie van Defensie",
          "project": "Vliegbasis Volkel",
          "title": "",
          "type": "Feature"
         },
         {
          "date": "2018-12-01",
          "geometry": {
           "coordinates": [
            5.702765,
            51.658611
           ],
           "type": "Point"
          },
          "id": "37",
          "lat": 51.658611,
          "locatie": "Vliegbasis Volkel, Volkel, Netherlands",
          "lon": 5.702765,
          "max": 0.00012667523734196228,
          "median": 0.0001133538374462856,
          "min": 9.223317465512082e-05,
          "ministerie": "Ministerie van Defensie",
          "project": "Vliegbasis Volkel",
          "title": "",
          "type": "Feature"
         },
         {
          "date": "2019-01-01",
          "geometry": {
           "coordinates": [
            5.702765,
            51.658611
           ],
           "type": "Point"
          },
          "id": "37",
          "lat": 51.658611,
          "locatie": "Vliegbasis Volkel, Volkel, Netherlands",
          "lon": 5.702765,
          "max": 0.00012912966485600919,
          "median": 0.00011990870410589835,
          "min": 0.00011002916229889778,
          "ministerie": "Ministerie van Defensie",
          "project": "Vliegbasis Volkel",
          "title": "",
          "type": "Feature"
         },
         {
          "date": "2019-02-01",
          "geometry": {
           "coordinates": [
            5.702765,
            51.658611
           ],
           "type": "Point"
          },
          "id": "37",
          "lat": 51.658611,
          "locatie": "Vliegbasis Volkel, Volkel, Netherlands",
          "lon": 5.702765,
          "max": 0.000152218276924265,
          "median": 0.00014174640710159933,
          "min": 0.00013182137751276425,
          "ministerie": "Ministerie van Defensie",
          "project": "Vliegbasis Volkel",
          "title": "",
          "type": "Feature"
         },
         {
          "date": "2019-03-01",
          "geometry": {
           "coordinates": [
            5.702765,
            51.658611
           ],
           "type": "Point"
          },
          "id": "37",
          "lat": 51.658611,
          "locatie": "Vliegbasis Volkel, Volkel, Netherlands",
          "lon": 5.702765,
          "max": 0.00012294725456740707,
          "median": 0.00011308595667057348,
          "min": 0.00010088445173085149,
          "ministerie": "Ministerie van Defensie",
          "project": "Vliegbasis Volkel",
          "title": "",
          "type": "Feature"
         },
         {
          "date": "2019-04-01",
          "geometry": {
           "coordinates": [
            5.702765,
            51.658611
           ],
           "type": "Point"
          },
          "id": "37",
          "lat": 51.658611,
          "locatie": "Vliegbasis Volkel, Volkel, Netherlands",
          "lon": 5.702765,
          "max": 0.00013827701898868098,
          "median": 0.00012706786700927427,
          "min": 0.0001192891868413426,
          "ministerie": "Ministerie van Defensie",
          "project": "Vliegbasis Volkel",
          "title": "",
          "type": "Feature"
         },
         {
          "date": "2019-05-01",
          "geometry": {
           "coordinates": [
            5.702765,
            51.658611
           ],
           "type": "Point"
          },
          "id": "37",
          "lat": 51.658611,
          "locatie": "Vliegbasis Volkel, Volkel, Netherlands",
          "lon": 5.702765,
          "max": 0.00013211104336194107,
          "median": 0.00012710706221830408,
          "min": 0.00011839156603720512,
          "ministerie": "Ministerie van Defensie",
          "project": "Vliegbasis Volkel",
          "title": "",
          "type": "Feature"
         },
         {
          "date": "2019-06-01",
          "geometry": {
           "coordinates": [
            5.702765,
            51.658611
           ],
           "type": "Point"
          },
          "id": "37",
          "lat": 51.658611,
          "locatie": "Vliegbasis Volkel, Volkel, Netherlands",
          "lon": 5.702765,
          "max": 0.00012014348612865433,
          "median": 0.00011526526220068695,
          "min": 0.0001122202383253189,
          "ministerie": "Ministerie van Defensie",
          "project": "Vliegbasis Volkel",
          "title": "",
          "type": "Feature"
         },
         {
          "date": "2019-07-01",
          "geometry": {
           "coordinates": [
            5.702765,
            51.658611
           ],
           "type": "Point"
          },
          "id": "37",
          "lat": 51.658611,
          "locatie": "Vliegbasis Volkel, Volkel, Netherlands",
          "lon": 5.702765,
          "max": 0.00011932128836633638,
          "median": 0.00010938233233590426,
          "min": 0.00010259402184137444,
          "ministerie": "Ministerie van Defensie",
          "project": "Vliegbasis Volkel",
          "title": "",
          "type": "Feature"
         },
         {
          "date": "2019-08-01",
          "geometry": {
           "coordinates": [
            5.702765,
            51.658611
           ],
           "type": "Point"
          },
          "id": "37",
          "lat": 51.658611,
          "locatie": "Vliegbasis Volkel, Volkel, Netherlands",
          "lon": 5.702765,
          "max": 0.00011762758391752284,
          "median": 0.0001111795404578613,
          "min": 0.00010534113973786153,
          "ministerie": "Ministerie van Defensie",
          "project": "Vliegbasis Volkel",
          "title": "",
          "type": "Feature"
         },
         {
          "date": "2019-09-01",
          "geometry": {
           "coordinates": [
            5.702765,
            51.658611
           ],
           "type": "Point"
          },
          "id": "37",
          "lat": 51.658611,
          "locatie": "Vliegbasis Volkel, Volkel, Netherlands",
          "lon": 5.702765,
          "max": 0.00014196288248058408,
          "median": 0.00010714889324481318,
          "min": 8.998180634070522e-05,
          "ministerie": "Ministerie van Defensie",
          "project": "Vliegbasis Volkel",
          "title": "",
          "type": "Feature"
         },
         {
          "date": "2018-07-01",
          "geometry": {
           "coordinates": [
            4.348619,
            51.430203000000006
           ],
           "type": "Point"
          },
          "id": "38",
          "lat": 51.430203000000006,
          "locatie": "Vliegbasis Woensdrecht, Hoogerheide, Netherlands",
          "lon": 4.348619,
          "max": 0.00016547270206501707,
          "median": 0.00013743460479866734,
          "min": 0.0001307278352255736,
          "ministerie": "Ministerie van Defensie",
          "project": "Vliegbasis Woensdrecht",
          "title": "",
          "type": "Feature"
         },
         {
          "date": "2018-08-01",
          "geometry": {
           "coordinates": [
            4.348619,
            51.430203000000006
           ],
           "type": "Point"
          },
          "id": "38",
          "lat": 51.430203000000006,
          "locatie": "Vliegbasis Woensdrecht, Hoogerheide, Netherlands",
          "lon": 4.348619,
          "max": 0.00012601193157024682,
          "median": 0.00010806844658152657,
          "min": 0.00010101474617840722,
          "ministerie": "Ministerie van Defensie",
          "project": "Vliegbasis Woensdrecht",
          "title": "",
          "type": "Feature"
         },
         {
          "date": "2018-09-01",
          "geometry": {
           "coordinates": [
            4.348619,
            51.430203000000006
           ],
           "type": "Point"
          },
          "id": "38",
          "lat": 51.430203000000006,
          "locatie": "Vliegbasis Woensdrecht, Hoogerheide, Netherlands",
          "lon": 4.348619,
          "max": 0.0001563876942485157,
          "median": 0.00013074267917545512,
          "min": 0.00011976241857216203,
          "ministerie": "Ministerie van Defensie",
          "project": "Vliegbasis Woensdrecht",
          "title": "",
          "type": "Feature"
         },
         {
          "date": "2018-10-01",
          "geometry": {
           "coordinates": [
            4.348619,
            51.430203000000006
           ],
           "type": "Point"
          },
          "id": "38",
          "lat": 51.430203000000006,
          "locatie": "Vliegbasis Woensdrecht, Hoogerheide, Netherlands",
          "lon": 4.348619,
          "max": 0.00016371681587907679,
          "median": 0.00013440564920331013,
          "min": 0.0001221714192070067,
          "ministerie": "Ministerie van Defensie",
          "project": "Vliegbasis Woensdrecht",
          "title": "",
          "type": "Feature"
         },
         {
          "date": "2018-11-01",
          "geometry": {
           "coordinates": [
            4.348619,
            51.430203000000006
           ],
           "type": "Point"
          },
          "id": "38",
          "lat": 51.430203000000006,
          "locatie": "Vliegbasis Woensdrecht, Hoogerheide, Netherlands",
          "lon": 4.348619,
          "max": 0.00018434149387758225,
          "median": 0.0001692278019618243,
          "min": 0.0001474251115238606,
          "ministerie": "Ministerie van Defensie",
          "project": "Vliegbasis Woensdrecht",
          "title": "",
          "type": "Feature"
         },
         {
          "date": "2018-12-01",
          "geometry": {
           "coordinates": [
            4.348619,
            51.430203000000006
           ],
           "type": "Point"
          },
          "id": "38",
          "lat": 51.430203000000006,
          "locatie": "Vliegbasis Woensdrecht, Hoogerheide, Netherlands",
          "lon": 4.348619,
          "max": 0.00013643766578752548,
          "median": 0.00010800357304201354,
          "min": 9.19671256269794e-05,
          "ministerie": "Ministerie van Defensie",
          "project": "Vliegbasis Woensdrecht",
          "title": "",
          "type": "Feature"
         },
         {
          "date": "2019-01-01",
          "geometry": {
           "coordinates": [
            4.348619,
            51.430203000000006
           ],
           "type": "Point"
          },
          "id": "38",
          "lat": 51.430203000000006,
          "locatie": "Vliegbasis Woensdrecht, Hoogerheide, Netherlands",
          "lon": 4.348619,
          "max": 0.000122416498701164,
          "median": 0.00010229177875815285,
          "min": 7.374251435976475e-05,
          "ministerie": "Ministerie van Defensie",
          "project": "Vliegbasis Woensdrecht",
          "title": "",
          "type": "Feature"
         },
         {
          "date": "2019-02-01",
          "geometry": {
           "coordinates": [
            4.348619,
            51.430203000000006
           ],
           "type": "Point"
          },
          "id": "38",
          "lat": 51.430203000000006,
          "locatie": "Vliegbasis Woensdrecht, Hoogerheide, Netherlands",
          "lon": 4.348619,
          "max": 0.00019538504538893858,
          "median": 0.00016574935297957884,
          "min": 0.00013789657672746001,
          "ministerie": "Ministerie van Defensie",
          "project": "Vliegbasis Woensdrecht",
          "title": "",
          "type": "Feature"
         },
         {
          "date": "2019-03-01",
          "geometry": {
           "coordinates": [
            4.348619,
            51.430203000000006
           ],
           "type": "Point"
          },
          "id": "38",
          "lat": 51.430203000000006,
          "locatie": "Vliegbasis Woensdrecht, Hoogerheide, Netherlands",
          "lon": 4.348619,
          "max": 0.00012080118904123083,
          "median": 9.454884416731146e-05,
          "min": 8.880787208909169e-05,
          "ministerie": "Ministerie van Defensie",
          "project": "Vliegbasis Woensdrecht",
          "title": "",
          "type": "Feature"
         },
         {
          "date": "2019-04-01",
          "geometry": {
           "coordinates": [
            4.348619,
            51.430203000000006
           ],
           "type": "Point"
          },
          "id": "38",
          "lat": 51.430203000000006,
          "locatie": "Vliegbasis Woensdrecht, Hoogerheide, Netherlands",
          "lon": 4.348619,
          "max": 0.0001708733761915937,
          "median": 0.00014689656622618403,
          "min": 0.00013420457253232598,
          "ministerie": "Ministerie van Defensie",
          "project": "Vliegbasis Woensdrecht",
          "title": "",
          "type": "Feature"
         },
         {
          "date": "2019-05-01",
          "geometry": {
           "coordinates": [
            4.348619,
            51.430203000000006
           ],
           "type": "Point"
          },
          "id": "38",
          "lat": 51.430203000000006,
          "locatie": "Vliegbasis Woensdrecht, Hoogerheide, Netherlands",
          "lon": 4.348619,
          "max": 0.00014838142682886517,
          "median": 0.0001319933867606315,
          "min": 0.00012387033123281577,
          "ministerie": "Ministerie van Defensie",
          "project": "Vliegbasis Woensdrecht",
          "title": "",
          "type": "Feature"
         },
         {
          "date": "2019-06-01",
          "geometry": {
           "coordinates": [
            4.348619,
            51.430203000000006
           ],
           "type": "Point"
          },
          "id": "38",
          "lat": 51.430203000000006,
          "locatie": "Vliegbasis Woensdrecht, Hoogerheide, Netherlands",
          "lon": 4.348619,
          "max": 0.00015131301181475561,
          "median": 0.00012344938151768098,
          "min": 0.00011527198235241636,
          "ministerie": "Ministerie van Defensie",
          "project": "Vliegbasis Woensdrecht",
          "title": "",
          "type": "Feature"
         },
         {
          "date": "2019-07-01",
          "geometry": {
           "coordinates": [
            4.348619,
            51.430203000000006
           ],
           "type": "Point"
          },
          "id": "38",
          "lat": 51.430203000000006,
          "locatie": "Vliegbasis Woensdrecht, Hoogerheide, Netherlands",
          "lon": 4.348619,
          "max": 0.00013858348289661737,
          "median": 0.00011517732491483912,
          "min": 0.00010480577475391328,
          "ministerie": "Ministerie van Defensie",
          "project": "Vliegbasis Woensdrecht",
          "title": "",
          "type": "Feature"
         },
         {
          "date": "2019-08-01",
          "geometry": {
           "coordinates": [
            4.348619,
            51.430203000000006
           ],
           "type": "Point"
          },
          "id": "38",
          "lat": 51.430203000000006,
          "locatie": "Vliegbasis Woensdrecht, Hoogerheide, Netherlands",
          "lon": 4.348619,
          "max": 0.00014016183409862164,
          "median": 0.00012206091196276248,
          "min": 0.00010789490021926248,
          "ministerie": "Ministerie van Defensie",
          "project": "Vliegbasis Woensdrecht",
          "title": "",
          "type": "Feature"
         },
         {
          "date": "2019-09-01",
          "geometry": {
           "coordinates": [
            4.348619,
            51.430203000000006
           ],
           "type": "Point"
          },
          "id": "38",
          "lat": 51.430203000000006,
          "locatie": "Vliegbasis Woensdrecht, Hoogerheide, Netherlands",
          "lon": 4.348619,
          "max": 0.00012463557697877146,
          "median": 9.604784795818995e-05,
          "min": 8.016588193961592e-05,
          "ministerie": "Ministerie van Defensie",
          "project": "Vliegbasis Woensdrecht",
          "title": "",
          "type": "Feature"
         },
         {
          "date": "2018-07-01",
          "geometry": {
           "coordinates": [
            6.4688870000000005,
            53.016555000000004
           ],
           "type": "Point"
          },
          "id": "39",
          "lat": 53.016555000000004,
          "locatie": "Huis Ter Heide, Netherlands",
          "lon": 6.4688870000000005,
          "max": 9.881268581816006e-05,
          "median": 9.458106063278359e-05,
          "min": 9.07892259313131e-05,
          "ministerie": "Ministerie van Defensie",
          "project": "Walaardt Sacre Kamp",
          "title": "",
          "type": "Feature"
         },
         {
          "date": "2018-08-01",
          "geometry": {
           "coordinates": [
            6.4688870000000005,
            53.016555000000004
           ],
           "type": "Point"
          },
          "id": "39",
          "lat": 53.016555000000004,
          "locatie": "Huis Ter Heide, Netherlands",
          "lon": 6.4688870000000005,
          "max": 9.987186209868228e-05,
          "median": 9.104709751670074e-05,
          "min": 8.715157678128844e-05,
          "ministerie": "Ministerie van Defensie",
          "project": "Walaardt Sacre Kamp",
          "title": "",
          "type": "Feature"
         },
         {
          "date": "2018-09-01",
          "geometry": {
           "coordinates": [
            6.4688870000000005,
            53.016555000000004
           ],
           "type": "Point"
          },
          "id": "39",
          "lat": 53.016555000000004,
          "locatie": "Huis Ter Heide, Netherlands",
          "lon": 6.4688870000000005,
          "max": 0.00012123662608977657,
          "median": 0.00011112686479464173,
          "min": 0.00010095082040224285,
          "ministerie": "Ministerie van Defensie",
          "project": "Walaardt Sacre Kamp",
          "title": "",
          "type": "Feature"
         },
         {
          "date": "2018-10-01",
          "geometry": {
           "coordinates": [
            6.4688870000000005,
            53.016555000000004
           ],
           "type": "Point"
          },
          "id": "39",
          "lat": 53.016555000000004,
          "locatie": "Huis Ter Heide, Netherlands",
          "lon": 6.4688870000000005,
          "max": 0.00010231694880404301,
          "median": 9.031071385834366e-05,
          "min": 8.471761248074472e-05,
          "ministerie": "Ministerie van Defensie",
          "project": "Walaardt Sacre Kamp",
          "title": "",
          "type": "Feature"
         },
         {
          "date": "2018-11-01",
          "geometry": {
           "coordinates": [
            6.4688870000000005,
            53.016555000000004
           ],
           "type": "Point"
          },
          "id": "39",
          "lat": 53.016555000000004,
          "locatie": "Huis Ter Heide, Netherlands",
          "lon": 6.4688870000000005,
          "max": 0.00011569497986811668,
          "median": 0.00010454574663922214,
          "min": 9.750381247827776e-05,
          "ministerie": "Ministerie van Defensie",
          "project": "Walaardt Sacre Kamp",
          "title": "",
          "type": "Feature"
         },
         {
          "date": "2018-12-01",
          "geometry": {
           "coordinates": [
            6.4688870000000005,
            53.016555000000004
           ],
           "type": "Point"
          },
          "id": "39",
          "lat": 53.016555000000004,
          "locatie": "Huis Ter Heide, Netherlands",
          "lon": 6.4688870000000005,
          "max": 8.75372349405238e-05,
          "median": 7.814744933975308e-05,
          "min": 6.862376103690584e-05,
          "ministerie": "Ministerie van Defensie",
          "project": "Walaardt Sacre Kamp",
          "title": "",
          "type": "Feature"
         },
         {
          "date": "2019-01-01",
          "geometry": {
           "coordinates": [
            6.4688870000000005,
            53.016555000000004
           ],
           "type": "Point"
          },
          "id": "39",
          "lat": 53.016555000000004,
          "locatie": "Huis Ter Heide, Netherlands",
          "lon": 6.4688870000000005,
          "max": 7.972709729922353e-05,
          "median": 4.81470561821148e-05,
          "min": 4.142284524277784e-05,
          "ministerie": "Ministerie van Defensie",
          "project": "Walaardt Sacre Kamp",
          "title": "",
          "type": "Feature"
         },
         {
          "date": "2019-02-01",
          "geometry": {
           "coordinates": [
            6.4688870000000005,
            53.016555000000004
           ],
           "type": "Point"
          },
          "id": "39",
          "lat": 53.016555000000004,
          "locatie": "Huis Ter Heide, Netherlands",
          "lon": 6.4688870000000005,
          "max": 0.00014778229917170906,
          "median": 0.00013390846760165235,
          "min": 0.0001261945608896205,
          "ministerie": "Ministerie van Defensie",
          "project": "Walaardt Sacre Kamp",
          "title": "",
          "type": "Feature"
         },
         {
          "date": "2019-03-01",
          "geometry": {
           "coordinates": [
            6.4688870000000005,
            53.016555000000004
           ],
           "type": "Point"
          },
          "id": "39",
          "lat": 53.016555000000004,
          "locatie": "Huis Ter Heide, Netherlands",
          "lon": 6.4688870000000005,
          "max": 7.753534071368077e-05,
          "median": 7.006981469758814e-05,
          "min": 6.641882487003786e-05,
          "ministerie": "Ministerie van Defensie",
          "project": "Walaardt Sacre Kamp",
          "title": "",
          "type": "Feature"
         },
         {
          "date": "2019-04-01",
          "geometry": {
           "coordinates": [
            6.4688870000000005,
            53.016555000000004
           ],
           "type": "Point"
          },
          "id": "39",
          "lat": 53.016555000000004,
          "locatie": "Huis Ter Heide, Netherlands",
          "lon": 6.4688870000000005,
          "max": 0.00010521123302283896,
          "median": 0.00010000210028486266,
          "min": 9.658662520955214e-05,
          "ministerie": "Ministerie van Defensie",
          "project": "Walaardt Sacre Kamp",
          "title": "",
          "type": "Feature"
         },
         {
          "date": "2019-05-01",
          "geometry": {
           "coordinates": [
            6.4688870000000005,
            53.016555000000004
           ],
           "type": "Point"
          },
          "id": "39",
          "lat": 53.016555000000004,
          "locatie": "Huis Ter Heide, Netherlands",
          "lon": 6.4688870000000005,
          "max": 0.00010063417644279642,
          "median": 9.739084236031636e-05,
          "min": 9.132517251322258e-05,
          "ministerie": "Ministerie van Defensie",
          "project": "Walaardt Sacre Kamp",
          "title": "",
          "type": "Feature"
         },
         {
          "date": "2019-06-01",
          "geometry": {
           "coordinates": [
            6.4688870000000005,
            53.016555000000004
           ],
           "type": "Point"
          },
          "id": "39",
          "lat": 53.016555000000004,
          "locatie": "Huis Ter Heide, Netherlands",
          "lon": 6.4688870000000005,
          "max": 9.933834281243673e-05,
          "median": 9.654347876047171e-05,
          "min": 9.212301116636862e-05,
          "ministerie": "Ministerie van Defensie",
          "project": "Walaardt Sacre Kamp",
          "title": "",
          "type": "Feature"
         },
         {
          "date": "2019-07-01",
          "geometry": {
           "coordinates": [
            6.4688870000000005,
            53.016555000000004
           ],
           "type": "Point"
          },
          "id": "39",
          "lat": 53.016555000000004,
          "locatie": "Huis Ter Heide, Netherlands",
          "lon": 6.4688870000000005,
          "max": 9.312714859625988e-05,
          "median": 8.877513027982786e-05,
          "min": 8.289263132610358e-05,
          "ministerie": "Ministerie van Defensie",
          "project": "Walaardt Sacre Kamp",
          "title": "",
          "type": "Feature"
         },
         {
          "date": "2019-08-01",
          "geometry": {
           "coordinates": [
            6.4688870000000005,
            53.016555000000004
           ],
           "type": "Point"
          },
          "id": "39",
          "lat": 53.016555000000004,
          "locatie": "Huis Ter Heide, Netherlands",
          "lon": 6.4688870000000005,
          "max": 0.00010458343893830218,
          "median": 9.92716193000677e-05,
          "min": 9.411045610540933e-05,
          "ministerie": "Ministerie van Defensie",
          "project": "Walaardt Sacre Kamp",
          "title": "",
          "type": "Feature"
         },
         {
          "date": "2019-09-01",
          "geometry": {
           "coordinates": [
            6.4688870000000005,
            53.016555000000004
           ],
           "type": "Point"
          },
          "id": "39",
          "lat": 53.016555000000004,
          "locatie": "Huis Ter Heide, Netherlands",
          "lon": 6.4688870000000005,
          "max": 8.916059596231207e-05,
          "median": 7.539902435382828e-05,
          "min": 6.317007648760402e-05,
          "ministerie": "Ministerie van Defensie",
          "project": "Walaardt Sacre Kamp",
          "title": "",
          "type": "Feature"
         },
         {
          "date": "2018-07-01",
          "geometry": {
           "coordinates": [
            3.983333,
            51.958333
           ],
           "type": "Point"
          },
          "id": "93",
          "lat": 51.958333,
          "locatie": "?",
          "lon": 3.983333,
          "max": 0.0001489106798544526,
          "median": 0.00012566426990270402,
          "min": 0.00011068390449509025,
          "ministerie": "Ministerie van Economische Zaken en Klimaat",
          "project": "Windpark Tweede Maasvlakte",
          "title": "",
          "type": "Feature"
         },
         {
          "date": "2018-08-01",
          "geometry": {
           "coordinates": [
            3.983333,
            51.958333
           ],
           "type": "Point"
          },
          "id": "93",
          "lat": 51.958333,
          "locatie": "?",
          "lon": 3.983333,
          "max": 0.00011471021571196616,
          "median": 0.00010509779207615,
          "min": 9.798586291791635e-05,
          "ministerie": "Ministerie van Economische Zaken en Klimaat",
          "project": "Windpark Tweede Maasvlakte",
          "title": "",
          "type": "Feature"
         },
         {
          "date": "2018-09-01",
          "geometry": {
           "coordinates": [
            3.983333,
            51.958333
           ],
           "type": "Point"
          },
          "id": "93",
          "lat": 51.958333,
          "locatie": "?",
          "lon": 3.983333,
          "max": 0.00014030077727511525,
          "median": 0.00011442751200645173,
          "min": 0.00010197349547524936,
          "ministerie": "Ministerie van Economische Zaken en Klimaat",
          "project": "Windpark Tweede Maasvlakte",
          "title": "",
          "type": "Feature"
         },
         {
          "date": "2018-10-01",
          "geometry": {
           "coordinates": [
            3.983333,
            51.958333
           ],
           "type": "Point"
          },
          "id": "93",
          "lat": 51.958333,
          "locatie": "?",
          "lon": 3.983333,
          "max": 0.0001502340612343269,
          "median": 0.00012551539111882448,
          "min": 0.00010819211859067952,
          "ministerie": "Ministerie van Economische Zaken en Klimaat",
          "project": "Windpark Tweede Maasvlakte",
          "title": "",
          "type": "Feature"
         },
         {
          "date": "2018-11-01",
          "geometry": {
           "coordinates": [
            3.983333,
            51.958333
           ],
           "type": "Point"
          },
          "id": "93",
          "lat": 51.958333,
          "locatie": "?",
          "lon": 3.983333,
          "max": 0.0001719325955491513,
          "median": 0.00014655231409934556,
          "min": 0.00012614346633199602,
          "ministerie": "Ministerie van Economische Zaken en Klimaat",
          "project": "Windpark Tweede Maasvlakte",
          "title": "",
          "type": "Feature"
         },
         {
          "date": "2018-12-01",
          "geometry": {
           "coordinates": [
            3.983333,
            51.958333
           ],
           "type": "Point"
          },
          "id": "93",
          "lat": 51.958333,
          "locatie": "?",
          "lon": 3.983333,
          "max": 0.00011044505663448945,
          "median": 9.56099511604819e-05,
          "min": 7.472047970201585e-05,
          "ministerie": "Ministerie van Economische Zaken en Klimaat",
          "project": "Windpark Tweede Maasvlakte",
          "title": "",
          "type": "Feature"
         },
         {
          "date": "2019-01-01",
          "geometry": {
           "coordinates": [
            3.983333,
            51.958333
           ],
           "type": "Point"
          },
          "id": "93",
          "lat": 51.958333,
          "locatie": "?",
          "lon": 3.983333,
          "max": 9.130221951636486e-05,
          "median": 6.534230540616338e-05,
          "min": 5.043809438245733e-05,
          "ministerie": "Ministerie van Economische Zaken en Klimaat",
          "project": "Windpark Tweede Maasvlakte",
          "title": "",
          "type": "Feature"
         },
         {
          "date": "2019-02-01",
          "geometry": {
           "coordinates": [
            3.983333,
            51.958333
           ],
           "type": "Point"
          },
          "id": "93",
          "lat": 51.958333,
          "locatie": "?",
          "lon": 3.983333,
          "max": 0.00017224006296601146,
          "median": 0.00014257458678912371,
          "min": 0.00012847948528360575,
          "ministerie": "Ministerie van Economische Zaken en Klimaat",
          "project": "Windpark Tweede Maasvlakte",
          "title": "",
          "type": "Feature"
         },
         {
          "date": "2019-03-01",
          "geometry": {
           "coordinates": [
            3.983333,
            51.958333
           ],
           "type": "Point"
          },
          "id": "93",
          "lat": 51.958333,
          "locatie": "?",
          "lon": 3.983333,
          "max": 0.00011572423682082444,
          "median": 0.00010093135132619149,
          "min": 9.510497734210558e-05,
          "ministerie": "Ministerie van Economische Zaken en Klimaat",
          "project": "Windpark Tweede Maasvlakte",
          "title": "",
          "type": "Feature"
         },
         {
          "date": "2019-04-01",
          "geometry": {
           "coordinates": [
            3.983333,
            51.958333
           ],
           "type": "Point"
          },
          "id": "93",
          "lat": 51.958333,
          "locatie": "?",
          "lon": 3.983333,
          "max": 0.00019121932211961623,
          "median": 0.00017516660494633829,
          "min": 0.00014343149432205222,
          "ministerie": "Ministerie van Economische Zaken en Klimaat",
          "project": "Windpark Tweede Maasvlakte",
          "title": "",
          "type": "Feature"
         },
         {
          "date": "2019-05-01",
          "geometry": {
           "coordinates": [
            3.983333,
            51.958333
           ],
           "type": "Point"
          },
          "id": "93",
          "lat": 51.958333,
          "locatie": "?",
          "lon": 3.983333,
          "max": 0.00012727227121892714,
          "median": 0.00011928611213065088,
          "min": 0.00010885676555517816,
          "ministerie": "Ministerie van Economische Zaken en Klimaat",
          "project": "Windpark Tweede Maasvlakte",
          "title": "",
          "type": "Feature"
         },
         {
          "date": "2019-06-01",
          "geometry": {
           "coordinates": [
            3.983333,
            51.958333
           ],
           "type": "Point"
          },
          "id": "93",
          "lat": 51.958333,
          "locatie": "?",
          "lon": 3.983333,
          "max": 0.00013729894527549742,
          "median": 0.00012326839149068286,
          "min": 0.00011496170913928084,
          "ministerie": "Ministerie van Economische Zaken en Klimaat",
          "project": "Windpark Tweede Maasvlakte",
          "title": "",
          "type": "Feature"
         },
         {
          "date": "2019-07-01",
          "geometry": {
           "coordinates": [
            3.983333,
            51.958333
           ],
           "type": "Point"
          },
          "id": "93",
          "lat": 51.958333,
          "locatie": "?",
          "lon": 3.983333,
          "max": 0.00012696732326946238,
          "median": 0.00011196044561288774,
          "min": 0.00010701205958431354,
          "ministerie": "Ministerie van Economische Zaken en Klimaat",
          "project": "Windpark Tweede Maasvlakte",
          "title": "",
          "type": "Feature"
         },
         {
          "date": "2019-08-01",
          "geometry": {
           "coordinates": [
            3.983333,
            51.958333
           ],
           "type": "Point"
          },
          "id": "93",
          "lat": 51.958333,
          "locatie": "?",
          "lon": 3.983333,
          "max": 0.00010991025499613568,
          "median": 0.0001006989819426755,
          "min": 9.370291041516657e-05,
          "ministerie": "Ministerie van Economische Zaken en Klimaat",
          "project": "Windpark Tweede Maasvlakte",
          "title": "",
          "type": "Feature"
         },
         {
          "date": "2019-09-01",
          "geometry": {
           "coordinates": [
            3.983333,
            51.958333
           ],
           "type": "Point"
          },
          "id": "93",
          "lat": 51.958333,
          "locatie": "?",
          "lon": 3.983333,
          "max": 9.253664997886142e-05,
          "median": 8.446038692260186e-05,
          "min": 7.377624897158588e-05,
          "ministerie": "Ministerie van Economische Zaken en Klimaat",
          "project": "Windpark Tweede Maasvlakte",
          "title": "",
          "type": "Feature"
         },
         {
          "date": "2018-07-01",
          "geometry": {
           "coordinates": [
            6.084061,
            53.488774
           ],
           "type": "Point"
          },
          "id": "113",
          "lat": 53.488774,
          "locatie": "Westgat",
          "lon": 6.084061,
          "max": 9.252932208658723e-05,
          "median": 8.998589043089213e-05,
          "min": 8.592053782725226e-05,
          "ministerie": "Ministerie van Economische Zaken en Klimaat",
          "project": "Elektrificatie Ameland Westgat",
          "title": "",
          "type": "Feature"
         },
         {
          "date": "2018-08-01",
          "geometry": {
           "coordinates": [
            6.084061,
            53.488774
           ],
           "type": "Point"
          },
          "id": "113",
          "lat": 53.488774,
          "locatie": "Westgat",
          "lon": 6.084061,
          "max": 8.810586695807428e-05,
          "median": 8.592342969778165e-05,
          "min": 8.208923936575621e-05,
          "ministerie": "Ministerie van Economische Zaken en Klimaat",
          "project": "Elektrificatie Ameland Westgat",
          "title": "",
          "type": "Feature"
         },
         {
          "date": "2018-09-01",
          "geometry": {
           "coordinates": [
            6.084061,
            53.488774
           ],
           "type": "Point"
          },
          "id": "113",
          "lat": 53.488774,
          "locatie": "Westgat",
          "lon": 6.084061,
          "max": 9.928537348602211e-05,
          "median": 8.69263364653435e-05,
          "min": 8.078309474512935e-05,
          "ministerie": "Ministerie van Economische Zaken en Klimaat",
          "project": "Elektrificatie Ameland Westgat",
          "title": "",
          "type": "Feature"
         },
         {
          "date": "2018-10-01",
          "geometry": {
           "coordinates": [
            6.084061,
            53.488774
           ],
           "type": "Point"
          },
          "id": "113",
          "lat": 53.488774,
          "locatie": "Westgat",
          "lon": 6.084061,
          "max": 9.044486330424378e-05,
          "median": 8.451559801770739e-05,
          "min": 6.962587006562607e-05,
          "ministerie": "Ministerie van Economische Zaken en Klimaat",
          "project": "Elektrificatie Ameland Westgat",
          "title": "",
          "type": "Feature"
         },
         {
          "date": "2018-11-01",
          "geometry": {
           "coordinates": [
            6.084061,
            53.488774
           ],
           "type": "Point"
          },
          "id": "113",
          "lat": 53.488774,
          "locatie": "Westgat",
          "lon": 6.084061,
          "max": 0.00012034516929512778,
          "median": 0.0001075438244829451,
          "min": 9.580641828619916e-05,
          "ministerie": "Ministerie van Economische Zaken en Klimaat",
          "project": "Elektrificatie Ameland Westgat",
          "title": "",
          "type": "Feature"
         },
         {
          "date": "2018-12-01",
          "geometry": {
           "coordinates": [
            6.084061,
            53.488774
           ],
           "type": "Point"
          },
          "id": "113",
          "lat": 53.488774,
          "locatie": "Westgat",
          "lon": 6.084061,
          "max": 7.951122366773176e-05,
          "median": 6.828137702541426e-05,
          "min": 5.901557181762392e-05,
          "ministerie": "Ministerie van Economische Zaken en Klimaat",
          "project": "Elektrificatie Ameland Westgat",
          "title": "",
          "type": "Feature"
         },
         {
          "date": "2019-01-01",
          "geometry": {
           "coordinates": [
            6.084061,
            53.488774
           ],
           "type": "Point"
          },
          "id": "113",
          "lat": 53.488774,
          "locatie": "Westgat",
          "lon": 6.084061,
          "max": 4.729373176814988e-05,
          "median": 3.79014819164647e-05,
          "min": 3.1068542739376426e-05,
          "ministerie": "Ministerie van Economische Zaken en Klimaat",
          "project": "Elektrificatie Ameland Westgat",
          "title": "",
          "type": "Feature"
         },
         {
          "date": "2019-02-01",
          "geometry": {
           "coordinates": [
            6.084061,
            53.488774
           ],
           "type": "Point"
          },
          "id": "113",
          "lat": 53.488774,
          "locatie": "Westgat",
          "lon": 6.084061,
          "max": 0.00015858302860505892,
          "median": 0.00013530844888190113,
          "min": 0.00010397208097856492,
          "ministerie": "Ministerie van Economische Zaken en Klimaat",
          "project": "Elektrificatie Ameland Westgat",
          "title": "",
          "type": "Feature"
         },
         {
          "date": "2019-03-01",
          "geometry": {
           "coordinates": [
            6.084061,
            53.488774
           ],
           "type": "Point"
          },
          "id": "113",
          "lat": 53.488774,
          "locatie": "Westgat",
          "lon": 6.084061,
          "max": 7.764762995066121e-05,
          "median": 6.960586900485589e-05,
          "min": 6.468387980088013e-05,
          "ministerie": "Ministerie van Economische Zaken en Klimaat",
          "project": "Elektrificatie Ameland Westgat",
          "title": "",
          "type": "Feature"
         },
         {
          "date": "2019-04-01",
          "geometry": {
           "coordinates": [
            6.084061,
            53.488774
           ],
           "type": "Point"
          },
          "id": "113",
          "lat": 53.488774,
          "locatie": "Westgat",
          "lon": 6.084061,
          "max": 0.00010487827603355981,
          "median": 9.74891346273657e-05,
          "min": 9.308879423626211e-05,
          "ministerie": "Ministerie van Economische Zaken en Klimaat",
          "project": "Elektrificatie Ameland Westgat",
          "title": "",
          "type": "Feature"
         },
         {
          "date": "2019-05-01",
          "geometry": {
           "coordinates": [
            6.084061,
            53.488774
           ],
           "type": "Point"
          },
          "id": "113",
          "lat": 53.488774,
          "locatie": "Westgat",
          "lon": 6.084061,
          "max": 9.775623766472563e-05,
          "median": 9.136555743851121e-05,
          "min": 8.826982738680973e-05,
          "ministerie": "Ministerie van Economische Zaken en Klimaat",
          "project": "Elektrificatie Ameland Westgat",
          "title": "",
          "type": "Feature"
         },
         {
          "date": "2019-06-01",
          "geometry": {
           "coordinates": [
            6.084061,
            53.488774
           ],
           "type": "Point"
          },
          "id": "113",
          "lat": 53.488774,
          "locatie": "Westgat",
          "lon": 6.084061,
          "max": 0.00010669798211893067,
          "median": 0.00010324560140414398,
          "min": 9.694418622300497e-05,
          "ministerie": "Ministerie van Economische Zaken en Klimaat",
          "project": "Elektrificatie Ameland Westgat",
          "title": "",
          "type": "Feature"
         },
         {
          "date": "2019-07-01",
          "geometry": {
           "coordinates": [
            6.084061,
            53.488774
           ],
           "type": "Point"
          },
          "id": "113",
          "lat": 53.488774,
          "locatie": "Westgat",
          "lon": 6.084061,
          "max": 9.151450800111145e-05,
          "median": 8.765292295720428e-05,
          "min": 8.442658429470285e-05,
          "ministerie": "Ministerie van Economische Zaken en Klimaat",
          "project": "Elektrificatie Ameland Westgat",
          "title": "",
          "type": "Feature"
         },
         {
          "date": "2019-08-01",
          "geometry": {
           "coordinates": [
            6.084061,
            53.488774
           ],
           "type": "Point"
          },
          "id": "113",
          "lat": 53.488774,
          "locatie": "Westgat",
          "lon": 6.084061,
          "max": 0.00010134240583412463,
          "median": 9.608219319971463e-05,
          "min": 8.984194562071726e-05,
          "ministerie": "Ministerie van Economische Zaken en Klimaat",
          "project": "Elektrificatie Ameland Westgat",
          "title": "",
          "type": "Feature"
         },
         {
          "date": "2019-09-01",
          "geometry": {
           "coordinates": [
            6.084061,
            53.488774
           ],
           "type": "Point"
          },
          "id": "113",
          "lat": 53.488774,
          "locatie": "Westgat",
          "lon": 6.084061,
          "max": 9.107367575109698e-05,
          "median": 7.479771738871932e-05,
          "min": 6.610409036511555e-05,
          "ministerie": "Ministerie van Economische Zaken en Klimaat",
          "project": "Elektrificatie Ameland Westgat",
          "title": "",
          "type": "Feature"
         },
         {
          "date": "2018-07-01",
          "geometry": {
           "coordinates": [
            5.152237,
            52.991896999999994
           ],
           "type": "Point"
          },
          "id": "49",
          "lat": 52.991896999999994,
          "locatie": "Afsluitdijk, Den Oever, Netherlands",
          "lon": 5.152237,
          "max": 9.622708439734278e-05,
          "median": 9.249938984504638e-05,
          "min": 8.856499334797263e-05,
          "ministerie": "Ministerie van Infrastructuur en Waterstaat",
          "project": "Afsluitdijk",
          "title": "",
          "type": "Feature"
         },
         {
          "date": "2018-08-01",
          "geometry": {
           "coordinates": [
            5.152237,
            52.991896999999994
           ],
           "type": "Point"
          },
          "id": "49",
          "lat": 52.991896999999994,
          "locatie": "Afsluitdijk, Den Oever, Netherlands",
          "lon": 5.152237,
          "max": 9.479701639786137e-05,
          "median": 8.926154259825125e-05,
          "min": 8.566860924474895e-05,
          "ministerie": "Ministerie van Infrastructuur en Waterstaat",
          "project": "Afsluitdijk",
          "title": "",
          "type": "Feature"
         },
         {
          "date": "2018-09-01",
          "geometry": {
           "coordinates": [
            5.152237,
            52.991896999999994
           ],
           "type": "Point"
          },
          "id": "49",
          "lat": 52.991896999999994,
          "locatie": "Afsluitdijk, Den Oever, Netherlands",
          "lon": 5.152237,
          "max": 0.00011108010412054701,
          "median": 9.910759867538878e-05,
          "min": 9.376462548971176e-05,
          "ministerie": "Ministerie van Infrastructuur en Waterstaat",
          "project": "Afsluitdijk",
          "title": "",
          "type": "Feature"
         },
         {
          "date": "2018-10-01",
          "geometry": {
           "coordinates": [
            5.152237,
            52.991896999999994
           ],
           "type": "Point"
          },
          "id": "49",
          "lat": 52.991896999999994,
          "locatie": "Afsluitdijk, Den Oever, Netherlands",
          "lon": 5.152237,
          "max": 9.276441055466016e-05,
          "median": 7.744548929622397e-05,
          "min": 6.975903099585171e-05,
          "ministerie": "Ministerie van Infrastructuur en Waterstaat",
          "project": "Afsluitdijk",
          "title": "",
          "type": "Feature"
         },
         {
          "date": "2018-11-01",
          "geometry": {
           "coordinates": [
            5.152237,
            52.991896999999994
           ],
           "type": "Point"
          },
          "id": "49",
          "lat": 52.991896999999994,
          "locatie": "Afsluitdijk, Den Oever, Netherlands",
          "lon": 5.152237,
          "max": 0.00016135010810103267,
          "median": 0.00013319579006037678,
          "min": 8.436979987891391e-05,
          "ministerie": "Ministerie van Infrastructuur en Waterstaat",
          "project": "Afsluitdijk",
          "title": "",
          "type": "Feature"
         },
         {
          "date": "2018-12-01",
          "geometry": {
           "coordinates": [
            5.152237,
            52.991896999999994
           ],
           "type": "Point"
          },
          "id": "49",
          "lat": 52.991896999999994,
          "locatie": "Afsluitdijk, Den Oever, Netherlands",
          "lon": 5.152237,
          "max": 0.00016031740233302116,
          "median": 7.731385267106816e-05,
          "min": 5.934647338904609e-05,
          "ministerie": "Ministerie van Infrastructuur en Waterstaat",
          "project": "Afsluitdijk",
          "title": "",
          "type": "Feature"
         },
         {
          "date": "2019-01-01",
          "geometry": {
           "coordinates": [
            5.152237,
            52.991896999999994
           ],
           "type": "Point"
          },
          "id": "49",
          "lat": 52.991896999999994,
          "locatie": "Afsluitdijk, Den Oever, Netherlands",
          "lon": 5.152237,
          "max": 6.308540054594408e-05,
          "median": 3.758776801987551e-05,
          "min": 1.775961504553785e-05,
          "ministerie": "Ministerie van Infrastructuur en Waterstaat",
          "project": "Afsluitdijk",
          "title": "",
          "type": "Feature"
         },
         {
          "date": "2019-02-01",
          "geometry": {
           "coordinates": [
            5.152237,
            52.991896999999994
           ],
           "type": "Point"
          },
          "id": "49",
          "lat": 52.991896999999994,
          "locatie": "Afsluitdijk, Den Oever, Netherlands",
          "lon": 5.152237,
          "max": 0.00019149953732267022,
          "median": 0.00012110617171856575,
          "min": 9.557118028169498e-05,
          "ministerie": "Ministerie van Infrastructuur en Waterstaat",
          "project": "Afsluitdijk",
          "title": "",
          "type": "Feature"
         },
         {
          "date": "2019-03-01",
          "geometry": {
           "coordinates": [
            5.152237,
            52.991896999999994
           ],
           "type": "Point"
          },
          "id": "49",
          "lat": 52.991896999999994,
          "locatie": "Afsluitdijk, Den Oever, Netherlands",
          "lon": 5.152237,
          "max": 8.859892016539815e-05,
          "median": 7.478483928175985e-05,
          "min": 6.930588325663182e-05,
          "ministerie": "Ministerie van Infrastructuur en Waterstaat",
          "project": "Afsluitdijk",
          "title": "",
          "type": "Feature"
         },
         {
          "date": "2019-04-01",
          "geometry": {
           "coordinates": [
            5.152237,
            52.991896999999994
           ],
           "type": "Point"
          },
          "id": "49",
          "lat": 52.991896999999994,
          "locatie": "Afsluitdijk, Den Oever, Netherlands",
          "lon": 5.152237,
          "max": 0.00010907854455200279,
          "median": 9.958096821322546e-05,
          "min": 9.610020788386464e-05,
          "ministerie": "Ministerie van Infrastructuur en Waterstaat",
          "project": "Afsluitdijk",
          "title": "",
          "type": "Feature"
         },
         {
          "date": "2019-05-01",
          "geometry": {
           "coordinates": [
            5.152237,
            52.991896999999994
           ],
           "type": "Point"
          },
          "id": "49",
          "lat": 52.991896999999994,
          "locatie": "Afsluitdijk, Den Oever, Netherlands",
          "lon": 5.152237,
          "max": 0.00010393480624770746,
          "median": 9.71372281863517e-05,
          "min": 9.014655395640073e-05,
          "ministerie": "Ministerie van Infrastructuur en Waterstaat",
          "project": "Afsluitdijk",
          "title": "",
          "type": "Feature"
         },
         {
          "date": "2019-06-01",
          "geometry": {
           "coordinates": [
            5.152237,
            52.991896999999994
           ],
           "type": "Point"
          },
          "id": "49",
          "lat": 52.991896999999994,
          "locatie": "Afsluitdijk, Den Oever, Netherlands",
          "lon": 5.152237,
          "max": 0.00011441723944494361,
          "median": 0.00010094336518912116,
          "min": 9.557497105561197e-05,
          "ministerie": "Ministerie van Infrastructuur en Waterstaat",
          "project": "Afsluitdijk",
          "title": "",
          "type": "Feature"
         },
         {
          "date": "2019-07-01",
          "geometry": {
           "coordinates": [
            5.152237,
            52.991896999999994
           ],
           "type": "Point"
          },
          "id": "49",
          "lat": 52.991896999999994,
          "locatie": "Afsluitdijk, Den Oever, Netherlands",
          "lon": 5.152237,
          "max": 9.602053815583137e-05,
          "median": 9.217063419167747e-05,
          "min": 8.845491552156149e-05,
          "ministerie": "Ministerie van Infrastructuur en Waterstaat",
          "project": "Afsluitdijk",
          "title": "",
          "type": "Feature"
         },
         {
          "date": "2019-08-01",
          "geometry": {
           "coordinates": [
            5.152237,
            52.991896999999994
           ],
           "type": "Point"
          },
          "id": "49",
          "lat": 52.991896999999994,
          "locatie": "Afsluitdijk, Den Oever, Netherlands",
          "lon": 5.152237,
          "max": 0.00010225702571207565,
          "median": 9.682545366912986e-05,
          "min": 9.222777050184029e-05,
          "ministerie": "Ministerie van Infrastructuur en Waterstaat",
          "project": "Afsluitdijk",
          "title": "",
          "type": "Feature"
         },
         {
          "date": "2019-09-01",
          "geometry": {
           "coordinates": [
            5.152237,
            52.991896999999994
           ],
           "type": "Point"
          },
          "id": "49",
          "lat": 52.991896999999994,
          "locatie": "Afsluitdijk, Den Oever, Netherlands",
          "lon": 5.152237,
          "max": 8.115464591477643e-05,
          "median": 7.241671767120098e-05,
          "min": 6.7639048656425e-05,
          "ministerie": "Ministerie van Infrastructuur en Waterstaat",
          "project": "Afsluitdijk",
          "title": "",
          "type": "Feature"
         },
         {
          "date": "2018-07-01",
          "geometry": {
           "coordinates": [
            4.325601,
            52.08021
           ],
           "type": "Point"
          },
          "id": "52",
          "lat": 52.08021,
          "locatie": "Den Haag Centraal, The Hague, Netherlands",
          "lon": 4.325601,
          "max": 0.00014022972667499547,
          "median": 0.00012538514266039946,
          "min": 0.00010893572019122718,
          "ministerie": "Ministerie van Infrastructuur en Waterstaat",
          "project": "Den Haag CS, perronsporen 11 en 12",
          "title": "",
          "type": "Feature"
         },
         {
          "date": "2018-08-01",
          "geometry": {
           "coordinates": [
            4.325601,
            52.08021
           ],
           "type": "Point"
          },
          "id": "52",
          "lat": 52.08021,
          "locatie": "Den Haag Centraal, The Hague, Netherlands",
          "lon": 4.325601,
          "max": 0.00011594999999427536,
          "median": 0.00010902368141778114,
          "min": 9.448191472618991e-05,
          "ministerie": "Ministerie van Infrastructuur en Waterstaat",
          "project": "Den Haag CS, perronsporen 11 en 12",
          "title": "",
          "type": "Feature"
         },
         {
          "date": "2018-09-01",
          "geometry": {
           "coordinates": [
            4.325601,
            52.08021
           ],
           "type": "Point"
          },
          "id": "52",
          "lat": 52.08021,
          "locatie": "Den Haag Centraal, The Hague, Netherlands",
          "lon": 4.325601,
          "max": 0.00013812880264324386,
          "median": 0.00012694785915172947,
          "min": 0.00011527684910106473,
          "ministerie": "Ministerie van Infrastructuur en Waterstaat",
          "project": "Den Haag CS, perronsporen 11 en 12",
          "title": "",
          "type": "Feature"
         },
         {
          "date": "2018-10-01",
          "geometry": {
           "coordinates": [
            4.325601,
            52.08021
           ],
           "type": "Point"
          },
          "id": "52",
          "lat": 52.08021,
          "locatie": "Den Haag Centraal, The Hague, Netherlands",
          "lon": 4.325601,
          "max": 0.00014373456827937095,
          "median": 0.00012405157269139853,
          "min": 0.00010679471597541124,
          "ministerie": "Ministerie van Infrastructuur en Waterstaat",
          "project": "Den Haag CS, perronsporen 11 en 12",
          "title": "",
          "type": "Feature"
         },
         {
          "date": "2018-11-01",
          "geometry": {
           "coordinates": [
            4.325601,
            52.08021
           ],
           "type": "Point"
          },
          "id": "52",
          "lat": 52.08021,
          "locatie": "Den Haag Centraal, The Hague, Netherlands",
          "lon": 4.325601,
          "max": 0.00018960379876391872,
          "median": 0.0001604834563206403,
          "min": 0.0001430903209430958,
          "ministerie": "Ministerie van Infrastructuur en Waterstaat",
          "project": "Den Haag CS, perronsporen 11 en 12",
          "title": "",
          "type": "Feature"
         },
         {
          "date": "2018-12-01",
          "geometry": {
           "coordinates": [
            4.325601,
            52.08021
           ],
           "type": "Point"
          },
          "id": "52",
          "lat": 52.08021,
          "locatie": "Den Haag Centraal, The Hague, Netherlands",
          "lon": 4.325601,
          "max": 0.00012659441563300788,
          "median": 0.0001014514418784529,
          "min": 8.370876457775012e-05,
          "ministerie": "Ministerie van Infrastructuur en Waterstaat",
          "project": "Den Haag CS, perronsporen 11 en 12",
          "title": "",
          "type": "Feature"
         },
         {
          "date": "2019-01-01",
          "geometry": {
           "coordinates": [
            4.325601,
            52.08021
           ],
           "type": "Point"
          },
          "id": "52",
          "lat": 52.08021,
          "locatie": "Den Haag Centraal, The Hague, Netherlands",
          "lon": 4.325601,
          "max": 8.330296689070029e-05,
          "median": 5.834697913087439e-05,
          "min": 5.074668843008112e-05,
          "ministerie": "Ministerie van Infrastructuur en Waterstaat",
          "project": "Den Haag CS, perronsporen 11 en 12",
          "title": "",
          "type": "Feature"
         },
         {
          "date": "2019-02-01",
          "geometry": {
           "coordinates": [
            4.325601,
            52.08021
           ],
           "type": "Point"
          },
          "id": "52",
          "lat": 52.08021,
          "locatie": "Den Haag Centraal, The Hague, Netherlands",
          "lon": 4.325601,
          "max": 0.00020651046016331771,
          "median": 0.0001751774249029146,
          "min": 0.0001382074549631069,
          "ministerie": "Ministerie van Infrastructuur en Waterstaat",
          "project": "Den Haag CS, perronsporen 11 en 12",
          "title": "",
          "type": "Feature"
         },
         {
          "date": "2019-03-01",
          "geometry": {
           "coordinates": [
            4.325601,
            52.08021
           ],
           "type": "Point"
          },
          "id": "52",
          "lat": 52.08021,
          "locatie": "Den Haag Centraal, The Hague, Netherlands",
          "lon": 4.325601,
          "max": 0.00010916148420802935,
          "median": 0.00010252720411826782,
          "min": 8.959295350741313e-05,
          "ministerie": "Ministerie van Infrastructuur en Waterstaat",
          "project": "Den Haag CS, perronsporen 11 en 12",
          "title": "",
          "type": "Feature"
         },
         {
          "date": "2019-04-01",
          "geometry": {
           "coordinates": [
            4.325601,
            52.08021
           ],
           "type": "Point"
          },
          "id": "52",
          "lat": 52.08021,
          "locatie": "Den Haag Centraal, The Hague, Netherlands",
          "lon": 4.325601,
          "max": 0.0001521985257404387,
          "median": 0.0001390848779493531,
          "min": 0.0001309973099538693,
          "ministerie": "Ministerie van Infrastructuur en Waterstaat",
          "project": "Den Haag CS, perronsporen 11 en 12",
          "title": "",
          "type": "Feature"
         },
         {
          "date": "2019-05-01",
          "geometry": {
           "coordinates": [
            4.325601,
            52.08021
           ],
           "type": "Point"
          },
          "id": "52",
          "lat": 52.08021,
          "locatie": "Den Haag Centraal, The Hague, Netherlands",
          "lon": 4.325601,
          "max": 0.00012360624168650247,
          "median": 0.00011766235301701398,
          "min": 0.0001089427661597283,
          "ministerie": "Ministerie van Infrastructuur en Waterstaat",
          "project": "Den Haag CS, perronsporen 11 en 12",
          "title": "",
          "type": "Feature"
         },
         {
          "date": "2019-06-01",
          "geometry": {
           "coordinates": [
            4.325601,
            52.08021
           ],
           "type": "Point"
          },
          "id": "52",
          "lat": 52.08021,
          "locatie": "Den Haag Centraal, The Hague, Netherlands",
          "lon": 4.325601,
          "max": 0.0001346407295188525,
          "median": 0.0001198104364448227,
          "min": 0.00010835024798750426,
          "ministerie": "Ministerie van Infrastructuur en Waterstaat",
          "project": "Den Haag CS, perronsporen 11 en 12",
          "title": "",
          "type": "Feature"
         },
         {
          "date": "2019-07-01",
          "geometry": {
           "coordinates": [
            4.325601,
            52.08021
           ],
           "type": "Point"
          },
          "id": "52",
          "lat": 52.08021,
          "locatie": "Den Haag Centraal, The Hague, Netherlands",
          "lon": 4.325601,
          "max": 0.0001204133881656934,
          "median": 0.0001109045737696291,
          "min": 9.70240798778832e-05,
          "ministerie": "Ministerie van Infrastructuur en Waterstaat",
          "project": "Den Haag CS, perronsporen 11 en 12",
          "title": "",
          "type": "Feature"
         },
         {
          "date": "2019-08-01",
          "geometry": {
           "coordinates": [
            4.325601,
            52.08021
           ],
           "type": "Point"
          },
          "id": "52",
          "lat": 52.08021,
          "locatie": "Den Haag Centraal, The Hague, Netherlands",
          "lon": 4.325601,
          "max": 0.00011472076950816846,
          "median": 0.00010625184222590178,
          "min": 9.91758715827018e-05,
          "ministerie": "Ministerie van Infrastructuur en Waterstaat",
          "project": "Den Haag CS, perronsporen 11 en 12",
          "title": "",
          "type": "Feature"
         },
         {
          "date": "2019-09-01",
          "geometry": {
           "coordinates": [
            4.325601,
            52.08021
           ],
           "type": "Point"
          },
          "id": "52",
          "lat": 52.08021,
          "locatie": "Den Haag Centraal, The Hague, Netherlands",
          "lon": 4.325601,
          "max": 0.00011636297122073817,
          "median": 8.507138301173603e-05,
          "min": 7.44555436540395e-05,
          "ministerie": "Ministerie van Infrastructuur en Waterstaat",
          "project": "Den Haag CS, perronsporen 11 en 12",
          "title": "",
          "type": "Feature"
         },
         {
          "date": "2018-07-01",
          "geometry": {
           "coordinates": [
            5.102501999999999,
            52.45863000000001
           ],
           "type": "Point"
          },
          "id": "57",
          "lat": 52.45863000000001,
          "locatie": "Marken, Netherlands",
          "lon": 5.102501999999999,
          "max": 0.00011762586197656415,
          "median": 0.00010629519824849105,
          "min": 9.824306471273303e-05,
          "ministerie": "Ministerie van Infrastructuur en Waterstaat",
          "project": "Hoogwaterbeschermingsprogramma Dijkversterking Marken",
          "title": "",
          "type": "Feature"
         },
         {
          "date": "2018-08-01",
          "geometry": {
           "coordinates": [
            5.102501999999999,
            52.45863000000001
           ],
           "type": "Point"
          },
          "id": "57",
          "lat": 52.45863000000001,
          "locatie": "Marken, Netherlands",
          "lon": 5.102501999999999,
          "max": 0.00012867723842063849,
          "median": 0.00010623546193285492,
          "min": 0.00010001957322926525,
          "ministerie": "Ministerie van Infrastructuur en Waterstaat",
          "project": "Hoogwaterbeschermingsprogramma Dijkversterking Marken",
          "title": "",
          "type": "Feature"
         },
         {
          "date": "2018-09-01",
          "geometry": {
           "coordinates": [
            5.102501999999999,
            52.45863000000001
           ],
           "type": "Point"
          },
          "id": "57",
          "lat": 52.45863000000001,
          "locatie": "Marken, Netherlands",
          "lon": 5.102501999999999,
          "max": 0.00014353289056539463,
          "median": 0.00012511176464613527,
          "min": 0.00010527280392125249,
          "ministerie": "Ministerie van Infrastructuur en Waterstaat",
          "project": "Hoogwaterbeschermingsprogramma Dijkversterking Marken",
          "title": "",
          "type": "Feature"
         },
         {
          "date": "2018-10-01",
          "geometry": {
           "coordinates": [
            5.102501999999999,
            52.45863000000001
           ],
           "type": "Point"
          },
          "id": "57",
          "lat": 52.45863000000001,
          "locatie": "Marken, Netherlands",
          "lon": 5.102501999999999,
          "max": 0.00013381949965910874,
          "median": 0.00011928546297816046,
          "min": 9.46981497651403e-05,
          "ministerie": "Ministerie van Infrastructuur en Waterstaat",
          "project": "Hoogwaterbeschermingsprogramma Dijkversterking Marken",
          "title": "",
          "type": "Feature"
         },
         {
          "date": "2018-11-01",
          "geometry": {
           "coordinates": [
            5.102501999999999,
            52.45863000000001
           ],
           "type": "Point"
          },
          "id": "57",
          "lat": 52.45863000000001,
          "locatie": "Marken, Netherlands",
          "lon": 5.102501999999999,
          "max": 0.00016906906967051327,
          "median": 0.00015736936742167143,
          "min": 0.00013850336836185306,
          "ministerie": "Ministerie van Infrastructuur en Waterstaat",
          "project": "Hoogwaterbeschermingsprogramma Dijkversterking Marken",
          "title": "",
          "type": "Feature"
         },
         {
          "date": "2018-12-01",
          "geometry": {
           "coordinates": [
            5.102501999999999,
            52.45863000000001
           ],
           "type": "Point"
          },
          "id": "57",
          "lat": 52.45863000000001,
          "locatie": "Marken, Netherlands",
          "lon": 5.102501999999999,
          "max": 0.00011515211837135934,
          "median": 0.0001055365864885971,
          "min": 8.789843374794565e-05,
          "ministerie": "Ministerie van Infrastructuur en Waterstaat",
          "project": "Hoogwaterbeschermingsprogramma Dijkversterking Marken",
          "title": "",
          "type": "Feature"
         },
         {
          "date": "2019-01-01",
          "geometry": {
           "coordinates": [
            5.102501999999999,
            52.45863000000001
           ],
           "type": "Point"
          },
          "id": "57",
          "lat": 52.45863000000001,
          "locatie": "Marken, Netherlands",
          "lon": 5.102501999999999,
          "max": 9.337512165075168e-05,
          "median": 7.605980510220592e-05,
          "min": 5.861137991644184e-05,
          "ministerie": "Ministerie van Infrastructuur en Waterstaat",
          "project": "Hoogwaterbeschermingsprogramma Dijkversterking Marken",
          "title": "",
          "type": "Feature"
         },
         {
          "date": "2019-02-01",
          "geometry": {
           "coordinates": [
            5.102501999999999,
            52.45863000000001
           ],
           "type": "Point"
          },
          "id": "57",
          "lat": 52.45863000000001,
          "locatie": "Marken, Netherlands",
          "lon": 5.102501999999999,
          "max": 0.00015373335572190725,
          "median": 0.00013585838083956205,
          "min": 0.000118877009347021,
          "ministerie": "Ministerie van Infrastructuur en Waterstaat",
          "project": "Hoogwaterbeschermingsprogramma Dijkversterking Marken",
          "title": "",
          "type": "Feature"
         },
         {
          "date": "2019-03-01",
          "geometry": {
           "coordinates": [
            5.102501999999999,
            52.45863000000001
           ],
           "type": "Point"
          },
          "id": "57",
          "lat": 52.45863000000001,
          "locatie": "Marken, Netherlands",
          "lon": 5.102501999999999,
          "max": 0.00011593289984721646,
          "median": 0.00010385616163146089,
          "min": 8.708114072488632e-05,
          "ministerie": "Ministerie van Infrastructuur en Waterstaat",
          "project": "Hoogwaterbeschermingsprogramma Dijkversterking Marken",
          "title": "",
          "type": "Feature"
         },
         {
          "date": "2019-04-01",
          "geometry": {
           "coordinates": [
            5.102501999999999,
            52.45863000000001
           ],
           "type": "Point"
          },
          "id": "57",
          "lat": 52.45863000000001,
          "locatie": "Marken, Netherlands",
          "lon": 5.102501999999999,
          "max": 0.00012347940355539322,
          "median": 0.0001139569649240002,
          "min": 0.00010299704102333729,
          "ministerie": "Ministerie van Infrastructuur en Waterstaat",
          "project": "Hoogwaterbeschermingsprogramma Dijkversterking Marken",
          "title": "",
          "type": "Feature"
         },
         {
          "date": "2019-05-01",
          "geometry": {
           "coordinates": [
            5.102501999999999,
            52.45863000000001
           ],
           "type": "Point"
          },
          "id": "57",
          "lat": 52.45863000000001,
          "locatie": "Marken, Netherlands",
          "lon": 5.102501999999999,
          "max": 0.00012325099792598703,
          "median": 0.00011383924478414581,
          "min": 0.00010338287393096834,
          "ministerie": "Ministerie van Infrastructuur en Waterstaat",
          "project": "Hoogwaterbeschermingsprogramma Dijkversterking Marken",
          "title": "",
          "type": "Feature"
         },
         {
          "date": "2019-06-01",
          "geometry": {
           "coordinates": [
            5.102501999999999,
            52.45863000000001
           ],
           "type": "Point"
          },
          "id": "57",
          "lat": 52.45863000000001,
          "locatie": "Marken, Netherlands",
          "lon": 5.102501999999999,
          "max": 0.00012842380965594202,
          "median": 0.00011895290993508759,
          "min": 0.00010828935046447441,
          "ministerie": "Ministerie van Infrastructuur en Waterstaat",
          "project": "Hoogwaterbeschermingsprogramma Dijkversterking Marken",
          "title": "",
          "type": "Feature"
         },
         {
          "date": "2019-07-01",
          "geometry": {
           "coordinates": [
            5.102501999999999,
            52.45863000000001
           ],
           "type": "Point"
          },
          "id": "57",
          "lat": 52.45863000000001,
          "locatie": "Marken, Netherlands",
          "lon": 5.102501999999999,
          "max": 0.00011828846254502423,
          "median": 0.00010464287900436285,
          "min": 9.457131818635389e-05,
          "ministerie": "Ministerie van Infrastructuur en Waterstaat",
          "project": "Hoogwaterbeschermingsprogramma Dijkversterking Marken",
          "title": "",
          "type": "Feature"
         },
         {
          "date": "2019-08-01",
          "geometry": {
           "coordinates": [
            5.102501999999999,
            52.45863000000001
           ],
           "type": "Point"
          },
          "id": "57",
          "lat": 52.45863000000001,
          "locatie": "Marken, Netherlands",
          "lon": 5.102501999999999,
          "max": 0.0001410093772407178,
          "median": 0.00012305979907978326,
          "min": 0.00011361264213137374,
          "ministerie": "Ministerie van Infrastructuur en Waterstaat",
          "project": "Hoogwaterbeschermingsprogramma Dijkversterking Marken",
          "title": "",
          "type": "Feature"
         },
         {
          "date": "2019-09-01",
          "geometry": {
           "coordinates": [
            5.102501999999999,
            52.45863000000001
           ],
           "type": "Point"
          },
          "id": "57",
          "lat": 52.45863000000001,
          "locatie": "Marken, Netherlands",
          "lon": 5.102501999999999,
          "max": 0.00010996635780124967,
          "median": 9.648767357519788e-05,
          "min": 8.010174864923845e-05,
          "ministerie": "Ministerie van Infrastructuur en Waterstaat",
          "project": "Hoogwaterbeschermingsprogramma Dijkversterking Marken",
          "title": "",
          "type": "Feature"
         },
         {
          "date": "2018-07-01",
          "geometry": {
           "coordinates": [
            4.599433,
            52.460021999999995
           ],
           "type": "Point"
          },
          "id": "58",
          "lat": 52.460021999999995,
          "locatie": "Ymuiden, Netherlands",
          "lon": 4.599433,
          "max": 0.00013961968219006182,
          "median": 0.0001184682005259674,
          "min": 0.00010590011238554743,
          "ministerie": "Ministerie van Infrastructuur en Waterstaat",
          "project": "Hoogwaterbeschermingsprogramma: Ijmuiden",
          "title": "",
          "type": "Feature"
         },
         {
          "date": "2018-08-01",
          "geometry": {
           "coordinates": [
            4.599433,
            52.460021999999995
           ],
           "type": "Point"
          },
          "id": "58",
          "lat": 52.460021999999995,
          "locatie": "Ymuiden, Netherlands",
          "lon": 4.599433,
          "max": 0.00011795902834091803,
          "median": 0.00010490054197212018,
          "min": 9.287298470660357e-05,
          "ministerie": "Ministerie van Infrastructuur en Waterstaat",
          "project": "Hoogwaterbeschermingsprogramma: Ijmuiden",
          "title": "",
          "type": "Feature"
         },
         {
          "date": "2018-09-01",
          "geometry": {
           "coordinates": [
            4.599433,
            52.460021999999995
           ],
           "type": "Point"
          },
          "id": "58",
          "lat": 52.460021999999995,
          "locatie": "Ymuiden, Netherlands",
          "lon": 4.599433,
          "max": 0.00012692957103570702,
          "median": 0.0001134256524583121,
          "min": 9.804993036333097e-05,
          "ministerie": "Ministerie van Infrastructuur en Waterstaat",
          "project": "Hoogwaterbeschermingsprogramma: Ijmuiden",
          "title": "",
          "type": "Feature"
         },
         {
          "date": "2018-10-01",
          "geometry": {
           "coordinates": [
            4.599433,
            52.460021999999995
           ],
           "type": "Point"
          },
          "id": "58",
          "lat": 52.460021999999995,
          "locatie": "Ymuiden, Netherlands",
          "lon": 4.599433,
          "max": 0.00013343195314519107,
          "median": 0.00011688918719973766,
          "min": 9.921277261702263e-05,
          "ministerie": "Ministerie van Infrastructuur en Waterstaat",
          "project": "Hoogwaterbeschermingsprogramma: Ijmuiden",
          "title": "",
          "type": "Feature"
         },
         {
          "date": "2018-11-01",
          "geometry": {
           "coordinates": [
            4.599433,
            52.460021999999995
           ],
           "type": "Point"
          },
          "id": "58",
          "lat": 52.460021999999995,
          "locatie": "Ymuiden, Netherlands",
          "lon": 4.599433,
          "max": 0.00017364808858545024,
          "median": 0.00016030492633462186,
          "min": 0.00013763760795066287,
          "ministerie": "Ministerie van Infrastructuur en Waterstaat",
          "project": "Hoogwaterbeschermingsprogramma: Ijmuiden",
          "title": "",
          "type": "Feature"
         },
         {
          "date": "2018-12-01",
          "geometry": {
           "coordinates": [
            4.599433,
            52.460021999999995
           ],
           "type": "Point"
          },
          "id": "58",
          "lat": 52.460021999999995,
          "locatie": "Ymuiden, Netherlands",
          "lon": 4.599433,
          "max": 0.00011775217843474789,
          "median": 0.00010741932419477962,
          "min": 8.731256785156154e-05,
          "ministerie": "Ministerie van Infrastructuur en Waterstaat",
          "project": "Hoogwaterbeschermingsprogramma: Ijmuiden",
          "title": "",
          "type": "Feature"
         },
         {
          "date": "2019-01-01",
          "geometry": {
           "coordinates": [
            4.599433,
            52.460021999999995
           ],
           "type": "Point"
          },
          "id": "58",
          "lat": 52.460021999999995,
          "locatie": "Ymuiden, Netherlands",
          "lon": 4.599433,
          "max": 9.288154840211125e-05,
          "median": 6.293835758697242e-05,
          "min": 4.620217454156437e-05,
          "ministerie": "Ministerie van Infrastructuur en Waterstaat",
          "project": "Hoogwaterbeschermingsprogramma: Ijmuiden",
          "title": "",
          "type": "Feature"
         },
         {
          "date": "2019-02-01",
          "geometry": {
           "coordinates": [
            4.599433,
            52.460021999999995
           ],
           "type": "Point"
          },
          "id": "58",
          "lat": 52.460021999999995,
          "locatie": "Ymuiden, Netherlands",
          "lon": 4.599433,
          "max": 0.000166510993875888,
          "median": 0.0001517878845334053,
          "min": 0.0001380379981128499,
          "ministerie": "Ministerie van Infrastructuur en Waterstaat",
          "project": "Hoogwaterbeschermingsprogramma: Ijmuiden",
          "title": "",
          "type": "Feature"
         },
         {
          "date": "2019-03-01",
          "geometry": {
           "coordinates": [
            4.599433,
            52.460021999999995
           ],
           "type": "Point"
          },
          "id": "58",
          "lat": 52.460021999999995,
          "locatie": "Ymuiden, Netherlands",
          "lon": 4.599433,
          "max": 9.907678759191185e-05,
          "median": 8.838299982016906e-05,
          "min": 8.221412021941234e-05,
          "ministerie": "Ministerie van Infrastructuur en Waterstaat",
          "project": "Hoogwaterbeschermingsprogramma: Ijmuiden",
          "title": "",
          "type": "Feature"
         },
         {
          "date": "2019-04-01",
          "geometry": {
           "coordinates": [
            4.599433,
            52.460021999999995
           ],
           "type": "Point"
          },
          "id": "58",
          "lat": 52.460021999999995,
          "locatie": "Ymuiden, Netherlands",
          "lon": 4.599433,
          "max": 0.00014313202779034568,
          "median": 0.00013100843352731317,
          "min": 0.00011304254942418848,
          "ministerie": "Ministerie van Infrastructuur en Waterstaat",
          "project": "Hoogwaterbeschermingsprogramma: Ijmuiden",
          "title": "",
          "type": "Feature"
         },
         {
          "date": "2019-05-01",
          "geometry": {
           "coordinates": [
            4.599433,
            52.460021999999995
           ],
           "type": "Point"
          },
          "id": "58",
          "lat": 52.460021999999995,
          "locatie": "Ymuiden, Netherlands",
          "lon": 4.599433,
          "max": 0.00011830055210636828,
          "median": 0.00011294929596792021,
          "min": 0.00010474112100859624,
          "ministerie": "Ministerie van Infrastructuur en Waterstaat",
          "project": "Hoogwaterbeschermingsprogramma: Ijmuiden",
          "title": "",
          "type": "Feature"
         },
         {
          "date": "2019-06-01",
          "geometry": {
           "coordinates": [
            4.599433,
            52.460021999999995
           ],
           "type": "Point"
          },
          "id": "58",
          "lat": 52.460021999999995,
          "locatie": "Ymuiden, Netherlands",
          "lon": 4.599433,
          "max": 0.00012252258633525286,
          "median": 0.00011616365372901782,
          "min": 0.00010992919877877186,
          "ministerie": "Ministerie van Infrastructuur en Waterstaat",
          "project": "Hoogwaterbeschermingsprogramma: Ijmuiden",
          "title": "",
          "type": "Feature"
         },
         {
          "date": "2019-07-01",
          "geometry": {
           "coordinates": [
            4.599433,
            52.460021999999995
           ],
           "type": "Point"
          },
          "id": "58",
          "lat": 52.460021999999995,
          "locatie": "Ymuiden, Netherlands",
          "lon": 4.599433,
          "max": 0.00012680610662497036,
          "median": 0.00010995675984304398,
          "min": 9.670197428494827e-05,
          "ministerie": "Ministerie van Infrastructuur en Waterstaat",
          "project": "Hoogwaterbeschermingsprogramma: Ijmuiden",
          "title": "",
          "type": "Feature"
         },
         {
          "date": "2019-08-01",
          "geometry": {
           "coordinates": [
            4.599433,
            52.460021999999995
           ],
           "type": "Point"
          },
          "id": "58",
          "lat": 52.460021999999995,
          "locatie": "Ymuiden, Netherlands",
          "lon": 4.599433,
          "max": 0.00011369652929715812,
          "median": 0.00010691130592022091,
          "min": 9.54985011621219e-05,
          "ministerie": "Ministerie van Infrastructuur en Waterstaat",
          "project": "Hoogwaterbeschermingsprogramma: Ijmuiden",
          "title": "",
          "type": "Feature"
         },
         {
          "date": "2019-09-01",
          "geometry": {
           "coordinates": [
            4.599433,
            52.460021999999995
           ],
           "type": "Point"
          },
          "id": "58",
          "lat": 52.460021999999995,
          "locatie": "Ymuiden, Netherlands",
          "lon": 4.599433,
          "max": 8.897652151063085e-05,
          "median": 7.98524015408475e-05,
          "min": 6.946547728148289e-05,
          "ministerie": "Ministerie van Infrastructuur en Waterstaat",
          "project": "Hoogwaterbeschermingsprogramma: Ijmuiden",
          "title": "",
          "type": "Feature"
         },
         {
          "date": "2018-07-01",
          "geometry": {
           "coordinates": [
            4.909946,
            53.230031999999994
           ],
           "type": "Point"
          },
          "id": "59",
          "lat": 53.230031999999994,
          "locatie": "Vlieland, Netherlands",
          "lon": 4.909946,
          "max": 9.31519710070695e-05,
          "median": 9.11100208823612e-05,
          "min": 8.75290445626872e-05,
          "ministerie": "Ministerie van Infrastructuur en Waterstaat",
          "project": "Hoogwaterbeschermingsprogramma: Vlieland",
          "title": "",
          "type": "Feature"
         },
         {
          "date": "2018-08-01",
          "geometry": {
           "coordinates": [
            4.909946,
            53.230031999999994
           ],
           "type": "Point"
          },
          "id": "59",
          "lat": 53.230031999999994,
          "locatie": "Vlieland, Netherlands",
          "lon": 4.909946,
          "max": 8.913776764529757e-05,
          "median": 8.536412860848941e-05,
          "min": 8.249331222032197e-05,
          "ministerie": "Ministerie van Infrastructuur en Waterstaat",
          "project": "Hoogwaterbeschermingsprogramma: Vlieland",
          "title": "",
          "type": "Feature"
         },
         {
          "date": "2018-09-01",
          "geometry": {
           "coordinates": [
            4.909946,
            53.230031999999994
           ],
           "type": "Point"
          },
          "id": "59",
          "lat": 53.230031999999994,
          "locatie": "Vlieland, Netherlands",
          "lon": 4.909946,
          "max": 9.506365604966751e-05,
          "median": 9.09083682927303e-05,
          "min": 8.473987338065182e-05,
          "ministerie": "Ministerie van Infrastructuur en Waterstaat",
          "project": "Hoogwaterbeschermingsprogramma: Vlieland",
          "title": "",
          "type": "Feature"
         },
         {
          "date": "2018-10-01",
          "geometry": {
           "coordinates": [
            4.909946,
            53.230031999999994
           ],
           "type": "Point"
          },
          "id": "59",
          "lat": 53.230031999999994,
          "locatie": "Vlieland, Netherlands",
          "lon": 4.909946,
          "max": 8.586094205305906e-05,
          "median": 7.72565208564067e-05,
          "min": 6.867754927952774e-05,
          "ministerie": "Ministerie van Infrastructuur en Waterstaat",
          "project": "Hoogwaterbeschermingsprogramma: Vlieland",
          "title": "",
          "type": "Feature"
         },
         {
          "date": "2018-11-01",
          "geometry": {
           "coordinates": [
            4.909946,
            53.230031999999994
           ],
           "type": "Point"
          },
          "id": "59",
          "lat": 53.230031999999994,
          "locatie": "Vlieland, Netherlands",
          "lon": 4.909946,
          "max": 0.00013238729297881946,
          "median": 0.00011426113928413969,
          "min": 9.673540625954047e-05,
          "ministerie": "Ministerie van Infrastructuur en Waterstaat",
          "project": "Hoogwaterbeschermingsprogramma: Vlieland",
          "title": "",
          "type": "Feature"
         },
         {
          "date": "2018-12-01",
          "geometry": {
           "coordinates": [
            4.909946,
            53.230031999999994
           ],
           "type": "Point"
          },
          "id": "59",
          "lat": 53.230031999999994,
          "locatie": "Vlieland, Netherlands",
          "lon": 4.909946,
          "max": 7.953171007102355e-05,
          "median": 7.021064084256068e-05,
          "min": 6.0989837582649615e-05,
          "ministerie": "Ministerie van Infrastructuur en Waterstaat",
          "project": "Hoogwaterbeschermingsprogramma: Vlieland",
          "title": "",
          "type": "Feature"
         },
         {
          "date": "2019-01-01",
          "geometry": {
           "coordinates": [
            4.909946,
            53.230031999999994
           ],
           "type": "Point"
          },
          "id": "59",
          "lat": 53.230031999999994,
          "locatie": "Vlieland, Netherlands",
          "lon": 4.909946,
          "max": 5.1226626731020645e-05,
          "median": 3.992420770743501e-05,
          "min": 2.8363832514065287e-05,
          "ministerie": "Ministerie van Infrastructuur en Waterstaat",
          "project": "Hoogwaterbeschermingsprogramma: Vlieland",
          "title": "",
          "type": "Feature"
         },
         {
          "date": "2019-02-01",
          "geometry": {
           "coordinates": [
            4.909946,
            53.230031999999994
           ],
           "type": "Point"
          },
          "id": "59",
          "lat": 53.230031999999994,
          "locatie": "Vlieland, Netherlands",
          "lon": 4.909946,
          "max": 0.00017097529052989557,
          "median": 0.00014534863294102252,
          "min": 0.00012207187683088705,
          "ministerie": "Ministerie van Infrastructuur en Waterstaat",
          "project": "Hoogwaterbeschermingsprogramma: Vlieland",
          "title": "",
          "type": "Feature"
         },
         {
          "date": "2019-03-01",
          "geometry": {
           "coordinates": [
            4.909946,
            53.230031999999994
           ],
           "type": "Point"
          },
          "id": "59",
          "lat": 53.230031999999994,
          "locatie": "Vlieland, Netherlands",
          "lon": 4.909946,
          "max": 7.824114436516538e-05,
          "median": 7.120860524390584e-05,
          "min": 6.45650943624787e-05,
          "ministerie": "Ministerie van Infrastructuur en Waterstaat",
          "project": "Hoogwaterbeschermingsprogramma: Vlieland",
          "title": "",
          "type": "Feature"
         },
         {
          "date": "2019-04-01",
          "geometry": {
           "coordinates": [
            4.909946,
            53.230031999999994
           ],
           "type": "Point"
          },
          "id": "59",
          "lat": 53.230031999999994,
          "locatie": "Vlieland, Netherlands",
          "lon": 4.909946,
          "max": 0.00010441274697175236,
          "median": 9.755737400332698e-05,
          "min": 9.064736325228509e-05,
          "ministerie": "Ministerie van Infrastructuur en Waterstaat",
          "project": "Hoogwaterbeschermingsprogramma: Vlieland",
          "title": "",
          "type": "Feature"
         },
         {
          "date": "2019-05-01",
          "geometry": {
           "coordinates": [
            4.909946,
            53.230031999999994
           ],
           "type": "Point"
          },
          "id": "59",
          "lat": 53.230031999999994,
          "locatie": "Vlieland, Netherlands",
          "lon": 4.909946,
          "max": 9.990477062163124e-05,
          "median": 9.564680446422978e-05,
          "min": 8.7156098743435e-05,
          "ministerie": "Ministerie van Infrastructuur en Waterstaat",
          "project": "Hoogwaterbeschermingsprogramma: Vlieland",
          "title": "",
          "type": "Feature"
         },
         {
          "date": "2019-06-01",
          "geometry": {
           "coordinates": [
            4.909946,
            53.230031999999994
           ],
           "type": "Point"
          },
          "id": "59",
          "lat": 53.230031999999994,
          "locatie": "Vlieland, Netherlands",
          "lon": 4.909946,
          "max": 0.00011089479812653735,
          "median": 0.00010594946584566712,
          "min": 0.00010258670235938942,
          "ministerie": "Ministerie van Infrastructuur en Waterstaat",
          "project": "Hoogwaterbeschermingsprogramma: Vlieland",
          "title": "",
          "type": "Feature"
         },
         {
          "date": "2019-07-01",
          "geometry": {
           "coordinates": [
            4.909946,
            53.230031999999994
           ],
           "type": "Point"
          },
          "id": "59",
          "lat": 53.230031999999994,
          "locatie": "Vlieland, Netherlands",
          "lon": 4.909946,
          "max": 9.603092030070081e-05,
          "median": 9.211514389038163e-05,
          "min": 8.862895355553682e-05,
          "ministerie": "Ministerie van Infrastructuur en Waterstaat",
          "project": "Hoogwaterbeschermingsprogramma: Vlieland",
          "title": "",
          "type": "Feature"
         },
         {
          "date": "2019-08-01",
          "geometry": {
           "coordinates": [
            4.909946,
            53.230031999999994
           ],
           "type": "Point"
          },
          "id": "59",
          "lat": 53.230031999999994,
          "locatie": "Vlieland, Netherlands",
          "lon": 4.909946,
          "max": 9.709239083024897e-05,
          "median": 9.26433494896628e-05,
          "min": 8.791824558481199e-05,
          "ministerie": "Ministerie van Infrastructuur en Waterstaat",
          "project": "Hoogwaterbeschermingsprogramma: Vlieland",
          "title": "",
          "type": "Feature"
         },
         {
          "date": "2019-09-01",
          "geometry": {
           "coordinates": [
            4.909946,
            53.230031999999994
           ],
           "type": "Point"
          },
          "id": "59",
          "lat": 53.230031999999994,
          "locatie": "Vlieland, Netherlands",
          "lon": 4.909946,
          "max": 7.774314581360754e-05,
          "median": 7.39131390456357e-05,
          "min": 6.775300062145106e-05,
          "ministerie": "Ministerie van Infrastructuur en Waterstaat",
          "project": "Hoogwaterbeschermingsprogramma: Vlieland",
          "title": "",
          "type": "Feature"
         },
         {
          "date": "2018-07-01",
          "geometry": {
           "coordinates": [
            5.280991,
            52.693611
           ],
           "type": "Point"
          },
          "id": "60",
          "lat": 52.693611,
          "locatie": "Houtribdijk, Enkhuizen, Netherlands",
          "lon": 5.280991,
          "max": 0.00010658670957749557,
          "median": 9.518608577778759e-05,
          "min": 9.181756650005691e-05,
          "ministerie": "Ministerie van Infrastructuur en Waterstaat",
          "project": "Hoogwaterbeschermingsprogramma 2: Houtribdijk, onderdeel Trintelzand B/watersportstrand",
          "title": "",
          "type": "Feature"
         },
         {
          "date": "2018-08-01",
          "geometry": {
           "coordinates": [
            5.280991,
            52.693611
           ],
           "type": "Point"
          },
          "id": "60",
          "lat": 52.693611,
          "locatie": "Houtribdijk, Enkhuizen, Netherlands",
          "lon": 5.280991,
          "max": 0.00011123741640167676,
          "median": 0.00010098324128193781,
          "min": 9.523034018433152e-05,
          "ministerie": "Ministerie van Infrastructuur en Waterstaat",
          "project": "Hoogwaterbeschermingsprogramma 2: Houtribdijk, onderdeel Trintelzand B/watersportstrand",
          "title": "",
          "type": "Feature"
         },
         {
          "date": "2018-09-01",
          "geometry": {
           "coordinates": [
            5.280991,
            52.693611
           ],
           "type": "Point"
          },
          "id": "60",
          "lat": 52.693611,
          "locatie": "Houtribdijk, Enkhuizen, Netherlands",
          "lon": 5.280991,
          "max": 0.0001245948061440824,
          "median": 0.000109524832535306,
          "min": 0.00010230368206975982,
          "ministerie": "Ministerie van Infrastructuur en Waterstaat",
          "project": "Hoogwaterbeschermingsprogramma 2: Houtribdijk, onderdeel Trintelzand B/watersportstrand",
          "title": "",
          "type": "Feature"
         },
         {
          "date": "2018-10-01",
          "geometry": {
           "coordinates": [
            5.280991,
            52.693611
           ],
           "type": "Point"
          },
          "id": "60",
          "lat": 52.693611,
          "locatie": "Houtribdijk, Enkhuizen, Netherlands",
          "lon": 5.280991,
          "max": 0.00010614236816763878,
          "median": 9.823221980181725e-05,
          "min": 8.2316178808266e-05,
          "ministerie": "Ministerie van Infrastructuur en Waterstaat",
          "project": "Hoogwaterbeschermingsprogramma 2: Houtribdijk, onderdeel Trintelzand B/watersportstrand",
          "title": "",
          "type": "Feature"
         },
         {
          "date": "2018-11-01",
          "geometry": {
           "coordinates": [
            5.280991,
            52.693611
           ],
           "type": "Point"
          },
          "id": "60",
          "lat": 52.693611,
          "locatie": "Houtribdijk, Enkhuizen, Netherlands",
          "lon": 5.280991,
          "max": 0.00015480823851336874,
          "median": 0.00014043206567126694,
          "min": 0.00011444583397793991,
          "ministerie": "Ministerie van Infrastructuur en Waterstaat",
          "project": "Hoogwaterbeschermingsprogramma 2: Houtribdijk, onderdeel Trintelzand B/watersportstrand",
          "title": "",
          "type": "Feature"
         },
         {
          "date": "2018-12-01",
          "geometry": {
           "coordinates": [
            5.280991,
            52.693611
           ],
           "type": "Point"
          },
          "id": "60",
          "lat": 52.693611,
          "locatie": "Houtribdijk, Enkhuizen, Netherlands",
          "lon": 5.280991,
          "max": 9.867419831024745e-05,
          "median": 8.66053921271835e-05,
          "min": 7.909590528168959e-05,
          "ministerie": "Ministerie van Infrastructuur en Waterstaat",
          "project": "Hoogwaterbeschermingsprogramma 2: Houtribdijk, onderdeel Trintelzand B/watersportstrand",
          "title": "",
          "type": "Feature"
         },
         {
          "date": "2019-01-01",
          "geometry": {
           "coordinates": [
            5.280991,
            52.693611
           ],
           "type": "Point"
          },
          "id": "60",
          "lat": 52.693611,
          "locatie": "Houtribdijk, Enkhuizen, Netherlands",
          "lon": 5.280991,
          "max": 9.156278688035203e-05,
          "median": 7.386139114971656e-05,
          "min": 5.917033546610596e-05,
          "ministerie": "Ministerie van Infrastructuur en Waterstaat",
          "project": "Hoogwaterbeschermingsprogramma 2: Houtribdijk, onderdeel Trintelzand B/watersportstrand",
          "title": "",
          "type": "Feature"
         },
         {
          "date": "2019-02-01",
          "geometry": {
           "coordinates": [
            5.280991,
            52.693611
           ],
           "type": "Point"
          },
          "id": "60",
          "lat": 52.693611,
          "locatie": "Houtribdijk, Enkhuizen, Netherlands",
          "lon": 5.280991,
          "max": 0.0001479788864748139,
          "median": 0.00012680740359279405,
          "min": 0.0001133085947918206,
          "ministerie": "Ministerie van Infrastructuur en Waterstaat",
          "project": "Hoogwaterbeschermingsprogramma 2: Houtribdijk, onderdeel Trintelzand B/watersportstrand",
          "title": "",
          "type": "Feature"
         },
         {
          "date": "2019-03-01",
          "geometry": {
           "coordinates": [
            5.280991,
            52.693611
           ],
           "type": "Point"
          },
          "id": "60",
          "lat": 52.693611,
          "locatie": "Houtribdijk, Enkhuizen, Netherlands",
          "lon": 5.280991,
          "max": 0.00010588280145319824,
          "median": 8.228639489971101e-05,
          "min": 7.496289329897906e-05,
          "ministerie": "Ministerie van Infrastructuur en Waterstaat",
          "project": "Hoogwaterbeschermingsprogramma 2: Houtribdijk, onderdeel Trintelzand B/watersportstrand",
          "title": "",
          "type": "Feature"
         },
         {
          "date": "2019-04-01",
          "geometry": {
           "coordinates": [
            5.280991,
            52.693611
           ],
           "type": "Point"
          },
          "id": "60",
          "lat": 52.693611,
          "locatie": "Houtribdijk, Enkhuizen, Netherlands",
          "lon": 5.280991,
          "max": 0.00011737673049834093,
          "median": 0.00010844825374078937,
          "min": 9.951471656677313e-05,
          "ministerie": "Ministerie van Infrastructuur en Waterstaat",
          "project": "Hoogwaterbeschermingsprogramma 2: Houtribdijk, onderdeel Trintelzand B/watersportstrand",
          "title": "",
          "type": "Feature"
         },
         {
          "date": "2019-05-01",
          "geometry": {
           "coordinates": [
            5.280991,
            52.693611
           ],
           "type": "Point"
          },
          "id": "60",
          "lat": 52.693611,
          "locatie": "Houtribdijk, Enkhuizen, Netherlands",
          "lon": 5.280991,
          "max": 0.00011278838734003651,
          "median": 0.00010638459020374439,
          "min": 9.965450193441479e-05,
          "ministerie": "Ministerie van Infrastructuur en Waterstaat",
          "project": "Hoogwaterbeschermingsprogramma 2: Houtribdijk, onderdeel Trintelzand B/watersportstrand",
          "title": "",
          "type": "Feature"
         },
         {
          "date": "2019-06-01",
          "geometry": {
           "coordinates": [
            5.280991,
            52.693611
           ],
           "type": "Point"
          },
          "id": "60",
          "lat": 52.693611,
          "locatie": "Houtribdijk, Enkhuizen, Netherlands",
          "lon": 5.280991,
          "max": 0.00011736303663009477,
          "median": 0.00011138948320876807,
          "min": 0.00010534135799389333,
          "ministerie": "Ministerie van Infrastructuur en Waterstaat",
          "project": "Hoogwaterbeschermingsprogramma 2: Houtribdijk, onderdeel Trintelzand B/watersportstrand",
          "title": "",
          "type": "Feature"
         },
         {
          "date": "2019-07-01",
          "geometry": {
           "coordinates": [
            5.280991,
            52.693611
           ],
           "type": "Point"
          },
          "id": "60",
          "lat": 52.693611,
          "locatie": "Houtribdijk, Enkhuizen, Netherlands",
          "lon": 5.280991,
          "max": 0.00010065372141875865,
          "median": 9.534833201338435e-05,
          "min": 9.05654534538623e-05,
          "ministerie": "Ministerie van Infrastructuur en Waterstaat",
          "project": "Hoogwaterbeschermingsprogramma 2: Houtribdijk, onderdeel Trintelzand B/watersportstrand",
          "title": "",
          "type": "Feature"
         },
         {
          "date": "2019-08-01",
          "geometry": {
           "coordinates": [
            5.280991,
            52.693611
           ],
           "type": "Point"
          },
          "id": "60",
          "lat": 52.693611,
          "locatie": "Houtribdijk, Enkhuizen, Netherlands",
          "lon": 5.280991,
          "max": 0.00012720616022634536,
          "median": 0.00011637071200848861,
          "min": 0.00010623643001247859,
          "ministerie": "Ministerie van Infrastructuur en Waterstaat",
          "project": "Hoogwaterbeschermingsprogramma 2: Houtribdijk, onderdeel Trintelzand B/watersportstrand",
          "title": "",
          "type": "Feature"
         },
         {
          "date": "2019-09-01",
          "geometry": {
           "coordinates": [
            5.280991,
            52.693611
           ],
           "type": "Point"
          },
          "id": "60",
          "lat": 52.693611,
          "locatie": "Houtribdijk, Enkhuizen, Netherlands",
          "lon": 5.280991,
          "max": 9.266632696380839e-05,
          "median": 8.055769100594588e-05,
          "min": 7.039657113572131e-05,
          "ministerie": "Ministerie van Infrastructuur en Waterstaat",
          "project": "Hoogwaterbeschermingsprogramma 2: Houtribdijk, onderdeel Trintelzand B/watersportstrand",
          "title": "",
          "type": "Feature"
         },
         {
          "date": "2018-07-01",
          "geometry": {
           "coordinates": [
            5.996553,
            51.907676
           ],
           "type": "Point"
          },
          "id": "62",
          "lat": 51.907676,
          "locatie": "Pannerdensch Kanaal, Pannerden, Netherlands",
          "lon": 5.996553,
          "max": 0.00012403494761208247,
          "median": 0.00011754148476835529,
          "min": 0.00011203641042811796,
          "ministerie": "Ministerie van Infrastructuur en Waterstaat",
          "project": "Krib- en oeververlaging Pannerdensch Kanaal",
          "title": "",
          "type": "Feature"
         },
         {
          "date": "2018-08-01",
          "geometry": {
           "coordinates": [
            5.996553,
            51.907676
           ],
           "type": "Point"
          },
          "id": "62",
          "lat": 51.907676,
          "locatie": "Pannerdensch Kanaal, Pannerden, Netherlands",
          "lon": 5.996553,
          "max": 0.00011194991384400055,
          "median": 0.00010636230283645446,
          "min": 0.0001007991741062142,
          "ministerie": "Ministerie van Infrastructuur en Waterstaat",
          "project": "Krib- en oeververlaging Pannerdensch Kanaal",
          "title": "",
          "type": "Feature"
         },
         {
          "date": "2018-09-01",
          "geometry": {
           "coordinates": [
            5.996553,
            51.907676
           ],
           "type": "Point"
          },
          "id": "62",
          "lat": 51.907676,
          "locatie": "Pannerdensch Kanaal, Pannerden, Netherlands",
          "lon": 5.996553,
          "max": 0.00015995183964143944,
          "median": 0.00014378391847385185,
          "min": 0.00012977364531252533,
          "ministerie": "Ministerie van Infrastructuur en Waterstaat",
          "project": "Krib- en oeververlaging Pannerdensch Kanaal",
          "title": "",
          "type": "Feature"
         },
         {
          "date": "2018-10-01",
          "geometry": {
           "coordinates": [
            5.996553,
            51.907676
           ],
           "type": "Point"
          },
          "id": "62",
          "lat": 51.907676,
          "locatie": "Pannerdensch Kanaal, Pannerden, Netherlands",
          "lon": 5.996553,
          "max": 0.00013523914481237823,
          "median": 0.00012805329625613235,
          "min": 0.00011807218472050374,
          "ministerie": "Ministerie van Infrastructuur en Waterstaat",
          "project": "Krib- en oeververlaging Pannerdensch Kanaal",
          "title": "",
          "type": "Feature"
         },
         {
          "date": "2018-11-01",
          "geometry": {
           "coordinates": [
            5.996553,
            51.907676
           ],
           "type": "Point"
          },
          "id": "62",
          "lat": 51.907676,
          "locatie": "Pannerdensch Kanaal, Pannerden, Netherlands",
          "lon": 5.996553,
          "max": 0.00017895298515213653,
          "median": 0.00016761338516517763,
          "min": 0.00014738908479593454,
          "ministerie": "Ministerie van Infrastructuur en Waterstaat",
          "project": "Krib- en oeververlaging Pannerdensch Kanaal",
          "title": "",
          "type": "Feature"
         },
         {
          "date": "2018-12-01",
          "geometry": {
           "coordinates": [
            5.996553,
            51.907676
           ],
           "type": "Point"
          },
          "id": "62",
          "lat": 51.907676,
          "locatie": "Pannerdensch Kanaal, Pannerden, Netherlands",
          "lon": 5.996553,
          "max": 0.00013480907801506053,
          "median": 0.00012259538729990154,
          "min": 0.00010597510568258924,
          "ministerie": "Ministerie van Infrastructuur en Waterstaat",
          "project": "Krib- en oeververlaging Pannerdensch Kanaal",
          "title": "",
          "type": "Feature"
         },
         {
          "date": "2019-01-01",
          "geometry": {
           "coordinates": [
            5.996553,
            51.907676
           ],
           "type": "Point"
          },
          "id": "62",
          "lat": 51.907676,
          "locatie": "Pannerdensch Kanaal, Pannerden, Netherlands",
          "lon": 5.996553,
          "max": 0.00015370259636927092,
          "median": 0.00012930925211105147,
          "min": 0.00010926614413619973,
          "ministerie": "Ministerie van Infrastructuur en Waterstaat",
          "project": "Krib- en oeververlaging Pannerdensch Kanaal",
          "title": "",
          "type": "Feature"
         },
         {
          "date": "2019-02-01",
          "geometry": {
           "coordinates": [
            5.996553,
            51.907676
           ],
           "type": "Point"
          },
          "id": "62",
          "lat": 51.907676,
          "locatie": "Pannerdensch Kanaal, Pannerden, Netherlands",
          "lon": 5.996553,
          "max": 0.0001693412777967751,
          "median": 0.00015965727733820777,
          "min": 0.0001415036676917225,
          "ministerie": "Ministerie van Infrastructuur en Waterstaat",
          "project": "Krib- en oeververlaging Pannerdensch Kanaal",
          "title": "",
          "type": "Feature"
         },
         {
          "date": "2019-03-01",
          "geometry": {
           "coordinates": [
            5.996553,
            51.907676
           ],
           "type": "Point"
          },
          "id": "62",
          "lat": 51.907676,
          "locatie": "Pannerdensch Kanaal, Pannerden, Netherlands",
          "lon": 5.996553,
          "max": 0.00011445092205296269,
          "median": 0.00010793996660846971,
          "min": 9.509028677712195e-05,
          "ministerie": "Ministerie van Infrastructuur en Waterstaat",
          "project": "Krib- en oeververlaging Pannerdensch Kanaal",
          "title": "",
          "type": "Feature"
         },
         {
          "date": "2019-04-01",
          "geometry": {
           "coordinates": [
            5.996553,
            51.907676
           ],
           "type": "Point"
          },
          "id": "62",
          "lat": 51.907676,
          "locatie": "Pannerdensch Kanaal, Pannerden, Netherlands",
          "lon": 5.996553,
          "max": 0.00012634631106672565,
          "median": 0.00011494801976853967,
          "min": 0.00010841069313385298,
          "ministerie": "Ministerie van Infrastructuur en Waterstaat",
          "project": "Krib- en oeververlaging Pannerdensch Kanaal",
          "title": "",
          "type": "Feature"
         },
         {
          "date": "2019-05-01",
          "geometry": {
           "coordinates": [
            5.996553,
            51.907676
           ],
           "type": "Point"
          },
          "id": "62",
          "lat": 51.907676,
          "locatie": "Pannerdensch Kanaal, Pannerden, Netherlands",
          "lon": 5.996553,
          "max": 0.0001220232188643422,
          "median": 0.00011838049894579008,
          "min": 0.00011324712249916047,
          "ministerie": "Ministerie van Infrastructuur en Waterstaat",
          "project": "Krib- en oeververlaging Pannerdensch Kanaal",
          "title": "",
          "type": "Feature"
         },
         {
          "date": "2019-06-01",
          "geometry": {
           "coordinates": [
            5.996553,
            51.907676
           ],
           "type": "Point"
          },
          "id": "62",
          "lat": 51.907676,
          "locatie": "Pannerdensch Kanaal, Pannerden, Netherlands",
          "lon": 5.996553,
          "max": 0.00011763743331556862,
          "median": 0.00011111862841062248,
          "min": 0.00010627351921397135,
          "ministerie": "Ministerie van Infrastructuur en Waterstaat",
          "project": "Krib- en oeververlaging Pannerdensch Kanaal",
          "title": "",
          "type": "Feature"
         },
         {
          "date": "2019-07-01",
          "geometry": {
           "coordinates": [
            5.996553,
            51.907676
           ],
           "type": "Point"
          },
          "id": "62",
          "lat": 51.907676,
          "locatie": "Pannerdensch Kanaal, Pannerden, Netherlands",
          "lon": 5.996553,
          "max": 0.00011462721886346117,
          "median": 0.00010800256072729966,
          "min": 0.00010258758330442258,
          "ministerie": "Ministerie van Infrastructuur en Waterstaat",
          "project": "Krib- en oeververlaging Pannerdensch Kanaal",
          "title": "",
          "type": "Feature"
         },
         {
          "date": "2019-08-01",
          "geometry": {
           "coordinates": [
            5.996553,
            51.907676
           ],
           "type": "Point"
          },
          "id": "62",
          "lat": 51.907676,
          "locatie": "Pannerdensch Kanaal, Pannerden, Netherlands",
          "lon": 5.996553,
          "max": 0.00011952886265425201,
          "median": 0.0001122860819516035,
          "min": 0.0001054632089648344,
          "ministerie": "Ministerie van Infrastructuur en Waterstaat",
          "project": "Krib- en oeververlaging Pannerdensch Kanaal",
          "title": "",
          "type": "Feature"
         },
         {
          "date": "2019-09-01",
          "geometry": {
           "coordinates": [
            5.996553,
            51.907676
           ],
           "type": "Point"
          },
          "id": "62",
          "lat": 51.907676,
          "locatie": "Pannerdensch Kanaal, Pannerden, Netherlands",
          "lon": 5.996553,
          "max": 0.00015742443792987615,
          "median": 0.00012862063290835368,
          "min": 0.00010399097619405624,
          "ministerie": "Ministerie van Infrastructuur en Waterstaat",
          "project": "Krib- en oeververlaging Pannerdensch Kanaal",
          "title": "",
          "type": "Feature"
         },
         {
          "date": "2018-07-01",
          "geometry": {
           "coordinates": [
            4.7621269999999996,
            52.309672
           ],
           "type": "Point"
          },
          "id": "64",
          "lat": 52.309672,
          "locatie": "Schiphol Airport, Schiphol, Netherlands",
          "lon": 4.7621269999999996,
          "max": 0.00016129918130522905,
          "median": 0.00014725008804816753,
          "min": 0.00012930941476715303,
          "ministerie": "Ministerie van Infrastructuur en Waterstaat",
          "project": "Luchthavenverkeersbesluit Schiphol",
          "title": "",
          "type": "Feature"
         },
         {
          "date": "2018-08-01",
          "geometry": {
           "coordinates": [
            4.7621269999999996,
            52.309672
           ],
           "type": "Point"
          },
          "id": "64",
          "lat": 52.309672,
          "locatie": "Schiphol Airport, Schiphol, Netherlands",
          "lon": 4.7621269999999996,
          "max": 0.00012849298946093768,
          "median": 0.00011812542765103839,
          "min": 0.00010488362137470411,
          "ministerie": "Ministerie van Infrastructuur en Waterstaat",
          "project": "Luchthavenverkeersbesluit Schiphol",
          "title": "",
          "type": "Feature"
         },
         {
          "date": "2018-09-01",
          "geometry": {
           "coordinates": [
            4.7621269999999996,
            52.309672
           ],
           "type": "Point"
          },
          "id": "64",
          "lat": 52.309672,
          "locatie": "Schiphol Airport, Schiphol, Netherlands",
          "lon": 4.7621269999999996,
          "max": 0.0001453761393319557,
          "median": 0.00013622523692902178,
          "min": 0.00012180398937942958,
          "ministerie": "Ministerie van Infrastructuur en Waterstaat",
          "project": "Luchthavenverkeersbesluit Schiphol",
          "title": "",
          "type": "Feature"
         },
         {
          "date": "2018-10-01",
          "geometry": {
           "coordinates": [
            4.7621269999999996,
            52.309672
           ],
           "type": "Point"
          },
          "id": "64",
          "lat": 52.309672,
          "locatie": "Schiphol Airport, Schiphol, Netherlands",
          "lon": 4.7621269999999996,
          "max": 0.00014353288861457258,
          "median": 0.00013099026620267285,
          "min": 0.00011245909108521842,
          "ministerie": "Ministerie van Infrastructuur en Waterstaat",
          "project": "Luchthavenverkeersbesluit Schiphol",
          "title": "",
          "type": "Feature"
         },
         {
          "date": "2018-11-01",
          "geometry": {
           "coordinates": [
            4.7621269999999996,
            52.309672
           ],
           "type": "Point"
          },
          "id": "64",
          "lat": 52.309672,
          "locatie": "Schiphol Airport, Schiphol, Netherlands",
          "lon": 4.7621269999999996,
          "max": 0.00017057343483490185,
          "median": 0.00015537134372967579,
          "min": 0.00014636591367889196,
          "ministerie": "Ministerie van Infrastructuur en Waterstaat",
          "project": "Luchthavenverkeersbesluit Schiphol",
          "title": "",
          "type": "Feature"
         },
         {
          "date": "2018-12-01",
          "geometry": {
           "coordinates": [
            4.7621269999999996,
            52.309672
           ],
           "type": "Point"
          },
          "id": "64",
          "lat": 52.309672,
          "locatie": "Schiphol Airport, Schiphol, Netherlands",
          "lon": 4.7621269999999996,
          "max": 0.00011983820485875084,
          "median": 0.00011159140587838304,
          "min": 0.00010056434621219523,
          "ministerie": "Ministerie van Infrastructuur en Waterstaat",
          "project": "Luchthavenverkeersbesluit Schiphol",
          "title": "",
          "type": "Feature"
         },
         {
          "date": "2019-01-01",
          "geometry": {
           "coordinates": [
            4.7621269999999996,
            52.309672
           ],
           "type": "Point"
          },
          "id": "64",
          "lat": 52.309672,
          "locatie": "Schiphol Airport, Schiphol, Netherlands",
          "lon": 4.7621269999999996,
          "max": 9.524751658318564e-05,
          "median": 7.757640560157597e-05,
          "min": 6.334052775658179e-05,
          "ministerie": "Ministerie van Infrastructuur en Waterstaat",
          "project": "Luchthavenverkeersbesluit Schiphol",
          "title": "",
          "type": "Feature"
         },
         {
          "date": "2019-02-01",
          "geometry": {
           "coordinates": [
            4.7621269999999996,
            52.309672
           ],
           "type": "Point"
          },
          "id": "64",
          "lat": 52.309672,
          "locatie": "Schiphol Airport, Schiphol, Netherlands",
          "lon": 4.7621269999999996,
          "max": 0.00017095655493903905,
          "median": 0.00016236889881890583,
          "min": 0.00013934106391388923,
          "ministerie": "Ministerie van Infrastructuur en Waterstaat",
          "project": "Luchthavenverkeersbesluit Schiphol",
          "title": "",
          "type": "Feature"
         },
         {
          "date": "2019-03-01",
          "geometry": {
           "coordinates": [
            4.7621269999999996,
            52.309672
           ],
           "type": "Point"
          },
          "id": "64",
          "lat": 52.309672,
          "locatie": "Schiphol Airport, Schiphol, Netherlands",
          "lon": 4.7621269999999996,
          "max": 0.0001068170313583093,
          "median": 9.756095532103213e-05,
          "min": 8.526968244908577e-05,
          "ministerie": "Ministerie van Infrastructuur en Waterstaat",
          "project": "Luchthavenverkeersbesluit Schiphol",
          "title": "",
          "type": "Feature"
         },
         {
          "date": "2019-04-01",
          "geometry": {
           "coordinates": [
            4.7621269999999996,
            52.309672
           ],
           "type": "Point"
          },
          "id": "64",
          "lat": 52.309672,
          "locatie": "Schiphol Airport, Schiphol, Netherlands",
          "lon": 4.7621269999999996,
          "max": 0.00014351771127800445,
          "median": 0.0001312890017288737,
          "min": 0.000122142126201652,
          "ministerie": "Ministerie van Infrastructuur en Waterstaat",
          "project": "Luchthavenverkeersbesluit Schiphol",
          "title": "",
          "type": "Feature"
         },
         {
          "date": "2019-05-01",
          "geometry": {
           "coordinates": [
            4.7621269999999996,
            52.309672
           ],
           "type": "Point"
          },
          "id": "64",
          "lat": 52.309672,
          "locatie": "Schiphol Airport, Schiphol, Netherlands",
          "lon": 4.7621269999999996,
          "max": 0.0001238947804186847,
          "median": 0.00011866022408237823,
          "min": 0.00011168371565872803,
          "ministerie": "Ministerie van Infrastructuur en Waterstaat",
          "project": "Luchthavenverkeersbesluit Schiphol",
          "title": "",
          "type": "Feature"
         },
         {
          "date": "2019-06-01",
          "geometry": {
           "coordinates": [
            4.7621269999999996,
            52.309672
           ],
           "type": "Point"
          },
          "id": "64",
          "lat": 52.309672,
          "locatie": "Schiphol Airport, Schiphol, Netherlands",
          "lon": 4.7621269999999996,
          "max": 0.0001289445353904739,
          "median": 0.00012039690045639873,
          "min": 0.00011124817340353436,
          "ministerie": "Ministerie van Infrastructuur en Waterstaat",
          "project": "Luchthavenverkeersbesluit Schiphol",
          "title": "",
          "type": "Feature"
         },
         {
          "date": "2019-07-01",
          "geometry": {
           "coordinates": [
            4.7621269999999996,
            52.309672
           ],
           "type": "Point"
          },
          "id": "64",
          "lat": 52.309672,
          "locatie": "Schiphol Airport, Schiphol, Netherlands",
          "lon": 4.7621269999999996,
          "max": 0.0001231651764606633,
          "median": 0.00011891662870766595,
          "min": 0.00010958716302411631,
          "ministerie": "Ministerie van Infrastructuur en Waterstaat",
          "project": "Luchthavenverkeersbesluit Schiphol",
          "title": "",
          "type": "Feature"
         },
         {
          "date": "2019-08-01",
          "geometry": {
           "coordinates": [
            4.7621269999999996,
            52.309672
           ],
           "type": "Point"
          },
          "id": "64",
          "lat": 52.309672,
          "locatie": "Schiphol Airport, Schiphol, Netherlands",
          "lon": 4.7621269999999996,
          "max": 0.0001321225711257917,
          "median": 0.00011630305380094796,
          "min": 0.00010705795266935958,
          "ministerie": "Ministerie van Infrastructuur en Waterstaat",
          "project": "Luchthavenverkeersbesluit Schiphol",
          "title": "",
          "type": "Feature"
         },
         {
          "date": "2019-09-01",
          "geometry": {
           "coordinates": [
            4.7621269999999996,
            52.309672
           ],
           "type": "Point"
          },
          "id": "64",
          "lat": 52.309672,
          "locatie": "Schiphol Airport, Schiphol, Netherlands",
          "lon": 4.7621269999999996,
          "max": 9.266830724151946e-05,
          "median": 8.170006822264789e-05,
          "min": 7.728625300635293e-05,
          "ministerie": "Ministerie van Infrastructuur en Waterstaat",
          "project": "Luchthavenverkeersbesluit Schiphol",
          "title": "",
          "type": "Feature"
         },
         {
          "date": "2018-07-01",
          "geometry": {
           "coordinates": [
            5.5243199999999995,
            52.455736
           ],
           "type": "Point"
          },
          "id": "65",
          "lat": 52.455736,
          "locatie": "Lelystad Airport, Lelystad, Netherlands",
          "lon": 5.5243199999999995,
          "max": 0.00010875291390428399,
          "median": 0.000105102417417341,
          "min": 9.996645814134029e-05,
          "ministerie": "Ministerie van Infrastructuur en Waterstaat",
          "project": "Luchthavenbesluit Lelystad Airport",
          "title": "",
          "type": "Feature"
         },
         {
          "date": "2018-08-01",
          "geometry": {
           "coordinates": [
            5.5243199999999995,
            52.455736
           ],
           "type": "Point"
          },
          "id": "65",
          "lat": 52.455736,
          "locatie": "Lelystad Airport, Lelystad, Netherlands",
          "lon": 5.5243199999999995,
          "max": 0.00011601804318807517,
          "median": 0.0001016003337827245,
          "min": 9.737157773059883e-05,
          "ministerie": "Ministerie van Infrastructuur en Waterstaat",
          "project": "Luchthavenbesluit Lelystad Airport",
          "title": "",
          "type": "Feature"
         },
         {
          "date": "2018-09-01",
          "geometry": {
           "coordinates": [
            5.5243199999999995,
            52.455736
           ],
           "type": "Point"
          },
          "id": "65",
          "lat": 52.455736,
          "locatie": "Lelystad Airport, Lelystad, Netherlands",
          "lon": 5.5243199999999995,
          "max": 0.0001341108581982553,
          "median": 0.00012335976116063297,
          "min": 0.00011525559600998441,
          "ministerie": "Ministerie van Infrastructuur en Waterstaat",
          "project": "Luchthavenbesluit Lelystad Airport",
          "title": "",
          "type": "Feature"
         },
         {
          "date": "2018-10-01",
          "geometry": {
           "coordinates": [
            5.5243199999999995,
            52.455736
           ],
           "type": "Point"
          },
          "id": "65",
          "lat": 52.455736,
          "locatie": "Lelystad Airport, Lelystad, Netherlands",
          "lon": 5.5243199999999995,
          "max": 0.00012201675895404047,
          "median": 0.00010869388941512689,
          "min": 0.00010180230547991484,
          "ministerie": "Ministerie van Infrastructuur en Waterstaat",
          "project": "Luchthavenbesluit Lelystad Airport",
          "title": "",
          "type": "Feature"
         },
         {
          "date": "2018-11-01",
          "geometry": {
           "coordinates": [
            5.5243199999999995,
            52.455736
           ],
           "type": "Point"
          },
          "id": "65",
          "lat": 52.455736,
          "locatie": "Lelystad Airport, Lelystad, Netherlands",
          "lon": 5.5243199999999995,
          "max": 0.00016673545178491622,
          "median": 0.00014469744869168152,
          "min": 0.0001349752419628203,
          "ministerie": "Ministerie van Infrastructuur en Waterstaat",
          "project": "Luchthavenbesluit Lelystad Airport",
          "title": "",
          "type": "Feature"
         },
         {
          "date": "2018-12-01",
          "geometry": {
           "coordinates": [
            5.5243199999999995,
            52.455736
           ],
           "type": "Point"
          },
          "id": "65",
          "lat": 52.455736,
          "locatie": "Lelystad Airport, Lelystad, Netherlands",
          "lon": 5.5243199999999995,
          "max": 0.00010961810039589182,
          "median": 9.456982743781436e-05,
          "min": 8.403001615042726e-05,
          "ministerie": "Ministerie van Infrastructuur en Waterstaat",
          "project": "Luchthavenbesluit Lelystad Airport",
          "title": "",
          "type": "Feature"
         },
         {
          "date": "2019-01-01",
          "geometry": {
           "coordinates": [
            5.5243199999999995,
            52.455736
           ],
           "type": "Point"
          },
          "id": "65",
          "lat": 52.455736,
          "locatie": "Lelystad Airport, Lelystad, Netherlands",
          "lon": 5.5243199999999995,
          "max": 0.00011018870540978155,
          "median": 8.001893271883555e-05,
          "min": 6.184631638461724e-05,
          "ministerie": "Ministerie van Infrastructuur en Waterstaat",
          "project": "Luchthavenbesluit Lelystad Airport",
          "title": "",
          "type": "Feature"
         },
         {
          "date": "2019-02-01",
          "geometry": {
           "coordinates": [
            5.5243199999999995,
            52.455736
           ],
           "type": "Point"
          },
          "id": "65",
          "lat": 52.455736,
          "locatie": "Lelystad Airport, Lelystad, Netherlands",
          "lon": 5.5243199999999995,
          "max": 0.00019173332839272916,
          "median": 0.0001657867504430559,
          "min": 0.00013740542511439817,
          "ministerie": "Ministerie van Infrastructuur en Waterstaat",
          "project": "Luchthavenbesluit Lelystad Airport",
          "title": "",
          "type": "Feature"
         },
         {
          "date": "2019-03-01",
          "geometry": {
           "coordinates": [
            5.5243199999999995,
            52.455736
           ],
           "type": "Point"
          },
          "id": "65",
          "lat": 52.455736,
          "locatie": "Lelystad Airport, Lelystad, Netherlands",
          "lon": 5.5243199999999995,
          "max": 0.00010556936877048045,
          "median": 9.366910671815276e-05,
          "min": 8.563984010834247e-05,
          "ministerie": "Ministerie van Infrastructuur en Waterstaat",
          "project": "Luchthavenbesluit Lelystad Airport",
          "title": "",
          "type": "Feature"
         },
         {
          "date": "2019-04-01",
          "geometry": {
           "coordinates": [
            5.5243199999999995,
            52.455736
           ],
           "type": "Point"
          },
          "id": "65",
          "lat": 52.455736,
          "locatie": "Lelystad Airport, Lelystad, Netherlands",
          "lon": 5.5243199999999995,
          "max": 0.00011644597543636337,
          "median": 0.00010813693526530324,
          "min": 0.00010429854725408924,
          "ministerie": "Ministerie van Infrastructuur en Waterstaat",
          "project": "Luchthavenbesluit Lelystad Airport",
          "title": "",
          "type": "Feature"
         },
         {
          "date": "2019-05-01",
          "geometry": {
           "coordinates": [
            5.5243199999999995,
            52.455736
           ],
           "type": "Point"
          },
          "id": "65",
          "lat": 52.455736,
          "locatie": "Lelystad Airport, Lelystad, Netherlands",
          "lon": 5.5243199999999995,
          "max": 0.00011444781442709012,
          "median": 0.00010992112220264971,
          "min": 0.00010418041711091064,
          "ministerie": "Ministerie van Infrastructuur en Waterstaat",
          "project": "Luchthavenbesluit Lelystad Airport",
          "title": "",
          "type": "Feature"
         },
         {
          "date": "2019-06-01",
          "geometry": {
           "coordinates": [
            5.5243199999999995,
            52.455736
           ],
           "type": "Point"
          },
          "id": "65",
          "lat": 52.455736,
          "locatie": "Lelystad Airport, Lelystad, Netherlands",
          "lon": 5.5243199999999995,
          "max": 0.00011954967877019526,
          "median": 0.00010807023136294447,
          "min": 0.00010308689675660228,
          "ministerie": "Ministerie van Infrastructuur en Waterstaat",
          "project": "Luchthavenbesluit Lelystad Airport",
          "title": "",
          "type": "Feature"
         },
         {
          "date": "2019-07-01",
          "geometry": {
           "coordinates": [
            5.5243199999999995,
            52.455736
           ],
           "type": "Point"
          },
          "id": "65",
          "lat": 52.455736,
          "locatie": "Lelystad Airport, Lelystad, Netherlands",
          "lon": 5.5243199999999995,
          "max": 0.00010562269689749972,
          "median": 9.862106559587914e-05,
          "min": 9.304967818168431e-05,
          "ministerie": "Ministerie van Infrastructuur en Waterstaat",
          "project": "Luchthavenbesluit Lelystad Airport",
          "title": "",
          "type": "Feature"
         },
         {
          "date": "2019-08-01",
          "geometry": {
           "coordinates": [
            5.5243199999999995,
            52.455736
           ],
           "type": "Point"
          },
          "id": "65",
          "lat": 52.455736,
          "locatie": "Lelystad Airport, Lelystad, Netherlands",
          "lon": 5.5243199999999995,
          "max": 0.00012916566760492456,
          "median": 0.00011694750559941717,
          "min": 0.0001079110932495425,
          "ministerie": "Ministerie van Infrastructuur en Waterstaat",
          "project": "Luchthavenbesluit Lelystad Airport",
          "title": "",
          "type": "Feature"
         },
         {
          "date": "2019-09-01",
          "geometry": {
           "coordinates": [
            5.5243199999999995,
            52.455736
           ],
           "type": "Point"
          },
          "id": "65",
          "lat": 52.455736,
          "locatie": "Lelystad Airport, Lelystad, Netherlands",
          "lon": 5.5243199999999995,
          "max": 0.0001112014766690519,
          "median": 8.941773558035493e-05,
          "min": 8.334046245353728e-05,
          "ministerie": "Ministerie van Infrastructuur en Waterstaat",
          "project": "Luchthavenbesluit Lelystad Airport",
          "title": "",
          "type": "Feature"
         },
         {
          "date": "2018-07-01",
          "geometry": {
           "coordinates": [
            6.06171,
            53.330769999999994
           ],
           "type": "Point"
          },
          "id": "66",
          "lat": 53.330769999999994,
          "locatie": "Oostrum, Netherlands",
          "lon": 6.06171,
          "max": 9.573722929490005e-05,
          "median": 9.033591777551919e-05,
          "min": 8.67212893535914e-05,
          "ministerie": "Ministerie van Infrastructuur en Waterstaat",
          "project": "Maaslijn (spoorwegproject)",
          "title": "",
          "type": "Feature"
         },
         {
          "date": "2018-08-01",
          "geometry": {
           "coordinates": [
            6.06171,
            53.330769999999994
           ],
           "type": "Point"
          },
          "id": "66",
          "lat": 53.330769999999994,
          "locatie": "Oostrum, Netherlands",
          "lon": 6.06171,
          "max": 9.185507951769978e-05,
          "median": 8.361595973838121e-05,
          "min": 8.039029379289104e-05,
          "ministerie": "Ministerie van Infrastructuur en Waterstaat",
          "project": "Maaslijn (spoorwegproject)",
          "title": "",
          "type": "Feature"
         },
         {
          "date": "2018-09-01",
          "geometry": {
           "coordinates": [
            6.06171,
            53.330769999999994
           ],
           "type": "Point"
          },
          "id": "66",
          "lat": 53.330769999999994,
          "locatie": "Oostrum, Netherlands",
          "lon": 6.06171,
          "max": 9.80995941676735e-05,
          "median": 8.60675712631903e-05,
          "min": 8.221531322728028e-05,
          "ministerie": "Ministerie van Infrastructuur en Waterstaat",
          "project": "Maaslijn (spoorwegproject)",
          "title": "",
          "type": "Feature"
         },
         {
          "date": "2018-10-01",
          "geometry": {
           "coordinates": [
            6.06171,
            53.330769999999994
           ],
           "type": "Point"
          },
          "id": "66",
          "lat": 53.330769999999994,
          "locatie": "Oostrum, Netherlands",
          "lon": 6.06171,
          "max": 8.987449837150052e-05,
          "median": 7.93026496038164e-05,
          "min": 7.361096048960257e-05,
          "ministerie": "Ministerie van Infrastructuur en Waterstaat",
          "project": "Maaslijn (spoorwegproject)",
          "title": "",
          "type": "Feature"
         },
         {
          "date": "2018-11-01",
          "geometry": {
           "coordinates": [
            6.06171,
            53.330769999999994
           ],
           "type": "Point"
          },
          "id": "66",
          "lat": 53.330769999999994,
          "locatie": "Oostrum, Netherlands",
          "lon": 6.06171,
          "max": 0.00012161239336812399,
          "median": 0.00010306783310595668,
          "min": 9.239176870323718e-05,
          "ministerie": "Ministerie van Infrastructuur en Waterstaat",
          "project": "Maaslijn (spoorwegproject)",
          "title": "",
          "type": "Feature"
         },
         {
          "date": "2018-12-01",
          "geometry": {
           "coordinates": [
            6.06171,
            53.330769999999994
           ],
           "type": "Point"
          },
          "id": "66",
          "lat": 53.330769999999994,
          "locatie": "Oostrum, Netherlands",
          "lon": 6.06171,
          "max": 8.153106682859496e-05,
          "median": 6.995333350702683e-05,
          "min": 6.177660868660032e-05,
          "ministerie": "Ministerie van Infrastructuur en Waterstaat",
          "project": "Maaslijn (spoorwegproject)",
          "title": "",
          "type": "Feature"
         },
         {
          "date": "2019-01-01",
          "geometry": {
           "coordinates": [
            6.06171,
            53.330769999999994
           ],
           "type": "Point"
          },
          "id": "66",
          "lat": 53.330769999999994,
          "locatie": "Oostrum, Netherlands",
          "lon": 6.06171,
          "max": 6.052376856225664e-05,
          "median": 4.046615373083458e-05,
          "min": 3.27442126913328e-05,
          "ministerie": "Ministerie van Infrastructuur en Waterstaat",
          "project": "Maaslijn (spoorwegproject)",
          "title": "",
          "type": "Feature"
         },
         {
          "date": "2019-02-01",
          "geometry": {
           "coordinates": [
            6.06171,
            53.330769999999994
           ],
           "type": "Point"
          },
          "id": "66",
          "lat": 53.330769999999994,
          "locatie": "Oostrum, Netherlands",
          "lon": 6.06171,
          "max": 0.00014786225801799446,
          "median": 0.00012788794992957264,
          "min": 0.00010397208097856492,
          "ministerie": "Ministerie van Infrastructuur en Waterstaat",
          "project": "Maaslijn (spoorwegproject)",
          "title": "",
          "type": "Feature"
         },
         {
          "date": "2019-03-01",
          "geometry": {
           "coordinates": [
            6.06171,
            53.330769999999994
           ],
           "type": "Point"
          },
          "id": "66",
          "lat": 53.330769999999994,
          "locatie": "Oostrum, Netherlands",
          "lon": 6.06171,
          "max": 7.764762995066121e-05,
          "median": 6.752210902050138e-05,
          "min": 6.213893946091303e-05,
          "ministerie": "Ministerie van Infrastructuur en Waterstaat",
          "project": "Maaslijn (spoorwegproject)",
          "title": "",
          "type": "Feature"
         },
         {
          "date": "2019-04-01",
          "geometry": {
           "coordinates": [
            6.06171,
            53.330769999999994
           ],
           "type": "Point"
          },
          "id": "66",
          "lat": 53.330769999999994,
          "locatie": "Oostrum, Netherlands",
          "lon": 6.06171,
          "max": 0.00010325622861273587,
          "median": 9.277396748075262e-05,
          "min": 8.797035843599588e-05,
          "ministerie": "Ministerie van Infrastructuur en Waterstaat",
          "project": "Maaslijn (spoorwegproject)",
          "title": "",
          "type": "Feature"
         },
         {
          "date": "2019-05-01",
          "geometry": {
           "coordinates": [
            6.06171,
            53.330769999999994
           ],
           "type": "Point"
          },
          "id": "66",
          "lat": 53.330769999999994,
          "locatie": "Oostrum, Netherlands",
          "lon": 6.06171,
          "max": 9.328676242148504e-05,
          "median": 8.912257180782035e-05,
          "min": 8.709276184131554e-05,
          "ministerie": "Ministerie van Infrastructuur en Waterstaat",
          "project": "Maaslijn (spoorwegproject)",
          "title": "",
          "type": "Feature"
         },
         {
          "date": "2019-06-01",
          "geometry": {
           "coordinates": [
            6.06171,
            53.330769999999994
           ],
           "type": "Point"
          },
          "id": "66",
          "lat": 53.330769999999994,
          "locatie": "Oostrum, Netherlands",
          "lon": 6.06171,
          "max": 0.00010335224090911249,
          "median": 9.816697882828108e-05,
          "min": 9.519504713534509e-05,
          "ministerie": "Ministerie van Infrastructuur en Waterstaat",
          "project": "Maaslijn (spoorwegproject)",
          "title": "",
          "type": "Feature"
         },
         {
          "date": "2019-07-01",
          "geometry": {
           "coordinates": [
            6.06171,
            53.330769999999994
           ],
           "type": "Point"
          },
          "id": "66",
          "lat": 53.330769999999994,
          "locatie": "Oostrum, Netherlands",
          "lon": 6.06171,
          "max": 9.119058383942109e-05,
          "median": 8.395187175105857e-05,
          "min": 8.057809237053345e-05,
          "ministerie": "Ministerie van Infrastructuur en Waterstaat",
          "project": "Maaslijn (spoorwegproject)",
          "title": "",
          "type": "Feature"
         },
         {
          "date": "2019-08-01",
          "geometry": {
           "coordinates": [
            6.06171,
            53.330769999999994
           ],
           "type": "Point"
          },
          "id": "66",
          "lat": 53.330769999999994,
          "locatie": "Oostrum, Netherlands",
          "lon": 6.06171,
          "max": 9.913665120012457e-05,
          "median": 9.331353066954762e-05,
          "min": 8.746097591938451e-05,
          "ministerie": "Ministerie van Infrastructuur en Waterstaat",
          "project": "Maaslijn (spoorwegproject)",
          "title": "",
          "type": "Feature"
         },
         {
          "date": "2019-09-01",
          "geometry": {
           "coordinates": [
            6.06171,
            53.330769999999994
           ],
           "type": "Point"
          },
          "id": "66",
          "lat": 53.330769999999994,
          "locatie": "Oostrum, Netherlands",
          "lon": 6.06171,
          "max": 8.579330000334116e-05,
          "median": 6.645279617214942e-05,
          "min": 6.039507934474386e-05,
          "ministerie": "Ministerie van Infrastructuur en Waterstaat",
          "project": "Maaslijn (spoorwegproject)",
          "title": "",
          "type": "Feature"
         },
         {
          "date": "2018-07-01",
          "geometry": {
           "coordinates": [
            6.876297999999999,
            53.245241
           ],
           "type": "Point"
          },
          "id": "71",
          "lat": 53.245241,
          "locatie": "N33, Siddeburen, Netherlands",
          "lon": 6.876297999999999,
          "max": 0.00010047478281194344,
          "median": 9.795979713089764e-05,
          "min": 9.297373236671092e-05,
          "ministerie": "Ministerie van Infrastructuur en Waterstaat",
          "project": "N33 Zuidbroek - Appingedam",
          "title": "",
          "type": "Feature"
         },
         {
          "date": "2018-08-01",
          "geometry": {
           "coordinates": [
            6.876297999999999,
            53.245241
           ],
           "type": "Point"
          },
          "id": "71",
          "lat": 53.245241,
          "locatie": "N33, Siddeburen, Netherlands",
          "lon": 6.876297999999999,
          "max": 0.00010045857613518835,
          "median": 8.950725882327372e-05,
          "min": 8.290605655907971e-05,
          "ministerie": "Ministerie van Infrastructuur en Waterstaat",
          "project": "N33 Zuidbroek - Appingedam",
          "title": "",
          "type": "Feature"
         },
         {
          "date": "2018-09-01",
          "geometry": {
           "coordinates": [
            6.876297999999999,
            53.245241
           ],
           "type": "Point"
          },
          "id": "71",
          "lat": 53.245241,
          "locatie": "N33, Siddeburen, Netherlands",
          "lon": 6.876297999999999,
          "max": 0.00011571860147301073,
          "median": 0.00010514085480039614,
          "min": 9.621218624863206e-05,
          "ministerie": "Ministerie van Infrastructuur en Waterstaat",
          "project": "N33 Zuidbroek - Appingedam",
          "title": "",
          "type": "Feature"
         },
         {
          "date": "2018-10-01",
          "geometry": {
           "coordinates": [
            6.876297999999999,
            53.245241
           ],
           "type": "Point"
          },
          "id": "71",
          "lat": 53.245241,
          "locatie": "N33, Siddeburen, Netherlands",
          "lon": 6.876297999999999,
          "max": 0.00010919649889054788,
          "median": 0.00010168572669294003,
          "min": 9.10526687221136e-05,
          "ministerie": "Ministerie van Infrastructuur en Waterstaat",
          "project": "N33 Zuidbroek - Appingedam",
          "title": "",
          "type": "Feature"
         },
         {
          "date": "2018-11-01",
          "geometry": {
           "coordinates": [
            6.876297999999999,
            53.245241
           ],
           "type": "Point"
          },
          "id": "71",
          "lat": 53.245241,
          "locatie": "N33, Siddeburen, Netherlands",
          "lon": 6.876297999999999,
          "max": 0.00010643321631451306,
          "median": 9.726966527523473e-05,
          "min": 9.158710963674821e-05,
          "ministerie": "Ministerie van Infrastructuur en Waterstaat",
          "project": "N33 Zuidbroek - Appingedam",
          "title": "",
          "type": "Feature"
         },
         {
          "date": "2018-12-01",
          "geometry": {
           "coordinates": [
            6.876297999999999,
            53.245241
           ],
           "type": "Point"
          },
          "id": "71",
          "lat": 53.245241,
          "locatie": "N33, Siddeburen, Netherlands",
          "lon": 6.876297999999999,
          "max": 9.395228974654426e-05,
          "median": 7.954351104732412e-05,
          "min": 6.754529421329284e-05,
          "ministerie": "Ministerie van Infrastructuur en Waterstaat",
          "project": "N33 Zuidbroek - Appingedam",
          "title": "",
          "type": "Feature"
         },
         {
          "date": "2019-01-01",
          "geometry": {
           "coordinates": [
            6.876297999999999,
            53.245241
           ],
           "type": "Point"
          },
          "id": "71",
          "lat": 53.245241,
          "locatie": "N33, Siddeburen, Netherlands",
          "lon": 6.876297999999999,
          "max": 7.315337240043549e-05,
          "median": 5.7029997366548087e-05,
          "min": 3.5347075026948005e-05,
          "ministerie": "Ministerie van Infrastructuur en Waterstaat",
          "project": "N33 Zuidbroek - Appingedam",
          "title": "",
          "type": "Feature"
         },
         {
          "date": "2019-02-01",
          "geometry": {
           "coordinates": [
            6.876297999999999,
            53.245241
           ],
           "type": "Point"
          },
          "id": "71",
          "lat": 53.245241,
          "locatie": "N33, Siddeburen, Netherlands",
          "lon": 6.876297999999999,
          "max": 0.0001461919450096724,
          "median": 0.00013142090590081228,
          "min": 0.00012189263256458924,
          "ministerie": "Ministerie van Infrastructuur en Waterstaat",
          "project": "N33 Zuidbroek - Appingedam",
          "title": "",
          "type": "Feature"
         },
         {
          "date": "2019-03-01",
          "geometry": {
           "coordinates": [
            6.876297999999999,
            53.245241
           ],
           "type": "Point"
          },
          "id": "71",
          "lat": 53.245241,
          "locatie": "N33, Siddeburen, Netherlands",
          "lon": 6.876297999999999,
          "max": 7.923739517378002e-05,
          "median": 7.176620782152707e-05,
          "min": 6.518845588376966e-05,
          "ministerie": "Ministerie van Infrastructuur en Waterstaat",
          "project": "N33 Zuidbroek - Appingedam",
          "title": "",
          "type": "Feature"
         },
         {
          "date": "2019-04-01",
          "geometry": {
           "coordinates": [
            6.876297999999999,
            53.245241
           ],
           "type": "Point"
          },
          "id": "71",
          "lat": 53.245241,
          "locatie": "N33, Siddeburen, Netherlands",
          "lon": 6.876297999999999,
          "max": 0.00010380065656926748,
          "median": 9.658828702624442e-05,
          "min": 9.361955627090533e-05,
          "ministerie": "Ministerie van Infrastructuur en Waterstaat",
          "project": "N33 Zuidbroek - Appingedam",
          "title": "",
          "type": "Feature"
         },
         {
          "date": "2019-05-01",
          "geometry": {
           "coordinates": [
            6.876297999999999,
            53.245241
           ],
           "type": "Point"
          },
          "id": "71",
          "lat": 53.245241,
          "locatie": "N33, Siddeburen, Netherlands",
          "lon": 6.876297999999999,
          "max": 9.849731671313452e-05,
          "median": 9.500135078795331e-05,
          "min": 8.983947008902275e-05,
          "ministerie": "Ministerie van Infrastructuur en Waterstaat",
          "project": "N33 Zuidbroek - Appingedam",
          "title": "",
          "type": "Feature"
         },
         {
          "date": "2019-06-01",
          "geometry": {
           "coordinates": [
            6.876297999999999,
            53.245241
           ],
           "type": "Point"
          },
          "id": "71",
          "lat": 53.245241,
          "locatie": "N33, Siddeburen, Netherlands",
          "lon": 6.876297999999999,
          "max": 0.00010310540386569102,
          "median": 9.9151777661563e-05,
          "min": 9.47017375702358e-05,
          "ministerie": "Ministerie van Infrastructuur en Waterstaat",
          "project": "N33 Zuidbroek - Appingedam",
          "title": "",
          "type": "Feature"
         },
         {
          "date": "2019-07-01",
          "geometry": {
           "coordinates": [
            6.876297999999999,
            53.245241
           ],
           "type": "Point"
          },
          "id": "71",
          "lat": 53.245241,
          "locatie": "N33, Siddeburen, Netherlands",
          "lon": 6.876297999999999,
          "max": 8.872282296819387e-05,
          "median": 8.6272313580002e-05,
          "min": 8.256571520177459e-05,
          "ministerie": "Ministerie van Infrastructuur en Waterstaat",
          "project": "N33 Zuidbroek - Appingedam",
          "title": "",
          "type": "Feature"
         },
         {
          "date": "2019-08-01",
          "geometry": {
           "coordinates": [
            6.876297999999999,
            53.245241
           ],
           "type": "Point"
          },
          "id": "71",
          "lat": 53.245241,
          "locatie": "N33, Siddeburen, Netherlands",
          "lon": 6.876297999999999,
          "max": 0.00010544364340603352,
          "median": 9.949030936695635e-05,
          "min": 9.447573975593186e-05,
          "ministerie": "Ministerie van Infrastructuur en Waterstaat",
          "project": "N33 Zuidbroek - Appingedam",
          "title": "",
          "type": "Feature"
         },
         {
          "date": "2019-09-01",
          "geometry": {
           "coordinates": [
            6.876297999999999,
            53.245241
           ],
           "type": "Point"
          },
          "id": "71",
          "lat": 53.245241,
          "locatie": "N33, Siddeburen, Netherlands",
          "lon": 6.876297999999999,
          "max": 0.000106243031041231,
          "median": 8.222723494993055e-05,
          "min": 6.799377297284082e-05,
          "ministerie": "Ministerie van Infrastructuur en Waterstaat",
          "project": "N33 Zuidbroek - Appingedam",
          "title": "",
          "type": "Feature"
         },
         {
          "date": "2018-07-01",
          "geometry": {
           "coordinates": [
            6.524794,
            52.3607
           ],
           "type": "Point"
          },
          "id": "72",
          "lat": 52.3607,
          "locatie": "2 Schapendijk, Notter, Netherlands",
          "lon": 6.524794,
          "max": 0.00010512702283449471,
          "median": 0.00010230540127327417,
          "min": 9.974066771211874e-05,
          "ministerie": "Ministerie van Infrastructuur en Waterstaat",
          "project": "N35 Nijverdal - Wierden",
          "title": "",
          "type": "Feature"
         },
         {
          "date": "2018-08-01",
          "geometry": {
           "coordinates": [
            6.524794,
            52.3607
           ],
           "type": "Point"
          },
          "id": "72",
          "lat": 52.3607,
          "locatie": "2 Schapendijk, Notter, Netherlands",
          "lon": 6.524794,
          "max": 0.00011093735112996736,
          "median": 0.00010394356650067493,
          "min": 9.853884089026826e-05,
          "ministerie": "Ministerie van Infrastructuur en Waterstaat",
          "project": "N35 Nijverdal - Wierden",
          "title": "",
          "type": "Feature"
         },
         {
          "date": "2018-09-01",
          "geometry": {
           "coordinates": [
            6.524794,
            52.3607
           ],
           "type": "Point"
          },
          "id": "72",
          "lat": 52.3607,
          "locatie": "2 Schapendijk, Notter, Netherlands",
          "lon": 6.524794,
          "max": 0.00012504333139973537,
          "median": 0.00011772498011752575,
          "min": 0.00011242631783855595,
          "ministerie": "Ministerie van Infrastructuur en Waterstaat",
          "project": "N35 Nijverdal - Wierden",
          "title": "",
          "type": "Feature"
         },
         {
          "date": "2018-10-01",
          "geometry": {
           "coordinates": [
            6.524794,
            52.3607
           ],
           "type": "Point"
          },
          "id": "72",
          "lat": 52.3607,
          "locatie": "2 Schapendijk, Notter, Netherlands",
          "lon": 6.524794,
          "max": 0.00012926419068989267,
          "median": 0.00011726053492943473,
          "min": 0.00010703683942670307,
          "ministerie": "Ministerie van Infrastructuur en Waterstaat",
          "project": "N35 Nijverdal - Wierden",
          "title": "",
          "type": "Feature"
         },
         {
          "date": "2018-11-01",
          "geometry": {
           "coordinates": [
            6.524794,
            52.3607
           ],
           "type": "Point"
          },
          "id": "72",
          "lat": 52.3607,
          "locatie": "2 Schapendijk, Notter, Netherlands",
          "lon": 6.524794,
          "max": 0.00015285430708900094,
          "median": 0.0001351252165670799,
          "min": 0.00012909997694435143,
          "ministerie": "Ministerie van Infrastructuur en Waterstaat",
          "project": "N35 Nijverdal - Wierden",
          "title": "",
          "type": "Feature"
         },
         {
          "date": "2018-12-01",
          "geometry": {
           "coordinates": [
            6.524794,
            52.3607
           ],
           "type": "Point"
          },
          "id": "72",
          "lat": 52.3607,
          "locatie": "2 Schapendijk, Notter, Netherlands",
          "lon": 6.524794,
          "max": 0.0001066317709046416,
          "median": 9.529163462761539e-05,
          "min": 8.259451909901069e-05,
          "ministerie": "Ministerie van Infrastructuur en Waterstaat",
          "project": "N35 Nijverdal - Wierden",
          "title": "",
          "type": "Feature"
         },
         {
          "date": "2019-01-01",
          "geometry": {
           "coordinates": [
            6.524794,
            52.3607
           ],
           "type": "Point"
          },
          "id": "72",
          "lat": 52.3607,
          "locatie": "2 Schapendijk, Notter, Netherlands",
          "lon": 6.524794,
          "max": 0.0001147718813005618,
          "median": 9.62051988354453e-05,
          "min": 8.214403974500699e-05,
          "ministerie": "Ministerie van Infrastructuur en Waterstaat",
          "project": "N35 Nijverdal - Wierden",
          "title": "",
          "type": "Feature"
         },
         {
          "date": "2019-02-01",
          "geometry": {
           "coordinates": [
            6.524794,
            52.3607
           ],
           "type": "Point"
          },
          "id": "72",
          "lat": 52.3607,
          "locatie": "2 Schapendijk, Notter, Netherlands",
          "lon": 6.524794,
          "max": 0.00016588774077348265,
          "median": 0.00014789431588724256,
          "min": 0.00013212208703656104,
          "ministerie": "Ministerie van Infrastructuur en Waterstaat",
          "project": "N35 Nijverdal - Wierden",
          "title": "",
          "type": "Feature"
         },
         {
          "date": "2019-03-01",
          "geometry": {
           "coordinates": [
            6.524794,
            52.3607
           ],
           "type": "Point"
          },
          "id": "72",
          "lat": 52.3607,
          "locatie": "2 Schapendijk, Notter, Netherlands",
          "lon": 6.524794,
          "max": 0.0001054213485930396,
          "median": 9.806619114763516e-05,
          "min": 8.183666795957834e-05,
          "ministerie": "Ministerie van Infrastructuur en Waterstaat",
          "project": "N35 Nijverdal - Wierden",
          "title": "",
          "type": "Feature"
         },
         {
          "date": "2019-04-01",
          "geometry": {
           "coordinates": [
            6.524794,
            52.3607
           ],
           "type": "Point"
          },
          "id": "72",
          "lat": 52.3607,
          "locatie": "2 Schapendijk, Notter, Netherlands",
          "lon": 6.524794,
          "max": 0.00011223599923211136,
          "median": 0.00010570047917719464,
          "min": 9.733061041087445e-05,
          "ministerie": "Ministerie van Infrastructuur en Waterstaat",
          "project": "N35 Nijverdal - Wierden",
          "title": "",
          "type": "Feature"
         },
         {
          "date": "2019-05-01",
          "geometry": {
           "coordinates": [
            6.524794,
            52.3607
           ],
           "type": "Point"
          },
          "id": "72",
          "lat": 52.3607,
          "locatie": "2 Schapendijk, Notter, Netherlands",
          "lon": 6.524794,
          "max": 0.00011159401908262928,
          "median": 0.00010711091050091671,
          "min": 0.00010281313734594733,
          "ministerie": "Ministerie van Infrastructuur en Waterstaat",
          "project": "N35 Nijverdal - Wierden",
          "title": "",
          "type": "Feature"
         },
         {
          "date": "2019-06-01",
          "geometry": {
           "coordinates": [
            6.524794,
            52.3607
           ],
           "type": "Point"
          },
          "id": "72",
          "lat": 52.3607,
          "locatie": "2 Schapendijk, Notter, Netherlands",
          "lon": 6.524794,
          "max": 0.00010915866732830182,
          "median": 0.0001043159651168567,
          "min": 9.868877168628387e-05,
          "ministerie": "Ministerie van Infrastructuur en Waterstaat",
          "project": "N35 Nijverdal - Wierden",
          "title": "",
          "type": "Feature"
         },
         {
          "date": "2019-07-01",
          "geometry": {
           "coordinates": [
            6.524794,
            52.3607
           ],
           "type": "Point"
          },
          "id": "72",
          "lat": 52.3607,
          "locatie": "2 Schapendijk, Notter, Netherlands",
          "lon": 6.524794,
          "max": 0.00010049376495800821,
          "median": 9.672080194533469e-05,
          "min": 9.335930371889845e-05,
          "ministerie": "Ministerie van Infrastructuur en Waterstaat",
          "project": "N35 Nijverdal - Wierden",
          "title": "",
          "type": "Feature"
         },
         {
          "date": "2019-08-01",
          "geometry": {
           "coordinates": [
            6.524794,
            52.3607
           ],
           "type": "Point"
          },
          "id": "72",
          "lat": 52.3607,
          "locatie": "2 Schapendijk, Notter, Netherlands",
          "lon": 6.524794,
          "max": 0.00011454266391336762,
          "median": 0.00010922683941316791,
          "min": 0.00010072516306536272,
          "ministerie": "Ministerie van Infrastructuur en Waterstaat",
          "project": "N35 Nijverdal - Wierden",
          "title": "",
          "type": "Feature"
         },
         {
          "date": "2019-09-01",
          "geometry": {
           "coordinates": [
            6.524794,
            52.3607
           ],
           "type": "Point"
          },
          "id": "72",
          "lat": 52.3607,
          "locatie": "2 Schapendijk, Notter, Netherlands",
          "lon": 6.524794,
          "max": 0.0001397032902389677,
          "median": 0.00010349715023153944,
          "min": 8.388874187538877e-05,
          "ministerie": "Ministerie van Infrastructuur en Waterstaat",
          "project": "N35 Nijverdal - Wierden",
          "title": "",
          "type": "Feature"
         },
         {
          "date": "2018-07-01",
          "geometry": {
           "coordinates": [
            5.881369,
            52.555014
           ],
           "type": "Point"
          },
          "id": "73",
          "lat": 52.555014,
          "locatie": "N50, Kampen, Netherlands",
          "lon": 5.881369,
          "max": 0.00011039080279085902,
          "median": 0.00010496008326299489,
          "min": 9.606478498743685e-05,
          "ministerie": "Ministerie van Infrastructuur en Waterstaat",
          "project": "N50 Kampen - Kampen Zuid",
          "title": "",
          "type": "Feature"
         },
         {
          "date": "2018-08-01",
          "geometry": {
           "coordinates": [
            5.881369,
            52.555014
           ],
           "type": "Point"
          },
          "id": "73",
          "lat": 52.555014,
          "locatie": "N50, Kampen, Netherlands",
          "lon": 5.881369,
          "max": 0.00010643783025443554,
          "median": 0.00010028602266740758,
          "min": 9.428673365619034e-05,
          "ministerie": "Ministerie van Infrastructuur en Waterstaat",
          "project": "N50 Kampen - Kampen Zuid",
          "title": "",
          "type": "Feature"
         },
         {
          "date": "2018-09-01",
          "geometry": {
           "coordinates": [
            5.881369,
            52.555014
           ],
           "type": "Point"
          },
          "id": "73",
          "lat": 52.555014,
          "locatie": "N50, Kampen, Netherlands",
          "lon": 5.881369,
          "max": 0.0001374293673402169,
          "median": 0.00012073663415214878,
          "min": 0.00011483195652932352,
          "ministerie": "Ministerie van Infrastructuur en Waterstaat",
          "project": "N50 Kampen - Kampen Zuid",
          "title": "",
          "type": "Feature"
         },
         {
          "date": "2018-10-01",
          "geometry": {
           "coordinates": [
            5.881369,
            52.555014
           ],
           "type": "Point"
          },
          "id": "73",
          "lat": 52.555014,
          "locatie": "N50, Kampen, Netherlands",
          "lon": 5.881369,
          "max": 0.00011300481067801055,
          "median": 9.944740851104025e-05,
          "min": 8.441556565230712e-05,
          "ministerie": "Ministerie van Infrastructuur en Waterstaat",
          "project": "N50 Kampen - Kampen Zuid",
          "title": "",
          "type": "Feature"
         },
         {
          "date": "2018-11-01",
          "geometry": {
           "coordinates": [
            5.881369,
            52.555014
           ],
           "type": "Point"
          },
          "id": "73",
          "lat": 52.555014,
          "locatie": "N50, Kampen, Netherlands",
          "lon": 5.881369,
          "max": 0.00013735535088921498,
          "median": 0.0001286529950448312,
          "min": 0.00011706030260403782,
          "ministerie": "Ministerie van Infrastructuur en Waterstaat",
          "project": "N50 Kampen - Kampen Zuid",
          "title": "",
          "type": "Feature"
         },
         {
          "date": "2018-12-01",
          "geometry": {
           "coordinates": [
            5.881369,
            52.555014
           ],
           "type": "Point"
          },
          "id": "73",
          "lat": 52.555014,
          "locatie": "N50, Kampen, Netherlands",
          "lon": 5.881369,
          "max": 0.00010162095232213164,
          "median": 8.381441586705812e-05,
          "min": 7.306288898689672e-05,
          "ministerie": "Ministerie van Infrastructuur en Waterstaat",
          "project": "N50 Kampen - Kampen Zuid",
          "title": "",
          "type": "Feature"
         },
         {
          "date": "2019-01-01",
          "geometry": {
           "coordinates": [
            5.881369,
            52.555014
           ],
           "type": "Point"
          },
          "id": "73",
          "lat": 52.555014,
          "locatie": "N50, Kampen, Netherlands",
          "lon": 5.881369,
          "max": 0.00010183757635560753,
          "median": 7.487191184032464e-05,
          "min": 5.7066856243181974e-05,
          "ministerie": "Ministerie van Infrastructuur en Waterstaat",
          "project": "N50 Kampen - Kampen Zuid",
          "title": "",
          "type": "Feature"
         },
         {
          "date": "2019-02-01",
          "geometry": {
           "coordinates": [
            5.881369,
            52.555014
           ],
           "type": "Point"
          },
          "id": "73",
          "lat": 52.555014,
          "locatie": "N50, Kampen, Netherlands",
          "lon": 5.881369,
          "max": 0.00015079610685409873,
          "median": 0.00014293569984147325,
          "min": 0.00013310935608187407,
          "ministerie": "Ministerie van Infrastructuur en Waterstaat",
          "project": "N50 Kampen - Kampen Zuid",
          "title": "",
          "type": "Feature"
         },
         {
          "date": "2019-03-01",
          "geometry": {
           "coordinates": [
            5.881369,
            52.555014
           ],
           "type": "Point"
          },
          "id": "73",
          "lat": 52.555014,
          "locatie": "N50, Kampen, Netherlands",
          "lon": 5.881369,
          "max": 9.203931614050091e-05,
          "median": 8.486208061817681e-05,
          "min": 8.035160967523103e-05,
          "ministerie": "Ministerie van Infrastructuur en Waterstaat",
          "project": "N50 Kampen - Kampen Zuid",
          "title": "",
          "type": "Feature"
         },
         {
          "date": "2019-04-01",
          "geometry": {
           "coordinates": [
            5.881369,
            52.555014
           ],
           "type": "Point"
          },
          "id": "73",
          "lat": 52.555014,
          "locatie": "N50, Kampen, Netherlands",
          "lon": 5.881369,
          "max": 0.00011246075882809237,
          "median": 0.00010375232920292653,
          "min": 9.73640100595946e-05,
          "ministerie": "Ministerie van Infrastructuur en Waterstaat",
          "project": "N50 Kampen - Kampen Zuid",
          "title": "",
          "type": "Feature"
         },
         {
          "date": "2019-05-01",
          "geometry": {
           "coordinates": [
            5.881369,
            52.555014
           ],
           "type": "Point"
          },
          "id": "73",
          "lat": 52.555014,
          "locatie": "N50, Kampen, Netherlands",
          "lon": 5.881369,
          "max": 0.00010248877075349287,
          "median": 9.925524032214781e-05,
          "min": 9.572917770128697e-05,
          "ministerie": "Ministerie van Infrastructuur en Waterstaat",
          "project": "N50 Kampen - Kampen Zuid",
          "title": "",
          "type": "Feature"
         },
         {
          "date": "2019-06-01",
          "geometry": {
           "coordinates": [
            5.881369,
            52.555014
           ],
           "type": "Point"
          },
          "id": "73",
          "lat": 52.555014,
          "locatie": "N50, Kampen, Netherlands",
          "lon": 5.881369,
          "max": 0.00010359379426526109,
          "median": 9.969756404852467e-05,
          "min": 9.621621917341737e-05,
          "ministerie": "Ministerie van Infrastructuur en Waterstaat",
          "project": "N50 Kampen - Kampen Zuid",
          "title": "",
          "type": "Feature"
         },
         {
          "date": "2019-07-01",
          "geometry": {
           "coordinates": [
            5.881369,
            52.555014
           ],
           "type": "Point"
          },
          "id": "73",
          "lat": 52.555014,
          "locatie": "N50, Kampen, Netherlands",
          "lon": 5.881369,
          "max": 9.495682024862617e-05,
          "median": 9.164269609220849e-05,
          "min": 8.759086154086786e-05,
          "ministerie": "Ministerie van Infrastructuur en Waterstaat",
          "project": "N50 Kampen - Kampen Zuid",
          "title": "",
          "type": "Feature"
         },
         {
          "date": "2019-08-01",
          "geometry": {
           "coordinates": [
            5.881369,
            52.555014
           ],
           "type": "Point"
          },
          "id": "73",
          "lat": 52.555014,
          "locatie": "N50, Kampen, Netherlands",
          "lon": 5.881369,
          "max": 0.00011514686422261108,
          "median": 0.00010620149623719044,
          "min": 0.00010346058355288249,
          "ministerie": "Ministerie van Infrastructuur en Waterstaat",
          "project": "N50 Kampen - Kampen Zuid",
          "title": "",
          "type": "Feature"
         },
         {
          "date": "2019-09-01",
          "geometry": {
           "coordinates": [
            5.881369,
            52.555014
           ],
           "type": "Point"
          },
          "id": "73",
          "lat": 52.555014,
          "locatie": "N50, Kampen, Netherlands",
          "lon": 5.881369,
          "max": 9.813203451690123e-05,
          "median": 7.606090382536461e-05,
          "min": 6.749116942468028e-05,
          "ministerie": "Ministerie van Infrastructuur en Waterstaat",
          "project": "N50 Kampen - Kampen Zuid",
          "title": "",
          "type": "Feature"
         },
         {
          "date": "2018-07-01",
          "geometry": {
           "coordinates": [
            4.756951,
            52.495245
           ],
           "type": "Point"
          },
          "id": "76",
          "lat": 52.495245,
          "locatie": "Krommenie, Netherlands",
          "lon": 4.756951,
          "max": 0.0001336835844364851,
          "median": 0.00011097884368472059,
          "min": 0.000104543079119601,
          "ministerie": "Ministerie van Infrastructuur en Waterstaat",
          "project": "Programma Hoogfrequent Spoorvervoer: Alkmaar - Amsterdam",
          "title": "",
          "type": "Feature"
         },
         {
          "date": "2018-08-01",
          "geometry": {
           "coordinates": [
            4.756951,
            52.495245
           ],
           "type": "Point"
          },
          "id": "76",
          "lat": 52.495245,
          "locatie": "Krommenie, Netherlands",
          "lon": 4.756951,
          "max": 0.00012023328680773765,
          "median": 9.920942895881379e-05,
          "min": 8.999521972780422e-05,
          "ministerie": "Ministerie van Infrastructuur en Waterstaat",
          "project": "Programma Hoogfrequent Spoorvervoer: Alkmaar - Amsterdam",
          "title": "",
          "type": "Feature"
         },
         {
          "date": "2018-09-01",
          "geometry": {
           "coordinates": [
            4.756951,
            52.495245
           ],
           "type": "Point"
          },
          "id": "76",
          "lat": 52.495245,
          "locatie": "Krommenie, Netherlands",
          "lon": 4.756951,
          "max": 0.00014143582666292787,
          "median": 0.00011031720823951996,
          "min": 9.957209956893695e-05,
          "ministerie": "Ministerie van Infrastructuur en Waterstaat",
          "project": "Programma Hoogfrequent Spoorvervoer: Alkmaar - Amsterdam",
          "title": "",
          "type": "Feature"
         },
         {
          "date": "2018-10-01",
          "geometry": {
           "coordinates": [
            4.756951,
            52.495245
           ],
           "type": "Point"
          },
          "id": "76",
          "lat": 52.495245,
          "locatie": "Krommenie, Netherlands",
          "lon": 4.756951,
          "max": 0.00013291470357540118,
          "median": 0.00011644282614886985,
          "min": 0.00010025074750241917,
          "ministerie": "Ministerie van Infrastructuur en Waterstaat",
          "project": "Programma Hoogfrequent Spoorvervoer: Alkmaar - Amsterdam",
          "title": "",
          "type": "Feature"
         },
         {
          "date": "2018-11-01",
          "geometry": {
           "coordinates": [
            4.756951,
            52.495245
           ],
           "type": "Point"
          },
          "id": "76",
          "lat": 52.495245,
          "locatie": "Krommenie, Netherlands",
          "lon": 4.756951,
          "max": 0.00017245402770518843,
          "median": 0.00015110932872630656,
          "min": 0.00012872047219269543,
          "ministerie": "Ministerie van Infrastructuur en Waterstaat",
          "project": "Programma Hoogfrequent Spoorvervoer: Alkmaar - Amsterdam",
          "title": "",
          "type": "Feature"
         },
         {
          "date": "2018-12-01",
          "geometry": {
           "coordinates": [
            4.756951,
            52.495245
           ],
           "type": "Point"
          },
          "id": "76",
          "lat": 52.495245,
          "locatie": "Krommenie, Netherlands",
          "lon": 4.756951,
          "max": 0.00011820796890547358,
          "median": 9.870795734127682e-05,
          "min": 8.100379636744037e-05,
          "ministerie": "Ministerie van Infrastructuur en Waterstaat",
          "project": "Programma Hoogfrequent Spoorvervoer: Alkmaar - Amsterdam",
          "title": "",
          "type": "Feature"
         },
         {
          "date": "2019-01-01",
          "geometry": {
           "coordinates": [
            4.756951,
            52.495245
           ],
           "type": "Point"
          },
          "id": "76",
          "lat": 52.495245,
          "locatie": "Krommenie, Netherlands",
          "lon": 4.756951,
          "max": 9.288959699915722e-05,
          "median": 6.933344829316364e-05,
          "min": 4.6193636080715805e-05,
          "ministerie": "Ministerie van Infrastructuur en Waterstaat",
          "project": "Programma Hoogfrequent Spoorvervoer: Alkmaar - Amsterdam",
          "title": "",
          "type": "Feature"
         },
         {
          "date": "2019-02-01",
          "geometry": {
           "coordinates": [
            4.756951,
            52.495245
           ],
           "type": "Point"
          },
          "id": "76",
          "lat": 52.495245,
          "locatie": "Krommenie, Netherlands",
          "lon": 4.756951,
          "max": 0.00015636653671002016,
          "median": 0.00014633216778747737,
          "min": 0.00011752872027264352,
          "ministerie": "Ministerie van Infrastructuur en Waterstaat",
          "project": "Programma Hoogfrequent Spoorvervoer: Alkmaar - Amsterdam",
          "title": "",
          "type": "Feature"
         },
         {
          "date": "2019-03-01",
          "geometry": {
           "coordinates": [
            4.756951,
            52.495245
           ],
           "type": "Point"
          },
          "id": "76",
          "lat": 52.495245,
          "locatie": "Krommenie, Netherlands",
          "lon": 4.756951,
          "max": 0.00010935910559587993,
          "median": 9.086935333966578e-05,
          "min": 7.961296068970114e-05,
          "ministerie": "Ministerie van Infrastructuur en Waterstaat",
          "project": "Programma Hoogfrequent Spoorvervoer: Alkmaar - Amsterdam",
          "title": "",
          "type": "Feature"
         },
         {
          "date": "2019-04-01",
          "geometry": {
           "coordinates": [
            4.756951,
            52.495245
           ],
           "type": "Point"
          },
          "id": "76",
          "lat": 52.495245,
          "locatie": "Krommenie, Netherlands",
          "lon": 4.756951,
          "max": 0.00013252431211562086,
          "median": 0.0001126693466529187,
          "min": 9.902621168117565e-05,
          "ministerie": "Ministerie van Infrastructuur en Waterstaat",
          "project": "Programma Hoogfrequent Spoorvervoer: Alkmaar - Amsterdam",
          "title": "",
          "type": "Feature"
         },
         {
          "date": "2019-05-01",
          "geometry": {
           "coordinates": [
            4.756951,
            52.495245
           ],
           "type": "Point"
          },
          "id": "76",
          "lat": 52.495245,
          "locatie": "Krommenie, Netherlands",
          "lon": 4.756951,
          "max": 0.00011823460762118185,
          "median": 0.00010531685984460637,
          "min": 9.935013711094532e-05,
          "ministerie": "Ministerie van Infrastructuur en Waterstaat",
          "project": "Programma Hoogfrequent Spoorvervoer: Alkmaar - Amsterdam",
          "title": "",
          "type": "Feature"
         },
         {
          "date": "2019-06-01",
          "geometry": {
           "coordinates": [
            4.756951,
            52.495245
           ],
           "type": "Point"
          },
          "id": "76",
          "lat": 52.495245,
          "locatie": "Krommenie, Netherlands",
          "lon": 4.756951,
          "max": 0.00012798367242794484,
          "median": 0.00011438323203151494,
          "min": 0.00010366864466496907,
          "ministerie": "Ministerie van Infrastructuur en Waterstaat",
          "project": "Programma Hoogfrequent Spoorvervoer: Alkmaar - Amsterdam",
          "title": "",
          "type": "Feature"
         },
         {
          "date": "2019-07-01",
          "geometry": {
           "coordinates": [
            4.756951,
            52.495245
           ],
           "type": "Point"
          },
          "id": "76",
          "lat": 52.495245,
          "locatie": "Krommenie, Netherlands",
          "lon": 4.756951,
          "max": 0.00012821590340786584,
          "median": 0.00010844675125554204,
          "min": 9.665064135333523e-05,
          "ministerie": "Ministerie van Infrastructuur en Waterstaat",
          "project": "Programma Hoogfrequent Spoorvervoer: Alkmaar - Amsterdam",
          "title": "",
          "type": "Feature"
         },
         {
          "date": "2019-08-01",
          "geometry": {
           "coordinates": [
            4.756951,
            52.495245
           ],
           "type": "Point"
          },
          "id": "76",
          "lat": 52.495245,
          "locatie": "Krommenie, Netherlands",
          "lon": 4.756951,
          "max": 0.00012296333443373442,
          "median": 0.00010866809951202072,
          "min": 9.83439972135221e-05,
          "ministerie": "Ministerie van Infrastructuur en Waterstaat",
          "project": "Programma Hoogfrequent Spoorvervoer: Alkmaar - Amsterdam",
          "title": "",
          "type": "Feature"
         },
         {
          "date": "2019-09-01",
          "geometry": {
           "coordinates": [
            4.756951,
            52.495245
           ],
           "type": "Point"
          },
          "id": "76",
          "lat": 52.495245,
          "locatie": "Krommenie, Netherlands",
          "lon": 4.756951,
          "max": 9.633013542043045e-05,
          "median": 8.328160071890815e-05,
          "min": 6.97848134571559e-05,
          "ministerie": "Ministerie van Infrastructuur en Waterstaat",
          "project": "Programma Hoogfrequent Spoorvervoer: Alkmaar - Amsterdam",
          "title": "",
          "type": "Feature"
         },
         {
          "date": "2018-07-01",
          "geometry": {
           "coordinates": [
            4.901278,
            52.378908
           ],
           "type": "Point"
          },
          "id": "77",
          "lat": 52.378908,
          "locatie": "Amsterdam Centraal, Amsterdam, Netherlands",
          "lon": 4.901278,
          "max": 0.00014725008804816753,
          "median": 0.00012923620851848478,
          "min": 0.00010734589159255847,
          "ministerie": "Ministerie van Infrastructuur en Waterstaat",
          "project": "Programma Hoogfrequent Spoorvervoer: Amsterdam Centraal",
          "title": "",
          "type": "Feature"
         },
         {
          "date": "2018-08-01",
          "geometry": {
           "coordinates": [
            4.901278,
            52.378908
           ],
           "type": "Point"
          },
          "id": "77",
          "lat": 52.378908,
          "locatie": "Amsterdam Centraal, Amsterdam, Netherlands",
          "lon": 4.901278,
          "max": 0.00012825131881225631,
          "median": 0.00011949528561672196,
          "min": 0.00010166740518193961,
          "ministerie": "Ministerie van Infrastructuur en Waterstaat",
          "project": "Programma Hoogfrequent Spoorvervoer: Amsterdam Centraal",
          "title": "",
          "type": "Feature"
         },
         {
          "date": "2018-09-01",
          "geometry": {
           "coordinates": [
            4.901278,
            52.378908
           ],
           "type": "Point"
          },
          "id": "77",
          "lat": 52.378908,
          "locatie": "Amsterdam Centraal, Amsterdam, Netherlands",
          "lon": 4.901278,
          "max": 0.00014482789300828775,
          "median": 0.00013501739522030735,
          "min": 0.00011725357415206939,
          "ministerie": "Ministerie van Infrastructuur en Waterstaat",
          "project": "Programma Hoogfrequent Spoorvervoer: Amsterdam Centraal",
          "title": "",
          "type": "Feature"
         },
         {
          "date": "2018-10-01",
          "geometry": {
           "coordinates": [
            4.901278,
            52.378908
           ],
           "type": "Point"
          },
          "id": "77",
          "lat": 52.378908,
          "locatie": "Amsterdam Centraal, Amsterdam, Netherlands",
          "lon": 4.901278,
          "max": 0.00014353288861457258,
          "median": 0.00013172250875849635,
          "min": 0.00011085955200148921,
          "ministerie": "Ministerie van Infrastructuur en Waterstaat",
          "project": "Programma Hoogfrequent Spoorvervoer: Amsterdam Centraal",
          "title": "",
          "type": "Feature"
         },
         {
          "date": "2018-11-01",
          "geometry": {
           "coordinates": [
            4.901278,
            52.378908
           ],
           "type": "Point"
          },
          "id": "77",
          "lat": 52.378908,
          "locatie": "Amsterdam Centraal, Amsterdam, Netherlands",
          "lon": 4.901278,
          "max": 0.00017560603556841722,
          "median": 0.0001589771379101875,
          "min": 0.0001449220244386244,
          "ministerie": "Ministerie van Infrastructuur en Waterstaat",
          "project": "Programma Hoogfrequent Spoorvervoer: Amsterdam Centraal",
          "title": "",
          "type": "Feature"
         },
         {
          "date": "2018-12-01",
          "geometry": {
           "coordinates": [
            4.901278,
            52.378908
           ],
           "type": "Point"
          },
          "id": "77",
          "lat": 52.378908,
          "locatie": "Amsterdam Centraal, Amsterdam, Netherlands",
          "lon": 4.901278,
          "max": 0.00011983820485875084,
          "median": 0.0001079886750032932,
          "min": 9.431101352674887e-05,
          "ministerie": "Ministerie van Infrastructuur en Waterstaat",
          "project": "Programma Hoogfrequent Spoorvervoer: Amsterdam Centraal",
          "title": "",
          "type": "Feature"
         },
         {
          "date": "2019-01-01",
          "geometry": {
           "coordinates": [
            4.901278,
            52.378908
           ],
           "type": "Point"
          },
          "id": "77",
          "lat": 52.378908,
          "locatie": "Amsterdam Centraal, Amsterdam, Netherlands",
          "lon": 4.901278,
          "max": 9.035508195464312e-05,
          "median": 7.360398608490323e-05,
          "min": 5.8409691729497794e-05,
          "ministerie": "Ministerie van Infrastructuur en Waterstaat",
          "project": "Programma Hoogfrequent Spoorvervoer: Amsterdam Centraal",
          "title": "",
          "type": "Feature"
         },
         {
          "date": "2019-02-01",
          "geometry": {
           "coordinates": [
            4.901278,
            52.378908
           ],
           "type": "Point"
          },
          "id": "77",
          "lat": 52.378908,
          "locatie": "Amsterdam Centraal, Amsterdam, Netherlands",
          "lon": 4.901278,
          "max": 0.00016853715351317078,
          "median": 0.00015701988908917332,
          "min": 0.0001402182097081095,
          "ministerie": "Ministerie van Infrastructuur en Waterstaat",
          "project": "Programma Hoogfrequent Spoorvervoer: Amsterdam Centraal",
          "title": "",
          "type": "Feature"
         },
         {
          "date": "2019-03-01",
          "geometry": {
           "coordinates": [
            4.901278,
            52.378908
           ],
           "type": "Point"
          },
          "id": "77",
          "lat": 52.378908,
          "locatie": "Amsterdam Centraal, Amsterdam, Netherlands",
          "lon": 4.901278,
          "max": 0.00011693808846757747,
          "median": 0.00010644651633841144,
          "min": 8.672710004150821e-05,
          "ministerie": "Ministerie van Infrastructuur en Waterstaat",
          "project": "Programma Hoogfrequent Spoorvervoer: Amsterdam Centraal",
          "title": "",
          "type": "Feature"
         },
         {
          "date": "2019-04-01",
          "geometry": {
           "coordinates": [
            4.901278,
            52.378908
           ],
           "type": "Point"
          },
          "id": "77",
          "lat": 52.378908,
          "locatie": "Amsterdam Centraal, Amsterdam, Netherlands",
          "lon": 4.901278,
          "max": 0.00013035830488661304,
          "median": 0.00012033673496797357,
          "min": 0.00010616030402675192,
          "ministerie": "Ministerie van Infrastructuur en Waterstaat",
          "project": "Programma Hoogfrequent Spoorvervoer: Amsterdam Centraal",
          "title": "",
          "type": "Feature"
         },
         {
          "date": "2019-05-01",
          "geometry": {
           "coordinates": [
            4.901278,
            52.378908
           ],
           "type": "Point"
          },
          "id": "77",
          "lat": 52.378908,
          "locatie": "Amsterdam Centraal, Amsterdam, Netherlands",
          "lon": 4.901278,
          "max": 0.00012459846038836986,
          "median": 0.00011900639947270975,
          "min": 0.00010586701682768762,
          "ministerie": "Ministerie van Infrastructuur en Waterstaat",
          "project": "Programma Hoogfrequent Spoorvervoer: Amsterdam Centraal",
          "title": "",
          "type": "Feature"
         },
         {
          "date": "2019-06-01",
          "geometry": {
           "coordinates": [
            4.901278,
            52.378908
           ],
           "type": "Point"
          },
          "id": "77",
          "lat": 52.378908,
          "locatie": "Amsterdam Centraal, Amsterdam, Netherlands",
          "lon": 4.901278,
          "max": 0.00012930225057061762,
          "median": 0.00011990983809999904,
          "min": 0.00010496021169158762,
          "ministerie": "Ministerie van Infrastructuur en Waterstaat",
          "project": "Programma Hoogfrequent Spoorvervoer: Amsterdam Centraal",
          "title": "",
          "type": "Feature"
         },
         {
          "date": "2019-07-01",
          "geometry": {
           "coordinates": [
            4.901278,
            52.378908
           ],
           "type": "Point"
          },
          "id": "77",
          "lat": 52.378908,
          "locatie": "Amsterdam Centraal, Amsterdam, Netherlands",
          "lon": 4.901278,
          "max": 0.00012273779096006067,
          "median": 0.00011739615635239465,
          "min": 0.0001019499686663039,
          "ministerie": "Ministerie van Infrastructuur en Waterstaat",
          "project": "Programma Hoogfrequent Spoorvervoer: Amsterdam Centraal",
          "title": "",
          "type": "Feature"
         },
         {
          "date": "2019-08-01",
          "geometry": {
           "coordinates": [
            4.901278,
            52.378908
           ],
           "type": "Point"
          },
          "id": "77",
          "lat": 52.378908,
          "locatie": "Amsterdam Centraal, Amsterdam, Netherlands",
          "lon": 4.901278,
          "max": 0.0001321225711257917,
          "median": 0.00012078657894799227,
          "min": 0.00011109626211691648,
          "ministerie": "Ministerie van Infrastructuur en Waterstaat",
          "project": "Programma Hoogfrequent Spoorvervoer: Amsterdam Centraal",
          "title": "",
          "type": "Feature"
         },
         {
          "date": "2019-09-01",
          "geometry": {
           "coordinates": [
            4.901278,
            52.378908
           ],
           "type": "Point"
          },
          "id": "77",
          "lat": 52.378908,
          "locatie": "Amsterdam Centraal, Amsterdam, Netherlands",
          "lon": 4.901278,
          "max": 0.00010104082684847526,
          "median": 8.928761771822319e-05,
          "min": 8.15886160125956e-05,
          "ministerie": "Ministerie van Infrastructuur en Waterstaat",
          "project": "Programma Hoogfrequent Spoorvervoer: Amsterdam Centraal",
          "title": "",
          "type": "Feature"
         },
         {
          "date": "2018-07-01",
          "geometry": {
           "coordinates": [
            5.074477,
            51.564458
           ],
           "type": "Point"
          },
          "id": "78",
          "lat": 51.564458,
          "locatie": "Tilburg, Netherlands",
          "lon": 5.074477,
          "max": 0.00014031707542017102,
          "median": 0.00012800448970793973,
          "min": 0.00012038959729273672,
          "ministerie": "Ministerie van Infrastructuur en Waterstaat",
          "project": "Programma Hoogfrequent Spoorvervoer: Eindhoven - Breda",
          "title": "",
          "type": "Feature"
         },
         {
          "date": "2018-08-01",
          "geometry": {
           "coordinates": [
            5.074477,
            51.564458
           ],
           "type": "Point"
          },
          "id": "78",
          "lat": 51.564458,
          "locatie": "Tilburg, Netherlands",
          "lon": 5.074477,
          "max": 0.000122146331705153,
          "median": 0.0001131202324813793,
          "min": 0.00010179324617774179,
          "ministerie": "Ministerie van Infrastructuur en Waterstaat",
          "project": "Programma Hoogfrequent Spoorvervoer: Eindhoven - Breda",
          "title": "",
          "type": "Feature"
         },
         {
          "date": "2018-09-01",
          "geometry": {
           "coordinates": [
            5.074477,
            51.564458
           ],
           "type": "Point"
          },
          "id": "78",
          "lat": 51.564458,
          "locatie": "Tilburg, Netherlands",
          "lon": 5.074477,
          "max": 0.0001535368137410842,
          "median": 0.00014373356573349927,
          "min": 0.0001303237162144243,
          "ministerie": "Ministerie van Infrastructuur en Waterstaat",
          "project": "Programma Hoogfrequent Spoorvervoer: Eindhoven - Breda",
          "title": "",
          "type": "Feature"
         },
         {
          "date": "2018-10-01",
          "geometry": {
           "coordinates": [
            5.074477,
            51.564458
           ],
           "type": "Point"
          },
          "id": "78",
          "lat": 51.564458,
          "locatie": "Tilburg, Netherlands",
          "lon": 5.074477,
          "max": 0.00014374669120865391,
          "median": 0.00012666365538125423,
          "min": 0.00011778826573710867,
          "ministerie": "Ministerie van Infrastructuur en Waterstaat",
          "project": "Programma Hoogfrequent Spoorvervoer: Eindhoven - Breda",
          "title": "",
          "type": "Feature"
         },
         {
          "date": "2018-11-01",
          "geometry": {
           "coordinates": [
            5.074477,
            51.564458
           ],
           "type": "Point"
          },
          "id": "78",
          "lat": 51.564458,
          "locatie": "Tilburg, Netherlands",
          "lon": 5.074477,
          "max": 0.00014690512762172148,
          "median": 0.00013133797695359997,
          "min": 0.00011932784400414675,
          "ministerie": "Ministerie van Infrastructuur en Waterstaat",
          "project": "Programma Hoogfrequent Spoorvervoer: Eindhoven - Breda",
          "title": "",
          "type": "Feature"
         },
         {
          "date": "2018-12-01",
          "geometry": {
           "coordinates": [
            5.074477,
            51.564458
           ],
           "type": "Point"
          },
          "id": "78",
          "lat": 51.564458,
          "locatie": "Tilburg, Netherlands",
          "lon": 5.074477,
          "max": 0.00012593618885148317,
          "median": 0.00010911450261844204,
          "min": 9.860230521673446e-05,
          "ministerie": "Ministerie van Infrastructuur en Waterstaat",
          "project": "Programma Hoogfrequent Spoorvervoer: Eindhoven - Breda",
          "title": "",
          "type": "Feature"
         },
         {
          "date": "2019-01-01",
          "geometry": {
           "coordinates": [
            5.074477,
            51.564458
           ],
           "type": "Point"
          },
          "id": "78",
          "lat": 51.564458,
          "locatie": "Tilburg, Netherlands",
          "lon": 5.074477,
          "max": 0.00011881691427418564,
          "median": 0.00010247644706302907,
          "min": 7.975172328644189e-05,
          "ministerie": "Ministerie van Infrastructuur en Waterstaat",
          "project": "Programma Hoogfrequent Spoorvervoer: Eindhoven - Breda",
          "title": "",
          "type": "Feature"
         },
         {
          "date": "2019-02-01",
          "geometry": {
           "coordinates": [
            5.074477,
            51.564458
           ],
           "type": "Point"
          },
          "id": "78",
          "lat": 51.564458,
          "locatie": "Tilburg, Netherlands",
          "lon": 5.074477,
          "max": 0.00015948722624314635,
          "median": 0.00013828598494461952,
          "min": 0.0001226151330254442,
          "ministerie": "Ministerie van Infrastructuur en Waterstaat",
          "project": "Programma Hoogfrequent Spoorvervoer: Eindhoven - Breda",
          "title": "",
          "type": "Feature"
         },
         {
          "date": "2019-03-01",
          "geometry": {
           "coordinates": [
            5.074477,
            51.564458
           ],
           "type": "Point"
          },
          "id": "78",
          "lat": 51.564458,
          "locatie": "Tilburg, Netherlands",
          "lon": 5.074477,
          "max": 0.00014408170240803484,
          "median": 0.00012285355055370397,
          "min": 0.00010112148447660729,
          "ministerie": "Ministerie van Infrastructuur en Waterstaat",
          "project": "Programma Hoogfrequent Spoorvervoer: Eindhoven - Breda",
          "title": "",
          "type": "Feature"
         },
         {
          "date": "2019-04-01",
          "geometry": {
           "coordinates": [
            5.074477,
            51.564458
           ],
           "type": "Point"
          },
          "id": "78",
          "lat": 51.564458,
          "locatie": "Tilburg, Netherlands",
          "lon": 5.074477,
          "max": 0.00015605680528096855,
          "median": 0.00014404686953639612,
          "min": 0.00013192577333650092,
          "ministerie": "Ministerie van Infrastructuur en Waterstaat",
          "project": "Programma Hoogfrequent Spoorvervoer: Eindhoven - Breda",
          "title": "",
          "type": "Feature"
         },
         {
          "date": "2019-05-01",
          "geometry": {
           "coordinates": [
            5.074477,
            51.564458
           ],
           "type": "Point"
          },
          "id": "78",
          "lat": 51.564458,
          "locatie": "Tilburg, Netherlands",
          "lon": 5.074477,
          "max": 0.00013636067160405219,
          "median": 0.00012902170610163126,
          "min": 0.00012110984004870689,
          "ministerie": "Ministerie van Infrastructuur en Waterstaat",
          "project": "Programma Hoogfrequent Spoorvervoer: Eindhoven - Breda",
          "title": "",
          "type": "Feature"
         },
         {
          "date": "2019-06-01",
          "geometry": {
           "coordinates": [
            5.074477,
            51.564458
           ],
           "type": "Point"
          },
          "id": "78",
          "lat": 51.564458,
          "locatie": "Tilburg, Netherlands",
          "lon": 5.074477,
          "max": 0.00012058801393557462,
          "median": 0.00011547673723854866,
          "min": 0.00011017632476574926,
          "ministerie": "Ministerie van Infrastructuur en Waterstaat",
          "project": "Programma Hoogfrequent Spoorvervoer: Eindhoven - Breda",
          "title": "",
          "type": "Feature"
         },
         {
          "date": "2019-07-01",
          "geometry": {
           "coordinates": [
            5.074477,
            51.564458
           ],
           "type": "Point"
          },
          "id": "78",
          "lat": 51.564458,
          "locatie": "Tilburg, Netherlands",
          "lon": 5.074477,
          "max": 0.0001161358297299623,
          "median": 0.00010843832909397056,
          "min": 0.00010066212416859344,
          "ministerie": "Ministerie van Infrastructuur en Waterstaat",
          "project": "Programma Hoogfrequent Spoorvervoer: Eindhoven - Breda",
          "title": "",
          "type": "Feature"
         },
         {
          "date": "2019-08-01",
          "geometry": {
           "coordinates": [
            5.074477,
            51.564458
           ],
           "type": "Point"
          },
          "id": "78",
          "lat": 51.564458,
          "locatie": "Tilburg, Netherlands",
          "lon": 5.074477,
          "max": 0.00012313423522507445,
          "median": 0.00011472623413239554,
          "min": 0.00010605243005556986,
          "ministerie": "Ministerie van Infrastructuur en Waterstaat",
          "project": "Programma Hoogfrequent Spoorvervoer: Eindhoven - Breda",
          "title": "",
          "type": "Feature"
         },
         {
          "date": "2019-09-01",
          "geometry": {
           "coordinates": [
            5.074477,
            51.564458
           ],
           "type": "Point"
          },
          "id": "78",
          "lat": 51.564458,
          "locatie": "Tilburg, Netherlands",
          "lon": 5.074477,
          "max": 9.762020050725048e-05,
          "median": 8.60258332977537e-05,
          "min": 7.958990131113814e-05,
          "ministerie": "Ministerie van Infrastructuur en Waterstaat",
          "project": "Programma Hoogfrequent Spoorvervoer: Eindhoven - Breda",
          "title": "",
          "type": "Feature"
         },
         {
          "date": "2018-07-01",
          "geometry": {
           "coordinates": [
            5.291072,
            51.656378000000004
           ],
           "type": "Point"
          },
          "id": "79",
          "lat": 51.656378000000004,
          "locatie": "Van Miertstraat, Vught, Netherlands",
          "lon": 5.291072,
          "max": 0.00012941186753751382,
          "median": 0.00012401103580552685,
          "min": 0.00011716963800097845,
          "ministerie": "Ministerie van Infrastructuur en Waterstaat",
          "project": "Programma Hoogfrequent Spoorvervoer: Meteren - Boxtel",
          "title": "",
          "type": "Feature"
         },
         {
          "date": "2018-08-01",
          "geometry": {
           "coordinates": [
            5.291072,
            51.656378000000004
           ],
           "type": "Point"
          },
          "id": "79",
          "lat": 51.656378000000004,
          "locatie": "Van Miertstraat, Vught, Netherlands",
          "lon": 5.291072,
          "max": 0.00011914319475181401,
          "median": 0.00010898045729845762,
          "min": 0.00010015771840699017,
          "ministerie": "Ministerie van Infrastructuur en Waterstaat",
          "project": "Programma Hoogfrequent Spoorvervoer: Meteren - Boxtel",
          "title": "",
          "type": "Feature"
         },
         {
          "date": "2018-09-01",
          "geometry": {
           "coordinates": [
            5.291072,
            51.656378000000004
           ],
           "type": "Point"
          },
          "id": "79",
          "lat": 51.656378000000004,
          "locatie": "Van Miertstraat, Vught, Netherlands",
          "lon": 5.291072,
          "max": 0.0001574152774992399,
          "median": 0.0001380412091703429,
          "min": 0.00012847747711930424,
          "ministerie": "Ministerie van Infrastructuur en Waterstaat",
          "project": "Programma Hoogfrequent Spoorvervoer: Meteren - Boxtel",
          "title": "",
          "type": "Feature"
         },
         {
          "date": "2018-10-01",
          "geometry": {
           "coordinates": [
            5.291072,
            51.656378000000004
           ],
           "type": "Point"
          },
          "id": "79",
          "lat": 51.656378000000004,
          "locatie": "Van Miertstraat, Vught, Netherlands",
          "lon": 5.291072,
          "max": 0.00015038660785648972,
          "median": 0.00013395975111052394,
          "min": 0.00012407273280812858,
          "ministerie": "Ministerie van Infrastructuur en Waterstaat",
          "project": "Programma Hoogfrequent Spoorvervoer: Meteren - Boxtel",
          "title": "",
          "type": "Feature"
         },
         {
          "date": "2018-11-01",
          "geometry": {
           "coordinates": [
            5.291072,
            51.656378000000004
           ],
           "type": "Point"
          },
          "id": "79",
          "lat": 51.656378000000004,
          "locatie": "Van Miertstraat, Vught, Netherlands",
          "lon": 5.291072,
          "max": 0.0001441704340566214,
          "median": 0.00013621189720126897,
          "min": 0.00012373534264042974,
          "ministerie": "Ministerie van Infrastructuur en Waterstaat",
          "project": "Programma Hoogfrequent Spoorvervoer: Meteren - Boxtel",
          "title": "",
          "type": "Feature"
         },
         {
          "date": "2018-12-01",
          "geometry": {
           "coordinates": [
            5.291072,
            51.656378000000004
           ],
           "type": "Point"
          },
          "id": "79",
          "lat": 51.656378000000004,
          "locatie": "Van Miertstraat, Vught, Netherlands",
          "lon": 5.291072,
          "max": 0.0001248121821878014,
          "median": 0.00011069480269622617,
          "min": 9.927948121912777e-05,
          "ministerie": "Ministerie van Infrastructuur en Waterstaat",
          "project": "Programma Hoogfrequent Spoorvervoer: Meteren - Boxtel",
          "title": "",
          "type": "Feature"
         },
         {
          "date": "2019-01-01",
          "geometry": {
           "coordinates": [
            5.291072,
            51.656378000000004
           ],
           "type": "Point"
          },
          "id": "79",
          "lat": 51.656378000000004,
          "locatie": "Van Miertstraat, Vught, Netherlands",
          "lon": 5.291072,
          "max": 0.00011183162086075144,
          "median": 0.00010159840894630179,
          "min": 8.301973716281374e-05,
          "ministerie": "Ministerie van Infrastructuur en Waterstaat",
          "project": "Programma Hoogfrequent Spoorvervoer: Meteren - Boxtel",
          "title": "",
          "type": "Feature"
         },
         {
          "date": "2019-02-01",
          "geometry": {
           "coordinates": [
            5.291072,
            51.656378000000004
           ],
           "type": "Point"
          },
          "id": "79",
          "lat": 51.656378000000004,
          "locatie": "Van Miertstraat, Vught, Netherlands",
          "lon": 5.291072,
          "max": 0.00015005414024926722,
          "median": 0.00013210052566137165,
          "min": 0.00011979482538873236,
          "ministerie": "Ministerie van Infrastructuur en Waterstaat",
          "project": "Programma Hoogfrequent Spoorvervoer: Meteren - Boxtel",
          "title": "",
          "type": "Feature"
         },
         {
          "date": "2019-03-01",
          "geometry": {
           "coordinates": [
            5.291072,
            51.656378000000004
           ],
           "type": "Point"
          },
          "id": "79",
          "lat": 51.656378000000004,
          "locatie": "Van Miertstraat, Vught, Netherlands",
          "lon": 5.291072,
          "max": 0.00011802542576333508,
          "median": 0.00010962883970933035,
          "min": 9.839388803811744e-05,
          "ministerie": "Ministerie van Infrastructuur en Waterstaat",
          "project": "Programma Hoogfrequent Spoorvervoer: Meteren - Boxtel",
          "title": "",
          "type": "Feature"
         },
         {
          "date": "2019-04-01",
          "geometry": {
           "coordinates": [
            5.291072,
            51.656378000000004
           ],
           "type": "Point"
          },
          "id": "79",
          "lat": 51.656378000000004,
          "locatie": "Van Miertstraat, Vught, Netherlands",
          "lon": 5.291072,
          "max": 0.0001425443624611944,
          "median": 0.00013232504374038675,
          "min": 0.0001261019907982415,
          "ministerie": "Ministerie van Infrastructuur en Waterstaat",
          "project": "Programma Hoogfrequent Spoorvervoer: Meteren - Boxtel",
          "title": "",
          "type": "Feature"
         },
         {
          "date": "2019-05-01",
          "geometry": {
           "coordinates": [
            5.291072,
            51.656378000000004
           ],
           "type": "Point"
          },
          "id": "79",
          "lat": 51.656378000000004,
          "locatie": "Van Miertstraat, Vught, Netherlands",
          "lon": 5.291072,
          "max": 0.0001312026627600585,
          "median": 0.0001269435903947718,
          "min": 0.00011917699634893936,
          "ministerie": "Ministerie van Infrastructuur en Waterstaat",
          "project": "Programma Hoogfrequent Spoorvervoer: Meteren - Boxtel",
          "title": "",
          "type": "Feature"
         },
         {
          "date": "2019-06-01",
          "geometry": {
           "coordinates": [
            5.291072,
            51.656378000000004
           ],
           "type": "Point"
          },
          "id": "79",
          "lat": 51.656378000000004,
          "locatie": "Van Miertstraat, Vught, Netherlands",
          "lon": 5.291072,
          "max": 0.000116683506348636,
          "median": 0.0001130735552065644,
          "min": 0.0001062768860720098,
          "ministerie": "Ministerie van Infrastructuur en Waterstaat",
          "project": "Programma Hoogfrequent Spoorvervoer: Meteren - Boxtel",
          "title": "",
          "type": "Feature"
         },
         {
          "date": "2019-07-01",
          "geometry": {
           "coordinates": [
            5.291072,
            51.656378000000004
           ],
           "type": "Point"
          },
          "id": "79",
          "lat": 51.656378000000004,
          "locatie": "Van Miertstraat, Vught, Netherlands",
          "lon": 5.291072,
          "max": 0.00011415536197797419,
          "median": 0.00011009679292328656,
          "min": 0.00010571958675445004,
          "ministerie": "Ministerie van Infrastructuur en Waterstaat",
          "project": "Programma Hoogfrequent Spoorvervoer: Meteren - Boxtel",
          "title": "",
          "type": "Feature"
         },
         {
          "date": "2019-08-01",
          "geometry": {
           "coordinates": [
            5.291072,
            51.656378000000004
           ],
           "type": "Point"
          },
          "id": "79",
          "lat": 51.656378000000004,
          "locatie": "Van Miertstraat, Vught, Netherlands",
          "lon": 5.291072,
          "max": 0.00011977515532635152,
          "median": 0.00011306512319937526,
          "min": 0.00010879111505346373,
          "ministerie": "Ministerie van Infrastructuur en Waterstaat",
          "project": "Programma Hoogfrequent Spoorvervoer: Meteren - Boxtel",
          "title": "",
          "type": "Feature"
         },
         {
          "date": "2019-09-01",
          "geometry": {
           "coordinates": [
            5.291072,
            51.656378000000004
           ],
           "type": "Point"
          },
          "id": "79",
          "lat": 51.656378000000004,
          "locatie": "Van Miertstraat, Vught, Netherlands",
          "lon": 5.291072,
          "max": 0.00010092822469147027,
          "median": 9.337637311546132e-05,
          "min": 8.454818361984878e-05,
          "ministerie": "Ministerie van Infrastructuur en Waterstaat",
          "project": "Programma Hoogfrequent Spoorvervoer: Meteren - Boxtel",
          "title": "",
          "type": "Feature"
         },
         {
          "date": "2018-07-01",
          "geometry": {
           "coordinates": [
            5.85378,
            51.843041
           ],
           "type": "Point"
          },
          "id": "80",
          "lat": 51.843041,
          "locatie": "Stationsplein, Nymegen, Netherlands",
          "lon": 5.85378,
          "max": 0.00012550949031719938,
          "median": 0.00012321288522798568,
          "min": 0.00011589697910732194,
          "ministerie": "Ministerie van Infrastructuur en Waterstaat",
          "project": "Programma Hoogfrequent Spoorvervoer: Nijmegen",
          "title": "",
          "type": "Feature"
         },
         {
          "date": "2018-08-01",
          "geometry": {
           "coordinates": [
            5.85378,
            51.843041
           ],
           "type": "Point"
          },
          "id": "80",
          "lat": 51.843041,
          "locatie": "Stationsplein, Nymegen, Netherlands",
          "lon": 5.85378,
          "max": 0.00011530893696103854,
          "median": 0.00010511873514999117,
          "min": 0.00010008368157600814,
          "ministerie": "Ministerie van Infrastructuur en Waterstaat",
          "project": "Programma Hoogfrequent Spoorvervoer: Nijmegen",
          "title": "",
          "type": "Feature"
         },
         {
          "date": "2018-09-01",
          "geometry": {
           "coordinates": [
            5.85378,
            51.843041
           ],
           "type": "Point"
          },
          "id": "80",
          "lat": 51.843041,
          "locatie": "Stationsplein, Nymegen, Netherlands",
          "lon": 5.85378,
          "max": 0.00015995183964143944,
          "median": 0.00014145152060114527,
          "min": 0.00013112991100517588,
          "ministerie": "Ministerie van Infrastructuur en Waterstaat",
          "project": "Programma Hoogfrequent Spoorvervoer: Nijmegen",
          "title": "",
          "type": "Feature"
         },
         {
          "date": "2018-10-01",
          "geometry": {
           "coordinates": [
            5.85378,
            51.843041
           ],
           "type": "Point"
          },
          "id": "80",
          "lat": 51.843041,
          "locatie": "Stationsplein, Nymegen, Netherlands",
          "lon": 5.85378,
          "max": 0.00014360826753545552,
          "median": 0.00013298077101353556,
          "min": 0.00012057871208526194,
          "ministerie": "Ministerie van Infrastructuur en Waterstaat",
          "project": "Programma Hoogfrequent Spoorvervoer: Nijmegen",
          "title": "",
          "type": "Feature"
         },
         {
          "date": "2018-11-01",
          "geometry": {
           "coordinates": [
            5.85378,
            51.843041
           ],
           "type": "Point"
          },
          "id": "80",
          "lat": 51.843041,
          "locatie": "Stationsplein, Nymegen, Netherlands",
          "lon": 5.85378,
          "max": 0.0001824539937393521,
          "median": 0.00016840456802163527,
          "min": 0.0001437323991934528,
          "ministerie": "Ministerie van Infrastructuur en Waterstaat",
          "project": "Programma Hoogfrequent Spoorvervoer: Nijmegen",
          "title": "",
          "type": "Feature"
         },
         {
          "date": "2018-12-01",
          "geometry": {
           "coordinates": [
            5.85378,
            51.843041
           ],
           "type": "Point"
          },
          "id": "80",
          "lat": 51.843041,
          "locatie": "Stationsplein, Nymegen, Netherlands",
          "lon": 5.85378,
          "max": 0.00012962322944076732,
          "median": 0.00011747256506377412,
          "min": 0.00010342289169784635,
          "ministerie": "Ministerie van Infrastructuur en Waterstaat",
          "project": "Programma Hoogfrequent Spoorvervoer: Nijmegen",
          "title": "",
          "type": "Feature"
         },
         {
          "date": "2019-01-01",
          "geometry": {
           "coordinates": [
            5.85378,
            51.843041
           ],
           "type": "Point"
          },
          "id": "80",
          "lat": 51.843041,
          "locatie": "Stationsplein, Nymegen, Netherlands",
          "lon": 5.85378,
          "max": 0.0001342781906714663,
          "median": 0.00012235552640049718,
          "min": 0.00011323691935070707,
          "ministerie": "Ministerie van Infrastructuur en Waterstaat",
          "project": "Programma Hoogfrequent Spoorvervoer: Nijmegen",
          "title": "",
          "type": "Feature"
         },
         {
          "date": "2019-02-01",
          "geometry": {
           "coordinates": [
            5.85378,
            51.843041
           ],
           "type": "Point"
          },
          "id": "80",
          "lat": 51.843041,
          "locatie": "Stationsplein, Nymegen, Netherlands",
          "lon": 5.85378,
          "max": 0.0001641117148409789,
          "median": 0.0001529128573043865,
          "min": 0.00013993946381495942,
          "ministerie": "Ministerie van Infrastructuur en Waterstaat",
          "project": "Programma Hoogfrequent Spoorvervoer: Nijmegen",
          "title": "",
          "type": "Feature"
         },
         {
          "date": "2019-03-01",
          "geometry": {
           "coordinates": [
            5.85378,
            51.843041
           ],
           "type": "Point"
          },
          "id": "80",
          "lat": 51.843041,
          "locatie": "Stationsplein, Nymegen, Netherlands",
          "lon": 5.85378,
          "max": 0.000127488934708078,
          "median": 0.00010942687602694015,
          "min": 9.495938992878515e-05,
          "ministerie": "Ministerie van Infrastructuur en Waterstaat",
          "project": "Programma Hoogfrequent Spoorvervoer: Nijmegen",
          "title": "",
          "type": "Feature"
         },
         {
          "date": "2019-04-01",
          "geometry": {
           "coordinates": [
            5.85378,
            51.843041
           ],
           "type": "Point"
          },
          "id": "80",
          "lat": 51.843041,
          "locatie": "Stationsplein, Nymegen, Netherlands",
          "lon": 5.85378,
          "max": 0.00013035550353405643,
          "median": 0.00011997161345789209,
          "min": 0.00011244463894399814,
          "ministerie": "Ministerie van Infrastructuur en Waterstaat",
          "project": "Programma Hoogfrequent Spoorvervoer: Nijmegen",
          "title": "",
          "type": "Feature"
         },
         {
          "date": "2019-05-01",
          "geometry": {
           "coordinates": [
            5.85378,
            51.843041
           ],
           "type": "Point"
          },
          "id": "80",
          "lat": 51.843041,
          "locatie": "Stationsplein, Nymegen, Netherlands",
          "lon": 5.85378,
          "max": 0.0001268230662575373,
          "median": 0.00011978841518153368,
          "min": 0.00011233359327889048,
          "ministerie": "Ministerie van Infrastructuur en Waterstaat",
          "project": "Programma Hoogfrequent Spoorvervoer: Nijmegen",
          "title": "",
          "type": "Feature"
         },
         {
          "date": "2019-06-01",
          "geometry": {
           "coordinates": [
            5.85378,
            51.843041
           ],
           "type": "Point"
          },
          "id": "80",
          "lat": 51.843041,
          "locatie": "Stationsplein, Nymegen, Netherlands",
          "lon": 5.85378,
          "max": 0.00012125986540922895,
          "median": 0.00011529777071190101,
          "min": 0.00010661552369128913,
          "ministerie": "Ministerie van Infrastructuur en Waterstaat",
          "project": "Programma Hoogfrequent Spoorvervoer: Nijmegen",
          "title": "",
          "type": "Feature"
         },
         {
          "date": "2019-07-01",
          "geometry": {
           "coordinates": [
            5.85378,
            51.843041
           ],
           "type": "Point"
          },
          "id": "80",
          "lat": 51.843041,
          "locatie": "Stationsplein, Nymegen, Netherlands",
          "lon": 5.85378,
          "max": 0.00011522840372666857,
          "median": 0.00011137371984659694,
          "min": 0.00010564396924236458,
          "ministerie": "Ministerie van Infrastructuur en Waterstaat",
          "project": "Programma Hoogfrequent Spoorvervoer: Nijmegen",
          "title": "",
          "type": "Feature"
         },
         {
          "date": "2019-08-01",
          "geometry": {
           "coordinates": [
            5.85378,
            51.843041
           ],
           "type": "Point"
          },
          "id": "80",
          "lat": 51.843041,
          "locatie": "Stationsplein, Nymegen, Netherlands",
          "lon": 5.85378,
          "max": 0.00012623788971466643,
          "median": 0.00011670244566630572,
          "min": 0.00010826583456946537,
          "ministerie": "Ministerie van Infrastructuur en Waterstaat",
          "project": "Programma Hoogfrequent Spoorvervoer: Nijmegen",
          "title": "",
          "type": "Feature"
         },
         {
          "date": "2019-09-01",
          "geometry": {
           "coordinates": [
            5.85378,
            51.843041
           ],
           "type": "Point"
          },
          "id": "80",
          "lat": 51.843041,
          "locatie": "Stationsplein, Nymegen, Netherlands",
          "lon": 5.85378,
          "max": 0.00017245249376982014,
          "median": 0.0001354427705387416,
          "min": 9.917390933328579e-05,
          "ministerie": "Ministerie van Infrastructuur en Waterstaat",
          "project": "Programma Hoogfrequent Spoorvervoer: Nijmegen",
          "title": "",
          "type": "Feature"
         },
         {
          "date": "2018-07-01",
          "geometry": {
           "coordinates": [
            4.239225,
            51.497752
           ],
           "type": "Point"
          },
          "id": "86",
          "lat": 51.497752,
          "locatie": "Zoommeer",
          "lon": 4.239225,
          "max": 0.00014474719887304057,
          "median": 0.00013246648450149223,
          "min": 0.00012167959811432567,
          "ministerie": "Ministerie van Infrastructuur en Waterstaat",
          "project": "Rijksstructuurvisie Grevelingen en Volkerak - Zoommeer",
          "title": "",
          "type": "Feature"
         },
         {
          "date": "2018-08-01",
          "geometry": {
           "coordinates": [
            4.239225,
            51.497752
           ],
           "type": "Point"
          },
          "id": "86",
          "lat": 51.497752,
          "locatie": "Zoommeer",
          "lon": 4.239225,
          "max": 0.0001146534996223636,
          "median": 0.00010264408410876058,
          "min": 9.376797438162375e-05,
          "ministerie": "Ministerie van Infrastructuur en Waterstaat",
          "project": "Rijksstructuurvisie Grevelingen en Volkerak - Zoommeer",
          "title": "",
          "type": "Feature"
         },
         {
          "date": "2018-09-01",
          "geometry": {
           "coordinates": [
            4.239225,
            51.497752
           ],
           "type": "Point"
          },
          "id": "86",
          "lat": 51.497752,
          "locatie": "Zoommeer",
          "lon": 4.239225,
          "max": 0.00013972554888294798,
          "median": 0.0001280260186880929,
          "min": 0.00011394928151275963,
          "ministerie": "Ministerie van Infrastructuur en Waterstaat",
          "project": "Rijksstructuurvisie Grevelingen en Volkerak - Zoommeer",
          "title": "",
          "type": "Feature"
         },
         {
          "date": "2018-10-01",
          "geometry": {
           "coordinates": [
            4.239225,
            51.497752
           ],
           "type": "Point"
          },
          "id": "86",
          "lat": 51.497752,
          "locatie": "Zoommeer",
          "lon": 4.239225,
          "max": 0.0001400391425236705,
          "median": 0.00013098317752852694,
          "min": 0.00010956168989650905,
          "ministerie": "Ministerie van Infrastructuur en Waterstaat",
          "project": "Rijksstructuurvisie Grevelingen en Volkerak - Zoommeer",
          "title": "",
          "type": "Feature"
         },
         {
          "date": "2018-11-01",
          "geometry": {
           "coordinates": [
            4.239225,
            51.497752
           ],
           "type": "Point"
          },
          "id": "86",
          "lat": 51.497752,
          "locatie": "Zoommeer",
          "lon": 4.239225,
          "max": 0.00017857397300646282,
          "median": 0.00015376742521766573,
          "min": 0.00014052663949756458,
          "ministerie": "Ministerie van Infrastructuur en Waterstaat",
          "project": "Rijksstructuurvisie Grevelingen en Volkerak - Zoommeer",
          "title": "",
          "type": "Feature"
         },
         {
          "date": "2018-12-01",
          "geometry": {
           "coordinates": [
            4.239225,
            51.497752
           ],
           "type": "Point"
          },
          "id": "86",
          "lat": 51.497752,
          "locatie": "Zoommeer",
          "lon": 4.239225,
          "max": 0.00011668340928711019,
          "median": 9.792086348170415e-05,
          "min": 8.362366027493069e-05,
          "ministerie": "Ministerie van Infrastructuur en Waterstaat",
          "project": "Rijksstructuurvisie Grevelingen en Volkerak - Zoommeer",
          "title": "",
          "type": "Feature"
         },
         {
          "date": "2019-01-01",
          "geometry": {
           "coordinates": [
            4.239225,
            51.497752
           ],
           "type": "Point"
          },
          "id": "86",
          "lat": 51.497752,
          "locatie": "Zoommeer",
          "lon": 4.239225,
          "max": 0.00011038404417800622,
          "median": 8.348723526540672e-05,
          "min": 6.172091261358469e-05,
          "ministerie": "Ministerie van Infrastructuur en Waterstaat",
          "project": "Rijksstructuurvisie Grevelingen en Volkerak - Zoommeer",
          "title": "",
          "type": "Feature"
         },
         {
          "date": "2019-02-01",
          "geometry": {
           "coordinates": [
            4.239225,
            51.497752
           ],
           "type": "Point"
          },
          "id": "86",
          "lat": 51.497752,
          "locatie": "Zoommeer",
          "lon": 4.239225,
          "max": 0.00017402105731889606,
          "median": 0.00015068774519022554,
          "min": 0.00013434661766086064,
          "ministerie": "Ministerie van Infrastructuur en Waterstaat",
          "project": "Rijksstructuurvisie Grevelingen en Volkerak - Zoommeer",
          "title": "",
          "type": "Feature"
         },
         {
          "date": "2019-03-01",
          "geometry": {
           "coordinates": [
            4.239225,
            51.497752
           ],
           "type": "Point"
          },
          "id": "86",
          "lat": 51.497752,
          "locatie": "Zoommeer",
          "lon": 4.239225,
          "max": 0.00010845207045669077,
          "median": 9.518915664603523e-05,
          "min": 8.932398611935001e-05,
          "ministerie": "Ministerie van Infrastructuur en Waterstaat",
          "project": "Rijksstructuurvisie Grevelingen en Volkerak - Zoommeer",
          "title": "",
          "type": "Feature"
         },
         {
          "date": "2019-04-01",
          "geometry": {
           "coordinates": [
            4.239225,
            51.497752
           ],
           "type": "Point"
          },
          "id": "86",
          "lat": 51.497752,
          "locatie": "Zoommeer",
          "lon": 4.239225,
          "max": 0.00016342015133732123,
          "median": 0.00015354972943053486,
          "min": 0.00014409232299805364,
          "ministerie": "Ministerie van Infrastructuur en Waterstaat",
          "project": "Rijksstructuurvisie Grevelingen en Volkerak - Zoommeer",
          "title": "",
          "type": "Feature"
         },
         {
          "date": "2019-05-01",
          "geometry": {
           "coordinates": [
            4.239225,
            51.497752
           ],
           "type": "Point"
          },
          "id": "86",
          "lat": 51.497752,
          "locatie": "Zoommeer",
          "lon": 4.239225,
          "max": 0.00013463898956975523,
          "median": 0.00012958122349930108,
          "min": 0.00012111252152374163,
          "ministerie": "Ministerie van Infrastructuur en Waterstaat",
          "project": "Rijksstructuurvisie Grevelingen en Volkerak - Zoommeer",
          "title": "",
          "type": "Feature"
         },
         {
          "date": "2019-06-01",
          "geometry": {
           "coordinates": [
            4.239225,
            51.497752
           ],
           "type": "Point"
          },
          "id": "86",
          "lat": 51.497752,
          "locatie": "Zoommeer",
          "lon": 4.239225,
          "max": 0.0001337244917901109,
          "median": 0.00011843648826470599,
          "min": 0.00010821973829044088,
          "ministerie": "Ministerie van Infrastructuur en Waterstaat",
          "project": "Rijksstructuurvisie Grevelingen en Volkerak - Zoommeer",
          "title": "",
          "type": "Feature"
         },
         {
          "date": "2019-07-01",
          "geometry": {
           "coordinates": [
            4.239225,
            51.497752
           ],
           "type": "Point"
          },
          "id": "86",
          "lat": 51.497752,
          "locatie": "Zoommeer",
          "lon": 4.239225,
          "max": 0.00012610130846481054,
          "median": 0.00011125885066576302,
          "min": 0.00010480577475391328,
          "ministerie": "Ministerie van Infrastructuur en Waterstaat",
          "project": "Rijksstructuurvisie Grevelingen en Volkerak - Zoommeer",
          "title": "",
          "type": "Feature"
         },
         {
          "date": "2019-08-01",
          "geometry": {
           "coordinates": [
            4.239225,
            51.497752
           ],
           "type": "Point"
          },
          "id": "86",
          "lat": 51.497752,
          "locatie": "Zoommeer",
          "lon": 4.239225,
          "max": 0.00013155578150472231,
          "median": 0.00012030469537344229,
          "min": 0.00010477502866037826,
          "ministerie": "Ministerie van Infrastructuur en Waterstaat",
          "project": "Rijksstructuurvisie Grevelingen en Volkerak - Zoommeer",
          "title": "",
          "type": "Feature"
         },
         {
          "date": "2019-09-01",
          "geometry": {
           "coordinates": [
            4.239225,
            51.497752
           ],
           "type": "Point"
          },
          "id": "86",
          "lat": 51.497752,
          "locatie": "Zoommeer",
          "lon": 4.239225,
          "max": 0.00011081452976213768,
          "median": 8.618771244073287e-05,
          "min": 7.818036386823333e-05,
          "ministerie": "Ministerie van Infrastructuur en Waterstaat",
          "project": "Rijksstructuurvisie Grevelingen en Volkerak - Zoommeer",
          "title": "",
          "type": "Feature"
         },
         {
          "date": "2018-07-01",
          "geometry": {
           "coordinates": [
            5.184314,
            51.534043
           ],
           "type": "Point"
          },
          "id": "87",
          "lat": 51.534043,
          "locatie": "A58, Moergestel, Netherlands",
          "lon": 5.184314,
          "max": 0.0001311474323413032,
          "median": 0.00012380352267343266,
          "min": 0.00011716963800097845,
          "ministerie": "Ministerie van Infrastructuur en Waterstaat",
          "project": "SmartwayZ.nl: InnovA58 (Eindhoven - Tilburg)",
          "title": "",
          "type": "Feature"
         },
         {
          "date": "2018-08-01",
          "geometry": {
           "coordinates": [
            5.184314,
            51.534043
           ],
           "type": "Point"
          },
          "id": "87",
          "lat": 51.534043,
          "locatie": "A58, Moergestel, Netherlands",
          "lon": 5.184314,
          "max": 0.00011688133473576501,
          "median": 0.00010482964089314497,
          "min": 0.00010133471368795727,
          "ministerie": "Ministerie van Infrastructuur en Waterstaat",
          "project": "SmartwayZ.nl: InnovA58 (Eindhoven - Tilburg)",
          "title": "",
          "type": "Feature"
         },
         {
          "date": "2018-09-01",
          "geometry": {
           "coordinates": [
            5.184314,
            51.534043
           ],
           "type": "Point"
          },
          "id": "87",
          "lat": 51.534043,
          "locatie": "A58, Moergestel, Netherlands",
          "lon": 5.184314,
          "max": 0.000146693222632166,
          "median": 0.00013810336705184534,
          "min": 0.00012609010241549062,
          "ministerie": "Ministerie van Infrastructuur en Waterstaat",
          "project": "SmartwayZ.nl: InnovA58 (Eindhoven - Tilburg)",
          "title": "",
          "type": "Feature"
         },
         {
          "date": "2018-10-01",
          "geometry": {
           "coordinates": [
            5.184314,
            51.534043
           ],
           "type": "Point"
          },
          "id": "87",
          "lat": 51.534043,
          "locatie": "A58, Moergestel, Netherlands",
          "lon": 5.184314,
          "max": 0.00013933496666140854,
          "median": 0.00012229176512227154,
          "min": 0.00011376872134860605,
          "ministerie": "Ministerie van Infrastructuur en Waterstaat",
          "project": "SmartwayZ.nl: InnovA58 (Eindhoven - Tilburg)",
          "title": "",
          "type": "Feature"
         },
         {
          "date": "2018-11-01",
          "geometry": {
           "coordinates": [
            5.184314,
            51.534043
           ],
           "type": "Point"
          },
          "id": "87",
          "lat": 51.534043,
          "locatie": "A58, Moergestel, Netherlands",
          "lon": 5.184314,
          "max": 0.00014865158696807576,
          "median": 0.00013295627973011504,
          "min": 0.00012449982369287744,
          "ministerie": "Ministerie van Infrastructuur en Waterstaat",
          "project": "SmartwayZ.nl: InnovA58 (Eindhoven - Tilburg)",
          "title": "",
          "type": "Feature"
         },
         {
          "date": "2018-12-01",
          "geometry": {
           "coordinates": [
            5.184314,
            51.534043
           ],
           "type": "Point"
          },
          "id": "87",
          "lat": 51.534043,
          "locatie": "A58, Moergestel, Netherlands",
          "lon": 5.184314,
          "max": 0.00012466391964265105,
          "median": 0.00011150337377330288,
          "min": 9.927948121912777e-05,
          "ministerie": "Ministerie van Infrastructuur en Waterstaat",
          "project": "SmartwayZ.nl: InnovA58 (Eindhoven - Tilburg)",
          "title": "",
          "type": "Feature"
         },
         {
          "date": "2019-01-01",
          "geometry": {
           "coordinates": [
            5.184314,
            51.534043
           ],
           "type": "Point"
          },
          "id": "87",
          "lat": 51.534043,
          "locatie": "A58, Moergestel, Netherlands",
          "lon": 5.184314,
          "max": 0.00011872025061165914,
          "median": 0.00010346575632730521,
          "min": 8.451212488580495e-05,
          "ministerie": "Ministerie van Infrastructuur en Waterstaat",
          "project": "SmartwayZ.nl: InnovA58 (Eindhoven - Tilburg)",
          "title": "",
          "type": "Feature"
         },
         {
          "date": "2019-02-01",
          "geometry": {
           "coordinates": [
            5.184314,
            51.534043
           ],
           "type": "Point"
          },
          "id": "87",
          "lat": 51.534043,
          "locatie": "A58, Moergestel, Netherlands",
          "lon": 5.184314,
          "max": 0.0001479243287469163,
          "median": 0.00012989860843322897,
          "min": 0.00012015314861958943,
          "ministerie": "Ministerie van Infrastructuur en Waterstaat",
          "project": "SmartwayZ.nl: InnovA58 (Eindhoven - Tilburg)",
          "title": "",
          "type": "Feature"
         },
         {
          "date": "2019-03-01",
          "geometry": {
           "coordinates": [
            5.184314,
            51.534043
           ],
           "type": "Point"
          },
          "id": "87",
          "lat": 51.534043,
          "locatie": "A58, Moergestel, Netherlands",
          "lon": 5.184314,
          "max": 0.00014408170240803484,
          "median": 0.0001233802904607728,
          "min": 0.00010112148447660729,
          "ministerie": "Ministerie van Infrastructuur en Waterstaat",
          "project": "SmartwayZ.nl: InnovA58 (Eindhoven - Tilburg)",
          "title": "",
          "type": "Feature"
         },
         {
          "date": "2019-04-01",
          "geometry": {
           "coordinates": [
            5.184314,
            51.534043
           ],
           "type": "Point"
          },
          "id": "87",
          "lat": 51.534043,
          "locatie": "A58, Moergestel, Netherlands",
          "lon": 5.184314,
          "max": 0.00014983742492512395,
          "median": 0.00014100755105088034,
          "min": 0.00013204175866296316,
          "ministerie": "Ministerie van Infrastructuur en Waterstaat",
          "project": "SmartwayZ.nl: InnovA58 (Eindhoven - Tilburg)",
          "title": "",
          "type": "Feature"
         },
         {
          "date": "2019-05-01",
          "geometry": {
           "coordinates": [
            5.184314,
            51.534043
           ],
           "type": "Point"
          },
          "id": "87",
          "lat": 51.534043,
          "locatie": "A58, Moergestel, Netherlands",
          "lon": 5.184314,
          "max": 0.00013561575712661553,
          "median": 0.0001259918208234012,
          "min": 0.00011972712437922308,
          "ministerie": "Ministerie van Infrastructuur en Waterstaat",
          "project": "SmartwayZ.nl: InnovA58 (Eindhoven - Tilburg)",
          "title": "",
          "type": "Feature"
         },
         {
          "date": "2019-06-01",
          "geometry": {
           "coordinates": [
            5.184314,
            51.534043
           ],
           "type": "Point"
          },
          "id": "87",
          "lat": 51.534043,
          "locatie": "A58, Moergestel, Netherlands",
          "lon": 5.184314,
          "max": 0.00012029830784453997,
          "median": 0.00011471233301563188,
          "min": 0.00010747914728903773,
          "ministerie": "Ministerie van Infrastructuur en Waterstaat",
          "project": "SmartwayZ.nl: InnovA58 (Eindhoven - Tilburg)",
          "title": "",
          "type": "Feature"
         },
         {
          "date": "2019-07-01",
          "geometry": {
           "coordinates": [
            5.184314,
            51.534043
           ],
           "type": "Point"
          },
          "id": "87",
          "lat": 51.534043,
          "locatie": "A58, Moergestel, Netherlands",
          "lon": 5.184314,
          "max": 0.00011430047160905986,
          "median": 0.00010665776609821547,
          "min": 0.00010066212416859344,
          "ministerie": "Ministerie van Infrastructuur en Waterstaat",
          "project": "SmartwayZ.nl: InnovA58 (Eindhoven - Tilburg)",
          "title": "",
          "type": "Feature"
         },
         {
          "date": "2019-08-01",
          "geometry": {
           "coordinates": [
            5.184314,
            51.534043
           ],
           "type": "Point"
          },
          "id": "87",
          "lat": 51.534043,
          "locatie": "A58, Moergestel, Netherlands",
          "lon": 5.184314,
          "max": 0.00011977515532635152,
          "median": 0.00011273714309567798,
          "min": 0.00010651089905877598,
          "ministerie": "Ministerie van Infrastructuur en Waterstaat",
          "project": "SmartwayZ.nl: InnovA58 (Eindhoven - Tilburg)",
          "title": "",
          "type": "Feature"
         },
         {
          "date": "2019-09-01",
          "geometry": {
           "coordinates": [
            5.184314,
            51.534043
           ],
           "type": "Point"
          },
          "id": "87",
          "lat": 51.534043,
          "locatie": "A58, Moergestel, Netherlands",
          "lon": 5.184314,
          "max": 9.504764191780712e-05,
          "median": 8.942684770186322e-05,
          "min": 8.0786505721274e-05,
          "ministerie": "Ministerie van Infrastructuur en Waterstaat",
          "project": "SmartwayZ.nl: InnovA58 (Eindhoven - Tilburg)",
          "title": "",
          "type": "Feature"
         },
         {
          "date": "2018-07-01",
          "geometry": {
           "coordinates": [
            4.796284,
            51.536246999999996
           ],
           "type": "Point"
          },
          "id": "88",
          "lat": 51.536246999999996,
          "locatie": "A58, Ulvenhout, Netherlands",
          "lon": 4.796284,
          "max": 0.00014240917795948935,
          "median": 0.00013502741581547672,
          "min": 0.00012046473639021774,
          "ministerie": "Ministerie van Infrastructuur en Waterstaat",
          "project": "SmartwayZ.nl: InnovA58 (Sint-Annabosch - Galder)",
          "title": "",
          "type": "Feature"
         },
         {
          "date": "2018-08-01",
          "geometry": {
           "coordinates": [
            4.796284,
            51.536246999999996
           ],
           "type": "Point"
          },
          "id": "88",
          "lat": 51.536246999999996,
          "locatie": "A58, Ulvenhout, Netherlands",
          "lon": 4.796284,
          "max": 0.00013159493138352105,
          "median": 0.00011729320249287412,
          "min": 0.00010512605093562605,
          "ministerie": "Ministerie van Infrastructuur en Waterstaat",
          "project": "SmartwayZ.nl: InnovA58 (Sint-Annabosch - Galder)",
          "title": "",
          "type": "Feature"
         },
         {
          "date": "2018-09-01",
          "geometry": {
           "coordinates": [
            4.796284,
            51.536246999999996
           ],
           "type": "Point"
          },
          "id": "88",
          "lat": 51.536246999999996,
          "locatie": "A58, Ulvenhout, Netherlands",
          "lon": 4.796284,
          "max": 0.00014809312434735977,
          "median": 0.00014270179785634443,
          "min": 0.00012918803435118593,
          "ministerie": "Ministerie van Infrastructuur en Waterstaat",
          "project": "SmartwayZ.nl: InnovA58 (Sint-Annabosch - Galder)",
          "title": "",
          "type": "Feature"
         },
         {
          "date": "2018-10-01",
          "geometry": {
           "coordinates": [
            4.796284,
            51.536246999999996
           ],
           "type": "Point"
          },
          "id": "88",
          "lat": 51.536246999999996,
          "locatie": "A58, Ulvenhout, Netherlands",
          "lon": 4.796284,
          "max": 0.00012636955943889916,
          "median": 0.00011989314451512575,
          "min": 0.0001070354410330765,
          "ministerie": "Ministerie van Infrastructuur en Waterstaat",
          "project": "SmartwayZ.nl: InnovA58 (Sint-Annabosch - Galder)",
          "title": "",
          "type": "Feature"
         },
         {
          "date": "2018-11-01",
          "geometry": {
           "coordinates": [
            4.796284,
            51.536246999999996
           ],
           "type": "Point"
          },
          "id": "88",
          "lat": 51.536246999999996,
          "locatie": "A58, Ulvenhout, Netherlands",
          "lon": 4.796284,
          "max": 0.00015480673755519092,
          "median": 0.00013905979622497384,
          "min": 0.0001254674862138927,
          "ministerie": "Ministerie van Infrastructuur en Waterstaat",
          "project": "SmartwayZ.nl: InnovA58 (Sint-Annabosch - Galder)",
          "title": "",
          "type": "Feature"
         },
         {
          "date": "2018-12-01",
          "geometry": {
           "coordinates": [
            4.796284,
            51.536246999999996
           ],
           "type": "Point"
          },
          "id": "88",
          "lat": 51.536246999999996,
          "locatie": "A58, Ulvenhout, Netherlands",
          "lon": 4.796284,
          "max": 0.00012907197522873332,
          "median": 0.00011176747648278251,
          "min": 0.0001005927479127422,
          "ministerie": "Ministerie van Infrastructuur en Waterstaat",
          "project": "SmartwayZ.nl: InnovA58 (Sint-Annabosch - Galder)",
          "title": "",
          "type": "Feature"
         },
         {
          "date": "2019-01-01",
          "geometry": {
           "coordinates": [
            4.796284,
            51.536246999999996
           ],
           "type": "Point"
          },
          "id": "88",
          "lat": 51.536246999999996,
          "locatie": "A58, Ulvenhout, Netherlands",
          "lon": 4.796284,
          "max": 0.00010982029925798997,
          "median": 9.840497461694039e-05,
          "min": 7.600697993798041e-05,
          "ministerie": "Ministerie van Infrastructuur en Waterstaat",
          "project": "SmartwayZ.nl: InnovA58 (Sint-Annabosch - Galder)",
          "title": "",
          "type": "Feature"
         },
         {
          "date": "2019-02-01",
          "geometry": {
           "coordinates": [
            4.796284,
            51.536246999999996
           ],
           "type": "Point"
          },
          "id": "88",
          "lat": 51.536246999999996,
          "locatie": "A58, Ulvenhout, Netherlands",
          "lon": 4.796284,
          "max": 0.0001603310665814206,
          "median": 0.00013662617891452763,
          "min": 0.00011718273890437558,
          "ministerie": "Ministerie van Infrastructuur en Waterstaat",
          "project": "SmartwayZ.nl: InnovA58 (Sint-Annabosch - Galder)",
          "title": "",
          "type": "Feature"
         },
         {
          "date": "2019-03-01",
          "geometry": {
           "coordinates": [
            4.796284,
            51.536246999999996
           ],
           "type": "Point"
          },
          "id": "88",
          "lat": 51.536246999999996,
          "locatie": "A58, Ulvenhout, Netherlands",
          "lon": 4.796284,
          "max": 0.0001251023588734188,
          "median": 0.00010667594688129611,
          "min": 9.733323661829452e-05,
          "ministerie": "Ministerie van Infrastructuur en Waterstaat",
          "project": "SmartwayZ.nl: InnovA58 (Sint-Annabosch - Galder)",
          "title": "",
          "type": "Feature"
         },
         {
          "date": "2019-04-01",
          "geometry": {
           "coordinates": [
            4.796284,
            51.536246999999996
           ],
           "type": "Point"
          },
          "id": "88",
          "lat": 51.536246999999996,
          "locatie": "A58, Ulvenhout, Netherlands",
          "lon": 4.796284,
          "max": 0.0001551810564706102,
          "median": 0.00014189042966234985,
          "min": 0.0001340382415428069,
          "ministerie": "Ministerie van Infrastructuur en Waterstaat",
          "project": "SmartwayZ.nl: InnovA58 (Sint-Annabosch - Galder)",
          "title": "",
          "type": "Feature"
         },
         {
          "date": "2019-05-01",
          "geometry": {
           "coordinates": [
            4.796284,
            51.536246999999996
           ],
           "type": "Point"
          },
          "id": "88",
          "lat": 51.536246999999996,
          "locatie": "A58, Ulvenhout, Netherlands",
          "lon": 4.796284,
          "max": 0.0001331025512530076,
          "median": 0.00012765555695900066,
          "min": 0.00012310037144439072,
          "ministerie": "Ministerie van Infrastructuur en Waterstaat",
          "project": "SmartwayZ.nl: InnovA58 (Sint-Annabosch - Galder)",
          "title": "",
          "type": "Feature"
         },
         {
          "date": "2019-06-01",
          "geometry": {
           "coordinates": [
            4.796284,
            51.536246999999996
           ],
           "type": "Point"
          },
          "id": "88",
          "lat": 51.536246999999996,
          "locatie": "A58, Ulvenhout, Netherlands",
          "lon": 4.796284,
          "max": 0.00011973248575328547,
          "median": 0.00011440597623038775,
          "min": 0.00010815906857101142,
          "ministerie": "Ministerie van Infrastructuur en Waterstaat",
          "project": "SmartwayZ.nl: InnovA58 (Sint-Annabosch - Galder)",
          "title": "",
          "type": "Feature"
         },
         {
          "date": "2019-07-01",
          "geometry": {
           "coordinates": [
            4.796284,
            51.536246999999996
           ],
           "type": "Point"
          },
          "id": "88",
          "lat": 51.536246999999996,
          "locatie": "A58, Ulvenhout, Netherlands",
          "lon": 4.796284,
          "max": 0.00011685082256100012,
          "median": 0.00011081302221409706,
          "min": 0.00010269407129874739,
          "ministerie": "Ministerie van Infrastructuur en Waterstaat",
          "project": "SmartwayZ.nl: InnovA58 (Sint-Annabosch - Galder)",
          "title": "",
          "type": "Feature"
         },
         {
          "date": "2019-08-01",
          "geometry": {
           "coordinates": [
            4.796284,
            51.536246999999996
           ],
           "type": "Point"
          },
          "id": "88",
          "lat": 51.536246999999996,
          "locatie": "A58, Ulvenhout, Netherlands",
          "lon": 4.796284,
          "max": 0.00012712451574325184,
          "median": 0.00011593051069413399,
          "min": 0.00010336625564377755,
          "ministerie": "Ministerie van Infrastructuur en Waterstaat",
          "project": "SmartwayZ.nl: InnovA58 (Sint-Annabosch - Galder)",
          "title": "",
          "type": "Feature"
         },
         {
          "date": "2019-09-01",
          "geometry": {
           "coordinates": [
            4.796284,
            51.536246999999996
           ],
           "type": "Point"
          },
          "id": "88",
          "lat": 51.536246999999996,
          "locatie": "A58, Ulvenhout, Netherlands",
          "lon": 4.796284,
          "max": 9.765759552704764e-05,
          "median": 9.017740368866124e-05,
          "min": 8.142354660371758e-05,
          "ministerie": "Ministerie van Infrastructuur en Waterstaat",
          "project": "SmartwayZ.nl: InnovA58 (Sint-Annabosch - Galder)",
          "title": "",
          "type": "Feature"
         },
         {
          "date": "2018-07-01",
          "geometry": {
           "coordinates": [
            4.409507,
            51.922369
           ],
           "type": "Point"
          },
          "id": "89",
          "lat": 51.922369,
          "locatie": "Parallelweg, Schiedam, Netherlands",
          "lon": 4.409507,
          "max": 0.00017557049634328383,
          "median": 0.0001479401209622317,
          "min": 0.00012635670063759256,
          "ministerie": "Ministerie van Infrastructuur en Waterstaat",
          "project": "Sporen Schiedam - Rotterdam",
          "title": "",
          "type": "Feature"
         },
         {
          "date": "2018-08-01",
          "geometry": {
           "coordinates": [
            4.409507,
            51.922369
           ],
           "type": "Point"
          },
          "id": "89",
          "lat": 51.922369,
          "locatie": "Parallelweg, Schiedam, Netherlands",
          "lon": 4.409507,
          "max": 0.00011730908227036707,
          "median": 0.00011218884537811391,
          "min": 0.00010635669433238672,
          "ministerie": "Ministerie van Infrastructuur en Waterstaat",
          "project": "Sporen Schiedam - Rotterdam",
          "title": "",
          "type": "Feature"
         },
         {
          "date": "2018-09-01",
          "geometry": {
           "coordinates": [
            4.409507,
            51.922369
           ],
           "type": "Point"
          },
          "id": "89",
          "lat": 51.922369,
          "locatie": "Parallelweg, Schiedam, Netherlands",
          "lon": 4.409507,
          "max": 0.0001563638506922871,
          "median": 0.00013812880264324386,
          "min": 0.00011704262723641547,
          "ministerie": "Ministerie van Infrastructuur en Waterstaat",
          "project": "Sporen Schiedam - Rotterdam",
          "title": "",
          "type": "Feature"
         },
         {
          "date": "2018-10-01",
          "geometry": {
           "coordinates": [
            4.409507,
            51.922369
           ],
           "type": "Point"
          },
          "id": "89",
          "lat": 51.922369,
          "locatie": "Parallelweg, Schiedam, Netherlands",
          "lon": 4.409507,
          "max": 0.0001568942534599349,
          "median": 0.00014106083723707351,
          "min": 0.0001170237737824209,
          "ministerie": "Ministerie van Infrastructuur en Waterstaat",
          "project": "Sporen Schiedam - Rotterdam",
          "title": "",
          "type": "Feature"
         },
         {
          "date": "2018-11-01",
          "geometry": {
           "coordinates": [
            4.409507,
            51.922369
           ],
           "type": "Point"
          },
          "id": "89",
          "lat": 51.922369,
          "locatie": "Parallelweg, Schiedam, Netherlands",
          "lon": 4.409507,
          "max": 0.00017549744047039238,
          "median": 0.00015914959784699118,
          "min": 0.0001463198049632813,
          "ministerie": "Ministerie van Infrastructuur en Waterstaat",
          "project": "Sporen Schiedam - Rotterdam",
          "title": "",
          "type": "Feature"
         },
         {
          "date": "2018-12-01",
          "geometry": {
           "coordinates": [
            4.409507,
            51.922369
           ],
           "type": "Point"
          },
          "id": "89",
          "lat": 51.922369,
          "locatie": "Parallelweg, Schiedam, Netherlands",
          "lon": 4.409507,
          "max": 0.00012301845708861947,
          "median": 0.00010662085765391615,
          "min": 9.611297652811635e-05,
          "ministerie": "Ministerie van Infrastructuur en Waterstaat",
          "project": "Sporen Schiedam - Rotterdam",
          "title": "",
          "type": "Feature"
         },
         {
          "date": "2019-01-01",
          "geometry": {
           "coordinates": [
            4.409507,
            51.922369
           ],
           "type": "Point"
          },
          "id": "89",
          "lat": 51.922369,
          "locatie": "Parallelweg, Schiedam, Netherlands",
          "lon": 4.409507,
          "max": 0.00010471891860702519,
          "median": 8.586660260334611e-05,
          "min": 5.795168660242245e-05,
          "ministerie": "Ministerie van Infrastructuur en Waterstaat",
          "project": "Sporen Schiedam - Rotterdam",
          "title": "",
          "type": "Feature"
         },
         {
          "date": "2019-02-01",
          "geometry": {
           "coordinates": [
            4.409507,
            51.922369
           ],
           "type": "Point"
          },
          "id": "89",
          "lat": 51.922369,
          "locatie": "Parallelweg, Schiedam, Netherlands",
          "lon": 4.409507,
          "max": 0.00018764226083337157,
          "median": 0.00017907512665260583,
          "min": 0.00015514246104055072,
          "ministerie": "Ministerie van Infrastructuur en Waterstaat",
          "project": "Sporen Schiedam - Rotterdam",
          "title": "",
          "type": "Feature"
         },
         {
          "date": "2019-03-01",
          "geometry": {
           "coordinates": [
            4.409507,
            51.922369
           ],
           "type": "Point"
          },
          "id": "89",
          "lat": 51.922369,
          "locatie": "Parallelweg, Schiedam, Netherlands",
          "lon": 4.409507,
          "max": 0.00013387987203288248,
          "median": 0.00011464343697298318,
          "min": 9.170482371700928e-05,
          "ministerie": "Ministerie van Infrastructuur en Waterstaat",
          "project": "Sporen Schiedam - Rotterdam",
          "title": "",
          "type": "Feature"
         },
         {
          "date": "2019-04-01",
          "geometry": {
           "coordinates": [
            4.409507,
            51.922369
           ],
           "type": "Point"
          },
          "id": "89",
          "lat": 51.922369,
          "locatie": "Parallelweg, Schiedam, Netherlands",
          "lon": 4.409507,
          "max": 0.00017158121234004108,
          "median": 0.00014780825891825612,
          "min": 0.00013348280410269866,
          "ministerie": "Ministerie van Infrastructuur en Waterstaat",
          "project": "Sporen Schiedam - Rotterdam",
          "title": "",
          "type": "Feature"
         },
         {
          "date": "2019-05-01",
          "geometry": {
           "coordinates": [
            4.409507,
            51.922369
           ],
           "type": "Point"
          },
          "id": "89",
          "lat": 51.922369,
          "locatie": "Parallelweg, Schiedam, Netherlands",
          "lon": 4.409507,
          "max": 0.00013026347205602373,
          "median": 0.00012363377079043536,
          "min": 0.00011446006325334745,
          "ministerie": "Ministerie van Infrastructuur en Waterstaat",
          "project": "Sporen Schiedam - Rotterdam",
          "title": "",
          "type": "Feature"
         },
         {
          "date": "2019-06-01",
          "geometry": {
           "coordinates": [
            4.409507,
            51.922369
           ],
           "type": "Point"
          },
          "id": "89",
          "lat": 51.922369,
          "locatie": "Parallelweg, Schiedam, Netherlands",
          "lon": 4.409507,
          "max": 0.00014898880103941928,
          "median": 0.00013253195356810465,
          "min": 0.00011507602619239415,
          "ministerie": "Ministerie van Infrastructuur en Waterstaat",
          "project": "Sporen Schiedam - Rotterdam",
          "title": "",
          "type": "Feature"
         },
         {
          "date": "2019-07-01",
          "geometry": {
           "coordinates": [
            4.409507,
            51.922369
           ],
           "type": "Point"
          },
          "id": "89",
          "lat": 51.922369,
          "locatie": "Parallelweg, Schiedam, Netherlands",
          "lon": 4.409507,
          "max": 0.00013087142529512926,
          "median": 0.00012360510299913585,
          "min": 0.00011244397319387645,
          "ministerie": "Ministerie van Infrastructuur en Waterstaat",
          "project": "Sporen Schiedam - Rotterdam",
          "title": "",
          "type": "Feature"
         },
         {
          "date": "2019-08-01",
          "geometry": {
           "coordinates": [
            4.409507,
            51.922369
           ],
           "type": "Point"
          },
          "id": "89",
          "lat": 51.922369,
          "locatie": "Parallelweg, Schiedam, Netherlands",
          "lon": 4.409507,
          "max": 0.00011890967289218679,
          "median": 0.00011085500491133014,
          "min": 9.91758715827018e-05,
          "ministerie": "Ministerie van Infrastructuur en Waterstaat",
          "project": "Sporen Schiedam - Rotterdam",
          "title": "",
          "type": "Feature"
         },
         {
          "date": "2019-09-01",
          "geometry": {
           "coordinates": [
            4.409507,
            51.922369
           ],
           "type": "Point"
          },
          "id": "89",
          "lat": 51.922369,
          "locatie": "Parallelweg, Schiedam, Netherlands",
          "lon": 4.409507,
          "max": 0.0001240112069353927,
          "median": 0.00010624718360358268,
          "min": 8.716339652892202e-05,
          "ministerie": "Ministerie van Infrastructuur en Waterstaat",
          "project": "Sporen Schiedam - Rotterdam",
          "title": "",
          "type": "Feature"
         },
         {
          "date": "2018-07-01",
          "geometry": {
           "coordinates": [
            5.153583,
            52.103029
           ],
           "type": "Point"
          },
          "id": "44",
          "lat": 52.103029,
          "locatie": "A27, Utrecht, Netherlands",
          "lon": 5.153583,
          "max": 0.00013213703641667962,
          "median": 0.00012216567943867292,
          "min": 0.00011306453167637885,
          "ministerie": "Ministerie van Infrastructuur en Waterstaat",
          "project": "A27/A12 Ring Utrecht",
          "title": "",
          "type": "Feature"
         },
         {
          "date": "2018-08-01",
          "geometry": {
           "coordinates": [
            5.153583,
            52.103029
           ],
           "type": "Point"
          },
          "id": "44",
          "lat": 52.103029,
          "locatie": "A27, Utrecht, Netherlands",
          "lon": 5.153583,
          "max": 0.00012693553835550986,
          "median": 0.00011796460899964926,
          "min": 0.00011001854363712482,
          "ministerie": "Ministerie van Infrastructuur en Waterstaat",
          "project": "A27/A12 Ring Utrecht",
          "title": "",
          "type": "Feature"
         },
         {
          "date": "2018-09-01",
          "geometry": {
           "coordinates": [
            5.153583,
            52.103029
           ],
           "type": "Point"
          },
          "id": "44",
          "lat": 52.103029,
          "locatie": "A27, Utrecht, Netherlands",
          "lon": 5.153583,
          "max": 0.00017630002956838642,
          "median": 0.0001513676820123528,
          "min": 0.00013258519188911696,
          "ministerie": "Ministerie van Infrastructuur en Waterstaat",
          "project": "A27/A12 Ring Utrecht",
          "title": "",
          "type": "Feature"
         },
         {
          "date": "2018-10-01",
          "geometry": {
           "coordinates": [
            5.153583,
            52.103029
           ],
           "type": "Point"
          },
          "id": "44",
          "lat": 52.103029,
          "locatie": "A27, Utrecht, Netherlands",
          "lon": 5.153583,
          "max": 0.00012719911319436505,
          "median": 0.00011413416977329909,
          "min": 0.0001068796783635315,
          "ministerie": "Ministerie van Infrastructuur en Waterstaat",
          "project": "A27/A12 Ring Utrecht",
          "title": "",
          "type": "Feature"
         },
         {
          "date": "2018-11-01",
          "geometry": {
           "coordinates": [
            5.153583,
            52.103029
           ],
           "type": "Point"
          },
          "id": "44",
          "lat": 52.103029,
          "locatie": "A27, Utrecht, Netherlands",
          "lon": 5.153583,
          "max": 0.00015289878823612307,
          "median": 0.00013475077237721768,
          "min": 0.00011967091603251153,
          "ministerie": "Ministerie van Infrastructuur en Waterstaat",
          "project": "A27/A12 Ring Utrecht",
          "title": "",
          "type": "Feature"
         },
         {
          "date": "2018-12-01",
          "geometry": {
           "coordinates": [
            5.153583,
            52.103029
           ],
           "type": "Point"
          },
          "id": "44",
          "lat": 52.103029,
          "locatie": "A27, Utrecht, Netherlands",
          "lon": 5.153583,
          "max": 0.00012524104386102408,
          "median": 0.00011216611892450601,
          "min": 9.822286665439606e-05,
          "ministerie": "Ministerie van Infrastructuur en Waterstaat",
          "project": "A27/A12 Ring Utrecht",
          "title": "",
          "type": "Feature"
         },
         {
          "date": "2019-01-01",
          "geometry": {
           "coordinates": [
            5.153583,
            52.103029
           ],
           "type": "Point"
          },
          "id": "44",
          "lat": 52.103029,
          "locatie": "A27, Utrecht, Netherlands",
          "lon": 5.153583,
          "max": 0.00010327302520482835,
          "median": 8.563582377973944e-05,
          "min": 7.374475660576422e-05,
          "ministerie": "Ministerie van Infrastructuur en Waterstaat",
          "project": "A27/A12 Ring Utrecht",
          "title": "",
          "type": "Feature"
         },
         {
          "date": "2019-02-01",
          "geometry": {
           "coordinates": [
            5.153583,
            52.103029
           ],
           "type": "Point"
          },
          "id": "44",
          "lat": 52.103029,
          "locatie": "A27, Utrecht, Netherlands",
          "lon": 5.153583,
          "max": 0.0001583760094945319,
          "median": 0.0001433468860341236,
          "min": 0.00012808639233819011,
          "ministerie": "Ministerie van Infrastructuur en Waterstaat",
          "project": "A27/A12 Ring Utrecht",
          "title": "",
          "type": "Feature"
         },
         {
          "date": "2019-03-01",
          "geometry": {
           "coordinates": [
            5.153583,
            52.103029
           ],
           "type": "Point"
          },
          "id": "44",
          "lat": 52.103029,
          "locatie": "A27, Utrecht, Netherlands",
          "lon": 5.153583,
          "max": 0.00011808029363114358,
          "median": 0.00010805332149725394,
          "min": 9.452093217987567e-05,
          "ministerie": "Ministerie van Infrastructuur en Waterstaat",
          "project": "A27/A12 Ring Utrecht",
          "title": "",
          "type": "Feature"
         },
         {
          "date": "2019-04-01",
          "geometry": {
           "coordinates": [
            5.153583,
            52.103029
           ],
           "type": "Point"
          },
          "id": "44",
          "lat": 52.103029,
          "locatie": "A27, Utrecht, Netherlands",
          "lon": 5.153583,
          "max": 0.00013186570832761455,
          "median": 0.00012491100679687883,
          "min": 0.00011455148319891885,
          "ministerie": "Ministerie van Infrastructuur en Waterstaat",
          "project": "A27/A12 Ring Utrecht",
          "title": "",
          "type": "Feature"
         },
         {
          "date": "2019-05-01",
          "geometry": {
           "coordinates": [
            5.153583,
            52.103029
           ],
           "type": "Point"
          },
          "id": "44",
          "lat": 52.103029,
          "locatie": "A27, Utrecht, Netherlands",
          "lon": 5.153583,
          "max": 0.00012131910501298406,
          "median": 0.00011815589462126376,
          "min": 0.00011053377080157676,
          "ministerie": "Ministerie van Infrastructuur en Waterstaat",
          "project": "A27/A12 Ring Utrecht",
          "title": "",
          "type": "Feature"
         },
         {
          "date": "2019-06-01",
          "geometry": {
           "coordinates": [
            5.153583,
            52.103029
           ],
           "type": "Point"
          },
          "id": "44",
          "lat": 52.103029,
          "locatie": "A27, Utrecht, Netherlands",
          "lon": 5.153583,
          "max": 0.00011725946200354432,
          "median": 0.00011081842257741799,
          "min": 0.00010290653153788298,
          "ministerie": "Ministerie van Infrastructuur en Waterstaat",
          "project": "A27/A12 Ring Utrecht",
          "title": "",
          "type": "Feature"
         },
         {
          "date": "2019-07-01",
          "geometry": {
           "coordinates": [
            5.153583,
            52.103029
           ],
           "type": "Point"
          },
          "id": "44",
          "lat": 52.103029,
          "locatie": "A27, Utrecht, Netherlands",
          "lon": 5.153583,
          "max": 0.0001204138325947146,
          "median": 0.00011322346836095676,
          "min": 0.00010423721687402576,
          "ministerie": "Ministerie van Infrastructuur en Waterstaat",
          "project": "A27/A12 Ring Utrecht",
          "title": "",
          "type": "Feature"
         },
         {
          "date": "2019-08-01",
          "geometry": {
           "coordinates": [
            5.153583,
            52.103029
           ],
           "type": "Point"
          },
          "id": "44",
          "lat": 52.103029,
          "locatie": "A27, Utrecht, Netherlands",
          "lon": 5.153583,
          "max": 0.000129140586016704,
          "median": 0.00012261441166381383,
          "min": 0.0001101005109376274,
          "ministerie": "Ministerie van Infrastructuur en Waterstaat",
          "project": "A27/A12 Ring Utrecht",
          "title": "",
          "type": "Feature"
         },
         {
          "date": "2019-09-01",
          "geometry": {
           "coordinates": [
            5.153583,
            52.103029
           ],
           "type": "Point"
          },
          "id": "44",
          "lat": 52.103029,
          "locatie": "A27, Utrecht, Netherlands",
          "lon": 5.153583,
          "max": 0.00010483852246217659,
          "median": 9.130437250747626e-05,
          "min": 7.650674888282083e-05,
          "ministerie": "Ministerie van Infrastructuur en Waterstaat",
          "project": "A27/A12 Ring Utrecht",
          "title": "",
          "type": "Feature"
         },
         {
          "date": "2018-07-01",
          "geometry": {
           "coordinates": [
            5.425839,
            52.172857
           ],
           "type": "Point"
          },
          "id": "45",
          "lat": 52.172857,
          "locatie": "A28, Amersfoort, Netherlands",
          "lon": 5.425839,
          "max": 0.0001187526979850955,
          "median": 0.00011385266043362208,
          "min": 0.00010642141453437551,
          "ministerie": "Ministerie van Infrastructuur en Waterstaat",
          "project": "A28/A1 knooppunt Hoevelaken",
          "title": "",
          "type": "Feature"
         },
         {
          "date": "2018-08-01",
          "geometry": {
           "coordinates": [
            5.425839,
            52.172857
           ],
           "type": "Point"
          },
          "id": "45",
          "lat": 52.172857,
          "locatie": "A28, Amersfoort, Netherlands",
          "lon": 5.425839,
          "max": 0.00011478987745202715,
          "median": 0.00011096716349672637,
          "min": 0.0001054226388792714,
          "ministerie": "Ministerie van Infrastructuur en Waterstaat",
          "project": "A28/A1 knooppunt Hoevelaken",
          "title": "",
          "type": "Feature"
         },
         {
          "date": "2018-09-01",
          "geometry": {
           "coordinates": [
            5.425839,
            52.172857
           ],
           "type": "Point"
          },
          "id": "45",
          "lat": 52.172857,
          "locatie": "A28, Amersfoort, Netherlands",
          "lon": 5.425839,
          "max": 0.00015406485121211434,
          "median": 0.00014030936936689888,
          "min": 0.00011918036398128606,
          "ministerie": "Ministerie van Infrastructuur en Waterstaat",
          "project": "A28/A1 knooppunt Hoevelaken",
          "title": "",
          "type": "Feature"
         },
         {
          "date": "2018-10-01",
          "geometry": {
           "coordinates": [
            5.425839,
            52.172857
           ],
           "type": "Point"
          },
          "id": "45",
          "lat": 52.172857,
          "locatie": "A28, Amersfoort, Netherlands",
          "lon": 5.425839,
          "max": 0.00012287374556763098,
          "median": 0.00011533834935457748,
          "min": 0.00010882715560154058,
          "ministerie": "Ministerie van Infrastructuur en Waterstaat",
          "project": "A28/A1 knooppunt Hoevelaken",
          "title": "",
          "type": "Feature"
         },
         {
          "date": "2018-11-01",
          "geometry": {
           "coordinates": [
            5.425839,
            52.172857
           ],
           "type": "Point"
          },
          "id": "45",
          "lat": 52.172857,
          "locatie": "A28, Amersfoort, Netherlands",
          "lon": 5.425839,
          "max": 0.00015051752223764755,
          "median": 0.00013575502245277224,
          "min": 0.00012336153598138503,
          "ministerie": "Ministerie van Infrastructuur en Waterstaat",
          "project": "A28/A1 knooppunt Hoevelaken",
          "title": "",
          "type": "Feature"
         },
         {
          "date": "2018-12-01",
          "geometry": {
           "coordinates": [
            5.425839,
            52.172857
           ],
           "type": "Point"
          },
          "id": "45",
          "lat": 52.172857,
          "locatie": "A28, Amersfoort, Netherlands",
          "lon": 5.425839,
          "max": 0.0001131357904687451,
          "median": 0.00010544501567478577,
          "min": 9.516022581495287e-05,
          "ministerie": "Ministerie van Infrastructuur en Waterstaat",
          "project": "A28/A1 knooppunt Hoevelaken",
          "title": "",
          "type": "Feature"
         },
         {
          "date": "2019-01-01",
          "geometry": {
           "coordinates": [
            5.425839,
            52.172857
           ],
           "type": "Point"
          },
          "id": "45",
          "lat": 52.172857,
          "locatie": "A28, Amersfoort, Netherlands",
          "lon": 5.425839,
          "max": 0.00010009077275914451,
          "median": 8.535361848771572e-05,
          "min": 7.048650209632783e-05,
          "ministerie": "Ministerie van Infrastructuur en Waterstaat",
          "project": "A28/A1 knooppunt Hoevelaken",
          "title": "",
          "type": "Feature"
         },
         {
          "date": "2019-02-01",
          "geometry": {
           "coordinates": [
            5.425839,
            52.172857
           ],
           "type": "Point"
          },
          "id": "45",
          "lat": 52.172857,
          "locatie": "A28, Amersfoort, Netherlands",
          "lon": 5.425839,
          "max": 0.00017318718892056495,
          "median": 0.00015459148562513292,
          "min": 0.0001312531967414543,
          "ministerie": "Ministerie van Infrastructuur en Waterstaat",
          "project": "A28/A1 knooppunt Hoevelaken",
          "title": "",
          "type": "Feature"
         },
         {
          "date": "2019-03-01",
          "geometry": {
           "coordinates": [
            5.425839,
            52.172857
           ],
           "type": "Point"
          },
          "id": "45",
          "lat": 52.172857,
          "locatie": "A28, Amersfoort, Netherlands",
          "lon": 5.425839,
          "max": 0.00011845560220535845,
          "median": 0.00010584200936136767,
          "min": 9.724745909968244e-05,
          "ministerie": "Ministerie van Infrastructuur en Waterstaat",
          "project": "A28/A1 knooppunt Hoevelaken",
          "title": "",
          "type": "Feature"
         },
         {
          "date": "2019-04-01",
          "geometry": {
           "coordinates": [
            5.425839,
            52.172857
           ],
           "type": "Point"
          },
          "id": "45",
          "lat": 52.172857,
          "locatie": "A28, Amersfoort, Netherlands",
          "lon": 5.425839,
          "max": 0.00012328482989687473,
          "median": 0.00011204542376540128,
          "min": 0.00010772002133307979,
          "ministerie": "Ministerie van Infrastructuur en Waterstaat",
          "project": "A28/A1 knooppunt Hoevelaken",
          "title": "",
          "type": "Feature"
         },
         {
          "date": "2019-05-01",
          "geometry": {
           "coordinates": [
            5.425839,
            52.172857
           ],
           "type": "Point"
          },
          "id": "45",
          "lat": 52.172857,
          "locatie": "A28, Amersfoort, Netherlands",
          "lon": 5.425839,
          "max": 0.00011760371205231637,
          "median": 0.00011396561138919564,
          "min": 0.00010629237294779159,
          "ministerie": "Ministerie van Infrastructuur en Waterstaat",
          "project": "A28/A1 knooppunt Hoevelaken",
          "title": "",
          "type": "Feature"
         },
         {
          "date": "2019-06-01",
          "geometry": {
           "coordinates": [
            5.425839,
            52.172857
           ],
           "type": "Point"
          },
          "id": "45",
          "lat": 52.172857,
          "locatie": "A28, Amersfoort, Netherlands",
          "lon": 5.425839,
          "max": 0.00011413906759116799,
          "median": 0.00011040555546060205,
          "min": 0.0001045304709219354,
          "ministerie": "Ministerie van Infrastructuur en Waterstaat",
          "project": "A28/A1 knooppunt Hoevelaken",
          "title": "",
          "type": "Feature"
         },
         {
          "date": "2019-07-01",
          "geometry": {
           "coordinates": [
            5.425839,
            52.172857
           ],
           "type": "Point"
          },
          "id": "45",
          "lat": 52.172857,
          "locatie": "A28, Amersfoort, Netherlands",
          "lon": 5.425839,
          "max": 0.00010820111381310598,
          "median": 0.00010380530875409022,
          "min": 9.684546554951343e-05,
          "ministerie": "Ministerie van Infrastructuur en Waterstaat",
          "project": "A28/A1 knooppunt Hoevelaken",
          "title": "",
          "type": "Feature"
         },
         {
          "date": "2019-08-01",
          "geometry": {
           "coordinates": [
            5.425839,
            52.172857
           ],
           "type": "Point"
          },
          "id": "45",
          "lat": 52.172857,
          "locatie": "A28, Amersfoort, Netherlands",
          "lon": 5.425839,
          "max": 0.00012628505646716803,
          "median": 0.00011759272191605934,
          "min": 0.00011208042269572616,
          "ministerie": "Ministerie van Infrastructuur en Waterstaat",
          "project": "A28/A1 knooppunt Hoevelaken",
          "title": "",
          "type": "Feature"
         },
         {
          "date": "2019-09-01",
          "geometry": {
           "coordinates": [
            5.425839,
            52.172857
           ],
           "type": "Point"
          },
          "id": "45",
          "lat": 52.172857,
          "locatie": "A28, Amersfoort, Netherlands",
          "lon": 5.425839,
          "max": 0.00011377337410396567,
          "median": 0.00010094519988651813,
          "min": 7.542588371904682e-05,
          "ministerie": "Ministerie van Infrastructuur en Waterstaat",
          "project": "A28/A1 knooppunt Hoevelaken",
          "title": "",
          "type": "Feature"
         },
         {
          "date": "2018-07-01",
          "geometry": {
           "coordinates": [
            4.348639,
            52.043546
           ],
           "type": "Point"
          },
          "id": "46",
          "lat": 52.043546,
          "locatie": "A4, The Hague, Netherlands",
          "lon": 4.348639,
          "max": 0.0001429291692612863,
          "median": 0.00013021824170695817,
          "min": 0.000114780978916122,
          "ministerie": "Ministerie van Infrastructuur en Waterstaat",
          "project": "A4 Passage Den Haag",
          "title": "",
          "type": "Feature"
         },
         {
          "date": "2018-08-01",
          "geometry": {
           "coordinates": [
            4.348639,
            52.043546
           ],
           "type": "Point"
          },
          "id": "46",
          "lat": 52.043546,
          "locatie": "A4, The Hague, Netherlands",
          "lon": 4.348639,
          "max": 0.00011594999999427536,
          "median": 0.00011085127334808931,
          "min": 9.795760706765577e-05,
          "ministerie": "Ministerie van Infrastructuur en Waterstaat",
          "project": "A4 Passage Den Haag",
          "title": "",
          "type": "Feature"
         },
         {
          "date": "2018-09-01",
          "geometry": {
           "coordinates": [
            4.348639,
            52.043546
           ],
           "type": "Point"
          },
          "id": "46",
          "lat": 52.043546,
          "locatie": "A4, The Hague, Netherlands",
          "lon": 4.348639,
          "max": 0.00014122945524950122,
          "median": 0.00012789534106939792,
          "min": 0.00011666661666265082,
          "ministerie": "Ministerie van Infrastructuur en Waterstaat",
          "project": "A4 Passage Den Haag",
          "title": "",
          "type": "Feature"
         },
         {
          "date": "2018-10-01",
          "geometry": {
           "coordinates": [
            4.348639,
            52.043546
           ],
           "type": "Point"
          },
          "id": "46",
          "lat": 52.043546,
          "locatie": "A4, The Hague, Netherlands",
          "lon": 4.348639,
          "max": 0.00014373456827937095,
          "median": 0.0001234642696558103,
          "min": 0.00011184594768565148,
          "ministerie": "Ministerie van Infrastructuur en Waterstaat",
          "project": "A4 Passage Den Haag",
          "title": "",
          "type": "Feature"
         },
         {
          "date": "2018-11-01",
          "geometry": {
           "coordinates": [
            4.348639,
            52.043546
           ],
           "type": "Point"
          },
          "id": "46",
          "lat": 52.043546,
          "locatie": "A4, The Hague, Netherlands",
          "lon": 4.348639,
          "max": 0.00018960379876391872,
          "median": 0.0001582765398779884,
          "min": 0.0001463198049632813,
          "ministerie": "Ministerie van Infrastructuur en Waterstaat",
          "project": "A4 Passage Den Haag",
          "title": "",
          "type": "Feature"
         },
         {
          "date": "2018-12-01",
          "geometry": {
           "coordinates": [
            4.348639,
            52.043546
           ],
           "type": "Point"
          },
          "id": "46",
          "lat": 52.043546,
          "locatie": "A4, The Hague, Netherlands",
          "lon": 4.348639,
          "max": 0.00012659441563300788,
          "median": 0.0001039363128347818,
          "min": 8.370876457775012e-05,
          "ministerie": "Ministerie van Infrastructuur en Waterstaat",
          "project": "A4 Passage Den Haag",
          "title": "",
          "type": "Feature"
         },
         {
          "date": "2019-01-01",
          "geometry": {
           "coordinates": [
            4.348639,
            52.043546
           ],
           "type": "Point"
          },
          "id": "46",
          "lat": 52.043546,
          "locatie": "A4, The Hague, Netherlands",
          "lon": 4.348639,
          "max": 9.009664790937677e-05,
          "median": 6.573000271628368e-05,
          "min": 5.074668843008112e-05,
          "ministerie": "Ministerie van Infrastructuur en Waterstaat",
          "project": "A4 Passage Den Haag",
          "title": "",
          "type": "Feature"
         },
         {
          "date": "2019-02-01",
          "geometry": {
           "coordinates": [
            4.348639,
            52.043546
           ],
           "type": "Point"
          },
          "id": "46",
          "lat": 52.043546,
          "locatie": "A4, The Hague, Netherlands",
          "lon": 4.348639,
          "max": 0.00020651046016331771,
          "median": 0.00017905626542057156,
          "min": 0.00014479778474196792,
          "ministerie": "Ministerie van Infrastructuur en Waterstaat",
          "project": "A4 Passage Den Haag",
          "title": "",
          "type": "Feature"
         },
         {
          "date": "2019-03-01",
          "geometry": {
           "coordinates": [
            4.348639,
            52.043546
           ],
           "type": "Point"
          },
          "id": "46",
          "lat": 52.043546,
          "locatie": "A4, The Hague, Netherlands",
          "lon": 4.348639,
          "max": 0.00010974825733917412,
          "median": 0.00010138525976799428,
          "min": 8.959295350741313e-05,
          "ministerie": "Ministerie van Infrastructuur en Waterstaat",
          "project": "A4 Passage Den Haag",
          "title": "",
          "type": "Feature"
         },
         {
          "date": "2019-04-01",
          "geometry": {
           "coordinates": [
            4.348639,
            52.043546
           ],
           "type": "Point"
          },
          "id": "46",
          "lat": 52.043546,
          "locatie": "A4, The Hague, Netherlands",
          "lon": 4.348639,
          "max": 0.00015114266847527787,
          "median": 0.00013865909769271312,
          "min": 0.0001309973099538693,
          "ministerie": "Ministerie van Infrastructuur en Waterstaat",
          "project": "A4 Passage Den Haag",
          "title": "",
          "type": "Feature"
         },
         {
          "date": "2019-05-01",
          "geometry": {
           "coordinates": [
            4.348639,
            52.043546
           ],
           "type": "Point"
          },
          "id": "46",
          "lat": 52.043546,
          "locatie": "A4, The Hague, Netherlands",
          "lon": 4.348639,
          "max": 0.00012360624168650247,
          "median": 0.00011780803834290563,
          "min": 0.0001089427661597283,
          "ministerie": "Ministerie van Infrastructuur en Waterstaat",
          "project": "A4 Passage Den Haag",
          "title": "",
          "type": "Feature"
         },
         {
          "date": "2019-06-01",
          "geometry": {
           "coordinates": [
            4.348639,
            52.043546
           ],
           "type": "Point"
          },
          "id": "46",
          "lat": 52.043546,
          "locatie": "A4, The Hague, Netherlands",
          "lon": 4.348639,
          "max": 0.00013819812723999582,
          "median": 0.00012361626419506058,
          "min": 0.00010835024798750426,
          "ministerie": "Ministerie van Infrastructuur en Waterstaat",
          "project": "A4 Passage Den Haag",
          "title": "",
          "type": "Feature"
         },
         {
          "date": "2019-07-01",
          "geometry": {
           "coordinates": [
            4.348639,
            52.043546
           ],
           "type": "Point"
          },
          "id": "46",
          "lat": 52.043546,
          "locatie": "A4, The Hague, Netherlands",
          "lon": 4.348639,
          "max": 0.00012484416928500034,
          "median": 0.00011233110757640668,
          "min": 9.70240798778832e-05,
          "ministerie": "Ministerie van Infrastructuur en Waterstaat",
          "project": "A4 Passage Den Haag",
          "title": "",
          "type": "Feature"
         },
         {
          "date": "2019-08-01",
          "geometry": {
           "coordinates": [
            4.348639,
            52.043546
           ],
           "type": "Point"
          },
          "id": "46",
          "lat": 52.043546,
          "locatie": "A4, The Hague, Netherlands",
          "lon": 4.348639,
          "max": 0.00011472076950816846,
          "median": 0.00010625184222590178,
          "min": 9.91758715827018e-05,
          "ministerie": "Ministerie van Infrastructuur en Waterstaat",
          "project": "A4 Passage Den Haag",
          "title": "",
          "type": "Feature"
         },
         {
          "date": "2019-09-01",
          "geometry": {
           "coordinates": [
            4.348639,
            52.043546
           ],
           "type": "Point"
          },
          "id": "46",
          "lat": 52.043546,
          "locatie": "A4, The Hague, Netherlands",
          "lon": 4.348639,
          "max": 0.00011636297122073817,
          "median": 9.233816537909036e-05,
          "min": 7.44555436540395e-05,
          "ministerie": "Ministerie van Infrastructuur en Waterstaat",
          "project": "A4 Passage Den Haag",
          "title": "",
          "type": "Feature"
         },
         {
          "date": "2018-07-01",
          "geometry": {
           "coordinates": [
            5.513751999999999,
            52.54849599999999
           ],
           "type": "Point"
          },
          "id": "47",
          "lat": 52.54849599999999,
          "locatie": "Lelystad Centrum - Swifterbant, Lelystad, Netherlands",
          "lon": 5.513751999999999,
          "max": 0.00010737975666621921,
          "median": 0.00010257521353196353,
          "min": 9.398557449458167e-05,
          "ministerie": "Ministerie van Infrastructuur en Waterstaat",
          "project": "A6 Almere Buiten-Oost - Lelystad",
          "title": "",
          "type": "Feature"
         },
         {
          "date": "2018-08-01",
          "geometry": {
           "coordinates": [
            5.513751999999999,
            52.54849599999999
           ],
           "type": "Point"
          },
          "id": "47",
          "lat": 52.54849599999999,
          "locatie": "Lelystad Centrum - Swifterbant, Lelystad, Netherlands",
          "lon": 5.513751999999999,
          "max": 0.00010890122209275402,
          "median": 0.00010315030689501331,
          "min": 9.577352466294542e-05,
          "ministerie": "Ministerie van Infrastructuur en Waterstaat",
          "project": "A6 Almere Buiten-Oost - Lelystad",
          "title": "",
          "type": "Feature"
         },
         {
          "date": "2018-09-01",
          "geometry": {
           "coordinates": [
            5.513751999999999,
            52.54849599999999
           ],
           "type": "Point"
          },
          "id": "47",
          "lat": 52.54849599999999,
          "locatie": "Lelystad Centrum - Swifterbant, Lelystad, Netherlands",
          "lon": 5.513751999999999,
          "max": 0.0001341108581982553,
          "median": 0.0001247959801417497,
          "min": 0.00011016691860277206,
          "ministerie": "Ministerie van Infrastructuur en Waterstaat",
          "project": "A6 Almere Buiten-Oost - Lelystad",
          "title": "",
          "type": "Feature"
         },
         {
          "date": "2018-10-01",
          "geometry": {
           "coordinates": [
            5.513751999999999,
            52.54849599999999
           ],
           "type": "Point"
          },
          "id": "47",
          "lat": 52.54849599999999,
          "locatie": "Lelystad Centrum - Swifterbant, Lelystad, Netherlands",
          "lon": 5.513751999999999,
          "max": 0.00011576971256677202,
          "median": 0.00010452966390267893,
          "min": 8.634314144728705e-05,
          "ministerie": "Ministerie van Infrastructuur en Waterstaat",
          "project": "A6 Almere Buiten-Oost - Lelystad",
          "title": "",
          "type": "Feature"
         },
         {
          "date": "2018-11-01",
          "geometry": {
           "coordinates": [
            5.513751999999999,
            52.54849599999999
           ],
           "type": "Point"
          },
          "id": "47",
          "lat": 52.54849599999999,
          "locatie": "Lelystad Centrum - Swifterbant, Lelystad, Netherlands",
          "lon": 5.513751999999999,
          "max": 0.00015538468142040074,
          "median": 0.00014058279894577774,
          "min": 0.00013183162081986666,
          "ministerie": "Ministerie van Infrastructuur en Waterstaat",
          "project": "A6 Almere Buiten-Oost - Lelystad",
          "title": "",
          "type": "Feature"
         },
         {
          "date": "2018-12-01",
          "geometry": {
           "coordinates": [
            5.513751999999999,
            52.54849599999999
           ],
           "type": "Point"
          },
          "id": "47",
          "lat": 52.54849599999999,
          "locatie": "Lelystad Centrum - Swifterbant, Lelystad, Netherlands",
          "lon": 5.513751999999999,
          "max": 0.00010299631685484201,
          "median": 9.167080861516297e-05,
          "min": 8.201768471512893e-05,
          "ministerie": "Ministerie van Infrastructuur en Waterstaat",
          "project": "A6 Almere Buiten-Oost - Lelystad",
          "title": "",
          "type": "Feature"
         },
         {
          "date": "2019-01-01",
          "geometry": {
           "coordinates": [
            5.513751999999999,
            52.54849599999999
           ],
           "type": "Point"
          },
          "id": "47",
          "lat": 52.54849599999999,
          "locatie": "Lelystad Centrum - Swifterbant, Lelystad, Netherlands",
          "lon": 5.513751999999999,
          "max": 0.00011018870540978155,
          "median": 7.762196764815599e-05,
          "min": 5.124248833492948e-05,
          "ministerie": "Ministerie van Infrastructuur en Waterstaat",
          "project": "A6 Almere Buiten-Oost - Lelystad",
          "title": "",
          "type": "Feature"
         },
         {
          "date": "2019-02-01",
          "geometry": {
           "coordinates": [
            5.513751999999999,
            52.54849599999999
           ],
           "type": "Point"
          },
          "id": "47",
          "lat": 52.54849599999999,
          "locatie": "Lelystad Centrum - Swifterbant, Lelystad, Netherlands",
          "lon": 5.513751999999999,
          "max": 0.00017783696304942976,
          "median": 0.00015039135584998277,
          "min": 0.00011409009312046692,
          "ministerie": "Ministerie van Infrastructuur en Waterstaat",
          "project": "A6 Almere Buiten-Oost - Lelystad",
          "title": "",
          "type": "Feature"
         },
         {
          "date": "2019-03-01",
          "geometry": {
           "coordinates": [
            5.513751999999999,
            52.54849599999999
           ],
           "type": "Point"
          },
          "id": "47",
          "lat": 52.54849599999999,
          "locatie": "Lelystad Centrum - Swifterbant, Lelystad, Netherlands",
          "lon": 5.513751999999999,
          "max": 0.00010153420606329683,
          "median": 9.195772469980704e-05,
          "min": 8.563984010834247e-05,
          "ministerie": "Ministerie van Infrastructuur en Waterstaat",
          "project": "A6 Almere Buiten-Oost - Lelystad",
          "title": "",
          "type": "Feature"
         },
         {
          "date": "2019-04-01",
          "geometry": {
           "coordinates": [
            5.513751999999999,
            52.54849599999999
           ],
           "type": "Point"
          },
          "id": "47",
          "lat": 52.54849599999999,
          "locatie": "Lelystad Centrum - Swifterbant, Lelystad, Netherlands",
          "lon": 5.513751999999999,
          "max": 0.00011644597543636337,
          "median": 0.00011135866002108814,
          "min": 0.00010612254325937601,
          "ministerie": "Ministerie van Infrastructuur en Waterstaat",
          "project": "A6 Almere Buiten-Oost - Lelystad",
          "title": "",
          "type": "Feature"
         },
         {
          "date": "2019-05-01",
          "geometry": {
           "coordinates": [
            5.513751999999999,
            52.54849599999999
           ],
           "type": "Point"
          },
          "id": "47",
          "lat": 52.54849599999999,
          "locatie": "Lelystad Centrum - Swifterbant, Lelystad, Netherlands",
          "lon": 5.513751999999999,
          "max": 0.00011644687765510753,
          "median": 0.00011000948870787397,
          "min": 0.00010421393531240318,
          "ministerie": "Ministerie van Infrastructuur en Waterstaat",
          "project": "A6 Almere Buiten-Oost - Lelystad",
          "title": "",
          "type": "Feature"
         },
         {
          "date": "2019-06-01",
          "geometry": {
           "coordinates": [
            5.513751999999999,
            52.54849599999999
           ],
           "type": "Point"
          },
          "id": "47",
          "lat": 52.54849599999999,
          "locatie": "Lelystad Centrum - Swifterbant, Lelystad, Netherlands",
          "lon": 5.513751999999999,
          "max": 0.000122974299301859,
          "median": 0.00011132246118833047,
          "min": 0.00010308689675660228,
          "ministerie": "Ministerie van Infrastructuur en Waterstaat",
          "project": "A6 Almere Buiten-Oost - Lelystad",
          "title": "",
          "type": "Feature"
         },
         {
          "date": "2019-07-01",
          "geometry": {
           "coordinates": [
            5.513751999999999,
            52.54849599999999
           ],
           "type": "Point"
          },
          "id": "47",
          "lat": 52.54849599999999,
          "locatie": "Lelystad Centrum - Swifterbant, Lelystad, Netherlands",
          "lon": 5.513751999999999,
          "max": 0.00010414683610984175,
          "median": 9.845119117938722e-05,
          "min": 9.252582782517368e-05,
          "ministerie": "Ministerie van Infrastructuur en Waterstaat",
          "project": "A6 Almere Buiten-Oost - Lelystad",
          "title": "",
          "type": "Feature"
         },
         {
          "date": "2019-08-01",
          "geometry": {
           "coordinates": [
            5.513751999999999,
            52.54849599999999
           ],
           "type": "Point"
          },
          "id": "47",
          "lat": 52.54849599999999,
          "locatie": "Lelystad Centrum - Swifterbant, Lelystad, Netherlands",
          "lon": 5.513751999999999,
          "max": 0.00013309036156485907,
          "median": 0.00012296563468601834,
          "min": 0.00011082344881821547,
          "ministerie": "Ministerie van Infrastructuur en Waterstaat",
          "project": "A6 Almere Buiten-Oost - Lelystad",
          "title": "",
          "type": "Feature"
         },
         {
          "date": "2019-09-01",
          "geometry": {
           "coordinates": [
            5.513751999999999,
            52.54849599999999
           ],
           "type": "Point"
          },
          "id": "47",
          "lat": 52.54849599999999,
          "locatie": "Lelystad Centrum - Swifterbant, Lelystad, Netherlands",
          "lon": 5.513751999999999,
          "max": 0.00010027197469851326,
          "median": 8.814693137537688e-05,
          "min": 8.369227725779638e-05,
          "ministerie": "Ministerie van Infrastructuur en Waterstaat",
          "project": "A6 Almere Buiten-Oost - Lelystad",
          "title": "",
          "type": "Feature"
         },
         {
          "date": "2018-07-01",
          "geometry": {
           "coordinates": [
            6.107747,
            51.401507
           ],
           "type": "Point"
          },
          "id": "48",
          "lat": 51.401507,
          "locatie": "Zaarderheiken, Blerick, Netherlands",
          "lon": 6.107747,
          "max": 0.00012988494940053237,
          "median": 0.00012235144822625443,
          "min": 0.00011512726988740162,
          "ministerie": "Ministerie van Infrastructuur en Waterstaat",
          "project": "A67/A73 Knooppunt Zaarderheiken",
          "title": "",
          "type": "Feature"
         },
         {
          "date": "2018-08-01",
          "geometry": {
           "coordinates": [
            6.107747,
            51.401507
           ],
           "type": "Point"
          },
          "id": "48",
          "lat": 51.401507,
          "locatie": "Zaarderheiken, Blerick, Netherlands",
          "lon": 6.107747,
          "max": 0.00012890829348181066,
          "median": 0.0001181902236791838,
          "min": 0.00010716859105741605,
          "ministerie": "Ministerie van Infrastructuur en Waterstaat",
          "project": "A67/A73 Knooppunt Zaarderheiken",
          "title": "",
          "type": "Feature"
         },
         {
          "date": "2018-09-01",
          "geometry": {
           "coordinates": [
            6.107747,
            51.401507
           ],
           "type": "Point"
          },
          "id": "48",
          "lat": 51.401507,
          "locatie": "Zaarderheiken, Blerick, Netherlands",
          "lon": 6.107747,
          "max": 0.00016220816178247333,
          "median": 0.0001513825700385496,
          "min": 0.00013977231890069695,
          "ministerie": "Ministerie van Infrastructuur en Waterstaat",
          "project": "A67/A73 Knooppunt Zaarderheiken",
          "title": "",
          "type": "Feature"
         },
         {
          "date": "2018-10-01",
          "geometry": {
           "coordinates": [
            6.107747,
            51.401507
           ],
           "type": "Point"
          },
          "id": "48",
          "lat": 51.401507,
          "locatie": "Zaarderheiken, Blerick, Netherlands",
          "lon": 6.107747,
          "max": 0.00014561045152685866,
          "median": 0.0001368315160640316,
          "min": 0.00011927121522603557,
          "ministerie": "Ministerie van Infrastructuur en Waterstaat",
          "project": "A67/A73 Knooppunt Zaarderheiken",
          "title": "",
          "type": "Feature"
         },
         {
          "date": "2018-11-01",
          "geometry": {
           "coordinates": [
            6.107747,
            51.401507
           ],
           "type": "Point"
          },
          "id": "48",
          "lat": 51.401507,
          "locatie": "Zaarderheiken, Blerick, Netherlands",
          "lon": 6.107747,
          "max": 0.00018320074979684143,
          "median": 0.0001717004633974284,
          "min": 0.00015440428122923445,
          "ministerie": "Ministerie van Infrastructuur en Waterstaat",
          "project": "A67/A73 Knooppunt Zaarderheiken",
          "title": "",
          "type": "Feature"
         },
         {
          "date": "2018-12-01",
          "geometry": {
           "coordinates": [
            6.107747,
            51.401507
           ],
           "type": "Point"
          },
          "id": "48",
          "lat": 51.401507,
          "locatie": "Zaarderheiken, Blerick, Netherlands",
          "lon": 6.107747,
          "max": 0.00014006244667926683,
          "median": 0.0001264971651835367,
          "min": 0.00010240017377661439,
          "ministerie": "Ministerie van Infrastructuur en Waterstaat",
          "project": "A67/A73 Knooppunt Zaarderheiken",
          "title": "",
          "type": "Feature"
         },
         {
          "date": "2019-01-01",
          "geometry": {
           "coordinates": [
            6.107747,
            51.401507
           ],
           "type": "Point"
          },
          "id": "48",
          "lat": 51.401507,
          "locatie": "Zaarderheiken, Blerick, Netherlands",
          "lon": 6.107747,
          "max": 0.00016535438524780983,
          "median": 0.0001399881143807754,
          "min": 0.00011470206663943827,
          "ministerie": "Ministerie van Infrastructuur en Waterstaat",
          "project": "A67/A73 Knooppunt Zaarderheiken",
          "title": "",
          "type": "Feature"
         },
         {
          "date": "2019-02-01",
          "geometry": {
           "coordinates": [
            6.107747,
            51.401507
           ],
           "type": "Point"
          },
          "id": "48",
          "lat": 51.401507,
          "locatie": "Zaarderheiken, Blerick, Netherlands",
          "lon": 6.107747,
          "max": 0.00018104472837876529,
          "median": 0.00016741561775256869,
          "min": 0.00015507949564708826,
          "ministerie": "Ministerie van Infrastructuur en Waterstaat",
          "project": "A67/A73 Knooppunt Zaarderheiken",
          "title": "",
          "type": "Feature"
         },
         {
          "date": "2019-03-01",
          "geometry": {
           "coordinates": [
            6.107747,
            51.401507
           ],
           "type": "Point"
          },
          "id": "48",
          "lat": 51.401507,
          "locatie": "Zaarderheiken, Blerick, Netherlands",
          "lon": 6.107747,
          "max": 0.00012094912204857113,
          "median": 0.00011421420741747327,
          "min": 0.00010775319242384285,
          "ministerie": "Ministerie van Infrastructuur en Waterstaat",
          "project": "A67/A73 Knooppunt Zaarderheiken",
          "title": "",
          "type": "Feature"
         },
         {
          "date": "2019-04-01",
          "geometry": {
           "coordinates": [
            6.107747,
            51.401507
           ],
           "type": "Point"
          },
          "id": "48",
          "lat": 51.401507,
          "locatie": "Zaarderheiken, Blerick, Netherlands",
          "lon": 6.107747,
          "max": 0.00015627671726585053,
          "median": 0.00014897362845056586,
          "min": 0.00013894090754668892,
          "ministerie": "Ministerie van Infrastructuur en Waterstaat",
          "project": "A67/A73 Knooppunt Zaarderheiken",
          "title": "",
          "type": "Feature"
         },
         {
          "date": "2019-05-01",
          "geometry": {
           "coordinates": [
            6.107747,
            51.401507
           ],
           "type": "Point"
          },
          "id": "48",
          "lat": 51.401507,
          "locatie": "Zaarderheiken, Blerick, Netherlands",
          "lon": 6.107747,
          "max": 0.00013359394336138515,
          "median": 0.00012805729784304276,
          "min": 0.00012125254432615371,
          "ministerie": "Ministerie van Infrastructuur en Waterstaat",
          "project": "A67/A73 Knooppunt Zaarderheiken",
          "title": "",
          "type": "Feature"
         },
         {
          "date": "2019-06-01",
          "geometry": {
           "coordinates": [
            6.107747,
            51.401507
           ],
           "type": "Point"
          },
          "id": "48",
          "lat": 51.401507,
          "locatie": "Zaarderheiken, Blerick, Netherlands",
          "lon": 6.107747,
          "max": 0.00012169508078206769,
          "median": 0.00011349177097903112,
          "min": 0.00010872935313649315,
          "ministerie": "Ministerie van Infrastructuur en Waterstaat",
          "project": "A67/A73 Knooppunt Zaarderheiken",
          "title": "",
          "type": "Feature"
         },
         {
          "date": "2019-07-01",
          "geometry": {
           "coordinates": [
            6.107747,
            51.401507
           ],
           "type": "Point"
          },
          "id": "48",
          "lat": 51.401507,
          "locatie": "Zaarderheiken, Blerick, Netherlands",
          "lon": 6.107747,
          "max": 0.00011791881115641445,
          "median": 0.00011015777859731467,
          "min": 0.00010433924860170987,
          "ministerie": "Ministerie van Infrastructuur en Waterstaat",
          "project": "A67/A73 Knooppunt Zaarderheiken",
          "title": "",
          "type": "Feature"
         },
         {
          "date": "2019-08-01",
          "geometry": {
           "coordinates": [
            6.107747,
            51.401507
           ],
           "type": "Point"
          },
          "id": "48",
          "lat": 51.401507,
          "locatie": "Zaarderheiken, Blerick, Netherlands",
          "lon": 6.107747,
          "max": 0.00011089054745891267,
          "median": 0.00010650281025981224,
          "min": 0.00010024602670455351,
          "ministerie": "Ministerie van Infrastructuur en Waterstaat",
          "project": "A67/A73 Knooppunt Zaarderheiken",
          "title": "",
          "type": "Feature"
         },
         {
          "date": "2019-09-01",
          "geometry": {
           "coordinates": [
            6.107747,
            51.401507
           ],
           "type": "Point"
          },
          "id": "48",
          "lat": 51.401507,
          "locatie": "Zaarderheiken, Blerick, Netherlands",
          "lon": 6.107747,
          "max": 0.00011867951252497733,
          "median": 0.00010331828093161764,
          "min": 9.295267260803044e-05,
          "ministerie": "Ministerie van Infrastructuur en Waterstaat",
          "project": "A67/A73 Knooppunt Zaarderheiken",
          "title": "",
          "type": "Feature"
         },
         {
          "date": "2018-07-01",
          "geometry": {
           "coordinates": [
            6.306813,
            52.242929
           ],
           "type": "Point"
          },
          "id": "40",
          "lat": 52.242929,
          "locatie": "A1, Bathmen, Netherlands",
          "lon": 6.306813,
          "max": 0.00010887621565144992,
          "median": 0.000104525579627888,
          "min": 0.00010104394299354672,
          "ministerie": "Ministerie van Infrastructuur en Waterstaat",
          "project": "A1 Apeldoorn - Azelo",
          "title": "",
          "type": "Feature"
         },
         {
          "date": "2018-08-01",
          "geometry": {
           "coordinates": [
            6.306813,
            52.242929
           ],
           "type": "Point"
          },
          "id": "40",
          "lat": 52.242929,
          "locatie": "A1, Bathmen, Netherlands",
          "lon": 6.306813,
          "max": 0.00010915447273873724,
          "median": 0.00010350743546070651,
          "min": 9.781129830771578e-05,
          "ministerie": "Ministerie van Infrastructuur en Waterstaat",
          "project": "A1 Apeldoorn - Azelo",
          "title": "",
          "type": "Feature"
         },
         {
          "date": "2018-09-01",
          "geometry": {
           "coordinates": [
            6.306813,
            52.242929
           ],
           "type": "Point"
          },
          "id": "40",
          "lat": 52.242929,
          "locatie": "A1, Bathmen, Netherlands",
          "lon": 6.306813,
          "max": 0.00013002249819967353,
          "median": 0.00012128151865908876,
          "min": 0.0001131279259013875,
          "ministerie": "Ministerie van Infrastructuur en Waterstaat",
          "project": "A1 Apeldoorn - Azelo",
          "title": "",
          "type": "Feature"
         },
         {
          "date": "2018-10-01",
          "geometry": {
           "coordinates": [
            6.306813,
            52.242929
           ],
           "type": "Point"
          },
          "id": "40",
          "lat": 52.242929,
          "locatie": "A1, Bathmen, Netherlands",
          "lon": 6.306813,
          "max": 0.00012392069189139096,
          "median": 0.00011454152250433571,
          "min": 0.00010341472514198905,
          "ministerie": "Ministerie van Infrastructuur en Waterstaat",
          "project": "A1 Apeldoorn - Azelo",
          "title": "",
          "type": "Feature"
         },
         {
          "date": "2018-11-01",
          "geometry": {
           "coordinates": [
            6.306813,
            52.242929
           ],
           "type": "Point"
          },
          "id": "40",
          "lat": 52.242929,
          "locatie": "A1, Bathmen, Netherlands",
          "lon": 6.306813,
          "max": 0.00015333327751455535,
          "median": 0.00014179635036271065,
          "min": 0.00012758223971398656,
          "ministerie": "Ministerie van Infrastructuur en Waterstaat",
          "project": "A1 Apeldoorn - Azelo",
          "title": "",
          "type": "Feature"
         },
         {
          "date": "2018-12-01",
          "geometry": {
           "coordinates": [
            6.306813,
            52.242929
           ],
           "type": "Point"
          },
          "id": "40",
          "lat": 52.242929,
          "locatie": "A1, Bathmen, Netherlands",
          "lon": 6.306813,
          "max": 0.00011057617387567085,
          "median": 0.00010216622469592145,
          "min": 9.126120858127251e-05,
          "ministerie": "Ministerie van Infrastructuur en Waterstaat",
          "project": "A1 Apeldoorn - Azelo",
          "title": "",
          "type": "Feature"
         },
         {
          "date": "2019-01-01",
          "geometry": {
           "coordinates": [
            6.306813,
            52.242929
           ],
           "type": "Point"
          },
          "id": "40",
          "lat": 52.242929,
          "locatie": "A1, Bathmen, Netherlands",
          "lon": 6.306813,
          "max": 0.00013395966138281913,
          "median": 0.00010336307608003513,
          "min": 8.877370231853285e-05,
          "ministerie": "Ministerie van Infrastructuur en Waterstaat",
          "project": "A1 Apeldoorn - Azelo",
          "title": "",
          "type": "Feature"
         },
         {
          "date": "2019-02-01",
          "geometry": {
           "coordinates": [
            6.306813,
            52.242929
           ],
           "type": "Point"
          },
          "id": "40",
          "lat": 52.242929,
          "locatie": "A1, Bathmen, Netherlands",
          "lon": 6.306813,
          "max": 0.0001668286914381711,
          "median": 0.00014859160847859623,
          "min": 0.00013528508818096146,
          "ministerie": "Ministerie van Infrastructuur en Waterstaat",
          "project": "A1 Apeldoorn - Azelo",
          "title": "",
          "type": "Feature"
         },
         {
          "date": "2019-03-01",
          "geometry": {
           "coordinates": [
            6.306813,
            52.242929
           ],
           "type": "Point"
          },
          "id": "40",
          "lat": 52.242929,
          "locatie": "A1, Bathmen, Netherlands",
          "lon": 6.306813,
          "max": 0.00011750117388159348,
          "median": 9.598724330724812e-05,
          "min": 8.473860051728939e-05,
          "ministerie": "Ministerie van Infrastructuur en Waterstaat",
          "project": "A1 Apeldoorn - Azelo",
          "title": "",
          "type": "Feature"
         },
         {
          "date": "2019-04-01",
          "geometry": {
           "coordinates": [
            6.306813,
            52.242929
           ],
           "type": "Point"
          },
          "id": "40",
          "lat": 52.242929,
          "locatie": "A1, Bathmen, Netherlands",
          "lon": 6.306813,
          "max": 0.00011033301416318864,
          "median": 0.00010599774254818774,
          "min": 0.00010029335370278017,
          "ministerie": "Ministerie van Infrastructuur en Waterstaat",
          "project": "A1 Apeldoorn - Azelo",
          "title": "",
          "type": "Feature"
         },
         {
          "date": "2019-05-01",
          "geometry": {
           "coordinates": [
            6.306813,
            52.242929
           ],
           "type": "Point"
          },
          "id": "40",
          "lat": 52.242929,
          "locatie": "A1, Bathmen, Netherlands",
          "lon": 6.306813,
          "max": 0.00010797940558404662,
          "median": 0.00010583750113289027,
          "min": 0.00010215145799567286,
          "ministerie": "Ministerie van Infrastructuur en Waterstaat",
          "project": "A1 Apeldoorn - Azelo",
          "title": "",
          "type": "Feature"
         },
         {
          "date": "2019-06-01",
          "geometry": {
           "coordinates": [
            6.306813,
            52.242929
           ],
           "type": "Point"
          },
          "id": "40",
          "lat": 52.242929,
          "locatie": "A1, Bathmen, Netherlands",
          "lon": 6.306813,
          "max": 0.0001085920084733516,
          "median": 0.00010405441435495835,
          "min": 9.868045909853127e-05,
          "ministerie": "Ministerie van Infrastructuur en Waterstaat",
          "project": "A1 Apeldoorn - Azelo",
          "title": "",
          "type": "Feature"
         },
         {
          "date": "2019-07-01",
          "geometry": {
           "coordinates": [
            6.306813,
            52.242929
           ],
           "type": "Point"
          },
          "id": "40",
          "lat": 52.242929,
          "locatie": "A1, Bathmen, Netherlands",
          "lon": 6.306813,
          "max": 0.00010329672157852257,
          "median": 9.589683031663299e-05,
          "min": 9.286837987543771e-05,
          "ministerie": "Ministerie van Infrastructuur en Waterstaat",
          "project": "A1 Apeldoorn - Azelo",
          "title": "",
          "type": "Feature"
         },
         {
          "date": "2019-08-01",
          "geometry": {
           "coordinates": [
            6.306813,
            52.242929
           ],
           "type": "Point"
          },
          "id": "40",
          "lat": 52.242929,
          "locatie": "A1, Bathmen, Netherlands",
          "lon": 6.306813,
          "max": 0.00011278876627329737,
          "median": 0.00010818983719218522,
          "min": 0.00010296801538032614,
          "ministerie": "Ministerie van Infrastructuur en Waterstaat",
          "project": "A1 Apeldoorn - Azelo",
          "title": "",
          "type": "Feature"
         },
         {
          "date": "2019-09-01",
          "geometry": {
           "coordinates": [
            6.306813,
            52.242929
           ],
           "type": "Point"
          },
          "id": "40",
          "lat": 52.242929,
          "locatie": "A1, Bathmen, Netherlands",
          "lon": 6.306813,
          "max": 0.00014074212873358368,
          "median": 0.00011111631362323442,
          "min": 9.739606554405368e-05,
          "ministerie": "Ministerie van Infrastructuur en Waterstaat",
          "project": "A1 Apeldoorn - Azelo",
          "title": "",
          "type": "Feature"
         },
         {
          "date": "2018-07-01",
          "geometry": {
           "coordinates": [
            6.051491,
            51.952315000000006
           ],
           "type": "Point"
          },
          "id": "41",
          "lat": 51.952315000000006,
          "locatie": "BP A12 Oudbroeken, Duiven, Netherlands",
          "lon": 6.051491,
          "max": 0.00012129063685706537,
          "median": 0.00011612612096060306,
          "min": 0.00010783369693739078,
          "ministerie": "Ministerie van Infrastructuur en Waterstaat",
          "project": "A12/A15 Ressen - Oudbroeken (ViA15)",
          "title": "",
          "type": "Feature"
         },
         {
          "date": "2018-08-01",
          "geometry": {
           "coordinates": [
            6.051491,
            51.952315000000006
           ],
           "type": "Point"
          },
          "id": "41",
          "lat": 51.952315000000006,
          "locatie": "BP A12 Oudbroeken, Duiven, Netherlands",
          "lon": 6.051491,
          "max": 0.00011194991384400055,
          "median": 0.00010660936823114753,
          "min": 0.00010100447980221361,
          "ministerie": "Ministerie van Infrastructuur en Waterstaat",
          "project": "A12/A15 Ressen - Oudbroeken (ViA15)",
          "title": "",
          "type": "Feature"
         },
         {
          "date": "2018-09-01",
          "geometry": {
           "coordinates": [
            6.051491,
            51.952315000000006
           ],
           "type": "Point"
          },
          "id": "41",
          "lat": 51.952315000000006,
          "locatie": "BP A12 Oudbroeken, Duiven, Netherlands",
          "lon": 6.051491,
          "max": 0.000155652807734441,
          "median": 0.00013580200902651995,
          "min": 0.0001232275099027902,
          "ministerie": "Ministerie van Infrastructuur en Waterstaat",
          "project": "A12/A15 Ressen - Oudbroeken (ViA15)",
          "title": "",
          "type": "Feature"
         },
         {
          "date": "2018-10-01",
          "geometry": {
           "coordinates": [
            6.051491,
            51.952315000000006
           ],
           "type": "Point"
          },
          "id": "41",
          "lat": 51.952315000000006,
          "locatie": "BP A12 Oudbroeken, Duiven, Netherlands",
          "lon": 6.051491,
          "max": 0.00013394031248349834,
          "median": 0.00012430524549111562,
          "min": 0.00011072988909613157,
          "ministerie": "Ministerie van Infrastructuur en Waterstaat",
          "project": "A12/A15 Ressen - Oudbroeken (ViA15)",
          "title": "",
          "type": "Feature"
         },
         {
          "date": "2018-11-01",
          "geometry": {
           "coordinates": [
            6.051491,
            51.952315000000006
           ],
           "type": "Point"
          },
          "id": "41",
          "lat": 51.952315000000006,
          "locatie": "BP A12 Oudbroeken, Duiven, Netherlands",
          "lon": 6.051491,
          "max": 0.00017895298515213653,
          "median": 0.0001658887644925443,
          "min": 0.00015397315302342744,
          "ministerie": "Ministerie van Infrastructuur en Waterstaat",
          "project": "A12/A15 Ressen - Oudbroeken (ViA15)",
          "title": "",
          "type": "Feature"
         },
         {
          "date": "2018-12-01",
          "geometry": {
           "coordinates": [
            6.051491,
            51.952315000000006
           ],
           "type": "Point"
          },
          "id": "41",
          "lat": 51.952315000000006,
          "locatie": "BP A12 Oudbroeken, Duiven, Netherlands",
          "lon": 6.051491,
          "max": 0.00013480907801506053,
          "median": 0.00011434304956927518,
          "min": 0.00010359430344636446,
          "ministerie": "Ministerie van Infrastructuur en Waterstaat",
          "project": "A12/A15 Ressen - Oudbroeken (ViA15)",
          "title": "",
          "type": "Feature"
         },
         {
          "date": "2019-01-01",
          "geometry": {
           "coordinates": [
            6.051491,
            51.952315000000006
           ],
           "type": "Point"
          },
          "id": "41",
          "lat": 51.952315000000006,
          "locatie": "BP A12 Oudbroeken, Duiven, Netherlands",
          "lon": 6.051491,
          "max": 0.00015179289747487712,
          "median": 0.00012460529393895932,
          "min": 0.00010926614413619973,
          "ministerie": "Ministerie van Infrastructuur en Waterstaat",
          "project": "A12/A15 Ressen - Oudbroeken (ViA15)",
          "title": "",
          "type": "Feature"
         },
         {
          "date": "2019-02-01",
          "geometry": {
           "coordinates": [
            6.051491,
            51.952315000000006
           ],
           "type": "Point"
          },
          "id": "41",
          "lat": 51.952315000000006,
          "locatie": "BP A12 Oudbroeken, Duiven, Netherlands",
          "lon": 6.051491,
          "max": 0.0001767131801249121,
          "median": 0.00016307697652275416,
          "min": 0.0001482745543950097,
          "ministerie": "Ministerie van Infrastructuur en Waterstaat",
          "project": "A12/A15 Ressen - Oudbroeken (ViA15)",
          "title": "",
          "type": "Feature"
         },
         {
          "date": "2019-03-01",
          "geometry": {
           "coordinates": [
            6.051491,
            51.952315000000006
           ],
           "type": "Point"
          },
          "id": "41",
          "lat": 51.952315000000006,
          "locatie": "BP A12 Oudbroeken, Duiven, Netherlands",
          "lon": 6.051491,
          "max": 0.00011256066151307367,
          "median": 0.00010672187023671003,
          "min": 9.819929977968709e-05,
          "ministerie": "Ministerie van Infrastructuur en Waterstaat",
          "project": "A12/A15 Ressen - Oudbroeken (ViA15)",
          "title": "",
          "type": "Feature"
         },
         {
          "date": "2019-04-01",
          "geometry": {
           "coordinates": [
            6.051491,
            51.952315000000006
           ],
           "type": "Point"
          },
          "id": "41",
          "lat": 51.952315000000006,
          "locatie": "BP A12 Oudbroeken, Duiven, Netherlands",
          "lon": 6.051491,
          "max": 0.0001198575810121838,
          "median": 0.0001110465163947083,
          "min": 0.00010500411132547836,
          "ministerie": "Ministerie van Infrastructuur en Waterstaat",
          "project": "A12/A15 Ressen - Oudbroeken (ViA15)",
          "title": "",
          "type": "Feature"
         },
         {
          "date": "2019-05-01",
          "geometry": {
           "coordinates": [
            6.051491,
            51.952315000000006
           ],
           "type": "Point"
          },
          "id": "41",
          "lat": 51.952315000000006,
          "locatie": "BP A12 Oudbroeken, Duiven, Netherlands",
          "lon": 6.051491,
          "max": 0.0001220232188643422,
          "median": 0.00011688978151557462,
          "min": 0.00011171207734150812,
          "ministerie": "Ministerie van Infrastructuur en Waterstaat",
          "project": "A12/A15 Ressen - Oudbroeken (ViA15)",
          "title": "",
          "type": "Feature"
         },
         {
          "date": "2019-06-01",
          "geometry": {
           "coordinates": [
            6.051491,
            51.952315000000006
           ],
           "type": "Point"
          },
          "id": "41",
          "lat": 51.952315000000006,
          "locatie": "BP A12 Oudbroeken, Duiven, Netherlands",
          "lon": 6.051491,
          "max": 0.00011763743331556862,
          "median": 0.00010895152081502602,
          "min": 0.00010350399897475315,
          "ministerie": "Ministerie van Infrastructuur en Waterstaat",
          "project": "A12/A15 Ressen - Oudbroeken (ViA15)",
          "title": "",
          "type": "Feature"
         },
         {
          "date": "2019-07-01",
          "geometry": {
           "coordinates": [
            6.051491,
            51.952315000000006
           ],
           "type": "Point"
          },
          "id": "41",
          "lat": 51.952315000000006,
          "locatie": "BP A12 Oudbroeken, Duiven, Netherlands",
          "lon": 6.051491,
          "max": 0.0001132269226383352,
          "median": 0.00010659297549864277,
          "min": 0.00010121774337366466,
          "ministerie": "Ministerie van Infrastructuur en Waterstaat",
          "project": "A12/A15 Ressen - Oudbroeken (ViA15)",
          "title": "",
          "type": "Feature"
         },
         {
          "date": "2019-08-01",
          "geometry": {
           "coordinates": [
            6.051491,
            51.952315000000006
           ],
           "type": "Point"
          },
          "id": "41",
          "lat": 51.952315000000006,
          "locatie": "BP A12 Oudbroeken, Duiven, Netherlands",
          "lon": 6.051491,
          "max": 0.00011952886265425201,
          "median": 0.00011091977648902684,
          "min": 0.00010319958560899275,
          "ministerie": "Ministerie van Infrastructuur en Waterstaat",
          "project": "A12/A15 Ressen - Oudbroeken (ViA15)",
          "title": "",
          "type": "Feature"
         },
         {
          "date": "2019-09-01",
          "geometry": {
           "coordinates": [
            6.051491,
            51.952315000000006
           ],
           "type": "Point"
          },
          "id": "41",
          "lat": 51.952315000000006,
          "locatie": "BP A12 Oudbroeken, Duiven, Netherlands",
          "lon": 6.051491,
          "max": 0.00015742443792987615,
          "median": 0.0001308411185089943,
          "min": 0.00010211684842502821,
          "ministerie": "Ministerie van Infrastructuur en Waterstaat",
          "project": "A12/A15 Ressen - Oudbroeken (ViA15)",
          "title": "",
          "type": "Feature"
         },
         {
          "date": "2018-07-01",
          "geometry": {
           "coordinates": [
            5.823739,
            51.033989
           ],
           "type": "Point"
          },
          "id": "42",
          "lat": 51.033989,
          "locatie": "A2, Born, Netherlands",
          "lon": 5.823739,
          "max": 0.0001373760945898775,
          "median": 0.00012687777780229226,
          "min": 0.00011777336476370692,
          "ministerie": "Ministerie van Infrastructuur en Waterstaat",
          "project": "A2 Het Vonderen - Kerensheide",
          "title": "",
          "type": "Feature"
         },
         {
          "date": "2018-08-01",
          "geometry": {
           "coordinates": [
            5.823739,
            51.033989
           ],
           "type": "Point"
          },
          "id": "42",
          "lat": 51.033989,
          "locatie": "A2, Born, Netherlands",
          "lon": 5.823739,
          "max": 0.00012675292189822716,
          "median": 0.00011988660844508559,
          "min": 0.00011038037443310869,
          "ministerie": "Ministerie van Infrastructuur en Waterstaat",
          "project": "A2 Het Vonderen - Kerensheide",
          "title": "",
          "type": "Feature"
         },
         {
          "date": "2018-09-01",
          "geometry": {
           "coordinates": [
            5.823739,
            51.033989
           ],
           "type": "Point"
          },
          "id": "42",
          "lat": 51.033989,
          "locatie": "A2, Born, Netherlands",
          "lon": 5.823739,
          "max": 0.0001597979310600641,
          "median": 0.0001459744929025609,
          "min": 0.0001372164494561806,
          "ministerie": "Ministerie van Infrastructuur en Waterstaat",
          "project": "A2 Het Vonderen - Kerensheide",
          "title": "",
          "type": "Feature"
         },
         {
          "date": "2018-10-01",
          "geometry": {
           "coordinates": [
            5.823739,
            51.033989
           ],
           "type": "Point"
          },
          "id": "42",
          "lat": 51.033989,
          "locatie": "A2, Born, Netherlands",
          "lon": 5.823739,
          "max": 0.00015856492973398417,
          "median": 0.00014778534242341655,
          "min": 0.00013083913911544318,
          "ministerie": "Ministerie van Infrastructuur en Waterstaat",
          "project": "A2 Het Vonderen - Kerensheide",
          "title": "",
          "type": "Feature"
         },
         {
          "date": "2018-11-01",
          "geometry": {
           "coordinates": [
            5.823739,
            51.033989
           ],
           "type": "Point"
          },
          "id": "42",
          "lat": 51.033989,
          "locatie": "A2, Born, Netherlands",
          "lon": 5.823739,
          "max": 0.00016367813805118203,
          "median": 0.00015080706620634464,
          "min": 0.00012987118900126135,
          "ministerie": "Ministerie van Infrastructuur en Waterstaat",
          "project": "A2 Het Vonderen - Kerensheide",
          "title": "",
          "type": "Feature"
         },
         {
          "date": "2018-12-01",
          "geometry": {
           "coordinates": [
            5.823739,
            51.033989
           ],
           "type": "Point"
          },
          "id": "42",
          "lat": 51.033989,
          "locatie": "A2, Born, Netherlands",
          "lon": 5.823739,
          "max": 0.00012780473049692575,
          "median": 0.00011278607481348299,
          "min": 9.349284664494917e-05,
          "ministerie": "Ministerie van Infrastructuur en Waterstaat",
          "project": "A2 Het Vonderen - Kerensheide",
          "title": "",
          "type": "Feature"
         },
         {
          "date": "2019-01-01",
          "geometry": {
           "coordinates": [
            5.823739,
            51.033989
           ],
           "type": "Point"
          },
          "id": "42",
          "lat": 51.033989,
          "locatie": "A2, Born, Netherlands",
          "lon": 5.823739,
          "max": 0.00015818301471881568,
          "median": 0.00013993715071657165,
          "min": 0.00012511653337636633,
          "ministerie": "Ministerie van Infrastructuur en Waterstaat",
          "project": "A2 Het Vonderen - Kerensheide",
          "title": "",
          "type": "Feature"
         },
         {
          "date": "2019-02-01",
          "geometry": {
           "coordinates": [
            5.823739,
            51.033989
           ],
           "type": "Point"
          },
          "id": "42",
          "lat": 51.033989,
          "locatie": "A2, Born, Netherlands",
          "lon": 5.823739,
          "max": 0.00014957518120463915,
          "median": 0.00013951041033798847,
          "min": 0.00013004646461922675,
          "ministerie": "Ministerie van Infrastructuur en Waterstaat",
          "project": "A2 Het Vonderen - Kerensheide",
          "title": "",
          "type": "Feature"
         },
         {
          "date": "2019-03-01",
          "geometry": {
           "coordinates": [
            5.823739,
            51.033989
           ],
           "type": "Point"
          },
          "id": "42",
          "lat": 51.033989,
          "locatie": "A2, Born, Netherlands",
          "lon": 5.823739,
          "max": 0.00012009550754277443,
          "median": 0.00010913714140770026,
          "min": 0.00010097226968725065,
          "ministerie": "Ministerie van Infrastructuur en Waterstaat",
          "project": "A2 Het Vonderen - Kerensheide",
          "title": "",
          "type": "Feature"
         },
         {
          "date": "2019-04-01",
          "geometry": {
           "coordinates": [
            5.823739,
            51.033989
           ],
           "type": "Point"
          },
          "id": "42",
          "lat": 51.033989,
          "locatie": "A2, Born, Netherlands",
          "lon": 5.823739,
          "max": 0.00016251511841571366,
          "median": 0.00015254078883963592,
          "min": 0.0001386273745959909,
          "ministerie": "Ministerie van Infrastructuur en Waterstaat",
          "project": "A2 Het Vonderen - Kerensheide",
          "title": "",
          "type": "Feature"
         },
         {
          "date": "2019-05-01",
          "geometry": {
           "coordinates": [
            5.823739,
            51.033989
           ],
           "type": "Point"
          },
          "id": "42",
          "lat": 51.033989,
          "locatie": "A2, Born, Netherlands",
          "lon": 5.823739,
          "max": 0.000135315038042513,
          "median": 0.00012839576047604073,
          "min": 0.00011802416702266783,
          "ministerie": "Ministerie van Infrastructuur en Waterstaat",
          "project": "A2 Het Vonderen - Kerensheide",
          "title": "",
          "type": "Feature"
         },
         {
          "date": "2019-06-01",
          "geometry": {
           "coordinates": [
            5.823739,
            51.033989
           ],
           "type": "Point"
          },
          "id": "42",
          "lat": 51.033989,
          "locatie": "A2, Born, Netherlands",
          "lon": 5.823739,
          "max": 0.00011322317207437188,
          "median": 0.00010845705434061177,
          "min": 0.0001035284803731077,
          "ministerie": "Ministerie van Infrastructuur en Waterstaat",
          "project": "A2 Het Vonderen - Kerensheide",
          "title": "",
          "type": "Feature"
         },
         {
          "date": "2019-07-01",
          "geometry": {
           "coordinates": [
            5.823739,
            51.033989
           ],
           "type": "Point"
          },
          "id": "42",
          "lat": 51.033989,
          "locatie": "A2, Born, Netherlands",
          "lon": 5.823739,
          "max": 0.00011771041317842901,
          "median": 0.0001117199464544868,
          "min": 0.0001054919777614279,
          "ministerie": "Ministerie van Infrastructuur en Waterstaat",
          "project": "A2 Het Vonderen - Kerensheide",
          "title": "",
          "type": "Feature"
         },
         {
          "date": "2019-08-01",
          "geometry": {
           "coordinates": [
            5.823739,
            51.033989
           ],
           "type": "Point"
          },
          "id": "42",
          "lat": 51.033989,
          "locatie": "A2, Born, Netherlands",
          "lon": 5.823739,
          "max": 0.00011607542366134737,
          "median": 0.00010507665711919094,
          "min": 9.825374581851065e-05,
          "ministerie": "Ministerie van Infrastructuur en Waterstaat",
          "project": "A2 Het Vonderen - Kerensheide",
          "title": "",
          "type": "Feature"
         },
         {
          "date": "2019-09-01",
          "geometry": {
           "coordinates": [
            5.823739,
            51.033989
           ],
           "type": "Point"
          },
          "id": "42",
          "lat": 51.033989,
          "locatie": "A2, Born, Netherlands",
          "lon": 5.823739,
          "max": 0.00013273520437227408,
          "median": 0.00011898770628785346,
          "min": 0.0001053592146856327,
          "ministerie": "Ministerie van Infrastructuur en Waterstaat",
          "project": "A2 Het Vonderen - Kerensheide",
          "title": "",
          "type": "Feature"
         },
         {
          "date": "2018-07-01",
          "geometry": {
           "coordinates": [
            4.967682,
            51.877478
           ],
           "type": "Point"
          },
          "id": "43",
          "lat": 51.877478,
          "locatie": "A27, Hoogblokland, Netherlands",
          "lon": 4.967682,
          "max": 0.00013025119968230453,
          "median": 0.00012676120119783864,
          "min": 0.00012108846303815562,
          "ministerie": "Ministerie van Infrastructuur en Waterstaat",
          "project": "A27 Houten - Hooipolder",
          "title": "",
          "type": "Feature"
         },
         {
          "date": "2018-08-01",
          "geometry": {
           "coordinates": [
            4.967682,
            51.877478
           ],
           "type": "Point"
          },
          "id": "43",
          "lat": 51.877478,
          "locatie": "A27, Hoogblokland, Netherlands",
          "lon": 4.967682,
          "max": 0.00012341577021402888,
          "median": 0.00010876291699091457,
          "min": 0.00010288628254784271,
          "ministerie": "Ministerie van Infrastructuur en Waterstaat",
          "project": "A27 Houten - Hooipolder",
          "title": "",
          "type": "Feature"
         },
         {
          "date": "2018-09-01",
          "geometry": {
           "coordinates": [
            4.967682,
            51.877478
           ],
           "type": "Point"
          },
          "id": "43",
          "lat": 51.877478,
          "locatie": "A27, Hoogblokland, Netherlands",
          "lon": 4.967682,
          "max": 0.00014668381439391335,
          "median": 0.00013708324971680472,
          "min": 0.0001264370550930965,
          "ministerie": "Ministerie van Infrastructuur en Waterstaat",
          "project": "A27 Houten - Hooipolder",
          "title": "",
          "type": "Feature"
         },
         {
          "date": "2018-10-01",
          "geometry": {
           "coordinates": [
            4.967682,
            51.877478
           ],
           "type": "Point"
          },
          "id": "43",
          "lat": 51.877478,
          "locatie": "A27, Hoogblokland, Netherlands",
          "lon": 4.967682,
          "max": 0.00013878710160497576,
          "median": 0.00012176042182609701,
          "min": 0.00010491627472219989,
          "ministerie": "Ministerie van Infrastructuur en Waterstaat",
          "project": "A27 Houten - Hooipolder",
          "title": "",
          "type": "Feature"
         },
         {
          "date": "2018-11-01",
          "geometry": {
           "coordinates": [
            4.967682,
            51.877478
           ],
           "type": "Point"
          },
          "id": "43",
          "lat": 51.877478,
          "locatie": "A27, Hoogblokland, Netherlands",
          "lon": 4.967682,
          "max": 0.00015680542855989188,
          "median": 0.00014066700569189972,
          "min": 0.0001239577541127801,
          "ministerie": "Ministerie van Infrastructuur en Waterstaat",
          "project": "A27 Houten - Hooipolder",
          "title": "",
          "type": "Feature"
         },
         {
          "date": "2018-12-01",
          "geometry": {
           "coordinates": [
            4.967682,
            51.877478
           ],
           "type": "Point"
          },
          "id": "43",
          "lat": 51.877478,
          "locatie": "A27, Hoogblokland, Netherlands",
          "lon": 4.967682,
          "max": 0.00012192900612717494,
          "median": 0.00011039791518355758,
          "min": 9.430668433196843e-05,
          "ministerie": "Ministerie van Infrastructuur en Waterstaat",
          "project": "A27 Houten - Hooipolder",
          "title": "",
          "type": "Feature"
         },
         {
          "date": "2019-01-01",
          "geometry": {
           "coordinates": [
            4.967682,
            51.877478
           ],
           "type": "Point"
          },
          "id": "43",
          "lat": 51.877478,
          "locatie": "A27, Hoogblokland, Netherlands",
          "lon": 4.967682,
          "max": 0.0001076087481167908,
          "median": 8.903121852199547e-05,
          "min": 7.809169619577006e-05,
          "ministerie": "Ministerie van Infrastructuur en Waterstaat",
          "project": "A27 Houten - Hooipolder",
          "title": "",
          "type": "Feature"
         },
         {
          "date": "2019-02-01",
          "geometry": {
           "coordinates": [
            4.967682,
            51.877478
           ],
           "type": "Point"
          },
          "id": "43",
          "lat": 51.877478,
          "locatie": "A27, Hoogblokland, Netherlands",
          "lon": 4.967682,
          "max": 0.00014441153325606138,
          "median": 0.0001326185053531957,
          "min": 0.00012357169180177152,
          "ministerie": "Ministerie van Infrastructuur en Waterstaat",
          "project": "A27 Houten - Hooipolder",
          "title": "",
          "type": "Feature"
         },
         {
          "date": "2019-03-01",
          "geometry": {
           "coordinates": [
            4.967682,
            51.877478
           ],
           "type": "Point"
          },
          "id": "43",
          "lat": 51.877478,
          "locatie": "A27, Hoogblokland, Netherlands",
          "lon": 4.967682,
          "max": 0.00011142390934464161,
          "median": 9.75498352734303e-05,
          "min": 8.832831372274086e-05,
          "ministerie": "Ministerie van Infrastructuur en Waterstaat",
          "project": "A27 Houten - Hooipolder",
          "title": "",
          "type": "Feature"
         },
         {
          "date": "2019-04-01",
          "geometry": {
           "coordinates": [
            4.967682,
            51.877478
           ],
           "type": "Point"
          },
          "id": "43",
          "lat": 51.877478,
          "locatie": "A27, Hoogblokland, Netherlands",
          "lon": 4.967682,
          "max": 0.0001295270922128111,
          "median": 0.00012318801028597985,
          "min": 0.00011502078996272758,
          "ministerie": "Ministerie van Infrastructuur en Waterstaat",
          "project": "A27 Houten - Hooipolder",
          "title": "",
          "type": "Feature"
         },
         {
          "date": "2019-05-01",
          "geometry": {
           "coordinates": [
            4.967682,
            51.877478
           ],
           "type": "Point"
          },
          "id": "43",
          "lat": 51.877478,
          "locatie": "A27, Hoogblokland, Netherlands",
          "lon": 4.967682,
          "max": 0.0001223838480930652,
          "median": 0.00011714501306414604,
          "min": 0.0001112106183427386,
          "ministerie": "Ministerie van Infrastructuur en Waterstaat",
          "project": "A27 Houten - Hooipolder",
          "title": "",
          "type": "Feature"
         },
         {
          "date": "2019-06-01",
          "geometry": {
           "coordinates": [
            4.967682,
            51.877478
           ],
           "type": "Point"
          },
          "id": "43",
          "lat": 51.877478,
          "locatie": "A27, Hoogblokland, Netherlands",
          "lon": 4.967682,
          "max": 0.00012000045450540043,
          "median": 0.0001106431991502177,
          "min": 0.00010632202742206045,
          "ministerie": "Ministerie van Infrastructuur en Waterstaat",
          "project": "A27 Houten - Hooipolder",
          "title": "",
          "type": "Feature"
         },
         {
          "date": "2019-07-01",
          "geometry": {
           "coordinates": [
            4.967682,
            51.877478
           ],
           "type": "Point"
          },
          "id": "43",
          "lat": 51.877478,
          "locatie": "A27, Hoogblokland, Netherlands",
          "lon": 4.967682,
          "max": 0.0001170379500623998,
          "median": 0.00011016201276134456,
          "min": 0.00010132831084774807,
          "ministerie": "Ministerie van Infrastructuur en Waterstaat",
          "project": "A27 Houten - Hooipolder",
          "title": "",
          "type": "Feature"
         },
         {
          "date": "2019-08-01",
          "geometry": {
           "coordinates": [
            4.967682,
            51.877478
           ],
           "type": "Point"
          },
          "id": "43",
          "lat": 51.877478,
          "locatie": "A27, Hoogblokland, Netherlands",
          "lon": 4.967682,
          "max": 0.00011729188918252476,
          "median": 0.00011247681558892958,
          "min": 0.00010575148095148725,
          "ministerie": "Ministerie van Infrastructuur en Waterstaat",
          "project": "A27 Houten - Hooipolder",
          "title": "",
          "type": "Feature"
         },
         {
          "date": "2019-09-01",
          "geometry": {
           "coordinates": [
            4.967682,
            51.877478
           ],
           "type": "Point"
          },
          "id": "43",
          "lat": 51.877478,
          "locatie": "A27, Hoogblokland, Netherlands",
          "lon": 4.967682,
          "max": 0.0001106202566473879,
          "median": 0.00010320147339371033,
          "min": 8.963655726832448e-05,
          "ministerie": "Ministerie van Infrastructuur en Waterstaat",
          "project": "A27 Houten - Hooipolder",
          "title": "",
          "type": "Feature"
         },
         {
          "date": "2018-07-01",
          "geometry": {
           "coordinates": [
            4.3122419999999995,
            52.079195
           ],
           "type": "Point"
          },
          "id": "120",
          "lat": 52.079195,
          "locatie": "Binnenhof, The Hague, Netherlands",
          "lon": 4.3122419999999995,
          "max": 0.00013847572629326684,
          "median": 0.00012538514266039946,
          "min": 0.00010893572019122718,
          "ministerie": "Ministerie van Binnenlandse Zaken en Koninkrijksrelaties",
          "project": "Renovatie Binnenhof",
          "title": "",
          "type": "Feature"
         },
         {
          "date": "2018-08-01",
          "geometry": {
           "coordinates": [
            4.3122419999999995,
            52.079195
           ],
           "type": "Point"
          },
          "id": "120",
          "lat": 52.079195,
          "locatie": "Binnenhof, The Hague, Netherlands",
          "lon": 4.3122419999999995,
          "max": 0.0001174943519000722,
          "median": 0.00010858989844564348,
          "min": 9.448191472618991e-05,
          "ministerie": "Ministerie van Binnenlandse Zaken en Koninkrijksrelaties",
          "project": "Renovatie Binnenhof",
          "title": "",
          "type": "Feature"
         },
         {
          "date": "2018-09-01",
          "geometry": {
           "coordinates": [
            4.3122419999999995,
            52.079195
           ],
           "type": "Point"
          },
          "id": "120",
          "lat": 52.079195,
          "locatie": "Binnenhof, The Hague, Netherlands",
          "lon": 4.3122419999999995,
          "max": 0.0001366378419334069,
          "median": 0.00012704690897139378,
          "min": 0.00011527684910106473,
          "ministerie": "Ministerie van Binnenlandse Zaken en Koninkrijksrelaties",
          "project": "Renovatie Binnenhof",
          "title": "",
          "type": "Feature"
         },
         {
          "date": "2018-10-01",
          "geometry": {
           "coordinates": [
            4.3122419999999995,
            52.079195
           ],
           "type": "Point"
          },
          "id": "120",
          "lat": 52.079195,
          "locatie": "Binnenhof, The Hague, Netherlands",
          "lon": 4.3122419999999995,
          "max": 0.000144743244163692,
          "median": 0.00012428407296787342,
          "min": 0.00010308443129084514,
          "ministerie": "Ministerie van Binnenlandse Zaken en Koninkrijksrelaties",
          "project": "Renovatie Binnenhof",
          "title": "",
          "type": "Feature"
         },
         {
          "date": "2018-11-01",
          "geometry": {
           "coordinates": [
            4.3122419999999995,
            52.079195
           ],
           "type": "Point"
          },
          "id": "120",
          "lat": 52.079195,
          "locatie": "Binnenhof, The Hague, Netherlands",
          "lon": 4.3122419999999995,
          "max": 0.00018960379876391872,
          "median": 0.0001619516551727429,
          "min": 0.0001430903209430958,
          "ministerie": "Ministerie van Binnenlandse Zaken en Koninkrijksrelaties",
          "project": "Renovatie Binnenhof",
          "title": "",
          "type": "Feature"
         },
         {
          "date": "2018-12-01",
          "geometry": {
           "coordinates": [
            4.3122419999999995,
            52.079195
           ],
           "type": "Point"
          },
          "id": "120",
          "lat": 52.079195,
          "locatie": "Binnenhof, The Hague, Netherlands",
          "lon": 4.3122419999999995,
          "max": 0.00012659441563300788,
          "median": 0.0001037309630191885,
          "min": 8.370876457775012e-05,
          "ministerie": "Ministerie van Binnenlandse Zaken en Koninkrijksrelaties",
          "project": "Renovatie Binnenhof",
          "title": "",
          "type": "Feature"
         },
         {
          "date": "2019-01-01",
          "geometry": {
           "coordinates": [
            4.3122419999999995,
            52.079195
           ],
           "type": "Point"
          },
          "id": "120",
          "lat": 52.079195,
          "locatie": "Binnenhof, The Hague, Netherlands",
          "lon": 4.3122419999999995,
          "max": 8.330296689070029e-05,
          "median": 5.834697913087439e-05,
          "min": 5.074668843008112e-05,
          "ministerie": "Ministerie van Binnenlandse Zaken en Koninkrijksrelaties",
          "project": "Renovatie Binnenhof",
          "title": "",
          "type": "Feature"
         },
         {
          "date": "2019-02-01",
          "geometry": {
           "coordinates": [
            4.3122419999999995,
            52.079195
           ],
           "type": "Point"
          },
          "id": "120",
          "lat": 52.079195,
          "locatie": "Binnenhof, The Hague, Netherlands",
          "lon": 4.3122419999999995,
          "max": 0.0002087792868458658,
          "median": 0.00017660086450632662,
          "min": 0.0001382074549631069,
          "ministerie": "Ministerie van Binnenlandse Zaken en Koninkrijksrelaties",
          "project": "Renovatie Binnenhof",
          "title": "",
          "type": "Feature"
         },
         {
          "date": "2019-03-01",
          "geometry": {
           "coordinates": [
            4.3122419999999995,
            52.079195
           ],
           "type": "Point"
          },
          "id": "120",
          "lat": 52.079195,
          "locatie": "Binnenhof, The Hague, Netherlands",
          "lon": 4.3122419999999995,
          "max": 0.00010916148420802935,
          "median": 0.0001029110534407504,
          "min": 9.205129026668146e-05,
          "ministerie": "Ministerie van Binnenlandse Zaken en Koninkrijksrelaties",
          "project": "Renovatie Binnenhof",
          "title": "",
          "type": "Feature"
         },
         {
          "date": "2019-04-01",
          "geometry": {
           "coordinates": [
            4.3122419999999995,
            52.079195
           ],
           "type": "Point"
          },
          "id": "120",
          "lat": 52.079195,
          "locatie": "Binnenhof, The Hague, Netherlands",
          "lon": 4.3122419999999995,
          "max": 0.0001521985257404387,
          "median": 0.0001407013346433887,
          "min": 0.00013045466733130242,
          "ministerie": "Ministerie van Binnenlandse Zaken en Koninkrijksrelaties",
          "project": "Renovatie Binnenhof",
          "title": "",
          "type": "Feature"
         },
         {
          "date": "2019-05-01",
          "geometry": {
           "coordinates": [
            4.3122419999999995,
            52.079195
           ],
           "type": "Point"
          },
          "id": "120",
          "lat": 52.079195,
          "locatie": "Binnenhof, The Hague, Netherlands",
          "lon": 4.3122419999999995,
          "max": 0.00012458670549276467,
          "median": 0.00011773095755827977,
          "min": 0.00011128997728388591,
          "ministerie": "Ministerie van Binnenlandse Zaken en Koninkrijksrelaties",
          "project": "Renovatie Binnenhof",
          "title": "",
          "type": "Feature"
         },
         {
          "date": "2019-06-01",
          "geometry": {
           "coordinates": [
            4.3122419999999995,
            52.079195
           ],
           "type": "Point"
          },
          "id": "120",
          "lat": 52.079195,
          "locatie": "Binnenhof, The Hague, Netherlands",
          "lon": 4.3122419999999995,
          "max": 0.0001346407295188525,
          "median": 0.0001198104364448227,
          "min": 0.00010835024798750426,
          "ministerie": "Ministerie van Binnenlandse Zaken en Koninkrijksrelaties",
          "project": "Renovatie Binnenhof",
          "title": "",
          "type": "Feature"
         },
         {
          "date": "2019-07-01",
          "geometry": {
           "coordinates": [
            4.3122419999999995,
            52.079195
           ],
           "type": "Point"
          },
          "id": "120",
          "lat": 52.079195,
          "locatie": "Binnenhof, The Hague, Netherlands",
          "lon": 4.3122419999999995,
          "max": 0.0001204133881656934,
          "median": 0.00011092626656411296,
          "min": 9.70240798778832e-05,
          "ministerie": "Ministerie van Binnenlandse Zaken en Koninkrijksrelaties",
          "project": "Renovatie Binnenhof",
          "title": "",
          "type": "Feature"
         },
         {
          "date": "2019-08-01",
          "geometry": {
           "coordinates": [
            4.3122419999999995,
            52.079195
           ],
           "type": "Point"
          },
          "id": "120",
          "lat": 52.079195,
          "locatie": "Binnenhof, The Hague, Netherlands",
          "lon": 4.3122419999999995,
          "max": 0.00011472076950816846,
          "median": 0.00010627963638398796,
          "min": 9.91758715827018e-05,
          "ministerie": "Ministerie van Binnenlandse Zaken en Koninkrijksrelaties",
          "project": "Renovatie Binnenhof",
          "title": "",
          "type": "Feature"
         },
         {
          "date": "2019-09-01",
          "geometry": {
           "coordinates": [
            4.3122419999999995,
            52.079195
           ],
           "type": "Point"
          },
          "id": "120",
          "lat": 52.079195,
          "locatie": "Binnenhof, The Hague, Netherlands",
          "lon": 4.3122419999999995,
          "max": 0.00011636297122073817,
          "median": 8.507138301173603e-05,
          "min": 7.44555436540395e-05,
          "ministerie": "Ministerie van Binnenlandse Zaken en Koninkrijksrelaties",
          "project": "Renovatie Binnenhof",
          "title": "",
          "type": "Feature"
         }
        ]
       },
       "hconcat": [
        {
         "vconcat": [
          {
           "encoding": {
            "color": {
             "condition": {
              "selection": "Dates",
              "value": "#FF9C33"
             },
             "value": "#77B2D4"
            },
            "tooltip": [
             {
              "field": "locatie",
              "type": "nominal"
             },
             {
              "field": "median",
              "format": ".4s",
              "type": "quantitative"
             }
            ],
            "x": {
             "axis": {
              "format": ".2s"
             },
             "field": "median",
             "title": "NO₂ mol/m²",
             "type": "quantitative"
            },
            "y": {
             "field": "date",
             "title": null,
             "type": "ordinal"
            }
           },
           "mark": "boxplot",
           "selection": {
            "Dates": {
             "bind": {
              "input": "select",
              "options": [
               "2018-07-01",
               "2018-08-01",
               "2018-09-01",
               "2018-10-01",
               "2018-11-01",
               "2018-12-01",
               "2019-01-01",
               "2019-02-01",
               "2019-03-01",
               "2019-04-01",
               "2019-05-01",
               "2019-06-01",
               "2019-07-01",
               "2019-08-01",
               "2019-09-01"
              ]
             },
             "empty": "none",
             "fields": [
              "date"
             ],
             "init": {
              "date": "2019-09-01"
             },
             "type": "single"
            }
           },
           "width": 300
          },
          {
           "encoding": {
            "fill": {
             "aggregate": "mean",
             "field": "median",
             "legend": null,
             "scale": {
              "domain": [
               0,
               0.00016
              ],
              "scheme": {
               "count": 5,
               "name": "blueorange"
              },
              "type": "quantize"
             },
             "type": "quantitative"
            },
            "fillOpacity": {
             "condition": {
              "selection": "selector010",
              "value": 0.6
             },
             "value": 1
            },
            "size": {
             "aggregate": "mean",
             "field": "median",
             "legend": {
              "format": ".1s",
              "title": "NO₂ mol/m²"
             },
             "scale": {
              "range": [
               0,
               500
              ],
              "type": "symlog"
             },
             "type": "quantitative"
            },
            "strokeWidth": {
             "condition": {
              "selection": "selector009",
              "value": 2
             },
             "value": 1
            },
            "tooltip": [
             {
              "field": "date",
              "type": "ordinal"
             },
             {
              "aggregate": "mean",
              "field": "median",
              "format": ".4s",
              "type": "quantitative"
             }
            ],
            "x": {
             "axis": {
              "labelAngle": 0
             },
             "field": "date",
             "title": null,
             "type": "ordinal"
            },
            "y": {
             "axis": {
              "labelLimit": 300
             },
             "field": "ministerie",
             "title": null,
             "type": "nominal"
            }
           },
           "mark": {
            "stroke": "black",
            "type": "point"
           },
           "selection": {
            "Dates": {
             "bind": {
              "input": "select",
              "options": [
               "2018-07-01",
               "2018-08-01",
               "2018-09-01",
               "2018-10-01",
               "2018-11-01",
               "2018-12-01",
               "2019-01-01",
               "2019-02-01",
               "2019-03-01",
               "2019-04-01",
               "2019-05-01",
               "2019-06-01",
               "2019-07-01",
               "2019-08-01",
               "2019-09-01"
              ]
             },
             "empty": "none",
             "fields": [
              "date"
             ],
             "init": {
              "date": "2019-09-01"
             },
             "type": "single"
            },
            "selector010": {
             "empty": "none",
             "fields": [
              "locatie",
              "date"
             ],
             "on": "mouseover",
             "type": "single"
            }
           }
          }
         ]
        },
        {
         "vconcat": [
          {
           "encoding": {
            "text": {
             "field": "date",
             "type": "nominal"
            }
           },
           "mark": {
            "size": 12,
            "type": "text"
           },
           "selection": {
            "Dates": {
             "bind": {
              "input": "select",
              "options": [
               "2018-07-01",
               "2018-08-01",
               "2018-09-01",
               "2018-10-01",
               "2018-11-01",
               "2018-12-01",
               "2019-01-01",
               "2019-02-01",
               "2019-03-01",
               "2019-04-01",
               "2019-05-01",
               "2019-06-01",
               "2019-07-01",
               "2019-08-01",
               "2019-09-01"
              ]
             },
             "empty": "none",
             "fields": [
              "date"
             ],
             "init": {
              "date": "2019-09-01"
             },
             "type": "single"
            }
           },
           "transform": [
            {
             "filter": {
              "selection": "Dates"
             }
            }
           ]
          },
          {
           "layer": [
            {
             "data": {
              "format": {
               "property": "features",
               "type": "json"
              },
              "url": "https://raw.githubusercontent.com/cartomap/nl/master/wgs84/provincie_%7B2017%7D.geojson"
             },
             "height": 300,
             "mark": {
              "fill": "#F1F1F1",
              "stroke": "black",
              "strokeWidth": 1,
              "type": "geoshape"
             },
             "projection": {
              "center": [
               -14.7,
               52.1
              ],
              "precision": 0.1,
              "rotate": [
               -20,
               0
              ],
              "scale": 5500,
              "translate": [
               150,
               150
              ],
              "type": "conicConformal"
             },
             "width": 300
            },
            {
             "encoding": {
              "color": {
               "field": "median",
               "legend": {
                "format": ".1s",
                "title": "NO₂ mol/m²"
               },
               "scale": {
                "domain": [
                 0,
                 0.00016
                ],
                "scheme": {
                 "count": 5,
                 "name": "blueorange"
                },
                "type": "quantize"
               },
               "type": "quantitative"
              },
              "latitude": {
               "field": "lat",
               "type": "quantitative"
              },
              "longitude": {
               "field": "lon",
               "type": "quantitative"
              },
              "size": {
               "field": "median",
               "scale": {
                "domain": [
                 0,
                 0.00016
                ]
               },
               "type": "quantitative"
              },
              "strokeWidth": {
               "condition": {
                "selection": "selector009",
                "value": 2
               },
               "value": 1
              },
              "tooltip": [
               {
                "field": "locatie",
                "type": "nominal"
               },
               {
                "field": "median",
                "format": ".4s",
                "type": "quantitative"
               }
              ]
             },
             "height": 300,
             "mark": {
              "opacity": 0.9,
              "stroke": "black",
              "type": "circle"
             },
             "projection": {
              "center": [
               -14.7,
               52.1
              ],
              "precision": 0.1,
              "rotate": [
               -20,
               0
              ],
              "scale": 5500,
              "translate": [
               150,
               150
              ],
              "type": "conicConformal"
             },
             "selection": {
              "Dates": {
               "bind": {
                "input": "select",
                "options": [
                 "2018-07-01",
                 "2018-08-01",
                 "2018-09-01",
                 "2018-10-01",
                 "2018-11-01",
                 "2018-12-01",
                 "2019-01-01",
                 "2019-02-01",
                 "2019-03-01",
                 "2019-04-01",
                 "2019-05-01",
                 "2019-06-01",
                 "2019-07-01",
                 "2019-08-01",
                 "2019-09-01"
                ]
               },
               "empty": "none",
               "fields": [
                "date"
               ],
               "init": {
                "date": "2019-09-01"
               },
               "type": "single"
              },
              "selector009": {
               "empty": "none",
               "fields": [
                "locatie"
               ],
               "init": {
                "locatie": "Houtribdijk, Enkhuizen, Netherlands"
               },
               "on": "mouseover",
               "type": "single"
              }
             },
             "transform": [
              {
               "filter": {
                "selection": "Dates"
               }
              }
             ],
             "width": 300
            }
           ]
          }
         ]
        }
       ]
      },
      "image/png": "[encoded data removed]",
      "text/plain": [
       "<VegaLite 3 object>\n",
       "\n",
       "If you see this message, it means the renderer has not been properly enabled\n",
       "for the frontend that you are using. For more information, see\n",
       "https://altair-viz.github.io/user_guide/troubleshooting.html\n"
      ]
     },
     "execution_count": 65,
     "metadata": {},
     "output_type": "execute_result"
    }
   ],
   "source": [
    "chart = alt.hconcat(alt.vconcat(boxplt, circleplt), alt.vconcat(titleplt, alt.layer(provplt, mapplt)), data=data)\n",
    "chart"
   ]
  },
  {
   "cell_type": "code",
   "execution_count": 66,
   "metadata": {},
   "outputs": [],
   "source": [
    "# export visualization as an 'in-memory text stream'\n",
    "export_html = io.StringIO()\n",
    "chart.save(export_html, format='html')"
   ]
  },
  {
   "cell_type": "code",
   "execution_count": 203,
   "metadata": {},
   "outputs": [
    {
     "name": "stdout",
     "output_type": "stream",
     "text": [
      "entry available at:\n",
      "https://tsws.hkvservices.nl/mangrove.ws/data.ashx?function=dataportal.db.getdata&parameters={database:'hoek',key:'NL_NO2_TROPOMI'}&contentType=SET_BY_USER\n"
     ]
    }
   ],
   "source": [
    "dp.new_entry(\n",
    "    database='hoek',\n",
    "    key='NL_NO2_TROPOMI',\n",
    "    data=export_html,\n",
    "    description='Maand aggregates NO2 voor NL RTL locaties'\n",
    ")"
   ]
  },
  {
   "cell_type": "code",
   "execution_count": 67,
   "metadata": {},
   "outputs": [
    {
     "name": "stdout",
     "output_type": "stream",
     "text": [
      "entry available at:\n",
      "https://tsws.hkvservices.nl/mangrove.ws/data.ashx?function=dataportal.db.getdata&parameters={database:'hoek',key:'NL_NO2_TROPOMI'}&contentType=SET_BY_USER\n"
     ]
    }
   ],
   "source": [
    "dp.update_entry(\n",
    "    database='hoek',\n",
    "    key='NL_NO2_TROPOMI',\n",
    "    data=export_html,\n",
    "    description='Maand aggregates NO2 voor NL RTL locaties'\n",
    ")"
   ]
  },
  {
   "cell_type": "code",
   "execution_count": null,
   "metadata": {},
   "outputs": [],
   "source": []
  }
 ],
 "metadata": {
  "kernelspec": {
   "display_name": "Python 3",
   "language": "python",
   "name": "python3"
  },
  "language_info": {
   "codemirror_mode": {
    "name": "ipython",
    "version": 3
   },
   "file_extension": ".py",
   "mimetype": "text/x-python",
   "name": "python",
   "nbconvert_exporter": "python",
   "pygments_lexer": "ipython3",
   "version": "3.6.5"
  }
 },
 "nbformat": 4,
 "nbformat_minor": 4
}
