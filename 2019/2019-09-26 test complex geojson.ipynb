{
 "cells": [
  {
   "cell_type": "code",
   "execution_count": 1,
   "metadata": {},
   "outputs": [],
   "source": [
    "import topojson as tp"
   ]
  },
  {
   "cell_type": "code",
   "execution_count": 59,
   "metadata": {},
   "outputs": [],
   "source": [
    "source = data.cars.url"
   ]
  },
  {
   "cell_type": "code",
   "execution_count": 60,
   "metadata": {},
   "outputs": [
    {
     "data": {
      "text/plain": [
       "'https://vega.github.io/vega-datasets/data/cars.json'"
      ]
     },
     "execution_count": 60,
     "metadata": {},
     "output_type": "execute_result"
    }
   ],
   "source": [
    "source"
   ]
  },
  {
   "cell_type": "code",
   "execution_count": 66,
   "metadata": {},
   "outputs": [
    {
     "data": {
      "application/vnd.vegalite.v3+json": {
       "$schema": "https://vega.github.io/schema/vega-lite/v3.4.0.json",
       "config": {
        "mark": {
         "tooltip": null
        },
        "view": {
         "height": 300,
         "width": 400
        }
       },
       "data": {
        "url": "https://vega.github.io/vega-datasets/data/cars.json"
       },
       "encoding": {
        "color": {
         "condition": {
          "aggregate": "count",
          "selection": {
           "or": [
            "alex",
            "morgan"
           ]
          },
          "type": "quantitative"
         },
         "value": "grey"
        },
        "x": {
         "field": "Cylinders",
         "type": "ordinal"
        },
        "y": {
         "field": "Origin",
         "type": "ordinal"
        }
       },
       "height": 180,
       "mark": "rect",
       "selection": {
        "alex": {
         "on": "[mousedown[event.ctrlKey], mouseup] > mousemove",
         "type": "interval"
        },
        "morgan": {
         "mark": {
          "fill": "#fdbb84",
          "fillOpacity": 0.5,
          "stroke": "#e34a33"
         },
         "on": "[mousedown[event.shiftKey], mouseup] > mousemove",
         "type": "interval"
        }
       },
       "width": 300
      },
      "image/png": "[encoded data removed]",
      "text/plain": [
       "<VegaLite 3 object>\n",
       "\n",
       "If you see this message, it means the renderer has not been properly enabled\n",
       "for the frontend that you are using. For more information, see\n",
       "https://altair-viz.github.io/user_guide/troubleshooting.html\n"
      ]
     },
     "execution_count": 66,
     "metadata": {},
     "output_type": "execute_result"
    }
   ],
   "source": []
  },
  {
   "cell_type": "code",
   "execution_count": 47,
   "metadata": {},
   "outputs": [
    {
     "data": {
      "text/plain": [
       "ColorValue({\n",
       "  condition: {'selection': SelectionAnd({\n",
       "    and: ['alex', 'morgan']\n",
       "  }), 'shorthand': 'count()'},\n",
       "  value: 'grey'\n",
       "})"
      ]
     },
     "execution_count": 47,
     "metadata": {},
     "output_type": "execute_result"
    }
   ],
   "source": [
    "alt.condition(alex & morgan, 'count()', alt.ColorValue(\"grey\"))"
   ]
  },
  {
   "cell_type": "markdown",
   "metadata": {},
   "source": [
    "### Composing Multiple Selections\n",
    "\n",
    "Altair also supports combining multiple selections using the `&`, `|` and `~` for respectively `AND`, `OR` and `NOT` logical composition operands.\n",
    "\n",
    "In the following example there are two people who can make an interval selection in the chart.  The person Alex makes an selection box when the control-key is selected and Morgan can make an selection box when the shift-key is selected.\n",
    "Now, we color the rectangles when they fall within Alex's or Morgan's selection."
   ]
  },
  {
   "cell_type": "code",
   "execution_count": 95,
   "metadata": {},
   "outputs": [
    {
     "data": {
      "application/vnd.vegalite.v3+json": {
       "$schema": "https://vega.github.io/schema/vega-lite/v3.4.0.json",
       "config": {
        "mark": {
         "tooltip": null
        },
        "view": {
         "height": 300,
         "width": 400
        }
       },
       "data": {
        "url": "https://vega.github.io/vega-datasets/data/cars.json"
       },
       "encoding": {
        "color": {
         "condition": {
          "aggregate": "count",
          "selection": {
           "and": [
            "morgan",
            {
             "not": "alex"
            }
           ]
          },
          "type": "quantitative"
         },
         "value": "grey"
        },
        "x": {
         "field": "Cylinders",
         "type": "ordinal"
        },
        "y": {
         "field": "Origin",
         "type": "ordinal"
        }
       },
       "height": 180,
       "mark": "rect",
       "selection": {
        "alex": {
         "on": "[mousedown[!event.shiftKey], mouseup] > mousemove",
         "type": "interval"
        },
        "morgan": {
         "on": "click[event.shiftKey]",
         "type": "multi"
        }
       },
       "width": 300
      },
      "image/png": "[encoded data removed]",
      "text/plain": [
       "<VegaLite 3 object>\n",
       "\n",
       "If you see this message, it means the renderer has not been properly enabled\n",
       "for the frontend that you are using. For more information, see\n",
       "https://altair-viz.github.io/user_guide/troubleshooting.html\n"
      ]
     },
     "execution_count": 95,
     "metadata": {},
     "output_type": "execute_result"
    }
   ],
   "source": [
    "import altair as alt\n",
    "from vega_datasets import data\n",
    "\n",
    "source = data.cars.url\n",
    "\n",
    "alex = alt.selection_interval(\n",
    "    on=\"[mousedown[!event.shiftKey], mouseup] > mousemove\",\n",
    "    name='alex'\n",
    ")\n",
    "morgan = alt.selection_multi(\n",
    "    on=\"click[event.shiftKey]\",\n",
    "    name='morgan'\n",
    ")\n",
    "\n",
    "alt.Chart(source).mark_rect().encode(\n",
    "    x='Cylinders:O',\n",
    "    y='Origin:O',\n",
    "    color=alt.condition(morgan & ~alex, 'count()', alt.ColorValue(\"grey\"))    \n",
    ").add_selection(\n",
    "    alex, morgan\n",
    ").properties(\n",
    "    width=300,\n",
    "    height=180\n",
    ")"
   ]
  },
  {
   "cell_type": "markdown",
   "metadata": {},
   "source": [
    "With these operators, selections can be combined in arbitrary ways:\n",
    "\n",
    "- \"selection\": {\"not\": {\"and\": [\"alex\", \"morgan\"]}}: to sellect the rectangles that fall outside Alex's and Morgan's selections.\n",
    "- alex | ~morgan: to select the rectangles that fall within Alex's selection or outside the selection of Morgan"
   ]
  },
  {
   "cell_type": "code",
   "execution_count": null,
   "metadata": {},
   "outputs": [],
   "source": [
    "tp.Topology(gdf)"
   ]
  },
  {
   "cell_type": "code",
   "execution_count": null,
   "metadata": {},
   "outputs": [],
   "source": [
    "feature_collection"
   ]
  },
  {
   "cell_type": "code",
   "execution_count": 16,
   "metadata": {},
   "outputs": [],
   "source": [
    "path = r\"C:\\Users\\hoek.HKV\\Downloads\\geojson.show\\geojson show.json\"\n",
    "path_2 = r\"C:\\Users\\hoek.HKV\\Downloads\\geojson.show\\no_points.geojson\""
   ]
  },
  {
   "cell_type": "code",
   "execution_count": 17,
   "metadata": {},
   "outputs": [],
   "source": [
    "import geojson"
   ]
  },
  {
   "cell_type": "code",
   "execution_count": 18,
   "metadata": {},
   "outputs": [],
   "source": [
    "with open(path_2, 'r') as f:\n",
    "    fc_2 = geojson.load(f)"
   ]
  },
  {
   "cell_type": "code",
   "execution_count": 19,
   "metadata": {},
   "outputs": [
    {
     "data": {
      "application/vnd.jupyter.widget-view+json": {
       "model_id": "c22fa78fda0d45f8838ff1467a7cbaac",
       "version_major": 2,
       "version_minor": 0
      },
      "text/plain": [
       "interactive(children=(FloatSlider(value=0.01, description='Toposimplify Factor', max=10.0, step=0.01, style=Sl…"
      ]
     },
     "metadata": {},
     "output_type": "display_data"
    },
    {
     "data": {
      "text/plain": [
       "<function topojson.utils.toposimpquant(epsilon, quant, algo, topo)>"
      ]
     },
     "execution_count": 19,
     "metadata": {},
     "output_type": "execute_result"
    }
   ],
   "source": [
    "tp.Topology(fc_2).to_widget()"
   ]
  },
  {
   "cell_type": "code",
   "execution_count": null,
   "metadata": {},
   "outputs": [],
   "source": [
    "Extract(fc)"
   ]
  },
  {
   "cell_type": "code",
   "execution_count": null,
   "metadata": {},
   "outputs": [],
   "source": []
  }
 ],
 "metadata": {
  "kernelspec": {
   "display_name": "Python 3",
   "language": "python",
   "name": "python3"
  },
  "language_info": {
   "codemirror_mode": {
    "name": "ipython",
    "version": 3
   },
   "file_extension": ".py",
   "mimetype": "text/x-python",
   "name": "python",
   "nbconvert_exporter": "python",
   "pygments_lexer": "ipython3",
   "version": "3.6.5"
  }
 },
 "nbformat": 4,
 "nbformat_minor": 4
}
