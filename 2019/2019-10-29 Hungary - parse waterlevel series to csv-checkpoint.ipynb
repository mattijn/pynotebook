{
 "cells": [
  {
   "cell_type": "code",
   "execution_count": 1,
   "metadata": {},
   "outputs": [],
   "source": [
    "import pandas as pd\n",
    "from glob import glob\n",
    "import os"
   ]
  },
  {
   "cell_type": "code",
   "execution_count": null,
   "metadata": {},
   "outputs": [],
   "source": [
    "import datetime\n",
    "\n",
    "epoch = datetime.datetime.utcfromtimestamp(0)\n",
    "\n",
    "def unix_time_millis(dt):\n",
    "    return int((dt - epoch).total_seconds() * 1000.0)"
   ]
  },
  {
   "cell_type": "code",
   "execution_count": null,
   "metadata": {},
   "outputs": [],
   "source": [
    "ll = glob(r'D:\\Projects\\Pr\\2505.12\\Eduvizig\\Sensor series (waterstandsverlopen)/*.csv')"
   ]
  },
  {
   "cell_type": "code",
   "execution_count": null,
   "metadata": {},
   "outputs": [],
   "source": [
    "ids = [\n",
    "    {'no':1,'id_voa':'16495FD9-97AB-11D4-BB62-00508BA24287','hash_id': '-2111640596'},\n",
    "    {'no':2,'id_voa':'16495FDA-97AB-11D4-BB62-00508BA24287','hash_id': '525712224'  },\n",
    "    {'no':3,'id_voa':'16495FDB-97AB-11D4-BB62-00508BA24287','hash_id': '-1758465927'},\n",
    "    {'no':4,'id_voa':'16495FDC-97AB-11D4-BB62-00508BA24287','hash_id': '-1115086056'},\n",
    "    {'no':5,'id_voa':'16495FDD-97AB-11D4-BB62-00508BA24287','hash_id': '305387222'  },\n",
    "    {'no':6,'id_voa':'16495FDF-97AB-11D4-BB62-00508BA24287','hash_id': '579083965'  },\n",
    "    {'no':7,'id_voa':'16495FE0-97AB-11D4-BB62-00508BA24287','hash_id': '1763343428' },\n",
    "    {'no':8,'id_voa':'16495FE1-97AB-11D4-BB62-00508BA24287','hash_id': '2144261354' },\n",
    "    {'no':9,'id_voa':'16495FE2-97AB-11D4-BB62-00508BA24287','hash_id': '-2078840135'},\n",
    "    {'no':10,'id_voa':'16495FE3-97AB-11D4-BB62-00508BA24287','hash_id':'-1075038543'},\n",
    "    {'no':11,'id_voa':'16495FE8-97AB-11D4-BB62-00508BA24287','hash_id':'-1313710027'},\n",
    "    {'no':12,'id_voa':'16495FE9-97AB-11D4-BB62-00508BA24287','hash_id':'-321135123' },\n",
    "    {'no':13,'id_voa':'16495FEB-97AB-11D4-BB62-00508BA24287','hash_id':'-1108028420'},\n",
    "    {'no':14,'id_voa':'16495FF5-97AB-11D4-BB62-00508BA24287','hash_id':'-461452563' },\n",
    "    {'no':15,'id_voa':'16495FF7-97AB-11D4-BB62-00508BA24287','hash_id':'-262573935' },\n",
    "    {'no':16,'id_voa':'16495FFA-97AB-11D4-BB62-00508BA24287','hash_id':'780604148'  },\n",
    "    {'no':17,'id_voa':'16495FFC-97AB-11D4-BB62-00508BA24287','hash_id':'849008159'  },\n",
    "    {'no':18,'id_voa':'16496010-97AB-11D4-BB62-00508BA24287','hash_id':'1871916064' },\n",
    "    {'no':19,'id_voa':'16496011-97AB-11D4-BB62-00508BA24287','hash_id':'1483076295' },\n",
    "    {'no':20,'id_voa':'16496013-97AB-11D4-BB62-00508BA24287','hash_id':'-1940537054'},\n",
    "    {'no':21,'id_voa':'16496015-97AB-11D4-BB62-00508BA24287','hash_id':'1694437270' },\n",
    "    {'no':22,'id_voa':'1649601A-97AB-11D4-BB62-00508BA24287','hash_id':'484169733'  },\n",
    "    {'no':23,'id_voa':'4F469E50-AC92-4D09-AE92-2DCA1D170882','hash_id':'489252426'  },\n",
    "    {'no':24,'id_voa':'73F7E3D6-985C-11D4-BB62-00508BA24287','hash_id':'421184431'  },\n",
    "    {'no':25,'id_voa':'CD45857E-BE4D-492F-B39D-63234576ACC7','hash_id':'1109561636' },\n",
    "    {'no':26,'id_voa':'EF1503B4-13FA-4319-A513-34F6800176F6','hash_id':'28306246'   }\n",
    "]\n",
    "lookup = pd.DataFrame(ids)"
   ]
  },
  {
   "cell_type": "code",
   "execution_count": null,
   "metadata": {},
   "outputs": [],
   "source": [
    "start = pd.Timestamp('2013-01-02 07:00:00')\n",
    "end = pd.Timestamp('2013-12-31 07:00:00')\n",
    "rng = pd.date_range(start, end, freq='1H')\n",
    "\n",
    "df_all = pd.DataFrame()\n",
    "for l in ll:\n",
    "    id_l = os.path.basename(l).split('_')[2].split('.')[0]\n",
    "    df = pd.read_csv(l, skiprows=4, sep='\\t', encoding='ISO-8859-2')\n",
    "    df.index = pd.to_datetime(df.index)\n",
    "    df = df.iloc[:,0:1]\n",
    "    df.columns=['waterlevel']\n",
    "    #print(id_l)\n",
    "    station_id = lookup[lookup['id_voa'] == id_l]['no'].iloc[0]\n",
    "    #print(station_id)\n",
    "    df = df.loc['2013']\n",
    "    df = df.loc[~df.index.duplicated(keep='first')]\n",
    "    df = df.reindex(rng, axis=0).interpolate(axis=0)\n",
    "    df = df.loc['2013-04-01':'2013-09-30']\n",
    "    df['measuringstation'] = int(station_id)\n",
    "    df['scenarioid'] = 1    \n",
    "    if df.isnull().sum().sum() != 0:\n",
    "        df = df.fillna(0)\n",
    "#     df.reset_index(inplace=True)\n",
    "#     df['index'] = df['index'].apply(lambda x: unix_time_millis(x))\n",
    "#     df.rename(columns={'index':'datetime'}, inplace=True)\n",
    "    df_all = pd.concat((df_all, df))\n",
    "    print(df.index[0], df.index[-1])"
   ]
  },
  {
   "cell_type": "code",
   "execution_count": null,
   "metadata": {},
   "outputs": [],
   "source": [
    "df_all.measuringstation = df_all.measuringstation.astype(str)"
   ]
  },
  {
   "cell_type": "code",
   "execution_count": null,
   "metadata": {},
   "outputs": [],
   "source": []
  },
  {
   "cell_type": "code",
   "execution_count": null,
   "metadata": {},
   "outputs": [],
   "source": [
    "df_all.to_csv(r'D:\\Projects\\Pr\\2505.12\\Eduvizig\\waterlevels.csv')"
   ]
  },
  {
   "cell_type": "code",
   "execution_count": null,
   "metadata": {},
   "outputs": [],
   "source": [
    "df_all.head()"
   ]
  }
 ],
 "metadata": {
  "kernelspec": {
   "display_name": "Python 3",
   "language": "python",
   "name": "python3"
  },
  "language_info": {
   "codemirror_mode": {
    "name": "ipython",
    "version": 3
   },
   "file_extension": ".py",
   "mimetype": "text/x-python",
   "name": "python",
   "nbconvert_exporter": "python",
   "pygments_lexer": "ipython3",
   "version": "3.6.5"
  }
 },
 "nbformat": 4,
 "nbformat_minor": 4
}
