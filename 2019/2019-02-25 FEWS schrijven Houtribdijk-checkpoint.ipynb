{
 "cells": [
  {
   "cell_type": "markdown",
   "metadata": {
    "colab_type": "text",
    "id": "VKZelPzHIKBz"
   },
   "source": [
    "### Installatie + importeren Python packages in de Colab Notebook"
   ]
  },
  {
   "cell_type": "markdown",
   "metadata": {
    "colab_type": "text",
    "id": "ViP98vxPD4V8"
   },
   "source": [
    "Allereerst gaan we twee Python packages installeren welke niet standaard binnen de Colab omgeving zijn geïnstalleerd. Deze gaan we installeren via het package management system **`pip`**.  Dit roepen we aan binnen de Notebook als een *magic* functie, namelijk via\n",
    "\n",
    "```python\n",
    "!pip install <package_name>\n",
    "```\n",
    "\n",
    "\n",
    "---\n",
    "\n",
    "\n",
    "\n",
    "De twee Python packages welke we gaan installeren zijn `hkvfewspy` en `hkvsobekpy`. "
   ]
  },
  {
   "cell_type": "code",
   "execution_count": 1,
   "metadata": {
    "colab": {
     "base_uri": "https://localhost:8080/",
     "height": 1071
    },
    "colab_type": "code",
    "id": "iKkgOpNjzBRz",
    "outputId": "276b4c25-8c6e-42a5-a7e0-3898bc889710"
   },
   "outputs": [],
   "source": [
    "#!pip install hkvfewspy"
   ]
  },
  {
   "cell_type": "markdown",
   "metadata": {
    "colab_type": "text",
    "id": "qr2UQkMdFvmI"
   },
   "source": [
    "Vervolgens gaan we een aantal Python packages importeren binnen onze notebook. Elk van deze packages bevat een bibliotheek van functies welke we gaan gebruiken in deze workshop.\n",
    "\n",
    "\n",
    "---\n",
    "\n",
    "\n",
    "\n",
    "- `hkvfewspy` - voor het uitwisselen van gegevens met een FEWS database\n",
    "- `hkvsobekpy` - voor het afleiden van *waterstandstatistiek* (bevat ook functies voor het lezen en schrijven van SOBEK-bestanden)\n",
    "- `pandas` - voor het werken met data welke maximaal 2-dimensies heeft (net zoals Microsoft Excel dat ook kan).\n",
    "- `altair` - voor het maken van interactieve visualisaties"
   ]
  },
  {
   "cell_type": "code",
   "execution_count": 2,
   "metadata": {
    "colab": {},
    "colab_type": "code",
    "id": "lGXB5C9k06eY"
   },
   "outputs": [],
   "source": [
    "import hkvfewspy\n",
    "import pandas\n",
    "import altair"
   ]
  },
  {
   "cell_type": "markdown",
   "metadata": {},
   "source": [
    "Eerst even controleren welke versie we hebben. Zorg ervoor dat het in ieder geval `0.6.2` is."
   ]
  },
  {
   "cell_type": "code",
   "execution_count": 3,
   "metadata": {},
   "outputs": [
    {
     "data": {
      "text/plain": [
       "'0.6.2'"
      ]
     },
     "execution_count": 3,
     "metadata": {},
     "output_type": "execute_result"
    }
   ],
   "source": [
    "hkvfewspy.__version__"
   ]
  },
  {
   "cell_type": "markdown",
   "metadata": {
    "colab_type": "text",
    "id": "D8ZFjtL8JAhg"
   },
   "source": [
    "### Verbinding maken naar de FEWS Database + opvragen Locaties en Parameters"
   ]
  },
  {
   "cell_type": "markdown",
   "metadata": {
    "colab_type": "text",
    "id": "V7K4XB4j19qI"
   },
   "source": [
    "Nu we de juiste Python packages hebben geinstalleerd en geimporteerd kunnen we beginnen met het opzetten van een verbinding naar de FEWS WebService welke beschikbaar is gesteld voor deze workshop. \n",
    "\n",
    "Dit doen we door middel van de FEWS WebService, wat een soort van API is waarmee we op een gestandardiseerde manier kunnen praten met de database van FEWS.\n",
    "\n",
    "We doen dit door een `pi` object te initieren, waarbij we een `setClient` functie uitvoeren. In deze functie plaatsen we de URL van de FEWS PiService."
   ]
  },
  {
   "cell_type": "code",
   "execution_count": 4,
   "metadata": {
    "colab": {},
    "colab_type": "code",
    "id": "66HqZgCj2PSU"
   },
   "outputs": [],
   "source": [
    "pi = hkvfewspy.Pi() \n",
    "pi.setClient(wsdl='https://db.dmhoutribdijk.nl/FewsWebServices/fewspiservice?wsdl')"
   ]
  },
  {
   "cell_type": "code",
   "execution_count": 5,
   "metadata": {},
   "outputs": [
    {
     "data": {
      "text/html": [
       "<div>\n",
       "<style scoped>\n",
       "    .dataframe tbody tr th:only-of-type {\n",
       "        vertical-align: middle;\n",
       "    }\n",
       "\n",
       "    .dataframe tbody tr th {\n",
       "        vertical-align: top;\n",
       "    }\n",
       "\n",
       "    .dataframe thead th {\n",
       "        text-align: right;\n",
       "    }\n",
       "</style>\n",
       "<table border=\"1\" class=\"dataframe\">\n",
       "  <thead>\n",
       "    <tr style=\"text-align: right;\">\n",
       "      <th></th>\n",
       "      <th>f_import_STB</th>\n",
       "      <th>f_import</th>\n",
       "    </tr>\n",
       "  </thead>\n",
       "  <tbody>\n",
       "    <tr>\n",
       "      <th>description</th>\n",
       "      <td></td>\n",
       "      <td></td>\n",
       "    </tr>\n",
       "    <tr>\n",
       "      <th>id</th>\n",
       "      <td>f_import.STB</td>\n",
       "      <td>f_import</td>\n",
       "    </tr>\n",
       "    <tr>\n",
       "      <th>name</th>\n",
       "      <td>Stappenbaak</td>\n",
       "      <td>Imports</td>\n",
       "    </tr>\n",
       "  </tbody>\n",
       "</table>\n",
       "</div>"
      ],
      "text/plain": [
       "             f_import_STB  f_import\n",
       "description                        \n",
       "id           f_import.STB  f_import\n",
       "name          Stappenbaak   Imports"
      ]
     },
     "execution_count": 5,
     "metadata": {},
     "output_type": "execute_result"
    }
   ],
   "source": [
    "filters = pi.getFilters()\n",
    "filters"
   ]
  },
  {
   "cell_type": "code",
   "execution_count": 6,
   "metadata": {},
   "outputs": [],
   "source": [
    "filter_id = filters['f_import']['id']"
   ]
  },
  {
   "cell_type": "markdown",
   "metadata": {
    "colab_type": "text",
    "id": "I8aMMhga5WeZ"
   },
   "source": [
    "Met de opgezette verbinding gaan we de locaties opvragen zoals deze bekend zijn in de FEWS database. Dit doen we met de functie `getLocations()`. Deze locaties slaan we op in de variabele `locations`. We tonen deze `locations` vervolgens als een `pandas.DataFrame`."
   ]
  },
  {
   "cell_type": "code",
   "execution_count": 7,
   "metadata": {
    "colab": {
     "base_uri": "https://localhost:8080/",
     "height": 266
    },
    "colab_type": "code",
    "id": "9XpF-X872qwl",
    "outputId": "d495480b-020b-4499-cde0-46735a2b7822"
   },
   "outputs": [
    {
     "data": {
      "text/html": [
       "<div>\n",
       "<style scoped>\n",
       "    .dataframe tbody tr th:only-of-type {\n",
       "        vertical-align: middle;\n",
       "    }\n",
       "\n",
       "    .dataframe tbody tr th {\n",
       "        vertical-align: top;\n",
       "    }\n",
       "\n",
       "    .dataframe thead th {\n",
       "        text-align: right;\n",
       "    }\n",
       "</style>\n",
       "<table border=\"1\" class=\"dataframe\">\n",
       "  <thead>\n",
       "    <tr style=\"text-align: right;\">\n",
       "      <th></th>\n",
       "      <th>FL65_C</th>\n",
       "    </tr>\n",
       "  </thead>\n",
       "  <tbody>\n",
       "    <tr>\n",
       "      <th>geoDatum</th>\n",
       "      <td>Rijks Driehoekstelsel</td>\n",
       "    </tr>\n",
       "    <tr>\n",
       "      <th>lat</th>\n",
       "      <td>52.62431576583356</td>\n",
       "    </tr>\n",
       "    <tr>\n",
       "      <th>locationId</th>\n",
       "      <td>FL65_C</td>\n",
       "    </tr>\n",
       "    <tr>\n",
       "      <th>lon</th>\n",
       "      <td>5.424612701961958</td>\n",
       "    </tr>\n",
       "    <tr>\n",
       "      <th>shortName</th>\n",
       "      <td>FL65_C</td>\n",
       "    </tr>\n",
       "    <tr>\n",
       "      <th>x</th>\n",
       "      <td>157533.0</td>\n",
       "    </tr>\n",
       "    <tr>\n",
       "      <th>y</th>\n",
       "      <td>515200.0</td>\n",
       "    </tr>\n",
       "  </tbody>\n",
       "</table>\n",
       "</div>"
      ],
      "text/plain": [
       "                           FL65_C\n",
       "geoDatum    Rijks Driehoekstelsel\n",
       "lat             52.62431576583356\n",
       "locationId                 FL65_C\n",
       "lon             5.424612701961958\n",
       "shortName                  FL65_C\n",
       "x                        157533.0\n",
       "y                        515200.0"
      ]
     },
     "execution_count": 7,
     "metadata": {},
     "output_type": "execute_result"
    }
   ],
   "source": [
    "# get available locations\n",
    "locations = pi.getLocations(filterId=filter_id)\n",
    "locations"
   ]
  },
  {
   "cell_type": "markdown",
   "metadata": {
    "colab_type": "text",
    "id": "0NhoMhYpJWsi"
   },
   "source": [
    "Wat we zien is een dik gedrukte eerste rij (*FL65_C*). Dit zijn de `columns` van de `DataFrame`. Daarnaast zien we een dik gedrukte eerste kolom (*geoDatum, lat, locationId, lon, shortName, x, y*), dit is de `index` van de `DataFrame`.\n",
    "\n",
    "---\n",
    "\n",
    "\n",
    "\n",
    "Met behulp van de `columns` en `index`waarden kunnen we een bepaalde rij/kolom of cel selecteren, bijvoorbeeld de **`x`** waarde welke hoort bij locatie **`FL65_C`**."
   ]
  },
  {
   "cell_type": "code",
   "execution_count": 8,
   "metadata": {
    "colab": {
     "base_uri": "https://localhost:8080/",
     "height": 34
    },
    "colab_type": "code",
    "id": "2MWU9U2iKOcm",
    "outputId": "c94365fe-4ef8-407e-e671-2278e78e61c3"
   },
   "outputs": [
    {
     "data": {
      "text/plain": [
       "'FL65_C'"
      ]
     },
     "execution_count": 8,
     "metadata": {},
     "output_type": "execute_result"
    }
   ],
   "source": [
    "# slice by column and row\n",
    "locations.FL65_C.locationId"
   ]
  },
  {
   "cell_type": "markdown",
   "metadata": {
    "colab_type": "text",
    "id": "9wrGAfIy5krb"
   },
   "source": [
    "Hetzelfde gaan we doen voor de mogelijke parameters. Dit doen we door de functie `getParameters` uit te voeren, waarbij we de resultaten schrijven naar de variabele `parameters`. Net als `locations` is het resultaat hiervan een `pandas.DataFrame`."
   ]
  },
  {
   "cell_type": "code",
   "execution_count": 9,
   "metadata": {
    "colab": {
     "base_uri": "https://localhost:8080/",
     "height": 235
    },
    "colab_type": "code",
    "id": "VpGCUCwQ7OFk",
    "outputId": "532aa714-1214-4ed1-bc37-f4bc48d13005"
   },
   "outputs": [
    {
     "data": {
      "text/html": [
       "<div>\n",
       "<style scoped>\n",
       "    .dataframe tbody tr th:only-of-type {\n",
       "        vertical-align: middle;\n",
       "    }\n",
       "\n",
       "    .dataframe tbody tr th {\n",
       "        vertical-align: top;\n",
       "    }\n",
       "\n",
       "    .dataframe thead th {\n",
       "        text-align: right;\n",
       "    }\n",
       "</style>\n",
       "<table border=\"1\" class=\"dataframe\">\n",
       "  <thead>\n",
       "    <tr style=\"text-align: right;\">\n",
       "      <th></th>\n",
       "      <th>H_m</th>\n",
       "      <th>H_b</th>\n",
       "    </tr>\n",
       "  </thead>\n",
       "  <tbody>\n",
       "    <tr>\n",
       "      <th>displayUnit</th>\n",
       "      <td>mNAP</td>\n",
       "      <td>mNAP</td>\n",
       "    </tr>\n",
       "    <tr>\n",
       "      <th>id</th>\n",
       "      <td>H.m</td>\n",
       "      <td>H.b</td>\n",
       "    </tr>\n",
       "    <tr>\n",
       "      <th>name</th>\n",
       "      <td>Waterlevel - measured</td>\n",
       "      <td>Bodemhoogte - measured</td>\n",
       "    </tr>\n",
       "    <tr>\n",
       "      <th>parameterType</th>\n",
       "      <td>instantaneous</td>\n",
       "      <td>instantaneous</td>\n",
       "    </tr>\n",
       "    <tr>\n",
       "      <th>unit</th>\n",
       "      <td>mNAP</td>\n",
       "      <td>mNAP</td>\n",
       "    </tr>\n",
       "    <tr>\n",
       "      <th>usesDatum</th>\n",
       "      <td>true</td>\n",
       "      <td>true</td>\n",
       "    </tr>\n",
       "  </tbody>\n",
       "</table>\n",
       "</div>"
      ],
      "text/plain": [
       "                                 H_m                     H_b\n",
       "displayUnit                     mNAP                    mNAP\n",
       "id                               H.m                     H.b\n",
       "name           Waterlevel - measured  Bodemhoogte - measured\n",
       "parameterType          instantaneous           instantaneous\n",
       "unit                            mNAP                    mNAP\n",
       "usesDatum                       true                    true"
      ]
     },
     "execution_count": 9,
     "metadata": {},
     "output_type": "execute_result"
    }
   ],
   "source": [
    "# get available parameters\n",
    "parameters = pi.getParameters()\n",
    "parameters"
   ]
  },
  {
   "cell_type": "markdown",
   "metadata": {
    "colab_type": "text",
    "id": "GaiM2ClTMpzE"
   },
   "source": [
    "Zoals we zien zijn de beschikbare parameters bekend onder de namen *H_m*,\t*H_b*. Daarnaast is er ook wat meer informatie beschikbaar over deze parameters. De zogenoemde metadata.\n",
    "\n",
    "Wanneer we bijvoorbeeld de metadata willen weten van parameter `H_m` doen we het volgende:"
   ]
  },
  {
   "cell_type": "code",
   "execution_count": 10,
   "metadata": {
    "colab": {
     "base_uri": "https://localhost:8080/",
     "height": 136
    },
    "colab_type": "code",
    "id": "0BB0eQlrMGs-",
    "outputId": "1730d99d-5508-4a4a-e469-31f7f3ac3314"
   },
   "outputs": [
    {
     "data": {
      "text/plain": [
       "displayUnit                       mNAP\n",
       "id                                 H.m\n",
       "name             Waterlevel - measured\n",
       "parameterType            instantaneous\n",
       "unit                              mNAP\n",
       "usesDatum                         true\n",
       "Name: H_m, dtype: object"
      ]
     },
     "execution_count": 10,
     "metadata": {},
     "output_type": "execute_result"
    }
   ],
   "source": [
    "# slice by column\n",
    "parameters.H_m"
   ]
  },
  {
   "cell_type": "markdown",
   "metadata": {},
   "source": [
    "### Schrijven Tijdsreeks naar de FEWS database"
   ]
  },
  {
   "cell_type": "markdown",
   "metadata": {},
   "source": [
    "Laten we een pandas.DataFrame object aanmaken met een paar random getallen.\n",
    "Gedetailleerde informatie over het wegschrijven van een pandas DataFrame of Series naar FEWS staat in de docstring, of klik hier voor de bron:\n",
    "https://github.com/HKV-products-services/hkvfewspy/blob/master/hkvfewspy/utils/pi_helper.py#L803:L828\n",
    "\n",
    "In het kort:\n",
    "\n",
    "> Required:\n",
    "> - index containing datetime objects\n",
    "> \n",
    "> Optional column names:\n",
    "> - `value`, contains the data values [int, float]\n",
    "> - `minValue`, contains the min data values [int, float]\n",
    "> - `maxValue`, containts the max data values [int, float]\n",
    "> - `flag`, contains a flag indicator [int]\n",
    "> - `flagSource`, contains the source of the flag indicator [str] :: Since version 1.11, validation rule, default codes are MAN (manual), MOD (modifier), SN (soft min), HN (hard min), SX (soft max), HX (hard max), ROR (rate of rise), ROF (rate of fall), SR (same reading), TS (time shift), SVS (secondary validation series), SVF (secondary validation flags)\n",
    "> - `comment`, containts a comment [str] :: Since version 1.3\n",
    "> - `user`, contains name of user [str] :: Since version 1.10"
   ]
  },
  {
   "cell_type": "code",
   "execution_count": 11,
   "metadata": {},
   "outputs": [
    {
     "data": {
      "text/html": [
       "<div>\n",
       "<style scoped>\n",
       "    .dataframe tbody tr th:only-of-type {\n",
       "        vertical-align: middle;\n",
       "    }\n",
       "\n",
       "    .dataframe tbody tr th {\n",
       "        vertical-align: top;\n",
       "    }\n",
       "\n",
       "    .dataframe thead th {\n",
       "        text-align: right;\n",
       "    }\n",
       "</style>\n",
       "<table border=\"1\" class=\"dataframe\">\n",
       "  <thead>\n",
       "    <tr style=\"text-align: right;\">\n",
       "      <th></th>\n",
       "      <th>value</th>\n",
       "      <th>user</th>\n",
       "    </tr>\n",
       "  </thead>\n",
       "  <tbody>\n",
       "    <tr>\n",
       "      <th>2019-02-25</th>\n",
       "      <td>85</td>\n",
       "      <td>hoek</td>\n",
       "    </tr>\n",
       "    <tr>\n",
       "      <th>2019-02-26</th>\n",
       "      <td>55</td>\n",
       "      <td>hoek</td>\n",
       "    </tr>\n",
       "    <tr>\n",
       "      <th>2019-02-27</th>\n",
       "      <td>36</td>\n",
       "      <td>hoek</td>\n",
       "    </tr>\n",
       "    <tr>\n",
       "      <th>2019-02-28</th>\n",
       "      <td>72</td>\n",
       "      <td>hoek</td>\n",
       "    </tr>\n",
       "    <tr>\n",
       "      <th>2019-03-01</th>\n",
       "      <td>23</td>\n",
       "      <td>hoek</td>\n",
       "    </tr>\n",
       "  </tbody>\n",
       "</table>\n",
       "</div>"
      ],
      "text/plain": [
       "            value  user\n",
       "2019-02-25     85  hoek\n",
       "2019-02-26     55  hoek\n",
       "2019-02-27     36  hoek\n",
       "2019-02-28     72  hoek\n",
       "2019-03-01     23  hoek"
      ]
     },
     "execution_count": 11,
     "metadata": {},
     "output_type": "execute_result"
    }
   ],
   "source": [
    "# write pandas.DataFrame\n",
    "df = pandas.DataFrame(data=pandas.np.random.randint(0, 100, size=(10,1)), \n",
    "                      index=pandas.date_range(start='2019-02-25', periods=10, freq='D'),\n",
    "                      columns=['value'])\n",
    "df['user'] = 'hoek'\n",
    "df.head()"
   ]
  },
  {
   "cell_type": "code",
   "execution_count": 12,
   "metadata": {},
   "outputs": [],
   "source": [
    "# set some variable settings\n",
    "module_instance_id = 'Import_STB'\n",
    "location_id = locations.FL65_C.locationId\n",
    "parameter_id = parameters.H_m.id"
   ]
  },
  {
   "cell_type": "markdown",
   "metadata": {},
   "source": [
    "Maak een pi-timeseries object aan om up te loaden gegeven de info voor de `header` en dataframe voor de `events`"
   ]
  },
  {
   "cell_type": "code",
   "execution_count": 13,
   "metadata": {},
   "outputs": [],
   "source": [
    "# create pi-timeseries object\n",
    "pi_ts = pi.setPiTimeSeries()\n",
    "\n",
    "# set a header object\n",
    "pi_ts.write.header.moduleInstanceId(module_instance_id)\n",
    "pi_ts.write.header.locationId(location_id)\n",
    "pi_ts.write.header.parameterId(parameter_id)\n",
    "\n",
    "# set an events object (pandas.Series or pandas.DataFrame)\n",
    "pi_ts.write.events(df)\n",
    "pi_ts_xml = pi_ts.to.pi_xml()"
   ]
  },
  {
   "cell_type": "markdown",
   "metadata": {},
   "source": [
    "Controleer het PiTimeSeries object, dit is een XML string."
   ]
  },
  {
   "cell_type": "code",
   "execution_count": 14,
   "metadata": {},
   "outputs": [
    {
     "name": "stdout",
     "output_type": "stream",
     "text": [
      "<?xml version=\"1.0\" ?>\n",
      "<TimeSeries version=\"1.22\" xmlns=\"http://www.wldelft.nl/fews/PI\" xmlns:xsi=\"http://www.w3.org/2001/XMLSchema-instance\" xsi:schemaLocation=\"http://www.wldelft.nl/fews/PI http://fews.wldelft.nl/schemas/version1.0/pi-schemas/pi_timeseries.xsd\">\n",
      "  <timeZone>0.0</timeZone>\n",
      "  <series>\n",
      "    <header>\n",
      "      <type>instantaneous</type>\n",
      "      <moduleInstanceId>Import_STB</moduleInstanceId>\n",
      "      <locationId>FL65_C</locationId>\n",
      "      <parameterId>H.m</parameterId>\n",
      "    </header>\n",
      "    <properties/>\n",
      "    <event date=\"2019-02-25\" time=\"00:00:00\" user=\"hoek\" value=\"85\"/>\n",
      "    <event date=\"2019-02-26\" time=\"00:00:00\" user=\"hoek\" value=\"55\"/>\n",
      "    <event date=\"2019-02-27\" time=\"00:00:00\" user=\"hoek\" value=\"36\"/>\n",
      "    <event date=\"2019-02-28\" time=\"00:00:00\" user=\"hoek\" value=\"72\"/>\n",
      "    <event date=\"2019-03-01\" time=\"00:00:00\" user=\"hoek\" value=\"23\"/>\n",
      "    <event date=\"2019-03-02\" time=\"00:00:00\" user=\"hoek\" value=\"27\"/>\n",
      "    <event date=\"2019-03-03\" time=\"00:00:00\" user=\"hoek\" value=\"47\"/>\n",
      "    <event date=\"2019-03-04\" time=\"00:00:00\" user=\"hoek\" value=\"45\"/>\n",
      "    <event date=\"2019-03-05\" time=\"00:00:00\" user=\"hoek\" value=\"54\"/>\n",
      "    <event date=\"2019-03-06\" time=\"00:00:00\" user=\"hoek\" value=\"55\"/>\n",
      "  </series>\n",
      "</TimeSeries>\n",
      "\n"
     ]
    }
   ],
   "source": [
    "print(pi_ts_xml)"
   ]
  },
  {
   "cell_type": "markdown",
   "metadata": {},
   "source": [
    "Schrijf het object weg naar FEWS gegeven een `filterId`"
   ]
  },
  {
   "cell_type": "code",
   "execution_count": 15,
   "metadata": {},
   "outputs": [
    {
     "name": "stdout",
     "output_type": "stream",
     "text": [
      "External time series successfully mapped to FEWS time series FL65_C H.m   nonequidistant\n",
      "1 time series imported, 0 time series rejected\n",
      "The following locations-parameter combination imported  FL65_C:H.m\n"
     ]
    }
   ],
   "source": [
    "# ingest pi-timeseries into fews\n",
    "pi.putTimeSeriesForFilter(\n",
    "    filterId=filter_id, \n",
    "    piTimeSeriesXmlContent=pi_ts.to.pi_xml()\n",
    ")"
   ]
  },
  {
   "cell_type": "markdown",
   "metadata": {},
   "source": [
    "Als het goed is krijg komt er een log melding terug dat er een externe tijdreeks succesvol geimporteerd is in FEWS."
   ]
  },
  {
   "cell_type": "markdown",
   "metadata": {
    "colab_type": "text",
    "id": "LZ-MdDYWNog6"
   },
   "source": [
    "### Opvragen Tijdsreeks vanuit de FEWS database"
   ]
  },
  {
   "cell_type": "markdown",
   "metadata": {
    "colab_type": "text",
    "id": "TGAuo5gEN9Mt"
   },
   "source": [
    "Vervolgens willen we met behulp van deze bekende locaties en parameters een tijdreeks uitlezen uit de FEWS database. Hiervoor gaan we een `query` object aan maken met de functie `setQueryParameters`. \n",
    "\n",
    "Dit is een hulp object waarbij we specifiek onze opties opgeven zodat de FEWS database in staat is om de juiste tijdreeks terug te geven."
   ]
  },
  {
   "cell_type": "code",
   "execution_count": 16,
   "metadata": {
    "colab": {},
    "colab_type": "code",
    "id": "0AJ3K_9cOC4c"
   },
   "outputs": [],
   "source": [
    "# initiate query object\n",
    "query = pi.setQueryParameters()"
   ]
  },
  {
   "cell_type": "markdown",
   "metadata": {
    "colab_type": "text",
    "id": "JxskPpOAPPoj"
   },
   "source": [
    "Binnen de `query` zijn we geinteresseerd in:\n",
    "- de `parameterIds` welke horen bij het dagelijks debiet (`H_m`) en de dagelijkse waterstand (`H_b`)\n",
    "- de `locationIds` van `FL65_C`.\n",
    "- voor de periode van 2019-02-25 (`startTime`) tot en met 2019-03-05 (`endTime`)."
   ]
  },
  {
   "cell_type": "code",
   "execution_count": 17,
   "metadata": {
    "colab": {},
    "colab_type": "code",
    "id": "NvoepxsQOGkL"
   },
   "outputs": [],
   "source": [
    "# define query parameters\n",
    "query.parameterIds([parameters.H_m.id, parameters.H_b.id])\n",
    "query.locationIds([locations.FL65_C.locationId])\n",
    "query.startTime(pandas.datetime(2019,2,25))\n",
    "query.endTime(pandas.datetime(2019,3,5))"
   ]
  },
  {
   "cell_type": "markdown",
   "metadata": {
    "colab_type": "text",
    "id": "USSIQdEBRFXy"
   },
   "source": [
    "Met het aangemaakte `query` object vragen we de tijdreeks op met behulp van de `getTimeSeries` functie, waar we ons `query` object meegeven waarbij we het resultaat plaatsen in de variabele `timeseries`.\n",
    "\n",
    "Het resultaat is weer een pandas.DataFrame. Sinds we voor 2 locaties 2 parameters opvragen voor een periode van 88 jaar willen we niet alles tonen, maar alleen de bovenste 7 regels. Dit doen we met de regel:\n",
    "\n",
    "```python\n",
    "timeseries.head(7)\n",
    "```\n",
    "\n",
    "*Note: Het opvragen van deze tijdreeks combinatie kan een poosje duren. *"
   ]
  },
  {
   "cell_type": "code",
   "execution_count": 18,
   "metadata": {
    "colab": {
     "base_uri": "https://localhost:8080/",
     "height": 297
    },
    "colab_type": "code",
    "id": "IsYtsGJiNlQX",
    "outputId": "34f17921-e624-4435-c05c-d4fc0ef5d254"
   },
   "outputs": [
    {
     "data": {
      "text/html": [
       "<div>\n",
       "<style scoped>\n",
       "    .dataframe tbody tr th:only-of-type {\n",
       "        vertical-align: middle;\n",
       "    }\n",
       "\n",
       "    .dataframe tbody tr th {\n",
       "        vertical-align: top;\n",
       "    }\n",
       "\n",
       "    .dataframe thead th {\n",
       "        text-align: right;\n",
       "    }\n",
       "</style>\n",
       "<table border=\"1\" class=\"dataframe\">\n",
       "  <thead>\n",
       "    <tr style=\"text-align: right;\">\n",
       "      <th></th>\n",
       "      <th>moduleInstanceId</th>\n",
       "      <th>qualifierId</th>\n",
       "      <th>parameterId</th>\n",
       "      <th>units</th>\n",
       "      <th>locationId</th>\n",
       "      <th>stationName</th>\n",
       "      <th>flag</th>\n",
       "      <th>user</th>\n",
       "      <th>value</th>\n",
       "    </tr>\n",
       "    <tr>\n",
       "      <th>date</th>\n",
       "      <th></th>\n",
       "      <th></th>\n",
       "      <th></th>\n",
       "      <th></th>\n",
       "      <th></th>\n",
       "      <th></th>\n",
       "      <th></th>\n",
       "      <th></th>\n",
       "      <th></th>\n",
       "    </tr>\n",
       "  </thead>\n",
       "  <tbody>\n",
       "    <tr>\n",
       "      <th>2019-02-25 00:00:00+00:00</th>\n",
       "      <td>Import_STB</td>\n",
       "      <td></td>\n",
       "      <td>H.m</td>\n",
       "      <td>mNAP</td>\n",
       "      <td>FL65_C</td>\n",
       "      <td>FL65_C</td>\n",
       "      <td>0</td>\n",
       "      <td>hoek</td>\n",
       "      <td>85</td>\n",
       "    </tr>\n",
       "    <tr>\n",
       "      <th>2019-02-26 00:00:00+00:00</th>\n",
       "      <td>Import_STB</td>\n",
       "      <td></td>\n",
       "      <td>H.m</td>\n",
       "      <td>mNAP</td>\n",
       "      <td>FL65_C</td>\n",
       "      <td>FL65_C</td>\n",
       "      <td>0</td>\n",
       "      <td>hoek</td>\n",
       "      <td>55</td>\n",
       "    </tr>\n",
       "    <tr>\n",
       "      <th>2019-02-27 00:00:00+00:00</th>\n",
       "      <td>Import_STB</td>\n",
       "      <td></td>\n",
       "      <td>H.m</td>\n",
       "      <td>mNAP</td>\n",
       "      <td>FL65_C</td>\n",
       "      <td>FL65_C</td>\n",
       "      <td>0</td>\n",
       "      <td>hoek</td>\n",
       "      <td>36</td>\n",
       "    </tr>\n",
       "    <tr>\n",
       "      <th>2019-02-28 00:00:00+00:00</th>\n",
       "      <td>Import_STB</td>\n",
       "      <td></td>\n",
       "      <td>H.m</td>\n",
       "      <td>mNAP</td>\n",
       "      <td>FL65_C</td>\n",
       "      <td>FL65_C</td>\n",
       "      <td>0</td>\n",
       "      <td>hoek</td>\n",
       "      <td>72</td>\n",
       "    </tr>\n",
       "    <tr>\n",
       "      <th>2019-03-01 00:00:00+00:00</th>\n",
       "      <td>Import_STB</td>\n",
       "      <td></td>\n",
       "      <td>H.m</td>\n",
       "      <td>mNAP</td>\n",
       "      <td>FL65_C</td>\n",
       "      <td>FL65_C</td>\n",
       "      <td>0</td>\n",
       "      <td>hoek</td>\n",
       "      <td>23</td>\n",
       "    </tr>\n",
       "    <tr>\n",
       "      <th>2019-03-02 00:00:00+00:00</th>\n",
       "      <td>Import_STB</td>\n",
       "      <td></td>\n",
       "      <td>H.m</td>\n",
       "      <td>mNAP</td>\n",
       "      <td>FL65_C</td>\n",
       "      <td>FL65_C</td>\n",
       "      <td>0</td>\n",
       "      <td>hoek</td>\n",
       "      <td>27</td>\n",
       "    </tr>\n",
       "    <tr>\n",
       "      <th>2019-03-03 00:00:00+00:00</th>\n",
       "      <td>Import_STB</td>\n",
       "      <td></td>\n",
       "      <td>H.m</td>\n",
       "      <td>mNAP</td>\n",
       "      <td>FL65_C</td>\n",
       "      <td>FL65_C</td>\n",
       "      <td>0</td>\n",
       "      <td>hoek</td>\n",
       "      <td>47</td>\n",
       "    </tr>\n",
       "  </tbody>\n",
       "</table>\n",
       "</div>"
      ],
      "text/plain": [
       "                          moduleInstanceId qualifierId parameterId units  \\\n",
       "date                                                                       \n",
       "2019-02-25 00:00:00+00:00       Import_STB                     H.m  mNAP   \n",
       "2019-02-26 00:00:00+00:00       Import_STB                     H.m  mNAP   \n",
       "2019-02-27 00:00:00+00:00       Import_STB                     H.m  mNAP   \n",
       "2019-02-28 00:00:00+00:00       Import_STB                     H.m  mNAP   \n",
       "2019-03-01 00:00:00+00:00       Import_STB                     H.m  mNAP   \n",
       "2019-03-02 00:00:00+00:00       Import_STB                     H.m  mNAP   \n",
       "2019-03-03 00:00:00+00:00       Import_STB                     H.m  mNAP   \n",
       "\n",
       "                          locationId stationName flag  user value  \n",
       "date                                                               \n",
       "2019-02-25 00:00:00+00:00     FL65_C      FL65_C    0  hoek    85  \n",
       "2019-02-26 00:00:00+00:00     FL65_C      FL65_C    0  hoek    55  \n",
       "2019-02-27 00:00:00+00:00     FL65_C      FL65_C    0  hoek    36  \n",
       "2019-02-28 00:00:00+00:00     FL65_C      FL65_C    0  hoek    72  \n",
       "2019-03-01 00:00:00+00:00     FL65_C      FL65_C    0  hoek    23  \n",
       "2019-03-02 00:00:00+00:00     FL65_C      FL65_C    0  hoek    27  \n",
       "2019-03-03 00:00:00+00:00     FL65_C      FL65_C    0  hoek    47  "
      ]
     },
     "execution_count": 18,
     "metadata": {},
     "output_type": "execute_result"
    }
   ],
   "source": [
    "# request timeseries from FEWS given the query parameters\n",
    "timeseries = pi.getTimeSeries(query, print_response=False)\n",
    "timeseries.head(7)"
   ]
  },
  {
   "cell_type": "markdown",
   "metadata": {
    "colab_type": "text",
    "id": "qT--q5EDUOEV"
   },
   "source": [
    "Wanneer we de DataFrame analyseren vallen er een aantal dingen op. Namelijk een `index` met de tijden en een aantal `columns` met FEWS eigenschappen van de tijdreeks. Met vervolgens de kolom `values` waarin de daadwerkelijke getallen staan die gemeten en/of afgeleid zijn.\n",
    "\n",
    "In de `flag` kolom zien we de waarden 8 en 0 terug komen. Deze waarden geven een bepaalde betekenis over de waarde in de kolom `value`.\n",
    "\n",
    "Deze flags hebben de volgende betekenis volgens de FEWS documentatie¹:\n",
    "\n",
    "---\n",
    "\n",
    "\n",
    "\n",
    "| Enumeration | Description                                                                                                                                        |\n",
    "|-------------|----------------------------------------------------------------------------------------------------------------------------------------------------|\n",
    "| 0           | Original/Reliable   The data value is the original value retrieved from an external source and it successfully passes all validation criteria set. |\n",
    "| 8           | Completed/Unreliable   Original value was missing. Value has been filled in as above, but resulting value is unreliable and is removed.            |\n",
    "\n",
    "\n",
    "---\n",
    "\n",
    "\n",
    "Zoals te zien zijn de waarden met een `flag` 8 missing values. Deze willen we dan ook maskeren in de DataFrame\n",
    "\n",
    "*¹ Bron: https://publicwiki.deltares.nl/display/FEWSDOC/D+Time+Series+Flags*\n"
   ]
  },
  {
   "cell_type": "code",
   "execution_count": 19,
   "metadata": {
    "colab": {},
    "colab_type": "code",
    "id": "tW4TIQFlWHhE"
   },
   "outputs": [
    {
     "data": {
      "text/html": [
       "<div>\n",
       "<style scoped>\n",
       "    .dataframe tbody tr th:only-of-type {\n",
       "        vertical-align: middle;\n",
       "    }\n",
       "\n",
       "    .dataframe tbody tr th {\n",
       "        vertical-align: top;\n",
       "    }\n",
       "\n",
       "    .dataframe thead th {\n",
       "        text-align: right;\n",
       "    }\n",
       "</style>\n",
       "<table border=\"1\" class=\"dataframe\">\n",
       "  <thead>\n",
       "    <tr style=\"text-align: right;\">\n",
       "      <th></th>\n",
       "      <th>moduleInstanceId</th>\n",
       "      <th>qualifierId</th>\n",
       "      <th>parameterId</th>\n",
       "      <th>units</th>\n",
       "      <th>locationId</th>\n",
       "      <th>stationName</th>\n",
       "      <th>flag</th>\n",
       "      <th>user</th>\n",
       "      <th>value</th>\n",
       "    </tr>\n",
       "    <tr>\n",
       "      <th>date</th>\n",
       "      <th></th>\n",
       "      <th></th>\n",
       "      <th></th>\n",
       "      <th></th>\n",
       "      <th></th>\n",
       "      <th></th>\n",
       "      <th></th>\n",
       "      <th></th>\n",
       "      <th></th>\n",
       "    </tr>\n",
       "  </thead>\n",
       "  <tbody>\n",
       "    <tr>\n",
       "      <th>2019-02-25 00:00:00+00:00</th>\n",
       "      <td>Import_STB</td>\n",
       "      <td></td>\n",
       "      <td>H.m</td>\n",
       "      <td>mNAP</td>\n",
       "      <td>FL65_C</td>\n",
       "      <td>FL65_C</td>\n",
       "      <td>0</td>\n",
       "      <td>hoek</td>\n",
       "      <td>85</td>\n",
       "    </tr>\n",
       "    <tr>\n",
       "      <th>2019-02-26 00:00:00+00:00</th>\n",
       "      <td>Import_STB</td>\n",
       "      <td></td>\n",
       "      <td>H.m</td>\n",
       "      <td>mNAP</td>\n",
       "      <td>FL65_C</td>\n",
       "      <td>FL65_C</td>\n",
       "      <td>0</td>\n",
       "      <td>hoek</td>\n",
       "      <td>55</td>\n",
       "    </tr>\n",
       "    <tr>\n",
       "      <th>2019-02-27 00:00:00+00:00</th>\n",
       "      <td>Import_STB</td>\n",
       "      <td></td>\n",
       "      <td>H.m</td>\n",
       "      <td>mNAP</td>\n",
       "      <td>FL65_C</td>\n",
       "      <td>FL65_C</td>\n",
       "      <td>0</td>\n",
       "      <td>hoek</td>\n",
       "      <td>36</td>\n",
       "    </tr>\n",
       "    <tr>\n",
       "      <th>2019-02-28 00:00:00+00:00</th>\n",
       "      <td>Import_STB</td>\n",
       "      <td></td>\n",
       "      <td>H.m</td>\n",
       "      <td>mNAP</td>\n",
       "      <td>FL65_C</td>\n",
       "      <td>FL65_C</td>\n",
       "      <td>0</td>\n",
       "      <td>hoek</td>\n",
       "      <td>72</td>\n",
       "    </tr>\n",
       "    <tr>\n",
       "      <th>2019-03-01 00:00:00+00:00</th>\n",
       "      <td>Import_STB</td>\n",
       "      <td></td>\n",
       "      <td>H.m</td>\n",
       "      <td>mNAP</td>\n",
       "      <td>FL65_C</td>\n",
       "      <td>FL65_C</td>\n",
       "      <td>0</td>\n",
       "      <td>hoek</td>\n",
       "      <td>23</td>\n",
       "    </tr>\n",
       "    <tr>\n",
       "      <th>2019-03-02 00:00:00+00:00</th>\n",
       "      <td>Import_STB</td>\n",
       "      <td></td>\n",
       "      <td>H.m</td>\n",
       "      <td>mNAP</td>\n",
       "      <td>FL65_C</td>\n",
       "      <td>FL65_C</td>\n",
       "      <td>0</td>\n",
       "      <td>hoek</td>\n",
       "      <td>27</td>\n",
       "    </tr>\n",
       "    <tr>\n",
       "      <th>2019-03-03 00:00:00+00:00</th>\n",
       "      <td>Import_STB</td>\n",
       "      <td></td>\n",
       "      <td>H.m</td>\n",
       "      <td>mNAP</td>\n",
       "      <td>FL65_C</td>\n",
       "      <td>FL65_C</td>\n",
       "      <td>0</td>\n",
       "      <td>hoek</td>\n",
       "      <td>47</td>\n",
       "    </tr>\n",
       "  </tbody>\n",
       "</table>\n",
       "</div>"
      ],
      "text/plain": [
       "                          moduleInstanceId qualifierId parameterId units  \\\n",
       "date                                                                       \n",
       "2019-02-25 00:00:00+00:00       Import_STB                     H.m  mNAP   \n",
       "2019-02-26 00:00:00+00:00       Import_STB                     H.m  mNAP   \n",
       "2019-02-27 00:00:00+00:00       Import_STB                     H.m  mNAP   \n",
       "2019-02-28 00:00:00+00:00       Import_STB                     H.m  mNAP   \n",
       "2019-03-01 00:00:00+00:00       Import_STB                     H.m  mNAP   \n",
       "2019-03-02 00:00:00+00:00       Import_STB                     H.m  mNAP   \n",
       "2019-03-03 00:00:00+00:00       Import_STB                     H.m  mNAP   \n",
       "\n",
       "                          locationId stationName flag  user value  \n",
       "date                                                               \n",
       "2019-02-25 00:00:00+00:00     FL65_C      FL65_C    0  hoek    85  \n",
       "2019-02-26 00:00:00+00:00     FL65_C      FL65_C    0  hoek    55  \n",
       "2019-02-27 00:00:00+00:00     FL65_C      FL65_C    0  hoek    36  \n",
       "2019-02-28 00:00:00+00:00     FL65_C      FL65_C    0  hoek    72  \n",
       "2019-03-01 00:00:00+00:00     FL65_C      FL65_C    0  hoek    23  \n",
       "2019-03-02 00:00:00+00:00     FL65_C      FL65_C    0  hoek    27  \n",
       "2019-03-03 00:00:00+00:00     FL65_C      FL65_C    0  hoek    47  "
      ]
     },
     "execution_count": 19,
     "metadata": {},
     "output_type": "execute_result"
    }
   ],
   "source": [
    "# mask nodata values using the flag value\n",
    "timeseries.value.mask(timeseries.flag == 8, inplace=True)\n",
    "timeseries.head(7)"
   ]
  },
  {
   "cell_type": "markdown",
   "metadata": {
    "colab_type": "text",
    "id": "xDbH5acidi65"
   },
   "source": [
    "### Interactieve visualisatie Tijdreeks van het debiet + de waterstand"
   ]
  },
  {
   "cell_type": "markdown",
   "metadata": {
    "colab_type": "text",
    "id": "wj10Pw3eav7E"
   },
   "source": [
    "Met de DataFrame waarbij de missing values gemaskeerd zijn (als `NaN`) willen we een interactieve visualisatie maken van 3 jaar aan data  (1953 tot en met 1955):\n",
    "- de `x`-as de tijd toont\n",
    "- de `y`-as de gemeten waarden\n",
    "- de 2 locaties zichtbaar zijn als twee gekleurde lijnen (`color`)\n",
    "- de 2 parameters (*H.m* en *H.b*) naast elkaar worden geplaatst in een eigen grafiek (`column`-facet).\n",
    "\n",
    "Als interactie willen we:\n",
    "- kunnen inzoomen + pannen op de `x`-as \n",
    "- de *value*, *stationName* en *date*  zien oplichten als we over de punten gaan (`tooltip`)\n"
   ]
  },
  {
   "cell_type": "code",
   "execution_count": 20,
   "metadata": {
    "colab": {},
    "colab_type": "code",
    "id": "1NxXS2WJUZ3V"
   },
   "outputs": [
    {
     "name": "stderr",
     "output_type": "stream",
     "text": [
      "C:\\ProgramData\\Miniconda3\\lib\\site-packages\\altair\\utils\\core.py:284: FutureWarning: A future version of pandas will default to `skipna=True`. To silence this warning, pass `skipna=True|False` explicitly.\n",
      "  attrs['type'] = infer_vegalite_type(data[attrs['field']])\n"
     ]
    },
    {
     "data": {
      "application/vnd.vegalite.v2+json": {
       "$schema": "https://vega.github.io/schema/vega-lite/v2.6.0.json",
       "config": {
        "view": {
         "height": 300,
         "width": 400
        }
       },
       "data": {
        "name": "data-ce4e4c762e6ff31ac21a75ff52e3ec68"
       },
       "datasets": {
        "data-ce4e4c762e6ff31ac21a75ff52e3ec68": [
         {
          "date": "2019-02-25T00:00:00+00:00",
          "flag": 0,
          "locationId": "FL65_C",
          "moduleInstanceId": "Import_STB",
          "parameterId": "H.m",
          "qualifierId": "",
          "stationName": "FL65_C",
          "units": "mNAP",
          "user": "hoek",
          "value": 85
         },
         {
          "date": "2019-02-26T00:00:00+00:00",
          "flag": 0,
          "locationId": "FL65_C",
          "moduleInstanceId": "Import_STB",
          "parameterId": "H.m",
          "qualifierId": "",
          "stationName": "FL65_C",
          "units": "mNAP",
          "user": "hoek",
          "value": 55
         },
         {
          "date": "2019-02-27T00:00:00+00:00",
          "flag": 0,
          "locationId": "FL65_C",
          "moduleInstanceId": "Import_STB",
          "parameterId": "H.m",
          "qualifierId": "",
          "stationName": "FL65_C",
          "units": "mNAP",
          "user": "hoek",
          "value": 36
         },
         {
          "date": "2019-02-28T00:00:00+00:00",
          "flag": 0,
          "locationId": "FL65_C",
          "moduleInstanceId": "Import_STB",
          "parameterId": "H.m",
          "qualifierId": "",
          "stationName": "FL65_C",
          "units": "mNAP",
          "user": "hoek",
          "value": 72
         },
         {
          "date": "2019-03-01T00:00:00+00:00",
          "flag": 0,
          "locationId": "FL65_C",
          "moduleInstanceId": "Import_STB",
          "parameterId": "H.m",
          "qualifierId": "",
          "stationName": "FL65_C",
          "units": "mNAP",
          "user": "hoek",
          "value": 23
         },
         {
          "date": "2019-03-02T00:00:00+00:00",
          "flag": 0,
          "locationId": "FL65_C",
          "moduleInstanceId": "Import_STB",
          "parameterId": "H.m",
          "qualifierId": "",
          "stationName": "FL65_C",
          "units": "mNAP",
          "user": "hoek",
          "value": 27
         },
         {
          "date": "2019-03-03T00:00:00+00:00",
          "flag": 0,
          "locationId": "FL65_C",
          "moduleInstanceId": "Import_STB",
          "parameterId": "H.m",
          "qualifierId": "",
          "stationName": "FL65_C",
          "units": "mNAP",
          "user": "hoek",
          "value": 47
         },
         {
          "date": "2019-03-04T00:00:00+00:00",
          "flag": 0,
          "locationId": "FL65_C",
          "moduleInstanceId": "Import_STB",
          "parameterId": "H.m",
          "qualifierId": "",
          "stationName": "FL65_C",
          "units": "mNAP",
          "user": "hoek",
          "value": 45
         },
         {
          "date": "2019-03-05T00:00:00+00:00",
          "flag": 0,
          "locationId": "FL65_C",
          "moduleInstanceId": "Import_STB",
          "parameterId": "H.m",
          "qualifierId": "",
          "stationName": "FL65_C",
          "units": "mNAP",
          "user": "hoek",
          "value": 54
         }
        ]
       },
       "facet": {
        "column": {
         "field": "parameterId",
         "type": "nominal"
        }
       },
       "resolve": {
        "scale": {
         "color": "shared",
         "x": "shared",
         "y": "independent"
        }
       },
       "spec": {
        "encoding": {
         "color": {
          "field": "stationName",
          "type": "nominal"
         },
         "tooltip": [
          {
           "field": "value",
           "type": "quantitative"
          },
          {
           "field": "stationName",
           "type": "nominal"
          },
          {
           "field": "date",
           "format": "%Y-%m-%d",
           "type": "temporal"
          }
         ],
         "x": {
          "field": "date",
          "type": "temporal"
         },
         "y": {
          "field": "value",
          "type": "quantitative"
         }
        },
        "mark": {
         "point": true,
         "type": "line"
        },
        "selection": {
         "selector001": {
          "bind": "scales",
          "encodings": [
           "x"
          ],
          "mark": {
           "fill": "#333",
           "fillOpacity": 0.125,
           "stroke": "white"
          },
          "on": "[mousedown, window:mouseup] > window:mousemove!",
          "resolve": "global",
          "translate": "[mousedown, window:mouseup] > window:mousemove!",
          "type": "interval",
          "zoom": "wheel!"
         }
        }
       }
      },
      "image/png": "[encoded data removed]",
      "text/plain": [
       "<VegaLite 2 object>\n",
       "\n",
       "If you see this message, it means the renderer has not been properly enabled\n",
       "for the frontend that you are using. For more information, see\n",
       "https://altair-viz.github.io/user_guide/troubleshooting.html\n"
      ]
     },
     "execution_count": 20,
     "metadata": {},
     "output_type": "execute_result"
    }
   ],
   "source": [
    "# setup an interactive line chart\n",
    "line_chart = altair.Chart(timeseries.reset_index()).mark_line(\n",
    "    point=True\n",
    ").encode(\n",
    "    x='date',\n",
    "    y='value',\n",
    "    color='stationName',\n",
    "    tooltip=['value', 'stationName', altair.Tooltip('date', format='%Y-%m-%d')]\n",
    ").facet(\n",
    "    column='parameterId',\n",
    ").resolve_scale(\n",
    "    y='independent'\n",
    ").interactive(bind_y=False)\n",
    "\n",
    "# diplay the chart\n",
    "line_chart"
   ]
  },
  {
   "cell_type": "code",
   "execution_count": null,
   "metadata": {},
   "outputs": [],
   "source": []
  }
 ],
 "metadata": {
  "colab": {
   "collapsed_sections": [],
   "name": "workshop FEWS speeltuin.ipynb",
   "provenance": [],
   "version": "0.3.2"
  },
  "kernelspec": {
   "display_name": "Python 3",
   "language": "python",
   "name": "python3"
  },
  "language_info": {
   "codemirror_mode": {
    "name": "ipython",
    "version": 3
   },
   "file_extension": ".py",
   "mimetype": "text/x-python",
   "name": "python",
   "nbconvert_exporter": "python",
   "pygments_lexer": "ipython3",
   "version": "3.6.5"
  }
 },
 "nbformat": 4,
 "nbformat_minor": 2
}
