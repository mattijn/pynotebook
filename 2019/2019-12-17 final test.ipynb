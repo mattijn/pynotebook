{
 "cells": [
  {
   "cell_type": "code",
   "execution_count": null,
   "metadata": {},
   "outputs": [],
   "source": [
    "from TDLR.dissolve import dissolve\n",
    "from TDLR.timedependentlocations_AFVG import timedependentlocations_AFVG\n",
    "from TDLR.timedependentlocations_PG import timedependentlocations_PG\n",
    "from TDLR.timedependentlocations_RBG import timedependentlocations_RBG\n",
    "from TDLR.timedependentrelations import timedependentrelations"
   ]
  },
  {
   "cell_type": "code",
   "execution_count": null,
   "metadata": {},
   "outputs": [],
   "source": [
    "# path to settings file\n",
    "settings_file = r\"D:\\jupyter notebooks\\4019.10 TimeDependentLocatios HDSR\\final\\TDLR_settings.json\""
   ]
  },
  {
   "cell_type": "code",
   "execution_count": null,
   "metadata": {},
   "outputs": [],
   "source": [
    "# # dissolve geodump shapefiles\n",
    "# dissolve(settings_file)\n",
    "\n",
    "# derive time dependency afvoergebieden\n",
    "timedependentlocations_AFVG(settings_file)\n",
    "\n",
    "# derive time dependency peilgebieden\n",
    "timedependentlocations_PG(settings_file)\n",
    "\n",
    "# derive time dependency rioolbemalingsgebieden\n",
    "timedependentlocations_RBG(settings_file)\n",
    "\n",
    "# derive time dependent relations\n",
    "timedependentrelations(settings_file)"
   ]
  },
  {
   "cell_type": "code",
   "execution_count": 13,
   "metadata": {},
   "outputs": [],
   "source": [
    "import pandas as pd"
   ]
  },
  {
   "cell_type": "code",
   "execution_count": 60,
   "metadata": {},
   "outputs": [],
   "source": [
    "fp_log_old = r\"D:\\jupyter notebooks\\4019.10 TimeDependentLocatios HDSR\\from_Joost\\Stap 2 - Time Dependent Locations\\Log_file_PG_base_20190301.csv\"\n",
    "fp_log_new = r\"D:\\jupyter notebooks\\4019.10 TimeDependentLocatios HDSR\\from_Joost\\Stap 2 - Time Dependent Locations\\Log_file_PG_base_20190401.csv\""
   ]
  },
  {
   "cell_type": "code",
   "execution_count": 61,
   "metadata": {},
   "outputs": [],
   "source": [
    "df_diff_log = get_df_diff_log(fp_log_new, fp_log_old)"
   ]
  },
  {
   "cell_type": "code",
   "execution_count": 70,
   "metadata": {},
   "outputs": [],
   "source": [
    "chart = get_chart_diff_log(df_diff_log)"
   ]
  },
  {
   "cell_type": "code",
   "execution_count": 65,
   "metadata": {},
   "outputs": [],
   "source": [
    "import hkvportal as hp"
   ]
  },
  {
   "cell_type": "code",
   "execution_count": 66,
   "metadata": {},
   "outputs": [
    {
     "name": "stdout",
     "output_type": "stream",
     "text": [
      "Dataservice is recognized. https://tsws.hkvservices.nl/mangrove.ws/entry.asmx?WSDL will be used as portal\n"
     ]
    }
   ],
   "source": [
    "ds = 'https://tsws.hkvservices.nl/mangrove.ws/'\n",
    "uid = '236ebLIeCDdnKbfGe956IvZetIv1'\n",
    "dp = hp.Service(ds, uid=uid)"
   ]
  },
  {
   "cell_type": "code",
   "execution_count": 67,
   "metadata": {},
   "outputs": [
    {
     "data": {
      "text/plain": [
       "{'database': 'tdlr_hdsr', 'version': '0.3.0.0', 'date': '2019-12-19 12:45:22'}"
      ]
     },
     "execution_count": 67,
     "metadata": {},
     "output_type": "execute_result"
    }
   ],
   "source": [
    "dp.create_database('tdlr_hdsr')"
   ]
  },
  {
   "cell_type": "code",
   "execution_count": 72,
   "metadata": {},
   "outputs": [
    {
     "name": "stdout",
     "output_type": "stream",
     "text": [
      "entry available at:\n",
      "https://tsws.hkvservices.nl/mangrove.ws/data.ashx?function=dataportal.db.getdata&parameters={database:'tdlr_hdsr',key:'log_dif_1904_1903'}&contentType=SET_BY_USER\n"
     ]
    }
   ],
   "source": [
    "dp.new_entry('tdlr_hdsr', 'log_dif_1904_1903', chart.to_html())"
   ]
  },
  {
   "cell_type": "code",
   "execution_count": 63,
   "metadata": {},
   "outputs": [],
   "source": [
    "import pandas as pd\n",
    "\n",
    "\n",
    "def get_df_diff_log(fp_log_new, fp_log_old):\n",
    "\n",
    "    # read log entries as dataframe\n",
    "    df_log_old = pd.read_csv(fp_log_old, index_col=0)\n",
    "    df_log_new = pd.read_csv(fp_log_new, index_col=0)\n",
    "\n",
    "    # select dates that exist in both log files\n",
    "    exist_both = list(set(df_log_new.Date_base).intersection(df_log_old.Date_base))\n",
    "\n",
    "    # select the rows in both files maching the interesecting dump dates\n",
    "    df_log_old_sel = (\n",
    "        df_log_old[df_log_old[\"Date_base\"].isin(exist_both)]\n",
    "        .sort_values(by=[\"Date_base\"], ascending=False)\n",
    "        .reset_index(drop=True)\n",
    "    )\n",
    "    df_log_new_sel = (\n",
    "        df_log_new[df_log_new[\"Date_base\"].isin(exist_both)]\n",
    "        .sort_values(by=[\"Date_base\"], ascending=False)\n",
    "        .reset_index(drop=True)\n",
    "    )\n",
    "\n",
    "    if not df_log_new_sel.shape[0] == df_log_old_sel.shape[0]:\n",
    "        print(\"DataFrames dont match, return\")\n",
    "\n",
    "    # compute differences between the two log files\n",
    "    df_diff_log = (\n",
    "        df_log_new_sel.loc[:, df_log_new_sel.columns != \"Date_base\"]\n",
    "        - df_log_old_sel.loc[:, df_log_old_sel.columns != \"Date_base\"]\n",
    "    )\n",
    "\n",
    "    # insert the date column\n",
    "    df_diff_log.insert(0, \"Date_base\", df_log_new_sel.Date_base)\n",
    "\n",
    "    return df_diff_log\n",
    "\n",
    "\n",
    "def get_chart_diff_log(df_diff_log):\n",
    "    import altair as alt\n",
    "\n",
    "    df_diff_log.Date_base = pd.to_datetime(df_diff_log.Date_base, format=\"%Y_%m%d\")\n",
    "\n",
    "    columns = list(df_diff_log.columns[1::])\n",
    "    nearest = alt.selection(\n",
    "        encodings=[\"x\"], type=\"single\", nearest=True, on=\"mouseover\", empty=\"none\"\n",
    "    )\n",
    "\n",
    "    lines = (\n",
    "        alt.Chart(df_diff_log)\n",
    "        .transform_fold(columns, as_=[\"logging class\", \"no. occurences\"])\n",
    "        .mark_line()\n",
    "        .encode(x=\"yearmonth(Date_base)\", color=\"logging class:N\", y=\"no. occurences:Q\")\n",
    "    )\n",
    "\n",
    "    # Draw points on the line, and highlight based on selection\n",
    "    points = lines.mark_point().encode(\n",
    "        opacity=alt.condition(nearest, alt.value(1), alt.value(0))\n",
    "    )\n",
    "\n",
    "    # Draw a rule at the location of the selection\n",
    "    rules = (\n",
    "        alt.Chart(df_diff_log)\n",
    "        .mark_rule(color=\"gray\")\n",
    "        .encode(\n",
    "            x=\"yearmonth(Date_base)\",\n",
    "            tooltip=[\"{}:Q\".format(col) for col in columns] + [\"yearmonth(Date_base)\"],\n",
    "            opacity=alt.condition(nearest, alt.value(1), alt.value(0)),\n",
    "        )\n",
    "        .add_selection(nearest)\n",
    "    )\n",
    "\n",
    "    chart = alt.layer(lines, points, rules).properties(width=600, height=250)\n",
    "    return chart"
   ]
  },
  {
   "cell_type": "code",
   "execution_count": null,
   "metadata": {},
   "outputs": [],
   "source": []
  },
  {
   "cell_type": "code",
   "execution_count": null,
   "metadata": {},
   "outputs": [],
   "source": [
    "# # script to compare the loggings of two runs\n",
    "# import pandas as pd\n",
    "\n",
    "# log_201904 = pd.read_csv('Log_file_PG_base_20190401.csv',index_col = 0)\n",
    "# log_201904_vanaf03 = log_201904[log_201904.index > 0].reset_index(drop = True)\n",
    "\n",
    "# log_201903 = pd.read_csv('Log_file_PG_base_20190301.csv',index_col = 0)\n",
    "\n",
    "# logg_diff = log_201904_vanaf03.copy()\n",
    "\n",
    "\n",
    "# for col in log_201904_vanaf03.columns:\n",
    "#     if col == 'Date_base':\n",
    "#         continue\n",
    "#     logg_diff[col] = log_201904_vanaf03[col] - log_201903[col]\n",
    "\n",
    "# logg_diff.to_csv('Log_diff_201904_2019_03.csv',index = False)"
   ]
  }
 ],
 "metadata": {
  "kernelspec": {
   "display_name": "Python 3",
   "language": "python",
   "name": "python3"
  },
  "language_info": {
   "codemirror_mode": {
    "name": "ipython",
    "version": 3
   },
   "file_extension": ".py",
   "mimetype": "text/x-python",
   "name": "python",
   "nbconvert_exporter": "python",
   "pygments_lexer": "ipython3",
   "version": "3.6.5"
  }
 },
 "nbformat": 4,
 "nbformat_minor": 4
}
