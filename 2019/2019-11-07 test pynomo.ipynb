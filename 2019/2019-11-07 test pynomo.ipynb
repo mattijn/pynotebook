{
 "cells": [
  {
   "cell_type": "code",
   "execution_count": 3,
   "metadata": {},
   "outputs": [],
   "source": [
    "from pynomo.nomographer import *\n",
    "import sys\n",
    "\n",
    "sys.path.insert(0, \"..\")\n",
    "%matplotlib inline"
   ]
  },
  {
   "cell_type": "code",
   "execution_count": 4,
   "metadata": {},
   "outputs": [
    {
     "data": {
      "text/plain": [
       "<pynomo.nomographer.Nomographer at 0x9b67400>"
      ]
     },
     "execution_count": 4,
     "metadata": {},
     "output_type": "execute_result"
    }
   ],
   "source": [
    "# -*- coding: utf-8 -*-\n",
    "\"\"\"\n",
    "    ex_type7_nomo_1.py\n",
    "\n",
    "    Simple nomogram of type 7: 1/F1+1/F2=1/F3\n",
    "\n",
    "\"\"\"\n",
    "\n",
    "\n",
    "N_params_1={\n",
    "        'u_min':0.0,\n",
    "        'u_max':10.0,\n",
    "        'function':lambda u:u,\n",
    "        'title':r'$u_1$',\n",
    "        'tick_levels':4,\n",
    "        'tick_text_levels':2,\n",
    "                }\n",
    "\n",
    "N_params_2={\n",
    "        'u_min':0.0,\n",
    "        'u_max':10.0,\n",
    "        'function':lambda u:u,\n",
    "        'title':r'$u_2$',\n",
    "        'tick_levels':4,\n",
    "        'tick_text_levels':2,\n",
    "        'tick_side':'left',\n",
    "                }\n",
    "\n",
    "N_params_3={\n",
    "        'u_min':2.0,\n",
    "        'u_max':8.0,\n",
    "        'function':lambda u:u,\n",
    "        'title':r'$u_3$',\n",
    "        'tick_levels':4,\n",
    "        'tick_text_levels':2,\n",
    "                }\n",
    "\n",
    "\n",
    "block_1_params={\n",
    "             'block_type':'type_7',\n",
    "             'width':10.0,\n",
    "             'height':10.0,\n",
    "             'f1_params':N_params_1,\n",
    "             'f2_params':N_params_2,\n",
    "             'f3_params':N_params_3,\n",
    "             'angle_u':30.0,\n",
    "             'angle_v':70.0,\n",
    "             'isopleth_values':[[9,5,'x']],\n",
    "             }\n",
    "\n",
    "main_params={\n",
    "              'filename':'ex_type7_nomo_1.pdf',\n",
    "              'paper_height':10.0,\n",
    "              'paper_width':10.0,\n",
    "              'block_params':[block_1_params],\n",
    "              'transformations':[('rotate',0.01),('scale paper',)],\n",
    "              'title_str':r'$1/u_1+1/u_2=1/u_3$'\n",
    "              }\n",
    "Nomographer(main_params)\n"
   ]
  },
  {
   "cell_type": "code",
   "execution_count": null,
   "metadata": {},
   "outputs": [],
   "source": []
  }
 ],
 "metadata": {
  "kernelspec": {
   "display_name": "Python 3",
   "language": "python",
   "name": "python3"
  },
  "language_info": {
   "codemirror_mode": {
    "name": "ipython",
    "version": 3
   },
   "file_extension": ".py",
   "mimetype": "text/x-python",
   "name": "python",
   "nbconvert_exporter": "python",
   "pygments_lexer": "ipython3",
   "version": "3.6.5"
  }
 },
 "nbformat": 4,
 "nbformat_minor": 4
}
