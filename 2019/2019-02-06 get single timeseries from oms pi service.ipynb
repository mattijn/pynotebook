{
 "cells": [
  {
   "cell_type": "code",
   "execution_count": 5,
   "metadata": {},
   "outputs": [],
   "source": [
    "import hkvfewspy as fews\n",
    "import pandas as pd"
   ]
  },
  {
   "cell_type": "code",
   "execution_count": 2,
   "metadata": {},
   "outputs": [],
   "source": [
    "pi = fews.Pi()"
   ]
  },
  {
   "cell_type": "code",
   "execution_count": 3,
   "metadata": {},
   "outputs": [],
   "source": [
    "pi.setClient('http://www.oms-waddenzee.nl:8081/FewsPiService/fewspiservice?wsdl')"
   ]
  },
  {
   "cell_type": "code",
   "execution_count": 22,
   "metadata": {},
   "outputs": [],
   "source": [
    "query = pi.setQueryParameters()"
   ]
  },
  {
   "cell_type": "code",
   "execution_count": 32,
   "metadata": {},
   "outputs": [],
   "source": [
    "query.parameterIds(['k.m3.gebaggerd.mars'])\n",
    "query.locationIds(['bv.1.7.2.3.2'])\n",
    "query.startTime(pd.datetime(2019,1,1))\n",
    "query.endTime(pd.datetime(2019,2,1))"
   ]
  },
  {
   "cell_type": "code",
   "execution_count": 33,
   "metadata": {},
   "outputs": [
    {
     "data": {
      "text/plain": [
       "{'clientTimeZone': 'Etc/GMT',\n",
       " 'convertDatum': False,\n",
       " 'forecastSearchCount': 0,\n",
       " 'importFromExternalDataSource': False,\n",
       " 'omitMissing': False,\n",
       " 'onlyHeaders': False,\n",
       " 'onlyManualEdits': False,\n",
       " 'showEnsembleMemberIds': False,\n",
       " 'showLocationAttributes': False,\n",
       " 'showStatistics': False,\n",
       " 'showThresholds': False,\n",
       " 'useDisplayUnits': True,\n",
       " 'version': '1.22',\n",
       " 'parameterIds': ['k.m3.gebaggerd.mars'],\n",
       " 'startTime': datetime.datetime(2019, 1, 1, 0, 0),\n",
       " 'locationIds': ['bv.1.7.2.3.2'],\n",
       " 'endTime': datetime.datetime(2019, 2, 1, 0, 0)}"
      ]
     },
     "execution_count": 33,
     "metadata": {},
     "output_type": "execute_result"
    }
   ],
   "source": [
    "query.query"
   ]
  },
  {
   "cell_type": "code",
   "execution_count": 34,
   "metadata": {},
   "outputs": [],
   "source": [
    "df = pi.getTimeSeries(query)"
   ]
  },
  {
   "cell_type": "code",
   "execution_count": 38,
   "metadata": {},
   "outputs": [
    {
     "data": {
      "text/html": [
       "<div>\n",
       "<style scoped>\n",
       "    .dataframe tbody tr th:only-of-type {\n",
       "        vertical-align: middle;\n",
       "    }\n",
       "\n",
       "    .dataframe tbody tr th {\n",
       "        vertical-align: top;\n",
       "    }\n",
       "\n",
       "    .dataframe thead th {\n",
       "        text-align: right;\n",
       "    }\n",
       "</style>\n",
       "<table border=\"1\" class=\"dataframe\">\n",
       "  <thead>\n",
       "    <tr style=\"text-align: right;\">\n",
       "      <th></th>\n",
       "      <th>moduleInstanceId</th>\n",
       "      <th>qualifierId</th>\n",
       "      <th>parameterId</th>\n",
       "      <th>units</th>\n",
       "      <th>locationId</th>\n",
       "      <th>stationName</th>\n",
       "      <th>flag</th>\n",
       "      <th>value</th>\n",
       "    </tr>\n",
       "    <tr>\n",
       "      <th>date</th>\n",
       "      <th></th>\n",
       "      <th></th>\n",
       "      <th></th>\n",
       "      <th></th>\n",
       "      <th></th>\n",
       "      <th></th>\n",
       "      <th></th>\n",
       "      <th></th>\n",
       "    </tr>\n",
       "  </thead>\n",
       "  <tbody>\n",
       "    <tr>\n",
       "      <th>2018-12-31 23:00:00+00:00</th>\n",
       "      <td>pr.Reizen.mars.baggeracties</td>\n",
       "      <td></td>\n",
       "      <td>k.m3.gebaggerd.mars</td>\n",
       "      <td>m3</td>\n",
       "      <td>bv.1.7.2.3.2</td>\n",
       "      <td>Blauwe Slenk</td>\n",
       "      <td>8</td>\n",
       "      <td>NaN</td>\n",
       "    </tr>\n",
       "    <tr>\n",
       "      <th>2019-01-01 23:00:00+00:00</th>\n",
       "      <td>pr.Reizen.mars.baggeracties</td>\n",
       "      <td></td>\n",
       "      <td>k.m3.gebaggerd.mars</td>\n",
       "      <td>m3</td>\n",
       "      <td>bv.1.7.2.3.2</td>\n",
       "      <td>Blauwe Slenk</td>\n",
       "      <td>0</td>\n",
       "      <td>2048.3</td>\n",
       "    </tr>\n",
       "    <tr>\n",
       "      <th>2019-01-02 23:00:00+00:00</th>\n",
       "      <td>pr.Reizen.mars.baggeracties</td>\n",
       "      <td></td>\n",
       "      <td>k.m3.gebaggerd.mars</td>\n",
       "      <td>m3</td>\n",
       "      <td>bv.1.7.2.3.2</td>\n",
       "      <td>Blauwe Slenk</td>\n",
       "      <td>0</td>\n",
       "      <td>2361.74</td>\n",
       "    </tr>\n",
       "    <tr>\n",
       "      <th>2019-01-03 23:00:00+00:00</th>\n",
       "      <td>pr.Reizen.mars.baggeracties</td>\n",
       "      <td></td>\n",
       "      <td>k.m3.gebaggerd.mars</td>\n",
       "      <td>m3</td>\n",
       "      <td>bv.1.7.2.3.2</td>\n",
       "      <td>Blauwe Slenk</td>\n",
       "      <td>0</td>\n",
       "      <td>1993.37</td>\n",
       "    </tr>\n",
       "    <tr>\n",
       "      <th>2019-01-04 23:00:00+00:00</th>\n",
       "      <td>pr.Reizen.mars.baggeracties</td>\n",
       "      <td></td>\n",
       "      <td>k.m3.gebaggerd.mars</td>\n",
       "      <td>m3</td>\n",
       "      <td>bv.1.7.2.3.2</td>\n",
       "      <td>Blauwe Slenk</td>\n",
       "      <td>0</td>\n",
       "      <td>2648.67</td>\n",
       "    </tr>\n",
       "  </tbody>\n",
       "</table>\n",
       "</div>"
      ],
      "text/plain": [
       "                                      moduleInstanceId qualifierId  \\\n",
       "date                                                                 \n",
       "2018-12-31 23:00:00+00:00  pr.Reizen.mars.baggeracties               \n",
       "2019-01-01 23:00:00+00:00  pr.Reizen.mars.baggeracties               \n",
       "2019-01-02 23:00:00+00:00  pr.Reizen.mars.baggeracties               \n",
       "2019-01-03 23:00:00+00:00  pr.Reizen.mars.baggeracties               \n",
       "2019-01-04 23:00:00+00:00  pr.Reizen.mars.baggeracties               \n",
       "\n",
       "                                   parameterId units    locationId  \\\n",
       "date                                                                 \n",
       "2018-12-31 23:00:00+00:00  k.m3.gebaggerd.mars    m3  bv.1.7.2.3.2   \n",
       "2019-01-01 23:00:00+00:00  k.m3.gebaggerd.mars    m3  bv.1.7.2.3.2   \n",
       "2019-01-02 23:00:00+00:00  k.m3.gebaggerd.mars    m3  bv.1.7.2.3.2   \n",
       "2019-01-03 23:00:00+00:00  k.m3.gebaggerd.mars    m3  bv.1.7.2.3.2   \n",
       "2019-01-04 23:00:00+00:00  k.m3.gebaggerd.mars    m3  bv.1.7.2.3.2   \n",
       "\n",
       "                            stationName flag    value  \n",
       "date                                                   \n",
       "2018-12-31 23:00:00+00:00  Blauwe Slenk    8      NaN  \n",
       "2019-01-01 23:00:00+00:00  Blauwe Slenk    0   2048.3  \n",
       "2019-01-02 23:00:00+00:00  Blauwe Slenk    0  2361.74  \n",
       "2019-01-03 23:00:00+00:00  Blauwe Slenk    0  1993.37  \n",
       "2019-01-04 23:00:00+00:00  Blauwe Slenk    0  2648.67  "
      ]
     },
     "execution_count": 38,
     "metadata": {},
     "output_type": "execute_result"
    }
   ],
   "source": [
    "df.value.mask(df.flag == 8, inplace=True)\n",
    "df.head()"
   ]
  },
  {
   "cell_type": "code",
   "execution_count": 36,
   "metadata": {},
   "outputs": [],
   "source": [
    "import altair as alt"
   ]
  },
  {
   "cell_type": "code",
   "execution_count": 39,
   "metadata": {},
   "outputs": [
    {
     "name": "stderr",
     "output_type": "stream",
     "text": [
      "C:\\ProgramData\\Miniconda3\\lib\\site-packages\\altair\\utils\\core.py:284: FutureWarning: A future version of pandas will default to `skipna=True`. To silence this warning, pass `skipna=True|False` explicitly.\n",
      "  attrs['type'] = infer_vegalite_type(data[attrs['field']])\n"
     ]
    },
    {
     "data": {
      "application/vnd.vegalite.v2+json": {
       "$schema": "https://vega.github.io/schema/vega-lite/v2.6.0.json",
       "config": {
        "view": {
         "height": 300,
         "width": 400
        }
       },
       "data": {
        "name": "data-bf2c0e4ba700f4ce2ebe1e6c292ab765"
       },
       "datasets": {
        "data-bf2c0e4ba700f4ce2ebe1e6c292ab765": [
         {
          "date": "2018-12-31T23:00:00+00:00",
          "flag": 8,
          "locationId": "bv.1.7.2.3.2",
          "moduleInstanceId": "pr.Reizen.mars.baggeracties",
          "parameterId": "k.m3.gebaggerd.mars",
          "qualifierId": "",
          "stationName": "Blauwe Slenk",
          "units": "m3",
          "value": null
         },
         {
          "date": "2019-01-01T23:00:00+00:00",
          "flag": 0,
          "locationId": "bv.1.7.2.3.2",
          "moduleInstanceId": "pr.Reizen.mars.baggeracties",
          "parameterId": "k.m3.gebaggerd.mars",
          "qualifierId": "",
          "stationName": "Blauwe Slenk",
          "units": "m3",
          "value": 2048.3
         },
         {
          "date": "2019-01-02T23:00:00+00:00",
          "flag": 0,
          "locationId": "bv.1.7.2.3.2",
          "moduleInstanceId": "pr.Reizen.mars.baggeracties",
          "parameterId": "k.m3.gebaggerd.mars",
          "qualifierId": "",
          "stationName": "Blauwe Slenk",
          "units": "m3",
          "value": 2361.74
         },
         {
          "date": "2019-01-03T23:00:00+00:00",
          "flag": 0,
          "locationId": "bv.1.7.2.3.2",
          "moduleInstanceId": "pr.Reizen.mars.baggeracties",
          "parameterId": "k.m3.gebaggerd.mars",
          "qualifierId": "",
          "stationName": "Blauwe Slenk",
          "units": "m3",
          "value": 1993.37
         },
         {
          "date": "2019-01-04T23:00:00+00:00",
          "flag": 0,
          "locationId": "bv.1.7.2.3.2",
          "moduleInstanceId": "pr.Reizen.mars.baggeracties",
          "parameterId": "k.m3.gebaggerd.mars",
          "qualifierId": "",
          "stationName": "Blauwe Slenk",
          "units": "m3",
          "value": 2648.67
         },
         {
          "date": "2019-01-05T23:00:00+00:00",
          "flag": 8,
          "locationId": "bv.1.7.2.3.2",
          "moduleInstanceId": "pr.Reizen.mars.baggeracties",
          "parameterId": "k.m3.gebaggerd.mars",
          "qualifierId": "",
          "stationName": "Blauwe Slenk",
          "units": "m3",
          "value": null
         },
         {
          "date": "2019-01-06T23:00:00+00:00",
          "flag": 0,
          "locationId": "bv.1.7.2.3.2",
          "moduleInstanceId": "pr.Reizen.mars.baggeracties",
          "parameterId": "k.m3.gebaggerd.mars",
          "qualifierId": "",
          "stationName": "Blauwe Slenk",
          "units": "m3",
          "value": 993.37
         },
         {
          "date": "2019-01-07T23:00:00+00:00",
          "flag": 8,
          "locationId": "bv.1.7.2.3.2",
          "moduleInstanceId": "pr.Reizen.mars.baggeracties",
          "parameterId": "k.m3.gebaggerd.mars",
          "qualifierId": "",
          "stationName": "Blauwe Slenk",
          "units": "m3",
          "value": null
         },
         {
          "date": "2019-01-08T23:00:00+00:00",
          "flag": 8,
          "locationId": "bv.1.7.2.3.2",
          "moduleInstanceId": "pr.Reizen.mars.baggeracties",
          "parameterId": "k.m3.gebaggerd.mars",
          "qualifierId": "",
          "stationName": "Blauwe Slenk",
          "units": "m3",
          "value": null
         },
         {
          "date": "2019-01-09T23:00:00+00:00",
          "flag": 8,
          "locationId": "bv.1.7.2.3.2",
          "moduleInstanceId": "pr.Reizen.mars.baggeracties",
          "parameterId": "k.m3.gebaggerd.mars",
          "qualifierId": "",
          "stationName": "Blauwe Slenk",
          "units": "m3",
          "value": null
         },
         {
          "date": "2019-01-10T23:00:00+00:00",
          "flag": 8,
          "locationId": "bv.1.7.2.3.2",
          "moduleInstanceId": "pr.Reizen.mars.baggeracties",
          "parameterId": "k.m3.gebaggerd.mars",
          "qualifierId": "",
          "stationName": "Blauwe Slenk",
          "units": "m3",
          "value": null
         },
         {
          "date": "2019-01-11T23:00:00+00:00",
          "flag": 8,
          "locationId": "bv.1.7.2.3.2",
          "moduleInstanceId": "pr.Reizen.mars.baggeracties",
          "parameterId": "k.m3.gebaggerd.mars",
          "qualifierId": "",
          "stationName": "Blauwe Slenk",
          "units": "m3",
          "value": null
         },
         {
          "date": "2019-01-12T23:00:00+00:00",
          "flag": 8,
          "locationId": "bv.1.7.2.3.2",
          "moduleInstanceId": "pr.Reizen.mars.baggeracties",
          "parameterId": "k.m3.gebaggerd.mars",
          "qualifierId": "",
          "stationName": "Blauwe Slenk",
          "units": "m3",
          "value": null
         },
         {
          "date": "2019-01-13T23:00:00+00:00",
          "flag": 8,
          "locationId": "bv.1.7.2.3.2",
          "moduleInstanceId": "pr.Reizen.mars.baggeracties",
          "parameterId": "k.m3.gebaggerd.mars",
          "qualifierId": "",
          "stationName": "Blauwe Slenk",
          "units": "m3",
          "value": null
         },
         {
          "date": "2019-01-14T23:00:00+00:00",
          "flag": 8,
          "locationId": "bv.1.7.2.3.2",
          "moduleInstanceId": "pr.Reizen.mars.baggeracties",
          "parameterId": "k.m3.gebaggerd.mars",
          "qualifierId": "",
          "stationName": "Blauwe Slenk",
          "units": "m3",
          "value": null
         },
         {
          "date": "2019-01-15T23:00:00+00:00",
          "flag": 8,
          "locationId": "bv.1.7.2.3.2",
          "moduleInstanceId": "pr.Reizen.mars.baggeracties",
          "parameterId": "k.m3.gebaggerd.mars",
          "qualifierId": "",
          "stationName": "Blauwe Slenk",
          "units": "m3",
          "value": null
         },
         {
          "date": "2019-01-16T23:00:00+00:00",
          "flag": 8,
          "locationId": "bv.1.7.2.3.2",
          "moduleInstanceId": "pr.Reizen.mars.baggeracties",
          "parameterId": "k.m3.gebaggerd.mars",
          "qualifierId": "",
          "stationName": "Blauwe Slenk",
          "units": "m3",
          "value": null
         },
         {
          "date": "2019-01-17T23:00:00+00:00",
          "flag": 8,
          "locationId": "bv.1.7.2.3.2",
          "moduleInstanceId": "pr.Reizen.mars.baggeracties",
          "parameterId": "k.m3.gebaggerd.mars",
          "qualifierId": "",
          "stationName": "Blauwe Slenk",
          "units": "m3",
          "value": null
         },
         {
          "date": "2019-01-18T23:00:00+00:00",
          "flag": 8,
          "locationId": "bv.1.7.2.3.2",
          "moduleInstanceId": "pr.Reizen.mars.baggeracties",
          "parameterId": "k.m3.gebaggerd.mars",
          "qualifierId": "",
          "stationName": "Blauwe Slenk",
          "units": "m3",
          "value": null
         },
         {
          "date": "2019-01-19T23:00:00+00:00",
          "flag": 8,
          "locationId": "bv.1.7.2.3.2",
          "moduleInstanceId": "pr.Reizen.mars.baggeracties",
          "parameterId": "k.m3.gebaggerd.mars",
          "qualifierId": "",
          "stationName": "Blauwe Slenk",
          "units": "m3",
          "value": null
         },
         {
          "date": "2019-01-20T23:00:00+00:00",
          "flag": 0,
          "locationId": "bv.1.7.2.3.2",
          "moduleInstanceId": "pr.Reizen.mars.baggeracties",
          "parameterId": "k.m3.gebaggerd.mars",
          "qualifierId": "",
          "stationName": "Blauwe Slenk",
          "units": "m3",
          "value": 1017.05
         },
         {
          "date": "2019-01-21T23:00:00+00:00",
          "flag": 0,
          "locationId": "bv.1.7.2.3.2",
          "moduleInstanceId": "pr.Reizen.mars.baggeracties",
          "parameterId": "k.m3.gebaggerd.mars",
          "qualifierId": "",
          "stationName": "Blauwe Slenk",
          "units": "m3",
          "value": 868.37
         },
         {
          "date": "2019-01-22T23:00:00+00:00",
          "flag": 0,
          "locationId": "bv.1.7.2.3.2",
          "moduleInstanceId": "pr.Reizen.mars.baggeracties",
          "parameterId": "k.m3.gebaggerd.mars",
          "qualifierId": "",
          "stationName": "Blauwe Slenk",
          "units": "m3",
          "value": 985.8
         },
         {
          "date": "2019-01-23T23:00:00+00:00",
          "flag": 0,
          "locationId": "bv.1.7.2.3.2",
          "moduleInstanceId": "pr.Reizen.mars.baggeracties",
          "parameterId": "k.m3.gebaggerd.mars",
          "qualifierId": "",
          "stationName": "Blauwe Slenk",
          "units": "m3",
          "value": 622.16
         },
         {
          "date": "2019-01-24T23:00:00+00:00",
          "flag": 0,
          "locationId": "bv.1.7.2.3.2",
          "moduleInstanceId": "pr.Reizen.mars.baggeracties",
          "parameterId": "k.m3.gebaggerd.mars",
          "qualifierId": "",
          "stationName": "Blauwe Slenk",
          "units": "m3",
          "value": 761.36
         },
         {
          "date": "2019-01-25T23:00:00+00:00",
          "flag": 8,
          "locationId": "bv.1.7.2.3.2",
          "moduleInstanceId": "pr.Reizen.mars.baggeracties",
          "parameterId": "k.m3.gebaggerd.mars",
          "qualifierId": "",
          "stationName": "Blauwe Slenk",
          "units": "m3",
          "value": null
         },
         {
          "date": "2019-01-26T23:00:00+00:00",
          "flag": 8,
          "locationId": "bv.1.7.2.3.2",
          "moduleInstanceId": "pr.Reizen.mars.baggeracties",
          "parameterId": "k.m3.gebaggerd.mars",
          "qualifierId": "",
          "stationName": "Blauwe Slenk",
          "units": "m3",
          "value": null
         },
         {
          "date": "2019-01-27T23:00:00+00:00",
          "flag": 8,
          "locationId": "bv.1.7.2.3.2",
          "moduleInstanceId": "pr.Reizen.mars.baggeracties",
          "parameterId": "k.m3.gebaggerd.mars",
          "qualifierId": "",
          "stationName": "Blauwe Slenk",
          "units": "m3",
          "value": null
         },
         {
          "date": "2019-01-28T23:00:00+00:00",
          "flag": 0,
          "locationId": "bv.1.7.2.3.2",
          "moduleInstanceId": "pr.Reizen.mars.baggeracties",
          "parameterId": "k.m3.gebaggerd.mars",
          "qualifierId": "",
          "stationName": "Blauwe Slenk",
          "units": "m3",
          "value": 1443.18
         },
         {
          "date": "2019-01-29T23:00:00+00:00",
          "flag": 0,
          "locationId": "bv.1.7.2.3.2",
          "moduleInstanceId": "pr.Reizen.mars.baggeracties",
          "parameterId": "k.m3.gebaggerd.mars",
          "qualifierId": "",
          "stationName": "Blauwe Slenk",
          "units": "m3",
          "value": 3430.87
         },
         {
          "date": "2019-01-30T23:00:00+00:00",
          "flag": 0,
          "locationId": "bv.1.7.2.3.2",
          "moduleInstanceId": "pr.Reizen.mars.baggeracties",
          "parameterId": "k.m3.gebaggerd.mars",
          "qualifierId": "",
          "stationName": "Blauwe Slenk",
          "units": "m3",
          "value": 1544.51
         },
         {
          "date": "2019-01-31T23:00:00+00:00",
          "flag": 0,
          "locationId": "bv.1.7.2.3.2",
          "moduleInstanceId": "pr.Reizen.mars.baggeracties",
          "parameterId": "k.m3.gebaggerd.mars",
          "qualifierId": "",
          "stationName": "Blauwe Slenk",
          "units": "m3",
          "value": 2833.33
         },
         {
          "date": "2019-02-01T23:00:00+00:00",
          "flag": 8,
          "locationId": "bv.1.7.2.3.2",
          "moduleInstanceId": "pr.Reizen.mars.baggeracties",
          "parameterId": "k.m3.gebaggerd.mars",
          "qualifierId": "",
          "stationName": "Blauwe Slenk",
          "units": "m3",
          "value": null
         }
        ]
       },
       "facet": {
        "column": {
         "field": "parameterId",
         "type": "nominal"
        }
       },
       "resolve": {
        "scale": {
         "color": "shared",
         "x": "shared",
         "y": "independent"
        }
       },
       "spec": {
        "encoding": {
         "color": {
          "field": "stationName",
          "type": "nominal"
         },
         "tooltip": [
          {
           "field": "value",
           "type": "quantitative"
          },
          {
           "field": "stationName",
           "type": "nominal"
          },
          {
           "field": "date",
           "format": "%Y-%m-%d",
           "type": "temporal"
          }
         ],
         "x": {
          "field": "date",
          "type": "temporal"
         },
         "y": {
          "field": "value",
          "type": "quantitative"
         }
        },
        "mark": {
         "point": true,
         "type": "line"
        },
        "selection": {
         "selector006": {
          "bind": "scales",
          "encodings": [
           "x"
          ],
          "mark": {
           "fill": "#333",
           "fillOpacity": 0.125,
           "stroke": "white"
          },
          "on": "[mousedown, window:mouseup] > window:mousemove!",
          "resolve": "global",
          "translate": "[mousedown, window:mouseup] > window:mousemove!",
          "type": "interval",
          "zoom": "wheel!"
         }
        }
       }
      },
      "image/png": "[encoded data removed]",
      "text/plain": [
       "<VegaLite 2 object>\n",
       "\n",
       "If you see this message, it means the renderer has not been properly enabled\n",
       "for the frontend that you are using. For more information, see\n",
       "https://altair-viz.github.io/user_guide/troubleshooting.html\n"
      ]
     },
     "execution_count": 39,
     "metadata": {},
     "output_type": "execute_result"
    }
   ],
   "source": [
    "line_chart = alt.Chart(df.reset_index()).mark_line(point=True).encode(\n",
    "    x='date',\n",
    "    y='value',\n",
    "    color='stationName',\n",
    "    tooltip = ['value', 'stationName', alt.Tooltip('date:T', format = '%Y-%m-%d')]\n",
    ").facet(\n",
    "    column='parameterId',\n",
    ").resolve_scale(\n",
    "    y='independent'\n",
    ").interactive(bind_y=False)\n",
    "\n",
    "line_chart"
   ]
  },
  {
   "cell_type": "code",
   "execution_count": 11,
   "metadata": {},
   "outputs": [
    {
     "data": {
      "text/plain": [
       "<matplotlib.axes._subplots.AxesSubplot at 0x9e67e10>"
      ]
     },
     "execution_count": 11,
     "metadata": {},
     "output_type": "execute_result"
    }
   ],
   "source": [
    "df.plot()"
   ]
  },
  {
   "cell_type": "code",
   "execution_count": null,
   "metadata": {},
   "outputs": [],
   "source": []
  }
 ],
 "metadata": {
  "kernelspec": {
   "display_name": "Python 3",
   "language": "python",
   "name": "python3"
  },
  "language_info": {
   "codemirror_mode": {
    "name": "ipython",
    "version": 3
   },
   "file_extension": ".py",
   "mimetype": "text/x-python",
   "name": "python",
   "nbconvert_exporter": "python",
   "pygments_lexer": "ipython3",
   "version": "3.6.5"
  }
 },
 "nbformat": 4,
 "nbformat_minor": 2
}
