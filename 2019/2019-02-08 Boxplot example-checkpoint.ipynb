{
 "cells": [
  {
   "cell_type": "code",
   "execution_count": 1,
   "metadata": {},
   "outputs": [],
   "source": [
    "import altair as alt\n",
    "from vega_datasets import data\n",
    "\n",
    "source = data.population()"
   ]
  },
  {
   "cell_type": "code",
   "execution_count": 2,
   "metadata": {},
   "outputs": [
    {
     "data": {
      "text/html": [
       "<div>\n",
       "<style scoped>\n",
       "    .dataframe tbody tr th:only-of-type {\n",
       "        vertical-align: middle;\n",
       "    }\n",
       "\n",
       "    .dataframe tbody tr th {\n",
       "        vertical-align: top;\n",
       "    }\n",
       "\n",
       "    .dataframe thead th {\n",
       "        text-align: right;\n",
       "    }\n",
       "</style>\n",
       "<table border=\"1\" class=\"dataframe\">\n",
       "  <thead>\n",
       "    <tr style=\"text-align: right;\">\n",
       "      <th></th>\n",
       "      <th>age</th>\n",
       "      <th>people</th>\n",
       "      <th>sex</th>\n",
       "      <th>year</th>\n",
       "    </tr>\n",
       "  </thead>\n",
       "  <tbody>\n",
       "    <tr>\n",
       "      <th>0</th>\n",
       "      <td>0</td>\n",
       "      <td>1483789</td>\n",
       "      <td>1</td>\n",
       "      <td>1850</td>\n",
       "    </tr>\n",
       "    <tr>\n",
       "      <th>1</th>\n",
       "      <td>0</td>\n",
       "      <td>1450376</td>\n",
       "      <td>2</td>\n",
       "      <td>1850</td>\n",
       "    </tr>\n",
       "    <tr>\n",
       "      <th>2</th>\n",
       "      <td>5</td>\n",
       "      <td>1411067</td>\n",
       "      <td>1</td>\n",
       "      <td>1850</td>\n",
       "    </tr>\n",
       "    <tr>\n",
       "      <th>3</th>\n",
       "      <td>5</td>\n",
       "      <td>1359668</td>\n",
       "      <td>2</td>\n",
       "      <td>1850</td>\n",
       "    </tr>\n",
       "    <tr>\n",
       "      <th>4</th>\n",
       "      <td>10</td>\n",
       "      <td>1260099</td>\n",
       "      <td>1</td>\n",
       "      <td>1850</td>\n",
       "    </tr>\n",
       "  </tbody>\n",
       "</table>\n",
       "</div>"
      ],
      "text/plain": [
       "   age   people  sex  year\n",
       "0    0  1483789    1  1850\n",
       "1    0  1450376    2  1850\n",
       "2    5  1411067    1  1850\n",
       "3    5  1359668    2  1850\n",
       "4   10  1260099    1  1850"
      ]
     },
     "execution_count": 2,
     "metadata": {},
     "output_type": "execute_result"
    }
   ],
   "source": [
    "source.head()"
   ]
  },
  {
   "cell_type": "code",
   "execution_count": 3,
   "metadata": {},
   "outputs": [],
   "source": [
    "import pandas as pd"
   ]
  },
  {
   "cell_type": "code",
   "execution_count": 22,
   "metadata": {},
   "outputs": [],
   "source": [
    "df = pd.DataFrame(data=[['xy0',5,4,2,6,8],\n",
    "                        ['xy1',7,4.6,3,9,10],\n",
    "                        ['xy2',4,3,2.5,7,8.6]],\n",
    "             columns=['pixel','median','lower_box','lower_whisker', 'upper_box','upper_whisker'])"
   ]
  },
  {
   "cell_type": "code",
   "execution_count": 23,
   "metadata": {},
   "outputs": [
    {
     "data": {
      "text/html": [
       "<div>\n",
       "<style scoped>\n",
       "    .dataframe tbody tr th:only-of-type {\n",
       "        vertical-align: middle;\n",
       "    }\n",
       "\n",
       "    .dataframe tbody tr th {\n",
       "        vertical-align: top;\n",
       "    }\n",
       "\n",
       "    .dataframe thead th {\n",
       "        text-align: right;\n",
       "    }\n",
       "</style>\n",
       "<table border=\"1\" class=\"dataframe\">\n",
       "  <thead>\n",
       "    <tr style=\"text-align: right;\">\n",
       "      <th></th>\n",
       "      <th>pixel</th>\n",
       "      <th>median</th>\n",
       "      <th>lower_box</th>\n",
       "      <th>lower_whisker</th>\n",
       "      <th>upper_box</th>\n",
       "      <th>upper_whisker</th>\n",
       "    </tr>\n",
       "  </thead>\n",
       "  <tbody>\n",
       "    <tr>\n",
       "      <th>0</th>\n",
       "      <td>xy0</td>\n",
       "      <td>5</td>\n",
       "      <td>4.0</td>\n",
       "      <td>2.0</td>\n",
       "      <td>6</td>\n",
       "      <td>8.0</td>\n",
       "    </tr>\n",
       "    <tr>\n",
       "      <th>1</th>\n",
       "      <td>xy1</td>\n",
       "      <td>7</td>\n",
       "      <td>4.6</td>\n",
       "      <td>3.0</td>\n",
       "      <td>9</td>\n",
       "      <td>10.0</td>\n",
       "    </tr>\n",
       "    <tr>\n",
       "      <th>2</th>\n",
       "      <td>xy2</td>\n",
       "      <td>4</td>\n",
       "      <td>3.0</td>\n",
       "      <td>2.5</td>\n",
       "      <td>7</td>\n",
       "      <td>8.6</td>\n",
       "    </tr>\n",
       "  </tbody>\n",
       "</table>\n",
       "</div>"
      ],
      "text/plain": [
       "  pixel  median  lower_box  lower_whisker  upper_box  upper_whisker\n",
       "0   xy0       5        4.0            2.0          6            8.0\n",
       "1   xy1       7        4.6            3.0          9           10.0\n",
       "2   xy2       4        3.0            2.5          7            8.6"
      ]
     },
     "execution_count": 23,
     "metadata": {},
     "output_type": "execute_result"
    }
   ],
   "source": [
    "df.head()"
   ]
  },
  {
   "cell_type": "code",
   "execution_count": 29,
   "metadata": {},
   "outputs": [
    {
     "name": "stderr",
     "output_type": "stream",
     "text": [
      "C:\\ProgramData\\Miniconda3\\lib\\site-packages\\altair\\utils\\core.py:284: FutureWarning: A future version of pandas will default to `skipna=True`. To silence this warning, pass `skipna=True|False` explicitly.\n",
      "  attrs['type'] = infer_vegalite_type(data[attrs['field']])\n"
     ]
    },
    {
     "data": {
      "application/vnd.vegalite.v2+json": {
       "$schema": "https://vega.github.io/schema/vega-lite/v2.6.0.json",
       "config": {
        "view": {
         "height": 300,
         "width": 400
        }
       },
       "datasets": {
        "data-0ac1e07d6bcae4d234ef382cb5751842": [
         {
          "lower_box": 4,
          "lower_whisker": 2,
          "median": 5,
          "pixel": "xy0",
          "upper_box": 6,
          "upper_whisker": 8
         },
         {
          "lower_box": 4.6,
          "lower_whisker": 3,
          "median": 7,
          "pixel": "xy1",
          "upper_box": 9,
          "upper_whisker": 10
         },
         {
          "lower_box": 3,
          "lower_whisker": 2.5,
          "median": 4,
          "pixel": "xy2",
          "upper_box": 7,
          "upper_whisker": 8.6
         }
        ]
       },
       "layer": [
        {
         "data": {
          "name": "data-0ac1e07d6bcae4d234ef382cb5751842"
         },
         "encoding": {
          "tooltip": [
           {
            "field": "median",
            "type": "quantitative"
           },
           {
            "field": "lower_box",
            "type": "quantitative"
           },
           {
            "field": "lower_whisker",
            "type": "quantitative"
           },
           {
            "field": "upper_box",
            "type": "quantitative"
           },
           {
            "field": "upper_whisker",
            "type": "quantitative"
           }
          ],
          "x": {
           "field": "pixel",
           "type": "nominal"
          },
          "y": {
           "field": "lower_whisker",
           "title": "risk",
           "type": "quantitative"
          },
          "y2": {
           "field": "lower_box",
           "type": "quantitative"
          }
         },
         "mark": {
          "size": 2,
          "type": "rule"
         },
         "width": 300
        },
        {
         "data": {
          "name": "data-0ac1e07d6bcae4d234ef382cb5751842"
         },
         "encoding": {
          "tooltip": [
           {
            "field": "median",
            "type": "quantitative"
           },
           {
            "field": "lower_box",
            "type": "quantitative"
           },
           {
            "field": "lower_whisker",
            "type": "quantitative"
           },
           {
            "field": "upper_box",
            "type": "quantitative"
           },
           {
            "field": "upper_whisker",
            "type": "quantitative"
           }
          ],
          "x": {
           "field": "pixel",
           "type": "nominal"
          },
          "y": {
           "field": "lower_box",
           "type": "quantitative"
          },
          "y2": {
           "field": "upper_box",
           "type": "quantitative"
          }
         },
         "mark": {
          "size": 10,
          "type": "bar"
         },
         "width": 300
        },
        {
         "data": {
          "name": "data-0ac1e07d6bcae4d234ef382cb5751842"
         },
         "encoding": {
          "tooltip": [
           {
            "field": "median",
            "type": "quantitative"
           },
           {
            "field": "lower_box",
            "type": "quantitative"
           },
           {
            "field": "lower_whisker",
            "type": "quantitative"
           },
           {
            "field": "upper_box",
            "type": "quantitative"
           },
           {
            "field": "upper_whisker",
            "type": "quantitative"
           }
          ],
          "x": {
           "field": "pixel",
           "type": "nominal"
          },
          "y": {
           "field": "upper_whisker",
           "type": "quantitative"
          },
          "y2": {
           "field": "upper_box",
           "type": "quantitative"
          }
         },
         "mark": {
          "size": 2,
          "type": "rule"
         },
         "width": 300
        },
        {
         "data": {
          "name": "data-0ac1e07d6bcae4d234ef382cb5751842"
         },
         "encoding": {
          "tooltip": [
           {
            "field": "median",
            "type": "quantitative"
           },
           {
            "field": "lower_box",
            "type": "quantitative"
           },
           {
            "field": "lower_whisker",
            "type": "quantitative"
           },
           {
            "field": "upper_box",
            "type": "quantitative"
           },
           {
            "field": "upper_whisker",
            "type": "quantitative"
           }
          ],
          "x": {
           "field": "pixel",
           "type": "nominal"
          },
          "y": {
           "field": "median",
           "type": "quantitative"
          }
         },
         "mark": {
          "color": "white",
          "size": 10,
          "type": "tick"
         },
         "width": 300
        }
       ]
      },
      "image/png": "[encoded data removed]",
      "text/plain": [
       "<VegaLite 2 object>\n",
       "\n",
       "If you see this message, it means the renderer has not been properly enabled\n",
       "for the frontend that you are using. For more information, see\n",
       "https://altair-viz.github.io/user_guide/troubleshooting.html\n"
      ]
     },
     "execution_count": 29,
     "metadata": {},
     "output_type": "execute_result"
    }
   ],
   "source": [
    "base = alt.Chart(df, width=300)\n",
    "lower_plot = base.mark_rule(size=2).encode(\n",
    "    y=alt.Y('lower_whisker', title='risk'),\n",
    "    y2='lower_box',\n",
    "    x='pixel',\n",
    "    tooltip=['median','lower_box','lower_whisker','upper_box','upper_whisker']\n",
    ")\n",
    "\n",
    "middle_plot = base.mark_bar(size=10.0).encode(\n",
    "    y='lower_box',\n",
    "    y2='upper_box',\n",
    "    x='pixel',\n",
    "    tooltip=['median','lower_box','lower_whisker','upper_box','upper_whisker']\n",
    ")\n",
    "\n",
    "upper_plot = base.mark_rule(size=2).encode(\n",
    "    y='upper_whisker',\n",
    "    y2='upper_box',\n",
    "    x='pixel',\n",
    "    tooltip=['median','lower_box','lower_whisker','upper_box','upper_whisker']\n",
    ")\n",
    "\n",
    "middle_tick = base.mark_tick(\n",
    "    color='white',\n",
    "    size=10.0\n",
    ").encode(\n",
    "    y='median',\n",
    "    x='pixel',\n",
    "    tooltip=['median','lower_box','lower_whisker','upper_box','upper_whisker']\n",
    ")\n",
    "\n",
    "lower_plot + middle_plot + upper_plot + middle_tick"
   ]
  },
  {
   "cell_type": "code",
   "execution_count": 11,
   "metadata": {},
   "outputs": [
    {
     "ename": "SchemaValidationError",
     "evalue": "Invalid specification\n\n        altair.vegalite.v2.api.Chart, validating 'required'\n\n        'mark' is a required property\n        ",
     "output_type": "error",
     "traceback": [
      "\u001b[1;31m---------------------------------------------------------------------------\u001b[0m",
      "\u001b[1;31mSchemaValidationError\u001b[0m                     Traceback (most recent call last)",
      "\u001b[1;32mC:\\ProgramData\\Miniconda3\\lib\\site-packages\\altair\\vegalite\\v2\\api.py\u001b[0m in \u001b[0;36mto_dict\u001b[1;34m(self, *args, **kwargs)\u001b[0m\n\u001b[0;32m    415\u001b[0m         \u001b[1;32mif\u001b[0m \u001b[0mdct\u001b[0m \u001b[1;32mis\u001b[0m \u001b[1;32mNone\u001b[0m\u001b[1;33m:\u001b[0m\u001b[1;33m\u001b[0m\u001b[0m\n\u001b[0;32m    416\u001b[0m             \u001b[0mkwargs\u001b[0m\u001b[1;33m[\u001b[0m\u001b[1;34m'validate'\u001b[0m\u001b[1;33m]\u001b[0m \u001b[1;33m=\u001b[0m \u001b[1;34m'deep'\u001b[0m\u001b[1;33m\u001b[0m\u001b[0m\n\u001b[1;32m--> 417\u001b[1;33m             \u001b[0mdct\u001b[0m \u001b[1;33m=\u001b[0m \u001b[0msuper\u001b[0m\u001b[1;33m(\u001b[0m\u001b[0mTopLevelMixin\u001b[0m\u001b[1;33m,\u001b[0m \u001b[0mcopy\u001b[0m\u001b[1;33m)\u001b[0m\u001b[1;33m.\u001b[0m\u001b[0mto_dict\u001b[0m\u001b[1;33m(\u001b[0m\u001b[1;33m*\u001b[0m\u001b[0margs\u001b[0m\u001b[1;33m,\u001b[0m \u001b[1;33m**\u001b[0m\u001b[0mkwargs\u001b[0m\u001b[1;33m)\u001b[0m\u001b[1;33m\u001b[0m\u001b[0m\n\u001b[0m\u001b[0;32m    418\u001b[0m \u001b[1;33m\u001b[0m\u001b[0m\n\u001b[0;32m    419\u001b[0m         \u001b[1;31m# TODO: following entries are added after validation. Should they be validated?\u001b[0m\u001b[1;33m\u001b[0m\u001b[1;33m\u001b[0m\u001b[0m\n",
      "\u001b[1;32mC:\\ProgramData\\Miniconda3\\lib\\site-packages\\altair\\utils\\schemapi.py\u001b[0m in \u001b[0;36mto_dict\u001b[1;34m(self, validate, ignore, context)\u001b[0m\n\u001b[0;32m    252\u001b[0m                 \u001b[0mself\u001b[0m\u001b[1;33m.\u001b[0m\u001b[0mvalidate\u001b[0m\u001b[1;33m(\u001b[0m\u001b[0mresult\u001b[0m\u001b[1;33m)\u001b[0m\u001b[1;33m\u001b[0m\u001b[0m\n\u001b[0;32m    253\u001b[0m             \u001b[1;32mexcept\u001b[0m \u001b[0mjsonschema\u001b[0m\u001b[1;33m.\u001b[0m\u001b[0mValidationError\u001b[0m \u001b[1;32mas\u001b[0m \u001b[0merr\u001b[0m\u001b[1;33m:\u001b[0m\u001b[1;33m\u001b[0m\u001b[0m\n\u001b[1;32m--> 254\u001b[1;33m                 \u001b[1;32mraise\u001b[0m \u001b[0mSchemaValidationError\u001b[0m\u001b[1;33m(\u001b[0m\u001b[0mself\u001b[0m\u001b[1;33m,\u001b[0m \u001b[0merr\u001b[0m\u001b[1;33m)\u001b[0m\u001b[1;33m\u001b[0m\u001b[0m\n\u001b[0m\u001b[0;32m    255\u001b[0m         \u001b[1;32mreturn\u001b[0m \u001b[0mresult\u001b[0m\u001b[1;33m\u001b[0m\u001b[0m\n\u001b[0;32m    256\u001b[0m \u001b[1;33m\u001b[0m\u001b[0m\n",
      "\u001b[1;31mSchemaValidationError\u001b[0m: Invalid specification\n\n        altair.vegalite.v2.api.Chart, validating 'required'\n\n        'mark' is a required property\n        "
     ]
    },
    {
     "data": {
      "text/plain": [
       "Chart({\n",
       "  data:       pixel  median  lower_box  lower_whisker  upper_box  upper_whisker\n",
       "  0  lat0lon0       5          4              2          6              8\n",
       "})"
      ]
     },
     "execution_count": 11,
     "metadata": {},
     "output_type": "execute_result"
    }
   ],
   "source": [
    "base"
   ]
  },
  {
   "cell_type": "code",
   "execution_count": null,
   "metadata": {},
   "outputs": [],
   "source": [
    "base = alt.Chart(source)\n",
    "\n",
    "# Define aggregate fields\n",
    "lower_box = 'q1(people):Q'\n",
    "lower_whisker = 'min(people):Q'\n",
    "upper_box = 'q3(people):Q'\n",
    "upper_whisker = 'max(people):Q'\n",
    "\n",
    "# Compose each layer individually\n",
    "lower_plot = base.mark_rule().encode(\n",
    "    y=alt.Y(lower_whisker, axis=alt.Axis(title=\"population\")),\n",
    "    y2=lower_box,\n",
    "    x='pixel:O'\n",
    ")\n",
    "\n",
    "middle_plot = base.mark_bar(size=5.0).encode(\n",
    "    y=lower_box,\n",
    "    y2=upper_box,\n",
    "    x='age:O'\n",
    ")\n",
    "\n",
    "upper_plot = base.mark_rule().encode(\n",
    "    y=upper_whisker,\n",
    "    y2=upper_box,\n",
    "    x='age:O'\n",
    ")\n",
    "\n",
    "middle_tick = base.mark_tick(\n",
    "    color='white',\n",
    "    size=5.0\n",
    ").encode(\n",
    "    y='median(people):Q',\n",
    "    x='age:O',\n",
    ")\n",
    "\n",
    "lower_plot + middle_plot + upper_plot + middle_tick"
   ]
  }
 ],
 "metadata": {
  "kernelspec": {
   "display_name": "Python 3",
   "language": "python",
   "name": "python3"
  },
  "language_info": {
   "codemirror_mode": {
    "name": "ipython",
    "version": 3
   },
   "file_extension": ".py",
   "mimetype": "text/x-python",
   "name": "python",
   "nbconvert_exporter": "python",
   "pygments_lexer": "ipython3",
   "version": "3.6.5"
  }
 },
 "nbformat": 4,
 "nbformat_minor": 2
}
