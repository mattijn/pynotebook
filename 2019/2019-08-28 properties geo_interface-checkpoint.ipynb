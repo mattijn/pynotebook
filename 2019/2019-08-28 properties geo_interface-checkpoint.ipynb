{
 "cells": [
  {
   "cell_type": "code",
   "execution_count": 1,
   "metadata": {},
   "outputs": [],
   "source": [
    "from copy import deepcopy\n",
    "import json"
   ]
  },
  {
   "cell_type": "code",
   "execution_count": 2,
   "metadata": {},
   "outputs": [],
   "source": [
    "def geom_obj(geom):\n",
    "    class Geom(object):\n",
    "        pass\n",
    "    geom_obj = Geom()\n",
    "    setattr(geom_obj, '__geo_interface__', geom)\n",
    "    return geom_obj"
   ]
  },
  {
   "cell_type": "code",
   "execution_count": 3,
   "metadata": {},
   "outputs": [],
   "source": [
    "def sanitize_feature(feat):\n",
    "    \"\"\"Sanitize a feature\n",
    "    \n",
    "    * Extract properties and combine with geometry\n",
    "    * Overwrites 'type' and 'geometry' entries if existing    \n",
    "    \"\"\"\n",
    "    \n",
    "    try:\n",
    "        feat['properties'].update({k: feat[k] for k in ('type', 'geometry')})\n",
    "        props_geom = feat['properties']\n",
    "    except (AttributeError, KeyError):\n",
    "        # AttributeError when 'properties' equals None\n",
    "        # KeyError when 'properties' is non-existing        \n",
    "        props_geom = {k: feat[k] for k in ('type', 'geometry')}    \n",
    "\n",
    "    return props_geom"
   ]
  },
  {
   "cell_type": "code",
   "execution_count": 4,
   "metadata": {},
   "outputs": [],
   "source": [
    "def sanitize_geo_interface(geo):\n",
    "    \"\"\"Santize a geo_interface\n",
    "    \n",
    "    * Make a copy\n",
    "    * Convert type array or _Array to list\n",
    "    * Convert tuples to lists (using json.loads/dumps)\n",
    "    * Merge properties with geometry\n",
    "    \"\"\"\n",
    "\n",
    "    geo = deepcopy(geo)\n",
    "\n",
    "    # convert type _Array or array to list\n",
    "    for key in geo.keys():        \n",
    "        if str(type(geo[key]).__name__).startswith(('_Array','array')):\n",
    "            geo[key] = geo[key].tolist()\n",
    "    \n",
    "    # convert (nested) tuples to lists\n",
    "    geo = json.loads(json.dumps(geo))\n",
    "\n",
    "    # sanitize features\n",
    "    if geo['type'] == 'FeatureCollection':\n",
    "        geo = geo['features']\n",
    "        if len(geo) > 0:          \n",
    "            for idx, feat in enumerate(geo):\n",
    "                geo[idx] = sanitize_feature(feat)\n",
    "    elif geo['type'] == 'Feature':  \n",
    "        geo = sanitize_feature(geo)\n",
    "    else:\n",
    "        geo = {'type': 'Feature', 'geometry': geo}\n",
    "\n",
    "    return geo"
   ]
  },
  {
   "cell_type": "code",
   "execution_count": 5,
   "metadata": {},
   "outputs": [],
   "source": [
    "geo = {\n",
    "    'bbox': (19.89, -26.82, 29.43, -17.66),\n",
    "    'features': [\n",
    "        {'bbox': (19.89, -26.82, 29.43, -17.66),\n",
    "        'geometry': {\n",
    "            'coordinates': [[\n",
    "                [6.90, 53.48],\n",
    "                [5.98, 51.85],\n",
    "                [6.07, 53.51],\n",
    "                [6.90, 53.48]\n",
    "            ]], \n",
    "            'type': 'Polygon'},\n",
    "        'id': '49',\n",
    "        'properties': None,\n",
    "         'type': 'Feature'}       \n",
    "    ],\n",
    "    'type': 'FeatureCollection'\n",
    "}"
   ]
  },
  {
   "cell_type": "code",
   "execution_count": 6,
   "metadata": {},
   "outputs": [
    {
     "data": {
      "text/plain": [
       "[{'type': 'Feature',\n",
       "  'geometry': {'coordinates': [[[6.9, 53.48],\n",
       "     [5.98, 51.85],\n",
       "     [6.07, 53.51],\n",
       "     [6.9, 53.48]]],\n",
       "   'type': 'Polygon'}}]"
      ]
     },
     "execution_count": 6,
     "metadata": {},
     "output_type": "execute_result"
    }
   ],
   "source": [
    "sanitize_geo_interface(geo)"
   ]
  },
  {
   "cell_type": "code",
   "execution_count": null,
   "metadata": {},
   "outputs": [],
   "source": []
  }
 ],
 "metadata": {
  "kernelspec": {
   "display_name": "Python 3",
   "language": "python",
   "name": "python3"
  },
  "language_info": {
   "codemirror_mode": {
    "name": "ipython",
    "version": 3
   },
   "file_extension": ".py",
   "mimetype": "text/x-python",
   "name": "python",
   "nbconvert_exporter": "python",
   "pygments_lexer": "ipython3",
   "version": "3.6.5"
  }
 },
 "nbformat": 4,
 "nbformat_minor": 4
}
