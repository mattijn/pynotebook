{
 "cells": [
  {
   "cell_type": "code",
   "execution_count": 1,
   "metadata": {},
   "outputs": [],
   "source": [
    "import geopandas as gpd\n",
    "from shapely import geometry\n",
    "from shapely import wkt\n",
    "from shapely.ops import unary_union\n",
    "%matplotlib inline"
   ]
  },
  {
   "cell_type": "code",
   "execution_count": 2,
   "metadata": {},
   "outputs": [],
   "source": [
    "gdf = gpd.read_file(r\"D:\\jupyter notebooks\\3789.30 MHWp5 Watervrije Lijnen\\hoogwatervrijelijnen.shp\")\n",
    "tree = gdf.sindex"
   ]
  },
  {
   "cell_type": "code",
   "execution_count": 3,
   "metadata": {},
   "outputs": [],
   "source": [
    "# set buffer arround point\n",
    "pt = geometry.Point((87169.016, 434250.5))\n",
    "circle_buffer = pt.buffer(10000)\n",
    "\n",
    "# find tiles that intersect the buffer boundary\n",
    "# each tile is a (multi)linestring of hoogwatervrije lines and areas\n",
    "bbox_matches = list(tree.intersection(circle_buffer.bounds))\n",
    "gdf_matches = gdf.iloc[bbox_matches]"
   ]
  },
  {
   "cell_type": "code",
   "execution_count": 4,
   "metadata": {},
   "outputs": [],
   "source": [
    "# load the fetch lines\n",
    "multi_ls = 'MULTILINESTRING ((87169.016 434250.5, 105646.6066502257 441904.1686473018), (87169.016 434250.5, 104807.4412869671 443678.4347365199), (87169.016 434250.5, 103798.4082460509 445361.904660392), (87169.016 434250.5, 102629.2250672547 446938.3656832729), (87169.016 434250.5, 101311.151623731 448392.635623731), (87169.016 434250.5, 99856.88168327292 449710.7090672547), (87169.016 434250.5, 98280.42066039205 450879.8922460509), (87169.016 434250.5, 96596.95073651997 451888.9252869671), (87169.016 434250.5, 94822.68464730179 452728.0906502258), (87169.016 434250.5, 92974.70954508925 453389.3067146442), (87169.016 434250.5, 91070.82244032258 453866.2056080646), (87169.016 434250.5, 89129.35880659122 454154.194533444), (87169.016 434250.5, 87169.016 454250.5), (87169.016 434250.5, 85208.6731934088 454154.194533444), (87169.016 434250.5, 83267.20955967743 453866.2056080646), (87169.016 434250.5, 81363.32245491075 453389.3067146442), (87169.016 434250.5, 79515.3473526982 452728.0906502258))'\n",
    "multi_lines = wkt.loads(multi_ls)"
   ]
  },
  {
   "cell_type": "code",
   "execution_count": 5,
   "metadata": {},
   "outputs": [],
   "source": [
    "# find intersections between fetch lines and surrounding hoogwatervrije lines and areas\n",
    "intersect_pts = []\n",
    "for mls in gdf_matches.geometry:\n",
    "    its = multi_lines.intersection(mls)\n",
    "    if its:\n",
    "        intersect_pts.append(its)\n",
    "\n",
    "# merge all intersected points to list\n",
    "intsect_pts_union = unary_union(intersect_pts)        "
   ]
  },
  {
   "cell_type": "code",
   "execution_count": 6,
   "metadata": {},
   "outputs": [],
   "source": [
    "# find distance of the intesected points on fetch lines\n",
    "points_on_line = []\n",
    "for idx, line in enumerate(multi_lines):\n",
    "    for point in intsect_pts_union:\n",
    "        if line.distance(point) < 1e-8:\n",
    "            distance = line.project(point)\n",
    "            points_on_line.append({\n",
    "                'geometry':geometry.LineString([pt,point]), \n",
    "                'dist':distance, \n",
    "                'zl_idx':idx\n",
    "            })"
   ]
  },
  {
   "cell_type": "code",
   "execution_count": 7,
   "metadata": {},
   "outputs": [],
   "source": [
    "# select fetch lines with smallest distance\n",
    "gdf_zl = gpd.GeoDataFrame().from_dict(points_on_line)\n",
    "gdf_dist_zl = gdf_zl.loc[gdf_zl.groupby('zl_idx')[\"dist\"].idxmin()]"
   ]
  },
  {
   "cell_type": "code",
   "execution_count": 9,
   "metadata": {},
   "outputs": [
    {
     "data": {
      "text/plain": [
       "<matplotlib.axes._subplots.AxesSubplot at 0x97b2898>"
      ]
     },
     "execution_count": 9,
     "metadata": {},
     "output_type": "execute_result"
    },
    {
     "data": {
      "image/png": "[encoded data removed]",
      "text/plain": [
       "<Figure size 432x288 with 1 Axes>"
      ]
     },
     "metadata": {
      "needs_background": "light"
     },
     "output_type": "display_data"
    }
   ],
   "source": [
    "gdf_dist_zl.plot()"
   ]
  },
  {
   "cell_type": "code",
   "execution_count": 13,
   "metadata": {},
   "outputs": [
    {
     "data": {
      "image/svg+xml": [
       "<svg xmlns=\"http://www.w3.org/2000/svg\" xmlns:xlink=\"http://www.w3.org/1999/xlink\" width=\"100.0\" height=\"100.0\" viewBox=\"87232.59572084041 434276.2497962264 2.0 2.0\" preserveAspectRatio=\"xMinYMin meet\"><g transform=\"matrix(1,0,0,-1,0,868554.4995924528)\"><circle cx=\"87233.59572084041\" cy=\"434277.2497962264\" r=\"0.06\" stroke=\"#555555\" stroke-width=\"0.02\" fill=\"#66cc99\" opacity=\"0.6\" /></g></svg>"
      ],
      "text/plain": [
       "<shapely.geometry.point.Point at 0xb7fdda0>"
      ]
     },
     "execution_count": 13,
     "metadata": {},
     "output_type": "execute_result"
    }
   ],
   "source": [
    "geometry.Point(gdf_dist_zl.geometry[0].coords[-1])"
   ]
  },
  {
   "cell_type": "code",
   "execution_count": null,
   "metadata": {},
   "outputs": [],
   "source": []
  }
 ],
 "metadata": {
  "kernelspec": {
   "display_name": "Python 3",
   "language": "python",
   "name": "python3"
  },
  "language_info": {
   "codemirror_mode": {
    "name": "ipython",
    "version": 3
   },
   "file_extension": ".py",
   "mimetype": "text/x-python",
   "name": "python",
   "nbconvert_exporter": "python",
   "pygments_lexer": "ipython3",
   "version": "3.6.5"
  }
 },
 "nbformat": 4,
 "nbformat_minor": 4
}
