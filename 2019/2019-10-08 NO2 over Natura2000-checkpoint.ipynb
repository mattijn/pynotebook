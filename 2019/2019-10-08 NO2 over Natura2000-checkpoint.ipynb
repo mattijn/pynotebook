{
 "cells": [
  {
   "cell_type": "code",
   "execution_count": 1,
   "metadata": {},
   "outputs": [
    {
     "name": "stdout",
     "output_type": "stream",
     "text": [
      "Dataservice is recognized. https://tsws.hkvservices.nl/mangrove.ws/entry.asmx?WSDL will be used as portal\n"
     ]
    }
   ],
   "source": [
    "from io import StringIO\n",
    "import pandas as pd\n",
    "import geopandas as gpd\n",
    "from shapely.geometry import Point\n",
    "import topojson\n",
    "import hkvportal\n",
    "import io\n",
    "import altair as alt\n",
    "dp = hkvportal.Service('https://tsws.hkvservices.nl/mangrove.ws/', '236ebLIeCDdnKbfGe956IvZetIv1')"
   ]
  },
  {
   "cell_type": "code",
   "execution_count": null,
   "metadata": {},
   "outputs": [],
   "source": [
    "geom = gpd.read_file('natura2000_projected.shp')"
   ]
  },
  {
   "cell_type": "code",
   "execution_count": null,
   "metadata": {},
   "outputs": [],
   "source": [
    "geom.head()"
   ]
  },
  {
   "cell_type": "code",
   "execution_count": 2,
   "metadata": {},
   "outputs": [],
   "source": [
    "gdf = gpd.read_file('NO2_NL_natura2000_geojson_collection.geo.json', driver='GeoJSON')"
   ]
  },
  {
   "cell_type": "code",
   "execution_count": 3,
   "metadata": {},
   "outputs": [
    {
     "data": {
      "text/html": [
       "<div>\n",
       "<style scoped>\n",
       "    .dataframe tbody tr th:only-of-type {\n",
       "        vertical-align: middle;\n",
       "    }\n",
       "\n",
       "    .dataframe tbody tr th {\n",
       "        vertical-align: top;\n",
       "    }\n",
       "\n",
       "    .dataframe thead th {\n",
       "        text-align: right;\n",
       "    }\n",
       "</style>\n",
       "<table border=\"1\" class=\"dataframe\">\n",
       "  <thead>\n",
       "    <tr style=\"text-align: right;\">\n",
       "      <th></th>\n",
       "      <th>id</th>\n",
       "      <th>NAAM_N2K</th>\n",
       "      <th>OBJECTID</th>\n",
       "      <th>date</th>\n",
       "      <th>max</th>\n",
       "      <th>median</th>\n",
       "      <th>min</th>\n",
       "      <th>geometry</th>\n",
       "    </tr>\n",
       "  </thead>\n",
       "  <tbody>\n",
       "    <tr>\n",
       "      <th>0</th>\n",
       "      <td>0_00000000000000000095</td>\n",
       "      <td>Deelen</td>\n",
       "      <td>34</td>\n",
       "      <td>2018-07-182</td>\n",
       "      <td>0.000101</td>\n",
       "      <td>0.000101</td>\n",
       "      <td>0.000101</td>\n",
       "      <td>None</td>\n",
       "    </tr>\n",
       "    <tr>\n",
       "      <th>1</th>\n",
       "      <td>0_00000000000000000064</td>\n",
       "      <td>Veluwe</td>\n",
       "      <td>194</td>\n",
       "      <td>2018-07-182</td>\n",
       "      <td>0.000124</td>\n",
       "      <td>0.000112</td>\n",
       "      <td>0.000108</td>\n",
       "      <td>None</td>\n",
       "    </tr>\n",
       "    <tr>\n",
       "      <th>2</th>\n",
       "      <td>0_00000000000000000087</td>\n",
       "      <td>Botshol</td>\n",
       "      <td>20</td>\n",
       "      <td>2018-07-182</td>\n",
       "      <td>0.000129</td>\n",
       "      <td>0.000129</td>\n",
       "      <td>0.000129</td>\n",
       "      <td>None</td>\n",
       "    </tr>\n",
       "    <tr>\n",
       "      <th>3</th>\n",
       "      <td>0_000000000000000000b1</td>\n",
       "      <td>Geuldal</td>\n",
       "      <td>62</td>\n",
       "      <td>2018-07-182</td>\n",
       "      <td>0.000123</td>\n",
       "      <td>0.000121</td>\n",
       "      <td>0.000121</td>\n",
       "      <td>None</td>\n",
       "    </tr>\n",
       "    <tr>\n",
       "      <th>4</th>\n",
       "      <td>0_00000000000000000012</td>\n",
       "      <td>Meinweg</td>\n",
       "      <td>112</td>\n",
       "      <td>2018-07-182</td>\n",
       "      <td>0.000180</td>\n",
       "      <td>0.000180</td>\n",
       "      <td>0.000180</td>\n",
       "      <td>None</td>\n",
       "    </tr>\n",
       "  </tbody>\n",
       "</table>\n",
       "</div>"
      ],
      "text/plain": [
       "                       id NAAM_N2K  OBJECTID         date       max    median  \\\n",
       "0  0_00000000000000000095   Deelen        34  2018-07-182  0.000101  0.000101   \n",
       "1  0_00000000000000000064   Veluwe       194  2018-07-182  0.000124  0.000112   \n",
       "2  0_00000000000000000087  Botshol        20  2018-07-182  0.000129  0.000129   \n",
       "3  0_000000000000000000b1  Geuldal        62  2018-07-182  0.000123  0.000121   \n",
       "4  0_00000000000000000012  Meinweg       112  2018-07-182  0.000180  0.000180   \n",
       "\n",
       "        min geometry  \n",
       "0  0.000101     None  \n",
       "1  0.000108     None  \n",
       "2  0.000129     None  \n",
       "3  0.000121     None  \n",
       "4  0.000180     None  "
      ]
     },
     "execution_count": 3,
     "metadata": {},
     "output_type": "execute_result"
    }
   ],
   "source": [
    "gdf.head()"
   ]
  },
  {
   "cell_type": "code",
   "execution_count": 15,
   "metadata": {},
   "outputs": [],
   "source": [
    "date_split = gdf.date.str.split('-').tolist()\n",
    "date_new = ['{}-{}'.format(i[0], i[2]) for i in date_split]"
   ]
  },
  {
   "cell_type": "code",
   "execution_count": 24,
   "metadata": {},
   "outputs": [],
   "source": [
    "date_rfd = [pd.datetime.strptime(d, '%Y-%j') for d in date_new]"
   ]
  },
  {
   "cell_type": "code",
   "execution_count": 25,
   "metadata": {},
   "outputs": [],
   "source": [
    "gdf.date = date_rfd"
   ]
  },
  {
   "cell_type": "code",
   "execution_count": 26,
   "metadata": {},
   "outputs": [
    {
     "data": {
      "text/html": [
       "<div>\n",
       "<style scoped>\n",
       "    .dataframe tbody tr th:only-of-type {\n",
       "        vertical-align: middle;\n",
       "    }\n",
       "\n",
       "    .dataframe tbody tr th {\n",
       "        vertical-align: top;\n",
       "    }\n",
       "\n",
       "    .dataframe thead th {\n",
       "        text-align: right;\n",
       "    }\n",
       "</style>\n",
       "<table border=\"1\" class=\"dataframe\">\n",
       "  <thead>\n",
       "    <tr style=\"text-align: right;\">\n",
       "      <th></th>\n",
       "      <th>id</th>\n",
       "      <th>NAAM_N2K</th>\n",
       "      <th>OBJECTID</th>\n",
       "      <th>date</th>\n",
       "      <th>max</th>\n",
       "      <th>median</th>\n",
       "      <th>min</th>\n",
       "      <th>geometry</th>\n",
       "    </tr>\n",
       "  </thead>\n",
       "  <tbody>\n",
       "    <tr>\n",
       "      <th>0</th>\n",
       "      <td>0_00000000000000000095</td>\n",
       "      <td>Deelen</td>\n",
       "      <td>34</td>\n",
       "      <td>2018-07-01</td>\n",
       "      <td>0.000101</td>\n",
       "      <td>0.000101</td>\n",
       "      <td>0.000101</td>\n",
       "      <td>None</td>\n",
       "    </tr>\n",
       "    <tr>\n",
       "      <th>1</th>\n",
       "      <td>0_00000000000000000064</td>\n",
       "      <td>Veluwe</td>\n",
       "      <td>194</td>\n",
       "      <td>2018-07-01</td>\n",
       "      <td>0.000124</td>\n",
       "      <td>0.000112</td>\n",
       "      <td>0.000108</td>\n",
       "      <td>None</td>\n",
       "    </tr>\n",
       "    <tr>\n",
       "      <th>2</th>\n",
       "      <td>0_00000000000000000087</td>\n",
       "      <td>Botshol</td>\n",
       "      <td>20</td>\n",
       "      <td>2018-07-01</td>\n",
       "      <td>0.000129</td>\n",
       "      <td>0.000129</td>\n",
       "      <td>0.000129</td>\n",
       "      <td>None</td>\n",
       "    </tr>\n",
       "    <tr>\n",
       "      <th>3</th>\n",
       "      <td>0_000000000000000000b1</td>\n",
       "      <td>Geuldal</td>\n",
       "      <td>62</td>\n",
       "      <td>2018-07-01</td>\n",
       "      <td>0.000123</td>\n",
       "      <td>0.000121</td>\n",
       "      <td>0.000121</td>\n",
       "      <td>None</td>\n",
       "    </tr>\n",
       "    <tr>\n",
       "      <th>4</th>\n",
       "      <td>0_00000000000000000012</td>\n",
       "      <td>Meinweg</td>\n",
       "      <td>112</td>\n",
       "      <td>2018-07-01</td>\n",
       "      <td>0.000180</td>\n",
       "      <td>0.000180</td>\n",
       "      <td>0.000180</td>\n",
       "      <td>None</td>\n",
       "    </tr>\n",
       "  </tbody>\n",
       "</table>\n",
       "</div>"
      ],
      "text/plain": [
       "                       id NAAM_N2K  OBJECTID       date       max    median  \\\n",
       "0  0_00000000000000000095   Deelen        34 2018-07-01  0.000101  0.000101   \n",
       "1  0_00000000000000000064   Veluwe       194 2018-07-01  0.000124  0.000112   \n",
       "2  0_00000000000000000087  Botshol        20 2018-07-01  0.000129  0.000129   \n",
       "3  0_000000000000000000b1  Geuldal        62 2018-07-01  0.000123  0.000121   \n",
       "4  0_00000000000000000012  Meinweg       112 2018-07-01  0.000180  0.000180   \n",
       "\n",
       "        min geometry  \n",
       "0  0.000101     None  \n",
       "1  0.000108     None  \n",
       "2  0.000129     None  \n",
       "3  0.000121     None  \n",
       "4  0.000180     None  "
      ]
     },
     "execution_count": 26,
     "metadata": {},
     "output_type": "execute_result"
    }
   ],
   "source": [
    "gdf.head()"
   ]
  },
  {
   "cell_type": "code",
   "execution_count": 122,
   "metadata": {},
   "outputs": [],
   "source": [
    "gdf_sel = gdf[gdf.OBJECTID.isin(['123','14','194','195','201', '200'])]"
   ]
  },
  {
   "cell_type": "code",
   "execution_count": 123,
   "metadata": {},
   "outputs": [
    {
     "data": {
      "text/html": [
       "<div>\n",
       "<style scoped>\n",
       "    .dataframe tbody tr th:only-of-type {\n",
       "        vertical-align: middle;\n",
       "    }\n",
       "\n",
       "    .dataframe tbody tr th {\n",
       "        vertical-align: top;\n",
       "    }\n",
       "\n",
       "    .dataframe thead th {\n",
       "        text-align: right;\n",
       "    }\n",
       "</style>\n",
       "<table border=\"1\" class=\"dataframe\">\n",
       "  <thead>\n",
       "    <tr style=\"text-align: right;\">\n",
       "      <th></th>\n",
       "      <th>id</th>\n",
       "      <th>NAAM_N2K</th>\n",
       "      <th>OBJECTID</th>\n",
       "      <th>date</th>\n",
       "      <th>max</th>\n",
       "      <th>median</th>\n",
       "      <th>min</th>\n",
       "      <th>geometry</th>\n",
       "    </tr>\n",
       "  </thead>\n",
       "  <tbody>\n",
       "    <tr>\n",
       "      <th>1</th>\n",
       "      <td>0_00000000000000000064</td>\n",
       "      <td>Veluwe</td>\n",
       "      <td>194</td>\n",
       "      <td>2018-07-01</td>\n",
       "      <td>0.000124</td>\n",
       "      <td>0.000112</td>\n",
       "      <td>0.000108</td>\n",
       "      <td>None</td>\n",
       "    </tr>\n",
       "    <tr>\n",
       "      <th>9</th>\n",
       "      <td>0_00000000000000000081</td>\n",
       "      <td>Biesbosch</td>\n",
       "      <td>14</td>\n",
       "      <td>2018-07-01</td>\n",
       "      <td>0.000126</td>\n",
       "      <td>0.000126</td>\n",
       "      <td>0.000126</td>\n",
       "      <td>None</td>\n",
       "    </tr>\n",
       "    <tr>\n",
       "      <th>14</th>\n",
       "      <td>0_0000000000000000006b</td>\n",
       "      <td>Waddenzee</td>\n",
       "      <td>201</td>\n",
       "      <td>2018-07-01</td>\n",
       "      <td>0.000095</td>\n",
       "      <td>0.000092</td>\n",
       "      <td>0.000092</td>\n",
       "      <td>None</td>\n",
       "    </tr>\n",
       "    <tr>\n",
       "      <th>22</th>\n",
       "      <td>0_00000000000000000065</td>\n",
       "      <td>Rijntakken</td>\n",
       "      <td>195</td>\n",
       "      <td>2018-07-01</td>\n",
       "      <td>0.000129</td>\n",
       "      <td>0.000118</td>\n",
       "      <td>0.000111</td>\n",
       "      <td>None</td>\n",
       "    </tr>\n",
       "    <tr>\n",
       "      <th>25</th>\n",
       "      <td>0_0000000000000000006a</td>\n",
       "      <td>Weerribben</td>\n",
       "      <td>200</td>\n",
       "      <td>2018-07-01</td>\n",
       "      <td>0.000102</td>\n",
       "      <td>0.000101</td>\n",
       "      <td>0.000101</td>\n",
       "      <td>None</td>\n",
       "    </tr>\n",
       "  </tbody>\n",
       "</table>\n",
       "</div>"
      ],
      "text/plain": [
       "                        id    NAAM_N2K  OBJECTID       date       max  \\\n",
       "1   0_00000000000000000064      Veluwe       194 2018-07-01  0.000124   \n",
       "9   0_00000000000000000081   Biesbosch        14 2018-07-01  0.000126   \n",
       "14  0_0000000000000000006b   Waddenzee       201 2018-07-01  0.000095   \n",
       "22  0_00000000000000000065  Rijntakken       195 2018-07-01  0.000129   \n",
       "25  0_0000000000000000006a  Weerribben       200 2018-07-01  0.000102   \n",
       "\n",
       "      median       min geometry  \n",
       "1   0.000112  0.000108     None  \n",
       "9   0.000126  0.000126     None  \n",
       "14  0.000092  0.000092     None  \n",
       "22  0.000118  0.000111     None  \n",
       "25  0.000101  0.000101     None  "
      ]
     },
     "execution_count": 123,
     "metadata": {},
     "output_type": "execute_result"
    }
   ],
   "source": [
    "gdf_sel.head()"
   ]
  },
  {
   "cell_type": "code",
   "execution_count": 124,
   "metadata": {},
   "outputs": [
    {
     "name": "stderr",
     "output_type": "stream",
     "text": [
      "c:\\programdata\\miniconda3\\lib\\site-packages\\ipykernel_launcher.py:1: SettingWithCopyWarning: \n",
      "A value is trying to be set on a copy of a slice from a DataFrame\n",
      "\n",
      "See the caveats in the documentation: http://pandas.pydata.org/pandas-docs/stable/indexing.html#indexing-view-versus-copy\n",
      "  \"\"\"Entry point for launching an IPython kernel.\n",
      "c:\\programdata\\miniconda3\\lib\\site-packages\\pandas\\core\\generic.py:8682: SettingWithCopyWarning: \n",
      "A value is trying to be set on a copy of a slice from a DataFrame\n",
      "\n",
      "See the caveats in the documentation: http://pandas.pydata.org/pandas-docs/stable/indexing.html#indexing-view-versus-copy\n",
      "  self._update_inplace(new_data)\n",
      "c:\\programdata\\miniconda3\\lib\\site-packages\\IPython\\core\\interactiveshell.py:3326: SettingWithCopyWarning: \n",
      "A value is trying to be set on a copy of a slice from a DataFrame\n",
      "\n",
      "See the caveats in the documentation: http://pandas.pydata.org/pandas-docs/stable/indexing.html#indexing-view-versus-copy\n",
      "  exec(code_obj, self.user_global_ns, self.user_ns)\n"
     ]
    }
   ],
   "source": [
    "gdf_sel['median'][gdf_sel['median'] < 0] = 0"
   ]
  },
  {
   "cell_type": "code",
   "execution_count": 134,
   "metadata": {},
   "outputs": [],
   "source": [
    "base = alt.Chart().encode(\n",
    "    x='date:T',\n",
    "    tooltip=['date:T','NAAM_N2K',alt.Tooltip('median', format='.4s')]\n",
    ")\n",
    "\n",
    "line = base.mark_line(interpolate='monotone').encode(\n",
    "    y=alt.Y('median:Q', title='NO₂ mol/m²', axis=alt.Axis(format='.0s'), scale=alt.Scale(domain=[0,0.000700])),\n",
    "    color=alt.Color('NAAM_N2K:N', legend=alt.Legend(title='Natura2000 gebied'))\n",
    ").properties(\n",
    "    height=100\n",
    ")#.interactive(bind_y=False)\n",
    "\n",
    "nearest = alt.selection_single(on=\"mouseover\", nearest=True, empty='none')\n",
    "rule = base.mark_rule().encode(\n",
    "    color=alt.condition(nearest, alt.value('black'), alt.value('transparent'))\n",
    ").add_selection(\n",
    "    nearest\n",
    ")\n",
    "\n",
    "chart = alt.layer(line, rule, data=gdf_sel[['NAAM_N2K','date','median']])\n",
    "chart = chart.facet(facet=alt.Facet('NAAM_N2K:N', title='Troposferische stikstof over Natura2000 gebieden'), columns=2)"
   ]
  },
  {
   "cell_type": "code",
   "execution_count": 135,
   "metadata": {},
   "outputs": [
    {
     "data": {
      "application/vnd.vegalite.v3+json": {
       "$schema": "https://vega.github.io/schema/vega-lite/v3.4.0.json",
       "columns": 2,
       "config": {
        "mark": {
         "tooltip": null
        },
        "view": {
         "height": 300,
         "width": 400
        }
       },
       "data": {
        "name": "data-acc175d630c02fa0ff3b14c007df50cc"
       },
       "datasets": {
        "data-acc175d630c02fa0ff3b14c007df50cc": [
         {
          "NAAM_N2K": "Veluwe",
          "date": "2018-07-01T00:00:00",
          "median": 0.00011161139348034261
         },
         {
          "NAAM_N2K": "Biesbosch",
          "date": "2018-07-01T00:00:00",
          "median": 0.00012635448664390225
         },
         {
          "NAAM_N2K": "Waddenzee",
          "date": "2018-07-01T00:00:00",
          "median": 9.15520069201412e-05
         },
         {
          "NAAM_N2K": "Rijntakken",
          "date": "2018-07-01T00:00:00",
          "median": 0.00011789058429797475
         },
         {
          "NAAM_N2K": "Weerribben",
          "date": "2018-07-01T00:00:00",
          "median": 0.0001011887410349699
         },
         {
          "NAAM_N2K": "Oosterschelde",
          "date": "2018-07-01T00:00:00",
          "median": 0.00012373462321791867
         },
         {
          "NAAM_N2K": "Veluwe",
          "date": "2018-07-03T00:00:00",
          "median": 0.00011568382025529885
         },
         {
          "NAAM_N2K": "Biesbosch",
          "date": "2018-07-03T00:00:00",
          "median": 0.00013320078697094602
         },
         {
          "NAAM_N2K": "Waddenzee",
          "date": "2018-07-03T00:00:00",
          "median": 7.898565144152334e-05
         },
         {
          "NAAM_N2K": "Rijntakken",
          "date": "2018-07-03T00:00:00",
          "median": 0.00012297621590769137
         },
         {
          "NAAM_N2K": "Weerribben",
          "date": "2018-07-03T00:00:00",
          "median": 9.997038812367417e-05
         },
         {
          "NAAM_N2K": "Oosterschelde",
          "date": "2018-07-03T00:00:00",
          "median": 0.00016635185054166696
         },
         {
          "NAAM_N2K": "Veluwe",
          "date": "2018-07-05T00:00:00",
          "median": 9.843193239788421e-05
         },
         {
          "NAAM_N2K": "Biesbosch",
          "date": "2018-07-05T00:00:00",
          "median": 0.0001630395394435171
         },
         {
          "NAAM_N2K": "Waddenzee",
          "date": "2018-07-05T00:00:00",
          "median": 7.677233741243472e-05
         },
         {
          "NAAM_N2K": "Rijntakken",
          "date": "2018-07-05T00:00:00",
          "median": 0.00011943804634974105
         },
         {
          "NAAM_N2K": "Weerribben",
          "date": "2018-07-05T00:00:00",
          "median": 8.37175800952942e-05
         },
         {
          "NAAM_N2K": "Oosterschelde",
          "date": "2018-07-05T00:00:00",
          "median": 0.00011097873462048258
         },
         {
          "NAAM_N2K": "Veluwe",
          "date": "2018-07-07T00:00:00",
          "median": 8.68503651852338e-05
         },
         {
          "NAAM_N2K": "Biesbosch",
          "date": "2018-07-07T00:00:00",
          "median": 0.00011562699935430323
         },
         {
          "NAAM_N2K": "Waddenzee",
          "date": "2018-07-07T00:00:00",
          "median": 8.128590085676654e-05
         },
         {
          "NAAM_N2K": "Rijntakken",
          "date": "2018-07-07T00:00:00",
          "median": 9.704173727858524e-05
         },
         {
          "NAAM_N2K": "Weerribben",
          "date": "2018-07-07T00:00:00",
          "median": 8.511181289243005e-05
         },
         {
          "NAAM_N2K": "Oosterschelde",
          "date": "2018-07-07T00:00:00",
          "median": 0.0001282653064546714
         },
         {
          "NAAM_N2K": "Veluwe",
          "date": "2018-07-09T00:00:00",
          "median": 0.00010696938232467569
         },
         {
          "NAAM_N2K": "Biesbosch",
          "date": "2018-07-09T00:00:00",
          "median": 0.00010836221658606789
         },
         {
          "NAAM_N2K": "Waddenzee",
          "date": "2018-07-09T00:00:00",
          "median": 8.934863333927723e-05
         },
         {
          "NAAM_N2K": "Rijntakken",
          "date": "2018-07-09T00:00:00",
          "median": 0.00011183870982995836
         },
         {
          "NAAM_N2K": "Weerribben",
          "date": "2018-07-09T00:00:00",
          "median": 8.792886397829546e-05
         },
         {
          "NAAM_N2K": "Oosterschelde",
          "date": "2018-07-09T00:00:00",
          "median": 9.586138894658898e-05
         },
         {
          "NAAM_N2K": "Veluwe",
          "date": "2018-07-11T00:00:00",
          "median": 0.0001114028858183378
         },
         {
          "NAAM_N2K": "Biesbosch",
          "date": "2018-07-11T00:00:00",
          "median": 0.0001203004424964577
         },
         {
          "NAAM_N2K": "Waddenzee",
          "date": "2018-07-11T00:00:00",
          "median": 8.963411935869603e-05
         },
         {
          "NAAM_N2K": "Rijntakken",
          "date": "2018-07-11T00:00:00",
          "median": 0.0001133489871103604
         },
         {
          "NAAM_N2K": "Weerribben",
          "date": "2018-07-11T00:00:00",
          "median": 9.388573656069265e-05
         },
         {
          "NAAM_N2K": "Oosterschelde",
          "date": "2018-07-11T00:00:00",
          "median": 9.448359251267031e-05
         },
         {
          "NAAM_N2K": "Veluwe",
          "date": "2018-07-13T00:00:00",
          "median": 9.883617246628892e-05
         },
         {
          "NAAM_N2K": "Biesbosch",
          "date": "2018-07-13T00:00:00",
          "median": 0.00013926055760962546
         },
         {
          "NAAM_N2K": "Waddenzee",
          "date": "2018-07-13T00:00:00",
          "median": 7.496213268996763e-05
         },
         {
          "NAAM_N2K": "Rijntakken",
          "date": "2018-07-13T00:00:00",
          "median": 0.00010616246287724674
         },
         {
          "NAAM_N2K": "Weerribben",
          "date": "2018-07-13T00:00:00",
          "median": 8.784726841583222e-05
         },
         {
          "NAAM_N2K": "Oosterschelde",
          "date": "2018-07-13T00:00:00",
          "median": 0.0001392381782231563
         },
         {
          "NAAM_N2K": "Veluwe",
          "date": "2018-07-15T00:00:00",
          "median": 0.00010394118794623425
         },
         {
          "NAAM_N2K": "Biesbosch",
          "date": "2018-07-15T00:00:00",
          "median": 0.00012160296291305529
         },
         {
          "NAAM_N2K": "Waddenzee",
          "date": "2018-07-15T00:00:00",
          "median": 0.00010675310012968144
         },
         {
          "NAAM_N2K": "Rijntakken",
          "date": "2018-07-15T00:00:00",
          "median": 0.00011349819491716841
         },
         {
          "NAAM_N2K": "Weerribben",
          "date": "2018-07-15T00:00:00",
          "median": 0.00010265235502741611
         },
         {
          "NAAM_N2K": "Oosterschelde",
          "date": "2018-07-15T00:00:00",
          "median": 0.00011896938947597264
         },
         {
          "NAAM_N2K": "Veluwe",
          "date": "2018-07-17T00:00:00",
          "median": 0.0001355458362810636
         },
         {
          "NAAM_N2K": "Biesbosch",
          "date": "2018-07-17T00:00:00",
          "median": 0.00014015098986869018
         },
         {
          "NAAM_N2K": "Waddenzee",
          "date": "2018-07-17T00:00:00",
          "median": 9.161010586315463e-05
         },
         {
          "NAAM_N2K": "Rijntakken",
          "date": "2018-07-17T00:00:00",
          "median": 0.00013057192621627393
         },
         {
          "NAAM_N2K": "Weerribben",
          "date": "2018-07-17T00:00:00",
          "median": 0.0001149795973003382
         },
         {
          "NAAM_N2K": "Oosterschelde",
          "date": "2018-07-17T00:00:00",
          "median": 0.00011162724961822536
         },
         {
          "NAAM_N2K": "Veluwe",
          "date": "2018-07-19T00:00:00",
          "median": 0.00013471694595203342
         },
         {
          "NAAM_N2K": "Biesbosch",
          "date": "2018-07-19T00:00:00",
          "median": 0.00018524560711459352
         },
         {
          "NAAM_N2K": "Waddenzee",
          "date": "2018-07-19T00:00:00",
          "median": 0.00010133762119893532
         },
         {
          "NAAM_N2K": "Rijntakken",
          "date": "2018-07-19T00:00:00",
          "median": 0.000153573508523177
         },
         {
          "NAAM_N2K": "Weerribben",
          "date": "2018-07-19T00:00:00",
          "median": 0.0001311709468182744
         },
         {
          "NAAM_N2K": "Oosterschelde",
          "date": "2018-07-19T00:00:00",
          "median": 0.00014087828011662381
         },
         {
          "NAAM_N2K": "Veluwe",
          "date": "2018-07-21T00:00:00",
          "median": 0.0001189529485863596
         },
         {
          "NAAM_N2K": "Biesbosch",
          "date": "2018-07-21T00:00:00",
          "median": 0.0001381715475231698
         },
         {
          "NAAM_N2K": "Waddenzee",
          "date": "2018-07-21T00:00:00",
          "median": 0.00010783895259099664
         },
         {
          "NAAM_N2K": "Rijntakken",
          "date": "2018-07-21T00:00:00",
          "median": 0.00012002693867936425
         },
         {
          "NAAM_N2K": "Weerribben",
          "date": "2018-07-21T00:00:00",
          "median": 0.00010886742297379096
         },
         {
          "NAAM_N2K": "Oosterschelde",
          "date": "2018-07-21T00:00:00",
          "median": 0.00011752500339473642
         },
         {
          "NAAM_N2K": "Veluwe",
          "date": "2018-07-23T00:00:00",
          "median": 0.00011961796895680546
         },
         {
          "NAAM_N2K": "Biesbosch",
          "date": "2018-07-23T00:00:00",
          "median": 0.00020891870231696375
         },
         {
          "NAAM_N2K": "Waddenzee",
          "date": "2018-07-23T00:00:00",
          "median": 9.152024842033426e-05
         },
         {
          "NAAM_N2K": "Rijntakken",
          "date": "2018-07-23T00:00:00",
          "median": 0.00012090579641979435
         },
         {
          "NAAM_N2K": "Weerribben",
          "date": "2018-07-23T00:00:00",
          "median": 9.795003524133781e-05
         },
         {
          "NAAM_N2K": "Oosterschelde",
          "date": "2018-07-23T00:00:00",
          "median": 0.00010838155039724569
         },
         {
          "NAAM_N2K": "Veluwe",
          "date": "2018-07-25T00:00:00",
          "median": 0.0001034995338613825
         },
         {
          "NAAM_N2K": "Biesbosch",
          "date": "2018-07-25T00:00:00",
          "median": 0.00014680965214793588
         },
         {
          "NAAM_N2K": "Waddenzee",
          "date": "2018-07-25T00:00:00",
          "median": 9.601623494519939e-05
         },
         {
          "NAAM_N2K": "Rijntakken",
          "date": "2018-07-25T00:00:00",
          "median": 0.0001293522854210137
         },
         {
          "NAAM_N2K": "Weerribben",
          "date": "2018-07-25T00:00:00",
          "median": 0.00010087079396110215
         },
         {
          "NAAM_N2K": "Oosterschelde",
          "date": "2018-07-25T00:00:00",
          "median": 0.0001587116875163094
         },
         {
          "NAAM_N2K": "Veluwe",
          "date": "2018-07-27T00:00:00",
          "median": 0.00011906213104940933
         },
         {
          "NAAM_N2K": "Biesbosch",
          "date": "2018-07-27T00:00:00",
          "median": 0.00013181737361883173
         },
         {
          "NAAM_N2K": "Waddenzee",
          "date": "2018-07-27T00:00:00",
          "median": 0.00011252010876544606
         },
         {
          "NAAM_N2K": "Rijntakken",
          "date": "2018-07-27T00:00:00",
          "median": 0.00012386800389490254
         },
         {
          "NAAM_N2K": "Weerribben",
          "date": "2018-07-27T00:00:00",
          "median": 0.00012717082868743537
         },
         {
          "NAAM_N2K": "Oosterschelde",
          "date": "2018-07-27T00:00:00",
          "median": 0.00010370080033723896
         },
         {
          "NAAM_N2K": "Veluwe",
          "date": "2018-07-29T00:00:00",
          "median": 0.00010543810858645858
         },
         {
          "NAAM_N2K": "Biesbosch",
          "date": "2018-07-29T00:00:00",
          "median": 0.0001445233358010909
         },
         {
          "NAAM_N2K": "Waddenzee",
          "date": "2018-07-29T00:00:00",
          "median": 8.9209200190273e-05
         },
         {
          "NAAM_N2K": "Rijntakken",
          "date": "2018-07-29T00:00:00",
          "median": 0.0001065431244042259
         },
         {
          "NAAM_N2K": "Weerribben",
          "date": "2018-07-29T00:00:00",
          "median": 0.00010982279263635738
         },
         {
          "NAAM_N2K": "Oosterschelde",
          "date": "2018-07-29T00:00:00",
          "median": 0.00014155601864386812
         },
         {
          "NAAM_N2K": "Veluwe",
          "date": "2018-07-31T00:00:00",
          "median": 0.00012522980107025066
         },
         {
          "NAAM_N2K": "Biesbosch",
          "date": "2018-07-31T00:00:00",
          "median": 0.0001297020982720616
         },
         {
          "NAAM_N2K": "Waddenzee",
          "date": "2018-07-31T00:00:00",
          "median": 0.00010719123326089484
         },
         {
          "NAAM_N2K": "Rijntakken",
          "date": "2018-07-31T00:00:00",
          "median": 0.00012573758702367707
         },
         {
          "NAAM_N2K": "Weerribben",
          "date": "2018-07-31T00:00:00",
          "median": 0.00011859428757501886
         },
         {
          "NAAM_N2K": "Oosterschelde",
          "date": "2018-07-31T00:00:00",
          "median": 0.00010271029119516813
         },
         {
          "NAAM_N2K": "Veluwe",
          "date": "2018-08-02T00:00:00",
          "median": 0.00011601912344020924
         },
         {
          "NAAM_N2K": "Biesbosch",
          "date": "2018-08-02T00:00:00",
          "median": 0.00014426094157596377
         },
         {
          "NAAM_N2K": "Waddenzee",
          "date": "2018-08-02T00:00:00",
          "median": 9.358957026133602e-05
         },
         {
          "NAAM_N2K": "Rijntakken",
          "date": "2018-08-02T00:00:00",
          "median": 0.00011588795581286712
         },
         {
          "NAAM_N2K": "Weerribben",
          "date": "2018-08-02T00:00:00",
          "median": 9.905131415544662e-05
         },
         {
          "NAAM_N2K": "Oosterschelde",
          "date": "2018-08-02T00:00:00",
          "median": 0.000135225733914103
         },
         {
          "NAAM_N2K": "Veluwe",
          "date": "2018-08-04T00:00:00",
          "median": 9.118677348710079e-05
         },
         {
          "NAAM_N2K": "Biesbosch",
          "date": "2018-08-04T00:00:00",
          "median": 0.00011162491809990051
         },
         {
          "NAAM_N2K": "Waddenzee",
          "date": "2018-08-04T00:00:00",
          "median": 8.033218703518762e-05
         },
         {
          "NAAM_N2K": "Rijntakken",
          "date": "2018-08-04T00:00:00",
          "median": 9.56553842260841e-05
         },
         {
          "NAAM_N2K": "Weerribben",
          "date": "2018-08-04T00:00:00",
          "median": 8.850182612694986e-05
         },
         {
          "NAAM_N2K": "Oosterschelde",
          "date": "2018-08-04T00:00:00",
          "median": 0.00013036921539807538
         },
         {
          "NAAM_N2K": "Veluwe",
          "date": "2018-08-06T00:00:00",
          "median": 0.00015163992169655747
         },
         {
          "NAAM_N2K": "Biesbosch",
          "date": "2018-08-06T00:00:00",
          "median": 0.00014968781201057403
         },
         {
          "NAAM_N2K": "Waddenzee",
          "date": "2018-08-06T00:00:00",
          "median": 0.0001026757510713251
         },
         {
          "NAAM_N2K": "Rijntakken",
          "date": "2018-08-06T00:00:00",
          "median": 0.00015395670656577967
         },
         {
          "NAAM_N2K": "Weerribben",
          "date": "2018-08-06T00:00:00",
          "median": 0.0001258880013451402
         },
         {
          "NAAM_N2K": "Oosterschelde",
          "date": "2018-08-06T00:00:00",
          "median": 0.00015568685633569808
         },
         {
          "NAAM_N2K": "Veluwe",
          "date": "2018-08-08T00:00:00",
          "median": 0.00018665705292716947
         },
         {
          "NAAM_N2K": "Biesbosch",
          "date": "2018-08-08T00:00:00",
          "median": 0.00010080445429454518
         },
         {
          "NAAM_N2K": "Waddenzee",
          "date": "2018-08-08T00:00:00",
          "median": 0.00011383387522746583
         },
         {
          "NAAM_N2K": "Rijntakken",
          "date": "2018-08-08T00:00:00",
          "median": 0.00021288910104360275
         },
         {
          "NAAM_N2K": "Weerribben",
          "date": "2018-08-08T00:00:00",
          "median": 0.00014927091969021823
         },
         {
          "NAAM_N2K": "Oosterschelde",
          "date": "2018-08-08T00:00:00",
          "median": 9.593369229196557e-05
         },
         {
          "NAAM_N2K": "Veluwe",
          "date": "2018-08-10T00:00:00",
          "median": 0.00011569148710558826
         },
         {
          "NAAM_N2K": "Biesbosch",
          "date": "2018-08-10T00:00:00",
          "median": 0.0001109282944410809
         },
         {
          "NAAM_N2K": "Waddenzee",
          "date": "2018-08-10T00:00:00",
          "median": 0.00015895017120770867
         },
         {
          "NAAM_N2K": "Rijntakken",
          "date": "2018-08-10T00:00:00",
          "median": 0.00010899817794630716
         },
         {
          "NAAM_N2K": "Weerribben",
          "date": "2018-08-10T00:00:00",
          "median": 0.00012786334314444648
         },
         {
          "NAAM_N2K": "Oosterschelde",
          "date": "2018-08-10T00:00:00",
          "median": 8.587314892074676e-05
         },
         {
          "NAAM_N2K": "Veluwe",
          "date": "2018-08-12T00:00:00",
          "median": 0.00013248408009070803
         },
         {
          "NAAM_N2K": "Biesbosch",
          "date": "2018-08-12T00:00:00",
          "median": 0.00013526495198136075
         },
         {
          "NAAM_N2K": "Waddenzee",
          "date": "2018-08-12T00:00:00",
          "median": 0.00017554376056304392
         },
         {
          "NAAM_N2K": "Rijntakken",
          "date": "2018-08-12T00:00:00",
          "median": 0.00013679345218925277
         },
         {
          "NAAM_N2K": "Weerribben",
          "date": "2018-08-12T00:00:00",
          "median": 0.00015823479048920517
         },
         {
          "NAAM_N2K": "Oosterschelde",
          "date": "2018-08-12T00:00:00",
          "median": 9.954682816443502e-05
         },
         {
          "NAAM_N2K": "Veluwe",
          "date": "2018-08-14T00:00:00",
          "median": 0.00010066593318221303
         },
         {
          "NAAM_N2K": "Biesbosch",
          "date": "2018-08-14T00:00:00",
          "median": 8.692522029324987e-05
         },
         {
          "NAAM_N2K": "Waddenzee",
          "date": "2018-08-14T00:00:00",
          "median": 7.656738683271063e-05
         },
         {
          "NAAM_N2K": "Rijntakken",
          "date": "2018-08-14T00:00:00",
          "median": 0.00010431767429818623
         },
         {
          "NAAM_N2K": "Weerribben",
          "date": "2018-08-14T00:00:00",
          "median": 9.220617954171914e-05
         },
         {
          "NAAM_N2K": "Oosterschelde",
          "date": "2018-08-14T00:00:00",
          "median": 7.740618768645611e-05
         },
         {
          "NAAM_N2K": "Veluwe",
          "date": "2018-08-16T00:00:00",
          "median": 0.0001007417865078611
         },
         {
          "NAAM_N2K": "Biesbosch",
          "date": "2018-08-16T00:00:00",
          "median": 8.704736574982617e-05
         },
         {
          "NAAM_N2K": "Waddenzee",
          "date": "2018-08-16T00:00:00",
          "median": 8.361539425661926e-05
         },
         {
          "NAAM_N2K": "Rijntakken",
          "date": "2018-08-16T00:00:00",
          "median": 0.00010744768148927795
         },
         {
          "NAAM_N2K": "Weerribben",
          "date": "2018-08-16T00:00:00",
          "median": 9.168959043693864e-05
         },
         {
          "NAAM_N2K": "Oosterschelde",
          "date": "2018-08-16T00:00:00",
          "median": 8.594015793164327e-05
         },
         {
          "NAAM_N2K": "Veluwe",
          "date": "2018-08-18T00:00:00",
          "median": 8.45279742731475e-05
         },
         {
          "NAAM_N2K": "Biesbosch",
          "date": "2018-08-18T00:00:00",
          "median": 8.16573150194218e-05
         },
         {
          "NAAM_N2K": "Waddenzee",
          "date": "2018-08-18T00:00:00",
          "median": 8.659176950420841e-05
         },
         {
          "NAAM_N2K": "Rijntakken",
          "date": "2018-08-18T00:00:00",
          "median": 8.573486479053209e-05
         },
         {
          "NAAM_N2K": "Weerribben",
          "date": "2018-08-18T00:00:00",
          "median": 9.155800649952487e-05
         },
         {
          "NAAM_N2K": "Oosterschelde",
          "date": "2018-08-18T00:00:00",
          "median": 8.315014908380548e-05
         },
         {
          "NAAM_N2K": "Veluwe",
          "date": "2018-08-20T00:00:00",
          "median": 0.00012012799672466722
         },
         {
          "NAAM_N2K": "Biesbosch",
          "date": "2018-08-20T00:00:00",
          "median": 0.000135366508469249
         },
         {
          "NAAM_N2K": "Waddenzee",
          "date": "2018-08-20T00:00:00",
          "median": 8.44690434220137e-05
         },
         {
          "NAAM_N2K": "Rijntakken",
          "date": "2018-08-20T00:00:00",
          "median": 0.00011149865640041031
         },
         {
          "NAAM_N2K": "Weerribben",
          "date": "2018-08-20T00:00:00",
          "median": 8.881409882621267e-05
         },
         {
          "NAAM_N2K": "Oosterschelde",
          "date": "2018-08-20T00:00:00",
          "median": 9.947196455649523e-05
         },
         {
          "NAAM_N2K": "Veluwe",
          "date": "2018-08-22T00:00:00",
          "median": 0.0001245281114516347
         },
         {
          "NAAM_N2K": "Biesbosch",
          "date": "2018-08-22T00:00:00",
          "median": 0.00010579132354073312
         },
         {
          "NAAM_N2K": "Waddenzee",
          "date": "2018-08-22T00:00:00",
          "median": 0.00011677983997291853
         },
         {
          "NAAM_N2K": "Rijntakken",
          "date": "2018-08-22T00:00:00",
          "median": 0.00012218455405222807
         },
         {
          "NAAM_N2K": "Weerribben",
          "date": "2018-08-22T00:00:00",
          "median": 0.0001024807521151426
         },
         {
          "NAAM_N2K": "Oosterschelde",
          "date": "2018-08-22T00:00:00",
          "median": 8.977382938875233e-05
         },
         {
          "NAAM_N2K": "Veluwe",
          "date": "2018-08-24T00:00:00",
          "median": 0.00011194732292200214
         },
         {
          "NAAM_N2K": "Biesbosch",
          "date": "2018-08-24T00:00:00",
          "median": 9.540257340881928e-05
         },
         {
          "NAAM_N2K": "Waddenzee",
          "date": "2018-08-24T00:00:00",
          "median": 7.741583900726013e-05
         },
         {
          "NAAM_N2K": "Rijntakken",
          "date": "2018-08-24T00:00:00",
          "median": 0.00010276872221964604
         },
         {
          "NAAM_N2K": "Weerribben",
          "date": "2018-08-24T00:00:00",
          "median": 7.894061802302177e-05
         },
         {
          "NAAM_N2K": "Oosterschelde",
          "date": "2018-08-24T00:00:00",
          "median": 7.703032730134918e-05
         },
         {
          "NAAM_N2K": "Veluwe",
          "date": "2018-08-26T00:00:00",
          "median": 0.00011072114525528367
         },
         {
          "NAAM_N2K": "Biesbosch",
          "date": "2018-08-26T00:00:00",
          "median": 0.00014312295418721142
         },
         {
          "NAAM_N2K": "Waddenzee",
          "date": "2018-08-26T00:00:00",
          "median": 7.754667909944894e-05
         },
         {
          "NAAM_N2K": "Rijntakken",
          "date": "2018-08-26T00:00:00",
          "median": 0.00010280205191466301
         },
         {
          "NAAM_N2K": "Weerribben",
          "date": "2018-08-26T00:00:00",
          "median": 9.266859802144225e-05
         },
         {
          "NAAM_N2K": "Oosterschelde",
          "date": "2018-08-26T00:00:00",
          "median": 0.00012135716469657454
         },
         {
          "NAAM_N2K": "Veluwe",
          "date": "2018-08-28T00:00:00",
          "median": 0.0002288117600081799
         },
         {
          "NAAM_N2K": "Biesbosch",
          "date": "2018-08-28T00:00:00",
          "median": 0.0003459239400191041
         },
         {
          "NAAM_N2K": "Waddenzee",
          "date": "2018-08-28T00:00:00",
          "median": 0.00019614857907350092
         },
         {
          "NAAM_N2K": "Rijntakken",
          "date": "2018-08-28T00:00:00",
          "median": 0.00023442535580105455
         },
         {
          "NAAM_N2K": "Weerribben",
          "date": "2018-08-28T00:00:00",
          "median": 0.00020565777510057093
         },
         {
          "NAAM_N2K": "Oosterschelde",
          "date": "2018-08-28T00:00:00",
          "median": 0.0002623274100630969
         },
         {
          "NAAM_N2K": "Veluwe",
          "date": "2018-08-30T00:00:00",
          "median": 9.379365290677915e-05
         },
         {
          "NAAM_N2K": "Biesbosch",
          "date": "2018-08-30T00:00:00",
          "median": 0.00011548950910115365
         },
         {
          "NAAM_N2K": "Waddenzee",
          "date": "2018-08-30T00:00:00",
          "median": 7.127105490719003e-05
         },
         {
          "NAAM_N2K": "Rijntakken",
          "date": "2018-08-30T00:00:00",
          "median": 9.767024227203084e-05
         },
         {
          "NAAM_N2K": "Weerribben",
          "date": "2018-08-30T00:00:00",
          "median": 7.994631437212825e-05
         },
         {
          "NAAM_N2K": "Oosterschelde",
          "date": "2018-08-30T00:00:00",
          "median": 0.00013602942692639468
         },
         {
          "NAAM_N2K": "Veluwe",
          "date": "2018-09-01T00:00:00",
          "median": 8.534677964261989e-05
         },
         {
          "NAAM_N2K": "Biesbosch",
          "date": "2018-09-01T00:00:00",
          "median": 0.00012694111087078785
         },
         {
          "NAAM_N2K": "Waddenzee",
          "date": "2018-09-01T00:00:00",
          "median": 7.868861442493133e-05
         },
         {
          "NAAM_N2K": "Rijntakken",
          "date": "2018-09-01T00:00:00",
          "median": 9.137814560580086e-05
         },
         {
          "NAAM_N2K": "Weerribben",
          "date": "2018-09-01T00:00:00",
          "median": 7.410092668460206e-05
         },
         {
          "NAAM_N2K": "Oosterschelde",
          "date": "2018-09-01T00:00:00",
          "median": 0.0001275082659985522
         },
         {
          "NAAM_N2K": "Veluwe",
          "date": "2018-09-03T00:00:00",
          "median": 0.0001628577050568187
         },
         {
          "NAAM_N2K": "Biesbosch",
          "date": "2018-09-03T00:00:00",
          "median": 0.00012964126617469356
         },
         {
          "NAAM_N2K": "Waddenzee",
          "date": "2018-09-03T00:00:00",
          "median": 0.0001087670219705626
         },
         {
          "NAAM_N2K": "Rijntakken",
          "date": "2018-09-03T00:00:00",
          "median": 0.0001550840016312755
         },
         {
          "NAAM_N2K": "Weerribben",
          "date": "2018-09-03T00:00:00",
          "median": 0.0001262168428259352
         },
         {
          "NAAM_N2K": "Oosterschelde",
          "date": "2018-09-03T00:00:00",
          "median": 0.00011133294461883637
         },
         {
          "NAAM_N2K": "Veluwe",
          "date": "2018-09-05T00:00:00",
          "median": 0.00016964320442416518
         },
         {
          "NAAM_N2K": "Biesbosch",
          "date": "2018-09-05T00:00:00",
          "median": 0.0001350221909986489
         },
         {
          "NAAM_N2K": "Waddenzee",
          "date": "2018-09-05T00:00:00",
          "median": 0.00013630557248027662
         },
         {
          "NAAM_N2K": "Rijntakken",
          "date": "2018-09-05T00:00:00",
          "median": 0.00016882750121595383
         },
         {
          "NAAM_N2K": "Weerribben",
          "date": "2018-09-05T00:00:00",
          "median": 0.00014268618706579422
         },
         {
          "NAAM_N2K": "Oosterschelde",
          "date": "2018-09-05T00:00:00",
          "median": 0.0001022193400155632
         },
         {
          "NAAM_N2K": "Veluwe",
          "date": "2018-09-07T00:00:00",
          "median": 0.0001702477645895648
         },
         {
          "NAAM_N2K": "Biesbosch",
          "date": "2018-09-07T00:00:00",
          "median": 0.00014820300380576296
         },
         {
          "NAAM_N2K": "Waddenzee",
          "date": "2018-09-07T00:00:00",
          "median": 0.00013505127689343897
         },
         {
          "NAAM_N2K": "Rijntakken",
          "date": "2018-09-07T00:00:00",
          "median": 0.00015081442982134798
         },
         {
          "NAAM_N2K": "Weerribben",
          "date": "2018-09-07T00:00:00",
          "median": 0.0001888758495165408
         },
         {
          "NAAM_N2K": "Oosterschelde",
          "date": "2018-09-07T00:00:00",
          "median": 0.00011844243271219756
         },
         {
          "NAAM_N2K": "Veluwe",
          "date": "2018-09-09T00:00:00",
          "median": 0.0001600903476917431
         },
         {
          "NAAM_N2K": "Biesbosch",
          "date": "2018-09-09T00:00:00",
          "median": 0.0001740078752021444
         },
         {
          "NAAM_N2K": "Waddenzee",
          "date": "2018-09-09T00:00:00",
          "median": 0.00011908196156071364
         },
         {
          "NAAM_N2K": "Rijntakken",
          "date": "2018-09-09T00:00:00",
          "median": 0.00015628388699212385
         },
         {
          "NAAM_N2K": "Weerribben",
          "date": "2018-09-09T00:00:00",
          "median": 0.00011343903975026072
         },
         {
          "NAAM_N2K": "Oosterschelde",
          "date": "2018-09-09T00:00:00",
          "median": 0.00012159695516442603
         },
         {
          "NAAM_N2K": "Veluwe",
          "date": "2018-09-11T00:00:00",
          "median": 0.00010219541397375509
         },
         {
          "NAAM_N2K": "Biesbosch",
          "date": "2018-09-11T00:00:00",
          "median": 0.00010837257687243936
         },
         {
          "NAAM_N2K": "Waddenzee",
          "date": "2018-09-11T00:00:00",
          "median": 8.876320599573545e-05
         },
         {
          "NAAM_N2K": "Rijntakken",
          "date": "2018-09-11T00:00:00",
          "median": 0.00010269434913646982
         },
         {
          "NAAM_N2K": "Weerribben",
          "date": "2018-09-11T00:00:00",
          "median": 8.637012066924974e-05
         },
         {
          "NAAM_N2K": "Oosterschelde",
          "date": "2018-09-11T00:00:00",
          "median": 8.707122877240007e-05
         },
         {
          "NAAM_N2K": "Veluwe",
          "date": "2018-09-13T00:00:00",
          "median": 0.00012113669782695991
         },
         {
          "NAAM_N2K": "Biesbosch",
          "date": "2018-09-13T00:00:00",
          "median": 0.00015407115414118154
         },
         {
          "NAAM_N2K": "Waddenzee",
          "date": "2018-09-13T00:00:00",
          "median": 9.579463077945735e-05
         },
         {
          "NAAM_N2K": "Rijntakken",
          "date": "2018-09-13T00:00:00",
          "median": 0.00014167875017448629
         },
         {
          "NAAM_N2K": "Weerribben",
          "date": "2018-09-13T00:00:00",
          "median": 0.0001231390350582559
         },
         {
          "NAAM_N2K": "Oosterschelde",
          "date": "2018-09-13T00:00:00",
          "median": 0.00012167121319758713
         },
         {
          "NAAM_N2K": "Veluwe",
          "date": "2018-09-15T00:00:00",
          "median": 0.0001062902680022279
         },
         {
          "NAAM_N2K": "Biesbosch",
          "date": "2018-09-15T00:00:00",
          "median": 0.0001097527018054241
         },
         {
          "NAAM_N2K": "Waddenzee",
          "date": "2018-09-15T00:00:00",
          "median": 9.648105479981829e-05
         },
         {
          "NAAM_N2K": "Rijntakken",
          "date": "2018-09-15T00:00:00",
          "median": 0.0001183370074776243
         },
         {
          "NAAM_N2K": "Weerribben",
          "date": "2018-09-15T00:00:00",
          "median": 9.389063323531614e-05
         },
         {
          "NAAM_N2K": "Oosterschelde",
          "date": "2018-09-15T00:00:00",
          "median": 8.958458784951958e-05
         },
         {
          "NAAM_N2K": "Veluwe",
          "date": "2018-09-17T00:00:00",
          "median": 0.0001571861853686291
         },
         {
          "NAAM_N2K": "Biesbosch",
          "date": "2018-09-17T00:00:00",
          "median": 0.00018171904265047964
         },
         {
          "NAAM_N2K": "Waddenzee",
          "date": "2018-09-17T00:00:00",
          "median": 0.00016968585022051057
         },
         {
          "NAAM_N2K": "Rijntakken",
          "date": "2018-09-17T00:00:00",
          "median": 0.00016262028682177866
         },
         {
          "NAAM_N2K": "Weerribben",
          "date": "2018-09-17T00:00:00",
          "median": 0.00015850120918298833
         },
         {
          "NAAM_N2K": "Oosterschelde",
          "date": "2018-09-17T00:00:00",
          "median": 0.00012436571238382392
         },
         {
          "NAAM_N2K": "Veluwe",
          "date": "2018-09-19T00:00:00",
          "median": 0.00012771385372083277
         },
         {
          "NAAM_N2K": "Biesbosch",
          "date": "2018-09-19T00:00:00",
          "median": 0.00013970402741651726
         },
         {
          "NAAM_N2K": "Waddenzee",
          "date": "2018-09-19T00:00:00",
          "median": 0.00010984307033208274
         },
         {
          "NAAM_N2K": "Rijntakken",
          "date": "2018-09-19T00:00:00",
          "median": 0.00013800216802574056
         },
         {
          "NAAM_N2K": "Weerribben",
          "date": "2018-09-19T00:00:00",
          "median": 0.00013177659134657496
         },
         {
          "NAAM_N2K": "Oosterschelde",
          "date": "2018-09-19T00:00:00",
          "median": 8.459378990064574e-05
         },
         {
          "NAAM_N2K": "Veluwe",
          "date": "2018-09-21T00:00:00",
          "median": 0.00026335091451891446
         },
         {
          "NAAM_N2K": "Biesbosch",
          "date": "2018-09-21T00:00:00",
          "median": 0.00019264873835540762
         },
         {
          "NAAM_N2K": "Waddenzee",
          "date": "2018-09-21T00:00:00",
          "median": 9.628632757805377e-05
         },
         {
          "NAAM_N2K": "Rijntakken",
          "date": "2018-09-21T00:00:00",
          "median": 0.0001949100016206394
         },
         {
          "NAAM_N2K": "Weerribben",
          "date": "2018-09-21T00:00:00",
          "median": 0.0001677312443464309
         },
         {
          "NAAM_N2K": "Oosterschelde",
          "date": "2018-09-21T00:00:00",
          "median": 0.00023733424616382437
         },
         {
          "NAAM_N2K": "Veluwe",
          "date": "2018-09-23T00:00:00",
          "median": 0.0002845553530252669
         },
         {
          "NAAM_N2K": "Biesbosch",
          "date": "2018-09-23T00:00:00",
          "median": 0.00025592034256818994
         },
         {
          "NAAM_N2K": "Waddenzee",
          "date": "2018-09-23T00:00:00",
          "median": 0.00022702635411726808
         },
         {
          "NAAM_N2K": "Rijntakken",
          "date": "2018-09-23T00:00:00",
          "median": 0.0003017612950172378
         },
         {
          "NAAM_N2K": "Weerribben",
          "date": "2018-09-23T00:00:00",
          "median": 0.00022531839077480402
         },
         {
          "NAAM_N2K": "Oosterschelde",
          "date": "2018-09-23T00:00:00",
          "median": 0.0001843101123873502
         },
         {
          "NAAM_N2K": "Veluwe",
          "date": "2018-09-25T00:00:00",
          "median": 0.00015176645651540792
         },
         {
          "NAAM_N2K": "Biesbosch",
          "date": "2018-09-25T00:00:00",
          "median": 0.00015436165523602608
         },
         {
          "NAAM_N2K": "Waddenzee",
          "date": "2018-09-25T00:00:00",
          "median": 7.652313473944238e-05
         },
         {
          "NAAM_N2K": "Rijntakken",
          "date": "2018-09-25T00:00:00",
          "median": 0.00017586417589056705
         },
         {
          "NAAM_N2K": "Weerribben",
          "date": "2018-09-25T00:00:00",
          "median": 0.00018905878979827887
         },
         {
          "NAAM_N2K": "Oosterschelde",
          "date": "2018-09-25T00:00:00",
          "median": 0.00012197752324989169
         },
         {
          "NAAM_N2K": "Veluwe",
          "date": "2018-09-27T00:00:00",
          "median": 0.00013383195572478745
         },
         {
          "NAAM_N2K": "Biesbosch",
          "date": "2018-09-27T00:00:00",
          "median": 0.0002348387923839106
         },
         {
          "NAAM_N2K": "Waddenzee",
          "date": "2018-09-27T00:00:00",
          "median": 9.434131349109881e-05
         },
         {
          "NAAM_N2K": "Rijntakken",
          "date": "2018-09-27T00:00:00",
          "median": 0.0001677972040880225
         },
         {
          "NAAM_N2K": "Weerribben",
          "date": "2018-09-27T00:00:00",
          "median": 0.00014116013643969918
         },
         {
          "NAAM_N2K": "Oosterschelde",
          "date": "2018-09-27T00:00:00",
          "median": 0.00013437034135446447
         },
         {
          "NAAM_N2K": "Veluwe",
          "date": "2018-09-29T00:00:00",
          "median": 0.00011729246184520191
         },
         {
          "NAAM_N2K": "Biesbosch",
          "date": "2018-09-29T00:00:00",
          "median": 0.00011829013581175908
         },
         {
          "NAAM_N2K": "Waddenzee",
          "date": "2018-09-29T00:00:00",
          "median": 7.283046015215945e-05
         },
         {
          "NAAM_N2K": "Rijntakken",
          "date": "2018-09-29T00:00:00",
          "median": 0.00013633477887637475
         },
         {
          "NAAM_N2K": "Weerribben",
          "date": "2018-09-29T00:00:00",
          "median": 9.522518474601295e-05
         },
         {
          "NAAM_N2K": "Oosterschelde",
          "date": "2018-09-29T00:00:00",
          "median": 7.986943326577164e-05
         },
         {
          "NAAM_N2K": "Veluwe",
          "date": "2018-10-01T00:00:00",
          "median": 8.674230855800097e-05
         },
         {
          "NAAM_N2K": "Biesbosch",
          "date": "2018-10-01T00:00:00",
          "median": 0.00010541362847411815
         },
         {
          "NAAM_N2K": "Waddenzee",
          "date": "2018-10-01T00:00:00",
          "median": 5.939407576822431e-05
         },
         {
          "NAAM_N2K": "Rijntakken",
          "date": "2018-10-01T00:00:00",
          "median": 0.00010779806601800157
         },
         {
          "NAAM_N2K": "Weerribben",
          "date": "2018-10-01T00:00:00",
          "median": 7.180008809006267e-05
         },
         {
          "NAAM_N2K": "Oosterschelde",
          "date": "2018-10-01T00:00:00",
          "median": 7.818998172182267e-05
         },
         {
          "NAAM_N2K": "Veluwe",
          "date": "2018-10-03T00:00:00",
          "median": 0.00012662671360999262
         },
         {
          "NAAM_N2K": "Biesbosch",
          "date": "2018-10-03T00:00:00",
          "median": 0.00013377191702781033
         },
         {
          "NAAM_N2K": "Waddenzee",
          "date": "2018-10-03T00:00:00",
          "median": 9.16344942176302e-05
         },
         {
          "NAAM_N2K": "Rijntakken",
          "date": "2018-10-03T00:00:00",
          "median": 0.00011337970675496244
         },
         {
          "NAAM_N2K": "Weerribben",
          "date": "2018-10-03T00:00:00",
          "median": 7.041893740384711e-05
         },
         {
          "NAAM_N2K": "Oosterschelde",
          "date": "2018-10-03T00:00:00",
          "median": 9.125375474555493e-05
         },
         {
          "NAAM_N2K": "Veluwe",
          "date": "2018-10-05T00:00:00",
          "median": 0.00014588191762543012
         },
         {
          "NAAM_N2K": "Biesbosch",
          "date": "2018-10-05T00:00:00",
          "median": 0.00019592102239012718
         },
         {
          "NAAM_N2K": "Waddenzee",
          "date": "2018-10-05T00:00:00",
          "median": 0.0001521947728543246
         },
         {
          "NAAM_N2K": "Rijntakken",
          "date": "2018-10-05T00:00:00",
          "median": 0.00015825042260814262
         },
         {
          "NAAM_N2K": "Weerribben",
          "date": "2018-10-05T00:00:00",
          "median": 0.0001728115097550526
         },
         {
          "NAAM_N2K": "Oosterschelde",
          "date": "2018-10-05T00:00:00",
          "median": 0.00017829629079320515
         },
         {
          "NAAM_N2K": "Veluwe",
          "date": "2018-10-07T00:00:00",
          "median": 0.00015904900547105222
         },
         {
          "NAAM_N2K": "Biesbosch",
          "date": "2018-10-07T00:00:00",
          "median": 0.0001640147489471215
         },
         {
          "NAAM_N2K": "Waddenzee",
          "date": "2018-10-07T00:00:00",
          "median": 0.00011927889140110102
         },
         {
          "NAAM_N2K": "Rijntakken",
          "date": "2018-10-07T00:00:00",
          "median": 0.00014450578072391787
         },
         {
          "NAAM_N2K": "Weerribben",
          "date": "2018-10-07T00:00:00",
          "median": 0.00014003691078916773
         },
         {
          "NAAM_N2K": "Oosterschelde",
          "date": "2018-10-07T00:00:00",
          "median": 0.00016300352268765683
         },
         {
          "NAAM_N2K": "Veluwe",
          "date": "2018-10-09T00:00:00",
          "median": 0.00015602809352776575
         },
         {
          "NAAM_N2K": "Biesbosch",
          "date": "2018-10-09T00:00:00",
          "median": 0.00019753683325876117
         },
         {
          "NAAM_N2K": "Waddenzee",
          "date": "2018-10-09T00:00:00",
          "median": 0.00014259945737896967
         },
         {
          "NAAM_N2K": "Rijntakken",
          "date": "2018-10-09T00:00:00",
          "median": 0.00015382592381945546
         },
         {
          "NAAM_N2K": "Weerribben",
          "date": "2018-10-09T00:00:00",
          "median": 0.0001682812708624459
         },
         {
          "NAAM_N2K": "Oosterschelde",
          "date": "2018-10-09T00:00:00",
          "median": 0.00021621852168929968
         },
         {
          "NAAM_N2K": "Veluwe",
          "date": "2018-10-11T00:00:00",
          "median": 0.0001343577016160077
         },
         {
          "NAAM_N2K": "Biesbosch",
          "date": "2018-10-11T00:00:00",
          "median": 0.00015875677413635883
         },
         {
          "NAAM_N2K": "Waddenzee",
          "date": "2018-10-11T00:00:00",
          "median": 0.00013469142797155483
         },
         {
          "NAAM_N2K": "Rijntakken",
          "date": "2018-10-11T00:00:00",
          "median": 0.00014291811950477138
         },
         {
          "NAAM_N2K": "Weerribben",
          "date": "2018-10-11T00:00:00",
          "median": 0.00014703415459084017
         },
         {
          "NAAM_N2K": "Oosterschelde",
          "date": "2018-10-11T00:00:00",
          "median": 0.00011945826344695625
         },
         {
          "NAAM_N2K": "Veluwe",
          "date": "2018-10-13T00:00:00",
          "median": 0.00010859911266112362
         },
         {
          "NAAM_N2K": "Biesbosch",
          "date": "2018-10-13T00:00:00",
          "median": 0.000129550787469373
         },
         {
          "NAAM_N2K": "Waddenzee",
          "date": "2018-10-13T00:00:00",
          "median": 0.00011048837729606532
         },
         {
          "NAAM_N2K": "Rijntakken",
          "date": "2018-10-13T00:00:00",
          "median": 0.00011207555059824755
         },
         {
          "NAAM_N2K": "Weerribben",
          "date": "2018-10-13T00:00:00",
          "median": 0.00011392504799880475
         },
         {
          "NAAM_N2K": "Oosterschelde",
          "date": "2018-10-13T00:00:00",
          "median": 0.00010526743972933733
         },
         {
          "NAAM_N2K": "Veluwe",
          "date": "2018-10-15T00:00:00",
          "median": 0.00012539457524469002
         },
         {
          "NAAM_N2K": "Biesbosch",
          "date": "2018-10-15T00:00:00",
          "median": 0.00019944170055794262
         },
         {
          "NAAM_N2K": "Waddenzee",
          "date": "2018-10-15T00:00:00",
          "median": 0.0001247728197297487
         },
         {
          "NAAM_N2K": "Rijntakken",
          "date": "2018-10-15T00:00:00",
          "median": 0.00015313506864786248
         },
         {
          "NAAM_N2K": "Weerribben",
          "date": "2018-10-15T00:00:00",
          "median": 0.00015899912984982916
         },
         {
          "NAAM_N2K": "Oosterschelde",
          "date": "2018-10-15T00:00:00",
          "median": 0.00019110465997707092
         },
         {
          "NAAM_N2K": "Veluwe",
          "date": "2018-10-17T00:00:00",
          "median": 0.00011524028074055307
         },
         {
          "NAAM_N2K": "Biesbosch",
          "date": "2018-10-17T00:00:00",
          "median": 0.00012144097964905066
         },
         {
          "NAAM_N2K": "Waddenzee",
          "date": "2018-10-17T00:00:00",
          "median": 8.997422670930178e-05
         },
         {
          "NAAM_N2K": "Rijntakken",
          "date": "2018-10-17T00:00:00",
          "median": 0.00013699714333426674
         },
         {
          "NAAM_N2K": "Weerribben",
          "date": "2018-10-17T00:00:00",
          "median": 9.309935476028422e-05
         },
         {
          "NAAM_N2K": "Oosterschelde",
          "date": "2018-10-17T00:00:00",
          "median": 0.00011746427995875312
         },
         {
          "NAAM_N2K": "Veluwe",
          "date": "2018-10-19T00:00:00",
          "median": 0.00013693591946986697
         },
         {
          "NAAM_N2K": "Biesbosch",
          "date": "2018-10-19T00:00:00",
          "median": 0.00016248280469112236
         },
         {
          "NAAM_N2K": "Waddenzee",
          "date": "2018-10-19T00:00:00",
          "median": 9.813750443636807e-05
         },
         {
          "NAAM_N2K": "Rijntakken",
          "date": "2018-10-19T00:00:00",
          "median": 0.00013693591946986697
         },
         {
          "NAAM_N2K": "Weerribben",
          "date": "2018-10-19T00:00:00",
          "median": 0.00010780128017058307
         },
         {
          "NAAM_N2K": "Oosterschelde",
          "date": "2018-10-19T00:00:00",
          "median": 0.0001579740253034395
         },
         {
          "NAAM_N2K": "Veluwe",
          "date": "2018-10-21T00:00:00",
          "median": 8.653807880173265e-05
         },
         {
          "NAAM_N2K": "Biesbosch",
          "date": "2018-10-21T00:00:00",
          "median": 0.0001114144934436933
         },
         {
          "NAAM_N2K": "Waddenzee",
          "date": "2018-10-21T00:00:00",
          "median": 5.7304361131166094e-05
         },
         {
          "NAAM_N2K": "Rijntakken",
          "date": "2018-10-21T00:00:00",
          "median": 9.340577462905447e-05
         },
         {
          "NAAM_N2K": "Weerribben",
          "date": "2018-10-21T00:00:00",
          "median": 6.532976885420788e-05
         },
         {
          "NAAM_N2K": "Oosterschelde",
          "date": "2018-10-21T00:00:00",
          "median": 0.00010925266949596937
         },
         {
          "NAAM_N2K": "Veluwe",
          "date": "2018-10-23T00:00:00",
          "median": 6.199610792628974e-05
         },
         {
          "NAAM_N2K": "Biesbosch",
          "date": "2018-10-23T00:00:00",
          "median": 0.00010176994056809098
         },
         {
          "NAAM_N2K": "Waddenzee",
          "date": "2018-10-23T00:00:00",
          "median": 5.4675195919299e-05
         },
         {
          "NAAM_N2K": "Rijntakken",
          "date": "2018-10-23T00:00:00",
          "median": 9.437128568838237e-05
         },
         {
          "NAAM_N2K": "Weerribben",
          "date": "2018-10-23T00:00:00",
          "median": 5.818335932543301e-05
         },
         {
          "NAAM_N2K": "Oosterschelde",
          "date": "2018-10-23T00:00:00",
          "median": 8.928400470036382e-05
         },
         {
          "NAAM_N2K": "Veluwe",
          "date": "2018-10-25T00:00:00",
          "median": 0.00012104548802453145
         },
         {
          "NAAM_N2K": "Biesbosch",
          "date": "2018-10-25T00:00:00",
          "median": 0.0001464756138543812
         },
         {
          "NAAM_N2K": "Waddenzee",
          "date": "2018-10-25T00:00:00",
          "median": 4.9117637869439e-05
         },
         {
          "NAAM_N2K": "Rijntakken",
          "date": "2018-10-25T00:00:00",
          "median": 0.00012843326595763353
         },
         {
          "NAAM_N2K": "Weerribben",
          "date": "2018-10-25T00:00:00",
          "median": 7.146199254791843e-05
         },
         {
          "NAAM_N2K": "Oosterschelde",
          "date": "2018-10-25T00:00:00",
          "median": 8.269548139032968e-05
         },
         {
          "NAAM_N2K": "Veluwe",
          "date": "2018-10-27T00:00:00",
          "median": 7.653526692494536e-05
         },
         {
          "NAAM_N2K": "Biesbosch",
          "date": "2018-10-27T00:00:00",
          "median": 9.331104154628399e-05
         },
         {
          "NAAM_N2K": "Waddenzee",
          "date": "2018-10-27T00:00:00",
          "median": 6.435068697780105e-05
         },
         {
          "NAAM_N2K": "Rijntakken",
          "date": "2018-10-27T00:00:00",
          "median": 8.422307589836384e-05
         },
         {
          "NAAM_N2K": "Weerribben",
          "date": "2018-10-27T00:00:00",
          "median": 6.476669544176904e-05
         },
         {
          "NAAM_N2K": "Oosterschelde",
          "date": "2018-10-27T00:00:00",
          "median": 7.678451899566279e-05
         },
         {
          "NAAM_N2K": "Veluwe",
          "date": "2018-10-29T00:00:00",
          "median": 0.00010399541823236502
         },
         {
          "NAAM_N2K": "Biesbosch",
          "date": "2018-10-29T00:00:00",
          "median": 8.32621425860408e-05
         },
         {
          "NAAM_N2K": "Waddenzee",
          "date": "2018-10-29T00:00:00",
          "median": 6.932302080130331e-05
         },
         {
          "NAAM_N2K": "Rijntakken",
          "date": "2018-10-29T00:00:00",
          "median": 0.00010399541823236502
         },
         {
          "NAAM_N2K": "Weerribben",
          "date": "2018-10-29T00:00:00",
          "median": 7.685008746837118e-05
         },
         {
          "NAAM_N2K": "Oosterschelde",
          "date": "2018-10-29T00:00:00",
          "median": 7.856335405541706e-05
         },
         {
          "NAAM_N2K": "Veluwe",
          "date": "2018-10-31T00:00:00",
          "median": 0.0001508776191953089
         },
         {
          "NAAM_N2K": "Biesbosch",
          "date": "2018-10-31T00:00:00",
          "median": 0.00015382312594552602
         },
         {
          "NAAM_N2K": "Waddenzee",
          "date": "2018-10-31T00:00:00",
          "median": 0.00015401271980346873
         },
         {
          "NAAM_N2K": "Rijntakken",
          "date": "2018-10-31T00:00:00",
          "median": 0.00016014398086051929
         },
         {
          "NAAM_N2K": "Weerribben",
          "date": "2018-10-31T00:00:00",
          "median": 0.00014532547154642172
         },
         {
          "NAAM_N2K": "Oosterschelde",
          "date": "2018-10-31T00:00:00",
          "median": 0.0001798975286104149
         },
         {
          "NAAM_N2K": "Veluwe",
          "date": "2018-11-02T00:00:00",
          "median": 0.00017561538953817294
         },
         {
          "NAAM_N2K": "Biesbosch",
          "date": "2018-11-02T00:00:00",
          "median": 0.0001474421088039595
         },
         {
          "NAAM_N2K": "Waddenzee",
          "date": "2018-11-02T00:00:00",
          "median": 8.254549046748339e-05
         },
         {
          "NAAM_N2K": "Rijntakken",
          "date": "2018-11-02T00:00:00",
          "median": 0.00017561538953817294
         },
         {
          "NAAM_N2K": "Weerribben",
          "date": "2018-11-02T00:00:00",
          "median": 0.00012259118637608475
         },
         {
          "NAAM_N2K": "Oosterschelde",
          "date": "2018-11-02T00:00:00",
          "median": 0.00011330313939629055
         },
         {
          "NAAM_N2K": "Veluwe",
          "date": "2018-11-04T00:00:00",
          "median": 0.00015158453549264439
         },
         {
          "NAAM_N2K": "Biesbosch",
          "date": "2018-11-04T00:00:00",
          "median": 0.00020152298220024828
         },
         {
          "NAAM_N2K": "Waddenzee",
          "date": "2018-11-04T00:00:00",
          "median": 0.00011194041052890926
         },
         {
          "NAAM_N2K": "Rijntakken",
          "date": "2018-11-04T00:00:00",
          "median": 0.0001710885649836892
         },
         {
          "NAAM_N2K": "Weerribben",
          "date": "2018-11-04T00:00:00",
          "median": 0.00012165648942021279
         },
         {
          "NAAM_N2K": "Oosterschelde",
          "date": "2018-11-04T00:00:00",
          "median": 0.00015213374786799213
         },
         {
          "NAAM_N2K": "Veluwe",
          "date": "2018-11-06T00:00:00",
          "median": 0.00013767664603840047
         },
         {
          "NAAM_N2K": "Biesbosch",
          "date": "2018-11-06T00:00:00",
          "median": 0.00014804336657702852
         },
         {
          "NAAM_N2K": "Waddenzee",
          "date": "2018-11-06T00:00:00",
          "median": 0.0001630136639437173
         },
         {
          "NAAM_N2K": "Rijntakken",
          "date": "2018-11-06T00:00:00",
          "median": 0.00014060894579373832
         },
         {
          "NAAM_N2K": "Weerribben",
          "date": "2018-11-06T00:00:00",
          "median": 0.00014569921906958203
         },
         {
          "NAAM_N2K": "Oosterschelde",
          "date": "2018-11-06T00:00:00",
          "median": 0.00033162810610204636
         },
         {
          "NAAM_N2K": "Veluwe",
          "date": "2018-11-08T00:00:00",
          "median": 0.00013247005124366706
         },
         {
          "NAAM_N2K": "Biesbosch",
          "date": "2018-11-08T00:00:00",
          "median": 0.00015825292865804955
         },
         {
          "NAAM_N2K": "Waddenzee",
          "date": "2018-11-08T00:00:00",
          "median": 9.401773403127621e-05
         },
         {
          "NAAM_N2K": "Rijntakken",
          "date": "2018-11-08T00:00:00",
          "median": 0.00013016406448376023
         },
         {
          "NAAM_N2K": "Weerribben",
          "date": "2018-11-08T00:00:00",
          "median": 0.00014462120716540473
         },
         {
          "NAAM_N2K": "Oosterschelde",
          "date": "2018-11-08T00:00:00",
          "median": 0.0001468930361008022
         },
         {
          "NAAM_N2K": "Veluwe",
          "date": "2018-11-10T00:00:00",
          "median": 0.00015225667826048378
         },
         {
          "NAAM_N2K": "Biesbosch",
          "date": "2018-11-10T00:00:00",
          "median": 0.000148444905745377
         },
         {
          "NAAM_N2K": "Waddenzee",
          "date": "2018-11-10T00:00:00",
          "median": 0.00016969692551081848
         },
         {
          "NAAM_N2K": "Rijntakken",
          "date": "2018-11-10T00:00:00",
          "median": 0.00016127873296204332
         },
         {
          "NAAM_N2K": "Weerribben",
          "date": "2018-11-10T00:00:00",
          "median": 0.00017419144765821377
         },
         {
          "NAAM_N2K": "Oosterschelde",
          "date": "2018-11-10T00:00:00",
          "median": 0.00010397276936443642
         },
         {
          "NAAM_N2K": "Veluwe",
          "date": "2018-11-12T00:00:00",
          "median": 0.00021954987131590954
         },
         {
          "NAAM_N2K": "Biesbosch",
          "date": "2018-11-12T00:00:00",
          "median": 0.00017492397351444642
         },
         {
          "NAAM_N2K": "Waddenzee",
          "date": "2018-11-12T00:00:00",
          "median": 0.00015434671672288712
         },
         {
          "NAAM_N2K": "Rijntakken",
          "date": "2018-11-12T00:00:00",
          "median": 0.00019991475531688592
         },
         {
          "NAAM_N2K": "Weerribben",
          "date": "2018-11-12T00:00:00",
          "median": 0.00018070035223760549
         },
         {
          "NAAM_N2K": "Oosterschelde",
          "date": "2018-11-12T00:00:00",
          "median": 9.97420928225003e-05
         },
         {
          "NAAM_N2K": "Veluwe",
          "date": "2018-11-14T00:00:00",
          "median": 0.00015179355580161952
         },
         {
          "NAAM_N2K": "Biesbosch",
          "date": "2018-11-14T00:00:00",
          "median": 0.00017033526011151506
         },
         {
          "NAAM_N2K": "Waddenzee",
          "date": "2018-11-14T00:00:00",
          "median": 0.00010794940934639241
         },
         {
          "NAAM_N2K": "Rijntakken",
          "date": "2018-11-14T00:00:00",
          "median": 0.00014934971027868906
         },
         {
          "NAAM_N2K": "Weerribben",
          "date": "2018-11-14T00:00:00",
          "median": 0.00012756897512953378
         },
         {
          "NAAM_N2K": "Oosterschelde",
          "date": "2018-11-14T00:00:00",
          "median": 0.00015576329691203929
         },
         {
          "NAAM_N2K": "Veluwe",
          "date": "2018-11-16T00:00:00",
          "median": 0.0001369633916599003
         },
         {
          "NAAM_N2K": "Biesbosch",
          "date": "2018-11-16T00:00:00",
          "median": 0.00011580395126085642
         },
         {
          "NAAM_N2K": "Waddenzee",
          "date": "2018-11-16T00:00:00",
          "median": 9.176690270253868e-05
         },
         {
          "NAAM_N2K": "Rijntakken",
          "date": "2018-11-16T00:00:00",
          "median": 0.00014392581553693417
         },
         {
          "NAAM_N2K": "Weerribben",
          "date": "2018-11-16T00:00:00",
          "median": 0.00013316143850820083
         },
         {
          "NAAM_N2K": "Oosterschelde",
          "date": "2018-11-16T00:00:00",
          "median": 0.00015434637532870082
         },
         {
          "NAAM_N2K": "Veluwe",
          "date": "2018-11-18T00:00:00",
          "median": 6.9259299195877e-05
         },
         {
          "NAAM_N2K": "Biesbosch",
          "date": "2018-11-18T00:00:00",
          "median": 7.541364667652307e-05
         },
         {
          "NAAM_N2K": "Waddenzee",
          "date": "2018-11-18T00:00:00",
          "median": 6.889022698301604e-05
         },
         {
          "NAAM_N2K": "Rijntakken",
          "date": "2018-11-18T00:00:00",
          "median": 7.881512966336018e-05
         },
         {
          "NAAM_N2K": "Weerribben",
          "date": "2018-11-18T00:00:00",
          "median": 7.301805663614106e-05
         },
         {
          "NAAM_N2K": "Oosterschelde",
          "date": "2018-11-18T00:00:00",
          "median": 9.646533662806725e-05
         },
         {
          "NAAM_N2K": "Veluwe",
          "date": "2018-11-20T00:00:00",
          "median": 8.190263953384736e-05
         },
         {
          "NAAM_N2K": "Biesbosch",
          "date": "2018-11-20T00:00:00",
          "median": 8.866528301455375e-05
         },
         {
          "NAAM_N2K": "Waddenzee",
          "date": "2018-11-20T00:00:00",
          "median": 8.280261033021246e-05
         },
         {
          "NAAM_N2K": "Rijntakken",
          "date": "2018-11-20T00:00:00",
          "median": 7.98441314592886e-05
         },
         {
          "NAAM_N2K": "Weerribben",
          "date": "2018-11-20T00:00:00",
          "median": 9.261160278808685e-05
         },
         {
          "NAAM_N2K": "Oosterschelde",
          "date": "2018-11-20T00:00:00",
          "median": 8.820561111593509e-05
         },
         {
          "NAAM_N2K": "Veluwe",
          "date": "2018-11-22T00:00:00",
          "median": 0.00013535375067441675
         },
         {
          "NAAM_N2K": "Biesbosch",
          "date": "2018-11-22T00:00:00",
          "median": 0.00016282733760902165
         },
         {
          "NAAM_N2K": "Waddenzee",
          "date": "2018-11-22T00:00:00",
          "median": 0.00011469720550774591
         },
         {
          "NAAM_N2K": "Rijntakken",
          "date": "2018-11-22T00:00:00",
          "median": 0.00014312040454925466
         },
         {
          "NAAM_N2K": "Weerribben",
          "date": "2018-11-22T00:00:00",
          "median": 0.00011537734823695397
         },
         {
          "NAAM_N2K": "Oosterschelde",
          "date": "2018-11-22T00:00:00",
          "median": 0.00013151373384135968
         },
         {
          "NAAM_N2K": "Veluwe",
          "date": "2018-11-24T00:00:00",
          "median": 0.0003304167775726993
         },
         {
          "NAAM_N2K": "Biesbosch",
          "date": "2018-11-24T00:00:00",
          "median": 0.00039434092235019364
         },
         {
          "NAAM_N2K": "Waddenzee",
          "date": "2018-11-24T00:00:00",
          "median": 6.534164796679639e-05
         },
         {
          "NAAM_N2K": "Rijntakken",
          "date": "2018-11-24T00:00:00",
          "median": 0.00035123624458789757
         },
         {
          "NAAM_N2K": "Weerribben",
          "date": "2018-11-24T00:00:00",
          "median": 0.00013625006180513065
         },
         {
          "NAAM_N2K": "Oosterschelde",
          "date": "2018-11-24T00:00:00",
          "median": 0.00036675369350448647
         },
         {
          "NAAM_N2K": "Veluwe",
          "date": "2018-11-26T00:00:00",
          "median": 0.00018194365144728365
         },
         {
          "NAAM_N2K": "Biesbosch",
          "date": "2018-11-26T00:00:00",
          "median": 0.0001976282403316749
         },
         {
          "NAAM_N2K": "Waddenzee",
          "date": "2018-11-26T00:00:00",
          "median": 8.491150761101178e-05
         },
         {
          "NAAM_N2K": "Rijntakken",
          "date": "2018-11-26T00:00:00",
          "median": 0.00021018299460072036
         },
         {
          "NAAM_N2K": "Weerribben",
          "date": "2018-11-26T00:00:00",
          "median": 8.260387461731447e-05
         },
         {
          "NAAM_N2K": "Oosterschelde",
          "date": "2018-11-26T00:00:00",
          "median": 0.00023949142192569473
         },
         {
          "NAAM_N2K": "Veluwe",
          "date": "2018-11-28T00:00:00",
          "median": 0.0002659110888159035
         },
         {
          "NAAM_N2K": "Biesbosch",
          "date": "2018-11-28T00:00:00",
          "median": 0.000253020699578651
         },
         {
          "NAAM_N2K": "Waddenzee",
          "date": "2018-11-28T00:00:00",
          "median": 0.00030046127390926904
         },
         {
          "NAAM_N2K": "Rijntakken",
          "date": "2018-11-28T00:00:00",
          "median": 0.00023856084144924055
         },
         {
          "NAAM_N2K": "Weerribben",
          "date": "2018-11-28T00:00:00",
          "median": 0.00025705107160692265
         },
         {
          "NAAM_N2K": "Oosterschelde",
          "date": "2018-11-28T00:00:00",
          "median": 0.0003087491063659064
         },
         {
          "NAAM_N2K": "Veluwe",
          "date": "2018-11-30T00:00:00",
          "median": 0.00010114971103694618
         },
         {
          "NAAM_N2K": "Biesbosch",
          "date": "2018-11-30T00:00:00",
          "median": 0.00011329825112776887
         },
         {
          "NAAM_N2K": "Waddenzee",
          "date": "2018-11-30T00:00:00",
          "median": 0.0001571882718243382
         },
         {
          "NAAM_N2K": "Rijntakken",
          "date": "2018-11-30T00:00:00",
          "median": 9.335730353089063e-05
         },
         {
          "NAAM_N2K": "Weerribben",
          "date": "2018-11-30T00:00:00",
          "median": 0.00011610229234210054
         },
         {
          "NAAM_N2K": "Oosterschelde",
          "date": "2018-11-30T00:00:00",
          "median": 0.00010017943911610058
         },
         {
          "NAAM_N2K": "Veluwe",
          "date": "2018-12-02T00:00:00",
          "median": 0.000128300068907896
         },
         {
          "NAAM_N2K": "Biesbosch",
          "date": "2018-12-02T00:00:00",
          "median": 9.738080446876627e-05
         },
         {
          "NAAM_N2K": "Waddenzee",
          "date": "2018-12-02T00:00:00",
          "median": 0.00014014479882061827
         },
         {
          "NAAM_N2K": "Rijntakken",
          "date": "2018-12-02T00:00:00",
          "median": 0.0001516336143034076
         },
         {
          "NAAM_N2K": "Weerribben",
          "date": "2018-12-02T00:00:00",
          "median": 0.00012884151821467303
         },
         {
          "NAAM_N2K": "Oosterschelde",
          "date": "2018-12-02T00:00:00",
          "median": 0.00010723335386932277
         },
         {
          "NAAM_N2K": "Veluwe",
          "date": "2018-12-04T00:00:00",
          "median": 0.00018507538884833378
         },
         {
          "NAAM_N2K": "Biesbosch",
          "date": "2018-12-04T00:00:00",
          "median": 0.0002689973673330506
         },
         {
          "NAAM_N2K": "Waddenzee",
          "date": "2018-12-04T00:00:00",
          "median": 0.00014523030277824688
         },
         {
          "NAAM_N2K": "Rijntakken",
          "date": "2018-12-04T00:00:00",
          "median": 0.00020355882154716258
         },
         {
          "NAAM_N2K": "Weerribben",
          "date": "2018-12-04T00:00:00",
          "median": 0.00013724132080039148
         },
         {
          "NAAM_N2K": "Oosterschelde",
          "date": "2018-12-04T00:00:00",
          "median": 0.00022255116190249887
         },
         {
          "NAAM_N2K": "Veluwe",
          "date": "2018-12-06T00:00:00",
          "median": 0.00028903848924371946
         },
         {
          "NAAM_N2K": "Biesbosch",
          "date": "2018-12-06T00:00:00",
          "median": 0.0002816269850165864
         },
         {
          "NAAM_N2K": "Waddenzee",
          "date": "2018-12-06T00:00:00",
          "median": 0.00021517915138841254
         },
         {
          "NAAM_N2K": "Rijntakken",
          "date": "2018-12-06T00:00:00",
          "median": 0.00026881310191749123
         },
         {
          "NAAM_N2K": "Weerribben",
          "date": "2018-12-06T00:00:00",
          "median": 0.0003808929969735908
         },
         {
          "NAAM_N2K": "Oosterschelde",
          "date": "2018-12-06T00:00:00",
          "median": 0.0003134766035327147
         },
         {
          "NAAM_N2K": "Veluwe",
          "date": "2018-12-08T00:00:00",
          "median": 7.210045218721643e-05
         },
         {
          "NAAM_N2K": "Biesbosch",
          "date": "2018-12-08T00:00:00",
          "median": 6.912943952483684e-05
         },
         {
          "NAAM_N2K": "Waddenzee",
          "date": "2018-12-08T00:00:00",
          "median": 5.270897439961748e-05
         },
         {
          "NAAM_N2K": "Rijntakken",
          "date": "2018-12-08T00:00:00",
          "median": 7.13492510796728e-05
         },
         {
          "NAAM_N2K": "Weerribben",
          "date": "2018-12-08T00:00:00",
          "median": 5.585036482333394e-05
         },
         {
          "NAAM_N2K": "Oosterschelde",
          "date": "2018-12-08T00:00:00",
          "median": 6.989157562538998e-05
         },
         {
          "NAAM_N2K": "Veluwe",
          "date": "2018-12-10T00:00:00",
          "median": 6.42337650014396e-05
         },
         {
          "NAAM_N2K": "Biesbosch",
          "date": "2018-12-10T00:00:00",
          "median": 0.00012377665239265737
         },
         {
          "NAAM_N2K": "Waddenzee",
          "date": "2018-12-10T00:00:00",
          "median": 4.2015946019612876e-05
         },
         {
          "NAAM_N2K": "Rijntakken",
          "date": "2018-12-10T00:00:00",
          "median": 9.132332522688423e-05
         },
         {
          "NAAM_N2K": "Weerribben",
          "date": "2018-12-10T00:00:00",
          "median": 4.91321654666204e-05
         },
         {
          "NAAM_N2K": "Oosterschelde",
          "date": "2018-12-10T00:00:00",
          "median": 9.520034767319477e-05
         },
         {
          "NAAM_N2K": "Veluwe",
          "date": "2018-12-12T00:00:00",
          "median": 9.667646581294314e-05
         },
         {
          "NAAM_N2K": "Biesbosch",
          "date": "2018-12-12T00:00:00",
          "median": 0.0001538326127505297
         },
         {
          "NAAM_N2K": "Waddenzee",
          "date": "2018-12-12T00:00:00",
          "median": 8.439163623556853e-05
         },
         {
          "NAAM_N2K": "Rijntakken",
          "date": "2018-12-12T00:00:00",
          "median": 0.00011575070176160081
         },
         {
          "NAAM_N2K": "Weerribben",
          "date": "2018-12-12T00:00:00",
          "median": 7.909000175181563e-05
         },
         {
          "NAAM_N2K": "Oosterschelde",
          "date": "2018-12-12T00:00:00",
          "median": 0.0001794518993127638
         },
         {
          "NAAM_N2K": "Veluwe",
          "date": "2018-12-14T00:00:00",
          "median": 0.00015228617916574318
         },
         {
          "NAAM_N2K": "Biesbosch",
          "date": "2018-12-14T00:00:00",
          "median": 0.00019493241677883772
         },
         {
          "NAAM_N2K": "Waddenzee",
          "date": "2018-12-14T00:00:00",
          "median": 7.902331165612714e-05
         },
         {
          "NAAM_N2K": "Rijntakken",
          "date": "2018-12-14T00:00:00",
          "median": 0.00015228617916574318
         },
         {
          "NAAM_N2K": "Weerribben",
          "date": "2018-12-14T00:00:00",
          "median": 0.00011493708328264929
         },
         {
          "NAAM_N2K": "Oosterschelde",
          "date": "2018-12-14T00:00:00",
          "median": 0.00021282404781452596
         },
         {
          "NAAM_N2K": "Veluwe",
          "date": "2018-12-16T00:00:00",
          "median": 0.00021919842370075166
         },
         {
          "NAAM_N2K": "Biesbosch",
          "date": "2018-12-16T00:00:00",
          "median": 9.657582582028832e-05
         },
         {
          "NAAM_N2K": "Waddenzee",
          "date": "2018-12-16T00:00:00",
          "median": 0.0002634971683164348
         },
         {
          "NAAM_N2K": "Rijntakken",
          "date": "2018-12-16T00:00:00",
          "median": 0.00016027744181154114
         },
         {
          "NAAM_N2K": "Weerribben",
          "date": "2018-12-16T00:00:00",
          "median": 0.0002305630410903044
         },
         {
          "NAAM_N2K": "Oosterschelde",
          "date": "2018-12-16T00:00:00",
          "median": 7.426526560149004e-05
         },
         {
          "NAAM_N2K": "Veluwe",
          "date": "2018-12-18T00:00:00",
          "median": 9.616476416181035e-05
         },
         {
          "NAAM_N2K": "Biesbosch",
          "date": "2018-12-18T00:00:00",
          "median": 9.702249171194484e-05
         },
         {
          "NAAM_N2K": "Waddenzee",
          "date": "2018-12-18T00:00:00",
          "median": 0.00017758716403610858
         },
         {
          "NAAM_N2K": "Rijntakken",
          "date": "2018-12-18T00:00:00",
          "median": 8.492737079697912e-05
         },
         {
          "NAAM_N2K": "Weerribben",
          "date": "2018-12-18T00:00:00",
          "median": 0.00010754587138085933
         },
         {
          "NAAM_N2K": "Oosterschelde",
          "date": "2018-12-18T00:00:00",
          "median": 9.181088578726144e-05
         },
         {
          "NAAM_N2K": "Veluwe",
          "date": "2018-12-20T00:00:00",
          "median": 0.00016620430758247385
         },
         {
          "NAAM_N2K": "Biesbosch",
          "date": "2018-12-20T00:00:00",
          "median": 9.993436920238514e-05
         },
         {
          "NAAM_N2K": "Waddenzee",
          "date": "2018-12-20T00:00:00",
          "median": 0.00017682384369702728
         },
         {
          "NAAM_N2K": "Rijntakken",
          "date": "2018-12-20T00:00:00",
          "median": 0.00012005633109211482
         },
         {
          "NAAM_N2K": "Weerribben",
          "date": "2018-12-20T00:00:00",
          "median": 0.0001811213090781667
         },
         {
          "NAAM_N2K": "Oosterschelde",
          "date": "2018-12-20T00:00:00",
          "median": 0.00010119299070889787
         },
         {
          "NAAM_N2K": "Veluwe",
          "date": "2018-12-22T00:00:00",
          "median": 7.218357465503566e-05
         },
         {
          "NAAM_N2K": "Biesbosch",
          "date": "2018-12-22T00:00:00",
          "median": 2.7288477544193114e-05
         },
         {
          "NAAM_N2K": "Waddenzee",
          "date": "2018-12-22T00:00:00",
          "median": 5.265360150107294e-05
         },
         {
          "NAAM_N2K": "Rijntakken",
          "date": "2018-12-22T00:00:00",
          "median": 5.178573796338156e-05
         },
         {
          "NAAM_N2K": "Weerribben",
          "date": "2018-12-22T00:00:00",
          "median": 2.3308724813187342e-05
         },
         {
          "NAAM_N2K": "Oosterschelde",
          "date": "2018-12-22T00:00:00",
          "median": 4.364662766131681e-05
         },
         {
          "NAAM_N2K": "Veluwe",
          "date": "2018-12-24T00:00:00",
          "median": 4.4742255053629454e-05
         },
         {
          "NAAM_N2K": "Biesbosch",
          "date": "2018-12-24T00:00:00",
          "median": 7.822086844073052e-05
         },
         {
          "NAAM_N2K": "Waddenzee",
          "date": "2018-12-24T00:00:00",
          "median": 6.6442039518667674e-06
         },
         {
          "NAAM_N2K": "Rijntakken",
          "date": "2018-12-24T00:00:00",
          "median": 4.699172676141261e-05
         },
         {
          "NAAM_N2K": "Weerribben",
          "date": "2018-12-24T00:00:00",
          "median": 2.7941732759939357e-05
         },
         {
          "NAAM_N2K": "Oosterschelde",
          "date": "2018-12-24T00:00:00",
          "median": 5.2707490668720954e-05
         },
         {
          "NAAM_N2K": "Veluwe",
          "date": "2018-12-26T00:00:00",
          "median": 0
         },
         {
          "NAAM_N2K": "Biesbosch",
          "date": "2018-12-26T00:00:00",
          "median": 0
         },
         {
          "NAAM_N2K": "Waddenzee",
          "date": "2018-12-26T00:00:00",
          "median": 0
         },
         {
          "NAAM_N2K": "Rijntakken",
          "date": "2018-12-26T00:00:00",
          "median": 0
         },
         {
          "NAAM_N2K": "Weerribben",
          "date": "2018-12-26T00:00:00",
          "median": 0
         },
         {
          "NAAM_N2K": "Oosterschelde",
          "date": "2018-12-26T00:00:00",
          "median": 0
         },
         {
          "NAAM_N2K": "Veluwe",
          "date": "2018-12-28T00:00:00",
          "median": 0.0002899434777515989
         },
         {
          "NAAM_N2K": "Biesbosch",
          "date": "2018-12-28T00:00:00",
          "median": 0.00024016589860833518
         },
         {
          "NAAM_N2K": "Waddenzee",
          "date": "2018-12-28T00:00:00",
          "median": 3.7917023735224896e-05
         },
         {
          "NAAM_N2K": "Rijntakken",
          "date": "2018-12-28T00:00:00",
          "median": 0.0002209053989027055
         },
         {
          "NAAM_N2K": "Weerribben",
          "date": "2018-12-28T00:00:00",
          "median": 7.704994415244363e-05
         },
         {
          "NAAM_N2K": "Oosterschelde",
          "date": "2018-12-28T00:00:00",
          "median": 0.00018370302054796482
         },
         {
          "NAAM_N2K": "Veluwe",
          "date": "2018-12-30T00:00:00",
          "median": 0.00010525468663628114
         },
         {
          "NAAM_N2K": "Biesbosch",
          "date": "2018-12-30T00:00:00",
          "median": 0.00014113083423835307
         },
         {
          "NAAM_N2K": "Waddenzee",
          "date": "2018-12-30T00:00:00",
          "median": 5.2130750827918635e-05
         },
         {
          "NAAM_N2K": "Rijntakken",
          "date": "2018-12-30T00:00:00",
          "median": 0.00015619645879636523
         },
         {
          "NAAM_N2K": "Weerribben",
          "date": "2018-12-30T00:00:00",
          "median": 9.679233598937969e-05
         },
         {
          "NAAM_N2K": "Oosterschelde",
          "date": "2018-12-30T00:00:00",
          "median": 0.00012520224466499167
         },
         {
          "NAAM_N2K": "Veluwe",
          "date": "2019-01-01T00:00:00",
          "median": 3.724403353134974e-05
         },
         {
          "NAAM_N2K": "Biesbosch",
          "date": "2019-01-01T00:00:00",
          "median": 6.643430652479872e-05
         },
         {
          "NAAM_N2K": "Waddenzee",
          "date": "2019-01-01T00:00:00",
          "median": 2.6070347072128103e-05
         },
         {
          "NAAM_N2K": "Rijntakken",
          "date": "2019-01-01T00:00:00",
          "median": 5.763388446476908e-05
         },
         {
          "NAAM_N2K": "Weerribben",
          "date": "2019-01-01T00:00:00",
          "median": 3.2057140174241404e-05
         },
         {
          "NAAM_N2K": "Oosterschelde",
          "date": "2019-01-01T00:00:00",
          "median": 6.991105291228732e-05
         },
         {
          "NAAM_N2K": "Veluwe",
          "date": "2019-01-03T00:00:00",
          "median": 2.470684057874994e-05
         },
         {
          "NAAM_N2K": "Biesbosch",
          "date": "2019-01-03T00:00:00",
          "median": 0.0001669511238932343
         },
         {
          "NAAM_N2K": "Waddenzee",
          "date": "2019-01-03T00:00:00",
          "median": 2.311793514916505e-05
         },
         {
          "NAAM_N2K": "Rijntakken",
          "date": "2019-01-03T00:00:00",
          "median": 0.0001296561894435412
         },
         {
          "NAAM_N2K": "Weerribben",
          "date": "2019-01-03T00:00:00",
          "median": 3.7754088789211936e-05
         },
         {
          "NAAM_N2K": "Oosterschelde",
          "date": "2019-01-03T00:00:00",
          "median": 7.573889974070035e-05
         },
         {
          "NAAM_N2K": "Veluwe",
          "date": "2019-01-05T00:00:00",
          "median": 2.0550582475444537e-05
         },
         {
          "NAAM_N2K": "Biesbosch",
          "date": "2019-01-05T00:00:00",
          "median": 4.059129280713242e-05
         },
         {
          "NAAM_N2K": "Waddenzee",
          "date": "2019-01-05T00:00:00",
          "median": 1.2957831122195709e-05
         },
         {
          "NAAM_N2K": "Rijntakken",
          "date": "2019-01-05T00:00:00",
          "median": 2.8725108246667096e-05
         },
         {
          "NAAM_N2K": "Weerribben",
          "date": "2019-01-05T00:00:00",
          "median": 1.656450350828041e-05
         },
         {
          "NAAM_N2K": "Oosterschelde",
          "date": "2019-01-05T00:00:00",
          "median": 2.577100548934688e-05
         },
         {
          "NAAM_N2K": "Veluwe",
          "date": "2019-01-07T00:00:00",
          "median": 0.00020704511471612247
         },
         {
          "NAAM_N2K": "Biesbosch",
          "date": "2019-01-07T00:00:00",
          "median": 4.47910179384227e-05
         },
         {
          "NAAM_N2K": "Waddenzee",
          "date": "2019-01-07T00:00:00",
          "median": 0
         },
         {
          "NAAM_N2K": "Rijntakken",
          "date": "2019-01-07T00:00:00",
          "median": 8.218944469158218e-06
         },
         {
          "NAAM_N2K": "Weerribben",
          "date": "2019-01-07T00:00:00",
          "median": 7.623672041862716e-05
         },
         {
          "NAAM_N2K": "Oosterschelde",
          "date": "2019-01-07T00:00:00",
          "median": 0
         },
         {
          "NAAM_N2K": "Veluwe",
          "date": "2019-01-09T00:00:00",
          "median": 0
         },
         {
          "NAAM_N2K": "Biesbosch",
          "date": "2019-01-09T00:00:00",
          "median": 0
         },
         {
          "NAAM_N2K": "Waddenzee",
          "date": "2019-01-09T00:00:00",
          "median": 0
         },
         {
          "NAAM_N2K": "Rijntakken",
          "date": "2019-01-09T00:00:00",
          "median": 0
         },
         {
          "NAAM_N2K": "Weerribben",
          "date": "2019-01-09T00:00:00",
          "median": 0
         },
         {
          "NAAM_N2K": "Oosterschelde",
          "date": "2019-01-09T00:00:00",
          "median": 0
         },
         {
          "NAAM_N2K": "Veluwe",
          "date": "2019-01-11T00:00:00",
          "median": 5.042221301072383e-05
         },
         {
          "NAAM_N2K": "Biesbosch",
          "date": "2019-01-11T00:00:00",
          "median": 5.3724453802673535e-05
         },
         {
          "NAAM_N2K": "Waddenzee",
          "date": "2019-01-11T00:00:00",
          "median": 5.364320790640633e-06
         },
         {
          "NAAM_N2K": "Rijntakken",
          "date": "2019-01-11T00:00:00",
          "median": 9.178534949903173e-05
         },
         {
          "NAAM_N2K": "Weerribben",
          "date": "2019-01-11T00:00:00",
          "median": 1.1330137195025228e-05
         },
         {
          "NAAM_N2K": "Oosterschelde",
          "date": "2019-01-11T00:00:00",
          "median": 1.7211000504624298e-05
         },
         {
          "NAAM_N2K": "Veluwe",
          "date": "2019-01-13T00:00:00",
          "median": 8.500412844758978e-05
         },
         {
          "NAAM_N2K": "Biesbosch",
          "date": "2019-01-13T00:00:00",
          "median": 7.818465976991335e-05
         },
         {
          "NAAM_N2K": "Waddenzee",
          "date": "2019-01-13T00:00:00",
          "median": 1.745093395434176e-05
         },
         {
          "NAAM_N2K": "Rijntakken",
          "date": "2019-01-13T00:00:00",
          "median": 9.716233544794238e-05
         },
         {
          "NAAM_N2K": "Weerribben",
          "date": "2019-01-13T00:00:00",
          "median": 2.6871356979518483e-05
         },
         {
          "NAAM_N2K": "Oosterschelde",
          "date": "2019-01-13T00:00:00",
          "median": 3.367926989712166e-05
         },
         {
          "NAAM_N2K": "Veluwe",
          "date": "2019-01-15T00:00:00",
          "median": 0.00021972202611786443
         },
         {
          "NAAM_N2K": "Biesbosch",
          "date": "2019-01-15T00:00:00",
          "median": 0.00015709677952151745
         },
         {
          "NAAM_N2K": "Waddenzee",
          "date": "2019-01-15T00:00:00",
          "median": 0.000209776799635635
         },
         {
          "NAAM_N2K": "Rijntakken",
          "date": "2019-01-15T00:00:00",
          "median": 0.00018956226603141825
         },
         {
          "NAAM_N2K": "Weerribben",
          "date": "2019-01-15T00:00:00",
          "median": 0.0001567278905921706
         },
         {
          "NAAM_N2K": "Oosterschelde",
          "date": "2019-01-15T00:00:00",
          "median": 0.00013535270187011968
         },
         {
          "NAAM_N2K": "Veluwe",
          "date": "2019-01-17T00:00:00",
          "median": 9.435703771314702e-05
         },
         {
          "NAAM_N2K": "Biesbosch",
          "date": "2019-01-17T00:00:00",
          "median": 5.955900646131243e-05
         },
         {
          "NAAM_N2K": "Waddenzee",
          "date": "2019-01-17T00:00:00",
          "median": 3.977261474357394e-05
         },
         {
          "NAAM_N2K": "Rijntakken",
          "date": "2019-01-17T00:00:00",
          "median": 9.172894363957892e-05
         },
         {
          "NAAM_N2K": "Weerribben",
          "date": "2019-01-17T00:00:00",
          "median": 6.69709302843268e-05
         },
         {
          "NAAM_N2K": "Oosterschelde",
          "date": "2019-01-17T00:00:00",
          "median": 4.8792676301219084e-05
         },
         {
          "NAAM_N2K": "Veluwe",
          "date": "2019-01-19T00:00:00",
          "median": 0.00011616406206006169
         },
         {
          "NAAM_N2K": "Biesbosch",
          "date": "2019-01-19T00:00:00",
          "median": 0.00014173459516316592
         },
         {
          "NAAM_N2K": "Waddenzee",
          "date": "2019-01-19T00:00:00",
          "median": 9.728031899304922e-05
         },
         {
          "NAAM_N2K": "Rijntakken",
          "date": "2019-01-19T00:00:00",
          "median": 0.00013259443257995388
         },
         {
          "NAAM_N2K": "Weerribben",
          "date": "2019-01-19T00:00:00",
          "median": 9.920069370810328e-05
         },
         {
          "NAAM_N2K": "Oosterschelde",
          "date": "2019-01-19T00:00:00",
          "median": 0.00015899742595847975
         },
         {
          "NAAM_N2K": "Veluwe",
          "date": "2019-01-21T00:00:00",
          "median": 0.00024800995271257646
         },
         {
          "NAAM_N2K": "Biesbosch",
          "date": "2019-01-21T00:00:00",
          "median": 0.00046212722628730964
         },
         {
          "NAAM_N2K": "Waddenzee",
          "date": "2019-01-21T00:00:00",
          "median": 8.180870049395281e-05
         },
         {
          "NAAM_N2K": "Rijntakken",
          "date": "2019-01-21T00:00:00",
          "median": 0.00023400325145888368
         },
         {
          "NAAM_N2K": "Weerribben",
          "date": "2019-01-21T00:00:00",
          "median": 0.00016684184177743756
         },
         {
          "NAAM_N2K": "Oosterschelde",
          "date": "2019-01-21T00:00:00",
          "median": 0.00034345226783835735
         },
         {
          "NAAM_N2K": "Veluwe",
          "date": "2019-01-23T00:00:00",
          "median": 0.00019045747865385692
         },
         {
          "NAAM_N2K": "Biesbosch",
          "date": "2019-01-23T00:00:00",
          "median": 0.0001658043827395199
         },
         {
          "NAAM_N2K": "Waddenzee",
          "date": "2019-01-23T00:00:00",
          "median": 0.00013108375805657893
         },
         {
          "NAAM_N2K": "Rijntakken",
          "date": "2019-01-23T00:00:00",
          "median": 0.00025285014584309524
         },
         {
          "NAAM_N2K": "Weerribben",
          "date": "2019-01-23T00:00:00",
          "median": 0.0001919599600248976
         },
         {
          "NAAM_N2K": "Oosterschelde",
          "date": "2019-01-23T00:00:00",
          "median": 0.00025005562683164074
         },
         {
          "NAAM_N2K": "Veluwe",
          "date": "2019-01-25T00:00:00",
          "median": 0.00028115086149105707
         },
         {
          "NAAM_N2K": "Biesbosch",
          "date": "2019-01-25T00:00:00",
          "median": 5.744117666115463e-05
         },
         {
          "NAAM_N2K": "Waddenzee",
          "date": "2019-01-25T00:00:00",
          "median": 5.3769622998268594e-05
         },
         {
          "NAAM_N2K": "Rijntakken",
          "date": "2019-01-25T00:00:00",
          "median": 0.0001735626213801257
         },
         {
          "NAAM_N2K": "Weerribben",
          "date": "2019-01-25T00:00:00",
          "median": 0.0006956647197482565
         },
         {
          "NAAM_N2K": "Oosterschelde",
          "date": "2019-01-25T00:00:00",
          "median": 0.00011442446453529872
         },
         {
          "NAAM_N2K": "Veluwe",
          "date": "2019-01-27T00:00:00",
          "median": 0.0001323567433644091
         },
         {
          "NAAM_N2K": "Biesbosch",
          "date": "2019-01-27T00:00:00",
          "median": 6.79138001535997e-05
         },
         {
          "NAAM_N2K": "Waddenzee",
          "date": "2019-01-27T00:00:00",
          "median": 0.0001593065417991192
         },
         {
          "NAAM_N2K": "Rijntakken",
          "date": "2019-01-27T00:00:00",
          "median": 0.0001412720865144329
         },
         {
          "NAAM_N2K": "Weerribben",
          "date": "2019-01-27T00:00:00",
          "median": 0.0001068531033352872
         },
         {
          "NAAM_N2K": "Oosterschelde",
          "date": "2019-01-27T00:00:00",
          "median": 4.181977721545027e-05
         },
         {
          "NAAM_N2K": "Veluwe",
          "date": "2019-01-29T00:00:00",
          "median": 0.00017516704963963067
         },
         {
          "NAAM_N2K": "Biesbosch",
          "date": "2019-01-29T00:00:00",
          "median": 0.00041933403977455967
         },
         {
          "NAAM_N2K": "Waddenzee",
          "date": "2019-01-29T00:00:00",
          "median": 0.0001786138951512987
         },
         {
          "NAAM_N2K": "Rijntakken",
          "date": "2019-01-29T00:00:00",
          "median": 0.0002088272822211341
         },
         {
          "NAAM_N2K": "Weerribben",
          "date": "2019-01-29T00:00:00",
          "median": 0.00020916945828804577
         },
         {
          "NAAM_N2K": "Oosterschelde",
          "date": "2019-01-29T00:00:00",
          "median": 0.0003244929249360761
         },
         {
          "NAAM_N2K": "Veluwe",
          "date": "2019-01-31T00:00:00",
          "median": 0.0001239363839115883
         },
         {
          "NAAM_N2K": "Biesbosch",
          "date": "2019-01-31T00:00:00",
          "median": 0.00013881027322690769
         },
         {
          "NAAM_N2K": "Waddenzee",
          "date": "2019-01-31T00:00:00",
          "median": 0.00017989268762668567
         },
         {
          "NAAM_N2K": "Rijntakken",
          "date": "2019-01-31T00:00:00",
          "median": 0.00012135239467828311
         },
         {
          "NAAM_N2K": "Weerribben",
          "date": "2019-01-31T00:00:00",
          "median": 0.00011598058468169935
         },
         {
          "NAAM_N2K": "Oosterschelde",
          "date": "2019-01-31T00:00:00",
          "median": 0.00010126371830745953
         },
         {
          "NAAM_N2K": "Veluwe",
          "date": "2019-02-02T00:00:00",
          "median": 0.00012598839000951066
         },
         {
          "NAAM_N2K": "Biesbosch",
          "date": "2019-02-02T00:00:00",
          "median": 0.00016708207275503733
         },
         {
          "NAAM_N2K": "Waddenzee",
          "date": "2019-02-02T00:00:00",
          "median": 0.00011440919344689564
         },
         {
          "NAAM_N2K": "Rijntakken",
          "date": "2019-02-02T00:00:00",
          "median": 0.0001170803797188598
         },
         {
          "NAAM_N2K": "Weerribben",
          "date": "2019-02-02T00:00:00",
          "median": 0.0001153620121473206
         },
         {
          "NAAM_N2K": "Oosterschelde",
          "date": "2019-02-02T00:00:00",
          "median": 0.00012624446305020787
         },
         {
          "NAAM_N2K": "Veluwe",
          "date": "2019-02-04T00:00:00",
          "median": 0.00013120799994359198
         },
         {
          "NAAM_N2K": "Biesbosch",
          "date": "2019-02-04T00:00:00",
          "median": 8.773059082233805e-05
         },
         {
          "NAAM_N2K": "Waddenzee",
          "date": "2019-02-04T00:00:00",
          "median": 0.0001471001826022262
         },
         {
          "NAAM_N2K": "Rijntakken",
          "date": "2019-02-04T00:00:00",
          "median": 0.00013276984413628353
         },
         {
          "NAAM_N2K": "Weerribben",
          "date": "2019-02-04T00:00:00",
          "median": 0.00017179216233381993
         },
         {
          "NAAM_N2K": "Oosterschelde",
          "date": "2019-02-04T00:00:00",
          "median": 9.98171778557933e-05
         },
         {
          "NAAM_N2K": "Veluwe",
          "date": "2019-02-06T00:00:00",
          "median": 0.0002554879075875306
         },
         {
          "NAAM_N2K": "Biesbosch",
          "date": "2019-02-06T00:00:00",
          "median": 0.00024834798998224847
         },
         {
          "NAAM_N2K": "Waddenzee",
          "date": "2019-02-06T00:00:00",
          "median": 0.0003335591582579734
         },
         {
          "NAAM_N2K": "Rijntakken",
          "date": "2019-02-06T00:00:00",
          "median": 0.0002241214812011792
         },
         {
          "NAAM_N2K": "Weerribben",
          "date": "2019-02-06T00:00:00",
          "median": 0.0003299985280093131
         },
         {
          "NAAM_N2K": "Oosterschelde",
          "date": "2019-02-06T00:00:00",
          "median": 0.0002647793113399938
         },
         {
          "NAAM_N2K": "Veluwe",
          "date": "2019-02-08T00:00:00",
          "median": 0.00018757634072304988
         },
         {
          "NAAM_N2K": "Biesbosch",
          "date": "2019-02-08T00:00:00",
          "median": 0.00013686480979732397
         },
         {
          "NAAM_N2K": "Waddenzee",
          "date": "2019-02-08T00:00:00",
          "median": 5.740394305568063e-05
         },
         {
          "NAAM_N2K": "Rijntakken",
          "date": "2019-02-08T00:00:00",
          "median": 0.0001881547502986292
         },
         {
          "NAAM_N2K": "Weerribben",
          "date": "2019-02-08T00:00:00",
          "median": 0.0002198175843229402
         },
         {
          "NAAM_N2K": "Oosterschelde",
          "date": "2019-02-08T00:00:00",
          "median": 0.00013456900397923046
         },
         {
          "NAAM_N2K": "Veluwe",
          "date": "2019-02-10T00:00:00",
          "median": 5.070634277357828e-05
         },
         {
          "NAAM_N2K": "Biesbosch",
          "date": "2019-02-10T00:00:00",
          "median": 9.057569189619427e-05
         },
         {
          "NAAM_N2K": "Waddenzee",
          "date": "2019-02-10T00:00:00",
          "median": 3.368840463683553e-05
         },
         {
          "NAAM_N2K": "Rijntakken",
          "date": "2019-02-10T00:00:00",
          "median": 7.736442829788467e-05
         },
         {
          "NAAM_N2K": "Weerribben",
          "date": "2019-02-10T00:00:00",
          "median": 4.607530768788636e-05
         },
         {
          "NAAM_N2K": "Oosterschelde",
          "date": "2019-02-10T00:00:00",
          "median": 0.00022984934997972818
         },
         {
          "NAAM_N2K": "Veluwe",
          "date": "2019-02-12T00:00:00",
          "median": 0.00023356253860213632
         },
         {
          "NAAM_N2K": "Biesbosch",
          "date": "2019-02-12T00:00:00",
          "median": 0.00020353002833541886
         },
         {
          "NAAM_N2K": "Waddenzee",
          "date": "2019-02-12T00:00:00",
          "median": 0.0001525694771332394
         },
         {
          "NAAM_N2K": "Rijntakken",
          "date": "2019-02-12T00:00:00",
          "median": 0.0001866548024697692
         },
         {
          "NAAM_N2K": "Weerribben",
          "date": "2019-02-12T00:00:00",
          "median": 0.00019891575758066875
         },
         {
          "NAAM_N2K": "Oosterschelde",
          "date": "2019-02-12T00:00:00",
          "median": 0.0001606940938145883
         },
         {
          "NAAM_N2K": "Veluwe",
          "date": "2019-02-14T00:00:00",
          "median": 0.00014397504786968387
         },
         {
          "NAAM_N2K": "Biesbosch",
          "date": "2019-02-14T00:00:00",
          "median": 0.00015467673160043287
         },
         {
          "NAAM_N2K": "Waddenzee",
          "date": "2019-02-14T00:00:00",
          "median": 0.00012936465974716811
         },
         {
          "NAAM_N2K": "Rijntakken",
          "date": "2019-02-14T00:00:00",
          "median": 0.00014530705356184749
         },
         {
          "NAAM_N2K": "Weerribben",
          "date": "2019-02-14T00:00:00",
          "median": 0.00013704263560737972
         },
         {
          "NAAM_N2K": "Oosterschelde",
          "date": "2019-02-14T00:00:00",
          "median": 0.00017364109470457216
         },
         {
          "NAAM_N2K": "Veluwe",
          "date": "2019-02-16T00:00:00",
          "median": 0.00016289677496494686
         },
         {
          "NAAM_N2K": "Biesbosch",
          "date": "2019-02-16T00:00:00",
          "median": 0.0001527296352472928
         },
         {
          "NAAM_N2K": "Waddenzee",
          "date": "2019-02-16T00:00:00",
          "median": 0.00019397971902575077
         },
         {
          "NAAM_N2K": "Rijntakken",
          "date": "2019-02-16T00:00:00",
          "median": 0.00015472438891796198
         },
         {
          "NAAM_N2K": "Weerribben",
          "date": "2019-02-16T00:00:00",
          "median": 0.00015684211703266877
         },
         {
          "NAAM_N2K": "Oosterschelde",
          "date": "2019-02-16T00:00:00",
          "median": 0.00014198839874694202
         },
         {
          "NAAM_N2K": "Veluwe",
          "date": "2019-02-18T00:00:00",
          "median": 0.0001373003287388695
         },
         {
          "NAAM_N2K": "Biesbosch",
          "date": "2019-02-18T00:00:00",
          "median": 0.00020000534900607952
         },
         {
          "NAAM_N2K": "Waddenzee",
          "date": "2019-02-18T00:00:00",
          "median": 0.00010418789738385192
         },
         {
          "NAAM_N2K": "Rijntakken",
          "date": "2019-02-18T00:00:00",
          "median": 0.00012918849275970372
         },
         {
          "NAAM_N2K": "Weerribben",
          "date": "2019-02-18T00:00:00",
          "median": 0.00012787112005197658
         },
         {
          "NAAM_N2K": "Oosterschelde",
          "date": "2019-02-18T00:00:00",
          "median": 0.00017755312549654818
         },
         {
          "NAAM_N2K": "Veluwe",
          "date": "2019-02-20T00:00:00",
          "median": 0.00015068387086325345
         },
         {
          "NAAM_N2K": "Biesbosch",
          "date": "2019-02-20T00:00:00",
          "median": 0.00013654646809111153
         },
         {
          "NAAM_N2K": "Waddenzee",
          "date": "2019-02-20T00:00:00",
          "median": 9.59579626053222e-05
         },
         {
          "NAAM_N2K": "Rijntakken",
          "date": "2019-02-20T00:00:00",
          "median": 0.00015580992649847372
         },
         {
          "NAAM_N2K": "Weerribben",
          "date": "2019-02-20T00:00:00",
          "median": 9.240058431091635e-05
         },
         {
          "NAAM_N2K": "Oosterschelde",
          "date": "2019-02-20T00:00:00",
          "median": 0.00012120189735043867
         },
         {
          "NAAM_N2K": "Veluwe",
          "date": "2019-02-22T00:00:00",
          "median": 0.0001439149460881872
         },
         {
          "NAAM_N2K": "Biesbosch",
          "date": "2019-02-22T00:00:00",
          "median": 0.00012285594591470114
         },
         {
          "NAAM_N2K": "Waddenzee",
          "date": "2019-02-22T00:00:00",
          "median": 9.46727026375131e-05
         },
         {
          "NAAM_N2K": "Rijntakken",
          "date": "2019-02-22T00:00:00",
          "median": 0.00013313847472520672
         },
         {
          "NAAM_N2K": "Weerribben",
          "date": "2019-02-22T00:00:00",
          "median": 0.00011654741085268951
         },
         {
          "NAAM_N2K": "Oosterschelde",
          "date": "2019-02-22T00:00:00",
          "median": 0.00011874074572921321
         },
         {
          "NAAM_N2K": "Veluwe",
          "date": "2019-02-24T00:00:00",
          "median": 0.00014468766723525268
         },
         {
          "NAAM_N2K": "Biesbosch",
          "date": "2019-02-24T00:00:00",
          "median": 0.00012517001386719312
         },
         {
          "NAAM_N2K": "Waddenzee",
          "date": "2019-02-24T00:00:00",
          "median": 0.00012603602903828577
         },
         {
          "NAAM_N2K": "Rijntakken",
          "date": "2019-02-24T00:00:00",
          "median": 0.00014003167696866145
         },
         {
          "NAAM_N2K": "Weerribben",
          "date": "2019-02-24T00:00:00",
          "median": 0.00012244526306499375
         },
         {
          "NAAM_N2K": "Oosterschelde",
          "date": "2019-02-24T00:00:00",
          "median": 0.00019443060619560475
         },
         {
          "NAAM_N2K": "Veluwe",
          "date": "2019-02-26T00:00:00",
          "median": 0.00024285590536389067
         },
         {
          "NAAM_N2K": "Biesbosch",
          "date": "2019-02-26T00:00:00",
          "median": 0.000225108565552419
         },
         {
          "NAAM_N2K": "Waddenzee",
          "date": "2019-02-26T00:00:00",
          "median": 0.00021253506941948215
         },
         {
          "NAAM_N2K": "Rijntakken",
          "date": "2019-02-26T00:00:00",
          "median": 0.00023227109126226295
         },
         {
          "NAAM_N2K": "Weerribben",
          "date": "2019-02-26T00:00:00",
          "median": 0.00021361884145233787
         },
         {
          "NAAM_N2K": "Oosterschelde",
          "date": "2019-02-26T00:00:00",
          "median": 0.00020600679996922043
         },
         {
          "NAAM_N2K": "Veluwe",
          "date": "2019-02-28T00:00:00",
          "median": 0.00012098158683579895
         },
         {
          "NAAM_N2K": "Biesbosch",
          "date": "2019-02-28T00:00:00",
          "median": 6.408225165520725e-05
         },
         {
          "NAAM_N2K": "Waddenzee",
          "date": "2019-02-28T00:00:00",
          "median": 0.0001458400223792396
         },
         {
          "NAAM_N2K": "Rijntakken",
          "date": "2019-02-28T00:00:00",
          "median": 0.00012098158683579895
         },
         {
          "NAAM_N2K": "Weerribben",
          "date": "2019-02-28T00:00:00",
          "median": 0.00017809026416344567
         },
         {
          "NAAM_N2K": "Oosterschelde",
          "date": "2019-02-28T00:00:00",
          "median": 6.342357819462032e-05
         },
         {
          "NAAM_N2K": "Veluwe",
          "date": "2019-03-02T00:00:00",
          "median": 0.00010422198883985333
         },
         {
          "NAAM_N2K": "Biesbosch",
          "date": "2019-03-02T00:00:00",
          "median": 0.0001298593364407761
         },
         {
          "NAAM_N2K": "Waddenzee",
          "date": "2019-03-02T00:00:00",
          "median": 0.0001086928631564933
         },
         {
          "NAAM_N2K": "Rijntakken",
          "date": "2019-03-02T00:00:00",
          "median": 0.00010560824333773963
         },
         {
          "NAAM_N2K": "Weerribben",
          "date": "2019-03-02T00:00:00",
          "median": 0.00011053662293195813
         },
         {
          "NAAM_N2K": "Oosterschelde",
          "date": "2019-03-02T00:00:00",
          "median": 9.648298816792649e-05
         },
         {
          "NAAM_N2K": "Veluwe",
          "date": "2019-03-04T00:00:00",
          "median": 9.619039087983136e-05
         },
         {
          "NAAM_N2K": "Biesbosch",
          "date": "2019-03-04T00:00:00",
          "median": 9.899505435757901e-05
         },
         {
          "NAAM_N2K": "Waddenzee",
          "date": "2019-03-04T00:00:00",
          "median": 5.7319978403496965e-05
         },
         {
          "NAAM_N2K": "Rijntakken",
          "date": "2019-03-04T00:00:00",
          "median": 9.679212587000836e-05
         },
         {
          "NAAM_N2K": "Weerribben",
          "date": "2019-03-04T00:00:00",
          "median": 6.526141798013726e-05
         },
         {
          "NAAM_N2K": "Oosterschelde",
          "date": "2019-03-04T00:00:00",
          "median": 7.03910984916352e-05
         },
         {
          "NAAM_N2K": "Veluwe",
          "date": "2019-03-06T00:00:00",
          "median": 0.00020884282912541447
         },
         {
          "NAAM_N2K": "Biesbosch",
          "date": "2019-03-06T00:00:00",
          "median": 0.00029563949279063105
         },
         {
          "NAAM_N2K": "Waddenzee",
          "date": "2019-03-06T00:00:00",
          "median": 0.0001662264058351201
         },
         {
          "NAAM_N2K": "Rijntakken",
          "date": "2019-03-06T00:00:00",
          "median": 0.00017380021702218142
         },
         {
          "NAAM_N2K": "Weerribben",
          "date": "2019-03-06T00:00:00",
          "median": 0.00013536477972545056
         },
         {
          "NAAM_N2K": "Oosterschelde",
          "date": "2019-03-06T00:00:00",
          "median": 0.0001570752767170204
         },
         {
          "NAAM_N2K": "Veluwe",
          "date": "2019-03-08T00:00:00",
          "median": 0.00011166429332179216
         },
         {
          "NAAM_N2K": "Biesbosch",
          "date": "2019-03-08T00:00:00",
          "median": 9.32090840638361e-05
         },
         {
          "NAAM_N2K": "Waddenzee",
          "date": "2019-03-08T00:00:00",
          "median": 6.299525923531269e-05
         },
         {
          "NAAM_N2K": "Rijntakken",
          "date": "2019-03-08T00:00:00",
          "median": 0.00013080569616656301
         },
         {
          "NAAM_N2K": "Weerribben",
          "date": "2019-03-08T00:00:00",
          "median": 7.933141739972927e-05
         },
         {
          "NAAM_N2K": "Oosterschelde",
          "date": "2019-03-08T00:00:00",
          "median": 0.0001018652406224456
         },
         {
          "NAAM_N2K": "Veluwe",
          "date": "2019-03-10T00:00:00",
          "median": 8.012057654098863e-05
         },
         {
          "NAAM_N2K": "Biesbosch",
          "date": "2019-03-10T00:00:00",
          "median": 7.57667212704007e-05
         },
         {
          "NAAM_N2K": "Waddenzee",
          "date": "2019-03-10T00:00:00",
          "median": 0.00019376319429582979
         },
         {
          "NAAM_N2K": "Rijntakken",
          "date": "2019-03-10T00:00:00",
          "median": 8.251158506706807e-05
         },
         {
          "NAAM_N2K": "Weerribben",
          "date": "2019-03-10T00:00:00",
          "median": 0.00012168953015128652
         },
         {
          "NAAM_N2K": "Oosterschelde",
          "date": "2019-03-10T00:00:00",
          "median": 6.90156546733878e-05
         },
         {
          "NAAM_N2K": "Veluwe",
          "date": "2019-03-12T00:00:00",
          "median": 0.00020020884450129312
         },
         {
          "NAAM_N2K": "Biesbosch",
          "date": "2019-03-12T00:00:00",
          "median": 0.00016244448380986986
         },
         {
          "NAAM_N2K": "Waddenzee",
          "date": "2019-03-12T00:00:00",
          "median": 5.6342320278259883e-05
         },
         {
          "NAAM_N2K": "Rijntakken",
          "date": "2019-03-12T00:00:00",
          "median": 0.00021605852578237351
         },
         {
          "NAAM_N2K": "Weerribben",
          "date": "2019-03-12T00:00:00",
          "median": 0.00015600648433955954
         },
         {
          "NAAM_N2K": "Oosterschelde",
          "date": "2019-03-12T00:00:00",
          "median": 0.00019460154788058097
         },
         {
          "NAAM_N2K": "Veluwe",
          "date": "2019-03-14T00:00:00",
          "median": 0.0004867275206915787
         },
         {
          "NAAM_N2K": "Biesbosch",
          "date": "2019-03-14T00:00:00",
          "median": 0.00020127435628333347
         },
         {
          "NAAM_N2K": "Waddenzee",
          "date": "2019-03-14T00:00:00",
          "median": 8.194116253803425e-05
         },
         {
          "NAAM_N2K": "Rijntakken",
          "date": "2019-03-14T00:00:00",
          "median": 0.00032158885267160974
         },
         {
          "NAAM_N2K": "Weerribben",
          "date": "2019-03-14T00:00:00",
          "median": 0.00014413966418802603
         },
         {
          "NAAM_N2K": "Oosterschelde",
          "date": "2019-03-14T00:00:00",
          "median": 0.00013982016788418726
         },
         {
          "NAAM_N2K": "Veluwe",
          "date": "2019-03-16T00:00:00",
          "median": 7.546413812565262e-05
         },
         {
          "NAAM_N2K": "Biesbosch",
          "date": "2019-03-16T00:00:00",
          "median": 7.629938259642936e-05
         },
         {
          "NAAM_N2K": "Waddenzee",
          "date": "2019-03-16T00:00:00",
          "median": 5.932501080485521e-05
         },
         {
          "NAAM_N2K": "Rijntakken",
          "date": "2019-03-16T00:00:00",
          "median": 9.671536820071162e-05
         },
         {
          "NAAM_N2K": "Weerribben",
          "date": "2019-03-16T00:00:00",
          "median": 7.158064396563704e-05
         },
         {
          "NAAM_N2K": "Oosterschelde",
          "date": "2019-03-16T00:00:00",
          "median": 5.894607559193897e-05
         },
         {
          "NAAM_N2K": "Veluwe",
          "date": "2019-03-18T00:00:00",
          "median": 0.00010176051715533269
         },
         {
          "NAAM_N2K": "Biesbosch",
          "date": "2019-03-18T00:00:00",
          "median": 0.0001313643973484786
         },
         {
          "NAAM_N2K": "Waddenzee",
          "date": "2019-03-18T00:00:00",
          "median": 5.522893994289353e-05
         },
         {
          "NAAM_N2K": "Rijntakken",
          "date": "2019-03-18T00:00:00",
          "median": 9.96930995678883e-05
         },
         {
          "NAAM_N2K": "Weerribben",
          "date": "2019-03-18T00:00:00",
          "median": 6.0874142027998805e-05
         },
         {
          "NAAM_N2K": "Oosterschelde",
          "date": "2019-03-18T00:00:00",
          "median": 0.00011848584570426981
         },
         {
          "NAAM_N2K": "Veluwe",
          "date": "2019-03-20T00:00:00",
          "median": 0.00011458188326892652
         },
         {
          "NAAM_N2K": "Biesbosch",
          "date": "2019-03-20T00:00:00",
          "median": 7.567029862387319e-05
         },
         {
          "NAAM_N2K": "Waddenzee",
          "date": "2019-03-20T00:00:00",
          "median": 6.207224259446466e-05
         },
         {
          "NAAM_N2K": "Rijntakken",
          "date": "2019-03-20T00:00:00",
          "median": 0.00012132960963330781
         },
         {
          "NAAM_N2K": "Weerribben",
          "date": "2019-03-20T00:00:00",
          "median": 8.023107803350517e-05
         },
         {
          "NAAM_N2K": "Oosterschelde",
          "date": "2019-03-20T00:00:00",
          "median": 7.245245724249932e-05
         },
         {
          "NAAM_N2K": "Veluwe",
          "date": "2019-03-22T00:00:00",
          "median": 0.00015320644315156915
         },
         {
          "NAAM_N2K": "Biesbosch",
          "date": "2019-03-22T00:00:00",
          "median": 0.0001601736918340973
         },
         {
          "NAAM_N2K": "Waddenzee",
          "date": "2019-03-22T00:00:00",
          "median": 9.851742569079374e-05
         },
         {
          "NAAM_N2K": "Rijntakken",
          "date": "2019-03-22T00:00:00",
          "median": 0.0001507624866717835
         },
         {
          "NAAM_N2K": "Weerribben",
          "date": "2019-03-22T00:00:00",
          "median": 0.0001879916412055236
         },
         {
          "NAAM_N2K": "Oosterschelde",
          "date": "2019-03-22T00:00:00",
          "median": 0.00018164943324768153
         },
         {
          "NAAM_N2K": "Veluwe",
          "date": "2019-03-24T00:00:00",
          "median": 6.80891399866584e-05
         },
         {
          "NAAM_N2K": "Biesbosch",
          "date": "2019-03-24T00:00:00",
          "median": 6.84448746615845e-05
         },
         {
          "NAAM_N2K": "Waddenzee",
          "date": "2019-03-24T00:00:00",
          "median": 6.750989878902615e-05
         },
         {
          "NAAM_N2K": "Rijntakken",
          "date": "2019-03-24T00:00:00",
          "median": 6.735827493177654e-05
         },
         {
          "NAAM_N2K": "Weerribben",
          "date": "2019-03-24T00:00:00",
          "median": 6.099891891280468e-05
         },
         {
          "NAAM_N2K": "Oosterschelde",
          "date": "2019-03-24T00:00:00",
          "median": 5.986008649914864e-05
         },
         {
          "NAAM_N2K": "Veluwe",
          "date": "2019-03-26T00:00:00",
          "median": 9.350144779674533e-05
         },
         {
          "NAAM_N2K": "Biesbosch",
          "date": "2019-03-26T00:00:00",
          "median": 0.00013311631717975324
         },
         {
          "NAAM_N2K": "Waddenzee",
          "date": "2019-03-26T00:00:00",
          "median": 9.645625992900917e-05
         },
         {
          "NAAM_N2K": "Rijntakken",
          "date": "2019-03-26T00:00:00",
          "median": 0.00010605014189889457
         },
         {
          "NAAM_N2K": "Weerribben",
          "date": "2019-03-26T00:00:00",
          "median": 8.055262656185574e-05
         },
         {
          "NAAM_N2K": "Oosterschelde",
          "date": "2019-03-26T00:00:00",
          "median": 9.334579665362143e-05
         },
         {
          "NAAM_N2K": "Veluwe",
          "date": "2019-03-28T00:00:00",
          "median": 0.00014468998218279477
         },
         {
          "NAAM_N2K": "Biesbosch",
          "date": "2019-03-28T00:00:00",
          "median": 0.0002305757008130536
         },
         {
          "NAAM_N2K": "Waddenzee",
          "date": "2019-03-28T00:00:00",
          "median": 9.174125067960758e-05
         },
         {
          "NAAM_N2K": "Rijntakken",
          "date": "2019-03-28T00:00:00",
          "median": 0.00014309132548796398
         },
         {
          "NAAM_N2K": "Weerribben",
          "date": "2019-03-28T00:00:00",
          "median": 9.70910480683025e-05
         },
         {
          "NAAM_N2K": "Oosterschelde",
          "date": "2019-03-28T00:00:00",
          "median": 0.00012515915972259616
         },
         {
          "NAAM_N2K": "Veluwe",
          "date": "2019-03-30T00:00:00",
          "median": 8.849809601227302e-05
         },
         {
          "NAAM_N2K": "Biesbosch",
          "date": "2019-03-30T00:00:00",
          "median": 7.901100362513348e-05
         },
         {
          "NAAM_N2K": "Waddenzee",
          "date": "2019-03-30T00:00:00",
          "median": 6.962123338248057e-05
         },
         {
          "NAAM_N2K": "Rijntakken",
          "date": "2019-03-30T00:00:00",
          "median": 8.564249024613089e-05
         },
         {
          "NAAM_N2K": "Weerribben",
          "date": "2019-03-30T00:00:00",
          "median": 8.102863654435755e-05
         },
         {
          "NAAM_N2K": "Oosterschelde",
          "date": "2019-03-30T00:00:00",
          "median": 0.00015391317833250736
         },
         {
          "NAAM_N2K": "Veluwe",
          "date": "2019-04-01T00:00:00",
          "median": 0.00012473272541308448
         },
         {
          "NAAM_N2K": "Biesbosch",
          "date": "2019-04-01T00:00:00",
          "median": 0.0001470894962843284
         },
         {
          "NAAM_N2K": "Waddenzee",
          "date": "2019-04-01T00:00:00",
          "median": 0.00011833446912512695
         },
         {
          "NAAM_N2K": "Rijntakken",
          "date": "2019-04-01T00:00:00",
          "median": 0.000129226362721293
         },
         {
          "NAAM_N2K": "Weerribben",
          "date": "2019-04-01T00:00:00",
          "median": 0.00013795317250084581
         },
         {
          "NAAM_N2K": "Oosterschelde",
          "date": "2019-04-01T00:00:00",
          "median": 0.0001420805354320347
         },
         {
          "NAAM_N2K": "Veluwe",
          "date": "2019-04-03T00:00:00",
          "median": 0.00012125147077665679
         },
         {
          "NAAM_N2K": "Rijntakken",
          "date": "2019-04-03T00:00:00",
          "median": 0.00011859996859030633
         },
         {
          "NAAM_N2K": "Weerribben",
          "date": "2019-04-03T00:00:00",
          "median": 0.0001480564556988331
         },
         {
          "NAAM_N2K": "Oosterschelde",
          "date": "2019-04-03T00:00:00",
          "median": 0.0001953569762666554
         },
         {
          "NAAM_N2K": "Veluwe",
          "date": "2019-04-05T00:00:00",
          "median": 9.347288541904273e-05
         },
         {
          "NAAM_N2K": "Biesbosch",
          "date": "2019-04-05T00:00:00",
          "median": 0.00024272939361228652
         },
         {
          "NAAM_N2K": "Waddenzee",
          "date": "2019-04-05T00:00:00",
          "median": 8.354838552206164e-05
         },
         {
          "NAAM_N2K": "Rijntakken",
          "date": "2019-04-05T00:00:00",
          "median": 0.0001126684087492956
         },
         {
          "NAAM_N2K": "Weerribben",
          "date": "2019-04-05T00:00:00",
          "median": 7.5045537790346e-05
         },
         {
          "NAAM_N2K": "Oosterschelde",
          "date": "2019-04-05T00:00:00",
          "median": 0.00024858774488398965
         },
         {
          "NAAM_N2K": "Veluwe",
          "date": "2019-04-07T00:00:00",
          "median": 0.00010116743376689639
         },
         {
          "NAAM_N2K": "Biesbosch",
          "date": "2019-04-07T00:00:00",
          "median": 0.00010550653379910294
         },
         {
          "NAAM_N2K": "Waddenzee",
          "date": "2019-04-07T00:00:00",
          "median": 8.799934100715977e-05
         },
         {
          "NAAM_N2K": "Rijntakken",
          "date": "2019-04-07T00:00:00",
          "median": 0.0001007993507379021
         },
         {
          "NAAM_N2K": "Weerribben",
          "date": "2019-04-07T00:00:00",
          "median": 9.042471217416965e-05
         },
         {
          "NAAM_N2K": "Oosterschelde",
          "date": "2019-04-07T00:00:00",
          "median": 0.00020110910206273873
         },
         {
          "NAAM_N2K": "Veluwe",
          "date": "2019-04-09T00:00:00",
          "median": 0.00010797114447513121
         },
         {
          "NAAM_N2K": "Biesbosch",
          "date": "2019-04-09T00:00:00",
          "median": 0.00014374148146041157
         },
         {
          "NAAM_N2K": "Waddenzee",
          "date": "2019-04-09T00:00:00",
          "median": 8.25912302347411e-05
         },
         {
          "NAAM_N2K": "Rijntakken",
          "date": "2019-04-09T00:00:00",
          "median": 0.00011483546895333236
         },
         {
          "NAAM_N2K": "Weerribben",
          "date": "2019-04-09T00:00:00",
          "median": 0.00010515432575756563
         },
         {
          "NAAM_N2K": "Oosterschelde",
          "date": "2019-04-09T00:00:00",
          "median": 0.00018840868920937565
         },
         {
          "NAAM_N2K": "Veluwe",
          "date": "2019-04-11T00:00:00",
          "median": 0.00010316716806839301
         },
         {
          "NAAM_N2K": "Biesbosch",
          "date": "2019-04-11T00:00:00",
          "median": 0.0001175384891688254
         },
         {
          "NAAM_N2K": "Waddenzee",
          "date": "2019-04-11T00:00:00",
          "median": 9.768385738553607e-05
         },
         {
          "NAAM_N2K": "Rijntakken",
          "date": "2019-04-11T00:00:00",
          "median": 0.00011394416758257865
         },
         {
          "NAAM_N2K": "Weerribben",
          "date": "2019-04-11T00:00:00",
          "median": 8.766903973468274e-05
         },
         {
          "NAAM_N2K": "Oosterschelde",
          "date": "2019-04-11T00:00:00",
          "median": 0.00017021682819395726
         },
         {
          "NAAM_N2K": "Veluwe",
          "date": "2019-04-13T00:00:00",
          "median": 9.339861474456503e-05
         },
         {
          "NAAM_N2K": "Biesbosch",
          "date": "2019-04-13T00:00:00",
          "median": 9.843956354324134e-05
         },
         {
          "NAAM_N2K": "Waddenzee",
          "date": "2019-04-13T00:00:00",
          "median": 8.792186973547903e-05
         },
         {
          "NAAM_N2K": "Rijntakken",
          "date": "2019-04-13T00:00:00",
          "median": 9.339861474456503e-05
         },
         {
          "NAAM_N2K": "Weerribben",
          "date": "2019-04-13T00:00:00",
          "median": 9.18591855021981e-05
         },
         {
          "NAAM_N2K": "Oosterschelde",
          "date": "2019-04-13T00:00:00",
          "median": 0.00012717501183151565
         },
         {
          "NAAM_N2K": "Veluwe",
          "date": "2019-04-15T00:00:00",
          "median": 0.0001515933633453785
         },
         {
          "NAAM_N2K": "Biesbosch",
          "date": "2019-04-15T00:00:00",
          "median": 0.00031348470425355575
         },
         {
          "NAAM_N2K": "Waddenzee",
          "date": "2019-04-15T00:00:00",
          "median": 0.00012238144857755316
         },
         {
          "NAAM_N2K": "Rijntakken",
          "date": "2019-04-15T00:00:00",
          "median": 0.00021316987695778884
         },
         {
          "NAAM_N2K": "Weerribben",
          "date": "2019-04-15T00:00:00",
          "median": 0.0001195361455601564
         },
         {
          "NAAM_N2K": "Oosterschelde",
          "date": "2019-04-15T00:00:00",
          "median": 0.0004280490081228709
         },
         {
          "NAAM_N2K": "Veluwe",
          "date": "2019-04-17T00:00:00",
          "median": 0.00014335979897635358
         },
         {
          "NAAM_N2K": "Biesbosch",
          "date": "2019-04-17T00:00:00",
          "median": 0.00017077809155737416
         },
         {
          "NAAM_N2K": "Waddenzee",
          "date": "2019-04-17T00:00:00",
          "median": 0.00012966605571539125
         },
         {
          "NAAM_N2K": "Rijntakken",
          "date": "2019-04-17T00:00:00",
          "median": 0.00014511748958093412
         },
         {
          "NAAM_N2K": "Weerribben",
          "date": "2019-04-17T00:00:00",
          "median": 0.00014577389221323548
         },
         {
          "NAAM_N2K": "Oosterschelde",
          "date": "2019-04-17T00:00:00",
          "median": 0.00019747067628450847
         },
         {
          "NAAM_N2K": "Veluwe",
          "date": "2019-04-19T00:00:00",
          "median": 0.00012166555113889183
         },
         {
          "NAAM_N2K": "Biesbosch",
          "date": "2019-04-19T00:00:00",
          "median": 0.00014941455786026292
         },
         {
          "NAAM_N2K": "Waddenzee",
          "date": "2019-04-19T00:00:00",
          "median": 0.00010385682944735382
         },
         {
          "NAAM_N2K": "Rijntakken",
          "date": "2019-04-19T00:00:00",
          "median": 0.00012680600541000955
         },
         {
          "NAAM_N2K": "Weerribben",
          "date": "2019-04-19T00:00:00",
          "median": 0.00010936991209282968
         },
         {
          "NAAM_N2K": "Oosterschelde",
          "date": "2019-04-19T00:00:00",
          "median": 0.00016710927022043734
         },
         {
          "NAAM_N2K": "Veluwe",
          "date": "2019-04-21T00:00:00",
          "median": 9.441681014320003e-05
         },
         {
          "NAAM_N2K": "Biesbosch",
          "date": "2019-04-21T00:00:00",
          "median": 0.00011642265024889927
         },
         {
          "NAAM_N2K": "Waddenzee",
          "date": "2019-04-21T00:00:00",
          "median": 8.936823209497802e-05
         },
         {
          "NAAM_N2K": "Rijntakken",
          "date": "2019-04-21T00:00:00",
          "median": 0.00010326902487250663
         },
         {
          "NAAM_N2K": "Weerribben",
          "date": "2019-04-21T00:00:00",
          "median": 8.729081041187626e-05
         },
         {
          "NAAM_N2K": "Oosterschelde",
          "date": "2019-04-21T00:00:00",
          "median": 0.00012421399956600028
         },
         {
          "NAAM_N2K": "Veluwe",
          "date": "2019-04-23T00:00:00",
          "median": 0.00011744359297778518
         },
         {
          "NAAM_N2K": "Biesbosch",
          "date": "2019-04-23T00:00:00",
          "median": 0.00011672546548736123
         },
         {
          "NAAM_N2K": "Waddenzee",
          "date": "2019-04-23T00:00:00",
          "median": 9.822127292673345e-05
         },
         {
          "NAAM_N2K": "Rijntakken",
          "date": "2019-04-23T00:00:00",
          "median": 0.00010832694049236631
         },
         {
          "NAAM_N2K": "Weerribben",
          "date": "2019-04-23T00:00:00",
          "median": 0.0001071677050765337
         },
         {
          "NAAM_N2K": "Oosterschelde",
          "date": "2019-04-23T00:00:00",
          "median": 0.00016512642834260008
         },
         {
          "NAAM_N2K": "Veluwe",
          "date": "2019-04-25T00:00:00",
          "median": 0.0001358484320478473
         },
         {
          "NAAM_N2K": "Biesbosch",
          "date": "2019-04-25T00:00:00",
          "median": 0.00013070994351081273
         },
         {
          "NAAM_N2K": "Waddenzee",
          "date": "2019-04-25T00:00:00",
          "median": 0.0001400239783169102
         },
         {
          "NAAM_N2K": "Rijntakken",
          "date": "2019-04-25T00:00:00",
          "median": 0.00013667069603856216
         },
         {
          "NAAM_N2K": "Weerribben",
          "date": "2019-04-25T00:00:00",
          "median": 0.00017139125086476067
         },
         {
          "NAAM_N2K": "Oosterschelde",
          "date": "2019-04-25T00:00:00",
          "median": 0.00011352122875920334
         },
         {
          "NAAM_N2K": "Veluwe",
          "date": "2019-04-27T00:00:00",
          "median": 0.00010627269153794215
         },
         {
          "NAAM_N2K": "Biesbosch",
          "date": "2019-04-27T00:00:00",
          "median": 0.00010070247805513325
         },
         {
          "NAAM_N2K": "Waddenzee",
          "date": "2019-04-27T00:00:00",
          "median": 0.00015038996695954364
         },
         {
          "NAAM_N2K": "Rijntakken",
          "date": "2019-04-27T00:00:00",
          "median": 0.00010629141907165172
         },
         {
          "NAAM_N2K": "Weerribben",
          "date": "2019-04-27T00:00:00",
          "median": 0.00011948171202708316
         },
         {
          "NAAM_N2K": "Oosterschelde",
          "date": "2019-04-27T00:00:00",
          "median": 8.690982574644277e-05
         },
         {
          "NAAM_N2K": "Veluwe",
          "date": "2019-04-29T00:00:00",
          "median": 8.747711045189008e-05
         },
         {
          "NAAM_N2K": "Biesbosch",
          "date": "2019-04-29T00:00:00",
          "median": 0.0001077262762260688
         },
         {
          "NAAM_N2K": "Waddenzee",
          "date": "2019-04-29T00:00:00",
          "median": 7.01052183022243e-05
         },
         {
          "NAAM_N2K": "Rijntakken",
          "date": "2019-04-29T00:00:00",
          "median": 9.237763648654924e-05
         },
         {
          "NAAM_N2K": "Weerribben",
          "date": "2019-04-29T00:00:00",
          "median": 8.214018382266897e-05
         },
         {
          "NAAM_N2K": "Oosterschelde",
          "date": "2019-04-29T00:00:00",
          "median": 0.00017787909840025115
         },
         {
          "NAAM_N2K": "Veluwe",
          "date": "2019-05-01T00:00:00",
          "median": 0.00015591154174487227
         },
         {
          "NAAM_N2K": "Biesbosch",
          "date": "2019-05-01T00:00:00",
          "median": 0.00016672212354979085
         },
         {
          "NAAM_N2K": "Waddenzee",
          "date": "2019-05-01T00:00:00",
          "median": 7.528254829847577e-05
         },
         {
          "NAAM_N2K": "Rijntakken",
          "date": "2019-05-01T00:00:00",
          "median": 0.000131773320344158
         },
         {
          "NAAM_N2K": "Weerribben",
          "date": "2019-05-01T00:00:00",
          "median": 9.060983080262923e-05
         },
         {
          "NAAM_N2K": "Oosterschelde",
          "date": "2019-05-01T00:00:00",
          "median": 8.992535626395814e-05
         },
         {
          "NAAM_N2K": "Veluwe",
          "date": "2019-05-03T00:00:00",
          "median": 9.613173053110216e-05
         },
         {
          "NAAM_N2K": "Biesbosch",
          "date": "2019-05-03T00:00:00",
          "median": 0.00011035698309211207
         },
         {
          "NAAM_N2K": "Waddenzee",
          "date": "2019-05-03T00:00:00",
          "median": 8.242247712478688e-05
         },
         {
          "NAAM_N2K": "Rijntakken",
          "date": "2019-05-03T00:00:00",
          "median": 0.00010933130031344073
         },
         {
          "NAAM_N2K": "Weerribben",
          "date": "2019-05-03T00:00:00",
          "median": 9.666928164785637e-05
         },
         {
          "NAAM_N2K": "Oosterschelde",
          "date": "2019-05-03T00:00:00",
          "median": 0.00010829950103353946
         },
         {
          "NAAM_N2K": "Veluwe",
          "date": "2019-05-05T00:00:00",
          "median": 0.00015586891653209594
         },
         {
          "NAAM_N2K": "Biesbosch",
          "date": "2019-05-05T00:00:00",
          "median": 0.00011815258065294817
         },
         {
          "NAAM_N2K": "Waddenzee",
          "date": "2019-05-05T00:00:00",
          "median": 9.909857664667028e-05
         },
         {
          "NAAM_N2K": "Rijntakken",
          "date": "2019-05-05T00:00:00",
          "median": 0.0001373748482522986
         },
         {
          "NAAM_N2K": "Weerribben",
          "date": "2019-05-05T00:00:00",
          "median": 0.00010108397044480138
         },
         {
          "NAAM_N2K": "Oosterschelde",
          "date": "2019-05-05T00:00:00",
          "median": 9.745063589582253e-05
         },
         {
          "NAAM_N2K": "Veluwe",
          "date": "2019-05-07T00:00:00",
          "median": 0.00017617134597520864
         },
         {
          "NAAM_N2K": "Biesbosch",
          "date": "2019-05-07T00:00:00",
          "median": 0.00015681867434169975
         },
         {
          "NAAM_N2K": "Waddenzee",
          "date": "2019-05-07T00:00:00",
          "median": 0.00013677320469827366
         },
         {
          "NAAM_N2K": "Rijntakken",
          "date": "2019-05-07T00:00:00",
          "median": 0.00015744634944443167
         },
         {
          "NAAM_N2K": "Weerribben",
          "date": "2019-05-07T00:00:00",
          "median": 0.00016621650548524175
         },
         {
          "NAAM_N2K": "Oosterschelde",
          "date": "2019-05-07T00:00:00",
          "median": 0.00018367386232302164
         },
         {
          "NAAM_N2K": "Veluwe",
          "date": "2019-05-09T00:00:00",
          "median": 0.00010090472875548595
         },
         {
          "NAAM_N2K": "Biesbosch",
          "date": "2019-05-09T00:00:00",
          "median": 0.0001295683521224932
         },
         {
          "NAAM_N2K": "Waddenzee",
          "date": "2019-05-09T00:00:00",
          "median": 8.850981910508626e-05
         },
         {
          "NAAM_N2K": "Rijntakken",
          "date": "2019-05-09T00:00:00",
          "median": 0.00010896121630262493
         },
         {
          "NAAM_N2K": "Weerribben",
          "date": "2019-05-09T00:00:00",
          "median": 9.384812168072904e-05
         },
         {
          "NAAM_N2K": "Oosterschelde",
          "date": "2019-05-09T00:00:00",
          "median": 0.00010478945250234449
         },
         {
          "NAAM_N2K": "Veluwe",
          "date": "2019-05-11T00:00:00",
          "median": 9.497131581938888e-05
         },
         {
          "NAAM_N2K": "Biesbosch",
          "date": "2019-05-11T00:00:00",
          "median": 0.00010905143520344335
         },
         {
          "NAAM_N2K": "Waddenzee",
          "date": "2019-05-11T00:00:00",
          "median": 8.315620920587639e-05
         },
         {
          "NAAM_N2K": "Rijntakken",
          "date": "2019-05-11T00:00:00",
          "median": 9.601249891217888e-05
         },
         {
          "NAAM_N2K": "Weerribben",
          "date": "2019-05-11T00:00:00",
          "median": 8.842711547424621e-05
         },
         {
          "NAAM_N2K": "Oosterschelde",
          "date": "2019-05-11T00:00:00",
          "median": 0.00010930949384231241
         },
         {
          "NAAM_N2K": "Veluwe",
          "date": "2019-05-13T00:00:00",
          "median": 0.00011671905954000551
         },
         {
          "NAAM_N2K": "Biesbosch",
          "date": "2019-05-13T00:00:00",
          "median": 0.00014315206561515655
         },
         {
          "NAAM_N2K": "Waddenzee",
          "date": "2019-05-13T00:00:00",
          "median": 0.00010050023696568475
         },
         {
          "NAAM_N2K": "Rijntakken",
          "date": "2019-05-13T00:00:00",
          "median": 0.0001229640761764443
         },
         {
          "NAAM_N2K": "Weerribben",
          "date": "2019-05-13T00:00:00",
          "median": 9.446635960208459e-05
         },
         {
          "NAAM_N2K": "Oosterschelde",
          "date": "2019-05-13T00:00:00",
          "median": 0.00021307055963976483
         },
         {
          "NAAM_N2K": "Veluwe",
          "date": "2019-05-15T00:00:00",
          "median": 0.00011438207588141876
         },
         {
          "NAAM_N2K": "Biesbosch",
          "date": "2019-05-15T00:00:00",
          "median": 0.00014473385336495517
         },
         {
          "NAAM_N2K": "Waddenzee",
          "date": "2019-05-15T00:00:00",
          "median": 9.741126511762194e-05
         },
         {
          "NAAM_N2K": "Rijntakken",
          "date": "2019-05-15T00:00:00",
          "median": 0.00011242427654663565
         },
         {
          "NAAM_N2K": "Weerribben",
          "date": "2019-05-15T00:00:00",
          "median": 0.00010182668660419175
         },
         {
          "NAAM_N2K": "Oosterschelde",
          "date": "2019-05-15T00:00:00",
          "median": 0.0002081497278282866
         },
         {
          "NAAM_N2K": "Veluwe",
          "date": "2019-05-17T00:00:00",
          "median": 0.00011781989225298946
         },
         {
          "NAAM_N2K": "Biesbosch",
          "date": "2019-05-17T00:00:00",
          "median": 0.00014582204406353896
         },
         {
          "NAAM_N2K": "Waddenzee",
          "date": "2019-05-17T00:00:00",
          "median": 0.00012992975012033164
         },
         {
          "NAAM_N2K": "Rijntakken",
          "date": "2019-05-17T00:00:00",
          "median": 0.0001326524141929768
         },
         {
          "NAAM_N2K": "Weerribben",
          "date": "2019-05-17T00:00:00",
          "median": 0.00011202335348533686
         },
         {
          "NAAM_N2K": "Oosterschelde",
          "date": "2019-05-17T00:00:00",
          "median": 0.000212185471156193
         },
         {
          "NAAM_N2K": "Veluwe",
          "date": "2019-05-19T00:00:00",
          "median": 0.0001021223052060822
         },
         {
          "NAAM_N2K": "Biesbosch",
          "date": "2019-05-19T00:00:00",
          "median": 0.00010713175513236468
         },
         {
          "NAAM_N2K": "Waddenzee",
          "date": "2019-05-19T00:00:00",
          "median": 9.527295024602652e-05
         },
         {
          "NAAM_N2K": "Rijntakken",
          "date": "2019-05-19T00:00:00",
          "median": 0.0001063248464426643
         },
         {
          "NAAM_N2K": "Weerribben",
          "date": "2019-05-19T00:00:00",
          "median": 0.00010370025752820456
         },
         {
          "NAAM_N2K": "Oosterschelde",
          "date": "2019-05-19T00:00:00",
          "median": 9.121217793699427e-05
         },
         {
          "NAAM_N2K": "Veluwe",
          "date": "2019-05-21T00:00:00",
          "median": 9.525614062494142e-05
         },
         {
          "NAAM_N2K": "Biesbosch",
          "date": "2019-05-21T00:00:00",
          "median": 0.00011353582616534472
         },
         {
          "NAAM_N2K": "Waddenzee",
          "date": "2019-05-21T00:00:00",
          "median": 9.182016844102306e-05
         },
         {
          "NAAM_N2K": "Rijntakken",
          "date": "2019-05-21T00:00:00",
          "median": 0.00010056891066163675
         },
         {
          "NAAM_N2K": "Weerribben",
          "date": "2019-05-21T00:00:00",
          "median": 8.378646829886094e-05
         },
         {
          "NAAM_N2K": "Oosterschelde",
          "date": "2019-05-21T00:00:00",
          "median": 0.00010241674173020656
         },
         {
          "NAAM_N2K": "Veluwe",
          "date": "2019-05-23T00:00:00",
          "median": 0.0001665899279828473
         },
         {
          "NAAM_N2K": "Biesbosch",
          "date": "2019-05-23T00:00:00",
          "median": 0.000162518863681873
         },
         {
          "NAAM_N2K": "Waddenzee",
          "date": "2019-05-23T00:00:00",
          "median": 8.985413145144287e-05
         },
         {
          "NAAM_N2K": "Rijntakken",
          "date": "2019-05-23T00:00:00",
          "median": 0.00016407168424793748
         },
         {
          "NAAM_N2K": "Weerribben",
          "date": "2019-05-23T00:00:00",
          "median": 0.00011266722440532777
         },
         {
          "NAAM_N2K": "Oosterschelde",
          "date": "2019-05-23T00:00:00",
          "median": 0.00010623804442670768
         },
         {
          "NAAM_N2K": "Veluwe",
          "date": "2019-05-25T00:00:00",
          "median": 0.00010564215470764447
         },
         {
          "NAAM_N2K": "Biesbosch",
          "date": "2019-05-25T00:00:00",
          "median": 0.00011006321336746826
         },
         {
          "NAAM_N2K": "Waddenzee",
          "date": "2019-05-25T00:00:00",
          "median": 6.595900663342028e-05
         },
         {
          "NAAM_N2K": "Rijntakken",
          "date": "2019-05-25T00:00:00",
          "median": 0.00010480955508400326
         },
         {
          "NAAM_N2K": "Weerribben",
          "date": "2019-05-25T00:00:00",
          "median": 0.00010352094082866195
         },
         {
          "NAAM_N2K": "Oosterschelde",
          "date": "2019-05-25T00:00:00",
          "median": 0.00010564328040462739
         },
         {
          "NAAM_N2K": "Veluwe",
          "date": "2019-05-27T00:00:00",
          "median": 0.00010014002207226193
         },
         {
          "NAAM_N2K": "Biesbosch",
          "date": "2019-05-27T00:00:00",
          "median": 0.00010785050247948146
         },
         {
          "NAAM_N2K": "Waddenzee",
          "date": "2019-05-27T00:00:00",
          "median": 8.882097024880889e-05
         },
         {
          "NAAM_N2K": "Rijntakken",
          "date": "2019-05-27T00:00:00",
          "median": 0.00010070006471186036
         },
         {
          "NAAM_N2K": "Weerribben",
          "date": "2019-05-27T00:00:00",
          "median": 9.46460612221265e-05
         },
         {
          "NAAM_N2K": "Oosterschelde",
          "date": "2019-05-27T00:00:00",
          "median": 0.00011495365710783159
         },
         {
          "NAAM_N2K": "Veluwe",
          "date": "2019-05-29T00:00:00",
          "median": 9.374446503824073e-05
         },
         {
          "NAAM_N2K": "Biesbosch",
          "date": "2019-05-29T00:00:00",
          "median": 0.00012147479027754258
         },
         {
          "NAAM_N2K": "Waddenzee",
          "date": "2019-05-29T00:00:00",
          "median": 0.00010714628948427129
         },
         {
          "NAAM_N2K": "Rijntakken",
          "date": "2019-05-29T00:00:00",
          "median": 0.00010023847306073101
         },
         {
          "NAAM_N2K": "Weerribben",
          "date": "2019-05-29T00:00:00",
          "median": 0.00010225154395463362
         },
         {
          "NAAM_N2K": "Oosterschelde",
          "date": "2019-05-29T00:00:00",
          "median": 0.00011439090215605912
         },
         {
          "NAAM_N2K": "Veluwe",
          "date": "2019-05-31T00:00:00",
          "median": 0.00012020395942256753
         },
         {
          "NAAM_N2K": "Biesbosch",
          "date": "2019-05-31T00:00:00",
          "median": 8.755072242055162e-05
         },
         {
          "NAAM_N2K": "Waddenzee",
          "date": "2019-05-31T00:00:00",
          "median": 0.00014206784368361386
         },
         {
          "NAAM_N2K": "Rijntakken",
          "date": "2019-05-31T00:00:00",
          "median": 0.0001233040295394774
         },
         {
          "NAAM_N2K": "Weerribben",
          "date": "2019-05-31T00:00:00",
          "median": 0.00015216775903914153
         },
         {
          "NAAM_N2K": "Oosterschelde",
          "date": "2019-05-31T00:00:00",
          "median": 8.884094863791758e-05
         },
         {
          "NAAM_N2K": "Veluwe",
          "date": "2019-06-02T00:00:00",
          "median": 0.00010727754818556272
         },
         {
          "NAAM_N2K": "Biesbosch",
          "date": "2019-06-02T00:00:00",
          "median": 0.00015588408307215472
         },
         {
          "NAAM_N2K": "Waddenzee",
          "date": "2019-06-02T00:00:00",
          "median": 0.00016948298340980697
         },
         {
          "NAAM_N2K": "Rijntakken",
          "date": "2019-06-02T00:00:00",
          "median": 0.00010948709736129797
         },
         {
          "NAAM_N2K": "Weerribben",
          "date": "2019-06-02T00:00:00",
          "median": 0.00010413493869293754
         },
         {
          "NAAM_N2K": "Oosterschelde",
          "date": "2019-06-02T00:00:00",
          "median": 0.00012572399025298665
         },
         {
          "NAAM_N2K": "Veluwe",
          "date": "2019-06-04T00:00:00",
          "median": 0.00013249867123549846
         },
         {
          "NAAM_N2K": "Biesbosch",
          "date": "2019-06-04T00:00:00",
          "median": 0.00018424177837501372
         },
         {
          "NAAM_N2K": "Waddenzee",
          "date": "2019-06-04T00:00:00",
          "median": 0.0001249795263796039
         },
         {
          "NAAM_N2K": "Rijntakken",
          "date": "2019-06-04T00:00:00",
          "median": 0.00013628005982964164
         },
         {
          "NAAM_N2K": "Weerribben",
          "date": "2019-06-04T00:00:00",
          "median": 0.00013223467426113914
         },
         {
          "NAAM_N2K": "Oosterschelde",
          "date": "2019-06-04T00:00:00",
          "median": 0.00017529363561939363
         },
         {
          "NAAM_N2K": "Veluwe",
          "date": "2019-06-06T00:00:00",
          "median": 0.00013730907291551115
         },
         {
          "NAAM_N2K": "Biesbosch",
          "date": "2019-06-06T00:00:00",
          "median": 0.00012811962369239525
         },
         {
          "NAAM_N2K": "Waddenzee",
          "date": "2019-06-06T00:00:00",
          "median": 8.856504328589018e-05
         },
         {
          "NAAM_N2K": "Rijntakken",
          "date": "2019-06-06T00:00:00",
          "median": 0.00014331571377251807
         },
         {
          "NAAM_N2K": "Weerribben",
          "date": "2019-06-06T00:00:00",
          "median": 0.00011025310581742292
         },
         {
          "NAAM_N2K": "Oosterschelde",
          "date": "2019-06-06T00:00:00",
          "median": 0.00014113196713866835
         },
         {
          "NAAM_N2K": "Veluwe",
          "date": "2019-06-08T00:00:00",
          "median": 9.77929414706351e-05
         },
         {
          "NAAM_N2K": "Biesbosch",
          "date": "2019-06-08T00:00:00",
          "median": 0.00012654239917546338
         },
         {
          "NAAM_N2K": "Waddenzee",
          "date": "2019-06-08T00:00:00",
          "median": 0.00010793231654131404
         },
         {
          "NAAM_N2K": "Rijntakken",
          "date": "2019-06-08T00:00:00",
          "median": 0.00010177180987340403
         },
         {
          "NAAM_N2K": "Weerribben",
          "date": "2019-06-08T00:00:00",
          "median": 9.782352154543802e-05
         },
         {
          "NAAM_N2K": "Oosterschelde",
          "date": "2019-06-08T00:00:00",
          "median": 0.00010790387442075026
         },
         {
          "NAAM_N2K": "Veluwe",
          "date": "2019-06-10T00:00:00",
          "median": 0.00011233033251130108
         },
         {
          "NAAM_N2K": "Biesbosch",
          "date": "2019-06-10T00:00:00",
          "median": 0.00010567529789974111
         },
         {
          "NAAM_N2K": "Waddenzee",
          "date": "2019-06-10T00:00:00",
          "median": 9.869588588179483e-05
         },
         {
          "NAAM_N2K": "Rijntakken",
          "date": "2019-06-10T00:00:00",
          "median": 0.00010925382068020735
         },
         {
          "NAAM_N2K": "Weerribben",
          "date": "2019-06-10T00:00:00",
          "median": 0.00011185907932460373
         },
         {
          "NAAM_N2K": "Oosterschelde",
          "date": "2019-06-10T00:00:00",
          "median": 0.00011722499642395367
         },
         {
          "NAAM_N2K": "Veluwe",
          "date": "2019-06-12T00:00:00",
          "median": 0.0004225076145851406
         },
         {
          "NAAM_N2K": "Biesbosch",
          "date": "2019-06-12T00:00:00",
          "median": 0.00010924905728326718
         },
         {
          "NAAM_N2K": "Waddenzee",
          "date": "2019-06-12T00:00:00",
          "median": 0.00011186850744448798
         },
         {
          "NAAM_N2K": "Rijntakken",
          "date": "2019-06-12T00:00:00",
          "median": 0.00015373968738199327
         },
         {
          "NAAM_N2K": "Weerribben",
          "date": "2019-06-12T00:00:00",
          "median": 0.0001435335951748808
         },
         {
          "NAAM_N2K": "Oosterschelde",
          "date": "2019-06-12T00:00:00",
          "median": 0.00010247347514059094
         },
         {
          "NAAM_N2K": "Veluwe",
          "date": "2019-06-14T00:00:00",
          "median": 0.00010030343585793724
         },
         {
          "NAAM_N2K": "Biesbosch",
          "date": "2019-06-14T00:00:00",
          "median": 0.00011303846297207155
         },
         {
          "NAAM_N2K": "Waddenzee",
          "date": "2019-06-14T00:00:00",
          "median": 0.00011368244204750681
         },
         {
          "NAAM_N2K": "Rijntakken",
          "date": "2019-06-14T00:00:00",
          "median": 0.00010871173815389295
         },
         {
          "NAAM_N2K": "Weerribben",
          "date": "2019-06-14T00:00:00",
          "median": 0.00010233035363058275
         },
         {
          "NAAM_N2K": "Oosterschelde",
          "date": "2019-06-14T00:00:00",
          "median": 0.00012065945385278315
         },
         {
          "NAAM_N2K": "Veluwe",
          "date": "2019-06-16T00:00:00",
          "median": 9.55871300937133e-05
         },
         {
          "NAAM_N2K": "Biesbosch",
          "date": "2019-06-16T00:00:00",
          "median": 8.46811145645408e-05
         },
         {
          "NAAM_N2K": "Waddenzee",
          "date": "2019-06-16T00:00:00",
          "median": 8.735550033983289e-05
         },
         {
          "NAAM_N2K": "Rijntakken",
          "date": "2019-06-16T00:00:00",
          "median": 8.595070954448036e-05
         },
         {
          "NAAM_N2K": "Weerribben",
          "date": "2019-06-16T00:00:00",
          "median": 8.659668257428074e-05
         },
         {
          "NAAM_N2K": "Oosterschelde",
          "date": "2019-06-16T00:00:00",
          "median": 9.037368111159925e-05
         },
         {
          "NAAM_N2K": "Veluwe",
          "date": "2019-06-18T00:00:00",
          "median": 0.00010051923190646983
         },
         {
          "NAAM_N2K": "Biesbosch",
          "date": "2019-06-18T00:00:00",
          "median": 0.00014274034553389726
         },
         {
          "NAAM_N2K": "Waddenzee",
          "date": "2019-06-18T00:00:00",
          "median": 0.00011633711170147758
         },
         {
          "NAAM_N2K": "Rijntakken",
          "date": "2019-06-18T00:00:00",
          "median": 0.00010670463542620573
         },
         {
          "NAAM_N2K": "Weerribben",
          "date": "2019-06-18T00:00:00",
          "median": 8.805177889209653e-05
         },
         {
          "NAAM_N2K": "Oosterschelde",
          "date": "2019-06-18T00:00:00",
          "median": 0.00014428386518150181
         },
         {
          "NAAM_N2K": "Veluwe",
          "date": "2019-06-20T00:00:00",
          "median": 0.00011623369089601645
         },
         {
          "NAAM_N2K": "Biesbosch",
          "date": "2019-06-20T00:00:00",
          "median": 0.00010912073862526197
         },
         {
          "NAAM_N2K": "Waddenzee",
          "date": "2019-06-20T00:00:00",
          "median": 0.0001108986659317472
         },
         {
          "NAAM_N2K": "Rijntakken",
          "date": "2019-06-20T00:00:00",
          "median": 0.0001100958386101277
         },
         {
          "NAAM_N2K": "Weerribben",
          "date": "2019-06-20T00:00:00",
          "median": 0.0001157272926561816
         },
         {
          "NAAM_N2K": "Oosterschelde",
          "date": "2019-06-20T00:00:00",
          "median": 9.760508029061404e-05
         },
         {
          "NAAM_N2K": "Veluwe",
          "date": "2019-06-22T00:00:00",
          "median": 0.00010029538040161475
         },
         {
          "NAAM_N2K": "Biesbosch",
          "date": "2019-06-22T00:00:00",
          "median": 0.00010714654253552537
         },
         {
          "NAAM_N2K": "Waddenzee",
          "date": "2019-06-22T00:00:00",
          "median": 9.484866986014553e-05
         },
         {
          "NAAM_N2K": "Rijntakken",
          "date": "2019-06-22T00:00:00",
          "median": 0.00010025458078664185
         },
         {
          "NAAM_N2K": "Weerribben",
          "date": "2019-06-22T00:00:00",
          "median": 8.582273872834312e-05
         },
         {
          "NAAM_N2K": "Oosterschelde",
          "date": "2019-06-22T00:00:00",
          "median": 0.00010853168047903732
         },
         {
          "NAAM_N2K": "Veluwe",
          "date": "2019-06-24T00:00:00",
          "median": 0.00012266600161780665
         },
         {
          "NAAM_N2K": "Biesbosch",
          "date": "2019-06-24T00:00:00",
          "median": 0.00013480239711024703
         },
         {
          "NAAM_N2K": "Waddenzee",
          "date": "2019-06-24T00:00:00",
          "median": 0.00011486527454852928
         },
         {
          "NAAM_N2K": "Rijntakken",
          "date": "2019-06-24T00:00:00",
          "median": 0.00012193266474440606
         },
         {
          "NAAM_N2K": "Weerribben",
          "date": "2019-06-24T00:00:00",
          "median": 0.00011449650084761483
         },
         {
          "NAAM_N2K": "Oosterschelde",
          "date": "2019-06-24T00:00:00",
          "median": 0.00015078130735392303
         },
         {
          "NAAM_N2K": "Veluwe",
          "date": "2019-06-26T00:00:00",
          "median": 9.54656373391669e-05
         },
         {
          "NAAM_N2K": "Biesbosch",
          "date": "2019-06-26T00:00:00",
          "median": 0.00010115142651396047
         },
         {
          "NAAM_N2K": "Waddenzee",
          "date": "2019-06-26T00:00:00",
          "median": 7.45027116588682e-05
         },
         {
          "NAAM_N2K": "Rijntakken",
          "date": "2019-06-26T00:00:00",
          "median": 0.00010348987257454825
         },
         {
          "NAAM_N2K": "Weerribben",
          "date": "2019-06-26T00:00:00",
          "median": 8.05477735569274e-05
         },
         {
          "NAAM_N2K": "Oosterschelde",
          "date": "2019-06-26T00:00:00",
          "median": 8.955941693130315e-05
         },
         {
          "NAAM_N2K": "Veluwe",
          "date": "2019-06-28T00:00:00",
          "median": 0.00011465197456276413
         },
         {
          "NAAM_N2K": "Biesbosch",
          "date": "2019-06-28T00:00:00",
          "median": 0.00013275109772929483
         },
         {
          "NAAM_N2K": "Waddenzee",
          "date": "2019-06-28T00:00:00",
          "median": 9.18512395913154e-05
         },
         {
          "NAAM_N2K": "Rijntakken",
          "date": "2019-06-28T00:00:00",
          "median": 0.00013017388638357383
         },
         {
          "NAAM_N2K": "Weerribben",
          "date": "2019-06-28T00:00:00",
          "median": 0.00010886154075003802
         },
         {
          "NAAM_N2K": "Oosterschelde",
          "date": "2019-06-28T00:00:00",
          "median": 0.00013688659058498244
         },
         {
          "NAAM_N2K": "Veluwe",
          "date": "2019-06-30T00:00:00",
          "median": 9.780063496438236e-05
         },
         {
          "NAAM_N2K": "Biesbosch",
          "date": "2019-06-30T00:00:00",
          "median": 0.00012595331340657377
         },
         {
          "NAAM_N2K": "Waddenzee",
          "date": "2019-06-30T00:00:00",
          "median": 8.48488187443028e-05
         },
         {
          "NAAM_N2K": "Rijntakken",
          "date": "2019-06-30T00:00:00",
          "median": 9.780063496438236e-05
         },
         {
          "NAAM_N2K": "Weerribben",
          "date": "2019-06-30T00:00:00",
          "median": 8.770675577717845e-05
         },
         {
          "NAAM_N2K": "Oosterschelde",
          "date": "2019-06-30T00:00:00",
          "median": 8.834288187156213e-05
         },
         {
          "NAAM_N2K": "Veluwe",
          "date": "2019-07-02T00:00:00",
          "median": 8.864033110218541e-05
         },
         {
          "NAAM_N2K": "Biesbosch",
          "date": "2019-07-02T00:00:00",
          "median": 9.739119637775153e-05
         },
         {
          "NAAM_N2K": "Waddenzee",
          "date": "2019-07-02T00:00:00",
          "median": 7.330865751767638e-05
         },
         {
          "NAAM_N2K": "Rijntakken",
          "date": "2019-07-02T00:00:00",
          "median": 8.864033110218541e-05
         },
         {
          "NAAM_N2K": "Weerribben",
          "date": "2019-07-02T00:00:00",
          "median": 8.291382927133186e-05
         },
         {
          "NAAM_N2K": "Oosterschelde",
          "date": "2019-07-02T00:00:00",
          "median": 0.00012170902215269592
         },
         {
          "NAAM_N2K": "Veluwe",
          "date": "2019-07-04T00:00:00",
          "median": 0.00010834864495589763
         },
         {
          "NAAM_N2K": "Biesbosch",
          "date": "2019-07-04T00:00:00",
          "median": 0.0001851240273988442
         },
         {
          "NAAM_N2K": "Waddenzee",
          "date": "2019-07-04T00:00:00",
          "median": 7.212275396158881e-05
         },
         {
          "NAAM_N2K": "Rijntakken",
          "date": "2019-07-04T00:00:00",
          "median": 0.00010930611367439672
         },
         {
          "NAAM_N2K": "Weerribben",
          "date": "2019-07-04T00:00:00",
          "median": 8.399030477284567e-05
         },
         {
          "NAAM_N2K": "Oosterschelde",
          "date": "2019-07-04T00:00:00",
          "median": 0.0001338142588531125
         },
         {
          "NAAM_N2K": "Veluwe",
          "date": "2019-07-06T00:00:00",
          "median": 8.804005068888834e-05
         },
         {
          "NAAM_N2K": "Biesbosch",
          "date": "2019-07-06T00:00:00",
          "median": 9.090143906307092e-05
         },
         {
          "NAAM_N2K": "Waddenzee",
          "date": "2019-07-06T00:00:00",
          "median": 8.71741215005954e-05
         },
         {
          "NAAM_N2K": "Rijntakken",
          "date": "2019-07-06T00:00:00",
          "median": 9.12231988906041e-05
         },
         {
          "NAAM_N2K": "Weerribben",
          "date": "2019-07-06T00:00:00",
          "median": 7.519363266008641e-05
         },
         {
          "NAAM_N2K": "Oosterschelde",
          "date": "2019-07-06T00:00:00",
          "median": 7.830619305926949e-05
         },
         {
          "NAAM_N2K": "Veluwe",
          "date": "2019-07-08T00:00:00",
          "median": 8.551821850242333e-05
         },
         {
          "NAAM_N2K": "Biesbosch",
          "date": "2019-07-08T00:00:00",
          "median": 9.854772981712063e-05
         },
         {
          "NAAM_N2K": "Waddenzee",
          "date": "2019-07-08T00:00:00",
          "median": 8.142184917417185e-05
         },
         {
          "NAAM_N2K": "Rijntakken",
          "date": "2019-07-08T00:00:00",
          "median": 0.00010037600669219606
         },
         {
          "NAAM_N2K": "Weerribben",
          "date": "2019-07-08T00:00:00",
          "median": 7.975454138451472e-05
         },
         {
          "NAAM_N2K": "Oosterschelde",
          "date": "2019-07-08T00:00:00",
          "median": 0.00010522805304163334
         },
         {
          "NAAM_N2K": "Veluwe",
          "date": "2019-07-10T00:00:00",
          "median": 0.00022308963889311828
         },
         {
          "NAAM_N2K": "Biesbosch",
          "date": "2019-07-10T00:00:00",
          "median": 0.00021947772896830248
         },
         {
          "NAAM_N2K": "Waddenzee",
          "date": "2019-07-10T00:00:00",
          "median": 0.00013960321907632414
         },
         {
          "NAAM_N2K": "Rijntakken",
          "date": "2019-07-10T00:00:00",
          "median": 0.0001890263675475078
         },
         {
          "NAAM_N2K": "Weerribben",
          "date": "2019-07-10T00:00:00",
          "median": 0.0001574285328756971
         },
         {
          "NAAM_N2K": "Oosterschelde",
          "date": "2019-07-10T00:00:00",
          "median": 0.00014830332873241582
         },
         {
          "NAAM_N2K": "Veluwe",
          "date": "2019-07-12T00:00:00",
          "median": 8.682145308460662e-05
         },
         {
          "NAAM_N2K": "Biesbosch",
          "date": "2019-07-12T00:00:00",
          "median": 0.00010366007344694771
         },
         {
          "NAAM_N2K": "Waddenzee",
          "date": "2019-07-12T00:00:00",
          "median": 7.959098724894738e-05
         },
         {
          "NAAM_N2K": "Rijntakken",
          "date": "2019-07-12T00:00:00",
          "median": 9.789209009832589e-05
         },
         {
          "NAAM_N2K": "Weerribben",
          "date": "2019-07-12T00:00:00",
          "median": 8.647094077501402e-05
         },
         {
          "NAAM_N2K": "Oosterschelde",
          "date": "2019-07-12T00:00:00",
          "median": 8.542283794044308e-05
         },
         {
          "NAAM_N2K": "Veluwe",
          "date": "2019-07-14T00:00:00",
          "median": 8.249933825824998e-05
         },
         {
          "NAAM_N2K": "Biesbosch",
          "date": "2019-07-14T00:00:00",
          "median": 9.60955869900369e-05
         },
         {
          "NAAM_N2K": "Waddenzee",
          "date": "2019-07-14T00:00:00",
          "median": 7.437685137553689e-05
         },
         {
          "NAAM_N2K": "Rijntakken",
          "date": "2019-07-14T00:00:00",
          "median": 8.426282761527502e-05
         },
         {
          "NAAM_N2K": "Weerribben",
          "date": "2019-07-14T00:00:00",
          "median": 8.111155006236068e-05
         },
         {
          "NAAM_N2K": "Oosterschelde",
          "date": "2019-07-14T00:00:00",
          "median": 9.026655086988425e-05
         },
         {
          "NAAM_N2K": "Veluwe",
          "date": "2019-07-16T00:00:00",
          "median": 9.505185266016599e-05
         },
         {
          "NAAM_N2K": "Biesbosch",
          "date": "2019-07-16T00:00:00",
          "median": 0.00011626063902758278
         },
         {
          "NAAM_N2K": "Waddenzee",
          "date": "2019-07-16T00:00:00",
          "median": 7.41747271220824e-05
         },
         {
          "NAAM_N2K": "Rijntakken",
          "date": "2019-07-16T00:00:00",
          "median": 0.00010358971436581039
         },
         {
          "NAAM_N2K": "Weerribben",
          "date": "2019-07-16T00:00:00",
          "median": 8.293959456210569e-05
         },
         {
          "NAAM_N2K": "Oosterschelde",
          "date": "2019-07-16T00:00:00",
          "median": 0.00010354509705337604
         },
         {
          "NAAM_N2K": "Veluwe",
          "date": "2019-07-18T00:00:00",
          "median": 0.00016460496991345866
         },
         {
          "NAAM_N2K": "Biesbosch",
          "date": "2019-07-18T00:00:00",
          "median": 0.00021071759377498287
         },
         {
          "NAAM_N2K": "Waddenzee",
          "date": "2019-07-18T00:00:00",
          "median": 9.86912799755761e-05
         },
         {
          "NAAM_N2K": "Rijntakken",
          "date": "2019-07-18T00:00:00",
          "median": 0.00016460966296434311
         },
         {
          "NAAM_N2K": "Weerribben",
          "date": "2019-07-18T00:00:00",
          "median": 0.00017441380621039613
         },
         {
          "NAAM_N2K": "Oosterschelde",
          "date": "2019-07-18T00:00:00",
          "median": 0.00011974880139639219
         },
         {
          "NAAM_N2K": "Veluwe",
          "date": "2019-07-20T00:00:00",
          "median": 9.112297535759444e-05
         },
         {
          "NAAM_N2K": "Biesbosch",
          "date": "2019-07-20T00:00:00",
          "median": 0.00011019856456643882
         },
         {
          "NAAM_N2K": "Waddenzee",
          "date": "2019-07-20T00:00:00",
          "median": 7.759786903876228e-05
         },
         {
          "NAAM_N2K": "Rijntakken",
          "date": "2019-07-20T00:00:00",
          "median": 8.607748167796524e-05
         },
         {
          "NAAM_N2K": "Weerribben",
          "date": "2019-07-20T00:00:00",
          "median": 8.027047766764352e-05
         },
         {
          "NAAM_N2K": "Oosterschelde",
          "date": "2019-07-20T00:00:00",
          "median": 9.68355101360611e-05
         },
         {
          "NAAM_N2K": "Veluwe",
          "date": "2019-07-22T00:00:00",
          "median": 0.00011973310721237816
         },
         {
          "NAAM_N2K": "Biesbosch",
          "date": "2019-07-22T00:00:00",
          "median": 0.0001133859837981543
         },
         {
          "NAAM_N2K": "Waddenzee",
          "date": "2019-07-22T00:00:00",
          "median": 9.689502832222958e-05
         },
         {
          "NAAM_N2K": "Rijntakken",
          "date": "2019-07-22T00:00:00",
          "median": 0.00011412796328047904
         },
         {
          "NAAM_N2K": "Weerribben",
          "date": "2019-07-22T00:00:00",
          "median": 9.48981662243718e-05
         },
         {
          "NAAM_N2K": "Oosterschelde",
          "date": "2019-07-22T00:00:00",
          "median": 0.00011772871770572339
         },
         {
          "NAAM_N2K": "Veluwe",
          "date": "2019-07-24T00:00:00",
          "median": 0.0001225808273411593
         },
         {
          "NAAM_N2K": "Biesbosch",
          "date": "2019-07-24T00:00:00",
          "median": 0.00011819788678197079
         },
         {
          "NAAM_N2K": "Waddenzee",
          "date": "2019-07-24T00:00:00",
          "median": 0.00010858409573738487
         },
         {
          "NAAM_N2K": "Rijntakken",
          "date": "2019-07-24T00:00:00",
          "median": 0.00011783003000591057
         },
         {
          "NAAM_N2K": "Weerribben",
          "date": "2019-07-24T00:00:00",
          "median": 0.00010289184220534621
         },
         {
          "NAAM_N2K": "Oosterschelde",
          "date": "2019-07-24T00:00:00",
          "median": 9.931288424153617e-05
         },
         {
          "NAAM_N2K": "Veluwe",
          "date": "2019-07-26T00:00:00",
          "median": 0.00011398741999975282
         },
         {
          "NAAM_N2K": "Biesbosch",
          "date": "2019-07-26T00:00:00",
          "median": 0.00018864101930933763
         },
         {
          "NAAM_N2K": "Waddenzee",
          "date": "2019-07-26T00:00:00",
          "median": 9.948687909026619e-05
         },
         {
          "NAAM_N2K": "Rijntakken",
          "date": "2019-07-26T00:00:00",
          "median": 0.00012746233252544336
         },
         {
          "NAAM_N2K": "Weerribben",
          "date": "2019-07-26T00:00:00",
          "median": 0.00010616541411004855
         },
         {
          "NAAM_N2K": "Oosterschelde",
          "date": "2019-07-26T00:00:00",
          "median": 0.000184341560774565
         },
         {
          "NAAM_N2K": "Veluwe",
          "date": "2019-07-28T00:00:00",
          "median": 0.00011677224276038429
         },
         {
          "NAAM_N2K": "Biesbosch",
          "date": "2019-07-28T00:00:00",
          "median": 0.00014978799764868542
         },
         {
          "NAAM_N2K": "Waddenzee",
          "date": "2019-07-28T00:00:00",
          "median": 9.218132379977506e-05
         },
         {
          "NAAM_N2K": "Rijntakken",
          "date": "2019-07-28T00:00:00",
          "median": 0.00013272027883245015
         },
         {
          "NAAM_N2K": "Weerribben",
          "date": "2019-07-28T00:00:00",
          "median": 9.933030309343864e-05
         },
         {
          "NAAM_N2K": "Oosterschelde",
          "date": "2019-07-28T00:00:00",
          "median": 0.00013131242289472986
         },
         {
          "NAAM_N2K": "Veluwe",
          "date": "2019-07-30T00:00:00",
          "median": 0.00010290364676289434
         },
         {
          "NAAM_N2K": "Biesbosch",
          "date": "2019-07-30T00:00:00",
          "median": 9.762444689511138e-05
         },
         {
          "NAAM_N2K": "Waddenzee",
          "date": "2019-07-30T00:00:00",
          "median": 9.395529047844e-05
         },
         {
          "NAAM_N2K": "Rijntakken",
          "date": "2019-07-30T00:00:00",
          "median": 9.572963868804152e-05
         },
         {
          "NAAM_N2K": "Weerribben",
          "date": "2019-07-30T00:00:00",
          "median": 0.00011098799925311749
         },
         {
          "NAAM_N2K": "Oosterschelde",
          "date": "2019-07-30T00:00:00",
          "median": 9.474770036909024e-05
         },
         {
          "NAAM_N2K": "Veluwe",
          "date": "2019-08-01T00:00:00",
          "median": 0.00014857099745087558
         },
         {
          "NAAM_N2K": "Biesbosch",
          "date": "2019-08-01T00:00:00",
          "median": 0.0001019632299399389
         },
         {
          "NAAM_N2K": "Waddenzee",
          "date": "2019-08-01T00:00:00",
          "median": 0.00010549051935449086
         },
         {
          "NAAM_N2K": "Rijntakken",
          "date": "2019-08-01T00:00:00",
          "median": 0.00012327479572339986
         },
         {
          "NAAM_N2K": "Weerribben",
          "date": "2019-08-01T00:00:00",
          "median": 0.0001329938408095322
         },
         {
          "NAAM_N2K": "Oosterschelde",
          "date": "2019-08-01T00:00:00",
          "median": 8.546412541342049e-05
         },
         {
          "NAAM_N2K": "Veluwe",
          "date": "2019-08-03T00:00:00",
          "median": 9.109888159364925e-05
         },
         {
          "NAAM_N2K": "Biesbosch",
          "date": "2019-08-03T00:00:00",
          "median": 8.98552575445304e-05
         },
         {
          "NAAM_N2K": "Waddenzee",
          "date": "2019-08-03T00:00:00",
          "median": 7.935446995212302e-05
         },
         {
          "NAAM_N2K": "Rijntakken",
          "date": "2019-08-03T00:00:00",
          "median": 9.220091213583483e-05
         },
         {
          "NAAM_N2K": "Weerribben",
          "date": "2019-08-03T00:00:00",
          "median": 8.587089750313235e-05
         },
         {
          "NAAM_N2K": "Oosterschelde",
          "date": "2019-08-03T00:00:00",
          "median": 8.655446330164347e-05
         },
         {
          "NAAM_N2K": "Veluwe",
          "date": "2019-08-05T00:00:00",
          "median": 0.00011354780733677224
         },
         {
          "NAAM_N2K": "Biesbosch",
          "date": "2019-08-05T00:00:00",
          "median": 0.00011537130793365534
         },
         {
          "NAAM_N2K": "Waddenzee",
          "date": "2019-08-05T00:00:00",
          "median": 0.00011961001777075084
         },
         {
          "NAAM_N2K": "Rijntakken",
          "date": "2019-08-05T00:00:00",
          "median": 0.00011354780733677224
         },
         {
          "NAAM_N2K": "Weerribben",
          "date": "2019-08-05T00:00:00",
          "median": 0.00011025003141873664
         },
         {
          "NAAM_N2K": "Oosterschelde",
          "date": "2019-08-05T00:00:00",
          "median": 0.00011194202659263553
         },
         {
          "NAAM_N2K": "Veluwe",
          "date": "2019-08-07T00:00:00",
          "median": 0.00010792624351833887
         },
         {
          "NAAM_N2K": "Biesbosch",
          "date": "2019-08-07T00:00:00",
          "median": 9.730816656720814e-05
         },
         {
          "NAAM_N2K": "Waddenzee",
          "date": "2019-08-07T00:00:00",
          "median": 8.397174569202099e-05
         },
         {
          "NAAM_N2K": "Rijntakken",
          "date": "2019-08-07T00:00:00",
          "median": 0.00010677361857727724
         },
         {
          "NAAM_N2K": "Weerribben",
          "date": "2019-08-07T00:00:00",
          "median": 9.308123247969084e-05
         },
         {
          "NAAM_N2K": "Oosterschelde",
          "date": "2019-08-07T00:00:00",
          "median": 9.244668747337173e-05
         },
         {
          "NAAM_N2K": "Veluwe",
          "date": "2019-08-09T00:00:00",
          "median": 8.287187501040841e-05
         },
         {
          "NAAM_N2K": "Biesbosch",
          "date": "2019-08-09T00:00:00",
          "median": 0.00014941408477151243
         },
         {
          "NAAM_N2K": "Waddenzee",
          "date": "2019-08-09T00:00:00",
          "median": 7.485705944664764e-05
         },
         {
          "NAAM_N2K": "Rijntakken",
          "date": "2019-08-09T00:00:00",
          "median": 8.20046242729158e-05
         },
         {
          "NAAM_N2K": "Weerribben",
          "date": "2019-08-09T00:00:00",
          "median": 8.135440604981723e-05
         },
         {
          "NAAM_N2K": "Oosterschelde",
          "date": "2019-08-09T00:00:00",
          "median": 0.00010351307836207506
         },
         {
          "NAAM_N2K": "Veluwe",
          "date": "2019-08-11T00:00:00",
          "median": 0.00010164159011459158
         },
         {
          "NAAM_N2K": "Biesbosch",
          "date": "2019-08-11T00:00:00",
          "median": 0.00013566226890737831
         },
         {
          "NAAM_N2K": "Waddenzee",
          "date": "2019-08-11T00:00:00",
          "median": 0.00011422247880965705
         },
         {
          "NAAM_N2K": "Rijntakken",
          "date": "2019-08-11T00:00:00",
          "median": 9.994600440034656e-05
         },
         {
          "NAAM_N2K": "Weerribben",
          "date": "2019-08-11T00:00:00",
          "median": 0.00010248038526217356
         },
         {
          "NAAM_N2K": "Oosterschelde",
          "date": "2019-08-11T00:00:00",
          "median": 0.0001013695764689082
         },
         {
          "NAAM_N2K": "Veluwe",
          "date": "2019-08-13T00:00:00",
          "median": 0.00011807625448614423
         },
         {
          "NAAM_N2K": "Biesbosch",
          "date": "2019-08-13T00:00:00",
          "median": 0.00011547502666456501
         },
         {
          "NAAM_N2K": "Waddenzee",
          "date": "2019-08-13T00:00:00",
          "median": 0.00011077192179190408
         },
         {
          "NAAM_N2K": "Rijntakken",
          "date": "2019-08-13T00:00:00",
          "median": 0.00011807625448614423
         },
         {
          "NAAM_N2K": "Weerribben",
          "date": "2019-08-13T00:00:00",
          "median": 0.00010394358004576425
         },
         {
          "NAAM_N2K": "Oosterschelde",
          "date": "2019-08-13T00:00:00",
          "median": 8.149284340747836e-05
         },
         {
          "NAAM_N2K": "Veluwe",
          "date": "2019-08-15T00:00:00",
          "median": 0.0001458863154746571
         },
         {
          "NAAM_N2K": "Biesbosch",
          "date": "2019-08-15T00:00:00",
          "median": 0.00010089189497019788
         },
         {
          "NAAM_N2K": "Waddenzee",
          "date": "2019-08-15T00:00:00",
          "median": 9.782668436449942e-05
         },
         {
          "NAAM_N2K": "Rijntakken",
          "date": "2019-08-15T00:00:00",
          "median": 9.828495243974659e-05
         },
         {
          "NAAM_N2K": "Weerribben",
          "date": "2019-08-15T00:00:00",
          "median": 9.938077986451125e-05
         },
         {
          "NAAM_N2K": "Oosterschelde",
          "date": "2019-08-15T00:00:00",
          "median": 8.807952524149686e-05
         },
         {
          "NAAM_N2K": "Veluwe",
          "date": "2019-08-17T00:00:00",
          "median": 0.00013813686069656563
         },
         {
          "NAAM_N2K": "Biesbosch",
          "date": "2019-08-17T00:00:00",
          "median": 0.00011128035368590874
         },
         {
          "NAAM_N2K": "Waddenzee",
          "date": "2019-08-17T00:00:00",
          "median": 0.00012463421173892006
         },
         {
          "NAAM_N2K": "Rijntakken",
          "date": "2019-08-17T00:00:00",
          "median": 0.00015371853393776722
         },
         {
          "NAAM_N2K": "Weerribben",
          "date": "2019-08-17T00:00:00",
          "median": 0.00011263709456928555
         },
         {
          "NAAM_N2K": "Oosterschelde",
          "date": "2019-08-17T00:00:00",
          "median": 8.389934311466422e-05
         },
         {
          "NAAM_N2K": "Veluwe",
          "date": "2019-08-19T00:00:00",
          "median": 0.00010069790753663439
         },
         {
          "NAAM_N2K": "Biesbosch",
          "date": "2019-08-19T00:00:00",
          "median": 0.0001072406084974013
         },
         {
          "NAAM_N2K": "Waddenzee",
          "date": "2019-08-19T00:00:00",
          "median": 0.00010073604390229004
         },
         {
          "NAAM_N2K": "Rijntakken",
          "date": "2019-08-19T00:00:00",
          "median": 0.00010417851318884258
         },
         {
          "NAAM_N2K": "Weerribben",
          "date": "2019-08-19T00:00:00",
          "median": 0.00010659855388028006
         },
         {
          "NAAM_N2K": "Oosterschelde",
          "date": "2019-08-19T00:00:00",
          "median": 9.123460203987886e-05
         },
         {
          "NAAM_N2K": "Veluwe",
          "date": "2019-08-21T00:00:00",
          "median": 0.00011643743963983693
         },
         {
          "NAAM_N2K": "Biesbosch",
          "date": "2019-08-21T00:00:00",
          "median": 0.0001240068315350451
         },
         {
          "NAAM_N2K": "Waddenzee",
          "date": "2019-08-21T00:00:00",
          "median": 0.00012430792912606926
         },
         {
          "NAAM_N2K": "Rijntakken",
          "date": "2019-08-21T00:00:00",
          "median": 0.00012058787807608392
         },
         {
          "NAAM_N2K": "Weerribben",
          "date": "2019-08-21T00:00:00",
          "median": 0.00014941221817611706
         },
         {
          "NAAM_N2K": "Oosterschelde",
          "date": "2019-08-21T00:00:00",
          "median": 0.00013785649596466683
         },
         {
          "NAAM_N2K": "Veluwe",
          "date": "2019-08-23T00:00:00",
          "median": 0.0001146809479381356
         },
         {
          "NAAM_N2K": "Biesbosch",
          "date": "2019-08-23T00:00:00",
          "median": 0.00016950755171508904
         },
         {
          "NAAM_N2K": "Waddenzee",
          "date": "2019-08-23T00:00:00",
          "median": 0.00010487558588161376
         },
         {
          "NAAM_N2K": "Rijntakken",
          "date": "2019-08-23T00:00:00",
          "median": 0.0001420741711582259
         },
         {
          "NAAM_N2K": "Weerribben",
          "date": "2019-08-23T00:00:00",
          "median": 0.00010408754183641056
         },
         {
          "NAAM_N2K": "Oosterschelde",
          "date": "2019-08-23T00:00:00",
          "median": 0.0001384038341443042
         },
         {
          "NAAM_N2K": "Veluwe",
          "date": "2019-08-25T00:00:00",
          "median": 0.00010328703545702298
         },
         {
          "NAAM_N2K": "Biesbosch",
          "date": "2019-08-25T00:00:00",
          "median": 0.00011892486201433837
         },
         {
          "NAAM_N2K": "Waddenzee",
          "date": "2019-08-25T00:00:00",
          "median": 9.339079249360691e-05
         },
         {
          "NAAM_N2K": "Rijntakken",
          "date": "2019-08-25T00:00:00",
          "median": 0.00010974534899234269
         },
         {
          "NAAM_N2K": "Weerribben",
          "date": "2019-08-25T00:00:00",
          "median": 0.00010368146462985805
         },
         {
          "NAAM_N2K": "Oosterschelde",
          "date": "2019-08-25T00:00:00",
          "median": 0.0001370892448483713
         },
         {
          "NAAM_N2K": "Veluwe",
          "date": "2019-08-27T00:00:00",
          "median": 0.00013762140503269758
         },
         {
          "NAAM_N2K": "Biesbosch",
          "date": "2019-08-27T00:00:00",
          "median": 0.00014399949791592465
         },
         {
          "NAAM_N2K": "Waddenzee",
          "date": "2019-08-27T00:00:00",
          "median": 0.00011051300092765607
         },
         {
          "NAAM_N2K": "Rijntakken",
          "date": "2019-08-27T00:00:00",
          "median": 0.0001303917478256338
         },
         {
          "NAAM_N2K": "Weerribben",
          "date": "2019-08-27T00:00:00",
          "median": 0.00012097345417123333
         },
         {
          "NAAM_N2K": "Oosterschelde",
          "date": "2019-08-27T00:00:00",
          "median": 0.00013954384592108077
         },
         {
          "NAAM_N2K": "Veluwe",
          "date": "2019-08-29T00:00:00",
          "median": 0.0001282397756298579
         },
         {
          "NAAM_N2K": "Biesbosch",
          "date": "2019-08-29T00:00:00",
          "median": 0.00011569050301069538
         },
         {
          "NAAM_N2K": "Waddenzee",
          "date": "2019-08-29T00:00:00",
          "median": 0.0001056829884340172
         },
         {
          "NAAM_N2K": "Rijntakken",
          "date": "2019-08-29T00:00:00",
          "median": 0.0001246583209498322
         },
         {
          "NAAM_N2K": "Weerribben",
          "date": "2019-08-29T00:00:00",
          "median": 0.00013201654562472874
         },
         {
          "NAAM_N2K": "Oosterschelde",
          "date": "2019-08-29T00:00:00",
          "median": 9.340991796423803e-05
         },
         {
          "NAAM_N2K": "Veluwe",
          "date": "2019-08-31T00:00:00",
          "median": 0.00010031288834761305
         },
         {
          "NAAM_N2K": "Biesbosch",
          "date": "2019-08-31T00:00:00",
          "median": 0.00010060285601626484
         },
         {
          "NAAM_N2K": "Waddenzee",
          "date": "2019-08-31T00:00:00",
          "median": 0.00010174407144397703
         },
         {
          "NAAM_N2K": "Rijntakken",
          "date": "2019-08-31T00:00:00",
          "median": 0.00010561089571476274
         },
         {
          "NAAM_N2K": "Weerribben",
          "date": "2019-08-31T00:00:00",
          "median": 0.000104447863119293
         },
         {
          "NAAM_N2K": "Oosterschelde",
          "date": "2019-08-31T00:00:00",
          "median": 8.118380160026215e-05
         },
         {
          "NAAM_N2K": "Veluwe",
          "date": "2019-09-02T00:00:00",
          "median": 0.0001069322440836842
         },
         {
          "NAAM_N2K": "Biesbosch",
          "date": "2019-09-02T00:00:00",
          "median": 9.308589323731996e-05
         },
         {
          "NAAM_N2K": "Waddenzee",
          "date": "2019-09-02T00:00:00",
          "median": 7.212688808816393e-05
         },
         {
          "NAAM_N2K": "Rijntakken",
          "date": "2019-09-02T00:00:00",
          "median": 0.00010358051355306925
         },
         {
          "NAAM_N2K": "Weerribben",
          "date": "2019-09-02T00:00:00",
          "median": 7.722990826027892e-05
         },
         {
          "NAAM_N2K": "Oosterschelde",
          "date": "2019-09-02T00:00:00",
          "median": 8.237981748972624e-05
         }
        ]
       },
       "facet": {
        "field": "NAAM_N2K",
        "title": "Troposferische stikstof over Natura2000 gebieden",
        "type": "nominal"
       },
       "spec": {
        "layer": [
         {
          "encoding": {
           "color": {
            "field": "NAAM_N2K",
            "legend": {
             "title": "Natura2000 gebied"
            },
            "type": "nominal"
           },
           "tooltip": [
            {
             "field": "date",
             "type": "temporal"
            },
            {
             "field": "NAAM_N2K",
             "type": "nominal"
            },
            {
             "field": "median",
             "format": ".4s",
             "type": "quantitative"
            }
           ],
           "x": {
            "field": "date",
            "type": "temporal"
           },
           "y": {
            "axis": {
             "format": ".0s"
            },
            "field": "median",
            "scale": {
             "domain": [
              0,
              0.0007
             ]
            },
            "title": "NO₂ mol/m²",
            "type": "quantitative"
           }
          },
          "height": 100,
          "mark": {
           "interpolate": "monotone",
           "type": "line"
          }
         },
         {
          "encoding": {
           "color": {
            "condition": {
             "selection": "selector033",
             "value": "black"
            },
            "value": "transparent"
           },
           "tooltip": [
            {
             "field": "date",
             "type": "temporal"
            },
            {
             "field": "NAAM_N2K",
             "type": "nominal"
            },
            {
             "field": "median",
             "format": ".4s",
             "type": "quantitative"
            }
           ],
           "x": {
            "field": "date",
            "type": "temporal"
           }
          },
          "mark": "rule",
          "selection": {
           "selector033": {
            "empty": "none",
            "nearest": true,
            "on": "mouseover",
            "type": "single"
           }
          }
         }
        ]
       }
      },
      "image/png": "[encoded data removed]",
      "text/plain": [
       "<VegaLite 3 object>\n",
       "\n",
       "If you see this message, it means the renderer has not been properly enabled\n",
       "for the frontend that you are using. For more information, see\n",
       "https://altair-viz.github.io/user_guide/troubleshooting.html\n"
      ]
     },
     "execution_count": 135,
     "metadata": {},
     "output_type": "execute_result"
    }
   ],
   "source": [
    "chart"
   ]
  },
  {
   "cell_type": "code",
   "execution_count": 136,
   "metadata": {},
   "outputs": [
    {
     "name": "stdout",
     "output_type": "stream",
     "text": [
      "entry available at:\n",
      "https://tsws.hkvservices.nl/mangrove.ws/data.ashx?function=dataportal.db.getdata&parameters={database:'hoek',key:'NL_N2K_NO2_TROPOMI'}&contentType=SET_BY_USER\n"
     ]
    }
   ],
   "source": [
    "dp.update_entry(\n",
    "    database='hoek',\n",
    "    key='NL_N2K_NO2_TROPOMI',\n",
    "    data=chart.to_html(),\n",
    "    description='Tweedagelijks aggregates NO2 voor Natura2000 gebieden'\n",
    ")"
   ]
  },
  {
   "cell_type": "code",
   "execution_count": 71,
   "metadata": {},
   "outputs": [
    {
     "data": {
      "application/vnd.vegalite.v3+json": {
       "$schema": "https://vega.github.io/schema/vega-lite/v3.4.0.json",
       "columns": 2,
       "config": {
        "mark": {
         "tooltip": null
        },
        "view": {
         "height": 300,
         "width": 400
        }
       },
       "data": {
        "name": "data-c5a8147ff7cea56a4c5d8b9a0afef431"
       },
       "datasets": {
        "data-c5a8147ff7cea56a4c5d8b9a0afef431": [
         {
          "NAAM_N2K": "Veluwe",
          "OBJECTID": 194,
          "date": "2018-07-01T00:00:00",
          "geometry": null,
          "id": "0_00000000000000000064",
          "max": 0.0001237084004752123,
          "median": 0.00011161139348034261,
          "min": 0.00010753358154006654
         },
         {
          "NAAM_N2K": "Biesbosch",
          "OBJECTID": 14,
          "date": "2018-07-01T00:00:00",
          "geometry": null,
          "id": "0_00000000000000000081",
          "max": 0.00012635448664390225,
          "median": 0.00012635448664390225,
          "min": 0.00012635448664390225
         },
         {
          "NAAM_N2K": "Waddenzee",
          "OBJECTID": 201,
          "date": "2018-07-01T00:00:00",
          "geometry": null,
          "id": "0_0000000000000000006b",
          "max": 9.469156958808135e-05,
          "median": 9.15520069201412e-05,
          "min": 9.15520069201412e-05
         },
         {
          "NAAM_N2K": "Rijntakken",
          "OBJECTID": 195,
          "date": "2018-07-01T00:00:00",
          "geometry": null,
          "id": "0_00000000000000000065",
          "max": 0.00012907053725693106,
          "median": 0.00011789058429797475,
          "min": 0.0001111069525171439
         },
         {
          "NAAM_N2K": "Weerribben",
          "OBJECTID": 200,
          "date": "2018-07-01T00:00:00",
          "geometry": null,
          "id": "0_0000000000000000006a",
          "max": 0.00010168349901004757,
          "median": 0.0001011887410349699,
          "min": 0.00010069398305989224
         },
         {
          "NAAM_N2K": "Oosterschelde",
          "OBJECTID": 123,
          "date": "2018-07-01T00:00:00",
          "geometry": null,
          "id": "0_0000000000000000001d",
          "max": 0.00013828558441318184,
          "median": 0.00012373462321791867,
          "min": 0.00011858967811686656
         },
         {
          "NAAM_N2K": "Veluwe",
          "OBJECTID": 194,
          "date": "2018-07-03T00:00:00",
          "geometry": null,
          "id": "1_00000000000000000064",
          "max": 0.00013082338923534975,
          "median": 0.00011568382025529885,
          "min": 0.00010127001747867797
         },
         {
          "NAAM_N2K": "Biesbosch",
          "OBJECTID": 14,
          "date": "2018-07-03T00:00:00",
          "geometry": null,
          "id": "1_00000000000000000081",
          "max": 0.00013320078697094602,
          "median": 0.00013320078697094602,
          "min": 0.00013320078697094602
         },
         {
          "NAAM_N2K": "Waddenzee",
          "OBJECTID": 201,
          "date": "2018-07-03T00:00:00",
          "geometry": null,
          "id": "1_0000000000000000006b",
          "max": 8.18460392905986e-05,
          "median": 7.898565144152334e-05,
          "min": 7.898565144152334e-05
         },
         {
          "NAAM_N2K": "Rijntakken",
          "OBJECTID": 195,
          "date": "2018-07-03T00:00:00",
          "geometry": null,
          "id": "1_00000000000000000065",
          "max": 0.0001393205317174513,
          "median": 0.00012297621590769137,
          "min": 0.00010407722505605238
         },
         {
          "NAAM_N2K": "Weerribben",
          "OBJECTID": 200,
          "date": "2018-07-03T00:00:00",
          "geometry": null,
          "id": "1_0000000000000000006a",
          "max": 0.00010033728515803034,
          "median": 9.997038812367417e-05,
          "min": 9.9603491089318e-05
         },
         {
          "NAAM_N2K": "Oosterschelde",
          "OBJECTID": 123,
          "date": "2018-07-03T00:00:00",
          "geometry": null,
          "id": "1_0000000000000000001d",
          "max": 0.0002192060215194523,
          "median": 0.00016635185054166696,
          "min": 0.00014517353867195943
         },
         {
          "NAAM_N2K": "Veluwe",
          "OBJECTID": 194,
          "date": "2018-07-05T00:00:00",
          "geometry": null,
          "id": "2_00000000000000000064",
          "max": 0.000125600467039696,
          "median": 9.843193239788421e-05,
          "min": 8.53683400193586e-05
         },
         {
          "NAAM_N2K": "Biesbosch",
          "OBJECTID": 14,
          "date": "2018-07-05T00:00:00",
          "geometry": null,
          "id": "2_00000000000000000081",
          "max": 0.0001630395394435171,
          "median": 0.0001630395394435171,
          "min": 0.0001630395394435171
         },
         {
          "NAAM_N2K": "Waddenzee",
          "OBJECTID": 201,
          "date": "2018-07-05T00:00:00",
          "geometry": null,
          "id": "2_0000000000000000006b",
          "max": 7.677233741243472e-05,
          "median": 7.677233741243472e-05,
          "min": 7.666981641831302e-05
         },
         {
          "NAAM_N2K": "Rijntakken",
          "OBJECTID": 195,
          "date": "2018-07-05T00:00:00",
          "geometry": null,
          "id": "2_00000000000000000065",
          "max": 0.00013956723008911568,
          "median": 0.00011943804634974105,
          "min": 8.53683400193586e-05
         },
         {
          "NAAM_N2K": "Weerribben",
          "OBJECTID": 200,
          "date": "2018-07-05T00:00:00",
          "geometry": null,
          "id": "2_0000000000000000006a",
          "max": 8.398666523693614e-05,
          "median": 8.37175800952942e-05,
          "min": 8.344849495365227e-05
         },
         {
          "NAAM_N2K": "Oosterschelde",
          "OBJECTID": 123,
          "date": "2018-07-05T00:00:00",
          "geometry": null,
          "id": "2_0000000000000000001d",
          "max": 0.00012906220968077593,
          "median": 0.00011097873462048258,
          "min": 9.511856759468259e-05
         },
         {
          "NAAM_N2K": "Veluwe",
          "OBJECTID": 194,
          "date": "2018-07-07T00:00:00",
          "geometry": null,
          "id": "3_00000000000000000064",
          "max": 9.836131787450758e-05,
          "median": 8.68503651852338e-05,
          "min": 8.530202791645833e-05
         },
         {
          "NAAM_N2K": "Biesbosch",
          "OBJECTID": 14,
          "date": "2018-07-07T00:00:00",
          "geometry": null,
          "id": "3_00000000000000000081",
          "max": 0.00011562699935430323,
          "median": 0.00011562699935430323,
          "min": 0.00011562699935430323
         },
         {
          "NAAM_N2K": "Waddenzee",
          "OBJECTID": 201,
          "date": "2018-07-07T00:00:00",
          "geometry": null,
          "id": "3_0000000000000000006b",
          "max": 8.520826048969964e-05,
          "median": 8.128590085676654e-05,
          "min": 8.128590085676654e-05
         },
         {
          "NAAM_N2K": "Rijntakken",
          "OBJECTID": 195,
          "date": "2018-07-07T00:00:00",
          "geometry": null,
          "id": "3_00000000000000000065",
          "max": 0.00011356067720031409,
          "median": 9.704173727858524e-05,
          "min": 8.804451244788094e-05
         },
         {
          "NAAM_N2K": "Weerribben",
          "OBJECTID": 200,
          "date": "2018-07-07T00:00:00",
          "geometry": null,
          "id": "3_0000000000000000006a",
          "max": 8.521956806522424e-05,
          "median": 8.511181289243005e-05,
          "min": 8.500405771963586e-05
         },
         {
          "NAAM_N2K": "Oosterschelde",
          "OBJECTID": 123,
          "date": "2018-07-07T00:00:00",
          "geometry": null,
          "id": "3_0000000000000000001d",
          "max": 0.0001383756577527102,
          "median": 0.0001282653064546714,
          "min": 0.00010787997575187078
         },
         {
          "NAAM_N2K": "Veluwe",
          "OBJECTID": 194,
          "date": "2018-07-09T00:00:00",
          "geometry": null,
          "id": "4_00000000000000000064",
          "max": 0.00012275211623350303,
          "median": 0.00010696938232467569,
          "min": 8.757228713123199e-05
         },
         {
          "NAAM_N2K": "Biesbosch",
          "OBJECTID": 14,
          "date": "2018-07-09T00:00:00",
          "geometry": null,
          "id": "4_00000000000000000081",
          "max": 0.00010836221658606789,
          "median": 0.00010836221658606789,
          "min": 0.00010836221658606789
         },
         {
          "NAAM_N2K": "Waddenzee",
          "OBJECTID": 201,
          "date": "2018-07-09T00:00:00",
          "geometry": null,
          "id": "4_0000000000000000006b",
          "max": 9.166414079020676e-05,
          "median": 8.934863333927723e-05,
          "min": 8.934863333927723e-05
         },
         {
          "NAAM_N2K": "Rijntakken",
          "OBJECTID": 195,
          "date": "2018-07-09T00:00:00",
          "geometry": null,
          "id": "4_00000000000000000065",
          "max": 0.00012275211623350303,
          "median": 0.00011183870982995836,
          "min": 9.745588688857923e-05
         },
         {
          "NAAM_N2K": "Weerribben",
          "OBJECTID": 200,
          "date": "2018-07-09T00:00:00",
          "geometry": null,
          "id": "4_0000000000000000006a",
          "max": 8.889482796211767e-05,
          "median": 8.792886397829546e-05,
          "min": 8.696289999447326e-05
         },
         {
          "NAAM_N2K": "Oosterschelde",
          "OBJECTID": 123,
          "date": "2018-07-09T00:00:00",
          "geometry": null,
          "id": "4_0000000000000000001d",
          "max": 0.0001374728873459536,
          "median": 9.586138894658898e-05,
          "min": 7.845807748130371e-05
         },
         {
          "NAAM_N2K": "Veluwe",
          "OBJECTID": 194,
          "date": "2018-07-11T00:00:00",
          "geometry": null,
          "id": "5_00000000000000000064",
          "max": 0.00012106627234474605,
          "median": 0.0001114028858183378,
          "min": 9.506172525700536e-05
         },
         {
          "NAAM_N2K": "Biesbosch",
          "OBJECTID": 14,
          "date": "2018-07-11T00:00:00",
          "geometry": null,
          "id": "5_00000000000000000081",
          "max": 0.0001203004424964577,
          "median": 0.0001203004424964577,
          "min": 0.0001203004424964577
         },
         {
          "NAAM_N2K": "Waddenzee",
          "OBJECTID": 201,
          "date": "2018-07-11T00:00:00",
          "geometry": null,
          "id": "5_0000000000000000006b",
          "max": 9.888517300541704e-05,
          "median": 8.963411935869603e-05,
          "min": 8.963411935869603e-05
         },
         {
          "NAAM_N2K": "Rijntakken",
          "OBJECTID": 195,
          "date": "2018-07-11T00:00:00",
          "geometry": null,
          "id": "5_00000000000000000065",
          "max": 0.00012559550946163222,
          "median": 0.0001133489871103604,
          "min": 0.00010365232366821089
         },
         {
          "NAAM_N2K": "Weerribben",
          "OBJECTID": 200,
          "date": "2018-07-11T00:00:00",
          "geometry": null,
          "id": "5_0000000000000000006a",
          "max": 9.590001632960608e-05,
          "median": 9.388573656069265e-05,
          "min": 9.187145679177921e-05
         },
         {
          "NAAM_N2K": "Oosterschelde",
          "OBJECTID": 123,
          "date": "2018-07-11T00:00:00",
          "geometry": null,
          "id": "5_0000000000000000001d",
          "max": 0.0001363777233104205,
          "median": 9.448359251267031e-05,
          "min": 8.726242014688334e-05
         },
         {
          "NAAM_N2K": "Veluwe",
          "OBJECTID": 194,
          "date": "2018-07-13T00:00:00",
          "geometry": null,
          "id": "6_00000000000000000064",
          "max": 0.00011711390967782855,
          "median": 9.883617246628892e-05,
          "min": 9.192678579579257e-05
         },
         {
          "NAAM_N2K": "Biesbosch",
          "OBJECTID": 14,
          "date": "2018-07-13T00:00:00",
          "geometry": null,
          "id": "6_00000000000000000081",
          "max": 0.00013926055760962546,
          "median": 0.00013926055760962546,
          "min": 0.00013926055760962546
         },
         {
          "NAAM_N2K": "Waddenzee",
          "OBJECTID": 201,
          "date": "2018-07-13T00:00:00",
          "geometry": null,
          "id": "6_0000000000000000006b",
          "max": 8.04061200635224e-05,
          "median": 7.496213268996763e-05,
          "min": 7.496213268996763e-05
         },
         {
          "NAAM_N2K": "Rijntakken",
          "OBJECTID": 195,
          "date": "2018-07-13T00:00:00",
          "geometry": null,
          "id": "6_00000000000000000065",
          "max": 0.00011711390967782855,
          "median": 0.00010616246287724674,
          "min": 9.417031622945752e-05
         },
         {
          "NAAM_N2K": "Weerribben",
          "OBJECTID": 200,
          "date": "2018-07-13T00:00:00",
          "geometry": null,
          "id": "6_0000000000000000006a",
          "max": 8.989445690120389e-05,
          "median": 8.784726841583222e-05,
          "min": 8.580007993046055e-05
         },
         {
          "NAAM_N2K": "Oosterschelde",
          "OBJECTID": 123,
          "date": "2018-07-13T00:00:00",
          "geometry": null,
          "id": "6_0000000000000000001d",
          "max": 0.00016024177015678073,
          "median": 0.0001392381782231563,
          "min": 0.00010386452705688827
         },
         {
          "NAAM_N2K": "Veluwe",
          "OBJECTID": 194,
          "date": "2018-07-15T00:00:00",
          "geometry": null,
          "id": "7_00000000000000000064",
          "max": 0.00011590677892687642,
          "median": 0.00010394118794623425,
          "min": 0.00010173855194466138
         },
         {
          "NAAM_N2K": "Biesbosch",
          "OBJECTID": 14,
          "date": "2018-07-15T00:00:00",
          "geometry": null,
          "id": "7_00000000000000000081",
          "max": 0.00012160296291305529,
          "median": 0.00012160296291305529,
          "min": 0.00012160296291305529
         },
         {
          "NAAM_N2K": "Waddenzee",
          "OBJECTID": 201,
          "date": "2018-07-15T00:00:00",
          "geometry": null,
          "id": "7_0000000000000000006b",
          "max": 0.00010746705660137203,
          "median": 0.00010675310012968144,
          "min": 0.00010675310012968144
         },
         {
          "NAAM_N2K": "Rijntakken",
          "OBJECTID": 195,
          "date": "2018-07-15T00:00:00",
          "geometry": null,
          "id": "7_00000000000000000065",
          "max": 0.00011738352372970881,
          "median": 0.00011349819491716841,
          "min": 0.0001051430160198764
         },
         {
          "NAAM_N2K": "Weerribben",
          "OBJECTID": 200,
          "date": "2018-07-15T00:00:00",
          "geometry": null,
          "id": "7_0000000000000000006a",
          "max": 0.00010461320180315716,
          "median": 0.00010265235502741611,
          "min": 0.00010069150825167506
         },
         {
          "NAAM_N2K": "Oosterschelde",
          "OBJECTID": 123,
          "date": "2018-07-15T00:00:00",
          "geometry": null,
          "id": "7_0000000000000000001d",
          "max": 0.00016947511481983098,
          "median": 0.00011896938947597264,
          "min": 0.00011896938947597264
         },
         {
          "NAAM_N2K": "Veluwe",
          "OBJECTID": 194,
          "date": "2018-07-17T00:00:00",
          "geometry": null,
          "id": "8_00000000000000000064",
          "max": 0.00016601526529611498,
          "median": 0.0001355458362810636,
          "min": 0.00012798439502990306
         },
         {
          "NAAM_N2K": "Biesbosch",
          "OBJECTID": 14,
          "date": "2018-07-17T00:00:00",
          "geometry": null,
          "id": "8_00000000000000000081",
          "max": 0.00014015098986869018,
          "median": 0.00014015098986869018,
          "min": 0.00014015098986869018
         },
         {
          "NAAM_N2K": "Waddenzee",
          "OBJECTID": 201,
          "date": "2018-07-17T00:00:00",
          "geometry": null,
          "id": "8_0000000000000000006b",
          "max": 9.37052817137234e-05,
          "median": 9.161010586315463e-05,
          "min": 9.161010586315463e-05
         },
         {
          "NAAM_N2K": "Rijntakken",
          "OBJECTID": 195,
          "date": "2018-07-17T00:00:00",
          "geometry": null,
          "id": "8_00000000000000000065",
          "max": 0.00014149283817595102,
          "median": 0.00013057192621627393,
          "min": 0.00011460702283523739
         },
         {
          "NAAM_N2K": "Weerribben",
          "OBJECTID": 200,
          "date": "2018-07-17T00:00:00",
          "geometry": null,
          "id": "8_0000000000000000006a",
          "max": 0.00011725816267182303,
          "median": 0.0001149795973003382,
          "min": 0.00011270103192885336
         },
         {
          "NAAM_N2K": "Oosterschelde",
          "OBJECTID": 123,
          "date": "2018-07-17T00:00:00",
          "geometry": null,
          "id": "8_0000000000000000001d",
          "max": 0.0001511836867818683,
          "median": 0.00011162724961822536,
          "min": 0.00010764915399200852
         },
         {
          "NAAM_N2K": "Veluwe",
          "OBJECTID": 194,
          "date": "2018-07-19T00:00:00",
          "geometry": null,
          "id": "9_00000000000000000064",
          "max": 0.00016439800150822058,
          "median": 0.00013471694595203342,
          "min": 0.00011536348031110484
         },
         {
          "NAAM_N2K": "Biesbosch",
          "OBJECTID": 14,
          "date": "2018-07-19T00:00:00",
          "geometry": null,
          "id": "9_00000000000000000081",
          "max": 0.00018524560711459352,
          "median": 0.00018524560711459352,
          "min": 0.00018524560711459352
         },
         {
          "NAAM_N2K": "Waddenzee",
          "OBJECTID": 201,
          "date": "2018-07-19T00:00:00",
          "geometry": null,
          "id": "9_0000000000000000006b",
          "max": 0.0001021888017469304,
          "median": 0.00010133762119893532,
          "min": 0.00010133762119893532
         },
         {
          "NAAM_N2K": "Rijntakken",
          "OBJECTID": 195,
          "date": "2018-07-19T00:00:00",
          "geometry": null,
          "id": "9_00000000000000000065",
          "max": 0.0001686293519903279,
          "median": 0.000153573508523177,
          "min": 0.00013471694595203342
         },
         {
          "NAAM_N2K": "Weerribben",
          "OBJECTID": 200,
          "date": "2018-07-19T00:00:00",
          "geometry": null,
          "id": "9_0000000000000000006a",
          "max": 0.00014163631932231284,
          "median": 0.0001311709468182744,
          "min": 0.00012070557431423594
         },
         {
          "NAAM_N2K": "Oosterschelde",
          "OBJECTID": 123,
          "date": "2018-07-19T00:00:00",
          "geometry": null,
          "id": "9_0000000000000000001d",
          "max": 0.00022170619181597964,
          "median": 0.00014087828011662381,
          "min": 0.00010106988569614974
         },
         {
          "NAAM_N2K": "Veluwe",
          "OBJECTID": 194,
          "date": "2018-07-21T00:00:00",
          "geometry": null,
          "id": "10_00000000000000000064",
          "max": 0.00012846021479777896,
          "median": 0.0001189529485863596,
          "min": 0.0001129754947355884
         },
         {
          "NAAM_N2K": "Biesbosch",
          "OBJECTID": 14,
          "date": "2018-07-21T00:00:00",
          "geometry": null,
          "id": "10_00000000000000000081",
          "max": 0.0001381715475231698,
          "median": 0.0001381715475231698,
          "min": 0.0001381715475231698
         },
         {
          "NAAM_N2K": "Waddenzee",
          "OBJECTID": 201,
          "date": "2018-07-21T00:00:00",
          "geometry": null,
          "id": "10_0000000000000000006b",
          "max": 0.00010783895259099664,
          "median": 0.00010783895259099664,
          "min": 0.00010748971211947932
         },
         {
          "NAAM_N2K": "Rijntakken",
          "OBJECTID": 195,
          "date": "2018-07-21T00:00:00",
          "geometry": null,
          "id": "10_00000000000000000065",
          "max": 0.0001306285646045354,
          "median": 0.00012002693867936425,
          "min": 0.00011980967731803406
         },
         {
          "NAAM_N2K": "Weerribben",
          "OBJECTID": 200,
          "date": "2018-07-21T00:00:00",
          "geometry": null,
          "id": "10_0000000000000000006a",
          "max": 0.00011009094934476596,
          "median": 0.00010886742297379096,
          "min": 0.00010764389660281597
         },
         {
          "NAAM_N2K": "Oosterschelde",
          "OBJECTID": 123,
          "date": "2018-07-21T00:00:00",
          "geometry": null,
          "id": "10_0000000000000000001d",
          "max": 0.00013436787738334982,
          "median": 0.00011752500339473642,
          "min": 0.00010210237298132214
         },
         {
          "NAAM_N2K": "Veluwe",
          "OBJECTID": 194,
          "date": "2018-07-23T00:00:00",
          "geometry": null,
          "id": "11_00000000000000000064",
          "max": 0.00013244393938686516,
          "median": 0.00011961796895680546,
          "min": 0.00010565545980060157
         },
         {
          "NAAM_N2K": "Biesbosch",
          "OBJECTID": 14,
          "date": "2018-07-23T00:00:00",
          "geometry": null,
          "id": "11_00000000000000000081",
          "max": 0.00020891870231696375,
          "median": 0.00020891870231696375,
          "min": 0.00020891870231696375
         },
         {
          "NAAM_N2K": "Waddenzee",
          "OBJECTID": 201,
          "date": "2018-07-23T00:00:00",
          "geometry": null,
          "id": "11_0000000000000000006b",
          "max": 0.0001032214046084332,
          "median": 9.152024842033426e-05,
          "min": 9.152024842033426e-05
         },
         {
          "NAAM_N2K": "Rijntakken",
          "OBJECTID": 195,
          "date": "2018-07-23T00:00:00",
          "geometry": null,
          "id": "11_00000000000000000065",
          "max": 0.00012661876155720285,
          "median": 0.00012090579641979435,
          "min": 0.0001087387577314445
         },
         {
          "NAAM_N2K": "Weerribben",
          "OBJECTID": 200,
          "date": "2018-07-23T00:00:00",
          "geometry": null,
          "id": "11_0000000000000000006a",
          "max": 9.863342625547502e-05,
          "median": 9.795003524133781e-05,
          "min": 9.72666442272006e-05
         },
         {
          "NAAM_N2K": "Oosterschelde",
          "OBJECTID": 123,
          "date": "2018-07-23T00:00:00",
          "geometry": null,
          "id": "11_0000000000000000001d",
          "max": 0.00018361983965905576,
          "median": 0.00010838155039724569,
          "min": 0.00010020404900878534
         },
         {
          "NAAM_N2K": "Veluwe",
          "OBJECTID": 194,
          "date": "2018-07-25T00:00:00",
          "geometry": null,
          "id": "12_00000000000000000064",
          "max": 0.0001293522854210137,
          "median": 0.0001034995338613825,
          "min": 9.945573388422035e-05
         },
         {
          "NAAM_N2K": "Biesbosch",
          "OBJECTID": 14,
          "date": "2018-07-25T00:00:00",
          "geometry": null,
          "id": "12_00000000000000000081",
          "max": 0.00014680965214793588,
          "median": 0.00014680965214793588,
          "min": 0.00014680965214793588
         },
         {
          "NAAM_N2K": "Waddenzee",
          "OBJECTID": 201,
          "date": "2018-07-25T00:00:00",
          "geometry": null,
          "id": "12_0000000000000000006b",
          "max": 9.645073965227737e-05,
          "median": 9.601623494519939e-05,
          "min": 9.601623494519939e-05
         },
         {
          "NAAM_N2K": "Rijntakken",
          "OBJECTID": 195,
          "date": "2018-07-25T00:00:00",
          "geometry": null,
          "id": "12_00000000000000000065",
          "max": 0.0001393369497750348,
          "median": 0.0001293522854210137,
          "min": 9.945573388422035e-05
         },
         {
          "NAAM_N2K": "Weerribben",
          "OBJECTID": 200,
          "date": "2018-07-25T00:00:00",
          "geometry": null,
          "id": "12_0000000000000000006a",
          "max": 0.00010150021135725937,
          "median": 0.00010087079396110215,
          "min": 0.00010024137656494492
         },
         {
          "NAAM_N2K": "Oosterschelde",
          "OBJECTID": 123,
          "date": "2018-07-25T00:00:00",
          "geometry": null,
          "id": "12_0000000000000000001d",
          "max": 0.00022594877968509843,
          "median": 0.0001587116875163094,
          "min": 0.00015121029422971455
         },
         {
          "NAAM_N2K": "Veluwe",
          "OBJECTID": 194,
          "date": "2018-07-27T00:00:00",
          "geometry": null,
          "id": "13_00000000000000000064",
          "max": 0.00014351480946712454,
          "median": 0.00011906213104940933,
          "min": 0.00010620434627264672
         },
         {
          "NAAM_N2K": "Biesbosch",
          "OBJECTID": 14,
          "date": "2018-07-27T00:00:00",
          "geometry": null,
          "id": "13_00000000000000000081",
          "max": 0.00013181737361883173,
          "median": 0.00013181737361883173,
          "min": 0.00013181737361883173
         },
         {
          "NAAM_N2K": "Waddenzee",
          "OBJECTID": 201,
          "date": "2018-07-27T00:00:00",
          "geometry": null,
          "id": "13_0000000000000000006b",
          "max": 0.00011862834520333539,
          "median": 0.00011252010876544606,
          "min": 0.00011252010876544606
         },
         {
          "NAAM_N2K": "Rijntakken",
          "OBJECTID": 195,
          "date": "2018-07-27T00:00:00",
          "geometry": null,
          "id": "13_00000000000000000065",
          "max": 0.00014216378703470545,
          "median": 0.00012386800389490254,
          "min": 0.00011906213104940933
         },
         {
          "NAAM_N2K": "Weerribben",
          "OBJECTID": 200,
          "date": "2018-07-27T00:00:00",
          "geometry": null,
          "id": "13_0000000000000000006a",
          "max": 0.00012741145630873281,
          "median": 0.00012717082868743537,
          "min": 0.00012693020106613795
         },
         {
          "NAAM_N2K": "Oosterschelde",
          "OBJECTID": 123,
          "date": "2018-07-27T00:00:00",
          "geometry": null,
          "id": "13_0000000000000000001d",
          "max": 0.00012628233592356947,
          "median": 0.00010370080033723896,
          "min": 9.70448387589557e-05
         },
         {
          "NAAM_N2K": "Veluwe",
          "OBJECTID": 194,
          "date": "2018-07-29T00:00:00",
          "geometry": null,
          "id": "14_00000000000000000064",
          "max": 0.00013381928034357613,
          "median": 0.00010543810858645858,
          "min": 0.00010107266974543442
         },
         {
          "NAAM_N2K": "Biesbosch",
          "OBJECTID": 14,
          "date": "2018-07-29T00:00:00",
          "geometry": null,
          "id": "14_00000000000000000081",
          "max": 0.0001445233358010909,
          "median": 0.0001445233358010909,
          "min": 0.0001445233358010909
         },
         {
          "NAAM_N2K": "Waddenzee",
          "OBJECTID": 201,
          "date": "2018-07-29T00:00:00",
          "geometry": null,
          "id": "14_0000000000000000006b",
          "max": 9.344045441158032e-05,
          "median": 8.9209200190273e-05,
          "min": 8.9209200190273e-05
         },
         {
          "NAAM_N2K": "Rijntakken",
          "OBJECTID": 195,
          "date": "2018-07-29T00:00:00",
          "geometry": null,
          "id": "14_00000000000000000065",
          "max": 0.00013381928034357613,
          "median": 0.0001065431244042259,
          "min": 0.00010271322760220704
         },
         {
          "NAAM_N2K": "Weerribben",
          "OBJECTID": 200,
          "date": "2018-07-29T00:00:00",
          "geometry": null,
          "id": "14_0000000000000000006a",
          "max": 0.00011361809469818699,
          "median": 0.00010982279263635738,
          "min": 0.00010602749057452776
         },
         {
          "NAAM_N2K": "Oosterschelde",
          "OBJECTID": 123,
          "date": "2018-07-29T00:00:00",
          "geometry": null,
          "id": "14_0000000000000000001d",
          "max": 0.00015353111841650093,
          "median": 0.00014155601864386812,
          "min": 0.0001285195476569291
         },
         {
          "NAAM_N2K": "Veluwe",
          "OBJECTID": 194,
          "date": "2018-07-31T00:00:00",
          "geometry": null,
          "id": "15_00000000000000000064",
          "max": 0.00014245008650745216,
          "median": 0.00012522980107025066,
          "min": 0.00011982521594099764
         },
         {
          "NAAM_N2K": "Biesbosch",
          "OBJECTID": 14,
          "date": "2018-07-31T00:00:00",
          "geometry": null,
          "id": "15_00000000000000000081",
          "max": 0.0001297020982720616,
          "median": 0.0001297020982720616,
          "min": 0.0001297020982720616
         },
         {
          "NAAM_N2K": "Waddenzee",
          "OBJECTID": 201,
          "date": "2018-07-31T00:00:00",
          "geometry": null,
          "id": "15_0000000000000000006b",
          "max": 0.00010719123326089484,
          "median": 0.00010719123326089484,
          "min": 0.0001041875927255306
         },
         {
          "NAAM_N2K": "Rijntakken",
          "OBJECTID": 195,
          "date": "2018-07-31T00:00:00",
          "geometry": null,
          "id": "15_00000000000000000065",
          "max": 0.00014245008650745216,
          "median": 0.00012573758702367707,
          "min": 0.00011690423259471914
         },
         {
          "NAAM_N2K": "Weerribben",
          "OBJECTID": 200,
          "date": "2018-07-31T00:00:00",
          "geometry": null,
          "id": "15_0000000000000000006a",
          "max": 0.00012604497541055028,
          "median": 0.00011859428757501886,
          "min": 0.00011114359973948743
         },
         {
          "NAAM_N2K": "Oosterschelde",
          "OBJECTID": 123,
          "date": "2018-07-31T00:00:00",
          "geometry": null,
          "id": "15_0000000000000000001d",
          "max": 0.0001287746102313157,
          "median": 0.00010271029119516813,
          "min": 8.976596478731421e-05
         },
         {
          "NAAM_N2K": "Veluwe",
          "OBJECTID": 194,
          "date": "2018-08-02T00:00:00",
          "geometry": null,
          "id": "16_00000000000000000064",
          "max": 0.00012582151236786317,
          "median": 0.00011601912344020924,
          "min": 0.00010477272162643276
         },
         {
          "NAAM_N2K": "Biesbosch",
          "OBJECTID": 14,
          "date": "2018-08-02T00:00:00",
          "geometry": null,
          "id": "16_00000000000000000081",
          "max": 0.00014426094157596377,
          "median": 0.00014426094157596377,
          "min": 0.00014426094157596377
         },
         {
          "NAAM_N2K": "Waddenzee",
          "OBJECTID": 201,
          "date": "2018-08-02T00:00:00",
          "geometry": null,
          "id": "16_0000000000000000006b",
          "max": 0.00010001636178199703,
          "median": 9.358957026133602e-05,
          "min": 9.358957026133602e-05
         },
         {
          "NAAM_N2K": "Rijntakken",
          "OBJECTID": 195,
          "date": "2018-08-02T00:00:00",
          "geometry": null,
          "id": "16_00000000000000000065",
          "max": 0.00012582151236786317,
          "median": 0.00011588795581286712,
          "min": 0.00010477272162643276
         },
         {
          "NAAM_N2K": "Weerribben",
          "OBJECTID": 200,
          "date": "2018-08-02T00:00:00",
          "geometry": null,
          "id": "16_0000000000000000006a",
          "max": 9.994048360663905e-05,
          "median": 9.905131415544662e-05,
          "min": 9.81621447042542e-05
         },
         {
          "NAAM_N2K": "Oosterschelde",
          "OBJECTID": 123,
          "date": "2018-08-02T00:00:00",
          "geometry": null,
          "id": "16_0000000000000000001d",
          "max": 0.00018633580213929876,
          "median": 0.000135225733914103,
          "min": 0.00010852489163332556
         },
         {
          "NAAM_N2K": "Veluwe",
          "OBJECTID": 194,
          "date": "2018-08-04T00:00:00",
          "geometry": null,
          "id": "17_00000000000000000064",
          "max": 0.00010096679007755101,
          "median": 9.118677348710079e-05,
          "min": 8.671166951387518e-05
         },
         {
          "NAAM_N2K": "Biesbosch",
          "OBJECTID": 14,
          "date": "2018-08-04T00:00:00",
          "geometry": null,
          "id": "17_00000000000000000081",
          "max": 0.00011162491809990051,
          "median": 0.00011162491809990051,
          "min": 0.00011162491809990051
         },
         {
          "NAAM_N2K": "Waddenzee",
          "OBJECTID": 201,
          "date": "2018-08-04T00:00:00",
          "geometry": null,
          "id": "17_0000000000000000006b",
          "max": 8.235474576625447e-05,
          "median": 8.033218703518762e-05,
          "min": 8.033218703518762e-05
         },
         {
          "NAAM_N2K": "Rijntakken",
          "OBJECTID": 195,
          "date": "2018-08-04T00:00:00",
          "geometry": null,
          "id": "17_00000000000000000065",
          "max": 0.00010105237610915633,
          "median": 9.56553842260841e-05,
          "min": 8.914049647846094e-05
         },
         {
          "NAAM_N2K": "Weerribben",
          "OBJECTID": 200,
          "date": "2018-08-04T00:00:00",
          "geometry": null,
          "id": "17_0000000000000000006a",
          "max": 9.236477593989795e-05,
          "median": 8.850182612694986e-05,
          "min": 8.463887631400178e-05
         },
         {
          "NAAM_N2K": "Oosterschelde",
          "OBJECTID": 123,
          "date": "2018-08-04T00:00:00",
          "geometry": null,
          "id": "17_0000000000000000001d",
          "max": 0.00013036921539807538,
          "median": 0.00013036921539807538,
          "min": 9.87984121276871e-05
         },
         {
          "NAAM_N2K": "Veluwe",
          "OBJECTID": 194,
          "date": "2018-08-06T00:00:00",
          "geometry": null,
          "id": "18_00000000000000000064",
          "max": 0.00017848749782659772,
          "median": 0.00015163992169655747,
          "min": 0.00013976667717570802
         },
         {
          "NAAM_N2K": "Biesbosch",
          "OBJECTID": 14,
          "date": "2018-08-06T00:00:00",
          "geometry": null,
          "id": "18_00000000000000000081",
          "max": 0.00014968781201057403,
          "median": 0.00014968781201057403,
          "min": 0.00014968781201057403
         },
         {
          "NAAM_N2K": "Waddenzee",
          "OBJECTID": 201,
          "date": "2018-08-06T00:00:00",
          "geometry": null,
          "id": "18_0000000000000000006b",
          "max": 0.00011912005735295306,
          "median": 0.0001026757510713251,
          "min": 0.0001026757510713251
         },
         {
          "NAAM_N2K": "Rijntakken",
          "OBJECTID": 195,
          "date": "2018-08-06T00:00:00",
          "geometry": null,
          "id": "18_00000000000000000065",
          "max": 0.0001644799690633145,
          "median": 0.00015395670656577967,
          "min": 0.00013528659138493292
         },
         {
          "NAAM_N2K": "Weerribben",
          "OBJECTID": 200,
          "date": "2018-08-06T00:00:00",
          "geometry": null,
          "id": "18_0000000000000000006a",
          "max": 0.00012882317655578214,
          "median": 0.0001258880013451402,
          "min": 0.00012295282613449828
         },
         {
          "NAAM_N2K": "Oosterschelde",
          "OBJECTID": 123,
          "date": "2018-08-06T00:00:00",
          "geometry": null,
          "id": "18_0000000000000000001d",
          "max": 0.0002666083732181573,
          "median": 0.00015568685633569808,
          "min": 0.00013155284168289455
         },
         {
          "NAAM_N2K": "Veluwe",
          "OBJECTID": 194,
          "date": "2018-08-08T00:00:00",
          "geometry": null,
          "id": "19_00000000000000000064",
          "max": 0.00027787757542430255,
          "median": 0.00018665705292716947,
          "min": 0.00012675963579838806
         },
         {
          "NAAM_N2K": "Biesbosch",
          "OBJECTID": 14,
          "date": "2018-08-08T00:00:00",
          "geometry": null,
          "id": "19_00000000000000000081",
          "max": 0.00010080445429454518,
          "median": 0.00010080445429454518,
          "min": 0.00010080445429454518
         },
         {
          "NAAM_N2K": "Waddenzee",
          "OBJECTID": 201,
          "date": "2018-08-08T00:00:00",
          "geometry": null,
          "id": "19_0000000000000000006b",
          "max": 0.00012965800779312668,
          "median": 0.00011383387522746583,
          "min": 0.00011383387522746583
         },
         {
          "NAAM_N2K": "Rijntakken",
          "OBJECTID": 195,
          "date": "2018-08-08T00:00:00",
          "geometry": null,
          "id": "19_00000000000000000065",
          "max": 0.00032866450134270113,
          "median": 0.00021288910104360275,
          "min": 0.00012675963579838806
         },
         {
          "NAAM_N2K": "Weerribben",
          "OBJECTID": 200,
          "date": "2018-08-08T00:00:00",
          "geometry": null,
          "id": "19_0000000000000000006a",
          "max": 0.00015650260292492647,
          "median": 0.00014927091969021823,
          "min": 0.00014203923645550998
         },
         {
          "NAAM_N2K": "Oosterschelde",
          "OBJECTID": 123,
          "date": "2018-08-08T00:00:00",
          "geometry": null,
          "id": "19_0000000000000000001d",
          "max": 0.0001338961630140857,
          "median": 9.593369229196557e-05,
          "min": 9.435632487633042e-05
         },
         {
          "NAAM_N2K": "Veluwe",
          "OBJECTID": 194,
          "date": "2018-08-10T00:00:00",
          "geometry": null,
          "id": "20_00000000000000000064",
          "max": 0.00014778328392381303,
          "median": 0.00011569148710558826,
          "min": 9.100301230123608e-05
         },
         {
          "NAAM_N2K": "Biesbosch",
          "OBJECTID": 14,
          "date": "2018-08-10T00:00:00",
          "geometry": null,
          "id": "20_00000000000000000081",
          "max": 0.0001109282944410809,
          "median": 0.0001109282944410809,
          "min": 0.0001109282944410809
         },
         {
          "NAAM_N2K": "Waddenzee",
          "OBJECTID": 201,
          "date": "2018-08-10T00:00:00",
          "geometry": null,
          "id": "20_0000000000000000006b",
          "max": 0.00015895017120770867,
          "median": 0.00015895017120770867,
          "min": 0.00014617188911875015
         },
         {
          "NAAM_N2K": "Rijntakken",
          "OBJECTID": 195,
          "date": "2018-08-10T00:00:00",
          "geometry": null,
          "id": "20_00000000000000000065",
          "max": 0.00014778328392381303,
          "median": 0.00010899817794630716,
          "min": 9.100301230123608e-05
         },
         {
          "NAAM_N2K": "Weerribben",
          "OBJECTID": 200,
          "date": "2018-08-10T00:00:00",
          "geometry": null,
          "id": "20_0000000000000000006a",
          "max": 0.00013245971308070264,
          "median": 0.00012786334314444648,
          "min": 0.00012326697320819035
         },
         {
          "NAAM_N2K": "Oosterschelde",
          "OBJECTID": 123,
          "date": "2018-08-10T00:00:00",
          "geometry": null,
          "id": "20_0000000000000000001d",
          "max": 0.00010113531247089936,
          "median": 8.587314892074676e-05,
          "min": 8.587314892074676e-05
         },
         {
          "NAAM_N2K": "Veluwe",
          "OBJECTID": 194,
          "date": "2018-08-12T00:00:00",
          "geometry": null,
          "id": "21_00000000000000000064",
          "max": 0.00016649800372884734,
          "median": 0.00013248408009070803,
          "min": 0.0001300829467935808
         },
         {
          "NAAM_N2K": "Biesbosch",
          "OBJECTID": 14,
          "date": "2018-08-12T00:00:00",
          "geometry": null,
          "id": "21_00000000000000000081",
          "max": 0.00013526495198136075,
          "median": 0.00013526495198136075,
          "min": 0.00013526495198136075
         },
         {
          "NAAM_N2K": "Waddenzee",
          "OBJECTID": 201,
          "date": "2018-08-12T00:00:00",
          "geometry": null,
          "id": "21_0000000000000000006b",
          "max": 0.00017797957359053196,
          "median": 0.00017554376056304392,
          "min": 0.00017554376056304392
         },
         {
          "NAAM_N2K": "Rijntakken",
          "OBJECTID": 195,
          "date": "2018-08-12T00:00:00",
          "geometry": null,
          "id": "21_00000000000000000065",
          "max": 0.00016908263813197104,
          "median": 0.00013679345218925277,
          "min": 0.00013248408009070803
         },
         {
          "NAAM_N2K": "Weerribben",
          "OBJECTID": 200,
          "date": "2018-08-12T00:00:00",
          "geometry": null,
          "id": "21_0000000000000000006a",
          "max": 0.00016378714395904156,
          "median": 0.00015823479048920517,
          "min": 0.00015268243701936876
         },
         {
          "NAAM_N2K": "Oosterschelde",
          "OBJECTID": 123,
          "date": "2018-08-12T00:00:00",
          "geometry": null,
          "id": "21_0000000000000000001d",
          "max": 0.00010881677822269994,
          "median": 9.954682816443502e-05,
          "min": 9.57591331312205e-05
         },
         {
          "NAAM_N2K": "Veluwe",
          "OBJECTID": 194,
          "date": "2018-08-14T00:00:00",
          "geometry": null,
          "id": "22_00000000000000000064",
          "max": 0.00010747119860727571,
          "median": 0.00010066593318221303,
          "min": 9.614765842430482e-05
         },
         {
          "NAAM_N2K": "Biesbosch",
          "OBJECTID": 14,
          "date": "2018-08-14T00:00:00",
          "geometry": null,
          "id": "22_00000000000000000081",
          "max": 8.692522029324987e-05,
          "median": 8.692522029324987e-05,
          "min": 8.692522029324987e-05
         },
         {
          "NAAM_N2K": "Waddenzee",
          "OBJECTID": 201,
          "date": "2018-08-14T00:00:00",
          "geometry": null,
          "id": "22_0000000000000000006b",
          "max": 7.702093354642332e-05,
          "median": 7.656738683271063e-05,
          "min": 7.656738683271063e-05
         },
         {
          "NAAM_N2K": "Rijntakken",
          "OBJECTID": 195,
          "date": "2018-08-14T00:00:00",
          "geometry": null,
          "id": "22_00000000000000000065",
          "max": 0.00010838229714779604,
          "median": 0.00010431767429818623,
          "min": 9.183865471091229e-05
         },
         {
          "NAAM_N2K": "Weerribben",
          "OBJECTID": 200,
          "date": "2018-08-14T00:00:00",
          "geometry": null,
          "id": "22_0000000000000000006a",
          "max": 9.849670732264766e-05,
          "median": 9.220617954171914e-05,
          "min": 8.591565176079062e-05
         },
         {
          "NAAM_N2K": "Oosterschelde",
          "OBJECTID": 123,
          "date": "2018-08-14T00:00:00",
          "geometry": null,
          "id": "22_0000000000000000001d",
          "max": 0.0001001065259331724,
          "median": 7.740618768645611e-05,
          "min": 7.740618768645611e-05
         },
         {
          "NAAM_N2K": "Veluwe",
          "OBJECTID": 194,
          "date": "2018-08-16T00:00:00",
          "geometry": null,
          "id": "23_00000000000000000064",
          "max": 0.00010744768148927795,
          "median": 0.0001007417865078611,
          "min": 8.530460687102452e-05
         },
         {
          "NAAM_N2K": "Biesbosch",
          "OBJECTID": 14,
          "date": "2018-08-16T00:00:00",
          "geometry": null,
          "id": "23_00000000000000000081",
          "max": 8.704736574982617e-05,
          "median": 8.704736574982617e-05,
          "min": 8.704736574982617e-05
         },
         {
          "NAAM_N2K": "Waddenzee",
          "OBJECTID": 201,
          "date": "2018-08-16T00:00:00",
          "geometry": null,
          "id": "23_0000000000000000006b",
          "max": 8.659238075209232e-05,
          "median": 8.361539425661926e-05,
          "min": 8.361539425661926e-05
         },
         {
          "NAAM_N2K": "Rijntakken",
          "OBJECTID": 195,
          "date": "2018-08-16T00:00:00",
          "geometry": null,
          "id": "23_00000000000000000065",
          "max": 0.00011445956045970374,
          "median": 0.00010744768148927795,
          "min": 9.915930153051123e-05
         },
         {
          "NAAM_N2K": "Weerribben",
          "OBJECTID": 200,
          "date": "2018-08-16T00:00:00",
          "geometry": null,
          "id": "23_0000000000000000006a",
          "max": 9.397806674496402e-05,
          "median": 9.168959043693864e-05,
          "min": 8.940111412891325e-05
         },
         {
          "NAAM_N2K": "Oosterschelde",
          "OBJECTID": 123,
          "date": "2018-08-16T00:00:00",
          "geometry": null,
          "id": "23_0000000000000000001d",
          "max": 0.00013621529901459327,
          "median": 8.594015793164327e-05,
          "min": 7.761143323426537e-05
         },
         {
          "NAAM_N2K": "Veluwe",
          "OBJECTID": 194,
          "date": "2018-08-18T00:00:00",
          "geometry": null,
          "id": "24_00000000000000000064",
          "max": 9.281002619217773e-05,
          "median": 8.45279742731475e-05,
          "min": 8.424093288198877e-05
         },
         {
          "NAAM_N2K": "Biesbosch",
          "OBJECTID": 14,
          "date": "2018-08-18T00:00:00",
          "geometry": null,
          "id": "24_00000000000000000081",
          "max": 8.16573150194218e-05,
          "median": 8.16573150194218e-05,
          "min": 8.16573150194218e-05
         },
         {
          "NAAM_N2K": "Waddenzee",
          "OBJECTID": 201,
          "date": "2018-08-18T00:00:00",
          "geometry": null,
          "id": "24_0000000000000000006b",
          "max": 8.680093644353285e-05,
          "median": 8.659176950420841e-05,
          "min": 8.659176950420841e-05
         },
         {
          "NAAM_N2K": "Rijntakken",
          "OBJECTID": 195,
          "date": "2018-08-18T00:00:00",
          "geometry": null,
          "id": "24_00000000000000000065",
          "max": 9.036137111495379e-05,
          "median": 8.573486479053209e-05,
          "min": 8.424093288198877e-05
         },
         {
          "NAAM_N2K": "Weerribben",
          "OBJECTID": 200,
          "date": "2018-08-18T00:00:00",
          "geometry": null,
          "id": "24_0000000000000000006a",
          "max": 9.361964862738131e-05,
          "median": 9.155800649952487e-05,
          "min": 8.949636437166842e-05
         },
         {
          "NAAM_N2K": "Oosterschelde",
          "OBJECTID": 123,
          "date": "2018-08-18T00:00:00",
          "geometry": null,
          "id": "24_0000000000000000001d",
          "max": 9.167480879953272e-05,
          "median": 8.315014908380548e-05,
          "min": 7.746550087495743e-05
         },
         {
          "NAAM_N2K": "Veluwe",
          "OBJECTID": 194,
          "date": "2018-08-20T00:00:00",
          "geometry": null,
          "id": "25_00000000000000000064",
          "max": 0.00012169785620201991,
          "median": 0.00012012799672466722,
          "min": 9.32604772281302e-05
         },
         {
          "NAAM_N2K": "Biesbosch",
          "OBJECTID": 14,
          "date": "2018-08-20T00:00:00",
          "geometry": null,
          "id": "25_00000000000000000081",
          "max": 0.000135366508469249,
          "median": 0.000135366508469249,
          "min": 0.000135366508469249
         },
         {
          "NAAM_N2K": "Waddenzee",
          "OBJECTID": 201,
          "date": "2018-08-20T00:00:00",
          "geometry": null,
          "id": "25_0000000000000000006b",
          "max": 8.862974177374878e-05,
          "median": 8.44690434220137e-05,
          "min": 8.44690434220137e-05
         },
         {
          "NAAM_N2K": "Rijntakken",
          "OBJECTID": 195,
          "date": "2018-08-20T00:00:00",
          "geometry": null,
          "id": "25_00000000000000000065",
          "max": 0.00012169785620201991,
          "median": 0.00011149865640041031,
          "min": 9.32604772281302e-05
         },
         {
          "NAAM_N2K": "Weerribben",
          "OBJECTID": 200,
          "date": "2018-08-20T00:00:00",
          "geometry": null,
          "id": "25_0000000000000000006a",
          "max": 9.113705944065141e-05,
          "median": 8.881409882621267e-05,
          "min": 8.649113821177393e-05
         },
         {
          "NAAM_N2K": "Oosterschelde",
          "OBJECTID": 123,
          "date": "2018-08-20T00:00:00",
          "geometry": null,
          "id": "25_0000000000000000001d",
          "max": 0.0001449855423496469,
          "median": 9.947196455649523e-05,
          "min": 8.117190317714058e-05
         },
         {
          "NAAM_N2K": "Veluwe",
          "OBJECTID": 194,
          "date": "2018-08-22T00:00:00",
          "geometry": null,
          "id": "26_00000000000000000064",
          "max": 0.00014350772350409016,
          "median": 0.0001245281114516347,
          "min": 0.00010582496231456188
         },
         {
          "NAAM_N2K": "Biesbosch",
          "OBJECTID": 14,
          "date": "2018-08-22T00:00:00",
          "geometry": null,
          "id": "26_00000000000000000081",
          "max": 0.00010579132354073312,
          "median": 0.00010579132354073312,
          "min": 0.00010579132354073312
         },
         {
          "NAAM_N2K": "Waddenzee",
          "OBJECTID": 201,
          "date": "2018-08-22T00:00:00",
          "geometry": null,
          "id": "26_0000000000000000006b",
          "max": 0.00011915578086854212,
          "median": 0.00011677983997291853,
          "min": 0.00011677983997291853
         },
         {
          "NAAM_N2K": "Rijntakken",
          "OBJECTID": 195,
          "date": "2018-08-22T00:00:00",
          "geometry": null,
          "id": "26_00000000000000000065",
          "max": 0.00014350772350409016,
          "median": 0.00012218455405222807,
          "min": 0.00010951377682564009
         },
         {
          "NAAM_N2K": "Weerribben",
          "OBJECTID": 200,
          "date": "2018-08-22T00:00:00",
          "geometry": null,
          "id": "26_0000000000000000006a",
          "max": 0.00010825775872926074,
          "median": 0.0001024807521151426,
          "min": 9.670374550102445e-05
         },
         {
          "NAAM_N2K": "Oosterschelde",
          "OBJECTID": 123,
          "date": "2018-08-22T00:00:00",
          "geometry": null,
          "id": "26_0000000000000000001d",
          "max": 9.694021438759221e-05,
          "median": 8.977382938875233e-05,
          "min": 8.641391496655235e-05
         },
         {
          "NAAM_N2K": "Veluwe",
          "OBJECTID": 194,
          "date": "2018-08-24T00:00:00",
          "geometry": null,
          "id": "27_00000000000000000064",
          "max": 0.00012299704920441798,
          "median": 0.00011194732292200214,
          "min": 8.145242034467364e-05
         },
         {
          "NAAM_N2K": "Biesbosch",
          "OBJECTID": 14,
          "date": "2018-08-24T00:00:00",
          "geometry": null,
          "id": "27_00000000000000000081",
          "max": 9.540257340881928e-05,
          "median": 9.540257340881928e-05,
          "min": 9.540257340881928e-05
         },
         {
          "NAAM_N2K": "Waddenzee",
          "OBJECTID": 201,
          "date": "2018-08-24T00:00:00",
          "geometry": null,
          "id": "27_0000000000000000006b",
          "max": 7.741583900726013e-05,
          "median": 7.741583900726013e-05,
          "min": 7.344030735092194e-05
         },
         {
          "NAAM_N2K": "Rijntakken",
          "OBJECTID": 195,
          "date": "2018-08-24T00:00:00",
          "geometry": null,
          "id": "27_00000000000000000065",
          "max": 0.00012299704920441798,
          "median": 0.00010276872221964604,
          "min": 8.548688026384e-05
         },
         {
          "NAAM_N2K": "Weerribben",
          "OBJECTID": 200,
          "date": "2018-08-24T00:00:00",
          "geometry": null,
          "id": "27_0000000000000000006a",
          "max": 7.973984336061472e-05,
          "median": 7.894061802302177e-05,
          "min": 7.814139268542882e-05
         },
         {
          "NAAM_N2K": "Oosterschelde",
          "OBJECTID": 123,
          "date": "2018-08-24T00:00:00",
          "geometry": null,
          "id": "27_0000000000000000001d",
          "max": 9.153692727057654e-05,
          "median": 7.703032730134918e-05,
          "min": 7.703032730134918e-05
         },
         {
          "NAAM_N2K": "Veluwe",
          "OBJECTID": 194,
          "date": "2018-08-26T00:00:00",
          "geometry": null,
          "id": "28_00000000000000000064",
          "max": 0.00011499928047311198,
          "median": 0.00011072114525528367,
          "min": 9.739811625669492e-05
         },
         {
          "NAAM_N2K": "Biesbosch",
          "OBJECTID": 14,
          "date": "2018-08-26T00:00:00",
          "geometry": null,
          "id": "28_00000000000000000081",
          "max": 0.00014312295418721142,
          "median": 0.00014312295418721142,
          "min": 0.00014312295418721142
         },
         {
          "NAAM_N2K": "Waddenzee",
          "OBJECTID": 201,
          "date": "2018-08-26T00:00:00",
          "geometry": null,
          "id": "28_0000000000000000006b",
          "max": 7.754667909944894e-05,
          "median": 7.754667909944894e-05,
          "min": 7.75029816235742e-05
         },
         {
          "NAAM_N2K": "Rijntakken",
          "OBJECTID": 195,
          "date": "2018-08-26T00:00:00",
          "geometry": null,
          "id": "28_00000000000000000065",
          "max": 0.00011499928047311198,
          "median": 0.00010280205191466301,
          "min": 9.601991876300024e-05
         },
         {
          "NAAM_N2K": "Weerribben",
          "OBJECTID": 200,
          "date": "2018-08-26T00:00:00",
          "geometry": null,
          "id": "28_0000000000000000006a",
          "max": 9.540387211893898e-05,
          "median": 9.266859802144225e-05,
          "min": 8.993332392394551e-05
         },
         {
          "NAAM_N2K": "Oosterschelde",
          "OBJECTID": 123,
          "date": "2018-08-26T00:00:00",
          "geometry": null,
          "id": "28_0000000000000000001d",
          "max": 0.00014270708610615836,
          "median": 0.00012135716469657454,
          "min": 0.00011017341360622904
         },
         {
          "NAAM_N2K": "Veluwe",
          "OBJECTID": 194,
          "date": "2018-08-28T00:00:00",
          "geometry": null,
          "id": "29_00000000000000000064",
          "max": 0.0003578420947053708,
          "median": 0.0002288117600081799,
          "min": 0.00018857206769022834
         },
         {
          "NAAM_N2K": "Biesbosch",
          "OBJECTID": 14,
          "date": "2018-08-28T00:00:00",
          "geometry": null,
          "id": "29_00000000000000000081",
          "max": 0.0003459239400191041,
          "median": 0.0003459239400191041,
          "min": 0.0003459239400191041
         },
         {
          "NAAM_N2K": "Waddenzee",
          "OBJECTID": 201,
          "date": "2018-08-28T00:00:00",
          "geometry": null,
          "id": "29_0000000000000000006b",
          "max": 0.00019614857907350092,
          "median": 0.00019614857907350092,
          "min": 0.00018116552676745854
         },
         {
          "NAAM_N2K": "Rijntakken",
          "OBJECTID": 195,
          "date": "2018-08-28T00:00:00",
          "geometry": null,
          "id": "29_00000000000000000065",
          "max": 0.0003705961560833742,
          "median": 0.00023442535580105455,
          "min": 0.00018857206769022834
         },
         {
          "NAAM_N2K": "Weerribben",
          "OBJECTID": 200,
          "date": "2018-08-28T00:00:00",
          "geometry": null,
          "id": "29_0000000000000000006a",
          "max": 0.00021900896279585398,
          "median": 0.00020565777510057093,
          "min": 0.00019230658740528787
         },
         {
          "NAAM_N2K": "Oosterschelde",
          "OBJECTID": 123,
          "date": "2018-08-28T00:00:00",
          "geometry": null,
          "id": "29_0000000000000000001d",
          "max": 0.0003315357866724082,
          "median": 0.0002623274100630969,
          "min": 0.00022945601425367095
         },
         {
          "NAAM_N2K": "Veluwe",
          "OBJECTID": 194,
          "date": "2018-08-30T00:00:00",
          "geometry": null,
          "id": "30_00000000000000000064",
          "max": 9.767024227203084e-05,
          "median": 9.379365290677915e-05,
          "min": 7.792336410517725e-05
         },
         {
          "NAAM_N2K": "Biesbosch",
          "OBJECTID": 14,
          "date": "2018-08-30T00:00:00",
          "geometry": null,
          "id": "30_00000000000000000081",
          "max": 0.00011548950910115365,
          "median": 0.00011548950910115365,
          "min": 0.00011548950910115365
         },
         {
          "NAAM_N2K": "Waddenzee",
          "OBJECTID": 201,
          "date": "2018-08-30T00:00:00",
          "geometry": null,
          "id": "30_0000000000000000006b",
          "max": 7.442834785554211e-05,
          "median": 7.127105490719003e-05,
          "min": 7.127105490719003e-05
         },
         {
          "NAAM_N2K": "Rijntakken",
          "OBJECTID": 195,
          "date": "2018-08-30T00:00:00",
          "geometry": null,
          "id": "30_00000000000000000065",
          "max": 0.00010388336780166275,
          "median": 9.767024227203084e-05,
          "min": 8.18457536458358e-05
         },
         {
          "NAAM_N2K": "Weerribben",
          "OBJECTID": 200,
          "date": "2018-08-30T00:00:00",
          "geometry": null,
          "id": "30_0000000000000000006a",
          "max": 8.251994614278107e-05,
          "median": 7.994631437212825e-05,
          "min": 7.737268260147543e-05
         },
         {
          "NAAM_N2K": "Oosterschelde",
          "OBJECTID": 123,
          "date": "2018-08-30T00:00:00",
          "geometry": null,
          "id": "30_0000000000000000001d",
          "max": 0.0001462761233768009,
          "median": 0.00013602942692639468,
          "min": 9.453669094255146e-05
         },
         {
          "NAAM_N2K": "Veluwe",
          "OBJECTID": 194,
          "date": "2018-09-01T00:00:00",
          "geometry": null,
          "id": "31_00000000000000000064",
          "max": 9.884405703979685e-05,
          "median": 8.534677964261989e-05,
          "min": 7.622893316986735e-05
         },
         {
          "NAAM_N2K": "Biesbosch",
          "OBJECTID": 14,
          "date": "2018-09-01T00:00:00",
          "geometry": null,
          "id": "31_00000000000000000081",
          "max": 0.00012694111087078785,
          "median": 0.00012694111087078785,
          "min": 0.00012694111087078785
         },
         {
          "NAAM_N2K": "Waddenzee",
          "OBJECTID": 201,
          "date": "2018-09-01T00:00:00",
          "geometry": null,
          "id": "31_0000000000000000006b",
          "max": 8.422831847833207e-05,
          "median": 7.868861442493133e-05,
          "min": 7.868861442493133e-05
         },
         {
          "NAAM_N2K": "Rijntakken",
          "OBJECTID": 195,
          "date": "2018-09-01T00:00:00",
          "geometry": null,
          "id": "31_00000000000000000065",
          "max": 0.00011101461666317605,
          "median": 9.137814560580086e-05,
          "min": 7.823159785746775e-05
         },
         {
          "NAAM_N2K": "Weerribben",
          "OBJECTID": 200,
          "date": "2018-09-01T00:00:00",
          "geometry": null,
          "id": "31_0000000000000000006a",
          "max": 7.461463895334138e-05,
          "median": 7.410092668460206e-05,
          "min": 7.358721441586272e-05
         },
         {
          "NAAM_N2K": "Oosterschelde",
          "OBJECTID": 123,
          "date": "2018-09-01T00:00:00",
          "geometry": null,
          "id": "31_0000000000000000001d",
          "max": 0.00019899034441621415,
          "median": 0.0001275082659985522,
          "min": 0.0001275082659985522
         },
         {
          "NAAM_N2K": "Veluwe",
          "OBJECTID": 194,
          "date": "2018-09-03T00:00:00",
          "geometry": null,
          "id": "32_00000000000000000064",
          "max": 0.00018231237977734787,
          "median": 0.0001628577050568187,
          "min": 0.00010039589961068346
         },
         {
          "NAAM_N2K": "Biesbosch",
          "OBJECTID": 14,
          "date": "2018-09-03T00:00:00",
          "geometry": null,
          "id": "32_00000000000000000081",
          "max": 0.00012964126617469356,
          "median": 0.00012964126617469356,
          "min": 0.00012964126617469356
         },
         {
          "NAAM_N2K": "Waddenzee",
          "OBJECTID": 201,
          "date": "2018-09-03T00:00:00",
          "geometry": null,
          "id": "32_0000000000000000006b",
          "max": 0.00012048660631766567,
          "median": 0.0001087670219705626,
          "min": 0.0001087670219705626
         },
         {
          "NAAM_N2K": "Rijntakken",
          "OBJECTID": 195,
          "date": "2018-09-03T00:00:00",
          "geometry": null,
          "id": "32_00000000000000000065",
          "max": 0.00016625419084334954,
          "median": 0.0001550840016312755,
          "min": 0.00013096554583426156
         },
         {
          "NAAM_N2K": "Weerribben",
          "OBJECTID": 200,
          "date": "2018-09-03T00:00:00",
          "geometry": null,
          "id": "32_0000000000000000006a",
          "max": 0.00013000202236239654,
          "median": 0.0001262168428259352,
          "min": 0.00012243166328947385
         },
         {
          "NAAM_N2K": "Oosterschelde",
          "OBJECTID": 123,
          "date": "2018-09-03T00:00:00",
          "geometry": null,
          "id": "32_0000000000000000001d",
          "max": 0.0001557070260430511,
          "median": 0.00011133294461883637,
          "min": 0.00011133294461883637
         },
         {
          "NAAM_N2K": "Veluwe",
          "OBJECTID": 194,
          "date": "2018-09-05T00:00:00",
          "geometry": null,
          "id": "33_00000000000000000064",
          "max": 0.0001941674103412134,
          "median": 0.00016964320442416518,
          "min": 0.00015137131456515932
         },
         {
          "NAAM_N2K": "Biesbosch",
          "OBJECTID": 14,
          "date": "2018-09-05T00:00:00",
          "geometry": null,
          "id": "33_00000000000000000081",
          "max": 0.0001350221909986489,
          "median": 0.0001350221909986489,
          "min": 0.0001350221909986489
         },
         {
          "NAAM_N2K": "Waddenzee",
          "OBJECTID": 201,
          "date": "2018-09-05T00:00:00",
          "geometry": null,
          "id": "33_0000000000000000006b",
          "max": 0.00013630557248027662,
          "median": 0.00013630557248027662,
          "min": 0.00012886613490066935
         },
         {
          "NAAM_N2K": "Rijntakken",
          "OBJECTID": 195,
          "date": "2018-09-05T00:00:00",
          "geometry": null,
          "id": "33_00000000000000000065",
          "max": 0.00020153585680393935,
          "median": 0.00016882750121595383,
          "min": 0.0001511116406011822
         },
         {
          "NAAM_N2K": "Weerribben",
          "OBJECTID": 200,
          "date": "2018-09-05T00:00:00",
          "geometry": null,
          "id": "33_0000000000000000006a",
          "max": 0.00014636473494965895,
          "median": 0.00014268618706579422,
          "min": 0.00013900763918192952
         },
         {
          "NAAM_N2K": "Oosterschelde",
          "OBJECTID": 123,
          "date": "2018-09-05T00:00:00",
          "geometry": null,
          "id": "33_0000000000000000001d",
          "max": 0.00012766998203449592,
          "median": 0.0001022193400155632,
          "min": 0.0001022193400155632
         },
         {
          "NAAM_N2K": "Veluwe",
          "OBJECTID": 194,
          "date": "2018-09-07T00:00:00",
          "geometry": null,
          "id": "34_00000000000000000064",
          "max": 0.00019064888095256342,
          "median": 0.0001702477645895648,
          "min": 0.0001489849126742408
         },
         {
          "NAAM_N2K": "Biesbosch",
          "OBJECTID": 14,
          "date": "2018-09-07T00:00:00",
          "geometry": null,
          "id": "34_00000000000000000081",
          "max": 0.00014820300380576296,
          "median": 0.00014820300380576296,
          "min": 0.00014820300380576296
         },
         {
          "NAAM_N2K": "Waddenzee",
          "OBJECTID": 201,
          "date": "2018-09-07T00:00:00",
          "geometry": null,
          "id": "34_0000000000000000006b",
          "max": 0.0001396670724282941,
          "median": 0.00013505127689343897,
          "min": 0.00013505127689343897
         },
         {
          "NAAM_N2K": "Rijntakken",
          "OBJECTID": 195,
          "date": "2018-09-07T00:00:00",
          "geometry": null,
          "id": "34_00000000000000000065",
          "max": 0.0001990374904487399,
          "median": 0.00015081442982134798,
          "min": 0.0001314135763062825
         },
         {
          "NAAM_N2K": "Weerribben",
          "OBJECTID": 200,
          "date": "2018-09-07T00:00:00",
          "geometry": null,
          "id": "34_0000000000000000006a",
          "max": 0.00019917042717739947,
          "median": 0.0001888758495165408,
          "min": 0.0001785812718556821
         },
         {
          "NAAM_N2K": "Oosterschelde",
          "OBJECTID": 123,
          "date": "2018-09-07T00:00:00",
          "geometry": null,
          "id": "34_0000000000000000001d",
          "max": 0.00021199171501038293,
          "median": 0.00011844243271219756,
          "min": 0.00011844243271219756
         },
         {
          "NAAM_N2K": "Veluwe",
          "OBJECTID": 194,
          "date": "2018-09-09T00:00:00",
          "geometry": null,
          "id": "35_00000000000000000064",
          "max": 0.0001692501295604942,
          "median": 0.0001600903476917431,
          "min": 0.00012405921715191845
         },
         {
          "NAAM_N2K": "Biesbosch",
          "OBJECTID": 14,
          "date": "2018-09-09T00:00:00",
          "geometry": null,
          "id": "35_00000000000000000081",
          "max": 0.0001740078752021444,
          "median": 0.0001740078752021444,
          "min": 0.0001740078752021444
         },
         {
          "NAAM_N2K": "Waddenzee",
          "OBJECTID": 201,
          "date": "2018-09-09T00:00:00",
          "geometry": null,
          "id": "35_0000000000000000006b",
          "max": 0.00011908196156071364,
          "median": 0.00011908196156071364,
          "min": 0.00010922432097283834
         },
         {
          "NAAM_N2K": "Rijntakken",
          "OBJECTID": 195,
          "date": "2018-09-09T00:00:00",
          "geometry": null,
          "id": "35_00000000000000000065",
          "max": 0.0001766911908663339,
          "median": 0.00015628388699212385,
          "min": 0.00012405921715191845
         },
         {
          "NAAM_N2K": "Weerribben",
          "OBJECTID": 200,
          "date": "2018-09-09T00:00:00",
          "geometry": null,
          "id": "35_0000000000000000006a",
          "max": 0.00011434511340752221,
          "median": 0.00011343903975026072,
          "min": 0.00011253296609299923
         },
         {
          "NAAM_N2K": "Oosterschelde",
          "OBJECTID": 123,
          "date": "2018-09-09T00:00:00",
          "geometry": null,
          "id": "35_0000000000000000001d",
          "max": 0.00014024202685420484,
          "median": 0.00012159695516442603,
          "min": 0.00010991926634701464
         },
         {
          "NAAM_N2K": "Veluwe",
          "OBJECTID": 194,
          "date": "2018-09-11T00:00:00",
          "geometry": null,
          "id": "36_00000000000000000064",
          "max": 0.00011155331879172679,
          "median": 0.00010219541397375509,
          "min": 8.330292211508142e-05
         },
         {
          "NAAM_N2K": "Biesbosch",
          "OBJECTID": 14,
          "date": "2018-09-11T00:00:00",
          "geometry": null,
          "id": "36_00000000000000000081",
          "max": 0.00010837257687243936,
          "median": 0.00010837257687243936,
          "min": 0.00010837257687243936
         },
         {
          "NAAM_N2K": "Waddenzee",
          "OBJECTID": 201,
          "date": "2018-09-11T00:00:00",
          "geometry": null,
          "id": "36_0000000000000000006b",
          "max": 8.876320599573545e-05,
          "median": 8.876320599573545e-05,
          "min": 8.701091146421078e-05
         },
         {
          "NAAM_N2K": "Rijntakken",
          "OBJECTID": 195,
          "date": "2018-09-11T00:00:00",
          "geometry": null,
          "id": "36_00000000000000000065",
          "max": 0.00011451242155992745,
          "median": 0.00010269434913646982,
          "min": 8.330292211508142e-05
         },
         {
          "NAAM_N2K": "Weerribben",
          "OBJECTID": 200,
          "date": "2018-09-11T00:00:00",
          "geometry": null,
          "id": "36_0000000000000000006a",
          "max": 8.922484689188098e-05,
          "median": 8.637012066924974e-05,
          "min": 8.351539444661852e-05
         },
         {
          "NAAM_N2K": "Oosterschelde",
          "OBJECTID": 123,
          "date": "2018-09-11T00:00:00",
          "geometry": null,
          "id": "36_0000000000000000001d",
          "max": 0.00010003141978139692,
          "median": 8.707122877240007e-05,
          "min": 7.477462821127246e-05
         },
         {
          "NAAM_N2K": "Veluwe",
          "OBJECTID": 194,
          "date": "2018-09-13T00:00:00",
          "geometry": null,
          "id": "37_00000000000000000064",
          "max": 0.00022217254852976263,
          "median": 0.00012113669782695991,
          "min": 0.00011875982273757096
         },
         {
          "NAAM_N2K": "Biesbosch",
          "OBJECTID": 14,
          "date": "2018-09-13T00:00:00",
          "geometry": null,
          "id": "37_00000000000000000081",
          "max": 0.00015407115414118154,
          "median": 0.00015407115414118154,
          "min": 0.00015407115414118154
         },
         {
          "NAAM_N2K": "Waddenzee",
          "OBJECTID": 201,
          "date": "2018-09-13T00:00:00",
          "geometry": null,
          "id": "37_0000000000000000006b",
          "max": 9.579463077945735e-05,
          "median": 9.579463077945735e-05,
          "min": 9.248348649053476e-05
         },
         {
          "NAAM_N2K": "Rijntakken",
          "OBJECTID": 195,
          "date": "2018-09-13T00:00:00",
          "geometry": null,
          "id": "37_00000000000000000065",
          "max": 0.0001626045207509995,
          "median": 0.00014167875017448629,
          "min": 0.0001291877849111601
         },
         {
          "NAAM_N2K": "Weerribben",
          "OBJECTID": 200,
          "date": "2018-09-13T00:00:00",
          "geometry": null,
          "id": "37_0000000000000000006a",
          "max": 0.00012640891456296082,
          "median": 0.0001231390350582559,
          "min": 0.00011986915555355097
         },
         {
          "NAAM_N2K": "Oosterschelde",
          "OBJECTID": 123,
          "date": "2018-09-13T00:00:00",
          "geometry": null,
          "id": "37_0000000000000000001d",
          "max": 0.00018235622663923218,
          "median": 0.00012167121319758713,
          "min": 0.00010782644212130672
         },
         {
          "NAAM_N2K": "Veluwe",
          "OBJECTID": 194,
          "date": "2018-09-15T00:00:00",
          "geometry": null,
          "id": "38_00000000000000000064",
          "max": 0.00012139851854761364,
          "median": 0.0001062902680022279,
          "min": 9.837200244740109e-05
         },
         {
          "NAAM_N2K": "Biesbosch",
          "OBJECTID": 14,
          "date": "2018-09-15T00:00:00",
          "geometry": null,
          "id": "38_00000000000000000081",
          "max": 0.0001097527018054241,
          "median": 0.0001097527018054241,
          "min": 0.0001097527018054241
         },
         {
          "NAAM_N2K": "Waddenzee",
          "OBJECTID": 201,
          "date": "2018-09-15T00:00:00",
          "geometry": null,
          "id": "38_0000000000000000006b",
          "max": 9.648105479981829e-05,
          "median": 9.648105479981829e-05,
          "min": 9.465762507490952e-05
         },
         {
          "NAAM_N2K": "Rijntakken",
          "OBJECTID": 195,
          "date": "2018-09-15T00:00:00",
          "geometry": null,
          "id": "38_00000000000000000065",
          "max": 0.00012139851854761364,
          "median": 0.0001183370074776243,
          "min": 9.897811787429014e-05
         },
         {
          "NAAM_N2K": "Weerribben",
          "OBJECTID": 200,
          "date": "2018-09-15T00:00:00",
          "geometry": null,
          "id": "38_0000000000000000006a",
          "max": 9.514523862434775e-05,
          "median": 9.389063323531614e-05,
          "min": 9.263602784628452e-05
         },
         {
          "NAAM_N2K": "Oosterschelde",
          "OBJECTID": 123,
          "date": "2018-09-15T00:00:00",
          "geometry": null,
          "id": "38_0000000000000000001d",
          "max": 0.00011795984991343022,
          "median": 8.958458784951958e-05,
          "min": 8.321741659683666e-05
         },
         {
          "NAAM_N2K": "Veluwe",
          "OBJECTID": 194,
          "date": "2018-09-17T00:00:00",
          "geometry": null,
          "id": "39_00000000000000000064",
          "max": 0.00019164961267610262,
          "median": 0.0001571861853686291,
          "min": 0.00014564397696119433
         },
         {
          "NAAM_N2K": "Biesbosch",
          "OBJECTID": 14,
          "date": "2018-09-17T00:00:00",
          "geometry": null,
          "id": "39_00000000000000000081",
          "max": 0.00018171904265047964,
          "median": 0.00018171904265047964,
          "min": 0.00018171904265047964
         },
         {
          "NAAM_N2K": "Waddenzee",
          "OBJECTID": 201,
          "date": "2018-09-17T00:00:00",
          "geometry": null,
          "id": "39_0000000000000000006b",
          "max": 0.00016968585022051057,
          "median": 0.00016968585022051057,
          "min": 0.00015635694379995243
         },
         {
          "NAAM_N2K": "Rijntakken",
          "OBJECTID": 195,
          "date": "2018-09-17T00:00:00",
          "geometry": null,
          "id": "39_00000000000000000065",
          "max": 0.00016659320701802225,
          "median": 0.00016262028682177866,
          "min": 0.00014717585705125265
         },
         {
          "NAAM_N2K": "Weerribben",
          "OBJECTID": 200,
          "date": "2018-09-17T00:00:00",
          "geometry": null,
          "id": "39_0000000000000000006a",
          "max": 0.0001618194147930444,
          "median": 0.00015850120918298833,
          "min": 0.0001551830035729323
         },
         {
          "NAAM_N2K": "Oosterschelde",
          "OBJECTID": 123,
          "date": "2018-09-17T00:00:00",
          "geometry": null,
          "id": "39_0000000000000000001d",
          "max": 0.00016892518548693392,
          "median": 0.00012436571238382392,
          "min": 0.00011156882795711538
         },
         {
          "NAAM_N2K": "Veluwe",
          "OBJECTID": 194,
          "date": "2018-09-19T00:00:00",
          "geometry": null,
          "id": "40_00000000000000000064",
          "max": 0.00014058245452728028,
          "median": 0.00012771385372083277,
          "min": 0.00010583515165115875
         },
         {
          "NAAM_N2K": "Biesbosch",
          "OBJECTID": 14,
          "date": "2018-09-19T00:00:00",
          "geometry": null,
          "id": "40_00000000000000000081",
          "max": 0.00013970402741651726,
          "median": 0.00013970402741651726,
          "min": 0.00013970402741651726
         },
         {
          "NAAM_N2K": "Waddenzee",
          "OBJECTID": 201,
          "date": "2018-09-19T00:00:00",
          "geometry": null,
          "id": "40_0000000000000000006b",
          "max": 0.00010984307033208274,
          "median": 0.00010984307033208274,
          "min": 0.00010837376248937984
         },
         {
          "NAAM_N2K": "Rijntakken",
          "OBJECTID": 195,
          "date": "2018-09-19T00:00:00",
          "geometry": null,
          "id": "40_00000000000000000065",
          "max": 0.00015898160292795546,
          "median": 0.00013800216802574056,
          "min": 0.000126965552640688
         },
         {
          "NAAM_N2K": "Weerribben",
          "OBJECTID": 200,
          "date": "2018-09-19T00:00:00",
          "geometry": null,
          "id": "40_0000000000000000006a",
          "max": 0.00013593827454359234,
          "median": 0.00013177659134657496,
          "min": 0.00012761490814955758
         },
         {
          "NAAM_N2K": "Oosterschelde",
          "OBJECTID": 123,
          "date": "2018-09-19T00:00:00",
          "geometry": null,
          "id": "40_0000000000000000001d",
          "max": 0.00012384438429558615,
          "median": 8.459378990064574e-05,
          "min": 8.453139627087814e-05
         },
         {
          "NAAM_N2K": "Veluwe",
          "OBJECTID": 194,
          "date": "2018-09-21T00:00:00",
          "geometry": null,
          "id": "41_00000000000000000064",
          "max": 0.0003256686406281223,
          "median": 0.00026335091451891446,
          "min": 0.00016385641259880065
         },
         {
          "NAAM_N2K": "Biesbosch",
          "OBJECTID": 14,
          "date": "2018-09-21T00:00:00",
          "geometry": null,
          "id": "41_00000000000000000081",
          "max": 0.00019264873835540762,
          "median": 0.00019264873835540762,
          "min": 0.00019264873835540762
         },
         {
          "NAAM_N2K": "Waddenzee",
          "OBJECTID": 201,
          "date": "2018-09-21T00:00:00",
          "geometry": null,
          "id": "41_0000000000000000006b",
          "max": 9.628632757805377e-05,
          "median": 9.628632757805377e-05,
          "min": 9.290873823081803e-05
         },
         {
          "NAAM_N2K": "Rijntakken",
          "OBJECTID": 195,
          "date": "2018-09-21T00:00:00",
          "geometry": null,
          "id": "41_00000000000000000065",
          "max": 0.0003256686406281223,
          "median": 0.0001949100016206394,
          "min": 0.00016385641259880065
         },
         {
          "NAAM_N2K": "Weerribben",
          "OBJECTID": 200,
          "date": "2018-09-21T00:00:00",
          "geometry": null,
          "id": "41_0000000000000000006a",
          "max": 0.00017608608176214902,
          "median": 0.0001677312443464309,
          "min": 0.00015937640693071276
         },
         {
          "NAAM_N2K": "Oosterschelde",
          "OBJECTID": 123,
          "date": "2018-09-21T00:00:00",
          "geometry": null,
          "id": "41_0000000000000000001d",
          "max": 0.0002701354440904637,
          "median": 0.00023733424616382437,
          "min": 0.00020991874669223416
         },
         {
          "NAAM_N2K": "Veluwe",
          "OBJECTID": 194,
          "date": "2018-09-23T00:00:00",
          "geometry": null,
          "id": "42_00000000000000000064",
          "max": 0.0003682453868556762,
          "median": 0.0002845553530252669,
          "min": 0.00017720039952362775
         },
         {
          "NAAM_N2K": "Biesbosch",
          "OBJECTID": 14,
          "date": "2018-09-23T00:00:00",
          "geometry": null,
          "id": "42_00000000000000000081",
          "max": 0.00025592034256818994,
          "median": 0.00025592034256818994,
          "min": 0.00025592034256818994
         },
         {
          "NAAM_N2K": "Waddenzee",
          "OBJECTID": 201,
          "date": "2018-09-23T00:00:00",
          "geometry": null,
          "id": "42_0000000000000000006b",
          "max": 0.00022702635411726808,
          "median": 0.00022702635411726808,
          "min": 0.00018425830279906433
         },
         {
          "NAAM_N2K": "Rijntakken",
          "OBJECTID": 195,
          "date": "2018-09-23T00:00:00",
          "geometry": null,
          "id": "42_00000000000000000065",
          "max": 0.0003682453868556762,
          "median": 0.0003017612950172378,
          "min": 0.0002845553530252669
         },
         {
          "NAAM_N2K": "Weerribben",
          "OBJECTID": 200,
          "date": "2018-09-23T00:00:00",
          "geometry": null,
          "id": "42_0000000000000000006a",
          "max": 0.00023262930843611542,
          "median": 0.00022531839077480402,
          "min": 0.00021800747311349265
         },
         {
          "NAAM_N2K": "Oosterschelde",
          "OBJECTID": 123,
          "date": "2018-09-23T00:00:00",
          "geometry": null,
          "id": "42_0000000000000000001d",
          "max": 0.00021687890610999703,
          "median": 0.0001843101123873502,
          "min": 0.0001718966510934304
         },
         {
          "NAAM_N2K": "Veluwe",
          "OBJECTID": 194,
          "date": "2018-09-25T00:00:00",
          "geometry": null,
          "id": "43_00000000000000000064",
          "max": 0.00021055064932828975,
          "median": 0.00015176645651540792,
          "min": 0.00015115221864466243
         },
         {
          "NAAM_N2K": "Biesbosch",
          "OBJECTID": 14,
          "date": "2018-09-25T00:00:00",
          "geometry": null,
          "id": "43_00000000000000000081",
          "max": 0.00015436165523602608,
          "median": 0.00015436165523602608,
          "min": 0.00015436165523602608
         },
         {
          "NAAM_N2K": "Waddenzee",
          "OBJECTID": 201,
          "date": "2018-09-25T00:00:00",
          "geometry": null,
          "id": "43_0000000000000000006b",
          "max": 0.00010483489461245633,
          "median": 7.652313473944238e-05,
          "min": 7.652313473944238e-05
         },
         {
          "NAAM_N2K": "Rijntakken",
          "OBJECTID": 195,
          "date": "2018-09-25T00:00:00",
          "geometry": null,
          "id": "43_00000000000000000065",
          "max": 0.00021055064932828975,
          "median": 0.00017586417589056705,
          "min": 0.00015176645651540792
         },
         {
          "NAAM_N2K": "Weerribben",
          "OBJECTID": 200,
          "date": "2018-09-25T00:00:00",
          "geometry": null,
          "id": "43_0000000000000000006a",
          "max": 0.000194637460344661,
          "median": 0.00018905878979827887,
          "min": 0.00018348011925189674
         },
         {
          "NAAM_N2K": "Oosterschelde",
          "OBJECTID": 123,
          "date": "2018-09-25T00:00:00",
          "geometry": null,
          "id": "43_0000000000000000001d",
          "max": 0.0001957566805083059,
          "median": 0.00012197752324989169,
          "min": 0.00012197752324989169
         },
         {
          "NAAM_N2K": "Veluwe",
          "OBJECTID": 194,
          "date": "2018-09-27T00:00:00",
          "geometry": null,
          "id": "44_00000000000000000064",
          "max": 0.00017287980317314732,
          "median": 0.00013383195572478745,
          "min": 0.00013056448553868706
         },
         {
          "NAAM_N2K": "Biesbosch",
          "OBJECTID": 14,
          "date": "2018-09-27T00:00:00",
          "geometry": null,
          "id": "44_00000000000000000081",
          "max": 0.0002348387923839106,
          "median": 0.0002348387923839106,
          "min": 0.0002348387923839106
         },
         {
          "NAAM_N2K": "Waddenzee",
          "OBJECTID": 201,
          "date": "2018-09-27T00:00:00",
          "geometry": null,
          "id": "44_0000000000000000006b",
          "max": 9.434131349109881e-05,
          "median": 9.434131349109881e-05,
          "min": 9.290405172005748e-05
         },
         {
          "NAAM_N2K": "Rijntakken",
          "OBJECTID": 195,
          "date": "2018-09-27T00:00:00",
          "geometry": null,
          "id": "44_00000000000000000065",
          "max": 0.00017287980317314732,
          "median": 0.0001677972040880225,
          "min": 0.00013056448553868706
         },
         {
          "NAAM_N2K": "Weerribben",
          "OBJECTID": 200,
          "date": "2018-09-27T00:00:00",
          "geometry": null,
          "id": "44_0000000000000000006a",
          "max": 0.00014629325435827677,
          "median": 0.00014116013643969918,
          "min": 0.00013602701852112158
         },
         {
          "NAAM_N2K": "Oosterschelde",
          "OBJECTID": 123,
          "date": "2018-09-27T00:00:00",
          "geometry": null,
          "id": "44_0000000000000000001d",
          "max": 0.000250669406694336,
          "median": 0.00013437034135446447,
          "min": 0.00012037612044536531
         },
         {
          "NAAM_N2K": "Veluwe",
          "OBJECTID": 194,
          "date": "2018-09-29T00:00:00",
          "geometry": null,
          "id": "45_00000000000000000064",
          "max": 0.00014013761320808373,
          "median": 0.00011729246184520191,
          "min": 0.00010087458577047916
         },
         {
          "NAAM_N2K": "Biesbosch",
          "OBJECTID": 14,
          "date": "2018-09-29T00:00:00",
          "geometry": null,
          "id": "45_00000000000000000081",
          "max": 0.00011829013581175908,
          "median": 0.00011829013581175908,
          "min": 0.00011829013581175908
         },
         {
          "NAAM_N2K": "Waddenzee",
          "OBJECTID": 201,
          "date": "2018-09-29T00:00:00",
          "geometry": null,
          "id": "45_0000000000000000006b",
          "max": 7.701259362755864e-05,
          "median": 7.283046015215945e-05,
          "min": 7.283046015215945e-05
         },
         {
          "NAAM_N2K": "Rijntakken",
          "OBJECTID": 195,
          "date": "2018-09-29T00:00:00",
          "geometry": null,
          "id": "45_00000000000000000065",
          "max": 0.0001569771497569197,
          "median": 0.00013633477887637475,
          "min": 0.00010087458577047916
         },
         {
          "NAAM_N2K": "Weerribben",
          "OBJECTID": 200,
          "date": "2018-09-29T00:00:00",
          "geometry": null,
          "id": "45_0000000000000000006a",
          "max": 9.672280872821597e-05,
          "median": 9.522518474601295e-05,
          "min": 9.372756076380992e-05
         },
         {
          "NAAM_N2K": "Oosterschelde",
          "OBJECTID": 123,
          "date": "2018-09-29T00:00:00",
          "geometry": null,
          "id": "45_0000000000000000001d",
          "max": 0.00015835410047346216,
          "median": 7.986943326577164e-05,
          "min": 7.986943326577164e-05
         },
         {
          "NAAM_N2K": "Veluwe",
          "OBJECTID": 194,
          "date": "2018-10-01T00:00:00",
          "geometry": null,
          "id": "46_00000000000000000064",
          "max": 0.0001082579432406583,
          "median": 8.674230855800097e-05,
          "min": 7.244126875291915e-05
         },
         {
          "NAAM_N2K": "Biesbosch",
          "OBJECTID": 14,
          "date": "2018-10-01T00:00:00",
          "geometry": null,
          "id": "46_00000000000000000081",
          "max": 0.00010541362847411815,
          "median": 0.00010541362847411815,
          "min": 0.00010541362847411815
         },
         {
          "NAAM_N2K": "Waddenzee",
          "OBJECTID": 201,
          "date": "2018-10-01T00:00:00",
          "geometry": null,
          "id": "46_0000000000000000006b",
          "max": 6.677392718057901e-05,
          "median": 5.939407576822431e-05,
          "min": 5.939407576822431e-05
         },
         {
          "NAAM_N2K": "Rijntakken",
          "OBJECTID": 195,
          "date": "2018-10-01T00:00:00",
          "geometry": null,
          "id": "46_00000000000000000065",
          "max": 0.00017559539297934445,
          "median": 0.00010779806601800157,
          "min": 7.244126875291915e-05
         },
         {
          "NAAM_N2K": "Weerribben",
          "OBJECTID": 200,
          "date": "2018-10-01T00:00:00",
          "geometry": null,
          "id": "46_0000000000000000006a",
          "max": 7.239833399282222e-05,
          "median": 7.180008809006267e-05,
          "min": 7.120184218730312e-05
         },
         {
          "NAAM_N2K": "Oosterschelde",
          "OBJECTID": 123,
          "date": "2018-10-01T00:00:00",
          "geometry": null,
          "id": "46_0000000000000000001d",
          "max": 0.00013721380160330567,
          "median": 7.818998172182267e-05,
          "min": 7.818998172182267e-05
         },
         {
          "NAAM_N2K": "Veluwe",
          "OBJECTID": 194,
          "date": "2018-10-03T00:00:00",
          "geometry": null,
          "id": "47_00000000000000000064",
          "max": 0.00015170617580172868,
          "median": 0.00012662671360999262,
          "min": 6.987633146252748e-05
         },
         {
          "NAAM_N2K": "Biesbosch",
          "OBJECTID": 14,
          "date": "2018-10-03T00:00:00",
          "geometry": null,
          "id": "47_00000000000000000081",
          "max": 0.00013377191702781033,
          "median": 0.00013377191702781033,
          "min": 0.00013377191702781033
         },
         {
          "NAAM_N2K": "Waddenzee",
          "OBJECTID": 201,
          "date": "2018-10-03T00:00:00",
          "geometry": null,
          "id": "47_0000000000000000006b",
          "max": 9.39257308770729e-05,
          "median": 9.16344942176302e-05,
          "min": 9.16344942176302e-05
         },
         {
          "NAAM_N2K": "Rijntakken",
          "OBJECTID": 195,
          "date": "2018-10-03T00:00:00",
          "geometry": null,
          "id": "47_00000000000000000065",
          "max": 0.00015170617580172868,
          "median": 0.00011337970675496244,
          "min": 7.772779770798774e-05
         },
         {
          "NAAM_N2K": "Weerribben",
          "OBJECTID": 200,
          "date": "2018-10-03T00:00:00",
          "geometry": null,
          "id": "47_0000000000000000006a",
          "max": 7.379834349339866e-05,
          "median": 7.041893740384711e-05,
          "min": 6.703953131429556e-05
         },
         {
          "NAAM_N2K": "Oosterschelde",
          "OBJECTID": 123,
          "date": "2018-10-03T00:00:00",
          "geometry": null,
          "id": "47_0000000000000000001d",
          "max": 0.0001014188010089852,
          "median": 9.125375474555493e-05,
          "min": 9.074167802964207e-05
         },
         {
          "NAAM_N2K": "Veluwe",
          "OBJECTID": 194,
          "date": "2018-10-05T00:00:00",
          "geometry": null,
          "id": "48_00000000000000000064",
          "max": 0.00022688096721730887,
          "median": 0.00014588191762543012,
          "min": 0.00014216036941708702
         },
         {
          "NAAM_N2K": "Biesbosch",
          "OBJECTID": 14,
          "date": "2018-10-05T00:00:00",
          "geometry": null,
          "id": "48_00000000000000000081",
          "max": 0.00019592102239012718,
          "median": 0.00019592102239012718,
          "min": 0.00019592102239012718
         },
         {
          "NAAM_N2K": "Waddenzee",
          "OBJECTID": 201,
          "date": "2018-10-05T00:00:00",
          "geometry": null,
          "id": "48_0000000000000000006b",
          "max": 0.00021403040842424634,
          "median": 0.0001521947728543246,
          "min": 0.0001521947728543246
         },
         {
          "NAAM_N2K": "Rijntakken",
          "OBJECTID": 195,
          "date": "2018-10-05T00:00:00",
          "geometry": null,
          "id": "48_00000000000000000065",
          "max": 0.0001918512414597435,
          "median": 0.00015825042260814262,
          "min": 0.00013820642269672155
         },
         {
          "NAAM_N2K": "Weerribben",
          "OBJECTID": 200,
          "date": "2018-10-05T00:00:00",
          "geometry": null,
          "id": "48_0000000000000000006a",
          "max": 0.00018317791324183732,
          "median": 0.0001728115097550526,
          "min": 0.0001624451062682679
         },
         {
          "NAAM_N2K": "Oosterschelde",
          "OBJECTID": 123,
          "date": "2018-10-05T00:00:00",
          "geometry": null,
          "id": "48_0000000000000000001d",
          "max": 0.00023303180283303326,
          "median": 0.00017829629079320515,
          "min": 0.00017829629079320515
         },
         {
          "NAAM_N2K": "Veluwe",
          "OBJECTID": 194,
          "date": "2018-10-07T00:00:00",
          "geometry": null,
          "id": "49_00000000000000000064",
          "max": 0.000170096613063498,
          "median": 0.00015904900547105222,
          "min": 0.00012373092675617913
         },
         {
          "NAAM_N2K": "Biesbosch",
          "OBJECTID": 14,
          "date": "2018-10-07T00:00:00",
          "geometry": null,
          "id": "49_00000000000000000081",
          "max": 0.0001640147489471215,
          "median": 0.0001640147489471215,
          "min": 0.0001640147489471215
         },
         {
          "NAAM_N2K": "Waddenzee",
          "OBJECTID": 201,
          "date": "2018-10-07T00:00:00",
          "geometry": null,
          "id": "49_0000000000000000006b",
          "max": 0.00012201345594525258,
          "median": 0.00011927889140110102,
          "min": 0.00011927889140110102
         },
         {
          "NAAM_N2K": "Rijntakken",
          "OBJECTID": 195,
          "date": "2018-10-07T00:00:00",
          "geometry": null,
          "id": "49_00000000000000000065",
          "max": 0.0001756759384463144,
          "median": 0.00014450578072391787,
          "min": 0.00012373092675617913
         },
         {
          "NAAM_N2K": "Weerribben",
          "OBJECTID": 200,
          "date": "2018-10-07T00:00:00",
          "geometry": null,
          "id": "49_0000000000000000006a",
          "max": 0.00015007314951305962,
          "median": 0.00014003691078916773,
          "min": 0.00013000067206527584
         },
         {
          "NAAM_N2K": "Oosterschelde",
          "OBJECTID": 123,
          "date": "2018-10-07T00:00:00",
          "geometry": null,
          "id": "49_0000000000000000001d",
          "max": 0.00020811791888358322,
          "median": 0.00016300352268765683,
          "min": 0.00012049590987495463
         },
         {
          "NAAM_N2K": "Veluwe",
          "OBJECTID": 194,
          "date": "2018-10-09T00:00:00",
          "geometry": null,
          "id": "50_00000000000000000064",
          "max": 0.0001809115969773215,
          "median": 0.00015602809352776575,
          "min": 0.00013412828999137863
         },
         {
          "NAAM_N2K": "Biesbosch",
          "OBJECTID": 14,
          "date": "2018-10-09T00:00:00",
          "geometry": null,
          "id": "50_00000000000000000081",
          "max": 0.00019753683325876117,
          "median": 0.00019753683325876117,
          "min": 0.00019753683325876117
         },
         {
          "NAAM_N2K": "Waddenzee",
          "OBJECTID": 201,
          "date": "2018-10-09T00:00:00",
          "geometry": null,
          "id": "50_0000000000000000006b",
          "max": 0.00014259945737896967,
          "median": 0.00014259945737896967,
          "min": 0.00014229109596267976
         },
         {
          "NAAM_N2K": "Rijntakken",
          "OBJECTID": 195,
          "date": "2018-10-09T00:00:00",
          "geometry": null,
          "id": "50_00000000000000000065",
          "max": 0.00019523737059416296,
          "median": 0.00015382592381945546,
          "min": 0.00013412828999137863
         },
         {
          "NAAM_N2K": "Weerribben",
          "OBJECTID": 200,
          "date": "2018-10-09T00:00:00",
          "geometry": null,
          "id": "50_0000000000000000006a",
          "max": 0.00018212919011527796,
          "median": 0.0001682812708624459,
          "min": 0.0001544333516096139
         },
         {
          "NAAM_N2K": "Oosterschelde",
          "OBJECTID": 123,
          "date": "2018-10-09T00:00:00",
          "geometry": null,
          "id": "50_0000000000000000001d",
          "max": 0.00023702901661526665,
          "median": 0.00021621852168929968,
          "min": 0.00019686657088031147
         },
         {
          "NAAM_N2K": "Veluwe",
          "OBJECTID": 194,
          "date": "2018-10-11T00:00:00",
          "geometry": null,
          "id": "51_00000000000000000064",
          "max": 0.00015339114624216937,
          "median": 0.0001343577016160077,
          "min": 0.0001273616537545809
         },
         {
          "NAAM_N2K": "Biesbosch",
          "OBJECTID": 14,
          "date": "2018-10-11T00:00:00",
          "geometry": null,
          "id": "51_00000000000000000081",
          "max": 0.00015875677413635883,
          "median": 0.00015875677413635883,
          "min": 0.00015875677413635883
         },
         {
          "NAAM_N2K": "Waddenzee",
          "OBJECTID": 201,
          "date": "2018-10-11T00:00:00",
          "geometry": null,
          "id": "51_0000000000000000006b",
          "max": 0.00013900885948236699,
          "median": 0.00013469142797155483,
          "min": 0.00013469142797155483
         },
         {
          "NAAM_N2K": "Rijntakken",
          "OBJECTID": 195,
          "date": "2018-10-11T00:00:00",
          "geometry": null,
          "id": "51_00000000000000000065",
          "max": 0.00015373693245487673,
          "median": 0.00014291811950477138,
          "min": 0.0001343577016160077
         },
         {
          "NAAM_N2K": "Weerribben",
          "OBJECTID": 200,
          "date": "2018-10-11T00:00:00",
          "geometry": null,
          "id": "51_0000000000000000006a",
          "max": 0.0001485606942773491,
          "median": 0.00014703415459084017,
          "min": 0.00014550761490433122
         },
         {
          "NAAM_N2K": "Oosterschelde",
          "OBJECTID": 123,
          "date": "2018-10-11T00:00:00",
          "geometry": null,
          "id": "51_0000000000000000001d",
          "max": 0.00014981930779359355,
          "median": 0.00011945826344695625,
          "min": 0.00011745700984183806
         },
         {
          "NAAM_N2K": "Veluwe",
          "OBJECTID": 194,
          "date": "2018-10-13T00:00:00",
          "geometry": null,
          "id": "52_00000000000000000064",
          "max": 0.00012038436958365626,
          "median": 0.00010859911266112362,
          "min": 0.00010689388074469234
         },
         {
          "NAAM_N2K": "Biesbosch",
          "OBJECTID": 14,
          "date": "2018-10-13T00:00:00",
          "geometry": null,
          "id": "52_00000000000000000081",
          "max": 0.000129550787469373,
          "median": 0.000129550787469373,
          "min": 0.000129550787469373
         },
         {
          "NAAM_N2K": "Waddenzee",
          "OBJECTID": 201,
          "date": "2018-10-13T00:00:00",
          "geometry": null,
          "id": "52_0000000000000000006b",
          "max": 0.00012413931209423714,
          "median": 0.00011048837729606532,
          "min": 0.00011048837729606532
         },
         {
          "NAAM_N2K": "Rijntakken",
          "OBJECTID": 195,
          "date": "2018-10-13T00:00:00",
          "geometry": null,
          "id": "52_00000000000000000065",
          "max": 0.00012196272032862613,
          "median": 0.00011207555059824755,
          "min": 0.00010749673683387701
         },
         {
          "NAAM_N2K": "Weerribben",
          "OBJECTID": 200,
          "date": "2018-10-13T00:00:00",
          "geometry": null,
          "id": "52_0000000000000000006a",
          "max": 0.00011570138323853044,
          "median": 0.00011392504799880475,
          "min": 0.00011214871275907906
         },
         {
          "NAAM_N2K": "Oosterschelde",
          "OBJECTID": 123,
          "date": "2018-10-13T00:00:00",
          "geometry": null,
          "id": "52_0000000000000000001d",
          "max": 0.0001543528199935433,
          "median": 0.00010526743972933733,
          "min": 9.087967021414476e-05
         },
         {
          "NAAM_N2K": "Veluwe",
          "OBJECTID": 194,
          "date": "2018-10-15T00:00:00",
          "geometry": null,
          "id": "53_00000000000000000064",
          "max": 0.00022290613386789727,
          "median": 0.00012539457524469002,
          "min": 0.00012318589440092853
         },
         {
          "NAAM_N2K": "Biesbosch",
          "OBJECTID": 14,
          "date": "2018-10-15T00:00:00",
          "geometry": null,
          "id": "53_00000000000000000081",
          "max": 0.00019944170055794262,
          "median": 0.00019944170055794262,
          "min": 0.00019944170055794262
         },
         {
          "NAAM_N2K": "Waddenzee",
          "OBJECTID": 201,
          "date": "2018-10-15T00:00:00",
          "geometry": null,
          "id": "53_0000000000000000006b",
          "max": 0.0001397571578478027,
          "median": 0.0001247728197297487,
          "min": 0.0001247728197297487
         },
         {
          "NAAM_N2K": "Rijntakken",
          "OBJECTID": 195,
          "date": "2018-10-15T00:00:00",
          "geometry": null,
          "id": "53_00000000000000000065",
          "max": 0.0002175244209963513,
          "median": 0.00015313506864786248,
          "min": 0.00012318589440092853
         },
         {
          "NAAM_N2K": "Weerribben",
          "OBJECTID": 200,
          "date": "2018-10-15T00:00:00",
          "geometry": null,
          "id": "53_0000000000000000006a",
          "max": 0.00016300463171900836,
          "median": 0.00015899912984982916,
          "min": 0.00015499362798064996
         },
         {
          "NAAM_N2K": "Oosterschelde",
          "OBJECTID": 123,
          "date": "2018-10-15T00:00:00",
          "geometry": null,
          "id": "53_0000000000000000001d",
          "max": 0.00038181201237375776,
          "median": 0.00019110465997707092,
          "min": 0.00016567264247238628
         },
         {
          "NAAM_N2K": "Veluwe",
          "OBJECTID": 194,
          "date": "2018-10-17T00:00:00",
          "geometry": null,
          "id": "54_00000000000000000064",
          "max": 0.00015991322431797687,
          "median": 0.00011524028074055307,
          "min": 0.00010269745322942426
         },
         {
          "NAAM_N2K": "Biesbosch",
          "OBJECTID": 14,
          "date": "2018-10-17T00:00:00",
          "geometry": null,
          "id": "54_00000000000000000081",
          "max": 0.00012144097964905066,
          "median": 0.00012144097964905066,
          "min": 0.00012144097964905066
         },
         {
          "NAAM_N2K": "Waddenzee",
          "OBJECTID": 201,
          "date": "2018-10-17T00:00:00",
          "geometry": null,
          "id": "54_0000000000000000006b",
          "max": 9.934792997130923e-05,
          "median": 8.997422670930178e-05,
          "min": 8.997422670930178e-05
         },
         {
          "NAAM_N2K": "Rijntakken",
          "OBJECTID": 195,
          "date": "2018-10-17T00:00:00",
          "geometry": null,
          "id": "54_00000000000000000065",
          "max": 0.00016556359659866291,
          "median": 0.00013699714333426674,
          "min": 0.00010269745322942426
         },
         {
          "NAAM_N2K": "Weerribben",
          "OBJECTID": 200,
          "date": "2018-10-17T00:00:00",
          "geometry": null,
          "id": "54_0000000000000000006a",
          "max": 9.816799939471524e-05,
          "median": 9.309935476028422e-05,
          "min": 8.80307101258532e-05
         },
         {
          "NAAM_N2K": "Oosterschelde",
          "OBJECTID": 123,
          "date": "2018-10-17T00:00:00",
          "geometry": null,
          "id": "54_0000000000000000001d",
          "max": 0.00015536725757051996,
          "median": 0.00011746427995875312,
          "min": 9.600819121140693e-05
         },
         {
          "NAAM_N2K": "Veluwe",
          "OBJECTID": 194,
          "date": "2018-10-19T00:00:00",
          "geometry": null,
          "id": "55_00000000000000000064",
          "max": 0.0001487706711383464,
          "median": 0.00013693591946986697,
          "min": 0.00010490343588279406
         },
         {
          "NAAM_N2K": "Biesbosch",
          "OBJECTID": 14,
          "date": "2018-10-19T00:00:00",
          "geometry": null,
          "id": "55_00000000000000000081",
          "max": 0.00016248280469112236,
          "median": 0.00016248280469112236,
          "min": 0.00016248280469112236
         },
         {
          "NAAM_N2K": "Waddenzee",
          "OBJECTID": 201,
          "date": "2018-10-19T00:00:00",
          "geometry": null,
          "id": "55_0000000000000000006b",
          "max": 0.00011170143084981891,
          "median": 9.813750443636807e-05,
          "min": 9.813750443636807e-05
         },
         {
          "NAAM_N2K": "Rijntakken",
          "OBJECTID": 195,
          "date": "2018-10-19T00:00:00",
          "geometry": null,
          "id": "55_00000000000000000065",
          "max": 0.00015799458700902923,
          "median": 0.00013693591946986697,
          "min": 0.00011631604162111206
         },
         {
          "NAAM_N2K": "Weerribben",
          "OBJECTID": 200,
          "date": "2018-10-19T00:00:00",
          "geometry": null,
          "id": "55_0000000000000000006a",
          "max": 0.0001082876130002225,
          "median": 0.00010780128017058307,
          "min": 0.00010731494734094364
         },
         {
          "NAAM_N2K": "Oosterschelde",
          "OBJECTID": 123,
          "date": "2018-10-19T00:00:00",
          "geometry": null,
          "id": "55_0000000000000000001d",
          "max": 0.00022036928818846465,
          "median": 0.0001579740253034395,
          "min": 0.0001579740253034395
         },
         {
          "NAAM_N2K": "Veluwe",
          "OBJECTID": 194,
          "date": "2018-10-21T00:00:00",
          "geometry": null,
          "id": "56_00000000000000000064",
          "max": 0.00010059844099874403,
          "median": 8.653807880173265e-05,
          "min": 6.891740275282677e-05
         },
         {
          "NAAM_N2K": "Biesbosch",
          "OBJECTID": 14,
          "date": "2018-10-21T00:00:00",
          "geometry": null,
          "id": "56_00000000000000000081",
          "max": 0.0001114144934436933,
          "median": 0.0001114144934436933,
          "min": 0.0001114144934436933
         },
         {
          "NAAM_N2K": "Waddenzee",
          "OBJECTID": 201,
          "date": "2018-10-21T00:00:00",
          "geometry": null,
          "id": "56_0000000000000000006b",
          "max": 5.750164413152083e-05,
          "median": 5.7304361131166094e-05,
          "min": 5.7304361131166094e-05
         },
         {
          "NAAM_N2K": "Rijntakken",
          "OBJECTID": 195,
          "date": "2018-10-21T00:00:00",
          "geometry": null,
          "id": "56_00000000000000000065",
          "max": 0.00010059844099874403,
          "median": 9.340577462905447e-05,
          "min": 7.449126861545425e-05
         },
         {
          "NAAM_N2K": "Weerribben",
          "OBJECTID": 200,
          "date": "2018-10-21T00:00:00",
          "geometry": null,
          "id": "56_0000000000000000006a",
          "max": 6.537343530725811e-05,
          "median": 6.532976885420788e-05,
          "min": 6.528610240115765e-05
         },
         {
          "NAAM_N2K": "Oosterschelde",
          "OBJECTID": 123,
          "date": "2018-10-21T00:00:00",
          "geometry": null,
          "id": "56_0000000000000000001d",
          "max": 0.0001404549688604148,
          "median": 0.00010925266949596937,
          "min": 9.325290599418504e-05
         },
         {
          "NAAM_N2K": "Veluwe",
          "OBJECTID": 194,
          "date": "2018-10-23T00:00:00",
          "geometry": null,
          "id": "57_00000000000000000064",
          "max": 0.00010185850700687294,
          "median": 6.199610792628974e-05,
          "min": 5.2638638788864706e-05
         },
         {
          "NAAM_N2K": "Biesbosch",
          "OBJECTID": 14,
          "date": "2018-10-23T00:00:00",
          "geometry": null,
          "id": "57_00000000000000000081",
          "max": 0.00010176994056809098,
          "median": 0.00010176994056809098,
          "min": 0.00010176994056809098
         },
         {
          "NAAM_N2K": "Waddenzee",
          "OBJECTID": 201,
          "date": "2018-10-23T00:00:00",
          "geometry": null,
          "id": "57_0000000000000000006b",
          "max": 6.0063082597842896e-05,
          "median": 5.4675195919299e-05,
          "min": 5.4675195919299e-05
         },
         {
          "NAAM_N2K": "Rijntakken",
          "OBJECTID": 195,
          "date": "2018-10-23T00:00:00",
          "geometry": null,
          "id": "57_00000000000000000065",
          "max": 0.00011108704000521702,
          "median": 9.437128568838237e-05,
          "min": 5.622438765430783e-05
         },
         {
          "NAAM_N2K": "Weerribben",
          "OBJECTID": 200,
          "date": "2018-10-23T00:00:00",
          "geometry": null,
          "id": "57_0000000000000000006a",
          "max": 5.937120259625094e-05,
          "median": 5.818335932543301e-05,
          "min": 5.699551605461509e-05
         },
         {
          "NAAM_N2K": "Oosterschelde",
          "OBJECTID": 123,
          "date": "2018-10-23T00:00:00",
          "geometry": null,
          "id": "57_0000000000000000001d",
          "max": 0.00010915535351722893,
          "median": 8.928400470036382e-05,
          "min": 7.754518326063654e-05
         },
         {
          "NAAM_N2K": "Veluwe",
          "OBJECTID": 194,
          "date": "2018-10-25T00:00:00",
          "geometry": null,
          "id": "58_00000000000000000064",
          "max": 0.00013263170068114098,
          "median": 0.00012104548802453145,
          "min": 8.215169040787965e-05
         },
         {
          "NAAM_N2K": "Biesbosch",
          "OBJECTID": 14,
          "date": "2018-10-25T00:00:00",
          "geometry": null,
          "id": "58_00000000000000000081",
          "max": 0.0001464756138543812,
          "median": 0.0001464756138543812,
          "min": 0.0001464756138543812
         },
         {
          "NAAM_N2K": "Waddenzee",
          "OBJECTID": 201,
          "date": "2018-10-25T00:00:00",
          "geometry": null,
          "id": "58_0000000000000000006b",
          "max": 5.2795541569850426e-05,
          "median": 4.9117637869439e-05,
          "min": 4.9117637869439e-05
         },
         {
          "NAAM_N2K": "Rijntakken",
          "OBJECTID": 195,
          "date": "2018-10-25T00:00:00",
          "geometry": null,
          "id": "58_00000000000000000065",
          "max": 0.0001691045058257876,
          "median": 0.00012843326595763353,
          "min": 9.054887004321704e-05
         },
         {
          "NAAM_N2K": "Weerribben",
          "OBJECTID": 200,
          "date": "2018-10-25T00:00:00",
          "geometry": null,
          "id": "58_0000000000000000006a",
          "max": 7.718107393180849e-05,
          "median": 7.146199254791843e-05,
          "min": 6.574291116402838e-05
         },
         {
          "NAAM_N2K": "Oosterschelde",
          "OBJECTID": 123,
          "date": "2018-10-25T00:00:00",
          "geometry": null,
          "id": "58_0000000000000000001d",
          "max": 0.00011240585549028266,
          "median": 8.269548139032968e-05,
          "min": 8.269548139032968e-05
         },
         {
          "NAAM_N2K": "Veluwe",
          "OBJECTID": 194,
          "date": "2018-10-27T00:00:00",
          "geometry": null,
          "id": "59_00000000000000000064",
          "max": 9.299418797590447e-05,
          "median": 7.653526692494536e-05,
          "min": 6.626504499900062e-05
         },
         {
          "NAAM_N2K": "Biesbosch",
          "OBJECTID": 14,
          "date": "2018-10-27T00:00:00",
          "geometry": null,
          "id": "59_00000000000000000081",
          "max": 9.331104154628399e-05,
          "median": 9.331104154628399e-05,
          "min": 9.331104154628399e-05
         },
         {
          "NAAM_N2K": "Waddenzee",
          "OBJECTID": 201,
          "date": "2018-10-27T00:00:00",
          "geometry": null,
          "id": "59_0000000000000000006b",
          "max": 7.190835506453396e-05,
          "median": 6.435068697780105e-05,
          "min": 6.435068697780105e-05
         },
         {
          "NAAM_N2K": "Rijntakken",
          "OBJECTID": 195,
          "date": "2018-10-27T00:00:00",
          "geometry": null,
          "id": "59_00000000000000000065",
          "max": 9.299418797590447e-05,
          "median": 8.422307589836384e-05,
          "min": 6.806826004045273e-05
         },
         {
          "NAAM_N2K": "Weerribben",
          "OBJECTID": 200,
          "date": "2018-10-27T00:00:00",
          "geometry": null,
          "id": "59_0000000000000000006a",
          "max": 6.565600972296151e-05,
          "median": 6.476669544176904e-05,
          "min": 6.387738116057657e-05
         },
         {
          "NAAM_N2K": "Oosterschelde",
          "OBJECTID": 123,
          "date": "2018-10-27T00:00:00",
          "geometry": null,
          "id": "59_0000000000000000001d",
          "max": 8.429612954686085e-05,
          "median": 7.678451899566279e-05,
          "min": 7.678451899566279e-05
         },
         {
          "NAAM_N2K": "Veluwe",
          "OBJECTID": 194,
          "date": "2018-10-29T00:00:00",
          "geometry": null,
          "id": "60_00000000000000000064",
          "max": 0.0001480614573420992,
          "median": 0.00010399541823236502,
          "min": 7.509335271390232e-05
         },
         {
          "NAAM_N2K": "Biesbosch",
          "OBJECTID": 14,
          "date": "2018-10-29T00:00:00",
          "geometry": null,
          "id": "60_00000000000000000081",
          "max": 8.32621425860408e-05,
          "median": 8.32621425860408e-05,
          "min": 8.32621425860408e-05
         },
         {
          "NAAM_N2K": "Waddenzee",
          "OBJECTID": 201,
          "date": "2018-10-29T00:00:00",
          "geometry": null,
          "id": "60_0000000000000000006b",
          "max": 7.849663678288925e-05,
          "median": 6.932302080130331e-05,
          "min": 6.932302080130331e-05
         },
         {
          "NAAM_N2K": "Rijntakken",
          "OBJECTID": 195,
          "date": "2018-10-29T00:00:00",
          "geometry": null,
          "id": "60_00000000000000000065",
          "max": 0.00016087286007700002,
          "median": 0.00010399541823236502,
          "min": 7.512404531655912e-05
         },
         {
          "NAAM_N2K": "Weerribben",
          "OBJECTID": 200,
          "date": "2018-10-29T00:00:00",
          "geometry": null,
          "id": "60_0000000000000000006a",
          "max": 7.95472592695198e-05,
          "median": 7.685008746837118e-05,
          "min": 7.415291566722256e-05
         },
         {
          "NAAM_N2K": "Oosterschelde",
          "OBJECTID": 123,
          "date": "2018-10-29T00:00:00",
          "geometry": null,
          "id": "60_0000000000000000001d",
          "max": 0.00011919065849364885,
          "median": 7.856335405541706e-05,
          "min": 7.734391319137161e-05
         },
         {
          "NAAM_N2K": "Veluwe",
          "OBJECTID": 194,
          "date": "2018-10-31T00:00:00",
          "geometry": null,
          "id": "61_00000000000000000064",
          "max": 0.00019078691978656145,
          "median": 0.0001508776191953089,
          "min": 0.00013932256078799993
         },
         {
          "NAAM_N2K": "Biesbosch",
          "OBJECTID": 14,
          "date": "2018-10-31T00:00:00",
          "geometry": null,
          "id": "61_00000000000000000081",
          "max": 0.00015382312594552602,
          "median": 0.00015382312594552602,
          "min": 0.00015382312594552602
         },
         {
          "NAAM_N2K": "Waddenzee",
          "OBJECTID": 201,
          "date": "2018-10-31T00:00:00",
          "geometry": null,
          "id": "61_0000000000000000006b",
          "max": 0.00015401271980346873,
          "median": 0.00015401271980346873,
          "min": 0.0001494581664512158
         },
         {
          "NAAM_N2K": "Rijntakken",
          "OBJECTID": 195,
          "date": "2018-10-31T00:00:00",
          "geometry": null,
          "id": "61_00000000000000000065",
          "max": 0.0002449060945325292,
          "median": 0.00016014398086051929,
          "min": 0.00013932256078799993
         },
         {
          "NAAM_N2K": "Weerribben",
          "OBJECTID": 200,
          "date": "2018-10-31T00:00:00",
          "geometry": null,
          "id": "61_0000000000000000006a",
          "max": 0.0001460078735404944,
          "median": 0.00014532547154642172,
          "min": 0.00014464306955234903
         },
         {
          "NAAM_N2K": "Oosterschelde",
          "OBJECTID": 123,
          "date": "2018-10-31T00:00:00",
          "geometry": null,
          "id": "61_0000000000000000001d",
          "max": 0.0001808156067475849,
          "median": 0.0001798975286104149,
          "min": 0.0001413666137296476
         },
         {
          "NAAM_N2K": "Veluwe",
          "OBJECTID": 194,
          "date": "2018-11-02T00:00:00",
          "geometry": null,
          "id": "62_00000000000000000064",
          "max": 0.00018520058049598467,
          "median": 0.00017561538953817294,
          "min": 0.0001471664747059154
         },
         {
          "NAAM_N2K": "Biesbosch",
          "OBJECTID": 14,
          "date": "2018-11-02T00:00:00",
          "geometry": null,
          "id": "62_00000000000000000081",
          "max": 0.0001474421088039595,
          "median": 0.0001474421088039595,
          "min": 0.0001474421088039595
         },
         {
          "NAAM_N2K": "Waddenzee",
          "OBJECTID": 201,
          "date": "2018-11-02T00:00:00",
          "geometry": null,
          "id": "62_0000000000000000006b",
          "max": 8.266060420623433e-05,
          "median": 8.254549046748339e-05,
          "min": 8.254549046748339e-05
         },
         {
          "NAAM_N2K": "Rijntakken",
          "OBJECTID": 195,
          "date": "2018-11-02T00:00:00",
          "geometry": null,
          "id": "62_00000000000000000065",
          "max": 0.0001873590553339129,
          "median": 0.00017561538953817294,
          "min": 0.00015160771662445121
         },
         {
          "NAAM_N2K": "Weerribben",
          "OBJECTID": 200,
          "date": "2018-11-02T00:00:00",
          "geometry": null,
          "id": "62_0000000000000000006a",
          "max": 0.00012481026082057157,
          "median": 0.00012259118637608475,
          "min": 0.00012037211193159793
         },
         {
          "NAAM_N2K": "Oosterschelde",
          "OBJECTID": 123,
          "date": "2018-11-02T00:00:00",
          "geometry": null,
          "id": "62_0000000000000000001d",
          "max": 0.00017428850574349562,
          "median": 0.00011330313939629055,
          "min": 0.00010247860024336974
         },
         {
          "NAAM_N2K": "Veluwe",
          "OBJECTID": 194,
          "date": "2018-11-04T00:00:00",
          "geometry": null,
          "id": "63_00000000000000000064",
          "max": 0.00018433690653071188,
          "median": 0.00015158453549264439,
          "min": 0.00013039797160362563
         },
         {
          "NAAM_N2K": "Biesbosch",
          "OBJECTID": 14,
          "date": "2018-11-04T00:00:00",
          "geometry": null,
          "id": "63_00000000000000000081",
          "max": 0.00020152298220024828,
          "median": 0.00020152298220024828,
          "min": 0.00020152298220024828
         },
         {
          "NAAM_N2K": "Waddenzee",
          "OBJECTID": 201,
          "date": "2018-11-04T00:00:00",
          "geometry": null,
          "id": "63_0000000000000000006b",
          "max": 0.00011194041052890926,
          "median": 0.00011194041052890926,
          "min": 0.00010973468202857994
         },
         {
          "NAAM_N2K": "Rijntakken",
          "OBJECTID": 195,
          "date": "2018-11-04T00:00:00",
          "geometry": null,
          "id": "63_00000000000000000065",
          "max": 0.0001813419792144464,
          "median": 0.0001710885649836892,
          "min": 0.0001442818961334163
         },
         {
          "NAAM_N2K": "Weerribben",
          "OBJECTID": 200,
          "date": "2018-11-04T00:00:00",
          "geometry": null,
          "id": "63_0000000000000000006a",
          "max": 0.000123740362070324,
          "median": 0.00012165648942021279,
          "min": 0.00011957261677010158
         },
         {
          "NAAM_N2K": "Oosterschelde",
          "OBJECTID": 123,
          "date": "2018-11-04T00:00:00",
          "geometry": null,
          "id": "63_0000000000000000001d",
          "max": 0.00022203485467494163,
          "median": 0.00015213374786799213,
          "min": 0.00015213374786799213
         },
         {
          "NAAM_N2K": "Veluwe",
          "OBJECTID": 194,
          "date": "2018-11-06T00:00:00",
          "geometry": null,
          "id": "64_00000000000000000064",
          "max": 0.00015273434721931517,
          "median": 0.00013767664603840047,
          "min": 0.00013119848411212204
         },
         {
          "NAAM_N2K": "Biesbosch",
          "OBJECTID": 14,
          "date": "2018-11-06T00:00:00",
          "geometry": null,
          "id": "64_00000000000000000081",
          "max": 0.00014804336657702852,
          "median": 0.00014804336657702852,
          "min": 0.00014804336657702852
         },
         {
          "NAAM_N2K": "Waddenzee",
          "OBJECTID": 201,
          "date": "2018-11-06T00:00:00",
          "geometry": null,
          "id": "64_0000000000000000006b",
          "max": 0.00016513179914063008,
          "median": 0.0001630136639437173,
          "min": 0.0001630136639437173
         },
         {
          "NAAM_N2K": "Rijntakken",
          "OBJECTID": 195,
          "date": "2018-11-06T00:00:00",
          "geometry": null,
          "id": "64_00000000000000000065",
          "max": 0.00015273434721931517,
          "median": 0.00014060894579373832,
          "min": 0.00013119848411212204
         },
         {
          "NAAM_N2K": "Weerribben",
          "OBJECTID": 200,
          "date": "2018-11-06T00:00:00",
          "geometry": null,
          "id": "64_0000000000000000006a",
          "max": 0.0001519035664677601,
          "median": 0.00014569921906958203,
          "min": 0.000139494871671404
         },
         {
          "NAAM_N2K": "Oosterschelde",
          "OBJECTID": 123,
          "date": "2018-11-06T00:00:00",
          "geometry": null,
          "id": "64_0000000000000000001d",
          "max": 0.00033162810610204636,
          "median": 0.00033162810610204636,
          "min": 0.0001502515168449577
         },
         {
          "NAAM_N2K": "Veluwe",
          "OBJECTID": 194,
          "date": "2018-11-08T00:00:00",
          "geometry": null,
          "id": "65_00000000000000000064",
          "max": 0.0001502075155902852,
          "median": 0.00013247005124366706,
          "min": 0.00012512340453332864
         },
         {
          "NAAM_N2K": "Biesbosch",
          "OBJECTID": 14,
          "date": "2018-11-08T00:00:00",
          "geometry": null,
          "id": "65_00000000000000000081",
          "max": 0.00015825292865804955,
          "median": 0.00015825292865804955,
          "min": 0.00015825292865804955
         },
         {
          "NAAM_N2K": "Waddenzee",
          "OBJECTID": 201,
          "date": "2018-11-08T00:00:00",
          "geometry": null,
          "id": "65_0000000000000000006b",
          "max": 9.504265837044309e-05,
          "median": 9.401773403127621e-05,
          "min": 9.401773403127621e-05
         },
         {
          "NAAM_N2K": "Rijntakken",
          "OBJECTID": 195,
          "date": "2018-11-08T00:00:00",
          "geometry": null,
          "id": "65_00000000000000000065",
          "max": 0.0001414281097072303,
          "median": 0.00013016406448376023,
          "min": 0.0001231351475605906
         },
         {
          "NAAM_N2K": "Weerribben",
          "OBJECTID": 200,
          "date": "2018-11-08T00:00:00",
          "geometry": null,
          "id": "65_0000000000000000006a",
          "max": 0.00014985097475609635,
          "median": 0.00014462120716540473,
          "min": 0.0001393914395747131
         },
         {
          "NAAM_N2K": "Oosterschelde",
          "OBJECTID": 123,
          "date": "2018-11-08T00:00:00",
          "geometry": null,
          "id": "65_0000000000000000001d",
          "max": 0.0001468930361008022,
          "median": 0.0001468930361008022,
          "min": 0.00012540813269525374
         },
         {
          "NAAM_N2K": "Veluwe",
          "OBJECTID": 194,
          "date": "2018-11-10T00:00:00",
          "geometry": null,
          "id": "66_00000000000000000064",
          "max": 0.0002108137777255417,
          "median": 0.00015225667826048378,
          "min": 0.00014571045330764705
         },
         {
          "NAAM_N2K": "Biesbosch",
          "OBJECTID": 14,
          "date": "2018-11-10T00:00:00",
          "geometry": null,
          "id": "66_00000000000000000081",
          "max": 0.000148444905745377,
          "median": 0.000148444905745377,
          "min": 0.000148444905745377
         },
         {
          "NAAM_N2K": "Waddenzee",
          "OBJECTID": 201,
          "date": "2018-11-10T00:00:00",
          "geometry": null,
          "id": "66_0000000000000000006b",
          "max": 0.0002031173887178505,
          "median": 0.00016969692551081848,
          "min": 0.00016969692551081848
         },
         {
          "NAAM_N2K": "Rijntakken",
          "OBJECTID": 195,
          "date": "2018-11-10T00:00:00",
          "geometry": null,
          "id": "66_00000000000000000065",
          "max": 0.0002108137777255417,
          "median": 0.00016127873296204332,
          "min": 0.00014518810102495536
         },
         {
          "NAAM_N2K": "Weerribben",
          "OBJECTID": 200,
          "date": "2018-11-10T00:00:00",
          "geometry": null,
          "id": "66_0000000000000000006a",
          "max": 0.00018670404096030296,
          "median": 0.00017419144765821377,
          "min": 0.0001616788543561246
         },
         {
          "NAAM_N2K": "Oosterschelde",
          "OBJECTID": 123,
          "date": "2018-11-10T00:00:00",
          "geometry": null,
          "id": "66_0000000000000000001d",
          "max": 0.00013704140072877055,
          "median": 0.00010397276936443642,
          "min": 7.870758675712625e-05
         },
         {
          "NAAM_N2K": "Veluwe",
          "OBJECTID": 194,
          "date": "2018-11-12T00:00:00",
          "geometry": null,
          "id": "67_00000000000000000064",
          "max": 0.0002489488871585804,
          "median": 0.00021954987131590954,
          "min": 0.00017223670307940915
         },
         {
          "NAAM_N2K": "Biesbosch",
          "OBJECTID": 14,
          "date": "2018-11-12T00:00:00",
          "geometry": null,
          "id": "67_00000000000000000081",
          "max": 0.00017492397351444642,
          "median": 0.00017492397351444642,
          "min": 0.00017492397351444642
         },
         {
          "NAAM_N2K": "Waddenzee",
          "OBJECTID": 201,
          "date": "2018-11-12T00:00:00",
          "geometry": null,
          "id": "67_0000000000000000006b",
          "max": 0.00015434671672288712,
          "median": 0.00015434671672288712,
          "min": 0.00015369227709589569
         },
         {
          "NAAM_N2K": "Rijntakken",
          "OBJECTID": 195,
          "date": "2018-11-12T00:00:00",
          "geometry": null,
          "id": "67_00000000000000000065",
          "max": 0.0002489488871585804,
          "median": 0.00019991475531688592,
          "min": 9.851046497027007e-05
         },
         {
          "NAAM_N2K": "Weerribben",
          "OBJECTID": 200,
          "date": "2018-11-12T00:00:00",
          "geometry": null,
          "id": "67_0000000000000000006a",
          "max": 0.00018725632817618378,
          "median": 0.00018070035223760549,
          "min": 0.0001741443762990272
         },
         {
          "NAAM_N2K": "Oosterschelde",
          "OBJECTID": 123,
          "date": "2018-11-12T00:00:00",
          "geometry": null,
          "id": "67_0000000000000000001d",
          "max": 0.00013705308859003563,
          "median": 9.97420928225003e-05,
          "min": 9.6712164615486e-05
         },
         {
          "NAAM_N2K": "Veluwe",
          "OBJECTID": 194,
          "date": "2018-11-14T00:00:00",
          "geometry": null,
          "id": "68_00000000000000000064",
          "max": 0.00016202947996642425,
          "median": 0.00015179355580161952,
          "min": 0.00012654679466688297
         },
         {
          "NAAM_N2K": "Biesbosch",
          "OBJECTID": 14,
          "date": "2018-11-14T00:00:00",
          "geometry": null,
          "id": "68_00000000000000000081",
          "max": 0.00017033526011151506,
          "median": 0.00017033526011151506,
          "min": 0.00017033526011151506
         },
         {
          "NAAM_N2K": "Waddenzee",
          "OBJECTID": 201,
          "date": "2018-11-14T00:00:00",
          "geometry": null,
          "id": "68_0000000000000000006b",
          "max": 0.0001150750952851189,
          "median": 0.00010794940934639241,
          "min": 0.00010794940934639241
         },
         {
          "NAAM_N2K": "Rijntakken",
          "OBJECTID": 195,
          "date": "2018-11-14T00:00:00",
          "geometry": null,
          "id": "68_00000000000000000065",
          "max": 0.00016202947996642425,
          "median": 0.00014934971027868906,
          "min": 0.00013149759621674712
         },
         {
          "NAAM_N2K": "Weerribben",
          "OBJECTID": 200,
          "date": "2018-11-14T00:00:00",
          "geometry": null,
          "id": "68_0000000000000000006a",
          "max": 0.0001291139280090465,
          "median": 0.00012756897512953378,
          "min": 0.00012602402225002108
         },
         {
          "NAAM_N2K": "Oosterschelde",
          "OBJECTID": 123,
          "date": "2018-11-14T00:00:00",
          "geometry": null,
          "id": "68_0000000000000000001d",
          "max": 0.00020657240688880198,
          "median": 0.00015576329691203929,
          "min": 0.0001416806907743213
         },
         {
          "NAAM_N2K": "Veluwe",
          "OBJECTID": 194,
          "date": "2018-11-16T00:00:00",
          "geometry": null,
          "id": "69_00000000000000000064",
          "max": 0.00017858977695211584,
          "median": 0.0001369633916599003,
          "min": 0.0001101789929567723
         },
         {
          "NAAM_N2K": "Biesbosch",
          "OBJECTID": 14,
          "date": "2018-11-16T00:00:00",
          "geometry": null,
          "id": "69_00000000000000000081",
          "max": 0.00011580395126085642,
          "median": 0.00011580395126085642,
          "min": 0.00011580395126085642
         },
         {
          "NAAM_N2K": "Waddenzee",
          "OBJECTID": 201,
          "date": "2018-11-16T00:00:00",
          "geometry": null,
          "id": "69_0000000000000000006b",
          "max": 9.292224149119263e-05,
          "median": 9.176690270253868e-05,
          "min": 9.176690270253868e-05
         },
         {
          "NAAM_N2K": "Rijntakken",
          "OBJECTID": 195,
          "date": "2018-11-16T00:00:00",
          "geometry": null,
          "id": "69_00000000000000000065",
          "max": 0.00017858977695211584,
          "median": 0.00014392581553693417,
          "min": 0.00011373042385768842
         },
         {
          "NAAM_N2K": "Weerribben",
          "OBJECTID": 200,
          "date": "2018-11-16T00:00:00",
          "geometry": null,
          "id": "69_0000000000000000006a",
          "max": 0.00013563904166533905,
          "median": 0.00013316143850820083,
          "min": 0.0001306838353510626
         },
         {
          "NAAM_N2K": "Oosterschelde",
          "OBJECTID": 123,
          "date": "2018-11-16T00:00:00",
          "geometry": null,
          "id": "69_0000000000000000001d",
          "max": 0.00017279597296909215,
          "median": 0.00015434637532870082,
          "min": 0.00013924907648784542
         },
         {
          "NAAM_N2K": "Veluwe",
          "OBJECTID": 194,
          "date": "2018-11-18T00:00:00",
          "geometry": null,
          "id": "70_00000000000000000064",
          "max": 8.255200636143341e-05,
          "median": 6.9259299195877e-05,
          "min": 6.753319204721215e-05
         },
         {
          "NAAM_N2K": "Biesbosch",
          "OBJECTID": 14,
          "date": "2018-11-18T00:00:00",
          "geometry": null,
          "id": "70_00000000000000000081",
          "max": 7.541364667652307e-05,
          "median": 7.541364667652307e-05,
          "min": 7.541364667652307e-05
         },
         {
          "NAAM_N2K": "Waddenzee",
          "OBJECTID": 201,
          "date": "2018-11-18T00:00:00",
          "geometry": null,
          "id": "70_0000000000000000006b",
          "max": 6.889022698301604e-05,
          "median": 6.889022698301604e-05,
          "min": 6.644946527393068e-05
         },
         {
          "NAAM_N2K": "Rijntakken",
          "OBJECTID": 195,
          "date": "2018-11-18T00:00:00",
          "geometry": null,
          "id": "70_00000000000000000065",
          "max": 8.961013324263294e-05,
          "median": 7.881512966336018e-05,
          "min": 7.268496400589252e-05
         },
         {
          "NAAM_N2K": "Weerribben",
          "OBJECTID": 200,
          "date": "2018-11-18T00:00:00",
          "geometry": null,
          "id": "70_0000000000000000006a",
          "max": 7.7587918672783e-05,
          "median": 7.301805663614106e-05,
          "min": 6.844819459949912e-05
         },
         {
          "NAAM_N2K": "Oosterschelde",
          "OBJECTID": 123,
          "date": "2018-11-18T00:00:00",
          "geometry": null,
          "id": "70_0000000000000000001d",
          "max": 0.00012961382742941705,
          "median": 9.646533662806725e-05,
          "min": 9.253213235129748e-05
         },
         {
          "NAAM_N2K": "Veluwe",
          "OBJECTID": 194,
          "date": "2018-11-20T00:00:00",
          "geometry": null,
          "id": "71_00000000000000000064",
          "max": 9.80743707125679e-05,
          "median": 8.190263953384736e-05,
          "min": 7.500361034060869e-05
         },
         {
          "NAAM_N2K": "Biesbosch",
          "OBJECTID": 14,
          "date": "2018-11-20T00:00:00",
          "geometry": null,
          "id": "71_00000000000000000081",
          "max": 8.866528301455375e-05,
          "median": 8.866528301455375e-05,
          "min": 8.866528301455375e-05
         },
         {
          "NAAM_N2K": "Waddenzee",
          "OBJECTID": 201,
          "date": "2018-11-20T00:00:00",
          "geometry": null,
          "id": "71_0000000000000000006b",
          "max": 8.280261033021246e-05,
          "median": 8.280261033021246e-05,
          "min": 8.0069037959683e-05
         },
         {
          "NAAM_N2K": "Rijntakken",
          "OBJECTID": 195,
          "date": "2018-11-20T00:00:00",
          "geometry": null,
          "id": "71_00000000000000000065",
          "max": 9.80743707125679e-05,
          "median": 7.98441314592886e-05,
          "min": 7.710552351619502e-05
         },
         {
          "NAAM_N2K": "Weerribben",
          "OBJECTID": 200,
          "date": "2018-11-20T00:00:00",
          "geometry": null,
          "id": "71_0000000000000000006a",
          "max": 9.829044242946566e-05,
          "median": 9.261160278808685e-05,
          "min": 8.693276314670805e-05
         },
         {
          "NAAM_N2K": "Oosterschelde",
          "OBJECTID": 123,
          "date": "2018-11-20T00:00:00",
          "geometry": null,
          "id": "71_0000000000000000001d",
          "max": 0.0001175965583466475,
          "median": 8.820561111593509e-05,
          "min": 8.820561111593509e-05
         },
         {
          "NAAM_N2K": "Veluwe",
          "OBJECTID": 194,
          "date": "2018-11-22T00:00:00",
          "geometry": null,
          "id": "72_00000000000000000064",
          "max": 0.00020153206611114584,
          "median": 0.00013535375067441675,
          "min": 0.0001171764757709373
         },
         {
          "NAAM_N2K": "Biesbosch",
          "OBJECTID": 14,
          "date": "2018-11-22T00:00:00",
          "geometry": null,
          "id": "72_00000000000000000081",
          "max": 0.00016282733760902165,
          "median": 0.00016282733760902165,
          "min": 0.00016282733760902165
         },
         {
          "NAAM_N2K": "Waddenzee",
          "OBJECTID": 201,
          "date": "2018-11-22T00:00:00",
          "geometry": null,
          "id": "72_0000000000000000006b",
          "max": 0.00012013172584229011,
          "median": 0.00011469720550774591,
          "min": 0.00011469720550774591
         },
         {
          "NAAM_N2K": "Rijntakken",
          "OBJECTID": 195,
          "date": "2018-11-22T00:00:00",
          "geometry": null,
          "id": "72_00000000000000000065",
          "max": 0.00020153206611114584,
          "median": 0.00014312040454925466,
          "min": 0.00012100561937687471
         },
         {
          "NAAM_N2K": "Weerribben",
          "OBJECTID": 200,
          "date": "2018-11-22T00:00:00",
          "geometry": null,
          "id": "72_0000000000000000006a",
          "max": 0.00011877883545981544,
          "median": 0.00011537734823695397,
          "min": 0.00011197586101409249
         },
         {
          "NAAM_N2K": "Oosterschelde",
          "OBJECTID": 123,
          "date": "2018-11-22T00:00:00",
          "geometry": null,
          "id": "72_0000000000000000001d",
          "max": 0.00020551298043708978,
          "median": 0.00013151373384135968,
          "min": 0.0001281464464984449
         },
         {
          "NAAM_N2K": "Veluwe",
          "OBJECTID": 194,
          "date": "2018-11-24T00:00:00",
          "geometry": null,
          "id": "73_00000000000000000064",
          "max": 0.000385117728042273,
          "median": 0.0003304167775726993,
          "min": 0.00017944313101766254
         },
         {
          "NAAM_N2K": "Biesbosch",
          "OBJECTID": 14,
          "date": "2018-11-24T00:00:00",
          "geometry": null,
          "id": "73_00000000000000000081",
          "max": 0.00039434092235019364,
          "median": 0.00039434092235019364,
          "min": 0.00039434092235019364
         },
         {
          "NAAM_N2K": "Waddenzee",
          "OBJECTID": 201,
          "date": "2018-11-24T00:00:00",
          "geometry": null,
          "id": "73_0000000000000000006b",
          "max": 8.012107546440152e-05,
          "median": 6.534164796679639e-05,
          "min": 6.534164796679639e-05
         },
         {
          "NAAM_N2K": "Rijntakken",
          "OBJECTID": 195,
          "date": "2018-11-24T00:00:00",
          "geometry": null,
          "id": "73_00000000000000000065",
          "max": 0.00043896776812465304,
          "median": 0.00035123624458789757,
          "min": 0.0002389015613523482
         },
         {
          "NAAM_N2K": "Weerribben",
          "OBJECTID": 200,
          "date": "2018-11-24T00:00:00",
          "geometry": null,
          "id": "73_0000000000000000006a",
          "max": 0.00014960372622019213,
          "median": 0.00013625006180513065,
          "min": 0.00012289639739006914
         },
         {
          "NAAM_N2K": "Oosterschelde",
          "OBJECTID": 123,
          "date": "2018-11-24T00:00:00",
          "geometry": null,
          "id": "73_0000000000000000001d",
          "max": 0.000381823760231528,
          "median": 0.00036675369350448647,
          "min": 0.000321007719988429
         },
         {
          "NAAM_N2K": "Veluwe",
          "OBJECTID": 194,
          "date": "2018-11-26T00:00:00",
          "geometry": null,
          "id": "74_00000000000000000064",
          "max": 0.0002847968191153002,
          "median": 0.00018194365144728365,
          "min": 0.00010044322200421829
         },
         {
          "NAAM_N2K": "Biesbosch",
          "OBJECTID": 14,
          "date": "2018-11-26T00:00:00",
          "geometry": null,
          "id": "74_00000000000000000081",
          "max": 0.0001976282403316749,
          "median": 0.0001976282403316749,
          "min": 0.0001976282403316749
         },
         {
          "NAAM_N2K": "Waddenzee",
          "OBJECTID": 201,
          "date": "2018-11-26T00:00:00",
          "geometry": null,
          "id": "74_0000000000000000006b",
          "max": 8.491150761101178e-05,
          "median": 8.491150761101178e-05,
          "min": 6.142628498953158e-05
         },
         {
          "NAAM_N2K": "Rijntakken",
          "OBJECTID": 195,
          "date": "2018-11-26T00:00:00",
          "geometry": null,
          "id": "74_00000000000000000065",
          "max": 0.0002847968191153002,
          "median": 0.00021018299460072036,
          "min": 0.00010044322200421829
         },
         {
          "NAAM_N2K": "Weerribben",
          "OBJECTID": 200,
          "date": "2018-11-26T00:00:00",
          "geometry": null,
          "id": "74_0000000000000000006a",
          "max": 8.653200975681838e-05,
          "median": 8.260387461731447e-05,
          "min": 7.867573947781057e-05
         },
         {
          "NAAM_N2K": "Oosterschelde",
          "OBJECTID": 123,
          "date": "2018-11-26T00:00:00",
          "geometry": null,
          "id": "74_0000000000000000001d",
          "max": 0.0002856316950164378,
          "median": 0.00023949142192569473,
          "min": 0.00021736774263633366
         },
         {
          "NAAM_N2K": "Veluwe",
          "OBJECTID": 194,
          "date": "2018-11-28T00:00:00",
          "geometry": null,
          "id": "75_00000000000000000064",
          "max": 0.00029857924897628684,
          "median": 0.0002659110888159035,
          "min": 0.00021441386281344812
         },
         {
          "NAAM_N2K": "Biesbosch",
          "OBJECTID": 14,
          "date": "2018-11-28T00:00:00",
          "geometry": null,
          "id": "75_00000000000000000081",
          "max": 0.000253020699578651,
          "median": 0.000253020699578651,
          "min": 0.000253020699578651
         },
         {
          "NAAM_N2K": "Waddenzee",
          "OBJECTID": 201,
          "date": "2018-11-28T00:00:00",
          "geometry": null,
          "id": "75_0000000000000000006b",
          "max": 0.00030046127390926904,
          "median": 0.00030046127390926904,
          "min": 0.0002564200650709989
         },
         {
          "NAAM_N2K": "Rijntakken",
          "OBJECTID": 195,
          "date": "2018-11-28T00:00:00",
          "geometry": null,
          "id": "75_00000000000000000065",
          "max": 0.00032532191640355357,
          "median": 0.00023856084144924055,
          "min": 0.00018472722170020375
         },
         {
          "NAAM_N2K": "Weerribben",
          "OBJECTID": 200,
          "date": "2018-11-28T00:00:00",
          "geometry": null,
          "id": "75_0000000000000000006a",
          "max": 0.00028282378396029054,
          "median": 0.00025705107160692265,
          "min": 0.00023127835925355477
         },
         {
          "NAAM_N2K": "Oosterschelde",
          "OBJECTID": 123,
          "date": "2018-11-28T00:00:00",
          "geometry": null,
          "id": "75_0000000000000000001d",
          "max": 0.00032765667810511027,
          "median": 0.0003087491063659064,
          "min": 0.00022198435749675818
         },
         {
          "NAAM_N2K": "Veluwe",
          "OBJECTID": 194,
          "date": "2018-11-30T00:00:00",
          "geometry": null,
          "id": "76_00000000000000000064",
          "max": 0.00013561752821783429,
          "median": 0.00010114971103694618,
          "min": 8.82061066654824e-05
         },
         {
          "NAAM_N2K": "Biesbosch",
          "OBJECTID": 14,
          "date": "2018-11-30T00:00:00",
          "geometry": null,
          "id": "76_00000000000000000081",
          "max": 0.00011329825112776887,
          "median": 0.00011329825112776887,
          "min": 0.00011329825112776887
         },
         {
          "NAAM_N2K": "Waddenzee",
          "OBJECTID": 201,
          "date": "2018-11-30T00:00:00",
          "geometry": null,
          "id": "76_0000000000000000006b",
          "max": 0.00015718868300600175,
          "median": 0.0001571882718243382,
          "min": 0.0001571882718243382
         },
         {
          "NAAM_N2K": "Rijntakken",
          "OBJECTID": 195,
          "date": "2018-11-30T00:00:00",
          "geometry": null,
          "id": "76_00000000000000000065",
          "max": 0.00010183066690425466,
          "median": 9.335730353089063e-05,
          "min": 8.048705325720731e-05
         },
         {
          "NAAM_N2K": "Weerribben",
          "OBJECTID": 200,
          "date": "2018-11-30T00:00:00",
          "geometry": null,
          "id": "76_0000000000000000006a",
          "max": 0.00012328479783981096,
          "median": 0.00011610229234210054,
          "min": 0.00010891978684439012
         },
         {
          "NAAM_N2K": "Oosterschelde",
          "OBJECTID": 123,
          "date": "2018-11-30T00:00:00",
          "geometry": null,
          "id": "76_0000000000000000001d",
          "max": 0.0001167271734169666,
          "median": 0.00010017943911610058,
          "min": 0.00010017943911610058
         },
         {
          "NAAM_N2K": "Veluwe",
          "OBJECTID": 194,
          "date": "2018-12-02T00:00:00",
          "geometry": null,
          "id": "77_00000000000000000064",
          "max": 0.00022573447191238867,
          "median": 0.000128300068907896,
          "min": 0.00011407377642279912
         },
         {
          "NAAM_N2K": "Biesbosch",
          "OBJECTID": 14,
          "date": "2018-12-02T00:00:00",
          "geometry": null,
          "id": "77_00000000000000000081",
          "max": 9.738080446876627e-05,
          "median": 9.738080446876627e-05,
          "min": 9.738080446876627e-05
         },
         {
          "NAAM_N2K": "Waddenzee",
          "OBJECTID": 201,
          "date": "2018-12-02T00:00:00",
          "geometry": null,
          "id": "77_0000000000000000006b",
          "max": 0.00014629704459845423,
          "median": 0.00014014479882061827,
          "min": 0.00014014479882061827
         },
         {
          "NAAM_N2K": "Rijntakken",
          "OBJECTID": 195,
          "date": "2018-12-02T00:00:00",
          "geometry": null,
          "id": "77_00000000000000000065",
          "max": 0.00022573447191238867,
          "median": 0.0001516336143034076,
          "min": 0.00011854167103900828
         },
         {
          "NAAM_N2K": "Weerribben",
          "OBJECTID": 200,
          "date": "2018-12-02T00:00:00",
          "geometry": null,
          "id": "77_0000000000000000006a",
          "max": 0.00014286440477030132,
          "median": 0.00012884151821467303,
          "min": 0.00011481863165904472
         },
         {
          "NAAM_N2K": "Oosterschelde",
          "OBJECTID": 123,
          "date": "2018-12-02T00:00:00",
          "geometry": null,
          "id": "77_0000000000000000001d",
          "max": 0.00017723247078133605,
          "median": 0.00010723335386932277,
          "min": 0.00010723335386932277
         },
         {
          "NAAM_N2K": "Veluwe",
          "OBJECTID": 194,
          "date": "2018-12-04T00:00:00",
          "geometry": null,
          "id": "78_00000000000000000064",
          "max": 0.00020355882154716258,
          "median": 0.00018507538884833378,
          "min": 0.00010782879958554514
         },
         {
          "NAAM_N2K": "Biesbosch",
          "OBJECTID": 14,
          "date": "2018-12-04T00:00:00",
          "geometry": null,
          "id": "78_00000000000000000081",
          "max": 0.0002689973673330506,
          "median": 0.0002689973673330506,
          "min": 0.0002689973673330506
         },
         {
          "NAAM_N2K": "Waddenzee",
          "OBJECTID": 201,
          "date": "2018-12-04T00:00:00",
          "geometry": null,
          "id": "78_0000000000000000006b",
          "max": 0.00014523030277824688,
          "median": 0.00014523030277824688,
          "min": 0.0001344965214921188
         },
         {
          "NAAM_N2K": "Rijntakken",
          "OBJECTID": 195,
          "date": "2018-12-04T00:00:00",
          "geometry": null,
          "id": "78_00000000000000000065",
          "max": 0.00025694041711890587,
          "median": 0.00020355882154716258,
          "min": 0.000161746109096385
         },
         {
          "NAAM_N2K": "Weerribben",
          "OBJECTID": 200,
          "date": "2018-12-04T00:00:00",
          "geometry": null,
          "id": "78_0000000000000000006a",
          "max": 0.00013795214074662174,
          "median": 0.00013724132080039148,
          "min": 0.00013653050085416125
         },
         {
          "NAAM_N2K": "Oosterschelde",
          "OBJECTID": 123,
          "date": "2018-12-04T00:00:00",
          "geometry": null,
          "id": "78_0000000000000000001d",
          "max": 0.00022255116190249887,
          "median": 0.00022255116190249887,
          "min": 0.00015711622155502685
         },
         {
          "NAAM_N2K": "Veluwe",
          "OBJECTID": 194,
          "date": "2018-12-06T00:00:00",
          "geometry": null,
          "id": "79_00000000000000000064",
          "max": 0.00043762925153050165,
          "median": 0.00028903848924371946,
          "min": 0.00021930237307985634
         },
         {
          "NAAM_N2K": "Biesbosch",
          "OBJECTID": 14,
          "date": "2018-12-06T00:00:00",
          "geometry": null,
          "id": "79_00000000000000000081",
          "max": 0.0002816269850165864,
          "median": 0.0002816269850165864,
          "min": 0.0002816269850165864
         },
         {
          "NAAM_N2K": "Waddenzee",
          "OBJECTID": 201,
          "date": "2018-12-06T00:00:00",
          "geometry": null,
          "id": "79_0000000000000000006b",
          "max": 0.00022422626147150114,
          "median": 0.00021517915138841254,
          "min": 0.00021517915138841254
         },
         {
          "NAAM_N2K": "Rijntakken",
          "OBJECTID": 195,
          "date": "2018-12-06T00:00:00",
          "geometry": null,
          "id": "79_00000000000000000065",
          "max": 0.00043762925153050165,
          "median": 0.00026881310191749123,
          "min": 0.00018223123067689012
         },
         {
          "NAAM_N2K": "Weerribben",
          "OBJECTID": 200,
          "date": "2018-12-06T00:00:00",
          "geometry": null,
          "id": "79_0000000000000000006a",
          "max": 0.00038970863006428547,
          "median": 0.0003808929969735908,
          "min": 0.00037207736388289605
         },
         {
          "NAAM_N2K": "Oosterschelde",
          "OBJECTID": 123,
          "date": "2018-12-06T00:00:00",
          "geometry": null,
          "id": "79_0000000000000000001d",
          "max": 0.00040097280535783834,
          "median": 0.0003134766035327147,
          "min": 0.000268350032266584
         },
         {
          "NAAM_N2K": "Veluwe",
          "OBJECTID": 194,
          "date": "2018-12-08T00:00:00",
          "geometry": null,
          "id": "80_00000000000000000064",
          "max": 8.583008921559197e-05,
          "median": 7.210045218721643e-05,
          "min": 5.010523089673915e-05
         },
         {
          "NAAM_N2K": "Biesbosch",
          "OBJECTID": 14,
          "date": "2018-12-08T00:00:00",
          "geometry": null,
          "id": "80_00000000000000000081",
          "max": 6.912943952483684e-05,
          "median": 6.912943952483684e-05,
          "min": 6.912943952483684e-05
         },
         {
          "NAAM_N2K": "Waddenzee",
          "OBJECTID": 201,
          "date": "2018-12-08T00:00:00",
          "geometry": null,
          "id": "80_0000000000000000006b",
          "max": 5.270897439961748e-05,
          "median": 5.270897439961748e-05,
          "min": 4.9016926271192736e-05
         },
         {
          "NAAM_N2K": "Rijntakken",
          "OBJECTID": 195,
          "date": "2018-12-08T00:00:00",
          "geometry": null,
          "id": "80_00000000000000000065",
          "max": 7.306572623836126e-05,
          "median": 7.13492510796728e-05,
          "min": 5.586117027713964e-05
         },
         {
          "NAAM_N2K": "Weerribben",
          "OBJECTID": 200,
          "date": "2018-12-08T00:00:00",
          "geometry": null,
          "id": "80_0000000000000000006a",
          "max": 5.846650776945236e-05,
          "median": 5.585036482333394e-05,
          "min": 5.3234221877215526e-05
         },
         {
          "NAAM_N2K": "Oosterschelde",
          "OBJECTID": 123,
          "date": "2018-12-08T00:00:00",
          "geometry": null,
          "id": "80_0000000000000000001d",
          "max": 7.26655870619759e-05,
          "median": 6.989157562538998e-05,
          "min": 6.0292836971215436e-05
         },
         {
          "NAAM_N2K": "Veluwe",
          "OBJECTID": 194,
          "date": "2018-12-10T00:00:00",
          "geometry": null,
          "id": "81_00000000000000000064",
          "max": 0.00011363685156683015,
          "median": 6.42337650014396e-05,
          "min": 4.972298379888955e-05
         },
         {
          "NAAM_N2K": "Biesbosch",
          "OBJECTID": 14,
          "date": "2018-12-10T00:00:00",
          "geometry": null,
          "id": "81_00000000000000000081",
          "max": 0.00012377665239265737,
          "median": 0.00012377665239265737,
          "min": 0.00012377665239265737
         },
         {
          "NAAM_N2K": "Waddenzee",
          "OBJECTID": 201,
          "date": "2018-12-10T00:00:00",
          "geometry": null,
          "id": "81_0000000000000000006b",
          "max": 4.6090341614770144e-05,
          "median": 4.2015946019612876e-05,
          "min": 4.2015946019612876e-05
         },
         {
          "NAAM_N2K": "Rijntakken",
          "OBJECTID": 195,
          "date": "2018-12-10T00:00:00",
          "geometry": null,
          "id": "81_00000000000000000065",
          "max": 0.00011363685156683015,
          "median": 9.132332522688423e-05,
          "min": 4.972298379888955e-05
         },
         {
          "NAAM_N2K": "Weerribben",
          "OBJECTID": 200,
          "date": "2018-12-10T00:00:00",
          "geometry": null,
          "id": "81_0000000000000000006a",
          "max": 4.9941897307546295e-05,
          "median": 4.91321654666204e-05,
          "min": 4.8322433625694504e-05
         },
         {
          "NAAM_N2K": "Oosterschelde",
          "OBJECTID": 123,
          "date": "2018-12-10T00:00:00",
          "geometry": null,
          "id": "81_0000000000000000001d",
          "max": 0.00013798309108636165,
          "median": 9.520034767319477e-05,
          "min": 7.895327374931064e-05
         },
         {
          "NAAM_N2K": "Veluwe",
          "OBJECTID": 194,
          "date": "2018-12-12T00:00:00",
          "geometry": null,
          "id": "82_00000000000000000064",
          "max": 0.00011733391858680854,
          "median": 9.667646581294314e-05,
          "min": 7.666891268134599e-05
         },
         {
          "NAAM_N2K": "Biesbosch",
          "OBJECTID": 14,
          "date": "2018-12-12T00:00:00",
          "geometry": null,
          "id": "82_00000000000000000081",
          "max": 0.0001538326127505297,
          "median": 0.0001538326127505297,
          "min": 0.0001538326127505297
         },
         {
          "NAAM_N2K": "Waddenzee",
          "OBJECTID": 201,
          "date": "2018-12-12T00:00:00",
          "geometry": null,
          "id": "82_0000000000000000006b",
          "max": 8.810222432680624e-05,
          "median": 8.439163623556853e-05,
          "min": 8.439163623556853e-05
         },
         {
          "NAAM_N2K": "Rijntakken",
          "OBJECTID": 195,
          "date": "2018-12-12T00:00:00",
          "geometry": null,
          "id": "82_00000000000000000065",
          "max": 0.0001334112444638881,
          "median": 0.00011575070176160081,
          "min": 7.666891268134599e-05
         },
         {
          "NAAM_N2K": "Weerribben",
          "OBJECTID": 200,
          "date": "2018-12-12T00:00:00",
          "geometry": null,
          "id": "82_0000000000000000006a",
          "max": 8.105161340212999e-05,
          "median": 7.909000175181563e-05,
          "min": 7.712839010150127e-05
         },
         {
          "NAAM_N2K": "Oosterschelde",
          "OBJECTID": 123,
          "date": "2018-12-12T00:00:00",
          "geometry": null,
          "id": "82_0000000000000000001d",
          "max": 0.00021449713932085305,
          "median": 0.0001794518993127638,
          "min": 0.00017014627278005016
         },
         {
          "NAAM_N2K": "Veluwe",
          "OBJECTID": 194,
          "date": "2018-12-14T00:00:00",
          "geometry": null,
          "id": "83_00000000000000000064",
          "max": 0.00017192249074259155,
          "median": 0.00015228617916574318,
          "min": 0.00011920091027364457
         },
         {
          "NAAM_N2K": "Biesbosch",
          "OBJECTID": 14,
          "date": "2018-12-14T00:00:00",
          "geometry": null,
          "id": "83_00000000000000000081",
          "max": 0.00019493241677883772,
          "median": 0.00019493241677883772,
          "min": 0.00019493241677883772
         },
         {
          "NAAM_N2K": "Waddenzee",
          "OBJECTID": 201,
          "date": "2018-12-14T00:00:00",
          "geometry": null,
          "id": "83_0000000000000000006b",
          "max": 7.902331165612714e-05,
          "median": 7.902331165612714e-05,
          "min": 7.81102227665918e-05
         },
         {
          "NAAM_N2K": "Rijntakken",
          "OBJECTID": 195,
          "date": "2018-12-14T00:00:00",
          "geometry": null,
          "id": "83_00000000000000000065",
          "max": 0.00017827340113484009,
          "median": 0.00015228617916574318,
          "min": 0.00011920091027364457
         },
         {
          "NAAM_N2K": "Weerribben",
          "OBJECTID": 200,
          "date": "2018-12-14T00:00:00",
          "geometry": null,
          "id": "83_0000000000000000006a",
          "max": 0.00012540152793373872,
          "median": 0.00011493708328264929,
          "min": 0.00010447263863155986
         },
         {
          "NAAM_N2K": "Oosterschelde",
          "OBJECTID": 123,
          "date": "2018-12-14T00:00:00",
          "geometry": null,
          "id": "83_0000000000000000001d",
          "max": 0.0002238053049733923,
          "median": 0.00021282404781452596,
          "min": 0.00020273769166799686
         },
         {
          "NAAM_N2K": "Veluwe",
          "OBJECTID": 194,
          "date": "2018-12-16T00:00:00",
          "geometry": null,
          "id": "84_00000000000000000064",
          "max": 0.0002395354883220207,
          "median": 0.00021919842370075166,
          "min": 0.00011557410090649062
         },
         {
          "NAAM_N2K": "Biesbosch",
          "OBJECTID": 14,
          "date": "2018-12-16T00:00:00",
          "geometry": null,
          "id": "84_00000000000000000081",
          "max": 9.657582582028832e-05,
          "median": 9.657582582028832e-05,
          "min": 9.657582582028832e-05
         },
         {
          "NAAM_N2K": "Waddenzee",
          "OBJECTID": 201,
          "date": "2018-12-16T00:00:00",
          "geometry": null,
          "id": "84_0000000000000000006b",
          "max": 0.0002861476030547476,
          "median": 0.0002634971683164348,
          "min": 0.0002634971683164348
         },
         {
          "NAAM_N2K": "Rijntakken",
          "OBJECTID": 195,
          "date": "2018-12-16T00:00:00",
          "geometry": null,
          "id": "84_00000000000000000065",
          "max": 0.0002395354883220207,
          "median": 0.00016027744181154114,
          "min": 0.0001055990781134106
         },
         {
          "NAAM_N2K": "Weerribben",
          "OBJECTID": 200,
          "date": "2018-12-16T00:00:00",
          "geometry": null,
          "id": "84_0000000000000000006a",
          "max": 0.00023758476560333767,
          "median": 0.0002305630410903044,
          "min": 0.00022354131657727113
         },
         {
          "NAAM_N2K": "Oosterschelde",
          "OBJECTID": 123,
          "date": "2018-12-16T00:00:00",
          "geometry": null,
          "id": "84_0000000000000000001d",
          "max": 9.464401339830088e-05,
          "median": 7.426526560149004e-05,
          "min": 7.426526560149004e-05
         },
         {
          "NAAM_N2K": "Veluwe",
          "OBJECTID": 194,
          "date": "2018-12-18T00:00:00",
          "geometry": null,
          "id": "85_00000000000000000064",
          "max": 0.00014519340563417675,
          "median": 9.616476416181035e-05,
          "min": 8.01059606552322e-05
         },
         {
          "NAAM_N2K": "Biesbosch",
          "OBJECTID": 14,
          "date": "2018-12-18T00:00:00",
          "geometry": null,
          "id": "85_00000000000000000081",
          "max": 9.702249171194484e-05,
          "median": 9.702249171194484e-05,
          "min": 9.702249171194484e-05
         },
         {
          "NAAM_N2K": "Waddenzee",
          "OBJECTID": 201,
          "date": "2018-12-18T00:00:00",
          "geometry": null,
          "id": "85_0000000000000000006b",
          "max": 0.0001810414062966595,
          "median": 0.00017758716403610858,
          "min": 0.00017758716403610858
         },
         {
          "NAAM_N2K": "Rijntakken",
          "OBJECTID": 195,
          "date": "2018-12-18T00:00:00",
          "geometry": null,
          "id": "85_00000000000000000065",
          "max": 0.00011027426250167778,
          "median": 8.492737079697912e-05,
          "min": 8.01059606552322e-05
         },
         {
          "NAAM_N2K": "Weerribben",
          "OBJECTID": 200,
          "date": "2018-12-18T00:00:00",
          "geometry": null,
          "id": "85_0000000000000000006a",
          "max": 0.00011175821809484006,
          "median": 0.00010754587138085933,
          "min": 0.00010333352466687858
         },
         {
          "NAAM_N2K": "Oosterschelde",
          "OBJECTID": 123,
          "date": "2018-12-18T00:00:00",
          "geometry": null,
          "id": "85_0000000000000000001d",
          "max": 9.553410963500559e-05,
          "median": 9.181088578726144e-05,
          "min": 8.572558989399658e-05
         },
         {
          "NAAM_N2K": "Veluwe",
          "OBJECTID": 194,
          "date": "2018-12-20T00:00:00",
          "geometry": null,
          "id": "86_00000000000000000064",
          "max": 0.0002281670633870356,
          "median": 0.00016620430758247385,
          "min": 0.0001092651293796555
         },
         {
          "NAAM_N2K": "Biesbosch",
          "OBJECTID": 14,
          "date": "2018-12-20T00:00:00",
          "geometry": null,
          "id": "86_00000000000000000081",
          "max": 9.993436920238514e-05,
          "median": 9.993436920238514e-05,
          "min": 9.993436920238514e-05
         },
         {
          "NAAM_N2K": "Waddenzee",
          "OBJECTID": 201,
          "date": "2018-12-20T00:00:00",
          "geometry": null,
          "id": "86_0000000000000000006b",
          "max": 0.00017682384369702728,
          "median": 0.00017682384369702728,
          "min": 0.00015908861460057233
         },
         {
          "NAAM_N2K": "Rijntakken",
          "OBJECTID": 195,
          "date": "2018-12-20T00:00:00",
          "geometry": null,
          "id": "86_00000000000000000065",
          "max": 0.0002281670633870356,
          "median": 0.00012005633109211482,
          "min": 0.000101836176634293
         },
         {
          "NAAM_N2K": "Weerribben",
          "OBJECTID": 200,
          "date": "2018-12-20T00:00:00",
          "geometry": null,
          "id": "86_0000000000000000006a",
          "max": 0.0001878246369304589,
          "median": 0.0001811213090781667,
          "min": 0.00017441798122587449
         },
         {
          "NAAM_N2K": "Oosterschelde",
          "OBJECTID": 123,
          "date": "2018-12-20T00:00:00",
          "geometry": null,
          "id": "86_0000000000000000001d",
          "max": 0.0001141864643794585,
          "median": 0.00010119299070889787,
          "min": 8.590332253401002e-05
         },
         {
          "NAAM_N2K": "Veluwe",
          "OBJECTID": 194,
          "date": "2018-12-22T00:00:00",
          "geometry": null,
          "id": "87_00000000000000000064",
          "max": 7.59945066503972e-05,
          "median": 7.218357465503566e-05,
          "min": 1.9885071240273585e-05
         },
         {
          "NAAM_N2K": "Biesbosch",
          "OBJECTID": 14,
          "date": "2018-12-22T00:00:00",
          "geometry": null,
          "id": "87_00000000000000000081",
          "max": 2.7288477544193114e-05,
          "median": 2.7288477544193114e-05,
          "min": 2.7288477544193114e-05
         },
         {
          "NAAM_N2K": "Waddenzee",
          "OBJECTID": 201,
          "date": "2018-12-22T00:00:00",
          "geometry": null,
          "id": "87_0000000000000000006b",
          "max": 5.488694164172476e-05,
          "median": 5.265360150107294e-05,
          "min": 5.265360150107294e-05
         },
         {
          "NAAM_N2K": "Rijntakken",
          "OBJECTID": 195,
          "date": "2018-12-22T00:00:00",
          "geometry": null,
          "id": "87_00000000000000000065",
          "max": 7.59945066503972e-05,
          "median": 5.178573796338156e-05,
          "min": 1.9885071240273585e-05
         },
         {
          "NAAM_N2K": "Weerribben",
          "OBJECTID": 200,
          "date": "2018-12-22T00:00:00",
          "geometry": null,
          "id": "87_0000000000000000006a",
          "max": 3.0061097674507218e-05,
          "median": 2.3308724813187342e-05,
          "min": 1.6556351951867466e-05
         },
         {
          "NAAM_N2K": "Oosterschelde",
          "OBJECTID": 123,
          "date": "2018-12-22T00:00:00",
          "geometry": null,
          "id": "87_0000000000000000001d",
          "max": 6.0556400543957676e-05,
          "median": 4.364662766131681e-05,
          "min": 3.2910975655314794e-05
         },
         {
          "NAAM_N2K": "Veluwe",
          "OBJECTID": 194,
          "date": "2018-12-24T00:00:00",
          "geometry": null,
          "id": "88_00000000000000000064",
          "max": 6.237076958607079e-05,
          "median": 4.4742255053629454e-05,
          "min": 3.8166410943039167e-05
         },
         {
          "NAAM_N2K": "Biesbosch",
          "OBJECTID": 14,
          "date": "2018-12-24T00:00:00",
          "geometry": null,
          "id": "88_00000000000000000081",
          "max": 7.822086844073052e-05,
          "median": 7.822086844073052e-05,
          "min": 7.822086844073052e-05
         },
         {
          "NAAM_N2K": "Waddenzee",
          "OBJECTID": 201,
          "date": "2018-12-24T00:00:00",
          "geometry": null,
          "id": "88_0000000000000000006b",
          "max": 9.576551936681463e-06,
          "median": 6.6442039518667674e-06,
          "min": 6.6442039518667674e-06
         },
         {
          "NAAM_N2K": "Rijntakken",
          "OBJECTID": 195,
          "date": "2018-12-24T00:00:00",
          "geometry": null,
          "id": "88_00000000000000000065",
          "max": 7.948388650762515e-05,
          "median": 4.699172676141261e-05,
          "min": 4.0605456807377205e-05
         },
         {
          "NAAM_N2K": "Weerribben",
          "OBJECTID": 200,
          "date": "2018-12-24T00:00:00",
          "geometry": null,
          "id": "88_0000000000000000006a",
          "max": 2.9703528232757523e-05,
          "median": 2.7941732759939357e-05,
          "min": 2.617993728712119e-05
         },
         {
          "NAAM_N2K": "Oosterschelde",
          "OBJECTID": 123,
          "date": "2018-12-24T00:00:00",
          "geometry": null,
          "id": "88_0000000000000000001d",
          "max": 7.992021654867963e-05,
          "median": 5.2707490668720954e-05,
          "min": 5.2707490668720954e-05
         },
         {
          "NAAM_N2K": "Veluwe",
          "OBJECTID": 194,
          "date": "2018-12-26T00:00:00",
          "geometry": null,
          "id": "89_00000000000000000064",
          "max": 1.5679550403766252e-05,
          "median": -4.066717337625614e-05,
          "min": -0.00010228147793394751
         },
         {
          "NAAM_N2K": "Biesbosch",
          "OBJECTID": 14,
          "date": "2018-12-26T00:00:00",
          "geometry": null,
          "id": "89_00000000000000000081",
          "max": -4.8280513092002234e-05,
          "median": -4.8280513092002234e-05,
          "min": -4.8280513092002234e-05
         },
         {
          "NAAM_N2K": "Waddenzee",
          "OBJECTID": 201,
          "date": "2018-12-26T00:00:00",
          "geometry": null,
          "id": "89_0000000000000000006b",
          "max": -0.000263629467502907,
          "median": -0.00026889722053688914,
          "min": -0.00026889722053688914
         },
         {
          "NAAM_N2K": "Rijntakken",
          "OBJECTID": 195,
          "date": "2018-12-26T00:00:00",
          "geometry": null,
          "id": "89_00000000000000000065",
          "max": 1.7003408353843137e-06,
          "median": -3.516241247581539e-05,
          "min": -0.00010228147793394751
         },
         {
          "NAAM_N2K": "Weerribben",
          "OBJECTID": 200,
          "date": "2018-12-26T00:00:00",
          "geometry": null,
          "id": "89_0000000000000000006a",
          "max": -9.839405988588837e-05,
          "median": -0.00010555456726494351,
          "min": -0.00011271507464399867
         },
         {
          "NAAM_N2K": "Oosterschelde",
          "OBJECTID": 123,
          "date": "2018-12-26T00:00:00",
          "geometry": null,
          "id": "89_0000000000000000001d",
          "max": 2.342495879766617e-05,
          "median": -1.7403167969168874e-06,
          "min": -4.7229070902451734e-05
         },
         {
          "NAAM_N2K": "Veluwe",
          "OBJECTID": 194,
          "date": "2018-12-28T00:00:00",
          "geometry": null,
          "id": "90_00000000000000000064",
          "max": 0.00036144449822668717,
          "median": 0.0002899434777515989,
          "min": 8.305062044052742e-05
         },
         {
          "NAAM_N2K": "Biesbosch",
          "OBJECTID": 14,
          "date": "2018-12-28T00:00:00",
          "geometry": null,
          "id": "90_00000000000000000081",
          "max": 0.00024016589860833518,
          "median": 0.00024016589860833518,
          "min": 0.00024016589860833518
         },
         {
          "NAAM_N2K": "Waddenzee",
          "OBJECTID": 201,
          "date": "2018-12-28T00:00:00",
          "geometry": null,
          "id": "90_0000000000000000006b",
          "max": 3.889277630793228e-05,
          "median": 3.7917023735224896e-05,
          "min": 3.7917023735224896e-05
         },
         {
          "NAAM_N2K": "Rijntakken",
          "OBJECTID": 195,
          "date": "2018-12-28T00:00:00",
          "geometry": null,
          "id": "90_00000000000000000065",
          "max": 0.0002899434777515989,
          "median": 0.0002209053989027055,
          "min": 8.551922342499832e-05
         },
         {
          "NAAM_N2K": "Weerribben",
          "OBJECTID": 200,
          "date": "2018-12-28T00:00:00",
          "geometry": null,
          "id": "90_0000000000000000006a",
          "max": 8.029890493121726e-05,
          "median": 7.704994415244363e-05,
          "min": 7.380098337367001e-05
         },
         {
          "NAAM_N2K": "Oosterschelde",
          "OBJECTID": 123,
          "date": "2018-12-28T00:00:00",
          "geometry": null,
          "id": "90_0000000000000000001d",
          "max": 0.00019500493347875036,
          "median": 0.00018370302054796482,
          "min": 0.00010780072881458871
         },
         {
          "NAAM_N2K": "Veluwe",
          "OBJECTID": 194,
          "date": "2018-12-30T00:00:00",
          "geometry": null,
          "id": "91_00000000000000000064",
          "max": 0.00018797940146657923,
          "median": 0.00010525468663628114,
          "min": 0.00010511578506600518
         },
         {
          "NAAM_N2K": "Biesbosch",
          "OBJECTID": 14,
          "date": "2018-12-30T00:00:00",
          "geometry": null,
          "id": "91_00000000000000000081",
          "max": 0.00014113083423835307,
          "median": 0.00014113083423835307,
          "min": 0.00014113083423835307
         },
         {
          "NAAM_N2K": "Waddenzee",
          "OBJECTID": 201,
          "date": "2018-12-30T00:00:00",
          "geometry": null,
          "id": "91_0000000000000000006b",
          "max": 5.2130750827918635e-05,
          "median": 5.2130750827918635e-05,
          "min": 4.884288703888614e-05
         },
         {
          "NAAM_N2K": "Rijntakken",
          "OBJECTID": 195,
          "date": "2018-12-30T00:00:00",
          "geometry": null,
          "id": "91_00000000000000000065",
          "max": 0.0002091888932869139,
          "median": 0.00015619645879636523,
          "min": 0.00010511578506600518
         },
         {
          "NAAM_N2K": "Weerribben",
          "OBJECTID": 200,
          "date": "2018-12-30T00:00:00",
          "geometry": null,
          "id": "91_0000000000000000006a",
          "max": 0.0001003984891377435,
          "median": 9.679233598937969e-05,
          "min": 9.318618284101587e-05
         },
         {
          "NAAM_N2K": "Oosterschelde",
          "OBJECTID": 123,
          "date": "2018-12-30T00:00:00",
          "geometry": null,
          "id": "91_0000000000000000001d",
          "max": 0.0001817412237392775,
          "median": 0.00012520224466499167,
          "min": 0.00011235475937843848
         },
         {
          "NAAM_N2K": "Veluwe",
          "OBJECTID": 194,
          "date": "2019-01-01T00:00:00",
          "geometry": null,
          "id": "92_00000000000000000064",
          "max": 6.709576221131447e-05,
          "median": 3.724403353134974e-05,
          "min": 2.923328160272459e-05
         },
         {
          "NAAM_N2K": "Biesbosch",
          "OBJECTID": 14,
          "date": "2019-01-01T00:00:00",
          "geometry": null,
          "id": "92_00000000000000000081",
          "max": 6.643430652479872e-05,
          "median": 6.643430652479872e-05,
          "min": 6.643430652479872e-05
         },
         {
          "NAAM_N2K": "Waddenzee",
          "OBJECTID": 201,
          "date": "2019-01-01T00:00:00",
          "geometry": null,
          "id": "92_0000000000000000006b",
          "max": 2.6070347072128103e-05,
          "median": 2.6070347072128103e-05,
          "min": 2.4640642601061705e-05
         },
         {
          "NAAM_N2K": "Rijntakken",
          "OBJECTID": 195,
          "date": "2019-01-01T00:00:00",
          "geometry": null,
          "id": "92_00000000000000000065",
          "max": 6.709576221131447e-05,
          "median": 5.763388446476908e-05,
          "min": 3.343971284588493e-05
         },
         {
          "NAAM_N2K": "Weerribben",
          "OBJECTID": 200,
          "date": "2019-01-01T00:00:00",
          "geometry": null,
          "id": "92_0000000000000000006a",
          "max": 3.363421780402193e-05,
          "median": 3.2057140174241404e-05,
          "min": 3.0480062544460875e-05
         },
         {
          "NAAM_N2K": "Oosterschelde",
          "OBJECTID": 123,
          "date": "2019-01-01T00:00:00",
          "geometry": null,
          "id": "92_0000000000000000001d",
          "max": 8.539704173403861e-05,
          "median": 6.991105291228732e-05,
          "min": 6.923394942317286e-05
         },
         {
          "NAAM_N2K": "Veluwe",
          "OBJECTID": 194,
          "date": "2019-01-03T00:00:00",
          "geometry": null,
          "id": "93_00000000000000000064",
          "max": 0.00018083224093906193,
          "median": 2.470684057874994e-05,
          "min": 2.3798188220312872e-05
         },
         {
          "NAAM_N2K": "Biesbosch",
          "OBJECTID": 14,
          "date": "2019-01-03T00:00:00",
          "geometry": null,
          "id": "93_00000000000000000081",
          "max": 0.0001669511238932343,
          "median": 0.0001669511238932343,
          "min": 0.0001669511238932343
         },
         {
          "NAAM_N2K": "Waddenzee",
          "OBJECTID": 201,
          "date": "2019-01-03T00:00:00",
          "geometry": null,
          "id": "93_0000000000000000006b",
          "max": 2.9494679975684865e-05,
          "median": 2.311793514916505e-05,
          "min": 2.311793514916505e-05
         },
         {
          "NAAM_N2K": "Rijntakken",
          "OBJECTID": 195,
          "date": "2019-01-03T00:00:00",
          "geometry": null,
          "id": "93_00000000000000000065",
          "max": 0.00018083224093906193,
          "median": 0.0001296561894435412,
          "min": 3.322988200080383e-05
         },
         {
          "NAAM_N2K": "Weerribben",
          "OBJECTID": 200,
          "date": "2019-01-03T00:00:00",
          "geometry": null,
          "id": "93_0000000000000000006a",
          "max": 4.399560886424925e-05,
          "median": 3.7754088789211936e-05,
          "min": 3.151256871417462e-05
         },
         {
          "NAAM_N2K": "Oosterschelde",
          "OBJECTID": 123,
          "date": "2019-01-03T00:00:00",
          "geometry": null,
          "id": "93_0000000000000000001d",
          "max": 0.0001465768624947233,
          "median": 7.573889974070035e-05,
          "min": 6.865492202932839e-05
         },
         {
          "NAAM_N2K": "Veluwe",
          "OBJECTID": 194,
          "date": "2019-01-05T00:00:00",
          "geometry": null,
          "id": "94_00000000000000000064",
          "max": 2.903280958282324e-05,
          "median": 2.0550582475444537e-05,
          "min": 1.4712896375322327e-05
         },
         {
          "NAAM_N2K": "Biesbosch",
          "OBJECTID": 14,
          "date": "2019-01-05T00:00:00",
          "geometry": null,
          "id": "94_00000000000000000081",
          "max": 4.059129280713242e-05,
          "median": 4.059129280713242e-05,
          "min": 4.059129280713242e-05
         },
         {
          "NAAM_N2K": "Waddenzee",
          "OBJECTID": 201,
          "date": "2019-01-05T00:00:00",
          "geometry": null,
          "id": "94_0000000000000000006b",
          "max": 1.2957831122195709e-05,
          "median": 1.2957831122195709e-05,
          "min": 1.2350783814971197e-05
         },
         {
          "NAAM_N2K": "Rijntakken",
          "OBJECTID": 195,
          "date": "2019-01-05T00:00:00",
          "geometry": null,
          "id": "94_00000000000000000065",
          "max": 5.885495612734188e-05,
          "median": 2.8725108246667096e-05,
          "min": 1.4712896375322327e-05
         },
         {
          "NAAM_N2K": "Weerribben",
          "OBJECTID": 200,
          "date": "2019-01-05T00:00:00",
          "geometry": null,
          "id": "94_0000000000000000006a",
          "max": 1.6580076073391043e-05,
          "median": 1.656450350828041e-05,
          "min": 1.654893094316978e-05
         },
         {
          "NAAM_N2K": "Oosterschelde",
          "OBJECTID": 123,
          "date": "2019-01-05T00:00:00",
          "geometry": null,
          "id": "94_0000000000000000001d",
          "max": 4.043587128296971e-05,
          "median": 2.577100548934688e-05,
          "min": 2.577100548934688e-05
         },
         {
          "NAAM_N2K": "Veluwe",
          "OBJECTID": 194,
          "date": "2019-01-07T00:00:00",
          "geometry": null,
          "id": "95_00000000000000000064",
          "max": 0.00035734513581662624,
          "median": 0.00020704511471612247,
          "min": -1.085474626537937e-05
         },
         {
          "NAAM_N2K": "Biesbosch",
          "OBJECTID": 14,
          "date": "2019-01-07T00:00:00",
          "geometry": null,
          "id": "95_00000000000000000081",
          "max": 4.47910179384227e-05,
          "median": 4.47910179384227e-05,
          "min": 4.47910179384227e-05
         },
         {
          "NAAM_N2K": "Waddenzee",
          "OBJECTID": 201,
          "date": "2019-01-07T00:00:00",
          "geometry": null,
          "id": "95_0000000000000000006b",
          "max": -9.598094454046027e-06,
          "median": -1.4409982466340472e-05,
          "min": -1.4409982466340472e-05
         },
         {
          "NAAM_N2K": "Rijntakken",
          "OBJECTID": 195,
          "date": "2019-01-07T00:00:00",
          "geometry": null,
          "id": "95_00000000000000000065",
          "max": 0.00020704511471612247,
          "median": 8.218944469158218e-06,
          "min": -1.085474626537937e-05
         },
         {
          "NAAM_N2K": "Weerribben",
          "OBJECTID": 200,
          "date": "2019-01-07T00:00:00",
          "geometry": null,
          "id": "95_0000000000000000006a",
          "max": 8.083153005712903e-05,
          "median": 7.623672041862716e-05,
          "min": 7.16419107801253e-05
         },
         {
          "NAAM_N2K": "Oosterschelde",
          "OBJECTID": 123,
          "date": "2019-01-07T00:00:00",
          "geometry": null,
          "id": "95_0000000000000000001d",
          "max": 4.151217689407266e-05,
          "median": -1.6090666382603066e-05,
          "min": -1.6090666382603066e-05
         },
         {
          "NAAM_N2K": "Veluwe",
          "OBJECTID": 194,
          "date": "2019-01-09T00:00:00",
          "geometry": null,
          "id": "96_00000000000000000064",
          "max": -2.7752750037132345e-05,
          "median": -6.244391910389577e-05,
          "min": -0.00012668893032241613
         },
         {
          "NAAM_N2K": "Biesbosch",
          "OBJECTID": 14,
          "date": "2019-01-09T00:00:00",
          "geometry": null,
          "id": "96_00000000000000000081",
          "max": -1.739964752714567e-05,
          "median": -1.739964752714567e-05,
          "min": -1.739964752714567e-05
         },
         {
          "NAAM_N2K": "Waddenzee",
          "OBJECTID": 201,
          "date": "2019-01-09T00:00:00",
          "geometry": null,
          "id": "96_0000000000000000006b",
          "max": -4.2458878583484264e-05,
          "median": -4.2458878583484264e-05,
          "min": -8.078596147242934e-05
         },
         {
          "NAAM_N2K": "Rijntakken",
          "OBJECTID": 195,
          "date": "2019-01-09T00:00:00",
          "geometry": null,
          "id": "96_00000000000000000065",
          "max": -1.1795962386374412e-05,
          "median": -4.4083660871954144e-05,
          "min": -0.00012668893032241613
         },
         {
          "NAAM_N2K": "Weerribben",
          "OBJECTID": 200,
          "date": "2019-01-09T00:00:00",
          "geometry": null,
          "id": "96_0000000000000000006a",
          "max": -1.8405546218634675e-05,
          "median": -3.4315740149307673e-05,
          "min": -5.022593407998067e-05
         },
         {
          "NAAM_N2K": "Oosterschelde",
          "OBJECTID": 123,
          "date": "2019-01-09T00:00:00",
          "geometry": null,
          "id": "96_0000000000000000001d",
          "max": 2.7555801688903894e-05,
          "median": -1.5813657578465867e-05,
          "min": -2.1705465768205112e-05
         },
         {
          "NAAM_N2K": "Veluwe",
          "OBJECTID": 194,
          "date": "2019-01-11T00:00:00",
          "geometry": null,
          "id": "97_00000000000000000064",
          "max": 0.00011267826690161808,
          "median": 5.042221301072383e-05,
          "min": 4.9482951007505865e-06
         },
         {
          "NAAM_N2K": "Biesbosch",
          "OBJECTID": 14,
          "date": "2019-01-11T00:00:00",
          "geometry": null,
          "id": "97_00000000000000000081",
          "max": 5.3724453802673535e-05,
          "median": 5.3724453802673535e-05,
          "min": 5.3724453802673535e-05
         },
         {
          "NAAM_N2K": "Waddenzee",
          "OBJECTID": 201,
          "date": "2019-01-11T00:00:00",
          "geometry": null,
          "id": "97_0000000000000000006b",
          "max": 5.364320790640633e-06,
          "median": 5.364320790640633e-06,
          "min": 2.0055689549321697e-06
         },
         {
          "NAAM_N2K": "Rijntakken",
          "OBJECTID": 195,
          "date": "2019-01-11T00:00:00",
          "geometry": null,
          "id": "97_00000000000000000065",
          "max": 0.00012486760960735615,
          "median": 9.178534949903173e-05,
          "min": 4.9482951007505865e-06
         },
         {
          "NAAM_N2K": "Weerribben",
          "OBJECTID": 200,
          "date": "2019-01-11T00:00:00",
          "geometry": null,
          "id": "97_0000000000000000006a",
          "max": 1.4832851951346851e-05,
          "median": 1.1330137195025228e-05,
          "min": 7.827422438703604e-06
         },
         {
          "NAAM_N2K": "Oosterschelde",
          "OBJECTID": 123,
          "date": "2019-01-11T00:00:00",
          "geometry": null,
          "id": "97_0000000000000000001d",
          "max": 7.384061716453368e-05,
          "median": 1.7211000504624298e-05,
          "min": 1.7211000504624298e-05
         },
         {
          "NAAM_N2K": "Veluwe",
          "OBJECTID": 194,
          "date": "2019-01-13T00:00:00",
          "geometry": null,
          "id": "98_00000000000000000064",
          "max": 0.00012601849531385852,
          "median": 8.500412844758978e-05,
          "min": 2.523571754220674e-05
         },
         {
          "NAAM_N2K": "Biesbosch",
          "OBJECTID": 14,
          "date": "2019-01-13T00:00:00",
          "geometry": null,
          "id": "98_00000000000000000081",
          "max": 7.818465976991335e-05,
          "median": 7.818465976991335e-05,
          "min": 7.818465976991335e-05
         },
         {
          "NAAM_N2K": "Waddenzee",
          "OBJECTID": 201,
          "date": "2019-01-13T00:00:00",
          "geometry": null,
          "id": "98_0000000000000000006b",
          "max": 2.4323680652494278e-05,
          "median": 1.745093395434176e-05,
          "min": 1.745093395434176e-05
         },
         {
          "NAAM_N2K": "Rijntakken",
          "OBJECTID": 195,
          "date": "2019-01-13T00:00:00",
          "geometry": null,
          "id": "98_00000000000000000065",
          "max": 0.0001344650695482209,
          "median": 9.716233544794238e-05,
          "min": 2.523571754220674e-05
         },
         {
          "NAAM_N2K": "Weerribben",
          "OBJECTID": 200,
          "date": "2019-01-13T00:00:00",
          "geometry": null,
          "id": "98_0000000000000000006a",
          "max": 2.8904126942053162e-05,
          "median": 2.6871356979518483e-05,
          "min": 2.4838587016983808e-05
         },
         {
          "NAAM_N2K": "Oosterschelde",
          "OBJECTID": 123,
          "date": "2019-01-13T00:00:00",
          "geometry": null,
          "id": "98_0000000000000000001d",
          "max": 3.913742688354562e-05,
          "median": 3.367926989712166e-05,
          "min": 3.079674020045726e-05
         },
         {
          "NAAM_N2K": "Veluwe",
          "OBJECTID": 194,
          "date": "2019-01-15T00:00:00",
          "geometry": null,
          "id": "99_00000000000000000064",
          "max": 0.0002339812258888194,
          "median": 0.00021972202611786443,
          "min": 0.00015523573928302465
         },
         {
          "NAAM_N2K": "Biesbosch",
          "OBJECTID": 14,
          "date": "2019-01-15T00:00:00",
          "geometry": null,
          "id": "99_00000000000000000081",
          "max": 0.00015709677952151745,
          "median": 0.00015709677952151745,
          "min": 0.00015709677952151745
         },
         {
          "NAAM_N2K": "Waddenzee",
          "OBJECTID": 201,
          "date": "2019-01-15T00:00:00",
          "geometry": null,
          "id": "99_0000000000000000006b",
          "max": 0.000209776799635635,
          "median": 0.000209776799635635,
          "min": 0.0001759779939539722
         },
         {
          "NAAM_N2K": "Rijntakken",
          "OBJECTID": 195,
          "date": "2019-01-15T00:00:00",
          "geometry": null,
          "id": "99_00000000000000000065",
          "max": 0.0002339812258888194,
          "median": 0.00018956226603141825,
          "min": 0.00016291893789607608
         },
         {
          "NAAM_N2K": "Weerribben",
          "OBJECTID": 200,
          "date": "2019-01-15T00:00:00",
          "geometry": null,
          "id": "99_0000000000000000006a",
          "max": 0.00016108549675948673,
          "median": 0.0001567278905921706,
          "min": 0.0001523702844248545
         },
         {
          "NAAM_N2K": "Oosterschelde",
          "OBJECTID": 123,
          "date": "2019-01-15T00:00:00",
          "geometry": null,
          "id": "99_0000000000000000001d",
          "max": 0.00014790345908859143,
          "median": 0.00013535270187011968,
          "min": 0.0001337649852011052
         },
         {
          "NAAM_N2K": "Veluwe",
          "OBJECTID": 194,
          "date": "2019-01-17T00:00:00",
          "geometry": null,
          "id": "100_00000000000000000064",
          "max": 0.00010898990586543354,
          "median": 9.435703771314702e-05,
          "min": 6.582019504888312e-05
         },
         {
          "NAAM_N2K": "Biesbosch",
          "OBJECTID": 14,
          "date": "2019-01-17T00:00:00",
          "geometry": null,
          "id": "100_00000000000000000081",
          "max": 5.955900646131243e-05,
          "median": 5.955900646131243e-05,
          "min": 5.955900646131243e-05
         },
         {
          "NAAM_N2K": "Waddenzee",
          "OBJECTID": 201,
          "date": "2019-01-17T00:00:00",
          "geometry": null,
          "id": "100_0000000000000000006b",
          "max": 3.977261474357394e-05,
          "median": 3.977261474357394e-05,
          "min": 3.8183396760216936e-05
         },
         {
          "NAAM_N2K": "Rijntakken",
          "OBJECTID": 195,
          "date": "2019-01-17T00:00:00",
          "geometry": null,
          "id": "100_00000000000000000065",
          "max": 0.00010898990586543354,
          "median": 9.172894363957892e-05,
          "min": 6.298172056758562e-05
         },
         {
          "NAAM_N2K": "Weerribben",
          "OBJECTID": 200,
          "date": "2019-01-17T00:00:00",
          "geometry": null,
          "id": "100_0000000000000000006a",
          "max": 6.943875654049392e-05,
          "median": 6.69709302843268e-05,
          "min": 6.450310402815969e-05
         },
         {
          "NAAM_N2K": "Oosterschelde",
          "OBJECTID": 123,
          "date": "2019-01-17T00:00:00",
          "geometry": null,
          "id": "100_0000000000000000001d",
          "max": 6.391703256847582e-05,
          "median": 4.8792676301219084e-05,
          "min": 4.2487360110753576e-05
         },
         {
          "NAAM_N2K": "Veluwe",
          "OBJECTID": 194,
          "date": "2019-01-19T00:00:00",
          "geometry": null,
          "id": "101_00000000000000000064",
          "max": 0.00014038073180318392,
          "median": 0.00011616406206006169,
          "min": 7.474364687163297e-05
         },
         {
          "NAAM_N2K": "Biesbosch",
          "OBJECTID": 14,
          "date": "2019-01-19T00:00:00",
          "geometry": null,
          "id": "101_00000000000000000081",
          "max": 0.00014173459516316592,
          "median": 0.00014173459516316592,
          "min": 0.00014173459516316592
         },
         {
          "NAAM_N2K": "Waddenzee",
          "OBJECTID": 201,
          "date": "2019-01-19T00:00:00",
          "geometry": null,
          "id": "101_0000000000000000006b",
          "max": 9.728031899304922e-05,
          "median": 9.728031899304922e-05,
          "min": 8.755873574526523e-05
         },
         {
          "NAAM_N2K": "Rijntakken",
          "OBJECTID": 195,
          "date": "2019-01-19T00:00:00",
          "geometry": null,
          "id": "101_00000000000000000065",
          "max": 0.00014094218023686116,
          "median": 0.00013259443257995388,
          "min": 0.00010176071501309573
         },
         {
          "NAAM_N2K": "Weerribben",
          "OBJECTID": 200,
          "date": "2019-01-19T00:00:00",
          "geometry": null,
          "id": "101_0000000000000000006a",
          "max": 0.00010068239447354423,
          "median": 9.920069370810328e-05,
          "min": 9.771899294266233e-05
         },
         {
          "NAAM_N2K": "Oosterschelde",
          "OBJECTID": 123,
          "date": "2019-01-19T00:00:00",
          "geometry": null,
          "id": "101_0000000000000000001d",
          "max": 0.00017373883924860553,
          "median": 0.00015899742595847975,
          "min": 0.00015325270564854653
         },
         {
          "NAAM_N2K": "Veluwe",
          "OBJECTID": 194,
          "date": "2019-01-21T00:00:00",
          "geometry": null,
          "id": "102_00000000000000000064",
          "max": 0.0002630160891932796,
          "median": 0.00024800995271257646,
          "min": 0.0001427739032257523
         },
         {
          "NAAM_N2K": "Biesbosch",
          "OBJECTID": 14,
          "date": "2019-01-21T00:00:00",
          "geometry": null,
          "id": "102_00000000000000000081",
          "max": 0.00046212722628730964,
          "median": 0.00046212722628730964,
          "min": 0.00046212722628730964
         },
         {
          "NAAM_N2K": "Waddenzee",
          "OBJECTID": 201,
          "date": "2019-01-21T00:00:00",
          "geometry": null,
          "id": "102_0000000000000000006b",
          "max": 8.180870049395281e-05,
          "median": 8.180870049395281e-05,
          "min": 7.62763214316725e-05
         },
         {
          "NAAM_N2K": "Rijntakken",
          "OBJECTID": 195,
          "date": "2019-01-21T00:00:00",
          "geometry": null,
          "id": "102_00000000000000000065",
          "max": 0.00030484769214691543,
          "median": 0.00023400325145888368,
          "min": 0.0001427739032257523
         },
         {
          "NAAM_N2K": "Weerribben",
          "OBJECTID": 200,
          "date": "2019-01-21T00:00:00",
          "geometry": null,
          "id": "102_0000000000000000006a",
          "max": 0.00017057342004319067,
          "median": 0.00016684184177743756,
          "min": 0.00016311026351168443
         },
         {
          "NAAM_N2K": "Oosterschelde",
          "OBJECTID": 123,
          "date": "2019-01-21T00:00:00",
          "geometry": null,
          "id": "102_0000000000000000001d",
          "max": 0.0003819024254530101,
          "median": 0.00034345226783835735,
          "min": 0.0002875216841163728
         },
         {
          "NAAM_N2K": "Veluwe",
          "OBJECTID": 194,
          "date": "2019-01-23T00:00:00",
          "geometry": null,
          "id": "103_00000000000000000064",
          "max": 0.0004446321474256033,
          "median": 0.00019045747865385692,
          "min": 0.00017583248600887418
         },
         {
          "NAAM_N2K": "Biesbosch",
          "OBJECTID": 14,
          "date": "2019-01-23T00:00:00",
          "geometry": null,
          "id": "103_00000000000000000081",
          "max": 0.0001658043827395199,
          "median": 0.0001658043827395199,
          "min": 0.0001658043827395199
         },
         {
          "NAAM_N2K": "Waddenzee",
          "OBJECTID": 201,
          "date": "2019-01-23T00:00:00",
          "geometry": null,
          "id": "103_0000000000000000006b",
          "max": 0.00013108375805657893,
          "median": 0.00013108375805657893,
          "min": 0.00012974976601342754
         },
         {
          "NAAM_N2K": "Rijntakken",
          "OBJECTID": 195,
          "date": "2019-01-23T00:00:00",
          "geometry": null,
          "id": "103_00000000000000000065",
          "max": 0.0004915950937090593,
          "median": 0.00025285014584309524,
          "min": 0.00020013605147171557
         },
         {
          "NAAM_N2K": "Weerribben",
          "OBJECTID": 200,
          "date": "2019-01-23T00:00:00",
          "geometry": null,
          "id": "103_0000000000000000006a",
          "max": 0.00020648640565311936,
          "median": 0.0001919599600248976,
          "min": 0.00017743351439667582
         },
         {
          "NAAM_N2K": "Oosterschelde",
          "OBJECTID": 123,
          "date": "2019-01-23T00:00:00",
          "geometry": null,
          "id": "103_0000000000000000001d",
          "max": 0.0004713465194244015,
          "median": 0.00025005562683164074,
          "min": 0.00016213085897066147
         },
         {
          "NAAM_N2K": "Veluwe",
          "OBJECTID": 194,
          "date": "2019-01-25T00:00:00",
          "geometry": null,
          "id": "104_00000000000000000064",
          "max": 0.0003038384602405131,
          "median": 0.00028115086149105707,
          "min": 0.00010861690725307706
         },
         {
          "NAAM_N2K": "Biesbosch",
          "OBJECTID": 14,
          "date": "2019-01-25T00:00:00",
          "geometry": null,
          "id": "104_00000000000000000081",
          "max": 5.744117666115463e-05,
          "median": 5.744117666115463e-05,
          "min": 5.744117666115463e-05
         },
         {
          "NAAM_N2K": "Waddenzee",
          "OBJECTID": 201,
          "date": "2019-01-25T00:00:00",
          "geometry": null,
          "id": "104_0000000000000000006b",
          "max": 5.3769622998268594e-05,
          "median": 5.3769622998268594e-05,
          "min": 2.2356605617534428e-05
         },
         {
          "NAAM_N2K": "Rijntakken",
          "OBJECTID": 195,
          "date": "2019-01-25T00:00:00",
          "geometry": null,
          "id": "104_00000000000000000065",
          "max": 0.0003038384602405131,
          "median": 0.0001735626213801257,
          "min": 7.816704160703409e-05
         },
         {
          "NAAM_N2K": "Weerribben",
          "OBJECTID": 200,
          "date": "2019-01-25T00:00:00",
          "geometry": null,
          "id": "104_0000000000000000006a",
          "max": 0.001255418850962168,
          "median": 0.0006956647197482565,
          "min": 0.00013591058853434484
         },
         {
          "NAAM_N2K": "Oosterschelde",
          "OBJECTID": 123,
          "date": "2019-01-25T00:00:00",
          "geometry": null,
          "id": "104_0000000000000000001d",
          "max": 0.00017471782595060388,
          "median": 0.00011442446453529872,
          "min": 0.00010326832800934271
         },
         {
          "NAAM_N2K": "Veluwe",
          "OBJECTID": 194,
          "date": "2019-01-27T00:00:00",
          "geometry": null,
          "id": "105_00000000000000000064",
          "max": 0.00017680570904674903,
          "median": 0.0001323567433644091,
          "min": 0.00010242713373497275
         },
         {
          "NAAM_N2K": "Biesbosch",
          "OBJECTID": 14,
          "date": "2019-01-27T00:00:00",
          "geometry": null,
          "id": "105_00000000000000000081",
          "max": 6.79138001535997e-05,
          "median": 6.79138001535997e-05,
          "min": 6.79138001535997e-05
         },
         {
          "NAAM_N2K": "Waddenzee",
          "OBJECTID": 201,
          "date": "2019-01-27T00:00:00",
          "geometry": null,
          "id": "105_0000000000000000006b",
          "max": 0.0001593065417991192,
          "median": 0.0001593065417991192,
          "min": 0.00014073561226875088
         },
         {
          "NAAM_N2K": "Rijntakken",
          "OBJECTID": 195,
          "date": "2019-01-27T00:00:00",
          "geometry": null,
          "id": "105_00000000000000000065",
          "max": 0.00019622166246831664,
          "median": 0.0001412720865144329,
          "min": 7.555214333123441e-05
         },
         {
          "NAAM_N2K": "Weerribben",
          "OBJECTID": 200,
          "date": "2019-01-27T00:00:00",
          "geometry": null,
          "id": "105_0000000000000000006a",
          "max": 0.00011552262145103162,
          "median": 0.0001068531033352872,
          "min": 9.818358521954278e-05
         },
         {
          "NAAM_N2K": "Oosterschelde",
          "OBJECTID": 123,
          "date": "2019-01-27T00:00:00",
          "geometry": null,
          "id": "105_0000000000000000001d",
          "max": 5.61369384375387e-05,
          "median": 4.181977721545027e-05,
          "min": 4.181977721545027e-05
         },
         {
          "NAAM_N2K": "Veluwe",
          "OBJECTID": 194,
          "date": "2019-01-29T00:00:00",
          "geometry": null,
          "id": "106_00000000000000000064",
          "max": 0.0002255195170415763,
          "median": 0.00017516704963963067,
          "min": 0.0001574187227812547
         },
         {
          "NAAM_N2K": "Biesbosch",
          "OBJECTID": 14,
          "date": "2019-01-29T00:00:00",
          "geometry": null,
          "id": "106_00000000000000000081",
          "max": 0.00041933403977455967,
          "median": 0.00041933403977455967,
          "min": 0.00041933403977455967
         },
         {
          "NAAM_N2K": "Waddenzee",
          "OBJECTID": 201,
          "date": "2019-01-29T00:00:00",
          "geometry": null,
          "id": "106_0000000000000000006b",
          "max": 0.00021421208665117587,
          "median": 0.0001786138951512987,
          "min": 0.0001786138951512987
         },
         {
          "NAAM_N2K": "Rijntakken",
          "OBJECTID": 195,
          "date": "2019-01-29T00:00:00",
          "geometry": null,
          "id": "106_00000000000000000065",
          "max": 0.00023113539889356847,
          "median": 0.0002088272822211341,
          "min": 0.00017516704963963067
         },
         {
          "NAAM_N2K": "Weerribben",
          "OBJECTID": 200,
          "date": "2019-01-29T00:00:00",
          "geometry": null,
          "id": "106_0000000000000000006a",
          "max": 0.00021731419641266765,
          "median": 0.00020916945828804577,
          "min": 0.00020102472016342388
         },
         {
          "NAAM_N2K": "Oosterschelde",
          "OBJECTID": 123,
          "date": "2019-01-29T00:00:00",
          "geometry": null,
          "id": "106_0000000000000000001d",
          "max": 0.00041219161346358235,
          "median": 0.0003244929249360761,
          "min": 0.0001934824314355446
         },
         {
          "NAAM_N2K": "Veluwe",
          "OBJECTID": 194,
          "date": "2019-01-31T00:00:00",
          "geometry": null,
          "id": "107_00000000000000000064",
          "max": 0.00013952071793210636,
          "median": 0.0001239363839115883,
          "min": 0.00011056081901918916
         },
         {
          "NAAM_N2K": "Biesbosch",
          "OBJECTID": 14,
          "date": "2019-01-31T00:00:00",
          "geometry": null,
          "id": "107_00000000000000000081",
          "max": 0.00013881027322690769,
          "median": 0.00013881027322690769,
          "min": 0.00013881027322690769
         },
         {
          "NAAM_N2K": "Waddenzee",
          "OBJECTID": 201,
          "date": "2019-01-31T00:00:00",
          "geometry": null,
          "id": "107_0000000000000000006b",
          "max": 0.0001872580918399599,
          "median": 0.00017989268762668567,
          "min": 0.00017989268762668567
         },
         {
          "NAAM_N2K": "Rijntakken",
          "OBJECTID": 195,
          "date": "2019-01-31T00:00:00",
          "geometry": null,
          "id": "107_00000000000000000065",
          "max": 0.00012747194872224165,
          "median": 0.00012135239467828311,
          "min": 0.00011056081901918916
         },
         {
          "NAAM_N2K": "Weerribben",
          "OBJECTID": 200,
          "date": "2019-01-31T00:00:00",
          "geometry": null,
          "id": "107_0000000000000000006a",
          "max": 0.00011610188304977213,
          "median": 0.00011598058468169935,
          "min": 0.00011585928631362656
         },
         {
          "NAAM_N2K": "Oosterschelde",
          "OBJECTID": 123,
          "date": "2019-01-31T00:00:00",
          "geometry": null,
          "id": "107_0000000000000000001d",
          "max": 0.00012017104686887255,
          "median": 0.00010126371830745953,
          "min": 0.00010126371830745953
         },
         {
          "NAAM_N2K": "Veluwe",
          "OBJECTID": 194,
          "date": "2019-02-02T00:00:00",
          "geometry": null,
          "id": "108_00000000000000000064",
          "max": 0.00013027471381872382,
          "median": 0.00012598839000951066,
          "min": 0.00010841181069792027
         },
         {
          "NAAM_N2K": "Biesbosch",
          "OBJECTID": 14,
          "date": "2019-02-02T00:00:00",
          "geometry": null,
          "id": "108_00000000000000000081",
          "max": 0.00016708207275503733,
          "median": 0.00016708207275503733,
          "min": 0.00016708207275503733
         },
         {
          "NAAM_N2K": "Waddenzee",
          "OBJECTID": 201,
          "date": "2019-02-02T00:00:00",
          "geometry": null,
          "id": "108_0000000000000000006b",
          "max": 0.0001370289125572046,
          "median": 0.00011440919344689564,
          "min": 0.00011440919344689564
         },
         {
          "NAAM_N2K": "Rijntakken",
          "OBJECTID": 195,
          "date": "2019-02-02T00:00:00",
          "geometry": null,
          "id": "108_00000000000000000065",
          "max": 0.00012598839000951066,
          "median": 0.0001170803797188598,
          "min": 0.00010385654383143998
         },
         {
          "NAAM_N2K": "Weerribben",
          "OBJECTID": 200,
          "date": "2019-02-02T00:00:00",
          "geometry": null,
          "id": "108_0000000000000000006a",
          "max": 0.00011758035401728041,
          "median": 0.0001153620121473206,
          "min": 0.00011314367027736077
         },
         {
          "NAAM_N2K": "Oosterschelde",
          "OBJECTID": 123,
          "date": "2019-02-02T00:00:00",
          "geometry": null,
          "id": "108_0000000000000000001d",
          "max": 0.00021359839136483034,
          "median": 0.00012624446305020787,
          "min": 0.00012624446305020787
         },
         {
          "NAAM_N2K": "Veluwe",
          "OBJECTID": 194,
          "date": "2019-02-04T00:00:00",
          "geometry": null,
          "id": "109_00000000000000000064",
          "max": 0.00019371811575771153,
          "median": 0.00013120799994359198,
          "min": 0.00010802619827808218
         },
         {
          "NAAM_N2K": "Biesbosch",
          "OBJECTID": 14,
          "date": "2019-02-04T00:00:00",
          "geometry": null,
          "id": "109_00000000000000000081",
          "max": 8.773059082233805e-05,
          "median": 8.773059082233805e-05,
          "min": 8.773059082233805e-05
         },
         {
          "NAAM_N2K": "Waddenzee",
          "OBJECTID": 201,
          "date": "2019-02-04T00:00:00",
          "geometry": null,
          "id": "109_0000000000000000006b",
          "max": 0.00017756168543734248,
          "median": 0.0001471001826022262,
          "min": 0.0001471001826022262
         },
         {
          "NAAM_N2K": "Rijntakken",
          "OBJECTID": 195,
          "date": "2019-02-04T00:00:00",
          "geometry": null,
          "id": "109_00000000000000000065",
          "max": 0.00016710930346187477,
          "median": 0.00013276984413628353,
          "min": 0.0001049152996878278
         },
         {
          "NAAM_N2K": "Weerribben",
          "OBJECTID": 200,
          "date": "2019-02-04T00:00:00",
          "geometry": null,
          "id": "109_0000000000000000006a",
          "max": 0.00017925110900046288,
          "median": 0.00017179216233381993,
          "min": 0.00016433321566717695
         },
         {
          "NAAM_N2K": "Oosterschelde",
          "OBJECTID": 123,
          "date": "2019-02-04T00:00:00",
          "geometry": null,
          "id": "109_0000000000000000001d",
          "max": 0.0002280483035800406,
          "median": 9.98171778557933e-05,
          "min": 8.657925122237847e-05
         },
         {
          "NAAM_N2K": "Veluwe",
          "OBJECTID": 194,
          "date": "2019-02-06T00:00:00",
          "geometry": null,
          "id": "110_00000000000000000064",
          "max": 0.00033362861534233827,
          "median": 0.0002554879075875306,
          "min": 0.0001774614364375565
         },
         {
          "NAAM_N2K": "Biesbosch",
          "OBJECTID": 14,
          "date": "2019-02-06T00:00:00",
          "geometry": null,
          "id": "110_00000000000000000081",
          "max": 0.00024834798998224847,
          "median": 0.00024834798998224847,
          "min": 0.00024834798998224847
         },
         {
          "NAAM_N2K": "Waddenzee",
          "OBJECTID": 201,
          "date": "2019-02-06T00:00:00",
          "geometry": null,
          "id": "110_0000000000000000006b",
          "max": 0.0003477013456804866,
          "median": 0.0003335591582579734,
          "min": 0.0003335591582579734
         },
         {
          "NAAM_N2K": "Rijntakken",
          "OBJECTID": 195,
          "date": "2019-02-06T00:00:00",
          "geometry": null,
          "id": "110_00000000000000000065",
          "max": 0.00033362861534233827,
          "median": 0.0002241214812011792,
          "min": 0.000175873316869814
         },
         {
          "NAAM_N2K": "Weerribben",
          "OBJECTID": 200,
          "date": "2019-02-06T00:00:00",
          "geometry": null,
          "id": "110_0000000000000000006a",
          "max": 0.00034009107629454376,
          "median": 0.0003299985280093131,
          "min": 0.00031990597972408245
         },
         {
          "NAAM_N2K": "Oosterschelde",
          "OBJECTID": 123,
          "date": "2019-02-06T00:00:00",
          "geometry": null,
          "id": "110_0000000000000000001d",
          "max": 0.0002647793113399938,
          "median": 0.0002647793113399938,
          "min": 0.00021838064789976892
         },
         {
          "NAAM_N2K": "Veluwe",
          "OBJECTID": 194,
          "date": "2019-02-08T00:00:00",
          "geometry": null,
          "id": "111_00000000000000000064",
          "max": 0.00023539990760630986,
          "median": 0.00018757634072304988,
          "min": 0.00017637600710159498
         },
         {
          "NAAM_N2K": "Biesbosch",
          "OBJECTID": 14,
          "date": "2019-02-08T00:00:00",
          "geometry": null,
          "id": "111_00000000000000000081",
          "max": 0.00013686480979732397,
          "median": 0.00013686480979732397,
          "min": 0.00013686480979732397
         },
         {
          "NAAM_N2K": "Waddenzee",
          "OBJECTID": 201,
          "date": "2019-02-08T00:00:00",
          "geometry": null,
          "id": "111_0000000000000000006b",
          "max": 5.740394305568063e-05,
          "median": 5.740394305568063e-05,
          "min": 5.3051251678038454e-05
         },
         {
          "NAAM_N2K": "Rijntakken",
          "OBJECTID": 195,
          "date": "2019-02-08T00:00:00",
          "geometry": null,
          "id": "111_00000000000000000065",
          "max": 0.00019462345514174672,
          "median": 0.0001881547502986292,
          "min": 0.00017637600710159498
         },
         {
          "NAAM_N2K": "Weerribben",
          "OBJECTID": 200,
          "date": "2019-02-08T00:00:00",
          "geometry": null,
          "id": "111_0000000000000000006a",
          "max": 0.0002202725275849932,
          "median": 0.0002198175843229402,
          "min": 0.0002193626410608872
         },
         {
          "NAAM_N2K": "Oosterschelde",
          "OBJECTID": 123,
          "date": "2019-02-08T00:00:00",
          "geometry": null,
          "id": "111_0000000000000000001d",
          "max": 0.0002461332239120076,
          "median": 0.00013456900397923046,
          "min": 0.00013301327525793488
         },
         {
          "NAAM_N2K": "Veluwe",
          "OBJECTID": 194,
          "date": "2019-02-10T00:00:00",
          "geometry": null,
          "id": "112_00000000000000000064",
          "max": 9.279545438202142e-05,
          "median": 5.070634277357828e-05,
          "min": 4.300778514711035e-05
         },
         {
          "NAAM_N2K": "Biesbosch",
          "OBJECTID": 14,
          "date": "2019-02-10T00:00:00",
          "geometry": null,
          "id": "112_00000000000000000081",
          "max": 9.057569189619427e-05,
          "median": 9.057569189619427e-05,
          "min": 9.057569189619427e-05
         },
         {
          "NAAM_N2K": "Waddenzee",
          "OBJECTID": 201,
          "date": "2019-02-10T00:00:00",
          "geometry": null,
          "id": "112_0000000000000000006b",
          "max": 3.586243863574282e-05,
          "median": 3.368840463683553e-05,
          "min": 3.368840463683553e-05
         },
         {
          "NAAM_N2K": "Rijntakken",
          "OBJECTID": 195,
          "date": "2019-02-10T00:00:00",
          "geometry": null,
          "id": "112_00000000000000000065",
          "max": 9.815123865541787e-05,
          "median": 7.736442829788467e-05,
          "min": 4.300778514711035e-05
         },
         {
          "NAAM_N2K": "Weerribben",
          "OBJECTID": 200,
          "date": "2019-02-10T00:00:00",
          "geometry": null,
          "id": "112_0000000000000000006a",
          "max": 4.702882555383853e-05,
          "median": 4.607530768788636e-05,
          "min": 4.512178982193419e-05
         },
         {
          "NAAM_N2K": "Oosterschelde",
          "OBJECTID": 123,
          "date": "2019-02-10T00:00:00",
          "geometry": null,
          "id": "112_0000000000000000001d",
          "max": 0.0002511583998529846,
          "median": 0.00022984934997972818,
          "min": 8.812311524393302e-05
         },
         {
          "NAAM_N2K": "Veluwe",
          "OBJECTID": 194,
          "date": "2019-02-12T00:00:00",
          "geometry": null,
          "id": "113_00000000000000000064",
          "max": 0.00023997556112642329,
          "median": 0.00023356253860213632,
          "min": 0.00017085623198822295
         },
         {
          "NAAM_N2K": "Biesbosch",
          "OBJECTID": 14,
          "date": "2019-02-12T00:00:00",
          "geometry": null,
          "id": "113_00000000000000000081",
          "max": 0.00020353002833541886,
          "median": 0.00020353002833541886,
          "min": 0.00020353002833541886
         },
         {
          "NAAM_N2K": "Waddenzee",
          "OBJECTID": 201,
          "date": "2019-02-12T00:00:00",
          "geometry": null,
          "id": "113_0000000000000000006b",
          "max": 0.0001634334028991216,
          "median": 0.0001525694771332394,
          "min": 0.0001525694771332394
         },
         {
          "NAAM_N2K": "Rijntakken",
          "OBJECTID": 195,
          "date": "2019-02-12T00:00:00",
          "geometry": null,
          "id": "113_00000000000000000065",
          "max": 0.00023997556112642329,
          "median": 0.0001866548024697692,
          "min": 0.00015267257493455598
         },
         {
          "NAAM_N2K": "Weerribben",
          "OBJECTID": 200,
          "date": "2019-02-12T00:00:00",
          "geometry": null,
          "id": "113_0000000000000000006a",
          "max": 0.00020316196679588048,
          "median": 0.00019891575758066875,
          "min": 0.00019466954836545704
         },
         {
          "NAAM_N2K": "Oosterschelde",
          "OBJECTID": 123,
          "date": "2019-02-12T00:00:00",
          "geometry": null,
          "id": "113_0000000000000000001d",
          "max": 0.00024975309185123416,
          "median": 0.0001606940938145883,
          "min": 0.0001606940938145883
         },
         {
          "NAAM_N2K": "Veluwe",
          "OBJECTID": 194,
          "date": "2019-02-14T00:00:00",
          "geometry": null,
          "id": "114_00000000000000000064",
          "max": 0.00016160380575465534,
          "median": 0.00014397504786968387,
          "min": 0.00012858464685892369
         },
         {
          "NAAM_N2K": "Biesbosch",
          "OBJECTID": 14,
          "date": "2019-02-14T00:00:00",
          "geometry": null,
          "id": "114_00000000000000000081",
          "max": 0.00015467673160043287,
          "median": 0.00015467673160043287,
          "min": 0.00015467673160043287
         },
         {
          "NAAM_N2K": "Waddenzee",
          "OBJECTID": 201,
          "date": "2019-02-14T00:00:00",
          "geometry": null,
          "id": "114_0000000000000000006b",
          "max": 0.0001316458908498059,
          "median": 0.00012936465974716811,
          "min": 0.00012936465974716811
         },
         {
          "NAAM_N2K": "Rijntakken",
          "OBJECTID": 195,
          "date": "2019-02-14T00:00:00",
          "geometry": null,
          "id": "114_00000000000000000065",
          "max": 0.0001473130643230189,
          "median": 0.00014530705356184749,
          "min": 0.0001355432497215281
         },
         {
          "NAAM_N2K": "Weerribben",
          "OBJECTID": 200,
          "date": "2019-02-14T00:00:00",
          "geometry": null,
          "id": "114_0000000000000000006a",
          "max": 0.00014511704439440411,
          "median": 0.00013704263560737972,
          "min": 0.00012896822682035533
         },
         {
          "NAAM_N2K": "Oosterschelde",
          "OBJECTID": 123,
          "date": "2019-02-14T00:00:00",
          "geometry": null,
          "id": "114_0000000000000000001d",
          "max": 0.0003074403444235452,
          "median": 0.00017364109470457216,
          "min": 0.0001514444913455004
         },
         {
          "NAAM_N2K": "Veluwe",
          "OBJECTID": 194,
          "date": "2019-02-16T00:00:00",
          "geometry": null,
          "id": "115_00000000000000000064",
          "max": 0.00016982826887424368,
          "median": 0.00016289677496494686,
          "min": 0.00014537670250708014
         },
         {
          "NAAM_N2K": "Biesbosch",
          "OBJECTID": 14,
          "date": "2019-02-16T00:00:00",
          "geometry": null,
          "id": "115_00000000000000000081",
          "max": 0.0001527296352472928,
          "median": 0.0001527296352472928,
          "min": 0.0001527296352472928
         },
         {
          "NAAM_N2K": "Waddenzee",
          "OBJECTID": 201,
          "date": "2019-02-16T00:00:00",
          "geometry": null,
          "id": "115_0000000000000000006b",
          "max": 0.00019397971902575077,
          "median": 0.00019397971902575077,
          "min": 0.00017470110763486866
         },
         {
          "NAAM_N2K": "Rijntakken",
          "OBJECTID": 195,
          "date": "2019-02-16T00:00:00",
          "geometry": null,
          "id": "115_00000000000000000065",
          "max": 0.00017339908918021795,
          "median": 0.00015472438891796198,
          "min": 0.00014250594488005906
         },
         {
          "NAAM_N2K": "Weerribben",
          "OBJECTID": 200,
          "date": "2019-02-16T00:00:00",
          "geometry": null,
          "id": "115_0000000000000000006a",
          "max": 0.00015900147069143698,
          "median": 0.00015684211703266877,
          "min": 0.00015468276337390056
         },
         {
          "NAAM_N2K": "Oosterschelde",
          "OBJECTID": 123,
          "date": "2019-02-16T00:00:00",
          "geometry": null,
          "id": "115_0000000000000000001d",
          "max": 0.00018908811125500772,
          "median": 0.00014198839874694202,
          "min": 0.00013492571262418556
         },
         {
          "NAAM_N2K": "Veluwe",
          "OBJECTID": 194,
          "date": "2019-02-18T00:00:00",
          "geometry": null,
          "id": "116_00000000000000000064",
          "max": 0.00015936412252310248,
          "median": 0.0001373003287388695,
          "min": 0.0001289094644997166
         },
         {
          "NAAM_N2K": "Biesbosch",
          "OBJECTID": 14,
          "date": "2019-02-18T00:00:00",
          "geometry": null,
          "id": "116_00000000000000000081",
          "max": 0.00020000534900607952,
          "median": 0.00020000534900607952,
          "min": 0.00020000534900607952
         },
         {
          "NAAM_N2K": "Waddenzee",
          "OBJECTID": 201,
          "date": "2019-02-18T00:00:00",
          "geometry": null,
          "id": "116_0000000000000000006b",
          "max": 0.0001047860028187939,
          "median": 0.00010418789738385192,
          "min": 0.00010418789738385192
         },
         {
          "NAAM_N2K": "Rijntakken",
          "OBJECTID": 195,
          "date": "2019-02-18T00:00:00",
          "geometry": null,
          "id": "116_00000000000000000065",
          "max": 0.00013542731609304554,
          "median": 0.00012918849275970372,
          "min": 0.00010498325629850784
         },
         {
          "NAAM_N2K": "Weerribben",
          "OBJECTID": 200,
          "date": "2019-02-18T00:00:00",
          "geometry": null,
          "id": "116_0000000000000000006a",
          "max": 0.0001327345695011448,
          "median": 0.00012787112005197658,
          "min": 0.00012300767060280835
         },
         {
          "NAAM_N2K": "Oosterschelde",
          "OBJECTID": 123,
          "date": "2019-02-18T00:00:00",
          "geometry": null,
          "id": "116_0000000000000000001d",
          "max": 0.00024043118203772275,
          "median": 0.00017755312549654818,
          "min": 0.00016436027930466214
         },
         {
          "NAAM_N2K": "Veluwe",
          "OBJECTID": 194,
          "date": "2019-02-20T00:00:00",
          "geometry": null,
          "id": "117_00000000000000000064",
          "max": 0.0001686962817544005,
          "median": 0.00015068387086325345,
          "min": 9.330426879280613e-05
         },
         {
          "NAAM_N2K": "Biesbosch",
          "OBJECTID": 14,
          "date": "2019-02-20T00:00:00",
          "geometry": null,
          "id": "117_00000000000000000081",
          "max": 0.00013654646809111153,
          "median": 0.00013654646809111153,
          "min": 0.00013654646809111153
         },
         {
          "NAAM_N2K": "Waddenzee",
          "OBJECTID": 201,
          "date": "2019-02-20T00:00:00",
          "geometry": null,
          "id": "117_0000000000000000006b",
          "max": 0.00010496965084502667,
          "median": 9.59579626053222e-05,
          "min": 9.59579626053222e-05
         },
         {
          "NAAM_N2K": "Rijntakken",
          "OBJECTID": 195,
          "date": "2019-02-20T00:00:00",
          "geometry": null,
          "id": "117_00000000000000000065",
          "max": 0.0001617701597658332,
          "median": 0.00015580992649847372,
          "min": 9.330426879280613e-05
         },
         {
          "NAAM_N2K": "Weerribben",
          "OBJECTID": 200,
          "date": "2019-02-20T00:00:00",
          "geometry": null,
          "id": "117_0000000000000000006a",
          "max": 9.495747485500015e-05,
          "median": 9.240058431091635e-05,
          "min": 8.984369376683254e-05
         },
         {
          "NAAM_N2K": "Oosterschelde",
          "OBJECTID": 123,
          "date": "2019-02-20T00:00:00",
          "geometry": null,
          "id": "117_0000000000000000001d",
          "max": 0.00016344357387684867,
          "median": 0.00012120189735043867,
          "min": 8.945385378360398e-05
         },
         {
          "NAAM_N2K": "Veluwe",
          "OBJECTID": 194,
          "date": "2019-02-22T00:00:00",
          "geometry": null,
          "id": "118_00000000000000000064",
          "max": 0.00015257906558228176,
          "median": 0.0001439149460881872,
          "min": 0.0001201163522924482
         },
         {
          "NAAM_N2K": "Biesbosch",
          "OBJECTID": 14,
          "date": "2019-02-22T00:00:00",
          "geometry": null,
          "id": "118_00000000000000000081",
          "max": 0.00012285594591470114,
          "median": 0.00012285594591470114,
          "min": 0.00012285594591470114
         },
         {
          "NAAM_N2K": "Waddenzee",
          "OBJECTID": 201,
          "date": "2019-02-22T00:00:00",
          "geometry": null,
          "id": "118_0000000000000000006b",
          "max": 9.46727026375131e-05,
          "median": 9.46727026375131e-05,
          "min": 8.739518334976485e-05
         },
         {
          "NAAM_N2K": "Rijntakken",
          "OBJECTID": 195,
          "date": "2019-02-22T00:00:00",
          "geometry": null,
          "id": "118_00000000000000000065",
          "max": 0.00014861036417565288,
          "median": 0.00013313847472520672,
          "min": 9.685666490543232e-05
         },
         {
          "NAAM_N2K": "Weerribben",
          "OBJECTID": 200,
          "date": "2019-02-22T00:00:00",
          "geometry": null,
          "id": "118_0000000000000000006a",
          "max": 0.00012009004888919109,
          "median": 0.00011654741085268951,
          "min": 0.00011300477281618793
         },
         {
          "NAAM_N2K": "Oosterschelde",
          "OBJECTID": 123,
          "date": "2019-02-22T00:00:00",
          "geometry": null,
          "id": "118_0000000000000000001d",
          "max": 0.00017365581455937459,
          "median": 0.00011874074572921321,
          "min": 0.00011353835859367237
         },
         {
          "NAAM_N2K": "Veluwe",
          "OBJECTID": 194,
          "date": "2019-02-24T00:00:00",
          "geometry": null,
          "id": "119_00000000000000000064",
          "max": 0.0001467805587768173,
          "median": 0.00014468766723525268,
          "min": 0.00011860923884902228
         },
         {
          "NAAM_N2K": "Biesbosch",
          "OBJECTID": 14,
          "date": "2019-02-24T00:00:00",
          "geometry": null,
          "id": "119_00000000000000000081",
          "max": 0.00012517001386719312,
          "median": 0.00012517001386719312,
          "min": 0.00012517001386719312
         },
         {
          "NAAM_N2K": "Waddenzee",
          "OBJECTID": 201,
          "date": "2019-02-24T00:00:00",
          "geometry": null,
          "id": "119_0000000000000000006b",
          "max": 0.00012603602903828577,
          "median": 0.00012603602903828577,
          "min": 0.00011684036746580564
         },
         {
          "NAAM_N2K": "Rijntakken",
          "OBJECTID": 195,
          "date": "2019-02-24T00:00:00",
          "geometry": null,
          "id": "119_00000000000000000065",
          "max": 0.0001449354974384786,
          "median": 0.00014003167696866145,
          "min": 0.00011860923884902228
         },
         {
          "NAAM_N2K": "Weerribben",
          "OBJECTID": 200,
          "date": "2019-02-24T00:00:00",
          "geometry": null,
          "id": "119_0000000000000000006a",
          "max": 0.00012334786106813527,
          "median": 0.00012244526306499375,
          "min": 0.00012154266506185224
         },
         {
          "NAAM_N2K": "Oosterschelde",
          "OBJECTID": 123,
          "date": "2019-02-24T00:00:00",
          "geometry": null,
          "id": "119_0000000000000000001d",
          "max": 0.000226849878881702,
          "median": 0.00019443060619560475,
          "min": 0.0001463676967131408
         },
         {
          "NAAM_N2K": "Veluwe",
          "OBJECTID": 194,
          "date": "2019-02-26T00:00:00",
          "geometry": null,
          "id": "120_00000000000000000064",
          "max": 0.00028881280683557903,
          "median": 0.00024285590536389067,
          "min": 0.00021980121218790542
         },
         {
          "NAAM_N2K": "Biesbosch",
          "OBJECTID": 14,
          "date": "2019-02-26T00:00:00",
          "geometry": null,
          "id": "120_00000000000000000081",
          "max": 0.000225108565552419,
          "median": 0.000225108565552419,
          "min": 0.000225108565552419
         },
         {
          "NAAM_N2K": "Waddenzee",
          "OBJECTID": 201,
          "date": "2019-02-26T00:00:00",
          "geometry": null,
          "id": "120_0000000000000000006b",
          "max": 0.00021253506941948215,
          "median": 0.00021253506941948215,
          "min": 0.0001932687882853617
         },
         {
          "NAAM_N2K": "Rijntakken",
          "OBJECTID": 195,
          "date": "2019-02-26T00:00:00",
          "geometry": null,
          "id": "120_00000000000000000065",
          "max": 0.00025559094077499625,
          "median": 0.00023227109126226295,
          "min": 0.00022151238638455252
         },
         {
          "NAAM_N2K": "Weerribben",
          "OBJECTID": 200,
          "date": "2019-02-26T00:00:00",
          "geometry": null,
          "id": "120_0000000000000000006a",
          "max": 0.0002258966062690834,
          "median": 0.00021361884145233787,
          "min": 0.00020134107663559236
         },
         {
          "NAAM_N2K": "Oosterschelde",
          "OBJECTID": 123,
          "date": "2019-02-26T00:00:00",
          "geometry": null,
          "id": "120_0000000000000000001d",
          "max": 0.0002306519878574025,
          "median": 0.00020600679996922043,
          "min": 0.00020348497181681434
         },
         {
          "NAAM_N2K": "Veluwe",
          "OBJECTID": 194,
          "date": "2019-02-28T00:00:00",
          "geometry": null,
          "id": "121_00000000000000000064",
          "max": 0.00021073064486813118,
          "median": 0.00012098158683579895,
          "min": 9.537884317908289e-05
         },
         {
          "NAAM_N2K": "Biesbosch",
          "OBJECTID": 14,
          "date": "2019-02-28T00:00:00",
          "geometry": null,
          "id": "121_00000000000000000081",
          "max": 6.408225165520725e-05,
          "median": 6.408225165520725e-05,
          "min": 6.408225165520725e-05
         },
         {
          "NAAM_N2K": "Waddenzee",
          "OBJECTID": 201,
          "date": "2019-02-28T00:00:00",
          "geometry": null,
          "id": "121_0000000000000000006b",
          "max": 0.0001458400223792396,
          "median": 0.0001458400223792396,
          "min": 0.00014051304018242972
         },
         {
          "NAAM_N2K": "Rijntakken",
          "OBJECTID": 195,
          "date": "2019-02-28T00:00:00",
          "geometry": null,
          "id": "121_00000000000000000065",
          "max": 0.0001820718279912798,
          "median": 0.00012098158683579895,
          "min": 7.574952699388018e-05
         },
         {
          "NAAM_N2K": "Weerribben",
          "OBJECTID": 200,
          "date": "2019-02-28T00:00:00",
          "geometry": null,
          "id": "121_0000000000000000006a",
          "max": 0.00018135981983028395,
          "median": 0.00017809026416344567,
          "min": 0.00017482070849660742
         },
         {
          "NAAM_N2K": "Oosterschelde",
          "OBJECTID": 123,
          "date": "2019-02-28T00:00:00",
          "geometry": null,
          "id": "121_0000000000000000001d",
          "max": 7.177827727387053e-05,
          "median": 6.342357819462032e-05,
          "min": 6.342357819462032e-05
         },
         {
          "NAAM_N2K": "Veluwe",
          "OBJECTID": 194,
          "date": "2019-03-02T00:00:00",
          "geometry": null,
          "id": "122_00000000000000000064",
          "max": 0.00013422715470570124,
          "median": 0.00010422198883985333,
          "min": 8.517308048858537e-05
         },
         {
          "NAAM_N2K": "Biesbosch",
          "OBJECTID": 14,
          "date": "2019-03-02T00:00:00",
          "geometry": null,
          "id": "122_00000000000000000081",
          "max": 0.0001298593364407761,
          "median": 0.0001298593364407761,
          "min": 0.0001298593364407761
         },
         {
          "NAAM_N2K": "Waddenzee",
          "OBJECTID": 201,
          "date": "2019-03-02T00:00:00",
          "geometry": null,
          "id": "122_0000000000000000006b",
          "max": 0.0001086928631564933,
          "median": 0.0001086928631564933,
          "min": 9.815860043362278e-05
         },
         {
          "NAAM_N2K": "Rijntakken",
          "OBJECTID": 195,
          "date": "2019-03-02T00:00:00",
          "geometry": null,
          "id": "122_00000000000000000065",
          "max": 0.00011706539423005671,
          "median": 0.00010560824333773963,
          "min": 8.517308048858537e-05
         },
         {
          "NAAM_N2K": "Weerribben",
          "OBJECTID": 200,
          "date": "2019-03-02T00:00:00",
          "geometry": null,
          "id": "122_0000000000000000006a",
          "max": 0.00012289927766486104,
          "median": 0.00011053662293195813,
          "min": 9.817396819905523e-05
         },
         {
          "NAAM_N2K": "Oosterschelde",
          "OBJECTID": 123,
          "date": "2019-03-02T00:00:00",
          "geometry": null,
          "id": "122_0000000000000000001d",
          "max": 0.00011302463437963524,
          "median": 9.648298816792649e-05,
          "min": 8.892960829600832e-05
         },
         {
          "NAAM_N2K": "Veluwe",
          "OBJECTID": 194,
          "date": "2019-03-04T00:00:00",
          "geometry": null,
          "id": "123_00000000000000000064",
          "max": 9.679212587000836e-05,
          "median": 9.619039087983136e-05,
          "min": 7.689363630572873e-05
         },
         {
          "NAAM_N2K": "Biesbosch",
          "OBJECTID": 14,
          "date": "2019-03-04T00:00:00",
          "geometry": null,
          "id": "123_00000000000000000081",
          "max": 9.899505435757901e-05,
          "median": 9.899505435757901e-05,
          "min": 9.899505435757901e-05
         },
         {
          "NAAM_N2K": "Waddenzee",
          "OBJECTID": 201,
          "date": "2019-03-04T00:00:00",
          "geometry": null,
          "id": "123_0000000000000000006b",
          "max": 5.908191201791751e-05,
          "median": 5.7319978403496965e-05,
          "min": 5.7319978403496965e-05
         },
         {
          "NAAM_N2K": "Rijntakken",
          "OBJECTID": 195,
          "date": "2019-03-04T00:00:00",
          "geometry": null,
          "id": "123_00000000000000000065",
          "max": 0.00010701199605025162,
          "median": 9.679212587000836e-05,
          "min": 7.801852889792194e-05
         },
         {
          "NAAM_N2K": "Weerribben",
          "OBJECTID": 200,
          "date": "2019-03-04T00:00:00",
          "geometry": null,
          "id": "123_0000000000000000006a",
          "max": 6.882778279150453e-05,
          "median": 6.526141798013726e-05,
          "min": 6.169505316876999e-05
         },
         {
          "NAAM_N2K": "Oosterschelde",
          "OBJECTID": 123,
          "date": "2019-03-04T00:00:00",
          "geometry": null,
          "id": "123_0000000000000000001d",
          "max": 0.0001077197771852339,
          "median": 7.03910984916352e-05,
          "min": 7.03910984916352e-05
         },
         {
          "NAAM_N2K": "Veluwe",
          "OBJECTID": 194,
          "date": "2019-03-06T00:00:00",
          "geometry": null,
          "id": "124_00000000000000000064",
          "max": 0.00023849326340030677,
          "median": 0.00020884282912541447,
          "min": 7.5759950988615e-05
         },
         {
          "NAAM_N2K": "Biesbosch",
          "OBJECTID": 14,
          "date": "2019-03-06T00:00:00",
          "geometry": null,
          "id": "124_00000000000000000081",
          "max": 0.00029563949279063105,
          "median": 0.00029563949279063105,
          "min": 0.00029563949279063105
         },
         {
          "NAAM_N2K": "Waddenzee",
          "OBJECTID": 201,
          "date": "2019-03-06T00:00:00",
          "geometry": null,
          "id": "124_0000000000000000006b",
          "max": 0.0001662264058351201,
          "median": 0.0001662264058351201,
          "min": 8.167291728664139e-05
         },
         {
          "NAAM_N2K": "Rijntakken",
          "OBJECTID": 195,
          "date": "2019-03-06T00:00:00",
          "geometry": null,
          "id": "124_00000000000000000065",
          "max": 0.00023849326340030677,
          "median": 0.00017380021702218142,
          "min": 0.00010770501549088262
         },
         {
          "NAAM_N2K": "Weerribben",
          "OBJECTID": 200,
          "date": "2019-03-06T00:00:00",
          "geometry": null,
          "id": "124_0000000000000000006a",
          "max": 0.00017663055509761362,
          "median": 0.00013536477972545056,
          "min": 9.40990043532875e-05
         },
         {
          "NAAM_N2K": "Oosterschelde",
          "OBJECTID": 123,
          "date": "2019-03-06T00:00:00",
          "geometry": null,
          "id": "124_0000000000000000001d",
          "max": 0.00037040360464431676,
          "median": 0.0001570752767170204,
          "min": 0.0001270237325929251
         },
         {
          "NAAM_N2K": "Veluwe",
          "OBJECTID": 194,
          "date": "2019-03-08T00:00:00",
          "geometry": null,
          "id": "125_00000000000000000064",
          "max": 0.00013080569616656301,
          "median": 0.00011166429332179216,
          "min": 0.00010820516751501824
         },
         {
          "NAAM_N2K": "Biesbosch",
          "OBJECTID": 14,
          "date": "2019-03-08T00:00:00",
          "geometry": null,
          "id": "125_00000000000000000081",
          "max": 9.32090840638361e-05,
          "median": 9.32090840638361e-05,
          "min": 9.32090840638361e-05
         },
         {
          "NAAM_N2K": "Waddenzee",
          "OBJECTID": 201,
          "date": "2019-03-08T00:00:00",
          "geometry": null,
          "id": "125_0000000000000000006b",
          "max": 6.382611353998391e-05,
          "median": 6.299525923531269e-05,
          "min": 6.299525923531269e-05
         },
         {
          "NAAM_N2K": "Rijntakken",
          "OBJECTID": 195,
          "date": "2019-03-08T00:00:00",
          "geometry": null,
          "id": "125_00000000000000000065",
          "max": 0.00013932457920521,
          "median": 0.00013080569616656301,
          "min": 0.00010820516751501824
         },
         {
          "NAAM_N2K": "Weerribben",
          "OBJECTID": 200,
          "date": "2019-03-08T00:00:00",
          "geometry": null,
          "id": "125_0000000000000000006a",
          "max": 8.334518872745658e-05,
          "median": 7.933141739972927e-05,
          "min": 7.531764607200197e-05
         },
         {
          "NAAM_N2K": "Oosterschelde",
          "OBJECTID": 123,
          "date": "2019-03-08T00:00:00",
          "geometry": null,
          "id": "125_0000000000000000001d",
          "max": 0.00011381018720792784,
          "median": 0.0001018652406224456,
          "min": 8.667292319527564e-05
         },
         {
          "NAAM_N2K": "Veluwe",
          "OBJECTID": 194,
          "date": "2019-03-10T00:00:00",
          "geometry": null,
          "id": "126_00000000000000000064",
          "max": 0.0001838449036541649,
          "median": 8.012057654098863e-05,
          "min": 7.784182225371279e-05
         },
         {
          "NAAM_N2K": "Biesbosch",
          "OBJECTID": 14,
          "date": "2019-03-10T00:00:00",
          "geometry": null,
          "id": "126_00000000000000000081",
          "max": 7.57667212704007e-05,
          "median": 7.57667212704007e-05,
          "min": 7.57667212704007e-05
         },
         {
          "NAAM_N2K": "Waddenzee",
          "OBJECTID": 201,
          "date": "2019-03-10T00:00:00",
          "geometry": null,
          "id": "126_0000000000000000006b",
          "max": 0.00019376319429582979,
          "median": 0.00019376319429582979,
          "min": 0.00017626709677410796
         },
         {
          "NAAM_N2K": "Rijntakken",
          "OBJECTID": 195,
          "date": "2019-03-10T00:00:00",
          "geometry": null,
          "id": "126_00000000000000000065",
          "max": 0.00013343109375432382,
          "median": 8.251158506706807e-05,
          "min": 7.620438634138508e-05
         },
         {
          "NAAM_N2K": "Weerribben",
          "OBJECTID": 200,
          "date": "2019-03-10T00:00:00",
          "geometry": null,
          "id": "126_0000000000000000006a",
          "max": 0.00012521540579842188,
          "median": 0.00012168953015128652,
          "min": 0.00011816365450415117
         },
         {
          "NAAM_N2K": "Oosterschelde",
          "OBJECTID": 123,
          "date": "2019-03-10T00:00:00",
          "geometry": null,
          "id": "126_0000000000000000001d",
          "max": 7.45946403254418e-05,
          "median": 6.90156546733878e-05,
          "min": 6.90156546733878e-05
         },
         {
          "NAAM_N2K": "Veluwe",
          "OBJECTID": 194,
          "date": "2019-03-12T00:00:00",
          "geometry": null,
          "id": "127_00000000000000000064",
          "max": 0.00028146547728679364,
          "median": 0.00020020884450129312,
          "min": 0.00014735174728720596
         },
         {
          "NAAM_N2K": "Biesbosch",
          "OBJECTID": 14,
          "date": "2019-03-12T00:00:00",
          "geometry": null,
          "id": "127_00000000000000000081",
          "max": 0.00016244448380986986,
          "median": 0.00016244448380986986,
          "min": 0.00016244448380986986
         },
         {
          "NAAM_N2K": "Waddenzee",
          "OBJECTID": 201,
          "date": "2019-03-12T00:00:00",
          "geometry": null,
          "id": "127_0000000000000000006b",
          "max": 7.045129412259646e-05,
          "median": 5.6342320278259883e-05,
          "min": 5.6342320278259883e-05
         },
         {
          "NAAM_N2K": "Rijntakken",
          "OBJECTID": 195,
          "date": "2019-03-12T00:00:00",
          "geometry": null,
          "id": "127_00000000000000000065",
          "max": 0.00028146547728679364,
          "median": 0.00021605852578237351,
          "min": 0.00012078111020536779
         },
         {
          "NAAM_N2K": "Weerribben",
          "OBJECTID": 200,
          "date": "2019-03-12T00:00:00",
          "geometry": null,
          "id": "127_0000000000000000006a",
          "max": 0.00016388379644658406,
          "median": 0.00015600648433955954,
          "min": 0.00014812917223253503
         },
         {
          "NAAM_N2K": "Oosterschelde",
          "OBJECTID": 123,
          "date": "2019-03-12T00:00:00",
          "geometry": null,
          "id": "127_0000000000000000001d",
          "max": 0.00024791943722774065,
          "median": 0.00019460154788058097,
          "min": 0.0001536136093713611
         },
         {
          "NAAM_N2K": "Veluwe",
          "OBJECTID": 194,
          "date": "2019-03-14T00:00:00",
          "geometry": null,
          "id": "128_00000000000000000064",
          "max": 0.0006055872134346097,
          "median": 0.0004867275206915787,
          "min": 0.0001784013825465012
         },
         {
          "NAAM_N2K": "Biesbosch",
          "OBJECTID": 14,
          "date": "2019-03-14T00:00:00",
          "geometry": null,
          "id": "128_00000000000000000081",
          "max": 0.00020127435628333347,
          "median": 0.00020127435628333347,
          "min": 0.00020127435628333347
         },
         {
          "NAAM_N2K": "Waddenzee",
          "OBJECTID": 201,
          "date": "2019-03-14T00:00:00",
          "geometry": null,
          "id": "128_0000000000000000006b",
          "max": 9.816120760921495e-05,
          "median": 8.194116253803425e-05,
          "min": 8.194116253803425e-05
         },
         {
          "NAAM_N2K": "Rijntakken",
          "OBJECTID": 195,
          "date": "2019-03-14T00:00:00",
          "geometry": null,
          "id": "128_00000000000000000065",
          "max": 0.0006055872134346097,
          "median": 0.00032158885267160974,
          "min": 0.0001784013825465012
         },
         {
          "NAAM_N2K": "Weerribben",
          "OBJECTID": 200,
          "date": "2019-03-14T00:00:00",
          "geometry": null,
          "id": "128_0000000000000000006a",
          "max": 0.00014902937352426624,
          "median": 0.00014413966418802603,
          "min": 0.0001392499548517858
         },
         {
          "NAAM_N2K": "Oosterschelde",
          "OBJECTID": 123,
          "date": "2019-03-14T00:00:00",
          "geometry": null,
          "id": "128_0000000000000000001d",
          "max": 0.00024722890363779756,
          "median": 0.00013982016788418726,
          "min": 0.00013982016788418726
         },
         {
          "NAAM_N2K": "Veluwe",
          "OBJECTID": 194,
          "date": "2019-03-16T00:00:00",
          "geometry": null,
          "id": "129_00000000000000000064",
          "max": 0.00010860452537896458,
          "median": 7.546413812565262e-05,
          "min": 7.457111702953828e-05
         },
         {
          "NAAM_N2K": "Biesbosch",
          "OBJECTID": 14,
          "date": "2019-03-16T00:00:00",
          "geometry": null,
          "id": "129_00000000000000000081",
          "max": 7.629938259642936e-05,
          "median": 7.629938259642936e-05,
          "min": 7.629938259642936e-05
         },
         {
          "NAAM_N2K": "Waddenzee",
          "OBJECTID": 201,
          "date": "2019-03-16T00:00:00",
          "geometry": null,
          "id": "129_0000000000000000006b",
          "max": 5.932501080485521e-05,
          "median": 5.932501080485521e-05,
          "min": 5.5061765983540885e-05
         },
         {
          "NAAM_N2K": "Rijntakken",
          "OBJECTID": 195,
          "date": "2019-03-16T00:00:00",
          "geometry": null,
          "id": "129_00000000000000000065",
          "max": 0.00011148923104507568,
          "median": 9.671536820071162e-05,
          "min": 7.922649906278188e-05
         },
         {
          "NAAM_N2K": "Weerribben",
          "OBJECTID": 200,
          "date": "2019-03-16T00:00:00",
          "geometry": null,
          "id": "129_0000000000000000006a",
          "max": 7.918471432203978e-05,
          "median": 7.158064396563704e-05,
          "min": 6.39765736092343e-05
         },
         {
          "NAAM_N2K": "Oosterschelde",
          "OBJECTID": 123,
          "date": "2019-03-16T00:00:00",
          "geometry": null,
          "id": "129_0000000000000000001d",
          "max": 9.23230306562201e-05,
          "median": 5.894607559193897e-05,
          "min": 5.894607559193897e-05
         },
         {
          "NAAM_N2K": "Veluwe",
          "OBJECTID": 194,
          "date": "2019-03-18T00:00:00",
          "geometry": null,
          "id": "130_00000000000000000064",
          "max": 0.00012224054573483194,
          "median": 0.00010176051715533269,
          "min": 6.489171259758459e-05
         },
         {
          "NAAM_N2K": "Biesbosch",
          "OBJECTID": 14,
          "date": "2019-03-18T00:00:00",
          "geometry": null,
          "id": "130_00000000000000000081",
          "max": 0.0001313643973484786,
          "median": 0.0001313643973484786,
          "min": 0.0001313643973484786
         },
         {
          "NAAM_N2K": "Waddenzee",
          "OBJECTID": 201,
          "date": "2019-03-18T00:00:00",
          "geometry": null,
          "id": "130_0000000000000000006b",
          "max": 5.9768727583465144e-05,
          "median": 5.522893994289353e-05,
          "min": 5.522893994289353e-05
         },
         {
          "NAAM_N2K": "Rijntakken",
          "OBJECTID": 195,
          "date": "2019-03-18T00:00:00",
          "geometry": null,
          "id": "130_00000000000000000065",
          "max": 0.00012907622085548727,
          "median": 9.96930995678883e-05,
          "min": 6.489171259758459e-05
         },
         {
          "NAAM_N2K": "Weerribben",
          "OBJECTID": 200,
          "date": "2019-03-18T00:00:00",
          "geometry": null,
          "id": "130_0000000000000000006a",
          "max": 6.28434835349304e-05,
          "median": 6.0874142027998805e-05,
          "min": 5.890480052106721e-05
         },
         {
          "NAAM_N2K": "Oosterschelde",
          "OBJECTID": 123,
          "date": "2019-03-18T00:00:00",
          "geometry": null,
          "id": "130_0000000000000000001d",
          "max": 0.0001511370740135528,
          "median": 0.00011848584570426981,
          "min": 0.00011629794111440546
         },
         {
          "NAAM_N2K": "Veluwe",
          "OBJECTID": 194,
          "date": "2019-03-20T00:00:00",
          "geometry": null,
          "id": "131_00000000000000000064",
          "max": 0.00015543268184216224,
          "median": 0.00011458188326892652,
          "min": 9.377150368922558e-05
         },
         {
          "NAAM_N2K": "Biesbosch",
          "OBJECTID": 14,
          "date": "2019-03-20T00:00:00",
          "geometry": null,
          "id": "131_00000000000000000081",
          "max": 7.567029862387319e-05,
          "median": 7.567029862387319e-05,
          "min": 7.567029862387319e-05
         },
         {
          "NAAM_N2K": "Waddenzee",
          "OBJECTID": 201,
          "date": "2019-03-20T00:00:00",
          "geometry": null,
          "id": "131_0000000000000000006b",
          "max": 6.207224259446466e-05,
          "median": 6.207224259446466e-05,
          "min": 6.127687175606843e-05
         },
         {
          "NAAM_N2K": "Rijntakken",
          "OBJECTID": 195,
          "date": "2019-03-20T00:00:00",
          "geometry": null,
          "id": "131_00000000000000000065",
          "max": 0.00015950403256530205,
          "median": 0.00012132960963330781,
          "min": 9.428153180145402e-05
         },
         {
          "NAAM_N2K": "Weerribben",
          "OBJECTID": 200,
          "date": "2019-03-20T00:00:00",
          "geometry": null,
          "id": "131_0000000000000000006a",
          "max": 8.281705014115745e-05,
          "median": 8.023107803350517e-05,
          "min": 7.764510592585288e-05
         },
         {
          "NAAM_N2K": "Oosterschelde",
          "OBJECTID": 123,
          "date": "2019-03-20T00:00:00",
          "geometry": null,
          "id": "131_0000000000000000001d",
          "max": 0.00010902242224946598,
          "median": 7.245245724249932e-05,
          "min": 7.245245724249932e-05
         },
         {
          "NAAM_N2K": "Veluwe",
          "OBJECTID": 194,
          "date": "2019-03-22T00:00:00",
          "geometry": null,
          "id": "132_00000000000000000064",
          "max": 0.0001879725855867163,
          "median": 0.00015320644315156915,
          "min": 0.00013486894202946204
         },
         {
          "NAAM_N2K": "Biesbosch",
          "OBJECTID": 14,
          "date": "2019-03-22T00:00:00",
          "geometry": null,
          "id": "132_00000000000000000081",
          "max": 0.0001601736918340973,
          "median": 0.0001601736918340973,
          "min": 0.0001601736918340973
         },
         {
          "NAAM_N2K": "Waddenzee",
          "OBJECTID": 201,
          "date": "2019-03-22T00:00:00",
          "geometry": null,
          "id": "132_0000000000000000006b",
          "max": 0.00010051374686597135,
          "median": 9.851742569079374e-05,
          "min": 9.851742569079374e-05
         },
         {
          "NAAM_N2K": "Rijntakken",
          "OBJECTID": 195,
          "date": "2019-03-22T00:00:00",
          "geometry": null,
          "id": "132_00000000000000000065",
          "max": 0.00015395027122118302,
          "median": 0.0001507624866717835,
          "min": 0.00013486894202946204
         },
         {
          "NAAM_N2K": "Weerribben",
          "OBJECTID": 200,
          "date": "2019-03-22T00:00:00",
          "geometry": null,
          "id": "132_0000000000000000006a",
          "max": 0.00019820515515172132,
          "median": 0.0001879916412055236,
          "min": 0.00017777812725932593
         },
         {
          "NAAM_N2K": "Oosterschelde",
          "OBJECTID": 123,
          "date": "2019-03-22T00:00:00",
          "geometry": null,
          "id": "132_0000000000000000001d",
          "max": 0.00026989251189394887,
          "median": 0.00018164943324768153,
          "min": 0.0001518271880916354
         },
         {
          "NAAM_N2K": "Veluwe",
          "OBJECTID": 194,
          "date": "2019-03-24T00:00:00",
          "geometry": null,
          "id": "133_00000000000000000064",
          "max": 6.851628434491871e-05,
          "median": 6.80891399866584e-05,
          "min": 5.666222506180349e-05
         },
         {
          "NAAM_N2K": "Biesbosch",
          "OBJECTID": 14,
          "date": "2019-03-24T00:00:00",
          "geometry": null,
          "id": "133_00000000000000000081",
          "max": 6.84448746615845e-05,
          "median": 6.84448746615845e-05,
          "min": 6.84448746615845e-05
         },
         {
          "NAAM_N2K": "Waddenzee",
          "OBJECTID": 201,
          "date": "2019-03-24T00:00:00",
          "geometry": null,
          "id": "133_0000000000000000006b",
          "max": 6.750989878902615e-05,
          "median": 6.750989878902615e-05,
          "min": 6.507407966115152e-05
         },
         {
          "NAAM_N2K": "Rijntakken",
          "OBJECTID": 195,
          "date": "2019-03-24T00:00:00",
          "geometry": null,
          "id": "133_00000000000000000065",
          "max": 8.017602465249477e-05,
          "median": 6.735827493177654e-05,
          "min": 5.666222506180349e-05
         },
         {
          "NAAM_N2K": "Weerribben",
          "OBJECTID": 200,
          "date": "2019-03-24T00:00:00",
          "geometry": null,
          "id": "133_0000000000000000006a",
          "max": 6.180215235637398e-05,
          "median": 6.099891891280468e-05,
          "min": 6.019568546923539e-05
         },
         {
          "NAAM_N2K": "Oosterschelde",
          "OBJECTID": 123,
          "date": "2019-03-24T00:00:00",
          "geometry": null,
          "id": "133_0000000000000000001d",
          "max": 7.081554843877828e-05,
          "median": 5.986008649914864e-05,
          "min": 5.986008649914864e-05
         },
         {
          "NAAM_N2K": "Veluwe",
          "OBJECTID": 194,
          "date": "2019-03-26T00:00:00",
          "geometry": null,
          "id": "134_00000000000000000064",
          "max": 0.00012328581166430716,
          "median": 9.350144779674533e-05,
          "min": 8.10668664588985e-05
         },
         {
          "NAAM_N2K": "Biesbosch",
          "OBJECTID": 14,
          "date": "2019-03-26T00:00:00",
          "geometry": null,
          "id": "134_00000000000000000081",
          "max": 0.00013311631717975324,
          "median": 0.00013311631717975324,
          "min": 0.00013311631717975324
         },
         {
          "NAAM_N2K": "Waddenzee",
          "OBJECTID": 201,
          "date": "2019-03-26T00:00:00",
          "geometry": null,
          "id": "134_0000000000000000006b",
          "max": 9.645625992900917e-05,
          "median": 9.645625992900917e-05,
          "min": 9.209885813672784e-05
         },
         {
          "NAAM_N2K": "Rijntakken",
          "OBJECTID": 195,
          "date": "2019-03-26T00:00:00",
          "geometry": null,
          "id": "134_00000000000000000065",
          "max": 0.00012328581166430716,
          "median": 0.00010605014189889457,
          "min": 8.400991021304698e-05
         },
         {
          "NAAM_N2K": "Weerribben",
          "OBJECTID": 200,
          "date": "2019-03-26T00:00:00",
          "geometry": null,
          "id": "134_0000000000000000006a",
          "max": 8.439737712392916e-05,
          "median": 8.055262656185574e-05,
          "min": 7.670787599978231e-05
         },
         {
          "NAAM_N2K": "Oosterschelde",
          "OBJECTID": 123,
          "date": "2019-03-26T00:00:00",
          "geometry": null,
          "id": "134_0000000000000000001d",
          "max": 0.00011688492263968636,
          "median": 9.334579665362143e-05,
          "min": 9.334579665362143e-05
         },
         {
          "NAAM_N2K": "Veluwe",
          "OBJECTID": 194,
          "date": "2019-03-28T00:00:00",
          "geometry": null,
          "id": "135_00000000000000000064",
          "max": 0.00019218692029194015,
          "median": 0.00014468998218279477,
          "min": 0.00010068513257286091
         },
         {
          "NAAM_N2K": "Biesbosch",
          "OBJECTID": 14,
          "date": "2019-03-28T00:00:00",
          "geometry": null,
          "id": "135_00000000000000000081",
          "max": 0.0002305757008130536,
          "median": 0.0002305757008130536,
          "min": 0.0002305757008130536
         },
         {
          "NAAM_N2K": "Waddenzee",
          "OBJECTID": 201,
          "date": "2019-03-28T00:00:00",
          "geometry": null,
          "id": "135_0000000000000000006b",
          "max": 9.174125067960758e-05,
          "median": 9.174125067960758e-05,
          "min": 8.745964261611378e-05
         },
         {
          "NAAM_N2K": "Rijntakken",
          "OBJECTID": 195,
          "date": "2019-03-28T00:00:00",
          "geometry": null,
          "id": "135_00000000000000000065",
          "max": 0.00022015688710643478,
          "median": 0.00014309132548796398,
          "min": 0.00011634371283565772
         },
         {
          "NAAM_N2K": "Weerribben",
          "OBJECTID": 200,
          "date": "2019-03-28T00:00:00",
          "geometry": null,
          "id": "135_0000000000000000006a",
          "max": 0.00010324019794789945,
          "median": 9.70910480683025e-05,
          "min": 9.094189818870554e-05
         },
         {
          "NAAM_N2K": "Oosterschelde",
          "OBJECTID": 123,
          "date": "2019-03-28T00:00:00",
          "geometry": null,
          "id": "135_0000000000000000001d",
          "max": 0.00020014800192862385,
          "median": 0.00012515915972259616,
          "min": 9.883657480910079e-05
         },
         {
          "NAAM_N2K": "Veluwe",
          "OBJECTID": 194,
          "date": "2019-03-30T00:00:00",
          "geometry": null,
          "id": "136_00000000000000000064",
          "max": 9.330689491084815e-05,
          "median": 8.849809601227302e-05,
          "min": 8.285464420524834e-05
         },
         {
          "NAAM_N2K": "Biesbosch",
          "OBJECTID": 14,
          "date": "2019-03-30T00:00:00",
          "geometry": null,
          "id": "136_00000000000000000081",
          "max": 7.901100362513348e-05,
          "median": 7.901100362513348e-05,
          "min": 7.901100362513348e-05
         },
         {
          "NAAM_N2K": "Waddenzee",
          "OBJECTID": 201,
          "date": "2019-03-30T00:00:00",
          "geometry": null,
          "id": "136_0000000000000000006b",
          "max": 6.962123338248057e-05,
          "median": 6.962123338248057e-05,
          "min": 6.952634931266092e-05
         },
         {
          "NAAM_N2K": "Rijntakken",
          "OBJECTID": 195,
          "date": "2019-03-30T00:00:00",
          "geometry": null,
          "id": "136_00000000000000000065",
          "max": 8.857245438950403e-05,
          "median": 8.564249024613089e-05,
          "min": 8.116382596580267e-05
         },
         {
          "NAAM_N2K": "Weerribben",
          "OBJECTID": 200,
          "date": "2019-03-30T00:00:00",
          "geometry": null,
          "id": "136_0000000000000000006a",
          "max": 8.19354167777991e-05,
          "median": 8.102863654435755e-05,
          "min": 8.012185631091599e-05
         },
         {
          "NAAM_N2K": "Oosterschelde",
          "OBJECTID": 123,
          "date": "2019-03-30T00:00:00",
          "geometry": null,
          "id": "136_0000000000000000001d",
          "max": 0.00015391317833250736,
          "median": 0.00015391317833250736,
          "min": 9.05112615507491e-05
         },
         {
          "NAAM_N2K": "Veluwe",
          "OBJECTID": 194,
          "date": "2019-04-01T00:00:00",
          "geometry": null,
          "id": "137_00000000000000000064",
          "max": 0.00014044905549147,
          "median": 0.00012473272541308448,
          "min": 0.00012389351028342373
         },
         {
          "NAAM_N2K": "Biesbosch",
          "OBJECTID": 14,
          "date": "2019-04-01T00:00:00",
          "geometry": null,
          "id": "137_00000000000000000081",
          "max": 0.0001470894962843284,
          "median": 0.0001470894962843284,
          "min": 0.0001470894962843284
         },
         {
          "NAAM_N2K": "Waddenzee",
          "OBJECTID": 201,
          "date": "2019-04-01T00:00:00",
          "geometry": null,
          "id": "137_0000000000000000006b",
          "max": 0.00011833446912512695,
          "median": 0.00011833446912512695,
          "min": 0.00011808375758164938
         },
         {
          "NAAM_N2K": "Rijntakken",
          "OBJECTID": 195,
          "date": "2019-04-01T00:00:00",
          "geometry": null,
          "id": "137_00000000000000000065",
          "max": 0.0001413444301734818,
          "median": 0.000129226362721293,
          "min": 0.00012473272541308448
         },
         {
          "NAAM_N2K": "Weerribben",
          "OBJECTID": 200,
          "date": "2019-04-01T00:00:00",
          "geometry": null,
          "id": "137_0000000000000000006a",
          "max": 0.00013936168509330927,
          "median": 0.00013795317250084581,
          "min": 0.00013654465990838233
         },
         {
          "NAAM_N2K": "Oosterschelde",
          "OBJECTID": 123,
          "date": "2019-04-01T00:00:00",
          "geometry": null,
          "id": "137_0000000000000000001d",
          "max": 0.0001420805354320347,
          "median": 0.0001420805354320347,
          "min": 0.0001275848570100945
         },
         {
          "NAAM_N2K": "Veluwe",
          "OBJECTID": 194,
          "date": "2019-04-03T00:00:00",
          "geometry": null,
          "id": "138_00000000000000000064",
          "max": 0.00016431674009519614,
          "median": 0.00012125147077665679,
          "min": 0.00011594846640395587
         },
         {
          "NAAM_N2K": "Rijntakken",
          "OBJECTID": 195,
          "date": "2019-04-03T00:00:00",
          "geometry": null,
          "id": "138_00000000000000000065",
          "max": 0.00012125147077665679,
          "median": 0.00011859996859030633,
          "min": 0.00011594846640395587
         },
         {
          "NAAM_N2K": "Weerribben",
          "OBJECTID": 200,
          "date": "2019-04-03T00:00:00",
          "geometry": null,
          "id": "138_0000000000000000006a",
          "max": 0.00016474305279438718,
          "median": 0.0001480564556988331,
          "min": 0.00013136985860327905
         },
         {
          "NAAM_N2K": "Oosterschelde",
          "OBJECTID": 123,
          "date": "2019-04-03T00:00:00",
          "geometry": null,
          "id": "138_0000000000000000001d",
          "max": 0.00036903251870771636,
          "median": 0.0001953569762666554,
          "min": 0.00017171096744799847
         },
         {
          "NAAM_N2K": "Veluwe",
          "OBJECTID": 194,
          "date": "2019-04-05T00:00:00",
          "geometry": null,
          "id": "139_00000000000000000064",
          "max": 0.00012146001855882863,
          "median": 9.347288541904273e-05,
          "min": 7.827909875842384e-05
         },
         {
          "NAAM_N2K": "Biesbosch",
          "OBJECTID": 14,
          "date": "2019-04-05T00:00:00",
          "geometry": null,
          "id": "139_00000000000000000081",
          "max": 0.00024272939361228652,
          "median": 0.00024272939361228652,
          "min": 0.00024272939361228652
         },
         {
          "NAAM_N2K": "Waddenzee",
          "OBJECTID": 201,
          "date": "2019-04-05T00:00:00",
          "geometry": null,
          "id": "139_0000000000000000006b",
          "max": 8.915694098334846e-05,
          "median": 8.354838552206164e-05,
          "min": 8.354838552206164e-05
         },
         {
          "NAAM_N2K": "Rijntakken",
          "OBJECTID": 195,
          "date": "2019-04-05T00:00:00",
          "geometry": null,
          "id": "139_00000000000000000065",
          "max": 0.00017800982052860434,
          "median": 0.0001126684087492956,
          "min": 7.961994087754269e-05
         },
         {
          "NAAM_N2K": "Weerribben",
          "OBJECTID": 200,
          "date": "2019-04-05T00:00:00",
          "geometry": null,
          "id": "139_0000000000000000006a",
          "max": 7.700435583096561e-05,
          "median": 7.5045537790346e-05,
          "min": 7.308671974972638e-05
         },
         {
          "NAAM_N2K": "Oosterschelde",
          "OBJECTID": 123,
          "date": "2019-04-05T00:00:00",
          "geometry": null,
          "id": "139_0000000000000000001d",
          "max": 0.0002871791514246041,
          "median": 0.00024858774488398965,
          "min": 0.0002361645292812267
         },
         {
          "NAAM_N2K": "Veluwe",
          "OBJECTID": 194,
          "date": "2019-04-07T00:00:00",
          "geometry": null,
          "id": "140_00000000000000000064",
          "max": 0.00011072245877572611,
          "median": 0.00010116743376689639,
          "min": 9.579168147448886e-05
         },
         {
          "NAAM_N2K": "Biesbosch",
          "OBJECTID": 14,
          "date": "2019-04-07T00:00:00",
          "geometry": null,
          "id": "140_00000000000000000081",
          "max": 0.00010550653379910294,
          "median": 0.00010550653379910294,
          "min": 0.00010550653379910294
         },
         {
          "NAAM_N2K": "Waddenzee",
          "OBJECTID": 201,
          "date": "2019-04-07T00:00:00",
          "geometry": null,
          "id": "140_0000000000000000006b",
          "max": 9.143150540755652e-05,
          "median": 8.799934100715977e-05,
          "min": 8.799934100715977e-05
         },
         {
          "NAAM_N2K": "Rijntakken",
          "OBJECTID": 195,
          "date": "2019-04-07T00:00:00",
          "geometry": null,
          "id": "140_00000000000000000065",
          "max": 0.00011896863728757749,
          "median": 0.0001007993507379021,
          "min": 9.600729471742525e-05
         },
         {
          "NAAM_N2K": "Weerribben",
          "OBJECTID": 200,
          "date": "2019-04-07T00:00:00",
          "geometry": null,
          "id": "140_0000000000000000006a",
          "max": 9.198081443065785e-05,
          "median": 9.042471217416965e-05,
          "min": 8.886860991768147e-05
         },
         {
          "NAAM_N2K": "Oosterschelde",
          "OBJECTID": 123,
          "date": "2019-04-07T00:00:00",
          "geometry": null,
          "id": "140_0000000000000000001d",
          "max": 0.00020670602914207417,
          "median": 0.00020110910206273873,
          "min": 0.0001815293985579066
         },
         {
          "NAAM_N2K": "Veluwe",
          "OBJECTID": 194,
          "date": "2019-04-09T00:00:00",
          "geometry": null,
          "id": "141_00000000000000000064",
          "max": 0.00011983658444779738,
          "median": 0.00010797114447513121,
          "min": 0.00010284939549774162
         },
         {
          "NAAM_N2K": "Biesbosch",
          "OBJECTID": 14,
          "date": "2019-04-09T00:00:00",
          "geometry": null,
          "id": "141_00000000000000000081",
          "max": 0.00014374148146041157,
          "median": 0.00014374148146041157,
          "min": 0.00014374148146041157
         },
         {
          "NAAM_N2K": "Waddenzee",
          "OBJECTID": 201,
          "date": "2019-04-09T00:00:00",
          "geometry": null,
          "id": "141_0000000000000000006b",
          "max": 8.760933524401904e-05,
          "median": 8.25912302347411e-05,
          "min": 8.25912302347411e-05
         },
         {
          "NAAM_N2K": "Rijntakken",
          "OBJECTID": 195,
          "date": "2019-04-09T00:00:00",
          "geometry": null,
          "id": "141_00000000000000000065",
          "max": 0.0001346437048659825,
          "median": 0.00011483546895333236,
          "min": 0.00010939021670399501
         },
         {
          "NAAM_N2K": "Weerribben",
          "OBJECTID": 200,
          "date": "2019-04-09T00:00:00",
          "geometry": null,
          "id": "141_0000000000000000006a",
          "max": 0.00010588173427331878,
          "median": 0.00010515432575756563,
          "min": 0.0001044269172418125
         },
         {
          "NAAM_N2K": "Oosterschelde",
          "OBJECTID": 123,
          "date": "2019-04-09T00:00:00",
          "geometry": null,
          "id": "141_0000000000000000001d",
          "max": 0.00018840868920937565,
          "median": 0.00018840868920937565,
          "min": 0.0001758915303507944
         },
         {
          "NAAM_N2K": "Veluwe",
          "OBJECTID": 194,
          "date": "2019-04-11T00:00:00",
          "geometry": null,
          "id": "142_00000000000000000064",
          "max": 0.0001253646166850667,
          "median": 0.00010316716806839301,
          "min": 8.614793528268336e-05
         },
         {
          "NAAM_N2K": "Biesbosch",
          "OBJECTID": 14,
          "date": "2019-04-11T00:00:00",
          "geometry": null,
          "id": "142_00000000000000000081",
          "max": 0.0001175384891688254,
          "median": 0.0001175384891688254,
          "min": 0.0001175384891688254
         },
         {
          "NAAM_N2K": "Waddenzee",
          "OBJECTID": 201,
          "date": "2019-04-11T00:00:00",
          "geometry": null,
          "id": "142_0000000000000000006b",
          "max": 0.00010075068776535377,
          "median": 9.768385738553607e-05,
          "min": 9.768385738553607e-05
         },
         {
          "NAAM_N2K": "Rijntakken",
          "OBJECTID": 195,
          "date": "2019-04-11T00:00:00",
          "geometry": null,
          "id": "142_00000000000000000065",
          "max": 0.0001253646166850667,
          "median": 0.00011394416758257865,
          "min": 8.781684126267338e-05
         },
         {
          "NAAM_N2K": "Weerribben",
          "OBJECTID": 200,
          "date": "2019-04-11T00:00:00",
          "geometry": null,
          "id": "142_0000000000000000006a",
          "max": 8.767109116965045e-05,
          "median": 8.766903973468274e-05,
          "min": 8.766698829971504e-05
         },
         {
          "NAAM_N2K": "Oosterschelde",
          "OBJECTID": 123,
          "date": "2019-04-11T00:00:00",
          "geometry": null,
          "id": "142_0000000000000000001d",
          "max": 0.00019207290060375756,
          "median": 0.00017021682819395726,
          "min": 0.00016031805923266972
         },
         {
          "NAAM_N2K": "Veluwe",
          "OBJECTID": 194,
          "date": "2019-04-13T00:00:00",
          "geometry": null,
          "id": "143_00000000000000000064",
          "max": 0.00010185904202872947,
          "median": 9.339861474456503e-05,
          "min": 8.403664402517429e-05
         },
         {
          "NAAM_N2K": "Biesbosch",
          "OBJECTID": 14,
          "date": "2019-04-13T00:00:00",
          "geometry": null,
          "id": "143_00000000000000000081",
          "max": 9.843956354324134e-05,
          "median": 9.843956354324134e-05,
          "min": 9.843956354324134e-05
         },
         {
          "NAAM_N2K": "Waddenzee",
          "OBJECTID": 201,
          "date": "2019-04-13T00:00:00",
          "geometry": null,
          "id": "143_0000000000000000006b",
          "max": 8.792186973547903e-05,
          "median": 8.792186973547903e-05,
          "min": 8.738835427014913e-05
         },
         {
          "NAAM_N2K": "Rijntakken",
          "OBJECTID": 195,
          "date": "2019-04-13T00:00:00",
          "geometry": null,
          "id": "143_00000000000000000065",
          "max": 0.00010261306517743246,
          "median": 9.339861474456503e-05,
          "min": 8.403664402517429e-05
         },
         {
          "NAAM_N2K": "Weerribben",
          "OBJECTID": 200,
          "date": "2019-04-13T00:00:00",
          "geometry": null,
          "id": "143_0000000000000000006a",
          "max": 9.319205341245175e-05,
          "median": 9.18591855021981e-05,
          "min": 9.052631759194446e-05
         },
         {
          "NAAM_N2K": "Oosterschelde",
          "OBJECTID": 123,
          "date": "2019-04-13T00:00:00",
          "geometry": null,
          "id": "143_0000000000000000001d",
          "max": 0.0001584988935101505,
          "median": 0.00012717501183151565,
          "min": 0.00010020364723751646
         },
         {
          "NAAM_N2K": "Veluwe",
          "OBJECTID": 194,
          "date": "2019-04-15T00:00:00",
          "geometry": null,
          "id": "144_00000000000000000064",
          "max": 0.00024018629306284876,
          "median": 0.0001515933633453785,
          "min": 0.0001231237786599626
         },
         {
          "NAAM_N2K": "Biesbosch",
          "OBJECTID": 14,
          "date": "2019-04-15T00:00:00",
          "geometry": null,
          "id": "144_00000000000000000081",
          "max": 0.00031348470425355575,
          "median": 0.00031348470425355575,
          "min": 0.00031348470425355575
         },
         {
          "NAAM_N2K": "Waddenzee",
          "OBJECTID": 201,
          "date": "2019-04-15T00:00:00",
          "geometry": null,
          "id": "144_0000000000000000006b",
          "max": 0.0001270425738697125,
          "median": 0.00012238144857755316,
          "min": 0.00012238144857755316
         },
         {
          "NAAM_N2K": "Rijntakken",
          "OBJECTID": 195,
          "date": "2019-04-15T00:00:00",
          "geometry": null,
          "id": "144_00000000000000000065",
          "max": 0.00026303918307647023,
          "median": 0.00021316987695778884,
          "min": 0.0001269790277549498
         },
         {
          "NAAM_N2K": "Weerribben",
          "OBJECTID": 200,
          "date": "2019-04-15T00:00:00",
          "geometry": null,
          "id": "144_0000000000000000006a",
          "max": 0.00011997857163984511,
          "median": 0.0001195361455601564,
          "min": 0.00011909371948046771
         },
         {
          "NAAM_N2K": "Oosterschelde",
          "OBJECTID": 123,
          "date": "2019-04-15T00:00:00",
          "geometry": null,
          "id": "144_0000000000000000001d",
          "max": 0.0004280490081228709,
          "median": 0.0004280490081228709,
          "min": 0.0003928511352886674
         },
         {
          "NAAM_N2K": "Veluwe",
          "OBJECTID": 194,
          "date": "2019-04-17T00:00:00",
          "geometry": null,
          "id": "145_00000000000000000064",
          "max": 0.00015766363168643233,
          "median": 0.00014335979897635358,
          "min": 0.00013154050180934752
         },
         {
          "NAAM_N2K": "Biesbosch",
          "OBJECTID": 14,
          "date": "2019-04-17T00:00:00",
          "geometry": null,
          "id": "145_00000000000000000081",
          "max": 0.00017077809155737416,
          "median": 0.00017077809155737416,
          "min": 0.00017077809155737416
         },
         {
          "NAAM_N2K": "Waddenzee",
          "OBJECTID": 201,
          "date": "2019-04-17T00:00:00",
          "geometry": null,
          "id": "145_0000000000000000006b",
          "max": 0.0001326603783014967,
          "median": 0.00012966605571539125,
          "min": 0.00012966605571539125
         },
         {
          "NAAM_N2K": "Rijntakken",
          "OBJECTID": 195,
          "date": "2019-04-17T00:00:00",
          "geometry": null,
          "id": "145_00000000000000000065",
          "max": 0.0001589238842071385,
          "median": 0.00014511748958093412,
          "min": 0.00013889055018318934
         },
         {
          "NAAM_N2K": "Weerribben",
          "OBJECTID": 200,
          "date": "2019-04-17T00:00:00",
          "geometry": null,
          "id": "145_0000000000000000006a",
          "max": 0.0001603026200646316,
          "median": 0.00014577389221323548,
          "min": 0.00013124516436183935
         },
         {
          "NAAM_N2K": "Oosterschelde",
          "OBJECTID": 123,
          "date": "2019-04-17T00:00:00",
          "geometry": null,
          "id": "145_0000000000000000001d",
          "max": 0.0002357926040395838,
          "median": 0.00019747067628450847,
          "min": 0.0001903565753706735
         },
         {
          "NAAM_N2K": "Veluwe",
          "OBJECTID": 194,
          "date": "2019-04-19T00:00:00",
          "geometry": null,
          "id": "146_00000000000000000064",
          "max": 0.00012731398367799463,
          "median": 0.00012166555113889183,
          "min": 0.00011013535902092096
         },
         {
          "NAAM_N2K": "Biesbosch",
          "OBJECTID": 14,
          "date": "2019-04-19T00:00:00",
          "geometry": null,
          "id": "146_00000000000000000081",
          "max": 0.00014941455786026292,
          "median": 0.00014941455786026292,
          "min": 0.00014941455786026292
         },
         {
          "NAAM_N2K": "Waddenzee",
          "OBJECTID": 201,
          "date": "2019-04-19T00:00:00",
          "geometry": null,
          "id": "146_0000000000000000006b",
          "max": 0.00010385682944735382,
          "median": 0.00010385682944735382,
          "min": 0.00010327306150857196
         },
         {
          "NAAM_N2K": "Rijntakken",
          "OBJECTID": 195,
          "date": "2019-04-19T00:00:00",
          "geometry": null,
          "id": "146_00000000000000000065",
          "max": 0.00015133608114447213,
          "median": 0.00012680600541000955,
          "min": 0.00011770790273076236
         },
         {
          "NAAM_N2K": "Weerribben",
          "OBJECTID": 200,
          "date": "2019-04-19T00:00:00",
          "geometry": null,
          "id": "146_0000000000000000006a",
          "max": 0.00011065444429385209,
          "median": 0.00010936991209282968,
          "min": 0.00010808537989180725
         },
         {
          "NAAM_N2K": "Oosterschelde",
          "OBJECTID": 123,
          "date": "2019-04-19T00:00:00",
          "geometry": null,
          "id": "146_0000000000000000001d",
          "max": 0.00022034299156489524,
          "median": 0.00016710927022043734,
          "min": 0.00016710927022043734
         },
         {
          "NAAM_N2K": "Veluwe",
          "OBJECTID": 194,
          "date": "2019-04-21T00:00:00",
          "geometry": null,
          "id": "147_00000000000000000064",
          "max": 0.00010648112146753496,
          "median": 9.441681014320003e-05,
          "min": 8.995329970349489e-05
         },
         {
          "NAAM_N2K": "Biesbosch",
          "OBJECTID": 14,
          "date": "2019-04-21T00:00:00",
          "geometry": null,
          "id": "147_00000000000000000081",
          "max": 0.00011642265024889927,
          "median": 0.00011642265024889927,
          "min": 0.00011642265024889927
         },
         {
          "NAAM_N2K": "Waddenzee",
          "OBJECTID": 201,
          "date": "2019-04-21T00:00:00",
          "geometry": null,
          "id": "147_0000000000000000006b",
          "max": 8.936823209497802e-05,
          "median": 8.936823209497802e-05,
          "min": 8.449901461774035e-05
         },
         {
          "NAAM_N2K": "Rijntakken",
          "OBJECTID": 195,
          "date": "2019-04-21T00:00:00",
          "geometry": null,
          "id": "147_00000000000000000065",
          "max": 0.00012479300090552478,
          "median": 0.00010326902487250663,
          "min": 8.995329970349489e-05
         },
         {
          "NAAM_N2K": "Weerribben",
          "OBJECTID": 200,
          "date": "2019-04-21T00:00:00",
          "geometry": null,
          "id": "147_0000000000000000006a",
          "max": 8.856062184076698e-05,
          "median": 8.729081041187626e-05,
          "min": 8.602099898298553e-05
         },
         {
          "NAAM_N2K": "Oosterschelde",
          "OBJECTID": 123,
          "date": "2019-04-21T00:00:00",
          "geometry": null,
          "id": "147_0000000000000000001d",
          "max": 0.00015164046815469392,
          "median": 0.00012421399956600028,
          "min": 0.00012421399956600028
         },
         {
          "NAAM_N2K": "Veluwe",
          "OBJECTID": 194,
          "date": "2019-04-23T00:00:00",
          "geometry": null,
          "id": "148_00000000000000000064",
          "max": 0.00011857596223985936,
          "median": 0.00011744359297778518,
          "min": 0.0001030423036608463
         },
         {
          "NAAM_N2K": "Biesbosch",
          "OBJECTID": 14,
          "date": "2019-04-23T00:00:00",
          "geometry": null,
          "id": "148_00000000000000000081",
          "max": 0.00011672546548736123,
          "median": 0.00011672546548736123,
          "min": 0.00011672546548736123
         },
         {
          "NAAM_N2K": "Waddenzee",
          "OBJECTID": 201,
          "date": "2019-04-23T00:00:00",
          "geometry": null,
          "id": "148_0000000000000000006b",
          "max": 9.822127292673345e-05,
          "median": 9.822127292673345e-05,
          "min": 9.05037830248029e-05
         },
         {
          "NAAM_N2K": "Rijntakken",
          "OBJECTID": 195,
          "date": "2019-04-23T00:00:00",
          "geometry": null,
          "id": "148_00000000000000000065",
          "max": 0.00011857596223985936,
          "median": 0.00010832694049236631,
          "min": 0.0001030423036608463
         },
         {
          "NAAM_N2K": "Weerribben",
          "OBJECTID": 200,
          "date": "2019-04-23T00:00:00",
          "geometry": null,
          "id": "148_0000000000000000006a",
          "max": 0.00010886059572071241,
          "median": 0.0001071677050765337,
          "min": 0.00010547481443235498
         },
         {
          "NAAM_N2K": "Oosterschelde",
          "OBJECTID": 123,
          "date": "2019-04-23T00:00:00",
          "geometry": null,
          "id": "148_0000000000000000001d",
          "max": 0.00016512642834260008,
          "median": 0.00016512642834260008,
          "min": 0.00012435847322245932
         },
         {
          "NAAM_N2K": "Veluwe",
          "OBJECTID": 194,
          "date": "2019-04-25T00:00:00",
          "geometry": null,
          "id": "149_00000000000000000064",
          "max": 0.00016866487225857235,
          "median": 0.0001358484320478473,
          "min": 0.00012513746024588588
         },
         {
          "NAAM_N2K": "Biesbosch",
          "OBJECTID": 14,
          "date": "2019-04-25T00:00:00",
          "geometry": null,
          "id": "149_00000000000000000081",
          "max": 0.00013070994351081273,
          "median": 0.00013070994351081273,
          "min": 0.00013070994351081273
         },
         {
          "NAAM_N2K": "Waddenzee",
          "OBJECTID": 201,
          "date": "2019-04-25T00:00:00",
          "geometry": null,
          "id": "149_0000000000000000006b",
          "max": 0.000146926189845329,
          "median": 0.0001400239783169102,
          "min": 0.0001400239783169102
         },
         {
          "NAAM_N2K": "Rijntakken",
          "OBJECTID": 195,
          "date": "2019-04-25T00:00:00",
          "geometry": null,
          "id": "149_00000000000000000065",
          "max": 0.00015972533921029946,
          "median": 0.00013667069603856216,
          "min": 0.00012449730793406136
         },
         {
          "NAAM_N2K": "Weerribben",
          "OBJECTID": 200,
          "date": "2019-04-25T00:00:00",
          "geometry": null,
          "id": "149_0000000000000000006a",
          "max": 0.00017502433036757973,
          "median": 0.00017139125086476067,
          "min": 0.00016775817136194162
         },
         {
          "NAAM_N2K": "Oosterschelde",
          "OBJECTID": 123,
          "date": "2019-04-25T00:00:00",
          "geometry": null,
          "id": "149_0000000000000000001d",
          "max": 0.00012508623847462454,
          "median": 0.00011352122875920334,
          "min": 0.00011230179124047343
         },
         {
          "NAAM_N2K": "Veluwe",
          "OBJECTID": 194,
          "date": "2019-04-27T00:00:00",
          "geometry": null,
          "id": "150_00000000000000000064",
          "max": 0.0001259294914548307,
          "median": 0.00010627269153794215,
          "min": 9.965967769312207e-05
         },
         {
          "NAAM_N2K": "Biesbosch",
          "OBJECTID": 14,
          "date": "2019-04-27T00:00:00",
          "geometry": null,
          "id": "150_00000000000000000081",
          "max": 0.00010070247805513325,
          "median": 0.00010070247805513325,
          "min": 0.00010070247805513325
         },
         {
          "NAAM_N2K": "Waddenzee",
          "OBJECTID": 201,
          "date": "2019-04-27T00:00:00",
          "geometry": null,
          "id": "150_0000000000000000006b",
          "max": 0.00015038996695954364,
          "median": 0.00015038996695954364,
          "min": 0.00015003891114576004
         },
         {
          "NAAM_N2K": "Rijntakken",
          "OBJECTID": 195,
          "date": "2019-04-27T00:00:00",
          "geometry": null,
          "id": "150_00000000000000000065",
          "max": 0.0001194681304160405,
          "median": 0.00010629141907165172,
          "min": 9.755305039570343e-05
         },
         {
          "NAAM_N2K": "Weerribben",
          "OBJECTID": 200,
          "date": "2019-04-27T00:00:00",
          "geometry": null,
          "id": "150_0000000000000000006a",
          "max": 0.00012147334347162544,
          "median": 0.00011948171202708316,
          "min": 0.00011749008058254087
         },
         {
          "NAAM_N2K": "Oosterschelde",
          "OBJECTID": 123,
          "date": "2019-04-27T00:00:00",
          "geometry": null,
          "id": "150_0000000000000000001d",
          "max": 0.00010593069600470481,
          "median": 8.690982574644277e-05,
          "min": 8.487321771424732e-05
         },
         {
          "NAAM_N2K": "Veluwe",
          "OBJECTID": 194,
          "date": "2019-04-29T00:00:00",
          "geometry": null,
          "id": "151_00000000000000000064",
          "max": 0.00010141994632743143,
          "median": 8.747711045189008e-05,
          "min": 7.769001507746479e-05
         },
         {
          "NAAM_N2K": "Biesbosch",
          "OBJECTID": 14,
          "date": "2019-04-29T00:00:00",
          "geometry": null,
          "id": "151_00000000000000000081",
          "max": 0.0001077262762260688,
          "median": 0.0001077262762260688,
          "min": 0.0001077262762260688
         },
         {
          "NAAM_N2K": "Waddenzee",
          "OBJECTID": 201,
          "date": "2019-04-29T00:00:00",
          "geometry": null,
          "id": "151_0000000000000000006b",
          "max": 7.912335101152695e-05,
          "median": 7.01052183022243e-05,
          "min": 7.01052183022243e-05
         },
         {
          "NAAM_N2K": "Rijntakken",
          "OBJECTID": 195,
          "date": "2019-04-29T00:00:00",
          "geometry": null,
          "id": "151_00000000000000000065",
          "max": 0.0001067145509465461,
          "median": 9.237763648654924e-05,
          "min": 7.807574257260174e-05
         },
         {
          "NAAM_N2K": "Weerribben",
          "OBJECTID": 200,
          "date": "2019-04-29T00:00:00",
          "geometry": null,
          "id": "151_0000000000000000006a",
          "max": 8.484673189949153e-05,
          "median": 8.214018382266897e-05,
          "min": 7.943363574584643e-05
         },
         {
          "NAAM_N2K": "Oosterschelde",
          "OBJECTID": 123,
          "date": "2019-04-29T00:00:00",
          "geometry": null,
          "id": "151_0000000000000000001d",
          "max": 0.00021849737172159803,
          "median": 0.00017787909840025115,
          "min": 0.00016143291691119192
         },
         {
          "NAAM_N2K": "Veluwe",
          "OBJECTID": 194,
          "date": "2019-05-01T00:00:00",
          "geometry": null,
          "id": "152_00000000000000000064",
          "max": 0.00015628302847272226,
          "median": 0.00015591154174487227,
          "min": 9.582898052667279e-05
         },
         {
          "NAAM_N2K": "Biesbosch",
          "OBJECTID": 14,
          "date": "2019-05-01T00:00:00",
          "geometry": null,
          "id": "152_00000000000000000081",
          "max": 0.00016672212354979085,
          "median": 0.00016672212354979085,
          "min": 0.00016672212354979085
         },
         {
          "NAAM_N2K": "Waddenzee",
          "OBJECTID": 201,
          "date": "2019-05-01T00:00:00",
          "geometry": null,
          "id": "152_0000000000000000006b",
          "max": 7.528254829847577e-05,
          "median": 7.528254829847577e-05,
          "min": 7.368658559886562e-05
         },
         {
          "NAAM_N2K": "Rijntakken",
          "OBJECTID": 195,
          "date": "2019-05-01T00:00:00",
          "geometry": null,
          "id": "152_00000000000000000065",
          "max": 0.00015628302847272226,
          "median": 0.000131773320344158,
          "min": 9.837709258853422e-05
         },
         {
          "NAAM_N2K": "Weerribben",
          "OBJECTID": 200,
          "date": "2019-05-01T00:00:00",
          "geometry": null,
          "id": "152_0000000000000000006a",
          "max": 9.254050012266072e-05,
          "median": 9.060983080262923e-05,
          "min": 8.867916148259773e-05
         },
         {
          "NAAM_N2K": "Oosterschelde",
          "OBJECTID": 123,
          "date": "2019-05-01T00:00:00",
          "geometry": null,
          "id": "152_0000000000000000001d",
          "max": 0.00013962043477844233,
          "median": 8.992535626395814e-05,
          "min": 8.992535626395814e-05
         },
         {
          "NAAM_N2K": "Veluwe",
          "OBJECTID": 194,
          "date": "2019-05-03T00:00:00",
          "geometry": null,
          "id": "153_00000000000000000064",
          "max": 0.00011351428406304915,
          "median": 9.613173053110216e-05,
          "min": 9.290800890186877e-05
         },
         {
          "NAAM_N2K": "Biesbosch",
          "OBJECTID": 14,
          "date": "2019-05-03T00:00:00",
          "geometry": null,
          "id": "153_00000000000000000081",
          "max": 0.00011035698309211207,
          "median": 0.00011035698309211207,
          "min": 0.00011035698309211207
         },
         {
          "NAAM_N2K": "Waddenzee",
          "OBJECTID": 201,
          "date": "2019-05-03T00:00:00",
          "geometry": null,
          "id": "153_0000000000000000006b",
          "max": 8.658504408723278e-05,
          "median": 8.242247712478688e-05,
          "min": 8.242247712478688e-05
         },
         {
          "NAAM_N2K": "Rijntakken",
          "OBJECTID": 195,
          "date": "2019-05-03T00:00:00",
          "geometry": null,
          "id": "153_00000000000000000065",
          "max": 0.00011351428406304915,
          "median": 0.00010933130031344073,
          "min": 9.290800890186877e-05
         },
         {
          "NAAM_N2K": "Weerribben",
          "OBJECTID": 200,
          "date": "2019-05-03T00:00:00",
          "geometry": null,
          "id": "153_0000000000000000006a",
          "max": 9.858247199838727e-05,
          "median": 9.666928164785637e-05,
          "min": 9.475609129732548e-05
         },
         {
          "NAAM_N2K": "Oosterschelde",
          "OBJECTID": 123,
          "date": "2019-05-03T00:00:00",
          "geometry": null,
          "id": "153_0000000000000000001d",
          "max": 0.00011549010740525112,
          "median": 0.00010829950103353946,
          "min": 0.00010154833486947117
         },
         {
          "NAAM_N2K": "Veluwe",
          "OBJECTID": 194,
          "date": "2019-05-05T00:00:00",
          "geometry": null,
          "id": "154_00000000000000000064",
          "max": 0.00021729406965074506,
          "median": 0.00015586891653209594,
          "min": 0.00010038368702959439
         },
         {
          "NAAM_N2K": "Biesbosch",
          "OBJECTID": 14,
          "date": "2019-05-05T00:00:00",
          "geometry": null,
          "id": "154_00000000000000000081",
          "max": 0.00011815258065294817,
          "median": 0.00011815258065294817,
          "min": 0.00011815258065294817
         },
         {
          "NAAM_N2K": "Waddenzee",
          "OBJECTID": 201,
          "date": "2019-05-05T00:00:00",
          "geometry": null,
          "id": "154_0000000000000000006b",
          "max": 9.909857664667028e-05,
          "median": 9.909857664667028e-05,
          "min": 9.209708859569142e-05
         },
         {
          "NAAM_N2K": "Rijntakken",
          "OBJECTID": 195,
          "date": "2019-05-05T00:00:00",
          "geometry": null,
          "id": "154_00000000000000000065",
          "max": 0.00014714408443297454,
          "median": 0.0001373748482522986,
          "min": 0.00010038368702959439
         },
         {
          "NAAM_N2K": "Weerribben",
          "OBJECTID": 200,
          "date": "2019-05-05T00:00:00",
          "geometry": null,
          "id": "154_0000000000000000006a",
          "max": 0.0001029572612514116,
          "median": 0.00010108397044480138,
          "min": 9.921067963819115e-05
         },
         {
          "NAAM_N2K": "Oosterschelde",
          "OBJECTID": 123,
          "date": "2019-05-05T00:00:00",
          "geometry": null,
          "id": "154_0000000000000000001d",
          "max": 0.00015933818313966844,
          "median": 9.745063589582253e-05,
          "min": 9.745063589582253e-05
         },
         {
          "NAAM_N2K": "Veluwe",
          "OBJECTID": 194,
          "date": "2019-05-07T00:00:00",
          "geometry": null,
          "id": "155_00000000000000000064",
          "max": 0.0001840341737458715,
          "median": 0.00017617134597520864,
          "min": 0.0001550867458624892
         },
         {
          "NAAM_N2K": "Biesbosch",
          "OBJECTID": 14,
          "date": "2019-05-07T00:00:00",
          "geometry": null,
          "id": "155_00000000000000000081",
          "max": 0.00015681867434169975,
          "median": 0.00015681867434169975,
          "min": 0.00015681867434169975
         },
         {
          "NAAM_N2K": "Waddenzee",
          "OBJECTID": 201,
          "date": "2019-05-07T00:00:00",
          "geometry": null,
          "id": "155_0000000000000000006b",
          "max": 0.00013677320469827366,
          "median": 0.00013677320469827366,
          "min": 0.0001318896555820872
         },
         {
          "NAAM_N2K": "Rijntakken",
          "OBJECTID": 195,
          "date": "2019-05-07T00:00:00",
          "geometry": null,
          "id": "155_00000000000000000065",
          "max": 0.00016096744739804608,
          "median": 0.00015744634944443167,
          "min": 0.00013961594248529044
         },
         {
          "NAAM_N2K": "Weerribben",
          "OBJECTID": 200,
          "date": "2019-05-07T00:00:00",
          "geometry": null,
          "id": "155_0000000000000000006a",
          "max": 0.0001751020910708651,
          "median": 0.00016621650548524175,
          "min": 0.0001573309198996184
         },
         {
          "NAAM_N2K": "Oosterschelde",
          "OBJECTID": 123,
          "date": "2019-05-07T00:00:00",
          "geometry": null,
          "id": "155_0000000000000000001d",
          "max": 0.00018817416959939067,
          "median": 0.00018367386232302164,
          "min": 0.00015000699369272224
         },
         {
          "NAAM_N2K": "Veluwe",
          "OBJECTID": 194,
          "date": "2019-05-09T00:00:00",
          "geometry": null,
          "id": "156_00000000000000000064",
          "max": 0.00011833545208918365,
          "median": 0.00010090472875548595,
          "min": 9.311984043133757e-05
         },
         {
          "NAAM_N2K": "Biesbosch",
          "OBJECTID": 14,
          "date": "2019-05-09T00:00:00",
          "geometry": null,
          "id": "156_00000000000000000081",
          "max": 0.0001295683521224932,
          "median": 0.0001295683521224932,
          "min": 0.0001295683521224932
         },
         {
          "NAAM_N2K": "Waddenzee",
          "OBJECTID": 201,
          "date": "2019-05-09T00:00:00",
          "geometry": null,
          "id": "156_0000000000000000006b",
          "max": 8.865438476746821e-05,
          "median": 8.850981910508626e-05,
          "min": 8.850981910508626e-05
         },
         {
          "NAAM_N2K": "Rijntakken",
          "OBJECTID": 195,
          "date": "2019-05-09T00:00:00",
          "geometry": null,
          "id": "156_00000000000000000065",
          "max": 0.0001249159833174662,
          "median": 0.00010896121630262493,
          "min": 9.311984043133757e-05
         },
         {
          "NAAM_N2K": "Weerribben",
          "OBJECTID": 200,
          "date": "2019-05-09T00:00:00",
          "geometry": null,
          "id": "156_0000000000000000006a",
          "max": 9.435362167941518e-05,
          "median": 9.384812168072904e-05,
          "min": 9.33426216820429e-05
         },
         {
          "NAAM_N2K": "Oosterschelde",
          "OBJECTID": 123,
          "date": "2019-05-09T00:00:00",
          "geometry": null,
          "id": "156_0000000000000000001d",
          "max": 0.00014082691083355177,
          "median": 0.00010478945250234449,
          "min": 0.00010478945250234449
         },
         {
          "NAAM_N2K": "Veluwe",
          "OBJECTID": 194,
          "date": "2019-05-11T00:00:00",
          "geometry": null,
          "id": "157_00000000000000000064",
          "max": 0.00010470074598348798,
          "median": 9.497131581938888e-05,
          "min": 8.98520546661147e-05
         },
         {
          "NAAM_N2K": "Biesbosch",
          "OBJECTID": 14,
          "date": "2019-05-11T00:00:00",
          "geometry": null,
          "id": "157_00000000000000000081",
          "max": 0.00010905143520344335,
          "median": 0.00010905143520344335,
          "min": 0.00010905143520344335
         },
         {
          "NAAM_N2K": "Waddenzee",
          "OBJECTID": 201,
          "date": "2019-05-11T00:00:00",
          "geometry": null,
          "id": "157_0000000000000000006b",
          "max": 8.45779713962758e-05,
          "median": 8.315620920587639e-05,
          "min": 8.315620920587639e-05
         },
         {
          "NAAM_N2K": "Rijntakken",
          "OBJECTID": 195,
          "date": "2019-05-11T00:00:00",
          "geometry": null,
          "id": "157_00000000000000000065",
          "max": 0.00010254995357695633,
          "median": 9.601249891217888e-05,
          "min": 8.980652258002916e-05
         },
         {
          "NAAM_N2K": "Weerribben",
          "OBJECTID": 200,
          "date": "2019-05-11T00:00:00",
          "geometry": null,
          "id": "157_0000000000000000006a",
          "max": 8.930999160924791e-05,
          "median": 8.842711547424621e-05,
          "min": 8.75442393392445e-05
         },
         {
          "NAAM_N2K": "Oosterschelde",
          "OBJECTID": 123,
          "date": "2019-05-11T00:00:00",
          "geometry": null,
          "id": "157_0000000000000000001d",
          "max": 0.00012931080859081715,
          "median": 0.00010930949384231241,
          "min": 9.60722896504847e-05
         },
         {
          "NAAM_N2K": "Veluwe",
          "OBJECTID": 194,
          "date": "2019-05-13T00:00:00",
          "geometry": null,
          "id": "158_00000000000000000064",
          "max": 0.00013365700143746985,
          "median": 0.00011671905954000551,
          "min": 0.00010475475383317617
         },
         {
          "NAAM_N2K": "Biesbosch",
          "OBJECTID": 14,
          "date": "2019-05-13T00:00:00",
          "geometry": null,
          "id": "158_00000000000000000081",
          "max": 0.00014315206561515655,
          "median": 0.00014315206561515655,
          "min": 0.00014315206561515655
         },
         {
          "NAAM_N2K": "Waddenzee",
          "OBJECTID": 201,
          "date": "2019-05-13T00:00:00",
          "geometry": null,
          "id": "158_0000000000000000006b",
          "max": 0.00010264730231594345,
          "median": 0.00010050023696568475,
          "min": 0.00010050023696568475
         },
         {
          "NAAM_N2K": "Rijntakken",
          "OBJECTID": 195,
          "date": "2019-05-13T00:00:00",
          "geometry": null,
          "id": "158_00000000000000000065",
          "max": 0.00014234070145757182,
          "median": 0.0001229640761764443,
          "min": 0.00011250511887296916
         },
         {
          "NAAM_N2K": "Weerribben",
          "OBJECTID": 200,
          "date": "2019-05-13T00:00:00",
          "geometry": null,
          "id": "158_0000000000000000006a",
          "max": 9.536172632634783e-05,
          "median": 9.446635960208459e-05,
          "min": 9.357099287782134e-05
         },
         {
          "NAAM_N2K": "Oosterschelde",
          "OBJECTID": 123,
          "date": "2019-05-13T00:00:00",
          "geometry": null,
          "id": "158_0000000000000000001d",
          "max": 0.0002132149596846046,
          "median": 0.00021307055963976483,
          "min": 0.0001668098050054073
         },
         {
          "NAAM_N2K": "Veluwe",
          "OBJECTID": 194,
          "date": "2019-05-15T00:00:00",
          "geometry": null,
          "id": "159_00000000000000000064",
          "max": 0.00012000480476642697,
          "median": 0.00011438207588141876,
          "min": 0.00010340065701104533
         },
         {
          "NAAM_N2K": "Biesbosch",
          "OBJECTID": 14,
          "date": "2019-05-15T00:00:00",
          "geometry": null,
          "id": "159_00000000000000000081",
          "max": 0.00014473385336495517,
          "median": 0.00014473385336495517,
          "min": 0.00014473385336495517
         },
         {
          "NAAM_N2K": "Waddenzee",
          "OBJECTID": 201,
          "date": "2019-05-15T00:00:00",
          "geometry": null,
          "id": "159_0000000000000000006b",
          "max": 0.00010404270691997215,
          "median": 9.741126511762194e-05,
          "min": 9.741126511762194e-05
         },
         {
          "NAAM_N2K": "Rijntakken",
          "OBJECTID": 195,
          "date": "2019-05-15T00:00:00",
          "geometry": null,
          "id": "159_00000000000000000065",
          "max": 0.00012892156743712262,
          "median": 0.00011242427654663565,
          "min": 0.00010340065701104533
         },
         {
          "NAAM_N2K": "Weerribben",
          "OBJECTID": 200,
          "date": "2019-05-15T00:00:00",
          "geometry": null,
          "id": "159_0000000000000000006a",
          "max": 0.00010330516605402668,
          "median": 0.00010182668660419175,
          "min": 0.00010034820715435684
         },
         {
          "NAAM_N2K": "Oosterschelde",
          "OBJECTID": 123,
          "date": "2019-05-15T00:00:00",
          "geometry": null,
          "id": "159_0000000000000000001d",
          "max": 0.00027065406268459016,
          "median": 0.0002081497278282866,
          "min": 0.00017726580732385755
         },
         {
          "NAAM_N2K": "Veluwe",
          "OBJECTID": 194,
          "date": "2019-05-17T00:00:00",
          "geometry": null,
          "id": "160_00000000000000000064",
          "max": 0.0001663334522378459,
          "median": 0.00011781989225298946,
          "min": 0.00010686007363255917
         },
         {
          "NAAM_N2K": "Biesbosch",
          "OBJECTID": 14,
          "date": "2019-05-17T00:00:00",
          "geometry": null,
          "id": "160_00000000000000000081",
          "max": 0.00014582204406353896,
          "median": 0.00014582204406353896,
          "min": 0.00014582204406353896
         },
         {
          "NAAM_N2K": "Waddenzee",
          "OBJECTID": 201,
          "date": "2019-05-17T00:00:00",
          "geometry": null,
          "id": "160_0000000000000000006b",
          "max": 0.00012992975012033164,
          "median": 0.00012992975012033164,
          "min": 0.00012269687873820025
         },
         {
          "NAAM_N2K": "Rijntakken",
          "OBJECTID": 195,
          "date": "2019-05-17T00:00:00",
          "geometry": null,
          "id": "160_00000000000000000065",
          "max": 0.00014258018735630783,
          "median": 0.0001326524141929768,
          "min": 0.00010686007363255917
         },
         {
          "NAAM_N2K": "Weerribben",
          "OBJECTID": 200,
          "date": "2019-05-17T00:00:00",
          "geometry": null,
          "id": "160_0000000000000000006a",
          "max": 0.00011426374226696175,
          "median": 0.00011202335348533686,
          "min": 0.00010978296470371197
         },
         {
          "NAAM_N2K": "Oosterschelde",
          "OBJECTID": 123,
          "date": "2019-05-17T00:00:00",
          "geometry": null,
          "id": "160_0000000000000000001d",
          "max": 0.0002469579182316031,
          "median": 0.000212185471156193,
          "min": 0.00015456635578957111
         },
         {
          "NAAM_N2K": "Veluwe",
          "OBJECTID": 194,
          "date": "2019-05-19T00:00:00",
          "geometry": null,
          "id": "161_00000000000000000064",
          "max": 0.00011168312601412589,
          "median": 0.0001021223052060822,
          "min": 9.547270982528371e-05
         },
         {
          "NAAM_N2K": "Biesbosch",
          "OBJECTID": 14,
          "date": "2019-05-19T00:00:00",
          "geometry": null,
          "id": "161_00000000000000000081",
          "max": 0.00010713175513236468,
          "median": 0.00010713175513236468,
          "min": 0.00010713175513236468
         },
         {
          "NAAM_N2K": "Waddenzee",
          "OBJECTID": 201,
          "date": "2019-05-19T00:00:00",
          "geometry": null,
          "id": "161_0000000000000000006b",
          "max": 0.00010046160122358634,
          "median": 9.527295024602652e-05,
          "min": 9.527295024602652e-05
         },
         {
          "NAAM_N2K": "Rijntakken",
          "OBJECTID": 195,
          "date": "2019-05-19T00:00:00",
          "geometry": null,
          "id": "161_00000000000000000065",
          "max": 0.00011688322445616779,
          "median": 0.0001063248464426643,
          "min": 9.547270982528371e-05
         },
         {
          "NAAM_N2K": "Weerribben",
          "OBJECTID": 200,
          "date": "2019-05-19T00:00:00",
          "geometry": null,
          "id": "161_0000000000000000006a",
          "max": 0.00010815251465628743,
          "median": 0.00010370025752820456,
          "min": 9.924800040012169e-05
         },
         {
          "NAAM_N2K": "Oosterschelde",
          "OBJECTID": 123,
          "date": "2019-05-19T00:00:00",
          "geometry": null,
          "id": "161_0000000000000000001d",
          "max": 0.00012010477056417342,
          "median": 9.121217793699427e-05,
          "min": 8.319523193659495e-05
         },
         {
          "NAAM_N2K": "Veluwe",
          "OBJECTID": 194,
          "date": "2019-05-21T00:00:00",
          "geometry": null,
          "id": "162_00000000000000000064",
          "max": 0.00011836601504336419,
          "median": 9.525614062494142e-05,
          "min": 8.594586416162167e-05
         },
         {
          "NAAM_N2K": "Biesbosch",
          "OBJECTID": 14,
          "date": "2019-05-21T00:00:00",
          "geometry": null,
          "id": "162_00000000000000000081",
          "max": 0.00011353582616534472,
          "median": 0.00011353582616534472,
          "min": 0.00011353582616534472
         },
         {
          "NAAM_N2K": "Waddenzee",
          "OBJECTID": 201,
          "date": "2019-05-21T00:00:00",
          "geometry": null,
          "id": "162_0000000000000000006b",
          "max": 9.182016844102306e-05,
          "median": 9.182016844102306e-05,
          "min": 8.914882535369536e-05
         },
         {
          "NAAM_N2K": "Rijntakken",
          "OBJECTID": 195,
          "date": "2019-05-21T00:00:00",
          "geometry": null,
          "id": "162_00000000000000000065",
          "max": 0.00013142501741028232,
          "median": 0.00010056891066163675,
          "min": 8.594586416162167e-05
         },
         {
          "NAAM_N2K": "Weerribben",
          "OBJECTID": 200,
          "date": "2019-05-21T00:00:00",
          "geometry": null,
          "id": "162_0000000000000000006a",
          "max": 8.774580203222578e-05,
          "median": 8.378646829886094e-05,
          "min": 7.98271345654961e-05
         },
         {
          "NAAM_N2K": "Oosterschelde",
          "OBJECTID": 123,
          "date": "2019-05-21T00:00:00",
          "geometry": null,
          "id": "162_0000000000000000001d",
          "max": 0.00014935686786188426,
          "median": 0.00010241674173020656,
          "min": 8.820127485955128e-05
         },
         {
          "NAAM_N2K": "Veluwe",
          "OBJECTID": 194,
          "date": "2019-05-23T00:00:00",
          "geometry": null,
          "id": "163_00000000000000000064",
          "max": 0.00019770378290620842,
          "median": 0.0001665899279828473,
          "min": 0.00011956710874687023
         },
         {
          "NAAM_N2K": "Biesbosch",
          "OBJECTID": 14,
          "date": "2019-05-23T00:00:00",
          "geometry": null,
          "id": "163_00000000000000000081",
          "max": 0.000162518863681873,
          "median": 0.000162518863681873,
          "min": 0.000162518863681873
         },
         {
          "NAAM_N2K": "Waddenzee",
          "OBJECTID": 201,
          "date": "2019-05-23T00:00:00",
          "geometry": null,
          "id": "163_0000000000000000006b",
          "max": 9.751543179410715e-05,
          "median": 8.985413145144287e-05,
          "min": 8.985413145144287e-05
         },
         {
          "NAAM_N2K": "Rijntakken",
          "OBJECTID": 195,
          "date": "2019-05-23T00:00:00",
          "geometry": null,
          "id": "163_00000000000000000065",
          "max": 0.0001757111388541353,
          "median": 0.00016407168424793748,
          "min": 0.000140281964850911
         },
         {
          "NAAM_N2K": "Weerribben",
          "OBJECTID": 200,
          "date": "2019-05-23T00:00:00",
          "geometry": null,
          "id": "163_0000000000000000006a",
          "max": 0.00011302268193328874,
          "median": 0.00011266722440532777,
          "min": 0.0001123117668773668
         },
         {
          "NAAM_N2K": "Oosterschelde",
          "OBJECTID": 123,
          "date": "2019-05-23T00:00:00",
          "geometry": null,
          "id": "163_0000000000000000001d",
          "max": 0.0001471877566389631,
          "median": 0.00010623804442670768,
          "min": 9.566025763237598e-05
         },
         {
          "NAAM_N2K": "Veluwe",
          "OBJECTID": 194,
          "date": "2019-05-25T00:00:00",
          "geometry": null,
          "id": "164_00000000000000000064",
          "max": 0.00010612876883100367,
          "median": 0.00010564215470764447,
          "min": 8.029928672755874e-05
         },
         {
          "NAAM_N2K": "Biesbosch",
          "OBJECTID": 14,
          "date": "2019-05-25T00:00:00",
          "geometry": null,
          "id": "164_00000000000000000081",
          "max": 0.00011006321336746826,
          "median": 0.00011006321336746826,
          "min": 0.00011006321336746826
         },
         {
          "NAAM_N2K": "Waddenzee",
          "OBJECTID": 201,
          "date": "2019-05-25T00:00:00",
          "geometry": null,
          "id": "164_0000000000000000006b",
          "max": 9.19207976658894e-05,
          "median": 6.595900663342028e-05,
          "min": 6.595900663342028e-05
         },
         {
          "NAAM_N2K": "Rijntakken",
          "OBJECTID": 195,
          "date": "2019-05-25T00:00:00",
          "geometry": null,
          "id": "164_00000000000000000065",
          "max": 0.0001078871704908904,
          "median": 0.00010480955508400326,
          "min": 9.764613241177106e-05
         },
         {
          "NAAM_N2K": "Weerribben",
          "OBJECTID": 200,
          "date": "2019-05-25T00:00:00",
          "geometry": null,
          "id": "164_0000000000000000006a",
          "max": 0.00010787505659801792,
          "median": 0.00010352094082866195,
          "min": 9.9166825059306e-05
         },
         {
          "NAAM_N2K": "Oosterschelde",
          "OBJECTID": 123,
          "date": "2019-05-25T00:00:00",
          "geometry": null,
          "id": "164_0000000000000000001d",
          "max": 0.00015994847928057379,
          "median": 0.00010564328040462739,
          "min": 9.355855054071844e-05
         },
         {
          "NAAM_N2K": "Veluwe",
          "OBJECTID": 194,
          "date": "2019-05-27T00:00:00",
          "geometry": null,
          "id": "165_00000000000000000064",
          "max": 0.00011738055120414508,
          "median": 0.00010014002207226193,
          "min": 8.893466668664527e-05
         },
         {
          "NAAM_N2K": "Biesbosch",
          "OBJECTID": 14,
          "date": "2019-05-27T00:00:00",
          "geometry": null,
          "id": "165_00000000000000000081",
          "max": 0.00010785050247948146,
          "median": 0.00010785050247948146,
          "min": 0.00010785050247948146
         },
         {
          "NAAM_N2K": "Waddenzee",
          "OBJECTID": 201,
          "date": "2019-05-27T00:00:00",
          "geometry": null,
          "id": "165_0000000000000000006b",
          "max": 9.201261892734168e-05,
          "median": 8.882097024880889e-05,
          "min": 8.882097024880889e-05
         },
         {
          "NAAM_N2K": "Rijntakken",
          "OBJECTID": 195,
          "date": "2019-05-27T00:00:00",
          "geometry": null,
          "id": "165_00000000000000000065",
          "max": 0.00012655201488283427,
          "median": 0.00010070006471186036,
          "min": 9.074259193565801e-05
         },
         {
          "NAAM_N2K": "Weerribben",
          "OBJECTID": 200,
          "date": "2019-05-27T00:00:00",
          "geometry": null,
          "id": "165_0000000000000000006a",
          "max": 9.518354624691417e-05,
          "median": 9.46460612221265e-05,
          "min": 9.410857619733883e-05
         },
         {
          "NAAM_N2K": "Oosterschelde",
          "OBJECTID": 123,
          "date": "2019-05-27T00:00:00",
          "geometry": null,
          "id": "165_0000000000000000001d",
          "max": 0.00015345696253784785,
          "median": 0.00011495365710783159,
          "min": 0.00011495365710783159
         },
         {
          "NAAM_N2K": "Veluwe",
          "OBJECTID": 194,
          "date": "2019-05-29T00:00:00",
          "geometry": null,
          "id": "166_00000000000000000064",
          "max": 0.00010346779505924732,
          "median": 9.374446503824073e-05,
          "min": 9.35325814966474e-05
         },
         {
          "NAAM_N2K": "Biesbosch",
          "OBJECTID": 14,
          "date": "2019-05-29T00:00:00",
          "geometry": null,
          "id": "166_00000000000000000081",
          "max": 0.00012147479027754258,
          "median": 0.00012147479027754258,
          "min": 0.00012147479027754258
         },
         {
          "NAAM_N2K": "Waddenzee",
          "OBJECTID": 201,
          "date": "2019-05-29T00:00:00",
          "geometry": null,
          "id": "166_0000000000000000006b",
          "max": 0.00010728025376414891,
          "median": 0.00010714628948427129,
          "min": 0.00010714628948427129
         },
         {
          "NAAM_N2K": "Rijntakken",
          "OBJECTID": 195,
          "date": "2019-05-29T00:00:00",
          "geometry": null,
          "id": "166_00000000000000000065",
          "max": 0.00010939717333486204,
          "median": 0.00010023847306073101,
          "min": 9.665330699248431e-05
         },
         {
          "NAAM_N2K": "Weerribben",
          "OBJECTID": 200,
          "date": "2019-05-29T00:00:00",
          "geometry": null,
          "id": "166_0000000000000000006a",
          "max": 0.00010308695111823195,
          "median": 0.00010225154395463362,
          "min": 0.00010141613679103529
         },
         {
          "NAAM_N2K": "Oosterschelde",
          "OBJECTID": 123,
          "date": "2019-05-29T00:00:00",
          "geometry": null,
          "id": "166_0000000000000000001d",
          "max": 0.00011592867126699337,
          "median": 0.00011439090215605912,
          "min": 0.00011293454203531369
         },
         {
          "NAAM_N2K": "Veluwe",
          "OBJECTID": 194,
          "date": "2019-05-31T00:00:00",
          "geometry": null,
          "id": "167_00000000000000000064",
          "max": 0.00019556292323734233,
          "median": 0.00012020395942256753,
          "min": 0.0001159276586666328
         },
         {
          "NAAM_N2K": "Biesbosch",
          "OBJECTID": 14,
          "date": "2019-05-31T00:00:00",
          "geometry": null,
          "id": "167_00000000000000000081",
          "max": 8.755072242055162e-05,
          "median": 8.755072242055162e-05,
          "min": 8.755072242055162e-05
         },
         {
          "NAAM_N2K": "Waddenzee",
          "OBJECTID": 201,
          "date": "2019-05-31T00:00:00",
          "geometry": null,
          "id": "167_0000000000000000006b",
          "max": 0.00014206784368361386,
          "median": 0.00014206784368361386,
          "min": 0.00013800308680315238
         },
         {
          "NAAM_N2K": "Rijntakken",
          "OBJECTID": 195,
          "date": "2019-05-31T00:00:00",
          "geometry": null,
          "id": "167_00000000000000000065",
          "max": 0.00015816464575861528,
          "median": 0.0001233040295394774,
          "min": 0.00010805755285972499
         },
         {
          "NAAM_N2K": "Weerribben",
          "OBJECTID": 200,
          "date": "2019-05-31T00:00:00",
          "geometry": null,
          "id": "167_0000000000000000006a",
          "max": 0.0001650282302329236,
          "median": 0.00015216775903914153,
          "min": 0.00013930728784535947
         },
         {
          "NAAM_N2K": "Oosterschelde",
          "OBJECTID": 123,
          "date": "2019-05-31T00:00:00",
          "geometry": null,
          "id": "167_0000000000000000001d",
          "max": 0.00010767626699870535,
          "median": 8.884094863791758e-05,
          "min": 8.260056120868415e-05
         },
         {
          "NAAM_N2K": "Veluwe",
          "OBJECTID": 194,
          "date": "2019-06-02T00:00:00",
          "geometry": null,
          "id": "168_00000000000000000064",
          "max": 0.00018180999328941766,
          "median": 0.00010727754818556272,
          "min": 9.372785098947006e-05
         },
         {
          "NAAM_N2K": "Biesbosch",
          "OBJECTID": 14,
          "date": "2019-06-02T00:00:00",
          "geometry": null,
          "id": "168_00000000000000000081",
          "max": 0.00015588408307215472,
          "median": 0.00015588408307215472,
          "min": 0.00015588408307215472
         },
         {
          "NAAM_N2K": "Waddenzee",
          "OBJECTID": 201,
          "date": "2019-06-02T00:00:00",
          "geometry": null,
          "id": "168_0000000000000000006b",
          "max": 0.00016948298340980697,
          "median": 0.00016948298340980697,
          "min": 0.00016471716303590622
         },
         {
          "NAAM_N2K": "Rijntakken",
          "OBJECTID": 195,
          "date": "2019-06-02T00:00:00",
          "geometry": null,
          "id": "168_00000000000000000065",
          "max": 0.00021609829855151474,
          "median": 0.00010948709736129797,
          "min": 0.00010585724355585077
         },
         {
          "NAAM_N2K": "Weerribben",
          "OBJECTID": 200,
          "date": "2019-06-02T00:00:00",
          "geometry": null,
          "id": "168_0000000000000000006a",
          "max": 0.00010442320112043133,
          "median": 0.00010413493869293754,
          "min": 0.00010384667626544376
         },
         {
          "NAAM_N2K": "Oosterschelde",
          "OBJECTID": 123,
          "date": "2019-06-02T00:00:00",
          "geometry": null,
          "id": "168_0000000000000000001d",
          "max": 0.00014799821163079095,
          "median": 0.00012572399025298665,
          "min": 0.00011872678727924685
         },
         {
          "NAAM_N2K": "Veluwe",
          "OBJECTID": 194,
          "date": "2019-06-04T00:00:00",
          "geometry": null,
          "id": "169_00000000000000000064",
          "max": 0.0001673834529991577,
          "median": 0.00013249867123549846,
          "min": 0.00011275348690482863
         },
         {
          "NAAM_N2K": "Biesbosch",
          "OBJECTID": 14,
          "date": "2019-06-04T00:00:00",
          "geometry": null,
          "id": "169_00000000000000000081",
          "max": 0.00018424177837501372,
          "median": 0.00018424177837501372,
          "min": 0.00018424177837501372
         },
         {
          "NAAM_N2K": "Waddenzee",
          "OBJECTID": 201,
          "date": "2019-06-04T00:00:00",
          "geometry": null,
          "id": "169_0000000000000000006b",
          "max": 0.0001249795263796039,
          "median": 0.0001249795263796039,
          "min": 0.00011577023070594951
         },
         {
          "NAAM_N2K": "Rijntakken",
          "OBJECTID": 195,
          "date": "2019-06-04T00:00:00",
          "geometry": null,
          "id": "169_00000000000000000065",
          "max": 0.0001430086455295347,
          "median": 0.00013628005982964164,
          "min": 0.00011275348690482863
         },
         {
          "NAAM_N2K": "Weerribben",
          "OBJECTID": 200,
          "date": "2019-06-04T00:00:00",
          "geometry": null,
          "id": "169_0000000000000000006a",
          "max": 0.0001362653268745802,
          "median": 0.00013223467426113914,
          "min": 0.0001282040216476981
         },
         {
          "NAAM_N2K": "Oosterschelde",
          "OBJECTID": 123,
          "date": "2019-06-04T00:00:00",
          "geometry": null,
          "id": "169_0000000000000000001d",
          "max": 0.00017698619922157377,
          "median": 0.00017529363561939363,
          "min": 0.00017529363561939363
         },
         {
          "NAAM_N2K": "Veluwe",
          "OBJECTID": 194,
          "date": "2019-06-06T00:00:00",
          "geometry": null,
          "id": "170_00000000000000000064",
          "max": 0.00016130632295626525,
          "median": 0.00013730907291551115,
          "min": 0.00011333757186356833
         },
         {
          "NAAM_N2K": "Biesbosch",
          "OBJECTID": 14,
          "date": "2019-06-06T00:00:00",
          "geometry": null,
          "id": "170_00000000000000000081",
          "max": 0.00012811962369239525,
          "median": 0.00012811962369239525,
          "min": 0.00012811962369239525
         },
         {
          "NAAM_N2K": "Waddenzee",
          "OBJECTID": 201,
          "date": "2019-06-06T00:00:00",
          "geometry": null,
          "id": "170_0000000000000000006b",
          "max": 8.856504328589018e-05,
          "median": 8.856504328589018e-05,
          "min": 8.819857645097117e-05
         },
         {
          "NAAM_N2K": "Rijntakken",
          "OBJECTID": 195,
          "date": "2019-06-06T00:00:00",
          "geometry": null,
          "id": "170_00000000000000000065",
          "max": 0.0001671408652254497,
          "median": 0.00014331571377251807,
          "min": 0.00011333757186356833
         },
         {
          "NAAM_N2K": "Weerribben",
          "OBJECTID": 200,
          "date": "2019-06-06T00:00:00",
          "geometry": null,
          "id": "170_0000000000000000006a",
          "max": 0.00011093747442303144,
          "median": 0.00011025310581742292,
          "min": 0.00010956873721181439
         },
         {
          "NAAM_N2K": "Oosterschelde",
          "OBJECTID": 123,
          "date": "2019-06-06T00:00:00",
          "geometry": null,
          "id": "170_0000000000000000001d",
          "max": 0.00014113196713866835,
          "median": 0.00014113196713866835,
          "min": 0.00011953242229174386
         },
         {
          "NAAM_N2K": "Veluwe",
          "OBJECTID": 194,
          "date": "2019-06-08T00:00:00",
          "geometry": null,
          "id": "171_00000000000000000064",
          "max": 0.0001238766708201072,
          "median": 9.77929414706351e-05,
          "min": 9.227833904421089e-05
         },
         {
          "NAAM_N2K": "Biesbosch",
          "OBJECTID": 14,
          "date": "2019-06-08T00:00:00",
          "geometry": null,
          "id": "171_00000000000000000081",
          "max": 0.00012654239917546338,
          "median": 0.00012654239917546338,
          "min": 0.00012654239917546338
         },
         {
          "NAAM_N2K": "Waddenzee",
          "OBJECTID": 201,
          "date": "2019-06-08T00:00:00",
          "geometry": null,
          "id": "171_0000000000000000006b",
          "max": 0.00010793231654131404,
          "median": 0.00010793231654131404,
          "min": 0.00010607243770666453
         },
         {
          "NAAM_N2K": "Rijntakken",
          "OBJECTID": 195,
          "date": "2019-06-08T00:00:00",
          "geometry": null,
          "id": "171_00000000000000000065",
          "max": 0.00011363542453464244,
          "median": 0.00010177180987340403,
          "min": 9.227833904421089e-05
         },
         {
          "NAAM_N2K": "Weerribben",
          "OBJECTID": 200,
          "date": "2019-06-08T00:00:00",
          "geometry": null,
          "id": "171_0000000000000000006a",
          "max": 9.851790402163195e-05,
          "median": 9.782352154543802e-05,
          "min": 9.712913906924411e-05
         },
         {
          "NAAM_N2K": "Oosterschelde",
          "OBJECTID": 123,
          "date": "2019-06-08T00:00:00",
          "geometry": null,
          "id": "171_0000000000000000001d",
          "max": 0.0001373694486934959,
          "median": 0.00010790387442075026,
          "min": 0.00010790387442075026
         },
         {
          "NAAM_N2K": "Veluwe",
          "OBJECTID": 194,
          "date": "2019-06-10T00:00:00",
          "geometry": null,
          "id": "172_00000000000000000064",
          "max": 0.00012172849997859971,
          "median": 0.00011233033251130108,
          "min": 0.00010156804670858973
         },
         {
          "NAAM_N2K": "Biesbosch",
          "OBJECTID": 14,
          "date": "2019-06-10T00:00:00",
          "geometry": null,
          "id": "172_00000000000000000081",
          "max": 0.00010567529789974111,
          "median": 0.00010567529789974111,
          "min": 0.00010567529789974111
         },
         {
          "NAAM_N2K": "Waddenzee",
          "OBJECTID": 201,
          "date": "2019-06-10T00:00:00",
          "geometry": null,
          "id": "172_0000000000000000006b",
          "max": 0.00010606241666013588,
          "median": 9.869588588179483e-05,
          "min": 9.869588588179483e-05
         },
         {
          "NAAM_N2K": "Rijntakken",
          "OBJECTID": 195,
          "date": "2019-06-10T00:00:00",
          "geometry": null,
          "id": "172_00000000000000000065",
          "max": 0.000118900846476651,
          "median": 0.00010925382068020735,
          "min": 0.00010756324461905158
         },
         {
          "NAAM_N2K": "Weerribben",
          "OBJECTID": 200,
          "date": "2019-06-10T00:00:00",
          "geometry": null,
          "id": "172_0000000000000000006a",
          "max": 0.0001143242081922138,
          "median": 0.00011185907932460373,
          "min": 0.00010939395045699367
         },
         {
          "NAAM_N2K": "Oosterschelde",
          "OBJECTID": 123,
          "date": "2019-06-10T00:00:00",
          "geometry": null,
          "id": "172_0000000000000000001d",
          "max": 0.00018843345282627653,
          "median": 0.00011722499642395367,
          "min": 0.00010707368571260352
         },
         {
          "NAAM_N2K": "Veluwe",
          "OBJECTID": 194,
          "date": "2019-06-12T00:00:00",
          "geometry": null,
          "id": "173_00000000000000000064",
          "max": 0.0004348209277578484,
          "median": 0.0004225076145851406,
          "min": 7.993700961839514e-05
         },
         {
          "NAAM_N2K": "Biesbosch",
          "OBJECTID": 14,
          "date": "2019-06-12T00:00:00",
          "geometry": null,
          "id": "173_00000000000000000081",
          "max": 0.00010924905728326718,
          "median": 0.00010924905728326718,
          "min": 0.00010924905728326718
         },
         {
          "NAAM_N2K": "Waddenzee",
          "OBJECTID": 201,
          "date": "2019-06-12T00:00:00",
          "geometry": null,
          "id": "173_0000000000000000006b",
          "max": 0.00011186850744448798,
          "median": 0.00011186850744448798,
          "min": 0.00011108189526104552
         },
         {
          "NAAM_N2K": "Rijntakken",
          "OBJECTID": 195,
          "date": "2019-06-12T00:00:00",
          "geometry": null,
          "id": "173_00000000000000000065",
          "max": 0.0004225076145851406,
          "median": 0.00015373968738199327,
          "min": 7.993700961839514e-05
         },
         {
          "NAAM_N2K": "Weerribben",
          "OBJECTID": 200,
          "date": "2019-06-12T00:00:00",
          "geometry": null,
          "id": "173_0000000000000000006a",
          "max": 0.0001980993577188984,
          "median": 0.0001435335951748808,
          "min": 8.896783263086321e-05
         },
         {
          "NAAM_N2K": "Oosterschelde",
          "OBJECTID": 123,
          "date": "2019-06-12T00:00:00",
          "geometry": null,
          "id": "173_0000000000000000001d",
          "max": 0.00011997051130991312,
          "median": 0.00010247347514059094,
          "min": 0.00010001596379849144
         },
         {
          "NAAM_N2K": "Veluwe",
          "OBJECTID": 194,
          "date": "2019-06-14T00:00:00",
          "geometry": null,
          "id": "174_00000000000000000064",
          "max": 0.00011068372562413853,
          "median": 0.00010030343585793724,
          "min": 9.927859614416654e-05
         },
         {
          "NAAM_N2K": "Biesbosch",
          "OBJECTID": 14,
          "date": "2019-06-14T00:00:00",
          "geometry": null,
          "id": "174_00000000000000000081",
          "max": 0.00011303846297207155,
          "median": 0.00011303846297207155,
          "min": 0.00011303846297207155
         },
         {
          "NAAM_N2K": "Waddenzee",
          "OBJECTID": 201,
          "date": "2019-06-14T00:00:00",
          "geometry": null,
          "id": "174_0000000000000000006b",
          "max": 0.00012270210903850281,
          "median": 0.00011368244204750681,
          "min": 0.00011368244204750681
         },
         {
          "NAAM_N2K": "Rijntakken",
          "OBJECTID": 195,
          "date": "2019-06-14T00:00:00",
          "geometry": null,
          "id": "174_00000000000000000065",
          "max": 0.0001108764476004932,
          "median": 0.00010871173815389295,
          "min": 9.927859614416654e-05
         },
         {
          "NAAM_N2K": "Weerribben",
          "OBJECTID": 200,
          "date": "2019-06-14T00:00:00",
          "geometry": null,
          "id": "174_0000000000000000006a",
          "max": 0.00010611123988773759,
          "median": 0.00010233035363058275,
          "min": 9.85494673734279e-05
         },
         {
          "NAAM_N2K": "Oosterschelde",
          "OBJECTID": 123,
          "date": "2019-06-14T00:00:00",
          "geometry": null,
          "id": "174_0000000000000000001d",
          "max": 0.00012065945385278315,
          "median": 0.00012065945385278315,
          "min": 0.00010739552980772808
         },
         {
          "NAAM_N2K": "Veluwe",
          "OBJECTID": 194,
          "date": "2019-06-16T00:00:00",
          "geometry": null,
          "id": "175_00000000000000000064",
          "max": 9.879378845553993e-05,
          "median": 9.55871300937133e-05,
          "min": 8.302408599813197e-05
         },
         {
          "NAAM_N2K": "Biesbosch",
          "OBJECTID": 14,
          "date": "2019-06-16T00:00:00",
          "geometry": null,
          "id": "175_00000000000000000081",
          "max": 8.46811145645408e-05,
          "median": 8.46811145645408e-05,
          "min": 8.46811145645408e-05
         },
         {
          "NAAM_N2K": "Waddenzee",
          "OBJECTID": 201,
          "date": "2019-06-16T00:00:00",
          "geometry": null,
          "id": "175_0000000000000000006b",
          "max": 8.735550033983289e-05,
          "median": 8.735550033983289e-05,
          "min": 8.48614465807742e-05
         },
         {
          "NAAM_N2K": "Rijntakken",
          "OBJECTID": 195,
          "date": "2019-06-16T00:00:00",
          "geometry": null,
          "id": "175_00000000000000000065",
          "max": 9.55871300937133e-05,
          "median": 8.595070954448036e-05,
          "min": 8.428175810983633e-05
         },
         {
          "NAAM_N2K": "Weerribben",
          "OBJECTID": 200,
          "date": "2019-06-16T00:00:00",
          "geometry": null,
          "id": "175_0000000000000000006a",
          "max": 8.743809625696574e-05,
          "median": 8.659668257428074e-05,
          "min": 8.575526889159577e-05
         },
         {
          "NAAM_N2K": "Oosterschelde",
          "OBJECTID": 123,
          "date": "2019-06-16T00:00:00",
          "geometry": null,
          "id": "175_0000000000000000001d",
          "max": 9.759880074627792e-05,
          "median": 9.037368111159925e-05,
          "min": 8.42273441263235e-05
         },
         {
          "NAAM_N2K": "Veluwe",
          "OBJECTID": 194,
          "date": "2019-06-18T00:00:00",
          "geometry": null,
          "id": "176_00000000000000000064",
          "max": 0.00014723419976606122,
          "median": 0.00010051923190646983,
          "min": 8.778726079909523e-05
         },
         {
          "NAAM_N2K": "Biesbosch",
          "OBJECTID": 14,
          "date": "2019-06-18T00:00:00",
          "geometry": null,
          "id": "176_00000000000000000081",
          "max": 0.00014274034553389726,
          "median": 0.00014274034553389726,
          "min": 0.00014274034553389726
         },
         {
          "NAAM_N2K": "Waddenzee",
          "OBJECTID": 201,
          "date": "2019-06-18T00:00:00",
          "geometry": null,
          "id": "176_0000000000000000006b",
          "max": 0.00011850599981232902,
          "median": 0.00011633711170147758,
          "min": 0.00011633711170147758
         },
         {
          "NAAM_N2K": "Rijntakken",
          "OBJECTID": 195,
          "date": "2019-06-18T00:00:00",
          "geometry": null,
          "id": "176_00000000000000000065",
          "max": 0.00014723419976606122,
          "median": 0.00010670463542620573,
          "min": 8.9634202558285e-05
         },
         {
          "NAAM_N2K": "Weerribben",
          "OBJECTID": 200,
          "date": "2019-06-18T00:00:00",
          "geometry": null,
          "id": "176_0000000000000000006a",
          "max": 8.886772659741414e-05,
          "median": 8.805177889209653e-05,
          "min": 8.723583118677891e-05
         },
         {
          "NAAM_N2K": "Oosterschelde",
          "OBJECTID": 123,
          "date": "2019-06-18T00:00:00",
          "geometry": null,
          "id": "176_0000000000000000001d",
          "max": 0.00031490694952507754,
          "median": 0.00014428386518150181,
          "min": 0.00014428386518150181
         },
         {
          "NAAM_N2K": "Veluwe",
          "OBJECTID": 194,
          "date": "2019-06-20T00:00:00",
          "geometry": null,
          "id": "177_00000000000000000064",
          "max": 0.00012678582263439547,
          "median": 0.00011623369089601645,
          "min": 0.00010828015431638786
         },
         {
          "NAAM_N2K": "Biesbosch",
          "OBJECTID": 14,
          "date": "2019-06-20T00:00:00",
          "geometry": null,
          "id": "177_00000000000000000081",
          "max": 0.00010912073862526197,
          "median": 0.00010912073862526197,
          "min": 0.00010912073862526197
         },
         {
          "NAAM_N2K": "Waddenzee",
          "OBJECTID": 201,
          "date": "2019-06-20T00:00:00",
          "geometry": null,
          "id": "177_0000000000000000006b",
          "max": 0.0001108986659317472,
          "median": 0.0001108986659317472,
          "min": 0.00010495493129129394
         },
         {
          "NAAM_N2K": "Rijntakken",
          "OBJECTID": 195,
          "date": "2019-06-20T00:00:00",
          "geometry": null,
          "id": "177_00000000000000000065",
          "max": 0.0001249329646384058,
          "median": 0.0001100958386101277,
          "min": 0.00010503840571968308
         },
         {
          "NAAM_N2K": "Weerribben",
          "OBJECTID": 200,
          "date": "2019-06-20T00:00:00",
          "geometry": null,
          "id": "177_0000000000000000006a",
          "max": 0.00012137129755466946,
          "median": 0.0001157272926561816,
          "min": 0.00011008328775769373
         },
         {
          "NAAM_N2K": "Oosterschelde",
          "OBJECTID": 123,
          "date": "2019-06-20T00:00:00",
          "geometry": null,
          "id": "177_0000000000000000001d",
          "max": 0.00013701491908287662,
          "median": 9.760508029061404e-05,
          "min": 9.15942342399152e-05
         },
         {
          "NAAM_N2K": "Veluwe",
          "OBJECTID": 194,
          "date": "2019-06-22T00:00:00",
          "geometry": null,
          "id": "178_00000000000000000064",
          "max": 0.00010789599618836903,
          "median": 0.00010029538040161475,
          "min": 8.949938849036678e-05
         },
         {
          "NAAM_N2K": "Biesbosch",
          "OBJECTID": 14,
          "date": "2019-06-22T00:00:00",
          "geometry": null,
          "id": "178_00000000000000000081",
          "max": 0.00010714654253552537,
          "median": 0.00010714654253552537,
          "min": 0.00010714654253552537
         },
         {
          "NAAM_N2K": "Waddenzee",
          "OBJECTID": 201,
          "date": "2019-06-22T00:00:00",
          "geometry": null,
          "id": "178_0000000000000000006b",
          "max": 9.72479163731705e-05,
          "median": 9.484866986014553e-05,
          "min": 9.484866986014553e-05
         },
         {
          "NAAM_N2K": "Rijntakken",
          "OBJECTID": 195,
          "date": "2019-06-22T00:00:00",
          "geometry": null,
          "id": "178_00000000000000000065",
          "max": 0.00010789599618836903,
          "median": 0.00010025458078664185,
          "min": 8.949938849036678e-05
         },
         {
          "NAAM_N2K": "Weerribben",
          "OBJECTID": 200,
          "date": "2019-06-22T00:00:00",
          "geometry": null,
          "id": "178_0000000000000000006a",
          "max": 8.590192424731017e-05,
          "median": 8.582273872834312e-05,
          "min": 8.574355320937608e-05
         },
         {
          "NAAM_N2K": "Oosterschelde",
          "OBJECTID": 123,
          "date": "2019-06-22T00:00:00",
          "geometry": null,
          "id": "178_0000000000000000001d",
          "max": 0.00012626703979132283,
          "median": 0.00010853168047903732,
          "min": 0.0001063040994886181
         },
         {
          "NAAM_N2K": "Veluwe",
          "OBJECTID": 194,
          "date": "2019-06-24T00:00:00",
          "geometry": null,
          "id": "179_00000000000000000064",
          "max": 0.00012638595220883285,
          "median": 0.00012266600161780665,
          "min": 0.00011052173527764196
         },
         {
          "NAAM_N2K": "Biesbosch",
          "OBJECTID": 14,
          "date": "2019-06-24T00:00:00",
          "geometry": null,
          "id": "179_00000000000000000081",
          "max": 0.00013480239711024703,
          "median": 0.00013480239711024703,
          "min": 0.00013480239711024703
         },
         {
          "NAAM_N2K": "Waddenzee",
          "OBJECTID": 201,
          "date": "2019-06-24T00:00:00",
          "geometry": null,
          "id": "179_0000000000000000006b",
          "max": 0.00011660683581623177,
          "median": 0.00011486527454852928,
          "min": 0.00011486527454852928
         },
         {
          "NAAM_N2K": "Rijntakken",
          "OBJECTID": 195,
          "date": "2019-06-24T00:00:00",
          "geometry": null,
          "id": "179_00000000000000000065",
          "max": 0.00012785635723007295,
          "median": 0.00012193266474440606,
          "min": 0.00011663351432222194
         },
         {
          "NAAM_N2K": "Weerribben",
          "OBJECTID": 200,
          "date": "2019-06-24T00:00:00",
          "geometry": null,
          "id": "179_0000000000000000006a",
          "max": 0.00011498226697126347,
          "median": 0.00011449650084761483,
          "min": 0.00011401073472396618
         },
         {
          "NAAM_N2K": "Oosterschelde",
          "OBJECTID": 123,
          "date": "2019-06-24T00:00:00",
          "geometry": null,
          "id": "179_0000000000000000001d",
          "max": 0.00018001138581483363,
          "median": 0.00015078130735392303,
          "min": 0.0001176551497540022
         },
         {
          "NAAM_N2K": "Veluwe",
          "OBJECTID": 194,
          "date": "2019-06-26T00:00:00",
          "geometry": null,
          "id": "180_00000000000000000064",
          "max": 0.00011514313707202667,
          "median": 9.54656373391669e-05,
          "min": 7.804297219689862e-05
         },
         {
          "NAAM_N2K": "Biesbosch",
          "OBJECTID": 14,
          "date": "2019-06-26T00:00:00",
          "geometry": null,
          "id": "180_00000000000000000081",
          "max": 0.00010115142651396047,
          "median": 0.00010115142651396047,
          "min": 0.00010115142651396047
         },
         {
          "NAAM_N2K": "Waddenzee",
          "OBJECTID": 201,
          "date": "2019-06-26T00:00:00",
          "geometry": null,
          "id": "180_0000000000000000006b",
          "max": 7.45027116588682e-05,
          "median": 7.45027116588682e-05,
          "min": 7.372692799030873e-05
         },
         {
          "NAAM_N2K": "Rijntakken",
          "OBJECTID": 195,
          "date": "2019-06-26T00:00:00",
          "geometry": null,
          "id": "180_00000000000000000065",
          "max": 0.00011514313707202667,
          "median": 0.00010348987257454825,
          "min": 7.941942200922233e-05
         },
         {
          "NAAM_N2K": "Weerribben",
          "OBJECTID": 200,
          "date": "2019-06-26T00:00:00",
          "geometry": null,
          "id": "180_0000000000000000006a",
          "max": 8.160863487942962e-05,
          "median": 8.05477735569274e-05,
          "min": 7.948691223442518e-05
         },
         {
          "NAAM_N2K": "Oosterschelde",
          "OBJECTID": 123,
          "date": "2019-06-26T00:00:00",
          "geometry": null,
          "id": "180_0000000000000000001d",
          "max": 0.00012705576151636223,
          "median": 8.955941693130315e-05,
          "min": 7.802206605373933e-05
         },
         {
          "NAAM_N2K": "Veluwe",
          "OBJECTID": 194,
          "date": "2019-06-28T00:00:00",
          "geometry": null,
          "id": "181_00000000000000000064",
          "max": 0.0001339041427547052,
          "median": 0.00011465197456276413,
          "min": 0.00011156887965187197
         },
         {
          "NAAM_N2K": "Biesbosch",
          "OBJECTID": 14,
          "date": "2019-06-28T00:00:00",
          "geometry": null,
          "id": "181_00000000000000000081",
          "max": 0.00013275109772929483,
          "median": 0.00013275109772929483,
          "min": 0.00013275109772929483
         },
         {
          "NAAM_N2K": "Waddenzee",
          "OBJECTID": 201,
          "date": "2019-06-28T00:00:00",
          "geometry": null,
          "id": "181_0000000000000000006b",
          "max": 9.470737309557483e-05,
          "median": 9.18512395913154e-05,
          "min": 9.18512395913154e-05
         },
         {
          "NAAM_N2K": "Rijntakken",
          "OBJECTID": 195,
          "date": "2019-06-28T00:00:00",
          "geometry": null,
          "id": "181_00000000000000000065",
          "max": 0.0001339041427547052,
          "median": 0.00013017388638357383,
          "min": 0.00011156887965187197
         },
         {
          "NAAM_N2K": "Weerribben",
          "OBJECTID": 200,
          "date": "2019-06-28T00:00:00",
          "geometry": null,
          "id": "181_0000000000000000006a",
          "max": 0.00010995021204321815,
          "median": 0.00010886154075003802,
          "min": 0.0001077728694568579
         },
         {
          "NAAM_N2K": "Oosterschelde",
          "OBJECTID": 123,
          "date": "2019-06-28T00:00:00",
          "geometry": null,
          "id": "181_0000000000000000001d",
          "max": 0.00017499972538572123,
          "median": 0.00013688659058498244,
          "min": 0.00013349513265669186
         },
         {
          "NAAM_N2K": "Veluwe",
          "OBJECTID": 194,
          "date": "2019-06-30T00:00:00",
          "geometry": null,
          "id": "182_00000000000000000064",
          "max": 0.00010247627229388378,
          "median": 9.780063496438236e-05,
          "min": 8.989222482516055e-05
         },
         {
          "NAAM_N2K": "Biesbosch",
          "OBJECTID": 14,
          "date": "2019-06-30T00:00:00",
          "geometry": null,
          "id": "182_00000000000000000081",
          "max": 0.00012595331340657377,
          "median": 0.00012595331340657377,
          "min": 0.00012595331340657377
         },
         {
          "NAAM_N2K": "Waddenzee",
          "OBJECTID": 201,
          "date": "2019-06-30T00:00:00",
          "geometry": null,
          "id": "182_0000000000000000006b",
          "max": 8.927338381817972e-05,
          "median": 8.48488187443028e-05,
          "min": 8.48488187443028e-05
         },
         {
          "NAAM_N2K": "Rijntakken",
          "OBJECTID": 195,
          "date": "2019-06-30T00:00:00",
          "geometry": null,
          "id": "182_00000000000000000065",
          "max": 0.00010261591120135118,
          "median": 9.780063496438236e-05,
          "min": 9.553603528771764e-05
         },
         {
          "NAAM_N2K": "Weerribben",
          "OBJECTID": 200,
          "date": "2019-06-30T00:00:00",
          "geometry": null,
          "id": "182_0000000000000000006a",
          "max": 8.814031129790562e-05,
          "median": 8.770675577717845e-05,
          "min": 8.727320025645126e-05
         },
         {
          "NAAM_N2K": "Oosterschelde",
          "OBJECTID": 123,
          "date": "2019-06-30T00:00:00",
          "geometry": null,
          "id": "182_0000000000000000001d",
          "max": 0.00010287876104832642,
          "median": 8.834288187156213e-05,
          "min": 8.7327409153381e-05
         },
         {
          "NAAM_N2K": "Veluwe",
          "OBJECTID": 194,
          "date": "2019-07-02T00:00:00",
          "geometry": null,
          "id": "183_00000000000000000064",
          "max": 0.00010149218329126194,
          "median": 8.864033110218541e-05,
          "min": 8.44425816651817e-05
         },
         {
          "NAAM_N2K": "Biesbosch",
          "OBJECTID": 14,
          "date": "2019-07-02T00:00:00",
          "geometry": null,
          "id": "183_00000000000000000081",
          "max": 9.739119637775153e-05,
          "median": 9.739119637775153e-05,
          "min": 9.739119637775153e-05
         },
         {
          "NAAM_N2K": "Waddenzee",
          "OBJECTID": 201,
          "date": "2019-07-02T00:00:00",
          "geometry": null,
          "id": "183_0000000000000000006b",
          "max": 7.330865751767638e-05,
          "median": 7.330865751767638e-05,
          "min": 7.28736784583292e-05
         },
         {
          "NAAM_N2K": "Rijntakken",
          "OBJECTID": 195,
          "date": "2019-07-02T00:00:00",
          "geometry": null,
          "id": "183_00000000000000000065",
          "max": 0.00010149218329126194,
          "median": 8.864033110218541e-05,
          "min": 8.563708378790799e-05
         },
         {
          "NAAM_N2K": "Weerribben",
          "OBJECTID": 200,
          "date": "2019-07-02T00:00:00",
          "geometry": null,
          "id": "183_0000000000000000006a",
          "max": 8.364061231638436e-05,
          "median": 8.291382927133186e-05,
          "min": 8.218704622627936e-05
         },
         {
          "NAAM_N2K": "Oosterschelde",
          "OBJECTID": 123,
          "date": "2019-07-02T00:00:00",
          "geometry": null,
          "id": "183_0000000000000000001d",
          "max": 0.00012170902215269592,
          "median": 0.00012170902215269592,
          "min": 9.812649164592409e-05
         },
         {
          "NAAM_N2K": "Veluwe",
          "OBJECTID": 194,
          "date": "2019-07-04T00:00:00",
          "geometry": null,
          "id": "184_00000000000000000064",
          "max": 0.00012508314459174047,
          "median": 0.00010834864495589763,
          "min": 8.41186592960246e-05
         },
         {
          "NAAM_N2K": "Biesbosch",
          "OBJECTID": 14,
          "date": "2019-07-04T00:00:00",
          "geometry": null,
          "id": "184_00000000000000000081",
          "max": 0.0001851240273988442,
          "median": 0.0001851240273988442,
          "min": 0.0001851240273988442
         },
         {
          "NAAM_N2K": "Waddenzee",
          "OBJECTID": 201,
          "date": "2019-07-04T00:00:00",
          "geometry": null,
          "id": "184_0000000000000000006b",
          "max": 7.668441651771981e-05,
          "median": 7.212275396158881e-05,
          "min": 7.212275396158881e-05
         },
         {
          "NAAM_N2K": "Rijntakken",
          "OBJECTID": 195,
          "date": "2019-07-04T00:00:00",
          "geometry": null,
          "id": "184_00000000000000000065",
          "max": 0.0001553975382731722,
          "median": 0.00010930611367439672,
          "min": 8.41186592960246e-05
         },
         {
          "NAAM_N2K": "Weerribben",
          "OBJECTID": 200,
          "date": "2019-07-04T00:00:00",
          "geometry": null,
          "id": "184_0000000000000000006a",
          "max": 8.47167181896238e-05,
          "median": 8.399030477284567e-05,
          "min": 8.326389135606753e-05
         },
         {
          "NAAM_N2K": "Oosterschelde",
          "OBJECTID": 123,
          "date": "2019-07-04T00:00:00",
          "geometry": null,
          "id": "184_0000000000000000001d",
          "max": 0.0001706530995625391,
          "median": 0.0001338142588531125,
          "min": 0.0001227367627752732
         },
         {
          "NAAM_N2K": "Veluwe",
          "OBJECTID": 194,
          "date": "2019-07-06T00:00:00",
          "geometry": null,
          "id": "185_00000000000000000064",
          "max": 9.409020627759345e-05,
          "median": 8.804005068888834e-05,
          "min": 7.43988362209158e-05
         },
         {
          "NAAM_N2K": "Biesbosch",
          "OBJECTID": 14,
          "date": "2019-07-06T00:00:00",
          "geometry": null,
          "id": "185_00000000000000000081",
          "max": 9.090143906307092e-05,
          "median": 9.090143906307092e-05,
          "min": 9.090143906307092e-05
         },
         {
          "NAAM_N2K": "Waddenzee",
          "OBJECTID": 201,
          "date": "2019-07-06T00:00:00",
          "geometry": null,
          "id": "185_0000000000000000006b",
          "max": 8.71741215005954e-05,
          "median": 8.71741215005954e-05,
          "min": 8.495205732228433e-05
         },
         {
          "NAAM_N2K": "Rijntakken",
          "OBJECTID": 195,
          "date": "2019-07-06T00:00:00",
          "geometry": null,
          "id": "185_00000000000000000065",
          "max": 9.409020627759345e-05,
          "median": 9.12231988906041e-05,
          "min": 8.443804917599313e-05
         },
         {
          "NAAM_N2K": "Weerribben",
          "OBJECTID": 200,
          "date": "2019-07-06T00:00:00",
          "geometry": null,
          "id": "185_0000000000000000006a",
          "max": 7.593494962744026e-05,
          "median": 7.519363266008641e-05,
          "min": 7.445231569273256e-05
         },
         {
          "NAAM_N2K": "Oosterschelde",
          "OBJECTID": 123,
          "date": "2019-07-06T00:00:00",
          "geometry": null,
          "id": "185_0000000000000000001d",
          "max": 0.00010041528359346324,
          "median": 7.830619305926949e-05,
          "min": 7.830619305926949e-05
         },
         {
          "NAAM_N2K": "Veluwe",
          "OBJECTID": 194,
          "date": "2019-07-08T00:00:00",
          "geometry": null,
          "id": "186_00000000000000000064",
          "max": 0.00010404870550880232,
          "median": 8.551821850242333e-05,
          "min": 7.920490947814288e-05
         },
         {
          "NAAM_N2K": "Biesbosch",
          "OBJECTID": 14,
          "date": "2019-07-08T00:00:00",
          "geometry": null,
          "id": "186_00000000000000000081",
          "max": 9.854772981712063e-05,
          "median": 9.854772981712063e-05,
          "min": 9.854772981712063e-05
         },
         {
          "NAAM_N2K": "Waddenzee",
          "OBJECTID": 201,
          "date": "2019-07-08T00:00:00",
          "geometry": null,
          "id": "186_0000000000000000006b",
          "max": 8.145175055688576e-05,
          "median": 8.142184917417185e-05,
          "min": 8.142184917417185e-05
         },
         {
          "NAAM_N2K": "Rijntakken",
          "OBJECTID": 195,
          "date": "2019-07-08T00:00:00",
          "geometry": null,
          "id": "186_00000000000000000065",
          "max": 0.00010580157208961335,
          "median": 0.00010037600669219606,
          "min": 7.920490947814288e-05
         },
         {
          "NAAM_N2K": "Weerribben",
          "OBJECTID": 200,
          "date": "2019-07-08T00:00:00",
          "geometry": null,
          "id": "186_0000000000000000006a",
          "max": 8.145711033859564e-05,
          "median": 7.975454138451472e-05,
          "min": 7.805197243043379e-05
         },
         {
          "NAAM_N2K": "Oosterschelde",
          "OBJECTID": 123,
          "date": "2019-07-08T00:00:00",
          "geometry": null,
          "id": "186_0000000000000000001d",
          "max": 0.00011270728678191847,
          "median": 0.00010522805304163334,
          "min": 9.40658606996612e-05
         },
         {
          "NAAM_N2K": "Veluwe",
          "OBJECTID": 194,
          "date": "2019-07-10T00:00:00",
          "geometry": null,
          "id": "187_00000000000000000064",
          "max": 0.00024502739674626316,
          "median": 0.00022308963889311828,
          "min": 0.00016690838556619926
         },
         {
          "NAAM_N2K": "Biesbosch",
          "OBJECTID": 14,
          "date": "2019-07-10T00:00:00",
          "geometry": null,
          "id": "187_00000000000000000081",
          "max": 0.00021947772896830248,
          "median": 0.00021947772896830248,
          "min": 0.00021947772896830248
         },
         {
          "NAAM_N2K": "Waddenzee",
          "OBJECTID": 201,
          "date": "2019-07-10T00:00:00",
          "geometry": null,
          "id": "187_0000000000000000006b",
          "max": 0.00013960321907632414,
          "median": 0.00013960321907632414,
          "min": 0.0001379864162410485
         },
         {
          "NAAM_N2K": "Rijntakken",
          "OBJECTID": 195,
          "date": "2019-07-10T00:00:00",
          "geometry": null,
          "id": "187_00000000000000000065",
          "max": 0.00022308963889311828,
          "median": 0.0001890263675475078,
          "min": 0.00015735795717901607
         },
         {
          "NAAM_N2K": "Weerribben",
          "OBJECTID": 200,
          "date": "2019-07-10T00:00:00",
          "geometry": null,
          "id": "187_0000000000000000006a",
          "max": 0.00015896508379529748,
          "median": 0.0001574285328756971,
          "min": 0.00015589198195609675
         },
         {
          "NAAM_N2K": "Oosterschelde",
          "OBJECTID": 123,
          "date": "2019-07-10T00:00:00",
          "geometry": null,
          "id": "187_0000000000000000001d",
          "max": 0.00015850797330619907,
          "median": 0.00014830332873241582,
          "min": 0.00012895877308377864
         },
         {
          "NAAM_N2K": "Veluwe",
          "OBJECTID": 194,
          "date": "2019-07-12T00:00:00",
          "geometry": null,
          "id": "188_00000000000000000064",
          "max": 0.00016028816364938703,
          "median": 8.682145308460662e-05,
          "min": 8.084006831415524e-05
         },
         {
          "NAAM_N2K": "Biesbosch",
          "OBJECTID": 14,
          "date": "2019-07-12T00:00:00",
          "geometry": null,
          "id": "188_00000000000000000081",
          "max": 0.00010366007344694771,
          "median": 0.00010366007344694771,
          "min": 0.00010366007344694771
         },
         {
          "NAAM_N2K": "Waddenzee",
          "OBJECTID": 201,
          "date": "2019-07-12T00:00:00",
          "geometry": null,
          "id": "188_0000000000000000006b",
          "max": 8.184554825984802e-05,
          "median": 7.959098724894738e-05,
          "min": 7.959098724894738e-05
         },
         {
          "NAAM_N2K": "Rijntakken",
          "OBJECTID": 195,
          "date": "2019-07-12T00:00:00",
          "geometry": null,
          "id": "188_00000000000000000065",
          "max": 0.00016028816364938703,
          "median": 9.789209009832589e-05,
          "min": 8.084006831415524e-05
         },
         {
          "NAAM_N2K": "Weerribben",
          "OBJECTID": 200,
          "date": "2019-07-12T00:00:00",
          "geometry": null,
          "id": "188_0000000000000000006a",
          "max": 8.735146163538031e-05,
          "median": 8.647094077501402e-05,
          "min": 8.559041991464773e-05
         },
         {
          "NAAM_N2K": "Oosterschelde",
          "OBJECTID": 123,
          "date": "2019-07-12T00:00:00",
          "geometry": null,
          "id": "188_0000000000000000001d",
          "max": 9.336852436156067e-05,
          "median": 8.542283794044308e-05,
          "min": 8.542283794044308e-05
         },
         {
          "NAAM_N2K": "Veluwe",
          "OBJECTID": 194,
          "date": "2019-07-14T00:00:00",
          "geometry": null,
          "id": "189_00000000000000000064",
          "max": 8.98914408830354e-05,
          "median": 8.249933825824998e-05,
          "min": 7.637318010690074e-05
         },
         {
          "NAAM_N2K": "Biesbosch",
          "OBJECTID": 14,
          "date": "2019-07-14T00:00:00",
          "geometry": null,
          "id": "189_00000000000000000081",
          "max": 9.60955869900369e-05,
          "median": 9.60955869900369e-05,
          "min": 9.60955869900369e-05
         },
         {
          "NAAM_N2K": "Waddenzee",
          "OBJECTID": 201,
          "date": "2019-07-14T00:00:00",
          "geometry": null,
          "id": "189_0000000000000000006b",
          "max": 7.698148075672558e-05,
          "median": 7.437685137553689e-05,
          "min": 7.437685137553689e-05
         },
         {
          "NAAM_N2K": "Rijntakken",
          "OBJECTID": 195,
          "date": "2019-07-14T00:00:00",
          "geometry": null,
          "id": "189_00000000000000000065",
          "max": 9.307052973049661e-05,
          "median": 8.426282761527502e-05,
          "min": 7.642267648419969e-05
         },
         {
          "NAAM_N2K": "Weerribben",
          "OBJECTID": 200,
          "date": "2019-07-14T00:00:00",
          "geometry": null,
          "id": "189_0000000000000000006a",
          "max": 8.250697295142892e-05,
          "median": 8.111155006236068e-05,
          "min": 7.971612717329245e-05
         },
         {
          "NAAM_N2K": "Oosterschelde",
          "OBJECTID": 123,
          "date": "2019-07-14T00:00:00",
          "geometry": null,
          "id": "189_0000000000000000001d",
          "max": 0.00010688329604505766,
          "median": 9.026655086988425e-05,
          "min": 8.730866959812758e-05
         },
         {
          "NAAM_N2K": "Veluwe",
          "OBJECTID": 194,
          "date": "2019-07-16T00:00:00",
          "geometry": null,
          "id": "190_00000000000000000064",
          "max": 0.00010596680827087773,
          "median": 9.505185266016599e-05,
          "min": 8.611117213314638e-05
         },
         {
          "NAAM_N2K": "Biesbosch",
          "OBJECTID": 14,
          "date": "2019-07-16T00:00:00",
          "geometry": null,
          "id": "190_00000000000000000081",
          "max": 0.00011626063902758278,
          "median": 0.00011626063902758278,
          "min": 0.00011626063902758278
         },
         {
          "NAAM_N2K": "Waddenzee",
          "OBJECTID": 201,
          "date": "2019-07-16T00:00:00",
          "geometry": null,
          "id": "190_0000000000000000006b",
          "max": 7.536546989772401e-05,
          "median": 7.41747271220824e-05,
          "min": 7.41747271220824e-05
         },
         {
          "NAAM_N2K": "Rijntakken",
          "OBJECTID": 195,
          "date": "2019-07-16T00:00:00",
          "geometry": null,
          "id": "190_00000000000000000065",
          "max": 0.00011418389908813053,
          "median": 0.00010358971436581039,
          "min": 8.829930483930449e-05
         },
         {
          "NAAM_N2K": "Weerribben",
          "OBJECTID": 200,
          "date": "2019-07-16T00:00:00",
          "geometry": null,
          "id": "190_0000000000000000006a",
          "max": 8.390807702055077e-05,
          "median": 8.293959456210569e-05,
          "min": 8.197111210366059e-05
         },
         {
          "NAAM_N2K": "Oosterschelde",
          "OBJECTID": 123,
          "date": "2019-07-16T00:00:00",
          "geometry": null,
          "id": "190_0000000000000000001d",
          "max": 0.0001406215204489627,
          "median": 0.00010354509705337604,
          "min": 0.00010354509705337604
         },
         {
          "NAAM_N2K": "Veluwe",
          "OBJECTID": 194,
          "date": "2019-07-18T00:00:00",
          "geometry": null,
          "id": "191_00000000000000000064",
          "max": 0.00020300638387572725,
          "median": 0.00016460496991345866,
          "min": 0.00015794136866432914
         },
         {
          "NAAM_N2K": "Biesbosch",
          "OBJECTID": 14,
          "date": "2019-07-18T00:00:00",
          "geometry": null,
          "id": "191_00000000000000000081",
          "max": 0.00021071759377498287,
          "median": 0.00021071759377498287,
          "min": 0.00021071759377498287
         },
         {
          "NAAM_N2K": "Waddenzee",
          "OBJECTID": 201,
          "date": "2019-07-18T00:00:00",
          "geometry": null,
          "id": "191_0000000000000000006b",
          "max": 9.86912799755761e-05,
          "median": 9.86912799755761e-05,
          "min": 9.577721326123152e-05
         },
         {
          "NAAM_N2K": "Rijntakken",
          "OBJECTID": 195,
          "date": "2019-07-18T00:00:00",
          "geometry": null,
          "id": "191_00000000000000000065",
          "max": 0.00018246697436552495,
          "median": 0.00016460966296434311,
          "min": 0.00012828527201839903
         },
         {
          "NAAM_N2K": "Weerribben",
          "OBJECTID": 200,
          "date": "2019-07-18T00:00:00",
          "geometry": null,
          "id": "191_0000000000000000006a",
          "max": 0.00018412357570810425,
          "median": 0.00017441380621039613,
          "min": 0.000164704036712688
         },
         {
          "NAAM_N2K": "Oosterschelde",
          "OBJECTID": 123,
          "date": "2019-07-18T00:00:00",
          "geometry": null,
          "id": "191_0000000000000000001d",
          "max": 0.00016614046732907198,
          "median": 0.00011974880139639219,
          "min": 0.0001157370453364125
         },
         {
          "NAAM_N2K": "Veluwe",
          "OBJECTID": 194,
          "date": "2019-07-20T00:00:00",
          "geometry": null,
          "id": "192_00000000000000000064",
          "max": 0.0001211841001271684,
          "median": 9.112297535759444e-05,
          "min": 7.671047527970377e-05
         },
         {
          "NAAM_N2K": "Biesbosch",
          "OBJECTID": 14,
          "date": "2019-07-20T00:00:00",
          "geometry": null,
          "id": "192_00000000000000000081",
          "max": 0.00011019856456643882,
          "median": 0.00011019856456643882,
          "min": 0.00011019856456643882
         },
         {
          "NAAM_N2K": "Waddenzee",
          "OBJECTID": 201,
          "date": "2019-07-20T00:00:00",
          "geometry": null,
          "id": "192_0000000000000000006b",
          "max": 8.578541406547004e-05,
          "median": 7.759786903876228e-05,
          "min": 7.759786903876228e-05
         },
         {
          "NAAM_N2K": "Rijntakken",
          "OBJECTID": 195,
          "date": "2019-07-20T00:00:00",
          "geometry": null,
          "id": "192_00000000000000000065",
          "max": 0.0001211841001271684,
          "median": 8.607748167796524e-05,
          "min": 8.53795403060259e-05
         },
         {
          "NAAM_N2K": "Weerribben",
          "OBJECTID": 200,
          "date": "2019-07-20T00:00:00",
          "geometry": null,
          "id": "192_0000000000000000006a",
          "max": 8.413799157235681e-05,
          "median": 8.027047766764352e-05,
          "min": 7.640296376293024e-05
         },
         {
          "NAAM_N2K": "Oosterschelde",
          "OBJECTID": 123,
          "date": "2019-07-20T00:00:00",
          "geometry": null,
          "id": "192_0000000000000000001d",
          "max": 0.00014466440185019735,
          "median": 9.68355101360611e-05,
          "min": 9.68355101360611e-05
         },
         {
          "NAAM_N2K": "Veluwe",
          "OBJECTID": 194,
          "date": "2019-07-22T00:00:00",
          "geometry": null,
          "id": "193_00000000000000000064",
          "max": 0.0001240289224146982,
          "median": 0.00011973310721237816,
          "min": 9.767202670904133e-05
         },
         {
          "NAAM_N2K": "Biesbosch",
          "OBJECTID": 14,
          "date": "2019-07-22T00:00:00",
          "geometry": null,
          "id": "193_00000000000000000081",
          "max": 0.0001133859837981543,
          "median": 0.0001133859837981543,
          "min": 0.0001133859837981543
         },
         {
          "NAAM_N2K": "Waddenzee",
          "OBJECTID": 201,
          "date": "2019-07-22T00:00:00",
          "geometry": null,
          "id": "193_0000000000000000006b",
          "max": 9.917180628917584e-05,
          "median": 9.689502832222958e-05,
          "min": 9.689502832222958e-05
         },
         {
          "NAAM_N2K": "Rijntakken",
          "OBJECTID": 195,
          "date": "2019-07-22T00:00:00",
          "geometry": null,
          "id": "193_00000000000000000065",
          "max": 0.00012579701596483327,
          "median": 0.00011412796328047904,
          "min": 9.767202670904133e-05
         },
         {
          "NAAM_N2K": "Weerribben",
          "OBJECTID": 200,
          "date": "2019-07-22T00:00:00",
          "geometry": null,
          "id": "193_0000000000000000006a",
          "max": 9.587793169923723e-05,
          "median": 9.48981662243718e-05,
          "min": 9.391840074950637e-05
         },
         {
          "NAAM_N2K": "Oosterschelde",
          "OBJECTID": 123,
          "date": "2019-07-22T00:00:00",
          "geometry": null,
          "id": "193_0000000000000000001d",
          "max": 0.00016754080803533587,
          "median": 0.00011772871770572339,
          "min": 0.00011772871770572339
         },
         {
          "NAAM_N2K": "Veluwe",
          "OBJECTID": 194,
          "date": "2019-07-24T00:00:00",
          "geometry": null,
          "id": "194_00000000000000000064",
          "max": 0.0001242878327603227,
          "median": 0.0001225808273411593,
          "min": 0.00010687449159975601
         },
         {
          "NAAM_N2K": "Biesbosch",
          "OBJECTID": 14,
          "date": "2019-07-24T00:00:00",
          "geometry": null,
          "id": "194_00000000000000000081",
          "max": 0.00011819788678197079,
          "median": 0.00011819788678197079,
          "min": 0.00011819788678197079
         },
         {
          "NAAM_N2K": "Waddenzee",
          "OBJECTID": 201,
          "date": "2019-07-24T00:00:00",
          "geometry": null,
          "id": "194_0000000000000000006b",
          "max": 0.00011204715085794339,
          "median": 0.00010858409573738487,
          "min": 0.00010858409573738487
         },
         {
          "NAAM_N2K": "Rijntakken",
          "OBJECTID": 195,
          "date": "2019-07-24T00:00:00",
          "geometry": null,
          "id": "194_00000000000000000065",
          "max": 0.00013432384262553336,
          "median": 0.00011783003000591057,
          "min": 0.00011191058720833303
         },
         {
          "NAAM_N2K": "Weerribben",
          "OBJECTID": 200,
          "date": "2019-07-24T00:00:00",
          "geometry": null,
          "id": "194_0000000000000000006a",
          "max": 0.00010451639750549877,
          "median": 0.00010289184220534621,
          "min": 0.00010126728690519366
         },
         {
          "NAAM_N2K": "Oosterschelde",
          "OBJECTID": 123,
          "date": "2019-07-24T00:00:00",
          "geometry": null,
          "id": "194_0000000000000000001d",
          "max": 0.00014461279463597846,
          "median": 9.931288424153617e-05,
          "min": 9.931288424153617e-05
         },
         {
          "NAAM_N2K": "Veluwe",
          "OBJECTID": 194,
          "date": "2019-07-26T00:00:00",
          "geometry": null,
          "id": "195_00000000000000000064",
          "max": 0.0001539255138588195,
          "median": 0.00011398741999975282,
          "min": 0.0001076929128095075
         },
         {
          "NAAM_N2K": "Biesbosch",
          "OBJECTID": 14,
          "date": "2019-07-26T00:00:00",
          "geometry": null,
          "id": "195_00000000000000000081",
          "max": 0.00018864101930933763,
          "median": 0.00018864101930933763,
          "min": 0.00018864101930933763
         },
         {
          "NAAM_N2K": "Waddenzee",
          "OBJECTID": 201,
          "date": "2019-07-26T00:00:00",
          "geometry": null,
          "id": "195_0000000000000000006b",
          "max": 9.948687909026619e-05,
          "median": 9.948687909026619e-05,
          "min": 9.812451604515065e-05
         },
         {
          "NAAM_N2K": "Rijntakken",
          "OBJECTID": 195,
          "date": "2019-07-26T00:00:00",
          "geometry": null,
          "id": "195_00000000000000000065",
          "max": 0.0001539255138588195,
          "median": 0.00012746233252544336,
          "min": 0.0001076929128095075
         },
         {
          "NAAM_N2K": "Weerribben",
          "OBJECTID": 200,
          "date": "2019-07-26T00:00:00",
          "geometry": null,
          "id": "195_0000000000000000006a",
          "max": 0.00010897267497773856,
          "median": 0.00010616541411004855,
          "min": 0.00010335815324235854
         },
         {
          "NAAM_N2K": "Oosterschelde",
          "OBJECTID": 123,
          "date": "2019-07-26T00:00:00",
          "geometry": null,
          "id": "195_0000000000000000001d",
          "max": 0.00023379468813519336,
          "median": 0.000184341560774565,
          "min": 0.00016289840938102747
         },
         {
          "NAAM_N2K": "Veluwe",
          "OBJECTID": 194,
          "date": "2019-07-28T00:00:00",
          "geometry": null,
          "id": "196_00000000000000000064",
          "max": 0.00013615860360640194,
          "median": 0.00011677224276038429,
          "min": 0.00010229469121192858
         },
         {
          "NAAM_N2K": "Biesbosch",
          "OBJECTID": 14,
          "date": "2019-07-28T00:00:00",
          "geometry": null,
          "id": "196_00000000000000000081",
          "max": 0.00014978799764868542,
          "median": 0.00014978799764868542,
          "min": 0.00014978799764868542
         },
         {
          "NAAM_N2K": "Waddenzee",
          "OBJECTID": 201,
          "date": "2019-07-28T00:00:00",
          "geometry": null,
          "id": "196_0000000000000000006b",
          "max": 9.570322758978678e-05,
          "median": 9.218132379977506e-05,
          "min": 9.218132379977506e-05
         },
         {
          "NAAM_N2K": "Rijntakken",
          "OBJECTID": 195,
          "date": "2019-07-28T00:00:00",
          "geometry": null,
          "id": "196_00000000000000000065",
          "max": 0.00013615860360640194,
          "median": 0.00013272027883245015,
          "min": 0.00010229469121192858
         },
         {
          "NAAM_N2K": "Weerribben",
          "OBJECTID": 200,
          "date": "2019-07-28T00:00:00",
          "geometry": null,
          "id": "196_0000000000000000006a",
          "max": 9.973786750285087e-05,
          "median": 9.933030309343864e-05,
          "min": 9.892273868402641e-05
         },
         {
          "NAAM_N2K": "Oosterschelde",
          "OBJECTID": 123,
          "date": "2019-07-28T00:00:00",
          "geometry": null,
          "id": "196_0000000000000000001d",
          "max": 0.00014540713762631105,
          "median": 0.00013131242289472986,
          "min": 0.00012854179900282866
         },
         {
          "NAAM_N2K": "Veluwe",
          "OBJECTID": 194,
          "date": "2019-07-30T00:00:00",
          "geometry": null,
          "id": "197_00000000000000000064",
          "max": 0.0001298293252282309,
          "median": 0.00010290364676289434,
          "min": 9.376221561364109e-05
         },
         {
          "NAAM_N2K": "Biesbosch",
          "OBJECTID": 14,
          "date": "2019-07-30T00:00:00",
          "geometry": null,
          "id": "197_00000000000000000081",
          "max": 9.762444689511138e-05,
          "median": 9.762444689511138e-05,
          "min": 9.762444689511138e-05
         },
         {
          "NAAM_N2K": "Waddenzee",
          "OBJECTID": 201,
          "date": "2019-07-30T00:00:00",
          "geometry": null,
          "id": "197_0000000000000000006b",
          "max": 9.395529047844e-05,
          "median": 9.395529047844e-05,
          "min": 9.374039743933175e-05
         },
         {
          "NAAM_N2K": "Rijntakken",
          "OBJECTID": 195,
          "date": "2019-07-30T00:00:00",
          "geometry": null,
          "id": "197_00000000000000000065",
          "max": 0.00010094328793721027,
          "median": 9.572963868804152e-05,
          "min": 9.376221561364109e-05
         },
         {
          "NAAM_N2K": "Weerribben",
          "OBJECTID": 200,
          "date": "2019-07-30T00:00:00",
          "geometry": null,
          "id": "197_0000000000000000006a",
          "max": 0.00011860543872809065,
          "median": 0.00011098799925311749,
          "min": 0.00010337055977814434
         },
         {
          "NAAM_N2K": "Oosterschelde",
          "OBJECTID": 123,
          "date": "2019-07-30T00:00:00",
          "geometry": null,
          "id": "197_0000000000000000001d",
          "max": 9.474770036909024e-05,
          "median": 9.474770036909024e-05,
          "min": 8.894306675410298e-05
         },
         {
          "NAAM_N2K": "Veluwe",
          "OBJECTID": 194,
          "date": "2019-08-01T00:00:00",
          "geometry": null,
          "id": "198_00000000000000000064",
          "max": 0.0001499505837462429,
          "median": 0.00014857099745087558,
          "min": 0.00012327479572339986
         },
         {
          "NAAM_N2K": "Biesbosch",
          "OBJECTID": 14,
          "date": "2019-08-01T00:00:00",
          "geometry": null,
          "id": "198_00000000000000000081",
          "max": 0.0001019632299399389,
          "median": 0.0001019632299399389,
          "min": 0.0001019632299399389
         },
         {
          "NAAM_N2K": "Waddenzee",
          "OBJECTID": 201,
          "date": "2019-08-01T00:00:00",
          "geometry": null,
          "id": "198_0000000000000000006b",
          "max": 0.00010549051935449086,
          "median": 0.00010549051935449086,
          "min": 0.00010427740379096069
         },
         {
          "NAAM_N2K": "Rijntakken",
          "OBJECTID": 195,
          "date": "2019-08-01T00:00:00",
          "geometry": null,
          "id": "198_00000000000000000065",
          "max": 0.0001499505837462429,
          "median": 0.00012327479572339986,
          "min": 0.00011166390862430095
         },
         {
          "NAAM_N2K": "Weerribben",
          "OBJECTID": 200,
          "date": "2019-08-01T00:00:00",
          "geometry": null,
          "id": "198_0000000000000000006a",
          "max": 0.00013488790259725913,
          "median": 0.0001329938408095322,
          "min": 0.00013109977902180526
         },
         {
          "NAAM_N2K": "Oosterschelde",
          "OBJECTID": 123,
          "date": "2019-08-01T00:00:00",
          "geometry": null,
          "id": "198_0000000000000000001d",
          "max": 9.208087881747802e-05,
          "median": 8.546412541342049e-05,
          "min": 8.31172112153062e-05
         },
         {
          "NAAM_N2K": "Veluwe",
          "OBJECTID": 194,
          "date": "2019-08-03T00:00:00",
          "geometry": null,
          "id": "199_00000000000000000064",
          "max": 9.330997665722053e-05,
          "median": 9.109888159364925e-05,
          "min": 8.635239432504533e-05
         },
         {
          "NAAM_N2K": "Biesbosch",
          "OBJECTID": 14,
          "date": "2019-08-03T00:00:00",
          "geometry": null,
          "id": "199_00000000000000000081",
          "max": 8.98552575445304e-05,
          "median": 8.98552575445304e-05,
          "min": 8.98552575445304e-05
         },
         {
          "NAAM_N2K": "Waddenzee",
          "OBJECTID": 201,
          "date": "2019-08-03T00:00:00",
          "geometry": null,
          "id": "199_0000000000000000006b",
          "max": 8.104140955966382e-05,
          "median": 7.935446995212302e-05,
          "min": 7.935446995212302e-05
         },
         {
          "NAAM_N2K": "Rijntakken",
          "OBJECTID": 195,
          "date": "2019-08-03T00:00:00",
          "geometry": null,
          "id": "199_00000000000000000065",
          "max": 9.828502468195545e-05,
          "median": 9.220091213583483e-05,
          "min": 8.983851236543396e-05
         },
         {
          "NAAM_N2K": "Weerribben",
          "OBJECTID": 200,
          "date": "2019-08-03T00:00:00",
          "geometry": null,
          "id": "199_0000000000000000006a",
          "max": 8.894742062419284e-05,
          "median": 8.587089750313235e-05,
          "min": 8.279437438207186e-05
         },
         {
          "NAAM_N2K": "Oosterschelde",
          "OBJECTID": 123,
          "date": "2019-08-03T00:00:00",
          "geometry": null,
          "id": "199_0000000000000000001d",
          "max": 0.00011138745296513828,
          "median": 8.655446330164347e-05,
          "min": 8.655446330164347e-05
         },
         {
          "NAAM_N2K": "Veluwe",
          "OBJECTID": 194,
          "date": "2019-08-05T00:00:00",
          "geometry": null,
          "id": "200_00000000000000000064",
          "max": 0.0001283451828269551,
          "median": 0.00011354780733677224,
          "min": 0.00010602838266601936
         },
         {
          "NAAM_N2K": "Biesbosch",
          "OBJECTID": 14,
          "date": "2019-08-05T00:00:00",
          "geometry": null,
          "id": "200_00000000000000000081",
          "max": 0.00011537130793365534,
          "median": 0.00011537130793365534,
          "min": 0.00011537130793365534
         },
         {
          "NAAM_N2K": "Waddenzee",
          "OBJECTID": 201,
          "date": "2019-08-05T00:00:00",
          "geometry": null,
          "id": "200_0000000000000000006b",
          "max": 0.00013301351093113886,
          "median": 0.00011961001777075084,
          "min": 0.00011961001777075084
         },
         {
          "NAAM_N2K": "Rijntakken",
          "OBJECTID": 195,
          "date": "2019-08-05T00:00:00",
          "geometry": null,
          "id": "200_00000000000000000065",
          "max": 0.00014784192117362618,
          "median": 0.00011354780733677224,
          "min": 0.00010865570235548597
         },
         {
          "NAAM_N2K": "Weerribben",
          "OBJECTID": 200,
          "date": "2019-08-05T00:00:00",
          "geometry": null,
          "id": "200_0000000000000000006a",
          "max": 0.00011189144933471228,
          "median": 0.00011025003141873664,
          "min": 0.00010860861350276102
         },
         {
          "NAAM_N2K": "Oosterschelde",
          "OBJECTID": 123,
          "date": "2019-08-05T00:00:00",
          "geometry": null,
          "id": "200_0000000000000000001d",
          "max": 0.00014904071634446277,
          "median": 0.00011194202659263553,
          "min": 0.00010184139813575543
         },
         {
          "NAAM_N2K": "Veluwe",
          "OBJECTID": 194,
          "date": "2019-08-07T00:00:00",
          "geometry": null,
          "id": "201_00000000000000000064",
          "max": 0.00011457332667585512,
          "median": 0.00010792624351833887,
          "min": 9.785939022792956e-05
         },
         {
          "NAAM_N2K": "Biesbosch",
          "OBJECTID": 14,
          "date": "2019-08-07T00:00:00",
          "geometry": null,
          "id": "201_00000000000000000081",
          "max": 9.730816656720814e-05,
          "median": 9.730816656720814e-05,
          "min": 9.730816656720814e-05
         },
         {
          "NAAM_N2K": "Waddenzee",
          "OBJECTID": 201,
          "date": "2019-08-07T00:00:00",
          "geometry": null,
          "id": "201_0000000000000000006b",
          "max": 8.503313417577167e-05,
          "median": 8.397174569202099e-05,
          "min": 8.397174569202099e-05
         },
         {
          "NAAM_N2K": "Rijntakken",
          "OBJECTID": 195,
          "date": "2019-08-07T00:00:00",
          "geometry": null,
          "id": "201_00000000000000000065",
          "max": 0.00011418254535502813,
          "median": 0.00010677361857727724,
          "min": 0.0001024555505743104
         },
         {
          "NAAM_N2K": "Weerribben",
          "OBJECTID": 200,
          "date": "2019-08-07T00:00:00",
          "geometry": null,
          "id": "201_0000000000000000006a",
          "max": 9.42967870175644e-05,
          "median": 9.308123247969084e-05,
          "min": 9.186567794181728e-05
         },
         {
          "NAAM_N2K": "Oosterschelde",
          "OBJECTID": 123,
          "date": "2019-08-07T00:00:00",
          "geometry": null,
          "id": "201_0000000000000000001d",
          "max": 0.0001224238987673079,
          "median": 9.244668747337173e-05,
          "min": 9.244668747337173e-05
         },
         {
          "NAAM_N2K": "Veluwe",
          "OBJECTID": 194,
          "date": "2019-08-09T00:00:00",
          "geometry": null,
          "id": "202_00000000000000000064",
          "max": 8.69544762242219e-05,
          "median": 8.287187501040841e-05,
          "min": 7.72979512622775e-05
         },
         {
          "NAAM_N2K": "Biesbosch",
          "OBJECTID": 14,
          "date": "2019-08-09T00:00:00",
          "geometry": null,
          "id": "202_00000000000000000081",
          "max": 0.00014941408477151243,
          "median": 0.00014941408477151243,
          "min": 0.00014941408477151243
         },
         {
          "NAAM_N2K": "Waddenzee",
          "OBJECTID": 201,
          "date": "2019-08-09T00:00:00",
          "geometry": null,
          "id": "202_0000000000000000006b",
          "max": 7.910548216321266e-05,
          "median": 7.485705944664764e-05,
          "min": 7.485705944664764e-05
         },
         {
          "NAAM_N2K": "Rijntakken",
          "OBJECTID": 195,
          "date": "2019-08-09T00:00:00",
          "geometry": null,
          "id": "202_00000000000000000065",
          "max": 9.102958553918468e-05,
          "median": 8.20046242729158e-05,
          "min": 7.649408109330265e-05
         },
         {
          "NAAM_N2K": "Weerribben",
          "OBJECTID": 200,
          "date": "2019-08-09T00:00:00",
          "geometry": null,
          "id": "202_0000000000000000006a",
          "max": 8.349349033758566e-05,
          "median": 8.135440604981723e-05,
          "min": 7.92153217620488e-05
         },
         {
          "NAAM_N2K": "Oosterschelde",
          "OBJECTID": 123,
          "date": "2019-08-09T00:00:00",
          "geometry": null,
          "id": "202_0000000000000000001d",
          "max": 0.00013420442358225376,
          "median": 0.00010351307836207506,
          "min": 0.00010351307836207506
         },
         {
          "NAAM_N2K": "Veluwe",
          "OBJECTID": 194,
          "date": "2019-08-11T00:00:00",
          "geometry": null,
          "id": "203_00000000000000000064",
          "max": 0.0001167240028918385,
          "median": 0.00010164159011459158,
          "min": 9.361221270690924e-05
         },
         {
          "NAAM_N2K": "Biesbosch",
          "OBJECTID": 14,
          "date": "2019-08-11T00:00:00",
          "geometry": null,
          "id": "203_00000000000000000081",
          "max": 0.00013566226890737831,
          "median": 0.00013566226890737831,
          "min": 0.00013566226890737831
         },
         {
          "NAAM_N2K": "Waddenzee",
          "OBJECTID": 201,
          "date": "2019-08-11T00:00:00",
          "geometry": null,
          "id": "203_0000000000000000006b",
          "max": 0.00011422247880965705,
          "median": 0.00011422247880965705,
          "min": 0.00011232358909375136
         },
         {
          "NAAM_N2K": "Rijntakken",
          "OBJECTID": 195,
          "date": "2019-08-11T00:00:00",
          "geometry": null,
          "id": "203_00000000000000000065",
          "max": 0.00012818024707051873,
          "median": 9.994600440034656e-05,
          "min": 8.933623365787129e-05
         },
         {
          "NAAM_N2K": "Weerribben",
          "OBJECTID": 200,
          "date": "2019-08-11T00:00:00",
          "geometry": null,
          "id": "203_0000000000000000006a",
          "max": 0.00010343929971712147,
          "median": 0.00010248038526217356,
          "min": 0.00010152147080722565
         },
         {
          "NAAM_N2K": "Oosterschelde",
          "OBJECTID": 123,
          "date": "2019-08-11T00:00:00",
          "geometry": null,
          "id": "203_0000000000000000001d",
          "max": 0.00010933642875195917,
          "median": 0.0001013695764689082,
          "min": 0.0001013695764689082
         },
         {
          "NAAM_N2K": "Veluwe",
          "OBJECTID": 194,
          "date": "2019-08-13T00:00:00",
          "geometry": null,
          "id": "204_00000000000000000064",
          "max": 0.00014727708084718086,
          "median": 0.00011807625448614423,
          "min": 9.88862057322069e-05
         },
         {
          "NAAM_N2K": "Biesbosch",
          "OBJECTID": 14,
          "date": "2019-08-13T00:00:00",
          "geometry": null,
          "id": "204_00000000000000000081",
          "max": 0.00011547502666456501,
          "median": 0.00011547502666456501,
          "min": 0.00011547502666456501
         },
         {
          "NAAM_N2K": "Waddenzee",
          "OBJECTID": 201,
          "date": "2019-08-13T00:00:00",
          "geometry": null,
          "id": "204_0000000000000000006b",
          "max": 0.00011077192179190408,
          "median": 0.00011077192179190408,
          "min": 9.772535604034901e-05
         },
         {
          "NAAM_N2K": "Rijntakken",
          "OBJECTID": 195,
          "date": "2019-08-13T00:00:00",
          "geometry": null,
          "id": "204_00000000000000000065",
          "max": 0.0001376348892513623,
          "median": 0.00011807625448614423,
          "min": 9.88862057322069e-05
         },
         {
          "NAAM_N2K": "Weerribben",
          "OBJECTID": 200,
          "date": "2019-08-13T00:00:00",
          "geometry": null,
          "id": "204_0000000000000000006a",
          "max": 0.00011013283971117964,
          "median": 0.00010394358004576425,
          "min": 9.775432038034885e-05
         },
         {
          "NAAM_N2K": "Oosterschelde",
          "OBJECTID": 123,
          "date": "2019-08-13T00:00:00",
          "geometry": null,
          "id": "204_0000000000000000001d",
          "max": 0.00011184152612068543,
          "median": 8.149284340747836e-05,
          "min": 8.149284340747836e-05
         },
         {
          "NAAM_N2K": "Veluwe",
          "OBJECTID": 194,
          "date": "2019-08-15T00:00:00",
          "geometry": null,
          "id": "205_00000000000000000064",
          "max": 0.0001795004434386052,
          "median": 0.0001458863154746571,
          "min": 8.243821309924657e-05
         },
         {
          "NAAM_N2K": "Biesbosch",
          "OBJECTID": 14,
          "date": "2019-08-15T00:00:00",
          "geometry": null,
          "id": "205_00000000000000000081",
          "max": 0.00010089189497019788,
          "median": 0.00010089189497019788,
          "min": 0.00010089189497019788
         },
         {
          "NAAM_N2K": "Waddenzee",
          "OBJECTID": 201,
          "date": "2019-08-15T00:00:00",
          "geometry": null,
          "id": "205_0000000000000000006b",
          "max": 0.00010430720116802925,
          "median": 9.782668436449942e-05,
          "min": 9.782668436449942e-05
         },
         {
          "NAAM_N2K": "Rijntakken",
          "OBJECTID": 195,
          "date": "2019-08-15T00:00:00",
          "geometry": null,
          "id": "205_00000000000000000065",
          "max": 0.00011913722512645672,
          "median": 9.828495243974659e-05,
          "min": 8.243821309924657e-05
         },
         {
          "NAAM_N2K": "Weerribben",
          "OBJECTID": 200,
          "date": "2019-08-15T00:00:00",
          "geometry": null,
          "id": "205_0000000000000000006a",
          "max": 0.00010374618017028272,
          "median": 9.938077986451125e-05,
          "min": 9.50153795587398e-05
         },
         {
          "NAAM_N2K": "Oosterschelde",
          "OBJECTID": 123,
          "date": "2019-08-15T00:00:00",
          "geometry": null,
          "id": "205_0000000000000000001d",
          "max": 0.00010597074924393308,
          "median": 8.807952524149686e-05,
          "min": 8.78160740164702e-05
         },
         {
          "NAAM_N2K": "Veluwe",
          "OBJECTID": 194,
          "date": "2019-08-17T00:00:00",
          "geometry": null,
          "id": "206_00000000000000000064",
          "max": 0.00021519605921691218,
          "median": 0.00013813686069656563,
          "min": 0.000132926621618847
         },
         {
          "NAAM_N2K": "Biesbosch",
          "OBJECTID": 14,
          "date": "2019-08-17T00:00:00",
          "geometry": null,
          "id": "206_00000000000000000081",
          "max": 0.00011128035368590874,
          "median": 0.00011128035368590874,
          "min": 0.00011128035368590874
         },
         {
          "NAAM_N2K": "Waddenzee",
          "OBJECTID": 201,
          "date": "2019-08-17T00:00:00",
          "geometry": null,
          "id": "206_0000000000000000006b",
          "max": 0.00012463421173892006,
          "median": 0.00012463421173892006,
          "min": 0.00010476337547929525
         },
         {
          "NAAM_N2K": "Rijntakken",
          "OBJECTID": 195,
          "date": "2019-08-17T00:00:00",
          "geometry": null,
          "id": "206_00000000000000000065",
          "max": 0.0002159830744078915,
          "median": 0.00015371853393776722,
          "min": 0.000132926621618847
         },
         {
          "NAAM_N2K": "Weerribben",
          "OBJECTID": 200,
          "date": "2019-08-17T00:00:00",
          "geometry": null,
          "id": "206_0000000000000000006a",
          "max": 0.0001274767492383807,
          "median": 0.00011263709456928555,
          "min": 9.779743990019038e-05
         },
         {
          "NAAM_N2K": "Oosterschelde",
          "OBJECTID": 123,
          "date": "2019-08-17T00:00:00",
          "geometry": null,
          "id": "206_0000000000000000001d",
          "max": 0.00014923800083713618,
          "median": 8.389934311466422e-05,
          "min": 8.389934311466422e-05
         },
         {
          "NAAM_N2K": "Veluwe",
          "OBJECTID": 194,
          "date": "2019-08-19T00:00:00",
          "geometry": null,
          "id": "207_00000000000000000064",
          "max": 0.00011339923170096986,
          "median": 0.00010069790753663439,
          "min": 9.657430564521057e-05
         },
         {
          "NAAM_N2K": "Biesbosch",
          "OBJECTID": 14,
          "date": "2019-08-19T00:00:00",
          "geometry": null,
          "id": "207_00000000000000000081",
          "max": 0.0001072406084974013,
          "median": 0.0001072406084974013,
          "min": 0.0001072406084974013
         },
         {
          "NAAM_N2K": "Waddenzee",
          "OBJECTID": 201,
          "date": "2019-08-19T00:00:00",
          "geometry": null,
          "id": "207_0000000000000000006b",
          "max": 0.00010541398985232532,
          "median": 0.00010073604390229004,
          "min": 0.00010073604390229004
         },
         {
          "NAAM_N2K": "Rijntakken",
          "OBJECTID": 195,
          "date": "2019-08-19T00:00:00",
          "geometry": null,
          "id": "207_00000000000000000065",
          "max": 0.00011339923170096986,
          "median": 0.00010417851318884258,
          "min": 9.41295313164885e-05
         },
         {
          "NAAM_N2K": "Weerribben",
          "OBJECTID": 200,
          "date": "2019-08-19T00:00:00",
          "geometry": null,
          "id": "207_0000000000000000006a",
          "max": 0.00010683146146169082,
          "median": 0.00010659855388028006,
          "min": 0.00010636564629886928
         },
         {
          "NAAM_N2K": "Oosterschelde",
          "OBJECTID": 123,
          "date": "2019-08-19T00:00:00",
          "geometry": null,
          "id": "207_0000000000000000001d",
          "max": 9.937599093170048e-05,
          "median": 9.123460203987886e-05,
          "min": 9.123460203987886e-05
         },
         {
          "NAAM_N2K": "Veluwe",
          "OBJECTID": 194,
          "date": "2019-08-21T00:00:00",
          "geometry": null,
          "id": "208_00000000000000000064",
          "max": 0.00016719779167450046,
          "median": 0.00011643743963983693,
          "min": 0.00011470726191010244
         },
         {
          "NAAM_N2K": "Biesbosch",
          "OBJECTID": 14,
          "date": "2019-08-21T00:00:00",
          "geometry": null,
          "id": "208_00000000000000000081",
          "max": 0.0001240068315350451,
          "median": 0.0001240068315350451,
          "min": 0.0001240068315350451
         },
         {
          "NAAM_N2K": "Waddenzee",
          "OBJECTID": 201,
          "date": "2019-08-21T00:00:00",
          "geometry": null,
          "id": "208_0000000000000000006b",
          "max": 0.00012430792912606926,
          "median": 0.00012430792912606926,
          "min": 0.00011402312860222234
         },
         {
          "NAAM_N2K": "Rijntakken",
          "OBJECTID": 195,
          "date": "2019-08-21T00:00:00",
          "geometry": null,
          "id": "208_00000000000000000065",
          "max": 0.0001481368902308603,
          "median": 0.00012058787807608392,
          "min": 0.00010438821363995893
         },
         {
          "NAAM_N2K": "Weerribben",
          "OBJECTID": 200,
          "date": "2019-08-21T00:00:00",
          "geometry": null,
          "id": "208_0000000000000000006a",
          "max": 0.00015189737833087697,
          "median": 0.00014941221817611706,
          "min": 0.00014692705802135718
         },
         {
          "NAAM_N2K": "Oosterschelde",
          "OBJECTID": 123,
          "date": "2019-08-21T00:00:00",
          "geometry": null,
          "id": "208_0000000000000000001d",
          "max": 0.000191884811740793,
          "median": 0.00013785649596466683,
          "min": 0.00012764069180138814
         },
         {
          "NAAM_N2K": "Veluwe",
          "OBJECTID": 194,
          "date": "2019-08-23T00:00:00",
          "geometry": null,
          "id": "209_00000000000000000064",
          "max": 0.00016475230633340135,
          "median": 0.0001146809479381356,
          "min": 0.00010159152781202527
         },
         {
          "NAAM_N2K": "Biesbosch",
          "OBJECTID": 14,
          "date": "2019-08-23T00:00:00",
          "geometry": null,
          "id": "209_00000000000000000081",
          "max": 0.00016950755171508904,
          "median": 0.00016950755171508904,
          "min": 0.00016950755171508904
         },
         {
          "NAAM_N2K": "Waddenzee",
          "OBJECTID": 201,
          "date": "2019-08-23T00:00:00",
          "geometry": null,
          "id": "209_0000000000000000006b",
          "max": 0.00010487558588161376,
          "median": 0.00010487558588161376,
          "min": 0.0001016413571787714
         },
         {
          "NAAM_N2K": "Rijntakken",
          "OBJECTID": 195,
          "date": "2019-08-23T00:00:00",
          "geometry": null,
          "id": "209_00000000000000000065",
          "max": 0.00016475230633340135,
          "median": 0.0001420741711582259,
          "min": 0.000105363216886939
         },
         {
          "NAAM_N2K": "Weerribben",
          "OBJECTID": 200,
          "date": "2019-08-23T00:00:00",
          "geometry": null,
          "id": "209_0000000000000000006a",
          "max": 0.0001047895915118247,
          "median": 0.00010408754183641056,
          "min": 0.00010338549216099642
         },
         {
          "NAAM_N2K": "Oosterschelde",
          "OBJECTID": 123,
          "date": "2019-08-23T00:00:00",
          "geometry": null,
          "id": "209_0000000000000000001d",
          "max": 0.00023342595502617004,
          "median": 0.0001384038341443042,
          "min": 0.0001384038341443042
         },
         {
          "NAAM_N2K": "Veluwe",
          "OBJECTID": 194,
          "date": "2019-08-25T00:00:00",
          "geometry": null,
          "id": "210_00000000000000000064",
          "max": 0.0001173597966913309,
          "median": 0.00010328703545702298,
          "min": 9.842825927428276e-05
         },
         {
          "NAAM_N2K": "Biesbosch",
          "OBJECTID": 14,
          "date": "2019-08-25T00:00:00",
          "geometry": null,
          "id": "210_00000000000000000081",
          "max": 0.00011892486201433837,
          "median": 0.00011892486201433837,
          "min": 0.00011892486201433837
         },
         {
          "NAAM_N2K": "Waddenzee",
          "OBJECTID": 201,
          "date": "2019-08-25T00:00:00",
          "geometry": null,
          "id": "210_0000000000000000006b",
          "max": 9.699106982452106e-05,
          "median": 9.339079249360691e-05,
          "min": 9.339079249360691e-05
         },
         {
          "NAAM_N2K": "Rijntakken",
          "OBJECTID": 195,
          "date": "2019-08-25T00:00:00",
          "geometry": null,
          "id": "210_00000000000000000065",
          "max": 0.00012698466702769367,
          "median": 0.00010974534899234269,
          "min": 9.942642525472254e-05
         },
         {
          "NAAM_N2K": "Weerribben",
          "OBJECTID": 200,
          "date": "2019-08-25T00:00:00",
          "geometry": null,
          "id": "210_0000000000000000006a",
          "max": 0.0001081555664219336,
          "median": 0.00010368146462985805,
          "min": 9.920736283778248e-05
         },
         {
          "NAAM_N2K": "Oosterschelde",
          "OBJECTID": 123,
          "date": "2019-08-25T00:00:00",
          "geometry": null,
          "id": "210_0000000000000000001d",
          "max": 0.00022577360828928854,
          "median": 0.0001370892448483713,
          "min": 0.0001282333603746813
         },
         {
          "NAAM_N2K": "Veluwe",
          "OBJECTID": 194,
          "date": "2019-08-27T00:00:00",
          "geometry": null,
          "id": "211_00000000000000000064",
          "max": 0.0001544529225138302,
          "median": 0.00013762140503269758,
          "min": 0.00012066077812837955
         },
         {
          "NAAM_N2K": "Biesbosch",
          "OBJECTID": 14,
          "date": "2019-08-27T00:00:00",
          "geometry": null,
          "id": "211_00000000000000000081",
          "max": 0.00014399949791592465,
          "median": 0.00014399949791592465,
          "min": 0.00014399949791592465
         },
         {
          "NAAM_N2K": "Waddenzee",
          "OBJECTID": 201,
          "date": "2019-08-27T00:00:00",
          "geometry": null,
          "id": "211_0000000000000000006b",
          "max": 0.0001145542950571596,
          "median": 0.00011051300092765607,
          "min": 0.00011051300092765607
         },
         {
          "NAAM_N2K": "Rijntakken",
          "OBJECTID": 195,
          "date": "2019-08-27T00:00:00",
          "geometry": null,
          "id": "211_00000000000000000065",
          "max": 0.0001617010338285753,
          "median": 0.0001303917478256338,
          "min": 0.00012066077812837955
         },
         {
          "NAAM_N2K": "Weerribben",
          "OBJECTID": 200,
          "date": "2019-08-27T00:00:00",
          "geometry": null,
          "id": "211_0000000000000000006a",
          "max": 0.00012554251944370726,
          "median": 0.00012097345417123333,
          "min": 0.0001164043888987594
         },
         {
          "NAAM_N2K": "Oosterschelde",
          "OBJECTID": 123,
          "date": "2019-08-27T00:00:00",
          "geometry": null,
          "id": "211_0000000000000000001d",
          "max": 0.00021810097104015723,
          "median": 0.00013954384592108077,
          "min": 0.00013699483702897506
         },
         {
          "NAAM_N2K": "Veluwe",
          "OBJECTID": 194,
          "date": "2019-08-29T00:00:00",
          "geometry": null,
          "id": "212_00000000000000000064",
          "max": 0.00015627575017059233,
          "median": 0.0001282397756298579,
          "min": 0.00011234920580925693
         },
         {
          "NAAM_N2K": "Biesbosch",
          "OBJECTID": 14,
          "date": "2019-08-29T00:00:00",
          "geometry": null,
          "id": "212_00000000000000000081",
          "max": 0.00011569050301069538,
          "median": 0.00011569050301069538,
          "min": 0.00011569050301069538
         },
         {
          "NAAM_N2K": "Waddenzee",
          "OBJECTID": 201,
          "date": "2019-08-29T00:00:00",
          "geometry": null,
          "id": "212_0000000000000000006b",
          "max": 0.0001056829884340172,
          "median": 0.0001056829884340172,
          "min": 0.00010333315061897607
         },
         {
          "NAAM_N2K": "Rijntakken",
          "OBJECTID": 195,
          "date": "2019-08-29T00:00:00",
          "geometry": null,
          "id": "212_00000000000000000065",
          "max": 0.00013638092565570754,
          "median": 0.0001246583209498322,
          "min": 0.00011213791629057785
         },
         {
          "NAAM_N2K": "Weerribben",
          "OBJECTID": 200,
          "date": "2019-08-29T00:00:00",
          "geometry": null,
          "id": "212_0000000000000000006a",
          "max": 0.00013347469439661504,
          "median": 0.00013201654562472874,
          "min": 0.00013055839685284244
         },
         {
          "NAAM_N2K": "Oosterschelde",
          "OBJECTID": 123,
          "date": "2019-08-29T00:00:00",
          "geometry": null,
          "id": "212_0000000000000000001d",
          "max": 0.0001195478904290338,
          "median": 9.340991796423803e-05,
          "min": 8.852855152353442e-05
         },
         {
          "NAAM_N2K": "Veluwe",
          "OBJECTID": 194,
          "date": "2019-08-31T00:00:00",
          "geometry": null,
          "id": "213_00000000000000000064",
          "max": 0.00011092485034625463,
          "median": 0.00010031288834761305,
          "min": 8.897160270296706e-05
         },
         {
          "NAAM_N2K": "Biesbosch",
          "OBJECTID": 14,
          "date": "2019-08-31T00:00:00",
          "geometry": null,
          "id": "213_00000000000000000081",
          "max": 0.00010060285601626484,
          "median": 0.00010060285601626484,
          "min": 0.00010060285601626484
         },
         {
          "NAAM_N2K": "Waddenzee",
          "OBJECTID": 201,
          "date": "2019-08-31T00:00:00",
          "geometry": null,
          "id": "213_0000000000000000006b",
          "max": 0.00010662992871549403,
          "median": 0.00010174407144397703,
          "min": 0.00010174407144397703
         },
         {
          "NAAM_N2K": "Rijntakken",
          "OBJECTID": 195,
          "date": "2019-08-31T00:00:00",
          "geometry": null,
          "id": "213_00000000000000000065",
          "max": 0.00011588707530146788,
          "median": 0.00010561089571476274,
          "min": 9.743711968639729e-05
         },
         {
          "NAAM_N2K": "Weerribben",
          "OBJECTID": 200,
          "date": "2019-08-31T00:00:00",
          "geometry": null,
          "id": "213_0000000000000000006a",
          "max": 0.00011424370351125161,
          "median": 0.000104447863119293,
          "min": 9.465202272733439e-05
         },
         {
          "NAAM_N2K": "Oosterschelde",
          "OBJECTID": 123,
          "date": "2019-08-31T00:00:00",
          "geometry": null,
          "id": "213_0000000000000000001d",
          "max": 0.0001064222519735118,
          "median": 8.118380160026215e-05,
          "min": 8.118380160026215e-05
         },
         {
          "NAAM_N2K": "Veluwe",
          "OBJECTID": 194,
          "date": "2019-09-02T00:00:00",
          "geometry": null,
          "id": "214_00000000000000000064",
          "max": 0.00011539179921036166,
          "median": 0.0001069322440836842,
          "min": 8.483391466824043e-05
         },
         {
          "NAAM_N2K": "Biesbosch",
          "OBJECTID": 14,
          "date": "2019-09-02T00:00:00",
          "geometry": null,
          "id": "214_00000000000000000081",
          "max": 9.308589323731996e-05,
          "median": 9.308589323731996e-05,
          "min": 9.308589323731996e-05
         },
         {
          "NAAM_N2K": "Waddenzee",
          "OBJECTID": 201,
          "date": "2019-09-02T00:00:00",
          "geometry": null,
          "id": "214_0000000000000000006b",
          "max": 7.383751103077308e-05,
          "median": 7.212688808816393e-05,
          "min": 7.212688808816393e-05
         },
         {
          "NAAM_N2K": "Rijntakken",
          "OBJECTID": 195,
          "date": "2019-09-02T00:00:00",
          "geometry": null,
          "id": "214_00000000000000000065",
          "max": 0.00011539179921036166,
          "median": 0.00010358051355306925,
          "min": 8.483391466824043e-05
         },
         {
          "NAAM_N2K": "Weerribben",
          "OBJECTID": 200,
          "date": "2019-09-02T00:00:00",
          "geometry": null,
          "id": "214_0000000000000000006a",
          "max": 7.88149204328893e-05,
          "median": 7.722990826027892e-05,
          "min": 7.564489608766853e-05
         },
         {
          "NAAM_N2K": "Oosterschelde",
          "OBJECTID": 123,
          "date": "2019-09-02T00:00:00",
          "geometry": null,
          "id": "214_0000000000000000001d",
          "max": 0.0001020017778277991,
          "median": 8.237981748972624e-05,
          "min": 8.237981748972624e-05
         }
        ]
       },
       "facet": {
        "field": "NAAM_N2K",
        "title": "Troposferische stikstof over Natura2000 gebieden",
        "type": "nominal"
       },
       "spec": {
        "encoding": {
         "color": {
          "field": "NAAM_N2K",
          "legend": {
           "title": "Natura2000 gebied"
          },
          "type": "nominal"
         },
         "x": {
          "field": "date",
          "type": "temporal"
         },
         "y": {
          "field": "median",
          "title": "NO₂ mol/m²",
          "type": "quantitative"
         }
        },
        "height": 100,
        "mark": "line"
       }
      },
      "image/png": "[encoded data removed]",
      "text/plain": [
       "<VegaLite 3 object>\n",
       "\n",
       "If you see this message, it means the renderer has not been properly enabled\n",
       "for the frontend that you are using. For more information, see\n",
       "https://altair-viz.github.io/user_guide/troubleshooting.html\n"
      ]
     },
     "execution_count": 71,
     "metadata": {},
     "output_type": "execute_result"
    }
   ],
   "source": [
    "chart = alt.Chart(df_sel, height=100).mark_line().encode(\n",
    "    x='date:T',\n",
    "    y=alt.Y('median:Q', title='NO₂ mol/m²'),\n",
    "    color=alt.Color('NAAM_N2K:N', legend=alt.Legend(title='Natura2000 gebied')),\n",
    ").interactive(bind_x=False, )\n",
    "\n",
    "nearest = alt.selection_single(on=\"mouseover\", nearest=True, empty='none')\n",
    "rule = base.mark_rule().encode(\n",
    "    color=alt.condition(nearest, alt.value('black'), alt.value('transparent'))\n",
    ").add_selection(\n",
    "    nearest\n",
    ")\n",
    "\n",
    "\n",
    "chart.facet(facet=alt.Facet('NAAM_N2K:N', title='Troposferische stikstof over Natura2000 gebieden'), columns=2)"
   ]
  },
  {
   "cell_type": "code",
   "execution_count": null,
   "metadata": {},
   "outputs": [],
   "source": [
    "data = pd.merge(gdf, geom[['geometry', 'NAAM_N2K']], how='inner', on='NAAM_N2K', suffixes=('_x',''))"
   ]
  },
  {
   "cell_type": "code",
   "execution_count": null,
   "metadata": {},
   "outputs": [],
   "source": [
    "from shapely.geometry.base import BaseMultipartGeometry\n",
    "from shapely.geometry.polygon import orient as orient_\n",
    "from shapely.geometry import Polygon\n",
    "\n",
    "def orient(geom, sign=1.0):\n",
    "    if isinstance(geom, BaseMultipartGeometry):\n",
    "        return geom.__class__(\n",
    "            list(\n",
    "                map(\n",
    "                    lambda geom: orient(geom, sign),\n",
    "                    geom.geoms,\n",
    "                )\n",
    "            )\n",
    "        )\n",
    "    if isinstance(geom, (Polygon,)):\n",
    "        return orient_(geom, sign)\n",
    "    return geom"
   ]
  },
  {
   "cell_type": "code",
   "execution_count": null,
   "metadata": {},
   "outputs": [],
   "source": [
    "data.geometry = data.geometry.apply(orient, args=(-1,))"
   ]
  },
  {
   "cell_type": "code",
   "execution_count": null,
   "metadata": {},
   "outputs": [],
   "source": [
    "data.head()"
   ]
  },
  {
   "cell_type": "code",
   "execution_count": null,
   "metadata": {},
   "outputs": [],
   "source": []
  }
 ],
 "metadata": {
  "kernelspec": {
   "display_name": "Python 3",
   "language": "python",
   "name": "python3"
  },
  "language_info": {
   "codemirror_mode": {
    "name": "ipython",
    "version": 3
   },
   "file_extension": ".py",
   "mimetype": "text/x-python",
   "name": "python",
   "nbconvert_exporter": "python",
   "pygments_lexer": "ipython3",
   "version": "3.6.5"
  }
 },
 "nbformat": 4,
 "nbformat_minor": 4
}
