{
 "cells": [
  {
   "cell_type": "code",
   "execution_count": 1,
   "metadata": {},
   "outputs": [],
   "source": [
    "from osgeo import gdal\n",
    "from glob import glob"
   ]
  },
  {
   "cell_type": "code",
   "execution_count": 2,
   "metadata": {},
   "outputs": [
    {
     "data": {
      "text/plain": [
       "['D:\\\\Projects\\\\Pr\\\\3915.10\\\\Data_Viewer\\\\Tiff_Overstroming\\\\kaart_rekenpeil_+4.5meter.tif',\n",
       " 'D:\\\\Projects\\\\Pr\\\\3915.10\\\\Data_Viewer\\\\Tiff_Overstroming\\\\kaart_rekenpeil_+4.75meter.tif',\n",
       " 'D:\\\\Projects\\\\Pr\\\\3915.10\\\\Data_Viewer\\\\Tiff_Overstroming\\\\kaart_rekenpeil_+5.0meter.tif',\n",
       " 'D:\\\\Projects\\\\Pr\\\\3915.10\\\\Data_Viewer\\\\Tiff_Overstroming\\\\kaart_rekenpeil_+5.25meter.tif',\n",
       " 'D:\\\\Projects\\\\Pr\\\\3915.10\\\\Data_Viewer\\\\Tiff_Overstroming\\\\kaart_rekenpeil_+5.5meter.tif',\n",
       " 'D:\\\\Projects\\\\Pr\\\\3915.10\\\\Data_Viewer\\\\Tiff_Overstroming\\\\kaart_rekenpeil_+5.75meter.tif',\n",
       " 'D:\\\\Projects\\\\Pr\\\\3915.10\\\\Data_Viewer\\\\Tiff_Overstroming\\\\kaart_rekenpeil_+6.0meter.tif',\n",
       " 'D:\\\\Projects\\\\Pr\\\\3915.10\\\\Data_Viewer\\\\Tiff_Overstroming\\\\kaart_rekenpeil_+6.25meter.tif',\n",
       " 'D:\\\\Projects\\\\Pr\\\\3915.10\\\\Data_Viewer\\\\Tiff_Overstroming\\\\kaart_rekenpeil_+6.75meter.tif',\n",
       " 'D:\\\\Projects\\\\Pr\\\\3915.10\\\\Data_Viewer\\\\Tiff_Overstroming\\\\kaart_rekenpeil_+7.0meter.tif',\n",
       " 'D:\\\\Projects\\\\Pr\\\\3915.10\\\\Data_Viewer\\\\Tiff_Overstroming\\\\kaart_rekenpeil_+7.25meter.tif',\n",
       " 'D:\\\\Projects\\\\Pr\\\\3915.10\\\\Data_Viewer\\\\Tiff_Overstroming\\\\kaart_rekenpeil_+7.5meter.tif',\n",
       " 'D:\\\\Projects\\\\Pr\\\\3915.10\\\\Data_Viewer\\\\Tiff_Overstroming\\\\kaart_rekenpeil_+7.75meter.tif',\n",
       " 'D:\\\\Projects\\\\Pr\\\\3915.10\\\\Data_Viewer\\\\Tiff_Overstroming\\\\kaart_rekenpeil_+8.0meter.tif',\n",
       " 'D:\\\\Projects\\\\Pr\\\\3915.10\\\\Data_Viewer\\\\Tiff_Overstroming\\\\kaart_rekenpeil_+8.25meter.tif',\n",
       " 'D:\\\\Projects\\\\Pr\\\\3915.10\\\\Data_Viewer\\\\Tiff_Overstroming\\\\kaart_rekenpeil_+8.5meter.tif']"
      ]
     },
     "execution_count": 2,
     "metadata": {},
     "output_type": "execute_result"
    }
   ],
   "source": [
    "tifs = glob(r'D:\\Projects\\Pr\\3915.10\\Data_Viewer\\Tiff_Overstroming\\*.tif')\n",
    "tifs"
   ]
  },
  {
   "cell_type": "code",
   "execution_count": 7,
   "metadata": {},
   "outputs": [
    {
     "name": "stdout",
     "output_type": "stream",
     "text": [
      "D:\\Projects\\Pr\\3915.10\\Data_Viewer\\Tiff_Overstroming\\kaart_rekenpeil_0.00.tif\n",
      "D:\\Projects\\Pr\\3915.10\\Data_Viewer\\Tiff_Overstroming\\kaart_rekenpeil_0.25.tif\n",
      "D:\\Projects\\Pr\\3915.10\\Data_Viewer\\Tiff_Overstroming\\kaart_rekenpeil_0.50.tif\n",
      "D:\\Projects\\Pr\\3915.10\\Data_Viewer\\Tiff_Overstroming\\kaart_rekenpeil_0.75.tif\n",
      "D:\\Projects\\Pr\\3915.10\\Data_Viewer\\Tiff_Overstroming\\kaart_rekenpeil_1.00.tif\n",
      "D:\\Projects\\Pr\\3915.10\\Data_Viewer\\Tiff_Overstroming\\kaart_rekenpeil_1.25.tif\n",
      "D:\\Projects\\Pr\\3915.10\\Data_Viewer\\Tiff_Overstroming\\kaart_rekenpeil_1.50.tif\n",
      "D:\\Projects\\Pr\\3915.10\\Data_Viewer\\Tiff_Overstroming\\kaart_rekenpeil_1.75.tif\n",
      "D:\\Projects\\Pr\\3915.10\\Data_Viewer\\Tiff_Overstroming\\kaart_rekenpeil_2.25.tif\n",
      "D:\\Projects\\Pr\\3915.10\\Data_Viewer\\Tiff_Overstroming\\kaart_rekenpeil_2.50.tif\n",
      "D:\\Projects\\Pr\\3915.10\\Data_Viewer\\Tiff_Overstroming\\kaart_rekenpeil_2.75.tif\n",
      "D:\\Projects\\Pr\\3915.10\\Data_Viewer\\Tiff_Overstroming\\kaart_rekenpeil_3.00.tif\n",
      "D:\\Projects\\Pr\\3915.10\\Data_Viewer\\Tiff_Overstroming\\kaart_rekenpeil_3.25.tif\n",
      "D:\\Projects\\Pr\\3915.10\\Data_Viewer\\Tiff_Overstroming\\kaart_rekenpeil_3.50.tif\n",
      "D:\\Projects\\Pr\\3915.10\\Data_Viewer\\Tiff_Overstroming\\kaart_rekenpeil_3.75.tif\n",
      "D:\\Projects\\Pr\\3915.10\\Data_Viewer\\Tiff_Overstroming\\kaart_rekenpeil_4.00.tif\n"
     ]
    }
   ],
   "source": [
    "for tif_in in tifs:\n",
    "    tif_list = tif_in.split('+')\n",
    "    base = tif_list[0]\n",
    "    base = base.replace('overstroming','4326')\n",
    "    depth = float(tif_list[1].split('meter')[0]) - 4.5\n",
    "    \n",
    "    format_depth = \"{0:.2f}\".format(float(depth))\n",
    "    tif_out = '{}{}.tif'.format(base,format_depth)\n",
    "    print(tif_out)\n",
    "    \n",
    "    # reproject and set new dtype\n",
    "    ds = gdal.Warp(tif_out, tif_in, dstSRS='EPSG:4326', outputType=gdal.GDT_Byte, dstNodata=255)\n",
    "    ds = None\n",
    "\n",
    "    ds = gdal.Open(tif_out, 1) # 0 = read-only, 1 = read-write.\n",
    "    gdal.SetConfigOption('COMPRESS_OVERVIEW', 'DEFLATE')#, 'GDAL_TIFF_OVR_BLOCKSIZE','512')\n",
    "    ds.BuildOverviews(\"CUBICSPLINE\", [2,4,8,16,32,64])\n",
    "    del ds    "
   ]
  },
  {
   "cell_type": "code",
   "execution_count": null,
   "metadata": {},
   "outputs": [],
   "source": []
  },
  {
   "cell_type": "code",
   "execution_count": null,
   "metadata": {},
   "outputs": [],
   "source": []
  }
 ],
 "metadata": {
  "kernelspec": {
   "display_name": "Python 3",
   "language": "python",
   "name": "python3"
  },
  "language_info": {
   "codemirror_mode": {
    "name": "ipython",
    "version": 3
   },
   "file_extension": ".py",
   "mimetype": "text/x-python",
   "name": "python",
   "nbconvert_exporter": "python",
   "pygments_lexer": "ipython3",
   "version": "3.6.5"
  }
 },
 "nbformat": 4,
 "nbformat_minor": 4
}
