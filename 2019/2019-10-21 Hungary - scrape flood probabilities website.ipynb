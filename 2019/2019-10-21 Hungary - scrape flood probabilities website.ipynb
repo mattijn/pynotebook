{
 "cells": [
  {
   "cell_type": "code",
   "execution_count": null,
   "metadata": {},
   "outputs": [],
   "source": [
    "import geopandas as gpd\n",
    "import requests\n",
    "import json\n",
    "import urllib.parse\n",
    "%matplotlib inline"
   ]
  },
  {
   "cell_type": "code",
   "execution_count": null,
   "metadata": {},
   "outputs": [],
   "source": [
    "# read metadata flood probability layers\n",
    "url_metadata = 'https://geoportal.vizugy.hu/arcgis/rest/services/AKK_3D/Elontes_public/MapServer/layers?f=pjson'\n",
    "r = requests.get(url_metadata)\n",
    "md = r.json()"
   ]
  },
  {
   "cell_type": "code",
   "execution_count": null,
   "metadata": {},
   "outputs": [],
   "source": [
    "# read features for each layer\n",
    "# structure is as follow\n",
    "# flood probability scenarios for 30 / 100 / 1000 years\n",
    "# per scenario there are multiple feature layers\n",
    "# each layer is a flood depth map in meters"
   ]
  },
  {
   "cell_type": "code",
   "execution_count": null,
   "metadata": {},
   "outputs": [],
   "source": [
    "for i in range(1,2):\n",
    "    print(i)"
   ]
  },
  {
   "cell_type": "code",
   "execution_count": null,
   "metadata": {},
   "outputs": [],
   "source": [
    "# extract all layers for each scenario and write each layer to a shapefile\n",
    "# base_url = \"https://geoportal.vizugy.hu/arcgis/rest/services/AKK_3D/Elontes_public/MapServer/{}/query?where=Vizmelyseg%3D%27{}%27&text=&objectIds=&time=&geometry=&geometryType=esriGeometryEnvelope&inSR=&spatialRel=esriSpatialRelIntersects&relationParam=&outFields=&returnGeometry=true&returnTrueCurves=false&maxAllowableOffset=&geometryPrecision=&outSR=&having=&returnIdsOnly=false&returnCountOnly=false&orderByFields=&groupByFieldsForStatistics=&outStatistics=&returnZ=false&returnM=false&gdbVersion=&historicMoment=&returnDistinctValues=false&resultOffset=&resultRecordCount=&queryByDistance=&returnExtentOnly=false&datumTransformation=&parameterValues=&rangeValues=&quantizationParameters=&f=geojson\"\n",
    "base_url = \"https://geoportal.vizugy.hu/arcgis/rest/services/AKK_3D/Elontes_public/MapServer/{}/query?where=OBJECTID%3D{}&text=&objectIds=&time=&geometry=&geometryType=esriGeometryEnvelope&inSR=&spatialRel=esriSpatialRelIntersects&relationParam=&outFields=&returnGeometry=true&returnTrueCurves=false&maxAllowableOffset=&geometryPrecision=&outSR=&having=&returnIdsOnly=false&returnCountOnly=false&orderByFields=&groupByFieldsForStatistics=&outStatistics=&returnZ=false&returnM=false&gdbVersion=&historicMoment=&returnDistinctValues=false&resultOffset=&resultRecordCount=&queryByDistance=&returnExtentOnly=false&datumTransformation=&parameterValues=&rangeValues=&quantizationParameters=&f=geojson\"\n",
    "\n",
    "objects = md['layers']\n",
    "no_obj = len(objects)\n",
    "skip = False\n",
    "for idx_obj in range(2,3):#range(no_obj):\n",
    "    obj = objects[idx_obj]    \n",
    "    print(obj['name'])\n",
    "\n",
    "    idx_lyr = 800\n",
    "    while True:\n",
    "        try:\n",
    "            if idx_lyr%10==0:\n",
    "                print(idx_lyr)    \n",
    "            get_url = base_url.format(idx_obj, idx_lyr)\n",
    "            write_fp = r'layer_{}_OBJECTID_{}.shp'.format(obj['name'], idx_lyr)\n",
    "            \n",
    "            gdf = gpd.read_file(get_url, driver='GeoJSON')\n",
    "            gdf.to_file(write_fp)\n",
    "            \n",
    "            idx_lyr += 1\n",
    "            skip = False\n",
    "        except:\n",
    "            try:\n",
    "                gdf = gpd.read_file(get_url, driver='GeoJSON')\n",
    "                gdf.to_file(write_fp)\n",
    "\n",
    "                idx_lyr += 1\n",
    "                if skip == True:\n",
    "                    break\n",
    "            except:\n",
    "                idx_lyr += 1\n",
    "                skip = True"
   ]
  },
  {
   "cell_type": "code",
   "execution_count": null,
   "metadata": {},
   "outputs": [],
   "source": []
  }
 ],
 "metadata": {
  "kernelspec": {
   "display_name": "Python 3",
   "language": "python",
   "name": "python3"
  },
  "language_info": {
   "codemirror_mode": {
    "name": "ipython",
    "version": 3
   },
   "file_extension": ".py",
   "mimetype": "text/x-python",
   "name": "python",
   "nbconvert_exporter": "python",
   "pygments_lexer": "ipython3",
   "version": "3.6.5"
  }
 },
 "nbformat": 4,
 "nbformat_minor": 4
}
