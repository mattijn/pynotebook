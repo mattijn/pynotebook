{
 "cells": [
  {
   "cell_type": "code",
   "execution_count": 1,
   "metadata": {},
   "outputs": [],
   "source": [
    "import datetime\n",
    "import glob\n",
    "import os\n",
    "import pandas as pd\n",
    "import json"
   ]
  },
  {
   "cell_type": "code",
   "execution_count": 55,
   "metadata": {},
   "outputs": [],
   "source": [
    "def timestamp_of_last_file_in_dir(sfolder, sensor_loc, dir_file_ts):    \n",
    "    list_of_files = glob.glob(os.path.join(sfolder,'*.dat'))\n",
    "    latest_file = max(list_of_files, key=os.path.getctime)\n",
    "    latest_file_ts = datetime.datetime.utcfromtimestamp(os.path.getctime(latest_file))\n",
    "    dir_file_ts.append({'key_importbackup':sensor_loc,\n",
    "                        'file_importbackup':latest_file,\n",
    "                        'ts_importbackup':latest_file_ts}\n",
    "                      )    \n",
    "    return dir_file_ts\n",
    "    \n",
    "def subfolders(folder):\n",
    "    subfolders = [f.path for f in os.scandir(folder) if f.is_dir()]\n",
    "    return subfolders\n",
    "\n",
    "def timestamp_importbackup(folder):\n",
    "    dir_file_ts = []\n",
    "    sensor_locations = subfolders(folder)\n",
    "    for sensor_location in sensor_locations:\n",
    "        key_sensor_loc = os.path.basename(sensor_location)\n",
    "        timestamp_of_last_file_in_dir(sensor_location, key_sensor_loc, dir_file_ts)\n",
    "\n",
    "        sensor_sublocations = subfolders(sensor_location)\n",
    "        for sensor_sublocation in sensor_sublocations:\n",
    "            key_sensor_subloc = '{}_{}'.format(key_sensor_loc, os.path.basename(sensor_sublocation))\n",
    "            timestamp_of_last_file_in_dir(sensor_sublocation, key_sensor_subloc, dir_file_ts)     \n",
    "\n",
    "    df_file_ts = pd.DataFrame().from_dict(dir_file_ts)       \n",
    "    return df_file_ts\n",
    "\n",
    "def timestamp_status_data(folder_ftpstatus_status, folder_ftpstatus_data):\n",
    "    \n",
    "    list_of_status_files = glob.glob(os.path.join(folder_ftpstatus_status,'*STA_*.json'))\n",
    "    list_of_status_files = [list_of_status_files[0],list_of_status_files[-1]]\n",
    "\n",
    "    df_status_data_sensor_loc_ts = pd.DataFrame()\n",
    "    for status_file in list_of_status_files:\n",
    "        status_loc = os.path.basename(status_file).split('_')\n",
    "\n",
    "        if len(status_loc) == 4:\n",
    "            key_status_loc = '{}'.format(status_loc[2])\n",
    "        elif len(status_loc) == 5:\n",
    "            key_status_loc = '{}_{}'.format(status_loc[2], status_loc[3])    \n",
    "\n",
    "        # get creation time status file\n",
    "        status_file_ts = datetime.datetime.utcfromtimestamp(os.path.getctime(status_file))     \n",
    "\n",
    "        # get path of status data file\n",
    "        df_status_status = pd.read_json(status_file, typ='series', orient='values')\n",
    "        status_file_ts = pd.to_datetime(df_status_status['ts'])\n",
    "        status_data_file = df_status_status['fn']\n",
    "        path_status_data_file = os.path.join(folder_ftpstatus_data, \n",
    "                                             key_status_loc.replace('_','\\\\'), \n",
    "                                             status_data_file)\n",
    "\n",
    "        # read status data file\n",
    "        df_status_data = pd.read_csv(path_status_data_file, skiprows=[0,2,3])    \n",
    "\n",
    "        sensors = ['ETRO_Status', 'ISA_Status', 'YSI_Status', 'AQD_Status', 'VEC_Status', 'RDI_Status'] \n",
    "        s_status_sensors = df_status_data[sensors].isin([-1]).any()\n",
    "        s_status_sensors.index = [sensor.split('_')[0] for sensor in sensors]    \n",
    "\n",
    "        df_status_sensors = s_status_sensors.to_frame()\n",
    "        df_status_sensors.reset_index(inplace=True)\n",
    "        df_status_sensors.columns = ['data_sensor', 'data_available']\n",
    "        \n",
    "        df_status_sensors.loc[:,'file_ftpstatus_data'] = path_status_data_file\n",
    "        df_status_sensors.loc[:,'file_ftpstatus'] = status_file\n",
    "        df_status_sensors.loc[:,'key_ftpstatus'] = key_status_loc\n",
    "        df_status_sensors.loc[:,'ts_ftpstatus'] = status_file_ts    \n",
    "\n",
    "        df_status_data_sensor_loc_ts = df_status_data_sensor_loc_ts.append(df_status_sensors)     \n",
    "    \n",
    "    return df_status_data_sensor_loc_ts  \n",
    "\n",
    "def error_message(df):\n",
    "    \n",
    "    # Check if timedelta is more than 2 hours and data is available\n",
    "    msg_filter = [all(tup) for tup in zip(df.data_available == True, df.ts_delta > pd.Timedelta(hours=2))]\n",
    "    df_msg = df\n",
    "\n",
    "    # add columns for prtg\n",
    "    df_msg.loc[:, 'channel'] = df_msg['key_ftpstatus']+ ' - ' + df_msg['data_sensor']\n",
    "    df_msg.loc[:, 'value_error'] = 0\n",
    "    df_msg.loc[msg_filter, 'value_error'] = 2    \n",
    "    df_msg.loc[:, 'limitmaxerror'] = 1\n",
    "    df_msg.loc[:, 'limitmode'] = 1\n",
    "    df_msg.loc[:, 'limiterrormsg'] = 'Actieve sensor data is succesvol geimporteerd in het DMS'\n",
    "    df_msg.loc[msg_filter, 'limiterrormsg'] = ['Melding: File {} is op ftp aanwezig maar niet geimporteerd in het DMS'.format(time_of_error) for time_of_error in df.loc[msg_filter, 'file_ftpstatus_data']]\n",
    "\n",
    "    # filter columns to output\n",
    "    df_msg_out = df_msg[['channel','value_error','limitmaxerror', 'limitmode','limiterrormsg']]\n",
    "    df_msg_out.columns = ['channel','value','limitmaxerror', 'limitmode','limiterrormsg']\n",
    "    \n",
    "    return df_msg_out"
   ]
  },
  {
   "cell_type": "code",
   "execution_count": 56,
   "metadata": {},
   "outputs": [],
   "source": [
    "folder_importbackup = r'D:\\FEWSProjecten\\DMS\\ImportBackup\\STA'\n",
    "folder_ftpstatus_status = r'D:\\FEWSProjecten\\DMS\\ftpStatusFiles'\n",
    "folder_ftpstatus_data = r'D:\\FEWSProjecten\\DMS\\asFromFtpPrimaryroot\\STA'\n",
    "file_monitor_out = r'D:\\FEWSProjecten\\DMS\\monitor_status_import_FEWS.json'"
   ]
  },
  {
   "cell_type": "code",
   "execution_count": 75,
   "metadata": {},
   "outputs": [],
   "source": [
    "# get dataframe with timestamps status files and status data of sensor-location combinations \n",
    "# get dataframe with timestamps of most recent files in FEWS ImportBackup folder\n",
    "# merge dataframes\n",
    "# compute timedelta\n",
    "# create error message\n",
    "df_ftpstatus_data = timestamp_status_data(folder_ftpstatus_status, folder_ftpstatus_data)\n",
    "df_importbackup = timestamp_importbackup(folder_importbackup)\n",
    "df_ftp_backup = df_ftpstatus_data.merge(df_importbackup, how='left',left_on='key_ftpstatus', right_on='key_importbackup')\n",
    "df_ftp_backup['ts_delta'] = df_ftp_backup['ts_ftpstatus'] - df_ftp_backup['ts_importbackup']\n",
    "df_msg_out = error_message(df_ftp_backup)\n",
    "\n",
    "# save to file\n",
    "error_out = {\"prtg\":{\"result\": df_msg_out.to_dict(orient='records')}}\n",
    "with open(file_monitor_out, 'w') as f:\n",
    "    print(json.dumps(error_out), file=f)"
   ]
  },
  {
   "cell_type": "code",
   "execution_count": 76,
   "metadata": {},
   "outputs": [
    {
     "data": {
      "text/html": [
       "<div>\n",
       "<style scoped>\n",
       "    .dataframe tbody tr th:only-of-type {\n",
       "        vertical-align: middle;\n",
       "    }\n",
       "\n",
       "    .dataframe tbody tr th {\n",
       "        vertical-align: top;\n",
       "    }\n",
       "\n",
       "    .dataframe thead th {\n",
       "        text-align: right;\n",
       "    }\n",
       "</style>\n",
       "<table border=\"1\" class=\"dataframe\">\n",
       "  <thead>\n",
       "    <tr style=\"text-align: right;\">\n",
       "      <th></th>\n",
       "      <th>channel</th>\n",
       "      <th>value</th>\n",
       "      <th>limitmaxerror</th>\n",
       "      <th>limitmode</th>\n",
       "      <th>limiterrormsg</th>\n",
       "    </tr>\n",
       "  </thead>\n",
       "  <tbody>\n",
       "    <tr>\n",
       "      <th>0</th>\n",
       "      <td>FL65_A - ETRO</td>\n",
       "      <td>0</td>\n",
       "      <td>1</td>\n",
       "      <td>1</td>\n",
       "      <td>Actieve sensor data is succesvol geimporteerd ...</td>\n",
       "    </tr>\n",
       "    <tr>\n",
       "      <th>1</th>\n",
       "      <td>FL65_A - ISA</td>\n",
       "      <td>2</td>\n",
       "      <td>1</td>\n",
       "      <td>1</td>\n",
       "      <td>Melding: File D:\\FEWSProjecten\\DMS\\asFromFtpPr...</td>\n",
       "    </tr>\n",
       "    <tr>\n",
       "      <th>2</th>\n",
       "      <td>FL65_A - YSI</td>\n",
       "      <td>0</td>\n",
       "      <td>1</td>\n",
       "      <td>1</td>\n",
       "      <td>Actieve sensor data is succesvol geimporteerd ...</td>\n",
       "    </tr>\n",
       "    <tr>\n",
       "      <th>3</th>\n",
       "      <td>FL65_A - AQD</td>\n",
       "      <td>0</td>\n",
       "      <td>1</td>\n",
       "      <td>1</td>\n",
       "      <td>Actieve sensor data is succesvol geimporteerd ...</td>\n",
       "    </tr>\n",
       "    <tr>\n",
       "      <th>4</th>\n",
       "      <td>FL65_A - VEC</td>\n",
       "      <td>2</td>\n",
       "      <td>1</td>\n",
       "      <td>1</td>\n",
       "      <td>Melding: File D:\\FEWSProjecten\\DMS\\asFromFtpPr...</td>\n",
       "    </tr>\n",
       "    <tr>\n",
       "      <th>5</th>\n",
       "      <td>FL65_A - RDI</td>\n",
       "      <td>0</td>\n",
       "      <td>1</td>\n",
       "      <td>1</td>\n",
       "      <td>Actieve sensor data is succesvol geimporteerd ...</td>\n",
       "    </tr>\n",
       "    <tr>\n",
       "      <th>6</th>\n",
       "      <td>FL70 - ETRO</td>\n",
       "      <td>2</td>\n",
       "      <td>1</td>\n",
       "      <td>1</td>\n",
       "      <td>Melding: File D:\\FEWSProjecten\\DMS\\asFromFtpPr...</td>\n",
       "    </tr>\n",
       "    <tr>\n",
       "      <th>7</th>\n",
       "      <td>FL70 - ISA</td>\n",
       "      <td>0</td>\n",
       "      <td>1</td>\n",
       "      <td>1</td>\n",
       "      <td>Actieve sensor data is succesvol geimporteerd ...</td>\n",
       "    </tr>\n",
       "    <tr>\n",
       "      <th>8</th>\n",
       "      <td>FL70 - YSI</td>\n",
       "      <td>0</td>\n",
       "      <td>1</td>\n",
       "      <td>1</td>\n",
       "      <td>Actieve sensor data is succesvol geimporteerd ...</td>\n",
       "    </tr>\n",
       "    <tr>\n",
       "      <th>9</th>\n",
       "      <td>FL70 - AQD</td>\n",
       "      <td>0</td>\n",
       "      <td>1</td>\n",
       "      <td>1</td>\n",
       "      <td>Actieve sensor data is succesvol geimporteerd ...</td>\n",
       "    </tr>\n",
       "    <tr>\n",
       "      <th>10</th>\n",
       "      <td>FL70 - VEC</td>\n",
       "      <td>0</td>\n",
       "      <td>1</td>\n",
       "      <td>1</td>\n",
       "      <td>Actieve sensor data is succesvol geimporteerd ...</td>\n",
       "    </tr>\n",
       "    <tr>\n",
       "      <th>11</th>\n",
       "      <td>FL70 - RDI</td>\n",
       "      <td>2</td>\n",
       "      <td>1</td>\n",
       "      <td>1</td>\n",
       "      <td>Melding: File D:\\FEWSProjecten\\DMS\\asFromFtpPr...</td>\n",
       "    </tr>\n",
       "  </tbody>\n",
       "</table>\n",
       "</div>"
      ],
      "text/plain": [
       "          channel  value  limitmaxerror  limitmode  \\\n",
       "0   FL65_A - ETRO      0              1          1   \n",
       "1    FL65_A - ISA      2              1          1   \n",
       "2    FL65_A - YSI      0              1          1   \n",
       "3    FL65_A - AQD      0              1          1   \n",
       "4    FL65_A - VEC      2              1          1   \n",
       "5    FL65_A - RDI      0              1          1   \n",
       "6     FL70 - ETRO      2              1          1   \n",
       "7      FL70 - ISA      0              1          1   \n",
       "8      FL70 - YSI      0              1          1   \n",
       "9      FL70 - AQD      0              1          1   \n",
       "10     FL70 - VEC      0              1          1   \n",
       "11     FL70 - RDI      2              1          1   \n",
       "\n",
       "                                        limiterrormsg  \n",
       "0   Actieve sensor data is succesvol geimporteerd ...  \n",
       "1   Melding: File D:\\FEWSProjecten\\DMS\\asFromFtpPr...  \n",
       "2   Actieve sensor data is succesvol geimporteerd ...  \n",
       "3   Actieve sensor data is succesvol geimporteerd ...  \n",
       "4   Melding: File D:\\FEWSProjecten\\DMS\\asFromFtpPr...  \n",
       "5   Actieve sensor data is succesvol geimporteerd ...  \n",
       "6   Melding: File D:\\FEWSProjecten\\DMS\\asFromFtpPr...  \n",
       "7   Actieve sensor data is succesvol geimporteerd ...  \n",
       "8   Actieve sensor data is succesvol geimporteerd ...  \n",
       "9   Actieve sensor data is succesvol geimporteerd ...  \n",
       "10  Actieve sensor data is succesvol geimporteerd ...  \n",
       "11  Melding: File D:\\FEWSProjecten\\DMS\\asFromFtpPr...  "
      ]
     },
     "execution_count": 76,
     "metadata": {},
     "output_type": "execute_result"
    }
   ],
   "source": [
    "df_msg_out"
   ]
  },
  {
   "cell_type": "code",
   "execution_count": 157,
   "metadata": {},
   "outputs": [],
   "source": [
    "df_status_sensors.loc[:,'file_ftpstatus'] = status_file\n",
    "df_status_sensors.loc[:,'key_ftpstatus'] = key_status_loc\n",
    "df_status_sensors.loc[:,'ts_ftpstatus'] = status_file_ts"
   ]
  },
  {
   "cell_type": "code",
   "execution_count": 158,
   "metadata": {},
   "outputs": [
    {
     "data": {
      "text/html": [
       "<div>\n",
       "<style scoped>\n",
       "    .dataframe tbody tr th:only-of-type {\n",
       "        vertical-align: middle;\n",
       "    }\n",
       "\n",
       "    .dataframe tbody tr th {\n",
       "        vertical-align: top;\n",
       "    }\n",
       "\n",
       "    .dataframe thead th {\n",
       "        text-align: right;\n",
       "    }\n",
       "</style>\n",
       "<table border=\"1\" class=\"dataframe\">\n",
       "  <thead>\n",
       "    <tr style=\"text-align: right;\">\n",
       "      <th></th>\n",
       "      <th>data_sensor</th>\n",
       "      <th>data_available</th>\n",
       "      <th>file_ftpstatus</th>\n",
       "      <th>key_ftpstatus</th>\n",
       "      <th>ts_ftpstatus</th>\n",
       "    </tr>\n",
       "  </thead>\n",
       "  <tbody>\n",
       "    <tr>\n",
       "      <th>0</th>\n",
       "      <td>ETRO</td>\n",
       "      <td>True</td>\n",
       "      <td>D:\\FEWSProjecten\\DMS\\ftpStatusFiles\\_STA_FL70_...</td>\n",
       "      <td>FL70</td>\n",
       "      <td>2019-05-23 09:56:32.943158</td>\n",
       "    </tr>\n",
       "    <tr>\n",
       "      <th>1</th>\n",
       "      <td>ISA</td>\n",
       "      <td>False</td>\n",
       "      <td>D:\\FEWSProjecten\\DMS\\ftpStatusFiles\\_STA_FL70_...</td>\n",
       "      <td>FL70</td>\n",
       "      <td>2019-05-23 09:56:32.943158</td>\n",
       "    </tr>\n",
       "    <tr>\n",
       "      <th>2</th>\n",
       "      <td>YSI</td>\n",
       "      <td>False</td>\n",
       "      <td>D:\\FEWSProjecten\\DMS\\ftpStatusFiles\\_STA_FL70_...</td>\n",
       "      <td>FL70</td>\n",
       "      <td>2019-05-23 09:56:32.943158</td>\n",
       "    </tr>\n",
       "    <tr>\n",
       "      <th>3</th>\n",
       "      <td>AQD</td>\n",
       "      <td>False</td>\n",
       "      <td>D:\\FEWSProjecten\\DMS\\ftpStatusFiles\\_STA_FL70_...</td>\n",
       "      <td>FL70</td>\n",
       "      <td>2019-05-23 09:56:32.943158</td>\n",
       "    </tr>\n",
       "    <tr>\n",
       "      <th>4</th>\n",
       "      <td>VEC</td>\n",
       "      <td>False</td>\n",
       "      <td>D:\\FEWSProjecten\\DMS\\ftpStatusFiles\\_STA_FL70_...</td>\n",
       "      <td>FL70</td>\n",
       "      <td>2019-05-23 09:56:32.943158</td>\n",
       "    </tr>\n",
       "    <tr>\n",
       "      <th>5</th>\n",
       "      <td>RDI</td>\n",
       "      <td>True</td>\n",
       "      <td>D:\\FEWSProjecten\\DMS\\ftpStatusFiles\\_STA_FL70_...</td>\n",
       "      <td>FL70</td>\n",
       "      <td>2019-05-23 09:56:32.943158</td>\n",
       "    </tr>\n",
       "  </tbody>\n",
       "</table>\n",
       "</div>"
      ],
      "text/plain": [
       "  data_sensor  data_available  \\\n",
       "0        ETRO            True   \n",
       "1         ISA           False   \n",
       "2         YSI           False   \n",
       "3         AQD           False   \n",
       "4         VEC           False   \n",
       "5         RDI            True   \n",
       "\n",
       "                                      file_ftpstatus key_ftpstatus  \\\n",
       "0  D:\\FEWSProjecten\\DMS\\ftpStatusFiles\\_STA_FL70_...          FL70   \n",
       "1  D:\\FEWSProjecten\\DMS\\ftpStatusFiles\\_STA_FL70_...          FL70   \n",
       "2  D:\\FEWSProjecten\\DMS\\ftpStatusFiles\\_STA_FL70_...          FL70   \n",
       "3  D:\\FEWSProjecten\\DMS\\ftpStatusFiles\\_STA_FL70_...          FL70   \n",
       "4  D:\\FEWSProjecten\\DMS\\ftpStatusFiles\\_STA_FL70_...          FL70   \n",
       "5  D:\\FEWSProjecten\\DMS\\ftpStatusFiles\\_STA_FL70_...          FL70   \n",
       "\n",
       "                ts_ftpstatus  \n",
       "0 2019-05-23 09:56:32.943158  \n",
       "1 2019-05-23 09:56:32.943158  \n",
       "2 2019-05-23 09:56:32.943158  \n",
       "3 2019-05-23 09:56:32.943158  \n",
       "4 2019-05-23 09:56:32.943158  \n",
       "5 2019-05-23 09:56:32.943158  "
      ]
     },
     "execution_count": 158,
     "metadata": {},
     "output_type": "execute_result"
    }
   ],
   "source": [
    "df_status_sensors"
   ]
  },
  {
   "cell_type": "code",
   "execution_count": 147,
   "metadata": {},
   "outputs": [
    {
     "ename": "TypeError",
     "evalue": "to_frame() got an unexpected keyword argument 'inplace'",
     "output_type": "error",
     "traceback": [
      "\u001b[1;31m---------------------------------------------------------------------------\u001b[0m",
      "\u001b[1;31mTypeError\u001b[0m                                 Traceback (most recent call last)",
      "\u001b[1;32m<ipython-input-147-11df75d8473a>\u001b[0m in \u001b[0;36m<module>\u001b[1;34m\u001b[0m\n\u001b[1;32m----> 1\u001b[1;33m \u001b[0mdf_status_sensors\u001b[0m\u001b[1;33m.\u001b[0m\u001b[0mto_frame\u001b[0m\u001b[1;33m(\u001b[0m\u001b[0minplace\u001b[0m\u001b[1;33m=\u001b[0m\u001b[1;32mTrue\u001b[0m\u001b[1;33m)\u001b[0m\u001b[1;33m.\u001b[0m\u001b[0mreset_index\u001b[0m\u001b[1;33m(\u001b[0m\u001b[0minplace\u001b[0m\u001b[1;33m=\u001b[0m\u001b[1;32mTrue\u001b[0m\u001b[1;33m)\u001b[0m\u001b[1;33m\u001b[0m\u001b[0m\n\u001b[0m\u001b[0;32m      2\u001b[0m \u001b[0mdf_status_sensors\u001b[0m\u001b[1;33m.\u001b[0m\u001b[0mcolumns\u001b[0m \u001b[1;33m=\u001b[0m \u001b[1;33m[\u001b[0m\u001b[1;34m'sensor'\u001b[0m\u001b[1;33m,\u001b[0m \u001b[1;34m'data_available'\u001b[0m\u001b[1;33m]\u001b[0m\u001b[1;33m\u001b[0m\u001b[0m\n",
      "\u001b[1;31mTypeError\u001b[0m: to_frame() got an unexpected keyword argument 'inplace'"
     ]
    }
   ],
   "source": [
    "df_status_sensors.to_frame().reset_index(inplace=True)\n"
   ]
  },
  {
   "cell_type": "code",
   "execution_count": 146,
   "metadata": {},
   "outputs": [
    {
     "data": {
      "text/plain": [
       "ETRO     True\n",
       "ISA     False\n",
       "YSI     False\n",
       "AQD     False\n",
       "VEC     False\n",
       "RDI      True\n",
       "dtype: bool"
      ]
     },
     "execution_count": 146,
     "metadata": {},
     "output_type": "execute_result"
    }
   ],
   "source": [
    "df_status_sensors"
   ]
  },
  {
   "cell_type": "code",
   "execution_count": 120,
   "metadata": {},
   "outputs": [],
   "source": []
  },
  {
   "cell_type": "code",
   "execution_count": 123,
   "metadata": {},
   "outputs": [],
   "source": []
  },
  {
   "cell_type": "code",
   "execution_count": 127,
   "metadata": {},
   "outputs": [
    {
     "data": {
      "text/plain": [
       "ETRO     True\n",
       "ISA     False\n",
       "YSI     False\n",
       "AQD     False\n",
       "VEC     False\n",
       "dtype: bool"
      ]
     },
     "execution_count": 127,
     "metadata": {},
     "output_type": "execute_result"
    }
   ],
   "source": [
    "df_status_sensors.head()"
   ]
  },
  {
   "cell_type": "code",
   "execution_count": 126,
   "metadata": {},
   "outputs": [
    {
     "data": {
      "text/plain": [
       "{'ETRO': True,\n",
       " 'ISA': False,\n",
       " 'YSI': False,\n",
       " 'AQD': False,\n",
       " 'VEC': False,\n",
       " 'RDI': True}"
      ]
     },
     "execution_count": 126,
     "metadata": {},
     "output_type": "execute_result"
    }
   ],
   "source": [
    "df_status_sensors.to_dict()"
   ]
  },
  {
   "cell_type": "code",
   "execution_count": 104,
   "metadata": {},
   "outputs": [
    {
     "ename": "TypeError",
     "evalue": "only list-like or dict-like objects are allowed to be passed to DataFrame.isin(), you passed a 'str'",
     "output_type": "error",
     "traceback": [
      "\u001b[1;31m---------------------------------------------------------------------------\u001b[0m",
      "\u001b[1;31mTypeError\u001b[0m                                 Traceback (most recent call last)",
      "\u001b[1;32m<ipython-input-104-60e7988aa80a>\u001b[0m in \u001b[0;36m<module>\u001b[1;34m\u001b[0m\n\u001b[1;32m----> 1\u001b[1;33m \u001b[0mdf_status_data\u001b[0m\u001b[1;33m[\u001b[0m\u001b[0minstr_columns\u001b[0m\u001b[1;33m]\u001b[0m\u001b[1;33m.\u001b[0m\u001b[0mastype\u001b[0m\u001b[1;33m(\u001b[0m\u001b[0mstr\u001b[0m\u001b[1;33m)\u001b[0m\u001b[1;33m.\u001b[0m\u001b[0misin\u001b[0m\u001b[1;33m(\u001b[0m\u001b[0mdict\u001b[0m\u001b[1;33m(\u001b[0m\u001b[0mzip\u001b[0m\u001b[1;33m(\u001b[0m\u001b[0minstr_columns\u001b[0m\u001b[1;33m,\u001b[0m \u001b[1;33m[\u001b[0m\u001b[1;34m'-1'\u001b[0m\u001b[1;33m]\u001b[0m \u001b[1;33m*\u001b[0m \u001b[0mlen\u001b[0m\u001b[1;33m(\u001b[0m\u001b[0minstr_columns\u001b[0m\u001b[1;33m)\u001b[0m\u001b[1;33m)\u001b[0m\u001b[1;33m)\u001b[0m\u001b[1;33m)\u001b[0m\u001b[1;33m\u001b[0m\u001b[0m\n\u001b[0m",
      "\u001b[1;32mc:\\programdata\\miniconda3\\lib\\site-packages\\pandas\\core\\frame.py\u001b[0m in \u001b[0;36misin\u001b[1;34m(self, values)\u001b[0m\n\u001b[0;32m   7921\u001b[0m             \u001b[0mvalues\u001b[0m \u001b[1;33m=\u001b[0m \u001b[0mcollections\u001b[0m\u001b[1;33m.\u001b[0m\u001b[0mdefaultdict\u001b[0m\u001b[1;33m(\u001b[0m\u001b[0mlist\u001b[0m\u001b[1;33m,\u001b[0m \u001b[0mvalues\u001b[0m\u001b[1;33m)\u001b[0m\u001b[1;33m\u001b[0m\u001b[0m\n\u001b[0;32m   7922\u001b[0m             return concat((self.iloc[:, [i]].isin(values[col])\n\u001b[1;32m-> 7923\u001b[1;33m                            for i, col in enumerate(self.columns)), axis=1)\n\u001b[0m\u001b[0;32m   7924\u001b[0m         \u001b[1;32melif\u001b[0m \u001b[0misinstance\u001b[0m\u001b[1;33m(\u001b[0m\u001b[0mvalues\u001b[0m\u001b[1;33m,\u001b[0m \u001b[0mSeries\u001b[0m\u001b[1;33m)\u001b[0m\u001b[1;33m:\u001b[0m\u001b[1;33m\u001b[0m\u001b[0m\n\u001b[0;32m   7925\u001b[0m             \u001b[1;32mif\u001b[0m \u001b[1;32mnot\u001b[0m \u001b[0mvalues\u001b[0m\u001b[1;33m.\u001b[0m\u001b[0mindex\u001b[0m\u001b[1;33m.\u001b[0m\u001b[0mis_unique\u001b[0m\u001b[1;33m:\u001b[0m\u001b[1;33m\u001b[0m\u001b[0m\n",
      "\u001b[1;32mc:\\programdata\\miniconda3\\lib\\site-packages\\pandas\\core\\reshape\\concat.py\u001b[0m in \u001b[0;36mconcat\u001b[1;34m(objs, axis, join, join_axes, ignore_index, keys, levels, names, verify_integrity, sort, copy)\u001b[0m\n\u001b[0;32m    226\u001b[0m                        \u001b[0mkeys\u001b[0m\u001b[1;33m=\u001b[0m\u001b[0mkeys\u001b[0m\u001b[1;33m,\u001b[0m \u001b[0mlevels\u001b[0m\u001b[1;33m=\u001b[0m\u001b[0mlevels\u001b[0m\u001b[1;33m,\u001b[0m \u001b[0mnames\u001b[0m\u001b[1;33m=\u001b[0m\u001b[0mnames\u001b[0m\u001b[1;33m,\u001b[0m\u001b[1;33m\u001b[0m\u001b[0m\n\u001b[0;32m    227\u001b[0m                        \u001b[0mverify_integrity\u001b[0m\u001b[1;33m=\u001b[0m\u001b[0mverify_integrity\u001b[0m\u001b[1;33m,\u001b[0m\u001b[1;33m\u001b[0m\u001b[0m\n\u001b[1;32m--> 228\u001b[1;33m                        copy=copy, sort=sort)\n\u001b[0m\u001b[0;32m    229\u001b[0m     \u001b[1;32mreturn\u001b[0m \u001b[0mop\u001b[0m\u001b[1;33m.\u001b[0m\u001b[0mget_result\u001b[0m\u001b[1;33m(\u001b[0m\u001b[1;33m)\u001b[0m\u001b[1;33m\u001b[0m\u001b[0m\n\u001b[0;32m    230\u001b[0m \u001b[1;33m\u001b[0m\u001b[0m\n",
      "\u001b[1;32mc:\\programdata\\miniconda3\\lib\\site-packages\\pandas\\core\\reshape\\concat.py\u001b[0m in \u001b[0;36m__init__\u001b[1;34m(self, objs, axis, join, join_axes, keys, levels, names, ignore_index, verify_integrity, copy, sort)\u001b[0m\n\u001b[0;32m    257\u001b[0m             \u001b[0mobjs\u001b[0m \u001b[1;33m=\u001b[0m \u001b[1;33m[\u001b[0m\u001b[0mobjs\u001b[0m\u001b[1;33m[\u001b[0m\u001b[0mk\u001b[0m\u001b[1;33m]\u001b[0m \u001b[1;32mfor\u001b[0m \u001b[0mk\u001b[0m \u001b[1;32min\u001b[0m \u001b[0mkeys\u001b[0m\u001b[1;33m]\u001b[0m\u001b[1;33m\u001b[0m\u001b[0m\n\u001b[0;32m    258\u001b[0m         \u001b[1;32melse\u001b[0m\u001b[1;33m:\u001b[0m\u001b[1;33m\u001b[0m\u001b[0m\n\u001b[1;32m--> 259\u001b[1;33m             \u001b[0mobjs\u001b[0m \u001b[1;33m=\u001b[0m \u001b[0mlist\u001b[0m\u001b[1;33m(\u001b[0m\u001b[0mobjs\u001b[0m\u001b[1;33m)\u001b[0m\u001b[1;33m\u001b[0m\u001b[0m\n\u001b[0m\u001b[0;32m    260\u001b[0m \u001b[1;33m\u001b[0m\u001b[0m\n\u001b[0;32m    261\u001b[0m         \u001b[1;32mif\u001b[0m \u001b[0mlen\u001b[0m\u001b[1;33m(\u001b[0m\u001b[0mobjs\u001b[0m\u001b[1;33m)\u001b[0m \u001b[1;33m==\u001b[0m \u001b[1;36m0\u001b[0m\u001b[1;33m:\u001b[0m\u001b[1;33m\u001b[0m\u001b[0m\n",
      "\u001b[1;32mc:\\programdata\\miniconda3\\lib\\site-packages\\pandas\\core\\frame.py\u001b[0m in \u001b[0;36m<genexpr>\u001b[1;34m(.0)\u001b[0m\n\u001b[0;32m   7921\u001b[0m             \u001b[0mvalues\u001b[0m \u001b[1;33m=\u001b[0m \u001b[0mcollections\u001b[0m\u001b[1;33m.\u001b[0m\u001b[0mdefaultdict\u001b[0m\u001b[1;33m(\u001b[0m\u001b[0mlist\u001b[0m\u001b[1;33m,\u001b[0m \u001b[0mvalues\u001b[0m\u001b[1;33m)\u001b[0m\u001b[1;33m\u001b[0m\u001b[0m\n\u001b[0;32m   7922\u001b[0m             return concat((self.iloc[:, [i]].isin(values[col])\n\u001b[1;32m-> 7923\u001b[1;33m                            for i, col in enumerate(self.columns)), axis=1)\n\u001b[0m\u001b[0;32m   7924\u001b[0m         \u001b[1;32melif\u001b[0m \u001b[0misinstance\u001b[0m\u001b[1;33m(\u001b[0m\u001b[0mvalues\u001b[0m\u001b[1;33m,\u001b[0m \u001b[0mSeries\u001b[0m\u001b[1;33m)\u001b[0m\u001b[1;33m:\u001b[0m\u001b[1;33m\u001b[0m\u001b[0m\n\u001b[0;32m   7925\u001b[0m             \u001b[1;32mif\u001b[0m \u001b[1;32mnot\u001b[0m \u001b[0mvalues\u001b[0m\u001b[1;33m.\u001b[0m\u001b[0mindex\u001b[0m\u001b[1;33m.\u001b[0m\u001b[0mis_unique\u001b[0m\u001b[1;33m:\u001b[0m\u001b[1;33m\u001b[0m\u001b[0m\n",
      "\u001b[1;32mc:\\programdata\\miniconda3\\lib\\site-packages\\pandas\\core\\frame.py\u001b[0m in \u001b[0;36misin\u001b[1;34m(self, values)\u001b[0m\n\u001b[0;32m   7937\u001b[0m                                 \u001b[1;34m\"allowed to be passed to DataFrame.isin(), \"\u001b[0m\u001b[1;33m\u001b[0m\u001b[0m\n\u001b[0;32m   7938\u001b[0m                                 \u001b[1;34m\"you passed a \"\u001b[0m\u001b[1;33m\u001b[0m\u001b[0m\n\u001b[1;32m-> 7939\u001b[1;33m                                 \"{0!r}\".format(type(values).__name__))\n\u001b[0m\u001b[0;32m   7940\u001b[0m             return DataFrame(\n\u001b[0;32m   7941\u001b[0m                 algorithms.isin(self.values.ravel(),\n",
      "\u001b[1;31mTypeError\u001b[0m: only list-like or dict-like objects are allowed to be passed to DataFrame.isin(), you passed a 'str'"
     ]
    }
   ],
   "source": [
    "df_status_data[instr_columns].astype(str).isin())"
   ]
  },
  {
   "cell_type": "code",
   "execution_count": null,
   "metadata": {},
   "outputs": [],
   "source": [
    "instr_columns"
   ]
  },
  {
   "cell_type": "code",
   "execution_count": 70,
   "metadata": {},
   "outputs": [
    {
     "data": {
      "text/html": [
       "<div>\n",
       "<style scoped>\n",
       "    .dataframe tbody tr th:only-of-type {\n",
       "        vertical-align: middle;\n",
       "    }\n",
       "\n",
       "    .dataframe tbody tr th {\n",
       "        vertical-align: top;\n",
       "    }\n",
       "\n",
       "    .dataframe thead th {\n",
       "        text-align: right;\n",
       "    }\n",
       "</style>\n",
       "<table border=\"1\" class=\"dataframe\">\n",
       "  <thead>\n",
       "    <tr style=\"text-align: right;\">\n",
       "      <th></th>\n",
       "      <th>file_ftpstatus</th>\n",
       "      <th>key_ftpstatus</th>\n",
       "      <th>ts_ftpstatus</th>\n",
       "    </tr>\n",
       "  </thead>\n",
       "  <tbody>\n",
       "    <tr>\n",
       "      <th>0</th>\n",
       "      <td>D:\\FEWSProjecten\\DMS\\ftpStatusFiles\\_STA_FL65_...</td>\n",
       "      <td>FL65_A</td>\n",
       "      <td>2019-05-23 09:56:32.513159</td>\n",
       "    </tr>\n",
       "    <tr>\n",
       "      <th>1</th>\n",
       "      <td>D:\\FEWSProjecten\\DMS\\ftpStatusFiles\\_STA_FL65_...</td>\n",
       "      <td>FL65_B</td>\n",
       "      <td>2019-05-23 09:56:32.550159</td>\n",
       "    </tr>\n",
       "    <tr>\n",
       "      <th>2</th>\n",
       "      <td>D:\\FEWSProjecten\\DMS\\ftpStatusFiles\\_STA_FL65_...</td>\n",
       "      <td>FL65_C</td>\n",
       "      <td>2019-05-23 09:56:32.582159</td>\n",
       "    </tr>\n",
       "    <tr>\n",
       "      <th>3</th>\n",
       "      <td>D:\\FEWSProjecten\\DMS\\ftpStatusFiles\\_STA_FL65_...</td>\n",
       "      <td>FL65</td>\n",
       "      <td>2019-05-23 09:56:32.626158</td>\n",
       "    </tr>\n",
       "    <tr>\n",
       "      <th>4</th>\n",
       "      <td>D:\\FEWSProjecten\\DMS\\ftpStatusFiles\\_STA_FL66_...</td>\n",
       "      <td>FL66</td>\n",
       "      <td>2019-05-23 09:56:32.664159</td>\n",
       "    </tr>\n",
       "    <tr>\n",
       "      <th>5</th>\n",
       "      <td>D:\\FEWSProjecten\\DMS\\ftpStatusFiles\\_STA_FL67_...</td>\n",
       "      <td>FL67</td>\n",
       "      <td>2019-05-23 09:56:32.698159</td>\n",
       "    </tr>\n",
       "    <tr>\n",
       "      <th>6</th>\n",
       "      <td>D:\\FEWSProjecten\\DMS\\ftpStatusFiles\\_STA_FL68_...</td>\n",
       "      <td>FL68</td>\n",
       "      <td>2019-05-23 09:56:32.736159</td>\n",
       "    </tr>\n",
       "    <tr>\n",
       "      <th>7</th>\n",
       "      <td>D:\\FEWSProjecten\\DMS\\ftpStatusFiles\\_STA_FL69_...</td>\n",
       "      <td>FL69_A</td>\n",
       "      <td>2019-05-23 09:56:32.777158</td>\n",
       "    </tr>\n",
       "    <tr>\n",
       "      <th>8</th>\n",
       "      <td>D:\\FEWSProjecten\\DMS\\ftpStatusFiles\\_STA_FL69_...</td>\n",
       "      <td>FL69_B</td>\n",
       "      <td>2019-05-23 09:56:32.815159</td>\n",
       "    </tr>\n",
       "    <tr>\n",
       "      <th>9</th>\n",
       "      <td>D:\\FEWSProjecten\\DMS\\ftpStatusFiles\\_STA_FL69_...</td>\n",
       "      <td>FL69_C</td>\n",
       "      <td>2019-05-23 09:56:32.858159</td>\n",
       "    </tr>\n",
       "    <tr>\n",
       "      <th>10</th>\n",
       "      <td>D:\\FEWSProjecten\\DMS\\ftpStatusFiles\\_STA_FL69_...</td>\n",
       "      <td>FL69</td>\n",
       "      <td>2019-05-23 09:56:32.901159</td>\n",
       "    </tr>\n",
       "    <tr>\n",
       "      <th>11</th>\n",
       "      <td>D:\\FEWSProjecten\\DMS\\ftpStatusFiles\\_STA_FL70_...</td>\n",
       "      <td>FL70</td>\n",
       "      <td>2019-05-23 09:56:32.943158</td>\n",
       "    </tr>\n",
       "  </tbody>\n",
       "</table>\n",
       "</div>"
      ],
      "text/plain": [
       "                                       file_ftpstatus key_ftpstatus  \\\n",
       "0   D:\\FEWSProjecten\\DMS\\ftpStatusFiles\\_STA_FL65_...        FL65_A   \n",
       "1   D:\\FEWSProjecten\\DMS\\ftpStatusFiles\\_STA_FL65_...        FL65_B   \n",
       "2   D:\\FEWSProjecten\\DMS\\ftpStatusFiles\\_STA_FL65_...        FL65_C   \n",
       "3   D:\\FEWSProjecten\\DMS\\ftpStatusFiles\\_STA_FL65_...          FL65   \n",
       "4   D:\\FEWSProjecten\\DMS\\ftpStatusFiles\\_STA_FL66_...          FL66   \n",
       "5   D:\\FEWSProjecten\\DMS\\ftpStatusFiles\\_STA_FL67_...          FL67   \n",
       "6   D:\\FEWSProjecten\\DMS\\ftpStatusFiles\\_STA_FL68_...          FL68   \n",
       "7   D:\\FEWSProjecten\\DMS\\ftpStatusFiles\\_STA_FL69_...        FL69_A   \n",
       "8   D:\\FEWSProjecten\\DMS\\ftpStatusFiles\\_STA_FL69_...        FL69_B   \n",
       "9   D:\\FEWSProjecten\\DMS\\ftpStatusFiles\\_STA_FL69_...        FL69_C   \n",
       "10  D:\\FEWSProjecten\\DMS\\ftpStatusFiles\\_STA_FL69_...          FL69   \n",
       "11  D:\\FEWSProjecten\\DMS\\ftpStatusFiles\\_STA_FL70_...          FL70   \n",
       "\n",
       "                 ts_ftpstatus  \n",
       "0  2019-05-23 09:56:32.513159  \n",
       "1  2019-05-23 09:56:32.550159  \n",
       "2  2019-05-23 09:56:32.582159  \n",
       "3  2019-05-23 09:56:32.626158  \n",
       "4  2019-05-23 09:56:32.664159  \n",
       "5  2019-05-23 09:56:32.698159  \n",
       "6  2019-05-23 09:56:32.736159  \n",
       "7  2019-05-23 09:56:32.777158  \n",
       "8  2019-05-23 09:56:32.815159  \n",
       "9  2019-05-23 09:56:32.858159  \n",
       "10 2019-05-23 09:56:32.901159  \n",
       "11 2019-05-23 09:56:32.943158  "
      ]
     },
     "execution_count": 70,
     "metadata": {},
     "output_type": "execute_result"
    }
   ],
   "source": [
    "\n",
    "ftp = pd.read_json(os.path.join(path_status_ftp, file), typ='series', orient='values')\n",
    "m = re.search('(FL.*?)_.*?', ftp['fn'])\n",
    "pair = {\n",
    "        'instr':ftp['fn'][0:3],\n",
    "        'loc':m.group(1),\n",
    "        'time':pd.to_datetime(ftp['ts'])\n",
    "        }\n",
    "ftp_status.append(pair)"
   ]
  },
  {
   "cell_type": "code",
   "execution_count": null,
   "metadata": {},
   "outputs": [],
   "source": []
  },
  {
   "cell_type": "code",
   "execution_count": 65,
   "metadata": {},
   "outputs": [
    {
     "data": {
      "text/plain": [
       "'D:\\\\FEWSProjecten\\\\DMS\\\\ftpStatusFiles\\\\_STA_FL65_status.json'"
      ]
     },
     "execution_count": 65,
     "metadata": {},
     "output_type": "execute_result"
    }
   ],
   "source": [
    "status_file"
   ]
  },
  {
   "cell_type": "code",
   "execution_count": 67,
   "metadata": {},
   "outputs": [
    {
     "data": {
      "text/plain": [
       "datetime.datetime(2019, 5, 23, 9, 56, 32, 626158)"
      ]
     },
     "execution_count": 67,
     "metadata": {},
     "output_type": "execute_result"
    }
   ],
   "source": []
  },
  {
   "cell_type": "code",
   "execution_count": null,
   "metadata": {},
   "outputs": [],
   "source": []
  },
  {
   "cell_type": "code",
   "execution_count": null,
   "metadata": {},
   "outputs": [],
   "source": []
  },
  {
   "cell_type": "code",
   "execution_count": null,
   "metadata": {},
   "outputs": [],
   "source": [
    "timestamp_of_file()"
   ]
  },
  {
   "cell_type": "code",
   "execution_count": null,
   "metadata": {},
   "outputs": [],
   "source": [
    "collect_last_file_ts(sensor_location, key_sensor_loc, dir_file_ts)"
   ]
  },
  {
   "cell_type": "code",
   "execution_count": 49,
   "metadata": {},
   "outputs": [
    {
     "data": {
      "text/plain": [
       "'D:\\\\FEWSProjecten\\\\DMS\\\\ftpStatusFiles\\\\_STA_FL65_status.json'"
      ]
     },
     "execution_count": 49,
     "metadata": {},
     "output_type": "execute_result"
    }
   ],
   "source": [
    "status_file = list_of_status_files[3]\n",
    "status_file"
   ]
  },
  {
   "cell_type": "code",
   "execution_count": 50,
   "metadata": {},
   "outputs": [
    {
     "data": {
      "text/plain": [
       "'.json'"
      ]
     },
     "execution_count": 50,
     "metadata": {},
     "output_type": "execute_result"
    }
   ],
   "source": [
    "os.path.basename(os.path.splitext(status_file)[1])"
   ]
  },
  {
   "cell_type": "code",
   "execution_count": 54,
   "metadata": {},
   "outputs": [],
   "source": [
    "status_loc = os.path.basename(status_file).split('_')"
   ]
  },
  {
   "cell_type": "code",
   "execution_count": 56,
   "metadata": {},
   "outputs": [
    {
     "data": {
      "text/plain": [
       "4"
      ]
     },
     "execution_count": 56,
     "metadata": {},
     "output_type": "execute_result"
    }
   ],
   "source": [
    "len(status_loc)"
   ]
  },
  {
   "cell_type": "code",
   "execution_count": 58,
   "metadata": {},
   "outputs": [],
   "source": []
  },
  {
   "cell_type": "code",
   "execution_count": 53,
   "metadata": {},
   "outputs": [
    {
     "data": {
      "text/plain": [
       "'FL65_status.json'"
      ]
     },
     "execution_count": 53,
     "metadata": {},
     "output_type": "execute_result"
    }
   ],
   "source": [
    "key_status_loc"
   ]
  },
  {
   "cell_type": "code",
   "execution_count": null,
   "metadata": {},
   "outputs": [],
   "source": []
  }
 ],
 "metadata": {
  "kernelspec": {
   "display_name": "Python 3",
   "language": "python",
   "name": "python3"
  },
  "language_info": {
   "codemirror_mode": {
    "name": "ipython",
    "version": 3
   },
   "file_extension": ".py",
   "mimetype": "text/x-python",
   "name": "python",
   "nbconvert_exporter": "python",
   "pygments_lexer": "ipython3",
   "version": "3.6.5"
  }
 },
 "nbformat": 4,
 "nbformat_minor": 4
}
