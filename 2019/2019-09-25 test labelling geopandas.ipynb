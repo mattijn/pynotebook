{
 "cells": [
  {
   "cell_type": "code",
   "execution_count": 2,
   "metadata": {},
   "outputs": [
    {
     "data": {
      "image/png": "[encoded data removed]",
      "text/plain": [
       "<Figure size 432x288 with 1 Axes>"
      ]
     },
     "metadata": {
      "needs_background": "light"
     },
     "output_type": "display_data"
    }
   ],
   "source": [
    "from shapely.geometry import Point, LineString\n",
    "import geopandas\n",
    "from matplotlib.colors import LinearSegmentedColormap\n",
    "from matplotlib import pyplot as plt\n",
    "%matplotlib inline\n",
    "\n",
    "line1 = LineString([\n",
    "    Point(0, 0), Point(0, 1), Point(1, 1), Point(1, 2),\n",
    "    Point(3, 3), Point(5, 6),])\n",
    "\n",
    "line2 = LineString([\n",
    "    Point(5, 3), Point(5, 5), Point(9, 5), Point(10, 7),\n",
    "    Point(11, 8), Point(12, 12),])\n",
    "\n",
    "line3 = LineString([\n",
    "    Point(9, 10), Point(10, 14), Point(11, 12), Point(12, 15),])\n",
    "\n",
    "gdf = geopandas.GeoDataFrame(\n",
    "    data={'name': ['A', 'B', 'A']},\n",
    "    geometry=[line1, line2, line3]\n",
    ")\n",
    "\n",
    "my_cmap = LinearSegmentedColormap.from_list(\n",
    "    'mycmap', [(0, 'red'), (1, '#000000')])\n",
    "\n",
    "gdf['num'] = gdf['name'].replace({'A': 0, 'B': 1})\n",
    "\n",
    "gdf.plot(cmap=my_cmap, column='num')\n",
    "plt.show()"
   ]
  },
  {
   "cell_type": "code",
   "execution_count": null,
   "metadata": {},
   "outputs": [],
   "source": []
  }
 ],
 "metadata": {
  "kernelspec": {
   "display_name": "Python 3",
   "language": "python",
   "name": "python3"
  },
  "language_info": {
   "codemirror_mode": {
    "name": "ipython",
    "version": 3
   },
   "file_extension": ".py",
   "mimetype": "text/x-python",
   "name": "python",
   "nbconvert_exporter": "python",
   "pygments_lexer": "ipython3",
   "version": "3.6.5"
  }
 },
 "nbformat": 4,
 "nbformat_minor": 4
}
