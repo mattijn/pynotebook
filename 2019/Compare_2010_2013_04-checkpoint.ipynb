{
 "cells": [
  {
   "cell_type": "code",
   "execution_count": 1,
   "metadata": {},
   "outputs": [],
   "source": [
    "import numpy as np\n",
    "import pandas as pd\n",
    "import geopandas as gpd\n",
    "import os\n",
    "from shapely import geometry\n",
    "from collections import OrderedDict\n",
    "from IPython.display import SVG"
   ]
  },
  {
   "cell_type": "code",
   "execution_count": 2,
   "metadata": {},
   "outputs": [],
   "source": [
    "#Script to compare the 2010 shapefile with the 2013_04 shapefile.\n",
    "#Tests are performed to investigate whether there are PEILGEBIEDEN ID's with different polygon geometries"
   ]
  },
  {
   "cell_type": "code",
   "execution_count": 3,
   "metadata": {},
   "outputs": [],
   "source": [
    "shape_2010 = 'D:/Users/Driebergen/Documents/PR/PR4019/Shapefiles_FEWS/peilgebieden.shp'\n",
    "shape_2013_04 = 'D:/Users/Driebergen/Documents/PR/PR4019/Maandelijkse_Geodump_PG_AVG/Geodata_dump_2013_04/Peilgebieden_2013_04.shp'"
   ]
  },
  {
   "cell_type": "code",
   "execution_count": 4,
   "metadata": {},
   "outputs": [],
   "source": [
    "gpd_2010 = gpd.read_file(shape_2010)\n",
    "gpd_2013 = gpd.read_file(shape_2013_04)"
   ]
  },
  {
   "cell_type": "code",
   "execution_count": 5,
   "metadata": {},
   "outputs": [
    {
     "name": "stderr",
     "output_type": "stream",
     "text": [
      "C:\\Users\\Driebergen\\AppData\\Local\\Continuum\\anaconda3\\lib\\site-packages\\geopandas\\base.py:29: UserWarning: GeoSeries crs mismatch: {} and {'init': 'epsg:28992'}\n",
      "  other.crs))\n"
     ]
    }
   ],
   "source": [
    "#For each GPIDENT in 2010, look whether this ID is also present in 2013 and if so: compare geometry\n",
    "x = 0\n",
    "id_obj = []\n",
    "for id_pg in gpd_2010['GPGIDENT'].values:\n",
    "    id_equal = OrderedDict.fromkeys(['id_2010', 'in_2013_04','Equal','Overlap','Area_2010','Area_2013_04','perc_base','perc_update'])\n",
    "    id_equal.update({'id_2010': id_pg})    \n",
    "    if id_pg in gpd_2013['GPGIDENT'].values:\n",
    "        id_equal.update({'in_2013_04': True})\n",
    " \n",
    "        geom_2010     = gpd_2010[gpd_2010['GPGIDENT']==id_pg].reset_index()['geometry']\n",
    "        geom_2013     = gpd_2013[gpd_2013['GPGIDENT']==id_pg].reset_index()['geometry']\n",
    "        overlap_bool  = geom_2010.intersects(geom_2013).values[0]\n",
    "        equal_bool    = (geom_2010.values == geom_2013.values)[0]\n",
    "        \n",
    "        geom_int      = geom_2010.intersection(geom_2013)\n",
    "        opp_int       = geom_int.area\n",
    "        opp_base      = geom_2010.area\n",
    "        opp_update    = geom_2013.area\n",
    "        perc_base     = opp_int / opp_base\n",
    "        perc_update   = opp_int / opp_update   \n",
    "        \n",
    "        id_equal.update({'Equal': equal_bool})\n",
    "        id_equal.update({'Overlap': overlap_bool})\n",
    "        id_equal.update({'Area_2010': geom_2010.area[0]})\n",
    "        id_equal.update({'Area_2013_04': geom_2013.area[0]})\n",
    "        id_equal.update({'perc_base': perc_base[0]})\n",
    "        id_equal.update({'perc_update': perc_update[0]})\n",
    "        \n",
    "        id_obj.append(id_equal)\n",
    "\n",
    "df_compare = pd.DataFrame(id_obj)"
   ]
  },
  {
   "cell_type": "code",
   "execution_count": 6,
   "metadata": {},
   "outputs": [
    {
     "data": {
      "text/html": [
       "<div>\n",
       "<style scoped>\n",
       "    .dataframe tbody tr th:only-of-type {\n",
       "        vertical-align: middle;\n",
       "    }\n",
       "\n",
       "    .dataframe tbody tr th {\n",
       "        vertical-align: top;\n",
       "    }\n",
       "\n",
       "    .dataframe thead th {\n",
       "        text-align: right;\n",
       "    }\n",
       "</style>\n",
       "<table border=\"1\" class=\"dataframe\">\n",
       "  <thead>\n",
       "    <tr style=\"text-align: right;\">\n",
       "      <th></th>\n",
       "      <th>id_2010</th>\n",
       "      <th>in_2013_04</th>\n",
       "      <th>Equal</th>\n",
       "      <th>Overlap</th>\n",
       "      <th>Area_2010</th>\n",
       "      <th>Area_2013_04</th>\n",
       "      <th>perc_base</th>\n",
       "      <th>perc_update</th>\n",
       "    </tr>\n",
       "  </thead>\n",
       "  <tbody>\n",
       "    <tr>\n",
       "      <th>0</th>\n",
       "      <td>PG0835</td>\n",
       "      <td>True</td>\n",
       "      <td>False</td>\n",
       "      <td>True</td>\n",
       "      <td>23849.278095</td>\n",
       "      <td>23849.300542</td>\n",
       "      <td>0.999999</td>\n",
       "      <td>0.999998</td>\n",
       "    </tr>\n",
       "    <tr>\n",
       "      <th>1</th>\n",
       "      <td>PG0807</td>\n",
       "      <td>True</td>\n",
       "      <td>False</td>\n",
       "      <td>True</td>\n",
       "      <td>1780.602760</td>\n",
       "      <td>1780.603562</td>\n",
       "      <td>0.999998</td>\n",
       "      <td>0.999998</td>\n",
       "    </tr>\n",
       "    <tr>\n",
       "      <th>2</th>\n",
       "      <td>PG0808</td>\n",
       "      <td>True</td>\n",
       "      <td>False</td>\n",
       "      <td>True</td>\n",
       "      <td>2726.953134</td>\n",
       "      <td>2726.962589</td>\n",
       "      <td>1.000000</td>\n",
       "      <td>0.999997</td>\n",
       "    </tr>\n",
       "    <tr>\n",
       "      <th>3</th>\n",
       "      <td>PG0809</td>\n",
       "      <td>True</td>\n",
       "      <td>False</td>\n",
       "      <td>True</td>\n",
       "      <td>2524.022559</td>\n",
       "      <td>2524.022603</td>\n",
       "      <td>0.999999</td>\n",
       "      <td>0.999999</td>\n",
       "    </tr>\n",
       "    <tr>\n",
       "      <th>4</th>\n",
       "      <td>PG0810</td>\n",
       "      <td>True</td>\n",
       "      <td>False</td>\n",
       "      <td>True</td>\n",
       "      <td>1059.779291</td>\n",
       "      <td>1059.777225</td>\n",
       "      <td>0.999993</td>\n",
       "      <td>0.999995</td>\n",
       "    </tr>\n",
       "  </tbody>\n",
       "</table>\n",
       "</div>"
      ],
      "text/plain": [
       "  id_2010  in_2013_04  Equal  Overlap     Area_2010  Area_2013_04  perc_base  \\\n",
       "0  PG0835        True  False     True  23849.278095  23849.300542   0.999999   \n",
       "1  PG0807        True  False     True   1780.602760   1780.603562   0.999998   \n",
       "2  PG0808        True  False     True   2726.953134   2726.962589   1.000000   \n",
       "3  PG0809        True  False     True   2524.022559   2524.022603   0.999999   \n",
       "4  PG0810        True  False     True   1059.779291   1059.777225   0.999993   \n",
       "\n",
       "   perc_update  \n",
       "0     0.999998  \n",
       "1     0.999998  \n",
       "2     0.999997  \n",
       "3     0.999999  \n",
       "4     0.999995  "
      ]
     },
     "execution_count": 6,
     "metadata": {},
     "output_type": "execute_result"
    }
   ],
   "source": [
    "#df_compare dataframe column definition:\n",
    "\n",
    "#id_2010:     GPGIDENT in 2010 shapefile\n",
    "#in_2013_04:  Boolean to show if GPDIDENT as in 2010 also occurs in 2013\n",
    "#Equal:       Boolean to show whether the polygons are Equal or not\n",
    "#Overlap:     Boolean to show whether the polgyons in 2010 and 2013 have overlap\n",
    "#Area_2010:   Area of the polygon in the 2010 shapefile\n",
    "#Area_2013:   Area of the polygon in the 2013_04 shapefile\n",
    "#perc_base:   Fraction of area of the intersection between the polygons relative to the 2010 polygon\n",
    "#perc_update: Fraction of area of the intersection between the polygons relative to the 2013 polygon\n",
    "\n",
    "df_compare.head()"
   ]
  },
  {
   "cell_type": "code",
   "execution_count": 7,
   "metadata": {},
   "outputs": [],
   "source": [
    "#Now extract the records which have an id which is present in 2013_04, but are not equal nor have overlap\n",
    "df_subset = df_compare[df_compare['in_2013_04'] == True]\n",
    "df_subset = df_subset[df_subset['Equal'] == False]\n",
    "df_subset = df_subset[df_subset['Overlap'] == False]"
   ]
  },
  {
   "cell_type": "code",
   "execution_count": 8,
   "metadata": {},
   "outputs": [
    {
     "name": "stdout",
     "output_type": "stream",
     "text": [
      "Number of records in 2010:                                                 902\n",
      "Number of records in 2013:                                                 1297\n",
      "Number of records with GPGIDENT occuring in both 2010 and 2010:            896\n",
      "Number of records with same ID which have significant overlap (>= 0.80):   827\n",
      "Number of records with same ID which have no significant overlap (< 0.80): 53\n",
      "Number of records with same ID but no overlap:                             16\n"
     ]
    }
   ],
   "source": [
    "df_overlap = df_compare[df_compare['Overlap'] == True]\n",
    "n_overlap_significant = sum((df_overlap['perc_base'].values > 0.80) & (df_overlap['perc_update'].values >= 0.80))\n",
    "n_overlap_niet_significant = sum((df_overlap['perc_base'].values < 0.80) | (df_overlap['perc_update'].values < 0.80))\n",
    "n_no_overlap = len(df_subset)\n",
    "\n",
    "print('Number of records in 2010:                                                 {}'.format(len(gpd_2010)))\n",
    "print('Number of records in 2013:                                                 {}'.format(len(gpd_2013)))\n",
    "print('Number of records with GPGIDENT occuring in both 2010 and 2010:            {}'.format(len(df_compare)))\n",
    "print('Number of records with same ID which have significant overlap (>= 0.80):   {}'.format(n_overlap_significant))\n",
    "print('Number of records with same ID which have no significant overlap (< 0.80): {}'.format(n_overlap_niet_significant))\n",
    "print('Number of records with same ID but no overlap:                             {}'.format(n_no_overlap))"
   ]
  },
  {
   "cell_type": "code",
   "execution_count": 9,
   "metadata": {},
   "outputs": [
    {
     "data": {
      "image/svg+xml": [
       "<svg height=\"300\" preserveAspectRatio=\"xMinYMin meet\" viewBox=\"124080.43012 447573.46712 1002.1557599999942 923.0397600000142\" width=\"300\" xmlns=\"http://www.w3.org/2000/svg\" xmlns:xlink=\"http://www.w3.org/1999/xlink\"><g transform=\"matrix(1,0,0,-1,0,896069.9739999999)\"><g><path d=\"M 124885.717,448015.451 L 125045.469,447675.217 L 124976.569,447651.437 L 124969.252,447639.242 L 124882.059,447610.584 L 124882.059,447611.194 L 124735.721,447930.698 L 124803.401,447968.502 L 124825.353,447959.356 L 124832.06,447984.963 L 124885.717,448015.451 z\" fill=\"#66cc99\" fill-rule=\"evenodd\" opacity=\"0.6\" stroke=\"red\" stroke-width=\"6.681038399999961\"/><path d=\"M 124167.465,447676.483 L 124145.17,447663.976 L 124137.941,447661.274 L 124131.083,447675.221 L 124117.547,447703.802 L 124390.873,448005.343 L 124477.338,448104.57 L 124601.318,448366.445 L 124645.044,448459.39 L 124651.741,448457.587 L 124681.762,448398.832 L 124695.575,448398.855 L 124703.901,448372.563 L 124681.991,448358.102 L 124640.242,448328.617 L 124599.307,448263.278 L 124682.751,448093.241 L 124600.094,448053.093 L 124494.936,448102.81 L 124487.074,448099.661 L 124481.562,448096.65 L 124503.267,448028.69 L 124447.375,448001.137 L 124395.42,447984.606 L 124349.761,447935.799 L 124305.678,447875.971 L 124196.109,447731.208 L 124192.147,447729.381 L 124186.573,447727.033 L 124167.465,447676.483 z\" fill=\"#66cc99\" fill-rule=\"evenodd\" opacity=\"0.6\" stroke=\"#555555\" stroke-width=\"6.681038399999961\"/></g></g></svg>"
      ],
      "text/plain": [
       "<IPython.core.display.SVG object>"
      ]
     },
     "execution_count": 9,
     "metadata": {},
     "output_type": "execute_result"
    }
   ],
   "source": [
    "#Plot the polygons which have same ID in 2010 and 2013 but do not overlap\n",
    "ids_compare = df_subset['id_2010'].values\n",
    "id_compare = ids_compare[0]\n",
    "g1 = gpd_2010[gpd_2010['GPGIDENT']==id_compare].iloc[0]['geometry']\n",
    "g2 = gpd_2013[gpd_2013['GPGIDENT']==id_compare].iloc[0]['geometry']\n",
    "\n",
    "svg_string = geometry.GeometryCollection([g1, g2])._repr_svg_()\n",
    "svg_string = svg_string.replace('stroke=\"#555555\"', 'stroke=\"red\"', 1)\n",
    "svg_string = svg_string.replace('fill=\"#ff3333\"', 'fill=\"red\"', 1)\n",
    "SVG(svg_string)\n"
   ]
  }
 ],
 "metadata": {
  "kernelspec": {
   "display_name": "Python 3",
   "language": "python",
   "name": "python3"
  },
  "language_info": {
   "codemirror_mode": {
    "name": "ipython",
    "version": 3
   },
   "file_extension": ".py",
   "mimetype": "text/x-python",
   "name": "python",
   "nbconvert_exporter": "python",
   "pygments_lexer": "ipython3",
   "version": "3.7.1"
  }
 },
 "nbformat": 4,
 "nbformat_minor": 2
}
