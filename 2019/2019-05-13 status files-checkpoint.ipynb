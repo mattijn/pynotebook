{
 "cells": [
  {
   "cell_type": "code",
   "execution_count": 1,
   "metadata": {},
   "outputs": [],
   "source": [
    "import hkvfewspy as fews\n",
    "import pandas as pd\n",
    "import json"
   ]
  },
  {
   "cell_type": "code",
   "execution_count": 2,
   "metadata": {},
   "outputs": [],
   "source": [
    "# pi url\n",
    "pi_url = 'https://db.dmhoutribdijk.nl/FewsWebServices/fewspiservice?wsdl'\n",
    "\n",
    "# location / parameter combinations to evaluate\n",
    "filter_id = 'f_ruw_ongevalideerd'\n",
    "parameter_ids = ['status.etro', 'status.isa','status.ysi', 'status.aqd', 'status.vec', 'status.rdi']\n",
    "location_ids = ['FL65','FL66','FL67','FL68','FL69','FL70','FL65_A','FL65_B','FL65_C','FL69_A','FL69_B','FL69_C']\n",
    "\n",
    "# status excel file\n",
    "status_xls = r\"P:\\PR\\3916.10\\DMS\\Stap1_Ongevalideerde_Standaard_Data\\status_overzicht.xlsx\"\n",
    "\n",
    "# output file\n",
    "file = r'D:\\Projects\\Pr\\3916.10\\Werkmap//prtg_out.json'"
   ]
  },
  {
   "cell_type": "code",
   "execution_count": 3,
   "metadata": {},
   "outputs": [],
   "source": [
    "pi = fews.Pi()\n",
    "pi.setClient(pi_url)"
   ]
  },
  {
   "cell_type": "code",
   "execution_count": 4,
   "metadata": {},
   "outputs": [],
   "source": [
    "# create rounded reference T0 \n",
    "T0 = pd.Timestamp.now().round('60min').tz_localize('Europe/Amsterdam')\n",
    "T0 = T0.tz_convert('Etc/GMT-1') # to timezone as in FEWS\n",
    "\n",
    "# and start- / end-date.\n",
    "start_date = T0 - pd.Timedelta(hours=3)\n",
    "end_date = T0 - pd.Timedelta(hours=2, minutes=10)"
   ]
  },
  {
   "cell_type": "code",
   "execution_count": 5,
   "metadata": {},
   "outputs": [],
   "source": [
    "# set query parameters\n",
    "query = pi.setQueryParameters()\n",
    "\n",
    "query.clientTimeZone('Etc/GMT-1')\n",
    "query.filterId(filter_id)\n",
    "query.parameterIds(parameter_ids)\n",
    "query.locationIds(location_ids)\n",
    "query.startTime(start_date)\n",
    "query.endTime(end_date)\n",
    "\n",
    "# request timeseries\n",
    "df = pi.getTimeSeries(queryParameters=query)"
   ]
  },
  {
   "cell_type": "code",
   "execution_count": 6,
   "metadata": {},
   "outputs": [],
   "source": [
    "# mask nodata values using the flag value\n",
    "df.value.mask(df.flag == 8, inplace=True)"
   ]
  },
  {
   "cell_type": "code",
   "execution_count": 7,
   "metadata": {},
   "outputs": [],
   "source": [
    "# apply join on paramter names\n",
    "lookup_pars = pi.getParameters(filterId=filter_id)\n",
    "lookup_pars = lookup_pars.T[['id','name']]\n",
    "df_merge = df.reset_index().merge(lookup_pars, left_on='parameterId', right_on='id')"
   ]
  },
  {
   "cell_type": "code",
   "execution_count": 8,
   "metadata": {},
   "outputs": [],
   "source": [
    "# get overview at which location parameter combination status information is expected\n",
    "df_overzicht = pd.read_excel(status_xls, index_col=0)"
   ]
  },
  {
   "cell_type": "code",
   "execution_count": 9,
   "metadata": {},
   "outputs": [],
   "source": [
    "# parse to combination data\n",
    "combinations = []\n",
    "for row in df_overzicht.iterrows():\n",
    "    for idx, item in enumerate(row[1]):\n",
    "        pair = {\n",
    "            'locId':row[0],\n",
    "            'parId':row[1].index[idx],\n",
    "            'monitor':item\n",
    "        }\n",
    "        combinations.append(pair)\n",
    "        \n",
    "df_monitor = pd.DataFrame.from_dict(combinations)        "
   ]
  },
  {
   "cell_type": "code",
   "execution_count": 10,
   "metadata": {},
   "outputs": [],
   "source": [
    "# apply inner-join on retrieved status information and overview of status setting\n",
    "df_status = df_merge.merge(df_monitor, left_on=['locationId', 'name'], right_on=['locId', 'parId'])\n",
    "df_status = df_status[['date', 'locationId', 'name', 'monitor','value']]"
   ]
  },
  {
   "cell_type": "code",
   "execution_count": 11,
   "metadata": {},
   "outputs": [],
   "source": [
    "# only select location parameter combinations where there is monitoring activated\n",
    "df_activated = df_status[df_status['monitor'] == 1]\n",
    "\n",
    "# filter where status is NaN or 0 (only value -1 is valid)\n",
    "msg_filter = [any(tup) for tup in zip(df_activated.value.isnull(), df_activated.value == 0)]\n",
    "df_msg = df_activated[msg_filter]"
   ]
  },
  {
   "cell_type": "code",
   "execution_count": 12,
   "metadata": {},
   "outputs": [],
   "source": [
    "# add columns for prtg\n",
    "df_msg['channel'] = df_msg['locationId']+ ' - ' + df_msg['name']\n",
    "df_msg['value_error'] = 2\n",
    "df_msg['limitmaxerror'] = 1\n",
    "df_msg['limitmode'] = 1\n",
    "df_msg['limiterrormsg'] = 'Melding: ' + df_msg['name'] + ' op locatie ' + df_msg['locationId'] + ' is zorgelijk rond ' + df_msg.date.dt.strftime('%Y-%m-%d %H:%M')"
   ]
  },
  {
   "cell_type": "code",
   "execution_count": 13,
   "metadata": {},
   "outputs": [],
   "source": [
    "# filter columns to output\n",
    "df_msg_out = df_msg[['channel','value_error','limitmaxerror', 'limitmode','limiterrormsg']]\n",
    "df_msg_out.columns = ['channel','value','limitmaxerror', 'limitmode','limiterrormsg']\n",
    "\n",
    "# save to file\n",
    "error_out = {\"prtg\":{\"result\": df_msg_out.to_dict(orient='records')}}\n",
    "with open(file, 'w') as f:\n",
    "    print(json.dumps(error_out), file=f)  # Python 3.x"
   ]
  },
  {
   "cell_type": "code",
   "execution_count": null,
   "metadata": {},
   "outputs": [],
   "source": [
    "# import altair as alt\n",
    "# # setup an interactive line chart for the year 1953-1955\n",
    "# line_chart = alt.Chart(data=df_msg, width=100, height=100).mark_line(\n",
    "#     point=True\n",
    "# ).encode(\n",
    "#     x='date',\n",
    "#     y='value',\n",
    "#     color=alt.Color('locationId', scale=alt.Scale(scheme='category20')),\n",
    "#     tooltip=['value', 'locationId', alt.Tooltip('date', format='%Y-%m-%d %H:%M')]\n",
    "# ).facet(\n",
    "#     column='name',\n",
    "#     row='locationId'\n",
    "# )\n",
    "\n",
    "# # diplay the chart\n",
    "# line_chart"
   ]
  }
 ],
 "metadata": {
  "kernelspec": {
   "display_name": "Python 3",
   "language": "python",
   "name": "python3"
  },
  "language_info": {
   "codemirror_mode": {
    "name": "ipython",
    "version": 3
   },
   "file_extension": ".py",
   "mimetype": "text/x-python",
   "name": "python",
   "nbconvert_exporter": "python",
   "pygments_lexer": "ipython3",
   "version": "3.6.5"
  }
 },
 "nbformat": 4,
 "nbformat_minor": 4
}
