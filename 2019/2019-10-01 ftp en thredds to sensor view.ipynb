{
 "cells": [
  {
   "cell_type": "code",
   "execution_count": 1,
   "metadata": {},
   "outputs": [],
   "source": [
    "import pandas as pd\n",
    "import altair as alt"
   ]
  },
  {
   "cell_type": "code",
   "execution_count": 2,
   "metadata": {},
   "outputs": [],
   "source": [
    "ftp_url = 'https://dmws.hkvservices.nl/dataportal/data.asmx/read2?database=dmshoutribdijk&key=csv_ftp_standard_data&contentType=text/plain'\n",
    "std_url = 'https://dmws.hkvservices.nl/dataportal/data.asmx/read2?database=dmshoutribdijk&key=csv_thredds_standard_data&contentType=text/plain'\n",
    "tld_url = 'https://dmws.hkvservices.nl/dataportal/data.asmx/read2?database=dmshoutribdijk&key=csv_thredds_tailored_data&contentType=text/plain'"
   ]
  },
  {
   "cell_type": "code",
   "execution_count": 3,
   "metadata": {},
   "outputs": [],
   "source": [
    "df_ftp = pd.read_csv(ftp_url,index_col=0)\n",
    "df_ftp = df_ftp.assign(Origin='ftp')\n",
    "\n",
    "df_std = pd.read_csv(std_url,index_col=0)\n",
    "df_std = df_std.assign(Origin='standard')\n",
    "\n",
    "df_tld = pd.read_csv(tld_url,index_col=0)\n",
    "df_tld = df_tld.assign(Origin='tailored')"
   ]
  },
  {
   "cell_type": "code",
   "execution_count": 4,
   "metadata": {},
   "outputs": [],
   "source": [
    "df = pd.concat([df_std, df_tld, df_ftp], axis=0, sort=True)"
   ]
  },
  {
   "cell_type": "code",
   "execution_count": null,
   "metadata": {},
   "outputs": [
    {
     "data": {
      "application/vnd.vegalite.v3+json": {
       "$schema": "https://vega.github.io/schema/vega-lite/v3.4.0.json",
       "config": {
        "axisX": {
         "labelAngle": -45
        },
        "axisY": {
         "titleAlign": "left",
         "titleAngle": 0,
         "titleX": -50,
         "titleY": -3
        },
        "header": {
         "titleAnchor": "start",
         "titleFontSize": 16
        },
        "mark": {
         "tooltip": null
        },
        "scale": {
         "bandPaddingInner": 0.05,
         "bandPaddingOuter": 0.05
        },
        "view": {
         "height": 300,
         "width": 400
        }
       },
       "data": {
        "name": "data-09b988c4dac43127b80e867ca7faecfe"
       },
       "datasets": {
        "data-09b988c4dac43127b80e867ca7faecfe": [
         {
          "Date": "2019-09-09",
          "Expected files": 1,
          "Files received": 1,
          "Locatie": "FL65",
          "Origin": "standard",
          "Sensor": "STB",
          "Valid files": 1
         },
         {
          "Date": "2019-09-10",
          "Expected files": 1,
          "Files received": 1,
          "Locatie": "FL65",
          "Origin": "standard",
          "Sensor": "STB",
          "Valid files": 1
         },
         {
          "Date": "2019-09-11",
          "Expected files": 1,
          "Files received": 1,
          "Locatie": "FL65",
          "Origin": "standard",
          "Sensor": "STB",
          "Valid files": 1
         },
         {
          "Date": "2019-09-12",
          "Expected files": 1,
          "Files received": 1,
          "Locatie": "FL65",
          "Origin": "standard",
          "Sensor": "STB",
          "Valid files": 1
         },
         {
          "Date": "2019-09-13",
          "Expected files": 1,
          "Files received": 1,
          "Locatie": "FL65",
          "Origin": "standard",
          "Sensor": "STB",
          "Valid files": 1
         },
         {
          "Date": "2019-09-14",
          "Expected files": 1,
          "Files received": 1,
          "Locatie": "FL65",
          "Origin": "standard",
          "Sensor": "STB",
          "Valid files": 1
         },
         {
          "Date": "2019-09-15",
          "Expected files": 1,
          "Files received": 1,
          "Locatie": "FL65",
          "Origin": "standard",
          "Sensor": "STB",
          "Valid files": 1
         },
         {
          "Date": "2019-09-16",
          "Expected files": 1,
          "Files received": 1,
          "Locatie": "FL65",
          "Origin": "standard",
          "Sensor": "STB",
          "Valid files": 1
         },
         {
          "Date": "2019-09-17",
          "Expected files": 1,
          "Files received": 0,
          "Locatie": "FL65",
          "Origin": "standard",
          "Sensor": "STB",
          "Valid files": 0
         },
         {
          "Date": "2019-09-18",
          "Expected files": 1,
          "Files received": 0,
          "Locatie": "FL65",
          "Origin": "standard",
          "Sensor": "STB",
          "Valid files": 0
         },
         {
          "Date": "2019-09-19",
          "Expected files": 1,
          "Files received": 0,
          "Locatie": "FL65",
          "Origin": "standard",
          "Sensor": "STB",
          "Valid files": 0
         },
         {
          "Date": "2019-09-20",
          "Expected files": 1,
          "Files received": 1,
          "Locatie": "FL65",
          "Origin": "standard",
          "Sensor": "STB",
          "Valid files": 1
         },
         {
          "Date": "2019-09-21",
          "Expected files": 1,
          "Files received": 1,
          "Locatie": "FL65",
          "Origin": "standard",
          "Sensor": "STB",
          "Valid files": 1
         },
         {
          "Date": "2019-09-22",
          "Expected files": 1,
          "Files received": 1,
          "Locatie": "FL65",
          "Origin": "standard",
          "Sensor": "STB",
          "Valid files": 1
         },
         {
          "Date": "2019-09-23",
          "Expected files": 1,
          "Files received": 1,
          "Locatie": "FL65",
          "Origin": "standard",
          "Sensor": "STB",
          "Valid files": 1
         },
         {
          "Date": "2019-09-24",
          "Expected files": 1,
          "Files received": 1,
          "Locatie": "FL65",
          "Origin": "standard",
          "Sensor": "STB",
          "Valid files": 1
         },
         {
          "Date": "2019-09-25",
          "Expected files": 1,
          "Files received": 1,
          "Locatie": "FL65",
          "Origin": "standard",
          "Sensor": "STB",
          "Valid files": 1
         },
         {
          "Date": "2019-09-26",
          "Expected files": 1,
          "Files received": 1,
          "Locatie": "FL65",
          "Origin": "standard",
          "Sensor": "STB",
          "Valid files": 1
         },
         {
          "Date": "2019-09-27",
          "Expected files": 1,
          "Files received": 1,
          "Locatie": "FL65",
          "Origin": "standard",
          "Sensor": "STB",
          "Valid files": 1
         },
         {
          "Date": "2019-09-28",
          "Expected files": 1,
          "Files received": 1,
          "Locatie": "FL65",
          "Origin": "standard",
          "Sensor": "STB",
          "Valid files": 1
         },
         {
          "Date": "2019-09-29",
          "Expected files": 1,
          "Files received": 1,
          "Locatie": "FL65",
          "Origin": "standard",
          "Sensor": "STB",
          "Valid files": 1
         },
         {
          "Date": "2019-09-30",
          "Expected files": 1,
          "Files received": 1,
          "Locatie": "FL65",
          "Origin": "standard",
          "Sensor": "STB",
          "Valid files": 1
         },
         {
          "Date": "2019-10-01",
          "Expected files": 1,
          "Files received": 1,
          "Locatie": "FL65",
          "Origin": "standard",
          "Sensor": "STB",
          "Valid files": 1
         },
         {
          "Date": "2019-10-02",
          "Expected files": 1,
          "Files received": 1,
          "Locatie": "FL65",
          "Origin": "standard",
          "Sensor": "STB",
          "Valid files": 1
         },
         {
          "Date": "2019-10-03",
          "Expected files": 1,
          "Files received": 0,
          "Locatie": "FL65",
          "Origin": "standard",
          "Sensor": "STB",
          "Valid files": 0
         },
         {
          "Date": "2019-10-04",
          "Expected files": 1,
          "Files received": 0,
          "Locatie": "FL65",
          "Origin": "standard",
          "Sensor": "STB",
          "Valid files": 0
         },
         {
          "Date": "2019-10-05",
          "Expected files": 1,
          "Files received": 0,
          "Locatie": "FL65",
          "Origin": "standard",
          "Sensor": "STB",
          "Valid files": 0
         },
         {
          "Date": "2019-10-06",
          "Expected files": 1,
          "Files received": 0,
          "Locatie": "FL65",
          "Origin": "standard",
          "Sensor": "STB",
          "Valid files": 0
         },
         {
          "Date": "2019-10-07",
          "Expected files": 1,
          "Files received": 0,
          "Locatie": "FL65",
          "Origin": "standard",
          "Sensor": "STB",
          "Valid files": 0
         },
         {
          "Date": "2019-10-08",
          "Expected files": 1,
          "Files received": 0,
          "Locatie": "FL65",
          "Origin": "standard",
          "Sensor": "STB",
          "Valid files": 0
         },
         {
          "Date": "2019-09-09",
          "Expected files": 1,
          "Files received": 1,
          "Locatie": "FL66",
          "Origin": "standard",
          "Sensor": "STB",
          "Valid files": 1
         },
         {
          "Date": "2019-09-10",
          "Expected files": 1,
          "Files received": 1,
          "Locatie": "FL66",
          "Origin": "standard",
          "Sensor": "STB",
          "Valid files": 1
         },
         {
          "Date": "2019-09-11",
          "Expected files": 1,
          "Files received": 1,
          "Locatie": "FL66",
          "Origin": "standard",
          "Sensor": "STB",
          "Valid files": 1
         },
         {
          "Date": "2019-09-12",
          "Expected files": 1,
          "Files received": 1,
          "Locatie": "FL66",
          "Origin": "standard",
          "Sensor": "STB",
          "Valid files": 1
         },
         {
          "Date": "2019-09-13",
          "Expected files": 1,
          "Files received": 1,
          "Locatie": "FL66",
          "Origin": "standard",
          "Sensor": "STB",
          "Valid files": 1
         },
         {
          "Date": "2019-09-14",
          "Expected files": 1,
          "Files received": 1,
          "Locatie": "FL66",
          "Origin": "standard",
          "Sensor": "STB",
          "Valid files": 1
         },
         {
          "Date": "2019-09-15",
          "Expected files": 1,
          "Files received": 1,
          "Locatie": "FL66",
          "Origin": "standard",
          "Sensor": "STB",
          "Valid files": 1
         },
         {
          "Date": "2019-09-16",
          "Expected files": 1,
          "Files received": 1,
          "Locatie": "FL66",
          "Origin": "standard",
          "Sensor": "STB",
          "Valid files": 1
         },
         {
          "Date": "2019-09-17",
          "Expected files": 1,
          "Files received": 0,
          "Locatie": "FL66",
          "Origin": "standard",
          "Sensor": "STB",
          "Valid files": 0
         },
         {
          "Date": "2019-09-18",
          "Expected files": 1,
          "Files received": 0,
          "Locatie": "FL66",
          "Origin": "standard",
          "Sensor": "STB",
          "Valid files": 0
         },
         {
          "Date": "2019-09-19",
          "Expected files": 1,
          "Files received": 0,
          "Locatie": "FL66",
          "Origin": "standard",
          "Sensor": "STB",
          "Valid files": 0
         },
         {
          "Date": "2019-09-20",
          "Expected files": 1,
          "Files received": 1,
          "Locatie": "FL66",
          "Origin": "standard",
          "Sensor": "STB",
          "Valid files": 1
         },
         {
          "Date": "2019-09-21",
          "Expected files": 1,
          "Files received": 1,
          "Locatie": "FL66",
          "Origin": "standard",
          "Sensor": "STB",
          "Valid files": 1
         },
         {
          "Date": "2019-09-22",
          "Expected files": 1,
          "Files received": 1,
          "Locatie": "FL66",
          "Origin": "standard",
          "Sensor": "STB",
          "Valid files": 1
         },
         {
          "Date": "2019-09-23",
          "Expected files": 1,
          "Files received": 1,
          "Locatie": "FL66",
          "Origin": "standard",
          "Sensor": "STB",
          "Valid files": 1
         },
         {
          "Date": "2019-09-24",
          "Expected files": 1,
          "Files received": 1,
          "Locatie": "FL66",
          "Origin": "standard",
          "Sensor": "STB",
          "Valid files": 1
         },
         {
          "Date": "2019-09-25",
          "Expected files": 1,
          "Files received": 1,
          "Locatie": "FL66",
          "Origin": "standard",
          "Sensor": "STB",
          "Valid files": 1
         },
         {
          "Date": "2019-09-26",
          "Expected files": 1,
          "Files received": 1,
          "Locatie": "FL66",
          "Origin": "standard",
          "Sensor": "STB",
          "Valid files": 1
         },
         {
          "Date": "2019-09-27",
          "Expected files": 1,
          "Files received": 1,
          "Locatie": "FL66",
          "Origin": "standard",
          "Sensor": "STB",
          "Valid files": 1
         },
         {
          "Date": "2019-09-28",
          "Expected files": 1,
          "Files received": 1,
          "Locatie": "FL66",
          "Origin": "standard",
          "Sensor": "STB",
          "Valid files": 1
         },
         {
          "Date": "2019-09-29",
          "Expected files": 1,
          "Files received": 1,
          "Locatie": "FL66",
          "Origin": "standard",
          "Sensor": "STB",
          "Valid files": 1
         },
         {
          "Date": "2019-09-30",
          "Expected files": 1,
          "Files received": 1,
          "Locatie": "FL66",
          "Origin": "standard",
          "Sensor": "STB",
          "Valid files": 1
         },
         {
          "Date": "2019-10-01",
          "Expected files": 1,
          "Files received": 1,
          "Locatie": "FL66",
          "Origin": "standard",
          "Sensor": "STB",
          "Valid files": 1
         },
         {
          "Date": "2019-10-02",
          "Expected files": 1,
          "Files received": 1,
          "Locatie": "FL66",
          "Origin": "standard",
          "Sensor": "STB",
          "Valid files": 1
         },
         {
          "Date": "2019-10-03",
          "Expected files": 1,
          "Files received": 0,
          "Locatie": "FL66",
          "Origin": "standard",
          "Sensor": "STB",
          "Valid files": 0
         },
         {
          "Date": "2019-10-04",
          "Expected files": 1,
          "Files received": 0,
          "Locatie": "FL66",
          "Origin": "standard",
          "Sensor": "STB",
          "Valid files": 0
         },
         {
          "Date": "2019-10-05",
          "Expected files": 1,
          "Files received": 0,
          "Locatie": "FL66",
          "Origin": "standard",
          "Sensor": "STB",
          "Valid files": 0
         },
         {
          "Date": "2019-10-06",
          "Expected files": 1,
          "Files received": 0,
          "Locatie": "FL66",
          "Origin": "standard",
          "Sensor": "STB",
          "Valid files": 0
         },
         {
          "Date": "2019-10-07",
          "Expected files": 1,
          "Files received": 0,
          "Locatie": "FL66",
          "Origin": "standard",
          "Sensor": "STB",
          "Valid files": 0
         },
         {
          "Date": "2019-10-08",
          "Expected files": 1,
          "Files received": 0,
          "Locatie": "FL66",
          "Origin": "standard",
          "Sensor": "STB",
          "Valid files": 0
         },
         {
          "Date": "2019-09-09",
          "Expected files": 1,
          "Files received": 1,
          "Locatie": "FL67",
          "Origin": "standard",
          "Sensor": "STB",
          "Valid files": 1
         },
         {
          "Date": "2019-09-10",
          "Expected files": 1,
          "Files received": 1,
          "Locatie": "FL67",
          "Origin": "standard",
          "Sensor": "STB",
          "Valid files": 1
         },
         {
          "Date": "2019-09-11",
          "Expected files": 1,
          "Files received": 1,
          "Locatie": "FL67",
          "Origin": "standard",
          "Sensor": "STB",
          "Valid files": 1
         },
         {
          "Date": "2019-09-12",
          "Expected files": 1,
          "Files received": 1,
          "Locatie": "FL67",
          "Origin": "standard",
          "Sensor": "STB",
          "Valid files": 1
         },
         {
          "Date": "2019-09-13",
          "Expected files": 1,
          "Files received": 1,
          "Locatie": "FL67",
          "Origin": "standard",
          "Sensor": "STB",
          "Valid files": 1
         },
         {
          "Date": "2019-09-14",
          "Expected files": 1,
          "Files received": 1,
          "Locatie": "FL67",
          "Origin": "standard",
          "Sensor": "STB",
          "Valid files": 1
         },
         {
          "Date": "2019-09-15",
          "Expected files": 1,
          "Files received": 1,
          "Locatie": "FL67",
          "Origin": "standard",
          "Sensor": "STB",
          "Valid files": 1
         },
         {
          "Date": "2019-09-16",
          "Expected files": 1,
          "Files received": 1,
          "Locatie": "FL67",
          "Origin": "standard",
          "Sensor": "STB",
          "Valid files": 1
         },
         {
          "Date": "2019-09-17",
          "Expected files": 1,
          "Files received": 0,
          "Locatie": "FL67",
          "Origin": "standard",
          "Sensor": "STB",
          "Valid files": 0
         },
         {
          "Date": "2019-09-18",
          "Expected files": 1,
          "Files received": 0,
          "Locatie": "FL67",
          "Origin": "standard",
          "Sensor": "STB",
          "Valid files": 0
         },
         {
          "Date": "2019-09-19",
          "Expected files": 1,
          "Files received": 0,
          "Locatie": "FL67",
          "Origin": "standard",
          "Sensor": "STB",
          "Valid files": 0
         },
         {
          "Date": "2019-09-20",
          "Expected files": 1,
          "Files received": 1,
          "Locatie": "FL67",
          "Origin": "standard",
          "Sensor": "STB",
          "Valid files": 1
         },
         {
          "Date": "2019-09-21",
          "Expected files": 1,
          "Files received": 1,
          "Locatie": "FL67",
          "Origin": "standard",
          "Sensor": "STB",
          "Valid files": 1
         },
         {
          "Date": "2019-09-22",
          "Expected files": 1,
          "Files received": 1,
          "Locatie": "FL67",
          "Origin": "standard",
          "Sensor": "STB",
          "Valid files": 1
         },
         {
          "Date": "2019-09-23",
          "Expected files": 1,
          "Files received": 1,
          "Locatie": "FL67",
          "Origin": "standard",
          "Sensor": "STB",
          "Valid files": 1
         },
         {
          "Date": "2019-09-24",
          "Expected files": 1,
          "Files received": 1,
          "Locatie": "FL67",
          "Origin": "standard",
          "Sensor": "STB",
          "Valid files": 1
         },
         {
          "Date": "2019-09-25",
          "Expected files": 1,
          "Files received": 1,
          "Locatie": "FL67",
          "Origin": "standard",
          "Sensor": "STB",
          "Valid files": 1
         },
         {
          "Date": "2019-09-26",
          "Expected files": 1,
          "Files received": 1,
          "Locatie": "FL67",
          "Origin": "standard",
          "Sensor": "STB",
          "Valid files": 1
         },
         {
          "Date": "2019-09-27",
          "Expected files": 1,
          "Files received": 1,
          "Locatie": "FL67",
          "Origin": "standard",
          "Sensor": "STB",
          "Valid files": 1
         },
         {
          "Date": "2019-09-28",
          "Expected files": 1,
          "Files received": 1,
          "Locatie": "FL67",
          "Origin": "standard",
          "Sensor": "STB",
          "Valid files": 1
         },
         {
          "Date": "2019-09-29",
          "Expected files": 1,
          "Files received": 1,
          "Locatie": "FL67",
          "Origin": "standard",
          "Sensor": "STB",
          "Valid files": 1
         },
         {
          "Date": "2019-09-30",
          "Expected files": 1,
          "Files received": 1,
          "Locatie": "FL67",
          "Origin": "standard",
          "Sensor": "STB",
          "Valid files": 1
         },
         {
          "Date": "2019-10-01",
          "Expected files": 1,
          "Files received": 1,
          "Locatie": "FL67",
          "Origin": "standard",
          "Sensor": "STB",
          "Valid files": 1
         },
         {
          "Date": "2019-10-02",
          "Expected files": 1,
          "Files received": 1,
          "Locatie": "FL67",
          "Origin": "standard",
          "Sensor": "STB",
          "Valid files": 1
         },
         {
          "Date": "2019-10-03",
          "Expected files": 1,
          "Files received": 0,
          "Locatie": "FL67",
          "Origin": "standard",
          "Sensor": "STB",
          "Valid files": 0
         },
         {
          "Date": "2019-10-04",
          "Expected files": 1,
          "Files received": 0,
          "Locatie": "FL67",
          "Origin": "standard",
          "Sensor": "STB",
          "Valid files": 0
         },
         {
          "Date": "2019-10-05",
          "Expected files": 1,
          "Files received": 0,
          "Locatie": "FL67",
          "Origin": "standard",
          "Sensor": "STB",
          "Valid files": 0
         },
         {
          "Date": "2019-10-06",
          "Expected files": 1,
          "Files received": 0,
          "Locatie": "FL67",
          "Origin": "standard",
          "Sensor": "STB",
          "Valid files": 0
         },
         {
          "Date": "2019-10-07",
          "Expected files": 1,
          "Files received": 0,
          "Locatie": "FL67",
          "Origin": "standard",
          "Sensor": "STB",
          "Valid files": 0
         },
         {
          "Date": "2019-10-08",
          "Expected files": 1,
          "Files received": 0,
          "Locatie": "FL67",
          "Origin": "standard",
          "Sensor": "STB",
          "Valid files": 0
         },
         {
          "Date": "2019-09-09",
          "Expected files": 1,
          "Files received": 1,
          "Locatie": "FL68",
          "Origin": "standard",
          "Sensor": "STB",
          "Valid files": 1
         },
         {
          "Date": "2019-09-10",
          "Expected files": 1,
          "Files received": 1,
          "Locatie": "FL68",
          "Origin": "standard",
          "Sensor": "STB",
          "Valid files": 1
         },
         {
          "Date": "2019-09-11",
          "Expected files": 1,
          "Files received": 1,
          "Locatie": "FL68",
          "Origin": "standard",
          "Sensor": "STB",
          "Valid files": 1
         },
         {
          "Date": "2019-09-12",
          "Expected files": 1,
          "Files received": 1,
          "Locatie": "FL68",
          "Origin": "standard",
          "Sensor": "STB",
          "Valid files": 1
         },
         {
          "Date": "2019-09-13",
          "Expected files": 1,
          "Files received": 1,
          "Locatie": "FL68",
          "Origin": "standard",
          "Sensor": "STB",
          "Valid files": 1
         },
         {
          "Date": "2019-09-14",
          "Expected files": 1,
          "Files received": 1,
          "Locatie": "FL68",
          "Origin": "standard",
          "Sensor": "STB",
          "Valid files": 1
         },
         {
          "Date": "2019-09-15",
          "Expected files": 1,
          "Files received": 1,
          "Locatie": "FL68",
          "Origin": "standard",
          "Sensor": "STB",
          "Valid files": 1
         },
         {
          "Date": "2019-09-16",
          "Expected files": 1,
          "Files received": 1,
          "Locatie": "FL68",
          "Origin": "standard",
          "Sensor": "STB",
          "Valid files": 1
         },
         {
          "Date": "2019-09-17",
          "Expected files": 1,
          "Files received": 0,
          "Locatie": "FL68",
          "Origin": "standard",
          "Sensor": "STB",
          "Valid files": 0
         },
         {
          "Date": "2019-09-18",
          "Expected files": 1,
          "Files received": 0,
          "Locatie": "FL68",
          "Origin": "standard",
          "Sensor": "STB",
          "Valid files": 0
         },
         {
          "Date": "2019-09-19",
          "Expected files": 1,
          "Files received": 0,
          "Locatie": "FL68",
          "Origin": "standard",
          "Sensor": "STB",
          "Valid files": 0
         },
         {
          "Date": "2019-09-20",
          "Expected files": 1,
          "Files received": 1,
          "Locatie": "FL68",
          "Origin": "standard",
          "Sensor": "STB",
          "Valid files": 1
         },
         {
          "Date": "2019-09-21",
          "Expected files": 1,
          "Files received": 1,
          "Locatie": "FL68",
          "Origin": "standard",
          "Sensor": "STB",
          "Valid files": 1
         },
         {
          "Date": "2019-09-22",
          "Expected files": 1,
          "Files received": 1,
          "Locatie": "FL68",
          "Origin": "standard",
          "Sensor": "STB",
          "Valid files": 1
         },
         {
          "Date": "2019-09-23",
          "Expected files": 1,
          "Files received": 1,
          "Locatie": "FL68",
          "Origin": "standard",
          "Sensor": "STB",
          "Valid files": 1
         },
         {
          "Date": "2019-09-24",
          "Expected files": 1,
          "Files received": 1,
          "Locatie": "FL68",
          "Origin": "standard",
          "Sensor": "STB",
          "Valid files": 1
         },
         {
          "Date": "2019-09-25",
          "Expected files": 1,
          "Files received": 1,
          "Locatie": "FL68",
          "Origin": "standard",
          "Sensor": "STB",
          "Valid files": 1
         },
         {
          "Date": "2019-09-26",
          "Expected files": 1,
          "Files received": 1,
          "Locatie": "FL68",
          "Origin": "standard",
          "Sensor": "STB",
          "Valid files": 1
         },
         {
          "Date": "2019-09-27",
          "Expected files": 1,
          "Files received": 1,
          "Locatie": "FL68",
          "Origin": "standard",
          "Sensor": "STB",
          "Valid files": 1
         },
         {
          "Date": "2019-09-28",
          "Expected files": 1,
          "Files received": 1,
          "Locatie": "FL68",
          "Origin": "standard",
          "Sensor": "STB",
          "Valid files": 1
         },
         {
          "Date": "2019-09-29",
          "Expected files": 1,
          "Files received": 1,
          "Locatie": "FL68",
          "Origin": "standard",
          "Sensor": "STB",
          "Valid files": 1
         },
         {
          "Date": "2019-09-30",
          "Expected files": 1,
          "Files received": 1,
          "Locatie": "FL68",
          "Origin": "standard",
          "Sensor": "STB",
          "Valid files": 1
         },
         {
          "Date": "2019-10-01",
          "Expected files": 1,
          "Files received": 1,
          "Locatie": "FL68",
          "Origin": "standard",
          "Sensor": "STB",
          "Valid files": 1
         },
         {
          "Date": "2019-10-02",
          "Expected files": 1,
          "Files received": 1,
          "Locatie": "FL68",
          "Origin": "standard",
          "Sensor": "STB",
          "Valid files": 1
         },
         {
          "Date": "2019-10-03",
          "Expected files": 1,
          "Files received": 0,
          "Locatie": "FL68",
          "Origin": "standard",
          "Sensor": "STB",
          "Valid files": 0
         },
         {
          "Date": "2019-10-04",
          "Expected files": 1,
          "Files received": 0,
          "Locatie": "FL68",
          "Origin": "standard",
          "Sensor": "STB",
          "Valid files": 0
         },
         {
          "Date": "2019-10-05",
          "Expected files": 1,
          "Files received": 0,
          "Locatie": "FL68",
          "Origin": "standard",
          "Sensor": "STB",
          "Valid files": 0
         },
         {
          "Date": "2019-10-06",
          "Expected files": 1,
          "Files received": 0,
          "Locatie": "FL68",
          "Origin": "standard",
          "Sensor": "STB",
          "Valid files": 0
         },
         {
          "Date": "2019-10-07",
          "Expected files": 1,
          "Files received": 0,
          "Locatie": "FL68",
          "Origin": "standard",
          "Sensor": "STB",
          "Valid files": 0
         },
         {
          "Date": "2019-10-08",
          "Expected files": 1,
          "Files received": 0,
          "Locatie": "FL68",
          "Origin": "standard",
          "Sensor": "STB",
          "Valid files": 0
         },
         {
          "Date": "2019-09-09",
          "Expected files": 1,
          "Files received": 1,
          "Locatie": "FL69",
          "Origin": "standard",
          "Sensor": "STB",
          "Valid files": 1
         },
         {
          "Date": "2019-09-10",
          "Expected files": 1,
          "Files received": 1,
          "Locatie": "FL69",
          "Origin": "standard",
          "Sensor": "STB",
          "Valid files": 1
         },
         {
          "Date": "2019-09-11",
          "Expected files": 1,
          "Files received": 1,
          "Locatie": "FL69",
          "Origin": "standard",
          "Sensor": "STB",
          "Valid files": 1
         },
         {
          "Date": "2019-09-12",
          "Expected files": 1,
          "Files received": 1,
          "Locatie": "FL69",
          "Origin": "standard",
          "Sensor": "STB",
          "Valid files": 1
         },
         {
          "Date": "2019-09-13",
          "Expected files": 1,
          "Files received": 1,
          "Locatie": "FL69",
          "Origin": "standard",
          "Sensor": "STB",
          "Valid files": 1
         },
         {
          "Date": "2019-09-14",
          "Expected files": 1,
          "Files received": 1,
          "Locatie": "FL69",
          "Origin": "standard",
          "Sensor": "STB",
          "Valid files": 1
         },
         {
          "Date": "2019-09-15",
          "Expected files": 1,
          "Files received": 1,
          "Locatie": "FL69",
          "Origin": "standard",
          "Sensor": "STB",
          "Valid files": 1
         },
         {
          "Date": "2019-09-16",
          "Expected files": 1,
          "Files received": 1,
          "Locatie": "FL69",
          "Origin": "standard",
          "Sensor": "STB",
          "Valid files": 1
         },
         {
          "Date": "2019-09-17",
          "Expected files": 1,
          "Files received": 0,
          "Locatie": "FL69",
          "Origin": "standard",
          "Sensor": "STB",
          "Valid files": 0
         },
         {
          "Date": "2019-09-18",
          "Expected files": 1,
          "Files received": 0,
          "Locatie": "FL69",
          "Origin": "standard",
          "Sensor": "STB",
          "Valid files": 0
         },
         {
          "Date": "2019-09-19",
          "Expected files": 1,
          "Files received": 0,
          "Locatie": "FL69",
          "Origin": "standard",
          "Sensor": "STB",
          "Valid files": 0
         },
         {
          "Date": "2019-09-20",
          "Expected files": 1,
          "Files received": 0,
          "Locatie": "FL69",
          "Origin": "standard",
          "Sensor": "STB",
          "Valid files": 0
         },
         {
          "Date": "2019-09-21",
          "Expected files": 1,
          "Files received": 1,
          "Locatie": "FL69",
          "Origin": "standard",
          "Sensor": "STB",
          "Valid files": 1
         },
         {
          "Date": "2019-09-22",
          "Expected files": 1,
          "Files received": 1,
          "Locatie": "FL69",
          "Origin": "standard",
          "Sensor": "STB",
          "Valid files": 1
         },
         {
          "Date": "2019-09-23",
          "Expected files": 1,
          "Files received": 1,
          "Locatie": "FL69",
          "Origin": "standard",
          "Sensor": "STB",
          "Valid files": 1
         },
         {
          "Date": "2019-09-24",
          "Expected files": 1,
          "Files received": 1,
          "Locatie": "FL69",
          "Origin": "standard",
          "Sensor": "STB",
          "Valid files": 1
         },
         {
          "Date": "2019-09-25",
          "Expected files": 1,
          "Files received": 1,
          "Locatie": "FL69",
          "Origin": "standard",
          "Sensor": "STB",
          "Valid files": 1
         },
         {
          "Date": "2019-09-26",
          "Expected files": 1,
          "Files received": 1,
          "Locatie": "FL69",
          "Origin": "standard",
          "Sensor": "STB",
          "Valid files": 1
         },
         {
          "Date": "2019-09-27",
          "Expected files": 1,
          "Files received": 1,
          "Locatie": "FL69",
          "Origin": "standard",
          "Sensor": "STB",
          "Valid files": 1
         },
         {
          "Date": "2019-09-28",
          "Expected files": 1,
          "Files received": 1,
          "Locatie": "FL69",
          "Origin": "standard",
          "Sensor": "STB",
          "Valid files": 1
         },
         {
          "Date": "2019-09-29",
          "Expected files": 1,
          "Files received": 1,
          "Locatie": "FL69",
          "Origin": "standard",
          "Sensor": "STB",
          "Valid files": 1
         },
         {
          "Date": "2019-09-30",
          "Expected files": 1,
          "Files received": 1,
          "Locatie": "FL69",
          "Origin": "standard",
          "Sensor": "STB",
          "Valid files": 1
         },
         {
          "Date": "2019-10-01",
          "Expected files": 1,
          "Files received": 1,
          "Locatie": "FL69",
          "Origin": "standard",
          "Sensor": "STB",
          "Valid files": 1
         },
         {
          "Date": "2019-10-02",
          "Expected files": 1,
          "Files received": 1,
          "Locatie": "FL69",
          "Origin": "standard",
          "Sensor": "STB",
          "Valid files": 1
         },
         {
          "Date": "2019-10-03",
          "Expected files": 1,
          "Files received": 0,
          "Locatie": "FL69",
          "Origin": "standard",
          "Sensor": "STB",
          "Valid files": 0
         },
         {
          "Date": "2019-10-04",
          "Expected files": 1,
          "Files received": 0,
          "Locatie": "FL69",
          "Origin": "standard",
          "Sensor": "STB",
          "Valid files": 0
         },
         {
          "Date": "2019-10-05",
          "Expected files": 1,
          "Files received": 0,
          "Locatie": "FL69",
          "Origin": "standard",
          "Sensor": "STB",
          "Valid files": 0
         },
         {
          "Date": "2019-10-06",
          "Expected files": 1,
          "Files received": 0,
          "Locatie": "FL69",
          "Origin": "standard",
          "Sensor": "STB",
          "Valid files": 0
         },
         {
          "Date": "2019-10-07",
          "Expected files": 1,
          "Files received": 0,
          "Locatie": "FL69",
          "Origin": "standard",
          "Sensor": "STB",
          "Valid files": 0
         },
         {
          "Date": "2019-10-08",
          "Expected files": 1,
          "Files received": 0,
          "Locatie": "FL69",
          "Origin": "standard",
          "Sensor": "STB",
          "Valid files": 0
         },
         {
          "Date": "2019-09-09",
          "Expected files": 1,
          "Files received": 1,
          "Locatie": "FL70",
          "Origin": "standard",
          "Sensor": "STB",
          "Valid files": 1
         },
         {
          "Date": "2019-09-10",
          "Expected files": 1,
          "Files received": 1,
          "Locatie": "FL70",
          "Origin": "standard",
          "Sensor": "STB",
          "Valid files": 1
         },
         {
          "Date": "2019-09-11",
          "Expected files": 1,
          "Files received": 1,
          "Locatie": "FL70",
          "Origin": "standard",
          "Sensor": "STB",
          "Valid files": 1
         },
         {
          "Date": "2019-09-12",
          "Expected files": 1,
          "Files received": 1,
          "Locatie": "FL70",
          "Origin": "standard",
          "Sensor": "STB",
          "Valid files": 1
         },
         {
          "Date": "2019-09-13",
          "Expected files": 1,
          "Files received": 1,
          "Locatie": "FL70",
          "Origin": "standard",
          "Sensor": "STB",
          "Valid files": 1
         },
         {
          "Date": "2019-09-14",
          "Expected files": 1,
          "Files received": 1,
          "Locatie": "FL70",
          "Origin": "standard",
          "Sensor": "STB",
          "Valid files": 1
         },
         {
          "Date": "2019-09-15",
          "Expected files": 1,
          "Files received": 1,
          "Locatie": "FL70",
          "Origin": "standard",
          "Sensor": "STB",
          "Valid files": 1
         },
         {
          "Date": "2019-09-16",
          "Expected files": 1,
          "Files received": 1,
          "Locatie": "FL70",
          "Origin": "standard",
          "Sensor": "STB",
          "Valid files": 1
         },
         {
          "Date": "2019-09-17",
          "Expected files": 1,
          "Files received": 0,
          "Locatie": "FL70",
          "Origin": "standard",
          "Sensor": "STB",
          "Valid files": 0
         },
         {
          "Date": "2019-09-18",
          "Expected files": 1,
          "Files received": 0,
          "Locatie": "FL70",
          "Origin": "standard",
          "Sensor": "STB",
          "Valid files": 0
         },
         {
          "Date": "2019-09-19",
          "Expected files": 1,
          "Files received": 0,
          "Locatie": "FL70",
          "Origin": "standard",
          "Sensor": "STB",
          "Valid files": 0
         },
         {
          "Date": "2019-09-20",
          "Expected files": 1,
          "Files received": 0,
          "Locatie": "FL70",
          "Origin": "standard",
          "Sensor": "STB",
          "Valid files": 0
         },
         {
          "Date": "2019-09-21",
          "Expected files": 1,
          "Files received": 1,
          "Locatie": "FL70",
          "Origin": "standard",
          "Sensor": "STB",
          "Valid files": 1
         },
         {
          "Date": "2019-09-22",
          "Expected files": 1,
          "Files received": 1,
          "Locatie": "FL70",
          "Origin": "standard",
          "Sensor": "STB",
          "Valid files": 1
         },
         {
          "Date": "2019-09-23",
          "Expected files": 1,
          "Files received": 1,
          "Locatie": "FL70",
          "Origin": "standard",
          "Sensor": "STB",
          "Valid files": 1
         },
         {
          "Date": "2019-09-24",
          "Expected files": 1,
          "Files received": 1,
          "Locatie": "FL70",
          "Origin": "standard",
          "Sensor": "STB",
          "Valid files": 1
         },
         {
          "Date": "2019-09-25",
          "Expected files": 1,
          "Files received": 1,
          "Locatie": "FL70",
          "Origin": "standard",
          "Sensor": "STB",
          "Valid files": 1
         },
         {
          "Date": "2019-09-26",
          "Expected files": 1,
          "Files received": 1,
          "Locatie": "FL70",
          "Origin": "standard",
          "Sensor": "STB",
          "Valid files": 1
         },
         {
          "Date": "2019-09-27",
          "Expected files": 1,
          "Files received": 1,
          "Locatie": "FL70",
          "Origin": "standard",
          "Sensor": "STB",
          "Valid files": 1
         },
         {
          "Date": "2019-09-28",
          "Expected files": 1,
          "Files received": 1,
          "Locatie": "FL70",
          "Origin": "standard",
          "Sensor": "STB",
          "Valid files": 1
         },
         {
          "Date": "2019-09-29",
          "Expected files": 1,
          "Files received": 1,
          "Locatie": "FL70",
          "Origin": "standard",
          "Sensor": "STB",
          "Valid files": 1
         },
         {
          "Date": "2019-09-30",
          "Expected files": 1,
          "Files received": 1,
          "Locatie": "FL70",
          "Origin": "standard",
          "Sensor": "STB",
          "Valid files": 1
         },
         {
          "Date": "2019-10-01",
          "Expected files": 1,
          "Files received": 1,
          "Locatie": "FL70",
          "Origin": "standard",
          "Sensor": "STB",
          "Valid files": 1
         },
         {
          "Date": "2019-10-02",
          "Expected files": 1,
          "Files received": 1,
          "Locatie": "FL70",
          "Origin": "standard",
          "Sensor": "STB",
          "Valid files": 1
         },
         {
          "Date": "2019-10-03",
          "Expected files": 1,
          "Files received": 0,
          "Locatie": "FL70",
          "Origin": "standard",
          "Sensor": "STB",
          "Valid files": 0
         },
         {
          "Date": "2019-10-04",
          "Expected files": 1,
          "Files received": 0,
          "Locatie": "FL70",
          "Origin": "standard",
          "Sensor": "STB",
          "Valid files": 0
         },
         {
          "Date": "2019-10-05",
          "Expected files": 1,
          "Files received": 0,
          "Locatie": "FL70",
          "Origin": "standard",
          "Sensor": "STB",
          "Valid files": 0
         },
         {
          "Date": "2019-10-06",
          "Expected files": 1,
          "Files received": 0,
          "Locatie": "FL70",
          "Origin": "standard",
          "Sensor": "STB",
          "Valid files": 0
         },
         {
          "Date": "2019-10-07",
          "Expected files": 1,
          "Files received": 0,
          "Locatie": "FL70",
          "Origin": "standard",
          "Sensor": "STB",
          "Valid files": 0
         },
         {
          "Date": "2019-10-08",
          "Expected files": 1,
          "Files received": 0,
          "Locatie": "FL70",
          "Origin": "standard",
          "Sensor": "STB",
          "Valid files": 0
         },
         {
          "Date": "2019-09-09",
          "Expected files": 1,
          "Files received": 1,
          "Locatie": "FL65",
          "Origin": "tailored",
          "Sensor": "STB",
          "Valid files": 1
         },
         {
          "Date": "2019-09-10",
          "Expected files": 1,
          "Files received": 1,
          "Locatie": "FL65",
          "Origin": "tailored",
          "Sensor": "STB",
          "Valid files": 1
         },
         {
          "Date": "2019-09-11",
          "Expected files": 1,
          "Files received": 1,
          "Locatie": "FL65",
          "Origin": "tailored",
          "Sensor": "STB",
          "Valid files": 1
         },
         {
          "Date": "2019-09-12",
          "Expected files": 1,
          "Files received": 1,
          "Locatie": "FL65",
          "Origin": "tailored",
          "Sensor": "STB",
          "Valid files": 1
         },
         {
          "Date": "2019-09-13",
          "Expected files": 1,
          "Files received": 1,
          "Locatie": "FL65",
          "Origin": "tailored",
          "Sensor": "STB",
          "Valid files": 1
         },
         {
          "Date": "2019-09-14",
          "Expected files": 1,
          "Files received": 1,
          "Locatie": "FL65",
          "Origin": "tailored",
          "Sensor": "STB",
          "Valid files": 1
         },
         {
          "Date": "2019-09-15",
          "Expected files": 1,
          "Files received": 1,
          "Locatie": "FL65",
          "Origin": "tailored",
          "Sensor": "STB",
          "Valid files": 1
         },
         {
          "Date": "2019-09-16",
          "Expected files": 1,
          "Files received": 1,
          "Locatie": "FL65",
          "Origin": "tailored",
          "Sensor": "STB",
          "Valid files": 1
         },
         {
          "Date": "2019-09-17",
          "Expected files": 1,
          "Files received": 0,
          "Locatie": "FL65",
          "Origin": "tailored",
          "Sensor": "STB",
          "Valid files": 0
         },
         {
          "Date": "2019-09-18",
          "Expected files": 1,
          "Files received": 0,
          "Locatie": "FL65",
          "Origin": "tailored",
          "Sensor": "STB",
          "Valid files": 0
         },
         {
          "Date": "2019-09-19",
          "Expected files": 1,
          "Files received": 0,
          "Locatie": "FL65",
          "Origin": "tailored",
          "Sensor": "STB",
          "Valid files": 0
         },
         {
          "Date": "2019-09-20",
          "Expected files": 1,
          "Files received": 1,
          "Locatie": "FL65",
          "Origin": "tailored",
          "Sensor": "STB",
          "Valid files": 1
         },
         {
          "Date": "2019-09-21",
          "Expected files": 1,
          "Files received": 1,
          "Locatie": "FL65",
          "Origin": "tailored",
          "Sensor": "STB",
          "Valid files": 1
         },
         {
          "Date": "2019-09-22",
          "Expected files": 1,
          "Files received": 1,
          "Locatie": "FL65",
          "Origin": "tailored",
          "Sensor": "STB",
          "Valid files": 1
         },
         {
          "Date": "2019-09-23",
          "Expected files": 1,
          "Files received": 1,
          "Locatie": "FL65",
          "Origin": "tailored",
          "Sensor": "STB",
          "Valid files": 1
         },
         {
          "Date": "2019-09-24",
          "Expected files": 1,
          "Files received": 1,
          "Locatie": "FL65",
          "Origin": "tailored",
          "Sensor": "STB",
          "Valid files": 1
         },
         {
          "Date": "2019-09-25",
          "Expected files": 1,
          "Files received": 1,
          "Locatie": "FL65",
          "Origin": "tailored",
          "Sensor": "STB",
          "Valid files": 1
         },
         {
          "Date": "2019-09-26",
          "Expected files": 1,
          "Files received": 1,
          "Locatie": "FL65",
          "Origin": "tailored",
          "Sensor": "STB",
          "Valid files": 1
         },
         {
          "Date": "2019-09-27",
          "Expected files": 1,
          "Files received": 1,
          "Locatie": "FL65",
          "Origin": "tailored",
          "Sensor": "STB",
          "Valid files": 1
         },
         {
          "Date": "2019-09-28",
          "Expected files": 1,
          "Files received": 1,
          "Locatie": "FL65",
          "Origin": "tailored",
          "Sensor": "STB",
          "Valid files": 1
         },
         {
          "Date": "2019-09-29",
          "Expected files": 1,
          "Files received": 1,
          "Locatie": "FL65",
          "Origin": "tailored",
          "Sensor": "STB",
          "Valid files": 1
         },
         {
          "Date": "2019-09-30",
          "Expected files": 1,
          "Files received": 1,
          "Locatie": "FL65",
          "Origin": "tailored",
          "Sensor": "STB",
          "Valid files": 1
         },
         {
          "Date": "2019-10-01",
          "Expected files": 1,
          "Files received": 1,
          "Locatie": "FL65",
          "Origin": "tailored",
          "Sensor": "STB",
          "Valid files": 1
         },
         {
          "Date": "2019-10-02",
          "Expected files": 1,
          "Files received": 1,
          "Locatie": "FL65",
          "Origin": "tailored",
          "Sensor": "STB",
          "Valid files": 1
         },
         {
          "Date": "2019-10-03",
          "Expected files": 1,
          "Files received": 0,
          "Locatie": "FL65",
          "Origin": "tailored",
          "Sensor": "STB",
          "Valid files": 0
         },
         {
          "Date": "2019-10-04",
          "Expected files": 1,
          "Files received": 0,
          "Locatie": "FL65",
          "Origin": "tailored",
          "Sensor": "STB",
          "Valid files": 0
         },
         {
          "Date": "2019-10-05",
          "Expected files": 1,
          "Files received": 0,
          "Locatie": "FL65",
          "Origin": "tailored",
          "Sensor": "STB",
          "Valid files": 0
         },
         {
          "Date": "2019-10-06",
          "Expected files": 1,
          "Files received": 0,
          "Locatie": "FL65",
          "Origin": "tailored",
          "Sensor": "STB",
          "Valid files": 0
         },
         {
          "Date": "2019-10-07",
          "Expected files": 1,
          "Files received": 0,
          "Locatie": "FL65",
          "Origin": "tailored",
          "Sensor": "STB",
          "Valid files": 0
         },
         {
          "Date": "2019-10-08",
          "Expected files": 1,
          "Files received": 0,
          "Locatie": "FL65",
          "Origin": "tailored",
          "Sensor": "STB",
          "Valid files": 0
         },
         {
          "Date": "2019-09-09",
          "Expected files": 1,
          "Files received": 1,
          "Locatie": "FL66",
          "Origin": "tailored",
          "Sensor": "STB",
          "Valid files": 1
         },
         {
          "Date": "2019-09-10",
          "Expected files": 1,
          "Files received": 1,
          "Locatie": "FL66",
          "Origin": "tailored",
          "Sensor": "STB",
          "Valid files": 1
         },
         {
          "Date": "2019-09-11",
          "Expected files": 1,
          "Files received": 1,
          "Locatie": "FL66",
          "Origin": "tailored",
          "Sensor": "STB",
          "Valid files": 1
         },
         {
          "Date": "2019-09-12",
          "Expected files": 1,
          "Files received": 1,
          "Locatie": "FL66",
          "Origin": "tailored",
          "Sensor": "STB",
          "Valid files": 1
         },
         {
          "Date": "2019-09-13",
          "Expected files": 1,
          "Files received": 1,
          "Locatie": "FL66",
          "Origin": "tailored",
          "Sensor": "STB",
          "Valid files": 1
         },
         {
          "Date": "2019-09-14",
          "Expected files": 1,
          "Files received": 1,
          "Locatie": "FL66",
          "Origin": "tailored",
          "Sensor": "STB",
          "Valid files": 1
         },
         {
          "Date": "2019-09-15",
          "Expected files": 1,
          "Files received": 1,
          "Locatie": "FL66",
          "Origin": "tailored",
          "Sensor": "STB",
          "Valid files": 1
         },
         {
          "Date": "2019-09-16",
          "Expected files": 1,
          "Files received": 1,
          "Locatie": "FL66",
          "Origin": "tailored",
          "Sensor": "STB",
          "Valid files": 1
         },
         {
          "Date": "2019-09-17",
          "Expected files": 1,
          "Files received": 0,
          "Locatie": "FL66",
          "Origin": "tailored",
          "Sensor": "STB",
          "Valid files": 0
         },
         {
          "Date": "2019-09-18",
          "Expected files": 1,
          "Files received": 0,
          "Locatie": "FL66",
          "Origin": "tailored",
          "Sensor": "STB",
          "Valid files": 0
         },
         {
          "Date": "2019-09-19",
          "Expected files": 1,
          "Files received": 0,
          "Locatie": "FL66",
          "Origin": "tailored",
          "Sensor": "STB",
          "Valid files": 0
         },
         {
          "Date": "2019-09-20",
          "Expected files": 1,
          "Files received": 1,
          "Locatie": "FL66",
          "Origin": "tailored",
          "Sensor": "STB",
          "Valid files": 1
         },
         {
          "Date": "2019-09-21",
          "Expected files": 1,
          "Files received": 1,
          "Locatie": "FL66",
          "Origin": "tailored",
          "Sensor": "STB",
          "Valid files": 1
         },
         {
          "Date": "2019-09-22",
          "Expected files": 1,
          "Files received": 1,
          "Locatie": "FL66",
          "Origin": "tailored",
          "Sensor": "STB",
          "Valid files": 1
         },
         {
          "Date": "2019-09-23",
          "Expected files": 1,
          "Files received": 1,
          "Locatie": "FL66",
          "Origin": "tailored",
          "Sensor": "STB",
          "Valid files": 1
         },
         {
          "Date": "2019-09-24",
          "Expected files": 1,
          "Files received": 1,
          "Locatie": "FL66",
          "Origin": "tailored",
          "Sensor": "STB",
          "Valid files": 1
         },
         {
          "Date": "2019-09-25",
          "Expected files": 1,
          "Files received": 1,
          "Locatie": "FL66",
          "Origin": "tailored",
          "Sensor": "STB",
          "Valid files": 1
         },
         {
          "Date": "2019-09-26",
          "Expected files": 1,
          "Files received": 1,
          "Locatie": "FL66",
          "Origin": "tailored",
          "Sensor": "STB",
          "Valid files": 1
         },
         {
          "Date": "2019-09-27",
          "Expected files": 1,
          "Files received": 1,
          "Locatie": "FL66",
          "Origin": "tailored",
          "Sensor": "STB",
          "Valid files": 1
         },
         {
          "Date": "2019-09-28",
          "Expected files": 1,
          "Files received": 1,
          "Locatie": "FL66",
          "Origin": "tailored",
          "Sensor": "STB",
          "Valid files": 1
         },
         {
          "Date": "2019-09-29",
          "Expected files": 1,
          "Files received": 1,
          "Locatie": "FL66",
          "Origin": "tailored",
          "Sensor": "STB",
          "Valid files": 1
         },
         {
          "Date": "2019-09-30",
          "Expected files": 1,
          "Files received": 1,
          "Locatie": "FL66",
          "Origin": "tailored",
          "Sensor": "STB",
          "Valid files": 1
         },
         {
          "Date": "2019-10-01",
          "Expected files": 1,
          "Files received": 1,
          "Locatie": "FL66",
          "Origin": "tailored",
          "Sensor": "STB",
          "Valid files": 1
         },
         {
          "Date": "2019-10-02",
          "Expected files": 1,
          "Files received": 1,
          "Locatie": "FL66",
          "Origin": "tailored",
          "Sensor": "STB",
          "Valid files": 1
         },
         {
          "Date": "2019-10-03",
          "Expected files": 1,
          "Files received": 0,
          "Locatie": "FL66",
          "Origin": "tailored",
          "Sensor": "STB",
          "Valid files": 0
         },
         {
          "Date": "2019-10-04",
          "Expected files": 1,
          "Files received": 0,
          "Locatie": "FL66",
          "Origin": "tailored",
          "Sensor": "STB",
          "Valid files": 0
         },
         {
          "Date": "2019-10-05",
          "Expected files": 1,
          "Files received": 0,
          "Locatie": "FL66",
          "Origin": "tailored",
          "Sensor": "STB",
          "Valid files": 0
         },
         {
          "Date": "2019-10-06",
          "Expected files": 1,
          "Files received": 0,
          "Locatie": "FL66",
          "Origin": "tailored",
          "Sensor": "STB",
          "Valid files": 0
         },
         {
          "Date": "2019-10-07",
          "Expected files": 1,
          "Files received": 0,
          "Locatie": "FL66",
          "Origin": "tailored",
          "Sensor": "STB",
          "Valid files": 0
         },
         {
          "Date": "2019-10-08",
          "Expected files": 1,
          "Files received": 0,
          "Locatie": "FL66",
          "Origin": "tailored",
          "Sensor": "STB",
          "Valid files": 0
         },
         {
          "Date": "2019-09-09",
          "Expected files": 1,
          "Files received": 1,
          "Locatie": "FL67",
          "Origin": "tailored",
          "Sensor": "STB",
          "Valid files": 1
         },
         {
          "Date": "2019-09-10",
          "Expected files": 1,
          "Files received": 1,
          "Locatie": "FL67",
          "Origin": "tailored",
          "Sensor": "STB",
          "Valid files": 1
         },
         {
          "Date": "2019-09-11",
          "Expected files": 1,
          "Files received": 1,
          "Locatie": "FL67",
          "Origin": "tailored",
          "Sensor": "STB",
          "Valid files": 1
         },
         {
          "Date": "2019-09-12",
          "Expected files": 1,
          "Files received": 1,
          "Locatie": "FL67",
          "Origin": "tailored",
          "Sensor": "STB",
          "Valid files": 1
         },
         {
          "Date": "2019-09-13",
          "Expected files": 1,
          "Files received": 1,
          "Locatie": "FL67",
          "Origin": "tailored",
          "Sensor": "STB",
          "Valid files": 1
         },
         {
          "Date": "2019-09-14",
          "Expected files": 1,
          "Files received": 1,
          "Locatie": "FL67",
          "Origin": "tailored",
          "Sensor": "STB",
          "Valid files": 1
         },
         {
          "Date": "2019-09-15",
          "Expected files": 1,
          "Files received": 1,
          "Locatie": "FL67",
          "Origin": "tailored",
          "Sensor": "STB",
          "Valid files": 1
         },
         {
          "Date": "2019-09-16",
          "Expected files": 1,
          "Files received": 1,
          "Locatie": "FL67",
          "Origin": "tailored",
          "Sensor": "STB",
          "Valid files": 1
         },
         {
          "Date": "2019-09-17",
          "Expected files": 1,
          "Files received": 0,
          "Locatie": "FL67",
          "Origin": "tailored",
          "Sensor": "STB",
          "Valid files": 0
         },
         {
          "Date": "2019-09-18",
          "Expected files": 1,
          "Files received": 0,
          "Locatie": "FL67",
          "Origin": "tailored",
          "Sensor": "STB",
          "Valid files": 0
         },
         {
          "Date": "2019-09-19",
          "Expected files": 1,
          "Files received": 0,
          "Locatie": "FL67",
          "Origin": "tailored",
          "Sensor": "STB",
          "Valid files": 0
         },
         {
          "Date": "2019-09-20",
          "Expected files": 1,
          "Files received": 1,
          "Locatie": "FL67",
          "Origin": "tailored",
          "Sensor": "STB",
          "Valid files": 1
         },
         {
          "Date": "2019-09-21",
          "Expected files": 1,
          "Files received": 1,
          "Locatie": "FL67",
          "Origin": "tailored",
          "Sensor": "STB",
          "Valid files": 1
         },
         {
          "Date": "2019-09-22",
          "Expected files": 1,
          "Files received": 1,
          "Locatie": "FL67",
          "Origin": "tailored",
          "Sensor": "STB",
          "Valid files": 1
         },
         {
          "Date": "2019-09-23",
          "Expected files": 1,
          "Files received": 1,
          "Locatie": "FL67",
          "Origin": "tailored",
          "Sensor": "STB",
          "Valid files": 1
         },
         {
          "Date": "2019-09-24",
          "Expected files": 1,
          "Files received": 1,
          "Locatie": "FL67",
          "Origin": "tailored",
          "Sensor": "STB",
          "Valid files": 1
         },
         {
          "Date": "2019-09-25",
          "Expected files": 1,
          "Files received": 1,
          "Locatie": "FL67",
          "Origin": "tailored",
          "Sensor": "STB",
          "Valid files": 1
         },
         {
          "Date": "2019-09-26",
          "Expected files": 1,
          "Files received": 1,
          "Locatie": "FL67",
          "Origin": "tailored",
          "Sensor": "STB",
          "Valid files": 1
         },
         {
          "Date": "2019-09-27",
          "Expected files": 1,
          "Files received": 1,
          "Locatie": "FL67",
          "Origin": "tailored",
          "Sensor": "STB",
          "Valid files": 1
         },
         {
          "Date": "2019-09-28",
          "Expected files": 1,
          "Files received": 1,
          "Locatie": "FL67",
          "Origin": "tailored",
          "Sensor": "STB",
          "Valid files": 1
         },
         {
          "Date": "2019-09-29",
          "Expected files": 1,
          "Files received": 1,
          "Locatie": "FL67",
          "Origin": "tailored",
          "Sensor": "STB",
          "Valid files": 1
         },
         {
          "Date": "2019-09-30",
          "Expected files": 1,
          "Files received": 1,
          "Locatie": "FL67",
          "Origin": "tailored",
          "Sensor": "STB",
          "Valid files": 1
         },
         {
          "Date": "2019-10-01",
          "Expected files": 1,
          "Files received": 1,
          "Locatie": "FL67",
          "Origin": "tailored",
          "Sensor": "STB",
          "Valid files": 1
         },
         {
          "Date": "2019-10-02",
          "Expected files": 1,
          "Files received": 1,
          "Locatie": "FL67",
          "Origin": "tailored",
          "Sensor": "STB",
          "Valid files": 1
         },
         {
          "Date": "2019-10-03",
          "Expected files": 1,
          "Files received": 0,
          "Locatie": "FL67",
          "Origin": "tailored",
          "Sensor": "STB",
          "Valid files": 0
         },
         {
          "Date": "2019-10-04",
          "Expected files": 1,
          "Files received": 0,
          "Locatie": "FL67",
          "Origin": "tailored",
          "Sensor": "STB",
          "Valid files": 0
         },
         {
          "Date": "2019-10-05",
          "Expected files": 1,
          "Files received": 0,
          "Locatie": "FL67",
          "Origin": "tailored",
          "Sensor": "STB",
          "Valid files": 0
         },
         {
          "Date": "2019-10-06",
          "Expected files": 1,
          "Files received": 0,
          "Locatie": "FL67",
          "Origin": "tailored",
          "Sensor": "STB",
          "Valid files": 0
         },
         {
          "Date": "2019-10-07",
          "Expected files": 1,
          "Files received": 0,
          "Locatie": "FL67",
          "Origin": "tailored",
          "Sensor": "STB",
          "Valid files": 0
         },
         {
          "Date": "2019-10-08",
          "Expected files": 1,
          "Files received": 0,
          "Locatie": "FL67",
          "Origin": "tailored",
          "Sensor": "STB",
          "Valid files": 0
         },
         {
          "Date": "2019-09-09",
          "Expected files": 1,
          "Files received": 1,
          "Locatie": "FL68",
          "Origin": "tailored",
          "Sensor": "STB",
          "Valid files": 1
         },
         {
          "Date": "2019-09-10",
          "Expected files": 1,
          "Files received": 1,
          "Locatie": "FL68",
          "Origin": "tailored",
          "Sensor": "STB",
          "Valid files": 1
         },
         {
          "Date": "2019-09-11",
          "Expected files": 1,
          "Files received": 1,
          "Locatie": "FL68",
          "Origin": "tailored",
          "Sensor": "STB",
          "Valid files": 1
         },
         {
          "Date": "2019-09-12",
          "Expected files": 1,
          "Files received": 1,
          "Locatie": "FL68",
          "Origin": "tailored",
          "Sensor": "STB",
          "Valid files": 1
         },
         {
          "Date": "2019-09-13",
          "Expected files": 1,
          "Files received": 1,
          "Locatie": "FL68",
          "Origin": "tailored",
          "Sensor": "STB",
          "Valid files": 1
         },
         {
          "Date": "2019-09-14",
          "Expected files": 1,
          "Files received": 1,
          "Locatie": "FL68",
          "Origin": "tailored",
          "Sensor": "STB",
          "Valid files": 1
         },
         {
          "Date": "2019-09-15",
          "Expected files": 1,
          "Files received": 1,
          "Locatie": "FL68",
          "Origin": "tailored",
          "Sensor": "STB",
          "Valid files": 1
         },
         {
          "Date": "2019-09-16",
          "Expected files": 1,
          "Files received": 1,
          "Locatie": "FL68",
          "Origin": "tailored",
          "Sensor": "STB",
          "Valid files": 1
         },
         {
          "Date": "2019-09-17",
          "Expected files": 1,
          "Files received": 0,
          "Locatie": "FL68",
          "Origin": "tailored",
          "Sensor": "STB",
          "Valid files": 0
         },
         {
          "Date": "2019-09-18",
          "Expected files": 1,
          "Files received": 0,
          "Locatie": "FL68",
          "Origin": "tailored",
          "Sensor": "STB",
          "Valid files": 0
         },
         {
          "Date": "2019-09-19",
          "Expected files": 1,
          "Files received": 0,
          "Locatie": "FL68",
          "Origin": "tailored",
          "Sensor": "STB",
          "Valid files": 0
         },
         {
          "Date": "2019-09-20",
          "Expected files": 1,
          "Files received": 1,
          "Locatie": "FL68",
          "Origin": "tailored",
          "Sensor": "STB",
          "Valid files": 1
         },
         {
          "Date": "2019-09-21",
          "Expected files": 1,
          "Files received": 1,
          "Locatie": "FL68",
          "Origin": "tailored",
          "Sensor": "STB",
          "Valid files": 1
         },
         {
          "Date": "2019-09-22",
          "Expected files": 1,
          "Files received": 1,
          "Locatie": "FL68",
          "Origin": "tailored",
          "Sensor": "STB",
          "Valid files": 1
         },
         {
          "Date": "2019-09-23",
          "Expected files": 1,
          "Files received": 1,
          "Locatie": "FL68",
          "Origin": "tailored",
          "Sensor": "STB",
          "Valid files": 1
         },
         {
          "Date": "2019-09-24",
          "Expected files": 1,
          "Files received": 1,
          "Locatie": "FL68",
          "Origin": "tailored",
          "Sensor": "STB",
          "Valid files": 1
         },
         {
          "Date": "2019-09-25",
          "Expected files": 1,
          "Files received": 1,
          "Locatie": "FL68",
          "Origin": "tailored",
          "Sensor": "STB",
          "Valid files": 1
         },
         {
          "Date": "2019-09-26",
          "Expected files": 1,
          "Files received": 1,
          "Locatie": "FL68",
          "Origin": "tailored",
          "Sensor": "STB",
          "Valid files": 1
         },
         {
          "Date": "2019-09-27",
          "Expected files": 1,
          "Files received": 1,
          "Locatie": "FL68",
          "Origin": "tailored",
          "Sensor": "STB",
          "Valid files": 1
         },
         {
          "Date": "2019-09-28",
          "Expected files": 1,
          "Files received": 1,
          "Locatie": "FL68",
          "Origin": "tailored",
          "Sensor": "STB",
          "Valid files": 1
         },
         {
          "Date": "2019-09-29",
          "Expected files": 1,
          "Files received": 1,
          "Locatie": "FL68",
          "Origin": "tailored",
          "Sensor": "STB",
          "Valid files": 1
         },
         {
          "Date": "2019-09-30",
          "Expected files": 1,
          "Files received": 1,
          "Locatie": "FL68",
          "Origin": "tailored",
          "Sensor": "STB",
          "Valid files": 1
         },
         {
          "Date": "2019-10-01",
          "Expected files": 1,
          "Files received": 1,
          "Locatie": "FL68",
          "Origin": "tailored",
          "Sensor": "STB",
          "Valid files": 1
         },
         {
          "Date": "2019-10-02",
          "Expected files": 1,
          "Files received": 1,
          "Locatie": "FL68",
          "Origin": "tailored",
          "Sensor": "STB",
          "Valid files": 1
         },
         {
          "Date": "2019-10-03",
          "Expected files": 1,
          "Files received": 0,
          "Locatie": "FL68",
          "Origin": "tailored",
          "Sensor": "STB",
          "Valid files": 0
         },
         {
          "Date": "2019-10-04",
          "Expected files": 1,
          "Files received": 0,
          "Locatie": "FL68",
          "Origin": "tailored",
          "Sensor": "STB",
          "Valid files": 0
         },
         {
          "Date": "2019-10-05",
          "Expected files": 1,
          "Files received": 0,
          "Locatie": "FL68",
          "Origin": "tailored",
          "Sensor": "STB",
          "Valid files": 0
         },
         {
          "Date": "2019-10-06",
          "Expected files": 1,
          "Files received": 0,
          "Locatie": "FL68",
          "Origin": "tailored",
          "Sensor": "STB",
          "Valid files": 0
         },
         {
          "Date": "2019-10-07",
          "Expected files": 1,
          "Files received": 0,
          "Locatie": "FL68",
          "Origin": "tailored",
          "Sensor": "STB",
          "Valid files": 0
         },
         {
          "Date": "2019-10-08",
          "Expected files": 1,
          "Files received": 0,
          "Locatie": "FL68",
          "Origin": "tailored",
          "Sensor": "STB",
          "Valid files": 0
         },
         {
          "Date": "2019-09-09",
          "Expected files": 1,
          "Files received": 1,
          "Locatie": "FL69",
          "Origin": "tailored",
          "Sensor": "STB",
          "Valid files": 1
         },
         {
          "Date": "2019-09-10",
          "Expected files": 1,
          "Files received": 1,
          "Locatie": "FL69",
          "Origin": "tailored",
          "Sensor": "STB",
          "Valid files": 1
         },
         {
          "Date": "2019-09-11",
          "Expected files": 1,
          "Files received": 1,
          "Locatie": "FL69",
          "Origin": "tailored",
          "Sensor": "STB",
          "Valid files": 1
         },
         {
          "Date": "2019-09-12",
          "Expected files": 1,
          "Files received": 1,
          "Locatie": "FL69",
          "Origin": "tailored",
          "Sensor": "STB",
          "Valid files": 1
         },
         {
          "Date": "2019-09-13",
          "Expected files": 1,
          "Files received": 1,
          "Locatie": "FL69",
          "Origin": "tailored",
          "Sensor": "STB",
          "Valid files": 1
         },
         {
          "Date": "2019-09-14",
          "Expected files": 1,
          "Files received": 1,
          "Locatie": "FL69",
          "Origin": "tailored",
          "Sensor": "STB",
          "Valid files": 1
         },
         {
          "Date": "2019-09-15",
          "Expected files": 1,
          "Files received": 1,
          "Locatie": "FL69",
          "Origin": "tailored",
          "Sensor": "STB",
          "Valid files": 1
         },
         {
          "Date": "2019-09-16",
          "Expected files": 1,
          "Files received": 1,
          "Locatie": "FL69",
          "Origin": "tailored",
          "Sensor": "STB",
          "Valid files": 1
         },
         {
          "Date": "2019-09-17",
          "Expected files": 1,
          "Files received": 0,
          "Locatie": "FL69",
          "Origin": "tailored",
          "Sensor": "STB",
          "Valid files": 0
         },
         {
          "Date": "2019-09-18",
          "Expected files": 1,
          "Files received": 0,
          "Locatie": "FL69",
          "Origin": "tailored",
          "Sensor": "STB",
          "Valid files": 0
         },
         {
          "Date": "2019-09-19",
          "Expected files": 1,
          "Files received": 0,
          "Locatie": "FL69",
          "Origin": "tailored",
          "Sensor": "STB",
          "Valid files": 0
         },
         {
          "Date": "2019-09-20",
          "Expected files": 1,
          "Files received": 0,
          "Locatie": "FL69",
          "Origin": "tailored",
          "Sensor": "STB",
          "Valid files": 0
         },
         {
          "Date": "2019-09-21",
          "Expected files": 1,
          "Files received": 1,
          "Locatie": "FL69",
          "Origin": "tailored",
          "Sensor": "STB",
          "Valid files": 1
         },
         {
          "Date": "2019-09-22",
          "Expected files": 1,
          "Files received": 1,
          "Locatie": "FL69",
          "Origin": "tailored",
          "Sensor": "STB",
          "Valid files": 1
         },
         {
          "Date": "2019-09-23",
          "Expected files": 1,
          "Files received": 1,
          "Locatie": "FL69",
          "Origin": "tailored",
          "Sensor": "STB",
          "Valid files": 1
         },
         {
          "Date": "2019-09-24",
          "Expected files": 1,
          "Files received": 1,
          "Locatie": "FL69",
          "Origin": "tailored",
          "Sensor": "STB",
          "Valid files": 1
         },
         {
          "Date": "2019-09-25",
          "Expected files": 1,
          "Files received": 1,
          "Locatie": "FL69",
          "Origin": "tailored",
          "Sensor": "STB",
          "Valid files": 1
         },
         {
          "Date": "2019-09-26",
          "Expected files": 1,
          "Files received": 1,
          "Locatie": "FL69",
          "Origin": "tailored",
          "Sensor": "STB",
          "Valid files": 1
         },
         {
          "Date": "2019-09-27",
          "Expected files": 1,
          "Files received": 1,
          "Locatie": "FL69",
          "Origin": "tailored",
          "Sensor": "STB",
          "Valid files": 1
         },
         {
          "Date": "2019-09-28",
          "Expected files": 1,
          "Files received": 1,
          "Locatie": "FL69",
          "Origin": "tailored",
          "Sensor": "STB",
          "Valid files": 1
         },
         {
          "Date": "2019-09-29",
          "Expected files": 1,
          "Files received": 1,
          "Locatie": "FL69",
          "Origin": "tailored",
          "Sensor": "STB",
          "Valid files": 1
         },
         {
          "Date": "2019-09-30",
          "Expected files": 1,
          "Files received": 1,
          "Locatie": "FL69",
          "Origin": "tailored",
          "Sensor": "STB",
          "Valid files": 1
         },
         {
          "Date": "2019-10-01",
          "Expected files": 1,
          "Files received": 1,
          "Locatie": "FL69",
          "Origin": "tailored",
          "Sensor": "STB",
          "Valid files": 1
         },
         {
          "Date": "2019-10-02",
          "Expected files": 1,
          "Files received": 1,
          "Locatie": "FL69",
          "Origin": "tailored",
          "Sensor": "STB",
          "Valid files": 1
         },
         {
          "Date": "2019-10-03",
          "Expected files": 1,
          "Files received": 0,
          "Locatie": "FL69",
          "Origin": "tailored",
          "Sensor": "STB",
          "Valid files": 0
         },
         {
          "Date": "2019-10-04",
          "Expected files": 1,
          "Files received": 0,
          "Locatie": "FL69",
          "Origin": "tailored",
          "Sensor": "STB",
          "Valid files": 0
         },
         {
          "Date": "2019-10-05",
          "Expected files": 1,
          "Files received": 0,
          "Locatie": "FL69",
          "Origin": "tailored",
          "Sensor": "STB",
          "Valid files": 0
         },
         {
          "Date": "2019-10-06",
          "Expected files": 1,
          "Files received": 0,
          "Locatie": "FL69",
          "Origin": "tailored",
          "Sensor": "STB",
          "Valid files": 0
         },
         {
          "Date": "2019-10-07",
          "Expected files": 1,
          "Files received": 0,
          "Locatie": "FL69",
          "Origin": "tailored",
          "Sensor": "STB",
          "Valid files": 0
         },
         {
          "Date": "2019-10-08",
          "Expected files": 1,
          "Files received": 0,
          "Locatie": "FL69",
          "Origin": "tailored",
          "Sensor": "STB",
          "Valid files": 0
         },
         {
          "Date": "2019-09-09",
          "Expected files": 1,
          "Files received": 1,
          "Locatie": "FL70",
          "Origin": "tailored",
          "Sensor": "STB",
          "Valid files": 1
         },
         {
          "Date": "2019-09-10",
          "Expected files": 1,
          "Files received": 1,
          "Locatie": "FL70",
          "Origin": "tailored",
          "Sensor": "STB",
          "Valid files": 1
         },
         {
          "Date": "2019-09-11",
          "Expected files": 1,
          "Files received": 1,
          "Locatie": "FL70",
          "Origin": "tailored",
          "Sensor": "STB",
          "Valid files": 1
         },
         {
          "Date": "2019-09-12",
          "Expected files": 1,
          "Files received": 1,
          "Locatie": "FL70",
          "Origin": "tailored",
          "Sensor": "STB",
          "Valid files": 1
         },
         {
          "Date": "2019-09-13",
          "Expected files": 1,
          "Files received": 1,
          "Locatie": "FL70",
          "Origin": "tailored",
          "Sensor": "STB",
          "Valid files": 1
         },
         {
          "Date": "2019-09-14",
          "Expected files": 1,
          "Files received": 1,
          "Locatie": "FL70",
          "Origin": "tailored",
          "Sensor": "STB",
          "Valid files": 1
         },
         {
          "Date": "2019-09-15",
          "Expected files": 1,
          "Files received": 1,
          "Locatie": "FL70",
          "Origin": "tailored",
          "Sensor": "STB",
          "Valid files": 1
         },
         {
          "Date": "2019-09-16",
          "Expected files": 1,
          "Files received": 1,
          "Locatie": "FL70",
          "Origin": "tailored",
          "Sensor": "STB",
          "Valid files": 1
         },
         {
          "Date": "2019-09-17",
          "Expected files": 1,
          "Files received": 0,
          "Locatie": "FL70",
          "Origin": "tailored",
          "Sensor": "STB",
          "Valid files": 0
         },
         {
          "Date": "2019-09-18",
          "Expected files": 1,
          "Files received": 0,
          "Locatie": "FL70",
          "Origin": "tailored",
          "Sensor": "STB",
          "Valid files": 0
         },
         {
          "Date": "2019-09-19",
          "Expected files": 1,
          "Files received": 0,
          "Locatie": "FL70",
          "Origin": "tailored",
          "Sensor": "STB",
          "Valid files": 0
         },
         {
          "Date": "2019-09-20",
          "Expected files": 1,
          "Files received": 0,
          "Locatie": "FL70",
          "Origin": "tailored",
          "Sensor": "STB",
          "Valid files": 0
         },
         {
          "Date": "2019-09-21",
          "Expected files": 1,
          "Files received": 1,
          "Locatie": "FL70",
          "Origin": "tailored",
          "Sensor": "STB",
          "Valid files": 1
         },
         {
          "Date": "2019-09-22",
          "Expected files": 1,
          "Files received": 1,
          "Locatie": "FL70",
          "Origin": "tailored",
          "Sensor": "STB",
          "Valid files": 1
         },
         {
          "Date": "2019-09-23",
          "Expected files": 1,
          "Files received": 1,
          "Locatie": "FL70",
          "Origin": "tailored",
          "Sensor": "STB",
          "Valid files": 1
         },
         {
          "Date": "2019-09-24",
          "Expected files": 1,
          "Files received": 1,
          "Locatie": "FL70",
          "Origin": "tailored",
          "Sensor": "STB",
          "Valid files": 1
         },
         {
          "Date": "2019-09-25",
          "Expected files": 1,
          "Files received": 1,
          "Locatie": "FL70",
          "Origin": "tailored",
          "Sensor": "STB",
          "Valid files": 1
         },
         {
          "Date": "2019-09-26",
          "Expected files": 1,
          "Files received": 1,
          "Locatie": "FL70",
          "Origin": "tailored",
          "Sensor": "STB",
          "Valid files": 1
         },
         {
          "Date": "2019-09-27",
          "Expected files": 1,
          "Files received": 1,
          "Locatie": "FL70",
          "Origin": "tailored",
          "Sensor": "STB",
          "Valid files": 1
         },
         {
          "Date": "2019-09-28",
          "Expected files": 1,
          "Files received": 1,
          "Locatie": "FL70",
          "Origin": "tailored",
          "Sensor": "STB",
          "Valid files": 1
         },
         {
          "Date": "2019-09-29",
          "Expected files": 1,
          "Files received": 1,
          "Locatie": "FL70",
          "Origin": "tailored",
          "Sensor": "STB",
          "Valid files": 1
         },
         {
          "Date": "2019-09-30",
          "Expected files": 1,
          "Files received": 1,
          "Locatie": "FL70",
          "Origin": "tailored",
          "Sensor": "STB",
          "Valid files": 1
         },
         {
          "Date": "2019-10-01",
          "Expected files": 1,
          "Files received": 1,
          "Locatie": "FL70",
          "Origin": "tailored",
          "Sensor": "STB",
          "Valid files": 1
         },
         {
          "Date": "2019-10-02",
          "Expected files": 1,
          "Files received": 1,
          "Locatie": "FL70",
          "Origin": "tailored",
          "Sensor": "STB",
          "Valid files": 1
         },
         {
          "Date": "2019-10-03",
          "Expected files": 1,
          "Files received": 0,
          "Locatie": "FL70",
          "Origin": "tailored",
          "Sensor": "STB",
          "Valid files": 0
         },
         {
          "Date": "2019-10-04",
          "Expected files": 1,
          "Files received": 0,
          "Locatie": "FL70",
          "Origin": "tailored",
          "Sensor": "STB",
          "Valid files": 0
         },
         {
          "Date": "2019-10-05",
          "Expected files": 1,
          "Files received": 0,
          "Locatie": "FL70",
          "Origin": "tailored",
          "Sensor": "STB",
          "Valid files": 0
         },
         {
          "Date": "2019-10-06",
          "Expected files": 1,
          "Files received": 0,
          "Locatie": "FL70",
          "Origin": "tailored",
          "Sensor": "STB",
          "Valid files": 0
         },
         {
          "Date": "2019-10-07",
          "Expected files": 1,
          "Files received": 0,
          "Locatie": "FL70",
          "Origin": "tailored",
          "Sensor": "STB",
          "Valid files": 0
         },
         {
          "Date": "2019-10-08",
          "Expected files": 1,
          "Files received": 0,
          "Locatie": "FL70",
          "Origin": "tailored",
          "Sensor": "STB",
          "Valid files": 0
         },
         {
          "Date": "2019-09-09",
          "Expected files": 40,
          "Files received": 1,
          "Locatie": "FL65",
          "Origin": "ftp",
          "Sensor": "STB",
          "Valid files": 1
         },
         {
          "Date": "2019-09-10",
          "Expected files": 40,
          "Files received": 1,
          "Locatie": "FL65",
          "Origin": "ftp",
          "Sensor": "STB",
          "Valid files": 1
         },
         {
          "Date": "2019-09-11",
          "Expected files": 40,
          "Files received": 1,
          "Locatie": "FL65",
          "Origin": "ftp",
          "Sensor": "STB",
          "Valid files": 1
         },
         {
          "Date": "2019-09-12",
          "Expected files": 40,
          "Files received": 1,
          "Locatie": "FL65",
          "Origin": "ftp",
          "Sensor": "STB",
          "Valid files": 1
         },
         {
          "Date": "2019-09-13",
          "Expected files": 40,
          "Files received": 1,
          "Locatie": "FL65",
          "Origin": "ftp",
          "Sensor": "STB",
          "Valid files": 1
         },
         {
          "Date": "2019-09-14",
          "Expected files": 40,
          "Files received": 1,
          "Locatie": "FL65",
          "Origin": "ftp",
          "Sensor": "STB",
          "Valid files": 1
         },
         {
          "Date": "2019-09-15",
          "Expected files": 40,
          "Files received": 1,
          "Locatie": "FL65",
          "Origin": "ftp",
          "Sensor": "STB",
          "Valid files": 1
         },
         {
          "Date": "2019-09-16",
          "Expected files": 40,
          "Files received": 1,
          "Locatie": "FL65",
          "Origin": "ftp",
          "Sensor": "STB",
          "Valid files": 1
         },
         {
          "Date": "2019-09-17",
          "Expected files": 40,
          "Files received": 1,
          "Locatie": "FL65",
          "Origin": "ftp",
          "Sensor": "STB",
          "Valid files": 1
         },
         {
          "Date": "2019-09-18",
          "Expected files": 40,
          "Files received": 1,
          "Locatie": "FL65",
          "Origin": "ftp",
          "Sensor": "STB",
          "Valid files": 1
         },
         {
          "Date": "2019-09-19",
          "Expected files": 40,
          "Files received": 1,
          "Locatie": "FL65",
          "Origin": "ftp",
          "Sensor": "STB",
          "Valid files": 1
         },
         {
          "Date": "2019-09-20",
          "Expected files": 40,
          "Files received": 1,
          "Locatie": "FL65",
          "Origin": "ftp",
          "Sensor": "STB",
          "Valid files": 1
         },
         {
          "Date": "2019-09-21",
          "Expected files": 40,
          "Files received": 1,
          "Locatie": "FL65",
          "Origin": "ftp",
          "Sensor": "STB",
          "Valid files": 1
         },
         {
          "Date": "2019-09-22",
          "Expected files": 40,
          "Files received": 1,
          "Locatie": "FL65",
          "Origin": "ftp",
          "Sensor": "STB",
          "Valid files": 1
         },
         {
          "Date": "2019-09-23",
          "Expected files": 40,
          "Files received": 1,
          "Locatie": "FL65",
          "Origin": "ftp",
          "Sensor": "STB",
          "Valid files": 1
         },
         {
          "Date": "2019-09-24",
          "Expected files": 40,
          "Files received": 1,
          "Locatie": "FL65",
          "Origin": "ftp",
          "Sensor": "STB",
          "Valid files": 1
         },
         {
          "Date": "2019-09-25",
          "Expected files": 40,
          "Files received": 1,
          "Locatie": "FL65",
          "Origin": "ftp",
          "Sensor": "STB",
          "Valid files": 1
         },
         {
          "Date": "2019-09-26",
          "Expected files": 40,
          "Files received": 1,
          "Locatie": "FL65",
          "Origin": "ftp",
          "Sensor": "STB",
          "Valid files": 1
         },
         {
          "Date": "2019-09-27",
          "Expected files": 40,
          "Files received": 1,
          "Locatie": "FL65",
          "Origin": "ftp",
          "Sensor": "STB",
          "Valid files": 1
         },
         {
          "Date": "2019-09-28",
          "Expected files": 40,
          "Files received": 1,
          "Locatie": "FL65",
          "Origin": "ftp",
          "Sensor": "STB",
          "Valid files": 1
         },
         {
          "Date": "2019-09-29",
          "Expected files": 40,
          "Files received": 1,
          "Locatie": "FL65",
          "Origin": "ftp",
          "Sensor": "STB",
          "Valid files": 1
         },
         {
          "Date": "2019-09-30",
          "Expected files": 40,
          "Files received": 1,
          "Locatie": "FL65",
          "Origin": "ftp",
          "Sensor": "STB",
          "Valid files": 1
         },
         {
          "Date": "2019-10-01",
          "Expected files": 40,
          "Files received": 1,
          "Locatie": "FL65",
          "Origin": "ftp",
          "Sensor": "STB",
          "Valid files": 1
         },
         {
          "Date": "2019-10-02",
          "Expected files": 40,
          "Files received": 1,
          "Locatie": "FL65",
          "Origin": "ftp",
          "Sensor": "STB",
          "Valid files": 1
         },
         {
          "Date": "2019-10-03",
          "Expected files": 40,
          "Files received": 1,
          "Locatie": "FL65",
          "Origin": "ftp",
          "Sensor": "STB",
          "Valid files": 1
         },
         {
          "Date": "2019-10-04",
          "Expected files": 40,
          "Files received": 1,
          "Locatie": "FL65",
          "Origin": "ftp",
          "Sensor": "STB",
          "Valid files": 1
         },
         {
          "Date": "2019-10-05",
          "Expected files": 40,
          "Files received": 1,
          "Locatie": "FL65",
          "Origin": "ftp",
          "Sensor": "STB",
          "Valid files": 1
         },
         {
          "Date": "2019-10-06",
          "Expected files": 40,
          "Files received": 1,
          "Locatie": "FL65",
          "Origin": "ftp",
          "Sensor": "STB",
          "Valid files": 1
         },
         {
          "Date": "2019-10-07",
          "Expected files": 40,
          "Files received": 1,
          "Locatie": "FL65",
          "Origin": "ftp",
          "Sensor": "STB",
          "Valid files": 1
         },
         {
          "Date": "2019-10-08",
          "Expected files": 40,
          "Files received": 1,
          "Locatie": "FL65",
          "Origin": "ftp",
          "Sensor": "STB",
          "Valid files": 1
         },
         {
          "Date": "2019-09-09",
          "Expected files": 40,
          "Files received": 1,
          "Locatie": "FL66",
          "Origin": "ftp",
          "Sensor": "STB",
          "Valid files": 1
         },
         {
          "Date": "2019-09-10",
          "Expected files": 40,
          "Files received": 1,
          "Locatie": "FL66",
          "Origin": "ftp",
          "Sensor": "STB",
          "Valid files": 1
         },
         {
          "Date": "2019-09-11",
          "Expected files": 40,
          "Files received": 1,
          "Locatie": "FL66",
          "Origin": "ftp",
          "Sensor": "STB",
          "Valid files": 1
         },
         {
          "Date": "2019-09-12",
          "Expected files": 40,
          "Files received": 1,
          "Locatie": "FL66",
          "Origin": "ftp",
          "Sensor": "STB",
          "Valid files": 1
         },
         {
          "Date": "2019-09-13",
          "Expected files": 40,
          "Files received": 1,
          "Locatie": "FL66",
          "Origin": "ftp",
          "Sensor": "STB",
          "Valid files": 1
         },
         {
          "Date": "2019-09-14",
          "Expected files": 40,
          "Files received": 1,
          "Locatie": "FL66",
          "Origin": "ftp",
          "Sensor": "STB",
          "Valid files": 1
         },
         {
          "Date": "2019-09-15",
          "Expected files": 40,
          "Files received": 1,
          "Locatie": "FL66",
          "Origin": "ftp",
          "Sensor": "STB",
          "Valid files": 1
         },
         {
          "Date": "2019-09-16",
          "Expected files": 40,
          "Files received": 1,
          "Locatie": "FL66",
          "Origin": "ftp",
          "Sensor": "STB",
          "Valid files": 1
         },
         {
          "Date": "2019-09-17",
          "Expected files": 40,
          "Files received": 1,
          "Locatie": "FL66",
          "Origin": "ftp",
          "Sensor": "STB",
          "Valid files": 1
         },
         {
          "Date": "2019-09-18",
          "Expected files": 40,
          "Files received": 1,
          "Locatie": "FL66",
          "Origin": "ftp",
          "Sensor": "STB",
          "Valid files": 1
         },
         {
          "Date": "2019-09-19",
          "Expected files": 40,
          "Files received": 1,
          "Locatie": "FL66",
          "Origin": "ftp",
          "Sensor": "STB",
          "Valid files": 1
         },
         {
          "Date": "2019-09-20",
          "Expected files": 40,
          "Files received": 1,
          "Locatie": "FL66",
          "Origin": "ftp",
          "Sensor": "STB",
          "Valid files": 1
         },
         {
          "Date": "2019-09-21",
          "Expected files": 40,
          "Files received": 1,
          "Locatie": "FL66",
          "Origin": "ftp",
          "Sensor": "STB",
          "Valid files": 1
         },
         {
          "Date": "2019-09-22",
          "Expected files": 40,
          "Files received": 1,
          "Locatie": "FL66",
          "Origin": "ftp",
          "Sensor": "STB",
          "Valid files": 1
         },
         {
          "Date": "2019-09-23",
          "Expected files": 40,
          "Files received": 1,
          "Locatie": "FL66",
          "Origin": "ftp",
          "Sensor": "STB",
          "Valid files": 1
         },
         {
          "Date": "2019-09-24",
          "Expected files": 40,
          "Files received": 1,
          "Locatie": "FL66",
          "Origin": "ftp",
          "Sensor": "STB",
          "Valid files": 1
         },
         {
          "Date": "2019-09-25",
          "Expected files": 40,
          "Files received": 1,
          "Locatie": "FL66",
          "Origin": "ftp",
          "Sensor": "STB",
          "Valid files": 1
         },
         {
          "Date": "2019-09-26",
          "Expected files": 40,
          "Files received": 1,
          "Locatie": "FL66",
          "Origin": "ftp",
          "Sensor": "STB",
          "Valid files": 1
         },
         {
          "Date": "2019-09-27",
          "Expected files": 40,
          "Files received": 1,
          "Locatie": "FL66",
          "Origin": "ftp",
          "Sensor": "STB",
          "Valid files": 1
         },
         {
          "Date": "2019-09-28",
          "Expected files": 40,
          "Files received": 1,
          "Locatie": "FL66",
          "Origin": "ftp",
          "Sensor": "STB",
          "Valid files": 1
         },
         {
          "Date": "2019-09-29",
          "Expected files": 40,
          "Files received": 1,
          "Locatie": "FL66",
          "Origin": "ftp",
          "Sensor": "STB",
          "Valid files": 1
         },
         {
          "Date": "2019-09-30",
          "Expected files": 40,
          "Files received": 1,
          "Locatie": "FL66",
          "Origin": "ftp",
          "Sensor": "STB",
          "Valid files": 1
         },
         {
          "Date": "2019-10-01",
          "Expected files": 40,
          "Files received": 1,
          "Locatie": "FL66",
          "Origin": "ftp",
          "Sensor": "STB",
          "Valid files": 1
         },
         {
          "Date": "2019-10-02",
          "Expected files": 40,
          "Files received": 1,
          "Locatie": "FL66",
          "Origin": "ftp",
          "Sensor": "STB",
          "Valid files": 1
         },
         {
          "Date": "2019-10-03",
          "Expected files": 40,
          "Files received": 1,
          "Locatie": "FL66",
          "Origin": "ftp",
          "Sensor": "STB",
          "Valid files": 1
         },
         {
          "Date": "2019-10-04",
          "Expected files": 40,
          "Files received": 1,
          "Locatie": "FL66",
          "Origin": "ftp",
          "Sensor": "STB",
          "Valid files": 1
         },
         {
          "Date": "2019-10-05",
          "Expected files": 40,
          "Files received": 1,
          "Locatie": "FL66",
          "Origin": "ftp",
          "Sensor": "STB",
          "Valid files": 1
         },
         {
          "Date": "2019-10-06",
          "Expected files": 40,
          "Files received": 1,
          "Locatie": "FL66",
          "Origin": "ftp",
          "Sensor": "STB",
          "Valid files": 1
         },
         {
          "Date": "2019-10-07",
          "Expected files": 40,
          "Files received": 1,
          "Locatie": "FL66",
          "Origin": "ftp",
          "Sensor": "STB",
          "Valid files": 1
         },
         {
          "Date": "2019-10-08",
          "Expected files": 40,
          "Files received": 1,
          "Locatie": "FL66",
          "Origin": "ftp",
          "Sensor": "STB",
          "Valid files": 1
         },
         {
          "Date": "2019-09-09",
          "Expected files": 40,
          "Files received": 1,
          "Locatie": "FL67",
          "Origin": "ftp",
          "Sensor": "STB",
          "Valid files": 1
         },
         {
          "Date": "2019-09-10",
          "Expected files": 40,
          "Files received": 1,
          "Locatie": "FL67",
          "Origin": "ftp",
          "Sensor": "STB",
          "Valid files": 1
         },
         {
          "Date": "2019-09-11",
          "Expected files": 40,
          "Files received": 1,
          "Locatie": "FL67",
          "Origin": "ftp",
          "Sensor": "STB",
          "Valid files": 1
         },
         {
          "Date": "2019-09-12",
          "Expected files": 40,
          "Files received": 1,
          "Locatie": "FL67",
          "Origin": "ftp",
          "Sensor": "STB",
          "Valid files": 1
         },
         {
          "Date": "2019-09-13",
          "Expected files": 40,
          "Files received": 1,
          "Locatie": "FL67",
          "Origin": "ftp",
          "Sensor": "STB",
          "Valid files": 1
         },
         {
          "Date": "2019-09-14",
          "Expected files": 40,
          "Files received": 1,
          "Locatie": "FL67",
          "Origin": "ftp",
          "Sensor": "STB",
          "Valid files": 1
         },
         {
          "Date": "2019-09-15",
          "Expected files": 40,
          "Files received": 1,
          "Locatie": "FL67",
          "Origin": "ftp",
          "Sensor": "STB",
          "Valid files": 1
         },
         {
          "Date": "2019-09-16",
          "Expected files": 40,
          "Files received": 1,
          "Locatie": "FL67",
          "Origin": "ftp",
          "Sensor": "STB",
          "Valid files": 1
         },
         {
          "Date": "2019-09-17",
          "Expected files": 40,
          "Files received": 1,
          "Locatie": "FL67",
          "Origin": "ftp",
          "Sensor": "STB",
          "Valid files": 1
         },
         {
          "Date": "2019-09-18",
          "Expected files": 40,
          "Files received": 1,
          "Locatie": "FL67",
          "Origin": "ftp",
          "Sensor": "STB",
          "Valid files": 1
         },
         {
          "Date": "2019-09-19",
          "Expected files": 40,
          "Files received": 1,
          "Locatie": "FL67",
          "Origin": "ftp",
          "Sensor": "STB",
          "Valid files": 1
         },
         {
          "Date": "2019-09-20",
          "Expected files": 40,
          "Files received": 1,
          "Locatie": "FL67",
          "Origin": "ftp",
          "Sensor": "STB",
          "Valid files": 1
         },
         {
          "Date": "2019-09-21",
          "Expected files": 40,
          "Files received": 1,
          "Locatie": "FL67",
          "Origin": "ftp",
          "Sensor": "STB",
          "Valid files": 1
         },
         {
          "Date": "2019-09-22",
          "Expected files": 40,
          "Files received": 1,
          "Locatie": "FL67",
          "Origin": "ftp",
          "Sensor": "STB",
          "Valid files": 1
         },
         {
          "Date": "2019-09-23",
          "Expected files": 40,
          "Files received": 1,
          "Locatie": "FL67",
          "Origin": "ftp",
          "Sensor": "STB",
          "Valid files": 1
         },
         {
          "Date": "2019-09-24",
          "Expected files": 40,
          "Files received": 1,
          "Locatie": "FL67",
          "Origin": "ftp",
          "Sensor": "STB",
          "Valid files": 1
         },
         {
          "Date": "2019-09-25",
          "Expected files": 40,
          "Files received": 1,
          "Locatie": "FL67",
          "Origin": "ftp",
          "Sensor": "STB",
          "Valid files": 1
         },
         {
          "Date": "2019-09-26",
          "Expected files": 40,
          "Files received": 1,
          "Locatie": "FL67",
          "Origin": "ftp",
          "Sensor": "STB",
          "Valid files": 1
         },
         {
          "Date": "2019-09-27",
          "Expected files": 40,
          "Files received": 1,
          "Locatie": "FL67",
          "Origin": "ftp",
          "Sensor": "STB",
          "Valid files": 1
         },
         {
          "Date": "2019-09-28",
          "Expected files": 40,
          "Files received": 1,
          "Locatie": "FL67",
          "Origin": "ftp",
          "Sensor": "STB",
          "Valid files": 1
         },
         {
          "Date": "2019-09-29",
          "Expected files": 40,
          "Files received": 1,
          "Locatie": "FL67",
          "Origin": "ftp",
          "Sensor": "STB",
          "Valid files": 1
         },
         {
          "Date": "2019-09-30",
          "Expected files": 40,
          "Files received": 1,
          "Locatie": "FL67",
          "Origin": "ftp",
          "Sensor": "STB",
          "Valid files": 1
         },
         {
          "Date": "2019-10-01",
          "Expected files": 40,
          "Files received": 1,
          "Locatie": "FL67",
          "Origin": "ftp",
          "Sensor": "STB",
          "Valid files": 1
         },
         {
          "Date": "2019-10-02",
          "Expected files": 40,
          "Files received": 1,
          "Locatie": "FL67",
          "Origin": "ftp",
          "Sensor": "STB",
          "Valid files": 1
         },
         {
          "Date": "2019-10-03",
          "Expected files": 40,
          "Files received": 1,
          "Locatie": "FL67",
          "Origin": "ftp",
          "Sensor": "STB",
          "Valid files": 1
         },
         {
          "Date": "2019-10-04",
          "Expected files": 40,
          "Files received": 1,
          "Locatie": "FL67",
          "Origin": "ftp",
          "Sensor": "STB",
          "Valid files": 1
         },
         {
          "Date": "2019-10-05",
          "Expected files": 40,
          "Files received": 1,
          "Locatie": "FL67",
          "Origin": "ftp",
          "Sensor": "STB",
          "Valid files": 1
         },
         {
          "Date": "2019-10-06",
          "Expected files": 40,
          "Files received": 1,
          "Locatie": "FL67",
          "Origin": "ftp",
          "Sensor": "STB",
          "Valid files": 1
         },
         {
          "Date": "2019-10-07",
          "Expected files": 40,
          "Files received": 1,
          "Locatie": "FL67",
          "Origin": "ftp",
          "Sensor": "STB",
          "Valid files": 1
         },
         {
          "Date": "2019-10-08",
          "Expected files": 40,
          "Files received": 1.05,
          "Locatie": "FL67",
          "Origin": "ftp",
          "Sensor": "STB",
          "Valid files": 1
         },
         {
          "Date": "2019-09-09",
          "Expected files": 40,
          "Files received": 1,
          "Locatie": "FL68",
          "Origin": "ftp",
          "Sensor": "STB",
          "Valid files": 1
         },
         {
          "Date": "2019-09-10",
          "Expected files": 40,
          "Files received": 1,
          "Locatie": "FL68",
          "Origin": "ftp",
          "Sensor": "STB",
          "Valid files": 1
         },
         {
          "Date": "2019-09-11",
          "Expected files": 40,
          "Files received": 1,
          "Locatie": "FL68",
          "Origin": "ftp",
          "Sensor": "STB",
          "Valid files": 1
         },
         {
          "Date": "2019-09-12",
          "Expected files": 40,
          "Files received": 1,
          "Locatie": "FL68",
          "Origin": "ftp",
          "Sensor": "STB",
          "Valid files": 1
         },
         {
          "Date": "2019-09-13",
          "Expected files": 40,
          "Files received": 1,
          "Locatie": "FL68",
          "Origin": "ftp",
          "Sensor": "STB",
          "Valid files": 1
         },
         {
          "Date": "2019-09-14",
          "Expected files": 40,
          "Files received": 1,
          "Locatie": "FL68",
          "Origin": "ftp",
          "Sensor": "STB",
          "Valid files": 1
         },
         {
          "Date": "2019-09-15",
          "Expected files": 40,
          "Files received": 1,
          "Locatie": "FL68",
          "Origin": "ftp",
          "Sensor": "STB",
          "Valid files": 1
         },
         {
          "Date": "2019-09-16",
          "Expected files": 40,
          "Files received": 1,
          "Locatie": "FL68",
          "Origin": "ftp",
          "Sensor": "STB",
          "Valid files": 1
         },
         {
          "Date": "2019-09-17",
          "Expected files": 40,
          "Files received": 1,
          "Locatie": "FL68",
          "Origin": "ftp",
          "Sensor": "STB",
          "Valid files": 1
         },
         {
          "Date": "2019-09-18",
          "Expected files": 40,
          "Files received": 1,
          "Locatie": "FL68",
          "Origin": "ftp",
          "Sensor": "STB",
          "Valid files": 1
         },
         {
          "Date": "2019-09-19",
          "Expected files": 40,
          "Files received": 1,
          "Locatie": "FL68",
          "Origin": "ftp",
          "Sensor": "STB",
          "Valid files": 1
         },
         {
          "Date": "2019-09-20",
          "Expected files": 40,
          "Files received": 1,
          "Locatie": "FL68",
          "Origin": "ftp",
          "Sensor": "STB",
          "Valid files": 1
         },
         {
          "Date": "2019-09-21",
          "Expected files": 40,
          "Files received": 1,
          "Locatie": "FL68",
          "Origin": "ftp",
          "Sensor": "STB",
          "Valid files": 1
         },
         {
          "Date": "2019-09-22",
          "Expected files": 40,
          "Files received": 1,
          "Locatie": "FL68",
          "Origin": "ftp",
          "Sensor": "STB",
          "Valid files": 1
         },
         {
          "Date": "2019-09-23",
          "Expected files": 40,
          "Files received": 1,
          "Locatie": "FL68",
          "Origin": "ftp",
          "Sensor": "STB",
          "Valid files": 1
         },
         {
          "Date": "2019-09-24",
          "Expected files": 40,
          "Files received": 1,
          "Locatie": "FL68",
          "Origin": "ftp",
          "Sensor": "STB",
          "Valid files": 1
         },
         {
          "Date": "2019-09-25",
          "Expected files": 40,
          "Files received": 1,
          "Locatie": "FL68",
          "Origin": "ftp",
          "Sensor": "STB",
          "Valid files": 1
         },
         {
          "Date": "2019-09-26",
          "Expected files": 40,
          "Files received": 1,
          "Locatie": "FL68",
          "Origin": "ftp",
          "Sensor": "STB",
          "Valid files": 1
         },
         {
          "Date": "2019-09-27",
          "Expected files": 40,
          "Files received": 1,
          "Locatie": "FL68",
          "Origin": "ftp",
          "Sensor": "STB",
          "Valid files": 1
         },
         {
          "Date": "2019-09-28",
          "Expected files": 40,
          "Files received": 1,
          "Locatie": "FL68",
          "Origin": "ftp",
          "Sensor": "STB",
          "Valid files": 1
         },
         {
          "Date": "2019-09-29",
          "Expected files": 40,
          "Files received": 1,
          "Locatie": "FL68",
          "Origin": "ftp",
          "Sensor": "STB",
          "Valid files": 1
         },
         {
          "Date": "2019-09-30",
          "Expected files": 40,
          "Files received": 1.025,
          "Locatie": "FL68",
          "Origin": "ftp",
          "Sensor": "STB",
          "Valid files": 1
         },
         {
          "Date": "2019-10-01",
          "Expected files": 40,
          "Files received": 1,
          "Locatie": "FL68",
          "Origin": "ftp",
          "Sensor": "STB",
          "Valid files": 1
         },
         {
          "Date": "2019-10-02",
          "Expected files": 40,
          "Files received": 1,
          "Locatie": "FL68",
          "Origin": "ftp",
          "Sensor": "STB",
          "Valid files": 1
         },
         {
          "Date": "2019-10-03",
          "Expected files": 40,
          "Files received": 1,
          "Locatie": "FL68",
          "Origin": "ftp",
          "Sensor": "STB",
          "Valid files": 1
         },
         {
          "Date": "2019-10-04",
          "Expected files": 40,
          "Files received": 1,
          "Locatie": "FL68",
          "Origin": "ftp",
          "Sensor": "STB",
          "Valid files": 1
         },
         {
          "Date": "2019-10-05",
          "Expected files": 40,
          "Files received": 1,
          "Locatie": "FL68",
          "Origin": "ftp",
          "Sensor": "STB",
          "Valid files": 1
         },
         {
          "Date": "2019-10-06",
          "Expected files": 40,
          "Files received": 1,
          "Locatie": "FL68",
          "Origin": "ftp",
          "Sensor": "STB",
          "Valid files": 1
         },
         {
          "Date": "2019-10-07",
          "Expected files": 40,
          "Files received": 1,
          "Locatie": "FL68",
          "Origin": "ftp",
          "Sensor": "STB",
          "Valid files": 1
         },
         {
          "Date": "2019-10-08",
          "Expected files": 40,
          "Files received": 1,
          "Locatie": "FL68",
          "Origin": "ftp",
          "Sensor": "STB",
          "Valid files": 1
         },
         {
          "Date": "2019-09-09",
          "Expected files": 40,
          "Files received": 1.05,
          "Locatie": "FL69",
          "Origin": "ftp",
          "Sensor": "STB",
          "Valid files": 1
         },
         {
          "Date": "2019-09-10",
          "Expected files": 40,
          "Files received": 1,
          "Locatie": "FL69",
          "Origin": "ftp",
          "Sensor": "STB",
          "Valid files": 1
         },
         {
          "Date": "2019-09-11",
          "Expected files": 40,
          "Files received": 1,
          "Locatie": "FL69",
          "Origin": "ftp",
          "Sensor": "STB",
          "Valid files": 1
         },
         {
          "Date": "2019-09-12",
          "Expected files": 40,
          "Files received": 1,
          "Locatie": "FL69",
          "Origin": "ftp",
          "Sensor": "STB",
          "Valid files": 1
         },
         {
          "Date": "2019-09-13",
          "Expected files": 40,
          "Files received": 1,
          "Locatie": "FL69",
          "Origin": "ftp",
          "Sensor": "STB",
          "Valid files": 1
         },
         {
          "Date": "2019-09-14",
          "Expected files": 40,
          "Files received": 1,
          "Locatie": "FL69",
          "Origin": "ftp",
          "Sensor": "STB",
          "Valid files": 1
         },
         {
          "Date": "2019-09-15",
          "Expected files": 40,
          "Files received": 1,
          "Locatie": "FL69",
          "Origin": "ftp",
          "Sensor": "STB",
          "Valid files": 1
         },
         {
          "Date": "2019-09-16",
          "Expected files": 40,
          "Files received": 1,
          "Locatie": "FL69",
          "Origin": "ftp",
          "Sensor": "STB",
          "Valid files": 1
         },
         {
          "Date": "2019-09-17",
          "Expected files": 40,
          "Files received": 1,
          "Locatie": "FL69",
          "Origin": "ftp",
          "Sensor": "STB",
          "Valid files": 1
         },
         {
          "Date": "2019-09-18",
          "Expected files": 40,
          "Files received": 1,
          "Locatie": "FL69",
          "Origin": "ftp",
          "Sensor": "STB",
          "Valid files": 1
         },
         {
          "Date": "2019-09-19",
          "Expected files": 40,
          "Files received": 1,
          "Locatie": "FL69",
          "Origin": "ftp",
          "Sensor": "STB",
          "Valid files": 1
         },
         {
          "Date": "2019-09-20",
          "Expected files": 40,
          "Files received": 1,
          "Locatie": "FL69",
          "Origin": "ftp",
          "Sensor": "STB",
          "Valid files": 1
         },
         {
          "Date": "2019-09-21",
          "Expected files": 40,
          "Files received": 1,
          "Locatie": "FL69",
          "Origin": "ftp",
          "Sensor": "STB",
          "Valid files": 1
         },
         {
          "Date": "2019-09-22",
          "Expected files": 40,
          "Files received": 1,
          "Locatie": "FL69",
          "Origin": "ftp",
          "Sensor": "STB",
          "Valid files": 1
         },
         {
          "Date": "2019-09-23",
          "Expected files": 40,
          "Files received": 1,
          "Locatie": "FL69",
          "Origin": "ftp",
          "Sensor": "STB",
          "Valid files": 1
         },
         {
          "Date": "2019-09-24",
          "Expected files": 40,
          "Files received": 1,
          "Locatie": "FL69",
          "Origin": "ftp",
          "Sensor": "STB",
          "Valid files": 1
         },
         {
          "Date": "2019-09-25",
          "Expected files": 40,
          "Files received": 1,
          "Locatie": "FL69",
          "Origin": "ftp",
          "Sensor": "STB",
          "Valid files": 1
         },
         {
          "Date": "2019-09-26",
          "Expected files": 40,
          "Files received": 1,
          "Locatie": "FL69",
          "Origin": "ftp",
          "Sensor": "STB",
          "Valid files": 1
         },
         {
          "Date": "2019-09-27",
          "Expected files": 40,
          "Files received": 1,
          "Locatie": "FL69",
          "Origin": "ftp",
          "Sensor": "STB",
          "Valid files": 1
         },
         {
          "Date": "2019-09-28",
          "Expected files": 40,
          "Files received": 1,
          "Locatie": "FL69",
          "Origin": "ftp",
          "Sensor": "STB",
          "Valid files": 1
         },
         {
          "Date": "2019-09-29",
          "Expected files": 40,
          "Files received": 1,
          "Locatie": "FL69",
          "Origin": "ftp",
          "Sensor": "STB",
          "Valid files": 1
         },
         {
          "Date": "2019-09-30",
          "Expected files": 40,
          "Files received": 1,
          "Locatie": "FL69",
          "Origin": "ftp",
          "Sensor": "STB",
          "Valid files": 1
         },
         {
          "Date": "2019-10-01",
          "Expected files": 40,
          "Files received": 1,
          "Locatie": "FL69",
          "Origin": "ftp",
          "Sensor": "STB",
          "Valid files": 1
         },
         {
          "Date": "2019-10-02",
          "Expected files": 40,
          "Files received": 1,
          "Locatie": "FL69",
          "Origin": "ftp",
          "Sensor": "STB",
          "Valid files": 1
         },
         {
          "Date": "2019-10-03",
          "Expected files": 40,
          "Files received": 1,
          "Locatie": "FL69",
          "Origin": "ftp",
          "Sensor": "STB",
          "Valid files": 1
         },
         {
          "Date": "2019-10-04",
          "Expected files": 40,
          "Files received": 1,
          "Locatie": "FL69",
          "Origin": "ftp",
          "Sensor": "STB",
          "Valid files": 1
         },
         {
          "Date": "2019-10-05",
          "Expected files": 40,
          "Files received": 1,
          "Locatie": "FL69",
          "Origin": "ftp",
          "Sensor": "STB",
          "Valid files": 1
         },
         {
          "Date": "2019-10-06",
          "Expected files": 40,
          "Files received": 1,
          "Locatie": "FL69",
          "Origin": "ftp",
          "Sensor": "STB",
          "Valid files": 1
         },
         {
          "Date": "2019-10-07",
          "Expected files": 40,
          "Files received": 1,
          "Locatie": "FL69",
          "Origin": "ftp",
          "Sensor": "STB",
          "Valid files": 1
         },
         {
          "Date": "2019-10-08",
          "Expected files": 40,
          "Files received": 1,
          "Locatie": "FL69",
          "Origin": "ftp",
          "Sensor": "STB",
          "Valid files": 1
         },
         {
          "Date": "2019-09-09",
          "Expected files": 40,
          "Files received": 1,
          "Locatie": "FL70",
          "Origin": "ftp",
          "Sensor": "STB",
          "Valid files": 1
         },
         {
          "Date": "2019-09-10",
          "Expected files": 40,
          "Files received": 1,
          "Locatie": "FL70",
          "Origin": "ftp",
          "Sensor": "STB",
          "Valid files": 1
         },
         {
          "Date": "2019-09-11",
          "Expected files": 40,
          "Files received": 1,
          "Locatie": "FL70",
          "Origin": "ftp",
          "Sensor": "STB",
          "Valid files": 1
         },
         {
          "Date": "2019-09-12",
          "Expected files": 40,
          "Files received": 1,
          "Locatie": "FL70",
          "Origin": "ftp",
          "Sensor": "STB",
          "Valid files": 1
         },
         {
          "Date": "2019-09-13",
          "Expected files": 40,
          "Files received": 1,
          "Locatie": "FL70",
          "Origin": "ftp",
          "Sensor": "STB",
          "Valid files": 1
         },
         {
          "Date": "2019-09-14",
          "Expected files": 40,
          "Files received": 1,
          "Locatie": "FL70",
          "Origin": "ftp",
          "Sensor": "STB",
          "Valid files": 1
         },
         {
          "Date": "2019-09-15",
          "Expected files": 40,
          "Files received": 1,
          "Locatie": "FL70",
          "Origin": "ftp",
          "Sensor": "STB",
          "Valid files": 1
         },
         {
          "Date": "2019-09-16",
          "Expected files": 40,
          "Files received": 1,
          "Locatie": "FL70",
          "Origin": "ftp",
          "Sensor": "STB",
          "Valid files": 1
         },
         {
          "Date": "2019-09-17",
          "Expected files": 40,
          "Files received": 1,
          "Locatie": "FL70",
          "Origin": "ftp",
          "Sensor": "STB",
          "Valid files": 1
         },
         {
          "Date": "2019-09-18",
          "Expected files": 40,
          "Files received": 1,
          "Locatie": "FL70",
          "Origin": "ftp",
          "Sensor": "STB",
          "Valid files": 1
         },
         {
          "Date": "2019-09-19",
          "Expected files": 40,
          "Files received": 1,
          "Locatie": "FL70",
          "Origin": "ftp",
          "Sensor": "STB",
          "Valid files": 1
         },
         {
          "Date": "2019-09-20",
          "Expected files": 40,
          "Files received": 1,
          "Locatie": "FL70",
          "Origin": "ftp",
          "Sensor": "STB",
          "Valid files": 1
         },
         {
          "Date": "2019-09-21",
          "Expected files": 40,
          "Files received": 1,
          "Locatie": "FL70",
          "Origin": "ftp",
          "Sensor": "STB",
          "Valid files": 1
         },
         {
          "Date": "2019-09-22",
          "Expected files": 40,
          "Files received": 1,
          "Locatie": "FL70",
          "Origin": "ftp",
          "Sensor": "STB",
          "Valid files": 1
         },
         {
          "Date": "2019-09-23",
          "Expected files": 40,
          "Files received": 1,
          "Locatie": "FL70",
          "Origin": "ftp",
          "Sensor": "STB",
          "Valid files": 1
         },
         {
          "Date": "2019-09-24",
          "Expected files": 40,
          "Files received": 1,
          "Locatie": "FL70",
          "Origin": "ftp",
          "Sensor": "STB",
          "Valid files": 1
         },
         {
          "Date": "2019-09-25",
          "Expected files": 40,
          "Files received": 1,
          "Locatie": "FL70",
          "Origin": "ftp",
          "Sensor": "STB",
          "Valid files": 1
         },
         {
          "Date": "2019-09-26",
          "Expected files": 40,
          "Files received": 1,
          "Locatie": "FL70",
          "Origin": "ftp",
          "Sensor": "STB",
          "Valid files": 1
         },
         {
          "Date": "2019-09-27",
          "Expected files": 40,
          "Files received": 1,
          "Locatie": "FL70",
          "Origin": "ftp",
          "Sensor": "STB",
          "Valid files": 1
         },
         {
          "Date": "2019-09-28",
          "Expected files": 40,
          "Files received": 1,
          "Locatie": "FL70",
          "Origin": "ftp",
          "Sensor": "STB",
          "Valid files": 1
         },
         {
          "Date": "2019-09-29",
          "Expected files": 40,
          "Files received": 1,
          "Locatie": "FL70",
          "Origin": "ftp",
          "Sensor": "STB",
          "Valid files": 1
         },
         {
          "Date": "2019-09-30",
          "Expected files": 40,
          "Files received": 1,
          "Locatie": "FL70",
          "Origin": "ftp",
          "Sensor": "STB",
          "Valid files": 1
         },
         {
          "Date": "2019-10-01",
          "Expected files": 40,
          "Files received": 1,
          "Locatie": "FL70",
          "Origin": "ftp",
          "Sensor": "STB",
          "Valid files": 1
         },
         {
          "Date": "2019-10-02",
          "Expected files": 40,
          "Files received": 1,
          "Locatie": "FL70",
          "Origin": "ftp",
          "Sensor": "STB",
          "Valid files": 1
         },
         {
          "Date": "2019-10-03",
          "Expected files": 40,
          "Files received": 1,
          "Locatie": "FL70",
          "Origin": "ftp",
          "Sensor": "STB",
          "Valid files": 1
         },
         {
          "Date": "2019-10-04",
          "Expected files": 40,
          "Files received": 1,
          "Locatie": "FL70",
          "Origin": "ftp",
          "Sensor": "STB",
          "Valid files": 1
         },
         {
          "Date": "2019-10-05",
          "Expected files": 40,
          "Files received": 1,
          "Locatie": "FL70",
          "Origin": "ftp",
          "Sensor": "STB",
          "Valid files": 1
         },
         {
          "Date": "2019-10-06",
          "Expected files": 40,
          "Files received": 1,
          "Locatie": "FL70",
          "Origin": "ftp",
          "Sensor": "STB",
          "Valid files": 1
         },
         {
          "Date": "2019-10-07",
          "Expected files": 40,
          "Files received": 1,
          "Locatie": "FL70",
          "Origin": "ftp",
          "Sensor": "STB",
          "Valid files": 1
         },
         {
          "Date": "2019-10-08",
          "Expected files": 40,
          "Files received": 1,
          "Locatie": "FL70",
          "Origin": "ftp",
          "Sensor": "STB",
          "Valid files": 1
         }
        ]
       },
       "encoding": {
        "facet": {
         "field": "Origin",
         "title": "STB",
         "type": "nominal"
        },
        "fill": {
         "field": "Files received",
         "legend": {
          "format": ".0%",
          "title": "Health",
          "values": [
           0,
           0.5,
           1
          ]
         },
         "scale": {
          "domain": [
           0,
           0.85,
           1
          ],
          "range": [
           "red",
           "#FFDC00",
           "#2ECC40"
          ]
         },
         "type": "quantitative"
        },
        "stroke": {
         "condition": {
          "selection": "selector001",
          "value": "black"
         },
         "value": "white"
        },
        "tooltip": [
         {
          "field": "Locatie",
          "type": "nominal"
         },
         {
          "field": "Sensor",
          "type": "nominal"
         },
         {
          "field": "Expected files",
          "type": "quantitative"
         },
         {
          "field": "Date",
          "type": "nominal"
         },
         {
          "field": "Files received",
          "format": ".0%",
          "type": "quantitative"
         },
         {
          "field": "Valid files",
          "format": ".0%",
          "type": "quantitative"
         }
        ],
        "x": {
         "field": "Locatie",
         "title": null,
         "type": "nominal"
        },
        "y": {
         "field": "Date",
         "sort": "descending",
         "type": "nominal"
        }
       },
       "mark": "rect",
       "resolve": {
        "scale": {
         "x": "independent"
        }
       },
       "selection": {
        "selector001": {
         "empty": "none",
         "on": "mouseover",
         "type": "single"
        }
       }
      },
      "image/png": "[encoded data removed]",
      "text/plain": [
       "<VegaLite 3 object>\n",
       "\n",
       "If you see this message, it means the renderer has not been properly enabled\n",
       "for the frontend that you are using. For more information, see\n",
       "https://altair-viz.github.io/user_guide/troubleshooting.html\n"
      ]
     },
     "metadata": {},
     "output_type": "display_data"
    },
    {
     "data": {
      "application/vnd.vegalite.v3+json": {
       "$schema": "https://vega.github.io/schema/vega-lite/v3.4.0.json",
       "config": {
        "axisX": {
         "labelAngle": -45
        },
        "axisY": {
         "titleAlign": "left",
         "titleAngle": 0,
         "titleX": -50,
         "titleY": -3
        },
        "header": {
         "titleAnchor": "start",
         "titleFontSize": 16
        },
        "mark": {
         "tooltip": null
        },
        "scale": {
         "bandPaddingInner": 0.05,
         "bandPaddingOuter": 0.05
        },
        "view": {
         "height": 300,
         "width": 400
        }
       },
       "data": {
        "name": "data-5e09f0463c39ff9529f021e73ee5f5d0"
       },
       "datasets": {
        "data-5e09f0463c39ff9529f021e73ee5f5d0": [
         {
          "Date": "2019-09-09",
          "Expected files": 1,
          "Files received": 1,
          "Locatie": "FL65",
          "Origin": "standard",
          "Sensor": "ADC",
          "Valid files": 1
         },
         {
          "Date": "2019-09-10",
          "Expected files": 1,
          "Files received": 1,
          "Locatie": "FL65",
          "Origin": "standard",
          "Sensor": "ADC",
          "Valid files": 1
         },
         {
          "Date": "2019-09-11",
          "Expected files": 1,
          "Files received": 1,
          "Locatie": "FL65",
          "Origin": "standard",
          "Sensor": "ADC",
          "Valid files": 1
         },
         {
          "Date": "2019-09-12",
          "Expected files": 1,
          "Files received": 1,
          "Locatie": "FL65",
          "Origin": "standard",
          "Sensor": "ADC",
          "Valid files": 1
         },
         {
          "Date": "2019-09-13",
          "Expected files": 1,
          "Files received": 1,
          "Locatie": "FL65",
          "Origin": "standard",
          "Sensor": "ADC",
          "Valid files": 1
         },
         {
          "Date": "2019-09-14",
          "Expected files": 1,
          "Files received": 1,
          "Locatie": "FL65",
          "Origin": "standard",
          "Sensor": "ADC",
          "Valid files": 1
         },
         {
          "Date": "2019-09-15",
          "Expected files": 1,
          "Files received": 1,
          "Locatie": "FL65",
          "Origin": "standard",
          "Sensor": "ADC",
          "Valid files": 1
         },
         {
          "Date": "2019-09-16",
          "Expected files": 1,
          "Files received": 1,
          "Locatie": "FL65",
          "Origin": "standard",
          "Sensor": "ADC",
          "Valid files": 1
         },
         {
          "Date": "2019-09-17",
          "Expected files": 1,
          "Files received": 1,
          "Locatie": "FL65",
          "Origin": "standard",
          "Sensor": "ADC",
          "Valid files": 1
         },
         {
          "Date": "2019-09-18",
          "Expected files": 1,
          "Files received": 1,
          "Locatie": "FL65",
          "Origin": "standard",
          "Sensor": "ADC",
          "Valid files": 1
         },
         {
          "Date": "2019-09-19",
          "Expected files": 1,
          "Files received": 1,
          "Locatie": "FL65",
          "Origin": "standard",
          "Sensor": "ADC",
          "Valid files": 1
         },
         {
          "Date": "2019-09-20",
          "Expected files": 1,
          "Files received": 1,
          "Locatie": "FL65",
          "Origin": "standard",
          "Sensor": "ADC",
          "Valid files": 1
         },
         {
          "Date": "2019-09-21",
          "Expected files": 1,
          "Files received": 1,
          "Locatie": "FL65",
          "Origin": "standard",
          "Sensor": "ADC",
          "Valid files": 1
         },
         {
          "Date": "2019-09-22",
          "Expected files": 1,
          "Files received": 1,
          "Locatie": "FL65",
          "Origin": "standard",
          "Sensor": "ADC",
          "Valid files": 1
         },
         {
          "Date": "2019-09-23",
          "Expected files": 1,
          "Files received": 1,
          "Locatie": "FL65",
          "Origin": "standard",
          "Sensor": "ADC",
          "Valid files": 1
         },
         {
          "Date": "2019-09-24",
          "Expected files": 1,
          "Files received": 1,
          "Locatie": "FL65",
          "Origin": "standard",
          "Sensor": "ADC",
          "Valid files": 1
         },
         {
          "Date": "2019-09-25",
          "Expected files": 1,
          "Files received": 1,
          "Locatie": "FL65",
          "Origin": "standard",
          "Sensor": "ADC",
          "Valid files": 1
         },
         {
          "Date": "2019-09-26",
          "Expected files": 1,
          "Files received": 1,
          "Locatie": "FL65",
          "Origin": "standard",
          "Sensor": "ADC",
          "Valid files": 1
         },
         {
          "Date": "2019-09-27",
          "Expected files": 1,
          "Files received": 1,
          "Locatie": "FL65",
          "Origin": "standard",
          "Sensor": "ADC",
          "Valid files": 1
         },
         {
          "Date": "2019-09-28",
          "Expected files": 1,
          "Files received": 1,
          "Locatie": "FL65",
          "Origin": "standard",
          "Sensor": "ADC",
          "Valid files": 1
         },
         {
          "Date": "2019-09-29",
          "Expected files": 1,
          "Files received": 1,
          "Locatie": "FL65",
          "Origin": "standard",
          "Sensor": "ADC",
          "Valid files": 1
         },
         {
          "Date": "2019-09-30",
          "Expected files": 1,
          "Files received": 1,
          "Locatie": "FL65",
          "Origin": "standard",
          "Sensor": "ADC",
          "Valid files": 1
         },
         {
          "Date": "2019-10-01",
          "Expected files": 1,
          "Files received": 1,
          "Locatie": "FL65",
          "Origin": "standard",
          "Sensor": "ADC",
          "Valid files": 1
         },
         {
          "Date": "2019-10-02",
          "Expected files": 1,
          "Files received": 0,
          "Locatie": "FL65",
          "Origin": "standard",
          "Sensor": "ADC",
          "Valid files": 0
         },
         {
          "Date": "2019-10-03",
          "Expected files": 1,
          "Files received": 0,
          "Locatie": "FL65",
          "Origin": "standard",
          "Sensor": "ADC",
          "Valid files": 0
         },
         {
          "Date": "2019-10-04",
          "Expected files": 1,
          "Files received": 0,
          "Locatie": "FL65",
          "Origin": "standard",
          "Sensor": "ADC",
          "Valid files": 0
         },
         {
          "Date": "2019-10-05",
          "Expected files": 1,
          "Files received": 0,
          "Locatie": "FL65",
          "Origin": "standard",
          "Sensor": "ADC",
          "Valid files": 0
         },
         {
          "Date": "2019-10-06",
          "Expected files": 1,
          "Files received": 0,
          "Locatie": "FL65",
          "Origin": "standard",
          "Sensor": "ADC",
          "Valid files": 0
         },
         {
          "Date": "2019-10-07",
          "Expected files": 1,
          "Files received": 0,
          "Locatie": "FL65",
          "Origin": "standard",
          "Sensor": "ADC",
          "Valid files": 0
         },
         {
          "Date": "2019-10-08",
          "Expected files": 1,
          "Files received": 0,
          "Locatie": "FL65",
          "Origin": "standard",
          "Sensor": "ADC",
          "Valid files": 0
         },
         {
          "Date": "2019-09-09",
          "Expected files": 1,
          "Files received": 1,
          "Locatie": "FL66",
          "Origin": "standard",
          "Sensor": "ADC",
          "Valid files": 1
         },
         {
          "Date": "2019-09-10",
          "Expected files": 1,
          "Files received": 1,
          "Locatie": "FL66",
          "Origin": "standard",
          "Sensor": "ADC",
          "Valid files": 1
         },
         {
          "Date": "2019-09-11",
          "Expected files": 1,
          "Files received": 1,
          "Locatie": "FL66",
          "Origin": "standard",
          "Sensor": "ADC",
          "Valid files": 1
         },
         {
          "Date": "2019-09-12",
          "Expected files": 1,
          "Files received": 1,
          "Locatie": "FL66",
          "Origin": "standard",
          "Sensor": "ADC",
          "Valid files": 1
         },
         {
          "Date": "2019-09-13",
          "Expected files": 1,
          "Files received": 1,
          "Locatie": "FL66",
          "Origin": "standard",
          "Sensor": "ADC",
          "Valid files": 1
         },
         {
          "Date": "2019-09-14",
          "Expected files": 1,
          "Files received": 1,
          "Locatie": "FL66",
          "Origin": "standard",
          "Sensor": "ADC",
          "Valid files": 1
         },
         {
          "Date": "2019-09-15",
          "Expected files": 1,
          "Files received": 1,
          "Locatie": "FL66",
          "Origin": "standard",
          "Sensor": "ADC",
          "Valid files": 1
         },
         {
          "Date": "2019-09-16",
          "Expected files": 1,
          "Files received": 1,
          "Locatie": "FL66",
          "Origin": "standard",
          "Sensor": "ADC",
          "Valid files": 1
         },
         {
          "Date": "2019-09-17",
          "Expected files": 1,
          "Files received": 1,
          "Locatie": "FL66",
          "Origin": "standard",
          "Sensor": "ADC",
          "Valid files": 1
         },
         {
          "Date": "2019-09-18",
          "Expected files": 1,
          "Files received": 1,
          "Locatie": "FL66",
          "Origin": "standard",
          "Sensor": "ADC",
          "Valid files": 1
         },
         {
          "Date": "2019-09-19",
          "Expected files": 1,
          "Files received": 1,
          "Locatie": "FL66",
          "Origin": "standard",
          "Sensor": "ADC",
          "Valid files": 1
         },
         {
          "Date": "2019-09-20",
          "Expected files": 1,
          "Files received": 1,
          "Locatie": "FL66",
          "Origin": "standard",
          "Sensor": "ADC",
          "Valid files": 1
         },
         {
          "Date": "2019-09-21",
          "Expected files": 1,
          "Files received": 1,
          "Locatie": "FL66",
          "Origin": "standard",
          "Sensor": "ADC",
          "Valid files": 1
         },
         {
          "Date": "2019-09-22",
          "Expected files": 1,
          "Files received": 1,
          "Locatie": "FL66",
          "Origin": "standard",
          "Sensor": "ADC",
          "Valid files": 1
         },
         {
          "Date": "2019-09-23",
          "Expected files": 1,
          "Files received": 1,
          "Locatie": "FL66",
          "Origin": "standard",
          "Sensor": "ADC",
          "Valid files": 1
         },
         {
          "Date": "2019-09-24",
          "Expected files": 1,
          "Files received": 1,
          "Locatie": "FL66",
          "Origin": "standard",
          "Sensor": "ADC",
          "Valid files": 1
         },
         {
          "Date": "2019-09-25",
          "Expected files": 1,
          "Files received": 1,
          "Locatie": "FL66",
          "Origin": "standard",
          "Sensor": "ADC",
          "Valid files": 1
         },
         {
          "Date": "2019-09-26",
          "Expected files": 1,
          "Files received": 1,
          "Locatie": "FL66",
          "Origin": "standard",
          "Sensor": "ADC",
          "Valid files": 1
         },
         {
          "Date": "2019-09-27",
          "Expected files": 1,
          "Files received": 1,
          "Locatie": "FL66",
          "Origin": "standard",
          "Sensor": "ADC",
          "Valid files": 1
         },
         {
          "Date": "2019-09-28",
          "Expected files": 1,
          "Files received": 1,
          "Locatie": "FL66",
          "Origin": "standard",
          "Sensor": "ADC",
          "Valid files": 1
         },
         {
          "Date": "2019-09-29",
          "Expected files": 1,
          "Files received": 1,
          "Locatie": "FL66",
          "Origin": "standard",
          "Sensor": "ADC",
          "Valid files": 1
         },
         {
          "Date": "2019-09-30",
          "Expected files": 1,
          "Files received": 1,
          "Locatie": "FL66",
          "Origin": "standard",
          "Sensor": "ADC",
          "Valid files": 1
         },
         {
          "Date": "2019-10-01",
          "Expected files": 1,
          "Files received": 1,
          "Locatie": "FL66",
          "Origin": "standard",
          "Sensor": "ADC",
          "Valid files": 1
         },
         {
          "Date": "2019-10-02",
          "Expected files": 1,
          "Files received": 0,
          "Locatie": "FL66",
          "Origin": "standard",
          "Sensor": "ADC",
          "Valid files": 0
         },
         {
          "Date": "2019-10-03",
          "Expected files": 1,
          "Files received": 0,
          "Locatie": "FL66",
          "Origin": "standard",
          "Sensor": "ADC",
          "Valid files": 0
         },
         {
          "Date": "2019-10-04",
          "Expected files": 1,
          "Files received": 0,
          "Locatie": "FL66",
          "Origin": "standard",
          "Sensor": "ADC",
          "Valid files": 0
         },
         {
          "Date": "2019-10-05",
          "Expected files": 1,
          "Files received": 0,
          "Locatie": "FL66",
          "Origin": "standard",
          "Sensor": "ADC",
          "Valid files": 0
         },
         {
          "Date": "2019-10-06",
          "Expected files": 1,
          "Files received": 0,
          "Locatie": "FL66",
          "Origin": "standard",
          "Sensor": "ADC",
          "Valid files": 0
         },
         {
          "Date": "2019-10-07",
          "Expected files": 1,
          "Files received": 0,
          "Locatie": "FL66",
          "Origin": "standard",
          "Sensor": "ADC",
          "Valid files": 0
         },
         {
          "Date": "2019-10-08",
          "Expected files": 1,
          "Files received": 0,
          "Locatie": "FL66",
          "Origin": "standard",
          "Sensor": "ADC",
          "Valid files": 0
         },
         {
          "Date": "2019-09-09",
          "Expected files": 1,
          "Files received": 1,
          "Locatie": "FL67",
          "Origin": "standard",
          "Sensor": "ADC",
          "Valid files": 1
         },
         {
          "Date": "2019-09-10",
          "Expected files": 1,
          "Files received": 1,
          "Locatie": "FL67",
          "Origin": "standard",
          "Sensor": "ADC",
          "Valid files": 1
         },
         {
          "Date": "2019-09-11",
          "Expected files": 1,
          "Files received": 1,
          "Locatie": "FL67",
          "Origin": "standard",
          "Sensor": "ADC",
          "Valid files": 1
         },
         {
          "Date": "2019-09-12",
          "Expected files": 1,
          "Files received": 1,
          "Locatie": "FL67",
          "Origin": "standard",
          "Sensor": "ADC",
          "Valid files": 1
         },
         {
          "Date": "2019-09-13",
          "Expected files": 1,
          "Files received": 1,
          "Locatie": "FL67",
          "Origin": "standard",
          "Sensor": "ADC",
          "Valid files": 1
         },
         {
          "Date": "2019-09-14",
          "Expected files": 1,
          "Files received": 1,
          "Locatie": "FL67",
          "Origin": "standard",
          "Sensor": "ADC",
          "Valid files": 1
         },
         {
          "Date": "2019-09-15",
          "Expected files": 1,
          "Files received": 1,
          "Locatie": "FL67",
          "Origin": "standard",
          "Sensor": "ADC",
          "Valid files": 1
         },
         {
          "Date": "2019-09-16",
          "Expected files": 1,
          "Files received": 1,
          "Locatie": "FL67",
          "Origin": "standard",
          "Sensor": "ADC",
          "Valid files": 1
         },
         {
          "Date": "2019-09-17",
          "Expected files": 1,
          "Files received": 1,
          "Locatie": "FL67",
          "Origin": "standard",
          "Sensor": "ADC",
          "Valid files": 1
         },
         {
          "Date": "2019-09-18",
          "Expected files": 1,
          "Files received": 1,
          "Locatie": "FL67",
          "Origin": "standard",
          "Sensor": "ADC",
          "Valid files": 1
         },
         {
          "Date": "2019-09-19",
          "Expected files": 1,
          "Files received": 1,
          "Locatie": "FL67",
          "Origin": "standard",
          "Sensor": "ADC",
          "Valid files": 1
         },
         {
          "Date": "2019-09-20",
          "Expected files": 1,
          "Files received": 1,
          "Locatie": "FL67",
          "Origin": "standard",
          "Sensor": "ADC",
          "Valid files": 1
         },
         {
          "Date": "2019-09-21",
          "Expected files": 1,
          "Files received": 1,
          "Locatie": "FL67",
          "Origin": "standard",
          "Sensor": "ADC",
          "Valid files": 1
         },
         {
          "Date": "2019-09-22",
          "Expected files": 1,
          "Files received": 1,
          "Locatie": "FL67",
          "Origin": "standard",
          "Sensor": "ADC",
          "Valid files": 1
         },
         {
          "Date": "2019-09-23",
          "Expected files": 1,
          "Files received": 1,
          "Locatie": "FL67",
          "Origin": "standard",
          "Sensor": "ADC",
          "Valid files": 1
         },
         {
          "Date": "2019-09-24",
          "Expected files": 1,
          "Files received": 1,
          "Locatie": "FL67",
          "Origin": "standard",
          "Sensor": "ADC",
          "Valid files": 1
         },
         {
          "Date": "2019-09-25",
          "Expected files": 1,
          "Files received": 1,
          "Locatie": "FL67",
          "Origin": "standard",
          "Sensor": "ADC",
          "Valid files": 1
         },
         {
          "Date": "2019-09-26",
          "Expected files": 1,
          "Files received": 1,
          "Locatie": "FL67",
          "Origin": "standard",
          "Sensor": "ADC",
          "Valid files": 1
         },
         {
          "Date": "2019-09-27",
          "Expected files": 1,
          "Files received": 1,
          "Locatie": "FL67",
          "Origin": "standard",
          "Sensor": "ADC",
          "Valid files": 1
         },
         {
          "Date": "2019-09-28",
          "Expected files": 1,
          "Files received": 1,
          "Locatie": "FL67",
          "Origin": "standard",
          "Sensor": "ADC",
          "Valid files": 1
         },
         {
          "Date": "2019-09-29",
          "Expected files": 1,
          "Files received": 1,
          "Locatie": "FL67",
          "Origin": "standard",
          "Sensor": "ADC",
          "Valid files": 1
         },
         {
          "Date": "2019-09-30",
          "Expected files": 1,
          "Files received": 1,
          "Locatie": "FL67",
          "Origin": "standard",
          "Sensor": "ADC",
          "Valid files": 1
         },
         {
          "Date": "2019-10-01",
          "Expected files": 1,
          "Files received": 1,
          "Locatie": "FL67",
          "Origin": "standard",
          "Sensor": "ADC",
          "Valid files": 1
         },
         {
          "Date": "2019-10-02",
          "Expected files": 1,
          "Files received": 0,
          "Locatie": "FL67",
          "Origin": "standard",
          "Sensor": "ADC",
          "Valid files": 0
         },
         {
          "Date": "2019-10-03",
          "Expected files": 1,
          "Files received": 0,
          "Locatie": "FL67",
          "Origin": "standard",
          "Sensor": "ADC",
          "Valid files": 0
         },
         {
          "Date": "2019-10-04",
          "Expected files": 1,
          "Files received": 0,
          "Locatie": "FL67",
          "Origin": "standard",
          "Sensor": "ADC",
          "Valid files": 0
         },
         {
          "Date": "2019-10-05",
          "Expected files": 1,
          "Files received": 0,
          "Locatie": "FL67",
          "Origin": "standard",
          "Sensor": "ADC",
          "Valid files": 0
         },
         {
          "Date": "2019-10-06",
          "Expected files": 1,
          "Files received": 0,
          "Locatie": "FL67",
          "Origin": "standard",
          "Sensor": "ADC",
          "Valid files": 0
         },
         {
          "Date": "2019-10-07",
          "Expected files": 1,
          "Files received": 0,
          "Locatie": "FL67",
          "Origin": "standard",
          "Sensor": "ADC",
          "Valid files": 0
         },
         {
          "Date": "2019-10-08",
          "Expected files": 1,
          "Files received": 0,
          "Locatie": "FL67",
          "Origin": "standard",
          "Sensor": "ADC",
          "Valid files": 0
         },
         {
          "Date": "2019-09-09",
          "Expected files": 1,
          "Files received": 1,
          "Locatie": "FL68",
          "Origin": "standard",
          "Sensor": "ADC",
          "Valid files": 1
         },
         {
          "Date": "2019-09-10",
          "Expected files": 1,
          "Files received": 1,
          "Locatie": "FL68",
          "Origin": "standard",
          "Sensor": "ADC",
          "Valid files": 1
         },
         {
          "Date": "2019-09-11",
          "Expected files": 1,
          "Files received": 1,
          "Locatie": "FL68",
          "Origin": "standard",
          "Sensor": "ADC",
          "Valid files": 1
         },
         {
          "Date": "2019-09-12",
          "Expected files": 1,
          "Files received": 1,
          "Locatie": "FL68",
          "Origin": "standard",
          "Sensor": "ADC",
          "Valid files": 1
         },
         {
          "Date": "2019-09-13",
          "Expected files": 1,
          "Files received": 1,
          "Locatie": "FL68",
          "Origin": "standard",
          "Sensor": "ADC",
          "Valid files": 1
         },
         {
          "Date": "2019-09-14",
          "Expected files": 1,
          "Files received": 1,
          "Locatie": "FL68",
          "Origin": "standard",
          "Sensor": "ADC",
          "Valid files": 1
         },
         {
          "Date": "2019-09-15",
          "Expected files": 1,
          "Files received": 1,
          "Locatie": "FL68",
          "Origin": "standard",
          "Sensor": "ADC",
          "Valid files": 1
         },
         {
          "Date": "2019-09-16",
          "Expected files": 1,
          "Files received": 1,
          "Locatie": "FL68",
          "Origin": "standard",
          "Sensor": "ADC",
          "Valid files": 1
         },
         {
          "Date": "2019-09-17",
          "Expected files": 1,
          "Files received": 1,
          "Locatie": "FL68",
          "Origin": "standard",
          "Sensor": "ADC",
          "Valid files": 1
         },
         {
          "Date": "2019-09-18",
          "Expected files": 1,
          "Files received": 1,
          "Locatie": "FL68",
          "Origin": "standard",
          "Sensor": "ADC",
          "Valid files": 1
         },
         {
          "Date": "2019-09-19",
          "Expected files": 1,
          "Files received": 1,
          "Locatie": "FL68",
          "Origin": "standard",
          "Sensor": "ADC",
          "Valid files": 1
         },
         {
          "Date": "2019-09-20",
          "Expected files": 1,
          "Files received": 1,
          "Locatie": "FL68",
          "Origin": "standard",
          "Sensor": "ADC",
          "Valid files": 1
         },
         {
          "Date": "2019-09-21",
          "Expected files": 1,
          "Files received": 1,
          "Locatie": "FL68",
          "Origin": "standard",
          "Sensor": "ADC",
          "Valid files": 1
         },
         {
          "Date": "2019-09-22",
          "Expected files": 1,
          "Files received": 1,
          "Locatie": "FL68",
          "Origin": "standard",
          "Sensor": "ADC",
          "Valid files": 1
         },
         {
          "Date": "2019-09-23",
          "Expected files": 1,
          "Files received": 1,
          "Locatie": "FL68",
          "Origin": "standard",
          "Sensor": "ADC",
          "Valid files": 1
         },
         {
          "Date": "2019-09-24",
          "Expected files": 1,
          "Files received": 1,
          "Locatie": "FL68",
          "Origin": "standard",
          "Sensor": "ADC",
          "Valid files": 1
         },
         {
          "Date": "2019-09-25",
          "Expected files": 1,
          "Files received": 1,
          "Locatie": "FL68",
          "Origin": "standard",
          "Sensor": "ADC",
          "Valid files": 1
         },
         {
          "Date": "2019-09-26",
          "Expected files": 1,
          "Files received": 1,
          "Locatie": "FL68",
          "Origin": "standard",
          "Sensor": "ADC",
          "Valid files": 1
         },
         {
          "Date": "2019-09-27",
          "Expected files": 1,
          "Files received": 1,
          "Locatie": "FL68",
          "Origin": "standard",
          "Sensor": "ADC",
          "Valid files": 1
         },
         {
          "Date": "2019-09-28",
          "Expected files": 1,
          "Files received": 1,
          "Locatie": "FL68",
          "Origin": "standard",
          "Sensor": "ADC",
          "Valid files": 1
         },
         {
          "Date": "2019-09-29",
          "Expected files": 1,
          "Files received": 1,
          "Locatie": "FL68",
          "Origin": "standard",
          "Sensor": "ADC",
          "Valid files": 1
         },
         {
          "Date": "2019-09-30",
          "Expected files": 1,
          "Files received": 1,
          "Locatie": "FL68",
          "Origin": "standard",
          "Sensor": "ADC",
          "Valid files": 1
         },
         {
          "Date": "2019-10-01",
          "Expected files": 1,
          "Files received": 1,
          "Locatie": "FL68",
          "Origin": "standard",
          "Sensor": "ADC",
          "Valid files": 1
         },
         {
          "Date": "2019-10-02",
          "Expected files": 1,
          "Files received": 0,
          "Locatie": "FL68",
          "Origin": "standard",
          "Sensor": "ADC",
          "Valid files": 0
         },
         {
          "Date": "2019-10-03",
          "Expected files": 1,
          "Files received": 0,
          "Locatie": "FL68",
          "Origin": "standard",
          "Sensor": "ADC",
          "Valid files": 0
         },
         {
          "Date": "2019-10-04",
          "Expected files": 1,
          "Files received": 0,
          "Locatie": "FL68",
          "Origin": "standard",
          "Sensor": "ADC",
          "Valid files": 0
         },
         {
          "Date": "2019-10-05",
          "Expected files": 1,
          "Files received": 0,
          "Locatie": "FL68",
          "Origin": "standard",
          "Sensor": "ADC",
          "Valid files": 0
         },
         {
          "Date": "2019-10-06",
          "Expected files": 1,
          "Files received": 0,
          "Locatie": "FL68",
          "Origin": "standard",
          "Sensor": "ADC",
          "Valid files": 0
         },
         {
          "Date": "2019-10-07",
          "Expected files": 1,
          "Files received": 0,
          "Locatie": "FL68",
          "Origin": "standard",
          "Sensor": "ADC",
          "Valid files": 0
         },
         {
          "Date": "2019-10-08",
          "Expected files": 1,
          "Files received": 0,
          "Locatie": "FL68",
          "Origin": "standard",
          "Sensor": "ADC",
          "Valid files": 0
         },
         {
          "Date": "2019-09-09",
          "Expected files": 1,
          "Files received": 1,
          "Locatie": "FL69",
          "Origin": "standard",
          "Sensor": "ADC",
          "Valid files": 1
         },
         {
          "Date": "2019-09-10",
          "Expected files": 1,
          "Files received": 1,
          "Locatie": "FL69",
          "Origin": "standard",
          "Sensor": "ADC",
          "Valid files": 1
         },
         {
          "Date": "2019-09-11",
          "Expected files": 1,
          "Files received": 1,
          "Locatie": "FL69",
          "Origin": "standard",
          "Sensor": "ADC",
          "Valid files": 1
         },
         {
          "Date": "2019-09-12",
          "Expected files": 1,
          "Files received": 1,
          "Locatie": "FL69",
          "Origin": "standard",
          "Sensor": "ADC",
          "Valid files": 1
         },
         {
          "Date": "2019-09-13",
          "Expected files": 1,
          "Files received": 1,
          "Locatie": "FL69",
          "Origin": "standard",
          "Sensor": "ADC",
          "Valid files": 1
         },
         {
          "Date": "2019-09-14",
          "Expected files": 1,
          "Files received": 1,
          "Locatie": "FL69",
          "Origin": "standard",
          "Sensor": "ADC",
          "Valid files": 1
         },
         {
          "Date": "2019-09-15",
          "Expected files": 1,
          "Files received": 1,
          "Locatie": "FL69",
          "Origin": "standard",
          "Sensor": "ADC",
          "Valid files": 1
         },
         {
          "Date": "2019-09-16",
          "Expected files": 1,
          "Files received": 1,
          "Locatie": "FL69",
          "Origin": "standard",
          "Sensor": "ADC",
          "Valid files": 1
         },
         {
          "Date": "2019-09-17",
          "Expected files": 1,
          "Files received": 1,
          "Locatie": "FL69",
          "Origin": "standard",
          "Sensor": "ADC",
          "Valid files": 1
         },
         {
          "Date": "2019-09-18",
          "Expected files": 1,
          "Files received": 0,
          "Locatie": "FL69",
          "Origin": "standard",
          "Sensor": "ADC",
          "Valid files": 0
         },
         {
          "Date": "2019-09-19",
          "Expected files": 1,
          "Files received": 0,
          "Locatie": "FL69",
          "Origin": "standard",
          "Sensor": "ADC",
          "Valid files": 0
         },
         {
          "Date": "2019-09-20",
          "Expected files": 1,
          "Files received": 0,
          "Locatie": "FL69",
          "Origin": "standard",
          "Sensor": "ADC",
          "Valid files": 0
         },
         {
          "Date": "2019-09-21",
          "Expected files": 1,
          "Files received": 0,
          "Locatie": "FL69",
          "Origin": "standard",
          "Sensor": "ADC",
          "Valid files": 0
         },
         {
          "Date": "2019-09-22",
          "Expected files": 1,
          "Files received": 0,
          "Locatie": "FL69",
          "Origin": "standard",
          "Sensor": "ADC",
          "Valid files": 0
         },
         {
          "Date": "2019-09-23",
          "Expected files": 1,
          "Files received": 0,
          "Locatie": "FL69",
          "Origin": "standard",
          "Sensor": "ADC",
          "Valid files": 0
         },
         {
          "Date": "2019-09-24",
          "Expected files": 1,
          "Files received": 1,
          "Locatie": "FL69",
          "Origin": "standard",
          "Sensor": "ADC",
          "Valid files": 1
         },
         {
          "Date": "2019-09-25",
          "Expected files": 1,
          "Files received": 1,
          "Locatie": "FL69",
          "Origin": "standard",
          "Sensor": "ADC",
          "Valid files": 1
         },
         {
          "Date": "2019-09-26",
          "Expected files": 1,
          "Files received": 1,
          "Locatie": "FL69",
          "Origin": "standard",
          "Sensor": "ADC",
          "Valid files": 1
         },
         {
          "Date": "2019-09-27",
          "Expected files": 1,
          "Files received": 1,
          "Locatie": "FL69",
          "Origin": "standard",
          "Sensor": "ADC",
          "Valid files": 1
         },
         {
          "Date": "2019-09-28",
          "Expected files": 1,
          "Files received": 1,
          "Locatie": "FL69",
          "Origin": "standard",
          "Sensor": "ADC",
          "Valid files": 1
         },
         {
          "Date": "2019-09-29",
          "Expected files": 1,
          "Files received": 1,
          "Locatie": "FL69",
          "Origin": "standard",
          "Sensor": "ADC",
          "Valid files": 1
         },
         {
          "Date": "2019-09-30",
          "Expected files": 1,
          "Files received": 1,
          "Locatie": "FL69",
          "Origin": "standard",
          "Sensor": "ADC",
          "Valid files": 1
         },
         {
          "Date": "2019-10-01",
          "Expected files": 1,
          "Files received": 1,
          "Locatie": "FL69",
          "Origin": "standard",
          "Sensor": "ADC",
          "Valid files": 1
         },
         {
          "Date": "2019-10-02",
          "Expected files": 1,
          "Files received": 0,
          "Locatie": "FL69",
          "Origin": "standard",
          "Sensor": "ADC",
          "Valid files": 0
         },
         {
          "Date": "2019-10-03",
          "Expected files": 1,
          "Files received": 0,
          "Locatie": "FL69",
          "Origin": "standard",
          "Sensor": "ADC",
          "Valid files": 0
         },
         {
          "Date": "2019-10-04",
          "Expected files": 1,
          "Files received": 0,
          "Locatie": "FL69",
          "Origin": "standard",
          "Sensor": "ADC",
          "Valid files": 0
         },
         {
          "Date": "2019-10-05",
          "Expected files": 1,
          "Files received": 0,
          "Locatie": "FL69",
          "Origin": "standard",
          "Sensor": "ADC",
          "Valid files": 0
         },
         {
          "Date": "2019-10-06",
          "Expected files": 1,
          "Files received": 0,
          "Locatie": "FL69",
          "Origin": "standard",
          "Sensor": "ADC",
          "Valid files": 0
         },
         {
          "Date": "2019-10-07",
          "Expected files": 1,
          "Files received": 0,
          "Locatie": "FL69",
          "Origin": "standard",
          "Sensor": "ADC",
          "Valid files": 0
         },
         {
          "Date": "2019-10-08",
          "Expected files": 1,
          "Files received": 0,
          "Locatie": "FL69",
          "Origin": "standard",
          "Sensor": "ADC",
          "Valid files": 0
         },
         {
          "Date": "2019-09-09",
          "Expected files": 1,
          "Files received": 1,
          "Locatie": "FL70",
          "Origin": "standard",
          "Sensor": "ADC",
          "Valid files": 1
         },
         {
          "Date": "2019-09-10",
          "Expected files": 1,
          "Files received": 1,
          "Locatie": "FL70",
          "Origin": "standard",
          "Sensor": "ADC",
          "Valid files": 1
         },
         {
          "Date": "2019-09-11",
          "Expected files": 1,
          "Files received": 1,
          "Locatie": "FL70",
          "Origin": "standard",
          "Sensor": "ADC",
          "Valid files": 1
         },
         {
          "Date": "2019-09-12",
          "Expected files": 1,
          "Files received": 1,
          "Locatie": "FL70",
          "Origin": "standard",
          "Sensor": "ADC",
          "Valid files": 1
         },
         {
          "Date": "2019-09-13",
          "Expected files": 1,
          "Files received": 1,
          "Locatie": "FL70",
          "Origin": "standard",
          "Sensor": "ADC",
          "Valid files": 1
         },
         {
          "Date": "2019-09-14",
          "Expected files": 1,
          "Files received": 1,
          "Locatie": "FL70",
          "Origin": "standard",
          "Sensor": "ADC",
          "Valid files": 1
         },
         {
          "Date": "2019-09-15",
          "Expected files": 1,
          "Files received": 1,
          "Locatie": "FL70",
          "Origin": "standard",
          "Sensor": "ADC",
          "Valid files": 1
         },
         {
          "Date": "2019-09-16",
          "Expected files": 1,
          "Files received": 1,
          "Locatie": "FL70",
          "Origin": "standard",
          "Sensor": "ADC",
          "Valid files": 1
         },
         {
          "Date": "2019-09-17",
          "Expected files": 1,
          "Files received": 1,
          "Locatie": "FL70",
          "Origin": "standard",
          "Sensor": "ADC",
          "Valid files": 1
         },
         {
          "Date": "2019-09-18",
          "Expected files": 1,
          "Files received": 0,
          "Locatie": "FL70",
          "Origin": "standard",
          "Sensor": "ADC",
          "Valid files": 0
         },
         {
          "Date": "2019-09-19",
          "Expected files": 1,
          "Files received": 0,
          "Locatie": "FL70",
          "Origin": "standard",
          "Sensor": "ADC",
          "Valid files": 0
         },
         {
          "Date": "2019-09-20",
          "Expected files": 1,
          "Files received": 0,
          "Locatie": "FL70",
          "Origin": "standard",
          "Sensor": "ADC",
          "Valid files": 0
         },
         {
          "Date": "2019-09-21",
          "Expected files": 1,
          "Files received": 0,
          "Locatie": "FL70",
          "Origin": "standard",
          "Sensor": "ADC",
          "Valid files": 0
         },
         {
          "Date": "2019-09-22",
          "Expected files": 1,
          "Files received": 0,
          "Locatie": "FL70",
          "Origin": "standard",
          "Sensor": "ADC",
          "Valid files": 0
         },
         {
          "Date": "2019-09-23",
          "Expected files": 1,
          "Files received": 0,
          "Locatie": "FL70",
          "Origin": "standard",
          "Sensor": "ADC",
          "Valid files": 0
         },
         {
          "Date": "2019-09-24",
          "Expected files": 1,
          "Files received": 1,
          "Locatie": "FL70",
          "Origin": "standard",
          "Sensor": "ADC",
          "Valid files": 1
         },
         {
          "Date": "2019-09-25",
          "Expected files": 1,
          "Files received": 1,
          "Locatie": "FL70",
          "Origin": "standard",
          "Sensor": "ADC",
          "Valid files": 1
         },
         {
          "Date": "2019-09-26",
          "Expected files": 1,
          "Files received": 1,
          "Locatie": "FL70",
          "Origin": "standard",
          "Sensor": "ADC",
          "Valid files": 1
         },
         {
          "Date": "2019-09-27",
          "Expected files": 1,
          "Files received": 1,
          "Locatie": "FL70",
          "Origin": "standard",
          "Sensor": "ADC",
          "Valid files": 1
         },
         {
          "Date": "2019-09-28",
          "Expected files": 1,
          "Files received": 1,
          "Locatie": "FL70",
          "Origin": "standard",
          "Sensor": "ADC",
          "Valid files": 1
         },
         {
          "Date": "2019-09-29",
          "Expected files": 1,
          "Files received": 1,
          "Locatie": "FL70",
          "Origin": "standard",
          "Sensor": "ADC",
          "Valid files": 1
         },
         {
          "Date": "2019-09-30",
          "Expected files": 1,
          "Files received": 1,
          "Locatie": "FL70",
          "Origin": "standard",
          "Sensor": "ADC",
          "Valid files": 1
         },
         {
          "Date": "2019-10-01",
          "Expected files": 1,
          "Files received": 1,
          "Locatie": "FL70",
          "Origin": "standard",
          "Sensor": "ADC",
          "Valid files": 1
         },
         {
          "Date": "2019-10-02",
          "Expected files": 1,
          "Files received": 0,
          "Locatie": "FL70",
          "Origin": "standard",
          "Sensor": "ADC",
          "Valid files": 0
         },
         {
          "Date": "2019-10-03",
          "Expected files": 1,
          "Files received": 0,
          "Locatie": "FL70",
          "Origin": "standard",
          "Sensor": "ADC",
          "Valid files": 0
         },
         {
          "Date": "2019-10-04",
          "Expected files": 1,
          "Files received": 0,
          "Locatie": "FL70",
          "Origin": "standard",
          "Sensor": "ADC",
          "Valid files": 0
         },
         {
          "Date": "2019-10-05",
          "Expected files": 1,
          "Files received": 0,
          "Locatie": "FL70",
          "Origin": "standard",
          "Sensor": "ADC",
          "Valid files": 0
         },
         {
          "Date": "2019-10-06",
          "Expected files": 1,
          "Files received": 0,
          "Locatie": "FL70",
          "Origin": "standard",
          "Sensor": "ADC",
          "Valid files": 0
         },
         {
          "Date": "2019-10-07",
          "Expected files": 1,
          "Files received": 0,
          "Locatie": "FL70",
          "Origin": "standard",
          "Sensor": "ADC",
          "Valid files": 0
         },
         {
          "Date": "2019-10-08",
          "Expected files": 1,
          "Files received": 0,
          "Locatie": "FL70",
          "Origin": "standard",
          "Sensor": "ADC",
          "Valid files": 0
         },
         {
          "Date": "2019-09-09",
          "Expected files": 6,
          "Files received": 1,
          "Locatie": "FL65",
          "Origin": "ftp",
          "Sensor": "ADC",
          "Valid files": 1
         },
         {
          "Date": "2019-09-10",
          "Expected files": 6,
          "Files received": 1,
          "Locatie": "FL65",
          "Origin": "ftp",
          "Sensor": "ADC",
          "Valid files": 1
         },
         {
          "Date": "2019-09-11",
          "Expected files": 6,
          "Files received": 1,
          "Locatie": "FL65",
          "Origin": "ftp",
          "Sensor": "ADC",
          "Valid files": 1
         },
         {
          "Date": "2019-09-12",
          "Expected files": 6,
          "Files received": 1,
          "Locatie": "FL65",
          "Origin": "ftp",
          "Sensor": "ADC",
          "Valid files": 1
         },
         {
          "Date": "2019-09-13",
          "Expected files": 6,
          "Files received": 1,
          "Locatie": "FL65",
          "Origin": "ftp",
          "Sensor": "ADC",
          "Valid files": 1
         },
         {
          "Date": "2019-09-14",
          "Expected files": 6,
          "Files received": 1,
          "Locatie": "FL65",
          "Origin": "ftp",
          "Sensor": "ADC",
          "Valid files": 1
         },
         {
          "Date": "2019-09-15",
          "Expected files": 6,
          "Files received": 1,
          "Locatie": "FL65",
          "Origin": "ftp",
          "Sensor": "ADC",
          "Valid files": 1
         },
         {
          "Date": "2019-09-16",
          "Expected files": 6,
          "Files received": 1,
          "Locatie": "FL65",
          "Origin": "ftp",
          "Sensor": "ADC",
          "Valid files": 1
         },
         {
          "Date": "2019-09-17",
          "Expected files": 6,
          "Files received": 1,
          "Locatie": "FL65",
          "Origin": "ftp",
          "Sensor": "ADC",
          "Valid files": 1
         },
         {
          "Date": "2019-09-18",
          "Expected files": 6,
          "Files received": 1,
          "Locatie": "FL65",
          "Origin": "ftp",
          "Sensor": "ADC",
          "Valid files": 1
         },
         {
          "Date": "2019-09-19",
          "Expected files": 6,
          "Files received": 1,
          "Locatie": "FL65",
          "Origin": "ftp",
          "Sensor": "ADC",
          "Valid files": 1
         },
         {
          "Date": "2019-09-20",
          "Expected files": 6,
          "Files received": 1,
          "Locatie": "FL65",
          "Origin": "ftp",
          "Sensor": "ADC",
          "Valid files": 1
         },
         {
          "Date": "2019-09-21",
          "Expected files": 6,
          "Files received": 1,
          "Locatie": "FL65",
          "Origin": "ftp",
          "Sensor": "ADC",
          "Valid files": 1
         },
         {
          "Date": "2019-09-22",
          "Expected files": 6,
          "Files received": 1,
          "Locatie": "FL65",
          "Origin": "ftp",
          "Sensor": "ADC",
          "Valid files": 1
         },
         {
          "Date": "2019-09-23",
          "Expected files": 6,
          "Files received": 1,
          "Locatie": "FL65",
          "Origin": "ftp",
          "Sensor": "ADC",
          "Valid files": 1
         },
         {
          "Date": "2019-09-24",
          "Expected files": 6,
          "Files received": 1,
          "Locatie": "FL65",
          "Origin": "ftp",
          "Sensor": "ADC",
          "Valid files": 1
         },
         {
          "Date": "2019-09-25",
          "Expected files": 6,
          "Files received": 1,
          "Locatie": "FL65",
          "Origin": "ftp",
          "Sensor": "ADC",
          "Valid files": 1
         },
         {
          "Date": "2019-09-26",
          "Expected files": 6,
          "Files received": 1,
          "Locatie": "FL65",
          "Origin": "ftp",
          "Sensor": "ADC",
          "Valid files": 1
         },
         {
          "Date": "2019-09-27",
          "Expected files": 6,
          "Files received": 1,
          "Locatie": "FL65",
          "Origin": "ftp",
          "Sensor": "ADC",
          "Valid files": 1
         },
         {
          "Date": "2019-09-28",
          "Expected files": 6,
          "Files received": 1,
          "Locatie": "FL65",
          "Origin": "ftp",
          "Sensor": "ADC",
          "Valid files": 1
         },
         {
          "Date": "2019-09-29",
          "Expected files": 6,
          "Files received": 1,
          "Locatie": "FL65",
          "Origin": "ftp",
          "Sensor": "ADC",
          "Valid files": 1
         },
         {
          "Date": "2019-09-30",
          "Expected files": 6,
          "Files received": 1,
          "Locatie": "FL65",
          "Origin": "ftp",
          "Sensor": "ADC",
          "Valid files": 1
         },
         {
          "Date": "2019-10-01",
          "Expected files": 6,
          "Files received": 1,
          "Locatie": "FL65",
          "Origin": "ftp",
          "Sensor": "ADC",
          "Valid files": 1
         },
         {
          "Date": "2019-10-02",
          "Expected files": 6,
          "Files received": 1,
          "Locatie": "FL65",
          "Origin": "ftp",
          "Sensor": "ADC",
          "Valid files": 1
         },
         {
          "Date": "2019-10-03",
          "Expected files": 6,
          "Files received": 1,
          "Locatie": "FL65",
          "Origin": "ftp",
          "Sensor": "ADC",
          "Valid files": 1
         },
         {
          "Date": "2019-10-04",
          "Expected files": 6,
          "Files received": 1,
          "Locatie": "FL65",
          "Origin": "ftp",
          "Sensor": "ADC",
          "Valid files": 1
         },
         {
          "Date": "2019-10-05",
          "Expected files": 6,
          "Files received": 1,
          "Locatie": "FL65",
          "Origin": "ftp",
          "Sensor": "ADC",
          "Valid files": 1
         },
         {
          "Date": "2019-10-06",
          "Expected files": 6,
          "Files received": 1,
          "Locatie": "FL65",
          "Origin": "ftp",
          "Sensor": "ADC",
          "Valid files": 1
         },
         {
          "Date": "2019-10-07",
          "Expected files": 6,
          "Files received": 1,
          "Locatie": "FL65",
          "Origin": "ftp",
          "Sensor": "ADC",
          "Valid files": 1
         },
         {
          "Date": "2019-10-08",
          "Expected files": 6,
          "Files received": 1,
          "Locatie": "FL65",
          "Origin": "ftp",
          "Sensor": "ADC",
          "Valid files": 1
         },
         {
          "Date": "2019-09-09",
          "Expected files": 6,
          "Files received": 0.8333333333333334,
          "Locatie": "FL66",
          "Origin": "ftp",
          "Sensor": "ADC",
          "Valid files": 1
         },
         {
          "Date": "2019-09-10",
          "Expected files": 6,
          "Files received": 0.8333333333333334,
          "Locatie": "FL66",
          "Origin": "ftp",
          "Sensor": "ADC",
          "Valid files": 1
         },
         {
          "Date": "2019-09-11",
          "Expected files": 6,
          "Files received": 0.8333333333333334,
          "Locatie": "FL66",
          "Origin": "ftp",
          "Sensor": "ADC",
          "Valid files": 1
         },
         {
          "Date": "2019-09-12",
          "Expected files": 6,
          "Files received": 0.8333333333333334,
          "Locatie": "FL66",
          "Origin": "ftp",
          "Sensor": "ADC",
          "Valid files": 1
         },
         {
          "Date": "2019-09-13",
          "Expected files": 6,
          "Files received": 0.8333333333333334,
          "Locatie": "FL66",
          "Origin": "ftp",
          "Sensor": "ADC",
          "Valid files": 1
         },
         {
          "Date": "2019-09-14",
          "Expected files": 6,
          "Files received": 0.8333333333333334,
          "Locatie": "FL66",
          "Origin": "ftp",
          "Sensor": "ADC",
          "Valid files": 1
         },
         {
          "Date": "2019-09-15",
          "Expected files": 6,
          "Files received": 0.8333333333333334,
          "Locatie": "FL66",
          "Origin": "ftp",
          "Sensor": "ADC",
          "Valid files": 1
         },
         {
          "Date": "2019-09-16",
          "Expected files": 6,
          "Files received": 0.8333333333333334,
          "Locatie": "FL66",
          "Origin": "ftp",
          "Sensor": "ADC",
          "Valid files": 1
         },
         {
          "Date": "2019-09-17",
          "Expected files": 6,
          "Files received": 0.8333333333333334,
          "Locatie": "FL66",
          "Origin": "ftp",
          "Sensor": "ADC",
          "Valid files": 1
         },
         {
          "Date": "2019-09-18",
          "Expected files": 6,
          "Files received": 0.8333333333333334,
          "Locatie": "FL66",
          "Origin": "ftp",
          "Sensor": "ADC",
          "Valid files": 1
         },
         {
          "Date": "2019-09-19",
          "Expected files": 6,
          "Files received": 0.8333333333333334,
          "Locatie": "FL66",
          "Origin": "ftp",
          "Sensor": "ADC",
          "Valid files": 1
         },
         {
          "Date": "2019-09-20",
          "Expected files": 6,
          "Files received": 0.8333333333333334,
          "Locatie": "FL66",
          "Origin": "ftp",
          "Sensor": "ADC",
          "Valid files": 1
         },
         {
          "Date": "2019-09-21",
          "Expected files": 6,
          "Files received": 0.8333333333333334,
          "Locatie": "FL66",
          "Origin": "ftp",
          "Sensor": "ADC",
          "Valid files": 1
         },
         {
          "Date": "2019-09-22",
          "Expected files": 6,
          "Files received": 0.8333333333333334,
          "Locatie": "FL66",
          "Origin": "ftp",
          "Sensor": "ADC",
          "Valid files": 1
         },
         {
          "Date": "2019-09-23",
          "Expected files": 6,
          "Files received": 0.8333333333333334,
          "Locatie": "FL66",
          "Origin": "ftp",
          "Sensor": "ADC",
          "Valid files": 1
         },
         {
          "Date": "2019-09-24",
          "Expected files": 6,
          "Files received": 0.8333333333333334,
          "Locatie": "FL66",
          "Origin": "ftp",
          "Sensor": "ADC",
          "Valid files": 1
         },
         {
          "Date": "2019-09-25",
          "Expected files": 6,
          "Files received": 0.8333333333333334,
          "Locatie": "FL66",
          "Origin": "ftp",
          "Sensor": "ADC",
          "Valid files": 1
         },
         {
          "Date": "2019-09-26",
          "Expected files": 6,
          "Files received": 0.8333333333333334,
          "Locatie": "FL66",
          "Origin": "ftp",
          "Sensor": "ADC",
          "Valid files": 1
         },
         {
          "Date": "2019-09-27",
          "Expected files": 6,
          "Files received": 0.8333333333333334,
          "Locatie": "FL66",
          "Origin": "ftp",
          "Sensor": "ADC",
          "Valid files": 1
         },
         {
          "Date": "2019-09-28",
          "Expected files": 6,
          "Files received": 0.8333333333333334,
          "Locatie": "FL66",
          "Origin": "ftp",
          "Sensor": "ADC",
          "Valid files": 1
         },
         {
          "Date": "2019-09-29",
          "Expected files": 6,
          "Files received": 0.8333333333333334,
          "Locatie": "FL66",
          "Origin": "ftp",
          "Sensor": "ADC",
          "Valid files": 1
         },
         {
          "Date": "2019-09-30",
          "Expected files": 6,
          "Files received": 0.8333333333333334,
          "Locatie": "FL66",
          "Origin": "ftp",
          "Sensor": "ADC",
          "Valid files": 1
         },
         {
          "Date": "2019-10-01",
          "Expected files": 6,
          "Files received": 0.8333333333333334,
          "Locatie": "FL66",
          "Origin": "ftp",
          "Sensor": "ADC",
          "Valid files": 1
         },
         {
          "Date": "2019-10-02",
          "Expected files": 6,
          "Files received": 0.8333333333333334,
          "Locatie": "FL66",
          "Origin": "ftp",
          "Sensor": "ADC",
          "Valid files": 1
         },
         {
          "Date": "2019-10-03",
          "Expected files": 6,
          "Files received": 0.8333333333333334,
          "Locatie": "FL66",
          "Origin": "ftp",
          "Sensor": "ADC",
          "Valid files": 1
         },
         {
          "Date": "2019-10-04",
          "Expected files": 6,
          "Files received": 0.8333333333333334,
          "Locatie": "FL66",
          "Origin": "ftp",
          "Sensor": "ADC",
          "Valid files": 1
         },
         {
          "Date": "2019-10-05",
          "Expected files": 6,
          "Files received": 0.8333333333333334,
          "Locatie": "FL66",
          "Origin": "ftp",
          "Sensor": "ADC",
          "Valid files": 1
         },
         {
          "Date": "2019-10-06",
          "Expected files": 6,
          "Files received": 0.8333333333333334,
          "Locatie": "FL66",
          "Origin": "ftp",
          "Sensor": "ADC",
          "Valid files": 1
         },
         {
          "Date": "2019-10-07",
          "Expected files": 6,
          "Files received": 0.8333333333333334,
          "Locatie": "FL66",
          "Origin": "ftp",
          "Sensor": "ADC",
          "Valid files": 1
         },
         {
          "Date": "2019-10-08",
          "Expected files": 6,
          "Files received": 0.8333333333333334,
          "Locatie": "FL66",
          "Origin": "ftp",
          "Sensor": "ADC",
          "Valid files": 1
         },
         {
          "Date": "2019-09-09",
          "Expected files": 6,
          "Files received": 0.8333333333333334,
          "Locatie": "FL67",
          "Origin": "ftp",
          "Sensor": "ADC",
          "Valid files": 1
         },
         {
          "Date": "2019-09-10",
          "Expected files": 6,
          "Files received": 0.8333333333333334,
          "Locatie": "FL67",
          "Origin": "ftp",
          "Sensor": "ADC",
          "Valid files": 1
         },
         {
          "Date": "2019-09-11",
          "Expected files": 6,
          "Files received": 0.8333333333333334,
          "Locatie": "FL67",
          "Origin": "ftp",
          "Sensor": "ADC",
          "Valid files": 1
         },
         {
          "Date": "2019-09-12",
          "Expected files": 6,
          "Files received": 0.8333333333333334,
          "Locatie": "FL67",
          "Origin": "ftp",
          "Sensor": "ADC",
          "Valid files": 1
         },
         {
          "Date": "2019-09-13",
          "Expected files": 6,
          "Files received": 0.8333333333333334,
          "Locatie": "FL67",
          "Origin": "ftp",
          "Sensor": "ADC",
          "Valid files": 1
         },
         {
          "Date": "2019-09-14",
          "Expected files": 6,
          "Files received": 0.8333333333333334,
          "Locatie": "FL67",
          "Origin": "ftp",
          "Sensor": "ADC",
          "Valid files": 1
         },
         {
          "Date": "2019-09-15",
          "Expected files": 6,
          "Files received": 0.8333333333333334,
          "Locatie": "FL67",
          "Origin": "ftp",
          "Sensor": "ADC",
          "Valid files": 1
         },
         {
          "Date": "2019-09-16",
          "Expected files": 6,
          "Files received": 0.8333333333333334,
          "Locatie": "FL67",
          "Origin": "ftp",
          "Sensor": "ADC",
          "Valid files": 1
         },
         {
          "Date": "2019-09-17",
          "Expected files": 6,
          "Files received": 0.8333333333333334,
          "Locatie": "FL67",
          "Origin": "ftp",
          "Sensor": "ADC",
          "Valid files": 1
         },
         {
          "Date": "2019-09-18",
          "Expected files": 6,
          "Files received": 0.8333333333333334,
          "Locatie": "FL67",
          "Origin": "ftp",
          "Sensor": "ADC",
          "Valid files": 1
         },
         {
          "Date": "2019-09-19",
          "Expected files": 6,
          "Files received": 0.8333333333333334,
          "Locatie": "FL67",
          "Origin": "ftp",
          "Sensor": "ADC",
          "Valid files": 1
         },
         {
          "Date": "2019-09-20",
          "Expected files": 6,
          "Files received": 0.8333333333333334,
          "Locatie": "FL67",
          "Origin": "ftp",
          "Sensor": "ADC",
          "Valid files": 1
         },
         {
          "Date": "2019-09-21",
          "Expected files": 6,
          "Files received": 0.8333333333333334,
          "Locatie": "FL67",
          "Origin": "ftp",
          "Sensor": "ADC",
          "Valid files": 1
         },
         {
          "Date": "2019-09-22",
          "Expected files": 6,
          "Files received": 0.8333333333333334,
          "Locatie": "FL67",
          "Origin": "ftp",
          "Sensor": "ADC",
          "Valid files": 1
         },
         {
          "Date": "2019-09-23",
          "Expected files": 6,
          "Files received": 0.8333333333333334,
          "Locatie": "FL67",
          "Origin": "ftp",
          "Sensor": "ADC",
          "Valid files": 1
         },
         {
          "Date": "2019-09-24",
          "Expected files": 6,
          "Files received": 0.8333333333333334,
          "Locatie": "FL67",
          "Origin": "ftp",
          "Sensor": "ADC",
          "Valid files": 1
         },
         {
          "Date": "2019-09-25",
          "Expected files": 6,
          "Files received": 0.8333333333333334,
          "Locatie": "FL67",
          "Origin": "ftp",
          "Sensor": "ADC",
          "Valid files": 1
         },
         {
          "Date": "2019-09-26",
          "Expected files": 6,
          "Files received": 0.8333333333333334,
          "Locatie": "FL67",
          "Origin": "ftp",
          "Sensor": "ADC",
          "Valid files": 1
         },
         {
          "Date": "2019-09-27",
          "Expected files": 6,
          "Files received": 0.8333333333333334,
          "Locatie": "FL67",
          "Origin": "ftp",
          "Sensor": "ADC",
          "Valid files": 1
         },
         {
          "Date": "2019-09-28",
          "Expected files": 6,
          "Files received": 0.8333333333333334,
          "Locatie": "FL67",
          "Origin": "ftp",
          "Sensor": "ADC",
          "Valid files": 1
         },
         {
          "Date": "2019-09-29",
          "Expected files": 6,
          "Files received": 0.8333333333333334,
          "Locatie": "FL67",
          "Origin": "ftp",
          "Sensor": "ADC",
          "Valid files": 1
         },
         {
          "Date": "2019-09-30",
          "Expected files": 6,
          "Files received": 0.8333333333333334,
          "Locatie": "FL67",
          "Origin": "ftp",
          "Sensor": "ADC",
          "Valid files": 1
         },
         {
          "Date": "2019-10-01",
          "Expected files": 6,
          "Files received": 0.8333333333333334,
          "Locatie": "FL67",
          "Origin": "ftp",
          "Sensor": "ADC",
          "Valid files": 1
         },
         {
          "Date": "2019-10-02",
          "Expected files": 6,
          "Files received": 0.8333333333333334,
          "Locatie": "FL67",
          "Origin": "ftp",
          "Sensor": "ADC",
          "Valid files": 1
         },
         {
          "Date": "2019-10-03",
          "Expected files": 6,
          "Files received": 0.8333333333333334,
          "Locatie": "FL67",
          "Origin": "ftp",
          "Sensor": "ADC",
          "Valid files": 1
         },
         {
          "Date": "2019-10-04",
          "Expected files": 6,
          "Files received": 0.8333333333333334,
          "Locatie": "FL67",
          "Origin": "ftp",
          "Sensor": "ADC",
          "Valid files": 1
         },
         {
          "Date": "2019-10-05",
          "Expected files": 6,
          "Files received": 0.8333333333333334,
          "Locatie": "FL67",
          "Origin": "ftp",
          "Sensor": "ADC",
          "Valid files": 1
         },
         {
          "Date": "2019-10-06",
          "Expected files": 6,
          "Files received": 0.8333333333333334,
          "Locatie": "FL67",
          "Origin": "ftp",
          "Sensor": "ADC",
          "Valid files": 1
         },
         {
          "Date": "2019-10-07",
          "Expected files": 6,
          "Files received": 0.8333333333333334,
          "Locatie": "FL67",
          "Origin": "ftp",
          "Sensor": "ADC",
          "Valid files": 1
         },
         {
          "Date": "2019-10-08",
          "Expected files": 6,
          "Files received": 1,
          "Locatie": "FL67",
          "Origin": "ftp",
          "Sensor": "ADC",
          "Valid files": 1
         },
         {
          "Date": "2019-09-09",
          "Expected files": 6,
          "Files received": 1,
          "Locatie": "FL68",
          "Origin": "ftp",
          "Sensor": "ADC",
          "Valid files": 1
         },
         {
          "Date": "2019-09-10",
          "Expected files": 6,
          "Files received": 1,
          "Locatie": "FL68",
          "Origin": "ftp",
          "Sensor": "ADC",
          "Valid files": 1
         },
         {
          "Date": "2019-09-11",
          "Expected files": 6,
          "Files received": 1,
          "Locatie": "FL68",
          "Origin": "ftp",
          "Sensor": "ADC",
          "Valid files": 1
         },
         {
          "Date": "2019-09-12",
          "Expected files": 6,
          "Files received": 1,
          "Locatie": "FL68",
          "Origin": "ftp",
          "Sensor": "ADC",
          "Valid files": 1
         },
         {
          "Date": "2019-09-13",
          "Expected files": 6,
          "Files received": 1,
          "Locatie": "FL68",
          "Origin": "ftp",
          "Sensor": "ADC",
          "Valid files": 1
         },
         {
          "Date": "2019-09-14",
          "Expected files": 6,
          "Files received": 1,
          "Locatie": "FL68",
          "Origin": "ftp",
          "Sensor": "ADC",
          "Valid files": 1
         },
         {
          "Date": "2019-09-15",
          "Expected files": 6,
          "Files received": 1,
          "Locatie": "FL68",
          "Origin": "ftp",
          "Sensor": "ADC",
          "Valid files": 1
         },
         {
          "Date": "2019-09-16",
          "Expected files": 6,
          "Files received": 1,
          "Locatie": "FL68",
          "Origin": "ftp",
          "Sensor": "ADC",
          "Valid files": 1
         },
         {
          "Date": "2019-09-17",
          "Expected files": 6,
          "Files received": 1,
          "Locatie": "FL68",
          "Origin": "ftp",
          "Sensor": "ADC",
          "Valid files": 1
         },
         {
          "Date": "2019-09-18",
          "Expected files": 6,
          "Files received": 1,
          "Locatie": "FL68",
          "Origin": "ftp",
          "Sensor": "ADC",
          "Valid files": 1
         },
         {
          "Date": "2019-09-19",
          "Expected files": 6,
          "Files received": 1,
          "Locatie": "FL68",
          "Origin": "ftp",
          "Sensor": "ADC",
          "Valid files": 1
         },
         {
          "Date": "2019-09-20",
          "Expected files": 6,
          "Files received": 1,
          "Locatie": "FL68",
          "Origin": "ftp",
          "Sensor": "ADC",
          "Valid files": 1
         },
         {
          "Date": "2019-09-21",
          "Expected files": 6,
          "Files received": 1,
          "Locatie": "FL68",
          "Origin": "ftp",
          "Sensor": "ADC",
          "Valid files": 1
         },
         {
          "Date": "2019-09-22",
          "Expected files": 6,
          "Files received": 1,
          "Locatie": "FL68",
          "Origin": "ftp",
          "Sensor": "ADC",
          "Valid files": 1
         },
         {
          "Date": "2019-09-23",
          "Expected files": 6,
          "Files received": 1,
          "Locatie": "FL68",
          "Origin": "ftp",
          "Sensor": "ADC",
          "Valid files": 1
         },
         {
          "Date": "2019-09-24",
          "Expected files": 6,
          "Files received": 1,
          "Locatie": "FL68",
          "Origin": "ftp",
          "Sensor": "ADC",
          "Valid files": 1
         },
         {
          "Date": "2019-09-25",
          "Expected files": 6,
          "Files received": 1,
          "Locatie": "FL68",
          "Origin": "ftp",
          "Sensor": "ADC",
          "Valid files": 1
         },
         {
          "Date": "2019-09-26",
          "Expected files": 6,
          "Files received": 1,
          "Locatie": "FL68",
          "Origin": "ftp",
          "Sensor": "ADC",
          "Valid files": 1
         },
         {
          "Date": "2019-09-27",
          "Expected files": 6,
          "Files received": 1,
          "Locatie": "FL68",
          "Origin": "ftp",
          "Sensor": "ADC",
          "Valid files": 1
         },
         {
          "Date": "2019-09-28",
          "Expected files": 6,
          "Files received": 1,
          "Locatie": "FL68",
          "Origin": "ftp",
          "Sensor": "ADC",
          "Valid files": 1
         },
         {
          "Date": "2019-09-29",
          "Expected files": 6,
          "Files received": 1,
          "Locatie": "FL68",
          "Origin": "ftp",
          "Sensor": "ADC",
          "Valid files": 1
         },
         {
          "Date": "2019-09-30",
          "Expected files": 6,
          "Files received": 0.8333333333333334,
          "Locatie": "FL68",
          "Origin": "ftp",
          "Sensor": "ADC",
          "Valid files": 1
         },
         {
          "Date": "2019-10-01",
          "Expected files": 6,
          "Files received": 1,
          "Locatie": "FL68",
          "Origin": "ftp",
          "Sensor": "ADC",
          "Valid files": 1
         },
         {
          "Date": "2019-10-02",
          "Expected files": 6,
          "Files received": 1,
          "Locatie": "FL68",
          "Origin": "ftp",
          "Sensor": "ADC",
          "Valid files": 1
         },
         {
          "Date": "2019-10-03",
          "Expected files": 6,
          "Files received": 1,
          "Locatie": "FL68",
          "Origin": "ftp",
          "Sensor": "ADC",
          "Valid files": 1
         },
         {
          "Date": "2019-10-04",
          "Expected files": 6,
          "Files received": 1,
          "Locatie": "FL68",
          "Origin": "ftp",
          "Sensor": "ADC",
          "Valid files": 1
         },
         {
          "Date": "2019-10-05",
          "Expected files": 6,
          "Files received": 1,
          "Locatie": "FL68",
          "Origin": "ftp",
          "Sensor": "ADC",
          "Valid files": 1
         },
         {
          "Date": "2019-10-06",
          "Expected files": 6,
          "Files received": 1,
          "Locatie": "FL68",
          "Origin": "ftp",
          "Sensor": "ADC",
          "Valid files": 1
         },
         {
          "Date": "2019-10-07",
          "Expected files": 6,
          "Files received": 1,
          "Locatie": "FL68",
          "Origin": "ftp",
          "Sensor": "ADC",
          "Valid files": 1
         },
         {
          "Date": "2019-10-08",
          "Expected files": 6,
          "Files received": 1,
          "Locatie": "FL68",
          "Origin": "ftp",
          "Sensor": "ADC",
          "Valid files": 1
         },
         {
          "Date": "2019-09-09",
          "Expected files": 6,
          "Files received": 0.8333333333333334,
          "Locatie": "FL69",
          "Origin": "ftp",
          "Sensor": "ADC",
          "Valid files": 1
         },
         {
          "Date": "2019-09-10",
          "Expected files": 6,
          "Files received": 1,
          "Locatie": "FL69",
          "Origin": "ftp",
          "Sensor": "ADC",
          "Valid files": 1
         },
         {
          "Date": "2019-09-11",
          "Expected files": 6,
          "Files received": 1,
          "Locatie": "FL69",
          "Origin": "ftp",
          "Sensor": "ADC",
          "Valid files": 1
         },
         {
          "Date": "2019-09-12",
          "Expected files": 6,
          "Files received": 1,
          "Locatie": "FL69",
          "Origin": "ftp",
          "Sensor": "ADC",
          "Valid files": 1
         },
         {
          "Date": "2019-09-13",
          "Expected files": 6,
          "Files received": 1,
          "Locatie": "FL69",
          "Origin": "ftp",
          "Sensor": "ADC",
          "Valid files": 1
         },
         {
          "Date": "2019-09-14",
          "Expected files": 6,
          "Files received": 1,
          "Locatie": "FL69",
          "Origin": "ftp",
          "Sensor": "ADC",
          "Valid files": 1
         },
         {
          "Date": "2019-09-15",
          "Expected files": 6,
          "Files received": 1,
          "Locatie": "FL69",
          "Origin": "ftp",
          "Sensor": "ADC",
          "Valid files": 1
         },
         {
          "Date": "2019-09-16",
          "Expected files": 6,
          "Files received": 1,
          "Locatie": "FL69",
          "Origin": "ftp",
          "Sensor": "ADC",
          "Valid files": 1
         },
         {
          "Date": "2019-09-17",
          "Expected files": 6,
          "Files received": 1,
          "Locatie": "FL69",
          "Origin": "ftp",
          "Sensor": "ADC",
          "Valid files": 1
         },
         {
          "Date": "2019-09-18",
          "Expected files": 6,
          "Files received": 1,
          "Locatie": "FL69",
          "Origin": "ftp",
          "Sensor": "ADC",
          "Valid files": 1
         },
         {
          "Date": "2019-09-19",
          "Expected files": 6,
          "Files received": 1,
          "Locatie": "FL69",
          "Origin": "ftp",
          "Sensor": "ADC",
          "Valid files": 1
         },
         {
          "Date": "2019-09-20",
          "Expected files": 6,
          "Files received": 1,
          "Locatie": "FL69",
          "Origin": "ftp",
          "Sensor": "ADC",
          "Valid files": 1
         },
         {
          "Date": "2019-09-21",
          "Expected files": 6,
          "Files received": 1,
          "Locatie": "FL69",
          "Origin": "ftp",
          "Sensor": "ADC",
          "Valid files": 1
         },
         {
          "Date": "2019-09-22",
          "Expected files": 6,
          "Files received": 1,
          "Locatie": "FL69",
          "Origin": "ftp",
          "Sensor": "ADC",
          "Valid files": 1
         },
         {
          "Date": "2019-09-23",
          "Expected files": 6,
          "Files received": 1,
          "Locatie": "FL69",
          "Origin": "ftp",
          "Sensor": "ADC",
          "Valid files": 1
         },
         {
          "Date": "2019-09-24",
          "Expected files": 6,
          "Files received": 1,
          "Locatie": "FL69",
          "Origin": "ftp",
          "Sensor": "ADC",
          "Valid files": 1
         },
         {
          "Date": "2019-09-25",
          "Expected files": 6,
          "Files received": 1,
          "Locatie": "FL69",
          "Origin": "ftp",
          "Sensor": "ADC",
          "Valid files": 1
         },
         {
          "Date": "2019-09-26",
          "Expected files": 6,
          "Files received": 1,
          "Locatie": "FL69",
          "Origin": "ftp",
          "Sensor": "ADC",
          "Valid files": 1
         },
         {
          "Date": "2019-09-27",
          "Expected files": 6,
          "Files received": 1,
          "Locatie": "FL69",
          "Origin": "ftp",
          "Sensor": "ADC",
          "Valid files": 1
         },
         {
          "Date": "2019-09-28",
          "Expected files": 6,
          "Files received": 1,
          "Locatie": "FL69",
          "Origin": "ftp",
          "Sensor": "ADC",
          "Valid files": 1
         },
         {
          "Date": "2019-09-29",
          "Expected files": 6,
          "Files received": 1,
          "Locatie": "FL69",
          "Origin": "ftp",
          "Sensor": "ADC",
          "Valid files": 1
         },
         {
          "Date": "2019-09-30",
          "Expected files": 6,
          "Files received": 1,
          "Locatie": "FL69",
          "Origin": "ftp",
          "Sensor": "ADC",
          "Valid files": 1
         },
         {
          "Date": "2019-10-01",
          "Expected files": 6,
          "Files received": 1,
          "Locatie": "FL69",
          "Origin": "ftp",
          "Sensor": "ADC",
          "Valid files": 1
         },
         {
          "Date": "2019-10-02",
          "Expected files": 6,
          "Files received": 1,
          "Locatie": "FL69",
          "Origin": "ftp",
          "Sensor": "ADC",
          "Valid files": 1
         },
         {
          "Date": "2019-10-03",
          "Expected files": 6,
          "Files received": 1,
          "Locatie": "FL69",
          "Origin": "ftp",
          "Sensor": "ADC",
          "Valid files": 1
         },
         {
          "Date": "2019-10-04",
          "Expected files": 6,
          "Files received": 1,
          "Locatie": "FL69",
          "Origin": "ftp",
          "Sensor": "ADC",
          "Valid files": 1
         },
         {
          "Date": "2019-10-05",
          "Expected files": 6,
          "Files received": 1,
          "Locatie": "FL69",
          "Origin": "ftp",
          "Sensor": "ADC",
          "Valid files": 1
         },
         {
          "Date": "2019-10-06",
          "Expected files": 6,
          "Files received": 1,
          "Locatie": "FL69",
          "Origin": "ftp",
          "Sensor": "ADC",
          "Valid files": 1
         },
         {
          "Date": "2019-10-07",
          "Expected files": 6,
          "Files received": 1,
          "Locatie": "FL69",
          "Origin": "ftp",
          "Sensor": "ADC",
          "Valid files": 1
         },
         {
          "Date": "2019-10-08",
          "Expected files": 6,
          "Files received": 1,
          "Locatie": "FL69",
          "Origin": "ftp",
          "Sensor": "ADC",
          "Valid files": 1
         },
         {
          "Date": "2019-09-09",
          "Expected files": 6,
          "Files received": 1,
          "Locatie": "FL70",
          "Origin": "ftp",
          "Sensor": "ADC",
          "Valid files": 1
         },
         {
          "Date": "2019-09-10",
          "Expected files": 6,
          "Files received": 1,
          "Locatie": "FL70",
          "Origin": "ftp",
          "Sensor": "ADC",
          "Valid files": 1
         },
         {
          "Date": "2019-09-11",
          "Expected files": 6,
          "Files received": 1,
          "Locatie": "FL70",
          "Origin": "ftp",
          "Sensor": "ADC",
          "Valid files": 1
         },
         {
          "Date": "2019-09-12",
          "Expected files": 6,
          "Files received": 1,
          "Locatie": "FL70",
          "Origin": "ftp",
          "Sensor": "ADC",
          "Valid files": 1
         },
         {
          "Date": "2019-09-13",
          "Expected files": 6,
          "Files received": 1,
          "Locatie": "FL70",
          "Origin": "ftp",
          "Sensor": "ADC",
          "Valid files": 1
         },
         {
          "Date": "2019-09-14",
          "Expected files": 6,
          "Files received": 1,
          "Locatie": "FL70",
          "Origin": "ftp",
          "Sensor": "ADC",
          "Valid files": 1
         },
         {
          "Date": "2019-09-15",
          "Expected files": 6,
          "Files received": 1,
          "Locatie": "FL70",
          "Origin": "ftp",
          "Sensor": "ADC",
          "Valid files": 1
         },
         {
          "Date": "2019-09-16",
          "Expected files": 6,
          "Files received": 1,
          "Locatie": "FL70",
          "Origin": "ftp",
          "Sensor": "ADC",
          "Valid files": 1
         },
         {
          "Date": "2019-09-17",
          "Expected files": 6,
          "Files received": 1,
          "Locatie": "FL70",
          "Origin": "ftp",
          "Sensor": "ADC",
          "Valid files": 1
         },
         {
          "Date": "2019-09-18",
          "Expected files": 6,
          "Files received": 1,
          "Locatie": "FL70",
          "Origin": "ftp",
          "Sensor": "ADC",
          "Valid files": 1
         },
         {
          "Date": "2019-09-19",
          "Expected files": 6,
          "Files received": 1,
          "Locatie": "FL70",
          "Origin": "ftp",
          "Sensor": "ADC",
          "Valid files": 1
         },
         {
          "Date": "2019-09-20",
          "Expected files": 6,
          "Files received": 1,
          "Locatie": "FL70",
          "Origin": "ftp",
          "Sensor": "ADC",
          "Valid files": 1
         },
         {
          "Date": "2019-09-21",
          "Expected files": 6,
          "Files received": 1,
          "Locatie": "FL70",
          "Origin": "ftp",
          "Sensor": "ADC",
          "Valid files": 1
         },
         {
          "Date": "2019-09-22",
          "Expected files": 6,
          "Files received": 1,
          "Locatie": "FL70",
          "Origin": "ftp",
          "Sensor": "ADC",
          "Valid files": 1
         },
         {
          "Date": "2019-09-23",
          "Expected files": 6,
          "Files received": 1,
          "Locatie": "FL70",
          "Origin": "ftp",
          "Sensor": "ADC",
          "Valid files": 1
         },
         {
          "Date": "2019-09-24",
          "Expected files": 6,
          "Files received": 1,
          "Locatie": "FL70",
          "Origin": "ftp",
          "Sensor": "ADC",
          "Valid files": 1
         },
         {
          "Date": "2019-09-25",
          "Expected files": 6,
          "Files received": 1,
          "Locatie": "FL70",
          "Origin": "ftp",
          "Sensor": "ADC",
          "Valid files": 1
         },
         {
          "Date": "2019-09-26",
          "Expected files": 6,
          "Files received": 1,
          "Locatie": "FL70",
          "Origin": "ftp",
          "Sensor": "ADC",
          "Valid files": 1
         },
         {
          "Date": "2019-09-27",
          "Expected files": 6,
          "Files received": 1,
          "Locatie": "FL70",
          "Origin": "ftp",
          "Sensor": "ADC",
          "Valid files": 1
         },
         {
          "Date": "2019-09-28",
          "Expected files": 6,
          "Files received": 1,
          "Locatie": "FL70",
          "Origin": "ftp",
          "Sensor": "ADC",
          "Valid files": 1
         },
         {
          "Date": "2019-09-29",
          "Expected files": 6,
          "Files received": 1,
          "Locatie": "FL70",
          "Origin": "ftp",
          "Sensor": "ADC",
          "Valid files": 1
         },
         {
          "Date": "2019-09-30",
          "Expected files": 6,
          "Files received": 1,
          "Locatie": "FL70",
          "Origin": "ftp",
          "Sensor": "ADC",
          "Valid files": 1
         },
         {
          "Date": "2019-10-01",
          "Expected files": 6,
          "Files received": 1,
          "Locatie": "FL70",
          "Origin": "ftp",
          "Sensor": "ADC",
          "Valid files": 1
         },
         {
          "Date": "2019-10-02",
          "Expected files": 6,
          "Files received": 1,
          "Locatie": "FL70",
          "Origin": "ftp",
          "Sensor": "ADC",
          "Valid files": 1
         },
         {
          "Date": "2019-10-03",
          "Expected files": 6,
          "Files received": 1,
          "Locatie": "FL70",
          "Origin": "ftp",
          "Sensor": "ADC",
          "Valid files": 1
         },
         {
          "Date": "2019-10-04",
          "Expected files": 6,
          "Files received": 1,
          "Locatie": "FL70",
          "Origin": "ftp",
          "Sensor": "ADC",
          "Valid files": 1
         },
         {
          "Date": "2019-10-05",
          "Expected files": 6,
          "Files received": 1,
          "Locatie": "FL70",
          "Origin": "ftp",
          "Sensor": "ADC",
          "Valid files": 1
         },
         {
          "Date": "2019-10-06",
          "Expected files": 6,
          "Files received": 1,
          "Locatie": "FL70",
          "Origin": "ftp",
          "Sensor": "ADC",
          "Valid files": 1
         },
         {
          "Date": "2019-10-07",
          "Expected files": 6,
          "Files received": 1,
          "Locatie": "FL70",
          "Origin": "ftp",
          "Sensor": "ADC",
          "Valid files": 1
         },
         {
          "Date": "2019-10-08",
          "Expected files": 6,
          "Files received": 1,
          "Locatie": "FL70",
          "Origin": "ftp",
          "Sensor": "ADC",
          "Valid files": 1
         }
        ]
       },
       "encoding": {
        "facet": {
         "field": "Origin",
         "title": "ADC",
         "type": "nominal"
        },
        "fill": {
         "field": "Files received",
         "legend": {
          "format": ".0%",
          "title": "Health",
          "values": [
           0,
           0.5,
           1
          ]
         },
         "scale": {
          "domain": [
           0,
           0.85,
           1
          ],
          "range": [
           "red",
           "#FFDC00",
           "#2ECC40"
          ]
         },
         "type": "quantitative"
        },
        "stroke": {
         "condition": {
          "selection": "selector002",
          "value": "black"
         },
         "value": "white"
        },
        "tooltip": [
         {
          "field": "Locatie",
          "type": "nominal"
         },
         {
          "field": "Sensor",
          "type": "nominal"
         },
         {
          "field": "Expected files",
          "type": "quantitative"
         },
         {
          "field": "Date",
          "type": "nominal"
         },
         {
          "field": "Files received",
          "format": ".0%",
          "type": "quantitative"
         },
         {
          "field": "Valid files",
          "format": ".0%",
          "type": "quantitative"
         }
        ],
        "x": {
         "field": "Locatie",
         "title": null,
         "type": "nominal"
        },
        "y": {
         "field": "Date",
         "sort": "descending",
         "type": "nominal"
        }
       },
       "mark": "rect",
       "resolve": {
        "scale": {
         "x": "independent"
        }
       },
       "selection": {
        "selector002": {
         "empty": "none",
         "on": "mouseover",
         "type": "single"
        }
       }
      },
      "image/png": "[encoded data removed]",
      "text/plain": [
       "<VegaLite 3 object>\n",
       "\n",
       "If you see this message, it means the renderer has not been properly enabled\n",
       "for the frontend that you are using. For more information, see\n",
       "https://altair-viz.github.io/user_guide/troubleshooting.html\n"
      ]
     },
     "metadata": {},
     "output_type": "display_data"
    },
    {
     "data": {
      "application/vnd.vegalite.v3+json": {
       "$schema": "https://vega.github.io/schema/vega-lite/v3.4.0.json",
       "config": {
        "axisX": {
         "labelAngle": -45
        },
        "axisY": {
         "titleAlign": "left",
         "titleAngle": 0,
         "titleX": -50,
         "titleY": -3
        },
        "header": {
         "titleAnchor": "start",
         "titleFontSize": 16
        },
        "mark": {
         "tooltip": null
        },
        "scale": {
         "bandPaddingInner": 0.05,
         "bandPaddingOuter": 0.05
        },
        "view": {
         "height": 300,
         "width": 400
        }
       },
       "data": {
        "name": "data-3fb9684402fc9a97890e252dcac482a4"
       },
       "datasets": {
        "data-3fb9684402fc9a97890e252dcac482a4": [
         {
          "Date": "2019-09-09",
          "Expected files": 1,
          "Files received": 0,
          "Locatie": "FL67_A",
          "Origin": "standard",
          "Sensor": "ALT",
          "Valid files": 0
         },
         {
          "Date": "2019-09-10",
          "Expected files": 1,
          "Files received": 0,
          "Locatie": "FL67_A",
          "Origin": "standard",
          "Sensor": "ALT",
          "Valid files": 0
         },
         {
          "Date": "2019-09-11",
          "Expected files": 1,
          "Files received": 0,
          "Locatie": "FL67_A",
          "Origin": "standard",
          "Sensor": "ALT",
          "Valid files": 0
         },
         {
          "Date": "2019-09-12",
          "Expected files": 1,
          "Files received": 0,
          "Locatie": "FL67_A",
          "Origin": "standard",
          "Sensor": "ALT",
          "Valid files": 0
         },
         {
          "Date": "2019-09-13",
          "Expected files": 1,
          "Files received": 0,
          "Locatie": "FL67_A",
          "Origin": "standard",
          "Sensor": "ALT",
          "Valid files": 0
         },
         {
          "Date": "2019-09-14",
          "Expected files": 1,
          "Files received": 0,
          "Locatie": "FL67_A",
          "Origin": "standard",
          "Sensor": "ALT",
          "Valid files": 0
         },
         {
          "Date": "2019-09-15",
          "Expected files": 1,
          "Files received": 0,
          "Locatie": "FL67_A",
          "Origin": "standard",
          "Sensor": "ALT",
          "Valid files": 0
         },
         {
          "Date": "2019-09-16",
          "Expected files": 1,
          "Files received": 0,
          "Locatie": "FL67_A",
          "Origin": "standard",
          "Sensor": "ALT",
          "Valid files": 0
         },
         {
          "Date": "2019-09-17",
          "Expected files": 1,
          "Files received": 0,
          "Locatie": "FL67_A",
          "Origin": "standard",
          "Sensor": "ALT",
          "Valid files": 0
         },
         {
          "Date": "2019-09-18",
          "Expected files": 1,
          "Files received": 0,
          "Locatie": "FL67_A",
          "Origin": "standard",
          "Sensor": "ALT",
          "Valid files": 0
         },
         {
          "Date": "2019-09-19",
          "Expected files": 1,
          "Files received": 0,
          "Locatie": "FL67_A",
          "Origin": "standard",
          "Sensor": "ALT",
          "Valid files": 0
         },
         {
          "Date": "2019-09-20",
          "Expected files": 1,
          "Files received": 0,
          "Locatie": "FL67_A",
          "Origin": "standard",
          "Sensor": "ALT",
          "Valid files": 0
         },
         {
          "Date": "2019-09-21",
          "Expected files": 1,
          "Files received": 0,
          "Locatie": "FL67_A",
          "Origin": "standard",
          "Sensor": "ALT",
          "Valid files": 0
         },
         {
          "Date": "2019-09-22",
          "Expected files": 1,
          "Files received": 0,
          "Locatie": "FL67_A",
          "Origin": "standard",
          "Sensor": "ALT",
          "Valid files": 0
         },
         {
          "Date": "2019-09-23",
          "Expected files": 1,
          "Files received": 0,
          "Locatie": "FL67_A",
          "Origin": "standard",
          "Sensor": "ALT",
          "Valid files": 0
         },
         {
          "Date": "2019-09-24",
          "Expected files": 1,
          "Files received": 0,
          "Locatie": "FL67_A",
          "Origin": "standard",
          "Sensor": "ALT",
          "Valid files": 0
         },
         {
          "Date": "2019-09-25",
          "Expected files": 1,
          "Files received": 0,
          "Locatie": "FL67_A",
          "Origin": "standard",
          "Sensor": "ALT",
          "Valid files": 0
         },
         {
          "Date": "2019-09-26",
          "Expected files": 1,
          "Files received": 0,
          "Locatie": "FL67_A",
          "Origin": "standard",
          "Sensor": "ALT",
          "Valid files": 0
         },
         {
          "Date": "2019-09-27",
          "Expected files": 1,
          "Files received": 0,
          "Locatie": "FL67_A",
          "Origin": "standard",
          "Sensor": "ALT",
          "Valid files": 0
         },
         {
          "Date": "2019-09-28",
          "Expected files": 1,
          "Files received": 0,
          "Locatie": "FL67_A",
          "Origin": "standard",
          "Sensor": "ALT",
          "Valid files": 0
         },
         {
          "Date": "2019-09-29",
          "Expected files": 1,
          "Files received": 0,
          "Locatie": "FL67_A",
          "Origin": "standard",
          "Sensor": "ALT",
          "Valid files": 0
         },
         {
          "Date": "2019-09-30",
          "Expected files": 1,
          "Files received": 0,
          "Locatie": "FL67_A",
          "Origin": "standard",
          "Sensor": "ALT",
          "Valid files": 0
         },
         {
          "Date": "2019-10-01",
          "Expected files": 1,
          "Files received": 0,
          "Locatie": "FL67_A",
          "Origin": "standard",
          "Sensor": "ALT",
          "Valid files": 0
         },
         {
          "Date": "2019-10-02",
          "Expected files": 1,
          "Files received": 0,
          "Locatie": "FL67_A",
          "Origin": "standard",
          "Sensor": "ALT",
          "Valid files": 0
         },
         {
          "Date": "2019-10-03",
          "Expected files": 1,
          "Files received": 0,
          "Locatie": "FL67_A",
          "Origin": "standard",
          "Sensor": "ALT",
          "Valid files": 0
         },
         {
          "Date": "2019-10-04",
          "Expected files": 1,
          "Files received": 0,
          "Locatie": "FL67_A",
          "Origin": "standard",
          "Sensor": "ALT",
          "Valid files": 0
         },
         {
          "Date": "2019-10-05",
          "Expected files": 1,
          "Files received": 0,
          "Locatie": "FL67_A",
          "Origin": "standard",
          "Sensor": "ALT",
          "Valid files": 0
         },
         {
          "Date": "2019-10-06",
          "Expected files": 1,
          "Files received": 0,
          "Locatie": "FL67_A",
          "Origin": "standard",
          "Sensor": "ALT",
          "Valid files": 0
         },
         {
          "Date": "2019-10-07",
          "Expected files": 1,
          "Files received": 0,
          "Locatie": "FL67_A",
          "Origin": "standard",
          "Sensor": "ALT",
          "Valid files": 0
         },
         {
          "Date": "2019-10-08",
          "Expected files": 1,
          "Files received": 0,
          "Locatie": "FL67_A",
          "Origin": "standard",
          "Sensor": "ALT",
          "Valid files": 0
         },
         {
          "Date": "2019-09-09",
          "Expected files": 1,
          "Files received": 0,
          "Locatie": "FL67_B",
          "Origin": "standard",
          "Sensor": "ALT",
          "Valid files": 0
         },
         {
          "Date": "2019-09-10",
          "Expected files": 1,
          "Files received": 0,
          "Locatie": "FL67_B",
          "Origin": "standard",
          "Sensor": "ALT",
          "Valid files": 0
         },
         {
          "Date": "2019-09-11",
          "Expected files": 1,
          "Files received": 0,
          "Locatie": "FL67_B",
          "Origin": "standard",
          "Sensor": "ALT",
          "Valid files": 0
         },
         {
          "Date": "2019-09-12",
          "Expected files": 1,
          "Files received": 0,
          "Locatie": "FL67_B",
          "Origin": "standard",
          "Sensor": "ALT",
          "Valid files": 0
         },
         {
          "Date": "2019-09-13",
          "Expected files": 1,
          "Files received": 0,
          "Locatie": "FL67_B",
          "Origin": "standard",
          "Sensor": "ALT",
          "Valid files": 0
         },
         {
          "Date": "2019-09-14",
          "Expected files": 1,
          "Files received": 0,
          "Locatie": "FL67_B",
          "Origin": "standard",
          "Sensor": "ALT",
          "Valid files": 0
         },
         {
          "Date": "2019-09-15",
          "Expected files": 1,
          "Files received": 0,
          "Locatie": "FL67_B",
          "Origin": "standard",
          "Sensor": "ALT",
          "Valid files": 0
         },
         {
          "Date": "2019-09-16",
          "Expected files": 1,
          "Files received": 0,
          "Locatie": "FL67_B",
          "Origin": "standard",
          "Sensor": "ALT",
          "Valid files": 0
         },
         {
          "Date": "2019-09-17",
          "Expected files": 1,
          "Files received": 0,
          "Locatie": "FL67_B",
          "Origin": "standard",
          "Sensor": "ALT",
          "Valid files": 0
         },
         {
          "Date": "2019-09-18",
          "Expected files": 1,
          "Files received": 0,
          "Locatie": "FL67_B",
          "Origin": "standard",
          "Sensor": "ALT",
          "Valid files": 0
         },
         {
          "Date": "2019-09-19",
          "Expected files": 1,
          "Files received": 0,
          "Locatie": "FL67_B",
          "Origin": "standard",
          "Sensor": "ALT",
          "Valid files": 0
         },
         {
          "Date": "2019-09-20",
          "Expected files": 1,
          "Files received": 0,
          "Locatie": "FL67_B",
          "Origin": "standard",
          "Sensor": "ALT",
          "Valid files": 0
         },
         {
          "Date": "2019-09-21",
          "Expected files": 1,
          "Files received": 0,
          "Locatie": "FL67_B",
          "Origin": "standard",
          "Sensor": "ALT",
          "Valid files": 0
         },
         {
          "Date": "2019-09-22",
          "Expected files": 1,
          "Files received": 0,
          "Locatie": "FL67_B",
          "Origin": "standard",
          "Sensor": "ALT",
          "Valid files": 0
         },
         {
          "Date": "2019-09-23",
          "Expected files": 1,
          "Files received": 0,
          "Locatie": "FL67_B",
          "Origin": "standard",
          "Sensor": "ALT",
          "Valid files": 0
         },
         {
          "Date": "2019-09-24",
          "Expected files": 1,
          "Files received": 0,
          "Locatie": "FL67_B",
          "Origin": "standard",
          "Sensor": "ALT",
          "Valid files": 0
         },
         {
          "Date": "2019-09-25",
          "Expected files": 1,
          "Files received": 0,
          "Locatie": "FL67_B",
          "Origin": "standard",
          "Sensor": "ALT",
          "Valid files": 0
         },
         {
          "Date": "2019-09-26",
          "Expected files": 1,
          "Files received": 0,
          "Locatie": "FL67_B",
          "Origin": "standard",
          "Sensor": "ALT",
          "Valid files": 0
         },
         {
          "Date": "2019-09-27",
          "Expected files": 1,
          "Files received": 0,
          "Locatie": "FL67_B",
          "Origin": "standard",
          "Sensor": "ALT",
          "Valid files": 0
         },
         {
          "Date": "2019-09-28",
          "Expected files": 1,
          "Files received": 0,
          "Locatie": "FL67_B",
          "Origin": "standard",
          "Sensor": "ALT",
          "Valid files": 0
         },
         {
          "Date": "2019-09-29",
          "Expected files": 1,
          "Files received": 0,
          "Locatie": "FL67_B",
          "Origin": "standard",
          "Sensor": "ALT",
          "Valid files": 0
         },
         {
          "Date": "2019-09-30",
          "Expected files": 1,
          "Files received": 1,
          "Locatie": "FL67_B",
          "Origin": "standard",
          "Sensor": "ALT",
          "Valid files": 1
         },
         {
          "Date": "2019-10-01",
          "Expected files": 1,
          "Files received": 0,
          "Locatie": "FL67_B",
          "Origin": "standard",
          "Sensor": "ALT",
          "Valid files": 0
         },
         {
          "Date": "2019-10-02",
          "Expected files": 1,
          "Files received": 0,
          "Locatie": "FL67_B",
          "Origin": "standard",
          "Sensor": "ALT",
          "Valid files": 0
         },
         {
          "Date": "2019-10-03",
          "Expected files": 1,
          "Files received": 0,
          "Locatie": "FL67_B",
          "Origin": "standard",
          "Sensor": "ALT",
          "Valid files": 0
         },
         {
          "Date": "2019-10-04",
          "Expected files": 1,
          "Files received": 0,
          "Locatie": "FL67_B",
          "Origin": "standard",
          "Sensor": "ALT",
          "Valid files": 0
         },
         {
          "Date": "2019-10-05",
          "Expected files": 1,
          "Files received": 0,
          "Locatie": "FL67_B",
          "Origin": "standard",
          "Sensor": "ALT",
          "Valid files": 0
         },
         {
          "Date": "2019-10-06",
          "Expected files": 1,
          "Files received": 0,
          "Locatie": "FL67_B",
          "Origin": "standard",
          "Sensor": "ALT",
          "Valid files": 0
         },
         {
          "Date": "2019-10-07",
          "Expected files": 1,
          "Files received": 0,
          "Locatie": "FL67_B",
          "Origin": "standard",
          "Sensor": "ALT",
          "Valid files": 0
         },
         {
          "Date": "2019-10-08",
          "Expected files": 1,
          "Files received": 0,
          "Locatie": "FL67_B",
          "Origin": "standard",
          "Sensor": "ALT",
          "Valid files": 0
         },
         {
          "Date": "2019-09-09",
          "Expected files": 1,
          "Files received": 0,
          "Locatie": "FL67_C",
          "Origin": "standard",
          "Sensor": "ALT",
          "Valid files": 0
         },
         {
          "Date": "2019-09-10",
          "Expected files": 1,
          "Files received": 0,
          "Locatie": "FL67_C",
          "Origin": "standard",
          "Sensor": "ALT",
          "Valid files": 0
         },
         {
          "Date": "2019-09-11",
          "Expected files": 1,
          "Files received": 0,
          "Locatie": "FL67_C",
          "Origin": "standard",
          "Sensor": "ALT",
          "Valid files": 0
         },
         {
          "Date": "2019-09-12",
          "Expected files": 1,
          "Files received": 0,
          "Locatie": "FL67_C",
          "Origin": "standard",
          "Sensor": "ALT",
          "Valid files": 0
         },
         {
          "Date": "2019-09-13",
          "Expected files": 1,
          "Files received": 0,
          "Locatie": "FL67_C",
          "Origin": "standard",
          "Sensor": "ALT",
          "Valid files": 0
         },
         {
          "Date": "2019-09-14",
          "Expected files": 1,
          "Files received": 0,
          "Locatie": "FL67_C",
          "Origin": "standard",
          "Sensor": "ALT",
          "Valid files": 0
         },
         {
          "Date": "2019-09-15",
          "Expected files": 1,
          "Files received": 0,
          "Locatie": "FL67_C",
          "Origin": "standard",
          "Sensor": "ALT",
          "Valid files": 0
         },
         {
          "Date": "2019-09-16",
          "Expected files": 1,
          "Files received": 0,
          "Locatie": "FL67_C",
          "Origin": "standard",
          "Sensor": "ALT",
          "Valid files": 0
         },
         {
          "Date": "2019-09-17",
          "Expected files": 1,
          "Files received": 0,
          "Locatie": "FL67_C",
          "Origin": "standard",
          "Sensor": "ALT",
          "Valid files": 0
         },
         {
          "Date": "2019-09-18",
          "Expected files": 1,
          "Files received": 0,
          "Locatie": "FL67_C",
          "Origin": "standard",
          "Sensor": "ALT",
          "Valid files": 0
         },
         {
          "Date": "2019-09-19",
          "Expected files": 1,
          "Files received": 0,
          "Locatie": "FL67_C",
          "Origin": "standard",
          "Sensor": "ALT",
          "Valid files": 0
         },
         {
          "Date": "2019-09-20",
          "Expected files": 1,
          "Files received": 0,
          "Locatie": "FL67_C",
          "Origin": "standard",
          "Sensor": "ALT",
          "Valid files": 0
         },
         {
          "Date": "2019-09-21",
          "Expected files": 1,
          "Files received": 0,
          "Locatie": "FL67_C",
          "Origin": "standard",
          "Sensor": "ALT",
          "Valid files": 0
         },
         {
          "Date": "2019-09-22",
          "Expected files": 1,
          "Files received": 0,
          "Locatie": "FL67_C",
          "Origin": "standard",
          "Sensor": "ALT",
          "Valid files": 0
         },
         {
          "Date": "2019-09-23",
          "Expected files": 1,
          "Files received": 0,
          "Locatie": "FL67_C",
          "Origin": "standard",
          "Sensor": "ALT",
          "Valid files": 0
         },
         {
          "Date": "2019-09-24",
          "Expected files": 1,
          "Files received": 0,
          "Locatie": "FL67_C",
          "Origin": "standard",
          "Sensor": "ALT",
          "Valid files": 0
         },
         {
          "Date": "2019-09-25",
          "Expected files": 1,
          "Files received": 0,
          "Locatie": "FL67_C",
          "Origin": "standard",
          "Sensor": "ALT",
          "Valid files": 0
         },
         {
          "Date": "2019-09-26",
          "Expected files": 1,
          "Files received": 0,
          "Locatie": "FL67_C",
          "Origin": "standard",
          "Sensor": "ALT",
          "Valid files": 0
         },
         {
          "Date": "2019-09-27",
          "Expected files": 1,
          "Files received": 0,
          "Locatie": "FL67_C",
          "Origin": "standard",
          "Sensor": "ALT",
          "Valid files": 0
         },
         {
          "Date": "2019-09-28",
          "Expected files": 1,
          "Files received": 0,
          "Locatie": "FL67_C",
          "Origin": "standard",
          "Sensor": "ALT",
          "Valid files": 0
         },
         {
          "Date": "2019-09-29",
          "Expected files": 1,
          "Files received": 0,
          "Locatie": "FL67_C",
          "Origin": "standard",
          "Sensor": "ALT",
          "Valid files": 0
         },
         {
          "Date": "2019-09-30",
          "Expected files": 1,
          "Files received": 0,
          "Locatie": "FL67_C",
          "Origin": "standard",
          "Sensor": "ALT",
          "Valid files": 0
         },
         {
          "Date": "2019-10-01",
          "Expected files": 1,
          "Files received": 0,
          "Locatie": "FL67_C",
          "Origin": "standard",
          "Sensor": "ALT",
          "Valid files": 0
         },
         {
          "Date": "2019-10-02",
          "Expected files": 1,
          "Files received": 0,
          "Locatie": "FL67_C",
          "Origin": "standard",
          "Sensor": "ALT",
          "Valid files": 0
         },
         {
          "Date": "2019-10-03",
          "Expected files": 1,
          "Files received": 0,
          "Locatie": "FL67_C",
          "Origin": "standard",
          "Sensor": "ALT",
          "Valid files": 0
         },
         {
          "Date": "2019-10-04",
          "Expected files": 1,
          "Files received": 0,
          "Locatie": "FL67_C",
          "Origin": "standard",
          "Sensor": "ALT",
          "Valid files": 0
         },
         {
          "Date": "2019-10-05",
          "Expected files": 1,
          "Files received": 0,
          "Locatie": "FL67_C",
          "Origin": "standard",
          "Sensor": "ALT",
          "Valid files": 0
         },
         {
          "Date": "2019-10-06",
          "Expected files": 1,
          "Files received": 0,
          "Locatie": "FL67_C",
          "Origin": "standard",
          "Sensor": "ALT",
          "Valid files": 0
         },
         {
          "Date": "2019-10-07",
          "Expected files": 1,
          "Files received": 0,
          "Locatie": "FL67_C",
          "Origin": "standard",
          "Sensor": "ALT",
          "Valid files": 0
         },
         {
          "Date": "2019-10-08",
          "Expected files": 1,
          "Files received": 0,
          "Locatie": "FL67_C",
          "Origin": "standard",
          "Sensor": "ALT",
          "Valid files": 0
         },
         {
          "Date": "2019-09-09",
          "Expected files": 1,
          "Files received": 0,
          "Locatie": "FL70_A",
          "Origin": "standard",
          "Sensor": "ALT",
          "Valid files": 0
         },
         {
          "Date": "2019-09-10",
          "Expected files": 1,
          "Files received": 0,
          "Locatie": "FL70_A",
          "Origin": "standard",
          "Sensor": "ALT",
          "Valid files": 0
         },
         {
          "Date": "2019-09-11",
          "Expected files": 1,
          "Files received": 0,
          "Locatie": "FL70_A",
          "Origin": "standard",
          "Sensor": "ALT",
          "Valid files": 0
         },
         {
          "Date": "2019-09-12",
          "Expected files": 1,
          "Files received": 0,
          "Locatie": "FL70_A",
          "Origin": "standard",
          "Sensor": "ALT",
          "Valid files": 0
         },
         {
          "Date": "2019-09-13",
          "Expected files": 1,
          "Files received": 0,
          "Locatie": "FL70_A",
          "Origin": "standard",
          "Sensor": "ALT",
          "Valid files": 0
         },
         {
          "Date": "2019-09-14",
          "Expected files": 1,
          "Files received": 0,
          "Locatie": "FL70_A",
          "Origin": "standard",
          "Sensor": "ALT",
          "Valid files": 0
         },
         {
          "Date": "2019-09-15",
          "Expected files": 1,
          "Files received": 0,
          "Locatie": "FL70_A",
          "Origin": "standard",
          "Sensor": "ALT",
          "Valid files": 0
         },
         {
          "Date": "2019-09-16",
          "Expected files": 1,
          "Files received": 0,
          "Locatie": "FL70_A",
          "Origin": "standard",
          "Sensor": "ALT",
          "Valid files": 0
         },
         {
          "Date": "2019-09-17",
          "Expected files": 1,
          "Files received": 0,
          "Locatie": "FL70_A",
          "Origin": "standard",
          "Sensor": "ALT",
          "Valid files": 0
         },
         {
          "Date": "2019-09-18",
          "Expected files": 1,
          "Files received": 0,
          "Locatie": "FL70_A",
          "Origin": "standard",
          "Sensor": "ALT",
          "Valid files": 0
         },
         {
          "Date": "2019-09-19",
          "Expected files": 1,
          "Files received": 0,
          "Locatie": "FL70_A",
          "Origin": "standard",
          "Sensor": "ALT",
          "Valid files": 0
         },
         {
          "Date": "2019-09-20",
          "Expected files": 1,
          "Files received": 0,
          "Locatie": "FL70_A",
          "Origin": "standard",
          "Sensor": "ALT",
          "Valid files": 0
         },
         {
          "Date": "2019-09-21",
          "Expected files": 1,
          "Files received": 0,
          "Locatie": "FL70_A",
          "Origin": "standard",
          "Sensor": "ALT",
          "Valid files": 0
         },
         {
          "Date": "2019-09-22",
          "Expected files": 1,
          "Files received": 0,
          "Locatie": "FL70_A",
          "Origin": "standard",
          "Sensor": "ALT",
          "Valid files": 0
         },
         {
          "Date": "2019-09-23",
          "Expected files": 1,
          "Files received": 0,
          "Locatie": "FL70_A",
          "Origin": "standard",
          "Sensor": "ALT",
          "Valid files": 0
         },
         {
          "Date": "2019-09-24",
          "Expected files": 1,
          "Files received": 0,
          "Locatie": "FL70_A",
          "Origin": "standard",
          "Sensor": "ALT",
          "Valid files": 0
         },
         {
          "Date": "2019-09-25",
          "Expected files": 1,
          "Files received": 0,
          "Locatie": "FL70_A",
          "Origin": "standard",
          "Sensor": "ALT",
          "Valid files": 0
         },
         {
          "Date": "2019-09-26",
          "Expected files": 1,
          "Files received": 0,
          "Locatie": "FL70_A",
          "Origin": "standard",
          "Sensor": "ALT",
          "Valid files": 0
         },
         {
          "Date": "2019-09-27",
          "Expected files": 1,
          "Files received": 0,
          "Locatie": "FL70_A",
          "Origin": "standard",
          "Sensor": "ALT",
          "Valid files": 0
         },
         {
          "Date": "2019-09-28",
          "Expected files": 1,
          "Files received": 0,
          "Locatie": "FL70_A",
          "Origin": "standard",
          "Sensor": "ALT",
          "Valid files": 0
         },
         {
          "Date": "2019-09-29",
          "Expected files": 1,
          "Files received": 0,
          "Locatie": "FL70_A",
          "Origin": "standard",
          "Sensor": "ALT",
          "Valid files": 0
         },
         {
          "Date": "2019-09-30",
          "Expected files": 1,
          "Files received": 0,
          "Locatie": "FL70_A",
          "Origin": "standard",
          "Sensor": "ALT",
          "Valid files": 0
         },
         {
          "Date": "2019-10-01",
          "Expected files": 1,
          "Files received": 0,
          "Locatie": "FL70_A",
          "Origin": "standard",
          "Sensor": "ALT",
          "Valid files": 0
         },
         {
          "Date": "2019-10-02",
          "Expected files": 1,
          "Files received": 0,
          "Locatie": "FL70_A",
          "Origin": "standard",
          "Sensor": "ALT",
          "Valid files": 0
         },
         {
          "Date": "2019-10-03",
          "Expected files": 1,
          "Files received": 0,
          "Locatie": "FL70_A",
          "Origin": "standard",
          "Sensor": "ALT",
          "Valid files": 0
         },
         {
          "Date": "2019-10-04",
          "Expected files": 1,
          "Files received": 0,
          "Locatie": "FL70_A",
          "Origin": "standard",
          "Sensor": "ALT",
          "Valid files": 0
         },
         {
          "Date": "2019-10-05",
          "Expected files": 1,
          "Files received": 0,
          "Locatie": "FL70_A",
          "Origin": "standard",
          "Sensor": "ALT",
          "Valid files": 0
         },
         {
          "Date": "2019-10-06",
          "Expected files": 1,
          "Files received": 0,
          "Locatie": "FL70_A",
          "Origin": "standard",
          "Sensor": "ALT",
          "Valid files": 0
         },
         {
          "Date": "2019-10-07",
          "Expected files": 1,
          "Files received": 0,
          "Locatie": "FL70_A",
          "Origin": "standard",
          "Sensor": "ALT",
          "Valid files": 0
         },
         {
          "Date": "2019-10-08",
          "Expected files": 1,
          "Files received": 0,
          "Locatie": "FL70_A",
          "Origin": "standard",
          "Sensor": "ALT",
          "Valid files": 0
         },
         {
          "Date": "2019-09-09",
          "Expected files": 1,
          "Files received": 0,
          "Locatie": "FL70_B",
          "Origin": "standard",
          "Sensor": "ALT",
          "Valid files": 0
         },
         {
          "Date": "2019-09-10",
          "Expected files": 1,
          "Files received": 0,
          "Locatie": "FL70_B",
          "Origin": "standard",
          "Sensor": "ALT",
          "Valid files": 0
         },
         {
          "Date": "2019-09-11",
          "Expected files": 1,
          "Files received": 0,
          "Locatie": "FL70_B",
          "Origin": "standard",
          "Sensor": "ALT",
          "Valid files": 0
         },
         {
          "Date": "2019-09-12",
          "Expected files": 1,
          "Files received": 0,
          "Locatie": "FL70_B",
          "Origin": "standard",
          "Sensor": "ALT",
          "Valid files": 0
         },
         {
          "Date": "2019-09-13",
          "Expected files": 1,
          "Files received": 0,
          "Locatie": "FL70_B",
          "Origin": "standard",
          "Sensor": "ALT",
          "Valid files": 0
         },
         {
          "Date": "2019-09-14",
          "Expected files": 1,
          "Files received": 0,
          "Locatie": "FL70_B",
          "Origin": "standard",
          "Sensor": "ALT",
          "Valid files": 0
         },
         {
          "Date": "2019-09-15",
          "Expected files": 1,
          "Files received": 0,
          "Locatie": "FL70_B",
          "Origin": "standard",
          "Sensor": "ALT",
          "Valid files": 0
         },
         {
          "Date": "2019-09-16",
          "Expected files": 1,
          "Files received": 0,
          "Locatie": "FL70_B",
          "Origin": "standard",
          "Sensor": "ALT",
          "Valid files": 0
         },
         {
          "Date": "2019-09-17",
          "Expected files": 1,
          "Files received": 0,
          "Locatie": "FL70_B",
          "Origin": "standard",
          "Sensor": "ALT",
          "Valid files": 0
         },
         {
          "Date": "2019-09-18",
          "Expected files": 1,
          "Files received": 0,
          "Locatie": "FL70_B",
          "Origin": "standard",
          "Sensor": "ALT",
          "Valid files": 0
         },
         {
          "Date": "2019-09-19",
          "Expected files": 1,
          "Files received": 0,
          "Locatie": "FL70_B",
          "Origin": "standard",
          "Sensor": "ALT",
          "Valid files": 0
         },
         {
          "Date": "2019-09-20",
          "Expected files": 1,
          "Files received": 0,
          "Locatie": "FL70_B",
          "Origin": "standard",
          "Sensor": "ALT",
          "Valid files": 0
         },
         {
          "Date": "2019-09-21",
          "Expected files": 1,
          "Files received": 0,
          "Locatie": "FL70_B",
          "Origin": "standard",
          "Sensor": "ALT",
          "Valid files": 0
         },
         {
          "Date": "2019-09-22",
          "Expected files": 1,
          "Files received": 0,
          "Locatie": "FL70_B",
          "Origin": "standard",
          "Sensor": "ALT",
          "Valid files": 0
         },
         {
          "Date": "2019-09-23",
          "Expected files": 1,
          "Files received": 0,
          "Locatie": "FL70_B",
          "Origin": "standard",
          "Sensor": "ALT",
          "Valid files": 0
         },
         {
          "Date": "2019-09-24",
          "Expected files": 1,
          "Files received": 0,
          "Locatie": "FL70_B",
          "Origin": "standard",
          "Sensor": "ALT",
          "Valid files": 0
         },
         {
          "Date": "2019-09-25",
          "Expected files": 1,
          "Files received": 0,
          "Locatie": "FL70_B",
          "Origin": "standard",
          "Sensor": "ALT",
          "Valid files": 0
         },
         {
          "Date": "2019-09-26",
          "Expected files": 1,
          "Files received": 0,
          "Locatie": "FL70_B",
          "Origin": "standard",
          "Sensor": "ALT",
          "Valid files": 0
         },
         {
          "Date": "2019-09-27",
          "Expected files": 1,
          "Files received": 0,
          "Locatie": "FL70_B",
          "Origin": "standard",
          "Sensor": "ALT",
          "Valid files": 0
         },
         {
          "Date": "2019-09-28",
          "Expected files": 1,
          "Files received": 0,
          "Locatie": "FL70_B",
          "Origin": "standard",
          "Sensor": "ALT",
          "Valid files": 0
         },
         {
          "Date": "2019-09-29",
          "Expected files": 1,
          "Files received": 0,
          "Locatie": "FL70_B",
          "Origin": "standard",
          "Sensor": "ALT",
          "Valid files": 0
         },
         {
          "Date": "2019-09-30",
          "Expected files": 1,
          "Files received": 0,
          "Locatie": "FL70_B",
          "Origin": "standard",
          "Sensor": "ALT",
          "Valid files": 0
         },
         {
          "Date": "2019-10-01",
          "Expected files": 1,
          "Files received": 0,
          "Locatie": "FL70_B",
          "Origin": "standard",
          "Sensor": "ALT",
          "Valid files": 0
         },
         {
          "Date": "2019-10-02",
          "Expected files": 1,
          "Files received": 0,
          "Locatie": "FL70_B",
          "Origin": "standard",
          "Sensor": "ALT",
          "Valid files": 0
         },
         {
          "Date": "2019-10-03",
          "Expected files": 1,
          "Files received": 0,
          "Locatie": "FL70_B",
          "Origin": "standard",
          "Sensor": "ALT",
          "Valid files": 0
         },
         {
          "Date": "2019-10-04",
          "Expected files": 1,
          "Files received": 0,
          "Locatie": "FL70_B",
          "Origin": "standard",
          "Sensor": "ALT",
          "Valid files": 0
         },
         {
          "Date": "2019-10-05",
          "Expected files": 1,
          "Files received": 0,
          "Locatie": "FL70_B",
          "Origin": "standard",
          "Sensor": "ALT",
          "Valid files": 0
         },
         {
          "Date": "2019-10-06",
          "Expected files": 1,
          "Files received": 0,
          "Locatie": "FL70_B",
          "Origin": "standard",
          "Sensor": "ALT",
          "Valid files": 0
         },
         {
          "Date": "2019-10-07",
          "Expected files": 1,
          "Files received": 0,
          "Locatie": "FL70_B",
          "Origin": "standard",
          "Sensor": "ALT",
          "Valid files": 0
         },
         {
          "Date": "2019-10-08",
          "Expected files": 1,
          "Files received": 0,
          "Locatie": "FL70_B",
          "Origin": "standard",
          "Sensor": "ALT",
          "Valid files": 0
         },
         {
          "Date": "2019-09-09",
          "Expected files": 1,
          "Files received": 0,
          "Locatie": "FL70_C",
          "Origin": "standard",
          "Sensor": "ALT",
          "Valid files": 0
         },
         {
          "Date": "2019-09-10",
          "Expected files": 1,
          "Files received": 0,
          "Locatie": "FL70_C",
          "Origin": "standard",
          "Sensor": "ALT",
          "Valid files": 0
         },
         {
          "Date": "2019-09-11",
          "Expected files": 1,
          "Files received": 0,
          "Locatie": "FL70_C",
          "Origin": "standard",
          "Sensor": "ALT",
          "Valid files": 0
         },
         {
          "Date": "2019-09-12",
          "Expected files": 1,
          "Files received": 0,
          "Locatie": "FL70_C",
          "Origin": "standard",
          "Sensor": "ALT",
          "Valid files": 0
         },
         {
          "Date": "2019-09-13",
          "Expected files": 1,
          "Files received": 0,
          "Locatie": "FL70_C",
          "Origin": "standard",
          "Sensor": "ALT",
          "Valid files": 0
         },
         {
          "Date": "2019-09-14",
          "Expected files": 1,
          "Files received": 0,
          "Locatie": "FL70_C",
          "Origin": "standard",
          "Sensor": "ALT",
          "Valid files": 0
         },
         {
          "Date": "2019-09-15",
          "Expected files": 1,
          "Files received": 0,
          "Locatie": "FL70_C",
          "Origin": "standard",
          "Sensor": "ALT",
          "Valid files": 0
         },
         {
          "Date": "2019-09-16",
          "Expected files": 1,
          "Files received": 0,
          "Locatie": "FL70_C",
          "Origin": "standard",
          "Sensor": "ALT",
          "Valid files": 0
         },
         {
          "Date": "2019-09-17",
          "Expected files": 1,
          "Files received": 0,
          "Locatie": "FL70_C",
          "Origin": "standard",
          "Sensor": "ALT",
          "Valid files": 0
         },
         {
          "Date": "2019-09-18",
          "Expected files": 1,
          "Files received": 0,
          "Locatie": "FL70_C",
          "Origin": "standard",
          "Sensor": "ALT",
          "Valid files": 0
         },
         {
          "Date": "2019-09-19",
          "Expected files": 1,
          "Files received": 0,
          "Locatie": "FL70_C",
          "Origin": "standard",
          "Sensor": "ALT",
          "Valid files": 0
         },
         {
          "Date": "2019-09-20",
          "Expected files": 1,
          "Files received": 0,
          "Locatie": "FL70_C",
          "Origin": "standard",
          "Sensor": "ALT",
          "Valid files": 0
         },
         {
          "Date": "2019-09-21",
          "Expected files": 1,
          "Files received": 0,
          "Locatie": "FL70_C",
          "Origin": "standard",
          "Sensor": "ALT",
          "Valid files": 0
         },
         {
          "Date": "2019-09-22",
          "Expected files": 1,
          "Files received": 0,
          "Locatie": "FL70_C",
          "Origin": "standard",
          "Sensor": "ALT",
          "Valid files": 0
         },
         {
          "Date": "2019-09-23",
          "Expected files": 1,
          "Files received": 0,
          "Locatie": "FL70_C",
          "Origin": "standard",
          "Sensor": "ALT",
          "Valid files": 0
         },
         {
          "Date": "2019-09-24",
          "Expected files": 1,
          "Files received": 0,
          "Locatie": "FL70_C",
          "Origin": "standard",
          "Sensor": "ALT",
          "Valid files": 0
         },
         {
          "Date": "2019-09-25",
          "Expected files": 1,
          "Files received": 0,
          "Locatie": "FL70_C",
          "Origin": "standard",
          "Sensor": "ALT",
          "Valid files": 0
         },
         {
          "Date": "2019-09-26",
          "Expected files": 1,
          "Files received": 0,
          "Locatie": "FL70_C",
          "Origin": "standard",
          "Sensor": "ALT",
          "Valid files": 0
         },
         {
          "Date": "2019-09-27",
          "Expected files": 1,
          "Files received": 0,
          "Locatie": "FL70_C",
          "Origin": "standard",
          "Sensor": "ALT",
          "Valid files": 0
         },
         {
          "Date": "2019-09-28",
          "Expected files": 1,
          "Files received": 0,
          "Locatie": "FL70_C",
          "Origin": "standard",
          "Sensor": "ALT",
          "Valid files": 0
         },
         {
          "Date": "2019-09-29",
          "Expected files": 1,
          "Files received": 0,
          "Locatie": "FL70_C",
          "Origin": "standard",
          "Sensor": "ALT",
          "Valid files": 0
         },
         {
          "Date": "2019-09-30",
          "Expected files": 1,
          "Files received": 0,
          "Locatie": "FL70_C",
          "Origin": "standard",
          "Sensor": "ALT",
          "Valid files": 0
         },
         {
          "Date": "2019-10-01",
          "Expected files": 1,
          "Files received": 0,
          "Locatie": "FL70_C",
          "Origin": "standard",
          "Sensor": "ALT",
          "Valid files": 0
         },
         {
          "Date": "2019-10-02",
          "Expected files": 1,
          "Files received": 0,
          "Locatie": "FL70_C",
          "Origin": "standard",
          "Sensor": "ALT",
          "Valid files": 0
         },
         {
          "Date": "2019-10-03",
          "Expected files": 1,
          "Files received": 0,
          "Locatie": "FL70_C",
          "Origin": "standard",
          "Sensor": "ALT",
          "Valid files": 0
         },
         {
          "Date": "2019-10-04",
          "Expected files": 1,
          "Files received": 0,
          "Locatie": "FL70_C",
          "Origin": "standard",
          "Sensor": "ALT",
          "Valid files": 0
         },
         {
          "Date": "2019-10-05",
          "Expected files": 1,
          "Files received": 0,
          "Locatie": "FL70_C",
          "Origin": "standard",
          "Sensor": "ALT",
          "Valid files": 0
         },
         {
          "Date": "2019-10-06",
          "Expected files": 1,
          "Files received": 0,
          "Locatie": "FL70_C",
          "Origin": "standard",
          "Sensor": "ALT",
          "Valid files": 0
         },
         {
          "Date": "2019-10-07",
          "Expected files": 1,
          "Files received": 0,
          "Locatie": "FL70_C",
          "Origin": "standard",
          "Sensor": "ALT",
          "Valid files": 0
         },
         {
          "Date": "2019-10-08",
          "Expected files": 1,
          "Files received": 0,
          "Locatie": "FL70_C",
          "Origin": "standard",
          "Sensor": "ALT",
          "Valid files": 0
         },
         {
          "Date": "2019-09-09",
          "Expected files": 14,
          "Files received": 0,
          "Locatie": "FL67_A",
          "Origin": "ftp",
          "Sensor": "ALT",
          "Valid files": 0
         },
         {
          "Date": "2019-09-10",
          "Expected files": 14,
          "Files received": 0,
          "Locatie": "FL67_A",
          "Origin": "ftp",
          "Sensor": "ALT",
          "Valid files": 0
         },
         {
          "Date": "2019-09-11",
          "Expected files": 14,
          "Files received": 0,
          "Locatie": "FL67_A",
          "Origin": "ftp",
          "Sensor": "ALT",
          "Valid files": 0
         },
         {
          "Date": "2019-09-12",
          "Expected files": 14,
          "Files received": 0,
          "Locatie": "FL67_A",
          "Origin": "ftp",
          "Sensor": "ALT",
          "Valid files": 0
         },
         {
          "Date": "2019-09-13",
          "Expected files": 14,
          "Files received": 0,
          "Locatie": "FL67_A",
          "Origin": "ftp",
          "Sensor": "ALT",
          "Valid files": 0
         },
         {
          "Date": "2019-09-14",
          "Expected files": 14,
          "Files received": 0,
          "Locatie": "FL67_A",
          "Origin": "ftp",
          "Sensor": "ALT",
          "Valid files": 0
         },
         {
          "Date": "2019-09-15",
          "Expected files": 14,
          "Files received": 0,
          "Locatie": "FL67_A",
          "Origin": "ftp",
          "Sensor": "ALT",
          "Valid files": 0
         },
         {
          "Date": "2019-09-16",
          "Expected files": 14,
          "Files received": 0.42857142857142855,
          "Locatie": "FL67_A",
          "Origin": "ftp",
          "Sensor": "ALT",
          "Valid files": 1
         },
         {
          "Date": "2019-09-17",
          "Expected files": 14,
          "Files received": 1,
          "Locatie": "FL67_A",
          "Origin": "ftp",
          "Sensor": "ALT",
          "Valid files": 1
         },
         {
          "Date": "2019-09-18",
          "Expected files": 14,
          "Files received": 1,
          "Locatie": "FL67_A",
          "Origin": "ftp",
          "Sensor": "ALT",
          "Valid files": 1
         },
         {
          "Date": "2019-09-19",
          "Expected files": 14,
          "Files received": 1,
          "Locatie": "FL67_A",
          "Origin": "ftp",
          "Sensor": "ALT",
          "Valid files": 1
         },
         {
          "Date": "2019-09-20",
          "Expected files": 14,
          "Files received": 1,
          "Locatie": "FL67_A",
          "Origin": "ftp",
          "Sensor": "ALT",
          "Valid files": 1
         },
         {
          "Date": "2019-09-21",
          "Expected files": 14,
          "Files received": 1,
          "Locatie": "FL67_A",
          "Origin": "ftp",
          "Sensor": "ALT",
          "Valid files": 1
         },
         {
          "Date": "2019-09-22",
          "Expected files": 14,
          "Files received": 1,
          "Locatie": "FL67_A",
          "Origin": "ftp",
          "Sensor": "ALT",
          "Valid files": 1
         },
         {
          "Date": "2019-09-23",
          "Expected files": 14,
          "Files received": 1,
          "Locatie": "FL67_A",
          "Origin": "ftp",
          "Sensor": "ALT",
          "Valid files": 1
         },
         {
          "Date": "2019-09-24",
          "Expected files": 14,
          "Files received": 1,
          "Locatie": "FL67_A",
          "Origin": "ftp",
          "Sensor": "ALT",
          "Valid files": 1
         },
         {
          "Date": "2019-09-25",
          "Expected files": 14,
          "Files received": 1,
          "Locatie": "FL67_A",
          "Origin": "ftp",
          "Sensor": "ALT",
          "Valid files": 1
         },
         {
          "Date": "2019-09-26",
          "Expected files": 14,
          "Files received": 1,
          "Locatie": "FL67_A",
          "Origin": "ftp",
          "Sensor": "ALT",
          "Valid files": 1
         },
         {
          "Date": "2019-09-27",
          "Expected files": 14,
          "Files received": 1,
          "Locatie": "FL67_A",
          "Origin": "ftp",
          "Sensor": "ALT",
          "Valid files": 1
         },
         {
          "Date": "2019-09-28",
          "Expected files": 14,
          "Files received": 1,
          "Locatie": "FL67_A",
          "Origin": "ftp",
          "Sensor": "ALT",
          "Valid files": 1
         },
         {
          "Date": "2019-09-29",
          "Expected files": 14,
          "Files received": 1,
          "Locatie": "FL67_A",
          "Origin": "ftp",
          "Sensor": "ALT",
          "Valid files": 1
         },
         {
          "Date": "2019-09-30",
          "Expected files": 14,
          "Files received": 1,
          "Locatie": "FL67_A",
          "Origin": "ftp",
          "Sensor": "ALT",
          "Valid files": 1
         },
         {
          "Date": "2019-10-01",
          "Expected files": 14,
          "Files received": 1,
          "Locatie": "FL67_A",
          "Origin": "ftp",
          "Sensor": "ALT",
          "Valid files": 1
         },
         {
          "Date": "2019-10-02",
          "Expected files": 14,
          "Files received": 1,
          "Locatie": "FL67_A",
          "Origin": "ftp",
          "Sensor": "ALT",
          "Valid files": 1
         },
         {
          "Date": "2019-10-03",
          "Expected files": 14,
          "Files received": 1,
          "Locatie": "FL67_A",
          "Origin": "ftp",
          "Sensor": "ALT",
          "Valid files": 1
         },
         {
          "Date": "2019-10-04",
          "Expected files": 14,
          "Files received": 1,
          "Locatie": "FL67_A",
          "Origin": "ftp",
          "Sensor": "ALT",
          "Valid files": 1
         },
         {
          "Date": "2019-10-05",
          "Expected files": 14,
          "Files received": 1,
          "Locatie": "FL67_A",
          "Origin": "ftp",
          "Sensor": "ALT",
          "Valid files": 1
         },
         {
          "Date": "2019-10-06",
          "Expected files": 14,
          "Files received": 1,
          "Locatie": "FL67_A",
          "Origin": "ftp",
          "Sensor": "ALT",
          "Valid files": 1
         },
         {
          "Date": "2019-10-07",
          "Expected files": 14,
          "Files received": 1,
          "Locatie": "FL67_A",
          "Origin": "ftp",
          "Sensor": "ALT",
          "Valid files": 1
         },
         {
          "Date": "2019-10-08",
          "Expected files": 14,
          "Files received": 1,
          "Locatie": "FL67_A",
          "Origin": "ftp",
          "Sensor": "ALT",
          "Valid files": 1
         },
         {
          "Date": "2019-09-09",
          "Expected files": 14,
          "Files received": 0,
          "Locatie": "FL67_B",
          "Origin": "ftp",
          "Sensor": "ALT",
          "Valid files": 0
         },
         {
          "Date": "2019-09-10",
          "Expected files": 14,
          "Files received": 0,
          "Locatie": "FL67_B",
          "Origin": "ftp",
          "Sensor": "ALT",
          "Valid files": 0
         },
         {
          "Date": "2019-09-11",
          "Expected files": 14,
          "Files received": 0,
          "Locatie": "FL67_B",
          "Origin": "ftp",
          "Sensor": "ALT",
          "Valid files": 0
         },
         {
          "Date": "2019-09-12",
          "Expected files": 14,
          "Files received": 0,
          "Locatie": "FL67_B",
          "Origin": "ftp",
          "Sensor": "ALT",
          "Valid files": 0
         },
         {
          "Date": "2019-09-13",
          "Expected files": 14,
          "Files received": 0.21428571428571427,
          "Locatie": "FL67_B",
          "Origin": "ftp",
          "Sensor": "ALT",
          "Valid files": 1
         },
         {
          "Date": "2019-09-14",
          "Expected files": 14,
          "Files received": 0,
          "Locatie": "FL67_B",
          "Origin": "ftp",
          "Sensor": "ALT",
          "Valid files": 0
         },
         {
          "Date": "2019-09-15",
          "Expected files": 14,
          "Files received": 0,
          "Locatie": "FL67_B",
          "Origin": "ftp",
          "Sensor": "ALT",
          "Valid files": 0
         },
         {
          "Date": "2019-09-16",
          "Expected files": 14,
          "Files received": 0.42857142857142855,
          "Locatie": "FL67_B",
          "Origin": "ftp",
          "Sensor": "ALT",
          "Valid files": 1
         },
         {
          "Date": "2019-09-17",
          "Expected files": 14,
          "Files received": 1,
          "Locatie": "FL67_B",
          "Origin": "ftp",
          "Sensor": "ALT",
          "Valid files": 1
         },
         {
          "Date": "2019-09-18",
          "Expected files": 14,
          "Files received": 0.07142857142857142,
          "Locatie": "FL67_B",
          "Origin": "ftp",
          "Sensor": "ALT",
          "Valid files": 1
         },
         {
          "Date": "2019-09-19",
          "Expected files": 14,
          "Files received": 1,
          "Locatie": "FL67_B",
          "Origin": "ftp",
          "Sensor": "ALT",
          "Valid files": 1
         },
         {
          "Date": "2019-09-20",
          "Expected files": 14,
          "Files received": 1.0714285714285714,
          "Locatie": "FL67_B",
          "Origin": "ftp",
          "Sensor": "ALT",
          "Valid files": 1
         },
         {
          "Date": "2019-09-21",
          "Expected files": 14,
          "Files received": 1,
          "Locatie": "FL67_B",
          "Origin": "ftp",
          "Sensor": "ALT",
          "Valid files": 1
         },
         {
          "Date": "2019-09-22",
          "Expected files": 14,
          "Files received": 1,
          "Locatie": "FL67_B",
          "Origin": "ftp",
          "Sensor": "ALT",
          "Valid files": 1
         },
         {
          "Date": "2019-09-23",
          "Expected files": 14,
          "Files received": 1,
          "Locatie": "FL67_B",
          "Origin": "ftp",
          "Sensor": "ALT",
          "Valid files": 1
         },
         {
          "Date": "2019-09-24",
          "Expected files": 14,
          "Files received": 1,
          "Locatie": "FL67_B",
          "Origin": "ftp",
          "Sensor": "ALT",
          "Valid files": 1
         },
         {
          "Date": "2019-09-25",
          "Expected files": 14,
          "Files received": 1,
          "Locatie": "FL67_B",
          "Origin": "ftp",
          "Sensor": "ALT",
          "Valid files": 1
         },
         {
          "Date": "2019-09-26",
          "Expected files": 14,
          "Files received": 1,
          "Locatie": "FL67_B",
          "Origin": "ftp",
          "Sensor": "ALT",
          "Valid files": 1
         },
         {
          "Date": "2019-09-27",
          "Expected files": 14,
          "Files received": 1,
          "Locatie": "FL67_B",
          "Origin": "ftp",
          "Sensor": "ALT",
          "Valid files": 1
         },
         {
          "Date": "2019-09-28",
          "Expected files": 14,
          "Files received": 1,
          "Locatie": "FL67_B",
          "Origin": "ftp",
          "Sensor": "ALT",
          "Valid files": 1
         },
         {
          "Date": "2019-09-29",
          "Expected files": 14,
          "Files received": 1,
          "Locatie": "FL67_B",
          "Origin": "ftp",
          "Sensor": "ALT",
          "Valid files": 1
         },
         {
          "Date": "2019-09-30",
          "Expected files": 14,
          "Files received": 1,
          "Locatie": "FL67_B",
          "Origin": "ftp",
          "Sensor": "ALT",
          "Valid files": 1
         },
         {
          "Date": "2019-10-01",
          "Expected files": 14,
          "Files received": 1,
          "Locatie": "FL67_B",
          "Origin": "ftp",
          "Sensor": "ALT",
          "Valid files": 1
         },
         {
          "Date": "2019-10-02",
          "Expected files": 14,
          "Files received": 1,
          "Locatie": "FL67_B",
          "Origin": "ftp",
          "Sensor": "ALT",
          "Valid files": 1
         },
         {
          "Date": "2019-10-03",
          "Expected files": 14,
          "Files received": 1,
          "Locatie": "FL67_B",
          "Origin": "ftp",
          "Sensor": "ALT",
          "Valid files": 1
         },
         {
          "Date": "2019-10-04",
          "Expected files": 14,
          "Files received": 1,
          "Locatie": "FL67_B",
          "Origin": "ftp",
          "Sensor": "ALT",
          "Valid files": 1
         },
         {
          "Date": "2019-10-05",
          "Expected files": 14,
          "Files received": 1,
          "Locatie": "FL67_B",
          "Origin": "ftp",
          "Sensor": "ALT",
          "Valid files": 1
         },
         {
          "Date": "2019-10-06",
          "Expected files": 14,
          "Files received": 1,
          "Locatie": "FL67_B",
          "Origin": "ftp",
          "Sensor": "ALT",
          "Valid files": 1
         },
         {
          "Date": "2019-10-07",
          "Expected files": 14,
          "Files received": 1,
          "Locatie": "FL67_B",
          "Origin": "ftp",
          "Sensor": "ALT",
          "Valid files": 1
         },
         {
          "Date": "2019-10-08",
          "Expected files": 14,
          "Files received": 1,
          "Locatie": "FL67_B",
          "Origin": "ftp",
          "Sensor": "ALT",
          "Valid files": 1
         },
         {
          "Date": "2019-09-09",
          "Expected files": 14,
          "Files received": 0,
          "Locatie": "FL70_A",
          "Origin": "ftp",
          "Sensor": "ALT",
          "Valid files": 0
         },
         {
          "Date": "2019-09-10",
          "Expected files": 14,
          "Files received": 0,
          "Locatie": "FL70_A",
          "Origin": "ftp",
          "Sensor": "ALT",
          "Valid files": 0
         },
         {
          "Date": "2019-09-11",
          "Expected files": 14,
          "Files received": 0,
          "Locatie": "FL70_A",
          "Origin": "ftp",
          "Sensor": "ALT",
          "Valid files": 0
         },
         {
          "Date": "2019-09-12",
          "Expected files": 14,
          "Files received": 0,
          "Locatie": "FL70_A",
          "Origin": "ftp",
          "Sensor": "ALT",
          "Valid files": 0
         },
         {
          "Date": "2019-09-13",
          "Expected files": 14,
          "Files received": 0,
          "Locatie": "FL70_A",
          "Origin": "ftp",
          "Sensor": "ALT",
          "Valid files": 0
         },
         {
          "Date": "2019-09-14",
          "Expected files": 14,
          "Files received": 0,
          "Locatie": "FL70_A",
          "Origin": "ftp",
          "Sensor": "ALT",
          "Valid files": 0
         },
         {
          "Date": "2019-09-15",
          "Expected files": 14,
          "Files received": 0,
          "Locatie": "FL70_A",
          "Origin": "ftp",
          "Sensor": "ALT",
          "Valid files": 0
         },
         {
          "Date": "2019-09-16",
          "Expected files": 14,
          "Files received": 0,
          "Locatie": "FL70_A",
          "Origin": "ftp",
          "Sensor": "ALT",
          "Valid files": 0
         },
         {
          "Date": "2019-09-17",
          "Expected files": 14,
          "Files received": 0,
          "Locatie": "FL70_A",
          "Origin": "ftp",
          "Sensor": "ALT",
          "Valid files": 0
         },
         {
          "Date": "2019-09-18",
          "Expected files": 14,
          "Files received": 0,
          "Locatie": "FL70_A",
          "Origin": "ftp",
          "Sensor": "ALT",
          "Valid files": 0
         },
         {
          "Date": "2019-09-19",
          "Expected files": 14,
          "Files received": 0,
          "Locatie": "FL70_A",
          "Origin": "ftp",
          "Sensor": "ALT",
          "Valid files": 0
         },
         {
          "Date": "2019-09-20",
          "Expected files": 14,
          "Files received": 0,
          "Locatie": "FL70_A",
          "Origin": "ftp",
          "Sensor": "ALT",
          "Valid files": 0
         },
         {
          "Date": "2019-09-21",
          "Expected files": 14,
          "Files received": 0,
          "Locatie": "FL70_A",
          "Origin": "ftp",
          "Sensor": "ALT",
          "Valid files": 0
         },
         {
          "Date": "2019-09-22",
          "Expected files": 14,
          "Files received": 0,
          "Locatie": "FL70_A",
          "Origin": "ftp",
          "Sensor": "ALT",
          "Valid files": 0
         },
         {
          "Date": "2019-09-23",
          "Expected files": 14,
          "Files received": 0,
          "Locatie": "FL70_A",
          "Origin": "ftp",
          "Sensor": "ALT",
          "Valid files": 0
         },
         {
          "Date": "2019-09-24",
          "Expected files": 14,
          "Files received": 0,
          "Locatie": "FL70_A",
          "Origin": "ftp",
          "Sensor": "ALT",
          "Valid files": 0
         },
         {
          "Date": "2019-09-25",
          "Expected files": 14,
          "Files received": 0,
          "Locatie": "FL70_A",
          "Origin": "ftp",
          "Sensor": "ALT",
          "Valid files": 0
         },
         {
          "Date": "2019-09-26",
          "Expected files": 14,
          "Files received": 0,
          "Locatie": "FL70_A",
          "Origin": "ftp",
          "Sensor": "ALT",
          "Valid files": 0
         },
         {
          "Date": "2019-09-27",
          "Expected files": 14,
          "Files received": 0.07142857142857142,
          "Locatie": "FL70_A",
          "Origin": "ftp",
          "Sensor": "ALT",
          "Valid files": 1
         },
         {
          "Date": "2019-09-28",
          "Expected files": 14,
          "Files received": 0.21428571428571427,
          "Locatie": "FL70_A",
          "Origin": "ftp",
          "Sensor": "ALT",
          "Valid files": 1
         },
         {
          "Date": "2019-09-29",
          "Expected files": 14,
          "Files received": 1,
          "Locatie": "FL70_A",
          "Origin": "ftp",
          "Sensor": "ALT",
          "Valid files": 1
         },
         {
          "Date": "2019-09-30",
          "Expected files": 14,
          "Files received": 1,
          "Locatie": "FL70_A",
          "Origin": "ftp",
          "Sensor": "ALT",
          "Valid files": 1
         },
         {
          "Date": "2019-10-01",
          "Expected files": 14,
          "Files received": 1,
          "Locatie": "FL70_A",
          "Origin": "ftp",
          "Sensor": "ALT",
          "Valid files": 1
         },
         {
          "Date": "2019-10-02",
          "Expected files": 14,
          "Files received": 1,
          "Locatie": "FL70_A",
          "Origin": "ftp",
          "Sensor": "ALT",
          "Valid files": 1
         },
         {
          "Date": "2019-10-03",
          "Expected files": 14,
          "Files received": 1,
          "Locatie": "FL70_A",
          "Origin": "ftp",
          "Sensor": "ALT",
          "Valid files": 1
         },
         {
          "Date": "2019-10-04",
          "Expected files": 14,
          "Files received": 0.9285714285714286,
          "Locatie": "FL70_A",
          "Origin": "ftp",
          "Sensor": "ALT",
          "Valid files": 1
         },
         {
          "Date": "2019-10-05",
          "Expected files": 14,
          "Files received": 0,
          "Locatie": "FL70_A",
          "Origin": "ftp",
          "Sensor": "ALT",
          "Valid files": 0
         },
         {
          "Date": "2019-10-06",
          "Expected files": 14,
          "Files received": 0,
          "Locatie": "FL70_A",
          "Origin": "ftp",
          "Sensor": "ALT",
          "Valid files": 0
         },
         {
          "Date": "2019-10-07",
          "Expected files": 14,
          "Files received": 0.5714285714285714,
          "Locatie": "FL70_A",
          "Origin": "ftp",
          "Sensor": "ALT",
          "Valid files": 1
         },
         {
          "Date": "2019-10-08",
          "Expected files": 14,
          "Files received": 1,
          "Locatie": "FL70_A",
          "Origin": "ftp",
          "Sensor": "ALT",
          "Valid files": 1
         },
         {
          "Date": "2019-09-09",
          "Expected files": 14,
          "Files received": 0,
          "Locatie": "FL70_B",
          "Origin": "ftp",
          "Sensor": "ALT",
          "Valid files": 0
         },
         {
          "Date": "2019-09-10",
          "Expected files": 14,
          "Files received": 0,
          "Locatie": "FL70_B",
          "Origin": "ftp",
          "Sensor": "ALT",
          "Valid files": 0
         },
         {
          "Date": "2019-09-11",
          "Expected files": 14,
          "Files received": 0,
          "Locatie": "FL70_B",
          "Origin": "ftp",
          "Sensor": "ALT",
          "Valid files": 0
         },
         {
          "Date": "2019-09-12",
          "Expected files": 14,
          "Files received": 0,
          "Locatie": "FL70_B",
          "Origin": "ftp",
          "Sensor": "ALT",
          "Valid files": 0
         },
         {
          "Date": "2019-09-13",
          "Expected files": 14,
          "Files received": 0,
          "Locatie": "FL70_B",
          "Origin": "ftp",
          "Sensor": "ALT",
          "Valid files": 0
         },
         {
          "Date": "2019-09-14",
          "Expected files": 14,
          "Files received": 0,
          "Locatie": "FL70_B",
          "Origin": "ftp",
          "Sensor": "ALT",
          "Valid files": 0
         },
         {
          "Date": "2019-09-15",
          "Expected files": 14,
          "Files received": 0,
          "Locatie": "FL70_B",
          "Origin": "ftp",
          "Sensor": "ALT",
          "Valid files": 0
         },
         {
          "Date": "2019-09-16",
          "Expected files": 14,
          "Files received": 0,
          "Locatie": "FL70_B",
          "Origin": "ftp",
          "Sensor": "ALT",
          "Valid files": 0
         },
         {
          "Date": "2019-09-17",
          "Expected files": 14,
          "Files received": 0,
          "Locatie": "FL70_B",
          "Origin": "ftp",
          "Sensor": "ALT",
          "Valid files": 0
         },
         {
          "Date": "2019-09-18",
          "Expected files": 14,
          "Files received": 0,
          "Locatie": "FL70_B",
          "Origin": "ftp",
          "Sensor": "ALT",
          "Valid files": 0
         },
         {
          "Date": "2019-09-19",
          "Expected files": 14,
          "Files received": 0.2857142857142857,
          "Locatie": "FL70_B",
          "Origin": "ftp",
          "Sensor": "ALT",
          "Valid files": 1
         },
         {
          "Date": "2019-09-20",
          "Expected files": 14,
          "Files received": 1.0714285714285714,
          "Locatie": "FL70_B",
          "Origin": "ftp",
          "Sensor": "ALT",
          "Valid files": 1
         },
         {
          "Date": "2019-09-21",
          "Expected files": 14,
          "Files received": 1,
          "Locatie": "FL70_B",
          "Origin": "ftp",
          "Sensor": "ALT",
          "Valid files": 1
         },
         {
          "Date": "2019-09-22",
          "Expected files": 14,
          "Files received": 1,
          "Locatie": "FL70_B",
          "Origin": "ftp",
          "Sensor": "ALT",
          "Valid files": 1
         },
         {
          "Date": "2019-09-23",
          "Expected files": 14,
          "Files received": 1,
          "Locatie": "FL70_B",
          "Origin": "ftp",
          "Sensor": "ALT",
          "Valid files": 1
         },
         {
          "Date": "2019-09-24",
          "Expected files": 14,
          "Files received": 1,
          "Locatie": "FL70_B",
          "Origin": "ftp",
          "Sensor": "ALT",
          "Valid files": 1
         },
         {
          "Date": "2019-09-25",
          "Expected files": 14,
          "Files received": 1,
          "Locatie": "FL70_B",
          "Origin": "ftp",
          "Sensor": "ALT",
          "Valid files": 1
         },
         {
          "Date": "2019-09-26",
          "Expected files": 14,
          "Files received": 0.8571428571428571,
          "Locatie": "FL70_B",
          "Origin": "ftp",
          "Sensor": "ALT",
          "Valid files": 1
         },
         {
          "Date": "2019-09-27",
          "Expected files": 14,
          "Files received": 0,
          "Locatie": "FL70_B",
          "Origin": "ftp",
          "Sensor": "ALT",
          "Valid files": 0
         },
         {
          "Date": "2019-09-28",
          "Expected files": 14,
          "Files received": 0,
          "Locatie": "FL70_B",
          "Origin": "ftp",
          "Sensor": "ALT",
          "Valid files": 0
         },
         {
          "Date": "2019-09-29",
          "Expected files": 14,
          "Files received": 0,
          "Locatie": "FL70_B",
          "Origin": "ftp",
          "Sensor": "ALT",
          "Valid files": 0
         },
         {
          "Date": "2019-09-30",
          "Expected files": 14,
          "Files received": 0,
          "Locatie": "FL70_B",
          "Origin": "ftp",
          "Sensor": "ALT",
          "Valid files": 0
         },
         {
          "Date": "2019-10-01",
          "Expected files": 14,
          "Files received": 0,
          "Locatie": "FL70_B",
          "Origin": "ftp",
          "Sensor": "ALT",
          "Valid files": 0
         },
         {
          "Date": "2019-10-02",
          "Expected files": 14,
          "Files received": 0,
          "Locatie": "FL70_B",
          "Origin": "ftp",
          "Sensor": "ALT",
          "Valid files": 0
         },
         {
          "Date": "2019-10-03",
          "Expected files": 14,
          "Files received": 0,
          "Locatie": "FL70_B",
          "Origin": "ftp",
          "Sensor": "ALT",
          "Valid files": 0
         },
         {
          "Date": "2019-10-04",
          "Expected files": 14,
          "Files received": 0,
          "Locatie": "FL70_B",
          "Origin": "ftp",
          "Sensor": "ALT",
          "Valid files": 0
         },
         {
          "Date": "2019-10-05",
          "Expected files": 14,
          "Files received": 0,
          "Locatie": "FL70_B",
          "Origin": "ftp",
          "Sensor": "ALT",
          "Valid files": 0
         },
         {
          "Date": "2019-10-06",
          "Expected files": 14,
          "Files received": 0,
          "Locatie": "FL70_B",
          "Origin": "ftp",
          "Sensor": "ALT",
          "Valid files": 0
         },
         {
          "Date": "2019-10-07",
          "Expected files": 14,
          "Files received": 0,
          "Locatie": "FL70_B",
          "Origin": "ftp",
          "Sensor": "ALT",
          "Valid files": 0
         },
         {
          "Date": "2019-10-08",
          "Expected files": 14,
          "Files received": 0.7142857142857143,
          "Locatie": "FL70_B",
          "Origin": "ftp",
          "Sensor": "ALT",
          "Valid files": 1
         },
         {
          "Date": "2019-09-09",
          "Expected files": 14,
          "Files received": 0,
          "Locatie": "FL70_C",
          "Origin": "ftp",
          "Sensor": "ALT",
          "Valid files": 0
         },
         {
          "Date": "2019-09-10",
          "Expected files": 14,
          "Files received": 0,
          "Locatie": "FL70_C",
          "Origin": "ftp",
          "Sensor": "ALT",
          "Valid files": 0
         },
         {
          "Date": "2019-09-11",
          "Expected files": 14,
          "Files received": 0,
          "Locatie": "FL70_C",
          "Origin": "ftp",
          "Sensor": "ALT",
          "Valid files": 0
         },
         {
          "Date": "2019-09-12",
          "Expected files": 14,
          "Files received": 0,
          "Locatie": "FL70_C",
          "Origin": "ftp",
          "Sensor": "ALT",
          "Valid files": 0
         },
         {
          "Date": "2019-09-13",
          "Expected files": 14,
          "Files received": 0,
          "Locatie": "FL70_C",
          "Origin": "ftp",
          "Sensor": "ALT",
          "Valid files": 0
         },
         {
          "Date": "2019-09-14",
          "Expected files": 14,
          "Files received": 0,
          "Locatie": "FL70_C",
          "Origin": "ftp",
          "Sensor": "ALT",
          "Valid files": 0
         },
         {
          "Date": "2019-09-15",
          "Expected files": 14,
          "Files received": 0,
          "Locatie": "FL70_C",
          "Origin": "ftp",
          "Sensor": "ALT",
          "Valid files": 0
         },
         {
          "Date": "2019-09-16",
          "Expected files": 14,
          "Files received": 0,
          "Locatie": "FL70_C",
          "Origin": "ftp",
          "Sensor": "ALT",
          "Valid files": 0
         },
         {
          "Date": "2019-09-17",
          "Expected files": 14,
          "Files received": 0,
          "Locatie": "FL70_C",
          "Origin": "ftp",
          "Sensor": "ALT",
          "Valid files": 0
         },
         {
          "Date": "2019-09-18",
          "Expected files": 14,
          "Files received": 0,
          "Locatie": "FL70_C",
          "Origin": "ftp",
          "Sensor": "ALT",
          "Valid files": 0
         },
         {
          "Date": "2019-09-19",
          "Expected files": 14,
          "Files received": 0,
          "Locatie": "FL70_C",
          "Origin": "ftp",
          "Sensor": "ALT",
          "Valid files": 0
         },
         {
          "Date": "2019-09-20",
          "Expected files": 14,
          "Files received": 0.14285714285714285,
          "Locatie": "FL70_C",
          "Origin": "ftp",
          "Sensor": "ALT",
          "Valid files": 1
         },
         {
          "Date": "2019-09-21",
          "Expected files": 14,
          "Files received": 0.2857142857142857,
          "Locatie": "FL70_C",
          "Origin": "ftp",
          "Sensor": "ALT",
          "Valid files": 1
         },
         {
          "Date": "2019-09-22",
          "Expected files": 14,
          "Files received": 1,
          "Locatie": "FL70_C",
          "Origin": "ftp",
          "Sensor": "ALT",
          "Valid files": 1
         },
         {
          "Date": "2019-09-23",
          "Expected files": 14,
          "Files received": 1,
          "Locatie": "FL70_C",
          "Origin": "ftp",
          "Sensor": "ALT",
          "Valid files": 1
         },
         {
          "Date": "2019-09-24",
          "Expected files": 14,
          "Files received": 1,
          "Locatie": "FL70_C",
          "Origin": "ftp",
          "Sensor": "ALT",
          "Valid files": 1
         },
         {
          "Date": "2019-09-25",
          "Expected files": 14,
          "Files received": 1,
          "Locatie": "FL70_C",
          "Origin": "ftp",
          "Sensor": "ALT",
          "Valid files": 1
         },
         {
          "Date": "2019-09-26",
          "Expected files": 14,
          "Files received": 1,
          "Locatie": "FL70_C",
          "Origin": "ftp",
          "Sensor": "ALT",
          "Valid files": 1
         },
         {
          "Date": "2019-09-27",
          "Expected files": 14,
          "Files received": 0.7142857142857143,
          "Locatie": "FL70_C",
          "Origin": "ftp",
          "Sensor": "ALT",
          "Valid files": 1
         },
         {
          "Date": "2019-09-28",
          "Expected files": 14,
          "Files received": 0.07142857142857142,
          "Locatie": "FL70_C",
          "Origin": "ftp",
          "Sensor": "ALT",
          "Valid files": 1
         },
         {
          "Date": "2019-09-29",
          "Expected files": 14,
          "Files received": 0.07142857142857142,
          "Locatie": "FL70_C",
          "Origin": "ftp",
          "Sensor": "ALT",
          "Valid files": 1
         },
         {
          "Date": "2019-09-30",
          "Expected files": 14,
          "Files received": 0,
          "Locatie": "FL70_C",
          "Origin": "ftp",
          "Sensor": "ALT",
          "Valid files": 0
         },
         {
          "Date": "2019-10-01",
          "Expected files": 14,
          "Files received": 0,
          "Locatie": "FL70_C",
          "Origin": "ftp",
          "Sensor": "ALT",
          "Valid files": 0
         },
         {
          "Date": "2019-10-02",
          "Expected files": 14,
          "Files received": 0,
          "Locatie": "FL70_C",
          "Origin": "ftp",
          "Sensor": "ALT",
          "Valid files": 0
         },
         {
          "Date": "2019-10-03",
          "Expected files": 14,
          "Files received": 0,
          "Locatie": "FL70_C",
          "Origin": "ftp",
          "Sensor": "ALT",
          "Valid files": 0
         },
         {
          "Date": "2019-10-04",
          "Expected files": 14,
          "Files received": 0,
          "Locatie": "FL70_C",
          "Origin": "ftp",
          "Sensor": "ALT",
          "Valid files": 0
         },
         {
          "Date": "2019-10-05",
          "Expected files": 14,
          "Files received": 0,
          "Locatie": "FL70_C",
          "Origin": "ftp",
          "Sensor": "ALT",
          "Valid files": 0
         },
         {
          "Date": "2019-10-06",
          "Expected files": 14,
          "Files received": 0,
          "Locatie": "FL70_C",
          "Origin": "ftp",
          "Sensor": "ALT",
          "Valid files": 0
         },
         {
          "Date": "2019-10-07",
          "Expected files": 14,
          "Files received": 0.5714285714285714,
          "Locatie": "FL70_C",
          "Origin": "ftp",
          "Sensor": "ALT",
          "Valid files": 1
         },
         {
          "Date": "2019-10-08",
          "Expected files": 14,
          "Files received": 1,
          "Locatie": "FL70_C",
          "Origin": "ftp",
          "Sensor": "ALT",
          "Valid files": 1
         },
         {
          "Date": "2019-09-09",
          "Expected files": 14,
          "Files received": 0,
          "Locatie": "FL67_C",
          "Origin": "ftp",
          "Sensor": "ALT",
          "Valid files": 0
         },
         {
          "Date": "2019-09-10",
          "Expected files": 14,
          "Files received": 0,
          "Locatie": "FL67_C",
          "Origin": "ftp",
          "Sensor": "ALT",
          "Valid files": 0
         },
         {
          "Date": "2019-09-11",
          "Expected files": 14,
          "Files received": 0,
          "Locatie": "FL67_C",
          "Origin": "ftp",
          "Sensor": "ALT",
          "Valid files": 0
         },
         {
          "Date": "2019-09-12",
          "Expected files": 14,
          "Files received": 0,
          "Locatie": "FL67_C",
          "Origin": "ftp",
          "Sensor": "ALT",
          "Valid files": 0
         },
         {
          "Date": "2019-09-13",
          "Expected files": 14,
          "Files received": 0,
          "Locatie": "FL67_C",
          "Origin": "ftp",
          "Sensor": "ALT",
          "Valid files": 0
         },
         {
          "Date": "2019-09-14",
          "Expected files": 14,
          "Files received": 0,
          "Locatie": "FL67_C",
          "Origin": "ftp",
          "Sensor": "ALT",
          "Valid files": 0
         },
         {
          "Date": "2019-09-15",
          "Expected files": 14,
          "Files received": 0,
          "Locatie": "FL67_C",
          "Origin": "ftp",
          "Sensor": "ALT",
          "Valid files": 0
         },
         {
          "Date": "2019-09-16",
          "Expected files": 14,
          "Files received": 0,
          "Locatie": "FL67_C",
          "Origin": "ftp",
          "Sensor": "ALT",
          "Valid files": 0
         },
         {
          "Date": "2019-09-17",
          "Expected files": 14,
          "Files received": 0,
          "Locatie": "FL67_C",
          "Origin": "ftp",
          "Sensor": "ALT",
          "Valid files": 0
         },
         {
          "Date": "2019-09-18",
          "Expected files": 14,
          "Files received": 0,
          "Locatie": "FL67_C",
          "Origin": "ftp",
          "Sensor": "ALT",
          "Valid files": 0
         },
         {
          "Date": "2019-09-19",
          "Expected files": 14,
          "Files received": 0,
          "Locatie": "FL67_C",
          "Origin": "ftp",
          "Sensor": "ALT",
          "Valid files": 0
         },
         {
          "Date": "2019-09-20",
          "Expected files": 14,
          "Files received": 0,
          "Locatie": "FL67_C",
          "Origin": "ftp",
          "Sensor": "ALT",
          "Valid files": 0
         },
         {
          "Date": "2019-09-21",
          "Expected files": 14,
          "Files received": 0,
          "Locatie": "FL67_C",
          "Origin": "ftp",
          "Sensor": "ALT",
          "Valid files": 0
         },
         {
          "Date": "2019-09-22",
          "Expected files": 14,
          "Files received": 0,
          "Locatie": "FL67_C",
          "Origin": "ftp",
          "Sensor": "ALT",
          "Valid files": 0
         },
         {
          "Date": "2019-09-23",
          "Expected files": 14,
          "Files received": 0,
          "Locatie": "FL67_C",
          "Origin": "ftp",
          "Sensor": "ALT",
          "Valid files": 0
         },
         {
          "Date": "2019-09-24",
          "Expected files": 14,
          "Files received": 0,
          "Locatie": "FL67_C",
          "Origin": "ftp",
          "Sensor": "ALT",
          "Valid files": 0
         },
         {
          "Date": "2019-09-25",
          "Expected files": 14,
          "Files received": 0,
          "Locatie": "FL67_C",
          "Origin": "ftp",
          "Sensor": "ALT",
          "Valid files": 0
         },
         {
          "Date": "2019-09-26",
          "Expected files": 14,
          "Files received": 0,
          "Locatie": "FL67_C",
          "Origin": "ftp",
          "Sensor": "ALT",
          "Valid files": 0
         },
         {
          "Date": "2019-09-27",
          "Expected files": 14,
          "Files received": 0,
          "Locatie": "FL67_C",
          "Origin": "ftp",
          "Sensor": "ALT",
          "Valid files": 0
         },
         {
          "Date": "2019-09-28",
          "Expected files": 14,
          "Files received": 0,
          "Locatie": "FL67_C",
          "Origin": "ftp",
          "Sensor": "ALT",
          "Valid files": 0
         },
         {
          "Date": "2019-09-29",
          "Expected files": 14,
          "Files received": 0,
          "Locatie": "FL67_C",
          "Origin": "ftp",
          "Sensor": "ALT",
          "Valid files": 0
         },
         {
          "Date": "2019-09-30",
          "Expected files": 14,
          "Files received": 0,
          "Locatie": "FL67_C",
          "Origin": "ftp",
          "Sensor": "ALT",
          "Valid files": 0
         },
         {
          "Date": "2019-10-01",
          "Expected files": 14,
          "Files received": 0,
          "Locatie": "FL67_C",
          "Origin": "ftp",
          "Sensor": "ALT",
          "Valid files": 0
         },
         {
          "Date": "2019-10-02",
          "Expected files": 14,
          "Files received": 0,
          "Locatie": "FL67_C",
          "Origin": "ftp",
          "Sensor": "ALT",
          "Valid files": 0
         },
         {
          "Date": "2019-10-03",
          "Expected files": 14,
          "Files received": 0,
          "Locatie": "FL67_C",
          "Origin": "ftp",
          "Sensor": "ALT",
          "Valid files": 0
         },
         {
          "Date": "2019-10-04",
          "Expected files": 14,
          "Files received": 0,
          "Locatie": "FL67_C",
          "Origin": "ftp",
          "Sensor": "ALT",
          "Valid files": 0
         },
         {
          "Date": "2019-10-05",
          "Expected files": 14,
          "Files received": 0,
          "Locatie": "FL67_C",
          "Origin": "ftp",
          "Sensor": "ALT",
          "Valid files": 0
         },
         {
          "Date": "2019-10-06",
          "Expected files": 14,
          "Files received": 0,
          "Locatie": "FL67_C",
          "Origin": "ftp",
          "Sensor": "ALT",
          "Valid files": 0
         },
         {
          "Date": "2019-10-07",
          "Expected files": 14,
          "Files received": 0,
          "Locatie": "FL67_C",
          "Origin": "ftp",
          "Sensor": "ALT",
          "Valid files": 0
         },
         {
          "Date": "2019-10-08",
          "Expected files": 14,
          "Files received": 0,
          "Locatie": "FL67_C",
          "Origin": "ftp",
          "Sensor": "ALT",
          "Valid files": 0
         }
        ]
       },
       "encoding": {
        "facet": {
         "field": "Origin",
         "title": "ALT",
         "type": "nominal"
        },
        "fill": {
         "field": "Files received",
         "legend": {
          "format": ".0%",
          "title": "Health",
          "values": [
           0,
           0.5,
           1
          ]
         },
         "scale": {
          "domain": [
           0,
           0.85,
           1
          ],
          "range": [
           "red",
           "#FFDC00",
           "#2ECC40"
          ]
         },
         "type": "quantitative"
        },
        "stroke": {
         "condition": {
          "selection": "selector003",
          "value": "black"
         },
         "value": "white"
        },
        "tooltip": [
         {
          "field": "Locatie",
          "type": "nominal"
         },
         {
          "field": "Sensor",
          "type": "nominal"
         },
         {
          "field": "Expected files",
          "type": "quantitative"
         },
         {
          "field": "Date",
          "type": "nominal"
         },
         {
          "field": "Files received",
          "format": ".0%",
          "type": "quantitative"
         },
         {
          "field": "Valid files",
          "format": ".0%",
          "type": "quantitative"
         }
        ],
        "x": {
         "field": "Locatie",
         "title": null,
         "type": "nominal"
        },
        "y": {
         "field": "Date",
         "sort": "descending",
         "type": "nominal"
        }
       },
       "mark": "rect",
       "resolve": {
        "scale": {
         "x": "independent"
        }
       },
       "selection": {
        "selector003": {
         "empty": "none",
         "on": "mouseover",
         "type": "single"
        }
       }
      },
      "image/png": "[encoded data removed]",
      "text/plain": [
       "<VegaLite 3 object>\n",
       "\n",
       "If you see this message, it means the renderer has not been properly enabled\n",
       "for the frontend that you are using. For more information, see\n",
       "https://altair-viz.github.io/user_guide/troubleshooting.html\n"
      ]
     },
     "metadata": {},
     "output_type": "display_data"
    }
   ],
   "source": [
    "for s in df.Sensor.unique():\n",
    "    df_sensor = df[df.Sensor == s]\n",
    "    \n",
    "    single_nearest = alt.selection_single(on='mouseover', empty='none')\n",
    "\n",
    "    chart = alt.Chart(df_sensor).mark_rect().encode(\n",
    "        y=alt.Y('Date:N', sort='descending'),\n",
    "        x=alt.X('Locatie:N', title=None),\n",
    "        fill=alt.Fill('Files received:Q', scale=alt.Scale(domain=[0, .85,\n",
    "                      1.00], range=['red', '#FFDC00', '#2ECC40']),\n",
    "                      legend=alt.Legend(values=[0, 0.50, 1], title='Health'\n",
    "                      , format='.0%')),\n",
    "        stroke=alt.condition(single_nearest, alt.StrokeValue('black'),\n",
    "                             alt.StrokeValue('white')),\n",
    "        tooltip=[\n",
    "            'Locatie:N',\n",
    "            'Sensor:N',\n",
    "            'Expected files:Q',\n",
    "            'Date:N',\n",
    "            alt.Tooltip('Files received:Q', format='.0%'),\n",
    "            alt.Tooltip('Valid files:Q', format='.0%'),\n",
    "            ],\n",
    "        facet=alt.Facet('Origin:N', title=s),\n",
    "        ).resolve_scale(x='independent'\n",
    "                        ).configure_scale(bandPaddingInner=0.05,\n",
    "                bandPaddingOuter=0.05).configure_axisX(labelAngle=-45).configure_axisY(titleAngle=0,\n",
    "                titleAlign='left', titleY=-3,\n",
    "                titleX=-50).configure_header(titleFontSize=16,\n",
    "                titleAnchor='start').add_selection(single_nearest)    \n",
    "    chart.display()"
   ]
  },
  {
   "cell_type": "code",
   "execution_count": null,
   "metadata": {},
   "outputs": [],
   "source": []
  }
 ],
 "metadata": {
  "kernelspec": {
   "display_name": "Python 3",
   "language": "python",
   "name": "python3"
  },
  "language_info": {
   "codemirror_mode": {
    "name": "ipython",
    "version": 3
   },
   "file_extension": ".py",
   "mimetype": "text/x-python",
   "name": "python",
   "nbconvert_exporter": "python",
   "pygments_lexer": "ipython3",
   "version": "3.6.5"
  }
 },
 "nbformat": 4,
 "nbformat_minor": 4
}
