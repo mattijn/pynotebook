{
 "cells": [
  {
   "cell_type": "code",
   "execution_count": 1,
   "metadata": {},
   "outputs": [],
   "source": [
    "import hkvfewspy as fews"
   ]
  },
  {
   "cell_type": "code",
   "execution_count": 3,
   "metadata": {},
   "outputs": [],
   "source": [
    "pi =  fews.Pi()"
   ]
  },
  {
   "cell_type": "code",
   "execution_count": 4,
   "metadata": {},
   "outputs": [],
   "source": [
    "pi.setClient(wsdl='http://172.17.40.13:8080/FewsWebServices/fewspiservice?wsdl')"
   ]
  },
  {
   "cell_type": "code",
   "execution_count": 5,
   "metadata": {},
   "outputs": [
    {
     "data": {
      "text/plain": [
       "namespace(f_fewsPi={'id': 'f_fewsPi', 'name': 'Fews-Pi service', 'description': ''}, f_waterAllocation={'id': 'f_waterAllocation', 'name': 'Water Allocation', 'description': ''}, f_waterAvailability={'id': 'f_waterAvailability', 'name': 'Water Availability', 'description': ''}, f_waterDemand={'id': 'f_waterDemand', 'name': 'Water Demand', 'description': ''})"
      ]
     },
     "execution_count": 5,
     "metadata": {},
     "output_type": "execute_result"
    }
   ],
   "source": [
    "pi.getFilters()"
   ]
  },
  {
   "cell_type": "code",
   "execution_count": 6,
   "metadata": {},
   "outputs": [
    {
     "data": {
      "application/vnd.vegalite.v2+json": {
       "$schema": "https://vega.github.io/schema/vega-lite/v2.6.0.json",
       "config": {
        "view": {
         "height": 300,
         "width": 400
        }
       },
       "data": {
        "name": "data-cf5a331d23aeb8e7b4e4bb4565eb3a18"
       },
       "datasets": {
        "data-cf5a331d23aeb8e7b4e4bb4565eb3a18": [
         {
          "name": "a",
          "value": 4
         },
         {
          "name": "b",
          "value": 10
         }
        ]
       },
       "encoding": {
        "x": {
         "field": "name",
         "type": "ordinal"
        },
        "y": {
         "field": "value",
         "type": "quantitative"
        }
       },
       "mark": {
        "size": 10,
        "type": "bar"
       }
      },
      "image/png": "[encoded data removed]",
      "text/plain": [
       "<VegaLite 2 object>\n",
       "\n",
       "If you see this message, it means the renderer has not been properly enabled\n",
       "for the frontend that you are using. For more information, see\n",
       "https://altair-viz.github.io/user_guide/troubleshooting.html\n"
      ]
     },
     "execution_count": 6,
     "metadata": {},
     "output_type": "execute_result"
    }
   ],
   "source": [
    "import altair as alt\n",
    "import pandas as pd\n",
    "\n",
    "data = pd.DataFrame({'name': ['a', 'b'], 'value': [4, 10]})\n",
    "\n",
    "alt.Chart(data).mark_bar(size=10).encode(\n",
    "    x='name:O',\n",
    "    y='value:Q'\n",
    ")"
   ]
  },
  {
   "cell_type": "code",
   "execution_count": 7,
   "metadata": {},
   "outputs": [
    {
     "data": {
      "application/vnd.vegalite.v2+json": {
       "$schema": "https://vega.github.io/schema/vega-lite/v2.6.0.json",
       "config": {
        "view": {
         "height": 300,
         "width": 400
        }
       },
       "data": {
        "name": "data-cf5a331d23aeb8e7b4e4bb4565eb3a18"
       },
       "datasets": {
        "data-cf5a331d23aeb8e7b4e4bb4565eb3a18": [
         {
          "name": "a",
          "value": 4
         },
         {
          "name": "b",
          "value": 10
         }
        ]
       },
       "encoding": {
        "x": {
         "field": "name",
         "scale": {
          "rangeStep": 100
         },
         "type": "nominal"
        },
        "y": {
         "field": "value",
         "type": "quantitative"
        }
       },
       "mark": {
        "size": 30,
        "type": "bar"
       }
      },
      "image/png": "[encoded data removed]",
      "text/plain": [
       "<VegaLite 2 object>\n",
       "\n",
       "If you see this message, it means the renderer has not been properly enabled\n",
       "for the frontend that you are using. For more information, see\n",
       "https://altair-viz.github.io/user_guide/troubleshooting.html\n"
      ]
     },
     "execution_count": 7,
     "metadata": {},
     "output_type": "execute_result"
    }
   ],
   "source": [
    "alt.Chart(data).mark_bar(size=30).encode(\n",
    "    alt.X('name:N', scale=alt.Scale(rangeStep=100)),\n",
    "    y='value:Q'\n",
    ")"
   ]
  },
  {
   "cell_type": "code",
   "execution_count": null,
   "metadata": {},
   "outputs": [],
   "source": []
  }
 ],
 "metadata": {
  "kernelspec": {
   "display_name": "Python 3",
   "language": "python",
   "name": "python3"
  },
  "language_info": {
   "codemirror_mode": {
    "name": "ipython",
    "version": 3
   },
   "file_extension": ".py",
   "mimetype": "text/x-python",
   "name": "python",
   "nbconvert_exporter": "python",
   "pygments_lexer": "ipython3",
   "version": "3.6.5"
  }
 },
 "nbformat": 4,
 "nbformat_minor": 2
}
