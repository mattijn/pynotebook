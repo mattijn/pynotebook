{
 "cells": [
  {
   "cell_type": "code",
   "execution_count": 1,
   "metadata": {},
   "outputs": [],
   "source": [
    "import geopandas as gpd"
   ]
  },
  {
   "cell_type": "code",
   "execution_count": 7,
   "metadata": {},
   "outputs": [
    {
     "name": "stdout",
     "output_type": "stream",
     "text": [
      "D:\\Projects\\Pr\\2505.12\\Eduvizig\\Areas (gebieden)\\geo_areas_4326.shp\n",
      "D:\\Projects\\Pr\\2505.12\\Eduvizig\\Dikesystems (dijkringen)\\geo_dikesystems_4326.shp\n",
      "D:\\Projects\\Pr\\2505.12\\Eduvizig\\Other (overige)\\rivers.shp\n",
      "D:\\Projects\\Pr\\2505.12\\Eduvizig\\Sections (waterkeringen)\\geo_sections_4326.shp\n",
      "D:\\Projects\\Pr\\2505.12\\Eduvizig\\Segments (ringdelen)\\geo_segments_4326.shp\n",
      "D:\\Projects\\Pr\\2505.12\\Eduvizig\\Sensor stations (waterstandlocaties)\\stations.shp\n"
     ]
    }
   ],
   "source": [
    "from pathlib import Path\n",
    "\n",
    "in_dir = r'D:\\Projects\\Pr\\2505.12\\Eduvizig'\n",
    "shps = []\n",
    "for filename in Path(in_dir).rglob('*.shp'):\n",
    "    if '_bak' not in filename.name:\n",
    "        print(filename)\n",
    "        shps.append(filename)"
   ]
  },
  {
   "cell_type": "code",
   "execution_count": 8,
   "metadata": {},
   "outputs": [
    {
     "data": {
      "text/plain": [
       "[WindowsPath('D:/Projects/Pr/2505.12/Eduvizig/Areas (gebieden)/geo_areas_4326.shp'),\n",
       " WindowsPath('D:/Projects/Pr/2505.12/Eduvizig/Dikesystems (dijkringen)/geo_dikesystems_4326.shp'),\n",
       " WindowsPath('D:/Projects/Pr/2505.12/Eduvizig/Other (overige)/rivers.shp'),\n",
       " WindowsPath('D:/Projects/Pr/2505.12/Eduvizig/Sections (waterkeringen)/geo_sections_4326.shp'),\n",
       " WindowsPath('D:/Projects/Pr/2505.12/Eduvizig/Segments (ringdelen)/geo_segments_4326.shp'),\n",
       " WindowsPath('D:/Projects/Pr/2505.12/Eduvizig/Sensor stations (waterstandlocaties)/stations.shp')]"
      ]
     },
     "execution_count": 8,
     "metadata": {},
     "output_type": "execute_result"
    }
   ],
   "source": [
    "shps"
   ]
  },
  {
   "cell_type": "code",
   "execution_count": 31,
   "metadata": {},
   "outputs": [],
   "source": [
    "gdf = gpd.read_file(shps[0]), encoding='ISO-8859-2')"
   ]
  },
  {
   "cell_type": "code",
   "execution_count": null,
   "metadata": {},
   "outputs": [],
   "source": [
    "Pilisszentlászló"
   ]
  },
  {
   "cell_type": "code",
   "execution_count": 45,
   "metadata": {},
   "outputs": [],
   "source": [
    "gdf.name = gdf.name.str.replace('Ã¡', 'á')\n",
    "gdf.name = gdf.name.str.replace('Ã³', 'ó')\n",
    "gdf.name = gdf.name.str.replace('Ã©', 'é')\n",
    "gdf.name = gdf.name.str.replace('Ãº', 'ú')\n",
    "gdf.name = gdf.name.str.replace('Å‘', 'ő')\n",
    "gdf.name = gdf.name.str.replace('Ã¶', 'ö')\n",
    "gdf.name = gdf.name.str.replace('Ã¼', 'ü')\n",
    "gdf.name = gdf.name.str.replace('Å±', 'ű')\n",
    "gdf.name = gdf.name.str.replace('Ã\\x81', 'Á')\n",
    "gdf.name = gdf.name.str.replace('Ãš', 'Ú')\n",
    "gdf.name = gdf.name.str.replace('Ã–', 'Ö')\n",
    "gdf.name = gdf.name.str.replace('Ã‰', 'Á')"
   ]
  },
  {
   "cell_type": "code",
   "execution_count": 52,
   "metadata": {},
   "outputs": [
    {
     "data": {
      "text/plain": [
       "WindowsPath('D:/Projects/Pr/2505.12/Eduvizig/Areas (gebieden)/geo_areas_4326.shp')"
      ]
     },
     "execution_count": 52,
     "metadata": {},
     "output_type": "execute_result"
    }
   ],
   "source": [
    "shps[0]"
   ]
  },
  {
   "cell_type": "code",
   "execution_count": 54,
   "metadata": {},
   "outputs": [],
   "source": [
    "gdf.to_file(r'D:/Projects/Pr/2505.12/Eduvizig/Areas (gebieden)/geo_areas_4326.shp', encoding='ISO-8859-2')"
   ]
  }
 ],
 "metadata": {
  "kernelspec": {
   "display_name": "Python 3",
   "language": "python",
   "name": "python3"
  },
  "language_info": {
   "codemirror_mode": {
    "name": "ipython",
    "version": 3
   },
   "file_extension": ".py",
   "mimetype": "text/x-python",
   "name": "python",
   "nbconvert_exporter": "python",
   "pygments_lexer": "ipython3",
   "version": "3.6.5"
  }
 },
 "nbformat": 4,
 "nbformat_minor": 4
}
