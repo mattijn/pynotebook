{
 "cells": [
  {
   "cell_type": "code",
   "execution_count": 1,
   "metadata": {},
   "outputs": [],
   "source": [
    "from TDLR.dissolve import dissolve\n",
    "from TDLR.timedependentlocations_AFVG import timedependentlocations_AFVG\n",
    "from TDLR.timedependentlocations_PG import timedependentlocations_PG\n",
    "from TDLR.timedependentlocations_RBG import timedependentlocations_RBG\n",
    "from TDLR.timedependentrelations import timedependentrelations"
   ]
  },
  {
   "cell_type": "code",
   "execution_count": null,
   "metadata": {},
   "outputs": [],
   "source": [
    "# path to settings file\n",
    "settings_file = r\"D:\\jupyter notebooks\\4019.10 TimeDependentLocatios HDSR\\final\\TDLR_settings.json\""
   ]
  },
  {
   "cell_type": "code",
   "execution_count": null,
   "metadata": {},
   "outputs": [],
   "source": [
    "# # dissolve geodump shapefiles\n",
    "# dissolve(settings_file)"
   ]
  },
  {
   "cell_type": "code",
   "execution_count": null,
   "metadata": {},
   "outputs": [],
   "source": [
    "# derive time dependency afvoergebieden\n",
    "timedependentlocations_AFVG(settings_file)"
   ]
  },
  {
   "cell_type": "code",
   "execution_count": null,
   "metadata": {},
   "outputs": [],
   "source": [
    "# derive time dependency peilgebieden\n",
    "timedependentlocations_PG(settings_file)"
   ]
  },
  {
   "cell_type": "code",
   "execution_count": null,
   "metadata": {},
   "outputs": [],
   "source": [
    "# derive time dependency rioolbemalingsgebieden\n",
    "timedependentlocations_RBG(settings_file)"
   ]
  },
  {
   "cell_type": "code",
   "execution_count": null,
   "metadata": {},
   "outputs": [],
   "source": [
    "# derive time dependent relations\n",
    "timedependentrelations(settings_file)"
   ]
  },
  {
   "cell_type": "code",
   "execution_count": null,
   "metadata": {},
   "outputs": [],
   "source": [
    "# # script to compare the loggings of two runs\n",
    "# import pandas as pd\n",
    "\n",
    "# log_201904 = pd.read_csv('Log_file_PG_base_20190401.csv',index_col = 0)\n",
    "# log_201904_vanaf03 = log_201904[log_201904.index > 0].reset_index(drop = True)\n",
    "\n",
    "# log_201903 = pd.read_csv('Log_file_PG_base_20190301.csv',index_col = 0)\n",
    "\n",
    "# logg_diff = log_201904_vanaf03.copy()\n",
    "\n",
    "\n",
    "# for col in log_201904_vanaf03.columns:\n",
    "#     if col == 'Date_base':\n",
    "#         continue\n",
    "#     logg_diff[col] = log_201904_vanaf03[col] - log_201903[col]\n",
    "\n",
    "# logg_diff.to_csv('Log_diff_201904_2019_03.csv',index = False)"
   ]
  }
 ],
 "metadata": {
  "kernelspec": {
   "display_name": "Python 3",
   "language": "python",
   "name": "python3"
  },
  "language_info": {
   "codemirror_mode": {
    "name": "ipython",
    "version": 3
   },
   "file_extension": ".py",
   "mimetype": "text/x-python",
   "name": "python",
   "nbconvert_exporter": "python",
   "pygments_lexer": "ipython3",
   "version": "3.6.5"
  }
 },
 "nbformat": 4,
 "nbformat_minor": 4
}
