{
 "cells": [
  {
   "cell_type": "code",
   "execution_count": 4,
   "metadata": {},
   "outputs": [],
   "source": [
    "from glob import glob\n",
    "from osgeo import gdal"
   ]
  },
  {
   "cell_type": "code",
   "execution_count": 2,
   "metadata": {},
   "outputs": [],
   "source": [
    "in_dir = r'D:\\Projects\\Pr\\3730.15\\Werkfolder\\ci\\wrij\\Overstromingsscenarios\\*.tif'\n",
    "list_in = glob(in_dir)"
   ]
  },
  {
   "cell_type": "code",
   "execution_count": 3,
   "metadata": {},
   "outputs": [
    {
     "data": {
      "text/plain": [
       "['D:\\\\Projects\\\\Pr\\\\3730.15\\\\Werkfolder\\\\ci\\\\wrij\\\\Overstromingsscenarios\\\\geo_rijn_en_ijssel__giesbeek__tp-1d__getroffenen.tif',\n",
       " 'D:\\\\Projects\\\\Pr\\\\3730.15\\\\Werkfolder\\\\ci\\\\wrij\\\\Overstromingsscenarios\\\\geo_rijn_en_ijssel__giesbeek__tp-1d__nattevoeten.tif',\n",
       " 'D:\\\\Projects\\\\Pr\\\\3730.15\\\\Werkfolder\\\\ci\\\\wrij\\\\Overstromingsscenarios\\\\geo_rijn_en_ijssel__giesbeek__tp-1d__schade.tif',\n",
       " 'D:\\\\Projects\\\\Pr\\\\3730.15\\\\Werkfolder\\\\ci\\\\wrij\\\\Overstromingsscenarios\\\\geo_rijn_en_ijssel__giesbeek__tp-1d__slachtoffers.tif',\n",
       " 'D:\\\\Projects\\\\Pr\\\\3730.15\\\\Werkfolder\\\\ci\\\\wrij\\\\Overstromingsscenarios\\\\geo_rijn_en_ijssel__giesbeek__tp-1d__waterdiepte.tif',\n",
       " 'D:\\\\Projects\\\\Pr\\\\3730.15\\\\Werkfolder\\\\ci\\\\wrij\\\\Overstromingsscenarios\\\\geo_rijn_en_ijssel__giesbeek__tpplus1d__getroffenen.tif',\n",
       " 'D:\\\\Projects\\\\Pr\\\\3730.15\\\\Werkfolder\\\\ci\\\\wrij\\\\Overstromingsscenarios\\\\geo_rijn_en_ijssel__giesbeek__tpplus1d__nattevoeten.tif',\n",
       " 'D:\\\\Projects\\\\Pr\\\\3730.15\\\\Werkfolder\\\\ci\\\\wrij\\\\Overstromingsscenarios\\\\geo_rijn_en_ijssel__giesbeek__tpplus1d__schade.tif',\n",
       " 'D:\\\\Projects\\\\Pr\\\\3730.15\\\\Werkfolder\\\\ci\\\\wrij\\\\Overstromingsscenarios\\\\geo_rijn_en_ijssel__giesbeek__tpplus1d__slachtoffers.tif',\n",
       " 'D:\\\\Projects\\\\Pr\\\\3730.15\\\\Werkfolder\\\\ci\\\\wrij\\\\Overstromingsscenarios\\\\geo_rijn_en_ijssel__giesbeek__tpplus1d__waterdiepte.tif',\n",
       " 'D:\\\\Projects\\\\Pr\\\\3730.15\\\\Werkfolder\\\\ci\\\\wrij\\\\Overstromingsscenarios\\\\geo_rijn_en_ijssel__giesbeek__tp__getroffenen.tif',\n",
       " 'D:\\\\Projects\\\\Pr\\\\3730.15\\\\Werkfolder\\\\ci\\\\wrij\\\\Overstromingsscenarios\\\\geo_rijn_en_ijssel__giesbeek__tp__nattevoeten.tif',\n",
       " 'D:\\\\Projects\\\\Pr\\\\3730.15\\\\Werkfolder\\\\ci\\\\wrij\\\\Overstromingsscenarios\\\\geo_rijn_en_ijssel__giesbeek__tp__schade.tif',\n",
       " 'D:\\\\Projects\\\\Pr\\\\3730.15\\\\Werkfolder\\\\ci\\\\wrij\\\\Overstromingsscenarios\\\\geo_rijn_en_ijssel__giesbeek__tp__slachtoffers.tif',\n",
       " 'D:\\\\Projects\\\\Pr\\\\3730.15\\\\Werkfolder\\\\ci\\\\wrij\\\\Overstromingsscenarios\\\\geo_rijn_en_ijssel__giesbeek__tp__waterdiepte.tif',\n",
       " 'D:\\\\Projects\\\\Pr\\\\3730.15\\\\Werkfolder\\\\ci\\\\wrij\\\\Overstromingsscenarios\\\\geo_rijn_en_ijssel__gravenwaardse_dam__tp-1d__getroffenen.tif',\n",
       " 'D:\\\\Projects\\\\Pr\\\\3730.15\\\\Werkfolder\\\\ci\\\\wrij\\\\Overstromingsscenarios\\\\geo_rijn_en_ijssel__gravenwaardse_dam__tp-1d__nattevoeten.tif',\n",
       " 'D:\\\\Projects\\\\Pr\\\\3730.15\\\\Werkfolder\\\\ci\\\\wrij\\\\Overstromingsscenarios\\\\geo_rijn_en_ijssel__gravenwaardse_dam__tp-1d__schade.tif',\n",
       " 'D:\\\\Projects\\\\Pr\\\\3730.15\\\\Werkfolder\\\\ci\\\\wrij\\\\Overstromingsscenarios\\\\geo_rijn_en_ijssel__gravenwaardse_dam__tp-1d__slachtoffers.tif',\n",
       " 'D:\\\\Projects\\\\Pr\\\\3730.15\\\\Werkfolder\\\\ci\\\\wrij\\\\Overstromingsscenarios\\\\geo_rijn_en_ijssel__gravenwaardse_dam__tp-1d__waterdiepte.tif',\n",
       " 'D:\\\\Projects\\\\Pr\\\\3730.15\\\\Werkfolder\\\\ci\\\\wrij\\\\Overstromingsscenarios\\\\geo_rijn_en_ijssel__gravenwaardse_dam__tpplus1d__getroffenen.tif',\n",
       " 'D:\\\\Projects\\\\Pr\\\\3730.15\\\\Werkfolder\\\\ci\\\\wrij\\\\Overstromingsscenarios\\\\geo_rijn_en_ijssel__gravenwaardse_dam__tpplus1d__nattevoeten.tif',\n",
       " 'D:\\\\Projects\\\\Pr\\\\3730.15\\\\Werkfolder\\\\ci\\\\wrij\\\\Overstromingsscenarios\\\\geo_rijn_en_ijssel__gravenwaardse_dam__tpplus1d__schade.tif',\n",
       " 'D:\\\\Projects\\\\Pr\\\\3730.15\\\\Werkfolder\\\\ci\\\\wrij\\\\Overstromingsscenarios\\\\geo_rijn_en_ijssel__gravenwaardse_dam__tpplus1d__slachtoffers.tif',\n",
       " 'D:\\\\Projects\\\\Pr\\\\3730.15\\\\Werkfolder\\\\ci\\\\wrij\\\\Overstromingsscenarios\\\\geo_rijn_en_ijssel__gravenwaardse_dam__tpplus1d__waterdiepte.tif',\n",
       " 'D:\\\\Projects\\\\Pr\\\\3730.15\\\\Werkfolder\\\\ci\\\\wrij\\\\Overstromingsscenarios\\\\geo_rijn_en_ijssel__gravenwaardse_dam__tp__getroffenen.tif',\n",
       " 'D:\\\\Projects\\\\Pr\\\\3730.15\\\\Werkfolder\\\\ci\\\\wrij\\\\Overstromingsscenarios\\\\geo_rijn_en_ijssel__gravenwaardse_dam__tp__nattevoeten.tif',\n",
       " 'D:\\\\Projects\\\\Pr\\\\3730.15\\\\Werkfolder\\\\ci\\\\wrij\\\\Overstromingsscenarios\\\\geo_rijn_en_ijssel__gravenwaardse_dam__tp__schade.tif',\n",
       " 'D:\\\\Projects\\\\Pr\\\\3730.15\\\\Werkfolder\\\\ci\\\\wrij\\\\Overstromingsscenarios\\\\geo_rijn_en_ijssel__gravenwaardse_dam__tp__slachtoffers.tif',\n",
       " 'D:\\\\Projects\\\\Pr\\\\3730.15\\\\Werkfolder\\\\ci\\\\wrij\\\\Overstromingsscenarios\\\\geo_rijn_en_ijssel__gravenwaardse_dam__tp__waterdiepte.tif',\n",
       " 'D:\\\\Projects\\\\Pr\\\\3730.15\\\\Werkfolder\\\\ci\\\\wrij\\\\Overstromingsscenarios\\\\geo_rijn_en_ijssel__herwen__tp-1d__getroffenen.tif',\n",
       " 'D:\\\\Projects\\\\Pr\\\\3730.15\\\\Werkfolder\\\\ci\\\\wrij\\\\Overstromingsscenarios\\\\geo_rijn_en_ijssel__herwen__tp-1d__nattevoeten.tif',\n",
       " 'D:\\\\Projects\\\\Pr\\\\3730.15\\\\Werkfolder\\\\ci\\\\wrij\\\\Overstromingsscenarios\\\\geo_rijn_en_ijssel__herwen__tp-1d__schade.tif',\n",
       " 'D:\\\\Projects\\\\Pr\\\\3730.15\\\\Werkfolder\\\\ci\\\\wrij\\\\Overstromingsscenarios\\\\geo_rijn_en_ijssel__herwen__tp-1d__slachtoffers.tif',\n",
       " 'D:\\\\Projects\\\\Pr\\\\3730.15\\\\Werkfolder\\\\ci\\\\wrij\\\\Overstromingsscenarios\\\\geo_rijn_en_ijssel__herwen__tp-1d__waterdiepte.tif',\n",
       " 'D:\\\\Projects\\\\Pr\\\\3730.15\\\\Werkfolder\\\\ci\\\\wrij\\\\Overstromingsscenarios\\\\geo_rijn_en_ijssel__herwen__tpplus1d__getroffenen.tif',\n",
       " 'D:\\\\Projects\\\\Pr\\\\3730.15\\\\Werkfolder\\\\ci\\\\wrij\\\\Overstromingsscenarios\\\\geo_rijn_en_ijssel__herwen__tpplus1d__nattevoeten.tif',\n",
       " 'D:\\\\Projects\\\\Pr\\\\3730.15\\\\Werkfolder\\\\ci\\\\wrij\\\\Overstromingsscenarios\\\\geo_rijn_en_ijssel__herwen__tpplus1d__schade.tif',\n",
       " 'D:\\\\Projects\\\\Pr\\\\3730.15\\\\Werkfolder\\\\ci\\\\wrij\\\\Overstromingsscenarios\\\\geo_rijn_en_ijssel__herwen__tpplus1d__slachtoffers.tif',\n",
       " 'D:\\\\Projects\\\\Pr\\\\3730.15\\\\Werkfolder\\\\ci\\\\wrij\\\\Overstromingsscenarios\\\\geo_rijn_en_ijssel__herwen__tpplus1d__waterdiepte.tif',\n",
       " 'D:\\\\Projects\\\\Pr\\\\3730.15\\\\Werkfolder\\\\ci\\\\wrij\\\\Overstromingsscenarios\\\\geo_rijn_en_ijssel__herwen__tp__getroffenen.tif',\n",
       " 'D:\\\\Projects\\\\Pr\\\\3730.15\\\\Werkfolder\\\\ci\\\\wrij\\\\Overstromingsscenarios\\\\geo_rijn_en_ijssel__herwen__tp__nattevoeten.tif',\n",
       " 'D:\\\\Projects\\\\Pr\\\\3730.15\\\\Werkfolder\\\\ci\\\\wrij\\\\Overstromingsscenarios\\\\geo_rijn_en_ijssel__herwen__tp__schade.tif',\n",
       " 'D:\\\\Projects\\\\Pr\\\\3730.15\\\\Werkfolder\\\\ci\\\\wrij\\\\Overstromingsscenarios\\\\geo_rijn_en_ijssel__herwen__tp__slachtoffers.tif',\n",
       " 'D:\\\\Projects\\\\Pr\\\\3730.15\\\\Werkfolder\\\\ci\\\\wrij\\\\Overstromingsscenarios\\\\geo_rijn_en_ijssel__herwen__tp__waterdiepte.tif',\n",
       " 'D:\\\\Projects\\\\Pr\\\\3730.15\\\\Werkfolder\\\\ci\\\\wrij\\\\Overstromingsscenarios\\\\geo_rijn_en_ijssel__kandiagemaal__tp-1d__getroffenen.tif',\n",
       " 'D:\\\\Projects\\\\Pr\\\\3730.15\\\\Werkfolder\\\\ci\\\\wrij\\\\Overstromingsscenarios\\\\geo_rijn_en_ijssel__kandiagemaal__tp-1d__nattevoeten.tif',\n",
       " 'D:\\\\Projects\\\\Pr\\\\3730.15\\\\Werkfolder\\\\ci\\\\wrij\\\\Overstromingsscenarios\\\\geo_rijn_en_ijssel__kandiagemaal__tp-1d__schade.tif',\n",
       " 'D:\\\\Projects\\\\Pr\\\\3730.15\\\\Werkfolder\\\\ci\\\\wrij\\\\Overstromingsscenarios\\\\geo_rijn_en_ijssel__kandiagemaal__tp-1d__slachtoffers.tif',\n",
       " 'D:\\\\Projects\\\\Pr\\\\3730.15\\\\Werkfolder\\\\ci\\\\wrij\\\\Overstromingsscenarios\\\\geo_rijn_en_ijssel__kandiagemaal__tp-1d__waterdiepte.tif',\n",
       " 'D:\\\\Projects\\\\Pr\\\\3730.15\\\\Werkfolder\\\\ci\\\\wrij\\\\Overstromingsscenarios\\\\geo_rijn_en_ijssel__kandiagemaal__tpplus1d__getroffenen.tif',\n",
       " 'D:\\\\Projects\\\\Pr\\\\3730.15\\\\Werkfolder\\\\ci\\\\wrij\\\\Overstromingsscenarios\\\\geo_rijn_en_ijssel__kandiagemaal__tpplus1d__nattevoeten.tif',\n",
       " 'D:\\\\Projects\\\\Pr\\\\3730.15\\\\Werkfolder\\\\ci\\\\wrij\\\\Overstromingsscenarios\\\\geo_rijn_en_ijssel__kandiagemaal__tpplus1d__schade.tif',\n",
       " 'D:\\\\Projects\\\\Pr\\\\3730.15\\\\Werkfolder\\\\ci\\\\wrij\\\\Overstromingsscenarios\\\\geo_rijn_en_ijssel__kandiagemaal__tpplus1d__slachtoffers.tif',\n",
       " 'D:\\\\Projects\\\\Pr\\\\3730.15\\\\Werkfolder\\\\ci\\\\wrij\\\\Overstromingsscenarios\\\\geo_rijn_en_ijssel__kandiagemaal__tpplus1d__waterdiepte.tif',\n",
       " 'D:\\\\Projects\\\\Pr\\\\3730.15\\\\Werkfolder\\\\ci\\\\wrij\\\\Overstromingsscenarios\\\\geo_rijn_en_ijssel__kandiagemaal__tp__getroffenen.tif',\n",
       " 'D:\\\\Projects\\\\Pr\\\\3730.15\\\\Werkfolder\\\\ci\\\\wrij\\\\Overstromingsscenarios\\\\geo_rijn_en_ijssel__kandiagemaal__tp__nattevoeten.tif',\n",
       " 'D:\\\\Projects\\\\Pr\\\\3730.15\\\\Werkfolder\\\\ci\\\\wrij\\\\Overstromingsscenarios\\\\geo_rijn_en_ijssel__kandiagemaal__tp__schade.tif',\n",
       " 'D:\\\\Projects\\\\Pr\\\\3730.15\\\\Werkfolder\\\\ci\\\\wrij\\\\Overstromingsscenarios\\\\geo_rijn_en_ijssel__kandiagemaal__tp__slachtoffers.tif',\n",
       " 'D:\\\\Projects\\\\Pr\\\\3730.15\\\\Werkfolder\\\\ci\\\\wrij\\\\Overstromingsscenarios\\\\geo_rijn_en_ijssel__kandiagemaal__tp__waterdiepte.tif',\n",
       " 'D:\\\\Projects\\\\Pr\\\\3730.15\\\\Werkfolder\\\\ci\\\\wrij\\\\Overstromingsscenarios\\\\geo_rijn_en_ijssel__loo__tp-1d__getroffenen.tif',\n",
       " 'D:\\\\Projects\\\\Pr\\\\3730.15\\\\Werkfolder\\\\ci\\\\wrij\\\\Overstromingsscenarios\\\\geo_rijn_en_ijssel__loo__tp-1d__nattevoeten.tif',\n",
       " 'D:\\\\Projects\\\\Pr\\\\3730.15\\\\Werkfolder\\\\ci\\\\wrij\\\\Overstromingsscenarios\\\\geo_rijn_en_ijssel__loo__tp-1d__schade.tif',\n",
       " 'D:\\\\Projects\\\\Pr\\\\3730.15\\\\Werkfolder\\\\ci\\\\wrij\\\\Overstromingsscenarios\\\\geo_rijn_en_ijssel__loo__tp-1d__slachtoffers.tif',\n",
       " 'D:\\\\Projects\\\\Pr\\\\3730.15\\\\Werkfolder\\\\ci\\\\wrij\\\\Overstromingsscenarios\\\\geo_rijn_en_ijssel__loo__tp-1d__waterdiepte.tif',\n",
       " 'D:\\\\Projects\\\\Pr\\\\3730.15\\\\Werkfolder\\\\ci\\\\wrij\\\\Overstromingsscenarios\\\\geo_rijn_en_ijssel__loo__tpplus1d__getroffenen.tif',\n",
       " 'D:\\\\Projects\\\\Pr\\\\3730.15\\\\Werkfolder\\\\ci\\\\wrij\\\\Overstromingsscenarios\\\\geo_rijn_en_ijssel__loo__tpplus1d__nattevoeten.tif',\n",
       " 'D:\\\\Projects\\\\Pr\\\\3730.15\\\\Werkfolder\\\\ci\\\\wrij\\\\Overstromingsscenarios\\\\geo_rijn_en_ijssel__loo__tpplus1d__schade.tif',\n",
       " 'D:\\\\Projects\\\\Pr\\\\3730.15\\\\Werkfolder\\\\ci\\\\wrij\\\\Overstromingsscenarios\\\\geo_rijn_en_ijssel__loo__tpplus1d__slachtoffers.tif',\n",
       " 'D:\\\\Projects\\\\Pr\\\\3730.15\\\\Werkfolder\\\\ci\\\\wrij\\\\Overstromingsscenarios\\\\geo_rijn_en_ijssel__loo__tpplus1d__waterdiepte.tif',\n",
       " 'D:\\\\Projects\\\\Pr\\\\3730.15\\\\Werkfolder\\\\ci\\\\wrij\\\\Overstromingsscenarios\\\\geo_rijn_en_ijssel__loo__tp__getroffenen.tif',\n",
       " 'D:\\\\Projects\\\\Pr\\\\3730.15\\\\Werkfolder\\\\ci\\\\wrij\\\\Overstromingsscenarios\\\\geo_rijn_en_ijssel__loo__tp__nattevoeten.tif',\n",
       " 'D:\\\\Projects\\\\Pr\\\\3730.15\\\\Werkfolder\\\\ci\\\\wrij\\\\Overstromingsscenarios\\\\geo_rijn_en_ijssel__loo__tp__schade.tif',\n",
       " 'D:\\\\Projects\\\\Pr\\\\3730.15\\\\Werkfolder\\\\ci\\\\wrij\\\\Overstromingsscenarios\\\\geo_rijn_en_ijssel__loo__tp__slachtoffers.tif',\n",
       " 'D:\\\\Projects\\\\Pr\\\\3730.15\\\\Werkfolder\\\\ci\\\\wrij\\\\Overstromingsscenarios\\\\geo_rijn_en_ijssel__loo__tp__waterdiepte.tif',\n",
       " 'D:\\\\Projects\\\\Pr\\\\3730.15\\\\Werkfolder\\\\ci\\\\wrij\\\\Overstromingsscenarios\\\\geo_rijn_en_ijssel__oude_ijssel__tpplus1d__getroffenen.tif',\n",
       " 'D:\\\\Projects\\\\Pr\\\\3730.15\\\\Werkfolder\\\\ci\\\\wrij\\\\Overstromingsscenarios\\\\geo_rijn_en_ijssel__oude_ijssel__tpplus1d__nattevoeten.tif',\n",
       " 'D:\\\\Projects\\\\Pr\\\\3730.15\\\\Werkfolder\\\\ci\\\\wrij\\\\Overstromingsscenarios\\\\geo_rijn_en_ijssel__oude_ijssel__tpplus1d__schade.tif',\n",
       " 'D:\\\\Projects\\\\Pr\\\\3730.15\\\\Werkfolder\\\\ci\\\\wrij\\\\Overstromingsscenarios\\\\geo_rijn_en_ijssel__oude_ijssel__tpplus1d__slachtoffers.tif',\n",
       " 'D:\\\\Projects\\\\Pr\\\\3730.15\\\\Werkfolder\\\\ci\\\\wrij\\\\Overstromingsscenarios\\\\geo_rijn_en_ijssel__oude_ijssel__tpplus1d__waterdiepte.tif',\n",
       " 'D:\\\\Projects\\\\Pr\\\\3730.15\\\\Werkfolder\\\\ci\\\\wrij\\\\Overstromingsscenarios\\\\geo_rijn_en_ijssel__oude_ijssel__tp__getroffenen.tif',\n",
       " 'D:\\\\Projects\\\\Pr\\\\3730.15\\\\Werkfolder\\\\ci\\\\wrij\\\\Overstromingsscenarios\\\\geo_rijn_en_ijssel__oude_ijssel__tp__nattevoeten.tif',\n",
       " 'D:\\\\Projects\\\\Pr\\\\3730.15\\\\Werkfolder\\\\ci\\\\wrij\\\\Overstromingsscenarios\\\\geo_rijn_en_ijssel__oude_ijssel__tp__schade.tif',\n",
       " 'D:\\\\Projects\\\\Pr\\\\3730.15\\\\Werkfolder\\\\ci\\\\wrij\\\\Overstromingsscenarios\\\\geo_rijn_en_ijssel__oude_ijssel__tp__slachtoffers.tif',\n",
       " 'D:\\\\Projects\\\\Pr\\\\3730.15\\\\Werkfolder\\\\ci\\\\wrij\\\\Overstromingsscenarios\\\\geo_rijn_en_ijssel__oude_ijssel__tp__waterdiepte.tif',\n",
       " 'D:\\\\Projects\\\\Pr\\\\3730.15\\\\Werkfolder\\\\ci\\\\wrij\\\\Overstromingsscenarios\\\\geo_rijn_en_ijssel__spijk__tp-1d__getroffenen.tif',\n",
       " 'D:\\\\Projects\\\\Pr\\\\3730.15\\\\Werkfolder\\\\ci\\\\wrij\\\\Overstromingsscenarios\\\\geo_rijn_en_ijssel__spijk__tp-1d__nattevoeten.tif',\n",
       " 'D:\\\\Projects\\\\Pr\\\\3730.15\\\\Werkfolder\\\\ci\\\\wrij\\\\Overstromingsscenarios\\\\geo_rijn_en_ijssel__spijk__tp-1d__schade.tif',\n",
       " 'D:\\\\Projects\\\\Pr\\\\3730.15\\\\Werkfolder\\\\ci\\\\wrij\\\\Overstromingsscenarios\\\\geo_rijn_en_ijssel__spijk__tp-1d__slachtoffers.tif',\n",
       " 'D:\\\\Projects\\\\Pr\\\\3730.15\\\\Werkfolder\\\\ci\\\\wrij\\\\Overstromingsscenarios\\\\geo_rijn_en_ijssel__spijk__tp-1d__waterdiepte.tif',\n",
       " 'D:\\\\Projects\\\\Pr\\\\3730.15\\\\Werkfolder\\\\ci\\\\wrij\\\\Overstromingsscenarios\\\\geo_rijn_en_ijssel__spijk__tpplus1d__getroffenen.tif',\n",
       " 'D:\\\\Projects\\\\Pr\\\\3730.15\\\\Werkfolder\\\\ci\\\\wrij\\\\Overstromingsscenarios\\\\geo_rijn_en_ijssel__spijk__tpplus1d__nattevoeten.tif',\n",
       " 'D:\\\\Projects\\\\Pr\\\\3730.15\\\\Werkfolder\\\\ci\\\\wrij\\\\Overstromingsscenarios\\\\geo_rijn_en_ijssel__spijk__tpplus1d__schade.tif',\n",
       " 'D:\\\\Projects\\\\Pr\\\\3730.15\\\\Werkfolder\\\\ci\\\\wrij\\\\Overstromingsscenarios\\\\geo_rijn_en_ijssel__spijk__tpplus1d__slachtoffers.tif',\n",
       " 'D:\\\\Projects\\\\Pr\\\\3730.15\\\\Werkfolder\\\\ci\\\\wrij\\\\Overstromingsscenarios\\\\geo_rijn_en_ijssel__spijk__tpplus1d__waterdiepte.tif',\n",
       " 'D:\\\\Projects\\\\Pr\\\\3730.15\\\\Werkfolder\\\\ci\\\\wrij\\\\Overstromingsscenarios\\\\geo_rijn_en_ijssel__spijk__tp__getroffenen.tif',\n",
       " 'D:\\\\Projects\\\\Pr\\\\3730.15\\\\Werkfolder\\\\ci\\\\wrij\\\\Overstromingsscenarios\\\\geo_rijn_en_ijssel__spijk__tp__nattevoeten.tif',\n",
       " 'D:\\\\Projects\\\\Pr\\\\3730.15\\\\Werkfolder\\\\ci\\\\wrij\\\\Overstromingsscenarios\\\\geo_rijn_en_ijssel__spijk__tp__schade.tif',\n",
       " 'D:\\\\Projects\\\\Pr\\\\3730.15\\\\Werkfolder\\\\ci\\\\wrij\\\\Overstromingsscenarios\\\\geo_rijn_en_ijssel__spijk__tp__slachtoffers.tif',\n",
       " 'D:\\\\Projects\\\\Pr\\\\3730.15\\\\Werkfolder\\\\ci\\\\wrij\\\\Overstromingsscenarios\\\\geo_rijn_en_ijssel__spijk__tp__waterdiepte.tif']"
      ]
     },
     "execution_count": 3,
     "metadata": {},
     "output_type": "execute_result"
    }
   ],
   "source": [
    "list_in"
   ]
  },
  {
   "cell_type": "code",
   "execution_count": null,
   "metadata": {},
   "outputs": [],
   "source": []
  }
 ],
 "metadata": {
  "kernelspec": {
   "display_name": "Python 3",
   "language": "python",
   "name": "python3"
  },
  "language_info": {
   "codemirror_mode": {
    "name": "ipython",
    "version": 3
   },
   "file_extension": ".py",
   "mimetype": "text/x-python",
   "name": "python",
   "nbconvert_exporter": "python",
   "pygments_lexer": "ipython3",
   "version": "3.6.5"
  }
 },
 "nbformat": 4,
 "nbformat_minor": 4
}
