{
 "cells": [
  {
   "cell_type": "code",
   "execution_count": 5,
   "metadata": {},
   "outputs": [],
   "source": [
    "import geopandas as gpd\n",
    "from shapely.ops import linemerge"
   ]
  },
  {
   "cell_type": "code",
   "execution_count": 21,
   "metadata": {},
   "outputs": [],
   "source": [
    "fp1 = r\"D:\\Projects\\Pr\\2505.12\\Dresden\\Sections (waterkeringen)\\geo_sections_4326_gtHQ10.shp\"\n",
    "fp2 = r\"D:\\Projects\\Pr\\2505.12\\Dresden\\Sections (waterkeringen)\\geo_sections_4326_ltHQ10.shp\"\n",
    "gdf1 = gpd.read_file(fp1)\n",
    "gdf2 = gpd.read_file(fp2)"
   ]
  },
  {
   "cell_type": "code",
   "execution_count": 28,
   "metadata": {},
   "outputs": [],
   "source": [
    "data = [\n",
    "    {'id':1, 'segmentid':1, 'name':'gtHQ10'},\n",
    "    {'id':2, 'segmentid':2, 'name':'ltHQ10'}\n",
    "]\n",
    "index = [\n",
    "    0, \n",
    "    1\n",
    "]\n",
    "geometry = [\n",
    "    linemerge(gdf1.geometry.tolist()),\n",
    "    linemerge(gdf1.geometry.tolist())\n",
    "]"
   ]
  },
  {
   "cell_type": "code",
   "execution_count": 29,
   "metadata": {},
   "outputs": [],
   "source": [
    "gdf_section = gpd.GeoDataFrame(data=data, index=index, crs={'init':'epsg:4326'}, geometry=geometry)"
   ]
  },
  {
   "cell_type": "code",
   "execution_count": 31,
   "metadata": {},
   "outputs": [],
   "source": [
    "fp_out = r\"D:\\Projects\\Pr\\2505.12\\Dresden\\Sections (waterkeringen)\\geo_sections_4326.shp\"\n",
    "gdf_section.to_file(fp_out)"
   ]
  },
  {
   "cell_type": "code",
   "execution_count": null,
   "metadata": {},
   "outputs": [],
   "source": []
  },
  {
   "cell_type": "code",
   "execution_count": null,
   "metadata": {},
   "outputs": [],
   "source": []
  },
  {
   "cell_type": "code",
   "execution_count": 34,
   "metadata": {},
   "outputs": [],
   "source": [
    "data = [\n",
    "    {'id':1, 'dikesystem':1, 'name':'segment gtHQ10'},\n",
    "    {'id':2, 'dikesystem':1, 'name':'segment ltHQ10'}\n",
    "]\n",
    "index = [\n",
    "    0, \n",
    "    1\n",
    "]\n",
    "geometry = [\n",
    "    linemerge(gdf1.geometry.tolist()),\n",
    "    linemerge(gdf1.geometry.tolist())\n",
    "]"
   ]
  },
  {
   "cell_type": "code",
   "execution_count": 35,
   "metadata": {},
   "outputs": [],
   "source": [
    "gdf_segment = gpd.GeoDataFrame(data=data, index=index, crs={'init':'epsg:4326'}, geometry=geometry)"
   ]
  },
  {
   "cell_type": "code",
   "execution_count": 36,
   "metadata": {},
   "outputs": [],
   "source": [
    "fp_out = r\"D:\\Projects\\Pr\\2505.12\\Dresden\\Segments (ringdelen)\\geo_segments_4326.shp\"\n",
    "gdf_segment.to_file(fp_out)"
   ]
  },
  {
   "cell_type": "code",
   "execution_count": null,
   "metadata": {},
   "outputs": [],
   "source": []
  }
 ],
 "metadata": {
  "kernelspec": {
   "display_name": "Python 3",
   "language": "python",
   "name": "python3"
  },
  "language_info": {
   "codemirror_mode": {
    "name": "ipython",
    "version": 3
   },
   "file_extension": ".py",
   "mimetype": "text/x-python",
   "name": "python",
   "nbconvert_exporter": "python",
   "pygments_lexer": "ipython3",
   "version": "3.6.5"
  }
 },
 "nbformat": 4,
 "nbformat_minor": 4
}
