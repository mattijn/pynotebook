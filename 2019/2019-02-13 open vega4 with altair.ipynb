{
 "cells": [
  {
   "cell_type": "code",
   "execution_count": 1,
   "metadata": {},
   "outputs": [],
   "source": [
    "from IPython.display import display"
   ]
  },
  {
   "cell_type": "code",
   "execution_count": 2,
   "metadata": {},
   "outputs": [
    {
     "data": {
      "application/vnd.vega.v4+json": {
       "$schema": "https://vega.github.io/schema/vega/v4.json",
       "axes": [
        {
         "orient": "bottom",
         "scale": "xscale"
        },
        {
         "orient": "left",
         "scale": "yscale"
        }
       ],
       "data": [
        {
         "name": "data_points",
         "on": [
          {
           "modify": "src",
           "trigger": "src",
           "values": "drag"
          },
          {
           "insert": "addPoint",
           "trigger": "addPoint"
          },
          {
           "remove": "remPoint",
           "trigger": "remPoint"
          }
         ],
         "values": [
          {
           "x": 3,
           "y": 3.1
          },
          {
           "x": 31.587500000000002,
           "y": 3.7
          },
          {
           "x": 40.7875,
           "y": 8
          },
          {
           "x": 52,
           "y": 8
          },
          {
           "x": 61,
           "y": 4
          },
          {
           "x": 90,
           "y": 4
          }
         ]
        }
       ],
       "height": 200,
       "marks": [
        {
         "encode": {
          "update": {
           "fill": {
            "value": "steelblue"
           },
           "fillOpacity": {
            "value": 0.35
           },
           "x": {
            "field": "x",
            "scale": "xscale"
           },
           "y": {
            "field": "y",
            "scale": "yscale"
           },
           "y2": {
            "scale": "yscale",
            "value": 0
           }
          }
         },
         "from": {
          "data": "data_points"
         },
         "interactive": false,
         "sort": {
          "field": "x"
         },
         "type": "area"
        },
        {
         "encode": {
          "update": {
           "stroke": {
            "value": "steelblue"
           },
           "strokeWidth": {
            "value": 4
           },
           "x": {
            "field": "x",
            "scale": "xscale"
           },
           "y": {
            "field": "y",
            "scale": "yscale"
           }
          }
         },
         "from": {
          "data": "data_points"
         },
         "interactive": false,
         "sort": {
          "field": "x"
         },
         "type": "line"
        },
        {
         "encode": {
          "hover": {
           "fill": {
            "value": "cyan"
           },
           "stroke": {
            "value": "cyan"
           }
          },
          "update": {
           "fill": {
            "value": "orange"
           },
           "stroke": {
            "value": "orange"
           },
           "strokeWidth": {
            "value": 2
           },
           "x": {
            "field": "x",
            "scale": "xscale"
           },
           "y": {
            "field": "y",
            "scale": "yscale"
           }
          }
         },
         "from": {
          "data": "data_points"
         },
         "name": "data_points_point",
         "sort": {
          "field": "x"
         },
         "type": "symbol"
        }
       ],
       "padding": 5,
       "scales": [
        {
         "domain": [
          0,
          100
         ],
         "name": "xscale",
         "range": "width",
         "type": "linear",
         "zero": false
        },
        {
         "domain": [
          0,
          10
         ],
         "name": "yscale",
         "range": "height",
         "type": "linear"
        }
       ],
       "signals": [
        {
         "name": "src",
         "on": [
          {
           "events": "@data_points_point:mousedown",
           "update": "datum"
          },
          {
           "events": "window:mouseup",
           "update": "!datum"
          }
         ],
         "value": "!datum"
        },
        {
         "name": "drag",
         "on": [
          {
           "events": "window:mousemove, window:mousedown",
           "update": "{x: invert('xscale', clamp(x(), 0, width)), y: invert('yscale', clamp(y(),0,height))}"
          }
         ],
         "value": "datum"
        },
        {
         "name": "addPoint",
         "on": [
          {
           "events": "mousedown[event.buttons && event.shiftKey && !event.altKey]{20}",
           "update": "{x: invert('xscale', x()), y: invert('yscale', y())}"
          }
         ]
        },
        {
         "name": "remPoint",
         "on": [
          {
           "events": "mousedown[event.buttons && !event.shiftKey && event.altKey]{20}",
           "update": "datum"
          }
         ]
        }
       ],
       "width": 500
      },
      "image/png": "[encoded data removed]"
     },
     "metadata": {},
     "output_type": "display_data"
    }
   ],
   "source": [
    "display({\n",
    "    \"application/vnd.vega.v4+json\": {\n",
    "        \"$schema\": \"https://vega.github.io/schema/vega/v4.json\",\n",
    "        \"width\": 500,\n",
    "        \"height\": 200,\n",
    "        \"padding\": 5,\n",
    "        \"data\": [\n",
    "          {\n",
    "            \"name\": \"data_points\", \n",
    "            \"values\": [\n",
    "                {\"x\": 3, \"y\": 3.1}, {\"x\": 20, \"y\": 9.5}, {\"x\": 42, \"y\": 8},\n",
    "                {\"x\": 52, \"y\": 8},  {\"x\": 61, \"y\": 4}, {\"x\": 90, \"y\": 4}\n",
    "            ],\n",
    "            \"on\": [\n",
    "              {\"trigger\": \"src\", \"modify\": \"src\", \"values\": \"drag\"},\n",
    "              {\"trigger\": \"addPoint\", \"insert\": \"addPoint\"},\n",
    "              {\"trigger\": \"remPoint\", \"remove\": \"remPoint\"}\n",
    "            ]\n",
    "          }\n",
    "        ],\n",
    "        \"signals\": [\n",
    "          {\n",
    "            \"name\": \"src\",\n",
    "            \"value\": \"!datum\",\n",
    "            \"on\": [\n",
    "              {\"events\": \"@data_points_point:mousedown\", \"update\": \"datum\"},\n",
    "              {\"events\": \"window:mouseup\", \"update\": \"!datum\"}\n",
    "            ]\n",
    "          },\n",
    "          {\n",
    "            \"name\": \"drag\",\n",
    "            \"value\": \"datum\",\n",
    "            \"on\": [\n",
    "              {\n",
    "                \"events\": \"window:mousemove, window:mousedown\",\n",
    "                \"update\": \"{x: invert('xscale', clamp(x(), 0, width)), y: invert('yscale', clamp(y(),0,height))}\"\n",
    "              }\n",
    "            ]\n",
    "          },\n",
    "          {\n",
    "            \"name\": \"addPoint\",\n",
    "            \"on\": [\n",
    "              {\n",
    "                \"events\": \"mousedown[event.buttons && event.shiftKey && !event.altKey]{20}\",\n",
    "                \"update\": \"{x: invert('xscale', x()), y: invert('yscale', y())}\"\n",
    "              }\n",
    "            ]\n",
    "          },\n",
    "          {\n",
    "            \"name\": \"remPoint\",\n",
    "            \"on\": [\n",
    "              {\n",
    "                \"events\": \"mousedown[event.buttons && !event.shiftKey && event.altKey]{20}\",\n",
    "                \"update\": \"datum\"\n",
    "              }\n",
    "            ]\n",
    "          }    \n",
    "        ],\n",
    "        \"scales\": [\n",
    "          {\n",
    "            \"name\": \"xscale\",\n",
    "            \"type\": \"linear\",\n",
    "            \"range\": \"width\",\n",
    "            \"zero\": False,\n",
    "            \"domain\": [0, 100]\n",
    "          },\n",
    "          {\n",
    "            \"name\": \"yscale\",\n",
    "            \"type\": \"linear\",\n",
    "            \"range\": \"height\",\n",
    "            \"domain\": [0, 10]\n",
    "          }\n",
    "        ],\n",
    "        \"axes\": [\n",
    "          {\n",
    "            \"orient\": \"bottom\",\n",
    "            \"scale\": \"xscale\"\n",
    "          },\n",
    "          {\n",
    "            \"orient\": \"left\",\n",
    "            \"scale\": \"yscale\"\n",
    "          }\n",
    "        ],\n",
    "        \"marks\": [\n",
    "          {\n",
    "            \"type\": \"area\",\n",
    "            \"interactive\": False,\n",
    "            \"from\": {\"data\": \"data_points\"},\n",
    "            \"sort\": {\"field\": \"x\"},\n",
    "            \"encode\": {\n",
    "              \"update\": {\n",
    "                \"x\": {\"scale\": \"xscale\", \"field\": \"x\"},\n",
    "                \"y\": {\"scale\": \"yscale\", \"field\": \"y\"},\n",
    "                \"y2\": {\"scale\": \"yscale\", \"value\": 0},\n",
    "                \"fill\": {\"value\": \"steelblue\"},\n",
    "                \"fillOpacity\": {\"value\": 0.35}\n",
    "              }\n",
    "            }\n",
    "          },      \n",
    "          {\n",
    "            \"type\": \"line\",\n",
    "            \"interactive\": False,\n",
    "            \"from\": {\"data\": \"data_points\"},\n",
    "            \"sort\": {\"field\": \"x\"},\n",
    "            \"encode\": {\n",
    "              \"update\": {\n",
    "                \"x\": {\"scale\": \"xscale\", \"field\": \"x\"},\n",
    "                \"y\": {\"scale\": \"yscale\", \"field\": \"y\"},\n",
    "                \"stroke\": {\"value\": \"steelblue\"},\n",
    "                \"strokeWidth\": {\"value\": 4}\n",
    "              }\n",
    "            }\n",
    "          },\n",
    "          {\n",
    "            \"name\": \"data_points_point\",\n",
    "            \"type\": \"symbol\",\n",
    "            \"from\": {\"data\": \"data_points\"},\n",
    "            \"sort\": {\"field\": \"x\"},\n",
    "            \"encode\": {\n",
    "              \"update\": {\n",
    "                \"x\": {\"scale\": \"xscale\", \"field\": \"x\"},\n",
    "                \"y\": {\"scale\": \"yscale\", \"field\": \"y\"},\n",
    "                \"stroke\": {\"value\": \"orange\"},\n",
    "                \"fill\": {\"value\": \"orange\"},\n",
    "                \"strokeWidth\": {\"value\": 2}\n",
    "              },\n",
    "              \"hover\": {\n",
    "                \"stroke\": {\"value\": \"cyan\"},\n",
    "                \"fill\": {\"value\": \"cyan\"},\n",
    "              }\n",
    "            }\n",
    "          }\n",
    "        ]\n",
    "}}, raw=True)"
   ]
  },
  {
   "cell_type": "markdown",
   "metadata": {},
   "source": [
    "Interactions\n",
    "* Drag a point when mouse-down on point\n",
    "* Insert a point with Shift + click on a location in the chart\n",
    "* Remove a point with Alt + click on a point (on Mac this is Option + click)."
   ]
  },
  {
   "cell_type": "code",
   "execution_count": null,
   "metadata": {},
   "outputs": [],
   "source": []
  }
 ],
 "metadata": {
  "kernelspec": {
   "display_name": "Python 3",
   "language": "python",
   "name": "python3"
  },
  "language_info": {
   "codemirror_mode": {
    "name": "ipython",
    "version": 3
   },
   "file_extension": ".py",
   "mimetype": "text/x-python",
   "name": "python",
   "nbconvert_exporter": "python",
   "pygments_lexer": "ipython3",
   "version": "3.6.5"
  }
 },
 "nbformat": 4,
 "nbformat_minor": 2
}
