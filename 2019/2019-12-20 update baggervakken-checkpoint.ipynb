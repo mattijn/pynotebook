{
 "cells": [
  {
   "cell_type": "code",
   "execution_count": null,
   "metadata": {
    "hideCode": false,
    "hidePrompt": false
   },
   "outputs": [],
   "source": [
    "import geopandas as gpd\n",
    "import shapely\n",
    "import glob\n",
    "\n",
    "from shapely.geometry import Polygon\n",
    "from shapely.ops import unary_union\n",
    "import pandas as pd\n",
    "import numpy as np\n",
    "%matplotlib inline"
   ]
  },
  {
   "cell_type": "code",
   "execution_count": null,
   "metadata": {
    "hideCode": false,
    "hidePrompt": false
   },
   "outputs": [],
   "source": [
    "rd_string = (\"+proj=sterea +lat_0=52.15616055555555 +lon_0=5.38763888888889 \"\n",
    "             \"+k=0.999908 +x_0=155000 +y_0=463000 +ellps=bessel +units=m \"\n",
    "             \"+towgs84=565.2369,50.0087,465.658,-0.406857330322398,0.350732676542563,-1.8703473836068,4.0812 \"\n",
    "             \"+no_defs +no_defs\")"
   ]
  },
  {
   "cell_type": "code",
   "execution_count": null,
   "metadata": {
    "hideCode": false,
    "hidePrompt": false
   },
   "outputs": [],
   "source": [
    "path = r'D:\\Projects\\Pr\\3317.50\\Toeleveringen\\20191203_update_baggervakken'\n",
    "shp_files = glob.glob(r'{}\\**\\*.shp'.format(path), recursive=True)\n",
    "print(shp_files, len(shp_files))"
   ]
  },
  {
   "cell_type": "code",
   "execution_count": null,
   "metadata": {},
   "outputs": [],
   "source": [
    "gdf_comb = gpd.GeoDataFrame()"
   ]
  },
  {
   "cell_type": "code",
   "execution_count": null,
   "metadata": {
    "hideCode": false,
    "hidePrompt": false
   },
   "outputs": [],
   "source": [
    "for idx, shp in enumerate(shp_files):\n",
    "    print(idx, shp)\n",
    "    \n",
    "    gdf = gpd.read_file(shp)\n",
    "    gdf.crs = rd_string\n",
    "\n",
    "    end = 21000101\n",
    "    # bulk start date\n",
    "    start = 20191128 #20-08-2018\n",
    "\n",
    "    # for specific vakken set the start and objectcode\n",
    "    if '191202_Harlingen-Noordzee' in shp:\n",
    "        #start = 20181012\n",
    "        objectcode = '1.7.2.3.1.A'# 1.7.1.3.2.2'     \n",
    "    \n",
    "    if '191202_GL-GS' in shp:\n",
    "        #start = 20190330    \n",
    "        objectcode = '1.7.4.1.1.B'       \n",
    "        \n",
    "#     if '190501_Terschelling, Schuitengat' in shp:\n",
    "#         #start = 20190330\n",
    "#         objectcode = '1.7.2.1.1.B'     \n",
    "        \n",
    "#     if '190501_Va4-RG' in shp:\n",
    "#         #start = 20190330\n",
    "#         objectcode = '1.7.3.1.C'   \n",
    "        \n",
    "#     if '190501_RG' in shp:\n",
    "#         #start = 20190330\n",
    "#         objectcode = '1.7.3.1.3'           \n",
    "    \n",
    "#     # for remaining only map the objectcode and use bulk start date for date\n",
    "#     if '181105_Terschelling, Schuitengat' in shp:  \n",
    "#         objectcode = '1.7.2.1.1.B'  \n",
    "    \n",
    "#     if '181105_Va6-Va9' in shp: \n",
    "#         objectcode = '1.7.3.1.B'      \n",
    "    \n",
    "#     if '181105_Va9-Va13' in shp:\n",
    "#         objectcode = '1.7.3.1.2.B'            \n",
    "\n",
    "\n",
    "    gdf.loc[0,'geometry'] = Polygon(gdf.geometry[0])    \n",
    "    gdf['START'] = pd.Series([start], index=gdf.index)\n",
    "    gdf['END'] = pd.Series([end], index=gdf.index)\n",
    "    gdf['OBJECTCODE'] = pd.Series([objectcode], index=gdf.index)\n",
    "    \n",
    "    gdf_comb = gdf_comb.append(gdf)#, ignore_index=True)"
   ]
  },
  {
   "cell_type": "code",
   "execution_count": null,
   "metadata": {
    "hideCode": false,
    "hidePrompt": false
   },
   "outputs": [],
   "source": [
    "gdf_comb.reset_index(drop=True)"
   ]
  },
  {
   "cell_type": "code",
   "execution_count": null,
   "metadata": {
    "hideCode": false,
    "hidePrompt": false
   },
   "outputs": [],
   "source": [
    "gdf_comb.plot()"
   ]
  },
  {
   "cell_type": "code",
   "execution_count": null,
   "metadata": {},
   "outputs": [],
   "source": [
    "g1 = gdf_comb['geometry'].iloc[0]"
   ]
  },
  {
   "cell_type": "markdown",
   "metadata": {},
   "source": [
    "### read current valid shapefile"
   ]
  },
  {
   "cell_type": "code",
   "execution_count": null,
   "metadata": {
    "hideCode": false,
    "hidePrompt": false
   },
   "outputs": [],
   "source": [
    "shp_baggervakken = r\"D:\\Projects\\Pr\\3317.50\\Toeleveringen\\current\\Baggervakken.shp\"\n",
    "df_bgv = gpd.read_file(shp_baggervakken)\n",
    "df_bgv.head()"
   ]
  },
  {
   "cell_type": "markdown",
   "metadata": {},
   "source": [
    "## append new shapes baggervakken"
   ]
  },
  {
   "cell_type": "code",
   "execution_count": null,
   "metadata": {},
   "outputs": [],
   "source": [
    "df_bg_new = df_bgv.append(gdf_comb)"
   ]
  },
  {
   "cell_type": "code",
   "execution_count": null,
   "metadata": {},
   "outputs": [],
   "source": [
    "# reset and drop the index\n",
    "df_bg_new.reset_index(drop=True, inplace=True)"
   ]
  },
  {
   "cell_type": "markdown",
   "metadata": {},
   "source": [
    "### change END date last valid feature\n",
    "### and copyover other metadata to new valid feature"
   ]
  },
  {
   "cell_type": "code",
   "execution_count": null,
   "metadata": {},
   "outputs": [],
   "source": [
    "for idx,val in gdf_comb.iterrows():\n",
    "    print(val['OBJECTCODE'])\n",
    "    obj_code = val['OBJECTCODE']\n",
    "    df_sel = df_bg_new[df_bg_new['OBJECTCODE']==obj_code]\n",
    "    \n",
    "    # only select latest two known baggervakken\n",
    "    df_sel.START = df_sel.START.astype(int)\n",
    "    df_iter_two_row = df_sel.sort_values(by=['START'], ascending=False)[0:2]\n",
    "\n",
    "    # copy all column values except column START, END and geometry\n",
    "    unwanted = {'START','END','geometry'}\n",
    "    item_list = [e for e in df_iter_two_row.columns if e not in unwanted]\n",
    "    df_iter_two_row.loc[(df_iter_two_row.index.isin(df_iter_two_row.index[:1])), item_list] = df_iter_two_row.loc[(\n",
    "        df_iter_two_row.index.isin(df_iter_two_row.index[1:])), item_list].values\n",
    "\n",
    "    # change END date of former valid feature to START date of existing valid baggervak\n",
    "    df_iter_two_row.END.iloc[1] = df_iter_two_row.START.iloc[0]    \n",
    "    print(df_iter_two_row.loc[:,['END','START', 'OBJECTCODE', 'OBJECTNAAM']])\n",
    "    \n",
    "    # set adapted row in the bigger geodataframe\n",
    "    df_bg_new.iloc[df_iter_two_row.index] = df_iter_two_row    "
   ]
  },
  {
   "cell_type": "markdown",
   "metadata": {},
   "source": [
    "# update 'AREA_REAL' column for new area in m2"
   ]
  },
  {
   "cell_type": "code",
   "execution_count": null,
   "metadata": {},
   "outputs": [],
   "source": [
    "df_bg_new.loc[:,'AREA_REAL'] = np.round(df_bg_new['geometry'].area, 0)"
   ]
  },
  {
   "cell_type": "markdown",
   "metadata": {},
   "source": [
    "#### save to new shapefile"
   ]
  },
  {
   "cell_type": "code",
   "execution_count": null,
   "metadata": {},
   "outputs": [],
   "source": [
    "new_path = r'D:\\Projects\\Pr\\3317.50\\Toeleveringen\\new\\Baggervakken_20191128.shp'\n",
    "df_bg_new.to_file(new_path)"
   ]
  },
  {
   "cell_type": "code",
   "execution_count": null,
   "metadata": {},
   "outputs": [],
   "source": [
    "df_bg_new.plot()"
   ]
  },
  {
   "cell_type": "code",
   "execution_count": null,
   "metadata": {},
   "outputs": [],
   "source": [
    "df_bg_new.columns"
   ]
  },
  {
   "cell_type": "code",
   "execution_count": null,
   "metadata": {},
   "outputs": [],
   "source": [
    "df_selection = df_bg_new[df_bg_new['OBJECTCODE'] == '1.7.3.1.2.B']"
   ]
  },
  {
   "cell_type": "code",
   "execution_count": null,
   "metadata": {},
   "outputs": [],
   "source": [
    "df_custom = df_selection[['OBJECTNAAM', 'geometry']].reset_index(drop=True)"
   ]
  },
  {
   "cell_type": "code",
   "execution_count": null,
   "metadata": {},
   "outputs": [],
   "source": [
    "df_custom.to_file('')"
   ]
  },
  {
   "cell_type": "code",
   "execution_count": null,
   "metadata": {},
   "outputs": [],
   "source": [
    "duplicates_all = df_bg_new[df_bg_new['OBJECTCODE'].duplicated(keep=False)]"
   ]
  },
  {
   "cell_type": "code",
   "execution_count": null,
   "metadata": {},
   "outputs": [],
   "source": [
    "duplicates_all.index"
   ]
  },
  {
   "cell_type": "code",
   "execution_count": null,
   "metadata": {},
   "outputs": [],
   "source": []
  },
  {
   "cell_type": "code",
   "execution_count": null,
   "metadata": {},
   "outputs": [],
   "source": [
    "# EDIT: 2018-09-21 this is properly handled in above code\n",
    "## FURTHER CHANGES APPLIED IN QGIS (FILL COLUMN AND CHANGING END DATE OF PREVIOUS VALID BAGGERVAK)\n",
    "# /EDIT"
   ]
  },
  {
   "cell_type": "code",
   "execution_count": null,
   "metadata": {},
   "outputs": [],
   "source": [
    "## VALIDATE  NEW BAGGERVAKKEN"
   ]
  },
  {
   "cell_type": "code",
   "execution_count": null,
   "metadata": {},
   "outputs": [],
   "source": [
    "rd_string = (\"+proj=sterea +lat_0=52.15616055555555 +lon_0=5.38763888888889 \"\n",
    "             \"+k=0.999908 +x_0=155000 +y_0=463000 +ellps=bessel +units=m \"\n",
    "             \"+towgs84=565.2369,50.0087,465.658,-0.406857330322398,0.350732676542563,-1.8703473836068,4.0812 \"\n",
    "             \"+no_defs +no_defs\")"
   ]
  },
  {
   "cell_type": "code",
   "execution_count": null,
   "metadata": {},
   "outputs": [],
   "source": [
    "def baggervak_to_current(path_shp, crs_string):\n",
    "    \"\"\"\n",
    "    function to get current valid baggervakken\n",
    "    also sets appropriate coordinates system\n",
    "    \"\"\"\n",
    "\n",
    "    gdf = gpd.read_file(path_shp)\n",
    "    #gdf.crs = rd_string\n",
    "\n",
    "    # only get currently valid shapes\n",
    "    # get list of duplicates (both the first and last [and middles if available])\n",
    "    duplicates_all = gdf[gdf['OBJECTCODE'].duplicated(keep=False)]\n",
    "    for obj in duplicates_all['OBJECTCODE'].unique():\n",
    "        duplicates_single = duplicates_all.loc[duplicates_all['OBJECTCODE'] == obj]\n",
    "        rows2drop = duplicates_single.loc[duplicates_single['END']\n",
    "                                          != duplicates_single['END'].max()]\n",
    "        gdf.drop(rows2drop.index.tolist(), axis=0, inplace=True)\n",
    "        \n",
    "    gdf = gdf[gdf['END']=='21000101']\n",
    "    \n",
    "    \n",
    "    return gdf"
   ]
  },
  {
   "cell_type": "code",
   "execution_count": null,
   "metadata": {},
   "outputs": [],
   "source": [
    "#shp_baggervakken = r\"D:\\FEWSProjecten\\OmsWaddenzee\\trunk\\fews\\Config\\MapLayerFiles\\Baggervakken\\Baggervakken_20180921.shp\"\n",
    "shp_baggervakken = r\"D:\\Projects\\Pr\\3317.50\\Toeleveringen\\new\\Baggervakken_20191128.shp\""
   ]
  },
  {
   "cell_type": "code",
   "execution_count": null,
   "metadata": {},
   "outputs": [],
   "source": [
    "bgf_val = baggervak_to_current(shp_baggervakken, rd_string)"
   ]
  },
  {
   "cell_type": "code",
   "execution_count": null,
   "metadata": {},
   "outputs": [],
   "source": [
    "len(bgf_val['OBJECTCODE'].unique())"
   ]
  },
  {
   "cell_type": "code",
   "execution_count": null,
   "metadata": {},
   "outputs": [],
   "source": [
    "len(bgf_val['OBJECTCODE'])"
   ]
  },
  {
   "cell_type": "code",
   "execution_count": null,
   "metadata": {},
   "outputs": [],
   "source": [
    "np.sort(bgf_val['OBJECTCODE'].unique())#.sort()"
   ]
  },
  {
   "cell_type": "code",
   "execution_count": null,
   "metadata": {},
   "outputs": [],
   "source": [
    "bgf_val.to_file(r'D:\\Projects\\Pr\\3317.50\\Verzending\\20191203_update_baggervakken//Baggervakken-vanaf-11-november-2019.shp')"
   ]
  },
  {
   "cell_type": "code",
   "execution_count": null,
   "metadata": {},
   "outputs": [],
   "source": []
  }
 ],
 "metadata": {
  "kernelspec": {
   "display_name": "Python 3",
   "language": "python",
   "name": "python3"
  },
  "language_info": {
   "codemirror_mode": {
    "name": "ipython",
    "version": 3
   },
   "file_extension": ".py",
   "mimetype": "text/x-python",
   "name": "python",
   "nbconvert_exporter": "python",
   "pygments_lexer": "ipython3",
   "version": "3.6.5"
  }
 },
 "nbformat": 4,
 "nbformat_minor": 4
}
