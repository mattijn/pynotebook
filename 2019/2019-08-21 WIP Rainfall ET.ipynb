{
 "cells": [
  {
   "cell_type": "code",
   "execution_count": null,
   "metadata": {},
   "outputs": [],
   "source": [
    "import altair as alt\n",
    "\n",
    "zoom = alt.selection_interval(bind='scales', encodings=['x'])\n",
    "\n",
    "# some data\n",
    "df_url = 'https://raw.githubusercontent.com/mattijn/datasets/master/comb_chart_interactive.json'\n",
    "states = ['ParkerenKw', 'HorizontaalOpenen', 'Spuien', 'Opdrijven', 'Keren', 'AfzinkenBodem', 'AfzinkenCPSE', 'HorizontaalSluiten', 'Paraat', 'Stremmen', 'Alert', 'Gemobiliseerd', 'Rust']\n",
    "\n",
    "# charting\n",
    "top = alt.Chart(df_url).mark_line().encode(\n",
    "  x = alt.X('index:T', timeUnit = 'yearmonthdatehoursminutes', title = None),\n",
    "  y = alt.Y('value:Q', title = 'waterlevel [m+NAP]'),\n",
    "  color = alt.Color('location:N'),\n",
    "  tooltip = ['state:O', 'comp1:O', 'comp2:O', alt.Tooltip('index:T', format = '%Y-%m-%d %H:%M')]\n",
    ").properties(\n",
    "  title = 'Q3_H5_U5_D1 Failuremodus - 0'\n",
    ").add_selection(zoom)\n",
    "\n",
    "bottom = alt.Chart(df_url).mark_line().encode(\n",
    "  x = alt.X('index:T', timeUnit = 'yearmonthdatehoursminutes', title = None),\n",
    "  y = alt.Y('state:O', sort = states),\n",
    "  order = alt.Order('index:T'),\n",
    "  tooltip = ['state:O', 'comp1:O', 'comp2:O', alt.Tooltip('index:T', format = '%Y-%m-%d %H:%M')]\n",
    ").add_selection(zoom)\n",
    "\n",
    "chart = (top & bottom).configure_legend(labelLimit = 0).configure_axisY(grid=True)\n",
    "chart"
   ]
  },
  {
   "cell_type": "code",
   "execution_count": null,
   "metadata": {},
   "outputs": [],
   "source": []
  }
 ],
 "metadata": {
  "kernelspec": {
   "display_name": "Python 3",
   "language": "python",
   "name": "python3"
  },
  "language_info": {
   "codemirror_mode": {
    "name": "ipython",
    "version": 3
   },
   "file_extension": ".py",
   "mimetype": "text/x-python",
   "name": "python",
   "nbconvert_exporter": "python",
   "pygments_lexer": "ipython3",
   "version": "3.6.5"
  }
 },
 "nbformat": 4,
 "nbformat_minor": 4
}
