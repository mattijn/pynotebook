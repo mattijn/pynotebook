{
 "cells": [
  {
   "cell_type": "code",
   "execution_count": 1,
   "metadata": {},
   "outputs": [],
   "source": [
    "import geojson\n",
    "import topojson\n",
    "import pprint\n",
    "import altair as alt"
   ]
  },
  {
   "cell_type": "markdown",
   "metadata": {},
   "source": [
    "### Explaining the differences between `geojson` and `topojson` structured `json` files and their usage within Altair"
   ]
  },
  {
   "cell_type": "markdown",
   "metadata": {},
   "source": [
    "We start with creating a collection of two features containing two features, namely two adjacent polygons.\n",
    "\n",
    "Example of the two polygons that we create in the GeoJSON data format.:\n",
    "\n",
    "![alt text](data:image/svg+xml,%3Csvg%20xmlns%3D%22http%3A%2F%2Fwww.w3.org%2F2000%2Fsvg%22%20xmlns%3Axlink%3D%22http%3A%2F%2Fwww.w3.org%2F1999%2Fxlink%22%20width%3D%22100.0%22%20height%3D%22100.0%22%20viewBox%3D%22-0.08%20-0.08%202.16%201.1600000000000001%22%20preserveAspectRatio%3D%22xMinYMin%20meet%22%3E%3Cg%20transform%3D%22matrix%281%2C0%2C0%2C-1%2C0%2C1.0%29%22%3E%3Cg%3E%3Cpath%20fill-rule%3D%22evenodd%22%20fill%3D%22%2366cc99%22%20stroke%3D%22%23555555%22%20stroke-width%3D%220.0432%22%20opacity%3D%220.6%22%20d%3D%22M%200.0%2C0.0%20L%201.0%2C0.0%20L%201.0%2C1.0%20L%200.0%2C1.0%20L%200.0%2C0.0%20z%22%20%2F%3E%3Cpath%20fill-rule%3D%22evenodd%22%20fill%3D%22%2366cc99%22%20stroke%3D%22%23555555%22%20stroke-width%3D%220.0432%22%20opacity%3D%220.6%22%20d%3D%22M%201.0%2C0.0%20L%202.0%2C0.0%20L%202.0%2C1.0%20L%201.0%2C1.0%20L%201.0%2C0.0%20z%22%20%2F%3E%3C%2Fg%3E%3C%2Fg%3E%3C%2Fsvg%3E \"FeatureCollection with two Features\")"
   ]
  },
  {
   "cell_type": "code",
   "execution_count": 2,
   "metadata": {},
   "outputs": [],
   "source": [
    "feature_1 = geojson.Feature(\n",
    "    geometry=geojson.Polygon([[[0, 0], [1, 0], [1, 1], [0, 1], [0, 0]]]),\n",
    "    properties={\"name\":\"abc\"}\n",
    ")\n",
    "feature_2 = geojson.Feature(\n",
    "    geometry=geojson.Polygon([[[1, 0], [2, 0], [2, 1], [1, 1], [1, 0]]]),\n",
    "    properties={\"name\":\"def\"}\n",
    ")\n",
    "var_geojson = geojson.FeatureCollection([feature_1, feature_2])"
   ]
  },
  {
   "cell_type": "markdown",
   "metadata": {},
   "source": [
    "Inspect the created GeoJSON by pretty printing the object"
   ]
  },
  {
   "cell_type": "code",
   "execution_count": 3,
   "metadata": {},
   "outputs": [
    {
     "name": "stdout",
     "output_type": "stream",
     "text": [
      "{'features': [{'geometry': {'coordinates': [[[0, 0],\n",
      "                                             [1, 0],\n",
      "                                             [1, 1],\n",
      "                                             [0, 1],\n",
      "                                             [0, 0]]],\n",
      "                            'type': 'Polygon'},\n",
      "               'properties': {'name': 'abc'},\n",
      "               'type': 'Feature'},\n",
      "              {'geometry': {'coordinates': [[[1, 0],\n",
      "                                             [2, 0],\n",
      "                                             [2, 1],\n",
      "                                             [1, 1],\n",
      "                                             [1, 0]]],\n",
      "                            'type': 'Polygon'},\n",
      "               'properties': {'name': 'def'},\n",
      "               'type': 'Feature'}],\n",
      " 'type': 'FeatureCollection'}\n"
     ]
    }
   ],
   "source": [
    "pprint.pprint(var_geojson)"
   ]
  },
  {
   "cell_type": "markdown",
   "metadata": {},
   "source": [
    "As can be seen, the two `Polygon` `Features` are nested within the `features` object and the `geometry` is part of each `feature`."
   ]
  },
  {
   "cell_type": "markdown",
   "metadata": {},
   "source": [
    "Altair has the capability to parse nested `json` objects using the `property` key within `format`. The following is an example of such: "
   ]
  },
  {
   "cell_type": "code",
   "execution_count": 4,
   "metadata": {},
   "outputs": [
    {
     "data": {
      "application/vnd.vegalite.v3+json": {
       "$schema": "https://vega.github.io/schema/vega-lite/v3.2.1.json",
       "config": {
        "view": {
         "height": 300,
         "width": 400
        }
       },
       "data": {
        "format": {
         "property": "features",
         "type": "json"
        },
        "name": "data-a72faca7d66bcc716687d07d710f4daa"
       },
       "datasets": {
        "data-a72faca7d66bcc716687d07d710f4daa": {
         "features": [
          {
           "geometry": {
            "coordinates": [
             [
              [
               0,
               0
              ],
              [
               1,
               0
              ],
              [
               1,
               1
              ],
              [
               0,
               1
              ],
              [
               0,
               0
              ]
             ]
            ],
            "type": "Polygon"
           },
           "properties": {
            "name": "abc"
           },
           "type": "Feature"
          },
          {
           "geometry": {
            "coordinates": [
             [
              [
               1,
               0
              ],
              [
               2,
               0
              ],
              [
               2,
               1
              ],
              [
               1,
               1
              ],
              [
               1,
               0
              ]
             ]
            ],
            "type": "Polygon"
           },
           "properties": {
            "name": "def"
           },
           "type": "Feature"
          }
         ],
         "type": "FeatureCollection"
        }
       },
       "encoding": {
        "color": {
         "field": "properties.name",
         "type": "nominal"
        }
       },
       "mark": "geoshape",
       "projection": {
        "reflectY": true,
        "type": "identity"
       }
      },
      "image/png": "[encoded data removed]",
      "text/plain": [
       "<VegaLite 3 object>\n",
       "\n",
       "If you see this message, it means the renderer has not been properly enabled\n",
       "for the frontend that you are using. For more information, see\n",
       "https://altair-viz.github.io/user_guide/troubleshooting.html\n"
      ]
     },
     "execution_count": 4,
     "metadata": {},
     "output_type": "execute_result"
    }
   ],
   "source": [
    "# inline geojson data object\n",
    "data_geojson = alt.InlineData(values=var_geojson, format=alt.DataFormat(property='features',type='json')) \n",
    "\n",
    "# chart object\n",
    "alt.Chart(data_geojson).mark_geoshape(\n",
    ").encode(\n",
    "    color=\"properties.name:N\"\n",
    ").properties(\n",
    "    projection={'type': 'identity', 'reflectY': True}\n",
    ")"
   ]
  },
  {
   "cell_type": "markdown",
   "metadata": {},
   "source": [
    "TopoJSON is an extension of GeoJSON, where the `geometry`, so-called `arcs` of the `features` are referred to from a top-level object. This makes it possible to apply a hash function on the geometry, so each shared `arc` is only stored once. \n",
    "\n",
    "We can convert the `geojson` variable into a `topojson` file format structure:"
   ]
  },
  {
   "cell_type": "code",
   "execution_count": 5,
   "metadata": {},
   "outputs": [
    {
     "name": "stdout",
     "output_type": "stream",
     "text": [
      "{'arcs': [[[1.0, 1.0], [0.0, 1.0], [0.0, 0.0], [1.0, 0.0]],\n",
      "          [[1.0, 0.0], [2.0, 0.0], [2.0, 1.0], [1.0, 1.0]],\n",
      "          [[1.0, 1.0], [1.0, 0.0]]],\n",
      " 'objects': {'data': {'geometries': [{'arcs': [[-3, 0]],\n",
      "                                      'properties': {'name': 'abc'},\n",
      "                                      'type': 'Polygon'},\n",
      "                                     {'arcs': [[1, 2]],\n",
      "                                      'properties': {'name': 'def'},\n",
      "                                      'type': 'Polygon'}],\n",
      "                      'type': 'GeometryCollection'}},\n",
      " 'type': 'Topology'}\n"
     ]
    }
   ],
   "source": [
    "var_topojson = topojson.topology(var_geojson) \n",
    "pprint.pprint(var_topojson)"
   ]
  },
  {
   "cell_type": "markdown",
   "metadata": {},
   "source": [
    "Now the nested `geometry` objects are replaced by `arcs` and refer by index to the top-level `arcs` object. Instead of having a single `FeatureCollection` we now can have multiple `objects`, where our converted `FeatureCollection` is stored within the key `data` as a `GeometryCollection`.\n",
    "\n",
    "NOTE: the key-name `data` is arbitrary and differs in each dataset."
   ]
  },
  {
   "cell_type": "markdown",
   "metadata": {},
   "source": [
    "Altair has the capability to parse the nested `data` object in the `topojson` formatted structure using the `feature` key within `format`, while declaring it is a `topojson` `type`. The following is an example of such: "
   ]
  },
  {
   "cell_type": "code",
   "execution_count": 6,
   "metadata": {},
   "outputs": [
    {
     "data": {
      "application/vnd.vegalite.v3+json": {
       "$schema": "https://vega.github.io/schema/vega-lite/v3.2.1.json",
       "config": {
        "view": {
         "height": 300,
         "width": 400
        }
       },
       "data": {
        "format": {
         "feature": "data",
         "type": "topojson"
        },
        "name": "data-12b3f1abf2de37d1768211f2d382976c"
       },
       "datasets": {
        "data-12b3f1abf2de37d1768211f2d382976c": {
         "arcs": [
          [
           [
            1,
            1
           ],
           [
            0,
            1
           ],
           [
            0,
            0
           ],
           [
            1,
            0
           ]
          ],
          [
           [
            1,
            0
           ],
           [
            2,
            0
           ],
           [
            2,
            1
           ],
           [
            1,
            1
           ]
          ],
          [
           [
            1,
            1
           ],
           [
            1,
            0
           ]
          ]
         ],
         "objects": {
          "data": {
           "geometries": [
            {
             "arcs": [
              [
               -3,
               0
              ]
             ],
             "properties": {
              "name": "abc"
             },
             "type": "Polygon"
            },
            {
             "arcs": [
              [
               1,
               2
              ]
             ],
             "properties": {
              "name": "def"
             },
             "type": "Polygon"
            }
           ],
           "type": "GeometryCollection"
          }
         },
         "type": "Topology"
        }
       },
       "encoding": {
        "color": {
         "field": "properties.name",
         "type": "nominal"
        }
       },
       "mark": "geoshape",
       "projection": {
        "reflectY": true,
        "type": "identity"
       }
      },
      "image/png": "[encoded data removed]",
      "text/plain": [
       "<VegaLite 3 object>\n",
       "\n",
       "If you see this message, it means the renderer has not been properly enabled\n",
       "for the frontend that you are using. For more information, see\n",
       "https://altair-viz.github.io/user_guide/troubleshooting.html\n"
      ]
     },
     "execution_count": 6,
     "metadata": {},
     "output_type": "execute_result"
    }
   ],
   "source": [
    "# inline topojson data object\n",
    "data_topojson = alt.InlineData(values=var_topojson, format=alt.DataFormat(feature='data',type='topojson')) \n",
    "\n",
    "# chart object\n",
    "alt.Chart(data_topojson).mark_geoshape(\n",
    ").encode(\n",
    "    color=\"properties.name:N\"\n",
    ").properties(\n",
    "    projection={'type': 'identity', 'reflectY': True}\n",
    ")"
   ]
  },
  {
   "cell_type": "markdown",
   "metadata": {},
   "source": [
    "There also exist a shorthand to extract the objects from a `topojson` file if this file is accessible by URL:\n",
    "\n",
    "```python\n",
    "alt.topo_feature(url, feature)\n",
    "```"
   ]
  },
  {
   "cell_type": "markdown",
   "metadata": {},
   "source": [
    "Altair example where a `topojson` is refferred by URL"
   ]
  },
  {
   "cell_type": "code",
   "execution_count": 7,
   "metadata": {},
   "outputs": [
    {
     "data": {
      "application/vnd.vegalite.v3+json": {
       "$schema": "https://vega.github.io/schema/vega-lite/v3.2.1.json",
       "config": {
        "view": {
         "height": 300,
         "width": 400
        }
       },
       "data": {
        "format": {
         "feature": "data",
         "type": "topojson"
        },
        "url": "https://raw.githubusercontent.com/mattijn/datasets/master/two_polygons.topo.json"
       },
       "encoding": {
        "color": {
         "field": "properties.name",
         "type": "nominal"
        }
       },
       "mark": "geoshape",
       "projection": {
        "reflectY": true,
        "type": "identity"
       }
      },
      "image/png": "[encoded data removed]",
      "text/plain": [
       "<VegaLite 3 object>\n",
       "\n",
       "If you see this message, it means the renderer has not been properly enabled\n",
       "for the frontend that you are using. For more information, see\n",
       "https://altair-viz.github.io/user_guide/troubleshooting.html\n"
      ]
     },
     "execution_count": 7,
     "metadata": {},
     "output_type": "execute_result"
    }
   ],
   "source": [
    "# remote topojson data object\n",
    "url_topojson = 'https://raw.githubusercontent.com/mattijn/datasets/master/two_polygons.topo.json'\n",
    "data_topojson_remote = alt.topo_feature(url=url_topojson, feature='data')\n",
    "\n",
    "# chart object\n",
    "alt.Chart(data_topojson_remote).mark_geoshape(\n",
    ").encode(\n",
    "    color=\"properties.name:N\"\n",
    ").properties(\n",
    "    projection={'type': 'identity', 'reflectY': True}\n",
    ")"
   ]
  },
  {
   "cell_type": "markdown",
   "metadata": {},
   "source": [
    "But for `geojson` files accessible by URL there is no such shorthand and should be linked as follows:\n",
    "\n",
    "```python\n",
    "alt.Data(url, format)\n",
    "```\n",
    "\n",
    "Altair example where a `geojson` is referred by URL"
   ]
  },
  {
   "cell_type": "code",
   "execution_count": 8,
   "metadata": {},
   "outputs": [
    {
     "data": {
      "application/vnd.vegalite.v3+json": {
       "$schema": "https://vega.github.io/schema/vega-lite/v3.2.1.json",
       "config": {
        "view": {
         "height": 300,
         "width": 400
        }
       },
       "data": {
        "format": {
         "property": "features",
         "type": "json"
        },
        "url": "https://raw.githubusercontent.com/mattijn/datasets/master/two_polygons.geo.json"
       },
       "encoding": {
        "color": {
         "field": "properties.name",
         "type": "nominal"
        }
       },
       "mark": "geoshape",
       "projection": {
        "reflectY": true,
        "type": "identity"
       }
      },
      "image/png": "[encoded data removed]",
      "text/plain": [
       "<VegaLite 3 object>\n",
       "\n",
       "If you see this message, it means the renderer has not been properly enabled\n",
       "for the frontend that you are using. For more information, see\n",
       "https://altair-viz.github.io/user_guide/troubleshooting.html\n"
      ]
     },
     "execution_count": 8,
     "metadata": {},
     "output_type": "execute_result"
    }
   ],
   "source": [
    "# remote geojson data object\n",
    "url_geojson = 'https://raw.githubusercontent.com/mattijn/datasets/master/two_polygons.geo.json'\n",
    "data_geojson_remote = alt.Data(url=url_geojson, format=alt.DataFormat(property='features',type='json'))\n",
    "\n",
    "# chart object\n",
    "alt.Chart(data_geojson_remote).mark_geoshape(\n",
    ").encode(\n",
    "    color=\"properties.name:N\"\n",
    ").properties(\n",
    "    projection={'type': 'identity', 'reflectY': True}\n",
    ")"
   ]
  },
  {
   "cell_type": "code",
   "execution_count": null,
   "metadata": {},
   "outputs": [],
   "source": []
  }
 ],
 "metadata": {
  "kernelspec": {
   "display_name": "Python 3",
   "language": "python",
   "name": "python3"
  },
  "language_info": {
   "codemirror_mode": {
    "name": "ipython",
    "version": 3
   },
   "file_extension": ".py",
   "mimetype": "text/x-python",
   "name": "python",
   "nbconvert_exporter": "python",
   "pygments_lexer": "ipython3",
   "version": "3.6.5"
  }
 },
 "nbformat": 4,
 "nbformat_minor": 4
}
