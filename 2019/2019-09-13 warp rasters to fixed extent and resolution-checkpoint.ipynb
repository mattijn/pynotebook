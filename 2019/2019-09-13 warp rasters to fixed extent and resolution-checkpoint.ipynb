{
 "cells": [
  {
   "cell_type": "code",
   "execution_count": 1,
   "metadata": {},
   "outputs": [],
   "source": [
    "from osgeo import gdal, osr\n",
    "import pandas as pd\n",
    "import glob\n",
    "import os"
   ]
  },
  {
   "cell_type": "code",
   "execution_count": 2,
   "metadata": {},
   "outputs": [],
   "source": [
    "scenarios = glob.glob(r\"D:\\Projects\\Pr\\3730.15\\Werkfolder\\ci\\grave\\Overstromingsscenarios (floodscenarios)/*.asc\")\n",
    "scene = scenarios[0]"
   ]
  },
  {
   "cell_type": "code",
   "execution_count": 3,
   "metadata": {},
   "outputs": [],
   "source": [
    "extents = []\n",
    "for idx, scene in enumerate(scenarios):\n",
    "        \n",
    "    src = gdal.Open(scene)\n",
    "    xmin, xres, xskew, ymax, yskew, yres  = src.GetGeoTransform()\n",
    "    xmax = xmin + (src.RasterXSize * xres)\n",
    "    ymin = ymax + (src.RasterYSize * yres)\n",
    "    ex = {'xmin':xmin,'xmax':xmax,'ymin':ymin,'ymax':ymax}\n",
    "    \n",
    "    extents.append(ex)"
   ]
  },
  {
   "cell_type": "code",
   "execution_count": 4,
   "metadata": {},
   "outputs": [
    {
     "data": {
      "text/plain": [
       "[125000.0, 239700.0, 398000.0, 510400.0]"
      ]
     },
     "execution_count": 4,
     "metadata": {},
     "output_type": "execute_result"
    }
   ],
   "source": [
    "df = pd.DataFrame().from_records(extents)\n",
    "[df.xmin.min(), df.xmax.max(), df.ymin.min(), df.ymax.max()]"
   ]
  },
  {
   "cell_type": "code",
   "execution_count": 5,
   "metadata": {},
   "outputs": [],
   "source": [
    "in_srs = osr.SpatialReference()\n",
    "in_srs.ImportFromEPSG(28992)\n",
    "out_srs = osr.SpatialReference()\n",
    "out_srs.ImportFromEPSG(28992)\n",
    "options = gdal.WarpOptions(xRes=100, yRes=100, outputBounds=(131000, 398000, 197000, 435000), srcSRS=in_srs, dstSRS=out_srs)"
   ]
  },
  {
   "cell_type": "code",
   "execution_count": 7,
   "metadata": {},
   "outputs": [],
   "source": [
    "extents = []\n",
    "for idx, scene in enumerate(scenarios):\n",
    "    \n",
    "    file_out = os.path.splitext(scene)[0]+'.tif'\n",
    "    \n",
    "    ds = gdal.Open(scene)\n",
    "    gdal.Warp(file_out, ds, options=options)\n",
    "    ds = None"
   ]
  },
  {
   "cell_type": "code",
   "execution_count": 12,
   "metadata": {},
   "outputs": [],
   "source": [
    "inwon = r\"D:\\Projects\\Pr\\3730.15\\Werkfolder\\ci\\grave\\Inwoners\\inwoners_nan.tif\""
   ]
  },
  {
   "cell_type": "code",
   "execution_count": 13,
   "metadata": {},
   "outputs": [],
   "source": [
    "file_out = r\"D:\\Projects\\Pr\\3730.15\\Werkfolder\\ci\\grave\\tif\\Inwoners\\grave_inwoners_grid.tif\"\n",
    "ds = gdal.Open(inwon)\n",
    "gdal.Warp(file_out, ds, options=options)\n",
    "ds = None"
   ]
  },
  {
   "cell_type": "code",
   "execution_count": null,
   "metadata": {},
   "outputs": [],
   "source": []
  }
 ],
 "metadata": {
  "kernelspec": {
   "display_name": "Python 3",
   "language": "python",
   "name": "python3"
  },
  "language_info": {
   "codemirror_mode": {
    "name": "ipython",
    "version": 3
   },
   "file_extension": ".py",
   "mimetype": "text/x-python",
   "name": "python",
   "nbconvert_exporter": "python",
   "pygments_lexer": "ipython3",
   "version": "3.6.5"
  }
 },
 "nbformat": 4,
 "nbformat_minor": 4
}
