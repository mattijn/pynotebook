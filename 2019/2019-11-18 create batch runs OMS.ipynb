{
 "cells": [
  {
   "cell_type": "code",
   "execution_count": 1,
   "metadata": {},
   "outputs": [],
   "source": [
    "from xml.etree import ElementTree\n",
    "from xml.dom import minidom\n",
    "import glob, os, sys, time\n",
    "from shutil import copy\n",
    "from xml.etree.ElementTree import Element, SubElement, Comment\n",
    "from itertools import islice\n",
    "import re\n",
    "import pandas as pd"
   ]
  },
  {
   "cell_type": "code",
   "execution_count": 2,
   "metadata": {},
   "outputs": [],
   "source": [
    "def prettify(elem):\n",
    "    \"\"\"Return a pretty-printed XML string for the Element.\n",
    "    \"\"\"\n",
    "    rough_string = ElementTree.tostring(elem, 'utf-8')\n",
    "    reparsed = minidom.parseString(rough_string)\n",
    "    return reparsed.toprettyxml(indent=\"  \")\n",
    "\n",
    "def tppXml(workflow, date, top):\n",
    "    start_datetime = (date - pd.Timedelta('14d'))\n",
    "    tp = SubElement(top,'taskProperties')\n",
    "    child_1 = SubElement(tp, 'workflowId').text = workflow\n",
    "    child_2 = SubElement(tp, 'taskSelection')\n",
    "    child_2_sub = SubElement(child_2, 'singleTask')\n",
    "    child_2_sub_sub = SubElement(child_2_sub, 'time0').text = f'{date.isoformat()}+01:00'\n",
    "    child_3 = SubElement(tp, 'forecastPriority').text = 'Normal'\n",
    "    child_4 = SubElement(tp, 'stateSelection')\n",
    "    child_4_sub = SubElement(child_4, 'coldState')\n",
    "    child_4_sub_sub = SubElement(\n",
    "        child_4_sub, \n",
    "        'fixedStartTime', \n",
    "        date='{}'.format(start_datetime.strftime(\"%Y-%m-%d\")), \n",
    "        time='{}'.format((start_datetime+pd.Timedelta('1H')).strftime(\"%H:%M:%S\"))\n",
    "    )\n",
    "    return top"
   ]
  },
  {
   "cell_type": "code",
   "execution_count": 3,
   "metadata": {},
   "outputs": [],
   "source": [
    "dates = pd.date_range('2016-08-01', '2020-01-28', freq='14D')"
   ]
  },
  {
   "cell_type": "code",
   "execution_count": null,
   "metadata": {},
   "outputs": [],
   "source": [
    "#(date - pd.Timedelta('4d')).isoformat()"
   ]
  },
  {
   "cell_type": "code",
   "execution_count": null,
   "metadata": {},
   "outputs": [],
   "source": [
    "tpp_xml = c = os.path.join(r'D:\\jupyter notebooks\\3317.50 OMS Waddenzee','batchrun_no2ab.wf.pr.diffMapping.minmax.cutfill.volopp.komberginsgebieden.vlie.xml')\n",
    "workflowids = [\n",
    "#     'no.2a.wf.pr.diffMapping.maxDepth.cutfill.volopp.borndiep',\n",
    "#     'no.2b.wf.pr.diffMapping.minDepth.cutfill.volopp.borndiep',\n",
    "#     'no.2a.wf.pr.diffMapping.maxDepth.cutfill.volopp.zoutkamperlaag',\n",
    "#     'no.2b.wf.pr.diffMapping.minDepth.cutfill.volopp.zoutkamperlaag',\n",
    "    'no.2a.wf.pr.diffMapping.maxDepth.cutfill.volopp.vlie',\n",
    "    'no.2b.wf.pr.diffMapping.minDepth.cutfill.volopp.vlie'#,\n",
    "#     'no.2a.wf.pr.diffMapping.maxDepth.cutfill.volopp.marsdiep.noord',\n",
    "#     'no.2b.wf.pr.diffMapping.minDepth.cutfill.volopp.marsdiep.noord',\n",
    "#     'no.2a.wf.pr.diffMapping.maxDepth.cutfill.volopp.marsdiep.zuid',\n",
    "#     'no.2b.wf.pr.diffMapping.minDepth.cutfill.volopp.marsdiep.zuid'\n",
    "]\n",
    "\n",
    "# start xml\n",
    "top = Element('taskPropertiesPredefined')\n",
    "top.set('xmlns','http://www.wldelft.nl/fews')\n",
    "top.set('xmlns:xsi','http://www.w3.org/2001/XMLSchema-instance')\n",
    "top.set('xsi:schemaLocation','http://www.wldelft.nl/fews http://fews.wldelft.nl/schemas/version1.0/taskPropertiesPredefined.xsd')\n",
    "\n",
    "for workflow in workflowids:\n",
    "    for date in dates:\n",
    "        top = tppXml(workflow, date, top)\n",
    "\n",
    "#save xml to file\n",
    "with open(tpp_xml, 'w') as the_file:\n",
    "    the_file.write(prettify(top))"
   ]
  },
  {
   "cell_type": "code",
   "execution_count": null,
   "metadata": {},
   "outputs": [],
   "source": [
    "print(prettify(top))"
   ]
  },
  {
   "cell_type": "code",
   "execution_count": null,
   "metadata": {},
   "outputs": [],
   "source": []
  },
  {
   "cell_type": "code",
   "execution_count": 4,
   "metadata": {},
   "outputs": [],
   "source": [
    "tpp_xml = c = os.path.join(r'D:\\jupyter notebooks\\3317.50 OMS Waddenzee','batchrun_wf.pr.minmaxDepth.cutfill.volopp2scalar.xml')\n",
    "workflowids = [\n",
    "    'wf.pr.maxDepth.cutfill.volopp2scalar',\n",
    "    'wf.pr.minDepth.cutfill.volopp2scalar'\n",
    "]\n",
    "\n",
    "# start xml\n",
    "top = Element('taskPropertiesPredefined')\n",
    "top.set('xmlns','http://www.wldelft.nl/fews')\n",
    "top.set('xmlns:xsi','http://www.w3.org/2001/XMLSchema-instance')\n",
    "top.set('xsi:schemaLocation','http://www.wldelft.nl/fews http://fews.wldelft.nl/schemas/version1.0/taskPropertiesPredefined.xsd')\n",
    "\n",
    "for workflow in workflowids:\n",
    "    for date in dates:\n",
    "        top = tppXml(workflow, date, top)\n",
    "\n",
    "# save xml to file\n",
    "with open(tpp_xml, 'w') as the_file:\n",
    "    the_file.write(prettify(top))"
   ]
  },
  {
   "cell_type": "code",
   "execution_count": null,
   "metadata": {},
   "outputs": [],
   "source": []
  },
  {
   "cell_type": "code",
   "execution_count": 5,
   "metadata": {},
   "outputs": [],
   "source": [
    "tpp_xml = c = os.path.join(r'D:\\jupyter notebooks\\3317.50 OMS Waddenzee','batchrun_wf.pr.minmaxDepth.cutfill.dikte.pct.xml')\n",
    "workflowids = [\n",
    "    'wf.pr.maxDepth.cutfill.volopp.dikte.pct',\n",
    "    'wf.pr.minDepth.cutfill.volopp.dikte.pct'\n",
    "]\n",
    "\n",
    "# start xml\n",
    "top = Element('taskPropertiesPredefined')\n",
    "top.set('xmlns','http://www.wldelft.nl/fews')\n",
    "top.set('xmlns:xsi','http://www.w3.org/2001/XMLSchema-instance')\n",
    "top.set('xsi:schemaLocation','http://www.wldelft.nl/fews http://fews.wldelft.nl/schemas/version1.0/taskPropertiesPredefined.xsd')\n",
    "\n",
    "for workflow in workflowids:\n",
    "    for date in dates:\n",
    "        top = tppXml(workflow, date, top)\n",
    "\n",
    "# save xml to file\n",
    "with open(tpp_xml, 'w') as the_file:\n",
    "    the_file.write(prettify(top))"
   ]
  },
  {
   "cell_type": "code",
   "execution_count": null,
   "metadata": {},
   "outputs": [],
   "source": []
  }
 ],
 "metadata": {
  "kernelspec": {
   "display_name": "Python 3",
   "language": "python",
   "name": "python3"
  },
  "language_info": {
   "codemirror_mode": {
    "name": "ipython",
    "version": 3
   },
   "file_extension": ".py",
   "mimetype": "text/x-python",
   "name": "python",
   "nbconvert_exporter": "python",
   "pygments_lexer": "ipython3",
   "version": "3.6.5"
  }
 },
 "nbformat": 4,
 "nbformat_minor": 4
}
