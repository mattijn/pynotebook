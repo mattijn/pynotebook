{
 "cells": [
  {
   "cell_type": "code",
   "execution_count": 16,
   "metadata": {},
   "outputs": [],
   "source": [
    "import pandas as pd\n",
    "import geopandas as gpd\n",
    "import numpy as np\n",
    "from glob import glob\n",
    "import altair as alt\n",
    "%matplotlib inline"
   ]
  },
  {
   "cell_type": "code",
   "execution_count": 2,
   "metadata": {},
   "outputs": [],
   "source": [
    "def compute_df(measure_ltHQ100, measure_gtHQ100, thd_level, measure_id):\n",
    "    df_all = pd.DataFrame()\n",
    "    for row in gdf_sections.iterrows():\n",
    "        loc = row[1]\n",
    "        #print(loc.risk)\n",
    "        if loc.risk == '< HQ100':\n",
    "            loc_info = measure_ltHQ100\n",
    "            loc_info.update({'sectionid':loc.id})\n",
    "\n",
    "        else:\n",
    "            loc_info = measure_gtHQ100\n",
    "            loc_info.update({'sectionid':loc.id})\n",
    "\n",
    "        if loc_info['0_thd'] == 0 and loc_info['1_thd'] == 0 and loc_info['2_thd'] == 0:\n",
    "            waterlevel_divid = (loc_info['max'] - loc_info['min']) / 8\n",
    "            loc_info['0_thd'] = loc_info['min'] + (5 * waterlevel_divid)\n",
    "            loc_info['1_thd'] = loc_info['min'] + (6 * waterlevel_divid)        \n",
    "            loc_info['2_thd'] = loc_info['min'] + (7 * waterlevel_divid)                \n",
    "\n",
    "        #print(loc['name'], loc.FID_1, loc.id_1, loc_info)\n",
    "\n",
    "        df = pd.DataFrame(pd.Series([\n",
    "            loc_info['min'],\n",
    "            loc_info['0_thd']-0.001, \n",
    "            loc_info['0_thd'],\n",
    "            loc_info['1_thd']-0.001,\n",
    "            loc_info['1_thd'],\n",
    "            loc_info['2_thd']-0.001,\n",
    "            loc_info['2_thd'], \n",
    "            loc_info['max']]), columns=['hydraulicload'])\n",
    "        df['sectionid'] = int(loc_info['sectionid'])\n",
    "        df['failuremechanismid'] = [[1,2]]*len(df)\n",
    "        df['measureid'] = measure_id#3  # [[0,1,2,3]]*len(df)\n",
    "        #df.insert(1, 'measureid', [0,1])\n",
    "        df['failureprobability'] = 0.3\n",
    "\n",
    "\n",
    "        for k in list(thd_level.keys())[::-1]:\n",
    "            threshold_hload = loc_info[k]\n",
    "            failure_prob = thd_level[k]\n",
    "            df.loc[df.hydraulicload < threshold_hload, 'failureprobability'] = failure_prob    \n",
    "        #df.plot('hydraulicload', 'failureprobability')\n",
    "        df_all = pd.concat((df_all,df))\n",
    "\n",
    "    df_all = df_all[['sectionid', 'failuremechanismid', 'measureid','hydraulicload', 'failureprobability']]\n",
    "    df_all = df_all.explode('measureid')\n",
    "    df_all = df_all.explode('failuremechanismid')\n",
    "    df_all.drop_duplicates(inplace=True)\n",
    "    df_all = df_all.sort_values(['sectionid', 'failuremechanismid', 'measureid', 'hydraulicload'])\n",
    "    return df_all"
   ]
  },
  {
   "cell_type": "code",
   "execution_count": 3,
   "metadata": {},
   "outputs": [],
   "source": [
    "sections = r\"D:\\Projects\\Pr\\2505.12\\Dresden\\Sections (waterkeringen)\\P-schijf\\geo_sections_4326.shp\"\n",
    "gdf_sections = gpd.read_file(sections)"
   ]
  },
  {
   "cell_type": "code",
   "execution_count": 4,
   "metadata": {},
   "outputs": [
    {
     "data": {
      "text/html": [
       "<div>\n",
       "<style scoped>\n",
       "    .dataframe tbody tr th:only-of-type {\n",
       "        vertical-align: middle;\n",
       "    }\n",
       "\n",
       "    .dataframe tbody tr th {\n",
       "        vertical-align: top;\n",
       "    }\n",
       "\n",
       "    .dataframe thead th {\n",
       "        text-align: right;\n",
       "    }\n",
       "</style>\n",
       "<table border=\"1\" class=\"dataframe\">\n",
       "  <thead>\n",
       "    <tr style=\"text-align: right;\">\n",
       "      <th></th>\n",
       "      <th>id</th>\n",
       "      <th>segmentid</th>\n",
       "      <th>name</th>\n",
       "      <th>risk</th>\n",
       "      <th>geometry</th>\n",
       "    </tr>\n",
       "  </thead>\n",
       "  <tbody>\n",
       "    <tr>\n",
       "      <td>0</td>\n",
       "      <td>10</td>\n",
       "      <td>10</td>\n",
       "      <td>HWSA Innenstadt</td>\n",
       "      <td>HQ100</td>\n",
       "      <td>LINESTRING (13.71308172992239 51.0622198901551...</td>\n",
       "    </tr>\n",
       "    <tr>\n",
       "      <td>1</td>\n",
       "      <td>1</td>\n",
       "      <td>1</td>\n",
       "      <td>Deich Kemnitz bis Cossebaude</td>\n",
       "      <td>HQ100</td>\n",
       "      <td>LINESTRING (13.62039294058704 51.0924883123916...</td>\n",
       "    </tr>\n",
       "    <tr>\n",
       "      <td>2</td>\n",
       "      <td>2</td>\n",
       "      <td>2</td>\n",
       "      <td>Altdeich Cossebaude</td>\n",
       "      <td>&lt; HQ100</td>\n",
       "      <td>LINESTRING (13.6167775984707 51.09628911924678...</td>\n",
       "    </tr>\n",
       "    <tr>\n",
       "      <td>3</td>\n",
       "      <td>3</td>\n",
       "      <td>3</td>\n",
       "      <td>Altdeich Fürstenhain</td>\n",
       "      <td>&lt; HQ100</td>\n",
       "      <td>LINESTRING (13.6280320617074 51.10434308498043...</td>\n",
       "    </tr>\n",
       "    <tr>\n",
       "      <td>4</td>\n",
       "      <td>4</td>\n",
       "      <td>4</td>\n",
       "      <td>Altdeich Kaditz-Süd</td>\n",
       "      <td>&lt; HQ100</td>\n",
       "      <td>LINESTRING (13.67516621427747 51.0741395335752...</td>\n",
       "    </tr>\n",
       "  </tbody>\n",
       "</table>\n",
       "</div>"
      ],
      "text/plain": [
       "   id  segmentid                          name     risk  \\\n",
       "0  10         10               HWSA Innenstadt    HQ100   \n",
       "1   1          1  Deich Kemnitz bis Cossebaude    HQ100   \n",
       "2   2          2           Altdeich Cossebaude  < HQ100   \n",
       "3   3          3          Altdeich Fürstenhain  < HQ100   \n",
       "4   4          4           Altdeich Kaditz-Süd  < HQ100   \n",
       "\n",
       "                                            geometry  \n",
       "0  LINESTRING (13.71308172992239 51.0622198901551...  \n",
       "1  LINESTRING (13.62039294058704 51.0924883123916...  \n",
       "2  LINESTRING (13.6167775984707 51.09628911924678...  \n",
       "3  LINESTRING (13.6280320617074 51.10434308498043...  \n",
       "4  LINESTRING (13.67516621427747 51.0741395335752...  "
      ]
     },
     "execution_count": 4,
     "metadata": {},
     "output_type": "execute_result"
    }
   ],
   "source": [
    "gdf_sections.head()"
   ]
  },
  {
   "cell_type": "code",
   "execution_count": 21,
   "metadata": {},
   "outputs": [],
   "source": [
    "df_m0 = compute_df(\n",
    "    measure_ltHQ100 = {\n",
    "        'min': 0,#4,\n",
    "        'max': 10.5,\n",
    "        '0_thd': 6,\n",
    "        '1_thd': 6.5,\n",
    "        '2_thd': 7\n",
    "    },\n",
    "    measure_gtHQ100 = {\n",
    "        'min': 0,#4,\n",
    "        'max': 10.5,\n",
    "        '0_thd': 6.5,\n",
    "        '1_thd': 7.75,\n",
    "        '2_thd': 8.5\n",
    "    },\n",
    "    thd_level = {\n",
    "        '0_thd': 0.0003,\n",
    "        '1_thd': 0.003,\n",
    "        '2_thd': 0.03\n",
    "    }, \n",
    "    measure_id = 0\n",
    ")"
   ]
  },
  {
   "cell_type": "code",
   "execution_count": 22,
   "metadata": {},
   "outputs": [],
   "source": [
    "df_m1 = compute_df(\n",
    "    measure_ltHQ100 = {\n",
    "        'min': 0,#4,\n",
    "        'max': 10.5,\n",
    "        '0_thd': 6.5,\n",
    "        '1_thd': 7.5,\n",
    "        '2_thd': 8\n",
    "    },\n",
    "    measure_gtHQ100 = {\n",
    "        'min': 0,#4,\n",
    "        'max': 10.5,\n",
    "        '0_thd': 6.5,\n",
    "        '1_thd': 7.75,\n",
    "        '2_thd': 8.5\n",
    "    },\n",
    "    thd_level = {\n",
    "        '0_thd': 0.0003,\n",
    "        '1_thd': 0.003,\n",
    "        '2_thd': 0.003\n",
    "    }, \n",
    "    measure_id = 1\n",
    ")"
   ]
  },
  {
   "cell_type": "code",
   "execution_count": 23,
   "metadata": {},
   "outputs": [],
   "source": [
    "df_m2 = compute_df(\n",
    "    measure_ltHQ100 = {\n",
    "        'min': 0,#4,\n",
    "        'max': 10.5,\n",
    "        '0_thd': 6.5,\n",
    "        '1_thd': 7.5,\n",
    "        '2_thd': 8\n",
    "    },\n",
    "    measure_gtHQ100 = {\n",
    "        'min': 0,#4,\n",
    "        'max': 10.5,\n",
    "        '0_thd': 6.5,\n",
    "        '1_thd': 7.75,\n",
    "        '2_thd': 8.5\n",
    "    },\n",
    "    thd_level = {\n",
    "        '0_thd': 0.0003,\n",
    "        '1_thd': 0.003,\n",
    "        '2_thd': 0.03\n",
    "    }, \n",
    "    measure_id = 2\n",
    ")"
   ]
  },
  {
   "cell_type": "code",
   "execution_count": 24,
   "metadata": {},
   "outputs": [],
   "source": [
    "df_m012 = pd.concat((df_m0, df_m1, df_m2))"
   ]
  },
  {
   "cell_type": "code",
   "execution_count": 25,
   "metadata": {},
   "outputs": [],
   "source": [
    "sel_sections = df_m012[\n",
    "    (df_m012['sectionid'].isin([1,3])) & \n",
    "    (df_m012['failuremechanismid']==1)\n",
    "]"
   ]
  },
  {
   "cell_type": "code",
   "execution_count": 26,
   "metadata": {},
   "outputs": [
    {
     "data": {
      "application/vnd.vegalite.v3+json": {
       "$schema": "https://vega.github.io/schema/vega-lite/v3.4.0.json",
       "config": {
        "mark": {
         "tooltip": null
        },
        "view": {
         "height": 300,
         "width": 400
        }
       },
       "data": {
        "name": "data-dc9ea82baee08b47c3a774a0f2be5317"
       },
       "datasets": {
        "data-dc9ea82baee08b47c3a774a0f2be5317": [
         {
          "failuremechanismid": 1,
          "failureprobability": 0.0003,
          "hydraulicload": 0,
          "measureid": 0,
          "sectionid": 1
         },
         {
          "failuremechanismid": 1,
          "failureprobability": 0.0003,
          "hydraulicload": 6.499,
          "measureid": 0,
          "sectionid": 1
         },
         {
          "failuremechanismid": 1,
          "failureprobability": 0.003,
          "hydraulicload": 6.5,
          "measureid": 0,
          "sectionid": 1
         },
         {
          "failuremechanismid": 1,
          "failureprobability": 0.003,
          "hydraulicload": 7.749,
          "measureid": 0,
          "sectionid": 1
         },
         {
          "failuremechanismid": 1,
          "failureprobability": 0.03,
          "hydraulicload": 7.75,
          "measureid": 0,
          "sectionid": 1
         },
         {
          "failuremechanismid": 1,
          "failureprobability": 0.03,
          "hydraulicload": 8.499,
          "measureid": 0,
          "sectionid": 1
         },
         {
          "failuremechanismid": 1,
          "failureprobability": 0.3,
          "hydraulicload": 8.5,
          "measureid": 0,
          "sectionid": 1
         },
         {
          "failuremechanismid": 1,
          "failureprobability": 0.3,
          "hydraulicload": 10.5,
          "measureid": 0,
          "sectionid": 1
         },
         {
          "failuremechanismid": 1,
          "failureprobability": 0.0003,
          "hydraulicload": 0,
          "measureid": 0,
          "sectionid": 3
         },
         {
          "failuremechanismid": 1,
          "failureprobability": 0.0003,
          "hydraulicload": 5.999,
          "measureid": 0,
          "sectionid": 3
         },
         {
          "failuremechanismid": 1,
          "failureprobability": 0.003,
          "hydraulicload": 6,
          "measureid": 0,
          "sectionid": 3
         },
         {
          "failuremechanismid": 1,
          "failureprobability": 0.003,
          "hydraulicload": 6.499,
          "measureid": 0,
          "sectionid": 3
         },
         {
          "failuremechanismid": 1,
          "failureprobability": 0.03,
          "hydraulicload": 6.5,
          "measureid": 0,
          "sectionid": 3
         },
         {
          "failuremechanismid": 1,
          "failureprobability": 0.03,
          "hydraulicload": 6.999,
          "measureid": 0,
          "sectionid": 3
         },
         {
          "failuremechanismid": 1,
          "failureprobability": 0.3,
          "hydraulicload": 7,
          "measureid": 0,
          "sectionid": 3
         },
         {
          "failuremechanismid": 1,
          "failureprobability": 0.3,
          "hydraulicload": 10.5,
          "measureid": 0,
          "sectionid": 3
         },
         {
          "failuremechanismid": 1,
          "failureprobability": 0.0003,
          "hydraulicload": 0,
          "measureid": 1,
          "sectionid": 1
         },
         {
          "failuremechanismid": 1,
          "failureprobability": 0.0003,
          "hydraulicload": 6.499,
          "measureid": 1,
          "sectionid": 1
         },
         {
          "failuremechanismid": 1,
          "failureprobability": 0.003,
          "hydraulicload": 6.5,
          "measureid": 1,
          "sectionid": 1
         },
         {
          "failuremechanismid": 1,
          "failureprobability": 0.003,
          "hydraulicload": 7.749,
          "measureid": 1,
          "sectionid": 1
         },
         {
          "failuremechanismid": 1,
          "failureprobability": 0.003,
          "hydraulicload": 7.75,
          "measureid": 1,
          "sectionid": 1
         },
         {
          "failuremechanismid": 1,
          "failureprobability": 0.003,
          "hydraulicload": 8.499,
          "measureid": 1,
          "sectionid": 1
         },
         {
          "failuremechanismid": 1,
          "failureprobability": 0.3,
          "hydraulicload": 8.5,
          "measureid": 1,
          "sectionid": 1
         },
         {
          "failuremechanismid": 1,
          "failureprobability": 0.3,
          "hydraulicload": 10.5,
          "measureid": 1,
          "sectionid": 1
         },
         {
          "failuremechanismid": 1,
          "failureprobability": 0.0003,
          "hydraulicload": 0,
          "measureid": 1,
          "sectionid": 3
         },
         {
          "failuremechanismid": 1,
          "failureprobability": 0.0003,
          "hydraulicload": 6.499,
          "measureid": 1,
          "sectionid": 3
         },
         {
          "failuremechanismid": 1,
          "failureprobability": 0.003,
          "hydraulicload": 6.5,
          "measureid": 1,
          "sectionid": 3
         },
         {
          "failuremechanismid": 1,
          "failureprobability": 0.003,
          "hydraulicload": 7.499,
          "measureid": 1,
          "sectionid": 3
         },
         {
          "failuremechanismid": 1,
          "failureprobability": 0.003,
          "hydraulicload": 7.5,
          "measureid": 1,
          "sectionid": 3
         },
         {
          "failuremechanismid": 1,
          "failureprobability": 0.003,
          "hydraulicload": 7.999,
          "measureid": 1,
          "sectionid": 3
         },
         {
          "failuremechanismid": 1,
          "failureprobability": 0.3,
          "hydraulicload": 8,
          "measureid": 1,
          "sectionid": 3
         },
         {
          "failuremechanismid": 1,
          "failureprobability": 0.3,
          "hydraulicload": 10.5,
          "measureid": 1,
          "sectionid": 3
         },
         {
          "failuremechanismid": 1,
          "failureprobability": 0.0003,
          "hydraulicload": 0,
          "measureid": 2,
          "sectionid": 1
         },
         {
          "failuremechanismid": 1,
          "failureprobability": 0.0003,
          "hydraulicload": 6.499,
          "measureid": 2,
          "sectionid": 1
         },
         {
          "failuremechanismid": 1,
          "failureprobability": 0.003,
          "hydraulicload": 6.5,
          "measureid": 2,
          "sectionid": 1
         },
         {
          "failuremechanismid": 1,
          "failureprobability": 0.003,
          "hydraulicload": 7.749,
          "measureid": 2,
          "sectionid": 1
         },
         {
          "failuremechanismid": 1,
          "failureprobability": 0.03,
          "hydraulicload": 7.75,
          "measureid": 2,
          "sectionid": 1
         },
         {
          "failuremechanismid": 1,
          "failureprobability": 0.03,
          "hydraulicload": 8.499,
          "measureid": 2,
          "sectionid": 1
         },
         {
          "failuremechanismid": 1,
          "failureprobability": 0.3,
          "hydraulicload": 8.5,
          "measureid": 2,
          "sectionid": 1
         },
         {
          "failuremechanismid": 1,
          "failureprobability": 0.3,
          "hydraulicload": 10.5,
          "measureid": 2,
          "sectionid": 1
         },
         {
          "failuremechanismid": 1,
          "failureprobability": 0.0003,
          "hydraulicload": 0,
          "measureid": 2,
          "sectionid": 3
         },
         {
          "failuremechanismid": 1,
          "failureprobability": 0.0003,
          "hydraulicload": 6.499,
          "measureid": 2,
          "sectionid": 3
         },
         {
          "failuremechanismid": 1,
          "failureprobability": 0.003,
          "hydraulicload": 6.5,
          "measureid": 2,
          "sectionid": 3
         },
         {
          "failuremechanismid": 1,
          "failureprobability": 0.003,
          "hydraulicload": 7.499,
          "measureid": 2,
          "sectionid": 3
         },
         {
          "failuremechanismid": 1,
          "failureprobability": 0.03,
          "hydraulicload": 7.5,
          "measureid": 2,
          "sectionid": 3
         },
         {
          "failuremechanismid": 1,
          "failureprobability": 0.03,
          "hydraulicload": 7.999,
          "measureid": 2,
          "sectionid": 3
         },
         {
          "failuremechanismid": 1,
          "failureprobability": 0.3,
          "hydraulicload": 8,
          "measureid": 2,
          "sectionid": 3
         },
         {
          "failuremechanismid": 1,
          "failureprobability": 0.3,
          "hydraulicload": 10.5,
          "measureid": 2,
          "sectionid": 3
         }
        ]
       },
       "encoding": {
        "column": {
         "field": "measureid",
         "type": "quantitative"
        },
        "row": {
         "field": "sectionid",
         "type": "quantitative"
        },
        "x": {
         "field": "hydraulicload",
         "type": "quantitative"
        },
        "y": {
         "field": "failureprobability",
         "scale": {
          "type": "log"
         },
         "type": "quantitative"
        }
       },
       "height": 100,
       "mark": "line",
       "width": 100
      },
      "image/png": "[encoded data removed]",
      "text/plain": [
       "<VegaLite 3 object>\n",
       "\n",
       "If you see this message, it means the renderer has not been properly enabled\n",
       "for the frontend that you are using. For more information, see\n",
       "https://altair-viz.github.io/user_guide/troubleshooting.html\n"
      ]
     },
     "execution_count": 26,
     "metadata": {},
     "output_type": "execute_result"
    }
   ],
   "source": [
    "alt.Chart(sel_sections).mark_line().encode(\n",
    "    column='measureid',\n",
    "    row='sectionid',\n",
    "    x='hydraulicload', \n",
    "    y=alt.Y('failureprobability', scale=alt.Scale(type='log'))\n",
    ").properties(height=100, width=100)"
   ]
  },
  {
   "cell_type": "code",
   "execution_count": 27,
   "metadata": {},
   "outputs": [],
   "source": [
    "# Verzwaring van binnenteen\n",
    "# landside stability (add weight)"
   ]
  },
  {
   "cell_type": "code",
   "execution_count": 28,
   "metadata": {},
   "outputs": [],
   "source": [
    "df_m012.to_csv(r\"D:\\Projects\\Pr\\2505.12\\Dresden\\fragility_curves_m012.csv\", index=False)"
   ]
  },
  {
   "cell_type": "code",
   "execution_count": null,
   "metadata": {},
   "outputs": [],
   "source": []
  },
  {
   "cell_type": "code",
   "execution_count": null,
   "metadata": {},
   "outputs": [],
   "source": []
  },
  {
   "cell_type": "code",
   "execution_count": null,
   "metadata": {},
   "outputs": [],
   "source": []
  },
  {
   "cell_type": "code",
   "execution_count": null,
   "metadata": {},
   "outputs": [],
   "source": [
    "df_all.to_csv(r\"D:\\Projects\\Pr\\2505.12\\Dresden\\fragility_curves.csv\", index=False)"
   ]
  },
  {
   "cell_type": "code",
   "execution_count": null,
   "metadata": {},
   "outputs": [],
   "source": []
  }
 ],
 "metadata": {
  "kernelspec": {
   "display_name": "Python 3",
   "language": "python",
   "name": "python3"
  },
  "language_info": {
   "codemirror_mode": {
    "name": "ipython",
    "version": 3
   },
   "file_extension": ".py",
   "mimetype": "text/x-python",
   "name": "python",
   "nbconvert_exporter": "python",
   "pygments_lexer": "ipython3",
   "version": "3.6.5"
  }
 },
 "nbformat": 4,
 "nbformat_minor": 4
}
