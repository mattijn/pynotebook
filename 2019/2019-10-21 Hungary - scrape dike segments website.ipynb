{
 "cells": [
  {
   "cell_type": "code",
   "execution_count": 1,
   "metadata": {},
   "outputs": [],
   "source": [
    "import geopandas as gpd\n",
    "import requests\n",
    "import json\n",
    "import urllib.parse\n",
    "%matplotlib inline"
   ]
  },
  {
   "cell_type": "code",
   "execution_count": 2,
   "metadata": {},
   "outputs": [],
   "source": [
    "# read metadata flood probability layers\n",
    "url_metadata = 'https://geoportal.vizugy.hu/arcgis/rest/services/AKK_3D/VARGEO_public_AKK/MapServer/layers?f=pjson'\n",
    "r = requests.get(url_metadata)\n",
    "md = r.json()"
   ]
  },
  {
   "cell_type": "code",
   "execution_count": 3,
   "metadata": {},
   "outputs": [],
   "source": [
    "# read features for each layer\n",
    "# structure is as follow\n",
    "# flood probability scenarios for 30 / 100 / 1000 years\n",
    "# per scenario there are multiple feature layers\n",
    "# each layer is a flood depth map in meters"
   ]
  },
  {
   "cell_type": "code",
   "execution_count": 4,
   "metadata": {},
   "outputs": [
    {
     "name": "stdout",
     "output_type": "stream",
     "text": [
      "Kisebb vízfolyások\n",
      "Fontosabb vízfolyások\n",
      "Fővédvonalak\n",
      "Nagyvizi_hatar_webmerc\n"
     ]
    }
   ],
   "source": [
    "base_url = \"https://geoportal.vizugy.hu/arcgis/rest/services/AKK_3D/VARGEO_public_AKK/MapServer/{}/query?where=OBJECTID%3D{}&text=&objectIds=&time=&geometry=&geometryType=esriGeometryEnvelope&inSR=&spatialRel=esriSpatialRelIntersects&relationParam=&outFields=&returnGeometry=true&returnTrueCurves=false&maxAllowableOffset=&geometryPrecision=&outSR=&having=&returnIdsOnly=false&returnCountOnly=false&orderByFields=&groupByFieldsForStatistics=&outStatistics=&returnZ=false&returnM=false&gdbVersion=&historicMoment=&returnDistinctValues=false&resultOffset=&resultRecordCount=&queryByDistance=&returnExtentOnly=false&datumTransformation=&parameterValues=&rangeValues=&quantizationParameters=&f=geojson\"\n",
    "\n",
    "objects = md['layers']\n",
    "no_obj = len(objects)\n",
    "skip = False\n",
    "for idx_obj in range(no_obj):\n",
    "    obj = objects[idx_obj]    \n",
    "    print(obj['name'])"
   ]
  },
  {
   "cell_type": "code",
   "execution_count": 17,
   "metadata": {},
   "outputs": [
    {
     "name": "stdout",
     "output_type": "stream",
     "text": [
      "Fővédvonalak\n",
      "50\n",
      "60\n",
      "70\n"
     ]
    }
   ],
   "source": [
    "# extract all layers for each scenario and write each layer to a shapefile\n",
    "# base_url = \"https://geoportal.vizugy.hu/arcgis/rest/services/AKK_3D/Elontes_public/MapServer/{}/query?where=Vizmelyseg%3D%27{}%27&text=&objectIds=&time=&geometry=&geometryType=esriGeometryEnvelope&inSR=&spatialRel=esriSpatialRelIntersects&relationParam=&outFields=&returnGeometry=true&returnTrueCurves=false&maxAllowableOffset=&geometryPrecision=&outSR=&having=&returnIdsOnly=false&returnCountOnly=false&orderByFields=&groupByFieldsForStatistics=&outStatistics=&returnZ=false&returnM=false&gdbVersion=&historicMoment=&returnDistinctValues=false&resultOffset=&resultRecordCount=&queryByDistance=&returnExtentOnly=false&datumTransformation=&parameterValues=&rangeValues=&quantizationParameters=&f=geojson\"\n",
    "# base_url = \"https://geoportal.vizugy.hu/arcgis/rest/services/AKK_3D/Elontes_public/MapServer/{}/query?where=OBJECTID%3D{}&text=&objectIds=&time=&geometry=&geometryType=esriGeometryEnvelope&inSR=&spatialRel=esriSpatialRelIntersects&relationParam=&outFields=&returnGeometry=true&returnTrueCurves=false&maxAllowableOffset=&geometryPrecision=&outSR=&having=&returnIdsOnly=false&returnCountOnly=false&orderByFields=&groupByFieldsForStatistics=&outStatistics=&returnZ=false&returnM=false&gdbVersion=&historicMoment=&returnDistinctValues=false&resultOffset=&resultRecordCount=&queryByDistance=&returnExtentOnly=false&datumTransformation=&parameterValues=&rangeValues=&quantizationParameters=&f=geojson\"\n",
    "base_url = \"https://geoportal.vizugy.hu/arcgis/rest/services/AKK_3D/VARGEO_public_AKK/MapServer/{}/query?where=OBJECTID%3D{}&text=&objectIds=&time=&geometry=&geometryType=esriGeometryEnvelope&inSR=&spatialRel=esriSpatialRelIntersects&relationParam=&outFields=&returnGeometry=true&returnTrueCurves=false&maxAllowableOffset=&geometryPrecision=&outSR=&having=&returnIdsOnly=false&returnCountOnly=false&orderByFields=&groupByFieldsForStatistics=&outStatistics=&returnZ=false&returnM=false&gdbVersion=&historicMoment=&returnDistinctValues=false&resultOffset=&resultRecordCount=&queryByDistance=&returnExtentOnly=false&datumTransformation=&parameterValues=&rangeValues=&quantizationParameters=&f=geojson\"\n",
    "\n",
    "objects = md['layers']\n",
    "no_obj = len(objects)\n",
    "skip = False\n",
    "for idx_obj in range(2,3):#range(no_obj):\n",
    "    obj = objects[idx_obj]    \n",
    "    print(obj['name'])\n",
    "\n",
    "    idx_lyr = 50\n",
    "    while True:\n",
    "        try:\n",
    "            if idx_lyr%10==0:\n",
    "                print(idx_lyr)    \n",
    "                \n",
    "            get_url = base_url.format(idx_obj, idx_lyr)\n",
    "            write_fp = r'{}/layer_{}_OBJECTID_{}.shp'.format(obj['name'], obj['name'], idx_lyr)\n",
    "            \n",
    "#             gdf = gpd.read_file(get_url, driver='GeoJSON')\n",
    "#             gdf.to_file(write_fp)\n",
    "            \n",
    "            \n",
    "            idx_lyr += 1\n",
    "            if idx_lyr == 75:\n",
    "                break\n",
    "        except:\n",
    "            try:\n",
    "                gdf = gpd.read_file(get_url, driver='GeoJSON')\n",
    "                gdf.to_file(write_fp)\n",
    "\n",
    "                idx_lyr += 1\n",
    "                if skip == True:\n",
    "                    break                 \n",
    "            except:\n",
    "                idx_lyr += 1\n",
    "               \n",
    "                skip = True"
   ]
  },
  {
   "cell_type": "code",
   "execution_count": 18,
   "metadata": {},
   "outputs": [
    {
     "data": {
      "text/plain": [
       "'Fővédvonalak/layer_Fővédvonalak_OBJECTID_74.shp'"
      ]
     },
     "execution_count": 18,
     "metadata": {},
     "output_type": "execute_result"
    }
   ],
   "source": [
    "write_fp"
   ]
  },
  {
   "cell_type": "code",
   "execution_count": 19,
   "metadata": {},
   "outputs": [
    {
     "data": {
      "text/plain": [
       "'https://geoportal.vizugy.hu/arcgis/rest/services/AKK_3D/VARGEO_public_AKK/MapServer/2/query?where=OBJECTID%3D74&text=&objectIds=&time=&geometry=&geometryType=esriGeometryEnvelope&inSR=&spatialRel=esriSpatialRelIntersects&relationParam=&outFields=&returnGeometry=true&returnTrueCurves=false&maxAllowableOffset=&geometryPrecision=&outSR=&having=&returnIdsOnly=false&returnCountOnly=false&orderByFields=&groupByFieldsForStatistics=&outStatistics=&returnZ=false&returnM=false&gdbVersion=&historicMoment=&returnDistinctValues=false&resultOffset=&resultRecordCount=&queryByDistance=&returnExtentOnly=false&datumTransformation=&parameterValues=&rangeValues=&quantizationParameters=&f=geojson'"
      ]
     },
     "execution_count": 19,
     "metadata": {},
     "output_type": "execute_result"
    }
   ],
   "source": [
    "get_url"
   ]
  },
  {
   "cell_type": "code",
   "execution_count": 20,
   "metadata": {},
   "outputs": [
    {
     "data": {
      "text/html": [
       "<div>\n",
       "<style scoped>\n",
       "    .dataframe tbody tr th:only-of-type {\n",
       "        vertical-align: middle;\n",
       "    }\n",
       "\n",
       "    .dataframe tbody tr th {\n",
       "        vertical-align: top;\n",
       "    }\n",
       "\n",
       "    .dataframe thead th {\n",
       "        text-align: right;\n",
       "    }\n",
       "</style>\n",
       "<table border=\"1\" class=\"dataframe\">\n",
       "  <thead>\n",
       "    <tr style=\"text-align: right;\">\n",
       "      <th></th>\n",
       "      <th>Fovedvonal_NEV</th>\n",
       "      <th>geometry</th>\n",
       "    </tr>\n",
       "  </thead>\n",
       "  <tbody>\n",
       "    <tr>\n",
       "      <th>0</th>\n",
       "      <td>Miskolc-sajópüspöki</td>\n",
       "      <td>(LINESTRING (20.91507407201221 48.013676453496...</td>\n",
       "    </tr>\n",
       "  </tbody>\n",
       "</table>\n",
       "</div>"
      ],
      "text/plain": [
       "        Fovedvonal_NEV                                           geometry\n",
       "0  Miskolc-sajópüspöki  (LINESTRING (20.91507407201221 48.013676453496..."
      ]
     },
     "execution_count": 20,
     "metadata": {},
     "output_type": "execute_result"
    }
   ],
   "source": [
    "gpd.read_file(get_url, driver='GeoJSON')"
   ]
  },
  {
   "cell_type": "code",
   "execution_count": 21,
   "metadata": {},
   "outputs": [],
   "source": [
    "import glob"
   ]
  },
  {
   "cell_type": "code",
   "execution_count": 71,
   "metadata": {},
   "outputs": [],
   "source": [
    "obs = glob.glob(r'D:\\jupyter notebooks\\2505.12 CIMNE\\Fovedvonalak\\*.shp')"
   ]
  },
  {
   "cell_type": "code",
   "execution_count": 73,
   "metadata": {},
   "outputs": [],
   "source": [
    "# get all features\n",
    "i = []\n",
    "for o in obs:\n",
    "    d = gpd.read_file(o).to_dict()\n",
    "    i.append({k:d[k][0] for k in d.keys()})"
   ]
  },
  {
   "cell_type": "code",
   "execution_count": 87,
   "metadata": {},
   "outputs": [],
   "source": [
    "# parse to new geodataframe\n",
    "gdf = gpd.GeoDataFrame().from_dict(i)"
   ]
  },
  {
   "cell_type": "code",
   "execution_count": 92,
   "metadata": {},
   "outputs": [
    {
     "data": {
      "text/plain": [
       "array([None, 'Berkesz-kótaji', 'Szentes-öcsödi', 'Szentgotthárdi',\n",
       "       'Szigetujfalu-csepeli', 'Szolnok-Újszász-Szórói',\n",
       "       'Tarján-pataki tározó', 'Tarpa-vásárosnaményi',\n",
       "       'Tass-szigetújfalui', 'Tiszacsermely-zemplénagárdi',\n",
       "       'Tiszaföldvár-Pityókai', 'Tiszafüred-tiszakeszi',\n",
       "       'Bodrogkeresztúr-sátoraljaújhelyi', 'Tiszakeszi-sajószögedi',\n",
       "       'Tiszatarján-rakamazi', 'Torontáli', 'Uszód-solti',\n",
       "       'Vásárosnamény-lónyai', 'Vásárosnamény-zsurki',\n",
       "       'Vének-dunaremetei /01.03./', 'Vének-dunaszentpáli /01.05./',\n",
       "       'Veresmart-nagyhalászi', 'Viss-felsöberecki', 'Bucsa-nádudvari',\n",
       "       'Zalai', 'Zalkod-tiszacsermelyi', 'Zsófiamajori',\n",
       "       'Zsurk-veresmarti', 'Buda-déli', 'Buda-északi', 'Buda-középs?',\n",
       "       'Budakalászi', 'Cigánd-tiszakarádi árvízi tározó',\n",
       "       'Csenger-olcsvai', 'Csongrád-Bánrévei', 'Adony-ercsi',\n",
       "       'Csongrád-Nagyrévi', 'Darvas-kismarjai', 'Darvas-pocsaji',\n",
       "       'Doba-Kanyari', 'Dobozi', 'Dongér-csongrádi', 'Drávaszabolcsi',\n",
       "       'Drávasztárai', 'Dunaegyháza-tassi', 'Dunafüred-érdi',\n",
       "       'Ágerd?major-olcsvai', 'Dunaremete-rajkai /01.04./', 'Ecsegfalvai',\n",
       "       'Érmelléki', 'Esztergomi /01.01/', 'Fegyvernek-Ledencei',\n",
       "       'Fokközi', 'Gödi', 'Gyála-szeged-algy?i', 'Gy?r-árpási /01.08./',\n",
       "       'Gy?r-koroncói /01.11./', 'Algy?-dongéri',\n",
       "       'Hernádnémeti-hernádszurdoki', 'Hidasnémeti-böcsi',\n",
       "       'Inérhát-taktaföldvári', 'Inérhát-tokaji',\n",
       "       'Ipolydamásd-Letkés-ipolytölgyesi',\n",
       "       'Ipolyvece-Dejtár-Balassagyarmat-szécsényi', 'Jászdózsa-káli',\n",
       "       'Jászfelsöszentgyörgy-jobbágyi', 'Jászjákóhalma-káli',\n",
       "       'Kállómenti', 'Árpás-répceszemerei /01.09./',\n",
       "       'Kis-Balaton Vízvédelmi Rendszer', 'Kiskörei-tározó menti',\n",
       "       'Kispalád Hármashatár-tiszakóródi',\n",
       "       'Komárom-almásfüzit?i /01.02./', 'Koroncó-mórichidai /01.12./',\n",
       "       'Kótaj-vencsellöi', 'Kölesd-simontornyai', 'Körmendi',\n",
       "       'K?rösladányi', 'Kvassay-zsilipi', 'Baja-fokt?i',\n",
       "       'Lajta menti /01.06./', 'Lakitelek-Tószegi',\n",
       "       'Lónyay föcsat. Balpart', 'Maconkai tározó',\n",
       "       'Magosliget-tiszakóródi', 'Mályvádi', 'Margitszigeti',\n",
       "       'Maros jobb parti', 'Marostorok-mártélyi', 'Mátraverebélyi tározó',\n",
       "       'Baja-margittaszigeti', 'Mérkvállaj-vásárosnaményi', 'Mez?berényi',\n",
       "       'Mez?túr-Himesdi', 'Mindszent-szentesi', 'Miskolc-sajópüspöki',\n",
       "       'Mohácsi', 'Mórichida-sárvári /01.13./',\n",
       "       'Mosoni-Duna - Rábca menti /01.07/', 'Murai',\n",
       "       'Nagyhalász-Vencsellö-buji', 'Bánréve-Fels?zsolcai',\n",
       "       'Nagyhódos-kölcsei', 'Négyes-tiszakeszi', 'Paks-bölcskei',\n",
       "       'Pest-déli', 'Pest-északi', 'Pest-középsö', 'Pusztaecseg-?zesi',\n",
       "       'Répcelak-sárvári /01.10./', 'Sarud-négyesi', 'Sárvári',\n",
       "       'Báta-Siótorok-szekszárdi', 'Siótorok-kölesdi', 'Siótorok-paksi',\n",
       "       'Szamosbecs-olcsvaapáti', 'Szarvasi', 'Szászberek-Jászberényi',\n",
       "       'Szatmárcseke-olcsvaapáti', 'Szeghalom-darvasi',\n",
       "       'Szeghalom-körösszakáli', 'Szekszárd-Sióagárd-kölesdi',\n",
       "       'Szentendrei-szigeti'], dtype=object)"
      ]
     },
     "execution_count": 92,
     "metadata": {},
     "output_type": "execute_result"
    }
   ],
   "source": [
    "gdf.Fovedvonal.unique()#"
   ]
  },
  {
   "cell_type": "code",
   "execution_count": 89,
   "metadata": {},
   "outputs": [],
   "source": [
    "gdf.crs = {'init':'EPSG:4326'}"
   ]
  },
  {
   "cell_type": "code",
   "execution_count": 90,
   "metadata": {},
   "outputs": [],
   "source": [
    "gdf.to_file(r'D:\\jupyter notebooks\\2505.12 CIMNE\\watermanagement_vizugy/Fovedvonalak_encode.shp')"
   ]
  },
  {
   "cell_type": "code",
   "execution_count": null,
   "metadata": {},
   "outputs": [],
   "source": []
  }
 ],
 "metadata": {
  "kernelspec": {
   "display_name": "Python 3",
   "language": "python",
   "name": "python3"
  },
  "language_info": {
   "codemirror_mode": {
    "name": "ipython",
    "version": 3
   },
   "file_extension": ".py",
   "mimetype": "text/x-python",
   "name": "python",
   "nbconvert_exporter": "python",
   "pygments_lexer": "ipython3",
   "version": "3.6.5"
  }
 },
 "nbformat": 4,
 "nbformat_minor": 4
}
