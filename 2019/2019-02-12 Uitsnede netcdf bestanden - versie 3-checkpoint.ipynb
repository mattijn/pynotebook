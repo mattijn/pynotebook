{
 "cells": [
  {
   "cell_type": "code",
   "execution_count": 4,
   "metadata": {},
   "outputs": [],
   "source": [
    "import numpy as np\n",
    "import pandas as pd\n",
    "import matplotlib.pyplot as plt\n",
    "from netCDF4 import Dataset \n",
    "from shapely.geometry import Point, Polygon\n",
    "import geopandas as gpd\n",
    "import tqdm\n",
    "\n",
    "from functools import partial\n",
    "import pyproj\n",
    "from shapely.ops import transform\n",
    "from affine import Affine\n",
    "import rasterio.features\n",
    "import cartopy.crs as ccrs\n",
    "import cartopy\n",
    "from cartopy.io.shapereader import Reader\n",
    "from cartopy.feature import ShapelyFeature\n",
    "from datetime import datetime, timedelta\n",
    "\n",
    "#from mpl_toolkits.basemap import Basemap\n",
    "from shapely.strtree import STRtree\n",
    "from descartes import PolygonPatch\n",
    "\n",
    "% matplotlib qt"
   ]
  },
  {
   "cell_type": "code",
   "execution_count": 5,
   "metadata": {},
   "outputs": [],
   "source": [
    "folder = r'D:\\jupyter notebooks\\spelen\\van Dorien'\n",
    "folderShape = r'D:\\jupyter notebooks\\spelen\\van Dorien'"
   ]
  },
  {
   "cell_type": "code",
   "execution_count": 6,
   "metadata": {},
   "outputs": [
    {
     "data": {
      "text/plain": [
       "0    POLYGON ((5.485945997812481 51.60515478596653,...\n",
       "Name: geometry, dtype: object"
      ]
     },
     "execution_count": 6,
     "metadata": {},
     "output_type": "execute_result"
    }
   ],
   "source": [
    "Area = gpd.read_file(folderShape + '\\GrensAaMaas.shp')\n",
    "Area.crs = {'init': 'epsg:28992'}\n",
    "Area = Area.to_crs({'init': 'epsg:4326'})\n",
    "Area.geometry"
   ]
  },
  {
   "cell_type": "code",
   "execution_count": 8,
   "metadata": {},
   "outputs": [],
   "source": [
    "dataset = Dataset(folder + '\\pr_adjust_RACMO-fECEARTH-Member01_NL-grid_obs-EOBS_futr-2026-2075_1H_v1.1.nc')"
   ]
  },
  {
   "cell_type": "code",
   "execution_count": 9,
   "metadata": {},
   "outputs": [],
   "source": [
    "# ax = plt.axes(projection= ccrs.PlateCarree())\n",
    "# plt.pcolor(dataset.variables['lon'],dataset.variables['lat'],dataset.variables['area_cell'])\n",
    "\n",
    "# gl = ax.gridlines(crs=ccrs.PlateCarree(), draw_labels=True,\n",
    "#                   linewidth=2, color='gray', alpha=0.5, linestyle='--')\n",
    "# shape_feature = ShapelyFeature(Area.geometry,ccrs.PlateCarree(), edgecolor='black', facecolor='None')\n",
    "# ax.add_feature(shape_feature)"
   ]
  },
  {
   "cell_type": "code",
   "execution_count": 10,
   "metadata": {},
   "outputs": [],
   "source": [
    "# points = []\n",
    "# lats = dataset.variables['lat'][:]\n",
    "# lons = dataset.variables['lon'][:]\n",
    "# for lon,lat in zip(lons.ravel(), lats.ravel()):\n",
    "\n",
    "#     Point(lon,lat)\n",
    "#     points = points + [Point(lon,lat)]\n",
    "\n",
    "#     plt.plot(lon,lat,marker = 'x', color = 'r')"
   ]
  },
  {
   "cell_type": "code",
   "execution_count": 11,
   "metadata": {},
   "outputs": [],
   "source": [
    "def create_grid(xgr,ygr): \n",
    "    \n",
    "    polys = []\n",
    "    for row in range(len(xgr)-1):\n",
    "        for col in range(len(xgr[0])-1):\n",
    "            vert = [(xgr[row, col], ygr[row, col]), (xgr[row+1, col], ygr[row+1, col]), \n",
    "                     (xgr[row+1, col+1], ygr[row+1, col+1]),  (xgr[row, col+1], ygr[row, col+1])]\n",
    "            pol = Polygon(vert)\n",
    "#             Polygon.crs = {'init': 'epsg:4326'}\n",
    "            pol.row = row\n",
    "            pol.col = col\n",
    "            polys.append(pol)\n",
    "\n",
    "    s = STRtree(polys)\n",
    "    \n",
    "    return s"
   ]
  },
  {
   "cell_type": "code",
   "execution_count": 12,
   "metadata": {},
   "outputs": [],
   "source": [
    "lats = dataset.variables['lat'][:]\n",
    "lons = dataset.variables['lon'][:]\n",
    "s = create_grid(lons,lats)"
   ]
  },
  {
   "cell_type": "code",
   "execution_count": 13,
   "metadata": {},
   "outputs": [],
   "source": [
    "fig, ax = plt.subplots(1, 1)\n",
    "p = Area.geometry[0]\n",
    "pp1 = PolygonPatch(p, fc=\"red\")\n",
    "ax.add_patch(pp1)\n",
    "\n",
    "total_area = 0\n",
    "result = s.query(p)\n",
    "for r in result:\n",
    "    intersect = p.intersection(r)\n",
    "    total_area = total_area + intersect.area\n",
    "    if intersect.area > 0.0:\n",
    "        pp = PolygonPatch(intersect)\n",
    "        ax.add_patch(pp)\n",
    "\n",
    "ax.set_xlim(lons.min(), lons.max())\n",
    "ax.set_ylim(lats.min(), lats.max())\n",
    "plt.show()"
   ]
  },
  {
   "cell_type": "code",
   "execution_count": 14,
   "metadata": {},
   "outputs": [
    {
     "data": {
      "text/plain": [
       "0.2089363819835827"
      ]
     },
     "execution_count": 14,
     "metadata": {},
     "output_type": "execute_result"
    }
   ],
   "source": [
    "total_area"
   ]
  },
  {
   "cell_type": "code",
   "execution_count": null,
   "metadata": {},
   "outputs": [],
   "source": []
  },
  {
   "cell_type": "code",
   "execution_count": null,
   "metadata": {},
   "outputs": [],
   "source": []
  },
  {
   "cell_type": "code",
   "execution_count": null,
   "metadata": {},
   "outputs": [],
   "source": []
  },
  {
   "cell_type": "code",
   "execution_count": null,
   "metadata": {},
   "outputs": [],
   "source": []
  }
 ],
 "metadata": {
  "kernelspec": {
   "display_name": "Python 3",
   "language": "python",
   "name": "python3"
  },
  "language_info": {
   "codemirror_mode": {
    "name": "ipython",
    "version": 3
   },
   "file_extension": ".py",
   "mimetype": "text/x-python",
   "name": "python",
   "nbconvert_exporter": "python",
   "pygments_lexer": "ipython3",
   "version": "3.6.5"
  }
 },
 "nbformat": 4,
 "nbformat_minor": 2
}
