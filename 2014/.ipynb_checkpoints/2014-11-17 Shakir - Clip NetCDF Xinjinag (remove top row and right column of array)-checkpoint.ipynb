{
 "cells": [
  {
   "cell_type": "code",
   "execution_count": 7,
   "metadata": {
    "collapsed": false
   },
   "outputs": [],
   "source": [
    "%matplotlib inline\n",
    "from osgeo import gdal\n",
    "import numpy as np\n",
    "import pandas as pd\n",
    "import scipy as sp\n",
    "import matplotlib.pyplot as plt"
   ]
  },
  {
   "cell_type": "code",
   "execution_count": 13,
   "metadata": {
    "collapsed": false
   },
   "outputs": [],
   "source": [
    "driver = gdal.GetDriverByName('NetCDF')"
   ]
  },
  {
   "cell_type": "code",
   "execution_count": 14,
   "metadata": {
    "collapsed": false
   },
   "outputs": [
    {
     "data": {
      "text/plain": [
       "38"
      ]
     },
     "execution_count": 14,
     "metadata": {},
     "output_type": "execute_result"
    }
   ],
   "source": [
    "driver.Register()"
   ]
  },
  {
   "cell_type": "code",
   "execution_count": 20,
   "metadata": {
    "collapsed": false
   },
   "outputs": [],
   "source": [
    "def modelout_to_geotif(netcdfile, outdir, VarName):\n",
    "    \"\"\" Given the path to the netcdf output,\n",
    "    produces geotiffs for each band of the given variable name.\n",
    "\n",
    "    Input::\n",
    "        netcdfile: string path to netcdf file\n",
    "        VarName: string variable name in netcdf file (e.g. 'GridPrec')\n",
    "\n",
    "    Output::\n",
    "        creates geotiffs for each 'band' (e.g. time step). Output is written\n",
    "        to current working directory.\n",
    "\n",
    "\n",
    "    \"\"\"\n",
    "    try:\n",
    "        nci = gdal.Open('NETCDF:{0}:{1}'.format(netcdfile, VarName))\n",
    "        ncd = Dataset(netcdfile)\n",
    "    except:\n",
    "        print(\"Could not open input file: {0}\".format(netcdfile))\n",
    "        return\n",
    "\n",
    "    try:\n",
    "        geotransform = nci.GetGeoTransform()\n",
    "    except:\n",
    "        print(\"Could not get geotransform.\\n\")\n",
    "        return\n",
    "    try:\n",
    "        projection = nci.GetProjection()\n",
    "    except:\n",
    "        print(\"Could not get projection.\\n\")\n",
    "        return\n",
    "\n",
    "    numbands = nci.RasterCount\n",
    "    times = [o2d(t) for t in ncd.variables['time']]\n",
    "    print(\"Found {0} bands to process for {1}\".format(numbands, VarName))\n",
    "    for i in range(numbands):\n",
    "        time = times[i]\n",
    "        band = nci.GetRasterBand(i+1)\n",
    "        raster = band.ReadAsArray()\n",
    "        y,x = raster.shape\n",
    "\n",
    "        output_file = \"{0}_{1}.tif\".format(VarName, time.strftime('%Y%m%d_%H'))\n",
    "        subdir = os.path.join(outdir, VarName)\n",
    "        if not os.path.exists(subdir):\n",
    "            os.mkdir(subdir)\n",
    "        output_file = os.path.join(subdir, output_file)\n",
    "        if os.path.exists(output_file):\n",
    "            continue\n",
    "        # Create gtif\n",
    "        driver = gdal.GetDriverByName(\"GTiff\")\n",
    "        #TODO: Make this more generic\n",
    "        dst_ds = driver.Create(output_file, x, y, 1, gdal.GDT_CFloat32 )\n",
    "\n",
    "        # top left x, w-e pixel resolution, rotation, top left y, rotation, n-s pixel resolution\n",
    "        dst_ds.SetGeoTransform( geotransform )\n",
    "\n",
    "        # set the reference info \n",
    "        dst_ds.SetProjection( projection )\n",
    "\n",
    "        # write the band\n",
    "        dst_ds.GetRasterBand(1).WriteArray(raster)"
   ]
  },
  {
   "cell_type": "code",
   "execution_count": 24,
   "metadata": {
    "collapsed": false
   },
   "outputs": [
    {
     "name": "stdout",
     "output_type": "stream",
     "text": [
      "Could not open input file: D:\\Downloads//CL.nc\n"
     ]
    }
   ],
   "source": [
    "in_ = r'D:\\Downloads//CL.nc'\n",
    "out_ =  r'D:\\Downloads\\12//'\n",
    "modelout_to_geotif(in_,out_,'lat')"
   ]
  },
  {
   "cell_type": "code",
   "execution_count": 15,
   "metadata": {
    "collapsed": false
   },
   "outputs": [],
   "source": [
    "from osgeo import gdal, ogr\n",
    "import sys\n",
    "import subprocess as sp\n",
    "import os\n",
    "\n",
    "def clipraster(folderin, shapefile, folderout, format_end=''):\n",
    "\n",
    "    files = [os.path.join(root, name)\n",
    "               for root, dirs, files in os.walk(folderin)\n",
    "                 for name in files                 \n",
    "                 if name.endswith(format_end)]\n",
    "    \n",
    "    daShapefile = shapefile\n",
    "    driver = ogr.GetDriverByName('ESRI Shapefile')\n",
    "    dataSource = driver.Open(daShapefile, 0)\n",
    "    layer = dataSource.GetLayer()\n",
    "    ex1,ex2,ex3,ex4 = layer.GetExtent()\n",
    "    gdal_translate = 'C:\\Python34\\Lib\\site-packages\\osgeo\\\\gdal_translate.exe'\n",
    "\n",
    "    for j in files[0:1]:\n",
    "        out = j[-2:-1]+'xinjiang.tif'\n",
    "        path = folderout+out\n",
    "        j2 = \"NETCDF:\"+r'D:\\Downloads\\Mattijn@Shakir\\CL\\CL.nc'+\":CL\"\n",
    "        paramsnorm = [gdal_translate, \"-projwin\", str(ex1), str(ex4), str(ex2), str(ex3), \n",
    "                      j2, path]\n",
    "        print (sp.list2cmdline(paramsnorm))\n",
    "        print (j2)\n",
    "        norm = sp.Popen(sp.list2cmdline(paramsnorm), shell=True)     \n",
    "        norm.communicate() "
   ]
  },
  {
   "cell_type": "code",
   "execution_count": 18,
   "metadata": {
    "collapsed": false
   },
   "outputs": [],
   "source": [
    "layer = gdal.Open('NETCDF:\"'+r'D:\\Downloads\\Mattijn@Shakir\\CL\\CL.nc'+'\":lat')"
   ]
  },
  {
   "cell_type": "code",
   "execution_count": null,
   "metadata": {
    "collapsed": false
   },
   "outputs": [],
   "source": []
  },
  {
   "cell_type": "markdown",
   "metadata": {},
   "source": [
    "Open and Clip NETCDF file field capacity and permanent wilting point"
   ]
  },
  {
   "cell_type": "code",
   "execution_count": null,
   "metadata": {
    "collapsed": false
   },
   "outputs": [],
   "source": [
    "folderout = r'D:\\Downloads\\Mattijn@Shakir\\CL_Xinjiang//'\n",
    "folderin = r'D:\\Downloads\\Mattijn@Shakir\\CL'\n",
    "#folderin = 'C:\\Downloads\\TH33//'\n",
    "#folderin = 'C:\\Users\\Matt\\Downloads\\Globcover2009_V2.3_Global_//'\n",
    "shapefile = r'D:\\Downloads\\Mattijn@Shakir\\xijiang border//xinjiang.shp'\n",
    "format_end = 'nc'\n",
    "clipraster(folderin,shapefile,folderout,format_end)"
   ]
  },
  {
   "cell_type": "code",
   "execution_count": null,
   "metadata": {
    "collapsed": false
   },
   "outputs": [],
   "source": [
    "def OpenRaster(filepath, band=1):\n",
    "    \"\"\"\n",
    "    In:\n",
    "    filepath = path to file\n",
    "    band     = 1\n",
    "\n",
    "    Return:\n",
    "    raster   = raster info\n",
    "    array    = numpy array\n",
    "    extent   = extent info\n",
    "    \"\"\"\n",
    "    raster = gdal.Open(filepath, gdal.GA_ReadOnly)\n",
    "    band = raster.GetRasterBand(band)\n",
    "    array = band.ReadAsArray()\n",
    "    extent = raster.GetGeoTransform()\n",
    "    return raster, array, extent\n",
    "\n",
    "def saveRaster(path, array, dsSource, datatype=3, formatraster=\"GTiff\", nan=None): \n",
    "    \"\"\"\n",
    "    Datatypes:\n",
    "    unknown = 0\n",
    "    byte = 1\n",
    "    unsigned int16 = 2\n",
    "    signed int16 = 3\n",
    "    unsigned int32 = 4\n",
    "    signed int32 = 5\n",
    "    float32 = 6\n",
    "    float64 = 7\n",
    "    complex int16 = 8\n",
    "    complex int32 = 9\n",
    "    complex float32 = 10\n",
    "    complex float64 = 11\n",
    "    float32 = 6, \n",
    "    signed int = 3\n",
    "    \n",
    "    Formatraster:\n",
    "    GeoTIFF = GTiff\n",
    "    Erdas = HFA (output = .img)\n",
    "    OGC web map service = WMS\n",
    "    png = PNG\n",
    "    \"\"\"\n",
    "    # Set Driver\n",
    "    format_ = formatraster #save as format\n",
    "    driver = gdal.GetDriverByName( format_ )\n",
    "    driver.Register()\n",
    "    \n",
    "    # Set Metadata for Raster output\n",
    "    cols = dsSource.RasterXSize\n",
    "    rows = dsSource.RasterYSize\n",
    "    bands = dsSource.RasterCount\n",
    "    datatype = datatype#band.DataType\n",
    "    \n",
    "    # Set Projection for Raster\n",
    "    outDataset = driver.Create(path, cols, rows, bands, datatype)\n",
    "    geoTransform = dsSource.GetGeoTransform()\n",
    "    outDataset.SetGeoTransform(geoTransform)\n",
    "    proj = dsSource.GetProjection()\n",
    "    outDataset.SetProjection(proj)\n",
    "    \n",
    "    # Write output to band 1 of new Raster and write NaN value\n",
    "    outBand = outDataset.GetRasterBand(1)\n",
    "    if nan != None:\n",
    "        outBand.SetNoDataValue(nan)\n",
    "    outBand.WriteArray(array) #save input array\n",
    "    #outBand.WriteArray(dem)\n",
    "    \n",
    "    # Close and finalise newly created Raster\n",
    "    #F_M01 = None\n",
    "    outBand = None\n",
    "    proj = None\n",
    "    geoTransform = None\n",
    "    outDataset = None\n",
    "    driver = None\n",
    "    datatype = None\n",
    "    bands = None\n",
    "    rows = None\n",
    "    cols = None\n",
    "    driver = None\n",
    "    array = None"
   ]
  },
  {
   "cell_type": "markdown",
   "metadata": {},
   "source": [
    "Remove top and right line of array"
   ]
  },
  {
   "cell_type": "code",
   "execution_count": null,
   "metadata": {
    "collapsed": false
   },
   "outputs": [],
   "source": [
    "raster, array, extent = OpenRaster('C:\\Users\\Matt\\Downloads\\AWC_CLASS2//MERIS_CN_Reclass_Clip.tif')\n",
    "array_out = array[1::].T[0:-1].T\n",
    "ds_ref = gdal.Open(r'G:\\Data\\0_DAILY_INTERVAL_NDVI_TRMM\\InnerMongolia\\2009\\OUTPUT_SummerOnly\\COMB//ph.tif')\n",
    "path_out = r'C:\\Users\\Matt\\Downloads\\AWC_CLASS2//meris_cn.tif'"
   ]
  },
  {
   "cell_type": "code",
   "execution_count": null,
   "metadata": {
    "collapsed": false
   },
   "outputs": [],
   "source": [
    "saveRaster(path_out, array_out, ds_ref, datatype=6)"
   ]
  }
 ],
 "metadata": {
  "kernelspec": {
   "display_name": "Python 2",
   "language": "python",
   "name": "python2"
  },
  "language_info": {
   "codemirror_mode": {
    "name": "ipython",
    "version": 2
   },
   "file_extension": ".py",
   "mimetype": "text/x-python",
   "name": "python",
   "nbconvert_exporter": "python",
   "pygments_lexer": "ipython2",
   "version": "2.7.6"
  }
 },
 "nbformat": 4,
 "nbformat_minor": 0
}
