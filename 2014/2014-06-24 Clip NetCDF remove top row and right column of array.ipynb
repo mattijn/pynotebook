{
 "metadata": {
  "name": ""
 },
 "nbformat": 3,
 "nbformat_minor": 0,
 "worksheets": [
  {
   "cells": [
    {
     "cell_type": "code",
     "collapsed": false,
     "input": [
      "%matplotlib inline\n",
      "from osgeo import gdal\n",
      "import numpy as np\n",
      "import pandas as pd\n",
      "import scipy as sp\n",
      "import matplotlib.pyplot as plt\n",
      "from osgeo import gdal, ogr\n",
      "import sys\n",
      "import subprocess as sp\n",
      "import os\n",
      "from osgeo import gdal\n",
      "from osgeo.gdalconst import *"
     ],
     "language": "python",
     "metadata": {},
     "outputs": [],
     "prompt_number": 1
    },
    {
     "cell_type": "code",
     "collapsed": false,
     "input": [
      "gdal.AllRegister()"
     ],
     "language": "python",
     "metadata": {},
     "outputs": [],
     "prompt_number": 2
    },
    {
     "cell_type": "code",
     "collapsed": false,
     "input": [
      "shapefile = 'D:\\GoogleChromeDownloads\\CL//xinjiang.shp'\n",
      "daShapefile = shapefile\n",
      "driver = ogr.GetDriverByName('ESRI Shapefile')\n",
      "dataSource = driver.Open(daShapefile, 0)\n",
      "layer = dataSource.GetLayer()\n",
      "ex1,ex2,ex3,ex4 = layer.GetExtent()\n",
      "gdal_translate = 'C:\\Python34\\Lib\\site-packages\\osgeo\\\\gdal_translate.exe'"
     ],
     "language": "python",
     "metadata": {},
     "outputs": [],
     "prompt_number": 26
    },
    {
     "cell_type": "code",
     "collapsed": false,
     "input": [
      "folderout = r'D:\\GoogleChromeDownloads\\CL\\out//'\n",
      "folderin = r'D:\\GoogleChromeDownloads\\CL//CL.nc'\n",
      "file_nc = 'NETCDF:\"'+folderin+'\":CL'\n",
      "\n",
      "pathout = folderout+'xinjiang.tif'\n",
      "\n",
      "folderin = r'D:\\GoogleChromeDownloads\\CL//CL.nc'\n",
      "file_nc = 'NETCDF:\"'+folderin+'\":CL'\n",
      "ds = gdal.Open(file_nc, GA_ReadOnly)\n",
      "ds.RasterCount"
     ],
     "language": "python",
     "metadata": {},
     "outputs": [
      {
       "metadata": {},
       "output_type": "pyout",
       "prompt_number": 30,
       "text": [
        "8"
       ]
      }
     ],
     "prompt_number": 30
    },
    {
     "cell_type": "code",
     "collapsed": false,
     "input": [
      "file_nc, pathout"
     ],
     "language": "python",
     "metadata": {},
     "outputs": [
      {
       "metadata": {},
       "output_type": "pyout",
       "prompt_number": 31,
       "text": [
        "('NETCDF:\"D:\\\\GoogleChromeDownloads\\\\CL//CL.nc\":CL',\n",
        " 'D:\\\\GoogleChromeDownloads\\\\CL\\\\out//xinjiang.tif')"
       ]
      }
     ],
     "prompt_number": 31
    },
    {
     "cell_type": "code",
     "collapsed": false,
     "input": [
      "paramsnorm = [gdal_translate, \"-projwin\", str(ex1), str(ex4), str(ex2), str(ex3), file_nc, pathout]\n",
      "print (sp.list2cmdline(paramsnorm))\n",
      "print (file_nc)\n",
      "norm = sp.Popen(sp.list2cmdline(paramsnorm), shell=True)     \n",
      "norm.communicate() "
     ],
     "language": "python",
     "metadata": {},
     "outputs": [
      {
       "output_type": "stream",
       "stream": "stdout",
       "text": [
        "C:\\Python34\\Lib\\site-packages\\osgeo\\gdal_translate.exe -projwin 73.44696 49.1775890006 96.383751 34.332981 NETCDF:\\\"D:\\GoogleChromeDownloads\\CL//CL.nc\\\":CL D:\\GoogleChromeDownloads\\CL\\out//xinjiang.tif\n",
        "NETCDF:\"D:\\GoogleChromeDownloads\\CL//CL.nc\":CL\n"
       ]
      },
      {
       "metadata": {},
       "output_type": "pyout",
       "prompt_number": 32,
       "text": [
        "(None, None)"
       ]
      }
     ],
     "prompt_number": 32
    },
    {
     "cell_type": "code",
     "collapsed": false,
     "input": [
      "from osgeo import gdal, ogr\n",
      "import sys\n",
      "import subprocess as sp\n",
      "import os\n",
      "\n",
      "def clipraster(folderin, shapefile, folderout, format_end=''):\n",
      "\n",
      "    files = [os.path.join(root, name)\n",
      "               for root, dirs, files in os.walk(folderin)\n",
      "                 for name in files                 \n",
      "                 if name.endswith(format_end)]\n",
      "    \n",
      "    daShapefile = shapefile\n",
      "    driver = ogr.GetDriverByName('ESRI Shapefile')\n",
      "    dataSource = driver.Open(daShapefile, 0)\n",
      "    layer = dataSource.GetLayer()\n",
      "    ex1,ex2,ex3,ex4 = layer.GetExtent()\n",
      "    gdal_translate = 'C:\\Python27\\Lib\\site-packages\\osgeo\\\\gdal_translate.exe'\n",
      "\n",
      "    for j in files[0:1]:\n",
      "        out = j[-7:-3]+'china.tif'\n",
      "        path = folderout+out\n",
      "        j2 = \"NETCDF:\"+r'C:\\Downloads\\TH33\\TH33.nc'+\":TH33\"\n",
      "        paramsnorm = [gdal_translate, \"-projwin\", str(ex1), str(ex4), str(ex2), str(ex3), j2, path]\n",
      "        print (sp.list2cmdline(paramsnorm))\n",
      "        print (j2)\n",
      "        norm = sp.Popen(sp.list2cmdline(paramsnorm), shell=True)     \n",
      "        norm.communicate() "
     ],
     "language": "python",
     "metadata": {},
     "outputs": []
    },
    {
     "cell_type": "code",
     "collapsed": false,
     "input": [
      "layer = gdal.Open('netCDF:\"G:\\New folder\\AWC_CLASS1//AWC_CLASS1.nc\":long')"
     ],
     "language": "python",
     "metadata": {},
     "outputs": []
    },
    {
     "cell_type": "code",
     "collapsed": false,
     "input": [
      "folderin = r'D:\\GoogleChromeDownloads\\CL//CL.nc'\n",
      "file_nc = 'NETCDF:\"'+folderin+'\"'#:CL'\n",
      "ds = gdal.Open(file_nc, GA_ReadOnly)\n",
      "ds.RasterCount"
     ],
     "language": "python",
     "metadata": {},
     "outputs": [
      {
       "metadata": {},
       "output_type": "pyout",
       "prompt_number": 21,
       "text": [
        "8"
       ]
      }
     ],
     "prompt_number": 21
    },
    {
     "cell_type": "markdown",
     "metadata": {},
     "source": [
      "Open and Clip NETCDF file field capacity and permanent wilting point"
     ]
    },
    {
     "cell_type": "code",
     "collapsed": false,
     "input": [
      "folderout = 'C:\\Users\\Matt\\Downloads\\AWC_CLASS2\\sm_retention//'\n",
      "folderin = 'C:\\Downloads\\TH33//'\n",
      "#folderin = 'C:\\Downloads\\TH33//'\n",
      "#folderin = 'C:\\Users\\Matt\\Downloads\\Globcover2009_V2.3_Global_//'\n",
      "shapefile = 'G:\\Data\\ChinaShapefile//Inner Mongolia.shp'\n",
      "format_end = 'nc'\n",
      "clipraster(folderin,shapefile,folderout,format_end)"
     ],
     "language": "python",
     "metadata": {},
     "outputs": []
    },
    {
     "cell_type": "code",
     "collapsed": false,
     "input": [
      "def OpenRaster(filepath, band=1):\n",
      "    \"\"\"\n",
      "    In:\n",
      "    filepath = path to file\n",
      "    band     = 1\n",
      "\n",
      "    Return:\n",
      "    raster   = raster info\n",
      "    array    = numpy array\n",
      "    extent   = extent info\n",
      "    \"\"\"\n",
      "    raster = gdal.Open(filepath, gdal.GA_ReadOnly)\n",
      "    band = raster.GetRasterBand(band)\n",
      "    array = band.ReadAsArray()\n",
      "    extent = raster.GetGeoTransform()\n",
      "    return raster, array, extent\n",
      "\n",
      "def saveRaster(path, array, dsSource, datatype=3, formatraster=\"GTiff\", nan=None): \n",
      "    \"\"\"\n",
      "    Datatypes:\n",
      "    unknown = 0\n",
      "    byte = 1\n",
      "    unsigned int16 = 2\n",
      "    signed int16 = 3\n",
      "    unsigned int32 = 4\n",
      "    signed int32 = 5\n",
      "    float32 = 6\n",
      "    float64 = 7\n",
      "    complex int16 = 8\n",
      "    complex int32 = 9\n",
      "    complex float32 = 10\n",
      "    complex float64 = 11\n",
      "    float32 = 6, \n",
      "    signed int = 3\n",
      "    \n",
      "    Formatraster:\n",
      "    GeoTIFF = GTiff\n",
      "    Erdas = HFA (output = .img)\n",
      "    OGC web map service = WMS\n",
      "    png = PNG\n",
      "    \"\"\"\n",
      "    # Set Driver\n",
      "    format_ = formatraster #save as format\n",
      "    driver = gdal.GetDriverByName( format_ )\n",
      "    driver.Register()\n",
      "    \n",
      "    # Set Metadata for Raster output\n",
      "    cols = dsSource.RasterXSize\n",
      "    rows = dsSource.RasterYSize\n",
      "    bands = dsSource.RasterCount\n",
      "    datatype = datatype#band.DataType\n",
      "    \n",
      "    # Set Projection for Raster\n",
      "    outDataset = driver.Create(path, cols, rows, bands, datatype)\n",
      "    geoTransform = dsSource.GetGeoTransform()\n",
      "    outDataset.SetGeoTransform(geoTransform)\n",
      "    proj = dsSource.GetProjection()\n",
      "    outDataset.SetProjection(proj)\n",
      "    \n",
      "    # Write output to band 1 of new Raster and write NaN value\n",
      "    outBand = outDataset.GetRasterBand(1)\n",
      "    if nan != None:\n",
      "        outBand.SetNoDataValue(nan)\n",
      "    outBand.WriteArray(array) #save input array\n",
      "    #outBand.WriteArray(dem)\n",
      "    \n",
      "    # Close and finalise newly created Raster\n",
      "    #F_M01 = None\n",
      "    outBand = None\n",
      "    proj = None\n",
      "    geoTransform = None\n",
      "    outDataset = None\n",
      "    driver = None\n",
      "    datatype = None\n",
      "    bands = None\n",
      "    rows = None\n",
      "    cols = None\n",
      "    driver = None\n",
      "    array = None"
     ],
     "language": "python",
     "metadata": {},
     "outputs": []
    },
    {
     "cell_type": "markdown",
     "metadata": {},
     "source": [
      "Remove top and right line of array"
     ]
    },
    {
     "cell_type": "code",
     "collapsed": false,
     "input": [
      "raster, array, extent = OpenRaster('C:\\Users\\Matt\\Downloads\\AWC_CLASS2//MERIS_CN_Reclass_Clip.tif')\n",
      "array_out = array[1::].T[0:-1].T\n",
      "ds_ref = gdal.Open(r'G:\\Data\\0_DAILY_INTERVAL_NDVI_TRMM\\InnerMongolia\\2009\\OUTPUT_SummerOnly\\COMB//ph.tif')\n",
      "path_out = r'C:\\Users\\Matt\\Downloads\\AWC_CLASS2//meris_cn.tif'"
     ],
     "language": "python",
     "metadata": {},
     "outputs": []
    },
    {
     "cell_type": "code",
     "collapsed": false,
     "input": [
      "saveRaster(path_out, array_out, ds_ref, datatype=6)"
     ],
     "language": "python",
     "metadata": {},
     "outputs": []
    }
   ],
   "metadata": {}
  }
 ]
}