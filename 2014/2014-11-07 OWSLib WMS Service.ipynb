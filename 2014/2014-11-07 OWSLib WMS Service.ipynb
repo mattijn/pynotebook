{
 "metadata": {
  "name": ""
 },
 "nbformat": 3,
 "nbformat_minor": 0,
 "worksheets": [
  {
   "cells": [
    {
     "cell_type": "code",
     "collapsed": false,
     "input": [
      "from owslib.wms import WebMapService"
     ],
     "language": "python",
     "metadata": {},
     "outputs": [],
     "prompt_number": 2
    },
    {
     "cell_type": "code",
     "collapsed": false,
     "input": [
      "wms = WebMapService('http://geo.hardenberg.nl/geoserver/topp/wms?service=WMS', version='1.1.0')"
     ],
     "language": "python",
     "metadata": {},
     "outputs": [],
     "prompt_number": 3
    },
    {
     "cell_type": "code",
     "collapsed": false,
     "input": [
      "img = wms.getmap(layers=['topp:O10002_Lufo_Ommen_Hardenberg2014'],\n",
      "                 srs = ' EPSG:28992',\n",
      "                 bbox = (235361,507646,235762,508068),\n",
      "                 size = (4000, 4000),\n",
      "                 format = 'image/jpeg',\n",
      "                 transparent = True\n",
      "                 )\n",
      "\n",
      "out = open(r'C:\\Users\\lenovo\\Downloads//OldemeijerExtraLarge_pic4.jpg', 'wb')\n",
      "out.write(img.read())\n",
      "out.close"
     ],
     "language": "python",
     "metadata": {},
     "outputs": [
      {
       "metadata": {},
       "output_type": "pyout",
       "prompt_number": 7,
       "text": [
        "<function close>"
       ]
      }
     ],
     "prompt_number": 7
    },
    {
     "cell_type": "code",
     "collapsed": false,
     "input": [
      "234960,507224,235361,507646"
     ],
     "language": "python",
     "metadata": {},
     "outputs": []
    },
    {
     "cell_type": "code",
     "collapsed": false,
     "input": [
      "wms.identification.type"
     ],
     "language": "python",
     "metadata": {},
     "outputs": [
      {
       "metadata": {},
       "output_type": "pyout",
       "prompt_number": 9,
       "text": [
        "'OGC:WMS'"
       ]
      }
     ],
     "prompt_number": 9
    },
    {
     "cell_type": "code",
     "collapsed": false,
     "input": [
      "wms.identification.abstract"
     ],
     "language": "python",
     "metadata": {},
     "outputs": [
      {
       "metadata": {},
       "output_type": "pyout",
       "prompt_number": 10,
       "text": [
        "'NedGraphics B.V. - NedGeoservices'"
       ]
      }
     ],
     "prompt_number": 10
    },
    {
     "cell_type": "code",
     "collapsed": false,
     "input": [
      "list(wms.contents)"
     ],
     "language": "python",
     "metadata": {},
     "outputs": [
      {
       "metadata": {},
       "output_type": "pyout",
       "prompt_number": 11,
       "text": [
        "['topp:O10002_archeologische_monumenten',\n",
        " 'topp:O10002_kavelverkoop_hdb',\n",
        " 'topp:O10002_gemeentegrens',\n",
        " 'topp:O10002_Lufo_Ommen_Hardenberg2014',\n",
        " 'topp:O10002_bgt_mutatieregistratie',\n",
        " 'topp:O10002_bis_rap_gegevens',\n",
        " 'topp:O10002_gbkoh_1p',\n",
        " 'topp:O10002_hoofdgroenstr_2013_v',\n",
        " 'topp:O10002_Ommen_Hardenberg2012',\n",
        " 'topp:O10002_bgthdb_v',\n",
        " 'topp:O10002_beschermd_dorpsgezicht',\n",
        " 'topp:O10002_gbkoh_gb1p',\n",
        " 'topp:O10002_gbkoh_t',\n",
        " 'topp:O10002_gbkoh_v',\n",
        " 'topp:O10002_gbkoh_2p',\n",
        " 'topp:O10002_gbkoh_l',\n",
        " 'topp:O10002_archeologie_beleid_hdb',\n",
        " 'topp:O10002_archeolog_waarden',\n",
        " 'topp:O10002_archeolog_vindplaats',\n",
        " 'topp:O10002_projecten_fase_extern',\n",
        " 'topp:O10002_plantopo',\n",
        " 'topp:O10002_kad_kaart',\n",
        " 'topp:O10002_bis_loc_gegevens',\n",
        " 'topp:O10002_hoofdgroenstr_v',\n",
        " 'topp:O10002_projecten_extern']"
       ]
      }
     ],
     "prompt_number": 11
    },
    {
     "cell_type": "code",
     "collapsed": false,
     "input": [
      "wms['topp:O10002_Lufo_Ommen_Hardenberg2014'].crsOptions"
     ],
     "language": "python",
     "metadata": {},
     "outputs": [
      {
       "metadata": {},
       "output_type": "pyout",
       "prompt_number": 5,
       "text": [
        "['EPSG:28992']"
       ]
      }
     ],
     "prompt_number": 5
    },
    {
     "cell_type": "code",
     "collapsed": false,
     "input": [
      "[op.name for op in wms.operations]"
     ],
     "language": "python",
     "metadata": {},
     "outputs": [
      {
       "metadata": {},
       "output_type": "pyout",
       "prompt_number": 14,
       "text": [
        "['GetCapabilities',\n",
        " 'GetMap',\n",
        " 'GetFeatureInfo',\n",
        " 'DescribeLayer',\n",
        " 'GetLegendGraphic',\n",
        " 'GetStyles']"
       ]
      }
     ],
     "prompt_number": 14
    },
    {
     "cell_type": "code",
     "collapsed": false,
     "input": [
      "wms.getOperationByName('GetMap').methods"
     ],
     "language": "python",
     "metadata": {},
     "outputs": [
      {
       "metadata": {},
       "output_type": "pyout",
       "prompt_number": 15,
       "text": [
        "[{'type': 'Get',\n",
        "  'url': 'http://geo.hardenberg.nl:80/geoserver/topp/wms?SERVICE=WMS&'}]"
       ]
      }
     ],
     "prompt_number": 15
    },
    {
     "cell_type": "code",
     "collapsed": false,
     "input": [
      "for x in range(234960, 235760, 200):\n",
      "    print x"
     ],
     "language": "python",
     "metadata": {},
     "outputs": [
      {
       "output_type": "stream",
       "stream": "stdout",
       "text": [
        "234960\n",
        "235160\n",
        "235360\n",
        "235560\n"
       ]
      }
     ],
     "prompt_number": 1
    },
    {
     "cell_type": "code",
     "collapsed": false,
     "input": [
      "from owslib.wms import WebMapService\n",
      "wms = WebMapService('http://geo.hardenberg.nl/geoserver/topp/wms?service=WMS', version='1.1.0')\n",
      "step = 200\n",
      "for x in range(0,800,step):    \n",
      "    for y in range(0,800,step):\n",
      "        img = \"pic_x\"+str(y)+\"_y\"+str(x)\n",
      "\n",
      "        bottom_y = 507224+x\n",
      "        left_x = 234960+y\n",
      "            \n",
      "        top_y = bottom_y + step\n",
      "        right_x = left_x + step\n",
      "        \n",
      "        coord = (left_x,bottom_y,right_x,top_y)\n",
      "        \n",
      "        print coord\n",
      "        print img\n",
      "        file_out = r'C:\\Users\\lenovo\\Downloads//'+img+'.jpg'\n",
      "        print file_out\n",
      "\n",
      "        img = wms.getmap(layers=['topp:O10002_Lufo_Ommen_Hardenberg2014'],\n",
      "                         srs = ' EPSG:28992',\n",
      "                         bbox = coord,\n",
      "                         size = (4000, 4000),\n",
      "                         format = 'image/jpeg',\n",
      "                         transparent = True\n",
      "                         )\n",
      "        \n",
      "        out = open(file_out, 'wb')\n",
      "        out.write(img.read())\n",
      "        out.close        "
     ],
     "language": "python",
     "metadata": {},
     "outputs": [
      {
       "output_type": "stream",
       "stream": "stdout",
       "text": [
        "(234960, 507224, 235160, 507424)\n",
        "pic_x0_y0\n",
        "C:\\Users\\lenovo\\Downloads//pic_x0_y0.jpg\n",
        "(235160, 507224, 235360, 507424)"
       ]
      },
      {
       "output_type": "stream",
       "stream": "stdout",
       "text": [
        "\n",
        "pic_x200_y0\n",
        "C:\\Users\\lenovo\\Downloads//pic_x200_y0.jpg\n",
        "(235360, 507224, 235560, 507424)"
       ]
      },
      {
       "output_type": "stream",
       "stream": "stdout",
       "text": [
        "\n",
        "pic_x400_y0\n",
        "C:\\Users\\lenovo\\Downloads//pic_x400_y0.jpg\n",
        "(235560, 507224, 235760, 507424)"
       ]
      },
      {
       "output_type": "stream",
       "stream": "stdout",
       "text": [
        "\n",
        "pic_x600_y0\n",
        "C:\\Users\\lenovo\\Downloads//pic_x600_y0.jpg\n",
        "(234960, 507424, 235160, 507624)"
       ]
      },
      {
       "output_type": "stream",
       "stream": "stdout",
       "text": [
        "\n",
        "pic_x0_y200\n",
        "C:\\Users\\lenovo\\Downloads//pic_x0_y200.jpg\n",
        "(235160, 507424, 235360, 507624)"
       ]
      },
      {
       "output_type": "stream",
       "stream": "stdout",
       "text": [
        "\n",
        "pic_x200_y200\n",
        "C:\\Users\\lenovo\\Downloads//pic_x200_y200.jpg\n",
        "(235360, 507424, 235560, 507624)"
       ]
      },
      {
       "output_type": "stream",
       "stream": "stdout",
       "text": [
        "\n",
        "pic_x400_y200\n",
        "C:\\Users\\lenovo\\Downloads//pic_x400_y200.jpg\n",
        "(235560, 507424, 235760, 507624)"
       ]
      },
      {
       "output_type": "stream",
       "stream": "stdout",
       "text": [
        "\n",
        "pic_x600_y200\n",
        "C:\\Users\\lenovo\\Downloads//pic_x600_y200.jpg\n",
        "(234960, 507624, 235160, 507824)"
       ]
      },
      {
       "output_type": "stream",
       "stream": "stdout",
       "text": [
        "\n",
        "pic_x0_y400\n",
        "C:\\Users\\lenovo\\Downloads//pic_x0_y400.jpg\n",
        "(235160, 507624, 235360, 507824)"
       ]
      },
      {
       "output_type": "stream",
       "stream": "stdout",
       "text": [
        "\n",
        "pic_x200_y400\n",
        "C:\\Users\\lenovo\\Downloads//pic_x200_y400.jpg\n",
        "(235360, 507624, 235560, 507824)"
       ]
      },
      {
       "output_type": "stream",
       "stream": "stdout",
       "text": [
        "\n",
        "pic_x400_y400\n",
        "C:\\Users\\lenovo\\Downloads//pic_x400_y400.jpg\n",
        "(235560, 507624, 235760, 507824)"
       ]
      },
      {
       "output_type": "stream",
       "stream": "stdout",
       "text": [
        "\n",
        "pic_x600_y400\n",
        "C:\\Users\\lenovo\\Downloads//pic_x600_y400.jpg\n",
        "(234960, 507824, 235160, 508024)"
       ]
      },
      {
       "output_type": "stream",
       "stream": "stdout",
       "text": [
        "\n",
        "pic_x0_y600\n",
        "C:\\Users\\lenovo\\Downloads//pic_x0_y600.jpg\n",
        "(235160, 507824, 235360, 508024)"
       ]
      },
      {
       "output_type": "stream",
       "stream": "stdout",
       "text": [
        "\n",
        "pic_x200_y600\n",
        "C:\\Users\\lenovo\\Downloads//pic_x200_y600.jpg\n",
        "(235360, 507824, 235560, 508024)"
       ]
      },
      {
       "output_type": "stream",
       "stream": "stdout",
       "text": [
        "\n",
        "pic_x400_y600\n",
        "C:\\Users\\lenovo\\Downloads//pic_x400_y600.jpg\n",
        "(235560, 507824, 235760, 508024)"
       ]
      },
      {
       "output_type": "stream",
       "stream": "stdout",
       "text": [
        "\n",
        "pic_x600_y600\n",
        "C:\\Users\\lenovo\\Downloads//pic_x600_y600.jpg\n"
       ]
      }
     ],
     "prompt_number": 20
    },
    {
     "cell_type": "code",
     "collapsed": false,
     "input": [],
     "language": "python",
     "metadata": {},
     "outputs": []
    }
   ],
   "metadata": {}
  }
 ]
}