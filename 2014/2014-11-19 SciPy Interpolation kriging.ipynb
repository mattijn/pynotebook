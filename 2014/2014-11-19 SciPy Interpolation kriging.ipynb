{
 "metadata": {
  "name": ""
 },
 "nbformat": 3,
 "nbformat_minor": 0,
 "worksheets": [
  {
   "cells": [
    {
     "cell_type": "code",
     "collapsed": false,
     "input": [
      "%pylab inline"
     ],
     "language": "python",
     "metadata": {},
     "outputs": [
      {
       "output_type": "stream",
       "stream": "stdout",
       "text": [
        "Populating the interactive namespace from numpy and matplotlib\n"
       ]
      }
     ],
     "prompt_number": 4
    },
    {
     "cell_type": "code",
     "collapsed": false,
     "input": [
      "from pylab import *\n",
      "import numpy as np\n",
      "from pandas import DataFrame, Series\n",
      "from scipy.spatial.distance import pdist, squareform"
     ],
     "language": "python",
     "metadata": {},
     "outputs": [],
     "prompt_number": 5
    },
    {
     "cell_type": "code",
     "collapsed": false,
     "input": [
      "file_in = r'D:\\Downloads\\LiZhangsheng@Mattijn\\WGTutorial//ZoneA.dat'\n",
      "z = open( file_in,'r' ).readlines()\n",
      "z = [ i.strip().split() for i in z[10:] ]\n",
      "z = np.array( z, dtype=np.float )\n",
      "z = DataFrame( z, columns=['x','y','thk','por','perm','lperm','lpermp','lpermr'] )"
     ],
     "language": "python",
     "metadata": {},
     "outputs": [],
     "prompt_number": 6
    },
    {
     "cell_type": "code",
     "collapsed": false,
     "input": [
      "z"
     ],
     "language": "python",
     "metadata": {},
     "outputs": [
      {
       "html": [
        "<div style=\"max-height:1000px;max-width:1500px;overflow:auto;\">\n",
        "<table border=\"1\" class=\"dataframe\">\n",
        "  <thead>\n",
        "    <tr style=\"text-align: right;\">\n",
        "      <th></th>\n",
        "      <th>x</th>\n",
        "      <th>y</th>\n",
        "      <th>thk</th>\n",
        "      <th>por</th>\n",
        "      <th>perm</th>\n",
        "      <th>lperm</th>\n",
        "      <th>lpermp</th>\n",
        "      <th>lpermr</th>\n",
        "    </tr>\n",
        "  </thead>\n",
        "  <tbody>\n",
        "    <tr>\n",
        "      <th>0 </th>\n",
        "      <td> 12100</td>\n",
        "      <td>  8300</td>\n",
        "      <td> 37.1531</td>\n",
        "      <td> 14.6515</td>\n",
        "      <td>   2.8547</td>\n",
        "      <td>   0.4556</td>\n",
        "      <td>   0.1357</td>\n",
        "      <td>   0.3198</td>\n",
        "    </tr>\n",
        "    <tr>\n",
        "      <th>1 </th>\n",
        "      <td>  5300</td>\n",
        "      <td>  8700</td>\n",
        "      <td> 31.4993</td>\n",
        "      <td> 14.5093</td>\n",
        "      <td>-999.9999</td>\n",
        "      <td>-999.9999</td>\n",
        "      <td>-999.9999</td>\n",
        "      <td>-999.9999</td>\n",
        "    </tr>\n",
        "    <tr>\n",
        "      <th>2 </th>\n",
        "      <td>  3500</td>\n",
        "      <td> 13900</td>\n",
        "      <td> 36.9185</td>\n",
        "      <td> 14.0639</td>\n",
        "      <td>-999.9999</td>\n",
        "      <td>-999.9999</td>\n",
        "      <td>-999.9999</td>\n",
        "      <td>-999.9999</td>\n",
        "    </tr>\n",
        "    <tr>\n",
        "      <th>3 </th>\n",
        "      <td>  5100</td>\n",
        "      <td>  1900</td>\n",
        "      <td> 24.0156</td>\n",
        "      <td> 15.1084</td>\n",
        "      <td>   1.1407</td>\n",
        "      <td>   0.0572</td>\n",
        "      <td>   0.2268</td>\n",
        "      <td>  -0.1696</td>\n",
        "    </tr>\n",
        "    <tr>\n",
        "      <th>4 </th>\n",
        "      <td>  9900</td>\n",
        "      <td> 13700</td>\n",
        "      <td> 35.0411</td>\n",
        "      <td> 13.9190</td>\n",
        "      <td>-999.9999</td>\n",
        "      <td>-999.9999</td>\n",
        "      <td>-999.9999</td>\n",
        "      <td>-999.9999</td>\n",
        "    </tr>\n",
        "    <tr>\n",
        "      <th>5 </th>\n",
        "      <td>  2900</td>\n",
        "      <td>   900</td>\n",
        "      <td> 28.4249</td>\n",
        "      <td> 13.1304</td>\n",
        "      <td>   0.3897</td>\n",
        "      <td>  -0.4093</td>\n",
        "      <td>  -0.1674</td>\n",
        "      <td>  -0.2419</td>\n",
        "    </tr>\n",
        "    <tr>\n",
        "      <th>6 </th>\n",
        "      <td>  7900</td>\n",
        "      <td>  6700</td>\n",
        "      <td> 33.2458</td>\n",
        "      <td> 14.5724</td>\n",
        "      <td>-999.9999</td>\n",
        "      <td>-999.9999</td>\n",
        "      <td>-999.9999</td>\n",
        "      <td>-999.9999</td>\n",
        "    </tr>\n",
        "    <tr>\n",
        "      <th>7 </th>\n",
        "      <td> 16900</td>\n",
        "      <td>  4900</td>\n",
        "      <td> 37.0216</td>\n",
        "      <td> 15.0814</td>\n",
        "      <td>-999.9999</td>\n",
        "      <td>-999.9999</td>\n",
        "      <td>-999.9999</td>\n",
        "      <td>-999.9999</td>\n",
        "    </tr>\n",
        "    <tr>\n",
        "      <th>8 </th>\n",
        "      <td> 18700</td>\n",
        "      <td>  1500</td>\n",
        "      <td> 40.0446</td>\n",
        "      <td> 13.9100</td>\n",
        "      <td>   1.5560</td>\n",
        "      <td>   0.1920</td>\n",
        "      <td>  -0.0121</td>\n",
        "      <td>   0.2041</td>\n",
        "    </tr>\n",
        "    <tr>\n",
        "      <th>9 </th>\n",
        "      <td>  2700</td>\n",
        "      <td>  2100</td>\n",
        "      <td> 29.1565</td>\n",
        "      <td> 13.4024</td>\n",
        "      <td>-999.9999</td>\n",
        "      <td>-999.9999</td>\n",
        "      <td>-999.9999</td>\n",
        "      <td>-999.9999</td>\n",
        "    </tr>\n",
        "    <tr>\n",
        "      <th>10</th>\n",
        "      <td> 10700</td>\n",
        "      <td>  5100</td>\n",
        "      <td> 35.4579</td>\n",
        "      <td> 14.9395</td>\n",
        "      <td>   1.4019</td>\n",
        "      <td>   0.1467</td>\n",
        "      <td>   0.1931</td>\n",
        "      <td>  -0.0464</td>\n",
        "    </tr>\n",
        "    <tr>\n",
        "      <th>11</th>\n",
        "      <td>  7500</td>\n",
        "      <td> 12900</td>\n",
        "      <td> 31.4400</td>\n",
        "      <td> 15.2159</td>\n",
        "      <td>   1.0773</td>\n",
        "      <td>   0.0323</td>\n",
        "      <td>   0.2482</td>\n",
        "      <td>  -0.2159</td>\n",
        "    </tr>\n",
        "    <tr>\n",
        "      <th>12</th>\n",
        "      <td>  5500</td>\n",
        "      <td> 11100</td>\n",
        "      <td> 35.2379</td>\n",
        "      <td> 14.5777</td>\n",
        "      <td>   0.8305</td>\n",
        "      <td>  -0.0807</td>\n",
        "      <td>   0.1210</td>\n",
        "      <td>  -0.2017</td>\n",
        "    </tr>\n",
        "    <tr>\n",
        "      <th>13</th>\n",
        "      <td>  9500</td>\n",
        "      <td>  9100</td>\n",
        "      <td> 34.9151</td>\n",
        "      <td> 14.2483</td>\n",
        "      <td>   1.6088</td>\n",
        "      <td>   0.2065</td>\n",
        "      <td>   0.0553</td>\n",
        "      <td>   0.1512</td>\n",
        "    </tr>\n",
        "    <tr>\n",
        "      <th>14</th>\n",
        "      <td> 15300</td>\n",
        "      <td>  3100</td>\n",
        "      <td> 33.4161</td>\n",
        "      <td> 14.4281</td>\n",
        "      <td>   0.9464</td>\n",
        "      <td>  -0.0239</td>\n",
        "      <td>   0.0912</td>\n",
        "      <td>  -0.1151</td>\n",
        "    </tr>\n",
        "    <tr>\n",
        "      <th>15</th>\n",
        "      <td>  4700</td>\n",
        "      <td>  9700</td>\n",
        "      <td> 32.3707</td>\n",
        "      <td> 15.2606</td>\n",
        "      <td>   1.2034</td>\n",
        "      <td>   0.0804</td>\n",
        "      <td>   0.2571</td>\n",
        "      <td>  -0.1767</td>\n",
        "    </tr>\n",
        "    <tr>\n",
        "      <th>16</th>\n",
        "      <td> 16700</td>\n",
        "      <td> 15700</td>\n",
        "      <td> 43.8217</td>\n",
        "      <td> 16.1859</td>\n",
        "      <td>   4.7947</td>\n",
        "      <td>   0.6808</td>\n",
        "      <td>   0.4415</td>\n",
        "      <td>   0.2393</td>\n",
        "    </tr>\n",
        "    <tr>\n",
        "      <th>17</th>\n",
        "      <td> 19500</td>\n",
        "      <td>  9700</td>\n",
        "      <td> 37.3289</td>\n",
        "      <td> 14.2079</td>\n",
        "      <td>   2.3203</td>\n",
        "      <td>   0.3655</td>\n",
        "      <td>   0.0473</td>\n",
        "      <td>   0.3182</td>\n",
        "    </tr>\n",
        "    <tr>\n",
        "      <th>18</th>\n",
        "      <td> 16900</td>\n",
        "      <td> 13100</td>\n",
        "      <td> 38.0937</td>\n",
        "      <td> 16.9583</td>\n",
        "      <td>-999.9999</td>\n",
        "      <td>-999.9999</td>\n",
        "      <td>-999.9999</td>\n",
        "      <td>-999.9999</td>\n",
        "    </tr>\n",
        "    <tr>\n",
        "      <th>19</th>\n",
        "      <td>   900</td>\n",
        "      <td>  3700</td>\n",
        "      <td> 27.6737</td>\n",
        "      <td> 13.8354</td>\n",
        "      <td>-999.9999</td>\n",
        "      <td>-999.9999</td>\n",
        "      <td>-999.9999</td>\n",
        "      <td>-999.9999</td>\n",
        "    </tr>\n",
        "    <tr>\n",
        "      <th>20</th>\n",
        "      <td>   500</td>\n",
        "      <td> 11900</td>\n",
        "      <td> 32.3485</td>\n",
        "      <td> 14.1859</td>\n",
        "      <td>-999.9999</td>\n",
        "      <td>-999.9999</td>\n",
        "      <td>-999.9999</td>\n",
        "      <td>-999.9999</td>\n",
        "    </tr>\n",
        "    <tr>\n",
        "      <th>21</th>\n",
        "      <td>  9100</td>\n",
        "      <td>  1300</td>\n",
        "      <td> 28.0296</td>\n",
        "      <td> 14.0381</td>\n",
        "      <td>   0.6500</td>\n",
        "      <td>  -0.1871</td>\n",
        "      <td>   0.0135</td>\n",
        "      <td>  -0.2006</td>\n",
        "    </tr>\n",
        "    <tr>\n",
        "      <th>22</th>\n",
        "      <td>  9100</td>\n",
        "      <td> 13700</td>\n",
        "      <td> 34.0960</td>\n",
        "      <td> 14.3685</td>\n",
        "      <td>   1.0124</td>\n",
        "      <td>   0.0053</td>\n",
        "      <td>   0.0793</td>\n",
        "      <td>  -0.0740</td>\n",
        "    </tr>\n",
        "    <tr>\n",
        "      <th>23</th>\n",
        "      <td>  9900</td>\n",
        "      <td> 12900</td>\n",
        "      <td> 36.3549</td>\n",
        "      <td> 13.4018</td>\n",
        "      <td>-999.9999</td>\n",
        "      <td>-999.9999</td>\n",
        "      <td>-999.9999</td>\n",
        "      <td>-999.9999</td>\n",
        "    </tr>\n",
        "    <tr>\n",
        "      <th>24</th>\n",
        "      <td>  6300</td>\n",
        "      <td>   100</td>\n",
        "      <td> 26.0119</td>\n",
        "      <td> 15.8953</td>\n",
        "      <td>   1.9391</td>\n",
        "      <td>   0.2876</td>\n",
        "      <td>   0.3836</td>\n",
        "      <td>  -0.0960</td>\n",
        "    </tr>\n",
        "    <tr>\n",
        "      <th>25</th>\n",
        "      <td>  3700</td>\n",
        "      <td>  5100</td>\n",
        "      <td> 29.1077</td>\n",
        "      <td> 12.8667</td>\n",
        "      <td>-999.9999</td>\n",
        "      <td>-999.9999</td>\n",
        "      <td>-999.9999</td>\n",
        "      <td>-999.9999</td>\n",
        "    </tr>\n",
        "    <tr>\n",
        "      <th>26</th>\n",
        "      <td> 16300</td>\n",
        "      <td>   900</td>\n",
        "      <td> 36.6456</td>\n",
        "      <td> 15.1039</td>\n",
        "      <td>   1.8475</td>\n",
        "      <td>   0.2666</td>\n",
        "      <td>   0.2259</td>\n",
        "      <td>   0.0407</td>\n",
        "    </tr>\n",
        "    <tr>\n",
        "      <th>27</th>\n",
        "      <td> 18300</td>\n",
        "      <td> 13500</td>\n",
        "      <td> 38.7817</td>\n",
        "      <td> 15.7736</td>\n",
        "      <td>-999.9999</td>\n",
        "      <td>-999.9999</td>\n",
        "      <td>-999.9999</td>\n",
        "      <td>-999.9999</td>\n",
        "    </tr>\n",
        "    <tr>\n",
        "      <th>28</th>\n",
        "      <td>  9500</td>\n",
        "      <td>  6900</td>\n",
        "      <td> 31.9071</td>\n",
        "      <td> 14.1333</td>\n",
        "      <td>   0.9514</td>\n",
        "      <td>  -0.0217</td>\n",
        "      <td>   0.0324</td>\n",
        "      <td>  -0.0541</td>\n",
        "    </tr>\n",
        "    <tr>\n",
        "      <th>29</th>\n",
        "      <td> 17900</td>\n",
        "      <td>  3100</td>\n",
        "      <td> 37.5415</td>\n",
        "      <td> 13.3369</td>\n",
        "      <td>   0.9062</td>\n",
        "      <td>  -0.0428</td>\n",
        "      <td>  -0.1263</td>\n",
        "      <td>   0.0835</td>\n",
        "    </tr>\n",
        "    <tr>\n",
        "      <th>...</th>\n",
        "      <td>...</td>\n",
        "      <td>...</td>\n",
        "      <td>...</td>\n",
        "      <td>...</td>\n",
        "      <td>...</td>\n",
        "      <td>...</td>\n",
        "      <td>...</td>\n",
        "      <td>...</td>\n",
        "    </tr>\n",
        "    <tr>\n",
        "      <th>55</th>\n",
        "      <td> 13300</td>\n",
        "      <td> 15700</td>\n",
        "      <td> 36.9157</td>\n",
        "      <td> 14.4032</td>\n",
        "      <td>   1.7549</td>\n",
        "      <td>   0.2443</td>\n",
        "      <td>   0.0862</td>\n",
        "      <td>   0.1580</td>\n",
        "    </tr>\n",
        "    <tr>\n",
        "      <th>56</th>\n",
        "      <td>  1900</td>\n",
        "      <td> 12100</td>\n",
        "      <td> 38.5827</td>\n",
        "      <td> 14.3586</td>\n",
        "      <td>   1.2855</td>\n",
        "      <td>   0.1091</td>\n",
        "      <td>   0.0773</td>\n",
        "      <td>   0.0317</td>\n",
        "    </tr>\n",
        "    <tr>\n",
        "      <th>57</th>\n",
        "      <td> 15100</td>\n",
        "      <td>  2900</td>\n",
        "      <td> 33.9660</td>\n",
        "      <td> 14.6007</td>\n",
        "      <td>-999.9999</td>\n",
        "      <td>-999.9999</td>\n",
        "      <td>-999.9999</td>\n",
        "      <td>-999.9999</td>\n",
        "    </tr>\n",
        "    <tr>\n",
        "      <th>58</th>\n",
        "      <td>  6500</td>\n",
        "      <td>   900</td>\n",
        "      <td> 29.2442</td>\n",
        "      <td> 16.1458</td>\n",
        "      <td>-999.9999</td>\n",
        "      <td>-999.9999</td>\n",
        "      <td>-999.9999</td>\n",
        "      <td>-999.9999</td>\n",
        "    </tr>\n",
        "    <tr>\n",
        "      <th>59</th>\n",
        "      <td>  8900</td>\n",
        "      <td>  6100</td>\n",
        "      <td> 32.2726</td>\n",
        "      <td> 15.7727</td>\n",
        "      <td>-999.9999</td>\n",
        "      <td>-999.9999</td>\n",
        "      <td>-999.9999</td>\n",
        "      <td>-999.9999</td>\n",
        "    </tr>\n",
        "    <tr>\n",
        "      <th>60</th>\n",
        "      <td>  4500</td>\n",
        "      <td>  2300</td>\n",
        "      <td> 27.8722</td>\n",
        "      <td> 13.6234</td>\n",
        "      <td>   0.6894</td>\n",
        "      <td>  -0.1615</td>\n",
        "      <td>  -0.0692</td>\n",
        "      <td>  -0.0923</td>\n",
        "    </tr>\n",
        "    <tr>\n",
        "      <th>61</th>\n",
        "      <td> 12900</td>\n",
        "      <td> 10300</td>\n",
        "      <td> 33.7745</td>\n",
        "      <td> 15.1024</td>\n",
        "      <td>   2.0667</td>\n",
        "      <td>   0.3153</td>\n",
        "      <td>   0.2256</td>\n",
        "      <td>   0.0897</td>\n",
        "    </tr>\n",
        "    <tr>\n",
        "      <th>62</th>\n",
        "      <td> 10900</td>\n",
        "      <td>  5700</td>\n",
        "      <td> 33.9646</td>\n",
        "      <td> 15.3546</td>\n",
        "      <td>-999.9999</td>\n",
        "      <td>-999.9999</td>\n",
        "      <td>-999.9999</td>\n",
        "      <td>-999.9999</td>\n",
        "    </tr>\n",
        "    <tr>\n",
        "      <th>63</th>\n",
        "      <td>  3500</td>\n",
        "      <td>   700</td>\n",
        "      <td> 28.3525</td>\n",
        "      <td> 13.8431</td>\n",
        "      <td>   0.6661</td>\n",
        "      <td>  -0.1764</td>\n",
        "      <td>  -0.0254</td>\n",
        "      <td>  -0.1510</td>\n",
        "    </tr>\n",
        "    <tr>\n",
        "      <th>64</th>\n",
        "      <td> 16300</td>\n",
        "      <td>  3700</td>\n",
        "      <td> 33.9217</td>\n",
        "      <td> 14.9427</td>\n",
        "      <td>   1.3102</td>\n",
        "      <td>   0.1173</td>\n",
        "      <td>   0.1937</td>\n",
        "      <td>  -0.0764</td>\n",
        "    </tr>\n",
        "    <tr>\n",
        "      <th>65</th>\n",
        "      <td>   900</td>\n",
        "      <td>  5100</td>\n",
        "      <td> 30.3675</td>\n",
        "      <td> 14.4139</td>\n",
        "      <td>   1.4664</td>\n",
        "      <td>   0.1662</td>\n",
        "      <td>   0.0884</td>\n",
        "      <td>   0.0779</td>\n",
        "    </tr>\n",
        "    <tr>\n",
        "      <th>66</th>\n",
        "      <td> 12900</td>\n",
        "      <td> 12900</td>\n",
        "      <td> 38.3666</td>\n",
        "      <td> 13.6177</td>\n",
        "      <td>-999.9999</td>\n",
        "      <td>-999.9999</td>\n",
        "      <td>-999.9999</td>\n",
        "      <td>-999.9999</td>\n",
        "    </tr>\n",
        "    <tr>\n",
        "      <th>67</th>\n",
        "      <td> 15300</td>\n",
        "      <td>  9300</td>\n",
        "      <td> 38.2326</td>\n",
        "      <td> 16.3787</td>\n",
        "      <td>   3.1769</td>\n",
        "      <td>   0.5020</td>\n",
        "      <td>   0.4799</td>\n",
        "      <td>   0.0221</td>\n",
        "    </tr>\n",
        "    <tr>\n",
        "      <th>68</th>\n",
        "      <td>  7300</td>\n",
        "      <td>  6900</td>\n",
        "      <td> 32.2048</td>\n",
        "      <td> 14.2580</td>\n",
        "      <td>-999.9999</td>\n",
        "      <td>-999.9999</td>\n",
        "      <td>-999.9999</td>\n",
        "      <td>-999.9999</td>\n",
        "    </tr>\n",
        "    <tr>\n",
        "      <th>69</th>\n",
        "      <td> 16300</td>\n",
        "      <td> 12500</td>\n",
        "      <td> 37.3239</td>\n",
        "      <td> 15.7772</td>\n",
        "      <td>-999.9999</td>\n",
        "      <td>-999.9999</td>\n",
        "      <td>-999.9999</td>\n",
        "      <td>-999.9999</td>\n",
        "    </tr>\n",
        "    <tr>\n",
        "      <th>70</th>\n",
        "      <td>   100</td>\n",
        "      <td>  8900</td>\n",
        "      <td> 31.7183</td>\n",
        "      <td> 14.6553</td>\n",
        "      <td>-999.9999</td>\n",
        "      <td>-999.9999</td>\n",
        "      <td>-999.9999</td>\n",
        "      <td>-999.9999</td>\n",
        "    </tr>\n",
        "    <tr>\n",
        "      <th>71</th>\n",
        "      <td>  1700</td>\n",
        "      <td> 11700</td>\n",
        "      <td> 37.7883</td>\n",
        "      <td> 14.3627</td>\n",
        "      <td>-999.9999</td>\n",
        "      <td>-999.9999</td>\n",
        "      <td>-999.9999</td>\n",
        "      <td>-999.9999</td>\n",
        "    </tr>\n",
        "    <tr>\n",
        "      <th>72</th>\n",
        "      <td> 17500</td>\n",
        "      <td> 11100</td>\n",
        "      <td> 38.0160</td>\n",
        "      <td> 15.9659</td>\n",
        "      <td>-999.9999</td>\n",
        "      <td>-999.9999</td>\n",
        "      <td>-999.9999</td>\n",
        "      <td>-999.9999</td>\n",
        "    </tr>\n",
        "    <tr>\n",
        "      <th>73</th>\n",
        "      <td> 14900</td>\n",
        "      <td>  8300</td>\n",
        "      <td> 38.3740</td>\n",
        "      <td> 16.0095</td>\n",
        "      <td>   3.3433</td>\n",
        "      <td>   0.5242</td>\n",
        "      <td>   0.4064</td>\n",
        "      <td>   0.1178</td>\n",
        "    </tr>\n",
        "    <tr>\n",
        "      <th>74</th>\n",
        "      <td>  8300</td>\n",
        "      <td> 10900</td>\n",
        "      <td> 32.7182</td>\n",
        "      <td> 13.9639</td>\n",
        "      <td>-999.9999</td>\n",
        "      <td>-999.9999</td>\n",
        "      <td>-999.9999</td>\n",
        "      <td>-999.9999</td>\n",
        "    </tr>\n",
        "    <tr>\n",
        "      <th>75</th>\n",
        "      <td>  4100</td>\n",
        "      <td> 14500</td>\n",
        "      <td> 38.4526</td>\n",
        "      <td> 14.2649</td>\n",
        "      <td>-999.9999</td>\n",
        "      <td>-999.9999</td>\n",
        "      <td>-999.9999</td>\n",
        "      <td>-999.9999</td>\n",
        "    </tr>\n",
        "    <tr>\n",
        "      <th>76</th>\n",
        "      <td> 11100</td>\n",
        "      <td> 15300</td>\n",
        "      <td> 39.7254</td>\n",
        "      <td> 15.7684</td>\n",
        "      <td>   2.2098</td>\n",
        "      <td>   0.3444</td>\n",
        "      <td>   0.3583</td>\n",
        "      <td>  -0.0139</td>\n",
        "    </tr>\n",
        "    <tr>\n",
        "      <th>77</th>\n",
        "      <td>   500</td>\n",
        "      <td>  4900</td>\n",
        "      <td> 29.5005</td>\n",
        "      <td> 14.5910</td>\n",
        "      <td>-999.9999</td>\n",
        "      <td>-999.9999</td>\n",
        "      <td>-999.9999</td>\n",
        "      <td>-999.9999</td>\n",
        "    </tr>\n",
        "    <tr>\n",
        "      <th>78</th>\n",
        "      <td> 13100</td>\n",
        "      <td>  1500</td>\n",
        "      <td> 32.2007</td>\n",
        "      <td> 15.1377</td>\n",
        "      <td>   1.8174</td>\n",
        "      <td>   0.2594</td>\n",
        "      <td>   0.2326</td>\n",
        "      <td>   0.0268</td>\n",
        "    </tr>\n",
        "    <tr>\n",
        "      <th>79</th>\n",
        "      <td> 18900</td>\n",
        "      <td>  1700</td>\n",
        "      <td> 40.5902</td>\n",
        "      <td> 14.0950</td>\n",
        "      <td>   1.5596</td>\n",
        "      <td>   0.1930</td>\n",
        "      <td>   0.0248</td>\n",
        "      <td>   0.1682</td>\n",
        "    </tr>\n",
        "    <tr>\n",
        "      <th>80</th>\n",
        "      <td>  3500</td>\n",
        "      <td>  7500</td>\n",
        "      <td> 33.2246</td>\n",
        "      <td> 15.1486</td>\n",
        "      <td>   1.4744</td>\n",
        "      <td>   0.1686</td>\n",
        "      <td>   0.2348</td>\n",
        "      <td>  -0.0662</td>\n",
        "    </tr>\n",
        "    <tr>\n",
        "      <th>81</th>\n",
        "      <td>  3700</td>\n",
        "      <td>  6900</td>\n",
        "      <td> 30.6871</td>\n",
        "      <td> 13.9584</td>\n",
        "      <td>-999.9999</td>\n",
        "      <td>-999.9999</td>\n",
        "      <td>-999.9999</td>\n",
        "      <td>-999.9999</td>\n",
        "    </tr>\n",
        "    <tr>\n",
        "      <th>82</th>\n",
        "      <td> 14500</td>\n",
        "      <td> 13300</td>\n",
        "      <td> 39.6297</td>\n",
        "      <td> 14.7381</td>\n",
        "      <td>   2.9050</td>\n",
        "      <td>   0.4631</td>\n",
        "      <td>   0.1530</td>\n",
        "      <td>   0.3102</td>\n",
        "    </tr>\n",
        "    <tr>\n",
        "      <th>83</th>\n",
        "      <td>  4900</td>\n",
        "      <td>  9100</td>\n",
        "      <td> 31.2961</td>\n",
        "      <td> 15.0689</td>\n",
        "      <td>-999.9999</td>\n",
        "      <td>-999.9999</td>\n",
        "      <td>-999.9999</td>\n",
        "      <td>-999.9999</td>\n",
        "    </tr>\n",
        "    <tr>\n",
        "      <th>84</th>\n",
        "      <td>  9700</td>\n",
        "      <td>  5700</td>\n",
        "      <td> 32.8684</td>\n",
        "      <td> 15.8042</td>\n",
        "      <td>   1.5436</td>\n",
        "      <td>   0.1885</td>\n",
        "      <td>   0.3654</td>\n",
        "      <td>  -0.1769</td>\n",
        "    </tr>\n",
        "  </tbody>\n",
        "</table>\n",
        "<p>85 rows \u00d7 8 columns</p>\n",
        "</div>"
       ],
       "metadata": {},
       "output_type": "pyout",
       "prompt_number": 7,
       "text": [
        "        x      y      thk      por      perm     lperm    lpermp    lpermr\n",
        "0   12100   8300  37.1531  14.6515    2.8547    0.4556    0.1357    0.3198\n",
        "1    5300   8700  31.4993  14.5093 -999.9999 -999.9999 -999.9999 -999.9999\n",
        "2    3500  13900  36.9185  14.0639 -999.9999 -999.9999 -999.9999 -999.9999\n",
        "3    5100   1900  24.0156  15.1084    1.1407    0.0572    0.2268   -0.1696\n",
        "4    9900  13700  35.0411  13.9190 -999.9999 -999.9999 -999.9999 -999.9999\n",
        "5    2900    900  28.4249  13.1304    0.3897   -0.4093   -0.1674   -0.2419\n",
        "6    7900   6700  33.2458  14.5724 -999.9999 -999.9999 -999.9999 -999.9999\n",
        "7   16900   4900  37.0216  15.0814 -999.9999 -999.9999 -999.9999 -999.9999\n",
        "8   18700   1500  40.0446  13.9100    1.5560    0.1920   -0.0121    0.2041\n",
        "9    2700   2100  29.1565  13.4024 -999.9999 -999.9999 -999.9999 -999.9999\n",
        "10  10700   5100  35.4579  14.9395    1.4019    0.1467    0.1931   -0.0464\n",
        "11   7500  12900  31.4400  15.2159    1.0773    0.0323    0.2482   -0.2159\n",
        "12   5500  11100  35.2379  14.5777    0.8305   -0.0807    0.1210   -0.2017\n",
        "13   9500   9100  34.9151  14.2483    1.6088    0.2065    0.0553    0.1512\n",
        "14  15300   3100  33.4161  14.4281    0.9464   -0.0239    0.0912   -0.1151\n",
        "15   4700   9700  32.3707  15.2606    1.2034    0.0804    0.2571   -0.1767\n",
        "16  16700  15700  43.8217  16.1859    4.7947    0.6808    0.4415    0.2393\n",
        "17  19500   9700  37.3289  14.2079    2.3203    0.3655    0.0473    0.3182\n",
        "18  16900  13100  38.0937  16.9583 -999.9999 -999.9999 -999.9999 -999.9999\n",
        "19    900   3700  27.6737  13.8354 -999.9999 -999.9999 -999.9999 -999.9999\n",
        "20    500  11900  32.3485  14.1859 -999.9999 -999.9999 -999.9999 -999.9999\n",
        "21   9100   1300  28.0296  14.0381    0.6500   -0.1871    0.0135   -0.2006\n",
        "22   9100  13700  34.0960  14.3685    1.0124    0.0053    0.0793   -0.0740\n",
        "23   9900  12900  36.3549  13.4018 -999.9999 -999.9999 -999.9999 -999.9999\n",
        "24   6300    100  26.0119  15.8953    1.9391    0.2876    0.3836   -0.0960\n",
        "25   3700   5100  29.1077  12.8667 -999.9999 -999.9999 -999.9999 -999.9999\n",
        "26  16300    900  36.6456  15.1039    1.8475    0.2666    0.2259    0.0407\n",
        "27  18300  13500  38.7817  15.7736 -999.9999 -999.9999 -999.9999 -999.9999\n",
        "28   9500   6900  31.9071  14.1333    0.9514   -0.0217    0.0324   -0.0541\n",
        "29  17900   3100  37.5415  13.3369    0.9062   -0.0428   -0.1263    0.0835\n",
        "..    ...    ...      ...      ...       ...       ...       ...       ...\n",
        "55  13300  15700  36.9157  14.4032    1.7549    0.2443    0.0862    0.1580\n",
        "56   1900  12100  38.5827  14.3586    1.2855    0.1091    0.0773    0.0317\n",
        "57  15100   2900  33.9660  14.6007 -999.9999 -999.9999 -999.9999 -999.9999\n",
        "58   6500    900  29.2442  16.1458 -999.9999 -999.9999 -999.9999 -999.9999\n",
        "59   8900   6100  32.2726  15.7727 -999.9999 -999.9999 -999.9999 -999.9999\n",
        "60   4500   2300  27.8722  13.6234    0.6894   -0.1615   -0.0692   -0.0923\n",
        "61  12900  10300  33.7745  15.1024    2.0667    0.3153    0.2256    0.0897\n",
        "62  10900   5700  33.9646  15.3546 -999.9999 -999.9999 -999.9999 -999.9999\n",
        "63   3500    700  28.3525  13.8431    0.6661   -0.1764   -0.0254   -0.1510\n",
        "64  16300   3700  33.9217  14.9427    1.3102    0.1173    0.1937   -0.0764\n",
        "65    900   5100  30.3675  14.4139    1.4664    0.1662    0.0884    0.0779\n",
        "66  12900  12900  38.3666  13.6177 -999.9999 -999.9999 -999.9999 -999.9999\n",
        "67  15300   9300  38.2326  16.3787    3.1769    0.5020    0.4799    0.0221\n",
        "68   7300   6900  32.2048  14.2580 -999.9999 -999.9999 -999.9999 -999.9999\n",
        "69  16300  12500  37.3239  15.7772 -999.9999 -999.9999 -999.9999 -999.9999\n",
        "70    100   8900  31.7183  14.6553 -999.9999 -999.9999 -999.9999 -999.9999\n",
        "71   1700  11700  37.7883  14.3627 -999.9999 -999.9999 -999.9999 -999.9999\n",
        "72  17500  11100  38.0160  15.9659 -999.9999 -999.9999 -999.9999 -999.9999\n",
        "73  14900   8300  38.3740  16.0095    3.3433    0.5242    0.4064    0.1178\n",
        "74   8300  10900  32.7182  13.9639 -999.9999 -999.9999 -999.9999 -999.9999\n",
        "75   4100  14500  38.4526  14.2649 -999.9999 -999.9999 -999.9999 -999.9999\n",
        "76  11100  15300  39.7254  15.7684    2.2098    0.3444    0.3583   -0.0139\n",
        "77    500   4900  29.5005  14.5910 -999.9999 -999.9999 -999.9999 -999.9999\n",
        "78  13100   1500  32.2007  15.1377    1.8174    0.2594    0.2326    0.0268\n",
        "79  18900   1700  40.5902  14.0950    1.5596    0.1930    0.0248    0.1682\n",
        "80   3500   7500  33.2246  15.1486    1.4744    0.1686    0.2348   -0.0662\n",
        "81   3700   6900  30.6871  13.9584 -999.9999 -999.9999 -999.9999 -999.9999\n",
        "82  14500  13300  39.6297  14.7381    2.9050    0.4631    0.1530    0.3102\n",
        "83   4900   9100  31.2961  15.0689 -999.9999 -999.9999 -999.9999 -999.9999\n",
        "84   9700   5700  32.8684  15.8042    1.5436    0.1885    0.3654   -0.1769\n",
        "\n",
        "[85 rows x 8 columns]"
       ]
      }
     ],
     "prompt_number": 7
    },
    {
     "cell_type": "code",
     "collapsed": false,
     "input": [
      "fig, ax = subplots()\n",
      "ax.scatter( z.x, z.y, c=z.por, cmap='gray' )\n",
      "ax.set_aspect(1)\n",
      "xlim(-1500,22000)\n",
      "ylim(-1500,17500)\n",
      "xlabel('Easting [m]')\n",
      "ylabel('Northing [m]')\n",
      "title('Porosity %') ;"
     ],
     "language": "python",
     "metadata": {},
     "outputs": [
      {
       "metadata": {},
       "output_type": "display_data",
       "png": "[encoded data removed]",
       "text": [
        "<matplotlib.figure.Figure at 0xc99cb70>"
       ]
      }
     ],
     "prompt_number": 8
    },
    {
     "cell_type": "code",
     "collapsed": false,
     "input": [
      "def SVh( P, h, bw ):\n",
      "    '''\n",
      "    Experimental semivariogram for a single lag\n",
      "    '''\n",
      "    pd = squareform( pdist( P[:,:2] ) )\n",
      "    N = pd.shape[0]\n",
      "    Z = list()\n",
      "    for i in range(N):\n",
      "        for j in range(i+1,N):\n",
      "            if( pd[i,j] >= h-bw )and( pd[i,j] <= h+bw ):\n",
      "                Z.append( ( P[i,2] - P[j,2] )**2.0 )\n",
      "    return np.sum( Z ) / ( 2.0 * len( Z ) )\n",
      "\n",
      "def SV( P, hs, bw ):\n",
      "    '''\n",
      "    Experimental variogram for a collection of lags\n",
      "    '''\n",
      "    sv = list()\n",
      "    for h in hs:\n",
      "        sv.append( SVh( P, h, bw ) )\n",
      "    sv = [ [ hs[i], sv[i] ] for i in range( len( hs ) ) if sv[i] > 0 ]\n",
      "    return np.array( sv ).T\n",
      "\n",
      "def C( P, h, bw ):\n",
      "    '''\n",
      "    Calculate the sill\n",
      "    '''\n",
      "    c0 = np.var( P[:,2] )\n",
      "    if h == 0:\n",
      "        return c0\n",
      "    return c0 - SVh( P, h, bw )"
     ],
     "language": "python",
     "metadata": {},
     "outputs": [],
     "prompt_number": 9
    },
    {
     "cell_type": "code",
     "collapsed": false,
     "input": [
      "# part of our data set recording porosity\n",
      "P = np.array( z[['x','y','por']] )\n",
      "# bandwidth, plus or minus 250 meters\n",
      "bw = 500\n",
      "# lags in 500 meter increments from zero to 10,000\n",
      "hs = np.arange(0,10500,bw)\n",
      "sv = SV( P, hs, bw )\n",
      "plot( sv[0], sv[1], '.-' )\n",
      "xlabel('Lag [m]')\n",
      "ylabel('Semivariance')\n",
      "title('Sample Semivariogram') ;\n",
      "#savefig('sample_semivariogram.png',fmt='png',dpi=200)"
     ],
     "language": "python",
     "metadata": {},
     "outputs": [
      {
       "metadata": {},
       "output_type": "pyout",
       "prompt_number": 10,
       "text": [
        "<matplotlib.text.Text at 0xc7697b8>"
       ]
      },
      {
       "metadata": {},
       "output_type": "display_data",
       "png": "[encoded data removed]",
       "text": [
        "<matplotlib.figure.Figure at 0xc9a8240>"
       ]
      }
     ],
     "prompt_number": 10
    },
    {
     "cell_type": "code",
     "collapsed": false,
     "input": [
      "def opt( fct, x, y, C0, parameterRange=None, meshSize=1000 ):\n",
      "    if parameterRange == None:\n",
      "        parameterRange = [ x[1], x[-1] ]\n",
      "    mse = np.zeros( meshSize )\n",
      "    a = np.linspace( parameterRange[0], parameterRange[1], meshSize )\n",
      "    for i in range( meshSize ):\n",
      "        mse[i] = np.mean( ( y - fct( x, a[i], C0 ) )**2.0 )\n",
      "    return a[ mse.argmin() ]"
     ],
     "language": "python",
     "metadata": {},
     "outputs": [],
     "prompt_number": 11
    },
    {
     "cell_type": "code",
     "collapsed": false,
     "input": [
      "def spherical( h, a, C0 ):\n",
      "    '''\n",
      "    Spherical model of the semivariogram\n",
      "    '''\n",
      "    # if h is a single digit\n",
      "    if type(h) == np.float64:\n",
      "        # calculate the spherical function\n",
      "        if h <= a:\n",
      "            return C0*( 1.5*h/a - 0.5*(h/a)**3.0 )\n",
      "        else:\n",
      "            return C0\n",
      "    # if h is an iterable\n",
      "    else:\n",
      "        # calcualte the spherical function for all elements\n",
      "        a = np.ones( h.size ) * a\n",
      "        C0 = np.ones( h.size ) * C0\n",
      "        return map( spherical, h, a, C0 )"
     ],
     "language": "python",
     "metadata": {},
     "outputs": [],
     "prompt_number": 12
    },
    {
     "cell_type": "code",
     "collapsed": false,
     "input": [
      "def cvmodel( P, model, hs, bw ):\n",
      "    '''\n",
      "    Input:  (P)      ndarray, data\n",
      "            (model)  modeling function\n",
      "                      - spherical\n",
      "                      - exponential\n",
      "                      - gaussian\n",
      "            (hs)     distances\n",
      "            (bw)     bandwidth\n",
      "    Output: (covfct) function modeling the covariance\n",
      "    '''\n",
      "    # calculate the semivariogram\n",
      "    sv = SV( P, hs, bw )\n",
      "    # calculate the sill\n",
      "    C0 = C( P, hs[0], bw )\n",
      "    # calculate the optimal parameters\n",
      "    param = opt( model, sv[0], sv[1], C0 )\n",
      "    # return a covariance function\n",
      "    covfct = lambda h, a=param: C0 - model( h, a, C0 )\n",
      "    return covfct"
     ],
     "language": "python",
     "metadata": {},
     "outputs": [],
     "prompt_number": 13
    },
    {
     "cell_type": "code",
     "collapsed": false,
     "input": [
      "sp = cvmodel( P, model=spherical, hs=np.arange(0,10500,500), bw=500 )\n",
      "plot( sv[0], sv[1], '.-' )\n",
      "plot( sv[0], sp( sv[0] ) ) ;\n",
      "title('Spherical Model')\n",
      "ylabel('Semivariance')\n",
      "xlabel('Lag [m]')\n",
      "#savefig('semivariogram_model.png',fmt='png',dpi=200)"
     ],
     "language": "python",
     "metadata": {},
     "outputs": [
      {
       "metadata": {},
       "output_type": "pyout",
       "prompt_number": 14,
       "text": [
        "<matplotlib.text.Text at 0xc7675f8>"
       ]
      },
      {
       "metadata": {},
       "output_type": "display_data",
       "png": "[encoded data removed]",
       "text": [
        "<matplotlib.figure.Figure at 0x10727a58>"
       ]
      }
     ],
     "prompt_number": 14
    },
    {
     "cell_type": "code",
     "collapsed": false,
     "input": [
      "def krige( P, model, hs, bw, u, N ):\n",
      "    '''\n",
      "    Input  (P)     ndarray, data\n",
      "           (model) modeling function\n",
      "                    - spherical\n",
      "                    - exponential\n",
      "                    - gaussian\n",
      "           (hs)    kriging distances\n",
      "           (bw)    kriging bandwidth\n",
      "           (u)     unsampled point\n",
      "           (N)     number of neighboring \n",
      "                   points to consider\n",
      "    '''\n",
      "\n",
      "    # covariance function\n",
      "    covfct = cvmodel( P, model, hs, bw )\n",
      "    # mean of the variable\n",
      "    mu = np.mean( P[:,2] )\n",
      "\n",
      "    # distance between u and each data point in P\n",
      "    d = np.sqrt( ( P[:,0]-u[0] )**2.0 + ( P[:,1]-u[1] )**2.0 )\n",
      "    # add these distances to P\n",
      "    P = np.vstack(( P.T, d )).T\n",
      "    # sort P by these distances\n",
      "    # take the first N of them\n",
      "    P = P[d.argsort()[:N]]\n",
      "\n",
      "    # apply the covariance model to the distances\n",
      "    k = covfct( P[:,3] )\n",
      "    # cast as a matrix\n",
      "    k = np.matrix( k ).T\n",
      "\n",
      "    # form a matrix of distances between existing data points\n",
      "    K = squareform( pdist( P[:,:2] ) )\n",
      "    # apply the covariance model to these distances\n",
      "    K = covfct( K.ravel() )\n",
      "    # re-cast as a NumPy array -- thanks M.L.\n",
      "    K = np.array( K )\n",
      "    # reshape into an array\n",
      "    K = K.reshape(N,N)\n",
      "    # cast as a matrix\n",
      "    K = np.matrix( K )\n",
      "\n",
      "    # calculate the kriging weights\n",
      "    weights = np.linalg.inv( K ) * k\n",
      "    weights = np.array( weights )\n",
      "\n",
      "    # calculate the residuals\n",
      "    residuals = P[:,2] - mu\n",
      "\n",
      "    # calculate the estimation\n",
      "    estimation = np.dot( weights.T, residuals ) + mu\n",
      "    \n",
      "    return float( estimation )"
     ],
     "language": "python",
     "metadata": {},
     "outputs": [
      {
       "output_type": "stream",
       "stream": "stdout",
       "text": [
        "\n"
       ]
      }
     ],
     "prompt_number": 19
    },
    {
     "cell_type": "code",
     "collapsed": false,
     "input": [
      "X0, X1 = P[:,0].min(), P[:,0].max()\n",
      "Y0, Y1 = P[:,1].min(), P[:,1].max()\n",
      "Z = np.zeros((80,100))\n",
      "dx, dy = (X1-X0)/100.0, (Y1-Y0)/80.0\n",
      "for i in range( 80 ):\n",
      "    print i,\n",
      "    for j in range( 100 ):\n",
      "        Z[i,j] = krige( P, spherical, hs, bw, (dy*j,dx*i), 16 )"
     ],
     "language": "python",
     "metadata": {},
     "outputs": [
      {
       "output_type": "stream",
       "stream": "stdout",
       "text": [
        "0 "
       ]
      },
      {
       "output_type": "stream",
       "stream": "stdout",
       "text": [
        "1 "
       ]
      },
      {
       "output_type": "stream",
       "stream": "stdout",
       "text": [
        "2 "
       ]
      },
      {
       "output_type": "stream",
       "stream": "stdout",
       "text": [
        "3 "
       ]
      },
      {
       "output_type": "stream",
       "stream": "stdout",
       "text": [
        "4 "
       ]
      },
      {
       "output_type": "stream",
       "stream": "stdout",
       "text": [
        "5 "
       ]
      },
      {
       "output_type": "stream",
       "stream": "stdout",
       "text": [
        "6 "
       ]
      },
      {
       "output_type": "stream",
       "stream": "stdout",
       "text": [
        "7 "
       ]
      },
      {
       "output_type": "stream",
       "stream": "stdout",
       "text": [
        "8 "
       ]
      },
      {
       "output_type": "stream",
       "stream": "stdout",
       "text": [
        "9 "
       ]
      },
      {
       "output_type": "stream",
       "stream": "stdout",
       "text": [
        "10 "
       ]
      },
      {
       "output_type": "stream",
       "stream": "stdout",
       "text": [
        "11 "
       ]
      },
      {
       "output_type": "stream",
       "stream": "stdout",
       "text": [
        "12 "
       ]
      },
      {
       "output_type": "stream",
       "stream": "stdout",
       "text": [
        "13 "
       ]
      },
      {
       "output_type": "stream",
       "stream": "stdout",
       "text": [
        "14 "
       ]
      },
      {
       "output_type": "stream",
       "stream": "stdout",
       "text": [
        "15 "
       ]
      },
      {
       "output_type": "stream",
       "stream": "stdout",
       "text": [
        "16 "
       ]
      },
      {
       "output_type": "stream",
       "stream": "stdout",
       "text": [
        "17 "
       ]
      },
      {
       "output_type": "stream",
       "stream": "stdout",
       "text": [
        "18 "
       ]
      },
      {
       "output_type": "stream",
       "stream": "stdout",
       "text": [
        "19 "
       ]
      },
      {
       "output_type": "stream",
       "stream": "stdout",
       "text": [
        "20 "
       ]
      },
      {
       "output_type": "stream",
       "stream": "stdout",
       "text": [
        "21 "
       ]
      },
      {
       "output_type": "stream",
       "stream": "stdout",
       "text": [
        "22 "
       ]
      },
      {
       "output_type": "stream",
       "stream": "stdout",
       "text": [
        "23 "
       ]
      },
      {
       "output_type": "stream",
       "stream": "stdout",
       "text": [
        "24 "
       ]
      },
      {
       "output_type": "stream",
       "stream": "stdout",
       "text": [
        "25 "
       ]
      },
      {
       "output_type": "stream",
       "stream": "stdout",
       "text": [
        "26 "
       ]
      },
      {
       "output_type": "stream",
       "stream": "stdout",
       "text": [
        "27 "
       ]
      },
      {
       "output_type": "stream",
       "stream": "stdout",
       "text": [
        "28 "
       ]
      },
      {
       "output_type": "stream",
       "stream": "stdout",
       "text": [
        "29 "
       ]
      },
      {
       "output_type": "stream",
       "stream": "stdout",
       "text": [
        "30 "
       ]
      },
      {
       "output_type": "stream",
       "stream": "stdout",
       "text": [
        "31 "
       ]
      },
      {
       "output_type": "stream",
       "stream": "stdout",
       "text": [
        "32 "
       ]
      },
      {
       "output_type": "stream",
       "stream": "stdout",
       "text": [
        "33 "
       ]
      },
      {
       "output_type": "stream",
       "stream": "stdout",
       "text": [
        "34 "
       ]
      },
      {
       "output_type": "stream",
       "stream": "stdout",
       "text": [
        "35 "
       ]
      },
      {
       "output_type": "stream",
       "stream": "stdout",
       "text": [
        "36 "
       ]
      },
      {
       "output_type": "stream",
       "stream": "stdout",
       "text": [
        "37 "
       ]
      },
      {
       "output_type": "stream",
       "stream": "stdout",
       "text": [
        "38 "
       ]
      },
      {
       "output_type": "stream",
       "stream": "stdout",
       "text": [
        "39 "
       ]
      },
      {
       "output_type": "stream",
       "stream": "stdout",
       "text": [
        "40 "
       ]
      },
      {
       "output_type": "stream",
       "stream": "stdout",
       "text": [
        "41 "
       ]
      },
      {
       "output_type": "stream",
       "stream": "stdout",
       "text": [
        "42 "
       ]
      },
      {
       "output_type": "stream",
       "stream": "stdout",
       "text": [
        "43 "
       ]
      },
      {
       "output_type": "stream",
       "stream": "stdout",
       "text": [
        "44 "
       ]
      },
      {
       "output_type": "stream",
       "stream": "stdout",
       "text": [
        "45 "
       ]
      },
      {
       "output_type": "stream",
       "stream": "stdout",
       "text": [
        "46 "
       ]
      },
      {
       "output_type": "stream",
       "stream": "stdout",
       "text": [
        "47 "
       ]
      },
      {
       "output_type": "stream",
       "stream": "stdout",
       "text": [
        "48 "
       ]
      },
      {
       "output_type": "stream",
       "stream": "stdout",
       "text": [
        "49 "
       ]
      },
      {
       "output_type": "stream",
       "stream": "stdout",
       "text": [
        "50 "
       ]
      },
      {
       "output_type": "stream",
       "stream": "stdout",
       "text": [
        "51 "
       ]
      },
      {
       "output_type": "stream",
       "stream": "stdout",
       "text": [
        "52 "
       ]
      },
      {
       "output_type": "stream",
       "stream": "stdout",
       "text": [
        "53 "
       ]
      },
      {
       "output_type": "stream",
       "stream": "stdout",
       "text": [
        "54 "
       ]
      },
      {
       "output_type": "stream",
       "stream": "stdout",
       "text": [
        "55 "
       ]
      },
      {
       "output_type": "stream",
       "stream": "stdout",
       "text": [
        "56 "
       ]
      },
      {
       "output_type": "stream",
       "stream": "stdout",
       "text": [
        "57 "
       ]
      },
      {
       "output_type": "stream",
       "stream": "stdout",
       "text": [
        "58 "
       ]
      },
      {
       "output_type": "stream",
       "stream": "stdout",
       "text": [
        "59 "
       ]
      },
      {
       "output_type": "stream",
       "stream": "stdout",
       "text": [
        "60 "
       ]
      },
      {
       "output_type": "stream",
       "stream": "stdout",
       "text": [
        "61 "
       ]
      },
      {
       "output_type": "stream",
       "stream": "stdout",
       "text": [
        "62 "
       ]
      },
      {
       "output_type": "stream",
       "stream": "stdout",
       "text": [
        "63 "
       ]
      },
      {
       "output_type": "stream",
       "stream": "stdout",
       "text": [
        "64 "
       ]
      },
      {
       "output_type": "stream",
       "stream": "stdout",
       "text": [
        "65 "
       ]
      },
      {
       "output_type": "stream",
       "stream": "stdout",
       "text": [
        "66 "
       ]
      },
      {
       "output_type": "stream",
       "stream": "stdout",
       "text": [
        "67 "
       ]
      },
      {
       "output_type": "stream",
       "stream": "stdout",
       "text": [
        "68 "
       ]
      },
      {
       "output_type": "stream",
       "stream": "stdout",
       "text": [
        "69 "
       ]
      },
      {
       "output_type": "stream",
       "stream": "stdout",
       "text": [
        "70 "
       ]
      },
      {
       "output_type": "stream",
       "stream": "stdout",
       "text": [
        "71 "
       ]
      },
      {
       "output_type": "stream",
       "stream": "stdout",
       "text": [
        "72 "
       ]
      },
      {
       "output_type": "stream",
       "stream": "stdout",
       "text": [
        "73 "
       ]
      },
      {
       "output_type": "stream",
       "stream": "stdout",
       "text": [
        "74 "
       ]
      },
      {
       "output_type": "stream",
       "stream": "stdout",
       "text": [
        "75 "
       ]
      },
      {
       "output_type": "stream",
       "stream": "stdout",
       "text": [
        "76 "
       ]
      },
      {
       "output_type": "stream",
       "stream": "stdout",
       "text": [
        "77 "
       ]
      },
      {
       "output_type": "stream",
       "stream": "stdout",
       "text": [
        "78 "
       ]
      },
      {
       "output_type": "stream",
       "stream": "stdout",
       "text": [
        "79\n"
       ]
      }
     ],
     "prompt_number": 21
    },
    {
     "cell_type": "code",
     "collapsed": false,
     "input": [
      "cdict = {'red':   ((0.0, 1.0, 1.0),\n",
      "                   (0.5, 225/255., 225/255. ),\n",
      "                   (0.75, 0.141, 0.141 ),\n",
      "                   (1.0, 0.0, 0.0)),\n",
      "         'green': ((0.0, 1.0, 1.0),\n",
      "                   (0.5, 57/255., 57/255. ),\n",
      "                   (0.75, 0.0, 0.0 ),\n",
      "                   (1.0, 0.0, 0.0)),\n",
      "         'blue':  ((0.0, 0.376, 0.376),\n",
      "                   (0.5, 198/255., 198/255. ),\n",
      "                   (0.75, 1.0, 1.0 ),\n",
      "                   (1.0, 0.0, 0.0)) }\n",
      "\n",
      "my_cmap = matplotlib.colors.LinearSegmentedColormap('my_colormap',cdict,256)\n",
      "\n",
      "fig, ax = subplots()\n",
      "H = np.zeros_like( Z )\n",
      "for i in range( Z.shape[0] ):\n",
      "    for j in range( Z.shape[1] ):\n",
      "        H[i,j] = np.round( Z[i,j]*3 )\n",
      "\n",
      "ax.matshow( H, cmap=my_cmap, interpolation='nearest' )\n",
      "ax.scatter( z.x/200.0, z.y/200.0, facecolor='none', linewidths=0.75, s=50 )\n",
      "xlim(0,99) ; ylim(0,80)\n",
      "xticks( [25,50,75], [5000,10000,15000] )\n",
      "yticks( [25,50,75], [5000,10000,15000] )\n",
      "\n",
      "#savefig( 'krigingpurple.png', fmt='png', dpi=200 )"
     ],
     "language": "python",
     "metadata": {},
     "outputs": [
      {
       "metadata": {},
       "output_type": "pyout",
       "prompt_number": 22,
       "text": [
        "([<matplotlib.axis.YTick at 0x10abdeb8>,\n",
        "  <matplotlib.axis.YTick at 0x10abd978>,\n",
        "  <matplotlib.axis.YTick at 0x10c58b70>],\n",
        " <a list of 3 Text yticklabel objects>)"
       ]
      },
      {
       "metadata": {},
       "output_type": "display_data",
       "png": "[encoded data removed]",
       "text": [
        "<matplotlib.figure.Figure at 0x10a9c780>"
       ]
      }
     ],
     "prompt_number": 22
    },
    {
     "cell_type": "code",
     "collapsed": false,
     "input": [],
     "language": "python",
     "metadata": {},
     "outputs": []
    }
   ],
   "metadata": {}
  }
 ]
}