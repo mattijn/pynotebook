{
 "metadata": {
  "name": ""
 },
 "nbformat": 3,
 "nbformat_minor": 0,
 "worksheets": [
  {
   "cells": [
    {
     "cell_type": "code",
     "collapsed": false,
     "input": [
      "%matplotlib inline\n",
      "import numpy as np\n",
      "from matplotlib import pyplot as plt\n",
      "class InputError( Exception ): pass"
     ],
     "language": "python",
     "metadata": {},
     "outputs": [],
     "prompt_number": 4
    },
    {
     "cell_type": "code",
     "collapsed": false,
     "input": [
      "# Computing diagonal for each row of a 2d array\n",
      "def makediag3d(M):\n",
      "    b = np.zeros((M.shape[0], M.shape[1]*M.shape[1]))\n",
      "    b[:, ::M.shape[1]+1] = M\n",
      "    return b.reshape(M.shape[0], M.shape[1], M.shape[1])"
     ],
     "language": "python",
     "metadata": {},
     "outputs": [],
     "prompt_number": 5
    },
    {
     "cell_type": "code",
     "collapsed": false,
     "input": [
      "def HANTS(ni,y,nf=3,HiLo='Hi',low=0.,high=255,fet=5,delta=0.1):\n",
      "    \"\"\"\n",
      "    ni    = nr. of images (total number of actual samples of the time series)\n",
      "    nb    = length of the base period, measured in virtual samples \n",
      "            (days, dekads, months, etc.)        \n",
      "    nf    = number of frequencies to be considered above the zero frequency\n",
      "    y     = array of input sample values (e.g. NDVI values)\n",
      "    ts    = array of size ni of time sample indicators \n",
      "            (indicates virtual sample number relative to the base period); \n",
      "            numbers in array ts maybe greater than nb\n",
      "            If no aux file is used (no time samples), we assume ts(i)= i, \n",
      "            where i=1, ..., ni         \n",
      "    HiLo  = 2-character string indicating rejection of high or low outliers\n",
      "            select from 'Hi', 'Lo' or 'None'    \n",
      "    low   = valid range minimum\n",
      "    high  = valid range maximum (values outside the valid range are rejeced\n",
      "            right away)    \n",
      "    fet   = fit error tolerance (points deviating more than fet from curve \n",
      "            fit are rejected)\n",
      "    dod   = degree of overdeterminedness (iteration stops if number of \n",
      "            points reaches the minimum required for curve fitting, plus \n",
      "            dod). This is a safety measure            \n",
      "    delta = small positive number (e.g. 0.1) to suppress high amplitudes                  \n",
      "    \"\"\"\n",
      "    \n",
      "    # define some parameters\n",
      "    nb= ni # \n",
      "    ts=np.arange(ni)\n",
      "    dod=1# (2*nf-1)\n",
      "    \n",
      "    # create empty arrays to fill\n",
      "    mat = np.zeros(shape=(min(2*nf+1,ni),ni))\n",
      "    \n",
      "    yr = np.zeros(shape=(y.shape[0],ni))\n",
      "    \n",
      "    # check which setting to set for outlier filtering\n",
      "    if HiLo == 'Hi':\n",
      "        sHiLo = -1\n",
      "    elif HiLo == 'Lo':\n",
      "        sHiLo = 1\n",
      "    else:\n",
      "        sHiLo = 0\n",
      "    \n",
      "    # initiate parameters\n",
      "    nr = min(2*nf+1,ni) # number of 2*+1 frequecies, or number of input images    \n",
      "    noutmax = ni-nr-dod # number of input images - number of 2*+1 frequencies - degree of overdeterminedness\n",
      "    # dg = 180./np.pi # for data compression\n",
      "    mat[0,:] = 1    \n",
      "    ang = 2*np.pi*np.arange(nb)/nb\n",
      "    cs = np.cos(ang)\n",
      "    sn = np.sin(ang)        \n",
      "    \n",
      "    # create some standard sinus and cosinus functions and put in matrix\n",
      "    i = np.arange(1,nf+1)\n",
      "    for j in np.arange(ni):    \n",
      "        index = np.mod(i*ts[j],nb)\n",
      "        mat[2 * i-1,j] =cs.take(index)\n",
      "        mat[2 * i ,j] = sn.take(index)\n",
      "    \n",
      "    # repeat the mat array over the number of arrays in y\n",
      "    # and create arrays with ones with shape y where high and low values are set to 0\n",
      "    mat = np.tile(mat[None].T, (1,y.shape[0])).T \n",
      "    p = np.ones_like(y) \n",
      "    p[(low >= y) | (y > high)] = 0\n",
      "    nout = np.sum(p==0,axis=-1) # count the outliers for each timeseries      \n",
      "    \n",
      "    # prepare for while loop\n",
      "    ready = np.zeros((y.shape[0]), dtype=bool) # all timeseries set to false\n",
      "    a = np.arange(ni)\n",
      "    it = np.nditer(a)\n",
      "    \n",
      "    while ((not it.finished) & (not ready.all())):\n",
      "        \n",
      "        #print '--------*-*-*-*',it.value, '*-*-*-*--------'        \n",
      "        # multipy outliers with timeseries\n",
      "        za = np.einsum('ijk,ik->ij', mat, p*y)\n",
      "                \n",
      "        # multiply mat with the multiplication of multiply diagonal of p with transpose of mat\n",
      "        diag = makediag3d(p)\n",
      "        A = np.einsum('ajk,aki->aji',mat,np.einsum('aij,jka->ajk', diag, mat.T))         \n",
      "        # add delta to supress high amplitudes but not for [0,0]\n",
      "        A = A + np.tile(np.diag(np.ones(nr))[None].T,(1,y.shape[0])).T * delta        \n",
      "        A[:,0,0] = A[:,0,0] - delta \n",
      "        \n",
      "        # solve linear matrix equation and define reconstructed timeseries\n",
      "        zr = np.linalg.solve(A, za)\n",
      "        yr = np.einsum('ijk,kj->ki',mat.T, zr)\n",
      "                \n",
      "        # calculate error and sort err by index\n",
      "        err = p * (sHiLo * (yr - y))\n",
      "        rankVec = np.argsort(err, axis=1, )\n",
      "        \n",
      "        # select maximum error and compute new ready status        \n",
      "        maxerr = np.diag(err.take(rankVec[:,ni-1], axis=-1))\n",
      "        ready = (maxerr <= fet) | (nout == noutmax) \n",
      "        \n",
      "        # if ready is still false \n",
      "        if (not all(ready)):\n",
      "            i = ni # i is number of input images\n",
      "            j = rankVec.take(i-1, axis=-1)\n",
      "            \n",
      "            p.T[j.T, np.indices(j.shape)] = p.T[j.T, np.indices(j.shape)]*ready.astype(int)#*check\n",
      "            nout += 1\n",
      "            i -= 1\n",
      "        \n",
      "        it.iternext()\n",
      "    return yr"
     ],
     "language": "python",
     "metadata": {},
     "outputs": [],
     "prompt_number": 6
    },
    {
     "cell_type": "code",
     "collapsed": false,
     "input": [
      "numb = 5000\n",
      "y= np.array([5.0,  2.0,  5.0, 10.0, 12.0, 18.0, 20.0, 23.0, 27.0, \n",
      "             30.0, 40.0, 60.0, 66.0, 70.0, 90.0,120.0,160.0,190.0,\n",
      "             105.0,210.0,104.0,200.0, 90.0,170.0, 50.0,120.0, 80.0,\n",
      "             60.0, 50.0, 40.0, 30.0, 28.0, 24.0, 20.0, 15.0, 10.0 ])\n",
      "y = np.tile(y[None].T, (1,numb)).T\n",
      "kl = (np.random.randint(2, size=(numb, 36)) * \n",
      "      np.random.randint(2, size=(numb, 36)) + 1)\n",
      "kl[kl==2] = 0\n",
      "y=y*kl"
     ],
     "language": "python",
     "metadata": {},
     "outputs": [],
     "prompt_number": 20
    },
    {
     "cell_type": "code",
     "collapsed": false,
     "input": [
      "%timeit( HANTS(ni=36, y=y, nf=6, HiLo='Lo')"
     ],
     "language": "python",
     "metadata": {},
     "outputs": [
      {
       "output_type": "stream",
       "stream": "stdout",
       "text": [
        "1 loops, best of 3: 4.94 s per loop\n"
       ]
      }
     ],
     "prompt_number": 22
    },
    {
     "cell_type": "code",
     "collapsed": false,
     "input": [
      "485. / 100"
     ],
     "language": "python",
     "metadata": {},
     "outputs": [
      {
       "metadata": {},
       "output_type": "pyout",
       "prompt_number": 14,
       "text": [
        "4.85"
       ]
      }
     ],
     "prompt_number": 14
    },
    {
     "cell_type": "code",
     "collapsed": false,
     "input": [
      "645. / 1000"
     ],
     "language": "python",
     "metadata": {},
     "outputs": [
      {
       "metadata": {},
       "output_type": "pyout",
       "prompt_number": 16,
       "text": [
        "0.645"
       ]
      }
     ],
     "prompt_number": 16
    },
    {
     "cell_type": "code",
     "collapsed": false,
     "input": [
      "11700. / 10000"
     ],
     "language": "python",
     "metadata": {},
     "outputs": [
      {
       "metadata": {},
       "output_type": "pyout",
       "prompt_number": 19,
       "text": [
        "1.17"
       ]
      }
     ],
     "prompt_number": 19
    },
    {
     "cell_type": "code",
     "collapsed": false,
     "input": [],
     "language": "python",
     "metadata": {},
     "outputs": []
    }
   ],
   "metadata": {}
  }
 ]
}