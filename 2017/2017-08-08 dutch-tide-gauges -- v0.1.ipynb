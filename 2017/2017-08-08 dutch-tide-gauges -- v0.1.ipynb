{
 "cells": [
  {
   "cell_type": "markdown",
   "metadata": {
    "deletable": true,
    "editable": true
   },
   "source": [
    "# Tide gauges of the Dutch Coast\n",
    "This notebook gathers details of the six main tide gauges (see <a href='https://waterinfo.rws.nl/#!/kaart/waterhoogte-t-o-v-nap/'>waterinfo.rws.nl</a> for more information about these and all other measurement stations in the Netherlands) of Rijkswaterstaat along the Dutch Coast. On overview is given on the location of these six stations. The different stations are elaborated in more detail below.\n",
    "\n",
    "<ol>\n",
    "  <li><a href=\"#DELFZL\">Delfzijl</a></li>\n",
    "  <li><a href=\"#DENHDR\">Den Helder</a></li>\n",
    "  <li><a href=\"#HARLGN\">Harlingen</a></li>\n",
    "  <li><a href=\"#HOEKVHLD\">Hoek van Holland</a></li>\n",
    "  <li><a href=\"#IJMDBTHVN\">IJmuiden</a></li>\n",
    "  <li><a href=\"#VLISSGN\">Vlissingen</a></li>\n",
    "</ol>\n"
   ]
  },
  {
   "cell_type": "code",
   "execution_count": 1,
   "metadata": {
    "collapsed": false,
    "deletable": true,
    "editable": true,
    "hide_input": true
   },
   "outputs": [
    {
     "data": {
      "text/html": [
       "\n",
       "    <div class=\"bk-root\">\n",
       "        <a href=\"http://bokeh.pydata.org\" target=\"_blank\" class=\"bk-logo bk-logo-small bk-logo-notebook\"></a>\n",
       "        <span id=\"e007af20-dd69-4819-aea4-001d851fe7df\">Loading BokehJS ...</span>\n",
       "    </div>"
      ]
     },
     "metadata": {},
     "output_type": "display_data"
    },
    {
     "data": {
      "application/javascript": [
       "\n",
       "(function(global) {\n",
       "  function now() {\n",
       "    return new Date();\n",
       "  }\n",
       "\n",
       "  var force = true;\n",
       "\n",
       "  if (typeof (window._bokeh_onload_callbacks) === \"undefined\" || force === true) {\n",
       "    window._bokeh_onload_callbacks = [];\n",
       "    window._bokeh_is_loading = undefined;\n",
       "  }\n",
       "\n",
       "\n",
       "  \n",
       "  if (typeof (window._bokeh_timeout) === \"undefined\" || force === true) {\n",
       "    window._bokeh_timeout = Date.now() + 5000;\n",
       "    window._bokeh_failed_load = false;\n",
       "  }\n",
       "\n",
       "  var NB_LOAD_WARNING = {'data': {'text/html':\n",
       "     \"<div style='background-color: #fdd'>\\n\"+\n",
       "     \"<p>\\n\"+\n",
       "     \"BokehJS does not appear to have successfully loaded. If loading BokehJS from CDN, this \\n\"+\n",
       "     \"may be due to a slow or bad network connection. Possible fixes:\\n\"+\n",
       "     \"</p>\\n\"+\n",
       "     \"<ul>\\n\"+\n",
       "     \"<li>re-rerun `output_notebook()` to attempt to load from CDN again, or</li>\\n\"+\n",
       "     \"<li>use INLINE resources instead, as so:</li>\\n\"+\n",
       "     \"</ul>\\n\"+\n",
       "     \"<code>\\n\"+\n",
       "     \"from bokeh.resources import INLINE\\n\"+\n",
       "     \"output_notebook(resources=INLINE)\\n\"+\n",
       "     \"</code>\\n\"+\n",
       "     \"</div>\"}};\n",
       "\n",
       "  function display_loaded() {\n",
       "    if (window.Bokeh !== undefined) {\n",
       "      document.getElementById(\"e007af20-dd69-4819-aea4-001d851fe7df\").textContent = \"BokehJS successfully loaded.\";\n",
       "    } else if (Date.now() < window._bokeh_timeout) {\n",
       "      setTimeout(display_loaded, 100)\n",
       "    }\n",
       "  }\n",
       "\n",
       "  function run_callbacks() {\n",
       "    window._bokeh_onload_callbacks.forEach(function(callback) { callback() });\n",
       "    delete window._bokeh_onload_callbacks\n",
       "    console.info(\"Bokeh: all callbacks have finished\");\n",
       "  }\n",
       "\n",
       "  function load_libs(js_urls, callback) {\n",
       "    window._bokeh_onload_callbacks.push(callback);\n",
       "    if (window._bokeh_is_loading > 0) {\n",
       "      console.log(\"Bokeh: BokehJS is being loaded, scheduling callback at\", now());\n",
       "      return null;\n",
       "    }\n",
       "    if (js_urls == null || js_urls.length === 0) {\n",
       "      run_callbacks();\n",
       "      return null;\n",
       "    }\n",
       "    console.log(\"Bokeh: BokehJS not loaded, scheduling load and callback at\", now());\n",
       "    window._bokeh_is_loading = js_urls.length;\n",
       "    for (var i = 0; i < js_urls.length; i++) {\n",
       "      var url = js_urls[i];\n",
       "      var s = document.createElement('script');\n",
       "      s.src = url;\n",
       "      s.async = false;\n",
       "      s.onreadystatechange = s.onload = function() {\n",
       "        window._bokeh_is_loading--;\n",
       "        if (window._bokeh_is_loading === 0) {\n",
       "          console.log(\"Bokeh: all BokehJS libraries loaded\");\n",
       "          run_callbacks()\n",
       "        }\n",
       "      };\n",
       "      s.onerror = function() {\n",
       "        console.warn(\"failed to load library \" + url);\n",
       "      };\n",
       "      console.log(\"Bokeh: injecting script tag for BokehJS library: \", url);\n",
       "      document.getElementsByTagName(\"head\")[0].appendChild(s);\n",
       "    }\n",
       "  };var element = document.getElementById(\"e007af20-dd69-4819-aea4-001d851fe7df\");\n",
       "  if (element == null) {\n",
       "    console.log(\"Bokeh: ERROR: autoload.js configured with elementid 'e007af20-dd69-4819-aea4-001d851fe7df' but no matching script tag was found. \")\n",
       "    return false;\n",
       "  }\n",
       "\n",
       "  var js_urls = [\"https://cdn.pydata.org/bokeh/release/bokeh-0.12.4.min.js\", \"https://cdn.pydata.org/bokeh/release/bokeh-widgets-0.12.4.min.js\"];\n",
       "\n",
       "  var inline_js = [\n",
       "    function(Bokeh) {\n",
       "      Bokeh.set_log_level(\"info\");\n",
       "    },\n",
       "    \n",
       "    function(Bokeh) {\n",
       "      \n",
       "      document.getElementById(\"e007af20-dd69-4819-aea4-001d851fe7df\").textContent = \"BokehJS is loading...\";\n",
       "    },\n",
       "    function(Bokeh) {\n",
       "      console.log(\"Bokeh: injecting CSS: https://cdn.pydata.org/bokeh/release/bokeh-0.12.4.min.css\");\n",
       "      Bokeh.embed.inject_css(\"https://cdn.pydata.org/bokeh/release/bokeh-0.12.4.min.css\");\n",
       "      console.log(\"Bokeh: injecting CSS: https://cdn.pydata.org/bokeh/release/bokeh-widgets-0.12.4.min.css\");\n",
       "      Bokeh.embed.inject_css(\"https://cdn.pydata.org/bokeh/release/bokeh-widgets-0.12.4.min.css\");\n",
       "    }\n",
       "  ];\n",
       "\n",
       "  function run_inline_js() {\n",
       "    \n",
       "    if ((window.Bokeh !== undefined) || (force === true)) {\n",
       "      for (var i = 0; i < inline_js.length; i++) {\n",
       "        inline_js[i](window.Bokeh);\n",
       "      }if (force === true) {\n",
       "        display_loaded();\n",
       "      }} else if (Date.now() < window._bokeh_timeout) {\n",
       "      setTimeout(run_inline_js, 100);\n",
       "    } else if (!window._bokeh_failed_load) {\n",
       "      console.log(\"Bokeh: BokehJS failed to load within specified timeout.\");\n",
       "      window._bokeh_failed_load = true;\n",
       "    } else if (force !== true) {\n",
       "      var cell = $(document.getElementById(\"e007af20-dd69-4819-aea4-001d851fe7df\")).parents('.cell').data().cell;\n",
       "      cell.output_area.append_execute_result(NB_LOAD_WARNING)\n",
       "    }\n",
       "\n",
       "  }\n",
       "\n",
       "  if (window._bokeh_is_loading === 0) {\n",
       "    console.log(\"Bokeh: BokehJS loaded, going straight to plotting\");\n",
       "    run_inline_js();\n",
       "  } else {\n",
       "    load_libs(js_urls, function() {\n",
       "      console.log(\"Bokeh: BokehJS plotting callback run at\", now());\n",
       "      run_inline_js();\n",
       "    });\n",
       "  }\n",
       "}(this));"
      ]
     },
     "metadata": {},
     "output_type": "display_data"
    }
   ],
   "source": [
    "# io\n",
    "import zipfile\n",
    "import io\n",
    "import bisect\n",
    "import logging\n",
    "\n",
    "# Import packages\n",
    "import numpy as np\n",
    "import pandas as pd\n",
    "\n",
    "# download, formats and projections\n",
    "import netCDF4\n",
    "import pyproj\n",
    "import requests\n",
    "import geojson\n",
    "import rtree\n",
    "import owslib.wcs\n",
    "import osgeo.osr\n",
    "\n",
    "# rendering\n",
    "import mako.template\n",
    "import IPython.display\n",
    "\n",
    "# plotting\n",
    "import bokeh.models\n",
    "import bokeh.tile_providers\n",
    "import bokeh.plotting\n",
    "import matplotlib.pyplot as plt\n",
    "import matplotlib.gridspec\n",
    "import matplotlib.colors\n",
    "\n",
    "%matplotlib inline\n",
    "bokeh.plotting.output_notebook()"
   ]
  },
  {
   "cell_type": "markdown",
   "metadata": {
    "deletable": true,
    "editable": true,
    "hide_input": true
   },
   "source": [
    "# Datasets\n",
    "We use several external datasets. These are availble from public url's. \n",
    "The subsoil information is available from <a href=\"https://www.dinoloket.nl/\">dinoloket.nl</a>. Part of the information about the Dutch tide gauges is available from  <a href=\"https://waterwebservices.rijkswaterstaat.nl\">water webservices</a> at Rijkswaterstaat. The height information is available from Rijkswaterstaat's <a href=\"https://geoservices.rijkswaterstaat.nl/geoweb_silverlight/?Viewer=NAPinfo\">geoweb viewer</a>, which is only viewable through silverlight. There is however a direct access to the data through <a href=\"https://geodata.nationaalgeoregister.nl/napinfo/wfs\">the WFS server</a> at the nationaalgeoregister.nl. There are some images and technical drawings available on <a href=\"https://www.rijkswaterstaat.nl/formulieren/aanvraagformulier-servicedesk-data.aspx\">request</a> at Rijkswaterstaat . \n"
   ]
  },
  {
   "cell_type": "code",
   "execution_count": 4,
   "metadata": {
    "collapsed": true,
    "deletable": true,
    "editable": true,
    "hide_input": true
   },
   "outputs": [],
   "source": [
    "# the files needed for this analysis\n",
    "# dino, information about the subsoil >= -50m\n",
    "dino_url = 'http://dinodata.nl/opendap/GeoTOP/geotop.nc'\n",
    "# ddl, the data distributie laag\n",
    "ddl_url = 'https://waterwebservices.rijkswaterstaat.nl/METADATASERVICES_DBO/OphalenCatalogus/'\n",
    "# Dutch ordnance system\n",
    "nap_url = 'https://geodata.nationaalgeoregister.nl/napinfo/wfs'\n",
    "# Web coverage service for NAP.\n",
    "ahn_url = 'http://geodata.nationaalgeoregister.nl/ahn2/wcs'\n",
    "psmsl_url = 'http://www.psmsl.org/data/obtaining/rlr.annual.data/rlr_annual.zip'"
   ]
  },
  {
   "cell_type": "markdown",
   "metadata": {
    "deletable": true,
    "editable": true
   },
   "source": [
    "# Projections\n",
    "The datasets mentioned above use different geospatial projections. The data from the water webservices is available in <a href=\"http://spatialreference.org/ref/epsg/25831/\">UTM zone 31N on the ETRS89 geoid</a>. The local coordinate system is the Rijksdriehoekstelsel, which is availble <a href=\"http://spatialreference.org/ref/epsg/7415\">with</a> and <a href=\"http://spatialreference.org/ref/epsg/28992\">without</a> a reference to the vertical Coordinate System NAP.\n",
    "Data is also transformed to the <a href=\"http://spatialreference.org/ref/epsg/4326\">WGS84</a> and <a href=\"http://spatialreference.org/ref/epsg/3857\">Web Mercator</a> projections. Note that we use the proj4 software here for the projection. Formally the RDNAPTrans software provides the translation between the RD and other coordinate system, but this software is only available on <a href=\"https://formulieren.kadaster.nl/aanvragen_rdnaptrans2008\">request<a/>. "
   ]
  },
  {
   "cell_type": "code",
   "execution_count": 5,
   "metadata": {
    "collapsed": false,
    "deletable": true,
    "editable": true,
    "hide_input": true
   },
   "outputs": [],
   "source": [
    "# These are not used.\n",
    "# Using osgeo.osr is an alternative to pyproj.\n",
    "# They can give different results if EPSG tables are not up to date\n",
    "# or if the proj version does not support datum transformations (>4.6.0)\n",
    "wgs84 = osgeo.osr.SpatialReference()\n",
    "wgs84.ImportFromEPSG(4326)\n",
    "rd = osgeo.osr.SpatialReference()\n",
    "rd.ImportFromEPSG(28992)\n",
    "rdnap = osgeo.osr.SpatialReference()\n",
    "rdnap.ImportFromEPSG(7415)\n",
    "webm = osgeo.osr.SpatialReference()\n",
    "webm.ImportFromEPSG(3857)\n",
    "etrs89_utm31n = osgeo.osr.SpatialReference()\n",
    "etrs89_utm31n.ImportFromEPSG(25831)\n",
    "etrs89_utm31n2rd = osgeo.osr.CoordinateTransformation(etrs89_utm31n, rd)\n",
    "etrs89_utm31n2wgs84 = osgeo.osr.CoordinateTransformation(etrs89_utm31n, wgs84)\n",
    "etrs89_utm31n2webm = osgeo.osr.CoordinateTransformation(etrs89_utm31n, webm)\n",
    "\n",
    "# We use pyproj\n",
    "wgs84 = pyproj.Proj(init='epsg:4326')\n",
    "rd = pyproj.Proj(init='epsg:28992')\n",
    "rdnap = pyproj.Proj(init='epsg:7415')\n",
    "webm = pyproj.Proj(init='epsg:3857')\n",
    "etrs89_utm31n = pyproj.Proj(init='epsg:25831')\n",
    "\n",
    "# if pyproj is old, give an error\n",
    "if str(wgs84.proj_version) < \"4.60\":\n",
    "    logging.error(\"\"\"pyproj version {} does not support datum transformations. Use osgeo.osr, example above.\"\"\".format(wgs84.proj_version))"
   ]
  },
  {
   "cell_type": "markdown",
   "metadata": {
    "deletable": true,
    "editable": true
   },
   "source": [
    "# Schematic representation of tide gauge station. \n",
    "The dataset below contains a manual annotation of the tide gauge schematics. The tide gauge schematics (shown below) were obtained through personal communication with Rijkswaterstaat. The dataset contains the following fields:\n",
    "\n",
    "- location: Name of station\n",
    "- psmsl_id: ID from PSMSL\n",
    "- ddl_id: ID in data distributielaag (DDL)\n",
    "- foundation_low: lowest point of foundation, read from tide gauge design (m relative to NAP)\n",
    "- station_low: lowest point of station, read from tide gauge design  (m relative to NAP\n",
    "- station_high: highest point of station, read from tide gauge design (m relative to NAP)\n",
    "- nulpaal: station has a nulpaal (station is directly connected to NAP reference point)\n",
    "- summary: description of tide gauge,\n",
    "- img: image from CIV\n",
    "\n",
    "This information is presented, in combination with the other information at the end of this document."
   ]
  },
  {
   "cell_type": "code",
   "execution_count": 6,
   "metadata": {
    "collapsed": true,
    "deletable": true,
    "editable": true,
    "hide_input": true
   },
   "outputs": [],
   "source": [
    "# this is information collected manual\n",
    "\n",
    "main_stations = [\n",
    "    {\n",
    "        \"ddl_id\": \"DELFZL\",\n",
    "        \"location\": \"Delfzijl\",\n",
    "        \"psmsl_id\": 24,\n",
    "        \"foundation_low\": -20,\n",
    "        \"station_low\": 1.85,\n",
    "        \"station_high\": 10.18,\n",
    "        \"nulpaal\": 0,\n",
    "        \"rlr2nap\": lambda x: x - (6978-155),\n",
    "        \"summary\": \"The tidal measurement station in Delfzijl is located in the harbour of Delfzijl. Category 'Peilmeetstation'. The station has a main building with a foundation on a steel round pole (inner width = 2.3m, outer width 2.348m) reaching to a depth of -20m NAP. The Building is placed in the harbour and is connected to the main land by means of a steel stairs towards a quay. Which has also a foundation on steel poles. Peilbout is inside the construction attached to the wall. Every ten minutes the water level relative to NAP is measured. Between -4 and -5 m depth concrete seals of the underwater chamber. \",\n",
    "        \"img\": \"http://www.openearth.nl/sealevel/static/images/DELFZL.jpg\",\n",
    "        \"autocad\": \"http://a360.co/2s8ltK7\",\n",
    "        \"links\": []\n",
    "    },\n",
    "    {\n",
    "        \"ddl_id\": \"DENHDR\",\n",
    "        \"location\": \"Den Helder\",\n",
    "        \"psmsl_id\": 23,\n",
    "        \"foundation_low\": -5,\n",
    "        \"station_low\": 5,\n",
    "        \"station_high\": 8.47,\n",
    "        \"nulpaal\": 1,\n",
    "        \"rlr2nap\": lambda x: x - (6988-42),\n",
    "        \"summary\": \"This station is located in the dike of Den Helder. The station has a pipe through the dike towards the sea for the measurement of the water level. The inlet of this pipe is at -3.25m NAP. There is a seperate construction for the ventilation of the main building. Furthermore the peilbout is located outside the main building at the opposite side of the dike. The main construction has a foundation of steel sheet pilings forming a rectangle around the measurement instruments. Between -4 and -5 m depth concrete seals of the underwater chamber. \",\n",
    "        \"img\": \"http://www.openearth.nl/sealevel/static/images/DENHDR.jpg\",\n",
    "        \"autocad\": \"http://a360.co/2sYyitj\",\n",
    "        \"links\": []\n",
    "    },\n",
    "    {\n",
    "        \"ddl_id\": \"HARLGN\", \n",
    "        \"location\": \"Harlingen\",\n",
    "        \"psmsl_id\": 25,\n",
    "        \"foundation_low\": -5.4,\n",
    "        \"station_low\": 5.55,\n",
    "        \"station_high\": 8.54,\n",
    "        \"nulpaal\": 1,\n",
    "        \"rlr2nap\": lambda x: x - (7036-122),\n",
    "        \"summary\": \"The tidal station in Harlingen is located in a harbour on top of a boulevard. A pipe is going from the station at a depth of -2.56m NAP towards the sea. The inlet of the pipe is protected by a construction, so as to reduce the variations by the wave impact. The Main building has a foundation of a steel sheet pilings construction (rectangle inner dimensions 2.53 by 2.27m^2) surrounding the measurement instruments.\",\n",
    "        \"img\": \"http://www.openearth.nl/sealevel/static/images/DELFZL.jpg\",\n",
    "        \"autocad\": \"http://a360.co/2sYfFFX\",\n",
    "        \"links\": []\n",
    "    },\n",
    "    {\n",
    "        \"ddl_id\": \"HOEKVHLD\", \n",
    "        \"location\": \"Hoek van Holland\",\n",
    "        \"psmsl_id\": 22,\n",
    "        \"foundation_low\": -3.3,\n",
    "        \"station_low\": 5.27,\n",
    "        \"station_high\": 9.05,\n",
    "        \"nulpaal\": 0,\n",
    "        \"rlr2nap\": lambda x:x - (6994 - 121),\n",
    "        \"summary\": \"The station in Hoek van Holland is located beside the Nieuwe Waterweg near the river mouth into the North Sea. The reference pole is situated outside the main building on the main land. The main building is connected to the main land by a steel bridge. The foundation of the main building is on steel poles. The building is a concrete structure reaching to a depth of -3.0 m NAP. This entire thing is enough for the measurement instruments to be placed inside. And the underwater chamber is then, in contrary to the other stations within the main building. The entire concrete structure has a foundation of multiple sheet piles. These are 8 concrete plates (8-sided) with a length of 14.1m. \",\n",
    "        \"img\": \"http://www.openearth.nl/sealevel/static/images/HOEKVHLD.jpg\",\n",
    "        \"autocad\": \"http://a360.co/2uqAgAs\",\n",
    "        \"links\": []\n",
    "    },\n",
    "    {\n",
    "        \"ddl_id\": \"IJMDBTHVN\", \n",
    "        \"location\": \"IJmuiden\",\n",
    "        \"psmsl_id\": 32,\n",
    "        \"foundation_low\": -13,\n",
    "        \"station_low\": 4.2,\n",
    "        \"station_high\": 10.35,\n",
    "        \"nulpaal\": 0,\n",
    "        \"rlr2nap\": lambda x: x - (7033-83),\n",
    "        \"summary\": \"IJmuiden is located on the northern part of the marina in IJmuiden, near a breakwater. The main building is situated in the water and is connected by a steel stairs and bridge with the main land. The foundation of this building consists out a round steel sheet pile. The under water chamber is closed of with a concrete slab between -3.75m NAP and - 4.5m NAP. The sheet pile is extended to a depth of -13m NAP. IJmuiden has a GPS (GNSS) station attached to it.\",\n",
    "        \"img\": \"http://www.openearth.nl/sealevel/static/images/IJMDBTHVN.jpg\",\n",
    "        \"autocad\": \"http://a360.co/2sZ4Nrn\",\n",
    "        \"links\": [\n",
    "            {\n",
    "                \"href\": \"http://gnss1.tudelft.nl/dpga/station/Ijmuiden.html\",\n",
    "                \"name\": \"GNSS info\"\n",
    "            }\n",
    "        ]\n",
    "    },\n",
    "    {\n",
    "        \"ddl_id\": \"VLISSGN\",\n",
    "        \"location\": \"Vlissingen\",\n",
    "        \"psmsl_id\": 20,\n",
    "        \"foundation_low\": -17.6,\n",
    "        \"station_low\": 2.5,\n",
    "        \"station_high\": 9,\n",
    "        \"nulpaal\": 0,\n",
    "        \"rlr2nap\": lambda x: x - (6976-46),\n",
    "        \"summary\": \"This station is located at a quay in Vlissingen, near the outer harbour. The foundation is a steel sheet pile reaching to a depth of -17.6m NAP, having a width of 2.2m (outer width). Inside this pile are the measurement instruments. The under water chamber is sealed of with a concrete slab reaching from -4.0 m NAP to -5.0 m NAP. The station has a GPS (GNSS) device attached.\",\n",
    "        \"img\": \"http://www.openearth.nl/sealevel/static/images/VLISSGN.jpg\",\n",
    "        \"autocad\": \"http://a360.co/2sZ4Nrn\",\n",
    "        \"links\": [\n",
    "            {\n",
    "                \"href\": \"http://gnss1.tudelft.nl/dpga/station/Vlissingen.html\",\n",
    "                \"name\": \"GNSS info\"\n",
    "            }\n",
    "        ]\n",
    "    }\n",
    "]"
   ]
  },
  {
   "cell_type": "code",
   "execution_count": 7,
   "metadata": {
    "collapsed": false,
    "deletable": true,
    "editable": true,
    "hide_input": true
   },
   "outputs": [
    {
     "data": {
      "text/html": [
       "<div>\n",
       "<table border=\"1\" class=\"dataframe\">\n",
       "  <thead>\n",
       "    <tr style=\"text-align: right;\">\n",
       "      <th></th>\n",
       "      <th>location</th>\n",
       "      <th>psmsl_id</th>\n",
       "      <th>nulpaal</th>\n",
       "    </tr>\n",
       "    <tr>\n",
       "      <th>ddl_id</th>\n",
       "      <th></th>\n",
       "      <th></th>\n",
       "      <th></th>\n",
       "    </tr>\n",
       "  </thead>\n",
       "  <tbody>\n",
       "    <tr>\n",
       "      <th>DELFZL</th>\n",
       "      <td>Delfzijl</td>\n",
       "      <td>24</td>\n",
       "      <td>0</td>\n",
       "    </tr>\n",
       "    <tr>\n",
       "      <th>DENHDR</th>\n",
       "      <td>Den Helder</td>\n",
       "      <td>23</td>\n",
       "      <td>1</td>\n",
       "    </tr>\n",
       "    <tr>\n",
       "      <th>HARLGN</th>\n",
       "      <td>Harlingen</td>\n",
       "      <td>25</td>\n",
       "      <td>1</td>\n",
       "    </tr>\n",
       "    <tr>\n",
       "      <th>HOEKVHLD</th>\n",
       "      <td>Hoek van Holland</td>\n",
       "      <td>22</td>\n",
       "      <td>0</td>\n",
       "    </tr>\n",
       "    <tr>\n",
       "      <th>IJMDBTHVN</th>\n",
       "      <td>IJmuiden</td>\n",
       "      <td>32</td>\n",
       "      <td>0</td>\n",
       "    </tr>\n",
       "    <tr>\n",
       "      <th>VLISSGN</th>\n",
       "      <td>Vlissingen</td>\n",
       "      <td>20</td>\n",
       "      <td>0</td>\n",
       "    </tr>\n",
       "  </tbody>\n",
       "</table>\n",
       "</div>"
      ],
      "text/plain": [
       "                   location  psmsl_id  nulpaal\n",
       "ddl_id                                        \n",
       "DELFZL             Delfzijl        24        0\n",
       "DENHDR           Den Helder        23        1\n",
       "HARLGN            Harlingen        25        1\n",
       "HOEKVHLD   Hoek van Holland        22        0\n",
       "IJMDBTHVN          IJmuiden        32        0\n",
       "VLISSGN          Vlissingen        20        0"
      ]
     },
     "execution_count": 7,
     "metadata": {},
     "output_type": "execute_result"
    }
   ],
   "source": [
    "# convert the data to a dataframe (table)\n",
    "station_data = pd.DataFrame.from_records(main_stations)\n",
    "station_data = station_data.set_index('ddl_id')\n",
    "station_data[['location', 'psmsl_id', 'nulpaal']]"
   ]
  },
  {
   "cell_type": "markdown",
   "metadata": {
    "deletable": true,
    "editable": true
   },
   "source": [
    "# PSMSL records\n",
    "The <a href=\"www.psmsl.org\">PSMSL</a> keeps a record of information of all tide gauges. They are responsible for the collection of the monthly and annual mean sea-level data from the global network of tide gauges. The PSMSL is based in Liverpool at the National Oceanography Centre (NOC). There are also two parties working on the collection of realtime measurements. These can be found at the <a href=\"http://uhslc.soest.hawaii.edu/\">University of Hawaii sea-level center</a>. Unfortunately the Dutch data is not in there. Dutch data in PSMSL is also often lagging. You have to ask Rijkswaterstaat to deliver the data to PSMSL, or if that does not work, ask PSMSL to ask Rijkswaterstaat for the data. \n",
    "You can also manually calculate the mean sea-levels from the 10minute data, but this does not always match up with the \"formal\" figures. We download the information from the PSMSL and use it to define the revised local reference level.\n",
    "\n",
    "The analysis of the tide gauge data itself is done in the <a href=\"dutch-monitor.ipynb\">sea-level monitor</a>."
   ]
  },
  {
   "cell_type": "code",
   "execution_count": 8,
   "metadata": {
    "collapsed": false,
    "deletable": true,
    "editable": true,
    "hide_input": true
   },
   "outputs": [
    {
     "ename": "FileNotFoundError",
     "evalue": "[Errno 2] No such file or directory: '..\\\\..\\\\rlr_annual.zip'",
     "output_type": "error",
     "traceback": [
      "\u001b[1;31m---------------------------------------------------------------------------\u001b[0m",
      "\u001b[1;31mFileNotFoundError\u001b[0m                         Traceback (most recent call last)",
      "\u001b[1;32m<ipython-input-8-da3f84c57407>\u001b[0m in \u001b[0;36m<module>\u001b[1;34m()\u001b[0m\n\u001b[0;32m      1\u001b[0m \u001b[1;31m# read information from the psmsl\u001b[0m\u001b[1;33m\u001b[0m\u001b[1;33m\u001b[0m\u001b[0m\n\u001b[1;32m----> 2\u001b[1;33m \u001b[0mzf\u001b[0m \u001b[1;33m=\u001b[0m \u001b[0mzipfile\u001b[0m\u001b[1;33m.\u001b[0m\u001b[0mZipFile\u001b[0m\u001b[1;33m(\u001b[0m\u001b[1;34mr'..\\..\\rlr_annual.zip'\u001b[0m\u001b[1;33m)\u001b[0m\u001b[1;33m\u001b[0m\u001b[0m\n\u001b[0m\u001b[0;32m      3\u001b[0m \u001b[0mrecords\u001b[0m \u001b[1;33m=\u001b[0m \u001b[1;33m[\u001b[0m\u001b[1;33m]\u001b[0m\u001b[1;33m\u001b[0m\u001b[0m\n\u001b[0;32m      4\u001b[0m \u001b[1;32mfor\u001b[0m \u001b[0mstation\u001b[0m \u001b[1;32min\u001b[0m \u001b[0mmain_stations\u001b[0m\u001b[1;33m:\u001b[0m\u001b[1;33m\u001b[0m\u001b[0m\n\u001b[0;32m      5\u001b[0m     \u001b[0mfilename\u001b[0m \u001b[1;33m=\u001b[0m \u001b[1;34m'rlr_annual/RLR_info/{}.txt'\u001b[0m\u001b[1;33m.\u001b[0m\u001b[0mformat\u001b[0m\u001b[1;33m(\u001b[0m\u001b[0mstation\u001b[0m\u001b[1;33m[\u001b[0m\u001b[1;34m'psmsl_id'\u001b[0m\u001b[1;33m]\u001b[0m\u001b[1;33m)\u001b[0m\u001b[1;33m\u001b[0m\u001b[0m\n",
      "\u001b[1;32mc:\\python35\\lib\\zipfile.py\u001b[0m in \u001b[0;36m__init__\u001b[1;34m(self, file, mode, compression, allowZip64)\u001b[0m\n\u001b[0;32m   1007\u001b[0m             \u001b[1;32mwhile\u001b[0m \u001b[1;32mTrue\u001b[0m\u001b[1;33m:\u001b[0m\u001b[1;33m\u001b[0m\u001b[0m\n\u001b[0;32m   1008\u001b[0m                 \u001b[1;32mtry\u001b[0m\u001b[1;33m:\u001b[0m\u001b[1;33m\u001b[0m\u001b[0m\n\u001b[1;32m-> 1009\u001b[1;33m                     \u001b[0mself\u001b[0m\u001b[1;33m.\u001b[0m\u001b[0mfp\u001b[0m \u001b[1;33m=\u001b[0m \u001b[0mio\u001b[0m\u001b[1;33m.\u001b[0m\u001b[0mopen\u001b[0m\u001b[1;33m(\u001b[0m\u001b[0mfile\u001b[0m\u001b[1;33m,\u001b[0m \u001b[0mfilemode\u001b[0m\u001b[1;33m)\u001b[0m\u001b[1;33m\u001b[0m\u001b[0m\n\u001b[0m\u001b[0;32m   1010\u001b[0m                 \u001b[1;32mexcept\u001b[0m \u001b[0mOSError\u001b[0m\u001b[1;33m:\u001b[0m\u001b[1;33m\u001b[0m\u001b[0m\n\u001b[0;32m   1011\u001b[0m                     \u001b[1;32mif\u001b[0m \u001b[0mfilemode\u001b[0m \u001b[1;32min\u001b[0m \u001b[0mmodeDict\u001b[0m\u001b[1;33m:\u001b[0m\u001b[1;33m\u001b[0m\u001b[0m\n",
      "\u001b[1;31mFileNotFoundError\u001b[0m: [Errno 2] No such file or directory: '..\\\\..\\\\rlr_annual.zip'"
     ]
    }
   ],
   "source": [
    "# read information from the psmsl\n",
    "zf = zipfile.ZipFile(r'..\\..\\rlr_annual.zip')\n",
    "records = []\n",
    "for station in main_stations:\n",
    "    filename = 'rlr_annual/RLR_info/{}.txt'.format(station['psmsl_id'])\n",
    "    img_bytes = zf.read('rlr_annual/RLR_info/{}.png'.format(station['psmsl_id']))\n",
    "    img = plt.imread(io.BytesIO(img_bytes))\n",
    "    record = {\n",
    "        \"ddl_id\": station[\"ddl_id\"],\n",
    "        \"psmsl_info\": zf.read(filename).decode(),\n",
    "        \"psmsl_img\": img\n",
    "    }\n",
    "    records.append(record)\n",
    "psmsl_df = pd.DataFrame.from_records(records).set_index(\"ddl_id\")\n",
    "station_data = pd.merge(station_data, psmsl_df, left_index=True, right_index=True)\n",
    "station_data[['psmsl_info']]"
   ]
  },
  {
   "cell_type": "markdown",
   "metadata": {
    "deletable": true,
    "editable": true
   },
   "source": [
    "## Water webservices @ Rijkswaterstaat\n",
    "The water data from Rijkswaterstaat are available from a <a href=\"https://waterwebservices.rijkswaterstaat.nl/METADATASERVICES_DBO/OphalenCatalogus\">url</a>. The webservice is a bit (!) unorthodox. The requests are all in Dutch and it does not follow a common REST or any other familiar protocol. So make sure you read through the <a href=\"http://www.rijkswaterstaat.nl/rws/opendata/DistributielaagWebservices-SUM-2v7.pdf\">documentation</a>, which is only available in pdf format.\n",
    "The main thing that we need here are the x and y coordinates (in ETRS89 UTM31N). \n",
    "\n",
    "$\\textbf{Wij hebben alle 10-minuten waarden van de afgelopen x jaar nodig voor de 6 hoofdstations. -> OphalenWaarnemingen.}$\n"
   ]
  },
  {
   "cell_type": "code",
   "execution_count": 2,
   "metadata": {
    "collapsed": false,
    "deletable": true,
    "editable": true,
    "hide_input": true
   },
   "outputs": [
    {
     "ename": "NameError",
     "evalue": "name 'dino_url' is not defined",
     "output_type": "error",
     "traceback": [
      "\u001b[1;31m---------------------------------------------------------------------------\u001b[0m",
      "\u001b[1;31mNameError\u001b[0m                                 Traceback (most recent call last)",
      "\u001b[1;32m<ipython-input-2-5e3d07fd093b>\u001b[0m in \u001b[0;36m<module>\u001b[1;34m()\u001b[0m\n\u001b[0;32m      1\u001b[0m \u001b[1;31m# read the grid of the dino dataset\u001b[0m\u001b[1;33m\u001b[0m\u001b[1;33m\u001b[0m\u001b[0m\n\u001b[1;32m----> 2\u001b[1;33m \u001b[0mdino\u001b[0m \u001b[1;33m=\u001b[0m \u001b[0mnetCDF4\u001b[0m\u001b[1;33m.\u001b[0m\u001b[0mDataset\u001b[0m\u001b[1;33m(\u001b[0m\u001b[0mdino_url\u001b[0m\u001b[1;33m,\u001b[0m \u001b[1;34m'r'\u001b[0m\u001b[1;33m)\u001b[0m\u001b[1;33m\u001b[0m\u001b[0m\n\u001b[0m\u001b[0;32m      3\u001b[0m \u001b[0mx_dino\u001b[0m \u001b[1;33m=\u001b[0m \u001b[0mdino\u001b[0m\u001b[1;33m.\u001b[0m\u001b[0mvariables\u001b[0m\u001b[1;33m[\u001b[0m\u001b[1;34m'x'\u001b[0m\u001b[1;33m]\u001b[0m\u001b[1;33m[\u001b[0m\u001b[1;33m:\u001b[0m\u001b[1;33m]\u001b[0m\u001b[1;33m\u001b[0m\u001b[0m\n\u001b[0;32m      4\u001b[0m \u001b[0my_dino\u001b[0m \u001b[1;33m=\u001b[0m \u001b[0mdino\u001b[0m\u001b[1;33m.\u001b[0m\u001b[0mvariables\u001b[0m\u001b[1;33m[\u001b[0m\u001b[1;34m'y'\u001b[0m\u001b[1;33m]\u001b[0m\u001b[1;33m[\u001b[0m\u001b[1;33m:\u001b[0m\u001b[1;33m]\u001b[0m\u001b[1;33m\u001b[0m\u001b[0m\n\u001b[0;32m      5\u001b[0m \u001b[0mz_dino\u001b[0m \u001b[1;33m=\u001b[0m \u001b[0mdino\u001b[0m\u001b[1;33m.\u001b[0m\u001b[0mvariables\u001b[0m\u001b[1;33m[\u001b[0m\u001b[1;34m'z'\u001b[0m\u001b[1;33m]\u001b[0m\u001b[1;33m[\u001b[0m\u001b[1;33m:\u001b[0m\u001b[1;33m]\u001b[0m\u001b[1;33m\u001b[0m\u001b[0m\n",
      "\u001b[1;31mNameError\u001b[0m: name 'dino_url' is not defined"
     ]
    }
   ],
   "source": [
    "# read the grid of the dino dataset\n",
    "dino = netCDF4.Dataset(dino_url, 'r')\n",
    "x_dino = dino.variables['x'][:]\n",
    "y_dino = dino.variables['y'][:]\n",
    "z_dino = dino.variables['z'][:]\n",
    "# lookup z index of -15m\n",
    "z_min_idx = np.searchsorted(z_dino, -15)\n",
    "# lookup litho at z index\n",
    "z_min = dino.variables['lithok'][..., z_min_idx]\n",
    "# keep the mask so we can look for close points\n",
    "mask_dino = z_min.mask"
   ]
  },
  {
   "cell_type": "code",
   "execution_count": 10,
   "metadata": {
    "collapsed": false,
    "deletable": true,
    "editable": true,
    "hide_input": true
   },
   "outputs": [
    {
     "data": {
      "text/html": [
       "<div>\n",
       "<table border=\"1\" class=\"dataframe\">\n",
       "  <thead>\n",
       "    <tr style=\"text-align: right;\">\n",
       "      <th></th>\n",
       "      <th>Naam</th>\n",
       "      <th>X</th>\n",
       "      <th>Y</th>\n",
       "    </tr>\n",
       "  </thead>\n",
       "  <tbody>\n",
       "    <tr>\n",
       "      <th>DELFZL</th>\n",
       "      <td>Delfzijl</td>\n",
       "      <td>761899.770960</td>\n",
       "      <td>5.915790e+06</td>\n",
       "    </tr>\n",
       "    <tr>\n",
       "      <th>DENHDR</th>\n",
       "      <td>Den Helder</td>\n",
       "      <td>617198.393684</td>\n",
       "      <td>5.869731e+06</td>\n",
       "    </tr>\n",
       "    <tr>\n",
       "      <th>HARLGN</th>\n",
       "      <td>Harlingen</td>\n",
       "      <td>661021.585505</td>\n",
       "      <td>5.894519e+06</td>\n",
       "    </tr>\n",
       "    <tr>\n",
       "      <th>HOEKVHLD</th>\n",
       "      <td>Hoek van Holland</td>\n",
       "      <td>576917.669784</td>\n",
       "      <td>5.759136e+06</td>\n",
       "    </tr>\n",
       "    <tr>\n",
       "      <th>IJMDBTHVN</th>\n",
       "      <td>IJmuiden buitenhaven</td>\n",
       "      <td>605633.035699</td>\n",
       "      <td>5.813598e+06</td>\n",
       "    </tr>\n",
       "    <tr>\n",
       "      <th>VLISSGN</th>\n",
       "      <td>Vlissingen</td>\n",
       "      <td>541425.983215</td>\n",
       "      <td>5.699182e+06</td>\n",
       "    </tr>\n",
       "  </tbody>\n",
       "</table>\n",
       "</div>"
      ],
      "text/plain": [
       "                           Naam              X             Y\n",
       "DELFZL                 Delfzijl  761899.770960  5.915790e+06\n",
       "DENHDR               Den Helder  617198.393684  5.869731e+06\n",
       "HARLGN                Harlingen  661021.585505  5.894519e+06\n",
       "HOEKVHLD       Hoek van Holland  576917.669784  5.759136e+06\n",
       "IJMDBTHVN  IJmuiden buitenhaven  605633.035699  5.813598e+06\n",
       "VLISSGN              Vlissingen  541425.983215  5.699182e+06"
      ]
     },
     "execution_count": 10,
     "metadata": {},
     "output_type": "execute_result"
    }
   ],
   "source": [
    "# get station information from DDL (metadata uit Catalogus)\n",
    "request = {\n",
    "    \"CatalogusFilter\": {\n",
    "        \"Eenheden\": True,\n",
    "        \"Grootheden\": True,\n",
    "        \"Hoedanigheden\": True\n",
    "    }\n",
    "}\n",
    "resp = requests.post(ddl_url, json=request)\n",
    "result = resp.json()\n",
    "# print alle variabelen in de catalogus\n",
    "#print(result)\n",
    "\n",
    "df = pd.DataFrame.from_dict(result['LocatieLijst'])\n",
    "df = df.set_index('Code')\n",
    "# note that there are two stations for IJmuiden. \n",
    "# The station was moved from the sluices to outside of the harbor in 1981.\n",
    "ids = ['DELFZL', 'DENHDR', 'HARLGN', 'HOEKVHLD', 'IJMDBTHVN', 'IJMDNDSS', 'VLISSGN']\n",
    "\n",
    "# make a copy so we can add things\n",
    "stations_df = df.ix[ids].copy()\n",
    "# this drops IJMDNSS\n",
    "stations_df = pd.merge(stations_df, station_data, left_index=True, right_index=True)\n",
    "stations_df[['Naam', 'X', 'Y']]\n",
    "#stations_df"
   ]
  },
  {
   "cell_type": "code",
   "execution_count": 11,
   "metadata": {
    "collapsed": false,
    "deletable": true,
    "editable": true
   },
   "outputs": [
    {
     "name": "stdout",
     "output_type": "stream",
     "text": [
      "<Response [200]>\n"
     ]
    }
   ],
   "source": [
    "#print(stations_df[['Y']])\n",
    "print(resp)"
   ]
  },
  {
   "cell_type": "markdown",
   "metadata": {
    "deletable": true,
    "editable": true
   },
   "source": [
    "N.B. De jaarlijks gemiddelde waterstanden gewoon inladen via bestand rlr_annual.zip."
   ]
  },
  {
   "cell_type": "markdown",
   "metadata": {
    "deletable": true,
    "editable": true
   },
   "source": [
    "Waarnemingen (10 minuten data) opvragen voor een bepaalde datumreeks en bepaalde stations\n",
    "Dit kan via WebFeatureServices (4.3 Bulkwaarnemingenservices) of via OphalenWaarnemingen (https://waterwebservices.rijkswaterstaat.nl/ONLINEWAARNEMINGENSERVICES_DBO/OphalenWaarnemingen).\n",
    "Met een request naar de OphalenWaarnemingen service is het mogelijk waarnemingen op te halen die\n",
    "voldoen aan de opgegeven parameters. Hieronder het voorbeeld uit de manual:\n",
    "\n",
    "{\"AquoPlusWaarnemingMetadata\":\n",
    "{\"AquoMetadata\":{\"Compartiment\":\n",
    "{\"Code\":\"OW\"},\n",
    "\"Eenheid\":{\"Code\":\"cm\"},\n",
    "\"MeetApparaat\":{\"Code\":\"109\"},\n",
    "\"Grootheid\":{\"Code\":\"Hm0\"}}},\n",
    "\"Locatie\":{\"X\":518882.333320247,\"Y\":576\n",
    "0829.11729589,\"Code\":\"EURPFM\"},\n",
    "\"Periode\":{\"Begindatumtijd\":\"2012-01-\n",
    "27T09:00:00.000+01:00\",\"Einddatumtijd\":\"\n",
    "2012-01-27T09:01:00.000+01:00\"}}"
   ]
  },
  {
   "cell_type": "code",
   "execution_count": 28,
   "metadata": {
    "collapsed": false,
    "deletable": true,
    "editable": true
   },
   "outputs": [
    {
     "name": "stdout",
     "output_type": "stream",
     "text": [
      "https://waterwebservices.rijkswaterstaat.nl/ONLINEWAARNEMINGENSERVICES_DBO/OphalenWaarnemingen\n",
      "{'Periode': {'Begindatumtijd': '2017-01-27T09:00:00.000+01:00', 'Einddatumtijd': '2017-01-27T09:30:00.000+01:00'}, 'Locatie': {'Y': 5760829.11729589, 'X': 518882.333320247, 'Code': 'EURPFM'}, 'AquoPlusWaarnemingMetadata': {'AquoMetadata': {'Eenheid': {'Code': 'cm'}, 'Compartiment': {'Code': 'OW'}, 'MeetApparaat': {'Code': '109'}, 'Grootheid': {'Code': 'Hm0'}}}}\n",
      "<Response [200]>\n",
      "{\"Succesvol\":false,\"Foutmelding\":\"Geen gegevens gevonden!\"}\n"
     ]
    }
   ],
   "source": [
    "# Kopie documentatie 'OphalenWaarnemingen'\n",
    "import requests\n",
    "ddl_url2 = 'https://waterwebservices.rijkswaterstaat.nl/ONLINEWAARNEMINGENSERVICES_DBO/OphalenWaarnemingen'\n",
    "print(ddl_url2)\n",
    "# vraag Hm0 voor een half uur in januari 2012 op. Frequentie is 1 x per 10 minuten.\n",
    "request = {\"AquoPlusWaarnemingMetadata\": \n",
    "           {\"AquoMetadata\":\n",
    "              {\"Compartiment\":\n",
    "                    {\"Code\":\"OW\"},\n",
    "                \"Eenheid\": \n",
    "                   {\"Code\":\"cm\"},\n",
    "                \"MeetApparaat\":\n",
    "                   {\"Code\":\"109\"},\n",
    "                \"Grootheid\":\n",
    "                   {\"Code\":\"Hm0\"}}},\n",
    "                \"Locatie\":{\"X\":518882.333320247,\"Y\":5760829.11729589,\"Code\":\"EURPFM\"},\n",
    "                \"Periode\":{\"Begindatumtijd\":\"2017-01-27T09:00:00.000+01:00\",\"Einddatumtijd\":\"2017-01-27T09:30:00.000+01:00\"}}\n",
    "print(request)\n",
    "# Met Locatie Delfzijl wil het voor een gewone waterstand \"WTHTE\" niet zo vlotten.\n",
    "# MEETAPPARAAT CODE ?\n",
    "# GROOTHEID CODE WTHTE\n",
    "# LOCATIE      \"Locatie\":{\"X\":761899.770959577,\"Y\":5915790.48491405,\"Code\":\"DELFZL\"},\n",
    "resp = requests.post(ddl_url2, json=request)\n",
    "print(resp)\n",
    "print(resp.text) #print(resp.content)\n",
    "result = resp.json()\n",
    "#print(result)"
   ]
  },
  {
   "cell_type": "markdown",
   "metadata": {
    "deletable": true,
    "editable": true
   },
   "source": [
    "Kopie voorbeeld OphalenLaatsteWaarnemingen (DIT WERKT NOG NIET)\n",
    "https://waterwebservices.rijkswaterstaat.nl/ONLINEWAARNEMINGENSERVICES_DBO/OphalenLaatsteWaarnemingen\n",
    "\n",
    "{\"AquoPlusWaarnemingMetadataLijst\":{\"AquoMetadata\":{\"Compartiment\":{\"Code\":\"OW\"},\"Eenheid\":{\"Code\":\"cm\"},\"Grootheid\":{\"Code\":\"H1/3\"}}}],\"LocatieLijst\":[{\"X\":518882.333320247,\"Y\":5760829.11729589,\"Code\":\"EURPFM\"}]}"
   ]
  },
  {
   "cell_type": "code",
   "execution_count": 23,
   "metadata": {
    "collapsed": false,
    "deletable": true,
    "editable": true
   },
   "outputs": [
    {
     "name": "stdout",
     "output_type": "stream",
     "text": [
      "https://waterwebservices.rijkswaterstaat.nl/ONLINEWAARNEMINGENSERVICES_DBO/OphalenLaatsteWaarnemingen\n",
      "{'AquoPlusWaarnemingMetadataLijst': {'AquoMetadata': {'Compartiment': {'Code': 'OW'}, 'Eenheid': {'Code': 'cm'}, 'Grootheid': {'Code': 'Hm0'}}}, 'LocatieLijst': {'X': 518882.333320247, 'Y': 5760829.11729589, 'Code': 'EURPFM'}}\n",
      "<Response [404]>\n",
      "JsonProcessingException: Can not deserialize instance of java.util.ArrayList out of START_OBJECT token.\n"
     ]
    },
    {
     "ename": "JSONDecodeError",
     "evalue": "Expecting value: line 1 column 1 (char 0)",
     "output_type": "error",
     "traceback": [
      "\u001b[0;31m---------------------------------------------------------------------------\u001b[0m",
      "\u001b[0;31mJSONDecodeError\u001b[0m                           Traceback (most recent call last)",
      "\u001b[0;32m<ipython-input-23-3c873bde8469>\u001b[0m in \u001b[0;36m<module>\u001b[0;34m()\u001b[0m\n\u001b[1;32m     14\u001b[0m \u001b[0mprint\u001b[0m\u001b[1;33m(\u001b[0m\u001b[0mresp\u001b[0m\u001b[1;33m)\u001b[0m\u001b[1;33m\u001b[0m\u001b[0m\n\u001b[1;32m     15\u001b[0m \u001b[0mprint\u001b[0m\u001b[1;33m(\u001b[0m\u001b[0mresp\u001b[0m\u001b[1;33m.\u001b[0m\u001b[0mtext\u001b[0m\u001b[1;33m)\u001b[0m\u001b[1;33m\u001b[0m\u001b[0m\n\u001b[0;32m---> 16\u001b[0;31m \u001b[0mresult\u001b[0m \u001b[1;33m=\u001b[0m \u001b[0mresp\u001b[0m\u001b[1;33m.\u001b[0m\u001b[0mjson\u001b[0m\u001b[1;33m(\u001b[0m\u001b[1;33m)\u001b[0m\u001b[1;33m\u001b[0m\u001b[0m\n\u001b[0m",
      "\u001b[0;32mC:\\ProgramData\\Anaconda3\\lib\\site-packages\\requests\\models.py\u001b[0m in \u001b[0;36mjson\u001b[0;34m(self, **kwargs)\u001b[0m\n\u001b[1;32m    848\u001b[0m                     \u001b[1;31m# used.\u001b[0m\u001b[1;33m\u001b[0m\u001b[1;33m\u001b[0m\u001b[0m\n\u001b[1;32m    849\u001b[0m                     \u001b[1;32mpass\u001b[0m\u001b[1;33m\u001b[0m\u001b[0m\n\u001b[0;32m--> 850\u001b[0;31m         \u001b[1;32mreturn\u001b[0m \u001b[0mcomplexjson\u001b[0m\u001b[1;33m.\u001b[0m\u001b[0mloads\u001b[0m\u001b[1;33m(\u001b[0m\u001b[0mself\u001b[0m\u001b[1;33m.\u001b[0m\u001b[0mtext\u001b[0m\u001b[1;33m,\u001b[0m \u001b[1;33m**\u001b[0m\u001b[0mkwargs\u001b[0m\u001b[1;33m)\u001b[0m\u001b[1;33m\u001b[0m\u001b[0m\n\u001b[0m\u001b[1;32m    851\u001b[0m \u001b[1;33m\u001b[0m\u001b[0m\n\u001b[1;32m    852\u001b[0m     \u001b[1;33m@\u001b[0m\u001b[0mproperty\u001b[0m\u001b[1;33m\u001b[0m\u001b[0m\n",
      "\u001b[0;32mC:\\ProgramData\\Anaconda3\\lib\\json\\__init__.py\u001b[0m in \u001b[0;36mloads\u001b[0;34m(s, encoding, cls, object_hook, parse_float, parse_int, parse_constant, object_pairs_hook, **kw)\u001b[0m\n\u001b[1;32m    352\u001b[0m             \u001b[0mparse_int\u001b[0m \u001b[1;32mis\u001b[0m \u001b[1;32mNone\u001b[0m \u001b[1;32mand\u001b[0m \u001b[0mparse_float\u001b[0m \u001b[1;32mis\u001b[0m \u001b[1;32mNone\u001b[0m \u001b[1;32mand\u001b[0m\u001b[1;33m\u001b[0m\u001b[0m\n\u001b[1;32m    353\u001b[0m             parse_constant is None and object_pairs_hook is None and not kw):\n\u001b[0;32m--> 354\u001b[0;31m         \u001b[1;32mreturn\u001b[0m \u001b[0m_default_decoder\u001b[0m\u001b[1;33m.\u001b[0m\u001b[0mdecode\u001b[0m\u001b[1;33m(\u001b[0m\u001b[0ms\u001b[0m\u001b[1;33m)\u001b[0m\u001b[1;33m\u001b[0m\u001b[0m\n\u001b[0m\u001b[1;32m    355\u001b[0m     \u001b[1;32mif\u001b[0m \u001b[0mcls\u001b[0m \u001b[1;32mis\u001b[0m \u001b[1;32mNone\u001b[0m\u001b[1;33m:\u001b[0m\u001b[1;33m\u001b[0m\u001b[0m\n\u001b[1;32m    356\u001b[0m         \u001b[0mcls\u001b[0m \u001b[1;33m=\u001b[0m \u001b[0mJSONDecoder\u001b[0m\u001b[1;33m\u001b[0m\u001b[0m\n",
      "\u001b[0;32mC:\\ProgramData\\Anaconda3\\lib\\json\\decoder.py\u001b[0m in \u001b[0;36mdecode\u001b[0;34m(self, s, _w)\u001b[0m\n\u001b[1;32m    337\u001b[0m \u001b[1;33m\u001b[0m\u001b[0m\n\u001b[1;32m    338\u001b[0m         \"\"\"\n\u001b[0;32m--> 339\u001b[0;31m         \u001b[0mobj\u001b[0m\u001b[1;33m,\u001b[0m \u001b[0mend\u001b[0m \u001b[1;33m=\u001b[0m \u001b[0mself\u001b[0m\u001b[1;33m.\u001b[0m\u001b[0mraw_decode\u001b[0m\u001b[1;33m(\u001b[0m\u001b[0ms\u001b[0m\u001b[1;33m,\u001b[0m \u001b[0midx\u001b[0m\u001b[1;33m=\u001b[0m\u001b[0m_w\u001b[0m\u001b[1;33m(\u001b[0m\u001b[0ms\u001b[0m\u001b[1;33m,\u001b[0m \u001b[1;36m0\u001b[0m\u001b[1;33m)\u001b[0m\u001b[1;33m.\u001b[0m\u001b[0mend\u001b[0m\u001b[1;33m(\u001b[0m\u001b[1;33m)\u001b[0m\u001b[1;33m)\u001b[0m\u001b[1;33m\u001b[0m\u001b[0m\n\u001b[0m\u001b[1;32m    340\u001b[0m         \u001b[0mend\u001b[0m \u001b[1;33m=\u001b[0m \u001b[0m_w\u001b[0m\u001b[1;33m(\u001b[0m\u001b[0ms\u001b[0m\u001b[1;33m,\u001b[0m \u001b[0mend\u001b[0m\u001b[1;33m)\u001b[0m\u001b[1;33m.\u001b[0m\u001b[0mend\u001b[0m\u001b[1;33m(\u001b[0m\u001b[1;33m)\u001b[0m\u001b[1;33m\u001b[0m\u001b[0m\n\u001b[1;32m    341\u001b[0m         \u001b[1;32mif\u001b[0m \u001b[0mend\u001b[0m \u001b[1;33m!=\u001b[0m \u001b[0mlen\u001b[0m\u001b[1;33m(\u001b[0m\u001b[0ms\u001b[0m\u001b[1;33m)\u001b[0m\u001b[1;33m:\u001b[0m\u001b[1;33m\u001b[0m\u001b[0m\n",
      "\u001b[0;32mC:\\ProgramData\\Anaconda3\\lib\\json\\decoder.py\u001b[0m in \u001b[0;36mraw_decode\u001b[0;34m(self, s, idx)\u001b[0m\n\u001b[1;32m    355\u001b[0m             \u001b[0mobj\u001b[0m\u001b[1;33m,\u001b[0m \u001b[0mend\u001b[0m \u001b[1;33m=\u001b[0m \u001b[0mself\u001b[0m\u001b[1;33m.\u001b[0m\u001b[0mscan_once\u001b[0m\u001b[1;33m(\u001b[0m\u001b[0ms\u001b[0m\u001b[1;33m,\u001b[0m \u001b[0midx\u001b[0m\u001b[1;33m)\u001b[0m\u001b[1;33m\u001b[0m\u001b[0m\n\u001b[1;32m    356\u001b[0m         \u001b[1;32mexcept\u001b[0m \u001b[0mStopIteration\u001b[0m \u001b[1;32mas\u001b[0m \u001b[0merr\u001b[0m\u001b[1;33m:\u001b[0m\u001b[1;33m\u001b[0m\u001b[0m\n\u001b[0;32m--> 357\u001b[0;31m             \u001b[1;32mraise\u001b[0m \u001b[0mJSONDecodeError\u001b[0m\u001b[1;33m(\u001b[0m\u001b[1;34m\"Expecting value\"\u001b[0m\u001b[1;33m,\u001b[0m \u001b[0ms\u001b[0m\u001b[1;33m,\u001b[0m \u001b[0merr\u001b[0m\u001b[1;33m.\u001b[0m\u001b[0mvalue\u001b[0m\u001b[1;33m)\u001b[0m \u001b[1;32mfrom\u001b[0m \u001b[1;32mNone\u001b[0m\u001b[1;33m\u001b[0m\u001b[0m\n\u001b[0m\u001b[1;32m    358\u001b[0m         \u001b[1;32mreturn\u001b[0m \u001b[0mobj\u001b[0m\u001b[1;33m,\u001b[0m \u001b[0mend\u001b[0m\u001b[1;33m\u001b[0m\u001b[0m\n",
      "\u001b[0;31mJSONDecodeError\u001b[0m: Expecting value: line 1 column 1 (char 0)"
     ]
    }
   ],
   "source": [
    "ddl_url3 = 'https://waterwebservices.rijkswaterstaat.nl/ONLINEWAARNEMINGENSERVICES_DBO/OphalenLaatsteWaarnemingen'\n",
    "print(ddl_url3)\n",
    "request = {\"AquoPlusWaarnemingMetadataLijst\":\n",
    "           {\"AquoMetadata\":\n",
    "            {\"Compartiment\":\n",
    "                    {\"Code\":\"OW\"},\n",
    "                \"Eenheid\": \n",
    "                   {\"Code\":\"cm\"},\n",
    "                \"Grootheid\":\n",
    "                   {\"Code\":\"H1/3\"}}},\n",
    "                \"LocatieLijst\":{\"X\":518882.333320247,\"Y\":5760829.11729589,\"Code\":\"EURPFM\"}}\n",
    "print(request)\n",
    "resp = requests.post(ddl_url3, json=request)\n",
    "print(resp)\n",
    "print(resp.text)\n",
    "result = resp.json()"
   ]
  },
  {
   "cell_type": "markdown",
   "metadata": {
    "deletable": true,
    "editable": true
   },
   "source": [
    "##### N.B. To be able to display the data on a map. Data are transformed into the projections mentioned above. The Web Mercator is used to display data on a map. "
   ]
  },
  {
   "cell_type": "code",
   "execution_count": 13,
   "metadata": {
    "collapsed": false,
    "deletable": true,
    "editable": true,
    "hide_input": true
   },
   "outputs": [
    {
     "data": {
      "text/html": [
       "<div>\n",
       "<table border=\"1\" class=\"dataframe\">\n",
       "  <thead>\n",
       "    <tr style=\"text-align: right;\">\n",
       "      <th></th>\n",
       "      <th>lat</th>\n",
       "      <th>lon</th>\n",
       "    </tr>\n",
       "  </thead>\n",
       "  <tbody>\n",
       "    <tr>\n",
       "      <th>DELFZL</th>\n",
       "      <td>53.326355</td>\n",
       "      <td>6.933123</td>\n",
       "    </tr>\n",
       "    <tr>\n",
       "      <th>DENHDR</th>\n",
       "      <td>52.964359</td>\n",
       "      <td>4.744990</td>\n",
       "    </tr>\n",
       "    <tr>\n",
       "      <th>HARLGN</th>\n",
       "      <td>53.175634</td>\n",
       "      <td>5.409342</td>\n",
       "    </tr>\n",
       "    <tr>\n",
       "      <th>HOEKVHLD</th>\n",
       "      <td>51.977574</td>\n",
       "      <td>4.119881</td>\n",
       "    </tr>\n",
       "    <tr>\n",
       "      <th>IJMDBTHVN</th>\n",
       "      <td>52.462326</td>\n",
       "      <td>4.554823</td>\n",
       "    </tr>\n",
       "    <tr>\n",
       "      <th>VLISSGN</th>\n",
       "      <td>51.442311</td>\n",
       "      <td>3.596057</td>\n",
       "    </tr>\n",
       "  </tbody>\n",
       "</table>\n",
       "</div>"
      ],
      "text/plain": [
       "                 lat       lon\n",
       "DELFZL     53.326355  6.933123\n",
       "DENHDR     52.964359  4.744990\n",
       "HARLGN     53.175634  5.409342\n",
       "HOEKVHLD   51.977574  4.119881\n",
       "IJMDBTHVN  52.462326  4.554823\n",
       "VLISSGN    51.442311  3.596057"
      ]
     },
     "execution_count": 13,
     "metadata": {},
     "output_type": "execute_result"
    }
   ],
   "source": [
    "# compute coordinates in different coordinate systems\n",
    "stations_df['x_rd'], stations_df['y_rd'] = pyproj.transform(\n",
    "    etrs89_utm31n, \n",
    "    rd, \n",
    "    list(stations_df.X), \n",
    "    list(stations_df.Y)\n",
    ")\n",
    "stations_df['lon'], stations_df['lat'] = pyproj.transform(\n",
    "    etrs89_utm31n, \n",
    "    wgs84, \n",
    "    list(stations_df.X), \n",
    "    list(stations_df.Y)\n",
    ")\n",
    "stations_df['x_webm'], stations_df['y_webm'] = pyproj.transform(\n",
    "    etrs89_utm31n, \n",
    "    webm, \n",
    "    list(stations_df.X), \n",
    "    list(stations_df.Y)\n",
    ")\n",
    "stations_df[['lat', 'lon']]"
   ]
  },
  {
   "cell_type": "markdown",
   "metadata": {
    "deletable": true,
    "editable": true
   },
   "source": [
    "## DINO\n",
    "The Geologische Dienst Nederland (GDN), part of TNO, has created a database of subsoil data.\n",
    "This database is refered to as Data en Informatie van de Nederlandse Ondergrond (DINO). \n",
    "We use this dataset to gather information about the subsoil at the location of the tide gauge.\n",
    "More information can be found at the <a href=\"http://www.dinoloket.nl/\">DINO</a> website.\n",
    "\n",
    "Here we show a map of the coverage of the lithography at -15m. "
   ]
  },
  {
   "cell_type": "code",
   "execution_count": 14,
   "metadata": {
    "collapsed": true,
    "deletable": true,
    "editable": true,
    "hide_input": true
   },
   "outputs": [],
   "source": [
    "# We define some colors so they look somewhat natural. \n",
    "# The colors are based on images of the corresponding soil type.\n",
    "# It is unknown what litho class 4 is. \n",
    "\n",
    "colors = {\n",
    "    0: '#669966', # Above ground\n",
    "    1: '#845F4C', # Peat\n",
    "    2: '#734222', # Clay\n",
    "    3: '#B99F71', # Sandy Clay\n",
    "    4: '#ff0000', # litho 4\n",
    "    5: '#E7D1C1', # Fines \n",
    "    6: '#c2b280', # Intermediate\n",
    "    7: '#969CAA', # Coarse\n",
    "    8: '#D0D6D6', # Gravel\n",
    "    9: '#E5E5DB', # Shells,\n",
    "    10: '#EEEEEE' # Undefined\n",
    "    \n",
    "}\n",
    "labels = {\n",
    "    0: \"Above ground\",\n",
    "    1: \"Peat\",\n",
    "    2: \"Clay\",\n",
    "    3: \"Sandy clay\",\n",
    "    4: \"lithoclass 4\",\n",
    "    5: \"Fine sand\",\n",
    "    6: \"Intermediate fine sand\",\n",
    "    7: \"Coarse sand\",\n",
    "    8: \"Gravel\",\n",
    "    9: \"Shells\",\n",
    "    10: \"Undefined\"\n",
    "}"
   ]
  },
  {
   "cell_type": "code",
   "execution_count": 15,
   "metadata": {
    "collapsed": false,
    "deletable": true,
    "editable": true,
    "hide_input": true
   },
   "outputs": [
    {
     "data": {
      "image/png": "[encoded data removed]",
      "text/plain": [
       "<matplotlib.figure.Figure at 0x7917128>"
      ]
     },
     "metadata": {},
     "output_type": "display_data"
    }
   ],
   "source": [
    "# Create a map of tide gauges with lithography at deep level\n",
    "colors_rgb = [\n",
    "    matplotlib.colors.hex2color(val) \n",
    "    for val \n",
    "    in colors.values()\n",
    "]\n",
    "# lookup colors\n",
    "img = np.take(colors_rgb, np.ma.masked_values(z_min, -127).filled(10).T, axis=0)\n",
    "fig, ax = plt.subplots(figsize=(8, 8/1.4))\n",
    "ax.imshow(\n",
    "    img, \n",
    "    origin='bottom', \n",
    "    extent=(x_dino[0], x_dino[-1], y_dino[0], y_dino[-1])\n",
    ")\n",
    "ax.plot(stations_df.x_rd, stations_df.y_rd, 'r.')\n",
    "for name, row in stations_df.iterrows():\n",
    "    ax.text(row.x_rd, row.y_rd, row.location, horizontalalignment='right')\n",
    "_ = ax.set_title('Tide gauges with lithography at {}m'.format(z_dino[z_min_idx]))"
   ]
  },
  {
   "cell_type": "markdown",
   "metadata": {
    "deletable": true,
    "editable": true
   },
   "source": [
    "For each tide gauge the corresponding lithography is looked up at a location close the tide gauge. For some tide gauges this means that the litography is not on water where the tide gauge is or the other way around."
   ]
  },
  {
   "cell_type": "code",
   "execution_count": 16,
   "metadata": {
    "collapsed": false,
    "deletable": true,
    "editable": true,
    "hide_input": true
   },
   "outputs": [
    {
     "data": {
      "text/html": [
       "<div>\n",
       "<table border=\"1\" class=\"dataframe\">\n",
       "  <thead>\n",
       "    <tr style=\"text-align: right;\">\n",
       "      <th></th>\n",
       "      <th>lithok</th>\n",
       "      <th>x_dino</th>\n",
       "      <th>y_dino</th>\n",
       "    </tr>\n",
       "  </thead>\n",
       "  <tbody>\n",
       "    <tr>\n",
       "      <th>DELFZL</th>\n",
       "      <td>litho      z\n",
       "0      7.0  -50.0\n",
       "1      7.0...</td>\n",
       "      <td>258000</td>\n",
       "      <td>594400</td>\n",
       "    </tr>\n",
       "    <tr>\n",
       "      <th>DENHDR</th>\n",
       "      <td>litho      z\n",
       "0      7.0  -50.0\n",
       "1      7.0...</td>\n",
       "      <td>111800</td>\n",
       "      <td>553200</td>\n",
       "    </tr>\n",
       "    <tr>\n",
       "      <th>HARLGN</th>\n",
       "      <td>litho      z\n",
       "0      5.0  -50.0\n",
       "1      5.0...</td>\n",
       "      <td>156500</td>\n",
       "      <td>576600</td>\n",
       "    </tr>\n",
       "    <tr>\n",
       "      <th>HOEKVHLD</th>\n",
       "      <td>litho      z\n",
       "0      5.0  -50.0\n",
       "1      5.0...</td>\n",
       "      <td>67900</td>\n",
       "      <td>444000</td>\n",
       "    </tr>\n",
       "    <tr>\n",
       "      <th>IJMDBTHVN</th>\n",
       "      <td>litho      z\n",
       "0      5.0  -50.0\n",
       "1      5.0...</td>\n",
       "      <td>98400</td>\n",
       "      <td>497500</td>\n",
       "    </tr>\n",
       "    <tr>\n",
       "      <th>VLISSGN</th>\n",
       "      <td>litho      z\n",
       "0      3.0  -50.0\n",
       "1      3.0...</td>\n",
       "      <td>30500</td>\n",
       "      <td>385200</td>\n",
       "    </tr>\n",
       "  </tbody>\n",
       "</table>\n",
       "</div>"
      ],
      "text/plain": [
       "                                                      lithok  x_dino  y_dino\n",
       "DELFZL          litho      z\n",
       "0      7.0  -50.0\n",
       "1      7.0...  258000  594400\n",
       "DENHDR          litho      z\n",
       "0      7.0  -50.0\n",
       "1      7.0...  111800  553200\n",
       "HARLGN          litho      z\n",
       "0      5.0  -50.0\n",
       "1      5.0...  156500  576600\n",
       "HOEKVHLD        litho      z\n",
       "0      5.0  -50.0\n",
       "1      5.0...   67900  444000\n",
       "IJMDBTHVN       litho      z\n",
       "0      5.0  -50.0\n",
       "1      5.0...   98400  497500\n",
       "VLISSGN         litho      z\n",
       "0      3.0  -50.0\n",
       "1      3.0...   30500  385200"
      ]
     },
     "execution_count": 16,
     "metadata": {},
     "output_type": "execute_result"
    }
   ],
   "source": [
    "# this part looks up the nearest location of DINO and looksup the lithography in that location\n",
    "\n",
    "Y_dino, X_dino = np.meshgrid(y_dino, x_dino)\n",
    "# Lookup the closest points in the dino database\n",
    "\n",
    "# closest location\n",
    "dino_idx = []\n",
    "lithos = []\n",
    "for code, station in stations_df.iterrows():\n",
    "    # compute the distance\n",
    "    x_idx = np.argmin(np.abs(station.x_rd - x_dino))\n",
    "    y_idx = np.argmin(np.abs(station.y_rd - y_dino))\n",
    "    # closest point, can also use a kdtree\n",
    "    # store it\n",
    "    dino_idx.append((x_idx, y_idx))\n",
    "    lithok = dino.variables['lithok'][x_idx, y_idx, :]\n",
    "    litho = pd.DataFrame(data=dict(z=z_dino, litho=lithok))\n",
    "    lithos.append(litho)\n",
    "\n",
    "# convert to array\n",
    "dino_idx = np.array(dino_idx)\n",
    "# store the tuples\n",
    "stations_df['dino_idx'] = list(dino_idx)\n",
    "# lookup x,y\n",
    "stations_df['x_dino'] = x_dino[dino_idx[:, 0]]\n",
    "stations_df['y_dino'] = y_dino[dino_idx[:, 1]]\n",
    "stations_df['x_dino_webm'], stations_df['y_dino_webm'] = pyproj.transform(\n",
    "    rd, \n",
    "    webm, \n",
    "    list(stations_df['x_dino']), \n",
    "    list(stations_df['y_dino'])\n",
    ")\n",
    "stations_df['lithok'] = lithos\n",
    "stations_df[['lithok', 'x_dino', 'y_dino']]\n"
   ]
  },
  {
   "cell_type": "markdown",
   "metadata": {
    "deletable": true,
    "editable": true
   },
   "source": [
    "# NAP info\n",
    "The NAP is the local reference level for the Netherlands. The data are downloaded from georegister because the napinfo is not accessible through an api. The data are shown in the overview at the end of this document."
   ]
  },
  {
   "cell_type": "code",
   "execution_count": 17,
   "metadata": {
    "collapsed": false,
    "deletable": true,
    "editable": true,
    "hide_input": true
   },
   "outputs": [],
   "source": [
    "# Het bestand napinfo.json kan je zelf aanmaken. Zie de makefile in de data directory:\n",
    "#  https://github.com/openearth/sealevel/blob/master/data/nap/Makefile\n",
    "# Je kan naar de ../data directory gaan (in een terminal) en dan het volgende intikken:\n",
    "# make\n",
    "# Make en wget zitten bij de laatste windows versies. \n",
    "# Als je een oude windows versie hebt kan je ook cygwin of iets vergelijkbaars installeren. \n",
    "# \n",
    "# Vervolgens het bestand in de datamap plaatsen. Ik heb het nu (tijdelijk) in de scriptmap gezet (zowel lokaal als op P-schijf).\n",
    "#\n",
    "features = geojson.load(open('napinfo.json'))\n",
    "index = rtree.Rtree()\n",
    "for i, feature in enumerate(features['features']):\n",
    "    # broken element (invalid coordinates)\n",
    "    if feature['properties']['gml_id'] == \"nappeilmerken.37004\":\n",
    "        continue\n",
    "    index.add(i, tuple(feature['geometry']['coordinates']), feature)\n"
   ]
  },
  {
   "cell_type": "code",
   "execution_count": 18,
   "metadata": {
    "collapsed": false,
    "deletable": true,
    "editable": true,
    "hide_input": true
   },
   "outputs": [
    {
     "data": {
      "text/html": [
       "<div>\n",
       "<table border=\"1\" class=\"dataframe\">\n",
       "  <thead>\n",
       "    <tr style=\"text-align: right;\">\n",
       "      <th></th>\n",
       "      <th>nap</th>\n",
       "    </tr>\n",
       "  </thead>\n",
       "  <tbody>\n",
       "    <tr>\n",
       "      <th>DELFZL</th>\n",
       "      <td>[{'type': 'Feature', 'properties': {'pub_tekst...</td>\n",
       "    </tr>\n",
       "    <tr>\n",
       "      <th>DENHDR</th>\n",
       "      <td>[{'type': 'Feature', 'properties': {'pub_tekst...</td>\n",
       "    </tr>\n",
       "    <tr>\n",
       "      <th>HARLGN</th>\n",
       "      <td>[{'type': 'Feature', 'properties': {'pub_tekst...</td>\n",
       "    </tr>\n",
       "    <tr>\n",
       "      <th>HOEKVHLD</th>\n",
       "      <td>[{'type': 'Feature', 'properties': {'pub_tekst...</td>\n",
       "    </tr>\n",
       "    <tr>\n",
       "      <th>IJMDBTHVN</th>\n",
       "      <td>[{'type': 'Feature', 'properties': {'pub_tekst...</td>\n",
       "    </tr>\n",
       "    <tr>\n",
       "      <th>VLISSGN</th>\n",
       "      <td>[{'type': 'Feature', 'properties': {'pub_tekst...</td>\n",
       "    </tr>\n",
       "  </tbody>\n",
       "</table>\n",
       "</div>"
      ],
      "text/plain": [
       "                                                         nap\n",
       "DELFZL     [{'type': 'Feature', 'properties': {'pub_tekst...\n",
       "DENHDR     [{'type': 'Feature', 'properties': {'pub_tekst...\n",
       "HARLGN     [{'type': 'Feature', 'properties': {'pub_tekst...\n",
       "HOEKVHLD   [{'type': 'Feature', 'properties': {'pub_tekst...\n",
       "IJMDBTHVN  [{'type': 'Feature', 'properties': {'pub_tekst...\n",
       "VLISSGN    [{'type': 'Feature', 'properties': {'pub_tekst..."
      ]
     },
     "execution_count": 18,
     "metadata": {},
     "output_type": "execute_result"
    }
   ],
   "source": [
    "# index.nearest(statio)\n",
    "records = []\n",
    "for ddl_id, station in stations_df.iterrows():\n",
    "    closest = []\n",
    "    for item in index.nearest((station.x_rd, station.y_rd), num_results=5, objects=True):\n",
    "        feature = item.object\n",
    "        feature['properties']['x_webm'], feature['properties']['y_webm'] = pyproj.transform(\n",
    "            rd, \n",
    "            webm, \n",
    "            feature['properties']['x_rd'],\n",
    "            feature['properties']['y_rd']\n",
    "        )\n",
    "        feature['properties']['distance'] = np.sqrt(\n",
    "            (station.x_rd - float(feature['properties']['x_rd']))**2 +\n",
    "            (station.y_rd - float(feature['properties']['y_rd']))**2\n",
    "        )\n",
    "            \n",
    "        closest.append(feature)\n",
    "    records.append({\n",
    "        \"ddl_id\": ddl_id,\n",
    "        \"nap\": closest\n",
    "    })\n",
    "nap_df = pd.DataFrame.from_records(records).set_index('ddl_id')\n",
    "\n",
    "stations_df = pd.merge(stations_df, nap_df, left_index=True, right_index=True)\n",
    "stations_df[['nap']]"
   ]
  },
  {
   "cell_type": "markdown",
   "metadata": {
    "deletable": true,
    "editable": true
   },
   "source": [
    "## AHN\n",
    "For each tide gauge we lookup the AHN of the ground. This is not defined for most stations because they are in the water. "
   ]
  },
  {
   "cell_type": "code",
   "execution_count": 19,
   "metadata": {
    "collapsed": false,
    "deletable": true,
    "editable": true,
    "hide_input": true
   },
   "outputs": [
    {
     "data": {
      "text/plain": [
       "Index(['Coordinatenstelsel', 'Locatie_MessageID', 'Naam', 'X', 'Y', 'autocad',\n",
       "       'foundation_low', 'img', 'links', 'location', 'nulpaal', 'psmsl_id',\n",
       "       'rlr2nap', 'station_high', 'station_low', 'summary', 'x_rd', 'y_rd',\n",
       "       'lon', 'lat', 'x_webm', 'y_webm', 'dino_idx', 'x_dino', 'y_dino',\n",
       "       'x_dino_webm', 'y_dino_webm', 'lithok', 'nap', 'ahn'],\n",
       "      dtype='object')"
      ]
     },
     "execution_count": 19,
     "metadata": {},
     "output_type": "execute_result"
    }
   ],
   "source": [
    "\n",
    "\n",
    "wcs = owslib.wcs.WebCoverageService(ahn_url, version='1.0.0')\n",
    "\n",
    "def ahn_for_station(station):\n",
    "    # can't import this before pyproj are set\n",
    "    import rasterio\n",
    "\n",
    "    # wms.getfeatureinfo()\n",
    "    delta = 1e-6\n",
    "    resp = wcs.getCoverage(\n",
    "        'ahn2:ahn2_05m_int', \n",
    "        bbox=(station['lon']-delta, station['lat']-delta, station['lon']+delta, station['lat']+delta),\n",
    "        crs='EPSG:4326',\n",
    "        width=1,\n",
    "        height=1,\n",
    "        format='geotiff'\n",
    "    )\n",
    "    with open('result.tiff', 'wb') as f:\n",
    "        f.write(resp.read())\n",
    "    with rasterio.open('result.tiff') as f:\n",
    "        data = f.read()[0]\n",
    "    ahn_ma = np.ma.masked_outside(data, -100, 100)\n",
    "    return ahn_ma[0, 0]\n",
    "\n",
    "ahns = []\n",
    "for ddl_id, station in stations_df.iterrows():\n",
    "    ahn = ahn_for_station(station)\n",
    "    ahns.append({\n",
    "        \"ddl_id\": ddl_id,\n",
    "        \"ahn\": ahn\n",
    "    })\n",
    "ahn_df = pd.DataFrame.from_records(ahns).set_index('ddl_id')\n",
    "stations_df = pd.merge(stations_df, ahn_df, left_index=True, right_index=True)\n",
    "stations_df.columns"
   ]
  },
  {
   "cell_type": "markdown",
   "metadata": {
    "deletable": true,
    "editable": true
   },
   "source": [
    "## Map of the main tide gauges\n",
    "The map below shows some of the information that we have collected so far. The locations of the tide gauges. The locations of the closest point in the DINO source and the location of the closest points where the NAP is determined."
   ]
  },
  {
   "cell_type": "code",
   "execution_count": 20,
   "metadata": {
    "collapsed": false,
    "deletable": true,
    "editable": true,
    "hide_input": true
   },
   "outputs": [],
   "source": [
    "# Now we plot the mapping between the DINO, NAP locations and the tide gauge locations\n",
    "\n",
    "# Save data in datasource\n",
    "stations_cds = bokeh.models.ColumnDataSource.from_df(\n",
    "    stations_df[['x_webm', 'y_webm', 'x_dino_webm', 'y_dino_webm', 'Naam', 'lat', 'lon']].copy()\n",
    ")\n",
    "\n",
    "# Plot map with locations of stations and nearest data of dino_loket\n",
    "p = bokeh.plotting.figure(tools='pan, wheel_zoom, box_zoom', x_range=(320000, 780000), y_range=(6800000, 7000000))\n",
    "\n",
    "p.axis.visible = False\n",
    "p.add_tile(bokeh.tile_providers.CARTODBPOSITRON)\n",
    "# two layers\n",
    "c1 = p.circle(x='x_webm', y='y_webm', size=20, source=stations_cds, legend='Tide gauges')\n",
    "c2 = p.circle(x='x_dino_webm', y='y_dino_webm', size=10, source=stations_cds, color='orange', legend='Nearest location dinodata')\n",
    "for ddl_id, station in stations_df.iterrows():\n",
    "    for nap_feature in station['nap']:\n",
    "        c = p.circle(\n",
    "            x=nap_feature['properties']['x_webm'], \n",
    "            y=nap_feature['properties']['y_webm'],\n",
    "            size=3,\n",
    "            color='black',\n",
    "            legend='nap point near tide gauge'\n",
    "        )\n",
    "# tools, so you can inspect and zoom in\n",
    "p.add_tools(\n",
    "    bokeh.models.HoverTool(\n",
    "        renderers =[c1],\n",
    "        tooltips=[\n",
    "            (\"name\", \"@Naam\"),\n",
    "            (\"Lon, Lat\", \"(@lat, @lon)\"),\n",
    "        ]\n",
    "    )\n",
    ")\n"
   ]
  },
  {
   "cell_type": "code",
   "execution_count": 21,
   "metadata": {
    "collapsed": false,
    "deletable": true,
    "editable": true,
    "hide_input": true
   },
   "outputs": [
    {
     "data": {
      "text/html": [
       "\n",
       "\n",
       "    <div class=\"bk-root\">\n",
       "        <div class=\"bk-plotdiv\" id=\"43fab178-0dd4-4d8a-87e6-1f27d105c5cb\"></div>\n",
       "    </div>\n",
       "<script type=\"text/javascript\">\n",
       "  \n",
       "  (function(global) {\n",
       "    function now() {\n",
       "      return new Date();\n",
       "    }\n",
       "  \n",
       "    var force = false;\n",
       "  \n",
       "    if (typeof (window._bokeh_onload_callbacks) === \"undefined\" || force === true) {\n",
       "      window._bokeh_onload_callbacks = [];\n",
       "      window._bokeh_is_loading = undefined;\n",
       "    }\n",
       "  \n",
       "  \n",
       "    \n",
       "    if (typeof (window._bokeh_timeout) === \"undefined\" || force === true) {\n",
       "      window._bokeh_timeout = Date.now() + 0;\n",
       "      window._bokeh_failed_load = false;\n",
       "    }\n",
       "  \n",
       "    var NB_LOAD_WARNING = {'data': {'text/html':\n",
       "       \"<div style='background-color: #fdd'>\\n\"+\n",
       "       \"<p>\\n\"+\n",
       "       \"BokehJS does not appear to have successfully loaded. If loading BokehJS from CDN, this \\n\"+\n",
       "       \"may be due to a slow or bad network connection. Possible fixes:\\n\"+\n",
       "       \"</p>\\n\"+\n",
       "       \"<ul>\\n\"+\n",
       "       \"<li>re-rerun `output_notebook()` to attempt to load from CDN again, or</li>\\n\"+\n",
       "       \"<li>use INLINE resources instead, as so:</li>\\n\"+\n",
       "       \"</ul>\\n\"+\n",
       "       \"<code>\\n\"+\n",
       "       \"from bokeh.resources import INLINE\\n\"+\n",
       "       \"output_notebook(resources=INLINE)\\n\"+\n",
       "       \"</code>\\n\"+\n",
       "       \"</div>\"}};\n",
       "  \n",
       "    function display_loaded() {\n",
       "      if (window.Bokeh !== undefined) {\n",
       "        document.getElementById(\"43fab178-0dd4-4d8a-87e6-1f27d105c5cb\").textContent = \"BokehJS successfully loaded.\";\n",
       "      } else if (Date.now() < window._bokeh_timeout) {\n",
       "        setTimeout(display_loaded, 100)\n",
       "      }\n",
       "    }\n",
       "  \n",
       "    function run_callbacks() {\n",
       "      window._bokeh_onload_callbacks.forEach(function(callback) { callback() });\n",
       "      delete window._bokeh_onload_callbacks\n",
       "      console.info(\"Bokeh: all callbacks have finished\");\n",
       "    }\n",
       "  \n",
       "    function load_libs(js_urls, callback) {\n",
       "      window._bokeh_onload_callbacks.push(callback);\n",
       "      if (window._bokeh_is_loading > 0) {\n",
       "        console.log(\"Bokeh: BokehJS is being loaded, scheduling callback at\", now());\n",
       "        return null;\n",
       "      }\n",
       "      if (js_urls == null || js_urls.length === 0) {\n",
       "        run_callbacks();\n",
       "        return null;\n",
       "      }\n",
       "      console.log(\"Bokeh: BokehJS not loaded, scheduling load and callback at\", now());\n",
       "      window._bokeh_is_loading = js_urls.length;\n",
       "      for (var i = 0; i < js_urls.length; i++) {\n",
       "        var url = js_urls[i];\n",
       "        var s = document.createElement('script');\n",
       "        s.src = url;\n",
       "        s.async = false;\n",
       "        s.onreadystatechange = s.onload = function() {\n",
       "          window._bokeh_is_loading--;\n",
       "          if (window._bokeh_is_loading === 0) {\n",
       "            console.log(\"Bokeh: all BokehJS libraries loaded\");\n",
       "            run_callbacks()\n",
       "          }\n",
       "        };\n",
       "        s.onerror = function() {\n",
       "          console.warn(\"failed to load library \" + url);\n",
       "        };\n",
       "        console.log(\"Bokeh: injecting script tag for BokehJS library: \", url);\n",
       "        document.getElementsByTagName(\"head\")[0].appendChild(s);\n",
       "      }\n",
       "    };var element = document.getElementById(\"43fab178-0dd4-4d8a-87e6-1f27d105c5cb\");\n",
       "    if (element == null) {\n",
       "      console.log(\"Bokeh: ERROR: autoload.js configured with elementid '43fab178-0dd4-4d8a-87e6-1f27d105c5cb' but no matching script tag was found. \")\n",
       "      return false;\n",
       "    }\n",
       "  \n",
       "    var js_urls = [];\n",
       "  \n",
       "    var inline_js = [\n",
       "      function(Bokeh) {\n",
       "        (function() {\n",
       "          var fn = function() {\n",
       "            var docs_json = {\"83b0e143-008a-41d9-9dba-c8b003e234a5\":{\"roots\":{\"references\":[{\"attributes\":{\"callback\":null},\"id\":\"77971a08-a97a-4a25-9520-09fb0b71b4c7\",\"type\":\"ColumnDataSource\"},{\"attributes\":{\"label\":{\"value\":\"Tide gauges\"},\"renderers\":[{\"id\":\"859cadff-e6a7-4694-8fdf-015e016b7da3\",\"type\":\"GlyphRenderer\"}]},\"id\":\"befbe8cb-3a25-4ad8-81ca-a19cc3cc2eab\",\"type\":\"LegendItem\"},{\"attributes\":{\"fill_alpha\":{\"value\":0.1},\"fill_color\":{\"value\":\"#1f77b4\"},\"line_alpha\":{\"value\":0.1},\"line_color\":{\"value\":\"#1f77b4\"},\"size\":{\"units\":\"screen\",\"value\":3},\"x\":{\"value\":401692.35047797323},\"y\":{\"value\":6699750.741417443}},\"id\":\"9bff9af8-31ea-4d92-81ff-dbf30953d5f2\",\"type\":\"Circle\"},{\"attributes\":{\"formatter\":{\"id\":\"4ddc3a5a-82aa-4167-8916-81d8ff9f6221\",\"type\":\"BasicTickFormatter\"},\"plot\":{\"id\":\"2a00d3d4-2855-4ad6-8797-937fdf22d5f7\",\"subtype\":\"Figure\",\"type\":\"Plot\"},\"ticker\":{\"id\":\"493157c0-767b-4ffd-b648-86580bc76527\",\"type\":\"BasicTicker\"},\"visible\":false},\"id\":\"3e303660-8099-46b5-bf33-f5e35ccf6e11\",\"type\":\"LinearAxis\"},{\"attributes\":{\"callback\":null},\"id\":\"5db8acc2-a86e-4caa-8fb1-5ebc16d8a831\",\"type\":\"ColumnDataSource\"},{\"attributes\":{\"fill_color\":{\"value\":\"black\"},\"size\":{\"units\":\"screen\",\"value\":3},\"x\":{\"value\":771358.7626713963},\"y\":{\"value\":7042883.512182452}},\"id\":\"51f97d88-e359-4515-94ee-b09a1ebe0291\",\"type\":\"Circle\"},{\"attributes\":{\"fill_color\":{\"value\":\"black\"},\"size\":{\"units\":\"screen\",\"value\":3},\"x\":{\"value\":528095.8420805043},\"y\":{\"value\":6976191.090700164}},\"id\":\"3cfd1c8e-ec76-4559-9731-449acaa51fdf\",\"type\":\"Circle\"},{\"attributes\":{\"data_source\":{\"id\":\"40c4fe9e-3e84-4dad-897b-04c24350cf87\",\"type\":\"ColumnDataSource\"},\"glyph\":{\"id\":\"693fca29-baa6-4405-923c-bf8e777bf857\",\"type\":\"Circle\"},\"hover_glyph\":null,\"nonselection_glyph\":{\"id\":\"277e1ba1-674f-4ba2-9c83-202d5fa1c9fc\",\"type\":\"Circle\"},\"selection_glyph\":null},\"id\":\"0a4f8cc0-5e1b-40c5-8bca-dfaec1ceb3b4\",\"type\":\"GlyphRenderer\"},{\"attributes\":{\"fill_color\":{\"value\":\"black\"},\"size\":{\"units\":\"screen\",\"value\":3},\"x\":{\"value\":507056.97133221646},\"y\":{\"value\":6884155.623224539}},\"id\":\"7fbeff7a-e8bf-46da-bacf-061be7e4e722\",\"type\":\"Circle\"},{\"attributes\":{\"fill_alpha\":{\"value\":0.1},\"fill_color\":{\"value\":\"#1f77b4\"},\"line_alpha\":{\"value\":0.1},\"line_color\":{\"value\":\"#1f77b4\"},\"size\":{\"units\":\"screen\",\"value\":3},\"x\":{\"value\":458622.7637829544},\"y\":{\"value\":6796087.839630736}},\"id\":\"ecd77bbc-7195-4f2a-a5af-b393047b311f\",\"type\":\"Circle\"},{\"attributes\":{\"fill_alpha\":{\"value\":0.1},\"fill_color\":{\"value\":\"#1f77b4\"},\"line_alpha\":{\"value\":0.1},\"line_color\":{\"value\":\"#1f77b4\"},\"size\":{\"units\":\"screen\",\"value\":3},\"x\":{\"value\":527748.6851656423},\"y\":{\"value\":6976104.939976395}},\"id\":\"ed5ca250-5c05-43a1-b8ac-d6a52d0cbd27\",\"type\":\"Circle\"},{\"attributes\":{\"callback\":null},\"id\":\"dec16035-742e-40b7-9942-ea6fddd2f77a\",\"type\":\"ColumnDataSource\"},{\"attributes\":{\"callback\":null},\"id\":\"bc382e17-b969-4865-94ca-6ef0a8e81ade\",\"type\":\"ColumnDataSource\"},{\"attributes\":{\"callback\":null},\"id\":\"f72c4594-9a2e-4071-80dc-96c3fe3f159d\",\"type\":\"ColumnDataSource\"},{\"attributes\":{\"data_source\":{\"id\":\"6632dff7-9eb3-41bf-83ce-86f5c62094dc\",\"type\":\"ColumnDataSource\"},\"glyph\":{\"id\":\"fa0a2526-2ad3-4001-a131-45ebc94696d1\",\"type\":\"Circle\"},\"hover_glyph\":null,\"nonselection_glyph\":{\"id\":\"d535f9bf-a4d1-4c42-a056-0df39524d554\",\"type\":\"Circle\"},\"selection_glyph\":null},\"id\":\"176a307d-0b45-4831-8e72-9d94e138bd50\",\"type\":\"GlyphRenderer\"},{\"attributes\":{\"fill_color\":{\"value\":\"orange\"},\"line_color\":{\"value\":\"orange\"},\"size\":{\"units\":\"screen\",\"value\":10},\"x\":{\"field\":\"x_dino_webm\"},\"y\":{\"field\":\"y_dino_webm\"}},\"id\":\"ff645b67-daa1-42ef-be1c-9f4e1327b974\",\"type\":\"Circle\"},{\"attributes\":{\"fill_color\":{\"value\":\"black\"},\"size\":{\"units\":\"screen\",\"value\":3},\"x\":{\"value\":770646.7479205148},\"y\":{\"value\":7043970.737903579}},\"id\":\"9a16049e-fab5-4d1c-97a7-3f26ef3f98ca\",\"type\":\"Circle\"},{\"attributes\":{\"fill_alpha\":{\"value\":0.1},\"fill_color\":{\"value\":\"#1f77b4\"},\"line_alpha\":{\"value\":0.1},\"line_color\":{\"value\":\"#1f77b4\"},\"size\":{\"units\":\"screen\",\"value\":3},\"x\":{\"value\":771538.3052473721},\"y\":{\"value\":7043465.866114938}},\"id\":\"53fe71fa-5f49-4e99-8beb-570e11376733\",\"type\":\"Circle\"},{\"attributes\":{\"plot\":null,\"text\":\"\"},\"id\":\"4e1dfa48-2799-4cd6-a5b4-096fe70671d2\",\"type\":\"Title\"},{\"attributes\":{\"data_source\":{\"id\":\"4af0279b-ed9e-405a-b365-71635b42ec1b\",\"type\":\"ColumnDataSource\"},\"glyph\":{\"id\":\"08e11b01-80c9-419a-8061-c1d22a1951e4\",\"type\":\"Circle\"},\"hover_glyph\":null,\"nonselection_glyph\":{\"id\":\"31e91ade-3534-489d-a6a7-cee7c68f52ce\",\"type\":\"Circle\"},\"selection_glyph\":null},\"id\":\"69e79966-6e92-4305-89b6-92c65525fe23\",\"type\":\"GlyphRenderer\"},{\"attributes\":{\"data_source\":{\"id\":\"ed64b048-c208-40c2-8f1f-919d1ee72907\",\"type\":\"ColumnDataSource\"},\"glyph\":{\"id\":\"a98290c7-9e30-4a3f-9e9c-fb802ddb8159\",\"type\":\"Circle\"},\"hover_glyph\":null,\"nonselection_glyph\":{\"id\":\"24912e8c-0343-4612-a563-b4396a13cfbe\",\"type\":\"Circle\"},\"selection_glyph\":null},\"id\":\"8e9dc00f-e828-4384-afa0-a735f427dd7a\",\"type\":\"GlyphRenderer\"},{\"attributes\":{\"callback\":null},\"id\":\"9cb9e865-4488-4db9-b0c3-a9f4ed125af6\",\"type\":\"ColumnDataSource\"},{\"attributes\":{\"callback\":null},\"id\":\"ed64b048-c208-40c2-8f1f-919d1ee72907\",\"type\":\"ColumnDataSource\"},{\"attributes\":{\"label\":{\"value\":\"nap point near tide gauge\"},\"renderers\":[{\"id\":\"e7967c4a-5c07-4acd-a345-eab78ad41746\",\"type\":\"GlyphRenderer\"},{\"id\":\"176a307d-0b45-4831-8e72-9d94e138bd50\",\"type\":\"GlyphRenderer\"},{\"id\":\"b7f2c15b-b432-44b5-a6f6-b7a88a186847\",\"type\":\"GlyphRenderer\"},{\"id\":\"cf8a1c85-903e-49a2-b09b-464ebc3a0231\",\"type\":\"GlyphRenderer\"},{\"id\":\"684fa498-7062-4cbb-bb6c-e6c30ffba146\",\"type\":\"GlyphRenderer\"},{\"id\":\"ca6a2bd3-dee4-4138-8099-07c92e8b84cc\",\"type\":\"GlyphRenderer\"},{\"id\":\"9ade67a0-85c4-4972-a137-b2737fdd5adc\",\"type\":\"GlyphRenderer\"},{\"id\":\"71bc4a0d-80cc-4be3-bed0-0ee3c338ad9d\",\"type\":\"GlyphRenderer\"},{\"id\":\"98a72615-d834-4e17-9aa2-8dd3d138a9d4\",\"type\":\"GlyphRenderer\"},{\"id\":\"c9c48a05-fe1f-4870-a1d8-f5bda968ca15\",\"type\":\"GlyphRenderer\"},{\"id\":\"ef8f7167-fced-4e9e-a49a-8dd41e2f0f20\",\"type\":\"GlyphRenderer\"},{\"id\":\"5f894138-2750-4303-a60e-74dc80d0c5e5\",\"type\":\"GlyphRenderer\"},{\"id\":\"5ffea790-43c9-4e4d-bbc0-fdcb95036ed5\",\"type\":\"GlyphRenderer\"},{\"id\":\"77259331-df4e-4b65-8ae9-1a1b96f498e4\",\"type\":\"GlyphRenderer\"},{\"id\":\"0f2f863b-5db9-4862-9e49-ec8f5448041e\",\"type\":\"GlyphRenderer\"},{\"id\":\"c9daddae-94c9-4ae2-8969-ab3331987602\",\"type\":\"GlyphRenderer\"},{\"id\":\"6b252e47-9a4f-4121-a1cb-9cfec6d3c6b9\",\"type\":\"GlyphRenderer\"},{\"id\":\"118676c9-908c-4781-88ad-5d2978456134\",\"type\":\"GlyphRenderer\"},{\"id\":\"72b3d628-04a8-4f1b-aaf3-efe8dbf7308c\",\"type\":\"GlyphRenderer\"},{\"id\":\"0a4f8cc0-5e1b-40c5-8bca-dfaec1ceb3b4\",\"type\":\"GlyphRenderer\"},{\"id\":\"c635e000-9af9-4402-a5d6-1bb810e8c7ea\",\"type\":\"GlyphRenderer\"},{\"id\":\"626c55fe-b8c9-4033-be79-00a54dbcef96\",\"type\":\"GlyphRenderer\"},{\"id\":\"d4be88f8-c062-406a-b9c2-ef42fdda22d6\",\"type\":\"GlyphRenderer\"},{\"id\":\"6d15b9a0-5ee6-4e24-b7a4-7b475da31e12\",\"type\":\"GlyphRenderer\"},{\"id\":\"69e79966-6e92-4305-89b6-92c65525fe23\",\"type\":\"GlyphRenderer\"},{\"id\":\"20086e50-2e8e-4054-864c-3abf774fc843\",\"type\":\"GlyphRenderer\"},{\"id\":\"95929186-4822-49fe-826a-d8d6789fa633\",\"type\":\"GlyphRenderer\"},{\"id\":\"8e9dc00f-e828-4384-afa0-a735f427dd7a\",\"type\":\"GlyphRenderer\"},{\"id\":\"097a5ad3-c564-4333-94ad-c4ee4e42a040\",\"type\":\"GlyphRenderer\"},{\"id\":\"3286d1b5-2376-4d8f-a676-f6e41aae1190\",\"type\":\"GlyphRenderer\"}]},\"id\":\"d9a8e499-923e-46e7-95c7-7f62c27359c8\",\"type\":\"LegendItem\"},{\"attributes\":{\"data_source\":{\"id\":\"77971a08-a97a-4a25-9520-09fb0b71b4c7\",\"type\":\"ColumnDataSource\"},\"glyph\":{\"id\":\"f2f7c3a9-cc41-455d-84a0-5d7e3ff1a5d9\",\"type\":\"Circle\"},\"hover_glyph\":null,\"nonselection_glyph\":{\"id\":\"d7748023-949f-476a-b3ff-1aa63acbaffc\",\"type\":\"Circle\"},\"selection_glyph\":null},\"id\":\"77259331-df4e-4b65-8ae9-1a1b96f498e4\",\"type\":\"GlyphRenderer\"},{\"attributes\":{\"data_source\":{\"id\":\"dec16035-742e-40b7-9942-ea6fddd2f77a\",\"type\":\"ColumnDataSource\"},\"glyph\":{\"id\":\"9a16049e-fab5-4d1c-97a7-3f26ef3f98ca\",\"type\":\"Circle\"},\"hover_glyph\":null,\"nonselection_glyph\":{\"id\":\"c17a56ef-8a65-4b1a-8f1e-1aaea6db088c\",\"type\":\"Circle\"},\"selection_glyph\":null},\"id\":\"684fa498-7062-4cbb-bb6c-e6c30ffba146\",\"type\":\"GlyphRenderer\"},{\"attributes\":{\"fill_alpha\":{\"value\":0.1},\"fill_color\":{\"value\":\"#1f77b4\"},\"line_alpha\":{\"value\":0.1},\"line_color\":{\"value\":\"#1f77b4\"},\"size\":{\"units\":\"screen\",\"value\":3},\"x\":{\"value\":506949.657312778},\"y\":{\"value\":6884942.644030259}},\"id\":\"31e91ade-3534-489d-a6a7-cee7c68f52ce\",\"type\":\"Circle\"},{\"attributes\":{\"fill_alpha\":{\"value\":0.1},\"fill_color\":{\"value\":\"#1f77b4\"},\"line_alpha\":{\"value\":0.1},\"line_color\":{\"value\":\"#1f77b4\"},\"size\":{\"units\":\"screen\",\"value\":3},\"x\":{\"value\":771359.7163334454},\"y\":{\"value\":7044491.4904019}},\"id\":\"fbde1579-8630-4d00-9191-b989275d547d\",\"type\":\"Circle\"},{\"attributes\":{\"data_source\":{\"id\":\"9cb9e865-4488-4db9-b0c3-a9f4ed125af6\",\"type\":\"ColumnDataSource\"},\"glyph\":{\"id\":\"0c9a3815-bc9d-48dc-8882-c6233cb9104b\",\"type\":\"Circle\"},\"hover_glyph\":null,\"nonselection_glyph\":{\"id\":\"fbde1579-8630-4d00-9191-b989275d547d\",\"type\":\"Circle\"},\"selection_glyph\":null},\"id\":\"cf8a1c85-903e-49a2-b09b-464ebc3a0231\",\"type\":\"GlyphRenderer\"},{\"attributes\":{\"fill_alpha\":{\"value\":0.1},\"fill_color\":{\"value\":\"#1f77b4\"},\"line_alpha\":{\"value\":0.1},\"line_color\":{\"value\":\"#1f77b4\"},\"size\":{\"units\":\"screen\",\"value\":3},\"x\":{\"value\":771358.7626713963},\"y\":{\"value\":7042883.512182452}},\"id\":\"38472f57-1201-41b3-ad2f-dabc544e04f6\",\"type\":\"Circle\"},{\"attributes\":{\"callback\":null},\"id\":\"48f729f9-c64a-4ea3-b95c-37b3f73e5cdd\",\"type\":\"ColumnDataSource\"},{\"attributes\":{\"data_source\":{\"id\":\"ee2d8a09-b538-4d15-9f75-cceba7e783c4\",\"type\":\"ColumnDataSource\"},\"glyph\":{\"id\":\"ff645b67-daa1-42ef-be1c-9f4e1327b974\",\"type\":\"Circle\"},\"hover_glyph\":null,\"nonselection_glyph\":{\"id\":\"41114a6f-ef53-445b-b703-273d9b4de115\",\"type\":\"Circle\"},\"selection_glyph\":null},\"id\":\"d24f16b3-4fb8-4cc5-a23d-ee5d728feb70\",\"type\":\"GlyphRenderer\"},{\"attributes\":{\"data_source\":{\"id\":\"60b9ced7-4f93-4e8f-bd34-b2bdc460b5a6\",\"type\":\"ColumnDataSource\"},\"glyph\":{\"id\":\"370d39dd-4edb-4319-a2dc-7a389c92c7bc\",\"type\":\"Circle\"},\"hover_glyph\":null,\"nonselection_glyph\":{\"id\":\"1e7e802e-8552-45c0-b8e0-8ca682c7b143\",\"type\":\"Circle\"},\"selection_glyph\":null},\"id\":\"859cadff-e6a7-4694-8fdf-015e016b7da3\",\"type\":\"GlyphRenderer\"},{\"attributes\":{\"plot\":{\"id\":\"2a00d3d4-2855-4ad6-8797-937fdf22d5f7\",\"subtype\":\"Figure\",\"type\":\"Plot\"},\"ticker\":{\"id\":\"8302a95b-b0f4-4e0e-a5ba-3ad1b064e2fc\",\"type\":\"BasicTicker\"}},\"id\":\"f8d2fec0-57d7-43b0-bcfe-7dcd9f8cfe7f\",\"type\":\"Grid\"},{\"attributes\":{\"callback\":null},\"id\":\"4ce8094f-13a6-4987-856c-29e54148084e\",\"type\":\"ColumnDataSource\"},{\"attributes\":{\"fill_alpha\":{\"value\":0.1},\"fill_color\":{\"value\":\"#1f77b4\"},\"line_alpha\":{\"value\":0.1},\"line_color\":{\"value\":\"#1f77b4\"},\"size\":{\"units\":\"screen\",\"value\":3},\"x\":{\"value\":770646.7479205148},\"y\":{\"value\":7043970.737903579}},\"id\":\"c17a56ef-8a65-4b1a-8f1e-1aaea6db088c\",\"type\":\"Circle\"},{\"attributes\":{\"fill_color\":{\"value\":\"#1f77b4\"},\"line_color\":{\"value\":\"#1f77b4\"},\"size\":{\"units\":\"screen\",\"value\":20},\"x\":{\"field\":\"x_webm\"},\"y\":{\"field\":\"y_webm\"}},\"id\":\"370d39dd-4edb-4319-a2dc-7a389c92c7bc\",\"type\":\"Circle\"},{\"attributes\":{\"fill_alpha\":{\"value\":0.1},\"fill_color\":{\"value\":\"#1f77b4\"},\"line_alpha\":{\"value\":0.1},\"line_color\":{\"value\":\"#1f77b4\"},\"size\":{\"units\":\"screen\",\"value\":3},\"x\":{\"value\":507357.03047391056},\"y\":{\"value\":6883699.29282863}},\"id\":\"b1b9841d-4ca1-4827-91b3-f028277aa987\",\"type\":\"Circle\"},{\"attributes\":{\"fill_color\":{\"value\":\"black\"},\"size\":{\"units\":\"screen\",\"value\":3},\"x\":{\"value\":603230.499047022},\"y\":{\"value\":7015084.103689497}},\"id\":\"9cd07085-01c7-4aff-8200-f783d4e661bd\",\"type\":\"Circle\"},{\"attributes\":{\"data_source\":{\"id\":\"24160200-665e-4466-85b6-2b7cf0521564\",\"type\":\"ColumnDataSource\"},\"glyph\":{\"id\":\"51f97d88-e359-4515-94ee-b09a1ebe0291\",\"type\":\"Circle\"},\"hover_glyph\":null,\"nonselection_glyph\":{\"id\":\"38472f57-1201-41b3-ad2f-dabc544e04f6\",\"type\":\"Circle\"},\"selection_glyph\":null},\"id\":\"b7f2c15b-b432-44b5-a6f6-b7a88a186847\",\"type\":\"GlyphRenderer\"},{\"attributes\":{\"fill_color\":{\"value\":\"black\"},\"size\":{\"units\":\"screen\",\"value\":3},\"x\":{\"value\":400435.32265805424},\"y\":{\"value\":6700073.14010689}},\"id\":\"50b358a3-cf0b-4bab-bb95-fdb3d56cdfaa\",\"type\":\"Circle\"},{\"attributes\":{\"attribution\":\"&copy; <a href=\\\"http://www.openstreetmap.org/copyright\\\">OpenStreetMap</a> contributors,&copy; <a href=\\\"https://cartodb.com/attributions\\\">CartoDB</a>\",\"url\":\"http://tiles.basemaps.cartocdn.com/light_all/{z}/{x}/{y}.png\"},\"id\":\"ec8003dd-36e2-4722-83d5-9ea50dd2a479\",\"type\":\"WMTSTileSource\"},{\"attributes\":{},\"id\":\"493157c0-767b-4ffd-b648-86580bc76527\",\"type\":\"BasicTicker\"},{\"attributes\":{\"fill_alpha\":{\"value\":0.1},\"fill_color\":{\"value\":\"#1f77b4\"},\"line_alpha\":{\"value\":0.1},\"line_color\":{\"value\":\"#1f77b4\"},\"size\":{\"units\":\"screen\",\"value\":10},\"x\":{\"field\":\"x_dino_webm\"},\"y\":{\"field\":\"y_dino_webm\"}},\"id\":\"41114a6f-ef53-445b-b703-273d9b4de115\",\"type\":\"Circle\"},{\"attributes\":{\"below\":[{\"id\":\"6c4d622a-47f6-42d1-b61f-cf2259551b54\",\"type\":\"LinearAxis\"}],\"left\":[{\"id\":\"3e303660-8099-46b5-bf33-f5e35ccf6e11\",\"type\":\"LinearAxis\"}],\"renderers\":[{\"id\":\"6c4d622a-47f6-42d1-b61f-cf2259551b54\",\"type\":\"LinearAxis\"},{\"id\":\"f8d2fec0-57d7-43b0-bcfe-7dcd9f8cfe7f\",\"type\":\"Grid\"},{\"id\":\"3e303660-8099-46b5-bf33-f5e35ccf6e11\",\"type\":\"LinearAxis\"},{\"id\":\"e0c0f970-9a57-485e-8395-2a6be69e4b25\",\"type\":\"Grid\"},{\"id\":\"08574ca1-f9cd-46f4-bd11-68f4b0fbf7f7\",\"type\":\"BoxAnnotation\"},{\"id\":\"93a7d2f9-ea6f-4562-bdc1-d369dbd395c1\",\"type\":\"TileRenderer\"},{\"id\":\"34d1255c-439b-4198-9c10-c0dbfe56b88e\",\"type\":\"Legend\"},{\"id\":\"859cadff-e6a7-4694-8fdf-015e016b7da3\",\"type\":\"GlyphRenderer\"},{\"id\":\"d24f16b3-4fb8-4cc5-a23d-ee5d728feb70\",\"type\":\"GlyphRenderer\"},{\"id\":\"e7967c4a-5c07-4acd-a345-eab78ad41746\",\"type\":\"GlyphRenderer\"},{\"id\":\"176a307d-0b45-4831-8e72-9d94e138bd50\",\"type\":\"GlyphRenderer\"},{\"id\":\"b7f2c15b-b432-44b5-a6f6-b7a88a186847\",\"type\":\"GlyphRenderer\"},{\"id\":\"cf8a1c85-903e-49a2-b09b-464ebc3a0231\",\"type\":\"GlyphRenderer\"},{\"id\":\"684fa498-7062-4cbb-bb6c-e6c30ffba146\",\"type\":\"GlyphRenderer\"},{\"id\":\"ca6a2bd3-dee4-4138-8099-07c92e8b84cc\",\"type\":\"GlyphRenderer\"},{\"id\":\"9ade67a0-85c4-4972-a137-b2737fdd5adc\",\"type\":\"GlyphRenderer\"},{\"id\":\"71bc4a0d-80cc-4be3-bed0-0ee3c338ad9d\",\"type\":\"GlyphRenderer\"},{\"id\":\"98a72615-d834-4e17-9aa2-8dd3d138a9d4\",\"type\":\"GlyphRenderer\"},{\"id\":\"c9c48a05-fe1f-4870-a1d8-f5bda968ca15\",\"type\":\"GlyphRenderer\"},{\"id\":\"ef8f7167-fced-4e9e-a49a-8dd41e2f0f20\",\"type\":\"GlyphRenderer\"},{\"id\":\"5f894138-2750-4303-a60e-74dc80d0c5e5\",\"type\":\"GlyphRenderer\"},{\"id\":\"5ffea790-43c9-4e4d-bbc0-fdcb95036ed5\",\"type\":\"GlyphRenderer\"},{\"id\":\"77259331-df4e-4b65-8ae9-1a1b96f498e4\",\"type\":\"GlyphRenderer\"},{\"id\":\"0f2f863b-5db9-4862-9e49-ec8f5448041e\",\"type\":\"GlyphRenderer\"},{\"id\":\"c9daddae-94c9-4ae2-8969-ab3331987602\",\"type\":\"GlyphRenderer\"},{\"id\":\"6b252e47-9a4f-4121-a1cb-9cfec6d3c6b9\",\"type\":\"GlyphRenderer\"},{\"id\":\"118676c9-908c-4781-88ad-5d2978456134\",\"type\":\"GlyphRenderer\"},{\"id\":\"72b3d628-04a8-4f1b-aaf3-efe8dbf7308c\",\"type\":\"GlyphRenderer\"},{\"id\":\"0a4f8cc0-5e1b-40c5-8bca-dfaec1ceb3b4\",\"type\":\"GlyphRenderer\"},{\"id\":\"c635e000-9af9-4402-a5d6-1bb810e8c7ea\",\"type\":\"GlyphRenderer\"},{\"id\":\"626c55fe-b8c9-4033-be79-00a54dbcef96\",\"type\":\"GlyphRenderer\"},{\"id\":\"d4be88f8-c062-406a-b9c2-ef42fdda22d6\",\"type\":\"GlyphRenderer\"},{\"id\":\"6d15b9a0-5ee6-4e24-b7a4-7b475da31e12\",\"type\":\"GlyphRenderer\"},{\"id\":\"69e79966-6e92-4305-89b6-92c65525fe23\",\"type\":\"GlyphRenderer\"},{\"id\":\"20086e50-2e8e-4054-864c-3abf774fc843\",\"type\":\"GlyphRenderer\"},{\"id\":\"95929186-4822-49fe-826a-d8d6789fa633\",\"type\":\"GlyphRenderer\"},{\"id\":\"8e9dc00f-e828-4384-afa0-a735f427dd7a\",\"type\":\"GlyphRenderer\"},{\"id\":\"097a5ad3-c564-4333-94ad-c4ee4e42a040\",\"type\":\"GlyphRenderer\"},{\"id\":\"3286d1b5-2376-4d8f-a676-f6e41aae1190\",\"type\":\"GlyphRenderer\"}],\"title\":{\"id\":\"4e1dfa48-2799-4cd6-a5b4-096fe70671d2\",\"type\":\"Title\"},\"tool_events\":{\"id\":\"6ee1443f-145f-4eb6-a692-5f8b6cb09b63\",\"type\":\"ToolEvents\"},\"toolbar\":{\"id\":\"76d040ca-c447-4859-9430-4c191e1f121e\",\"type\":\"Toolbar\"},\"x_range\":{\"id\":\"29b22d31-fa68-4376-bc37-8066841c409f\",\"type\":\"Range1d\"},\"y_range\":{\"id\":\"b708ec36-0099-4d8c-958f-8a32a955f9f8\",\"type\":\"Range1d\"}},\"id\":\"2a00d3d4-2855-4ad6-8797-937fdf22d5f7\",\"subtype\":\"Figure\",\"type\":\"Plot\"},{\"attributes\":{\"fill_color\":{\"value\":\"black\"},\"size\":{\"units\":\"screen\",\"value\":3},\"x\":{\"value\":458849.268157545},\"y\":{\"value\":6796108.043510762}},\"id\":\"d072876a-e69f-457f-850e-2264101c120d\",\"type\":\"Circle\"},{\"attributes\":{\"fill_color\":{\"value\":\"black\"},\"size\":{\"units\":\"screen\",\"value\":3},\"x\":{\"value\":458622.7637829544},\"y\":{\"value\":6796087.839630736}},\"id\":\"9228dadc-d215-420c-90b4-3eae212c0e4c\",\"type\":\"Circle\"},{\"attributes\":{\"fill_color\":{\"value\":\"black\"},\"size\":{\"units\":\"screen\",\"value\":3},\"x\":{\"value\":401692.35047797323},\"y\":{\"value\":6699750.741417443}},\"id\":\"6d6a1c0c-7e36-4880-ab11-6e341d645457\",\"type\":\"Circle\"},{\"attributes\":{\"overlay\":{\"id\":\"08574ca1-f9cd-46f4-bd11-68f4b0fbf7f7\",\"type\":\"BoxAnnotation\"},\"plot\":{\"id\":\"2a00d3d4-2855-4ad6-8797-937fdf22d5f7\",\"subtype\":\"Figure\",\"type\":\"Plot\"}},\"id\":\"15cd6256-efda-4150-8bb8-92023f0d4485\",\"type\":\"BoxZoomTool\"},{\"attributes\":{\"fill_color\":{\"value\":\"black\"},\"size\":{\"units\":\"screen\",\"value\":3},\"x\":{\"value\":400175.29921489523},\"y\":{\"value\":6700227.306704522}},\"id\":\"a98290c7-9e30-4a3f-9e9c-fb802ddb8159\",\"type\":\"Circle\"},{\"attributes\":{\"data_source\":{\"id\":\"5ff5b43a-6ff2-4f1e-81f2-aaf5a6d6f496\",\"type\":\"ColumnDataSource\"},\"glyph\":{\"id\":\"165f8d62-909d-4c1e-b547-1fc0776e5ea1\",\"type\":\"Circle\"},\"hover_glyph\":null,\"nonselection_glyph\":{\"id\":\"a5cb769b-8669-4b60-9d9f-f51a6a51932b\",\"type\":\"Circle\"},\"selection_glyph\":null},\"id\":\"ca6a2bd3-dee4-4138-8099-07c92e8b84cc\",\"type\":\"GlyphRenderer\"},{\"attributes\":{\"bottom_units\":\"screen\",\"fill_alpha\":{\"value\":0.5},\"fill_color\":{\"value\":\"lightgrey\"},\"left_units\":\"screen\",\"level\":\"overlay\",\"line_alpha\":{\"value\":1.0},\"line_color\":{\"value\":\"black\"},\"line_dash\":[4,4],\"line_width\":{\"value\":2},\"plot\":null,\"render_mode\":\"css\",\"right_units\":\"screen\",\"top_units\":\"screen\"},\"id\":\"08574ca1-f9cd-46f4-bd11-68f4b0fbf7f7\",\"type\":\"BoxAnnotation\"},{\"attributes\":{\"formatter\":{\"id\":\"4687d3a1-a79f-4c0c-86a5-5e35b3cbc4b2\",\"type\":\"BasicTickFormatter\"},\"plot\":{\"id\":\"2a00d3d4-2855-4ad6-8797-937fdf22d5f7\",\"subtype\":\"Figure\",\"type\":\"Plot\"},\"ticker\":{\"id\":\"8302a95b-b0f4-4e0e-a5ba-3ad1b064e2fc\",\"type\":\"BasicTicker\"},\"visible\":false},\"id\":\"6c4d622a-47f6-42d1-b61f-cf2259551b54\",\"type\":\"LinearAxis\"},{\"attributes\":{\"fill_color\":{\"value\":\"black\"},\"size\":{\"units\":\"screen\",\"value\":3},\"x\":{\"value\":602398.2757877491},\"y\":{\"value\":7015568.397248678}},\"id\":\"2d0fdaa3-a376-4e9c-b6ed-cfc744b7b356\",\"type\":\"Circle\"},{\"attributes\":{\"callback\":null},\"id\":\"12a17342-4f1a-487c-adf8-1770af7b85c9\",\"type\":\"ColumnDataSource\"},{\"attributes\":{\"data_source\":{\"id\":\"48f729f9-c64a-4ea3-b95c-37b3f73e5cdd\",\"type\":\"ColumnDataSource\"},\"glyph\":{\"id\":\"7fbeff7a-e8bf-46da-bacf-061be7e4e722\",\"type\":\"Circle\"},\"hover_glyph\":null,\"nonselection_glyph\":{\"id\":\"b8b33bff-db79-41f7-95f9-687292701fcf\",\"type\":\"Circle\"},\"selection_glyph\":null},\"id\":\"c635e000-9af9-4402-a5d6-1bb810e8c7ea\",\"type\":\"GlyphRenderer\"},{\"attributes\":{\"fill_alpha\":{\"value\":0.1},\"fill_color\":{\"value\":\"#1f77b4\"},\"line_alpha\":{\"value\":0.1},\"line_color\":{\"value\":\"#1f77b4\"},\"size\":{\"units\":\"screen\",\"value\":3},\"x\":{\"value\":771008.4937445119},\"y\":{\"value\":7043694.987429091}},\"id\":\"d535f9bf-a4d1-4c42-a056-0df39524d554\",\"type\":\"Circle\"},{\"attributes\":{\"callback\":null},\"id\":\"194c3c2a-0828-4fcf-9d06-446ecccdf186\",\"type\":\"ColumnDataSource\"},{\"attributes\":{\"fill_alpha\":{\"value\":0.1},\"fill_color\":{\"value\":\"#1f77b4\"},\"line_alpha\":{\"value\":0.1},\"line_color\":{\"value\":\"#1f77b4\"},\"size\":{\"units\":\"screen\",\"value\":3},\"x\":{\"value\":507056.97133221646},\"y\":{\"value\":6884155.623224539}},\"id\":\"b8b33bff-db79-41f7-95f9-687292701fcf\",\"type\":\"Circle\"},{\"attributes\":{\"callback\":null},\"id\":\"1d40c509-a456-47f7-84ad-cb619a43d61c\",\"type\":\"ColumnDataSource\"},{\"attributes\":{\"data_source\":{\"id\":\"4ce8094f-13a6-4987-856c-29e54148084e\",\"type\":\"ColumnDataSource\"},\"glyph\":{\"id\":\"c30bc8df-8c68-4f48-8288-c9aa063bacb6\",\"type\":\"Circle\"},\"hover_glyph\":null,\"nonselection_glyph\":{\"id\":\"4482f840-91c3-4455-88a3-a72513af6829\",\"type\":\"Circle\"},\"selection_glyph\":null},\"id\":\"ef8f7167-fced-4e9e-a49a-8dd41e2f0f20\",\"type\":\"GlyphRenderer\"},{\"attributes\":{\"fill_alpha\":{\"value\":0.1},\"fill_color\":{\"value\":\"#1f77b4\"},\"line_alpha\":{\"value\":0.1},\"line_color\":{\"value\":\"#1f77b4\"},\"size\":{\"units\":\"screen\",\"value\":3},\"x\":{\"value\":401003.68428550067},\"y\":{\"value\":6700408.261631109}},\"id\":\"3c8b1bf2-4258-4761-ada4-fb204618efb6\",\"type\":\"Circle\"},{\"attributes\":{\"fill_alpha\":{\"value\":0.1},\"fill_color\":{\"value\":\"#1f77b4\"},\"line_alpha\":{\"value\":0.1},\"line_color\":{\"value\":\"#1f77b4\"},\"size\":{\"units\":\"screen\",\"value\":3},\"x\":{\"value\":528112.408693276},\"y\":{\"value\":6976191.238686733}},\"id\":\"26f9aec5-71c3-4211-b984-6122aeab8d81\",\"type\":\"Circle\"},{\"attributes\":{\"fill_color\":{\"value\":\"black\"},\"size\":{\"units\":\"screen\",\"value\":3},\"x\":{\"value\":507357.03047391056},\"y\":{\"value\":6883699.29282863}},\"id\":\"95d34337-d3f6-4a72-8f19-1e3a66527b98\",\"type\":\"Circle\"},{\"attributes\":{\"fill_alpha\":{\"value\":0.1},\"fill_color\":{\"value\":\"#1f77b4\"},\"line_alpha\":{\"value\":0.1},\"line_color\":{\"value\":\"#1f77b4\"},\"size\":{\"units\":\"screen\",\"value\":3},\"x\":{\"value\":507189.1238976399},\"y\":{\"value\":6884058.617836281}},\"id\":\"8761673d-c511-4892-b879-9342c5f073ed\",\"type\":\"Circle\"},{\"attributes\":{\"callback\":null},\"id\":\"40c4fe9e-3e84-4dad-897b-04c24350cf87\",\"type\":\"ColumnDataSource\"},{\"attributes\":{\"fill_alpha\":{\"value\":0.1},\"fill_color\":{\"value\":\"#1f77b4\"},\"line_alpha\":{\"value\":0.1},\"line_color\":{\"value\":\"#1f77b4\"},\"size\":{\"units\":\"screen\",\"value\":3},\"x\":{\"value\":457917.9702354531},\"y\":{\"value\":6796546.611528455}},\"id\":\"277e1ba1-674f-4ba2-9c83-202d5fa1c9fc\",\"type\":\"Circle\"},{\"attributes\":{\"data_source\":{\"id\":\"f72c4594-9a2e-4071-80dc-96c3fe3f159d\",\"type\":\"ColumnDataSource\"},\"glyph\":{\"id\":\"1238b7b6-03cb-4718-9e57-440e6d58302f\",\"type\":\"Circle\"},\"hover_glyph\":null,\"nonselection_glyph\":{\"id\":\"ed5ca250-5c05-43a1-b8ac-d6a52d0cbd27\",\"type\":\"Circle\"},\"selection_glyph\":null},\"id\":\"98a72615-d834-4e17-9aa2-8dd3d138a9d4\",\"type\":\"GlyphRenderer\"},{\"attributes\":{\"fill_color\":{\"value\":\"black\"},\"size\":{\"units\":\"screen\",\"value\":3},\"x\":{\"value\":529157.5612274539},\"y\":{\"value\":6976034.422871164}},\"id\":\"8d89232b-f97a-4051-8d6b-1dcd3c0d4689\",\"type\":\"Circle\"},{\"attributes\":{\"dimension\":1,\"plot\":{\"id\":\"2a00d3d4-2855-4ad6-8797-937fdf22d5f7\",\"subtype\":\"Figure\",\"type\":\"Plot\"},\"ticker\":{\"id\":\"493157c0-767b-4ffd-b648-86580bc76527\",\"type\":\"BasicTicker\"}},\"id\":\"e0c0f970-9a57-485e-8395-2a6be69e4b25\",\"type\":\"Grid\"},{\"attributes\":{\"data_source\":{\"id\":\"bc382e17-b969-4865-94ca-6ef0a8e81ade\",\"type\":\"ColumnDataSource\"},\"glyph\":{\"id\":\"95d34337-d3f6-4a72-8f19-1e3a66527b98\",\"type\":\"Circle\"},\"hover_glyph\":null,\"nonselection_glyph\":{\"id\":\"b1b9841d-4ca1-4827-91b3-f028277aa987\",\"type\":\"Circle\"},\"selection_glyph\":null},\"id\":\"6d15b9a0-5ee6-4e24-b7a4-7b475da31e12\",\"type\":\"GlyphRenderer\"},{\"attributes\":{\"fill_alpha\":{\"value\":0.1},\"fill_color\":{\"value\":\"#1f77b4\"},\"line_alpha\":{\"value\":0.1},\"line_color\":{\"value\":\"#1f77b4\"},\"size\":{\"units\":\"screen\",\"value\":3},\"x\":{\"value\":400175.29921489523},\"y\":{\"value\":6700227.306704522}},\"id\":\"24912e8c-0343-4612-a563-b4396a13cfbe\",\"type\":\"Circle\"},{\"attributes\":{\"callback\":null},\"id\":\"982fea64-89f4-4dc2-b15c-b1bcfcab5f70\",\"type\":\"ColumnDataSource\"},{\"attributes\":{\"fill_color\":{\"value\":\"black\"},\"size\":{\"units\":\"screen\",\"value\":3},\"x\":{\"value\":507189.31185160915},\"y\":{\"value\":6884042.198969935}},\"id\":\"ad3ac966-91d5-416b-a6fb-dd44b1eb31f7\",\"type\":\"Circle\"},{\"attributes\":{\"callback\":null},\"id\":\"4f5b0fbd-fc16-4432-b474-926e8e964875\",\"type\":\"ColumnDataSource\"},{\"attributes\":{\"callback\":null,\"end\":7000000,\"start\":6800000},\"id\":\"b708ec36-0099-4d8c-958f-8a32a955f9f8\",\"type\":\"Range1d\"},{\"attributes\":{\"fill_alpha\":{\"value\":0.1},\"fill_color\":{\"value\":\"#1f77b4\"},\"line_alpha\":{\"value\":0.1},\"line_color\":{\"value\":\"#1f77b4\"},\"size\":{\"units\":\"screen\",\"value\":3},\"x\":{\"value\":602780.8816307263},\"y\":{\"value\":7014750.536365798}},\"id\":\"d7748023-949f-476a-b3ff-1aa63acbaffc\",\"type\":\"Circle\"},{\"attributes\":{\"fill_color\":{\"value\":\"black\"},\"size\":{\"units\":\"screen\",\"value\":3},\"x\":{\"value\":506949.657312778},\"y\":{\"value\":6884942.644030259}},\"id\":\"08e11b01-80c9-419a-8061-c1d22a1951e4\",\"type\":\"Circle\"},{\"attributes\":{\"fill_alpha\":{\"value\":0.1},\"fill_color\":{\"value\":\"#1f77b4\"},\"line_alpha\":{\"value\":0.1},\"line_color\":{\"value\":\"#1f77b4\"},\"size\":{\"units\":\"screen\",\"value\":3},\"x\":{\"value\":400452.9001385486},\"y\":{\"value\":6700009.3446968235}},\"id\":\"c3235653-bd3b-45d8-b4ef-352d4ea6fdbc\",\"type\":\"Circle\"},{\"attributes\":{},\"id\":\"8302a95b-b0f4-4e0e-a5ba-3ad1b064e2fc\",\"type\":\"BasicTicker\"},{\"attributes\":{\"callback\":null},\"id\":\"6632dff7-9eb3-41bf-83ce-86f5c62094dc\",\"type\":\"ColumnDataSource\"},{\"attributes\":{\"data_source\":{\"id\":\"4f5b0fbd-fc16-4432-b474-926e8e964875\",\"type\":\"ColumnDataSource\"},\"glyph\":{\"id\":\"50b358a3-cf0b-4bab-bb95-fdb3d56cdfaa\",\"type\":\"Circle\"},\"hover_glyph\":null,\"nonselection_glyph\":{\"id\":\"72579be0-81fa-4fb8-9378-36b669b3cd86\",\"type\":\"Circle\"},\"selection_glyph\":null},\"id\":\"95929186-4822-49fe-826a-d8d6789fa633\",\"type\":\"GlyphRenderer\"},{\"attributes\":{\"data_source\":{\"id\":\"1d40c509-a456-47f7-84ad-cb619a43d61c\",\"type\":\"ColumnDataSource\"},\"glyph\":{\"id\":\"ac5bd790-ce84-4fbe-96b4-7a6a0e9f2fcc\",\"type\":\"Circle\"},\"hover_glyph\":null,\"nonselection_glyph\":{\"id\":\"53fe71fa-5f49-4e99-8beb-570e11376733\",\"type\":\"Circle\"},\"selection_glyph\":null},\"id\":\"e7967c4a-5c07-4acd-a345-eab78ad41746\",\"type\":\"GlyphRenderer\"},{\"attributes\":{\"fill_color\":{\"value\":\"black\"},\"size\":{\"units\":\"screen\",\"value\":3},\"x\":{\"value\":459157.05089566717},\"y\":{\"value\":6796113.412234349}},\"id\":\"d6ecd714-fe60-433d-a7c2-8be2db95aea6\",\"type\":\"Circle\"},{\"attributes\":{\"callback\":null},\"id\":\"4af0279b-ed9e-405a-b365-71635b42ec1b\",\"type\":\"ColumnDataSource\"},{\"attributes\":{\"callback\":null,\"plot\":{\"id\":\"2a00d3d4-2855-4ad6-8797-937fdf22d5f7\",\"subtype\":\"Figure\",\"type\":\"Plot\"},\"renderers\":[{\"id\":\"859cadff-e6a7-4694-8fdf-015e016b7da3\",\"type\":\"GlyphRenderer\"}],\"tooltips\":[[\"name\",\"@Naam\"],[\"Lon, Lat\",\"(@lat, @lon)\"]]},\"id\":\"2220cb46-0847-4a40-b4fe-5caaa894617c\",\"type\":\"HoverTool\"},{\"attributes\":{\"callback\":null},\"id\":\"5ff5b43a-6ff2-4f1e-81f2-aaf5a6d6f496\",\"type\":\"ColumnDataSource\"},{\"attributes\":{\"data_source\":{\"id\":\"6ee634d2-64d9-465f-b325-cb3f366cbd99\",\"type\":\"ColumnDataSource\"},\"glyph\":{\"id\":\"ad3ac966-91d5-416b-a6fb-dd44b1eb31f7\",\"type\":\"Circle\"},\"hover_glyph\":null,\"nonselection_glyph\":{\"id\":\"d6f52752-023a-4ead-af02-f7f971b5f576\",\"type\":\"Circle\"},\"selection_glyph\":null},\"id\":\"d4be88f8-c062-406a-b9c2-ef42fdda22d6\",\"type\":\"GlyphRenderer\"},{\"attributes\":{\"fill_color\":{\"value\":\"black\"},\"size\":{\"units\":\"screen\",\"value\":3},\"x\":{\"value\":457917.9702354531},\"y\":{\"value\":6796546.611528455}},\"id\":\"693fca29-baa6-4405-923c-bf8e777bf857\",\"type\":\"Circle\"},{\"attributes\":{\"fill_color\":{\"value\":\"black\"},\"size\":{\"units\":\"screen\",\"value\":3},\"x\":{\"value\":458464.2409118938},\"y\":{\"value\":6796816.140865732}},\"id\":\"839cef3e-a5a3-407b-bf01-38c604ee0ea2\",\"type\":\"Circle\"},{\"attributes\":{\"data_source\":{\"id\":\"194c3c2a-0828-4fcf-9d06-446ecccdf186\",\"type\":\"ColumnDataSource\"},\"glyph\":{\"id\":\"041728d7-fdc3-4e25-b6f9-6eadf35df51c\",\"type\":\"Circle\"},\"hover_glyph\":null,\"nonselection_glyph\":{\"id\":\"c3235653-bd3b-45d8-b4ef-352d4ea6fdbc\",\"type\":\"Circle\"},\"selection_glyph\":null},\"id\":\"20086e50-2e8e-4054-864c-3abf774fc843\",\"type\":\"GlyphRenderer\"},{\"attributes\":{\"callback\":null},\"id\":\"34c53267-d12c-4620-bcd8-5f4c674b6acf\",\"type\":\"ColumnDataSource\"},{\"attributes\":{\"items\":[{\"id\":\"befbe8cb-3a25-4ad8-81ca-a19cc3cc2eab\",\"type\":\"LegendItem\"},{\"id\":\"884aa2eb-26f8-4ff4-a6e8-de7628b0e21c\",\"type\":\"LegendItem\"},{\"id\":\"d9a8e499-923e-46e7-95c7-7f62c27359c8\",\"type\":\"LegendItem\"}],\"plot\":{\"id\":\"2a00d3d4-2855-4ad6-8797-937fdf22d5f7\",\"subtype\":\"Figure\",\"type\":\"Plot\"}},\"id\":\"34d1255c-439b-4198-9c10-c0dbfe56b88e\",\"type\":\"Legend\"},{\"attributes\":{\"data_source\":{\"id\":\"b3f8a585-5cc9-41bc-9493-c03c08c8cabb\",\"type\":\"ColumnDataSource\"},\"glyph\":{\"id\":\"8e960a08-bcf0-41b8-a0d2-dfe3f88deb8d\",\"type\":\"Circle\"},\"hover_glyph\":null,\"nonselection_glyph\":{\"id\":\"8761673d-c511-4892-b879-9342c5f073ed\",\"type\":\"Circle\"},\"selection_glyph\":null},\"id\":\"626c55fe-b8c9-4033-be79-00a54dbcef96\",\"type\":\"GlyphRenderer\"},{\"attributes\":{\"callback\":null},\"id\":\"b3f8a585-5cc9-41bc-9493-c03c08c8cabb\",\"type\":\"ColumnDataSource\"},{\"attributes\":{\"fill_alpha\":{\"value\":0.1},\"fill_color\":{\"value\":\"#1f77b4\"},\"line_alpha\":{\"value\":0.1},\"line_color\":{\"value\":\"#1f77b4\"},\"size\":{\"units\":\"screen\",\"value\":3},\"x\":{\"value\":602298.4050827335},\"y\":{\"value\":7015635.186980561}},\"id\":\"4482f840-91c3-4455-88a3-a72513af6829\",\"type\":\"Circle\"},{\"attributes\":{\"callback\":null},\"id\":\"24160200-665e-4466-85b6-2b7cf0521564\",\"type\":\"ColumnDataSource\"},{\"attributes\":{\"fill_color\":{\"value\":\"black\"},\"size\":{\"units\":\"screen\",\"value\":3},\"x\":{\"value\":771538.3052473721},\"y\":{\"value\":7043465.866114938}},\"id\":\"ac5bd790-ce84-4fbe-96b4-7a6a0e9f2fcc\",\"type\":\"Circle\"},{\"attributes\":{\"fill_color\":{\"value\":\"black\"},\"size\":{\"units\":\"screen\",\"value\":3},\"x\":{\"value\":507189.1238976399},\"y\":{\"value\":6884058.617836281}},\"id\":\"8e960a08-bcf0-41b8-a0d2-dfe3f88deb8d\",\"type\":\"Circle\"},{\"attributes\":{\"callback\":null},\"id\":\"8ea27d58-d653-4baa-9a50-d4410db6c513\",\"type\":\"ColumnDataSource\"},{\"attributes\":{\"callback\":null},\"id\":\"bdb59604-db7a-4acb-b102-350dbd7592e4\",\"type\":\"ColumnDataSource\"},{\"attributes\":{\"fill_alpha\":{\"value\":0.1},\"fill_color\":{\"value\":\"#1f77b4\"},\"line_alpha\":{\"value\":0.1},\"line_color\":{\"value\":\"#1f77b4\"},\"size\":{\"units\":\"screen\",\"value\":3},\"x\":{\"value\":458464.2409118938},\"y\":{\"value\":6796816.140865732}},\"id\":\"d240db22-eb64-4b5e-a1f7-d396983b19fe\",\"type\":\"Circle\"},{\"attributes\":{\"fill_color\":{\"value\":\"black\"},\"size\":{\"units\":\"screen\",\"value\":3},\"x\":{\"value\":771359.7163334454},\"y\":{\"value\":7044491.4904019}},\"id\":\"0c9a3815-bc9d-48dc-8882-c6233cb9104b\",\"type\":\"Circle\"},{\"attributes\":{\"fill_alpha\":{\"value\":0.1},\"fill_color\":{\"value\":\"#1f77b4\"},\"line_alpha\":{\"value\":0.1},\"line_color\":{\"value\":\"#1f77b4\"},\"size\":{\"units\":\"screen\",\"value\":3},\"x\":{\"value\":529157.5612274539},\"y\":{\"value\":6976034.422871164}},\"id\":\"74ade441-ac9b-4a33-9ff7-61ae7042f790\",\"type\":\"Circle\"},{\"attributes\":{\"fill_color\":{\"value\":\"black\"},\"size\":{\"units\":\"screen\",\"value\":3},\"x\":{\"value\":771008.4937445119},\"y\":{\"value\":7043694.987429091}},\"id\":\"fa0a2526-2ad3-4001-a131-45ebc94696d1\",\"type\":\"Circle\"},{\"attributes\":{\"callback\":null},\"id\":\"cc6c240b-bc61-4cd3-befc-62e3a35444f0\",\"type\":\"ColumnDataSource\"},{\"attributes\":{\"callback\":null},\"id\":\"65b28d22-2a0b-408b-b7ac-2145a16ab6ef\",\"type\":\"ColumnDataSource\"},{\"attributes\":{\"callback\":null},\"id\":\"1a4b77f6-5300-4efd-8c19-5438e3de630e\",\"type\":\"ColumnDataSource\"},{\"attributes\":{\"fill_alpha\":{\"value\":0.1},\"fill_color\":{\"value\":\"#1f77b4\"},\"line_alpha\":{\"value\":0.1},\"line_color\":{\"value\":\"#1f77b4\"},\"size\":{\"units\":\"screen\",\"value\":3},\"x\":{\"value\":507189.31185160915},\"y\":{\"value\":6884042.198969935}},\"id\":\"d6f52752-023a-4ead-af02-f7f971b5f576\",\"type\":\"Circle\"},{\"attributes\":{\"fill_alpha\":{\"value\":0.1},\"fill_color\":{\"value\":\"#1f77b4\"},\"line_alpha\":{\"value\":0.1},\"line_color\":{\"value\":\"#1f77b4\"},\"size\":{\"units\":\"screen\",\"value\":3},\"x\":{\"value\":459157.05089566717},\"y\":{\"value\":6796113.412234349}},\"id\":\"2087beea-500f-4d51-beef-e0599df052fb\",\"type\":\"Circle\"},{\"attributes\":{\"callback\":null,\"end\":780000,\"start\":320000},\"id\":\"29b22d31-fa68-4376-bc37-8066841c409f\",\"type\":\"Range1d\"},{\"attributes\":{\"data_source\":{\"id\":\"65b28d22-2a0b-408b-b7ac-2145a16ab6ef\",\"type\":\"ColumnDataSource\"},\"glyph\":{\"id\":\"928b30c1-0cdd-4b76-aa99-b6fb64335905\",\"type\":\"Circle\"},\"hover_glyph\":null,\"nonselection_glyph\":{\"id\":\"3c8b1bf2-4258-4761-ada4-fb204618efb6\",\"type\":\"Circle\"},\"selection_glyph\":null},\"id\":\"097a5ad3-c564-4333-94ad-c4ee4e42a040\",\"type\":\"GlyphRenderer\"},{\"attributes\":{\"active_drag\":\"auto\",\"active_scroll\":\"auto\",\"active_tap\":\"auto\",\"tools\":[{\"id\":\"ca8b7b4f-ab83-46d3-aa55-441fe42f1951\",\"type\":\"PanTool\"},{\"id\":\"1a1f4afd-22e6-4585-be7e-d9a868435485\",\"type\":\"WheelZoomTool\"},{\"id\":\"15cd6256-efda-4150-8bb8-92023f0d4485\",\"type\":\"BoxZoomTool\"},{\"id\":\"2220cb46-0847-4a40-b4fe-5caaa894617c\",\"type\":\"HoverTool\"}]},\"id\":\"76d040ca-c447-4859-9430-4c191e1f121e\",\"type\":\"Toolbar\"},{\"attributes\":{\"data_source\":{\"id\":\"d976aa3b-f556-4c24-9dc1-f50023d4b2b5\",\"type\":\"ColumnDataSource\"},\"glyph\":{\"id\":\"6d6a1c0c-7e36-4880-ab11-6e341d645457\",\"type\":\"Circle\"},\"hover_glyph\":null,\"nonselection_glyph\":{\"id\":\"9bff9af8-31ea-4d92-81ff-dbf30953d5f2\",\"type\":\"Circle\"},\"selection_glyph\":null},\"id\":\"3286d1b5-2376-4d8f-a676-f6e41aae1190\",\"type\":\"GlyphRenderer\"},{\"attributes\":{\"data_source\":{\"id\":\"3a67f5b4-37f6-4c58-94c3-f53332728b6e\",\"type\":\"ColumnDataSource\"},\"glyph\":{\"id\":\"3cfd1c8e-ec76-4559-9731-449acaa51fdf\",\"type\":\"Circle\"},\"hover_glyph\":null,\"nonselection_glyph\":{\"id\":\"f04f7ab8-f86c-49e1-b4fc-e964bdb402b4\",\"type\":\"Circle\"},\"selection_glyph\":null},\"id\":\"71bc4a0d-80cc-4be3-bed0-0ee3c338ad9d\",\"type\":\"GlyphRenderer\"},{\"attributes\":{\"data_source\":{\"id\":\"bdb59604-db7a-4acb-b102-350dbd7592e4\",\"type\":\"ColumnDataSource\"},\"glyph\":{\"id\":\"9228dadc-d215-420c-90b4-3eae212c0e4c\",\"type\":\"Circle\"},\"hover_glyph\":null,\"nonselection_glyph\":{\"id\":\"ecd77bbc-7195-4f2a-a5af-b393047b311f\",\"type\":\"Circle\"},\"selection_glyph\":null},\"id\":\"c9daddae-94c9-4ae2-8969-ab3331987602\",\"type\":\"GlyphRenderer\"},{\"attributes\":{\"fill_color\":{\"value\":\"black\"},\"size\":{\"units\":\"screen\",\"value\":3},\"x\":{\"value\":528112.408693276},\"y\":{\"value\":6976191.238686733}},\"id\":\"165f8d62-909d-4c1e-b547-1fc0776e5ea1\",\"type\":\"Circle\"},{\"attributes\":{\"fill_alpha\":{\"value\":0.1},\"fill_color\":{\"value\":\"#1f77b4\"},\"line_alpha\":{\"value\":0.1},\"line_color\":{\"value\":\"#1f77b4\"},\"size\":{\"units\":\"screen\",\"value\":3},\"x\":{\"value\":528095.8420805043},\"y\":{\"value\":6976191.090700164}},\"id\":\"f04f7ab8-f86c-49e1-b4fc-e964bdb402b4\",\"type\":\"Circle\"},{\"attributes\":{\"tile_source\":{\"id\":\"ec8003dd-36e2-4722-83d5-9ea50dd2a479\",\"type\":\"WMTSTileSource\"}},\"id\":\"93a7d2f9-ea6f-4562-bdc1-d369dbd395c1\",\"type\":\"TileRenderer\"},{\"attributes\":{\"fill_color\":{\"value\":\"black\"},\"size\":{\"units\":\"screen\",\"value\":3},\"x\":{\"value\":527748.6851656423},\"y\":{\"value\":6976104.939976395}},\"id\":\"1238b7b6-03cb-4718-9e57-440e6d58302f\",\"type\":\"Circle\"},{\"attributes\":{},\"id\":\"6ee1443f-145f-4eb6-a692-5f8b6cb09b63\",\"type\":\"ToolEvents\"},{\"attributes\":{\"data_source\":{\"id\":\"0a6f7bec-8ce1-4a10-b020-5f8ac0961b6d\",\"type\":\"ColumnDataSource\"},\"glyph\":{\"id\":\"a08c68e1-03b5-496f-b2af-098b2185a6d4\",\"type\":\"Circle\"},\"hover_glyph\":null,\"nonselection_glyph\":{\"id\":\"5003812f-0ddd-4da4-8f34-2b0cbeda539c\",\"type\":\"Circle\"},\"selection_glyph\":null},\"id\":\"5ffea790-43c9-4e4d-bbc0-fdcb95036ed5\",\"type\":\"GlyphRenderer\"},{\"attributes\":{\"fill_alpha\":{\"value\":0.1},\"fill_color\":{\"value\":\"#1f77b4\"},\"line_alpha\":{\"value\":0.1},\"line_color\":{\"value\":\"#1f77b4\"},\"size\":{\"units\":\"screen\",\"value\":3},\"x\":{\"value\":528112.408693276},\"y\":{\"value\":6976191.238686733}},\"id\":\"a5cb769b-8669-4b60-9d9f-f51a6a51932b\",\"type\":\"Circle\"},{\"attributes\":{\"callback\":null},\"id\":\"0a6f7bec-8ce1-4a10-b020-5f8ac0961b6d\",\"type\":\"ColumnDataSource\"},{\"attributes\":{\"fill_color\":{\"value\":\"black\"},\"size\":{\"units\":\"screen\",\"value\":3},\"x\":{\"value\":602780.8816307263},\"y\":{\"value\":7014750.536365798}},\"id\":\"f2f7c3a9-cc41-455d-84a0-5d7e3ff1a5d9\",\"type\":\"Circle\"},{\"attributes\":{},\"id\":\"4687d3a1-a79f-4c0c-86a5-5e35b3cbc4b2\",\"type\":\"BasicTickFormatter\"},{\"attributes\":{\"data_source\":{\"id\":\"cc6c240b-bc61-4cd3-befc-62e3a35444f0\",\"type\":\"ColumnDataSource\"},\"glyph\":{\"id\":\"2d0fdaa3-a376-4e9c-b6ed-cfc744b7b356\",\"type\":\"Circle\"},\"hover_glyph\":null,\"nonselection_glyph\":{\"id\":\"e1b30138-1835-4e68-96df-5d5b2a0bdc6a\",\"type\":\"Circle\"},\"selection_glyph\":null},\"id\":\"5f894138-2750-4303-a60e-74dc80d0c5e5\",\"type\":\"GlyphRenderer\"},{\"attributes\":{\"plot\":{\"id\":\"2a00d3d4-2855-4ad6-8797-937fdf22d5f7\",\"subtype\":\"Figure\",\"type\":\"Plot\"}},\"id\":\"ca8b7b4f-ab83-46d3-aa55-441fe42f1951\",\"type\":\"PanTool\"},{\"attributes\":{},\"id\":\"4ddc3a5a-82aa-4167-8916-81d8ff9f6221\",\"type\":\"BasicTickFormatter\"},{\"attributes\":{\"fill_alpha\":{\"value\":0.1},\"fill_color\":{\"value\":\"#1f77b4\"},\"line_alpha\":{\"value\":0.1},\"line_color\":{\"value\":\"#1f77b4\"},\"size\":{\"units\":\"screen\",\"value\":3},\"x\":{\"value\":602398.2757877491},\"y\":{\"value\":7015568.397248678}},\"id\":\"e1b30138-1835-4e68-96df-5d5b2a0bdc6a\",\"type\":\"Circle\"},{\"attributes\":{\"fill_alpha\":{\"value\":0.1},\"fill_color\":{\"value\":\"#1f77b4\"},\"line_alpha\":{\"value\":0.1},\"line_color\":{\"value\":\"#1f77b4\"},\"size\":{\"units\":\"screen\",\"value\":3},\"x\":{\"value\":603230.499047022},\"y\":{\"value\":7015084.103689497}},\"id\":\"f5ccb541-1b2d-4caf-9226-f3363ebda7cd\",\"type\":\"Circle\"},{\"attributes\":{\"fill_alpha\":{\"value\":0.1},\"fill_color\":{\"value\":\"#1f77b4\"},\"line_alpha\":{\"value\":0.1},\"line_color\":{\"value\":\"#1f77b4\"},\"size\":{\"units\":\"screen\",\"value\":3},\"x\":{\"value\":602564.4640849777},\"y\":{\"value\":7014733.929891918}},\"id\":\"5003812f-0ddd-4da4-8f34-2b0cbeda539c\",\"type\":\"Circle\"},{\"attributes\":{\"data_source\":{\"id\":\"1a4b77f6-5300-4efd-8c19-5438e3de630e\",\"type\":\"ColumnDataSource\"},\"glyph\":{\"id\":\"839cef3e-a5a3-407b-bf01-38c604ee0ea2\",\"type\":\"Circle\"},\"hover_glyph\":null,\"nonselection_glyph\":{\"id\":\"d240db22-eb64-4b5e-a1f7-d396983b19fe\",\"type\":\"Circle\"},\"selection_glyph\":null},\"id\":\"72b3d628-04a8-4f1b-aaf3-efe8dbf7308c\",\"type\":\"GlyphRenderer\"},{\"attributes\":{\"fill_color\":{\"value\":\"black\"},\"size\":{\"units\":\"screen\",\"value\":3},\"x\":{\"value\":602298.4050827335},\"y\":{\"value\":7015635.186980561}},\"id\":\"c30bc8df-8c68-4f48-8288-c9aa063bacb6\",\"type\":\"Circle\"},{\"attributes\":{\"fill_color\":{\"value\":\"black\"},\"size\":{\"units\":\"screen\",\"value\":3},\"x\":{\"value\":400452.9001385486},\"y\":{\"value\":6700009.3446968235}},\"id\":\"041728d7-fdc3-4e25-b6f9-6eadf35df51c\",\"type\":\"Circle\"},{\"attributes\":{\"callback\":null,\"column_names\":[\"lon\",\"index\",\"lat\",\"x_webm\",\"x_dino_webm\",\"y_webm\",\"Naam\",\"y_dino_webm\"],\"data\":{\"Naam\":[\"Delfzijl\",\"Den Helder\",\"Harlingen\",\"Hoek van Holland\",\"IJmuiden buitenhaven\",\"Vlissingen\"],\"index\":[\"DELFZL\",\"DENHDR\",\"HARLGN\",\"HOEKVHLD\",\"IJMDBTHVN\",\"VLISSGN\"],\"lat\":[53.32635506768542,52.964359014288206,53.175634099777575,51.97757421250352,52.46232553109764,51.44231093539759],\"lon\":[6.933122805641826,4.744990191518165,5.409341921011239,4.119880920971249,4.554823144465266,3.5960567936419285],\"x_dino_webm\":[771790.6241019472,528127.4995281452,602198.5118302824,458574.44940484,506991.45894173265,400344.0080342701],\"x_webm\":[771791.7003312812,528209.8919388797,602165.1881736799,458623.04625144164,507040.59309528937,400311.21113191225],\"y_dino_webm\":[7043544.184885486,6976357.459545945,7015635.219011977,6796070.749072248,6884154.868170542,6699878.208523319],\"y_webm\":[7043594.411272932,6976408.021664548,7015551.784219782,6796071.599484488,6884155.434799677,6699909.514427584]}},\"id\":\"60b9ced7-4f93-4e8f-bd34-b2bdc460b5a6\",\"type\":\"ColumnDataSource\"},{\"attributes\":{\"callback\":null},\"id\":\"6ee634d2-64d9-465f-b325-cb3f366cbd99\",\"type\":\"ColumnDataSource\"},{\"attributes\":{\"callback\":null},\"id\":\"d976aa3b-f556-4c24-9dc1-f50023d4b2b5\",\"type\":\"ColumnDataSource\"},{\"attributes\":{\"data_source\":{\"id\":\"982fea64-89f4-4dc2-b15c-b1bcfcab5f70\",\"type\":\"ColumnDataSource\"},\"glyph\":{\"id\":\"9cd07085-01c7-4aff-8200-f783d4e661bd\",\"type\":\"Circle\"},\"hover_glyph\":null,\"nonselection_glyph\":{\"id\":\"f5ccb541-1b2d-4caf-9226-f3363ebda7cd\",\"type\":\"Circle\"},\"selection_glyph\":null},\"id\":\"0f2f863b-5db9-4862-9e49-ec8f5448041e\",\"type\":\"GlyphRenderer\"},{\"attributes\":{\"fill_color\":{\"value\":\"black\"},\"size\":{\"units\":\"screen\",\"value\":3},\"x\":{\"value\":602564.4640849777},\"y\":{\"value\":7014733.929891918}},\"id\":\"a08c68e1-03b5-496f-b2af-098b2185a6d4\",\"type\":\"Circle\"},{\"attributes\":{\"fill_color\":{\"value\":\"black\"},\"size\":{\"units\":\"screen\",\"value\":3},\"x\":{\"value\":401003.68428550067},\"y\":{\"value\":6700408.261631109}},\"id\":\"928b30c1-0cdd-4b76-aa99-b6fb64335905\",\"type\":\"Circle\"},{\"attributes\":{\"data_source\":{\"id\":\"5db8acc2-a86e-4caa-8fb1-5ebc16d8a831\",\"type\":\"ColumnDataSource\"},\"glyph\":{\"id\":\"969e0940-74fd-4669-ac91-18f585ccfad5\",\"type\":\"Circle\"},\"hover_glyph\":null,\"nonselection_glyph\":{\"id\":\"26f9aec5-71c3-4211-b984-6122aeab8d81\",\"type\":\"Circle\"},\"selection_glyph\":null},\"id\":\"9ade67a0-85c4-4972-a137-b2737fdd5adc\",\"type\":\"GlyphRenderer\"},{\"attributes\":{\"callback\":null,\"column_names\":[\"lon\",\"index\",\"lat\",\"x_webm\",\"x_dino_webm\",\"y_webm\",\"Naam\",\"y_dino_webm\"],\"data\":{\"Naam\":[\"Delfzijl\",\"Den Helder\",\"Harlingen\",\"Hoek van Holland\",\"IJmuiden buitenhaven\",\"Vlissingen\"],\"index\":[\"DELFZL\",\"DENHDR\",\"HARLGN\",\"HOEKVHLD\",\"IJMDBTHVN\",\"VLISSGN\"],\"lat\":[53.32635506768542,52.964359014288206,53.175634099777575,51.97757421250352,52.46232553109764,51.44231093539759],\"lon\":[6.933122805641826,4.744990191518165,5.409341921011239,4.119880920971249,4.554823144465266,3.5960567936419285],\"x_dino_webm\":[771790.6241019472,528127.4995281452,602198.5118302824,458574.44940484,506991.45894173265,400344.0080342701],\"x_webm\":[771791.7003312812,528209.8919388797,602165.1881736799,458623.04625144164,507040.59309528937,400311.21113191225],\"y_dino_webm\":[7043544.184885486,6976357.459545945,7015635.219011977,6796070.749072248,6884154.868170542,6699878.208523319],\"y_webm\":[7043594.411272932,6976408.021664548,7015551.784219782,6796071.599484488,6884155.434799677,6699909.514427584]}},\"id\":\"ee2d8a09-b538-4d15-9f75-cceba7e783c4\",\"type\":\"ColumnDataSource\"},{\"attributes\":{\"label\":{\"value\":\"Nearest location dinodata\"},\"renderers\":[{\"id\":\"d24f16b3-4fb8-4cc5-a23d-ee5d728feb70\",\"type\":\"GlyphRenderer\"}]},\"id\":\"884aa2eb-26f8-4ff4-a6e8-de7628b0e21c\",\"type\":\"LegendItem\"},{\"attributes\":{\"fill_alpha\":{\"value\":0.1},\"fill_color\":{\"value\":\"#1f77b4\"},\"line_alpha\":{\"value\":0.1},\"line_color\":{\"value\":\"#1f77b4\"},\"size\":{\"units\":\"screen\",\"value\":3},\"x\":{\"value\":458849.268157545},\"y\":{\"value\":6796108.043510762}},\"id\":\"730bf178-e7a9-4f2f-bfc0-60b02ffc21e4\",\"type\":\"Circle\"},{\"attributes\":{\"data_source\":{\"id\":\"34c53267-d12c-4620-bcd8-5f4c674b6acf\",\"type\":\"ColumnDataSource\"},\"glyph\":{\"id\":\"d072876a-e69f-457f-850e-2264101c120d\",\"type\":\"Circle\"},\"hover_glyph\":null,\"nonselection_glyph\":{\"id\":\"730bf178-e7a9-4f2f-bfc0-60b02ffc21e4\",\"type\":\"Circle\"},\"selection_glyph\":null},\"id\":\"6b252e47-9a4f-4121-a1cb-9cfec6d3c6b9\",\"type\":\"GlyphRenderer\"},{\"attributes\":{\"fill_color\":{\"value\":\"black\"},\"size\":{\"units\":\"screen\",\"value\":3},\"x\":{\"value\":528112.408693276},\"y\":{\"value\":6976191.238686733}},\"id\":\"969e0940-74fd-4669-ac91-18f585ccfad5\",\"type\":\"Circle\"},{\"attributes\":{\"plot\":{\"id\":\"2a00d3d4-2855-4ad6-8797-937fdf22d5f7\",\"subtype\":\"Figure\",\"type\":\"Plot\"}},\"id\":\"1a1f4afd-22e6-4585-be7e-d9a868435485\",\"type\":\"WheelZoomTool\"},{\"attributes\":{\"data_source\":{\"id\":\"12a17342-4f1a-487c-adf8-1770af7b85c9\",\"type\":\"ColumnDataSource\"},\"glyph\":{\"id\":\"d6ecd714-fe60-433d-a7c2-8be2db95aea6\",\"type\":\"Circle\"},\"hover_glyph\":null,\"nonselection_glyph\":{\"id\":\"2087beea-500f-4d51-beef-e0599df052fb\",\"type\":\"Circle\"},\"selection_glyph\":null},\"id\":\"118676c9-908c-4781-88ad-5d2978456134\",\"type\":\"GlyphRenderer\"},{\"attributes\":{\"fill_alpha\":{\"value\":0.1},\"fill_color\":{\"value\":\"#1f77b4\"},\"line_alpha\":{\"value\":0.1},\"line_color\":{\"value\":\"#1f77b4\"},\"size\":{\"units\":\"screen\",\"value\":3},\"x\":{\"value\":400435.32265805424},\"y\":{\"value\":6700073.14010689}},\"id\":\"72579be0-81fa-4fb8-9378-36b669b3cd86\",\"type\":\"Circle\"},{\"attributes\":{\"callback\":null},\"id\":\"3a67f5b4-37f6-4c58-94c3-f53332728b6e\",\"type\":\"ColumnDataSource\"},{\"attributes\":{\"data_source\":{\"id\":\"8ea27d58-d653-4baa-9a50-d4410db6c513\",\"type\":\"ColumnDataSource\"},\"glyph\":{\"id\":\"8d89232b-f97a-4051-8d6b-1dcd3c0d4689\",\"type\":\"Circle\"},\"hover_glyph\":null,\"nonselection_glyph\":{\"id\":\"74ade441-ac9b-4a33-9ff7-61ae7042f790\",\"type\":\"Circle\"},\"selection_glyph\":null},\"id\":\"c9c48a05-fe1f-4870-a1d8-f5bda968ca15\",\"type\":\"GlyphRenderer\"},{\"attributes\":{\"fill_alpha\":{\"value\":0.1},\"fill_color\":{\"value\":\"#1f77b4\"},\"line_alpha\":{\"value\":0.1},\"line_color\":{\"value\":\"#1f77b4\"},\"size\":{\"units\":\"screen\",\"value\":20},\"x\":{\"field\":\"x_webm\"},\"y\":{\"field\":\"y_webm\"}},\"id\":\"1e7e802e-8552-45c0-b8e0-8ca682c7b143\",\"type\":\"Circle\"}],\"root_ids\":[\"2a00d3d4-2855-4ad6-8797-937fdf22d5f7\"]},\"title\":\"Bokeh Application\",\"version\":\"0.12.4\"}};\n",
       "            var render_items = [{\"docid\":\"83b0e143-008a-41d9-9dba-c8b003e234a5\",\"elementid\":\"43fab178-0dd4-4d8a-87e6-1f27d105c5cb\",\"modelid\":\"2a00d3d4-2855-4ad6-8797-937fdf22d5f7\"}];\n",
       "            \n",
       "            Bokeh.embed.embed_items(docs_json, render_items);\n",
       "          };\n",
       "          if (document.readyState != \"loading\") fn();\n",
       "          else document.addEventListener(\"DOMContentLoaded\", fn);\n",
       "        })();\n",
       "      },\n",
       "      function(Bokeh) {\n",
       "      }\n",
       "    ];\n",
       "  \n",
       "    function run_inline_js() {\n",
       "      \n",
       "      if ((window.Bokeh !== undefined) || (force === true)) {\n",
       "        for (var i = 0; i < inline_js.length; i++) {\n",
       "          inline_js[i](window.Bokeh);\n",
       "        }if (force === true) {\n",
       "          display_loaded();\n",
       "        }} else if (Date.now() < window._bokeh_timeout) {\n",
       "        setTimeout(run_inline_js, 100);\n",
       "      } else if (!window._bokeh_failed_load) {\n",
       "        console.log(\"Bokeh: BokehJS failed to load within specified timeout.\");\n",
       "        window._bokeh_failed_load = true;\n",
       "      } else if (force !== true) {\n",
       "        var cell = $(document.getElementById(\"43fab178-0dd4-4d8a-87e6-1f27d105c5cb\")).parents('.cell').data().cell;\n",
       "        cell.output_area.append_execute_result(NB_LOAD_WARNING)\n",
       "      }\n",
       "  \n",
       "    }\n",
       "  \n",
       "    if (window._bokeh_is_loading === 0) {\n",
       "      console.log(\"Bokeh: BokehJS loaded, going straight to plotting\");\n",
       "      run_inline_js();\n",
       "    } else {\n",
       "      load_libs(js_urls, function() {\n",
       "        console.log(\"Bokeh: BokehJS plotting callback run at\", now());\n",
       "        run_inline_js();\n",
       "      });\n",
       "    }\n",
       "  }(this));\n",
       "</script>"
      ]
     },
     "metadata": {},
     "output_type": "display_data"
    }
   ],
   "source": [
    "bokeh.plotting.show(p)"
   ]
  },
  {
   "cell_type": "markdown",
   "metadata": {
    "deletable": true,
    "editable": true
   },
   "source": [
    "# Overview per station\n",
    "In this part of the report we summarize all the information per tide gauge. We use a template to generate a report. All the information that is presented is calculated above. If you want to reproduce this information download the notebook, install the relevant depencies, for example using anaconda and run the notebook. Some data that is used offline can be downloaded using the makefiles in the `data` directory. \n",
    "We also create a plot for each station. Notice that some of the subsoil information does not align with the tide gauge. This is due to the mismatch of the tide gauge location on side and the subsoil measurements and subsoil grid points on the other side. So please interpret with care."
   ]
  },
  {
   "cell_type": "code",
   "execution_count": 22,
   "metadata": {
    "collapsed": true,
    "deletable": true,
    "editable": true,
    "hide_input": true
   },
   "outputs": [],
   "source": [
    "template = \"\"\"\n",
    "<%!\n",
    "f3 = lambda x: \"{:.3f}\".format(float(x))\n",
    "f0 = lambda x: \"{:.0f}\".format(float(x))\n",
    "%>\n",
    "\n",
    "<h2>${station['location']} <a id=\"${station.index}\"></a></h2>\n",
    "\n",
    "<style>\n",
    ".right.template {\n",
    "  float: right;\n",
    "}\n",
    ".template img {\n",
    "  max-width: 300px !important;\n",
    "}\n",
    "</style>\n",
    "<figure class=\"right template\" >\n",
    "    <img src=\"${station['img']}\" />\n",
    "    <figcaption>Photo of tide gauge at ${station['location']}, &copy; CIV, RWS</figcaption>\n",
    "</figure>\n",
    "\n",
    "<dl>\n",
    "<dt>Location (lat, lon)</dt>\n",
    "<dd>${station['lat'] | f3}, ${station['lon'] | f3}</dd>\n",
    "<dt>Location (Rijksdriehoek)</dt>\n",
    "<dd>${station['x_rd'] | f0}, ${station['y_rd'] | f0}</dd>\n",
    "<dt>PSMSL-ID</dt>\n",
    "<dd><a href=\"http://www.psmsl.org/data/obtaining/stations/${station['psmsl_id']}.php\">${station['psmsl_id']}</a></dd>\n",
    "<dt>Description</dt>\n",
    "<dd>${station['summary']}</dd>\n",
    "<dt>History</dt>\n",
    "<dd><pre>${station['psmsl_info']}</pre></dd>\n",
    "<dt>Nap info</dt>\n",
    "<dd><pre>\n",
    "% for nap_feature in station['nap']:\n",
    "${nap_feature['properties']['pub_tekst']} @ ${nap_feature['properties']['nap_hoogte']} (class: ${nap_feature['properties']['orde']}, distance: ${nap_feature['properties']['distance'] | f0}m)\n",
    "% endfor\n",
    "</pre></dd>\n",
    "</dl>\n",
    "\n",
    "Other relevant links:\n",
    "- <a href='http://a360.co/2s8ltK7'>Autocad drawing</a> of the construction.\n",
    "\"\"\""
   ]
  },
  {
   "cell_type": "code",
   "execution_count": 23,
   "metadata": {
    "collapsed": true,
    "deletable": true,
    "editable": true,
    "hide_input": true
   },
   "outputs": [],
   "source": [
    "T = mako.template.Template(text=template)\n",
    "\n",
    "def summary(station):\n",
    "    return IPython.display.Markdown(T.render(station=stations_df.ix[station]))"
   ]
  },
  {
   "cell_type": "code",
   "execution_count": 24,
   "metadata": {
    "collapsed": true,
    "deletable": true,
    "editable": true,
    "hide_input": true,
    "scrolled": false
   },
   "outputs": [],
   "source": [
    "def plot_station(code, stations_df=stations_df):\n",
    "    station = stations_df.ix[code]\n",
    "    \n",
    "    # filter out masked data (no known litho)\n",
    "    litho_ma = np.ma.masked_invalid(station['lithok']['litho'])\n",
    "    litho = litho_ma[~litho_ma.mask]\n",
    "    z = station['lithok']['z'][~litho_ma.mask]\n",
    "\n",
    "    foundation_low = np.ma.masked_invalid(station['foundation_low'])\n",
    "    station_low = np.ma.masked_invalid(station['station_low'])\n",
    "    station_high = np.ma.masked_invalid(station['station_high'])\n",
    "\n",
    "    fig = plt.figure(figsize=(13, 8))\n",
    "    gs = matplotlib.gridspec.GridSpec(1, 2, width_ratios=[3, 1]) \n",
    "    ax1 = plt.subplot(gs[0])\n",
    "    ax1.bar(\n",
    "        np.zeros_like(z), \n",
    "        np.gradient(z), \n",
    "        0.8, \n",
    "        bottom=z,\n",
    "        color=[colors[i] for i in litho]\n",
    "    )    \n",
    "    \n",
    "    ax1.plot((0, 0), [foundation_low, station_low], 'k', lw=5, alpha=0.5)\n",
    "    ax1.plot([0, 0], [station_low, station_high], 'k', lw=15, alpha=0.5)\n",
    "    ax1.axhline(0, color='b', ls='--')\n",
    "    ax1.set_title(('station ' + station.Naam))\n",
    "    ax1.set_xlim(-0.1, 0.1)\n",
    "    ax1.set_ylim(-50, 20)\n",
    "    ax1.set_xticks([])\n",
    "    ax1.set_ylabel('[m] relative to NAP')\n",
    "\n",
    "    # plot in the 2nd axis to generate a legend\n",
    "    ax2 = plt.subplot(gs[1])\n",
    "    for label in labels:\n",
    "        if label == 4:\n",
    "            continue\n",
    "        ax2.plot(0, 0, color=colors[label], label=labels[label])\n",
    "    ax2.plot(0, 0, color='b', label='0m NAP', ls='--')\n",
    "    ax2.legend(loc='center')\n",
    "    ax2.axis('off')"
   ]
  },
  {
   "cell_type": "code",
   "execution_count": 25,
   "metadata": {
    "collapsed": false,
    "deletable": true,
    "editable": true,
    "hide_input": true,
    "scrolled": false
   },
   "outputs": [
    {
     "ename": "KeyError",
     "evalue": "'psmsl_info'",
     "output_type": "error",
     "traceback": [
      "\u001b[1;31m---------------------------------------------------------------------------\u001b[0m",
      "\u001b[1;31mTypeError\u001b[0m                                 Traceback (most recent call last)",
      "\u001b[1;32mc:\\python35\\lib\\site-packages\\pandas\\indexes\\base.py\u001b[0m in \u001b[0;36mget_value\u001b[1;34m(self, series, key)\u001b[0m\n\u001b[0;32m   2174\u001b[0m             \u001b[1;32mtry\u001b[0m\u001b[1;33m:\u001b[0m\u001b[1;33m\u001b[0m\u001b[0m\n\u001b[1;32m-> 2175\u001b[1;33m                 \u001b[1;32mreturn\u001b[0m \u001b[0mtslib\u001b[0m\u001b[1;33m.\u001b[0m\u001b[0mget_value_box\u001b[0m\u001b[1;33m(\u001b[0m\u001b[0ms\u001b[0m\u001b[1;33m,\u001b[0m \u001b[0mkey\u001b[0m\u001b[1;33m)\u001b[0m\u001b[1;33m\u001b[0m\u001b[0m\n\u001b[0m\u001b[0;32m   2176\u001b[0m             \u001b[1;32mexcept\u001b[0m \u001b[0mIndexError\u001b[0m\u001b[1;33m:\u001b[0m\u001b[1;33m\u001b[0m\u001b[0m\n",
      "\u001b[1;32mpandas\\tslib.pyx\u001b[0m in \u001b[0;36mpandas.tslib.get_value_box (pandas\\tslib.c:19053)\u001b[1;34m()\u001b[0m\n",
      "\u001b[1;32mpandas\\tslib.pyx\u001b[0m in \u001b[0;36mpandas.tslib.get_value_box (pandas\\tslib.c:18687)\u001b[1;34m()\u001b[0m\n",
      "\u001b[1;31mTypeError\u001b[0m: 'str' object cannot be interpreted as an integer",
      "\nDuring handling of the above exception, another exception occurred:\n",
      "\u001b[1;31mKeyError\u001b[0m                                  Traceback (most recent call last)",
      "\u001b[1;32m<ipython-input-25-cdb99ae6f845>\u001b[0m in \u001b[0;36m<module>\u001b[1;34m()\u001b[0m\n\u001b[0;32m      1\u001b[0m \u001b[0mstation\u001b[0m \u001b[1;33m=\u001b[0m \u001b[1;34m'DELFZL'\u001b[0m\u001b[1;33m\u001b[0m\u001b[0m\n\u001b[1;32m----> 2\u001b[1;33m \u001b[0mIPython\u001b[0m\u001b[1;33m.\u001b[0m\u001b[0mdisplay\u001b[0m\u001b[1;33m.\u001b[0m\u001b[0mdisplay\u001b[0m\u001b[1;33m(\u001b[0m\u001b[0msummary\u001b[0m\u001b[1;33m(\u001b[0m\u001b[0mstation\u001b[0m\u001b[1;33m)\u001b[0m\u001b[1;33m)\u001b[0m\u001b[1;33m\u001b[0m\u001b[0m\n\u001b[0m\u001b[0;32m      3\u001b[0m \u001b[0mplot_station\u001b[0m\u001b[1;33m(\u001b[0m\u001b[0mstation\u001b[0m\u001b[1;33m)\u001b[0m\u001b[1;33m\u001b[0m\u001b[0m\n",
      "\u001b[1;32m<ipython-input-23-93d5cad4472b>\u001b[0m in \u001b[0;36msummary\u001b[1;34m(station)\u001b[0m\n\u001b[0;32m      2\u001b[0m \u001b[1;33m\u001b[0m\u001b[0m\n\u001b[0;32m      3\u001b[0m \u001b[1;32mdef\u001b[0m \u001b[0msummary\u001b[0m\u001b[1;33m(\u001b[0m\u001b[0mstation\u001b[0m\u001b[1;33m)\u001b[0m\u001b[1;33m:\u001b[0m\u001b[1;33m\u001b[0m\u001b[0m\n\u001b[1;32m----> 4\u001b[1;33m     \u001b[1;32mreturn\u001b[0m \u001b[0mIPython\u001b[0m\u001b[1;33m.\u001b[0m\u001b[0mdisplay\u001b[0m\u001b[1;33m.\u001b[0m\u001b[0mMarkdown\u001b[0m\u001b[1;33m(\u001b[0m\u001b[0mT\u001b[0m\u001b[1;33m.\u001b[0m\u001b[0mrender\u001b[0m\u001b[1;33m(\u001b[0m\u001b[0mstation\u001b[0m\u001b[1;33m=\u001b[0m\u001b[0mstations_df\u001b[0m\u001b[1;33m.\u001b[0m\u001b[0mix\u001b[0m\u001b[1;33m[\u001b[0m\u001b[0mstation\u001b[0m\u001b[1;33m]\u001b[0m\u001b[1;33m)\u001b[0m\u001b[1;33m)\u001b[0m\u001b[1;33m\u001b[0m\u001b[0m\n\u001b[0m",
      "\u001b[1;32mc:\\python35\\lib\\site-packages\\mako\\template.py\u001b[0m in \u001b[0;36mrender\u001b[1;34m(self, *args, **data)\u001b[0m\n\u001b[0;32m    460\u001b[0m \u001b[1;33m\u001b[0m\u001b[0m\n\u001b[0;32m    461\u001b[0m         \"\"\"\n\u001b[1;32m--> 462\u001b[1;33m         \u001b[1;32mreturn\u001b[0m \u001b[0mruntime\u001b[0m\u001b[1;33m.\u001b[0m\u001b[0m_render\u001b[0m\u001b[1;33m(\u001b[0m\u001b[0mself\u001b[0m\u001b[1;33m,\u001b[0m \u001b[0mself\u001b[0m\u001b[1;33m.\u001b[0m\u001b[0mcallable_\u001b[0m\u001b[1;33m,\u001b[0m \u001b[0margs\u001b[0m\u001b[1;33m,\u001b[0m \u001b[0mdata\u001b[0m\u001b[1;33m)\u001b[0m\u001b[1;33m\u001b[0m\u001b[0m\n\u001b[0m\u001b[0;32m    463\u001b[0m \u001b[1;33m\u001b[0m\u001b[0m\n\u001b[0;32m    464\u001b[0m     \u001b[1;32mdef\u001b[0m \u001b[0mrender_unicode\u001b[0m\u001b[1;33m(\u001b[0m\u001b[0mself\u001b[0m\u001b[1;33m,\u001b[0m \u001b[1;33m*\u001b[0m\u001b[0margs\u001b[0m\u001b[1;33m,\u001b[0m \u001b[1;33m**\u001b[0m\u001b[0mdata\u001b[0m\u001b[1;33m)\u001b[0m\u001b[1;33m:\u001b[0m\u001b[1;33m\u001b[0m\u001b[0m\n",
      "\u001b[1;32mc:\\python35\\lib\\site-packages\\mako\\runtime.py\u001b[0m in \u001b[0;36m_render\u001b[1;34m(template, callable_, args, data, as_unicode)\u001b[0m\n\u001b[0;32m    836\u001b[0m \u001b[1;33m\u001b[0m\u001b[0m\n\u001b[0;32m    837\u001b[0m     _render_context(template, callable_, context, *args,\n\u001b[1;32m--> 838\u001b[1;33m                     **_kwargs_for_callable(callable_, data))\n\u001b[0m\u001b[0;32m    839\u001b[0m     \u001b[1;32mreturn\u001b[0m \u001b[0mcontext\u001b[0m\u001b[1;33m.\u001b[0m\u001b[0m_pop_buffer\u001b[0m\u001b[1;33m(\u001b[0m\u001b[1;33m)\u001b[0m\u001b[1;33m.\u001b[0m\u001b[0mgetvalue\u001b[0m\u001b[1;33m(\u001b[0m\u001b[1;33m)\u001b[0m\u001b[1;33m\u001b[0m\u001b[0m\n\u001b[0;32m    840\u001b[0m \u001b[1;33m\u001b[0m\u001b[0m\n",
      "\u001b[1;32mc:\\python35\\lib\\site-packages\\mako\\runtime.py\u001b[0m in \u001b[0;36m_render_context\u001b[1;34m(tmpl, callable_, context, *args, **kwargs)\u001b[0m\n\u001b[0;32m    871\u001b[0m         \u001b[1;31m# if main render method, call from the base of the inheritance stack\u001b[0m\u001b[1;33m\u001b[0m\u001b[1;33m\u001b[0m\u001b[0m\n\u001b[0;32m    872\u001b[0m         \u001b[1;33m(\u001b[0m\u001b[0minherit\u001b[0m\u001b[1;33m,\u001b[0m \u001b[0mlclcontext\u001b[0m\u001b[1;33m)\u001b[0m \u001b[1;33m=\u001b[0m \u001b[0m_populate_self_namespace\u001b[0m\u001b[1;33m(\u001b[0m\u001b[0mcontext\u001b[0m\u001b[1;33m,\u001b[0m \u001b[0mtmpl\u001b[0m\u001b[1;33m)\u001b[0m\u001b[1;33m\u001b[0m\u001b[0m\n\u001b[1;32m--> 873\u001b[1;33m         \u001b[0m_exec_template\u001b[0m\u001b[1;33m(\u001b[0m\u001b[0minherit\u001b[0m\u001b[1;33m,\u001b[0m \u001b[0mlclcontext\u001b[0m\u001b[1;33m,\u001b[0m \u001b[0margs\u001b[0m\u001b[1;33m=\u001b[0m\u001b[0margs\u001b[0m\u001b[1;33m,\u001b[0m \u001b[0mkwargs\u001b[0m\u001b[1;33m=\u001b[0m\u001b[0mkwargs\u001b[0m\u001b[1;33m)\u001b[0m\u001b[1;33m\u001b[0m\u001b[0m\n\u001b[0m\u001b[0;32m    874\u001b[0m     \u001b[1;32melse\u001b[0m\u001b[1;33m:\u001b[0m\u001b[1;33m\u001b[0m\u001b[0m\n\u001b[0;32m    875\u001b[0m         \u001b[1;31m# otherwise, call the actual rendering method specified\u001b[0m\u001b[1;33m\u001b[0m\u001b[1;33m\u001b[0m\u001b[0m\n",
      "\u001b[1;32mc:\\python35\\lib\\site-packages\\mako\\runtime.py\u001b[0m in \u001b[0;36m_exec_template\u001b[1;34m(callable_, context, args, kwargs)\u001b[0m\n\u001b[0;32m    897\u001b[0m             \u001b[0m_render_error\u001b[0m\u001b[1;33m(\u001b[0m\u001b[0mtemplate\u001b[0m\u001b[1;33m,\u001b[0m \u001b[0mcontext\u001b[0m\u001b[1;33m,\u001b[0m \u001b[0me\u001b[0m\u001b[1;33m)\u001b[0m\u001b[1;33m\u001b[0m\u001b[0m\n\u001b[0;32m    898\u001b[0m     \u001b[1;32melse\u001b[0m\u001b[1;33m:\u001b[0m\u001b[1;33m\u001b[0m\u001b[0m\n\u001b[1;32m--> 899\u001b[1;33m         \u001b[0mcallable_\u001b[0m\u001b[1;33m(\u001b[0m\u001b[0mcontext\u001b[0m\u001b[1;33m,\u001b[0m \u001b[1;33m*\u001b[0m\u001b[0margs\u001b[0m\u001b[1;33m,\u001b[0m \u001b[1;33m**\u001b[0m\u001b[0mkwargs\u001b[0m\u001b[1;33m)\u001b[0m\u001b[1;33m\u001b[0m\u001b[0m\n\u001b[0m\u001b[0;32m    900\u001b[0m \u001b[1;33m\u001b[0m\u001b[0m\n\u001b[0;32m    901\u001b[0m \u001b[1;33m\u001b[0m\u001b[0m\n",
      "\u001b[1;32mmemory:0x197c3fd0\u001b[0m in \u001b[0;36mrender_body\u001b[1;34m(context, **pageargs)\u001b[0m\n",
      "\u001b[1;32mc:\\python35\\lib\\site-packages\\pandas\\core\\series.py\u001b[0m in \u001b[0;36m__getitem__\u001b[1;34m(self, key)\u001b[0m\n\u001b[0;32m    601\u001b[0m         \u001b[0mkey\u001b[0m \u001b[1;33m=\u001b[0m \u001b[0mcom\u001b[0m\u001b[1;33m.\u001b[0m\u001b[0m_apply_if_callable\u001b[0m\u001b[1;33m(\u001b[0m\u001b[0mkey\u001b[0m\u001b[1;33m,\u001b[0m \u001b[0mself\u001b[0m\u001b[1;33m)\u001b[0m\u001b[1;33m\u001b[0m\u001b[0m\n\u001b[0;32m    602\u001b[0m         \u001b[1;32mtry\u001b[0m\u001b[1;33m:\u001b[0m\u001b[1;33m\u001b[0m\u001b[0m\n\u001b[1;32m--> 603\u001b[1;33m             \u001b[0mresult\u001b[0m \u001b[1;33m=\u001b[0m \u001b[0mself\u001b[0m\u001b[1;33m.\u001b[0m\u001b[0mindex\u001b[0m\u001b[1;33m.\u001b[0m\u001b[0mget_value\u001b[0m\u001b[1;33m(\u001b[0m\u001b[0mself\u001b[0m\u001b[1;33m,\u001b[0m \u001b[0mkey\u001b[0m\u001b[1;33m)\u001b[0m\u001b[1;33m\u001b[0m\u001b[0m\n\u001b[0m\u001b[0;32m    604\u001b[0m \u001b[1;33m\u001b[0m\u001b[0m\n\u001b[0;32m    605\u001b[0m             \u001b[1;32mif\u001b[0m \u001b[1;32mnot\u001b[0m \u001b[0mis_scalar\u001b[0m\u001b[1;33m(\u001b[0m\u001b[0mresult\u001b[0m\u001b[1;33m)\u001b[0m\u001b[1;33m:\u001b[0m\u001b[1;33m\u001b[0m\u001b[0m\n",
      "\u001b[1;32mc:\\python35\\lib\\site-packages\\pandas\\indexes\\base.py\u001b[0m in \u001b[0;36mget_value\u001b[1;34m(self, series, key)\u001b[0m\n\u001b[0;32m   2181\u001b[0m                     \u001b[1;32mraise\u001b[0m \u001b[0mInvalidIndexError\u001b[0m\u001b[1;33m(\u001b[0m\u001b[0mkey\u001b[0m\u001b[1;33m)\u001b[0m\u001b[1;33m\u001b[0m\u001b[0m\n\u001b[0;32m   2182\u001b[0m                 \u001b[1;32melse\u001b[0m\u001b[1;33m:\u001b[0m\u001b[1;33m\u001b[0m\u001b[0m\n\u001b[1;32m-> 2183\u001b[1;33m                     \u001b[1;32mraise\u001b[0m \u001b[0me1\u001b[0m\u001b[1;33m\u001b[0m\u001b[0m\n\u001b[0m\u001b[0;32m   2184\u001b[0m             \u001b[1;32mexcept\u001b[0m \u001b[0mException\u001b[0m\u001b[1;33m:\u001b[0m  \u001b[1;31m# pragma: no cover\u001b[0m\u001b[1;33m\u001b[0m\u001b[0m\n\u001b[0;32m   2185\u001b[0m                 \u001b[1;32mraise\u001b[0m \u001b[0me1\u001b[0m\u001b[1;33m\u001b[0m\u001b[0m\n",
      "\u001b[1;32mc:\\python35\\lib\\site-packages\\pandas\\indexes\\base.py\u001b[0m in \u001b[0;36mget_value\u001b[1;34m(self, series, key)\u001b[0m\n\u001b[0;32m   2167\u001b[0m         \u001b[1;32mtry\u001b[0m\u001b[1;33m:\u001b[0m\u001b[1;33m\u001b[0m\u001b[0m\n\u001b[0;32m   2168\u001b[0m             return self._engine.get_value(s, k,\n\u001b[1;32m-> 2169\u001b[1;33m                                           tz=getattr(series.dtype, 'tz', None))\n\u001b[0m\u001b[0;32m   2170\u001b[0m         \u001b[1;32mexcept\u001b[0m \u001b[0mKeyError\u001b[0m \u001b[1;32mas\u001b[0m \u001b[0me1\u001b[0m\u001b[1;33m:\u001b[0m\u001b[1;33m\u001b[0m\u001b[0m\n\u001b[0;32m   2171\u001b[0m             \u001b[1;32mif\u001b[0m \u001b[0mlen\u001b[0m\u001b[1;33m(\u001b[0m\u001b[0mself\u001b[0m\u001b[1;33m)\u001b[0m \u001b[1;33m>\u001b[0m \u001b[1;36m0\u001b[0m \u001b[1;32mand\u001b[0m \u001b[0mself\u001b[0m\u001b[1;33m.\u001b[0m\u001b[0minferred_type\u001b[0m \u001b[1;32min\u001b[0m \u001b[1;33m[\u001b[0m\u001b[1;34m'integer'\u001b[0m\u001b[1;33m,\u001b[0m \u001b[1;34m'boolean'\u001b[0m\u001b[1;33m]\u001b[0m\u001b[1;33m:\u001b[0m\u001b[1;33m\u001b[0m\u001b[0m\n",
      "\u001b[1;32mpandas\\index.pyx\u001b[0m in \u001b[0;36mpandas.index.IndexEngine.get_value (pandas\\index.c:3557)\u001b[1;34m()\u001b[0m\n",
      "\u001b[1;32mpandas\\index.pyx\u001b[0m in \u001b[0;36mpandas.index.IndexEngine.get_value (pandas\\index.c:3240)\u001b[1;34m()\u001b[0m\n",
      "\u001b[1;32mpandas\\index.pyx\u001b[0m in \u001b[0;36mpandas.index.IndexEngine.get_loc (pandas\\index.c:4279)\u001b[1;34m()\u001b[0m\n",
      "\u001b[1;32mpandas\\src\\hashtable_class_helper.pxi\u001b[0m in \u001b[0;36mpandas.hashtable.PyObjectHashTable.get_item (pandas\\hashtable.c:13742)\u001b[1;34m()\u001b[0m\n",
      "\u001b[1;32mpandas\\src\\hashtable_class_helper.pxi\u001b[0m in \u001b[0;36mpandas.hashtable.PyObjectHashTable.get_item (pandas\\hashtable.c:13696)\u001b[1;34m()\u001b[0m\n",
      "\u001b[1;31mKeyError\u001b[0m: 'psmsl_info'"
     ]
    }
   ],
   "source": [
    "station = 'DELFZL'\n",
    "IPython.display.display(summary(station))\n",
    "plot_station(station)"
   ]
  },
  {
   "cell_type": "code",
   "execution_count": 25,
   "metadata": {
    "collapsed": false,
    "deletable": true,
    "editable": true,
    "hide_input": true,
    "scrolled": false
   },
   "outputs": [
    {
     "data": {
      "text/markdown": [
       "\n",
       "\n",
       "\n",
       "<h2>Den Helder <a id=\"Index(['Coordinatenstelsel', 'Locatie_MessageID', 'Naam', 'X', 'Y', 'autocad',\n",
       "       'foundation_low', 'img', 'links', 'location', 'nulpaal', 'psmsl_id',\n",
       "       'rlr2nap', 'station_high', 'station_low', 'summary', 'psmsl_img',\n",
       "       'psmsl_info', 'x_rd', 'y_rd', 'lon', 'lat', 'x_webm', 'y_webm',\n",
       "       'dino_idx', 'x_dino', 'y_dino', 'x_dino_webm', 'y_dino_webm', 'lithok',\n",
       "       'nap', 'ahn'],\n",
       "      dtype='object')\"></a></h2>\n",
       "\n",
       "<style>\n",
       ".right.template {\n",
       "  float: right;\n",
       "}\n",
       ".template img {\n",
       "  max-width: 300px !important;\n",
       "}\n",
       "</style>\n",
       "<figure class=\"right template\" >\n",
       "    <img src=\"http://www.openearth.nl/sealevel/static/images/DENHDR.jpg\" />\n",
       "    <figcaption>Photo of tide gauge at Den Helder, &copy; CIV, RWS</figcaption>\n",
       "</figure>\n",
       "\n",
       "<dl>\n",
       "<dt>Location (lat, lon)</dt>\n",
       "<dd>52.964, 4.745</dd>\n",
       "<dt>Location (Rijksdriehoek)</dt>\n",
       "<dd>111850, 553230</dd>\n",
       "<dt>PSMSL-ID</dt>\n",
       "<dd><a href=\"http://www.psmsl.org/data/obtaining/stations/23.php\">23</a></dd>\n",
       "<dt>Description</dt>\n",
       "<dd>This station is located in the dike of Den Helder. The station has a pipe through the dike towards the sea for the measurement of the water level. The inlet of this pipe is at -3.25m NAP. There is a seperate construction for the ventilation of the main building. Furthermore the peilbout is located outside the main building at the opposite side of the dike. The main construction has a foundation of steel sheet pilings forming a rectangle around the measurement instruments. Between -4 and -5 m depth concrete seals of the underwater chamber. </dd>\n",
       "<dt>History</dt>\n",
       "<dd><pre>Add 6.929m to data up to 2005 to refer to RLR (2007)\r\n",
       "Add 6.946m to data 2005 onwards to refer to RLR (2007)\r\n",
       "RLR (2007) is 13.2m below TGBM\r\n",
       "</pre></dd>\n",
       "<dt>Nap info</dt>\n",
       "<dd><pre>\n",
       "KNOP OP NWHK PEILSCHAAL KELDER @ 7.688 (class: 2, distance: 143m)\n",
       "KNOP OP NOHK PEILSCHAALKELDER @ 7.672 (class: 2, distance: 143m)\n",
       "PEILSCHAALHUISJE DEN HELDER @ 1.615 (class: 2, distance: 148m)\n",
       "GB \"DE SCHAAPSKOOI\" SCHAPENDIJKJE 6 @ 0.934 (class: 2, distance: 333m)\n",
       "VM RAADHS DEN HELDER @ 1.345 (class: 2, distance: 615m)\n",
       "</pre></dd>\n",
       "</dl>\n",
       "\n",
       "Other relevant links:\n",
       "- <a href='http://a360.co/2s8ltK7'>Autocad drawing</a> of the construction.\n"
      ],
      "text/plain": [
       "<IPython.core.display.Markdown object>"
      ]
     },
     "metadata": {},
     "output_type": "display_data"
    },
    {
     "data": {
      "image/png": "[encoded data removed]",
      "text/plain": [
       "<matplotlib.figure.Figure at 0x108b4cc0>"
      ]
     },
     "metadata": {},
     "output_type": "display_data"
    }
   ],
   "source": [
    "station = 'DENHDR'\n",
    "IPython.display.display(summary(station))\n",
    "plot_station(station)"
   ]
  },
  {
   "cell_type": "code",
   "execution_count": 26,
   "metadata": {
    "collapsed": false,
    "deletable": true,
    "editable": true,
    "hide_input": true,
    "scrolled": false
   },
   "outputs": [
    {
     "data": {
      "text/markdown": [
       "\n",
       "\n",
       "\n",
       "<h2>Harlingen <a id=\"Index(['Coordinatenstelsel', 'Locatie_MessageID', 'Naam', 'X', 'Y', 'autocad',\n",
       "       'foundation_low', 'img', 'links', 'location', 'nulpaal', 'psmsl_id',\n",
       "       'rlr2nap', 'station_high', 'station_low', 'summary', 'psmsl_img',\n",
       "       'psmsl_info', 'x_rd', 'y_rd', 'lon', 'lat', 'x_webm', 'y_webm',\n",
       "       'dino_idx', 'x_dino', 'y_dino', 'x_dino_webm', 'y_dino_webm', 'lithok',\n",
       "       'nap', 'ahn'],\n",
       "      dtype='object')\"></a></h2>\n",
       "\n",
       "<style>\n",
       ".right.template {\n",
       "  float: right;\n",
       "}\n",
       ".template img {\n",
       "  max-width: 300px !important;\n",
       "}\n",
       "</style>\n",
       "<figure class=\"right template\" >\n",
       "    <img src=\"http://www.openearth.nl/sealevel/static/images/DELFZL.jpg\" />\n",
       "    <figcaption>Photo of tide gauge at Harlingen, &copy; CIV, RWS</figcaption>\n",
       "</figure>\n",
       "\n",
       "<dl>\n",
       "<dt>Location (lat, lon)</dt>\n",
       "<dd>53.176, 5.409</dd>\n",
       "<dt>Location (Rijksdriehoek)</dt>\n",
       "<dd>156480, 576550</dd>\n",
       "<dt>PSMSL-ID</dt>\n",
       "<dd><a href=\"http://www.psmsl.org/data/obtaining/stations/25.php\">25</a></dd>\n",
       "<dt>Description</dt>\n",
       "<dd>The tidal station in Harlingen is located in a harbour on top of a boulevard. A pipe is going from the station at a depth of -2.56m NAP towards the sea. The inlet of the pipe is protected by a construction, so as to reduce the variations by the wave impact. The Main building has a foundation of a steel sheet pilings construction (rectangle inner dimensions 2.53 by 2.27m^2) surrounding the measurement instruments.</dd>\n",
       "<dt>History</dt>\n",
       "<dd><pre>Add 6.907m to data up to 2005 to refer to RLR (2007)\r\n",
       "Add 6.914m to data 2005 onwards to refer to RLR (2007)\r\n",
       "RLR (2007) is 13.9m below TGBM\r\n",
       "</pre></dd>\n",
       "<dt>Nap info</dt>\n",
       "<dd><pre>\n",
       "PSHS RWS W-Z WADDENPROMENADE 9 @ 6.125 (class: 2, distance: 94m)\n",
       "TOREN HAVENWACHT @ 6.454 (class: 2, distance: 140m)\n",
       "TRAFO NIEUWE WILLEMSKD 5 @ 3.955 (class: 2, distance: 546m)\n",
       "WK HAVENW 69 @ 3.392 (class: 2, distance: 606m)\n",
       "WK BROUWERSSTR 8 @ 1.715 (class: 2, distance: 699m)\n",
       "</pre></dd>\n",
       "</dl>\n",
       "\n",
       "Other relevant links:\n",
       "- <a href='http://a360.co/2s8ltK7'>Autocad drawing</a> of the construction.\n"
      ],
      "text/plain": [
       "<IPython.core.display.Markdown object>"
      ]
     },
     "metadata": {},
     "output_type": "display_data"
    },
    {
     "data": {
      "image/png": "[encoded data removed]",
      "text/plain": [
       "<matplotlib.figure.Figure at 0x10fc6c18>"
      ]
     },
     "metadata": {},
     "output_type": "display_data"
    }
   ],
   "source": [
    "station = 'HARLGN'\n",
    "IPython.display.display(summary(station))\n",
    "plot_station(station)"
   ]
  },
  {
   "cell_type": "code",
   "execution_count": 27,
   "metadata": {
    "collapsed": false,
    "deletable": true,
    "editable": true,
    "hide_input": true,
    "scrolled": true
   },
   "outputs": [
    {
     "data": {
      "text/markdown": [
       "\n",
       "\n",
       "\n",
       "<h2>Hoek van Holland <a id=\"Index(['Coordinatenstelsel', 'Locatie_MessageID', 'Naam', 'X', 'Y', 'autocad',\n",
       "       'foundation_low', 'img', 'links', 'location', 'nulpaal', 'psmsl_id',\n",
       "       'rlr2nap', 'station_high', 'station_low', 'summary', 'psmsl_img',\n",
       "       'psmsl_info', 'x_rd', 'y_rd', 'lon', 'lat', 'x_webm', 'y_webm',\n",
       "       'dino_idx', 'x_dino', 'y_dino', 'x_dino_webm', 'y_dino_webm', 'lithok',\n",
       "       'nap', 'ahn'],\n",
       "      dtype='object')\"></a></h2>\n",
       "\n",
       "<style>\n",
       ".right.template {\n",
       "  float: right;\n",
       "}\n",
       ".template img {\n",
       "  max-width: 300px !important;\n",
       "}\n",
       "</style>\n",
       "<figure class=\"right template\" >\n",
       "    <img src=\"http://www.openearth.nl/sealevel/static/images/HOEKVHLD.jpg\" />\n",
       "    <figcaption>Photo of tide gauge at Hoek van Holland, &copy; CIV, RWS</figcaption>\n",
       "</figure>\n",
       "\n",
       "<dl>\n",
       "<dt>Location (lat, lon)</dt>\n",
       "<dd>51.978, 4.120</dd>\n",
       "<dt>Location (Rijksdriehoek)</dt>\n",
       "<dd>67930, 444000</dd>\n",
       "<dt>PSMSL-ID</dt>\n",
       "<dd><a href=\"http://www.psmsl.org/data/obtaining/stations/22.php\">22</a></dd>\n",
       "<dt>Description</dt>\n",
       "<dd>The station in Hoek van Holland is located beside the Nieuwe Waterweg near the river mouth into the North Sea. The reference pole is situated outside the main building on the main land. The main building is connected to the main land by a steel bridge. The foundation of the main building is on steel poles. The building is a concrete structure reaching to a depth of -3.0 m NAP. This entire thing is enough for the measurement instruments to be placed inside. And the underwater chamber is then, in contrary to the other stations within the main building. The entire concrete structure has a foundation of multiple sheet piles. These are 8 concrete plates (8-sided) with a length of 14.1m. </dd>\n",
       "<dt>History</dt>\n",
       "<dd><pre>Add 6.845m to data up to 2005 to refer to RLR (2007)\r\n",
       "Add 6.873 to data 2005 onwards to refer to RLR (2007)\r\n",
       "RLR (2007) is 11.7m below TGBM\r\n",
       "</pre></dd>\n",
       "<dt>Nap info</dt>\n",
       "<dd><pre>\n",
       "BT IN BETON. FUNDERING TRAP PEILHUIS @ 4.333 (class: 2, distance: 10m)\n",
       "TRAFO R/V W-INGANG RWS-TERREIN BERGHAVEN @ 4.434 (class: 2, distance: 141m)\n",
       "KNT RWS,STATIONSW 61 @ 6.99 (class: 2, distance: 331m)\n",
       "STATIONSWG 132 @ 8.047 (class: 2, distance: 469m)\n",
       "GRONDANKER 25M ZW KONINGIN EMMABOULEVARD                                        (RD-PUNT 379346-11) @ 7.163 (class: 2, distance: 524m)\n",
       "</pre></dd>\n",
       "</dl>\n",
       "\n",
       "Other relevant links:\n",
       "- <a href='http://a360.co/2s8ltK7'>Autocad drawing</a> of the construction.\n"
      ],
      "text/plain": [
       "<IPython.core.display.Markdown object>"
      ]
     },
     "metadata": {},
     "output_type": "display_data"
    },
    {
     "data": {
      "image/png": "[encoded data removed]",
      "text/plain": [
       "<matplotlib.figure.Figure at 0x196cb400>"
      ]
     },
     "metadata": {},
     "output_type": "display_data"
    }
   ],
   "source": [
    "station = 'HOEKVHLD'\n",
    "IPython.display.display(summary(station))\n",
    "plot_station(station)"
   ]
  },
  {
   "cell_type": "code",
   "execution_count": 28,
   "metadata": {
    "collapsed": false,
    "deletable": true,
    "editable": true,
    "hide_input": true,
    "scrolled": false
   },
   "outputs": [
    {
     "data": {
      "text/markdown": [
       "\n",
       "\n",
       "\n",
       "<h2>IJmuiden <a id=\"Index(['Coordinatenstelsel', 'Locatie_MessageID', 'Naam', 'X', 'Y', 'autocad',\n",
       "       'foundation_low', 'img', 'links', 'location', 'nulpaal', 'psmsl_id',\n",
       "       'rlr2nap', 'station_high', 'station_low', 'summary', 'psmsl_img',\n",
       "       'psmsl_info', 'x_rd', 'y_rd', 'lon', 'lat', 'x_webm', 'y_webm',\n",
       "       'dino_idx', 'x_dino', 'y_dino', 'x_dino_webm', 'y_dino_webm', 'lithok',\n",
       "       'nap', 'ahn'],\n",
       "      dtype='object')\"></a></h2>\n",
       "\n",
       "<style>\n",
       ".right.template {\n",
       "  float: right;\n",
       "}\n",
       ".template img {\n",
       "  max-width: 300px !important;\n",
       "}\n",
       "</style>\n",
       "<figure class=\"right template\" >\n",
       "    <img src=\"http://www.openearth.nl/sealevel/static/images/IJMDBTHVN.jpg\" />\n",
       "    <figcaption>Photo of tide gauge at IJmuiden, &copy; CIV, RWS</figcaption>\n",
       "</figure>\n",
       "\n",
       "<dl>\n",
       "<dt>Location (lat, lon)</dt>\n",
       "<dd>52.462, 4.555</dd>\n",
       "<dt>Location (Rijksdriehoek)</dt>\n",
       "<dd>98430, 497500</dd>\n",
       "<dt>PSMSL-ID</dt>\n",
       "<dd><a href=\"http://www.psmsl.org/data/obtaining/stations/32.php\">32</a></dd>\n",
       "<dt>Description</dt>\n",
       "<dd>IJmuiden is located on the northern part of the marina in IJmuiden, near a breakwater. The main building is situated in the water and is connected by a steel stairs and bridge with the main land. The foundation of this building consists out a round steel sheet pile. The under water chamber is closed of with a concrete slab between -3.75m NAP and - 4.5m NAP. The sheet pile is extended to a depth of -13m NAP. IJmuiden has a GPS (GNSS) station attached to it.</dd>\n",
       "<dt>History</dt>\n",
       "<dd><pre>Add 6.929m to data up to 2005 to refer to RLR (2007)\r\n",
       "Add 6.950m to data 2005 onwards to refer to RLR (2007)\r\n",
       "RLR (2007) is 11.4m below TGBM\r\n",
       "</pre></dd>\n",
       "<dt>Nap info</dt>\n",
       "<dd><pre>\n",
       "LICHTBUNKER OP OUDE GED. Z-PIER @ 4.484 (class: 2, distance: 10m)\n",
       "N-HEKPOER V/D Z-PIER @ 5.003 (class: 2, distance: 108m)\n",
       "BOVENKANT Z-PIER, 0.95 M U/D Z-MR RD=   240323-11 @ 4.62 (class: 2, distance: 114m)\n",
       "TRAFO KENNEMERBOULEVARD 3\\t @ 4.13 (class: 2, distance: 338m)\n",
       "LICHTBUNKER OP OUDE GED. N-PIER @ 6.447 (class: 2, distance: 483m)\n",
       "</pre></dd>\n",
       "</dl>\n",
       "\n",
       "Other relevant links:\n",
       "- <a href='http://a360.co/2s8ltK7'>Autocad drawing</a> of the construction.\n"
      ],
      "text/plain": [
       "<IPython.core.display.Markdown object>"
      ]
     },
     "metadata": {},
     "output_type": "display_data"
    },
    {
     "data": {
      "image/png": "[encoded data removed]",
      "text/plain": [
       "<matplotlib.figure.Figure at 0x1969d9b0>"
      ]
     },
     "metadata": {},
     "output_type": "display_data"
    }
   ],
   "source": [
    "station = 'IJMDBTHVN'\n",
    "IPython.display.display(summary(station))\n",
    "plot_station(station)"
   ]
  },
  {
   "cell_type": "code",
   "execution_count": 29,
   "metadata": {
    "collapsed": false,
    "deletable": true,
    "editable": true,
    "hide_input": true
   },
   "outputs": [
    {
     "data": {
      "text/markdown": [
       "\n",
       "\n",
       "\n",
       "<h2>Vlissingen <a id=\"Index(['Coordinatenstelsel', 'Locatie_MessageID', 'Naam', 'X', 'Y', 'autocad',\n",
       "       'foundation_low', 'img', 'links', 'location', 'nulpaal', 'psmsl_id',\n",
       "       'rlr2nap', 'station_high', 'station_low', 'summary', 'psmsl_img',\n",
       "       'psmsl_info', 'x_rd', 'y_rd', 'lon', 'lat', 'x_webm', 'y_webm',\n",
       "       'dino_idx', 'x_dino', 'y_dino', 'x_dino_webm', 'y_dino_webm', 'lithok',\n",
       "       'nap', 'ahn'],\n",
       "      dtype='object')\"></a></h2>\n",
       "\n",
       "<style>\n",
       ".right.template {\n",
       "  float: right;\n",
       "}\n",
       ".template img {\n",
       "  max-width: 300px !important;\n",
       "}\n",
       "</style>\n",
       "<figure class=\"right template\" >\n",
       "    <img src=\"http://www.openearth.nl/sealevel/static/images/VLISSGN.jpg\" />\n",
       "    <figcaption>Photo of tide gauge at Vlissingen, &copy; CIV, RWS</figcaption>\n",
       "</figure>\n",
       "\n",
       "<dl>\n",
       "<dt>Location (lat, lon)</dt>\n",
       "<dd>51.442, 3.596</dd>\n",
       "<dt>Location (Rijksdriehoek)</dt>\n",
       "<dd>30480, 385220</dd>\n",
       "<dt>PSMSL-ID</dt>\n",
       "<dd><a href=\"http://www.psmsl.org/data/obtaining/stations/20.php\">20</a></dd>\n",
       "<dt>Description</dt>\n",
       "<dd>This station is located at a quay in Vlissingen, near the outer harbour. The foundation is a steel sheet pile reaching to a depth of -17.6m NAP, having a width of 2.2m (outer width). Inside this pile are the measurement instruments. The under water chamber is sealed of with a concrete slab reaching from -4.0 m NAP to -5.0 m NAP. The station has a GPS (GNSS) device attached.</dd>\n",
       "<dt>History</dt>\n",
       "<dd><pre>Add 6.900m to data up to 2005 to refer to RLR (2007)\r\n",
       "Add 6.930m to data 2005 onwards to refer to RLR (2007)\r\n",
       "RLR (2007) is 11.6m below TGBM\r\n",
       "</pre></dd>\n",
       "<dt>Nap info</dt>\n",
       "<dd><pre>\n",
       "PEILSCHAALSTATION @ 4.949 (class: 2, distance: 108m)\n",
       "HOGE BT MUUR OUDE VEERHAVEN N PEILSCHAA @ 4.877 (class: 2, distance: 128m)\n",
       "FIETSENSTALLING STATION NS @ 4.923 (class: 2, distance: 215m)\n",
       "KNT GB STEENKOOL HANDELS VERG: O-INGANG BUITENHAVEN @ 4.99 (class: 2, distance: 533m)\n",
       "ZO-Z BUNKER, W-GED. VAN VOORM. FORT 'DE RUIJTER' @ 3.214 (class: 2, distance: 868m)\n",
       "</pre></dd>\n",
       "</dl>\n",
       "\n",
       "Other relevant links:\n",
       "- <a href='http://a360.co/2s8ltK7'>Autocad drawing</a> of the construction.\n"
      ],
      "text/plain": [
       "<IPython.core.display.Markdown object>"
      ]
     },
     "metadata": {},
     "output_type": "display_data"
    },
    {
     "data": {
      "image/png": "[encoded data removed]",
      "text/plain": [
       "<matplotlib.figure.Figure at 0x10e4ed30>"
      ]
     },
     "metadata": {},
     "output_type": "display_data"
    }
   ],
   "source": [
    "station = 'VLISSGN' \n",
    "IPython.display.display(summary(station))\n",
    "plot_station(station)"
   ]
  },
  {
   "cell_type": "markdown",
   "metadata": {
    "deletable": true,
    "editable": true
   },
   "source": [
    "# Side view of the subsoil\n",
    "This map below shows a map of the subsoil. The subsoil is raised by 50m out of the ground. You can rotate, skew and zoom using a combination of mouse buttons."
   ]
  },
  {
   "cell_type": "code",
   "execution_count": 26,
   "metadata": {
    "collapsed": false,
    "deletable": true,
    "editable": true,
    "hide_input": true
   },
   "outputs": [
    {
     "data": {
      "text/html": [
       "<iframe src=\"https://api.mapbox.com/styles/v1/camvdvries/cj4o674wv8i9j2rs30ew26vm1.html?fresh=true&title=true&access_token=pk.eyJ1IjoiY2FtdmR2cmllcyIsImEiOiJjajA4NXdpNmswMDB2MzNzMjk4dGM2cnhzIn0.lIwd8N7wf0hx7mq-kjTcbQ#13.4/52.0524/4.1907/83.8/60\" \n",
       "style=\"width: 100%; height: 500px;\"/>"
      ],
      "text/plain": [
       "<IPython.core.display.HTML object>"
      ]
     },
     "metadata": {},
     "output_type": "display_data"
    }
   ],
   "source": [
    "%%html\n",
    "<iframe src=\"https://api.mapbox.com/styles/v1/camvdvries/cj4o674wv8i9j2rs30ew26vm1.html?fresh=true&title=true&access_token=pk.eyJ1IjoiY2FtdmR2cmllcyIsImEiOiJjajA4NXdpNmswMDB2MzNzMjk4dGM2cnhzIn0.lIwd8N7wf0hx7mq-kjTcbQ#13.4/52.0524/4.1907/83.8/60\" \n",
    "style=\"width: 100%; height: 500px;\"/>"
   ]
  },
  {
   "cell_type": "code",
   "execution_count": null,
   "metadata": {
    "collapsed": true,
    "deletable": true,
    "editable": true
   },
   "outputs": [],
   "source": []
  }
 ],
 "metadata": {
  "hide_input": false,
  "kernelspec": {
   "display_name": "Python 3",
   "language": "python",
   "name": "python3"
  },
  "language_info": {
   "codemirror_mode": {
    "name": "ipython",
    "version": 3
   },
   "file_extension": ".py",
   "mimetype": "text/x-python",
   "name": "python",
   "nbconvert_exporter": "python",
   "pygments_lexer": "ipython3",
   "version": "3.5.2"
  }
 },
 "nbformat": 4,
 "nbformat_minor": 2
}
