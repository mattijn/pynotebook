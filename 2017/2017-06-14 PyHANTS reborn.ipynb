{
 "cells": [
  {
   "cell_type": "code",
   "execution_count": 1,
   "metadata": {
    "collapsed": true
   },
   "outputs": [],
   "source": [
    "from osgeo import gdal\n",
    "import matplotlib.pyplot as plt\n",
    "import numpy as np\n",
    "import urllib\n",
    "%matplotlib inline"
   ]
  },
  {
   "cell_type": "code",
   "execution_count": 14,
   "metadata": {
    "collapsed": true
   },
   "outputs": [],
   "source": [
    "# The kernal of HANTS algorithm. Implemented by Mattijn.\n",
    "def makediag3d(M):\n",
    "    b = np.zeros((M.shape[0], M.shape[1] * M.shape[1]))\n",
    "    b[:, ::M.shape[1] + 1] = M\n",
    "    \n",
    "    #logging.info('function `makediag3d` complete')    \n",
    "    return b.reshape(M.shape[0], M.shape[1], M.shape[1]) \n",
    "\n",
    "def get_starter_matrix(base_period_len, sample_count, frequencies_considered_count):\n",
    "    nr = min(2 * frequencies_considered_count + 1,\n",
    "                  sample_count)  # number of 2*+1 frequencies, or number of input images\n",
    "    mat = np.zeros(shape=(nr, sample_count))\n",
    "    mat[0, :] = 1\n",
    "    ang = 2 * np.pi * np.arange(base_period_len) / base_period_len\n",
    "    cs = np.cos(ang)\n",
    "    sn = np.sin(ang)\n",
    "    # create some standard sinus and cosinus functions and put in matrix\n",
    "    i = np.arange(1, frequencies_considered_count + 1)\n",
    "    ts = np.arange(sample_count)\n",
    "    for column in range(sample_count):\n",
    "        index = np.mod(i * ts[column], base_period_len)\n",
    "        # index looks like 000, 123, 246, etc, until it wraps around (for len(i)==3)\n",
    "        mat[2 * i - 1, column] = cs.take(index)\n",
    "        mat[2 * i, column] = sn.take(index)\n",
    "\n",
    "    #logging.info('HANTS: function `get_starter_matrix` complete')\n",
    "    return mat\n",
    "\n",
    "def HANTS(sample_count, inputs,\n",
    "          frequencies_considered_count=3,\n",
    "          outliers_to_reject='Lo',\n",
    "          low=0., high=255,\n",
    "          fit_error_tolerance=5,\n",
    "          dod = 5,\n",
    "          delta=0.1):\n",
    "    \"\"\"\n",
    "    Function to apply the Harmonic analysis of time series applied to arrays\n",
    "\n",
    "    sample_count    = nr. of images (total number of actual samples of the time series)\n",
    "    base_period_len    = length of the base period, measured in virtual samples\n",
    "            (days, dekads, months, etc.)\n",
    "    frequencies_considered_count    = number of frequencies to be considered above the zero frequency\n",
    "    inputs     = array of input sample values (e.g. NDVI values)\n",
    "    ts    = array of size sample_count of time sample indicators\n",
    "            (indicates virtual sample number relative to the base period);\n",
    "            numbers in array ts maybe greater than base_period_len\n",
    "            If no aux file is used (no time samples), we assume ts(i)= i,\n",
    "            where i=1, ..., sample_count\n",
    "    outliers_to_reject  = 2-character string indicating rejection of high or low outliers\n",
    "            select from 'Hi', 'Lo' or 'None'\n",
    "    low   = valid range minimum\n",
    "    high  = valid range maximum (values outside the valid range are rejeced\n",
    "            right away)\n",
    "    fit_error_tolerance   = fit error tolerance (points deviating more than fit_error_tolerance from curve\n",
    "            fit are rejected)\n",
    "    dod   = degree of overdeterminedness (iteration stops if number of\n",
    "            points reaches the minimum required for curve fitting, plus\n",
    "            dod). This is a safety measure\n",
    "    delta = small positive number (e.g. 0.1) to suppress high amplitudes\n",
    "    \"\"\"\n",
    "    # logger = mp.get_logger()\n",
    "    # logger.info('HANTS: HANTS is active %s', inputs.shape)\n",
    "\n",
    "    # define some parameters\n",
    "    base_period_len = sample_count  #\n",
    "    \n",
    "    # check which setting to set for outlier filtering\n",
    "    if outliers_to_reject == 'Hi':\n",
    "        sHiLo = -1\n",
    "    elif outliers_to_reject == 'Lo':\n",
    "        sHiLo = 1\n",
    "    else:\n",
    "        sHiLo = 0\n",
    "\n",
    "    nr = min(2 * frequencies_considered_count + 1,\n",
    "             sample_count)  # number of 2*+1 frequencies, or number of input images\n",
    "\n",
    "    # create empty arrays to fill\n",
    "    outputs = np.zeros(shape=(inputs.shape[0], sample_count))\n",
    "\n",
    "    mat = get_starter_matrix(base_period_len, sample_count, frequencies_considered_count)\n",
    "\n",
    "    # repeat the mat array over the number of arrays in inputs\n",
    "    # and create arrays with ones with shape inputs where high and low values are set to 0\n",
    "    mat = np.tile(mat[None].T, (1, inputs.shape[0])).T\n",
    "    p = np.ones_like(inputs)\n",
    "    p[(low >= inputs) | (inputs > high)] = 0\n",
    "    nout = np.sum(p == 0, axis=-1)  # count the outliers for each timeseries\n",
    "\n",
    "\n",
    "    # prepare for while loop\n",
    "    ready = np.zeros((inputs.shape[0]), dtype=bool)  # all timeseries set to false\n",
    "\n",
    "    #dod = 1  # (2*frequencies_considered_count-1)  # Um, no it isn't :/\n",
    "    noutmax = sample_count - nr - dod\n",
    "    # prepare to add delta to suppress high amplitudes but not for [0,0]\n",
    "    Adelta = np.tile(np.diag(np.ones(nr))[None].T, (1, inputs.shape[0])).T * delta\n",
    "    Adelta[:, 0, 0] -= delta\n",
    "    \n",
    "    \n",
    "    for _ in range(sample_count):\n",
    "        if ready.all():\n",
    "            break        \n",
    "        \n",
    "        # multiply outliers with timeseries\n",
    "        za = np.einsum('ijk,ik->ij', mat, p * inputs)\n",
    "        #print za\n",
    "\n",
    "        # multiply mat with the multiplication of multiply diagonal of p with transpose of mat\n",
    "        diag = makediag3d(p)\n",
    "        #print diag\n",
    "        \n",
    "        A = np.einsum('ajk,aki->aji', mat, np.einsum('aij,jka->ajk', diag, mat.T))\n",
    "        # add delta to suppress high amplitudes but not for [0,0]\n",
    "        A += Adelta\n",
    "        #A[:, 0, 0] = A[:, 0, 0] - delta\n",
    "        #print A\n",
    "\n",
    "        # solve linear matrix equation and define reconstructed timeseries\n",
    "        zr = np.linalg.solve(A, za)\n",
    "        #print zr\n",
    "        \n",
    "        outputs = np.einsum('ijk,kj->ki', mat.T, zr)\n",
    "        #print outputs\n",
    "\n",
    "        # calculate error and sort err by index\n",
    "        err = p * (sHiLo * (outputs - inputs))\n",
    "        rankVec = np.argsort(err, axis=1, )\n",
    "\n",
    "        # select maximum error and compute new ready status\n",
    "        maxerr = np.max(err, axis=-1)\n",
    "        #maxerr = np.diag(err.take(rankVec[:, sample_count - 1], axis=-1))\n",
    "        ready = (maxerr <= fit_error_tolerance) | (nout == noutmax)        \n",
    "\n",
    "        # if ready is still false\n",
    "        if not ready.all():\n",
    "            j = rankVec.take(sample_count - 1, axis=-1)\n",
    "\n",
    "            p.T[j.T, np.indices(j.shape)] = p.T[j.T, np.indices(j.shape)] * ready.astype(\n",
    "                int)  #*check\n",
    "            nout += 1\n",
    "\n",
    "    #logging.info('HANTS: function `HANTS` complete')\n",
    "    #print 'function HANTS complete'\n",
    "    return outputs"
   ]
  },
  {
   "cell_type": "code",
   "execution_count": 15,
   "metadata": {
    "collapsed": true
   },
   "outputs": [],
   "source": [
    "array_org1 = np.array([[6198, 6141, 6400, 5440, 6310, 7101, 7239, 6606, 6628, 8549, 7588, 7655, 7296, 7329\n",
    ", 7348, 7288, 7261, 7067, 6809, 6552, 5201]\n",
    ", [6180, 6230, 6190, 5743, 6406, 7057, 7298, 6764, 6956, 8662, 7280, 8140, 7600, 7633\n",
    ", 7593, 7472, 7426, 7209, 7074, 6736, 5558]\n",
    ", [6522, 6812, 2889, 6548, 7359, 7833, 8182, 7362, 7638, 8560, 7069, 8542, 8093, 8514\n",
    ", 8222, 8167, 7981, 7790, 7483, 7231, 6320]\n",
    ", [6575, 6651, 1167, 6840, 7288, 7785, 7920, 7354, 7278, 8271, 7027, 8575, 8065, 8146\n",
    ", 8156, 8166, 8010, 7742, 7521, 7253, 6319]\n",
    ", [6928, 6686, 1470, 6885, 7531, 7846, 7873, 7372, 7619, 8132, 7545, 8588, 8114, 8491\n",
    ", 8286, 8177, 7946, 7774, 7508, 7244, 6076]\n",
    ", [7008, 6613, 2907, 6974, 7436, 7810, 7755, 7243, 7454, 8332, 7635, 8327, 7975, 8325\n",
    ", 8158, 8056, 7761, 7719, 7487, 7162, 5848]\n",
    ", [6685, 6582, 4204, 6322, 6856, 7202, 7234, 7765, 7752, 7802, 7629, 8122, 7971, 8286\n",
    ", 8074, 7912, 7923, 7638, 7311, 7039, 6084]\n",
    ", [6974, 6854, 2447, 6031, 6718, 7255, 7649, 7959, 8339, 8060, 6330, 8394, 8207, 8402\n",
    ", 8366, 8196, 8096, 7679, 6998, 7148, 6293]\n",
    ", [6869, 3006, 1690, 6209, 6923, 7488, 7501, 7747, 8039, 7662, 7600, 8214, 8050, 8275\n",
    ", 8237, 8046, 8051, 7704, 7037, 7266, 6098]\n",
    ", [6933, 2724, 1716, 6483, 7339, 7942, 6818, 7438, 7594, 7391, 7934, 7992, 7733, 8136\n",
    ", 8109, 7888, 7975, 7746, 7076, 7300, 6018]\n",
    ", [7080, 2445, 5103, 6447, 7309, 8011, 7388, 7544, 7983, 7864, 8008, 7972, 7747, 8348\n",
    ", 8120, 7898, 8007, 7794, 6708, 7401, 6180]\n",
    ", [7065, 3297, 6554, 5838, 6420, 6975, 5858, 8294, 8302, 8033, 8598, 8257, 8252, 8463\n",
    ", 8359, 8036, 8108, 7556, 6843, 7282, 6637]\n",
    ", [6672, 3980, 5982, 6145, 6613, 7176, 4357, 7659, 7802, 6627, 7975, 8077, 7953, 7779\n",
    ", 8163, 7932, 7835, 7358, 4287, 7269, 5630]\n",
    ", [6232, 4882, 6134, 5960, 6312, 7092, 5764, 7738, 8078, 7792, 8399, 7639, 7432, 6264\n",
    ", 7568, 7285, 7371, 7033, 6146, 6730, 5530]\n",
    ", [5762, 4276, 5829, 5654, 6150, 6887, 5263, 7528, 7851, 7901, 7194, 6546, 6424, 6225\n",
    ", 6614, 6243, 6368, 6411, 6649, 6126, 4837]\n",
    ", [5577, 5447, 5563, 5264, 5851, 6600, 6568, 7907, 8094, 8153, 7230, 6261, 6306, 6300\n",
    ", 6481, 6088, 6234, 6317, 6558, 6012, 4805]\n",
    ", [5487, 5716, 5390, 5296, 6036, 6945, 6743, 7562, 7804, 7867, 6475, 5598, 5471, 5101\n",
    ", 5475, 5159, 5580, 5782, 6133, 5673, 3993]\n",
    ", [4489, 4725, 4286, 4404, 5157, 6389, 6477, 6635, 7232, 7865, 7414, 5400, 4905, 4560\n",
    ", 4799, 4512, 4622, 4722, 5216, 4775, 3162]\n",
    ", [4875, 5024, 4612, 4630, 5481, 6650, 6293, 6854, 7692, 7983, 6994, 5936, 5452, 5021\n",
    ", 5444, 5216, 5226, 5133, 5595, 4943, 3708]\n",
    ", [4324, 4546, 4209, 4300, 4900, 6338, 6043, 6586, 7756, 7858, 6919, 5803, 5251, 5423\n",
    ", 5268, 4845, 5004, 4945, 5278, 4593, 3487]\n",
    ", [4309, 4432, 4322, 4448, 5006, 6453, 6179, 6599, 7543, 7878, 7049, 6002, 5220, 5992\n",
    ", 5368, 4831, 5100, 5017, 5508, 4786, 3583]\n",
    ", [4209, 4656, 4342, 4252, 4760, 5895, 4858, 6232, 7388, 7567, 6763, 6096, 5352, 6136\n",
    ", 5670, 5161, 5368, 5159, 5426, 4622, 2502]\n",
    ", [4140, 4248, 4208, 4088, 4597, 5307, 6103, 6203, 7385, 7730, 7275, 6410, 5716, 6404\n",
    ", 5915, 5556, 5441, 5208, 5282, 4650, 2731]\n",
    ", [5064, 5236, 4993, 4849, 5177, 5790, 6967, 7169, 7802, 8214, 7940, 7160, 6715, 6861\n",
    ", 6609, 6055, 5947, 5893, 6051, 5329, 3869]\n",
    ", [6277, 5755, 6013, 5804, 5787, 6139, 7130, 7948, 8365, 8279, 8248, 8092, 7828, 7707\n",
    ", 7874, 7611, 7498, 7416, 6346, 6444, 5749]\n",
    ", [5066, 5013, 5109, 4861, 4893, 5306, 6086, 6617, 6800, 6853, 6843, 6822, 6533, 6619\n",
    ", 6717, 6450, 6639, 6514, 6094, 5625, 4578]\n",
    ", [3855, 4467, 4376, 4150, 4532, 5139, 5898, 6260, 6331, 4766, 6166, 6023, 6013, 6104\n",
    ", 5822, 5835, 5762, 5469, 4890, 4462, 3580]\n",
    ", [5108, 5316, 5295, 5077, 5388, 6434, 7063, 7230, 7644, 5647, 7323, 7226, 7073, 6991\n",
    ", 6944, 6760, 6988, 6680, 6007, 5492, 4299]\n",
    ", [5376, 4424, 4582, 5458, 5610, 6632, 7371, 7383, 7764, 6065, 7397, 7178, 6852, 6655\n",
    ", 6614, 6623, 6543, 6583, 5357, 5790, 4139]\n",
    ", [5857, 2161, 5010, 5954, 6291, 7070, 7534, 7455, 7752, 6955, 7384, 7332, 7084, 7236\n",
    ", 7192, 7064, 6945, 6881, 4810, 6172, 4683]\n",
    ", [6514, 1459, 6760, 6602, 6998, 7256, 7877, 7642, 8079, 7796, 7807, 8097, 7766, 8114\n",
    ", 7875, 7783, 7677, 7560, 4201, 6850, 5541]])"
   ]
  },
  {
   "cell_type": "code",
   "execution_count": 16,
   "metadata": {},
   "outputs": [
    {
     "data": {
      "image/png": "[encoded data removed]",
      "text/plain": [
       "<matplotlib.figure.Figure at 0x7b41b70>"
      ]
     },
     "metadata": {},
     "output_type": "display_data"
    }
   ],
   "source": [
    "fig = plt.figure(figsize=(15,3))\n",
    "\n",
    "ax2 = fig.add_subplot(111)\n",
    "img2 = ax2.imshow(np.ma.masked_equal(array_org1, 0), cmap='viridis',interpolation = 'nearest')\n",
    "ax2.set_xlabel('Long')\n",
    "ax2.set_ylabel('ansi')\n",
    "ax2.set_title('ORIGINAL array shape: '+str(array_org1.shape))\n",
    "\n",
    "plt.colorbar(img2, orientation='horizontal', ax=ax2)\n",
    "plt.tight_layout()\n",
    "#plt.savefig(r'D:\\tmp\\HANTS_OUT//slice_ansi_long.png', dpi=200)\n",
    "plt.show()"
   ]
  },
  {
   "cell_type": "code",
   "execution_count": 17,
   "metadata": {},
   "outputs": [
    {
     "data": {
      "text/plain": [
       "[<matplotlib.lines.Line2D at 0x7832ef0>]"
      ]
     },
     "execution_count": 17,
     "metadata": {},
     "output_type": "execute_result"
    },
    {
     "data": {
      "image/png": "[encoded data removed]",
      "text/plain": [
       "<matplotlib.figure.Figure at 0x7921470>"
      ]
     },
     "metadata": {},
     "output_type": "display_data"
    }
   ],
   "source": [
    "plt.plot(array_org1[0])"
   ]
  },
  {
   "cell_type": "code",
   "execution_count": 22,
   "metadata": {},
   "outputs": [
    {
     "data": {
      "text/plain": [
       "array([[ 61.98,  61.41,  64.  ,  54.4 ,  63.1 ,  71.01,  72.39,  66.06,\n",
       "         66.28,  85.49,  75.88,  76.55,  72.96,  73.29,  73.48,  72.88,\n",
       "         72.61,  70.67,  68.09,  65.52,  52.01],\n",
       "       [ 61.8 ,  62.3 ,  61.9 ,  57.43,  64.06,  70.57,  72.98,  67.64,\n",
       "         69.56,  86.62,  72.8 ,  81.4 ,  76.  ,  76.33,  75.93,  74.72,\n",
       "         74.26,  72.09,  70.74,  67.36,  55.58],\n",
       "       [ 65.22,  68.12,  28.89,  65.48,  73.59,  78.33,  81.82,  73.62,\n",
       "         76.38,  85.6 ,  70.69,  85.42,  80.93,  85.14,  82.22,  81.67,\n",
       "         79.81,  77.9 ,  74.83,  72.31,  63.2 ],\n",
       "       [ 65.75,  66.51,  11.67,  68.4 ,  72.88,  77.85,  79.2 ,  73.54,\n",
       "         72.78,  82.71,  70.27,  85.75,  80.65,  81.46,  81.56,  81.66,\n",
       "         80.1 ,  77.42,  75.21,  72.53,  63.19],\n",
       "       [ 69.28,  66.86,  14.7 ,  68.85,  75.31,  78.46,  78.73,  73.72,\n",
       "         76.19,  81.32,  75.45,  85.88,  81.14,  84.91,  82.86,  81.77,\n",
       "         79.46,  77.74,  75.08,  72.44,  60.76],\n",
       "       [ 70.08,  66.13,  29.07,  69.74,  74.36,  78.1 ,  77.55,  72.43,\n",
       "         74.54,  83.32,  76.35,  83.27,  79.75,  83.25,  81.58,  80.56,\n",
       "         77.61,  77.19,  74.87,  71.62,  58.48],\n",
       "       [ 66.85,  65.82,  42.04,  63.22,  68.56,  72.02,  72.34,  77.65,\n",
       "         77.52,  78.02,  76.29,  81.22,  79.71,  82.86,  80.74,  79.12,\n",
       "         79.23,  76.38,  73.11,  70.39,  60.84],\n",
       "       [ 69.74,  68.54,  24.47,  60.31,  67.18,  72.55,  76.49,  79.59,\n",
       "         83.39,  80.6 ,  63.3 ,  83.94,  82.07,  84.02,  83.66,  81.96,\n",
       "         80.96,  76.79,  69.98,  71.48,  62.93],\n",
       "       [ 68.69,  30.06,  16.9 ,  62.09,  69.23,  74.88,  75.01,  77.47,\n",
       "         80.39,  76.62,  76.  ,  82.14,  80.5 ,  82.75,  82.37,  80.46,\n",
       "         80.51,  77.04,  70.37,  72.66,  60.98],\n",
       "       [ 69.33,  27.24,  17.16,  64.83,  73.39,  79.42,  68.18,  74.38,\n",
       "         75.94,  73.91,  79.34,  79.92,  77.33,  81.36,  81.09,  78.88,\n",
       "         79.75,  77.46,  70.76,  73.  ,  60.18],\n",
       "       [ 70.8 ,  24.45,  51.03,  64.47,  73.09,  80.11,  73.88,  75.44,\n",
       "         79.83,  78.64,  80.08,  79.72,  77.47,  83.48,  81.2 ,  78.98,\n",
       "         80.07,  77.94,  67.08,  74.01,  61.8 ],\n",
       "       [ 70.65,  32.97,  65.54,  58.38,  64.2 ,  69.75,  58.58,  82.94,\n",
       "         83.02,  80.33,  85.98,  82.57,  82.52,  84.63,  83.59,  80.36,\n",
       "         81.08,  75.56,  68.43,  72.82,  66.37],\n",
       "       [ 66.72,  39.8 ,  59.82,  61.45,  66.13,  71.76,  43.57,  76.59,\n",
       "         78.02,  66.27,  79.75,  80.77,  79.53,  77.79,  81.63,  79.32,\n",
       "         78.35,  73.58,  42.87,  72.69,  56.3 ],\n",
       "       [ 62.32,  48.82,  61.34,  59.6 ,  63.12,  70.92,  57.64,  77.38,\n",
       "         80.78,  77.92,  83.99,  76.39,  74.32,  62.64,  75.68,  72.85,\n",
       "         73.71,  70.33,  61.46,  67.3 ,  55.3 ],\n",
       "       [ 57.62,  42.76,  58.29,  56.54,  61.5 ,  68.87,  52.63,  75.28,\n",
       "         78.51,  79.01,  71.94,  65.46,  64.24,  62.25,  66.14,  62.43,\n",
       "         63.68,  64.11,  66.49,  61.26,  48.37],\n",
       "       [ 55.77,  54.47,  55.63,  52.64,  58.51,  66.  ,  65.68,  79.07,\n",
       "         80.94,  81.53,  72.3 ,  62.61,  63.06,  63.  ,  64.81,  60.88,\n",
       "         62.34,  63.17,  65.58,  60.12,  48.05],\n",
       "       [ 54.87,  57.16,  53.9 ,  52.96,  60.36,  69.45,  67.43,  75.62,\n",
       "         78.04,  78.67,  64.75,  55.98,  54.71,  51.01,  54.75,  51.59,\n",
       "         55.8 ,  57.82,  61.33,  56.73,  39.93],\n",
       "       [ 44.89,  47.25,  42.86,  44.04,  51.57,  63.89,  64.77,  66.35,\n",
       "         72.32,  78.65,  74.14,  54.  ,  49.05,  45.6 ,  47.99,  45.12,\n",
       "         46.22,  47.22,  52.16,  47.75,  31.62],\n",
       "       [ 48.75,  50.24,  46.12,  46.3 ,  54.81,  66.5 ,  62.93,  68.54,\n",
       "         76.92,  79.83,  69.94,  59.36,  54.52,  50.21,  54.44,  52.16,\n",
       "         52.26,  51.33,  55.95,  49.43,  37.08],\n",
       "       [ 43.24,  45.46,  42.09,  43.  ,  49.  ,  63.38,  60.43,  65.86,\n",
       "         77.56,  78.58,  69.19,  58.03,  52.51,  54.23,  52.68,  48.45,\n",
       "         50.04,  49.45,  52.78,  45.93,  34.87],\n",
       "       [ 43.09,  44.32,  43.22,  44.48,  50.06,  64.53,  61.79,  65.99,\n",
       "         75.43,  78.78,  70.49,  60.02,  52.2 ,  59.92,  53.68,  48.31,\n",
       "         51.  ,  50.17,  55.08,  47.86,  35.83],\n",
       "       [ 42.09,  46.56,  43.42,  42.52,  47.6 ,  58.95,  48.58,  62.32,\n",
       "         73.88,  75.67,  67.63,  60.96,  53.52,  61.36,  56.7 ,  51.61,\n",
       "         53.68,  51.59,  54.26,  46.22,  25.02],\n",
       "       [ 41.4 ,  42.48,  42.08,  40.88,  45.97,  53.07,  61.03,  62.03,\n",
       "         73.85,  77.3 ,  72.75,  64.1 ,  57.16,  64.04,  59.15,  55.56,\n",
       "         54.41,  52.08,  52.82,  46.5 ,  27.31],\n",
       "       [ 50.64,  52.36,  49.93,  48.49,  51.77,  57.9 ,  69.67,  71.69,\n",
       "         78.02,  82.14,  79.4 ,  71.6 ,  67.15,  68.61,  66.09,  60.55,\n",
       "         59.47,  58.93,  60.51,  53.29,  38.69],\n",
       "       [ 62.77,  57.55,  60.13,  58.04,  57.87,  61.39,  71.3 ,  79.48,\n",
       "         83.65,  82.79,  82.48,  80.92,  78.28,  77.07,  78.74,  76.11,\n",
       "         74.98,  74.16,  63.46,  64.44,  57.49],\n",
       "       [ 50.66,  50.13,  51.09,  48.61,  48.93,  53.06,  60.86,  66.17,\n",
       "         68.  ,  68.53,  68.43,  68.22,  65.33,  66.19,  67.17,  64.5 ,\n",
       "         66.39,  65.14,  60.94,  56.25,  45.78],\n",
       "       [ 38.55,  44.67,  43.76,  41.5 ,  45.32,  51.39,  58.98,  62.6 ,\n",
       "         63.31,  47.66,  61.66,  60.23,  60.13,  61.04,  58.22,  58.35,\n",
       "         57.62,  54.69,  48.9 ,  44.62,  35.8 ],\n",
       "       [ 51.08,  53.16,  52.95,  50.77,  53.88,  64.34,  70.63,  72.3 ,\n",
       "         76.44,  56.47,  73.23,  72.26,  70.73,  69.91,  69.44,  67.6 ,\n",
       "         69.88,  66.8 ,  60.07,  54.92,  42.99],\n",
       "       [ 53.76,  44.24,  45.82,  54.58,  56.1 ,  66.32,  73.71,  73.83,\n",
       "         77.64,  60.65,  73.97,  71.78,  68.52,  66.55,  66.14,  66.23,\n",
       "         65.43,  65.83,  53.57,  57.9 ,  41.39],\n",
       "       [ 58.57,  21.61,  50.1 ,  59.54,  62.91,  70.7 ,  75.34,  74.55,\n",
       "         77.52,  69.55,  73.84,  73.32,  70.84,  72.36,  71.92,  70.64,\n",
       "         69.45,  68.81,  48.1 ,  61.72,  46.83],\n",
       "       [ 65.14,  14.59,  67.6 ,  66.02,  69.98,  72.56,  78.77,  76.42,\n",
       "         80.79,  77.96,  78.07,  80.97,  77.66,  81.14,  78.75,  77.83,\n",
       "         76.77,  75.6 ,  42.01,  68.5 ,  55.41]])"
      ]
     },
     "execution_count": 22,
     "metadata": {},
     "output_type": "execute_result"
    }
   ],
   "source": [
    "array_org1/100."
   ]
  },
  {
   "cell_type": "code",
   "execution_count": 18,
   "metadata": {},
   "outputs": [],
   "source": [
    "array_hants = HANTS(array_org1.shape[1], array_org1/100.,\n",
    "                    frequencies_considered_count = 3,\n",
    "                    outliers_to_reject = 'Lo',\n",
    "                    low = -10000/100., \n",
    "                    high = 10000/100.,\n",
    "                    fit_error_tolerance = 500/100.,\n",
    "                    dod = 5/100.,\n",
    "                    delta = 0.1)\n",
    "array_hants *= 100"
   ]
  },
  {
   "cell_type": "code",
   "execution_count": 20,
   "metadata": {},
   "outputs": [
    {
     "data": {
      "image/png": "[encoded data removed]",
      "text/plain": [
       "<matplotlib.figure.Figure at 0x7e3ecc0>"
      ]
     },
     "metadata": {},
     "output_type": "display_data"
    }
   ],
   "source": [
    "\n",
    "fig = plt.figure(figsize=(15,3))\n",
    "\n",
    "ax2 = fig.add_subplot(111)\n",
    "img2 = ax2.imshow(np.ma.masked_equal(array_hants, 0), cmap='viridis',interpolation = 'nearest')\n",
    "ax2.set_xlabel('Long')\n",
    "ax2.set_ylabel('ansi')\n",
    "ax2.set_title('ORIGINAL array shape: '+str(array_hants.shape))\n",
    "\n",
    "plt.colorbar(img2, orientation='horizontal', ax=ax2)\n",
    "plt.tight_layout()\n",
    "#plt.savefig(r'D:\\tmp\\HANTS_OUT//slice_ansi_long.png', dpi=200)\n",
    "plt.show()"
   ]
  },
  {
   "cell_type": "code",
   "execution_count": 21,
   "metadata": {},
   "outputs": [
    {
     "data": {
      "text/plain": [
       "[<matplotlib.lines.Line2D at 0x7a31908>]"
      ]
     },
     "execution_count": 21,
     "metadata": {},
     "output_type": "execute_result"
    },
    {
     "data": {
      "image/png": "[encoded data removed]",
      "text/plain": [
       "<matplotlib.figure.Figure at 0x7a31b70>"
      ]
     },
     "metadata": {},
     "output_type": "display_data"
    }
   ],
   "source": [
    "plt.plot(array_org1[10])\n",
    "plt.plot(array_hants[10])"
   ]
  },
  {
   "cell_type": "code",
   "execution_count": null,
   "metadata": {
    "collapsed": true
   },
   "outputs": [],
   "source": []
  }
 ],
 "metadata": {
  "kernelspec": {
   "display_name": "Python 3",
   "language": "python",
   "name": "python3"
  },
  "language_info": {
   "codemirror_mode": {
    "name": "ipython",
    "version": 3
   },
   "file_extension": ".py",
   "mimetype": "text/x-python",
   "name": "python",
   "nbconvert_exporter": "python",
   "pygments_lexer": "ipython3",
   "version": "3.5.2"
  }
 },
 "nbformat": 4,
 "nbformat_minor": 2
}
