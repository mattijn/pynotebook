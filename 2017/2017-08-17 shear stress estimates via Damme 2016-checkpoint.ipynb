{
 "cells": [
  {
   "cell_type": "code",
   "execution_count": null,
   "metadata": {
    "collapsed": true,
    "deletable": true,
    "editable": true
   },
   "outputs": [],
   "source": [
    "import numpy as np\n",
    "import pandas as pd\n",
    "%matplotlib inline"
   ]
  },
  {
   "cell_type": "code",
   "execution_count": 6,
   "metadata": {
    "collapsed": true,
    "deletable": true,
    "editable": true
   },
   "outputs": [],
   "source": [
    "# set variablelen\n",
    "variabelen = {}\n",
    "# variabelen['zeroth-moment significant wave height']        = {'symbool':'H_m0', 'eenheid':'m'}\n",
    "# variabelen['wave period associated with the spectral peak']= {'symbool':'T_p', 'eenheid':'s'}\n",
    "# variabelen['levee crest elevation']                        = {'symbool':'h_c', 'eenheid':'m'}\n",
    "# variabelen['storm surge elevation']                        = {'symbool':'h_S', 'eenheid':'m'}\n",
    "# variabelen['freeboard [=h_c-h_S]']                         = {'symbool':'R_c', 'eenheid':'m'}\n",
    "# variabelen['seaward-side levee slope']                     = {'symbool':'θ_ss', 'eenheid':'°'}\n",
    "# variabelen['landward-side levee slope']                    = {'symbool':'θ_ls', 'eenheid':'°'}\n",
    "# variabelen['specific height of sea water']                 = {'symbool':'γ_w', 'eenheid':'kg/m3'}\n",
    "variabelen['acceleration due to gravity']                  = {'symbool':'g', 'eenheid':'m/s2'}\n",
    "variabelen['manning coefficient']                          = {'symbool':'n', 'eenheid':'s/m^(1/3)'}\n",
    "variabelen['density of water']                             = {'symbool':'ρ_w', 'eenheid':'kg/m3'}\n",
    "variabelen['run-up height']                                = {'symbool':'ρ_w', 'eenheid':'kg/m3'}"
   ]
  },
  {
   "cell_type": "code",
   "execution_count": 7,
   "metadata": {
    "collapsed": false,
    "deletable": true,
    "editable": true
   },
   "outputs": [],
   "source": [
    "# variabelen['zeroth-moment significant wave height']['waarde'] = 2.4384 # 8#\n",
    "# variabelen['wave period associated with the spectral peak']['waarde'] = 10 # 10\n",
    "# variabelen['levee crest elevation']['waarde'] = 4.57200 # 15#\n",
    "# variabelen['storm surge elevation']['waarde'] = 5.57784 # 18.3\n",
    "# variabelen['freeboard [=h_c-h_S]']['waarde'] = variabelen['levee crest elevation']['waarde'] - variabelen['storm surge elevation']['waarde']\n",
    "# variabelen['seaward-side levee slope']['waarde'] = 14.03662 # 1/4\n",
    "# variabelen['landward-side levee slope']['waarde'] = 18.43494 # 1/3\n",
    "# variabelen['specific height of sea water']['waarde'] = 1025.18166 # 64#\n",
    "variabelen['acceleration due to gravity']['waarde'] = 9.81456 # 32.2#\n",
    "variabelen['manning coefficient']['waarde'] = 0.02\n",
    "variabelen['density of water']['waarde'] = 1025.18166 # 64#   "
   ]
  },
  {
   "cell_type": "code",
   "execution_count": 22,
   "metadata": {
    "collapsed": false
   },
   "outputs": [
    {
     "data": {
      "text/plain": [
       "<matplotlib.axes._subplots.AxesSubplot at 0x9ca8b00>"
      ]
     },
     "execution_count": 22,
     "metadata": {},
     "output_type": "execute_result"
    },
    {
     "data": {
      "image/png": "[encoded data removed]",
      "text/plain": [
       "<matplotlib.figure.Figure at 0x9c8e7f0>"
      ]
     },
     "metadata": {},
     "output_type": "display_data"
    }
   ],
   "source": [
    "df = pd.read_pickle(r'D:\\Projects\\Pr\\3517.10\\Werkfolder//golf1_3.pkl')\n",
    "talud = 1.8\n",
    "f     = 0.02\n",
    "v0    = df.index.get_level_values(2)[0]\n",
    "h0    = df.index.get_level_values(3)[0]\n",
    "df.loc[(talud,f,v0,h0),'vB'].plot()"
   ]
  },
  {
   "cell_type": "code",
   "execution_count": 9,
   "metadata": {
    "collapsed": true
   },
   "outputs": [],
   "source": [
    "vB = df.loc[(talud,f,v0,h0),'vB'].mean()\n",
    "hB = df.loc[(talud,f,v0,h0),'hB'].mean()"
   ]
  },
  {
   "cell_type": "code",
   "execution_count": 20,
   "metadata": {
    "collapsed": true
   },
   "outputs": [],
   "source": [
    "def eq20(ρ_w,n,v,d):\n",
    "    \"\"\"\n",
    "    Input parameters\n",
    "    ρ_w          :  density of water (kg/m3)\n",
    "    n            :  manning coefficient (s/m(1/3))\n",
    "    v            :  main velocity parallel to the embankment surface (m/s)\n",
    "    d            :  water depth parallel to the embankment surface subsituted for hydraulic radius (m)    \n",
    "\n",
    "    Returns τ is the bed shear stress (kg/m2 [kg force/square meter]), \n",
    "    multiply 10 to get shear stress in Pa [Pascal]    \n",
    "    \"\"\"\n",
    "    τ = ρ_w * v**2 * n**2 / d**(1/3)\n",
    "    return τ * 10"
   ]
  },
  {
   "cell_type": "code",
   "execution_count": 23,
   "metadata": {
    "collapsed": false
   },
   "outputs": [
    {
     "data": {
      "text/plain": [
       "289.18709266276016"
      ]
     },
     "execution_count": 23,
     "metadata": {},
     "output_type": "execute_result"
    }
   ],
   "source": [
    "# calculate average overtopping discharge\n",
    "ρ_w   = variabelen['density of water']['waarde']\n",
    "n     = variabelen['manning coefficient']['waarde']\n",
    "g     = variabelen['acceleration due to gravity']['waarde']\n",
    "\n",
    "eq20(ρ_w,n,vB,hB)"
   ]
  },
  {
   "cell_type": "code",
   "execution_count": 41,
   "metadata": {
    "collapsed": false
   },
   "outputs": [],
   "source": [
    "# shear stress estimates assuming Sf includes only the levee slope and water surface slope\n",
    "n_sB = []\n",
    "n_mu = []\n",
    "for idx in range(len(df.loc[(talud,f,v0,h0),'hB'])):\n",
    "    hB  = df.loc[(talud,f,v0,h0),'hB'].iloc[idx]\n",
    "    vB  = df.loc[(talud,f,v0,h0),'vB'].iloc[idx]\n",
    "    sB  = df.loc[(talud,f,v0,h0),'hB'][df.loc[(talud,f,v0,h0),'hB'] == hB].index[0]\n",
    "    #ds = s2-s1\n",
    "    \n",
    "    τ_0 = eq20(ρ_w,n,vB,hB)\n",
    "    \n",
    "    #print (s1,τ_0)\n",
    "    n_sB.append(sB)\n",
    "    n_mu.append(τ_0)\n",
    "s_eq20 = pd.Series(data=n_mu, index=n_sB)\n",
    "s_eq20.index.name = 'sB'\n",
    "#s.interpolate(method='spline', order=3).plot()\n",
    "#τ_0_mean = s_eq6.mean()\n",
    "#τ_0_mean"
   ]
  },
  {
   "cell_type": "code",
   "execution_count": null,
   "metadata": {
    "collapsed": false
   },
   "outputs": [],
   "source": [
    "import matplotlib.pyplot as plt\n",
    "\n",
    "fig = plt.figure(figsize=(13,4))\n",
    "ax1 = fig.add_subplot(131)    # The big subplot\n",
    "ax2 = fig.add_subplot(132)\n",
    "ax3 = fig.add_subplot(133)\n",
    "\n",
    "s_eq20.plot(ax=ax1)\n",
    "ax1.set_ylabel('bodemschuifspanning ($N/m^2$)')\n",
    "ax1.set_xlabel('locatie op landzijde (in $m$ vanaf kruin)')\n",
    "#ax1.grid(True)\n",
    "df.loc[(talud,f,v0,h0),'vB'].plot(ax=ax2)\n",
    "ax2.set_ylabel('stroomsnelheid ($m/s$)')\n",
    "ax2.set_xlabel('locatie op landzijde (in $m$ vanaf kruin)')\n",
    "#ax2.grid(True)\n",
    "df.loc[(talud,f,v0,h0),'hB'].plot(ax=ax3)\n",
    "ax3.set_ylabel('waterdiepte ($m$)')\n",
    "ax3.set_xlabel('locatie op landzijde (in $m$ vanaf kruin)')\n",
    "#ax3.grid(True)\n",
    "plt.suptitle('afvoer 500 l/m')\n",
    "plt.tight_layout()"
   ]
  },
  {
   "cell_type": "code",
   "execution_count": null,
   "metadata": {
    "collapsed": true
   },
   "outputs": [],
   "source": []
  },
  {
   "cell_type": "code",
   "execution_count": null,
   "metadata": {
    "collapsed": false,
    "deletable": true,
    "editable": true
   },
   "outputs": [],
   "source": [
    "def eq5(γ_w,η_m):\n",
    "    \"\"\"\n",
    "    Input parameters\n",
    "    η_m          :  mean flow thickness (m)\n",
    "    γ_w,         :  specific height of sea water (kg/m3)\n",
    "    θ_ls         :  landward-side levee slope (°)\n",
    "    \n",
    "    Returns τ_0_mean is the mean shear stress (kg/m2 [kg force/square meter])\n",
    "    \"\"\"\n",
    "    τ_0_mean = γ_w*η_rms*np.sin(np.deg2rad(θ_ls))\n",
    "    return τ_0_mean\n",
    "\n",
    "def eq8(γ_w,η_rms):\n",
    "    \"\"\"\n",
    "    Input parameters\n",
    "    η_rms        :  root-mean-squared flow thickness (m)\n",
    "    γ_w,         :  specific height of sea water (kg/m3)\n",
    "    \n",
    "    Returns τ_0_mean is the mean shear stress (kg/m2 [kg force/square meter]), \n",
    "    multiply 10 to get shear stress in Pa [Pascal]\n",
    "    \"\"\"\n",
    "    τ_0_mean = 0.235*γ_w*η_rms\n",
    "    return τ_0_mean * 10\n",
    "\n",
    "def eq9(η_m, g, H_m0, T_p, q_ws):\n",
    "    \"\"\"\n",
    "    Input parameters\n",
    "    η_m          :  mean flow thickness (m)\n",
    "    g            :  acceleration due to gravity (m/s2)\n",
    "    H_m0         :  zeroth-moment significant wave height (m)\n",
    "    T_p          :  wave period associated with the spectral peak (s)\n",
    "    q_ws         :  average discharge (m3/s)\n",
    "    \n",
    "    Returns η_rms which is the root-mean-squared flow depth (m)\n",
    "    \"\"\"\n",
    "    η_rms = η_m + 0.0077 * (g*H_m0*T_p/q_ws)**(2/3) * η_m    \n",
    "    return η_rms\n",
    "\n",
    "def eq10(g, θ_ls, q_ws):\n",
    "    \"\"\"\n",
    "    Input parameters\n",
    "    g            :  acceleration due to gravity (m/s2)\n",
    "    θ_ls         :  landward-side levee slope (°)\n",
    "    q_ws         :  average discharge (m3/s)\n",
    "    \n",
    "    Returns η_m which is the mean flow thickness (m)\n",
    "    \"\"\"\n",
    "    η_m = 0.4*((1/(g*np.sin(np.deg2rad(θ_ls))))**(1/3))*(q_ws**(2/3))\n",
    "    return η_m\n",
    "\n",
    "def eq11a(R_c, H_m0):\n",
    "    \"\"\"\n",
    "    Input parameters \n",
    "    R_c          :  freeboard [=h_c-h_S] (m)\n",
    "    H_m0         :  zeroth-moment significant wave height (m)\n",
    "    \n",
    "    Returned value is equal to q_ws / np.sqrt(g*H_m0**3)\n",
    "    \"\"\"\n",
    "    out_eq11a = 0.0336+0.53*(-R_c/H_m0)**1.58        \n",
    "    return out_eq11a\n",
    "\n",
    "def eq11b(out_eq11a, g, H_m0):\n",
    "    \"\"\"\n",
    "    Input parameters\n",
    "    eq11a        :  output of equation eq11a \n",
    "    g            :  acceleration due to gravity (m/s2)\n",
    "    H_m0         :  zeroth-moment significant wave height (m)\n",
    "    \n",
    "    Returns q_ws (average discharge)\n",
    "    \"\"\"\n",
    "    q_ws = np.sqrt(g*H_m0**3) * out_eq11a\n",
    "    return q_ws\n",
    "\n",
    "def eq12(γ_w, H_rms):\n",
    "    \"\"\"\n",
    "    Input parameters\n",
    "    H_rms        :  root-mean-squared wave height (m)\n",
    "    γ_w,         :  specific height of sea water (kg/m3)\n",
    "    \n",
    "    Returns τ_0_1_3 which is the peak shear stress corresponding to \n",
    "    the average of the highest 1/3 shear stress peaks (kg/m2 [kg force/square meter]), \n",
    "    multiply 10 to get shear stress in Pa [Pascal]\n",
    "    \"\"\"    \n",
    "    τ_0_1_3 = 0.53 * γ_w * H_rms\n",
    "    return τ_0_1_3 * 10\n",
    "\n",
    "def eq13(γ_w, H_rms):\n",
    "    \"\"\"\n",
    "    Input parameters\n",
    "    H_rms        :  root-mean-squared wave height (m)\n",
    "    γ_w,         :  specific height of sea water (kg/m3)\n",
    "    \n",
    "    Returns τ_0_1_10 which is the peak shear stress corresponding to \n",
    "    the average of the highest 1/10 shear stress peaks (kg/m2 [kg force/square meter]), \n",
    "    multiply 10 to get shear stress in Pa [Pascal]\n",
    "    \"\"\"    \n",
    "    τ_0_1_10 = 0.69 * γ_w * H_rms\n",
    "    return τ_0_1_10 * 10\n",
    "\n",
    "def eq14(γ_w, H_rms):\n",
    "    \"\"\"\n",
    "    Input parameters\n",
    "    H_rms        :  root-mean-squared wave height (m)\n",
    "    γ_w,         :  specific height of sea water (kg/m3)\n",
    "    \n",
    "    Returns τ_0_1_100 which is the peak shear stress corresponding to \n",
    "    the average of the highest 1/100 shear stress peaks (kg/m2 [kg force/square meter]), \n",
    "    multiply 10 to get shear stress in Pa [Pascal]\n",
    "    \"\"\"    \n",
    "    τ_0_1_100 = 0.93 * γ_w * H_rms\n",
    "    return τ_0_1_100 * 10\n",
    "\n",
    "def eq15(R_c, η_m, H_m0):\n",
    "    \"\"\"\n",
    "    Input parameters\n",
    "    R_c          :  freeboard [=h_c-h_S] (m)\n",
    "    H_m0         :  zeroth-moment significant wave height (m)\n",
    "    η_m          :  mean flow thickness (m)\n",
    "    \n",
    "    Returns H_rms which is the root-mean-squared wave height (m)\n",
    "    \"\"\"\n",
    "    H_rms = η_m * (3.43 * np.exp(R_c/H_m0))\n",
    "    return H_rms"
   ]
  },
  {
   "cell_type": "code",
   "execution_count": null,
   "metadata": {
    "collapsed": false,
    "deletable": true,
    "editable": true
   },
   "outputs": [],
   "source": [
    "# calculate average overtopping discharge\n",
    "R_c   = variabelen['freeboard [=h_c-h_S]']['waarde']\n",
    "H_m0  = variabelen['zeroth-moment significant wave height']['waarde']\n",
    "g     = variabelen['acceleration due to gravity']['waarde']\n",
    "\n",
    "out_eq11a = eq11a(R_c, H_m0)\n",
    "q_ws  = eq11b(out_eq11a,g,H_m0)\n",
    "q_ws"
   ]
  },
  {
   "cell_type": "code",
   "execution_count": null,
   "metadata": {
    "collapsed": false,
    "deletable": true,
    "editable": true
   },
   "outputs": [],
   "source": [
    "# calculate flow paramters on the landward-side levee slope\n",
    "θ_ls  = variabelen['landward-side levee slope']['waarde']\n",
    "T_p   = variabelen['wave period associated with the spectral peak']['waarde']\n",
    "\n",
    "η_m   = eq10(g, θ_ls, q_ws)\n",
    "η_rms = eq9(η_m, g, H_m0, T_p, q_ws)\n",
    "H_rms = eq15(R_c, η_m, H_m0)\n",
    "η_m,η_rms,H_rms"
   ]
  },
  {
   "cell_type": "code",
   "execution_count": null,
   "metadata": {
    "collapsed": false,
    "deletable": true,
    "editable": true
   },
   "outputs": [],
   "source": [
    "# calculate average shear stress on the landward-side levee slope\n",
    "γ_w   = variabelen['specific height of sea water']['waarde']\n",
    "\n",
    "τ_0_mean  = eq8(γ_w, η_rms)"
   ]
  },
  {
   "cell_type": "code",
   "execution_count": null,
   "metadata": {
    "collapsed": false,
    "deletable": true,
    "editable": true
   },
   "outputs": [],
   "source": [
    "# calculate peak sheaar stress paramaters on the landward-side levee slope\n",
    "τ_0_1_3   = eq12(γ_w, H_rms)\n",
    "τ_0_1_10  = eq13(γ_w, H_rms)\n",
    "τ_0_1_100 = eq14(γ_w, H_rms)"
   ]
  },
  {
   "cell_type": "code",
   "execution_count": null,
   "metadata": {
    "collapsed": false,
    "deletable": true,
    "editable": true
   },
   "outputs": [],
   "source": [
    "τ_0_1_100"
   ]
  },
  {
   "cell_type": "code",
   "execution_count": null,
   "metadata": {
    "collapsed": false,
    "deletable": true,
    "editable": true
   },
   "outputs": [],
   "source": [
    "print(τ_0_1_100,'lb/ft2 ==',9121.189318333356,'Pa [N/m2]')"
   ]
  },
  {
   "cell_type": "code",
   "execution_count": null,
   "metadata": {
    "collapsed": true,
    "deletable": true,
    "editable": true
   },
   "outputs": [],
   "source": [
    "def eq5(γ_w,η_m,θ_ls):\n",
    "    \"\"\"\n",
    "    Input parameters\n",
    "    γ_w,         :  specific height of sea water (kg/m3)\n",
    "    η_m          :  mean flow thickness (m)\n",
    "    θ_ls         :  landward-side levee slope (°)    \n",
    "    \n",
    "    Returns τ_0_mean is the mean shear stress (kg/m2 [kg force/square meter]), \n",
    "    multiply 10 to get shear stress in Pa [Pascal]\n",
    "    \"\"\"\n",
    "    τ_0_mean = γ_w * η_m * np.sin(np.deg2rad(θ_ls))\n",
    "    return τ_0_mean * 10\n",
    "\n",
    "def eq6(γ_w,h1,h2,θ_ls,ds):\n",
    "    \"\"\"\n",
    "    Input parameters\n",
    "    γ_w,         :  specific height of sea water (kg/m3)\n",
    "    h1           :  flow depth at first location (m)\n",
    "    h2           :  flow depth at location h+1 (m)\n",
    "    θ_ls         :  landward-side levee slope (°) \n",
    "    ds           :  stepsize down-slope (m)\n",
    "    \n",
    "    Returns τ_0 is the shear stress (kg/m2 [kg force/square meter]) at location h, \n",
    "    multiply 10 to get shear stress in Pa [Pascal]\n",
    "    \"\"\"\n",
    "    h12 = (h1+h2)/2\n",
    "    dh = h2-h1\n",
    "    τ_0 = γ_w * h12 * (np.sin(np.deg2rad(θ_ls)) - (dh/ds))\n",
    "    return τ_0 * 10\n",
    "\n",
    "def eq7(γ_w,h1,h2,θ_ls,ds,g,v1,v2,dt=0.0072219812002892259):\n",
    "    \"\"\"\n",
    "    Input parameters\n",
    "    γ_w,         :  specific height of sea water (kg/m3)\n",
    "    h1           :  flow depth at first location (m)\n",
    "    h2           :  flow depth at location h+1 (m)\n",
    "    θ_ls         :  landward-side levee slope (°) \n",
    "    ds           :  stepsize down-slope (m)\n",
    "    g            :  acceleration due to gravity (m/s2)\n",
    "    v1           :  flow velocity at first location (m/s)\n",
    "    v2           :  flow velocity at location+1 (m/s)\n",
    "    dt           :  delta time (s)\n",
    "    \n",
    "    Returns τ_0 is the shear stress (kg/m2 [kg force/square meter]) at location h, \n",
    "    multiply 10 to get shear stress in Pa [Pascal]\n",
    "    \"\"\"\n",
    "    h12 = (h1+h2)/2\n",
    "    dv = v2-v1\n",
    "    dh = h2-h1\n",
    "    τ_0 = γ_w * h12 * (np.sin(np.deg2rad(θ_ls)) - (dh/ds) - ((dh/ds)*(v1**2/(2*g))) - ((1/g)*(dv/dt)))\n",
    "    return τ_0 * 10"
   ]
  },
  {
   "cell_type": "code",
   "execution_count": null,
   "metadata": {
    "collapsed": true,
    "deletable": true,
    "editable": true
   },
   "outputs": [],
   "source": []
  },
  {
   "cell_type": "code",
   "execution_count": null,
   "metadata": {
    "collapsed": true,
    "deletable": true,
    "editable": true
   },
   "outputs": [],
   "source": [
    "import pandas as pd"
   ]
  },
  {
   "cell_type": "code",
   "execution_count": null,
   "metadata": {
    "collapsed": true,
    "deletable": true,
    "editable": true
   },
   "outputs": [],
   "source": [
    "df = pd.read_pickle(r'D:\\Projects\\Pr\\3517.10\\Werkfolder//golf1_3.pkl')"
   ]
  },
  {
   "cell_type": "code",
   "execution_count": null,
   "metadata": {
    "collapsed": true,
    "deletable": true,
    "editable": true
   },
   "outputs": [],
   "source": [
    "df = pd.read_pickle(r'D:\\Projects\\Pr\\3517.10\\Werkfolder//golf4_6.pkl')"
   ]
  },
  {
   "cell_type": "code",
   "execution_count": null,
   "metadata": {
    "collapsed": true,
    "deletable": true,
    "editable": true
   },
   "outputs": [],
   "source": [
    "df = pd.read_pickle(r'D:\\Projects\\Pr\\3517.10\\Werkfolder//golf7_9.pkl')"
   ]
  },
  {
   "cell_type": "code",
   "execution_count": null,
   "metadata": {
    "collapsed": true,
    "deletable": true,
    "editable": true
   },
   "outputs": [],
   "source": [
    "df = pd.read_pickle(r'D:\\Projects\\Pr\\3517.10\\Werkfolder//golf10_12.pkl')"
   ]
  },
  {
   "cell_type": "code",
   "execution_count": null,
   "metadata": {
    "collapsed": true,
    "deletable": true,
    "editable": true
   },
   "outputs": [],
   "source": [
    "df = pd.read_pickle(r'D:\\Projects\\Pr\\3517.10\\Werkfolder//golf2_145.pkl')"
   ]
  },
  {
   "cell_type": "code",
   "execution_count": null,
   "metadata": {
    "collapsed": true,
    "deletable": true,
    "editable": true
   },
   "outputs": [],
   "source": [
    "df = pd.read_pickle(r'D:\\Projects\\Pr\\3517.10\\Werkfolder//golf2_2.pkl')"
   ]
  },
  {
   "cell_type": "code",
   "execution_count": null,
   "metadata": {
    "collapsed": true,
    "deletable": true,
    "editable": true
   },
   "outputs": [],
   "source": [
    "df = pd.read_pickle(r'D:\\Projects\\Pr\\3517.10\\Werkfolder//golf2_3.pkl')"
   ]
  },
  {
   "cell_type": "code",
   "execution_count": null,
   "metadata": {
    "collapsed": false,
    "deletable": true,
    "editable": true
   },
   "outputs": [],
   "source": [
    "df.index.get_level_values(3)[0]"
   ]
  },
  {
   "cell_type": "code",
   "execution_count": null,
   "metadata": {
    "collapsed": false,
    "deletable": true,
    "editable": true
   },
   "outputs": [],
   "source": [
    "talud = 1.8\n",
    "f     = 0.02\n",
    "v0    = df.index.get_level_values(2)[0]\n",
    "h0    = df.index.get_level_values(3)[0]\n",
    "θ_ls = np.rad2deg(np.arctan(1/talud))"
   ]
  },
  {
   "cell_type": "code",
   "execution_count": null,
   "metadata": {
    "collapsed": false,
    "deletable": true,
    "editable": true
   },
   "outputs": [],
   "source": [
    "%matplotlib inline\n",
    "df.loc[(talud,f,v0,h0),'hB'].plot()\n",
    "df.loc[(talud,f,v0,h0),'hB'].mean()"
   ]
  },
  {
   "cell_type": "code",
   "execution_count": null,
   "metadata": {
    "collapsed": false,
    "deletable": true,
    "editable": true
   },
   "outputs": [],
   "source": [
    "# shear stress estimates assuming Sf includes only the levee slope\n",
    "η_m = df.loc[(talud,f,v0,h0),'hB'].mean()\n",
    "τ_0_mean = eq5(γ_w,η_m,θ_ls)\n",
    "τ_0_mean"
   ]
  },
  {
   "cell_type": "code",
   "execution_count": null,
   "metadata": {
    "collapsed": false,
    "deletable": true,
    "editable": true
   },
   "outputs": [],
   "source": [
    "# shear stress estimates assuming Sf includes only the levee slope and water surface slope\n",
    "n_ix = []\n",
    "n_mu = []\n",
    "for idx in range(len(df.loc[(talud,f,v0,h0),'hB'])-1):\n",
    "    h1  = df.loc[(talud,f,v0,h0),'hB'].iloc[idx]\n",
    "    h2  = df.loc[(talud,f,v0,h0),'hB'].iloc[idx+1]\n",
    "    s1 = df.loc[(talud,f,v0,h0),'hB'][df.loc[(talud,f,v0,h0),'hB'] == h1].index[0]\n",
    "    s2 = df.loc[(talud,f,v0,h0),'hB'][df.loc[(talud,f,v0,h0),'hB'] == h2].index[0]\n",
    "    ds = s2-s1\n",
    "    \n",
    "    τ_0 = eq6(γ_w,h1,h2,θ_ls,ds)\n",
    "    \n",
    "    #print (s1,τ_0)\n",
    "    n_ix.append(s1)\n",
    "    n_mu.append(τ_0)\n",
    "s_eq6 = pd.Series(data=n_mu, index=n_ix)\n",
    "#s.interpolate(method='spline', order=3).plot()\n",
    "τ_0_mean = s_eq6.mean()\n",
    "τ_0_mean"
   ]
  },
  {
   "cell_type": "code",
   "execution_count": null,
   "metadata": {
    "collapsed": false,
    "deletable": true,
    "editable": true
   },
   "outputs": [],
   "source": [
    "# shear stress estimates assuming unsteady, non-uniform flow\n",
    "n_ix = []\n",
    "n_mu = []\n",
    "for idx in range(len(df.loc[(talud,f,v0,h0),'hB'])-1):\n",
    "    h1  = df.loc[(talud,f,v0,h0),'hB'].iloc[idx]\n",
    "    h2  = df.loc[(talud,f,v0,h0),'hB'].iloc[idx+1]\n",
    "    v1  = df.loc[(talud,f,v0,h0),'vB'].iloc[idx]\n",
    "    v2  = df.loc[(talud,f,v0,h0),'vB'].iloc[idx+1]    \n",
    "    s1 = df.loc[(talud,f,v0,h0),'hB'][df.loc[(talud,f,v0,h0),'hB'] == h1].index[0]\n",
    "    s2 = df.loc[(talud,f,v0,h0),'hB'][df.loc[(talud,f,v0,h0),'hB'] == h2].index[0]\n",
    "    ds = s2-s1\n",
    "    \n",
    "    τ_0 = eq7(γ_w,h1,h2,θ_ls,ds,g,v1,v2,dt=0.072219812002892259)\n",
    "    \n",
    "    #print (s1,τ_0)\n",
    "    n_ix.append(s1)\n",
    "    n_mu.append(τ_0)\n",
    "s_eq7= pd.Series(data=n_mu, index=n_ix)\n",
    "#s.interpolate(method='spline', order=3).plot()\n",
    "τ_0_mean = s_eq7.mean()\n",
    "τ_0_mean"
   ]
  },
  {
   "cell_type": "code",
   "execution_count": null,
   "metadata": {
    "collapsed": true,
    "deletable": true,
    "editable": true
   },
   "outputs": [],
   "source": [
    "offset = 2.7\n",
    "crestDistance_ws = 2.7 - offset\n",
    "crestDistance_hb = 2.7 - offset\n",
    "slopeDistance_hb = 5.00 - offset\n",
    "crestDistance_g = 2.55 - offset\n",
    "slopeDistance_g = 4.95 - offset #meter from start point\n",
    "toeDistanceR_ws = 9.15 - offset #meter from start point\n",
    "toeDistance_hb = 9.15 - offset\n",
    "toeDistanceR_g = 8.9 - offset\n",
    "toeDistanceL_ws = 9.20 - offset #meter from start point\n",
    "toeDistanceL_g = 9.10 - offset"
   ]
  },
  {
   "cell_type": "code",
   "execution_count": null,
   "metadata": {
    "collapsed": true,
    "deletable": true,
    "editable": true
   },
   "outputs": [],
   "source": [
    "import matplotlib.pyplot as plt"
   ]
  },
  {
   "cell_type": "code",
   "execution_count": null,
   "metadata": {
    "collapsed": false,
    "deletable": true,
    "editable": true
   },
   "outputs": [],
   "source": [
    "# FIGURE 15\n",
    "talud = 1.8\n",
    "f = 0.02\n",
    "#v0 = v0\n",
    "#h0 = h0\n",
    "\n",
    "fig, axes = plt.subplots(nrows=1, ncols=2, figsize=(12,3))\n",
    "\n",
    "df.loc[(talud,f,v0,h0),'vB'].plot(ax=axes[0], color='k') # talud, f, v0, h0\n",
    "#df.loc[(talud,f,v0,h0),'vB'].plot(ax=axes[0]) # talud, f, v0, h0\n",
    "axes[0].set_ylabel('overtopping velocity vB (m/s)')\n",
    "axes[0].set_xlabel('landward slope sB (m)')\n",
    "axes[0].set_xlim(-0.5,15)\n",
    "axes[0].set_ylim(0,10)\n",
    "axes[0].grid(True)\n",
    "axes[0].scatter(np.repeat(crestDistance_ws, peak_velocity_crestws_WIV_VI.size),peak_velocity_crestws_WIV_VI, marker='s', color='purple', label='crest water surface', zorder=20)\n",
    "axes[0].scatter(np.repeat(crestDistance_g, peak_velocity_crestg_WIV_VI.size),peak_velocity_crestg_WIV_VI, marker='^', facecolors='None',edgecolors='purple', label='crest ground', zorder=20)\n",
    "axes[0].scatter(np.repeat(slopeDistance_g, peak_velocity_slopeg_WIV_VI.size),peak_velocity_slopeg_WIV_VI, marker='^', facecolors='None',edgecolors='magenta', label='slope ground', zorder=20)\n",
    "axes[0].scatter(np.repeat(toeDistanceR_ws, peak_velocity_toeRws_WIV_VI.size),peak_velocity_toeRws_WIV_VI, marker='s', color='brown', label='toe R water surface', zorder=20)\n",
    "axes[0].scatter(np.repeat(toeDistanceR_g, peak_velocity_toeRg_WIV_VI.size),peak_velocity_toeRg_WIV_VI, marker='^', facecolors='None',edgecolors='brown', label='toe R ground', zorder=20)\n",
    "\n",
    "vLi = mlines.Line2D([],[],color='k',label='Predicted velocity')\n",
    "vG = mlines.Line2D([],[],markerfacecolor='None', markeredgecolor='k', lw=0,marker='^',label='Measured velocity at ground')\n",
    "vWS = mlines.Line2D([],[],color='k', lw=0,marker='s',label='Measured velocity at water surface')\n",
    "leg = axes[0].legend(handles=[vLi,vG, vWS],frameon=True, loc=4,)\n",
    "leg.get_frame().set_linewidth(0.4)\n",
    "#leg.get_frame().set_edgecolor('k')\n",
    "leg.get_frame().set_alpha(1.0)\n",
    "#axes[0].legend([\"h0=0.02m\", \"h0=0.05m\",\"h0=0.10m\",\"h0=0.50m\"]);\n",
    "#plt.show()\n",
    "\n",
    "df.loc[(talud,f,v0,h0),'hB'].plot(ax=axes[1], color='k')\n",
    "#df.loc[(talud,f,v0,0.05),'hB'].plot(ax=axes[1]) # talud, f, v0, h0\n",
    "axes[1].set_ylabel('layer thickness hB (m)')\n",
    "axes[1].set_xlabel('landward slope sB (m)')\n",
    "axes[1].set_xlim(-0.5,15)\n",
    "axes[1].set_ylim(0,0.4)\n",
    "axes[1].grid(True)\n",
    "axes[1].scatter(np.repeat(crestDistance_hb, peak_thickness_crest_WIV_VI.size),peak_thickness_crest_WIV_VI, marker='*', color='blue', label='crest height', zorder=20)\n",
    "axes[1].scatter(np.repeat(slopeDistance_hb, peak_thickness_slope_WIV_VI.size),peak_thickness_slope_WIV_VI, marker='*', color='blue', label='slope height', zorder=20)\n",
    "axes[1].scatter(np.repeat(toeDistance_hb  , peak_thickness_toe_WIV_VI.size  ),peak_thickness_toe_WIV_VI,   marker='*', color='blue', label='toe height',   zorder=20)\n",
    "vLi = mlines.Line2D([],[],color='k',label='Predicted layer thickness')\n",
    "vL = mlines.Line2D([],[],markerfacecolor='blue', markeredgecolor='blue', lw=0,marker='*',label='Measured layer thickness')\n",
    "leg = axes[1].legend(handles=[vLi, vL],frameon=True, loc=1,)\n",
    "leg.get_frame().set_linewidth(0.4)\n",
    "leg.get_frame().set_alpha(1.0)\n",
    "\n",
    "fig.suptitle('q=1000l/m  talud=1:'+str(talud)+'  f='+str(f)+'  v0='+str(v0)+'m/s (water surface) h0='+str(h0)+'m', y=1.03, x=0.5)\n",
    "#plt.show()\n",
    "fig.tight_layout()\n",
    "#fig.savefig(r'D:\\Projects\\Pr\\3517.10\\Werkfolder\\plots\\2017-07-07//vsMetingen_q-1000lt-'+str(talud)+'_f-'+str(f)+'_v0_ws-'+str(v0)+'_h0-'+str(h0)+'.png', dpi=300, bbox_inches='tight' )"
   ]
  },
  {
   "cell_type": "code",
   "execution_count": null,
   "metadata": {
    "collapsed": true,
    "deletable": true,
    "editable": true
   },
   "outputs": [],
   "source": []
  },
  {
   "cell_type": "code",
   "execution_count": null,
   "metadata": {
    "collapsed": true,
    "deletable": true,
    "editable": true
   },
   "outputs": [],
   "source": []
  },
  {
   "cell_type": "code",
   "execution_count": null,
   "metadata": {
    "collapsed": false,
    "deletable": true,
    "editable": true
   },
   "outputs": [],
   "source": [
    "s_eq6.interpolate(method='spline', order=3).plot()\n",
    "#s_eq6.plot(interpolate(method='spline', order=3).plot()\n",
    "#s_eq7.interpolate(method='spline', order=3).plot()"
   ]
  },
  {
   "cell_type": "code",
   "execution_count": null,
   "metadata": {
    "collapsed": false,
    "deletable": true,
    "editable": true
   },
   "outputs": [],
   "source": [
    "df.loc[(talud,f,v0,h0),'hB'].plot()"
   ]
  },
  {
   "cell_type": "code",
   "execution_count": null,
   "metadata": {
    "collapsed": false,
    "deletable": true,
    "editable": true
   },
   "outputs": [],
   "source": [
    "df.loc[(talud,f,v0,h0),'vB'].plot()"
   ]
  },
  {
   "cell_type": "code",
   "execution_count": null,
   "metadata": {
    "collapsed": true,
    "deletable": true,
    "editable": true
   },
   "outputs": [],
   "source": []
  }
 ],
 "metadata": {
  "kernelspec": {
   "display_name": "Python 3",
   "language": "python",
   "name": "python3"
  },
  "language_info": {
   "codemirror_mode": {
    "name": "ipython",
    "version": 3
   },
   "file_extension": ".py",
   "mimetype": "text/x-python",
   "name": "python",
   "nbconvert_exporter": "python",
   "pygments_lexer": "ipython3",
   "version": "3.5.2"
  }
 },
 "nbformat": 4,
 "nbformat_minor": 2
}
