{
 "cells": [
  {
   "cell_type": "markdown",
   "metadata": {},
   "source": [
    "## plausibiliteit op basis vanuit neerslag gevens in bui-bestanden en waterstanden en afvoeren in opgeslagen in his-bestanden"
   ]
  },
  {
   "cell_type": "markdown",
   "metadata": {},
   "source": [
    "Deze notebook bevat informatie hoe het mogelijk is om .his- en .bui-bestanden uit te lezen binnen Python en op welke manier hieruit de plausibiliteitsuit af te leiden. Een aantal functies worden hierbij toegelicht. Waarbij elke functie in detail is beschreven in de toebehorende `docstring`."
   ]
  },
  {
   "cell_type": "code",
   "execution_count": 87,
   "metadata": {},
   "outputs": [],
   "source": [
    "import hkvsobekpy as hkv\n",
    "import geopandas as gpd\n",
    "import os"
   ]
  },
  {
   "cell_type": "markdown",
   "metadata": {},
   "source": [
    "Ook bepalen we de input bestanden."
   ]
  },
  {
   "cell_type": "code",
   "execution_count": 88,
   "metadata": {},
   "outputs": [],
   "source": [
    "bui_file = r'C:\\TOOL_waterstandstatistiek\\hkvsobekpy\\Data\\input\\Plausib_boezem\\T100St2.bui'\n",
    "his_folder = r'C:\\TOOL_waterstandstatistiek\\hkvsobekpy\\Data\\input\\Plausib_boezem'\n",
    "shp_file = r'C:\\TOOL_waterstandstatistiek\\hkvsobekpy\\Data\\input\\Plausib_boezem\\Sbk_FGrPt_n.shp'"
   ]
  },
  {
   "cell_type": "markdown",
   "metadata": {},
   "source": [
    "Naast het .his-bestand is er een .shp-bestand gedefinieerd met een bijbehorende .dbf-bestand. De kolom met naam van his-file, locatie en parameter die hierin staan gedefinieerd worden gebruikt voor het inlezen van de periode in een his-bestand. \n",
    "Het is daarom van belang dat deze namen correct zijn. \n",
    "\n",
    "De shp-file kunnen we als volgt inlezen naar een `GeoDataFrame` en vervolgens plotten in figuur (de `shp`) en tabel (de `dbf`)"
   ]
  },
  {
   "cell_type": "code",
   "execution_count": 89,
   "metadata": {},
   "outputs": [
    {
     "data": {
      "text/plain": [
       "<matplotlib.axes._subplots.AxesSubplot at 0xad90160>"
      ]
     },
     "execution_count": 89,
     "metadata": {},
     "output_type": "execute_result"
    },
    {
     "data": {
      "image/png": "[encoded data removed]",
      "text/plain": [
       "<matplotlib.figure.Figure at 0xad84eb8>"
      ]
     },
     "metadata": {},
     "output_type": "display_data"
    }
   ],
   "source": [
    "gdf = gpd.read_file(shp_file)\n",
    "gdf.plot()"
   ]
  },
  {
   "cell_type": "code",
   "execution_count": 90,
   "metadata": {},
   "outputs": [
    {
     "data": {
      "text/html": [
       "<div>\n",
       "<style scoped>\n",
       "    .dataframe tbody tr th:only-of-type {\n",
       "        vertical-align: middle;\n",
       "    }\n",
       "\n",
       "    .dataframe tbody tr th {\n",
       "        vertical-align: top;\n",
       "    }\n",
       "\n",
       "    .dataframe thead th {\n",
       "        text-align: right;\n",
       "    }\n",
       "</style>\n",
       "<table border=\"1\" class=\"dataframe\">\n",
       "  <thead>\n",
       "    <tr style=\"text-align: right;\">\n",
       "      <th></th>\n",
       "      <th>ID________</th>\n",
       "      <th>NAME______</th>\n",
       "      <th>TYPE______</th>\n",
       "      <th>PARENTID__</th>\n",
       "      <th>USERID____</th>\n",
       "      <th>X_________</th>\n",
       "      <th>Y_________</th>\n",
       "      <th>Z_________</th>\n",
       "      <th>COLOR_____</th>\n",
       "      <th>HIS_FILE</th>\n",
       "      <th>LOCATIES</th>\n",
       "      <th>PARAMETERS</th>\n",
       "      <th>geometry</th>\n",
       "    </tr>\n",
       "  </thead>\n",
       "  <tbody>\n",
       "    <tr>\n",
       "      <th>0</th>\n",
       "      <td>calc_1</td>\n",
       "      <td>0.000000000000000</td>\n",
       "      <td>Flow - Fixed Calculation Point</td>\n",
       "      <td>SBK_GRIDPOINTFIXED</td>\n",
       "      <td>None</td>\n",
       "      <td>80423.3177</td>\n",
       "      <td>454347.0958</td>\n",
       "      <td>0.0</td>\n",
       "      <td>8388863.0</td>\n",
       "      <td>calcpnt</td>\n",
       "      <td>calc_1</td>\n",
       "      <td>Waterlevel mean (m AD</td>\n",
       "      <td>POINT (80423.31770760076 454347.0958134211)</td>\n",
       "    </tr>\n",
       "    <tr>\n",
       "      <th>1</th>\n",
       "      <td>calc_2</td>\n",
       "      <td>0.000000000000000</td>\n",
       "      <td>Flow - Fixed Calculation Point</td>\n",
       "      <td>SBK_GRIDPOINTFIXED</td>\n",
       "      <td>None</td>\n",
       "      <td>80427.9324</td>\n",
       "      <td>454338.2494</td>\n",
       "      <td>0.0</td>\n",
       "      <td>8388863.0</td>\n",
       "      <td>calcpnt</td>\n",
       "      <td>calc_2</td>\n",
       "      <td>Waterlevel mean (m AD</td>\n",
       "      <td>POINT (80427.93243372995 454338.249407015)</td>\n",
       "    </tr>\n",
       "    <tr>\n",
       "      <th>2</th>\n",
       "      <td>calc_4</td>\n",
       "      <td>24.699999999999999</td>\n",
       "      <td>Flow - Fixed Calculation Point</td>\n",
       "      <td>SBK_GRIDPOINTFIXED</td>\n",
       "      <td>None</td>\n",
       "      <td>81859.9993</td>\n",
       "      <td>456551.2446</td>\n",
       "      <td>0.0</td>\n",
       "      <td>8388863.0</td>\n",
       "      <td>reachseg</td>\n",
       "      <td>1</td>\n",
       "      <td>Waterlevel slope mea</td>\n",
       "      <td>POINT (81859.99928651037 456551.244560369)</td>\n",
       "    </tr>\n",
       "    <tr>\n",
       "      <th>3</th>\n",
       "      <td>calc_6</td>\n",
       "      <td>27.000000000000000</td>\n",
       "      <td>Flow - Fixed Calculation Point</td>\n",
       "      <td>SBK_GRIDPOINTFIXED</td>\n",
       "      <td>None</td>\n",
       "      <td>82463.6157</td>\n",
       "      <td>456893.4409</td>\n",
       "      <td>0.0</td>\n",
       "      <td>8388863.0</td>\n",
       "      <td>reachseg</td>\n",
       "      <td>1</td>\n",
       "      <td>Discharge mean(m3/s)</td>\n",
       "      <td>POINT (82463.61574971193 456893.440922661)</td>\n",
       "    </tr>\n",
       "  </tbody>\n",
       "</table>\n",
       "</div>"
      ],
      "text/plain": [
       "  ID________          NAME______                      TYPE______  \\\n",
       "0     calc_1   0.000000000000000  Flow - Fixed Calculation Point   \n",
       "1     calc_2   0.000000000000000  Flow - Fixed Calculation Point   \n",
       "2     calc_4  24.699999999999999  Flow - Fixed Calculation Point   \n",
       "3     calc_6  27.000000000000000  Flow - Fixed Calculation Point   \n",
       "\n",
       "           PARENTID__ USERID____  X_________   Y_________  Z_________  \\\n",
       "0  SBK_GRIDPOINTFIXED       None  80423.3177  454347.0958         0.0   \n",
       "1  SBK_GRIDPOINTFIXED       None  80427.9324  454338.2494         0.0   \n",
       "2  SBK_GRIDPOINTFIXED       None  81859.9993  456551.2446         0.0   \n",
       "3  SBK_GRIDPOINTFIXED       None  82463.6157  456893.4409         0.0   \n",
       "\n",
       "   COLOR_____  HIS_FILE LOCATIES             PARAMETERS  \\\n",
       "0   8388863.0   calcpnt   calc_1  Waterlevel mean (m AD   \n",
       "1   8388863.0   calcpnt   calc_2  Waterlevel mean (m AD   \n",
       "2   8388863.0  reachseg        1   Waterlevel slope mea   \n",
       "3   8388863.0  reachseg        1   Discharge mean(m3/s)   \n",
       "\n",
       "                                      geometry  \n",
       "0  POINT (80423.31770760076 454347.0958134211)  \n",
       "1   POINT (80427.93243372995 454338.249407015)  \n",
       "2   POINT (81859.99928651037 456551.244560369)  \n",
       "3   POINT (82463.61574971193 456893.440922661)  "
      ]
     },
     "execution_count": 90,
     "metadata": {},
     "output_type": "execute_result"
    }
   ],
   "source": [
    "gdf.head()"
   ]
  },
  {
   "cell_type": "markdown",
   "metadata": {},
   "source": [
    "Te zien is dat de dbf behorende bij de shapefile heeft de kolom `his_file` met daarin de namen van de daarbij behorende his-file. In de `locaties` kolom staan de locaties of interest en in de kolom `parameters` staan de parameter welke van belang is. \n",
    "\n",
    "Deze drie koloms worden als shp_key gedefineerd:"
   ]
  },
  {
   "cell_type": "code",
   "execution_count": 91,
   "metadata": {},
   "outputs": [],
   "source": [
    "shp_hiskey = 'HIS_FILE'\n",
    "shp_locationkey = 'LOCATIES'\n",
    "shp_parameterkey = 'PARAMETERS'"
   ]
  },
  {
   "cell_type": "markdown",
   "metadata": {},
   "source": [
    "Voor demo doeleinden werken we verder met de eigenschappen van deze keys voor regel 2"
   ]
  },
  {
   "cell_type": "code",
   "execution_count": 92,
   "metadata": {},
   "outputs": [
    {
     "name": "stdout",
     "output_type": "stream",
     "text": [
      " his_file : reachseg\n",
      " location : 1\n",
      " parameter : Waterlevel slope mea\n"
     ]
    }
   ],
   "source": [
    "row = 2\n",
    "his_file = gdf[shp_hiskey].iloc[row]\n",
    "location = gdf[shp_locationkey].iloc[row]\n",
    "parameter = gdf[shp_parameterkey].iloc[row]\n",
    "\n",
    "# selection of location and parameter through `read_his`\n",
    "# hkv.read_his.LeesMetadata(os.path.join(his_folder,'{0}.his'.format(his_file)))\n",
    "# parameter = hkv.read_his.KrijgParameters()[0]\n",
    "# locatie = hkv.read_his.KrijgLokaties()[40]\n",
    "\n",
    "print(' his_file : {0}\\n location : {1}\\n parameter : {2}'.format(his_file, location, parameter))"
   ]
  },
  {
   "cell_type": "markdown",
   "metadata": {},
   "source": [
    "Met de volgende commando kunnen we vervolgens een series uitlezen uit dit gedefineerde his-bestand"
   ]
  },
  {
   "cell_type": "code",
   "execution_count": 93,
   "metadata": {
    "scrolled": false
   },
   "outputs": [
    {
     "data": {
      "text/html": [
       "<div>\n",
       "<style scoped>\n",
       "    .dataframe tbody tr th:only-of-type {\n",
       "        vertical-align: middle;\n",
       "    }\n",
       "\n",
       "    .dataframe tbody tr th {\n",
       "        vertical-align: top;\n",
       "    }\n",
       "\n",
       "    .dataframe thead tr th {\n",
       "        text-align: left;\n",
       "    }\n",
       "</style>\n",
       "<table border=\"1\" class=\"dataframe\">\n",
       "  <thead>\n",
       "    <tr>\n",
       "      <th>location</th>\n",
       "      <th>1</th>\n",
       "    </tr>\n",
       "    <tr>\n",
       "      <th>parameter</th>\n",
       "      <th>Waterlevel slope mea</th>\n",
       "    </tr>\n",
       "  </thead>\n",
       "  <tbody>\n",
       "    <tr>\n",
       "      <th>1950-01-01 00:00:00</th>\n",
       "      <td>-999.999023</td>\n",
       "    </tr>\n",
       "    <tr>\n",
       "      <th>1950-01-01 00:15:00</th>\n",
       "      <td>-999.999023</td>\n",
       "    </tr>\n",
       "    <tr>\n",
       "      <th>1950-01-01 00:30:00</th>\n",
       "      <td>-999.999023</td>\n",
       "    </tr>\n",
       "    <tr>\n",
       "      <th>1950-01-01 00:45:00</th>\n",
       "      <td>-999.999023</td>\n",
       "    </tr>\n",
       "    <tr>\n",
       "      <th>1950-01-01 01:00:00</th>\n",
       "      <td>-999.999023</td>\n",
       "    </tr>\n",
       "  </tbody>\n",
       "</table>\n",
       "</div>"
      ],
      "text/plain": [
       "location                               1\n",
       "parameter           Waterlevel slope mea\n",
       "1950-01-01 00:00:00          -999.999023\n",
       "1950-01-01 00:15:00          -999.999023\n",
       "1950-01-01 00:30:00          -999.999023\n",
       "1950-01-01 00:45:00          -999.999023\n",
       "1950-01-01 01:00:00          -999.999023"
      ]
     },
     "execution_count": 93,
     "metadata": {},
     "output_type": "execute_result"
    }
   ],
   "source": [
    "df_his = hkv.plausibility.read_his_series(his_file=his_file,\n",
    "                                          location=location,\n",
    "                                          parameter=parameter,\n",
    "                                          his_folder=his_folder)\n",
    "df_his.head()"
   ]
  },
  {
   "cell_type": "markdown",
   "metadata": {},
   "source": [
    "Informatie in het bui-bestand kunnen we op de volgende manier inlezen."
   ]
  },
  {
   "cell_type": "code",
   "execution_count": 94,
   "metadata": {},
   "outputs": [
    {
     "data": {
      "text/plain": [
       "<matplotlib.axes._subplots.AxesSubplot at 0xca44c88>"
      ]
     },
     "execution_count": 94,
     "metadata": {},
     "output_type": "execute_result"
    },
    {
     "data": {
      "image/png": "[encoded data removed]",
      "text/plain": [
       "<matplotlib.figure.Figure at 0xac01b70>"
      ]
     },
     "metadata": {},
     "output_type": "display_data"
    }
   ],
   "source": [
    "# parse bui-file to pandas dataframe\n",
    "df_bui = hkv.read_bui(bui_file)\n",
    "\n",
    "# location to query\n",
    "bui_location = 'De Bilt'\n",
    "# yyyy-mm-dd:yyyy-mm-dd\n",
    "df_bui.loc['1950-01-01':'1950-01-08',bui_location].plot()"
   ]
  },
  {
   "cell_type": "markdown",
   "metadata": {},
   "source": [
    "Het resultaat is een DataFrame met in de kolommen de neerslag in mm voor de stations en in de rijen de waarnemingstijdstappen"
   ]
  },
  {
   "cell_type": "markdown",
   "metadata": {},
   "source": [
    "Om een combinatie plot te maken van bui-bestand en een his-bestand is het allereerst van belang om een aantal eigenschappen in te lezen."
   ]
  },
  {
   "cell_type": "code",
   "execution_count": 95,
   "metadata": {},
   "outputs": [],
   "source": [
    "bui_locations = ['De Bilt','Verdamping','De Bilt Test']\n",
    "df_bui_sel, start_his, end_his, df_bui_std, df_his_std = hkv.plausibility.prepare_bui_his(df_his, df_bui, bui_locations)"
   ]
  },
  {
   "cell_type": "code",
   "execution_count": 96,
   "metadata": {},
   "outputs": [],
   "source": [
    "out_folder =r'C:\\TOOL_waterstandstatistiek\\hkvsobekpy\\Data\\output\\plausib_boezem_out'"
   ]
  },
  {
   "cell_type": "code",
   "execution_count": 97,
   "metadata": {},
   "outputs": [
    {
     "data": {
      "image/png": "[encoded data removed]",
      "text/plain": [
       "<matplotlib.figure.Figure at 0xb5dd668>"
      ]
     },
     "metadata": {},
     "output_type": "display_data"
    }
   ],
   "source": [
    "hkv.plausibility.plot_bui_his(df_his, df_bui_sel, start_his, end_his, \n",
    "                              df_bui_std, df_his_std, his_file, \n",
    "                              parameter, location, out_folder, \n",
    "                              savefigure=False)"
   ]
  },
  {
   "cell_type": "markdown",
   "metadata": {},
   "source": [
    "En in tabel formaat"
   ]
  },
  {
   "cell_type": "code",
   "execution_count": 98,
   "metadata": {},
   "outputs": [
    {
     "data": {
      "text/html": [
       "<div>\n",
       "<style scoped>\n",
       "    .dataframe tbody tr th:only-of-type {\n",
       "        vertical-align: middle;\n",
       "    }\n",
       "\n",
       "    .dataframe tbody tr th {\n",
       "        vertical-align: top;\n",
       "    }\n",
       "\n",
       "    .dataframe thead tr th {\n",
       "        text-align: left;\n",
       "    }\n",
       "</style>\n",
       "<table border=\"1\" class=\"dataframe\">\n",
       "  <thead>\n",
       "    <tr>\n",
       "      <th>location</th>\n",
       "      <th>1</th>\n",
       "      <th>De Bilt</th>\n",
       "      <th>Verdamping</th>\n",
       "      <th>De Bilt Test</th>\n",
       "    </tr>\n",
       "    <tr>\n",
       "      <th>parameter</th>\n",
       "      <th>Waterlevel slope mea</th>\n",
       "      <th>Precipitation (mm)</th>\n",
       "      <th>Precipitation (mm)</th>\n",
       "      <th>Precipitation (mm)</th>\n",
       "    </tr>\n",
       "  </thead>\n",
       "  <tbody>\n",
       "    <tr>\n",
       "      <th>1950-01-01 00:00:00</th>\n",
       "      <td>-999.999023</td>\n",
       "      <td>0.00000</td>\n",
       "      <td>0.0</td>\n",
       "      <td>0.000000</td>\n",
       "    </tr>\n",
       "    <tr>\n",
       "      <th>1950-01-01 00:15:00</th>\n",
       "      <td>-999.999023</td>\n",
       "      <td>NaN</td>\n",
       "      <td>NaN</td>\n",
       "      <td>NaN</td>\n",
       "    </tr>\n",
       "    <tr>\n",
       "      <th>1950-01-01 00:30:00</th>\n",
       "      <td>-999.999023</td>\n",
       "      <td>NaN</td>\n",
       "      <td>NaN</td>\n",
       "      <td>NaN</td>\n",
       "    </tr>\n",
       "    <tr>\n",
       "      <th>1950-01-01 00:45:00</th>\n",
       "      <td>-999.999023</td>\n",
       "      <td>NaN</td>\n",
       "      <td>NaN</td>\n",
       "      <td>NaN</td>\n",
       "    </tr>\n",
       "    <tr>\n",
       "      <th>1950-01-01 01:00:00</th>\n",
       "      <td>-999.999023</td>\n",
       "      <td>0.20691</td>\n",
       "      <td>0.0</td>\n",
       "      <td>0.248292</td>\n",
       "    </tr>\n",
       "  </tbody>\n",
       "</table>\n",
       "</div>"
      ],
      "text/plain": [
       "location                               1            De Bilt  \\\n",
       "parameter           Waterlevel slope mea Precipitation (mm)   \n",
       "1950-01-01 00:00:00          -999.999023            0.00000   \n",
       "1950-01-01 00:15:00          -999.999023                NaN   \n",
       "1950-01-01 00:30:00          -999.999023                NaN   \n",
       "1950-01-01 00:45:00          -999.999023                NaN   \n",
       "1950-01-01 01:00:00          -999.999023            0.20691   \n",
       "\n",
       "location                    Verdamping       De Bilt Test  \n",
       "parameter           Precipitation (mm) Precipitation (mm)  \n",
       "1950-01-01 00:00:00                0.0           0.000000  \n",
       "1950-01-01 00:15:00                NaN                NaN  \n",
       "1950-01-01 00:30:00                NaN                NaN  \n",
       "1950-01-01 00:45:00                NaN                NaN  \n",
       "1950-01-01 01:00:00                0.0           0.248292  "
      ]
     },
     "execution_count": 98,
     "metadata": {},
     "output_type": "execute_result"
    }
   ],
   "source": [
    "df_bui_his = hkv.plausibility.table_bui_his(df_his, df_bui_sel)\n",
    "df_bui_his.head()"
   ]
  },
  {
   "cell_type": "markdown",
   "metadata": {},
   "source": [
    "Al het bovenstaande kan ook automatsich weggeschreven worden naar de output folder. Binnen de output folder worden de afgeleide figuren weggeschreven."
   ]
  },
  {
   "cell_type": "code",
   "execution_count": 99,
   "metadata": {},
   "outputs": [
    {
     "name": "stdout",
     "output_type": "stream",
     "text": [
      "start ensemble runner\n",
      "read shp-file\n",
      "read bui-file\n"
     ]
    },
    {
     "data": {
      "application/vnd.jupyter.widget-view+json": {
       "model_id": "b91d7af1ffb34884b2cd79bc673641e9",
       "version_major": 2,
       "version_minor": 0
      },
      "text/html": [
       "<p>Failed to display Jupyter Widget of type <code>HBox</code>.</p>\n",
       "<p>\n",
       "  If you're reading this message in the Jupyter Notebook or JupyterLab Notebook, it may mean\n",
       "  that the widgets JavaScript is still loading. If this message persists, it\n",
       "  likely means that the widgets JavaScript library is either not installed or\n",
       "  not enabled. See the <a href=\"https://ipywidgets.readthedocs.io/en/stable/user_install.html\">Jupyter\n",
       "  Widgets Documentation</a> for setup instructions.\n",
       "</p>\n",
       "<p>\n",
       "  If you're reading this message in another frontend (for example, a static\n",
       "  rendering on GitHub or <a href=\"https://nbviewer.jupyter.org/\">NBViewer</a>),\n",
       "  it may mean that your frontend doesn't currently support widgets.\n",
       "</p>\n"
      ],
      "text/plain": [
       "HBox(children=(IntProgress(value=0, max=13), HTML(value='')))"
      ]
     },
     "metadata": {},
     "output_type": "display_data"
    },
    {
     "ename": "AttributeError",
     "evalue": "Parameter niet gevonden. Is het een bestaande parameter?",
     "output_type": "error",
     "traceback": [
      "\u001b[1;31m---------------------------------------------------------------------------\u001b[0m",
      "\u001b[1;31mValueError\u001b[0m                                Traceback (most recent call last)",
      "\u001b[1;32m~\\AppData\\Local\\conda\\conda\\envs\\waterstandstatistiek\\lib\\site-packages\\hkvsobekpy\\io\\his.py\u001b[0m in \u001b[0;36m_locOffset\u001b[1;34m(self, loc, var)\u001b[0m\n\u001b[0;32m    220\u001b[0m         \u001b[1;32mtry\u001b[0m\u001b[1;33m:\u001b[0m\u001b[1;33m\u001b[0m\u001b[0m\n\u001b[1;32m--> 221\u001b[1;33m             \u001b[0mvarFound\u001b[0m \u001b[1;33m=\u001b[0m \u001b[0mself\u001b[0m\u001b[1;33m.\u001b[0m\u001b[0mhisFile\u001b[0m\u001b[1;33m.\u001b[0m\u001b[0mvariabeleInfo\u001b[0m\u001b[1;33m.\u001b[0m\u001b[0mvariabelen\u001b[0m\u001b[1;33m.\u001b[0m\u001b[0mindex\u001b[0m\u001b[1;33m(\u001b[0m\u001b[0mvar\u001b[0m\u001b[1;33m)\u001b[0m\u001b[1;33m\u001b[0m\u001b[0m\n\u001b[0m\u001b[0;32m    222\u001b[0m         \u001b[1;32mexcept\u001b[0m \u001b[1;33m:\u001b[0m\u001b[1;33m\u001b[0m\u001b[0m\n",
      "\u001b[1;31mValueError\u001b[0m: 'Discharge mean(m3/s)' is not in list",
      "\nDuring handling of the above exception, another exception occurred:\n",
      "\u001b[1;31mAttributeError\u001b[0m                            Traceback (most recent call last)",
      "\u001b[1;32m<ipython-input-99-7ddae33a6902>\u001b[0m in \u001b[0;36m<module>\u001b[1;34m()\u001b[0m\n\u001b[1;32m----> 1\u001b[1;33m \u001b[0mhkv\u001b[0m\u001b[1;33m.\u001b[0m\u001b[0mplausibility\u001b[0m\u001b[1;33m.\u001b[0m\u001b[0mEnsembleRunner\u001b[0m\u001b[1;33m(\u001b[0m\u001b[0mshp_file\u001b[0m\u001b[1;33m,\u001b[0m \u001b[0mbui_file\u001b[0m\u001b[1;33m,\u001b[0m \u001b[0mhis_folder\u001b[0m\u001b[1;33m,\u001b[0m \u001b[0mout_folder\u001b[0m\u001b[1;33m,\u001b[0m \u001b[0mshp_hiskey\u001b[0m\u001b[1;33m,\u001b[0m \u001b[0mshp_locationkey\u001b[0m\u001b[1;33m,\u001b[0m \u001b[0mshp_parameterkey\u001b[0m\u001b[1;33m)\u001b[0m\u001b[1;33m\u001b[0m\u001b[0m\n\u001b[0m",
      "\u001b[1;32m~\\AppData\\Local\\conda\\conda\\envs\\waterstandstatistiek\\lib\\site-packages\\hkvsobekpy\\core\\plausibility.py\u001b[0m in \u001b[0;36mEnsembleRunner\u001b[1;34m(self, shp_file, bui_file, his_folder, out_folder, shp_hiskey, shp_locationkey, shp_parameterkey, savefigure, bui_locations, bui_locations_aantal, savetable)\u001b[0m\n\u001b[0;32m    298\u001b[0m \u001b[1;33m\u001b[0m\u001b[0m\n\u001b[0;32m    299\u001b[0m             \u001b[1;31m# read his-file\u001b[0m\u001b[1;33m\u001b[0m\u001b[1;33m\u001b[0m\u001b[0m\n\u001b[1;32m--> 300\u001b[1;33m             \u001b[0mdf_his\u001b[0m \u001b[1;33m=\u001b[0m \u001b[0mself\u001b[0m\u001b[1;33m.\u001b[0m\u001b[0mread_his_series\u001b[0m\u001b[1;33m(\u001b[0m\u001b[0mhis_file\u001b[0m\u001b[1;33m,\u001b[0m \u001b[0mlocation\u001b[0m\u001b[1;33m,\u001b[0m \u001b[0mparameter\u001b[0m\u001b[1;33m,\u001b[0m \u001b[0mhis_folder\u001b[0m\u001b[1;33m)\u001b[0m\u001b[1;33m\u001b[0m\u001b[0m\n\u001b[0m\u001b[0;32m    301\u001b[0m \u001b[1;33m\u001b[0m\u001b[0m\n\u001b[0;32m    302\u001b[0m             \u001b[1;31m# prepare files for plotting\u001b[0m\u001b[1;33m\u001b[0m\u001b[1;33m\u001b[0m\u001b[0m\n",
      "\u001b[1;32m~\\AppData\\Local\\conda\\conda\\envs\\waterstandstatistiek\\lib\\site-packages\\hkvsobekpy\\core\\plausibility.py\u001b[0m in \u001b[0;36mread_his_series\u001b[1;34m(self, his_file, location, parameter, his_folder)\u001b[0m\n\u001b[0;32m    108\u001b[0m             \u001b[0mlocation\u001b[0m\u001b[1;33m=\u001b[0m\u001b[0mlocation\u001b[0m\u001b[1;33m,\u001b[0m\u001b[1;33m\u001b[0m\u001b[0m\n\u001b[0;32m    109\u001b[0m             \u001b[0mparameter\u001b[0m\u001b[1;33m=\u001b[0m\u001b[0mparameter\u001b[0m\u001b[1;33m.\u001b[0m\u001b[0mljust\u001b[0m\u001b[1;33m(\u001b[0m\u001b[1;36m20\u001b[0m\u001b[1;33m)\u001b[0m\u001b[1;33m,\u001b[0m\u001b[1;33m\u001b[0m\u001b[0m\n\u001b[1;32m--> 110\u001b[1;33m             jaarmax_as='none')\n\u001b[0m\u001b[0;32m    111\u001b[0m         \u001b[1;32mreturn\u001b[0m \u001b[0mdf\u001b[0m\u001b[1;33m\u001b[0m\u001b[0m\n\u001b[0;32m    112\u001b[0m \u001b[1;33m\u001b[0m\u001b[0m\n",
      "\u001b[1;32m~\\AppData\\Local\\conda\\conda\\envs\\waterstandstatistiek\\lib\\site-packages\\hkvsobekpy\\io\\his.py\u001b[0m in \u001b[0;36mEnkeleWaardenArray\u001b[1;34m(self, location, parameter, startMMdd, endMMdd, jaarmax_as)\u001b[0m\n\u001b[0;32m    466\u001b[0m \u001b[1;33m\u001b[0m\u001b[0m\n\u001b[0;32m    467\u001b[0m         \u001b[1;32mwith\u001b[0m \u001b[0mopen\u001b[0m\u001b[1;33m(\u001b[0m\u001b[0mself\u001b[0m\u001b[1;33m.\u001b[0m\u001b[0mhisFile\u001b[0m\u001b[1;33m.\u001b[0m\u001b[0mhisFileName\u001b[0m\u001b[1;33m,\u001b[0m \u001b[1;34m\"rb\"\u001b[0m\u001b[1;33m)\u001b[0m \u001b[1;32mas\u001b[0m \u001b[0mf\u001b[0m\u001b[1;33m:\u001b[0m\u001b[1;33m\u001b[0m\u001b[0m\n\u001b[1;32m--> 468\u001b[1;33m             \u001b[0mvarLocOffset\u001b[0m \u001b[1;33m=\u001b[0m \u001b[0mself\u001b[0m\u001b[1;33m.\u001b[0m\u001b[0m_locOffset\u001b[0m\u001b[1;33m(\u001b[0m\u001b[0mloc\u001b[0m\u001b[1;33m,\u001b[0m \u001b[0mvar\u001b[0m\u001b[1;33m)\u001b[0m\u001b[1;33m\u001b[0m\u001b[0m\n\u001b[0m\u001b[0;32m    469\u001b[0m             \u001b[0mvalues\u001b[0m\u001b[1;33m=\u001b[0m \u001b[1;33m[\u001b[0m\u001b[1;33m]\u001b[0m\u001b[1;33m\u001b[0m\u001b[0m\n\u001b[0;32m    470\u001b[0m \u001b[1;33m\u001b[0m\u001b[0m\n",
      "\u001b[1;32m~\\AppData\\Local\\conda\\conda\\envs\\waterstandstatistiek\\lib\\site-packages\\hkvsobekpy\\io\\his.py\u001b[0m in \u001b[0;36m_locOffset\u001b[1;34m(self, loc, var)\u001b[0m\n\u001b[0;32m    221\u001b[0m             \u001b[0mvarFound\u001b[0m \u001b[1;33m=\u001b[0m \u001b[0mself\u001b[0m\u001b[1;33m.\u001b[0m\u001b[0mhisFile\u001b[0m\u001b[1;33m.\u001b[0m\u001b[0mvariabeleInfo\u001b[0m\u001b[1;33m.\u001b[0m\u001b[0mvariabelen\u001b[0m\u001b[1;33m.\u001b[0m\u001b[0mindex\u001b[0m\u001b[1;33m(\u001b[0m\u001b[0mvar\u001b[0m\u001b[1;33m)\u001b[0m\u001b[1;33m\u001b[0m\u001b[0m\n\u001b[0;32m    222\u001b[0m         \u001b[1;32mexcept\u001b[0m \u001b[1;33m:\u001b[0m\u001b[1;33m\u001b[0m\u001b[0m\n\u001b[1;32m--> 223\u001b[1;33m             \u001b[0mself\u001b[0m\u001b[1;33m.\u001b[0m\u001b[0m__errors__\u001b[0m\u001b[1;33m.\u001b[0m\u001b[0mvariabeleNotFound\u001b[0m\u001b[1;33m(\u001b[0m\u001b[1;33m)\u001b[0m\u001b[1;33m\u001b[0m\u001b[0m\n\u001b[0m\u001b[0;32m    224\u001b[0m \u001b[1;33m\u001b[0m\u001b[0m\n\u001b[0;32m    225\u001b[0m         \u001b[1;31m# Zoek de index/id van de location\u001b[0m\u001b[1;33m\u001b[0m\u001b[1;33m\u001b[0m\u001b[0m\n",
      "\u001b[1;32m~\\AppData\\Local\\conda\\conda\\envs\\waterstandstatistiek\\lib\\site-packages\\hkvsobekpy\\io\\his.py\u001b[0m in \u001b[0;36mvariabeleNotFound\u001b[1;34m()\u001b[0m\n\u001b[0;32m     67\u001b[0m         \u001b[1;33m@\u001b[0m\u001b[0mstaticmethod\u001b[0m\u001b[1;33m\u001b[0m\u001b[0m\n\u001b[0;32m     68\u001b[0m         \u001b[1;32mdef\u001b[0m \u001b[0mvariabeleNotFound\u001b[0m\u001b[1;33m(\u001b[0m\u001b[1;33m)\u001b[0m\u001b[1;33m:\u001b[0m\u001b[1;33m\u001b[0m\u001b[0m\n\u001b[1;32m---> 69\u001b[1;33m             \u001b[1;32mraise\u001b[0m \u001b[0mAttributeError\u001b[0m\u001b[1;33m(\u001b[0m\u001b[1;34m'Parameter niet gevonden. Is het een bestaande parameter?'\u001b[0m\u001b[1;33m)\u001b[0m\u001b[1;33m\u001b[0m\u001b[0m\n\u001b[0m\u001b[0;32m     70\u001b[0m         \u001b[1;33m@\u001b[0m\u001b[0mstaticmethod\u001b[0m\u001b[1;33m\u001b[0m\u001b[0m\n\u001b[0;32m     71\u001b[0m         \u001b[1;32mdef\u001b[0m \u001b[0mjaarmaxError\u001b[0m\u001b[1;33m(\u001b[0m\u001b[1;33m)\u001b[0m\u001b[1;33m:\u001b[0m\u001b[1;33m\u001b[0m\u001b[0m\n",
      "\u001b[1;31mAttributeError\u001b[0m: Parameter niet gevonden. Is het een bestaande parameter?"
     ]
    }
   ],
   "source": [
    "hkv.plausibility.EnsembleRunner(shp_file, bui_file, his_folder, out_folder, shp_hiskey, shp_locationkey, shp_parameterkey)"
   ]
  }
 ],
 "metadata": {
  "kernelspec": {
   "display_name": "Python 3",
   "language": "python",
   "name": "python3"
  },
  "language_info": {
   "codemirror_mode": {
    "name": "ipython",
    "version": 3
   },
   "file_extension": ".py",
   "mimetype": "text/x-python",
   "name": "python",
   "nbconvert_exporter": "python",
   "pygments_lexer": "ipython3",
   "version": "3.5.2"
  }
 },
 "nbformat": 4,
 "nbformat_minor": 2
}
