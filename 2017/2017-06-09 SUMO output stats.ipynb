{
 "cells": [
  {
   "cell_type": "code",
   "execution_count": 17,
   "metadata": {
    "collapsed": true
   },
   "outputs": [],
   "source": [
    "import untangle\n",
    "import pandas as pd\n",
    "%matplotlib inline"
   ]
  },
  {
   "cell_type": "code",
   "execution_count": 18,
   "metadata": {
    "collapsed": false
   },
   "outputs": [
    {
     "name": "stdout",
     "output_type": "stream",
     "text": [
      "SIWtoSIOmean: 67.65\n",
      "SIOtoSIWmean: 39.42\n",
      "SIWtoSIOmean: 81.89\n",
      "SIOtoSIWmean: 61.165\n",
      "SIWtoSIOmean: 58.833333333333336\n",
      "SIOtoSIWmean: 58.75\n",
      "SIWtoSIOmean: 49.2125\n",
      "SIOtoSIWmean: 49.0225\n",
      "SIWtoSIOmean: 40.082\n",
      "SIOtoSIWmean: 45.83\n",
      "SIWtoSIOmean: 34.75833333333333\n",
      "SIOtoSIWmean: 51.33166666666667\n",
      "SIOtoSIWmean: 48.97571428571429\n",
      "SIOtoSIWmean: 54.71125000000001\n",
      "SIOtoSIWmean: 54.001111111111115\n",
      "SIOtoSIWmean: 57.375\n",
      "SIOtoSIWmean: 52.806363636363635\n",
      "SIOtoSIWmean: 54.99666666666667\n",
      "SIOtoSIWmean: 57.41769230769231\n",
      "SIWtoSIOmean: 37.93142857142857\n",
      "SIOtoSIWmean: 59.96500000000001\n",
      "SIOtoSIWmean: 61.57933333333334\n",
      "SIWtoSIOmean: 43.871249999999996\n",
      "SIOtoSIWmean: 58.048750000000005\n",
      "SIWtoSIOmean: 47.813333333333325\n",
      "SIWtoSIOmean: 49.77199999999999\n",
      "SIOtoSIWmean: 56.83352941176471\n",
      "SIWtoSIOmean: 45.50181818181817\n",
      "SIOtoSIWmean: 55.343333333333334\n",
      "SIOtoSIWmean: 53.1\n",
      "SIWtoSIOmean: 42.21833333333333\n",
      "SIWtoSIOmean: 40.47692307692307\n",
      "SIWtoSIOmean: 38.912142857142854\n",
      "SIWtoSIOmean: 36.775999999999996\n",
      "SIOtoSIWmean: 51.081\n",
      "SIWtoSIOmean: 34.573125\n",
      "SIWtoSIOmean: 34.484117647058824\n"
     ]
    }
   ],
   "source": [
    "url = r'C:\\Users\\Hoek\\Sumo\\v0.1.2\\edgDump.xml'\n",
    "\n",
    "obj = untangle.parse(url)\n",
    "\n",
    "SIWtoSIO = []\n",
    "SIOtoSIW = []\n",
    "freqs = len(obj.meandata.interval)\n",
    "for i in range(0,freqs,2):\n",
    "    ivl = obj.meandata.interval[i]\n",
    "    try:\n",
    "        SIWtoSIO.append(float(ivl.edge[-1]['occupancy']))\n",
    "        print ('SIWtoSIOmean:',sum(SIWtoSIO) / len(SIWtoSIO))\n",
    "    except:\n",
    "        try:\n",
    "            SIOtoSIW.append(float(ivl.edge[-3]['occupancy']))\n",
    "            print ('SIOtoSIWmean:',sum(SIOtoSIW) / len(SIOtoSIW))\n",
    "        except: \n",
    "            continue\n",
    "        #SIWtoSIO.append(0)\n",
    "\n",
    "#     try:\n",
    "        \n",
    "#     except:\n",
    "#         continue\n",
    "#         #SIOtoSIW.append(0)"
   ]
  },
  {
   "cell_type": "code",
   "execution_count": 19,
   "metadata": {
    "collapsed": false
   },
   "outputs": [
    {
     "data": {
      "text/plain": [
       "34.484117647058824"
      ]
     },
     "execution_count": 19,
     "metadata": {},
     "output_type": "execute_result"
    }
   ],
   "source": [
    "pd.Series(SIWtoSIO).mean()"
   ]
  },
  {
   "cell_type": "code",
   "execution_count": 20,
   "metadata": {
    "collapsed": false
   },
   "outputs": [
    {
     "data": {
      "text/plain": [
       "51.081000000000003"
      ]
     },
     "execution_count": 20,
     "metadata": {},
     "output_type": "execute_result"
    }
   ],
   "source": [
    "pd.Series(SIOtoSIW).mean()"
   ]
  },
  {
   "cell_type": "code",
   "execution_count": null,
   "metadata": {
    "collapsed": true
   },
   "outputs": [],
   "source": []
  }
 ],
 "metadata": {
  "kernelspec": {
   "display_name": "Python 3",
   "language": "python",
   "name": "python3"
  },
  "language_info": {
   "codemirror_mode": {
    "name": "ipython",
    "version": 3
   },
   "file_extension": ".py",
   "mimetype": "text/x-python",
   "name": "python",
   "nbconvert_exporter": "python",
   "pygments_lexer": "ipython3",
   "version": "3.5.2"
  }
 },
 "nbformat": 4,
 "nbformat_minor": 2
}
