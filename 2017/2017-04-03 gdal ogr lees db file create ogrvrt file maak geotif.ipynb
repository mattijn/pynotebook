{
 "cells": [
  {
   "cell_type": "code",
   "execution_count": 1,
   "metadata": {
    "collapsed": true,
    "deletable": true,
    "editable": true
   },
   "outputs": [],
   "source": [
    "from osgeo import gdal, ogr, osr\n",
    "import glob, os, sys, time\n",
    "import subprocess as sp\n",
    "# xml realted libraries\n",
    "from xml.etree import ElementTree\n",
    "from xml.dom import minidom\n",
    "from xml.etree.ElementTree import Element, SubElement, Comment"
   ]
  },
  {
   "cell_type": "code",
   "execution_count": 2,
   "metadata": {
    "collapsed": true,
    "deletable": true,
    "editable": true
   },
   "outputs": [],
   "source": [
    "# cmd function, input is a comma separated list of items\n",
    "def cmd(command):\n",
    "    print (sp.list2cmdline(command))\n",
    "    norm = sp.Popen(sp.list2cmdline(command),stdout=sp.PIPE, shell=True).communicate()    \n",
    "    return norm"
   ]
  },
  {
   "cell_type": "code",
   "execution_count": 3,
   "metadata": {
    "collapsed": false,
    "deletable": true,
    "editable": true
   },
   "outputs": [],
   "source": [
    "def prettify(elem):\n",
    "    \"\"\"Return a pretty-printed XML string for the Element.\n",
    "    \"\"\"\n",
    "    rough_string = ElementTree.tostring(elem, 'utf-8')\n",
    "    reparsed = minidom.parseString(rough_string)\n",
    "    return reparsed.toprettyxml(indent=\"  \")\n",
    "\n",
    "def writeOGRVRT(basename, fullpath, x='field_1', y='field_2', z='field_3'):\n",
    "    top = Element('OGRVRTDataSource')\n",
    "    child = SubElement(top, 'OGRVRTLayer')\n",
    "    child.set('name', basename)\n",
    "    sub_child_1 = SubElement(child, 'SrcDataSource')\n",
    "    sub_child_1.text = fullpath\n",
    "    sub_child_2 = SubElement(child, 'GeometryType')\n",
    "    sub_child_2.text = 'wkbPoint'\n",
    "    sub_child_3 = SubElement(child, 'LayerSRS')\n",
    "    sub_child_3.text = 'EPSG:4326'\n",
    "    sub_child_4 = SubElement(child, 'GeometryField')\n",
    "    sub_child_4.set('encoding','PointFromColumns')\n",
    "    sub_child_4.set('x',x)\n",
    "    sub_child_4.set('y',y)\n",
    "    sub_child_4.set('z',z)\n",
    "\n",
    "    return prettify(top)"
   ]
  },
  {
   "cell_type": "code",
   "execution_count": 15,
   "metadata": {
    "collapsed": true,
    "deletable": true,
    "editable": true
   },
   "outputs": [],
   "source": [
    "ogr2ogr = r'C:\\Python35\\Lib\\site-packages\\osgeo//ogr2ogr.exe'\n",
    "gdalwarp = r'C:\\Python35\\Lib\\site-packages\\osgeo//gdalwarp.exe'\n",
    "gdal_rasterize = r'C:\\Python35\\Lib\\site-packages\\osgeo//gdal_rasterize.exe'\n",
    "gdal_translate = r'C:\\Python35\\Lib\\site-packages\\osgeo//gdal_translate.exe'\n",
    "gdalbuildvrt = r'C:\\Python35\\Lib\\site-packages\\osgeo//gdalbuildvrt.exe'\n",
    "gdalinfo = r'C:\\Python35\\Lib\\site-packages\\osgeo\\gdalinfo.exe'\n",
    "gdal_grid = r'C:\\Python35\\Lib\\site-packages\\osgeo\\gdal_grid.exe'\n",
    "gdal_contour = r'C:\\Python35\\Lib\\site-packages\\osgeo\\gdal_contour.exe'\n",
    "ogrinfo = r'C:\\Python35\\Lib\\site-packages\\osgeo\\ogrinfo.exe'"
   ]
  },
  {
   "cell_type": "code",
   "execution_count": 5,
   "metadata": {
    "collapsed": true,
    "deletable": true,
    "editable": true
   },
   "outputs": [],
   "source": [
    "baseDir = r'D:\\Projects\\Pr\\3412.10'\n",
    "workDir = os.path.join(baseDir,r'tmp_workdir')\n",
    "db3Path = os.path.join(baseDir, r'1489577577293.db3')"
   ]
  },
  {
   "cell_type": "code",
   "execution_count": 6,
   "metadata": {
    "collapsed": false,
    "deletable": true,
    "editable": true
   },
   "outputs": [
    {
     "name": "stdout",
     "output_type": "stream",
     "text": [
      "C:\\Python35\\Lib\\site-packages\\osgeo\\ogrinfo.exe D:\\Projects\\Pr\\3412.10\\1489577577293.db3\n",
      "INFO: Open of `D:\\Projects\\Pr\\3412.10\\1489577577293.db3'\r\n",
      "      using driver `SQLite' successful.\r\n",
      "1: IceHoles (None)\r\n",
      "2: Location (None)\r\n",
      "3: Measurement (None)\r\n",
      "4: Sonar (None)\r\n",
      "5: android_metadata (None)\r\n",
      "6: sqlite_sequence (None)\r\n",
      "\n"
     ]
    }
   ],
   "source": [
    "# request info ogr table\n",
    "cmd_out = cmd([ogrinfo, db3Path])\n",
    "print (cmd_out[0].decode(\"utf-8\") )"
   ]
  },
  {
   "cell_type": "code",
   "execution_count": 119,
   "metadata": {
    "collapsed": false,
    "deletable": true,
    "editable": true
   },
   "outputs": [
    {
     "name": "stdout",
     "output_type": "stream",
     "text": [
      "C:\\Python35\\Lib\\site-packages\\osgeo\\ogrinfo.exe D:\\Projects\\Pr\\3412.10\\1489577577293.db3 Measurement\n"
     ]
    }
   ],
   "source": [
    "# get info Measurement table\n",
    "# request info ogr table\n",
    "cmd_out = cmd([ogrinfo, db3Path,\"Measurement\"])\n",
    "#print (cmd_out[0].decode(\"utf-8\") )"
   ]
  },
  {
   "cell_type": "code",
   "execution_count": 120,
   "metadata": {
    "collapsed": false,
    "deletable": true,
    "editable": true
   },
   "outputs": [],
   "source": [
    "# create unique ID based on modified time when point-db-file is uploaded\n",
    "tmod = os.path.getmtime(db3Path)            \n",
    "t = time.strftime('%Y%m%d%H%M%S', time.localtime(int(tmod)))\n",
    "# db3 file table to look at is 'Measurement'"
   ]
  },
  {
   "cell_type": "code",
   "execution_count": 121,
   "metadata": {
    "collapsed": true,
    "deletable": true,
    "editable": true
   },
   "outputs": [],
   "source": [
    "# import base64\n",
    "# import uuid\n",
    "\n",
    "# # get a UUID - URL safe, Base64\n",
    "# def get_a_uuid():\n",
    "#     r_uuid = base64.urlsafe_b64encode(uuid.uuid4().bytes)\n",
    "#     return r_uuid.decode('utf-8').replace('=','')\n",
    "# get_a_uuid()"
   ]
  },
  {
   "cell_type": "code",
   "execution_count": 122,
   "metadata": {
    "collapsed": false,
    "deletable": true,
    "editable": true
   },
   "outputs": [
    {
     "name": "stdout",
     "output_type": "stream",
     "text": [
      "<?xml version=\"1.0\" ?>\n",
      "<OGRVRTDataSource>\n",
      "  <OGRVRTLayer name=\"Measurement\">\n",
      "    <SrcDataSource>D:\\Projects\\Pr\\3412.10\\1489577577293.db3</SrcDataSource>\n",
      "    <GeometryType>wkbPoint</GeometryType>\n",
      "    <LayerSRS>EPSG:4326</LayerSRS>\n",
      "    <GeometryField encoding=\"PointFromColumns\" x=\"longitude\" y=\"latitude\" z=\"depth\"/>\n",
      "  </OGRVRTLayer>\n",
      "</OGRVRTDataSource>\n",
      "\n"
     ]
    }
   ],
   "source": [
    "# 2 build OGRVRT from CSV file\n",
    "b = os.path.join(workDir,t+'.vrt')\n",
    "with open(b, 'w') as the_file:\n",
    "    the_file.write(writeOGRVRT(basename='Measurement',fullpath=db3Path,x='longitude',y='latitude',z='depth'))\n",
    "\n",
    "# what is written?    \n",
    "print(writeOGRVRT(basename='Measurement',fullpath=db3Path,x='longitude',y='latitude',z='depth'))"
   ]
  },
  {
   "cell_type": "code",
   "execution_count": 123,
   "metadata": {
    "collapsed": false,
    "deletable": true,
    "editable": true
   },
   "outputs": [
    {
     "name": "stdout",
     "output_type": "stream",
     "text": [
      "C:\\Python35\\Lib\\site-packages\\osgeo\\gdal_grid.exe -clipsrc \"POLYGON((5.598607063293457 52.948172441749286, 5.6000661849975595 52.947888001813055, 5.600194931030274 52.94729325772072, 5.5998945236206055 52.94623304144963, 5.5989933013916025 52.94556069571643, 5.597491264343263 52.94540553752482, 5.595645904541016 52.94574171290331, 5.595088005065919 52.947163964444705, 5.59680461883545 52.94700881200339, 5.597577095031739 52.94662092846549, 5.598478317260742 52.94690537673336, 5.597662925720216 52.947577701567695, 5.597105026245117 52.94850859562616, 5.598607063293457 52.948172441749286)),4326\" D:\\Projects\\Pr\\3412.10\\tmp_workdir\\20170315195157.vrt D:\\Projects\\Pr\\3412.10\\tmp_workdir\\20170315195157grid_new1.tif\n"
     ]
    },
    {
     "data": {
      "text/plain": [
       "(b'Grid data type is \"Float64\"\\r\\nGrid size = (256 256).\\r\\nCorner coordinates = (5.597136 52.947836)-(5.600158 52.945427).\\r\\nGrid cell size = (0.000012 0.000009).\\r\\nSource point count = 388.\\r\\nAlgorithm name: \"invdist\".\\r\\nOptions are \"power=2.000000:smoothing=0.000000:radius1=0.000000:radius2=0.000000:angle=0.000000:max_points=0:min_points=0:nodata=0.000000\"\\r\\n\\r\\n0...10...20...30...40...50...60...70...80...90...100 - done.\\r\\n',\n",
       " None)"
      ]
     },
     "execution_count": 123,
     "metadata": {},
     "output_type": "execute_result"
    }
   ],
   "source": [
    "wktString = r\"POLYGON((5.598607063293457 52.948172441749286, 5.6000661849975595 52.947888001813055, 5.600194931030274 52.94729325772072, 5.5998945236206055 52.94623304144963, 5.5989933013916025 52.94556069571643, 5.597491264343263 52.94540553752482, 5.595645904541016 52.94574171290331, 5.595088005065919 52.947163964444705, 5.59680461883545 52.94700881200339, 5.597577095031739 52.94662092846549, 5.598478317260742 52.94690537673336, 5.597662925720216 52.947577701567695, 5.597105026245117 52.94850859562616, 5.598607063293457 52.948172441749286)),4326\"\n",
    "c = os.path.join(workDir,t+'grid_new1.tif')\n",
    "cmd([gdal_grid,'-clipsrc',wktString,b,c])"
   ]
  },
  {
   "cell_type": "code",
   "execution_count": 124,
   "metadata": {
    "collapsed": false,
    "deletable": true,
    "editable": true
   },
   "outputs": [
    {
     "name": "stdout",
     "output_type": "stream",
     "text": [
      "C:\\Python35\\Lib\\site-packages\\osgeo//ogr2ogr.exe -f GeoJSON D:\\Projects\\Pr\\3412.10\\tmp_workdir\\20170315195157pts.json D:\\Projects\\Pr\\3412.10\\tmp_workdir\\20170315195157.vrt\n"
     ]
    },
    {
     "data": {
      "text/plain": [
       "(b'', None)"
      ]
     },
     "execution_count": 124,
     "metadata": {},
     "output_type": "execute_result"
    }
   ],
   "source": [
    "# db3-points to GeoJSON-points\n",
    "d = os.path.join(workDir,t+'pts.json')\n",
    "cmd([ogr2ogr, '-f','GeoJSON',d,b])"
   ]
  },
  {
   "cell_type": "code",
   "execution_count": 125,
   "metadata": {
    "collapsed": false,
    "deletable": true,
    "editable": true
   },
   "outputs": [
    {
     "name": "stdout",
     "output_type": "stream",
     "text": [
      "C:\\Python35\\Lib\\site-packages\\osgeo//gdalwarp.exe -cutline D:\\Projects\\Pr\\3412.10\\leaflet_draw\\clip_indijk.geojson -crop_to_cutline -dstalpha -dstnodata -999 D:\\Projects\\Pr\\3412.10\\tmp_workdir\\20170315195157grid_new1.tif D:\\Projects\\Pr\\3412.10\\tmp_workdir\\20170315195157grid_cutline3.tif\n"
     ]
    },
    {
     "data": {
      "text/plain": [
       "(b'', None)"
      ]
     },
     "execution_count": 125,
     "metadata": {},
     "output_type": "execute_result"
    }
   ],
   "source": [
    "polygonPath  = os.path.join(baseDir, r'leaflet_draw','clip_indijk.geojson')\n",
    "e = os.path.join(workDir,t+'grid_cutline3.tif')\n",
    "cmd([gdalwarp,'-cutline', polygonPath,'-crop_to_cutline','-dstalpha','-dstnodata','-999',c,e])"
   ]
  },
  {
   "cell_type": "code",
   "execution_count": null,
   "metadata": {
    "collapsed": true,
    "deletable": true,
    "editable": true
   },
   "outputs": [],
   "source": []
  }
 ],
 "metadata": {
  "kernelspec": {
   "display_name": "Python 3",
   "language": "python",
   "name": "python3"
  },
  "language_info": {
   "codemirror_mode": {
    "name": "ipython",
    "version": 3
   },
   "file_extension": ".py",
   "mimetype": "text/x-python",
   "name": "python",
   "nbconvert_exporter": "python",
   "pygments_lexer": "ipython3",
   "version": "3.5.2"
  }
 },
 "nbformat": 4,
 "nbformat_minor": 2
}
