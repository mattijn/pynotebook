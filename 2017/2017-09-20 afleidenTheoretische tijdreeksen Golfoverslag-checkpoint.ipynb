{
 "cells": [
  {
   "cell_type": "code",
   "execution_count": null,
   "metadata": {
    "collapsed": false,
    "deletable": true,
    "editable": true
   },
   "outputs": [],
   "source": [
    "import io\n",
    "import os\n",
    "import nbformat\n",
    "%matplotlib inline\n",
    "from nbformat import current\n",
    "def execute_notebook(nbfile):\n",
    "    \n",
    "    with io.open(nbfile) as f:\n",
    "        nb = current.read(f, 'json')\n",
    "    \n",
    "    ip = get_ipython()\n",
    "    \n",
    "    for cell in nb.worksheets[0].cells:\n",
    "        if cell.cell_type != 'code':\n",
    "            continue\n",
    "        ip.run_cell(cell.input)"
   ]
  },
  {
   "cell_type": "code",
   "execution_count": null,
   "metadata": {
    "collapsed": false,
    "deletable": true,
    "editable": true
   },
   "outputs": [],
   "source": [
    "execute_notebook('inlezengolven.ipynb')"
   ]
  },
  {
   "cell_type": "code",
   "execution_count": null,
   "metadata": {
    "collapsed": false,
    "deletable": true,
    "editable": true
   },
   "outputs": [],
   "source": [
    "execute_notebook('golvenfuncties.ipynb')"
   ]
  },
  {
   "cell_type": "code",
   "execution_count": null,
   "metadata": {
    "collapsed": false,
    "deletable": true,
    "editable": true
   },
   "outputs": [],
   "source": [
    "basedir = r'D:\\Projects\\Pr\\3517.10\\Werkfolder\\2017-09-07_tijdreeksen'\n",
    "\n",
    "regimes = ['hs0_4_1lsm_2uur','hs0_6_5lsm_2uur','hs0_8_10lsm_2uur','hs0_8_10lsm_2uur','hs1_2_25lsm_2uur','hs1_4_50lsm_2uur']\n",
    "from tqdm import tnrange, tqdm_notebook\n",
    "\n",
    "for regime in tqdm_notebook(regimes):\n",
    "    print (regime)\n",
    "    \n",
    "    regime_file = os.path.join(basedir,regime+'.csv')\n",
    "    hs = pd.read_csv(regime_file)\n",
    "\n",
    "    wave='golf500-3500'\n",
    "    nameH='laagdikte'\n",
    "    nameV='snelheid' \n",
    "    locatie='kruin'\n",
    "    hoogteV='oppervlakte'\n",
    "    dfH_kruin2 = waves2average(dfH_kruin, name=nameH, plot=False)\n",
    "    dfV_kruinopp2 = waves2average(dfV_kruinopp, name=nameV+'_'+hoogteV, plot=False)\n",
    "    df_all = interpolate2allseries4file(dfH_kruin2, dfV_kruinopp2, hs,stepsize, wave=wave,nameH=nameH, nameV=nameV, \n",
    "                                   hoogteV=hoogteV, locatie=locatie)\n",
    "\n",
    "    out_file = os.path.join(basedir,'afgeleiden',regime+'_'+hoogteV+'_'+locatie+'_3.csv')\n",
    "    df_all.to_csv(out_file, header=True,index=True)\n",
    "\n",
    "    hoogteV='bodem'\n",
    "    dfV_kruinbdm2 = waves2average(dfV_kruinbdm, name=nameV+'_'+hoogteV, plot=False)\n",
    "    df_all = interpolate2allseries4file(dfH_kruin2, dfV_kruinbdm2, hs,stepsize, wave=wave,nameH=nameH, nameV=nameV, \n",
    "                                   hoogteV=hoogteV, locatie=locatie)\n",
    "\n",
    "    out_file = os.path.join(basedir,'afgeleiden',regime+'_'+hoogteV+'_'+locatie+'_3.csv')\n",
    "    df_all.to_csv(out_file, header=True,index=True)\n",
    "\n",
    "    locatie='helling'\n",
    "    dfH_helling2 = waves2average(dfH_helling, name=nameH, plot=False)\n",
    "    dfV_hellingbdm2 = waves2average(dfV_hellingbdm, name=nameV+'_'+hoogteV, plot=False)\n",
    "    df_all = interpolate2allseries4file(dfH_helling2, dfV_hellingbdm2, hs,stepsize, wave=wave,nameH=nameH, nameV=nameV, \n",
    "                                   hoogteV=hoogteV, locatie=locatie)\n",
    "\n",
    "    out_file = os.path.join(basedir,'afgeleiden',regime+'_'+hoogteV+'_'+locatie+'_3.csv')\n",
    "    df_all.to_csv(out_file, header=True,index=True)"
   ]
  },
  {
   "cell_type": "code",
   "execution_count": null,
   "metadata": {
    "collapsed": true,
    "deletable": true,
    "editable": true
   },
   "outputs": [],
   "source": [
    "dfH_kruin2 = waves2average(dfH_kruin, name='laagdikte', plot=False)\n",
    "dfV_kruinbdm2 = waves2average(dfV_kruinbdm, name='snelheid_bodem', plot=False)"
   ]
  },
  {
   "cell_type": "code",
   "execution_count": null,
   "metadata": {
    "collapsed": false,
    "deletable": true,
    "editable": true
   },
   "outputs": [],
   "source": [
    "dfH_kruin2.columns"
   ]
  },
  {
   "cell_type": "code",
   "execution_count": null,
   "metadata": {
    "collapsed": true,
    "deletable": true,
    "editable": true
   },
   "outputs": [],
   "source": [
    "volumes = [10]\n",
    "seconds = [4]"
   ]
  },
  {
   "cell_type": "code",
   "execution_count": null,
   "metadata": {
    "collapsed": true,
    "deletable": true,
    "editable": true
   },
   "outputs": [],
   "source": [
    "wave='golf500-3500-incT0'\n",
    "nameH='laagdikte'\n",
    "nameV='snelheid'\n",
    "hoogteV='bodem'\n",
    "locatie='kruin'\n",
    "a=0.65\n",
    "b=1.2"
   ]
  },
  {
   "cell_type": "code",
   "execution_count": null,
   "metadata": {
    "collapsed": false,
    "deletable": true,
    "editable": true
   },
   "outputs": [],
   "source": [
    "dfGemeten = interpolate2allseries4list(dfH_kruin2,dfV_kruinbdm2,stepsize,volumes,seconds,wave=wave, nameH=nameH, nameV=nameV, hoogteV=hoogteV, locatie=locatie, a=a, b=b)"
   ]
  },
  {
   "cell_type": "code",
   "execution_count": null,
   "metadata": {
    "collapsed": false,
    "deletable": true,
    "editable": true
   },
   "outputs": [],
   "source": [
    "fig, ax = plt.subplots(nrows=1, ncols=1,figsize=(12,8))\n",
    "dfGemeten.plot(ax=ax, subplots=True, sharex=True)\n",
    "ax.legend()\n",
    "plt.tight_layout()\n",
    "plt.show()"
   ]
  },
  {
   "cell_type": "code",
   "execution_count": null,
   "metadata": {
    "collapsed": false,
    "deletable": true,
    "editable": true
   },
   "outputs": [],
   "source": [
    "dfGemeten.columns"
   ]
  },
  {
   "cell_type": "code",
   "execution_count": null,
   "metadata": {
    "collapsed": false,
    "deletable": true,
    "editable": true,
    "scrolled": true
   },
   "outputs": [],
   "source": [
    "fig, axes = plt.subplots(nrows=4, ncols=1,figsize=(12,8))\n",
    "# T0_list = []\n",
    "# Tmin_list=[]\n",
    "for volume in np.arange(0,3500,500): \n",
    "    volume = [volume]\n",
    "    df_all = interpolate2allseries4list(dfH_kruin2,dfV_kruinbdm2,stepsize,volume,seconds,wave=wave, nameH=nameH, nameV=nameV, hoogteV=hoogteV, locatie=locatie, a=a, b=b)#.plot(ax=ax, subplots=False, sharex=True)\n",
    "#     T0_list.append(T0)\n",
    "#     Tmin_list.append(Tmin)\n",
    "    df_all[df_all.columns[0]].plot(ax=axes[0], legend=True)    \n",
    "    df_all[df_all.columns[1]].plot(ax=axes[1], legend=True)\n",
    "    df_all[df_all.columns[2]].plot(ax=axes[2], legend=True)\n",
    "    df_all[df_all.columns[3]].plot(ax=axes[3], legend=True)    \n",
    "    df_all[df_all.columns[4]].plot(ax=axes[1], legend=True)\n",
    "    df_all[df_all.columns[7]].plot(ax=axes[0], legend=True)    \n",
    "    \n",
    "    plt.setp(axes[0].get_xticklabels(), visible=False)\n",
    "    plt.setp(axes[1].get_xticklabels(), visible=False)    \n",
    "    plt.setp(axes[2].get_xticklabels(), visible=False)    \n",
    "plt.tight_layout()\n",
    "plt.show()"
   ]
  },
  {
   "cell_type": "code",
   "execution_count": null,
   "metadata": {
    "collapsed": false,
    "deletable": true,
    "editable": true
   },
   "outputs": [],
   "source": [
    "df_all.head()#.plot()"
   ]
  },
  {
   "cell_type": "code",
   "execution_count": null,
   "metadata": {
    "collapsed": true,
    "deletable": true,
    "editable": true
   },
   "outputs": [],
   "source": [
    "volume = 500"
   ]
  },
  {
   "cell_type": "code",
   "execution_count": null,
   "metadata": {
    "collapsed": false,
    "deletable": true,
    "editable": true
   },
   "outputs": [],
   "source": [
    "columns = ['500 l/m','1000 l/m','1500 l/m','2000 l/m','2500 l/m','3000 l/m','3500 l/m']"
   ]
  },
  {
   "cell_type": "code",
   "execution_count": null,
   "metadata": {
    "collapsed": true,
    "deletable": true,
    "editable": true
   },
   "outputs": [],
   "source": [
    "import seaborn as sns\n",
    "plt.style.use('ggplot')\n",
    "plt.style.use('seaborn-poster')"
   ]
  },
  {
   "cell_type": "code",
   "execution_count": null,
   "metadata": {
    "collapsed": false,
    "deletable": true,
    "editable": true
   },
   "outputs": [],
   "source": [
    "dfH_kruin2 = waves2average(dfH_kruin, name='laagdikte', plot=False)\n",
    "h = interpolate(volume, dfH_kruin2, name='laagdikte', locatie='kruin')\n",
    "dfH_kruin2.columns = columns\n",
    "fig, ax = plt.subplots(nrows=1, ncols=1,figsize=(12,5))\n",
    "dfH_kruin2.plot(ax=ax)\n",
    "#h.plot(ax=ax, ls='--')\n",
    "\n",
    "#legend\n",
    "leg = ax.legend(fontsize = 'xx-large',frameon=True)\n",
    "leg.set_title(title='gemiddeld golf volume', prop = {'size':'xx-large'})\n",
    "frame = leg.get_frame()\n",
    "frame.set_color('white')\n",
    "\n",
    "#label\n",
    "ax.set_ylabel('waterdiepte (meters)')\n",
    "ax.set_xlabel('tijd (seconden)')\n",
    "ax.set_title('waterdiepte op kruin')\n",
    "plt.gca().set_ylim(bottom=0)\n",
    "\n",
    "#show\n",
    "plt.tight_layout()\n",
    "#plt.savefig(r'D:\\Projects\\Pr\\3517.10\\Werkfolder\\2017-09-20 plots//HM_waterdiepte_kruin', dpi=100)\n",
    "plt.show()"
   ]
  },
  {
   "cell_type": "code",
   "execution_count": null,
   "metadata": {
    "collapsed": false,
    "deletable": true,
    "editable": true
   },
   "outputs": [],
   "source": [
    "dfV_kruinbdm2 = waves2average(dfV_kruinbdm, name='snelheid_oppervlakte', plot=False)\n",
    "v = interpolate(volume, dfV_kruinbdm2,name='snelheid_oppervlakte', locatie='kruin')\n",
    "dfV_kruinbdm2.columns = columns\n",
    "fig, ax = plt.subplots(nrows=1, ncols=1,figsize=(12,5))\n",
    "dfV_kruinbdm2.plot(ax=ax)\n",
    "#v.plot(ax=ax,ls='--')\n",
    "\n",
    "#legend\n",
    "leg = ax.legend(fontsize = 'xx-large',frameon=True)\n",
    "leg.set_title(title='gemiddeld golf volume', prop = {'size':'xx-large'})\n",
    "frame = leg.get_frame()\n",
    "frame.set_color('white')\n",
    "\n",
    "#labels\n",
    "ax.set_ylabel('stroomsnelheid (m/s)')\n",
    "ax.set_xlabel('tijd (seconden)')\n",
    "ax.set_title('stroomsnelheid onderkant waterlaag op kruin')\n",
    "plt.gca().set_ylim(bottom=0)\n",
    "\n",
    "#show\n",
    "plt.tight_layout()\n",
    "#plt.savefig(r'D:\\Projects\\Pr\\3517.10\\Werkfolder\\2017-09-20 plots//HM_stroomsnelheid_onderkant_kruin', dpi=100)\n",
    "plt.show()"
   ]
  },
  {
   "cell_type": "code",
   "execution_count": null,
   "metadata": {
    "collapsed": false,
    "deletable": true,
    "editable": true
   },
   "outputs": [],
   "source": [
    "debiet_columns = [column.replace('snelheid', 'debiet') for column in dfV_kruinbdm2.columns]\n",
    "debiet_kruinopp = pd.DataFrame(dfV_kruinbdm2.as_matrix()*dfH_kruin2.as_matrix(), index=dfV_kruinbdm2.index,columns=debiet_columns)# name='debiet_oppervlakte_kruin')\n",
    "debiet = pd.Series(v*h, name='Geinterpoleerd (V= '+str(volume)+')')\n",
    "fig, ax = plt.subplots(nrows=1, ncols=1,figsize=(12,5))\n",
    "debiet_kruinopp.plot(ax=ax)\n",
    "#debiet.plot(ax=ax,ls='--')\n",
    "\n",
    "#legend\n",
    "leg = ax.legend(fontsize = 'xx-large',frameon=True)\n",
    "leg.set_title(title='gemiddeld golf volume', prop = {'size':'xx-large'})\n",
    "frame = leg.get_frame()\n",
    "frame.set_color('white')\n",
    "\n",
    "#labels\n",
    "ax.set_ylabel('debiet (m$^3$/s)')\n",
    "ax.set_xlabel('tijd (seconden)')\n",
    "ax.set_title('debiet golf op kruin (obv stroomsnelheid onderkant waterlaag)')\n",
    "plt.gca().set_ylim(bottom=0)\n",
    "\n",
    "#show\n",
    "plt.tight_layout()\n",
    "#plt.savefig(r'D:\\Projects\\Pr\\3517.10\\Werkfolder\\2017-09-20 plots//HM_debiet_obv_onderkant_kruin', dpi=100)\n",
    "plt.show()"
   ]
  },
  {
   "cell_type": "code",
   "execution_count": null,
   "metadata": {
    "collapsed": false,
    "deletable": true,
    "editable": true
   },
   "outputs": [],
   "source": [
    "V = np.arange(0,4.0,0.01)\n",
    "T0 = getT0(V)"
   ]
  },
  {
   "cell_type": "code",
   "execution_count": null,
   "metadata": {
    "collapsed": false,
    "deletable": true,
    "editable": true
   },
   "outputs": [],
   "source": [
    "fig, ax = plt.subplots(nrows=1, ncols=1,figsize=(12,5))\n",
    "(debiet_kruinopp.cumsum()*debiet_kruinopp.index[1]).plot(ax=ax)\n",
    "ax.plot(T0,V, ls='--', color='k', label='theoretisch overslagtijd (T0)')\n",
    "#(debiet.cumsum()*debiet.index[1]).plot(ax=ax,ls='--')\n",
    "\n",
    "#legend\n",
    "leg = ax.legend(fontsize = 'xx-large',frameon=True, loc=1)\n",
    "leg.set_title(title='gemiddeld golf volume', prop = {'size':'xx-large'})\n",
    "frame = leg.get_frame()\n",
    "frame.set_color('white')\n",
    "\n",
    "#labels\n",
    "ax.set_ylabel('volume (m$^3$)')\n",
    "ax.set_xlabel('tijd (seconden)')\n",
    "ax.set_title('cumulatief debiet golf op kruin (obv stroomsnelheid onderkant waterlaag)')\n",
    "plt.gca().set_ylim(bottom=0,top=4)\n",
    "\n",
    "#show\n",
    "plt.tight_layout()\n",
    "#plt.savefig(r'D:\\Projects\\Pr\\3517.10\\Werkfolder\\2017-09-20 plots//HM_cumulatief_debiet_obv_onderkant_kruin', dpi=100)\n",
    "plt.show()"
   ]
  },
  {
   "cell_type": "code",
   "execution_count": null,
   "metadata": {
    "collapsed": false,
    "deletable": true,
    "editable": true
   },
   "outputs": [],
   "source": [
    "tau_columns = [column.replace('snelheid', 'tau') for column in dfV_kruinbdm2.columns]\n",
    "tau_kruinopp = pd.DataFrame(schuifspanning4myron(v=dfV_kruinbdm2.as_matrix(),d=dfH_kruin2.as_matrix()), index=dfV_kruinbdm2.index,columns=tau_columns)\n",
    "tau_kruinopp.replace([np.inf, -np.inf], np.nan, inplace=True)\n",
    "tau_kruinopp.fillna(0, inplace=True)\n",
    "\n",
    "tau = pd.Series(schuifspanning4myron(v=v,d=h), name='Geinterpoleerd (V= '+str(volume)+')')\n",
    "tau.replace([np.inf, -np.inf], np.nan, inplace=True)\n",
    "tau.fillna(0, inplace=True)\n",
    "\n",
    "fig, ax = plt.subplots(nrows=1, ncols=1,figsize=(12,5))\n",
    "tau_kruinopp.plot(ax=ax)\n",
    "#tau.plot(ax=ax,ls='--')\n",
    "\n",
    "#legend\n",
    "leg = ax.legend(fontsize = 'xx-large',frameon=True)\n",
    "leg.set_title(title='gemiddeld golf volume', prop = {'size':'xx-large'})\n",
    "frame = leg.get_frame()\n",
    "frame.set_color('white')\n",
    "\n",
    "#labels\n",
    "ax.set_ylabel('schuifspanning (pascal)')\n",
    "ax.set_xlabel('tijd (seconden)')\n",
    "ax.set_title('schuifspanning golf op kruin (obv stroomsnelheid onderkant golf)')\n",
    "plt.gca().set_ylim(bottom=0)\n",
    "\n",
    "#show\n",
    "plt.tight_layout()\n",
    "#plt.savefig(r'D:\\Projects\\Pr\\3517.10\\Werkfolder\\2017-09-20 plots//HM_schuifspanning_obv_onderkant_kruin', dpi=100)\n",
    "plt.show()"
   ]
  },
  {
   "cell_type": "code",
   "execution_count": null,
   "metadata": {
    "collapsed": false,
    "deletable": true,
    "editable": true
   },
   "outputs": [],
   "source": [
    "# figure op basis van golf 500 - 3500\n",
    "fig, (ax1,ax2) = plt.subplots(nrows=2, ncols=1,figsize=(12,9))\n",
    "\n",
    "#dfH_kruin2.plot(ax=ax, lw=3, zorder=1000)\n",
    "\n",
    "dfH_kruin2.columns = ['laagdikte_500lm', 'laagdikte_1000lm', 'laagdikte_1500lm',\n",
    "                      'laagdikte_2000lm', 'laagdikte_2500lm', 'laagdikte_3000lm',\n",
    "                      'laagdikte_3500lm']\n",
    "\n",
    "interpolate(50, dfH_kruin2, wave=wave).plot(ax=ax1, style='-', sharex=True,lw=1, color='gray', label='volume op elke 50 l/m')\n",
    "for volume in np.arange(500,4000,500):  \n",
    "    pass\n",
    "    interpolate(volume, dfH_kruin2, wave=wave).plot(ax=ax1, style='-', sharex=True,label=str(volume)+' l/m', zorder=1000)\n",
    "dfH_kruin2.columns = columns\n",
    "\n",
    "\n",
    "#legend\n",
    "leg = ax1.legend(fontsize = 'xx-large',frameon=True)\n",
    "leg.set_title(title='geinterpoleerd golf volume', prop = {'size':'xx-large'})\n",
    "frame = leg.get_frame()\n",
    "frame.set_color('white')\n",
    "\n",
    "dfH_kruin2.columns = ['laagdikte_500lm', 'laagdikte_1000lm', 'laagdikte_1500lm',\n",
    "                      'laagdikte_2000lm', 'laagdikte_2500lm', 'laagdikte_3000lm',\n",
    "                      'laagdikte_3500lm']\n",
    "for volume in np.arange(50,3500,100):  \n",
    "    pass\n",
    "    interpolate(volume, dfH_kruin2, wave=wave).plot(ax=ax1, style='-', sharex=True,lw=1, color='gray')\n",
    "dfH_kruin2.columns = columns\n",
    "\n",
    "leg = ax1.get_legend()\n",
    "plt.setp(leg.get_title(),fontsize='xx-large')\n",
    "leg.set_frame_on(True)\n",
    "frame = leg.get_frame()\n",
    "frame.set_color('white')\n",
    "\n",
    "#label\n",
    "ax1.set_ylabel('waterdiepte (meters)')\n",
    "ax1.set_xlabel('tijd (seconden)')\n",
    "ax1.set_title('geinterpoleerde waterdiepte op kruin')\n",
    "ax1.set_ylim(bottom=0)\n",
    "\n",
    "dfV_kruinbdm2.columns = ['snelheid_bodem_500lm', 'snelheid_bodem_1000lm',\n",
    "       'snelheid_bodem_1500lm', 'snelheid_bodem_2000lm',\n",
    "       'snelheid_bodem_2500lm', 'snelheid_bodem_3000lm',\n",
    "       'snelheid_bodem_3500lm']\n",
    "\n",
    "\n",
    "for volume in np.arange(500,4000,500):  \n",
    "    pass\n",
    "    interpolate(volume, dfV_kruinbdm2, wave=wave, name='snelheid_bodem').plot(ax=ax2, style='-', label=str(volume)+' l/m', zorder=1000)\n",
    "dfV_kruinbdm2.columns = columns\n",
    "\n",
    "\n",
    "# #legend\n",
    "# leg = ax2.legend(fontsize = 'xx-large',frameon=True)\n",
    "# leg.set_title(title='geinterpoleerd golf volume', prop = {'size':'xx-large'})\n",
    "# frame = leg.get_frame()\n",
    "# frame.set_color('white')\n",
    "\n",
    "dfV_kruinbdm2.columns = ['snelheid_bodem_500lm', 'snelheid_bodem_1000lm',\n",
    "       'snelheid_bodem_1500lm', 'snelheid_bodem_2000lm',\n",
    "       'snelheid_bodem_2500lm', 'snelheid_bodem_3000lm',\n",
    "       'snelheid_bodem_3500lm']\n",
    "for volume in np.arange(50,3500,100):  \n",
    "    pass\n",
    "    interpolate(volume, dfV_kruinbdm2, wave=wave, name='snelheid_bodem').plot(ax=ax2, style='-', lw=1, color='gray')\n",
    "dfV_kruinbdm2.columns = columns\n",
    "\n",
    "# #legend reset\n",
    "# leg = ax2.get_legend()\n",
    "# plt.setp(leg.get_title(),fontsize='xx-large')\n",
    "# leg.set_frame_on(True)\n",
    "# frame = leg.get_frame()\n",
    "# frame.set_color('white')\n",
    "\n",
    "#labels\n",
    "ax2.set_ylabel('stroomsnelheid (m/s)')\n",
    "ax2.set_xlabel('tijd (seconden)')\n",
    "ax2.set_title('geinterpoleerde stroomsnelheid onderkant waterlaag op kruin')\n",
    "plt.gca().set_ylim(bottom=0)\n",
    "\n",
    "# show\n",
    "plt.tight_layout()\n",
    "#plt.savefig(r'D:\\Projects\\Pr\\3517.10\\Werkfolder\\2017-09-20 plots//HM_interp_stroomsnelheid_obv_onderkant_waterdiepte_kruin', dpi=100)\n",
    "plt.show()"
   ]
  },
  {
   "cell_type": "code",
   "execution_count": null,
   "metadata": {
    "collapsed": false,
    "deletable": true,
    "editable": true
   },
   "outputs": [],
   "source": [
    "dfV_kruinbdm2.columns"
   ]
  },
  {
   "cell_type": "code",
   "execution_count": null,
   "metadata": {
    "collapsed": false,
    "deletable": true,
    "editable": true
   },
   "outputs": [],
   "source": [
    "fig, ax = plt.subplots(nrows=1, ncols=1,figsize=(12,5))\n",
    "\n",
    "dfV_kruinbdm2.columns = ['snelheid_bodem_500lm', 'snelheid_bodem_1000lm',\n",
    "       'snelheid_bodem_1500lm', 'snelheid_bodem_2000lm',\n",
    "       'snelheid_bodem_2500lm', 'snelheid_bodem_3000lm',\n",
    "       'snelheid_bodem_3500lm']\n",
    "for volume in np.arange(500,4000,500):         \n",
    "    v = interpolate(volume, dfV_kruinbdm2,name='snelheid_bodem', locatie='kruin')\n",
    "    u,T0,Tmin = create_u(v,a=0.65,hoogteV='bodem',locatie='kruin')\n",
    "    u_p3 = pd.Series(u**3, index=u.index,name='u^3_'+hoogteV+'_'+locatie)\n",
    "    u_p3.name = str(volume)+' l/m'\n",
    "    v.name = 'gemeten stroomsnelheid'\n",
    "#u_p2 = pd.Series(u**2, index=u.index,name='u^2_'+hoogteV+'_'+locatie)\n",
    "\n",
    "    u_p3.plot(ax=ax)\n",
    "    #v.plot(ax=ax,ls='--')\n",
    "dfV_kruinbdm2.columns = columns\n",
    "#legend\n",
    "leg = ax.legend(fontsize = 'xx-large',frameon=True)\n",
    "leg.set_title(title='gemiddeld golf volume', prop = {'size':'xx-large'})\n",
    "frame = leg.get_frame()\n",
    "frame.set_color('white')\n",
    "\n",
    "#labels\n",
    "ax.set_ylabel('overtollig water volume (m$^3$/s$^3$)')\n",
    "ax.set_xlabel('tijd (seconden)')\n",
    "ax.set_title('overtollig water volume onderkant waterlaag op kruin')\n",
    "plt.gca().set_ylim(bottom=0)\n",
    "\n",
    "#show\n",
    "plt.tight_layout()\n",
    "plt.savefig(r'D:\\Projects\\Pr\\3517.10\\Werkfolder\\2017-09-20 plots//HM_u3_obv_onderkant_kruin', dpi=100)\n",
    "plt.show()"
   ]
  },
  {
   "cell_type": "code",
   "execution_count": null,
   "metadata": {
    "collapsed": false,
    "deletable": true,
    "editable": true
   },
   "outputs": [],
   "source": [
    "v0 = u.max()\n",
    "h0 = d.max()\n",
    "talud = 1.8\n",
    "location_slope=[2.3,6.45,0.1]\n",
    "f = 0.02\n",
    "loc_slope=np.linspace(0,15,500)#list(np.arange(0,10,0.01))\n",
    "df_so  = s_m(v0,h0,talud,loc_slope)             \n",
    "df_so0 = s_m(v0,h0,talud,[location_slope[0]])\n",
    "df_so1 = s_m(v0,h0,talud,[location_slope[1]])"
   ]
  },
  {
   "cell_type": "code",
   "execution_count": null,
   "metadata": {
    "collapsed": false,
    "deletable": true,
    "editable": true
   },
   "outputs": [],
   "source": [
    "import matplotlib.lines as mlines"
   ]
  },
  {
   "cell_type": "code",
   "execution_count": null,
   "metadata": {
    "collapsed": false,
    "deletable": true,
    "editable": true
   },
   "outputs": [],
   "source": [
    "fig, axes = plt.subplots(nrows=1, ncols=2, figsize=(12,5))\n",
    "\n",
    "df_so.loc[(talud,f,v0,h0),'vB'].plot(ax=axes[0], color='k',label='stroomsnelheid') # talud, f, v0, h0\n",
    "#df.loc[(talud,f,v0,h0),'vB'].plot(ax=axes[0]) # talud, f, v0, h0\n",
    "axes[0].set_ylabel('stroomsnelheid (m/s)')\n",
    "axes[0].set_xlabel('landzijde helling (m)')\n",
    "#axes[0].axhline(y=df_so0.loc[(talud,f,v0,h0),'vB'].values[0],color='b')\n",
    "#axes[0].axhline(y=df_so1.loc[(talud,f,v0,h0),'vB'].values[0])\n",
    "axes[0].axvline(x=location_slope[2], color='#8EBA42',ls=':')\n",
    "axes[0].axvline(x=location_slope[0], color='#348ABD',ls='--')\n",
    "axes[0].axvline(x=location_slope[1], color='#E24A33')\n",
    "\n",
    "df_so.loc[(talud,f,v0,h0),'hB'].plot(ax=axes[1], color='k', label='waterdiepte')\n",
    "#df.loc[(talud,f,v0,0.05),'hB'].plot(ax=axes[1]) # talud, f, v0, h0\n",
    "axes[1].set_ylabel('waterdiepte (m)')\n",
    "axes[1].set_xlabel('landzijde helling (m)')\n",
    "#axes[1].axhline(y=df_so0.loc[(talud,f,v0,h0),'hB'].values[0],color='b')\n",
    "#axes[1].axhline(y=df_so1.loc[(talud,f,v0,h0),'hB'].values[0])\n",
    "axes[1].axvline(x=location_slope[2], color='#8EBA42',ls=':')\n",
    "axes[1].axvline(x=location_slope[0],color='#348ABD',ls='--')\n",
    "axes[1].axvline(x=location_slope[1],color='#E24A33')\n",
    "\n",
    "#legend\n",
    "import matplotlib.lines as mlines\n",
    "\n",
    "kruin_line = mlines.Line2D([], [],color= '#8EBA42', ls=':',label='kruin')\n",
    "talud_line = mlines.Line2D([], [],color= '#348ABD', ls='--',label='halverwege talud')\n",
    "teen_line = mlines.Line2D([], [],color= '#E24A33', label='teen')\n",
    "vB_line = mlines.Line2D([], [],color= 'k', label='stroomsnelheid')\n",
    "hB_line = mlines.Line2D([], [],color= 'k', label='waterdiepte')\n",
    "\n",
    "leg = axes[0].legend(fontsize = 'xx-large',frameon=True,handles=[vB_line,kruin_line,talud_line,teen_line])\n",
    "#leg.set_title(title='golf volume 500 l/m', prop = {'size':'xx-large'})\n",
    "frame = leg.get_frame()\n",
    "frame.set_color('white')\n",
    "\n",
    "leg = axes[1].legend(fontsize = 'xx-large',frameon=True,handles=[hB_line,kruin_line,talud_line,teen_line])\n",
    "#leg.set_title(title='golf volume 500 l/m', prop = {'size':'xx-large'})\n",
    "frame = leg.get_frame()\n",
    "frame.set_color('white')\n",
    "\n",
    "\n",
    "#axes[1].legend()\n",
    "axes[0].set_xlim(0,12)\n",
    "axes[1].set_xlim(0,12)\n",
    "axes[0].set_ylim(6.2,7.2)\n",
    "axes[1].set_ylim(0.09,0.1)\n",
    "plt.suptitle('verloop stroomsnelheid en waterdiepte op landzijde helling', y=1.04, fontsize=17.825)\n",
    "plt.tight_layout()\n",
    "#plt.savefig(r'D:\\Projects\\Pr\\3517.10\\Werkfolder\\2017-09-20 plots//HM_verloop_hB_vB', bbox_inches='tight',dpi=100)\n",
    "plt"
   ]
  },
  {
   "cell_type": "code",
   "execution_count": null,
   "metadata": {
    "collapsed": false,
    "deletable": true,
    "editable": true
   },
   "outputs": [],
   "source": [
    "dfV_kruinbdm2.columns = ['snelheid_bodem_500lm', 'snelheid_bodem_1000lm',\n",
    "       'snelheid_bodem_1500lm', 'snelheid_bodem_2000lm',\n",
    "       'snelheid_bodem_2500lm', 'snelheid_bodem_3000lm',\n",
    "       'snelheid_bodem_3500lm']\n",
    "\n",
    "dfH_kruin2.columns = ['laagdikte_500lm', 'laagdikte_1000lm', 'laagdikte_1500lm',\n",
    "       'laagdikte_2000lm', 'laagdikte_2500lm', 'laagdikte_3000lm',\n",
    "       'laagdikte_3500lm']\n",
    "volume=500\n",
    "h = interpolate(volume, dfH_kruin2, name='laagdikte', locatie='kruin')\n",
    "v = interpolate(volume, dfV_kruinbdm2,name='snelheid_bodem', locatie='kruin')"
   ]
  },
  {
   "cell_type": "code",
   "execution_count": null,
   "metadata": {
    "collapsed": false,
    "deletable": true,
    "editable": true
   },
   "outputs": [],
   "source": [
    "fig, (ax1,ax2) = plt.subplots(nrows=2, ncols=1,figsize=(12,9))\n",
    "\n",
    "u,T0,Tmin = create_u(v,a=0.65,hoogteV='bodem',locatie='kruin')\n",
    "d = create_d(h,b=1.2,T0=T0,Tmin=Tmin)\n",
    "d.name = 'berekende waterdiepte'\n",
    "h.name = 'gemeten waterdiepte'\n",
    "d.plot(ax=ax1,sharex=True)\n",
    "h.plot(ax=ax1,ls='--',sharex=True)\n",
    "\n",
    "#legend\n",
    "leg = ax1.legend(fontsize = 'xx-large',frameon=True)\n",
    "leg.set_title(title='golf volume 500 l/m', prop = {'size':'xx-large'})\n",
    "frame = leg.get_frame()\n",
    "frame.set_color('white')\n",
    "\n",
    "#labels\n",
    "ax1.set_ylabel('waterdiepte (m)')\n",
    "ax1.set_xlabel('tijd (seconden)')\n",
    "ax1.set_title('theoretisch verloop waterdiepte op kruin')\n",
    "ax1.set_ylim(bottom=0)\n",
    "\n",
    "\n",
    "#v = interpolate(volume, dfV_kruinbdm2,name='snelheid_bodem', locatie='kruin')\n",
    "u,T0,Tmin = create_u(v,a=0.65,hoogteV='bodem',locatie='kruin')\n",
    "u.name = 'berekende waternselheid'\n",
    "v.name = 'gemeten waterdiepte'\n",
    "u.plot(ax=ax2)\n",
    "v.plot(ax=ax2,ls='--')\n",
    "\n",
    "#legend\n",
    "leg = ax2.legend(fontsize = 'xx-large',frameon=True)\n",
    "leg.set_title(title='golf volume 500 l/m', prop = {'size':'xx-large'})\n",
    "frame = leg.get_frame()\n",
    "frame.set_color('white')\n",
    "ax2.set_ylim(0,7)\n",
    "\n",
    "\n",
    "#labels\n",
    "ax2.set_ylabel('stroomsnelheid (m/s)')\n",
    "ax2.set_xlabel('tijd (seconden)')\n",
    "ax2.set_title('theoretisch verloop stroomsnelheid onderkant waterlaag op kruin')\n",
    "ax2.set_ylim(bottom=0)\n",
    "\n",
    "#show\n",
    "plt.tight_layout()\n",
    "plt.savefig(r'D:\\Projects\\Pr\\3517.10\\Werkfolder\\2017-09-20 plots//HM_d_u_obv_onderkant_kruin', dpi=100)\n",
    "plt.show()"
   ]
  },
  {
   "cell_type": "code",
   "execution_count": null,
   "metadata": {
    "collapsed": false,
    "deletable": true,
    "editable": true
   },
   "outputs": [],
   "source": [
    "Tmin"
   ]
  },
  {
   "cell_type": "code",
   "execution_count": null,
   "metadata": {
    "collapsed": false,
    "deletable": true,
    "editable": true
   },
   "outputs": [],
   "source": [
    "idx = np.searchsorted(df_so.loc[(talud,f,v0,h0),'vB'].index, location_slope)\n",
    "vB  = df_so.loc[(talud,f,v0,h0),'vB'].iloc[idx]\n",
    "idx = np.searchsorted(df_so.loc[(talud,f,v0,h0),'hB'].index, location_slope)\n",
    "hB  = df_so.loc[(talud,f,v0,h0),'hB'].iloc[idx]"
   ]
  },
  {
   "cell_type": "code",
   "execution_count": null,
   "metadata": {
    "collapsed": true,
    "deletable": true,
    "editable": true
   },
   "outputs": [],
   "source": [
    "Tmin = Tmin_array.iloc[Tmin_array.index.searchsorted(volume)]\n",
    "T0   = T0_array.iloc[T0_array.index.searchsorted(volume)] "
   ]
  },
  {
   "cell_type": "code",
   "execution_count": null,
   "metadata": {
    "collapsed": false,
    "deletable": true,
    "editable": true
   },
   "outputs": [],
   "source": [
    "Tmin, T0"
   ]
  },
  {
   "cell_type": "code",
   "execution_count": null,
   "metadata": {
    "collapsed": false,
    "deletable": true,
    "editable": true
   },
   "outputs": [],
   "source": [
    "uhB = create_uhB(hB,u.index,T0_array, Tmin_array, volume,b=1.2,locatie='helling')\n",
    "\n",
    "fig, ax = plt.subplots(nrows=1, ncols=1,figsize=(12,5))\n",
    "d.plot(ax=ax)\n",
    "h.plot(ax=ax,ls='--')\n",
    "uhB.plot(ax=ax,ls=':')\n",
    "ax.legend()\n",
    "plt.show()"
   ]
  },
  {
   "cell_type": "code",
   "execution_count": null,
   "metadata": {
    "collapsed": false,
    "deletable": true,
    "editable": true
   },
   "outputs": [],
   "source": [
    "uvB = create_uvB(vB,u.index,T0_array, Tmin_array, volume,a=0.65,locatie='helling')\n",
    "\n",
    "fig, ax = plt.subplots(nrows=1, ncols=1,figsize=(12,5))\n",
    "u.plot(ax=ax)\n",
    "v.plot(ax=ax,ls='--')\n",
    "uvB.plot(ax=ax,ls=':')\n",
    "ax.legend()\n",
    "plt.show()"
   ]
  },
  {
   "cell_type": "code",
   "execution_count": null,
   "metadata": {
    "collapsed": true,
    "deletable": true,
    "editable": true
   },
   "outputs": [],
   "source": []
  }
 ],
 "metadata": {
  "kernelspec": {
   "display_name": "Python 3",
   "language": "python",
   "name": "python3"
  },
  "language_info": {
   "codemirror_mode": {
    "name": "ipython",
    "version": 3
   },
   "file_extension": ".py",
   "mimetype": "text/x-python",
   "name": "python",
   "nbconvert_exporter": "python",
   "pygments_lexer": "ipython3",
   "version": "3.5.2"
  }
 },
 "nbformat": 4,
 "nbformat_minor": 2
}
