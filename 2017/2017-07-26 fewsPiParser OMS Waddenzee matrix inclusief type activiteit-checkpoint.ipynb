{
 "cells": [
  {
   "cell_type": "code",
   "execution_count": 8,
   "metadata": {
    "collapsed": false,
    "deletable": true,
    "editable": true
   },
   "outputs": [],
   "source": [
    "from hkvpy.fews import pi, dataportal\n",
    "from datetime import datetime\n",
    "import numpy as np\n",
    "import pandas as pd\n",
    "import geopandas as gpd\n",
    "%matplotlib inline"
   ]
  },
  {
   "cell_type": "code",
   "execution_count": 2,
   "metadata": {
    "collapsed": true,
    "deletable": true,
    "editable": true
   },
   "outputs": [],
   "source": [
    "# include spatial join with shapefile to get additional column\n",
    "includeJoin = True"
   ]
  },
  {
   "cell_type": "code",
   "execution_count": 3,
   "metadata": {
    "collapsed": true,
    "deletable": true,
    "editable": true
   },
   "outputs": [],
   "source": [
    "# get the locations as a geojson from the fewspiservice\n",
    "piService = 'http://www.oms-waddenzee.nl:8081/FewsPiService/fewspiservice?wsdl'\n",
    "pi.setClient(wsdl = piService)"
   ]
  },
  {
   "cell_type": "code",
   "execution_count": 4,
   "metadata": {
    "collapsed": false,
    "deletable": true,
    "editable": true
   },
   "outputs": [],
   "source": [
    "filters = pi.getFilters()"
   ]
  },
  {
   "cell_type": "code",
   "execution_count": 5,
   "metadata": {
    "collapsed": false,
    "deletable": true,
    "editable": true
   },
   "outputs": [
    {
     "data": {
      "text/plain": [
       "namespace(f_fewsPi={'id': 'f_fewsPi', 'name': 'Fews-Pi service', 'description': ''}, f_trend_1={'id': 'f_trend.1', 'name': 'Cut-data', 'description': ''}, f_trend_2={'id': 'f_trend.2', 'name': 'Fill-data', 'description': ''}, f_werk_1={'id': 'f_werk.1', 'name': 'Baggeren + Zandwinning + Agiteren (/baggervak)', 'description': ''}, f_werk_2={'id': 'f_werk.2', 'name': 'Verspreiden (/verspreidingsvak)', 'description': ''})"
      ]
     },
     "execution_count": 5,
     "metadata": {},
     "output_type": "execute_result"
    }
   ],
   "source": [
    "filters"
   ]
  },
  {
   "cell_type": "code",
   "execution_count": 10,
   "metadata": {
    "collapsed": false,
    "deletable": true,
    "editable": true
   },
   "outputs": [
    {
     "data": {
      "text/plain": [
       "<matplotlib.axes._subplots.AxesSubplot at 0xaadf828>"
      ]
     },
     "execution_count": 10,
     "metadata": {},
     "output_type": "execute_result"
    },
    {
     "data": {
      "image/png": "[encoded data removed]",
      "text/plain": [
       "<matplotlib.figure.Figure at 0xa976358>"
      ]
     },
     "metadata": {},
     "output_type": "display_data"
    }
   ],
   "source": [
    "filterId = pi.Filters.f_trend_1['id']\n",
    "piVersion = '1.22'\n",
    "gdf = pi.getLocations(filterId=filterId, piVersion=piVersion, setFormat='gdf')\n",
    "locationIds = gdf.locationId.tolist()\n",
    "gdf.geometry.plot()"
   ]
  },
  {
   "cell_type": "markdown",
   "metadata": {},
   "source": [
    "Dit is duiding $x=1$"
   ]
  },
  {
   "cell_type": "code",
   "execution_count": 11,
   "metadata": {
    "collapsed": false,
    "deletable": true,
    "editable": true
   },
   "outputs": [
    {
     "name": "stdout",
     "output_type": "stream",
     "text": [
      "namespace(cm_avg_maxDepth_cut={'id': 'cm.avg.maxDepth.cut', 'usesDatum': 'true', 'displayUnit': 'cm', 'unit': 'cm', 'parameterType': 'instantaneous', 'name': 'Gemiddelde dikte Cut tov Onderhouds Diepte (cm)'}, cm_avg_minDepth_cut={'id': 'cm.avg.minDepth.cut', 'usesDatum': 'true', 'displayUnit': 'cm', 'unit': 'cm', 'parameterType': 'instantaneous', 'name': 'Gemiddelde dikte Cut tov Nautisch Gegarandeerde Diepte (cm)'}, m2_maxDepth_cut={'id': 'm2.maxDepth.cut', 'usesDatum': 'true', 'displayUnit': 'm2', 'unit': 'm2', 'parameterType': 'instantaneous', 'name': 'Oppervlakte Cut tov Onderhouds Diepte (m2)'}, m2_minDepth_cut={'id': 'm2.minDepth.cut', 'usesDatum': 'true', 'displayUnit': 'm2', 'unit': 'm2', 'parameterType': 'instantaneous', 'name': 'Oppervlakte Cut tov Nautisch Gegarandeerde Diepte (m2)'}, m3_maxDepth_cut={'id': 'm3.maxDepth.cut', 'usesDatum': 'true', 'displayUnit': 'm3', 'unit': 'm3', 'parameterType': 'instantaneous', 'name': 'Volume Cut tov Onderhouds Diepte (m3)'}, m3_minDepth_cut={'id': 'm3.minDepth.cut', 'usesDatum': 'true', 'displayUnit': 'm3', 'unit': 'm3', 'parameterType': 'instantaneous', 'name': 'Volume Cut tov Nautisch Gegarandeerde Diepte (m3)'}, pct_opp_maxDepth_cut={'id': 'pct.opp.maxDepth.cut', 'usesDatum': 'true', 'displayUnit': '%', 'unit': '%', 'parameterType': 'instantaneous', 'name': 'Percentage Cut tov Onderhouds Diepte (%)'}, pct_opp_minDepth_cut={'id': 'pct.opp.minDepth.cut', 'usesDatum': 'true', 'displayUnit': '%', 'unit': '%', 'parameterType': 'instantaneous', 'name': 'Percentage Cut tov Nautisch Gegarandeerde Diepte (%)'})\n"
     ]
    }
   ],
   "source": [
    "params = pi.getParameters(filterId=filterId)\n",
    "print (params)"
   ]
  },
  {
   "cell_type": "code",
   "execution_count": 59,
   "metadata": {
    "collapsed": false,
    "deletable": true,
    "editable": true
   },
   "outputs": [
    {
     "data": {
      "text/plain": [
       "['pct.opp.minDepth.cut',\n",
       " 'm3.minDepth.cut',\n",
       " 'm2.minDepth.cut',\n",
       " 'cm.avg.minDepth.cut']"
      ]
     },
     "execution_count": 59,
     "metadata": {},
     "output_type": "execute_result"
    }
   ],
   "source": [
    "[getattr(pi.Parameters, named_attribute)['id'] for named_attribute in vars(pi.Parameters) if 'min' in named_attribute]"
   ]
  },
  {
   "cell_type": "code",
   "execution_count": 51,
   "metadata": {
    "collapsed": false,
    "deletable": true,
    "editable": true
   },
   "outputs": [],
   "source": [
    "startTime = datetime(2016,10,31)\n",
    "endTime =  datetime.now()\n",
    "parameterIds = [getattr(pi.Parameters, named_attribute)['id'] for named_attribute in vars(pi.Parameters) if 'min' in named_attribute]\n",
    "#print (locationIds)"
   ]
  },
  {
   "cell_type": "code",
   "execution_count": 52,
   "metadata": {
    "collapsed": false,
    "deletable": true,
    "editable": true
   },
   "outputs": [],
   "source": [
    "df, entry = pi.getTimeSeries(filterId, parameterIds, locationIds,startTime,endTime, setFormat='df')"
   ]
  },
  {
   "cell_type": "code",
   "execution_count": 53,
   "metadata": {
    "collapsed": false,
    "deletable": true,
    "editable": true
   },
   "outputs": [
    {
     "name": "stdout",
     "output_type": "stream",
     "text": [
      "groupby mismatch, fix it\n",
      "done\n",
      "include join\n"
     ]
    }
   ],
   "source": [
    "# method to get year/week labels with an sum aggregation\n",
    "df['value'].replace(-999.0,np.NaN, inplace = True)\n",
    "kw = lambda x: x.isocalendar()[1]; \n",
    "kw_year = lambda x: str(x.year) + ' - ' + str(x.isocalendar()[1]).zfill(2)\n",
    "level_values = df.index.get_level_values\n",
    "grouped = (df.groupby([level_values(i) for i in [1,2,3,4,5]]+[level_values(0).map(kw_year)], sort=False,as_index=True ).agg({'value': 'max'}))\n",
    "grouped.index.rename(names='date', level=5, inplace=True)\n",
    "\n",
    "# funny enough in the last year the last week is also included, \n",
    "# this is only appropriate if that week is part of the original selection\n",
    "# check this:\n",
    "# isocalendar returns year, week number, and weekday\n",
    "endDataFraStamp = df.index.get_level_values(0).max().isocalendar()\n",
    "endGroupStampWk = int(grouped.index.get_level_values(5).max()[-2::])\n",
    "\n",
    "if endDataFraStamp[1] != endGroupStampWk & endGroupStampWk > endDataFraStamp[1]:\n",
    "    print ('groupby mismatch, fix it')\n",
    "    endGroupStampYr = grouped.index.get_level_values(5).max()[:4]\n",
    "    mask = (grouped.index.get_level_values(5).str.contains(endGroupStampYr) & grouped.index.get_level_values(5).str.contains(str(endGroupStampWk)))\n",
    "    # make subselection \n",
    "    grouped = grouped[~mask]\n",
    "    print ('done')\n",
    "\n",
    "# prepare row-oriented or stacked JSON\n",
    "roworientedDF = grouped.reset_index()\n",
    "\n",
    "if includeJoin == True:\n",
    "    # first merge with baggervakken for additional column\n",
    "    # load shapefile\n",
    "    print ('include join')\n",
    "    shp = r'D:\\OmsWaddenzee\\trunk\\fews\\Config\\MapLayerFiles\\Baggervakken//Baggervakken.shp'\n",
    "    gdf = gpd.read_file(shp)\n",
    "    gdf['OBJECTCODE'] = 'bv.'+gdf['OBJECTCODE']\n",
    "    gdf_sel = gdf[['OBJECTCODE','ACTIVITEIT']]\n",
    "\n",
    "    # join operation on locationId - Objectcode\n",
    "    roworientedDF = roworientedDF.merge(gdf_sel, how='inner', left_on='locationId', right_on='OBJECTCODE', copy=True)\n",
    "    roworientedDF.drop('OBJECTCODE', 1, inplace=True)\n",
    "    roworientedDF.rename(columns={'ACTIVITEIT': 'Activity'}, inplace=True)\n",
    "    # then export to row-oriented JSON\n",
    "    roworientedJSON = roworientedDF.to_json(orient='records', date_format='iso')\n",
    "else:\n",
    "    # directly export to row-oriented JSON\n",
    "    roworientedJSON = roworientedDF.to_json(orient='records', date_format='iso')"
   ]
  },
  {
   "cell_type": "code",
   "execution_count": 54,
   "metadata": {
    "collapsed": false,
    "deletable": true,
    "editable": true
   },
   "outputs": [
    {
     "data": {
      "text/html": [
       "<div>\n",
       "<table border=\"1\" class=\"dataframe\">\n",
       "  <thead>\n",
       "    <tr style=\"text-align: right;\">\n",
       "      <th></th>\n",
       "      <th>moduleId</th>\n",
       "      <th>parameterId</th>\n",
       "      <th>units</th>\n",
       "      <th>locationId</th>\n",
       "      <th>stationName</th>\n",
       "      <th>date</th>\n",
       "      <th>value</th>\n",
       "      <th>Activity</th>\n",
       "    </tr>\n",
       "  </thead>\n",
       "  <tbody>\n",
       "    <tr>\n",
       "      <th>0</th>\n",
       "      <td>pr.minDepth.cutfill.volopp.dikte.pct</td>\n",
       "      <td>cm.avg.minDepth.cut</td>\n",
       "      <td>cm</td>\n",
       "      <td>bv.1.7.1.1</td>\n",
       "      <td>Den Helder - Texel, Vaarweg</td>\n",
       "      <td>2016 - 44</td>\n",
       "      <td>0.08</td>\n",
       "      <td>Raamact.</td>\n",
       "    </tr>\n",
       "    <tr>\n",
       "      <th>1</th>\n",
       "      <td>pr.minDepth.cutfill.volopp.dikte.pct</td>\n",
       "      <td>pct.opp.minDepth.cut</td>\n",
       "      <td>%</td>\n",
       "      <td>bv.1.7.1.1</td>\n",
       "      <td>Den Helder - Texel, Vaarweg</td>\n",
       "      <td>2016 - 44</td>\n",
       "      <td>0.04</td>\n",
       "      <td>Raamact.</td>\n",
       "    </tr>\n",
       "    <tr>\n",
       "      <th>2</th>\n",
       "      <td>pr.minDepth.cutfill.volopp.setfill</td>\n",
       "      <td>m2.minDepth.cut</td>\n",
       "      <td>m2</td>\n",
       "      <td>bv.1.7.1.1</td>\n",
       "      <td>Den Helder - Texel, Vaarweg</td>\n",
       "      <td>2016 - 44</td>\n",
       "      <td>148.00</td>\n",
       "      <td>Raamact.</td>\n",
       "    </tr>\n",
       "    <tr>\n",
       "      <th>3</th>\n",
       "      <td>pr.minDepth.cutfill.volopp.setfill</td>\n",
       "      <td>m3.minDepth.cut</td>\n",
       "      <td>m3</td>\n",
       "      <td>bv.1.7.1.1</td>\n",
       "      <td>Den Helder - Texel, Vaarweg</td>\n",
       "      <td>2016 - 44</td>\n",
       "      <td>312.97</td>\n",
       "      <td>Raamact.</td>\n",
       "    </tr>\n",
       "    <tr>\n",
       "      <th>4</th>\n",
       "      <td>pr.minDepth.cutfill.volopp.dikte.pct</td>\n",
       "      <td>cm.avg.minDepth.cut</td>\n",
       "      <td>cm</td>\n",
       "      <td>bv.1.7.1.1</td>\n",
       "      <td>Den Helder - Texel, Vaarweg</td>\n",
       "      <td>2016 - 45</td>\n",
       "      <td>0.08</td>\n",
       "      <td>Raamact.</td>\n",
       "    </tr>\n",
       "  </tbody>\n",
       "</table>\n",
       "</div>"
      ],
      "text/plain": [
       "                               moduleId           parameterId units  \\\n",
       "0  pr.minDepth.cutfill.volopp.dikte.pct   cm.avg.minDepth.cut    cm   \n",
       "1  pr.minDepth.cutfill.volopp.dikte.pct  pct.opp.minDepth.cut     %   \n",
       "2    pr.minDepth.cutfill.volopp.setfill       m2.minDepth.cut    m2   \n",
       "3    pr.minDepth.cutfill.volopp.setfill       m3.minDepth.cut    m3   \n",
       "4  pr.minDepth.cutfill.volopp.dikte.pct   cm.avg.minDepth.cut    cm   \n",
       "\n",
       "   locationId                  stationName       date   value  Activity  \n",
       "0  bv.1.7.1.1  Den Helder - Texel, Vaarweg  2016 - 44    0.08  Raamact.  \n",
       "1  bv.1.7.1.1  Den Helder - Texel, Vaarweg  2016 - 44    0.04  Raamact.  \n",
       "2  bv.1.7.1.1  Den Helder - Texel, Vaarweg  2016 - 44  148.00  Raamact.  \n",
       "3  bv.1.7.1.1  Den Helder - Texel, Vaarweg  2016 - 44  312.97  Raamact.  \n",
       "4  bv.1.7.1.1  Den Helder - Texel, Vaarweg  2016 - 45    0.08  Raamact.  "
      ]
     },
     "execution_count": 54,
     "metadata": {},
     "output_type": "execute_result"
    }
   ],
   "source": [
    "roworientedDF.head()"
   ]
  },
  {
   "cell_type": "code",
   "execution_count": 83,
   "metadata": {
    "collapsed": false,
    "deletable": true,
    "editable": true
   },
   "outputs": [
    {
     "data": {
      "text/plain": [
       "'[{\"moduleI'"
      ]
     },
     "execution_count": 83,
     "metadata": {},
     "output_type": "execute_result"
    }
   ],
   "source": [
    "roworientedJSON[0:10]"
   ]
  },
  {
   "cell_type": "code",
   "execution_count": null,
   "metadata": {
    "collapsed": false,
    "deletable": true,
    "editable": true
   },
   "outputs": [],
   "source": [
    "# from altair import *\n",
    "# # Define a custom colormape using Hex codes & HTML color names\n",
    "# colormap = Scale(domain=['nan', 0, 100, 200, 350, 1000, 3000],#[0, 1, 100, 300, 1000, 3000, 10000],\n",
    "#                  range=['white', '#F0F8FF', 'cornflowerblue',\n",
    "#                         'mediumseagreen', '#FFEE00', 'darkorange', 'firebrick'])\n",
    "\n",
    "# # Define our chart with aesthetic customizations\n",
    "# chart = Chart(roworientedDF.loc[roworientedDF['Activity'] == 'Taak']).mark_text(\n",
    "#     applyColorToBackground=True,\n",
    "# ).encode(\n",
    "#     Column('date'),#,axis=Axis(values=date_axes_values, title=' ')),\n",
    "#     Row('stationName'),# axis=Axis(title='location')),\n",
    "#     Color('sum(value)', scale=colormap,\n",
    "#           legend=Legend(title='legend label',\n",
    "#                         values=[0, 1000, 2000, 3000])),\n",
    "#     Text(value=' ')\n",
    "# ).configure_scale(\n",
    "#     textBandWidth=10,\n",
    "#     bandSize=10\n",
    "# )\n",
    "\n",
    "# json = chart.to_dict()\n",
    "\n",
    "# Chart.from_dict(json).display()"
   ]
  },
  {
   "cell_type": "code",
   "execution_count": 55,
   "metadata": {
    "collapsed": true,
    "deletable": true,
    "editable": true
   },
   "outputs": [],
   "source": [
    "#set HKV database\n",
    "import requests\n",
    "import json"
   ]
  },
  {
   "cell_type": "code",
   "execution_count": 56,
   "metadata": {
    "collapsed": false,
    "deletable": true,
    "editable": true
   },
   "outputs": [],
   "source": [
    "# # Create database\n",
    "# url = r'http://85.17.82.66/dataservices/database.asmx/create?database=OMSWaddenzee'\n",
    "# r = requests.get(url)\n",
    "# json.loads(r.content.decode('utf-8'))"
   ]
  },
  {
   "cell_type": "code",
   "execution_count": 80,
   "metadata": {
    "collapsed": false,
    "deletable": true,
    "editable": true
   },
   "outputs": [
    {
     "data": {
      "text/plain": [
       "{'database': 'OMSWaddenzee',\n",
       " 'date': '2017-06-23 22:18:35',\n",
       " 'version': '0.2.0.0'}"
      ]
     },
     "execution_count": 80,
     "metadata": {},
     "output_type": "execute_result"
    }
   ],
   "source": [
    "# Check database version\n",
    "url = r'http://85.17.82.66/dataservices/database.asmx/version?database=OMSWaddenzee'\n",
    "r = requests.get(url)\n",
    "r.json()"
   ]
  },
  {
   "cell_type": "code",
   "execution_count": 81,
   "metadata": {
    "collapsed": false,
    "deletable": true,
    "editable": true
   },
   "outputs": [
    {
     "data": {
      "text/plain": [
       "[{'date': '2017-06-23 22:37:43',\n",
       "  'description': 'test',\n",
       "  'id': 'eb188fbc-d362-4cc1-a9bc-b6383b0da792',\n",
       "  'key': 'pr.Reizen.vdLee.baggeracties|k.m3.gebaggerd.vdlee|bv.1.7.3.1.1|m3'},\n",
       " {'date': '2017-06-30 12:21:29',\n",
       "  'description': '',\n",
       "  'id': 'e9c227cd-d380-4b44-b176-1cfc8b54293c',\n",
       "  'key': 'k.m3.gebaggerd.mars|m3'},\n",
       " {'date': '2017-06-30 12:29:15',\n",
       "  'description': '',\n",
       "  'id': 'e12f17bb-d762-4312-998c-d304094023cf',\n",
       "  'key': 'k.m3.gebaggerd.vdlee|m3'},\n",
       " {'date': '2017-08-02 05:30:14',\n",
       "  'description': 'wekelijkse baggerhoeveelheden gerapporteerd door vdLee',\n",
       "  'id': '23397cb5-e1ca-484b-abfe-8a7e966b92da',\n",
       "  'key': 'k.m3.gebaggerd.vdlee'},\n",
       " {'date': '2017-08-02 12:07:34',\n",
       "  'description': 'wekelijkse max waarden van de NGH cut parameters',\n",
       "  'id': '14dcafde-d761-4e09-8d2b-4fffe681a014',\n",
       "  'key': 'trendParameters_min_cut'}]"
      ]
     },
     "execution_count": 81,
     "metadata": {},
     "output_type": "execute_result"
    }
   ],
   "source": [
    "# List items in database\n",
    "url = r'http://85.17.82.66/dataservices/data.asmx/list?database=OMSWaddenzee'\n",
    "r = requests.get(url)\n",
    "r.json()"
   ]
  },
  {
   "cell_type": "code",
   "execution_count": 66,
   "metadata": {
    "collapsed": false,
    "deletable": true,
    "editable": true,
    "scrolled": true
   },
   "outputs": [
    {
     "name": "stdout",
     "output_type": "stream",
     "text": [
      "\n",
      "Prefixes:\n",
      "     xsd: http://www.w3.org/2001/XMLSchema\n",
      "     ns0: http://tempuri.org/\n",
      "\n",
      "Global elements:\n",
      "     ns0:create(database: xsd:string, key: xsd:string, description: xsd:string, data: xsd:string)\n",
      "     ns0:createResponse(createResult: xsd:string)\n",
      "     ns0:delete(database: xsd:string, key: xsd:string)\n",
      "     ns0:deleteResponse()\n",
      "     ns0:list(database: xsd:string)\n",
      "     ns0:listResponse()\n",
      "     ns0:read(database: xsd:string, key: xsd:string)\n",
      "     ns0:readResponse()\n",
      "     ns0:string(xsd:string)\n",
      "     ns0:update(database: xsd:string, key: xsd:string, description: xsd:string, data: xsd:string)\n",
      "     ns0:updateResponse(updateResult: xsd:string)\n",
      "     \n",
      "\n",
      "Global types:\n",
      "     xsd:anyType\n",
      "     xsd:ENTITIES\n",
      "     xsd:ENTITY\n",
      "     xsd:ID\n",
      "     xsd:IDREF\n",
      "     xsd:IDREFS\n",
      "     xsd:NCName\n",
      "     xsd:NMTOKEN\n",
      "     xsd:NMTOKENS\n",
      "     xsd:NOTATION\n",
      "     xsd:Name\n",
      "     xsd:QName\n",
      "     xsd:anySimpleType\n",
      "     xsd:anyURI\n",
      "     xsd:base64Binary\n",
      "     xsd:boolean\n",
      "     xsd:byte\n",
      "     xsd:date\n",
      "     xsd:dateTime\n",
      "     xsd:decimal\n",
      "     xsd:double\n",
      "     xsd:duration\n",
      "     xsd:float\n",
      "     xsd:gDay\n",
      "     xsd:gMonth\n",
      "     xsd:gMonthDay\n",
      "     xsd:gYear\n",
      "     xsd:gYearMonth\n",
      "     xsd:hexBinary\n",
      "     xsd:int\n",
      "     xsd:integer\n",
      "     xsd:language\n",
      "     xsd:long\n",
      "     xsd:negativeInteger\n",
      "     xsd:nonNegativeInteger\n",
      "     xsd:nonPositiveInteger\n",
      "     xsd:normalizedString\n",
      "     xsd:positiveInteger\n",
      "     xsd:short\n",
      "     xsd:string\n",
      "     xsd:time\n",
      "     xsd:token\n",
      "     xsd:unsignedByte\n",
      "     xsd:unsignedInt\n",
      "     xsd:unsignedLong\n",
      "     xsd:unsignedShort\n",
      "\n",
      "Bindings:\n",
      "     HttpGetBinding: {http://tempuri.org/}dataHttpGet\n",
      "     HttpPostBinding: {http://tempuri.org/}dataHttpPost\n",
      "     Soap11Binding: {http://tempuri.org/}dataSoap\n",
      "     Soap12Binding: {http://tempuri.org/}dataSoap12\n",
      "\n",
      "Service: data\n",
      "     Port: dataSoap (Soap11Binding: {http://tempuri.org/}dataSoap)\n",
      "         Operations:\n",
      "            create(database: xsd:string, key: xsd:string, description: xsd:string, data: xsd:string) -> createResult: xsd:string\n",
      "            delete(database: xsd:string, key: xsd:string) -> \n",
      "            list(database: xsd:string) -> \n",
      "            read(database: xsd:string, key: xsd:string) -> \n",
      "            update(database: xsd:string, key: xsd:string, description: xsd:string, data: xsd:string) -> updateResult: xsd:string\n",
      "\n",
      "     Port: dataSoap12 (Soap12Binding: {http://tempuri.org/}dataSoap12)\n",
      "         Operations:\n",
      "            create(database: xsd:string, key: xsd:string, description: xsd:string, data: xsd:string) -> createResult: xsd:string\n",
      "            delete(database: xsd:string, key: xsd:string) -> \n",
      "            list(database: xsd:string) -> \n",
      "            read(database: xsd:string, key: xsd:string) -> \n",
      "            update(database: xsd:string, key: xsd:string, description: xsd:string, data: xsd:string) -> updateResult: xsd:string\n",
      "\n",
      "     Port: dataHttpGet (HttpGetBinding: {http://tempuri.org/}dataHttpGet)\n",
      "         Operations:\n",
      "            create(database: xsd:string, key: xsd:string, description: xsd:string, data: xsd:string) -> xsd:string\n",
      "            delete(database: xsd:string, key: xsd:string)\n",
      "            list(database: xsd:string)\n",
      "            read(database: xsd:string, key: xsd:string)\n",
      "            update(database: xsd:string, key: xsd:string, description: xsd:string, data: xsd:string) -> xsd:string\n",
      "\n",
      "     Port: dataHttpPost (HttpPostBinding: {http://tempuri.org/}dataHttpPost)\n",
      "         Operations:\n",
      "            create(database: xsd:string, key: xsd:string, description: xsd:string, data: xsd:string) -> xsd:string\n",
      "            delete(database: xsd:string, key: xsd:string)\n",
      "            list(database: xsd:string)\n",
      "            read(database: xsd:string, key: xsd:string)\n",
      "            update(database: xsd:string, key: xsd:string, description: xsd:string, data: xsd:string) -> xsd:string\n",
      "\n"
     ]
    }
   ],
   "source": [
    "import zeep\n",
    "client = zeep.Client(wsdl='http://85.17.82.66/dataservices/data.asmx?WSDL')\n",
    "client.wsdl.dump()"
   ]
  },
  {
   "cell_type": "code",
   "execution_count": 64,
   "metadata": {
    "collapsed": false,
    "deletable": true,
    "editable": true
   },
   "outputs": [
    {
     "data": {
      "text/plain": [
       "{'date': '2017-08-02 12:07:24',\n",
       " 'id': '14dcafde-d761-4e09-8d2b-4fffe681a014',\n",
       " 'key': 'trendParameters_min_cut'}"
      ]
     },
     "execution_count": 64,
     "metadata": {},
     "output_type": "execute_result"
    }
   ],
   "source": [
    "zeep_out = client.service.create(database = 'OMSWaddenzee', \n",
    "                                 key='trendParameters_min_cut', \n",
    "                                 description='wekelijkse max waarden van de NGH cut parameters', \n",
    "                                 data=roworientedJSON)\n",
    "json.loads(zeep_out)"
   ]
  },
  {
   "cell_type": "code",
   "execution_count": 61,
   "metadata": {
    "collapsed": false,
    "deletable": true,
    "editable": true
   },
   "outputs": [
    {
     "data": {
      "text/plain": [
       "{}"
      ]
     },
     "execution_count": 61,
     "metadata": {},
     "output_type": "execute_result"
    }
   ],
   "source": [
    "# # Get data after create datarecord\n",
    "# url = r'http://85.17.82.66/dataservices/data.asmx/read?database=OMSWaddenzee&key=k.m3.gebaggerd.vdlee'\n",
    "# r = requests.get(url)\n",
    "# stacked_out = json.loads(r.content.decode('utf-8'))"
   ]
  },
  {
   "cell_type": "code",
   "execution_count": 65,
   "metadata": {
    "collapsed": false,
    "deletable": true,
    "editable": true
   },
   "outputs": [
    {
     "name": "stdout",
     "output_type": "stream",
     "text": [
      "{'version': '0.2.0.0', 'database': 'OMSWaddenzee', 'recordsaffected': '1'}\n"
     ]
    }
   ],
   "source": [
    "# Update (replace) data for datarecord\n",
    "zeep_out = client.service.update(database = 'OMSWaddenzee', \n",
    "                                 key='trendParameters_min_cut', \n",
    "                                 description='wekelijkse max waarden van de NGH cut parameters', \n",
    "                                 data=roworientedJSON)\n",
    "print (json.loads(zeep_out))"
   ]
  },
  {
   "cell_type": "code",
   "execution_count": null,
   "metadata": {
    "collapsed": false,
    "deletable": true,
    "editable": true
   },
   "outputs": [],
   "source": [
    "# # Get data after update datarecord\n",
    "# url = r'http://85.17.82.66/dataservices/data.asmx/read?database=OMSWaddenzee&key=k.m3.gebaggerd.vdlee'\n",
    "# r = requests.get(url)\n",
    "# json.loads(r.content.decode('utf-8'))"
   ]
  },
  {
   "cell_type": "code",
   "execution_count": null,
   "metadata": {
    "collapsed": false,
    "deletable": true,
    "editable": true
   },
   "outputs": [],
   "source": [
    "# # delete data from database\n",
    "# url = r'http://85.17.82.66/dataservices/data.asmx/delete?database=OMSWaddenzee&key=k.m3.gebaggerd.vdlee'\n",
    "# r = requests.get(url)\n",
    "# json.loads(r.content.decode('utf-8'))"
   ]
  },
  {
   "cell_type": "code",
   "execution_count": null,
   "metadata": {
    "collapsed": false,
    "deletable": true,
    "editable": true
   },
   "outputs": [],
   "source": [
    "#stacked.date = stacked.date.astype(np.int64) // 10**9\n",
    "#stacked.date = stacked.date.dt.strftime('%Y%m%d')"
   ]
  },
  {
   "cell_type": "code",
   "execution_count": null,
   "metadata": {
    "collapsed": true,
    "deletable": true,
    "editable": true
   },
   "outputs": [],
   "source": [
    "# webquery for all locations"
   ]
  },
  {
   "cell_type": "raw",
   "metadata": {
    "deletable": true,
    "editable": true
   },
   "source": [
    "http://www.oms-waddenzee.nl/oms.ws/runpython.asmx/Start2?input=fewsPiParser.py%20getLocations%20--piService=%27http://www.oms-waddenzee.nl:8081/FewsPiService/fewspiservice?wsdl%27%20--filterId=%27f_werk.1%27"
   ]
  },
  {
   "cell_type": "code",
   "execution_count": null,
   "metadata": {
    "collapsed": true,
    "deletable": true,
    "editable": true
   },
   "outputs": [],
   "source": [
    "# webquery for timeseries for selection with 2 locations"
   ]
  },
  {
   "cell_type": "raw",
   "metadata": {
    "deletable": true,
    "editable": true
   },
   "source": [
    "http://www.oms-waddenzee.nl/oms.ws/runpython.asmx/Start2?input=fewsPiParser.py%20getTimeseries%20--piService%3D%27http%3A%2F%2Fwww.oms-waddenzee.nl%3A8081%2FFewsPiService%2Ffewspiservice%3Fwsdl%27%20--locationIds%3D%5B%27bv.1.7.2.3.2%27%2C%27bv.1.7.3.1.1%27%5D%20--moduleInstanceIds%3D%27pr.Reizen.vdLee.baggeracties%27%20--parameterIds%3D%27k.m3.gebaggerd.vdlee%27%20--startTime%3D%272017-01-01T02%3A00%3A00.0%2B02%3A00%27%20--endTime%3D%272017-06-01T01%3A00%3A00.0%2B02%3A00%27%20--convertDatum%3D%27false%27%20--omitMissing%3D%27false%27%20--onlyHeaders%3D%27false%27%20--filterId%3D%27%27"
   ]
  },
  {
   "cell_type": "code",
   "execution_count": null,
   "metadata": {
    "collapsed": true,
    "deletable": true,
    "editable": true
   },
   "outputs": [],
   "source": [
    "# webquery for timeseries for all locations"
   ]
  },
  {
   "cell_type": "raw",
   "metadata": {
    "deletable": true,
    "editable": true
   },
   "source": [
    "http://www.oms-waddenzee.nl/oms.ws/runpython.asmx/Start2?input=fewsPiParser.py%20getTimeseries%20--piService%3D%27http%3A%2F%2Fwww.oms-waddenzee.nl%3A8081%2FFewsPiService%2Ffewspiservice%3Fwsdl%27%20--locationIds%3D%27%27%20--moduleInstanceIds%3D%27pr.Reizen.vdLee.baggeracties%27%20--parameterIds%3D%27k.m3.gebaggerd.vdlee%27%20--startTime%3D%272017-01-01T02%3A00%3A00.0%2B02%3A00%27%20--endTime%3D%272017-06-01T01%3A00%3A00.0%2B02%3A00%27%20--convertDatum%3D%27false%27%20--omitMissing%3D%27false%27%20--onlyHeaders%3D%27false%27%20--filterId%3D%27%27"
   ]
  }
 ],
 "metadata": {
  "kernelspec": {
   "display_name": "Python 3",
   "language": "python",
   "name": "python3"
  },
  "language_info": {
   "codemirror_mode": {
    "name": "ipython",
    "version": 3
   },
   "file_extension": ".py",
   "mimetype": "text/x-python",
   "name": "python",
   "nbconvert_exporter": "python",
   "pygments_lexer": "ipython3",
   "version": "3.5.2"
  }
 },
 "nbformat": 4,
 "nbformat_minor": 2
}
