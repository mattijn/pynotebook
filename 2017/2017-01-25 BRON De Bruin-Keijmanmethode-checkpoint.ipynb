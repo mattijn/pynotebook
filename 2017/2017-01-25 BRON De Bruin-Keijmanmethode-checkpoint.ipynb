{
 "cells": [
  {
   "cell_type": "code",
   "execution_count": null,
   "metadata": {
    "collapsed": false,
    "deletable": true,
    "editable": true
   },
   "outputs": [],
   "source": [
    "#import BruinKeijman as bk\n",
    "import pandas as pd\n",
    "import numpy as np\n",
    "import scipy.constants as constants\n",
    "from datetime import datetime, timedelta\n",
    "import os \n",
    "from osgeo import gdal\n",
    "import numpy as np\n",
    "import matplotlib.pyplot as plt\n",
    "import matplotlib.ticker as mticker\n",
    "import io\n",
    "from nbformat import current\n",
    "from scipy.stats import kendalltau\n",
    "import seaborn as sns\n",
    "from scipy import stats\n",
    "%matplotlib inline"
   ]
  },
  {
   "cell_type": "code",
   "execution_count": null,
   "metadata": {
    "collapsed": true,
    "deletable": true,
    "editable": true
   },
   "outputs": [],
   "source": [
    "sns.set(style='ticks')#, rc={'axes.facecolor':'black', 'figure.facecolor':'black'})"
   ]
  },
  {
   "cell_type": "code",
   "execution_count": null,
   "metadata": {
    "collapsed": true,
    "deletable": true,
    "editable": true
   },
   "outputs": [],
   "source": [
    "def inRaster(file_raster):\n",
    "    raster = gdal.Open(file_raster, gdal.GA_ReadOnly)\n",
    "    band = raster.GetRasterBand(1)\n",
    "    array = band.ReadAsArray()\n",
    "    extent = raster.GetGeoTransform()\n",
    "    return raster, array, extent"
   ]
  },
  {
   "cell_type": "code",
   "execution_count": null,
   "metadata": {
    "collapsed": true,
    "deletable": true,
    "editable": true
   },
   "outputs": [],
   "source": [
    "def saveRaster(path, array, dsSource, datatype=6, formatraster=\"GTiff\", nan=None): \n",
    "    \"\"\"\n",
    "    Datatypes:\n",
    "    unknown = 0\n",
    "    byte = 1\n",
    "    unsigned int16 = 2\n",
    "    signed int16 = 3\n",
    "    unsigned int32 = 4\n",
    "    signed int32 = 5\n",
    "    float32 = 6\n",
    "    float64 = 7\n",
    "    complex int16 = 8\n",
    "    complex int32 = 9\n",
    "    complex float32 = 10\n",
    "    complex float64 = 11\n",
    "    float32 = 6, \n",
    "    signed int = 3\n",
    "    \n",
    "    Formatraster:\n",
    "    GeoTIFF = GTiff\n",
    "    Erdas = HFA (output = .img)\n",
    "    OGC web map service = WMS\n",
    "    png = PNG\n",
    "    \"\"\"\n",
    "    # Set Driver\n",
    "    format_ = formatraster #save as format\n",
    "    driver = gdal.GetDriverByName( format_ )\n",
    "    driver.Register()\n",
    "    \n",
    "    # Set Metadata for Raster output\n",
    "    cols = dsSource.RasterXSize\n",
    "    rows = dsSource.RasterYSize\n",
    "    bands = dsSource.RasterCount\n",
    "    datatype = datatype#band.DataType\n",
    "    \n",
    "    # Set Projection for Raster\n",
    "    outDataset = driver.Create(path, cols, rows, bands, datatype)\n",
    "    geoTransform = dsSource.GetGeoTransform()\n",
    "    outDataset.SetGeoTransform(geoTransform)\n",
    "    proj = dsSource.GetProjection()\n",
    "    outDataset.SetProjection(proj)\n",
    "    \n",
    "    # Write output to band 1 of new Raster and write NaN value\n",
    "    outBand = outDataset.GetRasterBand(1)\n",
    "    if nan != None:\n",
    "        outBand.SetNoDataValue(nan)\n",
    "    outBand.WriteArray(array) #save input array\n",
    "    #outBand.WriteArray(dem)\n",
    "    \n",
    "    # Close and finalise newly created Raster\n",
    "    #F_M01 = None\n",
    "    outBand = None\n",
    "    proj = None\n",
    "    geoTransform = None\n",
    "    outDataset = None\n",
    "    driver = None\n",
    "    datatype = None\n",
    "    bands = None\n",
    "    rows = None\n",
    "    cols = None\n",
    "    driver = None\n",
    "    array = None"
   ]
  },
  {
   "cell_type": "code",
   "execution_count": null,
   "metadata": {
    "collapsed": true,
    "deletable": true,
    "editable": true
   },
   "outputs": [],
   "source": [
    "def bk_lamda(T_a_avg):\n",
    "    \"\"\"\n",
    "    input:\n",
    "    T_a_avg     :  air temperature, gemiddelde dagtemperatuur (°C)\n",
    "    \n",
    "    output:\n",
    "    _lambda :  the latent heat of vaporization, verdampingswarmte van water (MJ kg-1)\n",
    "    \"\"\"\n",
    "    lamda = 2.501 - 2.3601e-3 * T_a_avg\n",
    "    \n",
    "    return lamda"
   ]
  },
  {
   "cell_type": "code",
   "execution_count": null,
   "metadata": {
    "collapsed": false,
    "deletable": true,
    "editable": true
   },
   "outputs": [],
   "source": [
    "def bk_gamma(e_a, lamda):\n",
    "    \"\"\"\n",
    "    input:\n",
    "    e_a     :  vapor pressure at the air temperature, luchtdruk (kPa) op hoogte z0\n",
    "    lamda   :  the latent heat of vaporization, verdampingswarmte van water (MJ kg-1)\n",
    "    \n",
    "    output:\n",
    "    gamma   :  psychrometric constant, psychrometerconstante (kPa K-1)\n",
    "    \"\"\"\n",
    "    \n",
    "    gamma = 0.00163 * (e_a / lamda)\n",
    "    \n",
    "    return gamma"
   ]
  },
  {
   "cell_type": "code",
   "execution_count": null,
   "metadata": {
    "collapsed": false,
    "deletable": true,
    "editable": true
   },
   "outputs": [],
   "source": [
    "def bk_s(e_s, T_a_avg):\n",
    "    \"\"\"\n",
    "    input:\n",
    "    e_s     :  saturated vapor pressure at the air temperature, verzadigde dampdruk (kPa)\n",
    "    T_a_avg :  air temperature, gemiddelde dagtemperatuur (K)\n",
    "    \n",
    "    output:\n",
    "    s       :  afgeleide van e_s bij luchttemperatuur T (kPa K-1)\n",
    "    \"\"\"    \n",
    "    s = (4098 * e_s) / (T_a_avg + 237.3)**2\n",
    "    return s"
   ]
  },
  {
   "cell_type": "code",
   "execution_count": null,
   "metadata": {
    "collapsed": true,
    "deletable": true,
    "editable": true
   },
   "outputs": [],
   "source": [
    "def bk_Makkink(s, K_in, gamma, lamda_w):\n",
    "    \"\"\"\n",
    "    input:\n",
    "    s       :  afgeleide van e_s bij luchttemperatuur T (kPa K-1)\n",
    "    k_in    :  inkomende kortgolvige straling (W/m2)\n",
    "    gamma   :  psychrometric constant, psychrometerconstante (kPa K-1)\n",
    "    lamda_w :  verdampingswarmte van water = 2.45 MJ kg-1\n",
    "    \n",
    "    output:\n",
    "    E_mk    :  referentieverdamping (mm/d)\n",
    "    \"\"\"    \n",
    "    lamda_w  = (lamda_w * 1000000 ) #J/Kg\n",
    "    E_mk     = (((0.65 * (s/(s+gamma))) * K_in ) / lamda_w) * 86400 #mm/s -> mm/d\n",
    "    \n",
    "    return E_mk"
   ]
  },
  {
   "cell_type": "code",
   "execution_count": null,
   "metadata": {
    "collapsed": false,
    "deletable": true,
    "editable": true
   },
   "outputs": [],
   "source": [
    "def bk_G(rho_w, c_w, T_vwt):\n",
    "    \"\"\"\n",
    "    input:\n",
    "    rho_w   :  density of air, dichtheid van water (= 1000 kg m-3)\n",
    "    c_w     :  specific heat of water, soortelijke wartme van water (= 4200 J kg-1 K-1)\n",
    "    T_vwt   :  vertical water temperature profile, change of water temperature over time, verandering van de watertemperatuur (K) met de tijd (s)\n",
    "    \n",
    "    output:\n",
    "    G       :  soil heat flux density of land surfaces, bodemwarmtestroom (W m-2)\n",
    "    \"\"\"     \n",
    "\n",
    "    G = rho_w * c_w * T_vwt\n",
    "    return G"
   ]
  },
  {
   "cell_type": "code",
   "execution_count": null,
   "metadata": {
    "collapsed": false,
    "deletable": true,
    "editable": true
   },
   "outputs": [],
   "source": [
    "# Tabel A1: schatting van de watertemperatuur en de verandering van watertemperatuur \n",
    "# met de tijd in friesland door het jaar heen\n",
    "month = pd.Series(data=['january','february','march','april','may','june','july','august','september','october',\n",
    "                        'november','december'],name='month')\n",
    "DOY_s = pd.Series(data=[1,32,60,91,121,152,182,213,244,274,305,335],name='DOY_s')\n",
    "DOY_e = pd.Series(data=[31,59,90,120,151,181,212,243,273,304,334,365],name='DOY_e')\n",
    "T_w_C = pd.Series(data=[3,4,7,10,15,18,19,20,17,14,8,5],name='T_w_C')\n",
    "T_w_K = pd.Series(data=[276.15,277.15,280.15,283.15,288.15,291.15,292.15,293.15,290.15,287.15,281.15,278.15],name='T_w_K')\n",
    "dTdt_Kd = pd.Series(data=[-0.06,0.03,0.1,0.1,0.17,0.1,0.03,0.03,-0.1,-0.1,-0.19,-0.1],name='dTdt_Kd')\n",
    "dTdt_Ks = pd.Series(data=[-7.46714e-7,3.73357e-7,1.19732e-6,1.12007e-6,1.92901e-6,1.12007e-6,3.85802e-7,3.73357e-7,\n",
    "                          -1.12007e-6,-1.15741e-6,-2.24014e-6,-1.15741e-6],name='dTdt_Ks')\n",
    "\n",
    "lookup_dTdt_Ks = pd.DataFrame([month,DOY_s,DOY_e,T_w_C,T_w_K,dTdt_Kd,dTdt_Ks]).T\n",
    "\n",
    "def bk_T_vwt(z_avg, x, lookup_dTdt_Ks):\n",
    "    \"\"\"\n",
    "    input:\n",
    "    z_avg   :  the average depth of the lake area, waterdiepte (m) (Leeuwarden: gemiddelde waterdiepte over het gebied)\n",
    "    x       :  the day of the the year (DOY), dag van het jaar\n",
    "    lookup_dTdt_Ks  :  lookup table for estimate delta water temperature over delta time, verandering van de \n",
    "                       watertemperatuur (K) met de tijd (s) \n",
    "    \n",
    "    output:\n",
    "    T_vwt   :  vertical water temperature profile, change of water temperature over time, verandering van de watertemperatuur (K) met de tijd (s)\n",
    "    \"\"\"\n",
    "    \n",
    "    for idx, item in enumerate(lookup_dTdt_Ks['DOY_e']):        \n",
    "        if x <= item:            \n",
    "            _dTdt_Ks = lookup_dTdt_Ks.ix[idx]['dTdt_Ks']\n",
    "            T_vwt = z_avg * _dTdt_Ks\n",
    "            return T_vwt"
   ]
  },
  {
   "cell_type": "code",
   "execution_count": null,
   "metadata": {
    "collapsed": true,
    "deletable": true,
    "editable": true
   },
   "outputs": [],
   "source": [
    "def bk_N_rel(C,n=None,N=None):\n",
    "    \"\"\"\n",
    "    input:\n",
    "    n       :  actual sunshine duration, actuele zonneschijnduur (uur d-1)\n",
    "    N       :  maxium sunshine duration, maximaal mogelijke zonneschijnduur (uur d-1)\n",
    "    C       :  bedekkingsgraad van de bewolking (-)\n",
    "    \n",
    "    output:\n",
    "    N_rel   :  relatieve zonneschijnduur (-)\n",
    "    \"\"\"    \n",
    "    \n",
    "    #N_rel = n / N\n",
    "    N_rel = 1 - C\n",
    "    \n",
    "    return N_rel"
   ]
  },
  {
   "cell_type": "code",
   "execution_count": null,
   "metadata": {
    "collapsed": true,
    "deletable": true,
    "editable": true
   },
   "outputs": [],
   "source": [
    "def bk_e_s(T_a_min,T_a_max):\n",
    "    \"\"\"\n",
    "    input:\n",
    "    T_a_min :  minimum dagtemperatuur (°C)\n",
    "    T_a_max :  maximum dagtemperatuur (°C)\n",
    "    \n",
    "    output:\n",
    "    e_s    :  saturated vapor pressure at the air temperature, verzadigde dampdruk (kPa)\n",
    "    \"\"\"    \n",
    "    \n",
    "    e_s = 0.305 * ( np.exp((17.27 * T_a_min) / (T_a_min + 273.3)) + np.exp((17.27 * T_a_max) / (T_a_max + 273.3)) )\n",
    "    return e_s"
   ]
  },
  {
   "cell_type": "code",
   "execution_count": null,
   "metadata": {
    "collapsed": true,
    "deletable": true,
    "editable": true
   },
   "outputs": [],
   "source": [
    "def bk_e_z(RH, e_s):\n",
    "    \"\"\"\n",
    "    input:\n",
    "    RH      :  relatieve vochtigheid (-)\n",
    "    e_s     :  verzadigde dampdruk (kPa)\n",
    "    \n",
    "    output:\n",
    "    e_z     :  e(z) partiele dampdruk van water op hoogte z (kPa) (Leeuwarden: z = 1.5m)\n",
    "    \"\"\"\n",
    "    \n",
    "    e_z = RH * e_s\n",
    "    return e_z"
   ]
  },
  {
   "cell_type": "code",
   "execution_count": null,
   "metadata": {
    "collapsed": false,
    "deletable": true,
    "editable": true
   },
   "outputs": [],
   "source": [
    "def bk_L_netto_station(epsilon, sigma, T_a_max, T_a_min, e_z, N_rel):\n",
    "    \"\"\"\n",
    "    input:\n",
    "    epsilon :  emissivity, defauly emissivity of water = 0.98     \n",
    "    sigma   :  Stefan-Boltzman constante = 4.903e-9 MK K-4 m-2 d-1\n",
    "    T_a_min :  minimum dagtemperatuur (K)\n",
    "    T_a_max :  maximum dagtemperatuur (K)    \n",
    "    e_z     :  e(z) partiele dampdruk van water op hoogte z (kPa) (Leeuwarden: z = 1.5m)\n",
    "    N_rel   :  relatieve zonneschijnduur (-)    \n",
    "    \n",
    "    output:\n",
    "    L_netto_Wm_m2    :  netto langgolvige straling (W m-2) : 1 MJ m-2 d-1 = 11,574 W m-2\n",
    "    L_netto_MJ_m2_d1 :  netto langgolvige straling (MJ m-2 d-1)    \n",
    "    firstTerm        :  uitgaande langgolvige straling (MJ m-2 d-1) \n",
    "    secondTerm\n",
    "    thirdTerm\n",
    "    \"\"\"    \n",
    "    \n",
    "    firstTerm        = epsilon * sigma * ((T_a_max**4 + T_a_min**4)/2) # L_uit_MJ_m2_d1\n",
    "    secondTerm       = 0.34 - (0.14 * (e_z**0.5))\n",
    "    thirdTerm        = 0.1 + (0.9 * N_rel)\n",
    "    L_netto_MJ_m2_d1 = firstTerm * secondTerm * thirdTerm\n",
    "    L_netto_Wm_m2    = L_netto_MJ_m2_d1 * 11.574\n",
    "    \n",
    "    return L_netto_Wm_m2, L_netto_MJ_m2_d1, firstTerm, secondTerm, thirdTerm"
   ]
  },
  {
   "cell_type": "code",
   "execution_count": null,
   "metadata": {
    "collapsed": true,
    "deletable": true,
    "editable": true
   },
   "outputs": [],
   "source": [
    "def bk_L_netto_InLW(epsilon, sigma, T_a_max, T_a_min, L_inLW):\n",
    "    \"\"\"\n",
    "    input:\n",
    "    epsilon :  emissivity, defauly emissivity of water = 0.96 \n",
    "    sigma   :  Stefan-Boltzman constante = 4.903e-9 MJ K-4 m-2 d-1\n",
    "    T_a_min :  minimum dagtemperatuur (K)\n",
    "    T_a_max :  maximum dagtemperatuur (K)    \n",
    "    L_inLW  :  inkomende langgolvige straling (W m-2)\n",
    "    \n",
    "    output:\n",
    "    L_netto_Wm_m2    :  netto langgolvige straling (W m-2) : 1 MJ m-2 d-1 = 11,574 W m-2\n",
    "    L_uit_Wm_m2      :  uitgaande langgolvige straling (Wm_m2) \n",
    "    L_uit_MJ_m2_d1   :  uitgaande langgolvige straling (MJ m-2 d-1) \n",
    "    \n",
    "    \"\"\"    \n",
    "    L_uit_MJ_m2_d1 = epsilon * sigma * ((T_a_max**4 + T_a_min**4)/2)\n",
    "    L_uit_Wm_m2    = L_uit_MJ_m2_d1 * 11.574\n",
    "    L_netto_Wm_m2  = L_uit_Wm_m2 - L_inLW    \n",
    "    \n",
    "    return L_netto_Wm_m2, L_uit_Wm_m2, L_uit_MJ_m2_d1"
   ]
  },
  {
   "cell_type": "code",
   "execution_count": null,
   "metadata": {
    "collapsed": false,
    "deletable": true,
    "editable": true
   },
   "outputs": [],
   "source": [
    "def bk_Q_ask(K_in, alpha, L_netto):\n",
    "    \"\"\"\n",
    "    input:\n",
    "    K_in    :  dagsom globale straling (W m-2) :: inkomende kortgolvige straling (W m-2)\n",
    "    alpha   :  albedo of water (voor water = 0.06)\n",
    "    L_netto :  netto langgolvige straling (MJ m-2 d-1) : 1 MJ m-2 d-1 = 11574 W m-2\n",
    "    \n",
    "    output:\n",
    "    Q_ask   :  Q* nettostraling (W m-2)    \n",
    "    \"\"\"   \n",
    "    \n",
    "    Q_ask = (1 - alpha) * K_in - L_netto\n",
    "    return Q_ask"
   ]
  },
  {
   "cell_type": "code",
   "execution_count": null,
   "metadata": {
    "collapsed": true,
    "deletable": true,
    "editable": true
   },
   "outputs": [],
   "source": [
    "def bk_lamdaE(Q_ask, G, s, gamma, alpha_aps, beta):\n",
    "    \"\"\"\n",
    "    input:\n",
    "    Q_ask   :  Q* nettostraling (W m-2)    \n",
    "    G       :  soil heat flux density of land surfaces, bodemwarmtestroom (W m-2)\n",
    "    s       :  afgeleide van e_s bij luchttemperatuur T (kPa K-1)\n",
    "    gamma   :  psychrometric constant, psychrometerconstante (kPa K-1)\n",
    "    alpha_aps : α' De Bruin-Keijman constante = 1.1\n",
    "    beta    :  factor 10 W m-2\n",
    "    \n",
    "    output:\n",
    "    lamdaE :  latent heat flux, latente warmtestroom (W m-2)\n",
    "    \"\"\"\n",
    "    \n",
    "    lamdaE = alpha_aps * (s / (s + gamma)) * (Q_ask - G) + beta\n",
    "    return lamdaE"
   ]
  },
  {
   "cell_type": "code",
   "execution_count": null,
   "metadata": {
    "collapsed": false,
    "deletable": true,
    "editable": true
   },
   "outputs": [],
   "source": [
    "def bk_E_ow(lamdaE, lamda_w = 2.45):\n",
    "    \"\"\"\n",
    "    input:\n",
    "    lamdaE :  latent heat flux, latente warmtestroom (W m-2)\n",
    "    lamda_w:  verdampingswarmte van water = 2.45 MJ kg-1\n",
    "    \n",
    "    output:\n",
    "    E_ow    :  openwaterverdamping (mm)\n",
    "    \"\"\"\n",
    "    # 1 MJ m-2 d-1 = 11.574 W m-2\n",
    "    lamda_w_Jkg = lamda_w * 1000000\n",
    "    \n",
    "    E_ow = (lamdaE / lamda_w_Jkg) * 86400  # multiply 1000 to go from meter to milimeter\n",
    "    return E_ow"
   ]
  },
  {
   "cell_type": "code",
   "execution_count": null,
   "metadata": {
    "collapsed": false,
    "deletable": true,
    "editable": true
   },
   "outputs": [],
   "source": [
    "# a latent heat flux of 100 Wm-2 should be equal to 3.5mm open water evaporation\n",
    "#E_ow = bk._E_ow(100)\n",
    "#print (E_ow)"
   ]
  },
  {
   "cell_type": "code",
   "execution_count": null,
   "metadata": {
    "collapsed": true,
    "deletable": true,
    "editable": true
   },
   "outputs": [],
   "source": [
    "def r2(x, y):\n",
    "    return stats.pearsonr(x, y)[0] ** 2"
   ]
  },
  {
   "cell_type": "code",
   "execution_count": null,
   "metadata": {
    "collapsed": true,
    "deletable": true,
    "editable": true
   },
   "outputs": [],
   "source": [
    "def crop(image, x1, x2, y1, y2):\n",
    "    \"\"\"\n",
    "    Return the cropped image at the x1, x2, y1, y2 coordinates\n",
    "    \"\"\"\n",
    "    if x2 == -1:\n",
    "        x2=image.shape[1]-1\n",
    "    if y2 == -1:\n",
    "        y2=image.shape[0]-1\n",
    "\n",
    "    mask = np.zeros(image.shape)\n",
    "    mask[y1:y2+1, x1:x2+1]=1\n",
    "    m = mask>0\n",
    "\n",
    "    return image[m].reshape((y2+1-y1, x2+1-x1))"
   ]
  },
  {
   "cell_type": "code",
   "execution_count": null,
   "metadata": {
    "collapsed": true,
    "deletable": true,
    "editable": true
   },
   "outputs": [],
   "source": [
    "def plot_colors_labels(ax, cb, im, im_title, cb_label, fg_color='white', bg_color='black'):    \n",
    "    # IMSHOW    \n",
    "    # set title plus title color\n",
    "    ax.set_title(im_title, color=fg_color)\n",
    "    \n",
    "    # set figure facecolor\n",
    "    ax.patch.set_facecolor(bg_color)\n",
    "    \n",
    "    # set tick and ticklabel color\n",
    "    im.axes.tick_params(color=fg_color, labelcolor=fg_color)\n",
    "    \n",
    "    # set imshow outline\n",
    "    for spine in im.axes.spines.values():\n",
    "        spine.set_edgecolor(fg_color)    \n",
    "\n",
    "    # COLORBAR\n",
    "    # set colorbar label plus label color\n",
    "    cb.set_label(cb_label, color=fg_color)\n",
    "    \n",
    "    # set colorbar tick color\n",
    "    cb.ax.yaxis.set_tick_params(color=fg_color)\n",
    "    \n",
    "    # set colorbar edgecolor \n",
    "    cb.outline.set_edgecolor(fg_color)\n",
    "    \n",
    "    # set colorbar ticklabels\n",
    "    plt.setp(plt.getp(cb.ax.axes, 'yticklabels'), color=fg_color)"
   ]
  },
  {
   "cell_type": "code",
   "execution_count": null,
   "metadata": {
    "collapsed": true,
    "deletable": true,
    "editable": true
   },
   "outputs": [],
   "source": [
    "def listall(RootFolder, varname='',extension='.png'):\n",
    "    lists = [os.path.join(root, name)\n",
    "             for root, dirs, files in os.walk(RootFolder)\n",
    "             for name in files\n",
    "             if varname in name\n",
    "             if name.endswith(extension)]\n",
    "    return lists"
   ]
  },
  {
   "cell_type": "code",
   "execution_count": null,
   "metadata": {
    "collapsed": true,
    "deletable": true,
    "editable": true
   },
   "outputs": [],
   "source": [
    "def dictFromParam(rootDir):\n",
    "    # input is the rootdirectory that contains the tif files\n",
    "    # output is a dictionary with dates and absolute path to the items\n",
    "    listDir = listall(rootDir, extension='.tif')\n",
    "\n",
    "    # CREATE DICTIONARY OF DATES AND ITEMS FOR ALBEDO FILES\n",
    "    dates = []\n",
    "    items = []\n",
    "    for idx, item in enumerate(listDir):    \n",
    "        base, file  = os.path.split(item)\n",
    "        file, extension = os.path.splitext(file)\n",
    "        date = datetime.strptime(file[-12:-4], '%Y%m%d')\n",
    "        #print(date)\n",
    "        dates.append(date)\n",
    "        items.append(item)\n",
    "    param_dict = dict(zip(dates, items))\n",
    "    return param_dict"
   ]
  },
  {
   "cell_type": "code",
   "execution_count": null,
   "metadata": {
    "collapsed": true,
    "deletable": true,
    "editable": true
   },
   "outputs": [],
   "source": [
    "baseDir = r'D:\\jupyter\\PR3492.10 Eact LSA-SAF\\Toegepast op 2015'"
   ]
  },
  {
   "cell_type": "code",
   "execution_count": null,
   "metadata": {
    "collapsed": true,
    "deletable": true,
    "editable": true
   },
   "outputs": [],
   "source": [
    "root = os.path.join(baseDir, 'ALBEDO', 'tif_IDW_100x100m')\n",
    "listAlbedo = listall(root, extension='.tif')\n",
    "\n",
    "# CREATE DICTIONARY OF DATES AND ITEMS FOR ALBEDO FILES\n",
    "dates_Albedo = []\n",
    "items_Albedo = []\n",
    "for idx, item in enumerate(listAlbedo):\n",
    "    base, file  = os.path.split(listAlbedo[idx])\n",
    "    file, extension = os.path.splitext(file)\n",
    "    date = datetime.strptime(file[-12::], '%Y%m%d%H%M%S')\n",
    "    #print(date)\n",
    "    dates_Albedo.append(date)\n",
    "    items_Albedo.append(item)\n",
    "dict_Albedo = dict(zip(dates_Albedo, items_Albedo))"
   ]
  },
  {
   "cell_type": "code",
   "execution_count": null,
   "metadata": {
    "collapsed": true,
    "deletable": true,
    "editable": true
   },
   "outputs": [],
   "source": [
    "root = os.path.join(baseDir, 'DIDSLF', 'tif_IDW_100x100m')\n",
    "listInLW = listall(root, extension='.tif')\n",
    "\n",
    "# CREATE DICTIONARY OF DATES AND ITEMS FOR ALBEDO FILES\n",
    "dates_InLW = []\n",
    "items_InLW = []\n",
    "for idx, item in enumerate(listInLW):\n",
    "    base, file  = os.path.split(listInLW[idx])\n",
    "    file, extension = os.path.splitext(file)\n",
    "    date = datetime.strptime(file[-12::], '%Y%m%d%H%M%S')\n",
    "    #print(date)\n",
    "    dates_InLW.append(date)\n",
    "    items_InLW.append(item)\n",
    "dict_InLW = dict(zip(dates_InLW, items_InLW))"
   ]
  },
  {
   "cell_type": "code",
   "execution_count": null,
   "metadata": {
    "collapsed": true,
    "deletable": true,
    "editable": true
   },
   "outputs": [],
   "source": [
    "root = os.path.join(baseDir, 'DIDSSF', 'tif_IDW_100x100m')\n",
    "listInSW = listall(root, extension='.tif')\n",
    "\n",
    "# CREATE DICTIONARY OF DATES AND ITEMS FOR ALBEDO FILES\n",
    "dates_InSW = []\n",
    "items_InSW = []\n",
    "for idx, item in enumerate(listInSW):\n",
    "    base, file  = os.path.split(listInSW[idx])\n",
    "    file, extension = os.path.splitext(file)\n",
    "    date = datetime.strptime(file[-12::], '%Y%m%d%H%M%S')\n",
    "    #print(date)\n",
    "    dates_InSW.append(date)\n",
    "    items_InSW.append(item)\n",
    "dict_InSW = dict(zip(dates_InSW, items_InSW))"
   ]
  },
  {
   "cell_type": "code",
   "execution_count": null,
   "metadata": {
    "collapsed": true,
    "deletable": true,
    "editable": true
   },
   "outputs": [],
   "source": [
    "# CREATE DICTIONARIES OF DATES AND ITEMS FOR KNMI FILES\n",
    "# Tmean\n",
    "rootTmean = os.path.join(baseDir, 'KNMI', 'tif_IDW_100x100m','Tmean')\n",
    "dict_Tmean = dictFromParam(rootTmean)\n",
    "\n",
    "# Tmin\n",
    "rootTmin = os.path.join(baseDir, 'KNMI', 'tif_IDW_100x100m', 'Tmin')\n",
    "dict_Tmin = dictFromParam(rootTmin)\n",
    "\n",
    "# Tmax\n",
    "rootTmax = os.path.join(baseDir, 'KNMI', 'tif_IDW_100x100m','Tmax')\n",
    "dict_Tmax = dictFromParam(rootTmax)\n",
    "\n",
    "# Kmean\n",
    "rootKmean = os.path.join(baseDir, 'KNMI', 'tif_IDW_100x100m', 'Kmean')\n",
    "dict_Kmean = dictFromParam(rootKmean)\n",
    "\n",
    "# Kmax\n",
    "rootKmax = os.path.join(baseDir, 'KNMI', 'tif_IDW_100x100m', 'Kmax')\n",
    "dict_Kmax = dictFromParam(rootKmax)\n",
    "\n",
    "# Kmin\n",
    "rootKmin = os.path.join(baseDir, 'KNMI', 'tif_IDW_100x100m', 'Kmin')\n",
    "dict_Kmin = dictFromParam(rootKmin)\n",
    "\n",
    "# Nmean\n",
    "rootNmean = os.path.join(baseDir, 'KNMI', 'tif_IDW_100x100m', 'Nmean')\n",
    "dict_Nmean = dictFromParam(rootNmean)\n",
    "\n",
    "# Pmean\n",
    "rootPmean = os.path.join(baseDir, 'KNMI', 'tif_IDW_100x100m', 'Pmean')\n",
    "dict_Pmean = dictFromParam(rootPmean)\n",
    "\n",
    "# Qsum\n",
    "rootQsum = os.path.join(baseDir, 'KNMI', 'tif_IDW_100x100m', 'Qsum')\n",
    "dict_Qsum = dictFromParam(rootQsum)\n",
    "\n",
    "# Umean\n",
    "rootUmean = os.path.join(baseDir, 'KNMI', 'tif_IDW_100x100m', 'Umean')\n",
    "dict_Umean = dictFromParam(rootUmean)"
   ]
  },
  {
   "cell_type": "code",
   "execution_count": null,
   "metadata": {
    "collapsed": true,
    "deletable": true,
    "editable": true
   },
   "outputs": [],
   "source": [
    "# load water mask or in fact load land and outer-sea mask\n",
    "file_landgebruik = r'D:\\jupyter\\PR3492.10 Eact LSA-SAF\\Toegepast op 2015\\Landgebruik//Landgebruik.tif'\n",
    "#file_water       = r'D:\\Projects\\Pr\\3492.10\\Water//Water_100x100m.tif'\n",
    "array_water      = gdal.Open(file_landgebruik).ReadAsArray()"
   ]
  },
  {
   "cell_type": "code",
   "execution_count": null,
   "metadata": {
    "collapsed": false,
    "deletable": true,
    "editable": true
   },
   "outputs": [],
   "source": [
    "fig = plt.figure(figsize=(14,4))\n",
    "plt.subplot(131)\n",
    "water = np.ma.masked_not_equal(array_water, 12000)\n",
    "np.ma.set_fill_value(water, -999)\n",
    "water[water == 12000] = 1\n",
    "im = plt.imshow(water)\n",
    "plt.colorbar(im)\n",
    "plt.title('water == 1')\n",
    "#plt.show()\n",
    "\n",
    "plt.subplot(132)\n",
    "land = np.ma.masked_where((array_water == 12000) | (array_water == 65535),array_water)\n",
    "np.ma.set_fill_value(land, -999)\n",
    "land[~land.mask] = 1\n",
    "im = plt.imshow(land)\n",
    "plt.colorbar(im)\n",
    "plt.title('land == 1')\n",
    "\n",
    "# grid met diepte van water, default is nu -3mNAP\n",
    "plt.subplot(133)\n",
    "z_avg = 3\n",
    "array_z_avg = np.ma.masked_not_equal(array_water, 12000)\n",
    "np.ma.set_fill_value(array_z_avg, -999)\n",
    "array_z_avg[array_z_avg == 12000] = z_avg\n",
    "im = plt.imshow(array_z_avg)\n",
    "plt.colorbar(im)\n",
    "plt.title('waterdiepte == 3')\n",
    "plt.tight_layout()\n",
    "plt.show()"
   ]
  },
  {
   "cell_type": "code",
   "execution_count": null,
   "metadata": {
    "collapsed": true,
    "deletable": true,
    "editable": true
   },
   "outputs": [],
   "source": [
    "font = {'family': 'arial',\n",
    "        'color':  'white',\n",
    "        'weight': 'normal',\n",
    "        'size': 16,\n",
    "        }"
   ]
  },
  {
   "cell_type": "code",
   "execution_count": null,
   "metadata": {
    "collapsed": false,
    "deletable": true,
    "editable": true
   },
   "outputs": [],
   "source": [
    "constanten = {}\n",
    "constanten['albedo van water']             = {'waarde ':0.06, 'symbool':'α', 'eenheid':'-'}\n",
    "constanten['Stefan-Bolzmann constante']    = {'waarde ':(constants.Stefan_Boltzmann * 86400) / 1000000, 'symbool':'σ', 'eenheid':'MJ/K4/m²/d'}\n",
    "#constanten['Stefan-Bolzmann constante_W']    = {'waarde ':constants.Stefan_Boltzmann, 'symbool':'σ', 'eenheid':'W/K4/m²'}\n",
    "constanten['dichtheid van water']          = {'waarde ':1000, 'symbool':'ρw', 'eenheid':'kg/m3'}\n",
    "constanten['soortelijke warmte van water'] = {'waarde ':4200, 'symbool':'ϲw', 'eenheid':'J/kg/K'} \n",
    "constanten['Von Kaman constante']          = {'waarde ':0.41, 'symbool':'K', 'eenheid':'-'}\n",
    "constanten['emissiviteit van water']       = {'waarde ':0.96, 'symbool':'ε', 'eenheid':'-'}\n",
    "constanten['emissiviteit van land']        = {'waarde ':0.98, 'symbool':'ε', 'eenheid':'-'}\n",
    "constanten['verdampingswarmte van water']  = {'waarde ':2.45, 'symbool':'λ', 'eenheid':'MJ/kg'}\n",
    "constanten['hoogte windsnelheidsmetingen'] = {'waarde ':10, 'symbool':'zm', 'eenheid':'m'}\n",
    "constanten['hoogte temperatuur- en vochtigheidsmetingen'] = {'waarde ':1.5, 'symbool':'zh', 'eenheid':'m'}\n",
    "constanten['Priestley-Taylorconstante']    = {'waarde ':1.26, 'symbool':'α', 'eenheid':'-'}\n",
    "constanten['De Bruin-Keijmanconstante']    = {'waarde ':1.1, 'symbool':\"α'\", 'eenheid':'-'}\n",
    "constanten['factor']                       = {'waarde ':10, 'symbool':'β', 'eenheid':'W/m2'}"
   ]
  },
  {
   "cell_type": "code",
   "execution_count": null,
   "metadata": {
    "collapsed": false,
    "deletable": true,
    "editable": true
   },
   "outputs": [],
   "source": [
    "variabelen = {}\n",
    "variabelen['albedo']                                     = {'symbool':'a', 'eenheid':'-'}\n",
    "variabelen['inkomende langgolvige straling']             = {'symbool':'L_in', 'eenheid':'W/m²'}\n",
    "variabelen['uitgaande langgolvige straling']             = {'symbool':'L_uit', 'eenheid':'W/m²'}\n",
    "variabelen['uitgaande langgolvige straling MJm2d1']      = {'symbool':'L_uit', 'eenheid':'MJ/m²/d'}\n",
    "variabelen['netto langgolvige straling']                 = {'symbool':'L_netto', 'eenheid':'W/m²'}\n",
    "variabelen['netto langgolvige straling station']         = {'symbool':'L_netto', 'eenheid':'W/m²'}\n",
    "variabelen['netto langgolvige straling station MJm2d1']  = {'symbool':'L_netto', 'eenheid':'MJ/m²/d'}\n",
    "variabelen['netto langgolvige straling station term1']   = {'symbool':'L_netto_term1', 'eenheid':'MJ/m²/d'}\n",
    "variabelen['netto langgolvige straling station term2']   = {'symbool':'L_netto_term2', 'eenheid':'-'}\n",
    "variabelen['netto langgolvige straling station term3']   = {'symbool':'L_netto_term3', 'eenheid':'-'}\n",
    "variabelen['inkomende kortgolvige straling']             = {'symbool':'K_in', 'eenheid':'W/m²'}\n",
    "variabelen['dagsom globale straling']                    = {'symbool':'K_in', 'eenheid':'W/m²'} \n",
    "variabelen['nettostraling']                              = {'symbool':'Q*', 'eenheid':'W/m²'}\n",
    "variabelen['nettostraling station']                      = {'symbool':'Q*', 'eenheid':'W/m²'}\n",
    "variabelen['gemiddelde dagtemperatuur in graden']        = {'symbool':'T', 'eenheid':'°C'}\n",
    "variabelen['maximum dagtemperatuur in graden']           = {'symbool':'T_max', 'eenheid':'°C'}\n",
    "variabelen['minimum dagtemperatuur in graden']           = {'symbool':'T_min', 'eenheid':'°C'}\n",
    "variabelen['gemiddelde dagtemperatuur in Kelvin']        = {'symbool':'T', 'eenheid':'K'}\n",
    "variabelen['maximum dagtemperatuur in Kelvin']           = {'symbool':'T_max', 'eenheid':'K'}\n",
    "variabelen['minimum dagtemperatuur in Kelvin']           = {'symbool':'T_min', 'eenheid':'K'}\n",
    "variabelen['verticaal water temperatuur profiel']        = {'symbool':'dT/dt', 'eenheid':'K/s'}\n",
    "variabelen['bodemwarmtestroom']                          = {'symbool':'G', 'eenheid':'W/m²'} \n",
    "variabelen['psychrometerconstante']                      = {'symbool':'γ', 'eenheid':'kPa/K'}\n",
    "variabelen['verzadigde dampdruk']                        = {'symbool':'e_sat', 'eenheid':'kPa'}\n",
    "variabelen['partiele dampdruk']                          = {'symbool':'e_z', 'eenheid':'kPa'}\n",
    "variabelen['relatieve vochtigheid']                      = {'symbool':'RH', 'eenheid':'-'}\n",
    "variabelen['bedekkingsgraad bewolking']                  = {'symbool':'C', 'eenheid':'-'}\n",
    "variabelen['luchtdruk']                                  = {'symbool':'p', 'eenheid':'kPa'}\n",
    "variabelen['referentie gewasverdamping']                 = {'symbool':'E_makkink', 'eenheid':'mm/d'}\n",
    "variabelen['latente warmtestroom']                       = {'symbool':'λE', 'eenheid':'W/m²'}\n",
    "variabelen['openwaterverdamping']                        = {'symbool':'E', 'eenheid':'mm/d'}\n",
    "variabelen['verdampingswarmte van water']                = {'symbool':'λ', 'eenheid':'MJ/kg'}\n",
    "variabelen['afgeleide van e_sat bij luchttemperatuur T'] = {'symbool':'s', 'eenheid':'kPa/K'}\n",
    "\n",
    "\n",
    "index   = dates_Albedo\n",
    "columns = [x for x in variabelen]\n",
    "df      = pd.DataFrame(index=index, columns=columns)\n",
    "df      = df.fillna(0.) # with 0s rather than NaNs"
   ]
  },
  {
   "cell_type": "code",
   "execution_count": null,
   "metadata": {
    "collapsed": false,
    "deletable": true,
    "editable": true
   },
   "outputs": [],
   "source": [
    "print ('Functies de Bruin-Keijmanmethode geladen, beschikbaar als bk_xxx')"
   ]
  },
  {
   "cell_type": "code",
   "execution_count": null,
   "metadata": {
    "collapsed": true,
    "deletable": true,
    "editable": true
   },
   "outputs": [],
   "source": []
  },
  {
   "cell_type": "code",
   "execution_count": null,
   "metadata": {
    "collapsed": true,
    "deletable": true,
    "editable": true
   },
   "outputs": [],
   "source": []
  }
 ],
 "metadata": {
  "kernelspec": {
   "display_name": "Python 3",
   "language": "python",
   "name": "python3"
  },
  "language_info": {
   "codemirror_mode": {
    "name": "ipython",
    "version": 3
   },
   "file_extension": ".py",
   "mimetype": "text/x-python",
   "name": "python",
   "nbconvert_exporter": "python",
   "pygments_lexer": "ipython3",
   "version": "3.5.2"
  }
 },
 "nbformat": 4,
 "nbformat_minor": 2
}
