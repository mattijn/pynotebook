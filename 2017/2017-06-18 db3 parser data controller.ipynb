{
 "cells": [
  {
   "cell_type": "code",
   "execution_count": 1,
   "metadata": {
    "collapsed": true
   },
   "outputs": [],
   "source": [
    "import sqlite3"
   ]
  },
  {
   "cell_type": "code",
   "execution_count": 2,
   "metadata": {
    "collapsed": true
   },
   "outputs": [],
   "source": [
    "db3_url = r'D:\\Projects\\Pr\\3427.10\\DB3_dashboardcontroller//crew.db3'\n",
    "conn = sqlite3.connect(db3_url)"
   ]
  },
  {
   "cell_type": "code",
   "execution_count": null,
   "metadata": {
    "collapsed": true
   },
   "outputs": [],
   "source": [
    "conn.execute('select')"
   ]
  },
  {
   "cell_type": "code",
   "execution_count": null,
   "metadata": {
    "collapsed": true
   },
   "outputs": [],
   "source": [
    "def parse_raw(xml, **parser_features):\n",
    "    \n",
    "    \"\"\"\n",
    "    Parses the given string as an XML data string, returning a Python\n",
    "    object which represents the document.\n",
    "\n",
    "    Raises ``ValueError`` if the argument is None / empty string.\n",
    "    Raises ``xml.sax.SAXParseException`` if something goes wrong\n",
    "    during parsing.\n",
    "    \"\"\"    \n",
    "    if (xml is None or not is_string(xml) or xml.strip() == ''):\n",
    "        raise ValueError('parse_raw() takes an XML string')\n",
    "\n",
    "    parser = make_parser()\n",
    "    sax_handler = Handler()\n",
    "    parser.setContentHandler(sax_handler)\n",
    "\n",
    "    parser.parse(StringIO(xml))\n",
    "\n",
    "    return sax_handler.root"
   ]
  }
 ],
 "metadata": {
  "kernelspec": {
   "display_name": "Python 3",
   "language": "python",
   "name": "python3"
  },
  "language_info": {
   "codemirror_mode": {
    "name": "ipython",
    "version": 3
   },
   "file_extension": ".py",
   "mimetype": "text/x-python",
   "name": "python",
   "nbconvert_exporter": "python",
   "pygments_lexer": "ipython3",
   "version": "3.5.2"
  }
 },
 "nbformat": 4,
 "nbformat_minor": 2
}
