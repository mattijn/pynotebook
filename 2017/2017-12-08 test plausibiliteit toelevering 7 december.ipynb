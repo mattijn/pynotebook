{
 "cells": [
  {
   "cell_type": "code",
   "execution_count": 1,
   "metadata": {
    "scrolled": true
   },
   "outputs": [],
   "source": [
    "import hkvsobekpy as hkv\n",
    "import os"
   ]
  },
  {
   "cell_type": "code",
   "execution_count": 2,
   "metadata": {},
   "outputs": [],
   "source": [
    "reachseg_his = r'D:\\Projects\\Pr\\3651.10\\Toeleveringen\\08122017_AnneJopen_wetransfer\\REACHSEG.HIS'"
   ]
  },
  {
   "cell_type": "code",
   "execution_count": 3,
   "metadata": {},
   "outputs": [],
   "source": [
    "rseg = hkv.read_his.LeesMetadata(reachseg_his)"
   ]
  },
  {
   "cell_type": "code",
   "execution_count": 4,
   "metadata": {},
   "outputs": [],
   "source": [
    "locations = rseg.KrijgLokaties()\n",
    "parameters = rseg.KrijgParameters()\n",
    "timesteps = rseg.KrijgTijdstappen()"
   ]
  },
  {
   "cell_type": "code",
   "execution_count": 5,
   "metadata": {},
   "outputs": [
    {
     "data": {
      "text/plain": [
       "['Discharge mean(m³/s)', 'Velocity mean (m/s) ', 'Waterlevel slope mea']"
      ]
     },
     "execution_count": 5,
     "metadata": {},
     "output_type": "execute_result"
    }
   ],
   "source": [
    "parameters"
   ]
  },
  {
   "cell_type": "code",
   "execution_count": 6,
   "metadata": {},
   "outputs": [],
   "source": [
    "parameter = parameters[0]\n",
    "location = locations[0]"
   ]
  },
  {
   "cell_type": "code",
   "execution_count": 7,
   "metadata": {},
   "outputs": [],
   "source": [
    "df = rseg.EnkeleWaardenArray(location=location, parameter=parameters[0], jaarmax_as='none')"
   ]
  },
  {
   "cell_type": "code",
   "execution_count": 8,
   "metadata": {},
   "outputs": [
    {
     "data": {
      "text/plain": [
       "<matplotlib.axes._subplots.AxesSubplot at 0x1b5c94e0>"
      ]
     },
     "execution_count": 8,
     "metadata": {},
     "output_type": "execute_result"
    },
    {
     "data": {
      "image/png": "[encoded data removed]",
      "text/plain": [
       "<matplotlib.figure.Figure at 0x1b5b6e10>"
      ]
     },
     "metadata": {},
     "output_type": "display_data"
    }
   ],
   "source": [
    "df.plot()"
   ]
  },
  {
   "cell_type": "code",
   "execution_count": 9,
   "metadata": {},
   "outputs": [],
   "source": [
    "bui_file = r'D:\\Projects\\Pr\\3651.10\\Toeleveringen\\08122017_AnneJopen_wetransfer\\T100ST2.BUI'\n",
    "df_bui = hkv.read_bui(bui_file)"
   ]
  },
  {
   "cell_type": "code",
   "execution_count": 10,
   "metadata": {},
   "outputs": [
    {
     "data": {
      "text/html": [
       "<div>\n",
       "<style scoped>\n",
       "    .dataframe tbody tr th:only-of-type {\n",
       "        vertical-align: middle;\n",
       "    }\n",
       "\n",
       "    .dataframe tbody tr th {\n",
       "        vertical-align: top;\n",
       "    }\n",
       "\n",
       "    .dataframe thead th {\n",
       "        text-align: right;\n",
       "    }\n",
       "</style>\n",
       "<table border=\"1\" class=\"dataframe\">\n",
       "  <thead>\n",
       "    <tr style=\"text-align: right;\">\n",
       "      <th></th>\n",
       "      <th>De Bilt</th>\n",
       "      <th>Verdamping</th>\n",
       "      <th>De Bilt Test</th>\n",
       "    </tr>\n",
       "  </thead>\n",
       "  <tbody>\n",
       "    <tr>\n",
       "      <th>1950-01-01 00:00:00</th>\n",
       "      <td>0.00000</td>\n",
       "      <td>0</td>\n",
       "      <td>0.000000</td>\n",
       "    </tr>\n",
       "    <tr>\n",
       "      <th>1950-01-01 01:00:00</th>\n",
       "      <td>0.20691</td>\n",
       "      <td>0</td>\n",
       "      <td>0.248292</td>\n",
       "    </tr>\n",
       "    <tr>\n",
       "      <th>1950-01-01 02:00:00</th>\n",
       "      <td>0.51183</td>\n",
       "      <td>0</td>\n",
       "      <td>0.614196</td>\n",
       "    </tr>\n",
       "    <tr>\n",
       "      <th>1950-01-01 03:00:00</th>\n",
       "      <td>0.60984</td>\n",
       "      <td>0</td>\n",
       "      <td>0.731808</td>\n",
       "    </tr>\n",
       "    <tr>\n",
       "      <th>1950-01-01 04:00:00</th>\n",
       "      <td>0.41382</td>\n",
       "      <td>0</td>\n",
       "      <td>0.496584</td>\n",
       "    </tr>\n",
       "  </tbody>\n",
       "</table>\n",
       "</div>"
      ],
      "text/plain": [
       "                     De Bilt  Verdamping  De Bilt Test\n",
       "1950-01-01 00:00:00  0.00000           0      0.000000\n",
       "1950-01-01 01:00:00  0.20691           0      0.248292\n",
       "1950-01-01 02:00:00  0.51183           0      0.614196\n",
       "1950-01-01 03:00:00  0.60984           0      0.731808\n",
       "1950-01-01 04:00:00  0.41382           0      0.496584"
      ]
     },
     "execution_count": 10,
     "metadata": {},
     "output_type": "execute_result"
    }
   ],
   "source": [
    "df_bui.head()"
   ]
  },
  {
   "cell_type": "code",
   "execution_count": 11,
   "metadata": {},
   "outputs": [],
   "source": [
    "his_folder = r'D:\\Projects\\Pr\\3651.10\\Toeleveringen\\08122017_AnneJopen_wetransfer'\n",
    "his_file='reachseg'"
   ]
  },
  {
   "cell_type": "code",
   "execution_count": 12,
   "metadata": {},
   "outputs": [
    {
     "name": "stdout",
     "output_type": "stream",
     "text": [
      "Normalized unicode Discharge mean(m³/s) matches Discharge mean(m³/s)\n"
     ]
    },
    {
     "data": {
      "text/html": [
       "<div>\n",
       "<style scoped>\n",
       "    .dataframe tbody tr th:only-of-type {\n",
       "        vertical-align: middle;\n",
       "    }\n",
       "\n",
       "    .dataframe tbody tr th {\n",
       "        vertical-align: top;\n",
       "    }\n",
       "\n",
       "    .dataframe thead tr th {\n",
       "        text-align: left;\n",
       "    }\n",
       "</style>\n",
       "<table border=\"1\" class=\"dataframe\">\n",
       "  <thead>\n",
       "    <tr>\n",
       "      <th>location</th>\n",
       "      <th>VER_0006</th>\n",
       "    </tr>\n",
       "    <tr>\n",
       "      <th>parameter</th>\n",
       "      <th>Discharge mean(m³/s)</th>\n",
       "    </tr>\n",
       "  </thead>\n",
       "  <tbody>\n",
       "    <tr>\n",
       "      <th>1950-01-01 00:00:00</th>\n",
       "      <td>0.0</td>\n",
       "    </tr>\n",
       "    <tr>\n",
       "      <th>1950-01-01 00:15:00</th>\n",
       "      <td>0.0</td>\n",
       "    </tr>\n",
       "    <tr>\n",
       "      <th>1950-01-01 00:30:00</th>\n",
       "      <td>0.0</td>\n",
       "    </tr>\n",
       "    <tr>\n",
       "      <th>1950-01-01 00:45:00</th>\n",
       "      <td>0.0</td>\n",
       "    </tr>\n",
       "    <tr>\n",
       "      <th>1950-01-01 01:00:00</th>\n",
       "      <td>0.0</td>\n",
       "    </tr>\n",
       "  </tbody>\n",
       "</table>\n",
       "</div>"
      ],
      "text/plain": [
       "location                        VER_0006\n",
       "parameter           Discharge mean(m³/s)\n",
       "1950-01-01 00:00:00                  0.0\n",
       "1950-01-01 00:15:00                  0.0\n",
       "1950-01-01 00:30:00                  0.0\n",
       "1950-01-01 00:45:00                  0.0\n",
       "1950-01-01 01:00:00                  0.0"
      ]
     },
     "execution_count": 12,
     "metadata": {},
     "output_type": "execute_result"
    }
   ],
   "source": [
    "df_his = hkv.plausibility.read_his_series(his_file=his_file,\n",
    "                                          location=locations[0],\n",
    "                                          parameter=parameters[0],\n",
    "                                          his_folder=his_folder)\n",
    "df_his.head()"
   ]
  },
  {
   "cell_type": "code",
   "execution_count": 13,
   "metadata": {},
   "outputs": [
    {
     "data": {
      "text/plain": [
       "<matplotlib.axes._subplots.AxesSubplot at 0x1b9dd3c8>"
      ]
     },
     "execution_count": 13,
     "metadata": {},
     "output_type": "execute_result"
    },
    {
     "data": {
      "image/png": "[encoded data removed]",
      "text/plain": [
       "<matplotlib.figure.Figure at 0x1b8ac7b8>"
      ]
     },
     "metadata": {},
     "output_type": "display_data"
    }
   ],
   "source": [
    "# location to query\n",
    "bui_location = 'De Bilt'\n",
    "# yyyy-mm-dd:yyyy-mm-dd\n",
    "df_bui.loc['1950-01-01':'1950-01-08',bui_location].plot()"
   ]
  },
  {
   "cell_type": "code",
   "execution_count": 18,
   "metadata": {},
   "outputs": [],
   "source": [
    "bui_locations = ['De Bilt','Verdamping','De Bilt Test']\n",
    "df_bui_sel, start_his, end_his, df_bui_std, df_his_std = hkv.plausibility.prepare_bui_his(df_his, df_bui, bui_locations)"
   ]
  },
  {
   "cell_type": "code",
   "execution_count": 19,
   "metadata": {},
   "outputs": [],
   "source": [
    "out_folder = r'D:\\Projects\\Pr\\3651.10\\Toeleveringen\\08122017_AnneJopen_wetransfer\\boezemformaat'"
   ]
  },
  {
   "cell_type": "code",
   "execution_count": 20,
   "metadata": {},
   "outputs": [
    {
     "data": {
      "text/plain": [
       "3"
      ]
     },
     "execution_count": 20,
     "metadata": {},
     "output_type": "execute_result"
    }
   ],
   "source": [
    "len(df_bui_sel.columns)"
   ]
  },
  {
   "cell_type": "code",
   "execution_count": 21,
   "metadata": {},
   "outputs": [
    {
     "name": "stdout",
     "output_type": "stream",
     "text": [
      "create a barchart for the bui-locations\n"
     ]
    },
    {
     "data": {
      "image/png": "[encoded data removed]",
      "text/plain": [
       "<matplotlib.figure.Figure at 0x1ba4a1d0>"
      ]
     },
     "metadata": {},
     "output_type": "display_data"
    }
   ],
   "source": [
    "hkv.plausibility.plot_bui_his(df_his, df_bui_sel, start_his, end_his, \n",
    "                              df_bui_std, df_his_std, his_file, \n",
    "                              parameter, location, out_folder, \n",
    "                              savefigure=False, threshold_bar=4, barwidth=0.03,baroffset=0.03)#, barwidth=0.04, baroffset=0.001)"
   ]
  },
  {
   "cell_type": "code",
   "execution_count": 22,
   "metadata": {},
   "outputs": [
    {
     "data": {
      "text/html": [
       "<div>\n",
       "<style scoped>\n",
       "    .dataframe tbody tr th:only-of-type {\n",
       "        vertical-align: middle;\n",
       "    }\n",
       "\n",
       "    .dataframe tbody tr th {\n",
       "        vertical-align: top;\n",
       "    }\n",
       "\n",
       "    .dataframe thead tr th {\n",
       "        text-align: left;\n",
       "    }\n",
       "</style>\n",
       "<table border=\"1\" class=\"dataframe\">\n",
       "  <thead>\n",
       "    <tr>\n",
       "      <th>location</th>\n",
       "      <th>VER_0006</th>\n",
       "      <th>De Bilt</th>\n",
       "      <th>Verdamping</th>\n",
       "      <th>De Bilt Test</th>\n",
       "    </tr>\n",
       "    <tr>\n",
       "      <th>parameter</th>\n",
       "      <th>Discharge mean(m³/s)</th>\n",
       "      <th>Precipitation (mm)</th>\n",
       "      <th>Precipitation (mm)</th>\n",
       "      <th>Precipitation (mm)</th>\n",
       "    </tr>\n",
       "  </thead>\n",
       "  <tbody>\n",
       "    <tr>\n",
       "      <th>1950-01-01 00:00:00</th>\n",
       "      <td>0.0</td>\n",
       "      <td>0.00000</td>\n",
       "      <td>0.0</td>\n",
       "      <td>0.000000</td>\n",
       "    </tr>\n",
       "    <tr>\n",
       "      <th>1950-01-01 00:15:00</th>\n",
       "      <td>0.0</td>\n",
       "      <td>NaN</td>\n",
       "      <td>NaN</td>\n",
       "      <td>NaN</td>\n",
       "    </tr>\n",
       "    <tr>\n",
       "      <th>1950-01-01 00:30:00</th>\n",
       "      <td>0.0</td>\n",
       "      <td>NaN</td>\n",
       "      <td>NaN</td>\n",
       "      <td>NaN</td>\n",
       "    </tr>\n",
       "    <tr>\n",
       "      <th>1950-01-01 00:45:00</th>\n",
       "      <td>0.0</td>\n",
       "      <td>NaN</td>\n",
       "      <td>NaN</td>\n",
       "      <td>NaN</td>\n",
       "    </tr>\n",
       "    <tr>\n",
       "      <th>1950-01-01 01:00:00</th>\n",
       "      <td>0.0</td>\n",
       "      <td>0.20691</td>\n",
       "      <td>0.0</td>\n",
       "      <td>0.248292</td>\n",
       "    </tr>\n",
       "  </tbody>\n",
       "</table>\n",
       "</div>"
      ],
      "text/plain": [
       "location                        VER_0006            De Bilt  \\\n",
       "parameter           Discharge mean(m³/s) Precipitation (mm)   \n",
       "1950-01-01 00:00:00                  0.0            0.00000   \n",
       "1950-01-01 00:15:00                  0.0                NaN   \n",
       "1950-01-01 00:30:00                  0.0                NaN   \n",
       "1950-01-01 00:45:00                  0.0                NaN   \n",
       "1950-01-01 01:00:00                  0.0            0.20691   \n",
       "\n",
       "location                    Verdamping       De Bilt Test  \n",
       "parameter           Precipitation (mm) Precipitation (mm)  \n",
       "1950-01-01 00:00:00                0.0           0.000000  \n",
       "1950-01-01 00:15:00                NaN                NaN  \n",
       "1950-01-01 00:30:00                NaN                NaN  \n",
       "1950-01-01 00:45:00                NaN                NaN  \n",
       "1950-01-01 01:00:00                0.0           0.248292  "
      ]
     },
     "execution_count": 22,
     "metadata": {},
     "output_type": "execute_result"
    }
   ],
   "source": [
    "df_bui_his = hkv.plausibility.table_bui_his(df_his, df_bui_sel)\n",
    "df_bui_his.head()"
   ]
  },
  {
   "cell_type": "code",
   "execution_count": 23,
   "metadata": {
    "scrolled": true
   },
   "outputs": [],
   "source": [
    "bui_his_to_csv = os.path.join(out_folder, 'comb_his_bui.csv')\n",
    "df_bui_his.to_csv(bui_his_to_csv)\n",
    "\n",
    "\n",
    "import pandas as pd\n",
    "\n",
    "df_in = pd.read_csv(bui_his_to_csv, header=[0, 1])\n",
    "df_in.head()"
   ]
  },
  {
   "cell_type": "code",
   "execution_count": 28,
   "metadata": {},
   "outputs": [
    {
     "name": "stdout",
     "output_type": "stream",
     "text": [
      "start ensemble runner\n",
      "read shp-file\n",
      "read bui-file\n"
     ]
    },
    {
     "name": "stderr",
     "output_type": "stream",
     "text": [
      "Widget Javascript not detected.  It may not be installed properly. Did you enable the widgetsnbextension? If not, then run \"jupyter nbextension enable --py --sys-prefix widgetsnbextension\"\n"
     ]
    },
    {
     "name": "stdout",
     "output_type": "stream",
     "text": [
      "Waterlevel mean (m AD changed into Waterlevel mean (m A, since similarity is 0.98\n",
      "create a barchart for the bui-locations\n",
      "Waterlevel mean (m AD changed into Waterlevel mean (m A, since similarity is 0.98\n",
      "create a barchart for the bui-locations\n",
      "Normalized unicode Waterlevel slope MEA matches Waterlevel slope mea\n",
      "create a barchart for the bui-locations\n",
      "Discharge mean (m3/s) changed into Discharge mean(m³/s), since similarity is 0.98\n",
      "create a barchart for the bui-locations\n",
      "\n",
      "done\n"
     ]
    }
   ],
   "source": [
    "shp_file = r'D:\\Projects\\Pr\\3651.10\\Toeleveringen\\08122017_AnneJopen_wetransfer\\Sbk_FGrPt_n.dbf'\n",
    "shp_hiskey = 'HIS_FILE'\n",
    "shp_locationkey = 'LOCATIES'\n",
    "shp_parameterkey = 'PARAMETERS'\n",
    "hkv.plausibility.EnsembleRunner(shp_file, \n",
    "                                bui_file, \n",
    "                                his_folder, \n",
    "                                out_folder, \n",
    "                                shp_hiskey, shp_locationkey, shp_parameterkey, savefigure=True, bui_locations='auto', bui_locations_aantal=10, savetable=True)"
   ]
  },
  {
   "cell_type": "code",
   "execution_count": null,
   "metadata": {},
   "outputs": [],
   "source": []
  }
 ],
 "metadata": {
  "kernelspec": {
   "display_name": "Python 3",
   "language": "python",
   "name": "python3"
  },
  "language_info": {
   "codemirror_mode": {
    "name": "ipython",
    "version": 3
   },
   "file_extension": ".py",
   "mimetype": "text/x-python",
   "name": "python",
   "nbconvert_exporter": "python",
   "pygments_lexer": "ipython3",
   "version": "3.5.2"
  }
 },
 "nbformat": 4,
 "nbformat_minor": 2
}
