{
 "cells": [
  {
   "cell_type": "code",
   "execution_count": 1,
   "metadata": {
    "collapsed": true
   },
   "outputs": [],
   "source": [
    "import matplotlib.pyplot as plt\n",
    "import matplotlib.colors as mcolors\n",
    "import matplotlib\n",
    "from matplotlib.transforms import offset_copy\n",
    "import matplotlib as mpl\n",
    "import matplotlib.pyplot as plt\n",
    "import matplotlib.text as mtext\n",
    "import matplotlib.font_manager as mfonts\n",
    "from matplotlib import patheffects\n",
    "\n",
    "import cartopy\n",
    "import cartopy.crs as ccrs\n",
    "from cartopy.io import img_tiles\n",
    "import cartopy.feature as cfeature\n",
    "from cartopy.io.shapereader import Reader\n",
    "import cartopy.io.shapereader as shpreader\n",
    "from cartopy.mpl.gridliner import LATITUDE_FORMATTER, LONGITUDE_FORMATTER\n",
    "import shapely.geometry as sgeom\n",
    "from copy import copy\n",
    "\n",
    "import subprocess as sp\n",
    "import pandas as pd\n",
    "import numpy as np\n",
    "import glob, os\n",
    "import gdal, osr\n",
    "%matplotlib inline"
   ]
  },
  {
   "cell_type": "code",
   "execution_count": 2,
   "metadata": {
    "collapsed": true
   },
   "outputs": [],
   "source": [
    "def scale_bar(ax, proj, length, location=(0.5, 0.05), linewidth=3):\n",
    "    \"\"\"\n",
    "\n",
    "    http://stackoverflow.com/a/35705477/1072212\n",
    "    ax is the axes to draw the scalebar on.\n",
    "    proj is the projection the axes are in\n",
    "    location is center of the scalebar in axis coordinates ie. 0.5 is the middle of the plot\n",
    "    length is the length of the scalebar in km.\n",
    "    linewidth is the thickness of the scalebar.\n",
    "    \"\"\"\n",
    "    # find lat/lon center to find best UTM zone\n",
    "    x0, x1, y0, y1 = ax.get_extent(proj.as_geodetic())\n",
    "    # Projection in metres\n",
    "    #utm = ccrs.UTM(utm_from_lon((x0+x1)/2))\n",
    "    utm = img_tiles.GoogleTiles().crs#ccrs.UTM(36)#ccrs.epsg(28992)#\n",
    "    # Get the extent of the plotted area in coordinates in metres\n",
    "    x0, x1, y0, y1 = ax.get_extent(utm)\n",
    "    # Turn the specified scalebar location into coordinates in metres\n",
    "    sbcx, sbcy = x0 + (x1 - x0) * location[0], y0 + (y1 - y0) * location[1]\n",
    "    # Generate the x coordinate for the ends of the scalebar\n",
    "    bar_xs = [sbcx - length * 500, sbcx + length * 500]\n",
    "    # buffer for scalebar\n",
    "    buffer = [patheffects.withStroke(linewidth=5, foreground=\"w\")]\n",
    "    # Plot the scalebar with buffer\n",
    "    ax.plot(bar_xs, [sbcy, sbcy], transform=utm, color='k',\n",
    "        linewidth=linewidth, path_effects=buffer)\n",
    "    # buffer for text\n",
    "    buffer = [patheffects.withStroke(linewidth=3, foreground=\"w\")]\n",
    "    # Plot the scalebar label\n",
    "    t0 = ax.text(sbcx, sbcy, str(length) + ' km', transform=utm,\n",
    "        horizontalalignment='center', verticalalignment='bottom',\n",
    "        path_effects=buffer, zorder=2)\n",
    "    left = x0+(x1-x0)*0.1\n",
    "    # Plot the N arrow\n",
    "#     print('sbcy',sbcy)\n",
    "#     print('y0',y0)\n",
    "#     print('y1',y1)    \n",
    "    t1 = ax.text(left, y1-(y1*0.01), u'\\u25B2\\nN', transform=utm,\n",
    "        horizontalalignment='center', verticalalignment='bottom',\n",
    "        path_effects=buffer, zorder=2)\n",
    "    # Plot the scalebar without buffer, in case covered by text buffer\n",
    "    buffer = [patheffects.withStroke(linewidth=4, foreground=\"w\")]\n",
    "    ax.plot(bar_xs, [sbcy, sbcy], transform=utm, color='k',\n",
    "        linewidth=linewidth, zorder=3)"
   ]
  },
  {
   "cell_type": "code",
   "execution_count": 3,
   "metadata": {
    "collapsed": true
   },
   "outputs": [],
   "source": [
    "# def scale_bar(ax, length, location=(0.5, 0.05), linewidth=3):\n",
    "#     \"\"\"\n",
    "#     ax is the axes to draw the scalebar on.\n",
    "#     location is center of the scalebar in axis coordinates ie. 0.5 is the middle of the plot\n",
    "#     length is the length of the scalebar in km.\n",
    "#     linewidth is the thickness of the scalebar.\n",
    "#     \"\"\"\n",
    "#     #Projection in metres, need to change this to suit your own figure\n",
    "#     utm = img_tiles.GoogleTiles().crs#ccrs.UTM(36)#ccrs.epsg(28992)#\n",
    "#     #Get the extent of the plotted area in coordinates in metres\n",
    "#     x0, x1, y0, y1 = ax.get_extent(utm)\n",
    "#     #Turn the specified scalebar location into coordinates in metres\n",
    "#     sbcx, sbcy = x0 + (x1 - x0) * location[0], y0 + (y1 - y0) * location[1]\n",
    "#     #Generate the x coordinate for the ends of the scalebar\n",
    "#     bar_xs = [sbcx - length * 500, sbcx + length * 500]\n",
    "#     #Plot the scalebar\n",
    "#     ax.plot(bar_xs, [sbcy, sbcy], transform=utm, color='k', linewidth=linewidth)\n",
    "#     #Plot the scalebar label\n",
    "#     ax.text(sbcx, sbcy, str(length) + ' km', transform=utm,\n",
    "#             horizontalalignment='center', verticalalignment='bottom', size=16)\n",
    "\n",
    "def make_colormap(seq):\n",
    "    \"\"\"Return a LinearSegmentedColormap\n",
    "    seq: a sequence of floats and RGB-tuples. The floats should be increasing\n",
    "    and in the interval (0,1).\n",
    "    \"\"\"\n",
    "    seq = [(None,) * 3, 0.0] + list(seq) + [1.0, (None,) * 3]\n",
    "    cdict = {'red': [], 'green': [], 'blue': []}\n",
    "    for i, item in enumerate(seq):\n",
    "        if isinstance(item, float):\n",
    "            r1, g1, b1 = seq[i - 1]\n",
    "            r2, g2, b2 = seq[i + 1]\n",
    "            cdict['red'].append([item, r1, r2])\n",
    "            cdict['green'].append([item, g1, g2])\n",
    "            cdict['blue'].append([item, b1, b2])\n",
    "    return mcolors.LinearSegmentedColormap('CustomMap', cdict)\n",
    "c = mcolors.ColorConverter().to_rgb\n",
    "\n",
    "def cmap_discretize(cmap, N):\n",
    "    \"\"\"Return a discrete colormap from the continuous colormap cmap.\n",
    "    \n",
    "        cmap: colormap instance, eg. cm.jet. \n",
    "        N: number of colors.\n",
    "    \n",
    "    Example\n",
    "        x = resize(arange(100), (5,100))\n",
    "        djet = cmap_discretize(cm.jet, 5)\n",
    "        imshow(x, cmap=djet)\n",
    "    \"\"\"\n",
    "\n",
    "    if type(cmap) == str:\n",
    "        cmap = get_cmap(cmap)\n",
    "    colors_i = np.concatenate((np.linspace(0, 1., N), (0.,0.,0.,0.)))\n",
    "    colors_rgba = cmap(colors_i)\n",
    "    indices = np.linspace(0, 1., N+1)\n",
    "    cdict = {}\n",
    "    for ki,key in enumerate(('red','green','blue')):\n",
    "        cdict[key] = [ (indices[i], colors_rgba[i-1,ki], colors_rgba[i,ki]) for i in xrange(N+1) ]\n",
    "    # Return colormap object.\n",
    "    return matplotlib.colors.LinearSegmentedColormap(cmap.name + \"_%d\"%N, cdict, 1024)"
   ]
  },
  {
   "cell_type": "code",
   "execution_count": 51,
   "metadata": {
    "collapsed": true
   },
   "outputs": [],
   "source": [
    "\n",
    "def find_side(ls, side):\n",
    "    \"\"\"\n",
    "    Given a shapely LineString which is assumed to be rectangular, return the\n",
    "    line corresponding to a given side of the rectangle.\n",
    "    \n",
    "    \"\"\"\n",
    "    minx, miny, maxx, maxy = ls.bounds\n",
    "    points = {'left': [(minx, miny), (minx, maxy)],\n",
    "              'right': [(maxx, miny), (maxx, maxy)],\n",
    "              'bottom': [(minx, miny), (maxx, miny)],\n",
    "              'top': [(minx, maxy), (maxx, maxy)],}\n",
    "    return sgeom.LineString(points[side])\n",
    "\n",
    "\n",
    "def lambert_xticks(ax, ticks, label=True):\n",
    "    \"\"\"Draw ticks on the bottom x-axis of a Lambert Conformal projection.\"\"\"\n",
    "    te = lambda xy: xy[0]\n",
    "    lc = lambda t, n, b: np.vstack((np.zeros(n) + t, np.linspace(b[2], b[3], n))).T\n",
    "    xticks, xticklabels = _lambert_ticks(ax, ticks, 'bottom', lc, te)\n",
    "    ax.xaxis.tick_bottom()\n",
    "    ax.set_xticks(xticks)\n",
    "    if label == True:        \n",
    "        ax.set_xticklabels([ax.xaxis.get_major_formatter()(xtick) for xtick in xticklabels])\n",
    "    if label == False:\n",
    "        ax.set_xticklabels([])\n",
    "    \n",
    "\n",
    "def lambert_yticks(ax, ticks, label=True):\n",
    "    \"\"\"Draw ricks on the left y-axis of a Lamber Conformal projection.\"\"\"\n",
    "    te = lambda xy: xy[1]\n",
    "    lc = lambda t, n, b: np.vstack((np.linspace(b[0], b[1], n), np.zeros(n) + t)).T\n",
    "    yticks, yticklabels = _lambert_ticks(ax, ticks, 'left', lc, te)\n",
    "    ax.yaxis.tick_left()\n",
    "    ax.set_yticks(yticks)\n",
    "    if label == True:\n",
    "        ax.set_yticklabels([ax.yaxis.get_major_formatter()(ytick) for ytick in yticklabels])\n",
    "    if label == False:\n",
    "        ax.set_yticklabels([])\n",
    "\n",
    "def _lambert_ticks(ax, ticks, tick_location, line_constructor, tick_extractor):\n",
    "    \"\"\"Get the tick locations and labels for an axis of a Lambert Conformal projection.\"\"\"\n",
    "    outline_patch = sgeom.LineString(ax.outline_patch.get_path().vertices.tolist())\n",
    "    axis = find_side(outline_patch, tick_location)\n",
    "    n_steps = 30\n",
    "    extent = ax.get_extent(ccrs.PlateCarree())\n",
    "    _ticks = []\n",
    "    for t in ticks:\n",
    "        xy = line_constructor(t, n_steps, extent)\n",
    "        proj_xyz = ax.projection.transform_points(ccrs.Geodetic(), xy[:, 0], xy[:, 1])\n",
    "        xyt = proj_xyz[..., :2]\n",
    "        ls = sgeom.LineString(xyt.tolist())\n",
    "        locs = axis.intersection(ls)\n",
    "        if not locs:\n",
    "            tick = [None]\n",
    "        else:\n",
    "            tick = tick_extractor(locs.xy)\n",
    "        _ticks.append(tick[0])\n",
    "    # Remove ticks that aren't visible:    \n",
    "    ticklabels = copy(ticks)\n",
    "    while True:\n",
    "        try:\n",
    "            index = _ticks.index(None)\n",
    "        except ValueError:\n",
    "            break\n",
    "        _ticks.pop(index)\n",
    "        ticklabels.pop(index)\n",
    "    return _ticks, ticklabels"
   ]
  },
  {
   "cell_type": "code",
   "execution_count": 5,
   "metadata": {
    "collapsed": false
   },
   "outputs": [
    {
     "name": "stdout",
     "output_type": "stream",
     "text": [
      "C:\\Projects\\Pr\\3492.10\\BruinKeijman\\tif\\Q_land\\Q_land_20160402.tif\n"
     ]
    }
   ],
   "source": [
    "# create the list of files to use\n",
    "tifdir = r'C:\\Projects\\Pr\\3492.10\\BruinKeijman\\tif\\Q_land'\n",
    "tiffiles = glob.glob(os.path.join(tifdir, 'Q_land_2016*.tif'))\n",
    "print (tiffiles[0])"
   ]
  },
  {
   "cell_type": "code",
   "execution_count": 7,
   "metadata": {
    "collapsed": false
   },
   "outputs": [],
   "source": [
    "i = r'C:\\Projects\\Pr\\3492.10\\BruinKeijman\\tif\\Q_land//Q_land_20160402.tif'\n",
    "ds = gdal.Open(i) \n",
    "gt = ds.GetGeoTransform()\n",
    "rb = ds.GetRasterBand(1)           \n",
    "\n",
    "# # convert from map to pixel coordinates.    \n",
    "# px = int((mx - gt[0]) / gt[1]) #x pixel\n",
    "# py = int((my - gt[3]) / gt[5]) #y pixel\n",
    "\n",
    "origin_x = gt[0]\n",
    "origin_y = gt[3]\n",
    "pixel_width = gt[1]\n",
    "pixel_height = gt[5]"
   ]
  },
  {
   "cell_type": "code",
   "execution_count": 38,
   "metadata": {
    "collapsed": false
   },
   "outputs": [],
   "source": [
    "array = ds.ReadAsArray()"
   ]
  },
  {
   "cell_type": "code",
   "execution_count": 9,
   "metadata": {
    "collapsed": false
   },
   "outputs": [
    {
     "name": "stderr",
     "output_type": "stream",
     "text": [
      "c:\\python35\\lib\\site-packages\\cartopy\\mpl\\geoaxes.py:586: UserWarning: Approximating coordinate system <cartopy._crs.Geodetic object at 0x000000000EF64F68> with the PlateCarree projection.\n",
      "  'PlateCarree projection.'.format(crs))\n"
     ]
    },
    {
     "data": {
      "image/png": "[encoded data removed]",
      "text/plain": [
       "<matplotlib.figure.Figure at 0x81b9160>"
      ]
     },
     "metadata": {},
     "output_type": "display_data"
    }
   ],
   "source": [
    "import matplotlib.pyplot as plt\n",
    "\n",
    "ax = plt.axes(projection=ccrs.Mercator())\n",
    "plt.title('Cyprus')\n",
    "ax.set_extent([31, 35.5, 34, 36], ccrs.Geodetic())\n",
    "ax.coastlines(resolution='10m')\n",
    "\n",
    "scale_bar(ax, ccrs.Mercator(),100)\n",
    "\n",
    "plt.show()"
   ]
  },
  {
   "cell_type": "code",
   "execution_count": 10,
   "metadata": {
    "collapsed": false
   },
   "outputs": [
    {
     "name": "stdout",
     "output_type": "stream",
     "text": [
      "PROJCS[\"Amersfoort / RD New\",\n",
      "    GEOGCS[\"Amersfoort\",\n",
      "        DATUM[\"Amersfoort\",\n",
      "            SPHEROID[\"Bessel 1841\",6377397.155,299.1528128,\n",
      "                AUTHORITY[\"EPSG\",\"7004\"]],\n",
      "            TOWGS84[565.4171,50.3319,465.5524,-0.398957,0.343988,-1.87740,4.0725],\n",
      "            AUTHORITY[\"EPSG\",\"6289\"]],\n",
      "        PRIMEM[\"Greenwich\",0,\n",
      "            AUTHORITY[\"EPSG\",\"8901\"]],\n",
      "        UNIT[\"degree\",0.0174532925199433,\n",
      "            AUTHORITY[\"EPSG\",\"9122\"]],\n",
      "        AUTHORITY[\"EPSG\",\"4289\"]],\n",
      "    PROJECTION[\"Oblique_Stereographic\"],\n",
      "    PARAMETER[\"latitude_of_origin\",52.15616055555555],\n",
      "    PARAMETER[\"central_meridian\",5.38763888888889],\n",
      "    PARAMETER[\"scale_factor\",0.9999079],\n",
      "    PARAMETER[\"false_easting\",155000],\n",
      "    PARAMETER[\"false_northing\",463000],\n",
      "    UNIT[\"metre\",1,\n",
      "        AUTHORITY[\"EPSG\",\"9001\"]],\n",
      "    AXIS[\"X\",EAST],\n",
      "    AXIS[\"Y\",NORTH],\n",
      "    AUTHORITY[\"EPSG\",\"28992\"]]\n"
     ]
    }
   ],
   "source": [
    "proj = ds.GetProjection()\n",
    "\n",
    "inproj = osr.SpatialReference()\n",
    "inproj.ImportFromWkt(proj)\n",
    "\n",
    "print(inproj)"
   ]
  },
  {
   "cell_type": "code",
   "execution_count": 23,
   "metadata": {
    "collapsed": false
   },
   "outputs": [
    {
     "data": {
      "text/plain": [
       "_EPSGProjection(3034)"
      ]
     },
     "execution_count": 23,
     "metadata": {},
     "output_type": "execute_result"
    }
   ],
   "source": [
    "#4258\n",
    "ccrs.epsg(3034)"
   ]
  },
  {
   "cell_type": "code",
   "execution_count": 29,
   "metadata": {
    "collapsed": false
   },
   "outputs": [
    {
     "name": "stdout",
     "output_type": "stream",
     "text": [
      "_EPSGProjection(28992)\n"
     ]
    }
   ],
   "source": [
    "import cartopy.crs as ccrs\n",
    "\n",
    "projcs = inproj.GetAuthorityCode('PROJCS')\n",
    "projection = ccrs.epsg(projcs)\n",
    "print(projection)"
   ]
  },
  {
   "cell_type": "code",
   "execution_count": 43,
   "metadata": {
    "collapsed": false
   },
   "outputs": [
    {
     "data": {
      "text/plain": [
       "'+units=m +init=epsg:28992 '"
      ]
     },
     "execution_count": 43,
     "metadata": {},
     "output_type": "execute_result"
    }
   ],
   "source": [
    "from pyproj import Proj\n",
    "p = Proj(init='epsg:28992')\n",
    "p.srs"
   ]
  },
  {
   "cell_type": "code",
   "execution_count": 44,
   "metadata": {
    "collapsed": false
   },
   "outputs": [
    {
     "data": {
      "text/plain": [
       "(-8248359.599972688, 5111713.568826398)"
      ]
     },
     "execution_count": 44,
     "metadata": {},
     "output_type": "execute_result"
    }
   ],
   "source": [
    "p(-97.75, 30.25)"
   ]
  },
  {
   "cell_type": "code",
   "execution_count": 47,
   "metadata": {
    "collapsed": false
   },
   "outputs": [
    {
     "data": {
      "text/plain": [
       "(7.565040641251633, 53.63743205903827)"
      ]
     },
     "execution_count": 47,
     "metadata": {},
     "output_type": "execute_result"
    }
   ],
   "source": [
    "p(299000, 630000, inverse=True)"
   ]
  },
  {
   "cell_type": "code",
   "execution_count": 40,
   "metadata": {
    "collapsed": false
   },
   "outputs": [
    {
     "data": {
      "text/plain": [
       "(0.0, 299000.0, 275000.0, 630000.0)"
      ]
     },
     "execution_count": 40,
     "metadata": {},
     "output_type": "execute_result"
    }
   ],
   "source": [
    "extent"
   ]
  },
  {
   "cell_type": "code",
   "execution_count": 48,
   "metadata": {
    "collapsed": true
   },
   "outputs": [],
   "source": [
    "extent_rd = (3.205299423387365, 7.565040641251633,50.44539548448692,53.63743205903827)"
   ]
  },
  {
   "cell_type": "code",
   "execution_count": 50,
   "metadata": {
    "collapsed": false
   },
   "outputs": [
    {
     "name": "stdout",
     "output_type": "stream",
     "text": [
      "10.0 8.422535211267606\n"
     ]
    },
    {
     "data": {
      "image/png": "[encoded data removed]",
      "text/plain": [
       "<matplotlib.figure.Figure at 0x10196198>"
      ]
     },
     "metadata": {},
     "output_type": "display_data"
    }
   ],
   "source": [
    "# set shape of figure\n",
    "width = array.shape[0]\n",
    "height = array.shape[1]\n",
    "base_width = 10.\n",
    "base_height = (base_width * height) / width\n",
    "print (base_width, base_height)\n",
    "#logging.info(base_width, base_height)\n",
    "\n",
    "# figure\n",
    "\n",
    "fig = plt.figure(figsize=(base_height,base_width)) \n",
    "ax = plt.subplot(1,1,1, projection=ccrs.PlateCarree())\n",
    "ax.set_extent(extent_rd, ccrs.Geodetic())\n",
    "gl = ax.gridlines(crs=ccrs.PlateCarree(), draw_labels=True,\n",
    "                  linewidth=1, color='gray', alpha=0.5, linestyle='--')\n",
    "gl.ylabels_right = False\n",
    "gl.xlabels_top = False\n",
    "# prulletaria on the map\n",
    "im = ax.imshow(array, origin='upper', extent=extent_rd,vmin=0, vmax=255, interpolation='nearest')"
   ]
  },
  {
   "cell_type": "code",
   "execution_count": 52,
   "metadata": {
    "collapsed": false
   },
   "outputs": [
    {
     "name": "stderr",
     "output_type": "stream",
     "text": [
      "c:\\python35\\lib\\site-packages\\cartopy\\mpl\\geoaxes.py:586: UserWarning: Approximating coordinate system <cartopy._crs.Geodetic object at 0x000000000F045F68> with the PlateCarree projection.\n",
      "  'PlateCarree projection.'.format(crs))\n"
     ]
    },
    {
     "data": {
      "image/png": "[encoded data removed]",
      "text/plain": [
       "<matplotlib.figure.Figure at 0x88d0828>"
      ]
     },
     "metadata": {},
     "output_type": "display_data"
    }
   ],
   "source": [
    "import matplotlib.pyplot as plt\n",
    "\n",
    "subplot_kw = dict(projection=projection)\n",
    "fig, ax = plt.subplots(figsize=(9, 9), subplot_kw=subplot_kw)\n",
    "\n",
    "extent = (gt[0], gt[0] + ds.RasterXSize * gt[1],\n",
    "          gt[3] + ds.RasterYSize * gt[5], gt[3])\n",
    "\n",
    "img = ax.imshow(data, extent=extent, origin='upper', transform=projection)\n",
    "\n",
    "xticks = [3,4,5,6,7,8]\n",
    "yticks = [50.75,51,52,53,54]\n",
    "ax.gridlines(xlocs=xticks, ylocs=yticks)\n",
    "ax.xaxis.set_major_formatter(LONGITUDE_FORMATTER) \n",
    "ax.yaxis.set_major_formatter(LATITUDE_FORMATTER)\n",
    "lambert_xticks(ax, xticks, label=True)\n",
    "lambert_yticks(ax, yticks, label=True)\n",
    "\n",
    "#ax.plot(5, 52, marker='s', color='k', markersize=6, transform=projection)\n",
    "scale_bar(ax, projection,100, location=(0.25,0.05))"
   ]
  },
  {
   "cell_type": "code",
   "execution_count": null,
   "metadata": {
    "collapsed": true
   },
   "outputs": [],
   "source": [
    "outfile_country = r'D:\\Projects\\Pr\\3492.10\\shapefiles\\Bestuurlijkegrenzen-provincies-actueel-shp//TopGrenzen-prov-actueel.shp'"
   ]
  },
  {
   "cell_type": "code",
   "execution_count": null,
   "metadata": {
    "collapsed": true
   },
   "outputs": [],
   "source": [
    "extent = (gt[0], gt[0] + ds.RasterXSize * gt[1],\n",
    "          gt[3] + ds.RasterYSize * gt[5], gt[3])"
   ]
  },
  {
   "cell_type": "code",
   "execution_count": null,
   "metadata": {
    "collapsed": true
   },
   "outputs": [],
   "source": [
    "land = cartopy.feature.NaturalEarthFeature(\n",
    "    category='physical',\n",
    "    name='land',\n",
    "    scale='10m',\n",
    "    facecolor='none',\n",
    "    edgecolor='#dddddd')\n",
    "\n",
    "boundary_land = cfeature.NaturalEarthFeature(\n",
    "    category='cultural',\n",
    "    name='admin_0_boundary_lines_land',\n",
    "    scale='10m',\n",
    "    facecolor='none',)\n",
    "\n",
    "states_provinces = cfeature.NaturalEarthFeature(\n",
    "    category='cultural',\n",
    "    name='admin_1_states_provinces_lines', \n",
    "    scale='10m',\n",
    "    facecolor='none',)"
   ]
  },
  {
   "cell_type": "code",
   "execution_count": null,
   "metadata": {
    "collapsed": true
   },
   "outputs": [],
   "source": [
    "xticks = [3,4,5,6,7,8]\n",
    "yticks = [50,51,52,53,54]"
   ]
  },
  {
   "cell_type": "code",
   "execution_count": null,
   "metadata": {
    "collapsed": false
   },
   "outputs": [],
   "source": [
    "# Draw a set of axes with coastlines:\n",
    "fig = plt.figure(figsize=(9, 13), frameon=True)\n",
    "extent_latlon = (3,7.2,50.74466,55)\n",
    "\n",
    "# PLOT2\n",
    "ax = plt.subplot(122, projection=projection)\n",
    "ax.set_extent(extent_latlon, crs=ccrs.PlateCarree())\n",
    "fig.canvas.draw()\n",
    "ax.gridlines(xlocs=xticks, ylocs=yticks)\n",
    "ax.xaxis.set_major_formatter(LONGITUDE_FORMATTER) \n",
    "ax.yaxis.set_major_formatter(LATITUDE_FORMATTER)\n",
    "lambert_xticks(ax, xticks, label=True)\n",
    "lambert_yticks(ax, yticks, label=True)\n",
    "\n",
    "ax.coastlines(resolution='10m')\n",
    "#ax.add_feature(states_provinces, edgecolor='black')\n",
    "ax.add_feature(boundary_land, edgecolor='black')\n",
    "\n",
    "ax.plot(5, 52, marker='s', color='k', markersize=6, transform=ccrs.PlateCarree())\n",
    "scale_bar(ax, projection,100, location=(0.5,0.05))\n",
    "\n",
    "#ax.imshow(array, cmap=plt.cm.Blues, vmin=0,vmax=array.max(),\n",
    "#            interpolation='none', origin='upper', extent=extent, transform=projection)\n",
    "plt.show()"
   ]
  },
  {
   "cell_type": "code",
   "execution_count": null,
   "metadata": {
    "collapsed": false
   },
   "outputs": [],
   "source": [
    "pkl_file_name = r'D:\\Projects\\Pr\\3492.10\\MYD13Q1\\pandas//MYD13Q1.006_12locations.pkl'\n",
    "df = pd.read_pickle(pkl_file_name)"
   ]
  },
  {
   "cell_type": "code",
   "execution_count": null,
   "metadata": {
    "collapsed": false
   },
   "outputs": [],
   "source": [
    "#df = df * 0.0001\n",
    "df.head()"
   ]
  },
  {
   "cell_type": "code",
   "execution_count": null,
   "metadata": {
    "collapsed": true
   },
   "outputs": [],
   "source": [
    "from matplotlib import gridspec"
   ]
  },
  {
   "cell_type": "code",
   "execution_count": null,
   "metadata": {
    "collapsed": true
   },
   "outputs": [],
   "source": [
    "latlon_stations = [['Cabauw', 51.970219444444446, 4.926188888888889],\n",
    " ['Bankenbos', 53.02076388888889, 6.402758333333334],\n",
    " ['Haastrecht', 52.00313611111111, 4.805508333333333],\n",
    " ['Molenweg', 51.65272222222222, 4.636347222222222],\n",
    " ['Fleditebos', 52.318333333333335, 5.453333333333333],\n",
    " ['Lutjewad', 53.398922222222225, 6.356027777777777],\n",
    " ['Langerak', 51.953586111111115, 4.902905555555556],\n",
    " ['Oostwaard', 52.831633333333336, 4.909311111111111],\n",
    " ['Kampina', 51.566944444444445, 5.2908333333333335],\n",
    " ['Loobos', 52.166580555555555, 5.743555555555556],\n",
    " ['Vredepeel', 51.53093611111111, 5.84375],\n",
    " ['Dijkgraaf', 51.99206111111111, 5.645944444444444]]"
   ]
  },
  {
   "cell_type": "code",
   "execution_count": null,
   "metadata": {
    "collapsed": false,
    "scrolled": true
   },
   "outputs": [],
   "source": [
    "for station in latlon_stations:\n",
    "    fig = plt.figure(figsize=(12, 13)) \n",
    "    gs = gridspec.GridSpec(2, 2, width_ratios=[3, 1], height_ratios=[1,3]) \n",
    "    #ax0 = plt.subplot(gs[0])\n",
    "    ax0 = plt.subplot(gs[0])\n",
    "    ax1 = df[station[0]].plot(ax=ax0, grid=None, title=station[0])\n",
    "    ax1.set_ylabel(\"NDVI\")\n",
    "    # Draw a set of axes with coastlines:\n",
    "    #fig = plt.figure(figsize=(9, 13), frameon=True)\n",
    "    extent_latlon = (3,7.2,50.74466,55)\n",
    "\n",
    "    # PLOT2ax1 = plt.subplot()\n",
    "    ax = plt.subplot(gs[1], projection=projection)\n",
    "    ax.set_extent(extent_latlon, crs=ccrs.PlateCarree())\n",
    "    fig.canvas.draw()\n",
    "    #ax.gridlines(xlocs=xticks, ylocs=yticks)\n",
    "    ax.xaxis.set_major_formatter(LONGITUDE_FORMATTER) \n",
    "    ax.yaxis.set_major_formatter(LATITUDE_FORMATTER)\n",
    "    #lambert_xticks(ax, xticks, label=False)\n",
    "    #lambert_yticks(ax, yticks, label=False)\n",
    "\n",
    "    ax.coastlines(resolution='10m')\n",
    "    #ax.add_feature(states_provinces, edgecolor='black')\n",
    "    ax.add_feature(boundary_land, edgecolor='black')\n",
    "\n",
    "    ax.plot(station[2],station[1], marker='s', color='k', markersize=6, transform=ccrs.PlateCarree())\n",
    "    scale_bar(ax, projection,100, location=(0.25,0.05))\n",
    "\n",
    "    #ax.imshow(array, cmap=plt.cm.Blues, vmin=0,vmax=array.max(),\n",
    "    #            interpolation='none', origin='upper', extent=extent, transform=projection)\n",
    "    plt.tight_layout()\n",
    "    plt_out = r'D:\\Projects\\Pr\\3492.10\\MYD13Q1_MOD13Q1\\png//ts_plot_'+station[0]+'.png'\n",
    "    plt.savefig(plt_out, dpi=400, bbox_inches='tight')\n",
    "    #plt.show()"
   ]
  },
  {
   "cell_type": "code",
   "execution_count": null,
   "metadata": {
    "collapsed": true
   },
   "outputs": [],
   "source": []
  }
 ],
 "metadata": {
  "kernelspec": {
   "display_name": "Python 3",
   "language": "python",
   "name": "python3"
  },
  "language_info": {
   "codemirror_mode": {
    "name": "ipython",
    "version": 3
   },
   "file_extension": ".py",
   "mimetype": "text/x-python",
   "name": "python",
   "nbconvert_exporter": "python",
   "pygments_lexer": "ipython3",
   "version": "3.5.2"
  }
 },
 "nbformat": 4,
 "nbformat_minor": 2
}
