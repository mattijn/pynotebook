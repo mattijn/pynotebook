{
 "cells": [
  {
   "cell_type": "code",
   "execution_count": 1,
   "metadata": {
    "collapsed": true
   },
   "outputs": [],
   "source": [
    "import rasterio\n",
    "import numpy as np\n",
    "from datetime import datetime, timedelta\n",
    "from affine import Affine\n",
    "from pyproj import Proj, transform\n",
    "import os, glob\n",
    "import gdal, osr\n",
    "import pandas as pd\n",
    "%matplotlib inline"
   ]
  },
  {
   "cell_type": "code",
   "execution_count": 2,
   "metadata": {
    "collapsed": false
   },
   "outputs": [],
   "source": [
    "import re\n",
    "\n",
    "def dms2dd(degrees, minutes, seconds, direction):\n",
    "    dd = float(degrees) + float(minutes)/60 + float(seconds)/(60*60);\n",
    "    if direction == 'S' or direction == 'W':\n",
    "        dd *= -1\n",
    "    return dd;\n",
    "\n",
    "def dd2dms(deg):\n",
    "    d = int(deg)\n",
    "    md = abs(deg - d) * 60\n",
    "    m = int(md)\n",
    "    sd = (md - m) * 60\n",
    "    return [d, m, sd]\n",
    "\n",
    "def parse_dms(dms):\n",
    "    #parts = re.split('[^\\d\\w]+', dms)\n",
    "    parts = re.split('[^\\d\\w\\.]+', dms)\n",
    "    #print (parts)\n",
    "    lat = dms2dd(parts[0], parts[1], parts[2], parts[3])\n",
    "    long = dms2dd(parts[4], parts[5], parts[6], parts[7])\n",
    "    #lat = dms2dd(parts[0], parts[1], parts[2] + \".\" + parts[3], parts[4])\n",
    "    return (lat, long)"
   ]
  },
  {
   "cell_type": "code",
   "execution_count": 3,
   "metadata": {
    "collapsed": false
   },
   "outputs": [
    {
     "name": "stdout",
     "output_type": "stream",
     "text": [
      "D:\\Projects\\Pr\\3492.10\\MOD13Q1\\tif\\MOD13Q1.A2016097.h18v03.006.2016114042550_projected_250m 16 days NDVI.tif\n"
     ]
    }
   ],
   "source": [
    "# create the list of files to use\n",
    "tifdir = r'D:\\Projects\\Pr\\3492.10\\MOD13Q1\\tif'\n",
    "tiffiles = glob.glob(os.path.join(tifdir, 'MOD13Q1.A2016*.tif'))\n",
    "print (tiffiles[0])"
   ]
  },
  {
   "cell_type": "code",
   "execution_count": 4,
   "metadata": {
    "collapsed": false
   },
   "outputs": [],
   "source": [
    "loc_stations = {'Bankenbos' :\"\"\"53°1'14.75\"N 6°24'9.93\"E\"\"\",\n",
    "                'Fleditebos':\"\"\"52°19'6.00\"N 5°27'12.00\"E\"\"\",\n",
    "                'Kampina'   :\"\"\"51°34'1.00\"N 5°17'27.00\"E\"\"\",\n",
    "                'Cabauw'    :\"\"\"51°58'12.79\"N 4°55'34.28\"E\"\"\",\n",
    "                'Haastrecht':\"\"\"52°0'11.29\"N 4°48'19.83\"E\"\"\",\n",
    "                'Langerak'  :\"\"\"51°57'12.91\"N 4°54'10.46\"E\"\"\",\n",
    "                'Molenweg'  :\"\"\"51°39'9.80\"N 4°38'10.85\"E\"\"\",\n",
    "                'Dijkgraaf' :\"\"\"51°59'31.42\"N 5°38'45.40\"E\"\"\",\n",
    "                'Lutjewad'  :\"\"\"53°23'56.12\"N 6°21'21.70\"E\"\"\",\n",
    "                'Oostwaard' :\"\"\"52°49'53.88\"N 4°54'33.52\"E\"\"\",\n",
    "                'Vredepeel' :\"\"\"51°31'51.37\"N 5°50'37.50\"E\"\"\",\n",
    "                'Loobos'    :\"\"\"52°9'59.69\"N 5°44'36.80\"E\"\"\",\n",
    "               }"
   ]
  },
  {
   "cell_type": "code",
   "execution_count": 5,
   "metadata": {
    "collapsed": false
   },
   "outputs": [
    {
     "name": "stdout",
     "output_type": "stream",
     "text": [
      "lat 51.970219444444446 lon 4.926188888888889\n",
      "northing 123320.36763863487 easting 442522.83459451684\n"
     ]
    }
   ],
   "source": [
    "# define projections\n",
    "P28992 = Proj(init='epsg:28992')\n",
    "P4326 = Proj(init='epsg:4326')\n",
    "\n",
    "# go from DMS to decimal degrees (EPSG:4326) to rijksdriehoek (EPSG:28992)\n",
    "lat, lon = parse_dms(loc_stations['Cabauw'])\n",
    "mx,my = transform(P4326, P28992, lon, lat)\n",
    "print ('lat',lat,'lon',lon)\n",
    "print ('northing',mx,'easting',my)"
   ]
  },
  {
   "cell_type": "code",
   "execution_count": 6,
   "metadata": {
    "collapsed": false
   },
   "outputs": [
    {
     "data": {
      "text/plain": [
       "dict_values(['52°19\\'6.00\"N 5°27\\'12.00\"E', '52°9\\'59.69\"N 5°44\\'36.80\"E', '51°57\\'12.91\"N 4°54\\'10.46\"E', '51°59\\'31.42\"N 5°38\\'45.40\"E', '51°58\\'12.79\"N 4°55\\'34.28\"E', '53°1\\'14.75\"N 6°24\\'9.93\"E', '51°34\\'1.00\"N 5°17\\'27.00\"E', '52°0\\'11.29\"N 4°48\\'19.83\"E', '53°23\\'56.12\"N 6°21\\'21.70\"E', '51°31\\'51.37\"N 5°50\\'37.50\"E', '51°39\\'9.80\"N 4°38\\'10.85\"E', '52°49\\'53.88\"N 4°54\\'33.52\"E'])"
      ]
     },
     "execution_count": 6,
     "metadata": {},
     "output_type": "execute_result"
    }
   ],
   "source": [
    "loc_stations.values()"
   ]
  },
  {
   "cell_type": "code",
   "execution_count": 7,
   "metadata": {
    "collapsed": false
   },
   "outputs": [
    {
     "name": "stdout",
     "output_type": "stream",
     "text": [
      "0 Fleditebos 52°19'6.00\"N 5°27'12.00\"E\n",
      "1 Loobos 52°9'59.69\"N 5°44'36.80\"E\n",
      "2 Langerak 51°57'12.91\"N 4°54'10.46\"E\n",
      "3 Dijkgraaf 51°59'31.42\"N 5°38'45.40\"E\n",
      "4 Cabauw 51°58'12.79\"N 4°55'34.28\"E\n",
      "5 Bankenbos 53°1'14.75\"N 6°24'9.93\"E\n",
      "6 Kampina 51°34'1.00\"N 5°17'27.00\"E\n",
      "7 Haastrecht 52°0'11.29\"N 4°48'19.83\"E\n",
      "8 Lutjewad 53°23'56.12\"N 6°21'21.70\"E\n",
      "9 Vredepeel 51°31'51.37\"N 5°50'37.50\"E\n",
      "10 Molenweg 51°39'9.80\"N 4°38'10.85\"E\n",
      "11 Oostwaard 52°49'53.88\"N 4°54'33.52\"E\n"
     ]
    }
   ],
   "source": [
    "latlong_stations = []\n",
    "for idx,item in enumerate(loc_stations):\n",
    "    print (idx, item, loc_stations[item])\n",
    "    lat, lon = parse_dms(loc_stations[item])\n",
    "    t_out = [item,lat,lon]\n",
    "    latlong_stations.append(t_out)\n",
    "    "
   ]
  },
  {
   "cell_type": "code",
   "execution_count": 8,
   "metadata": {
    "collapsed": false
   },
   "outputs": [
    {
     "data": {
      "text/plain": [
       "[['Fleditebos', 52.318333333333335, 5.453333333333333],\n",
       " ['Loobos', 52.166580555555555, 5.743555555555556],\n",
       " ['Langerak', 51.953586111111115, 4.902905555555556],\n",
       " ['Dijkgraaf', 51.99206111111111, 5.645944444444444],\n",
       " ['Cabauw', 51.970219444444446, 4.926188888888889],\n",
       " ['Bankenbos', 53.02076388888889, 6.402758333333334],\n",
       " ['Kampina', 51.566944444444445, 5.2908333333333335],\n",
       " ['Haastrecht', 52.00313611111111, 4.805508333333333],\n",
       " ['Lutjewad', 53.398922222222225, 6.356027777777777],\n",
       " ['Vredepeel', 51.53093611111111, 5.84375],\n",
       " ['Molenweg', 51.65272222222222, 4.636347222222222],\n",
       " ['Oostwaard', 52.831633333333336, 4.909311111111111]]"
      ]
     },
     "execution_count": 8,
     "metadata": {},
     "output_type": "execute_result"
    }
   ],
   "source": [
    "latlong_stations"
   ]
  },
  {
   "cell_type": "code",
   "execution_count": 9,
   "metadata": {
    "collapsed": false
   },
   "outputs": [
    {
     "name": "stdout",
     "output_type": "stream",
     "text": [
      "[Timestamp('2016-04-06 00:00:00') Timestamp('2016-04-22 00:00:00')\n",
      " Timestamp('2016-05-08 00:00:00') Timestamp('2016-05-24 00:00:00')\n",
      " Timestamp('2016-06-09 00:00:00') Timestamp('2016-06-25 00:00:00')\n",
      " Timestamp('2016-07-11 00:00:00') Timestamp('2016-07-27 00:00:00')\n",
      " Timestamp('2016-08-12 00:00:00') Timestamp('2016-08-28 00:00:00')\n",
      " Timestamp('2016-09-13 00:00:00') Timestamp('2016-09-29 00:00:00')\n",
      " Timestamp('2016-10-15 00:00:00') Timestamp('2016-10-31 00:00:00')]\n"
     ]
    }
   ],
   "source": [
    "# get all timestamps from geotif files and store as index list\n",
    "index = []\n",
    "for i in tiffiles:\n",
    "    path, file = os.path.split(i)\n",
    "    # get date as combination of year and day of year\n",
    "    year = int(file[9:13])\n",
    "    doy = int(file[13:16])\n",
    "    date = datetime(year, 1, 1) + timedelta(doy - 1)\n",
    "    date = np.datetime64(date)\n",
    "    date = pd.Timestamp(np.datetime_as_string(date))\n",
    "    index.append(date)\n",
    "index = np.array(index)\n",
    "\n",
    "print (index)"
   ]
  },
  {
   "cell_type": "code",
   "execution_count": 10,
   "metadata": {
    "collapsed": false
   },
   "outputs": [
    {
     "data": {
      "text/html": [
       "<div>\n",
       "<table border=\"1\" class=\"dataframe\">\n",
       "  <thead>\n",
       "    <tr style=\"text-align: right;\">\n",
       "      <th></th>\n",
       "      <th>Fleditebos</th>\n",
       "      <th>Loobos</th>\n",
       "      <th>Langerak</th>\n",
       "      <th>Dijkgraaf</th>\n",
       "      <th>Cabauw</th>\n",
       "      <th>Bankenbos</th>\n",
       "      <th>Kampina</th>\n",
       "      <th>Haastrecht</th>\n",
       "      <th>Lutjewad</th>\n",
       "      <th>Vredepeel</th>\n",
       "      <th>Molenweg</th>\n",
       "      <th>Oostwaard</th>\n",
       "    </tr>\n",
       "  </thead>\n",
       "  <tbody>\n",
       "    <tr>\n",
       "      <th>2016-04-06</th>\n",
       "      <td>NaN</td>\n",
       "      <td>NaN</td>\n",
       "      <td>NaN</td>\n",
       "      <td>NaN</td>\n",
       "      <td>NaN</td>\n",
       "      <td>NaN</td>\n",
       "      <td>NaN</td>\n",
       "      <td>NaN</td>\n",
       "      <td>NaN</td>\n",
       "      <td>NaN</td>\n",
       "      <td>NaN</td>\n",
       "      <td>NaN</td>\n",
       "    </tr>\n",
       "    <tr>\n",
       "      <th>2016-04-22</th>\n",
       "      <td>NaN</td>\n",
       "      <td>NaN</td>\n",
       "      <td>NaN</td>\n",
       "      <td>NaN</td>\n",
       "      <td>NaN</td>\n",
       "      <td>NaN</td>\n",
       "      <td>NaN</td>\n",
       "      <td>NaN</td>\n",
       "      <td>NaN</td>\n",
       "      <td>NaN</td>\n",
       "      <td>NaN</td>\n",
       "      <td>NaN</td>\n",
       "    </tr>\n",
       "    <tr>\n",
       "      <th>2016-05-08</th>\n",
       "      <td>NaN</td>\n",
       "      <td>NaN</td>\n",
       "      <td>NaN</td>\n",
       "      <td>NaN</td>\n",
       "      <td>NaN</td>\n",
       "      <td>NaN</td>\n",
       "      <td>NaN</td>\n",
       "      <td>NaN</td>\n",
       "      <td>NaN</td>\n",
       "      <td>NaN</td>\n",
       "      <td>NaN</td>\n",
       "      <td>NaN</td>\n",
       "    </tr>\n",
       "    <tr>\n",
       "      <th>2016-05-24</th>\n",
       "      <td>NaN</td>\n",
       "      <td>NaN</td>\n",
       "      <td>NaN</td>\n",
       "      <td>NaN</td>\n",
       "      <td>NaN</td>\n",
       "      <td>NaN</td>\n",
       "      <td>NaN</td>\n",
       "      <td>NaN</td>\n",
       "      <td>NaN</td>\n",
       "      <td>NaN</td>\n",
       "      <td>NaN</td>\n",
       "      <td>NaN</td>\n",
       "    </tr>\n",
       "    <tr>\n",
       "      <th>2016-06-09</th>\n",
       "      <td>NaN</td>\n",
       "      <td>NaN</td>\n",
       "      <td>NaN</td>\n",
       "      <td>NaN</td>\n",
       "      <td>NaN</td>\n",
       "      <td>NaN</td>\n",
       "      <td>NaN</td>\n",
       "      <td>NaN</td>\n",
       "      <td>NaN</td>\n",
       "      <td>NaN</td>\n",
       "      <td>NaN</td>\n",
       "      <td>NaN</td>\n",
       "    </tr>\n",
       "  </tbody>\n",
       "</table>\n",
       "</div>"
      ],
      "text/plain": [
       "           Fleditebos Loobos Langerak Dijkgraaf Cabauw Bankenbos Kampina  \\\n",
       "2016-04-06        NaN    NaN      NaN       NaN    NaN       NaN     NaN   \n",
       "2016-04-22        NaN    NaN      NaN       NaN    NaN       NaN     NaN   \n",
       "2016-05-08        NaN    NaN      NaN       NaN    NaN       NaN     NaN   \n",
       "2016-05-24        NaN    NaN      NaN       NaN    NaN       NaN     NaN   \n",
       "2016-06-09        NaN    NaN      NaN       NaN    NaN       NaN     NaN   \n",
       "\n",
       "           Haastrecht Lutjewad Vredepeel Molenweg Oostwaard  \n",
       "2016-04-06        NaN      NaN       NaN      NaN       NaN  \n",
       "2016-04-22        NaN      NaN       NaN      NaN       NaN  \n",
       "2016-05-08        NaN      NaN       NaN      NaN       NaN  \n",
       "2016-05-24        NaN      NaN       NaN      NaN       NaN  \n",
       "2016-06-09        NaN      NaN       NaN      NaN       NaN  "
      ]
     },
     "execution_count": 10,
     "metadata": {},
     "output_type": "execute_result"
    }
   ],
   "source": [
    "# get column names from loc_stations dictionary and store as dataframe\n",
    "columns = list(loc_stations.keys())\n",
    "df = pd.DataFrame(index=index, columns=columns)\n",
    "df.head()"
   ]
  },
  {
   "cell_type": "code",
   "execution_count": 11,
   "metadata": {
    "collapsed": false
   },
   "outputs": [
    {
     "name": "stdout",
     "output_type": "stream",
     "text": [
      "Fleditebos\n",
      "lat 52.318333333333335 lon 5.453333333333333\n",
      "northing 159508.94391427966 easting 481155.68644245144\n",
      "Loobos\n",
      "lat 52.166580555555555 lon 5.743555555555556\n",
      "northing 179380.355806715 easting 464329.2198771655\n",
      "Langerak\n",
      "lat 51.953586111111115 lon 4.902905555555556\n",
      "northing 121708.08394376884 easting 440682.69451096636\n",
      "Dijkgraaf\n",
      "lat 51.99206111111111 lon 5.645944444444444\n",
      "northing 172771.42051890463 easting 444884.12427824305\n",
      "Cabauw\n",
      "lat 51.970219444444446 lon 4.926188888888889\n",
      "northing 123320.36763863487 easting 442522.83459451684\n",
      "Bankenbos\n",
      "lat 53.02076388888889 lon 6.402758333333334\n",
      "northing 223144.77983792173 easting 559794.811782909\n",
      "Kampina\n",
      "lat 51.566944444444445 lon 5.2908333333333335\n",
      "northing 148318.38497013383 easting 397560.67417329067\n",
      "Haastrecht\n",
      "lat 52.00313611111111 lon 4.805508333333333\n",
      "northing 115056.95548707253 easting 446244.4718567486\n",
      "Lutjewad\n",
      "lat 53.398922222222225 lon 6.356027777777777\n",
      "northing 219443.16161995087 easting 601834.1156680665\n",
      "Vredepeel\n",
      "lat 51.53093611111111 lon 5.84375\n",
      "northing 186679.48166334635 easting 393649.5926928291\n",
      "Molenweg\n",
      "lat 51.65272222222222 lon 4.636347222222222\n",
      "northing 103039.00954907671 easting 407367.0995134113\n",
      "Oostwaard\n",
      "lat 52.831633333333336 lon 4.909311111111111\n",
      "northing 122792.71886050075 easting 538374.9746167494\n"
     ]
    }
   ],
   "source": [
    "for siteIDin in columns:\n",
    "    # go from DMS to decimal degrees (EPSG:4326) to rijksdriehoek (EPSG:28992)\n",
    "    # siteIDin = 'Cabauw'\n",
    "    lat, lon = parse_dms(loc_stations[siteIDin])\n",
    "    mx,my = transform(P4326, P28992, lon, lat)\n",
    "    print (siteIDin)\n",
    "    print ('lat',lat,'lon',lon)\n",
    "    print ('northing',mx,'easting',my)\n",
    "\n",
    "    # array = np.zeros((len(tiffiles),15,15))\n",
    "    for idx, i in enumerate(tiffiles):\n",
    "        # load raster GeoTransform, RasterBand    \n",
    "        try:\n",
    "            src_ds = gdal.Open(i) \n",
    "            gt = src_ds.GetGeoTransform()\n",
    "            rb = src_ds.GetRasterBand(1)           \n",
    "\n",
    "            # convert from map to pixel coordinates.    \n",
    "            px = int((mx - gt[0]) / gt[1]) #x pixel\n",
    "            py = int((my - gt[3]) / gt[5]) #y pixel\n",
    "#             print ('pixel-x',px,'pixel-y',py)              \n",
    "\n",
    "            # get date\n",
    "            path, file = os.path.split(i)\n",
    "            year = int(file[9:13])\n",
    "            doy = int(file[13:16])\n",
    "            date = datetime(year, 1, 1) + timedelta(doy - 1)\n",
    "            date = np.datetime64(date)\n",
    "            date = pd.Timestamp(np.datetime_as_string(date))\n",
    "#             print (date)\n",
    "            \n",
    "          \n",
    "        except Exception as e:\n",
    "            print (e, i)\n",
    "            continue\n",
    "        try:\n",
    "            # get mean of nine pixels surround station ID\n",
    "            array_ID = rb.ReadAsArray(px,py,1,1).astype(np.float)\n",
    "            #array_ID = np.ma.masked_equal(array_ID, 0)\n",
    "            stationID_mean = np.ma.mean(array_ID)\n",
    "            df.ix[date][siteIDin] = stationID_mean\n",
    "            #array[idx] = array_ID_nine\n",
    "        except Exception as e:\n",
    "            print (e, i)\n",
    "            continue"
   ]
  },
  {
   "cell_type": "code",
   "execution_count": 13,
   "metadata": {
    "collapsed": true
   },
   "outputs": [],
   "source": [
    "df = df / 10000"
   ]
  },
  {
   "cell_type": "code",
   "execution_count": 14,
   "metadata": {
    "collapsed": false
   },
   "outputs": [
    {
     "data": {
      "text/plain": [
       "<matplotlib.axes._subplots.AxesSubplot at 0x8f0af60>"
      ]
     },
     "execution_count": 14,
     "metadata": {},
     "output_type": "execute_result"
    },
    {
     "data": {
      "image/png": "[encoded data removed]",
      "text/plain": [
       "<matplotlib.figure.Figure at 0x8f15d30>"
      ]
     },
     "metadata": {},
     "output_type": "display_data"
    }
   ],
   "source": [
    "df.Cabauw.plot()"
   ]
  },
  {
   "cell_type": "code",
   "execution_count": 15,
   "metadata": {
    "collapsed": false
   },
   "outputs": [
    {
     "data": {
      "text/plain": [
       "<matplotlib.axes._subplots.AxesSubplot at 0xa4309b0>"
      ]
     },
     "execution_count": 15,
     "metadata": {},
     "output_type": "execute_result"
    },
    {
     "data": {
      "image/png": "[encoded data removed]",
      "text/plain": [
       "<matplotlib.figure.Figure at 0x8ab6c18>"
      ]
     },
     "metadata": {},
     "output_type": "display_data"
    }
   ],
   "source": [
    "df.Bankenbos.plot()"
   ]
  },
  {
   "cell_type": "code",
   "execution_count": 16,
   "metadata": {
    "collapsed": false
   },
   "outputs": [
    {
     "data": {
      "text/plain": [
       "<matplotlib.axes._subplots.AxesSubplot at 0xa4b0c88>"
      ]
     },
     "execution_count": 16,
     "metadata": {},
     "output_type": "execute_result"
    },
    {
     "data": {
      "image/png": "[encoded data removed]",
      "text/plain": [
       "<matplotlib.figure.Figure at 0xa4c8908>"
      ]
     },
     "metadata": {},
     "output_type": "display_data"
    }
   ],
   "source": [
    "df.Haastrecht.plot()"
   ]
  },
  {
   "cell_type": "code",
   "execution_count": 18,
   "metadata": {
    "collapsed": false
   },
   "outputs": [],
   "source": [
    "pkl_file_name = r'D:\\Projects\\Pr\\3492.10\\MOD13Q1\\pandas//MOD13Q1.006_12locations.pkl'\n",
    "df.to_pickle(pkl_file_name)  # where to save it, usually as a .pkl"
   ]
  },
  {
   "cell_type": "code",
   "execution_count": null,
   "metadata": {
    "collapsed": true
   },
   "outputs": [],
   "source": []
  }
 ],
 "metadata": {
  "kernelspec": {
   "display_name": "Python 3",
   "language": "python",
   "name": "python3"
  },
  "language_info": {
   "codemirror_mode": {
    "name": "ipython",
    "version": 3
   },
   "file_extension": ".py",
   "mimetype": "text/x-python",
   "name": "python",
   "nbconvert_exporter": "python",
   "pygments_lexer": "ipython3",
   "version": "3.5.2"
  }
 },
 "nbformat": 4,
 "nbformat_minor": 2
}
