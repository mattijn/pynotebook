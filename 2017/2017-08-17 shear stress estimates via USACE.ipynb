{
 "cells": [
  {
   "cell_type": "code",
   "execution_count": 1,
   "metadata": {
    "collapsed": true,
    "deletable": true,
    "editable": true
   },
   "outputs": [],
   "source": [
    "import numpy as np"
   ]
  },
  {
   "cell_type": "code",
   "execution_count": 2,
   "metadata": {
    "collapsed": true,
    "deletable": true,
    "editable": true
   },
   "outputs": [],
   "source": [
    "# set variablelen\n",
    "variabelen = {}\n",
    "variabelen['zeroth-moment significant wave height']        = {'symbool':'H_m0', 'eenheid':'m'}\n",
    "variabelen['wave period associated with the spectral peak']= {'symbool':'T_p', 'eenheid':'s'}\n",
    "variabelen['levee crest elevation']                        = {'symbool':'h_c', 'eenheid':'m'}\n",
    "variabelen['storm surge elevation']                        = {'symbool':'h_S', 'eenheid':'m'}\n",
    "variabelen['freeboard [=h_c-h_S]']                         = {'symbool':'R_c', 'eenheid':'m'}\n",
    "variabelen['seaward-side levee slope']                     = {'symbool':'θ_ss', 'eenheid':'°'}\n",
    "variabelen['landward-side levee slope']                    = {'symbool':'θ_ls', 'eenheid':'°'}\n",
    "variabelen['specific height of sea water']                 = {'symbool':'γ_w', 'eenheid':'kg/m3'}\n",
    "variabelen['acceleration due to gravity']                  = {'symbool':'g', 'eenheid':'m/s2'}"
   ]
  },
  {
   "cell_type": "code",
   "execution_count": 3,
   "metadata": {
    "collapsed": false,
    "deletable": true,
    "editable": true
   },
   "outputs": [],
   "source": [
    "variabelen['zeroth-moment significant wave height']['waarde'] = 2.4384 # 8#\n",
    "variabelen['wave period associated with the spectral peak']['waarde'] = 10 # 10\n",
    "variabelen['levee crest elevation']['waarde'] = 4.57200 # 15#\n",
    "variabelen['storm surge elevation']['waarde'] = 5.57784 # 18.3\n",
    "variabelen['freeboard [=h_c-h_S]']['waarde'] = variabelen['levee crest elevation']['waarde'] - variabelen['storm surge elevation']['waarde']\n",
    "variabelen['seaward-side levee slope']['waarde'] = 14.03662 # 1/4\n",
    "variabelen['landward-side levee slope']['waarde'] = 18.43494 # 1/3\n",
    "variabelen['specific height of sea water']['waarde'] = 1025.18166 # 64#\n",
    "variabelen['acceleration due to gravity']['waarde'] = 9.81456 # 32.2#"
   ]
  },
  {
   "cell_type": "code",
   "execution_count": 4,
   "metadata": {
    "collapsed": false,
    "deletable": true,
    "editable": true
   },
   "outputs": [],
   "source": [
    "def eq5(γ_w,η_m):\n",
    "    \"\"\"\n",
    "    Input parameters\n",
    "    η_m          :  mean flow thickness (m)\n",
    "    γ_w,         :  specific height of sea water (kg/m3)\n",
    "    θ_ls         :  landward-side levee slope (°)\n",
    "    \n",
    "    Returns τ_0_mean is the mean shear stress (kg/m2 [kg force/square meter])\n",
    "    \"\"\"\n",
    "    τ_0_mean = γ_w*η_rms*np.sin(np.deg2rad(θ_ls))\n",
    "    return τ_0_mean\n",
    "\n",
    "def eq8(γ_w,η_rms):\n",
    "    \"\"\"\n",
    "    Input parameters\n",
    "    η_rms        :  root-mean-squared flow thickness (m)\n",
    "    γ_w,         :  specific height of sea water (kg/m3)\n",
    "    \n",
    "    Returns τ_0_mean is the mean shear stress (kg/m2 [kg force/square meter]), \n",
    "    multiply 10 to get shear stress in Pa [Pascal]\n",
    "    \"\"\"\n",
    "    τ_0_mean = 0.235*γ_w*η_rms\n",
    "    return τ_0_mean * 10\n",
    "\n",
    "def eq9(η_m, g, H_m0, T_p, q_ws):\n",
    "    \"\"\"\n",
    "    Input parameters\n",
    "    η_m          :  mean flow thickness (m)\n",
    "    g            :  acceleration due to gravity (m/s2)\n",
    "    H_m0         :  zeroth-moment significant wave height (m)\n",
    "    T_p          :  wave period associated with the spectral peak (s)\n",
    "    q_ws         :  average discharge (m3/s)\n",
    "    \n",
    "    Returns η_rms which is the root-mean-squared flow depth (m)\n",
    "    \"\"\"\n",
    "    η_rms = η_m + 0.0077 * (g*H_m0*T_p/q_ws)**(2/3) * η_m    \n",
    "    return η_rms\n",
    "\n",
    "def eq10(g, θ_ls, q_ws):\n",
    "    \"\"\"\n",
    "    Input parameters\n",
    "    g            :  acceleration due to gravity (m/s2)\n",
    "    θ_ls         :  landward-side levee slope (°)\n",
    "    q_ws         :  average discharge (m3/s)\n",
    "    \n",
    "    Returns η_m which is the mean flow thickness (m)\n",
    "    \"\"\"\n",
    "    η_m = 0.4*((1/(g*np.sin(np.deg2rad(θ_ls))))**(1/3))*(q_ws**(2/3))\n",
    "    return η_m\n",
    "\n",
    "def eq11a(R_c, H_m0):\n",
    "    \"\"\"\n",
    "    Input parameters \n",
    "    R_c          :  freeboard [=h_c-h_S] (m)\n",
    "    H_m0         :  zeroth-moment significant wave height (m)\n",
    "    \n",
    "    Returned value is equal to q_ws / np.sqrt(g*H_m0**3)\n",
    "    \"\"\"\n",
    "    out_eq11a = 0.0336+0.53*(-R_c/H_m0)**1.58        \n",
    "    return out_eq11a\n",
    "\n",
    "def eq11b(out_eq11a, g, H_m0):\n",
    "    \"\"\"\n",
    "    Input parameters\n",
    "    eq11a        :  output of equation eq11a \n",
    "    g            :  acceleration due to gravity (m/s2)\n",
    "    H_m0         :  zeroth-moment significant wave height (m)\n",
    "    \n",
    "    Returns q_ws (average discharge)\n",
    "    \"\"\"\n",
    "    q_ws = np.sqrt(g*H_m0**3) * out_eq11a\n",
    "    return q_ws\n",
    "\n",
    "def eq12(γ_w, H_rms):\n",
    "    \"\"\"\n",
    "    Input parameters\n",
    "    H_rms        :  root-mean-squared wave height (m)\n",
    "    γ_w,         :  specific height of sea water (kg/m3)\n",
    "    \n",
    "    Returns τ_0_1_3 which is the peak shear stress corresponding to \n",
    "    the average of the highest 1/3 shear stress peaks (kg/m2 [kg force/square meter]), \n",
    "    multiply 10 to get shear stress in Pa [Pascal]\n",
    "    \"\"\"    \n",
    "    τ_0_1_3 = 0.53 * γ_w * H_rms\n",
    "    return τ_0_1_3 * 10\n",
    "\n",
    "def eq13(γ_w, H_rms):\n",
    "    \"\"\"\n",
    "    Input parameters\n",
    "    H_rms        :  root-mean-squared wave height (m)\n",
    "    γ_w,         :  specific height of sea water (kg/m3)\n",
    "    \n",
    "    Returns τ_0_1_10 which is the peak shear stress corresponding to \n",
    "    the average of the highest 1/10 shear stress peaks (kg/m2 [kg force/square meter]), \n",
    "    multiply 10 to get shear stress in Pa [Pascal]\n",
    "    \"\"\"    \n",
    "    τ_0_1_10 = 0.69 * γ_w * H_rms\n",
    "    return τ_0_1_10 * 10\n",
    "\n",
    "def eq14(γ_w, H_rms):\n",
    "    \"\"\"\n",
    "    Input parameters\n",
    "    H_rms        :  root-mean-squared wave height (m)\n",
    "    γ_w,         :  specific height of sea water (kg/m3)\n",
    "    \n",
    "    Returns τ_0_1_100 which is the peak shear stress corresponding to \n",
    "    the average of the highest 1/100 shear stress peaks (kg/m2 [kg force/square meter]), \n",
    "    multiply 10 to get shear stress in Pa [Pascal]\n",
    "    \"\"\"    \n",
    "    τ_0_1_100 = 0.93 * γ_w * H_rms\n",
    "    return τ_0_1_100 * 10\n",
    "\n",
    "def eq15(R_c, η_m, H_m0):\n",
    "    \"\"\"\n",
    "    Input parameters\n",
    "    R_c          :  freeboard [=h_c-h_S] (m)\n",
    "    H_m0         :  zeroth-moment significant wave height (m)\n",
    "    η_m          :  mean flow thickness (m)\n",
    "    \n",
    "    Returns H_rms which is the root-mean-squared wave height (m)\n",
    "    \"\"\"\n",
    "    H_rms = η_m * (3.43 * np.exp(R_c/H_m0))\n",
    "    return H_rms"
   ]
  },
  {
   "cell_type": "code",
   "execution_count": 5,
   "metadata": {
    "collapsed": false,
    "deletable": true,
    "editable": true
   },
   "outputs": [
    {
     "data": {
      "text/plain": [
       "1.9612134626903019"
      ]
     },
     "execution_count": 5,
     "metadata": {},
     "output_type": "execute_result"
    }
   ],
   "source": [
    "# calculate average overtopping discharge\n",
    "R_c   = variabelen['freeboard [=h_c-h_S]']['waarde']\n",
    "H_m0  = variabelen['zeroth-moment significant wave height']['waarde']\n",
    "g     = variabelen['acceleration due to gravity']['waarde']\n",
    "\n",
    "out_eq11a = eq11a(R_c, H_m0)\n",
    "q_ws  = eq11b(out_eq11a,g,H_m0)\n",
    "q_ws"
   ]
  },
  {
   "cell_type": "code",
   "execution_count": 6,
   "metadata": {
    "collapsed": false,
    "deletable": true,
    "editable": true
   },
   "outputs": [
    {
     "data": {
      "text/plain": [
       "(0.42965482237657215, 0.51104606791878782, 0.97558999283173931)"
      ]
     },
     "execution_count": 6,
     "metadata": {},
     "output_type": "execute_result"
    }
   ],
   "source": [
    "# calculate flow paramters on the landward-side levee slope\n",
    "θ_ls  = variabelen['landward-side levee slope']['waarde']\n",
    "T_p   = variabelen['wave period associated with the spectral peak']['waarde']\n",
    "\n",
    "η_m   = eq10(g, θ_ls, q_ws)\n",
    "η_rms = eq9(η_m, g, H_m0, T_p, q_ws)\n",
    "H_rms = eq15(R_c, η_m, H_m0)\n",
    "η_m,η_rms,H_rms"
   ]
  },
  {
   "cell_type": "code",
   "execution_count": 7,
   "metadata": {
    "collapsed": false,
    "deletable": true,
    "editable": true
   },
   "outputs": [],
   "source": [
    "# calculate average shear stress on the landward-side levee slope\n",
    "γ_w   = variabelen['specific height of sea water']['waarde']\n",
    "\n",
    "τ_0_mean  = eq8(γ_w, η_rms)"
   ]
  },
  {
   "cell_type": "code",
   "execution_count": 8,
   "metadata": {
    "collapsed": false,
    "deletable": true,
    "editable": true
   },
   "outputs": [],
   "source": [
    "# calculate peak sheaar stress paramaters on the landward-side levee slope\n",
    "τ_0_1_3   = eq12(γ_w, H_rms)\n",
    "τ_0_1_10  = eq13(γ_w, H_rms)\n",
    "τ_0_1_100 = eq14(γ_w, H_rms)"
   ]
  },
  {
   "cell_type": "code",
   "execution_count": 9,
   "metadata": {
    "collapsed": false,
    "deletable": true,
    "editable": true
   },
   "outputs": [
    {
     "data": {
      "text/plain": [
       "9301.459805474864"
      ]
     },
     "execution_count": 9,
     "metadata": {},
     "output_type": "execute_result"
    }
   ],
   "source": [
    "τ_0_1_100"
   ]
  },
  {
   "cell_type": "code",
   "execution_count": 10,
   "metadata": {
    "collapsed": false,
    "deletable": true,
    "editable": true
   },
   "outputs": [
    {
     "name": "stdout",
     "output_type": "stream",
     "text": [
      "9301.45980547 lb/ft2 == 9121.189318333356 Pa [N/m2]\n"
     ]
    }
   ],
   "source": [
    "print(τ_0_1_100,'lb/ft2 ==',9121.189318333356,'Pa [N/m2]')"
   ]
  },
  {
   "cell_type": "code",
   "execution_count": 56,
   "metadata": {
    "collapsed": true,
    "deletable": true,
    "editable": true
   },
   "outputs": [],
   "source": [
    "def eq5(γ_w,η_m,θ_ls):\n",
    "    \"\"\"\n",
    "    Input parameters\n",
    "    γ_w,         :  specific height of sea water (kg/m3)\n",
    "    η_m          :  mean flow thickness (m)\n",
    "    θ_ls         :  landward-side levee slope (°)    \n",
    "    \n",
    "    Returns τ_0_mean is the mean shear stress (kg/m2 [kg force/square meter]), \n",
    "    multiply 10 to get shear stress in Pa [Pascal]\n",
    "    \"\"\"\n",
    "    τ_0_mean = γ_w * η_m * np.sin(np.deg2rad(θ_ls))\n",
    "    return τ_0_mean * 10\n",
    "\n",
    "def eq6(γ_w,h1,h2,θ_ls,ds):\n",
    "    \"\"\"\n",
    "    Input parameters\n",
    "    γ_w,         :  specific height of sea water (kg/m3)\n",
    "    h1           :  flow depth at first location (m)\n",
    "    h2           :  flow depth at location h+1 (m)\n",
    "    θ_ls         :  landward-side levee slope (°) \n",
    "    ds           :  stepsize down-slope (m)\n",
    "    \n",
    "    Returns τ_0 is the shear stress (kg/m2 [kg force/square meter]) at location h, \n",
    "    multiply 10 to get shear stress in Pa [Pascal]\n",
    "    \"\"\"\n",
    "    h12 = (h1+h2)/2\n",
    "    dh = h2-h1\n",
    "    τ_0 = γ_w * h12 * (np.sin(np.deg2rad(θ_ls)) - (dh/ds))\n",
    "    return τ_0 * 10\n",
    "\n",
    "def eq7(γ_w,h1,h2,θ_ls,ds,g,v1,v2,dt=0.0072219812002892259):\n",
    "    \"\"\"\n",
    "    Input parameters\n",
    "    γ_w,         :  specific height of sea water (kg/m3)\n",
    "    h1           :  flow depth at first location (m)\n",
    "    h2           :  flow depth at location h+1 (m)\n",
    "    θ_ls         :  landward-side levee slope (°) \n",
    "    ds           :  stepsize down-slope (m)\n",
    "    g            :  acceleration due to gravity (m/s2)\n",
    "    v1           :  flow velocity at first location (m/s)\n",
    "    v2           :  flow velocity at location+1 (m/s)\n",
    "    dt           :  delta time (s)\n",
    "    \n",
    "    Returns τ_0 is the shear stress (kg/m2 [kg force/square meter]) at location h, \n",
    "    multiply 10 to get shear stress in Pa [Pascal]\n",
    "    \"\"\"\n",
    "    h12 = (h1+h2)/2\n",
    "    dv = v2-v1\n",
    "    dh = h2-h1\n",
    "    τ_0 = γ_w * h12 * (np.sin(np.deg2rad(θ_ls)) - (dh/ds) - ((dh/ds)*(v1**2/(2*g))) - ((1/g)*(dv/dt)))\n",
    "    return τ_0 * 10"
   ]
  },
  {
   "cell_type": "code",
   "execution_count": null,
   "metadata": {
    "collapsed": true,
    "deletable": true,
    "editable": true
   },
   "outputs": [],
   "source": []
  },
  {
   "cell_type": "code",
   "execution_count": 12,
   "metadata": {
    "collapsed": true,
    "deletable": true,
    "editable": true
   },
   "outputs": [],
   "source": [
    "import pandas as pd"
   ]
  },
  {
   "cell_type": "code",
   "execution_count": 13,
   "metadata": {
    "collapsed": true,
    "deletable": true,
    "editable": true
   },
   "outputs": [],
   "source": [
    "df = pd.read_pickle(r'D:\\Projects\\Pr\\3517.10\\Werkfolder//golf1_3.pkl')\n",
    "df = pd.read_pickle(r'D:\\Projects\\Pr\\3517.10\\Werkfolder//golf4_6.pkl')\n",
    "df = pd.read_pickle(r'D:\\Projects\\Pr\\3517.10\\Werkfolder//golf7_9.pkl')\n",
    "df = pd.read_pickle(r'D:\\Projects\\Pr\\3517.10\\Werkfolder//golf10_12.pkl')\n",
    "df = pd.read_pickle(r'D:\\Projects\\Pr\\3517.10\\Werkfolder//golf2_145.pkl')\n",
    "df = pd.read_pickle(r'D:\\Projects\\Pr\\3517.10\\Werkfolder//golf2_2.pkl')\n",
    "df = pd.read_pickle(r'D:\\Projects\\Pr\\3517.10\\Werkfolder//golf2_3.pkl')"
   ]
  },
  {
   "cell_type": "code",
   "execution_count": 78,
   "metadata": {
    "collapsed": true,
    "deletable": true,
    "editable": true
   },
   "outputs": [],
   "source": []
  },
  {
   "cell_type": "code",
   "execution_count": 99,
   "metadata": {
    "collapsed": true,
    "deletable": true,
    "editable": true
   },
   "outputs": [],
   "source": []
  },
  {
   "cell_type": "code",
   "execution_count": 106,
   "metadata": {
    "collapsed": true,
    "deletable": true,
    "editable": true
   },
   "outputs": [],
   "source": []
  },
  {
   "cell_type": "code",
   "execution_count": 113,
   "metadata": {
    "collapsed": true,
    "deletable": true,
    "editable": true
   },
   "outputs": [],
   "source": []
  },
  {
   "cell_type": "code",
   "execution_count": 120,
   "metadata": {
    "collapsed": true,
    "deletable": true,
    "editable": true
   },
   "outputs": [],
   "source": []
  },
  {
   "cell_type": "code",
   "execution_count": 44,
   "metadata": {
    "collapsed": true,
    "deletable": true,
    "editable": true
   },
   "outputs": [],
   "source": [
    "\n",
    "df.index.get_level_values(3)[0]"
   ]
  },
  {
   "cell_type": "code",
   "execution_count": 46,
   "metadata": {
    "collapsed": false,
    "deletable": true,
    "editable": true
   },
   "outputs": [],
   "source": [
    "talud = 1.8\n",
    "f     = 0.02\n",
    "v0    = df.index.get_level_values(2)[0]\n",
    "h0    = df.index.get_level_values(3)[0]\n",
    "θ_ls = np.rad2deg(np.arctan(1/talud))"
   ]
  },
  {
   "cell_type": "code",
   "execution_count": 47,
   "metadata": {
    "collapsed": false,
    "deletable": true,
    "editable": true
   },
   "outputs": [
    {
     "data": {
      "text/plain": [
       "<matplotlib.axes._subplots.AxesSubplot at 0xafaa080>"
      ]
     },
     "execution_count": 47,
     "metadata": {},
     "output_type": "execute_result"
    },
    {
     "data": {
      "image/png": "[encoded data removed]",
      "text/plain": [
       "<matplotlib.figure.Figure at 0xb009f98>"
      ]
     },
     "metadata": {},
     "output_type": "display_data"
    }
   ],
   "source": [
    "%matplotlib inline\n",
    "#df.loc[(talud,f,v0,h0),'hB'].plot()\n",
    "df.loc[(talud,f,v0,h0),'vB'].plot()\n",
    "df.loc[(talud,f,v0,h0),'hB'].mean()\n",
    "df.loc[(talud,f,v0,h0),'vB'].plot()"
   ]
  },
  {
   "cell_type": "code",
   "execution_count": 57,
   "metadata": {
    "collapsed": false,
    "deletable": true,
    "editable": true
   },
   "outputs": [],
   "source": [
    "# shear stress estimates assuming Sf includes only the levee slope\n",
    "η_m = df.loc[(talud,f,v0,h0),'hB'].mean()\n",
    "eq5_ = eq5(γ_w,η_m,θ_ls)\n",
    "s_eq5 = pd.Series(np.repeat(eq5_, len(n_ix)),n_ix)"
   ]
  },
  {
   "cell_type": "code",
   "execution_count": 58,
   "metadata": {
    "collapsed": false
   },
   "outputs": [
    {
     "data": {
      "text/plain": [
       "1025.18166"
      ]
     },
     "execution_count": 58,
     "metadata": {},
     "output_type": "execute_result"
    }
   ],
   "source": [
    "γ_w"
   ]
  },
  {
   "cell_type": "code",
   "execution_count": 50,
   "metadata": {
    "collapsed": false,
    "deletable": true,
    "editable": true
   },
   "outputs": [
    {
     "name": "stderr",
     "output_type": "stream",
     "text": [
      "c:\\python35\\lib\\site-packages\\ipykernel\\__main__.py:28: RuntimeWarning: invalid value encountered in double_scalars\n"
     ]
    },
    {
     "data": {
      "text/plain": [
       "1122.5777930638624"
      ]
     },
     "execution_count": 50,
     "metadata": {},
     "output_type": "execute_result"
    }
   ],
   "source": [
    "# shear stress estimates assuming Sf includes only the levee slope and water surface slope\n",
    "n_ix = []\n",
    "n_mu = []\n",
    "for idx in range(len(df.loc[(talud,f,v0,h0),'hB'])-1):\n",
    "    h1  = df.loc[(talud,f,v0,h0),'hB'].iloc[idx]\n",
    "    h2  = df.loc[(talud,f,v0,h0),'hB'].iloc[idx+1]\n",
    "    s1 = df.loc[(talud,f,v0,h0),'hB'][df.loc[(talud,f,v0,h0),'hB'] == h1].index[0]\n",
    "    s2 = df.loc[(talud,f,v0,h0),'hB'][df.loc[(talud,f,v0,h0),'hB'] == h2].index[0]\n",
    "    ds = s2-s1\n",
    "    \n",
    "    τ_0 = eq6(γ_w,h1,h2,θ_ls,ds)\n",
    "    \n",
    "    #print (s1,τ_0)\n",
    "    n_ix.append(s1)\n",
    "    n_mu.append(τ_0)\n",
    "s_eq6 = pd.Series(data=n_mu, index=n_ix)\n",
    "#s.interpolate(method='spline', order=3).plot()\n",
    "τ_0_mean = s_eq6.mean()\n",
    "τ_0_mean"
   ]
  },
  {
   "cell_type": "code",
   "execution_count": 51,
   "metadata": {
    "collapsed": false,
    "deletable": true,
    "editable": true
   },
   "outputs": [
    {
     "name": "stderr",
     "output_type": "stream",
     "text": [
      "c:\\python35\\lib\\site-packages\\ipykernel\\__main__.py:50: RuntimeWarning: invalid value encountered in double_scalars\n"
     ]
    },
    {
     "data": {
      "text/plain": [
       "1118.4727603832935"
      ]
     },
     "execution_count": 51,
     "metadata": {},
     "output_type": "execute_result"
    }
   ],
   "source": [
    "# shear stress estimates assuming unsteady, non-uniform flow\n",
    "n_ix = []\n",
    "n_mu = []\n",
    "for idx in range(len(df.loc[(talud,f,v0,h0),'hB'])-1):\n",
    "    h1  = df.loc[(talud,f,v0,h0),'hB'].iloc[idx]\n",
    "    h2  = df.loc[(talud,f,v0,h0),'hB'].iloc[idx+1]\n",
    "    v1  = df.loc[(talud,f,v0,h0),'vB'].iloc[idx]\n",
    "    v2  = df.loc[(talud,f,v0,h0),'vB'].iloc[idx+1]    \n",
    "    s1 = df.loc[(talud,f,v0,h0),'hB'][df.loc[(talud,f,v0,h0),'hB'] == h1].index[0]\n",
    "    s2 = df.loc[(talud,f,v0,h0),'hB'][df.loc[(talud,f,v0,h0),'hB'] == h2].index[0]\n",
    "    ds = s2-s1\n",
    "    \n",
    "    τ_0 = eq7(γ_w,h1,h2,θ_ls,ds,g,v1,v2,dt=0.072219812002892259)\n",
    "    \n",
    "    #print (s1,τ_0)\n",
    "    n_ix.append(s1)\n",
    "    n_mu.append(τ_0)\n",
    "s_eq7= pd.Series(data=n_mu, index=n_ix)\n",
    "#s.interpolate(method='spline', order=3).plot()\n",
    "τ_0_mean = s_eq7.mean()\n",
    "τ_0_mean"
   ]
  },
  {
   "cell_type": "code",
   "execution_count": 59,
   "metadata": {
    "collapsed": false
   },
   "outputs": [
    {
     "data": {
      "image/png": "[encoded data removed]",
      "text/plain": [
       "<matplotlib.figure.Figure at 0xb5a5a20>"
      ]
     },
     "metadata": {},
     "output_type": "display_data"
    }
   ],
   "source": [
    "import matplotlib.pyplot as plt\n",
    "\n",
    "fig = plt.figure(figsize=(13,4))\n",
    "ax1 = fig.add_subplot(131)    # The big subplot\n",
    "ax2 = fig.add_subplot(132)\n",
    "ax3 = fig.add_subplot(133)\n",
    "\n",
    "s_eq5.plot(ax=ax1, label='eq-5')\n",
    "s_eq6.interpolate(method='spline', order=3).plot(ax=ax1, label='eq-6')\n",
    "s_eq7.interpolate(method='spline', order=3).plot(ax=ax1, label='eq-7')\n",
    "ax1.set_xlim(0,15)\n",
    "ax1.legend()\n",
    "ax1.set_ylabel('bodemschuifspanning ($N/m^2$)')\n",
    "ax1.set_xlabel('locatie op landzijde (in $m$ vanaf kruin)')\n",
    "#ax1.grid(True)\n",
    "df.loc[(talud,f,v0,h0),'vB'].plot(ax=ax2)\n",
    "ax2.set_ylabel('stroomsnelheid ($m/s$)')\n",
    "ax2.set_xlabel('locatie op landzijde (in $m$ vanaf kruin)')\n",
    "#ax2.grid(True)\n",
    "df.loc[(talud,f,v0,h0),'hB'].plot(ax=ax3)\n",
    "ax3.set_ylabel('waterdiepte ($m$)')\n",
    "ax3.set_xlabel('locatie op landzijde (in $m$ vanaf kruin)')\n",
    "#ax3.grid(True)\n",
    "plt.suptitle('hydraulische meting met afvoer 3500 $l/m$', x=0.19, y=1.02)\n",
    "plt.tight_layout()\n",
    "plt.savefig(r'D:\\Projects\\Pr\\3517.10\\Werkfolder\\plots\\2017-08-22//USACE_tau_v_u_3500lm.PNG', dpi=90, bbox_inches='tight')"
   ]
  },
  {
   "cell_type": "code",
   "execution_count": 137,
   "metadata": {
    "collapsed": true,
    "deletable": true,
    "editable": true
   },
   "outputs": [],
   "source": [
    "offset = 2.7\n",
    "crestDistance_ws = 2.7 - offset\n",
    "crestDistance_hb = 2.7 - offset\n",
    "slopeDistance_hb = 5.00 - offset\n",
    "crestDistance_g = 2.55 - offset\n",
    "slopeDistance_g = 4.95 - offset #meter from start point\n",
    "toeDistanceR_ws = 9.15 - offset #meter from start point\n",
    "toeDistance_hb = 9.15 - offset\n",
    "toeDistanceR_g = 8.9 - offset\n",
    "toeDistanceL_ws = 9.20 - offset #meter from start point\n",
    "toeDistanceL_g = 9.10 - offset"
   ]
  },
  {
   "cell_type": "code",
   "execution_count": 138,
   "metadata": {
    "collapsed": true,
    "deletable": true,
    "editable": true
   },
   "outputs": [],
   "source": [
    "import matplotlib.pyplot as plt"
   ]
  },
  {
   "cell_type": "code",
   "execution_count": 139,
   "metadata": {
    "collapsed": false,
    "deletable": true,
    "editable": true
   },
   "outputs": [
    {
     "ename": "NameError",
     "evalue": "name 'peak_velocity_crestws_WIV_VI' is not defined",
     "output_type": "error",
     "traceback": [
      "\u001b[1;31m---------------------------------------------------------------------------\u001b[0m",
      "\u001b[1;31mNameError\u001b[0m                                 Traceback (most recent call last)",
      "\u001b[1;32m<ipython-input-139-25acbd2c33be>\u001b[0m in \u001b[0;36m<module>\u001b[1;34m()\u001b[0m\n\u001b[0;32m     14\u001b[0m \u001b[0maxes\u001b[0m\u001b[1;33m[\u001b[0m\u001b[1;36m0\u001b[0m\u001b[1;33m]\u001b[0m\u001b[1;33m.\u001b[0m\u001b[0mset_ylim\u001b[0m\u001b[1;33m(\u001b[0m\u001b[1;36m0\u001b[0m\u001b[1;33m,\u001b[0m\u001b[1;36m10\u001b[0m\u001b[1;33m)\u001b[0m\u001b[1;33m\u001b[0m\u001b[0m\n\u001b[0;32m     15\u001b[0m \u001b[0maxes\u001b[0m\u001b[1;33m[\u001b[0m\u001b[1;36m0\u001b[0m\u001b[1;33m]\u001b[0m\u001b[1;33m.\u001b[0m\u001b[0mgrid\u001b[0m\u001b[1;33m(\u001b[0m\u001b[1;32mTrue\u001b[0m\u001b[1;33m)\u001b[0m\u001b[1;33m\u001b[0m\u001b[0m\n\u001b[1;32m---> 16\u001b[1;33m \u001b[0maxes\u001b[0m\u001b[1;33m[\u001b[0m\u001b[1;36m0\u001b[0m\u001b[1;33m]\u001b[0m\u001b[1;33m.\u001b[0m\u001b[0mscatter\u001b[0m\u001b[1;33m(\u001b[0m\u001b[0mnp\u001b[0m\u001b[1;33m.\u001b[0m\u001b[0mrepeat\u001b[0m\u001b[1;33m(\u001b[0m\u001b[0mcrestDistance_ws\u001b[0m\u001b[1;33m,\u001b[0m \u001b[0mpeak_velocity_crestws_WIV_VI\u001b[0m\u001b[1;33m.\u001b[0m\u001b[0msize\u001b[0m\u001b[1;33m)\u001b[0m\u001b[1;33m,\u001b[0m\u001b[0mpeak_velocity_crestws_WIV_VI\u001b[0m\u001b[1;33m,\u001b[0m \u001b[0mmarker\u001b[0m\u001b[1;33m=\u001b[0m\u001b[1;34m's'\u001b[0m\u001b[1;33m,\u001b[0m \u001b[0mcolor\u001b[0m\u001b[1;33m=\u001b[0m\u001b[1;34m'purple'\u001b[0m\u001b[1;33m,\u001b[0m \u001b[0mlabel\u001b[0m\u001b[1;33m=\u001b[0m\u001b[1;34m'crest water surface'\u001b[0m\u001b[1;33m,\u001b[0m \u001b[0mzorder\u001b[0m\u001b[1;33m=\u001b[0m\u001b[1;36m20\u001b[0m\u001b[1;33m)\u001b[0m\u001b[1;33m\u001b[0m\u001b[0m\n\u001b[0m\u001b[0;32m     17\u001b[0m \u001b[0maxes\u001b[0m\u001b[1;33m[\u001b[0m\u001b[1;36m0\u001b[0m\u001b[1;33m]\u001b[0m\u001b[1;33m.\u001b[0m\u001b[0mscatter\u001b[0m\u001b[1;33m(\u001b[0m\u001b[0mnp\u001b[0m\u001b[1;33m.\u001b[0m\u001b[0mrepeat\u001b[0m\u001b[1;33m(\u001b[0m\u001b[0mcrestDistance_g\u001b[0m\u001b[1;33m,\u001b[0m \u001b[0mpeak_velocity_crestg_WIV_VI\u001b[0m\u001b[1;33m.\u001b[0m\u001b[0msize\u001b[0m\u001b[1;33m)\u001b[0m\u001b[1;33m,\u001b[0m\u001b[0mpeak_velocity_crestg_WIV_VI\u001b[0m\u001b[1;33m,\u001b[0m \u001b[0mmarker\u001b[0m\u001b[1;33m=\u001b[0m\u001b[1;34m'^'\u001b[0m\u001b[1;33m,\u001b[0m \u001b[0mfacecolors\u001b[0m\u001b[1;33m=\u001b[0m\u001b[1;34m'None'\u001b[0m\u001b[1;33m,\u001b[0m\u001b[0medgecolors\u001b[0m\u001b[1;33m=\u001b[0m\u001b[1;34m'purple'\u001b[0m\u001b[1;33m,\u001b[0m \u001b[0mlabel\u001b[0m\u001b[1;33m=\u001b[0m\u001b[1;34m'crest ground'\u001b[0m\u001b[1;33m,\u001b[0m \u001b[0mzorder\u001b[0m\u001b[1;33m=\u001b[0m\u001b[1;36m20\u001b[0m\u001b[1;33m)\u001b[0m\u001b[1;33m\u001b[0m\u001b[0m\n\u001b[0;32m     18\u001b[0m \u001b[0maxes\u001b[0m\u001b[1;33m[\u001b[0m\u001b[1;36m0\u001b[0m\u001b[1;33m]\u001b[0m\u001b[1;33m.\u001b[0m\u001b[0mscatter\u001b[0m\u001b[1;33m(\u001b[0m\u001b[0mnp\u001b[0m\u001b[1;33m.\u001b[0m\u001b[0mrepeat\u001b[0m\u001b[1;33m(\u001b[0m\u001b[0mslopeDistance_g\u001b[0m\u001b[1;33m,\u001b[0m \u001b[0mpeak_velocity_slopeg_WIV_VI\u001b[0m\u001b[1;33m.\u001b[0m\u001b[0msize\u001b[0m\u001b[1;33m)\u001b[0m\u001b[1;33m,\u001b[0m\u001b[0mpeak_velocity_slopeg_WIV_VI\u001b[0m\u001b[1;33m,\u001b[0m \u001b[0mmarker\u001b[0m\u001b[1;33m=\u001b[0m\u001b[1;34m'^'\u001b[0m\u001b[1;33m,\u001b[0m \u001b[0mfacecolors\u001b[0m\u001b[1;33m=\u001b[0m\u001b[1;34m'None'\u001b[0m\u001b[1;33m,\u001b[0m\u001b[0medgecolors\u001b[0m\u001b[1;33m=\u001b[0m\u001b[1;34m'magenta'\u001b[0m\u001b[1;33m,\u001b[0m \u001b[0mlabel\u001b[0m\u001b[1;33m=\u001b[0m\u001b[1;34m'slope ground'\u001b[0m\u001b[1;33m,\u001b[0m \u001b[0mzorder\u001b[0m\u001b[1;33m=\u001b[0m\u001b[1;36m20\u001b[0m\u001b[1;33m)\u001b[0m\u001b[1;33m\u001b[0m\u001b[0m\n",
      "\u001b[1;31mNameError\u001b[0m: name 'peak_velocity_crestws_WIV_VI' is not defined"
     ]
    },
    {
     "data": {
      "image/png": "[encoded data removed]",
      "text/plain": [
       "<matplotlib.figure.Figure at 0xbaa8438>"
      ]
     },
     "metadata": {},
     "output_type": "display_data"
    }
   ],
   "source": [
    "# FIGURE 15\n",
    "talud = 1.8\n",
    "f = 0.02\n",
    "#v0 = v0\n",
    "#h0 = h0\n",
    "\n",
    "fig, axes = plt.subplots(nrows=1, ncols=2, figsize=(12,3))\n",
    "\n",
    "df.loc[(talud,f,v0,h0),'vB'].plot(ax=axes[0], color='k') # talud, f, v0, h0\n",
    "#df.loc[(talud,f,v0,h0),'vB'].plot(ax=axes[0]) # talud, f, v0, h0\n",
    "axes[0].set_ylabel('overtopping velocity vB (m/s)')\n",
    "axes[0].set_xlabel('landward slope sB (m)')\n",
    "axes[0].set_xlim(-0.5,15)\n",
    "axes[0].set_ylim(0,10)\n",
    "axes[0].grid(True)\n",
    "axes[0].scatter(np.repeat(crestDistance_ws, peak_velocity_crestws_WIV_VI.size),peak_velocity_crestws_WIV_VI, marker='s', color='purple', label='crest water surface', zorder=20)\n",
    "axes[0].scatter(np.repeat(crestDistance_g, peak_velocity_crestg_WIV_VI.size),peak_velocity_crestg_WIV_VI, marker='^', facecolors='None',edgecolors='purple', label='crest ground', zorder=20)\n",
    "axes[0].scatter(np.repeat(slopeDistance_g, peak_velocity_slopeg_WIV_VI.size),peak_velocity_slopeg_WIV_VI, marker='^', facecolors='None',edgecolors='magenta', label='slope ground', zorder=20)\n",
    "axes[0].scatter(np.repeat(toeDistanceR_ws, peak_velocity_toeRws_WIV_VI.size),peak_velocity_toeRws_WIV_VI, marker='s', color='brown', label='toe R water surface', zorder=20)\n",
    "axes[0].scatter(np.repeat(toeDistanceR_g, peak_velocity_toeRg_WIV_VI.size),peak_velocity_toeRg_WIV_VI, marker='^', facecolors='None',edgecolors='brown', label='toe R ground', zorder=20)\n",
    "\n",
    "vLi = mlines.Line2D([],[],color='k',label='Predicted velocity')\n",
    "vG = mlines.Line2D([],[],markerfacecolor='None', markeredgecolor='k', lw=0,marker='^',label='Measured velocity at ground')\n",
    "vWS = mlines.Line2D([],[],color='k', lw=0,marker='s',label='Measured velocity at water surface')\n",
    "leg = axes[0].legend(handles=[vLi,vG, vWS],frameon=True, loc=4,)\n",
    "leg.get_frame().set_linewidth(0.4)\n",
    "#leg.get_frame().set_edgecolor('k')\n",
    "leg.get_frame().set_alpha(1.0)\n",
    "#axes[0].legend([\"h0=0.02m\", \"h0=0.05m\",\"h0=0.10m\",\"h0=0.50m\"]);\n",
    "#plt.show()\n",
    "\n",
    "df.loc[(talud,f,v0,h0),'hB'].plot(ax=axes[1], color='k')\n",
    "#df.loc[(talud,f,v0,0.05),'hB'].plot(ax=axes[1]) # talud, f, v0, h0\n",
    "axes[1].set_ylabel('layer thickness hB (m)')\n",
    "axes[1].set_xlabel('landward slope sB (m)')\n",
    "axes[1].set_xlim(-0.5,15)\n",
    "axes[1].set_ylim(0,0.4)\n",
    "axes[1].grid(True)\n",
    "axes[1].scatter(np.repeat(crestDistance_hb, peak_thickness_crest_WIV_VI.size),peak_thickness_crest_WIV_VI, marker='*', color='blue', label='crest height', zorder=20)\n",
    "axes[1].scatter(np.repeat(slopeDistance_hb, peak_thickness_slope_WIV_VI.size),peak_thickness_slope_WIV_VI, marker='*', color='blue', label='slope height', zorder=20)\n",
    "axes[1].scatter(np.repeat(toeDistance_hb  , peak_thickness_toe_WIV_VI.size  ),peak_thickness_toe_WIV_VI,   marker='*', color='blue', label='toe height',   zorder=20)\n",
    "vLi = mlines.Line2D([],[],color='k',label='Predicted layer thickness')\n",
    "vL = mlines.Line2D([],[],markerfacecolor='blue', markeredgecolor='blue', lw=0,marker='*',label='Measured layer thickness')\n",
    "leg = axes[1].legend(handles=[vLi, vL],frameon=True, loc=1,)\n",
    "leg.get_frame().set_linewidth(0.4)\n",
    "leg.get_frame().set_alpha(1.0)\n",
    "\n",
    "fig.suptitle('q=1000l/m  talud=1:'+str(talud)+'  f='+str(f)+'  v0='+str(v0)+'m/s (water surface) h0='+str(h0)+'m', y=1.03, x=0.5)\n",
    "#plt.show()\n",
    "fig.tight_layout()\n",
    "#fig.savefig(r'D:\\Projects\\Pr\\3517.10\\Werkfolder\\plots\\2017-07-07//vsMetingen_q-1000lt-'+str(talud)+'_f-'+str(f)+'_v0_ws-'+str(v0)+'_h0-'+str(h0)+'.png', dpi=300, bbox_inches='tight' )"
   ]
  },
  {
   "cell_type": "code",
   "execution_count": null,
   "metadata": {
    "collapsed": true,
    "deletable": true,
    "editable": true
   },
   "outputs": [],
   "source": []
  },
  {
   "cell_type": "code",
   "execution_count": null,
   "metadata": {
    "collapsed": true,
    "deletable": true,
    "editable": true
   },
   "outputs": [],
   "source": []
  },
  {
   "cell_type": "code",
   "execution_count": 52,
   "metadata": {
    "collapsed": false,
    "deletable": true,
    "editable": true
   },
   "outputs": [
    {
     "data": {
      "text/plain": [
       "<matplotlib.axes._subplots.AxesSubplot at 0xb934c50>"
      ]
     },
     "execution_count": 52,
     "metadata": {},
     "output_type": "execute_result"
    },
    {
     "data": {
      "image/png": "[encoded data removed]",
      "text/plain": [
       "<matplotlib.figure.Figure at 0xb213828>"
      ]
     },
     "metadata": {},
     "output_type": "display_data"
    }
   ],
   "source": [
    "s_eq6.interpolate(method='spline', order=3).plot()\n",
    "#s_eq6.plot(interpolate(method='spline', order=3).plot()\n",
    "#s_eq7.interpolate(method='spline', order=3).plot()"
   ]
  },
  {
   "cell_type": "code",
   "execution_count": 53,
   "metadata": {
    "collapsed": false,
    "deletable": true,
    "editable": true
   },
   "outputs": [
    {
     "data": {
      "text/plain": [
       "<matplotlib.axes._subplots.AxesSubplot at 0xb213b00>"
      ]
     },
     "execution_count": 53,
     "metadata": {},
     "output_type": "execute_result"
    },
    {
     "data": {
      "image/png": "[encoded data removed]",
      "text/plain": [
       "<matplotlib.figure.Figure at 0xafc3780>"
      ]
     },
     "metadata": {},
     "output_type": "display_data"
    }
   ],
   "source": [
    "df.loc[(talud,f,v0,h0),'hB'].plot()"
   ]
  },
  {
   "cell_type": "code",
   "execution_count": 54,
   "metadata": {
    "collapsed": false,
    "deletable": true,
    "editable": true
   },
   "outputs": [
    {
     "data": {
      "text/plain": [
       "<matplotlib.axes._subplots.AxesSubplot at 0xb1afbe0>"
      ]
     },
     "execution_count": 54,
     "metadata": {},
     "output_type": "execute_result"
    },
    {
     "data": {
      "image/png": "[encoded data removed]",
      "text/plain": [
       "<matplotlib.figure.Figure at 0xb25a278>"
      ]
     },
     "metadata": {},
     "output_type": "display_data"
    }
   ],
   "source": [
    "df.loc[(talud,f,v0,h0),'vB'].plot()"
   ]
  },
  {
   "cell_type": "code",
   "execution_count": null,
   "metadata": {
    "collapsed": true,
    "deletable": true,
    "editable": true
   },
   "outputs": [],
   "source": []
  }
 ],
 "metadata": {
  "kernelspec": {
   "display_name": "Python 3",
   "language": "python",
   "name": "python3"
  },
  "language_info": {
   "codemirror_mode": {
    "name": "ipython",
    "version": 3
   },
   "file_extension": ".py",
   "mimetype": "text/x-python",
   "name": "python",
   "nbconvert_exporter": "python",
   "pygments_lexer": "ipython3",
   "version": "3.5.2"
  }
 },
 "nbformat": 4,
 "nbformat_minor": 2
}
