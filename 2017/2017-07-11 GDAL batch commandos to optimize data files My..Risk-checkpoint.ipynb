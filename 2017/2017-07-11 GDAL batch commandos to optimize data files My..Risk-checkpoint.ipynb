{
 "cells": [
  {
   "cell_type": "code",
   "execution_count": 1,
   "metadata": {
    "collapsed": true
   },
   "outputs": [],
   "source": [
    "import sys, getopt, shutil\n",
    "import subprocess as sp\n",
    "import os\n",
    "from osgeo import gdal\n",
    "import glob"
   ]
  },
  {
   "cell_type": "code",
   "execution_count": 2,
   "metadata": {
    "collapsed": true
   },
   "outputs": [],
   "source": [
    "# cmd function, input is a comma separated list of items\n",
    "def cmd(command):\n",
    "    print (sp.list2cmdline(command))\n",
    "    norm = sp.Popen(sp.list2cmdline(command),stdout=sp.PIPE, shell=True)\n",
    "    norm.communicate()\n",
    "    print ('done')"
   ]
  },
  {
   "cell_type": "code",
   "execution_count": 3,
   "metadata": {
    "collapsed": true
   },
   "outputs": [],
   "source": [
    "gdalwarp = r'C:\\Python35\\Lib\\site-packages\\osgeo//gdalwarp.exe'\n",
    "gdal_translate = r'C:\\Python35\\Lib\\site-packages\\osgeo//gdal_translate.exe'\n",
    "gdaladdo = r'C:\\Python35\\Lib\\site-packages\\osgeo//gdaladdo.exe'\n",
    "gdal_edit = r'C:\\Python35\\Lib\\site-packages\\osgeo\\scripts//gdal_edit.py'\n",
    "python = r'C:\\Python35//python.exe'"
   ]
  },
  {
   "cell_type": "code",
   "execution_count": null,
   "metadata": {
    "collapsed": true
   },
   "outputs": [],
   "source": []
  },
  {
   "cell_type": "code",
   "execution_count": null,
   "metadata": {
    "collapsed": true
   },
   "outputs": [],
   "source": [
    "# single file mode [batch mode is below]"
   ]
  },
  {
   "cell_type": "code",
   "execution_count": null,
   "metadata": {
    "collapsed": true
   },
   "outputs": [],
   "source": [
    "baseFolder = r'D:\\Projects\\Pr\\3282.10.0x\\Dataset files (4.9 GB)\\data'\n",
    "file = 'River_flood_depth_1971_2000_hist_0030y.tif'\n",
    "\n",
    "baseFile = os.path.join(baseFolder, file)\n",
    "tmpFile = os.path.join(baseFolder,'tmp',file+'.vrt')\n",
    "optimizedFile = os.path.join(baseFolder, 'optimized',file)"
   ]
  },
  {
   "cell_type": "code",
   "execution_count": null,
   "metadata": {},
   "outputs": [],
   "source": [
    "# convert ETRS89 to WGS84 projection\n",
    "cmd([gdalwarp,'-s_srs','EPSG:3035','-t_srs','EPSG:4326','-of','vrt', baseFile,tmpFile])"
   ]
  },
  {
   "cell_type": "code",
   "execution_count": null,
   "metadata": {},
   "outputs": [],
   "source": [
    "# compress using LZW algorithm including tiles\n",
    "cmd([gdal_translate, '-co', 'COMPRESS=LZW','-co','TILED=YES','-a_nodata', 'none', tmpFile, optimizedFile])"
   ]
  },
  {
   "cell_type": "code",
   "execution_count": null,
   "metadata": {},
   "outputs": [],
   "source": [
    "# create overviews on different zoom levels\n",
    "cmd([gdaladdo, '--config','COMPRESS_OVERVIEW','LZW','-r','average', optimizedFile,'2','4','8','16'])"
   ]
  },
  {
   "cell_type": "code",
   "execution_count": null,
   "metadata": {},
   "outputs": [],
   "source": [
    "# set no data value using gedal_edit\n",
    "raster = gdal.Open(tmpFile)\n",
    "band = raster.GetRasterBand(1)\n",
    "nan = band.GetNoDataValue()\n",
    "cmd([python, gdal_edit, '-a_nodata', str(nan), '-stats', optimizedFile])"
   ]
  },
  {
   "cell_type": "code",
   "execution_count": null,
   "metadata": {},
   "outputs": [],
   "source": [
    "# remove tmp file\n",
    "raster = None\n",
    "os.remove(tmpFile) "
   ]
  },
  {
   "cell_type": "code",
   "execution_count": null,
   "metadata": {
    "collapsed": true
   },
   "outputs": [],
   "source": []
  },
  {
   "cell_type": "code",
   "execution_count": 4,
   "metadata": {
    "collapsed": true
   },
   "outputs": [],
   "source": [
    "# batch file mode"
   ]
  },
  {
   "cell_type": "code",
   "execution_count": 8,
   "metadata": {},
   "outputs": [],
   "source": [
    "# or in function format\n",
    "def doWork(baseFolder, file):\n",
    "    \"\"\"\n",
    "    provide baseFolder and file for Risk hazard datasets\n",
    "    \"\"\"\n",
    "    baseFile = os.path.join(baseFolder, file)\n",
    "    tmpFile = os.path.join(baseFolder,'tmp',file+'.vrt')\n",
    "    optimizedFile = os.path.join(baseFolder, 'optimized',file)\n",
    "    \n",
    "    # convert ETRS89 to WGS84 projection\n",
    "    cmd([gdalwarp,'-s_srs','EPSG:3035','-t_srs','EPSG:4326','-of','vrt', baseFile,tmpFile])    \n",
    "    \n",
    "    # compress using LZW algorithm including tiles\n",
    "    cmd([gdal_translate, '-co', 'COMPRESS=LZW','-co','TILED=YES','-a_nodata', 'none', tmpFile, optimizedFile])\n",
    "    \n",
    "    # create overviews on different zoom levels\n",
    "    cmd([gdaladdo, '--config','COMPRESS_OVERVIEW','LZW','-r','average', optimizedFile,'2','4','8','16'])\n",
    "    \n",
    "#     # set no data value using gedal_edit\n",
    "#     raster = gdal.Open(tmpFile)\n",
    "#     band = raster.GetRasterBand(1)\n",
    "#     nan = band.GetNoDataValue()\n",
    "#     cmd([python, gdal_edit, '-a_nodata', str(nan), '-stats', optimizedFile])    \n",
    "    \n",
    "    # remove tmp file\n",
    "    raster = None\n",
    "    os.remove(tmpFile)\n",
    "    print('done')"
   ]
  },
  {
   "cell_type": "code",
   "execution_count": 9,
   "metadata": {},
   "outputs": [
    {
     "name": "stdout",
     "output_type": "stream",
     "text": [
      "River_flood_depth_1971_2000_hist_0100y.tif\n",
      "C:\\Python35\\Lib\\site-packages\\osgeo//gdalwarp.exe -s_srs EPSG:3035 -t_srs EPSG:4326 -of vrt \"D:\\Projects\\Pr\\3282.10.0x\\Dataset files (4.9 GB)\\data\\River_flood_depth_1971_2000_hist_0100y.tif\" \"D:\\Projects\\Pr\\3282.10.0x\\Dataset files (4.9 GB)\\data\\tmp\\River_flood_depth_1971_2000_hist_0100y.tif.vrt\"\n",
      "done\n",
      "C:\\Python35\\Lib\\site-packages\\osgeo//gdal_translate.exe -co COMPRESS=LZW -co TILED=YES -a_nodata none \"D:\\Projects\\Pr\\3282.10.0x\\Dataset files (4.9 GB)\\data\\tmp\\River_flood_depth_1971_2000_hist_0100y.tif.vrt\" \"D:\\Projects\\Pr\\3282.10.0x\\Dataset files (4.9 GB)\\data\\optimized\\River_flood_depth_1971_2000_hist_0100y.tif\"\n",
      "done\n",
      "C:\\Python35\\Lib\\site-packages\\osgeo//gdaladdo.exe --config COMPRESS_OVERVIEW LZW -r average \"D:\\Projects\\Pr\\3282.10.0x\\Dataset files (4.9 GB)\\data\\optimized\\River_flood_depth_1971_2000_hist_0100y.tif\" 2 4 8 16\n",
      "done\n",
      "done\n",
      "River_flood_depth_1971_2000_hist_0300y.tif\n",
      "C:\\Python35\\Lib\\site-packages\\osgeo//gdalwarp.exe -s_srs EPSG:3035 -t_srs EPSG:4326 -of vrt \"D:\\Projects\\Pr\\3282.10.0x\\Dataset files (4.9 GB)\\data\\River_flood_depth_1971_2000_hist_0300y.tif\" \"D:\\Projects\\Pr\\3282.10.0x\\Dataset files (4.9 GB)\\data\\tmp\\River_flood_depth_1971_2000_hist_0300y.tif.vrt\"\n",
      "done\n",
      "C:\\Python35\\Lib\\site-packages\\osgeo//gdal_translate.exe -co COMPRESS=LZW -co TILED=YES -a_nodata none \"D:\\Projects\\Pr\\3282.10.0x\\Dataset files (4.9 GB)\\data\\tmp\\River_flood_depth_1971_2000_hist_0300y.tif.vrt\" \"D:\\Projects\\Pr\\3282.10.0x\\Dataset files (4.9 GB)\\data\\optimized\\River_flood_depth_1971_2000_hist_0300y.tif\"\n",
      "done\n",
      "C:\\Python35\\Lib\\site-packages\\osgeo//gdaladdo.exe --config COMPRESS_OVERVIEW LZW -r average \"D:\\Projects\\Pr\\3282.10.0x\\Dataset files (4.9 GB)\\data\\optimized\\River_flood_depth_1971_2000_hist_0300y.tif\" 2 4 8 16\n",
      "done\n",
      "done\n",
      "River_flood_depth_1971_2000_hist_1000y.tif\n",
      "C:\\Python35\\Lib\\site-packages\\osgeo//gdalwarp.exe -s_srs EPSG:3035 -t_srs EPSG:4326 -of vrt \"D:\\Projects\\Pr\\3282.10.0x\\Dataset files (4.9 GB)\\data\\River_flood_depth_1971_2000_hist_1000y.tif\" \"D:\\Projects\\Pr\\3282.10.0x\\Dataset files (4.9 GB)\\data\\tmp\\River_flood_depth_1971_2000_hist_1000y.tif.vrt\"\n",
      "done\n",
      "C:\\Python35\\Lib\\site-packages\\osgeo//gdal_translate.exe -co COMPRESS=LZW -co TILED=YES -a_nodata none \"D:\\Projects\\Pr\\3282.10.0x\\Dataset files (4.9 GB)\\data\\tmp\\River_flood_depth_1971_2000_hist_1000y.tif.vrt\" \"D:\\Projects\\Pr\\3282.10.0x\\Dataset files (4.9 GB)\\data\\optimized\\River_flood_depth_1971_2000_hist_1000y.tif\"\n",
      "done\n",
      "C:\\Python35\\Lib\\site-packages\\osgeo//gdaladdo.exe --config COMPRESS_OVERVIEW LZW -r average \"D:\\Projects\\Pr\\3282.10.0x\\Dataset files (4.9 GB)\\data\\optimized\\River_flood_depth_1971_2000_hist_1000y.tif\" 2 4 8 16\n",
      "done\n",
      "done\n"
     ]
    }
   ],
   "source": [
    "baseFolder = r'D:\\Projects\\Pr\\3282.10.0x\\Dataset files (4.9 GB)\\data'\n",
    "files = ['River_flood_depth_1971_2000_hist_0100y.tif',\n",
    "         'River_flood_depth_1971_2000_hist_0300y.tif',\n",
    "         'River_flood_depth_1971_2000_hist_1000y.tif']\n",
    "\n",
    "# for file in glob.glob(baseFolder+'/River_flood_depth_1971_2000*.tif'):\n",
    "#     print (file)\n",
    "\n",
    "for file in files:\n",
    "    print (file)\n",
    "    doWork(baseFolder=baseFolder, file=file)"
   ]
  },
  {
   "cell_type": "code",
   "execution_count": null,
   "metadata": {},
   "outputs": [],
   "source": []
  },
  {
   "cell_type": "code",
   "execution_count": null,
   "metadata": {
    "collapsed": true
   },
   "outputs": [],
   "source": []
  }
 ],
 "metadata": {
  "kernelspec": {
   "display_name": "Python 3",
   "language": "python",
   "name": "python3"
  },
  "language_info": {
   "codemirror_mode": {
    "name": "ipython",
    "version": 3
   },
   "file_extension": ".py",
   "mimetype": "text/x-python",
   "name": "python",
   "nbconvert_exporter": "python",
   "pygments_lexer": "ipython3",
   "version": "3.5.2"
  }
 },
 "nbformat": 4,
 "nbformat_minor": 2
}
