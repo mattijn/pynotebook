{
 "cells": [
  {
   "cell_type": "code",
   "execution_count": 1,
   "metadata": {
    "collapsed": true,
    "deletable": true,
    "editable": true
   },
   "outputs": [],
   "source": [
    "import pandas as pd\n",
    "#import geopandas as gpd\n",
    "import numpy as np\n",
    "from sklearn.manifold import TSNE\n",
    "%matplotlib inline"
   ]
  },
  {
   "cell_type": "code",
   "execution_count": 2,
   "metadata": {
    "collapsed": true,
    "deletable": true,
    "editable": true
   },
   "outputs": [],
   "source": [
    "file_shp = r'D:\\Projects\\RO\\Jong HKV\\Toeleveringen\\DominikPaprotny\\ExtremeDischargesEUCatchments\\Stations_total_v3.shp'\n",
    "file_csv = r'D:\\Projects\\RO\\Jong HKV\\Toeleveringen\\DominikPaprotny\\ExtremeDischargesEUCatchments\\BN_data_full.csv'"
   ]
  },
  {
   "cell_type": "code",
   "execution_count": 3,
   "metadata": {
    "collapsed": false,
    "deletable": true,
    "editable": true
   },
   "outputs": [],
   "source": [
    "# read and parse data\n",
    "df = pd.read_csv(file_csv,sep=';', decimal=',')\n",
    "df.replace(np.inf, 0, inplace=True)\n",
    "df.replace(np.nan, 0, inplace=True)\n",
    "\n",
    "# exclude some columns\n",
    "df = df[df.columns.difference(['OBJECTID', 'Station_ID','WSO1_ID','Catchment_ID','Indicator_of_daily_discharge_availability'])]\n",
    "df = df.astype(np.float32)"
   ]
  },
  {
   "cell_type": "code",
   "execution_count": 4,
   "metadata": {
    "collapsed": false,
    "deletable": true,
    "editable": true
   },
   "outputs": [],
   "source": [
    "# standardize matrix\n",
    "X = df.as_matrix()\n",
    "_mu = np.nanmean(X, axis=0)\n",
    "_sigma = np.sqrt(np.nanmean((X - _mu) ** 2.0, axis=0))\n",
    "X = (X - _mu) / _sigma"
   ]
  },
  {
   "cell_type": "code",
   "execution_count": 5,
   "metadata": {
    "collapsed": false,
    "deletable": true,
    "editable": true
   },
   "outputs": [],
   "source": [
    "# go back to pandas dataframe and drop NaN columns\n",
    "df = pd.DataFrame(data=X, columns=df.columns)\n",
    "df.dropna(axis=1, how='all', inplace=True)\n",
    "X = df.as_matrix()"
   ]
  },
  {
   "cell_type": "code",
   "execution_count": null,
   "metadata": {
    "collapsed": false,
    "deletable": true,
    "editable": true
   },
   "outputs": [],
   "source": [
    "model = TSNE()#perplexity=30, n_components=2, init='pca', n_iter=1000, method='barnes_hut')\n",
    "embedding_array= model.fit_transform(X)"
   ]
  },
  {
   "cell_type": "code",
   "execution_count": null,
   "metadata": {
    "collapsed": true,
    "deletable": true,
    "editable": true
   },
   "outputs": [],
   "source": [
    "# # depends on os.fork() and therefore not windows compatible\n",
    "# import bhtsne\n",
    "# embedding_array = bhtsne.run_bh_tsne(data, initial_dims=data.shape[1])"
   ]
  },
  {
   "cell_type": "code",
   "execution_count": null,
   "metadata": {
    "collapsed": true,
    "deletable": true,
    "editable": true
   },
   "outputs": [],
   "source": []
  }
 ],
 "metadata": {
  "kernelspec": {
   "display_name": "Python 3",
   "language": "python",
   "name": "python3"
  },
  "language_info": {
   "codemirror_mode": {
    "name": "ipython",
    "version": 3
   },
   "file_extension": ".py",
   "mimetype": "text/x-python",
   "name": "python",
   "nbconvert_exporter": "python",
   "pygments_lexer": "ipython3",
   "version": "3.5.2"
  }
 },
 "nbformat": 4,
 "nbformat_minor": 2
}
