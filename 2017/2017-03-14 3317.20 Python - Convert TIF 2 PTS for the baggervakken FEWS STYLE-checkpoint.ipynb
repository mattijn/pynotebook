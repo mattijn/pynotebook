{
 "cells": [
  {
   "cell_type": "code",
   "execution_count": null,
   "metadata": {
    "collapsed": true,
    "deletable": true,
    "editable": true
   },
   "outputs": [],
   "source": [
    "\"\"\"\n",
    "Created on Tue Mar 14 13:20:15 2017\n",
    "\n",
    "@author: Mattijn van Hoek, HKV Lijn in water\n",
    "\"\"\""
   ]
  },
  {
   "cell_type": "code",
   "execution_count": null,
   "metadata": {
    "collapsed": false,
    "deletable": true,
    "editable": true
   },
   "outputs": [],
   "source": [
    "from osgeo import gdal\n",
    "import geopandas as gpd\n",
    "import os\n",
    "import subprocess as sp\n",
    "from fewslogger import Logger\n",
    "import sys, getopt, shutil\n",
    "import argparse"
   ]
  },
  {
   "cell_type": "code",
   "execution_count": null,
   "metadata": {
    "collapsed": true
   },
   "outputs": [],
   "source": [
    "#Functions \n",
    "#======================================================================================="
   ]
  },
  {
   "cell_type": "code",
   "execution_count": null,
   "metadata": {
    "collapsed": true,
    "deletable": true,
    "editable": true
   },
   "outputs": [],
   "source": [
    "# cmd function, input is a comma separated list of items\n",
    "def cmd(command):\n",
    "    print (sp.list2cmdline(command))\n",
    "    norm = sp.Popen(sp.list2cmdline(command),stdout=sp.PIPE, shell=True)\n",
    "    norm.communicate()"
   ]
  },
  {
   "cell_type": "code",
   "execution_count": null,
   "metadata": {
    "collapsed": false,
    "deletable": true,
    "editable": true
   },
   "outputs": [],
   "source": [
    "def tif2pts(a,y,z):\n",
    "    \"\"\"\n",
    "    input:\n",
    "    z is SHP file containing features to clip\n",
    "    a is TIF file to read as input raster\n",
    "    y is folder to store the XYZ output files\n",
    "    \n",
    "    output:\n",
    "    -\n",
    "    \"\"\"\n",
    "    \n",
    "    # read the baggervakken shapefile into a geodataframe\n",
    "    gdf = gpd.read_file(z)\n",
    "\n",
    "    # iterate over each feature in the geodataframe and apply cut procedure\n",
    "    for idx in range(len(gdf)):\n",
    "        print (idx)\n",
    "        feature = gdf.ix[idx]\n",
    "        obID   = feature['OBJECTCODE']\n",
    "        obNAME = feature['OBJECTNAAM']\n",
    "        obID_obName = obID+' '+obNAME\n",
    "        obID_obName = re.sub('[^a-zA-Z0-9 \\n\\.]', '', obID_obName)\n",
    "        \n",
    "        # crop original tif of waddenzee to cutline of each feature and store as VRT file\n",
    "        b = os.path.join(y, obID_obName+'.vrt')\n",
    "        print(b)\n",
    "        # 8 Only keep the ArcInfoASCIIs that contains data\n",
    "        command = gdalwarp+' -overwrite -of VRT -crop_to_cutline -cutline '+z+' -cwhere '+'\"'+'OBJECTNAAM='+\"'\"+obNAME+\"'\"'\" '+a+' \"'+b+'\"'\n",
    "        norm = sp.Popen(command, stdout=sp.PIPE, shell=True).communicate()    \n",
    "\n",
    "        # use the VRT file to convert to XYZ file\n",
    "        c = os.path.join(y, obID_obName+'.xyz')\n",
    "        cmd([gdal_translate, '-of', 'XYZ', b, c])\n",
    "\n",
    "        # remove all NaN values from the XYZ file\n",
    "        d = os.path.join(y, obID_obName+'.tmp')\n",
    "        command = grep+' -v \" -999\" '+'\"'+c+'\" > \"'+d+'\"'+' && move '+'\"'+d+'\" '+'\"'+c+'\"'\n",
    "        print (command)\n",
    "        norm = sp.Popen(command, stdout=sp.PIPE, shell=True).communicate()\n",
    "\n",
    "        # remove the VRT file and continue to next feature\n",
    "        os.remove(b)\n",
    "    return (print('function was succesfull'))"
   ]
  },
  {
   "cell_type": "code",
   "execution_count": 1,
   "metadata": {
    "collapsed": true
   },
   "outputs": [],
   "source": [
    "#=======================================================================================\n",
    "# MAIN PROGRAM  \n",
    "def main(argv):\n",
    "    # input argument checking\n",
    "    try:\n",
    "        opts, args = getopt.getopt(argv,\"hzya:\",[\"zpath=\",\"ypath=\",\"apath\"])        \n",
    "    except getopt.GetoptError:\n",
    "        print ('usage: netcdf2tif2geoserver.py -z <shp_file> -y <xyz_file> -a <tif_file>')\n",
    "        sys.exit(2)\n",
    "    for opt, arg in opts:\n",
    "        if opt == '-h':\n",
    "            print ('netcdf2tif2geoserver.py -b <basedir>')\n",
    "            sys.exit()\n",
    "        elif opt in (\"-z\", \"--shp_file\"):\n",
    "            z = arg\n",
    "        elif opt in (\"-y\", \"--xyz_folder\"):\n",
    "            y = arg            \n",
    "        elif opt in (\"-a\", \"--tif_file\"):\n",
    "            a = arg                        \n",
    "\n",
    "    diagnosticsfile = \"diagnostics.xml\"\n",
    "    log = Logger(diagnosticsfile)\n",
    "    log.write(3,\"This is tif2xyz.py: doe iets slims; M. van Hoek, HKV Lijn in water\")\n",
    "    log.write(4,\"Basedir: %s\" % baseDir)        \n",
    "       \n",
    "    try:\n",
    "        # DOE IETS SLIMS VANAF HIER\n",
    "        # set some fixed paths to executables to use\n",
    "        gdalwarp = r'C:\\Python35\\Lib\\site-packages\\osgeo//gdalwarp.exe'\n",
    "        gdal_translate = r'C:\\Python35\\Lib\\site-packages\\osgeo//gdal_translate.exe'\n",
    "        grep = r'\"C:\\Program Files (x86)\\GnuWin32\\bin//grep.exe\"'      \n",
    "\n",
    "#         z = r'D:\\OmsWaddenzee\\trunk\\fews\\Config\\MapLayerFiles\\Baggervakken\\Baggervakken.shp'\n",
    "#         y = r'D:\\Projects\\Pr\\3317.20\\TIF2PTS\\pts'\n",
    "#         a = r'D:\\Projects\\Pr\\3317.20\\TIF2PTS\\actuele_bodemhoogte.tif'\n",
    "        \n",
    "        # apply the function to get XYZ files from TIF files\n",
    "        tif2pts(a,y,z)        \n",
    "        log.write(3,\"succeeded to do sth.. yeah\")\n",
    "        \n",
    "    except Exception as e:\n",
    "        print(e)\n",
    "        log.write(3,\"not succeeded to do sth.. solly\")        \n",
    "        \n",
    "        # TOT HIER\n",
    "    log.write(3,\"Dat was het, FEWS take over please\")\n",
    "    log.close()        \n"
   ]
  },
  {
   "cell_type": "code",
   "execution_count": null,
   "metadata": {
    "collapsed": true
   },
   "outputs": [],
   "source": [
    "if __name__ == \"__main__\":\n",
    "    main(sys.argv[1:]) "
   ]
  }
 ],
 "metadata": {
  "kernelspec": {
   "display_name": "Python 3",
   "language": "python",
   "name": "python3"
  },
  "language_info": {
   "codemirror_mode": {
    "name": "ipython",
    "version": 3
   },
   "file_extension": ".py",
   "mimetype": "text/x-python",
   "name": "python",
   "nbconvert_exporter": "python",
   "pygments_lexer": "ipython3",
   "version": "3.5.2"
  }
 },
 "nbformat": 4,
 "nbformat_minor": 2
}
