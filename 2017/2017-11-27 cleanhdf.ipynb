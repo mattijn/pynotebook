{
 "cells": [
  {
   "cell_type": "code",
   "execution_count": 1,
   "metadata": {},
   "outputs": [],
   "source": [
    "import glob\n",
    "import pandas as pd\n",
    "import pytz\n",
    "from tzlocal import get_localzone\n",
    "from dateutil.relativedelta import relativedelta\n",
    "import datetime\n",
    "%matplotlib inline"
   ]
  },
  {
   "cell_type": "code",
   "execution_count": 2,
   "metadata": {},
   "outputs": [],
   "source": [
    "def get_utc(date, subtract_months=0):\n",
    "    \"\"\"\n",
    "    Get date in utc, based on timezone of computer where script is running on\n",
    "    \n",
    "    Parameters\n",
    "    ----------\n",
    "    date : datetime object\n",
    "        example date = datetime.strptime (\"2001-2-3 10:11:12\", \"%Y-%m-%d %H:%M:%S\")\n",
    "    subtract_months : integer\n",
    "        months to subtract from the date\n",
    "    \"\"\"    \n",
    "    tz = get_localzone()\n",
    "    local_dt = tz.localize(date, is_dst=None)\n",
    "    utc_dt = local_dt.astimezone(pytz.utc)\n",
    "    if subtract_months != 0:\n",
    "        utc_dt = utc_dt - relativedelta(months=+subtract_months)\n",
    "    #logging.debug(\"{0} : {1}\".format('get_utc            ', utc_dt.strftime(\"%Y-%m-%d %H:%M:%S\")))\n",
    "    return utc_dt"
   ]
  },
  {
   "cell_type": "code",
   "execution_count": 3,
   "metadata": {},
   "outputs": [],
   "source": [
    "def gpmlist2dataframe(gpm_files):\n",
    "    \"\"\"\n",
    "    gpm files to pandas dataframe with columns for the start and end date\n",
    "    start date is set as index\n",
    "\n",
    "    Parameters\n",
    "    ----------\n",
    "    gpm_files : list\n",
    "        list with gpm file paths\n",
    "    \"\"\"\n",
    "    columns = ['date','start','end']\n",
    "    s = pd.Series(sorted(gpm_files))\n",
    "    df = s.str.replace('[SE]','').str.split('.',7).str[4].str.split('-',2, expand=True)\n",
    "    df.columns = columns\n",
    "    df['date_start'] = pd.to_datetime(df['date'].map(str) + df['start'].map(str))\n",
    "    df['date_end'] = pd.to_datetime(df['date'].map(str) + df['end'].map(str))\n",
    "    df.drop(columns, inplace=True, axis=1)\n",
    "    df['name'] = sorted(gpm_files)\n",
    "    df.set_index('date_start', inplace=True)\n",
    "    df = df.tz_localize('UTC')\n",
    "    return df"
   ]
  },
  {
   "cell_type": "code",
   "execution_count": 13,
   "metadata": {},
   "outputs": [],
   "source": [
    "path_in = r'D:\\My Projects\\gpm2thredds\\trunk\\test\\test_fetch_gpm'\n",
    "days_no = 1\n",
    "gpm_files = glob.glob('{0}/*'.format(path_in))"
   ]
  },
  {
   "cell_type": "code",
   "execution_count": 14,
   "metadata": {},
   "outputs": [
    {
     "data": {
      "text/plain": [
       "['D:\\\\My Projects\\\\gpm2thredds\\\\trunk\\\\test\\\\test_fetch_gpm\\\\3B-HHR-E.MS.MRG.3IMERG.20180110-S073000-E075959.0450.V05B.RT-H5',\n",
       " 'D:\\\\My Projects\\\\gpm2thredds\\\\trunk\\\\test\\\\test_fetch_gpm\\\\3B-HHR-E.MS.MRG.3IMERG.20180110-S080000-E082959.0480.V05B.RT-H5',\n",
       " 'D:\\\\My Projects\\\\gpm2thredds\\\\trunk\\\\test\\\\test_fetch_gpm\\\\3B-HHR-E.MS.MRG.3IMERG.20180110-S083000-E085959.0510.V05B.RT-H5',\n",
       " 'D:\\\\My Projects\\\\gpm2thredds\\\\trunk\\\\test\\\\test_fetch_gpm\\\\3B-HHR-E.MS.MRG.3IMERG.20180110-S090000-E092959.0540.V05B.RT-H5',\n",
       " 'D:\\\\My Projects\\\\gpm2thredds\\\\trunk\\\\test\\\\test_fetch_gpm\\\\3B-HHR-E.MS.MRG.3IMERG.20180110-S093000-E095959.0570.V05B.RT-H5',\n",
       " 'D:\\\\My Projects\\\\gpm2thredds\\\\trunk\\\\test\\\\test_fetch_gpm\\\\3B-HHR-E.MS.MRG.3IMERG.20180110-S100000-E102959.0600.V05B.RT-H5',\n",
       " 'D:\\\\My Projects\\\\gpm2thredds\\\\trunk\\\\test\\\\test_fetch_gpm\\\\3B-HHR-E.MS.MRG.3IMERG.20180110-S103000-E105959.0630.V05B.RT-H5',\n",
       " 'D:\\\\My Projects\\\\gpm2thredds\\\\trunk\\\\test\\\\test_fetch_gpm\\\\3B-HHR-E.MS.MRG.3IMERG.20180110-S110000-E112959.0660.V05B.RT-H5',\n",
       " 'D:\\\\My Projects\\\\gpm2thredds\\\\trunk\\\\test\\\\test_fetch_gpm\\\\3B-HHR-E.MS.MRG.3IMERG.20180110-S113000-E115959.0690.V05B.RT-H5',\n",
       " 'D:\\\\My Projects\\\\gpm2thredds\\\\trunk\\\\test\\\\test_fetch_gpm\\\\3B-HHR-E.MS.MRG.3IMERG.20180110-S120000-E122959.0720.V05B.RT-H5',\n",
       " 'D:\\\\My Projects\\\\gpm2thredds\\\\trunk\\\\test\\\\test_fetch_gpm\\\\3B-HHR-E.MS.MRG.3IMERG.20180110-S123000-E125959.0750.V05B.RT-H5',\n",
       " 'D:\\\\My Projects\\\\gpm2thredds\\\\trunk\\\\test\\\\test_fetch_gpm\\\\3B-HHR-E.MS.MRG.3IMERG.20180110-S130000-E132959.0780.V05B.RT-H5',\n",
       " 'D:\\\\My Projects\\\\gpm2thredds\\\\trunk\\\\test\\\\test_fetch_gpm\\\\3B-HHR-E.MS.MRG.3IMERG.20180110-S133000-E135959.0810.V05B.RT-H5',\n",
       " 'D:\\\\My Projects\\\\gpm2thredds\\\\trunk\\\\test\\\\test_fetch_gpm\\\\3B-HHR-E.MS.MRG.3IMERG.20180110-S140000-E142959.0840.V05B.RT-H5',\n",
       " 'D:\\\\My Projects\\\\gpm2thredds\\\\trunk\\\\test\\\\test_fetch_gpm\\\\3B-HHR-E.MS.MRG.3IMERG.20180110-S143000-E145959.0870.V05B.RT-H5',\n",
       " 'D:\\\\My Projects\\\\gpm2thredds\\\\trunk\\\\test\\\\test_fetch_gpm\\\\3B-HHR-E.MS.MRG.3IMERG.20180110-S150000-E152959.0900.V05B.RT-H5',\n",
       " 'D:\\\\My Projects\\\\gpm2thredds\\\\trunk\\\\test\\\\test_fetch_gpm\\\\3B-HHR-E.MS.MRG.3IMERG.20180110-S153000-E155959.0930.V05B.RT-H5',\n",
       " 'D:\\\\My Projects\\\\gpm2thredds\\\\trunk\\\\test\\\\test_fetch_gpm\\\\3B-HHR-E.MS.MRG.3IMERG.20180110-S160000-E162959.0960.V05B.RT-H5',\n",
       " 'D:\\\\My Projects\\\\gpm2thredds\\\\trunk\\\\test\\\\test_fetch_gpm\\\\3B-HHR-E.MS.MRG.3IMERG.20180110-S163000-E165959.0990.V05B.RT-H5',\n",
       " 'D:\\\\My Projects\\\\gpm2thredds\\\\trunk\\\\test\\\\test_fetch_gpm\\\\3B-HHR-E.MS.MRG.3IMERG.20180110-S170000-E172959.1020.V05B.RT-H5',\n",
       " 'D:\\\\My Projects\\\\gpm2thredds\\\\trunk\\\\test\\\\test_fetch_gpm\\\\3B-HHR-E.MS.MRG.3IMERG.20180110-S173000-E175959.1050.V05B.RT-H5',\n",
       " 'D:\\\\My Projects\\\\gpm2thredds\\\\trunk\\\\test\\\\test_fetch_gpm\\\\3B-HHR-E.MS.MRG.3IMERG.20180110-S180000-E182959.1080.V05B.RT-H5',\n",
       " 'D:\\\\My Projects\\\\gpm2thredds\\\\trunk\\\\test\\\\test_fetch_gpm\\\\3B-HHR-E.MS.MRG.3IMERG.20180110-S183000-E185959.1110.V05B.RT-H5',\n",
       " 'D:\\\\My Projects\\\\gpm2thredds\\\\trunk\\\\test\\\\test_fetch_gpm\\\\3B-HHR-E.MS.MRG.3IMERG.20180110-S190000-E192959.1140.V05B.RT-H5',\n",
       " 'D:\\\\My Projects\\\\gpm2thredds\\\\trunk\\\\test\\\\test_fetch_gpm\\\\3B-HHR-E.MS.MRG.3IMERG.20180110-S193000-E195959.1170.V05B.RT-H5',\n",
       " 'D:\\\\My Projects\\\\gpm2thredds\\\\trunk\\\\test\\\\test_fetch_gpm\\\\3B-HHR-E.MS.MRG.3IMERG.20180110-S200000-E202959.1200.V05B.RT-H5',\n",
       " 'D:\\\\My Projects\\\\gpm2thredds\\\\trunk\\\\test\\\\test_fetch_gpm\\\\3B-HHR-E.MS.MRG.3IMERG.20180110-S203000-E205959.1230.V05B.RT-H5',\n",
       " 'D:\\\\My Projects\\\\gpm2thredds\\\\trunk\\\\test\\\\test_fetch_gpm\\\\3B-HHR-E.MS.MRG.3IMERG.20180110-S210000-E212959.1260.V05B.RT-H5',\n",
       " 'D:\\\\My Projects\\\\gpm2thredds\\\\trunk\\\\test\\\\test_fetch_gpm\\\\3B-HHR-E.MS.MRG.3IMERG.20180110-S213000-E215959.1290.V05B.RT-H5',\n",
       " 'D:\\\\My Projects\\\\gpm2thredds\\\\trunk\\\\test\\\\test_fetch_gpm\\\\3B-HHR-E.MS.MRG.3IMERG.20180110-S220000-E222959.1320.V05B.RT-H5',\n",
       " 'D:\\\\My Projects\\\\gpm2thredds\\\\trunk\\\\test\\\\test_fetch_gpm\\\\3B-HHR-E.MS.MRG.3IMERG.20180110-S223000-E225959.1350.V05B.RT-H5',\n",
       " 'D:\\\\My Projects\\\\gpm2thredds\\\\trunk\\\\test\\\\test_fetch_gpm\\\\3B-HHR-E.MS.MRG.3IMERG.20180110-S230000-E232959.1380.V05B.RT-H5',\n",
       " 'D:\\\\My Projects\\\\gpm2thredds\\\\trunk\\\\test\\\\test_fetch_gpm\\\\3B-HHR-E.MS.MRG.3IMERG.20180110-S233000-E235959.1410.V05B.RT-H5',\n",
       " 'D:\\\\My Projects\\\\gpm2thredds\\\\trunk\\\\test\\\\test_fetch_gpm\\\\3B-HHR-E.MS.MRG.3IMERG.20180111-S000000-E002959.0000.V05B.RT-H5',\n",
       " 'D:\\\\My Projects\\\\gpm2thredds\\\\trunk\\\\test\\\\test_fetch_gpm\\\\3B-HHR-E.MS.MRG.3IMERG.20180111-S003000-E005959.0030.V05B.RT-H5',\n",
       " 'D:\\\\My Projects\\\\gpm2thredds\\\\trunk\\\\test\\\\test_fetch_gpm\\\\3B-HHR-E.MS.MRG.3IMERG.20180111-S010000-E012959.0060.V05B.RT-H5',\n",
       " 'D:\\\\My Projects\\\\gpm2thredds\\\\trunk\\\\test\\\\test_fetch_gpm\\\\3B-HHR-E.MS.MRG.3IMERG.20180111-S013000-E015959.0090.V05B.RT-H5',\n",
       " 'D:\\\\My Projects\\\\gpm2thredds\\\\trunk\\\\test\\\\test_fetch_gpm\\\\3B-HHR-E.MS.MRG.3IMERG.20180111-S020000-E022959.0120.V05B.RT-H5',\n",
       " 'D:\\\\My Projects\\\\gpm2thredds\\\\trunk\\\\test\\\\test_fetch_gpm\\\\3B-HHR-E.MS.MRG.3IMERG.20180111-S023000-E025959.0150.V05B.RT-H5',\n",
       " 'D:\\\\My Projects\\\\gpm2thredds\\\\trunk\\\\test\\\\test_fetch_gpm\\\\3B-HHR-E.MS.MRG.3IMERG.20180111-S030000-E032959.0180.V05B.RT-H5',\n",
       " 'D:\\\\My Projects\\\\gpm2thredds\\\\trunk\\\\test\\\\test_fetch_gpm\\\\3B-HHR-E.MS.MRG.3IMERG.20180111-S033000-E035959.0210.V05B.RT-H5',\n",
       " 'D:\\\\My Projects\\\\gpm2thredds\\\\trunk\\\\test\\\\test_fetch_gpm\\\\3B-HHR-E.MS.MRG.3IMERG.20180111-S040000-E042959.0240.V05B.RT-H5',\n",
       " 'D:\\\\My Projects\\\\gpm2thredds\\\\trunk\\\\test\\\\test_fetch_gpm\\\\3B-HHR-E.MS.MRG.3IMERG.20180111-S043000-E045959.0270.V05B.RT-H5',\n",
       " 'D:\\\\My Projects\\\\gpm2thredds\\\\trunk\\\\test\\\\test_fetch_gpm\\\\3B-HHR-E.MS.MRG.3IMERG.20180111-S050000-E052959.0300.V05B.RT-H5',\n",
       " 'D:\\\\My Projects\\\\gpm2thredds\\\\trunk\\\\test\\\\test_fetch_gpm\\\\3B-HHR-E.MS.MRG.3IMERG.20180111-S053000-E055959.0330.V05B.RT-H5',\n",
       " 'D:\\\\My Projects\\\\gpm2thredds\\\\trunk\\\\test\\\\test_fetch_gpm\\\\3B-HHR-E.MS.MRG.3IMERG.20180111-S060000-E062959.0360.V05B.RT-H5',\n",
       " 'D:\\\\My Projects\\\\gpm2thredds\\\\trunk\\\\test\\\\test_fetch_gpm\\\\3B-HHR-E.MS.MRG.3IMERG.20180111-S063000-E065959.0390.V05B.RT-H5',\n",
       " 'D:\\\\My Projects\\\\gpm2thredds\\\\trunk\\\\test\\\\test_fetch_gpm\\\\3B-HHR-E.MS.MRG.3IMERG.20180111-S070000-E072959.0420.V05B.RT-H5',\n",
       " 'D:\\\\My Projects\\\\gpm2thredds\\\\trunk\\\\test\\\\test_fetch_gpm\\\\3B-HHR-E.MS.MRG.3IMERG.20180111-S073000-E075959.0450.V05B.RT-H5']"
      ]
     },
     "execution_count": 14,
     "metadata": {},
     "output_type": "execute_result"
    }
   ],
   "source": [
    "gpm_files"
   ]
  },
  {
   "cell_type": "code",
   "execution_count": 15,
   "metadata": {},
   "outputs": [],
   "source": [
    "df = gpmlist2dataframe(gpm_files)\n",
    "t_date = get_utc(datetime.datetime.now()) - relativedelta(days=days_no)"
   ]
  },
  {
   "cell_type": "code",
   "execution_count": 16,
   "metadata": {},
   "outputs": [],
   "source": [
    "string = 'NC.S20171127-0830.AM-E20171127-1030.PM-P02.HOUR-bd.nc'"
   ]
  },
  {
   "cell_type": "code",
   "execution_count": 17,
   "metadata": {},
   "outputs": [
    {
     "data": {
      "text/plain": [
       "'P02.HOUR-bd.nc'"
      ]
     },
     "execution_count": 17,
     "metadata": {},
     "output_type": "execute_result"
    }
   ],
   "source": [
    "'P{0}'.format(string.split('M-P')[1])"
   ]
  },
  {
   "cell_type": "code",
   "execution_count": 18,
   "metadata": {},
   "outputs": [
    {
     "name": "stdout",
     "output_type": "stream",
     "text": [
      "D:\\My Projects\\gpm2thredds\\trunk\\test\\test_fetch_gpm\\3B-HHR-E.MS.MRG.3IMERG.20180110-S073000-E075959.0450.V05B.RT-H5\n",
      "D:\\My Projects\\gpm2thredds\\trunk\\test\\test_fetch_gpm\\3B-HHR-E.MS.MRG.3IMERG.20180110-S080000-E082959.0480.V05B.RT-H5\n",
      "D:\\My Projects\\gpm2thredds\\trunk\\test\\test_fetch_gpm\\3B-HHR-E.MS.MRG.3IMERG.20180110-S083000-E085959.0510.V05B.RT-H5\n",
      "D:\\My Projects\\gpm2thredds\\trunk\\test\\test_fetch_gpm\\3B-HHR-E.MS.MRG.3IMERG.20180110-S090000-E092959.0540.V05B.RT-H5\n",
      "D:\\My Projects\\gpm2thredds\\trunk\\test\\test_fetch_gpm\\3B-HHR-E.MS.MRG.3IMERG.20180110-S093000-E095959.0570.V05B.RT-H5\n",
      "D:\\My Projects\\gpm2thredds\\trunk\\test\\test_fetch_gpm\\3B-HHR-E.MS.MRG.3IMERG.20180110-S100000-E102959.0600.V05B.RT-H5\n",
      "D:\\My Projects\\gpm2thredds\\trunk\\test\\test_fetch_gpm\\3B-HHR-E.MS.MRG.3IMERG.20180110-S103000-E105959.0630.V05B.RT-H5\n",
      "D:\\My Projects\\gpm2thredds\\trunk\\test\\test_fetch_gpm\\3B-HHR-E.MS.MRG.3IMERG.20180110-S110000-E112959.0660.V05B.RT-H5\n",
      "D:\\My Projects\\gpm2thredds\\trunk\\test\\test_fetch_gpm\\3B-HHR-E.MS.MRG.3IMERG.20180110-S113000-E115959.0690.V05B.RT-H5\n",
      "D:\\My Projects\\gpm2thredds\\trunk\\test\\test_fetch_gpm\\3B-HHR-E.MS.MRG.3IMERG.20180110-S120000-E122959.0720.V05B.RT-H5\n",
      "D:\\My Projects\\gpm2thredds\\trunk\\test\\test_fetch_gpm\\3B-HHR-E.MS.MRG.3IMERG.20180110-S123000-E125959.0750.V05B.RT-H5\n"
     ]
    }
   ],
   "source": [
    "index_date = df.index.get_loc(t_date,method='nearest')\n",
    "sel_df = df.iloc[:index_date]\n",
    "\n",
    "for name_path in sel_df['name']:\n",
    "    print(name_path)\n",
    "    #os.remove(name_path)"
   ]
  },
  {
   "cell_type": "code",
   "execution_count": 19,
   "metadata": {},
   "outputs": [
    {
     "data": {
      "text/html": [
       "<div>\n",
       "<style scoped>\n",
       "    .dataframe tbody tr th:only-of-type {\n",
       "        vertical-align: middle;\n",
       "    }\n",
       "\n",
       "    .dataframe tbody tr th {\n",
       "        vertical-align: top;\n",
       "    }\n",
       "\n",
       "    .dataframe thead th {\n",
       "        text-align: right;\n",
       "    }\n",
       "</style>\n",
       "<table border=\"1\" class=\"dataframe\">\n",
       "  <thead>\n",
       "    <tr style=\"text-align: right;\">\n",
       "      <th></th>\n",
       "      <th>date_end</th>\n",
       "      <th>name</th>\n",
       "    </tr>\n",
       "    <tr>\n",
       "      <th>date_start</th>\n",
       "      <th></th>\n",
       "      <th></th>\n",
       "    </tr>\n",
       "  </thead>\n",
       "  <tbody>\n",
       "    <tr>\n",
       "      <th>2018-01-10 07:30:00+00:00</th>\n",
       "      <td>2018-01-10 07:59:59</td>\n",
       "      <td>D:\\My Projects\\gpm2thredds\\trunk\\test\\test_fet...</td>\n",
       "    </tr>\n",
       "    <tr>\n",
       "      <th>2018-01-10 08:00:00+00:00</th>\n",
       "      <td>2018-01-10 08:29:59</td>\n",
       "      <td>D:\\My Projects\\gpm2thredds\\trunk\\test\\test_fet...</td>\n",
       "    </tr>\n",
       "    <tr>\n",
       "      <th>2018-01-10 08:30:00+00:00</th>\n",
       "      <td>2018-01-10 08:59:59</td>\n",
       "      <td>D:\\My Projects\\gpm2thredds\\trunk\\test\\test_fet...</td>\n",
       "    </tr>\n",
       "    <tr>\n",
       "      <th>2018-01-10 09:00:00+00:00</th>\n",
       "      <td>2018-01-10 09:29:59</td>\n",
       "      <td>D:\\My Projects\\gpm2thredds\\trunk\\test\\test_fet...</td>\n",
       "    </tr>\n",
       "    <tr>\n",
       "      <th>2018-01-10 09:30:00+00:00</th>\n",
       "      <td>2018-01-10 09:59:59</td>\n",
       "      <td>D:\\My Projects\\gpm2thredds\\trunk\\test\\test_fet...</td>\n",
       "    </tr>\n",
       "  </tbody>\n",
       "</table>\n",
       "</div>"
      ],
      "text/plain": [
       "                                     date_end  \\\n",
       "date_start                                      \n",
       "2018-01-10 07:30:00+00:00 2018-01-10 07:59:59   \n",
       "2018-01-10 08:00:00+00:00 2018-01-10 08:29:59   \n",
       "2018-01-10 08:30:00+00:00 2018-01-10 08:59:59   \n",
       "2018-01-10 09:00:00+00:00 2018-01-10 09:29:59   \n",
       "2018-01-10 09:30:00+00:00 2018-01-10 09:59:59   \n",
       "\n",
       "                                                                        name  \n",
       "date_start                                                                    \n",
       "2018-01-10 07:30:00+00:00  D:\\My Projects\\gpm2thredds\\trunk\\test\\test_fet...  \n",
       "2018-01-10 08:00:00+00:00  D:\\My Projects\\gpm2thredds\\trunk\\test\\test_fet...  \n",
       "2018-01-10 08:30:00+00:00  D:\\My Projects\\gpm2thredds\\trunk\\test\\test_fet...  \n",
       "2018-01-10 09:00:00+00:00  D:\\My Projects\\gpm2thredds\\trunk\\test\\test_fet...  \n",
       "2018-01-10 09:30:00+00:00  D:\\My Projects\\gpm2thredds\\trunk\\test\\test_fet...  "
      ]
     },
     "execution_count": 19,
     "metadata": {},
     "output_type": "execute_result"
    }
   ],
   "source": [
    "sel_df.head()"
   ]
  },
  {
   "cell_type": "code",
   "execution_count": 21,
   "metadata": {},
   "outputs": [],
   "source": [
    "path_in = r'D:\\My Projects\\gpm2thredds\\trunk\\test\\test_to_thredds'\n",
    "days_no = 1\n",
    "nc_files = glob.glob('{0}/*'.format(path_in))"
   ]
  },
  {
   "cell_type": "code",
   "execution_count": 23,
   "metadata": {},
   "outputs": [],
   "source": [
    "s = pd.Series(sorted(nc_files))"
   ]
  },
  {
   "cell_type": "code",
   "execution_count": 66,
   "metadata": {},
   "outputs": [],
   "source": [
    "df = s.str.replace('[SEAPM]','').str.split('.',7).str[1:3].str.join('').str.split('-',3, expand=True)"
   ]
  },
  {
   "cell_type": "code",
   "execution_count": 67,
   "metadata": {},
   "outputs": [
    {
     "data": {
      "text/plain": [
       "0    20180107\n",
       "1        1130\n",
       "2    20180108\n",
       "3        1130\n",
       "Name: 0, dtype: object"
      ]
     },
     "execution_count": 67,
     "metadata": {},
     "output_type": "execute_result"
    }
   ],
   "source": [
    "df.iloc[0]"
   ]
  },
  {
   "cell_type": "code",
   "execution_count": 70,
   "metadata": {},
   "outputs": [],
   "source": [
    "df_nc = nclist2dataframe(nc_files)\n",
    "t_date = get_utc(datetime.datetime.now()) - relativedelta(days=days_no)"
   ]
  },
  {
   "cell_type": "code",
   "execution_count": 71,
   "metadata": {},
   "outputs": [
    {
     "name": "stdout",
     "output_type": "stream",
     "text": [
      "D:\\My Projects\\gpm2thredds\\trunk\\test\\test_to_thredds\\NC.S20180107-1130.AM-E20180108-1130.AM-P24.HOUR-bangladesh.nc\n",
      "D:\\My Projects\\gpm2thredds\\trunk\\test\\test_to_thredds\\NC.S20180107-2330.PM-E20180108-1130.AM-P12.HOUR-bangladesh.nc\n",
      "D:\\My Projects\\gpm2thredds\\trunk\\test\\test_to_thredds\\NC.S20180108-0330.AM-E20180108-1130.AM-P08.HOUR-bangladesh.nc\n",
      "D:\\My Projects\\gpm2thredds\\trunk\\test\\test_to_thredds\\NC.S20180108-0930.AM-E20180108-1130.AM-P02.HOUR-bangladesh.nc\n",
      "D:\\My Projects\\gpm2thredds\\trunk\\test\\test_to_thredds\\NC.S20180110-0730.AM-E20180111-0730.AM-P24.HOUR-bangladesh.nc\n"
     ]
    }
   ],
   "source": [
    "index_date = df_nc.index.get_loc(t_date,method='nearest')\n",
    "sel_df_nc = df_nc.iloc[:index_date]\n",
    "\n",
    "for name_path in sel_df_nc['name']:\n",
    "    print(name_path)\n",
    "    #os.remove(name_path)"
   ]
  },
  {
   "cell_type": "code",
   "execution_count": null,
   "metadata": {},
   "outputs": [],
   "source": []
  },
  {
   "cell_type": "code",
   "execution_count": 68,
   "metadata": {},
   "outputs": [],
   "source": [
    "def nclist2dataframe(nc_files):\n",
    "    \"\"\"\n",
    "    nc files to pandas dataframe with columns for the start and end date\n",
    "    start date is set as index\n",
    "\n",
    "    Parameters\n",
    "    ----------\n",
    "    nc_files : list\n",
    "        list with converted nc file paths\n",
    "    \"\"\"\n",
    "    columns = ['start_date','start_time','end_date','end_time']\n",
    "    s = pd.Series(sorted(nc_files))\n",
    "    df = s.str.replace('[SEAPM]','').str.split('.',7).str[1:3].str.join('').str.split('-',3, expand=True)\n",
    "    df.columns = columns\n",
    "    df['date_start'] = pd.to_datetime(df['start_date'].map(str) + df['start_time'].map(str))\n",
    "    df['date_end'] = pd.to_datetime(df['end_date'].map(str) + df['end_time'].map(str))\n",
    "    df.drop(columns, inplace=True, axis=1)\n",
    "    df['name'] = sorted(nc_files)\n",
    "    df.set_index('date_start', inplace=True)\n",
    "    df = df.tz_localize('UTC')\n",
    "    return df"
   ]
  },
  {
   "cell_type": "code",
   "execution_count": 69,
   "metadata": {},
   "outputs": [
    {
     "data": {
      "text/html": [
       "<div>\n",
       "<style scoped>\n",
       "    .dataframe tbody tr th:only-of-type {\n",
       "        vertical-align: middle;\n",
       "    }\n",
       "\n",
       "    .dataframe tbody tr th {\n",
       "        vertical-align: top;\n",
       "    }\n",
       "\n",
       "    .dataframe thead th {\n",
       "        text-align: right;\n",
       "    }\n",
       "</style>\n",
       "<table border=\"1\" class=\"dataframe\">\n",
       "  <thead>\n",
       "    <tr style=\"text-align: right;\">\n",
       "      <th></th>\n",
       "      <th>date_end</th>\n",
       "      <th>name</th>\n",
       "    </tr>\n",
       "    <tr>\n",
       "      <th>date_start</th>\n",
       "      <th></th>\n",
       "      <th></th>\n",
       "    </tr>\n",
       "  </thead>\n",
       "  <tbody>\n",
       "    <tr>\n",
       "      <th>2018-01-07 11:30:00+00:00</th>\n",
       "      <td>2018-01-08 11:30:00</td>\n",
       "      <td>D:\\My Projects\\gpm2thredds\\trunk\\test\\test_to_...</td>\n",
       "    </tr>\n",
       "    <tr>\n",
       "      <th>2018-01-07 23:30:00+00:00</th>\n",
       "      <td>2018-01-08 11:30:00</td>\n",
       "      <td>D:\\My Projects\\gpm2thredds\\trunk\\test\\test_to_...</td>\n",
       "    </tr>\n",
       "    <tr>\n",
       "      <th>2018-01-08 03:30:00+00:00</th>\n",
       "      <td>2018-01-08 11:30:00</td>\n",
       "      <td>D:\\My Projects\\gpm2thredds\\trunk\\test\\test_to_...</td>\n",
       "    </tr>\n",
       "    <tr>\n",
       "      <th>2018-01-08 09:30:00+00:00</th>\n",
       "      <td>2018-01-08 11:30:00</td>\n",
       "      <td>D:\\My Projects\\gpm2thredds\\trunk\\test\\test_to_...</td>\n",
       "    </tr>\n",
       "    <tr>\n",
       "      <th>2018-01-10 07:30:00+00:00</th>\n",
       "      <td>2018-01-11 07:30:00</td>\n",
       "      <td>D:\\My Projects\\gpm2thredds\\trunk\\test\\test_to_...</td>\n",
       "    </tr>\n",
       "    <tr>\n",
       "      <th>2018-01-10 19:30:00+00:00</th>\n",
       "      <td>2018-01-11 07:30:00</td>\n",
       "      <td>D:\\My Projects\\gpm2thredds\\trunk\\test\\test_to_...</td>\n",
       "    </tr>\n",
       "    <tr>\n",
       "      <th>2018-01-10 23:30:00+00:00</th>\n",
       "      <td>2018-01-11 07:30:00</td>\n",
       "      <td>D:\\My Projects\\gpm2thredds\\trunk\\test\\test_to_...</td>\n",
       "    </tr>\n",
       "    <tr>\n",
       "      <th>2018-01-11 05:30:00+00:00</th>\n",
       "      <td>2018-01-11 07:30:00</td>\n",
       "      <td>D:\\My Projects\\gpm2thredds\\trunk\\test\\test_to_...</td>\n",
       "    </tr>\n",
       "  </tbody>\n",
       "</table>\n",
       "</div>"
      ],
      "text/plain": [
       "                                     date_end  \\\n",
       "date_start                                      \n",
       "2018-01-07 11:30:00+00:00 2018-01-08 11:30:00   \n",
       "2018-01-07 23:30:00+00:00 2018-01-08 11:30:00   \n",
       "2018-01-08 03:30:00+00:00 2018-01-08 11:30:00   \n",
       "2018-01-08 09:30:00+00:00 2018-01-08 11:30:00   \n",
       "2018-01-10 07:30:00+00:00 2018-01-11 07:30:00   \n",
       "2018-01-10 19:30:00+00:00 2018-01-11 07:30:00   \n",
       "2018-01-10 23:30:00+00:00 2018-01-11 07:30:00   \n",
       "2018-01-11 05:30:00+00:00 2018-01-11 07:30:00   \n",
       "\n",
       "                                                                        name  \n",
       "date_start                                                                    \n",
       "2018-01-07 11:30:00+00:00  D:\\My Projects\\gpm2thredds\\trunk\\test\\test_to_...  \n",
       "2018-01-07 23:30:00+00:00  D:\\My Projects\\gpm2thredds\\trunk\\test\\test_to_...  \n",
       "2018-01-08 03:30:00+00:00  D:\\My Projects\\gpm2thredds\\trunk\\test\\test_to_...  \n",
       "2018-01-08 09:30:00+00:00  D:\\My Projects\\gpm2thredds\\trunk\\test\\test_to_...  \n",
       "2018-01-10 07:30:00+00:00  D:\\My Projects\\gpm2thredds\\trunk\\test\\test_to_...  \n",
       "2018-01-10 19:30:00+00:00  D:\\My Projects\\gpm2thredds\\trunk\\test\\test_to_...  \n",
       "2018-01-10 23:30:00+00:00  D:\\My Projects\\gpm2thredds\\trunk\\test\\test_to_...  \n",
       "2018-01-11 05:30:00+00:00  D:\\My Projects\\gpm2thredds\\trunk\\test\\test_to_...  "
      ]
     },
     "execution_count": 69,
     "metadata": {},
     "output_type": "execute_result"
    }
   ],
   "source": [
    "nclist2dataframe(nc_files)"
   ]
  },
  {
   "cell_type": "code",
   "execution_count": null,
   "metadata": {},
   "outputs": [],
   "source": []
  }
 ],
 "metadata": {
  "kernelspec": {
   "display_name": "Python 3",
   "language": "python",
   "name": "python3"
  },
  "language_info": {
   "codemirror_mode": {
    "name": "ipython",
    "version": 3
   },
   "file_extension": ".py",
   "mimetype": "text/x-python",
   "name": "python",
   "nbconvert_exporter": "python",
   "pygments_lexer": "ipython3",
   "version": "3.5.2"
  }
 },
 "nbformat": 4,
 "nbformat_minor": 2
}
