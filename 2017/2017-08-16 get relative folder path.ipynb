{
 "cells": [
  {
   "cell_type": "code",
   "execution_count": 1,
   "metadata": {
    "collapsed": true
   },
   "outputs": [],
   "source": [
    "def resource_path(relative_path):\n",
    "    \"\"\" Get absolute path to resource, works for dev and for PyInstaller \"\"\"\n",
    "    try:\n",
    "        # PyInstaller creates a temp folder and stores path in _MEIPASS\n",
    "        base_path = sys._MEIPASS\n",
    "    except Exception:\n",
    "        base_path = os.path.abspath(\".\")\n",
    "\n",
    "    return os.path.join(base_path, relative_path)"
   ]
  },
  {
   "cell_type": "code",
   "execution_count": 3,
   "metadata": {
    "collapsed": true
   },
   "outputs": [],
   "source": [
    "import os\n",
    "import sys"
   ]
  },
  {
   "cell_type": "code",
   "execution_count": 4,
   "metadata": {
    "collapsed": false
   },
   "outputs": [
    {
     "data": {
      "text/plain": [
       "'D:\\\\jupyter notebooks\\\\3594.10 HB-havens'"
      ]
     },
     "execution_count": 4,
     "metadata": {},
     "output_type": "execute_result"
    }
   ],
   "source": [
    "os.getcwd()"
   ]
  },
  {
   "cell_type": "code",
   "execution_count": 7,
   "metadata": {
    "collapsed": false
   },
   "outputs": [
    {
     "data": {
      "text/plain": [
       "'D:\\\\jupyter notebooks\\\\3594.10 HB-havens\\\\..\\\\spelen'"
      ]
     },
     "execution_count": 7,
     "metadata": {},
     "output_type": "execute_result"
    }
   ],
   "source": [
    "gui_dir = resource_path('..\\\\spelen')"
   ]
  },
  {
   "cell_type": "code",
   "execution_count": 9,
   "metadata": {
    "collapsed": false
   },
   "outputs": [
    {
     "data": {
      "text/plain": [
       "['.ipynb_checkpoints',\n",
       " '2017-03-24 Test hover folium_examples.ipynb',\n",
       " '2017-03-24 Use Vega JSON object to style a leaflet overlay.ipynb',\n",
       " '2017-03-30 tijdreeksen oosterscheldestations.ipynb',\n",
       " '2017-05-09 OMS Waddenzee soap client wsdl pysimplesoap.ipynb',\n",
       " '2017-06-14 PyHANTS reborn.ipynb',\n",
       " '2017-06-14 PyHANTS toegepast.ipynb',\n",
       " 'gdal as functions.ipynb',\n",
       " 'human sorting.ipynb',\n",
       " 'map_flevoland.html',\n",
       " 'soap client wsdl pysimplesoap.ipynb',\n",
       " 'us_states.html']"
      ]
     },
     "execution_count": 9,
     "metadata": {},
     "output_type": "execute_result"
    }
   ],
   "source": [
    "os.listdir(resource_path('..\\\\spelen'))"
   ]
  },
  {
   "cell_type": "code",
   "execution_count": null,
   "metadata": {
    "collapsed": true
   },
   "outputs": [],
   "source": []
  }
 ],
 "metadata": {
  "kernelspec": {
   "display_name": "Python 3",
   "language": "python",
   "name": "python3"
  },
  "language_info": {
   "codemirror_mode": {
    "name": "ipython",
    "version": 3
   },
   "file_extension": ".py",
   "mimetype": "text/x-python",
   "name": "python",
   "nbconvert_exporter": "python",
   "pygments_lexer": "ipython3",
   "version": "3.5.2"
  }
 },
 "nbformat": 4,
 "nbformat_minor": 2
}
