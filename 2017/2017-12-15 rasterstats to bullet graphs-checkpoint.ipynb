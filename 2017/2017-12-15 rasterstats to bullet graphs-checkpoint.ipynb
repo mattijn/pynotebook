{
 "cells": [
  {
   "cell_type": "code",
   "execution_count": 1,
   "metadata": {},
   "outputs": [],
   "source": [
    "import hkvwaporpy as hkv\n",
    "import numpy as np\n",
    "import pandas as pd\n",
    "import glob\n",
    "import os\n",
    "from tqdm import tqdm_notebook as tqdm"
   ]
  },
  {
   "cell_type": "code",
   "execution_count": 2,
   "metadata": {},
   "outputs": [],
   "source": [
    "csv_in = r'D:\\jupyter notebooks\\3348.10 WAP Awash - Ethiopie\\CSV-files\\*.csv'\n",
    "csv_dir = glob.glob(csv_in)"
   ]
  },
  {
   "cell_type": "code",
   "execution_count": null,
   "metadata": {},
   "outputs": [
    {
     "name": "stdout",
     "output_type": "stream",
     "text": [
      "D:\\jupyter notebooks\\3348.10 WAP Awash - Ethiopie\\CSV-files\\stats_L1_RET.csv\n"
     ]
    }
   ],
   "source": [
    "for csv in tqdm(csv_dir):\n",
    "    print(csv)\n",
    "    path_basename = os.path.basename(csv)\n",
    "    path_dirname = os.path.dirname(csv)\n",
    "    csv_out = '{0}\\select_stats\\select_{1}'.format(path_dirname, path_basename)    \n",
    "    df = pd.read_csv(csv)\n",
    "    # parse date column as datetime\n",
    "    df.loc[:,'date'] = pd.to_datetime(df['date'])\n",
    "    # compute year and day of year column\n",
    "    df.loc[:,'year'] = df['date'].dt.year\n",
    "    df.loc[:,'doy'] = df['date'].dt.dayofyear   \n",
    "    \n",
    "    # iterate over unique weredas and day of years to select subset\n",
    "    unique_wereda = df['wereda'].unique()\n",
    "    unique_doy = df['doy'].unique()\n",
    "\n",
    "    if 'stats_L1_RET' not in path_basename:\n",
    "        # only get doy that are minimal 8 days apart\n",
    "        diff_day = np.ediff1d(unique_doy)\n",
    "        diff_day = np.insert(diff_day, 0, 10)\n",
    "        unique_doy = unique_doy[diff_day>=8]\n",
    "\n",
    "    # extract mean of each variable for each wereda and doy and store in list\n",
    "    list_comb = []\n",
    "    for wereda in tqdm(unique_wereda):\n",
    "        for doy in tqdm(unique_doy):\n",
    "            \n",
    "            if 'stats_L1_RET' not in path_basename:\n",
    "                # search surround\n",
    "                df_sel = df.loc[(df['doy'].isin([doy-1,doy, doy+1])) & (df['wereda'] == wereda)]\n",
    "            else:\n",
    "                df_sel = df.loc[(df['doy'] == doy) & (df['wereda'] == wereda)]\n",
    "            s_sel_mean = df_sel.mean(axis=0)        \n",
    "            s_sel_mean.loc['wereda'] = df_sel.wereda.unique()[0]\n",
    "            s_sel_mean.loc['doy'] = df_sel.doy.min()\n",
    "            list_comb.append(s_sel_mean.tolist())\n",
    "\n",
    "    # convert list to dataframe\n",
    "    df_comb = pd.DataFrame(data = list_comb, columns = s_sel_mean.index)      \n",
    "    df_comb.drop(['Unnamed: 0', 'year'], axis=1, inplace=True)\n",
    "    df_comb.loc[:,'parameter'] = path_basename[6:-4]\n",
    "    df_comb.to_csv(csv_out, index=False)"
   ]
  },
  {
   "cell_type": "code",
   "execution_count": null,
   "metadata": {},
   "outputs": [],
   "source": []
  }
 ],
 "metadata": {
  "kernelspec": {
   "display_name": "Python 3",
   "language": "python",
   "name": "python3"
  },
  "language_info": {
   "codemirror_mode": {
    "name": "ipython",
    "version": 3
   },
   "file_extension": ".py",
   "mimetype": "text/x-python",
   "name": "python",
   "nbconvert_exporter": "python",
   "pygments_lexer": "ipython3",
   "version": "3.5.2"
  },
  "widgets": {
   "state": {
    "01e3810cbdd541f69f4a746dc05ddbe8": {
     "views": [
      {
       "cell_index": 2
      }
     ]
    },
    "07998ba4ec374efdbb5cfab3dfd2e746": {
     "views": [
      {
       "cell_index": 2
      }
     ]
    },
    "087dfbcb58334c0daf84993207767bf7": {
     "views": [
      {
       "cell_index": 2
      }
     ]
    },
    "09826e10de41431eafdd1c848d4a1312": {
     "views": [
      {
       "cell_index": 2
      }
     ]
    },
    "0b5cbf2da0464e70a8e518157eed7833": {
     "views": [
      {
       "cell_index": 2
      }
     ]
    },
    "0ccd1378a7b5497e9f3f3d4679557fe5": {
     "views": [
      {
       "cell_index": 2
      }
     ]
    },
    "13f72c12088246129eb8aaa951d7d438": {
     "views": [
      {
       "cell_index": 2
      }
     ]
    },
    "147b25aab11941eba657d889d422271b": {
     "views": [
      {
       "cell_index": 2
      }
     ]
    },
    "170c0f63aae540908c09610c86919887": {
     "views": [
      {
       "cell_index": 2
      }
     ]
    },
    "2fa8897b815b480a838a5d8bcc6470b6": {
     "views": [
      {
       "cell_index": 2
      }
     ]
    },
    "3de7aaef1c0144f3a170f88854ca8f48": {
     "views": [
      {
       "cell_index": 2
      }
     ]
    },
    "441846e415194696885ee38aa7e70d47": {
     "views": [
      {
       "cell_index": 2
      }
     ]
    },
    "47f9fca1fd314550ab7a65b5c3e73354": {
     "views": [
      {
       "cell_index": 2
      }
     ]
    },
    "55f7fdf3ef454d40a560b02d3366e637": {
     "views": [
      {
       "cell_index": 2
      }
     ]
    },
    "56b57aa0061f456780ad43fe992d9f20": {
     "views": [
      {
       "cell_index": 2
      }
     ]
    },
    "56bf2be894ff4d92bae1fe725462ce1c": {
     "views": [
      {
       "cell_index": 2
      }
     ]
    },
    "57c58f51a73a4560b18f77b6c7511147": {
     "views": [
      {
       "cell_index": 2
      }
     ]
    },
    "5ec2a3ec2aa349a68c2cc8974c470ba9": {
     "views": [
      {
       "cell_index": 2
      }
     ]
    },
    "5f34120a0e4a4889a31e96f5f895f451": {
     "views": [
      {
       "cell_index": 2
      }
     ]
    },
    "759c795a64274de1b78699ec750196fe": {
     "views": [
      {
       "cell_index": 2
      }
     ]
    },
    "7e3e4fd46da34443b72eee9142ce826a": {
     "views": [
      {
       "cell_index": 2
      }
     ]
    },
    "835ce5f83f504e308cd80abafcab4d2c": {
     "views": [
      {
       "cell_index": 2
      }
     ]
    },
    "8b5a95bc45694079a2367da7e7cbd0bb": {
     "views": [
      {
       "cell_index": 2
      }
     ]
    },
    "8b7bec9842fe443b8475e1ac54235be4": {
     "views": [
      {
       "cell_index": 2
      }
     ]
    },
    "958b65a7073c4620a5727aea32239e8d": {
     "views": [
      {
       "cell_index": 2
      }
     ]
    },
    "98560cef809345c3b15f07f1e35fed23": {
     "views": [
      {
       "cell_index": 2
      }
     ]
    },
    "9c3cd85267f547fea7da0779a5276c57": {
     "views": [
      {
       "cell_index": 2
      }
     ]
    },
    "a17929b9cca34823bcd960da37e1b1e4": {
     "views": [
      {
       "cell_index": 2
      }
     ]
    },
    "a1fb2cc9d84247a6b3de5cae22f57d77": {
     "views": [
      {
       "cell_index": 2
      }
     ]
    },
    "b2e2b455aecd47e0858a1c954c5b03af": {
     "views": [
      {
       "cell_index": 2
      }
     ]
    },
    "b3b6ad762b784d2c86e2d8870ab11cc3": {
     "views": [
      {
       "cell_index": 2
      }
     ]
    },
    "b42bbecc13874d10bb86164b0a758733": {
     "views": [
      {
       "cell_index": 2
      }
     ]
    },
    "b781cbee30764ac09a94094858f04279": {
     "views": [
      {
       "cell_index": 2
      }
     ]
    },
    "bdc48c0a79004962bc9c5d1dd64f7150": {
     "views": [
      {
       "cell_index": 2
      }
     ]
    },
    "bfdd89ed0965484d91cb2298643c67ae": {
     "views": [
      {
       "cell_index": 2
      }
     ]
    },
    "c3dbfb9bd23b4c77926140cf6c264506": {
     "views": [
      {
       "cell_index": 2
      }
     ]
    },
    "c7a26d65dcc1429e80458e52dc4dbd62": {
     "views": [
      {
       "cell_index": 2
      }
     ]
    },
    "c87c00477d2642c6a2846a242104d359": {
     "views": [
      {
       "cell_index": 2
      }
     ]
    },
    "cf9e956010dc40be8cd9f93e2d254636": {
     "views": [
      {
       "cell_index": 2
      }
     ]
    },
    "d0caa8cc622249148a3973966dce4084": {
     "views": [
      {
       "cell_index": 2
      }
     ]
    },
    "d8756b8e3cc049c189e5a60cf9c3baa0": {
     "views": [
      {
       "cell_index": 2
      }
     ]
    },
    "d96c4eb202b44a8b897a66c095caa645": {
     "views": [
      {
       "cell_index": 2
      }
     ]
    },
    "d9c245410f4b486c8ab6a467dec117ef": {
     "views": [
      {
       "cell_index": 2
      }
     ]
    },
    "da48171d250845b69804d1d1bd117a54": {
     "views": [
      {
       "cell_index": 2
      }
     ]
    },
    "e69d0b234f4c43c79268929203071365": {
     "views": [
      {
       "cell_index": 2
      }
     ]
    },
    "eac41f2b5bef4e45953d5c2cc76f946f": {
     "views": [
      {
       "cell_index": 2
      }
     ]
    },
    "ecde029e4f4248b0aa539dcf1c190c03": {
     "views": [
      {
       "cell_index": 2
      }
     ]
    },
    "ee15f85865fe4f8c82e43c8484ecfc23": {
     "views": [
      {
       "cell_index": 2
      }
     ]
    },
    "ef861a8aed4645a7be944f0e1b83f7ed": {
     "views": [
      {
       "cell_index": 2
      }
     ]
    },
    "f3e1e39336754d9ebf894ecc377aa46f": {
     "views": [
      {
       "cell_index": 2
      }
     ]
    },
    "f5d320e8ec7e4c4298dd9cf9475c3c14": {
     "views": [
      {
       "cell_index": 2
      }
     ]
    }
   },
   "version": "1.2.0"
  }
 },
 "nbformat": 4,
 "nbformat_minor": 2
}
