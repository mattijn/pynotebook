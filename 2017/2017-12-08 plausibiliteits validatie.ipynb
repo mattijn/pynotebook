{
 "cells": [
  {
   "cell_type": "markdown",
   "metadata": {},
   "source": [
    "## plausibiliteit op basis vanuit neerslag gevens in bui-bestanden en waterstanden en afvoeren in opgeslagen in his-bestanden"
   ]
  },
  {
   "cell_type": "markdown",
   "metadata": {},
   "source": [
    "Deze notebook bevat informatie hoe het mogelijk is om .his- en .bui-bestanden uit te lezen binnen Python en op welke manier hieruit de plausibiliteitsuit af te leiden. Een aantal functies worden hierbij toegelicht. Waarbij elke functie in detail is beschreven in de toebehorende `docstring`."
   ]
  },
  {
   "cell_type": "code",
   "execution_count": 1,
   "metadata": {},
   "outputs": [],
   "source": [
    "import hkvsobekpy as hkv\n",
    "import geopandas as gpd\n",
    "import os"
   ]
  },
  {
   "cell_type": "markdown",
   "metadata": {},
   "source": [
    "Ook bepalen we de input bestanden."
   ]
  },
  {
   "cell_type": "code",
   "execution_count": 4,
   "metadata": {},
   "outputs": [],
   "source": [
    "bui_file = r'D:\\Projects\\Pr\\3651.10\\Toeleveringen\\08122017_AnneJopen_wetransfer\\T100St2.bui'\n",
    "his_folder = r'D:\\Projects\\Pr\\3651.10\\Toeleveringen\\08122017_AnneJopen_wetransfer'\n",
    "shp_file = r'D:\\Projects\\Pr\\3651.10\\Toeleveringen\\08122017_AnneJopen_wetransfer\\Sbk_FGrPt_n.dbf'"
   ]
  },
  {
   "cell_type": "markdown",
   "metadata": {},
   "source": [
    "Naast het .his-bestand is er een .shp-bestand gedefinieerd met een bijbehorende .dbf-bestand. De kolom met naam van his-file, locatie en parameter die hierin staan gedefinieerd worden gebruikt voor het inlezen van de periode in een his-bestand. \n",
    "Het is daarom van belang dat deze namen correct zijn. \n",
    "\n",
    "De shp-file kunnen we als volgt inlezen naar een `GeoDataFrame` en vervolgens plotten in figuur (de `shp`) en tabel (de `dbf`)"
   ]
  },
  {
   "cell_type": "code",
   "execution_count": 5,
   "metadata": {},
   "outputs": [
    {
     "data": {
      "text/plain": [
       "<matplotlib.axes._subplots.AxesSubplot at 0x1b4e3160>"
      ]
     },
     "execution_count": 5,
     "metadata": {},
     "output_type": "execute_result"
    },
    {
     "data": {
      "image/png": "[encoded data removed]",
      "text/plain": [
       "<matplotlib.figure.Figure at 0x1b4b96d8>"
      ]
     },
     "metadata": {},
     "output_type": "display_data"
    }
   ],
   "source": [
    "gdf = gpd.read_file(shp_file)\n",
    "gdf.plot()"
   ]
  },
  {
   "cell_type": "code",
   "execution_count": 6,
   "metadata": {},
   "outputs": [
    {
     "data": {
      "text/html": [
       "<div>\n",
       "<style scoped>\n",
       "    .dataframe tbody tr th:only-of-type {\n",
       "        vertical-align: middle;\n",
       "    }\n",
       "\n",
       "    .dataframe tbody tr th {\n",
       "        vertical-align: top;\n",
       "    }\n",
       "\n",
       "    .dataframe thead th {\n",
       "        text-align: right;\n",
       "    }\n",
       "</style>\n",
       "<table border=\"1\" class=\"dataframe\">\n",
       "  <thead>\n",
       "    <tr style=\"text-align: right;\">\n",
       "      <th></th>\n",
       "      <th>ID________</th>\n",
       "      <th>NAME______</th>\n",
       "      <th>TYPE______</th>\n",
       "      <th>PARENTID__</th>\n",
       "      <th>USERID____</th>\n",
       "      <th>X_________</th>\n",
       "      <th>Y_________</th>\n",
       "      <th>Z_________</th>\n",
       "      <th>COLOR_____</th>\n",
       "      <th>HIS_FILE</th>\n",
       "      <th>LOCATIES</th>\n",
       "      <th>PARAMETERS</th>\n",
       "      <th>geometry</th>\n",
       "    </tr>\n",
       "  </thead>\n",
       "  <tbody>\n",
       "    <tr>\n",
       "      <th>0</th>\n",
       "      <td>calc_1</td>\n",
       "      <td>0.000000000000000</td>\n",
       "      <td>Flow - Fixed Calculation Point</td>\n",
       "      <td>SBK_GRIDPOINTFIXED</td>\n",
       "      <td></td>\n",
       "      <td>80423.3177</td>\n",
       "      <td>454347.0958</td>\n",
       "      <td>0.0</td>\n",
       "      <td>8388863.0</td>\n",
       "      <td>calcpnt</td>\n",
       "      <td>calc_1</td>\n",
       "      <td>Waterlevel mean (m AD</td>\n",
       "      <td>None</td>\n",
       "    </tr>\n",
       "    <tr>\n",
       "      <th>1</th>\n",
       "      <td>calc_2</td>\n",
       "      <td>0.000000000000000</td>\n",
       "      <td>Flow - Fixed Calculation Point</td>\n",
       "      <td>SBK_GRIDPOINTFIXED</td>\n",
       "      <td></td>\n",
       "      <td>80427.9324</td>\n",
       "      <td>454338.2494</td>\n",
       "      <td>0.0</td>\n",
       "      <td>8388863.0</td>\n",
       "      <td>calcpnt</td>\n",
       "      <td>calc_2</td>\n",
       "      <td>Waterlevel mean (m AD</td>\n",
       "      <td>None</td>\n",
       "    </tr>\n",
       "    <tr>\n",
       "      <th>2</th>\n",
       "      <td>calc_4</td>\n",
       "      <td>24.699999999999999</td>\n",
       "      <td>Flow - Fixed Calculation Point</td>\n",
       "      <td>SBK_GRIDPOINTFIXED</td>\n",
       "      <td></td>\n",
       "      <td>81859.9993</td>\n",
       "      <td>456551.2446</td>\n",
       "      <td>0.0</td>\n",
       "      <td>8388863.0</td>\n",
       "      <td>reachseg</td>\n",
       "      <td>1</td>\n",
       "      <td>Waterlevel slope MEA</td>\n",
       "      <td>None</td>\n",
       "    </tr>\n",
       "    <tr>\n",
       "      <th>3</th>\n",
       "      <td>calc_6</td>\n",
       "      <td>27.000000000000000</td>\n",
       "      <td>Flow - Fixed Calculation Point</td>\n",
       "      <td>SBK_GRIDPOINTFIXED</td>\n",
       "      <td></td>\n",
       "      <td>82463.6157</td>\n",
       "      <td>456893.4409</td>\n",
       "      <td>0.0</td>\n",
       "      <td>8388863.0</td>\n",
       "      <td>reachseg</td>\n",
       "      <td>1</td>\n",
       "      <td>Discharge mean (m3/s)</td>\n",
       "      <td>None</td>\n",
       "    </tr>\n",
       "  </tbody>\n",
       "</table>\n",
       "</div>"
      ],
      "text/plain": [
       "  ID________          NAME______                      TYPE______  \\\n",
       "0     calc_1   0.000000000000000  Flow - Fixed Calculation Point   \n",
       "1     calc_2   0.000000000000000  Flow - Fixed Calculation Point   \n",
       "2     calc_4  24.699999999999999  Flow - Fixed Calculation Point   \n",
       "3     calc_6  27.000000000000000  Flow - Fixed Calculation Point   \n",
       "\n",
       "           PARENTID__ USERID____  X_________   Y_________  Z_________  \\\n",
       "0  SBK_GRIDPOINTFIXED             80423.3177  454347.0958         0.0   \n",
       "1  SBK_GRIDPOINTFIXED             80427.9324  454338.2494         0.0   \n",
       "2  SBK_GRIDPOINTFIXED             81859.9993  456551.2446         0.0   \n",
       "3  SBK_GRIDPOINTFIXED             82463.6157  456893.4409         0.0   \n",
       "\n",
       "   COLOR_____  HIS_FILE LOCATIES             PARAMETERS geometry  \n",
       "0   8388863.0   calcpnt   calc_1  Waterlevel mean (m AD     None  \n",
       "1   8388863.0   calcpnt   calc_2  Waterlevel mean (m AD     None  \n",
       "2   8388863.0  reachseg        1   Waterlevel slope MEA     None  \n",
       "3   8388863.0  reachseg        1  Discharge mean (m3/s)     None  "
      ]
     },
     "execution_count": 6,
     "metadata": {},
     "output_type": "execute_result"
    }
   ],
   "source": [
    "gdf.head()"
   ]
  },
  {
   "cell_type": "markdown",
   "metadata": {},
   "source": [
    "Te zien is dat de dbf behorende bij de shapefile heeft de kolom `his_file` met daarin de namen van de daarbij behorende his-file. In de `locaties` kolom staan de locaties of interest en in de kolom `parameters` staan de parameter welke van belang is. \n",
    "\n",
    "Deze drie koloms worden als shp_key gedefineerd:"
   ]
  },
  {
   "cell_type": "code",
   "execution_count": 7,
   "metadata": {},
   "outputs": [],
   "source": [
    "shp_hiskey = 'HIS_FILE'\n",
    "shp_locationkey = 'LOCATIES'\n",
    "shp_parameterkey = 'PARAMETERS'"
   ]
  },
  {
   "cell_type": "markdown",
   "metadata": {},
   "source": [
    "Voor demo doeleinden werken we verder met de eigenschappen van deze keys voor regel 2"
   ]
  },
  {
   "cell_type": "code",
   "execution_count": 8,
   "metadata": {},
   "outputs": [
    {
     "name": "stdout",
     "output_type": "stream",
     "text": [
      " his_file : reachseg\n",
      " location : 1\n",
      " parameter : Waterlevel slope MEA\n"
     ]
    }
   ],
   "source": [
    "row = 2\n",
    "his_file = gdf[shp_hiskey].iloc[row]\n",
    "location = gdf[shp_locationkey].iloc[row]\n",
    "parameter = gdf[shp_parameterkey].iloc[row]\n",
    "\n",
    "# selection of location and parameter through `read_his`\n",
    "# hkv.read_his.LeesMetadata(os.path.join(his_folder,'{0}.his'.format(his_file)))\n",
    "# parameter = hkv.read_his.KrijgParameters()[0]\n",
    "# locatie = hkv.read_his.KrijgLokaties()[40]\n",
    "\n",
    "print(' his_file : {0}\\n location : {1}\\n parameter : {2}'.format(his_file, location, parameter))"
   ]
  },
  {
   "cell_type": "markdown",
   "metadata": {},
   "source": [
    "Met de volgende commando kunnen we vervolgens een series uitlezen uit dit gedefineerde his-bestand"
   ]
  },
  {
   "cell_type": "code",
   "execution_count": 10,
   "metadata": {
    "scrolled": false
   },
   "outputs": [
    {
     "name": "stdout",
     "output_type": "stream",
     "text": [
      "Normalized unicode Waterlevel slope MEA matches Waterlevel slope mea\n"
     ]
    },
    {
     "data": {
      "text/html": [
       "<div>\n",
       "<style scoped>\n",
       "    .dataframe tbody tr th:only-of-type {\n",
       "        vertical-align: middle;\n",
       "    }\n",
       "\n",
       "    .dataframe tbody tr th {\n",
       "        vertical-align: top;\n",
       "    }\n",
       "\n",
       "    .dataframe thead tr th {\n",
       "        text-align: left;\n",
       "    }\n",
       "</style>\n",
       "<table border=\"1\" class=\"dataframe\">\n",
       "  <thead>\n",
       "    <tr>\n",
       "      <th>location</th>\n",
       "      <th>1</th>\n",
       "    </tr>\n",
       "    <tr>\n",
       "      <th>parameter</th>\n",
       "      <th>Waterlevel slope mea</th>\n",
       "    </tr>\n",
       "  </thead>\n",
       "  <tbody>\n",
       "    <tr>\n",
       "      <th>1950-01-01 00:00:00</th>\n",
       "      <td>-999.999023</td>\n",
       "    </tr>\n",
       "    <tr>\n",
       "      <th>1950-01-01 00:15:00</th>\n",
       "      <td>-999.999023</td>\n",
       "    </tr>\n",
       "    <tr>\n",
       "      <th>1950-01-01 00:30:00</th>\n",
       "      <td>-999.999023</td>\n",
       "    </tr>\n",
       "    <tr>\n",
       "      <th>1950-01-01 00:45:00</th>\n",
       "      <td>-999.999023</td>\n",
       "    </tr>\n",
       "    <tr>\n",
       "      <th>1950-01-01 01:00:00</th>\n",
       "      <td>-999.999023</td>\n",
       "    </tr>\n",
       "  </tbody>\n",
       "</table>\n",
       "</div>"
      ],
      "text/plain": [
       "location                               1\n",
       "parameter           Waterlevel slope mea\n",
       "1950-01-01 00:00:00          -999.999023\n",
       "1950-01-01 00:15:00          -999.999023\n",
       "1950-01-01 00:30:00          -999.999023\n",
       "1950-01-01 00:45:00          -999.999023\n",
       "1950-01-01 01:00:00          -999.999023"
      ]
     },
     "execution_count": 10,
     "metadata": {},
     "output_type": "execute_result"
    }
   ],
   "source": [
    "df_his = hkv.plausibility.read_his_series(his_file=his_file,\n",
    "                                          location=location,\n",
    "                                          parameter=parameter,\n",
    "                                          his_folder=his_folder, normalize_by_unicode=True, include_simularity=True, sequence_simularity=0.82)\n",
    "df_his.head()"
   ]
  },
  {
   "cell_type": "markdown",
   "metadata": {},
   "source": [
    "Informatie in het bui-bestand kunnen we op de volgende manier inlezen."
   ]
  },
  {
   "cell_type": "code",
   "execution_count": 11,
   "metadata": {},
   "outputs": [
    {
     "data": {
      "text/plain": [
       "<matplotlib.axes._subplots.AxesSubplot at 0x1b8defd0>"
      ]
     },
     "execution_count": 11,
     "metadata": {},
     "output_type": "execute_result"
    },
    {
     "data": {
      "image/png": "[encoded data removed]",
      "text/plain": [
       "<matplotlib.figure.Figure at 0x1b8de9e8>"
      ]
     },
     "metadata": {},
     "output_type": "display_data"
    }
   ],
   "source": [
    "# parse bui-file to pandas dataframe\n",
    "df_bui = hkv.read_bui(bui_file)\n",
    "\n",
    "# location to query\n",
    "bui_location = 'De Bilt'\n",
    "# yyyy-mm-dd:yyyy-mm-dd\n",
    "df_bui.loc['1950-01-01':'1950-01-08',bui_location].plot()"
   ]
  },
  {
   "cell_type": "markdown",
   "metadata": {},
   "source": [
    "Het resultaat is een DataFrame met in de kolommen de neerslag in mm voor de stations en in de rijen de waarnemingstijdstappen"
   ]
  },
  {
   "cell_type": "markdown",
   "metadata": {},
   "source": [
    "Om een combinatie plot te maken van bui-bestand en een his-bestand is het allereerst van belang om een aantal eigenschappen in te lezen."
   ]
  },
  {
   "cell_type": "code",
   "execution_count": 12,
   "metadata": {},
   "outputs": [],
   "source": [
    "bui_locations = ['De Bilt','Verdamping','De Bilt Test']\n",
    "df_bui_sel, start_his, end_his, df_bui_std, df_his_std = hkv.plausibility.prepare_bui_his(df_his, df_bui, bui_locations)"
   ]
  },
  {
   "cell_type": "code",
   "execution_count": 13,
   "metadata": {},
   "outputs": [],
   "source": [
    "out_folder =r'C:\\TOOL_waterstandstatistiek\\hkvsobekpy\\Data\\output\\plausib_boezem_out'"
   ]
  },
  {
   "cell_type": "code",
   "execution_count": 14,
   "metadata": {},
   "outputs": [
    {
     "data": {
      "image/png": "[encoded data removed]",
      "text/plain": [
       "<matplotlib.figure.Figure at 0x1b8f2e10>"
      ]
     },
     "metadata": {},
     "output_type": "display_data"
    }
   ],
   "source": [
    "hkv.plausibility.plot_bui_his(df_his, df_bui_sel, start_his, end_his, \n",
    "                              df_bui_std, df_his_std, his_file, \n",
    "                              parameter, location, out_folder, \n",
    "                              savefigure=False)"
   ]
  },
  {
   "cell_type": "markdown",
   "metadata": {},
   "source": [
    "En in tabel formaat"
   ]
  },
  {
   "cell_type": "code",
   "execution_count": null,
   "metadata": {},
   "outputs": [],
   "source": [
    "df_bui_his = hkv.plausibility.table_bui_his(df_his, df_bui_sel)\n",
    "df_bui_his.head()"
   ]
  },
  {
   "cell_type": "markdown",
   "metadata": {},
   "source": [
    "Al het bovenstaande kan ook automatsich weggeschreven worden naar de output folder. Binnen de output folder worden de afgeleide figuren weggeschreven."
   ]
  },
  {
   "cell_type": "code",
   "execution_count": null,
   "metadata": {},
   "outputs": [],
   "source": [
    "hkv.plausibility.EnsembleRunner(shp_file, bui_file, his_folder, out_folder, shp_hiskey, shp_locationkey, shp_parameterkey)"
   ]
  }
 ],
 "metadata": {
  "kernelspec": {
   "display_name": "Python 3",
   "language": "python",
   "name": "python3"
  },
  "language_info": {
   "codemirror_mode": {
    "name": "ipython",
    "version": 3
   },
   "file_extension": ".py",
   "mimetype": "text/x-python",
   "name": "python",
   "nbconvert_exporter": "python",
   "pygments_lexer": "ipython3",
   "version": "3.5.2"
  }
 },
 "nbformat": 4,
 "nbformat_minor": 2
}
