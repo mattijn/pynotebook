{
 "cells": [
  {
   "cell_type": "code",
   "execution_count": 22,
   "metadata": {
    "collapsed": true
   },
   "outputs": [],
   "source": [
    "import numpy as np\n",
    "import matplotlib.pyplot as plt\n",
    "%matplotlib inline"
   ]
  },
  {
   "cell_type": "code",
   "execution_count": 23,
   "metadata": {
    "collapsed": true
   },
   "outputs": [],
   "source": [
    "def getBeta(talud):\n",
    "    \"\"\"\n",
    "    return beta angle in radians based on talud helling\n",
    "    Parameters\n",
    "    ----------\n",
    "    talud:  type float\n",
    "    second term of a talud helling (eg. 1:talud)\n",
    "    \"\"\"\n",
    "    tal_deg = np.degrees(np.arctan(1 / talud))\n",
    "    beta = np.radians(tal_deg)     \n",
    "    return beta"
   ]
  },
  {
   "cell_type": "code",
   "execution_count": 24,
   "metadata": {
    "collapsed": false
   },
   "outputs": [
    {
     "data": {
      "text/plain": [
       "0.22984884706593015"
      ]
     },
     "execution_count": 24,
     "metadata": {},
     "output_type": "execute_result"
    }
   ],
   "source": [
    "np.sin(0.5)**2 # (1-np.cos(2*0.5))/2"
   ]
  },
  {
   "cell_type": "code",
   "execution_count": 33,
   "metadata": {
    "collapsed": false
   },
   "outputs": [],
   "source": [
    "g = 9.81\n",
    "f = 0.02\n",
    "beta = getBeta(3)\n",
    "v_0 = 1.0\n",
    "v = 0.0001\n",
    "h_0 = 0.5\n",
    "s_array = np.linspace(0,3,300)\n",
    "v_array = []\n",
    "\n",
    "for s in s_array:\n",
    "    h = (v_0*h_0)/v\n",
    "    k1 = np.sqrt((2*f*g*np.sin(beta))/h)\n",
    "    t = (v_0/(g*np.sin(beta))) + np.sqrt((v**2/(g**2*np.sin(beta)**2))+((2*s)/(g*np.sin(beta))))\n",
    "\n",
    "    v = (v_0+((k1*h)/f)*np.tanh((k1*t)/2))/(1+((f*v_0)/(h*k1))+np.tanh((k1*t)/2))\n",
    "    \n",
    "    v_array.append(v)"
   ]
  },
  {
   "cell_type": "code",
   "execution_count": 34,
   "metadata": {
    "collapsed": false
   },
   "outputs": [
    {
     "data": {
      "text/plain": [
       "[<matplotlib.lines.Line2D at 0x80fb240>]"
      ]
     },
     "execution_count": 34,
     "metadata": {},
     "output_type": "execute_result"
    },
    {
     "data": {
      "image/png": "[encoded data removed]",
      "text/plain": [
       "<matplotlib.figure.Figure at 0x7fa05c0>"
      ]
     },
     "metadata": {},
     "output_type": "display_data"
    }
   ],
   "source": [
    "plt.plot(s_array,v_array)"
   ]
  },
  {
   "cell_type": "code",
   "execution_count": null,
   "metadata": {
    "collapsed": true
   },
   "outputs": [],
   "source": []
  }
 ],
 "metadata": {
  "kernelspec": {
   "display_name": "Python 3",
   "language": "python",
   "name": "python3"
  },
  "language_info": {
   "codemirror_mode": {
    "name": "ipython",
    "version": 3
   },
   "file_extension": ".py",
   "mimetype": "text/x-python",
   "name": "python",
   "nbconvert_exporter": "python",
   "pygments_lexer": "ipython3",
   "version": "3.5.2"
  }
 },
 "nbformat": 4,
 "nbformat_minor": 2
}
