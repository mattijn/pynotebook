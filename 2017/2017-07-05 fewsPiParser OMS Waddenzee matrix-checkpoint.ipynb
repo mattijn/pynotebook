{
 "cells": [
  {
   "cell_type": "code",
   "execution_count": 34,
   "metadata": {
    "collapsed": false,
    "deletable": true,
    "editable": true
   },
   "outputs": [],
   "source": [
    "from hkvpy.fews import pi, dataportal\n",
    "from datetime import datetime\n",
    "import numpy as np\n",
    "%matplotlib inline"
   ]
  },
  {
   "cell_type": "code",
   "execution_count": 8,
   "metadata": {
    "collapsed": true
   },
   "outputs": [],
   "source": [
    "# get the locations as a geojson from the fewspiservice\n",
    "piService = 'http://www.oms-waddenzee.nl:8081/FewsPiService/fewspiservice?wsdl'\n",
    "pi.setClient(wsdl = piService)"
   ]
  },
  {
   "cell_type": "code",
   "execution_count": 13,
   "metadata": {
    "collapsed": false,
    "deletable": true,
    "editable": true
   },
   "outputs": [
    {
     "data": {
      "text/plain": [
       "{'f_werk': {'description': '',\n",
       "  'id': 'f_werk',\n",
       "  'name': 'Uitgevoerde werkzaamheden + peilingen'},\n",
       " 'f_werk_1': {'description': '',\n",
       "  'id': 'f_werk.1',\n",
       "  'name': 'Baggeren + Zandwinning + Agiteren (/baggervak)'},\n",
       " 'f_werk_2': {'description': '',\n",
       "  'id': 'f_werk.2',\n",
       "  'name': 'Verspreiden (/verspreidingsvak)'}}"
      ]
     },
     "execution_count": 13,
     "metadata": {},
     "output_type": "execute_result"
    }
   ],
   "source": [
    "vars(pi.getFilters())"
   ]
  },
  {
   "cell_type": "code",
   "execution_count": 15,
   "metadata": {
    "collapsed": false,
    "deletable": true,
    "editable": true
   },
   "outputs": [
    {
     "data": {
      "text/plain": [
       "<matplotlib.axes._subplots.AxesSubplot at 0xad574e0>"
      ]
     },
     "execution_count": 15,
     "metadata": {},
     "output_type": "execute_result"
    },
    {
     "data": {
      "image/png": "[encoded data removed]",
      "text/plain": [
       "<matplotlib.figure.Figure at 0xad41c88>"
      ]
     },
     "metadata": {},
     "output_type": "display_data"
    }
   ],
   "source": [
    "filterId = 'f_werk.1'#'f_werk.1' \n",
    "piVersion = '1.22'\n",
    "gdf = pi.getLocations(filterId=filterId, piVersion=piVersion, setFormat='gdf')\n",
    "locationIds = gdf.locationId.tolist()\n",
    "\n",
    "gdf.geometry.plot()"
   ]
  },
  {
   "cell_type": "code",
   "execution_count": 24,
   "metadata": {
    "collapsed": false,
    "deletable": true,
    "editable": true
   },
   "outputs": [
    {
     "name": "stdout",
     "output_type": "stream",
     "text": [
      "['bv.1.7.1.1', 'bv.1.7.1.1.1.1', 'bv.1.7.1.1.1.2', 'bv.1.7.1.1.1.3', 'bv.1.7.1.1.2.1', 'bv.1.7.1.1.2.2', 'bv.1.7.1.1.2.3', 'bv.1.7.1.1.2.4', 'bv.1.7.1.1.2.5', 'bv.1.7.1.1.2.6', 'bv.1.7.1.2', 'bv.1.7.1.3.1', 'bv.1.7.1.3.1.A', 'bv.1.7.1.3.1.B', 'bv.1.7.1.3.2.1', 'bv.1.7.1.3.2.2', 'bv.1.7.1.3.2.3', 'bv.1.7.1.3.2.4', 'bv.1.7.1.3.2.5', 'bv.1.7.1.3.2.6', 'bv.1.7.1.3.2.7', 'bv.1.7.1.3.2.8', 'bv.1.7.1.4.1.1', 'bv.1.7.1.4.1.2', 'bv.1.7.1.4.1.3', 'bv.1.7.1.4.1.4', 'bv.1.7.1.4.1.5', 'bv.1.7.1.4.2', 'bv.1.7.1.4.A', 'bv.1.7.1.4.B', 'bv.1.7.1.4.C', 'bv.1.7.1.5.1.A', 'bv.1.7.1.5.1.B', 'bv.1.7.1.5.1.C', 'bv.1.7.1.5.1.D', 'bv.1.7.1.5.1.E', 'bv.1.7.1.5.1.F', 'bv.1.7.1.5.1.G', 'bv.1.7.1.5.1.H', 'bv.1.7.1.5.1.I', 'bv.1.7.1.5.1.J', 'bv.1.7.1.5.1.K', 'bv.1.7.1.5.1.L', 'bv.1.7.1.5.1.M', 'bv.1.7.1.5.1.N', 'bv.1.7.1.5.1.O', 'bv.1.7.1.5.2', 'bv.1.7.1.5.3', 'bv.1.7.2.1.1', 'bv.1.7.2.1.1.A', 'bv.1.7.2.1.1.B', 'bv.1.7.2.1.2.1', 'bv.1.7.2.1.2.2', 'bv.1.7.2.2.1', 'bv.1.7.2.2.1.A', 'bv.1.7.2.2.1.B', 'bv.1.7.2.2.2.1', 'bv.1.7.2.2.2.2', 'bv.1.7.2.2.3.1', 'bv.1.7.2.2.3.2', 'bv.1.7.2.3.1', 'bv.1.7.2.3.1.A', 'bv.1.7.2.3.1.B', 'bv.1.7.2.3.1.C', 'bv.1.7.2.3.1.D', 'bv.1.7.2.3.2', 'bv.1.7.2.3.3', 'bv.1.7.3.1.1', 'bv.1.7.3.1.2.A', 'bv.1.7.3.1.2.B', 'bv.1.7.3.1.3', 'bv.1.7.3.1.4.1', 'bv.1.7.3.1.4.2', 'bv.1.7.3.1.4.3', 'bv.1.7.3.1.5.1', 'bv.1.7.3.1.5.2', 'bv.1.7.3.1.5.3', 'bv.1.7.3.1.5.4', 'bv.1.7.3.1.5.5', 'bv.1.7.3.1.A', 'bv.1.7.3.1.B', 'bv.1.7.3.1.C', 'bv.1.7.3.2.1.1', 'bv.1.7.3.2.1.2', 'bv.1.7.3.2.A', 'bv.1.7.4.1.1', 'bv.1.7.4.1.1.A', 'bv.1.7.4.1.1.B', 'bv.1.7.4.1.2', 'bv.1.7.4.1.3.1.A', 'bv.1.7.4.1.3.1.B', 'bv.1.7.4.1.3.2.A', 'bv.1.7.4.1.3.2.B', 'bv.1.7.4.1.3.3', 'bv.1.7.4.1.4.1', 'bv.1.7.4.1.4.2', 'bv.1.7.4.1.4.3', 'bv.1.7.4.2', 'bv.1.7.5.1', 'bv.1.7.6.2']\n"
     ]
    }
   ],
   "source": [
    "startTime = datetime(2017,6,2,1,0,0,0, tzinfo=pi.utils.utc_offset(0*60*60))\n",
    "endTime =  datetime(2017,6,11,2,0,0,0, tzinfo=pi.utils.utc_offset(0*60*60))\n",
    "parameterIds = ['k.m3.gebaggerd.vdlee']#,'k.m3.verspreid.vdlee']\n",
    "moduleInstanceIds = ['pr.Reizen.vdLee.baggeracties']#,'pr.Reizen.vdLee.verspreidingsacties']\n",
    "print (locationIds)"
   ]
  },
  {
   "cell_type": "code",
   "execution_count": 35,
   "metadata": {
    "collapsed": false,
    "deletable": true,
    "editable": true
   },
   "outputs": [],
   "source": [
    "df, entry = pi.getTimeSeries(filterId, parameterIds, locationIds,startTime,endTime, setFormat='df')"
   ]
  },
  {
   "cell_type": "code",
   "execution_count": 36,
   "metadata": {
    "collapsed": false,
    "deletable": true,
    "editable": true
   },
   "outputs": [],
   "source": [
    "# method to get year/week labels with an sum aggregation\n",
    "df['value'].replace(-999.0,np.NaN, inplace = True)\n",
    "kw = lambda x: x.isocalendar()[1]; \n",
    "kw_year = lambda x: str(x.year) + ' - ' + str(x.isocalendar()[1])\n",
    "level_values = df.index.get_level_values\n",
    "grouped = (df.groupby([level_values(i) for i in [1,2,3,4,5]]+[level_values(0).map(kw_year)], sort=False,as_index=True ).agg({'value': 'sum'}))\n",
    "grouped.index.rename(names='date', level=5, inplace=True)"
   ]
  },
  {
   "cell_type": "code",
   "execution_count": 37,
   "metadata": {
    "collapsed": false,
    "deletable": true,
    "editable": true
   },
   "outputs": [
    {
     "data": {
      "text/html": [
       "<div>\n",
       "<table border=\"1\" class=\"dataframe\">\n",
       "  <thead>\n",
       "    <tr style=\"text-align: right;\">\n",
       "      <th></th>\n",
       "      <th></th>\n",
       "      <th></th>\n",
       "      <th></th>\n",
       "      <th></th>\n",
       "      <th></th>\n",
       "      <th>value</th>\n",
       "    </tr>\n",
       "    <tr>\n",
       "      <th>moduleId</th>\n",
       "      <th>parameterId</th>\n",
       "      <th>units</th>\n",
       "      <th>locationId</th>\n",
       "      <th>stationName</th>\n",
       "      <th>date</th>\n",
       "      <th></th>\n",
       "    </tr>\n",
       "  </thead>\n",
       "  <tbody>\n",
       "    <tr>\n",
       "      <th rowspan=\"61\" valign=\"top\">pr.Reizen.vdLee.baggeracties</th>\n",
       "      <th rowspan=\"61\" valign=\"top\">k.m3.gebaggerd.vdlee</th>\n",
       "      <th rowspan=\"61\" valign=\"top\">m3</th>\n",
       "      <th>bv.1.7.1.1</th>\n",
       "      <th>Den Helder - Texel, Vaarweg</th>\n",
       "      <th>2017 - 22</th>\n",
       "      <td>NaN</td>\n",
       "    </tr>\n",
       "    <tr>\n",
       "      <th>bv.1.7.1.1.1.1</th>\n",
       "      <th>Den Helder veerhaven, Vak A</th>\n",
       "      <th>2017 - 22</th>\n",
       "      <td>NaN</td>\n",
       "    </tr>\n",
       "    <tr>\n",
       "      <th>bv.1.7.1.1.1.2</th>\n",
       "      <th>Den Helder veerhaven, Vak B</th>\n",
       "      <th>2017 - 22</th>\n",
       "      <td>NaN</td>\n",
       "    </tr>\n",
       "    <tr>\n",
       "      <th>bv.1.7.1.1.1.3</th>\n",
       "      <th>Den Helder veerhaven, Vak C</th>\n",
       "      <th>2017 - 22</th>\n",
       "      <td>NaN</td>\n",
       "    </tr>\n",
       "    <tr>\n",
       "      <th>bv.1.7.1.1.2.1</th>\n",
       "      <th>Texel veerhaven, Vak A</th>\n",
       "      <th>2017 - 22</th>\n",
       "      <td>NaN</td>\n",
       "    </tr>\n",
       "    <tr>\n",
       "      <th>bv.1.7.1.1.2.2</th>\n",
       "      <th>Texel veerhaven, Vak B</th>\n",
       "      <th>2017 - 22</th>\n",
       "      <td>NaN</td>\n",
       "    </tr>\n",
       "    <tr>\n",
       "      <th>bv.1.7.1.1.2.3</th>\n",
       "      <th>Texel veerhaven, Vak C</th>\n",
       "      <th>2017 - 22</th>\n",
       "      <td>NaN</td>\n",
       "    </tr>\n",
       "    <tr>\n",
       "      <th>bv.1.7.1.1.2.4</th>\n",
       "      <th>Texel veerhaven, Vak D</th>\n",
       "      <th>2017 - 22</th>\n",
       "      <td>NaN</td>\n",
       "    </tr>\n",
       "    <tr>\n",
       "      <th>bv.1.7.1.1.2.5</th>\n",
       "      <th>Texel veerhaven, Vak E</th>\n",
       "      <th>2017 - 22</th>\n",
       "      <td>NaN</td>\n",
       "    </tr>\n",
       "    <tr>\n",
       "      <th>bv.1.7.1.1.2.6</th>\n",
       "      <th>Texel veerhaven, Vak F</th>\n",
       "      <th>2017 - 22</th>\n",
       "      <td>NaN</td>\n",
       "    </tr>\n",
       "    <tr>\n",
       "      <th>bv.1.7.1.2</th>\n",
       "      <th>Den Helder - Noordzee</th>\n",
       "      <th>2017 - 22</th>\n",
       "      <td>NaN</td>\n",
       "    </tr>\n",
       "    <tr>\n",
       "      <th>bv.1.7.1.3.1</th>\n",
       "      <th>Visjagersgaatje</th>\n",
       "      <th>2017 - 22</th>\n",
       "      <td>NaN</td>\n",
       "    </tr>\n",
       "    <tr>\n",
       "      <th>bv.1.7.1.3.1.A</th>\n",
       "      <th>Den Helder - Den Oever, Malzwin</th>\n",
       "      <th>2017 - 22</th>\n",
       "      <td>NaN</td>\n",
       "    </tr>\n",
       "    <tr>\n",
       "      <th>bv.1.7.1.3.1.B</th>\n",
       "      <th>Den Helder - Den Oever, Visjagersgaatje -Den Oever</th>\n",
       "      <th>2017 - 22</th>\n",
       "      <td>NaN</td>\n",
       "    </tr>\n",
       "    <tr>\n",
       "      <th>bv.1.7.1.3.2.1</th>\n",
       "      <th>Den Oever, Toegangsgeul</th>\n",
       "      <th>2017 - 22</th>\n",
       "      <td>9384.0</td>\n",
       "    </tr>\n",
       "    <tr>\n",
       "      <th>bv.1.7.1.3.2.2</th>\n",
       "      <th>Den Oever, Buitenhaven</th>\n",
       "      <th>2017 - 22</th>\n",
       "      <td>7543.0</td>\n",
       "    </tr>\n",
       "    <tr>\n",
       "      <th>bv.1.7.1.3.2.3</th>\n",
       "      <th>Den Oever, Voorhaven</th>\n",
       "      <th>2017 - 22</th>\n",
       "      <td>NaN</td>\n",
       "    </tr>\n",
       "    <tr>\n",
       "      <th>bv.1.7.1.3.2.4</th>\n",
       "      <th>Den Oever, Noorderhaven</th>\n",
       "      <th>2017 - 22</th>\n",
       "      <td>NaN</td>\n",
       "    </tr>\n",
       "    <tr>\n",
       "      <th>bv.1.7.1.3.2.5</th>\n",
       "      <th>Den Oever, Waddenhaven</th>\n",
       "      <th>2017 - 22</th>\n",
       "      <td>NaN</td>\n",
       "    </tr>\n",
       "    <tr>\n",
       "      <th>bv.1.7.1.3.2.6</th>\n",
       "      <th>Den Oever, Vissershaven</th>\n",
       "      <th>2017 - 22</th>\n",
       "      <td>NaN</td>\n",
       "    </tr>\n",
       "    <tr>\n",
       "      <th>bv.1.7.1.3.2.7</th>\n",
       "      <th>Den Oever, Bodem bij remmingwerken / steiger</th>\n",
       "      <th>2017 - 22</th>\n",
       "      <td>NaN</td>\n",
       "    </tr>\n",
       "    <tr>\n",
       "      <th>bv.1.7.1.3.2.8</th>\n",
       "      <th>Den Oever, Bodem bij beweegbare brug / sluis</th>\n",
       "      <th>2017 - 22</th>\n",
       "      <td>NaN</td>\n",
       "    </tr>\n",
       "    <tr>\n",
       "      <th>bv.1.7.1.4.1.1</th>\n",
       "      <th>Kornwerderzand, Toegangsgeul</th>\n",
       "      <th>2017 - 22</th>\n",
       "      <td>NaN</td>\n",
       "    </tr>\n",
       "    <tr>\n",
       "      <th>bv.1.7.1.4.1.2</th>\n",
       "      <th>Kornwerderzand, Buitenhaven</th>\n",
       "      <th>2017 - 22</th>\n",
       "      <td>NaN</td>\n",
       "    </tr>\n",
       "    <tr>\n",
       "      <th>bv.1.7.1.4.1.3</th>\n",
       "      <th>Kornwerderzand, Voorhaven</th>\n",
       "      <th>2017 - 22</th>\n",
       "      <td>NaN</td>\n",
       "    </tr>\n",
       "    <tr>\n",
       "      <th>bv.1.7.1.4.1.4</th>\n",
       "      <th>Kornwerderzand, Bodem bij remmingwerken / steiger</th>\n",
       "      <th>2017 - 22</th>\n",
       "      <td>NaN</td>\n",
       "    </tr>\n",
       "    <tr>\n",
       "      <th>bv.1.7.1.4.1.5</th>\n",
       "      <th>Kornwerderzand, Bodem bij beweegbare brug / sluis</th>\n",
       "      <th>2017 - 22</th>\n",
       "      <td>NaN</td>\n",
       "    </tr>\n",
       "    <tr>\n",
       "      <th>bv.1.7.1.4.2</th>\n",
       "      <th>Breezanddijk Noorderhaven</th>\n",
       "      <th>2017 - 22</th>\n",
       "      <td>NaN</td>\n",
       "    </tr>\n",
       "    <tr>\n",
       "      <th>bv.1.7.1.4.A</th>\n",
       "      <th>Den Helder - Kornwerderzand, Texelstroom</th>\n",
       "      <th>2017 - 22</th>\n",
       "      <td>NaN</td>\n",
       "    </tr>\n",
       "    <tr>\n",
       "      <th>bv.1.7.1.4.B</th>\n",
       "      <th>Den Helder - Kornwerderzand, Doove Balg</th>\n",
       "      <th>2017 - 22</th>\n",
       "      <td>NaN</td>\n",
       "    </tr>\n",
       "    <tr>\n",
       "      <th>bv.1.7.1.4.B</th>\n",
       "      <th>Den Helder - Kornwerderzand, Doove Balg</th>\n",
       "      <th>...</th>\n",
       "      <td>...</td>\n",
       "    </tr>\n",
       "    <tr>\n",
       "      <th>bv.1.7.1.4.B</th>\n",
       "      <th>Den Helder - Kornwerderzand, Doove Balg</th>\n",
       "      <th>...</th>\n",
       "      <td>NaN</td>\n",
       "    </tr>\n",
       "    <tr>\n",
       "      <th>bv.1.7.1.4.B</th>\n",
       "      <th>Den Helder - Kornwerderzand, Doove Balg</th>\n",
       "      <th>...</th>\n",
       "      <td>NaN</td>\n",
       "    </tr>\n",
       "    <tr>\n",
       "      <th>bv.1.7.3.1.3</th>\n",
       "      <th>Reegeul</th>\n",
       "      <th>2017 - 24</th>\n",
       "      <td>NaN</td>\n",
       "    </tr>\n",
       "    <tr>\n",
       "      <th>bv.1.7.3.1.4.1</th>\n",
       "      <th>Holwerd, Veerdienst deel</th>\n",
       "      <th>2017 - 24</th>\n",
       "      <td>NaN</td>\n",
       "    </tr>\n",
       "    <tr>\n",
       "      <th>bv.1.7.3.1.4.2</th>\n",
       "      <th>Holwerd, Rijkssteiger</th>\n",
       "      <th>2017 - 24</th>\n",
       "      <td>NaN</td>\n",
       "    </tr>\n",
       "    <tr>\n",
       "      <th>bv.1.7.3.1.4.3</th>\n",
       "      <th>Holwerd, Westkant</th>\n",
       "      <th>2017 - 24</th>\n",
       "      <td>NaN</td>\n",
       "    </tr>\n",
       "    <tr>\n",
       "      <th>bv.1.7.3.1.5.1</th>\n",
       "      <th>Nes, Veerdienst deel</th>\n",
       "      <th>2017 - 24</th>\n",
       "      <td>NaN</td>\n",
       "    </tr>\n",
       "    <tr>\n",
       "      <th>bv.1.7.3.1.5.2</th>\n",
       "      <th>Nes, Voormalige rijkssteiger</th>\n",
       "      <th>2017 - 24</th>\n",
       "      <td>NaN</td>\n",
       "    </tr>\n",
       "    <tr>\n",
       "      <th>bv.1.7.3.1.5.3</th>\n",
       "      <th>Nes, Toegangsgeul</th>\n",
       "      <th>2017 - 24</th>\n",
       "      <td>NaN</td>\n",
       "    </tr>\n",
       "    <tr>\n",
       "      <th>bv.1.7.3.1.5.4</th>\n",
       "      <th>Nes, Oostkant</th>\n",
       "      <th>2017 - 24</th>\n",
       "      <td>NaN</td>\n",
       "    </tr>\n",
       "    <tr>\n",
       "      <th>bv.1.7.3.1.5.5</th>\n",
       "      <th>Nes, Jachthaven Nes Ameland</th>\n",
       "      <th>2017 - 24</th>\n",
       "      <td>NaN</td>\n",
       "    </tr>\n",
       "    <tr>\n",
       "      <th>bv.1.7.3.1.A</th>\n",
       "      <th>Holwerd - Ameland, VA13 - VA25</th>\n",
       "      <th>2017 - 24</th>\n",
       "      <td>NaN</td>\n",
       "    </tr>\n",
       "    <tr>\n",
       "      <th>bv.1.7.3.1.B</th>\n",
       "      <th>Holwerd - Ameland, VA9 - VA6</th>\n",
       "      <th>2017 - 24</th>\n",
       "      <td>NaN</td>\n",
       "    </tr>\n",
       "    <tr>\n",
       "      <th>bv.1.7.3.1.C</th>\n",
       "      <th>Holwerd - Ameland, VA4 - Reegeul</th>\n",
       "      <th>2017 - 24</th>\n",
       "      <td>NaN</td>\n",
       "    </tr>\n",
       "    <tr>\n",
       "      <th>bv.1.7.3.2.1.1</th>\n",
       "      <th>Ballumerbocht, Loswal</th>\n",
       "      <th>2017 - 24</th>\n",
       "      <td>NaN</td>\n",
       "    </tr>\n",
       "    <tr>\n",
       "      <th>bv.1.7.3.2.1.2</th>\n",
       "      <th>Ballumerbocht, Vaargeul</th>\n",
       "      <th>2017 - 24</th>\n",
       "      <td>NaN</td>\n",
       "    </tr>\n",
       "    <tr>\n",
       "      <th>bv.1.7.3.2.A</th>\n",
       "      <th>Ameland - Noordzee</th>\n",
       "      <th>2017 - 24</th>\n",
       "      <td>NaN</td>\n",
       "    </tr>\n",
       "    <tr>\n",
       "      <th>bv.1.7.4.1.1</th>\n",
       "      <th>Glinder</th>\n",
       "      <th>2017 - 24</th>\n",
       "      <td>NaN</td>\n",
       "    </tr>\n",
       "    <tr>\n",
       "      <th>bv.1.7.4.1.1.A</th>\n",
       "      <th>Lauwersoog - Glinder</th>\n",
       "      <th>2017 - 24</th>\n",
       "      <td>NaN</td>\n",
       "    </tr>\n",
       "    <tr>\n",
       "      <th>bv.1.7.4.1.1.B</th>\n",
       "      <th>Glinder - Groote Siege</th>\n",
       "      <th>2017 - 24</th>\n",
       "      <td>NaN</td>\n",
       "    </tr>\n",
       "    <tr>\n",
       "      <th>bv.1.7.4.1.2</th>\n",
       "      <th>Groote Siege</th>\n",
       "      <th>2017 - 24</th>\n",
       "      <td>NaN</td>\n",
       "    </tr>\n",
       "    <tr>\n",
       "      <th>bv.1.7.4.1.3.1.A</th>\n",
       "      <th>Schiermonnikoog, Veerdienst deel zuid</th>\n",
       "      <th>2017 - 24</th>\n",
       "      <td>NaN</td>\n",
       "    </tr>\n",
       "    <tr>\n",
       "      <th>bv.1.7.4.1.3.1.B</th>\n",
       "      <th>Schiermonnikoog, Zuidkant Veerdam KNRM</th>\n",
       "      <th>2017 - 24</th>\n",
       "      <td>NaN</td>\n",
       "    </tr>\n",
       "    <tr>\n",
       "      <th>bv.1.7.4.1.3.2.A</th>\n",
       "      <th>Schiermonnikoog, Veerdienst deel noord</th>\n",
       "      <th>2017 - 24</th>\n",
       "      <td>NaN</td>\n",
       "    </tr>\n",
       "    <tr>\n",
       "      <th>bv.1.7.4.1.3.2.B</th>\n",
       "      <th>Schiermonnikoog, Noordkant KNRM Ponton</th>\n",
       "      <th>2017 - 24</th>\n",
       "      <td>NaN</td>\n",
       "    </tr>\n",
       "    <tr>\n",
       "      <th>bv.1.7.4.1.3.3</th>\n",
       "      <th>Schiermonnikoog, Jachthaven</th>\n",
       "      <th>2017 - 24</th>\n",
       "      <td>NaN</td>\n",
       "    </tr>\n",
       "    <tr>\n",
       "      <th>bv.1.7.4.1.4.1</th>\n",
       "      <th>Lauwersoog, Veerdienst deel</th>\n",
       "      <th>2017 - 24</th>\n",
       "      <td>NaN</td>\n",
       "    </tr>\n",
       "    <tr>\n",
       "      <th>bv.1.7.4.1.4.2</th>\n",
       "      <th>Lauwersoog, Toegangsgeul</th>\n",
       "      <th>2017 - 24</th>\n",
       "      <td>NaN</td>\n",
       "    </tr>\n",
       "    <tr>\n",
       "      <th>bv.1.7.4.1.4.3</th>\n",
       "      <th>Lauwersoog, Visserijhaven</th>\n",
       "      <th>2017 - 24</th>\n",
       "      <td>NaN</td>\n",
       "    </tr>\n",
       "    <tr>\n",
       "      <th>bv.1.7.4.2</th>\n",
       "      <th>Lauwersoog - Noordzee</th>\n",
       "      <th>2017 - 24</th>\n",
       "      <td>NaN</td>\n",
       "    </tr>\n",
       "  </tbody>\n",
       "</table>\n",
       "<p>300 rows × 1 columns</p>\n",
       "</div>"
      ],
      "text/plain": [
       "                                                                                                                                        value\n",
       "moduleId                     parameterId          units locationId       stationName                                        date             \n",
       "pr.Reizen.vdLee.baggeracties k.m3.gebaggerd.vdlee m3    bv.1.7.1.1       Den Helder - Texel, Vaarweg                        2017 - 22     NaN\n",
       "                                                        bv.1.7.1.1.1.1   Den Helder veerhaven, Vak A                        2017 - 22     NaN\n",
       "                                                        bv.1.7.1.1.1.2   Den Helder veerhaven, Vak B                        2017 - 22     NaN\n",
       "                                                        bv.1.7.1.1.1.3   Den Helder veerhaven, Vak C                        2017 - 22     NaN\n",
       "                                                        bv.1.7.1.1.2.1   Texel veerhaven, Vak A                             2017 - 22     NaN\n",
       "                                                        bv.1.7.1.1.2.2   Texel veerhaven, Vak B                             2017 - 22     NaN\n",
       "                                                        bv.1.7.1.1.2.3   Texel veerhaven, Vak C                             2017 - 22     NaN\n",
       "                                                        bv.1.7.1.1.2.4   Texel veerhaven, Vak D                             2017 - 22     NaN\n",
       "                                                        bv.1.7.1.1.2.5   Texel veerhaven, Vak E                             2017 - 22     NaN\n",
       "                                                        bv.1.7.1.1.2.6   Texel veerhaven, Vak F                             2017 - 22     NaN\n",
       "                                                        bv.1.7.1.2       Den Helder - Noordzee                              2017 - 22     NaN\n",
       "                                                        bv.1.7.1.3.1     Visjagersgaatje                                    2017 - 22     NaN\n",
       "                                                        bv.1.7.1.3.1.A   Den Helder - Den Oever, Malzwin                    2017 - 22     NaN\n",
       "                                                        bv.1.7.1.3.1.B   Den Helder - Den Oever, Visjagersgaatje -Den Oever 2017 - 22     NaN\n",
       "                                                        bv.1.7.1.3.2.1   Den Oever, Toegangsgeul                            2017 - 22  9384.0\n",
       "                                                        bv.1.7.1.3.2.2   Den Oever, Buitenhaven                             2017 - 22  7543.0\n",
       "                                                        bv.1.7.1.3.2.3   Den Oever, Voorhaven                               2017 - 22     NaN\n",
       "                                                        bv.1.7.1.3.2.4   Den Oever, Noorderhaven                            2017 - 22     NaN\n",
       "                                                        bv.1.7.1.3.2.5   Den Oever, Waddenhaven                             2017 - 22     NaN\n",
       "                                                        bv.1.7.1.3.2.6   Den Oever, Vissershaven                            2017 - 22     NaN\n",
       "                                                        bv.1.7.1.3.2.7   Den Oever, Bodem bij remmingwerken / steiger       2017 - 22     NaN\n",
       "                                                        bv.1.7.1.3.2.8   Den Oever, Bodem bij beweegbare brug / sluis       2017 - 22     NaN\n",
       "                                                        bv.1.7.1.4.1.1   Kornwerderzand, Toegangsgeul                       2017 - 22     NaN\n",
       "                                                        bv.1.7.1.4.1.2   Kornwerderzand, Buitenhaven                        2017 - 22     NaN\n",
       "                                                        bv.1.7.1.4.1.3   Kornwerderzand, Voorhaven                          2017 - 22     NaN\n",
       "                                                        bv.1.7.1.4.1.4   Kornwerderzand, Bodem bij remmingwerken / steiger  2017 - 22     NaN\n",
       "                                                        bv.1.7.1.4.1.5   Kornwerderzand, Bodem bij beweegbare brug / sluis  2017 - 22     NaN\n",
       "                                                        bv.1.7.1.4.2     Breezanddijk Noorderhaven                          2017 - 22     NaN\n",
       "                                                        bv.1.7.1.4.A     Den Helder - Kornwerderzand, Texelstroom           2017 - 22     NaN\n",
       "                                                        bv.1.7.1.4.B     Den Helder - Kornwerderzand, Doove Balg            2017 - 22     NaN\n",
       "...                                                                                                                                       ...\n",
       "                                                        bv.1.7.3.1.3     Reegeul                                            2017 - 24     NaN\n",
       "                                                        bv.1.7.3.1.4.1   Holwerd, Veerdienst deel                           2017 - 24     NaN\n",
       "                                                        bv.1.7.3.1.4.2   Holwerd, Rijkssteiger                              2017 - 24     NaN\n",
       "                                                        bv.1.7.3.1.4.3   Holwerd, Westkant                                  2017 - 24     NaN\n",
       "                                                        bv.1.7.3.1.5.1   Nes, Veerdienst deel                               2017 - 24     NaN\n",
       "                                                        bv.1.7.3.1.5.2   Nes, Voormalige rijkssteiger                       2017 - 24     NaN\n",
       "                                                        bv.1.7.3.1.5.3   Nes, Toegangsgeul                                  2017 - 24     NaN\n",
       "                                                        bv.1.7.3.1.5.4   Nes, Oostkant                                      2017 - 24     NaN\n",
       "                                                        bv.1.7.3.1.5.5   Nes, Jachthaven Nes Ameland                        2017 - 24     NaN\n",
       "                                                        bv.1.7.3.1.A     Holwerd - Ameland, VA13 - VA25                     2017 - 24     NaN\n",
       "                                                        bv.1.7.3.1.B     Holwerd - Ameland, VA9 - VA6                       2017 - 24     NaN\n",
       "                                                        bv.1.7.3.1.C     Holwerd - Ameland, VA4 - Reegeul                   2017 - 24     NaN\n",
       "                                                        bv.1.7.3.2.1.1   Ballumerbocht, Loswal                              2017 - 24     NaN\n",
       "                                                        bv.1.7.3.2.1.2   Ballumerbocht, Vaargeul                            2017 - 24     NaN\n",
       "                                                        bv.1.7.3.2.A     Ameland - Noordzee                                 2017 - 24     NaN\n",
       "                                                        bv.1.7.4.1.1     Glinder                                            2017 - 24     NaN\n",
       "                                                        bv.1.7.4.1.1.A   Lauwersoog - Glinder                               2017 - 24     NaN\n",
       "                                                        bv.1.7.4.1.1.B   Glinder - Groote Siege                             2017 - 24     NaN\n",
       "                                                        bv.1.7.4.1.2     Groote Siege                                       2017 - 24     NaN\n",
       "                                                        bv.1.7.4.1.3.1.A Schiermonnikoog, Veerdienst deel zuid              2017 - 24     NaN\n",
       "                                                        bv.1.7.4.1.3.1.B Schiermonnikoog, Zuidkant Veerdam KNRM             2017 - 24     NaN\n",
       "                                                        bv.1.7.4.1.3.2.A Schiermonnikoog, Veerdienst deel noord             2017 - 24     NaN\n",
       "                                                        bv.1.7.4.1.3.2.B Schiermonnikoog, Noordkant KNRM Ponton             2017 - 24     NaN\n",
       "                                                        bv.1.7.4.1.3.3   Schiermonnikoog, Jachthaven                        2017 - 24     NaN\n",
       "                                                        bv.1.7.4.1.4.1   Lauwersoog, Veerdienst deel                        2017 - 24     NaN\n",
       "                                                        bv.1.7.4.1.4.2   Lauwersoog, Toegangsgeul                           2017 - 24     NaN\n",
       "                                                        bv.1.7.4.1.4.3   Lauwersoog, Visserijhaven                          2017 - 24     NaN\n",
       "                                                        bv.1.7.4.2       Lauwersoog - Noordzee                              2017 - 24     NaN\n",
       "                                                        bv.1.7.5.1       Haven Noordpolderzijl, Havendeel                   2017 - 24     NaN\n",
       "                                                        bv.1.7.6.2       Schanskerdiep                                      2017 - 24     NaN\n",
       "\n",
       "[300 rows x 1 columns]"
      ]
     },
     "execution_count": 37,
     "metadata": {},
     "output_type": "execute_result"
    }
   ],
   "source": [
    "grouped"
   ]
  },
  {
   "cell_type": "code",
   "execution_count": null,
   "metadata": {
    "collapsed": false,
    "deletable": true,
    "editable": true
   },
   "outputs": [],
   "source": [
    "stacked = pd.read_json(piTimeseries)\n",
    "stacked['value'].replace(-999.0,np.NaN, inplace=True)"
   ]
  },
  {
   "cell_type": "code",
   "execution_count": null,
   "metadata": {
    "collapsed": false,
    "deletable": true,
    "editable": true
   },
   "outputs": [],
   "source": [
    "stacked.head()"
   ]
  },
  {
   "cell_type": "code",
   "execution_count": null,
   "metadata": {
    "collapsed": false,
    "deletable": true,
    "editable": true
   },
   "outputs": [],
   "source": [
    "np.unique(stacked.moduleId), stacked.shape"
   ]
  },
  {
   "cell_type": "code",
   "execution_count": null,
   "metadata": {
    "collapsed": false,
    "deletable": true,
    "editable": true
   },
   "outputs": [],
   "source": [
    "from altair import *\n",
    "# Define a custom colormape using Hex codes & HTML color names\n",
    "colormap = Scale(domain=['nan', 0, 100, 200, 350, 1000, 3000],\n",
    "                 range=['white', '#F0F8FF', 'cornflowerblue',\n",
    "                        'mediumseagreen', '#FFEE00', 'darkorange', 'firebrick'])\n",
    "\n",
    "# Define our chart with aesthetic customizations\n",
    "chart = Chart(stacked).mark_text(\n",
    "    applyColorToBackground=True,\n",
    ").encode(\n",
    "    Column('date'),#,axis=Axis(values=date_axes_values, title=' ')),\n",
    "    Row('stationName'),# axis=Axis(title='location')),\n",
    "    Color('sum(value)', scale=colormap,\n",
    "          legend=Legend(title='legend label',\n",
    "                        values=[0, 1000, 2000, 3000])),\n",
    "    Text(value=' ')\n",
    ").configure_scale(\n",
    "    textBandWidth=10,\n",
    "    bandSize=10\n",
    ")\n",
    "\n",
    "json = chart.to_dict()\n",
    "\n",
    "Chart.from_dict(json).display()\n",
    "#chart2.display()"
   ]
  },
  {
   "cell_type": "code",
   "execution_count": null,
   "metadata": {
    "collapsed": true,
    "deletable": true,
    "editable": true
   },
   "outputs": [],
   "source": [
    "#set HKV database\n",
    "import requests\n",
    "import json"
   ]
  },
  {
   "cell_type": "code",
   "execution_count": null,
   "metadata": {
    "collapsed": false,
    "deletable": true,
    "editable": true
   },
   "outputs": [],
   "source": [
    "# Create database\n",
    "url = r'http://85.17.82.66/dataservices/database.asmx/create?database=OMSWaddenzee'\n",
    "r = requests.get(url)\n",
    "json.loads(r.content.decode('utf-8'))"
   ]
  },
  {
   "cell_type": "code",
   "execution_count": null,
   "metadata": {
    "collapsed": false,
    "deletable": true,
    "editable": true
   },
   "outputs": [],
   "source": [
    "# Check database version\n",
    "url = r'http://85.17.82.66/dataservices/database.asmx/version?database=OMSWaddenzee'\n",
    "r = requests.get(url)\n",
    "json.loads(r.content.decode('utf-8'))"
   ]
  },
  {
   "cell_type": "code",
   "execution_count": null,
   "metadata": {
    "collapsed": false,
    "deletable": true,
    "editable": true,
    "scrolled": true
   },
   "outputs": [],
   "source": [
    "import zeep\n",
    "client = zeep.Client(wsdl='http://85.17.82.66/dataservices/data.asmx?WSDL')\n",
    "#client.wsdl.dump()"
   ]
  },
  {
   "cell_type": "code",
   "execution_count": null,
   "metadata": {
    "collapsed": false,
    "deletable": true,
    "editable": true
   },
   "outputs": [],
   "source": [
    "zeep_out = client.service.create('OMSWaddenzee', 'piTimeSeries',piTimeseries)\n",
    "json.loads(zeep_out)"
   ]
  },
  {
   "cell_type": "code",
   "execution_count": null,
   "metadata": {
    "collapsed": true,
    "deletable": true,
    "editable": true
   },
   "outputs": [],
   "source": [
    "# Get data after create datarecord\n",
    "url = r'http://85.17.82.66/dataservices/data.asmx/read?database=OMSWaddenzee&key=piTimeSeries'\n",
    "r = requests.get(url)\n",
    "stacked = json.loads(r.content.decode('utf-8'))"
   ]
  },
  {
   "cell_type": "code",
   "execution_count": null,
   "metadata": {
    "collapsed": false,
    "deletable": true,
    "editable": true
   },
   "outputs": [],
   "source": [
    "stacked[0]"
   ]
  },
  {
   "cell_type": "code",
   "execution_count": null,
   "metadata": {
    "collapsed": true,
    "deletable": true,
    "editable": true
   },
   "outputs": [],
   "source": [
    "# OTHER POSSIBLE QUERIES"
   ]
  },
  {
   "cell_type": "code",
   "execution_count": null,
   "metadata": {
    "collapsed": true,
    "deletable": true,
    "editable": true
   },
   "outputs": [],
   "source": [
    "# Update (replace) data for datarecord\n",
    "zeep_out = client.service.update('example', 'example_key','[11,10,9,8,7,6,5,4,3,2,1]')\n",
    "json.loads(zeep_out)"
   ]
  },
  {
   "cell_type": "code",
   "execution_count": null,
   "metadata": {
    "collapsed": true,
    "deletable": true,
    "editable": true
   },
   "outputs": [],
   "source": [
    "# Get data after update datarecord\n",
    "url = r'http://85.17.82.66/dataservices/data.asmx/read?database=example&key=example_key'\n",
    "r = requests.get(url)\n",
    "json.loads(r.content)"
   ]
  },
  {
   "cell_type": "code",
   "execution_count": null,
   "metadata": {
    "collapsed": true,
    "deletable": true,
    "editable": true
   },
   "outputs": [],
   "source": [
    "# delete data from database\n",
    "url = r'http://85.17.82.66/dataservices/data.asmx/delete?database=example&key=example_key'\n",
    "r = requests.get(url)\n",
    "json.loads(r.content)"
   ]
  },
  {
   "cell_type": "code",
   "execution_count": null,
   "metadata": {
    "collapsed": true,
    "deletable": true,
    "editable": true
   },
   "outputs": [],
   "source": []
  },
  {
   "cell_type": "code",
   "execution_count": null,
   "metadata": {
    "collapsed": false,
    "deletable": true,
    "editable": true
   },
   "outputs": [],
   "source": [
    "grouped = (stacked\n",
    "    .groupby('stationName')                \n",
    "    .apply(lambda g:               # work on groups of col1\n",
    "        g.set_index('date')        \n",
    "        [['value']]\n",
    "        .resample('W').sum()  # sum the amount field across weeks\n",
    "    )\n",
    "    .unstack(level=0)              # pivot the col1 index rows to columns\n",
    "    .fillna(0)\n",
    ")\n",
    "grouped.columns=grouped.columns.droplevel()   # drop the 'col1' part of the multi-index column names\n",
    "#print (grouped.head)\n",
    "grouped.plot(kind='bar')"
   ]
  },
  {
   "cell_type": "code",
   "execution_count": null,
   "metadata": {
    "collapsed": false,
    "deletable": true,
    "editable": true
   },
   "outputs": [],
   "source": [
    "grouped.head()"
   ]
  },
  {
   "cell_type": "code",
   "execution_count": null,
   "metadata": {
    "collapsed": false,
    "deletable": true,
    "editable": true
   },
   "outputs": [],
   "source": [
    "#stacked.date = stacked.date.astype(np.int64) // 10**9\n",
    "#stacked.date = stacked.date.dt.strftime('%Y%m%d')"
   ]
  },
  {
   "cell_type": "code",
   "execution_count": null,
   "metadata": {
    "collapsed": true,
    "deletable": true,
    "editable": true
   },
   "outputs": [],
   "source": [
    "# webquery for all locations"
   ]
  },
  {
   "cell_type": "raw",
   "metadata": {
    "deletable": true,
    "editable": true
   },
   "source": [
    "http://www.oms-waddenzee.nl/oms.ws/runpython.asmx/Start2?input=fewsPiParser.py%20getLocations%20--piService=%27http://www.oms-waddenzee.nl:8081/FewsPiService/fewspiservice?wsdl%27%20--filterId=%27f_werk.1%27"
   ]
  },
  {
   "cell_type": "code",
   "execution_count": null,
   "metadata": {
    "collapsed": true,
    "deletable": true,
    "editable": true
   },
   "outputs": [],
   "source": [
    "# webquery for timeseries for selection with 2 locations"
   ]
  },
  {
   "cell_type": "raw",
   "metadata": {
    "deletable": true,
    "editable": true
   },
   "source": [
    "http://www.oms-waddenzee.nl/oms.ws/runpython.asmx/Start2?input=fewsPiParser.py%20getTimeseries%20--piService%3D%27http%3A%2F%2Fwww.oms-waddenzee.nl%3A8081%2FFewsPiService%2Ffewspiservice%3Fwsdl%27%20--locationIds%3D%5B%27bv.1.7.2.3.2%27%2C%27bv.1.7.3.1.1%27%5D%20--moduleInstanceIds%3D%27pr.Reizen.vdLee.baggeracties%27%20--parameterIds%3D%27k.m3.gebaggerd.vdlee%27%20--startTime%3D%272017-01-01T02%3A00%3A00.0%2B02%3A00%27%20--endTime%3D%272017-06-01T01%3A00%3A00.0%2B02%3A00%27%20--convertDatum%3D%27false%27%20--omitMissing%3D%27false%27%20--onlyHeaders%3D%27false%27%20--filterId%3D%27%27"
   ]
  },
  {
   "cell_type": "code",
   "execution_count": null,
   "metadata": {
    "collapsed": true,
    "deletable": true,
    "editable": true
   },
   "outputs": [],
   "source": [
    "# webquery for timeseries for all locations"
   ]
  },
  {
   "cell_type": "raw",
   "metadata": {
    "deletable": true,
    "editable": true
   },
   "source": [
    "http://www.oms-waddenzee.nl/oms.ws/runpython.asmx/Start2?input=fewsPiParser.py%20getTimeseries%20--piService%3D%27http%3A%2F%2Fwww.oms-waddenzee.nl%3A8081%2FFewsPiService%2Ffewspiservice%3Fwsdl%27%20--locationIds%3D%27%27%20--moduleInstanceIds%3D%27pr.Reizen.vdLee.baggeracties%27%20--parameterIds%3D%27k.m3.gebaggerd.vdlee%27%20--startTime%3D%272017-01-01T02%3A00%3A00.0%2B02%3A00%27%20--endTime%3D%272017-06-01T01%3A00%3A00.0%2B02%3A00%27%20--convertDatum%3D%27false%27%20--omitMissing%3D%27false%27%20--onlyHeaders%3D%27false%27%20--filterId%3D%27%27"
   ]
  },
  {
   "cell_type": "code",
   "execution_count": null,
   "metadata": {
    "collapsed": true,
    "deletable": true,
    "editable": true
   },
   "outputs": [],
   "source": []
  },
  {
   "cell_type": "code",
   "execution_count": null,
   "metadata": {
    "collapsed": false,
    "deletable": true,
    "editable": true
   },
   "outputs": [],
   "source": [
    "# VEGA utils\n",
    "# number of datetime items to display as labels\n",
    "labelNo = 4\n",
    "\n",
    "l = stacked.date.tolist()\n",
    "n = int(len(l) / labelNo)\n",
    "chunks = [l[i:i + n] for i in range(0, len(l), n)]\n",
    "date_axes_values = []\n",
    "for chunk in chunks:    \n",
    "    date_axes_values.append(chunk[0])#.timestamp()))"
   ]
  },
  {
   "cell_type": "code",
   "execution_count": null,
   "metadata": {
    "collapsed": false,
    "deletable": true,
    "editable": true
   },
   "outputs": [],
   "source": [
    "# \n",
    "\n",
    "# Chart(stacked).mark_text(\n",
    "#     applyColorToBackground=True\n",
    "# ).encode(\n",
    "#     row='stationName',\n",
    "#     column='date',\n",
    "#     color='mean(value)',\n",
    "#     text='mean(value)'\n",
    "# )"
   ]
  },
  {
   "cell_type": "code",
   "execution_count": null,
   "metadata": {
    "collapsed": true,
    "deletable": true,
    "editable": true
   },
   "outputs": [],
   "source": []
  }
 ],
 "metadata": {
  "kernelspec": {
   "display_name": "Python 3",
   "language": "python",
   "name": "python3"
  },
  "language_info": {
   "codemirror_mode": {
    "name": "ipython",
    "version": 3
   },
   "file_extension": ".py",
   "mimetype": "text/x-python",
   "name": "python",
   "nbconvert_exporter": "python",
   "pygments_lexer": "ipython3",
   "version": "3.5.2"
  }
 },
 "nbformat": 4,
 "nbformat_minor": 2
}
