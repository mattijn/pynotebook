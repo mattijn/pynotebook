{
 "cells": [
  {
   "cell_type": "code",
   "execution_count": 1,
   "metadata": {
    "collapsed": false,
    "deletable": true,
    "editable": true
   },
   "outputs": [
    {
     "data": {
      "text/plain": [
       "'\\nCreated on Tue Mar 14 13:20:15 2017\\n\\n@author: Mattijn van Hoek, HKV Lijn in water\\n'"
      ]
     },
     "execution_count": 1,
     "metadata": {},
     "output_type": "execute_result"
    }
   ],
   "source": [
    "\"\"\"\n",
    "Created on Tue Mar 14 13:20:15 2017\n",
    "\n",
    "@author: Mattijn van Hoek, HKV Lijn in water\n",
    "\"\"\""
   ]
  },
  {
   "cell_type": "code",
   "execution_count": 2,
   "metadata": {
    "collapsed": false,
    "deletable": true,
    "editable": true
   },
   "outputs": [],
   "source": [
    "from osgeo import gdal\n",
    "import geopandas as gpd\n",
    "import os\n",
    "import subprocess as sp\n",
    "import re"
   ]
  },
  {
   "cell_type": "code",
   "execution_count": 211,
   "metadata": {
    "collapsed": true,
    "deletable": true,
    "editable": true
   },
   "outputs": [],
   "source": [
    "# cmd function, input is a comma separated list of items\n",
    "def cmd(command):\n",
    "    print (sp.list2cmdline(command))\n",
    "    norm = sp.Popen(sp.list2cmdline(command),stdout=sp.PIPE, shell=True).communicate()    \n",
    "    return norm"
   ]
  },
  {
   "cell_type": "code",
   "execution_count": 233,
   "metadata": {
    "collapsed": false,
    "deletable": true,
    "editable": true
   },
   "outputs": [],
   "source": [
    "def tif2pts(a,y,z):\n",
    "    \"\"\"\n",
    "    input:\n",
    "    z is shapefile containing features to clip\n",
    "    a is file to read as input raster\n",
    "    y is folder to store the output files\n",
    "    output:\n",
    "    -\n",
    "    \"\"\"\n",
    "    \n",
    "    # read the baggervakken shapefile into a geodataframe\n",
    "    gdf = gpd.read_file(z)\n",
    "\n",
    "    # iterate over each feature in the geodataframe and apply cut procedure\n",
    "    for idx in range(len(gdf))[38:39]:\n",
    "        print (idx)\n",
    "        feature = gdf.ix[idx]\n",
    "        obID   = feature['OBJECTCODE']\n",
    "        obNAME = feature['OBJECTNAAM']\n",
    "        obID_obName = obID+' '+obNAME\n",
    "        obID_obName = re.sub('[^a-zA-Z0-9 \\n\\.]', '', obID_obName)\n",
    "        \n",
    "        # crop original tif of waddenzee to cutline of each feature and store as VRT file\n",
    "        b = os.path.join(y, obID_obName+'.vrt')\n",
    "        print(b)\n",
    "        # 8 Only keep the ArcInfoASCIIs that contains data\n",
    "        command = gdalwarp+' -overwrite -of VRT -crop_to_cutline -cutline '+z+' -cwhere '+'\"'+'OBJECTNAAM='+\"'\"+obNAME+\"'\"'\" '+a+' \"'+b+'\"'\n",
    "        print (command)\n",
    "        norm = sp.Popen(command, stdout=sp.PIPE, shell=True).communicate()    \n",
    "\n",
    "        # use the VRT file to convert to XYZ file\n",
    "        c = os.path.join(y, obID_obName+'.xyz')\n",
    "        norm = cmd([gdal_translate, '-of', 'XYZ', b, c])\n",
    "\n",
    "        # remove all NaN values from the XYZ file\n",
    "        d = os.path.join(y, obID_obName+'.tmp')\n",
    "        command = grep+' -v \" -999\" '+'\"'+c+'\" > \"'+d+'\"'+' && move '+'\"'+d+'\" '+'\"'+c+'\"'\n",
    "        print (command)\n",
    "        norm = sp.Popen(command, stdout=sp.PIPE, shell=True).communicate()\n",
    "\n",
    "        # remove the VRT file and continue to next feature\n",
    "        os.remove(b)\n",
    "        # if there is still a tmp file, then both the tmp and xyz file can be removed\n",
    "        if os.path.isfile(d):\n",
    "            os.remove(d)\n",
    "            os.remove(c)\n",
    "    return norm,(print('function was succesfull'))"
   ]
  },
  {
   "cell_type": "code",
   "execution_count": 234,
   "metadata": {
    "collapsed": true,
    "deletable": true,
    "editable": true
   },
   "outputs": [],
   "source": [
    "# set some fixed paths to executables to use\n",
    "gdalwarp = r'C:\\Python35\\Lib\\site-packages\\osgeo//gdalwarp.exe'\n",
    "gdal_translate = r'C:\\Python35\\Lib\\site-packages\\osgeo//gdal_translate.exe'\n",
    "grep = r'\"C:\\Program Files (x86)\\GnuWin32\\bin//grep.exe\"'\n",
    "\n",
    "z = r'D:\\OmsWaddenzee\\trunk\\fews\\Config\\MapLayerFiles\\Baggervakken\\Baggervakken.shp'\n",
    "y = r'D:\\OmsWaddenzee\\trunk\\fews\\Modules\\netcdfExport\\exportOMS\\actuele_bodemhoogte_xyz_bestanden'\n",
    "#a = r'D:\\Projects\\Pr\\3317.20\\TIF2PTS\\actuele_bodemhoogte.tif'\n",
    "a = r'D:\\OmsWaddenzee\\trunk\\fews\\Modules\\netcdfExport\\exportOMS\\actuele_bodemhoogte.tif'"
   ]
  },
  {
   "cell_type": "code",
   "execution_count": 235,
   "metadata": {
    "collapsed": false,
    "deletable": true,
    "editable": true
   },
   "outputs": [
    {
     "name": "stdout",
     "output_type": "stream",
     "text": [
      "38\n",
      "D:\\OmsWaddenzee\\trunk\\fews\\Modules\\netcdfExport\\exportOMS\\actuele_bodemhoogte_xyz_bestanden\\1.7.1.3.2.2 Den Oever Buitenhaven.vrt\n",
      "C:\\Python35\\Lib\\site-packages\\osgeo//gdalwarp.exe -overwrite -of VRT -crop_to_cutline -cutline D:\\OmsWaddenzee\\trunk\\fews\\Config\\MapLayerFiles\\Baggervakken\\Baggervakken.shp -cwhere \"OBJECTNAAM='Den Oever, Buitenhaven'\" D:\\OmsWaddenzee\\trunk\\fews\\Modules\\netcdfExport\\exportOMS\\actuele_bodemhoogte.tif \"D:\\OmsWaddenzee\\trunk\\fews\\Modules\\netcdfExport\\exportOMS\\actuele_bodemhoogte_xyz_bestanden\\1.7.1.3.2.2 Den Oever Buitenhaven.vrt\"\n",
      "C:\\Python35\\Lib\\site-packages\\osgeo//gdal_translate.exe -of XYZ \"D:\\OmsWaddenzee\\trunk\\fews\\Modules\\netcdfExport\\exportOMS\\actuele_bodemhoogte_xyz_bestanden\\1.7.1.3.2.2 Den Oever Buitenhaven.vrt\" \"D:\\OmsWaddenzee\\trunk\\fews\\Modules\\netcdfExport\\exportOMS\\actuele_bodemhoogte_xyz_bestanden\\1.7.1.3.2.2 Den Oever Buitenhaven.xyz\"\n",
      "\"C:\\Program Files (x86)\\GnuWin32\\bin//grep.exe\" -v \" -999\" \"D:\\OmsWaddenzee\\trunk\\fews\\Modules\\netcdfExport\\exportOMS\\actuele_bodemhoogte_xyz_bestanden\\1.7.1.3.2.2 Den Oever Buitenhaven.xyz\" > \"D:\\OmsWaddenzee\\trunk\\fews\\Modules\\netcdfExport\\exportOMS\\actuele_bodemhoogte_xyz_bestanden\\1.7.1.3.2.2 Den Oever Buitenhaven.tmp\" && move \"D:\\OmsWaddenzee\\trunk\\fews\\Modules\\netcdfExport\\exportOMS\\actuele_bodemhoogte_xyz_bestanden\\1.7.1.3.2.2 Den Oever Buitenhaven.tmp\" \"D:\\OmsWaddenzee\\trunk\\fews\\Modules\\netcdfExport\\exportOMS\\actuele_bodemhoogte_xyz_bestanden\\1.7.1.3.2.2 Den Oever Buitenhaven.xyz\"\n",
      "function was succesfull\n"
     ]
    }
   ],
   "source": [
    "# apply the function to get XYZ files from TIF files\n",
    "norm = tif2pts(a,y,z)"
   ]
  },
  {
   "cell_type": "code",
   "execution_count": 225,
   "metadata": {
    "collapsed": false,
    "deletable": true,
    "editable": true
   },
   "outputs": [
    {
     "data": {
      "text/plain": [
       "((b'Input file size is 1299, 1957\\r\\n0...10...20...30...40...50...60...70...80...90...100 - done.\\r\\n',\n",
       "  None),\n",
       " None)"
      ]
     },
     "execution_count": 225,
     "metadata": {},
     "output_type": "execute_result"
    }
   ],
   "source": [
    "norm"
   ]
  },
  {
   "cell_type": "code",
   "execution_count": 176,
   "metadata": {
    "collapsed": false,
    "deletable": true,
    "editable": true
   },
   "outputs": [
    {
     "data": {
      "text/plain": [
       "'\\nC:\\\\Python35\\\\python.exe \\nD:\\\\OmsWaddenzee\\trunk\\x0cews\\\\Modules\\netcdfExport\\\\script\\tif2pts.py \\n--shp_file D:\\\\OmsWaddenzee\\trunk\\x0cews\\\\Config\\\\MapLayerFiles\\\\Baggervakken\\\\Baggervakken.shp \\n--xyz_folder D:\\\\OmsWaddenzee\\trunk\\x0cews\\\\Modules\\netcdfExport\\\\exportOMS\\x07ctuele_bodemhoogte_xyz_bestanden \\n--tif_file D:\\\\OmsWaddenzee\\trunk\\x0cews\\\\Modules\\netcdfExport\\\\exportOMS\\x07ctuele_bodemhoogte.tif\\n'"
      ]
     },
     "execution_count": 176,
     "metadata": {},
     "output_type": "execute_result"
    }
   ],
   "source": [
    "C:\\Python35\\python.exe \n",
    "D:\\OmsWaddenzee\\trunk\\fews\\Modules\\netcdfExport\\script\\tif2pts.py \n",
    "--shp_file D:\\OmsWaddenzee\\trunk\\fews\\Config\\MapLayerFiles\\Baggervakken\\Baggervakken.shp \n",
    "--xyz_folder D:\\OmsWaddenzee\\trunk\\fews\\Modules\\netcdfExport\\exportOMS\\actuele_bodemhoogte_xyz_bestanden \n",
    "--tif_file D:\\OmsWaddenzee\\trunk\\fews\\Modules\\netcdfExport\\exportOMS\\actuele_bodemhoogte.tif"
   ]
  },
  {
   "cell_type": "code",
   "execution_count": 177,
   "metadata": {
    "collapsed": false,
    "deletable": true,
    "editable": true
   },
   "outputs": [
    {
     "data": {
      "text/plain": [
       "('D:\\\\Projects\\\\Pr\\\\3317.20\\\\TIF2PTS\\\\actuele_bodemhoogte.tif',\n",
       " 'D:\\\\Projects\\\\Pr\\\\3317.20\\\\TIF2PTS\\\\pts',\n",
       " 'D:\\\\OmsWaddenzee\\\\trunk\\\\fews\\\\Config\\\\MapLayerFiles\\\\Baggervakken\\\\Baggervakken.shp')"
      ]
     },
     "execution_count": 177,
     "metadata": {},
     "output_type": "execute_result"
    }
   ],
   "source": [
    "a,y,z"
   ]
  },
  {
   "cell_type": "code",
   "execution_count": null,
   "metadata": {
    "collapsed": true,
    "deletable": true,
    "editable": true
   },
   "outputs": [],
   "source": []
  }
 ],
 "metadata": {
  "kernelspec": {
   "display_name": "Python 3",
   "language": "python",
   "name": "python3"
  },
  "language_info": {
   "codemirror_mode": {
    "name": "ipython",
    "version": 3
   },
   "file_extension": ".py",
   "mimetype": "text/x-python",
   "name": "python",
   "nbconvert_exporter": "python",
   "pygments_lexer": "ipython3",
   "version": "3.5.2"
  }
 },
 "nbformat": 4,
 "nbformat_minor": 2
}
