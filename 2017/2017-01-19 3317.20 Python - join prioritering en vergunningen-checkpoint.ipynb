{
 "cells": [
  {
   "cell_type": "code",
   "execution_count": 2,
   "metadata": {
    "collapsed": true
   },
   "outputs": [],
   "source": [
    "import pandas as pd"
   ]
  },
  {
   "cell_type": "code",
   "execution_count": 2,
   "metadata": {
    "collapsed": true
   },
   "outputs": [],
   "source": [
    "md_bvken = r'D:\\OmsWaddenzee\\trunk\\fews\\Config\\MapLayerFiles\\Baggervakken//oppervlak_baggervakken.csv'"
   ]
  },
  {
   "cell_type": "code",
   "execution_count": 48,
   "metadata": {
    "collapsed": false
   },
   "outputs": [],
   "source": [
    "df = pd.read_csv(md_bvken)"
   ]
  },
  {
   "cell_type": "code",
   "execution_count": 49,
   "metadata": {
    "collapsed": false
   },
   "outputs": [
    {
     "data": {
      "text/html": [
       "<div>\n",
       "<table border=\"1\" class=\"dataframe\">\n",
       "  <thead>\n",
       "    <tr style=\"text-align: right;\">\n",
       "      <th></th>\n",
       "      <th>Objectnaam</th>\n",
       "      <th>Objectcode</th>\n",
       "      <th>Oppervlak</th>\n",
       "    </tr>\n",
       "  </thead>\n",
       "  <tbody>\n",
       "    <tr>\n",
       "      <th>0</th>\n",
       "      <td>Den Helder - Texel, Vaarweg</td>\n",
       "      <td>bv.1.7.1.1</td>\n",
       "      <td>405058.00</td>\n",
       "    </tr>\n",
       "    <tr>\n",
       "      <th>1</th>\n",
       "      <td>Den Helder veerhaven, Vak A</td>\n",
       "      <td>bv.1.7.1.1.1.1</td>\n",
       "      <td>30092.00</td>\n",
       "    </tr>\n",
       "    <tr>\n",
       "      <th>2</th>\n",
       "      <td>Den Helder veerhaven, Vak B</td>\n",
       "      <td>bv.1.7.1.1.1.2</td>\n",
       "      <td>6338.00</td>\n",
       "    </tr>\n",
       "    <tr>\n",
       "      <th>3</th>\n",
       "      <td>Den Helder veerhaven, Vak C</td>\n",
       "      <td>bv.1.7.1.1.1.3</td>\n",
       "      <td>3860.12</td>\n",
       "    </tr>\n",
       "    <tr>\n",
       "      <th>4</th>\n",
       "      <td>Texel veerhaven, Vak A</td>\n",
       "      <td>bv.1.7.1.1.2.1</td>\n",
       "      <td>4919.88</td>\n",
       "    </tr>\n",
       "  </tbody>\n",
       "</table>\n",
       "</div>"
      ],
      "text/plain": [
       "                    Objectnaam      Objectcode  Oppervlak\n",
       "0  Den Helder - Texel, Vaarweg      bv.1.7.1.1  405058.00\n",
       "1  Den Helder veerhaven, Vak A  bv.1.7.1.1.1.1   30092.00\n",
       "2  Den Helder veerhaven, Vak B  bv.1.7.1.1.1.2    6338.00\n",
       "3  Den Helder veerhaven, Vak C  bv.1.7.1.1.1.3    3860.12\n",
       "4       Texel veerhaven, Vak A  bv.1.7.1.1.2.1    4919.88"
      ]
     },
     "execution_count": 49,
     "metadata": {},
     "output_type": "execute_result"
    }
   ],
   "source": [
    "df.head()"
   ]
  },
  {
   "cell_type": "code",
   "execution_count": 6,
   "metadata": {
    "collapsed": true
   },
   "outputs": [],
   "source": [
    "vergunningen = r'D:\\Projects\\Pr\\3317.20\\Toeleveringen\\Vergunningen_vdLee//Vergunningen_copy.xlsx'"
   ]
  },
  {
   "cell_type": "code",
   "execution_count": 10,
   "metadata": {
    "collapsed": false
   },
   "outputs": [],
   "source": [
    "df_xls = pd.read_excel(vergunningen, header=[0,1])"
   ]
  },
  {
   "cell_type": "code",
   "execution_count": 11,
   "metadata": {
    "collapsed": false
   },
   "outputs": [
    {
     "data": {
      "text/html": [
       "<div>\n",
       "<table border=\"1\" class=\"dataframe\">\n",
       "  <thead>\n",
       "    <tr>\n",
       "      <th></th>\n",
       "      <th>Unnamed: 0_level_0</th>\n",
       "      <th>Unnamed: 1_level_0</th>\n",
       "      <th colspan=\"8\" halign=\"left\">WATERBODEMONDERZOEK</th>\n",
       "      <th>...</th>\n",
       "      <th colspan=\"4\" halign=\"left\">Bbk-MELDINGEN</th>\n",
       "      <th colspan=\"6\" halign=\"left\">Blbi-MELDINGEN</th>\n",
       "    </tr>\n",
       "    <tr>\n",
       "      <th>Objectnr.</th>\n",
       "      <th>Object</th>\n",
       "      <th>Taak / Raamactiviteit / Benoemde activiteit</th>\n",
       "      <th>Komt in aanmerking voor Water met Korte Baggercyclus?</th>\n",
       "      <th>Bestandsnaam</th>\n",
       "      <th>Referentie</th>\n",
       "      <th>Conclusie laatste bodemonderzoek</th>\n",
       "      <th>Datum rapport</th>\n",
       "      <th>Datum laatste monstername</th>\n",
       "      <th>Geldig tot\\n\\nDatum laatste monstername + 2 jaar</th>\n",
       "      <th>Aantal dagen nog geldig</th>\n",
       "      <th>...</th>\n",
       "      <th>Datum ingediend</th>\n",
       "      <th>Datum toestemming\\n\\nDatum ingediend\\n+ 5 werkdagen</th>\n",
       "      <th>Geldig tot\\n\\nDatum toestemming + 1 jaar</th>\n",
       "      <th>Aantal dagen nog geldig</th>\n",
       "      <th>Document-nummer</th>\n",
       "      <th>Correspon-dentie nummer IL&amp;T</th>\n",
       "      <th>Datum ingediend</th>\n",
       "      <th>Datum toestemming\\n\\nDatum ingediend\\n+ 20 werkdagen</th>\n",
       "      <th>Geldig tot\\n\\nDatum toestemming + 1 jaar</th>\n",
       "      <th>Aantal dagen nog geldig</th>\n",
       "    </tr>\n",
       "  </thead>\n",
       "  <tbody>\n",
       "    <tr>\n",
       "      <th>1</th>\n",
       "      <td>Grote zoute vaargeulen</td>\n",
       "      <td>NaN</td>\n",
       "      <td>NaN</td>\n",
       "      <td>NaN</td>\n",
       "      <td>NaN</td>\n",
       "      <td>NaN</td>\n",
       "      <td>NaN</td>\n",
       "      <td>NaN</td>\n",
       "      <td>NaN</td>\n",
       "      <td>NaN</td>\n",
       "      <td>...</td>\n",
       "      <td>NaN</td>\n",
       "      <td>NaN</td>\n",
       "      <td>NaN</td>\n",
       "      <td>NaN</td>\n",
       "      <td>NaN</td>\n",
       "      <td>NaN</td>\n",
       "      <td>NaN</td>\n",
       "      <td>NaN</td>\n",
       "      <td>NaN</td>\n",
       "      <td>NaN</td>\n",
       "    </tr>\n",
       "    <tr>\n",
       "      <th>1.7</th>\n",
       "      <td>Waddenzee</td>\n",
       "      <td>NaN</td>\n",
       "      <td>NaN</td>\n",
       "      <td>NaN</td>\n",
       "      <td>NaN</td>\n",
       "      <td>NaN</td>\n",
       "      <td>NaN</td>\n",
       "      <td>NaN</td>\n",
       "      <td>NaN</td>\n",
       "      <td>NaN</td>\n",
       "      <td>...</td>\n",
       "      <td>NaN</td>\n",
       "      <td>NaN</td>\n",
       "      <td>NaN</td>\n",
       "      <td>NaN</td>\n",
       "      <td>NaN</td>\n",
       "      <td>NaN</td>\n",
       "      <td>NaN</td>\n",
       "      <td>NaN</td>\n",
       "      <td>NaN</td>\n",
       "      <td>NaN</td>\n",
       "    </tr>\n",
       "    <tr>\n",
       "      <th>1.7.1</th>\n",
       "      <td>Marsdiep</td>\n",
       "      <td>NaN</td>\n",
       "      <td>NaN</td>\n",
       "      <td>NaN</td>\n",
       "      <td>NaN</td>\n",
       "      <td>NaN</td>\n",
       "      <td>NaN</td>\n",
       "      <td>NaN</td>\n",
       "      <td>NaN</td>\n",
       "      <td>NaN</td>\n",
       "      <td>...</td>\n",
       "      <td>NaN</td>\n",
       "      <td>NaN</td>\n",
       "      <td>NaN</td>\n",
       "      <td>NaN</td>\n",
       "      <td>NaN</td>\n",
       "      <td>NaN</td>\n",
       "      <td>NaN</td>\n",
       "      <td>NaN</td>\n",
       "      <td>NaN</td>\n",
       "      <td>NaN</td>\n",
       "    </tr>\n",
       "    <tr>\n",
       "      <th>1.7.1.1</th>\n",
       "      <td>Den Helder - Texel</td>\n",
       "      <td>NaN</td>\n",
       "      <td>NaN</td>\n",
       "      <td>NaN</td>\n",
       "      <td>NaN</td>\n",
       "      <td>NaN</td>\n",
       "      <td>NaN</td>\n",
       "      <td>NaN</td>\n",
       "      <td>NaN</td>\n",
       "      <td>NaN</td>\n",
       "      <td>...</td>\n",
       "      <td>NaN</td>\n",
       "      <td>NaN</td>\n",
       "      <td>NaN</td>\n",
       "      <td>NaN</td>\n",
       "      <td>NaN</td>\n",
       "      <td>NaN</td>\n",
       "      <td>NaN</td>\n",
       "      <td>NaN</td>\n",
       "      <td>NaN</td>\n",
       "      <td>NaN</td>\n",
       "    </tr>\n",
       "    <tr>\n",
       "      <th>1.7.1.1.A</th>\n",
       "      <td>Den Helder - Texel, Vaarweg</td>\n",
       "      <td>Raamact.</td>\n",
       "      <td>Nee</td>\n",
       "      <td>-</td>\n",
       "      <td>-</td>\n",
       "      <td>-</td>\n",
       "      <td>-</td>\n",
       "      <td>-</td>\n",
       "      <td>-</td>\n",
       "      <td>-</td>\n",
       "      <td>...</td>\n",
       "      <td>NaN</td>\n",
       "      <td>NaN</td>\n",
       "      <td>NaN</td>\n",
       "      <td>NaN</td>\n",
       "      <td>NaN</td>\n",
       "      <td>NaN</td>\n",
       "      <td>NaN</td>\n",
       "      <td>NaN</td>\n",
       "      <td>NaN</td>\n",
       "      <td>NaN</td>\n",
       "    </tr>\n",
       "  </tbody>\n",
       "</table>\n",
       "<p>5 rows × 23 columns</p>\n",
       "</div>"
      ],
      "text/plain": [
       "                    Unnamed: 0_level_0  \\\n",
       "Objectnr.                       Object   \n",
       "1               Grote zoute vaargeulen   \n",
       "1.7                          Waddenzee   \n",
       "1.7.1                         Marsdiep   \n",
       "1.7.1.1             Den Helder - Texel   \n",
       "1.7.1.1.A  Den Helder - Texel, Vaarweg   \n",
       "\n",
       "                                   Unnamed: 1_level_0  \\\n",
       "Objectnr. Taak / Raamactiviteit / Benoemde activiteit   \n",
       "1                                                 NaN   \n",
       "1.7                                               NaN   \n",
       "1.7.1                                             NaN   \n",
       "1.7.1.1                                           NaN   \n",
       "1.7.1.1.A                                    Raamact.   \n",
       "\n",
       "                                            WATERBODEMONDERZOEK               \\\n",
       "Objectnr. Komt in aanmerking voor Water met Korte Baggercyclus? Bestandsnaam   \n",
       "1                                                        NaN             NaN   \n",
       "1.7                                                      NaN             NaN   \n",
       "1.7.1                                                    NaN             NaN   \n",
       "1.7.1.1                                                  NaN             NaN   \n",
       "1.7.1.1.A                                                Nee               -   \n",
       "\n",
       "                                                                     \\\n",
       "Objectnr. Referentie Conclusie laatste bodemonderzoek Datum rapport   \n",
       "1                NaN                              NaN           NaN   \n",
       "1.7              NaN                              NaN           NaN   \n",
       "1.7.1            NaN                              NaN           NaN   \n",
       "1.7.1.1          NaN                              NaN           NaN   \n",
       "1.7.1.1.A          -                                -             -   \n",
       "\n",
       "                                     \\\n",
       "Objectnr. Datum laatste monstername   \n",
       "1                               NaN   \n",
       "1.7                             NaN   \n",
       "1.7.1                           NaN   \n",
       "1.7.1.1                         NaN   \n",
       "1.7.1.1.A                         -   \n",
       "\n",
       "                                                            \\\n",
       "Objectnr. Geldig tot\\n\\nDatum laatste monstername + 2 jaar   \n",
       "1                                                      NaN   \n",
       "1.7                                                    NaN   \n",
       "1.7.1                                                  NaN   \n",
       "1.7.1.1                                                NaN   \n",
       "1.7.1.1.A                                                -   \n",
       "\n",
       "                                            ...             Bbk-MELDINGEN  \\\n",
       "Objectnr. Aantal dagen nog geldig           ...           Datum ingediend   \n",
       "1                             NaN           ...                       NaN   \n",
       "1.7                           NaN           ...                       NaN   \n",
       "1.7.1                         NaN           ...                       NaN   \n",
       "1.7.1.1                       NaN           ...                       NaN   \n",
       "1.7.1.1.A                       -           ...                       NaN   \n",
       "\n",
       "                                                               \\\n",
       "Objectnr. Datum toestemming\\n\\nDatum ingediend\\n+ 5 werkdagen   \n",
       "1                                                        NaN    \n",
       "1.7                                                      NaN    \n",
       "1.7.1                                                    NaN    \n",
       "1.7.1.1                                                  NaN    \n",
       "1.7.1.1.A                                                NaN    \n",
       "\n",
       "                                                                            \\\n",
       "Objectnr. Geldig tot\\n\\nDatum toestemming + 1 jaar Aantal dagen nog geldig   \n",
       "1                                              NaN                     NaN   \n",
       "1.7                                            NaN                     NaN   \n",
       "1.7.1                                          NaN                     NaN   \n",
       "1.7.1.1                                        NaN                     NaN   \n",
       "1.7.1.1.A                                      NaN                     NaN   \n",
       "\n",
       "           Blbi-MELDINGEN                                               \\\n",
       "Objectnr. Document-nummer Correspon-dentie nummer IL&T Datum ingediend   \n",
       "1                     NaN                          NaN             NaN   \n",
       "1.7                   NaN                          NaN             NaN   \n",
       "1.7.1                 NaN                          NaN             NaN   \n",
       "1.7.1.1               NaN                          NaN             NaN   \n",
       "1.7.1.1.A             NaN                          NaN             NaN   \n",
       "\n",
       "                                                                \\\n",
       "Objectnr. Datum toestemming\\n\\nDatum ingediend\\n+ 20 werkdagen   \n",
       "1                                                        NaN     \n",
       "1.7                                                      NaN     \n",
       "1.7.1                                                    NaN     \n",
       "1.7.1.1                                                  NaN     \n",
       "1.7.1.1.A                                                NaN     \n",
       "\n",
       "                                                                            \n",
       "Objectnr. Geldig tot\\n\\nDatum toestemming + 1 jaar Aantal dagen nog geldig  \n",
       "1                                              NaN                     NaN  \n",
       "1.7                                            NaN                     NaN  \n",
       "1.7.1                                          NaN                     NaN  \n",
       "1.7.1.1                                        NaN                     NaN  \n",
       "1.7.1.1.A                                      NaN                     NaN  \n",
       "\n",
       "[5 rows x 23 columns]"
      ]
     },
     "execution_count": 11,
     "metadata": {},
     "output_type": "execute_result"
    }
   ],
   "source": [
    "df_xls.head()"
   ]
  },
  {
   "cell_type": "code",
   "execution_count": 41,
   "metadata": {
    "collapsed": false
   },
   "outputs": [],
   "source": [
    "#df1 = df_xls.T\n",
    "sel = df_xls.xs(['Unnamed: 0_level_0','Unnamed: 1_level_0'], axis=1).reset_index()"
   ]
  },
  {
   "cell_type": "code",
   "execution_count": 57,
   "metadata": {
    "collapsed": false
   },
   "outputs": [],
   "source": [
    "sel_new = pd.concat([sel['Unnamed: 0_level_0']['Object'],sel['Unnamed: 1_level_0']['Taak / Raamactiviteit / Benoemde activiteit']], axis=1)"
   ]
  },
  {
   "cell_type": "code",
   "execution_count": 60,
   "metadata": {
    "collapsed": false
   },
   "outputs": [],
   "source": [
    "df_join = pd.merge(df, sel_new, left_on='Objectnaam', right_on='Object')"
   ]
  },
  {
   "cell_type": "code",
   "execution_count": 65,
   "metadata": {
    "collapsed": false
   },
   "outputs": [],
   "source": [
    "df_join_sel = df_join[['Objectnaam',\n",
    "                       'Objectcode',\n",
    "                       'Oppervlak',\n",
    "                       'Taak / Raamactiviteit / Benoemde activiteit'\n",
    "                      ]]"
   ]
  },
  {
   "cell_type": "code",
   "execution_count": 67,
   "metadata": {
    "collapsed": false
   },
   "outputs": [],
   "source": [
    "csv_out = r'D:\\OmsWaddenzee\\trunk\\fews\\Config\\MapLayerFiles\\Baggervakken//oppervlak_baggervakken_v2.csv'\n",
    "df_join_sel.to_csv(csv_out, index=False)"
   ]
  },
  {
   "cell_type": "code",
   "execution_count": null,
   "metadata": {
    "collapsed": true
   },
   "outputs": [],
   "source": []
  },
  {
   "cell_type": "code",
   "execution_count": null,
   "metadata": {
    "collapsed": true
   },
   "outputs": [],
   "source": []
  },
  {
   "cell_type": "code",
   "execution_count": null,
   "metadata": {
    "collapsed": true
   },
   "outputs": [],
   "source": []
  },
  {
   "cell_type": "code",
   "execution_count": 70,
   "metadata": {
    "collapsed": false
   },
   "outputs": [],
   "source": [
    "#location on drive\n",
    "csv_in = r'D:\\OmsWaddenzee\\trunk\\fews\\Modules\\prioriteringExport\\data//prioritering_ruw.csv'\n",
    "csv_out = r'D:\\OmsWaddenzee\\trunk\\fews\\Modules\\prioriteringExport\\data//prioritering_refined.csv'\n",
    "area = r'D:\\OmsWaddenzee\\trunk\\fews\\Config\\MapLayerFiles\\Baggervakken//oppervlak_baggervakken_v2.csv'\n",
    "\n",
    "# read into dataframe\n",
    "df_csv = pd.read_csv(csv_in, sep=';')\n",
    "df_area = pd.read_csv(area)\n",
    "\n",
    "# join dataframes on objectcode\n",
    "df_comb = pd.merge(df_csv, df_area, left_on='Baggervak', right_on='Objectcode')\n",
    "\n",
    "# calculate the prioritering\n",
    "df_comb['Percentage cut tov NGD'] = (df_comb['Oppervlakte cut tov NGD'] / df_comb['Oppervlak'] * 100).round(2)\n",
    "df_comb['Percentage cut tov OHD'] = (df_comb['Oppervlakte cut tov OHD'] / df_comb['Oppervlak'] * 100).round(2)\n",
    "\n"
   ]
  },
  {
   "cell_type": "code",
   "execution_count": 74,
   "metadata": {
    "collapsed": true
   },
   "outputs": [],
   "source": [
    "# reorder columns \n",
    "c = df_comb.columns.tolist()\n",
    "c_selection = [c[0],c[11],c[10],c[13],c[14],c[15],c[6],c[7],c[2],c[3],c[8],c[9],c[4],c[5],c[12]]"
   ]
  },
  {
   "cell_type": "code",
   "execution_count": 75,
   "metadata": {
    "collapsed": false
   },
   "outputs": [
    {
     "data": {
      "text/plain": [
       "['Datum',\n",
       " 'Baggervak',\n",
       " 'Volume cut tov NGD',\n",
       " 'Volume cut tov OHD',\n",
       " 'Volume fill tov NGD',\n",
       " 'Volume fill tov OHD',\n",
       " 'Oppervlakte cut tov NGD',\n",
       " 'Oppervlakte cut tov OHD',\n",
       " 'Oppervlakte fill tov NGD',\n",
       " 'Oppervlakte fill tov OHD',\n",
       " 'Objectnaam',\n",
       " 'Objectcode',\n",
       " 'Oppervlak',\n",
       " 'Activiteit',\n",
       " 'Percentage cut tov NGD',\n",
       " 'Percentage cut tov OHD']"
      ]
     },
     "execution_count": 75,
     "metadata": {},
     "output_type": "execute_result"
    }
   ],
   "source": [
    "c "
   ]
  },
  {
   "cell_type": "code",
   "execution_count": 76,
   "metadata": {
    "collapsed": false
   },
   "outputs": [
    {
     "data": {
      "text/plain": [
       "['Datum',\n",
       " 'Objectcode',\n",
       " 'Objectnaam',\n",
       " 'Activiteit',\n",
       " 'Percentage cut tov NGD',\n",
       " 'Percentage cut tov OHD',\n",
       " 'Oppervlakte cut tov NGD',\n",
       " 'Oppervlakte cut tov OHD',\n",
       " 'Volume cut tov NGD',\n",
       " 'Volume cut tov OHD',\n",
       " 'Oppervlakte fill tov NGD',\n",
       " 'Oppervlakte fill tov OHD',\n",
       " 'Volume fill tov NGD',\n",
       " 'Volume fill tov OHD',\n",
       " 'Oppervlak']"
      ]
     },
     "execution_count": 76,
     "metadata": {},
     "output_type": "execute_result"
    }
   ],
   "source": [
    "c_selection"
   ]
  },
  {
   "cell_type": "code",
   "execution_count": 36,
   "metadata": {
    "collapsed": true
   },
   "outputs": [],
   "source": [
    "file_in = r'D:\\Projects\\Pr\\3317.20\\vergunningenUpload\\validatie//FTP_Waterbodemonderzoeken Bbk-meldingen en Blbi-meldingen.xlsm'"
   ]
  },
  {
   "cell_type": "code",
   "execution_count": 37,
   "metadata": {
    "collapsed": true
   },
   "outputs": [],
   "source": [
    "df = pd.read_excel(file_in).sort_values(by='Objectnr.')"
   ]
  },
  {
   "cell_type": "code",
   "execution_count": 38,
   "metadata": {
    "collapsed": true
   },
   "outputs": [],
   "source": [
    "df.dropna(how='all', inplace=True)"
   ]
  },
  {
   "cell_type": "code",
   "execution_count": 39,
   "metadata": {
    "collapsed": false
   },
   "outputs": [
    {
     "name": "stderr",
     "output_type": "stream",
     "text": [
      "c:\\python35\\lib\\site-packages\\pandas\\core\\indexing.py:140: SettingWithCopyWarning: \n",
      "A value is trying to be set on a copy of a slice from a DataFrame\n",
      "\n",
      "See the caveats in the documentation: http://pandas.pydata.org/pandas-docs/stable/indexing.html#indexing-view-versus-copy\n",
      "  self._setitem_with_indexer(indexer, value)\n"
     ]
    }
   ],
   "source": [
    "for idx,item in enumerate(df['Aantal dagen Blbi nog geldig']):\n",
    "    try:\n",
    "        df['Aantal dagen Blbi nog geldig'].ix[idx] = (df['Blbi-melding geldig tot'].ix[idx] - datetime.today()).days + 1\n",
    "    except:\n",
    "        continue\n",
    "\n",
    "for idx,item in enumerate(df['Aantal dagen Bbk nog geldig']):\n",
    "    try:\n",
    "        df['Aantal dagen Bbk nog geldig'].ix[idx] = (df['Bbk-melding geldig tot'].ix[idx] - datetime.today()).days + 1\n",
    "    except:\n",
    "        continue\n",
    "\n",
    "for idx,item in enumerate(df['Aantal dagen wbo nog geldig']):\n",
    "    try:\n",
    "        df['Aantal dagen wbo nog geldig'].ix[idx] = (df['Wbo geldig tot'].ix[idx] - datetime.today()).days + 1\n",
    "    except:\n",
    "        continue"
   ]
  },
  {
   "cell_type": "code",
   "execution_count": 43,
   "metadata": {
    "collapsed": false
   },
   "outputs": [
    {
     "data": {
      "text/plain": [
       "226"
      ]
     },
     "execution_count": 43,
     "metadata": {},
     "output_type": "execute_result"
    }
   ],
   "source": [
    "(df['Blbi-melding geldig tot'].ix[1] - datetime.today()).days"
   ]
  },
  {
   "cell_type": "code",
   "execution_count": 44,
   "metadata": {
    "collapsed": false
   },
   "outputs": [
    {
     "data": {
      "text/plain": [
       "1    403\n",
       "2    403\n",
       "3    403\n",
       "4    403\n",
       "5    403\n",
       "Name: Aantal dagen wbo nog geldig, dtype: object"
      ]
     },
     "execution_count": 44,
     "metadata": {},
     "output_type": "execute_result"
    }
   ],
   "source": [
    "df['Aantal dagen wbo nog geldig'].head()"
   ]
  },
  {
   "cell_type": "code",
   "execution_count": null,
   "metadata": {
    "collapsed": true
   },
   "outputs": [],
   "source": []
  }
 ],
 "metadata": {
  "kernelspec": {
   "display_name": "Python 3",
   "language": "python",
   "name": "python3"
  },
  "language_info": {
   "codemirror_mode": {
    "name": "ipython",
    "version": 3
   },
   "file_extension": ".py",
   "mimetype": "text/x-python",
   "name": "python",
   "nbconvert_exporter": "python",
   "pygments_lexer": "ipython3",
   "version": "3.5.2"
  }
 },
 "nbformat": 4,
 "nbformat_minor": 2
}
