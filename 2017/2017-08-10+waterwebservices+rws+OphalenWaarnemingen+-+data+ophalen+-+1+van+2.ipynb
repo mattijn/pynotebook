{
 "cells": [
  {
   "cell_type": "raw",
   "metadata": {},
   "source": [
    "---\n",
    "title: Opvragen van 10 minuten data voor NL meetstations via waterwebservices van RWS\n",
    "authors:\n",
    "- mattijn_van_hoek\n",
    "tags:\n",
    "- rws\n",
    "- waterwebservices\n",
    "created_at: 2017-08-10\n",
    "updated_at: 2017-08-11\n",
    "tldr: Online rekendocument welke laat hoe data van RWS water webservices wordt opgevraagd en weggeschreven wordt naar een HDFStore\n",
    "---"
   ]
  },
  {
   "cell_type": "code",
   "execution_count": null,
   "metadata": {
    "collapsed": true
   },
   "outputs": [],
   "source": [
    "import requests\n",
    "import json\n",
    "\n",
    "import numpy as np\n",
    "import pandas as pd\n",
    "\n",
    "from datetime import datetime\n",
    "from dateutil.relativedelta import relativedelta\n",
    "import pytz\n",
    "\n",
    "from multiprocessing.pool import ThreadPool\n",
    "from tqdm import tqdm_notebook as tqdm\n",
    "from time import time as timer\n",
    "from IPython.display import clear_output\n",
    "\n",
    "%matplotlib inline"
   ]
  },
  {
   "cell_type": "markdown",
   "metadata": {},
   "source": [
    "De distributielaag van de waterwebservices van rijkswaterstaat is minimaal gedocumenteerd in het document <a href=\"https://www.rijkswaterstaat.nl/rws/opendata/DistributielaagWebservices-SUM-2v7.pdf\">DistributielaagWebservices-SUM-2v7.pdf</a>. \n",
    "\n",
    "Er zijn vier verschillende services met verschillende type request binnen elke service. De services zijn:\n",
    "- MetadataServices\n",
    "- OnlinewaarnemingenServices\n",
    "- BulkwaarnemingServices\n",
    "- WebFeatureServices\n",
    "\n",
    "Hieronder is toegepast hoe deze services gebruikt kunnen worden om zeespiegelwaterstanden mee op te vragen"
   ]
  },
  {
   "cell_type": "code",
   "execution_count": null,
   "metadata": {
    "collapsed": true
   },
   "outputs": [],
   "source": [
    "OphalenCatalogus           = 'https://waterwebservices.rijkswaterstaat.nl/METADATASERVICES_DBO/OphalenCatalogus/'\n",
    "OphalenWaarnemingen        = 'https://waterwebservices.rijkswaterstaat.nl/ONLINEWAARNEMINGENSERVICES_DBO/OphalenWaarnemingen'\n",
    "OphalenLaatsteWaarnemingen = 'https://waterwebservices.rijkswaterstaat.nl/ONLINEWAARNEMINGENSERVICES_DBO/OphalenLaatsteWaarnemingen'"
   ]
  },
  {
   "cell_type": "markdown",
   "metadata": {},
   "source": [
    "Begin met een metadata request via de `OpenhalenCatalogus`"
   ]
  },
  {
   "cell_type": "code",
   "execution_count": null,
   "metadata": {
    "collapsed": true
   },
   "outputs": [],
   "source": [
    "# get station information from DDL (metadata uit Catalogus)\n",
    "request = {\n",
    "    \"CatalogusFilter\": {\n",
    "        \"Eenheden\": True,\n",
    "        \"Grootheden\": True,\n",
    "        \"Hoedanigheden\": True\n",
    "    }\n",
    "}\n",
    "resp = requests.post(OphalenCatalogus, json=request)\n",
    "result = resp.json()\n",
    "# print alle variabelen in de catalogus\n",
    "#print(result)\n",
    "\n",
    "dfLocaties = pd.DataFrame(result['LocatieLijst']).set_index('Code')\n",
    "# load normalized JSON object (since it contains nested JSON)\n",
    "dfMetadata = pd.io.json.json_normalize(result['AquoMetadataLijst']).set_index('AquoMetadata_MessageID')"
   ]
  },
  {
   "cell_type": "code",
   "execution_count": null,
   "metadata": {
    "collapsed": false
   },
   "outputs": [],
   "source": [
    "# note that there are two stations for IJmuiden. \n",
    "# The station was moved from the sluices to outside of the harbor in 1981.\n",
    "ids = ['DELFZL', 'DENHDR', 'HARLGN', 'HOEKVHLD', 'IJMDBTHVN', 'IJMDNDSS', 'VLISSGN']\n",
    "dfLocaties.loc[ids]"
   ]
  },
  {
   "cell_type": "markdown",
   "metadata": {},
   "source": [
    "Vervolg met het ophalen van waarnemingen request via de `OpenhalenWaarnemingen`"
   ]
  },
  {
   "cell_type": "markdown",
   "metadata": {},
   "source": [
    "De waterwebservices werkt door middel van een POST query van een JSON object met daarin 3 elementen gedefineerd:\n",
    "- Locatie\n",
    "- AquoPlusWaarnemingMetadata\n",
    "- Periode\n",
    "\n",
    "Een voorbeeld ziet er als volgt uit:"
   ]
  },
  {
   "cell_type": "code",
   "execution_count": null,
   "metadata": {
    "collapsed": true
   },
   "outputs": [],
   "source": [
    "request_handmatig = {\n",
    "  'Locatie': {\n",
    "    'X': 761899.770959577,\n",
    "    'Y': 5915790.48491405,\n",
    "    'Code': 'DELFZL'\n",
    "  },\n",
    "  'AquoPlusWaarnemingMetadata': {\n",
    "    'AquoMetadata': {\n",
    "      'Eenheid': {\n",
    "        'Code': 'cm'\n",
    "      },\n",
    "      'Grootheid': {\n",
    "        'Code': 'WATHTE'\n",
    "      },\n",
    "      'Hoedanigheid': {\n",
    "        'Code': 'NAP'\n",
    "      }\n",
    "    }\n",
    "  },\n",
    "  'Periode': {\n",
    "    'Einddatumtijd': '2012-01-27T09:30:00.000+01:00',\n",
    "    'Begindatumtijd': '2012-01-27T09:00:00.000+01:00'\n",
    "  }\n",
    "}"
   ]
  },
  {
   "cell_type": "markdown",
   "metadata": {},
   "source": [
    "Een dynamisch object kunnen we als volgt maken"
   ]
  },
  {
   "cell_type": "code",
   "execution_count": null,
   "metadata": {
    "collapsed": true
   },
   "outputs": [],
   "source": [
    "def strftime(date):\n",
    "    \"\"\"\n",
    "    hopelijk heeft iemand nog een beter idee hoe je makkelijk een isoformat \n",
    "    zie uitstaande vraag https://stackoverflow.com/q/45610753/2459096\n",
    "    \"\"\"\n",
    "    (dt, micro,tz) = date.strftime('%Y-%m-%dT%H:%M:%S.%f%Z:00').replace('+','.').split('.')\n",
    "    dt = \"%s.%03d+%s\" % (dt, int(micro) / 1000,tz)\n",
    "    return dt\n",
    "\n",
    "def POSTOphalenWaarnemingen(beginDatumTijd, dfLocatie, dfAquoMetadata):\n",
    "    \"\"\"\n",
    "    maak een JSON object aan voor een POST request voor het ophalen van waarnemingen\n",
    "    Parameters\n",
    "    ---\n",
    "    beginDatumTijd   :  datetime object inc tzinfo \n",
    "                        (eindDatumTijd staat nu hard in code op 1 maand na beginDatumTijd)\n",
    "    dfLocatie        :  dataframe met enkel station locatie info\n",
    "    dfAquoMetaData   :  dataframe object met enkel eenheid/grootheid/hoedanigheid info\n",
    "    \n",
    "    returns JSON object\n",
    "    \"\"\"\n",
    "    # empty json object\n",
    "    request_dynamisch = {}\n",
    "\n",
    "    request_dynamisch['Locatie'] = {}\n",
    "    rd_Locatie = request_dynamisch['Locatie']\n",
    "    rd_Locatie['X'] = dfLocatie.X#float(\"{:.9f}\".format(dfLocatie.loc[ids[0]].X))\n",
    "    rd_Locatie['Y'] = dfLocatie.Y#float(\"{:.8f}\".format(dfLocatie.loc[ids[0]].Y))\n",
    "    rd_Locatie['Code'] = dfLocatie.name\n",
    "\n",
    "    request_dynamisch['AquoPlusWaarnemingMetadata'] = {}\n",
    "    rd_APWM = request_dynamisch['AquoPlusWaarnemingMetadata']\n",
    "    rd_APWM['AquoMetadata'] = {}\n",
    "    rd_AM = rd_APWM['AquoMetadata']\n",
    "    rd_AM['Eenheid']      = {'Code':dfAquoMetadata['Eenheid.Code'].values[0]}\n",
    "    rd_AM['Grootheid']    = {'Code':dfAquoMetadata['Grootheid.Code'].values[0]}\n",
    "    rd_AM['Hoedanigheid'] = {'Code':dfAquoMetadata['Hoedanigheid.Code'].values[0]}\n",
    "\n",
    "    request_dynamisch['Periode'] = {}\n",
    "    rd_Periode = request_dynamisch['Periode']\n",
    "    rd_Periode['Begindatumtijd'] = strftime(beginDatumTijd)\n",
    "    #strftime(datetime(year=2012, month=1, day=27, hour=9, minute=0,tzinfo=pytz.timezone('Etc/GMT-1')))\n",
    "    rd_Periode['Einddatumtijd']  = strftime(beginDatumTijd+relativedelta(months=1))\n",
    "    \n",
    "    return request_dynamisch"
   ]
  },
  {
   "cell_type": "code",
   "execution_count": null,
   "metadata": {
    "collapsed": false
   },
   "outputs": [],
   "source": [
    "# maak handmatig een lange lijst van data objecten\n",
    "# alleen begin-data sinds eind-data steeds 1 maand na begin-data is\n",
    "startDates = []\n",
    "for year in np.arange(1850,2018):\n",
    "    for month in np.arange(1,13):\n",
    "        startDates.append(datetime(year=year, month=month, day=1, hour=0, minute=0,tzinfo=pytz.timezone('Etc/GMT-1')))\n",
    "startDates = pd.Series(startDates)\n",
    "startDates.head()"
   ]
  },
  {
   "cell_type": "code",
   "execution_count": null,
   "metadata": {
    "collapsed": false
   },
   "outputs": [],
   "source": [
    "# selDates = startDates[(startDates > '1879-01-01') & (startDates < '1879-06-01')]\n",
    "# selDates"
   ]
  },
  {
   "cell_type": "code",
   "execution_count": null,
   "metadata": {
    "collapsed": false
   },
   "outputs": [],
   "source": [
    "# # selecteer een enkel station\n",
    "# for station in ids[0:1]:\n",
    "#     dfLocatie = dfLocaties.loc[station]\n",
    "# dfLocatie.head()"
   ]
  },
  {
   "cell_type": "code",
   "execution_count": null,
   "metadata": {
    "collapsed": false
   },
   "outputs": [],
   "source": [
    "# selecteer een metadata object op basis van eenheid/grootheid/hoedanigheid\n",
    "df_WATHTE_NAP = dfMetadata[(dfMetadata['Grootheid.Code']=='WATHTE')&(dfMetadata['Hoedanigheid.Code']=='NAP')]\n",
    "df_WATHTE_NAP.T.head()"
   ]
  },
  {
   "cell_type": "code",
   "execution_count": null,
   "metadata": {
    "collapsed": false
   },
   "outputs": [],
   "source": [
    "# request_dynamisch = POSTOphalenWaarnemingen(beginDatumTijd=selDates[3],dfLocatie=dfLocatie,dfAquoMetadata=df_WATHTE_NAP)\n",
    "# request_dynamisch"
   ]
  },
  {
   "cell_type": "code",
   "execution_count": null,
   "metadata": {
    "collapsed": false
   },
   "outputs": [],
   "source": [
    "# try:\n",
    "#     resp = requests.post(OphalenWaarnemingen, json=request_handmatig)\n",
    "#     df_out = pd.io.json.json_normalize(resp.json()['WaarnemingenLijst'][0]['MetingenLijst'])[['Meetwaarde.Waarde_Numeriek','Tijdstip']]\n",
    "#     df_out['Tijdstip'] = pd.to_datetime(df_out['Tijdstip'])\n",
    "#     df_out.set_index('Tijdstip', inplace=True)\n",
    "#     df_out.columns=['zeespiegel_cmNAP']\n",
    "#     df_out.loc[df_out['zeespiegel_cmNAP'] == 999999999.0] = np.nan\n",
    "#     df_out.plot()\n",
    "# except Exception as e:\n",
    "#     print (e)"
   ]
  },
  {
   "cell_type": "markdown",
   "metadata": {},
   "source": [
    "Open een HDFStore om de maandelijkse 10 minuten data weg te schrijven in een PyTables object.  "
   ]
  },
  {
   "cell_type": "markdown",
   "metadata": {},
   "source": [
    "Maak een functie van de OphalenWaarnemingen in combinatie met schrijf actie"
   ]
  },
  {
   "cell_type": "code",
   "execution_count": null,
   "metadata": {
    "collapsed": true
   },
   "outputs": [],
   "source": [
    "def fetch_OphalenWaarnemingen(startDate):\n",
    "    try:\n",
    "        # prepare the POST object\n",
    "        request_dynamisch=POSTOphalenWaarnemingen(beginDatumTijd = startDate,\n",
    "                                                  dfLocatie = dfLocatie,\n",
    "                                                  dfAquoMetadata = df_WATHTE_NAP)\n",
    "        # do the query\n",
    "        resp = requests.post(OphalenWaarnemingen, json=request_dynamisch)\n",
    "        \n",
    "        # parse the result to DataFrame\n",
    "        df_out = pd.io.json.json_normalize(resp.json()['WaarnemingenLijst'][0]['MetingenLijst'])[['Meetwaarde.Waarde_Numeriek','Tijdstip']]\n",
    "        df_out['Tijdstip'] = pd.to_datetime(df_out['Tijdstip'])\n",
    "        df_out.set_index('Tijdstip', inplace=True)\n",
    "        df_out.columns=['zeespiegel_cmNAP']\n",
    "        df_out.loc[df_out['zeespiegel_cmNAP'] == 999999999.0] = np.nan\n",
    "        # add to HDFStore        \n",
    "        hdf.append(key = dfLocatie.name+'/year'+str(startDate.year), \n",
    "                   value = df_out, format='table')\n",
    "        \n",
    "        return startDate, None\n",
    "    except Exception as e:\n",
    "        return startDate, e"
   ]
  },
  {
   "cell_type": "code",
   "execution_count": null,
   "metadata": {
    "collapsed": true
   },
   "outputs": [],
   "source": [
    "# hdf = pd.HDFStore('stationData.h5') # depends on PyTables\n",
    "\n",
    "# start = timer()\n",
    "# results = ThreadPool(20).imap_unordered(fetch_OphalenWaarnemingen, startDates)\n",
    "\n",
    "# for startDate, error in results:\n",
    "#     if error is None:\n",
    "#         print(\"%r fetched en verwerkt in %ss\" % (startDate, timer() - start))\n",
    "#     else:\n",
    "#         print(\"error fetching %r: %s\" % (startDate, error))\n",
    "# print(\"Verstreken tijd: %s\" % (timer() - start,))"
   ]
  },
  {
   "cell_type": "markdown",
   "metadata": {},
   "source": [
    "Het gebruik van een ThreadPool om de data op te vragen lukt wel, maar het lijkt alsof ik niet in parallel kan schrijven naar een HDFStore. \n",
    "\n",
    "Zie https://github.com/pandas-dev/pandas/issues/4409#issuecomment-21906827: `'yes concurrent writing from thread/process or even multi processing can cause havoc, [..] really just avoid it'`\n",
    "\n",
    "Dan maar met een dubbel lusje over stations en dates."
   ]
  },
  {
   "cell_type": "code",
   "execution_count": null,
   "metadata": {
    "collapsed": false
   },
   "outputs": [],
   "source": [
    "hdf = pd.HDFStore('stationData_20170821.h5') # depends on PyTables\n",
    "start = timer()\n",
    "\n",
    "# itereer over stations\n",
    "for station in tqdm(ids):\n",
    "    dfLocatie = dfLocaties.loc[station]    \n",
    "\n",
    "    for startDate in tqdm(startDates):\n",
    "        startDate, error = fetch_OphalenWaarnemingen(startDate)\n",
    "\n",
    "        if error is None:\n",
    "            print(\"%r fetched en verwerkt in %ss\" % (startDate, timer() - start))\n",
    "        else:\n",
    "            print(\"error fetching %r: %s\" % (startDate, error))\n",
    "        clear_output(wait=True)\n",
    "print(\"Verstreken tijd: %s\" % (timer() - start,))    "
   ]
  },
  {
   "cell_type": "code",
   "execution_count": null,
   "metadata": {
    "collapsed": true
   },
   "outputs": [],
   "source": [
    "hdf.close()"
   ]
  },
  {
   "cell_type": "code",
   "execution_count": null,
   "metadata": {
    "collapsed": true
   },
   "outputs": [],
   "source": [
    "hdf."
   ]
  },
  {
   "cell_type": "code",
   "execution_count": null,
   "metadata": {
    "collapsed": true
   },
   "outputs": [],
   "source": [
    "hdf.is_open"
   ]
  }
 ],
 "metadata": {
  "kernelspec": {
   "display_name": "Python 3",
   "language": "python",
   "name": "python3"
  },
  "language_info": {
   "codemirror_mode": {
    "name": "ipython",
    "version": 3
   },
   "file_extension": ".py",
   "mimetype": "text/x-python",
   "name": "python",
   "nbconvert_exporter": "python",
   "pygments_lexer": "ipython3",
   "version": "3.6.0"
  },
  "widgets": {
   "state": {
    "61484d0b52a24627aa076fe0354edd60": {
     "views": [
      {
       "cell_index": 23
      }
     ]
    },
    "765fb667962e4b988b4ab82a89f5d870": {
     "views": [
      {
       "cell_index": 23
      }
     ]
    },
    "89480170b8f1441e8a84254141d8da0e": {
     "views": [
      {
       "cell_index": 23
      }
     ]
    },
    "b7c53f0ea51e42c79567eff11c352d7f": {
     "views": [
      {
       "cell_index": 23
      }
     ]
    }
   },
   "version": "1.2.0"
  }
 },
 "nbformat": 4,
 "nbformat_minor": 2
}
