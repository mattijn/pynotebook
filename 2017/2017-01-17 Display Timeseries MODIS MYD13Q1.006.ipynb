{
 "cells": [
  {
   "cell_type": "code",
   "execution_count": 1,
   "metadata": {
    "collapsed": true
   },
   "outputs": [],
   "source": [
    "import rasterio\n",
    "import numpy as np\n",
    "from datetime import datetime, timedelta\n",
    "from affine import Affine\n",
    "from pyproj import Proj, transform\n",
    "import os, glob\n",
    "import gdal, osr\n",
    "import pandas as pd\n",
    "%matplotlib inline"
   ]
  },
  {
   "cell_type": "code",
   "execution_count": 2,
   "metadata": {
    "collapsed": false
   },
   "outputs": [],
   "source": [
    "import re\n",
    "\n",
    "def dms2dd(degrees, minutes, seconds, direction):\n",
    "    dd = float(degrees) + float(minutes)/60 + float(seconds)/(60*60);\n",
    "    if direction == 'S' or direction == 'W':\n",
    "        dd *= -1\n",
    "    return dd;\n",
    "\n",
    "def dd2dms(deg):\n",
    "    d = int(deg)\n",
    "    md = abs(deg - d) * 60\n",
    "    m = int(md)\n",
    "    sd = (md - m) * 60\n",
    "    return [d, m, sd]\n",
    "\n",
    "def parse_dms(dms):\n",
    "    #parts = re.split('[^\\d\\w]+', dms)\n",
    "    parts = re.split('[^\\d\\w\\.]+', dms)\n",
    "    #print (parts)\n",
    "    lat = dms2dd(parts[0], parts[1], parts[2], parts[3])\n",
    "    long = dms2dd(parts[4], parts[5], parts[6], parts[7])\n",
    "    #lat = dms2dd(parts[0], parts[1], parts[2] + \".\" + parts[3], parts[4])\n",
    "    return (lat, long)"
   ]
  },
  {
   "cell_type": "code",
   "execution_count": 3,
   "metadata": {
    "collapsed": false
   },
   "outputs": [
    {
     "name": "stdout",
     "output_type": "stream",
     "text": [
      "D:\\Projects\\Pr\\3492.10\\MYD13Q1\\tif\\MYD13Q1.A2016105.h18v03.006.2016123094508_projected_250m 16 days NDVI.tif\n"
     ]
    }
   ],
   "source": [
    "# create the list of files to use\n",
    "tifdir = r'D:\\Projects\\Pr\\3492.10\\MYD13Q1\\tif'\n",
    "tiffiles = glob.glob(os.path.join(tifdir, 'MYD13Q1.A2016*.tif'))\n",
    "print (tiffiles[0])"
   ]
  },
  {
   "cell_type": "code",
   "execution_count": 4,
   "metadata": {
    "collapsed": false
   },
   "outputs": [],
   "source": [
    "loc_stations = {'Bankenbos' :\"\"\"53°1'14.75\"N 6°24'9.93\"E\"\"\",\n",
    "                'Fleditebos':\"\"\"52°19'6.00\"N 5°27'12.00\"E\"\"\",\n",
    "                'Kampina'   :\"\"\"51°34'1.00\"N 5°17'27.00\"E\"\"\",\n",
    "                'Cabauw'    :\"\"\"51°58'12.79\"N 4°55'34.28\"E\"\"\",\n",
    "                'Haastrecht':\"\"\"52°0'11.29\"N 4°48'19.83\"E\"\"\",\n",
    "                'Langerak'  :\"\"\"51°57'12.91\"N 4°54'10.46\"E\"\"\",\n",
    "                'Molenweg'  :\"\"\"51°39'9.80\"N 4°38'10.85\"E\"\"\",\n",
    "                'Dijkgraaf' :\"\"\"51°59'31.42\"N 5°38'45.40\"E\"\"\",\n",
    "                'Lutjewad'  :\"\"\"53°23'56.12\"N 6°21'21.70\"E\"\"\",\n",
    "                'Oostwaard' :\"\"\"52°49'53.88\"N 4°54'33.52\"E\"\"\",\n",
    "                'Vredepeel' :\"\"\"51°31'51.37\"N 5°50'37.50\"E\"\"\",\n",
    "                'Loobos'    :\"\"\"52°9'59.69\"N 5°44'36.80\"E\"\"\",\n",
    "               }"
   ]
  },
  {
   "cell_type": "code",
   "execution_count": 5,
   "metadata": {
    "collapsed": false
   },
   "outputs": [
    {
     "name": "stdout",
     "output_type": "stream",
     "text": [
      "lat 51.970219444444446 lon 4.926188888888889\n",
      "northing 123320.36763863487 easting 442522.83459451684\n"
     ]
    }
   ],
   "source": [
    "# define projections\n",
    "P28992 = Proj(init='epsg:28992')\n",
    "P4326 = Proj(init='epsg:4326')\n",
    "\n",
    "# go from DMS to decimal degrees (EPSG:4326) to rijksdriehoek (EPSG:28992)\n",
    "lat, lon = parse_dms(loc_stations['Cabauw'])\n",
    "mx,my = transform(P4326, P28992, lon, lat)\n",
    "print ('lat',lat,'lon',lon)\n",
    "print ('northing',mx,'easting',my)"
   ]
  },
  {
   "cell_type": "code",
   "execution_count": 6,
   "metadata": {
    "collapsed": false
   },
   "outputs": [
    {
     "data": {
      "text/plain": [
       "dict_values(['51°34\\'1.00\"N 5°17\\'27.00\"E', '52°19\\'6.00\"N 5°27\\'12.00\"E', '53°23\\'56.12\"N 6°21\\'21.70\"E', '53°1\\'14.75\"N 6°24\\'9.93\"E', '51°57\\'12.91\"N 4°54\\'10.46\"E', '51°59\\'31.42\"N 5°38\\'45.40\"E', '52°0\\'11.29\"N 4°48\\'19.83\"E', '51°39\\'9.80\"N 4°38\\'10.85\"E', '52°9\\'59.69\"N 5°44\\'36.80\"E', '51°31\\'51.37\"N 5°50\\'37.50\"E', '51°58\\'12.79\"N 4°55\\'34.28\"E', '52°49\\'53.88\"N 4°54\\'33.52\"E'])"
      ]
     },
     "execution_count": 6,
     "metadata": {},
     "output_type": "execute_result"
    }
   ],
   "source": [
    "loc_stations.values()"
   ]
  },
  {
   "cell_type": "code",
   "execution_count": 7,
   "metadata": {
    "collapsed": false
   },
   "outputs": [
    {
     "name": "stdout",
     "output_type": "stream",
     "text": [
      "0 Kampina 51°34'1.00\"N 5°17'27.00\"E\n",
      "1 Fleditebos 52°19'6.00\"N 5°27'12.00\"E\n",
      "2 Lutjewad 53°23'56.12\"N 6°21'21.70\"E\n",
      "3 Bankenbos 53°1'14.75\"N 6°24'9.93\"E\n",
      "4 Langerak 51°57'12.91\"N 4°54'10.46\"E\n",
      "5 Dijkgraaf 51°59'31.42\"N 5°38'45.40\"E\n",
      "6 Haastrecht 52°0'11.29\"N 4°48'19.83\"E\n",
      "7 Molenweg 51°39'9.80\"N 4°38'10.85\"E\n",
      "8 Loobos 52°9'59.69\"N 5°44'36.80\"E\n",
      "9 Vredepeel 51°31'51.37\"N 5°50'37.50\"E\n",
      "10 Cabauw 51°58'12.79\"N 4°55'34.28\"E\n",
      "11 Oostwaard 52°49'53.88\"N 4°54'33.52\"E\n"
     ]
    }
   ],
   "source": [
    "latlong_stations = []\n",
    "for idx,item in enumerate(loc_stations):\n",
    "    print (idx, item, loc_stations[item])\n",
    "    lat, lon = parse_dms(loc_stations[item])\n",
    "    t_out = [item,lat,lon]\n",
    "    latlong_stations.append(t_out)\n",
    "    "
   ]
  },
  {
   "cell_type": "code",
   "execution_count": 8,
   "metadata": {
    "collapsed": false
   },
   "outputs": [
    {
     "data": {
      "text/plain": [
       "[['Kampina', 51.566944444444445, 5.2908333333333335],\n",
       " ['Fleditebos', 52.318333333333335, 5.453333333333333],\n",
       " ['Lutjewad', 53.398922222222225, 6.356027777777777],\n",
       " ['Bankenbos', 53.02076388888889, 6.402758333333334],\n",
       " ['Langerak', 51.953586111111115, 4.902905555555556],\n",
       " ['Dijkgraaf', 51.99206111111111, 5.645944444444444],\n",
       " ['Haastrecht', 52.00313611111111, 4.805508333333333],\n",
       " ['Molenweg', 51.65272222222222, 4.636347222222222],\n",
       " ['Loobos', 52.166580555555555, 5.743555555555556],\n",
       " ['Vredepeel', 51.53093611111111, 5.84375],\n",
       " ['Cabauw', 51.970219444444446, 4.926188888888889],\n",
       " ['Oostwaard', 52.831633333333336, 4.909311111111111]]"
      ]
     },
     "execution_count": 8,
     "metadata": {},
     "output_type": "execute_result"
    }
   ],
   "source": [
    "latlong_stations"
   ]
  },
  {
   "cell_type": "code",
   "execution_count": 9,
   "metadata": {
    "collapsed": false
   },
   "outputs": [
    {
     "name": "stdout",
     "output_type": "stream",
     "text": [
      "MYD13Q1.A2016105.h18v03.006.2016123094508_projected_250m 16 days NDVI.tif\n",
      "2016 105\n",
      "MYD13Q1.A2016121.h18v03.006.2016140121354_projected_250m 16 days NDVI.tif\n",
      "2016 121\n",
      "MYD13Q1.A2016137.h18v03.006.2016165123307_projected_250m 16 days NDVI.tif\n",
      "2016 137\n",
      "MYD13Q1.A2016153.h18v03.006.2016173013105_projected_250m 16 days NDVI.tif\n",
      "2016 153\n",
      "MYD13Q1.A2016169.h18v03.006.2016188131210_projected_250m 16 days NDVI.tif\n",
      "2016 169\n",
      "MYD13Q1.A2016185.h18v03.006.2016202032554_projected_250m 16 days NDVI.tif\n",
      "2016 185\n",
      "MYD13Q1.A2016201.h18v03.006.2016223021811_projected_250m 16 days NDVI.tif\n",
      "2016 201\n",
      "MYD13Q1.A2016217.h18v03.006.2016237024923_projected_250m 16 days NDVI.tif\n",
      "2016 217\n",
      "MYD13Q1.A2016233.h18v03.006.2016250035628_projected_250m 16 days NDVI.tif\n",
      "2016 233\n",
      "MYD13Q1.A2016249.h18v03.006.2016266032255_projected_250m 16 days NDVI.tif\n",
      "2016 249\n",
      "MYD13Q1.A2016265.h18v03.006.2016282025227_projected_250m 16 days NDVI.tif\n",
      "2016 265\n",
      "MYD13Q1.A2016281.h18v03.006.2016299231353_projected_250m 16 days NDVI.tif\n",
      "2016 281\n",
      "MYD13Q1.A2016297.h18v03.006.2016314154834_projected_250m 16 days NDVI.tif\n",
      "2016 297\n",
      "[Timestamp('2016-04-14 00:00:00') Timestamp('2016-04-30 00:00:00')\n",
      " Timestamp('2016-05-16 00:00:00') Timestamp('2016-06-01 00:00:00')\n",
      " Timestamp('2016-06-17 00:00:00') Timestamp('2016-07-03 00:00:00')\n",
      " Timestamp('2016-07-19 00:00:00') Timestamp('2016-08-04 00:00:00')\n",
      " Timestamp('2016-08-20 00:00:00') Timestamp('2016-09-05 00:00:00')\n",
      " Timestamp('2016-09-21 00:00:00') Timestamp('2016-10-07 00:00:00')\n",
      " Timestamp('2016-10-23 00:00:00')]\n"
     ]
    }
   ],
   "source": [
    "# get all timestamps from geotif files and store as index list\n",
    "index = []\n",
    "for i in tiffiles:\n",
    "    path, file = os.path.split(i)\n",
    "    # get date as combination of year and day of year\n",
    "    year = int(file[9:13])\n",
    "    doy = int(file[13:16])\n",
    "    print (file)\n",
    "    print (year, doy)\n",
    "    date = datetime(year, 1, 1) + timedelta(doy - 1)\n",
    "    date = np.datetime64(date)\n",
    "    date = pd.Timestamp(np.datetime_as_string(date))\n",
    "    index.append(date)\n",
    "index = np.array(index)\n",
    "\n",
    "print (index)"
   ]
  },
  {
   "cell_type": "code",
   "execution_count": 10,
   "metadata": {
    "collapsed": false
   },
   "outputs": [
    {
     "data": {
      "text/html": [
       "<div>\n",
       "<table border=\"1\" class=\"dataframe\">\n",
       "  <thead>\n",
       "    <tr style=\"text-align: right;\">\n",
       "      <th></th>\n",
       "      <th>Kampina</th>\n",
       "      <th>Fleditebos</th>\n",
       "      <th>Lutjewad</th>\n",
       "      <th>Bankenbos</th>\n",
       "      <th>Langerak</th>\n",
       "      <th>Dijkgraaf</th>\n",
       "      <th>Haastrecht</th>\n",
       "      <th>Molenweg</th>\n",
       "      <th>Loobos</th>\n",
       "      <th>Vredepeel</th>\n",
       "      <th>Cabauw</th>\n",
       "      <th>Oostwaard</th>\n",
       "    </tr>\n",
       "  </thead>\n",
       "  <tbody>\n",
       "    <tr>\n",
       "      <th>2016-04-14</th>\n",
       "      <td>NaN</td>\n",
       "      <td>NaN</td>\n",
       "      <td>NaN</td>\n",
       "      <td>NaN</td>\n",
       "      <td>NaN</td>\n",
       "      <td>NaN</td>\n",
       "      <td>NaN</td>\n",
       "      <td>NaN</td>\n",
       "      <td>NaN</td>\n",
       "      <td>NaN</td>\n",
       "      <td>NaN</td>\n",
       "      <td>NaN</td>\n",
       "    </tr>\n",
       "    <tr>\n",
       "      <th>2016-04-30</th>\n",
       "      <td>NaN</td>\n",
       "      <td>NaN</td>\n",
       "      <td>NaN</td>\n",
       "      <td>NaN</td>\n",
       "      <td>NaN</td>\n",
       "      <td>NaN</td>\n",
       "      <td>NaN</td>\n",
       "      <td>NaN</td>\n",
       "      <td>NaN</td>\n",
       "      <td>NaN</td>\n",
       "      <td>NaN</td>\n",
       "      <td>NaN</td>\n",
       "    </tr>\n",
       "    <tr>\n",
       "      <th>2016-05-16</th>\n",
       "      <td>NaN</td>\n",
       "      <td>NaN</td>\n",
       "      <td>NaN</td>\n",
       "      <td>NaN</td>\n",
       "      <td>NaN</td>\n",
       "      <td>NaN</td>\n",
       "      <td>NaN</td>\n",
       "      <td>NaN</td>\n",
       "      <td>NaN</td>\n",
       "      <td>NaN</td>\n",
       "      <td>NaN</td>\n",
       "      <td>NaN</td>\n",
       "    </tr>\n",
       "    <tr>\n",
       "      <th>2016-06-01</th>\n",
       "      <td>NaN</td>\n",
       "      <td>NaN</td>\n",
       "      <td>NaN</td>\n",
       "      <td>NaN</td>\n",
       "      <td>NaN</td>\n",
       "      <td>NaN</td>\n",
       "      <td>NaN</td>\n",
       "      <td>NaN</td>\n",
       "      <td>NaN</td>\n",
       "      <td>NaN</td>\n",
       "      <td>NaN</td>\n",
       "      <td>NaN</td>\n",
       "    </tr>\n",
       "    <tr>\n",
       "      <th>2016-06-17</th>\n",
       "      <td>NaN</td>\n",
       "      <td>NaN</td>\n",
       "      <td>NaN</td>\n",
       "      <td>NaN</td>\n",
       "      <td>NaN</td>\n",
       "      <td>NaN</td>\n",
       "      <td>NaN</td>\n",
       "      <td>NaN</td>\n",
       "      <td>NaN</td>\n",
       "      <td>NaN</td>\n",
       "      <td>NaN</td>\n",
       "      <td>NaN</td>\n",
       "    </tr>\n",
       "  </tbody>\n",
       "</table>\n",
       "</div>"
      ],
      "text/plain": [
       "           Kampina Fleditebos Lutjewad Bankenbos Langerak Dijkgraaf  \\\n",
       "2016-04-14     NaN        NaN      NaN       NaN      NaN       NaN   \n",
       "2016-04-30     NaN        NaN      NaN       NaN      NaN       NaN   \n",
       "2016-05-16     NaN        NaN      NaN       NaN      NaN       NaN   \n",
       "2016-06-01     NaN        NaN      NaN       NaN      NaN       NaN   \n",
       "2016-06-17     NaN        NaN      NaN       NaN      NaN       NaN   \n",
       "\n",
       "           Haastrecht Molenweg Loobos Vredepeel Cabauw Oostwaard  \n",
       "2016-04-14        NaN      NaN    NaN       NaN    NaN       NaN  \n",
       "2016-04-30        NaN      NaN    NaN       NaN    NaN       NaN  \n",
       "2016-05-16        NaN      NaN    NaN       NaN    NaN       NaN  \n",
       "2016-06-01        NaN      NaN    NaN       NaN    NaN       NaN  \n",
       "2016-06-17        NaN      NaN    NaN       NaN    NaN       NaN  "
      ]
     },
     "execution_count": 10,
     "metadata": {},
     "output_type": "execute_result"
    }
   ],
   "source": [
    "# get column names from loc_stations dictionary and store as dataframe\n",
    "columns = list(loc_stations.keys())\n",
    "df = pd.DataFrame(index=index, columns=columns)\n",
    "df.head()"
   ]
  },
  {
   "cell_type": "code",
   "execution_count": 11,
   "metadata": {
    "collapsed": false
   },
   "outputs": [
    {
     "name": "stdout",
     "output_type": "stream",
     "text": [
      "Kampina\n",
      "lat 51.566944444444445 lon 5.2908333333333335\n",
      "northing 148318.38497013383 easting 397560.67417329067\n",
      "Fleditebos\n",
      "lat 52.318333333333335 lon 5.453333333333333\n",
      "northing 159508.94391427966 easting 481155.68644245144\n",
      "Lutjewad\n",
      "lat 53.398922222222225 lon 6.356027777777777\n",
      "northing 219443.16161995087 easting 601834.1156680665\n",
      "Bankenbos\n",
      "lat 53.02076388888889 lon 6.402758333333334\n",
      "northing 223144.77983792173 easting 559794.811782909\n",
      "Langerak\n",
      "lat 51.953586111111115 lon 4.902905555555556\n",
      "northing 121708.08394376884 easting 440682.69451096636\n",
      "Dijkgraaf\n",
      "lat 51.99206111111111 lon 5.645944444444444\n",
      "northing 172771.42051890463 easting 444884.12427824305\n",
      "Haastrecht\n",
      "lat 52.00313611111111 lon 4.805508333333333\n",
      "northing 115056.95548707253 easting 446244.4718567486\n",
      "Molenweg\n",
      "lat 51.65272222222222 lon 4.636347222222222\n",
      "northing 103039.00954907671 easting 407367.0995134113\n",
      "Loobos\n",
      "lat 52.166580555555555 lon 5.743555555555556\n",
      "northing 179380.355806715 easting 464329.2198771655\n",
      "Vredepeel\n",
      "lat 51.53093611111111 lon 5.84375\n",
      "northing 186679.48166334635 easting 393649.5926928291\n",
      "Cabauw\n",
      "lat 51.970219444444446 lon 4.926188888888889\n",
      "northing 123320.36763863487 easting 442522.83459451684\n",
      "Oostwaard\n",
      "lat 52.831633333333336 lon 4.909311111111111\n",
      "northing 122792.71886050075 easting 538374.9746167494\n"
     ]
    }
   ],
   "source": [
    "for siteIDin in columns:\n",
    "    # go from DMS to decimal degrees (EPSG:4326) to rijksdriehoek (EPSG:28992)\n",
    "    # siteIDin = 'Cabauw'\n",
    "    lat, lon = parse_dms(loc_stations[siteIDin])\n",
    "    mx,my = transform(P4326, P28992, lon, lat)\n",
    "    print (siteIDin)\n",
    "    print ('lat',lat,'lon',lon)\n",
    "    print ('northing',mx,'easting',my)\n",
    "\n",
    "    # array = np.zeros((len(tiffiles),15,15))\n",
    "    for idx, i in enumerate(tiffiles):\n",
    "        # load raster GeoTransform, RasterBand    \n",
    "        try:\n",
    "            src_ds = gdal.Open(i) \n",
    "            gt = src_ds.GetGeoTransform()\n",
    "            rb = src_ds.GetRasterBand(1)           \n",
    "\n",
    "            # convert from map to pixel coordinates.    \n",
    "            px = int((mx - gt[0]) / gt[1]) #x pixel\n",
    "            py = int((my - gt[3]) / gt[5]) #y pixel\n",
    "#             print ('pixel-x',px,'pixel-y',py)              \n",
    "\n",
    "            # get date\n",
    "            path, file = os.path.split(i)\n",
    "            year = int(file[9:13])\n",
    "            doy = int(file[13:16])\n",
    "            date = datetime(year, 1, 1) + timedelta(doy - 1)\n",
    "            date = np.datetime64(date)\n",
    "            date = pd.Timestamp(np.datetime_as_string(date))\n",
    "#             print (date)\n",
    "            \n",
    "          \n",
    "        except Exception as e:\n",
    "            print (e, i)\n",
    "            continue\n",
    "        try:\n",
    "            # get mean of nine pixels surround station ID\n",
    "            array_ID = rb.ReadAsArray(px,py,1,1).astype(np.float)\n",
    "            #array_ID = np.ma.masked_equal(array_ID, 0)\n",
    "            stationID_mean = np.ma.mean(array_ID)\n",
    "            df.ix[date][siteIDin] = stationID_mean\n",
    "            #array[idx] = array_ID_nine\n",
    "        except Exception as e:\n",
    "            print (e, i)\n",
    "            continue"
   ]
  },
  {
   "cell_type": "code",
   "execution_count": 12,
   "metadata": {
    "collapsed": false
   },
   "outputs": [
    {
     "data": {
      "text/html": [
       "<div>\n",
       "<table border=\"1\" class=\"dataframe\">\n",
       "  <thead>\n",
       "    <tr style=\"text-align: right;\">\n",
       "      <th></th>\n",
       "      <th>Kampina</th>\n",
       "      <th>Fleditebos</th>\n",
       "      <th>Lutjewad</th>\n",
       "      <th>Bankenbos</th>\n",
       "      <th>Langerak</th>\n",
       "      <th>Dijkgraaf</th>\n",
       "      <th>Haastrecht</th>\n",
       "      <th>Molenweg</th>\n",
       "      <th>Loobos</th>\n",
       "      <th>Vredepeel</th>\n",
       "      <th>Cabauw</th>\n",
       "      <th>Oostwaard</th>\n",
       "    </tr>\n",
       "  </thead>\n",
       "  <tbody>\n",
       "    <tr>\n",
       "      <th>2016-04-14</th>\n",
       "      <td>5926</td>\n",
       "      <td>6484</td>\n",
       "      <td>2530</td>\n",
       "      <td>3967</td>\n",
       "      <td>8654</td>\n",
       "      <td>8503</td>\n",
       "      <td>8697</td>\n",
       "      <td>7294</td>\n",
       "      <td>7331</td>\n",
       "      <td>4683</td>\n",
       "      <td>8385</td>\n",
       "      <td>6461</td>\n",
       "    </tr>\n",
       "    <tr>\n",
       "      <th>2016-04-30</th>\n",
       "      <td>7735</td>\n",
       "      <td>8047</td>\n",
       "      <td>3034</td>\n",
       "      <td>7343</td>\n",
       "      <td>6179</td>\n",
       "      <td>7523</td>\n",
       "      <td>8578</td>\n",
       "      <td>6452</td>\n",
       "      <td>7450</td>\n",
       "      <td>6227</td>\n",
       "      <td>7798</td>\n",
       "      <td>5993</td>\n",
       "    </tr>\n",
       "    <tr>\n",
       "      <th>2016-05-16</th>\n",
       "      <td>8223</td>\n",
       "      <td>3383</td>\n",
       "      <td>3850</td>\n",
       "      <td>6445</td>\n",
       "      <td>2230</td>\n",
       "      <td>7788</td>\n",
       "      <td>5875</td>\n",
       "      <td>6186</td>\n",
       "      <td>8281</td>\n",
       "      <td>1887</td>\n",
       "      <td>5628</td>\n",
       "      <td>6667</td>\n",
       "    </tr>\n",
       "    <tr>\n",
       "      <th>2016-06-01</th>\n",
       "      <td>8546</td>\n",
       "      <td>9053</td>\n",
       "      <td>5388</td>\n",
       "      <td>7238</td>\n",
       "      <td>6957</td>\n",
       "      <td>6126</td>\n",
       "      <td>7794</td>\n",
       "      <td>8150</td>\n",
       "      <td>7430</td>\n",
       "      <td>6251</td>\n",
       "      <td>8189</td>\n",
       "      <td>7169</td>\n",
       "    </tr>\n",
       "    <tr>\n",
       "      <th>2016-06-17</th>\n",
       "      <td>4878</td>\n",
       "      <td>8334</td>\n",
       "      <td>8527</td>\n",
       "      <td>8436</td>\n",
       "      <td>7209</td>\n",
       "      <td>6613</td>\n",
       "      <td>7471</td>\n",
       "      <td>1203</td>\n",
       "      <td>5517</td>\n",
       "      <td>2520</td>\n",
       "      <td>7847</td>\n",
       "      <td>5973</td>\n",
       "    </tr>\n",
       "  </tbody>\n",
       "</table>\n",
       "</div>"
      ],
      "text/plain": [
       "           Kampina Fleditebos Lutjewad Bankenbos Langerak Dijkgraaf  \\\n",
       "2016-04-14    5926       6484     2530      3967     8654      8503   \n",
       "2016-04-30    7735       8047     3034      7343     6179      7523   \n",
       "2016-05-16    8223       3383     3850      6445     2230      7788   \n",
       "2016-06-01    8546       9053     5388      7238     6957      6126   \n",
       "2016-06-17    4878       8334     8527      8436     7209      6613   \n",
       "\n",
       "           Haastrecht Molenweg Loobos Vredepeel Cabauw Oostwaard  \n",
       "2016-04-14       8697     7294   7331      4683   8385      6461  \n",
       "2016-04-30       8578     6452   7450      6227   7798      5993  \n",
       "2016-05-16       5875     6186   8281      1887   5628      6667  \n",
       "2016-06-01       7794     8150   7430      6251   8189      7169  \n",
       "2016-06-17       7471     1203   5517      2520   7847      5973  "
      ]
     },
     "execution_count": 12,
     "metadata": {},
     "output_type": "execute_result"
    }
   ],
   "source": [
    "df.head()"
   ]
  },
  {
   "cell_type": "raw",
   "metadata": {},
   "source": [
    "SDS Layer Name\t    Description\t        Units\tData Type\t            Fill Value\tValid Range\t    Scaling Factor\n",
    "250m_16_days_NDVI\t16 day NDVI average\tNDVI\t16-bit signed integer\t-3000\t    -2000 to 10000\t0.0001"
   ]
  },
  {
   "cell_type": "code",
   "execution_count": 13,
   "metadata": {
    "collapsed": true
   },
   "outputs": [],
   "source": [
    "df = df * 0.0001"
   ]
  },
  {
   "cell_type": "code",
   "execution_count": 14,
   "metadata": {
    "collapsed": false
   },
   "outputs": [
    {
     "data": {
      "text/plain": [
       "<matplotlib.axes._subplots.AxesSubplot at 0x83673c8>"
      ]
     },
     "execution_count": 14,
     "metadata": {},
     "output_type": "execute_result"
    },
    {
     "data": {
      "image/png": "[encoded data removed]",
      "text/plain": [
       "<matplotlib.figure.Figure at 0x8373c88>"
      ]
     },
     "metadata": {},
     "output_type": "display_data"
    }
   ],
   "source": [
    "df.Cabauw.plot()"
   ]
  },
  {
   "cell_type": "code",
   "execution_count": 15,
   "metadata": {
    "collapsed": false
   },
   "outputs": [
    {
     "data": {
      "text/plain": [
       "<matplotlib.axes._subplots.AxesSubplot at 0x8b7c0f0>"
      ]
     },
     "execution_count": 15,
     "metadata": {},
     "output_type": "execute_result"
    },
    {
     "data": {
      "image/png": "[encoded data removed]",
      "text/plain": [
       "<matplotlib.figure.Figure at 0x8c9b4e0>"
      ]
     },
     "metadata": {},
     "output_type": "display_data"
    }
   ],
   "source": [
    "df.Bankenbos.plot()"
   ]
  },
  {
   "cell_type": "code",
   "execution_count": 16,
   "metadata": {
    "collapsed": false
   },
   "outputs": [
    {
     "data": {
      "text/plain": [
       "<matplotlib.axes._subplots.AxesSubplot at 0xa3b1668>"
      ]
     },
     "execution_count": 16,
     "metadata": {},
     "output_type": "execute_result"
    },
    {
     "data": {
      "image/png": "[encoded data removed]",
      "text/plain": [
       "<matplotlib.figure.Figure at 0xa3c9978>"
      ]
     },
     "metadata": {},
     "output_type": "display_data"
    }
   ],
   "source": [
    "df.Haastrecht.plot()"
   ]
  },
  {
   "cell_type": "code",
   "execution_count": 17,
   "metadata": {
    "collapsed": true
   },
   "outputs": [],
   "source": [
    "pkl_file_name = r'D:\\Projects\\Pr\\3492.10\\MYD13Q1\\pandas//MYD13Q1.006_12locations.pkl'\n",
    "df.to_pickle(pkl_file_name)  # where to save it, usually as a .pkl"
   ]
  },
  {
   "cell_type": "code",
   "execution_count": null,
   "metadata": {
    "collapsed": true
   },
   "outputs": [],
   "source": []
  }
 ],
 "metadata": {
  "kernelspec": {
   "display_name": "Python 3",
   "language": "python",
   "name": "python3"
  },
  "language_info": {
   "codemirror_mode": {
    "name": "ipython",
    "version": 3
   },
   "file_extension": ".py",
   "mimetype": "text/x-python",
   "name": "python",
   "nbconvert_exporter": "python",
   "pygments_lexer": "ipython3",
   "version": "3.5.2"
  }
 },
 "nbformat": 4,
 "nbformat_minor": 2
}
