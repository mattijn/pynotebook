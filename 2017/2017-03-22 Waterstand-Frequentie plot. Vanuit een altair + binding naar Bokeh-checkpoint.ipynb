{
 "cells": [
  {
   "cell_type": "code",
   "execution_count": null,
   "metadata": {
    "collapsed": true,
    "deletable": true,
    "editable": true
   },
   "outputs": [],
   "source": [
    "import pandas as pd"
   ]
  },
  {
   "cell_type": "code",
   "execution_count": null,
   "metadata": {
    "collapsed": true,
    "deletable": true,
    "editable": true
   },
   "outputs": [],
   "source": [
    "path_in =r'D:\\Projects\\Pr\\3556.10\\hfreq.txt'"
   ]
  },
  {
   "cell_type": "markdown",
   "metadata": {
    "deletable": true,
    "editable": true
   },
   "source": [
    "Eerst lezen we het bestand in met pandas"
   ]
  },
  {
   "cell_type": "code",
   "execution_count": null,
   "metadata": {
    "collapsed": false,
    "deletable": true,
    "editable": true
   },
   "outputs": [],
   "source": [
    "df = pd.read_csv(path_in, delim_whitespace=True, skiprows=1, header=None, )\n",
    "df.columns = ['waterlevel','frequency']"
   ]
  },
  {
   "cell_type": "code",
   "execution_count": null,
   "metadata": {
    "collapsed": false,
    "deletable": true,
    "editable": true
   },
   "outputs": [],
   "source": [
    "df.head()"
   ]
  },
  {
   "cell_type": "code",
   "execution_count": null,
   "metadata": {
    "collapsed": false,
    "deletable": true,
    "editable": true
   },
   "outputs": [],
   "source": [
    "#df.to_json(r'D:\\Projects\\RO\\HydroAsAService//waterlevel_returnperiod.json')"
   ]
  },
  {
   "cell_type": "markdown",
   "metadata": {
    "deletable": true,
    "editable": true
   },
   "source": [
    "Eerst kijken of we het kunnen plotten met de Altair module, zie voor voorbeelden: https://github.com/jakevdp/altair-examples. De module is gebasseerd op een Vega-Lite JSON object, waarbij sommige elementen voor ingevuld worden op basis van de data. Je datatype, aangegeven met `:Q` (quantitative) zou je weg kunnen laten bijvoorbeeld"
   ]
  },
  {
   "cell_type": "code",
   "execution_count": null,
   "metadata": {
    "collapsed": true,
    "deletable": true,
    "editable": true
   },
   "outputs": [],
   "source": [
    "from altair import *"
   ]
  },
  {
   "cell_type": "code",
   "execution_count": null,
   "metadata": {
    "collapsed": false,
    "deletable": true,
    "editable": true
   },
   "outputs": [],
   "source": [
    "Chart(df).mark_line().encode(\n",
    "    y=Y('waterlevel',scale=Scale(domain=[14,19])),\n",
    "    x=X('frequency',scale=Scale(type='log', domain=[0.1,1e-7])),\n",
    "    color=Color(value=\"blue\")    \n",
    ")"
   ]
  },
  {
   "cell_type": "markdown",
   "metadata": {
    "deletable": true,
    "editable": true
   },
   "source": [
    "OK, dat lukt. Altair is een versimpelling van het Vega-Lite JSON object. Maar vanuit Jupyer kan je ook in een keer een VegaLite object kunnen aanmaken. De beschrijving van je grafiek wordt wel iets groter, maar het verduidelijkt dingen misschien wat meer"
   ]
  },
  {
   "cell_type": "code",
   "execution_count": null,
   "metadata": {
    "collapsed": true,
    "deletable": true,
    "editable": true
   },
   "outputs": [],
   "source": [
    "from vega import VegaLite"
   ]
  },
  {
   "cell_type": "markdown",
   "metadata": {
    "deletable": true,
    "editable": true
   },
   "source": [
    "En nu kunnen we het object gebruiken om bijvoorbeeld een Bokeh plot te maken. Indien nodig inclusief binding functies. Deze functies moeten voor de webomgeving in principe gemaakt worden door de ontwikkelaars, maar wanneer dit VegaLite JSON object is aangemaakt door collega x, dan kan collega y het gebruiken in zijn favoriete plotting library"
   ]
  },
  {
   "cell_type": "code",
   "execution_count": null,
   "metadata": {
    "collapsed": true,
    "deletable": true,
    "editable": true
   },
   "outputs": [],
   "source": [
    "VL = {\n",
    "  \"width\": 400,\n",
    "  \"height\": 400,\n",
    "  \"mark\": \"line\",\n",
    "  \"encoding\": {\n",
    "    \"x\": {\n",
    "      \"field\": \"frequency\",\n",
    "      \"type\": \"quantitative\",      \n",
    "      \"scale\": {\n",
    "        \"domain\": [0.1,1e-7],\n",
    "        \"type\": \"log\"\n",
    "      }\n",
    "\n",
    "    },\n",
    "    \"y\": {\n",
    "      \"field\": \"waterlevel\",\n",
    "      \"type\": \"quantitative\",\n",
    "      \"scale\": {\"domain\":[14,19]}\n",
    "    },\n",
    "    \"color\": {\"value\": \"#000000\"}\n",
    "  }\n",
    "}"
   ]
  },
  {
   "cell_type": "code",
   "execution_count": null,
   "metadata": {
    "collapsed": false,
    "deletable": true,
    "editable": true
   },
   "outputs": [],
   "source": [
    "import bokeh\n",
    "from bokeh.io import output_notebook, show\n",
    "from bokeh.models import Range1d\n",
    "from bokeh.plotting import figure\n",
    "output_notebook()"
   ]
  },
  {
   "cell_type": "code",
   "execution_count": null,
   "metadata": {
    "collapsed": false,
    "deletable": true,
    "editable": true
   },
   "outputs": [],
   "source": [
    "VL_chart_type = VL[\"mark\"]\n",
    "VL_x_scale_domain = VL[\"encoding\"][\"x\"][\"scale\"][\"domain\"]\n",
    "VL_y_scale_domain = VL[\"encoding\"][\"y\"][\"scale\"][\"domain\"]\n",
    "VL_x_scale_type = VL[\"encoding\"][\"x\"][\"scale\"][\"type\"]\n",
    "VL_width = VL[\"width\"]\n",
    "VL_height = VL[\"height\"]\n",
    "VL_x_field = VL[\"encoding\"][\"x\"][\"field\"]\n",
    "VL_y_field = VL[\"encoding\"][\"y\"][\"field\"]\n",
    "VL_color = VL[\"encoding\"][\"color\"][\"value\"]"
   ]
  },
  {
   "cell_type": "code",
   "execution_count": null,
   "metadata": {
    "collapsed": false,
    "deletable": true,
    "editable": true
   },
   "outputs": [],
   "source": [
    "print ('x_scale_domain:',VL_x_scale_domain)\n",
    "print ('color', VL_color)"
   ]
  },
  {
   "cell_type": "code",
   "execution_count": null,
   "metadata": {
    "collapsed": true,
    "deletable": true,
    "editable": true
   },
   "outputs": [],
   "source": [
    "# maak een plot"
   ]
  },
  {
   "cell_type": "code",
   "execution_count": null,
   "metadata": {
    "collapsed": false,
    "deletable": true,
    "editable": true
   },
   "outputs": [],
   "source": [
    "# create a new plot (with a title) using figure\n",
    "p = figure(plot_width=VL_width, plot_height=VL_height,x_axis_type=VL_x_scale_type)\n",
    "\n",
    "if VL_chart_type == 'line':\n",
    "    # add a line renderer\n",
    "    p.line(df[VL_x_field], df[VL_y_field], color=VL_color)\n",
    "    p.y_range = Range1d(VL_y_scale_domain[0], VL_y_scale_domain[1])\n",
    "    p.x_range = Range1d(VL_x_scale_domain[0], VL_x_scale_domain[1])\n",
    "\n",
    "show(p) # show the results"
   ]
  },
  {
   "cell_type": "code",
   "execution_count": null,
   "metadata": {
    "collapsed": true,
    "deletable": true,
    "editable": true
   },
   "outputs": [],
   "source": [
    "# permanente wijzigingen doorvoeren in het json object"
   ]
  },
  {
   "cell_type": "code",
   "execution_count": null,
   "metadata": {
    "collapsed": false,
    "deletable": true,
    "editable": true
   },
   "outputs": [],
   "source": [
    "VL[\"mark\"] = 'point'\n",
    "VL[\"encoding\"][\"x\"][\"scale\"][\"domain\"][0] = 1\n",
    "VL[\"encoding\"][\"color\"][\"value\"] = 'red'\n",
    "\n",
    "VL_chart_type = VL[\"mark\"]\n",
    "VL_x_scale_domain = VL[\"encoding\"][\"x\"][\"scale\"][\"domain\"]\n",
    "VL_color = VL[\"encoding\"][\"color\"][\"value\"]\n",
    "\n",
    "VL"
   ]
  },
  {
   "cell_type": "code",
   "execution_count": null,
   "metadata": {
    "collapsed": false,
    "deletable": true,
    "editable": true
   },
   "outputs": [],
   "source": [
    "# create a new plot \n",
    "p = figure(plot_width=VL_width, plot_height=VL_height,x_axis_type=VL_x_scale_type)\n",
    "\n",
    "if VL_chart_type == 'line':\n",
    "    # add a line renderer\n",
    "    p.line(df[VL_x_field], df[VL_y_field], color=VL_color)\n",
    "    p.y_range = Range1d(VL_y_scale_domain[0], VL_y_scale_domain[1])\n",
    "    p.x_range = Range1d(VL_x_scale_domain[0], VL_x_scale_domain[1])\n",
    "\n",
    "if VL_chart_type == 'point':\n",
    "    # add a line renderer\n",
    "    p.scatter(df[VL_x_field], df[VL_y_field], color=VL_color)\n",
    "    p.y_range = Range1d(VL_y_scale_domain[0], VL_y_scale_domain[1])\n",
    "    p.x_range = Range1d(VL_x_scale_domain[0], VL_x_scale_domain[1])    \n",
    "\n",
    "show(p) # show the results"
   ]
  },
  {
   "cell_type": "code",
   "execution_count": null,
   "metadata": {
    "collapsed": true,
    "deletable": true,
    "editable": true
   },
   "outputs": [],
   "source": [
    "# en sinds de wijzigingen in het json object is aangemaakt, moet die het ook weer doen in de plotting library van vegalite"
   ]
  },
  {
   "cell_type": "code",
   "execution_count": null,
   "metadata": {
    "collapsed": false,
    "deletable": true,
    "editable": true
   },
   "outputs": [],
   "source": [
    "VegaLite(VL, df)"
   ]
  },
  {
   "cell_type": "code",
   "execution_count": null,
   "metadata": {
    "collapsed": true,
    "deletable": true,
    "editable": true
   },
   "outputs": [],
   "source": []
  }
 ],
 "metadata": {
  "kernelspec": {
   "display_name": "Python 3",
   "language": "python",
   "name": "python3"
  },
  "language_info": {
   "codemirror_mode": {
    "name": "ipython",
    "version": 3
   },
   "file_extension": ".py",
   "mimetype": "text/x-python",
   "name": "python",
   "nbconvert_exporter": "python",
   "pygments_lexer": "ipython3",
   "version": "3.5.2"
  }
 },
 "nbformat": 4,
 "nbformat_minor": 2
}
