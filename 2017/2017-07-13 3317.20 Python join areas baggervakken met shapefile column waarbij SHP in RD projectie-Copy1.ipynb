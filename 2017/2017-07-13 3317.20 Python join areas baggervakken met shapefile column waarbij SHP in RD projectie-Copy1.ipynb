{
 "cells": [
  {
   "cell_type": "code",
   "execution_count": 61,
   "metadata": {},
   "outputs": [],
   "source": [
    "import pandas as pd\n",
    "import geopandas as gpd\n",
    "import numpy as np\n",
    "import os \n",
    "import re\n",
    "#%matplotlib inline"
   ]
  },
  {
   "cell_type": "code",
   "execution_count": 62,
   "metadata": {
    "collapsed": true
   },
   "outputs": [],
   "source": [
    "# for csv\n",
    "csv_in = r'D:\\OmsWaddenzee\\trunk\\fews\\Modules\\prioriteringExport\\data//prioritering_ruw.csv'\n",
    "csv_out = r'D:\\OmsWaddenzee\\trunk\\fews\\Modules\\prioriteringExport\\data//prioritering_refined.csv'\n",
    "baggervakken = r'D:\\OmsWaddenzee\\trunk\\fews\\Config\\MapLayerFiles\\Baggervakken\\Baggervakken.shp'\n",
    "\n",
    "json_out = r'D:\\OmsWaddenzee\\trunk\\fews\\Modules\\prioriteringExport\\data//prioritering_refined.geojson'"
   ]
  },
  {
   "cell_type": "code",
   "execution_count": 63,
   "metadata": {
    "collapsed": true
   },
   "outputs": [],
   "source": [
    "# read the geodataframe\n",
    "gdf = gpd.read_file(baggervakken)\n",
    "\n",
    "# get list of duplicates (both the first and last [and middles if available])\n",
    "duplicates_all = gdf[gdf['OBJECTCODE'].duplicated(keep=False)]\n",
    "for obj in duplicates_all['OBJECTCODE'].unique():\n",
    "    duplicates_single = duplicates_all.loc[duplicates_all['OBJECTCODE']==obj]\n",
    "    rows2drop = duplicates_single.loc[duplicates_single['END'] != duplicates_single['END'].max()]\n",
    "    gdf.drop(rows2drop.index.tolist(), axis=0, inplace=True)"
   ]
  },
  {
   "cell_type": "code",
   "execution_count": 64,
   "metadata": {},
   "outputs": [],
   "source": [
    "gdf['AREA'] = gdf['geometry'].area\n",
    "#gdf.to_crs(epsg=4326, inplace=True)"
   ]
  },
  {
   "cell_type": "code",
   "execution_count": 65,
   "metadata": {},
   "outputs": [
    {
     "name": "stderr",
     "output_type": "stream",
     "text": [
      "c:\\python35\\lib\\site-packages\\ipykernel\\__main__.py:4: SettingWithCopyWarning: \n",
      "A value is trying to be set on a copy of a slice from a DataFrame.\n",
      "Try using .loc[row_indexer,col_indexer] = value instead\n",
      "\n",
      "See the caveats in the documentation: http://pandas.pydata.org/pandas-docs/stable/indexing.html#indexing-view-versus-copy\n"
     ]
    }
   ],
   "source": [
    "gdf_area = gdf[['OBJECTNAAM','OBJECTCODE','AREA','ACTIVITEIT','DIEPTE_MIN','DIEPTE_MAX','geometry']]\n",
    "gdf_area.columns = ['Objectnaam', 'Objectcode', 'Oppervlak (m2)', 'Activiteit',\n",
    "       'NGD (-mNAP)', 'OHD (-mNAP)','geometry']\n",
    "gdf_area['Objectcode'] = 'bv.' + gdf_area['Objectcode'].astype(str)"
   ]
  },
  {
   "cell_type": "code",
   "execution_count": 66,
   "metadata": {},
   "outputs": [],
   "source": [
    "# read into dataframe\n",
    "df_csv = pd.read_csv(csv_in, sep=';')\n",
    "#df_area = pd.read_csv(area)\n",
    "\n",
    "# join dataframes on objectcode\n",
    "df_comb = pd.merge(df_csv, gdf_area, left_on='Baggervak', right_on='Objectcode')\n",
    "\n",
    "# but keep geodataframe functionality\n",
    "df_comb = gpd.GeoDataFrame(df_comb)\n",
    "df_comb['Oppervlak (m2)'] = df_comb['Oppervlak (m2)'].astype(float).apply(np.ceil)\n",
    "df_comb['Oppervlakte cut tov NGD (m2)'] = df_comb['Oppervlakte cut tov NGD (m2)'].astype(float).apply(np.floor)\n",
    "df_comb['Oppervlakte cut tov OHD (m2)'] = df_comb['Oppervlakte cut tov OHD (m2)'].astype(float).apply(np.floor)"
   ]
  },
  {
   "cell_type": "code",
   "execution_count": 67,
   "metadata": {},
   "outputs": [],
   "source": [
    "# calculate the prioritering\n",
    "df_comb['Percentage cut tov NGD (%)'] = (df_comb['Oppervlakte cut tov NGD (m2)'] / df_comb['Oppervlak (m2)'] * 100).round(2)\n",
    "df_comb['Percentage cut tov OHD (%)'] = (df_comb['Oppervlakte cut tov OHD (m2)'] / df_comb['Oppervlak (m2)'] * 100).round(2)\n",
    "\n",
    "df_comb['Gemiddelde dikte cut tov NGD (cm)'] = np.round(df_comb['Gemiddelde dikte cut tov NGD (cm)'], 0).astype(int)\n",
    "df_comb['Gemiddelde dikte cut tov OHD (cm)'] = np.round(df_comb['Gemiddelde dikte cut tov OHD (cm)'], 0).astype(int)\n",
    "df_comb['Percentage cut tov NGD (%)'] = np.ceil(df_comb['Percentage cut tov NGD (%)']).astype(int)\n",
    "df_comb['Percentage cut tov OHD (%)'] = np.ceil(df_comb['Percentage cut tov OHD (%)']).astype(int)\n",
    "df_comb['Volume cut tov NGD (m3)'] = np.ceil(df_comb['Volume cut tov NGD (m3)']).astype(int)\n",
    "df_comb['Volume cut tov OHD (m3)'] = np.ceil(df_comb['Volume cut tov OHD (m3)']).astype(int)\n",
    "\n",
    "df_comb['NGD (-mNAP)'].replace(-999,np.nan, inplace=True)\n",
    "df_comb['NGD (-mNAP)'].fillna('niet bekend', inplace=True)\n",
    "\n",
    "df_comb['OHD (-mNAP)'].replace(-999,np.nan, inplace=True)\n",
    "df_comb['OHD (-mNAP)'].fillna('niet bekend', inplace=True)\n",
    "\n",
    "# reorder columns \n",
    "c = df_comb.columns.tolist()\n",
    "\n",
    "c_selection = ['Objectcode',\n",
    "               'Objectnaam',\n",
    "               'Activiteit',\n",
    "               'NGD (-mNAP)',\n",
    "               'OHD (-mNAP)',               \n",
    "               'Volume cut tov NGD (m3)',\n",
    "               'Volume cut tov OHD (m3)',               \n",
    "               'Percentage cut tov NGD (%)',\n",
    "               'Percentage cut tov OHD (%)',\n",
    "               'Gemiddelde dikte cut tov NGD (cm)',\n",
    "               'Gemiddelde dikte cut tov OHD (cm)',\n",
    "              ]"
   ]
  },
  {
   "cell_type": "code",
   "execution_count": 68,
   "metadata": {
    "collapsed": true
   },
   "outputs": [],
   "source": [
    "# # save as csv\n",
    "df_comb[c_selection].to_csv(csv_out, sep=',', index=False)"
   ]
  },
  {
   "cell_type": "code",
   "execution_count": 69,
   "metadata": {
    "collapsed": true
   },
   "outputs": [],
   "source": [
    "# and prepare geojson for overlay\n",
    "# append selection with geometry and change column names using a list comprehension to remove parentheses\n",
    "# and trainling spaces while replacing the remaining spaces with underscores\n",
    "c_selection.append('geometry')\n",
    "df_comb = df_comb[c_selection]\n",
    "df_comb.columns = [re.sub(\"[\\(\\[].*?[\\)\\]]\", \"\", n).rstrip().replace(\" \", \"_\") for n in c_selection]\n",
    "\n",
    "# save to json\n",
    "# overwrite bug in fiona https://github.com/geopandas/geopandas/issues/367   \n",
    "try: \n",
    "    os.remove(json_out)\n",
    "except OSError:\n",
    "    pass"
   ]
  },
  {
   "cell_type": "code",
   "execution_count": 70,
   "metadata": {
    "collapsed": true
   },
   "outputs": [],
   "source": [
    "df_comb.to_file(json_out, driver='GeoJSON')"
   ]
  },
  {
   "cell_type": "code",
   "execution_count": null,
   "metadata": {
    "collapsed": true
   },
   "outputs": [],
   "source": []
  }
 ],
 "metadata": {
  "kernelspec": {
   "display_name": "Python 3",
   "language": "python",
   "name": "python3"
  },
  "language_info": {
   "codemirror_mode": {
    "name": "ipython",
    "version": 3
   },
   "file_extension": ".py",
   "mimetype": "text/x-python",
   "name": "python",
   "nbconvert_exporter": "python",
   "pygments_lexer": "ipython3",
   "version": "3.5.2"
  }
 },
 "nbformat": 4,
 "nbformat_minor": 2
}
