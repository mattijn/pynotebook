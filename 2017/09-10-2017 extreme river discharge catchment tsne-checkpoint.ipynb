{
 "cells": [
  {
   "cell_type": "code",
   "execution_count": 7,
   "metadata": {
    "collapsed": true,
    "deletable": true,
    "editable": true
   },
   "outputs": [],
   "source": [
    "import pandas as pd\n",
    "#import geopandas as gpd\n",
    "import numpy as np\n",
    "from sklearn.manifold import TSNE\n",
    "import lap # https://github.com/gatagat/lap\n",
    "%matplotlib inline"
   ]
  },
  {
   "cell_type": "code",
   "execution_count": 8,
   "metadata": {
    "collapsed": true,
    "deletable": true,
    "editable": true
   },
   "outputs": [],
   "source": [
    "file_shp = r'D:\\Projects\\RO\\Jong HKV\\Toeleveringen\\DominikPaprotny\\ExtremeDischargesEUCatchments\\Stations_total_v3.shp'\n",
    "file_csv = r'D:\\Projects\\RO\\Jong HKV\\Toeleveringen\\DominikPaprotny\\ExtremeDischargesEUCatchments\\BN_data_full.csv'"
   ]
  },
  {
   "cell_type": "code",
   "execution_count": 9,
   "metadata": {
    "collapsed": false,
    "deletable": true,
    "editable": true
   },
   "outputs": [],
   "source": [
    "# read and parse data\n",
    "df = pd.read_csv(file_csv,sep=';', decimal=',')\n",
    "df.replace(np.inf, 0, inplace=True)\n",
    "df.replace(np.nan, 0, inplace=True)\n",
    "\n",
    "# exclude some columns\n",
    "df2 = df[df.columns.difference(['OBJECTID', 'Station_ID','WSO1_ID','Catchment_ID','Indicator_of_daily_discharge_availability'])]\n",
    "df2 = df.astype(np.float32)"
   ]
  },
  {
   "cell_type": "code",
   "execution_count": 10,
   "metadata": {
    "collapsed": false,
    "deletable": true,
    "editable": true
   },
   "outputs": [
    {
     "name": "stderr",
     "output_type": "stream",
     "text": [
      "c:\\python35\\lib\\site-packages\\ipykernel\\__main__.py:5: RuntimeWarning: invalid value encountered in true_divide\n"
     ]
    }
   ],
   "source": [
    "# standardize matrix\n",
    "X = df2.as_matrix()\n",
    "_mu = np.nanmean(X, axis=0)\n",
    "_sigma = np.sqrt(np.nanmean((X - _mu) ** 2.0, axis=0))\n",
    "X = (X - _mu) / _sigma"
   ]
  },
  {
   "cell_type": "code",
   "execution_count": 11,
   "metadata": {
    "collapsed": false,
    "deletable": true,
    "editable": true
   },
   "outputs": [],
   "source": [
    "# go back to pandas dataframe and drop NaN columns\n",
    "df2 = pd.DataFrame(data=X, columns=df.columns)\n",
    "df2.dropna(axis=1, how='all', inplace=True)\n",
    "X = df.as_matrix()"
   ]
  },
  {
   "cell_type": "code",
   "execution_count": 15,
   "metadata": {
    "collapsed": false,
    "deletable": true,
    "editable": true
   },
   "outputs": [
    {
     "data": {
      "text/plain": [
       "0       -1.755674\n",
       "1       -1.755674\n",
       "2       -1.755674\n",
       "3       -1.755674\n",
       "4       -1.755674\n",
       "5       -1.755674\n",
       "6       -1.755674\n",
       "7       -1.755674\n",
       "8       -1.755674\n",
       "9       -1.755674\n",
       "10      -1.755674\n",
       "11      -1.755674\n",
       "12      -1.755674\n",
       "13      -1.755674\n",
       "14      -1.755674\n",
       "15      -1.755674\n",
       "16      -1.755674\n",
       "17      -1.755674\n",
       "18      -1.755674\n",
       "19      -1.755674\n",
       "20      -1.755674\n",
       "21      -1.755674\n",
       "22      -1.755674\n",
       "23      -1.755674\n",
       "24      -1.755674\n",
       "25      -1.755674\n",
       "26      -1.753768\n",
       "27      -1.753768\n",
       "28      -1.753768\n",
       "29      -1.753768\n",
       "           ...   \n",
       "74726    1.754343\n",
       "74727    1.754343\n",
       "74728    1.754343\n",
       "74729    1.754343\n",
       "74730    1.754343\n",
       "74731    1.754343\n",
       "74732    1.754343\n",
       "74733    1.754343\n",
       "74734    1.754343\n",
       "74735    1.754343\n",
       "74736    1.754343\n",
       "74737    1.754343\n",
       "74738    1.754343\n",
       "74739    1.754343\n",
       "74740    1.754343\n",
       "74741    1.754343\n",
       "74742    1.754343\n",
       "74743    1.754343\n",
       "74744    1.754343\n",
       "74745    1.754343\n",
       "74746    1.754343\n",
       "74747    1.754343\n",
       "74748    1.754343\n",
       "74749    1.754343\n",
       "74750    1.754343\n",
       "74751    1.754343\n",
       "74752    1.754343\n",
       "74753    1.754343\n",
       "74754    1.754343\n",
       "74755    1.754343\n",
       "Name: OBJECTID, Length: 74756, dtype: float32"
      ]
     },
     "execution_count": 15,
     "metadata": {},
     "output_type": "execute_result"
    }
   ],
   "source": [
    "np.unique(df2.OBJECTID"
   ]
  },
  {
   "cell_type": "code",
   "execution_count": null,
   "metadata": {
    "collapsed": true,
    "deletable": true,
    "editable": true
   },
   "outputs": [],
   "source": []
  },
  {
   "cell_type": "code",
   "execution_count": null,
   "metadata": {
    "collapsed": false,
    "deletable": true,
    "editable": true
   },
   "outputs": [],
   "source": [
    "model = TSNE(n_components=2, learning_rate=1000)#perplexity=30, n_components=2, init='pca', n_iter=1000, method='barnes_hut')\n",
    "embedding_array= model.fit_transform(X) # takes 2 hours"
   ]
  },
  {
   "cell_type": "code",
   "execution_count": null,
   "metadata": {
    "collapsed": false,
    "deletable": true,
    "editable": true
   },
   "outputs": [],
   "source": [
    "#np.save('tsne_riverdischargesEU.npy', embedding_array)"
   ]
  },
  {
   "cell_type": "code",
   "execution_count": null,
   "metadata": {
    "collapsed": false,
    "deletable": true,
    "editable": true
   },
   "outputs": [],
   "source": [
    "embedding_array = np.load('tsne_riverdischargesEU.npy')"
   ]
  },
  {
   "cell_type": "code",
   "execution_count": null,
   "metadata": {
    "collapsed": false,
    "deletable": true,
    "editable": true
   },
   "outputs": [],
   "source": [
    "embedding_array"
   ]
  },
  {
   "cell_type": "code",
   "execution_count": null,
   "metadata": {
    "collapsed": false,
    "deletable": true,
    "editable": true
   },
   "outputs": [],
   "source": [
    "import matplotlib.pyplot as plt"
   ]
  },
  {
   "cell_type": "code",
   "execution_count": null,
   "metadata": {
    "collapsed": false,
    "deletable": true,
    "editable": true
   },
   "outputs": [],
   "source": [
    "side = int(np.sqrt(embedding_array.shape[0]))"
   ]
  },
  {
   "cell_type": "code",
   "execution_count": null,
   "metadata": {
    "collapsed": false,
    "deletable": true,
    "editable": true
   },
   "outputs": [],
   "source": [
    "plot_array = embedding_array[0:(side*side):]\n",
    "coloring   = df['Annual_maxima_of_daily_discharge'].as_matrix()[0:(side*side)] \n",
    "fig = plt.figure(figsize=(10, 10))\n",
    "ax = plt.axes(frameon=False)\n",
    "plt.setp(ax, xticks=(), yticks=())\n",
    "plt.subplots_adjust(left=0.0, bottom=0.0, right=1.0, top=0.9,\n",
    "                wspace=0.0, hspace=0.0)\n",
    "sc = plt.scatter(plot_array[:, 0], plot_array[:, 1], c=coloring)\n",
    "cbar = plt.colorbar(sc)\n",
    "cbar.ax.set_ylabel('Annual_maxima_of_daily_discharge')"
   ]
  },
  {
   "cell_type": "code",
   "execution_count": null,
   "metadata": {
    "collapsed": false,
    "deletable": true,
    "editable": true
   },
   "outputs": [],
   "source": [
    "xv, yv = np.meshgrid(np.linspace(0, 1, side), np.linspace(0, 1, side))\n",
    "grid = np.dstack((xv, yv)).reshape(-1, 2)\n",
    "\n",
    "plt.figure(figsize=(28,28))\n",
    "plt.scatter(grid[:,0], grid[:,1], edgecolors='none', marker='o', s=12)\n",
    "plt.show()"
   ]
  },
  {
   "cell_type": "code",
   "execution_count": null,
   "metadata": {
    "collapsed": false,
    "deletable": true,
    "editable": true
   },
   "outputs": [],
   "source": [
    "grid.shape, grid.size"
   ]
  },
  {
   "cell_type": "code",
   "execution_count": null,
   "metadata": {
    "collapsed": false,
    "deletable": true,
    "editable": true
   },
   "outputs": [],
   "source": [
    "plot_array.shape, plot_array.size"
   ]
  },
  {
   "cell_type": "code",
   "execution_count": null,
   "metadata": {
    "collapsed": false,
    "deletable": true,
    "editable": true
   },
   "outputs": [],
   "source": [
    "from scipy.spatial.distance import cdist\n",
    "cost = cdist(grid, plot_array, 'sqeuclidean')\n",
    "plt.hist(cost.flatten(), bins=50)\n",
    "plt.show()"
   ]
  },
  {
   "cell_type": "code",
   "execution_count": null,
   "metadata": {
    "collapsed": true,
    "deletable": true,
    "editable": true
   },
   "outputs": [],
   "source": [
    "#help('lap')\n",
    "%time min_cost, row_assigns, col_assigns = lap.lapjv(np.copy(cost))\n",
    "grid_jv = grid[col_assigns]\n",
    "print (col_assigns.shape)\n",
    "plt.figure(figsize=(8, 8))\n",
    "for start, end in zip(data2d, grid_jv):\n",
    "    plt.arrow(start[0], start[1], end[0] - start[0], end[1] - start[1],\n",
    "              head_length=0.01, head_width=0.01)\n",
    "plt.show()"
   ]
  },
  {
   "cell_type": "code",
   "execution_count": null,
   "metadata": {
    "collapsed": true,
    "deletable": true,
    "editable": true
   },
   "outputs": [],
   "source": []
  }
 ],
 "metadata": {
  "kernelspec": {
   "display_name": "Python 3",
   "language": "python",
   "name": "python3"
  },
  "language_info": {
   "codemirror_mode": {
    "name": "ipython",
    "version": 3
   },
   "file_extension": ".py",
   "mimetype": "text/x-python",
   "name": "python",
   "nbconvert_exporter": "python",
   "pygments_lexer": "ipython3",
   "version": "3.5.2"
  }
 },
 "nbformat": 4,
 "nbformat_minor": 2
}
