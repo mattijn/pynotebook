{
 "cells": [
  {
   "cell_type": "code",
   "execution_count": 38,
   "metadata": {
    "collapsed": true
   },
   "outputs": [],
   "source": [
    "import pandas as pd\n",
    "import sys"
   ]
  },
  {
   "cell_type": "code",
   "execution_count": 39,
   "metadata": {
    "collapsed": true
   },
   "outputs": [],
   "source": [
    "file_in = r'D:\\Projects\\Pr\\3317.30\\GvdLEE_datafiles\\GvdLee_170829_17411_GL_MB_RD_NAP_1x1.pts'"
   ]
  },
  {
   "cell_type": "code",
   "execution_count": 47,
   "metadata": {
    "collapsed": false
   },
   "outputs": [
    {
     "name": "stdout",
     "output_type": "stream",
     "text": [
      "no 3 columns, try delimting whitespaces\n",
      "          0         1     2  3\n",
      "0  205277.5  605687.5 -5.48  -\n",
      "1  205277.5  605687.5 -5.48  -\n",
      "2  205277.5  605687.5 -5.48  -\n"
     ]
    },
    {
     "ename": "SystemExit",
     "evalue": "Source file contains not exactly 3 columns. Check datasource",
     "output_type": "error",
     "traceback": [
      "An exception has occurred, use %tb to see the full traceback.\n",
      "\u001b[1;31mSystemExit\u001b[0m\u001b[1;31m:\u001b[0m Source file contains not exactly 3 columns. Check datasource\n"
     ]
    },
    {
     "name": "stderr",
     "output_type": "stream",
     "text": [
      "c:\\python35\\lib\\site-packages\\IPython\\core\\interactiveshell.py:2889: UserWarning: To exit: use 'exit', 'quit', or Ctrl-D.\n",
      "  warn(\"To exit: use 'exit', 'quit', or Ctrl-D.\", stacklevel=1)\n"
     ]
    }
   ],
   "source": [
    "df=pd.read_csv(file_in, header=None)\n",
    "# include this to check the\n",
    "if df.shape[1] != 3:\n",
    "    print ('no 3 columns, try delimting whitespaces')\n",
    "    df=pd.read_csv(file_in, header=None, delim_whitespace=True)\n",
    "    if df.shape[1] != 3:\n",
    "        print (df.head())\n",
    "        sys.exit('Source file contains not exactly 3 columns. Check datasource')\n",
    "print ('file succesfully read and three columns are parsed')"
   ]
  },
  {
   "cell_type": "code",
   "execution_count": null,
   "metadata": {
    "collapsed": true
   },
   "outputs": [],
   "source": []
  },
  {
   "cell_type": "code",
   "execution_count": null,
   "metadata": {
    "collapsed": true
   },
   "outputs": [],
   "source": []
  }
 ],
 "metadata": {
  "kernelspec": {
   "display_name": "Python 3",
   "language": "python",
   "name": "python3"
  },
  "language_info": {
   "codemirror_mode": {
    "name": "ipython",
    "version": 3
   },
   "file_extension": ".py",
   "mimetype": "text/x-python",
   "name": "python",
   "nbconvert_exporter": "python",
   "pygments_lexer": "ipython3",
   "version": "3.5.2"
  }
 },
 "nbformat": 4,
 "nbformat_minor": 2
}
