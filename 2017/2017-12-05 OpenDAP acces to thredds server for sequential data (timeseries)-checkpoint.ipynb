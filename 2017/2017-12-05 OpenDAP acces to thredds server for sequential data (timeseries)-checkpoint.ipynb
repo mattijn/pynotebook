{
 "cells": [
  {
   "cell_type": "code",
   "execution_count": 1,
   "metadata": {},
   "outputs": [],
   "source": [
    "from pydap.client import open_url\n",
    "import numpy as np\n",
    "import datetime\n",
    "import pandas as pd"
   ]
  },
  {
   "cell_type": "code",
   "execution_count": 2,
   "metadata": {},
   "outputs": [],
   "source": [
    "# HTML connection: http://81.171.27.131:8080/thredds/dodsC/HKV/PR3348_10/P24.HOUR-ethiopia.nc.html\n",
    "# create OpenDAP connection to layer on the THREDDS server\n",
    "dataset = open_url('http://81.171.27.131:8080/thredds/dodsC/HKV/PR3348_10/P24.HOUR-ethiopia.nc')"
   ]
  },
  {
   "cell_type": "code",
   "execution_count": 3,
   "metadata": {},
   "outputs": [
    {
     "data": {
      "text/plain": [
       "{'DODS_EXTRA': {'Unlimited_Dimension': 'time'},\n",
       " 'NC_GLOBAL': {'Title': 'GPM 3IMERG precipitation',\n",
       "  '_NCProperties': 'version=1|netcdflibversion=4.4.1|hdf5libversion=1.8.17',\n",
       "  'description': 'NETCDF File containing GPM 3IMERG data',\n",
       "  'history': 'Created 28/11/2017 | 17:30 PM',\n",
       "  'institution': 'HKV services',\n",
       "  'references': 'https://www.hkv.nl/en'}}"
      ]
     },
     "execution_count": 3,
     "metadata": {},
     "output_type": "execute_result"
    }
   ],
   "source": [
    "# general attribution of netcdf file\n",
    "dataset.attributes"
   ]
  },
  {
   "cell_type": "code",
   "execution_count": 4,
   "metadata": {},
   "outputs": [
    {
     "data": {
      "text/plain": [
       "<DatasetType with children 'crs', 'x', 'y', 'precipitation', 'time'>"
      ]
     },
     "execution_count": 4,
     "metadata": {},
     "output_type": "execute_result"
    }
   ],
   "source": [
    "# get variables of netcdf file\n",
    "dataset"
   ]
  },
  {
   "cell_type": "code",
   "execution_count": 5,
   "metadata": {},
   "outputs": [
    {
     "data": {
      "text/plain": [
       "{'Name': 'time',\n",
       " 'Units': 'seconds since 1970-01-01 00:00:00 UTC',\n",
       " '_ChunkSizes': 1024,\n",
       " 'axis': 'T',\n",
       " 'calendar': 'proleptic_gregorian',\n",
       " 'long_name': 'time in seconds since 1970-01-01 00:00:00 UTC',\n",
       " 'standard_name': 'time',\n",
       " 'units': 'seconds since 1970-01-01 00:00:00 UTC'}"
      ]
     },
     "execution_count": 5,
     "metadata": {},
     "output_type": "execute_result"
    }
   ],
   "source": [
    "# metadata of time variable\n",
    "dataset.time.attributes"
   ]
  },
  {
   "cell_type": "code",
   "execution_count": 6,
   "metadata": {},
   "outputs": [],
   "source": [
    "# get time array. Data are timestamps in UTC, yeah!\n",
    "array_time = np.array(dataset.time[:])"
   ]
  },
  {
   "cell_type": "code",
   "execution_count": 7,
   "metadata": {},
   "outputs": [
    {
     "data": {
      "text/plain": [
       "datetime.datetime(2017, 11, 27, 11, 29, 4)"
      ]
     },
     "execution_count": 7,
     "metadata": {},
     "output_type": "execute_result"
    }
   ],
   "source": [
    "# convert timestamps to datetime objects, maybe not needed later\n",
    "list_utc_time = []\n",
    "for timestamp in array_time:\n",
    "    list_utc_time.append(datetime.datetime.utcfromtimestamp(timestamp))\n",
    "\n",
    "# check one date\n",
    "list_utc_time[0]    "
   ]
  },
  {
   "cell_type": "code",
   "execution_count": 8,
   "metadata": {},
   "outputs": [],
   "source": [
    "def find_nearest(array,value):\n",
    "    idx = (np.abs(array-value)).argmin()\n",
    "    return array[idx]"
   ]
  },
  {
   "cell_type": "code",
   "execution_count": 9,
   "metadata": {},
   "outputs": [],
   "source": [
    "# get longitude index value\n",
    "lon_array = np.array(dataset.x[:])\n",
    "idx_lon = np.where(lon_array == find_nearest(lon_array, 33.5))[0][0]"
   ]
  },
  {
   "cell_type": "code",
   "execution_count": 10,
   "metadata": {},
   "outputs": [],
   "source": [
    "# get latitude index value\n",
    "lat_array = np.array(dataset.y[:])\n",
    "idx_lat = np.where(lat_array == find_nearest(lat_array, 9))[0][0]"
   ]
  },
  {
   "cell_type": "code",
   "execution_count": 11,
   "metadata": {},
   "outputs": [
    {
     "data": {
      "text/plain": [
       "(5, 59)"
      ]
     },
     "execution_count": 11,
     "metadata": {},
     "output_type": "execute_result"
    }
   ],
   "source": [
    "idx_lon, idx_lat"
   ]
  },
  {
   "cell_type": "code",
   "execution_count": 12,
   "metadata": {},
   "outputs": [],
   "source": [
    "var_ds = dataset.precipitation"
   ]
  },
  {
   "cell_type": "code",
   "execution_count": 13,
   "metadata": {},
   "outputs": [
    {
     "data": {
      "text/plain": [
       "<GridType with array 'precipitation' and maps 'x', 'y', 'time'>"
      ]
     },
     "execution_count": 13,
     "metadata": {},
     "output_type": "execute_result"
    }
   ],
   "source": [
    "var_ds[5,59,:]"
   ]
  },
  {
   "cell_type": "code",
   "execution_count": 14,
   "metadata": {},
   "outputs": [],
   "source": [
    "var_series = var_ds[int(idx_lon), int(idx_lat), :]"
   ]
  },
  {
   "cell_type": "code",
   "execution_count": 15,
   "metadata": {},
   "outputs": [
    {
     "data": {
      "text/plain": [
       "[array([[[ 0.,  0.,  0.,  0.,  0.,  0.,  0.,  0.,  0.,  0.,  0.,  0.,  0.,\n",
       "           0.,  0.,  0.,  0.,  0.,  0.,  0.,  0.,  0.,  0.,  0.,  0.,  0.,\n",
       "           0.,  0.,  0.,  0.,  0.,  0.,  0.,  0.,  0.,  0.,  0.,  0.,  0.,\n",
       "           0.,  0.,  0.,  0.,  0.,  0.,  0.,  0.,  0.,  0.]]], dtype=float32),\n",
       " array([ 33.49707794], dtype=float32),\n",
       " array([ 8.99599743], dtype=float32),\n",
       " array([  1.51178214e+09,   1.51178394e+09,   1.51178586e+09,\n",
       "          1.51178765e+09,   1.51178944e+09,   1.51179123e+09,\n",
       "          1.51179302e+09,   1.51179482e+09,   1.51179661e+09,\n",
       "          1.51179840e+09,   1.51180019e+09,   1.51180198e+09,\n",
       "          1.51180378e+09,   1.51180557e+09,   1.51180736e+09,\n",
       "          1.51180915e+09,   1.51181094e+09,   1.51181286e+09,\n",
       "          1.51181466e+09,   1.51181645e+09,   1.51181824e+09,\n",
       "          1.51182003e+09,   1.51182182e+09,   1.51182362e+09,\n",
       "          1.51182541e+09,   1.51182720e+09,   1.51182899e+09,\n",
       "          1.51183078e+09,   1.51183258e+09,   1.51183437e+09,\n",
       "          1.51183616e+09,   1.51183795e+09,   1.51183974e+09,\n",
       "          1.51184154e+09,   1.51184346e+09,   1.51184525e+09,\n",
       "          1.51184704e+09,   1.51184883e+09,   1.51185062e+09,\n",
       "          1.51185242e+09,   1.51185421e+09,   1.51185600e+09,\n",
       "          1.51185779e+09,   1.51185958e+09,   1.51186138e+09,\n",
       "          1.51186317e+09,   1.51186496e+09,   1.51186675e+09,\n",
       "          1.51186854e+09], dtype=float32)]"
      ]
     },
     "execution_count": 15,
     "metadata": {},
     "output_type": "execute_result"
    }
   ],
   "source": [
    "# array 0 = data\n",
    "# array 1 = longitude\n",
    "# array 2 = latitude\n",
    "# array 3 = time\n",
    "var_series.data"
   ]
  },
  {
   "cell_type": "code",
   "execution_count": 16,
   "metadata": {},
   "outputs": [],
   "source": [
    "list_date = []\n",
    "for timestamp in var_series.data[3]:\n",
    "    list_date.append(datetime.datetime.fromtimestamp(timestamp))"
   ]
  },
  {
   "cell_type": "code",
   "execution_count": 17,
   "metadata": {},
   "outputs": [],
   "source": [
    "from matplotlib import pyplot as plt\n",
    "%matplotlib inline"
   ]
  },
  {
   "cell_type": "code",
   "execution_count": 18,
   "metadata": {},
   "outputs": [],
   "source": [
    "array_date = np.array(list_date)\n",
    "array_data = np.array(var_series.data[0].flatten())"
   ]
  },
  {
   "cell_type": "code",
   "execution_count": 19,
   "metadata": {},
   "outputs": [],
   "source": [
    "series = pd.Series(array_data, index = array_date)"
   ]
  },
  {
   "cell_type": "code",
   "execution_count": 23,
   "metadata": {},
   "outputs": [],
   "source": [
    "# KeyError: ValueError('Big-endian buffer not supported on little-endian compiler',)\n",
    "# series.dtypes\n",
    "# dtype('>f4')\n",
    "# https://stackoverflow.com/a/18600603/2459096\n",
    "series_data=[x.byteswap().newbyteorder() for x in series.values]\n",
    "series = pd.Series(series_data, index = array_date)"
   ]
  },
  {
   "cell_type": "code",
   "execution_count": 27,
   "metadata": {},
   "outputs": [
    {
     "data": {
      "text/plain": [
       "<matplotlib.axes._subplots.AxesSubplot at 0x80b3320>"
      ]
     },
     "execution_count": 27,
     "metadata": {},
     "output_type": "execute_result"
    },
    {
     "data": {
      "image/png": "[encoded data removed]",
      "text/plain": [
       "<matplotlib.figure.Figure at 0x7f8c588>"
      ]
     },
     "metadata": {},
     "output_type": "display_data"
    }
   ],
   "source": [
    "series.plot()"
   ]
  },
  {
   "cell_type": "code",
   "execution_count": 30,
   "metadata": {},
   "outputs": [],
   "source": [
    "df = series.reset_index()\n",
    "df.columns = ['datetime', 'values']"
   ]
  },
  {
   "cell_type": "code",
   "execution_count": 29,
   "metadata": {},
   "outputs": [
    {
     "data": {
      "text/html": [
       "<div>\n",
       "<style scoped>\n",
       "    .dataframe tbody tr th:only-of-type {\n",
       "        vertical-align: middle;\n",
       "    }\n",
       "\n",
       "    .dataframe tbody tr th {\n",
       "        vertical-align: top;\n",
       "    }\n",
       "\n",
       "    .dataframe thead th {\n",
       "        text-align: right;\n",
       "    }\n",
       "</style>\n",
       "<table border=\"1\" class=\"dataframe\">\n",
       "  <thead>\n",
       "    <tr style=\"text-align: right;\">\n",
       "      <th></th>\n",
       "      <th>datetime</th>\n",
       "      <th>values</th>\n",
       "    </tr>\n",
       "  </thead>\n",
       "  <tbody>\n",
       "    <tr>\n",
       "      <th>0</th>\n",
       "      <td>2017-11-27 12:29:04</td>\n",
       "      <td>0.0</td>\n",
       "    </tr>\n",
       "    <tr>\n",
       "      <th>1</th>\n",
       "      <td>2017-11-27 12:58:56</td>\n",
       "      <td>0.0</td>\n",
       "    </tr>\n",
       "    <tr>\n",
       "      <th>2</th>\n",
       "      <td>2017-11-27 13:30:56</td>\n",
       "      <td>0.0</td>\n",
       "    </tr>\n",
       "    <tr>\n",
       "      <th>3</th>\n",
       "      <td>2017-11-27 14:00:48</td>\n",
       "      <td>0.0</td>\n",
       "    </tr>\n",
       "    <tr>\n",
       "      <th>4</th>\n",
       "      <td>2017-11-27 14:30:40</td>\n",
       "      <td>0.0</td>\n",
       "    </tr>\n",
       "  </tbody>\n",
       "</table>\n",
       "</div>"
      ],
      "text/plain": [
       "             datetime  values\n",
       "0 2017-11-27 12:29:04     0.0\n",
       "1 2017-11-27 12:58:56     0.0\n",
       "2 2017-11-27 13:30:56     0.0\n",
       "3 2017-11-27 14:00:48     0.0\n",
       "4 2017-11-27 14:30:40     0.0"
      ]
     },
     "execution_count": 29,
     "metadata": {},
     "output_type": "execute_result"
    }
   ],
   "source": [
    "df.head()"
   ]
  },
  {
   "cell_type": "code",
   "execution_count": 31,
   "metadata": {},
   "outputs": [
    {
     "data": {
      "text/plain": [
       "'[{\"datetime\":\"2017-11-27T12:29:04.000Z\",\"values\":0.0},{\"datetime\":\"2017-11-27T12:58:56.000Z\",\"values\":0.0},{\"datetime\":\"2017-11-27T13:30:56.000Z\",\"values\":0.0},{\"datetime\":\"2017-11-27T14:00:48.000Z\",\"values\":0.0},{\"datetime\":\"2017-11-27T14:30:40.000Z\",\"values\":0.0},{\"datetime\":\"2017-11-27T15:00:32.000Z\",\"values\":0.0},{\"datetime\":\"2017-11-27T15:30:24.000Z\",\"values\":0.0},{\"datetime\":\"2017-11-27T16:00:16.000Z\",\"values\":0.0},{\"datetime\":\"2017-11-27T16:30:08.000Z\",\"values\":0.0},{\"datetime\":\"2017-11-27T17:00:00.000Z\",\"values\":0.0},{\"datetime\":\"2017-11-27T17:29:52.000Z\",\"values\":0.0},{\"datetime\":\"2017-11-27T17:59:44.000Z\",\"values\":0.0},{\"datetime\":\"2017-11-27T18:29:36.000Z\",\"values\":0.0},{\"datetime\":\"2017-11-27T18:59:28.000Z\",\"values\":0.0},{\"datetime\":\"2017-11-27T19:29:20.000Z\",\"values\":0.0},{\"datetime\":\"2017-11-27T19:59:12.000Z\",\"values\":0.0},{\"datetime\":\"2017-11-27T20:29:04.000Z\",\"values\":0.0},{\"datetime\":\"2017-11-27T21:01:04.000Z\",\"values\":0.0},{\"datetime\":\"2017-11-27T21:30:56.000Z\",\"values\":0.0},{\"datetime\":\"2017-11-27T22:00:48.000Z\",\"values\":0.0},{\"datetime\":\"2017-11-27T22:30:40.000Z\",\"values\":0.0},{\"datetime\":\"2017-11-27T23:00:32.000Z\",\"values\":0.0},{\"datetime\":\"2017-11-27T23:30:24.000Z\",\"values\":0.0},{\"datetime\":\"2017-11-28T00:00:16.000Z\",\"values\":0.0},{\"datetime\":\"2017-11-28T00:30:08.000Z\",\"values\":0.0},{\"datetime\":\"2017-11-28T01:00:00.000Z\",\"values\":0.0},{\"datetime\":\"2017-11-28T01:29:52.000Z\",\"values\":0.0},{\"datetime\":\"2017-11-28T01:59:44.000Z\",\"values\":0.0},{\"datetime\":\"2017-11-28T02:29:36.000Z\",\"values\":0.0},{\"datetime\":\"2017-11-28T02:59:28.000Z\",\"values\":0.0},{\"datetime\":\"2017-11-28T03:29:20.000Z\",\"values\":0.0},{\"datetime\":\"2017-11-28T03:59:12.000Z\",\"values\":0.0},{\"datetime\":\"2017-11-28T04:29:04.000Z\",\"values\":0.0},{\"datetime\":\"2017-11-28T04:58:56.000Z\",\"values\":0.0},{\"datetime\":\"2017-11-28T05:30:56.000Z\",\"values\":0.0},{\"datetime\":\"2017-11-28T06:00:48.000Z\",\"values\":0.0},{\"datetime\":\"2017-11-28T06:30:40.000Z\",\"values\":0.0},{\"datetime\":\"2017-11-28T07:00:32.000Z\",\"values\":0.0},{\"datetime\":\"2017-11-28T07:30:24.000Z\",\"values\":0.0},{\"datetime\":\"2017-11-28T08:00:16.000Z\",\"values\":0.0},{\"datetime\":\"2017-11-28T08:30:08.000Z\",\"values\":0.0},{\"datetime\":\"2017-11-28T09:00:00.000Z\",\"values\":0.0},{\"datetime\":\"2017-11-28T09:29:52.000Z\",\"values\":0.0},{\"datetime\":\"2017-11-28T09:59:44.000Z\",\"values\":0.0},{\"datetime\":\"2017-11-28T10:29:36.000Z\",\"values\":0.0},{\"datetime\":\"2017-11-28T10:59:28.000Z\",\"values\":0.0},{\"datetime\":\"2017-11-28T11:29:20.000Z\",\"values\":0.0},{\"datetime\":\"2017-11-28T11:59:12.000Z\",\"values\":0.0},{\"datetime\":\"2017-11-28T12:29:04.000Z\",\"values\":0.0}]'"
      ]
     },
     "execution_count": 31,
     "metadata": {},
     "output_type": "execute_result"
    }
   ],
   "source": [
    "df.to_json(orient='records', date_format='iso')"
   ]
  },
  {
   "cell_type": "code",
   "execution_count": null,
   "metadata": {},
   "outputs": [],
   "source": []
  }
 ],
 "metadata": {
  "kernelspec": {
   "display_name": "Python 3",
   "language": "python",
   "name": "python3"
  },
  "language_info": {
   "codemirror_mode": {
    "name": "ipython",
    "version": 3
   },
   "file_extension": ".py",
   "mimetype": "text/x-python",
   "name": "python",
   "nbconvert_exporter": "python",
   "pygments_lexer": "ipython3",
   "version": "3.5.2"
  }
 },
 "nbformat": 4,
 "nbformat_minor": 2
}
