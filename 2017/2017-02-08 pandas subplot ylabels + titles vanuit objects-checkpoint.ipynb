{
 "cells": [
  {
   "cell_type": "code",
   "execution_count": null,
   "metadata": {
    "collapsed": false
   },
   "outputs": [],
   "source": [
    "import pandas as pd\n",
    "import io\n",
    "from nbformat import current\n",
    "from matplotlib.ticker import ScalarFormatter#, FormatStrFormatter"
   ]
  },
  {
   "cell_type": "code",
   "execution_count": null,
   "metadata": {
    "collapsed": true
   },
   "outputs": [],
   "source": [
    "def execute_notebook(nbfile):\n",
    "    \n",
    "    with io.open(nbfile,encoding=\"utf8\") as f:\n",
    "        nb = current.read(f, 'json')\n",
    "    \n",
    "    ip = get_ipython()\n",
    "    \n",
    "    for cell in nb.worksheets[0].cells:\n",
    "        if cell.cell_type != 'code':\n",
    "            continue\n",
    "        ip.run_cell(cell.input)"
   ]
  },
  {
   "cell_type": "code",
   "execution_count": null,
   "metadata": {
    "collapsed": false
   },
   "outputs": [],
   "source": [
    "execute_notebook('2017-01-25 De Bruin-Keijmanmethode.ipynb')"
   ]
  },
  {
   "cell_type": "code",
   "execution_count": null,
   "metadata": {
    "collapsed": false
   },
   "outputs": [],
   "source": [
    "df_land = pd.read_pickle(r'C:\\Projects\\Pr\\3492.10\\BruinKeijman\\pkl//df_land_daily.pkl')\n",
    "df = pd.read_pickle(r'C:\\Projects\\Pr\\3492.10\\BruinKeijman\\pkl//df_water_daily.pkl')"
   ]
  },
  {
   "cell_type": "code",
   "execution_count": null,
   "metadata": {
    "collapsed": true
   },
   "outputs": [],
   "source": [
    "# df.plot(kind='scatter',x='latente warmtestroom',y='netto langgolvige straling')\n",
    "# plt.show()\n",
    "df['openwaterverdamping'].plot(legend=True)\n",
    "(df['referentie gewasverdamping']*1.26).plot(legend=True)\n",
    "plt.show()\n",
    "df['inkomende kortgolvige straling'].plot(legend=True)\n",
    "df['dagsom globale straling'].plot(legend=True)\n",
    "plt.show()\n",
    "\n",
    "df['netto langgolvige straling'].plot(legend=True)\n",
    "df['netto langgolvige straling station'].plot(legend=True)\n",
    "plt.show()"
   ]
  },
  {
   "cell_type": "code",
   "execution_count": null,
   "metadata": {
    "collapsed": false,
    "scrolled": false
   },
   "outputs": [],
   "source": [
    "df_vars = [x for x in variabelen]\n",
    "fig, ax = plt.subplots(nrows = len(df_vars), sharex = False, figsize=(13, 60))\n",
    "#fig.subplots_adjust(hspace = 2)\n",
    "for row, item in enumerate(df_vars):\n",
    "    print (row, item)    \n",
    "    df[item].plot(ax=ax[row], title=item+' ('+variabelen[item]['eenheid']+')')\n",
    "    #print (df[item])\n",
    "    ax[row].set_ylabel(variabelen[item]['symbool']+' ('+variabelen[item]['eenheid']+')')\n",
    "    ax[row].yaxis.set_major_formatter(ScalarFormatter(useOffset=False))\n",
    "plt.tight_layout()\n",
    "fig.subplots_adjust(hspace = 0.75)\n",
    "plt.savefig(r'C:\\Projects\\Pr\\3492.10\\BruinKeijman\\pkl//out_all_parameters.png', dpi=200)\n",
    "plt.draw()\n",
    "plt.show()"
   ]
  },
  {
   "cell_type": "code",
   "execution_count": null,
   "metadata": {
    "collapsed": true
   },
   "outputs": [],
   "source": []
  }
 ],
 "metadata": {
  "kernelspec": {
   "display_name": "Python 3",
   "language": "python",
   "name": "python3"
  },
  "language_info": {
   "codemirror_mode": {
    "name": "ipython",
    "version": 3
   },
   "file_extension": ".py",
   "mimetype": "text/x-python",
   "name": "python",
   "nbconvert_exporter": "python",
   "pygments_lexer": "ipython3",
   "version": "3.5.2"
  }
 },
 "nbformat": 4,
 "nbformat_minor": 2
}
