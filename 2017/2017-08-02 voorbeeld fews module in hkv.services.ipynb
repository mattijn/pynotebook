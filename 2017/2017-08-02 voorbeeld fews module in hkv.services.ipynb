{
 "cells": [
  {
   "cell_type": "markdown",
   "metadata": {},
   "source": [
    "Voorbeeld notebook om met de fews-pi module van hkv.services te werken. Dit moet in principe elke fews pi service zijn die lokaal of publiekelijk toegankgelijk is.\n",
    "\n",
    "Allereerst, importeer de module als volgt:"
   ]
  },
  {
   "cell_type": "code",
   "execution_count": 2,
   "metadata": {},
   "outputs": [],
   "source": [
    "from hkvfewspy.io.fewspi import pi"
   ]
  },
  {
   "cell_type": "markdown",
   "metadata": {},
   "source": [
    "De volgende functies zijn bij het opstarten beschikbaar"
   ]
  },
  {
   "cell_type": "code",
   "execution_count": 3,
   "metadata": {},
   "outputs": [
    {
     "data": {
      "text/plain": [
       "['errors',\n",
       " 'getFilters',\n",
       " 'getLocations',\n",
       " 'getParameters',\n",
       " 'getTimeSeries',\n",
       " 'getTimeZoneId',\n",
       " 'setClient',\n",
       " 'utils']"
      ]
     },
     "execution_count": 3,
     "metadata": {},
     "output_type": "execute_result"
    }
   ],
   "source": [
    "[ x for x in dir(pi) if \"__\" not in x ]"
   ]
  },
  {
   "cell_type": "markdown",
   "metadata": {},
   "source": [
    "Om een pi service uit te lezen moet deze eerst als client gezet worden. Dit kan met de functie `setClient`. Een wsdl service URL moet ingevuld worden en dat is bijvoorbeeld `http://www.oms-waddenzee.nl:8081/FewsPiService/fewspiservice?wsdl` of `http://localhost:8101/FewsPiService?wsdl`"
   ]
  },
  {
   "cell_type": "code",
   "execution_count": 4,
   "metadata": {},
   "outputs": [],
   "source": [
    "pi.setClient(wsdl = 'http://www.oms-waddenzee.nl:8081/FewsPiService/fewspiservice?wsdl')"
   ]
  },
  {
   "cell_type": "markdown",
   "metadata": {},
   "source": [
    "Vervolgens kan je filters uitlezen welke binnen de service bekend zijn. Wanneer de client bekend is heeft deze functie verder geen parameters nodig"
   ]
  },
  {
   "cell_type": "code",
   "execution_count": 5,
   "metadata": {},
   "outputs": [
    {
     "data": {
      "text/plain": [
       "{'f_fewsPi': {'description': '', 'id': 'f_fewsPi', 'name': 'Fews-Pi service'},\n",
       " 'f_trend_1': {'description': '', 'id': 'f_trend.1', 'name': 'Cut-data'},\n",
       " 'f_trend_2': {'description': '', 'id': 'f_trend.2', 'name': 'Fill-data'},\n",
       " 'f_werk_1': {'description': '',\n",
       "  'id': 'f_werk.1',\n",
       "  'name': 'Baggeren + Zandwinning + Agiteren (/baggervak)'},\n",
       " 'f_werk_2': {'description': '',\n",
       "  'id': 'f_werk.2',\n",
       "  'name': 'Verspreiden (/verspreidingsvak)'}}"
      ]
     },
     "execution_count": 5,
     "metadata": {},
     "output_type": "execute_result"
    }
   ],
   "source": [
    "filters = pi.getFilters()\n",
    "vars(filters)"
   ]
  },
  {
   "cell_type": "markdown",
   "metadata": {},
   "source": [
    "De filters worden als attributen onder het filters object gehangen op basis van het filter id onder `pi.Filters`, waarbij vreemde karaketers (zoals een `.`) worden omgezet in `_`"
   ]
  },
  {
   "cell_type": "code",
   "execution_count": 6,
   "metadata": {},
   "outputs": [
    {
     "data": {
      "text/plain": [
       "{'description': '',\n",
       " 'id': 'f_werk.1',\n",
       " 'name': 'Baggeren + Zandwinning + Agiteren (/baggervak)'}"
      ]
     },
     "execution_count": 6,
     "metadata": {},
     "output_type": "execute_result"
    }
   ],
   "source": [
    "filters.f_werk_1"
   ]
  },
  {
   "cell_type": "markdown",
   "metadata": {},
   "source": [
    "Een uitgelezen filter welke als attribute is toegevoegd kan gebruikt worden als `filterId`."
   ]
  },
  {
   "cell_type": "code",
   "execution_count": 7,
   "metadata": {},
   "outputs": [
    {
     "name": "stdout",
     "output_type": "stream",
     "text": [
      "f_werk.1\n"
     ]
    }
   ],
   "source": [
    "filterId = pi.Filters.f_werk_1['id']\n",
    "print (filterId)"
   ]
  },
  {
   "cell_type": "markdown",
   "metadata": {},
   "source": [
    "Vervolgens kunnen de locties voor de desbetreffende filter uitgelezen worden met de `getLocations` functie. Met `setFormat` kan het formaat worden bepaald hoe het object teruggegeven moet worden. Dit kan zijn:\n",
    "- `gdf` voor een GeoDataFrame formaat\n",
    "- `geojson` voor een GeoJSON formaat\n",
    "- `dict` voor een Dictionary formaat\n",
    "\n",
    "(De verschillende formaten worden momenteel allemaal ook als attributes bijgeschreven onder het `pi.Locations` object)"
   ]
  },
  {
   "cell_type": "code",
   "execution_count": 8,
   "metadata": {},
   "outputs": [],
   "source": [
    "gdf = pi.getLocations(filterId = filterId,\n",
    "                      setFormat = 'gdf')"
   ]
  },
  {
   "cell_type": "markdown",
   "metadata": {},
   "source": [
    "Met een GeoDataFrame formaat kan je het gelijk visualiseren of -gewoon- als DataFrame vervolg acties op doen"
   ]
  },
  {
   "cell_type": "code",
   "execution_count": 9,
   "metadata": {},
   "outputs": [
    {
     "data": {
      "text/plain": [
       "<matplotlib.axes._subplots.AxesSubplot at 0xa530860>"
      ]
     },
     "execution_count": 9,
     "metadata": {},
     "output_type": "execute_result"
    },
    {
     "data": {
      "image/png": "[encoded data removed]",
      "text/plain": [
       "<matplotlib.figure.Figure at 0xa530048>"
      ]
     },
     "metadata": {},
     "output_type": "display_data"
    }
   ],
   "source": [
    "%matplotlib inline\n",
    "gdf.plot()"
   ]
  },
  {
   "cell_type": "code",
   "execution_count": 10,
   "metadata": {},
   "outputs": [
    {
     "data": {
      "text/html": [
       "<div>\n",
       "<style scoped>\n",
       "    .dataframe tbody tr th:only-of-type {\n",
       "        vertical-align: middle;\n",
       "    }\n",
       "\n",
       "    .dataframe tbody tr th {\n",
       "        vertical-align: top;\n",
       "    }\n",
       "\n",
       "    .dataframe thead th {\n",
       "        text-align: right;\n",
       "    }\n",
       "</style>\n",
       "<table border=\"1\" class=\"dataframe\">\n",
       "  <thead>\n",
       "    <tr style=\"text-align: right;\">\n",
       "      <th></th>\n",
       "      <th>locationId</th>\n",
       "      <th>shortName</th>\n",
       "      <th>x</th>\n",
       "      <th>y</th>\n",
       "      <th>geometry</th>\n",
       "    </tr>\n",
       "  </thead>\n",
       "  <tbody>\n",
       "    <tr>\n",
       "      <th>bv_1_7_1_1</th>\n",
       "      <td>bv.1.7.1.1</td>\n",
       "      <td>Den Helder - Texel, Vaarweg</td>\n",
       "      <td>114887.0</td>\n",
       "      <td>555232.0</td>\n",
       "      <td>POINT (4.789939580471975 52.98258358193483)</td>\n",
       "    </tr>\n",
       "    <tr>\n",
       "      <th>bv_1_7_1_1_1_1</th>\n",
       "      <td>bv.1.7.1.1.1.1</td>\n",
       "      <td>Den Helder veerhaven, Vak A</td>\n",
       "      <td>114278.0</td>\n",
       "      <td>553377.0</td>\n",
       "      <td>POINT (4.781104282194812 52.96586925822925)</td>\n",
       "    </tr>\n",
       "    <tr>\n",
       "      <th>bv_1_7_1_1_1_2</th>\n",
       "      <td>bv.1.7.1.1.1.2</td>\n",
       "      <td>Den Helder veerhaven, Vak B</td>\n",
       "      <td>114113.0</td>\n",
       "      <td>553202.0</td>\n",
       "      <td>POINT (4.778670536487695 52.96428425924832)</td>\n",
       "    </tr>\n",
       "    <tr>\n",
       "      <th>bv_1_7_1_1_1_3</th>\n",
       "      <td>bv.1.7.1.1.1.3</td>\n",
       "      <td>Den Helder veerhaven, Vak C</td>\n",
       "      <td>114243.0</td>\n",
       "      <td>553255.0</td>\n",
       "      <td>POINT (4.780598637222577 52.96477034363196)</td>\n",
       "    </tr>\n",
       "    <tr>\n",
       "      <th>bv_1_7_1_1_2_1</th>\n",
       "      <td>bv.1.7.1.1.2.1</td>\n",
       "      <td>Texel veerhaven, Vak A</td>\n",
       "      <td>114395.0</td>\n",
       "      <td>557589.0</td>\n",
       "      <td>POINT (4.782320076077784 53.00372620992813)</td>\n",
       "    </tr>\n",
       "  </tbody>\n",
       "</table>\n",
       "</div>"
      ],
      "text/plain": [
       "                    locationId                    shortName         x  \\\n",
       "bv_1_7_1_1          bv.1.7.1.1  Den Helder - Texel, Vaarweg  114887.0   \n",
       "bv_1_7_1_1_1_1  bv.1.7.1.1.1.1  Den Helder veerhaven, Vak A  114278.0   \n",
       "bv_1_7_1_1_1_2  bv.1.7.1.1.1.2  Den Helder veerhaven, Vak B  114113.0   \n",
       "bv_1_7_1_1_1_3  bv.1.7.1.1.1.3  Den Helder veerhaven, Vak C  114243.0   \n",
       "bv_1_7_1_1_2_1  bv.1.7.1.1.2.1       Texel veerhaven, Vak A  114395.0   \n",
       "\n",
       "                       y                                     geometry  \n",
       "bv_1_7_1_1      555232.0  POINT (4.789939580471975 52.98258358193483)  \n",
       "bv_1_7_1_1_1_1  553377.0  POINT (4.781104282194812 52.96586925822925)  \n",
       "bv_1_7_1_1_1_2  553202.0  POINT (4.778670536487695 52.96428425924832)  \n",
       "bv_1_7_1_1_1_3  553255.0  POINT (4.780598637222577 52.96477034363196)  \n",
       "bv_1_7_1_1_2_1  557589.0  POINT (4.782320076077784 53.00372620992813)  "
      ]
     },
     "execution_count": 10,
     "metadata": {},
     "output_type": "execute_result"
    }
   ],
   "source": [
    "gdf.head()"
   ]
  },
  {
   "cell_type": "markdown",
   "metadata": {},
   "source": [
    "Om een `list` te krijgen van alle beschikbare locaties doe het volgende. Er wordt vervolgens alleen de eerste 5 items getoond"
   ]
  },
  {
   "cell_type": "code",
   "execution_count": 11,
   "metadata": {
    "scrolled": true
   },
   "outputs": [
    {
     "data": {
      "text/plain": [
       "['bv.1.7.1.1',\n",
       " 'bv.1.7.1.1.1.1',\n",
       " 'bv.1.7.1.1.1.2',\n",
       " 'bv.1.7.1.1.1.3',\n",
       " 'bv.1.7.1.1.2.1']"
      ]
     },
     "execution_count": 11,
     "metadata": {},
     "output_type": "execute_result"
    }
   ],
   "source": [
    "locationIds = gdf.locationId.tolist()\n",
    "locationIds[0:5]"
   ]
  },
  {
   "cell_type": "markdown",
   "metadata": {},
   "source": [
    "Zoals gezegd worden de verschillende formaten als attributes onder het `pi.Locations` object weggeschreven, waarbij het GeoJSON formaat gelijk binnen een mapping module zoals `folium` gebruikt kan worden:"
   ]
  },
  {
   "cell_type": "code",
   "execution_count": 11,
   "metadata": {},
   "outputs": [
    {
     "name": "stderr",
     "output_type": "stream",
     "text": [
      "c:\\python35\\lib\\site-packages\\ipykernel\\__main__.py:9: FutureWarning: Method `add_children` is deprecated. Please use `add_child` instead.\n"
     ]
    },
    {
     "data": {
      "text/html": [
       "<div style=\"width:100%;\"><div style=\"position:relative;width:100%;height:0;padding-bottom:60%;\"><iframe src=\"data:text/html;charset=utf-8;base64,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\" style=\"position:absolute;width:100%;height:100%;left:0;top:0;border:none !important;\" allowfullscreen webkitallowfullscreen mozallowfullscreen></iframe></div></div>"
      ],
      "text/plain": [
       "<folium.folium.Map at 0xadb7d30>"
      ]
     },
     "execution_count": 11,
     "metadata": {},
     "output_type": "execute_result"
    }
   ],
   "source": [
    "import folium\n",
    "mapa = folium.Map([53.2, 5.5],\n",
    "                  zoom_start=9,\n",
    "                  tiles='cartodbpositron')\n",
    "\n",
    "geoJSONdata = pi.Locations.asGeoJSON\n",
    "points = folium.features.GeoJson(pi.Locations.asGeoJSON)\n",
    "\n",
    "mapa.add_children(points)\n",
    "mapa"
   ]
  },
  {
   "cell_type": "markdown",
   "metadata": {},
   "source": [
    "Net zoals de locaties kunnen worden uitgelezen voor een filter is dat ook zo voor de parameters. Dit kan met de `getParameters` functie:"
   ]
  },
  {
   "cell_type": "code",
   "execution_count": 12,
   "metadata": {},
   "outputs": [
    {
     "data": {
      "text/plain": [
       "{'k_m3_geagiteerd_vdlee': {'displayUnit': 'm3',\n",
       "  'id': 'k.m3.geagiteerd.vdlee',\n",
       "  'name': 'Kuubs geagiteerd (m3 - dagrapport)',\n",
       "  'parameterType': 'instantaneous',\n",
       "  'unit': 'm3',\n",
       "  'usesDatum': 'true'},\n",
       " 'k_m3_gebaggerd_mars': {'displayUnit': 'm3',\n",
       "  'id': 'k.m3.gebaggerd.mars',\n",
       "  'name': 'Kuubs gebaggerd (m3 - mars)',\n",
       "  'parameterType': 'instantaneous',\n",
       "  'unit': 'm3',\n",
       "  'usesDatum': 'true'},\n",
       " 'k_m3_gebaggerd_vdlee': {'displayUnit': 'm3',\n",
       "  'id': 'k.m3.gebaggerd.vdlee',\n",
       "  'name': 'Kuubs gebaggerd (m3 - dagrapport)',\n",
       "  'parameterType': 'instantaneous',\n",
       "  'unit': 'm3',\n",
       "  'usesDatum': 'true'},\n",
       " 'k_m3_zandwinning_vdlee': {'displayUnit': 'm3',\n",
       "  'id': 'k.m3.zandwinning.vdlee',\n",
       "  'name': 'Kuubs zand winning (m3 - dagrapport)',\n",
       "  'parameterType': 'instantaneous',\n",
       "  'unit': 'm3',\n",
       "  'usesDatum': 'true'}}"
      ]
     },
     "execution_count": 12,
     "metadata": {},
     "output_type": "execute_result"
    }
   ],
   "source": [
    "params = pi.getParameters(filterId=filterId)\n",
    "vars(params)"
   ]
  },
  {
   "cell_type": "markdown",
   "metadata": {},
   "source": [
    "Ook deze worden als attribute onder het object opgeslagen."
   ]
  },
  {
   "cell_type": "code",
   "execution_count": 13,
   "metadata": {},
   "outputs": [
    {
     "data": {
      "text/plain": [
       "'k.m3.geagiteerd.vdlee'"
      ]
     },
     "execution_count": 13,
     "metadata": {},
     "output_type": "execute_result"
    }
   ],
   "source": [
    "parameterIds = pi.Parameters.k_m3_geagiteerd_vdlee['id']\n",
    "parameterIds"
   ]
  },
  {
   "cell_type": "markdown",
   "metadata": {},
   "source": [
    "Alle parameters kunnen als list worden opgevraagd bij de Pi service. Om een list te krijgen van de beschikbare parameterIds vanuit het `pi.Parameters` object, doe als volgt (opvragen van meerdere parameters over meerdere locaties over langere periodes resulteert nu vaak nog in een error)"
   ]
  },
  {
   "cell_type": "code",
   "execution_count": 14,
   "metadata": {},
   "outputs": [],
   "source": [
    "# string_filter = 'vdlee'\n",
    "# parameterIds = [getattr(pi.Parameters, named_attribute)['id'] for named_attribute in vars(pi.Parameters) if string_filter in named_attribute]\n",
    "# parameterIds"
   ]
  },
  {
   "cell_type": "markdown",
   "metadata": {},
   "source": [
    "Voor de `getTimeSeries` functie zijn ook nog de start en eindtijd nodig om de periode te bepalen voor de data request. Dit kan met een `datetime` object."
   ]
  },
  {
   "cell_type": "code",
   "execution_count": 15,
   "metadata": {},
   "outputs": [],
   "source": [
    "from datetime import datetime\n",
    "startTime = datetime(2017,3,1)\n",
    "endTime =  datetime.now()"
   ]
  },
  {
   "cell_type": "code",
   "execution_count": 24,
   "metadata": {},
   "outputs": [
    {
     "data": {
      "text/plain": [
       "'k.m3.geagiteerd.vdlee'"
      ]
     },
     "execution_count": 24,
     "metadata": {},
     "output_type": "execute_result"
    }
   ],
   "source": [
    "parameterIds"
   ]
  },
  {
   "cell_type": "markdown",
   "metadata": {},
   "source": [
    "In dit geval zijn de startTime en endTime niet bewust van een timezone. In dit geval worden deze intern alsnog bepaald op basis `clientTimeZone` parameter. Standaard staat deze op `Europe/Amsterdam`. Mogelijke timezones worden bepaald met de pytz module (`import pytz`, `pytz.all_timezones`). \n",
    "\n",
    "Er worden items terug gegeven. Eerst het data object zelf in het gewenste `format`. En daarnaast nog een `entry`, wat op dit moment een combinatie is van `parameterId|locationId|units`. Deze `entry` zou bijvoorbeeld gebruikt kunnen worden als `key` voor een entry in de hkv.services dataportal \n",
    "\n",
    "Zoals gezegd zijn er meerdere formats, welke met `setFormat` ingesteld kan worden. Keuze kan gemaakt worden uit:\n",
    "- `df` voor pandas DataFrame\n",
    "- `json` voor een JSON formatted output\n",
    "- `gzip` voor een GZIP gecomprimiteerde JSON string"
   ]
  },
  {
   "cell_type": "code",
   "execution_count": 16,
   "metadata": {},
   "outputs": [
    {
     "name": "stdout",
     "output_type": "stream",
     "text": [
      "k.m3.geagiteerd.vdlee|bv.1.7.2.1.1.B|m3\n"
     ]
    }
   ],
   "source": [
    "df, entry = pi.getTimeSeries(filterId = filterId,\n",
    "                             parameterIds = parameterIds, \n",
    "                             locationIds=locationIds, \n",
    "                             startTime=startTime, \n",
    "                             endTime=endTime, \n",
    "                             clientTimeZone='Europe/Amsterdam',\n",
    "                             setFormat='df')\n",
    "print (entry)"
   ]
  },
  {
   "cell_type": "code",
   "execution_count": 17,
   "metadata": {},
   "outputs": [
    {
     "data": {
      "text/html": [
       "<div>\n",
       "<style scoped>\n",
       "    .dataframe tbody tr th:only-of-type {\n",
       "        vertical-align: middle;\n",
       "    }\n",
       "\n",
       "    .dataframe tbody tr th {\n",
       "        vertical-align: top;\n",
       "    }\n",
       "\n",
       "    .dataframe thead th {\n",
       "        text-align: right;\n",
       "    }\n",
       "</style>\n",
       "<table border=\"1\" class=\"dataframe\">\n",
       "  <thead>\n",
       "    <tr style=\"text-align: right;\">\n",
       "      <th></th>\n",
       "      <th></th>\n",
       "      <th></th>\n",
       "      <th></th>\n",
       "      <th></th>\n",
       "      <th></th>\n",
       "      <th>flag</th>\n",
       "      <th>value</th>\n",
       "    </tr>\n",
       "    <tr>\n",
       "      <th>date</th>\n",
       "      <th>moduleId</th>\n",
       "      <th>parameterId</th>\n",
       "      <th>units</th>\n",
       "      <th>locationId</th>\n",
       "      <th>stationName</th>\n",
       "      <th></th>\n",
       "      <th></th>\n",
       "    </tr>\n",
       "  </thead>\n",
       "  <tbody>\n",
       "    <tr>\n",
       "      <th rowspan=\"5\" valign=\"top\">2017-03-01 00:00:00+01:00</th>\n",
       "      <th rowspan=\"5\" valign=\"top\">pr.Reizen.vdLee.baggeracties</th>\n",
       "      <th rowspan=\"5\" valign=\"top\">k.m3.geagiteerd.vdlee</th>\n",
       "      <th rowspan=\"5\" valign=\"top\">m3</th>\n",
       "      <th>bv.1.7.1.1</th>\n",
       "      <th>Den Helder - Texel, Vaarweg</th>\n",
       "      <td>8.0</td>\n",
       "      <td>-999.0</td>\n",
       "    </tr>\n",
       "    <tr>\n",
       "      <th>bv.1.7.1.1.1.1</th>\n",
       "      <th>Den Helder veerhaven, Vak A</th>\n",
       "      <td>8.0</td>\n",
       "      <td>-999.0</td>\n",
       "    </tr>\n",
       "    <tr>\n",
       "      <th>bv.1.7.1.1.1.2</th>\n",
       "      <th>Den Helder veerhaven, Vak B</th>\n",
       "      <td>8.0</td>\n",
       "      <td>-999.0</td>\n",
       "    </tr>\n",
       "    <tr>\n",
       "      <th>bv.1.7.1.1.1.3</th>\n",
       "      <th>Den Helder veerhaven, Vak C</th>\n",
       "      <td>8.0</td>\n",
       "      <td>-999.0</td>\n",
       "    </tr>\n",
       "    <tr>\n",
       "      <th>bv.1.7.1.1.2.1</th>\n",
       "      <th>Texel veerhaven, Vak A</th>\n",
       "      <td>8.0</td>\n",
       "      <td>-999.0</td>\n",
       "    </tr>\n",
       "  </tbody>\n",
       "</table>\n",
       "</div>"
      ],
      "text/plain": [
       "                                                                                                                               flag  \\\n",
       "date                      moduleId                     parameterId           units locationId     stationName                         \n",
       "2017-03-01 00:00:00+01:00 pr.Reizen.vdLee.baggeracties k.m3.geagiteerd.vdlee m3    bv.1.7.1.1     Den Helder - Texel, Vaarweg   8.0   \n",
       "                                                                                   bv.1.7.1.1.1.1 Den Helder veerhaven, Vak A   8.0   \n",
       "                                                                                   bv.1.7.1.1.1.2 Den Helder veerhaven, Vak B   8.0   \n",
       "                                                                                   bv.1.7.1.1.1.3 Den Helder veerhaven, Vak C   8.0   \n",
       "                                                                                   bv.1.7.1.1.2.1 Texel veerhaven, Vak A        8.0   \n",
       "\n",
       "                                                                                                                               value  \n",
       "date                      moduleId                     parameterId           units locationId     stationName                         \n",
       "2017-03-01 00:00:00+01:00 pr.Reizen.vdLee.baggeracties k.m3.geagiteerd.vdlee m3    bv.1.7.1.1     Den Helder - Texel, Vaarweg -999.0  \n",
       "                                                                                   bv.1.7.1.1.1.1 Den Helder veerhaven, Vak A -999.0  \n",
       "                                                                                   bv.1.7.1.1.1.2 Den Helder veerhaven, Vak B -999.0  \n",
       "                                                                                   bv.1.7.1.1.1.3 Den Helder veerhaven, Vak C -999.0  \n",
       "                                                                                   bv.1.7.1.1.2.1 Texel veerhaven, Vak A      -999.0  "
      ]
     },
     "execution_count": 17,
     "metadata": {},
     "output_type": "execute_result"
    }
   ],
   "source": [
    "df.head()"
   ]
  },
  {
   "cell_type": "code",
   "execution_count": 18,
   "metadata": {},
   "outputs": [],
   "source": [
    "import matplotlib.pyplot as plt\n",
    "import pandas as pd\n",
    "import numpy as np"
   ]
  },
  {
   "cell_type": "code",
   "execution_count": 19,
   "metadata": {},
   "outputs": [],
   "source": [
    "df.reset_index(inplace=True)\n",
    "df['value'].replace(-999.0,np.NaN, inplace = True)"
   ]
  },
  {
   "cell_type": "code",
   "execution_count": 20,
   "metadata": {},
   "outputs": [
    {
     "data": {
      "image/png": "[encoded data removed]",
      "text/plain": [
       "<matplotlib.figure.Figure at 0xe8b1208>"
      ]
     },
     "metadata": {},
     "output_type": "display_data"
    }
   ],
   "source": [
    "fig, ax = plt.subplots()\n",
    "ax.plot(df['date'],df['value'],'.')\n",
    "ylabel = df['parameterId'][0] + ' ('+df['units'][0]+')'\n",
    "ax.set_ylabel(ylabel)\n",
    "plt.show()"
   ]
  },
  {
   "cell_type": "markdown",
   "metadata": {},
   "source": [
    "Ondanks dat het formaat DataFrame was opgegeven kan een JSON formatted output opgevraagd worden via het attribute onder de TimeSeries object. \n",
    "\n",
    "Kijk uit met opvragen van de gehele string sinds deze groot kan zijn."
   ]
  },
  {
   "cell_type": "code",
   "execution_count": 21,
   "metadata": {},
   "outputs": [
    {
     "data": {
      "text/plain": [
       "'[{\"date\":\"2017-02-28T23:00:00.000Z\",\"moduleId\":\"pr.Reizen.vdLee.baggeracties\",\"parameterId\":\"k.m3.geagiteerd.vdlee\",\"units\":\"m3\",\"locationId\":\"bv.1.7.1.1\",\"stationName\":\"Den Helder - Texel, Vaarweg\",\"flag\":8.0,\"value\":-999.0},{\"date\":\"2017-02-28T23:00:00.000Z\",\"moduleId\":\"pr.Reizen.vdLee.baggeracties\",\"parameterId\":\"k.m3.geagiteerd.vdlee\",\"units\":\"m3\",\"locationId\":\"bv.1.7.1.1.1.1\",\"stationName\":\"Den Helder veerhaven, Vak A\",\"flag\":8.0,\"value\":-999.0},{\"date\":\"2017-02-28T23:00:00.000Z\",\"moduleId\":\"pr.Reizen.vdLee.baggeracties\",\"parameterId\":\"k.m3.geagiteerd.vdlee\",\"units\":\"m3\",\"locationId\":\"bv.1.7.1.1.1.2\",\"stationName\":\"Den Helder veerhaven, Vak B\",\"flag\":8.0,\"value\":-999.0},{\"date\":\"2017-02-28T23:00:00.000Z\",\"moduleId\":\"pr.Reizen.vdLee.baggeracties\",\"parameterId\":\"k.m3.geagiteerd.vdlee\",\"units\":\"m3\",\"locationId\":\"bv.1.7.1.1.1.3\",\"stationName\":\"Den Helder veerhaven, Vak C\",\"flag\":8.0,\"value\":-999.0},{\"date\":\"2017-02-28T23:00:00.000Z\",\"moduleId\":\"pr.Reizen.vdLee.baggeracties\",\"parameter'"
      ]
     },
     "execution_count": 21,
     "metadata": {},
     "output_type": "execute_result"
    }
   ],
   "source": [
    "pi.TimeSeries.asJSON[0:1000]"
   ]
  },
  {
   "cell_type": "markdown",
   "metadata": {},
   "source": [
    "Sinds dit een row-oriented (records-style) JSON is kan het gelijk gebruikt worden in de visualaties binnen dashboards wanneer deze via de hkv.services dataportal als entry in een database wordt ingevoerd."
   ]
  },
  {
   "cell_type": "markdown",
   "metadata": {},
   "source": [
    "Na het doorlopen van alle functies zijn er een heel aantal objecten toegevoegd aan het `pi` object (vergelijk met `In [2]`)"
   ]
  },
  {
   "cell_type": "code",
   "execution_count": 22,
   "metadata": {},
   "outputs": [
    {
     "data": {
      "text/plain": [
       "['Filters',\n",
       " 'Locations',\n",
       " 'Parameters',\n",
       " 'TimeSeries',\n",
       " 'TimeZoneId',\n",
       " 'client',\n",
       " 'errors',\n",
       " 'getFilters',\n",
       " 'getLocations',\n",
       " 'getParameters',\n",
       " 'getTimeSeries',\n",
       " 'getTimeZoneId',\n",
       " 'setClient',\n",
       " 'utils']"
      ]
     },
     "execution_count": 22,
     "metadata": {},
     "output_type": "execute_result"
    }
   ],
   "source": [
    "[ x for x in dir(pi) if \"__\" not in x ]"
   ]
  },
  {
   "cell_type": "code",
   "execution_count": null,
   "metadata": {},
   "outputs": [],
   "source": []
  }
 ],
 "metadata": {
  "kernelspec": {
   "display_name": "Python 3",
   "language": "python",
   "name": "python3"
  },
  "language_info": {
   "codemirror_mode": {
    "name": "ipython",
    "version": 3
   },
   "file_extension": ".py",
   "mimetype": "text/x-python",
   "name": "python",
   "nbconvert_exporter": "python",
   "pygments_lexer": "ipython3",
   "version": "3.5.2"
  }
 },
 "nbformat": 4,
 "nbformat_minor": 2
}
