{
 "cells": [
  {
   "cell_type": "code",
   "execution_count": 1,
   "metadata": {
    "collapsed": true
   },
   "outputs": [],
   "source": [
    "from xml.etree import ElementTree\n",
    "from xml.dom import minidom\n",
    "import glob, os, sys\n",
    "from xml.etree.ElementTree import Element, SubElement, Comment\n",
    "import subprocess as sp\n",
    "import pandas as pd\n",
    "from datetime import datetime\n",
    "from osgeo import ogr\n",
    "import logging\n",
    "from scipy import stats\n",
    "from scipy.spatial.distance import cdist\n",
    "from scipy.spatial import cKDTree as KDTree\n",
    "import statsmodels.api as sm\n",
    "import numpy as np\n",
    "import pandas as pd\n",
    "import gdal\n",
    "import os\n",
    "import matplotlib.pyplot as plt\n",
    "%matplotlib inline"
   ]
  },
  {
   "cell_type": "code",
   "execution_count": 2,
   "metadata": {
    "collapsed": true
   },
   "outputs": [],
   "source": [
    "def inRaster(file_raster):\n",
    "    raster = gdal.Open(file_raster, gdal.GA_ReadOnly)\n",
    "    band = raster.GetRasterBand(1)\n",
    "    array = band.ReadAsArray()\n",
    "    extent = raster.GetGeoTransform()\n",
    "    return raster, array, extent"
   ]
  },
  {
   "cell_type": "code",
   "execution_count": 3,
   "metadata": {
    "collapsed": true
   },
   "outputs": [],
   "source": [
    "def saveRaster(path, array, raster, datatype=6, formatraster=\"GTiff\"):\n",
    "    # Set Driver\n",
    "    format_ = formatraster #save as format\n",
    "    driver = gdal.GetDriverByName( format_ )\n",
    "    driver.Register()\n",
    "    \n",
    "    # Set Metadata for Raster output\n",
    "    cols = raster.RasterXSize\n",
    "    rows = raster.RasterYSize\n",
    "    bands = raster.RasterCount\n",
    "    datatype = 6#band.DataType\n",
    "    \n",
    "    # Set Projection for Raster\n",
    "    outDataset = driver.Create(path, cols, rows, bands, datatype)\n",
    "    geoTransform = raster.GetGeoTransform()\n",
    "    outDataset.SetGeoTransform(geoTransform)\n",
    "    proj = raster.GetProjection()\n",
    "    outDataset.SetProjection(proj)\n",
    "    \n",
    "    # Write output to band 1 of new Raster\n",
    "    outBand = outDataset.GetRasterBand(1)\n",
    "    outBand.WriteArray(array) #save input array\n",
    "    #outBand.WriteArray(dem)\n",
    "    \n",
    "    # Close and finalise newly created Raster\n",
    "    #F_M01 = None\n",
    "    outBand = None\n",
    "    proj = None\n",
    "    geoTransform = None\n",
    "    outDataset = None\n",
    "    driver = None\n",
    "    datatype = None\n",
    "    bands = None\n",
    "    rows = None\n",
    "    cols = None\n",
    "    driver = None\n",
    "    array = None"
   ]
  },
  {
   "cell_type": "code",
   "execution_count": 4,
   "metadata": {
    "collapsed": true
   },
   "outputs": [],
   "source": [
    "def cartesian(arrays, out=None):\n",
    "    \"\"\"\n",
    "    Generate a cartesian product of input arrays.\n",
    "\n",
    "    Parameters\n",
    "    ----------\n",
    "    arrays : list of array-like\n",
    "        1-D arrays to form the cartesian product of.\n",
    "    out : ndarray\n",
    "        Array to place the cartesian product in.\n",
    "\n",
    "    Returns\n",
    "    -------\n",
    "    out : ndarray\n",
    "        2-D array of shape (M, len(arrays)) containing cartesian products\n",
    "        formed of input arrays.\n",
    "\n",
    "    Examples\n",
    "    --------\n",
    "    >>> cartesian(([1, 2, 3], [4, 5], [6, 7]))\n",
    "    array([[1, 4, 6],\n",
    "           [1, 4, 7],\n",
    "           [1, 5, 6],\n",
    "           [1, 5, 7],\n",
    "           [2, 4, 6],\n",
    "           [2, 4, 7],\n",
    "           [2, 5, 6],\n",
    "           [2, 5, 7],\n",
    "           [3, 4, 6],\n",
    "           [3, 4, 7],\n",
    "           [3, 5, 6],\n",
    "           [3, 5, 7]])\n",
    "\n",
    "    \"\"\"\n",
    "\n",
    "    arrays = [np.asarray(x) for x in arrays]\n",
    "    dtype = arrays[0].dtype\n",
    "\n",
    "    n = np.prod([x.size for x in arrays])\n",
    "    if out is None:\n",
    "        out = np.zeros([n, len(arrays)], dtype=dtype)\n",
    "\n",
    "    m = n / arrays[0].size\n",
    "    out[:,0] = np.repeat(arrays[0], m)\n",
    "    if arrays[1:]:\n",
    "        cartesian(arrays[1:], out=out[0:m,1:])\n",
    "        for j in range(1, arrays[0].size):\n",
    "            out[j*m:(j+1)*m,1:] = out[0:m,1:]\n",
    "    return out"
   ]
  },
  {
   "cell_type": "code",
   "execution_count": 5,
   "metadata": {
    "collapsed": true
   },
   "outputs": [],
   "source": [
    "templateRaster = r'D:\\Projects\\Pr\\3492.10\\ALBEDO\\asc//ALBEDO-D10_NL_201604050000.asc'"
   ]
  },
  {
   "cell_type": "code",
   "execution_count": 6,
   "metadata": {
    "collapsed": false
   },
   "outputs": [
    {
     "name": "stderr",
     "output_type": "stream",
     "text": [
      "c:\\python35\\lib\\site-packages\\ipykernel\\__main__.py:46: VisibleDeprecationWarning: using a non-integer number instead of an integer will result in an error in the future\n",
      "c:\\python35\\lib\\site-packages\\ipykernel\\__main__.py:48: VisibleDeprecationWarning: using a non-integer number instead of an integer will result in an error in the future\n"
     ]
    }
   ],
   "source": [
    "# read grid as template for IDW application\n",
    "raster, array, extent = inRaster(templateRaster)\n",
    "\n",
    "# Get some metadata from the raster file\n",
    "band = raster.GetRasterBand(1)\n",
    "proj = raster.GetProjection()\n",
    "\n",
    "cols = raster.RasterXSize\n",
    "rows = raster.RasterYSize\n",
    "\n",
    "#     # plot as test\n",
    "#     plt.imshow(array)\n",
    "#     plt.show()\n",
    "\n",
    "# create array with all coordinates in array using the extent\n",
    "x_steps = np.arange(array.shape[1]) * extent[1]\n",
    "y_steps = np.arange(array.shape[0]) * extent[-1]        \n",
    "x_coords = extent[0] + x_steps + extent[1]/2\n",
    "y_coords = extent[3] + y_steps + extent[-1]/2        \n",
    "xy = cartesian([x_coords, y_coords])\n",
    "#print ('xy coordinates shape:', xy.shape, '\\nlooks like:\\n',xy[0:5])\n",
    "\n",
    "# trans and reshape the template array to a 1D ndarray\n",
    "array = array.T\n",
    "array_rshp = array.reshape(-1)"
   ]
  },
  {
   "cell_type": "code",
   "execution_count": 7,
   "metadata": {
    "collapsed": false
   },
   "outputs": [],
   "source": [
    "# convert array to pandas dataframe with x/y coordinates\n",
    "df = pd.DataFrame(xy)\n",
    "df = pd.concat((df,pd.Series(array_rshp)),axis=1)\n",
    "df.columns = ['X_RD','Y_RD','Albedo']\n",
    "df['Albedo'].replace(-999.0,np.NaN, inplace=True)\n",
    "df = df[pd.notnull(df['Albedo'])]\n",
    "#df.head(), df.shape"
   ]
  },
  {
   "cell_type": "code",
   "execution_count": 8,
   "metadata": {
    "collapsed": true
   },
   "outputs": [],
   "source": [
    "tree = KDTree(list(zip(df['X_RD'],df['Y_RD'])), leafsize=11)"
   ]
  },
  {
   "cell_type": "code",
   "execution_count": 9,
   "metadata": {
    "collapsed": false
   },
   "outputs": [
    {
     "name": "stderr",
     "output_type": "stream",
     "text": [
      "c:\\python35\\lib\\site-packages\\ipykernel\\__main__.py:6: RuntimeWarning: divide by zero encountered in true_divide\n",
      "c:\\python35\\lib\\site-packages\\ipykernel\\__main__.py:9: RuntimeWarning: invalid value encountered in true_divide\n"
     ]
    }
   ],
   "source": [
    "# IDW KDTREE\n",
    "dist, idx = tree.query(xy, k=8, eps=0, p=1)\n",
    "columns = 'Albedo'\n",
    "tmp = df[[columns]].values.T[:, idx, None]\n",
    "tmp = np.squeeze(tmp)\n",
    "weights = (1/dist)**2\n",
    "q = np.sum(weights, axis=1)\n",
    "q = q[:,None]\n",
    "weightsq =  weights / q\n",
    "wz = np.einsum(\"ij,ij->i\", weightsq, tmp)\n",
    "#newArray[fr:to] = wz\n",
    "\n",
    "# combine arrays and reshape to shape array\n",
    "array_rshp[array_rshp==array_rshp.min()]=np.nan\n",
    "combine = np.nansum(np.dstack((wz, array_rshp)),2)\n",
    "outArray = combine.reshape([array.shape[0],array.shape[1]]).T \n",
    "array = array.T"
   ]
  },
  {
   "cell_type": "code",
   "execution_count": 10,
   "metadata": {
    "collapsed": false
   },
   "outputs": [
    {
     "data": {
      "text/plain": [
       "<matplotlib.colorbar.Colorbar at 0xa75d6a0>"
      ]
     },
     "execution_count": 10,
     "metadata": {},
     "output_type": "execute_result"
    },
    {
     "data": {
      "image/png": "[encoded data removed]",
      "text/plain": [
       "<matplotlib.figure.Figure at 0x4620b38>"
      ]
     },
     "metadata": {},
     "output_type": "display_data"
    }
   ],
   "source": [
    "im = plt.imshow(outArray)\n",
    "plt.colorbar(im)"
   ]
  },
  {
   "cell_type": "code",
   "execution_count": 11,
   "metadata": {
    "collapsed": false
   },
   "outputs": [
    {
     "data": {
      "text/plain": [
       "<matplotlib.colorbar.Colorbar at 0xb135080>"
      ]
     },
     "execution_count": 11,
     "metadata": {},
     "output_type": "execute_result"
    },
    {
     "data": {
      "image/png": "[encoded data removed]",
      "text/plain": [
       "<matplotlib.figure.Figure at 0xa7bde48>"
      ]
     },
     "metadata": {},
     "output_type": "display_data"
    }
   ],
   "source": [
    "im = plt.imshow(np.ma.masked_where(array == -999.,array))\n",
    "plt.colorbar(im)"
   ]
  },
  {
   "cell_type": "code",
   "execution_count": 12,
   "metadata": {
    "collapsed": true
   },
   "outputs": [],
   "source": [
    "# HETZEFLDE MAAR DAN IN ALS BATCH"
   ]
  },
  {
   "cell_type": "code",
   "execution_count": 13,
   "metadata": {
    "collapsed": true
   },
   "outputs": [],
   "source": [
    "inDataDir  = r'D:\\Projects\\Pr\\3492.10\\ALBEDO\\asc'\n",
    "IDWDataDir = r'D:\\Projects\\Pr\\3492.10\\ALBEDO\\tif_IDW'\n",
    "outDataDir = r'D:\\Projects\\Pr\\3492.10\\ALBEDO\\asc_100x100m'"
   ]
  },
  {
   "cell_type": "code",
   "execution_count": 14,
   "metadata": {
    "collapsed": false
   },
   "outputs": [
    {
     "name": "stderr",
     "output_type": "stream",
     "text": [
      "c:\\python35\\lib\\site-packages\\ipykernel\\__main__.py:46: VisibleDeprecationWarning: using a non-integer number instead of an integer will result in an error in the future\n",
      "c:\\python35\\lib\\site-packages\\ipykernel\\__main__.py:48: VisibleDeprecationWarning: using a non-integer number instead of an integer will result in an error in the future\n",
      "c:\\python35\\lib\\site-packages\\ipykernel\\__main__.py:49: RuntimeWarning: divide by zero encountered in true_divide\n",
      "c:\\python35\\lib\\site-packages\\ipykernel\\__main__.py:52: RuntimeWarning: invalid value encountered in true_divide\n"
     ]
    }
   ],
   "source": [
    "for root, dirs, files in os.walk(inDataDir):\n",
    "    for file in files:\n",
    "        if file.endswith('.asc'):\n",
    "            in_file = os.path.join( os.path.abspath(root), file )\n",
    "            base, extension = os.path.splitext(file)\n",
    "            \n",
    "            # read grid as template for IDW application\n",
    "            raster, array, extent = inRaster(in_file)\n",
    "\n",
    "            # Get some metadata from the raster file\n",
    "            band = raster.GetRasterBand(1)\n",
    "            proj = raster.GetProjection()\n",
    "\n",
    "            cols = raster.RasterXSize\n",
    "            rows = raster.RasterYSize\n",
    "\n",
    "            #     # plot as test\n",
    "            #     plt.imshow(array)\n",
    "            #     plt.show()\n",
    "\n",
    "            # create array with all coordinates in array using the extent\n",
    "            x_steps = np.arange(array.shape[1]) * extent[1]\n",
    "            y_steps = np.arange(array.shape[0]) * extent[-1]        \n",
    "            x_coords = extent[0] + x_steps + extent[1]/2\n",
    "            y_coords = extent[3] + y_steps + extent[-1]/2        \n",
    "            xy = cartesian([x_coords, y_coords])\n",
    "            #print ('xy coordinates shape:', xy.shape, '\\nlooks like:\\n',xy[0:5])\n",
    "\n",
    "            # trans and reshape the template array to a 1D ndarray\n",
    "            array = array.T\n",
    "            array_rshp = array.reshape(-1)    \n",
    "\n",
    "            # convert array to pandas dataframe with x/y coordinates\n",
    "            df = pd.DataFrame(xy)\n",
    "            df = pd.concat((df,pd.Series(array_rshp)),axis=1)\n",
    "            df.columns = ['X_RD','Y_RD','Albedo']\n",
    "            df['Albedo'].replace(-999.0,np.NaN, inplace=True)\n",
    "            df = df[pd.notnull(df['Albedo'])]\n",
    "            #df.head(), df.shape            \n",
    "            \n",
    "            # create the three\n",
    "            tree = KDTree(list(zip(df['X_RD'],df['Y_RD'])), leafsize=11)\n",
    "            \n",
    "            # IDW KDTREE\n",
    "            dist, idx = tree.query(xy, k=8, eps=0, p=1)\n",
    "            columns = 'Albedo'\n",
    "            tmp = df[[columns]].values.T[:, idx, None]\n",
    "            tmp = np.squeeze(tmp)\n",
    "            weights = (1/dist)**2\n",
    "            q = np.sum(weights, axis=1)\n",
    "            q = q[:,None]\n",
    "            weightsq =  weights / q\n",
    "            wz = np.einsum(\"ij,ij->i\", weightsq, tmp)\n",
    "            #newArray[fr:to] = wz\n",
    "\n",
    "            # combine arrays and reshape to shape array\n",
    "            array_rshp[array_rshp==array_rshp.min()]=np.nan\n",
    "            combine = np.nansum(np.dstack((wz, array_rshp)),2)\n",
    "            outArray = combine.reshape([array.shape[0],array.shape[1]]).T \n",
    "            array = array.T\n",
    "            \n",
    "            # save the raster\n",
    "            out_file = os.path.join(IDWDataDir,base+'.tif')\n",
    "            saveRaster(out_file, outArray, raster)"
   ]
  },
  {
   "cell_type": "code",
   "execution_count": 15,
   "metadata": {
    "collapsed": true
   },
   "outputs": [],
   "source": [
    "# VERVOLGENS DOE BILINEAR INTERPOLEREN NAAR 100x100 METER"
   ]
  },
  {
   "cell_type": "code",
   "execution_count": 16,
   "metadata": {
    "collapsed": true
   },
   "outputs": [],
   "source": [
    "gdalwarp   = r'C:\\Python35\\Lib\\site-packages\\osgeo//gdalwarp.exe'\n",
    "IDWDataDir =  r'D:\\Projects\\Pr\\3492.10\\ALBEDO\\tif_IDW'\n",
    "outDataDir = r'D:\\Projects\\Pr\\3492.10\\ALBEDO\\tif_IDW_100x100m'"
   ]
  },
  {
   "cell_type": "code",
   "execution_count": 17,
   "metadata": {
    "collapsed": false
   },
   "outputs": [
    {
     "name": "stdout",
     "output_type": "stream",
     "text": [
      "C:\\Python35\\Lib\\site-packages\\osgeo//gdalwarp.exe -overwrite -s_srs EPSG:28992 -t_srs EPSG:28992 -r bilinear -wm 200 -tr 100 100 -te 0.0 275000.0 299000.0 630000.0 -multi D:\\Projects\\Pr\\3492.10\\ALBEDO\\tif_IDW\\ALBEDO-D10_NL_201604050000.tif D:\\Projects\\Pr\\3492.10\\ALBEDO\\tif_IDW_100x100m\\ALBEDO-D10_NL_201604050000.tif\n",
      "C:\\Python35\\Lib\\site-packages\\osgeo//gdalwarp.exe -overwrite -s_srs EPSG:28992 -t_srs EPSG:28992 -r bilinear -wm 200 -tr 100 100 -te 0.0 275000.0 299000.0 630000.0 -multi D:\\Projects\\Pr\\3492.10\\ALBEDO\\tif_IDW\\ALBEDO-D10_NL_201604150000.tif D:\\Projects\\Pr\\3492.10\\ALBEDO\\tif_IDW_100x100m\\ALBEDO-D10_NL_201604150000.tif\n",
      "C:\\Python35\\Lib\\site-packages\\osgeo//gdalwarp.exe -overwrite -s_srs EPSG:28992 -t_srs EPSG:28992 -r bilinear -wm 200 -tr 100 100 -te 0.0 275000.0 299000.0 630000.0 -multi D:\\Projects\\Pr\\3492.10\\ALBEDO\\tif_IDW\\ALBEDO-D10_NL_201605050000.tif D:\\Projects\\Pr\\3492.10\\ALBEDO\\tif_IDW_100x100m\\ALBEDO-D10_NL_201605050000.tif\n",
      "C:\\Python35\\Lib\\site-packages\\osgeo//gdalwarp.exe -overwrite -s_srs EPSG:28992 -t_srs EPSG:28992 -r bilinear -wm 200 -tr 100 100 -te 0.0 275000.0 299000.0 630000.0 -multi D:\\Projects\\Pr\\3492.10\\ALBEDO\\tif_IDW\\ALBEDO-D10_NL_201605150000.tif D:\\Projects\\Pr\\3492.10\\ALBEDO\\tif_IDW_100x100m\\ALBEDO-D10_NL_201605150000.tif\n",
      "C:\\Python35\\Lib\\site-packages\\osgeo//gdalwarp.exe -overwrite -s_srs EPSG:28992 -t_srs EPSG:28992 -r bilinear -wm 200 -tr 100 100 -te 0.0 275000.0 299000.0 630000.0 -multi D:\\Projects\\Pr\\3492.10\\ALBEDO\\tif_IDW\\ALBEDO-D10_NL_201605250000.tif D:\\Projects\\Pr\\3492.10\\ALBEDO\\tif_IDW_100x100m\\ALBEDO-D10_NL_201605250000.tif\n",
      "C:\\Python35\\Lib\\site-packages\\osgeo//gdalwarp.exe -overwrite -s_srs EPSG:28992 -t_srs EPSG:28992 -r bilinear -wm 200 -tr 100 100 -te 0.0 275000.0 299000.0 630000.0 -multi D:\\Projects\\Pr\\3492.10\\ALBEDO\\tif_IDW\\ALBEDO-D10_NL_201606050000.tif D:\\Projects\\Pr\\3492.10\\ALBEDO\\tif_IDW_100x100m\\ALBEDO-D10_NL_201606050000.tif\n",
      "C:\\Python35\\Lib\\site-packages\\osgeo//gdalwarp.exe -overwrite -s_srs EPSG:28992 -t_srs EPSG:28992 -r bilinear -wm 200 -tr 100 100 -te 0.0 275000.0 299000.0 630000.0 -multi D:\\Projects\\Pr\\3492.10\\ALBEDO\\tif_IDW\\ALBEDO-D10_NL_201606150000.tif D:\\Projects\\Pr\\3492.10\\ALBEDO\\tif_IDW_100x100m\\ALBEDO-D10_NL_201606150000.tif\n",
      "C:\\Python35\\Lib\\site-packages\\osgeo//gdalwarp.exe -overwrite -s_srs EPSG:28992 -t_srs EPSG:28992 -r bilinear -wm 200 -tr 100 100 -te 0.0 275000.0 299000.0 630000.0 -multi D:\\Projects\\Pr\\3492.10\\ALBEDO\\tif_IDW\\ALBEDO-D10_NL_201606250000.tif D:\\Projects\\Pr\\3492.10\\ALBEDO\\tif_IDW_100x100m\\ALBEDO-D10_NL_201606250000.tif\n",
      "C:\\Python35\\Lib\\site-packages\\osgeo//gdalwarp.exe -overwrite -s_srs EPSG:28992 -t_srs EPSG:28992 -r bilinear -wm 200 -tr 100 100 -te 0.0 275000.0 299000.0 630000.0 -multi D:\\Projects\\Pr\\3492.10\\ALBEDO\\tif_IDW\\ALBEDO-D10_NL_201607050000.tif D:\\Projects\\Pr\\3492.10\\ALBEDO\\tif_IDW_100x100m\\ALBEDO-D10_NL_201607050000.tif\n",
      "C:\\Python35\\Lib\\site-packages\\osgeo//gdalwarp.exe -overwrite -s_srs EPSG:28992 -t_srs EPSG:28992 -r bilinear -wm 200 -tr 100 100 -te 0.0 275000.0 299000.0 630000.0 -multi D:\\Projects\\Pr\\3492.10\\ALBEDO\\tif_IDW\\ALBEDO-D10_NL_201607150000.tif D:\\Projects\\Pr\\3492.10\\ALBEDO\\tif_IDW_100x100m\\ALBEDO-D10_NL_201607150000.tif\n",
      "C:\\Python35\\Lib\\site-packages\\osgeo//gdalwarp.exe -overwrite -s_srs EPSG:28992 -t_srs EPSG:28992 -r bilinear -wm 200 -tr 100 100 -te 0.0 275000.0 299000.0 630000.0 -multi D:\\Projects\\Pr\\3492.10\\ALBEDO\\tif_IDW\\ALBEDO-D10_NL_201607250000.tif D:\\Projects\\Pr\\3492.10\\ALBEDO\\tif_IDW_100x100m\\ALBEDO-D10_NL_201607250000.tif\n",
      "C:\\Python35\\Lib\\site-packages\\osgeo//gdalwarp.exe -overwrite -s_srs EPSG:28992 -t_srs EPSG:28992 -r bilinear -wm 200 -tr 100 100 -te 0.0 275000.0 299000.0 630000.0 -multi D:\\Projects\\Pr\\3492.10\\ALBEDO\\tif_IDW\\ALBEDO-D10_NL_201608050000.tif D:\\Projects\\Pr\\3492.10\\ALBEDO\\tif_IDW_100x100m\\ALBEDO-D10_NL_201608050000.tif\n",
      "C:\\Python35\\Lib\\site-packages\\osgeo//gdalwarp.exe -overwrite -s_srs EPSG:28992 -t_srs EPSG:28992 -r bilinear -wm 200 -tr 100 100 -te 0.0 275000.0 299000.0 630000.0 -multi D:\\Projects\\Pr\\3492.10\\ALBEDO\\tif_IDW\\ALBEDO-D10_NL_201608150000.tif D:\\Projects\\Pr\\3492.10\\ALBEDO\\tif_IDW_100x100m\\ALBEDO-D10_NL_201608150000.tif\n",
      "C:\\Python35\\Lib\\site-packages\\osgeo//gdalwarp.exe -overwrite -s_srs EPSG:28992 -t_srs EPSG:28992 -r bilinear -wm 200 -tr 100 100 -te 0.0 275000.0 299000.0 630000.0 -multi D:\\Projects\\Pr\\3492.10\\ALBEDO\\tif_IDW\\ALBEDO-D10_NL_201608250000.tif D:\\Projects\\Pr\\3492.10\\ALBEDO\\tif_IDW_100x100m\\ALBEDO-D10_NL_201608250000.tif\n",
      "C:\\Python35\\Lib\\site-packages\\osgeo//gdalwarp.exe -overwrite -s_srs EPSG:28992 -t_srs EPSG:28992 -r bilinear -wm 200 -tr 100 100 -te 0.0 275000.0 299000.0 630000.0 -multi D:\\Projects\\Pr\\3492.10\\ALBEDO\\tif_IDW\\ALBEDO-D10_NL_201609050000.tif D:\\Projects\\Pr\\3492.10\\ALBEDO\\tif_IDW_100x100m\\ALBEDO-D10_NL_201609050000.tif\n",
      "C:\\Python35\\Lib\\site-packages\\osgeo//gdalwarp.exe -overwrite -s_srs EPSG:28992 -t_srs EPSG:28992 -r bilinear -wm 200 -tr 100 100 -te 0.0 275000.0 299000.0 630000.0 -multi D:\\Projects\\Pr\\3492.10\\ALBEDO\\tif_IDW\\ALBEDO-D10_NL_201609150000.tif D:\\Projects\\Pr\\3492.10\\ALBEDO\\tif_IDW_100x100m\\ALBEDO-D10_NL_201609150000.tif\n",
      "C:\\Python35\\Lib\\site-packages\\osgeo//gdalwarp.exe -overwrite -s_srs EPSG:28992 -t_srs EPSG:28992 -r bilinear -wm 200 -tr 100 100 -te 0.0 275000.0 299000.0 630000.0 -multi D:\\Projects\\Pr\\3492.10\\ALBEDO\\tif_IDW\\ALBEDO-D10_NL_201609250000.tif D:\\Projects\\Pr\\3492.10\\ALBEDO\\tif_IDW_100x100m\\ALBEDO-D10_NL_201609250000.tif\n",
      "C:\\Python35\\Lib\\site-packages\\osgeo//gdalwarp.exe -overwrite -s_srs EPSG:28992 -t_srs EPSG:28992 -r bilinear -wm 200 -tr 100 100 -te 0.0 275000.0 299000.0 630000.0 -multi D:\\Projects\\Pr\\3492.10\\ALBEDO\\tif_IDW\\ALBEDO-D10_NL_201610050000.tif D:\\Projects\\Pr\\3492.10\\ALBEDO\\tif_IDW_100x100m\\ALBEDO-D10_NL_201610050000.tif\n",
      "C:\\Python35\\Lib\\site-packages\\osgeo//gdalwarp.exe -overwrite -s_srs EPSG:28992 -t_srs EPSG:28992 -r bilinear -wm 200 -tr 100 100 -te 0.0 275000.0 299000.0 630000.0 -multi D:\\Projects\\Pr\\3492.10\\ALBEDO\\tif_IDW\\ALBEDO-D10_NL_201610150000.tif D:\\Projects\\Pr\\3492.10\\ALBEDO\\tif_IDW_100x100m\\ALBEDO-D10_NL_201610150000.tif\n",
      "C:\\Python35\\Lib\\site-packages\\osgeo//gdalwarp.exe -overwrite -s_srs EPSG:28992 -t_srs EPSG:28992 -r bilinear -wm 200 -tr 100 100 -te 0.0 275000.0 299000.0 630000.0 -multi D:\\Projects\\Pr\\3492.10\\ALBEDO\\tif_IDW\\ALBEDO-D10_NL_201610250000.tif D:\\Projects\\Pr\\3492.10\\ALBEDO\\tif_IDW_100x100m\\ALBEDO-D10_NL_201610250000.tif\n"
     ]
    }
   ],
   "source": [
    "for root, dirs, files in os.walk(IDWDataDir):\n",
    "    for file in files:\n",
    "        if file.endswith('.tif'):\n",
    "            in_file = os.path.join( os.path.abspath(root), file )\n",
    "            base, extension = os.path.splitext(file)\n",
    "            #print (base)\n",
    "            out_file = os.path.join(outDataDir,base+'.tif')\n",
    "            #print (out_file)\n",
    "            # resample raster to 100x100m using bilinear interpolation\n",
    "            command = [gdalwarp, '-overwrite', '-s_srs', 'EPSG:28992', '-t_srs', 'EPSG:28992', '-r', 'bilinear', \n",
    "                       '-wm', '200', '-tr', '100', '100', '-te', '0.0', '275000.0', '299000.0', '630000.0','-multi', \n",
    "                       in_file, out_file]          \n",
    "            print (sp.list2cmdline(command))\n",
    "            norm = sp.Popen(sp.list2cmdline(command),stdout=sp.PIPE, shell=True)\n",
    "            norm.communicate()            "
   ]
  },
  {
   "cell_type": "code",
   "execution_count": null,
   "metadata": {
    "collapsed": true
   },
   "outputs": [],
   "source": []
  }
 ],
 "metadata": {
  "kernelspec": {
   "display_name": "Python 3",
   "language": "python",
   "name": "python3"
  },
  "language_info": {
   "codemirror_mode": {
    "name": "ipython",
    "version": 3
   },
   "file_extension": ".py",
   "mimetype": "text/x-python",
   "name": "python",
   "nbconvert_exporter": "python",
   "pygments_lexer": "ipython3",
   "version": "3.5.2"
  }
 },
 "nbformat": 4,
 "nbformat_minor": 2
}
