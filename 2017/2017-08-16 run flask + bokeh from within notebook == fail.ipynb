{
 "cells": [
  {
   "cell_type": "code",
   "execution_count": 1,
   "metadata": {
    "collapsed": false,
    "deletable": true,
    "editable": true
   },
   "outputs": [
    {
     "name": "stderr",
     "output_type": "stream",
     "text": [
      " * Restarting with stat\n"
     ]
    },
    {
     "ename": "SystemExit",
     "evalue": "1",
     "output_type": "error",
     "traceback": [
      "An exception has occurred, use %tb to see the full traceback.\n",
      "\u001b[1;31mSystemExit\u001b[0m\u001b[1;31m:\u001b[0m 1\n"
     ]
    },
    {
     "name": "stderr",
     "output_type": "stream",
     "text": [
      "c:\\python35\\lib\\site-packages\\IPython\\core\\interactiveshell.py:2889: UserWarning: To exit: use 'exit', 'quit', or Ctrl-D.\n",
      "  warn(\"To exit: use 'exit', 'quit', or Ctrl-D.\", stacklevel=1)\n"
     ]
    }
   ],
   "source": [
    "from flask import Flask, render_template, request\n",
    "import pandas as pd\n",
    "from bokeh.charts import Histogram\n",
    "from bokeh.embed import components\n",
    "import time\n",
    "\n",
    "app = Flask(__name__)\n",
    "\n",
    "# Load the Iris Data Set\n",
    "iris_df = pd.read_csv(\"data/iris.data\", \n",
    "    names=[\"Sepal Length\", \"Sepal Width\", \"Petal Length\", \"Petal Width\", \"Species\"])\n",
    "feature_names = iris_df.columns[0:-1].values.tolist()\n",
    "\n",
    "# Create the main plot\n",
    "def create_figure(current_feature_name, bins):\n",
    "    p = Histogram(iris_df, current_feature_name, title=current_feature_name, color='Species', \n",
    "         bins=bins, legend='top_right', width=600, height=400)\n",
    "\n",
    "    # Set the x axis label\n",
    "    p.xaxis.axis_label = current_feature_name\n",
    "\n",
    "    # Set the y axis label\n",
    "    p.yaxis.axis_label = 'Count'\n",
    "    return p\n",
    "\n",
    "# Index page\n",
    "@app.route('/')\n",
    "def index():\n",
    "    # Determine the selected feature\n",
    "    current_feature_name = request.args.get(\"feature_name\")\n",
    "    if current_feature_name == None:\n",
    "        current_feature_name = \"Sepal Length\"\n",
    "\n",
    "    # Determine the number of bins\n",
    "    bins = request.args.get(\"bins\")\n",
    "    if bins == \"\" or bins == None:\n",
    "        bins = 10\n",
    "    else:\n",
    "        bins = int(bins)\n",
    "\n",
    "    # Create the plot, and time it\n",
    "    t0 = time.time()\n",
    "    plot = create_figure(current_feature_name, bins)\n",
    "    t1 = time.time()\n",
    "    time_to_plot = t1-t0\n",
    "    time_to_plot = \"%.4f seconds\" % time_to_plot    \n",
    "        \n",
    "    # Embed plot into HTML via Flask Render\n",
    "    script, div = components(plot)\n",
    "    return render_template(\"iris_index2.html\", script=script, div=div,\n",
    "        bins = bins, time_to_plot = time_to_plot, feature_names=feature_names, \n",
    "        current_feature_name=current_feature_name)\n",
    "\n",
    "# With debug=True, Flask server will auto-reload \n",
    "# when there are code changes\n",
    "if __name__ == '__main__':\n",
    "    app.run(port=5000, debug=True)"
   ]
  },
  {
   "cell_type": "code",
   "execution_count": 1,
   "metadata": {
    "collapsed": false,
    "deletable": true,
    "editable": true
   },
   "outputs": [],
   "source": [
    "import os"
   ]
  },
  {
   "cell_type": "code",
   "execution_count": 2,
   "metadata": {
    "collapsed": false,
    "deletable": true,
    "editable": true
   },
   "outputs": [
    {
     "data": {
      "text/plain": [
       "'D:\\\\jupyter notebooks\\\\3594.10 HB-havens\\\\bokeh_flask'"
      ]
     },
     "execution_count": 2,
     "metadata": {},
     "output_type": "execute_result"
    }
   ],
   "source": [
    "os.getcwd()"
   ]
  },
  {
   "cell_type": "code",
   "execution_count": 12,
   "metadata": {
    "collapsed": false
   },
   "outputs": [
    {
     "name": "stdout",
     "output_type": "stream",
     "text": [
      "D:\\Projects\\Pr\\3594.10\\Werkzaamheden\\pywebview-master\\pywebview-master\\examples\\flask_app\\gui\n"
     ]
    }
   ],
   "source": [
    "from pathlib import Path\n",
    "import os\n",
    "\n",
    "p = Path(__file__).parents[1]\n",
    "gui_dir = os.path.join(str(p), \"gui\")\n",
    "print(gui_dir)"
   ]
  },
  {
   "cell_type": "code",
   "execution_count": 8,
   "metadata": {
    "collapsed": true
   },
   "outputs": [],
   "source": [
    "__file__ = r'D:\\Projects\\Pr\\3594.10\\Werkzaamheden\\pywebview-master\\pywebview-master\\examples\\flask_app\\src\\backend'"
   ]
  },
  {
   "cell_type": "code",
   "execution_count": null,
   "metadata": {
    "collapsed": true
   },
   "outputs": [],
   "source": [
    "Path.joinpath()"
   ]
  }
 ],
 "metadata": {
  "kernelspec": {
   "display_name": "Python 3",
   "language": "python",
   "name": "python3"
  },
  "language_info": {
   "codemirror_mode": {
    "name": "ipython",
    "version": 3
   },
   "file_extension": ".py",
   "mimetype": "text/x-python",
   "name": "python",
   "nbconvert_exporter": "python",
   "pygments_lexer": "ipython3",
   "version": "3.5.2"
  }
 },
 "nbformat": 4,
 "nbformat_minor": 2
}
