{
 "cells": [
  {
   "cell_type": "code",
   "execution_count": 7,
   "metadata": {},
   "outputs": [],
   "source": [
    "import hkvwaporpy as hkv"
   ]
  },
  {
   "cell_type": "markdown",
   "metadata": {},
   "source": [
    "#### METADATA REQUEST FOR AVAILABLE PRODUCTS"
   ]
  },
  {
   "cell_type": "code",
   "execution_count": 8,
   "metadata": {},
   "outputs": [
    {
     "data": {
      "text/html": [
       "<div>\n",
       "<style scoped>\n",
       "    .dataframe tbody tr th:only-of-type {\n",
       "        vertical-align: middle;\n",
       "    }\n",
       "\n",
       "    .dataframe tbody tr th {\n",
       "        vertical-align: top;\n",
       "    }\n",
       "\n",
       "    .dataframe thead th {\n",
       "        text-align: right;\n",
       "    }\n",
       "</style>\n",
       "<table border=\"1\" class=\"dataframe\">\n",
       "  <thead>\n",
       "    <tr style=\"text-align: right;\">\n",
       "      <th></th>\n",
       "      <th>additionalInfo</th>\n",
       "      <th>caption</th>\n",
       "      <th>code</th>\n",
       "      <th>dataType</th>\n",
       "      <th>description</th>\n",
       "      <th>index</th>\n",
       "      <th>links</th>\n",
       "      <th>operation</th>\n",
       "      <th>workspaceCode</th>\n",
       "    </tr>\n",
       "  </thead>\n",
       "  <tbody>\n",
       "    <tr>\n",
       "      <th>0</th>\n",
       "      <td>{'temporalExtent': 'from 2010 to date', 'tempo...</td>\n",
       "      <td>Gross Biomass Water Productivity</td>\n",
       "      <td>L1_GBWP</td>\n",
       "      <td>RASTER</td>\n",
       "      <td>The annual Gross Biomass Water Productivity ex...</td>\n",
       "      <td>1</td>\n",
       "      <td>[{'rel': 'self', 'href': 'https://api.fao.org/...</td>\n",
       "      <td>{'AreaStats': True, 'PixelTimeSeries': True}</td>\n",
       "      <td>WAPOR</td>\n",
       "    </tr>\n",
       "    <tr>\n",
       "      <th>1</th>\n",
       "      <td>{'temporalExtent': 'from 2010 to date', 'tempo...</td>\n",
       "      <td>Net Biomass Water Productivity</td>\n",
       "      <td>L1_NBWP</td>\n",
       "      <td>RASTER</td>\n",
       "      <td>The annual Net Biomass Water Productivity expr...</td>\n",
       "      <td>2</td>\n",
       "      <td>[{'rel': 'self', 'href': 'https://api.fao.org/...</td>\n",
       "      <td>{'AreaStats': True, 'PixelTimeSeries': True}</td>\n",
       "      <td>WAPOR</td>\n",
       "    </tr>\n",
       "    <tr>\n",
       "      <th>2</th>\n",
       "      <td>{'temporalResolution': 'from 2010 to date', 's...</td>\n",
       "      <td>Actual EvapoTranspiration (Annual)</td>\n",
       "      <td>L1_AET_A</td>\n",
       "      <td>RASTER</td>\n",
       "      <td>The EvapoTranspiration (ET) is the sum of the ...</td>\n",
       "      <td>3</td>\n",
       "      <td>[{'rel': 'self', 'href': 'https://api.fao.org/...</td>\n",
       "      <td>{'AreaStats': True, 'PixelTimeSeries': True}</td>\n",
       "      <td>WAPOR</td>\n",
       "    </tr>\n",
       "    <tr>\n",
       "      <th>3</th>\n",
       "      <td>{'temporalResolution': 'annual', 'spatialResol...</td>\n",
       "      <td>Above Ground Biomass Production (Annual)</td>\n",
       "      <td>L1_AGBP_A</td>\n",
       "      <td>RASTER</td>\n",
       "      <td>The annual Above Ground Biomass Production exp...</td>\n",
       "      <td>5</td>\n",
       "      <td>[{'rel': 'self', 'href': 'https://api.fao.org/...</td>\n",
       "      <td>{'AreaStats': True, 'PixelTimeSeries': True}</td>\n",
       "      <td>WAPOR</td>\n",
       "    </tr>\n",
       "    <tr>\n",
       "      <th>4</th>\n",
       "      <td>{'temporalExtent': 'from 2010 to date', 'tempo...</td>\n",
       "      <td>Transpiration (Annual)</td>\n",
       "      <td>L1_T_A</td>\n",
       "      <td>RASTER</td>\n",
       "      <td>The annual Transpiration is the portion of ann...</td>\n",
       "      <td>6</td>\n",
       "      <td>[{'rel': 'self', 'href': 'https://api.fao.org/...</td>\n",
       "      <td>{'AreaStats': True, 'PixelTimeSeries': True}</td>\n",
       "      <td>WAPOR</td>\n",
       "    </tr>\n",
       "  </tbody>\n",
       "</table>\n",
       "</div>"
      ],
      "text/plain": [
       "                                      additionalInfo  \\\n",
       "0  {'temporalExtent': 'from 2010 to date', 'tempo...   \n",
       "1  {'temporalExtent': 'from 2010 to date', 'tempo...   \n",
       "2  {'temporalResolution': 'from 2010 to date', 's...   \n",
       "3  {'temporalResolution': 'annual', 'spatialResol...   \n",
       "4  {'temporalExtent': 'from 2010 to date', 'tempo...   \n",
       "\n",
       "                                    caption       code dataType  \\\n",
       "0          Gross Biomass Water Productivity    L1_GBWP   RASTER   \n",
       "1            Net Biomass Water Productivity    L1_NBWP   RASTER   \n",
       "2        Actual EvapoTranspiration (Annual)   L1_AET_A   RASTER   \n",
       "3  Above Ground Biomass Production (Annual)  L1_AGBP_A   RASTER   \n",
       "4                    Transpiration (Annual)     L1_T_A   RASTER   \n",
       "\n",
       "                                         description  index  \\\n",
       "0  The annual Gross Biomass Water Productivity ex...      1   \n",
       "1  The annual Net Biomass Water Productivity expr...      2   \n",
       "2  The EvapoTranspiration (ET) is the sum of the ...      3   \n",
       "3  The annual Above Ground Biomass Production exp...      5   \n",
       "4  The annual Transpiration is the portion of ann...      6   \n",
       "\n",
       "                                               links  \\\n",
       "0  [{'rel': 'self', 'href': 'https://api.fao.org/...   \n",
       "1  [{'rel': 'self', 'href': 'https://api.fao.org/...   \n",
       "2  [{'rel': 'self', 'href': 'https://api.fao.org/...   \n",
       "3  [{'rel': 'self', 'href': 'https://api.fao.org/...   \n",
       "4  [{'rel': 'self', 'href': 'https://api.fao.org/...   \n",
       "\n",
       "                                      operation workspaceCode  \n",
       "0  {'AreaStats': True, 'PixelTimeSeries': True}         WAPOR  \n",
       "1  {'AreaStats': True, 'PixelTimeSeries': True}         WAPOR  \n",
       "2  {'AreaStats': True, 'PixelTimeSeries': True}         WAPOR  \n",
       "3  {'AreaStats': True, 'PixelTimeSeries': True}         WAPOR  \n",
       "4  {'AreaStats': True, 'PixelTimeSeries': True}         WAPOR  "
      ]
     },
     "execution_count": 8,
     "metadata": {},
     "output_type": "execute_result"
    }
   ],
   "source": [
    "# request the catalogus\n",
    "df = hkv.read_wapor.get_catalogus()\n",
    "df.head()"
   ]
  },
  {
   "cell_type": "code",
   "execution_count": 9,
   "metadata": {},
   "outputs": [
    {
     "data": {
      "text/html": [
       "<div>\n",
       "<style scoped>\n",
       "    .dataframe tbody tr th:only-of-type {\n",
       "        vertical-align: middle;\n",
       "    }\n",
       "\n",
       "    .dataframe tbody tr th {\n",
       "        vertical-align: top;\n",
       "    }\n",
       "\n",
       "    .dataframe thead th {\n",
       "        text-align: right;\n",
       "    }\n",
       "</style>\n",
       "<table border=\"1\" class=\"dataframe\">\n",
       "  <thead>\n",
       "    <tr style=\"text-align: right;\">\n",
       "      <th></th>\n",
       "      <th>caption</th>\n",
       "      <th>code</th>\n",
       "    </tr>\n",
       "  </thead>\n",
       "  <tbody>\n",
       "    <tr>\n",
       "      <th>0</th>\n",
       "      <td>Gross Biomass Water Productivity</td>\n",
       "      <td>L1_GBWP</td>\n",
       "    </tr>\n",
       "    <tr>\n",
       "      <th>1</th>\n",
       "      <td>Net Biomass Water Productivity</td>\n",
       "      <td>L1_NBWP</td>\n",
       "    </tr>\n",
       "    <tr>\n",
       "      <th>2</th>\n",
       "      <td>Actual EvapoTranspiration (Annual)</td>\n",
       "      <td>L1_AET_A</td>\n",
       "    </tr>\n",
       "    <tr>\n",
       "      <th>3</th>\n",
       "      <td>Above Ground Biomass Production (Annual)</td>\n",
       "      <td>L1_AGBP_A</td>\n",
       "    </tr>\n",
       "    <tr>\n",
       "      <th>4</th>\n",
       "      <td>Transpiration (Annual)</td>\n",
       "      <td>L1_T_A</td>\n",
       "    </tr>\n",
       "    <tr>\n",
       "      <th>5</th>\n",
       "      <td>Actual EvapoTranspiration (Dekadal)</td>\n",
       "      <td>L1_AET_D</td>\n",
       "    </tr>\n",
       "    <tr>\n",
       "      <th>6</th>\n",
       "      <td>Transpiration Fraction</td>\n",
       "      <td>L1_TFRAC</td>\n",
       "    </tr>\n",
       "    <tr>\n",
       "      <th>7</th>\n",
       "      <td>Reference EvapoTranspiration</td>\n",
       "      <td>L1_RET</td>\n",
       "    </tr>\n",
       "    <tr>\n",
       "      <th>8</th>\n",
       "      <td>Net Primary Production</td>\n",
       "      <td>L1_NPP</td>\n",
       "    </tr>\n",
       "    <tr>\n",
       "      <th>9</th>\n",
       "      <td>Precipitation</td>\n",
       "      <td>L1_PCP</td>\n",
       "    </tr>\n",
       "    <tr>\n",
       "      <th>10</th>\n",
       "      <td>Actual EvapoTranspiration (Dekadal)</td>\n",
       "      <td>L2_AET_D</td>\n",
       "    </tr>\n",
       "    <tr>\n",
       "      <th>11</th>\n",
       "      <td>Transpiration Fraction</td>\n",
       "      <td>L2_TFRAC</td>\n",
       "    </tr>\n",
       "    <tr>\n",
       "      <th>12</th>\n",
       "      <td>Above Ground Biomass Production (Seasonal)</td>\n",
       "      <td>L2_AGBP_S</td>\n",
       "    </tr>\n",
       "    <tr>\n",
       "      <th>13</th>\n",
       "      <td>Phenology</td>\n",
       "      <td>L2_PHE</td>\n",
       "    </tr>\n",
       "    <tr>\n",
       "      <th>14</th>\n",
       "      <td>Net Primary Production</td>\n",
       "      <td>L2_NPP</td>\n",
       "    </tr>\n",
       "    <tr>\n",
       "      <th>15</th>\n",
       "      <td>NDVI Quality Layer</td>\n",
       "      <td>L2_QUAL_NDVI</td>\n",
       "    </tr>\n",
       "  </tbody>\n",
       "</table>\n",
       "</div>"
      ],
      "text/plain": [
       "                                       caption          code\n",
       "0             Gross Biomass Water Productivity       L1_GBWP\n",
       "1               Net Biomass Water Productivity       L1_NBWP\n",
       "2           Actual EvapoTranspiration (Annual)      L1_AET_A\n",
       "3     Above Ground Biomass Production (Annual)     L1_AGBP_A\n",
       "4                       Transpiration (Annual)        L1_T_A\n",
       "5          Actual EvapoTranspiration (Dekadal)      L1_AET_D\n",
       "6                       Transpiration Fraction      L1_TFRAC\n",
       "7                 Reference EvapoTranspiration        L1_RET\n",
       "8                       Net Primary Production        L1_NPP\n",
       "9                                Precipitation        L1_PCP\n",
       "10         Actual EvapoTranspiration (Dekadal)      L2_AET_D\n",
       "11                      Transpiration Fraction      L2_TFRAC\n",
       "12  Above Ground Biomass Production (Seasonal)     L2_AGBP_S\n",
       "13                                   Phenology        L2_PHE\n",
       "14                      Net Primary Production        L2_NPP\n",
       "15                          NDVI Quality Layer  L2_QUAL_NDVI"
      ]
     },
     "execution_count": 9,
     "metadata": {},
     "output_type": "execute_result"
    }
   ],
   "source": [
    "# show all codes\n",
    "df[['caption','code']]"
   ]
  },
  {
   "cell_type": "code",
   "execution_count": 10,
   "metadata": {},
   "outputs": [],
   "source": [
    "ds_code='L2_AET_D'"
   ]
  },
  {
   "cell_type": "code",
   "execution_count": 1,
   "metadata": {},
   "outputs": [
    {
     "ename": "NameError",
     "evalue": "name 'hkv' is not defined",
     "output_type": "error",
     "traceback": [
      "\u001b[1;31m---------------------------------------------------------------------------\u001b[0m",
      "\u001b[1;31mNameError\u001b[0m                                 Traceback (most recent call last)",
      "\u001b[1;32m<ipython-input-1-fa7cb9a7cb7b>\u001b[0m in \u001b[0;36m<module>\u001b[1;34m()\u001b[0m\n\u001b[0;32m      1\u001b[0m \u001b[1;31m# get additional info of the dataset given a code and catalogus\u001b[0m\u001b[1;33m\u001b[0m\u001b[1;33m\u001b[0m\u001b[0m\n\u001b[1;32m----> 2\u001b[1;33m \u001b[0mdf_add\u001b[0m \u001b[1;33m=\u001b[0m \u001b[0mhkv\u001b[0m\u001b[1;33m.\u001b[0m\u001b[0mread_wapor\u001b[0m\u001b[1;33m.\u001b[0m\u001b[0mget_additional_info\u001b[0m\u001b[1;33m(\u001b[0m\u001b[0mdf\u001b[0m\u001b[1;33m,\u001b[0m \u001b[0mcube_code\u001b[0m\u001b[1;33m=\u001b[0m\u001b[0mds_code\u001b[0m\u001b[1;33m)\u001b[0m\u001b[1;33m\u001b[0m\u001b[0m\n\u001b[0m\u001b[0;32m      3\u001b[0m \u001b[0mdf_add\u001b[0m\u001b[1;33m\u001b[0m\u001b[0m\n",
      "\u001b[1;31mNameError\u001b[0m: name 'hkv' is not defined"
     ]
    }
   ],
   "source": [
    "# get additional info of the dataset given a code and catalogus\n",
    "df_add = hkv.read_wapor.get_additional_info(df, cube_code=ds_code)\n",
    "df_add"
   ]
  },
  {
   "cell_type": "code",
   "execution_count": null,
   "metadata": {},
   "outputs": [],
   "source": []
  },
  {
   "cell_type": "code",
   "execution_count": 12,
   "metadata": {},
   "outputs": [
    {
     "data": {
      "text/html": [
       "<div>\n",
       "<style scoped>\n",
       "    .dataframe tbody tr th:only-of-type {\n",
       "        vertical-align: middle;\n",
       "    }\n",
       "\n",
       "    .dataframe tbody tr th {\n",
       "        vertical-align: top;\n",
       "    }\n",
       "\n",
       "    .dataframe thead th {\n",
       "        text-align: right;\n",
       "    }\n",
       "</style>\n",
       "<table border=\"1\" class=\"dataframe\">\n",
       "  <thead>\n",
       "    <tr style=\"text-align: right;\">\n",
       "      <th></th>\n",
       "      <th>10</th>\n",
       "    </tr>\n",
       "  </thead>\n",
       "  <tbody>\n",
       "    <tr>\n",
       "      <th>additionalInfo</th>\n",
       "      <td>{'temporalExtent': 'from April 2009 to date', ...</td>\n",
       "    </tr>\n",
       "    <tr>\n",
       "      <th>caption</th>\n",
       "      <td>Actual EvapoTranspiration (Dekadal)</td>\n",
       "    </tr>\n",
       "    <tr>\n",
       "      <th>code</th>\n",
       "      <td>L2_AET_D</td>\n",
       "    </tr>\n",
       "    <tr>\n",
       "      <th>dataType</th>\n",
       "      <td>RASTER</td>\n",
       "    </tr>\n",
       "    <tr>\n",
       "      <th>description</th>\n",
       "      <td>The Evapotranspiration (ET) is the sum of the ...</td>\n",
       "    </tr>\n",
       "    <tr>\n",
       "      <th>index</th>\n",
       "      <td>25</td>\n",
       "    </tr>\n",
       "    <tr>\n",
       "      <th>links</th>\n",
       "      <td>[{'rel': 'self', 'href': 'https://api.fao.org/...</td>\n",
       "    </tr>\n",
       "    <tr>\n",
       "      <th>operation</th>\n",
       "      <td>{'AreaStats': False, 'PixelTimeSeries': True}</td>\n",
       "    </tr>\n",
       "    <tr>\n",
       "      <th>workspaceCode</th>\n",
       "      <td>WAPOR</td>\n",
       "    </tr>\n",
       "  </tbody>\n",
       "</table>\n",
       "</div>"
      ],
      "text/plain": [
       "                                                               10\n",
       "additionalInfo  {'temporalExtent': 'from April 2009 to date', ...\n",
       "caption                       Actual EvapoTranspiration (Dekadal)\n",
       "code                                                     L2_AET_D\n",
       "dataType                                                   RASTER\n",
       "description     The Evapotranspiration (ET) is the sum of the ...\n",
       "index                                                          25\n",
       "links           [{'rel': 'self', 'href': 'https://api.fao.org/...\n",
       "operation           {'AreaStats': False, 'PixelTimeSeries': True}\n",
       "workspaceCode                                               WAPOR"
      ]
     },
     "execution_count": 12,
     "metadata": {},
     "output_type": "execute_result"
    }
   ],
   "source": [
    "# select single row of catalogus given a code\n",
    "df_row = df.loc[df['code'] == ds_code]\n",
    "df_row.T"
   ]
  },
  {
   "cell_type": "code",
   "execution_count": 13,
   "metadata": {},
   "outputs": [
    {
     "data": {
      "text/html": [
       "<div>\n",
       "<style scoped>\n",
       "    .dataframe tbody tr th:only-of-type {\n",
       "        vertical-align: middle;\n",
       "    }\n",
       "\n",
       "    .dataframe tbody tr th {\n",
       "        vertical-align: top;\n",
       "    }\n",
       "\n",
       "    .dataframe thead th {\n",
       "        text-align: right;\n",
       "    }\n",
       "</style>\n",
       "<table border=\"1\" class=\"dataframe\">\n",
       "  <thead>\n",
       "    <tr style=\"text-align: right;\">\n",
       "      <th></th>\n",
       "      <th>start_dekad</th>\n",
       "      <th>end_dekad</th>\n",
       "      <th>raster_id</th>\n",
       "    </tr>\n",
       "    <tr>\n",
       "      <th>year</th>\n",
       "      <th></th>\n",
       "      <th></th>\n",
       "      <th></th>\n",
       "    </tr>\n",
       "  </thead>\n",
       "  <tbody>\n",
       "    <tr>\n",
       "      <th>2009</th>\n",
       "      <td>0101</td>\n",
       "      <td>0110</td>\n",
       "      <td>L2_AET_0901</td>\n",
       "    </tr>\n",
       "    <tr>\n",
       "      <th>2009</th>\n",
       "      <td>0111</td>\n",
       "      <td>0120</td>\n",
       "      <td>L2_AET_0902</td>\n",
       "    </tr>\n",
       "    <tr>\n",
       "      <th>2009</th>\n",
       "      <td>0121</td>\n",
       "      <td>0131</td>\n",
       "      <td>L2_AET_0903</td>\n",
       "    </tr>\n",
       "    <tr>\n",
       "      <th>2009</th>\n",
       "      <td>0201</td>\n",
       "      <td>0210</td>\n",
       "      <td>L2_AET_0904</td>\n",
       "    </tr>\n",
       "    <tr>\n",
       "      <th>2009</th>\n",
       "      <td>0211</td>\n",
       "      <td>0220</td>\n",
       "      <td>L2_AET_0905</td>\n",
       "    </tr>\n",
       "  </tbody>\n",
       "</table>\n",
       "</div>"
      ],
      "text/plain": [
       "     start_dekad end_dekad    raster_id\n",
       "year                                   \n",
       "2009        0101      0110  L2_AET_0901\n",
       "2009        0111      0120  L2_AET_0902\n",
       "2009        0121      0131  L2_AET_0903\n",
       "2009        0201      0210  L2_AET_0904\n",
       "2009        0211      0220  L2_AET_0905"
      ]
     },
     "execution_count": 13,
     "metadata": {},
     "output_type": "execute_result"
    }
   ],
   "source": [
    "# get data availablitiy and corresponding raster id's given date range\n",
    "df_avail = hkv.read_wapor.get_data_availability(df_row, dimensions_range='[2001-11-01,2017-11-01]')\n",
    "df_avail.head()"
   ]
  },
  {
   "cell_type": "code",
   "execution_count": 14,
   "metadata": {},
   "outputs": [
    {
     "data": {
      "text/html": [
       "<div>\n",
       "<style scoped>\n",
       "    .dataframe tbody tr th:only-of-type {\n",
       "        vertical-align: middle;\n",
       "    }\n",
       "\n",
       "    .dataframe tbody tr th {\n",
       "        vertical-align: top;\n",
       "    }\n",
       "\n",
       "    .dataframe thead th {\n",
       "        text-align: right;\n",
       "    }\n",
       "</style>\n",
       "<table border=\"1\" class=\"dataframe\">\n",
       "  <thead>\n",
       "    <tr style=\"text-align: right;\">\n",
       "      <th></th>\n",
       "      <th>name</th>\n",
       "      <th>code</th>\n",
       "      <th>type</th>\n",
       "      <th>bbox</th>\n",
       "    </tr>\n",
       "  </thead>\n",
       "  <tbody>\n",
       "    <tr>\n",
       "      <th>0</th>\n",
       "      <td>Awash</td>\n",
       "      <td>7010</td>\n",
       "      <td>BASIN</td>\n",
       "      <td>[37.9583333333327, 7.89583333333234, 43.320833...</td>\n",
       "    </tr>\n",
       "    <tr>\n",
       "      <th>1</th>\n",
       "      <td>Jordan</td>\n",
       "      <td>6006</td>\n",
       "      <td>BASIN</td>\n",
       "      <td>[34.4249999999993, 29.4624999999998, 36.799999...</td>\n",
       "    </tr>\n",
       "    <tr>\n",
       "      <th>2</th>\n",
       "      <td>Litani</td>\n",
       "      <td>6002</td>\n",
       "      <td>BASIN</td>\n",
       "      <td>[35.2291666666659, 33.0999999999998, 36.399999...</td>\n",
       "    </tr>\n",
       "    <tr>\n",
       "      <th>3</th>\n",
       "      <td>Niger</td>\n",
       "      <td>7002</td>\n",
       "      <td>BASIN</td>\n",
       "      <td>[-11.5874999999999, 4.27083333333253, 15.85833...</td>\n",
       "    </tr>\n",
       "    <tr>\n",
       "      <th>4</th>\n",
       "      <td>Nile</td>\n",
       "      <td>7003</td>\n",
       "      <td>BASIN</td>\n",
       "      <td>[23.4458333333329, -4.0291666666674, 39.808333...</td>\n",
       "    </tr>\n",
       "  </tbody>\n",
       "</table>\n",
       "</div>"
      ],
      "text/plain": [
       "     name  code   type                                               bbox\n",
       "0   Awash  7010  BASIN  [37.9583333333327, 7.89583333333234, 43.320833...\n",
       "1  Jordan  6006  BASIN  [34.4249999999993, 29.4624999999998, 36.799999...\n",
       "2  Litani  6002  BASIN  [35.2291666666659, 33.0999999999998, 36.399999...\n",
       "3   Niger  7002  BASIN  [-11.5874999999999, 4.27083333333253, 15.85833...\n",
       "4    Nile  7003  BASIN  [23.4458333333329, -4.0291666666674, 39.808333..."
      ]
     },
     "execution_count": 14,
     "metadata": {},
     "output_type": "execute_result"
    }
   ],
   "source": [
    "df_locations = hkv.read_wapor.get_locations(filter_value=None)\n",
    "df_locations.head()"
   ]
  },
  {
   "cell_type": "code",
   "execution_count": 15,
   "metadata": {},
   "outputs": [],
   "source": [
    "location = 'Awash'"
   ]
  },
  {
   "cell_type": "code",
   "execution_count": 16,
   "metadata": {},
   "outputs": [
    {
     "name": "stdout",
     "output_type": "stream",
     "text": [
      "L2_AET_0901\n"
     ]
    }
   ],
   "source": [
    "year = df_avail.iloc[0].name\n",
    "raster_id = df_avail.iloc[0]['raster_id']\n",
    "location_code = df_locations.loc[df_locations['name'] == location]['code'][0]\n",
    "print(raster_id)"
   ]
  },
  {
   "cell_type": "code",
   "execution_count": 51,
   "metadata": {},
   "outputs": [
    {
     "data": {
      "text/plain": [
       "'7010'"
      ]
     },
     "execution_count": 51,
     "metadata": {},
     "output_type": "execute_result"
    }
   ],
   "source": [
    "location_code"
   ]
  },
  {
   "cell_type": "code",
   "execution_count": 38,
   "metadata": {},
   "outputs": [
    {
     "name": "stdout",
     "output_type": "stream",
     "text": [
      "http://www.fao.org/wapor-download/WAPOR/coverages/mosaic/CLIPPED/L2_AET_D/2009/0901/L2_AET_0901_7010.tif\n"
     ]
    }
   ],
   "source": [
    "url = hkv.read_wapor.get_coverage_url(ds_code, year, raster_id, location_code)\n",
    "print(url)"
   ]
  },
  {
   "cell_type": "code",
   "execution_count": 39,
   "metadata": {},
   "outputs": [],
   "source": [
    "import datetime"
   ]
  },
  {
   "cell_type": "code",
   "execution_count": 43,
   "metadata": {},
   "outputs": [
    {
     "data": {
      "text/html": [
       "<div>\n",
       "<style scoped>\n",
       "    .dataframe tbody tr th:only-of-type {\n",
       "        vertical-align: middle;\n",
       "    }\n",
       "\n",
       "    .dataframe tbody tr th {\n",
       "        vertical-align: top;\n",
       "    }\n",
       "\n",
       "    .dataframe thead th {\n",
       "        text-align: right;\n",
       "    }\n",
       "</style>\n",
       "<table border=\"1\" class=\"dataframe\">\n",
       "  <thead>\n",
       "    <tr style=\"text-align: right;\">\n",
       "      <th></th>\n",
       "      <th>start_dekad</th>\n",
       "      <th>end_dekad</th>\n",
       "      <th>raster_id</th>\n",
       "    </tr>\n",
       "    <tr>\n",
       "      <th>year</th>\n",
       "      <th></th>\n",
       "      <th></th>\n",
       "      <th></th>\n",
       "    </tr>\n",
       "  </thead>\n",
       "  <tbody>\n",
       "    <tr>\n",
       "      <th>2016</th>\n",
       "      <td>0101</td>\n",
       "      <td>0110</td>\n",
       "      <td>L2_AET_1601</td>\n",
       "    </tr>\n",
       "    <tr>\n",
       "      <th>2016</th>\n",
       "      <td>0111</td>\n",
       "      <td>0120</td>\n",
       "      <td>L2_AET_1602</td>\n",
       "    </tr>\n",
       "    <tr>\n",
       "      <th>2016</th>\n",
       "      <td>0121</td>\n",
       "      <td>0131</td>\n",
       "      <td>L2_AET_1603</td>\n",
       "    </tr>\n",
       "    <tr>\n",
       "      <th>2016</th>\n",
       "      <td>0201</td>\n",
       "      <td>0210</td>\n",
       "      <td>L2_AET_1604</td>\n",
       "    </tr>\n",
       "    <tr>\n",
       "      <th>2016</th>\n",
       "      <td>0211</td>\n",
       "      <td>0220</td>\n",
       "      <td>L2_AET_1605</td>\n",
       "    </tr>\n",
       "  </tbody>\n",
       "</table>\n",
       "</div>"
      ],
      "text/plain": [
       "     start_dekad end_dekad    raster_id\n",
       "year                                   \n",
       "2016        0101      0110  L2_AET_1601\n",
       "2016        0111      0120  L2_AET_1602\n",
       "2016        0121      0131  L2_AET_1603\n",
       "2016        0201      0210  L2_AET_1604\n",
       "2016        0211      0220  L2_AET_1605"
      ]
     },
     "execution_count": 43,
     "metadata": {},
     "output_type": "execute_result"
    }
   ],
   "source": [
    "# get data availablitiy and corresponding raster id's given date range\n",
    "df_avail = hkv.read_wapor.get_data_availability(df_row, dimensions_range='[2016-01-01,2017-11-01]')\n",
    "df_avail.head()"
   ]
  },
  {
   "cell_type": "code",
   "execution_count": 50,
   "metadata": {},
   "outputs": [
    {
     "data": {
      "text/plain": [
       "'L2_AET_1636'"
      ]
     },
     "execution_count": 50,
     "metadata": {},
     "output_type": "execute_result"
    }
   ],
   "source": [
    "row['raster_id']"
   ]
  },
  {
   "cell_type": "code",
   "execution_count": 55,
   "metadata": {},
   "outputs": [
    {
     "name": "stdout",
     "output_type": "stream",
     "text": [
      "http://www.fao.org/wapor-download/WAPOR/coverages/mosaic/CLIPPED/L2_AET_D/2016/1601/L2_AET_1601_7010.tif\n",
      "http://www.fao.org/wapor-download/WAPOR/coverages/mosaic/CLIPPED/L2_AET_D/2016/1602/L2_AET_1602_7010.tif\n",
      "http://www.fao.org/wapor-download/WAPOR/coverages/mosaic/CLIPPED/L2_AET_D/2016/1603/L2_AET_1603_7010.tif\n",
      "http://www.fao.org/wapor-download/WAPOR/coverages/mosaic/CLIPPED/L2_AET_D/2016/1604/L2_AET_1604_7010.tif\n",
      "http://www.fao.org/wapor-download/WAPOR/coverages/mosaic/CLIPPED/L2_AET_D/2016/1605/L2_AET_1605_7010.tif\n",
      "http://www.fao.org/wapor-download/WAPOR/coverages/mosaic/CLIPPED/L2_AET_D/2016/1606/L2_AET_1606_7010.tif\n",
      "http://www.fao.org/wapor-download/WAPOR/coverages/mosaic/CLIPPED/L2_AET_D/2016/1607/L2_AET_1607_7010.tif\n",
      "http://www.fao.org/wapor-download/WAPOR/coverages/mosaic/CLIPPED/L2_AET_D/2016/1608/L2_AET_1608_7010.tif\n",
      "http://www.fao.org/wapor-download/WAPOR/coverages/mosaic/CLIPPED/L2_AET_D/2016/1609/L2_AET_1609_7010.tif\n",
      "http://www.fao.org/wapor-download/WAPOR/coverages/mosaic/CLIPPED/L2_AET_D/2016/1610/L2_AET_1610_7010.tif\n",
      "http://www.fao.org/wapor-download/WAPOR/coverages/mosaic/CLIPPED/L2_AET_D/2016/1611/L2_AET_1611_7010.tif\n",
      "http://www.fao.org/wapor-download/WAPOR/coverages/mosaic/CLIPPED/L2_AET_D/2016/1612/L2_AET_1612_7010.tif\n",
      "http://www.fao.org/wapor-download/WAPOR/coverages/mosaic/CLIPPED/L2_AET_D/2016/1613/L2_AET_1613_7010.tif\n",
      "http://www.fao.org/wapor-download/WAPOR/coverages/mosaic/CLIPPED/L2_AET_D/2016/1614/L2_AET_1614_7010.tif\n",
      "http://www.fao.org/wapor-download/WAPOR/coverages/mosaic/CLIPPED/L2_AET_D/2016/1615/L2_AET_1615_7010.tif\n",
      "http://www.fao.org/wapor-download/WAPOR/coverages/mosaic/CLIPPED/L2_AET_D/2016/1616/L2_AET_1616_7010.tif\n",
      "http://www.fao.org/wapor-download/WAPOR/coverages/mosaic/CLIPPED/L2_AET_D/2016/1617/L2_AET_1617_7010.tif\n",
      "http://www.fao.org/wapor-download/WAPOR/coverages/mosaic/CLIPPED/L2_AET_D/2016/1618/L2_AET_1618_7010.tif\n",
      "http://www.fao.org/wapor-download/WAPOR/coverages/mosaic/CLIPPED/L2_AET_D/2016/1619/L2_AET_1619_7010.tif\n",
      "http://www.fao.org/wapor-download/WAPOR/coverages/mosaic/CLIPPED/L2_AET_D/2016/1620/L2_AET_1620_7010.tif\n",
      "http://www.fao.org/wapor-download/WAPOR/coverages/mosaic/CLIPPED/L2_AET_D/2016/1621/L2_AET_1621_7010.tif\n",
      "http://www.fao.org/wapor-download/WAPOR/coverages/mosaic/CLIPPED/L2_AET_D/2016/1622/L2_AET_1622_7010.tif\n",
      "http://www.fao.org/wapor-download/WAPOR/coverages/mosaic/CLIPPED/L2_AET_D/2016/1623/L2_AET_1623_7010.tif\n",
      "http://www.fao.org/wapor-download/WAPOR/coverages/mosaic/CLIPPED/L2_AET_D/2016/1624/L2_AET_1624_7010.tif\n",
      "http://www.fao.org/wapor-download/WAPOR/coverages/mosaic/CLIPPED/L2_AET_D/2016/1625/L2_AET_1625_7010.tif\n",
      "http://www.fao.org/wapor-download/WAPOR/coverages/mosaic/CLIPPED/L2_AET_D/2016/1626/L2_AET_1626_7010.tif\n",
      "http://www.fao.org/wapor-download/WAPOR/coverages/mosaic/CLIPPED/L2_AET_D/2016/1627/L2_AET_1627_7010.tif\n",
      "http://www.fao.org/wapor-download/WAPOR/coverages/mosaic/CLIPPED/L2_AET_D/2016/1628/L2_AET_1628_7010.tif\n",
      "http://www.fao.org/wapor-download/WAPOR/coverages/mosaic/CLIPPED/L2_AET_D/2016/1629/L2_AET_1629_7010.tif\n",
      "http://www.fao.org/wapor-download/WAPOR/coverages/mosaic/CLIPPED/L2_AET_D/2016/1630/L2_AET_1630_7010.tif\n",
      "http://www.fao.org/wapor-download/WAPOR/coverages/mosaic/CLIPPED/L2_AET_D/2016/1631/L2_AET_1631_7010.tif\n",
      "http://www.fao.org/wapor-download/WAPOR/coverages/mosaic/CLIPPED/L2_AET_D/2016/1632/L2_AET_1632_7010.tif\n",
      "http://www.fao.org/wapor-download/WAPOR/coverages/mosaic/CLIPPED/L2_AET_D/2016/1633/L2_AET_1633_7010.tif\n",
      "http://www.fao.org/wapor-download/WAPOR/coverages/mosaic/CLIPPED/L2_AET_D/2016/1634/L2_AET_1634_7010.tif\n",
      "http://www.fao.org/wapor-download/WAPOR/coverages/mosaic/CLIPPED/L2_AET_D/2016/1635/L2_AET_1635_7010.tif\n",
      "http://www.fao.org/wapor-download/WAPOR/coverages/mosaic/CLIPPED/L2_AET_D/2016/1636/L2_AET_1636_7010.tif\n"
     ]
    }
   ],
   "source": [
    "cube_code = 'L2_AET_D'\n",
    "for idx, row in df_avail.iterrows():    \n",
    "    #print(row)\n",
    "    year = row.name\n",
    "    cov_url = hkv.read_wapor.get_coverage_url(\n",
    "        cube_code = cube_code,\n",
    "        year = row.name, \n",
    "        raster_id = row['raster_id'], \n",
    "        location_code='7010')\n",
    "    print(cov_url)"
   ]
  },
  {
   "cell_type": "markdown",
   "metadata": {},
   "source": [
    "#### COVERAGE REQUEST FOR SINGLE PRODUCT"
   ]
  },
  {
   "cell_type": "code",
   "execution_count": 30,
   "metadata": {},
   "outputs": [],
   "source": [
    "import requests\n",
    "from io import BytesIO\n",
    "import uuid\n",
    "from osgeo import gdal"
   ]
  },
  {
   "cell_type": "code",
   "execution_count": 31,
   "metadata": {},
   "outputs": [],
   "source": [
    "resp = requests.get(url)"
   ]
  },
  {
   "cell_type": "code",
   "execution_count": 32,
   "metadata": {},
   "outputs": [],
   "source": [
    "image_data = BytesIO(resp.content)"
   ]
  },
  {
   "cell_type": "code",
   "execution_count": 33,
   "metadata": {},
   "outputs": [],
   "source": [
    "filename = uuid.uuid4().hex\n",
    "mmap_name = \"/vsimem/{}\".format(filename)\n",
    "gdal.FileFromMemBuffer(mmap_name, image_data.read())\n",
    "dataset = gdal.Open(mmap_name)"
   ]
  },
  {
   "cell_type": "code",
   "execution_count": 34,
   "metadata": {},
   "outputs": [
    {
     "name": "stdout",
     "output_type": "stream",
     "text": [
      "Driver: GTiff/GeoTIFF\n",
      "Files: /vsimem/473a357685894899a0f15de1f91b86f3\n",
      "Size is 5406, 4529\n",
      "Coordinate System is:\n",
      "GEOGCS[\"WGS 84\",\n",
      "    DATUM[\"WGS_1984\",\n",
      "        SPHEROID[\"WGS 84\",6378137,298.257223563,\n",
      "            AUTHORITY[\"EPSG\",\"7030\"]],\n",
      "        AUTHORITY[\"EPSG\",\"6326\"]],\n",
      "    PRIMEM[\"Greenwich\",0],\n",
      "    UNIT[\"degree\",0.0174532925199433],\n",
      "    AUTHORITY[\"EPSG\",\"4326\"]]\n",
      "Origin = (37.957809690116008,12.388405738995999)\n",
      "Pixel Size = (0.000992063000000,-0.000992063000000)\n",
      "Metadata:\n",
      "  AREA_OR_POINT=Area\n",
      "Image Structure Metadata:\n",
      "  COMPRESSION=LZW\n",
      "  INTERLEAVE=BAND\n",
      "Corner Coordinates:\n",
      "Upper Left  (  37.9578097,  12.3884057) ( 37d57'28.11\"E, 12d23'18.26\"N)\n",
      "Lower Left  (  37.9578097,   7.8953524) ( 37d57'28.11\"E,  7d53'43.27\"N)\n",
      "Upper Right (  43.3209023,  12.3884057) ( 43d19'15.25\"E, 12d23'18.26\"N)\n",
      "Lower Right (  43.3209023,   7.8953524) ( 43d19'15.25\"E,  7d53'43.27\"N)\n",
      "Center      (  40.6393560,  10.1418791) ( 40d38'21.68\"E, 10d 8'30.76\"N)\n",
      "Band 1 Block=256x256 Type=Byte, ColorInterp=Gray\n",
      "  NoData Value=255\n",
      "  Overviews: 2703x2265, 1352x1133, 676x567, 338x284, 169x142\n",
      "\n"
     ]
    }
   ],
   "source": [
    "print(gdal.Info(mmap_name))"
   ]
  },
  {
   "cell_type": "code",
   "execution_count": 35,
   "metadata": {},
   "outputs": [],
   "source": [
    "from matplotlib import pyplot as plt\n",
    "%matplotlib inline"
   ]
  },
  {
   "cell_type": "code",
   "execution_count": 36,
   "metadata": {},
   "outputs": [
    {
     "data": {
      "text/plain": [
       "<matplotlib.colorbar.Colorbar at 0xd66a5f8>"
      ]
     },
     "execution_count": 36,
     "metadata": {},
     "output_type": "execute_result"
    },
    {
     "data": {
      "image/png": "[encoded data removed]",
      "text/plain": [
       "<matplotlib.figure.Figure at 0xac2beb8>"
      ]
     },
     "metadata": {},
     "output_type": "display_data"
    }
   ],
   "source": [
    "im = plt.imshow(dataset.ReadAsArray())\n",
    "plt.colorbar(im)"
   ]
  },
  {
   "cell_type": "markdown",
   "metadata": {},
   "source": [
    "#### TIMESERIES REQUEST FOR SINGLE PRODUCT"
   ]
  },
  {
   "cell_type": "code",
   "execution_count": null,
   "metadata": {},
   "outputs": [],
   "source": [
    "# query_json = {  \n",
    "#    \"type\":\"PixelTimeSeries\",\n",
    "#    \"params\":{  \n",
    "#       \"cube\":{  \n",
    "#          \"code\":\"L2_AGBP_S\",\n",
    "#          \"workspaceCode\":\"WAPOR\",\n",
    "#          \"language\":\"en\"\n",
    "#       },\n",
    "#       \"dimensions\":[  \n",
    "#          {  \n",
    "#             \"code\":\"SEASON\",\n",
    "#             \"values\":[  \n",
    "#                \"S1\"\n",
    "#             ]\n",
    "#          },\n",
    "#          {  \n",
    "#             \"code\":\"YEAR\",\n",
    "#             \"range\":\"[2014-09-01,2016-01-01]\"\n",
    "#          }\n",
    "#       ],\n",
    "#       \"measures\":[  \n",
    "#          \"AGBP_S\"\n",
    "#       ],\n",
    "#       \"point\":{  \n",
    "#          \"crs\":\"EPSG:4326\",\n",
    "#          \"x\":39.40862388968785,\n",
    "#          \"y\":10.60703111476445\n",
    "#       }\n",
    "#    }\n",
    "# }"
   ]
  }
 ],
 "metadata": {
  "kernelspec": {
   "display_name": "Python 3",
   "language": "python",
   "name": "python3"
  },
  "language_info": {
   "codemirror_mode": {
    "name": "ipython",
    "version": 3
   },
   "file_extension": ".py",
   "mimetype": "text/x-python",
   "name": "python",
   "nbconvert_exporter": "python",
   "pygments_lexer": "ipython3",
   "version": "3.5.2"
  }
 },
 "nbformat": 4,
 "nbformat_minor": 2
}
