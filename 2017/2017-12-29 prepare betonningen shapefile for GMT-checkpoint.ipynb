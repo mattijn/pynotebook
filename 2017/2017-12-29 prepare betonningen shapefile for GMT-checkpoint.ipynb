{
 "cells": [
  {
   "cell_type": "code",
   "execution_count": 1,
   "metadata": {},
   "outputs": [],
   "source": [
    "import geopandas as gpd\n",
    "import pandas as pd\n",
    "from fiona.crs import from_epsg\n",
    "from shapely.geometry import Point\n",
    "import os\n",
    "import subprocess as sp\n",
    "import re\n",
    "from difflib import SequenceMatcher\n",
    "%matplotlib inline"
   ]
  },
  {
   "cell_type": "code",
   "execution_count": 2,
   "metadata": {},
   "outputs": [],
   "source": [
    "def cmd(command):\n",
    "    print (sp.list2cmdline(command))\n",
    "    norm = sp.Popen(sp.list2cmdline(command),stdout=sp.PIPE, shell=True)\n",
    "    out_cmd = norm.communicate()\n",
    "    return out_cmd"
   ]
  },
  {
   "cell_type": "code",
   "execution_count": 3,
   "metadata": {},
   "outputs": [],
   "source": [
    "def similar(a, b):\n",
    "    return SequenceMatcher(None, a, b).ratio()\n",
    "\n",
    "def replace_similar_color(color, idx, item, df, column):\n",
    "    smty = similar(color, item)\n",
    "    if smty >= 0.5:\n",
    "        df.loc[idx,column] = color"
   ]
  },
  {
   "cell_type": "code",
   "execution_count": 4,
   "metadata": {},
   "outputs": [],
   "source": [
    "def urlify(s):\n",
    "    # Remove all non-word characters (everything except numbers and letters)\n",
    "    s = re.sub(r\"[^\\w\\s]\", '', s)    \n",
    "    # Replace all runs of whitespace with a single dash\n",
    "    s = re.sub(r\"\\s+\", '-', s)    \n",
    "    return s"
   ]
  },
  {
   "cell_type": "code",
   "execution_count": 5,
   "metadata": {},
   "outputs": [],
   "source": [
    "def parse_ton_file_to_gdf(ton_in):\n",
    "    df = pd.read_excel(ton_in)    \n",
    "    geometry = [Point(xy) for xy in zip(df.POINT_X, df.POINT_Y)]\n",
    "    df = df.drop(['POINT_X', 'POINT_Y'], axis=1)\n",
    "    crs = rd_string\n",
    "    gdf = gpd.GeoDataFrame(df, crs=crs, geometry=geometry)    \n",
    "\n",
    "    # FOR GMT BAGGERVAKKEN\n",
    "    # 11 save GDF to SHP\n",
    "    gdf['geometry'] = gdf['geometry'].to_crs(epsg=4326)\n",
    "    gdf.crs = from_epsg(4326)\n",
    "    gdf = gdf[['NAAM','KLEUR','geometry']]    \n",
    "    \n",
    "    return gdf"
   ]
  },
  {
   "cell_type": "code",
   "execution_count": 6,
   "metadata": {},
   "outputs": [],
   "source": [
    "def ton_gdf_to_label_file(gdf, txt_out):\n",
    "    df_label = pd.DataFrame()\n",
    "    df_label.loc[:,'lon'] = gdf['geometry'].x.values\n",
    "    df_label.loc[:,'lat'] = gdf['geometry'].y.values\n",
    "    df_label.loc[:,'nme'] = gdf['NAAM'].values    \n",
    "\n",
    "    df_label.fillna('NAN', inplace=True)\n",
    "    for idx, item in enumerate(df_label['nme']):\n",
    "        try:\n",
    "            new_label = urlify(item)\n",
    "        except:\n",
    "            new_label = 'NAN'\n",
    "        df_label.loc[idx,'nme'] = new_label\n",
    "        \n",
    "    df_label.to_csv(txt_out, sep=',', header=False, index=False)\n",
    "    return df_label   "
   ]
  },
  {
   "cell_type": "code",
   "execution_count": 7,
   "metadata": {},
   "outputs": [],
   "source": [
    "def ton_gdf_to_color_file(gdf, txt_out):\n",
    "    \n",
    "    df_color = pd.DataFrame()\n",
    "    df_color.loc[:,'lon'] = gdf['geometry'].x.values\n",
    "    df_color.loc[:,'lat'] = gdf['geometry'].y.values\n",
    "    df_color.loc[:,'clr'] = gdf['KLEUR'].values    \n",
    "\n",
    "    # fill nan values with black\n",
    "    df_color.fillna('zwart', inplace=True)\n",
    "    # replace similar strings with corresponding name color\n",
    "    for idx, item in enumerate(df_color['clr']):    \n",
    "        replace_similar_color('groen', idx, item, df_color, 'clr')\n",
    "        replace_similar_color('rood', idx, item, df_color, 'clr')\n",
    "        replace_similar_color('geel', idx, item, df_color, 'clr')\n",
    "        replace_similar_color('wit', idx, item, df_color, 'clr')\n",
    "        replace_similar_color('zwart', idx, item, df_color, 'clr')\n",
    "\n",
    "        if item in ['zwart/geel/zwart', 'F(5) 20s']:\n",
    "            df_color.loc[idx,'clr'] = 'zwart'\n",
    "        if item in ['groen-rood-groen', 'gr/rd', 'groen/rood/groen']:\n",
    "            df_color.loc[idx,'clr'] = 'groen'\n",
    "        if item in ['rd gr rd gr', 'Rood/Groen/Rood', 'rood/wit/vert']:\n",
    "            df_color.loc[idx,'clr'] = 'rood'\n",
    "\n",
    "    # replace color names with corresponding hexadecimal values\n",
    "    df_color['clr'] = df_color['clr'].replace('groen', 0)  #   correspond to #78CA7B in GMT command\n",
    "    df_color['clr'] = df_color['clr'].replace('zwart', 1)  #   correspond to #2F2F2F in GMT command\n",
    "    df_color['clr'] = df_color['clr'].replace('geel', 2)  #    correspond to #FFEE8C in GMT command\n",
    "    df_color['clr'] = df_color['clr'].replace('rood', 3)  #    correspond to #D80A0A in GMT command\n",
    "    df_color['clr'] = df_color['clr'].replace('wit', 4)  #     correspond to #CBD4D8 in GMT command\n",
    "\n",
    "    # store colors to GMT readible file\n",
    "    df_color.to_csv(txt_out, sep=',', header=False, index=False)\n",
    "    return df_color"
   ]
  },
  {
   "cell_type": "code",
   "execution_count": 8,
   "metadata": {},
   "outputs": [],
   "source": [
    "rd_string = (\"+proj=sterea +lat_0=52.15616055555555 +lon_0=5.38763888888889 \"\n",
    "             \"+k=0.999908 +x_0=155000 +y_0=463000 +ellps=bessel +units=m \" \n",
    "             \"+towgs84=565.2369,50.0087,465.658,-0.406857330322398,0.350732676542563,-1.8703473836068,4.0812 \"\n",
    "             \"+no_defs +no_defs\")"
   ]
  },
  {
   "cell_type": "code",
   "execution_count": 9,
   "metadata": {},
   "outputs": [],
   "source": [
    "# path to tmp data directory\n",
    "tmpDataDir = r'D:\\Projects\\Pr\\3317.20\\PTS2PDF_usingGMT\\data_dir_tmp'\n",
    "\n",
    "# path to betonningen\n",
    "tonDataDir = r'D:\\Projects\\Pr\\3317.20\\PTS2PDF_usingGMT\\data_dir_ton'\n",
    "\n",
    "# path to gdal/ogr root\n",
    "rootOgrGdal = r'C:\\Python35\\Lib\\site-packages\\osgeo'\n",
    "ogr2ogr = os.path.join(rootOgrGdal, 'ogr2ogr.exe')"
   ]
  },
  {
   "cell_type": "code",
   "execution_count": 10,
   "metadata": {},
   "outputs": [],
   "source": [
    "ton_in = os.path.join(tonDataDir,'TON_07sep2017.xlsx')\n",
    "gdf = parse_ton_file_to_gdf(ton_in)\n",
    "# store labels to GMT readible file\n",
    "file_tmp = 'TON_07sep2017'\n",
    "labels = os.path.join(tonDataDir, '{}_ton_label.txt'.format(file_tmp))\n",
    "colors = os.path.join(tonDataDir, '{}_ton_color.txt'.format(file_tmp))"
   ]
  },
  {
   "cell_type": "code",
   "execution_count": 14,
   "metadata": {},
   "outputs": [],
   "source": [
    "df_color = ton_gdf_to_color_file(gdf, txt_out=colors)\n",
    "df_label = ton_gdf_to_label_file(gdf, txt_out=labels)"
   ]
  },
  {
   "cell_type": "code",
   "execution_count": 15,
   "metadata": {},
   "outputs": [
    {
     "data": {
      "text/html": [
       "<div>\n",
       "<style scoped>\n",
       "    .dataframe tbody tr th:only-of-type {\n",
       "        vertical-align: middle;\n",
       "    }\n",
       "\n",
       "    .dataframe tbody tr th {\n",
       "        vertical-align: top;\n",
       "    }\n",
       "\n",
       "    .dataframe thead th {\n",
       "        text-align: right;\n",
       "    }\n",
       "</style>\n",
       "<table border=\"1\" class=\"dataframe\">\n",
       "  <thead>\n",
       "    <tr style=\"text-align: right;\">\n",
       "      <th></th>\n",
       "      <th>lon</th>\n",
       "      <th>lat</th>\n",
       "      <th>nme</th>\n",
       "    </tr>\n",
       "  </thead>\n",
       "  <tbody>\n",
       "    <tr>\n",
       "      <th>0</th>\n",
       "      <td>5.571823</td>\n",
       "      <td>53.330043</td>\n",
       "      <td>ABT</td>\n",
       "    </tr>\n",
       "    <tr>\n",
       "      <th>1</th>\n",
       "      <td>6.686610</td>\n",
       "      <td>53.528730</td>\n",
       "      <td>Mine</td>\n",
       "    </tr>\n",
       "    <tr>\n",
       "      <th>2</th>\n",
       "      <td>6.666287</td>\n",
       "      <td>53.536983</td>\n",
       "      <td>A-5</td>\n",
       "    </tr>\n",
       "    <tr>\n",
       "      <th>3</th>\n",
       "      <td>6.753172</td>\n",
       "      <td>53.495470</td>\n",
       "      <td>Tanker-reede-1</td>\n",
       "    </tr>\n",
       "    <tr>\n",
       "      <th>4</th>\n",
       "      <td>6.736955</td>\n",
       "      <td>53.500180</td>\n",
       "      <td>Preede-1</td>\n",
       "    </tr>\n",
       "  </tbody>\n",
       "</table>\n",
       "</div>"
      ],
      "text/plain": [
       "        lon        lat             nme\n",
       "0  5.571823  53.330043             ABT\n",
       "1  6.686610  53.528730            Mine\n",
       "2  6.666287  53.536983             A-5\n",
       "3  6.753172  53.495470  Tanker-reede-1\n",
       "4  6.736955  53.500180        Preede-1"
      ]
     },
     "execution_count": 15,
     "metadata": {},
     "output_type": "execute_result"
    }
   ],
   "source": [
    "df_label.head()"
   ]
  },
  {
   "cell_type": "code",
   "execution_count": 16,
   "metadata": {},
   "outputs": [
    {
     "data": {
      "text/html": [
       "<div>\n",
       "<style scoped>\n",
       "    .dataframe tbody tr th:only-of-type {\n",
       "        vertical-align: middle;\n",
       "    }\n",
       "\n",
       "    .dataframe tbody tr th {\n",
       "        vertical-align: top;\n",
       "    }\n",
       "\n",
       "    .dataframe thead th {\n",
       "        text-align: right;\n",
       "    }\n",
       "</style>\n",
       "<table border=\"1\" class=\"dataframe\">\n",
       "  <thead>\n",
       "    <tr style=\"text-align: right;\">\n",
       "      <th></th>\n",
       "      <th>lon</th>\n",
       "      <th>lat</th>\n",
       "      <th>clr</th>\n",
       "    </tr>\n",
       "  </thead>\n",
       "  <tbody>\n",
       "    <tr>\n",
       "      <th>0</th>\n",
       "      <td>5.571823</td>\n",
       "      <td>53.330043</td>\n",
       "      <td>0</td>\n",
       "    </tr>\n",
       "    <tr>\n",
       "      <th>1</th>\n",
       "      <td>6.686610</td>\n",
       "      <td>53.528730</td>\n",
       "      <td>1</td>\n",
       "    </tr>\n",
       "    <tr>\n",
       "      <th>2</th>\n",
       "      <td>6.666287</td>\n",
       "      <td>53.536983</td>\n",
       "      <td>0</td>\n",
       "    </tr>\n",
       "    <tr>\n",
       "      <th>3</th>\n",
       "      <td>6.753172</td>\n",
       "      <td>53.495470</td>\n",
       "      <td>1</td>\n",
       "    </tr>\n",
       "    <tr>\n",
       "      <th>4</th>\n",
       "      <td>6.736955</td>\n",
       "      <td>53.500180</td>\n",
       "      <td>1</td>\n",
       "    </tr>\n",
       "  </tbody>\n",
       "</table>\n",
       "</div>"
      ],
      "text/plain": [
       "        lon        lat  clr\n",
       "0  5.571823  53.330043    0\n",
       "1  6.686610  53.528730    1\n",
       "2  6.666287  53.536983    0\n",
       "3  6.753172  53.495470    1\n",
       "4  6.736955  53.500180    1"
      ]
     },
     "execution_count": 16,
     "metadata": {},
     "output_type": "execute_result"
    }
   ],
   "source": [
    "df_color.head()"
   ]
  },
  {
   "cell_type": "code",
   "execution_count": null,
   "metadata": {},
   "outputs": [],
   "source": []
  }
 ],
 "metadata": {
  "kernelspec": {
   "display_name": "Python 3",
   "language": "python",
   "name": "python3"
  },
  "language_info": {
   "codemirror_mode": {
    "name": "ipython",
    "version": 3
   },
   "file_extension": ".py",
   "mimetype": "text/x-python",
   "name": "python",
   "nbconvert_exporter": "python",
   "pygments_lexer": "ipython3",
   "version": "3.5.2"
  }
 },
 "nbformat": 4,
 "nbformat_minor": 2
}
