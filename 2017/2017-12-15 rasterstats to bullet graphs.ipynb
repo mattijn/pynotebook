{
 "cells": [
  {
   "cell_type": "code",
   "execution_count": 1,
   "metadata": {},
   "outputs": [],
   "source": [
    "import hkvwaporpy as hkv\n",
    "import numpy as np\n",
    "import pandas as pd\n",
    "import glob\n",
    "import os\n",
    "from tqdm import tqdm_notebook as tqdm"
   ]
  },
  {
   "cell_type": "code",
   "execution_count": 2,
   "metadata": {},
   "outputs": [],
   "source": [
    "csv_in = r'D:\\jupyter notebooks\\3348.10 WAP Awash - Ethiopie\\CSV-files\\*.csv'\n",
    "csv_dir = glob.glob(csv_in)"
   ]
  },
  {
   "cell_type": "code",
   "execution_count": 3,
   "metadata": {},
   "outputs": [
    {
     "name": "stdout",
     "output_type": "stream",
     "text": [
      "D:\\jupyter notebooks\\3348.10 WAP Awash - Ethiopie\\CSV-files\\stats_L1_RET.csv\n",
      "D:\\jupyter notebooks\\3348.10 WAP Awash - Ethiopie\\CSV-files\\stats_L2_AET_D.csv\n",
      "D:\\jupyter notebooks\\3348.10 WAP Awash - Ethiopie\\CSV-files\\stats_L2_AGBP_S.csv\n"
     ]
    },
    {
     "name": "stderr",
     "output_type": "stream",
     "text": [
      "Exception in thread Thread-6:\n",
      "Traceback (most recent call last):\n",
      "  File \"c:\\python35\\lib\\threading.py\", line 914, in _bootstrap_inner\n",
      "    self.run()\n",
      "  File \"c:\\python35\\lib\\site-packages\\tqdm\\_tqdm.py\", line 147, in run\n",
      "    if instance.miniters > 1 and \\\n",
      "AttributeError: 'tqdm_notebook' object has no attribute 'miniters'\n",
      "\n"
     ]
    },
    {
     "name": "stdout",
     "output_type": "stream",
     "text": [
      "D:\\jupyter notebooks\\3348.10 WAP Awash - Ethiopie\\CSV-files\\stats_L2_NPP.csv\n",
      "D:\\jupyter notebooks\\3348.10 WAP Awash - Ethiopie\\CSV-files\\stats_L2_PHE.csv\n",
      "D:\\jupyter notebooks\\3348.10 WAP Awash - Ethiopie\\CSV-files\\stats_L2_QUAL_NDVI.csv\n",
      "D:\\jupyter notebooks\\3348.10 WAP Awash - Ethiopie\\CSV-files\\stats_L2_TFRAC.csv\n",
      "\n"
     ]
    }
   ],
   "source": [
    "for csv in tqdm(csv_dir):\n",
    "    print(csv)\n",
    "    path_basename = os.path.basename(csv)\n",
    "    path_dirname = os.path.dirname(csv)\n",
    "    csv_out = '{0}\\select_stats\\select_{1}'.format(path_dirname, path_basename)    \n",
    "    df = pd.read_csv(csv)\n",
    "    # parse date column as datetime\n",
    "    df.loc[:,'date'] = pd.to_datetime(df['date'])\n",
    "    # compute year and day of year column\n",
    "    df.loc[:,'year'] = df['date'].dt.year\n",
    "    df.loc[:,'doy'] = df['date'].dt.dayofyear   \n",
    "    \n",
    "    # iterate over unique weredas and day of years to select subset\n",
    "    unique_wereda = df['wereda'].unique()\n",
    "    unique_doy = df['doy'].unique()\n",
    "\n",
    "    if 'stats_L1_RET' not in path_basename:\n",
    "        # only get doy that are minimal 8 days apart\n",
    "        diff_day = np.ediff1d(unique_doy)\n",
    "        diff_day = np.insert(diff_day, 0, 10)\n",
    "        unique_doy = unique_doy[diff_day>=8]\n",
    "\n",
    "    # extract mean of each variable for each wereda and doy and store in list\n",
    "    list_comb = []\n",
    "    for wereda in tqdm(unique_wereda):\n",
    "        for doy in tqdm(unique_doy):\n",
    "            \n",
    "            if 'stats_L1_RET' not in path_basename:\n",
    "                # search surround\n",
    "                df_sel = df.loc[(df['doy'].isin([doy-1,doy, doy+1])) & (df['wereda'] == wereda)]\n",
    "            else:\n",
    "                df_sel = df.loc[(df['doy'] == doy) & (df['wereda'] == wereda)]\n",
    "            s_sel_mean = df_sel.mean(axis=0)        \n",
    "            s_sel_mean.loc['wereda'] = df_sel.wereda.unique()[0]\n",
    "            s_sel_mean.loc['doy'] = df_sel.doy.min()\n",
    "            list_comb.append(s_sel_mean.tolist())\n",
    "\n",
    "    # convert list to dataframe\n",
    "    df_comb = pd.DataFrame(data = list_comb, columns = s_sel_mean.index)      \n",
    "    df_comb.drop(['Unnamed: 0', 'year'], axis=1, inplace=True)\n",
    "    df_comb.loc[:,'parameter'] = path_basename[6:-4]\n",
    "    df_comb.to_csv(csv_out, index=False)"
   ]
  },
  {
   "cell_type": "code",
   "execution_count": null,
   "metadata": {},
   "outputs": [],
   "source": []
  }
 ],
 "metadata": {
  "kernelspec": {
   "display_name": "Python 3",
   "language": "python",
   "name": "python3"
  },
  "language_info": {
   "codemirror_mode": {
    "name": "ipython",
    "version": 3
   },
   "file_extension": ".py",
   "mimetype": "text/x-python",
   "name": "python",
   "nbconvert_exporter": "python",
   "pygments_lexer": "ipython3",
   "version": "3.5.2"
  },
  "widgets": {
   "state": {
    "0048a94b56ec44cbb81d7e49d43104cd": {
     "views": [
      {
       "cell_index": 2
      }
     ]
    },
    "005ed887a69b43879192e55070fcf5f0": {
     "views": [
      {
       "cell_index": 2
      }
     ]
    },
    "0109eb0942f94c12b4e4946aea2dc420": {
     "views": [
      {
       "cell_index": 2
      }
     ]
    },
    "01e3810cbdd541f69f4a746dc05ddbe8": {
     "views": [
      {
       "cell_index": 2
      }
     ]
    },
    "020aea83fa664b25b3d4123037c5e452": {
     "views": [
      {
       "cell_index": 2
      }
     ]
    },
    "0270668e340444c896931b828d4f2922": {
     "views": [
      {
       "cell_index": 2
      }
     ]
    },
    "028f17263b7f4856a856635b9bbcf838": {
     "views": [
      {
       "cell_index": 2
      }
     ]
    },
    "0290b20585c84d5d9ac4f67f24a7caac": {
     "views": [
      {
       "cell_index": 2
      }
     ]
    },
    "030ce22e1f5f4d8da8f4e1023158ed4e": {
     "views": [
      {
       "cell_index": 2
      }
     ]
    },
    "0317dc1a809248c281ed50b767820535": {
     "views": [
      {
       "cell_index": 2
      }
     ]
    },
    "032296c64d4b49ab8712b9e92d9170c8": {
     "views": [
      {
       "cell_index": 2
      }
     ]
    },
    "0343a557999d491b877603888f841188": {
     "views": [
      {
       "cell_index": 2
      }
     ]
    },
    "04758a857d25429e974fcd566d1d280d": {
     "views": [
      {
       "cell_index": 2
      }
     ]
    },
    "047a4b34b3b0493bacb273fc075c5170": {
     "views": [
      {
       "cell_index": 2
      }
     ]
    },
    "052daa03386f4cfea0af3387b8c6c82b": {
     "views": [
      {
       "cell_index": 2
      }
     ]
    },
    "059439def7264b1492f17fd54a6ee86a": {
     "views": [
      {
       "cell_index": 2
      }
     ]
    },
    "07998ba4ec374efdbb5cfab3dfd2e746": {
     "views": [
      {
       "cell_index": 2
      }
     ]
    },
    "07ffa8d8ecfd4c57acdc58ee841fc5a4": {
     "views": [
      {
       "cell_index": 2
      }
     ]
    },
    "087dfbcb58334c0daf84993207767bf7": {
     "views": [
      {
       "cell_index": 2
      }
     ]
    },
    "08d3822734fc47b59bad54a409192c97": {
     "views": [
      {
       "cell_index": 2
      }
     ]
    },
    "0939aeb5598e4330a9a8f01a328b448e": {
     "views": [
      {
       "cell_index": 2
      }
     ]
    },
    "0949359531294c94985330bd03008db5": {
     "views": [
      {
       "cell_index": 2
      }
     ]
    },
    "09826e10de41431eafdd1c848d4a1312": {
     "views": [
      {
       "cell_index": 2
      }
     ]
    },
    "098e2cbc8f6b4abfb868e62b32c2a46b": {
     "views": [
      {
       "cell_index": 2
      }
     ]
    },
    "0af896d22e7e467cbaa4c38cb8911e0f": {
     "views": [
      {
       "cell_index": 2
      }
     ]
    },
    "0b5cbf2da0464e70a8e518157eed7833": {
     "views": [
      {
       "cell_index": 2
      }
     ]
    },
    "0b645dfeeea7496a92a41b1ea56dfa38": {
     "views": [
      {
       "cell_index": 2
      }
     ]
    },
    "0b7ea5fee4b24170bdef6e62fdc07720": {
     "views": [
      {
       "cell_index": 2
      }
     ]
    },
    "0c489ff0aa8141bf81f385ad38cd9019": {
     "views": [
      {
       "cell_index": 2
      }
     ]
    },
    "0c7d27062e0e40038b079bb8cf072a91": {
     "views": [
      {
       "cell_index": 2
      }
     ]
    },
    "0ca042c15fb0445aabe2cca2369ebc23": {
     "views": [
      {
       "cell_index": 2
      }
     ]
    },
    "0ccd1378a7b5497e9f3f3d4679557fe5": {
     "views": [
      {
       "cell_index": 2
      }
     ]
    },
    "0d1d29f888ac49e6ad6603dbb5ca6c78": {
     "views": [
      {
       "cell_index": 2
      }
     ]
    },
    "0d6e881ec7fc40818f0c45e662ff0b1e": {
     "views": [
      {
       "cell_index": 2
      }
     ]
    },
    "0d7309f6732144d6b34f622cf239c067": {
     "views": [
      {
       "cell_index": 2
      }
     ]
    },
    "0e3630f88ef64c388d7bdf95438cb0ef": {
     "views": [
      {
       "cell_index": 2
      }
     ]
    },
    "0e4040724d9047449d56e7d5095a7a76": {
     "views": [
      {
       "cell_index": 2
      }
     ]
    },
    "0e90bb968ad64e6cac6b28ff702031e8": {
     "views": [
      {
       "cell_index": 2
      }
     ]
    },
    "0e9ac99f34c74b3b842d4b6ab4f6397f": {
     "views": [
      {
       "cell_index": 2
      }
     ]
    },
    "0efcb9b1719445598f9f7781be23dd4a": {
     "views": [
      {
       "cell_index": 2
      }
     ]
    },
    "0fac1ea05b9f432db69d7af8049278e7": {
     "views": [
      {
       "cell_index": 2
      }
     ]
    },
    "108221617c454b5e967e64fbdce10f8d": {
     "views": [
      {
       "cell_index": 2
      }
     ]
    },
    "11050d74f87f47d0b9075a860f2742a3": {
     "views": [
      {
       "cell_index": 2
      }
     ]
    },
    "114a01e39d5342da91f2d34a67eba18b": {
     "views": [
      {
       "cell_index": 2
      }
     ]
    },
    "115d54ea409c4b8d8eeff654fb281d6e": {
     "views": [
      {
       "cell_index": 2
      }
     ]
    },
    "11b158f54a1f4cbc984920301004ffe6": {
     "views": [
      {
       "cell_index": 2
      }
     ]
    },
    "126d3752dfcc4bcf8f4ab1148b17d83a": {
     "views": [
      {
       "cell_index": 2
      }
     ]
    },
    "127c174848f34e4d8ebb376387877638": {
     "views": [
      {
       "cell_index": 2
      }
     ]
    },
    "12badbeb709c473e89e61156c509b289": {
     "views": [
      {
       "cell_index": 2
      }
     ]
    },
    "12ca0f5da1ad473cbf796e48de3f78f3": {
     "views": [
      {
       "cell_index": 2
      }
     ]
    },
    "12f041c53c6140efacdb7b426965e986": {
     "views": [
      {
       "cell_index": 2
      }
     ]
    },
    "138412e0532b4973a7ef67afc4c03467": {
     "views": [
      {
       "cell_index": 2
      }
     ]
    },
    "139559af692f415bad9aca594a32e105": {
     "views": [
      {
       "cell_index": 2
      }
     ]
    },
    "13f72c12088246129eb8aaa951d7d438": {
     "views": [
      {
       "cell_index": 2
      }
     ]
    },
    "147b25aab11941eba657d889d422271b": {
     "views": [
      {
       "cell_index": 2
      }
     ]
    },
    "1483652c8c164468aef760a560a184d5": {
     "views": [
      {
       "cell_index": 2
      }
     ]
    },
    "151b68041a4d43b68b697cb4d77cded5": {
     "views": [
      {
       "cell_index": 2
      }
     ]
    },
    "153438d48359439d929a28afc34ec212": {
     "views": [
      {
       "cell_index": 2
      }
     ]
    },
    "15a6b20f5c4b46ae85ed73559231dbbd": {
     "views": [
      {
       "cell_index": 2
      }
     ]
    },
    "161723c73e3c40de8fe0e086cdc1c100": {
     "views": [
      {
       "cell_index": 2
      }
     ]
    },
    "1644c07839434a6ba3b518fbf876bc7c": {
     "views": [
      {
       "cell_index": 2
      }
     ]
    },
    "168ca06bf1564a089b6e3fbd65df3cb4": {
     "views": [
      {
       "cell_index": 2
      }
     ]
    },
    "170c0f63aae540908c09610c86919887": {
     "views": [
      {
       "cell_index": 2
      }
     ]
    },
    "1736b165201440f7bfde540b07e3b8b8": {
     "views": [
      {
       "cell_index": 2
      }
     ]
    },
    "1750278410e249b8b47aa67ee0c785a5": {
     "views": [
      {
       "cell_index": 2
      }
     ]
    },
    "176076f5d68f4d77b29c36e4d96c7357": {
     "views": [
      {
       "cell_index": 2
      }
     ]
    },
    "1895c46838dc4fef84c985e6c2e18c66": {
     "views": [
      {
       "cell_index": 2
      }
     ]
    },
    "18dc19cab9ff4717a54839cce04bb82b": {
     "views": [
      {
       "cell_index": 2
      }
     ]
    },
    "19250df576824c8a8d4874a0174224d3": {
     "views": [
      {
       "cell_index": 2
      }
     ]
    },
    "192f7d44615d47749e461bd9ded02fba": {
     "views": [
      {
       "cell_index": 2
      }
     ]
    },
    "1a253a2f05b54959b45743fa16efe1ae": {
     "views": [
      {
       "cell_index": 2
      }
     ]
    },
    "1c1b69ade760433dbf369842a361c765": {
     "views": [
      {
       "cell_index": 2
      }
     ]
    },
    "1c90e85b7eec4d1ba9ed8a5001c44dd6": {
     "views": [
      {
       "cell_index": 2
      }
     ]
    },
    "1d7a5d321cc74294802a9608844575a8": {
     "views": [
      {
       "cell_index": 2
      }
     ]
    },
    "1da0ce3a51324f039c3581cde9494e50": {
     "views": [
      {
       "cell_index": 2
      }
     ]
    },
    "1db2abefd0d94a0d924082024f34992d": {
     "views": [
      {
       "cell_index": 2
      }
     ]
    },
    "1dd83f7a1cc8437fb05473d7e10bc851": {
     "views": [
      {
       "cell_index": 2
      }
     ]
    },
    "1e0629d652b64528a33f60e26870085b": {
     "views": [
      {
       "cell_index": 2
      }
     ]
    },
    "1e0ac5e86b014a0499562ead30ae365c": {
     "views": [
      {
       "cell_index": 2
      }
     ]
    },
    "1ed8a1126a3541598e1a0bdeb101ed09": {
     "views": [
      {
       "cell_index": 2
      }
     ]
    },
    "1efd03e6b67948a5a8222e8db9f314ac": {
     "views": [
      {
       "cell_index": 2
      }
     ]
    },
    "1f13583c4af744cba8726f42ddbe7fae": {
     "views": [
      {
       "cell_index": 2
      }
     ]
    },
    "1fd6b26645464585a3fcf32505bf11ee": {
     "views": [
      {
       "cell_index": 2
      }
     ]
    },
    "2128b243e4f04a1cbaa5bc0f9935dcdd": {
     "views": [
      {
       "cell_index": 2
      }
     ]
    },
    "22de2a2c02f54ccc8b29d055bc9ffe57": {
     "views": [
      {
       "cell_index": 2
      }
     ]
    },
    "230732fb5b9c4c82b78f4504817ae76b": {
     "views": [
      {
       "cell_index": 2
      }
     ]
    },
    "232b359737264415b261ce6093527b85": {
     "views": [
      {
       "cell_index": 2
      }
     ]
    },
    "2397c57f4d004b6eb0fe2be25e1292d3": {
     "views": [
      {
       "cell_index": 2
      }
     ]
    },
    "23fb9321e4c84745aaef3ad336ac1500": {
     "views": [
      {
       "cell_index": 2
      }
     ]
    },
    "24061020da344b02b2dfb95ad49b87e9": {
     "views": [
      {
       "cell_index": 2
      }
     ]
    },
    "2557f8c454f24a35a5cde71c36a05611": {
     "views": [
      {
       "cell_index": 2
      }
     ]
    },
    "25c02cabc4114f66aa23395b566659ac": {
     "views": [
      {
       "cell_index": 2
      }
     ]
    },
    "26ada6a165984b5fa1137f873499b820": {
     "views": [
      {
       "cell_index": 2
      }
     ]
    },
    "272488b55c544b848da6c95b202d2621": {
     "views": [
      {
       "cell_index": 2
      }
     ]
    },
    "272f088f2bc1435fa9436ca24f106ac2": {
     "views": [
      {
       "cell_index": 2
      }
     ]
    },
    "276de5b28b604aa5a16dbac62b4a8124": {
     "views": [
      {
       "cell_index": 2
      }
     ]
    },
    "2775d3c97a5e4c49aeaf87645e38b2e5": {
     "views": [
      {
       "cell_index": 2
      }
     ]
    },
    "2780b450aea64b088259aaee7c5df264": {
     "views": [
      {
       "cell_index": 2
      }
     ]
    },
    "27e12f498c56489ca3e166f4fad8a0f7": {
     "views": [
      {
       "cell_index": 2
      }
     ]
    },
    "28045be0f31e48acb644438ca0379768": {
     "views": [
      {
       "cell_index": 2
      }
     ]
    },
    "2925d11b719a4140acf24f0e107f203e": {
     "views": [
      {
       "cell_index": 2
      }
     ]
    },
    "29533e9722c044c0bcbbf7fb6238f70c": {
     "views": [
      {
       "cell_index": 2
      }
     ]
    },
    "29721f48228240e6a87202152f9b410b": {
     "views": [
      {
       "cell_index": 2
      }
     ]
    },
    "29b346d90d0f44b88b227a0671cdd57a": {
     "views": [
      {
       "cell_index": 2
      }
     ]
    },
    "29dd6343830a4cbe95100b6861f49284": {
     "views": [
      {
       "cell_index": 2
      }
     ]
    },
    "2a3f149503bd4bd5b5fa9a7265b07587": {
     "views": [
      {
       "cell_index": 2
      }
     ]
    },
    "2a520b6111c6450bac2c05d0593726b6": {
     "views": [
      {
       "cell_index": 2
      }
     ]
    },
    "2a738ae215444d0da9bb43970be0e017": {
     "views": [
      {
       "cell_index": 2
      }
     ]
    },
    "2a84f1c3f7ff4ced890ba3537d94584b": {
     "views": [
      {
       "cell_index": 2
      }
     ]
    },
    "2ab70cd15c1f49c5b034f9ab8215cbde": {
     "views": [
      {
       "cell_index": 2
      }
     ]
    },
    "2ae4183bc6cb418782e29fdf3a65a705": {
     "views": [
      {
       "cell_index": 2
      }
     ]
    },
    "2b2661f780a8454583f90bf6b907ced1": {
     "views": [
      {
       "cell_index": 2
      }
     ]
    },
    "2b52f3d310794f0c978603cf9168c0ef": {
     "views": [
      {
       "cell_index": 2
      }
     ]
    },
    "2b7509489ec2432e9147d00d4e7ba1a3": {
     "views": [
      {
       "cell_index": 2
      }
     ]
    },
    "2ba567eb61644ac7a3c91473be6e1d03": {
     "views": [
      {
       "cell_index": 2
      }
     ]
    },
    "2bccbd3cd8e547f18f962256da6b89f3": {
     "views": [
      {
       "cell_index": 2
      }
     ]
    },
    "2bdbad649f264d58a041072abd0ad3ee": {
     "views": [
      {
       "cell_index": 2
      }
     ]
    },
    "2c02778478004bad9b22e598b9a7de49": {
     "views": [
      {
       "cell_index": 2
      }
     ]
    },
    "2c77e9e78c9444c6a552d04ef729033b": {
     "views": [
      {
       "cell_index": 2
      }
     ]
    },
    "2cf7b2cdd2ce4603bdb197cb44899fe8": {
     "views": [
      {
       "cell_index": 2
      }
     ]
    },
    "2d21b05492ed44b5b1cc3f218562971a": {
     "views": [
      {
       "cell_index": 2
      }
     ]
    },
    "2d539a2d0a7146e7bb1fb2ddd749f39b": {
     "views": [
      {
       "cell_index": 2
      }
     ]
    },
    "2d6b80897d8c4a3bb3a4a496b468716b": {
     "views": [
      {
       "cell_index": 2
      }
     ]
    },
    "2e3c7b9e7aff4202aef819c02b8b98f9": {
     "views": [
      {
       "cell_index": 2
      }
     ]
    },
    "2ecd312bd88945b09ea5bc7dd4ad7ea5": {
     "views": [
      {
       "cell_index": 2
      }
     ]
    },
    "2f80dfa247be4a93ab483d6a7d09d9d1": {
     "views": [
      {
       "cell_index": 2
      }
     ]
    },
    "2f8e80d4cce84b09a72f9748eb0fe3e9": {
     "views": [
      {
       "cell_index": 2
      }
     ]
    },
    "2fa8897b815b480a838a5d8bcc6470b6": {
     "views": [
      {
       "cell_index": 2
      }
     ]
    },
    "2fc737396a56470fb31fba44268482b7": {
     "views": [
      {
       "cell_index": 2
      }
     ]
    },
    "2fca5c528a8642cca0d9b68a18d4fcd5": {
     "views": [
      {
       "cell_index": 2
      }
     ]
    },
    "328ddd78659c469dbfc1a3afbb461a8f": {
     "views": [
      {
       "cell_index": 2
      }
     ]
    },
    "334daacdcca94cf1932fbd322ca149c4": {
     "views": [
      {
       "cell_index": 2
      }
     ]
    },
    "3394644239954415b9e62775d7b2abab": {
     "views": [
      {
       "cell_index": 2
      }
     ]
    },
    "33983d61ee604a52a62e0895cc0cb87e": {
     "views": [
      {
       "cell_index": 2
      }
     ]
    },
    "33ebefde0af841149c101ed33ceed7f2": {
     "views": [
      {
       "cell_index": 2
      }
     ]
    },
    "3477ccad0968487798ae25b75551c4f7": {
     "views": [
      {
       "cell_index": 2
      }
     ]
    },
    "34ade8f20dda47bb9d5a4e46e146f1c9": {
     "views": [
      {
       "cell_index": 2
      }
     ]
    },
    "34cad95550b0468d94f86a9d9a35b184": {
     "views": [
      {
       "cell_index": 2
      }
     ]
    },
    "34dce4ccca084f39aaeb803f4f1db217": {
     "views": [
      {
       "cell_index": 2
      }
     ]
    },
    "357ee43e01b24bc3a0060bd55b8a49b9": {
     "views": [
      {
       "cell_index": 2
      }
     ]
    },
    "35971d4fd14545e38d563d398c759160": {
     "views": [
      {
       "cell_index": 2
      }
     ]
    },
    "35dc7002edb444149c68bf882142fb86": {
     "views": [
      {
       "cell_index": 2
      }
     ]
    },
    "361a06f66f9a4fb2a47ce40a2e27f150": {
     "views": [
      {
       "cell_index": 2
      }
     ]
    },
    "362c61f2588540c086ec2b740afa07b4": {
     "views": [
      {
       "cell_index": 2
      }
     ]
    },
    "373523fa40654f939aeaa9a5e6de378f": {
     "views": [
      {
       "cell_index": 2
      }
     ]
    },
    "38f205702399419ca6a6af032010053a": {
     "views": [
      {
       "cell_index": 2
      }
     ]
    },
    "38fd090cf8764b8cac6bf53d9af92304": {
     "views": [
      {
       "cell_index": 2
      }
     ]
    },
    "38fde002bf80450d870333728e3742db": {
     "views": [
      {
       "cell_index": 2
      }
     ]
    },
    "39cbe4602d5f49a7a78d0e964e21f3e2": {
     "views": [
      {
       "cell_index": 2
      }
     ]
    },
    "39e75da625f1491c994d6b3ee58ffd8c": {
     "views": [
      {
       "cell_index": 2
      }
     ]
    },
    "3a709354a64c491aafac19ab94458d05": {
     "views": [
      {
       "cell_index": 2
      }
     ]
    },
    "3c4710e9d0124cffb440186e41713749": {
     "views": [
      {
       "cell_index": 2
      }
     ]
    },
    "3d333a42b29141f0b0e6094f22a4cc2b": {
     "views": [
      {
       "cell_index": 2
      }
     ]
    },
    "3d72756550344fd799b9cc36dfc12527": {
     "views": [
      {
       "cell_index": 2
      }
     ]
    },
    "3d7398944b7a4f899b124b5d9c74916f": {
     "views": [
      {
       "cell_index": 2
      }
     ]
    },
    "3d99cb047e1549f6ae2b6ca27ab607da": {
     "views": [
      {
       "cell_index": 2
      }
     ]
    },
    "3da15384503f42e79db3cd00e920515d": {
     "views": [
      {
       "cell_index": 2
      }
     ]
    },
    "3dc85c4a29724b8ba8a99e574b787343": {
     "views": [
      {
       "cell_index": 2
      }
     ]
    },
    "3de7aaef1c0144f3a170f88854ca8f48": {
     "views": [
      {
       "cell_index": 2
      }
     ]
    },
    "3dfa3faa3c6847aab271c2b118b732c5": {
     "views": [
      {
       "cell_index": 2
      }
     ]
    },
    "3dffd57d0b39464581dc489c320538c8": {
     "views": [
      {
       "cell_index": 2
      }
     ]
    },
    "3e7c9929c99448f7a2045f0cc9902422": {
     "views": [
      {
       "cell_index": 2
      }
     ]
    },
    "3f343d8b5419441f90ab104490fc8df3": {
     "views": [
      {
       "cell_index": 2
      }
     ]
    },
    "3f35245d72694985972c6380e8e4ba9e": {
     "views": [
      {
       "cell_index": 2
      }
     ]
    },
    "3f650bf761a948988f04da549f9c4a1a": {
     "views": [
      {
       "cell_index": 2
      }
     ]
    },
    "407abfdccd1b44209c588160c05b9093": {
     "views": [
      {
       "cell_index": 2
      }
     ]
    },
    "40d3ac9daa7e49a682f80e7e237f3a5b": {
     "views": [
      {
       "cell_index": 2
      }
     ]
    },
    "41210b2a832641c1af3e353f2b4e5925": {
     "views": [
      {
       "cell_index": 2
      }
     ]
    },
    "415ec9b5bb6a4a729ba1f6689fbb8c52": {
     "views": [
      {
       "cell_index": 2
      }
     ]
    },
    "41aa05e53b174d6d8e72e6549b21789d": {
     "views": [
      {
       "cell_index": 2
      }
     ]
    },
    "41d792aa44f44505a1df96c1fdb9a911": {
     "views": [
      {
       "cell_index": 2
      }
     ]
    },
    "422e6ee1f58a40b1baf22b08d186853c": {
     "views": [
      {
       "cell_index": 2
      }
     ]
    },
    "425cf95c91944ee5a3fe8854d123b9ce": {
     "views": [
      {
       "cell_index": 2
      }
     ]
    },
    "425e0841d34a4736a3ee3b51d19438cb": {
     "views": [
      {
       "cell_index": 2
      }
     ]
    },
    "42d47839ad08443796520606737ad9eb": {
     "views": [
      {
       "cell_index": 2
      }
     ]
    },
    "43221251888f435c9f7eb8d7b7b4a13c": {
     "views": [
      {
       "cell_index": 2
      }
     ]
    },
    "433b7bd54dae4e9da038c82fe01b295d": {
     "views": [
      {
       "cell_index": 2
      }
     ]
    },
    "43c86d0315a4406baa7e40e7730eae82": {
     "views": [
      {
       "cell_index": 2
      }
     ]
    },
    "44095ec04bb44aa5b6a34fae6ee5e048": {
     "views": [
      {
       "cell_index": 2
      }
     ]
    },
    "441846e415194696885ee38aa7e70d47": {
     "views": [
      {
       "cell_index": 2
      }
     ]
    },
    "44524efdaded41b0bdf4fd2a5fb96f65": {
     "views": [
      {
       "cell_index": 2
      }
     ]
    },
    "44bde8ffb038433c9a8bf883178a8960": {
     "views": [
      {
       "cell_index": 2
      }
     ]
    },
    "44cce708c89d463997108361183169a0": {
     "views": [
      {
       "cell_index": 2
      }
     ]
    },
    "45359716e7314566b2f86613be9fc0e2": {
     "views": [
      {
       "cell_index": 2
      }
     ]
    },
    "45b2b55eeb5b4d68932f525385d37345": {
     "views": [
      {
       "cell_index": 2
      }
     ]
    },
    "45e7474eb175497ca72b90f66bc29cb7": {
     "views": [
      {
       "cell_index": 2
      }
     ]
    },
    "468c734005de42d782bde7f7587d915a": {
     "views": [
      {
       "cell_index": 2
      }
     ]
    },
    "46db1821e5af473d82a824db3151eaa0": {
     "views": [
      {
       "cell_index": 2
      }
     ]
    },
    "47a2076f5d6e41a888f4cc2388655366": {
     "views": [
      {
       "cell_index": 2
      }
     ]
    },
    "47f9fca1fd314550ab7a65b5c3e73354": {
     "views": [
      {
       "cell_index": 2
      }
     ]
    },
    "482823f740fd46ae805171ca2c2877a0": {
     "views": [
      {
       "cell_index": 2
      }
     ]
    },
    "4893521518014781a2572a068a58c148": {
     "views": [
      {
       "cell_index": 2
      }
     ]
    },
    "4975b64b809443c7910079e373dd1617": {
     "views": [
      {
       "cell_index": 2
      }
     ]
    },
    "49d7777d7d2d420cabf1fa5bfda5987e": {
     "views": [
      {
       "cell_index": 2
      }
     ]
    },
    "4a6b3e1253fa4565ba8188e74df0ffa0": {
     "views": [
      {
       "cell_index": 2
      }
     ]
    },
    "4a76e0c4d6904dd1977717ac8d4836d3": {
     "views": [
      {
       "cell_index": 2
      }
     ]
    },
    "4a78d55891754bf1acdc2e7846a8342e": {
     "views": [
      {
       "cell_index": 2
      }
     ]
    },
    "4af1b4f138e94ad49e9c3ea0604f1b4f": {
     "views": [
      {
       "cell_index": 2
      }
     ]
    },
    "4b20ede364de45e081170286075994dc": {
     "views": [
      {
       "cell_index": 2
      }
     ]
    },
    "4b9f521c6e034c9cb5a9fe469d9407ea": {
     "views": [
      {
       "cell_index": 2
      }
     ]
    },
    "4c10c7e80b3f4425bd3f6422fa08a09e": {
     "views": [
      {
       "cell_index": 2
      }
     ]
    },
    "4c281f30417b45429d39e7da17a6120c": {
     "views": [
      {
       "cell_index": 2
      }
     ]
    },
    "4cd7380ca13349829126090f76b44775": {
     "views": [
      {
       "cell_index": 2
      }
     ]
    },
    "4cf493da5e054802bb18c81721248029": {
     "views": [
      {
       "cell_index": 2
      }
     ]
    },
    "4d2f8fbdfb584fc59669ca7dc836527c": {
     "views": [
      {
       "cell_index": 2
      }
     ]
    },
    "4d88846ade654a25b32dbff866e15ef9": {
     "views": [
      {
       "cell_index": 2
      }
     ]
    },
    "4d93d3e7280f4d93912cd63ca7085c5e": {
     "views": [
      {
       "cell_index": 2
      }
     ]
    },
    "4e01d17a59a247f199ce25fc98c017d9": {
     "views": [
      {
       "cell_index": 2
      }
     ]
    },
    "4ec0ea417ff34a4ba10644650465daa7": {
     "views": [
      {
       "cell_index": 2
      }
     ]
    },
    "4f7355d8d3424071a54012fa690f20ec": {
     "views": [
      {
       "cell_index": 2
      }
     ]
    },
    "4facb6fb7a064bda9de7d632f0e2132f": {
     "views": [
      {
       "cell_index": 2
      }
     ]
    },
    "50deb3ac665c493c94fa3258cb1280a6": {
     "views": [
      {
       "cell_index": 2
      }
     ]
    },
    "515c1794586e49fd930b4074ccd9a237": {
     "views": [
      {
       "cell_index": 2
      }
     ]
    },
    "5177b9fb61e34d62ad165b5b2f3e33af": {
     "views": [
      {
       "cell_index": 2
      }
     ]
    },
    "517ded5e80934808ae41b928b9fdd1e1": {
     "views": [
      {
       "cell_index": 2
      }
     ]
    },
    "5180158ee9304966b6d852632ba05258": {
     "views": [
      {
       "cell_index": 2
      }
     ]
    },
    "51c45286e3d54da98814a856ab9f4606": {
     "views": [
      {
       "cell_index": 2
      }
     ]
    },
    "525212885be046419532796f895c09f2": {
     "views": [
      {
       "cell_index": 2
      }
     ]
    },
    "526be16a8ebe4358b4570782f8056351": {
     "views": [
      {
       "cell_index": 2
      }
     ]
    },
    "530554a3b9994eb7b64f76435820142f": {
     "views": [
      {
       "cell_index": 2
      }
     ]
    },
    "532b8abe36534629b0be7f1f0ae9bfd9": {
     "views": [
      {
       "cell_index": 2
      }
     ]
    },
    "537052a1881d493f9ecd2f1efb70ac20": {
     "views": [
      {
       "cell_index": 2
      }
     ]
    },
    "5373ffd0e4f4446da236ea1880904798": {
     "views": [
      {
       "cell_index": 2
      }
     ]
    },
    "544ae86ab0bf4a1caa8bd5e92a89c12b": {
     "views": [
      {
       "cell_index": 2
      }
     ]
    },
    "545d25288adc47c7acbd5ba51e7f86db": {
     "views": [
      {
       "cell_index": 2
      }
     ]
    },
    "548393d3d9014203b9659788fb6dd5a6": {
     "views": [
      {
       "cell_index": 2
      }
     ]
    },
    "5547358d8f68413b8529bca7a3404d29": {
     "views": [
      {
       "cell_index": 2
      }
     ]
    },
    "55f7fdf3ef454d40a560b02d3366e637": {
     "views": [
      {
       "cell_index": 2
      }
     ]
    },
    "562c1a9f43da470982630606fd1fce53": {
     "views": [
      {
       "cell_index": 2
      }
     ]
    },
    "5630a66dd5bd4a3a926117bfb3c6d9aa": {
     "views": [
      {
       "cell_index": 2
      }
     ]
    },
    "565184f61f9c481096723e81d0e66921": {
     "views": [
      {
       "cell_index": 2
      }
     ]
    },
    "56b57aa0061f456780ad43fe992d9f20": {
     "views": [
      {
       "cell_index": 2
      }
     ]
    },
    "56bf2be894ff4d92bae1fe725462ce1c": {
     "views": [
      {
       "cell_index": 2
      }
     ]
    },
    "570ab60c47d648508f52b153c4c6d461": {
     "views": [
      {
       "cell_index": 2
      }
     ]
    },
    "574cff0f34334674ae52a4bc3140dc99": {
     "views": [
      {
       "cell_index": 2
      }
     ]
    },
    "5775671212254d5ba22841d9edad31fb": {
     "views": [
      {
       "cell_index": 2
      }
     ]
    },
    "5789602d3e5c49c1b22f58c28b8d68ee": {
     "views": [
      {
       "cell_index": 2
      }
     ]
    },
    "57a05dad97444e77aafc5d054215ca7c": {
     "views": [
      {
       "cell_index": 2
      }
     ]
    },
    "57c58f51a73a4560b18f77b6c7511147": {
     "views": [
      {
       "cell_index": 2
      }
     ]
    },
    "58611ba98e97433e993324ec61fa72ee": {
     "views": [
      {
       "cell_index": 2
      }
     ]
    },
    "591d0265a5b0470c9890d8364096992a": {
     "views": [
      {
       "cell_index": 2
      }
     ]
    },
    "592c497d21914011afb383b193d22957": {
     "views": [
      {
       "cell_index": 2
      }
     ]
    },
    "5976c21ab25444f881bc8085951db888": {
     "views": [
      {
       "cell_index": 2
      }
     ]
    },
    "5a0deba5e3004ef1a85fda4aa89cc6bc": {
     "views": [
      {
       "cell_index": 2
      }
     ]
    },
    "5aac3c181a8c46ec9f99579d58390183": {
     "views": [
      {
       "cell_index": 2
      }
     ]
    },
    "5b00020be3d84551b6e492f6b5e124eb": {
     "views": [
      {
       "cell_index": 2
      }
     ]
    },
    "5bc1886b947e4a1a8e146dc2bb3650fe": {
     "views": [
      {
       "cell_index": 2
      }
     ]
    },
    "5bf3e1925fc7438ab13e1478346b2702": {
     "views": [
      {
       "cell_index": 2
      }
     ]
    },
    "5c4e577e7e904322bdf731c5dfe63590": {
     "views": [
      {
       "cell_index": 2
      }
     ]
    },
    "5d717ec94d314ce4a00a56e748a3695c": {
     "views": [
      {
       "cell_index": 2
      }
     ]
    },
    "5d7fb623f272423fa6acfb5f24fc2644": {
     "views": [
      {
       "cell_index": 2
      }
     ]
    },
    "5d97942d87ff472e9a70d226ac268e52": {
     "views": [
      {
       "cell_index": 2
      }
     ]
    },
    "5db1bff1a9814a9198c05bb7fd4d8d9a": {
     "views": [
      {
       "cell_index": 2
      }
     ]
    },
    "5e09977db4a04c3db1cff6884d898fe1": {
     "views": [
      {
       "cell_index": 2
      }
     ]
    },
    "5e0e37f65eae4ea1adaa7c12aa2d7769": {
     "views": [
      {
       "cell_index": 2
      }
     ]
    },
    "5e63bb4d023c4e66b39d4936af014acf": {
     "views": [
      {
       "cell_index": 2
      }
     ]
    },
    "5ec2a3ec2aa349a68c2cc8974c470ba9": {
     "views": [
      {
       "cell_index": 2
      }
     ]
    },
    "5f08ceef33bf4d4fa21ebb2b08a4389b": {
     "views": [
      {
       "cell_index": 2
      }
     ]
    },
    "5f34120a0e4a4889a31e96f5f895f451": {
     "views": [
      {
       "cell_index": 2
      }
     ]
    },
    "5f370aad2d724d779de26e2e21341549": {
     "views": [
      {
       "cell_index": 2
      }
     ]
    },
    "5f4f34ec924741babe024a0d68dd145a": {
     "views": [
      {
       "cell_index": 2
      }
     ]
    },
    "5f5cfab409bd4bca885a20c88da3da84": {
     "views": [
      {
       "cell_index": 2
      }
     ]
    },
    "5f6fbe35691849ec9c2019908edec741": {
     "views": [
      {
       "cell_index": 2
      }
     ]
    },
    "6012d3b747314aa5aca943e0c283635f": {
     "views": [
      {
       "cell_index": 2
      }
     ]
    },
    "60577e77c4b345d6a3d6ee3435fcb983": {
     "views": [
      {
       "cell_index": 2
      }
     ]
    },
    "61c623767d65409b8f148f20c6e3f250": {
     "views": [
      {
       "cell_index": 2
      }
     ]
    },
    "61d039710ed34221bb833627e3c50eba": {
     "views": [
      {
       "cell_index": 2
      }
     ]
    },
    "620d29801c0d443dbe75db207fbcc816": {
     "views": [
      {
       "cell_index": 2
      }
     ]
    },
    "625cf36b85d349e389eb8fbaef262377": {
     "views": [
      {
       "cell_index": 2
      }
     ]
    },
    "62684fdda4b346b1ba8fe63cf85f0440": {
     "views": [
      {
       "cell_index": 2
      }
     ]
    },
    "6276603ac8394a23ab5e7667a54b1343": {
     "views": [
      {
       "cell_index": 2
      }
     ]
    },
    "62fcc4ddbe1e436da4c812c21150d549": {
     "views": [
      {
       "cell_index": 2
      }
     ]
    },
    "631693b3108145d684417e5d0858495e": {
     "views": [
      {
       "cell_index": 2
      }
     ]
    },
    "631881d223da4eb890d5fc96710bed18": {
     "views": [
      {
       "cell_index": 2
      }
     ]
    },
    "63cf823de78d4d3f85ce5b35df6ef280": {
     "views": [
      {
       "cell_index": 2
      }
     ]
    },
    "6400361c5dda499ba08234b2a637471f": {
     "views": [
      {
       "cell_index": 2
      }
     ]
    },
    "647fa5f5bcc14a16aa157bd8b37c95b2": {
     "views": [
      {
       "cell_index": 2
      }
     ]
    },
    "64a8545d33c64f7994d98b7eca745095": {
     "views": [
      {
       "cell_index": 2
      }
     ]
    },
    "664e2d5938e94823aa0a84792dc3695a": {
     "views": [
      {
       "cell_index": 2
      }
     ]
    },
    "66cd29003b3e40faab893f3f38198cb0": {
     "views": [
      {
       "cell_index": 2
      }
     ]
    },
    "6766e1c6d00840f78649a22219fbf3ba": {
     "views": [
      {
       "cell_index": 2
      }
     ]
    },
    "678953ab51ce4b95b41077d6bc16d139": {
     "views": [
      {
       "cell_index": 2
      }
     ]
    },
    "678e043b208144ad9396fb6dd606d4af": {
     "views": [
      {
       "cell_index": 2
      }
     ]
    },
    "67d6b72d135a44c89bee8906095d0ea3": {
     "views": [
      {
       "cell_index": 2
      }
     ]
    },
    "690ca7c733f345d8b4cc7da896265517": {
     "views": [
      {
       "cell_index": 2
      }
     ]
    },
    "69a4d28c69bc479488f14687bacd0f0f": {
     "views": [
      {
       "cell_index": 2
      }
     ]
    },
    "6b991ca2be8f4215a856798a1bb8245a": {
     "views": [
      {
       "cell_index": 2
      }
     ]
    },
    "6bb5997d7cf1488382ffdad01441372c": {
     "views": [
      {
       "cell_index": 2
      }
     ]
    },
    "6be8ed6ffbd9469790f18bd390c164a0": {
     "views": [
      {
       "cell_index": 2
      }
     ]
    },
    "6bf8ee388a734a579ab97b6450db4040": {
     "views": [
      {
       "cell_index": 2
      }
     ]
    },
    "6c329f013f0e4ad29d12926819f5f9ad": {
     "views": [
      {
       "cell_index": 2
      }
     ]
    },
    "6cc429e1401a4005b035146c8dbfb03a": {
     "views": [
      {
       "cell_index": 2
      }
     ]
    },
    "6d56cd3cad164e0f8e2937068b391859": {
     "views": [
      {
       "cell_index": 2
      }
     ]
    },
    "6db94ee5fb41472abd446749ab17f5ac": {
     "views": [
      {
       "cell_index": 2
      }
     ]
    },
    "6e173021b843475c9ea619390353a247": {
     "views": [
      {
       "cell_index": 2
      }
     ]
    },
    "6f5f8a85fae840829cbed039c10cb365": {
     "views": [
      {
       "cell_index": 2
      }
     ]
    },
    "702ef42e3d554bdd9a21dc768d47018c": {
     "views": [
      {
       "cell_index": 2
      }
     ]
    },
    "7138266395e94a8b8190f424b4d60604": {
     "views": [
      {
       "cell_index": 2
      }
     ]
    },
    "7146430171be40e1a7790f2ab0fd8f93": {
     "views": [
      {
       "cell_index": 2
      }
     ]
    },
    "731df5312da24916b78dd180c055c8c4": {
     "views": [
      {
       "cell_index": 2
      }
     ]
    },
    "73822b0363234d419d65476059de7116": {
     "views": [
      {
       "cell_index": 2
      }
     ]
    },
    "73ca883040244bae92808d68997d05d5": {
     "views": [
      {
       "cell_index": 2
      }
     ]
    },
    "73e480a336954e14988c0c1d990e4bc9": {
     "views": [
      {
       "cell_index": 2
      }
     ]
    },
    "74197f3b1ef24f2d92b45814bf783e30": {
     "views": [
      {
       "cell_index": 2
      }
     ]
    },
    "74403a4ba7b14da7bfbb894d2718874a": {
     "views": [
      {
       "cell_index": 2
      }
     ]
    },
    "7581ef1868894a4fba232a0f89b61fe6": {
     "views": [
      {
       "cell_index": 2
      }
     ]
    },
    "759c795a64274de1b78699ec750196fe": {
     "views": [
      {
       "cell_index": 2
      }
     ]
    },
    "75e2aefa9ad54dafba324b1965daecec": {
     "views": [
      {
       "cell_index": 2
      }
     ]
    },
    "75ee6a2dc4f9435b86ed4c5471df6f3e": {
     "views": [
      {
       "cell_index": 2
      }
     ]
    },
    "761375b2d2fa4b449a927f95dc29940c": {
     "views": [
      {
       "cell_index": 2
      }
     ]
    },
    "7689e70ac50b4c1a9b923fccc1b26623": {
     "views": [
      {
       "cell_index": 2
      }
     ]
    },
    "7731f9f8855841e9a3dc4b2a8b81631e": {
     "views": [
      {
       "cell_index": 2
      }
     ]
    },
    "779da7b49c57482cb975ca5cd167eea4": {
     "views": [
      {
       "cell_index": 2
      }
     ]
    },
    "77b856596d8945d8b2c9987c9465f7f2": {
     "views": [
      {
       "cell_index": 2
      }
     ]
    },
    "77f332a1c9114d28a608bfb6fe20d699": {
     "views": [
      {
       "cell_index": 2
      }
     ]
    },
    "789b23553fd046618d7be068e517740a": {
     "views": [
      {
       "cell_index": 2
      }
     ]
    },
    "78be4c9e169d416a92aea3e594318445": {
     "views": [
      {
       "cell_index": 2
      }
     ]
    },
    "78c1126b061e491f9139fd7b2c1b8639": {
     "views": [
      {
       "cell_index": 2
      }
     ]
    },
    "7938aab5a7f04b30aa39ddc4785a08be": {
     "views": [
      {
       "cell_index": 2
      }
     ]
    },
    "798545dd3b2545dea9e8704f13363dfe": {
     "views": [
      {
       "cell_index": 2
      }
     ]
    },
    "79f1674958a54294b54d2a080c78ea7a": {
     "views": [
      {
       "cell_index": 2
      }
     ]
    },
    "7a73ddbf922e4fdbbf6aa067e1df4a35": {
     "views": [
      {
       "cell_index": 2
      }
     ]
    },
    "7aaf0b768e4342baa1e7ebfb547ff646": {
     "views": [
      {
       "cell_index": 2
      }
     ]
    },
    "7aef92dfe7ee4cc8b681ddd5c5c9c429": {
     "views": [
      {
       "cell_index": 2
      }
     ]
    },
    "7b4c52bb0f4d4f09bcd5e563280b063a": {
     "views": [
      {
       "cell_index": 2
      }
     ]
    },
    "7bc37443736341029a5e218567a86546": {
     "views": [
      {
       "cell_index": 2
      }
     ]
    },
    "7bda73ee9d54471999f0ef59270f6a12": {
     "views": [
      {
       "cell_index": 2
      }
     ]
    },
    "7bea1bd6834f44638d7a288b0c1e6030": {
     "views": [
      {
       "cell_index": 2
      }
     ]
    },
    "7c51d5cf97f64ce087571e8b9a0e6630": {
     "views": [
      {
       "cell_index": 2
      }
     ]
    },
    "7c6ba2176a924f32be153c605e35cd6a": {
     "views": [
      {
       "cell_index": 2
      }
     ]
    },
    "7cc169f2de5346ba84de1d286bb1096d": {
     "views": [
      {
       "cell_index": 2
      }
     ]
    },
    "7cda84e8d0ed4a42b75250d19b84b78d": {
     "views": [
      {
       "cell_index": 2
      }
     ]
    },
    "7d67df095a80488faf08b25559d8a1e8": {
     "views": [
      {
       "cell_index": 2
      }
     ]
    },
    "7deda23ad0eb4a5890a09b0147fdc815": {
     "views": [
      {
       "cell_index": 2
      }
     ]
    },
    "7e171e51a3334306947001b2a57e38f7": {
     "views": [
      {
       "cell_index": 2
      }
     ]
    },
    "7e3e4fd46da34443b72eee9142ce826a": {
     "views": [
      {
       "cell_index": 2
      }
     ]
    },
    "7e7b2d756dd1401188b0309a05777765": {
     "views": [
      {
       "cell_index": 2
      }
     ]
    },
    "7e827883e5954f26ace02f16b55fdded": {
     "views": [
      {
       "cell_index": 2
      }
     ]
    },
    "7ea3c770971e49a3a7c058ca16767071": {
     "views": [
      {
       "cell_index": 2
      }
     ]
    },
    "7f0ef2a79c8d4775a3290a60fbee51d4": {
     "views": [
      {
       "cell_index": 2
      }
     ]
    },
    "7f86fe112d8b49d9a3f1c6c2fcf775c2": {
     "views": [
      {
       "cell_index": 2
      }
     ]
    },
    "7f8b048a1d2a46599e8f254df7a2f997": {
     "views": [
      {
       "cell_index": 2
      }
     ]
    },
    "7f91db6aa04c4bf5a5e1b1a45f611ea3": {
     "views": [
      {
       "cell_index": 2
      }
     ]
    },
    "7fa2548181d84295bdd53aa164279bdf": {
     "views": [
      {
       "cell_index": 2
      }
     ]
    },
    "7fa2e79836ff4c31948736f4246d32c8": {
     "views": [
      {
       "cell_index": 2
      }
     ]
    },
    "7fc0b22912834bf99e08dc7ed5262d51": {
     "views": [
      {
       "cell_index": 2
      }
     ]
    },
    "80532e88cc6743ee9ac94c3bb6838c06": {
     "views": [
      {
       "cell_index": 2
      }
     ]
    },
    "807fe20238d14d2b9d9c3203226effae": {
     "views": [
      {
       "cell_index": 2
      }
     ]
    },
    "808618deade648218cd8b714789d3155": {
     "views": [
      {
       "cell_index": 2
      }
     ]
    },
    "80e55a4882e84be2ab5389250adca273": {
     "views": [
      {
       "cell_index": 2
      }
     ]
    },
    "8120ba7a825342509ef08aa8bcbc7f1f": {
     "views": [
      {
       "cell_index": 2
      }
     ]
    },
    "81980bcc45234b5aba14114300715320": {
     "views": [
      {
       "cell_index": 2
      }
     ]
    },
    "81bf53e57d42464ab42ad35e156c683d": {
     "views": [
      {
       "cell_index": 2
      }
     ]
    },
    "81f4dde5c0b54e2f9afcfd8642493219": {
     "views": [
      {
       "cell_index": 2
      }
     ]
    },
    "8231734db80e40cdbb7ea7062c63bedb": {
     "views": [
      {
       "cell_index": 2
      }
     ]
    },
    "828133efb6cd43618c6e9d6ea62568d3": {
     "views": [
      {
       "cell_index": 2
      }
     ]
    },
    "829ecdb2d4024858954275f3e930108c": {
     "views": [
      {
       "cell_index": 2
      }
     ]
    },
    "830ce9aa09de4daabd001d42734f7d4e": {
     "views": [
      {
       "cell_index": 2
      }
     ]
    },
    "835ce5f83f504e308cd80abafcab4d2c": {
     "views": [
      {
       "cell_index": 2
      }
     ]
    },
    "83675a0ccb3041a7b2977b20aa004e9e": {
     "views": [
      {
       "cell_index": 2
      }
     ]
    },
    "837d43ffb56a4af4b6a95662c2363d06": {
     "views": [
      {
       "cell_index": 2
      }
     ]
    },
    "844868d7257c4f2b9a59820be05e2159": {
     "views": [
      {
       "cell_index": 2
      }
     ]
    },
    "845597643a57441d9a4e1671fde3c766": {
     "views": [
      {
       "cell_index": 2
      }
     ]
    },
    "84651c6bc87044d5a184f5e3602f3125": {
     "views": [
      {
       "cell_index": 2
      }
     ]
    },
    "84f9dfb9d38c46a79fbccc4dd32dffb8": {
     "views": [
      {
       "cell_index": 2
      }
     ]
    },
    "84fe26736a7749e48f8c4009f00a0da5": {
     "views": [
      {
       "cell_index": 2
      }
     ]
    },
    "8502556abeb444c4ac426a065a301b23": {
     "views": [
      {
       "cell_index": 2
      }
     ]
    },
    "851d4e398f794472be4df10a021cf014": {
     "views": [
      {
       "cell_index": 2
      }
     ]
    },
    "85269eea1e6b4242b439c79ee26da188": {
     "views": [
      {
       "cell_index": 2
      }
     ]
    },
    "8574d15142cb4e8d8c65e6fb1c11f02f": {
     "views": [
      {
       "cell_index": 2
      }
     ]
    },
    "8596e791362b4820a4fd18cfc3c64373": {
     "views": [
      {
       "cell_index": 2
      }
     ]
    },
    "85b70b88ce734f9289de120e60883c2a": {
     "views": [
      {
       "cell_index": 2
      }
     ]
    },
    "86259abb36744e349e92fae63e433a08": {
     "views": [
      {
       "cell_index": 2
      }
     ]
    },
    "86a29a3d32f74135b8a7ed43b3661de0": {
     "views": [
      {
       "cell_index": 2
      }
     ]
    },
    "87da4dd08da64e638fc708036164752c": {
     "views": [
      {
       "cell_index": 2
      }
     ]
    },
    "881cc7e8ebe64a8e8fb98d084ffc46ad": {
     "views": [
      {
       "cell_index": 2
      }
     ]
    },
    "88ddc2cdd7cb473b80e0b6be27c3319f": {
     "views": [
      {
       "cell_index": 2
      }
     ]
    },
    "891cb5c0c4a547dd94ac1a7eb5bdaee3": {
     "views": [
      {
       "cell_index": 2
      }
     ]
    },
    "8949a6bb4fb34c018129dd9e2f8f869c": {
     "views": [
      {
       "cell_index": 2
      }
     ]
    },
    "89fe2932e9e54bf49b90ff94ba898fb9": {
     "views": [
      {
       "cell_index": 2
      }
     ]
    },
    "8a8839ccb6b64aefa568c027bbeffd36": {
     "views": [
      {
       "cell_index": 2
      }
     ]
    },
    "8a8ab08548514ba9a334cb29996a1f57": {
     "views": [
      {
       "cell_index": 2
      }
     ]
    },
    "8afc865182d946169dd3c58fcc989e17": {
     "views": [
      {
       "cell_index": 2
      }
     ]
    },
    "8b02b29a1e674be599fece16fcc9ff03": {
     "views": [
      {
       "cell_index": 2
      }
     ]
    },
    "8b2f7bfe147248d993b44873261c8b79": {
     "views": [
      {
       "cell_index": 2
      }
     ]
    },
    "8b5a95bc45694079a2367da7e7cbd0bb": {
     "views": [
      {
       "cell_index": 2
      }
     ]
    },
    "8b7bec9842fe443b8475e1ac54235be4": {
     "views": [
      {
       "cell_index": 2
      }
     ]
    },
    "8be04a2cb08b483e886fad539618dbe2": {
     "views": [
      {
       "cell_index": 2
      }
     ]
    },
    "8c01486264c64bf3b815b6dc0a663622": {
     "views": [
      {
       "cell_index": 2
      }
     ]
    },
    "8c4eccb25c844ad4896352b1ce9bd481": {
     "views": [
      {
       "cell_index": 2
      }
     ]
    },
    "8cb15fb055c8464a8268ee95f8ee4b16": {
     "views": [
      {
       "cell_index": 2
      }
     ]
    },
    "8d44a6736d244ec9b5005beee6b67cfb": {
     "views": [
      {
       "cell_index": 2
      }
     ]
    },
    "8d9093fe77eb44028cac7dd390f8c26c": {
     "views": [
      {
       "cell_index": 2
      }
     ]
    },
    "8ea1ed2777484a8a9eff58cfda424ba6": {
     "views": [
      {
       "cell_index": 2
      }
     ]
    },
    "8eb797ba31be4e69861409c2a9304161": {
     "views": [
      {
       "cell_index": 2
      }
     ]
    },
    "8ef9895654304265929ad980922f658d": {
     "views": [
      {
       "cell_index": 2
      }
     ]
    },
    "8f3d08f8a6504398bb2c37d6a933edc6": {
     "views": [
      {
       "cell_index": 2
      }
     ]
    },
    "8f701de7d0ec401eb12087309a49598a": {
     "views": [
      {
       "cell_index": 2
      }
     ]
    },
    "902f5990c0a648cbaba8560dda80d77f": {
     "views": [
      {
       "cell_index": 2
      }
     ]
    },
    "90de7be3149a414d93ff0df04fa791bf": {
     "views": [
      {
       "cell_index": 2
      }
     ]
    },
    "9121a8fc2822434688e01de23d11a088": {
     "views": [
      {
       "cell_index": 2
      }
     ]
    },
    "916d4e1064a641b8824a73ff3ad54370": {
     "views": [
      {
       "cell_index": 2
      }
     ]
    },
    "91891ff4e968420c832872e1be75baa7": {
     "views": [
      {
       "cell_index": 2
      }
     ]
    },
    "91a2363a6b8a4e878d06e9a1cc3960c1": {
     "views": [
      {
       "cell_index": 2
      }
     ]
    },
    "9268d4ad7d7c4c7e9464d222bd8855f9": {
     "views": [
      {
       "cell_index": 2
      }
     ]
    },
    "92ec45deca014032838c34b6abc218d6": {
     "views": [
      {
       "cell_index": 2
      }
     ]
    },
    "92f7851ae45348d2a611b5b00e8fb5c7": {
     "views": [
      {
       "cell_index": 2
      }
     ]
    },
    "931085b1f8394de589cc26d165ec0fe4": {
     "views": [
      {
       "cell_index": 2
      }
     ]
    },
    "934b25ac61814cf8938a4de485f03eb7": {
     "views": [
      {
       "cell_index": 2
      }
     ]
    },
    "9359f2220f8d4f818e98ed2e090ec35d": {
     "views": [
      {
       "cell_index": 2
      }
     ]
    },
    "938877cacfb1486a821b315d9cda5eae": {
     "views": [
      {
       "cell_index": 2
      }
     ]
    },
    "949334a6454749b88c71e251b359dbb2": {
     "views": [
      {
       "cell_index": 2
      }
     ]
    },
    "950bd083943e494ca18f662028e7be28": {
     "views": [
      {
       "cell_index": 2
      }
     ]
    },
    "958b65a7073c4620a5727aea32239e8d": {
     "views": [
      {
       "cell_index": 2
      }
     ]
    },
    "95a16b6eb36e4b10861d4a7e601610b1": {
     "views": [
      {
       "cell_index": 2
      }
     ]
    },
    "9643fc8873c94336a47d42bc9866d0b5": {
     "views": [
      {
       "cell_index": 2
      }
     ]
    },
    "96911faaf3b8423596a37226db01644f": {
     "views": [
      {
       "cell_index": 2
      }
     ]
    },
    "96e87059016841bebd38e63014083980": {
     "views": [
      {
       "cell_index": 2
      }
     ]
    },
    "96ee9cf78bf9497f82a6e40fba878d17": {
     "views": [
      {
       "cell_index": 2
      }
     ]
    },
    "97148bfe186f497e86445b7230c088ec": {
     "views": [
      {
       "cell_index": 2
      }
     ]
    },
    "9728bd5311a3480087a128f18abd339e": {
     "views": [
      {
       "cell_index": 2
      }
     ]
    },
    "9753fea17fc54e9cbe66e7c0e544fd69": {
     "views": [
      {
       "cell_index": 2
      }
     ]
    },
    "97756b0d69194d9dbd8ff4deb47b74fd": {
     "views": [
      {
       "cell_index": 2
      }
     ]
    },
    "977d9fa15399429a979eadaad967102b": {
     "views": [
      {
       "cell_index": 2
      }
     ]
    },
    "979d646e6df340279a89c34b64582b97": {
     "views": [
      {
       "cell_index": 2
      }
     ]
    },
    "980b5cfaeef94f6f93f2804507233303": {
     "views": [
      {
       "cell_index": 2
      }
     ]
    },
    "981d222fbc364241878bbe9fe4f5612a": {
     "views": [
      {
       "cell_index": 2
      }
     ]
    },
    "984e036f734d4dd0b3ceb388045fe459": {
     "views": [
      {
       "cell_index": 2
      }
     ]
    },
    "98560cef809345c3b15f07f1e35fed23": {
     "views": [
      {
       "cell_index": 2
      }
     ]
    },
    "986ef63164d14223a393035e5475ab54": {
     "views": [
      {
       "cell_index": 2
      }
     ]
    },
    "988a1685493a48579de689942067d91d": {
     "views": [
      {
       "cell_index": 2
      }
     ]
    },
    "98c68944834e4c7e8905212e598d4f84": {
     "views": [
      {
       "cell_index": 2
      }
     ]
    },
    "990d23d4512c4989bfd9b3ee29c4367f": {
     "views": [
      {
       "cell_index": 2
      }
     ]
    },
    "9972ef9548224f73b5a2c897b29b41ab": {
     "views": [
      {
       "cell_index": 2
      }
     ]
    },
    "9a083d3027fa4080849c7062eb73a3c8": {
     "views": [
      {
       "cell_index": 2
      }
     ]
    },
    "9a0b0e023cef41c0ba7f3fd4e064af36": {
     "views": [
      {
       "cell_index": 2
      }
     ]
    },
    "9a3947c7c9524afa8851292b212e8ef8": {
     "views": [
      {
       "cell_index": 2
      }
     ]
    },
    "9a8866d6fbc547b0816ab06a101eba78": {
     "views": [
      {
       "cell_index": 2
      }
     ]
    },
    "9a9b13577ed145b1a2f2829f666b7034": {
     "views": [
      {
       "cell_index": 2
      }
     ]
    },
    "9aa6589480724426ab6635456666f1c6": {
     "views": [
      {
       "cell_index": 2
      }
     ]
    },
    "9b0af40393d6488ea42fe299ace54d4f": {
     "views": [
      {
       "cell_index": 2
      }
     ]
    },
    "9b51fdefe9c24fa98d84e0752848a4e9": {
     "views": [
      {
       "cell_index": 2
      }
     ]
    },
    "9b7636bfc0384344bea9c6c9ab421f67": {
     "views": [
      {
       "cell_index": 2
      }
     ]
    },
    "9b9d3780aafd49d8a88efc82fb7fdfb3": {
     "views": [
      {
       "cell_index": 2
      }
     ]
    },
    "9c3cd85267f547fea7da0779a5276c57": {
     "views": [
      {
       "cell_index": 2
      }
     ]
    },
    "9c4079a24b78459199861cde650a14ce": {
     "views": [
      {
       "cell_index": 2
      }
     ]
    },
    "9c7ab562e4744603a8b07598e4f734e8": {
     "views": [
      {
       "cell_index": 2
      }
     ]
    },
    "9c8f44e344a7484e86a70243431d4016": {
     "views": [
      {
       "cell_index": 2
      }
     ]
    },
    "9cacb7b568e0479bbddee438b9da4227": {
     "views": [
      {
       "cell_index": 2
      }
     ]
    },
    "9cf4f0ef698547d2bd181dcc365e71b1": {
     "views": [
      {
       "cell_index": 2
      }
     ]
    },
    "9d8254474f8b4d7287745761b30bbdae": {
     "views": [
      {
       "cell_index": 2
      }
     ]
    },
    "9db7fb4924e94683ba9b5d4a8a05cd38": {
     "views": [
      {
       "cell_index": 2
      }
     ]
    },
    "9f418c538f594cc5aa6449801fff0bb3": {
     "views": [
      {
       "cell_index": 2
      }
     ]
    },
    "9fd401c7b1e140668bf9fd844ea8a881": {
     "views": [
      {
       "cell_index": 2
      }
     ]
    },
    "9fef486a05b04abfb7b88592c56e63db": {
     "views": [
      {
       "cell_index": 2
      }
     ]
    },
    "a0464de59e694695af9f89fb4800d4ee": {
     "views": [
      {
       "cell_index": 2
      }
     ]
    },
    "a0cdb3ab321b4496b96c72af65b44636": {
     "views": [
      {
       "cell_index": 2
      }
     ]
    },
    "a0d5059c32e7401386433bdbbc0c8aec": {
     "views": [
      {
       "cell_index": 2
      }
     ]
    },
    "a17929b9cca34823bcd960da37e1b1e4": {
     "views": [
      {
       "cell_index": 2
      }
     ]
    },
    "a17a7aa440804475b317813a4737a232": {
     "views": [
      {
       "cell_index": 2
      }
     ]
    },
    "a1a4c773a2f2474dbb1c52a66e391b69": {
     "views": [
      {
       "cell_index": 2
      }
     ]
    },
    "a1a94cd7c3e54e7daea613b3d6de44cd": {
     "views": [
      {
       "cell_index": 2
      }
     ]
    },
    "a1ac2fcf6f3447b19b6d65de8a5d5748": {
     "views": [
      {
       "cell_index": 2
      }
     ]
    },
    "a1bb388a8de744a3923eb9bbaa5fa704": {
     "views": [
      {
       "cell_index": 2
      }
     ]
    },
    "a1fb2cc9d84247a6b3de5cae22f57d77": {
     "views": [
      {
       "cell_index": 2
      }
     ]
    },
    "a20846abd83c498aa2d6aebbd1798dcb": {
     "views": [
      {
       "cell_index": 2
      }
     ]
    },
    "a3e1751cd6894b02a8f85c5563ba9e8c": {
     "views": [
      {
       "cell_index": 2
      }
     ]
    },
    "a406c7b697694181a1139b6e676dde3f": {
     "views": [
      {
       "cell_index": 2
      }
     ]
    },
    "a44438dbca2d429c9c5c328f02f503df": {
     "views": [
      {
       "cell_index": 2
      }
     ]
    },
    "a48c4757c31c4289a371767a0051cbe9": {
     "views": [
      {
       "cell_index": 2
      }
     ]
    },
    "a54573efea0a4bd1b752f8f8054d8816": {
     "views": [
      {
       "cell_index": 2
      }
     ]
    },
    "a5b512b90576427ab80f3e40e904ab9d": {
     "views": [
      {
       "cell_index": 2
      }
     ]
    },
    "a686d816c9bf4a259b8772bc956baa8c": {
     "views": [
      {
       "cell_index": 2
      }
     ]
    },
    "a7850eba03544012bb88afde2d2abffa": {
     "views": [
      {
       "cell_index": 2
      }
     ]
    },
    "a7dcefab1f26450b935bab0506347596": {
     "views": [
      {
       "cell_index": 2
      }
     ]
    },
    "a824e9fa338d446ab000b464cef7c8be": {
     "views": [
      {
       "cell_index": 2
      }
     ]
    },
    "a86355bfa76844029947a9084733d757": {
     "views": [
      {
       "cell_index": 2
      }
     ]
    },
    "a949247730b84be7a1e9f14486c45d46": {
     "views": [
      {
       "cell_index": 2
      }
     ]
    },
    "a959bf61d87f49c6b403b2d06430d46b": {
     "views": [
      {
       "cell_index": 2
      }
     ]
    },
    "aa64d95fb5f843f29ae144d982c64650": {
     "views": [
      {
       "cell_index": 2
      }
     ]
    },
    "ab9db296344847daaaea498c5b75bf28": {
     "views": [
      {
       "cell_index": 2
      }
     ]
    },
    "abb5ef74b62d4f2e803721c279f1e6b9": {
     "views": [
      {
       "cell_index": 2
      }
     ]
    },
    "ac211035de5941c98a80175c3c2237f5": {
     "views": [
      {
       "cell_index": 2
      }
     ]
    },
    "ac9528bc3a414c08b497c8532f62516d": {
     "views": [
      {
       "cell_index": 2
      }
     ]
    },
    "acd9396485754ea4858cfe8818d46f65": {
     "views": [
      {
       "cell_index": 2
      }
     ]
    },
    "ada2533040eb4a1a945bc459919ad304": {
     "views": [
      {
       "cell_index": 2
      }
     ]
    },
    "adf1a83e169e4d139f10d9893e0b080c": {
     "views": [
      {
       "cell_index": 2
      }
     ]
    },
    "ae61744c046842b0ab7468f54f80ed13": {
     "views": [
      {
       "cell_index": 2
      }
     ]
    },
    "afbe97deb0ec46dd8558f3e02b3139fe": {
     "views": [
      {
       "cell_index": 2
      }
     ]
    },
    "afc32ae71315412eb8612c6bff5a7d0a": {
     "views": [
      {
       "cell_index": 2
      }
     ]
    },
    "b083067384e14abf80c429e148743f83": {
     "views": [
      {
       "cell_index": 2
      }
     ]
    },
    "b091c0f97dd04347b477a5b8c0753904": {
     "views": [
      {
       "cell_index": 2
      }
     ]
    },
    "b14a7f65a692457eb6e47c2ebba83a47": {
     "views": [
      {
       "cell_index": 2
      }
     ]
    },
    "b2042a1cd4d543abbfec6e0153887834": {
     "views": [
      {
       "cell_index": 2
      }
     ]
    },
    "b2320f67e83147b1b5c15ece04239ec8": {
     "views": [
      {
       "cell_index": 2
      }
     ]
    },
    "b282af3873bf44a7bf379a749b1608f5": {
     "views": [
      {
       "cell_index": 2
      }
     ]
    },
    "b2e2b455aecd47e0858a1c954c5b03af": {
     "views": [
      {
       "cell_index": 2
      }
     ]
    },
    "b2f4736466344919afe291073f7b23dd": {
     "views": [
      {
       "cell_index": 2
      }
     ]
    },
    "b2f9c18c8e594f7e8a0cc1ea4f07bd5b": {
     "views": [
      {
       "cell_index": 2
      }
     ]
    },
    "b384fd56b757426ab264bb42641b91f9": {
     "views": [
      {
       "cell_index": 2
      }
     ]
    },
    "b3af1b4b6f734545a3728c4c73c27d7b": {
     "views": [
      {
       "cell_index": 2
      }
     ]
    },
    "b3b6ad762b784d2c86e2d8870ab11cc3": {
     "views": [
      {
       "cell_index": 2
      }
     ]
    },
    "b422f7806c074cd4ade9503305aba7d2": {
     "views": [
      {
       "cell_index": 2
      }
     ]
    },
    "b42bbecc13874d10bb86164b0a758733": {
     "views": [
      {
       "cell_index": 2
      }
     ]
    },
    "b42d852fdc3849ada37e9206117981c9": {
     "views": [
      {
       "cell_index": 2
      }
     ]
    },
    "b44b799dd3bf424c908d896e35988e39": {
     "views": [
      {
       "cell_index": 2
      }
     ]
    },
    "b4f8bb5e196f486eb63672969adfd123": {
     "views": [
      {
       "cell_index": 2
      }
     ]
    },
    "b529d096d6ac4c1f83f5d469089a61a5": {
     "views": [
      {
       "cell_index": 2
      }
     ]
    },
    "b559e0524d3e47f9a6c3bca534b25522": {
     "views": [
      {
       "cell_index": 2
      }
     ]
    },
    "b59487b0471443f1bfe3b21f1bc61955": {
     "views": [
      {
       "cell_index": 2
      }
     ]
    },
    "b5cce8005b184e288e65b735109f2f4a": {
     "views": [
      {
       "cell_index": 2
      }
     ]
    },
    "b69ad404b88a40dd89d5db45eeeb63d0": {
     "views": [
      {
       "cell_index": 2
      }
     ]
    },
    "b6e238243b2b49b6b649a368c677c727": {
     "views": [
      {
       "cell_index": 2
      }
     ]
    },
    "b781cbee30764ac09a94094858f04279": {
     "views": [
      {
       "cell_index": 2
      }
     ]
    },
    "b7932a77027b4368b5fbcedfe62eba05": {
     "views": [
      {
       "cell_index": 2
      }
     ]
    },
    "b7a4d64072d449e1a91a0f53db7a3001": {
     "views": [
      {
       "cell_index": 2
      }
     ]
    },
    "b7e2e9abbbb94975a574a8a77190f58c": {
     "views": [
      {
       "cell_index": 2
      }
     ]
    },
    "b7e560f10a6e42b398dd95616f4426b2": {
     "views": [
      {
       "cell_index": 2
      }
     ]
    },
    "b80a89695d8c43ec9d39551a0a0aca2e": {
     "views": [
      {
       "cell_index": 2
      }
     ]
    },
    "b81555309a59456fb331fd05661603fc": {
     "views": [
      {
       "cell_index": 2
      }
     ]
    },
    "b838035db15f45c6bd7183afe41731cf": {
     "views": [
      {
       "cell_index": 2
      }
     ]
    },
    "b8e165071f924df09dfbc0c463b06648": {
     "views": [
      {
       "cell_index": 2
      }
     ]
    },
    "b8e3535b1b634c32a43d750e1b4fc84c": {
     "views": [
      {
       "cell_index": 2
      }
     ]
    },
    "b921601eb4cf4020b82e8c9c36389248": {
     "views": [
      {
       "cell_index": 2
      }
     ]
    },
    "b940ed5fc4cd4ef796aec83004ae695f": {
     "views": [
      {
       "cell_index": 2
      }
     ]
    },
    "b96c6b425ed246a6b4b33b84a63836a9": {
     "views": [
      {
       "cell_index": 2
      }
     ]
    },
    "b9c36ac6488d4bb88bbdde78b17fbe1e": {
     "views": [
      {
       "cell_index": 2
      }
     ]
    },
    "ba2306877462413fa0a0aeaab4a49d14": {
     "views": [
      {
       "cell_index": 2
      }
     ]
    },
    "bacc520faf5b4b1a8847b56df760420e": {
     "views": [
      {
       "cell_index": 2
      }
     ]
    },
    "bb2231ebac9946978cc447c54ca3d404": {
     "views": [
      {
       "cell_index": 2
      }
     ]
    },
    "bb3e0411d19a4f629c201de5afdaebf0": {
     "views": [
      {
       "cell_index": 2
      }
     ]
    },
    "bbb521dc90504582882a0f1890eb68d0": {
     "views": [
      {
       "cell_index": 2
      }
     ]
    },
    "bc7e8506afbe4fbdacc4a52fcc6f1809": {
     "views": [
      {
       "cell_index": 2
      }
     ]
    },
    "bc97c945ff35463d99aea74139945617": {
     "views": [
      {
       "cell_index": 2
      }
     ]
    },
    "bce8db2c81964354bc77e1c9f4c64ae4": {
     "views": [
      {
       "cell_index": 2
      }
     ]
    },
    "bd322ec285b04974a0004fbc90e0b83f": {
     "views": [
      {
       "cell_index": 2
      }
     ]
    },
    "bd864f74a85042908259ea2dd47134aa": {
     "views": [
      {
       "cell_index": 2
      }
     ]
    },
    "bdc48c0a79004962bc9c5d1dd64f7150": {
     "views": [
      {
       "cell_index": 2
      }
     ]
    },
    "bde1b9746e37429ca7a3f4b26fc281b1": {
     "views": [
      {
       "cell_index": 2
      }
     ]
    },
    "be6e4723b3e34e9dbd83bd63b2cb19eb": {
     "views": [
      {
       "cell_index": 2
      }
     ]
    },
    "bf47c0eff02545b4a48a8f066d2825a0": {
     "views": [
      {
       "cell_index": 2
      }
     ]
    },
    "bfbeca198b1b4b1faf879a296dcb4ea7": {
     "views": [
      {
       "cell_index": 2
      }
     ]
    },
    "bfdd89ed0965484d91cb2298643c67ae": {
     "views": [
      {
       "cell_index": 2
      }
     ]
    },
    "c01e49dfa7e34bedbc026b93830aa3bd": {
     "views": [
      {
       "cell_index": 2
      }
     ]
    },
    "c05fc8cd9e554379b9901a6d65274582": {
     "views": [
      {
       "cell_index": 2
      }
     ]
    },
    "c06daea5091248958cd000a0d6b30857": {
     "views": [
      {
       "cell_index": 2
      }
     ]
    },
    "c0a4e5dd336d429c9a3b181f542b6639": {
     "views": [
      {
       "cell_index": 2
      }
     ]
    },
    "c0e91e0c2c5c47e9a96c35dc5f1267d9": {
     "views": [
      {
       "cell_index": 2
      }
     ]
    },
    "c117259fef1e4cc7b7ff95dcd199250d": {
     "views": [
      {
       "cell_index": 2
      }
     ]
    },
    "c156d8a0eb364adf8bafeeec6f710c44": {
     "views": [
      {
       "cell_index": 2
      }
     ]
    },
    "c1590afc2e744346820b4e6b65137101": {
     "views": [
      {
       "cell_index": 2
      }
     ]
    },
    "c1d3bcc443be407b809124d7fbbfbded": {
     "views": [
      {
       "cell_index": 2
      }
     ]
    },
    "c21eaa73835444d6830a4c8b60c12184": {
     "views": [
      {
       "cell_index": 2
      }
     ]
    },
    "c226dfbc505741cd9224febbcd823e14": {
     "views": [
      {
       "cell_index": 2
      }
     ]
    },
    "c28a5629cc684a098b23ae3e48f0321d": {
     "views": [
      {
       "cell_index": 2
      }
     ]
    },
    "c337b2f1b4d348b1a106534ca58a338c": {
     "views": [
      {
       "cell_index": 2
      }
     ]
    },
    "c3dbfb9bd23b4c77926140cf6c264506": {
     "views": [
      {
       "cell_index": 2
      }
     ]
    },
    "c4486b4614614cf1a4b8b56a9783e08f": {
     "views": [
      {
       "cell_index": 2
      }
     ]
    },
    "c4a9a2cbb83f42d5a50827de660408f8": {
     "views": [
      {
       "cell_index": 2
      }
     ]
    },
    "c4b66ede90d94c4aa026d58fd26498de": {
     "views": [
      {
       "cell_index": 2
      }
     ]
    },
    "c512817818e84a1082829ca2f69fe342": {
     "views": [
      {
       "cell_index": 2
      }
     ]
    },
    "c557807478e246498f5e9596d07d62c2": {
     "views": [
      {
       "cell_index": 2
      }
     ]
    },
    "c5733d45e06b47389e1b267256bdc4bd": {
     "views": [
      {
       "cell_index": 2
      }
     ]
    },
    "c5853b8ce39e45c18d44f45b954de358": {
     "views": [
      {
       "cell_index": 2
      }
     ]
    },
    "c5e4bb322b114bc9971e38f234e589ab": {
     "views": [
      {
       "cell_index": 2
      }
     ]
    },
    "c5ef5000121a480494ad02a903edac0d": {
     "views": [
      {
       "cell_index": 2
      }
     ]
    },
    "c633c17750d24b11b76cb2088e01de61": {
     "views": [
      {
       "cell_index": 2
      }
     ]
    },
    "c6659a1a1159440598d0f1f319059f77": {
     "views": [
      {
       "cell_index": 2
      }
     ]
    },
    "c6a48fe8ba1f478eac71eaed95ae36f1": {
     "views": [
      {
       "cell_index": 2
      }
     ]
    },
    "c6b613ba62ac4227a5fa3a0eb506c3b0": {
     "views": [
      {
       "cell_index": 2
      }
     ]
    },
    "c77384e2cabd49b49e692e1ca2a8d507": {
     "views": [
      {
       "cell_index": 2
      }
     ]
    },
    "c7a26d65dcc1429e80458e52dc4dbd62": {
     "views": [
      {
       "cell_index": 2
      }
     ]
    },
    "c826f44b5e094d14a481a81a356887c6": {
     "views": [
      {
       "cell_index": 2
      }
     ]
    },
    "c82dc94ecc3343f6a275f0884a74ece0": {
     "views": [
      {
       "cell_index": 2
      }
     ]
    },
    "c87c00477d2642c6a2846a242104d359": {
     "views": [
      {
       "cell_index": 2
      }
     ]
    },
    "c889a59c694c47999cc85b4ac51599ef": {
     "views": [
      {
       "cell_index": 2
      }
     ]
    },
    "c8f7a4450fed43e7a44b018436f39acc": {
     "views": [
      {
       "cell_index": 2
      }
     ]
    },
    "c9377da9055b4309b409363bc11a1443": {
     "views": [
      {
       "cell_index": 2
      }
     ]
    },
    "c96396735a74414cabd19f11eea0a273": {
     "views": [
      {
       "cell_index": 2
      }
     ]
    },
    "c9b023c969494f77ae1880d24f4645f2": {
     "views": [
      {
       "cell_index": 2
      }
     ]
    },
    "c9b5844780354c5f84c2f0b1ef501f97": {
     "views": [
      {
       "cell_index": 2
      }
     ]
    },
    "c9b9047847814a408a600f75d6bbaf18": {
     "views": [
      {
       "cell_index": 2
      }
     ]
    },
    "ca48b7b2ec7e49c3ad8c1a654caa81a4": {
     "views": [
      {
       "cell_index": 2
      }
     ]
    },
    "ca7b7809f1ae448bb20361eb5f295b3b": {
     "views": [
      {
       "cell_index": 2
      }
     ]
    },
    "caac9bb851574ad3a66a2dd68e4dfb05": {
     "views": [
      {
       "cell_index": 2
      }
     ]
    },
    "cb1304a3a9c64ee9b15233379df1e019": {
     "views": [
      {
       "cell_index": 2
      }
     ]
    },
    "cc277df094774a6a99d56c0476950c1d": {
     "views": [
      {
       "cell_index": 2
      }
     ]
    },
    "cc813398491044bab3f3376fc0005424": {
     "views": [
      {
       "cell_index": 2
      }
     ]
    },
    "cc9839c7c0024bebab07873227e41e15": {
     "views": [
      {
       "cell_index": 2
      }
     ]
    },
    "cd22344f7aeb431494f39e4e3d606503": {
     "views": [
      {
       "cell_index": 2
      }
     ]
    },
    "cd2286ba7a4148fa82b90e6bb6c51269": {
     "views": [
      {
       "cell_index": 2
      }
     ]
    },
    "cd520aab38fd4e77a038215544aa0aa8": {
     "views": [
      {
       "cell_index": 2
      }
     ]
    },
    "cd7cfbc541f5448ca8fea52c034a4711": {
     "views": [
      {
       "cell_index": 2
      }
     ]
    },
    "cd8c570f381d48ed9a5498f90e72ad65": {
     "views": [
      {
       "cell_index": 2
      }
     ]
    },
    "cdb68056b0084a399ebba26cd9a709a9": {
     "views": [
      {
       "cell_index": 2
      }
     ]
    },
    "cdff3a1cbed44b49879b75b8110e3ff8": {
     "views": [
      {
       "cell_index": 2
      }
     ]
    },
    "ce33e459b598408fae79a4b9e0944241": {
     "views": [
      {
       "cell_index": 2
      }
     ]
    },
    "cf1a4faf30d240f5885f84070343a78e": {
     "views": [
      {
       "cell_index": 2
      }
     ]
    },
    "cf2e92bfb95e4d7393741273d8ce3591": {
     "views": [
      {
       "cell_index": 2
      }
     ]
    },
    "cf9e956010dc40be8cd9f93e2d254636": {
     "views": [
      {
       "cell_index": 2
      }
     ]
    },
    "cfcd33b4c2c64a3cbd0f3bb276842eac": {
     "views": [
      {
       "cell_index": 2
      }
     ]
    },
    "cfd9026a494c44c4b5aaa70d192562c6": {
     "views": [
      {
       "cell_index": 2
      }
     ]
    },
    "d011adca5227428da58de4d4850f11f3": {
     "views": [
      {
       "cell_index": 2
      }
     ]
    },
    "d08369952c004f3d8083ab4d931f9995": {
     "views": [
      {
       "cell_index": 2
      }
     ]
    },
    "d0caa8cc622249148a3973966dce4084": {
     "views": [
      {
       "cell_index": 2
      }
     ]
    },
    "d139640dec314f17afae4333f9c735d6": {
     "views": [
      {
       "cell_index": 2
      }
     ]
    },
    "d142979635274f02a65f7c8f91a32b09": {
     "views": [
      {
       "cell_index": 2
      }
     ]
    },
    "d1db6709ac7649cc8435fc080b9cb1b3": {
     "views": [
      {
       "cell_index": 2
      }
     ]
    },
    "d229f0c471f7472d9d92270a93c6a0d3": {
     "views": [
      {
       "cell_index": 2
      }
     ]
    },
    "d258aabadc5b40278da24e6ff4513caa": {
     "views": [
      {
       "cell_index": 2
      }
     ]
    },
    "d383b110f2a24315b9f9be61bcc27f88": {
     "views": [
      {
       "cell_index": 2
      }
     ]
    },
    "d3d3245acd434763b46eb173db4a9e55": {
     "views": [
      {
       "cell_index": 2
      }
     ]
    },
    "d3e9e7ce1cd943acbc4e968300abc046": {
     "views": [
      {
       "cell_index": 2
      }
     ]
    },
    "d41ce5bcfe024b75a14de67ceeeaf3bc": {
     "views": [
      {
       "cell_index": 2
      }
     ]
    },
    "d4e7ee171d7149b0bcb3546f1b3ecc7a": {
     "views": [
      {
       "cell_index": 2
      }
     ]
    },
    "d52e4061e0ef40939596b1d943d86c25": {
     "views": [
      {
       "cell_index": 2
      }
     ]
    },
    "d534da77bc53476c99c7bd0d91e3dfe2": {
     "views": [
      {
       "cell_index": 2
      }
     ]
    },
    "d54b399f48894ba3b966ed8184c145ea": {
     "views": [
      {
       "cell_index": 2
      }
     ]
    },
    "d5b8ff8b650f4ae9a0d3a519ce4f94f7": {
     "views": [
      {
       "cell_index": 2
      }
     ]
    },
    "d5bf49657bc346f2827b0289f9ff3eb8": {
     "views": [
      {
       "cell_index": 2
      }
     ]
    },
    "d5ff0da257524a0da878c25370a6abdd": {
     "views": [
      {
       "cell_index": 2
      }
     ]
    },
    "d61a4d7e543c4dada9d652999f78b6e8": {
     "views": [
      {
       "cell_index": 2
      }
     ]
    },
    "d73db8d9c5174b35bd2cb1297fd2fbd0": {
     "views": [
      {
       "cell_index": 2
      }
     ]
    },
    "d790bcc05c33410dacad9dbfc4023a87": {
     "views": [
      {
       "cell_index": 2
      }
     ]
    },
    "d7b675a71969466481f7d6206525b35b": {
     "views": [
      {
       "cell_index": 2
      }
     ]
    },
    "d7f8bcc7446444beb5950077bc1efea0": {
     "views": [
      {
       "cell_index": 2
      }
     ]
    },
    "d83e6b87921d46ebbe5d7aa61cd76a22": {
     "views": [
      {
       "cell_index": 2
      }
     ]
    },
    "d87137f28ddc4794845eaa56db0368b0": {
     "views": [
      {
       "cell_index": 2
      }
     ]
    },
    "d8756b8e3cc049c189e5a60cf9c3baa0": {
     "views": [
      {
       "cell_index": 2
      }
     ]
    },
    "d8fb381d71cc43cc91de9b03da678bb7": {
     "views": [
      {
       "cell_index": 2
      }
     ]
    },
    "d92a18e0cfaa40ad8720f674a78b65ee": {
     "views": [
      {
       "cell_index": 2
      }
     ]
    },
    "d94d5a60f21046b19cd36567b3db7e52": {
     "views": [
      {
       "cell_index": 2
      }
     ]
    },
    "d96c4eb202b44a8b897a66c095caa645": {
     "views": [
      {
       "cell_index": 2
      }
     ]
    },
    "d9c245410f4b486c8ab6a467dec117ef": {
     "views": [
      {
       "cell_index": 2
      }
     ]
    },
    "da48171d250845b69804d1d1bd117a54": {
     "views": [
      {
       "cell_index": 2
      }
     ]
    },
    "da6c79d8940b4892b6f6eb703819554e": {
     "views": [
      {
       "cell_index": 2
      }
     ]
    },
    "da777f3f811e4ef9997df024fc2ae9f8": {
     "views": [
      {
       "cell_index": 2
      }
     ]
    },
    "db098a00d3834780be67a1f95891b668": {
     "views": [
      {
       "cell_index": 2
      }
     ]
    },
    "db3a394896be4786a8140839528b0d87": {
     "views": [
      {
       "cell_index": 2
      }
     ]
    },
    "dbffc8a630874c038990854d1ea49380": {
     "views": [
      {
       "cell_index": 2
      }
     ]
    },
    "dc1674674fb943c18253b3ae754966fc": {
     "views": [
      {
       "cell_index": 2
      }
     ]
    },
    "dc863f721eaf4c63bfde6092b3ac8694": {
     "views": [
      {
       "cell_index": 2
      }
     ]
    },
    "dd1db941ff8c4265826c554e6e029e2e": {
     "views": [
      {
       "cell_index": 2
      }
     ]
    },
    "dd8cb029ed2f459e880f8de6a75c2ef3": {
     "views": [
      {
       "cell_index": 2
      }
     ]
    },
    "ddb24f448f654b309e1a2593c051d763": {
     "views": [
      {
       "cell_index": 2
      }
     ]
    },
    "ddffd875ad0c42bb8856b188dab4135e": {
     "views": [
      {
       "cell_index": 2
      }
     ]
    },
    "ded0e95c369a44c9a5317a674bffb8d7": {
     "views": [
      {
       "cell_index": 2
      }
     ]
    },
    "df30c9cf6cc84f89b1a4dbe8828aef22": {
     "views": [
      {
       "cell_index": 2
      }
     ]
    },
    "df363f2d4c1a4c88aa7d77a466bbb66d": {
     "views": [
      {
       "cell_index": 2
      }
     ]
    },
    "dff6c9335870445f92fa5f916dbeab26": {
     "views": [
      {
       "cell_index": 2
      }
     ]
    },
    "e077b39b717d4f65a3ec9567f4a81574": {
     "views": [
      {
       "cell_index": 2
      }
     ]
    },
    "e148f85a3a6f4fe9b33cf49c9b03296f": {
     "views": [
      {
       "cell_index": 2
      }
     ]
    },
    "e1764f8a00964f8797c391237fde2532": {
     "views": [
      {
       "cell_index": 2
      }
     ]
    },
    "e1839edeacbb414f90166a960c71f8dc": {
     "views": [
      {
       "cell_index": 2
      }
     ]
    },
    "e196459e6cd547f3b1cbb56db3bfd249": {
     "views": [
      {
       "cell_index": 2
      }
     ]
    },
    "e1d5c0056bf246e586c0c08d7517913a": {
     "views": [
      {
       "cell_index": 2
      }
     ]
    },
    "e29aa5516651428d8c76335566dd1b6d": {
     "views": [
      {
       "cell_index": 2
      }
     ]
    },
    "e2d32b31ca544219b1f6c4ff9298572f": {
     "views": [
      {
       "cell_index": 2
      }
     ]
    },
    "e2e1f443752c4f8db6758f95808d0e37": {
     "views": [
      {
       "cell_index": 2
      }
     ]
    },
    "e306fb6d9c2b47a28d5ad7dfd53d26dc": {
     "views": [
      {
       "cell_index": 2
      }
     ]
    },
    "e30c2a896e5a4583aff0b80c70717872": {
     "views": [
      {
       "cell_index": 2
      }
     ]
    },
    "e3673d8c99544d8fa693dad7dcbaea42": {
     "views": [
      {
       "cell_index": 2
      }
     ]
    },
    "e38175b5e4024138b45b05399796ed3d": {
     "views": [
      {
       "cell_index": 2
      }
     ]
    },
    "e3edcff1c17641b1898298a78a7c9fa6": {
     "views": [
      {
       "cell_index": 2
      }
     ]
    },
    "e477f55e3e2849dda1b8f957bde35a58": {
     "views": [
      {
       "cell_index": 2
      }
     ]
    },
    "e49178229128463fa7d4fb7a674059cc": {
     "views": [
      {
       "cell_index": 2
      }
     ]
    },
    "e5785291c967468c8642f327a7df0d48": {
     "views": [
      {
       "cell_index": 2
      }
     ]
    },
    "e59fd3bcee3e4a2ea61aad706945c567": {
     "views": [
      {
       "cell_index": 2
      }
     ]
    },
    "e5f324135f8342eb930fd46210716912": {
     "views": [
      {
       "cell_index": 2
      }
     ]
    },
    "e64a705dd3c54bbd8666665f8b0a0313": {
     "views": [
      {
       "cell_index": 2
      }
     ]
    },
    "e6793595a8794f72b1948e574be13ab2": {
     "views": [
      {
       "cell_index": 2
      }
     ]
    },
    "e69d0b234f4c43c79268929203071365": {
     "views": [
      {
       "cell_index": 2
      }
     ]
    },
    "e6e17a87ee77481fb3d8339e02d317b7": {
     "views": [
      {
       "cell_index": 2
      }
     ]
    },
    "e75583eb3440499cbb2634cf7f88b60e": {
     "views": [
      {
       "cell_index": 2
      }
     ]
    },
    "e7ab58970d944cb59ce02cd116bbb452": {
     "views": [
      {
       "cell_index": 2
      }
     ]
    },
    "e8040deebeb846589dcb6d76df3fe571": {
     "views": [
      {
       "cell_index": 2
      }
     ]
    },
    "e992cebe5876409cafdd71b40632780f": {
     "views": [
      {
       "cell_index": 2
      }
     ]
    },
    "ea1965470bba4ad9986557037c360b95": {
     "views": [
      {
       "cell_index": 2
      }
     ]
    },
    "ea2f346d66f14547b33736a8f5d041c2": {
     "views": [
      {
       "cell_index": 2
      }
     ]
    },
    "ea49914d18f246f0b527d51a6bec8846": {
     "views": [
      {
       "cell_index": 2
      }
     ]
    },
    "ea617c4880e34cd3b1a829df7e3cef98": {
     "views": [
      {
       "cell_index": 2
      }
     ]
    },
    "eab4dda0e00c48f3923c8ca66b927f15": {
     "views": [
      {
       "cell_index": 2
      }
     ]
    },
    "eac41f2b5bef4e45953d5c2cc76f946f": {
     "views": [
      {
       "cell_index": 2
      }
     ]
    },
    "eba8b9f7f37b4f2cbb3a59624c958c25": {
     "views": [
      {
       "cell_index": 2
      }
     ]
    },
    "ecde029e4f4248b0aa539dcf1c190c03": {
     "views": [
      {
       "cell_index": 2
      }
     ]
    },
    "ece52cf56dd04f679aef2be405149068": {
     "views": [
      {
       "cell_index": 2
      }
     ]
    },
    "ed2664907deb4d73a78f1618ec499ad8": {
     "views": [
      {
       "cell_index": 2
      }
     ]
    },
    "ed46db7c05cc4e4a83a617ead59d5846": {
     "views": [
      {
       "cell_index": 2
      }
     ]
    },
    "ed4e2479840a4d37be53ba1ea4e90702": {
     "views": [
      {
       "cell_index": 2
      }
     ]
    },
    "ed51b66bedec4b329fcb828b40b19e87": {
     "views": [
      {
       "cell_index": 2
      }
     ]
    },
    "ed5dfed2f41342eb90b095415739f71e": {
     "views": [
      {
       "cell_index": 2
      }
     ]
    },
    "ed636f4b730f4c6da1d48023cbb01df2": {
     "views": [
      {
       "cell_index": 2
      }
     ]
    },
    "ee15f85865fe4f8c82e43c8484ecfc23": {
     "views": [
      {
       "cell_index": 2
      }
     ]
    },
    "ee18854fe03945e0abfc475c4bc49111": {
     "views": [
      {
       "cell_index": 2
      }
     ]
    },
    "ee7ecc325bae4a289ab39124c1794456": {
     "views": [
      {
       "cell_index": 2
      }
     ]
    },
    "eeecab27cf6c40d386780ba8e7175921": {
     "views": [
      {
       "cell_index": 2
      }
     ]
    },
    "ef33c2f15531493b89242c264a90c79e": {
     "views": [
      {
       "cell_index": 2
      }
     ]
    },
    "ef861a8aed4645a7be944f0e1b83f7ed": {
     "views": [
      {
       "cell_index": 2
      }
     ]
    },
    "ef92374da0ac495e8da8e0218c34e04c": {
     "views": [
      {
       "cell_index": 2
      }
     ]
    },
    "efbb8131d1f54536a8e4416f086afc6b": {
     "views": [
      {
       "cell_index": 2
      }
     ]
    },
    "efecd17f3db64cc89bf91777cef8cd4c": {
     "views": [
      {
       "cell_index": 2
      }
     ]
    },
    "f02d90b0a52049f891aa91f001556f44": {
     "views": [
      {
       "cell_index": 2
      }
     ]
    },
    "f046f19c8fb84e4ab8a89fab5993122f": {
     "views": [
      {
       "cell_index": 2
      }
     ]
    },
    "f083ea8cbcd14893bba3b096f83e8597": {
     "views": [
      {
       "cell_index": 2
      }
     ]
    },
    "f1b79d480e76496aa698c6a8915bbfa8": {
     "views": [
      {
       "cell_index": 2
      }
     ]
    },
    "f1f50bdff1c64fc489939beb6975bf7f": {
     "views": [
      {
       "cell_index": 2
      }
     ]
    },
    "f2504a1ec4ac4b15b84305fa5957ad1e": {
     "views": [
      {
       "cell_index": 2
      }
     ]
    },
    "f2926dcbec044180b961192bde72d387": {
     "views": [
      {
       "cell_index": 2
      }
     ]
    },
    "f29cf9263e2a44e39ef6122ec4d81187": {
     "views": [
      {
       "cell_index": 2
      }
     ]
    },
    "f2a68e44846442f8ae5b9fdc63b55fb6": {
     "views": [
      {
       "cell_index": 2
      }
     ]
    },
    "f2de2bd8732749de85b8706068f142ba": {
     "views": [
      {
       "cell_index": 2
      }
     ]
    },
    "f364b11291594f2584cf8bdb795dbee4": {
     "views": [
      {
       "cell_index": 2
      }
     ]
    },
    "f36aa3e44ce64967a3f4b813ffd69600": {
     "views": [
      {
       "cell_index": 2
      }
     ]
    },
    "f3933a3751314488b58bbc40c050cf69": {
     "views": [
      {
       "cell_index": 2
      }
     ]
    },
    "f3e1e39336754d9ebf894ecc377aa46f": {
     "views": [
      {
       "cell_index": 2
      }
     ]
    },
    "f4750dcdfe62470aa918670285cd89ae": {
     "views": [
      {
       "cell_index": 2
      }
     ]
    },
    "f478f6640bc04008bd9a065d4521a647": {
     "views": [
      {
       "cell_index": 2
      }
     ]
    },
    "f4c98af5cd9f45648a979decb3fd15c9": {
     "views": [
      {
       "cell_index": 2
      }
     ]
    },
    "f4f5d780797f4234807fff2a28525fa9": {
     "views": [
      {
       "cell_index": 2
      }
     ]
    },
    "f545e46fb1ad4a3aa8871cc7a5d55caf": {
     "views": [
      {
       "cell_index": 2
      }
     ]
    },
    "f56c3445ba0d4245915fa712188afc03": {
     "views": [
      {
       "cell_index": 2
      }
     ]
    },
    "f5d320e8ec7e4c4298dd9cf9475c3c14": {
     "views": [
      {
       "cell_index": 2
      }
     ]
    },
    "f5d3b650014e499b89e472ba2f84f51a": {
     "views": [
      {
       "cell_index": 2
      }
     ]
    },
    "f5df04dd0ef344e9bfc2092ccc8ef7ad": {
     "views": [
      {
       "cell_index": 2
      }
     ]
    },
    "f5e74b754c874a0bbf4bff28d345981d": {
     "views": [
      {
       "cell_index": 2
      }
     ]
    },
    "f5f0cf97c94a49c0949564deb9434637": {
     "views": [
      {
       "cell_index": 2
      }
     ]
    },
    "f695a3cdfdfa4ea8968cec6d402bb82d": {
     "views": [
      {
       "cell_index": 2
      }
     ]
    },
    "f6b13d5604f84da4aacd07bfd872b9d5": {
     "views": [
      {
       "cell_index": 2
      }
     ]
    },
    "f6b65ccb1270454cb141503707dcecfc": {
     "views": [
      {
       "cell_index": 2
      }
     ]
    },
    "f6dac496830245eea2bbc8f53c3e4676": {
     "views": [
      {
       "cell_index": 2
      }
     ]
    },
    "f763c2cc15a748279125730e0306ef7e": {
     "views": [
      {
       "cell_index": 2
      }
     ]
    },
    "f7d59e4b589f4f4d92704f8747849f0e": {
     "views": [
      {
       "cell_index": 2
      }
     ]
    },
    "f7db58d6c93b44db8b89bd3ebac72e1f": {
     "views": [
      {
       "cell_index": 2
      }
     ]
    },
    "f7fa594efa75423eae3669d087576ebc": {
     "views": [
      {
       "cell_index": 2
      }
     ]
    },
    "f9206c995d1b4066832e05e04218d815": {
     "views": [
      {
       "cell_index": 2
      }
     ]
    },
    "f9a17e7a3f0a4c1a8ad41e8b1c7a9326": {
     "views": [
      {
       "cell_index": 2
      }
     ]
    },
    "f9c6f17defe5415ba9f5fc313a571374": {
     "views": [
      {
       "cell_index": 2
      }
     ]
    },
    "fa076dd98e97438c9d326deeca84735d": {
     "views": [
      {
       "cell_index": 2
      }
     ]
    },
    "fb086ff7a8f44024bb13345a8f234c2e": {
     "views": [
      {
       "cell_index": 2
      }
     ]
    },
    "fb2fdb6c4b894834be8b6c1190909347": {
     "views": [
      {
       "cell_index": 2
      }
     ]
    },
    "fb9574b8b245480e9c0efb05bb80986b": {
     "views": [
      {
       "cell_index": 2
      }
     ]
    },
    "fbc5f79e2de74decb464b35cda15ef7e": {
     "views": [
      {
       "cell_index": 2
      }
     ]
    },
    "fbeb0ddb0d194032b34e2a727660c207": {
     "views": [
      {
       "cell_index": 2
      }
     ]
    },
    "fbf8c66147f749de815ee58d1ea8a723": {
     "views": [
      {
       "cell_index": 2
      }
     ]
    },
    "fc28554dbfc64cc6bb9f6606f5927f9c": {
     "views": [
      {
       "cell_index": 2
      }
     ]
    },
    "fdfa9b49f29945cb8d4627d3874fd615": {
     "views": [
      {
       "cell_index": 2
      }
     ]
    },
    "fe1372818d7b43159096f33b66bfe841": {
     "views": [
      {
       "cell_index": 2
      }
     ]
    },
    "ff1a12979b584184ac316a49fdb51e5d": {
     "views": [
      {
       "cell_index": 2
      }
     ]
    },
    "ff774f35adc2469494afb7c46bc9c119": {
     "views": [
      {
       "cell_index": 2
      }
     ]
    },
    "ffc2cd41802e43028a11ae625f7c9b6a": {
     "views": [
      {
       "cell_index": 2
      }
     ]
    }
   },
   "version": "1.2.0"
  }
 },
 "nbformat": 4,
 "nbformat_minor": 2
}
