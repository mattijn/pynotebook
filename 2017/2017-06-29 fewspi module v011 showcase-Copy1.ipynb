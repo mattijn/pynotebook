{
 "cells": [
  {
   "cell_type": "code",
   "execution_count": 21,
   "metadata": {
    "collapsed": false,
    "deletable": true,
    "editable": true
   },
   "outputs": [],
   "source": [
    "from hkvpy.fews import pi, dataportal\n",
    "from datetime import datetime\n",
    "import matplotlib.pyplot as plt\n",
    "import pandas as pd\n",
    "import numpy as np\n",
    "%matplotlib inline"
   ]
  },
  {
   "cell_type": "code",
   "execution_count": 22,
   "metadata": {
    "collapsed": false,
    "deletable": true,
    "editable": true
   },
   "outputs": [],
   "source": [
    "wsdl = 'http://dashboardservices.hkv.nl:8080/FewsPiService/fewspiservice?wsdl'\n",
    "pi.setClient(wsdl)"
   ]
  },
  {
   "cell_type": "code",
   "execution_count": 23,
   "metadata": {
    "collapsed": false,
    "deletable": true,
    "editable": true
   },
   "outputs": [],
   "source": [
    "filters = pi.getFilters()"
   ]
  },
  {
   "cell_type": "code",
   "execution_count": 24,
   "metadata": {
    "collapsed": false
   },
   "outputs": [
    {
     "data": {
      "text/plain": [
       "{'PI_SERVICE': {'description': '', 'id': 'PI_SERVICE', 'name': 'PI_SERVICE'},\n",
       " 'PI_SERVICE_SOBEK': {'description': '',\n",
       "  'id': 'PI_SERVICE.SOBEK',\n",
       "  'name': 'PI_SERVICE.SOBEK'},\n",
       " 'PI_SERVICE_SOBEK_ALERT': {'description': '',\n",
       "  'id': 'PI_SERVICE.SOBEK.ALERT',\n",
       "  'name': 'PI_SERVICE.SOBEK.ALERT'}}"
      ]
     },
     "execution_count": 24,
     "metadata": {},
     "output_type": "execute_result"
    }
   ],
   "source": [
    "vars(filters)"
   ]
  },
  {
   "cell_type": "code",
   "execution_count": null,
   "metadata": {
    "collapsed": true
   },
   "outputs": [],
   "source": []
  },
  {
   "cell_type": "code",
   "execution_count": 25,
   "metadata": {
    "collapsed": false,
    "deletable": true,
    "editable": true
   },
   "outputs": [],
   "source": [
    "filter_in = pi.Filters.PI_SERVICE_SOBEK_ALERT['id']"
   ]
  },
  {
   "cell_type": "code",
   "execution_count": 27,
   "metadata": {
    "collapsed": false,
    "deletable": true,
    "editable": true
   },
   "outputs": [],
   "source": [
    "parameters = pi.getParameters(filterId=filter_in)"
   ]
  },
  {
   "cell_type": "code",
   "execution_count": 28,
   "metadata": {
    "collapsed": false
   },
   "outputs": [
    {
     "data": {
      "text/plain": [
       "{'WATERLEVEL_SIM_ALERT': {'displayUnit': 'm',\n",
       "  'id': 'WATERLEVEL.SIM.ALERT',\n",
       "  'name': 'Water level Alerts (simulated)',\n",
       "  'parameterType': 'instantaneous',\n",
       "  'unit': 'm',\n",
       "  'usesDatum': 'true'}}"
      ]
     },
     "execution_count": 28,
     "metadata": {},
     "output_type": "execute_result"
    }
   ],
   "source": [
    "vars(parameters)"
   ]
  },
  {
   "cell_type": "code",
   "execution_count": 29,
   "metadata": {
    "collapsed": false,
    "deletable": true,
    "editable": true
   },
   "outputs": [],
   "source": [
    "parameter_in = pi.Parameters.WATERLEVEL_SIM_ALERT['id']"
   ]
  },
  {
   "cell_type": "code",
   "execution_count": 30,
   "metadata": {
    "collapsed": false,
    "deletable": true,
    "editable": true
   },
   "outputs": [
    {
     "data": {
      "text/plain": [
       "<matplotlib.axes._subplots.AxesSubplot at 0xc1699b0>"
      ]
     },
     "execution_count": 30,
     "metadata": {},
     "output_type": "execute_result"
    },
    {
     "data": {
      "image/png": "[encoded data removed]",
      "text/plain": [
       "<matplotlib.figure.Figure at 0x8d0f358>"
      ]
     },
     "metadata": {},
     "output_type": "display_data"
    }
   ],
   "source": [
    "gdf = pi.getLocations(filterId=filter_in, setFormat='gdf')\n",
    "gdf.plot()"
   ]
  },
  {
   "cell_type": "code",
   "execution_count": 34,
   "metadata": {
    "collapsed": false
   },
   "outputs": [
    {
     "data": {
      "text/plain": [
       "{'lat': '1093945.0',\n",
       " 'locationId': 'NNaboupi',\n",
       " 'lon': 'NaN',\n",
       " 'shortName': 'NNaboupi',\n",
       " 'x': 'NaN',\n",
       " 'y': '1093945.0'}"
      ]
     },
     "execution_count": 34,
     "metadata": {},
     "output_type": "execute_result"
    }
   ],
   "source": [
    "pi.Locations.NNaboupi"
   ]
  },
  {
   "cell_type": "code",
   "execution_count": 33,
   "metadata": {
    "collapsed": false
   },
   "outputs": [
    {
     "data": {
      "text/plain": [
       "['Akosombo',\n",
       " 'Benja',\n",
       " 'Borgou',\n",
       " 'Koumongou',\n",
       " 'Mandouri_new',\n",
       " 'Mandouri_old',\n",
       " 'Mango_new',\n",
       " 'Mango_old',\n",
       " 'Mo',\n",
       " 'NNaboupi',\n",
       " 'Pembik',\n",
       " 'Porga',\n",
       " 'Sabari',\n",
       " 'Saboba',\n",
       " 'Tankpa',\n",
       " 'Tributary1',\n",
       " 'Tributary2']"
      ]
     },
     "execution_count": 33,
     "metadata": {},
     "output_type": "execute_result"
    }
   ],
   "source": [
    "gdf.locationId.tolist()"
   ]
  },
  {
   "cell_type": "code",
   "execution_count": 35,
   "metadata": {
    "collapsed": false,
    "deletable": true,
    "editable": true,
    "scrolled": true
   },
   "outputs": [],
   "source": [
    "locations = pi.Locations.asGeoDataFrame['locationId'].tolist()"
   ]
  },
  {
   "cell_type": "code",
   "execution_count": 36,
   "metadata": {
    "collapsed": false,
    "deletable": true,
    "editable": true
   },
   "outputs": [],
   "source": [
    "df, entry = pi.getTimeSeries(filterId=filter_in,\n",
    "                             parameterIds=parameter_in,\n",
    "                             locationIds=pi.Locations.asGeoDataFrame['locationId'].tolist(),\n",
    "                             startTime=datetime(2017,1,1,2, tzinfo=pi.utils.utc_offset(2*60*60)),\n",
    "                             endTime=datetime(2017,6,29,2, tzinfo=pi.utils.utc_offset(2*60*60)),\n",
    "                             setFormat='df'\n",
    "                            )"
   ]
  },
  {
   "cell_type": "code",
   "execution_count": 37,
   "metadata": {
    "collapsed": false,
    "deletable": true,
    "editable": true
   },
   "outputs": [
    {
     "data": {
      "text/html": [
       "<div>\n",
       "<table border=\"1\" class=\"dataframe\">\n",
       "  <thead>\n",
       "    <tr style=\"text-align: right;\">\n",
       "      <th></th>\n",
       "      <th></th>\n",
       "      <th></th>\n",
       "      <th></th>\n",
       "      <th></th>\n",
       "      <th></th>\n",
       "      <th>flag</th>\n",
       "      <th>value</th>\n",
       "    </tr>\n",
       "    <tr>\n",
       "      <th>date</th>\n",
       "      <th>moduleId</th>\n",
       "      <th>parameterId</th>\n",
       "      <th>units</th>\n",
       "      <th>locationId</th>\n",
       "      <th>stationName</th>\n",
       "      <th></th>\n",
       "      <th></th>\n",
       "    </tr>\n",
       "  </thead>\n",
       "  <tbody>\n",
       "    <tr>\n",
       "      <th rowspan=\"5\" valign=\"top\">2017-01-01 01:00:00+01:00</th>\n",
       "      <th rowspan=\"5\" valign=\"top\">SobekCF_ALERT_GPM</th>\n",
       "      <th rowspan=\"5\" valign=\"top\">WATERLEVEL.SIM.ALERT</th>\n",
       "      <th rowspan=\"5\" valign=\"top\">m</th>\n",
       "      <th>Akosombo</th>\n",
       "      <th>Akosombo</th>\n",
       "      <td>8.0</td>\n",
       "      <td>-999.0</td>\n",
       "    </tr>\n",
       "    <tr>\n",
       "      <th>Benja</th>\n",
       "      <th>Benja</th>\n",
       "      <td>8.0</td>\n",
       "      <td>-999.0</td>\n",
       "    </tr>\n",
       "    <tr>\n",
       "      <th>Borgou</th>\n",
       "      <th>Borgou</th>\n",
       "      <td>8.0</td>\n",
       "      <td>-999.0</td>\n",
       "    </tr>\n",
       "    <tr>\n",
       "      <th>Koumongou</th>\n",
       "      <th>Koumongou</th>\n",
       "      <td>8.0</td>\n",
       "      <td>-999.0</td>\n",
       "    </tr>\n",
       "    <tr>\n",
       "      <th>Mandouri_new</th>\n",
       "      <th>Mandouri_new</th>\n",
       "      <td>8.0</td>\n",
       "      <td>-999.0</td>\n",
       "    </tr>\n",
       "  </tbody>\n",
       "</table>\n",
       "</div>"
      ],
      "text/plain": [
       "                                                                                                  flag  \\\n",
       "date                      moduleId          parameterId          units locationId   stationName          \n",
       "2017-01-01 01:00:00+01:00 SobekCF_ALERT_GPM WATERLEVEL.SIM.ALERT m     Akosombo     Akosombo       8.0   \n",
       "                                                                       Benja        Benja          8.0   \n",
       "                                                                       Borgou       Borgou         8.0   \n",
       "                                                                       Koumongou    Koumongou      8.0   \n",
       "                                                                       Mandouri_new Mandouri_new   8.0   \n",
       "\n",
       "                                                                                                  value  \n",
       "date                      moduleId          parameterId          units locationId   stationName          \n",
       "2017-01-01 01:00:00+01:00 SobekCF_ALERT_GPM WATERLEVEL.SIM.ALERT m     Akosombo     Akosombo     -999.0  \n",
       "                                                                       Benja        Benja        -999.0  \n",
       "                                                                       Borgou       Borgou       -999.0  \n",
       "                                                                       Koumongou    Koumongou    -999.0  \n",
       "                                                                       Mandouri_new Mandouri_new -999.0  "
      ]
     },
     "execution_count": 37,
     "metadata": {},
     "output_type": "execute_result"
    }
   ],
   "source": [
    "df.head()"
   ]
  },
  {
   "cell_type": "code",
   "execution_count": null,
   "metadata": {
    "collapsed": true
   },
   "outputs": [],
   "source": []
  },
  {
   "cell_type": "code",
   "execution_count": 67,
   "metadata": {
    "collapsed": false,
    "deletable": true,
    "editable": true
   },
   "outputs": [],
   "source": [
    "df['value'].replace(-999.0,np.NaN, inplace = True)\n",
    "level_values = df.index.get_level_values\n",
    "result = (df.groupby([level_values(i) for i in [1,2,3,4,5]]\n",
    "                      +[pd.Grouper(freq='W', level=0)]).sum())"
   ]
  },
  {
   "cell_type": "code",
   "execution_count": 68,
   "metadata": {
    "collapsed": false,
    "deletable": true,
    "editable": true
   },
   "outputs": [
    {
     "data": {
      "text/html": [
       "<div>\n",
       "<table border=\"1\" class=\"dataframe\">\n",
       "  <thead>\n",
       "    <tr style=\"text-align: right;\">\n",
       "      <th></th>\n",
       "      <th></th>\n",
       "      <th></th>\n",
       "      <th></th>\n",
       "      <th></th>\n",
       "      <th></th>\n",
       "      <th>flag</th>\n",
       "      <th>value</th>\n",
       "    </tr>\n",
       "    <tr>\n",
       "      <th>moduleId</th>\n",
       "      <th>parameterId</th>\n",
       "      <th>units</th>\n",
       "      <th>locationId</th>\n",
       "      <th>stationName</th>\n",
       "      <th>date</th>\n",
       "      <th></th>\n",
       "      <th></th>\n",
       "    </tr>\n",
       "  </thead>\n",
       "  <tbody>\n",
       "    <tr>\n",
       "      <th rowspan=\"61\" valign=\"top\">pr.Reizen.mars.baggeracties</th>\n",
       "      <th rowspan=\"61\" valign=\"top\">k.m3.gebaggerd.mars</th>\n",
       "      <th rowspan=\"61\" valign=\"top\">m3</th>\n",
       "      <th rowspan=\"27\" valign=\"top\">bv.1.7.1.1</th>\n",
       "      <th rowspan=\"27\" valign=\"top\">Den Helder - Texel, Vaarweg</th>\n",
       "      <th>2017-01-01 00:00:00+01:00</th>\n",
       "      <td>8.0</td>\n",
       "      <td>NaN</td>\n",
       "    </tr>\n",
       "    <tr>\n",
       "      <th>2017-01-08 00:00:00+01:00</th>\n",
       "      <td>56.0</td>\n",
       "      <td>NaN</td>\n",
       "    </tr>\n",
       "    <tr>\n",
       "      <th>2017-01-15 00:00:00+01:00</th>\n",
       "      <td>56.0</td>\n",
       "      <td>NaN</td>\n",
       "    </tr>\n",
       "    <tr>\n",
       "      <th>2017-01-22 00:00:00+01:00</th>\n",
       "      <td>56.0</td>\n",
       "      <td>NaN</td>\n",
       "    </tr>\n",
       "    <tr>\n",
       "      <th>2017-01-29 00:00:00+01:00</th>\n",
       "      <td>56.0</td>\n",
       "      <td>NaN</td>\n",
       "    </tr>\n",
       "    <tr>\n",
       "      <th>2017-02-05 00:00:00+01:00</th>\n",
       "      <td>56.0</td>\n",
       "      <td>NaN</td>\n",
       "    </tr>\n",
       "    <tr>\n",
       "      <th>2017-02-12 00:00:00+01:00</th>\n",
       "      <td>56.0</td>\n",
       "      <td>NaN</td>\n",
       "    </tr>\n",
       "    <tr>\n",
       "      <th>2017-02-19 00:00:00+01:00</th>\n",
       "      <td>56.0</td>\n",
       "      <td>NaN</td>\n",
       "    </tr>\n",
       "    <tr>\n",
       "      <th>2017-02-26 00:00:00+01:00</th>\n",
       "      <td>56.0</td>\n",
       "      <td>NaN</td>\n",
       "    </tr>\n",
       "    <tr>\n",
       "      <th>2017-03-05 00:00:00+01:00</th>\n",
       "      <td>56.0</td>\n",
       "      <td>NaN</td>\n",
       "    </tr>\n",
       "    <tr>\n",
       "      <th>2017-03-12 00:00:00+01:00</th>\n",
       "      <td>56.0</td>\n",
       "      <td>NaN</td>\n",
       "    </tr>\n",
       "    <tr>\n",
       "      <th>2017-03-19 00:00:00+01:00</th>\n",
       "      <td>56.0</td>\n",
       "      <td>NaN</td>\n",
       "    </tr>\n",
       "    <tr>\n",
       "      <th>2017-03-26 00:00:00+01:00</th>\n",
       "      <td>56.0</td>\n",
       "      <td>NaN</td>\n",
       "    </tr>\n",
       "    <tr>\n",
       "      <th>2017-04-02 00:00:00+02:00</th>\n",
       "      <td>56.0</td>\n",
       "      <td>NaN</td>\n",
       "    </tr>\n",
       "    <tr>\n",
       "      <th>2017-04-09 00:00:00+02:00</th>\n",
       "      <td>56.0</td>\n",
       "      <td>NaN</td>\n",
       "    </tr>\n",
       "    <tr>\n",
       "      <th>2017-04-16 00:00:00+02:00</th>\n",
       "      <td>56.0</td>\n",
       "      <td>NaN</td>\n",
       "    </tr>\n",
       "    <tr>\n",
       "      <th>2017-04-23 00:00:00+02:00</th>\n",
       "      <td>56.0</td>\n",
       "      <td>NaN</td>\n",
       "    </tr>\n",
       "    <tr>\n",
       "      <th>2017-04-30 00:00:00+02:00</th>\n",
       "      <td>56.0</td>\n",
       "      <td>NaN</td>\n",
       "    </tr>\n",
       "    <tr>\n",
       "      <th>2017-05-07 00:00:00+02:00</th>\n",
       "      <td>56.0</td>\n",
       "      <td>NaN</td>\n",
       "    </tr>\n",
       "    <tr>\n",
       "      <th>2017-05-14 00:00:00+02:00</th>\n",
       "      <td>56.0</td>\n",
       "      <td>NaN</td>\n",
       "    </tr>\n",
       "    <tr>\n",
       "      <th>2017-05-21 00:00:00+02:00</th>\n",
       "      <td>56.0</td>\n",
       "      <td>NaN</td>\n",
       "    </tr>\n",
       "    <tr>\n",
       "      <th>2017-05-28 00:00:00+02:00</th>\n",
       "      <td>56.0</td>\n",
       "      <td>NaN</td>\n",
       "    </tr>\n",
       "    <tr>\n",
       "      <th>2017-06-04 00:00:00+02:00</th>\n",
       "      <td>56.0</td>\n",
       "      <td>NaN</td>\n",
       "    </tr>\n",
       "    <tr>\n",
       "      <th>2017-06-11 00:00:00+02:00</th>\n",
       "      <td>56.0</td>\n",
       "      <td>NaN</td>\n",
       "    </tr>\n",
       "    <tr>\n",
       "      <th>2017-06-18 00:00:00+02:00</th>\n",
       "      <td>56.0</td>\n",
       "      <td>NaN</td>\n",
       "    </tr>\n",
       "    <tr>\n",
       "      <th>2017-06-25 00:00:00+02:00</th>\n",
       "      <td>56.0</td>\n",
       "      <td>NaN</td>\n",
       "    </tr>\n",
       "    <tr>\n",
       "      <th>2017-07-02 00:00:00+02:00</th>\n",
       "      <td>40.0</td>\n",
       "      <td>NaN</td>\n",
       "    </tr>\n",
       "    <tr>\n",
       "      <th rowspan=\"3\" valign=\"top\">bv.1.7.1.1.1.1</th>\n",
       "      <th rowspan=\"3\" valign=\"top\">Den Helder veerhaven, Vak A</th>\n",
       "      <th>2017-01-01 00:00:00+01:00</th>\n",
       "      <td>8.0</td>\n",
       "      <td>NaN</td>\n",
       "    </tr>\n",
       "    <tr>\n",
       "      <th>2017-01-08 00:00:00+01:00</th>\n",
       "      <td>56.0</td>\n",
       "      <td>NaN</td>\n",
       "    </tr>\n",
       "    <tr>\n",
       "      <th>2017-01-15 00:00:00+01:00</th>\n",
       "      <td>56.0</td>\n",
       "      <td>NaN</td>\n",
       "    </tr>\n",
       "    <tr>\n",
       "      <th>bv.1.7.1.1.1.1</th>\n",
       "      <th>Den Helder veerhaven, Vak A</th>\n",
       "      <th>...</th>\n",
       "      <td>...</td>\n",
       "      <td>...</td>\n",
       "    </tr>\n",
       "    <tr>\n",
       "      <th rowspan=\"3\" valign=\"top\">bv.1.7.1.1.1.1</th>\n",
       "      <th rowspan=\"3\" valign=\"top\">Den Helder veerhaven, Vak A</th>\n",
       "      <th>...</th>\n",
       "      <td>56.0</td>\n",
       "      <td>NaN</td>\n",
       "    </tr>\n",
       "    <tr>\n",
       "      <th>...</th>\n",
       "      <td>56.0</td>\n",
       "      <td>NaN</td>\n",
       "    </tr>\n",
       "    <tr>\n",
       "      <th>2017-06-18 00:00:00+02:00</th>\n",
       "      <td>40.0</td>\n",
       "      <td>NaN</td>\n",
       "    </tr>\n",
       "    <tr>\n",
       "      <th rowspan=\"27\" valign=\"top\">bv.1.7.5.1</th>\n",
       "      <th rowspan=\"27\" valign=\"top\">Haven Noordpolderzijl, Havendeel</th>\n",
       "      <th>2017-06-25 00:00:00+02:00</th>\n",
       "      <td>8.0</td>\n",
       "      <td>NaN</td>\n",
       "    </tr>\n",
       "    <tr>\n",
       "      <th>2017-07-02 00:00:00+02:00</th>\n",
       "      <td>56.0</td>\n",
       "      <td>NaN</td>\n",
       "    </tr>\n",
       "    <tr>\n",
       "      <th>2017-01-01 00:00:00+01:00</th>\n",
       "      <td>56.0</td>\n",
       "      <td>NaN</td>\n",
       "    </tr>\n",
       "    <tr>\n",
       "      <th>2017-01-08 00:00:00+01:00</th>\n",
       "      <td>56.0</td>\n",
       "      <td>NaN</td>\n",
       "    </tr>\n",
       "    <tr>\n",
       "      <th>2017-01-15 00:00:00+01:00</th>\n",
       "      <td>56.0</td>\n",
       "      <td>NaN</td>\n",
       "    </tr>\n",
       "    <tr>\n",
       "      <th>2017-01-22 00:00:00+01:00</th>\n",
       "      <td>56.0</td>\n",
       "      <td>NaN</td>\n",
       "    </tr>\n",
       "    <tr>\n",
       "      <th>2017-01-29 00:00:00+01:00</th>\n",
       "      <td>56.0</td>\n",
       "      <td>NaN</td>\n",
       "    </tr>\n",
       "    <tr>\n",
       "      <th>2017-02-05 00:00:00+01:00</th>\n",
       "      <td>56.0</td>\n",
       "      <td>NaN</td>\n",
       "    </tr>\n",
       "    <tr>\n",
       "      <th>2017-02-12 00:00:00+01:00</th>\n",
       "      <td>56.0</td>\n",
       "      <td>NaN</td>\n",
       "    </tr>\n",
       "    <tr>\n",
       "      <th>2017-02-19 00:00:00+01:00</th>\n",
       "      <td>56.0</td>\n",
       "      <td>NaN</td>\n",
       "    </tr>\n",
       "    <tr>\n",
       "      <th>2017-02-26 00:00:00+01:00</th>\n",
       "      <td>56.0</td>\n",
       "      <td>NaN</td>\n",
       "    </tr>\n",
       "    <tr>\n",
       "      <th>2017-03-05 00:00:00+01:00</th>\n",
       "      <td>56.0</td>\n",
       "      <td>NaN</td>\n",
       "    </tr>\n",
       "    <tr>\n",
       "      <th>2017-03-12 00:00:00+01:00</th>\n",
       "      <td>56.0</td>\n",
       "      <td>NaN</td>\n",
       "    </tr>\n",
       "    <tr>\n",
       "      <th>2017-03-19 00:00:00+01:00</th>\n",
       "      <td>56.0</td>\n",
       "      <td>NaN</td>\n",
       "    </tr>\n",
       "    <tr>\n",
       "      <th>2017-03-26 00:00:00+01:00</th>\n",
       "      <td>56.0</td>\n",
       "      <td>NaN</td>\n",
       "    </tr>\n",
       "    <tr>\n",
       "      <th>2017-04-02 00:00:00+02:00</th>\n",
       "      <td>56.0</td>\n",
       "      <td>NaN</td>\n",
       "    </tr>\n",
       "    <tr>\n",
       "      <th>2017-04-09 00:00:00+02:00</th>\n",
       "      <td>56.0</td>\n",
       "      <td>NaN</td>\n",
       "    </tr>\n",
       "    <tr>\n",
       "      <th>2017-04-16 00:00:00+02:00</th>\n",
       "      <td>56.0</td>\n",
       "      <td>NaN</td>\n",
       "    </tr>\n",
       "    <tr>\n",
       "      <th>2017-04-23 00:00:00+02:00</th>\n",
       "      <td>56.0</td>\n",
       "      <td>NaN</td>\n",
       "    </tr>\n",
       "    <tr>\n",
       "      <th>2017-04-30 00:00:00+02:00</th>\n",
       "      <td>56.0</td>\n",
       "      <td>NaN</td>\n",
       "    </tr>\n",
       "    <tr>\n",
       "      <th>2017-05-07 00:00:00+02:00</th>\n",
       "      <td>56.0</td>\n",
       "      <td>NaN</td>\n",
       "    </tr>\n",
       "    <tr>\n",
       "      <th>2017-05-14 00:00:00+02:00</th>\n",
       "      <td>56.0</td>\n",
       "      <td>NaN</td>\n",
       "    </tr>\n",
       "    <tr>\n",
       "      <th>2017-05-21 00:00:00+02:00</th>\n",
       "      <td>56.0</td>\n",
       "      <td>NaN</td>\n",
       "    </tr>\n",
       "    <tr>\n",
       "      <th>2017-05-28 00:00:00+02:00</th>\n",
       "      <td>56.0</td>\n",
       "      <td>NaN</td>\n",
       "    </tr>\n",
       "    <tr>\n",
       "      <th>2017-06-04 00:00:00+02:00</th>\n",
       "      <td>56.0</td>\n",
       "      <td>NaN</td>\n",
       "    </tr>\n",
       "    <tr>\n",
       "      <th>2017-06-11 00:00:00+02:00</th>\n",
       "      <td>56.0</td>\n",
       "      <td>NaN</td>\n",
       "    </tr>\n",
       "    <tr>\n",
       "      <th>2017-06-18 00:00:00+02:00</th>\n",
       "      <td>40.0</td>\n",
       "      <td>NaN</td>\n",
       "    </tr>\n",
       "  </tbody>\n",
       "</table>\n",
       "<p>2700 rows × 2 columns</p>\n",
       "</div>"
      ],
      "text/plain": [
       "                                                                                                                                 flag  \\\n",
       "moduleId                    parameterId         units locationId     stationName                      date                              \n",
       "pr.Reizen.mars.baggeracties k.m3.gebaggerd.mars m3    bv.1.7.1.1     Den Helder - Texel, Vaarweg      2017-01-01 00:00:00+01:00   8.0   \n",
       "                                                                                                      2017-01-08 00:00:00+01:00  56.0   \n",
       "                                                                                                      2017-01-15 00:00:00+01:00  56.0   \n",
       "                                                                                                      2017-01-22 00:00:00+01:00  56.0   \n",
       "                                                                                                      2017-01-29 00:00:00+01:00  56.0   \n",
       "                                                                                                      2017-02-05 00:00:00+01:00  56.0   \n",
       "                                                                                                      2017-02-12 00:00:00+01:00  56.0   \n",
       "                                                                                                      2017-02-19 00:00:00+01:00  56.0   \n",
       "                                                                                                      2017-02-26 00:00:00+01:00  56.0   \n",
       "                                                                                                      2017-03-05 00:00:00+01:00  56.0   \n",
       "                                                                                                      2017-03-12 00:00:00+01:00  56.0   \n",
       "                                                                                                      2017-03-19 00:00:00+01:00  56.0   \n",
       "                                                                                                      2017-03-26 00:00:00+01:00  56.0   \n",
       "                                                                                                      2017-04-02 00:00:00+02:00  56.0   \n",
       "                                                                                                      2017-04-09 00:00:00+02:00  56.0   \n",
       "                                                                                                      2017-04-16 00:00:00+02:00  56.0   \n",
       "                                                                                                      2017-04-23 00:00:00+02:00  56.0   \n",
       "                                                                                                      2017-04-30 00:00:00+02:00  56.0   \n",
       "                                                                                                      2017-05-07 00:00:00+02:00  56.0   \n",
       "                                                                                                      2017-05-14 00:00:00+02:00  56.0   \n",
       "                                                                                                      2017-05-21 00:00:00+02:00  56.0   \n",
       "                                                                                                      2017-05-28 00:00:00+02:00  56.0   \n",
       "                                                                                                      2017-06-04 00:00:00+02:00  56.0   \n",
       "                                                                                                      2017-06-11 00:00:00+02:00  56.0   \n",
       "                                                                                                      2017-06-18 00:00:00+02:00  56.0   \n",
       "                                                                                                      2017-06-25 00:00:00+02:00  56.0   \n",
       "                                                                                                      2017-07-02 00:00:00+02:00  40.0   \n",
       "                                                      bv.1.7.1.1.1.1 Den Helder veerhaven, Vak A      2017-01-01 00:00:00+01:00   8.0   \n",
       "                                                                                                      2017-01-08 00:00:00+01:00  56.0   \n",
       "                                                                                                      2017-01-15 00:00:00+01:00  56.0   \n",
       "...                                                                                                                               ...   \n",
       "                                                      bv.1.7.5.1     Haven Noordpolderzijl, Havendeel 2017-06-18 00:00:00+02:00  56.0   \n",
       "                                                                                                      2017-06-25 00:00:00+02:00  56.0   \n",
       "                                                                                                      2017-07-02 00:00:00+02:00  40.0   \n",
       "                                                      bv.1.7.6.2     Schanskerdiep                    2017-01-01 00:00:00+01:00   8.0   \n",
       "                                                                                                      2017-01-08 00:00:00+01:00  56.0   \n",
       "                                                                                                      2017-01-15 00:00:00+01:00  56.0   \n",
       "                                                                                                      2017-01-22 00:00:00+01:00  56.0   \n",
       "                                                                                                      2017-01-29 00:00:00+01:00  56.0   \n",
       "                                                                                                      2017-02-05 00:00:00+01:00  56.0   \n",
       "                                                                                                      2017-02-12 00:00:00+01:00  56.0   \n",
       "                                                                                                      2017-02-19 00:00:00+01:00  56.0   \n",
       "                                                                                                      2017-02-26 00:00:00+01:00  56.0   \n",
       "                                                                                                      2017-03-05 00:00:00+01:00  56.0   \n",
       "                                                                                                      2017-03-12 00:00:00+01:00  56.0   \n",
       "                                                                                                      2017-03-19 00:00:00+01:00  56.0   \n",
       "                                                                                                      2017-03-26 00:00:00+01:00  56.0   \n",
       "                                                                                                      2017-04-02 00:00:00+02:00  56.0   \n",
       "                                                                                                      2017-04-09 00:00:00+02:00  56.0   \n",
       "                                                                                                      2017-04-16 00:00:00+02:00  56.0   \n",
       "                                                                                                      2017-04-23 00:00:00+02:00  56.0   \n",
       "                                                                                                      2017-04-30 00:00:00+02:00  56.0   \n",
       "                                                                                                      2017-05-07 00:00:00+02:00  56.0   \n",
       "                                                                                                      2017-05-14 00:00:00+02:00  56.0   \n",
       "                                                                                                      2017-05-21 00:00:00+02:00  56.0   \n",
       "                                                                                                      2017-05-28 00:00:00+02:00  56.0   \n",
       "                                                                                                      2017-06-04 00:00:00+02:00  56.0   \n",
       "                                                                                                      2017-06-11 00:00:00+02:00  56.0   \n",
       "                                                                                                      2017-06-18 00:00:00+02:00  56.0   \n",
       "                                                                                                      2017-06-25 00:00:00+02:00  56.0   \n",
       "                                                                                                      2017-07-02 00:00:00+02:00  40.0   \n",
       "\n",
       "                                                                                                                                 value  \n",
       "moduleId                    parameterId         units locationId     stationName                      date                              \n",
       "pr.Reizen.mars.baggeracties k.m3.gebaggerd.mars m3    bv.1.7.1.1     Den Helder - Texel, Vaarweg      2017-01-01 00:00:00+01:00    NaN  \n",
       "                                                                                                      2017-01-08 00:00:00+01:00    NaN  \n",
       "                                                                                                      2017-01-15 00:00:00+01:00    NaN  \n",
       "                                                                                                      2017-01-22 00:00:00+01:00    NaN  \n",
       "                                                                                                      2017-01-29 00:00:00+01:00    NaN  \n",
       "                                                                                                      2017-02-05 00:00:00+01:00    NaN  \n",
       "                                                                                                      2017-02-12 00:00:00+01:00    NaN  \n",
       "                                                                                                      2017-02-19 00:00:00+01:00    NaN  \n",
       "                                                                                                      2017-02-26 00:00:00+01:00    NaN  \n",
       "                                                                                                      2017-03-05 00:00:00+01:00    NaN  \n",
       "                                                                                                      2017-03-12 00:00:00+01:00    NaN  \n",
       "                                                                                                      2017-03-19 00:00:00+01:00    NaN  \n",
       "                                                                                                      2017-03-26 00:00:00+01:00    NaN  \n",
       "                                                                                                      2017-04-02 00:00:00+02:00    NaN  \n",
       "                                                                                                      2017-04-09 00:00:00+02:00    NaN  \n",
       "                                                                                                      2017-04-16 00:00:00+02:00    NaN  \n",
       "                                                                                                      2017-04-23 00:00:00+02:00    NaN  \n",
       "                                                                                                      2017-04-30 00:00:00+02:00    NaN  \n",
       "                                                                                                      2017-05-07 00:00:00+02:00    NaN  \n",
       "                                                                                                      2017-05-14 00:00:00+02:00    NaN  \n",
       "                                                                                                      2017-05-21 00:00:00+02:00    NaN  \n",
       "                                                                                                      2017-05-28 00:00:00+02:00    NaN  \n",
       "                                                                                                      2017-06-04 00:00:00+02:00    NaN  \n",
       "                                                                                                      2017-06-11 00:00:00+02:00    NaN  \n",
       "                                                                                                      2017-06-18 00:00:00+02:00    NaN  \n",
       "                                                                                                      2017-06-25 00:00:00+02:00    NaN  \n",
       "                                                                                                      2017-07-02 00:00:00+02:00    NaN  \n",
       "                                                      bv.1.7.1.1.1.1 Den Helder veerhaven, Vak A      2017-01-01 00:00:00+01:00    NaN  \n",
       "                                                                                                      2017-01-08 00:00:00+01:00    NaN  \n",
       "                                                                                                      2017-01-15 00:00:00+01:00    NaN  \n",
       "...                                                                                                                                ...  \n",
       "                                                      bv.1.7.5.1     Haven Noordpolderzijl, Havendeel 2017-06-18 00:00:00+02:00    NaN  \n",
       "                                                                                                      2017-06-25 00:00:00+02:00    NaN  \n",
       "                                                                                                      2017-07-02 00:00:00+02:00    NaN  \n",
       "                                                      bv.1.7.6.2     Schanskerdiep                    2017-01-01 00:00:00+01:00    NaN  \n",
       "                                                                                                      2017-01-08 00:00:00+01:00    NaN  \n",
       "                                                                                                      2017-01-15 00:00:00+01:00    NaN  \n",
       "                                                                                                      2017-01-22 00:00:00+01:00    NaN  \n",
       "                                                                                                      2017-01-29 00:00:00+01:00    NaN  \n",
       "                                                                                                      2017-02-05 00:00:00+01:00    NaN  \n",
       "                                                                                                      2017-02-12 00:00:00+01:00    NaN  \n",
       "                                                                                                      2017-02-19 00:00:00+01:00    NaN  \n",
       "                                                                                                      2017-02-26 00:00:00+01:00    NaN  \n",
       "                                                                                                      2017-03-05 00:00:00+01:00    NaN  \n",
       "                                                                                                      2017-03-12 00:00:00+01:00    NaN  \n",
       "                                                                                                      2017-03-19 00:00:00+01:00    NaN  \n",
       "                                                                                                      2017-03-26 00:00:00+01:00    NaN  \n",
       "                                                                                                      2017-04-02 00:00:00+02:00    NaN  \n",
       "                                                                                                      2017-04-09 00:00:00+02:00    NaN  \n",
       "                                                                                                      2017-04-16 00:00:00+02:00    NaN  \n",
       "                                                                                                      2017-04-23 00:00:00+02:00    NaN  \n",
       "                                                                                                      2017-04-30 00:00:00+02:00    NaN  \n",
       "                                                                                                      2017-05-07 00:00:00+02:00    NaN  \n",
       "                                                                                                      2017-05-14 00:00:00+02:00    NaN  \n",
       "                                                                                                      2017-05-21 00:00:00+02:00    NaN  \n",
       "                                                                                                      2017-05-28 00:00:00+02:00    NaN  \n",
       "                                                                                                      2017-06-04 00:00:00+02:00    NaN  \n",
       "                                                                                                      2017-06-11 00:00:00+02:00    NaN  \n",
       "                                                                                                      2017-06-18 00:00:00+02:00    NaN  \n",
       "                                                                                                      2017-06-25 00:00:00+02:00    NaN  \n",
       "                                                                                                      2017-07-02 00:00:00+02:00    NaN  \n",
       "\n",
       "[2700 rows x 2 columns]"
      ]
     },
     "execution_count": 68,
     "metadata": {},
     "output_type": "execute_result"
    }
   ],
   "source": [
    "#weeksums!!\n",
    "result"
   ]
  },
  {
   "cell_type": "code",
   "execution_count": 69,
   "metadata": {
    "collapsed": false,
    "deletable": true,
    "editable": true
   },
   "outputs": [],
   "source": [
    "json = result.reset_index().to_json(orient='records', date_format='iso')"
   ]
  },
  {
   "cell_type": "code",
   "execution_count": 70,
   "metadata": {
    "collapsed": false,
    "deletable": true,
    "editable": true
   },
   "outputs": [
    {
     "name": "stdout",
     "output_type": "stream",
     "text": [
      "http://85.17.82.66/dataservices/ will be used as portal\n"
     ]
    }
   ],
   "source": [
    "dataservice = 'http://85.17.82.66/dataservices/'\n",
    "dataportal.setDataservice(dataservice)"
   ]
  },
  {
   "cell_type": "code",
   "execution_count": 71,
   "metadata": {
    "collapsed": false,
    "deletable": true,
    "editable": true
   },
   "outputs": [
    {
     "data": {
      "text/plain": [
       "{'exception': 'database name already exists'}"
      ]
     },
     "execution_count": 71,
     "metadata": {},
     "output_type": "execute_result"
    }
   ],
   "source": [
    "database = 'OMSWaddenzee'\n",
    "dataportal.createDatabase(database)"
   ]
  },
  {
   "cell_type": "code",
   "execution_count": 72,
   "metadata": {
    "collapsed": false,
    "deletable": true,
    "editable": true
   },
   "outputs": [
    {
     "data": {
      "text/plain": [
       "{'date': '2017-06-28 22:44:43',\n",
       " 'id': 'e9c227cd-d380-4b44-b176-1cfc8b54293c',\n",
       " 'key': 'k.m3.gebaggerd.mars|m3'}"
      ]
     },
     "execution_count": 72,
     "metadata": {},
     "output_type": "execute_result"
    }
   ],
   "source": [
    "key = 'k.m3.gebaggerd.mars|m3'\n",
    "dataportal.setEntryDatabase(database, 'k.m3.gebaggerd.mars|m3', json)"
   ]
  },
  {
   "cell_type": "code",
   "execution_count": 73,
   "metadata": {
    "collapsed": false,
    "deletable": true,
    "editable": true
   },
   "outputs": [
    {
     "name": "stdout",
     "output_type": "stream",
     "text": [
      "http://85.17.82.66/dataservices/data.asmx/read?database=OMSWaddenzee&key=k.m3.gebaggerd.mars|m3\n"
     ]
    }
   ],
   "source": [
    "out = dataportal.getEntryDatabase(database, key)"
   ]
  },
  {
   "cell_type": "code",
   "execution_count": null,
   "metadata": {
    "collapsed": true,
    "deletable": true,
    "editable": true
   },
   "outputs": [],
   "source": []
  }
 ],
 "metadata": {
  "kernelspec": {
   "display_name": "Python 3",
   "language": "python",
   "name": "python3"
  },
  "language_info": {
   "codemirror_mode": {
    "name": "ipython",
    "version": 3
   },
   "file_extension": ".py",
   "mimetype": "text/x-python",
   "name": "python",
   "nbconvert_exporter": "python",
   "pygments_lexer": "ipython3",
   "version": "3.5.2"
  }
 },
 "nbformat": 4,
 "nbformat_minor": 2
}
