{
 "cells": [
  {
   "cell_type": "code",
   "execution_count": 1,
   "metadata": {
    "collapsed": false,
    "deletable": true,
    "editable": true
   },
   "outputs": [],
   "source": [
    "#FEWSPI PARSER\n",
    "# coding: utf-8\n",
    "\n",
    "# In[1]:\n",
    "\n",
    "#from pysimplesoap.client import SoapClient\n",
    "from suds.client import Client\n",
    "from datetime import datetime\n",
    "import pytz\n",
    "import untangle\n",
    "import pandas as pd\n",
    "import numpy as np\n",
    "# import folium\n",
    "import geopandas as gpd\n",
    "from geojson import Feature, Point, FeatureCollection\n",
    "from shapely.geometry import Point\n",
    "import fire\n",
    "import random\n",
    "import json\n",
    "import tempfile\n",
    "import zeep\n",
    "from xml.etree import ElementTree as et\n",
    "\n",
    "try:\n",
    "    get_ipython().magic('matplotlib inline')\n",
    "except:\n",
    "    a=1"
   ]
  },
  {
   "cell_type": "code",
   "execution_count": 2,
   "metadata": {
    "collapsed": true,
    "deletable": true,
    "editable": true
   },
   "outputs": [],
   "source": [
    "# In[27]:\n",
    "\n",
    "class fewsPi(object):\n",
    "    \"\"\"\n",
    "    different classes to access the fews pi service and store it in the HKV db3 services\n",
    "    \"\"\"\n",
    "    \n",
    "    class hkvportal(object):\n",
    "        def setdatabykey(dbService, dbName, dbId, data):       \n",
    "            \"\"\"\n",
    "            This function can set a data object in the dataservice database on the HKV services portal. \n",
    "            The following input parameters are available:\n",
    "\n",
    "            Parameters\n",
    "            ----------\n",
    "            dbService : str\n",
    "                URL to the accessible wsdl HKV dbService (eg. 'http://www.oms-waddenzee.nl/dataservices.ws/entry.asmx?WSDL')\n",
    "            dbName : str\n",
    "                name of the database used in the HKV dbService (eg. 'PR3427_10')\n",
    "            dbId : str\n",
    "                name of the identifier to be used in the database entry (eg. 'moduleInstance|parameter|qualifier|location')\n",
    "            data : object (json)\n",
    "                data object in the format of preferences, for visualizations use stacked json\n",
    "            \"\"\"\n",
    "            client = zeep.Client(wsdl=dbService)\n",
    "            zeep_out = client.service.setdatabykey(dbName, dbId, data)\n",
    "            print (zeep_out)\n",
    "        \n",
    "    class utils(object):\n",
    "        def event_client_datetime(event, tz_server, tz_client='Europe/Amsterdam'):\n",
    "            \"\"\"\n",
    "            Get datetime object in client time of an XML Element named event with attributes date and time\n",
    "            input:\n",
    "            event     : XML Element named event [eg: obj.TimeSeries.series.event[0]]\n",
    "            tz_server : datetime abbreviation of the server timezone [eg: 'Etc/GMT']\n",
    "            tz_client : datetime abbreviation of the client timezone [eg: 'Europe/Amsterdam']\n",
    "\n",
    "            return\n",
    "            event_client_time : an datetime object of the event in client timezome\n",
    "\n",
    "            \"\"\"    \n",
    "            # convert XML element date string to integer list\n",
    "            event_server_date = list(map(int, event['date'].split('-'))) # -> [yyyy, MM, dd]\n",
    "            event_server_time = list(map(int, event['time'].split(':'))) # -> [HH, mm, ss]\n",
    "\n",
    "            # define server time\n",
    "            server_time = datetime(event_server_date[0], event_server_date[1], event_server_date[2], \n",
    "                                   event_server_time[0], event_server_time[1], event_server_time[2], \n",
    "                                   tzinfo=pytz.timezone(tz_server))    \n",
    "            client_timezone = pytz.timezone(tz_client)\n",
    "\n",
    "            # returns datetime in the new timezone\n",
    "            event_client_time = server_time.astimezone(client_timezone)     \n",
    "\n",
    "            return event_client_time  \n",
    "\n",
    "        # function to save xml parsed output as a temporal json file\n",
    "        def saveJson_tmp(pi_json_object):\n",
    "            \"\"\"\n",
    "            save Fews-Pi json object to temp file\n",
    "\n",
    "            Parameters\n",
    "            ----------\n",
    "            pi_json_object : json object from FEWSPI webservice\n",
    "\n",
    "            Output\n",
    "            ----------\n",
    "            temporary file location\n",
    "            \"\"\"\n",
    "            json_obj = json.loads(pi_json_object)\n",
    "            json_tmp_file = tempfile.mkstemp(suffix='.json')\n",
    "            with open(json_tmp_file[1], 'w') as outfile:\n",
    "                json.dump(json_obj,outfile)\n",
    "            return json_tmp_file[1]        \n",
    "    \n",
    "        # function to save xml parsed output as a temporal json file\n",
    "        def saveXml_tmp(pi_xml_object):\n",
    "            \"\"\"\n",
    "            save Fews-Pi xml object to temp file\n",
    "\n",
    "            Parameters\n",
    "            ----------\n",
    "            pi_xml_object : xml object from FEWSPI webservice\n",
    "\n",
    "            Output\n",
    "            ----------\n",
    "            temporary file location\n",
    "            \"\"\"\n",
    "            #xml_obj = json.loads(pi_json_object)\n",
    "            xml_tmp_file = tempfile.mkstemp(suffix='.xml')\n",
    "            et.ElementTree(et.fromstring(pi_xml_object)).write(open(xml_tmp_file[1], 'w'), encoding='unicode')\n",
    "            return xml_tmp_file[1]        \n",
    "        \n",
    "    \n",
    "    \"\"\"class with all fews Pi modules\"\"\"            \n",
    "    def getLocations(self, piService, filterId='f_werk.1', piVersion='1.22', clientId=''):\n",
    "        \"\"\"\n",
    "        This function can get locations from a fews Pi webservice. The following input parameters\n",
    "        are available:\n",
    "        \n",
    "        Parameters\n",
    "        ----------\n",
    "        piService : str\n",
    "            URL to the accessible wsdl FEWS piService (eg. 'http://www.oms-waddenzee.nl:8081/FewsPiService/fewspiservice?wsdl')\n",
    "        filterId : str \n",
    "            standard is 'f_werk.1'\n",
    "        piVersion : str\n",
    "            current default is '1.22'\n",
    "        clientId : str\n",
    "            current default is ''\n",
    "        \"\"\"\n",
    "        \n",
    "        # create the service input xml\n",
    "        #self.getSoapClient(piService=piService)\n",
    "        self.client = zeep.Client(wsdl=piService)#Client(piService)\n",
    "        #getLocations = self.client.factory.create('getLocations')\n",
    "        \n",
    "        # check query to execute for pi version\n",
    "        if piVersion in {'1.22',''}:\n",
    "            # execute the query\n",
    "            getLocations_response = self.client.service.getLocations(clientId, filterId, piVersion)\n",
    "        \n",
    "            # parse XML object\n",
    "            obj = untangle.parse_raw(getLocations_response)\n",
    "            #getLocations_xml_file = fewsPi.utils.saveXml_tmp(getLocations_response)\n",
    "            #obj = untangle.parse(getLocations_xml_file)\n",
    "\n",
    "            rows_latlon_list = []\n",
    "            # get geoDatum\n",
    "            geoDatum = obj.Locations.geoDatum.cdata\n",
    "            # get locations\n",
    "            for location in obj.Locations.location:    \n",
    "                rows_latlon_list.append({'locationId':location['locationId'],\n",
    "                                         'shortName':location.shortName.cdata,\n",
    "                                         'Lat':float(location.lat.cdata),\n",
    "                                         'Lon':float(location.lon.cdata),\n",
    "                                         'x':float(location.x.cdata),\n",
    "                                         'y':float(location.y.cdata)\n",
    "                                        })\n",
    "\n",
    "            # CREATE dataframe of location rows dictionary\n",
    "            df_latlon = pd.DataFrame(rows_latlon_list)\n",
    "\n",
    "            # CONVERT to geodataframe using latlon for geometry\n",
    "            geometry = [Point(xy) for xy in zip(df_latlon.Lon, df_latlon.Lat)]\n",
    "            df = df_latlon.drop(['Lon', 'Lat'], axis=1)\n",
    "            crs = {'init': 'epsg:4326'}\n",
    "            gdf2json = gpd.GeoDataFrame(df_latlon, crs=crs, geometry=geometry).to_json()\n",
    "        return gdf2json\n",
    "    \n",
    "    def getTimeZoneId(self, piService):   \n",
    "        self.client = zeep.Client(piService)\n",
    "        timeZoneId = self.client.service.getTimeZoneId()\n",
    "        return timeZoneId\n",
    "    \n",
    "    def getTimeseries(self, piService, moduleInstanceIds = 'pr.Reizen.vdLee.baggeracties',\n",
    "                      locationIds = ['bv.1.7.2.1.1','bv.1.7.2.3.2'], parameterIds = 'k.m3.gebaggerd.vdlee',\n",
    "                      startTime = '2016-08-01T02:00:00.0+02:00', endTime = '2017-02-01T01:00:00.0+01:00',\n",
    "                      convertDatum = 'false', omitMissing = 'false', onlyHeaders = 'false', \n",
    "                      filterId = None, piVersion='1.22', clientId=''):\n",
    "        \"\"\"\n",
    "        This function can get timeseries from a fews Pi webservice. The following input parameters\n",
    "        are available:\n",
    "        \n",
    "        Parameters\n",
    "        ----------\n",
    "        piService : str\n",
    "            URL to the accessible wsdl FEWS piService (eg. 'http://www.oms-waddenzee.nl:8081/FewsPiService/fewspiservice?wsdl')\n",
    "        moduleInstanceIds : str\n",
    "            name of the module used in FEWS (eg. 'pr.Reizen.vdLee.baggeracties')\n",
    "        locationIds : str or list of strings\n",
    "            name of the location(s) (eg. ['bv.1.7.2.1.1','bv.1.7.2.3.2'])\n",
    "        parameterIds : str or list of strings\n",
    "            name of the parameter(s) (eg. 'k.m3.zandwinning.vdlee')\n",
    "        startTime : str        \n",
    "            start time in iso format plus timezone (eg. '2016-08-01T02:00:00.0+02:00')\n",
    "        endTime : str\n",
    "            end time in iso format plus timezone (eg. '2017-02-01T02:00:00.0+01:00')\n",
    "        convertDatum : str (boolean)\n",
    "            standard is 'false'\n",
    "        omitMissing : str (boolean)\n",
    "            standard is 'false'\n",
    "        onlyHeaders : str (boolean)\n",
    "            standard is 'false'\n",
    "        filterId : str \n",
    "            standard is None\n",
    "        piVersion : str\n",
    "            current default is '1.22'\n",
    "        clientId : str\n",
    "            current default is ''            \n",
    "        \"\"\"\n",
    "        \n",
    "        self.client = Client(piService)\n",
    "        \n",
    "        # set timeZoneId\n",
    "        self.timeZoneId = self.getTimeZoneId(piService)\n",
    "        \n",
    "        getTimeSeries = self.client.factory.create('getTimeSeries')\n",
    "\n",
    "        # check query to execute for pi version\n",
    "        if piVersion in {'1.22',''}:        \n",
    "            # fill in the query parameters\n",
    "            getTimeSeries.queryParams.convertDatum = convertDatum\n",
    "            getTimeSeries.queryParams.omitMissing = omitMissing\n",
    "            getTimeSeries.queryParams.onlyHeaders = onlyHeaders\n",
    "            getTimeSeries.queryParams.moduleInstanceIds = moduleInstanceIds\n",
    "            \n",
    "            # fallback if no locations are included, get all locations by request\n",
    "            if locationIds == '':\n",
    "                # get the locations as a geojson from the fewspiservice\n",
    "                piLocations = json.loads(self.getLocations(piService=piService, filterId=filterId, piVersion=piVersion))\n",
    "                gdf = gpd.GeoDataFrame.from_features(piLocations['features'])\n",
    "                locationIds = gdf.locationId.tolist()\n",
    "            getTimeSeries.queryParams.locationIds = locationIds\n",
    "            \n",
    "            getTimeSeries.queryParams.parameterIds = parameterIds\n",
    "            getTimeSeries.queryParams.startTime = startTime#'2016-08-01 02:00'\n",
    "            getTimeSeries.queryParams.endTime = endTime#'2017-04-01 02:00'\n",
    "            getTimeSeries.queryParams.version = piVersion\n",
    "\n",
    "            # execute the query            \n",
    "            getTimeSeries_response = self.client.service.getTimeSeries(getTimeSeries.queryParams)\n",
    "            #getTimeSeries_xml_file = fewsPi.utils.saveXml_tmp(getTimeSeries_response)\n",
    "            \n",
    "            obj = untangle.parse_raw(getTimeSeries_response)\n",
    "            #obj = untangle.parse(self.client.service.getTimeSeries(getTimeSeries.queryParams))\n",
    "            \n",
    "            # empty dictionary to fill with dictionary format of each row\n",
    "            # method adopted to avoid appending to pandas dataframe\n",
    "            event_attributes = ['value','flag']\n",
    "            rows_ts_dict = {}\n",
    "            rows_latlon_list = []\n",
    "\n",
    "            # start iteration\n",
    "            for series in obj.TimeSeries.series:\n",
    "                # initiate empty lists\n",
    "                moduleInstanceId = []\n",
    "                locationId = []\n",
    "\n",
    "                stationName= []\n",
    "                parameterId = []\n",
    "\n",
    "                event_datetimes = []\n",
    "                event_values = []\n",
    "                event_flags = []    \n",
    "\n",
    "                # collect metadata        \n",
    "                # GET moduleInstanceId\n",
    "                try:\n",
    "                    moduleInstanceId.append(series.header.moduleInstanceId.cdata)\n",
    "                except AttributeError as e:\n",
    "                    print ('warning:',e)\n",
    "\n",
    "                # GET locationId \n",
    "                try:\n",
    "                    locationId.append(series.header.locationId.cdata)\n",
    "                except AttributeError as e:\n",
    "                    print ('warning:',e)\n",
    "\n",
    "                # GET lat\n",
    "                try:\n",
    "                    lat = float(series.header.lat.cdata)\n",
    "                except AttributeError as e:\n",
    "                    print ('warning:',e)        \n",
    "\n",
    "                # GET lon\n",
    "                try:\n",
    "                    lon = float(series.header.lon.cdata)\n",
    "                except AttributeError as e:\n",
    "                    print ('warning:',e)                \n",
    "\n",
    "                # GET stationNames\n",
    "                try:\n",
    "                    stationName.append(series.header.stationName.cdata)\n",
    "                except AttributeError as e:\n",
    "                    print ('warning:',e)          \n",
    "\n",
    "                # GET parameterId    \n",
    "                try:\n",
    "                    parameterId.append(series.header.parameterId.cdata + ' (' + series.header.units.cdata + ')')\n",
    "                except AttributeError as e:\n",
    "                    print ('warning:',e)\n",
    "\n",
    "                # GET data values    \n",
    "                for event in series.event:                    \n",
    "                    event_datetimes.append( fewsPi.utils.event_client_datetime(event, tz_server='Etc/'+ self.timeZoneId, tz_client='Asia/Yangon'))\n",
    "                    event_values.append( float(event['value']))\n",
    "                    event_flags.append( int(event['flag']))\n",
    "\n",
    "                # PUT timeseries info into row dictionary\n",
    "                dataValuesFlags = [event_values,event_flags]\n",
    "                multiColumns = pd.MultiIndex.from_product([moduleInstanceId, parameterId, locationId, stationName, event_attributes], \n",
    "                                                          names=['moduleInstanceIds','parameterIds','locationIds','stationName','event_attributes'])\n",
    "                df_ts_dict = pd.DataFrame(dataValuesFlags,index=multiColumns, columns=event_datetimes).T.to_dict()\n",
    "\n",
    "                # PUT timeseries row in dictionary of rows\n",
    "                rows_ts_dict.update(df_ts_dict)\n",
    "\n",
    "            #     # PUT latlon/location info into row dictionary\n",
    "            #     df_latlon_dict = pd.DataFrame([{'stationName':stationName[0],'lat':lat,'lon':lon}]).to_dict(orient='split')\n",
    "            #     print (df_latlon_dict)\n",
    "\n",
    "                # PUT latlon/location row in dictionary of rows\n",
    "                rows_latlon_list.append({'stationName':stationName[0],'Lat':lat,'Lon':lon})\n",
    "\n",
    "            # CREATE dataframe of timeseries rows dictionary\n",
    "            df_timeseries = pd.DataFrame(rows_ts_dict)\n",
    "\n",
    "            # reset the multiIndex and create a stacked DataFrame and convert to row-oriented JSON object\n",
    "            df_timeseries = df_timeseries.stack([0,1,2,3]).rename_axis(['date','moduleId','parameterId','locationId','stationName'])\n",
    "            df2json = df_timeseries.reset_index().to_json(orient='records', date_format='iso')\n",
    "\n",
    "            #             # CREATE dataframe of location rows dictionary\n",
    "            #             df_latlon = pd.DataFrame(rows_latlon_list)\n",
    "\n",
    "            #             # CONVERT latitude longitude to geometry points\n",
    "            #             geometry = [Point(xy) for xy in zip(df_latlon.Lon, df_latlon.Lat)]\n",
    "            #             df_latlon = df_latlon.drop(['Lon', 'Lat'], axis=1)\n",
    "            #             crs = {'init': 'epsg:4326'}\n",
    "            #             gdf_latlon = gpd.GeoDataFrame(df_latlon, crs=crs, geometry=geometry).to_json()\n",
    "\n",
    "            return df2json       \n",
    "    \n",
    "if __name__ == '__main__':\n",
    "    try:\n",
    "        # for command line requests\n",
    "        fire.Fire(fewsPi)\n",
    "    except:\n",
    "        # for jupyter notebooks\n",
    "        pi = fewsPi()\n",
    "\n",
    "# test scripts\n",
    "#>python fewsPiParser.py getTimeseries --piService='http://www.oms-waddenzee.nl:8081/FewsPiService/fewspiservice?wsdl' --locationIds='bv.1.7.2.1.1'\n",
    "#>python fewsPiParser_new.py getTimeseries --piService='http://www.oms-waddenzee.nl:8081/FewsPiService/fewspiservice?wsdl' --locationIds=''\n",
    "#>python fewsPiParser.py getLocations --piService='http://www.oms-waddenzee.nl:8081/FewsPiService/fewspiservice?wsdl' --filterId='f_werk.1'\n",
    "#>python fewsPiParser.py getTimeZoneId --piService='http://www.oms-waddenzee.nl:8081/FewsPiService/fewspiservice?wsdl'"
   ]
  },
  {
   "cell_type": "code",
   "execution_count": 57,
   "metadata": {
    "collapsed": true,
    "deletable": true,
    "editable": true
   },
   "outputs": [],
   "source": [
    "# get the locations as a geojson from the fewspiservice\n",
    "piService = 'http://www.oms-waddenzee.nl:8081/FewsPiService/fewspiservice?wsdl'\n",
    "\n",
    "# OMS Waddenzee server\n",
    "clientId = ''\n",
    "filterId = 'f_werk'\n",
    "piVersion = '1.22'\n",
    "\n",
    "moduleInstanceIds='pr.Reizen.vdLee.baggeracties'\n",
    "locationIds='bv.1.7.2.1.1'\n",
    "parameterIds='k.m3.gebaggerd.vdlee'\n",
    "startTime='2016-08-01T02:00:00.0+02:00'\n",
    "endTime='2017-02-01T01:00:00.0+01:00'\n",
    "convertDatum='false'\n",
    "omitMissing='false'\n",
    "onlyHeaders='false'\n",
    "filterId=None"
   ]
  },
  {
   "cell_type": "code",
   "execution_count": 58,
   "metadata": {
    "collapsed": true
   },
   "outputs": [],
   "source": [
    "# piService = 'http://localhost:8101/FewsPiService?wsdl'\n",
    "\n",
    "# # Myanmar localhost\n",
    "# clientId = ''\n",
    "# filterId = 'METEO.GSOD'\n",
    "# piVersion = '1.22'"
   ]
  },
  {
   "cell_type": "code",
   "execution_count": 59,
   "metadata": {
    "collapsed": true
   },
   "outputs": [],
   "source": [
    "# HKV database service portal\n",
    "#_dbService = 'http://localhost/dataservices.ws/entry.asmx?WSDL'"
   ]
  },
  {
   "cell_type": "code",
   "execution_count": 60,
   "metadata": {
    "collapsed": false
   },
   "outputs": [
    {
     "data": {
      "text/plain": [
       "'GMT'"
      ]
     },
     "execution_count": 60,
     "metadata": {},
     "output_type": "execute_result"
    }
   ],
   "source": [
    "# test to get the TimeZoneId\n",
    "pi.getTimeZoneId(piService)"
   ]
  },
  {
   "cell_type": "code",
   "execution_count": 61,
   "metadata": {
    "collapsed": false
   },
   "outputs": [
    {
     "name": "stdout",
     "output_type": "stream",
     "text": [
      "['bv.1.7.2.3.2', 'bv.1.7.1.3.1', 'bv.1.7.3.1.1', 'bv.1.7.3.1.2.A', 'bv.1.7.3.1.3']\n"
     ]
    },
    {
     "data": {
      "image/png": "[encoded data removed]",
      "text/plain": [
       "<matplotlib.figure.Figure at 0xa077c18>"
      ]
     },
     "metadata": {},
     "output_type": "display_data"
    }
   ],
   "source": [
    "# get locations\n",
    "#pi.getLocations(piService,filterId, piVersion, clientId)\n",
    "piLocations = json.loads(pi.getLocations(piService=piService, filterId=filterId, piVersion=piVersion))\n",
    "# parse the output to a geodataframe\n",
    "gdf = gpd.GeoDataFrame.from_features(piLocations['features'])\n",
    "locationIds = gdf.locationId.tolist()\n",
    "\n",
    "gdf.geometry.plot()\n",
    "print (locationIds[0:5])"
   ]
  },
  {
   "cell_type": "code",
   "execution_count": 62,
   "metadata": {
    "collapsed": false
   },
   "outputs": [],
   "source": [
    "#piTimeseries = pi.getTimeseries(piService, moduleInstanceIds, locationIds, parameterIds, startTime, endTime)"
   ]
  },
  {
   "cell_type": "code",
   "execution_count": 72,
   "metadata": {
    "collapsed": false
   },
   "outputs": [],
   "source": [
    "client = zeep.Client(piService)\n",
    "# client.service.getLocations(clientId, filterId, piVersion)"
   ]
  },
  {
   "cell_type": "code",
   "execution_count": 73,
   "metadata": {
    "collapsed": false
   },
   "outputs": [],
   "source": [
    "gts = client.service.getTimeSeries"
   ]
  },
  {
   "cell_type": "code",
   "execution_count": 74,
   "metadata": {
    "collapsed": false
   },
   "outputs": [
    {
     "ename": "ValidationError",
     "evalue": "Missing element forecastSearchCount (getTimeSeries.queryParams.forecastSearchCount)",
     "output_type": "error",
     "traceback": [
      "\u001b[1;31m---------------------------------------------------------------------------\u001b[0m",
      "\u001b[1;31mValidationError\u001b[0m                           Traceback (most recent call last)",
      "\u001b[1;32m<ipython-input-74-8a1ebed671a0>\u001b[0m in \u001b[0;36m<module>\u001b[1;34m()\u001b[0m\n\u001b[0;32m      1\u001b[0m gts(queryParams=({\n\u001b[0;32m      2\u001b[0m     \u001b[1;34m'convertDatum'\u001b[0m\u001b[1;33m:\u001b[0m\u001b[1;34m'false'\u001b[0m\u001b[1;33m,\u001b[0m\u001b[1;33m\u001b[0m\u001b[0m\n\u001b[1;32m----> 3\u001b[1;33m     \u001b[1;34m'moduleInstanceIds'\u001b[0m\u001b[1;33m:\u001b[0m\u001b[1;34m'pr.Reizen.vdLee.baggeracties'\u001b[0m\u001b[1;33m\u001b[0m\u001b[0m\n\u001b[0m\u001b[0;32m      4\u001b[0m }))\n",
      "\u001b[1;32mc:\\python35\\lib\\site-packages\\zeep\\client.py\u001b[0m in \u001b[0;36m__call__\u001b[1;34m(self, *args, **kwargs)\u001b[0m\n\u001b[0;32m     39\u001b[0m         return self._proxy._binding.send(\n\u001b[0;32m     40\u001b[0m             \u001b[0mself\u001b[0m\u001b[1;33m.\u001b[0m\u001b[0m_proxy\u001b[0m\u001b[1;33m.\u001b[0m\u001b[0m_client\u001b[0m\u001b[1;33m,\u001b[0m \u001b[0mself\u001b[0m\u001b[1;33m.\u001b[0m\u001b[0m_proxy\u001b[0m\u001b[1;33m.\u001b[0m\u001b[0m_binding_options\u001b[0m\u001b[1;33m,\u001b[0m\u001b[1;33m\u001b[0m\u001b[0m\n\u001b[1;32m---> 41\u001b[1;33m             self._op_name, args, kwargs)\n\u001b[0m\u001b[0;32m     42\u001b[0m \u001b[1;33m\u001b[0m\u001b[0m\n\u001b[0;32m     43\u001b[0m \u001b[1;33m\u001b[0m\u001b[0m\n",
      "\u001b[1;32mc:\\python35\\lib\\site-packages\\zeep\\wsdl\\bindings\\soap.py\u001b[0m in \u001b[0;36msend\u001b[1;34m(self, client, options, operation, args, kwargs)\u001b[0m\n\u001b[0;32m    108\u001b[0m             \u001b[0moperation\u001b[0m\u001b[1;33m,\u001b[0m \u001b[0margs\u001b[0m\u001b[1;33m,\u001b[0m \u001b[0mkwargs\u001b[0m\u001b[1;33m,\u001b[0m\u001b[1;33m\u001b[0m\u001b[0m\n\u001b[0;32m    109\u001b[0m             \u001b[0mclient\u001b[0m\u001b[1;33m=\u001b[0m\u001b[0mclient\u001b[0m\u001b[1;33m,\u001b[0m\u001b[1;33m\u001b[0m\u001b[0m\n\u001b[1;32m--> 110\u001b[1;33m             options=options)\n\u001b[0m\u001b[0;32m    111\u001b[0m \u001b[1;33m\u001b[0m\u001b[0m\n\u001b[0;32m    112\u001b[0m         response = client.transport.post_xml(\n",
      "\u001b[1;32mc:\\python35\\lib\\site-packages\\zeep\\wsdl\\bindings\\soap.py\u001b[0m in \u001b[0;36m_create\u001b[1;34m(self, operation, args, kwargs, client, options)\u001b[0m\n\u001b[0;32m     66\u001b[0m \u001b[1;33m\u001b[0m\u001b[0m\n\u001b[0;32m     67\u001b[0m         \u001b[1;31m# Create the SOAP envelope\u001b[0m\u001b[1;33m\u001b[0m\u001b[1;33m\u001b[0m\u001b[0m\n\u001b[1;32m---> 68\u001b[1;33m         \u001b[0mserialized\u001b[0m \u001b[1;33m=\u001b[0m \u001b[0moperation_obj\u001b[0m\u001b[1;33m.\u001b[0m\u001b[0mcreate\u001b[0m\u001b[1;33m(\u001b[0m\u001b[1;33m*\u001b[0m\u001b[0margs\u001b[0m\u001b[1;33m,\u001b[0m \u001b[1;33m**\u001b[0m\u001b[0mkwargs\u001b[0m\u001b[1;33m)\u001b[0m\u001b[1;33m\u001b[0m\u001b[0m\n\u001b[0m\u001b[0;32m     69\u001b[0m         \u001b[0mself\u001b[0m\u001b[1;33m.\u001b[0m\u001b[0m_set_http_headers\u001b[0m\u001b[1;33m(\u001b[0m\u001b[0mserialized\u001b[0m\u001b[1;33m,\u001b[0m \u001b[0moperation_obj\u001b[0m\u001b[1;33m)\u001b[0m\u001b[1;33m\u001b[0m\u001b[0m\n\u001b[0;32m     70\u001b[0m \u001b[1;33m\u001b[0m\u001b[0m\n",
      "\u001b[1;32mc:\\python35\\lib\\site-packages\\zeep\\wsdl\\definitions.py\u001b[0m in \u001b[0;36mcreate\u001b[1;34m(self, *args, **kwargs)\u001b[0m\n\u001b[0;32m    195\u001b[0m \u001b[1;33m\u001b[0m\u001b[0m\n\u001b[0;32m    196\u001b[0m     \u001b[1;32mdef\u001b[0m \u001b[0mcreate\u001b[0m\u001b[1;33m(\u001b[0m\u001b[0mself\u001b[0m\u001b[1;33m,\u001b[0m \u001b[1;33m*\u001b[0m\u001b[0margs\u001b[0m\u001b[1;33m,\u001b[0m \u001b[1;33m**\u001b[0m\u001b[0mkwargs\u001b[0m\u001b[1;33m)\u001b[0m\u001b[1;33m:\u001b[0m\u001b[1;33m\u001b[0m\u001b[0m\n\u001b[1;32m--> 197\u001b[1;33m         \u001b[1;32mreturn\u001b[0m \u001b[0mself\u001b[0m\u001b[1;33m.\u001b[0m\u001b[0minput\u001b[0m\u001b[1;33m.\u001b[0m\u001b[0mserialize\u001b[0m\u001b[1;33m(\u001b[0m\u001b[1;33m*\u001b[0m\u001b[0margs\u001b[0m\u001b[1;33m,\u001b[0m \u001b[1;33m**\u001b[0m\u001b[0mkwargs\u001b[0m\u001b[1;33m)\u001b[0m\u001b[1;33m\u001b[0m\u001b[0m\n\u001b[0m\u001b[0;32m    198\u001b[0m \u001b[1;33m\u001b[0m\u001b[0m\n\u001b[0;32m    199\u001b[0m     \u001b[1;32mdef\u001b[0m \u001b[0mprocess_reply\u001b[0m\u001b[1;33m(\u001b[0m\u001b[0mself\u001b[0m\u001b[1;33m,\u001b[0m \u001b[0menvelope\u001b[0m\u001b[1;33m)\u001b[0m\u001b[1;33m:\u001b[0m\u001b[1;33m\u001b[0m\u001b[0m\n",
      "\u001b[1;32mc:\\python35\\lib\\site-packages\\zeep\\wsdl\\messages\\soap.py\u001b[0m in \u001b[0;36mserialize\u001b[1;34m(self, *args, **kwargs)\u001b[0m\n\u001b[0;32m     64\u001b[0m             \u001b[0mbody_value\u001b[0m \u001b[1;33m=\u001b[0m \u001b[0mself\u001b[0m\u001b[1;33m.\u001b[0m\u001b[0mbody\u001b[0m\u001b[1;33m(\u001b[0m\u001b[1;33m*\u001b[0m\u001b[0margs\u001b[0m\u001b[1;33m,\u001b[0m \u001b[1;33m**\u001b[0m\u001b[0mkwargs\u001b[0m\u001b[1;33m)\u001b[0m\u001b[1;33m\u001b[0m\u001b[0m\n\u001b[0;32m     65\u001b[0m             \u001b[0mbody\u001b[0m \u001b[1;33m=\u001b[0m \u001b[0msoap\u001b[0m\u001b[1;33m.\u001b[0m\u001b[0mBody\u001b[0m\u001b[1;33m(\u001b[0m\u001b[1;33m)\u001b[0m\u001b[1;33m\u001b[0m\u001b[0m\n\u001b[1;32m---> 66\u001b[1;33m             \u001b[0mself\u001b[0m\u001b[1;33m.\u001b[0m\u001b[0mbody\u001b[0m\u001b[1;33m.\u001b[0m\u001b[0mrender\u001b[0m\u001b[1;33m(\u001b[0m\u001b[0mbody\u001b[0m\u001b[1;33m,\u001b[0m \u001b[0mbody_value\u001b[0m\u001b[1;33m)\u001b[0m\u001b[1;33m\u001b[0m\u001b[0m\n\u001b[0m\u001b[0;32m     67\u001b[0m \u001b[1;33m\u001b[0m\u001b[0m\n\u001b[0;32m     68\u001b[0m         \u001b[1;31m# Create the soap:envelope\u001b[0m\u001b[1;33m\u001b[0m\u001b[1;33m\u001b[0m\u001b[0m\n",
      "\u001b[1;32mc:\\python35\\lib\\site-packages\\zeep\\xsd\\elements\\element.py\u001b[0m in \u001b[0;36mrender\u001b[1;34m(self, parent, value, render_path)\u001b[0m\n\u001b[0;32m    189\u001b[0m                 \u001b[0mself\u001b[0m\u001b[1;33m.\u001b[0m\u001b[0m_render_value_item\u001b[0m\u001b[1;33m(\u001b[0m\u001b[0mparent\u001b[0m\u001b[1;33m,\u001b[0m \u001b[0mval\u001b[0m\u001b[1;33m,\u001b[0m \u001b[0mrender_path\u001b[0m\u001b[1;33m)\u001b[0m\u001b[1;33m\u001b[0m\u001b[0m\n\u001b[0;32m    190\u001b[0m         \u001b[1;32melse\u001b[0m\u001b[1;33m:\u001b[0m\u001b[1;33m\u001b[0m\u001b[0m\n\u001b[1;32m--> 191\u001b[1;33m             \u001b[0mself\u001b[0m\u001b[1;33m.\u001b[0m\u001b[0m_render_value_item\u001b[0m\u001b[1;33m(\u001b[0m\u001b[0mparent\u001b[0m\u001b[1;33m,\u001b[0m \u001b[0mvalue\u001b[0m\u001b[1;33m,\u001b[0m \u001b[0mrender_path\u001b[0m\u001b[1;33m)\u001b[0m\u001b[1;33m\u001b[0m\u001b[0m\n\u001b[0m\u001b[0;32m    192\u001b[0m \u001b[1;33m\u001b[0m\u001b[0m\n\u001b[0;32m    193\u001b[0m     \u001b[1;32mdef\u001b[0m \u001b[0m_render_value_item\u001b[0m\u001b[1;33m(\u001b[0m\u001b[0mself\u001b[0m\u001b[1;33m,\u001b[0m \u001b[0mparent\u001b[0m\u001b[1;33m,\u001b[0m \u001b[0mvalue\u001b[0m\u001b[1;33m,\u001b[0m \u001b[0mrender_path\u001b[0m\u001b[1;33m)\u001b[0m\u001b[1;33m:\u001b[0m\u001b[1;33m\u001b[0m\u001b[0m\n",
      "\u001b[1;32mc:\\python35\\lib\\site-packages\\zeep\\xsd\\elements\\element.py\u001b[0m in \u001b[0;36m_render_value_item\u001b[1;34m(self, parent, value, render_path)\u001b[0m\n\u001b[0;32m    213\u001b[0m         \u001b[1;32mif\u001b[0m \u001b[0mxsd_type\u001b[0m \u001b[1;33m!=\u001b[0m \u001b[0mself\u001b[0m\u001b[1;33m.\u001b[0m\u001b[0mtype\u001b[0m\u001b[1;33m:\u001b[0m\u001b[1;33m\u001b[0m\u001b[0m\n\u001b[0;32m    214\u001b[0m             \u001b[1;32mreturn\u001b[0m \u001b[0mvalue\u001b[0m\u001b[1;33m.\u001b[0m\u001b[0m_xsd_type\u001b[0m\u001b[1;33m.\u001b[0m\u001b[0mrender\u001b[0m\u001b[1;33m(\u001b[0m\u001b[0mnode\u001b[0m\u001b[1;33m,\u001b[0m \u001b[0mvalue\u001b[0m\u001b[1;33m,\u001b[0m \u001b[0mxsd_type\u001b[0m\u001b[1;33m,\u001b[0m \u001b[0mrender_path\u001b[0m\u001b[1;33m)\u001b[0m\u001b[1;33m\u001b[0m\u001b[0m\n\u001b[1;32m--> 215\u001b[1;33m         \u001b[1;32mreturn\u001b[0m \u001b[0mself\u001b[0m\u001b[1;33m.\u001b[0m\u001b[0mtype\u001b[0m\u001b[1;33m.\u001b[0m\u001b[0mrender\u001b[0m\u001b[1;33m(\u001b[0m\u001b[0mnode\u001b[0m\u001b[1;33m,\u001b[0m \u001b[0mvalue\u001b[0m\u001b[1;33m,\u001b[0m \u001b[1;32mNone\u001b[0m\u001b[1;33m,\u001b[0m \u001b[0mrender_path\u001b[0m\u001b[1;33m)\u001b[0m\u001b[1;33m\u001b[0m\u001b[0m\n\u001b[0m\u001b[0;32m    216\u001b[0m \u001b[1;33m\u001b[0m\u001b[0m\n\u001b[0;32m    217\u001b[0m     \u001b[1;32mdef\u001b[0m \u001b[0mvalidate\u001b[0m\u001b[1;33m(\u001b[0m\u001b[0mself\u001b[0m\u001b[1;33m,\u001b[0m \u001b[0mvalue\u001b[0m\u001b[1;33m,\u001b[0m \u001b[0mrender_path\u001b[0m\u001b[1;33m=\u001b[0m\u001b[1;32mNone\u001b[0m\u001b[1;33m)\u001b[0m\u001b[1;33m:\u001b[0m\u001b[1;33m\u001b[0m\u001b[0m\n",
      "\u001b[1;32mc:\\python35\\lib\\site-packages\\zeep\\xsd\\types\\complex.py\u001b[0m in \u001b[0;36mrender\u001b[1;34m(self, parent, value, xsd_type, render_path)\u001b[0m\n\u001b[0;32m    247\u001b[0m                 \u001b[0melement\u001b[0m\u001b[1;33m.\u001b[0m\u001b[0mtype\u001b[0m\u001b[1;33m.\u001b[0m\u001b[0mrender\u001b[0m\u001b[1;33m(\u001b[0m\u001b[0mparent\u001b[0m\u001b[1;33m,\u001b[0m \u001b[0melement_value\u001b[0m\u001b[1;33m,\u001b[0m \u001b[1;32mNone\u001b[0m\u001b[1;33m,\u001b[0m \u001b[0mchild_path\u001b[0m\u001b[1;33m)\u001b[0m\u001b[1;33m\u001b[0m\u001b[0m\n\u001b[0;32m    248\u001b[0m             \u001b[1;32melse\u001b[0m\u001b[1;33m:\u001b[0m\u001b[1;33m\u001b[0m\u001b[0m\n\u001b[1;32m--> 249\u001b[1;33m                 \u001b[0melement\u001b[0m\u001b[1;33m.\u001b[0m\u001b[0mrender\u001b[0m\u001b[1;33m(\u001b[0m\u001b[0mparent\u001b[0m\u001b[1;33m,\u001b[0m \u001b[0melement_value\u001b[0m\u001b[1;33m,\u001b[0m \u001b[0mchild_path\u001b[0m\u001b[1;33m)\u001b[0m\u001b[1;33m\u001b[0m\u001b[0m\n\u001b[0m\u001b[0;32m    250\u001b[0m \u001b[1;33m\u001b[0m\u001b[0m\n\u001b[0;32m    251\u001b[0m         \u001b[1;32mif\u001b[0m \u001b[0mxsd_type\u001b[0m\u001b[1;33m:\u001b[0m\u001b[1;33m\u001b[0m\u001b[0m\n",
      "\u001b[1;32mc:\\python35\\lib\\site-packages\\zeep\\xsd\\elements\\indicators.py\u001b[0m in \u001b[0;36mrender\u001b[1;34m(self, parent, value, render_path)\u001b[0m\n\u001b[0;32m    239\u001b[0m \u001b[1;33m\u001b[0m\u001b[0m\n\u001b[0;32m    240\u001b[0m                 \u001b[1;32mif\u001b[0m \u001b[0melement_value\u001b[0m \u001b[1;32mis\u001b[0m \u001b[1;32mnot\u001b[0m \u001b[1;32mNone\u001b[0m \u001b[1;32mor\u001b[0m \u001b[1;32mnot\u001b[0m \u001b[0melement\u001b[0m\u001b[1;33m.\u001b[0m\u001b[0mis_optional\u001b[0m\u001b[1;33m:\u001b[0m\u001b[1;33m\u001b[0m\u001b[0m\n\u001b[1;32m--> 241\u001b[1;33m                     \u001b[0melement\u001b[0m\u001b[1;33m.\u001b[0m\u001b[0mrender\u001b[0m\u001b[1;33m(\u001b[0m\u001b[0mparent\u001b[0m\u001b[1;33m,\u001b[0m \u001b[0melement_value\u001b[0m\u001b[1;33m,\u001b[0m \u001b[0mchild_path\u001b[0m\u001b[1;33m)\u001b[0m\u001b[1;33m\u001b[0m\u001b[0m\n\u001b[0m\u001b[0;32m    242\u001b[0m \u001b[1;33m\u001b[0m\u001b[0m\n\u001b[0;32m    243\u001b[0m     \u001b[1;32mdef\u001b[0m \u001b[0mvalidate\u001b[0m\u001b[1;33m(\u001b[0m\u001b[0mself\u001b[0m\u001b[1;33m,\u001b[0m \u001b[0mvalue\u001b[0m\u001b[1;33m,\u001b[0m \u001b[0mrender_path\u001b[0m\u001b[1;33m)\u001b[0m\u001b[1;33m:\u001b[0m\u001b[1;33m\u001b[0m\u001b[0m\n",
      "\u001b[1;32mc:\\python35\\lib\\site-packages\\zeep\\xsd\\elements\\element.py\u001b[0m in \u001b[0;36mrender\u001b[1;34m(self, parent, value, render_path)\u001b[0m\n\u001b[0;32m    189\u001b[0m                 \u001b[0mself\u001b[0m\u001b[1;33m.\u001b[0m\u001b[0m_render_value_item\u001b[0m\u001b[1;33m(\u001b[0m\u001b[0mparent\u001b[0m\u001b[1;33m,\u001b[0m \u001b[0mval\u001b[0m\u001b[1;33m,\u001b[0m \u001b[0mrender_path\u001b[0m\u001b[1;33m)\u001b[0m\u001b[1;33m\u001b[0m\u001b[0m\n\u001b[0;32m    190\u001b[0m         \u001b[1;32melse\u001b[0m\u001b[1;33m:\u001b[0m\u001b[1;33m\u001b[0m\u001b[0m\n\u001b[1;32m--> 191\u001b[1;33m             \u001b[0mself\u001b[0m\u001b[1;33m.\u001b[0m\u001b[0m_render_value_item\u001b[0m\u001b[1;33m(\u001b[0m\u001b[0mparent\u001b[0m\u001b[1;33m,\u001b[0m \u001b[0mvalue\u001b[0m\u001b[1;33m,\u001b[0m \u001b[0mrender_path\u001b[0m\u001b[1;33m)\u001b[0m\u001b[1;33m\u001b[0m\u001b[0m\n\u001b[0m\u001b[0;32m    192\u001b[0m \u001b[1;33m\u001b[0m\u001b[0m\n\u001b[0;32m    193\u001b[0m     \u001b[1;32mdef\u001b[0m \u001b[0m_render_value_item\u001b[0m\u001b[1;33m(\u001b[0m\u001b[0mself\u001b[0m\u001b[1;33m,\u001b[0m \u001b[0mparent\u001b[0m\u001b[1;33m,\u001b[0m \u001b[0mvalue\u001b[0m\u001b[1;33m,\u001b[0m \u001b[0mrender_path\u001b[0m\u001b[1;33m)\u001b[0m\u001b[1;33m:\u001b[0m\u001b[1;33m\u001b[0m\u001b[0m\n",
      "\u001b[1;32mc:\\python35\\lib\\site-packages\\zeep\\xsd\\elements\\element.py\u001b[0m in \u001b[0;36m_render_value_item\u001b[1;34m(self, parent, value, render_path)\u001b[0m\n\u001b[0;32m    213\u001b[0m         \u001b[1;32mif\u001b[0m \u001b[0mxsd_type\u001b[0m \u001b[1;33m!=\u001b[0m \u001b[0mself\u001b[0m\u001b[1;33m.\u001b[0m\u001b[0mtype\u001b[0m\u001b[1;33m:\u001b[0m\u001b[1;33m\u001b[0m\u001b[0m\n\u001b[0;32m    214\u001b[0m             \u001b[1;32mreturn\u001b[0m \u001b[0mvalue\u001b[0m\u001b[1;33m.\u001b[0m\u001b[0m_xsd_type\u001b[0m\u001b[1;33m.\u001b[0m\u001b[0mrender\u001b[0m\u001b[1;33m(\u001b[0m\u001b[0mnode\u001b[0m\u001b[1;33m,\u001b[0m \u001b[0mvalue\u001b[0m\u001b[1;33m,\u001b[0m \u001b[0mxsd_type\u001b[0m\u001b[1;33m,\u001b[0m \u001b[0mrender_path\u001b[0m\u001b[1;33m)\u001b[0m\u001b[1;33m\u001b[0m\u001b[0m\n\u001b[1;32m--> 215\u001b[1;33m         \u001b[1;32mreturn\u001b[0m \u001b[0mself\u001b[0m\u001b[1;33m.\u001b[0m\u001b[0mtype\u001b[0m\u001b[1;33m.\u001b[0m\u001b[0mrender\u001b[0m\u001b[1;33m(\u001b[0m\u001b[0mnode\u001b[0m\u001b[1;33m,\u001b[0m \u001b[0mvalue\u001b[0m\u001b[1;33m,\u001b[0m \u001b[1;32mNone\u001b[0m\u001b[1;33m,\u001b[0m \u001b[0mrender_path\u001b[0m\u001b[1;33m)\u001b[0m\u001b[1;33m\u001b[0m\u001b[0m\n\u001b[0m\u001b[0;32m    216\u001b[0m \u001b[1;33m\u001b[0m\u001b[0m\n\u001b[0;32m    217\u001b[0m     \u001b[1;32mdef\u001b[0m \u001b[0mvalidate\u001b[0m\u001b[1;33m(\u001b[0m\u001b[0mself\u001b[0m\u001b[1;33m,\u001b[0m \u001b[0mvalue\u001b[0m\u001b[1;33m,\u001b[0m \u001b[0mrender_path\u001b[0m\u001b[1;33m=\u001b[0m\u001b[1;32mNone\u001b[0m\u001b[1;33m)\u001b[0m\u001b[1;33m:\u001b[0m\u001b[1;33m\u001b[0m\u001b[0m\n",
      "\u001b[1;32mc:\\python35\\lib\\site-packages\\zeep\\xsd\\types\\complex.py\u001b[0m in \u001b[0;36mrender\u001b[1;34m(self, parent, value, xsd_type, render_path)\u001b[0m\n\u001b[0;32m    247\u001b[0m                 \u001b[0melement\u001b[0m\u001b[1;33m.\u001b[0m\u001b[0mtype\u001b[0m\u001b[1;33m.\u001b[0m\u001b[0mrender\u001b[0m\u001b[1;33m(\u001b[0m\u001b[0mparent\u001b[0m\u001b[1;33m,\u001b[0m \u001b[0melement_value\u001b[0m\u001b[1;33m,\u001b[0m \u001b[1;32mNone\u001b[0m\u001b[1;33m,\u001b[0m \u001b[0mchild_path\u001b[0m\u001b[1;33m)\u001b[0m\u001b[1;33m\u001b[0m\u001b[0m\n\u001b[0;32m    248\u001b[0m             \u001b[1;32melse\u001b[0m\u001b[1;33m:\u001b[0m\u001b[1;33m\u001b[0m\u001b[0m\n\u001b[1;32m--> 249\u001b[1;33m                 \u001b[0melement\u001b[0m\u001b[1;33m.\u001b[0m\u001b[0mrender\u001b[0m\u001b[1;33m(\u001b[0m\u001b[0mparent\u001b[0m\u001b[1;33m,\u001b[0m \u001b[0melement_value\u001b[0m\u001b[1;33m,\u001b[0m \u001b[0mchild_path\u001b[0m\u001b[1;33m)\u001b[0m\u001b[1;33m\u001b[0m\u001b[0m\n\u001b[0m\u001b[0;32m    250\u001b[0m \u001b[1;33m\u001b[0m\u001b[0m\n\u001b[0;32m    251\u001b[0m         \u001b[1;32mif\u001b[0m \u001b[0mxsd_type\u001b[0m\u001b[1;33m:\u001b[0m\u001b[1;33m\u001b[0m\u001b[0m\n",
      "\u001b[1;32mc:\\python35\\lib\\site-packages\\zeep\\xsd\\elements\\indicators.py\u001b[0m in \u001b[0;36mrender\u001b[1;34m(self, parent, value, render_path)\u001b[0m\n\u001b[0;32m    239\u001b[0m \u001b[1;33m\u001b[0m\u001b[0m\n\u001b[0;32m    240\u001b[0m                 \u001b[1;32mif\u001b[0m \u001b[0melement_value\u001b[0m \u001b[1;32mis\u001b[0m \u001b[1;32mnot\u001b[0m \u001b[1;32mNone\u001b[0m \u001b[1;32mor\u001b[0m \u001b[1;32mnot\u001b[0m \u001b[0melement\u001b[0m\u001b[1;33m.\u001b[0m\u001b[0mis_optional\u001b[0m\u001b[1;33m:\u001b[0m\u001b[1;33m\u001b[0m\u001b[0m\n\u001b[1;32m--> 241\u001b[1;33m                     \u001b[0melement\u001b[0m\u001b[1;33m.\u001b[0m\u001b[0mrender\u001b[0m\u001b[1;33m(\u001b[0m\u001b[0mparent\u001b[0m\u001b[1;33m,\u001b[0m \u001b[0melement_value\u001b[0m\u001b[1;33m,\u001b[0m \u001b[0mchild_path\u001b[0m\u001b[1;33m)\u001b[0m\u001b[1;33m\u001b[0m\u001b[0m\n\u001b[0m\u001b[0;32m    242\u001b[0m \u001b[1;33m\u001b[0m\u001b[0m\n\u001b[0;32m    243\u001b[0m     \u001b[1;32mdef\u001b[0m \u001b[0mvalidate\u001b[0m\u001b[1;33m(\u001b[0m\u001b[0mself\u001b[0m\u001b[1;33m,\u001b[0m \u001b[0mvalue\u001b[0m\u001b[1;33m,\u001b[0m \u001b[0mrender_path\u001b[0m\u001b[1;33m)\u001b[0m\u001b[1;33m:\u001b[0m\u001b[1;33m\u001b[0m\u001b[0m\n",
      "\u001b[1;32mc:\\python35\\lib\\site-packages\\zeep\\xsd\\elements\\element.py\u001b[0m in \u001b[0;36mrender\u001b[1;34m(self, parent, value, render_path)\u001b[0m\n\u001b[0;32m    183\u001b[0m \u001b[1;33m\u001b[0m\u001b[0m\n\u001b[0;32m    184\u001b[0m         \u001b[1;32massert\u001b[0m \u001b[0mparent\u001b[0m \u001b[1;32mis\u001b[0m \u001b[1;32mnot\u001b[0m \u001b[1;32mNone\u001b[0m\u001b[1;33m\u001b[0m\u001b[0m\n\u001b[1;32m--> 185\u001b[1;33m         \u001b[0mself\u001b[0m\u001b[1;33m.\u001b[0m\u001b[0mvalidate\u001b[0m\u001b[1;33m(\u001b[0m\u001b[0mvalue\u001b[0m\u001b[1;33m,\u001b[0m \u001b[0mrender_path\u001b[0m\u001b[1;33m)\u001b[0m\u001b[1;33m\u001b[0m\u001b[0m\n\u001b[0m\u001b[0;32m    186\u001b[0m \u001b[1;33m\u001b[0m\u001b[0m\n\u001b[0;32m    187\u001b[0m         \u001b[1;32mif\u001b[0m \u001b[0mself\u001b[0m\u001b[1;33m.\u001b[0m\u001b[0maccepts_multiple\u001b[0m \u001b[1;32mand\u001b[0m \u001b[0misinstance\u001b[0m\u001b[1;33m(\u001b[0m\u001b[0mvalue\u001b[0m\u001b[1;33m,\u001b[0m \u001b[0mlist\u001b[0m\u001b[1;33m)\u001b[0m\u001b[1;33m:\u001b[0m\u001b[1;33m\u001b[0m\u001b[0m\n",
      "\u001b[1;32mc:\\python35\\lib\\site-packages\\zeep\\xsd\\elements\\element.py\u001b[0m in \u001b[0;36mvalidate\u001b[1;34m(self, value, render_path)\u001b[0m\n\u001b[0;32m    234\u001b[0m             \u001b[1;32mif\u001b[0m \u001b[1;32mnot\u001b[0m \u001b[0mself\u001b[0m\u001b[1;33m.\u001b[0m\u001b[0mis_optional\u001b[0m \u001b[1;32mand\u001b[0m \u001b[1;32mnot\u001b[0m \u001b[0mself\u001b[0m\u001b[1;33m.\u001b[0m\u001b[0mnillable\u001b[0m \u001b[1;32mand\u001b[0m \u001b[0mvalue\u001b[0m \u001b[1;32min\u001b[0m \u001b[1;33m(\u001b[0m\u001b[1;32mNone\u001b[0m\u001b[1;33m,\u001b[0m \u001b[0mNotSet\u001b[0m\u001b[1;33m)\u001b[0m\u001b[1;33m:\u001b[0m\u001b[1;33m\u001b[0m\u001b[0m\n\u001b[0;32m    235\u001b[0m                 raise exceptions.ValidationError(\n\u001b[1;32m--> 236\u001b[1;33m                     \"Missing element %s\" % (self.name), path=render_path)\n\u001b[0m\u001b[0;32m    237\u001b[0m \u001b[1;33m\u001b[0m\u001b[0m\n\u001b[0;32m    238\u001b[0m             \u001b[0mself\u001b[0m\u001b[1;33m.\u001b[0m\u001b[0m_validate_item\u001b[0m\u001b[1;33m(\u001b[0m\u001b[0mvalue\u001b[0m\u001b[1;33m,\u001b[0m \u001b[0mrender_path\u001b[0m\u001b[1;33m)\u001b[0m\u001b[1;33m\u001b[0m\u001b[0m\n",
      "\u001b[1;31mValidationError\u001b[0m: Missing element forecastSearchCount (getTimeSeries.queryParams.forecastSearchCount)"
     ]
    }
   ],
   "source": [
    "gts(queryParams=({\n",
    "    'convertDatum':'false',\n",
    "    'moduleInstanceIds':'pr.Reizen.vdLee.baggeracties'    \n",
    "}))"
   ]
  },
  {
   "cell_type": "code",
   "execution_count": 71,
   "metadata": {
    "collapsed": false
   },
   "outputs": [
    {
     "ename": "LookupError",
     "evalue": "No type 'getTimeSeries' in namespace http://pi.system.fews.wldelft.nl. Available types are: {http://pi.system.fews.wldelft.nl}ArrayOfInt, {http://pi.system.fews.wldelft.nl}ArrayOfString, {http://pi.system.fews.wldelft.nl}ArrayOfDateTime, {http://pi.system.fews.wldelft.nl}ArrayOfFloat",
     "output_type": "error",
     "traceback": [
      "\u001b[1;31m---------------------------------------------------------------------------\u001b[0m",
      "\u001b[1;31mKeyError\u001b[0m                                  Traceback (most recent call last)",
      "\u001b[1;32mc:\\python35\\lib\\site-packages\\zeep\\xsd\\schema.py\u001b[0m in \u001b[0;36m_get_instance\u001b[1;34m(self, qname, items, item_name)\u001b[0m\n\u001b[0;32m    499\u001b[0m         \u001b[1;32mtry\u001b[0m\u001b[1;33m:\u001b[0m\u001b[1;33m\u001b[0m\u001b[0m\n\u001b[1;32m--> 500\u001b[1;33m             \u001b[1;32mreturn\u001b[0m \u001b[0mitems\u001b[0m\u001b[1;33m[\u001b[0m\u001b[0mqname\u001b[0m\u001b[1;33m]\u001b[0m\u001b[1;33m\u001b[0m\u001b[0m\n\u001b[0m\u001b[0;32m    501\u001b[0m         \u001b[1;32mexcept\u001b[0m \u001b[0mKeyError\u001b[0m\u001b[1;33m:\u001b[0m\u001b[1;33m\u001b[0m\u001b[0m\n",
      "\u001b[1;31mKeyError\u001b[0m: <lxml.etree.QName object at 0x000000000AE43850>",
      "\nDuring handling of the above exception, another exception occurred:\n",
      "\u001b[1;31mLookupError\u001b[0m                               Traceback (most recent call last)",
      "\u001b[1;32m<ipython-input-71-39e7a34148d7>\u001b[0m in \u001b[0;36m<module>\u001b[1;34m()\u001b[0m\n\u001b[0;32m      1\u001b[0m \u001b[0mfactory\u001b[0m \u001b[1;33m=\u001b[0m \u001b[0mclient\u001b[0m\u001b[1;33m.\u001b[0m\u001b[0mtype_factory\u001b[0m\u001b[1;33m(\u001b[0m\u001b[1;34m'ns0'\u001b[0m\u001b[1;33m)\u001b[0m\u001b[1;33m\u001b[0m\u001b[0m\n\u001b[1;32m----> 2\u001b[1;33m \u001b[0mfactory\u001b[0m\u001b[1;33m.\u001b[0m\u001b[0mgetTimeSeries\u001b[0m\u001b[1;33m(\u001b[0m\u001b[1;33m)\u001b[0m\u001b[1;33m\u001b[0m\u001b[0m\n\u001b[0m",
      "\u001b[1;32mc:\\python35\\lib\\site-packages\\zeep\\client.py\u001b[0m in \u001b[0;36m__getattr__\u001b[1;34m(self, key)\u001b[0m\n\u001b[0;32m     84\u001b[0m \u001b[1;33m\u001b[0m\u001b[0m\n\u001b[0;32m     85\u001b[0m         \"\"\"\n\u001b[1;32m---> 86\u001b[1;33m         \u001b[1;32mreturn\u001b[0m \u001b[0mself\u001b[0m\u001b[1;33m[\u001b[0m\u001b[0mkey\u001b[0m\u001b[1;33m]\u001b[0m\u001b[1;33m\u001b[0m\u001b[0m\n\u001b[0m\u001b[0;32m     87\u001b[0m \u001b[1;33m\u001b[0m\u001b[0m\n\u001b[0;32m     88\u001b[0m     \u001b[1;32mdef\u001b[0m \u001b[0m__getitem__\u001b[0m\u001b[1;33m(\u001b[0m\u001b[0mself\u001b[0m\u001b[1;33m,\u001b[0m \u001b[0mkey\u001b[0m\u001b[1;33m)\u001b[0m\u001b[1;33m:\u001b[0m\u001b[1;33m\u001b[0m\u001b[0m\n",
      "\u001b[1;32mc:\\python35\\lib\\site-packages\\zeep\\client.py\u001b[0m in \u001b[0;36m__getitem__\u001b[1;34m(self, key)\u001b[0m\n\u001b[0;32m     92\u001b[0m \u001b[1;33m\u001b[0m\u001b[0m\n\u001b[0;32m     93\u001b[0m         \"\"\"\n\u001b[1;32m---> 94\u001b[1;33m         \u001b[1;32mreturn\u001b[0m \u001b[0mself\u001b[0m\u001b[1;33m.\u001b[0m\u001b[0m_method\u001b[0m\u001b[1;33m(\u001b[0m\u001b[1;34m'{%s}%s'\u001b[0m \u001b[1;33m%\u001b[0m \u001b[1;33m(\u001b[0m\u001b[0mself\u001b[0m\u001b[1;33m.\u001b[0m\u001b[0m_ns\u001b[0m\u001b[1;33m,\u001b[0m \u001b[0mkey\u001b[0m\u001b[1;33m)\u001b[0m\u001b[1;33m)\u001b[0m\u001b[1;33m\u001b[0m\u001b[0m\n\u001b[0m\u001b[0;32m     95\u001b[0m \u001b[1;33m\u001b[0m\u001b[0m\n\u001b[0;32m     96\u001b[0m \u001b[1;33m\u001b[0m\u001b[0m\n",
      "\u001b[1;32mc:\\python35\\lib\\site-packages\\zeep\\xsd\\schema.py\u001b[0m in \u001b[0;36mget_type\u001b[1;34m(self, qname, fail_silently)\u001b[0m\n\u001b[0;32m    144\u001b[0m         \u001b[0mqname\u001b[0m \u001b[1;33m=\u001b[0m \u001b[0mself\u001b[0m\u001b[1;33m.\u001b[0m\u001b[0m_create_qname\u001b[0m\u001b[1;33m(\u001b[0m\u001b[0mqname\u001b[0m\u001b[1;33m)\u001b[0m\u001b[1;33m\u001b[0m\u001b[0m\n\u001b[0;32m    145\u001b[0m         \u001b[1;32mtry\u001b[0m\u001b[1;33m:\u001b[0m\u001b[1;33m\u001b[0m\u001b[0m\n\u001b[1;32m--> 146\u001b[1;33m             \u001b[1;32mreturn\u001b[0m \u001b[0mself\u001b[0m\u001b[1;33m.\u001b[0m\u001b[0m_get_instance\u001b[0m\u001b[1;33m(\u001b[0m\u001b[0mqname\u001b[0m\u001b[1;33m,\u001b[0m \u001b[1;34m'get_type'\u001b[0m\u001b[1;33m,\u001b[0m \u001b[1;34m'type'\u001b[0m\u001b[1;33m)\u001b[0m\u001b[1;33m\u001b[0m\u001b[0m\n\u001b[0m\u001b[0;32m    147\u001b[0m         \u001b[1;32mexcept\u001b[0m \u001b[0mexceptions\u001b[0m\u001b[1;33m.\u001b[0m\u001b[0mNamespaceError\u001b[0m \u001b[1;32mas\u001b[0m \u001b[0mexc\u001b[0m\u001b[1;33m:\u001b[0m\u001b[1;33m\u001b[0m\u001b[0m\n\u001b[0;32m    148\u001b[0m             \u001b[1;32mif\u001b[0m \u001b[0mfail_silently\u001b[0m\u001b[1;33m:\u001b[0m\u001b[1;33m\u001b[0m\u001b[0m\n",
      "\u001b[1;32mc:\\python35\\lib\\site-packages\\zeep\\xsd\\schema.py\u001b[0m in \u001b[0;36m_get_instance\u001b[1;34m(self, qname, method_name, name)\u001b[0m\n\u001b[0;32m    242\u001b[0m                     \u001b[0mlast_exception\u001b[0m \u001b[1;33m=\u001b[0m \u001b[0mexc\u001b[0m\u001b[1;33m\u001b[0m\u001b[0m\n\u001b[0;32m    243\u001b[0m                     \u001b[1;32mcontinue\u001b[0m\u001b[1;33m\u001b[0m\u001b[0m\n\u001b[1;32m--> 244\u001b[1;33m             \u001b[1;32mraise\u001b[0m \u001b[0mlast_exception\u001b[0m\u001b[1;33m\u001b[0m\u001b[0m\n\u001b[0m\u001b[0;32m    245\u001b[0m \u001b[1;33m\u001b[0m\u001b[0m\n\u001b[0;32m    246\u001b[0m         \u001b[1;32mexcept\u001b[0m \u001b[0mexceptions\u001b[0m\u001b[1;33m.\u001b[0m\u001b[0mNamespaceError\u001b[0m\u001b[1;33m:\u001b[0m\u001b[1;33m\u001b[0m\u001b[0m\n",
      "\u001b[1;32mc:\\python35\\lib\\site-packages\\zeep\\xsd\\schema.py\u001b[0m in \u001b[0;36m_get_instance\u001b[1;34m(self, qname, method_name, name)\u001b[0m\n\u001b[0;32m    238\u001b[0m                 \u001b[0mmethod\u001b[0m \u001b[1;33m=\u001b[0m \u001b[0mgetattr\u001b[0m\u001b[1;33m(\u001b[0m\u001b[0mschema\u001b[0m\u001b[1;33m,\u001b[0m \u001b[0mmethod_name\u001b[0m\u001b[1;33m)\u001b[0m\u001b[1;33m\u001b[0m\u001b[0m\n\u001b[0;32m    239\u001b[0m                 \u001b[1;32mtry\u001b[0m\u001b[1;33m:\u001b[0m\u001b[1;33m\u001b[0m\u001b[0m\n\u001b[1;32m--> 240\u001b[1;33m                     \u001b[1;32mreturn\u001b[0m \u001b[0mmethod\u001b[0m\u001b[1;33m(\u001b[0m\u001b[0mqname\u001b[0m\u001b[1;33m)\u001b[0m\u001b[1;33m\u001b[0m\u001b[0m\n\u001b[0m\u001b[0;32m    241\u001b[0m                 \u001b[1;32mexcept\u001b[0m \u001b[0mexceptions\u001b[0m\u001b[1;33m.\u001b[0m\u001b[0mLookupError\u001b[0m \u001b[1;32mas\u001b[0m \u001b[0mexc\u001b[0m\u001b[1;33m:\u001b[0m\u001b[1;33m\u001b[0m\u001b[0m\n\u001b[0;32m    242\u001b[0m                     \u001b[0mlast_exception\u001b[0m \u001b[1;33m=\u001b[0m \u001b[0mexc\u001b[0m\u001b[1;33m\u001b[0m\u001b[0m\n",
      "\u001b[1;32mc:\\python35\\lib\\site-packages\\zeep\\xsd\\schema.py\u001b[0m in \u001b[0;36mget_type\u001b[1;34m(self, qname)\u001b[0m\n\u001b[0;32m    462\u001b[0m \u001b[1;33m\u001b[0m\u001b[0m\n\u001b[0;32m    463\u001b[0m         \"\"\"\n\u001b[1;32m--> 464\u001b[1;33m         \u001b[1;32mreturn\u001b[0m \u001b[0mself\u001b[0m\u001b[1;33m.\u001b[0m\u001b[0m_get_instance\u001b[0m\u001b[1;33m(\u001b[0m\u001b[0mqname\u001b[0m\u001b[1;33m,\u001b[0m \u001b[0mself\u001b[0m\u001b[1;33m.\u001b[0m\u001b[0m_types\u001b[0m\u001b[1;33m,\u001b[0m \u001b[1;34m'type'\u001b[0m\u001b[1;33m)\u001b[0m\u001b[1;33m\u001b[0m\u001b[0m\n\u001b[0m\u001b[0;32m    465\u001b[0m \u001b[1;33m\u001b[0m\u001b[0m\n\u001b[0;32m    466\u001b[0m     \u001b[1;32mdef\u001b[0m \u001b[0mget_element\u001b[0m\u001b[1;33m(\u001b[0m\u001b[0mself\u001b[0m\u001b[1;33m,\u001b[0m \u001b[0mqname\u001b[0m\u001b[1;33m)\u001b[0m\u001b[1;33m:\u001b[0m\u001b[1;33m\u001b[0m\u001b[0m\n",
      "\u001b[1;32mc:\\python35\\lib\\site-packages\\zeep\\xsd\\schema.py\u001b[0m in \u001b[0;36m_get_instance\u001b[1;34m(self, qname, items, item_name)\u001b[0m\n\u001b[0;32m    513\u001b[0m                 \u001b[0mqname\u001b[0m\u001b[1;33m=\u001b[0m\u001b[0mqname\u001b[0m\u001b[1;33m,\u001b[0m\u001b[1;33m\u001b[0m\u001b[0m\n\u001b[0;32m    514\u001b[0m                 \u001b[0mitem_name\u001b[0m\u001b[1;33m=\u001b[0m\u001b[0mitem_name\u001b[0m\u001b[1;33m,\u001b[0m\u001b[1;33m\u001b[0m\u001b[0m\n\u001b[1;32m--> 515\u001b[1;33m                 location=self._location)\n\u001b[0m",
      "\u001b[1;31mLookupError\u001b[0m: No type 'getTimeSeries' in namespace http://pi.system.fews.wldelft.nl. Available types are: {http://pi.system.fews.wldelft.nl}ArrayOfInt, {http://pi.system.fews.wldelft.nl}ArrayOfString, {http://pi.system.fews.wldelft.nl}ArrayOfDateTime, {http://pi.system.fews.wldelft.nl}ArrayOfFloat"
     ]
    }
   ],
   "source": [
    "factory = client.type_factory('ns0')\n",
    "factory.getTimeSeries()"
   ]
  },
  {
   "cell_type": "code",
   "execution_count": null,
   "metadata": {
    "collapsed": false
   },
   "outputs": [],
   "source": [
    "client.wsdl.dump()"
   ]
  },
  {
   "cell_type": "code",
   "execution_count": null,
   "metadata": {
    "collapsed": false
   },
   "outputs": [],
   "source": []
  },
  {
   "cell_type": "code",
   "execution_count": null,
   "metadata": {
    "collapsed": true
   },
   "outputs": [],
   "source": [
    "piVersion = '1.22'\n",
    "\n",
    "moduleInstanceIds='pr.Reizen.vdLee.baggeracties'\n",
    "locationIds='bv.1.7.2.1.1'\n",
    "parameterIds='k.m3.gebaggerd.vdlee'\n",
    "startTime='2016-08-01T02:00:00.0+02:00'\n",
    "endTime='2017-02-01T01:00:00.0+01:00'\n",
    "convertDatum='false'\n",
    "omitMissing='false'\n",
    "onlyHeaders='false'\n",
    "filterId=None"
   ]
  },
  {
   "cell_type": "code",
   "execution_count": null,
   "metadata": {
    "collapsed": false
   },
   "outputs": [],
   "source": [
    "gts = client.service.getTimeSeries(in9=4,in10=False)"
   ]
  },
  {
   "cell_type": "code",
   "execution_count": 12,
   "metadata": {
    "collapsed": false
   },
   "outputs": [
    {
     "ename": "LookupError",
     "evalue": "No type 'getTimeSeries' in namespace http://pi.system.fews.wldelft.nl. Available types are: {http://pi.system.fews.wldelft.nl}ArrayOfInt, {http://pi.system.fews.wldelft.nl}ArrayOfString, {http://pi.system.fews.wldelft.nl}ArrayOfDateTime, {http://pi.system.fews.wldelft.nl}ArrayOfFloat",
     "output_type": "error",
     "traceback": [
      "\u001b[1;31m---------------------------------------------------------------------------\u001b[0m",
      "\u001b[1;31mKeyError\u001b[0m                                  Traceback (most recent call last)",
      "\u001b[1;32mc:\\python35\\lib\\site-packages\\zeep\\xsd\\schema.py\u001b[0m in \u001b[0;36m_get_instance\u001b[1;34m(self, qname, items, item_name)\u001b[0m\n\u001b[0;32m    499\u001b[0m         \u001b[1;32mtry\u001b[0m\u001b[1;33m:\u001b[0m\u001b[1;33m\u001b[0m\u001b[0m\n\u001b[1;32m--> 500\u001b[1;33m             \u001b[1;32mreturn\u001b[0m \u001b[0mitems\u001b[0m\u001b[1;33m[\u001b[0m\u001b[0mqname\u001b[0m\u001b[1;33m]\u001b[0m\u001b[1;33m\u001b[0m\u001b[0m\n\u001b[0m\u001b[0;32m    501\u001b[0m         \u001b[1;32mexcept\u001b[0m \u001b[0mKeyError\u001b[0m\u001b[1;33m:\u001b[0m\u001b[1;33m\u001b[0m\u001b[0m\n",
      "\u001b[1;31mKeyError\u001b[0m: <lxml.etree.QName object at 0x000000000A767210>",
      "\nDuring handling of the above exception, another exception occurred:\n",
      "\u001b[1;31mLookupError\u001b[0m                               Traceback (most recent call last)",
      "\u001b[1;32m<ipython-input-12-82d442400f09>\u001b[0m in \u001b[0;36m<module>\u001b[1;34m()\u001b[0m\n\u001b[1;32m----> 1\u001b[1;33m factory.getTimeSeries(queryParams=({\n\u001b[0m\u001b[0;32m      2\u001b[0m     \u001b[1;34m'convertDatum'\u001b[0m\u001b[1;33m:\u001b[0m\u001b[1;34m'false'\u001b[0m\u001b[1;33m,\u001b[0m\u001b[1;33m\u001b[0m\u001b[0m\n\u001b[0;32m      3\u001b[0m     \u001b[1;34m'moduleInstanceIds'\u001b[0m\u001b[1;33m:\u001b[0m\u001b[1;34m'pr.Reizen.vdLee.baggeracties'\u001b[0m\u001b[1;33m\u001b[0m\u001b[0m\n\u001b[0;32m      4\u001b[0m }))\n",
      "\u001b[1;32mc:\\python35\\lib\\site-packages\\zeep\\client.py\u001b[0m in \u001b[0;36m__getattr__\u001b[1;34m(self, key)\u001b[0m\n\u001b[0;32m     84\u001b[0m \u001b[1;33m\u001b[0m\u001b[0m\n\u001b[0;32m     85\u001b[0m         \"\"\"\n\u001b[1;32m---> 86\u001b[1;33m         \u001b[1;32mreturn\u001b[0m \u001b[0mself\u001b[0m\u001b[1;33m[\u001b[0m\u001b[0mkey\u001b[0m\u001b[1;33m]\u001b[0m\u001b[1;33m\u001b[0m\u001b[0m\n\u001b[0m\u001b[0;32m     87\u001b[0m \u001b[1;33m\u001b[0m\u001b[0m\n\u001b[0;32m     88\u001b[0m     \u001b[1;32mdef\u001b[0m \u001b[0m__getitem__\u001b[0m\u001b[1;33m(\u001b[0m\u001b[0mself\u001b[0m\u001b[1;33m,\u001b[0m \u001b[0mkey\u001b[0m\u001b[1;33m)\u001b[0m\u001b[1;33m:\u001b[0m\u001b[1;33m\u001b[0m\u001b[0m\n",
      "\u001b[1;32mc:\\python35\\lib\\site-packages\\zeep\\client.py\u001b[0m in \u001b[0;36m__getitem__\u001b[1;34m(self, key)\u001b[0m\n\u001b[0;32m     92\u001b[0m \u001b[1;33m\u001b[0m\u001b[0m\n\u001b[0;32m     93\u001b[0m         \"\"\"\n\u001b[1;32m---> 94\u001b[1;33m         \u001b[1;32mreturn\u001b[0m \u001b[0mself\u001b[0m\u001b[1;33m.\u001b[0m\u001b[0m_method\u001b[0m\u001b[1;33m(\u001b[0m\u001b[1;34m'{%s}%s'\u001b[0m \u001b[1;33m%\u001b[0m \u001b[1;33m(\u001b[0m\u001b[0mself\u001b[0m\u001b[1;33m.\u001b[0m\u001b[0m_ns\u001b[0m\u001b[1;33m,\u001b[0m \u001b[0mkey\u001b[0m\u001b[1;33m)\u001b[0m\u001b[1;33m)\u001b[0m\u001b[1;33m\u001b[0m\u001b[0m\n\u001b[0m\u001b[0;32m     95\u001b[0m \u001b[1;33m\u001b[0m\u001b[0m\n\u001b[0;32m     96\u001b[0m \u001b[1;33m\u001b[0m\u001b[0m\n",
      "\u001b[1;32mc:\\python35\\lib\\site-packages\\zeep\\xsd\\schema.py\u001b[0m in \u001b[0;36mget_type\u001b[1;34m(self, qname, fail_silently)\u001b[0m\n\u001b[0;32m    144\u001b[0m         \u001b[0mqname\u001b[0m \u001b[1;33m=\u001b[0m \u001b[0mself\u001b[0m\u001b[1;33m.\u001b[0m\u001b[0m_create_qname\u001b[0m\u001b[1;33m(\u001b[0m\u001b[0mqname\u001b[0m\u001b[1;33m)\u001b[0m\u001b[1;33m\u001b[0m\u001b[0m\n\u001b[0;32m    145\u001b[0m         \u001b[1;32mtry\u001b[0m\u001b[1;33m:\u001b[0m\u001b[1;33m\u001b[0m\u001b[0m\n\u001b[1;32m--> 146\u001b[1;33m             \u001b[1;32mreturn\u001b[0m \u001b[0mself\u001b[0m\u001b[1;33m.\u001b[0m\u001b[0m_get_instance\u001b[0m\u001b[1;33m(\u001b[0m\u001b[0mqname\u001b[0m\u001b[1;33m,\u001b[0m \u001b[1;34m'get_type'\u001b[0m\u001b[1;33m,\u001b[0m \u001b[1;34m'type'\u001b[0m\u001b[1;33m)\u001b[0m\u001b[1;33m\u001b[0m\u001b[0m\n\u001b[0m\u001b[0;32m    147\u001b[0m         \u001b[1;32mexcept\u001b[0m \u001b[0mexceptions\u001b[0m\u001b[1;33m.\u001b[0m\u001b[0mNamespaceError\u001b[0m \u001b[1;32mas\u001b[0m \u001b[0mexc\u001b[0m\u001b[1;33m:\u001b[0m\u001b[1;33m\u001b[0m\u001b[0m\n\u001b[0;32m    148\u001b[0m             \u001b[1;32mif\u001b[0m \u001b[0mfail_silently\u001b[0m\u001b[1;33m:\u001b[0m\u001b[1;33m\u001b[0m\u001b[0m\n",
      "\u001b[1;32mc:\\python35\\lib\\site-packages\\zeep\\xsd\\schema.py\u001b[0m in \u001b[0;36m_get_instance\u001b[1;34m(self, qname, method_name, name)\u001b[0m\n\u001b[0;32m    242\u001b[0m                     \u001b[0mlast_exception\u001b[0m \u001b[1;33m=\u001b[0m \u001b[0mexc\u001b[0m\u001b[1;33m\u001b[0m\u001b[0m\n\u001b[0;32m    243\u001b[0m                     \u001b[1;32mcontinue\u001b[0m\u001b[1;33m\u001b[0m\u001b[0m\n\u001b[1;32m--> 244\u001b[1;33m             \u001b[1;32mraise\u001b[0m \u001b[0mlast_exception\u001b[0m\u001b[1;33m\u001b[0m\u001b[0m\n\u001b[0m\u001b[0;32m    245\u001b[0m \u001b[1;33m\u001b[0m\u001b[0m\n\u001b[0;32m    246\u001b[0m         \u001b[1;32mexcept\u001b[0m \u001b[0mexceptions\u001b[0m\u001b[1;33m.\u001b[0m\u001b[0mNamespaceError\u001b[0m\u001b[1;33m:\u001b[0m\u001b[1;33m\u001b[0m\u001b[0m\n",
      "\u001b[1;32mc:\\python35\\lib\\site-packages\\zeep\\xsd\\schema.py\u001b[0m in \u001b[0;36m_get_instance\u001b[1;34m(self, qname, method_name, name)\u001b[0m\n\u001b[0;32m    238\u001b[0m                 \u001b[0mmethod\u001b[0m \u001b[1;33m=\u001b[0m \u001b[0mgetattr\u001b[0m\u001b[1;33m(\u001b[0m\u001b[0mschema\u001b[0m\u001b[1;33m,\u001b[0m \u001b[0mmethod_name\u001b[0m\u001b[1;33m)\u001b[0m\u001b[1;33m\u001b[0m\u001b[0m\n\u001b[0;32m    239\u001b[0m                 \u001b[1;32mtry\u001b[0m\u001b[1;33m:\u001b[0m\u001b[1;33m\u001b[0m\u001b[0m\n\u001b[1;32m--> 240\u001b[1;33m                     \u001b[1;32mreturn\u001b[0m \u001b[0mmethod\u001b[0m\u001b[1;33m(\u001b[0m\u001b[0mqname\u001b[0m\u001b[1;33m)\u001b[0m\u001b[1;33m\u001b[0m\u001b[0m\n\u001b[0m\u001b[0;32m    241\u001b[0m                 \u001b[1;32mexcept\u001b[0m \u001b[0mexceptions\u001b[0m\u001b[1;33m.\u001b[0m\u001b[0mLookupError\u001b[0m \u001b[1;32mas\u001b[0m \u001b[0mexc\u001b[0m\u001b[1;33m:\u001b[0m\u001b[1;33m\u001b[0m\u001b[0m\n\u001b[0;32m    242\u001b[0m                     \u001b[0mlast_exception\u001b[0m \u001b[1;33m=\u001b[0m \u001b[0mexc\u001b[0m\u001b[1;33m\u001b[0m\u001b[0m\n",
      "\u001b[1;32mc:\\python35\\lib\\site-packages\\zeep\\xsd\\schema.py\u001b[0m in \u001b[0;36mget_type\u001b[1;34m(self, qname)\u001b[0m\n\u001b[0;32m    462\u001b[0m \u001b[1;33m\u001b[0m\u001b[0m\n\u001b[0;32m    463\u001b[0m         \"\"\"\n\u001b[1;32m--> 464\u001b[1;33m         \u001b[1;32mreturn\u001b[0m \u001b[0mself\u001b[0m\u001b[1;33m.\u001b[0m\u001b[0m_get_instance\u001b[0m\u001b[1;33m(\u001b[0m\u001b[0mqname\u001b[0m\u001b[1;33m,\u001b[0m \u001b[0mself\u001b[0m\u001b[1;33m.\u001b[0m\u001b[0m_types\u001b[0m\u001b[1;33m,\u001b[0m \u001b[1;34m'type'\u001b[0m\u001b[1;33m)\u001b[0m\u001b[1;33m\u001b[0m\u001b[0m\n\u001b[0m\u001b[0;32m    465\u001b[0m \u001b[1;33m\u001b[0m\u001b[0m\n\u001b[0;32m    466\u001b[0m     \u001b[1;32mdef\u001b[0m \u001b[0mget_element\u001b[0m\u001b[1;33m(\u001b[0m\u001b[0mself\u001b[0m\u001b[1;33m,\u001b[0m \u001b[0mqname\u001b[0m\u001b[1;33m)\u001b[0m\u001b[1;33m:\u001b[0m\u001b[1;33m\u001b[0m\u001b[0m\n",
      "\u001b[1;32mc:\\python35\\lib\\site-packages\\zeep\\xsd\\schema.py\u001b[0m in \u001b[0;36m_get_instance\u001b[1;34m(self, qname, items, item_name)\u001b[0m\n\u001b[0;32m    513\u001b[0m                 \u001b[0mqname\u001b[0m\u001b[1;33m=\u001b[0m\u001b[0mqname\u001b[0m\u001b[1;33m,\u001b[0m\u001b[1;33m\u001b[0m\u001b[0m\n\u001b[0;32m    514\u001b[0m                 \u001b[0mitem_name\u001b[0m\u001b[1;33m=\u001b[0m\u001b[0mitem_name\u001b[0m\u001b[1;33m,\u001b[0m\u001b[1;33m\u001b[0m\u001b[0m\n\u001b[1;32m--> 515\u001b[1;33m                 location=self._location)\n\u001b[0m",
      "\u001b[1;31mLookupError\u001b[0m: No type 'getTimeSeries' in namespace http://pi.system.fews.wldelft.nl. Available types are: {http://pi.system.fews.wldelft.nl}ArrayOfInt, {http://pi.system.fews.wldelft.nl}ArrayOfString, {http://pi.system.fews.wldelft.nl}ArrayOfDateTime, {http://pi.system.fews.wldelft.nl}ArrayOfFloat"
     ]
    }
   ],
   "source": [
    "factory.getTimeSeries(queryParams=({\n",
    "    'convertDatum':'false',\n",
    "    'moduleInstanceIds':'pr.Reizen.vdLee.baggeracties'    \n",
    "}))"
   ]
  },
  {
   "cell_type": "code",
   "execution_count": null,
   "metadata": {
    "collapsed": true
   },
   "outputs": [],
   "source": [
    "pi.getLocations()"
   ]
  },
  {
   "cell_type": "code",
   "execution_count": null,
   "metadata": {
    "collapsed": false
   },
   "outputs": [],
   "source": [
    "#client.service.getLocations(clientId = clientId, filterId = filterId, piVerson = piVersion)\n",
    "client.service.getLocations('','METEO.GSOD','1.22')"
   ]
  },
  {
   "cell_type": "code",
   "execution_count": null,
   "metadata": {
    "collapsed": true
   },
   "outputs": [],
   "source": [
    "# execute the query\n",
    "getLocations_response = client.service.getLocations('','METEO.GSOD','1.22')\n",
    "\n",
    "# parse XML object\n",
    "obj = untangle.parse_raw(getLocations_response)\n",
    "#getLocations_xml_file = fewsPi.utils.saveXml_tmp(getLocations_response)\n",
    "#obj = untangle.parse(getLocations_xml_file)\n",
    "\n",
    "rows_latlon_list = []\n",
    "# get geoDatum\n",
    "geoDatum = obj.Locations.geoDatum.cdata\n",
    "# get locations\n",
    "for location in obj.Locations.location:    \n",
    "    rows_latlon_list.append({'locationId':location['locationId'],\n",
    "                             'shortName':location.shortName.cdata,\n",
    "                             'Lat':float(location.lat.cdata),\n",
    "                             'Lon':float(location.lon.cdata),\n",
    "                             'x':float(location.x.cdata),\n",
    "                             'y':float(location.y.cdata)\n",
    "                            })\n",
    "\n",
    "# CREATE dataframe of location rows dictionary\n",
    "df_latlon = pd.DataFrame(rows_latlon_list)\n",
    "\n",
    "# CONVERT to geodataframe using latlon for geometry\n",
    "geometry = [Point(xy) for xy in zip(df_latlon.Lon, df_latlon.Lat)]\n",
    "df = df_latlon.drop(['Lon', 'Lat'], axis=1)\n",
    "crs = {'init': 'epsg:4326'}\n",
    "gdf2json = gpd.GeoDataFrame(df_latlon, crs=crs, geometry=geometry).to_json()"
   ]
  },
  {
   "cell_type": "code",
   "execution_count": null,
   "metadata": {
    "collapsed": false,
    "scrolled": true
   },
   "outputs": [],
   "source": [
    "gdf2json"
   ]
  },
  {
   "cell_type": "code",
   "execution_count": null,
   "metadata": {
    "collapsed": false
   },
   "outputs": [],
   "source": [
    "getTimeSeries = client.factory.create('getTimeSeries')"
   ]
  },
  {
   "cell_type": "code",
   "execution_count": null,
   "metadata": {
    "collapsed": true
   },
   "outputs": [],
   "source": [
    "getTimeSeries."
   ]
  },
  {
   "cell_type": "code",
   "execution_count": null,
   "metadata": {
    "collapsed": false
   },
   "outputs": [],
   "source": [
    "import zeep\n",
    "\n",
    "client = zeep.Client(\n",
    "    wsdl=_piService)\n",
    "\n",
    "client.wsdl.dump()"
   ]
  },
  {
   "cell_type": "code",
   "execution_count": null,
   "metadata": {
    "collapsed": false
   },
   "outputs": [],
   "source": [
    "client.type_factory.create('getLocations')"
   ]
  },
  {
   "cell_type": "code",
   "execution_count": null,
   "metadata": {
    "collapsed": true
   },
   "outputs": [],
   "source": [
    "_filterId = 'METEO.GSOD'"
   ]
  },
  {
   "cell_type": "code",
   "execution_count": null,
   "metadata": {
    "collapsed": false,
    "deletable": true,
    "editable": true
   },
   "outputs": [],
   "source": [
    "# get the locations and store as GeoJSON in blob\n",
    "#_filterId = 'f_werk'#'f_werk.1' \n",
    "_piVersion = '1.22'\n",
    "piLocations = pi.getLocations(piService=_piService, filterId=_filterId, piVersion=_piVersion)"
   ]
  },
  {
   "cell_type": "code",
   "execution_count": null,
   "metadata": {
    "collapsed": true,
    "deletable": true,
    "editable": true
   },
   "outputs": [],
   "source": [
    "#pi.hkvportal.setdatabykey(_dbService, '')"
   ]
  },
  {
   "cell_type": "code",
   "execution_count": null,
   "metadata": {
    "collapsed": false
   },
   "outputs": [],
   "source": [
    "piLocations"
   ]
  },
  {
   "cell_type": "code",
   "execution_count": null,
   "metadata": {
    "collapsed": false
   },
   "outputs": [],
   "source": [
    "# moduleInstanceIds = 'pr.Reizen.vdLee.baggeracties',\n",
    "#                       locationIds = ['bv.1.7.2.1.1','bv.1.7.2.3.2'], parameterIds = 'k.m3.gebaggerd.vdlee',\n",
    "#                       startTime = '2016-08-01T02:00:00.0+02:00', endTime = '2017-02-01T01:00:00.0+01:00',\n",
    "#                       convertDatum = 'false', omitMissing = 'false', onlyHeaders = 'false', \n",
    "#                       filterId = None, piVersion='1.22', clientId=''):\n",
    "client.service.getTimeSeries(in0='dsf',in9='')"
   ]
  },
  {
   "cell_type": "code",
   "execution_count": null,
   "metadata": {
    "collapsed": false
   },
   "outputs": [],
   "source": [
    "client = Client(_piService)"
   ]
  },
  {
   "cell_type": "code",
   "execution_count": null,
   "metadata": {
    "collapsed": true
   },
   "outputs": [],
   "source": [
    "gts = client.factory.create('getTimeSeries')"
   ]
  },
  {
   "cell_type": "code",
   "execution_count": null,
   "metadata": {
    "collapsed": false
   },
   "outputs": [],
   "source": [
    "gts.queryParams"
   ]
  },
  {
   "cell_type": "code",
   "execution_count": null,
   "metadata": {
    "collapsed": true
   },
   "outputs": [],
   "source": []
  }
 ],
 "metadata": {
  "kernelspec": {
   "display_name": "Python 3",
   "language": "python",
   "name": "python3"
  },
  "language_info": {
   "codemirror_mode": {
    "name": "ipython",
    "version": 3
   },
   "file_extension": ".py",
   "mimetype": "text/x-python",
   "name": "python",
   "nbconvert_exporter": "python",
   "pygments_lexer": "ipython3",
   "version": "3.5.2"
  }
 },
 "nbformat": 4,
 "nbformat_minor": 2
}
