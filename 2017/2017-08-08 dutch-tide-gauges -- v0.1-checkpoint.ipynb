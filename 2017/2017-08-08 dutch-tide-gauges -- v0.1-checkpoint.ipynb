{
 "cells": [
  {
   "cell_type": "markdown",
   "metadata": {
    "deletable": true,
    "editable": true
   },
   "source": [
    "# Tide gauges of the Dutch Coast\n",
    "This notebook gathers details of the six main tide gauges (see <a href='https://waterinfo.rws.nl/#!/kaart/waterhoogte-t-o-v-nap/'>waterinfo.rws.nl</a> for more information about these and all other measurement stations in the Netherlands) of Rijkswaterstaat along the Dutch Coast. On overview is given on the location of these six stations. The different stations are elaborated in more detail below.\n",
    "\n",
    "<ol>\n",
    "  <li><a href=\"#DELFZL\">Delfzijl</a></li>\n",
    "  <li><a href=\"#DENHDR\">Den Helder</a></li>\n",
    "  <li><a href=\"#HARLGN\">Harlingen</a></li>\n",
    "  <li><a href=\"#HOEKVHLD\">Hoek van Holland</a></li>\n",
    "  <li><a href=\"#IJMDBTHVN\">IJmuiden</a></li>\n",
    "  <li><a href=\"#VLISSGN\">Vlissingen</a></li>\n",
    "</ol>\n"
   ]
  },
  {
   "cell_type": "code",
   "execution_count": 3,
   "metadata": {
    "collapsed": false,
    "deletable": true,
    "editable": true,
    "hide_input": true
   },
   "outputs": [
    {
     "data": {
      "text/html": [
       "\n",
       "    <div class=\"bk-root\">\n",
       "        <a href=\"http://bokeh.pydata.org\" target=\"_blank\" class=\"bk-logo bk-logo-small bk-logo-notebook\"></a>\n",
       "        <span id=\"83948e31-c588-48dd-a243-e6c25b884b0f\">Loading BokehJS ...</span>\n",
       "    </div>"
      ]
     },
     "metadata": {},
     "output_type": "display_data"
    },
    {
     "data": {
      "application/javascript": [
       "\n",
       "(function(global) {\n",
       "  function now() {\n",
       "    return new Date();\n",
       "  }\n",
       "\n",
       "  var force = true;\n",
       "\n",
       "  if (typeof (window._bokeh_onload_callbacks) === \"undefined\" || force === true) {\n",
       "    window._bokeh_onload_callbacks = [];\n",
       "    window._bokeh_is_loading = undefined;\n",
       "  }\n",
       "\n",
       "\n",
       "  \n",
       "  if (typeof (window._bokeh_timeout) === \"undefined\" || force === true) {\n",
       "    window._bokeh_timeout = Date.now() + 5000;\n",
       "    window._bokeh_failed_load = false;\n",
       "  }\n",
       "\n",
       "  var NB_LOAD_WARNING = {'data': {'text/html':\n",
       "     \"<div style='background-color: #fdd'>\\n\"+\n",
       "     \"<p>\\n\"+\n",
       "     \"BokehJS does not appear to have successfully loaded. If loading BokehJS from CDN, this \\n\"+\n",
       "     \"may be due to a slow or bad network connection. Possible fixes:\\n\"+\n",
       "     \"</p>\\n\"+\n",
       "     \"<ul>\\n\"+\n",
       "     \"<li>re-rerun `output_notebook()` to attempt to load from CDN again, or</li>\\n\"+\n",
       "     \"<li>use INLINE resources instead, as so:</li>\\n\"+\n",
       "     \"</ul>\\n\"+\n",
       "     \"<code>\\n\"+\n",
       "     \"from bokeh.resources import INLINE\\n\"+\n",
       "     \"output_notebook(resources=INLINE)\\n\"+\n",
       "     \"</code>\\n\"+\n",
       "     \"</div>\"}};\n",
       "\n",
       "  function display_loaded() {\n",
       "    if (window.Bokeh !== undefined) {\n",
       "      document.getElementById(\"83948e31-c588-48dd-a243-e6c25b884b0f\").textContent = \"BokehJS successfully loaded.\";\n",
       "    } else if (Date.now() < window._bokeh_timeout) {\n",
       "      setTimeout(display_loaded, 100)\n",
       "    }\n",
       "  }\n",
       "\n",
       "  function run_callbacks() {\n",
       "    window._bokeh_onload_callbacks.forEach(function(callback) { callback() });\n",
       "    delete window._bokeh_onload_callbacks\n",
       "    console.info(\"Bokeh: all callbacks have finished\");\n",
       "  }\n",
       "\n",
       "  function load_libs(js_urls, callback) {\n",
       "    window._bokeh_onload_callbacks.push(callback);\n",
       "    if (window._bokeh_is_loading > 0) {\n",
       "      console.log(\"Bokeh: BokehJS is being loaded, scheduling callback at\", now());\n",
       "      return null;\n",
       "    }\n",
       "    if (js_urls == null || js_urls.length === 0) {\n",
       "      run_callbacks();\n",
       "      return null;\n",
       "    }\n",
       "    console.log(\"Bokeh: BokehJS not loaded, scheduling load and callback at\", now());\n",
       "    window._bokeh_is_loading = js_urls.length;\n",
       "    for (var i = 0; i < js_urls.length; i++) {\n",
       "      var url = js_urls[i];\n",
       "      var s = document.createElement('script');\n",
       "      s.src = url;\n",
       "      s.async = false;\n",
       "      s.onreadystatechange = s.onload = function() {\n",
       "        window._bokeh_is_loading--;\n",
       "        if (window._bokeh_is_loading === 0) {\n",
       "          console.log(\"Bokeh: all BokehJS libraries loaded\");\n",
       "          run_callbacks()\n",
       "        }\n",
       "      };\n",
       "      s.onerror = function() {\n",
       "        console.warn(\"failed to load library \" + url);\n",
       "      };\n",
       "      console.log(\"Bokeh: injecting script tag for BokehJS library: \", url);\n",
       "      document.getElementsByTagName(\"head\")[0].appendChild(s);\n",
       "    }\n",
       "  };var element = document.getElementById(\"83948e31-c588-48dd-a243-e6c25b884b0f\");\n",
       "  if (element == null) {\n",
       "    console.log(\"Bokeh: ERROR: autoload.js configured with elementid '83948e31-c588-48dd-a243-e6c25b884b0f' but no matching script tag was found. \")\n",
       "    return false;\n",
       "  }\n",
       "\n",
       "  var js_urls = [\"https://cdn.pydata.org/bokeh/release/bokeh-0.12.4.min.js\", \"https://cdn.pydata.org/bokeh/release/bokeh-widgets-0.12.4.min.js\"];\n",
       "\n",
       "  var inline_js = [\n",
       "    function(Bokeh) {\n",
       "      Bokeh.set_log_level(\"info\");\n",
       "    },\n",
       "    \n",
       "    function(Bokeh) {\n",
       "      \n",
       "      document.getElementById(\"83948e31-c588-48dd-a243-e6c25b884b0f\").textContent = \"BokehJS is loading...\";\n",
       "    },\n",
       "    function(Bokeh) {\n",
       "      console.log(\"Bokeh: injecting CSS: https://cdn.pydata.org/bokeh/release/bokeh-0.12.4.min.css\");\n",
       "      Bokeh.embed.inject_css(\"https://cdn.pydata.org/bokeh/release/bokeh-0.12.4.min.css\");\n",
       "      console.log(\"Bokeh: injecting CSS: https://cdn.pydata.org/bokeh/release/bokeh-widgets-0.12.4.min.css\");\n",
       "      Bokeh.embed.inject_css(\"https://cdn.pydata.org/bokeh/release/bokeh-widgets-0.12.4.min.css\");\n",
       "    }\n",
       "  ];\n",
       "\n",
       "  function run_inline_js() {\n",
       "    \n",
       "    if ((window.Bokeh !== undefined) || (force === true)) {\n",
       "      for (var i = 0; i < inline_js.length; i++) {\n",
       "        inline_js[i](window.Bokeh);\n",
       "      }if (force === true) {\n",
       "        display_loaded();\n",
       "      }} else if (Date.now() < window._bokeh_timeout) {\n",
       "      setTimeout(run_inline_js, 100);\n",
       "    } else if (!window._bokeh_failed_load) {\n",
       "      console.log(\"Bokeh: BokehJS failed to load within specified timeout.\");\n",
       "      window._bokeh_failed_load = true;\n",
       "    } else if (force !== true) {\n",
       "      var cell = $(document.getElementById(\"83948e31-c588-48dd-a243-e6c25b884b0f\")).parents('.cell').data().cell;\n",
       "      cell.output_area.append_execute_result(NB_LOAD_WARNING)\n",
       "    }\n",
       "\n",
       "  }\n",
       "\n",
       "  if (window._bokeh_is_loading === 0) {\n",
       "    console.log(\"Bokeh: BokehJS loaded, going straight to plotting\");\n",
       "    run_inline_js();\n",
       "  } else {\n",
       "    load_libs(js_urls, function() {\n",
       "      console.log(\"Bokeh: BokehJS plotting callback run at\", now());\n",
       "      run_inline_js();\n",
       "    });\n",
       "  }\n",
       "}(this));"
      ]
     },
     "metadata": {},
     "output_type": "display_data"
    }
   ],
   "source": [
    "# io\n",
    "import zipfile\n",
    "import io\n",
    "import bisect\n",
    "import logging\n",
    "\n",
    "# Import packages\n",
    "import numpy as np\n",
    "import pandas as pd\n",
    "\n",
    "# download, formats and projections\n",
    "import netCDF4\n",
    "import pyproj\n",
    "import requests\n",
    "import geojson\n",
    "import rtree\n",
    "import owslib.wcs\n",
    "import osgeo.osr\n",
    "\n",
    "# rendering\n",
    "import mako.template\n",
    "import IPython.display\n",
    "\n",
    "# plotting\n",
    "import bokeh.models\n",
    "import bokeh.tile_providers\n",
    "import bokeh.plotting\n",
    "import matplotlib.pyplot as plt\n",
    "import matplotlib.gridspec\n",
    "import matplotlib.colors\n",
    "\n",
    "%matplotlib inline\n",
    "bokeh.plotting.output_notebook()"
   ]
  },
  {
   "cell_type": "markdown",
   "metadata": {
    "deletable": true,
    "editable": true,
    "hide_input": true
   },
   "source": [
    "# Datasets\n",
    "We use several external datasets. These are availble from public url's. \n",
    "The subsoil information is available from <a href=\"https://www.dinoloket.nl/\">dinoloket.nl</a>. Part of the information about the Dutch tide gauges is available from  <a href=\"https://waterwebservices.rijkswaterstaat.nl\">water webservices</a> at Rijkswaterstaat. The height information is available from Rijkswaterstaat's <a href=\"https://geoservices.rijkswaterstaat.nl/geoweb_silverlight/?Viewer=NAPinfo\">geoweb viewer</a>, which is only viewable through silverlight. There is however a direct access to the data through <a href=\"https://geodata.nationaalgeoregister.nl/napinfo/wfs\">the WFS server</a> at the nationaalgeoregister.nl. There are some images and technical drawings available on <a href=\"https://www.rijkswaterstaat.nl/formulieren/aanvraagformulier-servicedesk-data.aspx\">request</a> at Rijkswaterstaat . \n"
   ]
  },
  {
   "cell_type": "code",
   "execution_count": 3,
   "metadata": {
    "collapsed": true,
    "deletable": true,
    "editable": true,
    "hide_input": true
   },
   "outputs": [],
   "source": [
    "# the files needed for this analysis\n",
    "# dino, information about the subsoil >= -50m\n",
    "dino_url = 'http://dinodata.nl/opendap/GeoTOP/geotop.nc'\n",
    "# ddl, the data distributie laag\n",
    "ddl_url = 'https://waterwebservices.rijkswaterstaat.nl/METADATASERVICES_DBO/OphalenCatalogus/'\n",
    "# Dutch ordnance system\n",
    "nap_url = 'https://geodata.nationaalgeoregister.nl/napinfo/wfs'\n",
    "# Web coverage service for NAP.\n",
    "ahn_url = 'http://geodata.nationaalgeoregister.nl/ahn2/wcs'\n",
    "psmsl_url = 'http://www.psmsl.org/data/obtaining/rlr.annual.data/rlr_annual.zip'"
   ]
  },
  {
   "cell_type": "markdown",
   "metadata": {
    "deletable": true,
    "editable": true
   },
   "source": [
    "# Projections\n",
    "The datasets mentioned above use different geospatial projections. The data from the water webservices is available in <a href=\"http://spatialreference.org/ref/epsg/25831/\">UTM zone 31N on the ETRS89 geoid</a>. The local coordinate system is the Rijksdriehoekstelsel, which is availble <a href=\"http://spatialreference.org/ref/epsg/7415\">with</a> and <a href=\"http://spatialreference.org/ref/epsg/28992\">without</a> a reference to the vertical Coordinate System NAP.\n",
    "Data is also transformed to the <a href=\"http://spatialreference.org/ref/epsg/4326\">WGS84</a> and <a href=\"http://spatialreference.org/ref/epsg/3857\">Web Mercator</a> projections. Note that we use the proj4 software here for the projection. Formally the RDNAPTrans software provides the translation between the RD and other coordinate system, but this software is only available on <a href=\"https://formulieren.kadaster.nl/aanvragen_rdnaptrans2008\">request<a/>. "
   ]
  },
  {
   "cell_type": "code",
   "execution_count": 4,
   "metadata": {
    "collapsed": false,
    "deletable": true,
    "editable": true,
    "hide_input": true
   },
   "outputs": [],
   "source": [
    "# These are not used.\n",
    "# Using osgeo.osr is an alternative to pyproj.\n",
    "# They can give different results if EPSG tables are not up to date\n",
    "# or if the proj version does not support datum transformations (>4.6.0)\n",
    "wgs84 = osgeo.osr.SpatialReference()\n",
    "wgs84.ImportFromEPSG(4326)\n",
    "rd = osgeo.osr.SpatialReference()\n",
    "rd.ImportFromEPSG(28992)\n",
    "rdnap = osgeo.osr.SpatialReference()\n",
    "rdnap.ImportFromEPSG(7415)\n",
    "webm = osgeo.osr.SpatialReference()\n",
    "webm.ImportFromEPSG(3857)\n",
    "etrs89_utm31n = osgeo.osr.SpatialReference()\n",
    "etrs89_utm31n.ImportFromEPSG(25831)\n",
    "etrs89_utm31n2rd = osgeo.osr.CoordinateTransformation(etrs89_utm31n, rd)\n",
    "etrs89_utm31n2wgs84 = osgeo.osr.CoordinateTransformation(etrs89_utm31n, wgs84)\n",
    "etrs89_utm31n2webm = osgeo.osr.CoordinateTransformation(etrs89_utm31n, webm)\n",
    "\n",
    "# We use pyproj\n",
    "wgs84 = pyproj.Proj(init='epsg:4326')\n",
    "rd = pyproj.Proj(init='epsg:28992')\n",
    "rdnap = pyproj.Proj(init='epsg:7415')\n",
    "webm = pyproj.Proj(init='epsg:3857')\n",
    "etrs89_utm31n = pyproj.Proj(init='epsg:25831')\n",
    "\n",
    "# if pyproj is old, give an error\n",
    "if str(wgs84.proj_version) < \"4.60\":\n",
    "    logging.error(\"\"\"pyproj version {} does not support datum transformations. Use osgeo.osr, example above.\"\"\".format(wgs84.proj_version))"
   ]
  },
  {
   "cell_type": "markdown",
   "metadata": {
    "deletable": true,
    "editable": true
   },
   "source": [
    "# Schematic representation of tide gauge station. \n",
    "The dataset below contains a manual annotation of the tide gauge schematics. The tide gauge schematics (shown below) were obtained through personal communication with Rijkswaterstaat. The dataset contains the following fields:\n",
    "\n",
    "- location: Name of station\n",
    "- psmsl_id: ID from PSMSL\n",
    "- ddl_id: ID in data distributielaag (DDL)\n",
    "- foundation_low: lowest point of foundation, read from tide gauge design (m relative to NAP)\n",
    "- station_low: lowest point of station, read from tide gauge design  (m relative to NAP\n",
    "- station_high: highest point of station, read from tide gauge design (m relative to NAP)\n",
    "- nulpaal: station has a nulpaal (station is directly connected to NAP reference point)\n",
    "- summary: description of tide gauge,\n",
    "- img: image from CIV\n",
    "\n",
    "This information is presented, in combination with the other information at the end of this document."
   ]
  },
  {
   "cell_type": "code",
   "execution_count": 5,
   "metadata": {
    "collapsed": true,
    "deletable": true,
    "editable": true,
    "hide_input": true
   },
   "outputs": [],
   "source": [
    "# this is information collected manual\n",
    "\n",
    "main_stations = [\n",
    "    {\n",
    "        \"ddl_id\": \"DELFZL\",\n",
    "        \"location\": \"Delfzijl\",\n",
    "        \"psmsl_id\": 24,\n",
    "        \"foundation_low\": -20,\n",
    "        \"station_low\": 1.85,\n",
    "        \"station_high\": 10.18,\n",
    "        \"nulpaal\": 0,\n",
    "        \"rlr2nap\": lambda x: x - (6978-155),\n",
    "        \"summary\": \"The tidal measurement station in Delfzijl is located in the harbour of Delfzijl. Category 'Peilmeetstation'. The station has a main building with a foundation on a steel round pole (inner width = 2.3m, outer width 2.348m) reaching to a depth of -20m NAP. The Building is placed in the harbour and is connected to the main land by means of a steel stairs towards a quay. Which has also a foundation on steel poles. Peilbout is inside the construction attached to the wall. Every ten minutes the water level relative to NAP is measured. Between -4 and -5 m depth concrete seals of the underwater chamber. \",\n",
    "        \"img\": \"http://www.openearth.nl/sealevel/static/images/DELFZL.jpg\",\n",
    "        \"autocad\": \"http://a360.co/2s8ltK7\",\n",
    "        \"links\": []\n",
    "    },\n",
    "    {\n",
    "        \"ddl_id\": \"DENHDR\",\n",
    "        \"location\": \"Den Helder\",\n",
    "        \"psmsl_id\": 23,\n",
    "        \"foundation_low\": -5,\n",
    "        \"station_low\": 5,\n",
    "        \"station_high\": 8.47,\n",
    "        \"nulpaal\": 1,\n",
    "        \"rlr2nap\": lambda x: x - (6988-42),\n",
    "        \"summary\": \"This station is located in the dike of Den Helder. The station has a pipe through the dike towards the sea for the measurement of the water level. The inlet of this pipe is at -3.25m NAP. There is a seperate construction for the ventilation of the main building. Furthermore the peilbout is located outside the main building at the opposite side of the dike. The main construction has a foundation of steel sheet pilings forming a rectangle around the measurement instruments. Between -4 and -5 m depth concrete seals of the underwater chamber. \",\n",
    "        \"img\": \"http://www.openearth.nl/sealevel/static/images/DENHDR.jpg\",\n",
    "        \"autocad\": \"http://a360.co/2sYyitj\",\n",
    "        \"links\": []\n",
    "    },\n",
    "    {\n",
    "        \"ddl_id\": \"HARLGN\", \n",
    "        \"location\": \"Harlingen\",\n",
    "        \"psmsl_id\": 25,\n",
    "        \"foundation_low\": -5.4,\n",
    "        \"station_low\": 5.55,\n",
    "        \"station_high\": 8.54,\n",
    "        \"nulpaal\": 1,\n",
    "        \"rlr2nap\": lambda x: x - (7036-122),\n",
    "        \"summary\": \"The tidal station in Harlingen is located in a harbour on top of a boulevard. A pipe is going from the station at a depth of -2.56m NAP towards the sea. The inlet of the pipe is protected by a construction, so as to reduce the variations by the wave impact. The Main building has a foundation of a steel sheet pilings construction (rectangle inner dimensions 2.53 by 2.27m^2) surrounding the measurement instruments.\",\n",
    "        \"img\": \"http://www.openearth.nl/sealevel/static/images/DELFZL.jpg\",\n",
    "        \"autocad\": \"http://a360.co/2sYfFFX\",\n",
    "        \"links\": []\n",
    "    },\n",
    "    {\n",
    "        \"ddl_id\": \"HOEKVHLD\", \n",
    "        \"location\": \"Hoek van Holland\",\n",
    "        \"psmsl_id\": 22,\n",
    "        \"foundation_low\": -3.3,\n",
    "        \"station_low\": 5.27,\n",
    "        \"station_high\": 9.05,\n",
    "        \"nulpaal\": 0,\n",
    "        \"rlr2nap\": lambda x:x - (6994 - 121),\n",
    "        \"summary\": \"The station in Hoek van Holland is located beside the Nieuwe Waterweg near the river mouth into the North Sea. The reference pole is situated outside the main building on the main land. The main building is connected to the main land by a steel bridge. The foundation of the main building is on steel poles. The building is a concrete structure reaching to a depth of -3.0 m NAP. This entire thing is enough for the measurement instruments to be placed inside. And the underwater chamber is then, in contrary to the other stations within the main building. The entire concrete structure has a foundation of multiple sheet piles. These are 8 concrete plates (8-sided) with a length of 14.1m. \",\n",
    "        \"img\": \"http://www.openearth.nl/sealevel/static/images/HOEKVHLD.jpg\",\n",
    "        \"autocad\": \"http://a360.co/2uqAgAs\",\n",
    "        \"links\": []\n",
    "    },\n",
    "    {\n",
    "        \"ddl_id\": \"IJMDBTHVN\", \n",
    "        \"location\": \"IJmuiden\",\n",
    "        \"psmsl_id\": 32,\n",
    "        \"foundation_low\": -13,\n",
    "        \"station_low\": 4.2,\n",
    "        \"station_high\": 10.35,\n",
    "        \"nulpaal\": 0,\n",
    "        \"rlr2nap\": lambda x: x - (7033-83),\n",
    "        \"summary\": \"IJmuiden is located on the northern part of the marina in IJmuiden, near a breakwater. The main building is situated in the water and is connected by a steel stairs and bridge with the main land. The foundation of this building consists out a round steel sheet pile. The under water chamber is closed of with a concrete slab between -3.75m NAP and - 4.5m NAP. The sheet pile is extended to a depth of -13m NAP. IJmuiden has a GPS (GNSS) station attached to it.\",\n",
    "        \"img\": \"http://www.openearth.nl/sealevel/static/images/IJMDBTHVN.jpg\",\n",
    "        \"autocad\": \"http://a360.co/2sZ4Nrn\",\n",
    "        \"links\": [\n",
    "            {\n",
    "                \"href\": \"http://gnss1.tudelft.nl/dpga/station/Ijmuiden.html\",\n",
    "                \"name\": \"GNSS info\"\n",
    "            }\n",
    "        ]\n",
    "    },\n",
    "    {\n",
    "        \"ddl_id\": \"VLISSGN\",\n",
    "        \"location\": \"Vlissingen\",\n",
    "        \"psmsl_id\": 20,\n",
    "        \"foundation_low\": -17.6,\n",
    "        \"station_low\": 2.5,\n",
    "        \"station_high\": 9,\n",
    "        \"nulpaal\": 0,\n",
    "        \"rlr2nap\": lambda x: x - (6976-46),\n",
    "        \"summary\": \"This station is located at a quay in Vlissingen, near the outer harbour. The foundation is a steel sheet pile reaching to a depth of -17.6m NAP, having a width of 2.2m (outer width). Inside this pile are the measurement instruments. The under water chamber is sealed of with a concrete slab reaching from -4.0 m NAP to -5.0 m NAP. The station has a GPS (GNSS) device attached.\",\n",
    "        \"img\": \"http://www.openearth.nl/sealevel/static/images/VLISSGN.jpg\",\n",
    "        \"autocad\": \"http://a360.co/2sZ4Nrn\",\n",
    "        \"links\": [\n",
    "            {\n",
    "                \"href\": \"http://gnss1.tudelft.nl/dpga/station/Vlissingen.html\",\n",
    "                \"name\": \"GNSS info\"\n",
    "            }\n",
    "        ]\n",
    "    }\n",
    "]"
   ]
  },
  {
   "cell_type": "code",
   "execution_count": 6,
   "metadata": {
    "collapsed": false,
    "deletable": true,
    "editable": true,
    "hide_input": true
   },
   "outputs": [
    {
     "data": {
      "text/html": [
       "<div>\n",
       "<table border=\"1\" class=\"dataframe\">\n",
       "  <thead>\n",
       "    <tr style=\"text-align: right;\">\n",
       "      <th></th>\n",
       "      <th>location</th>\n",
       "      <th>psmsl_id</th>\n",
       "      <th>nulpaal</th>\n",
       "    </tr>\n",
       "    <tr>\n",
       "      <th>ddl_id</th>\n",
       "      <th></th>\n",
       "      <th></th>\n",
       "      <th></th>\n",
       "    </tr>\n",
       "  </thead>\n",
       "  <tbody>\n",
       "    <tr>\n",
       "      <th>DELFZL</th>\n",
       "      <td>Delfzijl</td>\n",
       "      <td>24</td>\n",
       "      <td>0</td>\n",
       "    </tr>\n",
       "    <tr>\n",
       "      <th>DENHDR</th>\n",
       "      <td>Den Helder</td>\n",
       "      <td>23</td>\n",
       "      <td>1</td>\n",
       "    </tr>\n",
       "    <tr>\n",
       "      <th>HARLGN</th>\n",
       "      <td>Harlingen</td>\n",
       "      <td>25</td>\n",
       "      <td>1</td>\n",
       "    </tr>\n",
       "    <tr>\n",
       "      <th>HOEKVHLD</th>\n",
       "      <td>Hoek van Holland</td>\n",
       "      <td>22</td>\n",
       "      <td>0</td>\n",
       "    </tr>\n",
       "    <tr>\n",
       "      <th>IJMDBTHVN</th>\n",
       "      <td>IJmuiden</td>\n",
       "      <td>32</td>\n",
       "      <td>0</td>\n",
       "    </tr>\n",
       "    <tr>\n",
       "      <th>VLISSGN</th>\n",
       "      <td>Vlissingen</td>\n",
       "      <td>20</td>\n",
       "      <td>0</td>\n",
       "    </tr>\n",
       "  </tbody>\n",
       "</table>\n",
       "</div>"
      ],
      "text/plain": [
       "                   location  psmsl_id  nulpaal\n",
       "ddl_id                                        \n",
       "DELFZL             Delfzijl        24        0\n",
       "DENHDR           Den Helder        23        1\n",
       "HARLGN            Harlingen        25        1\n",
       "HOEKVHLD   Hoek van Holland        22        0\n",
       "IJMDBTHVN          IJmuiden        32        0\n",
       "VLISSGN          Vlissingen        20        0"
      ]
     },
     "execution_count": 6,
     "metadata": {},
     "output_type": "execute_result"
    }
   ],
   "source": [
    "# convert the data to a dataframe (table)\n",
    "station_data = pd.DataFrame.from_records(main_stations)\n",
    "station_data = station_data.set_index('ddl_id')\n",
    "station_data[['location', 'psmsl_id', 'nulpaal']]"
   ]
  },
  {
   "cell_type": "markdown",
   "metadata": {
    "deletable": true,
    "editable": true
   },
   "source": [
    "# PSMSL records\n",
    "The <a href=\"www.psmsl.org\">PSMSL</a> keeps a record of information of all tide gauges. They are responsible for the collection of the monthly and annual mean sea-level data from the global network of tide gauges. The PSMSL is based in Liverpool at the National Oceanography Centre (NOC). There are also two parties working on the collection of realtime measurements. These can be found at the <a href=\"http://uhslc.soest.hawaii.edu/\">University of Hawaii sea-level center</a>. Unfortunately the Dutch data is not in there. Dutch data in PSMSL is also often lagging. You have to ask Rijkswaterstaat to deliver the data to PSMSL, or if that does not work, ask PSMSL to ask Rijkswaterstaat for the data. \n",
    "You can also manually calculate the mean sea-levels from the 10minute data, but this does not always match up with the \"formal\" figures. We download the information from the PSMSL and use it to define the revised local reference level.\n",
    "\n",
    "The analysis of the tide gauge data itself is done in the <a href=\"dutch-monitor.ipynb\">sea-level monitor</a>."
   ]
  },
  {
   "cell_type": "code",
   "execution_count": 7,
   "metadata": {
    "collapsed": false,
    "deletable": true,
    "editable": true,
    "hide_input": true
   },
   "outputs": [
    {
     "data": {
      "text/html": [
       "<div>\n",
       "<table border=\"1\" class=\"dataframe\">\n",
       "  <thead>\n",
       "    <tr style=\"text-align: right;\">\n",
       "      <th></th>\n",
       "      <th>psmsl_info</th>\n",
       "    </tr>\n",
       "    <tr>\n",
       "      <th>ddl_id</th>\n",
       "      <th></th>\n",
       "    </tr>\n",
       "  </thead>\n",
       "  <tbody>\n",
       "    <tr>\n",
       "      <th>DELFZL</th>\n",
       "      <td>Add 6.815m to data up to 2005 to refer to RLR ...</td>\n",
       "    </tr>\n",
       "    <tr>\n",
       "      <th>DENHDR</th>\n",
       "      <td>Add 6.929m to data up to 2005 to refer to RLR ...</td>\n",
       "    </tr>\n",
       "    <tr>\n",
       "      <th>HARLGN</th>\n",
       "      <td>Add 6.907m to data up to 2005 to refer to RLR ...</td>\n",
       "    </tr>\n",
       "    <tr>\n",
       "      <th>HOEKVHLD</th>\n",
       "      <td>Add 6.845m to data up to 2005 to refer to RLR ...</td>\n",
       "    </tr>\n",
       "    <tr>\n",
       "      <th>IJMDBTHVN</th>\n",
       "      <td>Add 6.929m to data up to 2005 to refer to RLR ...</td>\n",
       "    </tr>\n",
       "    <tr>\n",
       "      <th>VLISSGN</th>\n",
       "      <td>Add 6.900m to data up to 2005 to refer to RLR ...</td>\n",
       "    </tr>\n",
       "  </tbody>\n",
       "</table>\n",
       "</div>"
      ],
      "text/plain": [
       "                                                  psmsl_info\n",
       "ddl_id                                                      \n",
       "DELFZL     Add 6.815m to data up to 2005 to refer to RLR ...\n",
       "DENHDR     Add 6.929m to data up to 2005 to refer to RLR ...\n",
       "HARLGN     Add 6.907m to data up to 2005 to refer to RLR ...\n",
       "HOEKVHLD   Add 6.845m to data up to 2005 to refer to RLR ...\n",
       "IJMDBTHVN  Add 6.929m to data up to 2005 to refer to RLR ...\n",
       "VLISSGN    Add 6.900m to data up to 2005 to refer to RLR ..."
      ]
     },
     "execution_count": 7,
     "metadata": {},
     "output_type": "execute_result"
    }
   ],
   "source": [
    "# read information from the psmsl\n",
    "zf = zipfile.ZipFile(r'..\\..\\rlr_annual.zip')\n",
    "records = []\n",
    "for station in main_stations:\n",
    "    filename = 'rlr_annual/RLR_info/{}.txt'.format(station['psmsl_id'])\n",
    "    img_bytes = zf.read('rlr_annual/RLR_info/{}.png'.format(station['psmsl_id']))\n",
    "    img = plt.imread(io.BytesIO(img_bytes))\n",
    "    record = {\n",
    "        \"ddl_id\": station[\"ddl_id\"],\n",
    "        \"psmsl_info\": zf.read(filename).decode(),\n",
    "        \"psmsl_img\": img\n",
    "    }\n",
    "    records.append(record)\n",
    "psmsl_df = pd.DataFrame.from_records(records).set_index(\"ddl_id\")\n",
    "station_data = pd.merge(station_data, psmsl_df, left_index=True, right_index=True)\n",
    "station_data[['psmsl_info']]"
   ]
  },
  {
   "cell_type": "markdown",
   "metadata": {
    "deletable": true,
    "editable": true
   },
   "source": [
    "## Water webservices @ Rijkswaterstaat\n",
    "The water data from Rijkswaterstaat are available from a <a href=\"https://waterwebservices.rijkswaterstaat.nl/METADATASERVICES_DBO/OphalenCatalogus\">url</a>. The webservice is a bit (!) unorthodox. The requests are all in Dutch and it does not follow a common REST or any other familiar protocol. So make sure you read through the <a href=\"http://www.rijkswaterstaat.nl/rws/opendata/DistributielaagWebservices-SUM-2v7.pdf\">documentation</a>, which is only available in pdf format.\n",
    "The main thing that we need here are the x and y coordinates (in ETRS89 UTM31N). \n",
    "\n",
    "$\\textbf{Wij hebben alle 10-minuten waarden van de afgelopen x jaar nodig voor de 6 hoofdstations. -> OphalenWaarnemingen.}$\n"
   ]
  },
  {
   "cell_type": "code",
   "execution_count": 9,
   "metadata": {
    "collapsed": false,
    "deletable": true,
    "editable": true,
    "hide_input": true
   },
   "outputs": [],
   "source": [
    "# read the grid of the dino dataset\n",
    "dino = netCDF4.Dataset(dino_url, 'r')\n",
    "x_dino = dino.variables['x'][:]\n",
    "y_dino = dino.variables['y'][:]\n",
    "z_dino = dino.variables['z'][:]\n",
    "# lookup z index of -15m\n",
    "z_min_idx = np.searchsorted(z_dino, -15)\n",
    "# lookup litho at z index\n",
    "z_min = dino.variables['lithok'][..., z_min_idx]\n",
    "# keep the mask so we can look for close points\n",
    "mask_dino = z_min.mask"
   ]
  },
  {
   "cell_type": "code",
   "execution_count": 10,
   "metadata": {
    "collapsed": false,
    "deletable": true,
    "editable": true,
    "hide_input": true
   },
   "outputs": [
    {
     "data": {
      "text/html": [
       "<div>\n",
       "<table border=\"1\" class=\"dataframe\">\n",
       "  <thead>\n",
       "    <tr style=\"text-align: right;\">\n",
       "      <th></th>\n",
       "      <th>Naam</th>\n",
       "      <th>X</th>\n",
       "      <th>Y</th>\n",
       "    </tr>\n",
       "  </thead>\n",
       "  <tbody>\n",
       "    <tr>\n",
       "      <th>DELFZL</th>\n",
       "      <td>Delfzijl</td>\n",
       "      <td>761899.770960</td>\n",
       "      <td>5.915790e+06</td>\n",
       "    </tr>\n",
       "    <tr>\n",
       "      <th>DENHDR</th>\n",
       "      <td>Den Helder</td>\n",
       "      <td>617198.393684</td>\n",
       "      <td>5.869731e+06</td>\n",
       "    </tr>\n",
       "    <tr>\n",
       "      <th>HARLGN</th>\n",
       "      <td>Harlingen</td>\n",
       "      <td>661021.585505</td>\n",
       "      <td>5.894519e+06</td>\n",
       "    </tr>\n",
       "    <tr>\n",
       "      <th>HOEKVHLD</th>\n",
       "      <td>Hoek van Holland</td>\n",
       "      <td>576917.669784</td>\n",
       "      <td>5.759136e+06</td>\n",
       "    </tr>\n",
       "    <tr>\n",
       "      <th>IJMDBTHVN</th>\n",
       "      <td>IJmuiden buitenhaven</td>\n",
       "      <td>605633.035699</td>\n",
       "      <td>5.813598e+06</td>\n",
       "    </tr>\n",
       "    <tr>\n",
       "      <th>VLISSGN</th>\n",
       "      <td>Vlissingen</td>\n",
       "      <td>541425.983215</td>\n",
       "      <td>5.699182e+06</td>\n",
       "    </tr>\n",
       "  </tbody>\n",
       "</table>\n",
       "</div>"
      ],
      "text/plain": [
       "                           Naam              X             Y\n",
       "DELFZL                 Delfzijl  761899.770960  5.915790e+06\n",
       "DENHDR               Den Helder  617198.393684  5.869731e+06\n",
       "HARLGN                Harlingen  661021.585505  5.894519e+06\n",
       "HOEKVHLD       Hoek van Holland  576917.669784  5.759136e+06\n",
       "IJMDBTHVN  IJmuiden buitenhaven  605633.035699  5.813598e+06\n",
       "VLISSGN              Vlissingen  541425.983215  5.699182e+06"
      ]
     },
     "execution_count": 10,
     "metadata": {},
     "output_type": "execute_result"
    }
   ],
   "source": [
    "# get station information from DDL (metadata uit Catalogus)\n",
    "request = {\n",
    "    \"CatalogusFilter\": {\n",
    "        \"Eenheden\": True,\n",
    "        \"Grootheden\": True,\n",
    "        \"Hoedanigheden\": True\n",
    "    }\n",
    "}\n",
    "resp = requests.post(ddl_url, json=request)\n",
    "result = resp.json()\n",
    "# print alle variabelen in de catalogus\n",
    "#print(result)\n",
    "\n",
    "df = pd.DataFrame.from_dict(result['LocatieLijst'])\n",
    "df = df.set_index('Code')\n",
    "# note that there are two stations for IJmuiden. \n",
    "# The station was moved from the sluices to outside of the harbor in 1981.\n",
    "ids = ['DELFZL', 'DENHDR', 'HARLGN', 'HOEKVHLD', 'IJMDBTHVN', 'IJMDNDSS', 'VLISSGN']\n",
    "\n",
    "# make a copy so we can add things\n",
    "stations_df = df.ix[ids].copy()\n",
    "# this drops IJMDNSS\n",
    "stations_df = pd.merge(stations_df, station_data, left_index=True, right_index=True)\n",
    "stations_df[['Naam', 'X', 'Y']]\n",
    "#stations_df"
   ]
  },
  {
   "cell_type": "code",
   "execution_count": 39,
   "metadata": {
    "collapsed": false,
    "deletable": true,
    "editable": true
   },
   "outputs": [
    {
     "name": "stdout",
     "output_type": "stream",
     "text": [
      "<Response [200]>\n"
     ]
    }
   ],
   "source": [
    "#print(stations_df[['Y']])\n",
    "print(resp)"
   ]
  },
  {
   "cell_type": "markdown",
   "metadata": {
    "deletable": true,
    "editable": true
   },
   "source": [
    "N.B. De jaarlijks gemiddelde waterstanden gewoon inladen via bestand rlr_annual.zip."
   ]
  },
  {
   "cell_type": "markdown",
   "metadata": {
    "deletable": true,
    "editable": true
   },
   "source": [
    "Waarnemingen (10 minuten data) opvragen voor een bepaalde datumreeks en bepaalde stations\n",
    "Dit kan via WebFeatureServices (4.3 Bulkwaarnemingenservices) of via OphalenWaarnemingen (https://waterwebservices.rijkswaterstaat.nl/ONLINEWAARNEMINGENSERVICES_DBO/OphalenWaarnemingen).\n",
    "Met een request naar de OphalenWaarnemingen service is het mogelijk waarnemingen op te halen die\n",
    "voldoen aan de opgegeven parameters. Hieronder het voorbeeld uit de manual:\n",
    "\n",
    "{\"AquoPlusWaarnemingMetadata\":\n",
    "{\"AquoMetadata\":{\"Compartiment\":\n",
    "{\"Code\":\"OW\"},\n",
    "\"Eenheid\":{\"Code\":\"cm\"},\n",
    "\"MeetApparaat\":{\"Code\":\"109\"},\n",
    "\"Grootheid\":{\"Code\":\"Hm0\"}}},\n",
    "\"Locatie\":{\"X\":518882.333320247,\"Y\":576\n",
    "0829.11729589,\"Code\":\"EURPFM\"},\n",
    "\"Periode\":{\"Begindatumtijd\":\"2012-01-\n",
    "27T09:00:00.000+01:00\",\"Einddatumtijd\":\"\n",
    "2012-01-27T09:01:00.000+01:00\"}}"
   ]
  },
  {
   "cell_type": "code",
   "execution_count": 11,
   "metadata": {
    "collapsed": false,
    "deletable": true,
    "editable": true
   },
   "outputs": [
    {
     "name": "stdout",
     "output_type": "stream",
     "text": [
      "https://waterwebservices.rijkswaterstaat.nl/ONLINEWAARNEMINGENSERVICES_DBO/OphalenWaarnemingen\n",
      "<Response [200]>\n",
      "{\"WaarnemingenLijst\":[{\"Locatie\":{\"Locatie_MessageID\":84069,\"Coordinatenstelsel\":\"25831\",\"X\":518882.333320247,\"Y\":5760829.11729589,\"Naam\":\"Euro platform\",\"Code\":\"EURPFM\"},\"MetingenLijst\":[{\"Tijdstip\":\"2012-01-27T09:00:00.000+01:00\",\"Meetwaarde\":{\"Waarde_Numeriek\":152.0},\"WaarnemingMetadata\":{\"StatuswaardeLijst\":[\"Ongecontroleerd\"],\"BemonsteringshoogteLijst\":[\"-999999999\"],\"ReferentievlakLijst\":[\"NVT\"],\"OpdrachtgevendeInstantieLijst\":[\"RIKZMON_GOLVEN\"],\"KwaliteitswaardecodeLijst\":[\"00\"]}},{\"Tijdstip\":\"2012-01-27T09:10:00.000+01:00\",\"Meetwaarde\":{\"Waarde_Numeriek\":150.0},\"WaarnemingMetadata\":{\"StatuswaardeLijst\":[\"Ongecontroleerd\"],\"BemonsteringshoogteLijst\":[\"-999999999\"],\"ReferentievlakLijst\":[\"NVT\"],\"OpdrachtgevendeInstantieLijst\":[\"RIKZMON_GOLVEN\"],\"KwaliteitswaardecodeLijst\":[\"00\"]}},{\"Tijdstip\":\"2012-01-27T09:20:00.000+01:00\",\"Meetwaarde\":{\"Waarde_Numeriek\":150.0},\"WaarnemingMetadata\":{\"StatuswaardeLijst\":[\"Ongecontroleerd\"],\"BemonsteringshoogteLijst\":[\"-999999999\"],\"ReferentievlakLijst\":[\"NVT\"],\"OpdrachtgevendeInstantieLijst\":[\"RIKZMON_GOLVEN\"],\"KwaliteitswaardecodeLijst\":[\"00\"]}},{\"Tijdstip\":\"2012-01-27T09:30:00.000+01:00\",\"Meetwaarde\":{\"Waarde_Numeriek\":147.0},\"WaarnemingMetadata\":{\"StatuswaardeLijst\":[\"Ongecontroleerd\"],\"BemonsteringshoogteLijst\":[\"-999999999\"],\"ReferentievlakLijst\":[\"NVT\"],\"OpdrachtgevendeInstantieLijst\":[\"RIKZMON_GOLVEN\"],\"KwaliteitswaardecodeLijst\":[\"00\"]}}],\"AquoMetadata\":{\"AquoMetadata_MessageID\":54302,\"Parameter_Wat_Omschrijving\":\"Significante golfhoogte in het spectrale domein Oppervlaktewater cm\",\"BemonsteringsApparaat\":{\"Code\":\"NVT\",\"Omschrijving\":\"Waarde is niet van toepassing\"},\"BemonsteringsMethode\":{\"Code\":\"NVT\",\"Omschrijving\":\"Waarde is niet van toepassing\"},\"BemonsteringsSoort\":{\"Code\":\"01\",\"Omschrijving\":\"Rechtstreekse meting\"},\"BioTaxon\":{\"Code\":\"NVT\",\"Omschrijving\":\"NVT\"},\"BioTaxon_Compartiment\":{\"Code\":\"NVT\",\"Omschrijving\":\"NVT\"},\"Compartiment\":{\"Code\":\"OW\",\"Omschrijving\":\"Oppervlaktewater\"},\"Eenheid\":{\"Code\":\"cm\",\"Omschrijving\":\"centimeter\"},\"Grootheid\":{\"Code\":\"Hm0\",\"Omschrijving\":\"Significante golfhoogte in het spectrale domein\"},\"Hoedanigheid\":{\"Code\":\"NVT\",\"Omschrijving\":\"Niet van toepassing\"},\"MeetApparaat\":{\"Code\":\"109\",\"Omschrijving\":\"Radar\"},\"MonsterBewerkingsMethode\":{\"Code\":\"NVT\",\"Omschrijving\":\"Waarde is niet van toepassing\"},\"Orgaan\":{\"Code\":\"NVT\",\"Omschrijving\":\"Waarde is niet van toepassing\"},\"Parameter\":{\"Code\":\"NVT\",\"Omschrijving\":\"Waarde is niet van toepassing\"},\"PlaatsBepalingsApparaat\":{\"Code\":\"NVT\",\"Omschrijving\":\"Waarde is niet van toepassing\"},\"Typering\":{\"Code\":\"NVT\",\"Omschrijving\":\"Waarde is niet van toepassing\"},\"WaardeBepalingstechniek\":{\"Code\":\"NVT\",\"Omschrijving\":\"Waarde is niet van toepassing\"},\"WaardeBepalingsmethode\":{\"Code\":\"other:F046\",\"Omschrijving\":\"Freq/tijd analyse energie en richtingen, methode CIC/GLFPAR\"},\"WaardeBewerkingsmethode\":{\"Code\":\"NVT\",\"Omschrijving\":\"Niet van toepassing\"}}}],\"Succesvol\":true}\n"
     ]
    }
   ],
   "source": [
    "# Kopie documentatie 'OphalenWaarnemingen'\n",
    "import requests\n",
    "ddl_url2 = 'https://waterwebservices.rijkswaterstaat.nl/ONLINEWAARNEMINGENSERVICES_DBO/OphalenWaarnemingen'\n",
    "print(ddl_url2)\n",
    "# vraag Hm0 voor een half uur in januari 2012 op. Frequentie is 1 x per 10 minuten.\n",
    "request = {\"AquoPlusWaarnemingMetadata\": \n",
    "           {\"AquoMetadata\":\n",
    "              {\"Compartiment\":\n",
    "                    {\"Code\":\"OW\"},\n",
    "                \"Eenheid\": \n",
    "                   {\"Code\":\"cm\"},\n",
    "                \"MeetApparaat\":\n",
    "                   {\"Code\":\"109\"},\n",
    "                \"Grootheid\":\n",
    "                   {\"Code\":\"Hm0\"}}},\n",
    "                \"Locatie\":{\"X\":518882.333320247,\"Y\":5760829.11729589,\"Code\":\"EURPFM\"},\n",
    "                \"Periode\":{\"Begindatumtijd\":\"2012-01-27T09:00:00.000+01:00\",\"Einddatumtijd\":\"2012-01-27T09:30:00.000+01:00\"}}\n",
    "#print(request)\n",
    "# Met Locatie Delfzijl wil het voor een gewone waterstand \"WTHTE\" niet zo vlotten.\n",
    "# MEETAPPARAAT CODE ?\n",
    "# GROOTHEID CODE WTHTE\n",
    "# LOCATIE      \"Locatie\":{\"X\":761899.770959577,\"Y\":5915790.48491405,\"Code\":\"DELFZL\"},\n",
    "resp = requests.post(ddl_url2, json=request)\n",
    "print(resp)\n",
    "print(resp.text) #print(resp.content)\n",
    "result = resp.json()\n",
    "#print(result)"
   ]
  },
  {
   "cell_type": "markdown",
   "metadata": {
    "deletable": true,
    "editable": true
   },
   "source": [
    "Kopie voorbeeld OphalenLaatsteWaarnemingen (DIT WERKT NOG NIET)\n",
    "https://waterwebservices.rijkswaterstaat.nl/ONLINEWAARNEMINGENSERVICES_DBO/OphalenLaatsteWaarnemingen\n",
    "\n",
    "{\"AquoPlusWaarnemingMetadataLijst\":{\"AquoMetadata\":{\"Compartiment\":{\"Code\":\"OW\"},\"Eenheid\":{\"Code\":\"cm\"},\"Grootheid\":{\"Code\":\"H1/3\"}}}],\"LocatieLijst\":[{\"X\":518882.333320247,\"Y\":5760829.11729589,\"Code\":\"EURPFM\"}]}"
   ]
  },
  {
   "cell_type": "code",
   "execution_count": 23,
   "metadata": {
    "collapsed": false,
    "deletable": true,
    "editable": true
   },
   "outputs": [
    {
     "name": "stdout",
     "output_type": "stream",
     "text": [
      "https://waterwebservices.rijkswaterstaat.nl/ONLINEWAARNEMINGENSERVICES_DBO/OphalenLaatsteWaarnemingen\n",
      "{'AquoPlusWaarnemingMetadataLijst': {'AquoMetadata': {'Compartiment': {'Code': 'OW'}, 'Eenheid': {'Code': 'cm'}, 'Grootheid': {'Code': 'Hm0'}}}, 'LocatieLijst': {'X': 518882.333320247, 'Y': 5760829.11729589, 'Code': 'EURPFM'}}\n",
      "<Response [404]>\n",
      "JsonProcessingException: Can not deserialize instance of java.util.ArrayList out of START_OBJECT token.\n"
     ]
    },
    {
     "ename": "JSONDecodeError",
     "evalue": "Expecting value: line 1 column 1 (char 0)",
     "output_type": "error",
     "traceback": [
      "\u001b[0;31m---------------------------------------------------------------------------\u001b[0m",
      "\u001b[0;31mJSONDecodeError\u001b[0m                           Traceback (most recent call last)",
      "\u001b[0;32m<ipython-input-23-3c873bde8469>\u001b[0m in \u001b[0;36m<module>\u001b[0;34m()\u001b[0m\n\u001b[1;32m     14\u001b[0m \u001b[0mprint\u001b[0m\u001b[1;33m(\u001b[0m\u001b[0mresp\u001b[0m\u001b[1;33m)\u001b[0m\u001b[1;33m\u001b[0m\u001b[0m\n\u001b[1;32m     15\u001b[0m \u001b[0mprint\u001b[0m\u001b[1;33m(\u001b[0m\u001b[0mresp\u001b[0m\u001b[1;33m.\u001b[0m\u001b[0mtext\u001b[0m\u001b[1;33m)\u001b[0m\u001b[1;33m\u001b[0m\u001b[0m\n\u001b[0;32m---> 16\u001b[0;31m \u001b[0mresult\u001b[0m \u001b[1;33m=\u001b[0m \u001b[0mresp\u001b[0m\u001b[1;33m.\u001b[0m\u001b[0mjson\u001b[0m\u001b[1;33m(\u001b[0m\u001b[1;33m)\u001b[0m\u001b[1;33m\u001b[0m\u001b[0m\n\u001b[0m",
      "\u001b[0;32mC:\\ProgramData\\Anaconda3\\lib\\site-packages\\requests\\models.py\u001b[0m in \u001b[0;36mjson\u001b[0;34m(self, **kwargs)\u001b[0m\n\u001b[1;32m    848\u001b[0m                     \u001b[1;31m# used.\u001b[0m\u001b[1;33m\u001b[0m\u001b[1;33m\u001b[0m\u001b[0m\n\u001b[1;32m    849\u001b[0m                     \u001b[1;32mpass\u001b[0m\u001b[1;33m\u001b[0m\u001b[0m\n\u001b[0;32m--> 850\u001b[0;31m         \u001b[1;32mreturn\u001b[0m \u001b[0mcomplexjson\u001b[0m\u001b[1;33m.\u001b[0m\u001b[0mloads\u001b[0m\u001b[1;33m(\u001b[0m\u001b[0mself\u001b[0m\u001b[1;33m.\u001b[0m\u001b[0mtext\u001b[0m\u001b[1;33m,\u001b[0m \u001b[1;33m**\u001b[0m\u001b[0mkwargs\u001b[0m\u001b[1;33m)\u001b[0m\u001b[1;33m\u001b[0m\u001b[0m\n\u001b[0m\u001b[1;32m    851\u001b[0m \u001b[1;33m\u001b[0m\u001b[0m\n\u001b[1;32m    852\u001b[0m     \u001b[1;33m@\u001b[0m\u001b[0mproperty\u001b[0m\u001b[1;33m\u001b[0m\u001b[0m\n",
      "\u001b[0;32mC:\\ProgramData\\Anaconda3\\lib\\json\\__init__.py\u001b[0m in \u001b[0;36mloads\u001b[0;34m(s, encoding, cls, object_hook, parse_float, parse_int, parse_constant, object_pairs_hook, **kw)\u001b[0m\n\u001b[1;32m    352\u001b[0m             \u001b[0mparse_int\u001b[0m \u001b[1;32mis\u001b[0m \u001b[1;32mNone\u001b[0m \u001b[1;32mand\u001b[0m \u001b[0mparse_float\u001b[0m \u001b[1;32mis\u001b[0m \u001b[1;32mNone\u001b[0m \u001b[1;32mand\u001b[0m\u001b[1;33m\u001b[0m\u001b[0m\n\u001b[1;32m    353\u001b[0m             parse_constant is None and object_pairs_hook is None and not kw):\n\u001b[0;32m--> 354\u001b[0;31m         \u001b[1;32mreturn\u001b[0m \u001b[0m_default_decoder\u001b[0m\u001b[1;33m.\u001b[0m\u001b[0mdecode\u001b[0m\u001b[1;33m(\u001b[0m\u001b[0ms\u001b[0m\u001b[1;33m)\u001b[0m\u001b[1;33m\u001b[0m\u001b[0m\n\u001b[0m\u001b[1;32m    355\u001b[0m     \u001b[1;32mif\u001b[0m \u001b[0mcls\u001b[0m \u001b[1;32mis\u001b[0m \u001b[1;32mNone\u001b[0m\u001b[1;33m:\u001b[0m\u001b[1;33m\u001b[0m\u001b[0m\n\u001b[1;32m    356\u001b[0m         \u001b[0mcls\u001b[0m \u001b[1;33m=\u001b[0m \u001b[0mJSONDecoder\u001b[0m\u001b[1;33m\u001b[0m\u001b[0m\n",
      "\u001b[0;32mC:\\ProgramData\\Anaconda3\\lib\\json\\decoder.py\u001b[0m in \u001b[0;36mdecode\u001b[0;34m(self, s, _w)\u001b[0m\n\u001b[1;32m    337\u001b[0m \u001b[1;33m\u001b[0m\u001b[0m\n\u001b[1;32m    338\u001b[0m         \"\"\"\n\u001b[0;32m--> 339\u001b[0;31m         \u001b[0mobj\u001b[0m\u001b[1;33m,\u001b[0m \u001b[0mend\u001b[0m \u001b[1;33m=\u001b[0m \u001b[0mself\u001b[0m\u001b[1;33m.\u001b[0m\u001b[0mraw_decode\u001b[0m\u001b[1;33m(\u001b[0m\u001b[0ms\u001b[0m\u001b[1;33m,\u001b[0m \u001b[0midx\u001b[0m\u001b[1;33m=\u001b[0m\u001b[0m_w\u001b[0m\u001b[1;33m(\u001b[0m\u001b[0ms\u001b[0m\u001b[1;33m,\u001b[0m \u001b[1;36m0\u001b[0m\u001b[1;33m)\u001b[0m\u001b[1;33m.\u001b[0m\u001b[0mend\u001b[0m\u001b[1;33m(\u001b[0m\u001b[1;33m)\u001b[0m\u001b[1;33m)\u001b[0m\u001b[1;33m\u001b[0m\u001b[0m\n\u001b[0m\u001b[1;32m    340\u001b[0m         \u001b[0mend\u001b[0m \u001b[1;33m=\u001b[0m \u001b[0m_w\u001b[0m\u001b[1;33m(\u001b[0m\u001b[0ms\u001b[0m\u001b[1;33m,\u001b[0m \u001b[0mend\u001b[0m\u001b[1;33m)\u001b[0m\u001b[1;33m.\u001b[0m\u001b[0mend\u001b[0m\u001b[1;33m(\u001b[0m\u001b[1;33m)\u001b[0m\u001b[1;33m\u001b[0m\u001b[0m\n\u001b[1;32m    341\u001b[0m         \u001b[1;32mif\u001b[0m \u001b[0mend\u001b[0m \u001b[1;33m!=\u001b[0m \u001b[0mlen\u001b[0m\u001b[1;33m(\u001b[0m\u001b[0ms\u001b[0m\u001b[1;33m)\u001b[0m\u001b[1;33m:\u001b[0m\u001b[1;33m\u001b[0m\u001b[0m\n",
      "\u001b[0;32mC:\\ProgramData\\Anaconda3\\lib\\json\\decoder.py\u001b[0m in \u001b[0;36mraw_decode\u001b[0;34m(self, s, idx)\u001b[0m\n\u001b[1;32m    355\u001b[0m             \u001b[0mobj\u001b[0m\u001b[1;33m,\u001b[0m \u001b[0mend\u001b[0m \u001b[1;33m=\u001b[0m \u001b[0mself\u001b[0m\u001b[1;33m.\u001b[0m\u001b[0mscan_once\u001b[0m\u001b[1;33m(\u001b[0m\u001b[0ms\u001b[0m\u001b[1;33m,\u001b[0m \u001b[0midx\u001b[0m\u001b[1;33m)\u001b[0m\u001b[1;33m\u001b[0m\u001b[0m\n\u001b[1;32m    356\u001b[0m         \u001b[1;32mexcept\u001b[0m \u001b[0mStopIteration\u001b[0m \u001b[1;32mas\u001b[0m \u001b[0merr\u001b[0m\u001b[1;33m:\u001b[0m\u001b[1;33m\u001b[0m\u001b[0m\n\u001b[0;32m--> 357\u001b[0;31m             \u001b[1;32mraise\u001b[0m \u001b[0mJSONDecodeError\u001b[0m\u001b[1;33m(\u001b[0m\u001b[1;34m\"Expecting value\"\u001b[0m\u001b[1;33m,\u001b[0m \u001b[0ms\u001b[0m\u001b[1;33m,\u001b[0m \u001b[0merr\u001b[0m\u001b[1;33m.\u001b[0m\u001b[0mvalue\u001b[0m\u001b[1;33m)\u001b[0m \u001b[1;32mfrom\u001b[0m \u001b[1;32mNone\u001b[0m\u001b[1;33m\u001b[0m\u001b[0m\n\u001b[0m\u001b[1;32m    358\u001b[0m         \u001b[1;32mreturn\u001b[0m \u001b[0mobj\u001b[0m\u001b[1;33m,\u001b[0m \u001b[0mend\u001b[0m\u001b[1;33m\u001b[0m\u001b[0m\n",
      "\u001b[0;31mJSONDecodeError\u001b[0m: Expecting value: line 1 column 1 (char 0)"
     ]
    }
   ],
   "source": [
    "ddl_url3 = 'https://waterwebservices.rijkswaterstaat.nl/ONLINEWAARNEMINGENSERVICES_DBO/OphalenLaatsteWaarnemingen'\n",
    "print(ddl_url3)\n",
    "request = {\"AquoPlusWaarnemingMetadataLijst\":\n",
    "           {\"AquoMetadata\":\n",
    "            {\"Compartiment\":\n",
    "                    {\"Code\":\"OW\"},\n",
    "                \"Eenheid\": \n",
    "                   {\"Code\":\"cm\"},\n",
    "                \"Grootheid\":\n",
    "                   {\"Code\":\"H1/3\"}}},\n",
    "                \"LocatieLijst\":{\"X\":518882.333320247,\"Y\":5760829.11729589,\"Code\":\"EURPFM\"}}\n",
    "print(request)\n",
    "resp = requests.post(ddl_url3, json=request)\n",
    "print(resp)\n",
    "print(resp.text)\n",
    "result = resp.json()"
   ]
  },
  {
   "cell_type": "markdown",
   "metadata": {
    "deletable": true,
    "editable": true
   },
   "source": [
    "##### N.B. To be able to display the data on a map. Data are transformed into the projections mentioned above. The Web Mercator is used to display data on a map. "
   ]
  },
  {
   "cell_type": "code",
   "execution_count": 12,
   "metadata": {
    "collapsed": false,
    "deletable": true,
    "editable": true,
    "hide_input": true
   },
   "outputs": [
    {
     "data": {
      "text/html": [
       "<div>\n",
       "<table border=\"1\" class=\"dataframe\">\n",
       "  <thead>\n",
       "    <tr style=\"text-align: right;\">\n",
       "      <th></th>\n",
       "      <th>lat</th>\n",
       "      <th>lon</th>\n",
       "    </tr>\n",
       "  </thead>\n",
       "  <tbody>\n",
       "    <tr>\n",
       "      <th>DELFZL</th>\n",
       "      <td>53.326355</td>\n",
       "      <td>6.933123</td>\n",
       "    </tr>\n",
       "    <tr>\n",
       "      <th>DENHDR</th>\n",
       "      <td>52.964359</td>\n",
       "      <td>4.744990</td>\n",
       "    </tr>\n",
       "    <tr>\n",
       "      <th>HARLGN</th>\n",
       "      <td>53.175634</td>\n",
       "      <td>5.409342</td>\n",
       "    </tr>\n",
       "    <tr>\n",
       "      <th>HOEKVHLD</th>\n",
       "      <td>51.977574</td>\n",
       "      <td>4.119881</td>\n",
       "    </tr>\n",
       "    <tr>\n",
       "      <th>IJMDBTHVN</th>\n",
       "      <td>52.462326</td>\n",
       "      <td>4.554823</td>\n",
       "    </tr>\n",
       "    <tr>\n",
       "      <th>VLISSGN</th>\n",
       "      <td>51.442311</td>\n",
       "      <td>3.596057</td>\n",
       "    </tr>\n",
       "  </tbody>\n",
       "</table>\n",
       "</div>"
      ],
      "text/plain": [
       "                 lat       lon\n",
       "DELFZL     53.326355  6.933123\n",
       "DENHDR     52.964359  4.744990\n",
       "HARLGN     53.175634  5.409342\n",
       "HOEKVHLD   51.977574  4.119881\n",
       "IJMDBTHVN  52.462326  4.554823\n",
       "VLISSGN    51.442311  3.596057"
      ]
     },
     "execution_count": 12,
     "metadata": {},
     "output_type": "execute_result"
    }
   ],
   "source": [
    "# compute coordinates in different coordinate systems\n",
    "stations_df['x_rd'], stations_df['y_rd'] = pyproj.transform(\n",
    "    etrs89_utm31n, \n",
    "    rd, \n",
    "    list(stations_df.X), \n",
    "    list(stations_df.Y)\n",
    ")\n",
    "stations_df['lon'], stations_df['lat'] = pyproj.transform(\n",
    "    etrs89_utm31n, \n",
    "    wgs84, \n",
    "    list(stations_df.X), \n",
    "    list(stations_df.Y)\n",
    ")\n",
    "stations_df['x_webm'], stations_df['y_webm'] = pyproj.transform(\n",
    "    etrs89_utm31n, \n",
    "    webm, \n",
    "    list(stations_df.X), \n",
    "    list(stations_df.Y)\n",
    ")\n",
    "stations_df[['lat', 'lon']]"
   ]
  },
  {
   "cell_type": "markdown",
   "metadata": {
    "deletable": true,
    "editable": true
   },
   "source": [
    "## DINO\n",
    "The Geologische Dienst Nederland (GDN), part of TNO, has created a database of subsoil data.\n",
    "This database is refered to as Data en Informatie van de Nederlandse Ondergrond (DINO). \n",
    "We use this dataset to gather information about the subsoil at the location of the tide gauge.\n",
    "More information can be found at the <a href=\"http://www.dinoloket.nl/\">DINO</a> website.\n",
    "\n",
    "Here we show a map of the coverage of the lithography at -15m. "
   ]
  },
  {
   "cell_type": "code",
   "execution_count": 13,
   "metadata": {
    "collapsed": true,
    "deletable": true,
    "editable": true,
    "hide_input": true
   },
   "outputs": [],
   "source": [
    "# We define some colors so they look somewhat natural. \n",
    "# The colors are based on images of the corresponding soil type.\n",
    "# It is unknown what litho class 4 is. \n",
    "\n",
    "colors = {\n",
    "    0: '#669966', # Above ground\n",
    "    1: '#845F4C', # Peat\n",
    "    2: '#734222', # Clay\n",
    "    3: '#B99F71', # Sandy Clay\n",
    "    4: '#ff0000', # litho 4\n",
    "    5: '#E7D1C1', # Fines \n",
    "    6: '#c2b280', # Intermediate\n",
    "    7: '#969CAA', # Coarse\n",
    "    8: '#D0D6D6', # Gravel\n",
    "    9: '#E5E5DB', # Shells,\n",
    "    10: '#EEEEEE' # Undefined\n",
    "    \n",
    "}\n",
    "labels = {\n",
    "    0: \"Above ground\",\n",
    "    1: \"Peat\",\n",
    "    2: \"Clay\",\n",
    "    3: \"Sandy clay\",\n",
    "    4: \"lithoclass 4\",\n",
    "    5: \"Fine sand\",\n",
    "    6: \"Intermediate fine sand\",\n",
    "    7: \"Coarse sand\",\n",
    "    8: \"Gravel\",\n",
    "    9: \"Shells\",\n",
    "    10: \"Undefined\"\n",
    "}"
   ]
  },
  {
   "cell_type": "code",
   "execution_count": 14,
   "metadata": {
    "collapsed": false,
    "deletable": true,
    "editable": true,
    "hide_input": true
   },
   "outputs": [
    {
     "data": {
      "image/png": "[encoded data removed]",
      "text/plain": [
       "<matplotlib.figure.Figure at 0xa851ac8>"
      ]
     },
     "metadata": {},
     "output_type": "display_data"
    }
   ],
   "source": [
    "# Create a map of tide gauges with lithography at deep level\n",
    "colors_rgb = [\n",
    "    matplotlib.colors.hex2color(val) \n",
    "    for val \n",
    "    in colors.values()\n",
    "]\n",
    "# lookup colors\n",
    "img = np.take(colors_rgb, np.ma.masked_values(z_min, -127).filled(10).T, axis=0)\n",
    "fig, ax = plt.subplots(figsize=(8, 8/1.4))\n",
    "ax.imshow(\n",
    "    img, \n",
    "    origin='bottom', \n",
    "    extent=(x_dino[0], x_dino[-1], y_dino[0], y_dino[-1])\n",
    ")\n",
    "ax.plot(stations_df.x_rd, stations_df.y_rd, 'r.')\n",
    "for name, row in stations_df.iterrows():\n",
    "    ax.text(row.x_rd, row.y_rd, row.location, horizontalalignment='right')\n",
    "_ = ax.set_title('Tide gauges with lithography at {}m'.format(z_dino[z_min_idx]))"
   ]
  },
  {
   "cell_type": "markdown",
   "metadata": {
    "deletable": true,
    "editable": true
   },
   "source": [
    "For each tide gauge the corresponding lithography is looked up at a location close the tide gauge. For some tide gauges this means that the litography is not on water where the tide gauge is or the other way around."
   ]
  },
  {
   "cell_type": "code",
   "execution_count": 15,
   "metadata": {
    "collapsed": false,
    "deletable": true,
    "editable": true,
    "hide_input": true
   },
   "outputs": [
    {
     "data": {
      "text/html": [
       "<div>\n",
       "<table border=\"1\" class=\"dataframe\">\n",
       "  <thead>\n",
       "    <tr style=\"text-align: right;\">\n",
       "      <th></th>\n",
       "      <th>lithok</th>\n",
       "      <th>x_dino</th>\n",
       "      <th>y_dino</th>\n",
       "    </tr>\n",
       "  </thead>\n",
       "  <tbody>\n",
       "    <tr>\n",
       "      <th>DELFZL</th>\n",
       "      <td>litho      z\n",
       "0      7.0  -50.0\n",
       "1      7.0...</td>\n",
       "      <td>258000</td>\n",
       "      <td>594400</td>\n",
       "    </tr>\n",
       "    <tr>\n",
       "      <th>DENHDR</th>\n",
       "      <td>litho      z\n",
       "0      7.0  -50.0\n",
       "1      7.0...</td>\n",
       "      <td>111800</td>\n",
       "      <td>553200</td>\n",
       "    </tr>\n",
       "    <tr>\n",
       "      <th>HARLGN</th>\n",
       "      <td>litho      z\n",
       "0      5.0  -50.0\n",
       "1      5.0...</td>\n",
       "      <td>156500</td>\n",
       "      <td>576600</td>\n",
       "    </tr>\n",
       "    <tr>\n",
       "      <th>HOEKVHLD</th>\n",
       "      <td>litho      z\n",
       "0      5.0  -50.0\n",
       "1      5.0...</td>\n",
       "      <td>67900</td>\n",
       "      <td>444000</td>\n",
       "    </tr>\n",
       "    <tr>\n",
       "      <th>IJMDBTHVN</th>\n",
       "      <td>litho      z\n",
       "0      5.0  -50.0\n",
       "1      5.0...</td>\n",
       "      <td>98400</td>\n",
       "      <td>497500</td>\n",
       "    </tr>\n",
       "    <tr>\n",
       "      <th>VLISSGN</th>\n",
       "      <td>litho      z\n",
       "0      3.0  -50.0\n",
       "1      3.0...</td>\n",
       "      <td>30500</td>\n",
       "      <td>385200</td>\n",
       "    </tr>\n",
       "  </tbody>\n",
       "</table>\n",
       "</div>"
      ],
      "text/plain": [
       "                                                      lithok  x_dino  y_dino\n",
       "DELFZL          litho      z\n",
       "0      7.0  -50.0\n",
       "1      7.0...  258000  594400\n",
       "DENHDR          litho      z\n",
       "0      7.0  -50.0\n",
       "1      7.0...  111800  553200\n",
       "HARLGN          litho      z\n",
       "0      5.0  -50.0\n",
       "1      5.0...  156500  576600\n",
       "HOEKVHLD        litho      z\n",
       "0      5.0  -50.0\n",
       "1      5.0...   67900  444000\n",
       "IJMDBTHVN       litho      z\n",
       "0      5.0  -50.0\n",
       "1      5.0...   98400  497500\n",
       "VLISSGN         litho      z\n",
       "0      3.0  -50.0\n",
       "1      3.0...   30500  385200"
      ]
     },
     "execution_count": 15,
     "metadata": {},
     "output_type": "execute_result"
    }
   ],
   "source": [
    "# this part looks up the nearest location of DINO and looksup the lithography in that location\n",
    "\n",
    "Y_dino, X_dino = np.meshgrid(y_dino, x_dino)\n",
    "# Lookup the closest points in the dino database\n",
    "\n",
    "# closest location\n",
    "dino_idx = []\n",
    "lithos = []\n",
    "for code, station in stations_df.iterrows():\n",
    "    # compute the distance\n",
    "    x_idx = np.argmin(np.abs(station.x_rd - x_dino))\n",
    "    y_idx = np.argmin(np.abs(station.y_rd - y_dino))\n",
    "    # closest point, can also use a kdtree\n",
    "    # store it\n",
    "    dino_idx.append((x_idx, y_idx))\n",
    "    lithok = dino.variables['lithok'][x_idx, y_idx, :]\n",
    "    litho = pd.DataFrame(data=dict(z=z_dino, litho=lithok))\n",
    "    lithos.append(litho)\n",
    "\n",
    "# convert to array\n",
    "dino_idx = np.array(dino_idx)\n",
    "# store the tuples\n",
    "stations_df['dino_idx'] = list(dino_idx)\n",
    "# lookup x,y\n",
    "stations_df['x_dino'] = x_dino[dino_idx[:, 0]]\n",
    "stations_df['y_dino'] = y_dino[dino_idx[:, 1]]\n",
    "stations_df['x_dino_webm'], stations_df['y_dino_webm'] = pyproj.transform(\n",
    "    rd, \n",
    "    webm, \n",
    "    list(stations_df['x_dino']), \n",
    "    list(stations_df['y_dino'])\n",
    ")\n",
    "stations_df['lithok'] = lithos\n",
    "stations_df[['lithok', 'x_dino', 'y_dino']]\n"
   ]
  },
  {
   "cell_type": "markdown",
   "metadata": {
    "deletable": true,
    "editable": true
   },
   "source": [
    "# NAP info\n",
    "The NAP is the local reference level for the Netherlands. The data are downloaded from georegister because the napinfo is not accessible through an api. The data are shown in the overview at the end of this document."
   ]
  },
  {
   "cell_type": "code",
   "execution_count": 16,
   "metadata": {
    "collapsed": false,
    "deletable": true,
    "editable": true,
    "hide_input": true
   },
   "outputs": [],
   "source": [
    "# Het bestand napinfo.json kan je zelf aanmaken. Zie de makefile in de data directory:\n",
    "#  https://github.com/openearth/sealevel/blob/master/data/nap/Makefile\n",
    "# Je kan naar de ../data directory gaan (in een terminal) en dan het volgende intikken:\n",
    "# make\n",
    "# Make en wget zitten bij de laatste windows versies. \n",
    "# Als je een oude windows versie hebt kan je ook cygwin of iets vergelijkbaars installeren. \n",
    "# \n",
    "# Vervolgens het bestand in de datamap plaatsen. Ik heb het nu (tijdelijk) in de scriptmap gezet (zowel lokaal als op P-schijf).\n",
    "#\n",
    "features = geojson.load(open('napinfo.json'))\n",
    "index = rtree.Rtree()\n",
    "for i, feature in enumerate(features['features']):\n",
    "    # broken element (invalid coordinates)\n",
    "    if feature['properties']['gml_id'] == \"nappeilmerken.37004\":\n",
    "        continue\n",
    "    index.add(i, tuple(feature['geometry']['coordinates']), feature)\n"
   ]
  },
  {
   "cell_type": "code",
   "execution_count": 17,
   "metadata": {
    "collapsed": false,
    "deletable": true,
    "editable": true,
    "hide_input": true
   },
   "outputs": [
    {
     "data": {
      "text/html": [
       "<div>\n",
       "<table border=\"1\" class=\"dataframe\">\n",
       "  <thead>\n",
       "    <tr style=\"text-align: right;\">\n",
       "      <th></th>\n",
       "      <th>nap</th>\n",
       "    </tr>\n",
       "  </thead>\n",
       "  <tbody>\n",
       "    <tr>\n",
       "      <th>DELFZL</th>\n",
       "      <td>[{'type': 'Feature', 'geometry': {'type': 'Poi...</td>\n",
       "    </tr>\n",
       "    <tr>\n",
       "      <th>DENHDR</th>\n",
       "      <td>[{'type': 'Feature', 'geometry': {'type': 'Poi...</td>\n",
       "    </tr>\n",
       "    <tr>\n",
       "      <th>HARLGN</th>\n",
       "      <td>[{'type': 'Feature', 'geometry': {'type': 'Poi...</td>\n",
       "    </tr>\n",
       "    <tr>\n",
       "      <th>HOEKVHLD</th>\n",
       "      <td>[{'type': 'Feature', 'geometry': {'type': 'Poi...</td>\n",
       "    </tr>\n",
       "    <tr>\n",
       "      <th>IJMDBTHVN</th>\n",
       "      <td>[{'type': 'Feature', 'geometry': {'type': 'Poi...</td>\n",
       "    </tr>\n",
       "    <tr>\n",
       "      <th>VLISSGN</th>\n",
       "      <td>[{'type': 'Feature', 'geometry': {'type': 'Poi...</td>\n",
       "    </tr>\n",
       "  </tbody>\n",
       "</table>\n",
       "</div>"
      ],
      "text/plain": [
       "                                                         nap\n",
       "DELFZL     [{'type': 'Feature', 'geometry': {'type': 'Poi...\n",
       "DENHDR     [{'type': 'Feature', 'geometry': {'type': 'Poi...\n",
       "HARLGN     [{'type': 'Feature', 'geometry': {'type': 'Poi...\n",
       "HOEKVHLD   [{'type': 'Feature', 'geometry': {'type': 'Poi...\n",
       "IJMDBTHVN  [{'type': 'Feature', 'geometry': {'type': 'Poi...\n",
       "VLISSGN    [{'type': 'Feature', 'geometry': {'type': 'Poi..."
      ]
     },
     "execution_count": 17,
     "metadata": {},
     "output_type": "execute_result"
    }
   ],
   "source": [
    "# index.nearest(statio)\n",
    "records = []\n",
    "for ddl_id, station in stations_df.iterrows():\n",
    "    closest = []\n",
    "    for item in index.nearest((station.x_rd, station.y_rd), num_results=5, objects=True):\n",
    "        feature = item.object\n",
    "        feature['properties']['x_webm'], feature['properties']['y_webm'] = pyproj.transform(\n",
    "            rd, \n",
    "            webm, \n",
    "            feature['properties']['x_rd'],\n",
    "            feature['properties']['y_rd']\n",
    "        )\n",
    "        feature['properties']['distance'] = np.sqrt(\n",
    "            (station.x_rd - float(feature['properties']['x_rd']))**2 +\n",
    "            (station.y_rd - float(feature['properties']['y_rd']))**2\n",
    "        )\n",
    "            \n",
    "        closest.append(feature)\n",
    "    records.append({\n",
    "        \"ddl_id\": ddl_id,\n",
    "        \"nap\": closest\n",
    "    })\n",
    "nap_df = pd.DataFrame.from_records(records).set_index('ddl_id')\n",
    "\n",
    "stations_df = pd.merge(stations_df, nap_df, left_index=True, right_index=True)\n",
    "stations_df[['nap']]"
   ]
  },
  {
   "cell_type": "markdown",
   "metadata": {
    "deletable": true,
    "editable": true
   },
   "source": [
    "## AHN\n",
    "For each tide gauge we lookup the AHN of the ground. This is not defined for most stations because they are in the water. "
   ]
  },
  {
   "cell_type": "code",
   "execution_count": 18,
   "metadata": {
    "collapsed": false,
    "deletable": true,
    "editable": true,
    "hide_input": true
   },
   "outputs": [
    {
     "data": {
      "text/plain": [
       "Index(['Coordinatenstelsel', 'Locatie_MessageID', 'Naam', 'X', 'Y', 'autocad',\n",
       "       'foundation_low', 'img', 'links', 'location', 'nulpaal', 'psmsl_id',\n",
       "       'rlr2nap', 'station_high', 'station_low', 'summary', 'psmsl_img',\n",
       "       'psmsl_info', 'x_rd', 'y_rd', 'lon', 'lat', 'x_webm', 'y_webm',\n",
       "       'dino_idx', 'x_dino', 'y_dino', 'x_dino_webm', 'y_dino_webm', 'lithok',\n",
       "       'nap', 'ahn'],\n",
       "      dtype='object')"
      ]
     },
     "execution_count": 18,
     "metadata": {},
     "output_type": "execute_result"
    }
   ],
   "source": [
    "\n",
    "\n",
    "wcs = owslib.wcs.WebCoverageService(ahn_url, version='1.0.0')\n",
    "\n",
    "def ahn_for_station(station):\n",
    "    # can't import this before pyproj are set\n",
    "    import rasterio\n",
    "\n",
    "    # wms.getfeatureinfo()\n",
    "    delta = 1e-6\n",
    "    resp = wcs.getCoverage(\n",
    "        'ahn2:ahn2_05m_int', \n",
    "        bbox=(station['lon']-delta, station['lat']-delta, station['lon']+delta, station['lat']+delta),\n",
    "        crs='EPSG:4326',\n",
    "        width=1,\n",
    "        height=1,\n",
    "        format='geotiff'\n",
    "    )\n",
    "    with open('result.tiff', 'wb') as f:\n",
    "        f.write(resp.read())\n",
    "    with rasterio.open('result.tiff') as f:\n",
    "        data = f.read()[0]\n",
    "    ahn_ma = np.ma.masked_outside(data, -100, 100)\n",
    "    return ahn_ma[0, 0]\n",
    "\n",
    "ahns = []\n",
    "for ddl_id, station in stations_df.iterrows():\n",
    "    ahn = ahn_for_station(station)\n",
    "    ahns.append({\n",
    "        \"ddl_id\": ddl_id,\n",
    "        \"ahn\": ahn\n",
    "    })\n",
    "ahn_df = pd.DataFrame.from_records(ahns).set_index('ddl_id')\n",
    "stations_df = pd.merge(stations_df, ahn_df, left_index=True, right_index=True)\n",
    "stations_df.columns"
   ]
  },
  {
   "cell_type": "markdown",
   "metadata": {
    "deletable": true,
    "editable": true
   },
   "source": [
    "## Map of the main tide gauges\n",
    "The map below shows some of the information that we have collected so far. The locations of the tide gauges. The locations of the closest point in the DINO source and the location of the closest points where the NAP is determined."
   ]
  },
  {
   "cell_type": "code",
   "execution_count": 19,
   "metadata": {
    "collapsed": false,
    "deletable": true,
    "editable": true,
    "hide_input": true
   },
   "outputs": [],
   "source": [
    "# Now we plot the mapping between the DINO, NAP locations and the tide gauge locations\n",
    "\n",
    "# Save data in datasource\n",
    "stations_cds = bokeh.models.ColumnDataSource.from_df(\n",
    "    stations_df[['x_webm', 'y_webm', 'x_dino_webm', 'y_dino_webm', 'Naam', 'lat', 'lon']].copy()\n",
    ")\n",
    "\n",
    "# Plot map with locations of stations and nearest data of dino_loket\n",
    "p = bokeh.plotting.figure(tools='pan, wheel_zoom, box_zoom', x_range=(320000, 780000), y_range=(6800000, 7000000))\n",
    "\n",
    "p.axis.visible = False\n",
    "p.add_tile(bokeh.tile_providers.CARTODBPOSITRON)\n",
    "# two layers\n",
    "c1 = p.circle(x='x_webm', y='y_webm', size=20, source=stations_cds, legend='Tide gauges')\n",
    "c2 = p.circle(x='x_dino_webm', y='y_dino_webm', size=10, source=stations_cds, color='orange', legend='Nearest location dinodata')\n",
    "for ddl_id, station in stations_df.iterrows():\n",
    "    for nap_feature in station['nap']:\n",
    "        c = p.circle(\n",
    "            x=nap_feature['properties']['x_webm'], \n",
    "            y=nap_feature['properties']['y_webm'],\n",
    "            size=3,\n",
    "            color='black',\n",
    "            legend='nap point near tide gauge'\n",
    "        )\n",
    "# tools, so you can inspect and zoom in\n",
    "p.add_tools(\n",
    "    bokeh.models.HoverTool(\n",
    "        renderers =[c1],\n",
    "        tooltips=[\n",
    "            (\"name\", \"@Naam\"),\n",
    "            (\"Lon, Lat\", \"(@lat, @lon)\"),\n",
    "        ]\n",
    "    )\n",
    ")\n"
   ]
  },
  {
   "cell_type": "code",
   "execution_count": 20,
   "metadata": {
    "collapsed": false,
    "deletable": true,
    "editable": true,
    "hide_input": true
   },
   "outputs": [
    {
     "data": {
      "text/html": [
       "\n",
       "\n",
       "    <div class=\"bk-root\">\n",
       "        <div class=\"bk-plotdiv\" id=\"8cecb712-65ca-48fa-a494-449a1739fca4\"></div>\n",
       "    </div>\n",
       "<script type=\"text/javascript\">\n",
       "  \n",
       "  (function(global) {\n",
       "    function now() {\n",
       "      return new Date();\n",
       "    }\n",
       "  \n",
       "    var force = false;\n",
       "  \n",
       "    if (typeof (window._bokeh_onload_callbacks) === \"undefined\" || force === true) {\n",
       "      window._bokeh_onload_callbacks = [];\n",
       "      window._bokeh_is_loading = undefined;\n",
       "    }\n",
       "  \n",
       "  \n",
       "    \n",
       "    if (typeof (window._bokeh_timeout) === \"undefined\" || force === true) {\n",
       "      window._bokeh_timeout = Date.now() + 0;\n",
       "      window._bokeh_failed_load = false;\n",
       "    }\n",
       "  \n",
       "    var NB_LOAD_WARNING = {'data': {'text/html':\n",
       "       \"<div style='background-color: #fdd'>\\n\"+\n",
       "       \"<p>\\n\"+\n",
       "       \"BokehJS does not appear to have successfully loaded. If loading BokehJS from CDN, this \\n\"+\n",
       "       \"may be due to a slow or bad network connection. Possible fixes:\\n\"+\n",
       "       \"</p>\\n\"+\n",
       "       \"<ul>\\n\"+\n",
       "       \"<li>re-rerun `output_notebook()` to attempt to load from CDN again, or</li>\\n\"+\n",
       "       \"<li>use INLINE resources instead, as so:</li>\\n\"+\n",
       "       \"</ul>\\n\"+\n",
       "       \"<code>\\n\"+\n",
       "       \"from bokeh.resources import INLINE\\n\"+\n",
       "       \"output_notebook(resources=INLINE)\\n\"+\n",
       "       \"</code>\\n\"+\n",
       "       \"</div>\"}};\n",
       "  \n",
       "    function display_loaded() {\n",
       "      if (window.Bokeh !== undefined) {\n",
       "        document.getElementById(\"8cecb712-65ca-48fa-a494-449a1739fca4\").textContent = \"BokehJS successfully loaded.\";\n",
       "      } else if (Date.now() < window._bokeh_timeout) {\n",
       "        setTimeout(display_loaded, 100)\n",
       "      }\n",
       "    }\n",
       "  \n",
       "    function run_callbacks() {\n",
       "      window._bokeh_onload_callbacks.forEach(function(callback) { callback() });\n",
       "      delete window._bokeh_onload_callbacks\n",
       "      console.info(\"Bokeh: all callbacks have finished\");\n",
       "    }\n",
       "  \n",
       "    function load_libs(js_urls, callback) {\n",
       "      window._bokeh_onload_callbacks.push(callback);\n",
       "      if (window._bokeh_is_loading > 0) {\n",
       "        console.log(\"Bokeh: BokehJS is being loaded, scheduling callback at\", now());\n",
       "        return null;\n",
       "      }\n",
       "      if (js_urls == null || js_urls.length === 0) {\n",
       "        run_callbacks();\n",
       "        return null;\n",
       "      }\n",
       "      console.log(\"Bokeh: BokehJS not loaded, scheduling load and callback at\", now());\n",
       "      window._bokeh_is_loading = js_urls.length;\n",
       "      for (var i = 0; i < js_urls.length; i++) {\n",
       "        var url = js_urls[i];\n",
       "        var s = document.createElement('script');\n",
       "        s.src = url;\n",
       "        s.async = false;\n",
       "        s.onreadystatechange = s.onload = function() {\n",
       "          window._bokeh_is_loading--;\n",
       "          if (window._bokeh_is_loading === 0) {\n",
       "            console.log(\"Bokeh: all BokehJS libraries loaded\");\n",
       "            run_callbacks()\n",
       "          }\n",
       "        };\n",
       "        s.onerror = function() {\n",
       "          console.warn(\"failed to load library \" + url);\n",
       "        };\n",
       "        console.log(\"Bokeh: injecting script tag for BokehJS library: \", url);\n",
       "        document.getElementsByTagName(\"head\")[0].appendChild(s);\n",
       "      }\n",
       "    };var element = document.getElementById(\"8cecb712-65ca-48fa-a494-449a1739fca4\");\n",
       "    if (element == null) {\n",
       "      console.log(\"Bokeh: ERROR: autoload.js configured with elementid '8cecb712-65ca-48fa-a494-449a1739fca4' but no matching script tag was found. \")\n",
       "      return false;\n",
       "    }\n",
       "  \n",
       "    var js_urls = [];\n",
       "  \n",
       "    var inline_js = [\n",
       "      function(Bokeh) {\n",
       "        (function() {\n",
       "          var fn = function() {\n",
       "            var docs_json = {\"5f2ae3a8-a4ec-41b6-b085-94d35f0ab85f\":{\"roots\":{\"references\":[{\"attributes\":{\"fill_color\":{\"value\":\"black\"},\"size\":{\"units\":\"screen\",\"value\":3},\"x\":{\"value\":458849.2681925231},\"y\":{\"value\":6796108.043503032}},\"id\":\"05b73f17-adce-4d18-a83f-515b9bb7a9bf\",\"type\":\"Circle\"},{\"attributes\":{\"callback\":null,\"end\":780000,\"start\":320000},\"id\":\"a8061e95-8196-4805-9c98-ac72fbc90c92\",\"type\":\"Range1d\"},{\"attributes\":{\"fill_color\":{\"value\":\"#1f77b4\"},\"line_color\":{\"value\":\"#1f77b4\"},\"size\":{\"units\":\"screen\",\"value\":20},\"x\":{\"field\":\"x_webm\"},\"y\":{\"field\":\"y_webm\"}},\"id\":\"17ba4238-b986-465a-b211-5fcc6d4c199c\",\"type\":\"Circle\"},{\"attributes\":{\"attribution\":\"&copy; <a href=\\\"http://www.openstreetmap.org/copyright\\\">OpenStreetMap</a> contributors,&copy; <a href=\\\"https://cartodb.com/attributions\\\">CartoDB</a>\",\"url\":\"http://tiles.basemaps.cartocdn.com/light_all/{z}/{x}/{y}.png\"},\"id\":\"d79917bd-d52e-4275-8ce9-d86de72c64d3\",\"type\":\"WMTSTileSource\"},{\"attributes\":{\"data_source\":{\"id\":\"09c49142-d506-4b9c-b4c5-9a2afff5222e\",\"type\":\"ColumnDataSource\"},\"glyph\":{\"id\":\"d93b8375-ac76-49e1-a99f-ac38f6d68948\",\"type\":\"Circle\"},\"hover_glyph\":null,\"nonselection_glyph\":{\"id\":\"f73ac4bf-b2c3-4f02-b4e0-74723336a8b3\",\"type\":\"Circle\"},\"selection_glyph\":null},\"id\":\"2df15b5a-2ada-4d8a-b459-f3c44a2d8b8d\",\"type\":\"GlyphRenderer\"},{\"attributes\":{},\"id\":\"2efc4c3a-6d0c-4a8b-97a3-b9c9331cef93\",\"type\":\"BasicTickFormatter\"},{\"attributes\":{\"callback\":null},\"id\":\"09c49142-d506-4b9c-b4c5-9a2afff5222e\",\"type\":\"ColumnDataSource\"},{\"attributes\":{\"fill_alpha\":{\"value\":0.1},\"fill_color\":{\"value\":\"#1f77b4\"},\"line_alpha\":{\"value\":0.1},\"line_color\":{\"value\":\"#1f77b4\"},\"size\":{\"units\":\"screen\",\"value\":3},\"x\":{\"value\":458849.2681925231},\"y\":{\"value\":6796108.043503032}},\"id\":\"09834c24-2bd2-4333-8b61-38b397ed3a7a\",\"type\":\"Circle\"},{\"attributes\":{\"fill_color\":{\"value\":\"black\"},\"size\":{\"units\":\"screen\",\"value\":3},\"x\":{\"value\":458622.7638179325},\"y\":{\"value\":6796087.839623006}},\"id\":\"d93b8375-ac76-49e1-a99f-ac38f6d68948\",\"type\":\"Circle\"},{\"attributes\":{\"fill_alpha\":{\"value\":0.1},\"fill_color\":{\"value\":\"#1f77b4\"},\"line_alpha\":{\"value\":0.1},\"line_color\":{\"value\":\"#1f77b4\"},\"size\":{\"units\":\"screen\",\"value\":3},\"x\":{\"value\":458622.7638179325},\"y\":{\"value\":6796087.839623006}},\"id\":\"f73ac4bf-b2c3-4f02-b4e0-74723336a8b3\",\"type\":\"Circle\"},{\"attributes\":{\"data_source\":{\"id\":\"db816dc2-f369-45c8-bb58-986c5479d865\",\"type\":\"ColumnDataSource\"},\"glyph\":{\"id\":\"05b73f17-adce-4d18-a83f-515b9bb7a9bf\",\"type\":\"Circle\"},\"hover_glyph\":null,\"nonselection_glyph\":{\"id\":\"09834c24-2bd2-4333-8b61-38b397ed3a7a\",\"type\":\"Circle\"},\"selection_glyph\":null},\"id\":\"15dc8f45-5230-4d73-82cb-9f7df0040aa7\",\"type\":\"GlyphRenderer\"},{\"attributes\":{\"callback\":null},\"id\":\"7a5a878d-7719-4ade-b95d-f8f6a941565f\",\"type\":\"ColumnDataSource\"},{\"attributes\":{\"callback\":null,\"plot\":{\"id\":\"cd658a1b-cc6b-441a-b02a-15450f437ba1\",\"subtype\":\"Figure\",\"type\":\"Plot\"},\"renderers\":[{\"id\":\"f93a8c9e-dd4c-44a3-ae7f-d607923bfbad\",\"type\":\"GlyphRenderer\"}],\"tooltips\":[[\"name\",\"@Naam\"],[\"Lon, Lat\",\"(@lat, @lon)\"]]},\"id\":\"c7b05127-e465-4f72-a725-53e60d9c6c75\",\"type\":\"HoverTool\"},{\"attributes\":{\"fill_color\":{\"value\":\"black\"},\"size\":{\"units\":\"screen\",\"value\":3},\"x\":{\"value\":459157.05093064526},\"y\":{\"value\":6796113.412226624}},\"id\":\"d4d4765e-2b8a-4664-bba9-fe823de3519f\",\"type\":\"Circle\"},{\"attributes\":{\"fill_alpha\":{\"value\":0.1},\"fill_color\":{\"value\":\"#1f77b4\"},\"line_alpha\":{\"value\":0.1},\"line_color\":{\"value\":\"#1f77b4\"},\"size\":{\"units\":\"screen\",\"value\":3},\"x\":{\"value\":459157.05093064526},\"y\":{\"value\":6796113.412226624}},\"id\":\"7c67a369-128f-4cb5-9616-ac416b003ced\",\"type\":\"Circle\"},{\"attributes\":{\"data_source\":{\"id\":\"7a5a878d-7719-4ade-b95d-f8f6a941565f\",\"type\":\"ColumnDataSource\"},\"glyph\":{\"id\":\"d4d4765e-2b8a-4664-bba9-fe823de3519f\",\"type\":\"Circle\"},\"hover_glyph\":null,\"nonselection_glyph\":{\"id\":\"7c67a369-128f-4cb5-9616-ac416b003ced\",\"type\":\"Circle\"},\"selection_glyph\":null},\"id\":\"483a20b5-1abe-4e92-b798-63452790e6bc\",\"type\":\"GlyphRenderer\"},{\"attributes\":{\"callback\":null},\"id\":\"e04f2898-2f8b-4e1e-a27f-f9ec27ba0867\",\"type\":\"ColumnDataSource\"},{\"attributes\":{\"fill_color\":{\"value\":\"black\"},\"size\":{\"units\":\"screen\",\"value\":3},\"x\":{\"value\":458464.240946869},\"y\":{\"value\":6796816.140857996}},\"id\":\"ab12ed01-0a25-4d9f-a767-2e89dc74ff90\",\"type\":\"Circle\"},{\"attributes\":{\"fill_alpha\":{\"value\":0.1},\"fill_color\":{\"value\":\"#1f77b4\"},\"line_alpha\":{\"value\":0.1},\"line_color\":{\"value\":\"#1f77b4\"},\"size\":{\"units\":\"screen\",\"value\":3},\"x\":{\"value\":458464.240946869},\"y\":{\"value\":6796816.140857996}},\"id\":\"ad657ead-50d2-4093-833d-7f3e794e3f93\",\"type\":\"Circle\"},{\"attributes\":{\"data_source\":{\"id\":\"e04f2898-2f8b-4e1e-a27f-f9ec27ba0867\",\"type\":\"ColumnDataSource\"},\"glyph\":{\"id\":\"ab12ed01-0a25-4d9f-a767-2e89dc74ff90\",\"type\":\"Circle\"},\"hover_glyph\":null,\"nonselection_glyph\":{\"id\":\"ad657ead-50d2-4093-833d-7f3e794e3f93\",\"type\":\"Circle\"},\"selection_glyph\":null},\"id\":\"76216a50-d428-44c5-abd9-2aec7c65540a\",\"type\":\"GlyphRenderer\"},{\"attributes\":{\"fill_color\":{\"value\":\"orange\"},\"line_color\":{\"value\":\"orange\"},\"size\":{\"units\":\"screen\",\"value\":10},\"x\":{\"field\":\"x_dino_webm\"},\"y\":{\"field\":\"y_dino_webm\"}},\"id\":\"f4c31c7f-8d40-43e5-af85-03b58372ce36\",\"type\":\"Circle\"},{\"attributes\":{\"callback\":null},\"id\":\"46de2439-b27b-4133-8729-7c0f46c25336\",\"type\":\"ColumnDataSource\"},{\"attributes\":{\"below\":[{\"id\":\"91b6e0d1-5643-4b62-b398-11a5b8979b16\",\"type\":\"LinearAxis\"}],\"left\":[{\"id\":\"da6735df-5a6f-4f76-b6c9-b52136bdf3d8\",\"type\":\"LinearAxis\"}],\"renderers\":[{\"id\":\"91b6e0d1-5643-4b62-b398-11a5b8979b16\",\"type\":\"LinearAxis\"},{\"id\":\"fde77a5d-1aba-410a-b134-720c9199d24c\",\"type\":\"Grid\"},{\"id\":\"da6735df-5a6f-4f76-b6c9-b52136bdf3d8\",\"type\":\"LinearAxis\"},{\"id\":\"f1d530e4-768d-454b-885e-673ad4a99f52\",\"type\":\"Grid\"},{\"id\":\"868a1aac-e2c3-42fe-93fa-337fe64c3f54\",\"type\":\"BoxAnnotation\"},{\"id\":\"55900af3-fb84-4dd9-8286-5b4f1d5f437c\",\"type\":\"TileRenderer\"},{\"id\":\"2fbb0f1f-c5ca-4191-825a-8cfcca31e39f\",\"type\":\"Legend\"},{\"id\":\"f93a8c9e-dd4c-44a3-ae7f-d607923bfbad\",\"type\":\"GlyphRenderer\"},{\"id\":\"3013efbd-2009-4c5a-9d6c-344e20405b3d\",\"type\":\"GlyphRenderer\"},{\"id\":\"63d76ce0-7dc3-45ad-8850-ab3b17afac33\",\"type\":\"GlyphRenderer\"},{\"id\":\"264bf57c-7c8f-4bd8-ba51-d6a440d90bfd\",\"type\":\"GlyphRenderer\"},{\"id\":\"ae921ab8-5e9f-4ca6-ab09-1ee3efaed29e\",\"type\":\"GlyphRenderer\"},{\"id\":\"96589d39-9855-4eaf-85ea-9948284637f6\",\"type\":\"GlyphRenderer\"},{\"id\":\"6b48470c-6cb8-4aee-8675-05f5d06aa011\",\"type\":\"GlyphRenderer\"},{\"id\":\"9e61387b-de93-4507-b2b5-5b991726c051\",\"type\":\"GlyphRenderer\"},{\"id\":\"435a2ed0-d0a6-4a20-8526-7612007ceecd\",\"type\":\"GlyphRenderer\"},{\"id\":\"9600b8d7-84ec-48b6-ad08-b64065955398\",\"type\":\"GlyphRenderer\"},{\"id\":\"625b71c7-47f0-4b04-8532-122dee9f47f4\",\"type\":\"GlyphRenderer\"},{\"id\":\"4d17e25e-f5c5-4355-bdea-5b50595a4d54\",\"type\":\"GlyphRenderer\"},{\"id\":\"67b862da-4a0f-4a41-9e92-c9a09313e9ba\",\"type\":\"GlyphRenderer\"},{\"id\":\"666a191e-5099-410d-b607-c73333e69c1d\",\"type\":\"GlyphRenderer\"},{\"id\":\"1536b29b-8b71-497b-99f7-2d55e3faef2c\",\"type\":\"GlyphRenderer\"},{\"id\":\"ff056188-744d-4758-9f4c-52b75e8ec51b\",\"type\":\"GlyphRenderer\"},{\"id\":\"93814c6c-d270-4c1e-8fdd-ae9647185e0b\",\"type\":\"GlyphRenderer\"},{\"id\":\"2df15b5a-2ada-4d8a-b459-f3c44a2d8b8d\",\"type\":\"GlyphRenderer\"},{\"id\":\"15dc8f45-5230-4d73-82cb-9f7df0040aa7\",\"type\":\"GlyphRenderer\"},{\"id\":\"483a20b5-1abe-4e92-b798-63452790e6bc\",\"type\":\"GlyphRenderer\"},{\"id\":\"76216a50-d428-44c5-abd9-2aec7c65540a\",\"type\":\"GlyphRenderer\"},{\"id\":\"9a2141f3-27f4-4d2d-a08d-a63e5b53743a\",\"type\":\"GlyphRenderer\"},{\"id\":\"3ad4a266-a1a0-401d-9b2c-e7ed0d4c18be\",\"type\":\"GlyphRenderer\"},{\"id\":\"2bb97f74-0f0d-4535-836b-7471e8ba4234\",\"type\":\"GlyphRenderer\"},{\"id\":\"e8f7ff6d-3231-4cbb-b8b6-0cc333617091\",\"type\":\"GlyphRenderer\"},{\"id\":\"9796efcc-839b-4923-af80-8652082985ef\",\"type\":\"GlyphRenderer\"},{\"id\":\"e1f89d35-3059-4c8b-af12-b9f6d1887c68\",\"type\":\"GlyphRenderer\"},{\"id\":\"88250ec8-c42c-47b4-9cac-d6a98485cf81\",\"type\":\"GlyphRenderer\"},{\"id\":\"687d2f8b-63c4-4c60-92e0-9b5211598982\",\"type\":\"GlyphRenderer\"},{\"id\":\"516bcfb6-9f64-4e9c-80ae-c7ecc8094d8e\",\"type\":\"GlyphRenderer\"},{\"id\":\"61cbaae1-e48a-4bfc-b5df-141bd3b151d3\",\"type\":\"GlyphRenderer\"},{\"id\":\"c36fd834-f4b8-4201-aa0e-9d0ad5c3aac6\",\"type\":\"GlyphRenderer\"}],\"title\":{\"id\":\"00605a56-d1d9-4601-ab24-a3885acd693f\",\"type\":\"Title\"},\"tool_events\":{\"id\":\"29a5fa62-f503-4d1f-9b0c-efa9c970e253\",\"type\":\"ToolEvents\"},\"toolbar\":{\"id\":\"44c24399-e579-4529-9c83-33ab9bd92403\",\"type\":\"Toolbar\"},\"x_range\":{\"id\":\"a8061e95-8196-4805-9c98-ac72fbc90c92\",\"type\":\"Range1d\"},\"y_range\":{\"id\":\"95a125ac-9e2d-4716-b5a0-51158ba79268\",\"type\":\"Range1d\"}},\"id\":\"cd658a1b-cc6b-441a-b02a-15450f437ba1\",\"subtype\":\"Figure\",\"type\":\"Plot\"},{\"attributes\":{\"fill_color\":{\"value\":\"black\"},\"size\":{\"units\":\"screen\",\"value\":3},\"x\":{\"value\":457917.9702704312},\"y\":{\"value\":6796546.611520722}},\"id\":\"43bd054a-9f1d-44b7-be3b-7f501863610e\",\"type\":\"Circle\"},{\"attributes\":{\"fill_alpha\":{\"value\":0.1},\"fill_color\":{\"value\":\"#1f77b4\"},\"line_alpha\":{\"value\":0.1},\"line_color\":{\"value\":\"#1f77b4\"},\"size\":{\"units\":\"screen\",\"value\":3},\"x\":{\"value\":457917.9702704312},\"y\":{\"value\":6796546.611520722}},\"id\":\"8ad199f7-2c58-4fb2-a6fc-48330c04f572\",\"type\":\"Circle\"},{\"attributes\":{\"data_source\":{\"id\":\"46de2439-b27b-4133-8729-7c0f46c25336\",\"type\":\"ColumnDataSource\"},\"glyph\":{\"id\":\"43bd054a-9f1d-44b7-be3b-7f501863610e\",\"type\":\"Circle\"},\"hover_glyph\":null,\"nonselection_glyph\":{\"id\":\"8ad199f7-2c58-4fb2-a6fc-48330c04f572\",\"type\":\"Circle\"},\"selection_glyph\":null},\"id\":\"9a2141f3-27f4-4d2d-a08d-a63e5b53743a\",\"type\":\"GlyphRenderer\"},{\"attributes\":{\"callback\":null},\"id\":\"77b1886b-921a-402d-903c-931463f0aba1\",\"type\":\"ColumnDataSource\"},{\"attributes\":{\"fill_color\":{\"value\":\"black\"},\"size\":{\"units\":\"screen\",\"value\":3},\"x\":{\"value\":507056.9713668716},\"y\":{\"value\":6884155.623216877}},\"id\":\"3f9b4b25-ddd0-476a-9590-95c9677d5a27\",\"type\":\"Circle\"},{\"attributes\":{\"fill_alpha\":{\"value\":0.1},\"fill_color\":{\"value\":\"#1f77b4\"},\"line_alpha\":{\"value\":0.1},\"line_color\":{\"value\":\"#1f77b4\"},\"size\":{\"units\":\"screen\",\"value\":3},\"x\":{\"value\":507056.9713668716},\"y\":{\"value\":6884155.623216877}},\"id\":\"3a19dcac-2ae2-4620-b733-83b7384b15ad\",\"type\":\"Circle\"},{\"attributes\":{\"data_source\":{\"id\":\"77b1886b-921a-402d-903c-931463f0aba1\",\"type\":\"ColumnDataSource\"},\"glyph\":{\"id\":\"3f9b4b25-ddd0-476a-9590-95c9677d5a27\",\"type\":\"Circle\"},\"hover_glyph\":null,\"nonselection_glyph\":{\"id\":\"3a19dcac-2ae2-4620-b733-83b7384b15ad\",\"type\":\"Circle\"},\"selection_glyph\":null},\"id\":\"3ad4a266-a1a0-401d-9b2c-e7ed0d4c18be\",\"type\":\"GlyphRenderer\"},{\"attributes\":{\"callback\":null},\"id\":\"e14a8988-a560-4ed3-aea6-12551d3a612f\",\"type\":\"ColumnDataSource\"},{\"attributes\":{\"fill_color\":{\"value\":\"black\"},\"size\":{\"units\":\"screen\",\"value\":3},\"x\":{\"value\":507189.1239322951},\"y\":{\"value\":6884058.617828624}},\"id\":\"dd6d477c-f926-4382-adf3-b1ab05244c2b\",\"type\":\"Circle\"},{\"attributes\":{\"fill_alpha\":{\"value\":0.1},\"fill_color\":{\"value\":\"#1f77b4\"},\"line_alpha\":{\"value\":0.1},\"line_color\":{\"value\":\"#1f77b4\"},\"size\":{\"units\":\"screen\",\"value\":3},\"x\":{\"value\":507189.1239322951},\"y\":{\"value\":6884058.617828624}},\"id\":\"813e6ec6-1ce8-4e21-8d47-cca34128ae90\",\"type\":\"Circle\"},{\"attributes\":{\"data_source\":{\"id\":\"e14a8988-a560-4ed3-aea6-12551d3a612f\",\"type\":\"ColumnDataSource\"},\"glyph\":{\"id\":\"dd6d477c-f926-4382-adf3-b1ab05244c2b\",\"type\":\"Circle\"},\"hover_glyph\":null,\"nonselection_glyph\":{\"id\":\"813e6ec6-1ce8-4e21-8d47-cca34128ae90\",\"type\":\"Circle\"},\"selection_glyph\":null},\"id\":\"2bb97f74-0f0d-4535-836b-7471e8ba4234\",\"type\":\"GlyphRenderer\"},{\"attributes\":{},\"id\":\"075b9b64-7f76-4218-8347-9d08d52ee6ff\",\"type\":\"BasicTicker\"},{\"attributes\":{\"callback\":null},\"id\":\"696c8b0f-de5d-48e8-ae43-5e0e44b28d07\",\"type\":\"ColumnDataSource\"},{\"attributes\":{\"fill_color\":{\"value\":\"black\"},\"size\":{\"units\":\"screen\",\"value\":3},\"x\":{\"value\":507189.31188626436},\"y\":{\"value\":6884042.198962279}},\"id\":\"a305dd3f-c38a-4554-9829-bc6fdc7a8cac\",\"type\":\"Circle\"},{\"attributes\":{\"fill_alpha\":{\"value\":0.1},\"fill_color\":{\"value\":\"#1f77b4\"},\"line_alpha\":{\"value\":0.1},\"line_color\":{\"value\":\"#1f77b4\"},\"size\":{\"units\":\"screen\",\"value\":3},\"x\":{\"value\":507189.31188626436},\"y\":{\"value\":6884042.198962279}},\"id\":\"b518daa7-2ce6-49e2-8014-df2676f85ec6\",\"type\":\"Circle\"},{\"attributes\":{\"data_source\":{\"id\":\"696c8b0f-de5d-48e8-ae43-5e0e44b28d07\",\"type\":\"ColumnDataSource\"},\"glyph\":{\"id\":\"a305dd3f-c38a-4554-9829-bc6fdc7a8cac\",\"type\":\"Circle\"},\"hover_glyph\":null,\"nonselection_glyph\":{\"id\":\"b518daa7-2ce6-49e2-8014-df2676f85ec6\",\"type\":\"Circle\"},\"selection_glyph\":null},\"id\":\"e8f7ff6d-3231-4cbb-b8b6-0cc333617091\",\"type\":\"GlyphRenderer\"},{\"attributes\":{\"plot\":null,\"text\":\"\"},\"id\":\"00605a56-d1d9-4601-ab24-a3885acd693f\",\"type\":\"Title\"},{\"attributes\":{\"callback\":null},\"id\":\"b122396b-a197-422a-a679-189ab60557a3\",\"type\":\"ColumnDataSource\"},{\"attributes\":{\"fill_color\":{\"value\":\"black\"},\"size\":{\"units\":\"screen\",\"value\":3},\"x\":{\"value\":507357.0305085658},\"y\":{\"value\":6883699.29282097}},\"id\":\"c2bba2bd-633d-42e2-92a3-6dfa2d005e5f\",\"type\":\"Circle\"},{\"attributes\":{\"fill_alpha\":{\"value\":0.1},\"fill_color\":{\"value\":\"#1f77b4\"},\"line_alpha\":{\"value\":0.1},\"line_color\":{\"value\":\"#1f77b4\"},\"size\":{\"units\":\"screen\",\"value\":3},\"x\":{\"value\":507357.0305085658},\"y\":{\"value\":6883699.29282097}},\"id\":\"53a4acef-5e6b-4f0c-966e-8a5cf63ce34c\",\"type\":\"Circle\"},{\"attributes\":{\"data_source\":{\"id\":\"b122396b-a197-422a-a679-189ab60557a3\",\"type\":\"ColumnDataSource\"},\"glyph\":{\"id\":\"c2bba2bd-633d-42e2-92a3-6dfa2d005e5f\",\"type\":\"Circle\"},\"hover_glyph\":null,\"nonselection_glyph\":{\"id\":\"53a4acef-5e6b-4f0c-966e-8a5cf63ce34c\",\"type\":\"Circle\"},\"selection_glyph\":null},\"id\":\"9796efcc-839b-4923-af80-8652082985ef\",\"type\":\"GlyphRenderer\"},{\"attributes\":{\"label\":{\"value\":\"Tide gauges\"},\"renderers\":[{\"id\":\"f93a8c9e-dd4c-44a3-ae7f-d607923bfbad\",\"type\":\"GlyphRenderer\"}]},\"id\":\"45f99fc9-2b83-4bd2-ab24-f2d5a177f595\",\"type\":\"LegendItem\"},{\"attributes\":{\"callback\":null},\"id\":\"89b84051-24d6-4ba7-8b65-7fcff4b744f1\",\"type\":\"ColumnDataSource\"},{\"attributes\":{\"fill_color\":{\"value\":\"black\"},\"size\":{\"units\":\"screen\",\"value\":3},\"x\":{\"value\":506949.6573474332},\"y\":{\"value\":6884942.644022597}},\"id\":\"352be9f7-9b6f-4574-97a7-6d32a8b4eb51\",\"type\":\"Circle\"},{\"attributes\":{\"plot\":{\"id\":\"cd658a1b-cc6b-441a-b02a-15450f437ba1\",\"subtype\":\"Figure\",\"type\":\"Plot\"}},\"id\":\"bb039da9-d09c-41a1-86ff-ad7ce6e77844\",\"type\":\"PanTool\"},{\"attributes\":{\"fill_alpha\":{\"value\":0.1},\"fill_color\":{\"value\":\"#1f77b4\"},\"line_alpha\":{\"value\":0.1},\"line_color\":{\"value\":\"#1f77b4\"},\"size\":{\"units\":\"screen\",\"value\":3},\"x\":{\"value\":506949.6573474332},\"y\":{\"value\":6884942.644022597}},\"id\":\"cc80aac8-46fb-48f1-9c01-27b5a3318547\",\"type\":\"Circle\"},{\"attributes\":{\"data_source\":{\"id\":\"89b84051-24d6-4ba7-8b65-7fcff4b744f1\",\"type\":\"ColumnDataSource\"},\"glyph\":{\"id\":\"352be9f7-9b6f-4574-97a7-6d32a8b4eb51\",\"type\":\"Circle\"},\"hover_glyph\":null,\"nonselection_glyph\":{\"id\":\"cc80aac8-46fb-48f1-9c01-27b5a3318547\",\"type\":\"Circle\"},\"selection_glyph\":null},\"id\":\"e1f89d35-3059-4c8b-af12-b9f6d1887c68\",\"type\":\"GlyphRenderer\"},{\"attributes\":{},\"id\":\"9bde9568-1ef8-4117-bcdf-658edc35779b\",\"type\":\"BasicTicker\"},{\"attributes\":{\"plot\":{\"id\":\"cd658a1b-cc6b-441a-b02a-15450f437ba1\",\"subtype\":\"Figure\",\"type\":\"Plot\"},\"ticker\":{\"id\":\"075b9b64-7f76-4218-8347-9d08d52ee6ff\",\"type\":\"BasicTicker\"}},\"id\":\"fde77a5d-1aba-410a-b134-720c9199d24c\",\"type\":\"Grid\"},{\"attributes\":{\"callback\":null},\"id\":\"ba8ea455-d7c3-4ee0-ba50-f9620b11d301\",\"type\":\"ColumnDataSource\"},{\"attributes\":{\"fill_color\":{\"value\":\"black\"},\"size\":{\"units\":\"screen\",\"value\":3},\"x\":{\"value\":400452.90017388354},\"y\":{\"value\":6700009.344689003}},\"id\":\"bfb75b42-5440-4bce-80d5-213eab80dfb0\",\"type\":\"Circle\"},{\"attributes\":{\"fill_alpha\":{\"value\":0.1},\"fill_color\":{\"value\":\"#1f77b4\"},\"line_alpha\":{\"value\":0.1},\"line_color\":{\"value\":\"#1f77b4\"},\"size\":{\"units\":\"screen\",\"value\":3},\"x\":{\"value\":400452.90017388354},\"y\":{\"value\":6700009.344689003}},\"id\":\"c2a0b542-25c6-40ba-a609-5fb1809856a3\",\"type\":\"Circle\"},{\"attributes\":{\"data_source\":{\"id\":\"ba8ea455-d7c3-4ee0-ba50-f9620b11d301\",\"type\":\"ColumnDataSource\"},\"glyph\":{\"id\":\"bfb75b42-5440-4bce-80d5-213eab80dfb0\",\"type\":\"Circle\"},\"hover_glyph\":null,\"nonselection_glyph\":{\"id\":\"c2a0b542-25c6-40ba-a609-5fb1809856a3\",\"type\":\"Circle\"},\"selection_glyph\":null},\"id\":\"88250ec8-c42c-47b4-9cac-d6a98485cf81\",\"type\":\"GlyphRenderer\"},{\"attributes\":{\"callback\":null},\"id\":\"ba7de40d-c998-4620-a860-f6b56059f6db\",\"type\":\"ColumnDataSource\"},{\"attributes\":{\"fill_alpha\":{\"value\":0.1},\"fill_color\":{\"value\":\"#1f77b4\"},\"line_alpha\":{\"value\":0.1},\"line_color\":{\"value\":\"#1f77b4\"},\"size\":{\"units\":\"screen\",\"value\":20},\"x\":{\"field\":\"x_webm\"},\"y\":{\"field\":\"y_webm\"}},\"id\":\"77777d99-98c0-465b-8b78-e51df82d5a57\",\"type\":\"Circle\"},{\"attributes\":{\"fill_color\":{\"value\":\"black\"},\"size\":{\"units\":\"screen\",\"value\":3},\"x\":{\"value\":400435.3226933864},\"y\":{\"value\":6700073.140099069}},\"id\":\"f8d8000f-63c9-4165-8f5d-f9bc6d14de23\",\"type\":\"Circle\"},{\"attributes\":{\"fill_alpha\":{\"value\":0.1},\"fill_color\":{\"value\":\"#1f77b4\"},\"line_alpha\":{\"value\":0.1},\"line_color\":{\"value\":\"#1f77b4\"},\"size\":{\"units\":\"screen\",\"value\":3},\"x\":{\"value\":400435.3226933864},\"y\":{\"value\":6700073.140099069}},\"id\":\"6e28fbfc-a40a-4507-aa58-abf9223cefa2\",\"type\":\"Circle\"},{\"attributes\":{\"data_source\":{\"id\":\"ba7de40d-c998-4620-a860-f6b56059f6db\",\"type\":\"ColumnDataSource\"},\"glyph\":{\"id\":\"f8d8000f-63c9-4165-8f5d-f9bc6d14de23\",\"type\":\"Circle\"},\"hover_glyph\":null,\"nonselection_glyph\":{\"id\":\"6e28fbfc-a40a-4507-aa58-abf9223cefa2\",\"type\":\"Circle\"},\"selection_glyph\":null},\"id\":\"687d2f8b-63c4-4c60-92e0-9b5211598982\",\"type\":\"GlyphRenderer\"},{\"attributes\":{\"callback\":null},\"id\":\"09b04ad6-1bd8-42ae-ba48-63be7c9e2165\",\"type\":\"ColumnDataSource\"},{\"attributes\":{\"fill_color\":{\"value\":\"black\"},\"size\":{\"units\":\"screen\",\"value\":3},\"x\":{\"value\":400175.2992502274},\"y\":{\"value\":6700227.306696702}},\"id\":\"f1a3e418-068a-4c05-9850-dec01f5aa9a2\",\"type\":\"Circle\"},{\"attributes\":{\"fill_alpha\":{\"value\":0.1},\"fill_color\":{\"value\":\"#1f77b4\"},\"line_alpha\":{\"value\":0.1},\"line_color\":{\"value\":\"#1f77b4\"},\"size\":{\"units\":\"screen\",\"value\":3},\"x\":{\"value\":400175.2992502274},\"y\":{\"value\":6700227.306696702}},\"id\":\"0d07be2b-2b94-4e07-8ab4-145b57589d7d\",\"type\":\"Circle\"},{\"attributes\":{\"data_source\":{\"id\":\"09b04ad6-1bd8-42ae-ba48-63be7c9e2165\",\"type\":\"ColumnDataSource\"},\"glyph\":{\"id\":\"f1a3e418-068a-4c05-9850-dec01f5aa9a2\",\"type\":\"Circle\"},\"hover_glyph\":null,\"nonselection_glyph\":{\"id\":\"0d07be2b-2b94-4e07-8ab4-145b57589d7d\",\"type\":\"Circle\"},\"selection_glyph\":null},\"id\":\"516bcfb6-9f64-4e9c-80ae-c7ecc8094d8e\",\"type\":\"GlyphRenderer\"},{\"attributes\":{\"callback\":null},\"id\":\"8d287e2c-3d14-4a3f-941c-fc1af07a2c79\",\"type\":\"ColumnDataSource\"},{\"attributes\":{\"fill_color\":{\"value\":\"black\"},\"size\":{\"units\":\"screen\",\"value\":3},\"x\":{\"value\":401003.6843208328},\"y\":{\"value\":6700408.261623292}},\"id\":\"73189d93-f5f0-4db2-8f64-69d785962985\",\"type\":\"Circle\"},{\"attributes\":{\"fill_alpha\":{\"value\":0.1},\"fill_color\":{\"value\":\"#1f77b4\"},\"line_alpha\":{\"value\":0.1},\"line_color\":{\"value\":\"#1f77b4\"},\"size\":{\"units\":\"screen\",\"value\":3},\"x\":{\"value\":401003.6843208328},\"y\":{\"value\":6700408.261623292}},\"id\":\"6512d896-da5e-404f-b9f9-cf984b55d976\",\"type\":\"Circle\"},{\"attributes\":{\"data_source\":{\"id\":\"8d287e2c-3d14-4a3f-941c-fc1af07a2c79\",\"type\":\"ColumnDataSource\"},\"glyph\":{\"id\":\"73189d93-f5f0-4db2-8f64-69d785962985\",\"type\":\"Circle\"},\"hover_glyph\":null,\"nonselection_glyph\":{\"id\":\"6512d896-da5e-404f-b9f9-cf984b55d976\",\"type\":\"Circle\"},\"selection_glyph\":null},\"id\":\"61cbaae1-e48a-4bfc-b5df-141bd3b151d3\",\"type\":\"GlyphRenderer\"},{\"attributes\":{\"callback\":null},\"id\":\"6e78a47d-6bc0-40d7-b4b6-387e70193f75\",\"type\":\"ColumnDataSource\"},{\"attributes\":{\"active_drag\":\"auto\",\"active_scroll\":\"auto\",\"active_tap\":\"auto\",\"tools\":[{\"id\":\"bb039da9-d09c-41a1-86ff-ad7ce6e77844\",\"type\":\"PanTool\"},{\"id\":\"08da01a3-9e71-4ed6-bb15-81073b0ac3da\",\"type\":\"WheelZoomTool\"},{\"id\":\"8204cee3-3a86-421f-8615-c7c21bc5b751\",\"type\":\"BoxZoomTool\"},{\"id\":\"c7b05127-e465-4f72-a725-53e60d9c6c75\",\"type\":\"HoverTool\"}]},\"id\":\"44c24399-e579-4529-9c83-33ab9bd92403\",\"type\":\"Toolbar\"},{\"attributes\":{\"fill_color\":{\"value\":\"black\"},\"size\":{\"units\":\"screen\",\"value\":3},\"x\":{\"value\":401692.35051330534},\"y\":{\"value\":6699750.741409628}},\"id\":\"7b252a92-762f-4e54-9592-7d48b74a5d64\",\"type\":\"Circle\"},{\"attributes\":{\"fill_alpha\":{\"value\":0.1},\"fill_color\":{\"value\":\"#1f77b4\"},\"line_alpha\":{\"value\":0.1},\"line_color\":{\"value\":\"#1f77b4\"},\"size\":{\"units\":\"screen\",\"value\":3},\"x\":{\"value\":401692.35051330534},\"y\":{\"value\":6699750.741409628}},\"id\":\"a5cfc9bd-a868-4af5-9e20-5fcd7dbffd82\",\"type\":\"Circle\"},{\"attributes\":{\"data_source\":{\"id\":\"6e78a47d-6bc0-40d7-b4b6-387e70193f75\",\"type\":\"ColumnDataSource\"},\"glyph\":{\"id\":\"7b252a92-762f-4e54-9592-7d48b74a5d64\",\"type\":\"Circle\"},\"hover_glyph\":null,\"nonselection_glyph\":{\"id\":\"a5cfc9bd-a868-4af5-9e20-5fcd7dbffd82\",\"type\":\"Circle\"},\"selection_glyph\":null},\"id\":\"c36fd834-f4b8-4201-aa0e-9d0ad5c3aac6\",\"type\":\"GlyphRenderer\"},{\"attributes\":{},\"id\":\"29a5fa62-f503-4d1f-9b0c-efa9c970e253\",\"type\":\"ToolEvents\"},{\"attributes\":{\"formatter\":{\"id\":\"bb2e3e3b-b4f9-4558-8358-1b80448cb5c1\",\"type\":\"BasicTickFormatter\"},\"plot\":{\"id\":\"cd658a1b-cc6b-441a-b02a-15450f437ba1\",\"subtype\":\"Figure\",\"type\":\"Plot\"},\"ticker\":{\"id\":\"075b9b64-7f76-4218-8347-9d08d52ee6ff\",\"type\":\"BasicTicker\"},\"visible\":false},\"id\":\"91b6e0d1-5643-4b62-b398-11a5b8979b16\",\"type\":\"LinearAxis\"},{\"attributes\":{\"overlay\":{\"id\":\"868a1aac-e2c3-42fe-93fa-337fe64c3f54\",\"type\":\"BoxAnnotation\"},\"plot\":{\"id\":\"cd658a1b-cc6b-441a-b02a-15450f437ba1\",\"subtype\":\"Figure\",\"type\":\"Plot\"}},\"id\":\"8204cee3-3a86-421f-8615-c7c21bc5b751\",\"type\":\"BoxZoomTool\"},{\"attributes\":{\"dimension\":1,\"plot\":{\"id\":\"cd658a1b-cc6b-441a-b02a-15450f437ba1\",\"subtype\":\"Figure\",\"type\":\"Plot\"},\"ticker\":{\"id\":\"9bde9568-1ef8-4117-bcdf-658edc35779b\",\"type\":\"BasicTicker\"}},\"id\":\"f1d530e4-768d-454b-885e-673ad4a99f52\",\"type\":\"Grid\"},{\"attributes\":{\"bottom_units\":\"screen\",\"fill_alpha\":{\"value\":0.5},\"fill_color\":{\"value\":\"lightgrey\"},\"left_units\":\"screen\",\"level\":\"overlay\",\"line_alpha\":{\"value\":1.0},\"line_color\":{\"value\":\"black\"},\"line_dash\":[4,4],\"line_width\":{\"value\":2},\"plot\":null,\"render_mode\":\"css\",\"right_units\":\"screen\",\"top_units\":\"screen\"},\"id\":\"868a1aac-e2c3-42fe-93fa-337fe64c3f54\",\"type\":\"BoxAnnotation\"},{\"attributes\":{\"formatter\":{\"id\":\"2efc4c3a-6d0c-4a8b-97a3-b9c9331cef93\",\"type\":\"BasicTickFormatter\"},\"plot\":{\"id\":\"cd658a1b-cc6b-441a-b02a-15450f437ba1\",\"subtype\":\"Figure\",\"type\":\"Plot\"},\"ticker\":{\"id\":\"9bde9568-1ef8-4117-bcdf-658edc35779b\",\"type\":\"BasicTicker\"},\"visible\":false},\"id\":\"da6735df-5a6f-4f76-b6c9-b52136bdf3d8\",\"type\":\"LinearAxis\"},{\"attributes\":{\"callback\":null,\"end\":7000000,\"start\":6800000},\"id\":\"95a125ac-9e2d-4716-b5a0-51158ba79268\",\"type\":\"Range1d\"},{\"attributes\":{\"callback\":null,\"column_names\":[\"x_webm\",\"y_webm\",\"x_dino_webm\",\"y_dino_webm\",\"Naam\",\"lat\",\"lon\",\"index\"],\"data\":{\"Naam\":[\"Delfzijl\",\"Den Helder\",\"Harlingen\",\"Hoek van Holland\",\"IJmuiden buitenhaven\",\"Vlissingen\"],\"index\":[\"DELFZL\",\"DENHDR\",\"HARLGN\",\"HOEKVHLD\",\"IJMDBTHVN\",\"VLISSGN\"],\"lat\":[53.32635506768542,52.964359014288206,53.175634099777575,51.97757421250352,52.46232553109764,51.44231093539759],\"lon\":[6.933122805641826,4.744990191518165,5.409341921011239,4.119880920971249,4.554823144465266,3.5960567936419285],\"x_dino_webm\":[771790.624135849,528127.499562486,602198.5118644249,458574.4494398181,506991.45897638786,400344.0080696022],\"x_webm\":[771791.7003312812,528209.8919388797,602165.1881736799,458623.04625144164,507040.59309528937,400311.21113191225],\"y_dino_webm\":[7043544.184878538,6976357.459538266,7015635.219004501,6796070.749064513,6884154.868162884,6699878.208515495],\"y_webm\":[7043594.411272932,6976408.021664548,7015551.784219782,6796071.599484488,6884155.434799677,6699909.514427584]}},\"id\":\"f6388da3-4a57-48dd-8b3d-b0ad20adde7c\",\"type\":\"ColumnDataSource\"},{\"attributes\":{\"plot\":{\"id\":\"cd658a1b-cc6b-441a-b02a-15450f437ba1\",\"subtype\":\"Figure\",\"type\":\"Plot\"}},\"id\":\"08da01a3-9e71-4ed6-bb15-81073b0ac3da\",\"type\":\"WheelZoomTool\"},{\"attributes\":{\"data_source\":{\"id\":\"9cb500f6-6349-41a4-8f3e-342217dcd36b\",\"type\":\"ColumnDataSource\"},\"glyph\":{\"id\":\"17ba4238-b986-465a-b211-5fcc6d4c199c\",\"type\":\"Circle\"},\"hover_glyph\":null,\"nonselection_glyph\":{\"id\":\"77777d99-98c0-465b-8b78-e51df82d5a57\",\"type\":\"Circle\"},\"selection_glyph\":null},\"id\":\"f93a8c9e-dd4c-44a3-ae7f-d607923bfbad\",\"type\":\"GlyphRenderer\"},{\"attributes\":{\"callback\":null,\"column_names\":[\"x_webm\",\"y_webm\",\"x_dino_webm\",\"y_dino_webm\",\"Naam\",\"lat\",\"lon\",\"index\"],\"data\":{\"Naam\":[\"Delfzijl\",\"Den Helder\",\"Harlingen\",\"Hoek van Holland\",\"IJmuiden buitenhaven\",\"Vlissingen\"],\"index\":[\"DELFZL\",\"DENHDR\",\"HARLGN\",\"HOEKVHLD\",\"IJMDBTHVN\",\"VLISSGN\"],\"lat\":[53.32635506768542,52.964359014288206,53.175634099777575,51.97757421250352,52.46232553109764,51.44231093539759],\"lon\":[6.933122805641826,4.744990191518165,5.409341921011239,4.119880920971249,4.554823144465266,3.5960567936419285],\"x_dino_webm\":[771790.624135849,528127.499562486,602198.5118644249,458574.4494398181,506991.45897638786,400344.0080696022],\"x_webm\":[771791.7003312812,528209.8919388797,602165.1881736799,458623.04625144164,507040.59309528937,400311.21113191225],\"y_dino_webm\":[7043544.184878538,6976357.459538266,7015635.219004501,6796070.749064513,6884154.868162884,6699878.208515495],\"y_webm\":[7043594.411272932,6976408.021664548,7015551.784219782,6796071.599484488,6884155.434799677,6699909.514427584]}},\"id\":\"9cb500f6-6349-41a4-8f3e-342217dcd36b\",\"type\":\"ColumnDataSource\"},{\"attributes\":{\"tile_source\":{\"id\":\"d79917bd-d52e-4275-8ce9-d86de72c64d3\",\"type\":\"WMTSTileSource\"}},\"id\":\"55900af3-fb84-4dd9-8286-5b4f1d5f437c\",\"type\":\"TileRenderer\"},{\"attributes\":{},\"id\":\"bb2e3e3b-b4f9-4558-8358-1b80448cb5c1\",\"type\":\"BasicTickFormatter\"},{\"attributes\":{\"callback\":null},\"id\":\"db816dc2-f369-45c8-bb58-986c5479d865\",\"type\":\"ColumnDataSource\"},{\"attributes\":{\"items\":[{\"id\":\"45f99fc9-2b83-4bd2-ab24-f2d5a177f595\",\"type\":\"LegendItem\"},{\"id\":\"778681d3-15bf-4b03-b8b6-daed768b980b\",\"type\":\"LegendItem\"},{\"id\":\"ed6abe12-4604-4d63-a323-8df27ee3c9ab\",\"type\":\"LegendItem\"}],\"plot\":{\"id\":\"cd658a1b-cc6b-441a-b02a-15450f437ba1\",\"subtype\":\"Figure\",\"type\":\"Plot\"}},\"id\":\"2fbb0f1f-c5ca-4191-825a-8cfcca31e39f\",\"type\":\"Legend\"},{\"attributes\":{\"callback\":null},\"id\":\"9bbf2fe9-707e-48eb-9e79-43d3ac375872\",\"type\":\"ColumnDataSource\"},{\"attributes\":{\"fill_alpha\":{\"value\":0.1},\"fill_color\":{\"value\":\"#1f77b4\"},\"line_alpha\":{\"value\":0.1},\"line_color\":{\"value\":\"#1f77b4\"},\"size\":{\"units\":\"screen\",\"value\":10},\"x\":{\"field\":\"x_dino_webm\"},\"y\":{\"field\":\"y_dino_webm\"}},\"id\":\"d56042eb-1e29-4d6e-afa5-fdb94a3ef706\",\"type\":\"Circle\"},{\"attributes\":{\"data_source\":{\"id\":\"7c96b561-1eeb-4ff6-8785-49863404ee41\",\"type\":\"ColumnDataSource\"},\"glyph\":{\"id\":\"4e9648b2-e312-4978-b343-a6c278aa4a1b\",\"type\":\"Circle\"},\"hover_glyph\":null,\"nonselection_glyph\":{\"id\":\"2cf836cf-e356-4bd4-ac2f-a064d8f02640\",\"type\":\"Circle\"},\"selection_glyph\":null},\"id\":\"96589d39-9855-4eaf-85ea-9948284637f6\",\"type\":\"GlyphRenderer\"},{\"attributes\":{\"fill_color\":{\"value\":\"black\"},\"size\":{\"units\":\"screen\",\"value\":3},\"x\":{\"value\":771008.4937784107},\"y\":{\"value\":7043694.987422143}},\"id\":\"8e045642-a3a7-4c58-a654-960ac6dd7899\",\"type\":\"Circle\"},{\"attributes\":{\"callback\":null},\"id\":\"b577c4ed-8d13-43fd-93e6-3a82e10a766f\",\"type\":\"ColumnDataSource\"},{\"attributes\":{\"fill_color\":{\"value\":\"black\"},\"size\":{\"units\":\"screen\",\"value\":3},\"x\":{\"value\":771359.7163673443},\"y\":{\"value\":7044491.490394953}},\"id\":\"4e9648b2-e312-4978-b343-a6c278aa4a1b\",\"type\":\"Circle\"},{\"attributes\":{\"fill_color\":{\"value\":\"black\"},\"size\":{\"units\":\"screen\",\"value\":3},\"x\":{\"value\":771538.3052812711},\"y\":{\"value\":7043465.866107994}},\"id\":\"32e2ed2d-46e3-4789-9e00-368523868496\",\"type\":\"Circle\"},{\"attributes\":{\"fill_alpha\":{\"value\":0.1},\"fill_color\":{\"value\":\"#1f77b4\"},\"line_alpha\":{\"value\":0.1},\"line_color\":{\"value\":\"#1f77b4\"},\"size\":{\"units\":\"screen\",\"value\":3},\"x\":{\"value\":771359.7163673443},\"y\":{\"value\":7044491.490394953}},\"id\":\"2cf836cf-e356-4bd4-ac2f-a064d8f02640\",\"type\":\"Circle\"},{\"attributes\":{\"fill_alpha\":{\"value\":0.1},\"fill_color\":{\"value\":\"#1f77b4\"},\"line_alpha\":{\"value\":0.1},\"line_color\":{\"value\":\"#1f77b4\"},\"size\":{\"units\":\"screen\",\"value\":3},\"x\":{\"value\":771008.4937784107},\"y\":{\"value\":7043694.987422143}},\"id\":\"cfeb9797-cff6-4572-a794-b87ef7351175\",\"type\":\"Circle\"},{\"attributes\":{\"fill_alpha\":{\"value\":0.1},\"fill_color\":{\"value\":\"#1f77b4\"},\"line_alpha\":{\"value\":0.1},\"line_color\":{\"value\":\"#1f77b4\"},\"size\":{\"units\":\"screen\",\"value\":3},\"x\":{\"value\":771538.3052812711},\"y\":{\"value\":7043465.866107994}},\"id\":\"ecc37cef-968c-4c55-ba12-4ba419a86b53\",\"type\":\"Circle\"},{\"attributes\":{\"data_source\":{\"id\":\"3c7cb551-6799-42b0-afcb-eceea5d63958\",\"type\":\"ColumnDataSource\"},\"glyph\":{\"id\":\"8e045642-a3a7-4c58-a654-960ac6dd7899\",\"type\":\"Circle\"},\"hover_glyph\":null,\"nonselection_glyph\":{\"id\":\"cfeb9797-cff6-4572-a794-b87ef7351175\",\"type\":\"Circle\"},\"selection_glyph\":null},\"id\":\"264bf57c-7c8f-4bd8-ba51-d6a440d90bfd\",\"type\":\"GlyphRenderer\"},{\"attributes\":{\"fill_color\":{\"value\":\"black\"},\"size\":{\"units\":\"screen\",\"value\":3},\"x\":{\"value\":771358.762705298},\"y\":{\"value\":7042883.512175512}},\"id\":\"7e759d2e-20a9-403f-b777-9270012a3122\",\"type\":\"Circle\"},{\"attributes\":{\"callback\":null},\"id\":\"7c96b561-1eeb-4ff6-8785-49863404ee41\",\"type\":\"ColumnDataSource\"},{\"attributes\":{\"fill_color\":{\"value\":\"black\"},\"size\":{\"units\":\"screen\",\"value\":3},\"x\":{\"value\":528112.4087276196},\"y\":{\"value\":6976191.238679057}},\"id\":\"62dc8c90-c725-4c13-9ac8-1031440c3202\",\"type\":\"Circle\"},{\"attributes\":{\"fill_alpha\":{\"value\":0.1},\"fill_color\":{\"value\":\"#1f77b4\"},\"line_alpha\":{\"value\":0.1},\"line_color\":{\"value\":\"#1f77b4\"},\"size\":{\"units\":\"screen\",\"value\":3},\"x\":{\"value\":771358.762705298},\"y\":{\"value\":7042883.512175512}},\"id\":\"c0c10892-1f02-45ce-8f25-a15e095a8eaa\",\"type\":\"Circle\"},{\"attributes\":{\"callback\":null},\"id\":\"3c7cb551-6799-42b0-afcb-eceea5d63958\",\"type\":\"ColumnDataSource\"},{\"attributes\":{\"data_source\":{\"id\":\"f6388da3-4a57-48dd-8b3d-b0ad20adde7c\",\"type\":\"ColumnDataSource\"},\"glyph\":{\"id\":\"f4c31c7f-8d40-43e5-af85-03b58372ce36\",\"type\":\"Circle\"},\"hover_glyph\":null,\"nonselection_glyph\":{\"id\":\"d56042eb-1e29-4d6e-afa5-fdb94a3ef706\",\"type\":\"Circle\"},\"selection_glyph\":null},\"id\":\"3013efbd-2009-4c5a-9d6c-344e20405b3d\",\"type\":\"GlyphRenderer\"},{\"attributes\":{\"label\":{\"value\":\"Nearest location dinodata\"},\"renderers\":[{\"id\":\"3013efbd-2009-4c5a-9d6c-344e20405b3d\",\"type\":\"GlyphRenderer\"}]},\"id\":\"778681d3-15bf-4b03-b8b6-daed768b980b\",\"type\":\"LegendItem\"},{\"attributes\":{\"callback\":null},\"id\":\"536ff8ab-fa5f-429c-a049-5fba1be035a4\",\"type\":\"ColumnDataSource\"},{\"attributes\":{\"label\":{\"value\":\"nap point near tide gauge\"},\"renderers\":[{\"id\":\"63d76ce0-7dc3-45ad-8850-ab3b17afac33\",\"type\":\"GlyphRenderer\"},{\"id\":\"264bf57c-7c8f-4bd8-ba51-d6a440d90bfd\",\"type\":\"GlyphRenderer\"},{\"id\":\"ae921ab8-5e9f-4ca6-ab09-1ee3efaed29e\",\"type\":\"GlyphRenderer\"},{\"id\":\"96589d39-9855-4eaf-85ea-9948284637f6\",\"type\":\"GlyphRenderer\"},{\"id\":\"6b48470c-6cb8-4aee-8675-05f5d06aa011\",\"type\":\"GlyphRenderer\"},{\"id\":\"9e61387b-de93-4507-b2b5-5b991726c051\",\"type\":\"GlyphRenderer\"},{\"id\":\"435a2ed0-d0a6-4a20-8526-7612007ceecd\",\"type\":\"GlyphRenderer\"},{\"id\":\"9600b8d7-84ec-48b6-ad08-b64065955398\",\"type\":\"GlyphRenderer\"},{\"id\":\"625b71c7-47f0-4b04-8532-122dee9f47f4\",\"type\":\"GlyphRenderer\"},{\"id\":\"4d17e25e-f5c5-4355-bdea-5b50595a4d54\",\"type\":\"GlyphRenderer\"},{\"id\":\"67b862da-4a0f-4a41-9e92-c9a09313e9ba\",\"type\":\"GlyphRenderer\"},{\"id\":\"666a191e-5099-410d-b607-c73333e69c1d\",\"type\":\"GlyphRenderer\"},{\"id\":\"1536b29b-8b71-497b-99f7-2d55e3faef2c\",\"type\":\"GlyphRenderer\"},{\"id\":\"ff056188-744d-4758-9f4c-52b75e8ec51b\",\"type\":\"GlyphRenderer\"},{\"id\":\"93814c6c-d270-4c1e-8fdd-ae9647185e0b\",\"type\":\"GlyphRenderer\"},{\"id\":\"2df15b5a-2ada-4d8a-b459-f3c44a2d8b8d\",\"type\":\"GlyphRenderer\"},{\"id\":\"15dc8f45-5230-4d73-82cb-9f7df0040aa7\",\"type\":\"GlyphRenderer\"},{\"id\":\"483a20b5-1abe-4e92-b798-63452790e6bc\",\"type\":\"GlyphRenderer\"},{\"id\":\"76216a50-d428-44c5-abd9-2aec7c65540a\",\"type\":\"GlyphRenderer\"},{\"id\":\"9a2141f3-27f4-4d2d-a08d-a63e5b53743a\",\"type\":\"GlyphRenderer\"},{\"id\":\"3ad4a266-a1a0-401d-9b2c-e7ed0d4c18be\",\"type\":\"GlyphRenderer\"},{\"id\":\"2bb97f74-0f0d-4535-836b-7471e8ba4234\",\"type\":\"GlyphRenderer\"},{\"id\":\"e8f7ff6d-3231-4cbb-b8b6-0cc333617091\",\"type\":\"GlyphRenderer\"},{\"id\":\"9796efcc-839b-4923-af80-8652082985ef\",\"type\":\"GlyphRenderer\"},{\"id\":\"e1f89d35-3059-4c8b-af12-b9f6d1887c68\",\"type\":\"GlyphRenderer\"},{\"id\":\"88250ec8-c42c-47b4-9cac-d6a98485cf81\",\"type\":\"GlyphRenderer\"},{\"id\":\"687d2f8b-63c4-4c60-92e0-9b5211598982\",\"type\":\"GlyphRenderer\"},{\"id\":\"516bcfb6-9f64-4e9c-80ae-c7ecc8094d8e\",\"type\":\"GlyphRenderer\"},{\"id\":\"61cbaae1-e48a-4bfc-b5df-141bd3b151d3\",\"type\":\"GlyphRenderer\"},{\"id\":\"c36fd834-f4b8-4201-aa0e-9d0ad5c3aac6\",\"type\":\"GlyphRenderer\"}]},\"id\":\"ed6abe12-4604-4d63-a323-8df27ee3c9ab\",\"type\":\"LegendItem\"},{\"attributes\":{\"data_source\":{\"id\":\"b577c4ed-8d13-43fd-93e6-3a82e10a766f\",\"type\":\"ColumnDataSource\"},\"glyph\":{\"id\":\"7e759d2e-20a9-403f-b777-9270012a3122\",\"type\":\"Circle\"},\"hover_glyph\":null,\"nonselection_glyph\":{\"id\":\"c0c10892-1f02-45ce-8f25-a15e095a8eaa\",\"type\":\"Circle\"},\"selection_glyph\":null},\"id\":\"ae921ab8-5e9f-4ca6-ab09-1ee3efaed29e\",\"type\":\"GlyphRenderer\"},{\"attributes\":{\"data_source\":{\"id\":\"9bbf2fe9-707e-48eb-9e79-43d3ac375872\",\"type\":\"ColumnDataSource\"},\"glyph\":{\"id\":\"32e2ed2d-46e3-4789-9e00-368523868496\",\"type\":\"Circle\"},\"hover_glyph\":null,\"nonselection_glyph\":{\"id\":\"ecc37cef-968c-4c55-ba12-4ba419a86b53\",\"type\":\"Circle\"},\"selection_glyph\":null},\"id\":\"63d76ce0-7dc3-45ad-8850-ab3b17afac33\",\"type\":\"GlyphRenderer\"},{\"attributes\":{\"fill_color\":{\"value\":\"black\"},\"size\":{\"units\":\"screen\",\"value\":3},\"x\":{\"value\":770646.7479544136},\"y\":{\"value\":7043970.737896627}},\"id\":\"0afa6169-14bb-4096-bd4a-6889e7f905be\",\"type\":\"Circle\"},{\"attributes\":{\"fill_alpha\":{\"value\":0.1},\"fill_color\":{\"value\":\"#1f77b4\"},\"line_alpha\":{\"value\":0.1},\"line_color\":{\"value\":\"#1f77b4\"},\"size\":{\"units\":\"screen\",\"value\":3},\"x\":{\"value\":770646.7479544136},\"y\":{\"value\":7043970.737896627}},\"id\":\"a93fe619-da91-48c2-bcf8-44bae3db0a94\",\"type\":\"Circle\"},{\"attributes\":{\"data_source\":{\"id\":\"536ff8ab-fa5f-429c-a049-5fba1be035a4\",\"type\":\"ColumnDataSource\"},\"glyph\":{\"id\":\"0afa6169-14bb-4096-bd4a-6889e7f905be\",\"type\":\"Circle\"},\"hover_glyph\":null,\"nonselection_glyph\":{\"id\":\"a93fe619-da91-48c2-bcf8-44bae3db0a94\",\"type\":\"Circle\"},\"selection_glyph\":null},\"id\":\"6b48470c-6cb8-4aee-8675-05f5d06aa011\",\"type\":\"GlyphRenderer\"},{\"attributes\":{\"callback\":null},\"id\":\"8c9c289a-a688-44cf-a2e0-0ef84a9efa6a\",\"type\":\"ColumnDataSource\"},{\"attributes\":{\"data_source\":{\"id\":\"39749beb-b9a3-4b11-aebb-eace1021aa54\",\"type\":\"ColumnDataSource\"},\"glyph\":{\"id\":\"df2c4dd3-4e66-43f2-8eba-b11a7be0627b\",\"type\":\"Circle\"},\"hover_glyph\":null,\"nonselection_glyph\":{\"id\":\"cddb1711-ce00-448c-bad8-1a85af591ed5\",\"type\":\"Circle\"},\"selection_glyph\":null},\"id\":\"93814c6c-d270-4c1e-8fdd-ae9647185e0b\",\"type\":\"GlyphRenderer\"},{\"attributes\":{\"fill_alpha\":{\"value\":0.1},\"fill_color\":{\"value\":\"#1f77b4\"},\"line_alpha\":{\"value\":0.1},\"line_color\":{\"value\":\"#1f77b4\"},\"size\":{\"units\":\"screen\",\"value\":3},\"x\":{\"value\":528112.4087276196},\"y\":{\"value\":6976191.238679057}},\"id\":\"468ab1d9-2b0a-4b5b-94e7-a643e3f623aa\",\"type\":\"Circle\"},{\"attributes\":{\"data_source\":{\"id\":\"8c9c289a-a688-44cf-a2e0-0ef84a9efa6a\",\"type\":\"ColumnDataSource\"},\"glyph\":{\"id\":\"62dc8c90-c725-4c13-9ac8-1031440c3202\",\"type\":\"Circle\"},\"hover_glyph\":null,\"nonselection_glyph\":{\"id\":\"468ab1d9-2b0a-4b5b-94e7-a643e3f623aa\",\"type\":\"Circle\"},\"selection_glyph\":null},\"id\":\"9e61387b-de93-4507-b2b5-5b991726c051\",\"type\":\"GlyphRenderer\"},{\"attributes\":{\"callback\":null},\"id\":\"18da142a-21dc-4455-9d90-e831b350de34\",\"type\":\"ColumnDataSource\"},{\"attributes\":{\"fill_color\":{\"value\":\"black\"},\"size\":{\"units\":\"screen\",\"value\":3},\"x\":{\"value\":528112.4087276196},\"y\":{\"value\":6976191.238679057}},\"id\":\"818b679a-8386-49f8-b29d-15ce554edddd\",\"type\":\"Circle\"},{\"attributes\":{\"fill_alpha\":{\"value\":0.1},\"fill_color\":{\"value\":\"#1f77b4\"},\"line_alpha\":{\"value\":0.1},\"line_color\":{\"value\":\"#1f77b4\"},\"size\":{\"units\":\"screen\",\"value\":3},\"x\":{\"value\":528112.4087276196},\"y\":{\"value\":6976191.238679057}},\"id\":\"18d8b6b4-8ffc-4902-ae5d-0c55e24a1900\",\"type\":\"Circle\"},{\"attributes\":{\"data_source\":{\"id\":\"18da142a-21dc-4455-9d90-e831b350de34\",\"type\":\"ColumnDataSource\"},\"glyph\":{\"id\":\"818b679a-8386-49f8-b29d-15ce554edddd\",\"type\":\"Circle\"},\"hover_glyph\":null,\"nonselection_glyph\":{\"id\":\"18d8b6b4-8ffc-4902-ae5d-0c55e24a1900\",\"type\":\"Circle\"},\"selection_glyph\":null},\"id\":\"435a2ed0-d0a6-4a20-8526-7612007ceecd\",\"type\":\"GlyphRenderer\"},{\"attributes\":{\"callback\":null},\"id\":\"f6f4ad76-9f33-4fbb-ad3f-40d1bd0341b3\",\"type\":\"ColumnDataSource\"},{\"attributes\":{\"fill_color\":{\"value\":\"black\"},\"size\":{\"units\":\"screen\",\"value\":3},\"x\":{\"value\":528095.842114845},\"y\":{\"value\":6976191.090692486}},\"id\":\"3a82a7b5-ca19-42da-8509-8728a3463f1c\",\"type\":\"Circle\"},{\"attributes\":{\"fill_alpha\":{\"value\":0.1},\"fill_color\":{\"value\":\"#1f77b4\"},\"line_alpha\":{\"value\":0.1},\"line_color\":{\"value\":\"#1f77b4\"},\"size\":{\"units\":\"screen\",\"value\":3},\"x\":{\"value\":528095.842114845},\"y\":{\"value\":6976191.090692486}},\"id\":\"bacb114d-391c-46fb-bac8-f72f96f5c633\",\"type\":\"Circle\"},{\"attributes\":{\"data_source\":{\"id\":\"f6f4ad76-9f33-4fbb-ad3f-40d1bd0341b3\",\"type\":\"ColumnDataSource\"},\"glyph\":{\"id\":\"3a82a7b5-ca19-42da-8509-8728a3463f1c\",\"type\":\"Circle\"},\"hover_glyph\":null,\"nonselection_glyph\":{\"id\":\"bacb114d-391c-46fb-bac8-f72f96f5c633\",\"type\":\"Circle\"},\"selection_glyph\":null},\"id\":\"9600b8d7-84ec-48b6-ad08-b64065955398\",\"type\":\"GlyphRenderer\"},{\"attributes\":{\"callback\":null},\"id\":\"f717e94f-0607-4a13-aa30-ecf90891fb63\",\"type\":\"ColumnDataSource\"},{\"attributes\":{\"fill_color\":{\"value\":\"black\"},\"size\":{\"units\":\"screen\",\"value\":3},\"x\":{\"value\":527748.6851999831},\"y\":{\"value\":6976104.9399687145}},\"id\":\"9cc5d8f0-6fc5-42d2-9ced-5dd362b9e906\",\"type\":\"Circle\"},{\"attributes\":{\"fill_alpha\":{\"value\":0.1},\"fill_color\":{\"value\":\"#1f77b4\"},\"line_alpha\":{\"value\":0.1},\"line_color\":{\"value\":\"#1f77b4\"},\"size\":{\"units\":\"screen\",\"value\":3},\"x\":{\"value\":527748.6851999831},\"y\":{\"value\":6976104.9399687145}},\"id\":\"f59ea153-9ae2-40fd-bd06-08dd10705c22\",\"type\":\"Circle\"},{\"attributes\":{\"data_source\":{\"id\":\"f717e94f-0607-4a13-aa30-ecf90891fb63\",\"type\":\"ColumnDataSource\"},\"glyph\":{\"id\":\"9cc5d8f0-6fc5-42d2-9ced-5dd362b9e906\",\"type\":\"Circle\"},\"hover_glyph\":null,\"nonselection_glyph\":{\"id\":\"f59ea153-9ae2-40fd-bd06-08dd10705c22\",\"type\":\"Circle\"},\"selection_glyph\":null},\"id\":\"625b71c7-47f0-4b04-8532-122dee9f47f4\",\"type\":\"GlyphRenderer\"},{\"attributes\":{\"callback\":null},\"id\":\"f8314f07-18f3-4afc-ae2b-1e7fe1da0e1c\",\"type\":\"ColumnDataSource\"},{\"attributes\":{\"fill_color\":{\"value\":\"black\"},\"size\":{\"units\":\"screen\",\"value\":3},\"x\":{\"value\":529157.5612617946},\"y\":{\"value\":6976034.422863489}},\"id\":\"65d95afd-fed5-49dc-b65d-3d694bfaac3f\",\"type\":\"Circle\"},{\"attributes\":{\"fill_alpha\":{\"value\":0.1},\"fill_color\":{\"value\":\"#1f77b4\"},\"line_alpha\":{\"value\":0.1},\"line_color\":{\"value\":\"#1f77b4\"},\"size\":{\"units\":\"screen\",\"value\":3},\"x\":{\"value\":529157.5612617946},\"y\":{\"value\":6976034.422863489}},\"id\":\"e367bfa1-8f81-420d-aa5d-56601fc52ff0\",\"type\":\"Circle\"},{\"attributes\":{\"data_source\":{\"id\":\"f8314f07-18f3-4afc-ae2b-1e7fe1da0e1c\",\"type\":\"ColumnDataSource\"},\"glyph\":{\"id\":\"65d95afd-fed5-49dc-b65d-3d694bfaac3f\",\"type\":\"Circle\"},\"hover_glyph\":null,\"nonselection_glyph\":{\"id\":\"e367bfa1-8f81-420d-aa5d-56601fc52ff0\",\"type\":\"Circle\"},\"selection_glyph\":null},\"id\":\"4d17e25e-f5c5-4355-bdea-5b50595a4d54\",\"type\":\"GlyphRenderer\"},{\"attributes\":{\"callback\":null},\"id\":\"7a2208cd-fa4c-4210-9b00-c90af1bbc1aa\",\"type\":\"ColumnDataSource\"},{\"attributes\":{\"fill_color\":{\"value\":\"black\"},\"size\":{\"units\":\"screen\",\"value\":3},\"x\":{\"value\":602298.4051168788},\"y\":{\"value\":7015635.186973086}},\"id\":\"97e7e137-ff0a-451d-977d-b9525f26261f\",\"type\":\"Circle\"},{\"attributes\":{\"fill_alpha\":{\"value\":0.1},\"fill_color\":{\"value\":\"#1f77b4\"},\"line_alpha\":{\"value\":0.1},\"line_color\":{\"value\":\"#1f77b4\"},\"size\":{\"units\":\"screen\",\"value\":3},\"x\":{\"value\":602298.4051168788},\"y\":{\"value\":7015635.186973086}},\"id\":\"940b1184-0eac-4295-814d-1000fbaff908\",\"type\":\"Circle\"},{\"attributes\":{\"data_source\":{\"id\":\"7a2208cd-fa4c-4210-9b00-c90af1bbc1aa\",\"type\":\"ColumnDataSource\"},\"glyph\":{\"id\":\"97e7e137-ff0a-451d-977d-b9525f26261f\",\"type\":\"Circle\"},\"hover_glyph\":null,\"nonselection_glyph\":{\"id\":\"940b1184-0eac-4295-814d-1000fbaff908\",\"type\":\"Circle\"},\"selection_glyph\":null},\"id\":\"67b862da-4a0f-4a41-9e92-c9a09313e9ba\",\"type\":\"GlyphRenderer\"},{\"attributes\":{\"callback\":null},\"id\":\"a594f2b3-c40e-4bcd-a8dd-8345f31622af\",\"type\":\"ColumnDataSource\"},{\"attributes\":{\"fill_color\":{\"value\":\"black\"},\"size\":{\"units\":\"screen\",\"value\":3},\"x\":{\"value\":602398.2758218915},\"y\":{\"value\":7015568.397241201}},\"id\":\"21e200f3-5b14-4e3b-8b5e-ec25bc841702\",\"type\":\"Circle\"},{\"attributes\":{\"fill_alpha\":{\"value\":0.1},\"fill_color\":{\"value\":\"#1f77b4\"},\"line_alpha\":{\"value\":0.1},\"line_color\":{\"value\":\"#1f77b4\"},\"size\":{\"units\":\"screen\",\"value\":3},\"x\":{\"value\":602398.2758218915},\"y\":{\"value\":7015568.397241201}},\"id\":\"35eb98ff-689a-4067-b624-0a434a40d683\",\"type\":\"Circle\"},{\"attributes\":{\"data_source\":{\"id\":\"a594f2b3-c40e-4bcd-a8dd-8345f31622af\",\"type\":\"ColumnDataSource\"},\"glyph\":{\"id\":\"21e200f3-5b14-4e3b-8b5e-ec25bc841702\",\"type\":\"Circle\"},\"hover_glyph\":null,\"nonselection_glyph\":{\"id\":\"35eb98ff-689a-4067-b624-0a434a40d683\",\"type\":\"Circle\"},\"selection_glyph\":null},\"id\":\"666a191e-5099-410d-b607-c73333e69c1d\",\"type\":\"GlyphRenderer\"},{\"attributes\":{\"callback\":null},\"id\":\"7b8c6822-0752-45e8-b161-dd2d68083974\",\"type\":\"ColumnDataSource\"},{\"attributes\":{\"fill_color\":{\"value\":\"black\"},\"size\":{\"units\":\"screen\",\"value\":3},\"x\":{\"value\":602564.4641191232},\"y\":{\"value\":7014733.929884442}},\"id\":\"794149bf-cee1-446c-b87e-9467dac981d0\",\"type\":\"Circle\"},{\"attributes\":{\"fill_alpha\":{\"value\":0.1},\"fill_color\":{\"value\":\"#1f77b4\"},\"line_alpha\":{\"value\":0.1},\"line_color\":{\"value\":\"#1f77b4\"},\"size\":{\"units\":\"screen\",\"value\":3},\"x\":{\"value\":602564.4641191232},\"y\":{\"value\":7014733.929884442}},\"id\":\"a6598b82-8b6f-461c-9d07-8e09ed405d3a\",\"type\":\"Circle\"},{\"attributes\":{\"data_source\":{\"id\":\"7b8c6822-0752-45e8-b161-dd2d68083974\",\"type\":\"ColumnDataSource\"},\"glyph\":{\"id\":\"794149bf-cee1-446c-b87e-9467dac981d0\",\"type\":\"Circle\"},\"hover_glyph\":null,\"nonselection_glyph\":{\"id\":\"a6598b82-8b6f-461c-9d07-8e09ed405d3a\",\"type\":\"Circle\"},\"selection_glyph\":null},\"id\":\"1536b29b-8b71-497b-99f7-2d55e3faef2c\",\"type\":\"GlyphRenderer\"},{\"attributes\":{\"callback\":null},\"id\":\"40f2cc9e-5fd6-4c1c-8cb6-38dbe716f378\",\"type\":\"ColumnDataSource\"},{\"attributes\":{\"fill_color\":{\"value\":\"black\"},\"size\":{\"units\":\"screen\",\"value\":3},\"x\":{\"value\":602780.8816648744},\"y\":{\"value\":7014750.536358327}},\"id\":\"82157eed-7f8a-437c-97ba-ecf1ab1d1796\",\"type\":\"Circle\"},{\"attributes\":{\"fill_alpha\":{\"value\":0.1},\"fill_color\":{\"value\":\"#1f77b4\"},\"line_alpha\":{\"value\":0.1},\"line_color\":{\"value\":\"#1f77b4\"},\"size\":{\"units\":\"screen\",\"value\":3},\"x\":{\"value\":602780.8816648744},\"y\":{\"value\":7014750.536358327}},\"id\":\"29847d8e-382d-4537-b150-19110e764147\",\"type\":\"Circle\"},{\"attributes\":{\"data_source\":{\"id\":\"40f2cc9e-5fd6-4c1c-8cb6-38dbe716f378\",\"type\":\"ColumnDataSource\"},\"glyph\":{\"id\":\"82157eed-7f8a-437c-97ba-ecf1ab1d1796\",\"type\":\"Circle\"},\"hover_glyph\":null,\"nonselection_glyph\":{\"id\":\"29847d8e-382d-4537-b150-19110e764147\",\"type\":\"Circle\"},\"selection_glyph\":null},\"id\":\"ff056188-744d-4758-9f4c-52b75e8ec51b\",\"type\":\"GlyphRenderer\"},{\"attributes\":{\"callback\":null},\"id\":\"39749beb-b9a3-4b11-aebb-eace1021aa54\",\"type\":\"ColumnDataSource\"},{\"attributes\":{\"fill_color\":{\"value\":\"black\"},\"size\":{\"units\":\"screen\",\"value\":3},\"x\":{\"value\":603230.4990811645},\"y\":{\"value\":7015084.103682027}},\"id\":\"df2c4dd3-4e66-43f2-8eba-b11a7be0627b\",\"type\":\"Circle\"},{\"attributes\":{\"fill_alpha\":{\"value\":0.1},\"fill_color\":{\"value\":\"#1f77b4\"},\"line_alpha\":{\"value\":0.1},\"line_color\":{\"value\":\"#1f77b4\"},\"size\":{\"units\":\"screen\",\"value\":3},\"x\":{\"value\":603230.4990811645},\"y\":{\"value\":7015084.103682027}},\"id\":\"cddb1711-ce00-448c-bad8-1a85af591ed5\",\"type\":\"Circle\"}],\"root_ids\":[\"cd658a1b-cc6b-441a-b02a-15450f437ba1\"]},\"title\":\"Bokeh Application\",\"version\":\"0.12.4\"}};\n",
       "            var render_items = [{\"docid\":\"5f2ae3a8-a4ec-41b6-b085-94d35f0ab85f\",\"elementid\":\"8cecb712-65ca-48fa-a494-449a1739fca4\",\"modelid\":\"cd658a1b-cc6b-441a-b02a-15450f437ba1\"}];\n",
       "            \n",
       "            Bokeh.embed.embed_items(docs_json, render_items);\n",
       "          };\n",
       "          if (document.readyState != \"loading\") fn();\n",
       "          else document.addEventListener(\"DOMContentLoaded\", fn);\n",
       "        })();\n",
       "      },\n",
       "      function(Bokeh) {\n",
       "      }\n",
       "    ];\n",
       "  \n",
       "    function run_inline_js() {\n",
       "      \n",
       "      if ((window.Bokeh !== undefined) || (force === true)) {\n",
       "        for (var i = 0; i < inline_js.length; i++) {\n",
       "          inline_js[i](window.Bokeh);\n",
       "        }if (force === true) {\n",
       "          display_loaded();\n",
       "        }} else if (Date.now() < window._bokeh_timeout) {\n",
       "        setTimeout(run_inline_js, 100);\n",
       "      } else if (!window._bokeh_failed_load) {\n",
       "        console.log(\"Bokeh: BokehJS failed to load within specified timeout.\");\n",
       "        window._bokeh_failed_load = true;\n",
       "      } else if (force !== true) {\n",
       "        var cell = $(document.getElementById(\"8cecb712-65ca-48fa-a494-449a1739fca4\")).parents('.cell').data().cell;\n",
       "        cell.output_area.append_execute_result(NB_LOAD_WARNING)\n",
       "      }\n",
       "  \n",
       "    }\n",
       "  \n",
       "    if (window._bokeh_is_loading === 0) {\n",
       "      console.log(\"Bokeh: BokehJS loaded, going straight to plotting\");\n",
       "      run_inline_js();\n",
       "    } else {\n",
       "      load_libs(js_urls, function() {\n",
       "        console.log(\"Bokeh: BokehJS plotting callback run at\", now());\n",
       "        run_inline_js();\n",
       "      });\n",
       "    }\n",
       "  }(this));\n",
       "</script>"
      ]
     },
     "metadata": {},
     "output_type": "display_data"
    }
   ],
   "source": [
    "bokeh.plotting.show(p)"
   ]
  },
  {
   "cell_type": "markdown",
   "metadata": {
    "deletable": true,
    "editable": true
   },
   "source": [
    "# Overview per station\n",
    "In this part of the report we summarize all the information per tide gauge. We use a template to generate a report. All the information that is presented is calculated above. If you want to reproduce this information download the notebook, install the relevant depencies, for example using anaconda and run the notebook. Some data that is used offline can be downloaded using the makefiles in the `data` directory. \n",
    "We also create a plot for each station. Notice that some of the subsoil information does not align with the tide gauge. This is due to the mismatch of the tide gauge location on side and the subsoil measurements and subsoil grid points on the other side. So please interpret with care."
   ]
  },
  {
   "cell_type": "code",
   "execution_count": 21,
   "metadata": {
    "collapsed": true,
    "deletable": true,
    "editable": true,
    "hide_input": true
   },
   "outputs": [],
   "source": [
    "template = \"\"\"\n",
    "<%!\n",
    "f3 = lambda x: \"{:.3f}\".format(float(x))\n",
    "f0 = lambda x: \"{:.0f}\".format(float(x))\n",
    "%>\n",
    "\n",
    "<h2>${station['location']} <a id=\"${station.index}\"></a></h2>\n",
    "\n",
    "<style>\n",
    ".right.template {\n",
    "  float: right;\n",
    "}\n",
    ".template img {\n",
    "  max-width: 300px !important;\n",
    "}\n",
    "</style>\n",
    "<figure class=\"right template\" >\n",
    "    <img src=\"${station['img']}\" />\n",
    "    <figcaption>Photo of tide gauge at ${station['location']}, &copy; CIV, RWS</figcaption>\n",
    "</figure>\n",
    "\n",
    "<dl>\n",
    "<dt>Location (lat, lon)</dt>\n",
    "<dd>${station['lat'] | f3}, ${station['lon'] | f3}</dd>\n",
    "<dt>Location (Rijksdriehoek)</dt>\n",
    "<dd>${station['x_rd'] | f0}, ${station['y_rd'] | f0}</dd>\n",
    "<dt>PSMSL-ID</dt>\n",
    "<dd><a href=\"http://www.psmsl.org/data/obtaining/stations/${station['psmsl_id']}.php\">${station['psmsl_id']}</a></dd>\n",
    "<dt>Description</dt>\n",
    "<dd>${station['summary']}</dd>\n",
    "<dt>History</dt>\n",
    "<dd><pre>${station['psmsl_info']}</pre></dd>\n",
    "<dt>Nap info</dt>\n",
    "<dd><pre>\n",
    "% for nap_feature in station['nap']:\n",
    "${nap_feature['properties']['pub_tekst']} @ ${nap_feature['properties']['nap_hoogte']} (class: ${nap_feature['properties']['orde']}, distance: ${nap_feature['properties']['distance'] | f0}m)\n",
    "% endfor\n",
    "</pre></dd>\n",
    "</dl>\n",
    "\n",
    "Other relevant links:\n",
    "- <a href='http://a360.co/2s8ltK7'>Autocad drawing</a> of the construction.\n",
    "\"\"\""
   ]
  },
  {
   "cell_type": "code",
   "execution_count": 22,
   "metadata": {
    "collapsed": true,
    "deletable": true,
    "editable": true,
    "hide_input": true
   },
   "outputs": [],
   "source": [
    "T = mako.template.Template(text=template)\n",
    "\n",
    "def summary(station):\n",
    "    return IPython.display.Markdown(T.render(station=stations_df.ix[station]))"
   ]
  },
  {
   "cell_type": "code",
   "execution_count": 23,
   "metadata": {
    "collapsed": true,
    "deletable": true,
    "editable": true,
    "hide_input": true,
    "scrolled": false
   },
   "outputs": [],
   "source": [
    "def plot_station(code, stations_df=stations_df):\n",
    "    station = stations_df.ix[code]\n",
    "    \n",
    "    # filter out masked data (no known litho)\n",
    "    litho_ma = np.ma.masked_invalid(station['lithok']['litho'])\n",
    "    litho = litho_ma[~litho_ma.mask]\n",
    "    z = station['lithok']['z'][~litho_ma.mask]\n",
    "\n",
    "    foundation_low = np.ma.masked_invalid(station['foundation_low'])\n",
    "    station_low = np.ma.masked_invalid(station['station_low'])\n",
    "    station_high = np.ma.masked_invalid(station['station_high'])\n",
    "\n",
    "    fig = plt.figure(figsize=(13, 8))\n",
    "    gs = matplotlib.gridspec.GridSpec(1, 2, width_ratios=[3, 1]) \n",
    "    ax1 = plt.subplot(gs[0])\n",
    "    ax1.bar(\n",
    "        np.zeros_like(z), \n",
    "        np.gradient(z), \n",
    "        0.8, \n",
    "        bottom=z,\n",
    "        color=[colors[i] for i in litho]\n",
    "    )    \n",
    "    \n",
    "    ax1.plot((0, 0), [foundation_low, station_low], 'k', lw=5, alpha=0.5)\n",
    "    ax1.plot([0, 0], [station_low, station_high], 'k', lw=15, alpha=0.5)\n",
    "    ax1.axhline(0, color='b', ls='--')\n",
    "    ax1.set_title(('station ' + station.Naam))\n",
    "    ax1.set_xlim(-0.1, 0.1)\n",
    "    ax1.set_ylim(-50, 20)\n",
    "    ax1.set_xticks([])\n",
    "    ax1.set_ylabel('[m] relative to NAP')\n",
    "\n",
    "    # plot in the 2nd axis to generate a legend\n",
    "    ax2 = plt.subplot(gs[1])\n",
    "    for label in labels:\n",
    "        if label == 4:\n",
    "            continue\n",
    "        ax2.plot(0, 0, color=colors[label], label=labels[label])\n",
    "    ax2.plot(0, 0, color='b', label='0m NAP', ls='--')\n",
    "    ax2.legend(loc='center')\n",
    "    ax2.axis('off')"
   ]
  },
  {
   "cell_type": "code",
   "execution_count": 24,
   "metadata": {
    "collapsed": false,
    "deletable": true,
    "editable": true,
    "hide_input": true,
    "scrolled": false
   },
   "outputs": [
    {
     "data": {
      "text/markdown": [
       "\n",
       "\n",
       "\n",
       "<h2>Delfzijl <a id=\"Index(['Coordinatenstelsel', 'Locatie_MessageID', 'Naam', 'X', 'Y', 'autocad',\n",
       "       'foundation_low', 'img', 'links', 'location', 'nulpaal', 'psmsl_id',\n",
       "       'rlr2nap', 'station_high', 'station_low', 'summary', 'psmsl_img',\n",
       "       'psmsl_info', 'x_rd', 'y_rd', 'lon', 'lat', 'x_webm', 'y_webm',\n",
       "       'dino_idx', 'x_dino', 'y_dino', 'x_dino_webm', 'y_dino_webm', 'lithok',\n",
       "       'nap', 'ahn'],\n",
       "      dtype='object')\"></a></h2>\n",
       "\n",
       "<style>\n",
       ".right.template {\n",
       "  float: right;\n",
       "}\n",
       ".template img {\n",
       "  max-width: 300px !important;\n",
       "}\n",
       "</style>\n",
       "<figure class=\"right template\" >\n",
       "    <img src=\"http://www.openearth.nl/sealevel/static/images/DELFZL.jpg\" />\n",
       "    <figcaption>Photo of tide gauge at Delfzijl, &copy; CIV, RWS</figcaption>\n",
       "</figure>\n",
       "\n",
       "<dl>\n",
       "<dt>Location (lat, lon)</dt>\n",
       "<dd>53.326, 6.933</dd>\n",
       "<dt>Location (Rijksdriehoek)</dt>\n",
       "<dd>258000, 594430</dd>\n",
       "<dt>PSMSL-ID</dt>\n",
       "<dd><a href=\"http://www.psmsl.org/data/obtaining/stations/24.php\">24</a></dd>\n",
       "<dt>Description</dt>\n",
       "<dd>The tidal measurement station in Delfzijl is located in the harbour of Delfzijl. Category 'Peilmeetstation'. The station has a main building with a foundation on a steel round pole (inner width = 2.3m, outer width 2.348m) reaching to a depth of -20m NAP. The Building is placed in the harbour and is connected to the main land by means of a steel stairs towards a quay. Which has also a foundation on steel poles. Peilbout is inside the construction attached to the wall. Every ten minutes the water level relative to NAP is measured. Between -4 and -5 m depth concrete seals of the underwater chamber. </dd>\n",
       "<dt>History</dt>\n",
       "<dd><pre>Add 6.815m to data up to 2005 to refer to RLR (2007)\r\n",
       "Add 6.823m to data 2005 onwards to refer to RLR (2007)\r\n",
       "RLR (2007) is 11.1m below TGBM\r\n",
       "</pre></dd>\n",
       "<dt>Nap info</dt>\n",
       "<dd><pre>\n",
       "TRAFO NR:31141 A/D VISSERIJWEG @ 5.267 (class: 2, distance: 170m)\n",
       "ZO-HFD BR O/H EEMSKN @ 1.836 (class: 2, distance: 473m)\n",
       "KNT MOLENSTR 2, R. V/D INGANG @ 2.741 (class: 2, distance: 497m)\n",
       "ZO-VL.GROTE WATERPOORT I/D BANDIJK, NW- ZIJDE HAVEN @ 3.183 (class: 2, distance: 595m)\n",
       "HS RIJKSWG 7 @ 1.147 (class: 2, distance: 721m)\n",
       "</pre></dd>\n",
       "</dl>\n",
       "\n",
       "Other relevant links:\n",
       "- <a href='http://a360.co/2s8ltK7'>Autocad drawing</a> of the construction.\n"
      ],
      "text/plain": [
       "<IPython.core.display.Markdown object>"
      ]
     },
     "metadata": {},
     "output_type": "display_data"
    },
    {
     "data": {
      "image/png": "[encoded data removed]",
      "text/plain": [
       "<matplotlib.figure.Figure at 0x4a36cc0>"
      ]
     },
     "metadata": {},
     "output_type": "display_data"
    }
   ],
   "source": [
    "station = 'DELFZL'\n",
    "IPython.display.display(summary(station))\n",
    "plot_station(station)"
   ]
  },
  {
   "cell_type": "code",
   "execution_count": 25,
   "metadata": {
    "collapsed": false,
    "deletable": true,
    "editable": true,
    "hide_input": true,
    "scrolled": false
   },
   "outputs": [
    {
     "data": {
      "text/markdown": [
       "\n",
       "\n",
       "\n",
       "<h2>Den Helder <a id=\"Index(['Coordinatenstelsel', 'Locatie_MessageID', 'Naam', 'X', 'Y', 'autocad',\n",
       "       'foundation_low', 'img', 'links', 'location', 'nulpaal', 'psmsl_id',\n",
       "       'rlr2nap', 'station_high', 'station_low', 'summary', 'psmsl_img',\n",
       "       'psmsl_info', 'x_rd', 'y_rd', 'lon', 'lat', 'x_webm', 'y_webm',\n",
       "       'dino_idx', 'x_dino', 'y_dino', 'x_dino_webm', 'y_dino_webm', 'lithok',\n",
       "       'nap', 'ahn'],\n",
       "      dtype='object')\"></a></h2>\n",
       "\n",
       "<style>\n",
       ".right.template {\n",
       "  float: right;\n",
       "}\n",
       ".template img {\n",
       "  max-width: 300px !important;\n",
       "}\n",
       "</style>\n",
       "<figure class=\"right template\" >\n",
       "    <img src=\"http://www.openearth.nl/sealevel/static/images/DENHDR.jpg\" />\n",
       "    <figcaption>Photo of tide gauge at Den Helder, &copy; CIV, RWS</figcaption>\n",
       "</figure>\n",
       "\n",
       "<dl>\n",
       "<dt>Location (lat, lon)</dt>\n",
       "<dd>52.964, 4.745</dd>\n",
       "<dt>Location (Rijksdriehoek)</dt>\n",
       "<dd>111850, 553230</dd>\n",
       "<dt>PSMSL-ID</dt>\n",
       "<dd><a href=\"http://www.psmsl.org/data/obtaining/stations/23.php\">23</a></dd>\n",
       "<dt>Description</dt>\n",
       "<dd>This station is located in the dike of Den Helder. The station has a pipe through the dike towards the sea for the measurement of the water level. The inlet of this pipe is at -3.25m NAP. There is a seperate construction for the ventilation of the main building. Furthermore the peilbout is located outside the main building at the opposite side of the dike. The main construction has a foundation of steel sheet pilings forming a rectangle around the measurement instruments. Between -4 and -5 m depth concrete seals of the underwater chamber. </dd>\n",
       "<dt>History</dt>\n",
       "<dd><pre>Add 6.929m to data up to 2005 to refer to RLR (2007)\r\n",
       "Add 6.946m to data 2005 onwards to refer to RLR (2007)\r\n",
       "RLR (2007) is 13.2m below TGBM\r\n",
       "</pre></dd>\n",
       "<dt>Nap info</dt>\n",
       "<dd><pre>\n",
       "KNOP OP NWHK PEILSCHAAL KELDER @ 7.688 (class: 2, distance: 143m)\n",
       "KNOP OP NOHK PEILSCHAALKELDER @ 7.672 (class: 2, distance: 143m)\n",
       "PEILSCHAALHUISJE DEN HELDER @ 1.615 (class: 2, distance: 148m)\n",
       "GB \"DE SCHAAPSKOOI\" SCHAPENDIJKJE 6 @ 0.934 (class: 2, distance: 333m)\n",
       "VM RAADHS DEN HELDER @ 1.345 (class: 2, distance: 615m)\n",
       "</pre></dd>\n",
       "</dl>\n",
       "\n",
       "Other relevant links:\n",
       "- <a href='http://a360.co/2s8ltK7'>Autocad drawing</a> of the construction.\n"
      ],
      "text/plain": [
       "<IPython.core.display.Markdown object>"
      ]
     },
     "metadata": {},
     "output_type": "display_data"
    },
    {
     "data": {
      "image/png": "[encoded data removed]",
      "text/plain": [
       "<matplotlib.figure.Figure at 0x108b4cc0>"
      ]
     },
     "metadata": {},
     "output_type": "display_data"
    }
   ],
   "source": [
    "station = 'DENHDR'\n",
    "IPython.display.display(summary(station))\n",
    "plot_station(station)"
   ]
  },
  {
   "cell_type": "code",
   "execution_count": 26,
   "metadata": {
    "collapsed": false,
    "deletable": true,
    "editable": true,
    "hide_input": true,
    "scrolled": false
   },
   "outputs": [
    {
     "data": {
      "text/markdown": [
       "\n",
       "\n",
       "\n",
       "<h2>Harlingen <a id=\"Index(['Coordinatenstelsel', 'Locatie_MessageID', 'Naam', 'X', 'Y', 'autocad',\n",
       "       'foundation_low', 'img', 'links', 'location', 'nulpaal', 'psmsl_id',\n",
       "       'rlr2nap', 'station_high', 'station_low', 'summary', 'psmsl_img',\n",
       "       'psmsl_info', 'x_rd', 'y_rd', 'lon', 'lat', 'x_webm', 'y_webm',\n",
       "       'dino_idx', 'x_dino', 'y_dino', 'x_dino_webm', 'y_dino_webm', 'lithok',\n",
       "       'nap', 'ahn'],\n",
       "      dtype='object')\"></a></h2>\n",
       "\n",
       "<style>\n",
       ".right.template {\n",
       "  float: right;\n",
       "}\n",
       ".template img {\n",
       "  max-width: 300px !important;\n",
       "}\n",
       "</style>\n",
       "<figure class=\"right template\" >\n",
       "    <img src=\"http://www.openearth.nl/sealevel/static/images/DELFZL.jpg\" />\n",
       "    <figcaption>Photo of tide gauge at Harlingen, &copy; CIV, RWS</figcaption>\n",
       "</figure>\n",
       "\n",
       "<dl>\n",
       "<dt>Location (lat, lon)</dt>\n",
       "<dd>53.176, 5.409</dd>\n",
       "<dt>Location (Rijksdriehoek)</dt>\n",
       "<dd>156480, 576550</dd>\n",
       "<dt>PSMSL-ID</dt>\n",
       "<dd><a href=\"http://www.psmsl.org/data/obtaining/stations/25.php\">25</a></dd>\n",
       "<dt>Description</dt>\n",
       "<dd>The tidal station in Harlingen is located in a harbour on top of a boulevard. A pipe is going from the station at a depth of -2.56m NAP towards the sea. The inlet of the pipe is protected by a construction, so as to reduce the variations by the wave impact. The Main building has a foundation of a steel sheet pilings construction (rectangle inner dimensions 2.53 by 2.27m^2) surrounding the measurement instruments.</dd>\n",
       "<dt>History</dt>\n",
       "<dd><pre>Add 6.907m to data up to 2005 to refer to RLR (2007)\r\n",
       "Add 6.914m to data 2005 onwards to refer to RLR (2007)\r\n",
       "RLR (2007) is 13.9m below TGBM\r\n",
       "</pre></dd>\n",
       "<dt>Nap info</dt>\n",
       "<dd><pre>\n",
       "PSHS RWS W-Z WADDENPROMENADE 9 @ 6.125 (class: 2, distance: 94m)\n",
       "TOREN HAVENWACHT @ 6.454 (class: 2, distance: 140m)\n",
       "TRAFO NIEUWE WILLEMSKD 5 @ 3.955 (class: 2, distance: 546m)\n",
       "WK HAVENW 69 @ 3.392 (class: 2, distance: 606m)\n",
       "WK BROUWERSSTR 8 @ 1.715 (class: 2, distance: 699m)\n",
       "</pre></dd>\n",
       "</dl>\n",
       "\n",
       "Other relevant links:\n",
       "- <a href='http://a360.co/2s8ltK7'>Autocad drawing</a> of the construction.\n"
      ],
      "text/plain": [
       "<IPython.core.display.Markdown object>"
      ]
     },
     "metadata": {},
     "output_type": "display_data"
    },
    {
     "data": {
      "image/png": "[encoded data removed]",
      "text/plain": [
       "<matplotlib.figure.Figure at 0x10fc6c18>"
      ]
     },
     "metadata": {},
     "output_type": "display_data"
    }
   ],
   "source": [
    "station = 'HARLGN'\n",
    "IPython.display.display(summary(station))\n",
    "plot_station(station)"
   ]
  },
  {
   "cell_type": "code",
   "execution_count": 27,
   "metadata": {
    "collapsed": false,
    "deletable": true,
    "editable": true,
    "hide_input": true,
    "scrolled": true
   },
   "outputs": [
    {
     "data": {
      "text/markdown": [
       "\n",
       "\n",
       "\n",
       "<h2>Hoek van Holland <a id=\"Index(['Coordinatenstelsel', 'Locatie_MessageID', 'Naam', 'X', 'Y', 'autocad',\n",
       "       'foundation_low', 'img', 'links', 'location', 'nulpaal', 'psmsl_id',\n",
       "       'rlr2nap', 'station_high', 'station_low', 'summary', 'psmsl_img',\n",
       "       'psmsl_info', 'x_rd', 'y_rd', 'lon', 'lat', 'x_webm', 'y_webm',\n",
       "       'dino_idx', 'x_dino', 'y_dino', 'x_dino_webm', 'y_dino_webm', 'lithok',\n",
       "       'nap', 'ahn'],\n",
       "      dtype='object')\"></a></h2>\n",
       "\n",
       "<style>\n",
       ".right.template {\n",
       "  float: right;\n",
       "}\n",
       ".template img {\n",
       "  max-width: 300px !important;\n",
       "}\n",
       "</style>\n",
       "<figure class=\"right template\" >\n",
       "    <img src=\"http://www.openearth.nl/sealevel/static/images/HOEKVHLD.jpg\" />\n",
       "    <figcaption>Photo of tide gauge at Hoek van Holland, &copy; CIV, RWS</figcaption>\n",
       "</figure>\n",
       "\n",
       "<dl>\n",
       "<dt>Location (lat, lon)</dt>\n",
       "<dd>51.978, 4.120</dd>\n",
       "<dt>Location (Rijksdriehoek)</dt>\n",
       "<dd>67930, 444000</dd>\n",
       "<dt>PSMSL-ID</dt>\n",
       "<dd><a href=\"http://www.psmsl.org/data/obtaining/stations/22.php\">22</a></dd>\n",
       "<dt>Description</dt>\n",
       "<dd>The station in Hoek van Holland is located beside the Nieuwe Waterweg near the river mouth into the North Sea. The reference pole is situated outside the main building on the main land. The main building is connected to the main land by a steel bridge. The foundation of the main building is on steel poles. The building is a concrete structure reaching to a depth of -3.0 m NAP. This entire thing is enough for the measurement instruments to be placed inside. And the underwater chamber is then, in contrary to the other stations within the main building. The entire concrete structure has a foundation of multiple sheet piles. These are 8 concrete plates (8-sided) with a length of 14.1m. </dd>\n",
       "<dt>History</dt>\n",
       "<dd><pre>Add 6.845m to data up to 2005 to refer to RLR (2007)\r\n",
       "Add 6.873 to data 2005 onwards to refer to RLR (2007)\r\n",
       "RLR (2007) is 11.7m below TGBM\r\n",
       "</pre></dd>\n",
       "<dt>Nap info</dt>\n",
       "<dd><pre>\n",
       "BT IN BETON. FUNDERING TRAP PEILHUIS @ 4.333 (class: 2, distance: 10m)\n",
       "TRAFO R/V W-INGANG RWS-TERREIN BERGHAVEN @ 4.434 (class: 2, distance: 141m)\n",
       "KNT RWS,STATIONSW 61 @ 6.99 (class: 2, distance: 331m)\n",
       "STATIONSWG 132 @ 8.047 (class: 2, distance: 469m)\n",
       "GRONDANKER 25M ZW KONINGIN EMMABOULEVARD                                        (RD-PUNT 379346-11) @ 7.163 (class: 2, distance: 524m)\n",
       "</pre></dd>\n",
       "</dl>\n",
       "\n",
       "Other relevant links:\n",
       "- <a href='http://a360.co/2s8ltK7'>Autocad drawing</a> of the construction.\n"
      ],
      "text/plain": [
       "<IPython.core.display.Markdown object>"
      ]
     },
     "metadata": {},
     "output_type": "display_data"
    },
    {
     "data": {
      "image/png": "[encoded data removed]",
      "text/plain": [
       "<matplotlib.figure.Figure at 0x196cb400>"
      ]
     },
     "metadata": {},
     "output_type": "display_data"
    }
   ],
   "source": [
    "station = 'HOEKVHLD'\n",
    "IPython.display.display(summary(station))\n",
    "plot_station(station)"
   ]
  },
  {
   "cell_type": "code",
   "execution_count": 28,
   "metadata": {
    "collapsed": false,
    "deletable": true,
    "editable": true,
    "hide_input": true,
    "scrolled": false
   },
   "outputs": [
    {
     "data": {
      "text/markdown": [
       "\n",
       "\n",
       "\n",
       "<h2>IJmuiden <a id=\"Index(['Coordinatenstelsel', 'Locatie_MessageID', 'Naam', 'X', 'Y', 'autocad',\n",
       "       'foundation_low', 'img', 'links', 'location', 'nulpaal', 'psmsl_id',\n",
       "       'rlr2nap', 'station_high', 'station_low', 'summary', 'psmsl_img',\n",
       "       'psmsl_info', 'x_rd', 'y_rd', 'lon', 'lat', 'x_webm', 'y_webm',\n",
       "       'dino_idx', 'x_dino', 'y_dino', 'x_dino_webm', 'y_dino_webm', 'lithok',\n",
       "       'nap', 'ahn'],\n",
       "      dtype='object')\"></a></h2>\n",
       "\n",
       "<style>\n",
       ".right.template {\n",
       "  float: right;\n",
       "}\n",
       ".template img {\n",
       "  max-width: 300px !important;\n",
       "}\n",
       "</style>\n",
       "<figure class=\"right template\" >\n",
       "    <img src=\"http://www.openearth.nl/sealevel/static/images/IJMDBTHVN.jpg\" />\n",
       "    <figcaption>Photo of tide gauge at IJmuiden, &copy; CIV, RWS</figcaption>\n",
       "</figure>\n",
       "\n",
       "<dl>\n",
       "<dt>Location (lat, lon)</dt>\n",
       "<dd>52.462, 4.555</dd>\n",
       "<dt>Location (Rijksdriehoek)</dt>\n",
       "<dd>98430, 497500</dd>\n",
       "<dt>PSMSL-ID</dt>\n",
       "<dd><a href=\"http://www.psmsl.org/data/obtaining/stations/32.php\">32</a></dd>\n",
       "<dt>Description</dt>\n",
       "<dd>IJmuiden is located on the northern part of the marina in IJmuiden, near a breakwater. The main building is situated in the water and is connected by a steel stairs and bridge with the main land. The foundation of this building consists out a round steel sheet pile. The under water chamber is closed of with a concrete slab between -3.75m NAP and - 4.5m NAP. The sheet pile is extended to a depth of -13m NAP. IJmuiden has a GPS (GNSS) station attached to it.</dd>\n",
       "<dt>History</dt>\n",
       "<dd><pre>Add 6.929m to data up to 2005 to refer to RLR (2007)\r\n",
       "Add 6.950m to data 2005 onwards to refer to RLR (2007)\r\n",
       "RLR (2007) is 11.4m below TGBM\r\n",
       "</pre></dd>\n",
       "<dt>Nap info</dt>\n",
       "<dd><pre>\n",
       "LICHTBUNKER OP OUDE GED. Z-PIER @ 4.484 (class: 2, distance: 10m)\n",
       "N-HEKPOER V/D Z-PIER @ 5.003 (class: 2, distance: 108m)\n",
       "BOVENKANT Z-PIER, 0.95 M U/D Z-MR RD=   240323-11 @ 4.62 (class: 2, distance: 114m)\n",
       "TRAFO KENNEMERBOULEVARD 3\\t @ 4.13 (class: 2, distance: 338m)\n",
       "LICHTBUNKER OP OUDE GED. N-PIER @ 6.447 (class: 2, distance: 483m)\n",
       "</pre></dd>\n",
       "</dl>\n",
       "\n",
       "Other relevant links:\n",
       "- <a href='http://a360.co/2s8ltK7'>Autocad drawing</a> of the construction.\n"
      ],
      "text/plain": [
       "<IPython.core.display.Markdown object>"
      ]
     },
     "metadata": {},
     "output_type": "display_data"
    },
    {
     "data": {
      "image/png": "[encoded data removed]",
      "text/plain": [
       "<matplotlib.figure.Figure at 0x1969d9b0>"
      ]
     },
     "metadata": {},
     "output_type": "display_data"
    }
   ],
   "source": [
    "station = 'IJMDBTHVN'\n",
    "IPython.display.display(summary(station))\n",
    "plot_station(station)"
   ]
  },
  {
   "cell_type": "code",
   "execution_count": 29,
   "metadata": {
    "collapsed": false,
    "deletable": true,
    "editable": true,
    "hide_input": true
   },
   "outputs": [
    {
     "data": {
      "text/markdown": [
       "\n",
       "\n",
       "\n",
       "<h2>Vlissingen <a id=\"Index(['Coordinatenstelsel', 'Locatie_MessageID', 'Naam', 'X', 'Y', 'autocad',\n",
       "       'foundation_low', 'img', 'links', 'location', 'nulpaal', 'psmsl_id',\n",
       "       'rlr2nap', 'station_high', 'station_low', 'summary', 'psmsl_img',\n",
       "       'psmsl_info', 'x_rd', 'y_rd', 'lon', 'lat', 'x_webm', 'y_webm',\n",
       "       'dino_idx', 'x_dino', 'y_dino', 'x_dino_webm', 'y_dino_webm', 'lithok',\n",
       "       'nap', 'ahn'],\n",
       "      dtype='object')\"></a></h2>\n",
       "\n",
       "<style>\n",
       ".right.template {\n",
       "  float: right;\n",
       "}\n",
       ".template img {\n",
       "  max-width: 300px !important;\n",
       "}\n",
       "</style>\n",
       "<figure class=\"right template\" >\n",
       "    <img src=\"http://www.openearth.nl/sealevel/static/images/VLISSGN.jpg\" />\n",
       "    <figcaption>Photo of tide gauge at Vlissingen, &copy; CIV, RWS</figcaption>\n",
       "</figure>\n",
       "\n",
       "<dl>\n",
       "<dt>Location (lat, lon)</dt>\n",
       "<dd>51.442, 3.596</dd>\n",
       "<dt>Location (Rijksdriehoek)</dt>\n",
       "<dd>30480, 385220</dd>\n",
       "<dt>PSMSL-ID</dt>\n",
       "<dd><a href=\"http://www.psmsl.org/data/obtaining/stations/20.php\">20</a></dd>\n",
       "<dt>Description</dt>\n",
       "<dd>This station is located at a quay in Vlissingen, near the outer harbour. The foundation is a steel sheet pile reaching to a depth of -17.6m NAP, having a width of 2.2m (outer width). Inside this pile are the measurement instruments. The under water chamber is sealed of with a concrete slab reaching from -4.0 m NAP to -5.0 m NAP. The station has a GPS (GNSS) device attached.</dd>\n",
       "<dt>History</dt>\n",
       "<dd><pre>Add 6.900m to data up to 2005 to refer to RLR (2007)\r\n",
       "Add 6.930m to data 2005 onwards to refer to RLR (2007)\r\n",
       "RLR (2007) is 11.6m below TGBM\r\n",
       "</pre></dd>\n",
       "<dt>Nap info</dt>\n",
       "<dd><pre>\n",
       "PEILSCHAALSTATION @ 4.949 (class: 2, distance: 108m)\n",
       "HOGE BT MUUR OUDE VEERHAVEN N PEILSCHAA @ 4.877 (class: 2, distance: 128m)\n",
       "FIETSENSTALLING STATION NS @ 4.923 (class: 2, distance: 215m)\n",
       "KNT GB STEENKOOL HANDELS VERG: O-INGANG BUITENHAVEN @ 4.99 (class: 2, distance: 533m)\n",
       "ZO-Z BUNKER, W-GED. VAN VOORM. FORT 'DE RUIJTER' @ 3.214 (class: 2, distance: 868m)\n",
       "</pre></dd>\n",
       "</dl>\n",
       "\n",
       "Other relevant links:\n",
       "- <a href='http://a360.co/2s8ltK7'>Autocad drawing</a> of the construction.\n"
      ],
      "text/plain": [
       "<IPython.core.display.Markdown object>"
      ]
     },
     "metadata": {},
     "output_type": "display_data"
    },
    {
     "data": {
      "image/png": "[encoded data removed]",
      "text/plain": [
       "<matplotlib.figure.Figure at 0x10e4ed30>"
      ]
     },
     "metadata": {},
     "output_type": "display_data"
    }
   ],
   "source": [
    "station = 'VLISSGN' \n",
    "IPython.display.display(summary(station))\n",
    "plot_station(station)"
   ]
  },
  {
   "cell_type": "markdown",
   "metadata": {
    "deletable": true,
    "editable": true
   },
   "source": [
    "# Side view of the subsoil\n",
    "This map below shows a map of the subsoil. The subsoil is raised by 50m out of the ground. You can rotate, skew and zoom using a combination of mouse buttons."
   ]
  },
  {
   "cell_type": "code",
   "execution_count": 30,
   "metadata": {
    "collapsed": false,
    "deletable": true,
    "editable": true,
    "hide_input": true
   },
   "outputs": [
    {
     "data": {
      "text/html": [
       "<iframe src=\"https://api.mapbox.com/styles/v1/camvdvries/cj4o674wv8i9j2rs30ew26vm1.html?fresh=true&title=true&access_token=pk.eyJ1IjoiY2FtdmR2cmllcyIsImEiOiJjajA4NXdpNmswMDB2MzNzMjk4dGM2cnhzIn0.lIwd8N7wf0hx7mq-kjTcbQ#13.4/52.0524/4.1907/83.8/60\" \n",
       "style=\"width: 100%; height: 500px;\"/>"
      ],
      "text/plain": [
       "<IPython.core.display.HTML object>"
      ]
     },
     "metadata": {},
     "output_type": "display_data"
    }
   ],
   "source": [
    "%%html\n",
    "<iframe src=\"https://api.mapbox.com/styles/v1/camvdvries/cj4o674wv8i9j2rs30ew26vm1.html?fresh=true&title=true&access_token=pk.eyJ1IjoiY2FtdmR2cmllcyIsImEiOiJjajA4NXdpNmswMDB2MzNzMjk4dGM2cnhzIn0.lIwd8N7wf0hx7mq-kjTcbQ#13.4/52.0524/4.1907/83.8/60\" \n",
    "style=\"width: 100%; height: 500px;\"/>"
   ]
  }
 ],
 "metadata": {
  "hide_input": false,
  "kernelspec": {
   "display_name": "Python 3",
   "language": "python",
   "name": "python3"
  },
  "language_info": {
   "codemirror_mode": {
    "name": "ipython",
    "version": 3
   },
   "file_extension": ".py",
   "mimetype": "text/x-python",
   "name": "python",
   "nbconvert_exporter": "python",
   "pygments_lexer": "ipython3",
   "version": "3.5.2"
  }
 },
 "nbformat": 4,
 "nbformat_minor": 2
}
