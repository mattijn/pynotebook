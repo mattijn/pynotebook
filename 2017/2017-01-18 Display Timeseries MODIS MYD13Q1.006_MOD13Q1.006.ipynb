{
 "cells": [
  {
   "cell_type": "code",
   "execution_count": 1,
   "metadata": {
    "collapsed": true
   },
   "outputs": [],
   "source": [
    "import rasterio\n",
    "import numpy as np\n",
    "from datetime import datetime, timedelta\n",
    "from affine import Affine\n",
    "from pyproj import Proj, transform\n",
    "import os, glob\n",
    "import gdal, osr\n",
    "import pandas as pd\n",
    "%matplotlib inline"
   ]
  },
  {
   "cell_type": "code",
   "execution_count": 2,
   "metadata": {
    "collapsed": false
   },
   "outputs": [],
   "source": [
    "import re\n",
    "\n",
    "def dms2dd(degrees, minutes, seconds, direction):\n",
    "    dd = float(degrees) + float(minutes)/60 + float(seconds)/(60*60);\n",
    "    if direction == 'S' or direction == 'W':\n",
    "        dd *= -1\n",
    "    return dd;\n",
    "\n",
    "def dd2dms(deg):\n",
    "    d = int(deg)\n",
    "    md = abs(deg - d) * 60\n",
    "    m = int(md)\n",
    "    sd = (md - m) * 60\n",
    "    return [d, m, sd]\n",
    "\n",
    "def parse_dms(dms):\n",
    "    #parts = re.split('[^\\d\\w]+', dms)\n",
    "    parts = re.split('[^\\d\\w\\.]+', dms)\n",
    "    #print (parts)\n",
    "    lat = dms2dd(parts[0], parts[1], parts[2], parts[3])\n",
    "    long = dms2dd(parts[4], parts[5], parts[6], parts[7])\n",
    "    #lat = dms2dd(parts[0], parts[1], parts[2] + \".\" + parts[3], parts[4])\n",
    "    return (lat, long)"
   ]
  },
  {
   "cell_type": "code",
   "execution_count": 3,
   "metadata": {
    "collapsed": false
   },
   "outputs": [
    {
     "name": "stdout",
     "output_type": "stream",
     "text": [
      "D:\\Projects\\Pr\\3492.10\\MYD13Q1_MOD13Q1\\tif\\MOD13Q1.A2016097.h18v03.006.2016114042550_projected_250m 16 days NDVI.tif\n"
     ]
    }
   ],
   "source": [
    "# create the list of files to use\n",
    "tifdir = r'D:\\Projects\\Pr\\3492.10\\MYD13Q1_MOD13Q1\\tif'\n",
    "tiffiles = glob.glob(os.path.join(tifdir, 'M*D13Q1.A2016*.tif'))\n",
    "print (tiffiles[0])"
   ]
  },
  {
   "cell_type": "code",
   "execution_count": 4,
   "metadata": {
    "collapsed": false
   },
   "outputs": [],
   "source": [
    "loc_stations = {'Bankenbos' :\"\"\"53°1'14.75\"N 6°24'9.93\"E\"\"\",\n",
    "                'Fleditebos':\"\"\"52°19'6.00\"N 5°27'12.00\"E\"\"\",\n",
    "                'Kampina'   :\"\"\"51°34'1.00\"N 5°17'27.00\"E\"\"\",\n",
    "                'Cabauw'    :\"\"\"51°58'12.79\"N 4°55'34.28\"E\"\"\",\n",
    "                'Haastrecht':\"\"\"52°0'11.29\"N 4°48'19.83\"E\"\"\",\n",
    "                'Langerak'  :\"\"\"51°57'12.91\"N 4°54'10.46\"E\"\"\",\n",
    "                'Molenweg'  :\"\"\"51°39'9.80\"N 4°38'10.85\"E\"\"\",\n",
    "                'Dijkgraaf' :\"\"\"51°59'31.42\"N 5°38'45.40\"E\"\"\",\n",
    "                'Lutjewad'  :\"\"\"53°23'56.12\"N 6°21'21.70\"E\"\"\",\n",
    "                'Oostwaard' :\"\"\"52°49'53.88\"N 4°54'33.52\"E\"\"\",\n",
    "                'Vredepeel' :\"\"\"51°31'51.37\"N 5°50'37.50\"E\"\"\",\n",
    "                'Loobos'    :\"\"\"52°9'59.69\"N 5°44'36.80\"E\"\"\",\n",
    "               }"
   ]
  },
  {
   "cell_type": "code",
   "execution_count": 5,
   "metadata": {
    "collapsed": false
   },
   "outputs": [
    {
     "name": "stdout",
     "output_type": "stream",
     "text": [
      "lat 51.970219444444446 lon 4.926188888888889\n",
      "northing 123320.36763863487 easting 442522.83459451684\n"
     ]
    }
   ],
   "source": [
    "# define projections\n",
    "P28992 = Proj(init='epsg:28992')\n",
    "P4326 = Proj(init='epsg:4326')\n",
    "\n",
    "# go from DMS to decimal degrees (EPSG:4326) to rijksdriehoek (EPSG:28992)\n",
    "lat, lon = parse_dms(loc_stations['Cabauw'])\n",
    "mx,my = transform(P4326, P28992, lon, lat)\n",
    "print ('lat',lat,'lon',lon)\n",
    "print ('northing',mx,'easting',my)"
   ]
  },
  {
   "cell_type": "code",
   "execution_count": 6,
   "metadata": {
    "collapsed": false
   },
   "outputs": [
    {
     "data": {
      "text/plain": [
       "dict_values(['52°49\\'53.88\"N 4°54\\'33.52\"E', '52°0\\'11.29\"N 4°48\\'19.83\"E', '51°59\\'31.42\"N 5°38\\'45.40\"E', '52°9\\'59.69\"N 5°44\\'36.80\"E', '51°57\\'12.91\"N 4°54\\'10.46\"E', '51°31\\'51.37\"N 5°50\\'37.50\"E', '51°39\\'9.80\"N 4°38\\'10.85\"E', '51°58\\'12.79\"N 4°55\\'34.28\"E', '51°34\\'1.00\"N 5°17\\'27.00\"E', '53°23\\'56.12\"N 6°21\\'21.70\"E', '53°1\\'14.75\"N 6°24\\'9.93\"E', '52°19\\'6.00\"N 5°27\\'12.00\"E'])"
      ]
     },
     "execution_count": 6,
     "metadata": {},
     "output_type": "execute_result"
    }
   ],
   "source": [
    "loc_stations.values()"
   ]
  },
  {
   "cell_type": "code",
   "execution_count": 7,
   "metadata": {
    "collapsed": false
   },
   "outputs": [
    {
     "name": "stdout",
     "output_type": "stream",
     "text": [
      "0 Oostwaard 52°49'53.88\"N 4°54'33.52\"E\n",
      "1 Haastrecht 52°0'11.29\"N 4°48'19.83\"E\n",
      "2 Dijkgraaf 51°59'31.42\"N 5°38'45.40\"E\n",
      "3 Loobos 52°9'59.69\"N 5°44'36.80\"E\n",
      "4 Langerak 51°57'12.91\"N 4°54'10.46\"E\n",
      "5 Vredepeel 51°31'51.37\"N 5°50'37.50\"E\n",
      "6 Molenweg 51°39'9.80\"N 4°38'10.85\"E\n",
      "7 Cabauw 51°58'12.79\"N 4°55'34.28\"E\n",
      "8 Kampina 51°34'1.00\"N 5°17'27.00\"E\n",
      "9 Lutjewad 53°23'56.12\"N 6°21'21.70\"E\n",
      "10 Bankenbos 53°1'14.75\"N 6°24'9.93\"E\n",
      "11 Fleditebos 52°19'6.00\"N 5°27'12.00\"E\n"
     ]
    }
   ],
   "source": [
    "latlong_stations = []\n",
    "for idx,item in enumerate(loc_stations):\n",
    "    print (idx, item, loc_stations[item])\n",
    "    lat, lon = parse_dms(loc_stations[item])\n",
    "    t_out = [item,lat,lon]\n",
    "    latlong_stations.append(t_out)\n",
    "    "
   ]
  },
  {
   "cell_type": "code",
   "execution_count": 8,
   "metadata": {
    "collapsed": false
   },
   "outputs": [
    {
     "data": {
      "text/plain": [
       "[['Oostwaard', 52.831633333333336, 4.909311111111111],\n",
       " ['Haastrecht', 52.00313611111111, 4.805508333333333],\n",
       " ['Dijkgraaf', 51.99206111111111, 5.645944444444444],\n",
       " ['Loobos', 52.166580555555555, 5.743555555555556],\n",
       " ['Langerak', 51.953586111111115, 4.902905555555556],\n",
       " ['Vredepeel', 51.53093611111111, 5.84375],\n",
       " ['Molenweg', 51.65272222222222, 4.636347222222222],\n",
       " ['Cabauw', 51.970219444444446, 4.926188888888889],\n",
       " ['Kampina', 51.566944444444445, 5.2908333333333335],\n",
       " ['Lutjewad', 53.398922222222225, 6.356027777777777],\n",
       " ['Bankenbos', 53.02076388888889, 6.402758333333334],\n",
       " ['Fleditebos', 52.318333333333335, 5.453333333333333]]"
      ]
     },
     "execution_count": 8,
     "metadata": {},
     "output_type": "execute_result"
    }
   ],
   "source": [
    "latlong_stations"
   ]
  },
  {
   "cell_type": "code",
   "execution_count": 9,
   "metadata": {
    "collapsed": false
   },
   "outputs": [
    {
     "name": "stdout",
     "output_type": "stream",
     "text": [
      "MOD13Q1.A2016097.h18v03.006.2016114042550_projected_250m 16 days NDVI.tif\n",
      "2016 97\n",
      "MOD13Q1.A2016113.h18v03.006.2016130115740_projected_250m 16 days NDVI.tif\n",
      "2016 113\n",
      "MOD13Q1.A2016129.h18v03.006.2016147112949_projected_250m 16 days NDVI.tif\n",
      "2016 129\n",
      "MOD13Q1.A2016145.h18v03.006.2016166145625_projected_250m 16 days NDVI.tif\n",
      "2016 145\n",
      "MOD13Q1.A2016161.h18v03.006.2016184002634_projected_250m 16 days NDVI.tif\n",
      "2016 161\n",
      "MOD13Q1.A2016177.h18v03.006.2016200100041_projected_250m 16 days NDVI.tif\n",
      "2016 177\n",
      "MOD13Q1.A2016193.h18v03.006.2016215085241_projected_250m 16 days NDVI.tif\n",
      "2016 193\n",
      "MOD13Q1.A2016209.h18v03.006.2016229083146_projected_250m 16 days NDVI.tif\n",
      "2016 209\n",
      "MOD13Q1.A2016225.h18v03.006.2016243085331_projected_250m 16 days NDVI.tif\n",
      "2016 225\n",
      "MOD13Q1.A2016241.h18v03.006.2016263150731_projected_250m 16 days NDVI.tif\n",
      "2016 241\n",
      "MOD13Q1.A2016257.h18v03.006.2016274150719_projected_250m 16 days NDVI.tif\n",
      "2016 257\n",
      "MOD13Q1.A2016273.h18v03.006.2016292072552_projected_250m 16 days NDVI.tif\n",
      "2016 273\n",
      "MOD13Q1.A2016289.h18v03.006.2016306041209_projected_250m 16 days NDVI.tif\n",
      "2016 289\n",
      "MOD13Q1.A2016305.h18v03.006.2016322045750_projected_250m 16 days NDVI.tif\n",
      "2016 305\n",
      "MYD13Q1.A2016105.h18v03.006.2016123094508_projected_250m 16 days NDVI.tif\n",
      "2016 105\n",
      "MYD13Q1.A2016121.h18v03.006.2016140121354_projected_250m 16 days NDVI.tif\n",
      "2016 121\n",
      "MYD13Q1.A2016137.h18v03.006.2016165123307_projected_250m 16 days NDVI.tif\n",
      "2016 137\n",
      "MYD13Q1.A2016153.h18v03.006.2016173013105_projected_250m 16 days NDVI.tif\n",
      "2016 153\n",
      "MYD13Q1.A2016169.h18v03.006.2016188131210_projected_250m 16 days NDVI.tif\n",
      "2016 169\n",
      "MYD13Q1.A2016185.h18v03.006.2016202032554_projected_250m 16 days NDVI.tif\n",
      "2016 185\n",
      "MYD13Q1.A2016201.h18v03.006.2016223021811_projected_250m 16 days NDVI.tif\n",
      "2016 201\n",
      "MYD13Q1.A2016217.h18v03.006.2016237024923_projected_250m 16 days NDVI.tif\n",
      "2016 217\n",
      "MYD13Q1.A2016233.h18v03.006.2016250035628_projected_250m 16 days NDVI.tif\n",
      "2016 233\n",
      "MYD13Q1.A2016249.h18v03.006.2016266032255_projected_250m 16 days NDVI.tif\n",
      "2016 249\n",
      "MYD13Q1.A2016265.h18v03.006.2016282025227_projected_250m 16 days NDVI.tif\n",
      "2016 265\n",
      "MYD13Q1.A2016281.h18v03.006.2016299231353_projected_250m 16 days NDVI.tif\n",
      "2016 281\n",
      "MYD13Q1.A2016297.h18v03.006.2016314154834_projected_250m 16 days NDVI.tif\n",
      "2016 297\n",
      "[Timestamp('2016-04-06 00:00:00') Timestamp('2016-04-22 00:00:00')\n",
      " Timestamp('2016-05-08 00:00:00') Timestamp('2016-05-24 00:00:00')\n",
      " Timestamp('2016-06-09 00:00:00') Timestamp('2016-06-25 00:00:00')\n",
      " Timestamp('2016-07-11 00:00:00') Timestamp('2016-07-27 00:00:00')\n",
      " Timestamp('2016-08-12 00:00:00') Timestamp('2016-08-28 00:00:00')\n",
      " Timestamp('2016-09-13 00:00:00') Timestamp('2016-09-29 00:00:00')\n",
      " Timestamp('2016-10-15 00:00:00') Timestamp('2016-10-31 00:00:00')\n",
      " Timestamp('2016-04-14 00:00:00') Timestamp('2016-04-30 00:00:00')\n",
      " Timestamp('2016-05-16 00:00:00') Timestamp('2016-06-01 00:00:00')\n",
      " Timestamp('2016-06-17 00:00:00') Timestamp('2016-07-03 00:00:00')\n",
      " Timestamp('2016-07-19 00:00:00') Timestamp('2016-08-04 00:00:00')\n",
      " Timestamp('2016-08-20 00:00:00') Timestamp('2016-09-05 00:00:00')\n",
      " Timestamp('2016-09-21 00:00:00') Timestamp('2016-10-07 00:00:00')\n",
      " Timestamp('2016-10-23 00:00:00')]\n"
     ]
    }
   ],
   "source": [
    "# get all timestamps from geotif files and store as index list\n",
    "index = []\n",
    "for i in tiffiles:\n",
    "    path, file = os.path.split(i)\n",
    "    # get date as combination of year and day of year\n",
    "    year = int(file[9:13])\n",
    "    doy = int(file[13:16])\n",
    "    print (file)\n",
    "    print (year, doy)\n",
    "    date = datetime(year, 1, 1) + timedelta(doy - 1)\n",
    "    date = np.datetime64(date)\n",
    "    date = pd.Timestamp(np.datetime_as_string(date))\n",
    "    index.append(date)\n",
    "index = np.array(index)\n",
    "\n",
    "print (index)"
   ]
  },
  {
   "cell_type": "code",
   "execution_count": 10,
   "metadata": {
    "collapsed": false
   },
   "outputs": [
    {
     "data": {
      "text/html": [
       "<div>\n",
       "<table border=\"1\" class=\"dataframe\">\n",
       "  <thead>\n",
       "    <tr style=\"text-align: right;\">\n",
       "      <th></th>\n",
       "      <th>Oostwaard</th>\n",
       "      <th>Haastrecht</th>\n",
       "      <th>Dijkgraaf</th>\n",
       "      <th>Loobos</th>\n",
       "      <th>Langerak</th>\n",
       "      <th>Vredepeel</th>\n",
       "      <th>Molenweg</th>\n",
       "      <th>Cabauw</th>\n",
       "      <th>Kampina</th>\n",
       "      <th>Lutjewad</th>\n",
       "      <th>Bankenbos</th>\n",
       "      <th>Fleditebos</th>\n",
       "    </tr>\n",
       "  </thead>\n",
       "  <tbody>\n",
       "    <tr>\n",
       "      <th>2016-04-06</th>\n",
       "      <td>NaN</td>\n",
       "      <td>NaN</td>\n",
       "      <td>NaN</td>\n",
       "      <td>NaN</td>\n",
       "      <td>NaN</td>\n",
       "      <td>NaN</td>\n",
       "      <td>NaN</td>\n",
       "      <td>NaN</td>\n",
       "      <td>NaN</td>\n",
       "      <td>NaN</td>\n",
       "      <td>NaN</td>\n",
       "      <td>NaN</td>\n",
       "    </tr>\n",
       "    <tr>\n",
       "      <th>2016-04-22</th>\n",
       "      <td>NaN</td>\n",
       "      <td>NaN</td>\n",
       "      <td>NaN</td>\n",
       "      <td>NaN</td>\n",
       "      <td>NaN</td>\n",
       "      <td>NaN</td>\n",
       "      <td>NaN</td>\n",
       "      <td>NaN</td>\n",
       "      <td>NaN</td>\n",
       "      <td>NaN</td>\n",
       "      <td>NaN</td>\n",
       "      <td>NaN</td>\n",
       "    </tr>\n",
       "    <tr>\n",
       "      <th>2016-05-08</th>\n",
       "      <td>NaN</td>\n",
       "      <td>NaN</td>\n",
       "      <td>NaN</td>\n",
       "      <td>NaN</td>\n",
       "      <td>NaN</td>\n",
       "      <td>NaN</td>\n",
       "      <td>NaN</td>\n",
       "      <td>NaN</td>\n",
       "      <td>NaN</td>\n",
       "      <td>NaN</td>\n",
       "      <td>NaN</td>\n",
       "      <td>NaN</td>\n",
       "    </tr>\n",
       "    <tr>\n",
       "      <th>2016-05-24</th>\n",
       "      <td>NaN</td>\n",
       "      <td>NaN</td>\n",
       "      <td>NaN</td>\n",
       "      <td>NaN</td>\n",
       "      <td>NaN</td>\n",
       "      <td>NaN</td>\n",
       "      <td>NaN</td>\n",
       "      <td>NaN</td>\n",
       "      <td>NaN</td>\n",
       "      <td>NaN</td>\n",
       "      <td>NaN</td>\n",
       "      <td>NaN</td>\n",
       "    </tr>\n",
       "    <tr>\n",
       "      <th>2016-06-09</th>\n",
       "      <td>NaN</td>\n",
       "      <td>NaN</td>\n",
       "      <td>NaN</td>\n",
       "      <td>NaN</td>\n",
       "      <td>NaN</td>\n",
       "      <td>NaN</td>\n",
       "      <td>NaN</td>\n",
       "      <td>NaN</td>\n",
       "      <td>NaN</td>\n",
       "      <td>NaN</td>\n",
       "      <td>NaN</td>\n",
       "      <td>NaN</td>\n",
       "    </tr>\n",
       "  </tbody>\n",
       "</table>\n",
       "</div>"
      ],
      "text/plain": [
       "           Oostwaard Haastrecht Dijkgraaf Loobos Langerak Vredepeel Molenweg  \\\n",
       "2016-04-06       NaN        NaN       NaN    NaN      NaN       NaN      NaN   \n",
       "2016-04-22       NaN        NaN       NaN    NaN      NaN       NaN      NaN   \n",
       "2016-05-08       NaN        NaN       NaN    NaN      NaN       NaN      NaN   \n",
       "2016-05-24       NaN        NaN       NaN    NaN      NaN       NaN      NaN   \n",
       "2016-06-09       NaN        NaN       NaN    NaN      NaN       NaN      NaN   \n",
       "\n",
       "           Cabauw Kampina Lutjewad Bankenbos Fleditebos  \n",
       "2016-04-06    NaN     NaN      NaN       NaN        NaN  \n",
       "2016-04-22    NaN     NaN      NaN       NaN        NaN  \n",
       "2016-05-08    NaN     NaN      NaN       NaN        NaN  \n",
       "2016-05-24    NaN     NaN      NaN       NaN        NaN  \n",
       "2016-06-09    NaN     NaN      NaN       NaN        NaN  "
      ]
     },
     "execution_count": 10,
     "metadata": {},
     "output_type": "execute_result"
    }
   ],
   "source": [
    "# get column names from loc_stations dictionary and store as dataframe\n",
    "columns = list(loc_stations.keys())\n",
    "df = pd.DataFrame(index=index, columns=columns)\n",
    "df.head()"
   ]
  },
  {
   "cell_type": "code",
   "execution_count": 11,
   "metadata": {
    "collapsed": false
   },
   "outputs": [
    {
     "name": "stdout",
     "output_type": "stream",
     "text": [
      "Oostwaard\n",
      "lat 52.831633333333336 lon 4.909311111111111\n",
      "northing 122792.71886050075 easting 538374.9746167494\n",
      "Haastrecht\n",
      "lat 52.00313611111111 lon 4.805508333333333\n",
      "northing 115056.95548707253 easting 446244.4718567486\n",
      "Dijkgraaf\n",
      "lat 51.99206111111111 lon 5.645944444444444\n",
      "northing 172771.42051890463 easting 444884.12427824305\n",
      "Loobos\n",
      "lat 52.166580555555555 lon 5.743555555555556\n",
      "northing 179380.355806715 easting 464329.2198771655\n",
      "Langerak\n",
      "lat 51.953586111111115 lon 4.902905555555556\n",
      "northing 121708.08394376884 easting 440682.69451096636\n",
      "Vredepeel\n",
      "lat 51.53093611111111 lon 5.84375\n",
      "northing 186679.48166334635 easting 393649.5926928291\n",
      "Molenweg\n",
      "lat 51.65272222222222 lon 4.636347222222222\n",
      "northing 103039.00954907671 easting 407367.0995134113\n",
      "Cabauw\n",
      "lat 51.970219444444446 lon 4.926188888888889\n",
      "northing 123320.36763863487 easting 442522.83459451684\n",
      "Kampina\n",
      "lat 51.566944444444445 lon 5.2908333333333335\n",
      "northing 148318.38497013383 easting 397560.67417329067\n",
      "Lutjewad\n",
      "lat 53.398922222222225 lon 6.356027777777777\n",
      "northing 219443.16161995087 easting 601834.1156680665\n",
      "Bankenbos\n",
      "lat 53.02076388888889 lon 6.402758333333334\n",
      "northing 223144.77983792173 easting 559794.811782909\n",
      "Fleditebos\n",
      "lat 52.318333333333335 lon 5.453333333333333\n",
      "northing 159508.94391427966 easting 481155.68644245144\n"
     ]
    }
   ],
   "source": [
    "for siteIDin in columns:\n",
    "    # go from DMS to decimal degrees (EPSG:4326) to rijksdriehoek (EPSG:28992)\n",
    "    # siteIDin = 'Cabauw'\n",
    "    lat, lon = parse_dms(loc_stations[siteIDin])\n",
    "    mx,my = transform(P4326, P28992, lon, lat)\n",
    "    print (siteIDin)\n",
    "    print ('lat',lat,'lon',lon)\n",
    "    print ('northing',mx,'easting',my)\n",
    "\n",
    "    # array = np.zeros((len(tiffiles),15,15))\n",
    "    for idx, i in enumerate(tiffiles):\n",
    "        # load raster GeoTransform, RasterBand    \n",
    "        try:\n",
    "            src_ds = gdal.Open(i) \n",
    "            gt = src_ds.GetGeoTransform()\n",
    "            rb = src_ds.GetRasterBand(1)           \n",
    "\n",
    "            # convert from map to pixel coordinates.    \n",
    "            px = int((mx - gt[0]) / gt[1]) #x pixel\n",
    "            py = int((my - gt[3]) / gt[5]) #y pixel\n",
    "#             print ('pixel-x',px,'pixel-y',py)              \n",
    "\n",
    "            # get date\n",
    "            path, file = os.path.split(i)\n",
    "            year = int(file[9:13])\n",
    "            doy = int(file[13:16])\n",
    "            date = datetime(year, 1, 1) + timedelta(doy - 1)\n",
    "            date = np.datetime64(date)\n",
    "            date = pd.Timestamp(np.datetime_as_string(date))\n",
    "#             print (date)\n",
    "            \n",
    "          \n",
    "        except Exception as e:\n",
    "            print (e, i)\n",
    "            continue\n",
    "        try:\n",
    "            # get mean of nine pixels surround station ID\n",
    "            array_ID = rb.ReadAsArray(px,py,1,1).astype(np.float)\n",
    "            #array_ID = np.ma.masked_equal(array_ID, 0)\n",
    "            stationID_mean = np.ma.mean(array_ID)\n",
    "            df.ix[date][siteIDin] = stationID_mean\n",
    "            #array[idx] = array_ID_nine\n",
    "        except Exception as e:\n",
    "            print (e, i)\n",
    "            continue"
   ]
  },
  {
   "cell_type": "code",
   "execution_count": 12,
   "metadata": {
    "collapsed": false
   },
   "outputs": [
    {
     "data": {
      "text/html": [
       "<div>\n",
       "<table border=\"1\" class=\"dataframe\">\n",
       "  <thead>\n",
       "    <tr style=\"text-align: right;\">\n",
       "      <th></th>\n",
       "      <th>Oostwaard</th>\n",
       "      <th>Haastrecht</th>\n",
       "      <th>Dijkgraaf</th>\n",
       "      <th>Loobos</th>\n",
       "      <th>Langerak</th>\n",
       "      <th>Vredepeel</th>\n",
       "      <th>Molenweg</th>\n",
       "      <th>Cabauw</th>\n",
       "      <th>Kampina</th>\n",
       "      <th>Lutjewad</th>\n",
       "      <th>Bankenbos</th>\n",
       "      <th>Fleditebos</th>\n",
       "    </tr>\n",
       "  </thead>\n",
       "  <tbody>\n",
       "    <tr>\n",
       "      <th>2016-04-06</th>\n",
       "      <td>3241</td>\n",
       "      <td>8980</td>\n",
       "      <td>8228</td>\n",
       "      <td>7409</td>\n",
       "      <td>8901</td>\n",
       "      <td>4814</td>\n",
       "      <td>7593</td>\n",
       "      <td>8526</td>\n",
       "      <td>6064</td>\n",
       "      <td>3458</td>\n",
       "      <td>5565</td>\n",
       "      <td>7020</td>\n",
       "    </tr>\n",
       "    <tr>\n",
       "      <th>2016-04-22</th>\n",
       "      <td>4429</td>\n",
       "      <td>8671</td>\n",
       "      <td>8265</td>\n",
       "      <td>7543</td>\n",
       "      <td>8350</td>\n",
       "      <td>4979</td>\n",
       "      <td>7355</td>\n",
       "      <td>8415</td>\n",
       "      <td>6211</td>\n",
       "      <td>4545</td>\n",
       "      <td>4304</td>\n",
       "      <td>7914</td>\n",
       "    </tr>\n",
       "    <tr>\n",
       "      <th>2016-05-08</th>\n",
       "      <td>7350</td>\n",
       "      <td>8610</td>\n",
       "      <td>7554</td>\n",
       "      <td>7319</td>\n",
       "      <td>8237</td>\n",
       "      <td>6250</td>\n",
       "      <td>7670</td>\n",
       "      <td>7888</td>\n",
       "      <td>6603</td>\n",
       "      <td>3950</td>\n",
       "      <td>6117</td>\n",
       "      <td>8254</td>\n",
       "    </tr>\n",
       "    <tr>\n",
       "      <th>2016-05-24</th>\n",
       "      <td>5679</td>\n",
       "      <td>8025</td>\n",
       "      <td>7535</td>\n",
       "      <td>7136</td>\n",
       "      <td>7504</td>\n",
       "      <td>6517</td>\n",
       "      <td>7912</td>\n",
       "      <td>8180</td>\n",
       "      <td>8666</td>\n",
       "      <td>6366</td>\n",
       "      <td>7231</td>\n",
       "      <td>8980</td>\n",
       "    </tr>\n",
       "    <tr>\n",
       "      <th>2016-06-09</th>\n",
       "      <td>6978</td>\n",
       "      <td>7936</td>\n",
       "      <td>7257</td>\n",
       "      <td>7679</td>\n",
       "      <td>7306</td>\n",
       "      <td>6759</td>\n",
       "      <td>7613</td>\n",
       "      <td>7279</td>\n",
       "      <td>8649</td>\n",
       "      <td>5403</td>\n",
       "      <td>8277</td>\n",
       "      <td>8823</td>\n",
       "    </tr>\n",
       "  </tbody>\n",
       "</table>\n",
       "</div>"
      ],
      "text/plain": [
       "           Oostwaard Haastrecht Dijkgraaf Loobos Langerak Vredepeel Molenweg  \\\n",
       "2016-04-06      3241       8980      8228   7409     8901      4814     7593   \n",
       "2016-04-22      4429       8671      8265   7543     8350      4979     7355   \n",
       "2016-05-08      7350       8610      7554   7319     8237      6250     7670   \n",
       "2016-05-24      5679       8025      7535   7136     7504      6517     7912   \n",
       "2016-06-09      6978       7936      7257   7679     7306      6759     7613   \n",
       "\n",
       "           Cabauw Kampina Lutjewad Bankenbos Fleditebos  \n",
       "2016-04-06   8526    6064     3458      5565       7020  \n",
       "2016-04-22   8415    6211     4545      4304       7914  \n",
       "2016-05-08   7888    6603     3950      6117       8254  \n",
       "2016-05-24   8180    8666     6366      7231       8980  \n",
       "2016-06-09   7279    8649     5403      8277       8823  "
      ]
     },
     "execution_count": 12,
     "metadata": {},
     "output_type": "execute_result"
    }
   ],
   "source": [
    "df.head()"
   ]
  },
  {
   "cell_type": "raw",
   "metadata": {},
   "source": [
    "SDS Layer Name\t    Description\t        Units\tData Type\t            Fill Value\tValid Range\t    Scaling Factor\n",
    "250m_16_days_NDVI\t16 day NDVI average\tNDVI\t16-bit signed integer\t-3000\t    -2000 to 10000\t0.0001"
   ]
  },
  {
   "cell_type": "code",
   "execution_count": 13,
   "metadata": {
    "collapsed": true
   },
   "outputs": [],
   "source": [
    "df = df * 0.0001"
   ]
  },
  {
   "cell_type": "code",
   "execution_count": 14,
   "metadata": {
    "collapsed": false
   },
   "outputs": [
    {
     "data": {
      "text/plain": [
       "<matplotlib.axes._subplots.AxesSubplot at 0x8364710>"
      ]
     },
     "execution_count": 14,
     "metadata": {},
     "output_type": "execute_result"
    },
    {
     "data": {
      "image/png": "[encoded data removed]",
      "text/plain": [
       "<matplotlib.figure.Figure at 0x83726d8>"
      ]
     },
     "metadata": {},
     "output_type": "display_data"
    }
   ],
   "source": [
    "df.Cabauw.plot()"
   ]
  },
  {
   "cell_type": "code",
   "execution_count": 15,
   "metadata": {
    "collapsed": false
   },
   "outputs": [
    {
     "data": {
      "text/plain": [
       "<matplotlib.axes._subplots.AxesSubplot at 0x8465c18>"
      ]
     },
     "execution_count": 15,
     "metadata": {},
     "output_type": "execute_result"
    },
    {
     "data": {
      "image/png": "[encoded data removed]",
      "text/plain": [
       "<matplotlib.figure.Figure at 0x8372a58>"
      ]
     },
     "metadata": {},
     "output_type": "display_data"
    }
   ],
   "source": [
    "df.Bankenbos.plot()"
   ]
  },
  {
   "cell_type": "code",
   "execution_count": 16,
   "metadata": {
    "collapsed": false
   },
   "outputs": [
    {
     "data": {
      "text/plain": [
       "<matplotlib.axes._subplots.AxesSubplot at 0x847a7b8>"
      ]
     },
     "execution_count": 16,
     "metadata": {},
     "output_type": "execute_result"
    },
    {
     "data": {
      "image/png": "[encoded data removed]",
      "text/plain": [
       "<matplotlib.figure.Figure at 0x848b0f0>"
      ]
     },
     "metadata": {},
     "output_type": "display_data"
    }
   ],
   "source": [
    "df.Haastrecht.plot()"
   ]
  },
  {
   "cell_type": "code",
   "execution_count": 18,
   "metadata": {
    "collapsed": true
   },
   "outputs": [],
   "source": [
    "pkl_file_name = r'D:\\Projects\\Pr\\3492.10\\MYD13Q1_MOD13Q1\\pandas//MYD13Q1.006_MOD13Q1.006_12locations.pkl'\n",
    "df.to_pickle(pkl_file_name)  # where to save it, usually as a .pkl"
   ]
  },
  {
   "cell_type": "code",
   "execution_count": null,
   "metadata": {
    "collapsed": true
   },
   "outputs": [],
   "source": []
  }
 ],
 "metadata": {
  "kernelspec": {
   "display_name": "Python 3",
   "language": "python",
   "name": "python3"
  },
  "language_info": {
   "codemirror_mode": {
    "name": "ipython",
    "version": 3
   },
   "file_extension": ".py",
   "mimetype": "text/x-python",
   "name": "python",
   "nbconvert_exporter": "python",
   "pygments_lexer": "ipython3",
   "version": "3.5.2"
  }
 },
 "nbformat": 4,
 "nbformat_minor": 2
}
