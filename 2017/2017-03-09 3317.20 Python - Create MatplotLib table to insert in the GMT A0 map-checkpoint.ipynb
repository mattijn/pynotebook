{
 "cells": [
  {
   "cell_type": "code",
   "execution_count": null,
   "metadata": {
    "collapsed": true
   },
   "outputs": [],
   "source": [
    "colLabels=(\"Structure\", \"Energy\", \"Density\")\n",
    "nrows, ncols = len(clust_data)+1, len(colLables)\n",
    "hcell, wcell = 0.3, 1.\n",
    "hpad, wpad = 0, 0    \n",
    "fig=plt.figure(figsize=(ncols*wcell+wpad, nrows*hcell+hpad))\n",
    "ax = fig.add_subplot(111)\n",
    "ax.axis('off')\n",
    "#do the table\n",
    "the_table = ax.table(cellText=clust_data,\n",
    "          colLabels=colLabels,\n",
    "          loc='center')\n",
    "plt.savefig(\"table.png\")"
   ]
  }
 ],
 "metadata": {
  "kernelspec": {
   "display_name": "Python 3",
   "language": "python",
   "name": "python3"
  },
  "language_info": {
   "codemirror_mode": {
    "name": "ipython",
    "version": 3
   },
   "file_extension": ".py",
   "mimetype": "text/x-python",
   "name": "python",
   "nbconvert_exporter": "python",
   "pygments_lexer": "ipython3",
   "version": "3.5.2"
  }
 },
 "nbformat": 4,
 "nbformat_minor": 2
}
