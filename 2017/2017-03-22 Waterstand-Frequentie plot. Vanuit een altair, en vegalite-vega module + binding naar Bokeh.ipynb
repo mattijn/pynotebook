{
 "cells": [
  {
   "cell_type": "code",
   "execution_count": 1,
   "metadata": {},
   "outputs": [],
   "source": [
    "import pandas as pd"
   ]
  },
  {
   "cell_type": "code",
   "execution_count": 2,
   "metadata": {},
   "outputs": [],
   "source": [
    "path_in =r'D:\\Projects\\Pr\\3556.10\\hfreq.txt'"
   ]
  },
  {
   "cell_type": "markdown",
   "metadata": {},
   "source": [
    "Eerst lezen we het bestand in met pandas"
   ]
  },
  {
   "cell_type": "code",
   "execution_count": 3,
   "metadata": {},
   "outputs": [],
   "source": [
    "df = pd.read_csv(path_in, delim_whitespace=True, skiprows=1, header=None, )\n",
    "df.columns = ['waterlevel','frequency']"
   ]
  },
  {
   "cell_type": "code",
   "execution_count": 4,
   "metadata": {},
   "outputs": [
    {
     "data": {
      "text/html": [
       "<div>\n",
       "<style scoped>\n",
       "    .dataframe tbody tr th:only-of-type {\n",
       "        vertical-align: middle;\n",
       "    }\n",
       "\n",
       "    .dataframe tbody tr th {\n",
       "        vertical-align: top;\n",
       "    }\n",
       "\n",
       "    .dataframe thead th {\n",
       "        text-align: right;\n",
       "    }\n",
       "</style>\n",
       "<table border=\"1\" class=\"dataframe\">\n",
       "  <thead>\n",
       "    <tr style=\"text-align: right;\">\n",
       "      <th></th>\n",
       "      <th>waterlevel</th>\n",
       "      <th>frequency</th>\n",
       "    </tr>\n",
       "  </thead>\n",
       "  <tbody>\n",
       "    <tr>\n",
       "      <th>0</th>\n",
       "      <td>15.2</td>\n",
       "      <td>0.113170</td>\n",
       "    </tr>\n",
       "    <tr>\n",
       "      <th>1</th>\n",
       "      <td>15.3</td>\n",
       "      <td>0.100565</td>\n",
       "    </tr>\n",
       "    <tr>\n",
       "      <th>2</th>\n",
       "      <td>15.4</td>\n",
       "      <td>0.087885</td>\n",
       "    </tr>\n",
       "    <tr>\n",
       "      <th>3</th>\n",
       "      <td>15.5</td>\n",
       "      <td>0.077290</td>\n",
       "    </tr>\n",
       "    <tr>\n",
       "      <th>4</th>\n",
       "      <td>15.6</td>\n",
       "      <td>0.067216</td>\n",
       "    </tr>\n",
       "  </tbody>\n",
       "</table>\n",
       "</div>"
      ],
      "text/plain": [
       "   waterlevel  frequency\n",
       "0        15.2   0.113170\n",
       "1        15.3   0.100565\n",
       "2        15.4   0.087885\n",
       "3        15.5   0.077290\n",
       "4        15.6   0.067216"
      ]
     },
     "execution_count": 4,
     "metadata": {},
     "output_type": "execute_result"
    }
   ],
   "source": [
    "df.head()"
   ]
  },
  {
   "cell_type": "code",
   "execution_count": 5,
   "metadata": {},
   "outputs": [],
   "source": [
    "df.to_json(r'D:\\Projects\\RO\\HydroAsAService//waterlevel_returnperiod.json')"
   ]
  },
  {
   "cell_type": "markdown",
   "metadata": {},
   "source": [
    "Eerst kijken of we het kunnen plotten met de Altair module, zie voor voorbeelden: https://github.com/jakevdp/altair-examples. De module is gebasseerd op een Vega-Lite JSON object, waarbij sommige elementen voor ingevuld worden op basis van de data. Je datatype, aangegeven met `:Q` (quantitative) zou je weg kunnen laten bijvoorbeeld"
   ]
  },
  {
   "cell_type": "code",
   "execution_count": 6,
   "metadata": {},
   "outputs": [],
   "source": [
    "from altair import *"
   ]
  },
  {
   "cell_type": "code",
   "execution_count": 8,
   "metadata": {},
   "outputs": [
    {
     "data": {
      "text/html": [
       "<div class=\"vega-embed\" id=\"2cda8052-3d74-48af-b5c3-ac4c451bbe4b\"></div>\n",
       "\n",
       "<style>\n",
       ".vega-embed svg, .vega-embed canvas {\n",
       "  border: 1px dotted gray;\n",
       "}\n",
       "\n",
       ".vega-embed .vega-actions a {\n",
       "  margin-right: 6px;\n",
       "}\n",
       "</style>\n"
      ]
     },
     "metadata": {
      "jupyter-vega": "#2cda8052-3d74-48af-b5c3-ac4c451bbe4b"
     },
     "output_type": "display_data"
    },
    {
     "data": {
      "application/javascript": [
       "var spec = {\"mark\": \"line\", \"encoding\": {\"color\": {\"value\": \"blue\"}, \"y\": {\"field\": \"waterlevel\", \"type\": \"quantitative\", \"scale\": {\"domain\": [14.0, 19.0]}}, \"x\": {\"field\": \"frequency\", \"type\": \"quantitative\", \"scale\": {\"type\": \"log\", \"domain\": [0.1, 1e-07]}}}, \"config\": {\"cell\": {\"width\": 500, \"height\": 350}}, \"data\": {\"values\": [{\"frequency\": 0.1131702, \"waterlevel\": 15.2}, {\"frequency\": 0.1005654, \"waterlevel\": 15.3}, {\"frequency\": 0.087884739, \"waterlevel\": 15.4}, {\"frequency\": 0.07728956599999999, \"waterlevel\": 15.5}, {\"frequency\": 0.067216396, \"waterlevel\": 15.6}, {\"frequency\": 0.057845965, \"waterlevel\": 15.7}, {\"frequency\": 0.049733865999999995, \"waterlevel\": 15.8}, {\"frequency\": 0.041748479, \"waterlevel\": 15.9}, {\"frequency\": 0.034775663, \"waterlevel\": 16.0}, {\"frequency\": 0.029016647000000003, \"waterlevel\": 16.1}, {\"frequency\": 0.024304695, \"waterlevel\": 16.2}, {\"frequency\": 0.020148421, \"waterlevel\": 16.3}, {\"frequency\": 0.016645148000000002, \"waterlevel\": 16.4}, {\"frequency\": 0.013650425, \"waterlevel\": 16.5}, {\"frequency\": 0.011218123, \"waterlevel\": 16.6}, {\"frequency\": 0.0089963209, \"waterlevel\": 16.7}, {\"frequency\": 0.0069746193, \"waterlevel\": 16.8}, {\"frequency\": 0.0052340645, \"waterlevel\": 16.9}, {\"frequency\": 0.0037789331, \"waterlevel\": 17.0}, {\"frequency\": 0.0026245182000000002, \"waterlevel\": 17.1}, {\"frequency\": 0.0017343683, \"waterlevel\": 17.2}, {\"frequency\": 0.0011132542999999998, \"waterlevel\": 17.3}, {\"frequency\": 0.00069478055, \"waterlevel\": 17.4}, {\"frequency\": 0.00041740347, \"waterlevel\": 17.5}, {\"frequency\": 0.00024611963, \"waterlevel\": 17.6}, {\"frequency\": 0.00014169683, \"waterlevel\": 17.7}, {\"frequency\": 8.2026672e-05, \"waterlevel\": 17.8}, {\"frequency\": 4.6522305999999996e-05, \"waterlevel\": 17.9}, {\"frequency\": 2.8103053e-05, \"waterlevel\": 18.0}, {\"frequency\": 1.7673468000000002e-05, \"waterlevel\": 18.1}, {\"frequency\": 1.0981082e-05, \"waterlevel\": 18.2}, {\"frequency\": 6.8735044e-06, \"waterlevel\": 18.3}]}};\n",
       "var selector = \"#2cda8052-3d74-48af-b5c3-ac4c451bbe4b\";\n",
       "var type = \"vega-lite\";\n",
       "\n",
       "var output_area = this;\n",
       "require(['nbextensions/jupyter-vega/index'], function(vega) {\n",
       "  vega.render(selector, spec, type, output_area);\n",
       "}, function (err) {\n",
       "  if (err.requireType !== 'scripterror') {\n",
       "    throw(err);\n",
       "  }\n",
       "});\n"
      ]
     },
     "metadata": {
      "jupyter-vega": "#2cda8052-3d74-48af-b5c3-ac4c451bbe4b"
     },
     "output_type": "display_data"
    },
    {
     "data": {
      "image/png": "[encoded data removed]"
     },
     "metadata": {
      "jupyter-vega": "#2cda8052-3d74-48af-b5c3-ac4c451bbe4b"
     },
     "output_type": "display_data"
    }
   ],
   "source": [
    "Chart(df).mark_line().encode(\n",
    "    y=Y('waterlevel',scale=Scale(domain=[14,19])),\n",
    "    x=X('frequency',scale=Scale(type='log', domain=[0.1,1e-7])),\n",
    "    color=Color(value=\"blue\")    \n",
    ")"
   ]
  },
  {
   "cell_type": "markdown",
   "metadata": {},
   "source": [
    "OK, dat lukt. Altair is een versimpelling van het Vega-Lite JSON object. Maar vanuit Jupyer kan je ook in een keer een VegaLite object kunnen aanmaken. De beschrijving van je grafiek wordt wel iets groter, maar het verduidelijkt dingen misschien wat meer"
   ]
  },
  {
   "cell_type": "code",
   "execution_count": 9,
   "metadata": {},
   "outputs": [],
   "source": [
    "from vega import VegaLite"
   ]
  },
  {
   "cell_type": "code",
   "execution_count": 10,
   "metadata": {},
   "outputs": [
    {
     "data": {
      "text/html": [
       "<div class=\"vega-embed\" id=\"6bff338e-2962-480a-aab7-b8db289b1011\"></div>\n",
       "\n",
       "<style>\n",
       ".vega-embed svg, .vega-embed canvas {\n",
       "  border: 1px dotted gray;\n",
       "}\n",
       "\n",
       ".vega-embed .vega-actions a {\n",
       "  margin-right: 6px;\n",
       "}\n",
       "</style>\n"
      ]
     },
     "metadata": {
      "jupyter-vega": "#6bff338e-2962-480a-aab7-b8db289b1011"
     },
     "output_type": "display_data"
    },
    {
     "data": {
      "application/javascript": [
       "var spec = {\"mark\": \"line\", \"encoding\": {\"color\": {\"value\": \"#000\"}, \"y\": {\"field\": \"waterlevel\", \"type\": \"quantitative\", \"scale\": {\"domain\": [14, 19]}}, \"x\": {\"field\": \"frequency\", \"type\": \"quantitative\", \"scale\": {\"type\": \"log\", \"domain\": [0.1, 1e-07]}}}, \"height\": 400, \"data\": {\"values\": [{\"frequency\": 0.1131702, \"waterlevel\": 15.2}, {\"frequency\": 0.1005654, \"waterlevel\": 15.3}, {\"frequency\": 0.087884739, \"waterlevel\": 15.4}, {\"frequency\": 0.07728956599999999, \"waterlevel\": 15.5}, {\"frequency\": 0.067216396, \"waterlevel\": 15.6}, {\"frequency\": 0.057845965, \"waterlevel\": 15.7}, {\"frequency\": 0.049733865999999995, \"waterlevel\": 15.8}, {\"frequency\": 0.041748479, \"waterlevel\": 15.9}, {\"frequency\": 0.034775663, \"waterlevel\": 16.0}, {\"frequency\": 0.029016647000000003, \"waterlevel\": 16.1}, {\"frequency\": 0.024304695, \"waterlevel\": 16.2}, {\"frequency\": 0.020148421, \"waterlevel\": 16.3}, {\"frequency\": 0.016645148000000002, \"waterlevel\": 16.4}, {\"frequency\": 0.013650425, \"waterlevel\": 16.5}, {\"frequency\": 0.011218123, \"waterlevel\": 16.6}, {\"frequency\": 0.0089963209, \"waterlevel\": 16.7}, {\"frequency\": 0.0069746193, \"waterlevel\": 16.8}, {\"frequency\": 0.0052340645, \"waterlevel\": 16.9}, {\"frequency\": 0.0037789331, \"waterlevel\": 17.0}, {\"frequency\": 0.0026245182000000002, \"waterlevel\": 17.1}, {\"frequency\": 0.0017343683, \"waterlevel\": 17.2}, {\"frequency\": 0.0011132542999999998, \"waterlevel\": 17.3}, {\"frequency\": 0.00069478055, \"waterlevel\": 17.4}, {\"frequency\": 0.00041740347, \"waterlevel\": 17.5}, {\"frequency\": 0.00024611963, \"waterlevel\": 17.6}, {\"frequency\": 0.00014169683, \"waterlevel\": 17.7}, {\"frequency\": 8.2026672e-05, \"waterlevel\": 17.8}, {\"frequency\": 4.6522305999999996e-05, \"waterlevel\": 17.9}, {\"frequency\": 2.8103053e-05, \"waterlevel\": 18.0}, {\"frequency\": 1.7673468000000002e-05, \"waterlevel\": 18.1}, {\"frequency\": 1.0981082e-05, \"waterlevel\": 18.2}, {\"frequency\": 6.8735044e-06, \"waterlevel\": 18.3}]}, \"width\": 400, \"config\": {\"cell\": {\"width\": 500, \"height\": 350}}};\n",
       "var selector = \"#6bff338e-2962-480a-aab7-b8db289b1011\";\n",
       "var type = \"vega-lite\";\n",
       "\n",
       "var output_area = this;\n",
       "require(['nbextensions/jupyter-vega/index'], function(vega) {\n",
       "  vega.render(selector, spec, type, output_area);\n",
       "}, function (err) {\n",
       "  if (err.requireType !== 'scripterror') {\n",
       "    throw(err);\n",
       "  }\n",
       "});\n"
      ]
     },
     "metadata": {
      "jupyter-vega": "#6bff338e-2962-480a-aab7-b8db289b1011"
     },
     "output_type": "display_data"
    },
    {
     "data": {
      "image/png": "[encoded data removed]"
     },
     "metadata": {
      "jupyter-vega": "#6bff338e-2962-480a-aab7-b8db289b1011"
     },
     "output_type": "display_data"
    }
   ],
   "source": [
    "VegaLite({\n",
    "  \"width\": 400,\n",
    "  \"height\": 400,\n",
    "  \"mark\": \"line\",\n",
    "  \"encoding\": {\n",
    "    \"x\": {\n",
    "      \"field\": \"frequency\",\n",
    "      \"type\": \"quantitative\",      \n",
    "      \"scale\": {\n",
    "        \"domain\": [0.1,1e-7],\n",
    "        \"type\": \"log\"\n",
    "      }\n",
    "\n",
    "    },\n",
    "    \"y\": {\n",
    "      \"field\": \"waterlevel\",\n",
    "      \"type\": \"quantitative\",\n",
    "      \"scale\": {\"domain\":[14,19]}\n",
    "    },\n",
    "    \"color\": {\"value\": \"#000\"}\n",
    "  }\n",
    "}, df)"
   ]
  },
  {
   "cell_type": "markdown",
   "metadata": {},
   "source": [
    "Zoals de naam Vega-Lite al zegt, is het een lite versie van Vega. De grafiek wordt gemaakt op basis van een aantal aannames. Wanneer je alle controle wilt hebben over de grafiek vanuit het bron-bron JSON object, ga dan uit van je Vega JSON object."
   ]
  },
  {
   "cell_type": "code",
   "execution_count": 11,
   "metadata": {},
   "outputs": [],
   "source": [
    "from vega import Vega"
   ]
  },
  {
   "cell_type": "code",
   "execution_count": 12,
   "metadata": {},
   "outputs": [
    {
     "data": {
      "text/html": [
       "<div class=\"vega-embed\" id=\"3c1d7633-177b-4156-9b50-297aec983cdf\"></div>\n",
       "\n",
       "<style>\n",
       ".vega-embed svg, .vega-embed canvas {\n",
       "  border: 1px dotted gray;\n",
       "}\n",
       "\n",
       ".vega-embed .vega-actions a {\n",
       "  margin-right: 6px;\n",
       "}\n",
       "</style>\n"
      ]
     },
     "metadata": {
      "jupyter-vega": "#3c1d7633-177b-4156-9b50-297aec983cdf"
     },
     "output_type": "display_data"
    },
    {
     "data": {
      "application/javascript": [
       "var spec = {\"width\": 1, \"height\": 1, \"padding\": \"auto\", \"marks\": [{\"type\": \"group\", \"scales\": [{\"type\": \"log\", \"name\": \"x\", \"rangeMax\": 500, \"round\": true, \"zero\": false, \"rangeMin\": 0, \"domain\": [0.1, 1e-07], \"nice\": true}, {\"type\": \"linear\", \"name\": \"y\", \"rangeMax\": 0, \"round\": true, \"zero\": false, \"rangeMin\": 350, \"domain\": [14, 19], \"nice\": true}], \"properties\": {\"update\": {\"width\": {\"field\": \"width\"}, \"height\": {\"field\": \"height\"}}}, \"name\": \"root\", \"axes\": [{\"type\": \"x\", \"scale\": \"x\", \"ticks\": 5, \"grid\": true, \"layer\": \"back\", \"title\": \"frequentie\", \"format\": \"s\"}, {\"type\": \"y\", \"scale\": \"y\", \"grid\": true, \"layer\": \"back\", \"title\": \"waterstand\", \"format\": \"s\"}], \"marks\": [{\"type\": \"line\", \"properties\": {\"update\": {\"stroke\": {\"value\": \"#4682b4\"}, \"strokeWidth\": {\"value\": 2}, \"y\": {\"field\": \"waterstand\", \"scale\": \"y\"}, \"x\": {\"field\": \"frequentie\", \"scale\": \"x\"}}}, \"name\": \"marks\", \"from\": {\"data\": \"source\", \"transform\": [{\"type\": \"sort\", \"by\": \"-frequentie\"}]}}], \"from\": {\"data\": \"layout\"}}], \"data\": [{\"name\": \"source\", \"format\": {\"type\": \"json\", \"parse\": {\"frequentie\": \"number\", \"waterstand\": \"number\"}}, \"values\": [{\"frequentie\": 0.1131702, \"waterstand\": 15.2}, {\"frequentie\": 0.1005654, \"waterstand\": 15.3}, {\"frequentie\": 0.087884739, \"waterstand\": 15.4}, {\"frequentie\": 0.07728956599999999, \"waterstand\": 15.5}, {\"frequentie\": 0.067216396, \"waterstand\": 15.6}, {\"frequentie\": 0.057845965, \"waterstand\": 15.7}, {\"frequentie\": 0.049733865999999995, \"waterstand\": 15.8}, {\"frequentie\": 0.041748479, \"waterstand\": 15.9}, {\"frequentie\": 0.034775663, \"waterstand\": 16}, {\"frequentie\": 0.029016647000000003, \"waterstand\": 16.1}, {\"frequentie\": 0.024304695, \"waterstand\": 16.2}, {\"frequentie\": 0.020148421, \"waterstand\": 16.3}, {\"frequentie\": 0.016645148000000002, \"waterstand\": 16.4}, {\"frequentie\": 0.013650425, \"waterstand\": 16.5}, {\"frequentie\": 0.011218123, \"waterstand\": 16.6}, {\"frequentie\": 0.0089963209, \"waterstand\": 16.7}, {\"frequentie\": 0.0069746193, \"waterstand\": 16.8}, {\"frequentie\": 0.0052340645, \"waterstand\": 16.9}, {\"frequentie\": 0.0037789331, \"waterstand\": 17}, {\"frequentie\": 0.0026245182000000002, \"waterstand\": 17.1}, {\"frequentie\": 0.0017343683, \"waterstand\": 17.2}, {\"frequentie\": 0.0011132542999999998, \"waterstand\": 17.3}, {\"frequentie\": 0.00069478055, \"waterstand\": 17.4}, {\"frequentie\": 0.00041740347, \"waterstand\": 17.5}, {\"frequentie\": 0.00024611963, \"waterstand\": 17.6}, {\"frequentie\": 0.00014169683, \"waterstand\": 17.7}, {\"frequentie\": 8.2026672e-05, \"waterstand\": 17.8}, {\"frequentie\": 4.6522305999999996e-05, \"waterstand\": 17.9}, {\"frequentie\": 2.8103053e-05, \"waterstand\": 18}, {\"frequentie\": 1.7673468000000002e-05, \"waterstand\": 18.1}, {\"frequentie\": 1.0981082e-05, \"waterstand\": 18.2}, {\"frequentie\": 6.8735044e-06, \"waterstand\": 18.3}], \"transform\": [{\"type\": \"filter\", \"test\": \"datum[\\\"frequentie\\\"] !== null && !isNaN(datum[\\\"frequentie\\\"]) && datum[\\\"waterstand\\\"] !== null && !isNaN(datum[\\\"waterstand\\\"])\"}, {\"type\": \"filter\", \"test\": \"datum[\\\"frequentie\\\"] > 0\"}]}, {\"name\": \"layout\", \"values\": [{}], \"transform\": [{\"type\": \"formula\", \"field\": \"width\", \"expr\": \"500\"}, {\"type\": \"formula\", \"field\": \"height\", \"expr\": \"350\"}]}]};\n",
       "var selector = \"#3c1d7633-177b-4156-9b50-297aec983cdf\";\n",
       "var type = \"vega\";\n",
       "\n",
       "var output_area = this;\n",
       "require(['nbextensions/jupyter-vega/index'], function(vega) {\n",
       "  vega.render(selector, spec, type, output_area);\n",
       "}, function (err) {\n",
       "  if (err.requireType !== 'scripterror') {\n",
       "    throw(err);\n",
       "  }\n",
       "});\n"
      ]
     },
     "metadata": {
      "jupyter-vega": "#3c1d7633-177b-4156-9b50-297aec983cdf"
     },
     "output_type": "display_data"
    },
    {
     "data": {
      "image/png": "[encoded data removed]"
     },
     "metadata": {
      "jupyter-vega": "#3c1d7633-177b-4156-9b50-297aec983cdf"
     },
     "output_type": "display_data"
    }
   ],
   "source": [
    "Vega({\n",
    "  \"width\": 1,\n",
    "  \"height\": 1,\n",
    "  \"padding\": \"auto\",\n",
    "  \"data\": [\n",
    "    {\n",
    "      \"name\": \"source\",\n",
    "      \"values\": [\n",
    "        {\"waterstand\": 15.2,\"frequentie\": 0.1131702},\n",
    "        {\"waterstand\": 15.3,\"frequentie\": 0.1005654},\n",
    "        {\"waterstand\": 15.4,\"frequentie\": 0.087884739},\n",
    "        {\n",
    "          \"waterstand\": 15.5,\n",
    "          \"frequentie\": 0.07728956599999999\n",
    "        },\n",
    "        {\"waterstand\": 15.6,\"frequentie\": 0.067216396},\n",
    "        {\"waterstand\": 15.7,\"frequentie\": 0.057845965},\n",
    "        {\n",
    "          \"waterstand\": 15.8,\n",
    "          \"frequentie\": 0.049733865999999995\n",
    "        },\n",
    "        {\"waterstand\": 15.9,\"frequentie\": 0.041748479},\n",
    "        {\"waterstand\": 16,\"frequentie\": 0.034775663},\n",
    "        {\n",
    "          \"waterstand\": 16.1,\n",
    "          \"frequentie\": 0.029016647000000003\n",
    "        },\n",
    "        {\"waterstand\": 16.2,\"frequentie\": 0.024304695},\n",
    "        {\"waterstand\": 16.3,\"frequentie\": 0.020148421},\n",
    "        {\n",
    "          \"waterstand\": 16.4,\n",
    "          \"frequentie\": 0.016645148000000002\n",
    "        },\n",
    "        {\"waterstand\": 16.5,\"frequentie\": 0.013650425},\n",
    "        {\"waterstand\": 16.6,\"frequentie\": 0.011218123},\n",
    "        {\"waterstand\": 16.7,\"frequentie\": 0.0089963209},\n",
    "        {\"waterstand\": 16.8,\"frequentie\": 0.0069746193},\n",
    "        {\"waterstand\": 16.9,\"frequentie\": 0.0052340645},\n",
    "        {\"waterstand\": 17,\"frequentie\": 0.0037789331},\n",
    "        {\n",
    "          \"waterstand\": 17.1,\n",
    "          \"frequentie\": 0.0026245182000000002\n",
    "        },\n",
    "        {\"waterstand\": 17.2,\"frequentie\": 0.0017343683},\n",
    "        {\n",
    "          \"waterstand\": 17.3,\n",
    "          \"frequentie\": 0.0011132542999999998\n",
    "        },\n",
    "        {\"waterstand\": 17.4,\"frequentie\": 0.00069478055},\n",
    "        {\"waterstand\": 17.5,\"frequentie\": 0.00041740347},\n",
    "        {\"waterstand\": 17.6,\"frequentie\": 0.00024611963},\n",
    "        {\"waterstand\": 17.7,\"frequentie\": 0.00014169683},\n",
    "        {\"waterstand\": 17.8,\"frequentie\": 0.000082026672},\n",
    "        {\n",
    "          \"waterstand\": 17.9,\n",
    "          \"frequentie\": 0.000046522305999999996\n",
    "        },\n",
    "        {\"waterstand\": 18,\"frequentie\": 0.000028103053},\n",
    "        {\n",
    "          \"waterstand\": 18.1,\n",
    "          \"frequentie\": 0.000017673468000000002\n",
    "        },\n",
    "        {\"waterstand\": 18.2,\"frequentie\": 0.000010981082},\n",
    "        {\"waterstand\": 18.3,\"frequentie\": 0.0000068735044}\n",
    "      ],\n",
    "      \"format\": {\n",
    "        \"type\": \"json\",\n",
    "        \"parse\": {\"frequentie\": \"number\",\"waterstand\": \"number\"}\n",
    "      },\n",
    "      \"transform\": [\n",
    "        {\n",
    "          \"type\": \"filter\",\n",
    "          \"test\": \"datum[\\\"frequentie\\\"] !== null && !isNaN(datum[\\\"frequentie\\\"]) && datum[\\\"waterstand\\\"] !== null && !isNaN(datum[\\\"waterstand\\\"])\"\n",
    "        },\n",
    "        {\n",
    "          \"type\": \"filter\",\n",
    "          \"test\": \"datum[\\\"frequentie\\\"] > 0\"\n",
    "        }\n",
    "      ]\n",
    "    },\n",
    "    {\n",
    "      \"name\": \"layout\",\n",
    "      \"values\": [{}],\n",
    "      \"transform\": [\n",
    "        {\"type\": \"formula\",\"field\": \"width\",\"expr\": \"500\"},\n",
    "        {\"type\": \"formula\",\"field\": \"height\",\"expr\": \"350\"}\n",
    "      ]\n",
    "    }\n",
    "  ],\n",
    "  \"marks\": [\n",
    "    {\n",
    "      \"name\": \"root\",\n",
    "      \"type\": \"group\",\n",
    "      \"from\": {\"data\": \"layout\"},\n",
    "      \"properties\": {\n",
    "        \"update\": {\n",
    "          \"width\": {\"field\": \"width\"},\n",
    "          \"height\": {\"field\": \"height\"}\n",
    "        }\n",
    "      },\n",
    "      \"marks\": [\n",
    "        {\n",
    "          \"name\": \"marks\",\n",
    "          \"type\": \"line\",\n",
    "          \"from\": {\n",
    "            \"data\": \"source\",\n",
    "            \"transform\": [{\"type\": \"sort\",\"by\": \"-frequentie\"}]\n",
    "          },\n",
    "          \"properties\": {\n",
    "            \"update\": {\n",
    "              \"x\": {\"scale\": \"x\",\"field\": \"frequentie\"},\n",
    "              \"y\": {\"scale\": \"y\",\"field\": \"waterstand\"},\n",
    "              \"strokeWidth\": {\"value\": 2},\n",
    "              \"stroke\": {\"value\": \"#4682b4\"}\n",
    "            }\n",
    "          }\n",
    "        }\n",
    "      ],\n",
    "      \"scales\": [\n",
    "        {\n",
    "          \"name\": \"x\",\n",
    "          \"type\": \"log\",\n",
    "          \"domain\": [0.1,1e-7],\n",
    "          \"rangeMin\": 0,\n",
    "          \"rangeMax\": 500,\n",
    "          \"round\": True,\n",
    "          \"nice\": True,\n",
    "          \"zero\": False\n",
    "        },\n",
    "        {\n",
    "          \"name\": \"y\",\n",
    "          \"type\": \"linear\",\n",
    "          \"domain\": [14,19],\n",
    "          \"rangeMin\": 350,\n",
    "          \"rangeMax\": 0,\n",
    "          \"round\": True,\n",
    "          \"nice\": True,\n",
    "          \"zero\": False\n",
    "        }\n",
    "      ],\n",
    "      \"axes\": [\n",
    "        {\n",
    "          \"type\": \"x\",\n",
    "          \"scale\": \"x\",\n",
    "          \"format\": \"s\",\n",
    "          \"grid\": True,\n",
    "          \"layer\": \"back\",\n",
    "          \"ticks\": 5,\n",
    "          \"title\": \"frequentie\"\n",
    "        },\n",
    "        {\n",
    "          \"type\": \"y\",\n",
    "          \"scale\": \"y\",\n",
    "          \"format\": \"s\",\n",
    "          \"grid\": True,\n",
    "          \"layer\": \"back\",\n",
    "          \"title\": \"waterstand\"\n",
    "        }\n",
    "      ]\n",
    "    }\n",
    "  ]\n",
    "})"
   ]
  },
  {
   "cell_type": "markdown",
   "metadata": {},
   "source": [
    "En nu kunnen we het object gebruiken om bijvoorbeeld een Bokeh plot te maken. Indien nodig inclusief binding functies. Deze functies moeten voor de webomgeving in principe gemaakt worden door de ontwikkelaars, maar wanneer dit VegaLite JSON object is aangemaakt door collega x, dan kan collega y het gebruiken in zijn favoriete plotting library"
   ]
  },
  {
   "cell_type": "code",
   "execution_count": 13,
   "metadata": {},
   "outputs": [],
   "source": [
    "VL = {\n",
    "  \"width\": 400,\n",
    "  \"height\": 400,\n",
    "  \"mark\": \"line\",\n",
    "  \"encoding\": {\n",
    "    \"x\": {\n",
    "      \"field\": \"frequency\",\n",
    "      \"type\": \"quantitative\",      \n",
    "      \"scale\": {\n",
    "        \"domain\": [0.1,1e-7],\n",
    "        \"type\": \"log\"\n",
    "      }\n",
    "\n",
    "    },\n",
    "    \"y\": {\n",
    "      \"field\": \"waterlevel\",\n",
    "      \"type\": \"quantitative\",\n",
    "      \"scale\": {\"domain\":[14,19]}\n",
    "    },\n",
    "    \"color\": {\"value\": \"#000000\"}\n",
    "  }\n",
    "}"
   ]
  },
  {
   "cell_type": "code",
   "execution_count": 14,
   "metadata": {},
   "outputs": [
    {
     "data": {
      "text/html": [
       "\n",
       "    <div class=\"bk-root\">\n",
       "        <a href=\"http://bokeh.pydata.org\" target=\"_blank\" class=\"bk-logo bk-logo-small bk-logo-notebook\"></a>\n",
       "        <span id=\"48323596-3f7e-49cb-8e28-e71ac11eed63\">Loading BokehJS ...</span>\n",
       "    </div>"
      ]
     },
     "metadata": {},
     "output_type": "display_data"
    },
    {
     "data": {
      "application/javascript": [
       "\n",
       "(function(global) {\n",
       "  function now() {\n",
       "    return new Date();\n",
       "  }\n",
       "\n",
       "  var force = true;\n",
       "\n",
       "  if (typeof (window._bokeh_onload_callbacks) === \"undefined\" || force === true) {\n",
       "    window._bokeh_onload_callbacks = [];\n",
       "    window._bokeh_is_loading = undefined;\n",
       "  }\n",
       "\n",
       "\n",
       "  \n",
       "  if (typeof (window._bokeh_timeout) === \"undefined\" || force === true) {\n",
       "    window._bokeh_timeout = Date.now() + 5000;\n",
       "    window._bokeh_failed_load = false;\n",
       "  }\n",
       "\n",
       "  var NB_LOAD_WARNING = {'data': {'text/html':\n",
       "     \"<div style='background-color: #fdd'>\\n\"+\n",
       "     \"<p>\\n\"+\n",
       "     \"BokehJS does not appear to have successfully loaded. If loading BokehJS from CDN, this \\n\"+\n",
       "     \"may be due to a slow or bad network connection. Possible fixes:\\n\"+\n",
       "     \"</p>\\n\"+\n",
       "     \"<ul>\\n\"+\n",
       "     \"<li>re-rerun `output_notebook()` to attempt to load from CDN again, or</li>\\n\"+\n",
       "     \"<li>use INLINE resources instead, as so:</li>\\n\"+\n",
       "     \"</ul>\\n\"+\n",
       "     \"<code>\\n\"+\n",
       "     \"from bokeh.resources import INLINE\\n\"+\n",
       "     \"output_notebook(resources=INLINE)\\n\"+\n",
       "     \"</code>\\n\"+\n",
       "     \"</div>\"}};\n",
       "\n",
       "  function display_loaded() {\n",
       "    if (window.Bokeh !== undefined) {\n",
       "      document.getElementById(\"48323596-3f7e-49cb-8e28-e71ac11eed63\").textContent = \"BokehJS successfully loaded.\";\n",
       "    } else if (Date.now() < window._bokeh_timeout) {\n",
       "      setTimeout(display_loaded, 100)\n",
       "    }\n",
       "  }\n",
       "\n",
       "  function run_callbacks() {\n",
       "    window._bokeh_onload_callbacks.forEach(function(callback) { callback() });\n",
       "    delete window._bokeh_onload_callbacks\n",
       "    console.info(\"Bokeh: all callbacks have finished\");\n",
       "  }\n",
       "\n",
       "  function load_libs(js_urls, callback) {\n",
       "    window._bokeh_onload_callbacks.push(callback);\n",
       "    if (window._bokeh_is_loading > 0) {\n",
       "      console.log(\"Bokeh: BokehJS is being loaded, scheduling callback at\", now());\n",
       "      return null;\n",
       "    }\n",
       "    if (js_urls == null || js_urls.length === 0) {\n",
       "      run_callbacks();\n",
       "      return null;\n",
       "    }\n",
       "    console.log(\"Bokeh: BokehJS not loaded, scheduling load and callback at\", now());\n",
       "    window._bokeh_is_loading = js_urls.length;\n",
       "    for (var i = 0; i < js_urls.length; i++) {\n",
       "      var url = js_urls[i];\n",
       "      var s = document.createElement('script');\n",
       "      s.src = url;\n",
       "      s.async = false;\n",
       "      s.onreadystatechange = s.onload = function() {\n",
       "        window._bokeh_is_loading--;\n",
       "        if (window._bokeh_is_loading === 0) {\n",
       "          console.log(\"Bokeh: all BokehJS libraries loaded\");\n",
       "          run_callbacks()\n",
       "        }\n",
       "      };\n",
       "      s.onerror = function() {\n",
       "        console.warn(\"failed to load library \" + url);\n",
       "      };\n",
       "      console.log(\"Bokeh: injecting script tag for BokehJS library: \", url);\n",
       "      document.getElementsByTagName(\"head\")[0].appendChild(s);\n",
       "    }\n",
       "  };var element = document.getElementById(\"48323596-3f7e-49cb-8e28-e71ac11eed63\");\n",
       "  if (element == null) {\n",
       "    console.log(\"Bokeh: ERROR: autoload.js configured with elementid '48323596-3f7e-49cb-8e28-e71ac11eed63' but no matching script tag was found. \")\n",
       "    return false;\n",
       "  }\n",
       "\n",
       "  var js_urls = [\"https://cdn.pydata.org/bokeh/release/bokeh-0.12.4.min.js\", \"https://cdn.pydata.org/bokeh/release/bokeh-widgets-0.12.4.min.js\"];\n",
       "\n",
       "  var inline_js = [\n",
       "    function(Bokeh) {\n",
       "      Bokeh.set_log_level(\"info\");\n",
       "    },\n",
       "    \n",
       "    function(Bokeh) {\n",
       "      \n",
       "      document.getElementById(\"48323596-3f7e-49cb-8e28-e71ac11eed63\").textContent = \"BokehJS is loading...\";\n",
       "\n",
       "    },\n",
       "    function(Bokeh) {\n",
       "      console.log(\"Bokeh: injecting CSS: https://cdn.pydata.org/bokeh/release/bokeh-0.12.4.min.css\");\n",
       "      Bokeh.embed.inject_css(\"https://cdn.pydata.org/bokeh/release/bokeh-0.12.4.min.css\");\n",
       "      console.log(\"Bokeh: injecting CSS: https://cdn.pydata.org/bokeh/release/bokeh-widgets-0.12.4.min.css\");\n",
       "      Bokeh.embed.inject_css(\"https://cdn.pydata.org/bokeh/release/bokeh-widgets-0.12.4.min.css\");\n",
       "    }\n",
       "  ];\n",
       "\n",
       "  function run_inline_js() {\n",
       "    \n",
       "    if ((window.Bokeh !== undefined) || (force === true)) {\n",
       "      for (var i = 0; i < inline_js.length; i++) {\n",
       "        inline_js[i](window.Bokeh);\n",
       "      }if (force === true) {\n",
       "        display_loaded();\n",
       "      }} else if (Date.now() < window._bokeh_timeout) {\n",
       "      setTimeout(run_inline_js, 100);\n",
       "    } else if (!window._bokeh_failed_load) {\n",
       "      console.log(\"Bokeh: BokehJS failed to load within specified timeout.\");\n",
       "      window._bokeh_failed_load = true;\n",
       "    } else if (force !== true) {\n",
       "      var cell = $(document.getElementById(\"48323596-3f7e-49cb-8e28-e71ac11eed63\")).parents('.cell').data().cell;\n",
       "      cell.output_area.append_execute_result(NB_LOAD_WARNING)\n",
       "    }\n",
       "\n",
       "  }\n",
       "\n",
       "  if (window._bokeh_is_loading === 0) {\n",
       "    console.log(\"Bokeh: BokehJS loaded, going straight to plotting\");\n",
       "    run_inline_js();\n",
       "  } else {\n",
       "    load_libs(js_urls, function() {\n",
       "      console.log(\"Bokeh: BokehJS plotting callback run at\", now());\n",
       "      run_inline_js();\n",
       "    });\n",
       "  }\n",
       "}(this));"
      ]
     },
     "metadata": {},
     "output_type": "display_data"
    }
   ],
   "source": [
    "import bokeh\n",
    "from bokeh.io import output_notebook, show\n",
    "from bokeh.models import Range1d\n",
    "from bokeh.plotting import figure\n",
    "output_notebook()"
   ]
  },
  {
   "cell_type": "code",
   "execution_count": 15,
   "metadata": {},
   "outputs": [],
   "source": [
    "VL_chart_type = VL[\"mark\"]\n",
    "VL_x_scale_domain = VL[\"encoding\"][\"x\"][\"scale\"][\"domain\"]\n",
    "VL_y_scale_domain = VL[\"encoding\"][\"y\"][\"scale\"][\"domain\"]\n",
    "VL_x_scale_type = VL[\"encoding\"][\"x\"][\"scale\"][\"type\"]\n",
    "VL_width = VL[\"width\"]\n",
    "VL_height = VL[\"height\"]\n",
    "VL_x_field = VL[\"encoding\"][\"x\"][\"field\"]\n",
    "VL_y_field = VL[\"encoding\"][\"y\"][\"field\"]\n",
    "VL_color = VL[\"encoding\"][\"color\"][\"value\"]"
   ]
  },
  {
   "cell_type": "code",
   "execution_count": 16,
   "metadata": {},
   "outputs": [
    {
     "name": "stdout",
     "output_type": "stream",
     "text": [
      "x_scale_domain: [0.1, 1e-07]\n",
      "color #000000\n"
     ]
    }
   ],
   "source": [
    "print ('x_scale_domain:',VL_x_scale_domain)\n",
    "print ('color', VL_color)"
   ]
  },
  {
   "cell_type": "code",
   "execution_count": 17,
   "metadata": {},
   "outputs": [],
   "source": [
    "# maak een plot"
   ]
  },
  {
   "cell_type": "code",
   "execution_count": 18,
   "metadata": {},
   "outputs": [
    {
     "data": {
      "text/html": [
       "\n",
       "\n",
       "    <div class=\"bk-root\">\n",
       "        <div class=\"bk-plotdiv\" id=\"1841b65a-514c-41d3-93e5-25996de2ea59\"></div>\n",
       "    </div>\n",
       "<script type=\"text/javascript\">\n",
       "  \n",
       "  (function(global) {\n",
       "    function now() {\n",
       "      return new Date();\n",
       "    }\n",
       "\n",
       "    var force = false;\n",
       "\n",
       "    if (typeof (window._bokeh_onload_callbacks) === \"undefined\" || force === true) {\n",
       "      window._bokeh_onload_callbacks = [];\n",
       "      window._bokeh_is_loading = undefined;\n",
       "    }\n",
       "\n",
       "\n",
       "    \n",
       "    if (typeof (window._bokeh_timeout) === \"undefined\" || force === true) {\n",
       "      window._bokeh_timeout = Date.now() + 0;\n",
       "      window._bokeh_failed_load = false;\n",
       "    }\n",
       "\n",
       "    var NB_LOAD_WARNING = {'data': {'text/html':\n",
       "       \"<div style='background-color: #fdd'>\\n\"+\n",
       "       \"<p>\\n\"+\n",
       "       \"BokehJS does not appear to have successfully loaded. If loading BokehJS from CDN, this \\n\"+\n",
       "       \"may be due to a slow or bad network connection. Possible fixes:\\n\"+\n",
       "       \"</p>\\n\"+\n",
       "       \"<ul>\\n\"+\n",
       "       \"<li>re-rerun `output_notebook()` to attempt to load from CDN again, or</li>\\n\"+\n",
       "       \"<li>use INLINE resources instead, as so:</li>\\n\"+\n",
       "       \"</ul>\\n\"+\n",
       "       \"<code>\\n\"+\n",
       "       \"from bokeh.resources import INLINE\\n\"+\n",
       "       \"output_notebook(resources=INLINE)\\n\"+\n",
       "       \"</code>\\n\"+\n",
       "       \"</div>\"}};\n",
       "\n",
       "    function display_loaded() {\n",
       "      if (window.Bokeh !== undefined) {\n",
       "        document.getElementById(\"1841b65a-514c-41d3-93e5-25996de2ea59\").textContent = \"BokehJS successfully loaded.\";\n",
       "      } else if (Date.now() < window._bokeh_timeout) {\n",
       "        setTimeout(display_loaded, 100)\n",
       "      }\n",
       "    }\n",
       "\n",
       "    function run_callbacks() {\n",
       "      window._bokeh_onload_callbacks.forEach(function(callback) { callback() });\n",
       "      delete window._bokeh_onload_callbacks\n",
       "      console.info(\"Bokeh: all callbacks have finished\");\n",
       "    }\n",
       "\n",
       "    function load_libs(js_urls, callback) {\n",
       "      window._bokeh_onload_callbacks.push(callback);\n",
       "      if (window._bokeh_is_loading > 0) {\n",
       "        console.log(\"Bokeh: BokehJS is being loaded, scheduling callback at\", now());\n",
       "        return null;\n",
       "      }\n",
       "      if (js_urls == null || js_urls.length === 0) {\n",
       "        run_callbacks();\n",
       "        return null;\n",
       "      }\n",
       "      console.log(\"Bokeh: BokehJS not loaded, scheduling load and callback at\", now());\n",
       "      window._bokeh_is_loading = js_urls.length;\n",
       "      for (var i = 0; i < js_urls.length; i++) {\n",
       "        var url = js_urls[i];\n",
       "        var s = document.createElement('script');\n",
       "        s.src = url;\n",
       "        s.async = false;\n",
       "        s.onreadystatechange = s.onload = function() {\n",
       "          window._bokeh_is_loading--;\n",
       "          if (window._bokeh_is_loading === 0) {\n",
       "            console.log(\"Bokeh: all BokehJS libraries loaded\");\n",
       "            run_callbacks()\n",
       "          }\n",
       "        };\n",
       "        s.onerror = function() {\n",
       "          console.warn(\"failed to load library \" + url);\n",
       "        };\n",
       "        console.log(\"Bokeh: injecting script tag for BokehJS library: \", url);\n",
       "        document.getElementsByTagName(\"head\")[0].appendChild(s);\n",
       "      }\n",
       "    };var element = document.getElementById(\"1841b65a-514c-41d3-93e5-25996de2ea59\");\n",
       "    if (element == null) {\n",
       "      console.log(\"Bokeh: ERROR: autoload.js configured with elementid '1841b65a-514c-41d3-93e5-25996de2ea59' but no matching script tag was found. \")\n",
       "      return false;\n",
       "    }\n",
       "\n",
       "    var js_urls = [];\n",
       "\n",
       "    var inline_js = [\n",
       "      function(Bokeh) {\n",
       "        (function() {\n",
       "          var fn = function() {\n",
       "            var docs_json = {\"acdeb60d-7207-4522-8867-ab67acec6c07\":{\"roots\":{\"references\":[{\"attributes\":{\"plot\":{\"id\":\"1320f199-a113-42c8-824f-ba16ceba46de\",\"subtype\":\"Figure\",\"type\":\"Plot\"}},\"id\":\"2c75c83f-f064-4015-8fa9-9b8d8f119747\",\"type\":\"PanTool\"},{\"attributes\":{\"plot\":null,\"text\":\"\"},\"id\":\"2ac79091-9a18-441d-9d6c-ae36840a526e\",\"type\":\"Title\"},{\"attributes\":{\"data_source\":{\"id\":\"6da18671-758c-4ef3-858f-5a218018307b\",\"type\":\"ColumnDataSource\"},\"glyph\":{\"id\":\"45040a8d-d5a2-41de-bf1a-7c4de8ac839b\",\"type\":\"Line\"},\"hover_glyph\":null,\"nonselection_glyph\":{\"id\":\"ff320b62-6f15-41e3-83b6-995e9cf889bf\",\"type\":\"Line\"},\"selection_glyph\":null},\"id\":\"d1df56ce-0530-45d1-be47-3b32e7754bdf\",\"type\":\"GlyphRenderer\"},{\"attributes\":{\"plot\":{\"id\":\"1320f199-a113-42c8-824f-ba16ceba46de\",\"subtype\":\"Figure\",\"type\":\"Plot\"}},\"id\":\"96095831-6de0-4d92-bb04-837b9d00edb3\",\"type\":\"WheelZoomTool\"},{\"attributes\":{\"num_minor_ticks\":10},\"id\":\"8bb027bb-cae2-4271-989a-099f9b374444\",\"type\":\"LogTicker\"},{\"attributes\":{\"callback\":null,\"end\":1e-07,\"start\":0.1},\"id\":\"9583b2eb-1d99-4387-bdeb-c4160de436f3\",\"type\":\"Range1d\"},{\"attributes\":{\"callback\":null,\"column_names\":[\"y\",\"x\"],\"data\":{\"x\":{\"__ndarray__\":\"SLzh47j4vD/O8Rtwp765PxWP0j+df7Y/tcJKvj/Jsz87MpP+FzWxP9jYwn/8na0/xYHyn7d2qT+f7Ox/DmClPz49kJ4dzqE/T0meN4q2nT9kMqh4VOOYP/hNC6XJoZQ/sTUw+WwLkT90rJwHwfSLPzKSQvuG+YY/tAhmwKlsgj8Sk7oca5F8PyR5pH1QcHU/ETSBQv/0bj8stsZ6A4BlP82MLMh3alw/aGLhs1M9Uj8lIr3ePcRGP28yvUDeWjs/CEkCwzMhMD+UcmiAjpIiPxVpm363gBU/EgIvQx5kCD/3xcoY23f9PvckG3kviPI+VKYGa2wH5z4iR7qAXtTcPg==\",\"dtype\":\"float64\",\"shape\":[32]},\"y\":{\"__ndarray__\":\"ZmZmZmZmLkCamZmZmZkuQM3MzMzMzC5AAAAAAAAAL0AzMzMzMzMvQGZmZmZmZi9AmpmZmZmZL0DNzMzMzMwvQAAAAAAAADBAmpmZmZkZMEAzMzMzMzMwQM3MzMzMTDBAZmZmZmZmMEAAAAAAAIAwQJqZmZmZmTBAMzMzMzOzMEDNzMzMzMwwQGZmZmZm5jBAAAAAAAAAMUCamZmZmRkxQDMzMzMzMzFAzczMzMxMMUBmZmZmZmYxQAAAAAAAgDFAmpmZmZmZMUAzMzMzM7MxQM3MzMzMzDFAZmZmZmbmMUAAAAAAAAAyQJqZmZmZGTJAMzMzMzMzMkDNzMzMzEwyQA==\",\"dtype\":\"float64\",\"shape\":[32]}}},\"id\":\"6da18671-758c-4ef3-858f-5a218018307b\",\"type\":\"ColumnDataSource\"},{\"attributes\":{\"formatter\":{\"id\":\"d2ba446e-948a-4d08-9b00-ad5183715f57\",\"type\":\"LogTickFormatter\"},\"plot\":{\"id\":\"1320f199-a113-42c8-824f-ba16ceba46de\",\"subtype\":\"Figure\",\"type\":\"Plot\"},\"ticker\":{\"id\":\"8bb027bb-cae2-4271-989a-099f9b374444\",\"type\":\"LogTicker\"}},\"id\":\"6404e1f7-e4b6-4ac4-9057-5d9f0a32f188\",\"type\":\"LogAxis\"},{\"attributes\":{\"plot\":{\"id\":\"1320f199-a113-42c8-824f-ba16ceba46de\",\"subtype\":\"Figure\",\"type\":\"Plot\"}},\"id\":\"26d581fc-2538-42c8-9a9a-d9c827bd1b95\",\"type\":\"HelpTool\"},{\"attributes\":{\"line_alpha\":{\"value\":0.1},\"line_color\":{\"value\":\"#1f77b4\"},\"x\":{\"field\":\"x\"},\"y\":{\"field\":\"y\"}},\"id\":\"ff320b62-6f15-41e3-83b6-995e9cf889bf\",\"type\":\"Line\"},{\"attributes\":{\"bottom_units\":\"screen\",\"fill_alpha\":{\"value\":0.5},\"fill_color\":{\"value\":\"lightgrey\"},\"left_units\":\"screen\",\"level\":\"overlay\",\"line_alpha\":{\"value\":1.0},\"line_color\":{\"value\":\"black\"},\"line_dash\":[4,4],\"line_width\":{\"value\":2},\"plot\":null,\"render_mode\":\"css\",\"right_units\":\"screen\",\"top_units\":\"screen\"},\"id\":\"aca19104-bf31-4a80-a5af-c6ecfbd7a157\",\"type\":\"BoxAnnotation\"},{\"attributes\":{\"overlay\":{\"id\":\"aca19104-bf31-4a80-a5af-c6ecfbd7a157\",\"type\":\"BoxAnnotation\"},\"plot\":{\"id\":\"1320f199-a113-42c8-824f-ba16ceba46de\",\"subtype\":\"Figure\",\"type\":\"Plot\"}},\"id\":\"4a62419c-87e0-448e-a0d6-29510cc758b1\",\"type\":\"BoxZoomTool\"},{\"attributes\":{\"active_drag\":\"auto\",\"active_scroll\":\"auto\",\"active_tap\":\"auto\",\"tools\":[{\"id\":\"2c75c83f-f064-4015-8fa9-9b8d8f119747\",\"type\":\"PanTool\"},{\"id\":\"96095831-6de0-4d92-bb04-837b9d00edb3\",\"type\":\"WheelZoomTool\"},{\"id\":\"4a62419c-87e0-448e-a0d6-29510cc758b1\",\"type\":\"BoxZoomTool\"},{\"id\":\"df9aa6bb-fcaa-46f3-8095-15d7144c7522\",\"type\":\"SaveTool\"},{\"id\":\"9297b868-822c-4fc7-bf6a-ce7092389c3f\",\"type\":\"ResetTool\"},{\"id\":\"26d581fc-2538-42c8-9a9a-d9c827bd1b95\",\"type\":\"HelpTool\"}]},\"id\":\"151ce1c8-9a33-4f37-b968-c1848bed8df7\",\"type\":\"Toolbar\"},{\"attributes\":{\"formatter\":{\"id\":\"3af9f46c-162e-4651-bb03-64a8caedf041\",\"type\":\"BasicTickFormatter\"},\"plot\":{\"id\":\"1320f199-a113-42c8-824f-ba16ceba46de\",\"subtype\":\"Figure\",\"type\":\"Plot\"},\"ticker\":{\"id\":\"ee277788-73d3-4143-9183-828ee95219ba\",\"type\":\"BasicTicker\"}},\"id\":\"d64b0565-4e4d-4772-a8dc-ae464f797502\",\"type\":\"LinearAxis\"},{\"attributes\":{},\"id\":\"3af9f46c-162e-4651-bb03-64a8caedf041\",\"type\":\"BasicTickFormatter\"},{\"attributes\":{\"plot\":{\"id\":\"1320f199-a113-42c8-824f-ba16ceba46de\",\"subtype\":\"Figure\",\"type\":\"Plot\"}},\"id\":\"9297b868-822c-4fc7-bf6a-ce7092389c3f\",\"type\":\"ResetTool\"},{\"attributes\":{\"ticker\":null},\"id\":\"d2ba446e-948a-4d08-9b00-ad5183715f57\",\"type\":\"LogTickFormatter\"},{\"attributes\":{},\"id\":\"ee277788-73d3-4143-9183-828ee95219ba\",\"type\":\"BasicTicker\"},{\"attributes\":{\"plot\":{\"id\":\"1320f199-a113-42c8-824f-ba16ceba46de\",\"subtype\":\"Figure\",\"type\":\"Plot\"},\"ticker\":{\"id\":\"8bb027bb-cae2-4271-989a-099f9b374444\",\"type\":\"LogTicker\"}},\"id\":\"8b448bc6-7e4e-423e-8dec-9dffb8d171a8\",\"type\":\"Grid\"},{\"attributes\":{},\"id\":\"8072b11a-768e-4247-8ba0-ef9bdf857ec3\",\"type\":\"ToolEvents\"},{\"attributes\":{\"plot\":{\"id\":\"1320f199-a113-42c8-824f-ba16ceba46de\",\"subtype\":\"Figure\",\"type\":\"Plot\"}},\"id\":\"df9aa6bb-fcaa-46f3-8095-15d7144c7522\",\"type\":\"SaveTool\"},{\"attributes\":{\"dimension\":1,\"plot\":{\"id\":\"1320f199-a113-42c8-824f-ba16ceba46de\",\"subtype\":\"Figure\",\"type\":\"Plot\"},\"ticker\":{\"id\":\"ee277788-73d3-4143-9183-828ee95219ba\",\"type\":\"BasicTicker\"}},\"id\":\"1e91f18f-674f-46ea-a515-4b239c8dde3d\",\"type\":\"Grid\"},{\"attributes\":{\"line_color\":{\"value\":\"#000000\"},\"x\":{\"field\":\"x\"},\"y\":{\"field\":\"y\"}},\"id\":\"45040a8d-d5a2-41de-bf1a-7c4de8ac839b\",\"type\":\"Line\"},{\"attributes\":{\"callback\":null,\"end\":19,\"start\":14},\"id\":\"ad808bb0-7b81-4934-a454-189de85de752\",\"type\":\"Range1d\"},{\"attributes\":{\"below\":[{\"id\":\"6404e1f7-e4b6-4ac4-9057-5d9f0a32f188\",\"type\":\"LogAxis\"}],\"left\":[{\"id\":\"d64b0565-4e4d-4772-a8dc-ae464f797502\",\"type\":\"LinearAxis\"}],\"plot_height\":400,\"plot_width\":400,\"renderers\":[{\"id\":\"6404e1f7-e4b6-4ac4-9057-5d9f0a32f188\",\"type\":\"LogAxis\"},{\"id\":\"8b448bc6-7e4e-423e-8dec-9dffb8d171a8\",\"type\":\"Grid\"},{\"id\":\"d64b0565-4e4d-4772-a8dc-ae464f797502\",\"type\":\"LinearAxis\"},{\"id\":\"1e91f18f-674f-46ea-a515-4b239c8dde3d\",\"type\":\"Grid\"},{\"id\":\"aca19104-bf31-4a80-a5af-c6ecfbd7a157\",\"type\":\"BoxAnnotation\"},{\"id\":\"d1df56ce-0530-45d1-be47-3b32e7754bdf\",\"type\":\"GlyphRenderer\"}],\"title\":{\"id\":\"2ac79091-9a18-441d-9d6c-ae36840a526e\",\"type\":\"Title\"},\"tool_events\":{\"id\":\"8072b11a-768e-4247-8ba0-ef9bdf857ec3\",\"type\":\"ToolEvents\"},\"toolbar\":{\"id\":\"151ce1c8-9a33-4f37-b968-c1848bed8df7\",\"type\":\"Toolbar\"},\"x_mapper_type\":\"log\",\"x_range\":{\"id\":\"9583b2eb-1d99-4387-bdeb-c4160de436f3\",\"type\":\"Range1d\"},\"y_range\":{\"id\":\"ad808bb0-7b81-4934-a454-189de85de752\",\"type\":\"Range1d\"}},\"id\":\"1320f199-a113-42c8-824f-ba16ceba46de\",\"subtype\":\"Figure\",\"type\":\"Plot\"}],\"root_ids\":[\"1320f199-a113-42c8-824f-ba16ceba46de\"]},\"title\":\"Bokeh Application\",\"version\":\"0.12.4\"}};\n",
       "            var render_items = [{\"docid\":\"acdeb60d-7207-4522-8867-ab67acec6c07\",\"elementid\":\"1841b65a-514c-41d3-93e5-25996de2ea59\",\"modelid\":\"1320f199-a113-42c8-824f-ba16ceba46de\"}];\n",
       "            \n",
       "            Bokeh.embed.embed_items(docs_json, render_items);\n",
       "          };\n",
       "          if (document.readyState != \"loading\") fn();\n",
       "          else document.addEventListener(\"DOMContentLoaded\", fn);\n",
       "        })();\n",
       "\n",
       "      },\n",
       "      function(Bokeh) {\n",
       "      }\n",
       "    ];\n",
       "\n",
       "    function run_inline_js() {\n",
       "      \n",
       "      if ((window.Bokeh !== undefined) || (force === true)) {\n",
       "        for (var i = 0; i < inline_js.length; i++) {\n",
       "          inline_js[i](window.Bokeh);\n",
       "        }if (force === true) {\n",
       "          display_loaded();\n",
       "        }} else if (Date.now() < window._bokeh_timeout) {\n",
       "        setTimeout(run_inline_js, 100);\n",
       "      } else if (!window._bokeh_failed_load) {\n",
       "        console.log(\"Bokeh: BokehJS failed to load within specified timeout.\");\n",
       "        window._bokeh_failed_load = true;\n",
       "      } else if (force !== true) {\n",
       "        var cell = $(document.getElementById(\"1841b65a-514c-41d3-93e5-25996de2ea59\")).parents('.cell').data().cell;\n",
       "        cell.output_area.append_execute_result(NB_LOAD_WARNING)\n",
       "      }\n",
       "\n",
       "    }\n",
       "\n",
       "    if (window._bokeh_is_loading === 0) {\n",
       "      console.log(\"Bokeh: BokehJS loaded, going straight to plotting\");\n",
       "      run_inline_js();\n",
       "    } else {\n",
       "      load_libs(js_urls, function() {\n",
       "        console.log(\"Bokeh: BokehJS plotting callback run at\", now());\n",
       "        run_inline_js();\n",
       "      });\n",
       "    }\n",
       "  }(this));\n",
       "</script>"
      ]
     },
     "metadata": {},
     "output_type": "display_data"
    }
   ],
   "source": [
    "# create a new plot (with a title) using figure\n",
    "p = figure(plot_width=VL_width, plot_height=VL_height,x_axis_type=VL_x_scale_type)\n",
    "\n",
    "if VL_chart_type == 'line':\n",
    "    # add a line renderer\n",
    "    p.line(df[VL_x_field], df[VL_y_field], color=VL_color)\n",
    "    p.y_range = Range1d(VL_y_scale_domain[0], VL_y_scale_domain[1])\n",
    "    p.x_range = Range1d(VL_x_scale_domain[0], VL_x_scale_domain[1])\n",
    "\n",
    "show(p) # show the results"
   ]
  },
  {
   "cell_type": "code",
   "execution_count": 19,
   "metadata": {},
   "outputs": [],
   "source": [
    "# permanente wijzigingen doorvoeren in het json object"
   ]
  },
  {
   "cell_type": "code",
   "execution_count": 20,
   "metadata": {},
   "outputs": [],
   "source": [
    "VL[\"mark\"] = 'point'\n",
    "VL[\"encoding\"][\"x\"][\"scale\"][\"domain\"][0] = 1\n",
    "VL[\"encoding\"][\"color\"][\"value\"] = 'red'"
   ]
  },
  {
   "cell_type": "code",
   "execution_count": 21,
   "metadata": {},
   "outputs": [
    {
     "data": {
      "text/plain": [
       "{'encoding': {'color': {'value': 'red'},\n",
       "  'x': {'field': 'frequency',\n",
       "   'scale': {'domain': [1, 1e-07], 'type': 'log'},\n",
       "   'type': 'quantitative'},\n",
       "  'y': {'field': 'waterlevel',\n",
       "   'scale': {'domain': [14, 19]},\n",
       "   'type': 'quantitative'}},\n",
       " 'height': 400,\n",
       " 'mark': 'point',\n",
       " 'width': 400}"
      ]
     },
     "execution_count": 21,
     "metadata": {},
     "output_type": "execute_result"
    }
   ],
   "source": [
    "VL"
   ]
  },
  {
   "cell_type": "code",
   "execution_count": 22,
   "metadata": {},
   "outputs": [],
   "source": [
    "VL_chart_type = VL[\"mark\"]\n",
    "VL_x_scale_domain = VL[\"encoding\"][\"x\"][\"scale\"][\"domain\"]\n",
    "VL_color = VL[\"encoding\"][\"color\"][\"value\"]"
   ]
  },
  {
   "cell_type": "code",
   "execution_count": 24,
   "metadata": {},
   "outputs": [
    {
     "data": {
      "text/html": [
       "\n",
       "\n",
       "    <div class=\"bk-root\">\n",
       "        <div class=\"bk-plotdiv\" id=\"b053a219-1e9b-427c-bd78-b6821d39b805\"></div>\n",
       "    </div>\n",
       "<script type=\"text/javascript\">\n",
       "  \n",
       "  (function(global) {\n",
       "    function now() {\n",
       "      return new Date();\n",
       "    }\n",
       "\n",
       "    var force = false;\n",
       "\n",
       "    if (typeof (window._bokeh_onload_callbacks) === \"undefined\" || force === true) {\n",
       "      window._bokeh_onload_callbacks = [];\n",
       "      window._bokeh_is_loading = undefined;\n",
       "    }\n",
       "\n",
       "\n",
       "    \n",
       "    if (typeof (window._bokeh_timeout) === \"undefined\" || force === true) {\n",
       "      window._bokeh_timeout = Date.now() + 0;\n",
       "      window._bokeh_failed_load = false;\n",
       "    }\n",
       "\n",
       "    var NB_LOAD_WARNING = {'data': {'text/html':\n",
       "       \"<div style='background-color: #fdd'>\\n\"+\n",
       "       \"<p>\\n\"+\n",
       "       \"BokehJS does not appear to have successfully loaded. If loading BokehJS from CDN, this \\n\"+\n",
       "       \"may be due to a slow or bad network connection. Possible fixes:\\n\"+\n",
       "       \"</p>\\n\"+\n",
       "       \"<ul>\\n\"+\n",
       "       \"<li>re-rerun `output_notebook()` to attempt to load from CDN again, or</li>\\n\"+\n",
       "       \"<li>use INLINE resources instead, as so:</li>\\n\"+\n",
       "       \"</ul>\\n\"+\n",
       "       \"<code>\\n\"+\n",
       "       \"from bokeh.resources import INLINE\\n\"+\n",
       "       \"output_notebook(resources=INLINE)\\n\"+\n",
       "       \"</code>\\n\"+\n",
       "       \"</div>\"}};\n",
       "\n",
       "    function display_loaded() {\n",
       "      if (window.Bokeh !== undefined) {\n",
       "        document.getElementById(\"b053a219-1e9b-427c-bd78-b6821d39b805\").textContent = \"BokehJS successfully loaded.\";\n",
       "      } else if (Date.now() < window._bokeh_timeout) {\n",
       "        setTimeout(display_loaded, 100)\n",
       "      }\n",
       "    }\n",
       "\n",
       "    function run_callbacks() {\n",
       "      window._bokeh_onload_callbacks.forEach(function(callback) { callback() });\n",
       "      delete window._bokeh_onload_callbacks\n",
       "      console.info(\"Bokeh: all callbacks have finished\");\n",
       "    }\n",
       "\n",
       "    function load_libs(js_urls, callback) {\n",
       "      window._bokeh_onload_callbacks.push(callback);\n",
       "      if (window._bokeh_is_loading > 0) {\n",
       "        console.log(\"Bokeh: BokehJS is being loaded, scheduling callback at\", now());\n",
       "        return null;\n",
       "      }\n",
       "      if (js_urls == null || js_urls.length === 0) {\n",
       "        run_callbacks();\n",
       "        return null;\n",
       "      }\n",
       "      console.log(\"Bokeh: BokehJS not loaded, scheduling load and callback at\", now());\n",
       "      window._bokeh_is_loading = js_urls.length;\n",
       "      for (var i = 0; i < js_urls.length; i++) {\n",
       "        var url = js_urls[i];\n",
       "        var s = document.createElement('script');\n",
       "        s.src = url;\n",
       "        s.async = false;\n",
       "        s.onreadystatechange = s.onload = function() {\n",
       "          window._bokeh_is_loading--;\n",
       "          if (window._bokeh_is_loading === 0) {\n",
       "            console.log(\"Bokeh: all BokehJS libraries loaded\");\n",
       "            run_callbacks()\n",
       "          }\n",
       "        };\n",
       "        s.onerror = function() {\n",
       "          console.warn(\"failed to load library \" + url);\n",
       "        };\n",
       "        console.log(\"Bokeh: injecting script tag for BokehJS library: \", url);\n",
       "        document.getElementsByTagName(\"head\")[0].appendChild(s);\n",
       "      }\n",
       "    };var element = document.getElementById(\"b053a219-1e9b-427c-bd78-b6821d39b805\");\n",
       "    if (element == null) {\n",
       "      console.log(\"Bokeh: ERROR: autoload.js configured with elementid 'b053a219-1e9b-427c-bd78-b6821d39b805' but no matching script tag was found. \")\n",
       "      return false;\n",
       "    }\n",
       "\n",
       "    var js_urls = [];\n",
       "\n",
       "    var inline_js = [\n",
       "      function(Bokeh) {\n",
       "        (function() {\n",
       "          var fn = function() {\n",
       "            var docs_json = {\"810d96b3-7321-4821-8d7d-810efd9aa1e3\":{\"roots\":{\"references\":[{\"attributes\":{\"callback\":null,\"end\":19,\"start\":14},\"id\":\"ad0dc536-4d44-418a-9d31-fdd9f9bb4b29\",\"type\":\"Range1d\"},{\"attributes\":{\"plot\":{\"id\":\"7c2b4a55-125d-463a-b3e1-d8794e436d3b\",\"subtype\":\"Figure\",\"type\":\"Plot\"},\"ticker\":{\"id\":\"77c6f5a7-1468-4500-990e-b0ec4fdc25b8\",\"type\":\"LogTicker\"}},\"id\":\"f979db87-cff6-47a0-9104-65e4dc8a100d\",\"type\":\"Grid\"},{\"attributes\":{\"overlay\":{\"id\":\"004a41af-8fce-4dab-895f-e7b53352ab74\",\"type\":\"BoxAnnotation\"},\"plot\":{\"id\":\"7c2b4a55-125d-463a-b3e1-d8794e436d3b\",\"subtype\":\"Figure\",\"type\":\"Plot\"}},\"id\":\"aa69c992-570c-4027-b1a1-9034e45d8c93\",\"type\":\"BoxZoomTool\"},{\"attributes\":{\"plot\":{\"id\":\"7c2b4a55-125d-463a-b3e1-d8794e436d3b\",\"subtype\":\"Figure\",\"type\":\"Plot\"}},\"id\":\"e3ef864b-93aa-4a90-bc4d-058fd6698da8\",\"type\":\"ResetTool\"},{\"attributes\":{\"fill_color\":{\"value\":\"red\"},\"line_color\":{\"value\":\"red\"},\"x\":{\"field\":\"x\"},\"y\":{\"field\":\"y\"}},\"id\":\"afe04fa6-8c24-4c25-819b-84a9560f295d\",\"type\":\"Circle\"},{\"attributes\":{\"callback\":null,\"end\":1e-07,\"start\":1},\"id\":\"67f59a51-1234-403d-956d-1e3a261839c3\",\"type\":\"Range1d\"},{\"attributes\":{},\"id\":\"7884ccb5-51fc-4a53-bd79-67061bc70bee\",\"type\":\"ToolEvents\"},{\"attributes\":{\"data_source\":{\"id\":\"83554b53-1475-4a45-b298-9277c811f95d\",\"type\":\"ColumnDataSource\"},\"glyph\":{\"id\":\"afe04fa6-8c24-4c25-819b-84a9560f295d\",\"type\":\"Circle\"},\"hover_glyph\":null,\"nonselection_glyph\":{\"id\":\"5569b2ba-c832-45df-8404-a5d36da1f693\",\"type\":\"Circle\"},\"selection_glyph\":null},\"id\":\"460a1c5d-c015-4725-9a86-313d91b8cee6\",\"type\":\"GlyphRenderer\"},{\"attributes\":{\"fill_alpha\":{\"value\":0.1},\"fill_color\":{\"value\":\"#1f77b4\"},\"line_alpha\":{\"value\":0.1},\"line_color\":{\"value\":\"#1f77b4\"},\"x\":{\"field\":\"x\"},\"y\":{\"field\":\"y\"}},\"id\":\"5569b2ba-c832-45df-8404-a5d36da1f693\",\"type\":\"Circle\"},{\"attributes\":{\"callback\":null,\"column_names\":[\"y\",\"x\"],\"data\":{\"x\":{\"__ndarray__\":\"SLzh47j4vD/O8Rtwp765PxWP0j+df7Y/tcJKvj/Jsz87MpP+FzWxP9jYwn/8na0/xYHyn7d2qT+f7Ox/DmClPz49kJ4dzqE/T0meN4q2nT9kMqh4VOOYP/hNC6XJoZQ/sTUw+WwLkT90rJwHwfSLPzKSQvuG+YY/tAhmwKlsgj8Sk7oca5F8PyR5pH1QcHU/ETSBQv/0bj8stsZ6A4BlP82MLMh3alw/aGLhs1M9Uj8lIr3ePcRGP28yvUDeWjs/CEkCwzMhMD+UcmiAjpIiPxVpm363gBU/EgIvQx5kCD/3xcoY23f9PvckG3kviPI+VKYGa2wH5z4iR7qAXtTcPg==\",\"dtype\":\"float64\",\"shape\":[32]},\"y\":{\"__ndarray__\":\"ZmZmZmZmLkCamZmZmZkuQM3MzMzMzC5AAAAAAAAAL0AzMzMzMzMvQGZmZmZmZi9AmpmZmZmZL0DNzMzMzMwvQAAAAAAAADBAmpmZmZkZMEAzMzMzMzMwQM3MzMzMTDBAZmZmZmZmMEAAAAAAAIAwQJqZmZmZmTBAMzMzMzOzMEDNzMzMzMwwQGZmZmZm5jBAAAAAAAAAMUCamZmZmRkxQDMzMzMzMzFAzczMzMxMMUBmZmZmZmYxQAAAAAAAgDFAmpmZmZmZMUAzMzMzM7MxQM3MzMzMzDFAZmZmZmbmMUAAAAAAAAAyQJqZmZmZGTJAMzMzMzMzMkDNzMzMzEwyQA==\",\"dtype\":\"float64\",\"shape\":[32]}}},\"id\":\"83554b53-1475-4a45-b298-9277c811f95d\",\"type\":\"ColumnDataSource\"},{\"attributes\":{\"bottom_units\":\"screen\",\"fill_alpha\":{\"value\":0.5},\"fill_color\":{\"value\":\"lightgrey\"},\"left_units\":\"screen\",\"level\":\"overlay\",\"line_alpha\":{\"value\":1.0},\"line_color\":{\"value\":\"black\"},\"line_dash\":[4,4],\"line_width\":{\"value\":2},\"plot\":null,\"render_mode\":\"css\",\"right_units\":\"screen\",\"top_units\":\"screen\"},\"id\":\"004a41af-8fce-4dab-895f-e7b53352ab74\",\"type\":\"BoxAnnotation\"},{\"attributes\":{\"plot\":null,\"text\":\"\"},\"id\":\"fd759585-f19d-4f1a-b28f-bbad6cc6cfc1\",\"type\":\"Title\"},{\"attributes\":{\"active_drag\":\"auto\",\"active_scroll\":\"auto\",\"active_tap\":\"auto\",\"tools\":[{\"id\":\"a02a6a47-2b21-4237-87f4-682487c830d8\",\"type\":\"PanTool\"},{\"id\":\"f9b24e1d-9a63-4f0e-887e-e272628b0abe\",\"type\":\"WheelZoomTool\"},{\"id\":\"aa69c992-570c-4027-b1a1-9034e45d8c93\",\"type\":\"BoxZoomTool\"},{\"id\":\"1da61502-2f08-4ffe-8312-d0fa1f2da146\",\"type\":\"SaveTool\"},{\"id\":\"e3ef864b-93aa-4a90-bc4d-058fd6698da8\",\"type\":\"ResetTool\"},{\"id\":\"21e5d8a2-2e04-4772-a0c3-6fa613870e43\",\"type\":\"HelpTool\"}]},\"id\":\"43ccb766-db06-472f-8f5c-0a9fbd6a10f8\",\"type\":\"Toolbar\"},{\"attributes\":{\"plot\":{\"id\":\"7c2b4a55-125d-463a-b3e1-d8794e436d3b\",\"subtype\":\"Figure\",\"type\":\"Plot\"}},\"id\":\"1da61502-2f08-4ffe-8312-d0fa1f2da146\",\"type\":\"SaveTool\"},{\"attributes\":{},\"id\":\"6185751f-9196-44c5-93cc-1923d005b02e\",\"type\":\"BasicTickFormatter\"},{\"attributes\":{},\"id\":\"041b8f03-008a-4ddf-966e-597d1655d812\",\"type\":\"BasicTicker\"},{\"attributes\":{\"plot\":{\"id\":\"7c2b4a55-125d-463a-b3e1-d8794e436d3b\",\"subtype\":\"Figure\",\"type\":\"Plot\"}},\"id\":\"f9b24e1d-9a63-4f0e-887e-e272628b0abe\",\"type\":\"WheelZoomTool\"},{\"attributes\":{\"formatter\":{\"id\":\"e35e9d03-1e05-47cc-803e-03d45de5e5fd\",\"type\":\"LogTickFormatter\"},\"plot\":{\"id\":\"7c2b4a55-125d-463a-b3e1-d8794e436d3b\",\"subtype\":\"Figure\",\"type\":\"Plot\"},\"ticker\":{\"id\":\"77c6f5a7-1468-4500-990e-b0ec4fdc25b8\",\"type\":\"LogTicker\"}},\"id\":\"11d7547c-eb25-4440-9de6-f09a4fa14617\",\"type\":\"LogAxis\"},{\"attributes\":{\"formatter\":{\"id\":\"6185751f-9196-44c5-93cc-1923d005b02e\",\"type\":\"BasicTickFormatter\"},\"plot\":{\"id\":\"7c2b4a55-125d-463a-b3e1-d8794e436d3b\",\"subtype\":\"Figure\",\"type\":\"Plot\"},\"ticker\":{\"id\":\"041b8f03-008a-4ddf-966e-597d1655d812\",\"type\":\"BasicTicker\"}},\"id\":\"7fe6fc5e-eff1-4356-95f8-00ef6f005990\",\"type\":\"LinearAxis\"},{\"attributes\":{\"below\":[{\"id\":\"11d7547c-eb25-4440-9de6-f09a4fa14617\",\"type\":\"LogAxis\"}],\"left\":[{\"id\":\"7fe6fc5e-eff1-4356-95f8-00ef6f005990\",\"type\":\"LinearAxis\"}],\"plot_height\":400,\"plot_width\":400,\"renderers\":[{\"id\":\"11d7547c-eb25-4440-9de6-f09a4fa14617\",\"type\":\"LogAxis\"},{\"id\":\"f979db87-cff6-47a0-9104-65e4dc8a100d\",\"type\":\"Grid\"},{\"id\":\"7fe6fc5e-eff1-4356-95f8-00ef6f005990\",\"type\":\"LinearAxis\"},{\"id\":\"d0d7e9dd-d52d-46bc-808a-e7bc5fd3db44\",\"type\":\"Grid\"},{\"id\":\"004a41af-8fce-4dab-895f-e7b53352ab74\",\"type\":\"BoxAnnotation\"},{\"id\":\"460a1c5d-c015-4725-9a86-313d91b8cee6\",\"type\":\"GlyphRenderer\"}],\"title\":{\"id\":\"fd759585-f19d-4f1a-b28f-bbad6cc6cfc1\",\"type\":\"Title\"},\"tool_events\":{\"id\":\"7884ccb5-51fc-4a53-bd79-67061bc70bee\",\"type\":\"ToolEvents\"},\"toolbar\":{\"id\":\"43ccb766-db06-472f-8f5c-0a9fbd6a10f8\",\"type\":\"Toolbar\"},\"x_mapper_type\":\"log\",\"x_range\":{\"id\":\"67f59a51-1234-403d-956d-1e3a261839c3\",\"type\":\"Range1d\"},\"y_range\":{\"id\":\"ad0dc536-4d44-418a-9d31-fdd9f9bb4b29\",\"type\":\"Range1d\"}},\"id\":\"7c2b4a55-125d-463a-b3e1-d8794e436d3b\",\"subtype\":\"Figure\",\"type\":\"Plot\"},{\"attributes\":{\"plot\":{\"id\":\"7c2b4a55-125d-463a-b3e1-d8794e436d3b\",\"subtype\":\"Figure\",\"type\":\"Plot\"}},\"id\":\"a02a6a47-2b21-4237-87f4-682487c830d8\",\"type\":\"PanTool\"},{\"attributes\":{\"num_minor_ticks\":10},\"id\":\"77c6f5a7-1468-4500-990e-b0ec4fdc25b8\",\"type\":\"LogTicker\"},{\"attributes\":{\"dimension\":1,\"plot\":{\"id\":\"7c2b4a55-125d-463a-b3e1-d8794e436d3b\",\"subtype\":\"Figure\",\"type\":\"Plot\"},\"ticker\":{\"id\":\"041b8f03-008a-4ddf-966e-597d1655d812\",\"type\":\"BasicTicker\"}},\"id\":\"d0d7e9dd-d52d-46bc-808a-e7bc5fd3db44\",\"type\":\"Grid\"},{\"attributes\":{\"ticker\":null},\"id\":\"e35e9d03-1e05-47cc-803e-03d45de5e5fd\",\"type\":\"LogTickFormatter\"},{\"attributes\":{\"plot\":{\"id\":\"7c2b4a55-125d-463a-b3e1-d8794e436d3b\",\"subtype\":\"Figure\",\"type\":\"Plot\"}},\"id\":\"21e5d8a2-2e04-4772-a0c3-6fa613870e43\",\"type\":\"HelpTool\"}],\"root_ids\":[\"7c2b4a55-125d-463a-b3e1-d8794e436d3b\"]},\"title\":\"Bokeh Application\",\"version\":\"0.12.4\"}};\n",
       "            var render_items = [{\"docid\":\"810d96b3-7321-4821-8d7d-810efd9aa1e3\",\"elementid\":\"b053a219-1e9b-427c-bd78-b6821d39b805\",\"modelid\":\"7c2b4a55-125d-463a-b3e1-d8794e436d3b\"}];\n",
       "            \n",
       "            Bokeh.embed.embed_items(docs_json, render_items);\n",
       "          };\n",
       "          if (document.readyState != \"loading\") fn();\n",
       "          else document.addEventListener(\"DOMContentLoaded\", fn);\n",
       "        })();\n",
       "\n",
       "      },\n",
       "      function(Bokeh) {\n",
       "      }\n",
       "    ];\n",
       "\n",
       "    function run_inline_js() {\n",
       "      \n",
       "      if ((window.Bokeh !== undefined) || (force === true)) {\n",
       "        for (var i = 0; i < inline_js.length; i++) {\n",
       "          inline_js[i](window.Bokeh);\n",
       "        }if (force === true) {\n",
       "          display_loaded();\n",
       "        }} else if (Date.now() < window._bokeh_timeout) {\n",
       "        setTimeout(run_inline_js, 100);\n",
       "      } else if (!window._bokeh_failed_load) {\n",
       "        console.log(\"Bokeh: BokehJS failed to load within specified timeout.\");\n",
       "        window._bokeh_failed_load = true;\n",
       "      } else if (force !== true) {\n",
       "        var cell = $(document.getElementById(\"b053a219-1e9b-427c-bd78-b6821d39b805\")).parents('.cell').data().cell;\n",
       "        cell.output_area.append_execute_result(NB_LOAD_WARNING)\n",
       "      }\n",
       "\n",
       "    }\n",
       "\n",
       "    if (window._bokeh_is_loading === 0) {\n",
       "      console.log(\"Bokeh: BokehJS loaded, going straight to plotting\");\n",
       "      run_inline_js();\n",
       "    } else {\n",
       "      load_libs(js_urls, function() {\n",
       "        console.log(\"Bokeh: BokehJS plotting callback run at\", now());\n",
       "        run_inline_js();\n",
       "      });\n",
       "    }\n",
       "  }(this));\n",
       "</script>"
      ]
     },
     "metadata": {},
     "output_type": "display_data"
    }
   ],
   "source": [
    "# create a new plot \n",
    "p = figure(plot_width=VL_width, plot_height=VL_height,x_axis_type=VL_x_scale_type)\n",
    "\n",
    "if VL_chart_type == 'line':\n",
    "    # add a line renderer\n",
    "    p.line(df[VL_x_field], df[VL_y_field], color=VL_color)\n",
    "    p.y_range = Range1d(VL_y_scale_domain[0], VL_y_scale_domain[1])\n",
    "    p.x_range = Range1d(VL_x_scale_domain[0], VL_x_scale_domain[1])\n",
    "\n",
    "if VL_chart_type == 'point':\n",
    "    # add a line renderer\n",
    "    p.scatter(df[VL_x_field], df[VL_y_field], color=VL_color)\n",
    "    p.y_range = Range1d(VL_y_scale_domain[0], VL_y_scale_domain[1])\n",
    "    p.x_range = Range1d(VL_x_scale_domain[0], VL_x_scale_domain[1])    \n",
    "\n",
    "show(p) # show the results"
   ]
  },
  {
   "cell_type": "code",
   "execution_count": null,
   "metadata": {},
   "outputs": [],
   "source": []
  },
  {
   "cell_type": "code",
   "execution_count": 25,
   "metadata": {},
   "outputs": [],
   "source": [
    "# en sinds de wijzigingen in het json object is aangemaakt, moet die het ook weer doen in de plotting library van vegalite"
   ]
  },
  {
   "cell_type": "code",
   "execution_count": 26,
   "metadata": {},
   "outputs": [
    {
     "data": {
      "text/html": [
       "<div class=\"vega-embed\" id=\"92828461-6955-4708-b198-9f579fe483b6\"></div>\n",
       "\n",
       "<style>\n",
       ".vega-embed svg, .vega-embed canvas {\n",
       "  border: 1px dotted gray;\n",
       "}\n",
       "\n",
       ".vega-embed .vega-actions a {\n",
       "  margin-right: 6px;\n",
       "}\n",
       "</style>\n"
      ]
     },
     "metadata": {
      "jupyter-vega": "#92828461-6955-4708-b198-9f579fe483b6"
     },
     "output_type": "display_data"
    },
    {
     "data": {
      "application/javascript": [
       "var spec = {\"mark\": \"point\", \"encoding\": {\"color\": {\"value\": \"red\"}, \"y\": {\"field\": \"waterlevel\", \"type\": \"quantitative\", \"scale\": {\"domain\": [14, 19]}}, \"x\": {\"field\": \"frequency\", \"type\": \"quantitative\", \"scale\": {\"type\": \"log\", \"domain\": [1, 1e-07]}}}, \"height\": 400, \"data\": {\"values\": [{\"frequency\": 0.1131702, \"waterlevel\": 15.2}, {\"frequency\": 0.1005654, \"waterlevel\": 15.3}, {\"frequency\": 0.087884739, \"waterlevel\": 15.4}, {\"frequency\": 0.07728956599999999, \"waterlevel\": 15.5}, {\"frequency\": 0.067216396, \"waterlevel\": 15.6}, {\"frequency\": 0.057845965, \"waterlevel\": 15.7}, {\"frequency\": 0.049733865999999995, \"waterlevel\": 15.8}, {\"frequency\": 0.041748479, \"waterlevel\": 15.9}, {\"frequency\": 0.034775663, \"waterlevel\": 16.0}, {\"frequency\": 0.029016647000000003, \"waterlevel\": 16.1}, {\"frequency\": 0.024304695, \"waterlevel\": 16.2}, {\"frequency\": 0.020148421, \"waterlevel\": 16.3}, {\"frequency\": 0.016645148000000002, \"waterlevel\": 16.4}, {\"frequency\": 0.013650425, \"waterlevel\": 16.5}, {\"frequency\": 0.011218123, \"waterlevel\": 16.6}, {\"frequency\": 0.0089963209, \"waterlevel\": 16.7}, {\"frequency\": 0.0069746193, \"waterlevel\": 16.8}, {\"frequency\": 0.0052340645, \"waterlevel\": 16.9}, {\"frequency\": 0.0037789331, \"waterlevel\": 17.0}, {\"frequency\": 0.0026245182000000002, \"waterlevel\": 17.1}, {\"frequency\": 0.0017343683, \"waterlevel\": 17.2}, {\"frequency\": 0.0011132542999999998, \"waterlevel\": 17.3}, {\"frequency\": 0.00069478055, \"waterlevel\": 17.4}, {\"frequency\": 0.00041740347, \"waterlevel\": 17.5}, {\"frequency\": 0.00024611963, \"waterlevel\": 17.6}, {\"frequency\": 0.00014169683, \"waterlevel\": 17.7}, {\"frequency\": 8.2026672e-05, \"waterlevel\": 17.8}, {\"frequency\": 4.6522305999999996e-05, \"waterlevel\": 17.9}, {\"frequency\": 2.8103053e-05, \"waterlevel\": 18.0}, {\"frequency\": 1.7673468000000002e-05, \"waterlevel\": 18.1}, {\"frequency\": 1.0981082e-05, \"waterlevel\": 18.2}, {\"frequency\": 6.8735044e-06, \"waterlevel\": 18.3}]}, \"width\": 400, \"config\": {\"cell\": {\"width\": 500, \"height\": 350}}};\n",
       "var selector = \"#92828461-6955-4708-b198-9f579fe483b6\";\n",
       "var type = \"vega-lite\";\n",
       "\n",
       "var output_area = this;\n",
       "require(['nbextensions/jupyter-vega/index'], function(vega) {\n",
       "  vega.render(selector, spec, type, output_area);\n",
       "}, function (err) {\n",
       "  if (err.requireType !== 'scripterror') {\n",
       "    throw(err);\n",
       "  }\n",
       "});\n"
      ]
     },
     "metadata": {
      "jupyter-vega": "#92828461-6955-4708-b198-9f579fe483b6"
     },
     "output_type": "display_data"
    },
    {
     "data": {
      "image/png": "[encoded data removed]"
     },
     "metadata": {
      "jupyter-vega": "#92828461-6955-4708-b198-9f579fe483b6"
     },
     "output_type": "display_data"
    }
   ],
   "source": [
    "VegaLite(VL, df)"
   ]
  },
  {
   "cell_type": "code",
   "execution_count": null,
   "metadata": {
    "collapsed": true
   },
   "outputs": [],
   "source": []
  }
 ],
 "metadata": {
  "kernelspec": {
   "display_name": "Python 3",
   "language": "python",
   "name": "python3"
  },
  "language_info": {
   "codemirror_mode": {
    "name": "ipython",
    "version": 3
   },
   "file_extension": ".py",
   "mimetype": "text/x-python",
   "name": "python",
   "nbconvert_exporter": "python",
   "pygments_lexer": "ipython3",
   "version": "3.5.2"
  }
 },
 "nbformat": 4,
 "nbformat_minor": 2
}
