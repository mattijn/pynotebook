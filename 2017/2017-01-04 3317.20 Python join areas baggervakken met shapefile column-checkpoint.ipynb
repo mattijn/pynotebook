{
 "cells": [
  {
   "cell_type": "code",
   "execution_count": 37,
   "metadata": {
    "collapsed": false
   },
   "outputs": [],
   "source": [
    "import pandas as pd\n",
    "import geopandas as gpd\n",
    "import numpy as np\n",
    "import os "
   ]
  },
  {
   "cell_type": "code",
   "execution_count": 38,
   "metadata": {
    "collapsed": false
   },
   "outputs": [],
   "source": [
    "# for csv\n",
    "csv_in = r'D:\\OmsWaddenzee\\trunk\\fews\\Modules\\prioriteringExport\\data//prioritering_ruw.csv'\n",
    "csv_out = r'D:\\OmsWaddenzee\\trunk\\fews\\Modules\\prioriteringExport\\data//prioritering_refined.csv'\n",
    "area = r'D:\\OmsWaddenzee\\trunk\\fews\\Config\\MapLayerFiles\\Baggervakken//oppervlak_baggervakken.csv'\n",
    "\n",
    "# for geojson\n",
    "baggervakken_4326 = r'D:\\OmsWaddenzee\\trunk\\fews\\Config\\MapLayerFiles\\Baggervakken//Baggervakken_4326.shp'\n",
    "json_out = r'D:\\OmsWaddenzee\\trunk\\fews\\Modules\\prioriteringExport\\data//prioritering_refined.geojson'\n",
    "\n",
    "# read into dataframe\n",
    "df_csv = pd.read_csv(csv_in, sep=';')\n",
    "df_area = pd.read_csv(area)\n",
    "\n",
    "# join dataframes on objectcode\n",
    "df_comb = pd.merge(df_csv, df_area, left_on='Baggervak', right_on='Objectcode')\n",
    "df_comb['Oppervlak (m2)'] = df_comb['Oppervlak (m2)'].astype(float).apply(np.ceil)\n",
    "df_comb['Oppervlakte cut tov NGD (m2)'] = df_comb['Oppervlakte cut tov NGD (m2)'].astype(float).apply(np.floor)\n",
    "df_comb['Oppervlakte cut tov OHD (m2)'] = df_comb['Oppervlakte cut tov OHD (m2)'].astype(float).apply(np.floor)\n",
    "\n",
    "# calculate the prioritering\n",
    "df_comb['Percentage cut tov NGD (%)'] = (df_comb['Oppervlakte cut tov NGD (m2)'] / df_comb['Oppervlak (m2)'] * 100).round(2)\n",
    "df_comb['Percentage cut tov OHD (%)'] = (df_comb['Oppervlakte cut tov OHD (m2)'] / df_comb['Oppervlak (m2)'] * 100).round(2)\n",
    "\n",
    "df_comb['Gemiddelde dikte cut tov NGD (cm)'] = np.round(df_comb['Gemiddelde dikte cut tov NGD (cm)'], 0).astype(int)\n",
    "df_comb['Gemiddelde dikte cut tov OHD (cm)'] = np.round(df_comb['Gemiddelde dikte cut tov OHD (cm)'], 0).astype(int)\n",
    "df_comb['Percentage cut tov NGD (%)'] = np.ceil(df_comb['Percentage cut tov NGD (%)']).astype(int)\n",
    "df_comb['Percentage cut tov OHD (%)'] = np.ceil(df_comb['Percentage cut tov OHD (%)']).astype(int)\n",
    "df_comb['Volume cut tov NGD (m3)'] = np.ceil(df_comb['Volume cut tov NGD (m3)']).astype(int)\n",
    "df_comb['Volume cut tov OHD (m3)'] = np.ceil(df_comb['Volume cut tov OHD (m3)']).astype(int)\n",
    "\n",
    "df_comb['NGD (-mNAP)'].replace(-999,np.nan, inplace=True)\n",
    "df_comb['NGD (-mNAP)'].fillna('niet bekend', inplace=True)\n",
    "\n",
    "df_comb['OHD (-mNAP)'].replace(-999,np.nan, inplace=True)\n",
    "df_comb['OHD (-mNAP)'].fillna('niet bekend', inplace=True)\n",
    "\n",
    "\n",
    "\n",
    "# reorder columns \n",
    "c = df_comb.columns.tolist()\n",
    "\n",
    "c_selection = ['Objectcode',\n",
    "               'Objectnaam',\n",
    "               'Activiteit',\n",
    "               'NGD (-mNAP)',\n",
    "               'OHD (-mNAP)',               \n",
    "               'Volume cut tov NGD (m3)',\n",
    "               'Volume cut tov OHD (m3)',               \n",
    "               'Percentage cut tov NGD (%)',\n",
    "               'Percentage cut tov OHD (%)',\n",
    "               'Gemiddelde dikte cut tov NGD (cm)',\n",
    "               'Gemiddelde dikte cut tov OHD (cm)',\n",
    "              ]\n",
    "\n",
    "# # save as csv\n",
    "df_comb[c_selection].to_csv(csv_out, sep=';', index=False)\n",
    "\n",
    "# and prepare geojson for overlay\n",
    "# read geodataframe of shapefile\n",
    "gdf = gpd.read_file(baggervakken_4326)\n",
    "\n",
    "# attribute join the gdf and df_comb\n",
    "df_gdf = gdf.merge(df_comb, left_on='OBJECTNAAM', right_on='Objectnaam')\n",
    "\n",
    "# append selection with geometry and change column names using a list comprehension to remove parentheses\n",
    "# and trainling spaces while replacing the remaining spaces with underscores\n",
    "c_selection.append('geometry')\n",
    "df_gdf = df_gdf[c_selection]\n",
    "df_gdf.columns = [re.sub(\"[\\(\\[].*?[\\)\\]]\", \"\", n).rstrip().replace(\" \", \"_\") for n in c_selection]\n",
    "\n",
    "# save to json\n",
    "# overwrite bug in fiona https://github.com/geopandas/geopandas/issues/367   \n",
    "try: \n",
    "    os.remove(json_out)\n",
    "except OSError:\n",
    "    pass\n",
    "df_gdf.to_file(json_out, driver='GeoJSON')"
   ]
  }
 ],
 "metadata": {
  "kernelspec": {
   "display_name": "Python 3",
   "language": "python",
   "name": "python3"
  },
  "language_info": {
   "codemirror_mode": {
    "name": "ipython",
    "version": 3
   },
   "file_extension": ".py",
   "mimetype": "text/x-python",
   "name": "python",
   "nbconvert_exporter": "python",
   "pygments_lexer": "ipython3",
   "version": "3.5.2"
  }
 },
 "nbformat": 4,
 "nbformat_minor": 2
}
