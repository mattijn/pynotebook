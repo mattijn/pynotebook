{
 "cells": [
  {
   "cell_type": "code",
   "execution_count": null,
   "metadata": {
    "collapsed": false,
    "deletable": true,
    "editable": true
   },
   "outputs": [],
   "source": [
    "import io\n",
    "import os\n",
    "import nbformat\n",
    "%matplotlib inline\n",
    "from nbformat import current\n",
    "\n",
    "import seaborn as sns\n",
    "import matplotlib.pyplot as plt\n",
    "plt.style.use('ggplot')\n",
    "plt.style.use('seaborn-poster')\n",
    "\n",
    "def execute_notebook(nbfile):\n",
    "    \n",
    "    with io.open(nbfile) as f:\n",
    "        nb = current.read(f, 'json')\n",
    "    \n",
    "    ip = get_ipython()\n",
    "    \n",
    "    for cell in nb.worksheets[0].cells:\n",
    "        if cell.cell_type != 'code':\n",
    "            continue\n",
    "        ip.run_cell(cell.input)"
   ]
  },
  {
   "cell_type": "code",
   "execution_count": null,
   "metadata": {
    "collapsed": false,
    "deletable": true,
    "editable": true
   },
   "outputs": [],
   "source": [
    "execute_notebook('inlezengolven.ipynb')"
   ]
  },
  {
   "cell_type": "code",
   "execution_count": null,
   "metadata": {
    "collapsed": false,
    "deletable": true,
    "editable": true
   },
   "outputs": [],
   "source": [
    "execute_notebook('golvenfuncties_2310.ipynb')"
   ]
  },
  {
   "cell_type": "code",
   "execution_count": null,
   "metadata": {
    "collapsed": true,
    "deletable": true,
    "editable": true
   },
   "outputs": [],
   "source": [
    "dfH_kruin2 = waves2average(dfH_kruin, name='laagdikte', plot=False)\n",
    "dfH_talud2 = waves2average(dfH_helling, name='laagdikte', plot=False)\n",
    "dfV_kruinbdm2 = waves2average(dfV_kruinbdm, name='snelheid_bodem', plot=False)\n",
    "dfV_kruinopp2 = waves2average(dfV_kruinopp, name='snelheid_oppervlakte', plot=False)\n",
    "dfV_taludbdm2 = waves2average(dfV_hellingbdm, name='snelheid_bodem', plot=False)\n",
    "dfV_teenbdm2 = waves2average(dfV_teenbdm, name='snelheid_bodem', plot=False)"
   ]
  },
  {
   "cell_type": "code",
   "execution_count": null,
   "metadata": {
    "collapsed": true,
    "deletable": true,
    "editable": true
   },
   "outputs": [],
   "source": [
    "wave='golf500-3500-incT0'\n",
    "a='functie'#0.65\n",
    "b=1.000001\n",
    "Tinit='auto'"
   ]
  },
  {
   "cell_type": "code",
   "execution_count": null,
   "metadata": {
    "collapsed": false,
    "deletable": true,
    "editable": true,
    "scrolled": true
   },
   "outputs": [],
   "source": [
    "basedir = r'D:\\Projects\\Pr\\3517.10\\Werkfolder\\2017-11-08 tijdreeksen'\n",
    "\n",
    "regimes = ['hs0_4_1lsm_2uur','hs0_6_5lsm_2uur','hs0_8_10lsm_2uur','hs0_8_10lsm_2uur','hs1_2_25lsm_2uur','hs1_4_50lsm_2uur']\n",
    "from tqdm import tnrange, tqdm_notebook\n",
    "\n",
    "for regime in tqdm_notebook(regimes):\n",
    "    print (regime)\n",
    "    \n",
    "    regime_file = os.path.join(basedir,regime+'.csv')\n",
    "    hs = pd.read_csv(regime_file)\n",
    "\n",
    "    df_all = interpolateallvfinal(hs,dfH_kruin2,dfV_kruinbdm2,dfV_kruinopp2,stepsize,wave,a,b)\n",
    "    out_file = os.path.join(basedir,'afgeleiden',regime+'combparamsv6.csv')\n",
    "    df_all.to_csv(out_file, header=True,index=True)    "
   ]
  },
  {
   "cell_type": "code",
   "execution_count": null,
   "metadata": {
    "collapsed": true,
    "deletable": true,
    "editable": true
   },
   "outputs": [],
   "source": []
  }
 ],
 "metadata": {
  "kernelspec": {
   "display_name": "Python 3",
   "language": "python",
   "name": "python3"
  },
  "language_info": {
   "codemirror_mode": {
    "name": "ipython",
    "version": 3
   },
   "file_extension": ".py",
   "mimetype": "text/x-python",
   "name": "python",
   "nbconvert_exporter": "python",
   "pygments_lexer": "ipython3",
   "version": "3.5.2"
  },
  "widgets": {
   "state": {
    "3b29a4f9425a4af9824862ae42f05211": {
     "views": [
      {
       "cell_index": 5
      }
     ]
    }
   },
   "version": "1.2.0"
  }
 },
 "nbformat": 4,
 "nbformat_minor": 2
}
