{
 "cells": [
  {
   "cell_type": "code",
   "execution_count": 2,
   "metadata": {
    "collapsed": false,
    "deletable": true,
    "editable": true
   },
   "outputs": [
    {
     "name": "stdout",
     "output_type": "stream",
     "text": [
      "\n",
      "Prefixes:\n",
      "     xsd: http://www.w3.org/2001/XMLSchema\n",
      "     ns0: http://tempuri.org/\n",
      "\n",
      "Global elements:\n",
      "     ns0:getdata(database: xsd:string, guid: xsd:string)\n",
      "     ns0:getdataResponse()\n",
      "     ns0:getdatabykey(database: xsd:string, key: xsd:string)\n",
      "     ns0:getdatabykeyResponse()\n",
      "     ns0:getvisualisation(database: xsd:string, guid: xsd:string)\n",
      "     ns0:getvisualisationResponse()\n",
      "     ns0:insertdata(database: xsd:string, key: xsd:string, data: xsd:string)\n",
      "     ns0:insertdataResponse(insertdataResult: xsd:string)\n",
      "     ns0:setdata(database: xsd:string, guid: xsd:string, data: xsd:string)\n",
      "     ns0:setdataResponse(setdataResult: xsd:string)\n",
      "     ns0:setdatabykey(database: xsd:string, key: xsd:string, data: xsd:string)\n",
      "     ns0:setdatabykeyResponse(setdatabykeyResult: xsd:string)\n",
      "     ns0:setvisualisation(database: xsd:string, guid: xsd:string, data: xsd:string)\n",
      "     ns0:setvisualisationResponse()\n",
      "     ns0:string(xsd:string)\n",
      "     \n",
      "\n",
      "Global types:\n",
      "     xsd:anyType\n",
      "     xsd:ENTITIES\n",
      "     xsd:ENTITY\n",
      "     xsd:ID\n",
      "     xsd:IDREF\n",
      "     xsd:IDREFS\n",
      "     xsd:NCName\n",
      "     xsd:NMTOKEN\n",
      "     xsd:NMTOKENS\n",
      "     xsd:NOTATION\n",
      "     xsd:Name\n",
      "     xsd:QName\n",
      "     xsd:anySimpleType\n",
      "     xsd:anyURI\n",
      "     xsd:base64Binary\n",
      "     xsd:boolean\n",
      "     xsd:byte\n",
      "     xsd:date\n",
      "     xsd:dateTime\n",
      "     xsd:decimal\n",
      "     xsd:double\n",
      "     xsd:duration\n",
      "     xsd:float\n",
      "     xsd:gDay\n",
      "     xsd:gMonth\n",
      "     xsd:gMonthDay\n",
      "     xsd:gYear\n",
      "     xsd:gYearMonth\n",
      "     xsd:hexBinary\n",
      "     xsd:int\n",
      "     xsd:integer\n",
      "     xsd:language\n",
      "     xsd:long\n",
      "     xsd:negativeInteger\n",
      "     xsd:nonNegativeInteger\n",
      "     xsd:nonPositiveInteger\n",
      "     xsd:normalizedString\n",
      "     xsd:positiveInteger\n",
      "     xsd:short\n",
      "     xsd:string\n",
      "     xsd:time\n",
      "     xsd:token\n",
      "     xsd:unsignedByte\n",
      "     xsd:unsignedInt\n",
      "     xsd:unsignedLong\n",
      "     xsd:unsignedShort\n",
      "\n",
      "Bindings:\n",
      "     HttpGetBinding: {http://tempuri.org/}entryHttpGet\n",
      "     HttpPostBinding: {http://tempuri.org/}entryHttpPost\n",
      "     Soap11Binding: {http://tempuri.org/}entrySoap\n",
      "     Soap12Binding: {http://tempuri.org/}entrySoap12\n",
      "\n",
      "Service: entry\n",
      "     Port: entrySoap (Soap11Binding: {http://tempuri.org/}entrySoap)\n",
      "         Operations:\n",
      "            getdata(database: xsd:string, guid: xsd:string) -> \n",
      "            getdatabykey(database: xsd:string, key: xsd:string) -> \n",
      "            getvisualisation(database: xsd:string, guid: xsd:string) -> \n",
      "            insertdata(database: xsd:string, key: xsd:string, data: xsd:string) -> insertdataResult: xsd:string\n",
      "            setdata(database: xsd:string, guid: xsd:string, data: xsd:string) -> setdataResult: xsd:string\n",
      "            setdatabykey(database: xsd:string, key: xsd:string, data: xsd:string) -> setdatabykeyResult: xsd:string\n",
      "            setvisualisation(database: xsd:string, guid: xsd:string, data: xsd:string) -> \n",
      "\n",
      "     Port: entrySoap12 (Soap12Binding: {http://tempuri.org/}entrySoap12)\n",
      "         Operations:\n",
      "            getdata(database: xsd:string, guid: xsd:string) -> \n",
      "            getdatabykey(database: xsd:string, key: xsd:string) -> \n",
      "            getvisualisation(database: xsd:string, guid: xsd:string) -> \n",
      "            insertdata(database: xsd:string, key: xsd:string, data: xsd:string) -> insertdataResult: xsd:string\n",
      "            setdata(database: xsd:string, guid: xsd:string, data: xsd:string) -> setdataResult: xsd:string\n",
      "            setdatabykey(database: xsd:string, key: xsd:string, data: xsd:string) -> setdatabykeyResult: xsd:string\n",
      "            setvisualisation(database: xsd:string, guid: xsd:string, data: xsd:string) -> \n",
      "\n",
      "     Port: entryHttpGet (HttpGetBinding: {http://tempuri.org/}entryHttpGet)\n",
      "         Operations:\n",
      "            getdata(database: xsd:string, guid: xsd:string)\n",
      "            getdatabykey(database: xsd:string, key: xsd:string)\n",
      "            getvisualisation(database: xsd:string, guid: xsd:string)\n",
      "            insertdata(database: xsd:string, key: xsd:string, data: xsd:string) -> xsd:string\n",
      "            setdata(database: xsd:string, guid: xsd:string, data: xsd:string) -> xsd:string\n",
      "            setdatabykey(database: xsd:string, key: xsd:string, data: xsd:string) -> xsd:string\n",
      "            setvisualisation(database: xsd:string, guid: xsd:string, data: xsd:string)\n",
      "\n",
      "     Port: entryHttpPost (HttpPostBinding: {http://tempuri.org/}entryHttpPost)\n",
      "         Operations:\n",
      "            getdata(database: xsd:string, guid: xsd:string)\n",
      "            getdatabykey(database: xsd:string, key: xsd:string)\n",
      "            getvisualisation(database: xsd:string, guid: xsd:string)\n",
      "            insertdata(database: xsd:string, key: xsd:string, data: xsd:string) -> xsd:string\n",
      "            setdata(database: xsd:string, guid: xsd:string, data: xsd:string) -> xsd:string\n",
      "            setdatabykey(database: xsd:string, key: xsd:string, data: xsd:string) -> xsd:string\n",
      "            setvisualisation(database: xsd:string, guid: xsd:string, data: xsd:string)\n",
      "\n"
     ]
    }
   ],
   "source": [
    "import zeep\n",
    "\n",
    "client = zeep.Client(\n",
    "    wsdl='http://localhost/dataservices.ws/entry.asmx?WSDL')\n",
    "\n",
    "client.wsdl.dump()"
   ]
  },
  {
   "cell_type": "code",
   "execution_count": 9,
   "metadata": {
    "collapsed": false,
    "deletable": true,
    "editable": true
   },
   "outputs": [
    {
     "name": "stdout",
     "output_type": "stream",
     "text": [
      "{ \"database\": \"Test\",\"version\": \"0.1.0.0\",\"recordsaffected\": \"1\"}\n"
     ]
    }
   ],
   "source": [
    "zeep_out = client.service.setdatabykey('Test', 'TestKey','[10,8,7,6]')\n",
    "print (zeep_out)"
   ]
  },
  {
   "cell_type": "code",
   "execution_count": 24,
   "metadata": {
    "collapsed": true,
    "deletable": true,
    "editable": true
   },
   "outputs": [],
   "source": [
    "import requests\n",
    "import json"
   ]
  },
  {
   "cell_type": "code",
   "execution_count": 22,
   "metadata": {
    "collapsed": true,
    "deletable": true,
    "editable": true
   },
   "outputs": [],
   "source": [
    "url = r'http://localhost/dataservices.ws/entry.asmx/getdatabykey?database=Test&key=TestKey'\n",
    "r = requests.get(url)"
   ]
  },
  {
   "cell_type": "code",
   "execution_count": 25,
   "metadata": {
    "collapsed": false,
    "deletable": true,
    "editable": true
   },
   "outputs": [
    {
     "data": {
      "text/plain": [
       "[10, 8, 7, 6]"
      ]
     },
     "execution_count": 25,
     "metadata": {},
     "output_type": "execute_result"
    }
   ],
   "source": [
    "json.loads(r.content)"
   ]
  },
  {
   "cell_type": "code",
   "execution_count": null,
   "metadata": {
    "collapsed": true,
    "deletable": true,
    "editable": true
   },
   "outputs": [],
   "source": []
  }
 ],
 "metadata": {
  "kernelspec": {
   "display_name": "Python 3",
   "language": "python",
   "name": "python3"
  },
  "language_info": {
   "codemirror_mode": {
    "name": "ipython",
    "version": 3
   },
   "file_extension": ".py",
   "mimetype": "text/x-python",
   "name": "python",
   "nbconvert_exporter": "python",
   "pygments_lexer": "ipython3",
   "version": "3.5.2"
  }
 },
 "nbformat": 4,
 "nbformat_minor": 2
}
