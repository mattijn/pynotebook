{
 "cells": [
  {
   "cell_type": "code",
   "execution_count": 1,
   "metadata": {
    "collapsed": true
   },
   "outputs": [],
   "source": [
    "#import sqlite3\n",
    "from sqlalchemy import create_engine\n",
    "import pandas as pd\n",
    "from altair import *\n",
    "import numpy as np\n",
    "%matplotlib inline"
   ]
  },
  {
   "cell_type": "code",
   "execution_count": 2,
   "metadata": {
    "collapsed": true
   },
   "outputs": [],
   "source": [
    "sql_db = r'D:\\Projects\\Pr\\3556.10//vechtdelta.sqlite'\n",
    "#conn = sqlite3.connect(sql_db)"
   ]
  },
  {
   "cell_type": "code",
   "execution_count": 3,
   "metadata": {
    "collapsed": false
   },
   "outputs": [],
   "source": [
    "disk_engine = create_engine('sqlite:///'+sql_db) "
   ]
  },
  {
   "cell_type": "code",
   "execution_count": 4,
   "metadata": {
    "collapsed": false
   },
   "outputs": [
    {
     "data": {
      "text/html": [
       "<div>\n",
       "<table border=\"1\" class=\"dataframe\">\n",
       "  <thead>\n",
       "    <tr style=\"text-align: right;\">\n",
       "      <th></th>\n",
       "      <th>name</th>\n",
       "    </tr>\n",
       "  </thead>\n",
       "  <tbody>\n",
       "    <tr>\n",
       "      <th>0</th>\n",
       "      <td>databaservw</td>\n",
       "    </tr>\n",
       "    <tr>\n",
       "      <th>1</th>\n",
       "      <td>sqlite_sequence</td>\n",
       "    </tr>\n",
       "    <tr>\n",
       "      <th>2</th>\n",
       "      <td>locatie</td>\n",
       "    </tr>\n",
       "    <tr>\n",
       "      <th>3</th>\n",
       "      <td>berekening</td>\n",
       "    </tr>\n",
       "    <tr>\n",
       "      <th>4</th>\n",
       "      <td>frequentielijn</td>\n",
       "    </tr>\n",
       "  </tbody>\n",
       "</table>\n",
       "</div>"
      ],
      "text/plain": [
       "              name\n",
       "0      databaservw\n",
       "1  sqlite_sequence\n",
       "2          locatie\n",
       "3       berekening\n",
       "4   frequentielijn"
      ]
     },
     "execution_count": 4,
     "metadata": {},
     "output_type": "execute_result"
    }
   ],
   "source": [
    "tablenames = pd.read_sql_query(\"SELECT name FROM sqlite_master WHERE type='table';\", disk_engine)\n",
    "tablenames.head()"
   ]
  },
  {
   "cell_type": "code",
   "execution_count": 5,
   "metadata": {
    "collapsed": false
   },
   "outputs": [
    {
     "name": "stdout",
     "output_type": "stream",
     "text": [
      "\n",
      "\n",
      "TABLE databaservw\n",
      "   name          type\n",
      "0    id       INTEGER\n",
      "1  naam  VARCHAR(255)\n",
      "\n",
      "\n",
      "TABLE sqlite_sequence\n",
      "   name type\n",
      "0  name     \n",
      "1   seq     \n",
      "\n",
      "\n",
      "TABLE locatie\n",
      "            name          type\n",
      "0             id       INTEGER\n",
      "1  databaservwid       INTEGER\n",
      "2           naam  VARCHAR(255)\n",
      "3              x          real\n",
      "4              y          real\n",
      "\n",
      "\n",
      "TABLE berekening\n",
      "        name          type\n",
      "0         id       INTEGER\n",
      "1  locatieid       INTEGER\n",
      "2       naam  VARCHAR(255)\n",
      "3    bertype  VARCHAR(255)\n",
      "\n",
      "\n",
      "TABLE frequentielijn\n",
      "           name     type\n",
      "0            id  INTEGER\n",
      "1  berekeningid  INTEGER\n",
      "2    frequentie     REAL\n",
      "3    waterstand     REAL\n"
     ]
    }
   ],
   "source": [
    "# list all column names of tables\n",
    "for table in tablenames['name']:\n",
    "    print ('\\n')\n",
    "    print ('TABLE',table)\n",
    "    tablecolumns = pd.read_sql_query(\"PRAGMA table_info(\"+table+\");\", disk_engine)\n",
    "    print (tablecolumns[['name','type']])"
   ]
  },
  {
   "cell_type": "code",
   "execution_count": 6,
   "metadata": {
    "collapsed": false
   },
   "outputs": [
    {
     "data": {
      "text/plain": [
       "array([  1,   2,   3,   4,   5,   6,   7,   8,   9,  10,  11,  12,  13,\n",
       "        14,  15,  16,  17,  18,  19,  20,  21,  22,  23,  24,  25,  26,\n",
       "        27,  28,  29,  30,  31,  32,  33,  34,  35,  36,  37,  38,  39,\n",
       "        40,  41,  42,  43,  44,  45,  46,  47,  48,  49,  50,  51,  52,\n",
       "        53,  54,  55,  56,  57,  58,  59,  60,  61,  62,  63,  64,  65,\n",
       "        66,  67,  68,  69,  70,  71,  72,  73,  74,  75,  76,  77,  78,\n",
       "        79,  80,  81,  82,  83,  84,  85,  86,  87,  88,  89,  90,  91,\n",
       "        92,  93,  94,  95,  96,  97,  98,  99, 100, 101, 102, 103, 104,\n",
       "       105, 106, 107, 108, 109, 110, 111, 112, 113, 114, 115, 116, 117,\n",
       "       118, 119, 120, 121, 122, 123, 124, 125, 126, 127, 128, 129, 130,\n",
       "       131, 132, 133, 134, 135, 136, 137], dtype=int64)"
      ]
     },
     "execution_count": 6,
     "metadata": {},
     "output_type": "execute_result"
    }
   ],
   "source": [
    "# get all unique berekeningid's\n",
    "berek_id = pd.read_sql_query(\"SELECT berekeningid FROM frequentielijn;\", disk_engine)\n",
    "berek_id['berekeningid'].unique()"
   ]
  },
  {
   "cell_type": "code",
   "execution_count": 7,
   "metadata": {
    "collapsed": false
   },
   "outputs": [
    {
     "name": "stdout",
     "output_type": "stream",
     "text": [
      "137\n"
     ]
    }
   ],
   "source": [
    "# get last berekeningid as string\n",
    "b_id = str(berek_id['berekeningid'].iloc[-1])\n",
    "print (b_id)"
   ]
  },
  {
   "cell_type": "code",
   "execution_count": 8,
   "metadata": {
    "collapsed": false
   },
   "outputs": [
    {
     "data": {
      "text/html": [
       "<div>\n",
       "<table border=\"1\" class=\"dataframe\">\n",
       "  <thead>\n",
       "    <tr style=\"text-align: right;\">\n",
       "      <th></th>\n",
       "      <th>frequentie</th>\n",
       "      <th>waterstand</th>\n",
       "    </tr>\n",
       "  </thead>\n",
       "  <tbody>\n",
       "    <tr>\n",
       "      <th>0</th>\n",
       "      <td>0.164124</td>\n",
       "      <td>1.4</td>\n",
       "    </tr>\n",
       "    <tr>\n",
       "      <th>1</th>\n",
       "      <td>0.110296</td>\n",
       "      <td>1.5</td>\n",
       "    </tr>\n",
       "    <tr>\n",
       "      <th>2</th>\n",
       "      <td>0.071139</td>\n",
       "      <td>1.6</td>\n",
       "    </tr>\n",
       "    <tr>\n",
       "      <th>3</th>\n",
       "      <td>0.045003</td>\n",
       "      <td>1.7</td>\n",
       "    </tr>\n",
       "    <tr>\n",
       "      <th>4</th>\n",
       "      <td>0.027009</td>\n",
       "      <td>1.8</td>\n",
       "    </tr>\n",
       "  </tbody>\n",
       "</table>\n",
       "</div>"
      ],
      "text/plain": [
       "   frequentie  waterstand\n",
       "0    0.164124         1.4\n",
       "1    0.110296         1.5\n",
       "2    0.071139         1.6\n",
       "3    0.045003         1.7\n",
       "4    0.027009         1.8"
      ]
     },
     "execution_count": 8,
     "metadata": {},
     "output_type": "execute_result"
    }
   ],
   "source": [
    "freq_ws = pd.read_sql_query(\"SELECT frequentie, waterstand FROM frequentielijn WHERE berekeningid=\"+b_id+\";\", disk_engine)\n",
    "freq_ws.head()"
   ]
  },
  {
   "cell_type": "code",
   "execution_count": 9,
   "metadata": {
    "collapsed": false
   },
   "outputs": [
    {
     "data": {
      "text/plain": [
       "<matplotlib.axes._subplots.AxesSubplot at 0x4c6aa90>"
      ]
     },
     "execution_count": 9,
     "metadata": {},
     "output_type": "execute_result"
    },
    {
     "data": {
      "image/png": "[encoded data removed]",
      "text/plain": [
       "<matplotlib.figure.Figure at 0x847c940>"
      ]
     },
     "metadata": {},
     "output_type": "display_data"
    }
   ],
   "source": [
    "freq_ws.plot(y='waterstand',x='frequentie',kind='scatter')"
   ]
  },
  {
   "cell_type": "code",
   "execution_count": 10,
   "metadata": {
    "collapsed": false
   },
   "outputs": [
    {
     "data": {
      "text/html": [
       "<div class=\"vega-embed\" id=\"bea7b897-bb13-495a-86a8-a3ec3ba74870\"></div>\n",
       "\n",
       "<style>\n",
       ".vega-embed svg, .vega-embed canvas {\n",
       "  border: 1px dotted gray;\n",
       "}\n",
       "\n",
       ".vega-embed .vega-actions a {\n",
       "  margin-right: 6px;\n",
       "}\n",
       "</style>\n"
      ]
     },
     "metadata": {
      "jupyter-vega": "#bea7b897-bb13-495a-86a8-a3ec3ba74870"
     },
     "output_type": "display_data"
    },
    {
     "data": {
      "application/javascript": [
       "var spec = {\"encoding\": {\"y\": {\"type\": \"quantitative\", \"field\": \"waterstand\"}, \"x\": {\"type\": \"quantitative\", \"field\": \"frequentie\"}}, \"data\": {\"values\": [{\"frequentie\": 0.1641241, \"waterstand\": 1.4}, {\"frequentie\": 0.1102964, \"waterstand\": 1.5}, {\"frequentie\": 0.071139216, \"waterstand\": 1.6}, {\"frequentie\": 0.045003295, \"waterstand\": 1.7}, {\"frequentie\": 0.027009454, \"waterstand\": 1.8}, {\"frequentie\": 0.015281616, \"waterstand\": 1.9}, {\"frequentie\": 0.0079700602, \"waterstand\": 2.0}, {\"frequentie\": 0.0039104256, \"waterstand\": 2.1}, {\"frequentie\": 0.0018590854, \"waterstand\": 2.2}, {\"frequentie\": 0.00087388116, \"waterstand\": 2.3}, {\"frequentie\": 0.00040827159, \"waterstand\": 2.4}, {\"frequentie\": 0.00018989084, \"waterstand\": 2.5}, {\"frequentie\": 8.8204644e-05, \"waterstand\": 2.6}, {\"frequentie\": 4.1879768e-05, \"waterstand\": 2.7}, {\"frequentie\": 2.0634488e-05, \"waterstand\": 2.8}, {\"frequentie\": 1.0630144e-05, \"waterstand\": 2.9}, {\"frequentie\": 5.8453334e-06, \"waterstand\": 3.0}, {\"frequentie\": 3.4934815e-06, \"waterstand\": 3.1}, {\"frequentie\": 2.2567676e-06, \"waterstand\": 3.2}, {\"frequentie\": 1.5675664e-06, \"waterstand\": 3.3}, {\"frequentie\": 1.1713571e-06, \"waterstand\": 3.4}, {\"frequentie\": 9.2359221e-07, \"waterstand\": 3.5}, {\"frequentie\": 7.5258765e-07, \"waterstand\": 3.6}]}, \"config\": {\"cell\": {\"width\": 500, \"height\": 350}}, \"mark\": \"line\"};\n",
       "var selector = \"#bea7b897-bb13-495a-86a8-a3ec3ba74870\";\n",
       "var type = \"vega-lite\";\n",
       "\n",
       "var output_area = this;\n",
       "require(['nbextensions/jupyter-vega/index'], function(vega) {\n",
       "  vega.render(selector, spec, type, output_area);\n",
       "}, function (err) {\n",
       "  if (err.requireType !== 'scripterror') {\n",
       "    throw(err);\n",
       "  }\n",
       "});\n"
      ]
     },
     "metadata": {
      "jupyter-vega": "#bea7b897-bb13-495a-86a8-a3ec3ba74870"
     },
     "output_type": "display_data"
    },
    {
     "data": {
      "image/png": "[encoded data removed]"
     },
     "metadata": {
      "jupyter-vega": "#bea7b897-bb13-495a-86a8-a3ec3ba74870"
     },
     "output_type": "display_data"
    }
   ],
   "source": [
    "Chart(freq_ws).mark_line().encode(\n",
    "    Y('waterstand:Q'),\n",
    "    X('frequentie:Q')\n",
    ")"
   ]
  },
  {
   "cell_type": "code",
   "execution_count": 11,
   "metadata": {
    "collapsed": false
   },
   "outputs": [],
   "source": [
    "# set dynamic domain\n",
    "y_domain_min = np.floor(freq_ws['waterstand'].min())\n",
    "y_domain_max = np.ceil(freq_ws['waterstand'].max())\n",
    "\n",
    "x_domain_min = freq_ws['frequentie'].min()\n",
    "x_domain_max = freq_ws['frequentie'].max()"
   ]
  },
  {
   "cell_type": "code",
   "execution_count": 12,
   "metadata": {
    "collapsed": false
   },
   "outputs": [
    {
     "data": {
      "text/html": [
       "<div class=\"vega-embed\" id=\"818d74dd-9bde-48f2-9516-9216cb1ca54c\"></div>\n",
       "\n",
       "<style>\n",
       ".vega-embed svg, .vega-embed canvas {\n",
       "  border: 1px dotted gray;\n",
       "}\n",
       "\n",
       ".vega-embed .vega-actions a {\n",
       "  margin-right: 6px;\n",
       "}\n",
       "</style>\n"
      ]
     },
     "metadata": {
      "jupyter-vega": "#818d74dd-9bde-48f2-9516-9216cb1ca54c"
     },
     "output_type": "display_data"
    },
    {
     "data": {
      "application/javascript": [
       "var spec = {\"encoding\": {\"y\": {\"type\": \"quantitative\", \"scale\": {\"domain\": [1.0, 4.0]}, \"field\": \"waterstand\"}, \"x\": {\"type\": \"quantitative\", \"scale\": {\"type\": \"log\", \"domain\": [0.1641241, 7.5258765e-07]}, \"axis\": {\"format\": \"0.1e\"}, \"field\": \"frequentie\"}}, \"data\": {\"values\": [{\"frequentie\": 0.1641241, \"waterstand\": 1.4}, {\"frequentie\": 0.1102964, \"waterstand\": 1.5}, {\"frequentie\": 0.071139216, \"waterstand\": 1.6}, {\"frequentie\": 0.045003295, \"waterstand\": 1.7}, {\"frequentie\": 0.027009454, \"waterstand\": 1.8}, {\"frequentie\": 0.015281616, \"waterstand\": 1.9}, {\"frequentie\": 0.0079700602, \"waterstand\": 2.0}, {\"frequentie\": 0.0039104256, \"waterstand\": 2.1}, {\"frequentie\": 0.0018590854, \"waterstand\": 2.2}, {\"frequentie\": 0.00087388116, \"waterstand\": 2.3}, {\"frequentie\": 0.00040827159, \"waterstand\": 2.4}, {\"frequentie\": 0.00018989084, \"waterstand\": 2.5}, {\"frequentie\": 8.8204644e-05, \"waterstand\": 2.6}, {\"frequentie\": 4.1879768e-05, \"waterstand\": 2.7}, {\"frequentie\": 2.0634488e-05, \"waterstand\": 2.8}, {\"frequentie\": 1.0630144e-05, \"waterstand\": 2.9}, {\"frequentie\": 5.8453334e-06, \"waterstand\": 3.0}, {\"frequentie\": 3.4934815e-06, \"waterstand\": 3.1}, {\"frequentie\": 2.2567676e-06, \"waterstand\": 3.2}, {\"frequentie\": 1.5675664e-06, \"waterstand\": 3.3}, {\"frequentie\": 1.1713571e-06, \"waterstand\": 3.4}, {\"frequentie\": 9.2359221e-07, \"waterstand\": 3.5}, {\"frequentie\": 7.5258765e-07, \"waterstand\": 3.6}]}, \"config\": {\"cell\": {\"width\": 500, \"height\": 350}}, \"mark\": \"line\"};\n",
       "var selector = \"#818d74dd-9bde-48f2-9516-9216cb1ca54c\";\n",
       "var type = \"vega-lite\";\n",
       "\n",
       "var output_area = this;\n",
       "require(['nbextensions/jupyter-vega/index'], function(vega) {\n",
       "  vega.render(selector, spec, type, output_area);\n",
       "}, function (err) {\n",
       "  if (err.requireType !== 'scripterror') {\n",
       "    throw(err);\n",
       "  }\n",
       "});\n"
      ]
     },
     "metadata": {
      "jupyter-vega": "#818d74dd-9bde-48f2-9516-9216cb1ca54c"
     },
     "output_type": "display_data"
    },
    {
     "data": {
      "image/png": "[encoded data removed]"
     },
     "metadata": {
      "jupyter-vega": "#818d74dd-9bde-48f2-9516-9216cb1ca54c"
     },
     "output_type": "display_data"
    }
   ],
   "source": [
    "Chart(freq_ws).mark_line().encode(\n",
    "    Y('waterstand:Q',scale=Scale(domain=[y_domain_min,y_domain_max])),\n",
    "    X('frequentie:Q',\n",
    "      scale=Scale(type='log', domain=[x_domain_max,x_domain_min]),\n",
    "      axis=Axis(format='0.1e'))\n",
    ")"
   ]
  },
  {
   "cell_type": "code",
   "execution_count": null,
   "metadata": {
    "collapsed": true
   },
   "outputs": [],
   "source": []
  }
 ],
 "metadata": {
  "kernelspec": {
   "display_name": "Python 3",
   "language": "python",
   "name": "python3"
  },
  "language_info": {
   "codemirror_mode": {
    "name": "ipython",
    "version": 3
   },
   "file_extension": ".py",
   "mimetype": "text/x-python",
   "name": "python",
   "nbconvert_exporter": "python",
   "pygments_lexer": "ipython3",
   "version": "3.5.2"
  }
 },
 "nbformat": 4,
 "nbformat_minor": 2
}
