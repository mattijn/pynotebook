{
 "cells": [
  {
   "cell_type": "code",
   "execution_count": 1,
   "metadata": {},
   "outputs": [
    {
     "name": "stdout",
     "output_type": "stream",
     "text": [
      "dataservice is set. https://dmws.hkvservices.nl/dataportal/ will be used as portal\n"
     ]
    }
   ],
   "source": [
    "from hkvportal.io.services import dataportal as dp\n",
    "import json\n",
    "dp = dp()\n",
    "dp.setDataservice(dataservice = 'https://dmws.hkvservices.nl/dataportal/')"
   ]
  },
  {
   "cell_type": "code",
   "execution_count": 2,
   "metadata": {},
   "outputs": [
    {
     "data": {
      "text/plain": [
       "[{'id': '5184e175-e28a-4803-9a31-d6814dd261a0',\n",
       "  'key': 'locations',\n",
       "  'date': '2017-12-08 12:09:41',\n",
       "  'description': 'Locations Ethiopia'},\n",
       " {'id': 'f78b2da0-0f59-4346-8878-47edfa1dd333',\n",
       "  'key': 'weather',\n",
       "  'date': '2017-12-08 15:22:28',\n",
       "  'description': 'Seattle weather'},\n",
       " {'id': 'e2659a35-705c-4e59-bbd7-b28ece00b7cb',\n",
       "  'key': 'weather_spec',\n",
       "  'date': '2018-02-15 14:39:50',\n",
       "  'description': 'Parameter vega spec'},\n",
       " {'id': '19e7b1b1-df1c-4c1e-99db-24473d25742b',\n",
       "  'key': 'map_spec',\n",
       "  'date': '2018-02-15 11:33:17',\n",
       "  'description': 'Ethiopia map vega spec'},\n",
       " {'id': 'ba593c4a-3c5c-49f3-a682-bae5ca7c54e8',\n",
       "  'key': 'geojson_weredas',\n",
       "  'date': '2017-12-12 16:27:01',\n",
       "  'description': 'Ethiopia map weredas'},\n",
       " {'id': '4dd031ec-023b-4813-94d1-766be70b560f',\n",
       "  'key': 'map_spec_rw',\n",
       "  'date': '2017-12-12 16:46:51',\n",
       "  'description': 'Ethiopia map vega spec'},\n",
       " {'id': 'b45c2f0b-bf75-4964-80f8-9ee1a1cf574a',\n",
       "  'key': 'bullet_chart_spec',\n",
       "  'date': '2018-02-15 11:33:28',\n",
       "  'description': 'Bullet chart vega spec'},\n",
       " {'id': 'a2839933-b647-42af-97c3-8c8d26fb6758',\n",
       "  'key': 'geojson_river',\n",
       "  'date': '2017-12-20 19:23:15',\n",
       "  'description': 'Awash Awash basin rivers'},\n",
       " {'id': '23303693-03ec-4964-a6a8-4e8b557f012c',\n",
       "  'key': 'geojson_catchment',\n",
       "  'date': '2017-12-20 19:23:29',\n",
       "  'description': 'Awash Awash basin catchment'},\n",
       " {'id': 'da466ba7-87b1-44ad-a306-080ee66ab05d',\n",
       "  'key': 'geojson_segments',\n",
       "  'date': '2017-12-20 20:59:03',\n",
       "  'description': 'Awash Awash diversion points schematized'},\n",
       " {'id': '9ee82677-bdee-44a6-9288-44cb6408369f',\n",
       "  'key': 'geojson_diversion_locations',\n",
       "  'date': '2017-12-20 20:02:29',\n",
       "  'description': 'Awash Awash diversion points'},\n",
       " {'id': '76ebcb20-1596-4ea4-be9c-29d06bd1ca2e',\n",
       "  'key': 'vega3_map',\n",
       "  'date': '2017-12-20 21:12:49',\n",
       "  'description': 'Vega-3 map specification'}]"
      ]
     },
     "execution_count": 2,
     "metadata": {},
     "output_type": "execute_result"
    }
   ],
   "source": [
    "dp.listDatabase(database = 'Ethiopia')"
   ]
  },
  {
   "cell_type": "code",
   "execution_count": 53,
   "metadata": {},
   "outputs": [],
   "source": [
    "# Vega specs vanuit bestand laden\n",
    "import json\n",
    "vega_spec_path = r'D:\\jupyter notebooks\\3348.10 WAP Awash - Ethiopie\\JSON-files\\Awash_weredas.json'\n",
    "vega_spec = json.load(open(vega_spec_path))"
   ]
  },
  {
   "cell_type": "code",
   "execution_count": 54,
   "metadata": {},
   "outputs": [
    {
     "data": {
      "text/plain": [
       "{'date': '2017-12-12 16:27:01',\n",
       " 'id': 'ba593c4a-3c5c-49f3-a682-bae5ca7c54e8',\n",
       " 'key': 'geojson_weredas'}"
      ]
     },
     "execution_count": 54,
     "metadata": {},
     "output_type": "execute_result"
    }
   ],
   "source": [
    "# json data uploaden naar data portal\n",
    "dp.setEntryDatabase(database = 'Ethiopia', key = 'geojson_weredas', data = json.dumps(vega_spec), description = 'Ethiopia map weredas')"
   ]
  },
  {
   "cell_type": "code",
   "execution_count": 46,
   "metadata": {},
   "outputs": [
    {
     "name": "stdout",
     "output_type": "stream",
     "text": [
      "https://data.hkvservices.nl/dataservices/data.asmx/read?database=Ethiopia&key=geojson_weredas\n"
     ]
    }
   ],
   "source": [
    "# json data lezen vanuit data portal\n",
    "geojson_weredas = dp.getEntryDatabase(database = 'Ethiopia', key = 'geojson_weredas')"
   ]
  },
  {
   "cell_type": "code",
   "execution_count": 4,
   "metadata": {},
   "outputs": [],
   "source": [
    "# Vega specs vanuit bestand laden\n",
    "import json\n",
    "map_spec_path = r\"D:\\jupyter notebooks\\3348.10 WIP Awash - Ethiopie\\JSON-files\\map_spec_update_20190103.json\"\n",
    "map_spec = json.load(open(map_spec_path))"
   ]
  },
  {
   "cell_type": "code",
   "execution_count": 5,
   "metadata": {},
   "outputs": [
    {
     "data": {
      "text/plain": [
       "{'id': '19e7b1b1-df1c-4c1e-99db-24473d25742b',\n",
       " 'key': 'map_spec',\n",
       " 'date': '2019-01-03 14:32:19'}"
      ]
     },
     "execution_count": 5,
     "metadata": {},
     "output_type": "execute_result"
    }
   ],
   "source": [
    "# json data uploaden naar data portal\n",
    "dp.setEntryDatabase(database = 'Ethiopia', key = 'map_spec', data = json.dumps(map_spec), description = 'Ethiopia map vega spec')"
   ]
  },
  {
   "cell_type": "code",
   "execution_count": null,
   "metadata": {},
   "outputs": [],
   "source": []
  },
  {
   "cell_type": "code",
   "execution_count": 38,
   "metadata": {},
   "outputs": [
    {
     "name": "stdout",
     "output_type": "stream",
     "text": [
      "https://data.hkvservices.nl/dataservices/data.asmx/read?database=Ethiopia&key=weather_spec\n"
     ]
    }
   ],
   "source": [
    "# json data lezen vanuit data portal\n",
    "weather_spec = dp.getEntryDatabase(database = 'Ethiopia', key = 'weather_spec')"
   ]
  },
  {
   "cell_type": "code",
   "execution_count": 27,
   "metadata": {},
   "outputs": [
    {
     "name": "stdout",
     "output_type": "stream",
     "text": [
      "https://data.hkvservices.nl/dataservices/data.asmx/read?database=Ethiopia&key=map_spec\n"
     ]
    }
   ],
   "source": [
    "# json data lezen vanuit data portal\n",
    "map_spec = dp.getEntryDatabase(database = 'Ethiopia', key = 'map_spec')"
   ]
  },
  {
   "cell_type": "code",
   "execution_count": 28,
   "metadata": {},
   "outputs": [],
   "source": [
    "folderin = 'GPM_3IMERG_P'"
   ]
  },
  {
   "cell_type": "code",
   "execution_count": 29,
   "metadata": {
    "scrolled": false
   },
   "outputs": [],
   "source": [
    "map_spec['data'][3]['url'] = 'http://81.171.27.131:8080/thredds/wms/HKV/PR3348_10/{}/P24.HOUR-ethiopia.nc'.format(folderin)"
   ]
  },
  {
   "cell_type": "code",
   "execution_count": 30,
   "metadata": {},
   "outputs": [],
   "source": [
    "map_spec['data'][4]['url'] = 'http://81.171.27.131:8080/thredds/wms/HKV/PR3348_10/{}/P12.HOUR-ethiopia.nc'.format(folderin)"
   ]
  },
  {
   "cell_type": "code",
   "execution_count": 31,
   "metadata": {},
   "outputs": [],
   "source": [
    "map_spec['data'][5]['url'] = 'http://81.171.27.131:8080/thredds/wms/HKV/PR3348_10/{}/P08.HOUR-ethiopia.nc'.format(folderin)"
   ]
  },
  {
   "cell_type": "code",
   "execution_count": 32,
   "metadata": {},
   "outputs": [],
   "source": [
    "map_spec['data'][6]['url'] = 'http://81.171.27.131:8080/thredds/wms/HKV/PR3348_10/{}/P02.HOUR-ethiopia.nc'.format(folderin)"
   ]
  },
  {
   "cell_type": "code",
   "execution_count": 33,
   "metadata": {},
   "outputs": [
    {
     "data": {
      "text/plain": [
       "{'date': '2017-12-12 12:32:25',\n",
       " 'id': '19e7b1b1-df1c-4c1e-99db-24473d25742b',\n",
       " 'key': 'map_spec'}"
      ]
     },
     "execution_count": 33,
     "metadata": {},
     "output_type": "execute_result"
    }
   ],
   "source": [
    "# json data uploaden naar data portal\n",
    "dp.setEntryDatabase(database = 'Ethiopia', key = 'map_spec', data = json.dumps(map_spec), description = 'Ethiopia map vega spec')"
   ]
  },
  {
   "cell_type": "code",
   "execution_count": 34,
   "metadata": {},
   "outputs": [
    {
     "name": "stdout",
     "output_type": "stream",
     "text": [
      "https://data.hkvservices.nl/dataservices/data.asmx/read?database=Ethiopia&key=map_spec\n"
     ]
    }
   ],
   "source": [
    "# json data lezen vanuit data portal\n",
    "map_spec = dp.getEntryDatabase(database = 'Ethiopia', key = 'map_spec')"
   ]
  },
  {
   "cell_type": "code",
   "execution_count": 37,
   "metadata": {
    "scrolled": false
   },
   "outputs": [
    {
     "data": {
      "text/plain": [
       "{'$schema': 'https://vega.github.io/schema/vega/v3.0.json',\n",
       " 'autosize': 'fit',\n",
       " 'custom': {'buttons': {'debug': False, 'zoomin': True, 'zoomout': True},\n",
       "  'name': 'Map'},\n",
       " 'data': [{'format': {'property': 'features', 'type': 'json'},\n",
       "   'name': 'Locations',\n",
       "   'service': 'url',\n",
       "   'transform': [{'expr': 'datum.properties.id', 'type': 'filter'}],\n",
       "   'url': 'https://data.hkvservices.nl/dataservices/data.asmx/read?database=Ethiopia&key=locations'},\n",
       "  {'format': {'type': 'wms'},\n",
       "   'name': 'Steden',\n",
       "   'parameters': {'layers': 'LWB:top250v_bebouwing2014'},\n",
       "   'url': 'http://5.79.71.80:8081/geoserver/wms'},\n",
       "  {'format': {'type': 'ows'},\n",
       "   'name': 'Provincies',\n",
       "   'parameters': {'layers': 'LBEO:Provincies_2015'},\n",
       "   'url': 'http://5.79.71.80:8081/geoserver/wms'},\n",
       "  {'description': 'Downscaled precipitation',\n",
       "   'format': {'type': 'timedimension'},\n",
       "   'name': 'precipitation_24',\n",
       "   'parameters': {'autoplay': False,\n",
       "    'displaydate': True,\n",
       "    'layers': 'precipitation',\n",
       "    'loop': True,\n",
       "    'maximum': 50,\n",
       "    'minimum': 0,\n",
       "    'numcolorbands': 10,\n",
       "    'period ': 'PT1H',\n",
       "    'speedslider': True,\n",
       "    'timeoffset': '+6',\n",
       "    'timeslider': False},\n",
       "   'url': 'http://81.171.27.131:8080/thredds/wms/HKV/PR3348_10/GPM_3IMERG_P/P24.HOUR-ethiopia.nc'},\n",
       "  {'description': 'Downscaled precipitation',\n",
       "   'format': {'type': 'timedimension'},\n",
       "   'name': 'precipitation_12',\n",
       "   'parameters': {'autoplay': False,\n",
       "    'displaydate': True,\n",
       "    'layers': 'precipitation',\n",
       "    'loop': True,\n",
       "    'maximum': 50,\n",
       "    'minimum': 0,\n",
       "    'numcolorbands': 10,\n",
       "    'period ': 'PT1H',\n",
       "    'speedslider': True,\n",
       "    'timeoffset': '+6',\n",
       "    'timeslider': False},\n",
       "   'url': 'http://81.171.27.131:8080/thredds/wms/HKV/PR3348_10/GPM_3IMERG_P/P12.HOUR-ethiopia.nc'},\n",
       "  {'description': 'Downscaled precipitation',\n",
       "   'format': {'type': 'timedimension'},\n",
       "   'name': 'precipitation_08',\n",
       "   'parameters': {'autoplay': False,\n",
       "    'displaydate': True,\n",
       "    'layers': 'precipitation',\n",
       "    'loop': True,\n",
       "    'maximum': 50,\n",
       "    'minimum': 0,\n",
       "    'numcolorbands': 10,\n",
       "    'period ': 'PT1H',\n",
       "    'speedslider': True,\n",
       "    'timeoffset': '+6',\n",
       "    'timeslider': False},\n",
       "   'url': 'http://81.171.27.131:8080/thredds/wms/HKV/PR3348_10/GPM_3IMERG_P/P08.HOUR-ethiopia.nc'},\n",
       "  {'description': 'Downscaled precipitation',\n",
       "   'format': {'type': 'timedimension'},\n",
       "   'name': 'precipitation_02',\n",
       "   'parameters': {'autoplay': False,\n",
       "    'displaydate': True,\n",
       "    'layers': 'precipitation',\n",
       "    'loop': True,\n",
       "    'maximum': 50,\n",
       "    'minimum': 0,\n",
       "    'numcolorbands': 10,\n",
       "    'period ': 'PT1H',\n",
       "    'speedslider': True,\n",
       "    'timeoffset': '+6',\n",
       "    'timeslider': False},\n",
       "   'url': 'http://81.171.27.131:8080/thredds/wms/HKV/PR3348_10/GPM_3IMERG_P/P02.HOUR-ethiopia.nc'}],\n",
       " 'height': 1,\n",
       " 'marks': [{'description': 'DISDRO Rain meters',\n",
       "   'encode': {'enter': {'fill': {'value': '#0099ff'},\n",
       "     'fillOpacity': {'value': 1},\n",
       "     'size': {'value': 100},\n",
       "     'stroke': {'value': 'black'},\n",
       "     'strokeOpacity': {'value': 1},\n",
       "     'strokeWidth': {'value': 0.4}},\n",
       "    'hover': {'fill': {'value': '#ffad33'},\n",
       "     'fillOpacity': {'value': 1},\n",
       "     'size': {'value': 100},\n",
       "     'stroke': {'value': 'black'},\n",
       "     'strokeOpacity': {'value': 1},\n",
       "     'strokeWidth': {'value': 0.8}},\n",
       "    'select': {'fill': {'value': '#ffad33'},\n",
       "     'fillOpacity': {'value': 1},\n",
       "     'size': {'value': 100},\n",
       "     'stroke': {'value': 'black'},\n",
       "     'strokeOpacity': {'value': 1},\n",
       "     'strokeWidth': {'value': 0.8}},\n",
       "    'update': {'fill': {'value': '#0099ff'},\n",
       "     'fillOpacity': {'value': 1},\n",
       "     'size': {'value': 100},\n",
       "     'stroke': {'value': 'black'},\n",
       "     'strokeOpacity': {'value': 1},\n",
       "     'strokeWidth': {'value': 0.4}}},\n",
       "   'from': {'data': 'DISDRO'},\n",
       "   'group': 'Parameters',\n",
       "   'name': 'P.DISDRO.hour',\n",
       "   'tooltip': {'colorTheme': 'dark', 'showAllFields': True},\n",
       "   'transform': [{'projection': 'projection_mercator', 'type': 'geoshape'}],\n",
       "   'type': 'shape',\n",
       "   'zindex': 2},\n",
       "  {'description': 'Steden in Nederland',\n",
       "   'encode': {'enter': {'styles': {'value': 'grass'}}},\n",
       "   'from': {'data': 'Steden'},\n",
       "   'group': 'Maps',\n",
       "   'name': 'Steden',\n",
       "   'type': 'wms',\n",
       "   'zindex': 12},\n",
       "  {'description': 'Provincies in Nederland',\n",
       "   'encode': {'enter': {'fill': {'value': 'red'},\n",
       "     'fillOpacity': {'value': 1},\n",
       "     'size': {'value': 100},\n",
       "     'stroke': {'value': 'black'},\n",
       "     'strokeOpacity': {'value': 1},\n",
       "     'strokeWidth': {'value': 0.4}},\n",
       "    'hover': {'fill': {'value': '#ffad33'},\n",
       "     'fillOpacity': {'value': 1},\n",
       "     'size': {'value': 100},\n",
       "     'stroke': {'value': 'black'},\n",
       "     'strokeOpacity': {'value': 1},\n",
       "     'strokeWidth': {'value': 0.8}},\n",
       "    'select': {'fill': {'value': '#ffad33'},\n",
       "     'fillOpacity': {'value': 1},\n",
       "     'size': {'value': 100},\n",
       "     'stroke': {'value': 'black'},\n",
       "     'strokeOpacity': {'value': 1},\n",
       "     'strokeWidth': {'value': 0.8}},\n",
       "    'update': {'fill': {'value': 'red'},\n",
       "     'fillOpacity': {'value': 1},\n",
       "     'size': {'value': 100},\n",
       "     'stroke': {'value': 'black'},\n",
       "     'strokeOpacity': {'value': 1},\n",
       "     'strokeWidth': {'value': 0.4}}},\n",
       "   'from': {'data': 'Provincies'},\n",
       "   'group': 'Maps',\n",
       "   'name': 'Provincies',\n",
       "   'tooltip': {'colorTheme': 'dark',\n",
       "    'fields': [{'field': 'Provincien', 'title': 'Provincie'}],\n",
       "    'showAllFields': False},\n",
       "   'transform': [{'projection': 'projection_mercator', 'type': 'geoshape'}],\n",
       "   'type': 'shape',\n",
       "   'zindex': 12},\n",
       "  {'description': 'Locations',\n",
       "   'encode': {'enter': {'fill': {'value': 'yellow'},\n",
       "     'fillOpacity': {'value': 1},\n",
       "     'size': {'value': 100},\n",
       "     'stroke': {'value': 'brown'},\n",
       "     'strokeOpacity': {'value': 1},\n",
       "     'strokeWidth': {'value': 0.4}},\n",
       "    'hover': {'fill': {'value': '#ffad33'},\n",
       "     'fillOpacity': {'value': 1},\n",
       "     'size': {'value': 100},\n",
       "     'stroke': {'value': 'brown'},\n",
       "     'strokeOpacity': {'value': 1},\n",
       "     'strokeWidth': {'value': 0.8}},\n",
       "    'select': {'fill': {'value': '#ffad33'},\n",
       "     'fillOpacity': {'value': 1},\n",
       "     'size': {'value': 100},\n",
       "     'stroke': {'value': 'brown'},\n",
       "     'strokeOpacity': {'value': 1},\n",
       "     'strokeWidth': {'value': 0.8}},\n",
       "    'update': {'fill': {'value': 'yellow'},\n",
       "     'fillOpacity': {'value': 1},\n",
       "     'size': {'value': 100},\n",
       "     'stroke': {'value': 'brown'},\n",
       "     'strokeOpacity': {'value': 1},\n",
       "     'strokeWidth': {'value': 0.4}}},\n",
       "   'from': {'data': 'Locations'},\n",
       "   'group': 'Maps',\n",
       "   'name': 'Locations',\n",
       "   'tooltip': {'colorTheme': 'dark', 'showAllFields': True},\n",
       "   'transform': [{'projection': 'projection_mercator', 'type': 'geoshape'}],\n",
       "   'type': 'shape',\n",
       "   'zindex': 12},\n",
       "  {'description': 'Precipitation 24 Hours',\n",
       "   'encode': {'enter': {'styles': {'value': 'boxfill/PR3427_precipitation'}}},\n",
       "   'from': {'data': 'precipitation_24'},\n",
       "   'group': 'Precipitation',\n",
       "   'name': 'Precipitation_24',\n",
       "   'type': 'timedimension',\n",
       "   'zindex': 2},\n",
       "  {'description': 'Precipitation 12 Hours',\n",
       "   'encode': {'enter': {'styles': {'value': 'boxfill/PR3427_precipitation'}}},\n",
       "   'from': {'data': 'precipitation_12'},\n",
       "   'group': 'Precipitation',\n",
       "   'name': 'Precipitation_12',\n",
       "   'type': 'timedimension',\n",
       "   'zindex': 2},\n",
       "  {'description': 'Precipitation  8 Hours',\n",
       "   'encode': {'enter': {'styles': {'value': 'boxfill/PR3427_precipitation'}}},\n",
       "   'from': {'data': 'precipitation_08'},\n",
       "   'group': 'Precipitation',\n",
       "   'name': 'Precipitation_08',\n",
       "   'type': 'timedimension',\n",
       "   'zindex': 2},\n",
       "  {'description': 'Precipitation  2 Hours',\n",
       "   'encode': {'enter': {'styles': {'value': 'boxfill/PR3427_precipitation'}}},\n",
       "   'from': {'data': 'precipitation_02'},\n",
       "   'group': 'Precipitation',\n",
       "   'name': 'Precipitation_02',\n",
       "   'type': 'timedimension',\n",
       "   'zindex': 2}],\n",
       " 'projections': [{'center': [38.763611, 9.005401],\n",
       "   'name': 'projection_mercator',\n",
       "   'rotate': [0, 0, 0],\n",
       "   'scale': 1500,\n",
       "   'translate': [{'signal': 'translate0'}, {'signal': 'translate1'}],\n",
       "   'type': 'EPSG:4326'}],\n",
       " 'scales': [{'domain': [0.0, 0.25, 0.5],\n",
       "   'name': 'color',\n",
       "   'range': ['#7CFC00', 'orange', 'red', 'darkred'],\n",
       "   'type': 'threshold'}],\n",
       " 'signals': [{'name': 'translate0', 'update': 'width / 2'},\n",
       "  {'name': 'translate1', 'update': 'height / 2'},\n",
       "  {'name': 'FeatureClick',\n",
       "   'on': [{'events': '@Locations:click', 'update': '{value: datum.value}'}],\n",
       "   'value': {'shortName': 'onbekend'}},\n",
       "  {'name': 'FeatureMouseOut',\n",
       "   'on': [{'events': '@Locations:mouseout', 'update': '{value: datum.value}'}],\n",
       "   'value': {'shortName': 'onbekend'}},\n",
       "  {'name': 'FeatureMouseMove',\n",
       "   'on': [{'events': '@Locations:mousemove',\n",
       "     'update': '{value: datum.value}'}],\n",
       "   'value': {'shortName': 'onbekend'}},\n",
       "  {'name': 'ProvincieClick',\n",
       "   'on': [{'events': '@Provincies:click', 'update': '{value: datum.value}'}],\n",
       "   'value': {'Provincien': 'onbekend'}}],\n",
       " 'width': 1}"
      ]
     },
     "execution_count": 37,
     "metadata": {},
     "output_type": "execute_result"
    }
   ],
   "source": [
    "map_spec"
   ]
  },
  {
   "cell_type": "code",
   "execution_count": null,
   "metadata": {},
   "outputs": [],
   "source": []
  }
 ],
 "metadata": {
  "kernelspec": {
   "display_name": "Python 3",
   "language": "python",
   "name": "python3"
  },
  "language_info": {
   "codemirror_mode": {
    "name": "ipython",
    "version": 3
   },
   "file_extension": ".py",
   "mimetype": "text/x-python",
   "name": "python",
   "nbconvert_exporter": "python",
   "pygments_lexer": "ipython3",
   "version": "3.6.5"
  }
 },
 "nbformat": 4,
 "nbformat_minor": 2
}
