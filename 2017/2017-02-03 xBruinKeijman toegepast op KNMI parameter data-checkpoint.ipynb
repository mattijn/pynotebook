{
 "cells": [
  {
   "cell_type": "code",
   "execution_count": null,
   "metadata": {
    "collapsed": false,
    "deletable": true,
    "editable": true
   },
   "outputs": [],
   "source": [
    "import BruinKeijman as bk\n",
    "from datetime import datetime, timedelta\n",
    "import os \n",
    "from osgeo import gdal\n",
    "import numpy as np\n",
    "import matplotlib.pyplot as plt\n",
    "import matplotlib.ticker as mticker\n",
    "import io\n",
    "from nbformat import current\n",
    "from scipy.stats import kendalltau\n",
    "import seaborn as sns\n",
    "from scipy import stats\n",
    "%matplotlib inline"
   ]
  },
  {
   "cell_type": "code",
   "execution_count": null,
   "metadata": {
    "collapsed": true,
    "deletable": true,
    "editable": true
   },
   "outputs": [],
   "source": [
    "sns.set(style='ticks')#, rc={'axes.facecolor':'black', 'figure.facecolor':'black'})"
   ]
  },
  {
   "cell_type": "code",
   "execution_count": null,
   "metadata": {
    "collapsed": true,
    "deletable": true,
    "editable": true
   },
   "outputs": [],
   "source": [
    "def r2(x, y):\n",
    "    return stats.pearsonr(x, y)[0] ** 2"
   ]
  },
  {
   "cell_type": "code",
   "execution_count": null,
   "metadata": {
    "collapsed": true,
    "deletable": true,
    "editable": true
   },
   "outputs": [],
   "source": [
    "def crop(image, x1, x2, y1, y2):\n",
    "    \"\"\"\n",
    "    Return the cropped image at the x1, x2, y1, y2 coordinates\n",
    "    \"\"\"\n",
    "    if x2 == -1:\n",
    "        x2=image.shape[1]-1\n",
    "    if y2 == -1:\n",
    "        y2=image.shape[0]-1\n",
    "\n",
    "    mask = np.zeros(image.shape)\n",
    "    mask[y1:y2+1, x1:x2+1]=1\n",
    "    m = mask>0\n",
    "\n",
    "    return image[m].reshape((y2+1-y1, x2+1-x1))"
   ]
  },
  {
   "cell_type": "code",
   "execution_count": null,
   "metadata": {
    "collapsed": true,
    "deletable": true,
    "editable": true
   },
   "outputs": [],
   "source": [
    "def execute_notebook(nbfile):\n",
    "    \n",
    "    with io.open(nbfile) as f:\n",
    "        nb = current.read(f, 'json')\n",
    "    \n",
    "    ip = get_ipython()\n",
    "    \n",
    "    for cell in nb.worksheets[0].cells:\n",
    "        if cell.cell_type != 'code':\n",
    "            continue\n",
    "        ip.run_cell(cell.input)"
   ]
  },
  {
   "cell_type": "code",
   "execution_count": null,
   "metadata": {
    "collapsed": true,
    "deletable": true,
    "editable": true
   },
   "outputs": [],
   "source": [
    "def plot_colors_labels(ax, cb, im, im_title, cb_label, fg_color='white', bg_color='black'):    \n",
    "    # IMSHOW    \n",
    "    # set title plus title color\n",
    "    ax.set_title(im_title, color=fg_color)\n",
    "    \n",
    "    # set figure facecolor\n",
    "    ax.patch.set_facecolor(bg_color)\n",
    "    \n",
    "    # set tick and ticklabel color\n",
    "    im.axes.tick_params(color=fg_color, labelcolor=fg_color)\n",
    "    \n",
    "    # set imshow outline\n",
    "    for spine in im.axes.spines.values():\n",
    "        spine.set_edgecolor(fg_color)    \n",
    "\n",
    "    # COLORBAR\n",
    "    # set colorbar label plus label color\n",
    "    cb.set_label(cb_label, color=fg_color)\n",
    "    \n",
    "    # set colorbar tick color\n",
    "    cb.ax.yaxis.set_tick_params(color=fg_color)\n",
    "    \n",
    "    # set colorbar edgecolor \n",
    "    cb.outline.set_edgecolor(fg_color)\n",
    "    \n",
    "    # set colorbar ticklabels\n",
    "    plt.setp(plt.getp(cb.ax.axes, 'yticklabels'), color=fg_color)"
   ]
  },
  {
   "cell_type": "code",
   "execution_count": null,
   "metadata": {
    "collapsed": true,
    "deletable": true,
    "editable": true
   },
   "outputs": [],
   "source": [
    "def listall(RootFolder, varname='',extension='.png'):\n",
    "    lists = [os.path.join(root, name)\n",
    "             for root, dirs, files in os.walk(RootFolder)\n",
    "             for name in files\n",
    "             if varname in name\n",
    "             if name.endswith(extension)]\n",
    "    return lists"
   ]
  },
  {
   "cell_type": "code",
   "execution_count": null,
   "metadata": {
    "collapsed": false,
    "deletable": true,
    "editable": true
   },
   "outputs": [],
   "source": [
    "def dictFromParam(rootDir):\n",
    "    # input is the rootdirectory that contains the tif files\n",
    "    # output is a dictionary with dates and absolute path to the items\n",
    "    listDir = listall(rootDir, extension='.tif')\n",
    "\n",
    "    # CREATE DICTIONARY OF DATES AND ITEMS FOR ALBEDO FILES\n",
    "    dates = []\n",
    "    items = []\n",
    "    for idx, item in enumerate(listDir):    \n",
    "        base, file  = os.path.split(item)\n",
    "        file, extension = os.path.splitext(file)\n",
    "        date = datetime.strptime(file[-12:-4], '%Y%m%d')\n",
    "        #print(date)\n",
    "        dates.append(date)\n",
    "        items.append(item)\n",
    "    param_dict = dict(zip(dates, items))\n",
    "    return param_dict"
   ]
  },
  {
   "cell_type": "code",
   "execution_count": null,
   "metadata": {
    "collapsed": false,
    "deletable": true,
    "editable": true
   },
   "outputs": [],
   "source": [
    "root = r'D:\\Projects\\Pr\\3492.10\\ALBEDO\\tif_IDW_100x100m'\n",
    "listAlbedo = listall(root, extension='.tif')\n",
    "\n",
    "# CREATE DICTIONARY OF DATES AND ITEMS FOR ALBEDO FILES\n",
    "dates_Albedo = []\n",
    "items_Albedo = []\n",
    "for idx, item in enumerate(listAlbedo):\n",
    "    base, file  = os.path.split(listAlbedo[idx])\n",
    "    file, extension = os.path.splitext(file)\n",
    "    date = datetime.strptime(file[-12::], '%Y%m%d%H%M%S')\n",
    "    #print(date)\n",
    "    dates_Albedo.append(date)\n",
    "    items_Albedo.append(item)\n",
    "dict_Albedo = dict(zip(dates_Albedo, items_Albedo))"
   ]
  },
  {
   "cell_type": "code",
   "execution_count": null,
   "metadata": {
    "collapsed": true,
    "deletable": true,
    "editable": true
   },
   "outputs": [],
   "source": [
    "root = r'D:\\Projects\\Pr\\3492.10\\DIDSLF\\tif_IDW_100x100m'\n",
    "listInLW = listall(root, extension='.tif')\n",
    "\n",
    "# CREATE DICTIONARY OF DATES AND ITEMS FOR ALBEDO FILES\n",
    "dates_InLW = []\n",
    "items_InLW = []\n",
    "for idx, item in enumerate(listInLW):\n",
    "    base, file  = os.path.split(listInLW[idx])\n",
    "    file, extension = os.path.splitext(file)\n",
    "    date = datetime.strptime(file[-12::], '%Y%m%d%H%M%S')\n",
    "    #print(date)\n",
    "    dates_InLW.append(date)\n",
    "    items_InLW.append(item)\n",
    "dict_InLW = dict(zip(dates_InLW, items_InLW))"
   ]
  },
  {
   "cell_type": "code",
   "execution_count": null,
   "metadata": {
    "collapsed": true,
    "deletable": true,
    "editable": true
   },
   "outputs": [],
   "source": [
    "root = r'C:\\Projects\\Pr\\3492.10\\DIDSSF\\tif_IDW_100x100m'\n",
    "listInSW = listall(root, extension='.tif')\n",
    "\n",
    "# CREATE DICTIONARY OF DATES AND ITEMS FOR ALBEDO FILES\n",
    "dates_InSW = []\n",
    "items_InSW = []\n",
    "for idx, item in enumerate(listInSW):\n",
    "    base, file  = os.path.split(listInSW[idx])\n",
    "    file, extension = os.path.splitext(file)\n",
    "    date = datetime.strptime(file[-12::], '%Y%m%d%H%M%S')\n",
    "    #print(date)\n",
    "    dates_InSW.append(date)\n",
    "    items_InSW.append(item)\n",
    "dict_InSW = dict(zip(dates_InSW, items_InSW))"
   ]
  },
  {
   "cell_type": "code",
   "execution_count": null,
   "metadata": {
    "collapsed": false,
    "deletable": true,
    "editable": true
   },
   "outputs": [],
   "source": [
    "# CREATE DICTIONARIES OF DATES AND ITEMS FOR KNMI FILES\n",
    "# Tmean\n",
    "rootTmean = r'D:\\Projects\\Pr\\3492.10\\KNMI\\tif_IDW_100x100m\\Tmean'\n",
    "dict_Tmean = dictFromParam(rootTmean)\n",
    "\n",
    "# Tmin\n",
    "rootTmin = r'D:\\Projects\\Pr\\3492.10\\KNMI\\tif_IDW_100x100m\\Tmin'\n",
    "dict_Tmin = dictFromParam(rootTmin)\n",
    "\n",
    "# Tmax\n",
    "rootTmax = r'D:\\Projects\\Pr\\3492.10\\KNMI\\tif_IDW_100x100m\\Tmax'\n",
    "dict_Tmax = dictFromParam(rootTmax)\n",
    "\n",
    "# Kmean\n",
    "rootKmean = r'D:\\Projects\\Pr\\3492.10\\KNMI\\tif_IDW_100x100m\\Kmean'\n",
    "dict_Kmean = dictFromParam(rootKmean)\n",
    "\n",
    "# Kmax\n",
    "rootKmax = r'D:\\Projects\\Pr\\3492.10\\KNMI\\tif_IDW_100x100m\\Kmax'\n",
    "dict_Kmax = dictFromParam(rootKmax)\n",
    "\n",
    "# Kmin\n",
    "rootKmin = r'D:\\Projects\\Pr\\3492.10\\KNMI\\tif_IDW_100x100m\\Kmin'\n",
    "dict_Kmin = dictFromParam(rootKmin)\n",
    "\n",
    "# Nmean\n",
    "rootNmean = r'D:\\Projects\\Pr\\3492.10\\KNMI\\tif_IDW_100x100m\\Nmean'\n",
    "dict_Nmean = dictFromParam(rootNmean)\n",
    "\n",
    "# Pmean\n",
    "rootPmean = r'D:\\Projects\\Pr\\3492.10\\KNMI\\tif_IDW_100x100m\\Pmean'\n",
    "dict_Pmean = dictFromParam(rootPmean)\n",
    "\n",
    "# Qsum\n",
    "rootQsum = r'D:\\Projects\\Pr\\3492.10\\KNMI\\tif_IDW_100x100m\\Qsum'\n",
    "dict_Qsum = dictFromParam(rootQsum)\n",
    "\n",
    "# Umean\n",
    "rootUmean = r'D:\\Projects\\Pr\\3492.10\\KNMI\\tif_IDW_100x100m\\Umean'\n",
    "dict_Umean = dictFromParam(rootUmean)"
   ]
  },
  {
   "cell_type": "code",
   "execution_count": null,
   "metadata": {
    "collapsed": true,
    "deletable": true,
    "editable": true
   },
   "outputs": [],
   "source": [
    "# load water mask or in fact load land and outer-sea mask\n",
    "file_water       = r'D:\\Projects\\Pr\\3492.10\\Water//Water_100x100m.tif'\n",
    "array_water      = gdal.Open(file_water).ReadAsArray()"
   ]
  },
  {
   "cell_type": "code",
   "execution_count": null,
   "metadata": {
    "collapsed": false,
    "deletable": true,
    "editable": true
   },
   "outputs": [],
   "source": [
    "plt.imshow(array_water)\n",
    "print ('value to mask is:', array_water[0][0] )"
   ]
  },
  {
   "cell_type": "code",
   "execution_count": null,
   "metadata": {
    "collapsed": true,
    "deletable": true,
    "editable": true
   },
   "outputs": [],
   "source": [
    "font = {'family': 'arial',\n",
    "        'color':  'white',\n",
    "        'weight': 'normal',\n",
    "        'size': 16,\n",
    "        }"
   ]
  },
  {
   "cell_type": "code",
   "execution_count": null,
   "metadata": {
    "collapsed": false,
    "deletable": true,
    "editable": true,
    "scrolled": true
   },
   "outputs": [],
   "source": [
    "# plot all data\n",
    "for date in dates_InSW[0:1]:\n",
    "    \n",
    "    print ('date_All',date)    \n",
    "    date_Albedo = min(dates_Albedo, key=lambda d: abs(d - date))\n",
    "    print ('date_Albedo',date_Albedo)\n",
    "    \n",
    "    # get file names of each parameter\n",
    "    file_Albedo  = dict_Albedo[date_Albedo]\n",
    "    file_InLW    = dict_InLW[date]    \n",
    "    file_InSW    = dict_InSW[date]\n",
    "    file_Tmean   = dict_Tmean[date]\n",
    "    file_Tmin    = dict_Tmin[date]\n",
    "    file_Tmax    = dict_Tmax[date]\n",
    "    file_Kmean   = dict_Kmean[date]\n",
    "    file_Kmin    = dict_Kmin[date]\n",
    "    file_Kmax    = dict_Kmax[date]\n",
    "    file_Nmean   = dict_Nmean[date]    \n",
    "    file_Pmean   = dict_Pmean[date]    \n",
    "    file_Qsum    = dict_Qsum[date]    \n",
    "    file_Umean   = dict_Umean[date] \n",
    "    \n",
    "    # get arrays of each parameter\n",
    "    array_Albedo = gdal.Open(file_Albedo).ReadAsArray()\n",
    "    array_Albedo = np.ma.masked_where(array_water==255,array_Albedo)\n",
    "\n",
    "    array_InLW   = gdal.Open(file_InLW).ReadAsArray()\n",
    "    array_InLW   = np.ma.masked_where(array_water==255,array_InLW)  \n",
    "\n",
    "    array_InSW   = gdal.Open(file_InSW).ReadAsArray()\n",
    "    array_InSW   = np.ma.masked_where(array_water==255,array_InSW)      \n",
    "    \n",
    "    array_Tmean  = gdal.Open(file_Tmean).ReadAsArray()\n",
    "    array_Tmean  = np.ma.masked_where(array_water==255,array_Tmean)\n",
    "    \n",
    "    array_Tmax   = gdal.Open(file_Tmax).ReadAsArray()\n",
    "    array_Tmax   = np.ma.masked_where(array_water==255,array_Tmax)\n",
    "    \n",
    "    array_Tmin   = gdal.Open(file_Tmin).ReadAsArray()\n",
    "    array_Tmin   = np.ma.masked_where(array_water==255,array_Tmin)\n",
    "    \n",
    "    array_Kmean  = gdal.Open(file_Kmean).ReadAsArray()\n",
    "    array_Kmean  = np.ma.masked_where(array_water==255,array_Kmean)\n",
    "    \n",
    "    array_Kmax   = gdal.Open(file_Kmax).ReadAsArray()\n",
    "    array_Kmax   = np.ma.masked_where(array_water==255,array_Kmax)\n",
    "    \n",
    "    array_Kmin   = gdal.Open(file_Kmin).ReadAsArray()\n",
    "    array_Kmin   = np.ma.masked_where(array_water==255,array_Kmin)\n",
    "    \n",
    "    array_Nmean  = gdal.Open(file_Nmean).ReadAsArray()\n",
    "    array_Nmean  = np.ma.masked_where(array_water==255,array_Nmean)\n",
    "    \n",
    "    array_Pmean  = gdal.Open(file_Pmean).ReadAsArray()    \n",
    "    array_Pmean  = np.ma.masked_where(array_water==255,array_Pmean)\n",
    "    \n",
    "    array_Qsum   = gdal.Open(file_Qsum).ReadAsArray()\n",
    "    array_Qsum   = np.ma.masked_where(array_water==255,array_Qsum)\n",
    "    \n",
    "    array_Umean  = gdal.Open(file_Umean).ReadAsArray()    \n",
    "    array_Umean  = np.ma.masked_where(array_water==255,array_Umean)\n",
    "\n",
    "#     #fig = plt.figure(figsize=(20,10))\n",
    "#     fig, [[ax1,ax2,ax3,ax4],[ax5,ax6,ax7,ax8],[ax9,ax10,ax11,ax12]] = plt.subplots(3,4, figsize=(19,11))\n",
    "#     fig.patch.set_facecolor('black')\n",
    "#     fig.text(0.5, 1.02, date.strftime('%Y-%m-%d'), fontdict=font)    \n",
    "\n",
    "#     im = ax1.imshow(np.ma.masked_where(array_Albedo == -999, array_Albedo), vmin=0, vmax=0.25)\n",
    "#     cb = fig.colorbar(im,ax=ax1, format='%.2f')\n",
    "#     plot_colors_labels(ax1, cb, im, 'Albedo', '-')\n",
    "\n",
    "#     im = ax2.imshow(array_Tmean, vmin=2, vmax=27)\n",
    "#     cb = plt.colorbar(im, ax=ax2, format='%.0f')    \n",
    "#     plot_colors_labels(ax2, cb, im, 'Gemiddelde dagtemperatuur', '°C')    \n",
    "\n",
    "#     im = ax3.imshow(array_Tmax, vmin=2, vmax=27)\n",
    "#     cb = plt.colorbar(im, ax=ax3, format='%.0f')\n",
    "#     plot_colors_labels(ax3, cb, im, 'Maximum dagtemperatuur', '°C')    \n",
    "\n",
    "#     im = ax4.imshow(array_Tmin, vmin=2, vmax=27)\n",
    "#     cb = plt.colorbar(im, ax=ax4, format='%.0f')\n",
    "#     plot_colors_labels(ax4, cb, im, 'Minimum dagtemperatuur', '°C')\n",
    "\n",
    "#     im = ax5.imshow(array_Kmean, vmin=2+273.15, vmax=27+273.15)\n",
    "#     cb = plt.colorbar(im, ax=ax5, format='%.0f')\n",
    "#     plot_colors_labels(ax5, cb, im, 'Gemiddelde dagtemperatuur', 'K')    \n",
    "\n",
    "#     im = ax6.imshow(array_Kmax, vmin=2+273.15, vmax=27+273.15)\n",
    "#     cb = plt.colorbar(im, ax=ax6, format='%.0f')    \n",
    "#     plot_colors_labels(ax6, cb, im, 'Maximum dagtemperatuur', 'K')        \n",
    "    \n",
    "# #     im = ax7.imshow(array_Kmin, vmin=2+273.15, vmax=27+273.15)\n",
    "# #     cb = plt.colorbar(im, ax=ax7, format='%.2f')\n",
    "# #     plot_colors_labels(ax7, cb, im, 'Minimum dagtemperatuur', 'K')\n",
    "\n",
    "#     im = ax7.imshow(array_InSW, vmin=30, vmax=350)\n",
    "#     cb = plt.colorbar(im, ax=ax7, format='%.0f')\n",
    "#     plot_colors_labels(ax7, cb, im, 'Inkomende kortgolvige straling', 'W/m2')    \n",
    "\n",
    "#     im = ax8.imshow(array_Nmean, vmin=0, vmax=1)\n",
    "#     cb = plt.colorbar(im, ax=ax8, format='%.1f')\n",
    "#     plot_colors_labels(ax8, cb, im, 'Bedekkingsgraad bewolking', '-')\n",
    "\n",
    "#     im = ax9.imshow(array_Pmean, vmin=998.5, vmax=1026)\n",
    "#     cb = plt.colorbar(im, ax=ax9, format='%.0f')    \n",
    "#     plot_colors_labels(ax9, cb, im, 'Luchtdruk', 'kPa')    \n",
    "\n",
    "#     im = ax10.imshow(array_Qsum, vmin=30, vmax=350)\n",
    "#     cb = plt.colorbar(im, ax=ax10, format='%.0f')\n",
    "#     plot_colors_labels(ax10, cb, im, 'Dagsom globale straling', 'W/m2')\n",
    "\n",
    "#     im = ax11.imshow(array_Umean,vmin=0.6,vmax=1.0)\n",
    "#     cb = plt.colorbar(im, ax=ax11, format='%.2f')    \n",
    "#     plot_colors_labels(ax11, cb, im, 'Relatieve vochtigheid', '-')    \n",
    "\n",
    "#     im = ax12.imshow(array_InLW,vmin=272,vmax=380)\n",
    "#     cb = plt.colorbar(im, ax=ax12, format='%.0f')    \n",
    "#     plot_colors_labels(ax12, cb, im, 'Inkomende langgolvige straling', 'W/m2')\n",
    "    \n",
    "#     #fig.patch.set_facecolor('black') \n",
    "#     plt.tight_layout()\n",
    "    \n",
    "#     file_out = r'C:\\Projects\\Pr\\3492.10\\BruinKeijman\\png//spBLACKv2_'+date.strftime('%Y%m%d')+'.png'    \n",
    "#     fig.savefig(file_out, facecolor=fig.get_facecolor(), dpi=200, edgecolor='none', bbox_inches='tight')\n",
    "#     #plt.show()\n",
    "#     plt.clf()\n",
    "#     plt.cla()\n",
    "#     plt.close(fig)\n",
    "#     plt.close()\n",
    "    \n",
    "    "
   ]
  },
  {
   "cell_type": "code",
   "execution_count": null,
   "metadata": {
    "collapsed": true,
    "deletable": true,
    "editable": true
   },
   "outputs": [],
   "source": [
    "# # plot only difference between InShortwave and Globale dagsom\n",
    "# for date in dates_InSW:\n",
    "    \n",
    "#     print ('date_All',date)    \n",
    "#     date_Albedo = min(dates_Albedo, key=lambda d: abs(d - date))\n",
    "#     print ('date_Albedo',date_Albedo)\n",
    "    \n",
    "#     # get file names of each parameter  \n",
    "#     file_InSW    = dict_InSW[date]   \n",
    "#     file_Qsum    = dict_Qsum[date]     \n",
    "    \n",
    "#     array_InSW   = gdal.Open(file_InSW).ReadAsArray()\n",
    "#     array_InSW   = np.ma.masked_where(array_water==255,array_InSW)      \n",
    "    \n",
    "#     array_Qsum   = gdal.Open(file_Qsum).ReadAsArray()\n",
    "#     array_Qsum   = np.ma.masked_where(array_water==255,array_Qsum)\n",
    "    \n",
    "#     array_difInSW_Qsum = array_InSW - array_Qsum\n",
    "    \n",
    "#     # plot the figure\n",
    "#     fig, [ax1,ax2,ax3] = plt.subplots(1,3, figsize=(15,4))\n",
    "#     fig.patch.set_facecolor('black')\n",
    "#     fig.text(0.5, 1.02, date.strftime('%Y-%m-%d'), fontdict=font)\n",
    "\n",
    "#     im = ax1.imshow(array_InSW, vmin=30, vmax=350)\n",
    "#     cb = plt.colorbar(im, ax=ax1, format='%.0f')\n",
    "#     plot_colors_labels(ax1, cb, im, 'Inkomende kortgolvige straling', 'W/m2')    \n",
    "\n",
    "#     im = ax2.imshow(array_Qsum, vmin=30, vmax=350)\n",
    "#     cb = plt.colorbar(im, ax=ax2, format='%.0f')\n",
    "#     plot_colors_labels(ax2, cb, im, 'Dagsom globale straling', 'W/m2')\n",
    "    \n",
    "#     im = ax3.imshow(array_difInSW_Qsum, cmap='BrBG',vmin=-50, vmax=50)\n",
    "#     cb = plt.colorbar(im, ax=ax3, format='%.0f')\n",
    "#     plot_colors_labels(ax3, cb, im, 'Verschil inkomend - dagsom', 'W/m2')\n",
    "\n",
    "#     plt.tight_layout()\n",
    "    \n",
    "#     file_out = r'C:\\Projects\\Pr\\3492.10\\BruinKeijman\\png//SW_Q_'+date.strftime('%Y%m%d')+'.png'    \n",
    "#     fig.savefig(file_out, facecolor=fig.get_facecolor(), dpi=200, edgecolor='none', bbox_inches='tight')\n",
    "# #    plt.show()\n",
    "#     plt.clf()\n",
    "#     plt.cla()\n",
    "#     plt.close(fig)\n",
    "#     plt.close()"
   ]
  },
  {
   "cell_type": "code",
   "execution_count": null,
   "metadata": {
    "collapsed": false,
    "deletable": true,
    "editable": true
   },
   "outputs": [],
   "source": [
    "x = date.timetuple().tm_yday\n",
    "print ('doy: ',x)"
   ]
  },
  {
   "cell_type": "code",
   "execution_count": null,
   "metadata": {
    "collapsed": false,
    "deletable": true,
    "editable": true
   },
   "outputs": [],
   "source": [
    "execute_notebook('2017-01-25 De Bruin-Keijmanmethode.ipynb')"
   ]
  },
  {
   "cell_type": "code",
   "execution_count": null,
   "metadata": {
    "collapsed": false,
    "deletable": true,
    "editable": true
   },
   "outputs": [],
   "source": [
    "# plot all data\n",
    "for date in dates_InSW:\n",
    "    \n",
    "    print ('date_All',date)    \n",
    "    date_Albedo = min(dates_Albedo, key=lambda d: abs(d - date))\n",
    "    print ('date_Albedo',date_Albedo)\n",
    "    \n",
    "    # get file names of each parameter\n",
    "    file_Albedo  = dict_Albedo[date_Albedo]\n",
    "    file_InLW    = dict_InLW[date]    \n",
    "    file_InSW    = dict_InSW[date]\n",
    "    file_Tmean   = dict_Tmean[date]\n",
    "    file_Tmin    = dict_Tmin[date]\n",
    "    file_Tmax    = dict_Tmax[date]\n",
    "    file_Kmean   = dict_Kmean[date]\n",
    "    file_Kmin    = dict_Kmin[date]\n",
    "    file_Kmax    = dict_Kmax[date]\n",
    "    file_Nmean   = dict_Nmean[date]    \n",
    "    file_Pmean   = dict_Pmean[date]    \n",
    "    file_Qsum    = dict_Qsum[date]    \n",
    "    file_Umean   = dict_Umean[date] \n",
    "    \n",
    "    # LOADING DATASETS :: get arrays of each parameter\n",
    "#     array_Albedo = gdal.Open(file_Albedo).ReadAsArray()\n",
    "#     array_Albedo = np.ma.masked_where(array_water==255,array_Albedo)\n",
    "\n",
    "    array_InLW   = gdal.Open(file_InLW).ReadAsArray()\n",
    "    array_InLW   = np.ma.masked_where(array_water==255,array_InLW)  \n",
    "\n",
    "    array_InSW   = gdal.Open(file_InSW).ReadAsArray()\n",
    "    array_InSW   = np.ma.masked_where(array_water==255,array_InSW)      \n",
    "    \n",
    "#     array_Tmean  = gdal.Open(file_Tmean).ReadAsArray()\n",
    "#     array_Tmean  = np.ma.masked_where(array_water==255,array_Tmean)\n",
    "    \n",
    "    array_Tmax   = gdal.Open(file_Tmax).ReadAsArray()\n",
    "    array_Tmax   = np.ma.masked_where(array_water==255,array_Tmax)\n",
    "    \n",
    "    array_Tmin   = gdal.Open(file_Tmin).ReadAsArray()\n",
    "    array_Tmin   = np.ma.masked_where(array_water==255,array_Tmin)\n",
    "    \n",
    "    array_Kmean  = gdal.Open(file_Kmean).ReadAsArray()\n",
    "    array_Kmean  = np.ma.masked_where(array_water==255,array_Kmean)\n",
    "    \n",
    "    array_Kmax   = gdal.Open(file_Kmax).ReadAsArray()\n",
    "    array_Kmax   = np.ma.masked_where(array_water==255,array_Kmax)\n",
    "    \n",
    "    array_Kmin   = gdal.Open(file_Kmin).ReadAsArray()\n",
    "    array_Kmin   = np.ma.masked_where(array_water==255,array_Kmin)\n",
    "    \n",
    "    array_Nmean  = gdal.Open(file_Nmean).ReadAsArray()\n",
    "    array_Nmean  = np.ma.masked_where(array_water==255,array_Nmean)\n",
    "    \n",
    "    array_Pmean  = gdal.Open(file_Pmean).ReadAsArray()    \n",
    "    array_Pmean  = np.ma.masked_where(array_water==255,array_Pmean)\n",
    "    \n",
    "    array_Qsum   = gdal.Open(file_Qsum).ReadAsArray()\n",
    "    array_Qsum   = np.ma.masked_where(array_water==255,array_Qsum)\n",
    "    \n",
    "    array_Umean  = gdal.Open(file_Umean).ReadAsArray()    \n",
    "    array_Umean  = np.ma.masked_where(array_water==255,array_Umean)\n",
    "\n",
    "    \n",
    "    # Berekening L-netto based on incoming longwave\n",
    "    # Stefan-Boltzmann constant = 5.670367e-08 W m^-2 K^-4\n",
    "    L_netto_InLW = bk_L_netto_InLW(epsilon=0.96,sigma=constants.Stefan_Boltzmann, T_a_max=array_Kmax, T_a_min=array_Kmin, L_inLW=array_InLW)\n",
    "    \n",
    "    # L-netto based on station data estimates\n",
    "    # Berekening e_sat\n",
    "    e_sat = bk_e_s(array_Tmin, array_Tmax)\n",
    "\n",
    "    # Berekening e_z\n",
    "    e_z = bk_e_z(array_Umean, e_sat)\n",
    "\n",
    "    # Berekening N_rel\n",
    "    N_rel = bk_N_rel(C=array_Nmean)\n",
    "\n",
    "    # Berekening L-netto \n",
    "    L_netto_station = bk_L_netto_station(epsilon=0.96, sigma=constants.Stefan_Boltzmann, T_a_max=array_Kmax, T_a_min=array_Kmin, e_z=e_z, N_rel=N_rel)\n",
    "\n",
    "    # Lnetto difference Incoming Longwave - Station based Lnetto\n",
    "    L_netto_dif = L_netto_InLW - L_netto_station    \n",
    "    \n",
    "    # crop to province Friesland\n",
    "    x1,x2,y1,y2 =  1980,2470, 1150, 1580\n",
    "    L_netto_InLW_FR    = crop(L_netto_InLW,    x1,x2,y1,y2)\n",
    "    L_netto_station_FR = crop(L_netto_station, x1,x2,y1,y2)\n",
    "    L_netto_dif_FR     = crop(L_netto_dif,     x1,x2,y1,y2)\n",
    "    \n",
    "    \n",
    "    # plot the figure\n",
    "    fig, [[ax1,ax2,ax3],[ax4,ax5,ax6]] = plt.subplots(2,3, figsize=(15,8))\n",
    "    fig.patch.set_facecolor('black')\n",
    "    fig.text(0.5, 1.02, date.strftime('%Y-%m-%d'), fontdict=font)\n",
    "\n",
    "    im = ax1.imshow(L_netto_InLW, vmin=0, vmax=50, cmap='viridis')\n",
    "    cb = plt.colorbar(im, ax=ax1, format='%.0f')\n",
    "    plot_colors_labels(ax1, cb, im, 'Netto langgolvige straling (InLW)', 'W/m2')    \n",
    "\n",
    "    im = ax2.imshow(L_netto_station, vmin=0, vmax=50, cmap='viridis')\n",
    "    cb = plt.colorbar(im, ax=ax2, format='%.0f')\n",
    "    plot_colors_labels(ax2, cb, im, 'Netto langgolvige straling (stations)', 'W/m2')\n",
    "\n",
    "    im = ax3.imshow(L_netto_dif, cmap='BrBG',vmin=-50, vmax=50)\n",
    "    cb = plt.colorbar(im, ax=ax3, format='%.0f')\n",
    "    plot_colors_labels(ax3, cb, im, 'Verschil Lnetto_InLW - Lnetto_stations', 'W/m2')\n",
    "\n",
    "    im = ax4.imshow(L_netto_InLW_FR, vmin=0, vmax=50, cmap='viridis')\n",
    "    cb = plt.colorbar(im, ax=ax4, format='%.0f')\n",
    "    plot_colors_labels(ax4, cb, im, 'FR:Netto langgolvige straling (InLW)', 'W/m2')    \n",
    "\n",
    "    im = ax5.imshow(L_netto_station_FR, vmin=0, vmax=50, cmap='viridis')\n",
    "    cb = plt.colorbar(im, ax=ax5, format='%.0f')\n",
    "    plot_colors_labels(ax5, cb, im, 'FR:Netto langgolvige straling (stations)', 'W/m2')\n",
    "\n",
    "    im = ax6.imshow(L_netto_dif_FR, cmap='BrBG',vmin=-50, vmax=50)\n",
    "    cb = plt.colorbar(im, ax=ax6, format='%.0f')\n",
    "    plot_colors_labels(ax6, cb, im, 'FR:Verschil Lnetto_InLW - Lnetto_stations', 'W/m2')\n",
    "\n",
    "\n",
    "    plt.tight_layout()\n",
    "    \n",
    "    file_out = r'C:\\Projects\\Pr\\3492.10\\BruinKeijman\\png//Lnetto_'+date.strftime('%Y%m%d')+'.png'    \n",
    "    fig.savefig(file_out, facecolor=fig.get_facecolor(), dpi=200, edgecolor='none', bbox_inches='tight')\n",
    "#     plt.show()\n",
    "    plt.clf()\n",
    "    plt.cla()\n",
    "    plt.close(fig)\n",
    "    plt.close()\n",
    "\n",
    "    x = L_netto_InLW.reshape(-1).compressed()\n",
    "    y = L_netto_station.reshape(-1).compressed()\n",
    "\n",
    "    g = sns.jointplot(x, y, kind=\"hex\", size=6, gridsize=30, stat_func=r2)\n",
    "    g.set_axis_labels(\"Lnetto (OLW:station estimate ILW:EUMETSAT)\", \"Lnetto (OLW,ILW:EUMETSAT)\")\n",
    "    g.fig.suptitle('Netherlands')\n",
    "    g.fig.text(0.75, 0.95,date.strftime('%Y-%m-%d'))\n",
    "    file_out_plt_NL = r'C:\\Projects\\Pr\\3492.10\\BruinKeijman\\png//Lnetto_scatterNL_'+date.strftime('%Y%m%d')+'.png'    \n",
    "    g.savefig(file_out_plt_NL, dpi=200)\n",
    "\n",
    "    x_FR = L_netto_InLW_FR.reshape(-1).compressed()\n",
    "    y_FR = L_netto_station_FR.reshape(-1).compressed()\n",
    "\n",
    "    g = sns.jointplot(x_FR, y_FR, kind=\"hex\", size=6, gridsize=30, stat_func=r2)#,shade=True, shade_lowest=False)\n",
    "    g.set_axis_labels(\"Lnetto (W/m2) - OLW:station estimate ILW:EUMETSAT\", \"Lnetto (W/m2) -  OLW,ILW:station estimate\")\n",
    "    g.fig.suptitle('Friesland province')\n",
    "    g.fig.text(0.75, 0.95,date.strftime('%Y-%m-%d'))\n",
    "    file_out_plt_FR = r'C:\\Projects\\Pr\\3492.10\\BruinKeijman\\png//Lnetto_scatterFR_'+date.strftime('%Y%m%d')+'.png'    \n",
    "    g.savefig(file_out_plt_FR, dpi=200)\n",
    "\n",
    "    plt.clf()\n",
    "    plt.cla()\n",
    "    plt.close(fig)\n",
    "    plt.close(g.fig)\n",
    "    plt.close()"
   ]
  },
  {
   "cell_type": "code",
   "execution_count": null,
   "metadata": {
    "collapsed": true,
    "deletable": true,
    "editable": true
   },
   "outputs": [],
   "source": [
    "# Berekening L-netto based on incoming longwave\n",
    "# Stefan-Boltzmann constant = 5.670367e-08 W m^-2 K^-4\n",
    "L_netto_InLW = bk_L_netto_InLW(epsilon=0.96,sigma=constants.Stefan_Boltzmann, T_a_max=array_Kmax, T_a_min=array_Kmin, L_inLW=array_InLW)"
   ]
  },
  {
   "cell_type": "code",
   "execution_count": null,
   "metadata": {
    "collapsed": true,
    "deletable": true,
    "editable": true
   },
   "outputs": [],
   "source": [
    "# L-netto based on station data estimates\n",
    "# Berekening e_sat\n",
    "e_sat = bk_e_s(array_Tmin, array_Tmax)\n",
    "\n",
    "# Berekening e_z\n",
    "e_z = bk_e_z(array_Umean, e_sat)\n",
    "\n",
    "# Berekening N_rel\n",
    "N_rel = bk_N_rel(C=array_Nmean)\n",
    "\n",
    "# Berekening L-netto \n",
    "L_netto_station = bk_L_netto_station(epsilon=0.96, sigma=constants.Stefan_Boltzmann, T_a_max=array_Kmax, T_a_min=array_Kmin, e_z=e_z, N_rel=N_rel)\n"
   ]
  },
  {
   "cell_type": "code",
   "execution_count": null,
   "metadata": {
    "collapsed": true,
    "deletable": true,
    "editable": true
   },
   "outputs": [],
   "source": [
    "L_netto_dif = L_netto_InLW - L_netto_station"
   ]
  },
  {
   "cell_type": "code",
   "execution_count": null,
   "metadata": {
    "collapsed": true,
    "deletable": true,
    "editable": true
   },
   "outputs": [],
   "source": [
    "# crop to province Friesland\n",
    "x1,x2,y1,y2 =  1980,2470, 1150, 1580\n",
    "L_netto_InLW_FR    = crop(L_netto_InLW,    x1,x2,y1,y2)\n",
    "L_netto_station_FR = crop(L_netto_station, x1,x2,y1,y2)\n",
    "L_netto_dif_FR     = crop(L_netto_dif,     x1,x2,y1,y2)"
   ]
  },
  {
   "cell_type": "code",
   "execution_count": null,
   "metadata": {
    "collapsed": false,
    "deletable": true,
    "editable": true
   },
   "outputs": [],
   "source": [
    "# # plot the figure\n",
    "# fig, [[ax1,ax2,ax3],[ax4,ax5,ax6]] = plt.subplots(2,3, figsize=(15,8))\n",
    "# fig.patch.set_facecolor('black')\n",
    "# fig.text(0.5, 1.02, date.strftime('%Y-%m-%d'), fontdict=font)\n",
    "\n",
    "# im = ax1.imshow(L_netto_InLW, vmin=0, vmax=50, cmap='viridis')\n",
    "# cb = plt.colorbar(im, ax=ax1, format='%.0f')\n",
    "# plot_colors_labels(ax1, cb, im, 'Netto langgolvige straling (InLW)', 'W/m2')    \n",
    "\n",
    "# im = ax2.imshow(L_netto_station, vmin=0, vmax=50, cmap='viridis')\n",
    "# cb = plt.colorbar(im, ax=ax2, format='%.0f')\n",
    "# plot_colors_labels(ax2, cb, im, 'Netto langgolvige straling (stations)', 'W/m2')\n",
    "\n",
    "# im = ax3.imshow(L_netto_dif, cmap='BrBG',vmin=-50, vmax=50)\n",
    "# cb = plt.colorbar(im, ax=ax3, format='%.0f')\n",
    "# plot_colors_labels(ax3, cb, im, 'Verschil Lnetto_InLW - Lnetto_stations', 'W/m2')\n",
    "\n",
    "# im = ax4.imshow(L_netto_InLW_FR, vmin=0, vmax=50, cmap='viridis')\n",
    "# cb = plt.colorbar(im, ax=ax4, format='%.0f')\n",
    "# plot_colors_labels(ax4, cb, im, 'FR:Netto langgolvige straling (InLW)', 'W/m2')    \n",
    "\n",
    "# im = ax5.imshow(L_netto_station_FR, vmin=0, vmax=50, cmap='viridis')\n",
    "# cb = plt.colorbar(im, ax=ax5, format='%.0f')\n",
    "# plot_colors_labels(ax5, cb, im, 'FR:Netto langgolvige straling (stations)', 'W/m2')\n",
    "\n",
    "# im = ax6.imshow(L_netto_dif_FR, cmap='BrBG',vmin=-50, vmax=50)\n",
    "# cb = plt.colorbar(im, ax=ax6, format='%.0f')\n",
    "# plot_colors_labels(ax6, cb, im, 'FR:Verschil Lnetto_InLW - Lnetto_stations', 'W/m2')\n",
    "\n",
    "\n",
    "# plt.tight_layout()"
   ]
  },
  {
   "cell_type": "code",
   "execution_count": null,
   "metadata": {
    "collapsed": false,
    "deletable": true,
    "editable": true
   },
   "outputs": [],
   "source": [
    "# x = L_netto_InLW.reshape(-1).compressed()\n",
    "# y = L_netto_station.reshape(-1).compressed()\n",
    "\n",
    "# g = sns.jointplot(x, y, kind=\"hex\", size=6, gridsize=30, stat_func=r2)\n",
    "# g.set_axis_labels(\"Lnetto (OLW:station estimate ILW:EUMETSAT)\", \"Lnetto (OLW,ILW:EUMETSAT)\")\n",
    "# g.fig.suptitle('Netherlands')\n",
    "# file_out_plt_NL = r'C:\\Projects\\Pr\\3492.10\\BruinKeijman\\png//Lnetto_scatterNL_'+date.strftime('%Y%m%d')+'.png'    \n",
    "# #g.savefig(file_out_plt_NL, dpi=200)\n",
    "\n",
    "# x_FR = L_netto_InLW_FR.reshape(-1).compressed()\n",
    "# y_FR = L_netto_station_FR.reshape(-1).compressed()\n",
    "\n",
    "g = sns.jointplot(x_FR, y_FR, kind=\"hex\", size=6, gridsize=30, stat_func=r2)#,shade=True, shade_lowest=False)\n",
    "g.set_axis_labels(\"Lnetto (W/m2) - OLW:station estimate ILW:EUMETSAT\", \"Lnetto (W/m2) -  OLW,ILW:station estimate\")\n",
    "g.fig.suptitle('Friesland province')\n",
    "g.fig.text(0.75, 0.95,date.strftime('%Y-%m-%d'))\n",
    "file_out_plt_FR = r'C:\\Projects\\Pr\\3492.10\\BruinKeijman\\png//Lnetto_scatterFR_'+date.strftime('%Y%m%d')+'.png'    \n",
    "#g.savefig(file_out_plt_FR, dpi=200)\n"
   ]
  },
  {
   "cell_type": "code",
   "execution_count": null,
   "metadata": {
    "collapsed": false,
    "deletable": true,
    "editable": true
   },
   "outputs": [],
   "source": [
    "plt.scatter(x_FR,y_FR)"
   ]
  },
  {
   "cell_type": "code",
   "execution_count": null,
   "metadata": {
    "collapsed": false,
    "deletable": true,
    "editable": true
   },
   "outputs": [],
   "source": [
    "x_FR.shape"
   ]
  },
  {
   "cell_type": "code",
   "execution_count": null,
   "metadata": {
    "collapsed": false,
    "deletable": true,
    "editable": true
   },
   "outputs": [],
   "source": [
    "# Berekening γ\n",
    "λ = bk_lamda(array_Tmean)\n",
    "γ = bk_gamma(array_Pmean, λ)"
   ]
  },
  {
   "cell_type": "code",
   "execution_count": null,
   "metadata": {
    "collapsed": false,
    "deletable": true,
    "editable": true
   },
   "outputs": [],
   "source": [
    "# Berekening s\n",
    "e_sat = bk_e_s(array_Tmin, array_Tmax)\n",
    "s = bk_s(e_sat, array_Kmean)"
   ]
  },
  {
   "cell_type": "code",
   "execution_count": null,
   "metadata": {
    "collapsed": false,
    "deletable": true,
    "editable": true
   },
   "outputs": [],
   "source": [
    "# im = plt.imshow(s)\n",
    "# plt.colorbar(im)"
   ]
  },
  {
   "cell_type": "code",
   "execution_count": null,
   "metadata": {
    "collapsed": true,
    "deletable": true,
    "editable": true
   },
   "outputs": [],
   "source": [
    "bk_T_vwt()\n",
    "G = bk_G()"
   ]
  }
 ],
 "metadata": {
  "kernelspec": {
   "display_name": "Python 3",
   "language": "python",
   "name": "python3"
  },
  "language_info": {
   "codemirror_mode": {
    "name": "ipython",
    "version": 3
   },
   "file_extension": ".py",
   "mimetype": "text/x-python",
   "name": "python",
   "nbconvert_exporter": "python",
   "pygments_lexer": "ipython3",
   "version": "3.5.2"
  }
 },
 "nbformat": 4,
 "nbformat_minor": 2
}
