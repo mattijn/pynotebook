{
 "cells": [
  {
   "cell_type": "markdown",
   "metadata": {
    "deletable": true,
    "editable": true
   },
   "source": [
    "### Python package voor een FewsPI service"
   ]
  },
  {
   "cell_type": "markdown",
   "metadata": {
    "deletable": true,
    "editable": true
   },
   "source": [
    "Voorbeeld notebook om vanuit Python te praten met een openbare of lokale FewsPi service.\n",
    "\n",
    "Allereerst, importeer de module als volgt:"
   ]
  },
  {
   "cell_type": "code",
   "execution_count": 2,
   "metadata": {
    "collapsed": false,
    "deletable": true,
    "editable": true
   },
   "outputs": [],
   "source": [
    "from hkvfewspy.io.fewspi import pi"
   ]
  },
  {
   "cell_type": "markdown",
   "metadata": {
    "deletable": true,
    "editable": true
   },
   "source": [
    "De volgende functies zijn beschikbaar via de module\n",
    "- setClient\n",
    "- getFilters\n",
    "- getParameters\n",
    "- getTimeSeries\n",
    "- getTimeZoneID"
   ]
  },
  {
   "cell_type": "markdown",
   "metadata": {
    "deletable": true,
    "editable": true
   },
   "source": [
    "Om een pi service uit te lezen moet deze eerst als client gezet worden. Dit kan met de functie `setClient`. Een wsdl service URL moet ingevuld worden en dat is bijvoorbeeld `http://localhost:8081/FewsPiService/fewspiservice?wsdl` of `http://localhost:8101/FewsPiService?wsdl`"
   ]
  },
  {
   "cell_type": "code",
   "execution_count": 3,
   "metadata": {
    "collapsed": true,
    "deletable": true,
    "editable": true
   },
   "outputs": [],
   "source": [
    "pi.setClient(wsdl = 'http://localhost:8081/FewsPiService/fewspiservice?wsdl')"
   ]
  },
  {
   "cell_type": "markdown",
   "metadata": {
    "deletable": true,
    "editable": true
   },
   "source": [
    "Vervolgens kan je filters uitlezen welke binnen de service bekend zijn. Wanneer de client bekend is heeft deze functie verder geen parameters nodig"
   ]
  },
  {
   "cell_type": "code",
   "execution_count": 4,
   "metadata": {
    "collapsed": false,
    "deletable": true,
    "editable": true
   },
   "outputs": [
    {
     "data": {
      "text/plain": [
       "{'f_fewsPi': {'description': '', 'id': 'f_fewsPi', 'name': 'Fews-Pi service'},\n",
       " 'f_trend_1': {'description': '', 'id': 'f_trend.1', 'name': 'Cut-data'},\n",
       " 'f_trend_2': {'description': '', 'id': 'f_trend.2', 'name': 'Fill-data'},\n",
       " 'f_werk_1': {'description': '',\n",
       "  'id': 'f_werk.1',\n",
       "  'name': 'Baggeren + Zandwinning + Agiteren (/baggervak)'},\n",
       " 'f_werk_2': {'description': '',\n",
       "  'id': 'f_werk.2',\n",
       "  'name': 'Verspreiden (/verspreidingsvak)'}}"
      ]
     },
     "execution_count": 4,
     "metadata": {},
     "output_type": "execute_result"
    }
   ],
   "source": [
    "filters = pi.getFilters()\n",
    "vars(filters)"
   ]
  },
  {
   "cell_type": "markdown",
   "metadata": {
    "collapsed": false,
    "deletable": true,
    "editable": true
   },
   "source": [
    "De filters worden als attributen onder het filters object gehangen op basis van het filter id onder `pi.Filters`, waarbij vreemde karaketers (zoals een `.`) worden omgezet in `_`"
   ]
  },
  {
   "cell_type": "code",
   "execution_count": 5,
   "metadata": {
    "collapsed": false,
    "deletable": true,
    "editable": true
   },
   "outputs": [
    {
     "data": {
      "text/plain": [
       "{'description': '',\n",
       " 'id': 'f_werk.1',\n",
       " 'name': 'Baggeren + Zandwinning + Agiteren (/baggervak)'}"
      ]
     },
     "execution_count": 5,
     "metadata": {},
     "output_type": "execute_result"
    }
   ],
   "source": [
    "filters.f_werk_1"
   ]
  },
  {
   "cell_type": "markdown",
   "metadata": {
    "deletable": true,
    "editable": true
   },
   "source": [
    "Een uitgelezen filter welke als attribute is toegevoegd kan gebruikt worden als `filterId`."
   ]
  },
  {
   "cell_type": "code",
   "execution_count": 6,
   "metadata": {
    "collapsed": false,
    "deletable": true,
    "editable": true
   },
   "outputs": [
    {
     "name": "stdout",
     "output_type": "stream",
     "text": [
      "f_werk.1\n"
     ]
    }
   ],
   "source": [
    "filterId = pi.Filters.f_werk_1['id']\n",
    "print (filterId)"
   ]
  },
  {
   "cell_type": "markdown",
   "metadata": {
    "collapsed": true,
    "deletable": true,
    "editable": true
   },
   "source": [
    "Vervolgens kunnen de locties voor de desbetreffende filter uitgelezen worden met de `getLocations` functie. Met `setFormat` kan het formaat worden bepaald hoe het object teruggegeven moet worden. Dit kan zijn:\n",
    "- `gdf` voor een GeoDataFrame formaat\n",
    "- `geojson` voor een GeoJSON formaat\n",
    "- `dict` voor een Dictionary formaat\n",
    "\n",
    "(De verschillende formaten worden momenteel allemaal ook als attributes bijgeschreven onder het `pi.Locations` object)"
   ]
  },
  {
   "cell_type": "code",
   "execution_count": 7,
   "metadata": {
    "collapsed": false,
    "deletable": true,
    "editable": true
   },
   "outputs": [],
   "source": [
    "gdf = pi.getLocations(filterId = filterId,\n",
    "                      setFormat = 'gdf')"
   ]
  },
  {
   "cell_type": "markdown",
   "metadata": {
    "deletable": true,
    "editable": true
   },
   "source": [
    "Met een GeoDataFrame formaat kan je het gelijk visualiseren of -gewoon- als DataFrame vervolg acties op doen"
   ]
  },
  {
   "cell_type": "code",
   "execution_count": 8,
   "metadata": {
    "collapsed": false,
    "deletable": true,
    "editable": true
   },
   "outputs": [
    {
     "data": {
      "text/plain": [
       "<matplotlib.axes._subplots.AxesSubplot at 0xafabd30>"
      ]
     },
     "execution_count": 8,
     "metadata": {},
     "output_type": "execute_result"
    },
    {
     "data": {
      "image/png": "[encoded data removed]",
      "text/plain": [
       "<matplotlib.figure.Figure at 0xafab358>"
      ]
     },
     "metadata": {},
     "output_type": "display_data"
    }
   ],
   "source": [
    "%matplotlib inline\n",
    "gdf.plot()"
   ]
  },
  {
   "cell_type": "code",
   "execution_count": 9,
   "metadata": {
    "collapsed": false,
    "deletable": true,
    "editable": true
   },
   "outputs": [
    {
     "data": {
      "text/html": [
       "<div>\n",
       "<style>\n",
       "    .dataframe thead tr:only-child th {\n",
       "        text-align: right;\n",
       "    }\n",
       "\n",
       "    .dataframe thead th {\n",
       "        text-align: left;\n",
       "    }\n",
       "\n",
       "    .dataframe tbody tr th {\n",
       "        vertical-align: top;\n",
       "    }\n",
       "</style>\n",
       "<table border=\"1\" class=\"dataframe\">\n",
       "  <thead>\n",
       "    <tr style=\"text-align: right;\">\n",
       "      <th></th>\n",
       "      <th>locationId</th>\n",
       "      <th>shortName</th>\n",
       "      <th>x</th>\n",
       "      <th>y</th>\n",
       "      <th>geometry</th>\n",
       "    </tr>\n",
       "  </thead>\n",
       "  <tbody>\n",
       "    <tr>\n",
       "      <th>bv_1_7_1_1</th>\n",
       "      <td>bv.1.7.1.1</td>\n",
       "      <td>Den Helder - Texel, Vaarweg</td>\n",
       "      <td>114887.0</td>\n",
       "      <td>555232.0</td>\n",
       "      <td>POINT (4.789939580471975 52.98258358193483)</td>\n",
       "    </tr>\n",
       "    <tr>\n",
       "      <th>bv_1_7_1_1_1_1</th>\n",
       "      <td>bv.1.7.1.1.1.1</td>\n",
       "      <td>Den Helder veerhaven, Vak A</td>\n",
       "      <td>114278.0</td>\n",
       "      <td>553377.0</td>\n",
       "      <td>POINT (4.781104282194812 52.96586925822925)</td>\n",
       "    </tr>\n",
       "    <tr>\n",
       "      <th>bv_1_7_1_1_1_2</th>\n",
       "      <td>bv.1.7.1.1.1.2</td>\n",
       "      <td>Den Helder veerhaven, Vak B</td>\n",
       "      <td>114113.0</td>\n",
       "      <td>553202.0</td>\n",
       "      <td>POINT (4.778670536487695 52.96428425924832)</td>\n",
       "    </tr>\n",
       "    <tr>\n",
       "      <th>bv_1_7_1_1_1_3</th>\n",
       "      <td>bv.1.7.1.1.1.3</td>\n",
       "      <td>Den Helder veerhaven, Vak C</td>\n",
       "      <td>114243.0</td>\n",
       "      <td>553255.0</td>\n",
       "      <td>POINT (4.780598637222577 52.96477034363196)</td>\n",
       "    </tr>\n",
       "    <tr>\n",
       "      <th>bv_1_7_1_1_2_1</th>\n",
       "      <td>bv.1.7.1.1.2.1</td>\n",
       "      <td>Texel veerhaven, Vak A</td>\n",
       "      <td>114395.0</td>\n",
       "      <td>557589.0</td>\n",
       "      <td>POINT (4.782320076077784 53.00372620992813)</td>\n",
       "    </tr>\n",
       "  </tbody>\n",
       "</table>\n",
       "</div>"
      ],
      "text/plain": [
       "                    locationId                    shortName         x  \\\n",
       "bv_1_7_1_1          bv.1.7.1.1  Den Helder - Texel, Vaarweg  114887.0   \n",
       "bv_1_7_1_1_1_1  bv.1.7.1.1.1.1  Den Helder veerhaven, Vak A  114278.0   \n",
       "bv_1_7_1_1_1_2  bv.1.7.1.1.1.2  Den Helder veerhaven, Vak B  114113.0   \n",
       "bv_1_7_1_1_1_3  bv.1.7.1.1.1.3  Den Helder veerhaven, Vak C  114243.0   \n",
       "bv_1_7_1_1_2_1  bv.1.7.1.1.2.1       Texel veerhaven, Vak A  114395.0   \n",
       "\n",
       "                       y                                     geometry  \n",
       "bv_1_7_1_1      555232.0  POINT (4.789939580471975 52.98258358193483)  \n",
       "bv_1_7_1_1_1_1  553377.0  POINT (4.781104282194812 52.96586925822925)  \n",
       "bv_1_7_1_1_1_2  553202.0  POINT (4.778670536487695 52.96428425924832)  \n",
       "bv_1_7_1_1_1_3  553255.0  POINT (4.780598637222577 52.96477034363196)  \n",
       "bv_1_7_1_1_2_1  557589.0  POINT (4.782320076077784 53.00372620992813)  "
      ]
     },
     "execution_count": 9,
     "metadata": {},
     "output_type": "execute_result"
    }
   ],
   "source": [
    "gdf.head()"
   ]
  },
  {
   "cell_type": "markdown",
   "metadata": {
    "deletable": true,
    "editable": true
   },
   "source": [
    "Om een `list` te krijgen van alle beschikbare locaties doe het volgende. Er wordt vervolgens alleen de eerste 5 items getoond"
   ]
  },
  {
   "cell_type": "code",
   "execution_count": 10,
   "metadata": {
    "collapsed": false,
    "deletable": true,
    "editable": true
   },
   "outputs": [
    {
     "data": {
      "text/plain": [
       "['bv.1.7.1.1',\n",
       " 'bv.1.7.1.1.1.1',\n",
       " 'bv.1.7.1.1.1.2',\n",
       " 'bv.1.7.1.1.1.3',\n",
       " 'bv.1.7.1.1.2.1']"
      ]
     },
     "execution_count": 10,
     "metadata": {},
     "output_type": "execute_result"
    }
   ],
   "source": [
    "locationIds = gdf.locationId.tolist()\n",
    "locationIds[0:5]"
   ]
  },
  {
   "cell_type": "markdown",
   "metadata": {
    "deletable": true,
    "editable": true
   },
   "source": [
    "Zoals gezegd worden de verschillende formaten als attributes onder het `pi.Locations` object weggeschreven, waarbij het GeoJSON formaat gelijk binnen een mapping module zoals `folium` gebruikt kan worden:"
   ]
  },
  {
   "cell_type": "code",
   "execution_count": 11,
   "metadata": {
    "collapsed": false,
    "deletable": true,
    "editable": true
   },
   "outputs": [],
   "source": [
    "# import folium\n",
    "# mapa = folium.Map([53.2, 5.5],\n",
    "#                   zoom_start=9,\n",
    "#                   tiles='cartodbpositron')\n",
    "\n",
    "# geoJSONdata = pi.Locations.asGeoJSON\n",
    "# points = folium.features.GeoJson(pi.Locations.asGeoJSON)\n",
    "\n",
    "# mapa.add_children(points)\n",
    "# mapa"
   ]
  },
  {
   "cell_type": "markdown",
   "metadata": {
    "deletable": true,
    "editable": true
   },
   "source": [
    "Om ook popups te linken aan folium is het makkelijker om vanuit een GeoDataFrame te werken en niet via een GeoJSON bestand"
   ]
  },
  {
   "cell_type": "code",
   "execution_count": 12,
   "metadata": {
    "collapsed": false,
    "deletable": true,
    "editable": true
   },
   "outputs": [
    {
     "data": {
      "text/html": [
       "<div style=\"width:100%;\"><div style=\"position:relative;width:100%;height:0;padding-bottom:60%;\"><iframe src=\"data:text/html;charset=utf-8;base64,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\" style=\"position:absolute;width:100%;height:100%;left:0;top:0;border:none !important;\" allowfullscreen webkitallowfullscreen mozallowfullscreen></iframe></div></div>"
      ],
      "text/plain": [
       "<folium.folium.Map at 0xbf1a908>"
      ]
     },
     "execution_count": 12,
     "metadata": {},
     "output_type": "execute_result"
    }
   ],
   "source": [
    "import folium\n",
    "mapa = folium.Map([53.2, 5.5],\n",
    "                  zoom_start=9,\n",
    "                  tiles='cartodbpositron')\n",
    "\n",
    "fg=folium.FeatureGroup(name=\"locations\")\n",
    "for idx, row in gdf.iterrows():\n",
    "    fg.add_child(folium.Marker(location=[row['geometry'].y, row['geometry'].x],\n",
    "                              popup=(folium.Popup('NAAM: '+row['shortName']+\" ID: \"+row['locationId'])))) \n",
    "mapa.add_child(fg)\n",
    "mapa.add_child(folium.LayerControl())\n",
    "mapa"
   ]
  },
  {
   "cell_type": "markdown",
   "metadata": {
    "deletable": true,
    "editable": true
   },
   "source": [
    "Of maak gebruik van de geojsonio module om het te parsen naar een site als www.geojson.io inclusief opmaak van tooltips"
   ]
  },
  {
   "cell_type": "code",
   "execution_count": 13,
   "metadata": {
    "collapsed": false,
    "deletable": true,
    "editable": true
   },
   "outputs": [],
   "source": [
    "#import geojsonio\n",
    "#geojsonio.embed(pi.Locations.asGeoJSON) # dit is niet embed, maar doet een redirect naar de website. Save notebook eerst."
   ]
  },
  {
   "cell_type": "markdown",
   "metadata": {
    "deletable": true,
    "editable": true
   },
   "source": [
    "Net zoals de locaties kunnen worden uitgelezen voor een filter is dat ook zo voor de parameters. Dit kan met de `getParameters` functie:"
   ]
  },
  {
   "cell_type": "code",
   "execution_count": 14,
   "metadata": {
    "collapsed": false,
    "deletable": true,
    "editable": true
   },
   "outputs": [
    {
     "data": {
      "text/plain": [
       "{'k_m3_geagiteerd_vdlee': {'displayUnit': 'm3',\n",
       "  'id': 'k.m3.geagiteerd.vdlee',\n",
       "  'name': 'Kuubs geagiteerd (m3 - dagrapport)',\n",
       "  'parameterType': 'instantaneous',\n",
       "  'unit': 'm3',\n",
       "  'usesDatum': 'true'},\n",
       " 'k_m3_gebaggerd_mars': {'displayUnit': 'm3',\n",
       "  'id': 'k.m3.gebaggerd.mars',\n",
       "  'name': 'Kuubs gebaggerd (m3 - mars)',\n",
       "  'parameterType': 'instantaneous',\n",
       "  'unit': 'm3',\n",
       "  'usesDatum': 'true'},\n",
       " 'k_m3_gebaggerd_vdlee': {'displayUnit': 'm3',\n",
       "  'id': 'k.m3.gebaggerd.vdlee',\n",
       "  'name': 'Kuubs gebaggerd (m3 - dagrapport)',\n",
       "  'parameterType': 'instantaneous',\n",
       "  'unit': 'm3',\n",
       "  'usesDatum': 'true'},\n",
       " 'k_m3_zandwinning_vdlee': {'displayUnit': 'm3',\n",
       "  'id': 'k.m3.zandwinning.vdlee',\n",
       "  'name': 'Kuubs zand winning (m3 - dagrapport)',\n",
       "  'parameterType': 'instantaneous',\n",
       "  'unit': 'm3',\n",
       "  'usesDatum': 'true'}}"
      ]
     },
     "execution_count": 14,
     "metadata": {},
     "output_type": "execute_result"
    }
   ],
   "source": [
    "params = pi.getParameters(filterId=filterId)\n",
    "vars(params)"
   ]
  },
  {
   "cell_type": "markdown",
   "metadata": {
    "deletable": true,
    "editable": true
   },
   "source": [
    "Ook deze worden als attribute onder het object opgeslagen."
   ]
  },
  {
   "cell_type": "code",
   "execution_count": 15,
   "metadata": {
    "collapsed": false,
    "deletable": true,
    "editable": true
   },
   "outputs": [
    {
     "data": {
      "text/plain": [
       "'k.m3.geagiteerd.vdlee'"
      ]
     },
     "execution_count": 15,
     "metadata": {},
     "output_type": "execute_result"
    }
   ],
   "source": [
    "parameterIds = pi.Parameters.k_m3_geagiteerd_vdlee['id']\n",
    "parameterIds"
   ]
  },
  {
   "cell_type": "markdown",
   "metadata": {
    "deletable": true,
    "editable": true
   },
   "source": [
    "Voor de `getTimeSeries` functie zijn ook nog de start en eindtijd nodig om de periode te bepalen voor de data request. Dit kan met een `datetime` object."
   ]
  },
  {
   "cell_type": "code",
   "execution_count": 16,
   "metadata": {
    "collapsed": true,
    "deletable": true,
    "editable": true
   },
   "outputs": [],
   "source": [
    "from datetime import datetime\n",
    "startTime = datetime(2017,3,1)\n",
    "endTime =  datetime.now()"
   ]
  },
  {
   "cell_type": "markdown",
   "metadata": {
    "deletable": true,
    "editable": true
   },
   "source": [
    "In dit geval zijn de startTime en endTime niet bewust van een timezone. In dit geval worden deze intern alsnog bepaald op basis `clientTimeZone` parameter. Standaard staat deze op `Europe/Amsterdam`. Mogelijke timezones worden bepaald met de pytz module (`import pytz`, `pytz.all_timezones`). \n",
    "\n",
    "Er worden items terug gegeven. Eerst het data object zelf in het gewenste `format`. En daarnaast nog een `entry`, wat op dit moment een combinatie is van `parameterId|locationId|units`. Deze `entry` zou bijvoorbeeld gebruikt kunnen worden als `key` voor een entry in de hkv.services dataportal \n",
    "\n",
    "Zoals gezegd zijn er meerdere formats, welke met `setFormat` ingesteld kan worden. Keuze kan gemaakt worden uit:\n",
    "- `df` voor pandas DataFrame\n",
    "- `json` voor een JSON formatted output\n",
    "- `gzip` voor een GZIP gecomprimiteerde JSON string"
   ]
  },
  {
   "cell_type": "code",
   "execution_count": 17,
   "metadata": {
    "collapsed": false,
    "deletable": true,
    "editable": true
   },
   "outputs": [
    {
     "name": "stdout",
     "output_type": "stream",
     "text": [
      "k.m3.geagiteerd.vdlee|bv.1.7.2.1.1.B|m3\n"
     ]
    }
   ],
   "source": [
    "df, entry = pi.getTimeSeries(filterId = filterId,\n",
    "                             parameterIds = parameterIds, \n",
    "                             locationIds=locationIds, \n",
    "                             startTime=startTime, \n",
    "                             endTime=endTime, \n",
    "                             clientTimeZone='Europe/Amsterdam',\n",
    "                             setFormat='df')\n",
    "print (entry)"
   ]
  },
  {
   "cell_type": "code",
   "execution_count": 23,
   "metadata": {
    "collapsed": false,
    "deletable": true,
    "editable": true
   },
   "outputs": [
    {
     "data": {
      "text/html": [
       "<div>\n",
       "<style>\n",
       "    .dataframe thead tr:only-child th {\n",
       "        text-align: right;\n",
       "    }\n",
       "\n",
       "    .dataframe thead th {\n",
       "        text-align: left;\n",
       "    }\n",
       "\n",
       "    .dataframe tbody tr th {\n",
       "        vertical-align: top;\n",
       "    }\n",
       "</style>\n",
       "<table border=\"1\" class=\"dataframe\">\n",
       "  <thead>\n",
       "    <tr style=\"text-align: right;\">\n",
       "      <th></th>\n",
       "      <th>date</th>\n",
       "      <th>moduleId</th>\n",
       "      <th>parameterId</th>\n",
       "      <th>units</th>\n",
       "      <th>locationId</th>\n",
       "      <th>stationName</th>\n",
       "      <th>flag</th>\n",
       "      <th>value</th>\n",
       "    </tr>\n",
       "  </thead>\n",
       "  <tbody>\n",
       "    <tr>\n",
       "      <th>0</th>\n",
       "      <td>2017-03-01 00:00:00+01:00</td>\n",
       "      <td>pr.Reizen.vdLee.baggeracties</td>\n",
       "      <td>k.m3.geagiteerd.vdlee</td>\n",
       "      <td>m3</td>\n",
       "      <td>bv.1.7.1.1</td>\n",
       "      <td>Den Helder - Texel, Vaarweg</td>\n",
       "      <td>8.0</td>\n",
       "      <td>NaN</td>\n",
       "    </tr>\n",
       "    <tr>\n",
       "      <th>1</th>\n",
       "      <td>2017-03-01 00:00:00+01:00</td>\n",
       "      <td>pr.Reizen.vdLee.baggeracties</td>\n",
       "      <td>k.m3.geagiteerd.vdlee</td>\n",
       "      <td>m3</td>\n",
       "      <td>bv.1.7.1.1.1.1</td>\n",
       "      <td>Den Helder veerhaven, Vak A</td>\n",
       "      <td>8.0</td>\n",
       "      <td>NaN</td>\n",
       "    </tr>\n",
       "    <tr>\n",
       "      <th>2</th>\n",
       "      <td>2017-03-01 00:00:00+01:00</td>\n",
       "      <td>pr.Reizen.vdLee.baggeracties</td>\n",
       "      <td>k.m3.geagiteerd.vdlee</td>\n",
       "      <td>m3</td>\n",
       "      <td>bv.1.7.1.1.1.2</td>\n",
       "      <td>Den Helder veerhaven, Vak B</td>\n",
       "      <td>8.0</td>\n",
       "      <td>NaN</td>\n",
       "    </tr>\n",
       "    <tr>\n",
       "      <th>3</th>\n",
       "      <td>2017-03-01 00:00:00+01:00</td>\n",
       "      <td>pr.Reizen.vdLee.baggeracties</td>\n",
       "      <td>k.m3.geagiteerd.vdlee</td>\n",
       "      <td>m3</td>\n",
       "      <td>bv.1.7.1.1.1.3</td>\n",
       "      <td>Den Helder veerhaven, Vak C</td>\n",
       "      <td>8.0</td>\n",
       "      <td>NaN</td>\n",
       "    </tr>\n",
       "    <tr>\n",
       "      <th>4</th>\n",
       "      <td>2017-03-01 00:00:00+01:00</td>\n",
       "      <td>pr.Reizen.vdLee.baggeracties</td>\n",
       "      <td>k.m3.geagiteerd.vdlee</td>\n",
       "      <td>m3</td>\n",
       "      <td>bv.1.7.1.1.2.1</td>\n",
       "      <td>Texel veerhaven, Vak A</td>\n",
       "      <td>8.0</td>\n",
       "      <td>NaN</td>\n",
       "    </tr>\n",
       "  </tbody>\n",
       "</table>\n",
       "</div>"
      ],
      "text/plain": [
       "                       date                      moduleId  \\\n",
       "0 2017-03-01 00:00:00+01:00  pr.Reizen.vdLee.baggeracties   \n",
       "1 2017-03-01 00:00:00+01:00  pr.Reizen.vdLee.baggeracties   \n",
       "2 2017-03-01 00:00:00+01:00  pr.Reizen.vdLee.baggeracties   \n",
       "3 2017-03-01 00:00:00+01:00  pr.Reizen.vdLee.baggeracties   \n",
       "4 2017-03-01 00:00:00+01:00  pr.Reizen.vdLee.baggeracties   \n",
       "\n",
       "             parameterId units      locationId                  stationName  \\\n",
       "0  k.m3.geagiteerd.vdlee    m3      bv.1.7.1.1  Den Helder - Texel, Vaarweg   \n",
       "1  k.m3.geagiteerd.vdlee    m3  bv.1.7.1.1.1.1  Den Helder veerhaven, Vak A   \n",
       "2  k.m3.geagiteerd.vdlee    m3  bv.1.7.1.1.1.2  Den Helder veerhaven, Vak B   \n",
       "3  k.m3.geagiteerd.vdlee    m3  bv.1.7.1.1.1.3  Den Helder veerhaven, Vak C   \n",
       "4  k.m3.geagiteerd.vdlee    m3  bv.1.7.1.1.2.1       Texel veerhaven, Vak A   \n",
       "\n",
       "   flag  value  \n",
       "0   8.0    NaN  \n",
       "1   8.0    NaN  \n",
       "2   8.0    NaN  \n",
       "3   8.0    NaN  \n",
       "4   8.0    NaN  "
      ]
     },
     "execution_count": 23,
     "metadata": {},
     "output_type": "execute_result"
    }
   ],
   "source": [
    "df.head()"
   ]
  },
  {
   "cell_type": "code",
   "execution_count": 19,
   "metadata": {
    "collapsed": true,
    "deletable": true,
    "editable": true
   },
   "outputs": [],
   "source": [
    "import matplotlib.pyplot as plt\n",
    "import pandas as pd\n",
    "import numpy as np"
   ]
  },
  {
   "cell_type": "code",
   "execution_count": 20,
   "metadata": {
    "collapsed": true,
    "deletable": true,
    "editable": true
   },
   "outputs": [],
   "source": [
    "df.reset_index(inplace=True)\n",
    "df['value'].replace(-999.0,np.NaN, inplace = True)"
   ]
  },
  {
   "cell_type": "code",
   "execution_count": 21,
   "metadata": {
    "collapsed": false,
    "deletable": true,
    "editable": true
   },
   "outputs": [
    {
     "data": {
      "image/png": "[encoded data removed]",
      "text/plain": [
       "<matplotlib.figure.Figure at 0xd2df320>"
      ]
     },
     "metadata": {},
     "output_type": "display_data"
    }
   ],
   "source": [
    "fig, ax = plt.subplots()\n",
    "ax.plot(df['date'],df['value'],'-')\n",
    "ylabel = df['parameterId'][0] + ' ('+df['units'][0]+')'\n",
    "ax.set_ylabel(ylabel)\n",
    "plt.show()"
   ]
  },
  {
   "cell_type": "markdown",
   "metadata": {
    "deletable": true,
    "editable": true
   },
   "source": [
    "Ondanks dat het formaat DataFrame was opgegeven kan een JSON formatted output opgevraagd worden via het attribute onder de TimeSeries object. \n",
    "\n",
    "Kijk uit met opvragen van de gehele string sinds deze groot kan zijn."
   ]
  },
  {
   "cell_type": "code",
   "execution_count": 22,
   "metadata": {
    "collapsed": false,
    "deletable": true,
    "editable": true
   },
   "outputs": [
    {
     "data": {
      "text/plain": [
       "'[{\"date\":\"2017-02-28T23:00:00.000Z\",\"moduleId\":\"pr.Reizen.vdLee.baggeracties\",\"parameterId\":\"k.m3.geagiteerd.vdlee\",\"units\":\"m3\",\"locationId\":\"bv.1.7.1.1\",\"stationName\":\"Den Helder - Texel, Vaarweg\",\"flag\":8.0,\"value\":-999.0},{\"date\":\"2017-02-28T23:00:00.000Z\",\"moduleId\":\"pr.Reizen.vdLee.baggeracties\",\"parameterId\":\"k.m3.geagiteerd.vdlee\",\"units\":\"m3\",\"locationId\":\"bv.1.7.1.1.1.1\",\"stationName\":\"Den Helder veerhaven, Vak A\",\"flag\":8.0,\"value\":-999.0},{\"date\":\"2017-02-28T23:00:00.000Z\",\"moduleId\":\"pr.Reizen.vdLee.baggeracties\",\"parameterId\":\"k.m3.geagiteerd.vdlee\",\"units\":\"m3\",\"locationId\":\"bv.1.7.1.1.1.2\",\"stationName\":\"Den Helder veerhaven, Vak B\",\"flag\":8.0,\"value\":-999.0},{\"date\":\"2017-02-28T23:00:00.000Z\",\"moduleId\":\"pr.Reizen.vdLee.baggeracties\",\"parameterId\":\"k.m3.geagiteerd.vdlee\",\"units\":\"m3\",\"locationId\":\"bv.1.7.1.1.1.3\",\"stationName\":\"Den Helder veerhaven, Vak C\",\"flag\":8.0,\"value\":-999.0},{\"date\":\"2017-02-28T23:00:00.000Z\",\"moduleId\":\"pr.Reizen.vdLee.baggeracties\",\"parameter'"
      ]
     },
     "execution_count": 22,
     "metadata": {},
     "output_type": "execute_result"
    }
   ],
   "source": [
    "pi.TimeSeries.asJSON[0:1000]"
   ]
  },
  {
   "cell_type": "code",
   "execution_count": null,
   "metadata": {
    "collapsed": true
   },
   "outputs": [],
   "source": []
  }
 ],
 "metadata": {
  "kernelspec": {
   "display_name": "Python 3",
   "language": "python",
   "name": "python3"
  },
  "language_info": {
   "codemirror_mode": {
    "name": "ipython",
    "version": 3
   },
   "file_extension": ".py",
   "mimetype": "text/x-python",
   "name": "python",
   "nbconvert_exporter": "python",
   "pygments_lexer": "ipython3",
   "version": "3.5.2"
  }
 },
 "nbformat": 4,
 "nbformat_minor": 2
}
