{
 "cells": [
  {
   "cell_type": "code",
   "execution_count": 40,
   "metadata": {
    "collapsed": false,
    "deletable": true,
    "editable": true
   },
   "outputs": [],
   "source": [
    "from hkvpy.fews import pi, dataportal\n",
    "from datetime import datetime\n",
    "import matplotlib.pyplot as plt\n",
    "import pandas as pd\n",
    "import numpy as np\n",
    "%matplotlib inline"
   ]
  },
  {
   "cell_type": "code",
   "execution_count": 2,
   "metadata": {
    "collapsed": false,
    "deletable": true,
    "editable": true
   },
   "outputs": [],
   "source": [
    "wsdl = 'http://www.oms-waddenzee.nl:8081/FewsPiService/fewspiservice?wsdl'\n",
    "pi.setClient(wsdl)"
   ]
  },
  {
   "cell_type": "code",
   "execution_count": 3,
   "metadata": {
    "collapsed": false,
    "deletable": true,
    "editable": true
   },
   "outputs": [],
   "source": [
    "filters = pi.getFilters()"
   ]
  },
  {
   "cell_type": "code",
   "execution_count": 4,
   "metadata": {
    "collapsed": false,
    "deletable": true,
    "editable": true
   },
   "outputs": [
    {
     "data": {
      "text/plain": [
       "'f_werk.1'"
      ]
     },
     "execution_count": 4,
     "metadata": {},
     "output_type": "execute_result"
    }
   ],
   "source": [
    "pi.Filters.f_werk_1['id']"
   ]
  },
  {
   "cell_type": "code",
   "execution_count": 5,
   "metadata": {
    "collapsed": false,
    "deletable": true,
    "editable": true
   },
   "outputs": [],
   "source": [
    "parameters = pi.getParameters(filterId=pi.Filters.f_werk_1['id'])"
   ]
  },
  {
   "cell_type": "code",
   "execution_count": 6,
   "metadata": {
    "collapsed": false,
    "deletable": true,
    "editable": true
   },
   "outputs": [
    {
     "data": {
      "text/plain": [
       "'k.m3.gebaggerd.mars'"
      ]
     },
     "execution_count": 6,
     "metadata": {},
     "output_type": "execute_result"
    }
   ],
   "source": [
    "pi.Parameters.k_m3_gebaggerd_mars['id']"
   ]
  },
  {
   "cell_type": "code",
   "execution_count": 7,
   "metadata": {
    "collapsed": false,
    "deletable": true,
    "editable": true
   },
   "outputs": [
    {
     "data": {
      "text/plain": [
       "<matplotlib.axes._subplots.AxesSubplot at 0x8ccfac8>"
      ]
     },
     "execution_count": 7,
     "metadata": {},
     "output_type": "execute_result"
    },
    {
     "data": {
      "image/png": "[encoded data removed]",
      "text/plain": [
       "<matplotlib.figure.Figure at 0x8ccf160>"
      ]
     },
     "metadata": {},
     "output_type": "display_data"
    }
   ],
   "source": [
    "gdf = pi.getLocations(filterId=pi.Filters.f_werk_1['id'], setFormat='gdf')\n",
    "gdf.plot()"
   ]
  },
  {
   "cell_type": "code",
   "execution_count": 8,
   "metadata": {
    "collapsed": false,
    "deletable": true,
    "editable": true,
    "scrolled": true
   },
   "outputs": [],
   "source": [
    "locations = pi.Locations.asGeoDataFrame['locationId'].tolist()"
   ]
  },
  {
   "cell_type": "code",
   "execution_count": 65,
   "metadata": {
    "collapsed": false,
    "deletable": true,
    "editable": true
   },
   "outputs": [],
   "source": [
    "df, entry = pi.getTimeSeries(filterId=pi.Filters.f_werk_1['id'],\n",
    "                             parameterIds=pi.Parameters.k_m3_gebaggerd_mars['id'],\n",
    "                             locationIds=pi.Locations.asGeoDataFrame['locationId'].tolist(),\n",
    "                             startTime=datetime(2017,1,1,2, tzinfo=pi.utils.utc_offset(2*60*60)),\n",
    "                             endTime=datetime(2017,6,29,2, tzinfo=pi.utils.utc_offset(2*60*60)),\n",
    "                             setFormat='df'\n",
    "                            )"
   ]
  },
  {
   "cell_type": "code",
   "execution_count": 66,
   "metadata": {
    "collapsed": false,
    "deletable": true,
    "editable": true
   },
   "outputs": [
    {
     "data": {
      "text/html": [
       "<div>\n",
       "<table border=\"1\" class=\"dataframe\">\n",
       "  <thead>\n",
       "    <tr style=\"text-align: right;\">\n",
       "      <th></th>\n",
       "      <th></th>\n",
       "      <th></th>\n",
       "      <th></th>\n",
       "      <th></th>\n",
       "      <th></th>\n",
       "      <th>flag</th>\n",
       "      <th>value</th>\n",
       "    </tr>\n",
       "    <tr>\n",
       "      <th>date</th>\n",
       "      <th>moduleId</th>\n",
       "      <th>parameterId</th>\n",
       "      <th>units</th>\n",
       "      <th>locationId</th>\n",
       "      <th>stationName</th>\n",
       "      <th></th>\n",
       "      <th></th>\n",
       "    </tr>\n",
       "  </thead>\n",
       "  <tbody>\n",
       "    <tr>\n",
       "      <th rowspan=\"5\" valign=\"top\">2017-01-01 00:00:00+01:00</th>\n",
       "      <th rowspan=\"5\" valign=\"top\">pr.Reizen.mars.baggeracties</th>\n",
       "      <th rowspan=\"5\" valign=\"top\">k.m3.gebaggerd.mars</th>\n",
       "      <th rowspan=\"5\" valign=\"top\">m3</th>\n",
       "      <th>bv.1.7.1.1</th>\n",
       "      <th>Den Helder - Texel, Vaarweg</th>\n",
       "      <td>8.0</td>\n",
       "      <td>-999.0</td>\n",
       "    </tr>\n",
       "    <tr>\n",
       "      <th>bv.1.7.1.1.1.1</th>\n",
       "      <th>Den Helder veerhaven, Vak A</th>\n",
       "      <td>8.0</td>\n",
       "      <td>-999.0</td>\n",
       "    </tr>\n",
       "    <tr>\n",
       "      <th>bv.1.7.1.1.1.2</th>\n",
       "      <th>Den Helder veerhaven, Vak B</th>\n",
       "      <td>8.0</td>\n",
       "      <td>-999.0</td>\n",
       "    </tr>\n",
       "    <tr>\n",
       "      <th>bv.1.7.1.1.1.3</th>\n",
       "      <th>Den Helder veerhaven, Vak C</th>\n",
       "      <td>8.0</td>\n",
       "      <td>-999.0</td>\n",
       "    </tr>\n",
       "    <tr>\n",
       "      <th>bv.1.7.1.1.2.1</th>\n",
       "      <th>Texel veerhaven, Vak A</th>\n",
       "      <td>8.0</td>\n",
       "      <td>-999.0</td>\n",
       "    </tr>\n",
       "  </tbody>\n",
       "</table>\n",
       "</div>"
      ],
      "text/plain": [
       "                                                                                                                            flag  \\\n",
       "date                      moduleId                    parameterId         units locationId     stationName                         \n",
       "2017-01-01 00:00:00+01:00 pr.Reizen.mars.baggeracties k.m3.gebaggerd.mars m3    bv.1.7.1.1     Den Helder - Texel, Vaarweg   8.0   \n",
       "                                                                                bv.1.7.1.1.1.1 Den Helder veerhaven, Vak A   8.0   \n",
       "                                                                                bv.1.7.1.1.1.2 Den Helder veerhaven, Vak B   8.0   \n",
       "                                                                                bv.1.7.1.1.1.3 Den Helder veerhaven, Vak C   8.0   \n",
       "                                                                                bv.1.7.1.1.2.1 Texel veerhaven, Vak A        8.0   \n",
       "\n",
       "                                                                                                                            value  \n",
       "date                      moduleId                    parameterId         units locationId     stationName                         \n",
       "2017-01-01 00:00:00+01:00 pr.Reizen.mars.baggeracties k.m3.gebaggerd.mars m3    bv.1.7.1.1     Den Helder - Texel, Vaarweg -999.0  \n",
       "                                                                                bv.1.7.1.1.1.1 Den Helder veerhaven, Vak A -999.0  \n",
       "                                                                                bv.1.7.1.1.1.2 Den Helder veerhaven, Vak B -999.0  \n",
       "                                                                                bv.1.7.1.1.1.3 Den Helder veerhaven, Vak C -999.0  \n",
       "                                                                                bv.1.7.1.1.2.1 Texel veerhaven, Vak A      -999.0  "
      ]
     },
     "execution_count": 66,
     "metadata": {},
     "output_type": "execute_result"
    }
   ],
   "source": [
    "df.head()"
   ]
  },
  {
   "cell_type": "code",
   "execution_count": 67,
   "metadata": {
    "collapsed": false,
    "deletable": true,
    "editable": true
   },
   "outputs": [],
   "source": [
    "df['value'].replace(-999.0,np.NaN, inplace = True)\n",
    "level_values = df.index.get_level_values\n",
    "result = (df.groupby([level_values(i) for i in [1,2,3,4,5]]\n",
    "                      +[pd.Grouper(freq='W', level=0)]).sum())"
   ]
  },
  {
   "cell_type": "code",
   "execution_count": 68,
   "metadata": {
    "collapsed": false,
    "deletable": true,
    "editable": true
   },
   "outputs": [
    {
     "data": {
      "text/html": [
       "<div>\n",
       "<table border=\"1\" class=\"dataframe\">\n",
       "  <thead>\n",
       "    <tr style=\"text-align: right;\">\n",
       "      <th></th>\n",
       "      <th></th>\n",
       "      <th></th>\n",
       "      <th></th>\n",
       "      <th></th>\n",
       "      <th></th>\n",
       "      <th>flag</th>\n",
       "      <th>value</th>\n",
       "    </tr>\n",
       "    <tr>\n",
       "      <th>moduleId</th>\n",
       "      <th>parameterId</th>\n",
       "      <th>units</th>\n",
       "      <th>locationId</th>\n",
       "      <th>stationName</th>\n",
       "      <th>date</th>\n",
       "      <th></th>\n",
       "      <th></th>\n",
       "    </tr>\n",
       "  </thead>\n",
       "  <tbody>\n",
       "    <tr>\n",
       "      <th rowspan=\"61\" valign=\"top\">pr.Reizen.mars.baggeracties</th>\n",
       "      <th rowspan=\"61\" valign=\"top\">k.m3.gebaggerd.mars</th>\n",
       "      <th rowspan=\"61\" valign=\"top\">m3</th>\n",
       "      <th rowspan=\"27\" valign=\"top\">bv.1.7.1.1</th>\n",
       "      <th rowspan=\"27\" valign=\"top\">Den Helder - Texel, Vaarweg</th>\n",
       "      <th>2017-01-01 00:00:00+01:00</th>\n",
       "      <td>8.0</td>\n",
       "      <td>NaN</td>\n",
       "    </tr>\n",
       "    <tr>\n",
       "      <th>2017-01-08 00:00:00+01:00</th>\n",
       "      <td>56.0</td>\n",
       "      <td>NaN</td>\n",
       "    </tr>\n",
       "    <tr>\n",
       "      <th>2017-01-15 00:00:00+01:00</th>\n",
       "      <td>56.0</td>\n",
       "      <td>NaN</td>\n",
       "    </tr>\n",
       "    <tr>\n",
       "      <th>2017-01-22 00:00:00+01:00</th>\n",
       "      <td>56.0</td>\n",
       "      <td>NaN</td>\n",
       "    </tr>\n",
       "    <tr>\n",
       "      <th>2017-01-29 00:00:00+01:00</th>\n",
       "      <td>56.0</td>\n",
       "      <td>NaN</td>\n",
       "    </tr>\n",
       "    <tr>\n",
       "      <th>2017-02-05 00:00:00+01:00</th>\n",
       "      <td>56.0</td>\n",
       "      <td>NaN</td>\n",
       "    </tr>\n",
       "    <tr>\n",
       "      <th>2017-02-12 00:00:00+01:00</th>\n",
       "      <td>56.0</td>\n",
       "      <td>NaN</td>\n",
       "    </tr>\n",
       "    <tr>\n",
       "      <th>2017-02-19 00:00:00+01:00</th>\n",
       "      <td>56.0</td>\n",
       "      <td>NaN</td>\n",
       "    </tr>\n",
       "    <tr>\n",
       "      <th>2017-02-26 00:00:00+01:00</th>\n",
       "      <td>56.0</td>\n",
       "      <td>NaN</td>\n",
       "    </tr>\n",
       "    <tr>\n",
       "      <th>2017-03-05 00:00:00+01:00</th>\n",
       "      <td>56.0</td>\n",
       "      <td>NaN</td>\n",
       "    </tr>\n",
       "    <tr>\n",
       "      <th>2017-03-12 00:00:00+01:00</th>\n",
       "      <td>56.0</td>\n",
       "      <td>NaN</td>\n",
       "    </tr>\n",
       "    <tr>\n",
       "      <th>2017-03-19 00:00:00+01:00</th>\n",
       "      <td>56.0</td>\n",
       "      <td>NaN</td>\n",
       "    </tr>\n",
       "    <tr>\n",
       "      <th>2017-03-26 00:00:00+01:00</th>\n",
       "      <td>56.0</td>\n",
       "      <td>NaN</td>\n",
       "    </tr>\n",
       "    <tr>\n",
       "      <th>2017-04-02 00:00:00+02:00</th>\n",
       "      <td>56.0</td>\n",
       "      <td>NaN</td>\n",
       "    </tr>\n",
       "    <tr>\n",
       "      <th>2017-04-09 00:00:00+02:00</th>\n",
       "      <td>56.0</td>\n",
       "      <td>NaN</td>\n",
       "    </tr>\n",
       "    <tr>\n",
       "      <th>2017-04-16 00:00:00+02:00</th>\n",
       "      <td>56.0</td>\n",
       "      <td>NaN</td>\n",
       "    </tr>\n",
       "    <tr>\n",
       "      <th>2017-04-23 00:00:00+02:00</th>\n",
       "      <td>56.0</td>\n",
       "      <td>NaN</td>\n",
       "    </tr>\n",
       "    <tr>\n",
       "      <th>2017-04-30 00:00:00+02:00</th>\n",
       "      <td>56.0</td>\n",
       "      <td>NaN</td>\n",
       "    </tr>\n",
       "    <tr>\n",
       "      <th>2017-05-07 00:00:00+02:00</th>\n",
       "      <td>56.0</td>\n",
       "      <td>NaN</td>\n",
       "    </tr>\n",
       "    <tr>\n",
       "      <th>2017-05-14 00:00:00+02:00</th>\n",
       "      <td>56.0</td>\n",
       "      <td>NaN</td>\n",
       "    </tr>\n",
       "    <tr>\n",
       "      <th>2017-05-21 00:00:00+02:00</th>\n",
       "      <td>56.0</td>\n",
       "      <td>NaN</td>\n",
       "    </tr>\n",
       "    <tr>\n",
       "      <th>2017-05-28 00:00:00+02:00</th>\n",
       "      <td>56.0</td>\n",
       "      <td>NaN</td>\n",
       "    </tr>\n",
       "    <tr>\n",
       "      <th>2017-06-04 00:00:00+02:00</th>\n",
       "      <td>56.0</td>\n",
       "      <td>NaN</td>\n",
       "    </tr>\n",
       "    <tr>\n",
       "      <th>2017-06-11 00:00:00+02:00</th>\n",
       "      <td>56.0</td>\n",
       "      <td>NaN</td>\n",
       "    </tr>\n",
       "    <tr>\n",
       "      <th>2017-06-18 00:00:00+02:00</th>\n",
       "      <td>56.0</td>\n",
       "      <td>NaN</td>\n",
       "    </tr>\n",
       "    <tr>\n",
       "      <th>2017-06-25 00:00:00+02:00</th>\n",
       "      <td>56.0</td>\n",
       "      <td>NaN</td>\n",
       "    </tr>\n",
       "    <tr>\n",
       "      <th>2017-07-02 00:00:00+02:00</th>\n",
       "      <td>40.0</td>\n",
       "      <td>NaN</td>\n",
       "    </tr>\n",
       "    <tr>\n",
       "      <th rowspan=\"3\" valign=\"top\">bv.1.7.1.1.1.1</th>\n",
       "      <th rowspan=\"3\" valign=\"top\">Den Helder veerhaven, Vak A</th>\n",
       "      <th>2017-01-01 00:00:00+01:00</th>\n",
       "      <td>8.0</td>\n",
       "      <td>NaN</td>\n",
       "    </tr>\n",
       "    <tr>\n",
       "      <th>2017-01-08 00:00:00+01:00</th>\n",
       "      <td>56.0</td>\n",
       "      <td>NaN</td>\n",
       "    </tr>\n",
       "    <tr>\n",
       "      <th>2017-01-15 00:00:00+01:00</th>\n",
       "      <td>56.0</td>\n",
       "      <td>NaN</td>\n",
       "    </tr>\n",
       "    <tr>\n",
       "      <th>bv.1.7.1.1.1.1</th>\n",
       "      <th>Den Helder veerhaven, Vak A</th>\n",
       "      <th>...</th>\n",
       "      <td>...</td>\n",
       "      <td>...</td>\n",
       "    </tr>\n",
       "    <tr>\n",
       "      <th rowspan=\"3\" valign=\"top\">bv.1.7.1.1.1.1</th>\n",
       "      <th rowspan=\"3\" valign=\"top\">Den Helder veerhaven, Vak A</th>\n",
       "      <th>...</th>\n",
       "      <td>56.0</td>\n",
       "      <td>NaN</td>\n",
       "    </tr>\n",
       "    <tr>\n",
       "      <th>...</th>\n",
       "      <td>56.0</td>\n",
       "      <td>NaN</td>\n",
       "    </tr>\n",
       "    <tr>\n",
       "      <th>2017-06-18 00:00:00+02:00</th>\n",
       "      <td>40.0</td>\n",
       "      <td>NaN</td>\n",
       "    </tr>\n",
       "    <tr>\n",
       "      <th rowspan=\"27\" valign=\"top\">bv.1.7.5.1</th>\n",
       "      <th rowspan=\"27\" valign=\"top\">Haven Noordpolderzijl, Havendeel</th>\n",
       "      <th>2017-06-25 00:00:00+02:00</th>\n",
       "      <td>8.0</td>\n",
       "      <td>NaN</td>\n",
       "    </tr>\n",
       "    <tr>\n",
       "      <th>2017-07-02 00:00:00+02:00</th>\n",
       "      <td>56.0</td>\n",
       "      <td>NaN</td>\n",
       "    </tr>\n",
       "    <tr>\n",
       "      <th>2017-01-01 00:00:00+01:00</th>\n",
       "      <td>56.0</td>\n",
       "      <td>NaN</td>\n",
       "    </tr>\n",
       "    <tr>\n",
       "      <th>2017-01-08 00:00:00+01:00</th>\n",
       "      <td>56.0</td>\n",
       "      <td>NaN</td>\n",
       "    </tr>\n",
       "    <tr>\n",
       "      <th>2017-01-15 00:00:00+01:00</th>\n",
       "      <td>56.0</td>\n",
       "      <td>NaN</td>\n",
       "    </tr>\n",
       "    <tr>\n",
       "      <th>2017-01-22 00:00:00+01:00</th>\n",
       "      <td>56.0</td>\n",
       "      <td>NaN</td>\n",
       "    </tr>\n",
       "    <tr>\n",
       "      <th>2017-01-29 00:00:00+01:00</th>\n",
       "      <td>56.0</td>\n",
       "      <td>NaN</td>\n",
       "    </tr>\n",
       "    <tr>\n",
       "      <th>2017-02-05 00:00:00+01:00</th>\n",
       "      <td>56.0</td>\n",
       "      <td>NaN</td>\n",
       "    </tr>\n",
       "    <tr>\n",
       "      <th>2017-02-12 00:00:00+01:00</th>\n",
       "      <td>56.0</td>\n",
       "      <td>NaN</td>\n",
       "    </tr>\n",
       "    <tr>\n",
       "      <th>2017-02-19 00:00:00+01:00</th>\n",
       "      <td>56.0</td>\n",
       "      <td>NaN</td>\n",
       "    </tr>\n",
       "    <tr>\n",
       "      <th>2017-02-26 00:00:00+01:00</th>\n",
       "      <td>56.0</td>\n",
       "      <td>NaN</td>\n",
       "    </tr>\n",
       "    <tr>\n",
       "      <th>2017-03-05 00:00:00+01:00</th>\n",
       "      <td>56.0</td>\n",
       "      <td>NaN</td>\n",
       "    </tr>\n",
       "    <tr>\n",
       "      <th>2017-03-12 00:00:00+01:00</th>\n",
       "      <td>56.0</td>\n",
       "      <td>NaN</td>\n",
       "    </tr>\n",
       "    <tr>\n",
       "      <th>2017-03-19 00:00:00+01:00</th>\n",
       "      <td>56.0</td>\n",
       "      <td>NaN</td>\n",
       "    </tr>\n",
       "    <tr>\n",
       "      <th>2017-03-26 00:00:00+01:00</th>\n",
       "      <td>56.0</td>\n",
       "      <td>NaN</td>\n",
       "    </tr>\n",
       "    <tr>\n",
       "      <th>2017-04-02 00:00:00+02:00</th>\n",
       "      <td>56.0</td>\n",
       "      <td>NaN</td>\n",
       "    </tr>\n",
       "    <tr>\n",
       "      <th>2017-04-09 00:00:00+02:00</th>\n",
       "      <td>56.0</td>\n",
       "      <td>NaN</td>\n",
       "    </tr>\n",
       "    <tr>\n",
       "      <th>2017-04-16 00:00:00+02:00</th>\n",
       "      <td>56.0</td>\n",
       "      <td>NaN</td>\n",
       "    </tr>\n",
       "    <tr>\n",
       "      <th>2017-04-23 00:00:00+02:00</th>\n",
       "      <td>56.0</td>\n",
       "      <td>NaN</td>\n",
       "    </tr>\n",
       "    <tr>\n",
       "      <th>2017-04-30 00:00:00+02:00</th>\n",
       "      <td>56.0</td>\n",
       "      <td>NaN</td>\n",
       "    </tr>\n",
       "    <tr>\n",
       "      <th>2017-05-07 00:00:00+02:00</th>\n",
       "      <td>56.0</td>\n",
       "      <td>NaN</td>\n",
       "    </tr>\n",
       "    <tr>\n",
       "      <th>2017-05-14 00:00:00+02:00</th>\n",
       "      <td>56.0</td>\n",
       "      <td>NaN</td>\n",
       "    </tr>\n",
       "    <tr>\n",
       "      <th>2017-05-21 00:00:00+02:00</th>\n",
       "      <td>56.0</td>\n",
       "      <td>NaN</td>\n",
       "    </tr>\n",
       "    <tr>\n",
       "      <th>2017-05-28 00:00:00+02:00</th>\n",
       "      <td>56.0</td>\n",
       "      <td>NaN</td>\n",
       "    </tr>\n",
       "    <tr>\n",
       "      <th>2017-06-04 00:00:00+02:00</th>\n",
       "      <td>56.0</td>\n",
       "      <td>NaN</td>\n",
       "    </tr>\n",
       "    <tr>\n",
       "      <th>2017-06-11 00:00:00+02:00</th>\n",
       "      <td>56.0</td>\n",
       "      <td>NaN</td>\n",
       "    </tr>\n",
       "    <tr>\n",
       "      <th>2017-06-18 00:00:00+02:00</th>\n",
       "      <td>40.0</td>\n",
       "      <td>NaN</td>\n",
       "    </tr>\n",
       "  </tbody>\n",
       "</table>\n",
       "<p>2700 rows × 2 columns</p>\n",
       "</div>"
      ],
      "text/plain": [
       "                                                                                                                                 flag  \\\n",
       "moduleId                    parameterId         units locationId     stationName                      date                              \n",
       "pr.Reizen.mars.baggeracties k.m3.gebaggerd.mars m3    bv.1.7.1.1     Den Helder - Texel, Vaarweg      2017-01-01 00:00:00+01:00   8.0   \n",
       "                                                                                                      2017-01-08 00:00:00+01:00  56.0   \n",
       "                                                                                                      2017-01-15 00:00:00+01:00  56.0   \n",
       "                                                                                                      2017-01-22 00:00:00+01:00  56.0   \n",
       "                                                                                                      2017-01-29 00:00:00+01:00  56.0   \n",
       "                                                                                                      2017-02-05 00:00:00+01:00  56.0   \n",
       "                                                                                                      2017-02-12 00:00:00+01:00  56.0   \n",
       "                                                                                                      2017-02-19 00:00:00+01:00  56.0   \n",
       "                                                                                                      2017-02-26 00:00:00+01:00  56.0   \n",
       "                                                                                                      2017-03-05 00:00:00+01:00  56.0   \n",
       "                                                                                                      2017-03-12 00:00:00+01:00  56.0   \n",
       "                                                                                                      2017-03-19 00:00:00+01:00  56.0   \n",
       "                                                                                                      2017-03-26 00:00:00+01:00  56.0   \n",
       "                                                                                                      2017-04-02 00:00:00+02:00  56.0   \n",
       "                                                                                                      2017-04-09 00:00:00+02:00  56.0   \n",
       "                                                                                                      2017-04-16 00:00:00+02:00  56.0   \n",
       "                                                                                                      2017-04-23 00:00:00+02:00  56.0   \n",
       "                                                                                                      2017-04-30 00:00:00+02:00  56.0   \n",
       "                                                                                                      2017-05-07 00:00:00+02:00  56.0   \n",
       "                                                                                                      2017-05-14 00:00:00+02:00  56.0   \n",
       "                                                                                                      2017-05-21 00:00:00+02:00  56.0   \n",
       "                                                                                                      2017-05-28 00:00:00+02:00  56.0   \n",
       "                                                                                                      2017-06-04 00:00:00+02:00  56.0   \n",
       "                                                                                                      2017-06-11 00:00:00+02:00  56.0   \n",
       "                                                                                                      2017-06-18 00:00:00+02:00  56.0   \n",
       "                                                                                                      2017-06-25 00:00:00+02:00  56.0   \n",
       "                                                                                                      2017-07-02 00:00:00+02:00  40.0   \n",
       "                                                      bv.1.7.1.1.1.1 Den Helder veerhaven, Vak A      2017-01-01 00:00:00+01:00   8.0   \n",
       "                                                                                                      2017-01-08 00:00:00+01:00  56.0   \n",
       "                                                                                                      2017-01-15 00:00:00+01:00  56.0   \n",
       "...                                                                                                                               ...   \n",
       "                                                      bv.1.7.5.1     Haven Noordpolderzijl, Havendeel 2017-06-18 00:00:00+02:00  56.0   \n",
       "                                                                                                      2017-06-25 00:00:00+02:00  56.0   \n",
       "                                                                                                      2017-07-02 00:00:00+02:00  40.0   \n",
       "                                                      bv.1.7.6.2     Schanskerdiep                    2017-01-01 00:00:00+01:00   8.0   \n",
       "                                                                                                      2017-01-08 00:00:00+01:00  56.0   \n",
       "                                                                                                      2017-01-15 00:00:00+01:00  56.0   \n",
       "                                                                                                      2017-01-22 00:00:00+01:00  56.0   \n",
       "                                                                                                      2017-01-29 00:00:00+01:00  56.0   \n",
       "                                                                                                      2017-02-05 00:00:00+01:00  56.0   \n",
       "                                                                                                      2017-02-12 00:00:00+01:00  56.0   \n",
       "                                                                                                      2017-02-19 00:00:00+01:00  56.0   \n",
       "                                                                                                      2017-02-26 00:00:00+01:00  56.0   \n",
       "                                                                                                      2017-03-05 00:00:00+01:00  56.0   \n",
       "                                                                                                      2017-03-12 00:00:00+01:00  56.0   \n",
       "                                                                                                      2017-03-19 00:00:00+01:00  56.0   \n",
       "                                                                                                      2017-03-26 00:00:00+01:00  56.0   \n",
       "                                                                                                      2017-04-02 00:00:00+02:00  56.0   \n",
       "                                                                                                      2017-04-09 00:00:00+02:00  56.0   \n",
       "                                                                                                      2017-04-16 00:00:00+02:00  56.0   \n",
       "                                                                                                      2017-04-23 00:00:00+02:00  56.0   \n",
       "                                                                                                      2017-04-30 00:00:00+02:00  56.0   \n",
       "                                                                                                      2017-05-07 00:00:00+02:00  56.0   \n",
       "                                                                                                      2017-05-14 00:00:00+02:00  56.0   \n",
       "                                                                                                      2017-05-21 00:00:00+02:00  56.0   \n",
       "                                                                                                      2017-05-28 00:00:00+02:00  56.0   \n",
       "                                                                                                      2017-06-04 00:00:00+02:00  56.0   \n",
       "                                                                                                      2017-06-11 00:00:00+02:00  56.0   \n",
       "                                                                                                      2017-06-18 00:00:00+02:00  56.0   \n",
       "                                                                                                      2017-06-25 00:00:00+02:00  56.0   \n",
       "                                                                                                      2017-07-02 00:00:00+02:00  40.0   \n",
       "\n",
       "                                                                                                                                 value  \n",
       "moduleId                    parameterId         units locationId     stationName                      date                              \n",
       "pr.Reizen.mars.baggeracties k.m3.gebaggerd.mars m3    bv.1.7.1.1     Den Helder - Texel, Vaarweg      2017-01-01 00:00:00+01:00    NaN  \n",
       "                                                                                                      2017-01-08 00:00:00+01:00    NaN  \n",
       "                                                                                                      2017-01-15 00:00:00+01:00    NaN  \n",
       "                                                                                                      2017-01-22 00:00:00+01:00    NaN  \n",
       "                                                                                                      2017-01-29 00:00:00+01:00    NaN  \n",
       "                                                                                                      2017-02-05 00:00:00+01:00    NaN  \n",
       "                                                                                                      2017-02-12 00:00:00+01:00    NaN  \n",
       "                                                                                                      2017-02-19 00:00:00+01:00    NaN  \n",
       "                                                                                                      2017-02-26 00:00:00+01:00    NaN  \n",
       "                                                                                                      2017-03-05 00:00:00+01:00    NaN  \n",
       "                                                                                                      2017-03-12 00:00:00+01:00    NaN  \n",
       "                                                                                                      2017-03-19 00:00:00+01:00    NaN  \n",
       "                                                                                                      2017-03-26 00:00:00+01:00    NaN  \n",
       "                                                                                                      2017-04-02 00:00:00+02:00    NaN  \n",
       "                                                                                                      2017-04-09 00:00:00+02:00    NaN  \n",
       "                                                                                                      2017-04-16 00:00:00+02:00    NaN  \n",
       "                                                                                                      2017-04-23 00:00:00+02:00    NaN  \n",
       "                                                                                                      2017-04-30 00:00:00+02:00    NaN  \n",
       "                                                                                                      2017-05-07 00:00:00+02:00    NaN  \n",
       "                                                                                                      2017-05-14 00:00:00+02:00    NaN  \n",
       "                                                                                                      2017-05-21 00:00:00+02:00    NaN  \n",
       "                                                                                                      2017-05-28 00:00:00+02:00    NaN  \n",
       "                                                                                                      2017-06-04 00:00:00+02:00    NaN  \n",
       "                                                                                                      2017-06-11 00:00:00+02:00    NaN  \n",
       "                                                                                                      2017-06-18 00:00:00+02:00    NaN  \n",
       "                                                                                                      2017-06-25 00:00:00+02:00    NaN  \n",
       "                                                                                                      2017-07-02 00:00:00+02:00    NaN  \n",
       "                                                      bv.1.7.1.1.1.1 Den Helder veerhaven, Vak A      2017-01-01 00:00:00+01:00    NaN  \n",
       "                                                                                                      2017-01-08 00:00:00+01:00    NaN  \n",
       "                                                                                                      2017-01-15 00:00:00+01:00    NaN  \n",
       "...                                                                                                                                ...  \n",
       "                                                      bv.1.7.5.1     Haven Noordpolderzijl, Havendeel 2017-06-18 00:00:00+02:00    NaN  \n",
       "                                                                                                      2017-06-25 00:00:00+02:00    NaN  \n",
       "                                                                                                      2017-07-02 00:00:00+02:00    NaN  \n",
       "                                                      bv.1.7.6.2     Schanskerdiep                    2017-01-01 00:00:00+01:00    NaN  \n",
       "                                                                                                      2017-01-08 00:00:00+01:00    NaN  \n",
       "                                                                                                      2017-01-15 00:00:00+01:00    NaN  \n",
       "                                                                                                      2017-01-22 00:00:00+01:00    NaN  \n",
       "                                                                                                      2017-01-29 00:00:00+01:00    NaN  \n",
       "                                                                                                      2017-02-05 00:00:00+01:00    NaN  \n",
       "                                                                                                      2017-02-12 00:00:00+01:00    NaN  \n",
       "                                                                                                      2017-02-19 00:00:00+01:00    NaN  \n",
       "                                                                                                      2017-02-26 00:00:00+01:00    NaN  \n",
       "                                                                                                      2017-03-05 00:00:00+01:00    NaN  \n",
       "                                                                                                      2017-03-12 00:00:00+01:00    NaN  \n",
       "                                                                                                      2017-03-19 00:00:00+01:00    NaN  \n",
       "                                                                                                      2017-03-26 00:00:00+01:00    NaN  \n",
       "                                                                                                      2017-04-02 00:00:00+02:00    NaN  \n",
       "                                                                                                      2017-04-09 00:00:00+02:00    NaN  \n",
       "                                                                                                      2017-04-16 00:00:00+02:00    NaN  \n",
       "                                                                                                      2017-04-23 00:00:00+02:00    NaN  \n",
       "                                                                                                      2017-04-30 00:00:00+02:00    NaN  \n",
       "                                                                                                      2017-05-07 00:00:00+02:00    NaN  \n",
       "                                                                                                      2017-05-14 00:00:00+02:00    NaN  \n",
       "                                                                                                      2017-05-21 00:00:00+02:00    NaN  \n",
       "                                                                                                      2017-05-28 00:00:00+02:00    NaN  \n",
       "                                                                                                      2017-06-04 00:00:00+02:00    NaN  \n",
       "                                                                                                      2017-06-11 00:00:00+02:00    NaN  \n",
       "                                                                                                      2017-06-18 00:00:00+02:00    NaN  \n",
       "                                                                                                      2017-06-25 00:00:00+02:00    NaN  \n",
       "                                                                                                      2017-07-02 00:00:00+02:00    NaN  \n",
       "\n",
       "[2700 rows x 2 columns]"
      ]
     },
     "execution_count": 68,
     "metadata": {},
     "output_type": "execute_result"
    }
   ],
   "source": [
    "#weeksums!!\n",
    "result"
   ]
  },
  {
   "cell_type": "code",
   "execution_count": 69,
   "metadata": {
    "collapsed": false,
    "deletable": true,
    "editable": true
   },
   "outputs": [],
   "source": [
    "json = result.reset_index().to_json(orient='records', date_format='iso')"
   ]
  },
  {
   "cell_type": "code",
   "execution_count": 70,
   "metadata": {
    "collapsed": false,
    "deletable": true,
    "editable": true
   },
   "outputs": [
    {
     "name": "stdout",
     "output_type": "stream",
     "text": [
      "http://85.17.82.66/dataservices/ will be used as portal\n"
     ]
    }
   ],
   "source": [
    "dataservice = 'http://85.17.82.66/dataservices/'\n",
    "dataportal.setDataservice(dataservice)"
   ]
  },
  {
   "cell_type": "code",
   "execution_count": 71,
   "metadata": {
    "collapsed": false,
    "deletable": true,
    "editable": true
   },
   "outputs": [
    {
     "data": {
      "text/plain": [
       "{'exception': 'database name already exists'}"
      ]
     },
     "execution_count": 71,
     "metadata": {},
     "output_type": "execute_result"
    }
   ],
   "source": [
    "database = 'OMSWaddenzee'\n",
    "dataportal.createDatabase(database)"
   ]
  },
  {
   "cell_type": "code",
   "execution_count": 72,
   "metadata": {
    "collapsed": false,
    "deletable": true,
    "editable": true
   },
   "outputs": [
    {
     "data": {
      "text/plain": [
       "{'date': '2017-06-28 22:44:43',\n",
       " 'id': 'e9c227cd-d380-4b44-b176-1cfc8b54293c',\n",
       " 'key': 'k.m3.gebaggerd.mars|m3'}"
      ]
     },
     "execution_count": 72,
     "metadata": {},
     "output_type": "execute_result"
    }
   ],
   "source": [
    "key = 'k.m3.gebaggerd.mars|m3'\n",
    "dataportal.setEntryDatabase(database, 'k.m3.gebaggerd.mars|m3', json)"
   ]
  },
  {
   "cell_type": "code",
   "execution_count": 73,
   "metadata": {
    "collapsed": false,
    "deletable": true,
    "editable": true
   },
   "outputs": [
    {
     "name": "stdout",
     "output_type": "stream",
     "text": [
      "http://85.17.82.66/dataservices/data.asmx/read?database=OMSWaddenzee&key=k.m3.gebaggerd.mars|m3\n"
     ]
    }
   ],
   "source": [
    "out = dataportal.getEntryDatabase(database, key)"
   ]
  },
  {
   "cell_type": "code",
   "execution_count": null,
   "metadata": {
    "collapsed": true,
    "deletable": true,
    "editable": true
   },
   "outputs": [],
   "source": []
  }
 ],
 "metadata": {
  "kernelspec": {
   "display_name": "Python 3",
   "language": "python",
   "name": "python3"
  },
  "language_info": {
   "codemirror_mode": {
    "name": "ipython",
    "version": 3
   },
   "file_extension": ".py",
   "mimetype": "text/x-python",
   "name": "python",
   "nbconvert_exporter": "python",
   "pygments_lexer": "ipython3",
   "version": "3.5.2"
  }
 },
 "nbformat": 4,
 "nbformat_minor": 2
}
