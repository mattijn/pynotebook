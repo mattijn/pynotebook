{
 "cells": [
  {
   "cell_type": "code",
   "execution_count": 1,
   "metadata": {
    "collapsed": true,
    "deletable": true,
    "editable": true
   },
   "outputs": [],
   "source": [
    "from hkvpy.fews import pi\n",
    "from datetime import datetime\n",
    "%matplotlib inline"
   ]
  },
  {
   "cell_type": "code",
   "execution_count": 2,
   "metadata": {
    "collapsed": false,
    "deletable": true,
    "editable": true
   },
   "outputs": [],
   "source": [
    "pi.setClient(r'http://dashboardservices.hkv.nl:8080/FewsPiService/fewspiservice?wsdl')\n",
    "#pi.setClient('http://www.oms-waddenzee.nl:8081/FewsPiService/fewspiservice?wsdl')"
   ]
  },
  {
   "cell_type": "code",
   "execution_count": 3,
   "metadata": {
    "collapsed": false,
    "deletable": true,
    "editable": true
   },
   "outputs": [
    {
     "data": {
      "text/plain": [
       "{'PI_SERVICE': {'description': '', 'id': 'PI_SERVICE', 'name': 'PI_SERVICE'},\n",
       " 'PI_SERVICE_SOBEK_ALERT_GPM': {'description': '',\n",
       "  'id': 'PI_SERVICE.SOBEK.ALERT.GPM',\n",
       "  'name': 'PI_SERVICE.SOBEK.ALERT.GPM'},\n",
       " 'PI_SERVICE_SOBEK_ALERT_TRMM': {'description': '',\n",
       "  'id': 'PI_SERVICE.SOBEK.ALERT.TRMM',\n",
       "  'name': 'PI_SERVICE.SOBEK.ALERT.TRMM'},\n",
       " 'PI_SERVICE_SOBEK_GPM': {'description': '',\n",
       "  'id': 'PI_SERVICE.SOBEK.GPM',\n",
       "  'name': 'PI_SERVICE.SOBEK (GPM)'},\n",
       " 'PI_SERVICE_SOBEK_TRMM': {'description': '',\n",
       "  'id': 'PI_SERVICE.SOBEK.TRMM',\n",
       "  'name': 'PI_SERVICE.SOBEK (TRMM)'}}"
      ]
     },
     "execution_count": 3,
     "metadata": {},
     "output_type": "execute_result"
    }
   ],
   "source": [
    "vars(pi.getFilters())"
   ]
  },
  {
   "cell_type": "code",
   "execution_count": 4,
   "metadata": {
    "collapsed": false,
    "deletable": true,
    "editable": true
   },
   "outputs": [
    {
     "data": {
      "text/plain": [
       "'PI_SERVICE.SOBEK.GPM'"
      ]
     },
     "execution_count": 4,
     "metadata": {},
     "output_type": "execute_result"
    }
   ],
   "source": [
    "filterId = pi.Filters.PI_SERVICE_SOBEK_GPM['id']#'PI_SERVICE.SOBEK.GPM'#pi.Filters.PI_SERVICE_SOBEK['id']\n",
    "filterId"
   ]
  },
  {
   "cell_type": "code",
   "execution_count": 5,
   "metadata": {
    "collapsed": false,
    "deletable": true,
    "editable": true
   },
   "outputs": [
    {
     "data": {
      "text/plain": [
       "<matplotlib.axes._subplots.AxesSubplot at 0x8c94b38>"
      ]
     },
     "execution_count": 5,
     "metadata": {},
     "output_type": "execute_result"
    },
    {
     "data": {
      "image/png": "[encoded data removed]",
      "text/plain": [
       "<matplotlib.figure.Figure at 0x8c94048>"
      ]
     },
     "metadata": {},
     "output_type": "display_data"
    }
   ],
   "source": [
    "pi.getLocations(filterId,setFormat='gdf').plot()"
   ]
  },
  {
   "cell_type": "code",
   "execution_count": 6,
   "metadata": {
    "collapsed": false,
    "deletable": true,
    "editable": true
   },
   "outputs": [
    {
     "data": {
      "text/plain": [
       "{'WATERLEVEL_SIM': {'displayUnit': 'm',\n",
       "  'id': 'WATERLEVEL.SIM',\n",
       "  'name': 'Water level (simulated) [m]',\n",
       "  'parameterType': 'instantaneous',\n",
       "  'unit': 'm',\n",
       "  'usesDatum': 'true'}}"
      ]
     },
     "execution_count": 6,
     "metadata": {},
     "output_type": "execute_result"
    }
   ],
   "source": [
    "vars(pi.getParameters(filterId))"
   ]
  },
  {
   "cell_type": "code",
   "execution_count": 7,
   "metadata": {
    "collapsed": false
   },
   "outputs": [
    {
     "data": {
      "text/plain": [
       "'{\"features\": [{\"properties\": {\"shortName\": \"Akosombo\", \"locationId\": \"Akosombo\", \"y\": \"6.30575749863099\", \"x\": \"0.061931740219688\"}, \"id\": \"Akosombo\", \"geometry\": {\"coordinates\": [0.061931740219687996, 6.30575749863099], \"type\": \"Point\"}, \"type\": \"Feature\"}, {\"properties\": {\"shortName\": \"Benja\", \"locationId\": \"Benja\", \"y\": \"9.71386799767037\", \"x\": \"0.143711671402331\"}, \"id\": \"Benja\", \"geometry\": {\"coordinates\": [0.143711671402331, 9.71386799767037], \"type\": \"Point\"}, \"type\": \"Feature\"}, {\"properties\": {\"shortName\": \"Borgou\", \"locationId\": \"Borgou\", \"y\": \"10.7496423440431\", \"x\": \"0.566663074894722\"}, \"id\": \"Borgou\", \"geometry\": {\"coordinates\": [0.566663074894722, 10.7496423440431], \"type\": \"Point\"}, \"type\": \"Feature\"}, {\"properties\": {\"shortName\": \"Koumongou\", \"locationId\": \"Koumongou\", \"y\": \"10.2036101999771\", \"x\": \"0.451571372411162\"}, \"id\": \"Koumongou\", \"geometry\": {\"coordinates\": [0.451571372411162, 10.2036101999771], \"type\": \"Point\"}, \"type\": \"Feature\"}, {\"properties\": {\"shortName\": \"Mandouri_new\", \"locationId\": \"Mandouri_new\", \"y\": \"10.8123596763447\", \"x\": \"0.809815095594793\"}, \"id\": \"Mandouri_new\", \"geometry\": {\"coordinates\": [0.8098150955947929, 10.8123596763447], \"type\": \"Point\"}, \"type\": \"Feature\"}, {\"properties\": {\"shortName\": \"Mandouri_old\", \"locationId\": \"Mandouri_old\", \"y\": \"10.8404949975039\", \"x\": \"0.856099653451303\"}, \"id\": \"Mandouri_old\", \"geometry\": {\"coordinates\": [0.8560996534513029, 10.840494997503901], \"type\": \"Point\"}, \"type\": \"Feature\"}, {\"properties\": {\"shortName\": \"Mango_new\", \"locationId\": \"Mango_new\", \"y\": \"10.352378482906\", \"x\": \"0.482534813020131\"}, \"id\": \"Mango_new\", \"geometry\": {\"coordinates\": [0.48253481302013107, 10.352378482906], \"type\": \"Point\"}, \"type\": \"Feature\"}, {\"properties\": {\"shortName\": \"Mango_old\", \"locationId\": \"Mango_old\", \"y\": \"10.3083357042557\", \"x\": \"0.46398426156341\"}, \"id\": \"Mango_old\", \"geometry\": {\"coordinates\": [0.46398426156340994, 10.308335704255699], \"type\": \"Point\"}, \"type\": \"Feature\"}, {\"properties\": {\"shortName\": \"Mo\", \"locationId\": \"Mo\", \"y\": \"8.73885879693771\", \"x\": \"0.174189939874688\"}, \"id\": \"Mo\", \"geometry\": {\"coordinates\": [0.174189939874688, 8.73885879693771], \"type\": \"Point\"}, \"type\": \"Feature\"}, {\"properties\": {\"shortName\": \"NNaboupi\", \"locationId\": \"NNaboupi\", \"y\": \"9.887502761703\", \"x\": \"0.570290415343083\"}, \"id\": \"NNaboupi\", \"geometry\": {\"coordinates\": [0.570290415343083, 9.887502761703], \"type\": \"Point\"}, \"type\": \"Feature\"}, {\"properties\": {\"shortName\": \"Pembik\", \"locationId\": \"Pembik\", \"y\": \"10.2724302133899\", \"x\": \"0.379259483958783\"}, \"id\": \"Pembik\", \"geometry\": {\"coordinates\": [0.37925948395878295, 10.272430213389901], \"type\": \"Point\"}, \"type\": \"Feature\"}, {\"properties\": {\"shortName\": \"Porga\", \"locationId\": \"Porga\", \"y\": \"10.994212008637\", \"x\": \"0.976868811665902\"}, \"id\": \"Porga\", \"geometry\": {\"coordinates\": [0.976868811665902, 10.994212008637], \"type\": \"Point\"}, \"type\": \"Feature\"}, {\"properties\": {\"shortName\": \"Sabari\", \"locationId\": \"Sabari\", \"y\": \"9.28956227982952\", \"x\": \"0.25672195320488\"}, \"id\": \"Sabari\", \"geometry\": {\"coordinates\": [0.25672195320488, 9.28956227982952], \"type\": \"Point\"}, \"type\": \"Feature\"}, {\"properties\": {\"shortName\": \"Saboba\", \"locationId\": \"Saboba\", \"y\": \"9.71276538657408\", \"x\": \"0.346697082973559\"}, \"id\": \"Saboba\", \"geometry\": {\"coordinates\": [0.346697082973559, 9.71276538657408], \"type\": \"Point\"}, \"type\": \"Feature\"}, {\"properties\": {\"shortName\": \"Tankpa\", \"locationId\": \"Tankpa\", \"y\": \"9.09823189677712\", \"x\": \"0.237161404152484\"}, \"id\": \"Tankpa\", \"geometry\": {\"coordinates\": [0.237161404152484, 9.09823189677712], \"type\": \"Point\"}, \"type\": \"Feature\"}, {\"properties\": {\"shortName\": \"Tributary1\", \"locationId\": \"Tributary1\", \"y\": \"10.668476010987\", \"x\": \"0.772816440749079\"}, \"id\": \"Tributary1\", \"geometry\": {\"coordinates\": [0.7728164407490792, 10.668476010987], \"type\": \"Point\"}, \"type\": \"Feature\"}, {\"properties\": {\"shortName\": \"Tributary2\", \"locationId\": \"Tributary2\", \"y\": \"10.5097673593953\", \"x\": \"0.576210329215847\"}, \"id\": \"Tributary2\", \"geometry\": {\"coordinates\": [0.576210329215847, 10.509767359395301], \"type\": \"Point\"}, \"type\": \"Feature\"}], \"type\": \"FeatureCollection\"}'"
      ]
     },
     "execution_count": 7,
     "metadata": {},
     "output_type": "execute_result"
    }
   ],
   "source": [
    "pi.getLocations(filterId)"
   ]
  },
  {
   "cell_type": "code",
   "execution_count": 8,
   "metadata": {
    "collapsed": false,
    "deletable": true,
    "editable": true
   },
   "outputs": [],
   "source": [
    "startTime = datetime(2017,7,3)\n",
    "endTime = datetime(2017,7,12)#,tzinfo=pytz.UTC)"
   ]
  },
  {
   "cell_type": "code",
   "execution_count": 9,
   "metadata": {
    "collapsed": false,
    "deletable": true,
    "editable": true
   },
   "outputs": [
    {
     "ename": "ValueError",
     "evalue": "astimezone() cannot be applied to a naive datetime",
     "output_type": "error",
     "traceback": [
      "\u001b[1;31m---------------------------------------------------------------------------\u001b[0m",
      "\u001b[1;31mValueError\u001b[0m                                Traceback (most recent call last)",
      "\u001b[1;32m<ipython-input-9-89d8b5f62445>\u001b[0m in \u001b[0;36m<module>\u001b[1;34m()\u001b[0m\n\u001b[1;32m----> 1\u001b[1;33m \u001b[0mdf\u001b[0m\u001b[1;33m,\u001b[0m \u001b[0mentry\u001b[0m \u001b[1;33m=\u001b[0m \u001b[0mpi\u001b[0m\u001b[1;33m.\u001b[0m\u001b[0mgetTimeSeries\u001b[0m\u001b[1;33m(\u001b[0m\u001b[0mfilterId\u001b[0m \u001b[1;33m=\u001b[0m \u001b[0mfilterId\u001b[0m\u001b[1;33m,\u001b[0m \u001b[0mparameterIds\u001b[0m\u001b[1;33m=\u001b[0m\u001b[0mpi\u001b[0m\u001b[1;33m.\u001b[0m\u001b[0mParameters\u001b[0m\u001b[1;33m.\u001b[0m\u001b[0mWATERLEVEL_SIM\u001b[0m\u001b[1;33m[\u001b[0m\u001b[1;34m'id'\u001b[0m\u001b[1;33m]\u001b[0m\u001b[1;33m,\u001b[0m \u001b[0mlocationIds\u001b[0m\u001b[1;33m=\u001b[0m\u001b[0mpi\u001b[0m\u001b[1;33m.\u001b[0m\u001b[0mLocations\u001b[0m\u001b[1;33m.\u001b[0m\u001b[0mPorga\u001b[0m\u001b[1;33m[\u001b[0m\u001b[1;34m'locationId'\u001b[0m\u001b[1;33m]\u001b[0m\u001b[1;33m,\u001b[0m \u001b[0mstartTime\u001b[0m\u001b[1;33m=\u001b[0m\u001b[0mstartTime\u001b[0m\u001b[1;33m,\u001b[0m \u001b[0mendTime\u001b[0m\u001b[1;33m=\u001b[0m\u001b[0mendTime\u001b[0m\u001b[1;33m,\u001b[0m \u001b[0msetFormat\u001b[0m\u001b[1;33m=\u001b[0m\u001b[1;34m'df'\u001b[0m\u001b[1;33m)\u001b[0m\u001b[1;33m\u001b[0m\u001b[0m\n\u001b[0m",
      "\u001b[1;32mc:\\python35\\lib\\site-packages\\hkvpy\\fews.py\u001b[0m in \u001b[0;36mgetTimeSeries\u001b[1;34m(self, filterId, parameterIds, locationIds, startTime, endTime, convertDatum, useDisplayUnits, piVersion, clientId, ensembleId, timeZero, clientTimeZone, setFormat)\u001b[0m\n\u001b[0;32m    492\u001b[0m         \u001b[1;32mif\u001b[0m \u001b[0mstartTime\u001b[0m\u001b[1;33m.\u001b[0m\u001b[0mtzinfo\u001b[0m \u001b[1;32mis\u001b[0m \u001b[1;32mNone\u001b[0m \u001b[1;32mor\u001b[0m \u001b[0mstartTime\u001b[0m\u001b[1;33m.\u001b[0m\u001b[0mtzinfo\u001b[0m\u001b[1;33m.\u001b[0m\u001b[0mutcoffset\u001b[0m\u001b[1;33m(\u001b[0m\u001b[0mstartTime\u001b[0m\u001b[1;33m)\u001b[0m \u001b[1;32mis\u001b[0m \u001b[1;32mNone\u001b[0m\u001b[1;33m:\u001b[0m\u001b[1;33m\u001b[0m\u001b[0m\n\u001b[0;32m    493\u001b[0m             \u001b[0mstartTime\u001b[0m\u001b[1;33m.\u001b[0m\u001b[0mreplace\u001b[0m\u001b[1;33m(\u001b[0m\u001b[0mtzinfo\u001b[0m\u001b[1;33m=\u001b[0m\u001b[0mpytz\u001b[0m\u001b[1;33m.\u001b[0m\u001b[0mUTC\u001b[0m\u001b[1;33m)\u001b[0m\u001b[1;33m\u001b[0m\u001b[0m\n\u001b[1;32m--> 494\u001b[1;33m             \u001b[0mstartTime\u001b[0m\u001b[1;33m.\u001b[0m\u001b[0mastimezone\u001b[0m\u001b[1;33m(\u001b[0m\u001b[0mpytz\u001b[0m\u001b[1;33m.\u001b[0m\u001b[0mtimezone\u001b[0m\u001b[1;33m(\u001b[0m\u001b[0mclientTimeZone\u001b[0m\u001b[1;33m)\u001b[0m\u001b[1;33m)\u001b[0m\u001b[1;33m\u001b[0m\u001b[0m\n\u001b[0m\u001b[0;32m    495\u001b[0m         \u001b[1;32mif\u001b[0m \u001b[0mendTime\u001b[0m\u001b[1;33m.\u001b[0m\u001b[0mtzinfo\u001b[0m \u001b[1;32mis\u001b[0m \u001b[1;32mNone\u001b[0m \u001b[1;32mor\u001b[0m \u001b[0mendTime\u001b[0m\u001b[1;33m.\u001b[0m\u001b[0mtzinfo\u001b[0m\u001b[1;33m.\u001b[0m\u001b[0mutcoffset\u001b[0m\u001b[1;33m(\u001b[0m\u001b[0mendTime\u001b[0m\u001b[1;33m)\u001b[0m \u001b[1;32mis\u001b[0m \u001b[1;32mNone\u001b[0m\u001b[1;33m:\u001b[0m\u001b[1;33m\u001b[0m\u001b[0m\n\u001b[0;32m    496\u001b[0m             \u001b[0mendTime\u001b[0m\u001b[1;33m.\u001b[0m\u001b[0mreplace\u001b[0m\u001b[1;33m(\u001b[0m\u001b[0mtzinfo\u001b[0m\u001b[1;33m=\u001b[0m\u001b[0mpytz\u001b[0m\u001b[1;33m.\u001b[0m\u001b[0mUTC\u001b[0m\u001b[1;33m)\u001b[0m\u001b[1;33m\u001b[0m\u001b[0m\n",
      "\u001b[1;31mValueError\u001b[0m: astimezone() cannot be applied to a naive datetime"
     ]
    }
   ],
   "source": [
    "df, entry = pi.getTimeSeries(filterId = filterId, parameterIds=pi.Parameters.WATERLEVEL_SIM['id'], locationIds=pi.Locations.Porga['locationId'], startTime=startTime, endTime=endTime, setFormat='df')"
   ]
  },
  {
   "cell_type": "code",
   "execution_count": null,
   "metadata": {
    "collapsed": false
   },
   "outputs": [],
   "source": [
    "import pytz\n",
    "endTime.astimezone(pytz.timezone('Europe/Amsterdam'))"
   ]
  },
  {
   "cell_type": "code",
   "execution_count": null,
   "metadata": {
    "collapsed": true
   },
   "outputs": [],
   "source": []
  }
 ],
 "metadata": {
  "kernelspec": {
   "display_name": "Python 3",
   "language": "python",
   "name": "python3"
  },
  "language_info": {
   "codemirror_mode": {
    "name": "ipython",
    "version": 3
   },
   "file_extension": ".py",
   "mimetype": "text/x-python",
   "name": "python",
   "nbconvert_exporter": "python",
   "pygments_lexer": "ipython3",
   "version": "3.5.2"
  }
 },
 "nbformat": 4,
 "nbformat_minor": 2
}
