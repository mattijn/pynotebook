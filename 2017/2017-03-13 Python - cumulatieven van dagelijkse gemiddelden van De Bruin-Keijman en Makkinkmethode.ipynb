{
 "cells": [
  {
   "cell_type": "code",
   "execution_count": 9,
   "metadata": {
    "collapsed": true
   },
   "outputs": [],
   "source": [
    "from osgeo import gdal\n",
    "import numpy as np\n",
    "import pandas as pd\n",
    "import glob\n",
    "from datetime import datetime\n",
    "import matplotlib.pyplot as plt"
   ]
  },
  {
   "cell_type": "code",
   "execution_count": 2,
   "metadata": {
    "collapsed": false
   },
   "outputs": [],
   "source": [
    "path_Eow = r'C:\\Projects\\Pr\\3492.10\\BruinKeijman\\tif\\Eow//*.tif'\n",
    "path_Emk = r'C:\\Projects\\Pr\\3492.10\\BruinKeijman\\tif\\Emakkink//*.tif'\n",
    "E_ow = glob.glob(path_Eow)\n",
    "E_makkink = glob.glob(path_Emk)"
   ]
  },
  {
   "cell_type": "code",
   "execution_count": 3,
   "metadata": {
    "collapsed": true
   },
   "outputs": [],
   "source": [
    "# load water mask or in fact load land and outer-sea mask\n",
    "file_landgebruik = r'D:\\Projects\\Pr\\3492.10\\Landgebruik//Landgebruik.tif'\n",
    "#file_water       = r'D:\\Projects\\Pr\\3492.10\\Water//Water_100x100m.tif'\n",
    "array_water      = gdal.Open(file_landgebruik).ReadAsArray()\n",
    "water = np.ma.masked_not_equal(array_water, 12000)\n",
    "df = pd.DataFrame(columns=['Emakkink','Eow'])"
   ]
  },
  {
   "cell_type": "code",
   "execution_count": 4,
   "metadata": {
    "collapsed": false
   },
   "outputs": [
    {
     "name": "stdout",
     "output_type": "stream",
     "text": [
      "0 C:\\Projects\\Pr\\3492.10\\BruinKeijman\\tif\\Emakkink\\Emakkink_20160402.tif C:\\Projects\\Pr\\3492.10\\BruinKeijman\\tif\\Eow\\Eow_20160402.tif\n",
      "1 C:\\Projects\\Pr\\3492.10\\BruinKeijman\\tif\\Emakkink\\Emakkink_20160403.tif C:\\Projects\\Pr\\3492.10\\BruinKeijman\\tif\\Eow\\Eow_20160403.tif\n",
      "2 C:\\Projects\\Pr\\3492.10\\BruinKeijman\\tif\\Emakkink\\Emakkink_20160404.tif C:\\Projects\\Pr\\3492.10\\BruinKeijman\\tif\\Eow\\Eow_20160404.tif\n",
      "3 C:\\Projects\\Pr\\3492.10\\BruinKeijman\\tif\\Emakkink\\Emakkink_20160405.tif C:\\Projects\\Pr\\3492.10\\BruinKeijman\\tif\\Eow\\Eow_20160405.tif\n",
      "4 C:\\Projects\\Pr\\3492.10\\BruinKeijman\\tif\\Emakkink\\Emakkink_20160406.tif C:\\Projects\\Pr\\3492.10\\BruinKeijman\\tif\\Eow\\Eow_20160406.tif\n",
      "5 C:\\Projects\\Pr\\3492.10\\BruinKeijman\\tif\\Emakkink\\Emakkink_20160407.tif C:\\Projects\\Pr\\3492.10\\BruinKeijman\\tif\\Eow\\Eow_20160407.tif\n",
      "6 C:\\Projects\\Pr\\3492.10\\BruinKeijman\\tif\\Emakkink\\Emakkink_20160408.tif C:\\Projects\\Pr\\3492.10\\BruinKeijman\\tif\\Eow\\Eow_20160408.tif\n",
      "7 C:\\Projects\\Pr\\3492.10\\BruinKeijman\\tif\\Emakkink\\Emakkink_20160409.tif C:\\Projects\\Pr\\3492.10\\BruinKeijman\\tif\\Eow\\Eow_20160409.tif\n",
      "8 C:\\Projects\\Pr\\3492.10\\BruinKeijman\\tif\\Emakkink\\Emakkink_20160410.tif C:\\Projects\\Pr\\3492.10\\BruinKeijman\\tif\\Eow\\Eow_20160410.tif\n",
      "9 C:\\Projects\\Pr\\3492.10\\BruinKeijman\\tif\\Emakkink\\Emakkink_20160411.tif C:\\Projects\\Pr\\3492.10\\BruinKeijman\\tif\\Eow\\Eow_20160411.tif\n",
      "10 C:\\Projects\\Pr\\3492.10\\BruinKeijman\\tif\\Emakkink\\Emakkink_20160412.tif C:\\Projects\\Pr\\3492.10\\BruinKeijman\\tif\\Eow\\Eow_20160412.tif\n",
      "11 C:\\Projects\\Pr\\3492.10\\BruinKeijman\\tif\\Emakkink\\Emakkink_20160413.tif C:\\Projects\\Pr\\3492.10\\BruinKeijman\\tif\\Eow\\Eow_20160413.tif\n",
      "12 C:\\Projects\\Pr\\3492.10\\BruinKeijman\\tif\\Emakkink\\Emakkink_20160414.tif C:\\Projects\\Pr\\3492.10\\BruinKeijman\\tif\\Eow\\Eow_20160414.tif\n",
      "13 C:\\Projects\\Pr\\3492.10\\BruinKeijman\\tif\\Emakkink\\Emakkink_20160415.tif C:\\Projects\\Pr\\3492.10\\BruinKeijman\\tif\\Eow\\Eow_20160415.tif\n",
      "14 C:\\Projects\\Pr\\3492.10\\BruinKeijman\\tif\\Emakkink\\Emakkink_20160416.tif C:\\Projects\\Pr\\3492.10\\BruinKeijman\\tif\\Eow\\Eow_20160416.tif\n",
      "15 C:\\Projects\\Pr\\3492.10\\BruinKeijman\\tif\\Emakkink\\Emakkink_20160417.tif C:\\Projects\\Pr\\3492.10\\BruinKeijman\\tif\\Eow\\Eow_20160417.tif\n",
      "16 C:\\Projects\\Pr\\3492.10\\BruinKeijman\\tif\\Emakkink\\Emakkink_20160418.tif C:\\Projects\\Pr\\3492.10\\BruinKeijman\\tif\\Eow\\Eow_20160418.tif\n",
      "17 C:\\Projects\\Pr\\3492.10\\BruinKeijman\\tif\\Emakkink\\Emakkink_20160419.tif C:\\Projects\\Pr\\3492.10\\BruinKeijman\\tif\\Eow\\Eow_20160419.tif\n",
      "18 C:\\Projects\\Pr\\3492.10\\BruinKeijman\\tif\\Emakkink\\Emakkink_20160420.tif C:\\Projects\\Pr\\3492.10\\BruinKeijman\\tif\\Eow\\Eow_20160420.tif\n",
      "19 C:\\Projects\\Pr\\3492.10\\BruinKeijman\\tif\\Emakkink\\Emakkink_20160421.tif C:\\Projects\\Pr\\3492.10\\BruinKeijman\\tif\\Eow\\Eow_20160421.tif\n",
      "20 C:\\Projects\\Pr\\3492.10\\BruinKeijman\\tif\\Emakkink\\Emakkink_20160422.tif C:\\Projects\\Pr\\3492.10\\BruinKeijman\\tif\\Eow\\Eow_20160422.tif\n",
      "21 C:\\Projects\\Pr\\3492.10\\BruinKeijman\\tif\\Emakkink\\Emakkink_20160423.tif C:\\Projects\\Pr\\3492.10\\BruinKeijman\\tif\\Eow\\Eow_20160423.tif\n",
      "22 C:\\Projects\\Pr\\3492.10\\BruinKeijman\\tif\\Emakkink\\Emakkink_20160424.tif C:\\Projects\\Pr\\3492.10\\BruinKeijman\\tif\\Eow\\Eow_20160424.tif\n",
      "23 C:\\Projects\\Pr\\3492.10\\BruinKeijman\\tif\\Emakkink\\Emakkink_20160425.tif C:\\Projects\\Pr\\3492.10\\BruinKeijman\\tif\\Eow\\Eow_20160425.tif\n",
      "24 C:\\Projects\\Pr\\3492.10\\BruinKeijman\\tif\\Emakkink\\Emakkink_20160426.tif C:\\Projects\\Pr\\3492.10\\BruinKeijman\\tif\\Eow\\Eow_20160426.tif\n",
      "25 C:\\Projects\\Pr\\3492.10\\BruinKeijman\\tif\\Emakkink\\Emakkink_20160427.tif C:\\Projects\\Pr\\3492.10\\BruinKeijman\\tif\\Eow\\Eow_20160427.tif\n",
      "26 C:\\Projects\\Pr\\3492.10\\BruinKeijman\\tif\\Emakkink\\Emakkink_20160428.tif C:\\Projects\\Pr\\3492.10\\BruinKeijman\\tif\\Eow\\Eow_20160428.tif\n",
      "27 C:\\Projects\\Pr\\3492.10\\BruinKeijman\\tif\\Emakkink\\Emakkink_20160429.tif C:\\Projects\\Pr\\3492.10\\BruinKeijman\\tif\\Eow\\Eow_20160429.tif\n",
      "28 C:\\Projects\\Pr\\3492.10\\BruinKeijman\\tif\\Emakkink\\Emakkink_20160430.tif C:\\Projects\\Pr\\3492.10\\BruinKeijman\\tif\\Eow\\Eow_20160430.tif\n",
      "29 C:\\Projects\\Pr\\3492.10\\BruinKeijman\\tif\\Emakkink\\Emakkink_20160501.tif C:\\Projects\\Pr\\3492.10\\BruinKeijman\\tif\\Eow\\Eow_20160501.tif\n",
      "30 C:\\Projects\\Pr\\3492.10\\BruinKeijman\\tif\\Emakkink\\Emakkink_20160502.tif C:\\Projects\\Pr\\3492.10\\BruinKeijman\\tif\\Eow\\Eow_20160502.tif\n",
      "31 C:\\Projects\\Pr\\3492.10\\BruinKeijman\\tif\\Emakkink\\Emakkink_20160503.tif C:\\Projects\\Pr\\3492.10\\BruinKeijman\\tif\\Eow\\Eow_20160503.tif\n",
      "32 C:\\Projects\\Pr\\3492.10\\BruinKeijman\\tif\\Emakkink\\Emakkink_20160504.tif C:\\Projects\\Pr\\3492.10\\BruinKeijman\\tif\\Eow\\Eow_20160504.tif\n",
      "33 C:\\Projects\\Pr\\3492.10\\BruinKeijman\\tif\\Emakkink\\Emakkink_20160505.tif C:\\Projects\\Pr\\3492.10\\BruinKeijman\\tif\\Eow\\Eow_20160505.tif\n",
      "34 C:\\Projects\\Pr\\3492.10\\BruinKeijman\\tif\\Emakkink\\Emakkink_20160506.tif C:\\Projects\\Pr\\3492.10\\BruinKeijman\\tif\\Eow\\Eow_20160506.tif\n",
      "35 C:\\Projects\\Pr\\3492.10\\BruinKeijman\\tif\\Emakkink\\Emakkink_20160507.tif C:\\Projects\\Pr\\3492.10\\BruinKeijman\\tif\\Eow\\Eow_20160507.tif\n",
      "36 C:\\Projects\\Pr\\3492.10\\BruinKeijman\\tif\\Emakkink\\Emakkink_20160508.tif C:\\Projects\\Pr\\3492.10\\BruinKeijman\\tif\\Eow\\Eow_20160508.tif\n",
      "37 C:\\Projects\\Pr\\3492.10\\BruinKeijman\\tif\\Emakkink\\Emakkink_20160509.tif C:\\Projects\\Pr\\3492.10\\BruinKeijman\\tif\\Eow\\Eow_20160509.tif\n",
      "38 C:\\Projects\\Pr\\3492.10\\BruinKeijman\\tif\\Emakkink\\Emakkink_20160510.tif C:\\Projects\\Pr\\3492.10\\BruinKeijman\\tif\\Eow\\Eow_20160510.tif\n",
      "39 C:\\Projects\\Pr\\3492.10\\BruinKeijman\\tif\\Emakkink\\Emakkink_20160511.tif C:\\Projects\\Pr\\3492.10\\BruinKeijman\\tif\\Eow\\Eow_20160511.tif\n",
      "40 C:\\Projects\\Pr\\3492.10\\BruinKeijman\\tif\\Emakkink\\Emakkink_20160512.tif C:\\Projects\\Pr\\3492.10\\BruinKeijman\\tif\\Eow\\Eow_20160512.tif\n",
      "41 C:\\Projects\\Pr\\3492.10\\BruinKeijman\\tif\\Emakkink\\Emakkink_20160513.tif C:\\Projects\\Pr\\3492.10\\BruinKeijman\\tif\\Eow\\Eow_20160513.tif\n",
      "42 C:\\Projects\\Pr\\3492.10\\BruinKeijman\\tif\\Emakkink\\Emakkink_20160514.tif C:\\Projects\\Pr\\3492.10\\BruinKeijman\\tif\\Eow\\Eow_20160514.tif\n",
      "43 C:\\Projects\\Pr\\3492.10\\BruinKeijman\\tif\\Emakkink\\Emakkink_20160515.tif C:\\Projects\\Pr\\3492.10\\BruinKeijman\\tif\\Eow\\Eow_20160515.tif\n",
      "44 C:\\Projects\\Pr\\3492.10\\BruinKeijman\\tif\\Emakkink\\Emakkink_20160516.tif C:\\Projects\\Pr\\3492.10\\BruinKeijman\\tif\\Eow\\Eow_20160516.tif\n",
      "45 C:\\Projects\\Pr\\3492.10\\BruinKeijman\\tif\\Emakkink\\Emakkink_20160517.tif C:\\Projects\\Pr\\3492.10\\BruinKeijman\\tif\\Eow\\Eow_20160517.tif\n",
      "46 C:\\Projects\\Pr\\3492.10\\BruinKeijman\\tif\\Emakkink\\Emakkink_20160518.tif C:\\Projects\\Pr\\3492.10\\BruinKeijman\\tif\\Eow\\Eow_20160518.tif\n",
      "47 C:\\Projects\\Pr\\3492.10\\BruinKeijman\\tif\\Emakkink\\Emakkink_20160519.tif C:\\Projects\\Pr\\3492.10\\BruinKeijman\\tif\\Eow\\Eow_20160519.tif\n",
      "48 C:\\Projects\\Pr\\3492.10\\BruinKeijman\\tif\\Emakkink\\Emakkink_20160520.tif C:\\Projects\\Pr\\3492.10\\BruinKeijman\\tif\\Eow\\Eow_20160520.tif\n",
      "49 C:\\Projects\\Pr\\3492.10\\BruinKeijman\\tif\\Emakkink\\Emakkink_20160521.tif C:\\Projects\\Pr\\3492.10\\BruinKeijman\\tif\\Eow\\Eow_20160521.tif\n",
      "50 C:\\Projects\\Pr\\3492.10\\BruinKeijman\\tif\\Emakkink\\Emakkink_20160522.tif C:\\Projects\\Pr\\3492.10\\BruinKeijman\\tif\\Eow\\Eow_20160522.tif\n",
      "51 C:\\Projects\\Pr\\3492.10\\BruinKeijman\\tif\\Emakkink\\Emakkink_20160523.tif C:\\Projects\\Pr\\3492.10\\BruinKeijman\\tif\\Eow\\Eow_20160523.tif\n",
      "52 C:\\Projects\\Pr\\3492.10\\BruinKeijman\\tif\\Emakkink\\Emakkink_20160524.tif C:\\Projects\\Pr\\3492.10\\BruinKeijman\\tif\\Eow\\Eow_20160524.tif\n",
      "53 C:\\Projects\\Pr\\3492.10\\BruinKeijman\\tif\\Emakkink\\Emakkink_20160525.tif C:\\Projects\\Pr\\3492.10\\BruinKeijman\\tif\\Eow\\Eow_20160525.tif\n",
      "54 C:\\Projects\\Pr\\3492.10\\BruinKeijman\\tif\\Emakkink\\Emakkink_20160526.tif C:\\Projects\\Pr\\3492.10\\BruinKeijman\\tif\\Eow\\Eow_20160526.tif\n",
      "55 C:\\Projects\\Pr\\3492.10\\BruinKeijman\\tif\\Emakkink\\Emakkink_20160527.tif C:\\Projects\\Pr\\3492.10\\BruinKeijman\\tif\\Eow\\Eow_20160527.tif\n",
      "56 C:\\Projects\\Pr\\3492.10\\BruinKeijman\\tif\\Emakkink\\Emakkink_20160528.tif C:\\Projects\\Pr\\3492.10\\BruinKeijman\\tif\\Eow\\Eow_20160528.tif\n",
      "57 C:\\Projects\\Pr\\3492.10\\BruinKeijman\\tif\\Emakkink\\Emakkink_20160529.tif C:\\Projects\\Pr\\3492.10\\BruinKeijman\\tif\\Eow\\Eow_20160529.tif\n",
      "58 C:\\Projects\\Pr\\3492.10\\BruinKeijman\\tif\\Emakkink\\Emakkink_20160530.tif C:\\Projects\\Pr\\3492.10\\BruinKeijman\\tif\\Eow\\Eow_20160530.tif\n",
      "59 C:\\Projects\\Pr\\3492.10\\BruinKeijman\\tif\\Emakkink\\Emakkink_20160531.tif C:\\Projects\\Pr\\3492.10\\BruinKeijman\\tif\\Eow\\Eow_20160531.tif\n",
      "60 C:\\Projects\\Pr\\3492.10\\BruinKeijman\\tif\\Emakkink\\Emakkink_20160601.tif C:\\Projects\\Pr\\3492.10\\BruinKeijman\\tif\\Eow\\Eow_20160601.tif\n",
      "61 C:\\Projects\\Pr\\3492.10\\BruinKeijman\\tif\\Emakkink\\Emakkink_20160602.tif C:\\Projects\\Pr\\3492.10\\BruinKeijman\\tif\\Eow\\Eow_20160602.tif\n",
      "62 C:\\Projects\\Pr\\3492.10\\BruinKeijman\\tif\\Emakkink\\Emakkink_20160603.tif C:\\Projects\\Pr\\3492.10\\BruinKeijman\\tif\\Eow\\Eow_20160603.tif\n",
      "63 C:\\Projects\\Pr\\3492.10\\BruinKeijman\\tif\\Emakkink\\Emakkink_20160604.tif C:\\Projects\\Pr\\3492.10\\BruinKeijman\\tif\\Eow\\Eow_20160604.tif\n",
      "64 C:\\Projects\\Pr\\3492.10\\BruinKeijman\\tif\\Emakkink\\Emakkink_20160605.tif C:\\Projects\\Pr\\3492.10\\BruinKeijman\\tif\\Eow\\Eow_20160605.tif\n",
      "65 C:\\Projects\\Pr\\3492.10\\BruinKeijman\\tif\\Emakkink\\Emakkink_20160606.tif C:\\Projects\\Pr\\3492.10\\BruinKeijman\\tif\\Eow\\Eow_20160606.tif\n",
      "66 C:\\Projects\\Pr\\3492.10\\BruinKeijman\\tif\\Emakkink\\Emakkink_20160607.tif C:\\Projects\\Pr\\3492.10\\BruinKeijman\\tif\\Eow\\Eow_20160607.tif\n",
      "67 C:\\Projects\\Pr\\3492.10\\BruinKeijman\\tif\\Emakkink\\Emakkink_20160608.tif C:\\Projects\\Pr\\3492.10\\BruinKeijman\\tif\\Eow\\Eow_20160608.tif\n",
      "68 C:\\Projects\\Pr\\3492.10\\BruinKeijman\\tif\\Emakkink\\Emakkink_20160609.tif C:\\Projects\\Pr\\3492.10\\BruinKeijman\\tif\\Eow\\Eow_20160609.tif\n",
      "69 C:\\Projects\\Pr\\3492.10\\BruinKeijman\\tif\\Emakkink\\Emakkink_20160610.tif C:\\Projects\\Pr\\3492.10\\BruinKeijman\\tif\\Eow\\Eow_20160610.tif\n",
      "70 C:\\Projects\\Pr\\3492.10\\BruinKeijman\\tif\\Emakkink\\Emakkink_20160611.tif C:\\Projects\\Pr\\3492.10\\BruinKeijman\\tif\\Eow\\Eow_20160611.tif\n",
      "71 C:\\Projects\\Pr\\3492.10\\BruinKeijman\\tif\\Emakkink\\Emakkink_20160612.tif C:\\Projects\\Pr\\3492.10\\BruinKeijman\\tif\\Eow\\Eow_20160612.tif\n",
      "72 C:\\Projects\\Pr\\3492.10\\BruinKeijman\\tif\\Emakkink\\Emakkink_20160613.tif C:\\Projects\\Pr\\3492.10\\BruinKeijman\\tif\\Eow\\Eow_20160613.tif\n",
      "73 C:\\Projects\\Pr\\3492.10\\BruinKeijman\\tif\\Emakkink\\Emakkink_20160614.tif C:\\Projects\\Pr\\3492.10\\BruinKeijman\\tif\\Eow\\Eow_20160614.tif\n",
      "74 C:\\Projects\\Pr\\3492.10\\BruinKeijman\\tif\\Emakkink\\Emakkink_20160615.tif C:\\Projects\\Pr\\3492.10\\BruinKeijman\\tif\\Eow\\Eow_20160615.tif\n",
      "75 C:\\Projects\\Pr\\3492.10\\BruinKeijman\\tif\\Emakkink\\Emakkink_20160616.tif C:\\Projects\\Pr\\3492.10\\BruinKeijman\\tif\\Eow\\Eow_20160616.tif\n",
      "76 C:\\Projects\\Pr\\3492.10\\BruinKeijman\\tif\\Emakkink\\Emakkink_20160617.tif C:\\Projects\\Pr\\3492.10\\BruinKeijman\\tif\\Eow\\Eow_20160617.tif\n",
      "77 C:\\Projects\\Pr\\3492.10\\BruinKeijman\\tif\\Emakkink\\Emakkink_20160618.tif C:\\Projects\\Pr\\3492.10\\BruinKeijman\\tif\\Eow\\Eow_20160618.tif\n",
      "78 C:\\Projects\\Pr\\3492.10\\BruinKeijman\\tif\\Emakkink\\Emakkink_20160619.tif C:\\Projects\\Pr\\3492.10\\BruinKeijman\\tif\\Eow\\Eow_20160619.tif\n",
      "79 C:\\Projects\\Pr\\3492.10\\BruinKeijman\\tif\\Emakkink\\Emakkink_20160620.tif C:\\Projects\\Pr\\3492.10\\BruinKeijman\\tif\\Eow\\Eow_20160620.tif\n",
      "80 C:\\Projects\\Pr\\3492.10\\BruinKeijman\\tif\\Emakkink\\Emakkink_20160621.tif C:\\Projects\\Pr\\3492.10\\BruinKeijman\\tif\\Eow\\Eow_20160621.tif\n",
      "81 C:\\Projects\\Pr\\3492.10\\BruinKeijman\\tif\\Emakkink\\Emakkink_20160622.tif C:\\Projects\\Pr\\3492.10\\BruinKeijman\\tif\\Eow\\Eow_20160622.tif\n",
      "82 C:\\Projects\\Pr\\3492.10\\BruinKeijman\\tif\\Emakkink\\Emakkink_20160623.tif C:\\Projects\\Pr\\3492.10\\BruinKeijman\\tif\\Eow\\Eow_20160623.tif\n",
      "83 C:\\Projects\\Pr\\3492.10\\BruinKeijman\\tif\\Emakkink\\Emakkink_20160624.tif C:\\Projects\\Pr\\3492.10\\BruinKeijman\\tif\\Eow\\Eow_20160624.tif\n",
      "84 C:\\Projects\\Pr\\3492.10\\BruinKeijman\\tif\\Emakkink\\Emakkink_20160625.tif C:\\Projects\\Pr\\3492.10\\BruinKeijman\\tif\\Eow\\Eow_20160625.tif\n",
      "85 C:\\Projects\\Pr\\3492.10\\BruinKeijman\\tif\\Emakkink\\Emakkink_20160626.tif C:\\Projects\\Pr\\3492.10\\BruinKeijman\\tif\\Eow\\Eow_20160626.tif\n",
      "86 C:\\Projects\\Pr\\3492.10\\BruinKeijman\\tif\\Emakkink\\Emakkink_20160627.tif C:\\Projects\\Pr\\3492.10\\BruinKeijman\\tif\\Eow\\Eow_20160627.tif\n",
      "87 C:\\Projects\\Pr\\3492.10\\BruinKeijman\\tif\\Emakkink\\Emakkink_20160628.tif C:\\Projects\\Pr\\3492.10\\BruinKeijman\\tif\\Eow\\Eow_20160628.tif\n",
      "88 C:\\Projects\\Pr\\3492.10\\BruinKeijman\\tif\\Emakkink\\Emakkink_20160629.tif C:\\Projects\\Pr\\3492.10\\BruinKeijman\\tif\\Eow\\Eow_20160629.tif\n",
      "89 C:\\Projects\\Pr\\3492.10\\BruinKeijman\\tif\\Emakkink\\Emakkink_20160630.tif C:\\Projects\\Pr\\3492.10\\BruinKeijman\\tif\\Eow\\Eow_20160630.tif\n",
      "90 C:\\Projects\\Pr\\3492.10\\BruinKeijman\\tif\\Emakkink\\Emakkink_20160701.tif C:\\Projects\\Pr\\3492.10\\BruinKeijman\\tif\\Eow\\Eow_20160701.tif\n",
      "91 C:\\Projects\\Pr\\3492.10\\BruinKeijman\\tif\\Emakkink\\Emakkink_20160702.tif C:\\Projects\\Pr\\3492.10\\BruinKeijman\\tif\\Eow\\Eow_20160702.tif\n",
      "92 C:\\Projects\\Pr\\3492.10\\BruinKeijman\\tif\\Emakkink\\Emakkink_20160703.tif C:\\Projects\\Pr\\3492.10\\BruinKeijman\\tif\\Eow\\Eow_20160703.tif\n",
      "93 C:\\Projects\\Pr\\3492.10\\BruinKeijman\\tif\\Emakkink\\Emakkink_20160704.tif C:\\Projects\\Pr\\3492.10\\BruinKeijman\\tif\\Eow\\Eow_20160704.tif\n",
      "94 C:\\Projects\\Pr\\3492.10\\BruinKeijman\\tif\\Emakkink\\Emakkink_20160705.tif C:\\Projects\\Pr\\3492.10\\BruinKeijman\\tif\\Eow\\Eow_20160705.tif\n",
      "95 C:\\Projects\\Pr\\3492.10\\BruinKeijman\\tif\\Emakkink\\Emakkink_20160706.tif C:\\Projects\\Pr\\3492.10\\BruinKeijman\\tif\\Eow\\Eow_20160706.tif\n",
      "96 C:\\Projects\\Pr\\3492.10\\BruinKeijman\\tif\\Emakkink\\Emakkink_20160707.tif C:\\Projects\\Pr\\3492.10\\BruinKeijman\\tif\\Eow\\Eow_20160707.tif\n",
      "97 C:\\Projects\\Pr\\3492.10\\BruinKeijman\\tif\\Emakkink\\Emakkink_20160708.tif C:\\Projects\\Pr\\3492.10\\BruinKeijman\\tif\\Eow\\Eow_20160708.tif\n",
      "98 C:\\Projects\\Pr\\3492.10\\BruinKeijman\\tif\\Emakkink\\Emakkink_20160709.tif C:\\Projects\\Pr\\3492.10\\BruinKeijman\\tif\\Eow\\Eow_20160709.tif\n",
      "99 C:\\Projects\\Pr\\3492.10\\BruinKeijman\\tif\\Emakkink\\Emakkink_20160710.tif C:\\Projects\\Pr\\3492.10\\BruinKeijman\\tif\\Eow\\Eow_20160710.tif\n",
      "100 C:\\Projects\\Pr\\3492.10\\BruinKeijman\\tif\\Emakkink\\Emakkink_20160711.tif C:\\Projects\\Pr\\3492.10\\BruinKeijman\\tif\\Eow\\Eow_20160711.tif\n",
      "101 C:\\Projects\\Pr\\3492.10\\BruinKeijman\\tif\\Emakkink\\Emakkink_20160712.tif C:\\Projects\\Pr\\3492.10\\BruinKeijman\\tif\\Eow\\Eow_20160712.tif\n",
      "102 C:\\Projects\\Pr\\3492.10\\BruinKeijman\\tif\\Emakkink\\Emakkink_20160713.tif C:\\Projects\\Pr\\3492.10\\BruinKeijman\\tif\\Eow\\Eow_20160713.tif\n",
      "103 C:\\Projects\\Pr\\3492.10\\BruinKeijman\\tif\\Emakkink\\Emakkink_20160714.tif C:\\Projects\\Pr\\3492.10\\BruinKeijman\\tif\\Eow\\Eow_20160714.tif\n",
      "104 C:\\Projects\\Pr\\3492.10\\BruinKeijman\\tif\\Emakkink\\Emakkink_20160715.tif C:\\Projects\\Pr\\3492.10\\BruinKeijman\\tif\\Eow\\Eow_20160715.tif\n",
      "105 C:\\Projects\\Pr\\3492.10\\BruinKeijman\\tif\\Emakkink\\Emakkink_20160716.tif C:\\Projects\\Pr\\3492.10\\BruinKeijman\\tif\\Eow\\Eow_20160716.tif\n",
      "106 C:\\Projects\\Pr\\3492.10\\BruinKeijman\\tif\\Emakkink\\Emakkink_20160717.tif C:\\Projects\\Pr\\3492.10\\BruinKeijman\\tif\\Eow\\Eow_20160717.tif\n",
      "107 C:\\Projects\\Pr\\3492.10\\BruinKeijman\\tif\\Emakkink\\Emakkink_20160718.tif C:\\Projects\\Pr\\3492.10\\BruinKeijman\\tif\\Eow\\Eow_20160718.tif\n",
      "108 C:\\Projects\\Pr\\3492.10\\BruinKeijman\\tif\\Emakkink\\Emakkink_20160719.tif C:\\Projects\\Pr\\3492.10\\BruinKeijman\\tif\\Eow\\Eow_20160719.tif\n",
      "109 C:\\Projects\\Pr\\3492.10\\BruinKeijman\\tif\\Emakkink\\Emakkink_20160720.tif C:\\Projects\\Pr\\3492.10\\BruinKeijman\\tif\\Eow\\Eow_20160720.tif\n",
      "110 C:\\Projects\\Pr\\3492.10\\BruinKeijman\\tif\\Emakkink\\Emakkink_20160721.tif C:\\Projects\\Pr\\3492.10\\BruinKeijman\\tif\\Eow\\Eow_20160721.tif\n",
      "111 C:\\Projects\\Pr\\3492.10\\BruinKeijman\\tif\\Emakkink\\Emakkink_20160722.tif C:\\Projects\\Pr\\3492.10\\BruinKeijman\\tif\\Eow\\Eow_20160722.tif\n",
      "112 C:\\Projects\\Pr\\3492.10\\BruinKeijman\\tif\\Emakkink\\Emakkink_20160723.tif C:\\Projects\\Pr\\3492.10\\BruinKeijman\\tif\\Eow\\Eow_20160723.tif\n",
      "113 C:\\Projects\\Pr\\3492.10\\BruinKeijman\\tif\\Emakkink\\Emakkink_20160724.tif C:\\Projects\\Pr\\3492.10\\BruinKeijman\\tif\\Eow\\Eow_20160724.tif\n",
      "114 C:\\Projects\\Pr\\3492.10\\BruinKeijman\\tif\\Emakkink\\Emakkink_20160725.tif C:\\Projects\\Pr\\3492.10\\BruinKeijman\\tif\\Eow\\Eow_20160725.tif\n",
      "115 C:\\Projects\\Pr\\3492.10\\BruinKeijman\\tif\\Emakkink\\Emakkink_20160726.tif C:\\Projects\\Pr\\3492.10\\BruinKeijman\\tif\\Eow\\Eow_20160726.tif\n",
      "116 C:\\Projects\\Pr\\3492.10\\BruinKeijman\\tif\\Emakkink\\Emakkink_20160727.tif C:\\Projects\\Pr\\3492.10\\BruinKeijman\\tif\\Eow\\Eow_20160727.tif\n",
      "117 C:\\Projects\\Pr\\3492.10\\BruinKeijman\\tif\\Emakkink\\Emakkink_20160728.tif C:\\Projects\\Pr\\3492.10\\BruinKeijman\\tif\\Eow\\Eow_20160728.tif\n",
      "118 C:\\Projects\\Pr\\3492.10\\BruinKeijman\\tif\\Emakkink\\Emakkink_20160729.tif C:\\Projects\\Pr\\3492.10\\BruinKeijman\\tif\\Eow\\Eow_20160729.tif\n",
      "119 C:\\Projects\\Pr\\3492.10\\BruinKeijman\\tif\\Emakkink\\Emakkink_20160730.tif C:\\Projects\\Pr\\3492.10\\BruinKeijman\\tif\\Eow\\Eow_20160730.tif\n",
      "120 C:\\Projects\\Pr\\3492.10\\BruinKeijman\\tif\\Emakkink\\Emakkink_20160731.tif C:\\Projects\\Pr\\3492.10\\BruinKeijman\\tif\\Eow\\Eow_20160731.tif\n",
      "121 C:\\Projects\\Pr\\3492.10\\BruinKeijman\\tif\\Emakkink\\Emakkink_20160801.tif C:\\Projects\\Pr\\3492.10\\BruinKeijman\\tif\\Eow\\Eow_20160801.tif\n",
      "122 C:\\Projects\\Pr\\3492.10\\BruinKeijman\\tif\\Emakkink\\Emakkink_20160802.tif C:\\Projects\\Pr\\3492.10\\BruinKeijman\\tif\\Eow\\Eow_20160802.tif\n",
      "123 C:\\Projects\\Pr\\3492.10\\BruinKeijman\\tif\\Emakkink\\Emakkink_20160803.tif C:\\Projects\\Pr\\3492.10\\BruinKeijman\\tif\\Eow\\Eow_20160803.tif\n",
      "124 C:\\Projects\\Pr\\3492.10\\BruinKeijman\\tif\\Emakkink\\Emakkink_20160804.tif C:\\Projects\\Pr\\3492.10\\BruinKeijman\\tif\\Eow\\Eow_20160804.tif\n",
      "125 C:\\Projects\\Pr\\3492.10\\BruinKeijman\\tif\\Emakkink\\Emakkink_20160805.tif C:\\Projects\\Pr\\3492.10\\BruinKeijman\\tif\\Eow\\Eow_20160805.tif\n",
      "126 C:\\Projects\\Pr\\3492.10\\BruinKeijman\\tif\\Emakkink\\Emakkink_20160806.tif C:\\Projects\\Pr\\3492.10\\BruinKeijman\\tif\\Eow\\Eow_20160806.tif\n",
      "127 C:\\Projects\\Pr\\3492.10\\BruinKeijman\\tif\\Emakkink\\Emakkink_20160807.tif C:\\Projects\\Pr\\3492.10\\BruinKeijman\\tif\\Eow\\Eow_20160807.tif\n",
      "128 C:\\Projects\\Pr\\3492.10\\BruinKeijman\\tif\\Emakkink\\Emakkink_20160808.tif C:\\Projects\\Pr\\3492.10\\BruinKeijman\\tif\\Eow\\Eow_20160808.tif\n",
      "129 C:\\Projects\\Pr\\3492.10\\BruinKeijman\\tif\\Emakkink\\Emakkink_20160809.tif C:\\Projects\\Pr\\3492.10\\BruinKeijman\\tif\\Eow\\Eow_20160809.tif\n",
      "130 C:\\Projects\\Pr\\3492.10\\BruinKeijman\\tif\\Emakkink\\Emakkink_20160810.tif C:\\Projects\\Pr\\3492.10\\BruinKeijman\\tif\\Eow\\Eow_20160810.tif\n",
      "131 C:\\Projects\\Pr\\3492.10\\BruinKeijman\\tif\\Emakkink\\Emakkink_20160811.tif C:\\Projects\\Pr\\3492.10\\BruinKeijman\\tif\\Eow\\Eow_20160811.tif\n",
      "132 C:\\Projects\\Pr\\3492.10\\BruinKeijman\\tif\\Emakkink\\Emakkink_20160812.tif C:\\Projects\\Pr\\3492.10\\BruinKeijman\\tif\\Eow\\Eow_20160812.tif\n",
      "133 C:\\Projects\\Pr\\3492.10\\BruinKeijman\\tif\\Emakkink\\Emakkink_20160813.tif C:\\Projects\\Pr\\3492.10\\BruinKeijman\\tif\\Eow\\Eow_20160813.tif\n",
      "134 C:\\Projects\\Pr\\3492.10\\BruinKeijman\\tif\\Emakkink\\Emakkink_20160814.tif C:\\Projects\\Pr\\3492.10\\BruinKeijman\\tif\\Eow\\Eow_20160814.tif\n",
      "135 C:\\Projects\\Pr\\3492.10\\BruinKeijman\\tif\\Emakkink\\Emakkink_20160815.tif C:\\Projects\\Pr\\3492.10\\BruinKeijman\\tif\\Eow\\Eow_20160815.tif\n",
      "136 C:\\Projects\\Pr\\3492.10\\BruinKeijman\\tif\\Emakkink\\Emakkink_20160816.tif C:\\Projects\\Pr\\3492.10\\BruinKeijman\\tif\\Eow\\Eow_20160816.tif\n",
      "137 C:\\Projects\\Pr\\3492.10\\BruinKeijman\\tif\\Emakkink\\Emakkink_20160817.tif C:\\Projects\\Pr\\3492.10\\BruinKeijman\\tif\\Eow\\Eow_20160817.tif\n",
      "138 C:\\Projects\\Pr\\3492.10\\BruinKeijman\\tif\\Emakkink\\Emakkink_20160818.tif C:\\Projects\\Pr\\3492.10\\BruinKeijman\\tif\\Eow\\Eow_20160818.tif\n",
      "139 C:\\Projects\\Pr\\3492.10\\BruinKeijman\\tif\\Emakkink\\Emakkink_20160819.tif C:\\Projects\\Pr\\3492.10\\BruinKeijman\\tif\\Eow\\Eow_20160819.tif\n",
      "140 C:\\Projects\\Pr\\3492.10\\BruinKeijman\\tif\\Emakkink\\Emakkink_20160820.tif C:\\Projects\\Pr\\3492.10\\BruinKeijman\\tif\\Eow\\Eow_20160820.tif\n",
      "141 C:\\Projects\\Pr\\3492.10\\BruinKeijman\\tif\\Emakkink\\Emakkink_20160821.tif C:\\Projects\\Pr\\3492.10\\BruinKeijman\\tif\\Eow\\Eow_20160821.tif\n",
      "142 C:\\Projects\\Pr\\3492.10\\BruinKeijman\\tif\\Emakkink\\Emakkink_20160822.tif C:\\Projects\\Pr\\3492.10\\BruinKeijman\\tif\\Eow\\Eow_20160822.tif\n",
      "143 C:\\Projects\\Pr\\3492.10\\BruinKeijman\\tif\\Emakkink\\Emakkink_20160823.tif C:\\Projects\\Pr\\3492.10\\BruinKeijman\\tif\\Eow\\Eow_20160823.tif\n",
      "144 C:\\Projects\\Pr\\3492.10\\BruinKeijman\\tif\\Emakkink\\Emakkink_20160824.tif C:\\Projects\\Pr\\3492.10\\BruinKeijman\\tif\\Eow\\Eow_20160824.tif\n",
      "145 C:\\Projects\\Pr\\3492.10\\BruinKeijman\\tif\\Emakkink\\Emakkink_20160825.tif C:\\Projects\\Pr\\3492.10\\BruinKeijman\\tif\\Eow\\Eow_20160825.tif\n",
      "146 C:\\Projects\\Pr\\3492.10\\BruinKeijman\\tif\\Emakkink\\Emakkink_20160826.tif C:\\Projects\\Pr\\3492.10\\BruinKeijman\\tif\\Eow\\Eow_20160826.tif\n",
      "147 C:\\Projects\\Pr\\3492.10\\BruinKeijman\\tif\\Emakkink\\Emakkink_20160827.tif C:\\Projects\\Pr\\3492.10\\BruinKeijman\\tif\\Eow\\Eow_20160827.tif\n",
      "148 C:\\Projects\\Pr\\3492.10\\BruinKeijman\\tif\\Emakkink\\Emakkink_20160828.tif C:\\Projects\\Pr\\3492.10\\BruinKeijman\\tif\\Eow\\Eow_20160828.tif\n",
      "149 C:\\Projects\\Pr\\3492.10\\BruinKeijman\\tif\\Emakkink\\Emakkink_20160829.tif C:\\Projects\\Pr\\3492.10\\BruinKeijman\\tif\\Eow\\Eow_20160829.tif\n",
      "150 C:\\Projects\\Pr\\3492.10\\BruinKeijman\\tif\\Emakkink\\Emakkink_20160830.tif C:\\Projects\\Pr\\3492.10\\BruinKeijman\\tif\\Eow\\Eow_20160830.tif\n",
      "151 C:\\Projects\\Pr\\3492.10\\BruinKeijman\\tif\\Emakkink\\Emakkink_20160831.tif C:\\Projects\\Pr\\3492.10\\BruinKeijman\\tif\\Eow\\Eow_20160831.tif\n",
      "152 C:\\Projects\\Pr\\3492.10\\BruinKeijman\\tif\\Emakkink\\Emakkink_20160901.tif C:\\Projects\\Pr\\3492.10\\BruinKeijman\\tif\\Eow\\Eow_20160901.tif\n",
      "153 C:\\Projects\\Pr\\3492.10\\BruinKeijman\\tif\\Emakkink\\Emakkink_20160902.tif C:\\Projects\\Pr\\3492.10\\BruinKeijman\\tif\\Eow\\Eow_20160902.tif\n",
      "154 C:\\Projects\\Pr\\3492.10\\BruinKeijman\\tif\\Emakkink\\Emakkink_20160903.tif C:\\Projects\\Pr\\3492.10\\BruinKeijman\\tif\\Eow\\Eow_20160903.tif\n",
      "155 C:\\Projects\\Pr\\3492.10\\BruinKeijman\\tif\\Emakkink\\Emakkink_20160904.tif C:\\Projects\\Pr\\3492.10\\BruinKeijman\\tif\\Eow\\Eow_20160904.tif\n",
      "156 C:\\Projects\\Pr\\3492.10\\BruinKeijman\\tif\\Emakkink\\Emakkink_20160905.tif C:\\Projects\\Pr\\3492.10\\BruinKeijman\\tif\\Eow\\Eow_20160905.tif\n",
      "157 C:\\Projects\\Pr\\3492.10\\BruinKeijman\\tif\\Emakkink\\Emakkink_20160906.tif C:\\Projects\\Pr\\3492.10\\BruinKeijman\\tif\\Eow\\Eow_20160906.tif\n",
      "158 C:\\Projects\\Pr\\3492.10\\BruinKeijman\\tif\\Emakkink\\Emakkink_20160907.tif C:\\Projects\\Pr\\3492.10\\BruinKeijman\\tif\\Eow\\Eow_20160907.tif\n",
      "159 C:\\Projects\\Pr\\3492.10\\BruinKeijman\\tif\\Emakkink\\Emakkink_20160908.tif C:\\Projects\\Pr\\3492.10\\BruinKeijman\\tif\\Eow\\Eow_20160908.tif\n",
      "160 C:\\Projects\\Pr\\3492.10\\BruinKeijman\\tif\\Emakkink\\Emakkink_20160909.tif C:\\Projects\\Pr\\3492.10\\BruinKeijman\\tif\\Eow\\Eow_20160909.tif\n",
      "161 C:\\Projects\\Pr\\3492.10\\BruinKeijman\\tif\\Emakkink\\Emakkink_20160910.tif C:\\Projects\\Pr\\3492.10\\BruinKeijman\\tif\\Eow\\Eow_20160910.tif\n",
      "162 C:\\Projects\\Pr\\3492.10\\BruinKeijman\\tif\\Emakkink\\Emakkink_20160911.tif C:\\Projects\\Pr\\3492.10\\BruinKeijman\\tif\\Eow\\Eow_20160911.tif\n",
      "163 C:\\Projects\\Pr\\3492.10\\BruinKeijman\\tif\\Emakkink\\Emakkink_20160912.tif C:\\Projects\\Pr\\3492.10\\BruinKeijman\\tif\\Eow\\Eow_20160912.tif\n",
      "164 C:\\Projects\\Pr\\3492.10\\BruinKeijman\\tif\\Emakkink\\Emakkink_20160913.tif C:\\Projects\\Pr\\3492.10\\BruinKeijman\\tif\\Eow\\Eow_20160913.tif\n",
      "165 C:\\Projects\\Pr\\3492.10\\BruinKeijman\\tif\\Emakkink\\Emakkink_20160914.tif C:\\Projects\\Pr\\3492.10\\BruinKeijman\\tif\\Eow\\Eow_20160914.tif\n",
      "166 C:\\Projects\\Pr\\3492.10\\BruinKeijman\\tif\\Emakkink\\Emakkink_20160915.tif C:\\Projects\\Pr\\3492.10\\BruinKeijman\\tif\\Eow\\Eow_20160915.tif\n",
      "167 C:\\Projects\\Pr\\3492.10\\BruinKeijman\\tif\\Emakkink\\Emakkink_20160916.tif C:\\Projects\\Pr\\3492.10\\BruinKeijman\\tif\\Eow\\Eow_20160916.tif\n",
      "168 C:\\Projects\\Pr\\3492.10\\BruinKeijman\\tif\\Emakkink\\Emakkink_20160917.tif C:\\Projects\\Pr\\3492.10\\BruinKeijman\\tif\\Eow\\Eow_20160917.tif\n",
      "169 C:\\Projects\\Pr\\3492.10\\BruinKeijman\\tif\\Emakkink\\Emakkink_20160918.tif C:\\Projects\\Pr\\3492.10\\BruinKeijman\\tif\\Eow\\Eow_20160918.tif\n",
      "170 C:\\Projects\\Pr\\3492.10\\BruinKeijman\\tif\\Emakkink\\Emakkink_20160919.tif C:\\Projects\\Pr\\3492.10\\BruinKeijman\\tif\\Eow\\Eow_20160919.tif\n",
      "171 C:\\Projects\\Pr\\3492.10\\BruinKeijman\\tif\\Emakkink\\Emakkink_20160920.tif C:\\Projects\\Pr\\3492.10\\BruinKeijman\\tif\\Eow\\Eow_20160920.tif\n",
      "172 C:\\Projects\\Pr\\3492.10\\BruinKeijman\\tif\\Emakkink\\Emakkink_20160921.tif C:\\Projects\\Pr\\3492.10\\BruinKeijman\\tif\\Eow\\Eow_20160921.tif\n",
      "173 C:\\Projects\\Pr\\3492.10\\BruinKeijman\\tif\\Emakkink\\Emakkink_20160922.tif C:\\Projects\\Pr\\3492.10\\BruinKeijman\\tif\\Eow\\Eow_20160922.tif\n",
      "174 C:\\Projects\\Pr\\3492.10\\BruinKeijman\\tif\\Emakkink\\Emakkink_20160923.tif C:\\Projects\\Pr\\3492.10\\BruinKeijman\\tif\\Eow\\Eow_20160923.tif\n",
      "175 C:\\Projects\\Pr\\3492.10\\BruinKeijman\\tif\\Emakkink\\Emakkink_20160924.tif C:\\Projects\\Pr\\3492.10\\BruinKeijman\\tif\\Eow\\Eow_20160924.tif\n",
      "176 C:\\Projects\\Pr\\3492.10\\BruinKeijman\\tif\\Emakkink\\Emakkink_20160925.tif C:\\Projects\\Pr\\3492.10\\BruinKeijman\\tif\\Eow\\Eow_20160925.tif\n",
      "177 C:\\Projects\\Pr\\3492.10\\BruinKeijman\\tif\\Emakkink\\Emakkink_20160926.tif C:\\Projects\\Pr\\3492.10\\BruinKeijman\\tif\\Eow\\Eow_20160926.tif\n",
      "178 C:\\Projects\\Pr\\3492.10\\BruinKeijman\\tif\\Emakkink\\Emakkink_20160927.tif C:\\Projects\\Pr\\3492.10\\BruinKeijman\\tif\\Eow\\Eow_20160927.tif\n",
      "179 C:\\Projects\\Pr\\3492.10\\BruinKeijman\\tif\\Emakkink\\Emakkink_20160928.tif C:\\Projects\\Pr\\3492.10\\BruinKeijman\\tif\\Eow\\Eow_20160928.tif\n",
      "180 C:\\Projects\\Pr\\3492.10\\BruinKeijman\\tif\\Emakkink\\Emakkink_20160929.tif C:\\Projects\\Pr\\3492.10\\BruinKeijman\\tif\\Eow\\Eow_20160929.tif\n",
      "181 C:\\Projects\\Pr\\3492.10\\BruinKeijman\\tif\\Emakkink\\Emakkink_20160930.tif C:\\Projects\\Pr\\3492.10\\BruinKeijman\\tif\\Eow\\Eow_20160930.tif\n",
      "182 C:\\Projects\\Pr\\3492.10\\BruinKeijman\\tif\\Emakkink\\Emakkink_20161001.tif C:\\Projects\\Pr\\3492.10\\BruinKeijman\\tif\\Eow\\Eow_20161001.tif\n",
      "183 C:\\Projects\\Pr\\3492.10\\BruinKeijman\\tif\\Emakkink\\Emakkink_20161002.tif C:\\Projects\\Pr\\3492.10\\BruinKeijman\\tif\\Eow\\Eow_20161002.tif\n",
      "184 C:\\Projects\\Pr\\3492.10\\BruinKeijman\\tif\\Emakkink\\Emakkink_20161003.tif C:\\Projects\\Pr\\3492.10\\BruinKeijman\\tif\\Eow\\Eow_20161003.tif\n",
      "185 C:\\Projects\\Pr\\3492.10\\BruinKeijman\\tif\\Emakkink\\Emakkink_20161004.tif C:\\Projects\\Pr\\3492.10\\BruinKeijman\\tif\\Eow\\Eow_20161004.tif\n",
      "186 C:\\Projects\\Pr\\3492.10\\BruinKeijman\\tif\\Emakkink\\Emakkink_20161005.tif C:\\Projects\\Pr\\3492.10\\BruinKeijman\\tif\\Eow\\Eow_20161005.tif\n",
      "187 C:\\Projects\\Pr\\3492.10\\BruinKeijman\\tif\\Emakkink\\Emakkink_20161006.tif C:\\Projects\\Pr\\3492.10\\BruinKeijman\\tif\\Eow\\Eow_20161006.tif\n",
      "188 C:\\Projects\\Pr\\3492.10\\BruinKeijman\\tif\\Emakkink\\Emakkink_20161007.tif C:\\Projects\\Pr\\3492.10\\BruinKeijman\\tif\\Eow\\Eow_20161007.tif\n",
      "189 C:\\Projects\\Pr\\3492.10\\BruinKeijman\\tif\\Emakkink\\Emakkink_20161008.tif C:\\Projects\\Pr\\3492.10\\BruinKeijman\\tif\\Eow\\Eow_20161008.tif\n",
      "190 C:\\Projects\\Pr\\3492.10\\BruinKeijman\\tif\\Emakkink\\Emakkink_20161009.tif C:\\Projects\\Pr\\3492.10\\BruinKeijman\\tif\\Eow\\Eow_20161009.tif\n",
      "191 C:\\Projects\\Pr\\3492.10\\BruinKeijman\\tif\\Emakkink\\Emakkink_20161010.tif C:\\Projects\\Pr\\3492.10\\BruinKeijman\\tif\\Eow\\Eow_20161010.tif\n",
      "192 C:\\Projects\\Pr\\3492.10\\BruinKeijman\\tif\\Emakkink\\Emakkink_20161011.tif C:\\Projects\\Pr\\3492.10\\BruinKeijman\\tif\\Eow\\Eow_20161011.tif\n",
      "193 C:\\Projects\\Pr\\3492.10\\BruinKeijman\\tif\\Emakkink\\Emakkink_20161012.tif C:\\Projects\\Pr\\3492.10\\BruinKeijman\\tif\\Eow\\Eow_20161012.tif\n",
      "194 C:\\Projects\\Pr\\3492.10\\BruinKeijman\\tif\\Emakkink\\Emakkink_20161013.tif C:\\Projects\\Pr\\3492.10\\BruinKeijman\\tif\\Eow\\Eow_20161013.tif\n",
      "195 C:\\Projects\\Pr\\3492.10\\BruinKeijman\\tif\\Emakkink\\Emakkink_20161014.tif C:\\Projects\\Pr\\3492.10\\BruinKeijman\\tif\\Eow\\Eow_20161014.tif\n",
      "196 C:\\Projects\\Pr\\3492.10\\BruinKeijman\\tif\\Emakkink\\Emakkink_20161015.tif C:\\Projects\\Pr\\3492.10\\BruinKeijman\\tif\\Eow\\Eow_20161015.tif\n",
      "197 C:\\Projects\\Pr\\3492.10\\BruinKeijman\\tif\\Emakkink\\Emakkink_20161016.tif C:\\Projects\\Pr\\3492.10\\BruinKeijman\\tif\\Eow\\Eow_20161016.tif\n",
      "198 C:\\Projects\\Pr\\3492.10\\BruinKeijman\\tif\\Emakkink\\Emakkink_20161017.tif C:\\Projects\\Pr\\3492.10\\BruinKeijman\\tif\\Eow\\Eow_20161017.tif\n",
      "199 C:\\Projects\\Pr\\3492.10\\BruinKeijman\\tif\\Emakkink\\Emakkink_20161018.tif C:\\Projects\\Pr\\3492.10\\BruinKeijman\\tif\\Eow\\Eow_20161018.tif\n",
      "200 C:\\Projects\\Pr\\3492.10\\BruinKeijman\\tif\\Emakkink\\Emakkink_20161019.tif C:\\Projects\\Pr\\3492.10\\BruinKeijman\\tif\\Eow\\Eow_20161019.tif\n",
      "201 C:\\Projects\\Pr\\3492.10\\BruinKeijman\\tif\\Emakkink\\Emakkink_20161020.tif C:\\Projects\\Pr\\3492.10\\BruinKeijman\\tif\\Eow\\Eow_20161020.tif\n",
      "202 C:\\Projects\\Pr\\3492.10\\BruinKeijman\\tif\\Emakkink\\Emakkink_20161021.tif C:\\Projects\\Pr\\3492.10\\BruinKeijman\\tif\\Eow\\Eow_20161021.tif\n",
      "203 C:\\Projects\\Pr\\3492.10\\BruinKeijman\\tif\\Emakkink\\Emakkink_20161022.tif C:\\Projects\\Pr\\3492.10\\BruinKeijman\\tif\\Eow\\Eow_20161022.tif\n",
      "204 C:\\Projects\\Pr\\3492.10\\BruinKeijman\\tif\\Emakkink\\Emakkink_20161023.tif C:\\Projects\\Pr\\3492.10\\BruinKeijman\\tif\\Eow\\Eow_20161023.tif\n",
      "205 C:\\Projects\\Pr\\3492.10\\BruinKeijman\\tif\\Emakkink\\Emakkink_20161024.tif C:\\Projects\\Pr\\3492.10\\BruinKeijman\\tif\\Eow\\Eow_20161024.tif\n",
      "206 C:\\Projects\\Pr\\3492.10\\BruinKeijman\\tif\\Emakkink\\Emakkink_20161025.tif C:\\Projects\\Pr\\3492.10\\BruinKeijman\\tif\\Eow\\Eow_20161025.tif\n",
      "207 C:\\Projects\\Pr\\3492.10\\BruinKeijman\\tif\\Emakkink\\Emakkink_20161026.tif C:\\Projects\\Pr\\3492.10\\BruinKeijman\\tif\\Eow\\Eow_20161026.tif\n",
      "208 C:\\Projects\\Pr\\3492.10\\BruinKeijman\\tif\\Emakkink\\Emakkink_20161027.tif C:\\Projects\\Pr\\3492.10\\BruinKeijman\\tif\\Eow\\Eow_20161027.tif\n",
      "209 C:\\Projects\\Pr\\3492.10\\BruinKeijman\\tif\\Emakkink\\Emakkink_20161028.tif C:\\Projects\\Pr\\3492.10\\BruinKeijman\\tif\\Eow\\Eow_20161028.tif\n",
      "210 C:\\Projects\\Pr\\3492.10\\BruinKeijman\\tif\\Emakkink\\Emakkink_20161029.tif C:\\Projects\\Pr\\3492.10\\BruinKeijman\\tif\\Eow\\Eow_20161029.tif\n",
      "211 C:\\Projects\\Pr\\3492.10\\BruinKeijman\\tif\\Emakkink\\Emakkink_20161030.tif C:\\Projects\\Pr\\3492.10\\BruinKeijman\\tif\\Eow\\Eow_20161030.tif\n",
      "212 C:\\Projects\\Pr\\3492.10\\BruinKeijman\\tif\\Emakkink\\Emakkink_20161031.tif C:\\Projects\\Pr\\3492.10\\BruinKeijman\\tif\\Eow\\Eow_20161031.tif\n"
     ]
    }
   ],
   "source": [
    "for idx,item in enumerate(E_makkink):\n",
    "    datum = item[-12:-4]\n",
    "    date = datetime.strptime(datum, '%Y%m%d')\n",
    "    #path_out = os.path.join(folder_out_mow, datum+'.png')\n",
    "    \n",
    "    file_E_makkink = item \n",
    "    file_E_ow = E_ow[E_ow.index(r'C:\\Projects\\Pr\\3492.10\\BruinKeijman\\tif\\Eow\\Eow_'+item[-12::])]\n",
    "    \n",
    "    print (idx, file_E_makkink,file_E_ow)\n",
    "    \n",
    "    array_E_makkink = gdal.Open(file_E_makkink).ReadAsArray()\n",
    "    array_E_makkink = np.ma.masked_array(array_E_makkink, water.mask)\n",
    "    df['Emakkink'][date] = array_E_makkink.compressed().mean()              \n",
    "    \n",
    "    array_E_ow = gdal.Open(file_E_ow).ReadAsArray()\n",
    "    array_E_ow = np.ma.masked_array(array_E_ow, water.mask)\n",
    "    df['Eow'][date] = array_E_ow.compressed().mean()    "
   ]
  },
  {
   "cell_type": "code",
   "execution_count": 15,
   "metadata": {
    "collapsed": false
   },
   "outputs": [
    {
     "data": {
      "image/png": "[encoded data removed]",
      "text/plain": [
       "<matplotlib.figure.Figure at 0xcf643c8>"
      ]
     },
     "metadata": {},
     "output_type": "display_data"
    }
   ],
   "source": [
    "df['Emakkink'].cumsum().plot(legend=True)\n",
    "df['Eow'].cumsum().plot(legend=True)\n",
    "plt.show()"
   ]
  },
  {
   "cell_type": "code",
   "execution_count": 21,
   "metadata": {
    "collapsed": false
   },
   "outputs": [
    {
     "name": "stdout",
     "output_type": "stream",
     "text": [
      "274.480978668 338.079407036\n"
     ]
    }
   ],
   "source": [
    "cumsum_Emakkink = df['Emakkink'].cumsum()[-1]\n",
    "cumsum_Eow = df['Eow'].cumsum()[-1]\n",
    "print (cumsum_Emakkink, cumsum_Eow)"
   ]
  },
  {
   "cell_type": "code",
   "execution_count": 23,
   "metadata": {
    "collapsed": false
   },
   "outputs": [
    {
     "data": {
      "text/plain": [
       "123.17043194659962"
      ]
     },
     "execution_count": 23,
     "metadata": {},
     "output_type": "execute_result"
    }
   ],
   "source": [
    "(100 * cumsum_Eow) / cumsum_Emakkink"
   ]
  },
  {
   "cell_type": "code",
   "execution_count": 24,
   "metadata": {
    "collapsed": false
   },
   "outputs": [
    {
     "data": {
      "text/plain": [
       "63.59842836856842"
      ]
     },
     "execution_count": 24,
     "metadata": {},
     "output_type": "execute_result"
    }
   ],
   "source": [
    "cumsum_Eow - cumsum_Emakkink"
   ]
  },
  {
   "cell_type": "code",
   "execution_count": 25,
   "metadata": {
    "collapsed": true
   },
   "outputs": [],
   "source": [
    "import seaborn as sns; sns.set(color_codes=True)"
   ]
  },
  {
   "cell_type": "code",
   "execution_count": 27,
   "metadata": {
    "collapsed": false
   },
   "outputs": [
    {
     "ename": "TypeError",
     "evalue": "lmplot() missing 1 required positional argument: 'data'",
     "output_type": "error",
     "traceback": [
      "\u001b[1;31m---------------------------------------------------------------------------\u001b[0m",
      "\u001b[1;31mTypeError\u001b[0m                                 Traceback (most recent call last)",
      "\u001b[1;32m<ipython-input-27-32c320bb7c73>\u001b[0m in \u001b[0;36m<module>\u001b[1;34m()\u001b[0m\n\u001b[1;32m----> 1\u001b[1;33m \u001b[0mg\u001b[0m \u001b[1;33m=\u001b[0m \u001b[0msns\u001b[0m\u001b[1;33m.\u001b[0m\u001b[0mlmplot\u001b[0m\u001b[1;33m(\u001b[0m\u001b[0mx\u001b[0m\u001b[1;33m=\u001b[0m\u001b[0mdf\u001b[0m\u001b[1;33m[\u001b[0m\u001b[1;34m'Emakkink'\u001b[0m\u001b[1;33m]\u001b[0m\u001b[1;33m,\u001b[0m \u001b[0my\u001b[0m\u001b[1;33m=\u001b[0m\u001b[0mdf\u001b[0m\u001b[1;33m[\u001b[0m\u001b[1;34m'Eow'\u001b[0m\u001b[1;33m]\u001b[0m\u001b[1;33m)\u001b[0m\u001b[1;33m\u001b[0m\u001b[0m\n\u001b[0m",
      "\u001b[1;31mTypeError\u001b[0m: lmplot() missing 1 required positional argument: 'data'"
     ]
    }
   ],
   "source": [
    "g = sns.lmplot(x=df['Emakkink'], y=df['Eow'])"
   ]
  },
  {
   "cell_type": "code",
   "execution_count": null,
   "metadata": {
    "collapsed": true
   },
   "outputs": [],
   "source": []
  }
 ],
 "metadata": {
  "kernelspec": {
   "display_name": "Python 3",
   "language": "python",
   "name": "python3"
  },
  "language_info": {
   "codemirror_mode": {
    "name": "ipython",
    "version": 3
   },
   "file_extension": ".py",
   "mimetype": "text/x-python",
   "name": "python",
   "nbconvert_exporter": "python",
   "pygments_lexer": "ipython3",
   "version": "3.5.2"
  }
 },
 "nbformat": 4,
 "nbformat_minor": 2
}
