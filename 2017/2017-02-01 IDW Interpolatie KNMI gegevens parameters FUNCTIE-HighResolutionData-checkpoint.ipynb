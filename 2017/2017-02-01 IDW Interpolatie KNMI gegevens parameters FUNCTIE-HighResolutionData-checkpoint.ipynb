{
 "cells": [
  {
   "cell_type": "code",
   "execution_count": null,
   "metadata": {
    "collapsed": false
   },
   "outputs": [],
   "source": [
    "from scipy import stats\n",
    "from scipy.spatial.distance import cdist\n",
    "from scipy.spatial import cKDTree as KDTree\n",
    "import statsmodels.api as sm\n",
    "import numpy as np\n",
    "import pandas as pd\n",
    "import gdal\n",
    "import os\n",
    "import matplotlib.pyplot as plt\n",
    "#%matplotlib inline"
   ]
  },
  {
   "cell_type": "code",
   "execution_count": null,
   "metadata": {
    "collapsed": true
   },
   "outputs": [],
   "source": [
    "def inRaster(file_raster):\n",
    "    raster = gdal.Open(file_raster, gdal.GA_ReadOnly)\n",
    "    band = raster.GetRasterBand(1)\n",
    "    array = band.ReadAsArray()\n",
    "    extent = raster.GetGeoTransform()\n",
    "    return raster, array, extent"
   ]
  },
  {
   "cell_type": "code",
   "execution_count": null,
   "metadata": {
    "collapsed": true
   },
   "outputs": [],
   "source": [
    "def saveRaster(path, array, raster, datatype=6, formatraster=\"GTiff\"):\n",
    "    # Set Driver\n",
    "    format_ = formatraster #save as format\n",
    "    driver = gdal.GetDriverByName( format_ )\n",
    "    driver.Register()\n",
    "    \n",
    "    # Set Metadata for Raster output\n",
    "    cols = raster.RasterXSize\n",
    "    rows = raster.RasterYSize\n",
    "    bands = raster.RasterCount\n",
    "    datatype = 6#band.DataType\n",
    "    \n",
    "    # Set Projection for Raster\n",
    "    outDataset = driver.Create(path, cols, rows, bands, datatype)\n",
    "    geoTransform = raster.GetGeoTransform()\n",
    "    outDataset.SetGeoTransform(geoTransform)\n",
    "    proj = raster.GetProjection()\n",
    "    outDataset.SetProjection(proj)\n",
    "    \n",
    "    # Write output to band 1 of new Raster\n",
    "    outBand = outDataset.GetRasterBand(1)\n",
    "    outBand.WriteArray(array) #save input array\n",
    "    #outBand.WriteArray(dem)\n",
    "    \n",
    "    # Close and finalise newly created Raster\n",
    "    #F_M01 = None\n",
    "    outBand = None\n",
    "    proj = None\n",
    "    geoTransform = None\n",
    "    outDataset = None\n",
    "    driver = None\n",
    "    datatype = None\n",
    "    bands = None\n",
    "    rows = None\n",
    "    cols = None\n",
    "    driver = None\n",
    "    array = None"
   ]
  },
  {
   "cell_type": "code",
   "execution_count": null,
   "metadata": {
    "collapsed": true
   },
   "outputs": [],
   "source": [
    "def cartesian(arrays, out=None):\n",
    "    \"\"\"\n",
    "    Generate a cartesian product of input arrays.\n",
    "\n",
    "    Parameters\n",
    "    ----------\n",
    "    arrays : list of array-like\n",
    "        1-D arrays to form the cartesian product of.\n",
    "    out : ndarray\n",
    "        Array to place the cartesian product in.\n",
    "\n",
    "    Returns\n",
    "    -------\n",
    "    out : ndarray\n",
    "        2-D array of shape (M, len(arrays)) containing cartesian products\n",
    "        formed of input arrays.\n",
    "\n",
    "    Examples\n",
    "    --------\n",
    "    >>> cartesian(([1, 2, 3], [4, 5], [6, 7]))\n",
    "    array([[1, 4, 6],\n",
    "           [1, 4, 7],\n",
    "           [1, 5, 6],\n",
    "           [1, 5, 7],\n",
    "           [2, 4, 6],\n",
    "           [2, 4, 7],\n",
    "           [2, 5, 6],\n",
    "           [2, 5, 7],\n",
    "           [3, 4, 6],\n",
    "           [3, 4, 7],\n",
    "           [3, 5, 6],\n",
    "           [3, 5, 7]])\n",
    "\n",
    "    \"\"\"\n",
    "\n",
    "    arrays = [np.asarray(x) for x in arrays]\n",
    "    dtype = arrays[0].dtype\n",
    "\n",
    "    n = np.prod([x.size for x in arrays])\n",
    "    if out is None:\n",
    "        out = np.zeros([n, len(arrays)], dtype=dtype)\n",
    "\n",
    "    m = n / arrays[0].size\n",
    "    out[:,0] = np.repeat(arrays[0], m)\n",
    "    if arrays[1:]:\n",
    "        cartesian(arrays[1:], out=out[0:m,1:])\n",
    "        for j in range(1, arrays[0].size):\n",
    "            out[j*m:(j+1)*m,1:] = out[0:m,1:]\n",
    "    return out"
   ]
  },
  {
   "cell_type": "code",
   "execution_count": null,
   "metadata": {
    "collapsed": false
   },
   "outputs": [],
   "source": [
    "def IDW_KNMIstations(data,columns,conversion,shift,stat,baseDir,templateRaster,units):\n",
    "    \"\"\"\n",
    "    INPUT:\n",
    "    data           = dataframe that contains the hourly station data\n",
    "    columns        = parater to use for interpolation ('T')\n",
    "    conversion     = conversion to apply on the parameter (0.1)\n",
    "    shift          = shift to apply, e.g degrees to K (shift = 273.15)\n",
    "    stat           = resample hour values to daily values, can be 'mean', 'max', 'min' or 'sum'\n",
    "    baseDir        = directory to use as base to store IDW output \n",
    "                     (r'D:\\Projects\\Pr\\3492.10\\KNMI\\InterpolatedData\\Tmax//')\n",
    "    templateRaster = file to raster that will be used as template for interpolation\n",
    "                     (r'D:\\Projects\\Pr\\3492.10\\DIDSLF_NL//RD_prj_base.tif')\n",
    "    units          = units of parameter for colorbar label\n",
    "\n",
    "    OUTPUT:\n",
    "    none\n",
    "    \"\"\"\n",
    "    # select colums with parameter and the X/Y coordinates in RD projection    \n",
    "    data = data[[columns,'X_RD','Y_RD']]\n",
    "\n",
    "    # next lines are important!@\n",
    "    # resample from hour values to daily values taking the AVERAGE value of the day\n",
    "    level_values = data.index.get_level_values\n",
    "    if stat == 'max':\n",
    "        data_day = (data.groupby([level_values(i) for i in [0]] + [pd.Grouper(freq='1D', level=-1)]).max())\n",
    "    if stat == 'min':\n",
    "        data_day = (data.groupby([level_values(i) for i in [0]] + [pd.Grouper(freq='1D', level=-1)]).min())\n",
    "    if stat == 'mean':\n",
    "        data_day = (data.groupby([level_values(i) for i in [0]] + [pd.Grouper(freq='1D', level=-1)]).mean())\n",
    "    if stat == 'sum':\n",
    "        data_day = (data.groupby([level_values(i) for i in [0]] + [pd.Grouper(freq='1D', level=-1)]).sum())        \n",
    "\n",
    "    # apply conversion for temperature as the notation is in 0.1 degrees Celsius (at +1.5 mNAP)\n",
    "    data_day[columns] *= conversion\n",
    "    data_day[columns] += shift\n",
    "    data_day = data_day[pd.notnull(data_day[columns])]\n",
    "\n",
    "    # display head(5)\n",
    "    data_day.head()\n",
    "\n",
    "    # select first day of which data is available\n",
    "    date_selected = data_day.index.get_level_values('Datum').unique()[0]\n",
    "\n",
    "    # select all datA from stations that has data for this selected datE\n",
    "    day_df = data_day.iloc[data_day.index.get_level_values('Datum') == date_selected]\n",
    "\n",
    "    tree = KDTree(list(zip(day_df['X_RD'],day_df['Y_RD'])), leafsize=11)\n",
    "\n",
    "    day_df.head()\n",
    "\n",
    "    # table data is finished and right shape, next load a template raster to use as base for interpolation\n",
    "\n",
    "    # read grid as template for IDW application\n",
    "    raster, array, extent = inRaster(templateRaster)\n",
    "\n",
    "    # Get some metadata from the raster file\n",
    "    band = raster.GetRasterBand(1)\n",
    "    proj = raster.GetProjection()\n",
    "\n",
    "    cols = raster.RasterXSize\n",
    "    rows = raster.RasterYSize\n",
    "\n",
    "#     # plot as test\n",
    "#     plt.imshow(array)\n",
    "#     plt.show()\n",
    "\n",
    "    # create array with all coordinates in array using the extent\n",
    "    x_steps = np.arange(array.shape[1]) * extent[1]\n",
    "    y_steps = np.arange(array.shape[0]) * extent[-1]        \n",
    "    x_coords = extent[0] + x_steps + extent[1]/2\n",
    "    y_coords = extent[3] + y_steps + extent[-1]/2        \n",
    "    xy = cartesian([x_coords, y_coords])\n",
    "    #print ('xy coordinates shape:', xy.shape, '\\nlooks like:\\n',xy[0:5])\n",
    "\n",
    "    # trans and reshape the template array to a 1D ndarray\n",
    "    array = array.T\n",
    "    array_rshp = array.reshape(-1)\n",
    "\n",
    "    # Do it in batch mode!\n",
    "\n",
    "    # select first day of which data is available\n",
    "    for date_selected in data_day.index.get_level_values('Datum').unique():\n",
    "        print ('date:',date_selected)\n",
    "        \n",
    "        # empty 1D ndarray to slowly fill\n",
    "        newArray = np.empty(array_rshp.shape)        \n",
    "\n",
    "        # select all datA from stations that has data for this selected datE\n",
    "        day_df = data_day.iloc[data_day.index.get_level_values('Datum') == date_selected]\n",
    "\n",
    "        tree = KDTree(list(zip(day_df['X_RD'],day_df['Y_RD'])), leafsize=11)\n",
    "\n",
    "        for l in range(0,xy.shape[0],(cols*10)):\n",
    "            fr = l\n",
    "            to = l + (cols*10)\n",
    "            print('.', end=\"\", flush=True)\n",
    "\n",
    "            # select block coordinates to query and block to fill\n",
    "            xy_part = xy[fr:to]\n",
    "            #array_part = array_rshp[fr:to]\n",
    "        \n",
    "            # IDW KDTREE\n",
    "            dist, idx = tree.query(xy_part, k=8, eps=0, p=1)\n",
    "            #columns = 'T'\n",
    "            tmp = day_df[[columns]].values.T[:, idx, None]\n",
    "            tmp = np.squeeze(tmp)\n",
    "            weights = (1/dist)**2\n",
    "            q = np.sum(weights, axis=1)\n",
    "            q = q[:,None]\n",
    "            weightsq =  weights / q\n",
    "            wz = np.einsum(\"ij,ij->i\", weightsq, tmp)\n",
    "            newArray[fr:to] = wz\n",
    "\n",
    "        # reshape to shape array\n",
    "        outArray = newArray.reshape([array.shape[0],array.shape[1]]).T  \n",
    "\n",
    "        # save the file\n",
    "        file_out = columns+stat+'_'+date_selected.strftime('%Y%m%d')+'_'+str(date_selected.dayofyear).zfill(3)+'.tif'\n",
    "        path_out = os.path.join(baseDir, file_out)\n",
    "        #print ('path to save: ',path_out)\n",
    "        saveRaster(path_out, outArray, raster)\n",
    "    \n",
    "#     im = plt.imshow(outArray)\n",
    "#     plt.title(columns+stat)    \n",
    "#     cb = plt.colorbar()\n",
    "#     cb.set_label(units)\n",
    "#     plt.show()        \n",
    "    return print('Function returned no errors')"
   ]
  },
  {
   "cell_type": "code",
   "execution_count": null,
   "metadata": {
    "collapsed": false
   },
   "outputs": [],
   "source": [
    "# read locations file and set station code as object type and change columns names\n",
    "locations_file = r'D:\\Projects\\Pr\\3492.10\\KNMI//locations.csv'\n",
    "locations = pd.read_csv(locations_file)\n",
    "locations['SCODE'] = locations['SCODE'].astype(str).str.zfill(3)\n",
    "locations.rename(columns = {'X':'X_RD'}, inplace = True)\n",
    "locations.rename(columns = {'Y':'Y_RD'}, inplace = True)\n",
    "locations.head()"
   ]
  },
  {
   "cell_type": "code",
   "execution_count": null,
   "metadata": {
    "collapsed": false
   },
   "outputs": [],
   "source": [
    "# read csv data, and skip the first 81 rows and for each column skip the initial spaces\n",
    "data_file = r'D:\\Projects\\Pr\\3492.10\\KNMI\\KNMI_20170130_hourly//KNMI_20170130_hourly.txt'\n",
    "data = pd.read_csv(data_file, skiprows=81, sep=',', skipinitialspace=True)\n",
    "\n",
    "# for the hours subtract 1 as pandas daterange for hour goes from 0 - 23 \n",
    "# but data reported from 1 - 24\n",
    "data['HH'] = data['HH'] - 1\n",
    "data['HH'] = data['HH'].astype(str).str.zfill(2)\n",
    "\n",
    "# convert location id from int64 to object \n",
    "data['STN'] = data['STN'].astype(str).str.zfill(3)\n",
    "\n",
    "# combine column year-month-day with column hour and convert to datetime\n",
    "data['Datum'] = data['YYYYMMDD'].map(str) + data['HH']\n",
    "data['Datum'] = pd.to_datetime(data['Datum'], format='%Y%m%d%H')\n",
    "\n",
    "# join the data and location table on station name\n",
    "data = pd.merge(data, locations, how='inner', left_on='STN', right_on='SCODE')\n",
    "\n",
    "# set multiindex based on location and datum column\n",
    "data.set_index(['STN','Datum'], inplace=True) # \n",
    "# display head(5)\n",
    "data.head()"
   ]
  },
  {
   "cell_type": "code",
   "execution_count": null,
   "metadata": {
    "collapsed": false
   },
   "outputs": [],
   "source": [
    "#data['P']*0.1"
   ]
  },
  {
   "cell_type": "code",
   "execution_count": null,
   "metadata": {
    "collapsed": true
   },
   "outputs": [],
   "source": [
    "# template raster file\n",
    "#templateRaster = r'D:\\Projects\\Pr\\3492.10\\DIDSLF_NL//RD_prj_base.tif'\n",
    "templateRaster = r'D:\\Projects\\Pr\\3492.10\\ALBEDO\\high_resolution//base_v2_zeros.tif'"
   ]
  },
  {
   "cell_type": "code",
   "execution_count": null,
   "metadata": {
    "collapsed": true
   },
   "outputs": [],
   "source": [
    "# APPLY THE INTERPOLATION FOR EACH PARAMETER"
   ]
  },
  {
   "cell_type": "code",
   "execution_count": null,
   "metadata": {
    "collapsed": false
   },
   "outputs": [],
   "source": [
    "# T        = Temperatuur (in 0.1 graden Celsius) op 1.50 m hoogte tijdens de waarneming; \n",
    "columns        = 'T'\n",
    "conversion     = 0.1\n",
    "shift          = 0\n",
    "stat           = 'mean'\n",
    "units          = 'gemiddelde dag temperatuur (°C)'\n",
    "\n",
    "# save in this directory\n",
    "baseDir        = os.path.join(r'D:\\Projects\\Pr\\3492.10\\KNMI\\InterpolatedDataHighRes',columns+stat)\n",
    "\n",
    "# do the work\n",
    "IDW_KNMIstations(data,columns,conversion,shift,stat,baseDir,templateRaster,units)"
   ]
  },
  {
   "cell_type": "code",
   "execution_count": null,
   "metadata": {
    "collapsed": false
   },
   "outputs": [],
   "source": [
    "# Tmin        = MIN Temperatuur (in 0.1 graden Celsius) op 1.50 m hoogte tijdens de waarneming; \n",
    "columns        = 'T'\n",
    "conversion     = 0.1\n",
    "shift          = 0\n",
    "stat           = 'min'\n",
    "units          = 'minimum dag temperatuur (°C)'\n",
    "\n",
    "# save in this directory\n",
    "baseDir        = os.path.join(r'D:\\Projects\\Pr\\3492.10\\KNMI\\InterpolatedDataHighRes',columns+stat)\n",
    "\n",
    "# do the work\n",
    "IDW_KNMIstations(data,columns,conversion,shift,stat,baseDir,templateRaster,units)"
   ]
  },
  {
   "cell_type": "code",
   "execution_count": null,
   "metadata": {
    "collapsed": false
   },
   "outputs": [],
   "source": [
    "# Tmax        = MAX Temperatuur (in 0.1 graden Celsius) op 1.50 m hoogte tijdens de waarneming; \n",
    "columns        = 'T'\n",
    "conversion     = 0.1\n",
    "shift          = 0\n",
    "stat           = 'max'\n",
    "units          = 'maximum dag temperatuur (°C)'\n",
    "\n",
    "# save in this directory\n",
    "baseDir        = os.path.join(r'D:\\Projects\\Pr\\3492.10\\KNMI\\InterpolatedDataHighRes',columns+stat)\n",
    "\n",
    "# do the work\n",
    "IDW_KNMIstations(data,columns,conversion,shift,stat,baseDir,templateRaster,units)"
   ]
  },
  {
   "cell_type": "code",
   "execution_count": null,
   "metadata": {
    "collapsed": false
   },
   "outputs": [],
   "source": [
    "# T        = Temperatuur (in 0.1 graden Celsius) op 1.50 m hoogte tijdens de waarneming; \n",
    "columns        = 'T'\n",
    "conversion     = 0.1\n",
    "shift          = 273.15\n",
    "stat           = 'mean'\n",
    "units          = 'gemiddelde dag temperatuur (K)'\n",
    "\n",
    "# save in this directory\n",
    "baseDir        = os.path.join(r'D:\\Projects\\Pr\\3492.10\\KNMI\\InterpolatedDataHighRes','K'+stat)\n",
    "\n",
    "# do the work\n",
    "IDW_KNMIstations(data,columns,conversion,shift,stat,baseDir,templateRaster,units)"
   ]
  },
  {
   "cell_type": "code",
   "execution_count": null,
   "metadata": {
    "collapsed": false
   },
   "outputs": [],
   "source": [
    "# T        = Temperatuur (in 0.1 graden Celsius) op 1.50 m hoogte tijdens de waarneming; \n",
    "columns        = 'T'\n",
    "conversion     = 0.1\n",
    "shift          = 273.15\n",
    "stat           = 'min'\n",
    "units          = 'minimum dag temperatuur (K)'\n",
    "\n",
    "# save in this directory\n",
    "baseDir        = os.path.join(r'D:\\Projects\\Pr\\3492.10\\KNMI\\InterpolatedDataHighRes','K'+stat)\n",
    "\n",
    "# do the work\n",
    "IDW_KNMIstations(data,columns,conversion,shift,stat,baseDir,templateRaster,units)"
   ]
  },
  {
   "cell_type": "code",
   "execution_count": null,
   "metadata": {
    "collapsed": false
   },
   "outputs": [],
   "source": [
    "# T        = Temperatuur (in 0.1 graden Celsius) op 1.50 m hoogte tijdens de waarneming; \n",
    "columns        = 'T'\n",
    "conversion     = 0.1\n",
    "shift          = 273.15\n",
    "stat           = 'max'\n",
    "units          = 'maximum dag temperatuur (K)'\n",
    "\n",
    "# save in this directory\n",
    "baseDir        = os.path.join(r'D:\\Projects\\Pr\\3492.10\\KNMI\\InterpolatedDataHighRes','K'+stat)\n",
    "\n",
    "# do the work\n",
    "IDW_KNMIstations(data,columns,conversion,shift,stat,baseDir,templateRaster,units)"
   ]
  },
  {
   "cell_type": "code",
   "execution_count": null,
   "metadata": {
    "collapsed": false
   },
   "outputs": [],
   "source": [
    "# P        = Luchtdruk (in 0.1 hPa) herleid naar zeeniveau, tijdens de waarneming; \n",
    "columns        = 'P'\n",
    "conversion     = 0.1\n",
    "shift          = 0\n",
    "stat           = 'mean'\n",
    "units          = 'luchtdruk (kPa) op hoogte z0'\n",
    "\n",
    "# save in this directory\n",
    "baseDir        = os.path.join(r'D:\\Projects\\Pr\\3492.10\\KNMI\\InterpolatedDataHighRes',columns+stat)\n",
    "\n",
    "# do the work\n",
    "IDW_KNMIstations(data,columns,conversion,shift,stat,baseDir,templateRaster,units)"
   ]
  },
  {
   "cell_type": "code",
   "execution_count": null,
   "metadata": {
    "collapsed": false
   },
   "outputs": [],
   "source": [
    "# N        = Bewolking (bedekkingsgraad van de bovenlucht in achtsten), tijdens de waarneming (9=bovenlucht onzichtbaar); \n",
    "columns        = 'N'\n",
    "conversion     = 1/8.\n",
    "shift          = 0\n",
    "stat           = 'mean'\n",
    "units          = 'bedekkingsgraad van de bewolking (-)'\n",
    "\n",
    "# save in this directory\n",
    "baseDir        = os.path.join(r'D:\\Projects\\Pr\\3492.10\\KNMI\\InterpolatedDataHighRes',columns+stat)\n",
    "\n",
    "# do the work\n",
    "IDW_KNMIstations(data,columns,conversion,shift,stat,baseDir,templateRaster,units)"
   ]
  },
  {
   "cell_type": "code",
   "execution_count": null,
   "metadata": {
    "collapsed": false
   },
   "outputs": [],
   "source": [
    "# U        = Relatieve vochtigheid (in procenten) op 1.50 m hoogte tijdens de waarneming; \n",
    "columns        = 'U'\n",
    "conversion     = 0.01\n",
    "shift          = 0\n",
    "stat           = 'mean'\n",
    "units          = 'relatieve vochtigheid (-)'\n",
    "\n",
    "# save in this directory\n",
    "baseDir        = os.path.join(r'D:\\Projects\\Pr\\3492.10\\KNMI\\InterpolatedDataHighRes',columns+stat)\n",
    "\n",
    "# do the work\n",
    "IDW_KNMIstations(data,columns,conversion,shift,stat,baseDir,templateRaster,units)"
   ]
  },
  {
   "cell_type": "code",
   "execution_count": null,
   "metadata": {
    "collapsed": false
   },
   "outputs": [],
   "source": [
    "# Q        = Globale straling (in J/cm2) per uurvak; \n",
    "columns        = 'Q'\n",
    "conversion     = 8.64\n",
    "shift          = 0\n",
    "stat           = 'sum'\n",
    "units          = 'dagsom globale straling (W/m2)'\n",
    "# returns Q Globale straling (in W/m2) per dagvak; \n",
    "\n",
    "# save in this directory\n",
    "baseDir        = os.path.join(r'D:\\Projects\\Pr\\3492.10\\KNMI\\InterpolatedDataHighRes',columns+stat)\n",
    "\n",
    "# do the work\n",
    "IDW_KNMIstations(data,columns,conversion,shift,stat,baseDir,templateRaster,units)"
   ]
  }
 ],
 "metadata": {
  "kernelspec": {
   "display_name": "Python 3",
   "language": "python",
   "name": "python3"
  },
  "language_info": {
   "codemirror_mode": {
    "name": "ipython",
    "version": 3
   },
   "file_extension": ".py",
   "mimetype": "text/x-python",
   "name": "python",
   "nbconvert_exporter": "python",
   "pygments_lexer": "ipython3",
   "version": "3.5.2"
  }
 },
 "nbformat": 4,
 "nbformat_minor": 2
}
