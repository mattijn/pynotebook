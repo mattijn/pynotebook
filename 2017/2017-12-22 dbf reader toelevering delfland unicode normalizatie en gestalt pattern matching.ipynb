{
 "cells": [
  {
   "cell_type": "code",
   "execution_count": 1,
   "metadata": {},
   "outputs": [],
   "source": [
    "import pandas as pd\n",
    "import geopandas as gpd\n",
    "import hkvsobekpy as hkv\n",
    "from hkvsobekpy.core.utils import compare_df_column_his_list as compare_gdf_his"
   ]
  },
  {
   "cell_type": "code",
   "execution_count": 2,
   "metadata": {},
   "outputs": [],
   "source": [
    "shp_file = r'D:\\Projects\\Pr\\3651.10\\Toeleveringen\\08122017_AnneJopen_wetransfer\\test_decoding.dbf'\n",
    "reachseg_his = r'D:\\Projects\\Pr\\3651.10\\Toeleveringen\\08122017_AnneJopen_wetransfer\\REACHSEG.HIS'\n",
    "gdf = gpd.read_file(shp_file)"
   ]
  },
  {
   "cell_type": "code",
   "execution_count": 3,
   "metadata": {},
   "outputs": [],
   "source": [
    "gdf.loc[1,'PARAMETERS'] = 'Discharge mean(m3/s)'\n",
    "gdf.loc[2,'PARAMETERS'] = 'DiscHaRge Mean'\n",
    "gdf.loc[3,'PARAMETERS'] = 'Discharge mean (m3/s)'"
   ]
  },
  {
   "cell_type": "code",
   "execution_count": 4,
   "metadata": {},
   "outputs": [],
   "source": [
    "rseg = hkv.read_his.LeesMetadata(reachseg_his)\n",
    "his_locations = rseg.KrijgLokaties()\n",
    "his_parameters = rseg.KrijgParameters()\n",
    "his_timesteps = rseg.KrijgTijdstappen()"
   ]
  },
  {
   "cell_type": "code",
   "execution_count": 5,
   "metadata": {},
   "outputs": [
    {
     "name": "stdout",
     "output_type": "stream",
     "text": [
      "Discharge mean(m3/s) changed into Discharge mean(m³/s)\n",
      "DiscHaRge Mean changed into Discharge mean(m³/s)\n",
      "Discharge mean (m3/s) changed into Discharge mean(m³/s)\n"
     ]
    }
   ],
   "source": [
    "gdf2 = compare_gdf_his(df=gdf, df_column_key='PARAMETERS', his_parameters=his_parameters,\n",
    "                       normalize_by_unicode=True, include_simularity=True,\n",
    "                       sequence_simularity=0.82)"
   ]
  },
  {
   "cell_type": "markdown",
   "metadata": {},
   "source": [
    "Truth : `Discharge mean(m³/s)`\n",
    "\n",
    "Options:\n",
    "\n",
    "a. : `Discharge mean (m3/s)`\n",
    "\n",
    "b. : `DiscHaRge Mean`\n",
    "\n",
    "c. : `Discharge mean(m3/s)`\n",
    "\n",
    "\n",
    "Settings:\n",
    "`normalize_by_unicode=True`, `include_simularity=False`\n",
    "\n",
    "`Discharge mean (m3/s)` (`a`) is mapped\n",
    "\n",
    "  .\n",
    "  \n",
    "`normalize_by_unicode=False`, `include_simularity=True`\n",
    "\n",
    "`Discharge mean (m3/s)` (`a`) is mapped and\n",
    "\n",
    "`Discharge mean(m3/s)` (`c`) is mapped\n",
    "\n",
    "  .\n",
    "  \n",
    "`normalize_by_unicode=True`, `include_simularity=True`\n",
    "\n",
    "`Discharge mean (m3/s)` (`a`) is mapped and\n",
    "\n",
    "`DiscHaRge Mean` (`b`) is mapped and \n",
    "\n",
    "`Discharge mean(m3/s)` (`c`) is mapped."
   ]
  }
 ],
 "metadata": {
  "kernelspec": {
   "display_name": "Python 3",
   "language": "python",
   "name": "python3"
  },
  "language_info": {
   "codemirror_mode": {
    "name": "ipython",
    "version": 3
   },
   "file_extension": ".py",
   "mimetype": "text/x-python",
   "name": "python",
   "nbconvert_exporter": "python",
   "pygments_lexer": "ipython3",
   "version": "3.5.2"
  }
 },
 "nbformat": 4,
 "nbformat_minor": 2
}
