{
 "cells": [
  {
   "cell_type": "code",
   "execution_count": 1,
   "metadata": {
    "collapsed": false,
    "deletable": true,
    "editable": true
   },
   "outputs": [],
   "source": [
    "import os\n",
    "try:\n",
    "    from pathlib import Path\n",
    "except:    \n",
    "    from pathlib2 import Path\n",
    "import argparse\n",
    "import sys\n",
    "import itertools\n",
    "from datetime import datetime, timedelta\n",
    "import matplotlib.pyplot as plt\n",
    "import numpy as np\n",
    "import pandas as pd\n",
    "from scipy import optimize\n",
    "try:\n",
    "    xrange\n",
    "except NameError:\n",
    "    xrange = range    \n",
    "%matplotlib inline"
   ]
  },
  {
   "cell_type": "code",
   "execution_count": 2,
   "metadata": {
    "collapsed": false,
    "deletable": true,
    "editable": true
   },
   "outputs": [],
   "source": [
    "class HISreader(object):\n",
    "    \n",
    "    class __errors__(object):\n",
    "        \"\"\"\n",
    "        error class met verschillende foutmeldingen\n",
    "        \"\"\"        \n",
    "        def fileNotFound():\n",
    "            raise IOError('HIS-bestand bestaat niet. Is je pad goed?')        \n",
    "        def metadataNotSet():\n",
    "            raise AttributeError('Metadata is niet bekend. Zet met sobek.LeesMetadata(hisFileNaam)')\n",
    "        def metadataError():\n",
    "            raise AttributeError('Metadata kon tijdens de functie LeesMetadata() niet bepaald worden')\n",
    "        def administratieError():            \n",
    "            raise AttributeError('Administratieblok van his-file kan niet worden uitgelezen')\n",
    "        def locatieNotFound():            \n",
    "            raise AttributeError('Locatie niet gevonden. Is het een bestaande locatie?')\n",
    "        def variabeleNotFound():            \n",
    "            raise AttributeError('Parameter niet gevonden. Is het een bestaande parameter?')\n",
    "        def jaarmaxError():\n",
    "            raise ValueError('Voor de MultiWaardenArray functie kan alleen `year` of `none` gebruikt worden als voor de jaarmax_as parameter')   \n",
    "    \n",
    "    def __init__(self):\n",
    "        \"\"\"\n",
    "        SobekResultaten class. Class met methodes om een .his bestand \n",
    "        uit te lezen.\n",
    "        \"\"\"\n",
    "        # initatie van lege immutable objects\n",
    "        # zie: https://stackoverflow.com/a/22526544/2459096\n",
    "        # python2.7: obj = argparse.Namespace()\n",
    "        # python3.x: obj = types.SimpleNamespace()\n",
    "        self.hisFile = argparse.Namespace()\n",
    "        self.hisFile.tijdstapInfo = argparse.Namespace()\n",
    "        self.hisFile.variabeleInfo = argparse.Namespace()\n",
    "        self.hisFile.locatieInfo = argparse.Namespace()\n",
    "        \n",
    "    def _leesHeader(self, f):\n",
    "        \"\"\"\n",
    "        Lees de header van het bestand\n",
    "\n",
    "        Parameters\n",
    "        ----------\n",
    "        f : BufferedReader    \n",
    "            Leesbaar ruw IO object\n",
    "\n",
    "        Returns\n",
    "        -------\n",
    "        header : array\n",
    "            De offset van de locatie in bytes    \n",
    "        \"\"\"\n",
    "        header = []\n",
    "        for i in range(4):    \n",
    "            header.append(f.read(40).decode('windows-1252'))  \n",
    "        return header           \n",
    "        \n",
    "    def _infoFromHeader(self,tijdstapInfo):\n",
    "        \"\"\"\n",
    "        Lees informatie uit de header\n",
    "\n",
    "        Parameters\n",
    "        ----------\n",
    "        tijdstapInfo : str\n",
    "            De locatie in string format\n",
    "\n",
    "        Returns\n",
    "        -------\n",
    "        beginDate : datetime \n",
    "            De begindatum T0, waarop de andere datetime gebasseerd zijn\n",
    "        timeStepInterval : str\n",
    "            De eenheid waarin de stapgrote van de datetime objecten berekend zijn, \n",
    "            dit kan zijn s [seconds], m [minutes], h[hours], d[days]\n",
    "        timeStepFactor : int\n",
    "            Factor welke op de stapgrote toegepast moet worden\n",
    "        \"\"\"\n",
    "\n",
    "        items = str(tijdstapInfo).split(' ')    \n",
    "        beginDate = datetime.strptime(items[1],'%Y.%m.%d')\n",
    "\n",
    "        scu = items[-1].replace(')','').replace(\"'\",'')\n",
    "        timeStepInterval =  scu[(len(scu) - 1)]\n",
    "        timeStepFactor = int(scu[0:len(scu)-1])\n",
    "\n",
    "        return beginDate, timeStepInterval, timeStepFactor    \n",
    "\n",
    "    def _leesAdmin(self, f):\n",
    "        \"\"\"\n",
    "        Lees het administratie blok\n",
    "        \"\"\"\n",
    "        self.hisFile.header = self._leesHeader(f)\n",
    "\n",
    "        # lees info van header\n",
    "        self.hisFile.tijdstapInfo.beginDate, self.hisFile.tijdstapInfo.timeStepInterval, self.hisFile.tijdstapInfo.timeStepFactor = self._infoFromHeader(self.hisFile.header[3])        \n",
    "\n",
    "        # lees aantal variablelen\n",
    "        self.hisFile.variabeleInfo.numVar = np.fromfile(f,np.int,1)[0]    \n",
    "\n",
    "        # lees aantal locaties\n",
    "        self.hisFile.locatieInfo.numLoc = np.fromfile(f,np.int,1)[0]    \n",
    "\n",
    "        # lees variabelen\n",
    "        self.hisFile.variabeleInfo.variabelen = []\n",
    "        for i in range(self.hisFile.variabeleInfo.numVar):\n",
    "            self.hisFile.variabeleInfo.variabelen.append(f.read(20).decode('windows-1252'))    \n",
    "\n",
    "        # Lees locaties\n",
    "        self.hisFile.locatieInfo.id = []\n",
    "        self.hisFile.locatieInfo.locaties = []\n",
    "        for i in range(self.hisFile.locatieInfo.numLoc):            \n",
    "            self.hisFile.locatieInfo.id.append(np.fromfile(f,np.int,1)[0])\n",
    "            self.hisFile.locatieInfo.locaties.append(f.read(20).decode('windows-1252').rstrip())\n",
    "            #self.hisFile.locatieInfo.locaties.append(locatieInfo)\n",
    "\n",
    "        # lees tijdstappen\n",
    "        self.hisFile.headerSize = f.tell()\n",
    "        self.hisFile.locatieInfo.numTime = int((self.hisFile.hisFileSize - self.hisFile.headerSize) /\n",
    "                      (self.hisFile.locatieInfo.numLoc * self.hisFile.variabeleInfo.numVar + 1) / 4)\n",
    "\n",
    "        aantalBytesPerStap = int((self.hisFile.hisFileSize - self.hisFile.headerSize) / self.hisFile.locatieInfo.numTime)\n",
    "\n",
    "        byteNr = self.hisFile.headerSize\n",
    "\n",
    "        self.hisFile.tijdstapInfo.moments = []\n",
    "        \n",
    "        self.hisFile.tijdstapInfo.offset = []\n",
    "        for i in range(self.hisFile.locatieInfo.numTime):\n",
    "            f.seek(byteNr)\n",
    "            moment = np.fromfile(f,np.int,1)[0]\n",
    "\n",
    "            if self.hisFile.tijdstapInfo.timeStepInterval == 's':\n",
    "                self.hisFile.tijdstapInfo.moments.append(self.hisFile.tijdstapInfo.beginDate + timedelta(seconds = (float(moment) * self.hisFile.tijdstapInfo.timeStepFactor)))\n",
    "            elif self.hisFile.tijdstapInfo.timeStepInterval == 'm':\n",
    "                self.hisFile.tijdstapInfo.moments.append(self.hisFile.tijdstapInfo.beginDate + timedelta(minutes = (float(moment) * self.hisFile.tijdstapInfo.timeStepFactor)))\n",
    "            elif self.hisFile.tijdstapInfo.timeStepInterval == 'h':\n",
    "                self.hisFile.tijdstapInfo.moments.append(self.hisFile.tijdstapInfo.beginDate + timedelta(hours= (float(moment) * self.hisFile.tijdstapInfo.timeStepFactor)))\n",
    "            elif self.hisFile.tijdstapInfo.timeStepInterval == 'd':\n",
    "                self.hisFile.tijdstapInfo.moments.append(self.hisFile.tijdstapInfo.beginDate + timedelta(days= (float(moment) * self.hisFile.tijdstapInfo.timeStepFactor)))\n",
    "            self.hisFile.tijdstapInfo.offset.append(f.tell())\n",
    "            byteNr += aantalBytesPerStap\n",
    "        self.hisFile.tijdstapInfo.N = np.array(his.hisFile.tijdstapInfo.moments).max().year - np.array(his.hisFile.tijdstapInfo.moments).min().year + 1\n",
    "        return True\n",
    "\n",
    "    def _locOffset(self, loc, var):\n",
    "        \"\"\"\n",
    "        Krijg de offset van de variabele\n",
    "\n",
    "        Parameters\n",
    "        ----------\n",
    "        loc : string    \n",
    "            De locatie in kwestie\n",
    "        var : string\n",
    "            De variabele in kwestie        \n",
    "\n",
    "        Returns\n",
    "        -------\n",
    "        locOffset : int\n",
    "            De offset van de locatie in bytes\n",
    "        \"\"\"\n",
    "        #  Zoek de index van de variabele\n",
    "        try:\n",
    "            varFound = self.hisFile.variabeleInfo.variabelen.index(var)\n",
    "        except :\n",
    "            self.__errors__.variabeleNotFound()            \n",
    "\n",
    "        # Zoek de index/id van de locatie\n",
    "        try:\n",
    "            # removed dictionary\n",
    "            # locFound = next((item for item in self.hisFile.locatieInfo.locaties if item['locatie'] == loc))\n",
    "            locFound = self.hisFile.locatieInfo.locaties.index(loc)\n",
    "        except :\n",
    "            self.__errors__.locatieNotFound()\n",
    "\n",
    "        locOffset = locFound * self.hisFile.variabeleInfo.numVar * 4 + varFound * 4\n",
    "\n",
    "        return locOffset   \n",
    "    \n",
    "    def KrijgLokaties(self):\n",
    "        \"\"\"\n",
    "        Krijg de locaties beschikbaar in de his-file. Vereiste is dat de LeesMetadata functie is uitgelezen\n",
    "        \n",
    "        Returns\n",
    "        -------\n",
    "        locaties : list\n",
    "            De locaties welke bekend zijn binnen het his-bestand\n",
    "        \"\"\"\n",
    "        locaties = self.hisFile.locatieInfo.locaties\n",
    "        return locaties\n",
    "    \n",
    "    def KrijgParameters(self):\n",
    "        \"\"\"\n",
    "        Krijg de parameters beschikbaar in de his-file. Vereiste is dat de LeesMetadata functie is uitgelezen\n",
    "        \n",
    "        Returns\n",
    "        -------\n",
    "        parameters : list\n",
    "            De parameters welke bekend zijn binnen het his-bestand\n",
    "        \"\"\"\n",
    "        parameters = self.hisFile.variabeleInfo.variabelen\n",
    "        return parameters\n",
    "\n",
    "    def KrijgTijdstappen(self):\n",
    "        \"\"\"\n",
    "        Krijg de tijdstappen beschikbaar in de his-file. Vereiste is dat de LeesMetadata functie is uitgelezen\n",
    "        \n",
    "        Returns\n",
    "        -------\n",
    "        tijdstappen : list\n",
    "            De tijdstappen welke bekend zijn binnen het his-bestand\n",
    "        \"\"\"\n",
    "        tijdstappen = self.hisFile.tijdstapInfo.moments\n",
    "        return tijdstappen    \n",
    "\n",
    "    def LeesMetadata(self,hisFileNaam):\n",
    "        \"\"\"\n",
    "        Open het bestand\n",
    "\n",
    "        Parameters\n",
    "        ----------\n",
    "        hisFileNaam : str\n",
    "            Volledige pad van het bestand\n",
    "\n",
    "        Returns\n",
    "        -------\n",
    "        Str : 'Metadata Ingelezen'\n",
    "        \n",
    "        \"\"\"\n",
    "        self.hisFile.metaDataIngelezen = False\n",
    "        myHisFile = Path(hisFileNaam)\n",
    "        try:\n",
    "            p = myHisFile.resolve()\n",
    "        except FileNotFoundError:\n",
    "            # doesn't exist\n",
    "            self.__errors__.fileNotFound()\n",
    "        else:\n",
    "            # exists    \n",
    "            self.hisFile.hisFileName = str(p)            \n",
    "            # set length filesize (bytes)\n",
    "            statInfo = os.stat(his_file)\n",
    "            self.hisFile.hisFileSize = statInfo.st_size\n",
    "            #f = open(str(p), \"rb\")\n",
    "            with open(self.hisFile.hisFileName, \"rb\") as f:\n",
    "                try:\n",
    "                    self._leesAdmin(f)        \n",
    "                except:\n",
    "                    self.__errors__.administratieError()\n",
    "            \n",
    "        self.hisFile.metaDataIngelezen = True\n",
    "        return 'Metadata Ingelezen'\n",
    "    \n",
    "    def SelectPeriodeWaardenArray(self, df, startMMdd=(1,1), endMMdd=(12,31), jaarmax_as='date'):\n",
    "        \"\"\"\n",
    "        Selecteer op basis van een DataFrame de gebeurtenissen binnen een bepaalde periode (bijv. een groeiseizoen).\n",
    "        Waarbij er de mogelijkheid is om de gebeurtenissen binnen deze periode te groeperen.\n",
    "        Pas op: in de `EnkeleWaardenArray` en `MultiWaardenArray` wordt deze functie intern ook aangeroepen.\n",
    "        \n",
    "        Parameters\n",
    "        ----------\n",
    "        df : pandas.DataFrame\n",
    "            DataFrame met datetime als index\n",
    "        startMMdd : tuple\n",
    "            Tuple in het formaat (M,d). Bepaling van de start datum van de periode. Genoemde datum is inclusief\n",
    "        endMMdd : tuple\n",
    "            Tuple in het formaat (M,d). Bepaling van de eind datum van de periode. Genoemde datum is inclusief\n",
    "        jaarmax_as : str\n",
    "            Mogelijkheden om de DataFrame te groeperen op basis van jaar om het jaarmaxima te bepalen. \n",
    "            Het jaarmaxima wordt bepaald nadat de slice van de jaarlijkse periode is toegepast. \n",
    "            Keuze bestaat uit:            \n",
    "            'date' - bepaalt de jaarlijkse maxima en geeft de maximale waarde terug met de exacte datum van deze gebeurtenis\n",
    "            'year' - bepaalt de jaarlijkse maxima en geeft de maximale waarde terug met het jaar van de gebeurtenis\n",
    "            'none' - retourneert alle gebeurtenissen in elk jaar\n",
    "            \n",
    "        Returns\n",
    "        -------\n",
    "        df : pandas.DataFrame\n",
    "            DataFrame met datetime als index\n",
    "            \n",
    "        Examples\n",
    "        --------\n",
    "        Voor bepaling van het groeiseizoen:\n",
    "        Bijvoorbeeld het jaarlijks groeseizoen loopt van 15 april tot en met 11 oktober\n",
    "        startMMdd = (4,15)\n",
    "        endMMdd = (10,11)\n",
    "        \n",
    "        betekent, slice elk jaar in april na de 15e inclusief tot aan oktober voor de 11e inclusief\n",
    "        \n",
    "        Voor bepaling van het jaarmaxima:\n",
    "        groupby = 'date'\n",
    "                    A\n",
    "        2012-10-06  1501\n",
    "        2013-04-22  1534\n",
    "        2014-04-18  1591\n",
    "\n",
    "        groupby = 'year'\n",
    "                    A\n",
    "        2012        1501\n",
    "        2013        1534\n",
    "        2014        1591\n",
    "        \"\"\"\n",
    "        self.startMM, self.startdd = startMMdd\n",
    "        self.endMM, self.enddd = endMMdd    \n",
    "        \n",
    "        # https://stackoverflow.com/a/45996897/2459096\n",
    "        # maak een month_day dataframe van de MultiYear DataFrame\n",
    "        month_day = pd.concat([\n",
    "                        df.index.to_series().dt.month, \n",
    "                        df.index.to_series().dt.day\n",
    "                    ], axis=1).apply(tuple, axis=1)        \n",
    "        \n",
    "        # selecteer alleen de gebeurtenissen binnen een jaarlijks terugkerende periode \n",
    "        df = df[(month_day >= (self.startMM, self.startdd)) & (month_day <= (self.endMM, self.enddd))]\n",
    "\n",
    "        if jaarmax_as=='year':\n",
    "            # groupby year en selecteer de max. \n",
    "            # hetvolgende retourneert alleen jaren + max, willen van elk jaar de datum + max\n",
    "            df = df.groupby(df.index.year).max()\n",
    "\n",
    "        elif jaarmax_as=='date':\n",
    "            # groupy year en selecteer de max. Returned volle datums waar de max van dat jaar was \n",
    "            key = df.columns.levels[1][0]\n",
    "            level = df.columns.names[1]\n",
    "            slice_col = df.columns.levels[0][0]\n",
    "\n",
    "            idx = df.xs(key=key, level=level, axis=1).groupby([df.index.year])[slice_col].transform(max) == df.xs(key=key, level=level, axis=1)[slice_col]\n",
    "            df = df[idx]\n",
    "        \n",
    "        elif jaarmax_as=='none':\n",
    "            #doe niets\n",
    "            pass\n",
    "    \n",
    "        return df\n",
    "\n",
    "    def EnkeleWaardenArray(self, locatie, parameter, startMMdd=(1,1), endMMdd=(12,31), jaarmax_as='date'):\n",
    "        \"\"\"\n",
    "        Lees de waarden van een enkele variabele op een enkele locatie\n",
    "\n",
    "        Parameters\n",
    "        ----------\n",
    "        locatie : string    \n",
    "            De locatie in kwestie (alleen de eerste 21 karakters, anders cutoff)\n",
    "        parameter : string\n",
    "            De variabele in kwestie (alleen de eerste 21 karakters, anders cutoff)\n",
    "        startMMdd : tuple\n",
    "            Tuple in het formaat (M,d). Bepaling van de start datum van de periode. Genoemde datum is inclusief\n",
    "        endMMdd : tuple\n",
    "            Tuple in het formaat (M,d). Bepaling van de eind datum van de periode. Genoemde datum is inclusief\n",
    "        jaarmax_as : str\n",
    "            Mogelijkheden om de DataFrame te groeperen op basis van jaar om het jaarmaxima te bepalen. \n",
    "            Het jaarmaxima wordt bepaald nadat de slice van de jaarlijkse periode is toegepast. \n",
    "            Keuze bestaat uit:            \n",
    "            'date' - bepaalt de jaarlijkse maxima en geeft de maximale waarde terug met de exacte datum van deze gebeurtenis\n",
    "            'year' - bepaalt de jaarlijkse maxima en geeft de maximale waarde terug met het jaar van de gebeurtenis\n",
    "            'none' - retourneert alle gebeurtenissen in elk jaar            \n",
    "\n",
    "        Returns\n",
    "        -------\n",
    "        df : DataFrame\n",
    "            DataFrame met een multicolumn van variabele en locaties met datetime index en \n",
    "            de bijbehorende waarden\n",
    "            \n",
    "        Examples\n",
    "        -----------\n",
    "        locatie = '1'\n",
    "        parameter = 'Waterlevel maximum (mNAP)'\n",
    "        \n",
    "        Intern worden alle inputs afgekort op [0:20] en ziet de tool het als:\n",
    "        locatie = '1'\n",
    "        parameter = 'Waterlevel maximum ('\n",
    "\n",
    "        Voor bepaling van het groeiseizoen:\n",
    "        Bijvoorbeeld het jaarlijks groeseizoen loopt van 15 april tot en met 11 oktober\n",
    "        startMMdd = (4,15)\n",
    "        endMMdd = (10,11)\n",
    "        \n",
    "        betekent, slice elk jaar in april na de 15e inclusief tot aan oktober voor de 11e inclusief\n",
    "        \n",
    "        Voor bepaling van het jaarmaxima:\n",
    "        groupby = 'date'\n",
    "                    A\n",
    "        2012-10-06  1501\n",
    "        2013-04-22  1534\n",
    "        2014-04-18  1591\n",
    "\n",
    "        groupby = 'year'\n",
    "                    A\n",
    "        2012        1501\n",
    "        2013        1534\n",
    "        2014        1591\n",
    "        \"\"\"\n",
    "\n",
    "        if not hasattr(self.hisFile, 'metaDataIngelezen'):\n",
    "            self.__errors__.metadataNotSet()\n",
    "        \n",
    "        if self.hisFile.metaDataIngelezen == False:\n",
    "            self.__errors__.metadataError()\n",
    "        \n",
    "        loc = locatie[0:20]\n",
    "        var = parameter[0:20]\n",
    "        \n",
    "        with open(self.hisFile.hisFileName, \"rb\") as f: \n",
    "            varLocOffset = self._locOffset(loc, var)\n",
    "            values= []\n",
    "\n",
    "            for i in range(self.hisFile.locatieInfo.numTime):\n",
    "                offset = self.hisFile.tijdstapInfo.offset[i] + varLocOffset                \n",
    "                seek = f.seek(offset)\n",
    "                values.append(np.fromfile(f,np.float32,1)[0])\n",
    "\n",
    "        # maak dataframe\n",
    "        df = pd.DataFrame(data=values, index=self.hisFile.tijdstapInfo.moments, columns=[(loc,var)])\n",
    "        df.columns = pd.MultiIndex.from_tuples(df.columns, names=['locatie','parameter'])\n",
    "        \n",
    "        df = self.SelectPeriodeWaardenArray(df, startMMdd=startMMdd, endMMdd=endMMdd, jaarmax_as=jaarmax_as)\n",
    "\n",
    "        return df#.T.squeeze()\n",
    "    \n",
    "    def MultiWaardenArary(self, locaties, parameters, startMMdd=(1,1), endMMdd=(12,31), \n",
    "                          jaarmax_as='year', drop_lege_jaren=True):\n",
    "        \"\"\"\n",
    "        Lees de waarden van meerdere variabelen op meerdere locaties\n",
    "\n",
    "        Parameters\n",
    "        ----------\n",
    "        locaties : list    \n",
    "            Een list van de locaties (type: str) in kwestie (alleen de eerste 21 karakters, anders cutoff) \n",
    "        parameters : list\n",
    "            Een list van de parameters in kwestie (alleen de eerste 21 karakters, anders cutoff) \n",
    "        startMMdd : tuple\n",
    "            Tuple in het formaat (M,d). Bepaling van de start datum van de periode. Genoemde datum is inclusief\n",
    "        endMMdd : tuple\n",
    "            Tuple in het formaat (M,d). Bepaling van de eind datum van de periode. Genoemde datum is inclusief\n",
    "        jaarmax_as : str\n",
    "            Mogelijkheden om de DataFrame te groeperen op basis van jaar om het jaarmaxima te bepalen. \n",
    "            Het jaarmaxima wordt bepaald nadat de slice van de jaarlijkse periode is toegepast. \n",
    "            Keuze bestaat uit:            \n",
    "            'year' - bepaalt de jaarlijkse maxima en geeft de maximale waarde terug met het jaar van de gebeurtenis\n",
    "            'none' - retourneert alle gebeurtenissen in elk jaar  \n",
    "        drop_lege_jaren : boolean\n",
    "            Mogelijkheid om de jaren te verwijderen welke geen gebeurtenissen bevatten voor de gegeven selectie. \n",
    "            Wanneer dit als `True` is geselecteerd zal het jaar alleen gedropt worden als deze niet bestaat voor \n",
    "            alle locaties/parameters in de selectie\n",
    "\n",
    "        Returns\n",
    "        -------\n",
    "        df : DataFrame\n",
    "            DataFrame met een multicolumn van variabele en locaties met datetime index en \n",
    "            de bijbehorende waarden\n",
    "            \n",
    "        Examples\n",
    "        -----------\n",
    "        locaties = ['1','6']\n",
    "        parameters = ['Waterlevel maximum (mNAP)']\n",
    "        \n",
    "        Intern worden alle inputs afgekort op [0:20] en ziet de tool het als:\n",
    "        locaties = ['1','6']\n",
    "        parameters = ['Waterlevel maximum (']\n",
    "        \"\"\"\n",
    "        # error checking\n",
    "        if jaarmax_as not in ('year', 'none'):\n",
    "            self.__errors__.jaarmaxError()\n",
    "            \n",
    "        # define empty dataframe\n",
    "        clmns = pd.MultiIndex.from_product([parameters,locaties], names=['parameters','locaties'])\n",
    "        \n",
    "        # voor een MultiWaardenArray wordt alleen een jaar meegenomen als index\n",
    "        # het hangt van een seizoen filter af of er gebeurtenissen voor dat jaar zijn. Bepaal dit eerst\n",
    "        loc0 = self.hisFile.locatieInfo.locaties[0]\n",
    "        par0 = self.hisFile.variabeleInfo.variabelen[0]\n",
    "        idx = self.EnkeleWaardenArray(loc0, par0, jaarmax_as=jaarmax_as).index\n",
    "        \n",
    "        self.hisFile.tijdstapInfo.N\n",
    "        \n",
    "        df_full = pd.DataFrame(index=idx, columns=clmns)\n",
    "        df_full.index.name='date'\n",
    "        for ix in clmns:\n",
    "            df = self.EnkeleWaardenArray(locatie=ix[1], parameter=ix[0], \n",
    "                                         startMMdd=startMMdd, endMMdd=endMMdd, jaarmax_as=jaarmax_as)\n",
    "            df_full.loc[:,(ix[0],ix[1])] = df.T.squeeze()\n",
    "        \n",
    "        # bepaling of lege jaren gedropt moeten worden\n",
    "        if drop_lege_jaren:\n",
    "            df_full.dropna(axis=0, how='all', inplace=True)\n",
    "        \n",
    "        return df_full\n",
    "            \n",
    "his = HISreader()\n",
    "\n",
    "class GumbleFit(object):\n",
    "    class __errors__(object):\n",
    "        \"\"\"\n",
    "        error class met verschillende foutmeldingen voor sobek programma\n",
    "        \"\"\"        \n",
    "        def fileNotFound():\n",
    "            raise IOError('HIS-bestand bestaat niet. Is je pad goed?')        \n",
    "        def metadataNotSet():\n",
    "            raise AttributeError('Metadata is niet bekend. Zet met sobek.LeesMetadata(hisFileNaam)')\n",
    "        def metadataError():\n",
    "            raise AttributeError('Metadata kon tijdens de functie LeesMetadata() niet bepaald worden')\n",
    "        def administratieError():            \n",
    "            raise AttributeError('Administratieblok van his-file kan niet worden uitgelezen')\n",
    "        def locatieNotFound():            \n",
    "            raise AttributeError('Locatie niet gevonden. Is het een bestaande locatie?')\n",
    "        def variabeleNotFound():            \n",
    "            raise AttributeError('Parameter niet gevonden. Is het een bestaande parameter?')\n",
    "    \n",
    "    def __init__(self):\n",
    "        \"\"\"\n",
    "        GumbleFit class. Class met methodes om een GumbleFit te bepalen\n",
    "        \"\"\"\n",
    "        # initatie van lege immutable objects\n",
    "        # zie: https://stackoverflow.com/a/22526544/2459096\n",
    "        # python2.7: obj = argparse.Namespace()\n",
    "        # python3.x: obj = types.SimpleNamespace()\n",
    "        \n",
    "    def _igumbelFunc(self, arr, Td, t):\n",
    "        \"\"\"\n",
    "        Gumbel Functie\n",
    "        \n",
    "        Parameters\n",
    "        ----------\n",
    "        arr : numpy.array\n",
    "            array met gesorteerde waterstanden\n",
    "        Td : \n",
    "        \n",
    "        Returns\n",
    "        -------\n",
    "        gumbelFuncFunc : numpy.array\n",
    "            Gumbel Functie\n",
    "        \"\"\"\n",
    "        a,d = arr\n",
    "        self.gumbelFunc = (float(-1.0)* float(a)*np.log(1.0/t * float(Td))+float(d))\n",
    "        return self.gumbelFunc\n",
    "    \n",
    "    def _igumbelFuncFit(self, arr, h, Td, t):\n",
    "        \"\"\"\n",
    "        Gumbel Functie\n",
    "        \n",
    "        Parameters\n",
    "        ----------\n",
    "        arr : numpy.array\n",
    "            array met gesorteerde waterstanden\n",
    "        h : int?\n",
    "        \n",
    "        Td : int?\n",
    "        \n",
    "        T : int?\n",
    "        \n",
    "        Returns\n",
    "        -------\n",
    "        gumbelFuncFit : numpy.array\n",
    "            Fitted Gumbel Functie\n",
    "        \"\"\"        \n",
    "        a,d = arr\n",
    "        self.gumbelFuncFit = h-(float(-1.0)* float(a)*np.log(1.0/t * float(Td))+float(d))        \n",
    "        return self.gumbelFuncFit\n",
    "    \n",
    "    def _weightedaverage4TOI(self, Tarray, Parray, TOI):\n",
    "        \"\"\"\n",
    "        Functie om het gewogen gemiddelde te krijgen op basis van de vier dichtsbijzijnde waarden rondom de T of interest\n",
    "\n",
    "        Parameters\n",
    "        ----------\n",
    "        Tarray : numpy.array\n",
    "            Array met de terugkeertijden, \n",
    "        Parray : numpy.array\n",
    "            Array met de parameterwaarden, bijvoorbeeld waterstanden\n",
    "        TOI : int\n",
    "            Waarde met de terugkeertijd of interest, bijvoorbeeld 10 voor T=10\n",
    "\n",
    "        Returns\n",
    "        -------\n",
    "\n",
    "        \"\"\"\n",
    "        # get the index of the closest value to T10 on its left side, \n",
    "        # T is sorted in descending order so reverse array first to get ascending order\n",
    "        cl = self._find_closest(T[::-1], TOI)    \n",
    "\n",
    "        # get the indices of the four closest points\n",
    "        # [..]  *     *      *      *   |     *     *  [..]\n",
    "        #           cl-2   cl-1    cl  T10  cl+1  cl+2\n",
    "        #                  ----    --       ----  ----\n",
    "        indices = np.array([cl-1,cl,cl+1,cl+2])\n",
    "\n",
    "        Parray_sel  = np.take(Parray[::-1], indices)\n",
    "        Tarray_sel   = np.take(Tarray[::-1], indices)  \n",
    "\n",
    "        # inverse distance weighting\n",
    "        weights = 1 / abs(Tarray_sel - TOI)\n",
    "        weights /= weights.sum()    \n",
    "\n",
    "        # weight_cl-1 * ws_cl-1  +  weight_cl * ws_cl  +  weight_cl+1 * ws_cl+1  +  weight_cl+2 * ws_cl+2\n",
    "        Parray_TOI = np.dot(weights, Parray_sel)\n",
    "        return Parray_TOI, Parray_sel, Tarray_sel\n",
    "\n",
    "    def _find_closest(self, Tarray, TOI):\n",
    "        # T must be sorted (in ascending order)\n",
    "        idx = Tarray.searchsorted(target)\n",
    "        idx = np.clip(idx, 1, len(Tarray)-1)\n",
    "        left = Tarray[idx-1]\n",
    "        right = Tarray[idx]\n",
    "        idx -= TOI - left < right - TOI\n",
    "        return idx    \n",
    "        \n",
    "    def _calcFi_T(self, len_arr,N, Ggi=0.44, GgN=0.12):\n",
    "        \"\"\"\n",
    "        Bepaal plotpositie jaarmaximum als kans        \n",
    "\n",
    "        Parameters\n",
    "        ----------\n",
    "        len_arr : int\n",
    "            aantal gebeurtenissen\n",
    "        N : int\n",
    "            aantal jaren waarover de Gumble fit bepaald moet worden\n",
    "        Ggi : float\n",
    "            Gringgorten plotposities i (standaard: 0.44)\n",
    "        GgN : float\n",
    "            Gringgorten plotposities N (standaard: 0.12)\n",
    "\n",
    "        Returns\n",
    "        -------\n",
    "        T : np.array\n",
    "            array van terugkeertijden\n",
    "        Fijaar : np.array\n",
    "            array van plotposities jaarmaxima\n",
    "            \n",
    "        Literature\n",
    "        ----------\n",
    "        Voor bepaling Gringorten coefficienten zie bijv: http://glossary.ametsoc.org/wiki/Gringorten_plotting_position\n",
    "        \"\"\"\n",
    "        Fi = []        \n",
    "        T = []\n",
    "        for i in range(len_arr):\n",
    "            i += 1\n",
    "            f = float(1 - ((i - Ggi) / (N+GgN)))\n",
    "            Fi.append(f)\n",
    "        Fijaar = (np.log(Fi) )* -1\n",
    "        T = 1 / (Fijaar)\n",
    "        # set set self\n",
    "        self.Fijaar = Fijaar\n",
    "        self.T = T\n",
    "        return self.T, self.Fijaar\n",
    "    \n",
    "    def plotFiguur(self, vAmin,vAmax,ws_srt,T,GumbelT,GumbelWS,ID):\n",
    "\n",
    "        plt.clf()\n",
    "        fig=plt.figure()\n",
    "        ax = fig.add_subplot(111)\n",
    "        ax.grid(True,which='both', axis='both', linestyle='-', color = '0.75')\n",
    "        ax.semilogx(T,ws_srt, '.', color='blue')\n",
    "        ax.semilogx(T[vAmin:vAmax],ws_srt[vAmin:vAmax], 'o', color='blue', label='gesimuleerde waterstanden')\n",
    "        ax.semilogx(GumbelT,GumbelWS, '--', color='red', label='benadering waterstanden')\n",
    "        T100 = [GumbelT]\n",
    "        Tws = [GumbelWS]\n",
    "        ax.semilogx(T100,Tws, 'o', color='red')\n",
    "        ax.legend(loc='upper left',prop={'size':12})\n",
    "        ax.set_xlim(xmin=0, xmax=500)\n",
    "        Ymin = min(ws_srt) - 0.25\n",
    "        Ymax = max(ws_srt) + 0.25\n",
    "        ax.set_ylim(Ymin,Ymax)\n",
    "        ax.set_ylabel('Waterstand [m +NAP]')\n",
    "        ax.set_xlabel('Terugkeertijd [jaren]')\n",
    "        lnStr=\"\"\n",
    "        i=0\n",
    "        for k in GumbelT:\n",
    "            lnStr=lnStr+'Waterstand T'+ str(int(k))+' = '+str(round(GumbelWS[i],2 ))\n",
    "            if i<(len(GumbelT)-1): lnStr=lnStr+'m+NAP\\n'\n",
    "            else:lnStr=lnStr+'m+NAP'\n",
    "            i=i+1\n",
    "        ax.text(38, Ymin+ 0.05, lnStr, fontsize=12, horizontalalignment='left',style='normal',multialignment= 'left',\n",
    "                bbox={'facecolor':'gray', 'alpha':1, 'pad':5})\n",
    "        for item in ([ax.title, ax.xaxis.label, ax.yaxis.label] + ax.get_xticklabels() + ax.get_yticklabels()):\n",
    "                item.set_fontsize(12)\n",
    "        plt.show()\n",
    "        #plt.savefig(padOut,dpi=100)\n",
    "        #plt.close()     \n",
    "    \n",
    "    def _gewogenGemiddelde(self, df_enkel, N=109,TOI=10):\n",
    "        \"\"\"\n",
    "        \"\"\"\n",
    "        # lengte van array van waterstanden\n",
    "        Nws = df_enkel.size        \n",
    "        T, Fijaar = self._calcFi_T(Nws,N)\n",
    "        \n",
    "        df_enkel_sorted = df_enkel.sort_values(ascending=False)        \n",
    "        \n",
    "        # bepaal gewogen gemiddelde voor parameter waarde voor terugkeertijd of interest op basis van 4 dichtsbijzijnde waarden\n",
    "        Parray_TOI, Parray_sel, Tarray_sel = self._weightedaverage4TOI(T, df_enkel_sorted.values, TOI)   \n",
    "    \n",
    "    def _enkeleGumbelFit(self, df_enkel, N, vensterArray=[0,9], GumbelT=[25,50,100.0], Ggi=0.44, GgN=0.12):\n",
    "        \"\"\"\n",
    "        TOI : int\n",
    "            Terugkeertijd of interest\n",
    "            \n",
    "        N : int\n",
    "            Pas op: de bepaling voor over hoeveel jaren het aantal plotposities berekend moet worden, \n",
    "            moet gedaan worden op basis van het aantal mogelijke jaren in de gebeurtenissen reeks. \n",
    "            Bepaal dit op een gebeurtenissenreeks alvorens een periode filter is toegepast. \n",
    "        \"\"\"        \n",
    "\n",
    "        # lengte van array van waterstanden\n",
    "        Nws = df_enkel.size        \n",
    "        T, Fijaar = self._calcFi_T(Nws,N, Ggi, GgN)        \n",
    "        \n",
    "\n",
    "        # kijk eerst of de input dataframe een multi-column heeft en reduceerd indien ja\n",
    "        try:\n",
    "            df_enkel = df_enkel.iloc[:,0]\n",
    "        except:\n",
    "            pass\n",
    "\n",
    "        if len(df_enkel.name) == 2:\n",
    "            enkel_locatie = df_enkel.name[0]\n",
    "            enkel_parameter = df_enkel.name[1]\n",
    "        else: \n",
    "            enkel_locatie = enkel_parameter = 'niet gedefinieerd'   \n",
    "            \n",
    "        # get min/max van venster array\n",
    "        vAmin = vensterArray[0]\n",
    "        vAmax = vensterArray[1]\n",
    "        \n",
    "        df_enkel_sorted = df_enkel.sort_values(ascending=False)                \n",
    "        \n",
    "        # bepaal de terugkeertijden waarden en afgeleiden op basis van venster array voor Gumbel fit\n",
    "        dT = np.log(T[vAmin]) - np.log(T[vAmax])\n",
    "        dh = df_enkel_sorted.iloc[vAmin] - df_enkel_sorted.iloc[vAmax]\n",
    "        dTpunt = -np.log(T[vAmax])\n",
    "        dhpunt = (dh/dT)*dTpunt\n",
    "        a0 = [dh/dT, df_enkel_sorted.iloc[vAmax]+dhpunt]\n",
    "        \n",
    "        # apply de gumbel fit functie\n",
    "        a_out, cov_x, infodict, msg, flag = optimize.leastsq(gumbel._igumbelFuncFit, a0, args = (df_enkel_sorted.iloc[vAmin:vAmax], 1, T[vAmin:vAmax]), full_output=True)\n",
    "        GumbelWS = gumbel._igumbelFunc(a_out, 1, np.array(GumbelT))       \n",
    "        \n",
    "        # schrijf weg naar gumbel dataframe\n",
    "        T_columns = ['T'+str(int(item)) for item in GumbelT]\n",
    "        df_gumbel = pd.DataFrame(index=[enkel_locatie], columns=T_columns+['solution'])\n",
    "        df_gumbel.index.name='locatie'\n",
    "\n",
    "        df_gumbel.loc[enkel_locatie][T_columns] = GumbelWS\n",
    "        if flag > 4:\n",
    "            df_gumbel.loc[enkel_locatie]['solution'] = 'no solution'\n",
    "        else:\n",
    "            df_gumbel.loc[enkel_locatie]['solution'] = 'optimization succesful'  \n",
    "        \n",
    "        if plotFiguur==True:\n",
    "            self.plotFiguur(vAmin,vAmax, df_enkel_sorted.values, T, GumbelT, GumbelWS, enkel_locatie)            \n",
    "            \n",
    "        return (vAmin,vAmax, df_enkel_sorted.values, T, GumbelT, GumbelWS, enkel_locatie, Parray_TOI, Parray_sel, Tarray_sel), df_gumbel\n",
    "\n",
    "    def WaterstandStatistiek(self, df_enkel, N, venstarArray, GumbelT, TOI, startMMdd=(1,1), endMMdd=(12,31), \n",
    "                              jaarmax_as='date', Ggi=0.44, GgN=0.12):\n",
    "        \"\"\"\n",
    "        \n",
    "        \"\"\"\n",
    "        # Gumbel Fit voor T10,T25,T50,T100 voor alle buien\n",
    "        _enkeleGumbelFit(df_enkel, GumbelT=[10,25,50,100])\n",
    "        \n",
    "        # Gumbel Fit voor T10 voor alleen zomerbuien\n",
    "        df_enkel_groei = his.SelectPeriodeWaardenArray(df_enkel, startMMdd=startMMdd, endMMdd=endMMdd, jaarmax_as='date')\n",
    "        _enkeleGumbelFit(df_enkel, GumbelT=[10])\n",
    "        \n",
    "        # Gewogen gemiddelde voor T10 voor alle buien\n",
    "        Parray_TOI_jaar, Parray_sel_jaar, Tarray_sel_jaar = self._gewogenGemiddelde(df_enkel)\n",
    "        \n",
    "        # Gewogen gemiddelde voor T10 voor alleen de zomerbuien\n",
    "        Parray_TOI_groei, Parray_sel_groei, Tarray_sel_groei = self._gewogenGemiddelde(df_enkel_groei)\n",
    "        \n",
    "        return tabel + parameters om te plotten    \n",
    "\n",
    "gumbel = GumbleFit()"
   ]
  },
  {
   "cell_type": "code",
   "execution_count": 3,
   "metadata": {
    "collapsed": false,
    "deletable": true,
    "editable": true
   },
   "outputs": [],
   "source": [
    "his_file = r'D:\\Projects\\Pr\\3651.10\\Toeleveringen\\30082017_AnneJoepen_wetransfer\\BKL_west.lit\\BKL_west.lit\\14\\CALCPNT.HIS'\n",
    "#his_file = r'D:\\Projects\\Pr\\3651.10\\Toeleveringen\\30082017_AnneJoepen_wetransfer\\BKL_west.lit\\BKL_west.lit\\14\\REACHSEG.HIS'"
   ]
  },
  {
   "cell_type": "markdown",
   "metadata": {
    "deletable": true,
    "editable": true
   },
   "source": [
    "Initieer de his-file door de metadata in te lezen"
   ]
  },
  {
   "cell_type": "code",
   "execution_count": 4,
   "metadata": {
    "collapsed": false,
    "deletable": true,
    "editable": true
   },
   "outputs": [
    {
     "data": {
      "text/plain": [
       "'Metadata Ingelezen'"
      ]
     },
     "execution_count": 4,
     "metadata": {},
     "output_type": "execute_result"
    }
   ],
   "source": [
    "his.LeesMetadata(his_file)"
   ]
  },
  {
   "cell_type": "markdown",
   "metadata": {
    "deletable": true,
    "editable": true
   },
   "source": [
    "De volgende drie functies kunnen gebruikt worden om de locaties, tijdstappen en parameters vanuit het .his bestand in te lezen"
   ]
  },
  {
   "cell_type": "code",
   "execution_count": 5,
   "metadata": {
    "collapsed": false,
    "deletable": true,
    "editable": true
   },
   "outputs": [],
   "source": [
    "locaties = his.KrijgLokaties()\n",
    "tijdstappen = his.KrijgTijdstappen()\n",
    "parameters = his.KrijgParameters()"
   ]
  },
  {
   "cell_type": "markdown",
   "metadata": {
    "deletable": true,
    "editable": true
   },
   "source": [
    "In het volgend code block vragen we met de `EnkeleWaardenArray` functie de waarden op van een enkele locatie en parameter en plotten we het resultaat gelijk terug vanuit het dataframe. Let op: `df_enkel` is een dataframe met een multi-column met locatie en parameter.\n",
    "\n",
    "Het is mogelijk om met de functie `EnkeleWaardenArray` om alleen de gebeurtenissen van een jaarlijkse terugkerende periode te selecteren, bijvoorbeeld om alleen de gebeurtenissen in de zomer of het groeizoen mee te nemen. Ook kunnen de jaarmaxima bepaald worden in het geval er meerdere gebeurtenissen in 1 jaar zitten, waarbij aangegeven kan worden of je de exacte datum terug wilt hebben of alleen het jaar met de maxima.\n",
    "\n",
    "Met `startMMdd` wordt de start van de periode bepaald. Met `endMMdd` wordt de eind datum van de periode bepaald. Met `jaarmax_ax` is het mogelijk om de DataFrame te groeperen op basis van jaar om het jaarmaxima te bepalen. Het jaarmaxima wordt bepaald nadat de slice van de jaarlijkse periode is toegepast. Keuze bestaat uit:\n",
    "- `'date'` - bepaalt de jaarlijkse maxima binnen de periode en geeft de maximale waarde terug met de exacte datum van deze gebeurtenis\n",
    "- `'year'` - bepaalt de jaarlijkse maxima binnen de periode en geeft de maximale waarde terug met het jaar van de gebeurtenis\n",
    "- `'none'` - retourneert alle gebeurtenissen in elk jaar welke binnen de periode filter vallen"
   ]
  },
  {
   "cell_type": "code",
   "execution_count": 6,
   "metadata": {
    "collapsed": false
   },
   "outputs": [
    {
     "data": {
      "text/plain": [
       "('1', 'Waterlevel max. (m A')"
      ]
     },
     "execution_count": 6,
     "metadata": {},
     "output_type": "execute_result"
    }
   ],
   "source": [
    "locaties[0], parameters[0]"
   ]
  },
  {
   "cell_type": "code",
   "execution_count": 7,
   "metadata": {
    "collapsed": false,
    "deletable": true,
    "editable": true
   },
   "outputs": [
    {
     "data": {
      "text/plain": [
       "<matplotlib.axes._subplots.AxesSubplot at 0xac70b38>"
      ]
     },
     "execution_count": 7,
     "metadata": {},
     "output_type": "execute_result"
    },
    {
     "data": {
      "image/png": "[encoded data removed]",
      "text/plain": [
       "<matplotlib.figure.Figure at 0xac704e0>"
      ]
     },
     "metadata": {},
     "output_type": "display_data"
    }
   ],
   "source": [
    "df_enkel = his.EnkeleWaardenArray(locaties[0], parameters[0], startMMdd=(1, 1), endMMdd=(12, 31), jaarmax_as='date')\n",
    "df_enkel.plot(legend=True)"
   ]
  },
  {
   "cell_type": "markdown",
   "metadata": {
    "deletable": true,
    "editable": true
   },
   "source": [
    "Om de eerste 5 items te tonen gebruiken we de `.head()` functionaleit op de DataFrame van `df_enkel`. Te zien is dat in elk jaar de jaarmaxima al bepaald is en dat deze jaarmaxima gekoppeld is aan de unieke datum waar deze op plaatsvond. "
   ]
  },
  {
   "cell_type": "code",
   "execution_count": 8,
   "metadata": {
    "collapsed": false,
    "deletable": true,
    "editable": true,
    "scrolled": true
   },
   "outputs": [
    {
     "data": {
      "text/html": [
       "<div>\n",
       "<style>\n",
       "    .dataframe thead tr:only-child th {\n",
       "        text-align: right;\n",
       "    }\n",
       "\n",
       "    .dataframe thead th {\n",
       "        text-align: left;\n",
       "    }\n",
       "\n",
       "    .dataframe tbody tr th {\n",
       "        vertical-align: top;\n",
       "    }\n",
       "</style>\n",
       "<table border=\"1\" class=\"dataframe\">\n",
       "  <thead>\n",
       "    <tr>\n",
       "      <th>locatie</th>\n",
       "      <th>1</th>\n",
       "    </tr>\n",
       "    <tr>\n",
       "      <th>parameter</th>\n",
       "      <th>Waterlevel max. (m A</th>\n",
       "    </tr>\n",
       "  </thead>\n",
       "  <tbody>\n",
       "    <tr>\n",
       "      <th>1906-06-28 22:00:00</th>\n",
       "      <td>-3.164886</td>\n",
       "    </tr>\n",
       "    <tr>\n",
       "      <th>1907-11-30 22:00:00</th>\n",
       "      <td>-3.189303</td>\n",
       "    </tr>\n",
       "    <tr>\n",
       "      <th>1908-08-23 22:00:00</th>\n",
       "      <td>-3.196348</td>\n",
       "    </tr>\n",
       "    <tr>\n",
       "      <th>1909-09-30 22:00:00</th>\n",
       "      <td>-3.166302</td>\n",
       "    </tr>\n",
       "    <tr>\n",
       "      <th>1910-06-05 03:00:00</th>\n",
       "      <td>-3.174427</td>\n",
       "    </tr>\n",
       "  </tbody>\n",
       "</table>\n",
       "</div>"
      ],
      "text/plain": [
       "locatie                                1\n",
       "parameter           Waterlevel max. (m A\n",
       "1906-06-28 22:00:00            -3.164886\n",
       "1907-11-30 22:00:00            -3.189303\n",
       "1908-08-23 22:00:00            -3.196348\n",
       "1909-09-30 22:00:00            -3.166302\n",
       "1910-06-05 03:00:00            -3.174427"
      ]
     },
     "execution_count": 8,
     "metadata": {},
     "output_type": "execute_result"
    }
   ],
   "source": [
    "df_enkel.head()"
   ]
  },
  {
   "cell_type": "markdown",
   "metadata": {
    "deletable": true,
    "editable": true
   },
   "source": [
    "Soortgelijk kunnen we ook verschillende locaties voor een enkele parameter opvragen met de `MultiWaardenArray` functie. Standaard wordt een periode van `01-01` tot `12-31` in ogenschouw genomen, waarbij er een 1 jaarmaxima wordt \n",
    "bepaald welke met de specifieke datum van deze gebeurtenis. \n",
    "Om een jaarlijkse periode filter van 15 mei tot 15 oktober te gebruiken en de jaarmaxima als alleen jaar waarden terug te geven doe als volgt:"
   ]
  },
  {
   "cell_type": "code",
   "execution_count": 9,
   "metadata": {
    "collapsed": false,
    "deletable": true,
    "editable": true
   },
   "outputs": [
    {
     "data": {
      "text/plain": [
       "<matplotlib.text.Text at 0xb0bdc18>"
      ]
     },
     "execution_count": 9,
     "metadata": {},
     "output_type": "execute_result"
    },
    {
     "data": {
      "image/png": "[encoded data removed]",
      "text/plain": [
       "<matplotlib.figure.Figure at 0xac3f828>"
      ]
     },
     "metadata": {},
     "output_type": "display_data"
    }
   ],
   "source": [
    "#Gebruik van MultiwaardenArray\n",
    "df_multi = his.MultiWaardenArary(locaties[0:5],parameters[0:1], startMMdd=(5,15), endMMdd=(10,15), \n",
    "                                 jaarmax_as='year', drop_lege_jaren=False)\n",
    "ax = df_multi.loc[:,parameters[0]].plot()\n",
    "ax.set_ylabel(parameters[0])"
   ]
  },
  {
   "cell_type": "markdown",
   "metadata": {},
   "source": [
    "Voor `df_multi` is te zien dat de er voor elk jaar wel een jaarmaxima bepaald wordt binnen de filter, maar dat deze gekoppeld is aan alleen het jaar en niet de preciese datum van gebeurtenis. Deze kan namelijk verschillen van locatie tot locatie. Ook is te zien dat wanneer er geen gebeurtenissen zijn voor de periode filter deze gedropt kunnen worden uit de selectie. In dit voorbeeld is dat 1995. Wanneer je deze jaren niet dropt, zullen er `NaN` waarden getoond worden."
   ]
  },
  {
   "cell_type": "code",
   "execution_count": 10,
   "metadata": {
    "collapsed": false
   },
   "outputs": [
    {
     "data": {
      "text/html": [
       "<div>\n",
       "<style>\n",
       "    .dataframe thead tr:only-child th {\n",
       "        text-align: right;\n",
       "    }\n",
       "\n",
       "    .dataframe thead th {\n",
       "        text-align: left;\n",
       "    }\n",
       "\n",
       "    .dataframe tbody tr th {\n",
       "        vertical-align: top;\n",
       "    }\n",
       "</style>\n",
       "<table border=\"1\" class=\"dataframe\">\n",
       "  <thead>\n",
       "    <tr>\n",
       "      <th>parameters</th>\n",
       "      <th colspan=\"5\" halign=\"left\">Waterlevel max. (m A</th>\n",
       "    </tr>\n",
       "    <tr>\n",
       "      <th>locaties</th>\n",
       "      <th>1</th>\n",
       "      <th>126</th>\n",
       "      <th>11</th>\n",
       "      <th>8</th>\n",
       "      <th>14</th>\n",
       "    </tr>\n",
       "    <tr>\n",
       "      <th>date</th>\n",
       "      <th></th>\n",
       "      <th></th>\n",
       "      <th></th>\n",
       "      <th></th>\n",
       "      <th></th>\n",
       "    </tr>\n",
       "  </thead>\n",
       "  <tbody>\n",
       "    <tr>\n",
       "      <th>1995</th>\n",
       "      <td>NaN</td>\n",
       "      <td>NaN</td>\n",
       "      <td>NaN</td>\n",
       "      <td>NaN</td>\n",
       "      <td>NaN</td>\n",
       "    </tr>\n",
       "    <tr>\n",
       "      <th>1996</th>\n",
       "      <td>-3.224344</td>\n",
       "      <td>-5.845584</td>\n",
       "      <td>-5.822999</td>\n",
       "      <td>-5.870604</td>\n",
       "      <td>-5.871600</td>\n",
       "    </tr>\n",
       "    <tr>\n",
       "      <th>1997</th>\n",
       "      <td>-3.182053</td>\n",
       "      <td>-5.772171</td>\n",
       "      <td>-5.776925</td>\n",
       "      <td>-5.796601</td>\n",
       "      <td>-5.797655</td>\n",
       "    </tr>\n",
       "    <tr>\n",
       "      <th>1998</th>\n",
       "      <td>-3.126322</td>\n",
       "      <td>-5.570090</td>\n",
       "      <td>-5.653124</td>\n",
       "      <td>-5.667585</td>\n",
       "      <td>-5.668540</td>\n",
       "    </tr>\n",
       "    <tr>\n",
       "      <th>1999</th>\n",
       "      <td>-3.216079</td>\n",
       "      <td>-5.830160</td>\n",
       "      <td>-5.814965</td>\n",
       "      <td>-5.857956</td>\n",
       "      <td>-5.859288</td>\n",
       "    </tr>\n",
       "  </tbody>\n",
       "</table>\n",
       "</div>"
      ],
      "text/plain": [
       "parameters Waterlevel max. (m A                                        \n",
       "locaties                      1       126        11         8        14\n",
       "date                                                                   \n",
       "1995                        NaN       NaN       NaN       NaN       NaN\n",
       "1996                  -3.224344 -5.845584 -5.822999 -5.870604 -5.871600\n",
       "1997                  -3.182053 -5.772171 -5.776925 -5.796601 -5.797655\n",
       "1998                  -3.126322 -5.570090 -5.653124 -5.667585 -5.668540\n",
       "1999                  -3.216079 -5.830160 -5.814965 -5.857956 -5.859288"
      ]
     },
     "execution_count": 10,
     "metadata": {},
     "output_type": "execute_result"
    }
   ],
   "source": [
    "df_multi.iloc[-20:-15]"
   ]
  },
  {
   "cell_type": "code",
   "execution_count": 11,
   "metadata": {
    "collapsed": false,
    "deletable": true,
    "editable": true
   },
   "outputs": [
    {
     "data": {
      "text/plain": [
       "<matplotlib.axes._subplots.AxesSubplot at 0xac050f0>"
      ]
     },
     "execution_count": 11,
     "metadata": {},
     "output_type": "execute_result"
    },
    {
     "data": {
      "image/png": "[encoded data removed]",
      "text/plain": [
       "<matplotlib.figure.Figure at 0xb24ab38>"
      ]
     },
     "metadata": {},
     "output_type": "display_data"
    }
   ],
   "source": [
    "df_enkel = his.EnkeleWaardenArray(locaties[0], parameters[0], startMMdd=(5, 15), endMMdd=(10, 15), jaarmax_as='date')\n",
    "df_enkel.plot(legend=True)"
   ]
  },
  {
   "cell_type": "markdown",
   "metadata": {
    "deletable": true,
    "editable": true
   },
   "source": [
    "Om met een Gumbel functie de fit toe te passen defineeren we allereerst het `vensterArray` en de `GumbelT`. Met deze twee functies bepalen we welke maxima meedoen met de fit en voor welke terugkeertijd we de geschatte waarden willen weten."
   ]
  },
  {
   "cell_type": "code",
   "execution_count": 24,
   "metadata": {
    "collapsed": false,
    "deletable": true,
    "editable": true
   },
   "outputs": [
    {
     "data": {
      "text/plain": [
       "<matplotlib.figure.Figure at 0xb98cf28>"
      ]
     },
     "metadata": {},
     "output_type": "display_data"
    },
    {
     "data": {
      "image/png": "[encoded data removed]",
      "text/plain": [
       "<matplotlib.figure.Figure at 0xbb7dd30>"
      ]
     },
     "metadata": {},
     "output_type": "display_data"
    }
   ],
   "source": [
    "# input parameters foor Gumbelfit\n",
    "vensterArray = [0,9] \n",
    "GumbelT = [10, 25,50,100]\n",
    "N = his.hisFile.tijdstapInfo.N\n",
    "\n",
    "param4fig, df_gumbel = gumbel.EnkeleGumbelFit(df_enkel, N=N, vensterArray=vensterArray, GumbelT=GumbelT, plotFiguur=True)"
   ]
  },
  {
   "cell_type": "code",
   "execution_count": 21,
   "metadata": {
    "collapsed": false
   },
   "outputs": [
    {
     "data": {
      "text/html": [
       "<div>\n",
       "<style>\n",
       "    .dataframe thead tr:only-child th {\n",
       "        text-align: right;\n",
       "    }\n",
       "\n",
       "    .dataframe thead th {\n",
       "        text-align: left;\n",
       "    }\n",
       "\n",
       "    .dataframe tbody tr th {\n",
       "        vertical-align: top;\n",
       "    }\n",
       "</style>\n",
       "<table border=\"1\" class=\"dataframe\">\n",
       "  <thead>\n",
       "    <tr style=\"text-align: right;\">\n",
       "      <th></th>\n",
       "      <th>T10</th>\n",
       "      <th>solution</th>\n",
       "    </tr>\n",
       "    <tr>\n",
       "      <th>locatie</th>\n",
       "      <th></th>\n",
       "      <th></th>\n",
       "    </tr>\n",
       "  </thead>\n",
       "  <tbody>\n",
       "    <tr>\n",
       "      <th>1</th>\n",
       "      <td>-3.12406</td>\n",
       "      <td>optimization succesful</td>\n",
       "    </tr>\n",
       "  </tbody>\n",
       "</table>\n",
       "</div>"
      ],
      "text/plain": [
       "             T10                solution\n",
       "locatie                                 \n",
       "1       -3.12406  optimization succesful"
      ]
     },
     "execution_count": 21,
     "metadata": {},
     "output_type": "execute_result"
    }
   ],
   "source": [
    "df_gumbel"
   ]
  },
  {
   "cell_type": "code",
   "execution_count": null,
   "metadata": {
    "collapsed": false
   },
   "outputs": [],
   "source": [
    "plt.plot(gumbel.T,gumbel.Fijaar)\n",
    "plt.xlabel('T')\n",
    "plt.ylabel('Fi jaar')"
   ]
  },
  {
   "cell_type": "markdown",
   "metadata": {
    "deletable": true,
    "editable": true
   },
   "source": [
    "Sinds we `plotFiguur` als `True` hebben gezet krijgen we gelijk het figuur terug. Daarnaast krijgen we de resultaten ook terug in tabulair formaat"
   ]
  },
  {
   "cell_type": "code",
   "execution_count": null,
   "metadata": {
    "collapsed": false
   },
   "outputs": [],
   "source": [
    "vAmin = param4fig[0]\n",
    "vAmax = param4fig[1]\n",
    "ws_srt = param4fig[2]\n",
    "T = param4fig[3]\n",
    "GumbelT = param4fig[4]\n",
    "GumbelWS = param4fig[5]\n",
    "ID = param4fig[5]"
   ]
  },
  {
   "cell_type": "code",
   "execution_count": null,
   "metadata": {
    "collapsed": true
   },
   "outputs": [],
   "source": [
    "def _weightedaverage4TOI(self, Tarray, Parray, TOI):\n",
    "    \"\"\"\n",
    "    Functie om het gewogen gemiddelde te krijgen op basis van de vier dichtsbijzijnde waarden rondom de T of interest\n",
    "    \n",
    "    Parameters\n",
    "    ----------\n",
    "    Tarray : numpy.array\n",
    "        Array met de terugkeertijden, \n",
    "    Parray : numpy.array\n",
    "        Array met de parameterwaarden, bijvoorbeeld waterstanden\n",
    "    TOI : int\n",
    "        Waarde met de terugkeertijd of interest, bijvoorbeeld 10 voor T=10\n",
    "    \n",
    "    Returns\n",
    "    -------\n",
    "    \n",
    "    \"\"\"\n",
    "    # get the index of the closest value to T10 on its left side, \n",
    "    # T is sorted in descending order so reverse array first to get ascending order\n",
    "    cl = self._find_closest(T[::-1], TOI)    \n",
    "\n",
    "    # get the indices of the four closest points\n",
    "    # [..]  *     *      *      *   |     *     *  [..]\n",
    "    #           cl-2   cl-1    cl  T10  cl+1  cl+2\n",
    "    #                  ----    --       ----  ----\n",
    "    indices = np.array([cl-1,cl,cl+1,cl+2])\n",
    "\n",
    "    Parray_sel  = np.take(Parray[::-1], indices)\n",
    "    Tarray_sel   = np.take(Tarray[::-1], indices)  \n",
    "\n",
    "    # inverse distance weighting\n",
    "    weights = 1 / abs(Tarray_sel - TOI)\n",
    "    weights /= weights.sum()    \n",
    "\n",
    "    # weight_cl-1 * ws_cl-1  +  weight_cl * ws_cl  +  weight_cl+1 * ws_cl+1  +  weight_cl+2 * ws_cl+2\n",
    "    Parray_TOI = np.dot(weights, Parray_sel)\n",
    "    return Parray_TOI\n",
    "\n",
    "def _find_closest(self, Tarray, TOI):\n",
    "    # T must be sorted (in ascending order)\n",
    "    idx = Tarray.searchsorted(target)\n",
    "    idx = np.clip(idx, 1, len(Tarray)-1)\n",
    "    left = Tarray[idx-1]\n",
    "    right = Tarray[idx]\n",
    "    idx -= TOI - left < right - TOI\n",
    "    return idx"
   ]
  },
  {
   "cell_type": "code",
   "execution_count": null,
   "metadata": {
    "collapsed": true
   },
   "outputs": [],
   "source": []
  },
  {
   "cell_type": "code",
   "execution_count": null,
   "metadata": {
    "collapsed": false
   },
   "outputs": [],
   "source": []
  },
  {
   "cell_type": "code",
   "execution_count": null,
   "metadata": {
    "collapsed": false
   },
   "outputs": [],
   "source": []
  },
  {
   "cell_type": "code",
   "execution_count": null,
   "metadata": {
    "collapsed": false
   },
   "outputs": [],
   "source": []
  },
  {
   "cell_type": "code",
   "execution_count": null,
   "metadata": {
    "collapsed": false
   },
   "outputs": [],
   "source": []
  },
  {
   "cell_type": "code",
   "execution_count": null,
   "metadata": {
    "collapsed": false
   },
   "outputs": [],
   "source": [
    "ws_TOI, TOI"
   ]
  },
  {
   "cell_type": "code",
   "execution_count": null,
   "metadata": {
    "collapsed": false
   },
   "outputs": [],
   "source": [
    "plt.semilogx(T,ws_srt)\n",
    "plt.semilogx(10,T10_log, marker='*')\n",
    "\n",
    "plt.xlabel('T')\n",
    "plt.ylabel('ws_srt')\n",
    "from matplotlib.ticker import ScalarFormatter, FormatStrFormatter\n",
    "ax = plt.gca()\n",
    "ax.xaxis.set_major_formatter(FormatStrFormatter('%.0f'))\n",
    "plt.draw()"
   ]
  },
  {
   "cell_type": "code",
   "execution_count": null,
   "metadata": {
    "collapsed": false
   },
   "outputs": [],
   "source": []
  },
  {
   "cell_type": "code",
   "execution_count": null,
   "metadata": {
    "collapsed": false
   },
   "outputs": [],
   "source": [
    "np.log(1+10)/2"
   ]
  },
  {
   "cell_type": "code",
   "execution_count": null,
   "metadata": {
    "collapsed": true
   },
   "outputs": [],
   "source": [
    "def find_nearest(array,value):\n",
    "    idx = np.searchsorted(array, value, side=\"left\")\n",
    "    if idx = idx - (np.abs(value - array[idx-1]) < np.abs(value - array[idx])):\n",
    "        return array[idx-1]\n",
    "    else:\n",
    "        return array[idx]"
   ]
  },
  {
   "cell_type": "code",
   "execution_count": null,
   "metadata": {
    "collapsed": true
   },
   "outputs": [],
   "source": []
  },
  {
   "cell_type": "markdown",
   "metadata": {
    "deletable": true,
    "editable": true
   },
   "source": [
    "Vooralsnog geven we alle benodige parameters ook terug om buiten de `EnkeleGumbelFit` functie om de `plotFiguur` functie kunnen aanroepen"
   ]
  },
  {
   "cell_type": "code",
   "execution_count": null,
   "metadata": {
    "collapsed": false,
    "deletable": true,
    "editable": true
   },
   "outputs": [],
   "source": [
    "gumbel.plotFiguur(param4fig[0],param4fig[1],param4fig[2],param4fig[3],param4fig[4],param4fig[5],param4fig[6])"
   ]
  },
  {
   "cell_type": "code",
   "execution_count": null,
   "metadata": {
    "collapsed": false,
    "deletable": true,
    "editable": true
   },
   "outputs": [],
   "source": [
    "10e1"
   ]
  },
  {
   "cell_type": "code",
   "execution_count": null,
   "metadata": {
    "collapsed": true
   },
   "outputs": [],
   "source": []
  }
 ],
 "metadata": {
  "kernelspec": {
   "display_name": "Python 3",
   "language": "python",
   "name": "python3"
  },
  "language_info": {
   "codemirror_mode": {
    "name": "ipython",
    "version": 3
   },
   "file_extension": ".py",
   "mimetype": "text/x-python",
   "name": "python",
   "nbconvert_exporter": "python",
   "pygments_lexer": "ipython3",
   "version": "3.5.2"
  }
 },
 "nbformat": 4,
 "nbformat_minor": 2
}
