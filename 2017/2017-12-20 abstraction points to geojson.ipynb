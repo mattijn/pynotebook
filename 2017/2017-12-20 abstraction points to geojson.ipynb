{
 "cells": [
  {
   "cell_type": "code",
   "execution_count": 1,
   "metadata": {},
   "outputs": [],
   "source": [
    "import geopandas as gpd\n",
    "import pandas as pd\n",
    "from shapely.geometry import Point, LineString\n",
    "import matplotlib.pyplot as plt\n",
    "from fiona.crs import from_epsg\n",
    "import fiona\n",
    "import os\n",
    "%matplotlib inline"
   ]
  },
  {
   "cell_type": "code",
   "execution_count": 2,
   "metadata": {},
   "outputs": [],
   "source": [
    "def abstraction_parser(df_abstraction, save=False, shp_out=''):\n",
    "    \"\"\"\n",
    "    Function to create a geodataframe from a csv file. \n",
    "    Locations in the csv file are stored in UTM 37N and are parsed to espg:4326\n",
    "\n",
    "    Parameters\n",
    "    ----------\n",
    "    df_abstraction: pandas.DataFrame\n",
    "        dataframe containing the abstraction points\n",
    "    save: boolean [optional]\n",
    "        if True and a name is defined (shp_out) it will store the geodataframe\n",
    "        to shapefile\n",
    "    shp_out: str [optional]\n",
    "        if save is True it will store the geodataframe\n",
    "    \"\"\"\n",
    "    geometry = [Point(xy)\n",
    "                for xy in zip(df_abstraction.UTMx, df_abstraction.UTMy)]\n",
    "    crs = {'init': 'epsg:32637'}\n",
    "    gdf_abstraction = gpd.GeoDataFrame(\n",
    "        df_abstraction, crs=crs, geometry=geometry)\n",
    "    gdf_abstraction['geometry'] = gdf_abstraction['geometry'].to_crs(epsg=4326)\n",
    "    # gdf_abstraction.dropna(inplace=True)\n",
    "    gdf_abstraction.crs = from_epsg(4326)\n",
    "    gdf_abstraction.reset_index(inplace=True)\n",
    "    gdf_abstraction.loc[:, 'index'] = 'Awash-River'\n",
    "\n",
    "    if save == True and shp_out is not '':\n",
    "        # Save to disk\n",
    "        gdf_abstraction.to_file(shp_out)\n",
    "        print(shp_out)\n",
    "\n",
    "    return gdf_abstraction"
   ]
  },
  {
   "cell_type": "code",
   "execution_count": 3,
   "metadata": {},
   "outputs": [],
   "source": [
    "def abstraction2schematization(gdf_abstraction, save=False, shp_out=''):\n",
    "    \"\"\"\n",
    "    Function to create a schematized polyline from the abstraction points.\n",
    "\n",
    "    Parameters\n",
    "    ----------\n",
    "    gdf_abstraction: geopandas.GeoDataFrame\n",
    "        geodataframe containing the abstraction points in epsg:4326\n",
    "    save: boolean [optional]\n",
    "        if True and a name is defined (shp_out) it will store the geodataframe\n",
    "        to shapefile\n",
    "    shp_out: str [optional]\n",
    "        if save is True it will store the geodataframe\n",
    "    \"\"\"\n",
    "    # Aggregate these points with the GroupBy\n",
    "    gdf_abstraction_schematized = gdf_abstraction.groupby(\n",
    "        ['index'])['geometry'].apply(lambda x: LineString(x.tolist()))\n",
    "    gdf_abstraction_schematized = gpd.GeoDataFrame(data=gdf_abstraction_schematized,\n",
    "                                                   geometry='geometry',\n",
    "                                                   crs=gdf_abstraction.crs)\n",
    "\n",
    "    if save == True and shp_out is not '':\n",
    "        # Save to disk\n",
    "        gdf_abstraction_schematized.to_file(shp_out)\n",
    "        print(shp_out)\n",
    "\n",
    "    return gdf_abstraction_schematized"
   ]
  },
  {
   "cell_type": "code",
   "execution_count": 4,
   "metadata": {},
   "outputs": [],
   "source": [
    "def gdf2geojson(gdf, geojson_out):\n",
    "    \"\"\"\n",
    "    Function to create a geojson format for storage on data services portal\n",
    "\n",
    "    Parameter\n",
    "    --------\n",
    "    gdf : geopandas.GeoDataFrame\n",
    "        geodataframe to be parsed into geojson\n",
    "    geojson_out : str\n",
    "        path to store geojson file\n",
    "    \"\"\"\n",
    "    with open(geojson_out, 'w') as f:\n",
    "        f.write(gdf.to_json())"
   ]
  },
  {
   "cell_type": "code",
   "execution_count": 5,
   "metadata": {},
   "outputs": [],
   "source": [
    "base_folder = r'D:\\Projects\\Pr\\3348.10\\Werkfolder'\n",
    "\n",
    "json_awash = os.path.join(base_folder, 'json', 'simplified', 'catchment.json')\n",
    "shp_gauging_stations = os.path.join(\n",
    "    base_folder, 'shp', 'rivergauging_stations.shp')\n",
    "json_river = os.path.join(base_folder, 'json', 'simplified', 'river.json')\n",
    "csv_abstraction_points = os.path.join(\n",
    "    base_folder, 'csv', 'abstraction_points.csv')\n",
    "\n",
    "# load basemaps\n",
    "gdf_awash = gpd.read_file(json_awash, driver='GeoJSON')\n",
    "gdf_gauge = gpd.read_file(shp_gauging_stations)\n",
    "gdf_river = gpd.read_file(json_river, driver='GeoJSON')"
   ]
  },
  {
   "cell_type": "code",
   "execution_count": 6,
   "metadata": {},
   "outputs": [
    {
     "name": "stdout",
     "output_type": "stream",
     "text": [
      "D:\\Projects\\Pr\\3348.10\\Werkfolder\\shp\\abstraction_points.shp\n",
      "D:\\Projects\\Pr\\3348.10\\Werkfolder\\shp\\abstraction_schema.shp\n"
     ]
    }
   ],
   "source": [
    "shp_abs_points = os.path.join(base_folder, 'shp', 'abstraction_points.shp')\n",
    "\n",
    "# abstraction points\n",
    "df_abstraction = pd.read_csv(csv_abstraction_points)\n",
    "gdf_abstraction = abstraction_parser(\n",
    "    df_abstraction, save=True, shp_out=shp_abs_points)\n",
    "\n",
    "# schmematize\n",
    "shp_abs_schema = os.path.join(base_folder, 'shp', 'abstraction_schema.shp')\n",
    "gdf_abstraction_schematized = abstraction2schematization(\n",
    "    gdf_abstraction, save=True, shp_out=shp_abs_schema)"
   ]
  },
  {
   "cell_type": "code",
   "execution_count": 7,
   "metadata": {},
   "outputs": [
    {
     "data": {
      "text/html": [
       "<div>\n",
       "<style scoped>\n",
       "    .dataframe tbody tr th:only-of-type {\n",
       "        vertical-align: middle;\n",
       "    }\n",
       "\n",
       "    .dataframe tbody tr th {\n",
       "        vertical-align: top;\n",
       "    }\n",
       "\n",
       "    .dataframe thead th {\n",
       "        text-align: right;\n",
       "    }\n",
       "</style>\n",
       "<table border=\"1\" class=\"dataframe\">\n",
       "  <thead>\n",
       "    <tr style=\"text-align: right;\">\n",
       "      <th></th>\n",
       "      <th>index</th>\n",
       "      <th>Abstraction points</th>\n",
       "      <th>UTMx</th>\n",
       "      <th>UTMy</th>\n",
       "      <th>Total crop area (ha)</th>\n",
       "      <th>Major crops or aggregates</th>\n",
       "      <th>Diversion system</th>\n",
       "      <th>geometry</th>\n",
       "    </tr>\n",
       "  </thead>\n",
       "  <tbody>\n",
       "    <tr>\n",
       "      <th>0</th>\n",
       "      <td>Awash-River</td>\n",
       "      <td>Area @ koka</td>\n",
       "      <td>517228</td>\n",
       "      <td>936161</td>\n",
       "      <td>800</td>\n",
       "      <td>Vegetable*, flower</td>\n",
       "      <td>Pump</td>\n",
       "      <td>POINT (39.15651903010993 8.469094151895581)</td>\n",
       "    </tr>\n",
       "    <tr>\n",
       "      <th>1</th>\n",
       "      <td>Awash-River</td>\n",
       "      <td>Adama water supply</td>\n",
       "      <td>517441</td>\n",
       "      <td>936147</td>\n",
       "      <td>_</td>\n",
       "      <td>_</td>\n",
       "      <td>Pump</td>\n",
       "      <td>POINT (39.15845411102872 8.468966737645287)</td>\n",
       "    </tr>\n",
       "    <tr>\n",
       "      <th>2</th>\n",
       "      <td>Awash-River</td>\n",
       "      <td>Upstream wonjo</td>\n",
       "      <td>519959</td>\n",
       "      <td>937045</td>\n",
       "      <td>400</td>\n",
       "      <td>Vegetable</td>\n",
       "      <td>Pump</td>\n",
       "      <td>POINT (39.18133425107597 8.47707946712004)</td>\n",
       "    </tr>\n",
       "    <tr>\n",
       "      <th>3</th>\n",
       "      <td>Awash-River</td>\n",
       "      <td>Wonji main</td>\n",
       "      <td>525506</td>\n",
       "      <td>934781</td>\n",
       "      <td>5,904</td>\n",
       "      <td>Sugarcane</td>\n",
       "      <td>Pump</td>\n",
       "      <td>POINT (39.23171811821993 8.456574314711492)</td>\n",
       "    </tr>\n",
       "    <tr>\n",
       "      <th>4</th>\n",
       "      <td>Awash-River</td>\n",
       "      <td>Kuriftu</td>\n",
       "      <td>531565</td>\n",
       "      <td>930067</td>\n",
       "      <td>1,123</td>\n",
       "      <td>Sugarcane</td>\n",
       "      <td>Pump</td>\n",
       "      <td>POINT (39.28673134297797 8.413898563738627)</td>\n",
       "    </tr>\n",
       "  </tbody>\n",
       "</table>\n",
       "</div>"
      ],
      "text/plain": [
       "         index  Abstraction points    UTMx    UTMy Total crop area (ha)  \\\n",
       "0  Awash-River         Area @ koka  517228  936161                  800   \n",
       "1  Awash-River  Adama water supply  517441  936147                    _   \n",
       "2  Awash-River     Upstream wonjo   519959  937045                  400   \n",
       "3  Awash-River          Wonji main  525506  934781                5,904   \n",
       "4  Awash-River             Kuriftu  531565  930067                1,123   \n",
       "\n",
       "  Major crops or aggregates Diversion system  \\\n",
       "0        Vegetable*, flower             Pump   \n",
       "1                         _             Pump   \n",
       "2                 Vegetable             Pump   \n",
       "3                 Sugarcane             Pump   \n",
       "4                 Sugarcane             Pump   \n",
       "\n",
       "                                      geometry  \n",
       "0  POINT (39.15651903010993 8.469094151895581)  \n",
       "1  POINT (39.15845411102872 8.468966737645287)  \n",
       "2   POINT (39.18133425107597 8.47707946712004)  \n",
       "3  POINT (39.23171811821993 8.456574314711492)  \n",
       "4  POINT (39.28673134297797 8.413898563738627)  "
      ]
     },
     "execution_count": 7,
     "metadata": {},
     "output_type": "execute_result"
    }
   ],
   "source": [
    "df_abstraction.head()"
   ]
  },
  {
   "cell_type": "code",
   "execution_count": 8,
   "metadata": {
    "scrolled": false
   },
   "outputs": [
    {
     "data": {
      "text/plain": [
       "<matplotlib.axes._subplots.AxesSubplot at 0x9c548d0>"
      ]
     },
     "execution_count": 8,
     "metadata": {},
     "output_type": "execute_result"
    },
    {
     "data": {
      "image/png": "[encoded data removed]",
      "text/plain": [
       "<matplotlib.figure.Figure at 0x9c545f8>"
      ]
     },
     "metadata": {},
     "output_type": "display_data"
    }
   ],
   "source": [
    "plt.figure(figsize=(12, 8))\n",
    "ax = plt.subplot()\n",
    "gdf_awash.plot(ax=ax)\n",
    "gdf_river.plot(ax=ax, color='lightblue')\n",
    "gdf_abstraction.plot(ax=ax, color='red', zorder=20)\n",
    "gdf_gauge.plot(ax=ax, color='lightgreen')\n",
    "gdf_abstraction_schematized.plot(ax=ax, color='orange', linewidth=5)"
   ]
  },
  {
   "cell_type": "code",
   "execution_count": 9,
   "metadata": {},
   "outputs": [],
   "source": [
    "linestring = gdf_abstraction_schematized['geometry'].iloc[0]\n",
    "\n",
    "list_name = []\n",
    "list_geometry = []\n",
    "\n",
    "for idx, row in gdf_abstraction.iterrows():\n",
    "    #print(idx, row['Abstraction points'])\n",
    "    list_name.append(row['Abstraction points'])\n",
    "    \n",
    "    try:\n",
    "        segment = LineString([linestring.coords[idx], linestring.coords[idx+1]])\n",
    "        list_geometry.append(segment)\n",
    "    except IndexError as e:\n",
    "        pass"
   ]
  },
  {
   "cell_type": "code",
   "execution_count": 10,
   "metadata": {},
   "outputs": [],
   "source": [
    "df_segments = pd.DataFrame([list_name,list_geometry]).T\n",
    "df_segments.columns = ['name','geometry']\n",
    "gdf_segments = gpd.GeoDataFrame(data=df_segments, geometry='geometry', crs=gdf_abstraction.crs)"
   ]
  },
  {
   "cell_type": "code",
   "execution_count": 11,
   "metadata": {},
   "outputs": [
    {
     "data": {
      "text/html": [
       "<div>\n",
       "<style scoped>\n",
       "    .dataframe tbody tr th:only-of-type {\n",
       "        vertical-align: middle;\n",
       "    }\n",
       "\n",
       "    .dataframe tbody tr th {\n",
       "        vertical-align: top;\n",
       "    }\n",
       "\n",
       "    .dataframe thead th {\n",
       "        text-align: right;\n",
       "    }\n",
       "</style>\n",
       "<table border=\"1\" class=\"dataframe\">\n",
       "  <thead>\n",
       "    <tr style=\"text-align: right;\">\n",
       "      <th></th>\n",
       "      <th>name</th>\n",
       "      <th>geometry</th>\n",
       "    </tr>\n",
       "  </thead>\n",
       "  <tbody>\n",
       "    <tr>\n",
       "      <th>0</th>\n",
       "      <td>Area @ koka</td>\n",
       "      <td>LINESTRING (39.15651903010993 8.46909415189558...</td>\n",
       "    </tr>\n",
       "    <tr>\n",
       "      <th>1</th>\n",
       "      <td>Adama water supply</td>\n",
       "      <td>LINESTRING (39.15845411102872 8.46896673764528...</td>\n",
       "    </tr>\n",
       "    <tr>\n",
       "      <th>2</th>\n",
       "      <td>Upstream wonjo</td>\n",
       "      <td>LINESTRING (39.18133425107597 8.47707946712004...</td>\n",
       "    </tr>\n",
       "    <tr>\n",
       "      <th>3</th>\n",
       "      <td>Wonji main</td>\n",
       "      <td>LINESTRING (39.23171811821993 8.45657431471149...</td>\n",
       "    </tr>\n",
       "    <tr>\n",
       "      <th>4</th>\n",
       "      <td>Kuriftu</td>\n",
       "      <td>LINESTRING (39.28673134297797 8.41389856373862...</td>\n",
       "    </tr>\n",
       "  </tbody>\n",
       "</table>\n",
       "</div>"
      ],
      "text/plain": [
       "                 name                                           geometry\n",
       "0         Area @ koka  LINESTRING (39.15651903010993 8.46909415189558...\n",
       "1  Adama water supply  LINESTRING (39.15845411102872 8.46896673764528...\n",
       "2     Upstream wonjo   LINESTRING (39.18133425107597 8.47707946712004...\n",
       "3          Wonji main  LINESTRING (39.23171811821993 8.45657431471149...\n",
       "4             Kuriftu  LINESTRING (39.28673134297797 8.41389856373862..."
      ]
     },
     "execution_count": 11,
     "metadata": {},
     "output_type": "execute_result"
    }
   ],
   "source": [
    "gdf_segments.head()"
   ]
  },
  {
   "cell_type": "code",
   "execution_count": 47,
   "metadata": {},
   "outputs": [],
   "source": [
    "gdf_segments.drop(index=18, inplace=True)"
   ]
  },
  {
   "cell_type": "code",
   "execution_count": 53,
   "metadata": {},
   "outputs": [
    {
     "data": {
      "text/plain": [
       "172563.19964044189"
      ]
     },
     "execution_count": 53,
     "metadata": {},
     "output_type": "execute_result"
    }
   ],
   "source": [
    "gdf_segments['geometry'].to_crs(epsg=32637).length.sum()"
   ]
  },
  {
   "cell_type": "code",
   "execution_count": 60,
   "metadata": {},
   "outputs": [],
   "source": [
    "gdf_segments.index = gdf_segments.index[::-1]"
   ]
  },
  {
   "cell_type": "code",
   "execution_count": 61,
   "metadata": {},
   "outputs": [],
   "source": [
    "gdf_list = [gdf_awash, gdf_river, gdf_abstraction,\n",
    "            gdf_gauge, gdf_abstraction_schematized, gdf_segments]\n",
    "gdf_name = ['catchment', 'river', 'abstraction_points',\n",
    "            'gauge_points', 'abstraction_schematized', 'segments']\n",
    "\n",
    "# store the geopandas geodataframe into geojson\n",
    "for idx in range(len(gdf_name)):\n",
    "    gdf = gdf_list[idx]\n",
    "    geojson_name = gdf_name[idx]\n",
    "    geojson_out = os.path.join(\n",
    "        base_folder, 'json', '{}.json'.format(geojson_name))\n",
    "    gdf2geojson(gdf, geojson_out)"
   ]
  },
  {
   "cell_type": "code",
   "execution_count": 14,
   "metadata": {},
   "outputs": [
    {
     "name": "stdout",
     "output_type": "stream",
     "text": [
      "dataservice is set. https://data.hkvservices.nl/dataservices/ will be used as portal\n"
     ]
    }
   ],
   "source": [
    "from hkvportal.io.services import dataportal as dp\n",
    "dp = dp()\n",
    "dp.setDataservice(dataservice='https://data.hkvservices.nl/dataservices/')"
   ]
  },
  {
   "cell_type": "code",
   "execution_count": null,
   "metadata": {},
   "outputs": [],
   "source": [
    "dp.listDatabase(database='Ethiopia')"
   ]
  },
  {
   "cell_type": "code",
   "execution_count": 18,
   "metadata": {},
   "outputs": [
    {
     "data": {
      "text/plain": [
       "{'date': '2017-12-20 19:23:15',\n",
       " 'id': 'a2839933-b647-42af-97c3-8c8d26fb6758',\n",
       " 'key': 'geojson_river'}"
      ]
     },
     "execution_count": 18,
     "metadata": {},
     "output_type": "execute_result"
    }
   ],
   "source": [
    "import json\n",
    "vega_spec_path = os.path.join(base_folder, 'json', 'river.json')\n",
    "vega_spec = json.load(open(vega_spec_path))\n",
    "# json data uploaden naar data portal\n",
    "dp.setEntryDatabase(database = 'Ethiopia', key = 'geojson_river', data = json.dumps(vega_spec), description = 'Awash Awash basin rivers')"
   ]
  },
  {
   "cell_type": "code",
   "execution_count": 19,
   "metadata": {},
   "outputs": [
    {
     "data": {
      "text/plain": [
       "{'date': '2017-12-20 19:23:29',\n",
       " 'id': '23303693-03ec-4964-a6a8-4e8b557f012c',\n",
       " 'key': 'geojson_catchment'}"
      ]
     },
     "execution_count": 19,
     "metadata": {},
     "output_type": "execute_result"
    }
   ],
   "source": [
    "vega_spec_path = os.path.join(base_folder, 'json', 'catchment.json')\n",
    "vega_spec = json.load(open(vega_spec_path))\n",
    "# json data uploaden naar data portal\n",
    "dp.setEntryDatabase(database = 'Ethiopia', key = 'geojson_catchment', data = json.dumps(vega_spec), description = 'Awash Awash basin catchment')"
   ]
  },
  {
   "cell_type": "code",
   "execution_count": 62,
   "metadata": {},
   "outputs": [
    {
     "data": {
      "text/plain": [
       "{'date': '2017-12-20 20:59:03',\n",
       " 'id': 'da466ba7-87b1-44ad-a306-080ee66ab05d',\n",
       " 'key': 'geojson_segments'}"
      ]
     },
     "execution_count": 62,
     "metadata": {},
     "output_type": "execute_result"
    }
   ],
   "source": [
    "vega_spec_path = os.path.join(base_folder, 'json', 'segments.json')\n",
    "vega_spec = json.load(open(vega_spec_path))\n",
    "# json data uploaden naar data portal\n",
    "dp.setEntryDatabase(database = 'Ethiopia', key = 'geojson_segments', data = json.dumps(vega_spec), description = 'Awash Awash diversion points schematized')"
   ]
  },
  {
   "cell_type": "code",
   "execution_count": 54,
   "metadata": {},
   "outputs": [
    {
     "data": {
      "text/plain": [
       "{'date': '2017-12-20 20:02:29',\n",
       " 'id': '9ee82677-bdee-44a6-9288-44cb6408369f',\n",
       " 'key': 'geojson_diversion_locations'}"
      ]
     },
     "execution_count": 54,
     "metadata": {},
     "output_type": "execute_result"
    }
   ],
   "source": [
    "vega_spec_path = os.path.join(base_folder, 'json', 'abstraction_points.json')\n",
    "vega_spec = json.load(open(vega_spec_path))\n",
    "# json data uploaden naar data portal\n",
    "dp.setEntryDatabase(database = 'Ethiopia', key = 'geojson_diversion_locations', data = json.dumps(vega_spec), description = 'Awash Awash diversion points')"
   ]
  },
  {
   "cell_type": "code",
   "execution_count": 64,
   "metadata": {},
   "outputs": [
    {
     "data": {
      "text/plain": [
       "{'date': '2017-12-20 21:12:49',\n",
       " 'id': '76ebcb20-1596-4ea4-be9c-29d06bd1ca2e',\n",
       " 'key': 'vega3_map'}"
      ]
     },
     "execution_count": 64,
     "metadata": {},
     "output_type": "execute_result"
    }
   ],
   "source": [
    "vega_spec_path = os.path.join(base_folder, 'json', 'vega3_map.json')\n",
    "vega_spec = json.load(open(vega_spec_path))\n",
    "# json data uploaden naar data portal\n",
    "dp.setEntryDatabase(database = 'Ethiopia', key = 'vega3_map', data = json.dumps(vega_spec), description = 'Vega-3 map specification')"
   ]
  },
  {
   "cell_type": "code",
   "execution_count": null,
   "metadata": {},
   "outputs": [],
   "source": []
  }
 ],
 "metadata": {
  "kernelspec": {
   "display_name": "Python 3",
   "language": "python",
   "name": "python3"
  },
  "language_info": {
   "codemirror_mode": {
    "name": "ipython",
    "version": 3
   },
   "file_extension": ".py",
   "mimetype": "text/x-python",
   "name": "python",
   "nbconvert_exporter": "python",
   "pygments_lexer": "ipython3",
   "version": "3.6.5"
  }
 },
 "nbformat": 4,
 "nbformat_minor": 2
}
