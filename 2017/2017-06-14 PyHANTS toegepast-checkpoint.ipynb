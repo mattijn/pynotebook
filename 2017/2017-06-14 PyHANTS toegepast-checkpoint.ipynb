{
 "cells": [
  {
   "cell_type": "code",
   "execution_count": 1,
   "metadata": {
    "collapsed": false,
    "deletable": true,
    "editable": true
   },
   "outputs": [],
   "source": [
    "from osgeo import gdal\n",
    "import matplotlib.pyplot as plt\n",
    "import numpy as np\n",
    "import urllib\n",
    "%matplotlib qt"
   ]
  },
  {
   "cell_type": "code",
   "execution_count": 3,
   "metadata": {
    "collapsed": true,
    "deletable": true,
    "editable": true
   },
   "outputs": [],
   "source": [
    "# The kernal of HANTS algorithm. Implemented by Mattijn.\n",
    "def makediag3d(M):\n",
    "    b = np.zeros((M.shape[0], M.shape[1] * M.shape[1]))\n",
    "    b[:, ::M.shape[1] + 1] = M\n",
    "    \n",
    "    #logging.info('function `makediag3d` complete')    \n",
    "    return b.reshape(M.shape[0], M.shape[1], M.shape[1]) \n",
    "\n",
    "def get_starter_matrix(base_period_len, sample_count, frequencies_considered_count):\n",
    "    nr = min(2 * frequencies_considered_count + 1,\n",
    "                  sample_count)  # number of 2*+1 frequencies, or number of input images\n",
    "    mat = np.zeros(shape=(nr, sample_count))\n",
    "    mat[0, :] = 1\n",
    "    ang = 2 * np.pi * np.arange(base_period_len) / base_period_len\n",
    "    cs = np.cos(ang)\n",
    "    sn = np.sin(ang)\n",
    "    # create some standard sinus and cosinus functions and put in matrix\n",
    "    i = np.arange(1, frequencies_considered_count + 1)\n",
    "    ts = np.arange(sample_count)\n",
    "    for column in range(sample_count):\n",
    "        index = np.mod(i * ts[column], base_period_len)\n",
    "        # index looks like 000, 123, 246, etc, until it wraps around (for len(i)==3)\n",
    "        mat[2 * i - 1, column] = cs.take(index)\n",
    "        mat[2 * i, column] = sn.take(index)\n",
    "\n",
    "    #logging.info('HANTS: function `get_starter_matrix` complete')\n",
    "    return mat\n",
    "\n",
    "def HANTS(sample_count, inputs,\n",
    "          frequencies_considered_count=3,\n",
    "          outliers_to_reject='Lo',\n",
    "          low=0., high=255,\n",
    "          fit_error_tolerance=5,\n",
    "          dod = 5,\n",
    "          delta=0.1):\n",
    "    \"\"\"\n",
    "    Function to apply the Harmonic analysis of time series applied to arrays\n",
    "\n",
    "    sample_count    = nr. of images (total number of actual samples of the time series)\n",
    "    base_period_len    = length of the base period, measured in virtual samples\n",
    "            (days, dekads, months, etc.)\n",
    "    frequencies_considered_count    = number of frequencies to be considered above the zero frequency\n",
    "    inputs     = array of input sample values (e.g. NDVI values)\n",
    "    ts    = array of size sample_count of time sample indicators\n",
    "            (indicates virtual sample number relative to the base period);\n",
    "            numbers in array ts maybe greater than base_period_len\n",
    "            If no aux file is used (no time samples), we assume ts(i)= i,\n",
    "            where i=1, ..., sample_count\n",
    "    outliers_to_reject  = 2-character string indicating rejection of high or low outliers\n",
    "            select from 'Hi', 'Lo' or 'None'\n",
    "    low   = valid range minimum\n",
    "    high  = valid range maximum (values outside the valid range are rejeced\n",
    "            right away)\n",
    "    fit_error_tolerance   = fit error tolerance (points deviating more than fit_error_tolerance from curve\n",
    "            fit are rejected)\n",
    "    dod   = degree of overdeterminedness (iteration stops if number of\n",
    "            points reaches the minimum required for curve fitting, plus\n",
    "            dod). This is a safety measure\n",
    "    delta = small positive number (e.g. 0.1) to suppress high amplitudes\n",
    "    \"\"\"\n",
    "    # logger = mp.get_logger()\n",
    "    # logger.info('HANTS: HANTS is active %s', inputs.shape)\n",
    "\n",
    "    # define some parameters\n",
    "    base_period_len = sample_count  #\n",
    "    \n",
    "    # check which setting to set for outlier filtering\n",
    "    if outliers_to_reject == 'Hi':\n",
    "        sHiLo = -1\n",
    "    elif outliers_to_reject == 'Lo':\n",
    "        sHiLo = 1\n",
    "    else:\n",
    "        sHiLo = 0\n",
    "\n",
    "    nr = min(2 * frequencies_considered_count + 1,\n",
    "             sample_count)  # number of 2*+1 frequencies, or number of input images\n",
    "\n",
    "    # create empty arrays to fill\n",
    "    outputs = np.zeros(shape=(inputs.shape[0], sample_count))\n",
    "\n",
    "    mat = get_starter_matrix(base_period_len, sample_count, frequencies_considered_count)\n",
    "\n",
    "    # repeat the mat array over the number of arrays in inputs\n",
    "    # and create arrays with ones with shape inputs where high and low values are set to 0\n",
    "    mat = np.tile(mat[None].T, (1, inputs.shape[0])).T\n",
    "    p = np.ones_like(inputs)\n",
    "    p[(low >= inputs) | (inputs > high)] = 0\n",
    "    nout = np.sum(p == 0, axis=-1)  # count the outliers for each timeseries\n",
    "\n",
    "\n",
    "    # prepare for while loop\n",
    "    ready = np.zeros((inputs.shape[0]), dtype=bool)  # all timeseries set to false\n",
    "\n",
    "    #dod = 1  # (2*frequencies_considered_count-1)  # Um, no it isn't :/\n",
    "    noutmax = sample_count - nr - dod\n",
    "    # prepare to add delta to suppress high amplitudes but not for [0,0]\n",
    "    Adelta = np.tile(np.diag(np.ones(nr))[None].T, (1, inputs.shape[0])).T * delta\n",
    "    Adelta[:, 0, 0] -= delta\n",
    "    \n",
    "    \n",
    "    for _ in range(sample_count):\n",
    "        if ready.all():\n",
    "            break        \n",
    "        \n",
    "        # multiply outliers with timeseries\n",
    "        za = np.einsum('ijk,ik->ij', mat, p * inputs)\n",
    "        #print za\n",
    "\n",
    "        # multiply mat with the multiplication of multiply diagonal of p with transpose of mat\n",
    "        diag = makediag3d(p)\n",
    "        #print diag\n",
    "        \n",
    "        A = np.einsum('ajk,aki->aji', mat, np.einsum('aij,jka->ajk', diag, mat.T))\n",
    "        # add delta to suppress high amplitudes but not for [0,0]\n",
    "        A += Adelta\n",
    "        #A[:, 0, 0] = A[:, 0, 0] - delta\n",
    "        #print A\n",
    "\n",
    "        # solve linear matrix equation and define reconstructed timeseries\n",
    "        zr = np.linalg.solve(A, za)\n",
    "        #print zr\n",
    "        \n",
    "        outputs = np.einsum('ijk,kj->ki', mat.T, zr)\n",
    "        #print outputs\n",
    "\n",
    "        # calculate error and sort err by index\n",
    "        err = p * (sHiLo * (outputs - inputs))\n",
    "        rankVec = np.argsort(err, axis=1, )\n",
    "\n",
    "        # select maximum error and compute new ready status\n",
    "        maxerr = np.max(err, axis=-1)\n",
    "        #maxerr = np.diag(err.take(rankVec[:, sample_count - 1], axis=-1))\n",
    "        ready = (maxerr <= fit_error_tolerance) | (nout == noutmax)        \n",
    "\n",
    "        # if ready is still false\n",
    "        if not ready.all():\n",
    "            j = rankVec.take(sample_count - 1, axis=-1)\n",
    "\n",
    "            p.T[j.T, np.indices(j.shape)] = p.T[j.T, np.indices(j.shape)] * ready.astype(\n",
    "                int)  #*check\n",
    "            nout += 1\n",
    "\n",
    "    #logging.info('HANTS: function `HANTS` complete')\n",
    "    #print 'function HANTS complete'\n",
    "    return outputs"
   ]
  },
  {
   "cell_type": "code",
   "execution_count": 4,
   "metadata": {
    "collapsed": true,
    "deletable": true,
    "editable": true
   },
   "outputs": [],
   "source": [
    "import pandas as pd"
   ]
  },
  {
   "cell_type": "code",
   "execution_count": 5,
   "metadata": {
    "collapsed": true,
    "deletable": true,
    "editable": true
   },
   "outputs": [],
   "source": [
    "file_in = r'P:\\Pr\\3556.10\\Werkmap\\PR3556.10.03_WAQUA\\tmp\\CSV\\U10D338Lp300S060Fm320K00_set1.csv'\n",
    "df = pd.read_csv(file_in)"
   ]
  },
  {
   "cell_type": "code",
   "execution_count": 6,
   "metadata": {
    "collapsed": false,
    "deletable": true,
    "editable": true
   },
   "outputs": [],
   "source": [
    "array_org = np.array([df.ZWL.as_matrix()])"
   ]
  },
  {
   "cell_type": "code",
   "execution_count": 7,
   "metadata": {
    "collapsed": false,
    "deletable": true,
    "editable": true
   },
   "outputs": [],
   "source": [
    "# fig = plt.figure(figsize=(15,3))\n",
    "\n",
    "# ax2 = fig.add_subplot(111)\n",
    "# img2 = ax2.imshow(np.ma.masked_equal(array_org1, 0), cmap='viridis',interpolation = 'nearest')\n",
    "# ax2.set_xlabel('Long')\n",
    "# ax2.set_ylabel('ansi')\n",
    "# ax2.set_title('ORIGINAL array shape: '+str(array_org1.shape))\n",
    "\n",
    "# plt.colorbar(img2, orientation='horizontal', ax=ax2)\n",
    "# plt.tight_layout()\n",
    "# #plt.savefig(r'D:\\tmp\\HANTS_OUT//slice_ansi_long.png', dpi=200)\n",
    "# plt.show()"
   ]
  },
  {
   "cell_type": "code",
   "execution_count": 8,
   "metadata": {
    "collapsed": false,
    "deletable": true,
    "editable": true
   },
   "outputs": [
    {
     "data": {
      "text/plain": [
       "'2.0.0'"
      ]
     },
     "execution_count": 8,
     "metadata": {},
     "output_type": "execute_result"
    }
   ],
   "source": [
    "import plotly\n",
    "plotly.__version__"
   ]
  },
  {
   "cell_type": "code",
   "execution_count": null,
   "metadata": {
    "collapsed": true,
    "deletable": true,
    "editable": true
   },
   "outputs": [],
   "source": []
  },
  {
   "cell_type": "code",
   "execution_count": 9,
   "metadata": {
    "collapsed": false,
    "deletable": true,
    "editable": true
   },
   "outputs": [
    {
     "data": {
      "text/plain": [
       "[<matplotlib.lines.Line2D at 0xb62e9e8>]"
      ]
     },
     "execution_count": 9,
     "metadata": {},
     "output_type": "execute_result"
    }
   ],
   "source": [
    "plt.plot(array_org[0])"
   ]
  },
  {
   "cell_type": "code",
   "execution_count": 11,
   "metadata": {
    "collapsed": false,
    "deletable": true,
    "editable": true
   },
   "outputs": [],
   "source": [
    "array_nan_to_num = np.nan_to_num(array_org)"
   ]
  },
  {
   "cell_type": "code",
   "execution_count": 12,
   "metadata": {
    "collapsed": false,
    "deletable": true,
    "editable": true
   },
   "outputs": [
    {
     "data": {
      "text/plain": [
       "0.05"
      ]
     },
     "execution_count": 12,
     "metadata": {},
     "output_type": "execute_result"
    }
   ],
   "source": [
    "5/100."
   ]
  },
  {
   "cell_type": "code",
   "execution_count": 20,
   "metadata": {
    "collapsed": false,
    "deletable": true,
    "editable": true
   },
   "outputs": [],
   "source": [
    "array_hants = HANTS(array_nan_to_num.shape[1], array_nan_to_num*10.,\n",
    "                    frequencies_considered_count = 20,\n",
    "                    outliers_to_reject = 'Lo',\n",
    "                    low = -10000/100., \n",
    "                    high = 10000/100.,\n",
    "                    fit_error_tolerance = 500/100.,\n",
    "                    dod = 5/100.,\n",
    "                    delta = 0.1)\n",
    "array_hants /= 10"
   ]
  },
  {
   "cell_type": "code",
   "execution_count": 21,
   "metadata": {
    "collapsed": false,
    "deletable": true,
    "editable": true
   },
   "outputs": [],
   "source": [
    "# fig = plt.figure(figsize=(15,3))\n",
    "\n",
    "# ax2 = fig.add_subplot(111)\n",
    "# img2 = ax2.imshow(np.ma.masked_equal(array_hants, 0), cmap='viridis',interpolation = 'nearest')\n",
    "# ax2.set_xlabel('Long')\n",
    "# ax2.set_ylabel('ansi')\n",
    "# ax2.set_title('ORIGINAL array shape: '+str(array_hants.shape))\n",
    "\n",
    "# plt.colorbar(img2, orientation='horizontal', ax=ax2)\n",
    "# plt.tight_layout()\n",
    "# #plt.savefig(r'D:\\tmp\\HANTS_OUT//slice_ansi_long.png', dpi=200)\n",
    "# plt.show()"
   ]
  },
  {
   "cell_type": "code",
   "execution_count": 22,
   "metadata": {
    "collapsed": true
   },
   "outputs": [],
   "source": [
    "array_dif = array_org - array_hants"
   ]
  },
  {
   "cell_type": "code",
   "execution_count": 23,
   "metadata": {
    "collapsed": false,
    "deletable": true,
    "editable": true
   },
   "outputs": [],
   "source": [
    "fig = plt.figure(figsize=(15,3))\n",
    "plt.plot(array_org[0])\n",
    "plt.plot(array_hants[0])\n",
    "plt.plot(array_dif[0])\n",
    "plt.grid()\n",
    "plt.show()"
   ]
  },
  {
   "cell_type": "code",
   "execution_count": 32,
   "metadata": {
    "collapsed": false,
    "deletable": true,
    "editable": true
   },
   "outputs": [
    {
     "name": "stderr",
     "output_type": "stream",
     "text": [
      "c:\\python35\\lib\\site-packages\\ipykernel\\__main__.py:1: RuntimeWarning:\n",
      "\n",
      "invalid value encountered in less\n",
      "\n"
     ]
    },
    {
     "data": {
      "text/plain": [
       "array([[False, False, False, ..., False, False, False]], dtype=bool)"
      ]
     },
     "execution_count": 32,
     "metadata": {},
     "output_type": "execute_result"
    }
   ],
   "source": [
    "test = array_dif < -0.05\n",
    "test"
   ]
  },
  {
   "cell_type": "code",
   "execution_count": 36,
   "metadata": {
    "collapsed": true
   },
   "outputs": [],
   "source": [
    "def nan_helper(y):\n",
    "    \"\"\"Helper to handle indices and logical indices of NaNs.\n",
    "\n",
    "    Input:\n",
    "        - y, 1d numpy array with possible NaNs\n",
    "    Output:\n",
    "        - nans, logical indices of NaNs\n",
    "        - index, a function, with signature indices= index(logical_indices),\n",
    "          to convert logical indices of NaNs to 'equivalent' indices\n",
    "    Example:\n",
    "        >>> # linear interpolation of NaNs\n",
    "        >>> nans, x= nan_helper(y)\n",
    "        >>> y[nans]= np.interp(x(nans), x(~nans), y[~nans])\n",
    "    \"\"\"\n",
    "\n",
    "    return np.isnan(y), lambda z: z.nonzero()[0]\n"
   ]
  },
  {
   "cell_type": "code",
   "execution_count": 30,
   "metadata": {
    "collapsed": false
   },
   "outputs": [
    {
     "data": {
      "text/plain": [
       "[<matplotlib.lines.Line2D at 0xb7ebac8>]"
      ]
     },
     "execution_count": 30,
     "metadata": {},
     "output_type": "execute_result"
    }
   ],
   "source": [
    "plt.plot(array_hants[0][test])"
   ]
  },
  {
   "cell_type": "code",
   "execution_count": 33,
   "metadata": {
    "collapsed": false
   },
   "outputs": [],
   "source": [
    "array_org[test]=np.nan"
   ]
  },
  {
   "cell_type": "code",
   "execution_count": 35,
   "metadata": {
    "collapsed": false
   },
   "outputs": [
    {
     "data": {
      "text/plain": [
       "[<matplotlib.lines.Line2D at 0xb73f2b0>]"
      ]
     },
     "execution_count": 35,
     "metadata": {},
     "output_type": "execute_result"
    }
   ],
   "source": [
    "plt.plot(array_org[0])"
   ]
  },
  {
   "cell_type": "code",
   "execution_count": null,
   "metadata": {
    "collapsed": true
   },
   "outputs": [],
   "source": []
  }
 ],
 "metadata": {
  "kernelspec": {
   "display_name": "Python 3",
   "language": "python",
   "name": "python3"
  },
  "language_info": {
   "codemirror_mode": {
    "name": "ipython",
    "version": 3
   },
   "file_extension": ".py",
   "mimetype": "text/x-python",
   "name": "python",
   "nbconvert_exporter": "python",
   "pygments_lexer": "ipython3",
   "version": "3.5.2"
  }
 },
 "nbformat": 4,
 "nbformat_minor": 2
}
