{
 "cells": [
  {
   "cell_type": "code",
   "execution_count": 19,
   "metadata": {
    "collapsed": false,
    "deletable": true,
    "editable": true
   },
   "outputs": [],
   "source": [
    "import numpy as np\n",
    "import matplotlib.pyplot as plt\n",
    "import pandas as pd\n",
    "import matplotlib.ticker as ticker\n",
    "import zipfile\n",
    "import os\n",
    "from datetime import datetime\n",
    "import pandas as pd\n",
    "import numpy as np\n",
    "import matplotlib"
   ]
  },
  {
   "cell_type": "code",
   "execution_count": 20,
   "metadata": {
    "collapsed": true,
    "deletable": true,
    "editable": true
   },
   "outputs": [],
   "source": [
    "def zipdir(path, ziph):\n",
    "    # ziph is zipfile handle\n",
    "    for root, dirs, files in os.walk(path):\n",
    "        for file in files:\n",
    "            ziph.write(os.path.join(root, file),os.path.relpath(os.path.join(root, file), os.path.join(path, '..')))"
   ]
  },
  {
   "cell_type": "code",
   "execution_count": 49,
   "metadata": {
    "collapsed": false,
    "deletable": true,
    "editable": true
   },
   "outputs": [],
   "source": [
    "baseDir = r'C:\\Users\\Hoek\\Downloads\\reizenExport 2017-03-20 08.18.10'\n",
    "\n",
    "# data files\n",
    "file_dumping = os.path.join(baseDir, r'data', r'reizen_dumping.csv')\n",
    "file_loading = os.path.join(baseDir, r'data', r'reizen_loading.csv')\n",
    "file_stats= os.path.join(baseDir, r'data', r'stats_reizen.csv')\n",
    "file_reizen_plot = os.path.join(baseDir, r'data', r'stats_reizen.png')\n",
    "\n",
    "# load csv into dataframes\n",
    "df_d = pd.read_csv(file_dumping, na_values=-9999.0)\n",
    "df_l = pd.read_csv(file_loading, na_values=-9999.0)\n",
    "\n",
    "# apply a union join \n",
    "df_dl = pd.concat((df_d,df_l))# pd.merge(df_l,df_d, how='right', on='Datum')\n",
    "\n",
    "# set Datum as index and force to datetime\n",
    "df_dl.set_index('Datum', inplace=True)\n",
    "df_dl.index = pd.to_datetime(df_dl.index)\n",
    "\n",
    "# combine stats from dagrapport and mars, where currently mars stats is commented out\n",
    "df_dl['Kuubs gebaggerd (m3)'] = df_dl['Kuubs gebaggerd (m3 dagrapport)'] #+ df_dl['Kuubs gebaggerd (m3 mars)']\n",
    "df_dl['Kuubs verspreid (m3)'] = df_dl['Kuubs verspreid (m3 dagrapport)'] #+ df_dl['Kuubs verspreid (m3 mars)']\n",
    "df_dl['Kuubs zand winning (m3)'] = df_dl['Kuubs zand winning (m3 dagrapport)']\n",
    "df_dl = df_dl[['Kuubs gebaggerd (m3)','Kuubs verspreid (m3)','Kuubs zand winning (m3)']]\n",
    "\n",
    "# drop rows where all data columns contain NoData \n",
    "df_dl_drop = df_dl.dropna(how='all', subset=['Kuubs gebaggerd (m3)',\n",
    "                                             'Kuubs zand winning (m3)', \n",
    "                                             #'Kuubs gebaggerd (m3 mars)',\n",
    "                                             'Kuubs verspreid (m3)',\n",
    "                                             #'Kuubs verspreid (m3 mars)'\n",
    "                                            ])\n",
    "\n",
    "\n",
    "\n",
    "\n",
    "# groupby year, month and week using a summation and save to csv\n",
    "stats = df_dl.groupby([df_dl.index.year,df_dl.index.month,df_dl.index.week]).sum()\n",
    "#stats.to_csv(file_stats)\n",
    "\n",
    "# resample to week and month as input for a plot\n",
    "df_daily_sum = df_dl_drop.groupby(df_dl_drop.index).sum()\n",
    "df_ts_W = df_daily_sum.resample('W').sum()\n",
    "df_ts_M = df_daily_sum.resample('M').sum()"
   ]
  },
  {
   "cell_type": "code",
   "execution_count": 50,
   "metadata": {
    "collapsed": false
   },
   "outputs": [
    {
     "data": {
      "text/html": [
       "<div>\n",
       "<table border=\"1\" class=\"dataframe\">\n",
       "  <thead>\n",
       "    <tr style=\"text-align: right;\">\n",
       "      <th></th>\n",
       "      <th>Kuubs gebaggerd (m3)</th>\n",
       "      <th>Kuubs verspreid (m3)</th>\n",
       "      <th>Kuubs zand winning (m3)</th>\n",
       "    </tr>\n",
       "    <tr>\n",
       "      <th>Datum</th>\n",
       "      <th></th>\n",
       "      <th></th>\n",
       "      <th></th>\n",
       "    </tr>\n",
       "  </thead>\n",
       "  <tbody>\n",
       "    <tr>\n",
       "      <th>2016-09-21</th>\n",
       "      <td>NaN</td>\n",
       "      <td>NaN</td>\n",
       "      <td>NaN</td>\n",
       "    </tr>\n",
       "    <tr>\n",
       "      <th>2016-09-21</th>\n",
       "      <td>NaN</td>\n",
       "      <td>NaN</td>\n",
       "      <td>NaN</td>\n",
       "    </tr>\n",
       "    <tr>\n",
       "      <th>2016-09-21</th>\n",
       "      <td>NaN</td>\n",
       "      <td>NaN</td>\n",
       "      <td>NaN</td>\n",
       "    </tr>\n",
       "    <tr>\n",
       "      <th>2016-09-21</th>\n",
       "      <td>NaN</td>\n",
       "      <td>NaN</td>\n",
       "      <td>NaN</td>\n",
       "    </tr>\n",
       "    <tr>\n",
       "      <th>2016-09-21</th>\n",
       "      <td>NaN</td>\n",
       "      <td>NaN</td>\n",
       "      <td>NaN</td>\n",
       "    </tr>\n",
       "  </tbody>\n",
       "</table>\n",
       "</div>"
      ],
      "text/plain": [
       "            Kuubs gebaggerd (m3)  Kuubs verspreid (m3)  \\\n",
       "Datum                                                    \n",
       "2016-09-21                   NaN                   NaN   \n",
       "2016-09-21                   NaN                   NaN   \n",
       "2016-09-21                   NaN                   NaN   \n",
       "2016-09-21                   NaN                   NaN   \n",
       "2016-09-21                   NaN                   NaN   \n",
       "\n",
       "            Kuubs zand winning (m3)  \n",
       "Datum                                \n",
       "2016-09-21                      NaN  \n",
       "2016-09-21                      NaN  \n",
       "2016-09-21                      NaN  \n",
       "2016-09-21                      NaN  \n",
       "2016-09-21                      NaN  "
      ]
     },
     "execution_count": 50,
     "metadata": {},
     "output_type": "execute_result"
    }
   ],
   "source": [
    "# first 5 rows of joined pandas dataframe on day level by loading and dumping locations\n",
    "# m3 dagrapport is gemeten bij vdLee\n",
    "# m3 MARS is gemeten door RWS MARS systeem\n",
    "# waarbij vdLee aangeeft dat op dit moment alleen de vdLee registraties leidend zijn.\n",
    "df_dl.head()"
   ]
  },
  {
   "cell_type": "code",
   "execution_count": 51,
   "metadata": {
    "collapsed": false
   },
   "outputs": [
    {
     "data": {
      "text/html": [
       "<div>\n",
       "<table border=\"1\" class=\"dataframe\">\n",
       "  <thead>\n",
       "    <tr style=\"text-align: right;\">\n",
       "      <th></th>\n",
       "      <th></th>\n",
       "      <th></th>\n",
       "      <th>Kuubs gebaggerd (m3)</th>\n",
       "      <th>Kuubs verspreid (m3)</th>\n",
       "      <th>Kuubs zand winning (m3)</th>\n",
       "    </tr>\n",
       "  </thead>\n",
       "  <tbody>\n",
       "    <tr>\n",
       "      <th rowspan=\"9\" valign=\"top\">2017</th>\n",
       "      <th rowspan=\"5\" valign=\"top\">2</th>\n",
       "      <th>5</th>\n",
       "      <td>31290.48</td>\n",
       "      <td>32040.48</td>\n",
       "      <td>4443.0</td>\n",
       "    </tr>\n",
       "    <tr>\n",
       "      <th>6</th>\n",
       "      <td>42816.72</td>\n",
       "      <td>42066.72</td>\n",
       "      <td>2343.0</td>\n",
       "    </tr>\n",
       "    <tr>\n",
       "      <th>7</th>\n",
       "      <td>33841.58</td>\n",
       "      <td>31636.58</td>\n",
       "      <td>223.0</td>\n",
       "    </tr>\n",
       "    <tr>\n",
       "      <th>8</th>\n",
       "      <td>15621.00</td>\n",
       "      <td>15621.00</td>\n",
       "      <td>3044.0</td>\n",
       "    </tr>\n",
       "    <tr>\n",
       "      <th>9</th>\n",
       "      <td>1500.00</td>\n",
       "      <td>1500.00</td>\n",
       "      <td>680.0</td>\n",
       "    </tr>\n",
       "    <tr>\n",
       "      <th rowspan=\"4\" valign=\"top\">3</th>\n",
       "      <th>9</th>\n",
       "      <td>12849.00</td>\n",
       "      <td>12849.00</td>\n",
       "      <td>2263.0</td>\n",
       "    </tr>\n",
       "    <tr>\n",
       "      <th>10</th>\n",
       "      <td>13653.00</td>\n",
       "      <td>13653.00</td>\n",
       "      <td>3628.0</td>\n",
       "    </tr>\n",
       "    <tr>\n",
       "      <th>11</th>\n",
       "      <td>NaN</td>\n",
       "      <td>NaN</td>\n",
       "      <td>NaN</td>\n",
       "    </tr>\n",
       "    <tr>\n",
       "      <th>12</th>\n",
       "      <td>NaN</td>\n",
       "      <td>NaN</td>\n",
       "      <td>NaN</td>\n",
       "    </tr>\n",
       "  </tbody>\n",
       "</table>\n",
       "</div>"
      ],
      "text/plain": [
       "           Kuubs gebaggerd (m3)  Kuubs verspreid (m3)  Kuubs zand winning (m3)\n",
       "2017 2 5               31290.48              32040.48                   4443.0\n",
       "       6               42816.72              42066.72                   2343.0\n",
       "       7               33841.58              31636.58                    223.0\n",
       "       8               15621.00              15621.00                   3044.0\n",
       "       9                1500.00               1500.00                    680.0\n",
       "     3 9               12849.00              12849.00                   2263.0\n",
       "       10              13653.00              13653.00                   3628.0\n",
       "       11                   NaN                   NaN                      NaN\n",
       "       12                   NaN                   NaN                      NaN"
      ]
     },
     "execution_count": 51,
     "metadata": {},
     "output_type": "execute_result"
    }
   ],
   "source": [
    "# create multi index using year - month - and week levels\n",
    "stats.tail(9)"
   ]
  },
  {
   "cell_type": "code",
   "execution_count": 52,
   "metadata": {
    "collapsed": true
   },
   "outputs": [],
   "source": [
    "# plot the week and day level combined of vdLee data and MARS data"
   ]
  },
  {
   "cell_type": "code",
   "execution_count": 56,
   "metadata": {
    "collapsed": false,
    "deletable": true,
    "editable": true
   },
   "outputs": [
    {
     "data": {
      "image/png": "[encoded data removed]",
      "text/plain": [
       "<matplotlib.figure.Figure at 0x9b21710>"
      ]
     },
     "metadata": {},
     "output_type": "display_data"
    }
   ],
   "source": [
    "# week plot\n",
    "plt.subplot(211)\n",
    "ax = df_ts_W.plot(kind='bar', x=df_ts_W.index, stacked=False, figsize=(15,10), ax=plt.gca())\n",
    "# Make most of the ticklabels empty so the labels don't get too crowded\n",
    "ticklabels = ['']*len(df_ts_W.index)\n",
    "# weeknumber as tick\n",
    "ticklabels[::1] = [item.strftime('%W') for item in df_ts_W.index[::1]]\n",
    "ticklabels= ['52' if x=='00' else x for x in ticklabels]\n",
    "# show year for first and last item\n",
    "ticklabels[::len(df_ts_W.index)-1] = [item.strftime('%W\\n%Y') for item in df_ts_W.index[::len(df_ts_W.index)-1]]\n",
    "ax.xaxis.set_major_formatter(ticker.FixedFormatter(ticklabels))\n",
    "ax.set_ylabel('Kubering (m3 * 1000)')\n",
    "ax.set_xlabel('Week')\n",
    "ax.set_title('Kuberingen per week')\n",
    "plt.setp( ax.xaxis.get_majorticklabels(), rotation=0)\n",
    "\n",
    "# month plot\n",
    "plt.subplot(212)\n",
    "ax = df_ts_M.plot(kind='bar', x=df_ts_M.index, stacked=False, figsize=(15,10), ax=plt.gca())\n",
    "# Make most of the ticklabels empty so the labels don't get too crowded\n",
    "ticklabels = ['']*len(df_ts_M.index)\n",
    "# month name as tick\n",
    "ticklabels[::1] = [item.strftime('%B') for item in df_ts_M.index[::1]]\n",
    "ticklabels= ['52' if x=='00' else x for x in ticklabels]\n",
    "# show year for first and last item\n",
    "ticklabels[::len(df_ts_M.index)-1] = [item.strftime('%B\\n%Y') for item in df_ts_M.index[::len(df_ts_M.index)-1]]\n",
    "ax.xaxis.set_major_formatter(ticker.FixedFormatter(ticklabels))\n",
    "ax.set_ylabel('Kubering (m3 * 1000)')\n",
    "ax.set_xlabel('Maand')\n",
    "ax.set_title('Kuberingen per maand')\n",
    "plt.setp( ax.xaxis.get_majorticklabels(), rotation=0)\n",
    "\n",
    "# tight it all together and save\n",
    "\n",
    "plt.tight_layout()\n",
    "plt.show()"
   ]
  },
  {
   "cell_type": "code",
   "execution_count": 29,
   "metadata": {
    "collapsed": true
   },
   "outputs": [],
   "source": [
    "# if required zip the stats dataframe and plot as csv files"
   ]
  },
  {
   "cell_type": "code",
   "execution_count": 30,
   "metadata": {
    "collapsed": false,
    "deletable": true,
    "editable": true
   },
   "outputs": [
    {
     "name": "stdout",
     "output_type": "stream",
     "text": [
      "zilfilename: C:\\Users\\Hoek\\Downloads\\reizenExport 2017-03-20 08.18.10\\zipped\\reizenExport 2017-03-27 09.47.51.zip\n",
      "folderzipfile: C:\\Users\\Hoek\\Downloads\\reizenExport 2017-03-20 08.18.10\\data\n"
     ]
    }
   ],
   "source": [
    "# zip names\n",
    "fileName = 'reizenExport '+datetime.now().strftime('%Y-%m-%d %H.%M.%S')+'.zip'\n",
    "\n",
    "zipFile = os.path.join(baseDir, r'zipped',fileName)\n",
    "folder2zip = os.path.join(baseDir,r'data')\n",
    "print ('zilfilename:',zipFile)\n",
    "print ('folderzipfile:', folder2zip)"
   ]
  },
  {
   "cell_type": "code",
   "execution_count": null,
   "metadata": {
    "collapsed": false
   },
   "outputs": [],
   "source": [
    "# zip data files to zip folder\n",
    "zipf = zipfile.ZipFile(zipFile, 'w', zipfile.ZIP_DEFLATED)\n",
    "zipdir(folder2zip, zipf)\n",
    "zipf.close()"
   ]
  }
 ],
 "metadata": {
  "kernelspec": {
   "display_name": "Python 3",
   "language": "python",
   "name": "python3"
  },
  "language_info": {
   "codemirror_mode": {
    "name": "ipython",
    "version": 3
   },
   "file_extension": ".py",
   "mimetype": "text/x-python",
   "name": "python",
   "nbconvert_exporter": "python",
   "pygments_lexer": "ipython3",
   "version": "3.5.2"
  }
 },
 "nbformat": 4,
 "nbformat_minor": 2
}
