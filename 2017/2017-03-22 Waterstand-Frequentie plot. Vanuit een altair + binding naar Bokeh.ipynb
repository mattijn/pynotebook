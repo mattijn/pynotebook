{
 "cells": [
  {
   "cell_type": "code",
   "execution_count": 8,
   "metadata": {
    "collapsed": true,
    "deletable": true,
    "editable": true
   },
   "outputs": [],
   "source": [
    "import pandas as pd"
   ]
  },
  {
   "cell_type": "code",
   "execution_count": 9,
   "metadata": {
    "collapsed": true,
    "deletable": true,
    "editable": true
   },
   "outputs": [],
   "source": [
    "path_in =r'D:\\Projects\\Pr\\3556.10\\hfreq.txt'"
   ]
  },
  {
   "cell_type": "markdown",
   "metadata": {
    "deletable": true,
    "editable": true
   },
   "source": [
    "Eerst lezen we het bestand in met pandas"
   ]
  },
  {
   "cell_type": "code",
   "execution_count": 10,
   "metadata": {
    "collapsed": false,
    "deletable": true,
    "editable": true
   },
   "outputs": [],
   "source": [
    "df = pd.read_csv(path_in, delim_whitespace=True, skiprows=1, header=None, )\n",
    "df.columns = ['waterlevel','frequency']"
   ]
  },
  {
   "cell_type": "code",
   "execution_count": 12,
   "metadata": {
    "collapsed": false,
    "deletable": true,
    "editable": true
   },
   "outputs": [
    {
     "data": {
      "text/html": [
       "<div>\n",
       "<table border=\"1\" class=\"dataframe\">\n",
       "  <thead>\n",
       "    <tr style=\"text-align: right;\">\n",
       "      <th></th>\n",
       "      <th>waterlevel</th>\n",
       "      <th>frequency</th>\n",
       "    </tr>\n",
       "  </thead>\n",
       "  <tbody>\n",
       "    <tr>\n",
       "      <th>0</th>\n",
       "      <td>15.2</td>\n",
       "      <td>0.113170</td>\n",
       "    </tr>\n",
       "    <tr>\n",
       "      <th>1</th>\n",
       "      <td>15.3</td>\n",
       "      <td>0.100565</td>\n",
       "    </tr>\n",
       "    <tr>\n",
       "      <th>2</th>\n",
       "      <td>15.4</td>\n",
       "      <td>0.087885</td>\n",
       "    </tr>\n",
       "    <tr>\n",
       "      <th>3</th>\n",
       "      <td>15.5</td>\n",
       "      <td>0.077290</td>\n",
       "    </tr>\n",
       "    <tr>\n",
       "      <th>4</th>\n",
       "      <td>15.6</td>\n",
       "      <td>0.067216</td>\n",
       "    </tr>\n",
       "  </tbody>\n",
       "</table>\n",
       "</div>"
      ],
      "text/plain": [
       "   waterlevel  frequency\n",
       "0        15.2   0.113170\n",
       "1        15.3   0.100565\n",
       "2        15.4   0.087885\n",
       "3        15.5   0.077290\n",
       "4        15.6   0.067216"
      ]
     },
     "execution_count": 12,
     "metadata": {},
     "output_type": "execute_result"
    }
   ],
   "source": [
    "df.head()"
   ]
  },
  {
   "cell_type": "code",
   "execution_count": 13,
   "metadata": {
    "collapsed": false,
    "deletable": true,
    "editable": true
   },
   "outputs": [],
   "source": [
    "#df.to_json(r'D:\\Projects\\RO\\HydroAsAService//waterlevel_returnperiod.json')"
   ]
  },
  {
   "cell_type": "markdown",
   "metadata": {
    "deletable": true,
    "editable": true
   },
   "source": [
    "Eerst kijken of we het kunnen plotten met de Altair module, zie voor voorbeelden: https://github.com/jakevdp/altair-examples. De module is gebasseerd op een Vega-Lite JSON object, waarbij sommige elementen voor ingevuld worden op basis van de data. Je datatype, aangegeven met `:Q` (quantitative) zou je weg kunnen laten bijvoorbeeld"
   ]
  },
  {
   "cell_type": "code",
   "execution_count": 14,
   "metadata": {
    "collapsed": true,
    "deletable": true,
    "editable": true
   },
   "outputs": [],
   "source": [
    "from altair import *"
   ]
  },
  {
   "cell_type": "code",
   "execution_count": 16,
   "metadata": {
    "collapsed": false,
    "deletable": true,
    "editable": true
   },
   "outputs": [
    {
     "data": {
      "text/html": [
       "<div class=\"vega-embed\" id=\"54d54360-3fe8-4cbe-90ab-eff00387723f\"></div>\n",
       "\n",
       "<style>\n",
       ".vega-embed svg, .vega-embed canvas {\n",
       "  border: 1px dotted gray;\n",
       "}\n",
       "\n",
       ".vega-embed .vega-actions a {\n",
       "  margin-right: 6px;\n",
       "}\n",
       "</style>\n"
      ]
     },
     "metadata": {
      "jupyter-vega": "#54d54360-3fe8-4cbe-90ab-eff00387723f"
     },
     "output_type": "display_data"
    },
    {
     "data": {
      "application/javascript": [
       "var spec = {\"mark\": \"line\", \"data\": {\"values\": [{\"waterlevel\": 15.2, \"frequency\": 0.1131702}, {\"waterlevel\": 15.3, \"frequency\": 0.1005654}, {\"waterlevel\": 15.4, \"frequency\": 0.087884739}, {\"waterlevel\": 15.5, \"frequency\": 0.07728956599999999}, {\"waterlevel\": 15.6, \"frequency\": 0.067216396}, {\"waterlevel\": 15.7, \"frequency\": 0.057845965}, {\"waterlevel\": 15.8, \"frequency\": 0.049733865999999995}, {\"waterlevel\": 15.9, \"frequency\": 0.041748479}, {\"waterlevel\": 16.0, \"frequency\": 0.034775663}, {\"waterlevel\": 16.1, \"frequency\": 0.029016647000000003}, {\"waterlevel\": 16.2, \"frequency\": 0.024304695}, {\"waterlevel\": 16.3, \"frequency\": 0.020148421}, {\"waterlevel\": 16.4, \"frequency\": 0.016645148000000002}, {\"waterlevel\": 16.5, \"frequency\": 0.013650425}, {\"waterlevel\": 16.6, \"frequency\": 0.011218123}, {\"waterlevel\": 16.7, \"frequency\": 0.0089963209}, {\"waterlevel\": 16.8, \"frequency\": 0.0069746193}, {\"waterlevel\": 16.9, \"frequency\": 0.0052340645}, {\"waterlevel\": 17.0, \"frequency\": 0.0037789331}, {\"waterlevel\": 17.1, \"frequency\": 0.0026245182000000002}, {\"waterlevel\": 17.2, \"frequency\": 0.0017343683}, {\"waterlevel\": 17.3, \"frequency\": 0.0011132542999999998}, {\"waterlevel\": 17.4, \"frequency\": 0.00069478055}, {\"waterlevel\": 17.5, \"frequency\": 0.00041740347}, {\"waterlevel\": 17.6, \"frequency\": 0.00024611963}, {\"waterlevel\": 17.7, \"frequency\": 0.00014169683}, {\"waterlevel\": 17.8, \"frequency\": 8.2026672e-05}, {\"waterlevel\": 17.9, \"frequency\": 4.6522305999999996e-05}, {\"waterlevel\": 18.0, \"frequency\": 2.8103053e-05}, {\"waterlevel\": 18.1, \"frequency\": 1.7673468000000002e-05}, {\"waterlevel\": 18.2, \"frequency\": 1.0981082e-05}, {\"waterlevel\": 18.3, \"frequency\": 6.8735044e-06}]}, \"config\": {\"cell\": {\"width\": 500, \"height\": 350}}, \"encoding\": {\"x\": {\"type\": \"quantitative\", \"field\": \"frequency\", \"scale\": {\"type\": \"log\", \"domain\": [0.1, 1e-07]}}, \"color\": {\"value\": \"red\"}, \"y\": {\"type\": \"quantitative\", \"field\": \"waterlevel\", \"scale\": {\"domain\": [14.0, 19.0]}}}};\n",
       "var selector = \"#54d54360-3fe8-4cbe-90ab-eff00387723f\";\n",
       "var type = \"vega-lite\";\n",
       "\n",
       "var output_area = this;\n",
       "require(['nbextensions/jupyter-vega/index'], function(vega) {\n",
       "  vega.render(selector, spec, type, output_area);\n",
       "}, function (err) {\n",
       "  if (err.requireType !== 'scripterror') {\n",
       "    throw(err);\n",
       "  }\n",
       "});\n"
      ]
     },
     "metadata": {
      "jupyter-vega": "#54d54360-3fe8-4cbe-90ab-eff00387723f"
     },
     "output_type": "display_data"
    },
    {
     "data": {
      "image/png": "[encoded data removed]"
     },
     "metadata": {
      "jupyter-vega": "#54d54360-3fe8-4cbe-90ab-eff00387723f"
     },
     "output_type": "display_data"
    }
   ],
   "source": [
    "Chart(df).mark_line().encode(\n",
    "    y=Y('waterlevel',scale=Scale(domain=[14,19])),\n",
    "    x=X('frequency',scale=Scale(type='log', domain=[0.1,1e-7])),\n",
    "    color=Color(value=\"red\")    \n",
    ")"
   ]
  },
  {
   "cell_type": "markdown",
   "metadata": {
    "deletable": true,
    "editable": true
   },
   "source": [
    "OK, dat lukt. Altair is een versimpelling van het Vega-Lite JSON object. Maar vanuit Jupyer kan je ook in een keer een VegaLite object kunnen aanmaken. De beschrijving van je grafiek wordt wel iets groter, maar het verduidelijkt dingen misschien wat meer"
   ]
  },
  {
   "cell_type": "code",
   "execution_count": 17,
   "metadata": {
    "collapsed": true,
    "deletable": true,
    "editable": true
   },
   "outputs": [],
   "source": [
    "from vega import VegaLite"
   ]
  },
  {
   "cell_type": "markdown",
   "metadata": {
    "deletable": true,
    "editable": true
   },
   "source": [
    "En nu kunnen we het object gebruiken om bijvoorbeeld een Bokeh plot te maken. Indien nodig inclusief binding functies. Deze functies moeten voor de webomgeving in principe gemaakt worden door de ontwikkelaars, maar wanneer dit VegaLite JSON object is aangemaakt door collega x, dan kan collega y het gebruiken in zijn favoriete plotting library"
   ]
  },
  {
   "cell_type": "code",
   "execution_count": 18,
   "metadata": {
    "collapsed": true,
    "deletable": true,
    "editable": true
   },
   "outputs": [],
   "source": [
    "VL = {\n",
    "  \"width\": 400,\n",
    "  \"height\": 400,\n",
    "  \"mark\": \"line\",\n",
    "  \"encoding\": {\n",
    "    \"x\": {\n",
    "      \"field\": \"frequency\",\n",
    "      \"type\": \"quantitative\",      \n",
    "      \"scale\": {\n",
    "        \"domain\": [0.1,1e-7],\n",
    "        \"type\": \"log\"\n",
    "      }\n",
    "\n",
    "    },\n",
    "    \"y\": {\n",
    "      \"field\": \"waterlevel\",\n",
    "      \"type\": \"quantitative\",\n",
    "      \"scale\": {\"domain\":[14,19]}\n",
    "    },\n",
    "    \"color\": {\"value\": \"#000000\"}\n",
    "  }\n",
    "}"
   ]
  },
  {
   "cell_type": "code",
   "execution_count": 19,
   "metadata": {
    "collapsed": false,
    "deletable": true,
    "editable": true
   },
   "outputs": [
    {
     "data": {
      "text/html": [
       "\n",
       "    <div class=\"bk-root\">\n",
       "        <a href=\"http://bokeh.pydata.org\" target=\"_blank\" class=\"bk-logo bk-logo-small bk-logo-notebook\"></a>\n",
       "        <span id=\"4d167c21-b542-4310-8ec8-cfa93cc1c23c\">Loading BokehJS ...</span>\n",
       "    </div>"
      ]
     },
     "metadata": {},
     "output_type": "display_data"
    },
    {
     "data": {
      "application/javascript": [
       "\n",
       "(function(global) {\n",
       "  function now() {\n",
       "    return new Date();\n",
       "  }\n",
       "\n",
       "  var force = true;\n",
       "\n",
       "  if (typeof (window._bokeh_onload_callbacks) === \"undefined\" || force === true) {\n",
       "    window._bokeh_onload_callbacks = [];\n",
       "    window._bokeh_is_loading = undefined;\n",
       "  }\n",
       "\n",
       "\n",
       "  \n",
       "  if (typeof (window._bokeh_timeout) === \"undefined\" || force === true) {\n",
       "    window._bokeh_timeout = Date.now() + 5000;\n",
       "    window._bokeh_failed_load = false;\n",
       "  }\n",
       "\n",
       "  var NB_LOAD_WARNING = {'data': {'text/html':\n",
       "     \"<div style='background-color: #fdd'>\\n\"+\n",
       "     \"<p>\\n\"+\n",
       "     \"BokehJS does not appear to have successfully loaded. If loading BokehJS from CDN, this \\n\"+\n",
       "     \"may be due to a slow or bad network connection. Possible fixes:\\n\"+\n",
       "     \"</p>\\n\"+\n",
       "     \"<ul>\\n\"+\n",
       "     \"<li>re-rerun `output_notebook()` to attempt to load from CDN again, or</li>\\n\"+\n",
       "     \"<li>use INLINE resources instead, as so:</li>\\n\"+\n",
       "     \"</ul>\\n\"+\n",
       "     \"<code>\\n\"+\n",
       "     \"from bokeh.resources import INLINE\\n\"+\n",
       "     \"output_notebook(resources=INLINE)\\n\"+\n",
       "     \"</code>\\n\"+\n",
       "     \"</div>\"}};\n",
       "\n",
       "  function display_loaded() {\n",
       "    if (window.Bokeh !== undefined) {\n",
       "      document.getElementById(\"4d167c21-b542-4310-8ec8-cfa93cc1c23c\").textContent = \"BokehJS successfully loaded.\";\n",
       "    } else if (Date.now() < window._bokeh_timeout) {\n",
       "      setTimeout(display_loaded, 100)\n",
       "    }\n",
       "  }\n",
       "\n",
       "  function run_callbacks() {\n",
       "    window._bokeh_onload_callbacks.forEach(function(callback) { callback() });\n",
       "    delete window._bokeh_onload_callbacks\n",
       "    console.info(\"Bokeh: all callbacks have finished\");\n",
       "  }\n",
       "\n",
       "  function load_libs(js_urls, callback) {\n",
       "    window._bokeh_onload_callbacks.push(callback);\n",
       "    if (window._bokeh_is_loading > 0) {\n",
       "      console.log(\"Bokeh: BokehJS is being loaded, scheduling callback at\", now());\n",
       "      return null;\n",
       "    }\n",
       "    if (js_urls == null || js_urls.length === 0) {\n",
       "      run_callbacks();\n",
       "      return null;\n",
       "    }\n",
       "    console.log(\"Bokeh: BokehJS not loaded, scheduling load and callback at\", now());\n",
       "    window._bokeh_is_loading = js_urls.length;\n",
       "    for (var i = 0; i < js_urls.length; i++) {\n",
       "      var url = js_urls[i];\n",
       "      var s = document.createElement('script');\n",
       "      s.src = url;\n",
       "      s.async = false;\n",
       "      s.onreadystatechange = s.onload = function() {\n",
       "        window._bokeh_is_loading--;\n",
       "        if (window._bokeh_is_loading === 0) {\n",
       "          console.log(\"Bokeh: all BokehJS libraries loaded\");\n",
       "          run_callbacks()\n",
       "        }\n",
       "      };\n",
       "      s.onerror = function() {\n",
       "        console.warn(\"failed to load library \" + url);\n",
       "      };\n",
       "      console.log(\"Bokeh: injecting script tag for BokehJS library: \", url);\n",
       "      document.getElementsByTagName(\"head\")[0].appendChild(s);\n",
       "    }\n",
       "  };var element = document.getElementById(\"4d167c21-b542-4310-8ec8-cfa93cc1c23c\");\n",
       "  if (element == null) {\n",
       "    console.log(\"Bokeh: ERROR: autoload.js configured with elementid '4d167c21-b542-4310-8ec8-cfa93cc1c23c' but no matching script tag was found. \")\n",
       "    return false;\n",
       "  }\n",
       "\n",
       "  var js_urls = [\"https://cdn.pydata.org/bokeh/release/bokeh-0.12.4.min.js\", \"https://cdn.pydata.org/bokeh/release/bokeh-widgets-0.12.4.min.js\"];\n",
       "\n",
       "  var inline_js = [\n",
       "    function(Bokeh) {\n",
       "      Bokeh.set_log_level(\"info\");\n",
       "    },\n",
       "    \n",
       "    function(Bokeh) {\n",
       "      \n",
       "      document.getElementById(\"4d167c21-b542-4310-8ec8-cfa93cc1c23c\").textContent = \"BokehJS is loading...\";\n",
       "    },\n",
       "    function(Bokeh) {\n",
       "      console.log(\"Bokeh: injecting CSS: https://cdn.pydata.org/bokeh/release/bokeh-0.12.4.min.css\");\n",
       "      Bokeh.embed.inject_css(\"https://cdn.pydata.org/bokeh/release/bokeh-0.12.4.min.css\");\n",
       "      console.log(\"Bokeh: injecting CSS: https://cdn.pydata.org/bokeh/release/bokeh-widgets-0.12.4.min.css\");\n",
       "      Bokeh.embed.inject_css(\"https://cdn.pydata.org/bokeh/release/bokeh-widgets-0.12.4.min.css\");\n",
       "    }\n",
       "  ];\n",
       "\n",
       "  function run_inline_js() {\n",
       "    \n",
       "    if ((window.Bokeh !== undefined) || (force === true)) {\n",
       "      for (var i = 0; i < inline_js.length; i++) {\n",
       "        inline_js[i](window.Bokeh);\n",
       "      }if (force === true) {\n",
       "        display_loaded();\n",
       "      }} else if (Date.now() < window._bokeh_timeout) {\n",
       "      setTimeout(run_inline_js, 100);\n",
       "    } else if (!window._bokeh_failed_load) {\n",
       "      console.log(\"Bokeh: BokehJS failed to load within specified timeout.\");\n",
       "      window._bokeh_failed_load = true;\n",
       "    } else if (force !== true) {\n",
       "      var cell = $(document.getElementById(\"4d167c21-b542-4310-8ec8-cfa93cc1c23c\")).parents('.cell').data().cell;\n",
       "      cell.output_area.append_execute_result(NB_LOAD_WARNING)\n",
       "    }\n",
       "\n",
       "  }\n",
       "\n",
       "  if (window._bokeh_is_loading === 0) {\n",
       "    console.log(\"Bokeh: BokehJS loaded, going straight to plotting\");\n",
       "    run_inline_js();\n",
       "  } else {\n",
       "    load_libs(js_urls, function() {\n",
       "      console.log(\"Bokeh: BokehJS plotting callback run at\", now());\n",
       "      run_inline_js();\n",
       "    });\n",
       "  }\n",
       "}(this));"
      ]
     },
     "metadata": {},
     "output_type": "display_data"
    }
   ],
   "source": [
    "import bokeh\n",
    "from bokeh.io import output_notebook, show\n",
    "from bokeh.models import Range1d\n",
    "from bokeh.plotting import figure\n",
    "output_notebook()"
   ]
  },
  {
   "cell_type": "code",
   "execution_count": 20,
   "metadata": {
    "collapsed": false,
    "deletable": true,
    "editable": true
   },
   "outputs": [],
   "source": [
    "VL_chart_type = VL[\"mark\"]\n",
    "VL_x_scale_domain = VL[\"encoding\"][\"x\"][\"scale\"][\"domain\"]\n",
    "VL_y_scale_domain = VL[\"encoding\"][\"y\"][\"scale\"][\"domain\"]\n",
    "VL_x_scale_type = VL[\"encoding\"][\"x\"][\"scale\"][\"type\"]\n",
    "VL_width = VL[\"width\"]\n",
    "VL_height = VL[\"height\"]\n",
    "VL_x_field = VL[\"encoding\"][\"x\"][\"field\"]\n",
    "VL_y_field = VL[\"encoding\"][\"y\"][\"field\"]\n",
    "VL_color = VL[\"encoding\"][\"color\"][\"value\"]"
   ]
  },
  {
   "cell_type": "code",
   "execution_count": 21,
   "metadata": {
    "collapsed": false,
    "deletable": true,
    "editable": true
   },
   "outputs": [
    {
     "name": "stdout",
     "output_type": "stream",
     "text": [
      "x_scale_domain: [0.1, 1e-07]\n",
      "color #000000\n"
     ]
    }
   ],
   "source": [
    "print ('x_scale_domain:',VL_x_scale_domain)\n",
    "print ('color', VL_color)"
   ]
  },
  {
   "cell_type": "code",
   "execution_count": 22,
   "metadata": {
    "collapsed": true,
    "deletable": true,
    "editable": true
   },
   "outputs": [],
   "source": [
    "# maak een plot"
   ]
  },
  {
   "cell_type": "code",
   "execution_count": 23,
   "metadata": {
    "collapsed": false,
    "deletable": true,
    "editable": true
   },
   "outputs": [
    {
     "data": {
      "text/html": [
       "\n",
       "\n",
       "    <div class=\"bk-root\">\n",
       "        <div class=\"bk-plotdiv\" id=\"da9546d1-a6f6-4cd8-a24a-a124c1af38d4\"></div>\n",
       "    </div>\n",
       "<script type=\"text/javascript\">\n",
       "  \n",
       "  (function(global) {\n",
       "    function now() {\n",
       "      return new Date();\n",
       "    }\n",
       "  \n",
       "    var force = false;\n",
       "  \n",
       "    if (typeof (window._bokeh_onload_callbacks) === \"undefined\" || force === true) {\n",
       "      window._bokeh_onload_callbacks = [];\n",
       "      window._bokeh_is_loading = undefined;\n",
       "    }\n",
       "  \n",
       "  \n",
       "    \n",
       "    if (typeof (window._bokeh_timeout) === \"undefined\" || force === true) {\n",
       "      window._bokeh_timeout = Date.now() + 0;\n",
       "      window._bokeh_failed_load = false;\n",
       "    }\n",
       "  \n",
       "    var NB_LOAD_WARNING = {'data': {'text/html':\n",
       "       \"<div style='background-color: #fdd'>\\n\"+\n",
       "       \"<p>\\n\"+\n",
       "       \"BokehJS does not appear to have successfully loaded. If loading BokehJS from CDN, this \\n\"+\n",
       "       \"may be due to a slow or bad network connection. Possible fixes:\\n\"+\n",
       "       \"</p>\\n\"+\n",
       "       \"<ul>\\n\"+\n",
       "       \"<li>re-rerun `output_notebook()` to attempt to load from CDN again, or</li>\\n\"+\n",
       "       \"<li>use INLINE resources instead, as so:</li>\\n\"+\n",
       "       \"</ul>\\n\"+\n",
       "       \"<code>\\n\"+\n",
       "       \"from bokeh.resources import INLINE\\n\"+\n",
       "       \"output_notebook(resources=INLINE)\\n\"+\n",
       "       \"</code>\\n\"+\n",
       "       \"</div>\"}};\n",
       "  \n",
       "    function display_loaded() {\n",
       "      if (window.Bokeh !== undefined) {\n",
       "        document.getElementById(\"da9546d1-a6f6-4cd8-a24a-a124c1af38d4\").textContent = \"BokehJS successfully loaded.\";\n",
       "      } else if (Date.now() < window._bokeh_timeout) {\n",
       "        setTimeout(display_loaded, 100)\n",
       "      }\n",
       "    }\n",
       "  \n",
       "    function run_callbacks() {\n",
       "      window._bokeh_onload_callbacks.forEach(function(callback) { callback() });\n",
       "      delete window._bokeh_onload_callbacks\n",
       "      console.info(\"Bokeh: all callbacks have finished\");\n",
       "    }\n",
       "  \n",
       "    function load_libs(js_urls, callback) {\n",
       "      window._bokeh_onload_callbacks.push(callback);\n",
       "      if (window._bokeh_is_loading > 0) {\n",
       "        console.log(\"Bokeh: BokehJS is being loaded, scheduling callback at\", now());\n",
       "        return null;\n",
       "      }\n",
       "      if (js_urls == null || js_urls.length === 0) {\n",
       "        run_callbacks();\n",
       "        return null;\n",
       "      }\n",
       "      console.log(\"Bokeh: BokehJS not loaded, scheduling load and callback at\", now());\n",
       "      window._bokeh_is_loading = js_urls.length;\n",
       "      for (var i = 0; i < js_urls.length; i++) {\n",
       "        var url = js_urls[i];\n",
       "        var s = document.createElement('script');\n",
       "        s.src = url;\n",
       "        s.async = false;\n",
       "        s.onreadystatechange = s.onload = function() {\n",
       "          window._bokeh_is_loading--;\n",
       "          if (window._bokeh_is_loading === 0) {\n",
       "            console.log(\"Bokeh: all BokehJS libraries loaded\");\n",
       "            run_callbacks()\n",
       "          }\n",
       "        };\n",
       "        s.onerror = function() {\n",
       "          console.warn(\"failed to load library \" + url);\n",
       "        };\n",
       "        console.log(\"Bokeh: injecting script tag for BokehJS library: \", url);\n",
       "        document.getElementsByTagName(\"head\")[0].appendChild(s);\n",
       "      }\n",
       "    };var element = document.getElementById(\"da9546d1-a6f6-4cd8-a24a-a124c1af38d4\");\n",
       "    if (element == null) {\n",
       "      console.log(\"Bokeh: ERROR: autoload.js configured with elementid 'da9546d1-a6f6-4cd8-a24a-a124c1af38d4' but no matching script tag was found. \")\n",
       "      return false;\n",
       "    }\n",
       "  \n",
       "    var js_urls = [];\n",
       "  \n",
       "    var inline_js = [\n",
       "      function(Bokeh) {\n",
       "        (function() {\n",
       "          var fn = function() {\n",
       "            var docs_json = {\"67fabec5-8ade-41d7-ae18-e2865dcc2ce3\":{\"roots\":{\"references\":[{\"attributes\":{},\"id\":\"ef67273b-9562-45a4-9adc-2427f3b1b09f\",\"type\":\"ToolEvents\"},{\"attributes\":{\"plot\":{\"id\":\"a28910fd-74dd-42e3-afb0-592e4a43960c\",\"subtype\":\"Figure\",\"type\":\"Plot\"},\"ticker\":{\"id\":\"d0363689-723b-4b9b-b9bb-1542d9dfbdaa\",\"type\":\"LogTicker\"}},\"id\":\"ea9bfb65-188c-4292-b1ae-e8e49aa09711\",\"type\":\"Grid\"},{\"attributes\":{\"formatter\":{\"id\":\"4b9d7f04-bb16-4629-9243-4b255d4ab1ec\",\"type\":\"LogTickFormatter\"},\"plot\":{\"id\":\"a28910fd-74dd-42e3-afb0-592e4a43960c\",\"subtype\":\"Figure\",\"type\":\"Plot\"},\"ticker\":{\"id\":\"d0363689-723b-4b9b-b9bb-1542d9dfbdaa\",\"type\":\"LogTicker\"}},\"id\":\"800218ce-8b16-4bae-9e36-d88decabe443\",\"type\":\"LogAxis\"},{\"attributes\":{\"below\":[{\"id\":\"800218ce-8b16-4bae-9e36-d88decabe443\",\"type\":\"LogAxis\"}],\"left\":[{\"id\":\"a1ea0d50-968b-46dd-9084-bfea1eec899a\",\"type\":\"LinearAxis\"}],\"plot_height\":400,\"plot_width\":400,\"renderers\":[{\"id\":\"800218ce-8b16-4bae-9e36-d88decabe443\",\"type\":\"LogAxis\"},{\"id\":\"ea9bfb65-188c-4292-b1ae-e8e49aa09711\",\"type\":\"Grid\"},{\"id\":\"a1ea0d50-968b-46dd-9084-bfea1eec899a\",\"type\":\"LinearAxis\"},{\"id\":\"edbe3088-1b30-4f84-a120-462174a970ae\",\"type\":\"Grid\"},{\"id\":\"fec23e11-1e90-48c7-b945-da6231bf79e5\",\"type\":\"BoxAnnotation\"},{\"id\":\"b80d7ef3-aee9-4036-bcc9-8db0d3188317\",\"type\":\"GlyphRenderer\"}],\"title\":{\"id\":\"9718c9ce-01b7-49de-968c-093ccf827b51\",\"type\":\"Title\"},\"tool_events\":{\"id\":\"ef67273b-9562-45a4-9adc-2427f3b1b09f\",\"type\":\"ToolEvents\"},\"toolbar\":{\"id\":\"dd8b2943-e221-4b2f-950d-26c30fe94f05\",\"type\":\"Toolbar\"},\"x_mapper_type\":\"log\",\"x_range\":{\"id\":\"b738abf7-ec54-42c3-b14e-494c25706d72\",\"type\":\"Range1d\"},\"y_range\":{\"id\":\"4a2cd906-1f09-408c-8b12-c6310a8e889d\",\"type\":\"Range1d\"}},\"id\":\"a28910fd-74dd-42e3-afb0-592e4a43960c\",\"subtype\":\"Figure\",\"type\":\"Plot\"},{\"attributes\":{\"plot\":{\"id\":\"a28910fd-74dd-42e3-afb0-592e4a43960c\",\"subtype\":\"Figure\",\"type\":\"Plot\"}},\"id\":\"2ed84d58-8cf8-45e1-a1ed-fe6030e5933b\",\"type\":\"PanTool\"},{\"attributes\":{\"plot\":null,\"text\":\"\"},\"id\":\"9718c9ce-01b7-49de-968c-093ccf827b51\",\"type\":\"Title\"},{\"attributes\":{\"data_source\":{\"id\":\"c502a20d-825f-41f9-aaa2-eef3655ef8ab\",\"type\":\"ColumnDataSource\"},\"glyph\":{\"id\":\"d56863de-1eed-4aa0-8115-8333908f295c\",\"type\":\"Line\"},\"hover_glyph\":null,\"nonselection_glyph\":{\"id\":\"30ec74ec-6cef-41a6-94f2-db2b75ab8bf0\",\"type\":\"Line\"},\"selection_glyph\":null},\"id\":\"b80d7ef3-aee9-4036-bcc9-8db0d3188317\",\"type\":\"GlyphRenderer\"},{\"attributes\":{\"callback\":null,\"end\":1e-07,\"start\":0.1},\"id\":\"b738abf7-ec54-42c3-b14e-494c25706d72\",\"type\":\"Range1d\"},{\"attributes\":{},\"id\":\"deff1549-c18a-444d-abf1-61da90af4e07\",\"type\":\"BasicTicker\"},{\"attributes\":{\"num_minor_ticks\":10},\"id\":\"d0363689-723b-4b9b-b9bb-1542d9dfbdaa\",\"type\":\"LogTicker\"},{\"attributes\":{\"plot\":{\"id\":\"a28910fd-74dd-42e3-afb0-592e4a43960c\",\"subtype\":\"Figure\",\"type\":\"Plot\"}},\"id\":\"76542910-5e2d-49e1-96b6-a45c71296966\",\"type\":\"ResetTool\"},{\"attributes\":{\"line_alpha\":{\"value\":0.1},\"line_color\":{\"value\":\"#1f77b4\"},\"x\":{\"field\":\"x\"},\"y\":{\"field\":\"y\"}},\"id\":\"30ec74ec-6cef-41a6-94f2-db2b75ab8bf0\",\"type\":\"Line\"},{\"attributes\":{\"callback\":null,\"column_names\":[\"x\",\"y\"],\"data\":{\"x\":{\"__ndarray__\":\"SLzh47j4vD/O8Rtwp765PxWP0j+df7Y/tcJKvj/Jsz87MpP+FzWxP9jYwn/8na0/xYHyn7d2qT+f7Ox/DmClPz49kJ4dzqE/T0meN4q2nT9kMqh4VOOYP/hNC6XJoZQ/sTUw+WwLkT90rJwHwfSLPzKSQvuG+YY/tAhmwKlsgj8Sk7oca5F8PyR5pH1QcHU/ETSBQv/0bj8stsZ6A4BlP82MLMh3alw/aGLhs1M9Uj8lIr3ePcRGP28yvUDeWjs/CEkCwzMhMD+UcmiAjpIiPxVpm363gBU/EgIvQx5kCD/3xcoY23f9PvckG3kviPI+VKYGa2wH5z4iR7qAXtTcPg==\",\"dtype\":\"float64\",\"shape\":[32]},\"y\":{\"__ndarray__\":\"ZmZmZmZmLkCamZmZmZkuQM3MzMzMzC5AAAAAAAAAL0AzMzMzMzMvQGZmZmZmZi9AmpmZmZmZL0DNzMzMzMwvQAAAAAAAADBAmpmZmZkZMEAzMzMzMzMwQM3MzMzMTDBAZmZmZmZmMEAAAAAAAIAwQJqZmZmZmTBAMzMzMzOzMEDNzMzMzMwwQGZmZmZm5jBAAAAAAAAAMUCamZmZmRkxQDMzMzMzMzFAzczMzMxMMUBmZmZmZmYxQAAAAAAAgDFAmpmZmZmZMUAzMzMzM7MxQM3MzMzMzDFAZmZmZmbmMUAAAAAAAAAyQJqZmZmZGTJAMzMzMzMzMkDNzMzMzEwyQA==\",\"dtype\":\"float64\",\"shape\":[32]}}},\"id\":\"c502a20d-825f-41f9-aaa2-eef3655ef8ab\",\"type\":\"ColumnDataSource\"},{\"attributes\":{\"plot\":{\"id\":\"a28910fd-74dd-42e3-afb0-592e4a43960c\",\"subtype\":\"Figure\",\"type\":\"Plot\"}},\"id\":\"43ad2626-3478-4861-a69b-395dceb1f5fb\",\"type\":\"SaveTool\"},{\"attributes\":{\"plot\":{\"id\":\"a28910fd-74dd-42e3-afb0-592e4a43960c\",\"subtype\":\"Figure\",\"type\":\"Plot\"}},\"id\":\"201eefb9-55a8-4769-a785-65cde2d4c8cc\",\"type\":\"HelpTool\"},{\"attributes\":{\"ticker\":null},\"id\":\"4b9d7f04-bb16-4629-9243-4b255d4ab1ec\",\"type\":\"LogTickFormatter\"},{\"attributes\":{\"bottom_units\":\"screen\",\"fill_alpha\":{\"value\":0.5},\"fill_color\":{\"value\":\"lightgrey\"},\"left_units\":\"screen\",\"level\":\"overlay\",\"line_alpha\":{\"value\":1.0},\"line_color\":{\"value\":\"black\"},\"line_dash\":[4,4],\"line_width\":{\"value\":2},\"plot\":null,\"render_mode\":\"css\",\"right_units\":\"screen\",\"top_units\":\"screen\"},\"id\":\"fec23e11-1e90-48c7-b945-da6231bf79e5\",\"type\":\"BoxAnnotation\"},{\"attributes\":{\"callback\":null,\"end\":19,\"start\":14},\"id\":\"4a2cd906-1f09-408c-8b12-c6310a8e889d\",\"type\":\"Range1d\"},{\"attributes\":{},\"id\":\"af9c9776-7eef-47a1-b615-c490b5862159\",\"type\":\"BasicTickFormatter\"},{\"attributes\":{\"active_drag\":\"auto\",\"active_scroll\":\"auto\",\"active_tap\":\"auto\",\"tools\":[{\"id\":\"2ed84d58-8cf8-45e1-a1ed-fe6030e5933b\",\"type\":\"PanTool\"},{\"id\":\"b6180bc1-ccb6-4f7d-a8cc-025982c538e4\",\"type\":\"WheelZoomTool\"},{\"id\":\"23aa8f20-8987-4aea-8a6e-2911021ac3e8\",\"type\":\"BoxZoomTool\"},{\"id\":\"43ad2626-3478-4861-a69b-395dceb1f5fb\",\"type\":\"SaveTool\"},{\"id\":\"76542910-5e2d-49e1-96b6-a45c71296966\",\"type\":\"ResetTool\"},{\"id\":\"201eefb9-55a8-4769-a785-65cde2d4c8cc\",\"type\":\"HelpTool\"}]},\"id\":\"dd8b2943-e221-4b2f-950d-26c30fe94f05\",\"type\":\"Toolbar\"},{\"attributes\":{\"dimension\":1,\"plot\":{\"id\":\"a28910fd-74dd-42e3-afb0-592e4a43960c\",\"subtype\":\"Figure\",\"type\":\"Plot\"},\"ticker\":{\"id\":\"deff1549-c18a-444d-abf1-61da90af4e07\",\"type\":\"BasicTicker\"}},\"id\":\"edbe3088-1b30-4f84-a120-462174a970ae\",\"type\":\"Grid\"},{\"attributes\":{\"line_color\":{\"value\":\"#000000\"},\"x\":{\"field\":\"x\"},\"y\":{\"field\":\"y\"}},\"id\":\"d56863de-1eed-4aa0-8115-8333908f295c\",\"type\":\"Line\"},{\"attributes\":{\"overlay\":{\"id\":\"fec23e11-1e90-48c7-b945-da6231bf79e5\",\"type\":\"BoxAnnotation\"},\"plot\":{\"id\":\"a28910fd-74dd-42e3-afb0-592e4a43960c\",\"subtype\":\"Figure\",\"type\":\"Plot\"}},\"id\":\"23aa8f20-8987-4aea-8a6e-2911021ac3e8\",\"type\":\"BoxZoomTool\"},{\"attributes\":{\"formatter\":{\"id\":\"af9c9776-7eef-47a1-b615-c490b5862159\",\"type\":\"BasicTickFormatter\"},\"plot\":{\"id\":\"a28910fd-74dd-42e3-afb0-592e4a43960c\",\"subtype\":\"Figure\",\"type\":\"Plot\"},\"ticker\":{\"id\":\"deff1549-c18a-444d-abf1-61da90af4e07\",\"type\":\"BasicTicker\"}},\"id\":\"a1ea0d50-968b-46dd-9084-bfea1eec899a\",\"type\":\"LinearAxis\"},{\"attributes\":{\"plot\":{\"id\":\"a28910fd-74dd-42e3-afb0-592e4a43960c\",\"subtype\":\"Figure\",\"type\":\"Plot\"}},\"id\":\"b6180bc1-ccb6-4f7d-a8cc-025982c538e4\",\"type\":\"WheelZoomTool\"}],\"root_ids\":[\"a28910fd-74dd-42e3-afb0-592e4a43960c\"]},\"title\":\"Bokeh Application\",\"version\":\"0.12.4\"}};\n",
       "            var render_items = [{\"docid\":\"67fabec5-8ade-41d7-ae18-e2865dcc2ce3\",\"elementid\":\"da9546d1-a6f6-4cd8-a24a-a124c1af38d4\",\"modelid\":\"a28910fd-74dd-42e3-afb0-592e4a43960c\"}];\n",
       "            \n",
       "            Bokeh.embed.embed_items(docs_json, render_items);\n",
       "          };\n",
       "          if (document.readyState != \"loading\") fn();\n",
       "          else document.addEventListener(\"DOMContentLoaded\", fn);\n",
       "        })();\n",
       "      },\n",
       "      function(Bokeh) {\n",
       "      }\n",
       "    ];\n",
       "  \n",
       "    function run_inline_js() {\n",
       "      \n",
       "      if ((window.Bokeh !== undefined) || (force === true)) {\n",
       "        for (var i = 0; i < inline_js.length; i++) {\n",
       "          inline_js[i](window.Bokeh);\n",
       "        }if (force === true) {\n",
       "          display_loaded();\n",
       "        }} else if (Date.now() < window._bokeh_timeout) {\n",
       "        setTimeout(run_inline_js, 100);\n",
       "      } else if (!window._bokeh_failed_load) {\n",
       "        console.log(\"Bokeh: BokehJS failed to load within specified timeout.\");\n",
       "        window._bokeh_failed_load = true;\n",
       "      } else if (force !== true) {\n",
       "        var cell = $(document.getElementById(\"da9546d1-a6f6-4cd8-a24a-a124c1af38d4\")).parents('.cell').data().cell;\n",
       "        cell.output_area.append_execute_result(NB_LOAD_WARNING)\n",
       "      }\n",
       "  \n",
       "    }\n",
       "  \n",
       "    if (window._bokeh_is_loading === 0) {\n",
       "      console.log(\"Bokeh: BokehJS loaded, going straight to plotting\");\n",
       "      run_inline_js();\n",
       "    } else {\n",
       "      load_libs(js_urls, function() {\n",
       "        console.log(\"Bokeh: BokehJS plotting callback run at\", now());\n",
       "        run_inline_js();\n",
       "      });\n",
       "    }\n",
       "  }(this));\n",
       "</script>"
      ]
     },
     "metadata": {},
     "output_type": "display_data"
    }
   ],
   "source": [
    "# create a new plot (with a title) using figure\n",
    "p = figure(plot_width=VL_width, plot_height=VL_height,x_axis_type=VL_x_scale_type)\n",
    "\n",
    "if VL_chart_type == 'line':\n",
    "    # add a line renderer\n",
    "    p.line(df[VL_x_field], df[VL_y_field], color=VL_color)\n",
    "    p.y_range = Range1d(VL_y_scale_domain[0], VL_y_scale_domain[1])\n",
    "    p.x_range = Range1d(VL_x_scale_domain[0], VL_x_scale_domain[1])\n",
    "\n",
    "show(p) # show the results"
   ]
  },
  {
   "cell_type": "code",
   "execution_count": null,
   "metadata": {
    "collapsed": true,
    "deletable": true,
    "editable": true
   },
   "outputs": [],
   "source": [
    "# permanente wijzigingen doorvoeren in het json object"
   ]
  },
  {
   "cell_type": "code",
   "execution_count": 24,
   "metadata": {
    "collapsed": false,
    "deletable": true,
    "editable": true
   },
   "outputs": [
    {
     "data": {
      "text/plain": [
       "{'encoding': {'color': {'value': 'red'},\n",
       "  'x': {'field': 'frequency',\n",
       "   'scale': {'domain': [1, 1e-07], 'type': 'log'},\n",
       "   'type': 'quantitative'},\n",
       "  'y': {'field': 'waterlevel',\n",
       "   'scale': {'domain': [14, 19]},\n",
       "   'type': 'quantitative'}},\n",
       " 'height': 400,\n",
       " 'mark': 'point',\n",
       " 'width': 400}"
      ]
     },
     "execution_count": 24,
     "metadata": {},
     "output_type": "execute_result"
    }
   ],
   "source": [
    "VL[\"mark\"] = 'point'\n",
    "VL[\"encoding\"][\"x\"][\"scale\"][\"domain\"][0] = 1\n",
    "VL[\"encoding\"][\"color\"][\"value\"] = 'red'\n",
    "\n",
    "VL_chart_type = VL[\"mark\"]\n",
    "VL_x_scale_domain = VL[\"encoding\"][\"x\"][\"scale\"][\"domain\"]\n",
    "VL_color = VL[\"encoding\"][\"color\"][\"value\"]\n",
    "\n",
    "VL"
   ]
  },
  {
   "cell_type": "code",
   "execution_count": 25,
   "metadata": {
    "collapsed": false,
    "deletable": true,
    "editable": true
   },
   "outputs": [
    {
     "data": {
      "text/html": [
       "\n",
       "\n",
       "    <div class=\"bk-root\">\n",
       "        <div class=\"bk-plotdiv\" id=\"0d8679a9-0aca-4f99-83a4-c3875a032cb6\"></div>\n",
       "    </div>\n",
       "<script type=\"text/javascript\">\n",
       "  \n",
       "  (function(global) {\n",
       "    function now() {\n",
       "      return new Date();\n",
       "    }\n",
       "  \n",
       "    var force = false;\n",
       "  \n",
       "    if (typeof (window._bokeh_onload_callbacks) === \"undefined\" || force === true) {\n",
       "      window._bokeh_onload_callbacks = [];\n",
       "      window._bokeh_is_loading = undefined;\n",
       "    }\n",
       "  \n",
       "  \n",
       "    \n",
       "    if (typeof (window._bokeh_timeout) === \"undefined\" || force === true) {\n",
       "      window._bokeh_timeout = Date.now() + 0;\n",
       "      window._bokeh_failed_load = false;\n",
       "    }\n",
       "  \n",
       "    var NB_LOAD_WARNING = {'data': {'text/html':\n",
       "       \"<div style='background-color: #fdd'>\\n\"+\n",
       "       \"<p>\\n\"+\n",
       "       \"BokehJS does not appear to have successfully loaded. If loading BokehJS from CDN, this \\n\"+\n",
       "       \"may be due to a slow or bad network connection. Possible fixes:\\n\"+\n",
       "       \"</p>\\n\"+\n",
       "       \"<ul>\\n\"+\n",
       "       \"<li>re-rerun `output_notebook()` to attempt to load from CDN again, or</li>\\n\"+\n",
       "       \"<li>use INLINE resources instead, as so:</li>\\n\"+\n",
       "       \"</ul>\\n\"+\n",
       "       \"<code>\\n\"+\n",
       "       \"from bokeh.resources import INLINE\\n\"+\n",
       "       \"output_notebook(resources=INLINE)\\n\"+\n",
       "       \"</code>\\n\"+\n",
       "       \"</div>\"}};\n",
       "  \n",
       "    function display_loaded() {\n",
       "      if (window.Bokeh !== undefined) {\n",
       "        document.getElementById(\"0d8679a9-0aca-4f99-83a4-c3875a032cb6\").textContent = \"BokehJS successfully loaded.\";\n",
       "      } else if (Date.now() < window._bokeh_timeout) {\n",
       "        setTimeout(display_loaded, 100)\n",
       "      }\n",
       "    }\n",
       "  \n",
       "    function run_callbacks() {\n",
       "      window._bokeh_onload_callbacks.forEach(function(callback) { callback() });\n",
       "      delete window._bokeh_onload_callbacks\n",
       "      console.info(\"Bokeh: all callbacks have finished\");\n",
       "    }\n",
       "  \n",
       "    function load_libs(js_urls, callback) {\n",
       "      window._bokeh_onload_callbacks.push(callback);\n",
       "      if (window._bokeh_is_loading > 0) {\n",
       "        console.log(\"Bokeh: BokehJS is being loaded, scheduling callback at\", now());\n",
       "        return null;\n",
       "      }\n",
       "      if (js_urls == null || js_urls.length === 0) {\n",
       "        run_callbacks();\n",
       "        return null;\n",
       "      }\n",
       "      console.log(\"Bokeh: BokehJS not loaded, scheduling load and callback at\", now());\n",
       "      window._bokeh_is_loading = js_urls.length;\n",
       "      for (var i = 0; i < js_urls.length; i++) {\n",
       "        var url = js_urls[i];\n",
       "        var s = document.createElement('script');\n",
       "        s.src = url;\n",
       "        s.async = false;\n",
       "        s.onreadystatechange = s.onload = function() {\n",
       "          window._bokeh_is_loading--;\n",
       "          if (window._bokeh_is_loading === 0) {\n",
       "            console.log(\"Bokeh: all BokehJS libraries loaded\");\n",
       "            run_callbacks()\n",
       "          }\n",
       "        };\n",
       "        s.onerror = function() {\n",
       "          console.warn(\"failed to load library \" + url);\n",
       "        };\n",
       "        console.log(\"Bokeh: injecting script tag for BokehJS library: \", url);\n",
       "        document.getElementsByTagName(\"head\")[0].appendChild(s);\n",
       "      }\n",
       "    };var element = document.getElementById(\"0d8679a9-0aca-4f99-83a4-c3875a032cb6\");\n",
       "    if (element == null) {\n",
       "      console.log(\"Bokeh: ERROR: autoload.js configured with elementid '0d8679a9-0aca-4f99-83a4-c3875a032cb6' but no matching script tag was found. \")\n",
       "      return false;\n",
       "    }\n",
       "  \n",
       "    var js_urls = [];\n",
       "  \n",
       "    var inline_js = [\n",
       "      function(Bokeh) {\n",
       "        (function() {\n",
       "          var fn = function() {\n",
       "            var docs_json = {\"0c4cfa35-7a28-4965-a95b-4854c2a75ced\":{\"roots\":{\"references\":[{\"attributes\":{\"plot\":null,\"text\":\"\"},\"id\":\"ff8f5a40-7094-439b-b416-c521096d68d5\",\"type\":\"Title\"},{\"attributes\":{\"plot\":{\"id\":\"7a406cd1-b668-4323-afec-6f415cf5ba5f\",\"subtype\":\"Figure\",\"type\":\"Plot\"}},\"id\":\"f63e56a1-3625-4ad8-911d-d7253760125d\",\"type\":\"SaveTool\"},{\"attributes\":{\"data_source\":{\"id\":\"cec733be-07f5-419f-af8a-8d4c6f78e6e2\",\"type\":\"ColumnDataSource\"},\"glyph\":{\"id\":\"300e2f21-e5ba-4ef1-938a-f49ee833aff2\",\"type\":\"Circle\"},\"hover_glyph\":null,\"nonselection_glyph\":{\"id\":\"f981c786-6d09-416f-a64e-90d0252d9bc8\",\"type\":\"Circle\"},\"selection_glyph\":null},\"id\":\"82685a7c-bf4d-4c76-b2bd-f1ace31caaf3\",\"type\":\"GlyphRenderer\"},{\"attributes\":{\"callback\":null,\"end\":19,\"start\":14},\"id\":\"8fba3c81-8d57-4048-b0a1-db3807a4072e\",\"type\":\"Range1d\"},{\"attributes\":{\"overlay\":{\"id\":\"8be3c561-3953-45dd-a768-9bb4976abc4f\",\"type\":\"BoxAnnotation\"},\"plot\":{\"id\":\"7a406cd1-b668-4323-afec-6f415cf5ba5f\",\"subtype\":\"Figure\",\"type\":\"Plot\"}},\"id\":\"81b6e29c-0761-495f-9c9b-c664e7deed54\",\"type\":\"BoxZoomTool\"},{\"attributes\":{\"active_drag\":\"auto\",\"active_scroll\":\"auto\",\"active_tap\":\"auto\",\"tools\":[{\"id\":\"0099b3ca-9d89-466f-9452-f04e1d485be9\",\"type\":\"PanTool\"},{\"id\":\"169bd0d5-b488-483c-b057-1cfc96f70bcc\",\"type\":\"WheelZoomTool\"},{\"id\":\"81b6e29c-0761-495f-9c9b-c664e7deed54\",\"type\":\"BoxZoomTool\"},{\"id\":\"f63e56a1-3625-4ad8-911d-d7253760125d\",\"type\":\"SaveTool\"},{\"id\":\"76b9b682-bfd2-47d9-b71a-c1f4c9e9934b\",\"type\":\"ResetTool\"},{\"id\":\"0db4deca-815d-4b86-8e14-92b74d1f302e\",\"type\":\"HelpTool\"}]},\"id\":\"ee51f491-d7da-4e4b-bcf5-f2407bf5d2d3\",\"type\":\"Toolbar\"},{\"attributes\":{\"fill_color\":{\"value\":\"red\"},\"line_color\":{\"value\":\"red\"},\"x\":{\"field\":\"x\"},\"y\":{\"field\":\"y\"}},\"id\":\"300e2f21-e5ba-4ef1-938a-f49ee833aff2\",\"type\":\"Circle\"},{\"attributes\":{\"formatter\":{\"id\":\"b4007e0d-174a-4661-be0c-6b660783ba25\",\"type\":\"BasicTickFormatter\"},\"plot\":{\"id\":\"7a406cd1-b668-4323-afec-6f415cf5ba5f\",\"subtype\":\"Figure\",\"type\":\"Plot\"},\"ticker\":{\"id\":\"5244ad58-c8e5-4861-b9b2-1506d6c07fce\",\"type\":\"BasicTicker\"}},\"id\":\"7c84961a-e8c5-49b1-b0e5-7669e2fbb65c\",\"type\":\"LinearAxis\"},{\"attributes\":{\"below\":[{\"id\":\"b58c56dd-82c3-4079-a218-51cbc9ba25a6\",\"type\":\"LogAxis\"}],\"left\":[{\"id\":\"7c84961a-e8c5-49b1-b0e5-7669e2fbb65c\",\"type\":\"LinearAxis\"}],\"plot_height\":400,\"plot_width\":400,\"renderers\":[{\"id\":\"b58c56dd-82c3-4079-a218-51cbc9ba25a6\",\"type\":\"LogAxis\"},{\"id\":\"19ed3215-7ac3-44dd-9239-5c2e7f4e981f\",\"type\":\"Grid\"},{\"id\":\"7c84961a-e8c5-49b1-b0e5-7669e2fbb65c\",\"type\":\"LinearAxis\"},{\"id\":\"757daead-13d1-4cb6-a43b-e333b33a11cc\",\"type\":\"Grid\"},{\"id\":\"8be3c561-3953-45dd-a768-9bb4976abc4f\",\"type\":\"BoxAnnotation\"},{\"id\":\"82685a7c-bf4d-4c76-b2bd-f1ace31caaf3\",\"type\":\"GlyphRenderer\"}],\"title\":{\"id\":\"ff8f5a40-7094-439b-b416-c521096d68d5\",\"type\":\"Title\"},\"tool_events\":{\"id\":\"1e14fed4-f145-477d-95e9-52cd27fbd3bf\",\"type\":\"ToolEvents\"},\"toolbar\":{\"id\":\"ee51f491-d7da-4e4b-bcf5-f2407bf5d2d3\",\"type\":\"Toolbar\"},\"x_mapper_type\":\"log\",\"x_range\":{\"id\":\"bcc58220-15cc-4ad6-b8bb-9d4d4eeb69be\",\"type\":\"Range1d\"},\"y_range\":{\"id\":\"8fba3c81-8d57-4048-b0a1-db3807a4072e\",\"type\":\"Range1d\"}},\"id\":\"7a406cd1-b668-4323-afec-6f415cf5ba5f\",\"subtype\":\"Figure\",\"type\":\"Plot\"},{\"attributes\":{\"plot\":{\"id\":\"7a406cd1-b668-4323-afec-6f415cf5ba5f\",\"subtype\":\"Figure\",\"type\":\"Plot\"}},\"id\":\"0db4deca-815d-4b86-8e14-92b74d1f302e\",\"type\":\"HelpTool\"},{\"attributes\":{\"num_minor_ticks\":10},\"id\":\"d1909e4d-72fc-4a47-b2f9-a56b6fbc575b\",\"type\":\"LogTicker\"},{\"attributes\":{\"ticker\":null},\"id\":\"dd14f515-df57-4f4c-a975-2d4270b80550\",\"type\":\"LogTickFormatter\"},{\"attributes\":{\"plot\":{\"id\":\"7a406cd1-b668-4323-afec-6f415cf5ba5f\",\"subtype\":\"Figure\",\"type\":\"Plot\"}},\"id\":\"0099b3ca-9d89-466f-9452-f04e1d485be9\",\"type\":\"PanTool\"},{\"attributes\":{},\"id\":\"5244ad58-c8e5-4861-b9b2-1506d6c07fce\",\"type\":\"BasicTicker\"},{\"attributes\":{\"plot\":{\"id\":\"7a406cd1-b668-4323-afec-6f415cf5ba5f\",\"subtype\":\"Figure\",\"type\":\"Plot\"}},\"id\":\"76b9b682-bfd2-47d9-b71a-c1f4c9e9934b\",\"type\":\"ResetTool\"},{\"attributes\":{},\"id\":\"1e14fed4-f145-477d-95e9-52cd27fbd3bf\",\"type\":\"ToolEvents\"},{\"attributes\":{\"callback\":null,\"end\":1e-07,\"start\":1},\"id\":\"bcc58220-15cc-4ad6-b8bb-9d4d4eeb69be\",\"type\":\"Range1d\"},{\"attributes\":{\"dimension\":1,\"plot\":{\"id\":\"7a406cd1-b668-4323-afec-6f415cf5ba5f\",\"subtype\":\"Figure\",\"type\":\"Plot\"},\"ticker\":{\"id\":\"5244ad58-c8e5-4861-b9b2-1506d6c07fce\",\"type\":\"BasicTicker\"}},\"id\":\"757daead-13d1-4cb6-a43b-e333b33a11cc\",\"type\":\"Grid\"},{\"attributes\":{\"formatter\":{\"id\":\"dd14f515-df57-4f4c-a975-2d4270b80550\",\"type\":\"LogTickFormatter\"},\"plot\":{\"id\":\"7a406cd1-b668-4323-afec-6f415cf5ba5f\",\"subtype\":\"Figure\",\"type\":\"Plot\"},\"ticker\":{\"id\":\"d1909e4d-72fc-4a47-b2f9-a56b6fbc575b\",\"type\":\"LogTicker\"}},\"id\":\"b58c56dd-82c3-4079-a218-51cbc9ba25a6\",\"type\":\"LogAxis\"},{\"attributes\":{\"fill_alpha\":{\"value\":0.1},\"fill_color\":{\"value\":\"#1f77b4\"},\"line_alpha\":{\"value\":0.1},\"line_color\":{\"value\":\"#1f77b4\"},\"x\":{\"field\":\"x\"},\"y\":{\"field\":\"y\"}},\"id\":\"f981c786-6d09-416f-a64e-90d0252d9bc8\",\"type\":\"Circle\"},{\"attributes\":{\"bottom_units\":\"screen\",\"fill_alpha\":{\"value\":0.5},\"fill_color\":{\"value\":\"lightgrey\"},\"left_units\":\"screen\",\"level\":\"overlay\",\"line_alpha\":{\"value\":1.0},\"line_color\":{\"value\":\"black\"},\"line_dash\":[4,4],\"line_width\":{\"value\":2},\"plot\":null,\"render_mode\":\"css\",\"right_units\":\"screen\",\"top_units\":\"screen\"},\"id\":\"8be3c561-3953-45dd-a768-9bb4976abc4f\",\"type\":\"BoxAnnotation\"},{\"attributes\":{\"callback\":null,\"column_names\":[\"x\",\"y\"],\"data\":{\"x\":{\"__ndarray__\":\"SLzh47j4vD/O8Rtwp765PxWP0j+df7Y/tcJKvj/Jsz87MpP+FzWxP9jYwn/8na0/xYHyn7d2qT+f7Ox/DmClPz49kJ4dzqE/T0meN4q2nT9kMqh4VOOYP/hNC6XJoZQ/sTUw+WwLkT90rJwHwfSLPzKSQvuG+YY/tAhmwKlsgj8Sk7oca5F8PyR5pH1QcHU/ETSBQv/0bj8stsZ6A4BlP82MLMh3alw/aGLhs1M9Uj8lIr3ePcRGP28yvUDeWjs/CEkCwzMhMD+UcmiAjpIiPxVpm363gBU/EgIvQx5kCD/3xcoY23f9PvckG3kviPI+VKYGa2wH5z4iR7qAXtTcPg==\",\"dtype\":\"float64\",\"shape\":[32]},\"y\":{\"__ndarray__\":\"ZmZmZmZmLkCamZmZmZkuQM3MzMzMzC5AAAAAAAAAL0AzMzMzMzMvQGZmZmZmZi9AmpmZmZmZL0DNzMzMzMwvQAAAAAAAADBAmpmZmZkZMEAzMzMzMzMwQM3MzMzMTDBAZmZmZmZmMEAAAAAAAIAwQJqZmZmZmTBAMzMzMzOzMEDNzMzMzMwwQGZmZmZm5jBAAAAAAAAAMUCamZmZmRkxQDMzMzMzMzFAzczMzMxMMUBmZmZmZmYxQAAAAAAAgDFAmpmZmZmZMUAzMzMzM7MxQM3MzMzMzDFAZmZmZmbmMUAAAAAAAAAyQJqZmZmZGTJAMzMzMzMzMkDNzMzMzEwyQA==\",\"dtype\":\"float64\",\"shape\":[32]}}},\"id\":\"cec733be-07f5-419f-af8a-8d4c6f78e6e2\",\"type\":\"ColumnDataSource\"},{\"attributes\":{},\"id\":\"b4007e0d-174a-4661-be0c-6b660783ba25\",\"type\":\"BasicTickFormatter\"},{\"attributes\":{\"plot\":{\"id\":\"7a406cd1-b668-4323-afec-6f415cf5ba5f\",\"subtype\":\"Figure\",\"type\":\"Plot\"},\"ticker\":{\"id\":\"d1909e4d-72fc-4a47-b2f9-a56b6fbc575b\",\"type\":\"LogTicker\"}},\"id\":\"19ed3215-7ac3-44dd-9239-5c2e7f4e981f\",\"type\":\"Grid\"},{\"attributes\":{\"plot\":{\"id\":\"7a406cd1-b668-4323-afec-6f415cf5ba5f\",\"subtype\":\"Figure\",\"type\":\"Plot\"}},\"id\":\"169bd0d5-b488-483c-b057-1cfc96f70bcc\",\"type\":\"WheelZoomTool\"}],\"root_ids\":[\"7a406cd1-b668-4323-afec-6f415cf5ba5f\"]},\"title\":\"Bokeh Application\",\"version\":\"0.12.4\"}};\n",
       "            var render_items = [{\"docid\":\"0c4cfa35-7a28-4965-a95b-4854c2a75ced\",\"elementid\":\"0d8679a9-0aca-4f99-83a4-c3875a032cb6\",\"modelid\":\"7a406cd1-b668-4323-afec-6f415cf5ba5f\"}];\n",
       "            \n",
       "            Bokeh.embed.embed_items(docs_json, render_items);\n",
       "          };\n",
       "          if (document.readyState != \"loading\") fn();\n",
       "          else document.addEventListener(\"DOMContentLoaded\", fn);\n",
       "        })();\n",
       "      },\n",
       "      function(Bokeh) {\n",
       "      }\n",
       "    ];\n",
       "  \n",
       "    function run_inline_js() {\n",
       "      \n",
       "      if ((window.Bokeh !== undefined) || (force === true)) {\n",
       "        for (var i = 0; i < inline_js.length; i++) {\n",
       "          inline_js[i](window.Bokeh);\n",
       "        }if (force === true) {\n",
       "          display_loaded();\n",
       "        }} else if (Date.now() < window._bokeh_timeout) {\n",
       "        setTimeout(run_inline_js, 100);\n",
       "      } else if (!window._bokeh_failed_load) {\n",
       "        console.log(\"Bokeh: BokehJS failed to load within specified timeout.\");\n",
       "        window._bokeh_failed_load = true;\n",
       "      } else if (force !== true) {\n",
       "        var cell = $(document.getElementById(\"0d8679a9-0aca-4f99-83a4-c3875a032cb6\")).parents('.cell').data().cell;\n",
       "        cell.output_area.append_execute_result(NB_LOAD_WARNING)\n",
       "      }\n",
       "  \n",
       "    }\n",
       "  \n",
       "    if (window._bokeh_is_loading === 0) {\n",
       "      console.log(\"Bokeh: BokehJS loaded, going straight to plotting\");\n",
       "      run_inline_js();\n",
       "    } else {\n",
       "      load_libs(js_urls, function() {\n",
       "        console.log(\"Bokeh: BokehJS plotting callback run at\", now());\n",
       "        run_inline_js();\n",
       "      });\n",
       "    }\n",
       "  }(this));\n",
       "</script>"
      ]
     },
     "metadata": {},
     "output_type": "display_data"
    }
   ],
   "source": [
    "# create a new plot \n",
    "p = figure(plot_width=VL_width, plot_height=VL_height,x_axis_type=VL_x_scale_type)\n",
    "\n",
    "if VL_chart_type == 'line':\n",
    "    # add a line renderer\n",
    "    p.line(df[VL_x_field], df[VL_y_field], color=VL_color)\n",
    "    p.y_range = Range1d(VL_y_scale_domain[0], VL_y_scale_domain[1])\n",
    "    p.x_range = Range1d(VL_x_scale_domain[0], VL_x_scale_domain[1])\n",
    "\n",
    "if VL_chart_type == 'point':\n",
    "    # add a line renderer\n",
    "    p.scatter(df[VL_x_field], df[VL_y_field], color=VL_color)\n",
    "    p.y_range = Range1d(VL_y_scale_domain[0], VL_y_scale_domain[1])\n",
    "    p.x_range = Range1d(VL_x_scale_domain[0], VL_x_scale_domain[1])    \n",
    "\n",
    "show(p) # show the results"
   ]
  },
  {
   "cell_type": "code",
   "execution_count": 26,
   "metadata": {
    "collapsed": true,
    "deletable": true,
    "editable": true
   },
   "outputs": [],
   "source": [
    "# en sinds de wijzigingen in het json object is aangemaakt, moet die het ook weer doen in de plotting library van vegalite"
   ]
  },
  {
   "cell_type": "code",
   "execution_count": 27,
   "metadata": {
    "collapsed": false,
    "deletable": true,
    "editable": true
   },
   "outputs": [
    {
     "data": {
      "text/html": [
       "<div class=\"vega-embed\" id=\"87f73cc7-e697-4235-b5c2-14c83b1eff09\"></div>\n",
       "\n",
       "<style>\n",
       ".vega-embed svg, .vega-embed canvas {\n",
       "  border: 1px dotted gray;\n",
       "}\n",
       "\n",
       ".vega-embed .vega-actions a {\n",
       "  margin-right: 6px;\n",
       "}\n",
       "</style>\n"
      ]
     },
     "metadata": {
      "jupyter-vega": "#87f73cc7-e697-4235-b5c2-14c83b1eff09"
     },
     "output_type": "display_data"
    },
    {
     "data": {
      "application/javascript": [
       "var spec = {\"data\": {\"values\": [{\"waterlevel\": 15.2, \"frequency\": 0.1131702}, {\"waterlevel\": 15.3, \"frequency\": 0.1005654}, {\"waterlevel\": 15.4, \"frequency\": 0.087884739}, {\"waterlevel\": 15.5, \"frequency\": 0.07728956599999999}, {\"waterlevel\": 15.6, \"frequency\": 0.067216396}, {\"waterlevel\": 15.7, \"frequency\": 0.057845965}, {\"waterlevel\": 15.8, \"frequency\": 0.049733865999999995}, {\"waterlevel\": 15.9, \"frequency\": 0.041748479}, {\"waterlevel\": 16.0, \"frequency\": 0.034775663}, {\"waterlevel\": 16.1, \"frequency\": 0.029016647000000003}, {\"waterlevel\": 16.2, \"frequency\": 0.024304695}, {\"waterlevel\": 16.3, \"frequency\": 0.020148421}, {\"waterlevel\": 16.4, \"frequency\": 0.016645148000000002}, {\"waterlevel\": 16.5, \"frequency\": 0.013650425}, {\"waterlevel\": 16.6, \"frequency\": 0.011218123}, {\"waterlevel\": 16.7, \"frequency\": 0.0089963209}, {\"waterlevel\": 16.8, \"frequency\": 0.0069746193}, {\"waterlevel\": 16.9, \"frequency\": 0.0052340645}, {\"waterlevel\": 17.0, \"frequency\": 0.0037789331}, {\"waterlevel\": 17.1, \"frequency\": 0.0026245182000000002}, {\"waterlevel\": 17.2, \"frequency\": 0.0017343683}, {\"waterlevel\": 17.3, \"frequency\": 0.0011132542999999998}, {\"waterlevel\": 17.4, \"frequency\": 0.00069478055}, {\"waterlevel\": 17.5, \"frequency\": 0.00041740347}, {\"waterlevel\": 17.6, \"frequency\": 0.00024611963}, {\"waterlevel\": 17.7, \"frequency\": 0.00014169683}, {\"waterlevel\": 17.8, \"frequency\": 8.2026672e-05}, {\"waterlevel\": 17.9, \"frequency\": 4.6522305999999996e-05}, {\"waterlevel\": 18.0, \"frequency\": 2.8103053e-05}, {\"waterlevel\": 18.1, \"frequency\": 1.7673468000000002e-05}, {\"waterlevel\": 18.2, \"frequency\": 1.0981082e-05}, {\"waterlevel\": 18.3, \"frequency\": 6.8735044e-06}]}, \"width\": 400, \"config\": {\"cell\": {\"width\": 500, \"height\": 350}}, \"mark\": \"point\", \"encoding\": {\"x\": {\"type\": \"quantitative\", \"field\": \"frequency\", \"scale\": {\"type\": \"log\", \"domain\": [1, 1e-07]}}, \"color\": {\"value\": \"red\"}, \"y\": {\"type\": \"quantitative\", \"field\": \"waterlevel\", \"scale\": {\"domain\": [14, 19]}}}, \"height\": 400};\n",
       "var selector = \"#87f73cc7-e697-4235-b5c2-14c83b1eff09\";\n",
       "var type = \"vega-lite\";\n",
       "\n",
       "var output_area = this;\n",
       "require(['nbextensions/jupyter-vega/index'], function(vega) {\n",
       "  vega.render(selector, spec, type, output_area);\n",
       "}, function (err) {\n",
       "  if (err.requireType !== 'scripterror') {\n",
       "    throw(err);\n",
       "  }\n",
       "});\n"
      ]
     },
     "metadata": {
      "jupyter-vega": "#87f73cc7-e697-4235-b5c2-14c83b1eff09"
     },
     "output_type": "display_data"
    },
    {
     "data": {
      "image/png": "[encoded data removed]"
     },
     "metadata": {
      "jupyter-vega": "#87f73cc7-e697-4235-b5c2-14c83b1eff09"
     },
     "output_type": "display_data"
    }
   ],
   "source": [
    "VegaLite(VL, df)"
   ]
  },
  {
   "cell_type": "code",
   "execution_count": null,
   "metadata": {
    "collapsed": true,
    "deletable": true,
    "editable": true
   },
   "outputs": [],
   "source": []
  }
 ],
 "metadata": {
  "kernelspec": {
   "display_name": "Python 3",
   "language": "python",
   "name": "python3"
  },
  "language_info": {
   "codemirror_mode": {
    "name": "ipython",
    "version": 3
   },
   "file_extension": ".py",
   "mimetype": "text/x-python",
   "name": "python",
   "nbconvert_exporter": "python",
   "pygments_lexer": "ipython3",
   "version": "3.5.2"
  }
 },
 "nbformat": 4,
 "nbformat_minor": 2
}
