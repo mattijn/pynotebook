{
 "cells": [
  {
   "cell_type": "code",
   "execution_count": 48,
   "metadata": {
    "collapsed": false,
    "deletable": true,
    "editable": true
   },
   "outputs": [],
   "source": [
    "import matplotlib.pyplot as plt\n",
    "from tqdm import tqdm\n",
    "%matplotlib inline"
   ]
  },
  {
   "cell_type": "code",
   "execution_count": 49,
   "metadata": {
    "collapsed": true,
    "deletable": true,
    "editable": true
   },
   "outputs": [],
   "source": [
    "import pandas as pd"
   ]
  },
  {
   "cell_type": "code",
   "execution_count": 50,
   "metadata": {
    "collapsed": true,
    "deletable": true,
    "editable": true
   },
   "outputs": [],
   "source": [
    "import glob"
   ]
  },
  {
   "cell_type": "code",
   "execution_count": 51,
   "metadata": {
    "collapsed": true
   },
   "outputs": [],
   "source": [
    "variabelen = {}\n",
    "variabelen['acceleration due to gravity']                  = {'symbool':'g', 'eenheid':'m/s2'}\n",
    "variabelen['manning coefficient']                          = {'symbool':'n', 'eenheid':'s/m^(1/3)'}\n",
    "variabelen['density of water']                             = {'symbool':'ρ_w', 'eenheid':'kg/m3'}\n",
    "variabelen['run-up height']                                = {'symbool':'ρ_w', 'eenheid':'kg/m3'}"
   ]
  },
  {
   "cell_type": "code",
   "execution_count": 52,
   "metadata": {
    "collapsed": true
   },
   "outputs": [],
   "source": [
    "variabelen['acceleration due to gravity']['waarde'] = 9.81456 # 32.2#\n",
    "variabelen['manning coefficient']['waarde'] = 0.02\n",
    "variabelen['density of water']['waarde'] = 1025.18166 # 64#  "
   ]
  },
  {
   "cell_type": "code",
   "execution_count": 53,
   "metadata": {
    "collapsed": true,
    "deletable": true,
    "editable": true
   },
   "outputs": [],
   "source": [
    "golfregimes = ['hs0_4_1lsm_2uur']#,'hs0_6_5lsm_2uur','hs0_8_10lsm_2uur','hs1_2_25lsm_2uur','hs1_4_50lsm_2uur']\n",
    "locaties = ['kruin']#,'helling']"
   ]
  },
  {
   "cell_type": "code",
   "execution_count": 54,
   "metadata": {
    "collapsed": false,
    "deletable": true,
    "editable": true
   },
   "outputs": [],
   "source": [
    "def getDF(golfregime, parameter, locatie, hoogte):\n",
    "    golf_afgeleiden =  (glob.glob(r'D:\\Projects\\Pr\\3517.10\\Werkfolder\\2017-09-07_tijdreeksen\\afgeleiden//*'+golfregime+'*'))\n",
    "    matching_locatie = [s for s in golf_afgeleiden if locatie in s]\n",
    "    if parameter == 'Laagdikte':\n",
    "        laagdikte_matching_parameter = [s for s in matching_locatie if parameter in s]\n",
    "        df = pd.read_csv(laagdikte_matching_parameter[0])\n",
    "    if parameter == 'snelheid':\n",
    "        snelheid_matching_parameter = [s for s in matching_locatie if parameter in s]\n",
    "        snelheid_matching_hoogte = [s for s in snelheid_matching_parameter if hoogte in s]        \n",
    "        df = pd.read_csv(snelheid_matching_hoogte[0])\n",
    "    return df"
   ]
  },
  {
   "cell_type": "code",
   "execution_count": 55,
   "metadata": {
    "collapsed": true
   },
   "outputs": [],
   "source": [
    "def eq20(ρ_w,n,v,d):\n",
    "    \"\"\"\n",
    "    Input parameters\n",
    "    ρ_w          :  density of water (kg/m3)\n",
    "    n            :  manning coefficient (s/m(1/3))\n",
    "    v            :  main velocity parallel to the embankment surface (m/s)\n",
    "    d            :  water depth parallel to the embankment surface subsituted for hydraulic radius (m)    \n",
    "\n",
    "    Returns τ is the bed shear stress (kg/m2 [kg force/square meter]), \n",
    "    multiply 10 to get shear stress in Pa [Pascal]    \n",
    "    \"\"\"\n",
    "    τ = ρ_w * v**2 * n**2 / d**(1/3)\n",
    "    return τ * 10"
   ]
  },
  {
   "cell_type": "code",
   "execution_count": 56,
   "metadata": {
    "collapsed": true
   },
   "outputs": [],
   "source": [
    "# shear stress coefficients\n",
    "ρ_w   = variabelen['density of water']['waarde']\n",
    "n     = variabelen['manning coefficient']['waarde']\n",
    "g     = variabelen['acceleration due to gravity']['waarde']"
   ]
  },
  {
   "cell_type": "code",
   "execution_count": 57,
   "metadata": {
    "collapsed": false,
    "deletable": true,
    "editable": true
   },
   "outputs": [
    {
     "name": "stderr",
     "output_type": "stream",
     "text": [
      "  0%|                                                    | 0/1 [00:00<?, ?it/s]\n",
      "  0%|                                                    | 0/1 [00:00<?, ?it/s]\n",
      "100%|████████████████████████████████████████████| 1/1 [00:00<00:00,  2.99it/s]\n",
      "100%|████████████████████████████████████████████| 1/1 [00:00<00:00,  2.92it/s]\n"
     ]
    }
   ],
   "source": [
    "for golfregime in tqdm(golfregimes):\n",
    "    for locatie in tqdm(locaties):\n",
    "        if locatie == 'kruin':\n",
    "            df_laagdikte = getDF(golfregime, 'Laagdikte', locatie, 'nan')\n",
    "            df_snelheid_oppervlakte = getDF(golfregime, 'snelheid', locatie, 'oppervlakte')\n",
    "            df_snelheid_bodem = getDF(golfregime, 'snelheid', locatie, 'bodem')\n",
    "            \n",
    "            schuifspanning_bodem = pd.Series(df_snelheid_bodem.iloc[:,-1] * df_laagdikte.iloc[:,-1], name='debiet_bodem (m3/s)')\n",
    "            #debiet_bodem = pd.concat((df_snelheid_bodem.iloc[:,0],debiet_bodem),axis=1)            \n",
    "            #debiet_bodem.to_csv(r'D:\\Projects\\Pr\\3517.10\\Werkfolder\\2017-09-07_tijdreeksen\\afgeleiden/debiet_bodem'+locatie+'_'+golfregime+'.csv', header=True)\n",
    "            \n",
    "            #debiet_oppervlakte = pd.Series(df_snelheid_oppervlakte.iloc[:,-1] * df_laagdikte.iloc[:,-1], name='debiet_oppervlakte (m3/s)')\n",
    "            #debiet_oppervlakte = pd.concat((df_snelheid_oppervlakte.iloc[:,0],debiet_oppervlakte),axis=1)\n",
    "            #debiet_oppervlakte.to_csv(r'D:\\Projects\\Pr\\3517.10\\Werkfolder\\2017-09-07_tijdreeksen\\afgeleiden/debiet_oppervlakte_'+locatie+'_'+golfregime+'.csv', header=True)            \n",
    "        if locatie == 'helling':\n",
    "            df_laagdikte = getDF(golfregime, 'Laagdikte', locatie, 'nan')\n",
    "            df_snelheid_bodem = getDF(golfregime, 'snelheid', locatie, 'bodem')\n",
    "            \n",
    "            #debiet_bodem = pd.Series(df_snelheid_bodem.iloc[:,-1] * df_laagdikte.iloc[:,-1], name='debiet_bodem (m3/s)')\n",
    "            #debiet_bodem = pd.concat((df_snelheid_bodem.iloc[:,0],debiet_bodem),axis=1)            \n",
    "            #debiet_bodem.to_csv(r'D:\\Projects\\Pr\\3517.10\\Werkfolder\\2017-09-07_tijdreeksen\\afgeleiden/debiet_bodem_'+locatie+'_'+golfregime+'.csv', header=True)            "
   ]
  },
  {
   "cell_type": "code",
   "execution_count": 58,
   "metadata": {
    "collapsed": false
   },
   "outputs": [
    {
     "ename": "ZeroDivisionError",
     "evalue": "division by zero",
     "output_type": "error",
     "traceback": [
      "\u001b[1;31m---------------------------------------------------------------------------\u001b[0m",
      "\u001b[1;31mZeroDivisionError\u001b[0m                         Traceback (most recent call last)",
      "\u001b[1;32m<ipython-input-58-6549dea6d1ae>\u001b[0m in \u001b[0;36m<module>\u001b[1;34m()\u001b[0m\n\u001b[1;32m----> 1\u001b[1;33m \u001b[1;36m0\u001b[0m\u001b[1;33m/\u001b[0m\u001b[1;36m0\u001b[0m\u001b[1;33m\u001b[0m\u001b[0m\n\u001b[0m",
      "\u001b[1;31mZeroDivisionError\u001b[0m: division by zero"
     ]
    }
   ],
   "source": [
    "0/0"
   ]
  },
  {
   "cell_type": "code",
   "execution_count": 59,
   "metadata": {
    "collapsed": true
   },
   "outputs": [],
   "source": [
    "v = df_snelheid_bodem.iloc[:,-1].values\n",
    "d = df_laagdikte.iloc[:,-1].values"
   ]
  },
  {
   "cell_type": "code",
   "execution_count": 63,
   "metadata": {
    "collapsed": false
   },
   "outputs": [
    {
     "name": "stderr",
     "output_type": "stream",
     "text": [
      "c:\\python35\\lib\\site-packages\\ipykernel\\__main__.py:12: RuntimeWarning: divide by zero encountered in true_divide\n",
      "c:\\python35\\lib\\site-packages\\ipykernel\\__main__.py:12: RuntimeWarning: invalid value encountered in true_divide\n"
     ]
    },
    {
     "data": {
      "text/html": [
       "<div>\n",
       "<style>\n",
       "    .dataframe thead tr:only-child th {\n",
       "        text-align: right;\n",
       "    }\n",
       "\n",
       "    .dataframe thead th {\n",
       "        text-align: left;\n",
       "    }\n",
       "\n",
       "    .dataframe tbody tr th {\n",
       "        vertical-align: top;\n",
       "    }\n",
       "</style>\n",
       "<table border=\"1\" class=\"dataframe\">\n",
       "  <thead>\n",
       "    <tr style=\"text-align: right;\">\n",
       "      <th></th>\n",
       "      <th>time (s)</th>\n",
       "      <th>schuifspanning (N/m2)</th>\n",
       "    </tr>\n",
       "  </thead>\n",
       "  <tbody>\n",
       "    <tr>\n",
       "      <th>0</th>\n",
       "      <td>0.000000</td>\n",
       "      <td>0.0</td>\n",
       "    </tr>\n",
       "    <tr>\n",
       "      <th>1</th>\n",
       "      <td>0.007222</td>\n",
       "      <td>0.0</td>\n",
       "    </tr>\n",
       "    <tr>\n",
       "      <th>2</th>\n",
       "      <td>0.014444</td>\n",
       "      <td>0.0</td>\n",
       "    </tr>\n",
       "    <tr>\n",
       "      <th>3</th>\n",
       "      <td>0.021667</td>\n",
       "      <td>0.0</td>\n",
       "    </tr>\n",
       "    <tr>\n",
       "      <th>4</th>\n",
       "      <td>0.028889</td>\n",
       "      <td>0.0</td>\n",
       "    </tr>\n",
       "    <tr>\n",
       "      <th>5</th>\n",
       "      <td>0.036111</td>\n",
       "      <td>0.0</td>\n",
       "    </tr>\n",
       "    <tr>\n",
       "      <th>6</th>\n",
       "      <td>0.043333</td>\n",
       "      <td>0.0</td>\n",
       "    </tr>\n",
       "    <tr>\n",
       "      <th>7</th>\n",
       "      <td>0.050556</td>\n",
       "      <td>0.0</td>\n",
       "    </tr>\n",
       "    <tr>\n",
       "      <th>8</th>\n",
       "      <td>0.057778</td>\n",
       "      <td>0.0</td>\n",
       "    </tr>\n",
       "    <tr>\n",
       "      <th>9</th>\n",
       "      <td>0.065000</td>\n",
       "      <td>0.0</td>\n",
       "    </tr>\n",
       "    <tr>\n",
       "      <th>10</th>\n",
       "      <td>0.072222</td>\n",
       "      <td>0.0</td>\n",
       "    </tr>\n",
       "    <tr>\n",
       "      <th>11</th>\n",
       "      <td>0.079445</td>\n",
       "      <td>0.0</td>\n",
       "    </tr>\n",
       "    <tr>\n",
       "      <th>12</th>\n",
       "      <td>0.086667</td>\n",
       "      <td>0.0</td>\n",
       "    </tr>\n",
       "    <tr>\n",
       "      <th>13</th>\n",
       "      <td>0.093889</td>\n",
       "      <td>0.0</td>\n",
       "    </tr>\n",
       "    <tr>\n",
       "      <th>14</th>\n",
       "      <td>0.101111</td>\n",
       "      <td>0.0</td>\n",
       "    </tr>\n",
       "    <tr>\n",
       "      <th>15</th>\n",
       "      <td>0.108334</td>\n",
       "      <td>0.0</td>\n",
       "    </tr>\n",
       "    <tr>\n",
       "      <th>16</th>\n",
       "      <td>0.115556</td>\n",
       "      <td>0.0</td>\n",
       "    </tr>\n",
       "    <tr>\n",
       "      <th>17</th>\n",
       "      <td>0.122778</td>\n",
       "      <td>0.0</td>\n",
       "    </tr>\n",
       "    <tr>\n",
       "      <th>18</th>\n",
       "      <td>0.130000</td>\n",
       "      <td>0.0</td>\n",
       "    </tr>\n",
       "    <tr>\n",
       "      <th>19</th>\n",
       "      <td>0.137223</td>\n",
       "      <td>0.0</td>\n",
       "    </tr>\n",
       "    <tr>\n",
       "      <th>20</th>\n",
       "      <td>0.144445</td>\n",
       "      <td>0.0</td>\n",
       "    </tr>\n",
       "    <tr>\n",
       "      <th>21</th>\n",
       "      <td>0.151667</td>\n",
       "      <td>0.0</td>\n",
       "    </tr>\n",
       "    <tr>\n",
       "      <th>22</th>\n",
       "      <td>0.158889</td>\n",
       "      <td>0.0</td>\n",
       "    </tr>\n",
       "    <tr>\n",
       "      <th>23</th>\n",
       "      <td>0.166112</td>\n",
       "      <td>0.0</td>\n",
       "    </tr>\n",
       "    <tr>\n",
       "      <th>24</th>\n",
       "      <td>0.173334</td>\n",
       "      <td>0.0</td>\n",
       "    </tr>\n",
       "    <tr>\n",
       "      <th>25</th>\n",
       "      <td>0.180556</td>\n",
       "      <td>0.0</td>\n",
       "    </tr>\n",
       "    <tr>\n",
       "      <th>26</th>\n",
       "      <td>0.187778</td>\n",
       "      <td>0.0</td>\n",
       "    </tr>\n",
       "    <tr>\n",
       "      <th>27</th>\n",
       "      <td>0.195000</td>\n",
       "      <td>0.0</td>\n",
       "    </tr>\n",
       "    <tr>\n",
       "      <th>28</th>\n",
       "      <td>0.202223</td>\n",
       "      <td>0.0</td>\n",
       "    </tr>\n",
       "    <tr>\n",
       "      <th>29</th>\n",
       "      <td>0.209445</td>\n",
       "      <td>0.0</td>\n",
       "    </tr>\n",
       "    <tr>\n",
       "      <th>...</th>\n",
       "      <td>...</td>\n",
       "      <td>...</td>\n",
       "    </tr>\n",
       "    <tr>\n",
       "      <th>200800</th>\n",
       "      <td>1450.225760</td>\n",
       "      <td>0.0</td>\n",
       "    </tr>\n",
       "    <tr>\n",
       "      <th>200801</th>\n",
       "      <td>1450.232982</td>\n",
       "      <td>0.0</td>\n",
       "    </tr>\n",
       "    <tr>\n",
       "      <th>200802</th>\n",
       "      <td>1450.240204</td>\n",
       "      <td>0.0</td>\n",
       "    </tr>\n",
       "    <tr>\n",
       "      <th>200803</th>\n",
       "      <td>1450.247427</td>\n",
       "      <td>0.0</td>\n",
       "    </tr>\n",
       "    <tr>\n",
       "      <th>200804</th>\n",
       "      <td>1450.254649</td>\n",
       "      <td>0.0</td>\n",
       "    </tr>\n",
       "    <tr>\n",
       "      <th>200805</th>\n",
       "      <td>1450.261871</td>\n",
       "      <td>0.0</td>\n",
       "    </tr>\n",
       "    <tr>\n",
       "      <th>200806</th>\n",
       "      <td>1450.269093</td>\n",
       "      <td>0.0</td>\n",
       "    </tr>\n",
       "    <tr>\n",
       "      <th>200807</th>\n",
       "      <td>1450.276316</td>\n",
       "      <td>0.0</td>\n",
       "    </tr>\n",
       "    <tr>\n",
       "      <th>200808</th>\n",
       "      <td>1450.283538</td>\n",
       "      <td>0.0</td>\n",
       "    </tr>\n",
       "    <tr>\n",
       "      <th>200809</th>\n",
       "      <td>1450.290760</td>\n",
       "      <td>0.0</td>\n",
       "    </tr>\n",
       "    <tr>\n",
       "      <th>200810</th>\n",
       "      <td>1450.297982</td>\n",
       "      <td>0.0</td>\n",
       "    </tr>\n",
       "    <tr>\n",
       "      <th>200811</th>\n",
       "      <td>1450.305205</td>\n",
       "      <td>0.0</td>\n",
       "    </tr>\n",
       "    <tr>\n",
       "      <th>200812</th>\n",
       "      <td>1450.312427</td>\n",
       "      <td>0.0</td>\n",
       "    </tr>\n",
       "    <tr>\n",
       "      <th>200813</th>\n",
       "      <td>1450.319649</td>\n",
       "      <td>0.0</td>\n",
       "    </tr>\n",
       "    <tr>\n",
       "      <th>200814</th>\n",
       "      <td>1450.326871</td>\n",
       "      <td>0.0</td>\n",
       "    </tr>\n",
       "    <tr>\n",
       "      <th>200815</th>\n",
       "      <td>1450.334094</td>\n",
       "      <td>0.0</td>\n",
       "    </tr>\n",
       "    <tr>\n",
       "      <th>200816</th>\n",
       "      <td>1450.341316</td>\n",
       "      <td>0.0</td>\n",
       "    </tr>\n",
       "    <tr>\n",
       "      <th>200817</th>\n",
       "      <td>1450.348538</td>\n",
       "      <td>0.0</td>\n",
       "    </tr>\n",
       "    <tr>\n",
       "      <th>200818</th>\n",
       "      <td>1450.355760</td>\n",
       "      <td>0.0</td>\n",
       "    </tr>\n",
       "    <tr>\n",
       "      <th>200819</th>\n",
       "      <td>1450.362983</td>\n",
       "      <td>0.0</td>\n",
       "    </tr>\n",
       "    <tr>\n",
       "      <th>200820</th>\n",
       "      <td>1450.370205</td>\n",
       "      <td>0.0</td>\n",
       "    </tr>\n",
       "    <tr>\n",
       "      <th>200821</th>\n",
       "      <td>1450.377427</td>\n",
       "      <td>0.0</td>\n",
       "    </tr>\n",
       "    <tr>\n",
       "      <th>200822</th>\n",
       "      <td>1450.384649</td>\n",
       "      <td>0.0</td>\n",
       "    </tr>\n",
       "    <tr>\n",
       "      <th>200823</th>\n",
       "      <td>1450.391871</td>\n",
       "      <td>0.0</td>\n",
       "    </tr>\n",
       "    <tr>\n",
       "      <th>200824</th>\n",
       "      <td>1450.399094</td>\n",
       "      <td>0.0</td>\n",
       "    </tr>\n",
       "    <tr>\n",
       "      <th>200825</th>\n",
       "      <td>1450.406316</td>\n",
       "      <td>0.0</td>\n",
       "    </tr>\n",
       "    <tr>\n",
       "      <th>200826</th>\n",
       "      <td>1450.413538</td>\n",
       "      <td>0.0</td>\n",
       "    </tr>\n",
       "    <tr>\n",
       "      <th>200827</th>\n",
       "      <td>1450.420760</td>\n",
       "      <td>0.0</td>\n",
       "    </tr>\n",
       "    <tr>\n",
       "      <th>200828</th>\n",
       "      <td>1450.427983</td>\n",
       "      <td>0.0</td>\n",
       "    </tr>\n",
       "    <tr>\n",
       "      <th>200829</th>\n",
       "      <td>1450.435205</td>\n",
       "      <td>0.0</td>\n",
       "    </tr>\n",
       "  </tbody>\n",
       "</table>\n",
       "<p>200830 rows × 2 columns</p>\n",
       "</div>"
      ],
      "text/plain": [
       "           time (s)  schuifspanning (N/m2)\n",
       "0          0.000000                    0.0\n",
       "1          0.007222                    0.0\n",
       "2          0.014444                    0.0\n",
       "3          0.021667                    0.0\n",
       "4          0.028889                    0.0\n",
       "5          0.036111                    0.0\n",
       "6          0.043333                    0.0\n",
       "7          0.050556                    0.0\n",
       "8          0.057778                    0.0\n",
       "9          0.065000                    0.0\n",
       "10         0.072222                    0.0\n",
       "11         0.079445                    0.0\n",
       "12         0.086667                    0.0\n",
       "13         0.093889                    0.0\n",
       "14         0.101111                    0.0\n",
       "15         0.108334                    0.0\n",
       "16         0.115556                    0.0\n",
       "17         0.122778                    0.0\n",
       "18         0.130000                    0.0\n",
       "19         0.137223                    0.0\n",
       "20         0.144445                    0.0\n",
       "21         0.151667                    0.0\n",
       "22         0.158889                    0.0\n",
       "23         0.166112                    0.0\n",
       "24         0.173334                    0.0\n",
       "25         0.180556                    0.0\n",
       "26         0.187778                    0.0\n",
       "27         0.195000                    0.0\n",
       "28         0.202223                    0.0\n",
       "29         0.209445                    0.0\n",
       "...             ...                    ...\n",
       "200800  1450.225760                    0.0\n",
       "200801  1450.232982                    0.0\n",
       "200802  1450.240204                    0.0\n",
       "200803  1450.247427                    0.0\n",
       "200804  1450.254649                    0.0\n",
       "200805  1450.261871                    0.0\n",
       "200806  1450.269093                    0.0\n",
       "200807  1450.276316                    0.0\n",
       "200808  1450.283538                    0.0\n",
       "200809  1450.290760                    0.0\n",
       "200810  1450.297982                    0.0\n",
       "200811  1450.305205                    0.0\n",
       "200812  1450.312427                    0.0\n",
       "200813  1450.319649                    0.0\n",
       "200814  1450.326871                    0.0\n",
       "200815  1450.334094                    0.0\n",
       "200816  1450.341316                    0.0\n",
       "200817  1450.348538                    0.0\n",
       "200818  1450.355760                    0.0\n",
       "200819  1450.362983                    0.0\n",
       "200820  1450.370205                    0.0\n",
       "200821  1450.377427                    0.0\n",
       "200822  1450.384649                    0.0\n",
       "200823  1450.391871                    0.0\n",
       "200824  1450.399094                    0.0\n",
       "200825  1450.406316                    0.0\n",
       "200826  1450.413538                    0.0\n",
       "200827  1450.420760                    0.0\n",
       "200828  1450.427983                    0.0\n",
       "200829  1450.435205                    0.0\n",
       "\n",
       "[200830 rows x 2 columns]"
      ]
     },
     "execution_count": 63,
     "metadata": {},
     "output_type": "execute_result"
    }
   ],
   "source": [
    "schuifspanning_bodem = pd.Series(eq20(ρ_w,n,v,d), name='schuifspanning (N/m2)')\n",
    "schuifspanning_bodem = pd.concat((df_snelheid_bodem.iloc[:,0],schuifspanning_bodem),axis=1)\n",
    "schuifspanning_bodem.fillna(0)#,inplace=True)"
   ]
  },
  {
   "cell_type": "code",
   "execution_count": 61,
   "metadata": {
    "collapsed": false,
    "deletable": true,
    "editable": true
   },
   "outputs": [
    {
     "data": {
      "image/png": "[encoded data removed]",
      "text/plain": [
       "<matplotlib.figure.Figure at 0x940ee10>"
      ]
     },
     "metadata": {},
     "output_type": "display_data"
    }
   ],
   "source": [
    "# figure op basis van golf 500 - 3500\n",
    "fig, ax = plt.subplots(nrows=1, ncols=1,figsize=(14,5))\n",
    "schuifspanning_bodem.set_index('time (s)').loc[0:200].plot(ax=ax)\n",
    "plt.tight_layout()"
   ]
  },
  {
   "cell_type": "code",
   "execution_count": 62,
   "metadata": {
    "collapsed": false,
    "deletable": true,
    "editable": true
   },
   "outputs": [
    {
     "data": {
      "image/png": "[encoded data removed]",
      "text/plain": [
       "<matplotlib.figure.Figure at 0xcd21588>"
      ]
     },
     "metadata": {},
     "output_type": "display_data"
    }
   ],
   "source": [
    "# figure op basis van golf 500 - 3500\n",
    "fig, ax = plt.subplots(nrows=1, ncols=1,figsize=(14,5))\n",
    "schuifspanning_bodem.set_index('time (s)').loc[25:50].plot(ax=ax)\n",
    "plt.tight_layout()"
   ]
  },
  {
   "cell_type": "code",
   "execution_count": null,
   "metadata": {
    "collapsed": true,
    "deletable": true,
    "editable": true
   },
   "outputs": [],
   "source": []
  }
 ],
 "metadata": {
  "kernelspec": {
   "display_name": "Python 3",
   "language": "python",
   "name": "python3"
  },
  "language_info": {
   "codemirror_mode": {
    "name": "ipython",
    "version": 3
   },
   "file_extension": ".py",
   "mimetype": "text/x-python",
   "name": "python",
   "nbconvert_exporter": "python",
   "pygments_lexer": "ipython3",
   "version": "3.5.2"
  }
 },
 "nbformat": 4,
 "nbformat_minor": 2
}
