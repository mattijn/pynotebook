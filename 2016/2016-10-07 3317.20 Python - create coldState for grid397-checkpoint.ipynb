{
 "cells": [
  {
   "cell_type": "code",
   "execution_count": 1,
   "metadata": {
    "collapsed": true
   },
   "outputs": [],
   "source": [
    "from __future__ import print_function # make sure print behaves the same in 2.7 and 3.x\n",
    "import netCDF4\n",
    "import numpy as np\n",
    "import matplotlib.pyplot as plt\n",
    "%matplotlib inline"
   ]
  },
  {
   "cell_type": "code",
   "execution_count": 2,
   "metadata": {
    "collapsed": false
   },
   "outputs": [
    {
     "name": "stderr",
     "output_type": "stream",
     "text": [
      "c:\\python35\\lib\\site-packages\\ipykernel\\__main__.py:37: MaskedArrayFutureWarning: setting an item on a masked array which has a shared mask will not copy the mask and also change the original mask array in the future.\n",
      "Check the NumPy 1.11 release notes for more information.\n"
     ]
    }
   ],
   "source": [
    "# load input netcdf and state netcdf\n",
    "in_nc = r'D:\\OMS_Waddenzee\\trunk\\fews\\Modules\\depthUpdate4pythontesting\\input//in.nc'\n",
    "# state_nc = r'D:\\OMS_Waddenzee\\trunk\\fews\\Modules\\depthUpdate4pythontesting\\state//state.nc'\n",
    "\n",
    "in_nc_arr = netCDF4.Dataset(in_nc, )\n",
    "# state_nc_arr = netCDF4.Dataset(state_nc, )\n",
    "# print(in_nc_arr)\n",
    "\n",
    "# print(in_nc_arr.variables.keys()) # get all variable names\n",
    "hm = in_nc_arr.variables['HM']  # bodemhoogte peiling\n",
    "# hm_state = state_nc_arr.variables['HM']  # bodemhoogte peiling STATE\n",
    "\n",
    "# print(hm) \n",
    "\n",
    "# for d in in_nc_arr.dimensions.items():\n",
    "#     print(d)\n",
    "\n",
    "# hm.dimensions\n",
    "\n",
    "# hm.shape\n",
    "\n",
    "# create state based on first slice\n",
    "# hm_new = np.ma.copy(hm)\n",
    "hm_copy = np.copy(hm)\n",
    "hm_copy = np.ma.masked_equal(hm_copy, -999)\n",
    "\n",
    "hm_out = hm[0,::]\n",
    "\n",
    "for ix in range(hm.shape[0] - 1):    \n",
    "    # print (ix)\n",
    "    # one by one fill/update and ammend arrays\n",
    "    # get first slice of copy, get second slice of original\n",
    "    a = hm_copy[ix,::] \n",
    "    b = hm[ix+1,::]  \n",
    "    \n",
    "    # update first slice based on second slice\n",
    "    a[~b.mask] = b.compressed()\n",
    "    \n",
    "    #\n",
    "    hm_copy[ix+1,::] = a\n",
    "    \n",
    "    hm_out[~a.mask] = a.compressed()"
   ]
  },
  {
   "cell_type": "code",
   "execution_count": 4,
   "metadata": {
    "collapsed": true
   },
   "outputs": [],
   "source": [
    "# create new.nc url and open file to write\n",
    "new_nc = r'D:\\OMS_Waddenzee\\trunk\\fews\\Modules\\depthUpdate4pythontesting\\state//state.nc'\n",
    "nc_new = netCDF4.Dataset(new_nc, 'w', format=\"NETCDF3_CLASSIC\")\n",
    "\n",
    "# create dimensions for new nc file based on in.nc\n",
    "nt = 1\n",
    "ny = in_nc_arr.dimensions['y'].size\n",
    "nx = in_nc_arr.dimensions['x'].size\n",
    "nc_new.createDimension('time', nt)\n",
    "nc_new.createDimension('y', ny)\n",
    "nc_new.createDimension('x', nx)\n",
    "\n",
    "# copy over time variable from in.nc [only first slice]\n",
    "time_innc = in_nc_arr.variables['time']\n",
    "time = nc_new.createVariable('time', 'f8', ('time',))\n",
    "time[:] = time_innc[0]\n",
    "time.standard_name = time_innc.standard_name\n",
    "time.long_name = time_innc.long_name\n",
    "time.units = time_innc.units\n",
    "time.axis = time_innc.axis\n",
    "\n",
    "# copy over y variable from in.nc\n",
    "y_innc = in_nc_arr.variables['y']\n",
    "y = nc_new.createVariable('y', 'f8', ('y',), fill_value = y_innc._FillValue ) \n",
    "y[:] = y_innc[:]\n",
    "y.standard_name = y_innc.standard_name\n",
    "y.long_name = y_innc.long_name\n",
    "y.units = y_innc.units\n",
    "y.axis = y_innc.axis\n",
    "\n",
    "# copy over x variable from in.nc\n",
    "x_innc = in_nc_arr.variables['x']\n",
    "x = nc_new.createVariable('x', 'f8', ('x'), fill_value = x_innc._FillValue)\n",
    "x[:] = x_innc[:]\n",
    "x.standard_name = x_innc.standard_name\n",
    "x.long_name = x_innc.long_name\n",
    "x.units = x_innc.units\n",
    "x.axis = x_innc.axis\n",
    "\n",
    "# copy over z variable from in.nc\n",
    "z_innc = in_nc_arr.variables['z']\n",
    "z = nc_new.createVariable('z', 'f8', ('y', 'x'), fill_value = z_innc._FillValue)\n",
    "z[:] = z_innc[:]\n",
    "z.long_name = z_innc.long_name\n",
    "z.units = z_innc.units\n",
    "z.axis = z_innc.axis\n",
    "z.postive = z_innc.positive\n",
    "\n",
    "# copy over lat variable from in.nc\n",
    "lat_innc = in_nc_arr.variables['lat']\n",
    "lat = nc_new.createVariable('lat', 'f8', ('y', 'x'), fill_value = lat_innc._FillValue)\n",
    "lat[:] = lat_innc[:]\n",
    "lat.standard_name = lat_innc.standard_name\n",
    "lat.long_name = lat_innc.long_name\n",
    "lat.units = lat_innc.units\n",
    "\n",
    "# copy over lat variable from in.nc\n",
    "lon_innc = in_nc_arr.variables['lon']\n",
    "lon = nc_new.createVariable('lon', 'f8', ('y', 'x'), fill_value = lon_innc._FillValue)\n",
    "lon[:] = lon_innc[:]\n",
    "lon.standard_name = lon_innc.standard_name\n",
    "lon.long_name = lon_innc.long_name\n",
    "lon.units = lon_innc.units\n",
    "\n",
    "# copy over crs variable from in.nc\n",
    "crs_innc = in_nc_arr.variables['crs']\n",
    "crs = nc_new.createVariable('crs', 'i4', ())\n",
    "crs.long_name = crs_innc.long_name\n",
    "crs.crs_wkt = crs_innc.crs_wkt\n",
    "crs.proj4_params = crs_innc.proj4_params\n",
    "crs.epsg_code = crs_innc.epsg_code\n",
    "\n",
    "# copy over HM variable from in.nc [only first slice]\n",
    "HM_innc = in_nc_arr.variables['HM']\n",
    "HM = nc_new.createVariable('HM', 'f8', ('time', 'y', 'x'), fill_value = HM_innc._FillValue)\n",
    "HM[:] = HM_innc[0]\n",
    "HM.long_name = HM_innc.long_name\n",
    "HM.units = HM_innc.units\n",
    "HM.coordinates = HM_innc.coordinates\n",
    "HM.grid_mapping = HM_innc.grid_mapping\n",
    "\n",
    "#close newly created nc file\n",
    "nc_new.close()"
   ]
  },
  {
   "cell_type": "code",
   "execution_count": null,
   "metadata": {
    "collapsed": true
   },
   "outputs": [],
   "source": []
  },
  {
   "cell_type": "code",
   "execution_count": null,
   "metadata": {
    "collapsed": true
   },
   "outputs": [],
   "source": []
  },
  {
   "cell_type": "code",
   "execution_count": null,
   "metadata": {
    "collapsed": false
   },
   "outputs": [],
   "source": [
    "HM_innc.coordinates"
   ]
  },
  {
   "cell_type": "code",
   "execution_count": null,
   "metadata": {
    "collapsed": false
   },
   "outputs": [],
   "source": [
    "nrows = 87\n",
    "ncols = 61\n",
    "volcano = np.abs(np.random.randn(nrows, ncols)*1000) # Random data\n",
    "volcano"
   ]
  },
  {
   "cell_type": "code",
   "execution_count": null,
   "metadata": {
    "collapsed": true
   },
   "outputs": [],
   "source": []
  },
  {
   "cell_type": "code",
   "execution_count": null,
   "metadata": {
    "collapsed": false,
    "scrolled": false
   },
   "outputs": [],
   "source": [
    "for ix in range(hm.shape[0]):\n",
    "    plt.contourf(hm_copy[ix,::])\n",
    "    plt.show()"
   ]
  },
  {
   "cell_type": "code",
   "execution_count": null,
   "metadata": {
    "collapsed": false
   },
   "outputs": [],
   "source": [
    "time = f.variables['time']  # temperature variable\n",
    "print(time.) "
   ]
  },
  {
   "cell_type": "code",
   "execution_count": null,
   "metadata": {
    "collapsed": false
   },
   "outputs": [],
   "source": [
    "import numpy as np\n",
    "from netCDF4 import Dataset\n",
    " \n",
    "ntimes = 30\n",
    "nrows = 87\n",
    "ncols = 61\n",
    "volcano = np.abs(np.random.randn(nrows, ncols)*1000) # Random data\n",
    " \n",
    "x = 100*np.arange(1, nrows + 1)\n",
    "y = 100*np.arange(1, ncols + 1)\n",
    "t = 100*np.arange(1, ntimes + 1)\n",
    " \n",
    "volcgrp = Dataset('volcano.nc', 'w', format='NETCDF3_CLASSIC')\n",
    " \n",
    "#volcgrp.createDimension('time', t)\n",
    "volcgrp.createDimension('y', nrows)\n",
    "volcgrp.createDimension('x', ncols)\n",
    " \n",
    "horizontal = volcgrp.createVariable('horizontal', 'i4', ('we',))\n",
    "vertical = volcgrp.createVariable('vertical', 'i4', ('sn',))\n",
    " \n",
    "elevation  = volcgrp.createVariable('elevation', 'f4', ('we', 'sn'))\n",
    " \n",
    "horizontal[:] = x\n",
    "vertical[:] = y\n",
    "elevation[:,:] = volcano\n",
    " \n",
    "volcgrp.close()"
   ]
  },
  {
   "cell_type": "code",
   "execution_count": null,
   "metadata": {
    "collapsed": false
   },
   "outputs": [],
   "source": [
    "url = 'volcano.nc'\n",
    "f = netCDF4.Dataset(url)\n",
    "print(f)"
   ]
  },
  {
   "cell_type": "code",
   "execution_count": null,
   "metadata": {
    "collapsed": true
   },
   "outputs": [],
   "source": []
  }
 ],
 "metadata": {
  "kernelspec": {
   "display_name": "Python 3",
   "language": "python",
   "name": "python3"
  },
  "language_info": {
   "codemirror_mode": {
    "name": "ipython",
    "version": 3
   },
   "file_extension": ".py",
   "mimetype": "text/x-python",
   "name": "python",
   "nbconvert_exporter": "python",
   "pygments_lexer": "ipython3",
   "version": "3.5.2"
  }
 },
 "nbformat": 4,
 "nbformat_minor": 0
}
