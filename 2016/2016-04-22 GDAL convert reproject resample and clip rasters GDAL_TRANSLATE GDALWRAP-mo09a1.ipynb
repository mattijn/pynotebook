{
 "cells": [
  {
   "cell_type": "code",
   "execution_count": 1,
   "metadata": {
    "collapsed": true
   },
   "outputs": [],
   "source": [
    "import subprocess as sp\n",
    "import os\n",
    "from datetime import datetime, timedelta\n",
    "import numpy as np\n",
    "import pandas as pd"
   ]
  },
  {
   "cell_type": "code",
   "execution_count": 2,
   "metadata": {
    "collapsed": true
   },
   "outputs": [],
   "source": [
    "def listall(RootFolder, varname='',extension='.png'):\n",
    "    lists = [os.path.join(root, name)\n",
    "             for root, dirs, files in os.walk(RootFolder)\n",
    "             for name in files\n",
    "             if varname in name\n",
    "             if name.endswith(extension)]\n",
    "    return lists\n",
    "\n",
    "# see note below\n",
    "def youCanQuoteMe(item):\n",
    "    return \"\\\"\" + item + \"\\\"\"   "
   ]
  },
  {
   "cell_type": "code",
   "execution_count": 15,
   "metadata": {
    "collapsed": true
   },
   "outputs": [],
   "source": [
    "files = listall(r'D:\\Downloads', varname='h27v05', extension='.hdf')"
   ]
  },
  {
   "cell_type": "code",
   "execution_count": 16,
   "metadata": {
    "collapsed": true
   },
   "outputs": [],
   "source": [
    "files = [files[1]]"
   ]
  },
  {
   "cell_type": "code",
   "execution_count": null,
   "metadata": {
    "collapsed": true
   },
   "outputs": [],
   "source": []
  },
  {
   "cell_type": "code",
   "execution_count": 19,
   "metadata": {
    "collapsed": false
   },
   "outputs": [],
   "source": [
    "index = []\n",
    "for i in files:\n",
    "    # get date\n",
    "    year = int(i[-36:-32])\n",
    "    doy = int(i[-32:-29])\n",
    "    date = datetime(year, 1, 1) + timedelta(doy - 1)\n",
    "    date = np.datetime64(date)\n",
    "    date = pd.Timestamp(np.datetime_as_string(date))\n",
    "    index.append(date)\n",
    "index = np.array(index)\n",
    "df = pd.DataFrame(index=index)"
   ]
  },
  {
   "cell_type": "code",
   "execution_count": 20,
   "metadata": {
    "collapsed": false
   },
   "outputs": [
    {
     "data": {
      "text/html": [
       "<div>\n",
       "<table border=\"1\" class=\"dataframe\">\n",
       "  <thead>\n",
       "    <tr style=\"text-align: right;\">\n",
       "      <th></th>\n",
       "    </tr>\n",
       "  </thead>\n",
       "  <tbody>\n",
       "    <tr>\n",
       "      <th>2008-01-17 00:00:00+00:00</th>\n",
       "    </tr>\n",
       "  </tbody>\n",
       "</table>\n",
       "</div>"
      ],
      "text/plain": [
       "Empty DataFrame\n",
       "Columns: []\n",
       "Index: [2008-01-17 00:00:00+00:00]"
      ]
     },
     "execution_count": 20,
     "metadata": {},
     "output_type": "execute_result"
    }
   ],
   "source": [
    "df"
   ]
  },
  {
   "cell_type": "code",
   "execution_count": null,
   "metadata": {
    "collapsed": true
   },
   "outputs": [],
   "source": []
  },
  {
   "cell_type": "code",
   "execution_count": 21,
   "metadata": {
    "collapsed": true
   },
   "outputs": [],
   "source": [
    "month = df.index.map(lambda x: x.month)\n",
    "year = df.index.map(lambda x: x.year)\n",
    "day = df.index.map(lambda x: x.day)\n",
    "doy =  df.index.map(lambda x: x.dayofyear)\n",
    "# select only dates between certain month\n",
    "df_sel = (df[(month >= 1) & (month <=6)] + \n",
    "          df[(month >= 10) & (month <=12)]).sort_index()\n",
    "index_sel = pd.Series(np.in1d(df.index,df_sel.index))"
   ]
  },
  {
   "cell_type": "code",
   "execution_count": 26,
   "metadata": {
    "collapsed": false,
    "scrolled": true
   },
   "outputs": [
    {
     "name": "stdout",
     "output_type": "stream",
     "text": [
      "\"C:\\Program Files\\GDAL//gdal_translate.exe\" -of GTiff HDF4_EOS:EOS_GRID:D:\\Downloads\\MOD09A1.A2008017.h27v05.006.2015169223429.hdf:MOD_Grid_500m_Surface_Reflectance:sur_refl_b04 D:\\Data\\NDAI_VHI_GROUNDTRUTH\\tif\\mod09a1//MOD09A1_2008-01-17.tif\n",
      "\"C:\\Program Files\\GDAL//gdalwarp.exe\" -t_srs EPSG:4326 -tr 0.01 0.01 -overwrite D:\\Data\\NDAI_VHI_GROUNDTRUTH\\tif\\mod09a1//MOD09A1_2008-01-17.tif D:\\Data\\NDAI_VHI_GROUNDTRUTH\\tif\\mod09a1//MOD09A1_2008-01-17_rep.tif\n",
      "\"C:\\Program Files\\GDAL//gdal_translate.exe\" -projwin 116.84693268 34.10324112 117.44 33.26 -of GTiff D:\\Data\\NDAI_VHI_GROUNDTRUTH\\tif\\mod09a1//MOD09A1_2008-01-17_rep.tif D:\\Data\\NDAI_VHI_GROUNDTRUTH\\tif\\mod09a1//MOD09A1_2008-01-17_clip_b04.tif\n"
     ]
    }
   ],
   "source": [
    "# prulletaria\n",
    "gdal_translate = r'C:\\Program Files\\GDAL//gdal_translate.exe'\n",
    "gdalwarp = r'C:\\Program Files\\GDAL//gdalwarp.exe'\n",
    "out_base = r'D:\\Data\\NDAI_VHI_GROUNDTRUTH\\tif\\mod09a1//'\n",
    "\n",
    "extent = [116.84693268,117.44,33.26,34.10324112]\n",
    "\n",
    "for idx, val in enumerate(index_sel[0:1]):    \n",
    "    if val == True:\n",
    "        # 1. convert from HDF to TIF\n",
    "        out_file = out_base+'MOD09A1_'+str(index[idx].year)+'-'+str(index[idx].month).zfill(2)+'-'+str(index[idx].day).zfill(2)\n",
    "        src = 'HDF4_EOS:EOS_GRID:'+files[idx]+':MOD_Grid_500m_Surface_Reflectance:sur_refl_b04'\n",
    "        command = [gdal_translate,'-of','GTiff', src, out_file+'.tif']\n",
    "        print (sp.list2cmdline(command))\n",
    "        norm = sp.Popen(sp.list2cmdline(command),stdout=sp.PIPE, shell=True)\n",
    "        norm.communicate()        \n",
    "        \n",
    "        # 2. reproject from sinusoidal to epsg 4326 (resampling also should take place in this step, if necessary)\n",
    "        command = [gdalwarp, '-t_srs','EPSG:4326','-tr', '0.01', '0.01', '-overwrite', out_file+'.tif', out_file+'_rep.tif']\n",
    "        print (sp.list2cmdline(command))\n",
    "        norm = sp.Popen(sp.list2cmdline(command),stdout=sp.PIPE, shell=True)\n",
    "        norm.communicate()                \n",
    "\n",
    "        # 3. clip raster\n",
    "        command = [gdal_translate, '-projwin', str(extent[0]),str(extent[3]),\n",
    "                   str(extent[1]),str(extent[2]),'-of','GTiff', out_file+'_rep.tif', out_file+'_clip_b04.tif']\n",
    "        print (sp.list2cmdline(command))\n",
    "        norm = sp.Popen(sp.list2cmdline(command),stdout=sp.PIPE, shell=True)\n",
    "        norm.communicate()        "
   ]
  },
  {
   "cell_type": "code",
   "execution_count": null,
   "metadata": {
    "collapsed": false
   },
   "outputs": [],
   "source": [
    "# rename from iso date to date + dayofyear\n",
    "files = listall(r'D:\\Data\\NDAI_VHI_GROUNDTRUTH\\tif\\mod13a2_month10_06', extension='.tif')\n",
    "for i in files[1::]:\n",
    "    try:\n",
    "        print i\n",
    "        year = int(i[-19:-15])\n",
    "        month = int(i[-14:-12])\n",
    "        day = int(i[-11:-9])\n",
    "        date = datetime(year, month, day)\n",
    "        date = np.datetime64(date)\n",
    "        date = pd.Timestamp(np.datetime_as_string(date))    \n",
    "        os.rename(i, i[:-19] + str(date.year) +'_'+ str(date.dayofyear).zfill(3) +'.tif')\n",
    "    except: \n",
    "        continue"
   ]
  },
  {
   "cell_type": "code",
   "execution_count": null,
   "metadata": {
    "collapsed": true
   },
   "outputs": [],
   "source": []
  }
 ],
 "metadata": {
  "kernelspec": {
   "display_name": "Python 2",
   "language": "python",
   "name": "python2"
  },
  "language_info": {
   "codemirror_mode": {
    "name": "ipython",
    "version": 2
   },
   "file_extension": ".py",
   "mimetype": "text/x-python",
   "name": "python",
   "nbconvert_exporter": "python",
   "pygments_lexer": "ipython2",
   "version": "2.7.6"
  }
 },
 "nbformat": 4,
 "nbformat_minor": 0
}
