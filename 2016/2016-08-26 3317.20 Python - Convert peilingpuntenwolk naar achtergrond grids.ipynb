{
 "cells": [
  {
   "cell_type": "code",
   "execution_count": 1,
   "metadata": {
    "collapsed": true,
    "jupyter": {
     "outputs_hidden": true
    }
   },
   "outputs": [],
   "source": [
    "from xml.etree import ElementTree\n",
    "from xml.dom import minidom\n",
    "import glob, os\n",
    "from xml.etree.ElementTree import Element, SubElement, Comment\n",
    "import subprocess as sp\n",
    "import pandas as pd\n",
    "from datetime import datetime\n",
    "from osgeo import ogr"
   ]
  },
  {
   "cell_type": "code",
   "execution_count": 2,
   "metadata": {
    "collapsed": true,
    "jupyter": {
     "outputs_hidden": true
    }
   },
   "outputs": [],
   "source": [
    "def prettify(elem):\n",
    "    \"\"\"Return a pretty-printed XML string for the Element.\n",
    "    \"\"\"\n",
    "    rough_string = ElementTree.tostring(elem, 'utf-8')\n",
    "    reparsed = minidom.parseString(rough_string)\n",
    "    return reparsed.toprettyxml(indent=\"  \")\n",
    "\n",
    "def writeOGRVRT(basename, fullpath):\n",
    "    top = Element('OGRVRTDataSource')\n",
    "    child = SubElement(top, 'OGRVRTLayer')\n",
    "    child.set('name', basename)\n",
    "    sub_child_1 = SubElement(child, 'SrcDataSource')\n",
    "    sub_child_1.text = fullpath\n",
    "    sub_child_2 = SubElement(child, 'GeometryType')\n",
    "    sub_child_2.text = 'wkbPoint'\n",
    "    sub_child_3 = SubElement(child, 'LayerSRS')\n",
    "    sub_child_3.text = 'EPSG:28992'\n",
    "    sub_child_4 = SubElement(child, 'GeometryField')\n",
    "    sub_child_4.set('encoding','PointFromColumns')\n",
    "    sub_child_4.set('x','field_1')\n",
    "    sub_child_4.set('y','field_2')\n",
    "    sub_child_4.set('z','field_3')\n",
    "\n",
    "    return prettify(top)"
   ]
  },
  {
   "cell_type": "code",
   "execution_count": 3,
   "metadata": {
    "collapsed": false,
    "jupyter": {
     "outputs_hidden": false
    }
   },
   "outputs": [
    {
     "name": "stdout",
     "output_type": "stream",
     "text": [
      "Opened D:\\Projects\\Pr\\3317.20\\BodempeilingScript//achtergrond_shape.shp\n",
      "Name of layer: achtergrond_shape\n",
      "Number of features in achtergrond_shape.shp: 2\n",
      "1\n",
      "2\n"
     ]
    }
   ],
   "source": [
    "ruweDataDir = r'D:\\Projects\\Pr\\3317.20\\BodempeilingScript\\survey_ruweData'\n",
    "workdir = r'D:\\Projects\\Pr\\3317.20\\BodempeilingScript\\tmp'\n",
    "bg_shp = r'D:\\Projects\\Pr\\3317.20\\BodempeilingScript//achtergrond_shape.shp'\n",
    "\n",
    "driver = ogr.GetDriverByName('ESRI Shapefile')\n",
    "\n",
    "dataSource = driver.Open(bg_shp, 0) # 0 means read-only. 1 means writeable.\n",
    "\n",
    "# Check to see if shapefile is found.\n",
    "if dataSource is None:\n",
    "    print ('Could not open %s' % (bg_shp))\n",
    "else:\n",
    "    print ('Opened %s' % (bg_shp))\n",
    "    layer = dataSource.GetLayer()\n",
    "    bg_shp_features = layer.GetFeatureCount()\n",
    "    print ('Name of layer: %s' % layer.GetDescription())\n",
    "    print (\"Number of features in %s: %d\" % (os.path.basename(bg_shp),bg_shp_features))\n",
    "    \n",
    "    for i in range(bg_shp_features):\n",
    "        feat = layer.GetFeature(i)\n",
    "        obID = feat.GetField('OBJECTID')    \n",
    "        print (obID)"
   ]
  },
  {
   "cell_type": "code",
   "execution_count": 4,
   "metadata": {
    "collapsed": true,
    "jupyter": {
     "outputs_hidden": true
    }
   },
   "outputs": [],
   "source": [
    "ogr2ogr = r'C:\\Python35\\Lib\\site-packages\\osgeo//ogr2ogr.exe'\n",
    "gdalwarp = r'C:\\Python35\\Lib\\site-packages\\osgeo//gdalwarp.exe'\n",
    "gdal_rasterize = r'C:\\Python35\\Lib\\site-packages\\osgeo//gdal_rasterize.exe'\n",
    "gdal_translate = r'C:\\Python35\\Lib\\site-packages\\osgeo//gdal_translate.exe'\n",
    "gdalbuildvrt = r'C:\\Python35\\Lib\\site-packages\\osgeo//gdalbuildvrt.exe'"
   ]
  },
  {
   "cell_type": "code",
   "execution_count": 7,
   "metadata": {
    "collapsed": false,
    "jupyter": {
     "outputs_hidden": false
    }
   },
   "outputs": [
    {
     "name": "stdout",
     "output_type": "stream",
     "text": [
      "D:\\Projects\\Pr\\3317.20\\BodempeilingScript\\survey_ruweData\\SUR-5081-ATU-a-150914-BAL-WR-MB-AJR-1x1.asc\n",
      "C:\\Python35\\Lib\\site-packages\\osgeo//gdal_rasterize.exe -a field_3 -tr 1.0 1.0 -l SUR-5081-ATU-a-150914-BAL-WR-MB-AJR-1x1 D:\\Projects\\Pr\\3317.20\\BodempeilingScript\\tmp\\SUR-5081-ATU-a-150914-BAL-WR-MB-AJR-1x1.vrt D:\\Projects\\Pr\\3317.20\\BodempeilingScript\\tmp\\SUR-5081-ATU-a-150914-BAL-WR-MB-AJR-1x1.tif\n",
      "1\n",
      "C:\\Python35\\Lib\\site-packages\\osgeo//gdalwarp.exe -srcnodata 0 -dstnodata -9999 -overwrite -crop_to_cutline -cutline D:\\Projects\\Pr\\3317.20\\BodempeilingScript//achtergrond_shape.shp -cwhere \"OBJECTID = 1\" D:\\Projects\\Pr\\3317.20\\BodempeilingScript\\tmp\\SUR-5081-ATU-a-150914-BAL-WR-MB-AJR-1x1.tif D:\\Projects\\Pr\\3317.20\\BodempeilingScript\\tmp\\SUR-5081-ATU-a-150914-BAL-WR-MB-AJR-1x1_feature1_.tif\n",
      "C:\\Python35\\Lib\\site-packages\\osgeo//gdal_rasterize.exe -a NoDataValu -a_srs EPSG:28992 -where \"OBJECTID = 1\" -tr 1.0 1.0 -l achtergrond_shape D:\\Projects\\Pr\\3317.20\\BodempeilingScript//achtergrond_shape.shp D:\\Projects\\Pr\\3317.20\\BodempeilingScript\\tmp\\SUR-5081-ATU-a-150914-BAL-WR-MB-AJR-1x1_feature1_bg_tmp.tif\n",
      "C:\\Python35\\Lib\\site-packages\\osgeo//gdalwarp.exe -srcnodata -9999 -dstnodata -9999 -tr 1.0 1.0 -overwrite -crop_to_cutline -cutline D:\\Projects\\Pr\\3317.20\\BodempeilingScript//achtergrond_shape.shp -cwhere \"OBJECTID = 1\" D:\\Projects\\Pr\\3317.20\\BodempeilingScript\\tmp\\SUR-5081-ATU-a-150914-BAL-WR-MB-AJR-1x1_feature1_bg_tmp.tif D:\\Projects\\Pr\\3317.20\\BodempeilingScript\\tmp\\SUR-5081-ATU-a-150914-BAL-WR-MB-AJR-1x1_feature1_bg.tif\n",
      "C:\\Python35\\Lib\\site-packages\\osgeo//gdalbuildvrt.exe -srcnodata -9999 D:\\Projects\\Pr\\3317.20\\BodempeilingScript\\tmp\\SUR-5081-ATU-a-150914-BAL-WR-MB-AJR-1x1_feature1_.vrt D:\\Projects\\Pr\\3317.20\\BodempeilingScript\\tmp\\SUR-5081-ATU-a-150914-BAL-WR-MB-AJR-1x1_feature1_.tif D:\\Projects\\Pr\\3317.20\\BodempeilingScript\\tmp\\SUR-5081-ATU-a-150914-BAL-WR-MB-AJR-1x1_feature1_bg.tif\n",
      "step 7:\n",
      "C:\\Python35\\Lib\\site-packages\\osgeo//gdal_translate.exe -of AAIGrid -tr 1.0 1.0 D:\\Projects\\Pr\\3317.20\\BodempeilingScript\\tmp\\SUR-5081-ATU-a-150914-BAL-WR-MB-AJR-1x1_feature1_.vrt D:\\Projects\\Pr\\3317.20\\BodempeilingScript\\tmp\\SUR-5081-ATU-a-150914-BAL-WR-MB-AJR-1x1_feature1_.asc\n",
      "2\n",
      "C:\\Python35\\Lib\\site-packages\\osgeo//gdalwarp.exe -srcnodata 0 -dstnodata -9999 -overwrite -crop_to_cutline -cutline D:\\Projects\\Pr\\3317.20\\BodempeilingScript//achtergrond_shape.shp -cwhere \"OBJECTID = 2\" D:\\Projects\\Pr\\3317.20\\BodempeilingScript\\tmp\\SUR-5081-ATU-a-150914-BAL-WR-MB-AJR-1x1.tif D:\\Projects\\Pr\\3317.20\\BodempeilingScript\\tmp\\SUR-5081-ATU-a-150914-BAL-WR-MB-AJR-1x1_feature2_.tif\n",
      "C:\\Python35\\Lib\\site-packages\\osgeo//gdal_rasterize.exe -a NoDataValu -a_srs EPSG:28992 -where \"OBJECTID = 2\" -tr 1.0 1.0 -l achtergrond_shape D:\\Projects\\Pr\\3317.20\\BodempeilingScript//achtergrond_shape.shp D:\\Projects\\Pr\\3317.20\\BodempeilingScript\\tmp\\SUR-5081-ATU-a-150914-BAL-WR-MB-AJR-1x1_feature2_bg_tmp.tif\n",
      "C:\\Python35\\Lib\\site-packages\\osgeo//gdalwarp.exe -srcnodata -9999 -dstnodata -9999 -tr 1.0 1.0 -overwrite -crop_to_cutline -cutline D:\\Projects\\Pr\\3317.20\\BodempeilingScript//achtergrond_shape.shp -cwhere \"OBJECTID = 2\" D:\\Projects\\Pr\\3317.20\\BodempeilingScript\\tmp\\SUR-5081-ATU-a-150914-BAL-WR-MB-AJR-1x1_feature2_bg_tmp.tif D:\\Projects\\Pr\\3317.20\\BodempeilingScript\\tmp\\SUR-5081-ATU-a-150914-BAL-WR-MB-AJR-1x1_feature2_bg.tif\n",
      "C:\\Python35\\Lib\\site-packages\\osgeo//gdalbuildvrt.exe -srcnodata -9999 D:\\Projects\\Pr\\3317.20\\BodempeilingScript\\tmp\\SUR-5081-ATU-a-150914-BAL-WR-MB-AJR-1x1_feature2_.vrt D:\\Projects\\Pr\\3317.20\\BodempeilingScript\\tmp\\SUR-5081-ATU-a-150914-BAL-WR-MB-AJR-1x1_feature2_.tif D:\\Projects\\Pr\\3317.20\\BodempeilingScript\\tmp\\SUR-5081-ATU-a-150914-BAL-WR-MB-AJR-1x1_feature2_bg.tif\n",
      "step 7:\n",
      "C:\\Python35\\Lib\\site-packages\\osgeo//gdal_translate.exe -of AAIGrid -tr 1.0 1.0 D:\\Projects\\Pr\\3317.20\\BodempeilingScript\\tmp\\SUR-5081-ATU-a-150914-BAL-WR-MB-AJR-1x1_feature2_.vrt D:\\Projects\\Pr\\3317.20\\BodempeilingScript\\tmp\\SUR-5081-ATU-a-150914-BAL-WR-MB-AJR-1x1_feature2_.asc\n"
     ]
    }
   ],
   "source": [
    "for root, dirs, files in os.walk(ruweDataDir):\n",
    "    for file in files:\n",
    "        if file.endswith('.asc'):\n",
    "            init_file = os.path.join( os.path.abspath(root), file )\n",
    "            base, extension = os.path.splitext(file)\n",
    "            print (init_file)\n",
    "            \n",
    "            # 1 convert survey data to CSV format\n",
    "            asc2csv = os.path.join(workdir,base+'.csv')\n",
    "            df = pd.read_csv(init_file, header=None)\n",
    "            df.to_csv(asc2csv, header=False, index=False, sep=';')\n",
    "            \n",
    "            # 2 build OGRVRT from CSV file\n",
    "            csv2ogrvrt = os.path.join(workdir,base+'.vrt')\n",
    "            with open(csv2ogrvrt, 'w') as the_file:\n",
    "                the_file.write(writeOGRVRT(base, asc2csv))\n",
    "                \n",
    "            # 3 create RASTER from OGRVRT\n",
    "            ogrvrt2tif = os.path.join(workdir,base+'.tif')\n",
    "            command = [gdal_rasterize, '-a','field_3','-tr','1.0','1.0','-l',base,csv2ogrvrt,ogrvrt2tif]\n",
    "            print (sp.list2cmdline(command))\n",
    "            norm = sp.Popen(sp.list2cmdline(command),stdout=sp.PIPE, shell=True)\n",
    "            norm.communicate()\n",
    "\n",
    "            \n",
    "            for feature in range(bg_shp_features):\n",
    "                feat = layer.GetFeature(feature)\n",
    "                obID = feat.GetField('OBJECTID')    \n",
    "                print (obID)            \n",
    "                \n",
    "                # 4 clip point RASTER with feature achtergrond SHP\n",
    "                tif2feat_point_tif = os.path.join(workdir,base+'_feature'+str(obID)+'_'+'.tif')\n",
    "                command = [gdalwarp, '-srcnodata', '0', '-dstnodata', '-9999', '-overwrite', '-crop_to_cutline', \n",
    "                           '-cutline', bg_shp, '-cwhere', 'OBJECTID = '+str(obID), ogrvrt2tif, tif2feat_point_tif]            \n",
    "                print (sp.list2cmdline(command))\n",
    "                norm = sp.Popen(sp.list2cmdline(command),stdout=sp.PIPE, shell=True)\n",
    "                norm.communicate()\n",
    "                \n",
    "                # 5A convert feature achtergrond SHP to RASTER\n",
    "                # issue is that it is converting the whole SHP to RASTER [with NoData values outside the selected object\n",
    "                # instead of using some type of cutline function\n",
    "                feat_bg_shp2feat_bg_tmp_tif = os.path.join(workdir,base+'_feature'+str(obID)+'_bg_tmp'+'.tif')\n",
    "                command = [gdal_rasterize, '-a', 'NoDataValu', '-a_srs', 'EPSG:28992', '-where', 'OBJECTID = '+str(obID), \n",
    "                           '-tr', '1.0', '1.0', '-l', layer.GetDescription(), bg_shp, feat_bg_shp2feat_bg_tmp_tif]         \n",
    "                print (sp.list2cmdline(command))\n",
    "                norm = sp.Popen(sp.list2cmdline(command),stdout=sp.PIPE, shell=True)\n",
    "                norm.communicate()\n",
    "                \n",
    "                # 5B clip achtergrond RASTER\n",
    "                feat_bg_tmp_tif2feat_bg_tif = os.path.join(workdir,base+'_feature'+str(obID)+'_bg'+'.tif')\n",
    "                command = [gdalwarp, '-srcnodata', '-9999', '-dstnodata', '-9999', '-tr', '1.0', '1.0', '-overwrite', \n",
    "                           '-crop_to_cutline', '-cutline', bg_shp, '-cwhere', 'OBJECTID = '+str(obID), \n",
    "                           feat_bg_shp2feat_bg_tmp_tif, feat_bg_tmp_tif2feat_bg_tif]            \n",
    "                print (sp.list2cmdline(command))\n",
    "                norm = sp.Popen(sp.list2cmdline(command),stdout=sp.PIPE, shell=True)\n",
    "                norm.communicate()                                \n",
    "\n",
    "                # if step 5 works, continue with testing step 6 and 7\n",
    "                # 6 Build VRT data source of point RASTER and feature achtergrond RASTER                \n",
    "                feat_bg_tif_feat_point_tif2feat_vrt = os.path.join(workdir,base+'_feature'+str(obID)+'_'+'.vrt')\n",
    "                command = [gdalbuildvrt, '-srcnodata', '-9999', feat_bg_tif_feat_point_tif2feat_vrt, \n",
    "                           tif2feat_point_tif, feat_bg_tmp_tif2feat_bg_tif]\n",
    "                print (sp.list2cmdline(command))\n",
    "                norm = sp.Popen(sp.list2cmdline(command),stdout=sp.PIPE, shell=True)\n",
    "                norm.communicate()\n",
    "\n",
    "                # 7 Convert VRT to ArcInfoASCII   \n",
    "                print ('step 7:')\n",
    "                feat_vrt2feat_asc = os.path.join(workdir,base+'_feature'+str(obID)+'_'+'.asc')\n",
    "                command = [gdal_translate, '-of', 'AAIGrid', '-tr', '1.0', '1.0', feat_bg_tif_feat_point_tif2feat_vrt, \n",
    "                           feat_vrt2feat_asc]\n",
    "                print (sp.list2cmdline(command))\n",
    "                norm = sp.Popen(sp.list2cmdline(command),stdout=sp.PIPE, shell=True)\n",
    "                norm.communicate() "
   ]
  },
  {
   "cell_type": "code",
   "execution_count": null,
   "metadata": {
    "collapsed": true,
    "jupyter": {
     "outputs_hidden": true
    }
   },
   "outputs": [],
   "source": [
    "## GENERAL STEPS OUTLINING THE PROCEDURE\n",
    "# 0 Convert survey data to CSV format\n",
    "# df = pd.read_csv(old_name, header=None)\n",
    "# df.to_csv(csv_out, header=False, index=False, sep=';')\n",
    "\n",
    "# 1 Build OGR VRT data source from CSV\n",
    "# with open(vrt_out, 'w') as the_file:\n",
    "#     the_file.write(writeOGRVRT(base, csv_out))\n",
    "\n",
    "# 2 Convert VRT to SHP ## maybe can skip this and convert OGR_VRT to RASTER\n",
    "# command = [ogr2ogr, '-f','ESRI Shapefile',shp_out,vrt_out]\n",
    "\n",
    "# 3 Convert point selection SHP to RASTER \n",
    "# command = [gdal_rasterize, '-a', 'field_3', '-tr', '1.0', '1.0', '-l', base, shp_out, tif_out]\n",
    "\n",
    "# 4 Intersect point RASTER with achtergrond SHP  ## this should be replaced with an gdalwarp\n",
    "# command = [ogr2ogr, '-clipsrclayer', polygonforclipping.shp, out.shp, in.shp]\n",
    "\n",
    "# 5 Convert achtergrond SHP to RASTER\n",
    "# command = [gdal_rasterize, '-a', 'field_empty', '-tr', '1.0', '1.0', '-l', base, shp_out, tif_out]\n",
    "\n",
    "# 6 Build VRT data source of point RASTER and achtergrond RASTER\n",
    "# command = [gdalbuildvrt, '-srcnodata', '0', 'out.vrt', pointRASTER.tif, achtergrondRASTER.tif] # order is not sure\n",
    "\n",
    "# 7 Convert VRT to ASC\n",
    "# command = [gdal_translate, '-a_nodata', '0', '-of', 'AAIGrid', in.vrt, out.asc]"
   ]
  }
 ],
 "metadata": {
  "kernelspec": {
   "display_name": "Python 3",
   "language": "python",
   "name": "python3"
  },
  "language_info": {
   "codemirror_mode": {
    "name": "ipython",
    "version": 3
   },
   "file_extension": ".py",
   "mimetype": "text/x-python",
   "name": "python",
   "nbconvert_exporter": "python",
   "pygments_lexer": "ipython3",
   "version": "3.6.5"
  }
 },
 "nbformat": 4,
 "nbformat_minor": 4
}
