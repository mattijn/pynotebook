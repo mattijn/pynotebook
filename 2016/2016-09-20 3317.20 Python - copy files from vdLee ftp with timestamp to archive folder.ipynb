{
 "cells": [
  {
   "cell_type": "code",
   "execution_count": 1,
   "metadata": {
    "collapsed": false
   },
   "outputs": [],
   "source": [
    "import os, time, logging"
   ]
  },
  {
   "cell_type": "code",
   "execution_count": 5,
   "metadata": {
    "collapsed": true
   },
   "outputs": [],
   "source": [
    "# Author: Mattijn van Hoek\n",
    "# Date: 2016-09-20\n",
    "# Description: Move files from FTP Import folder to ImportBackup while adding a timestamp\n",
    "\n",
    "# Example: \n",
    "# In is folder with one file named x.csv\n",
    "# Out is folder with the file x_20160920111459.csv\n",
    "\n",
    "# Script is scheduled to run every 5 seconds"
   ]
  },
  {
   "cell_type": "code",
   "execution_count": 2,
   "metadata": {
    "collapsed": false
   },
   "outputs": [],
   "source": [
    "logFile = r'D:\\fews\\scripts\\logs//log_file_ftp_vdLee.out'\n",
    "logger = logging.getLogger('ftpvdLeeImport2vdLeeImportBackup')\n",
    "hdlr = logging.FileHandler(logFile)\n",
    "formatter = logging.Formatter('%(asctime)s %(levelname)s %(message)s')\n",
    "hdlr.setFormatter(formatter)\n",
    "logger.addHandler(hdlr) \n",
    "logger.setLevel(logging.INFO)"
   ]
  },
  {
   "cell_type": "code",
   "execution_count": 3,
   "metadata": {
    "collapsed": false
   },
   "outputs": [],
   "source": [
    "inFolder = r'D:\\fews\\data\\Import\\vdlee\\reizen'\n",
    "outFolder = r'D:\\fews\\data\\ImportBackup\\vdlee\\reizen'"
   ]
  },
  {
   "cell_type": "code",
   "execution_count": 4,
   "metadata": {
    "collapsed": false
   },
   "outputs": [
    {
     "name": "stdout",
     "output_type": "stream",
     "text": [
      "ftpUpload.csv\n",
      "D:\\fews\\data\\ImportBackup\\vdlee\\reizen\\ftpUpload_20160920111459.csv\n"
     ]
    }
   ],
   "source": [
    "for root, dirs, files in os.walk(inFolder):\n",
    "    for file in files:\n",
    "        if file.endswith('.csv'):\n",
    "            print (file)  \n",
    "            init_file = os.path.join( os.path.abspath(root), file )            \n",
    "            logger.info ('File exist %s' % (init_file))\n",
    "            base, extension = os.path.splitext(file)\n",
    "            ts = time.strftime(\"%Y%m%d%H%M%S\")            \n",
    "            backup_file = os.path.join( os.path.abspath(outFolder), base + '_' + ts + '.csv' )\n",
    "            print (backup_file)\n",
    "            logger.info ('Archive as %s' % (backup_file))\n",
    "            os.rename(init_file, backup_file)            "
   ]
  },
  {
   "cell_type": "code",
   "execution_count": null,
   "metadata": {
    "collapsed": true
   },
   "outputs": [],
   "source": []
  }
 ],
 "metadata": {
  "kernelspec": {
   "display_name": "Python 3",
   "language": "python",
   "name": "python3"
  },
  "language_info": {
   "codemirror_mode": {
    "name": "ipython",
    "version": 3
   },
   "file_extension": ".py",
   "mimetype": "text/x-python",
   "name": "python",
   "nbconvert_exporter": "python",
   "pygments_lexer": "ipython3",
   "version": "3.5.2"
  }
 },
 "nbformat": 4,
 "nbformat_minor": 0
}
