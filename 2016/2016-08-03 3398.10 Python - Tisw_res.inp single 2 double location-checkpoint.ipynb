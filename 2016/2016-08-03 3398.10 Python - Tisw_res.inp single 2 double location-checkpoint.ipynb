{
 "cells": [
  {
   "cell_type": "code",
   "execution_count": 1,
   "metadata": {
    "collapsed": true
   },
   "outputs": [],
   "source": [
    "import pandas as pd"
   ]
  },
  {
   "cell_type": "code",
   "execution_count": 2,
   "metadata": {
    "collapsed": true
   },
   "outputs": [],
   "source": [
    "inp_in = r'D:\\Projects\\Pr\\3398.10\\rekencluster/tisw_res_single.inp'\n",
    "inp_out = r'D:\\Projects\\Pr\\3398.10\\rekencluster/tisw_res_COMB_OUT.inp'\n",
    "first_locationID = 3\n",
    "first_percentage = 1/6.\n",
    "second_locationID = 400\n",
    "second_percentage = 5/6."
   ]
  },
  {
   "cell_type": "code",
   "execution_count": 4,
   "metadata": {
    "collapsed": true
   },
   "outputs": [],
   "source": [
    "def formatter(i):\n",
    "    \"\"\"\n",
    "    input is single dictionary item\n",
    "    output is string in correct inp-format\n",
    "    example dictionary item:\n",
    "    \n",
    "    \"\"\"\n",
    "    dag = \"{0:.2f}\".format(i['dag']).rjust(15)\n",
    "    jaar = \"{0:d}\".format(int(i['jaar'])).rjust(6)\n",
    "    locatie = \"{0:d}\".format(int(i['locatie'])).rjust(10)\n",
    "    spatie = '{: >20s}'.format(\" \")\n",
    "    waarde = \"{0:.5f}\".format(i['waarde'])\n",
    "    totaal = dag+jaar+locatie+spatie+waarde\n",
    "    return totaal"
   ]
  },
  {
   "cell_type": "code",
   "execution_count": 3,
   "metadata": {
    "collapsed": false
   },
   "outputs": [],
   "source": [
    "# read the inp-file into 2 separate dataframes\n",
    "first = pd.read_csv(inp_in, sep='\\s+', header=None, names=['dag','jaar','locatie','waarde'])\n",
    "second = pd.read_csv(inp_in, sep='\\s+', header=None, names=['dag','jaar','locatie','waarde'])\n",
    "\n",
    "# set the locationID as desired \n",
    "first['locatie'] = first_locationID\n",
    "first['waarde'] = first['waarde'] * first_percentage\n",
    "\n",
    "# apply 1/6 and 5/6 to the waarde-column\n",
    "second['locatie'] = second_locationID\n",
    "second['waarde'] = second['waarde'] * second_percentage\n",
    "\n",
    "# concatenate the dataframes and write to dictionary\n",
    "df = pd.concat([first,second])\n",
    "df2dict = df.to_dict('records')\n",
    "print df2dict[0]\n",
    "# create output inp-file and write the values includeing fixed-width separation\n",
    "\n",
    "with open(inp_out, 'w') as thefile:\n",
    "    for i in df2dict:\n",
    "        dag = \"{0:.2f}\".format(i['dag']).rjust(15)\n",
    "        jaar = \"{0:d}\".format(int(i['jaar'])).rjust(6)\n",
    "        locatie = \"{0:d}\".format(int(i['locatie'])).rjust(10)\n",
    "        spatie = '{: >20s}'.format(\" \")\n",
    "        waarde = \"{0:.5f}\".format(i['waarde'])\n",
    "        totaal = dag+jaar+locatie+spatie+waarde\n",
    "        thefile.write(\"%s\\n\" % totaal)"
   ]
  }
 ],
 "metadata": {
  "kernelspec": {
   "display_name": "Python 2",
   "language": "python",
   "name": "python2"
  },
  "language_info": {
   "codemirror_mode": {
    "name": "ipython",
    "version": 2
   },
   "file_extension": ".py",
   "mimetype": "text/x-python",
   "name": "python",
   "nbconvert_exporter": "python",
   "pygments_lexer": "ipython2",
   "version": "2.7.12"
  }
 },
 "nbformat": 4,
 "nbformat_minor": 0
}
