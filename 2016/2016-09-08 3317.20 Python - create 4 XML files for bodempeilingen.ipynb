{
 "cells": [
  {
   "cell_type": "code",
   "execution_count": 1,
   "metadata": {
    "collapsed": true,
    "deletable": true,
    "editable": true
   },
   "outputs": [],
   "source": [
    "from xml.etree import ElementTree\n",
    "from xml.dom import minidom\n",
    "import glob, os, sys, time\n",
    "from shutil import copy\n",
    "from xml.etree.ElementTree import Element, SubElement, Comment\n",
    "from itertools import islice\n",
    "import re"
   ]
  },
  {
   "cell_type": "code",
   "execution_count": 2,
   "metadata": {
    "collapsed": true,
    "deletable": true,
    "editable": true
   },
   "outputs": [],
   "source": [
    "def prettify(elem):\n",
    "    \"\"\"Return a pretty-printed XML string for the Element.\n",
    "    \"\"\"\n",
    "    rough_string = ElementTree.tostring(elem, 'utf-8')\n",
    "    reparsed = minidom.parseString(rough_string)\n",
    "    return reparsed.toprettyxml(indent=\"  \")\n",
    "\n",
    "def gridXml(filename, header, top):\n",
    "    reg = SubElement(top,'regular')\n",
    "    reg.set('locationId','l.'+filename[0:7])\n",
    "    child_1 = SubElement(reg, 'rows').text = str(header[1])\n",
    "    child_2 = SubElement(reg, 'columns').text = str(header[0])\n",
    "    child_3 = SubElement(reg, 'geoDatum').text = 'Rijks Driehoekstelsel'\n",
    "    child_4 = SubElement(reg, 'firstCellCenter')\n",
    "    child_4_sub = SubElement(child_4, 'x').text = str(header[2]+0.5)\n",
    "    child_4_sub = SubElement(child_4, 'y').text = str(header[3]+header[1]-0.5)\n",
    "    child_5 = SubElement(reg, 'xCellSize').text = str(header[4])\n",
    "    child_6 = SubElement(reg, 'yCellSize').text = str(header[4])\n",
    "    return top\n",
    "\n",
    "def idMapXml(filename, top):\n",
    "    map_ = SubElement(top,'map')\n",
    "    map_.set('internalLocation','l.'+filename[0:7])\n",
    "    map_.set('externalParameter',filename[0:7])\n",
    "    map_.set('internalParameter','h.m')\n",
    "    map_.set('externalLocation','ARC_INFO_LOC')\n",
    "    return top\n",
    "\n",
    "def LocationsXml(filename, top):\n",
    "    map_ = SubElement(top,'location')\n",
    "    map_.set('id','l.'+filename[0:7])\n",
    "    map_.set('name','Baggervak '+filename[4:7])\n",
    "    map_sub = SubElement(map_, 'x').text = str(0)\n",
    "    map_sub = SubElement(map_, 'y').text = str(0)\n",
    "    return top\n",
    "\n",
    "def LocationSetsXml(filename, top, child):\n",
    "    locId = SubElement(child,'locationId').text = 'l.'+filename[0:7]\n",
    "    return top\n",
    "\n",
    "non_decimal = re.compile(r'[^\\d.,-]+')"
   ]
  },
  {
   "cell_type": "code",
   "execution_count": 3,
   "metadata": {
    "collapsed": true,
    "deletable": true,
    "editable": true
   },
   "outputs": [],
   "source": [
    "asciiDataDir = r'D:\\OmsWaddenzee\\trunk\\fews\\Import\\geoxyz\\bodempeilingen\\asciiData'"
   ]
  },
  {
   "cell_type": "code",
   "execution_count": 4,
   "metadata": {
    "collapsed": false,
    "deletable": true,
    "editable": true
   },
   "outputs": [],
   "source": [
    "asciiFiles = []\n",
    "for root, dirs, files in os.walk(asciiDataDir):\n",
    "    for file in files:\n",
    "        if file.endswith('.asc'):\n",
    "            asciiFiles.append(file)\n",
    "\n",
    "asciiLocs = []\n",
    "for file in asciiFiles:\n",
    "    asciiLocs.append(file[0:7])\n",
    "\n",
    "asciiLocsUnique = list(set(asciiLocs))\n",
    "asciiLocsUnique.sort()\n",
    "\n",
    "asciiFilesUnique = []\n",
    "for i in asciiLocsUnique:\n",
    "    asciiFilesUnique.append(next(obj for obj in asciiFiles if obj[0:7]==i))"
   ]
  },
  {
   "cell_type": "code",
   "execution_count": 7,
   "metadata": {
    "collapsed": false,
    "deletable": true,
    "editable": true
   },
   "outputs": [
    {
     "name": "stdout",
     "output_type": "stream",
     "text": [
      "<?xml version=\"1.0\" ?>\n",
      "<grids xmlns=\"http://www.wldelft.nl/fews\" xmlns:xsi=\"http://www.w3.org/2001/XMLSchema-instance\" xsi:schemaLocation=\"http://www.wldelft.nl/fews ../../../Schemas/grids.xsd\">\n",
      "  <regular locationId=\"l.grid465\">\n",
      "    <rows>418</rows>\n",
      "    <columns>507</columns>\n",
      "    <geoDatum>Rijks Driehoekstelsel</geoDatum>\n",
      "    <firstCellCenter>\n",
      "      <x>182325.5</x>\n",
      "      <y>603887.5</y>\n",
      "    </firstCellCenter>\n",
      "    <xCellSize>1</xCellSize>\n",
      "    <yCellSize>1</yCellSize>\n",
      "  </regular>\n",
      "  <regular locationId=\"l.grid466\">\n",
      "    <rows>500</rows>\n",
      "    <columns>307</columns>\n",
      "    <geoDatum>Rijks Driehoekstelsel</geoDatum>\n",
      "    <firstCellCenter>\n",
      "      <x>182524.5</x>\n",
      "      <y>603469.5</y>\n",
      "    </firstCellCenter>\n",
      "    <xCellSize>1</xCellSize>\n",
      "    <yCellSize>1</yCellSize>\n",
      "  </regular>\n",
      "</grids>\n",
      "\n"
     ]
    }
   ],
   "source": [
    "# CREATE Grids.xml\n",
    "# file to save\n",
    "#grids_xml = c = os.path.join(xmldir,'Grids.xml')\n",
    "#grids_xml = r'D:\\Projects\\Pr\\3317.20\\BodempeilingScript_v4\\xml\\Grids.xml'\n",
    "\n",
    "# start xml\n",
    "top = Element('grids')\n",
    "top.set('xmlns','http://www.wldelft.nl/fews')\n",
    "top.set('xmlns:xsi','http://www.w3.org/2001/XMLSchema-instance')\n",
    "top.set('xsi:schemaLocation','http://www.wldelft.nl/fews ../../../Schemas/grids.xsd')\n",
    "\n",
    "for grid in asciiFilesUnique:\n",
    "    init_file = os.path.join( os.path.abspath(asciiDataDir), grid )\n",
    "    with open(init_file, 'r') as f:\n",
    "        head = list(islice(f, 6))\n",
    "        #print (head)\n",
    "        head_rp = non_decimal.sub('', str(head).replace('-',','))\n",
    "        head_strp = [int(float(x.strip())) for x in head_rp.split(',') if x]\n",
    "        top = gridXml(grid,head_strp, top)      \n",
    "\n",
    "## save xml to file\n",
    "#with open(grids_xml, 'w') as the_file:\n",
    "#    the_file.write(prettify(top))\n",
    "print(prettify(top))"
   ]
  },
  {
   "cell_type": "code",
   "execution_count": 8,
   "metadata": {
    "collapsed": false,
    "deletable": true,
    "editable": true
   },
   "outputs": [
    {
     "name": "stdout",
     "output_type": "stream",
     "text": [
      "<?xml version=\"1.0\" ?>\n",
      "<idMap version=\"1.1\" xmlns=\"http://www.wldelft.nl/fews\" xmlns:xsi=\"http://www.w3.org/2001/XMLSchema-instance\" xsi:schemaLocation=\"http://www.wldelft.nl/fews ../../../Schemas/idMap.xsd\">\n",
      "  <map externalLocation=\"ARC_INFO_LOC\" externalParameter=\"grid465\" internalLocation=\"l.grid465\" internalParameter=\"h.m\"/>\n",
      "  <map externalLocation=\"ARC_INFO_LOC\" externalParameter=\"grid466\" internalLocation=\"l.grid466\" internalParameter=\"h.m\"/>\n",
      "</idMap>\n",
      "\n"
     ]
    }
   ],
   "source": [
    "# CREATE id.Surveyor.History.xml\n",
    "# file to save\n",
    "#id_Surveyor_History_xml = r'D:\\Projects\\Pr\\3317.20\\BodempeilingScript_v4\\xml\\id.Surveyor.History.xml'\n",
    "\n",
    "# start xml\n",
    "top = Element('idMap')\n",
    "top.set('xmlns','http://www.wldelft.nl/fews')\n",
    "top.set('xmlns:xsi','http://www.w3.org/2001/XMLSchema-instance')\n",
    "top.set('xsi:schemaLocation','http://www.wldelft.nl/fews ../../../Schemas/idMap.xsd')\n",
    "top.set('version','1.1')\n",
    "for grid in asciiLocsUnique:\n",
    "    top = idMapXml(grid, top)      \n",
    "\n",
    "## save xml to file\n",
    "#with open(id_Surveyor_History_xml, 'w') as the_file:\n",
    "#    the_file.write(prettify(top))\n",
    "print (prettify(top))"
   ]
  },
  {
   "cell_type": "code",
   "execution_count": 9,
   "metadata": {
    "collapsed": false,
    "deletable": true,
    "editable": true
   },
   "outputs": [
    {
     "name": "stdout",
     "output_type": "stream",
     "text": [
      "<?xml version=\"1.0\" ?>\n",
      "<locations version=\"1.1\" xmlns=\"http://www.wldelft.nl/fews\" xmlns:xsi=\"http://www.w3.org/2001/XMLSchema-instance\" xsi:schemaLocation=\"http://www.wldelft.nl/fews ../../../Schemas/idMap.xsd\">\n",
      "  <geoDatum>Rijks Driehoekstelsel</geoDatum>\n",
      "  <location id=\"l.grid465\" name=\"Baggervak 465\">\n",
      "    <x>0</x>\n",
      "    <y>0</y>\n",
      "  </location>\n",
      "  <location id=\"l.grid466\" name=\"Baggervak 466\">\n",
      "    <x>0</x>\n",
      "    <y>0</y>\n",
      "  </location>\n",
      "</locations>\n",
      "\n"
     ]
    }
   ],
   "source": [
    "# CREATE Locations.xml\n",
    "# file to save\n",
    "#Locations_xml = r'D:\\Projects\\Pr\\3317.20\\BodempeilingScript_v4\\xml\\Locations.xml'\n",
    "\n",
    "# start xml\n",
    "top = Element('locations')\n",
    "top.set('version','1.1')\n",
    "top.set('xmlns','http://www.wldelft.nl/fews')\n",
    "top.set('xmlns:xsi','http://www.w3.org/2001/XMLSchema-instance')\n",
    "top.set('xsi:schemaLocation','http://www.wldelft.nl/fews ../../../Schemas/idMap.xsd')\n",
    "child = SubElement(top, 'geoDatum').text = 'Rijks Driehoekstelsel'\n",
    "\n",
    "for grid in asciiLocsUnique:\n",
    "    top = LocationsXml(grid, top)\n",
    "\n",
    "# save xml to file\n",
    "#with open(Locations_xml, 'w') as the_file:\n",
    "#    the_file.write(prettify(top))\n",
    "print (prettify(top))"
   ]
  },
  {
   "cell_type": "code",
   "execution_count": 10,
   "metadata": {
    "collapsed": false,
    "deletable": true,
    "editable": true
   },
   "outputs": [
    {
     "name": "stdout",
     "output_type": "stream",
     "text": [
      "<?xml version=\"1.0\" ?>\n",
      "<locationSets version=\"1.1\" xmlns=\"http://www.wldelft.nl/fews\" xmlns:xsi=\"http://www.w3.org/2001/XMLSchema-instance\" xsi:schemaLocation=\"http://www.wldelft.nl/fews ../../../Schemas/idMap.xsd\">\n",
      "  <locationSet id=\"ls.baggervak.mosaic\" name=\"Baggervakken Mosaic\">\n",
      "    <locationId>l.grid465</locationId>\n",
      "    <locationId>l.grid466</locationId>\n",
      "  </locationSet>\n",
      "</locationSets>\n",
      "\n"
     ]
    }
   ],
   "source": [
    "# CREATE LocationSets.xml\n",
    "# file to save\n",
    "#LocationSets_xml = r'D:\\Projects\\Pr\\3317.20\\BodempeilingScript_v4\\xml\\LocationSets.xml'\n",
    "# start xml\n",
    "top = Element('locationSets')\n",
    "top.set('version','1.1')\n",
    "top.set('xmlns','http://www.wldelft.nl/fews')\n",
    "top.set('xmlns:xsi','http://www.w3.org/2001/XMLSchema-instance')\n",
    "top.set('xsi:schemaLocation','http://www.wldelft.nl/fews ../../../Schemas/idMap.xsd')\n",
    "child = SubElement(top, 'locationSet')\n",
    "child.set('id','ls.baggervak.mosaic')\n",
    "child.set('name','Baggervakken Mosaic')\n",
    "\n",
    "for grid in asciiLocsUnique:\n",
    "    top = LocationSetsXml(grid, top, child)\n",
    "\n",
    "# save xml to file\n",
    "#with open(LocationSets_xml, 'w') as the_file:\n",
    "#    the_file.write(prettify(top))   \n",
    "print (prettify(top))"
   ]
  },
  {
   "cell_type": "code",
   "execution_count": null,
   "metadata": {
    "collapsed": true,
    "deletable": true,
    "editable": true
   },
   "outputs": [],
   "source": []
  },
  {
   "cell_type": "code",
   "execution_count": null,
   "metadata": {
    "collapsed": true,
    "deletable": true,
    "editable": true
   },
   "outputs": [],
   "source": []
  }
 ],
 "metadata": {
  "kernelspec": {
   "display_name": "Python 3",
   "language": "python",
   "name": "python3"
  },
  "language_info": {
   "codemirror_mode": {
    "name": "ipython",
    "version": 3
   },
   "file_extension": ".py",
   "mimetype": "text/x-python",
   "name": "python",
   "nbconvert_exporter": "python",
   "pygments_lexer": "ipython3",
   "version": "3.5.2"
  }
 },
 "nbformat": 4,
 "nbformat_minor": 0
}
