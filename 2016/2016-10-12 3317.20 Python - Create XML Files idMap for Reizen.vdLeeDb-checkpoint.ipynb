{
 "cells": [
  {
   "cell_type": "code",
   "execution_count": 25,
   "metadata": {
    "collapsed": true
   },
   "outputs": [],
   "source": [
    "import os\n",
    "import pandas as pd\n",
    "from xml.etree import ElementTree\n",
    "from xml.dom import minidom\n",
    "from xml.etree.ElementTree import Element, SubElement, Comment"
   ]
  },
  {
   "cell_type": "code",
   "execution_count": 23,
   "metadata": {
    "collapsed": true
   },
   "outputs": [],
   "source": [
    "def prettify(elem):\n",
    "    \"\"\"Return a pretty-printed XML string for the Element.\n",
    "    \"\"\"\n",
    "    rough_string = ElementTree.tostring(elem, 'utf-8')\n",
    "    reparsed = minidom.parseString(rough_string)\n",
    "    return reparsed.toprettyxml(indent=\"  \")"
   ]
  },
  {
   "cell_type": "code",
   "execution_count": 29,
   "metadata": {
    "collapsed": true
   },
   "outputs": [],
   "source": [
    "def idMap(df, prefix='bv.'):\n",
    "    # start xml\n",
    "    top = Element('idMap')\n",
    "    top.set('version','1.1')\n",
    "    top.set('xmlns','http://www.wldelft.nl/fews')\n",
    "    top.set('xmlns:xsi','http://www.w3.org/2001/XMLSchema-instance')\n",
    "    top.set('xsi:schemaLocation','http://www.wldelft.nl/fews ../../../../Schemas/idMap.xsd')  \n",
    "    \n",
    "    for idx in range(df.shape[0]):\n",
    "        # define non grid specific variable\n",
    "        var0 = SubElement(top, 'location')\n",
    "        var0.set('external',df.ix[idx][0])    \n",
    "        var0.set('internal',prefix+df.ix[idx][1])\n",
    "        \n",
    "    return top"
   ]
  },
  {
   "cell_type": "code",
   "execution_count": 30,
   "metadata": {
    "collapsed": false
   },
   "outputs": [
    {
     "data": {
      "text/html": [
       "<div>\n",
       "<table border=\"1\" class=\"dataframe\">\n",
       "  <thead>\n",
       "    <tr style=\"text-align: right;\">\n",
       "      <th></th>\n",
       "      <th>baggervak</th>\n",
       "      <th>objectcode</th>\n",
       "    </tr>\n",
       "  </thead>\n",
       "  <tbody>\n",
       "    <tr>\n",
       "      <th>0</th>\n",
       "      <td>Den Helder - Texel</td>\n",
       "      <td>1.7.1.1</td>\n",
       "    </tr>\n",
       "    <tr>\n",
       "      <th>1</th>\n",
       "      <td>Den Helder veerhaven, Vak A</td>\n",
       "      <td>1.7.1.1.1.1</td>\n",
       "    </tr>\n",
       "    <tr>\n",
       "      <th>2</th>\n",
       "      <td>Den Helder veerhaven, Vak B</td>\n",
       "      <td>1.7.1.1.1.2</td>\n",
       "    </tr>\n",
       "    <tr>\n",
       "      <th>3</th>\n",
       "      <td>Den Helder veerhaven, Vak C</td>\n",
       "      <td>1.7.1.1.1.3</td>\n",
       "    </tr>\n",
       "    <tr>\n",
       "      <th>4</th>\n",
       "      <td>Texel veerhaven, Vak A</td>\n",
       "      <td>1.7.1.1.2.1</td>\n",
       "    </tr>\n",
       "  </tbody>\n",
       "</table>\n",
       "</div>"
      ],
      "text/plain": [
       "                     baggervak   objectcode\n",
       "0           Den Helder - Texel      1.7.1.1\n",
       "1  Den Helder veerhaven, Vak A  1.7.1.1.1.1\n",
       "2  Den Helder veerhaven, Vak B  1.7.1.1.1.2\n",
       "3  Den Helder veerhaven, Vak C  1.7.1.1.1.3\n",
       "4       Texel veerhaven, Vak A  1.7.1.1.2.1"
      ]
     },
     "execution_count": 30,
     "metadata": {},
     "output_type": "execute_result"
    }
   ],
   "source": [
    "file_bv = r'D:\\Projects\\Pr\\3317.20//baggervakken_objectIDs.txt'\n",
    "df_bv = pd.read_csv(file_bv, sep='\\t')\n",
    "\n",
    "df_bv.head()"
   ]
  },
  {
   "cell_type": "code",
   "execution_count": 31,
   "metadata": {
    "collapsed": false
   },
   "outputs": [
    {
     "name": "stdout",
     "output_type": "stream",
     "text": [
      "<?xml version=\"1.0\" ?>\n",
      "<idMap version=\"1.1\" xmlns=\"http://www.wldelft.nl/fews\" xmlns:xsi=\"http://www.w3.org/2001/XMLSchema-instance\" xsi:schemaLocation=\"http://www.wldelft.nl/fews ../../../../Schemas/idMap.xsd\">\n",
      "  <location external=\"Den Helder - Texel\" internal=\"bv.1.7.1.1\"/>\n",
      "  <location external=\"Den Helder veerhaven, Vak A\" internal=\"bv.1.7.1.1.1.1\"/>\n",
      "  <location external=\"Den Helder veerhaven, Vak B\" internal=\"bv.1.7.1.1.1.2\"/>\n",
      "  <location external=\"Den Helder veerhaven, Vak C\" internal=\"bv.1.7.1.1.1.3\"/>\n",
      "  <location external=\"Texel veerhaven, Vak A\" internal=\"bv.1.7.1.1.2.1\"/>\n",
      "  <location external=\"Texel veerhaven, Vak B\" internal=\"bv.1.7.1.1.2.2\"/>\n",
      "  <location external=\"Texel veerhaven, Vak C\" internal=\"bv.1.7.1.1.2.3\"/>\n",
      "  <location external=\"Texel veerhaven, Vak D\" internal=\"bv.1.7.1.1.2.4\"/>\n",
      "  <location external=\"Texel veerhaven, Vak E\" internal=\"bv.1.7.1.1.2.5\"/>\n",
      "  <location external=\"Texel veerhaven, Vak F\" internal=\"bv.1.7.1.1.2.6\"/>\n",
      "  <location external=\"Den Helder - Noordzee\" internal=\"bv.1.7.1.2\"/>\n",
      "  <location external=\"Visjagersgaatje\" internal=\"bv.1.7.1.3.1\"/>\n",
      "  <location external=\"Den Helder - Den Oever, Malzwin\" internal=\"bv.1.7.1.3.1.A\"/>\n",
      "  <location external=\"Den Helder - Den Oever, Visjagersgaatje - Den Oever\" internal=\"bv.1.7.1.3.1.B\"/>\n",
      "  <location external=\"Den Oever, Toegangsgeul\" internal=\"bv.1.7.1.3.2.1\"/>\n",
      "  <location external=\"Den Oever, Buitenhaven\" internal=\"bv.1.7.1.3.2.2\"/>\n",
      "  <location external=\"Den Oever, Voorhaven\" internal=\"bv.1.7.1.3.2.3\"/>\n",
      "  <location external=\"Den Oever, Noorderhaven\" internal=\"bv.1.7.1.3.2.4\"/>\n",
      "  <location external=\"Den Oever, Waddenhaven\" internal=\"bv.1.7.1.3.2.5\"/>\n",
      "  <location external=\"Den Oever, Vissershaven\" internal=\"bv.1.7.1.3.2.6\"/>\n",
      "  <location external=\"Den Oever, Bodem bij remmingwerken / steiger\" internal=\"bv.1.7.1.3.2.7\"/>\n",
      "  <location external=\"Den Oever, Bodem bij beweegbare brug / sluis\" internal=\"bv.1.7.1.3.2.8\"/>\n",
      "  <location external=\"Den Helder - Kornwerderzand, Texelstroom\" internal=\"bv.1.7.1.4.A\"/>\n",
      "  <location external=\"Den Helder - Kornwerderzand, Doove Balg\" internal=\"bv.1.7.1.4.B\"/>\n",
      "  <location external=\"Den Helder - Kornwerderzand, Gedeelte van Boontjes\" internal=\"bv.1.7.1.4.C\"/>\n",
      "  <location external=\"Kornwerderzand, Toegangsgeul\" internal=\"bv.1.7.1.4.1.1\"/>\n",
      "  <location external=\"Kornwerderzand, Buitenhaven\" internal=\"bv.1.7.1.4.1.2\"/>\n",
      "  <location external=\"Kornwerderzand, Voorhaven\" internal=\"bv.1.7.1.4.1.3\"/>\n",
      "  <location external=\"Kornwerderzand, Bodem bij remmingwerken / steiger\" internal=\"bv.1.7.1.4.1.4\"/>\n",
      "  <location external=\"Kornwerderzand, Bodem bij beweegbare brug / sluis\" internal=\"bv.1.7.1.4.1.5\"/>\n",
      "  <location external=\"Breezanddijk, Noorderhaven\" internal=\"bv.1.7.1.4.2\"/>\n",
      "  <location external=\"Boontjes, vak 1\" internal=\"bv.1.7.1.5.1.A\"/>\n",
      "  <location external=\"Boontjes, vak 2\" internal=\"bv.1.7.1.5.1.B\"/>\n",
      "  <location external=\"Boontjes, vak 3\" internal=\"bv.1.7.1.5.1.C\"/>\n",
      "  <location external=\"Boontjes, vak 4\" internal=\"bv.1.7.1.5.1.D\"/>\n",
      "  <location external=\"Boontjes, vak 5\" internal=\"bv.1.7.1.5.1.E\"/>\n",
      "  <location external=\"Boontjes, vak 6\" internal=\"bv.1.7.1.5.1.F\"/>\n",
      "  <location external=\"Boontjes, vak 7\" internal=\"bv.1.7.1.5.1.G\"/>\n",
      "  <location external=\"Boontjes, vak 8\" internal=\"bv.1.7.1.5.1.H\"/>\n",
      "  <location external=\"Boontjes, vak 9\" internal=\"bv.1.7.1.5.1.I\"/>\n",
      "  <location external=\"Boontjes, vak 10\" internal=\"bv.1.7.1.5.1.J\"/>\n",
      "  <location external=\"Boontjes, vak 11\" internal=\"bv.1.7.1.5.1.K\"/>\n",
      "  <location external=\"Boontjes, vak 12\" internal=\"bv.1.7.1.5.1.L\"/>\n",
      "  <location external=\"Boontjes vak 13\" internal=\"bv.1.7.1.5.1.M\"/>\n",
      "  <location external=\"Boontjes vak 14\" internal=\"bv.1.7.1.5.1.N\"/>\n",
      "  <location external=\"Boontjes vak 15\" internal=\"bv.1.7.1.5.1.O\"/>\n",
      "  <location external=\"Kornwerderzand - Harlingen, Zuid\" internal=\"bv.1.7.1.5.2\"/>\n",
      "  <location external=\"Kornwerderzand - Harlingen, Noord\" internal=\"bv.1.7.1.5.3\"/>\n",
      "  <location external=\"Slenk\" internal=\"bv.1.7.2.1.1\"/>\n",
      "  <location external=\"Harlingen - Terschelling, Westmeep - Noordmeep\" internal=\"bv.1.7.2.1.1.A\"/>\n",
      "  <location external=\"Harlingen - Terschelling, Schuitengat\" internal=\"bv.1.7.2.1.1.B\"/>\n",
      "  <location external=\"Terschelling, Jachthaven\" internal=\"bv.1.7.2.1.2.1\"/>\n",
      "  <location external=\"Terschelling, Veerkade\" internal=\"bv.1.7.2.1.2.2\"/>\n",
      "  <location external=\"Vliesloot\" internal=\"bv.1.7.2.2.1\"/>\n",
      "  <location external=\"Harlingen - Vlieland, Zuiderstortemelk\" internal=\"bv.1.7.2.2.1.A\"/>\n",
      "  <location external=\"Harlingen - Vlieland, Vliesloot\" internal=\"bv.1.7.2.2.1.B\"/>\n",
      "  <location external=\"Vlieland, Veerdienst deel\" internal=\"bv.1.7.2.2.2.1\"/>\n",
      "  <location external=\"Vlieland, Sneldienst deel\" internal=\"bv.1.7.2.2.2.2\"/>\n",
      "  <location external=\"Vlieland, Jachthaven\" internal=\"bv.1.7.2.2.3.1\"/>\n",
      "  <location external=\"Vlieland, Voormalige werkhaven\" internal=\"bv.1.7.2.2.3.2\"/>\n",
      "  <location external=\"Pollendam\" internal=\"bv.1.7.2.3.1\"/>\n",
      "  <location external=\"Harlingen - Noordzee, Pollendam\" internal=\"bv.1.7.2.3.1.A\"/>\n",
      "  <location external=\"Harlingen - Noordzee, Blauwe Slenk\" internal=\"bv.1.7.2.3.1.B\"/>\n",
      "  <location external=\"Harlingen - Noordzee, Vliestroom\" internal=\"bv.1.7.2.3.1.C\"/>\n",
      "  <location external=\"Harlingen - Noordzee, Stortemelk\" internal=\"bv.1.7.2.3.1.D\"/>\n",
      "  <location external=\"Blauwe Slenk\" internal=\"bv.1.7.2.3.2\"/>\n",
      "  <location external=\"Pannengat\" internal=\"bv.1.7.2.3.3\"/>\n",
      "  <location external=\"Holwerd - Ameland, VA13 - VA25\" internal=\"bv.1.7.3.1.A\"/>\n",
      "  <location external=\"Holwerd - Ameland, VA9 - VA6\" internal=\"bv.1.7.3.1.B\"/>\n",
      "  <location external=\"Holwerd - Ameland, VA4 - Reegeul\" internal=\"bv.1.7.3.1.C\"/>\n",
      "  <location external=\"Holwerd - VA 25\" internal=\"bv.1.7.3.1.1\"/>\n",
      "  <location external=\"VA 4 - VA 6\" internal=\"bv.1.7.3.1.2.A\"/>\n",
      "  <location external=\"VA 9 - VA 13\" internal=\"bv.1.7.3.1.2.B\"/>\n",
      "  <location external=\"Reegeul\" internal=\"bv.1.7.3.1.3\"/>\n",
      "  <location external=\"Holwerd, Veerdienst deel\" internal=\"bv.1.7.3.1.4.1\"/>\n",
      "  <location external=\"Holwerd, Rijkssteiger\" internal=\"bv.1.7.3.1.4.2\"/>\n",
      "  <location external=\"Holwerd, Westkant\" internal=\"bv.1.7.3.1.4.3\"/>\n",
      "  <location external=\"Nes Ameland, Veerdienst deel\" internal=\"bv.1.7.3.1.5.1\"/>\n",
      "  <location external=\"Nes Ameland, Voormalige rijkssteiger\" internal=\"bv.1.7.3.1.5.2\"/>\n",
      "  <location external=\"Nes Ameland, Toegangsgeul\" internal=\"bv.1.7.3.1.5.3\"/>\n",
      "  <location external=\"Nes Ameland, Oostkant\" internal=\"bv.1.7.3.1.5.4\"/>\n",
      "  <location external=\"Nes Ameland, Jachthaven\" internal=\"bv.1.7.3.1.5.5\"/>\n",
      "  <location external=\"Ameland - Noordzee\" internal=\"bv.1.7.3.2.A\"/>\n",
      "  <location external=\"Stroomleidam Ballumerbocht, Loswal\" internal=\"bv.1.7.3.2.1.1\"/>\n",
      "  <location external=\"Stroomleidam Ballumerbocht, Vaargeul\" internal=\"bv.1.7.3.2.1.2\"/>\n",
      "  <location external=\"Glinder\" internal=\"bv.1.7.4.1.1\"/>\n",
      "  <location external=\"Lauwersoog - Glinder\" internal=\"bv.1.7.4.1.1.A\"/>\n",
      "  <location external=\"Glinder - Groote Siege\" internal=\"bv.1.7.4.1.1.B\"/>\n",
      "  <location external=\"Groote Siege\" internal=\"bv.1.7.4.1.2\"/>\n",
      "  <location external=\"Schiermonnikoog, Veerdienst deel zuid\" internal=\"bv.1.7.4.1.3.1.A\"/>\n",
      "  <location external=\"Schiermonnikoog, Zuidkant Veerdam KNRM\" internal=\"bv.1.7.4.1.3.1.B\"/>\n",
      "  <location external=\"Schiermonnikoog, Veerdienst deel noord\" internal=\"bv.1.7.4.1.3.2.A\"/>\n",
      "  <location external=\"Schiermonnikoog, Noordkant KNRM Ponton\" internal=\"bv.1.7.4.1.3.2.B\"/>\n",
      "  <location external=\"Schiermonnikoog, Jachthaven\" internal=\"bv.1.7.4.1.3.3\"/>\n",
      "  <location external=\"Lauwersoog, Veerdienst deel\" internal=\"bv.1.7.4.1.4.1\"/>\n",
      "  <location external=\"Lauwersoog, Toegangsgeul\" internal=\"bv.1.7.4.1.4.2\"/>\n",
      "  <location external=\"Lauwersoog, Visserijhaven\" internal=\"bv.1.7.4.1.4.3\"/>\n",
      "  <location external=\"Lauwersoog - Noordzee\" internal=\"bv.1.7.4.2\"/>\n",
      "  <location external=\"Noordpolderzijl, Havendeel\" internal=\"bv.1.7.5.1.1\"/>\n",
      "  <location external=\"Noordpolderzijl, Toegangsgeul\" internal=\"bv.1.7.5.1.2\"/>\n",
      "  <location external=\"Schanskerdiep\" internal=\"bv.1.7.6.2\"/>\n",
      "</idMap>\n",
      "\n"
     ]
    }
   ],
   "source": [
    "bv_idMap = idMap(df_bv)\n",
    "\n",
    "print (prettify(bv_idMap))"
   ]
  },
  {
   "cell_type": "code",
   "execution_count": 27,
   "metadata": {
    "collapsed": false
   },
   "outputs": [
    {
     "data": {
      "text/html": [
       "<div>\n",
       "<table border=\"1\" class=\"dataframe\">\n",
       "  <thead>\n",
       "    <tr style=\"text-align: right;\">\n",
       "      <th></th>\n",
       "      <th>verspreidingslocatie</th>\n",
       "      <th>objectcode</th>\n",
       "    </tr>\n",
       "  </thead>\n",
       "  <tbody>\n",
       "    <tr>\n",
       "      <th>0</th>\n",
       "      <td>Boontjes</td>\n",
       "      <td>1.7.1.0.1</td>\n",
       "    </tr>\n",
       "    <tr>\n",
       "      <th>1</th>\n",
       "      <td>Kornwerderzand</td>\n",
       "      <td>1.7.1.0.2</td>\n",
       "    </tr>\n",
       "    <tr>\n",
       "      <th>2</th>\n",
       "      <td>Breezanddijk</td>\n",
       "      <td>1.7.1.0.3</td>\n",
       "    </tr>\n",
       "    <tr>\n",
       "      <th>3</th>\n",
       "      <td>Texelstroom 1</td>\n",
       "      <td>1.7.1.0.4</td>\n",
       "    </tr>\n",
       "    <tr>\n",
       "      <th>4</th>\n",
       "      <td>Texelstroom 2</td>\n",
       "      <td>1.7.1.0.5</td>\n",
       "    </tr>\n",
       "  </tbody>\n",
       "</table>\n",
       "</div>"
      ],
      "text/plain": [
       "  verspreidingslocatie objectcode\n",
       "0             Boontjes  1.7.1.0.1\n",
       "1       Kornwerderzand  1.7.1.0.2\n",
       "2         Breezanddijk  1.7.1.0.3\n",
       "3        Texelstroom 1  1.7.1.0.4\n",
       "4        Texelstroom 2  1.7.1.0.5"
      ]
     },
     "execution_count": 27,
     "metadata": {},
     "output_type": "execute_result"
    }
   ],
   "source": [
    "file_vl = r'D:\\Projects\\Pr\\3317.20//verspreidingslocatie_objectIDs.txt'\n",
    "df_vl = pd.read_csv(file_vl, sep='\\t')\n",
    "\n",
    "df_vl.head()"
   ]
  },
  {
   "cell_type": "code",
   "execution_count": 33,
   "metadata": {
    "collapsed": false
   },
   "outputs": [
    {
     "name": "stdout",
     "output_type": "stream",
     "text": [
      "<?xml version=\"1.0\" ?>\n",
      "<idMap version=\"1.1\" xmlns=\"http://www.wldelft.nl/fews\" xmlns:xsi=\"http://www.w3.org/2001/XMLSchema-instance\" xsi:schemaLocation=\"http://www.wldelft.nl/fews ../../../../Schemas/idMap.xsd\">\n",
      "  <location external=\"Boontjes\" internal=\"vv.1.7.1.0.1\"/>\n",
      "  <location external=\"Kornwerderzand\" internal=\"vv.1.7.1.0.2\"/>\n",
      "  <location external=\"Breezanddijk\" internal=\"vv.1.7.1.0.3\"/>\n",
      "  <location external=\"Texelstroom 1\" internal=\"vv.1.7.1.0.4\"/>\n",
      "  <location external=\"Texelstroom 2\" internal=\"vv.1.7.1.0.5\"/>\n",
      "  <location external=\"Texelstroom 3\" internal=\"vv.1.7.1.0.6\"/>\n",
      "  <location external=\"Oudeschild N\" internal=\"vv.1.7.1.0.7\"/>\n",
      "  <location external=\"Oudeschild Z\" internal=\"vv.1.7.1.0.8\"/>\n",
      "  <location external=\"Malzwin\" internal=\"vv.1.7.1.0.9\"/>\n",
      "  <location external=\"Vliesloot 2\" internal=\"vv.1.7.2.0.1\"/>\n",
      "  <location external=\"Vliesloot 1\" internal=\"vv.1.7.2.0.2\"/>\n",
      "  <location external=\"Stortemelk\" internal=\"vv.1.7.2.0.3\"/>\n",
      "  <location external=\"Vliestroom 1\" internal=\"vv.1.7.2.0.4\"/>\n",
      "  <location external=\"Vliestroom 2\" internal=\"vv.1.7.2.0.5\"/>\n",
      "  <location external=\"Vliestroom 3\" internal=\"vv.1.7.2.0.6\"/>\n",
      "  <location external=\"Schuitengat1\" internal=\"vv.1.7.2.0.7\"/>\n",
      "  <location external=\"Schuitengat2\" internal=\"vv.1.7.2.0.8\"/>\n",
      "  <location external=\"NO meep 1\" internal=\"vv.1.7.2.0.9\"/>\n",
      "  <location external=\"NO meep 2\" internal=\"vv.1.7.2.0.10\"/>\n",
      "  <location external=\"Kimstergat 1\" internal=\"vv.1.7.2.0.11\"/>\n",
      "  <location external=\"Kimstergat 2\" internal=\"vv.1.7.2.0.12\"/>\n",
      "  <location external=\"Blauwe Slenk\" internal=\"vv.1.7.2.0.13\"/>\n",
      "  <location external=\"Scheepsgat\" internal=\"vv.1.7.3.0.1\"/>\n",
      "  <location external=\"Zuiderspruit\" internal=\"vv.1.7.3.0.2\"/>\n",
      "  <location external=\"Molengat/Ballumerbocht\" internal=\"vv.1.7.3.0.3\"/>\n",
      "  <location external=\"Molengat\" internal=\"vv.1.7.3.0.4\"/>\n",
      "  <location external=\"Kikkertgat\" internal=\"vv.1.7.3.0.5\"/>\n",
      "  <location external=\"Reegeul 1\" internal=\"vv.1.7.3.0.6\"/>\n",
      "  <location external=\"Reegeul 2\" internal=\"vv.1.7.3.0.7\"/>\n",
      "  <location external=\"Groote Siege 1\" internal=\"vv.1.7.4.0.1\"/>\n",
      "  <location external=\"Groote Siege 2\" internal=\"vv.1.7.4.0.2\"/>\n",
      "  <location external=\"Groote Siege 3\" internal=\"vv.1.7.4.0.3\"/>\n",
      "  <location external=\"Groote Siege 4\" internal=\"vv.1.7.4.0.4\"/>\n",
      "  <location external=\"Oort/Lutjewad\" internal=\"vv.1.7.4.0.5\"/>\n",
      "  <location external=\"Gat v Schierm 1\" internal=\"vv.1.7.4.0.6\"/>\n",
      "  <location external=\"Gat v Schierm 2\" internal=\"vv.1.7.4.0.7\"/>\n",
      "  <location external=\"Zoutkamperlaag 1\" internal=\"vv.1.7.4.0.8\"/>\n",
      "  <location external=\"Zoutkamperlaag 2\" internal=\"vv.1.7.4.0.9\"/>\n",
      "  <location external=\"ZO Lauwers\" internal=\"vv.1.7.5.0.1\"/>\n",
      "</idMap>\n",
      "\n"
     ]
    }
   ],
   "source": [
    "vl_idMap = idMap(df_vl, prefix='vv.')\n",
    "\n",
    "print (prettify(vl_idMap))"
   ]
  },
  {
   "cell_type": "code",
   "execution_count": null,
   "metadata": {
    "collapsed": true
   },
   "outputs": [],
   "source": []
  },
  {
   "cell_type": "code",
   "execution_count": null,
   "metadata": {
    "collapsed": true
   },
   "outputs": [],
   "source": []
  },
  {
   "cell_type": "code",
   "execution_count": null,
   "metadata": {
    "collapsed": true
   },
   "outputs": [],
   "source": []
  }
 ],
 "metadata": {
  "kernelspec": {
   "display_name": "Python 3",
   "language": "python",
   "name": "python3"
  },
  "language_info": {
   "codemirror_mode": {
    "name": "ipython",
    "version": 3
   },
   "file_extension": ".py",
   "mimetype": "text/x-python",
   "name": "python",
   "nbconvert_exporter": "python",
   "pygments_lexer": "ipython3",
   "version": "3.5.2"
  }
 },
 "nbformat": 4,
 "nbformat_minor": 0
}
