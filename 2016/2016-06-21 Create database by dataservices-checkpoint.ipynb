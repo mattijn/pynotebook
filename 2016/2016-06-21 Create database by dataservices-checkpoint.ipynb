{
 "cells": [
  {
   "cell_type": "code",
   "execution_count": 29,
   "metadata": {
    "collapsed": true,
    "deletable": true,
    "editable": true
   },
   "outputs": [],
   "source": [
    "import requests\n",
    "import json"
   ]
  },
  {
   "cell_type": "code",
   "execution_count": 32,
   "metadata": {
    "collapsed": false,
    "deletable": true,
    "editable": true
   },
   "outputs": [
    {
     "data": {
      "text/plain": [
       "{'exception': 'database name already exists'}"
      ]
     },
     "execution_count": 32,
     "metadata": {},
     "output_type": "execute_result"
    }
   ],
   "source": [
    "# Create database\n",
    "url = r'http://85.17.82.66/dataservices/database.asmx/create?database=x4'\n",
    "r = requests.get(url)\n",
    "r.json()#json.loads(r.content)"
   ]
  },
  {
   "cell_type": "code",
   "execution_count": 15,
   "metadata": {
    "collapsed": false,
    "deletable": true,
    "editable": true
   },
   "outputs": [
    {
     "data": {
      "text/plain": [
       "{'database': 'x3', 'date': '2017-06-23 12:42:25', 'version': '0.2.0.0'}"
      ]
     },
     "execution_count": 15,
     "metadata": {},
     "output_type": "execute_result"
    }
   ],
   "source": [
    "# Check database version\n",
    "url = r'http://85.17.82.66/dataservices/database.asmx/version?database=x3'\n",
    "r = requests.get(url)\n",
    "json.loads(r.content.decode('utf-8'))"
   ]
  },
  {
   "cell_type": "code",
   "execution_count": 16,
   "metadata": {
    "collapsed": false
   },
   "outputs": [
    {
     "data": {
      "text/plain": [
       "{'data': [],\n",
       " 'database': 'x3',\n",
       " 'date': '2017-06-23 12:42:25',\n",
       " 'version': '0.2.0.0',\n",
       " 'visualisation': []}"
      ]
     },
     "execution_count": 16,
     "metadata": {},
     "output_type": "execute_result"
    }
   ],
   "source": [
    "# Check database info\n",
    "url = r'http://85.17.82.66/dataservices/database.asmx/info?database=x3'\n",
    "r = requests.get(url)\n",
    "json.loads(r.content.decode('utf-8'))"
   ]
  },
  {
   "cell_type": "code",
   "execution_count": 17,
   "metadata": {
    "collapsed": false,
    "deletable": true,
    "editable": true
   },
   "outputs": [
    {
     "name": "stdout",
     "output_type": "stream",
     "text": [
      "\n",
      "Prefixes:\n",
      "     ns0: http://tempuri.org/\n",
      "     xsd: http://www.w3.org/2001/XMLSchema\n",
      "\n",
      "Global elements:\n",
      "     ns0:create(database: xsd:string, key: xsd:string, description: xsd:string, data: xsd:string)\n",
      "     ns0:createResponse(createResult: xsd:string)\n",
      "     ns0:delete(database: xsd:string, key: xsd:string)\n",
      "     ns0:deleteResponse()\n",
      "     ns0:list(database: xsd:string)\n",
      "     ns0:listResponse()\n",
      "     ns0:read(database: xsd:string, key: xsd:string)\n",
      "     ns0:readResponse()\n",
      "     ns0:string(xsd:string)\n",
      "     ns0:update(database: xsd:string, key: xsd:string, description: xsd:string, data: xsd:string)\n",
      "     ns0:updateResponse(updateResult: xsd:string)\n",
      "     \n",
      "\n",
      "Global types:\n",
      "     xsd:anyType\n",
      "     xsd:ENTITIES\n",
      "     xsd:ENTITY\n",
      "     xsd:ID\n",
      "     xsd:IDREF\n",
      "     xsd:IDREFS\n",
      "     xsd:NCName\n",
      "     xsd:NMTOKEN\n",
      "     xsd:NMTOKENS\n",
      "     xsd:NOTATION\n",
      "     xsd:Name\n",
      "     xsd:QName\n",
      "     xsd:anySimpleType\n",
      "     xsd:anyURI\n",
      "     xsd:base64Binary\n",
      "     xsd:boolean\n",
      "     xsd:byte\n",
      "     xsd:date\n",
      "     xsd:dateTime\n",
      "     xsd:decimal\n",
      "     xsd:double\n",
      "     xsd:duration\n",
      "     xsd:float\n",
      "     xsd:gDay\n",
      "     xsd:gMonth\n",
      "     xsd:gMonthDay\n",
      "     xsd:gYear\n",
      "     xsd:gYearMonth\n",
      "     xsd:hexBinary\n",
      "     xsd:int\n",
      "     xsd:integer\n",
      "     xsd:language\n",
      "     xsd:long\n",
      "     xsd:negativeInteger\n",
      "     xsd:nonNegativeInteger\n",
      "     xsd:nonPositiveInteger\n",
      "     xsd:normalizedString\n",
      "     xsd:positiveInteger\n",
      "     xsd:short\n",
      "     xsd:string\n",
      "     xsd:time\n",
      "     xsd:token\n",
      "     xsd:unsignedByte\n",
      "     xsd:unsignedInt\n",
      "     xsd:unsignedLong\n",
      "     xsd:unsignedShort\n",
      "\n",
      "Bindings:\n",
      "     HttpGetBinding: {http://tempuri.org/}dataHttpGet\n",
      "     HttpPostBinding: {http://tempuri.org/}dataHttpPost\n",
      "     Soap11Binding: {http://tempuri.org/}dataSoap\n",
      "     Soap12Binding: {http://tempuri.org/}dataSoap12\n",
      "\n",
      "Service: data\n",
      "     Port: dataSoap (Soap11Binding: {http://tempuri.org/}dataSoap)\n",
      "         Operations:\n",
      "            create(database: xsd:string, key: xsd:string, description: xsd:string, data: xsd:string) -> createResult: xsd:string\n",
      "            delete(database: xsd:string, key: xsd:string) -> \n",
      "            list(database: xsd:string) -> \n",
      "            read(database: xsd:string, key: xsd:string) -> \n",
      "            update(database: xsd:string, key: xsd:string, description: xsd:string, data: xsd:string) -> updateResult: xsd:string\n",
      "\n",
      "     Port: dataSoap12 (Soap12Binding: {http://tempuri.org/}dataSoap12)\n",
      "         Operations:\n",
      "            create(database: xsd:string, key: xsd:string, description: xsd:string, data: xsd:string) -> createResult: xsd:string\n",
      "            delete(database: xsd:string, key: xsd:string) -> \n",
      "            list(database: xsd:string) -> \n",
      "            read(database: xsd:string, key: xsd:string) -> \n",
      "            update(database: xsd:string, key: xsd:string, description: xsd:string, data: xsd:string) -> updateResult: xsd:string\n",
      "\n",
      "     Port: dataHttpGet (HttpGetBinding: {http://tempuri.org/}dataHttpGet)\n",
      "         Operations:\n",
      "            create(database: xsd:string, key: xsd:string, description: xsd:string, data: xsd:string) -> xsd:string\n",
      "            delete(database: xsd:string, key: xsd:string)\n",
      "            list(database: xsd:string)\n",
      "            read(database: xsd:string, key: xsd:string)\n",
      "            update(database: xsd:string, key: xsd:string, description: xsd:string, data: xsd:string) -> xsd:string\n",
      "\n",
      "     Port: dataHttpPost (HttpPostBinding: {http://tempuri.org/}dataHttpPost)\n",
      "         Operations:\n",
      "            create(database: xsd:string, key: xsd:string, description: xsd:string, data: xsd:string) -> xsd:string\n",
      "            delete(database: xsd:string, key: xsd:string)\n",
      "            list(database: xsd:string)\n",
      "            read(database: xsd:string, key: xsd:string)\n",
      "            update(database: xsd:string, key: xsd:string, description: xsd:string, data: xsd:string) -> xsd:string\n",
      "\n"
     ]
    }
   ],
   "source": [
    "import zeep\n",
    "client = zeep.Client(wsdl='http://85.17.82.66/dataservices/data.asmx?WSDL')\n",
    "client.wsdl.dump()"
   ]
  },
  {
   "cell_type": "code",
   "execution_count": 18,
   "metadata": {
    "collapsed": false,
    "deletable": true,
    "editable": true
   },
   "outputs": [
    {
     "data": {
      "text/plain": [
       "{'date': '2017-06-23 12:46:29',\n",
       " 'id': '85cffff9-c7f5-47df-9116-9b22b38e0e4d',\n",
       " 'key': 'example_key'}"
      ]
     },
     "execution_count": 18,
     "metadata": {},
     "output_type": "execute_result"
    }
   ],
   "source": [
    "# Set data using create datarecord\n",
    "zeep_out = client.service.create(database='x3', key='example_key',description='viewsdata',data='[10,9,8,7,6,5,4,3,2,1]')\n",
    "json.loads(zeep_out)"
   ]
  },
  {
   "cell_type": "code",
   "execution_count": 19,
   "metadata": {
    "collapsed": false
   },
   "outputs": [
    {
     "data": {
      "text/plain": [
       "{'date': '2017-06-23 12:46:48',\n",
       " 'id': '85cffff9-c7f5-47df-9116-9b22b38e0e4d',\n",
       " 'key': 'example_key'}"
      ]
     },
     "execution_count": 19,
     "metadata": {},
     "output_type": "execute_result"
    }
   ],
   "source": [
    "# Overwrite set data using create is possible\n",
    "zeep_out = client.service.create(database='x3', key='example_key',description='viewsdata',data='[11,9,8,7,6,5,4,3,2,1]')\n",
    "json.loads(zeep_out)"
   ]
  },
  {
   "cell_type": "code",
   "execution_count": 20,
   "metadata": {
    "collapsed": false,
    "deletable": true,
    "editable": true
   },
   "outputs": [
    {
     "data": {
      "text/plain": [
       "[11, 9, 8, 7, 6, 5, 4, 3, 2, 1]"
      ]
     },
     "execution_count": 20,
     "metadata": {},
     "output_type": "execute_result"
    }
   ],
   "source": [
    "# Get data after create datarecord\n",
    "url = r'http://85.17.82.66/dataservices/data.asmx/read?database=x3&key=example_key'\n",
    "r = requests.get(url)\n",
    "json.loads(r.content.decode('utf-8'))"
   ]
  },
  {
   "cell_type": "code",
   "execution_count": 23,
   "metadata": {
    "collapsed": false,
    "deletable": true,
    "editable": true
   },
   "outputs": [
    {
     "data": {
      "text/plain": [
       "{'database': 'x3', 'recordsaffected': '1', 'version': '0.2.0.0'}"
      ]
     },
     "execution_count": 23,
     "metadata": {},
     "output_type": "execute_result"
    }
   ],
   "source": [
    "# Also possible to use update\n",
    "#database: xsd:string, key: xsd:string, description: xsd:string, data: xsd:string\n",
    "zeep_out = client.service.update(database= 'x3', key='example_key',description='',data='[12,10,9,8,7,6,5,4,3,2,1]')\n",
    "json.loads(zeep_out)"
   ]
  },
  {
   "cell_type": "code",
   "execution_count": 24,
   "metadata": {
    "collapsed": false,
    "deletable": true,
    "editable": true
   },
   "outputs": [
    {
     "data": {
      "text/plain": [
       "[12, 10, 9, 8, 7, 6, 5, 4, 3, 2, 1]"
      ]
     },
     "execution_count": 24,
     "metadata": {},
     "output_type": "execute_result"
    }
   ],
   "source": [
    "# Get data after update datarecord\n",
    "url = r'http://85.17.82.66/dataservices/data.asmx/read?database=x3&key=example_key'\n",
    "r = requests.get(url)\n",
    "json.loads(r.content.decode('utf-8'))"
   ]
  },
  {
   "cell_type": "code",
   "execution_count": 25,
   "metadata": {
    "collapsed": false,
    "deletable": true,
    "editable": true
   },
   "outputs": [
    {
     "data": {
      "text/plain": [
       "{'database': 'x3', 'recordsaffected': '1', 'version': '0.2.0.0'}"
      ]
     },
     "execution_count": 25,
     "metadata": {},
     "output_type": "execute_result"
    }
   ],
   "source": [
    "# delete data from database\n",
    "url = r'http://85.17.82.66/dataservices/data.asmx/delete?database=x3&key=example_key'\n",
    "r = requests.get(url)\n",
    "json.loads(r.content.decode('utf-8'))"
   ]
  },
  {
   "cell_type": "code",
   "execution_count": 27,
   "metadata": {
    "collapsed": false
   },
   "outputs": [
    {
     "data": {
      "text/plain": [
       "[]"
      ]
     },
     "execution_count": 27,
     "metadata": {},
     "output_type": "execute_result"
    }
   ],
   "source": [
    "# list data from database\n",
    "url = r'http://85.17.82.66/dataservices/data.asmx/list?database=x3'\n",
    "r = requests.get(url)\n",
    "json.loads(r.content.decode('utf-8'))"
   ]
  },
  {
   "cell_type": "code",
   "execution_count": 28,
   "metadata": {
    "collapsed": false
   },
   "outputs": [
    {
     "data": {
      "text/plain": [
       "{'data': [],\n",
       " 'database': 'x3',\n",
       " 'date': '2017-06-23 12:42:25',\n",
       " 'version': '0.2.0.0',\n",
       " 'visualisation': []}"
      ]
     },
     "execution_count": 28,
     "metadata": {},
     "output_type": "execute_result"
    }
   ],
   "source": [
    "# list overview from database\n",
    "url = r'http://85.17.82.66/dataservices/database.asmx/info?database=x3'\n",
    "r = requests.get(url)\n",
    "json.loads(r.content.decode('utf-8'))"
   ]
  },
  {
   "cell_type": "code",
   "execution_count": null,
   "metadata": {
    "collapsed": true
   },
   "outputs": [],
   "source": []
  }
 ],
 "metadata": {
  "kernelspec": {
   "display_name": "Python 3",
   "language": "python",
   "name": "python3"
  },
  "language_info": {
   "codemirror_mode": {
    "name": "ipython",
    "version": 3
   },
   "file_extension": ".py",
   "mimetype": "text/x-python",
   "name": "python",
   "nbconvert_exporter": "python",
   "pygments_lexer": "ipython3",
   "version": "3.5.2"
  }
 },
 "nbformat": 4,
 "nbformat_minor": 2
}
