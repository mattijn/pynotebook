{
 "cells": [
  {
   "cell_type": "code",
   "execution_count": 2,
   "metadata": {
    "collapsed": false
   },
   "outputs": [],
   "source": [
    "from osgeo import gdal\n",
    "import numpy as np\n",
    "import cartopy\n",
    "import cartopy.crs as ccrs\n",
    "import matplotlib.pyplot as plt\n",
    "import pandas as pd\n",
    "import geopandas as gp\n",
    "from shapely.geometry import Point\n",
    "%matplotlib inline"
   ]
  },
  {
   "cell_type": "code",
   "execution_count": 3,
   "metadata": {
    "collapsed": true
   },
   "outputs": [],
   "source": [
    "img = r'D:\\Projects\\Pr\\3317.20\\Toeleveringen\\peiling//SUR-5081-ATU-a-150903-NES-KR-MB-AJR-1x1.asc'\n",
    "df = pd.read_csv(img, header=None, names=['X','Y','data'])\n",
    "df['geometry'] = df.apply(lambda z: Point(z.X, z.Y), axis=1)\n",
    "peiling = gp.GeoDataFrame(df, crs={'init': 'epsg:28992'}) # rd projection"
   ]
  },
  {
   "cell_type": "code",
   "execution_count": 4,
   "metadata": {
    "collapsed": false
   },
   "outputs": [
    {
     "data": {
      "text/html": [
       "<div>\n",
       "<table border=\"1\" class=\"dataframe\">\n",
       "  <thead>\n",
       "    <tr style=\"text-align: right;\">\n",
       "      <th></th>\n",
       "      <th>X</th>\n",
       "      <th>Y</th>\n",
       "      <th>data</th>\n",
       "      <th>geometry</th>\n",
       "    </tr>\n",
       "  </thead>\n",
       "  <tbody>\n",
       "    <tr>\n",
       "      <th>0</th>\n",
       "      <td>180671.5</td>\n",
       "      <td>605156.5</td>\n",
       "      <td>-4.14</td>\n",
       "      <td>POINT (180671.5 605156.5)</td>\n",
       "    </tr>\n",
       "    <tr>\n",
       "      <th>150</th>\n",
       "      <td>180674.5</td>\n",
       "      <td>605152.5</td>\n",
       "      <td>-3.65</td>\n",
       "      <td>POINT (180674.5 605152.5)</td>\n",
       "    </tr>\n",
       "    <tr>\n",
       "      <th>300</th>\n",
       "      <td>180690.5</td>\n",
       "      <td>605158.5</td>\n",
       "      <td>-4.12</td>\n",
       "      <td>POINT (180690.5 605158.5)</td>\n",
       "    </tr>\n",
       "    <tr>\n",
       "      <th>450</th>\n",
       "      <td>180714.5</td>\n",
       "      <td>605160.5</td>\n",
       "      <td>-3.97</td>\n",
       "      <td>POINT (180714.5 605160.5)</td>\n",
       "    </tr>\n",
       "    <tr>\n",
       "      <th>600</th>\n",
       "      <td>180672.5</td>\n",
       "      <td>605163.5</td>\n",
       "      <td>-4.40</td>\n",
       "      <td>POINT (180672.5 605163.5)</td>\n",
       "    </tr>\n",
       "  </tbody>\n",
       "</table>\n",
       "</div>"
      ],
      "text/plain": [
       "            X         Y  data                   geometry\n",
       "0    180671.5  605156.5 -4.14  POINT (180671.5 605156.5)\n",
       "150  180674.5  605152.5 -3.65  POINT (180674.5 605152.5)\n",
       "300  180690.5  605158.5 -4.12  POINT (180690.5 605158.5)\n",
       "450  180714.5  605160.5 -3.97  POINT (180714.5 605160.5)\n",
       "600  180672.5  605163.5 -4.40  POINT (180672.5 605163.5)"
      ]
     },
     "execution_count": 4,
     "metadata": {},
     "output_type": "execute_result"
    }
   ],
   "source": [
    "peiling.iloc[::150, :].head()"
   ]
  },
  {
   "cell_type": "code",
   "execution_count": 5,
   "metadata": {
    "collapsed": false
   },
   "outputs": [
    {
     "data": {
      "text/plain": [
       "<matplotlib.axes._subplots.AxesSubplot at 0x9b292b0>"
      ]
     },
     "execution_count": 5,
     "metadata": {},
     "output_type": "execute_result"
    },
    {
     "data": {
      "image/png": "[encoded data removed]",
      "text/plain": [
       "<matplotlib.figure.Figure at 0x9b04be0>"
      ]
     },
     "metadata": {},
     "output_type": "display_data"
    }
   ],
   "source": [
    "peiling.iloc[::150, :].plot()"
   ]
  },
  {
   "cell_type": "code",
   "execution_count": 6,
   "metadata": {
    "collapsed": false
   },
   "outputs": [
    {
     "data": {
      "text/plain": [
       "<matplotlib.axes._subplots.AxesSubplot at 0xa9bebe0>"
      ]
     },
     "execution_count": 6,
     "metadata": {},
     "output_type": "execute_result"
    },
    {
     "data": {
      "image/png": "[encoded data removed]",
      "text/plain": [
       "<matplotlib.figure.Figure at 0xa9a2f98>"
      ]
     },
     "metadata": {},
     "output_type": "display_data"
    }
   ],
   "source": [
    "# test reprojection\n",
    "peiling.iloc[::150, :].to_crs({'init':'epsg:3395'}).plot() "
   ]
  },
  {
   "cell_type": "code",
   "execution_count": 7,
   "metadata": {
    "collapsed": false
   },
   "outputs": [
    {
     "data": {
      "text/plain": [
       "0    POINT (180671.5 605156.5)\n",
       "1    POINT (180671.5 605157.5)\n",
       "2    POINT (180671.5 605158.5)\n",
       "3    POINT (180670.5 605159.5)\n",
       "4    POINT (180671.5 605159.5)\n",
       "dtype: object"
      ]
     },
     "execution_count": 7,
     "metadata": {},
     "output_type": "execute_result"
    }
   ],
   "source": [
    "peiling.envelope.head()"
   ]
  },
  {
   "cell_type": "code",
   "execution_count": 8,
   "metadata": {
    "collapsed": true
   },
   "outputs": [],
   "source": [
    "peiling.to_csv(r'D:\\Projects\\Pr\\3317.20\\Toeleveringen\\peiling//grid_2.csv')"
   ]
  },
  {
   "cell_type": "code",
   "execution_count": null,
   "metadata": {
    "collapsed": true
   },
   "outputs": [],
   "source": []
  }
 ],
 "metadata": {
  "kernelspec": {
   "display_name": "Python 3",
   "language": "python",
   "name": "python3"
  },
  "language_info": {
   "codemirror_mode": {
    "name": "ipython",
    "version": 3
   },
   "file_extension": ".py",
   "mimetype": "text/x-python",
   "name": "python",
   "nbconvert_exporter": "python",
   "pygments_lexer": "ipython3",
   "version": "3.5.2"
  }
 },
 "nbformat": 4,
 "nbformat_minor": 0
}
