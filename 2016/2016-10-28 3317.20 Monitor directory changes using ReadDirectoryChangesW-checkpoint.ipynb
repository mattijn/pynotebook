{
 "cells": [
  {
   "cell_type": "code",
   "execution_count": 5,
   "metadata": {
    "collapsed": false
   },
   "outputs": [
    {
     "ename": "ImportError",
     "evalue": "No module named 'win32file'",
     "output_type": "error",
     "traceback": [
      "\u001b[0;31m---------------------------------------------------------------------------\u001b[0m",
      "\u001b[0;31mImportError\u001b[0m                               Traceback (most recent call last)",
      "\u001b[0;32m<ipython-input-5-64a9826bae36>\u001b[0m in \u001b[0;36m<module>\u001b[0;34m()\u001b[0m\n\u001b[1;32m      1\u001b[0m \u001b[0;32mimport\u001b[0m \u001b[0mos\u001b[0m\u001b[0;34m\u001b[0m\u001b[0m\n\u001b[1;32m      2\u001b[0m \u001b[0;34m\u001b[0m\u001b[0m\n\u001b[0;32m----> 3\u001b[0;31m \u001b[0;32mimport\u001b[0m \u001b[0mwin32file\u001b[0m\u001b[0;34m\u001b[0m\u001b[0m\n\u001b[0m\u001b[1;32m      4\u001b[0m \u001b[0;32mimport\u001b[0m \u001b[0mwin32con\u001b[0m\u001b[0;34m\u001b[0m\u001b[0m\n",
      "\u001b[0;31mImportError\u001b[0m: No module named 'win32file'"
     ]
    }
   ],
   "source": [
    "import os\n",
    "\n",
    "import win32file\n",
    "import win32con"
   ]
  },
  {
   "cell_type": "code",
   "execution_count": 6,
   "metadata": {
    "collapsed": false
   },
   "outputs": [
    {
     "name": "stdout",
     "output_type": "stream",
     "text": [
      "None\n"
     ]
    }
   ],
   "source": [
    "import importlib; print(importlib.util.find_spec('win32file'))"
   ]
  },
  {
   "cell_type": "code",
   "execution_count": null,
   "metadata": {
    "collapsed": true
   },
   "outputs": [],
   "source": [
    "\n",
    "ACTIONS = {\n",
    "  1 : \"Created\",\n",
    "  2 : \"Deleted\",\n",
    "  3 : \"Updated\",\n",
    "  4 : \"Renamed from something\",\n",
    "  5 : \"Renamed to something\"\n",
    "}\n",
    "# Thanks to Claudio Grondi for the correct set of numbers\n",
    "FILE_LIST_DIRECTORY = 0x0001\n",
    "\n",
    "path_to_watch = \".\"\n",
    "hDir = win32file.CreateFile (\n",
    "  path_to_watch,\n",
    "  FILE_LIST_DIRECTORY,\n",
    "  win32con.FILE_SHARE_READ | win32con.FILE_SHARE_WRITE | win32con.FILE_SHARE_DELETE,\n",
    "  None,\n",
    "  win32con.OPEN_EXISTING,\n",
    "  win32con.FILE_FLAG_BACKUP_SEMANTICS,\n",
    "  None\n",
    ")\n",
    "while 1:\n",
    "  #\n",
    "  # ReadDirectoryChangesW takes a previously-created\n",
    "  # handle to a directory, a buffer size for results,\n",
    "  # a flag to indicate whether to watch subtrees and\n",
    "  # a filter of what changes to notify.\n",
    "  #\n",
    "  # NB Tim Juchcinski reports that he needed to up\n",
    "  # the buffer size to be sure of picking up all\n",
    "  # events when a large number of files were\n",
    "  # deleted at once.\n",
    "  #\n",
    "  results = win32file.ReadDirectoryChangesW (\n",
    "    hDir,\n",
    "    1024,\n",
    "    True,\n",
    "    win32con.FILE_NOTIFY_CHANGE_FILE_NAME |\n",
    "     win32con.FILE_NOTIFY_CHANGE_DIR_NAME |\n",
    "     win32con.FILE_NOTIFY_CHANGE_ATTRIBUTES |\n",
    "     win32con.FILE_NOTIFY_CHANGE_SIZE |\n",
    "     win32con.FILE_NOTIFY_CHANGE_LAST_WRITE |\n",
    "     win32con.FILE_NOTIFY_CHANGE_SECURITY,\n",
    "    None,\n",
    "    None\n",
    "  )\n",
    "  for action, file in results:\n",
    "    full_filename = os.path.join (path_to_watch, file)\n",
    "    print full_filename, ACTIONS.get (action, \"Unknown\")\n"
   ]
  }
 ],
 "metadata": {
  "kernelspec": {
   "display_name": "Python 3",
   "language": "python",
   "name": "python3"
  },
  "language_info": {
   "codemirror_mode": {
    "name": "ipython",
    "version": 3
   },
   "file_extension": ".py",
   "mimetype": "text/x-python",
   "name": "python",
   "nbconvert_exporter": "python",
   "pygments_lexer": "ipython3",
   "version": "3.5.2"
  }
 },
 "nbformat": 4,
 "nbformat_minor": 0
}
