{
 "cells": [
  {
   "cell_type": "code",
   "execution_count": 1,
   "metadata": {
    "collapsed": false
   },
   "outputs": [],
   "source": [
    "from xml.etree import ElementTree\n",
    "from xml.dom import minidom\n",
    "import glob, os, sys, time\n",
    "from shutil import copy\n",
    "from xml.etree.ElementTree import Element, SubElement, Comment\n",
    "import subprocess as sp\n",
    "import pandas as pd\n",
    "from datetime import datetime\n",
    "from osgeo import ogr\n",
    "import logging\n",
    "import re\n",
    "non_decimal = re.compile(r'[^\\d.,-]+')"
   ]
  },
  {
   "cell_type": "code",
   "execution_count": 2,
   "metadata": {
    "collapsed": true
   },
   "outputs": [],
   "source": [
    "def get_features(shape):\n",
    "    driver = ogr.GetDriverByName('ESRI Shapefile')\n",
    "\n",
    "    dataSource = driver.Open(shape, 0) # 0 means read-only. 1 means writeable.\n",
    "\n",
    "    # Check to see if shapefile is found.\n",
    "    if dataSource is None:\n",
    "        logger.error ('Could not open %s' % (shape))\n",
    "        return\n",
    "    else:\n",
    "        logger.info ('Opened %s' % (shape))\n",
    "        layer = dataSource.GetLayer()\n",
    "        shape_features = layer.GetFeatureCount()\n",
    "        logger.info ('Name of layer: %s' % layer.GetDescription())\n",
    "        logger.info (\"Number of features in %s: %d\" % (os.path.basename(shape),shape_features))\n",
    "\n",
    "        features_shape = []\n",
    "        for i in range(shape_features):\n",
    "            feat = layer.GetFeature(i)\n",
    "            obID = feat.GetField('OBJECTID')\n",
    "            features_shape.append(obID)\n",
    "#         logger.info (obID)\n",
    "        return dataSource, layer, features_shape"
   ]
  },
  {
   "cell_type": "code",
   "execution_count": 3,
   "metadata": {
    "collapsed": true
   },
   "outputs": [],
   "source": [
    "def prettify(elem):\n",
    "    \"\"\"Return a pretty-printed XML string for the Element.\n",
    "    \"\"\"\n",
    "    rough_string = ElementTree.tostring(elem, 'utf-8')\n",
    "    reparsed = minidom.parseString(rough_string)\n",
    "    return reparsed.toprettyxml(indent=\"  \")\n",
    "\n",
    "def writeOGRVRT(basename, fullpath):\n",
    "    top = Element('OGRVRTDataSource')\n",
    "    child = SubElement(top, 'OGRVRTLayer')\n",
    "    child.set('name', basename)\n",
    "    sub_child_1 = SubElement(child, 'SrcDataSource')\n",
    "    sub_child_1.text = fullpath\n",
    "    sub_child_2 = SubElement(child, 'GeometryType')\n",
    "    sub_child_2.text = 'wkbPoint'\n",
    "    sub_child_3 = SubElement(child, 'LayerSRS')\n",
    "    sub_child_3.text = 'EPSG:28992'\n",
    "    sub_child_4 = SubElement(child, 'GeometryField')\n",
    "    sub_child_4.set('encoding','PointFromColumns')\n",
    "    sub_child_4.set('x','field_1')\n",
    "    sub_child_4.set('y','field_2')\n",
    "    sub_child_4.set('z','field_3')\n",
    "\n",
    "    return prettify(top)"
   ]
  },
  {
   "cell_type": "code",
   "execution_count": 6,
   "metadata": {
    "collapsed": true
   },
   "outputs": [],
   "source": [
    "rootDir = r'D:\\jupyter\\BodempeilingScript_v4\\BodempeilingScript_v4'\n",
    "ruweDataDir = os.path.join(rootDir, 'survey_ruweData')\n",
    "asciiDataDir = os.path.join(rootDir, 'survey_asciiData')\n",
    "workdir = os.path.join(rootDir, 'tmp')\n",
    "y = os.path.join(rootDir, 'achtergrondShp\\Achtergrond_polygonen.shp')\n",
    "logFile = os.path.join(rootDir, 'log\\log_file.out')\n",
    "xmldir = os.path.join(rootDir, 'xml')"
   ]
  },
  {
   "cell_type": "code",
   "execution_count": null,
   "metadata": {
    "collapsed": true
   },
   "outputs": [],
   "source": []
  },
  {
   "cell_type": "code",
   "execution_count": 21,
   "metadata": {
    "collapsed": false
   },
   "outputs": [],
   "source": [
    "rootDir = r'D:\\OMS_Waddenzee\\trunk\\fews'\n",
    "ruweDataDir = os.path.join(rootDir, r'Import\\rws\\bodempeilingen_historisch\\ruweData')\n",
    "ruweDataDirBackup = os.path.join(rootDir, r'ImportBackup\\rws\\bodempeilingen_historisch\\ruweData')\n",
    "asciiDataDir = os.path.join(rootDir, r'Import\\rws\\bodempeilingen_historisch\\asciiData')\n",
    "workdir = os.path.join(rootDir, r'ImportInterim\\rws\\bodempeilingen_historisch\\tmpData')\n",
    "y = os.path.join(rootDir, r'Config\\MapLayerFiles\\Achtergrond_polygonen//Achtergrond_polygonen.shp')\n",
    "logFile = os.path.join(rootDir, r'ImportInterim\\rws\\bodempeilingen_historisch//log_file.out')\n",
    "xmldir = os.path.join(rootDir, r'ImportInterim\\rws\\bodempeilingen_historisch\\XMLGenerated')"
   ]
  },
  {
   "cell_type": "code",
   "execution_count": 22,
   "metadata": {
    "collapsed": false
   },
   "outputs": [
    {
     "data": {
      "text/plain": [
       "'D:\\\\OMS_Waddenzee\\\\trunk\\\\fews\\\\ImportInterim\\\\rws\\\\bodempeilingen_historisch\\\\XMLGenerated'"
      ]
     },
     "execution_count": 22,
     "metadata": {},
     "output_type": "execute_result"
    }
   ],
   "source": [
    "xmldir"
   ]
  },
  {
   "cell_type": "code",
   "execution_count": null,
   "metadata": {
    "collapsed": true
   },
   "outputs": [],
   "source": []
  },
  {
   "cell_type": "code",
   "execution_count": null,
   "metadata": {
    "collapsed": true
   },
   "outputs": [],
   "source": [
    "# Set INPUT parameters\n",
    "# ruweDataDir    :: input raw survey data\n",
    "# asciiDataDir   :: output folder\n",
    "# workDir        :: working directory (emptied each run)\n",
    "# bgShp          :: background polygon shapefile of baggervakken\n",
    "# logFile        :: file used to store logs\n",
    "\n",
    "#ruweDataDir = r'D:\\Projects\\Pr\\3317.20\\BodempeilingScript_v4\\survey_ruweData'\n",
    "ruweDataDir = r'D:\\Projects\\Pr\\3317.20\\BodempeilingScript_v5\\Import\\rws\\bodempeilingen_historisch\\ruweData'\n",
    "ruweDataDirBackup = r'D:\\Projects\\Pr\\3317.20\\BodempeilingScript_v5\\ImportBackup\\rws\\bodempeilingen_historisch\\ruweData'\n",
    "asciiDataDir = r'D:\\Projects\\Pr\\3317.20\\BodempeilingScript_v5\\Import\\rws\\bodempeilingen_historisch\\asciiData'\n",
    "workdir = r'D:\\Projects\\Pr\\3317.20\\BodempeilingScript_v5\\ImportInterim\\rws\\bodempeilingen_historisch\\tmpData'\n",
    "y = r'D:\\Projects\\Pr\\3317.20\\BodempeilingScript_v5\\Config\\MapLayerFiles//Achtergrond_polygonen.shp'\n",
    "logFile = r'D:\\Projects\\Pr\\3317.20\\BodempeilingScript_v5\\ImportInterim\\rws\\bodempeilingen_historisch//log_file.out'"
   ]
  },
  {
   "cell_type": "code",
   "execution_count": null,
   "metadata": {
    "collapsed": true
   },
   "outputs": [],
   "source": [
    "# Set path OGR/GDAL files \n",
    "# ogr2ogr        :: converts simple features data between file formats\n",
    "# gdalwarp       :: image reprojection and warping utility\n",
    "# gdal_rasterize :: burns vector geometries into a raster\n",
    "# gdal_translate :: converts raster data between different formats\n",
    "# gdalbuildvrt   :: builds a VRT from a list of datasets\n",
    "# gdalinfo       :: lists information about a raster dataset\n",
    "# ogrinfo        :: lists information about an OGR supported data source\n",
    "\n",
    "ogr2ogr = r'C:\\Python35\\Lib\\site-packages\\osgeo//ogr2ogr.exe'\n",
    "gdalwarp = r'C:\\Python35\\Lib\\site-packages\\osgeo//gdalwarp.exe'\n",
    "gdal_rasterize = r'C:\\Python35\\Lib\\site-packages\\osgeo//gdal_rasterize.exe'\n",
    "gdal_translate = r'C:\\Python35\\Lib\\site-packages\\osgeo//gdal_translate.exe'\n",
    "gdalbuildvrt = r'C:\\Python35\\Lib\\site-packages\\osgeo//gdalbuildvrt.exe'\n",
    "gdalinfo = r'C:\\Python35\\Lib\\site-packages\\osgeo\\gdalinfo.exe'\n",
    "ogrinfo = r'C:\\Python35\\Lib\\site-packages\\osgeo\\ogrinfo.exe'"
   ]
  },
  {
   "cell_type": "code",
   "execution_count": null,
   "metadata": {
    "collapsed": false
   },
   "outputs": [],
   "source": [
    "logger = logging.getLogger('survey2arcinfoascii')\n",
    "hdlr = logging.FileHandler(logFile)\n",
    "formatter = logging.Formatter('%(asctime)s %(levelname)s %(message)s')\n",
    "hdlr.setFormatter(formatter)\n",
    "logger.addHandler(hdlr) \n",
    "logger.setLevel(logging.INFO)"
   ]
  },
  {
   "cell_type": "code",
   "execution_count": null,
   "metadata": {
    "collapsed": false
   },
   "outputs": [],
   "source": [
    "logger.info ('Empty tmp dir %s' % (workdir))\n",
    "filelist = glob.glob(workdir+'//*')\n",
    "for f in filelist:\n",
    "   os.remove(f)"
   ]
  },
  {
   "cell_type": "code",
   "execution_count": null,
   "metadata": {
    "collapsed": false
   },
   "outputs": [],
   "source": [
    "for root, dirs, files in os.walk(ruweDataDir):\n",
    "    for file in files:\n",
    "        if file.endswith('.asc'):\n",
    "            print (file)  \n",
    "            \n",
    "            init_file = os.path.join( os.path.abspath(root), file )\n",
    "            base, extension = os.path.splitext(file)\n",
    "            logger.info (init_file)\n",
    "            \n",
    "            # 0 get timestamp\n",
    "            tmod = os.path.getmtime(init_file)            \n",
    "            t = time.strftime('%Y%m%d%H%M%S', time.localtime(int(tmod)))\n",
    "#           print (tmod.strftime(\"%Y%m%d%H%M%S\"))            \n",
    "            #dateISO = datetime(int('20'+base[15:17]), int(base[17:19]), int(base[19:21]))\n",
    "            #t = dateISO.strftime(\"%Y%m%d%H%M%S\")\n",
    "            logger.info (t)            \n",
    "            \n",
    "            # 1 convert survey data to CSV format\n",
    "            a = os.path.join(workdir,t+'.csv')\n",
    "            df = pd.read_csv(init_file, header=None)\n",
    "            df.to_csv(a, header=False, index=False, sep=';')\n",
    "            \n",
    "            # 2 build OGRVRT from CSV file\n",
    "            b = os.path.join(workdir,t+'.vrt')\n",
    "            with open(b, 'w') as the_file:\n",
    "                the_file.write(writeOGRVRT(t, a))\n",
    "            \n",
    "            # 2.1 get Extent from OGRVRT            \n",
    "            command = ogrinfo+' -so ' + b + ' ' + t + ' | find \"Extent\"'\n",
    "            logger.info (command)\n",
    "            norm = sp.Popen(command, stdout=sp.PIPE, shell=True).communicate()            \n",
    "            logger.info (norm)\n",
    "            extent = non_decimal.sub('', str(norm[0])).replace('-',',')\n",
    "            bb = [x.strip() for x in extent.split(',')]\n",
    "            \n",
    "            # 2.2 spatial query extent feature achtergrond SHP\n",
    "            try:\n",
    "                z = os.path.join(workdir,t+'bg_sel.shp')\n",
    "                command = [ogr2ogr, z, y,'-spat',bb[0],bb[1],bb[2],bb[3]]\n",
    "                logger.info (sp.list2cmdline(command))\n",
    "                norm = sp.Popen(sp.list2cmdline(command),stdout=sp.PIPE, shell=True)\n",
    "                norm.communicate()                      \n",
    "            except Exception as e:\n",
    "                logger.info (e)\n",
    "                continue\n",
    "                                \n",
    "            # 3 create RASTER from OGRVRT\n",
    "            c = os.path.join(workdir,t+'.tif')\n",
    "            command = [gdal_rasterize, '-a','field_3','-tr','1.0','1.0', '-l',t,b,c]\n",
    "            logger.info (sp.list2cmdline(command))\n",
    "            norm = sp.Popen(sp.list2cmdline(command),stdout=sp.PIPE, shell=True)\n",
    "            norm.communicate()\n",
    "\n",
    "            try:\n",
    "                ds, layer, z_features = get_features(z)\n",
    "            except Exception as e:\n",
    "                logger.info (e)\n",
    "                continue\n",
    "                \n",
    "            for obID in (z_features):\n",
    "                logger.info (obID)\n",
    "                \n",
    "                # 4 clip point RASTER with feature achtergrond SHP\n",
    "                d = os.path.join(workdir,'grid'+str(obID).zfill(3)+'_'+t+'.tif.vrt')\n",
    "                command = [gdalwarp, '-srcnodata', '0', '-dstnodata', '-9999', '-overwrite','-of', 'VRT', '-crop_to_cutline', \n",
    "                           '-cutline', z, '-cwhere', 'OBJECTID = '+str(obID), c, d]            \n",
    "                logger.info (sp.list2cmdline(command))\n",
    "                norm = sp.Popen(sp.list2cmdline(command),stdout=sp.PIPE, shell=True)\n",
    "                norm.communicate()\n",
    "                \n",
    "                # 5A convert feature achtergrond SHP to RASTER\n",
    "                e = os.path.join(workdir,'grid'+str(obID).zfill(3)+'_'+t+'_bg_tmp'+'.tif')\n",
    "                command = [gdal_rasterize, '-a', 'NoDataValu', '-a_srs', 'EPSG:28992', '-where', 'OBJECTID = '+str(obID), \n",
    "                           '-tr', '1.0', '1.0', '-l', layer.GetDescription(), z, e]         \n",
    "                logger.info (sp.list2cmdline(command))\n",
    "                norm = sp.Popen(sp.list2cmdline(command),stdout=sp.PIPE, shell=True)\n",
    "                norm.communicate()\n",
    "                \n",
    "                # 5B clip achtergrond RASTER\n",
    "                f = os.path.join(workdir,'grid'+str(obID).zfill(3)+'_'+t+'_bg'+'.tif.vrt')\n",
    "                command = [gdalwarp, '-srcnodata', '-9999', '-dstnodata', '-9999', '-of', 'VRT', '-tr', '1.0', '1.0', \n",
    "                           '-overwrite', '-crop_to_cutline', '-cutline', z, '-cwhere', 'OBJECTID = '+str(obID), e, f]            \n",
    "                logger.info (sp.list2cmdline(command))\n",
    "                norm = sp.Popen(sp.list2cmdline(command),stdout=sp.PIPE, shell=True)\n",
    "                norm.communicate()                                \n",
    "\n",
    "                # 6 Build VRT data source of point RASTER and feature achtergrond RASTER                \n",
    "                g = os.path.join(workdir,'grid'+str(obID).zfill(3)+'_'+t+'.vrt')\n",
    "                command = [gdalbuildvrt, '-srcnodata', '-9999', g, d, f]\n",
    "                logger.info (sp.list2cmdline(command))\n",
    "                norm = sp.Popen(sp.list2cmdline(command),stdout=sp.PIPE, shell=True)\n",
    "                norm.communicate()\n",
    "\n",
    "                # 7 Convert VRT to ArcInfoASCII\n",
    "                h = os.path.join(asciiDataDir,'grid'+str(obID).zfill(3)+'_'+t+'.asc')\n",
    "                command = [gdal_translate, '-of', 'AAIGrid', '-tr', '1.0', '1.0', g, h]\n",
    "                logger.info (sp.list2cmdline(command))\n",
    "                norm = sp.Popen(sp.list2cmdline(command),stdout=sp.PIPE, shell=True)\n",
    "                norm.communicate()\n",
    "                \n",
    "                # 8 Only keep the ArcInfoASCIIs that contains data\n",
    "                command = gdalinfo + ' -mm ' + h + ' | find \"Computed\"'\n",
    "                logger.info (command)\n",
    "                norm = sp.Popen(command, stdout=sp.PIPE, shell=True).communicate()\n",
    "                logger.info (norm)\n",
    "                if len(norm[0]) == 0:                    \n",
    "                    for fl in glob.glob(h[0:-4]+'*'):\n",
    "                        os.remove(fl)\n",
    "            \n",
    "            # 9 Move file to ImportBackup\n",
    "            backup_file = os.path.join( os.path.abspath(ruweDataDirBackup), file )\n",
    "            os.rename(init_file, backup_file)"
   ]
  },
  {
   "cell_type": "code",
   "execution_count": null,
   "metadata": {
    "collapsed": true
   },
   "outputs": [],
   "source": []
  }
 ],
 "metadata": {
  "kernelspec": {
   "display_name": "Python 3",
   "language": "python",
   "name": "python3"
  },
  "language_info": {
   "codemirror_mode": {
    "name": "ipython",
    "version": 3
   },
   "file_extension": ".py",
   "mimetype": "text/x-python",
   "name": "python",
   "nbconvert_exporter": "python",
   "pygments_lexer": "ipython3",
   "version": "3.5.2"
  }
 },
 "nbformat": 4,
 "nbformat_minor": 0
}
