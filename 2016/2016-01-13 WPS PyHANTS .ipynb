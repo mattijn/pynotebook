{
 "cells": [
  {
   "cell_type": "code",
   "execution_count": 1,
   "metadata": {
    "collapsed": true
   },
   "outputs": [],
   "source": [
    "from osgeo import gdal\n",
    "import matplotlib.pyplot as plt\n",
    "import numpy as np\n",
    "import urllib\n",
    "%matplotlib inline"
   ]
  },
  {
   "cell_type": "code",
   "execution_count": 15,
   "metadata": {
    "collapsed": true
   },
   "outputs": [],
   "source": [
    "# The kernal of HANTS algorithm. Implemented by Mattijn.\n",
    "def makediag3d(M):\n",
    "    b = np.zeros((M.shape[0], M.shape[1] * M.shape[1]))\n",
    "    b[:, ::M.shape[1] + 1] = M\n",
    "    \n",
    "    #logging.info('function `makediag3d` complete')    \n",
    "    return b.reshape(M.shape[0], M.shape[1], M.shape[1]) \n",
    "\n",
    "def get_starter_matrix(base_period_len, sample_count, frequencies_considered_count):\n",
    "    nr = min(2 * frequencies_considered_count + 1,\n",
    "                  sample_count)  # number of 2*+1 frequencies, or number of input images\n",
    "    mat = np.zeros(shape=(nr, sample_count))\n",
    "    mat[0, :] = 1\n",
    "    ang = 2 * np.pi * np.arange(base_period_len) / base_period_len\n",
    "    cs = np.cos(ang)\n",
    "    sn = np.sin(ang)\n",
    "    # create some standard sinus and cosinus functions and put in matrix\n",
    "    i = np.arange(1, frequencies_considered_count + 1)\n",
    "    ts = np.arange(sample_count)\n",
    "    for column in xrange(sample_count):\n",
    "        index = np.mod(i * ts[column], base_period_len)\n",
    "        # index looks like 000, 123, 246, etc, until it wraps around (for len(i)==3)\n",
    "        mat[2 * i - 1, column] = cs.take(index)\n",
    "        mat[2 * i, column] = sn.take(index)\n",
    "\n",
    "    #logging.info('HANTS: function `get_starter_matrix` complete')\n",
    "    return mat\n",
    "\n",
    "def HANTS(sample_count, inputs,\n",
    "          frequencies_considered_count=3,\n",
    "          outliers_to_reject='Lo',\n",
    "          low=0., high=255,\n",
    "          fit_error_tolerance=5,\n",
    "          dod = 5,\n",
    "          delta=0.1):\n",
    "    \"\"\"\n",
    "    Function to apply the Harmonic analysis of time series applied to arrays\n",
    "\n",
    "    sample_count    = nr. of images (total number of actual samples of the time series)\n",
    "    base_period_len    = length of the base period, measured in virtual samples\n",
    "            (days, dekads, months, etc.)\n",
    "    frequencies_considered_count    = number of frequencies to be considered above the zero frequency\n",
    "    inputs     = array of input sample values (e.g. NDVI values)\n",
    "    ts    = array of size sample_count of time sample indicators\n",
    "            (indicates virtual sample number relative to the base period);\n",
    "            numbers in array ts maybe greater than base_period_len\n",
    "            If no aux file is used (no time samples), we assume ts(i)= i,\n",
    "            where i=1, ..., sample_count\n",
    "    outliers_to_reject  = 2-character string indicating rejection of high or low outliers\n",
    "            select from 'Hi', 'Lo' or 'None'\n",
    "    low   = valid range minimum\n",
    "    high  = valid range maximum (values outside the valid range are rejeced\n",
    "            right away)\n",
    "    fit_error_tolerance   = fit error tolerance (points deviating more than fit_error_tolerance from curve\n",
    "            fit are rejected)\n",
    "    dod   = degree of overdeterminedness (iteration stops if number of\n",
    "            points reaches the minimum required for curve fitting, plus\n",
    "            dod). This is a safety measure\n",
    "    delta = small positive number (e.g. 0.1) to suppress high amplitudes\n",
    "    \"\"\"\n",
    "    # logger = mp.get_logger()\n",
    "    # logger.info('HANTS: HANTS is active %s', inputs.shape)\n",
    "\n",
    "    # define some parameters\n",
    "    base_period_len = sample_count  #\n",
    "    \n",
    "    # check which setting to set for outlier filtering\n",
    "    if outliers_to_reject == 'Hi':\n",
    "        sHiLo = -1\n",
    "    elif outliers_to_reject == 'Lo':\n",
    "        sHiLo = 1\n",
    "    else:\n",
    "        sHiLo = 0\n",
    "\n",
    "    nr = min(2 * frequencies_considered_count + 1,\n",
    "             sample_count)  # number of 2*+1 frequencies, or number of input images\n",
    "\n",
    "    # create empty arrays to fill\n",
    "    outputs = np.zeros(shape=(inputs.shape[0], sample_count))\n",
    "\n",
    "    mat = get_starter_matrix(base_period_len, sample_count, frequencies_considered_count)\n",
    "\n",
    "    # repeat the mat array over the number of arrays in inputs\n",
    "    # and create arrays with ones with shape inputs where high and low values are set to 0\n",
    "    mat = np.tile(mat[None].T, (1, inputs.shape[0])).T\n",
    "    p = np.ones_like(inputs)\n",
    "    p[(low >= inputs) | (inputs > high)] = 0\n",
    "    nout = np.sum(p == 0, axis=-1)  # count the outliers for each timeseries\n",
    "\n",
    "\n",
    "    # prepare for while loop\n",
    "    ready = np.zeros((inputs.shape[0]), dtype=bool)  # all timeseries set to false\n",
    "\n",
    "    #dod = 1  # (2*frequencies_considered_count-1)  # Um, no it isn't :/\n",
    "    noutmax = sample_count - nr - dod\n",
    "    # prepare to add delta to suppress high amplitudes but not for [0,0]\n",
    "    Adelta = np.tile(np.diag(np.ones(nr))[None].T, (1, inputs.shape[0])).T * delta\n",
    "    Adelta[:, 0, 0] -= delta\n",
    "    \n",
    "    \n",
    "    for _ in xrange(sample_count):\n",
    "        if ready.all():\n",
    "            break        \n",
    "        \n",
    "        # multiply outliers with timeseries\n",
    "        za = np.einsum('ijk,ik->ij', mat, p * inputs)\n",
    "        #print za\n",
    "\n",
    "        # multiply mat with the multiplication of multiply diagonal of p with transpose of mat\n",
    "        diag = makediag3d(p)\n",
    "        #print diag\n",
    "        \n",
    "        A = np.einsum('ajk,aki->aji', mat, np.einsum('aij,jka->ajk', diag, mat.T))\n",
    "        # add delta to suppress high amplitudes but not for [0,0]\n",
    "        A += Adelta\n",
    "        #A[:, 0, 0] = A[:, 0, 0] - delta\n",
    "        #print A\n",
    "\n",
    "        # solve linear matrix equation and define reconstructed timeseries\n",
    "        zr = np.linalg.solve(A, za)\n",
    "        #print zr\n",
    "        \n",
    "        outputs = np.einsum('ijk,kj->ki', mat.T, zr)\n",
    "        #print outputs\n",
    "\n",
    "        # calculate error and sort err by index\n",
    "        err = p * (sHiLo * (outputs - inputs))\n",
    "        rankVec = np.argsort(err, axis=1, )\n",
    "\n",
    "        # select maximum error and compute new ready status\n",
    "        maxerr = np.max(err, axis=-1)\n",
    "        #maxerr = np.diag(err.take(rankVec[:, sample_count - 1], axis=-1))\n",
    "        ready = (maxerr <= fit_error_tolerance) | (nout == noutmax)        \n",
    "\n",
    "        # if ready is still false\n",
    "        if not ready.all():\n",
    "            j = rankVec.take(sample_count - 1, axis=-1)\n",
    "\n",
    "            p.T[j.T, np.indices(j.shape)] = p.T[j.T, np.indices(j.shape)] * ready.astype(\n",
    "                int)  #*check\n",
    "            nout += 1\n",
    "\n",
    "    #logging.info('HANTS: function `HANTS` complete')\n",
    "    #print 'function HANTS complete'\n",
    "    return outputs"
   ]
  },
  {
   "cell_type": "code",
   "execution_count": 2,
   "metadata": {
    "collapsed": true
   },
   "outputs": [],
   "source": [
    "url = 'http://192.168.1.104:8080/rasdaman/ows/wcs?query=for%20c%20in%20%28NDVI_MOD13C1005_uptodate%29%20return%20encode%28%20scale%28%20c[ansi%28147192:147558%29,Lat%2850%29,Long%2860:80%29],{ansi%28147192:147558%29,Long%280:20%29}%29,%22netcdf%22%29'\n",
    "path_org = 'test.nc'\n",
    "f,h = urllib.urlretrieve(url, path_org)\n",
    "ds_org = gdal.Open('NETCDF:'+path_org+':Band1')\n",
    "array_org = ds_org.ReadAsArray()"
   ]
  },
  {
   "cell_type": "code",
   "execution_count": 29,
   "metadata": {
    "collapsed": true
   },
   "outputs": [],
   "source": [
    "array_org1 = np.array([[6198, 6141, 6400, 5440, 6310, 7101, 7239, 6606, 6628, 8549, 7588, 7655, 7296, 7329\n",
    ", 7348, 7288, 7261, 7067, 6809, 6552, 5201]\n",
    ", [6180, 6230, 6190, 5743, 6406, 7057, 7298, 6764, 6956, 8662, 7280, 8140, 7600, 7633\n",
    ", 7593, 7472, 7426, 7209, 7074, 6736, 5558]\n",
    ", [6522, 6812, 2889, 6548, 7359, 7833, 8182, 7362, 7638, 8560, 7069, 8542, 8093, 8514\n",
    ", 8222, 8167, 7981, 7790, 7483, 7231, 6320]\n",
    ", [6575, 6651, 1167, 6840, 7288, 7785, 7920, 7354, 7278, 8271, 7027, 8575, 8065, 8146\n",
    ", 8156, 8166, 8010, 7742, 7521, 7253, 6319]\n",
    ", [6928, 6686, 1470, 6885, 7531, 7846, 7873, 7372, 7619, 8132, 7545, 8588, 8114, 8491\n",
    ", 8286, 8177, 7946, 7774, 7508, 7244, 6076]\n",
    ", [7008, 6613, 2907, 6974, 7436, 7810, 7755, 7243, 7454, 8332, 7635, 8327, 7975, 8325\n",
    ", 8158, 8056, 7761, 7719, 7487, 7162, 5848]\n",
    ", [6685, 6582, 4204, 6322, 6856, 7202, 7234, 7765, 7752, 7802, 7629, 8122, 7971, 8286\n",
    ", 8074, 7912, 7923, 7638, 7311, 7039, 6084]\n",
    ", [6974, 6854, 2447, 6031, 6718, 7255, 7649, 7959, 8339, 8060, 6330, 8394, 8207, 8402\n",
    ", 8366, 8196, 8096, 7679, 6998, 7148, 6293]\n",
    ", [6869, 3006, 1690, 6209, 6923, 7488, 7501, 7747, 8039, 7662, 7600, 8214, 8050, 8275\n",
    ", 8237, 8046, 8051, 7704, 7037, 7266, 6098]\n",
    ", [6933, 2724, 1716, 6483, 7339, 7942, 6818, 7438, 7594, 7391, 7934, 7992, 7733, 8136\n",
    ", 8109, 7888, 7975, 7746, 7076, 7300, 6018]\n",
    ", [7080, 2445, 5103, 6447, 7309, 8011, 7388, 7544, 7983, 7864, 8008, 7972, 7747, 8348\n",
    ", 8120, 7898, 8007, 7794, 6708, 7401, 6180]\n",
    ", [7065, 3297, 6554, 5838, 6420, 6975, 5858, 8294, 8302, 8033, 8598, 8257, 8252, 8463\n",
    ", 8359, 8036, 8108, 7556, 6843, 7282, 6637]\n",
    ", [6672, 3980, 5982, 6145, 6613, 7176, 4357, 7659, 7802, 6627, 7975, 8077, 7953, 7779\n",
    ", 8163, 7932, 7835, 7358, 4287, 7269, 5630]\n",
    ", [6232, 4882, 6134, 5960, 6312, 7092, 5764, 7738, 8078, 7792, 8399, 7639, 7432, 6264\n",
    ", 7568, 7285, 7371, 7033, 6146, 6730, 5530]\n",
    ", [5762, 4276, 5829, 5654, 6150, 6887, 5263, 7528, 7851, 7901, 7194, 6546, 6424, 6225\n",
    ", 6614, 6243, 6368, 6411, 6649, 6126, 4837]\n",
    ", [5577, 5447, 5563, 5264, 5851, 6600, 6568, 7907, 8094, 8153, 7230, 6261, 6306, 6300\n",
    ", 6481, 6088, 6234, 6317, 6558, 6012, 4805]\n",
    ", [5487, 5716, 5390, 5296, 6036, 6945, 6743, 7562, 7804, 7867, 6475, 5598, 5471, 5101\n",
    ", 5475, 5159, 5580, 5782, 6133, 5673, 3993]\n",
    ", [4489, 4725, 4286, 4404, 5157, 6389, 6477, 6635, 7232, 7865, 7414, 5400, 4905, 4560\n",
    ", 4799, 4512, 4622, 4722, 5216, 4775, 3162]\n",
    ", [4875, 5024, 4612, 4630, 5481, 6650, 6293, 6854, 7692, 7983, 6994, 5936, 5452, 5021\n",
    ", 5444, 5216, 5226, 5133, 5595, 4943, 3708]\n",
    ", [4324, 4546, 4209, 4300, 4900, 6338, 6043, 6586, 7756, 7858, 6919, 5803, 5251, 5423\n",
    ", 5268, 4845, 5004, 4945, 5278, 4593, 3487]\n",
    ", [4309, 4432, 4322, 4448, 5006, 6453, 6179, 6599, 7543, 7878, 7049, 6002, 5220, 5992\n",
    ", 5368, 4831, 5100, 5017, 5508, 4786, 3583]\n",
    ", [4209, 4656, 4342, 4252, 4760, 5895, 4858, 6232, 7388, 7567, 6763, 6096, 5352, 6136\n",
    ", 5670, 5161, 5368, 5159, 5426, 4622, 2502]\n",
    ", [4140, 4248, 4208, 4088, 4597, 5307, 6103, 6203, 7385, 7730, 7275, 6410, 5716, 6404\n",
    ", 5915, 5556, 5441, 5208, 5282, 4650, 2731]\n",
    ", [5064, 5236, 4993, 4849, 5177, 5790, 6967, 7169, 7802, 8214, 7940, 7160, 6715, 6861\n",
    ", 6609, 6055, 5947, 5893, 6051, 5329, 3869]\n",
    ", [6277, 5755, 6013, 5804, 5787, 6139, 7130, 7948, 8365, 8279, 8248, 8092, 7828, 7707\n",
    ", 7874, 7611, 7498, 7416, 6346, 6444, 5749]\n",
    ", [5066, 5013, 5109, 4861, 4893, 5306, 6086, 6617, 6800, 6853, 6843, 6822, 6533, 6619\n",
    ", 6717, 6450, 6639, 6514, 6094, 5625, 4578]\n",
    ", [3855, 4467, 4376, 4150, 4532, 5139, 5898, 6260, 6331, 4766, 6166, 6023, 6013, 6104\n",
    ", 5822, 5835, 5762, 5469, 4890, 4462, 3580]\n",
    ", [5108, 5316, 5295, 5077, 5388, 6434, 7063, 7230, 7644, 5647, 7323, 7226, 7073, 6991\n",
    ", 6944, 6760, 6988, 6680, 6007, 5492, 4299]\n",
    ", [5376, 4424, 4582, 5458, 5610, 6632, 7371, 7383, 7764, 6065, 7397, 7178, 6852, 6655\n",
    ", 6614, 6623, 6543, 6583, 5357, 5790, 4139]\n",
    ", [5857, 2161, 5010, 5954, 6291, 7070, 7534, 7455, 7752, 6955, 7384, 7332, 7084, 7236\n",
    ", 7192, 7064, 6945, 6881, 4810, 6172, 4683]\n",
    ", [6514, 1459, 6760, 6602, 6998, 7256, 7877, 7642, 8079, 7796, 7807, 8097, 7766, 8114\n",
    ", 7875, 7783, 7677, 7560, 4201, 6850, 5541]])"
   ]
  },
  {
   "cell_type": "code",
   "execution_count": 31,
   "metadata": {
    "collapsed": false
   },
   "outputs": [
    {
     "data": {
      "image/png": "[encoded data removed]",
      "text/plain": [
       "<matplotlib.figure.Figure at 0x1110b2e8>"
      ]
     },
     "metadata": {},
     "output_type": "display_data"
    }
   ],
   "source": [
    "fig = plt.figure(figsize=(15,3))\n",
    "\n",
    "ax2 = fig.add_subplot(111)\n",
    "img2 = ax2.imshow(np.ma.masked_equal(array_org1, 0), cmap='viridis',interpolation = 'nearest')\n",
    "ax2.set_xlabel('Long')\n",
    "ax2.set_ylabel('ansi')\n",
    "ax2.set_title('ORIGINAL array shape: '+str(array_org1.shape))\n",
    "\n",
    "plt.colorbar(img2, orientation='horizontal', ax=ax2)\n",
    "plt.tight_layout()\n",
    "#plt.savefig(r'D:\\tmp\\HANTS_OUT//slice_ansi_long.png', dpi=200)\n",
    "plt.show()"
   ]
  },
  {
   "cell_type": "code",
   "execution_count": 38,
   "metadata": {
    "collapsed": false
   },
   "outputs": [],
   "source": [
    "array_hants = HANTS(array_org1.shape[1], array_org1/100.,\n",
    "                    frequencies_considered_count = 3,\n",
    "                    outliers_to_reject = 'Lo',\n",
    "                    low = -10000/100., \n",
    "                    high = 10000/100.,\n",
    "                    fit_error_tolerance = 500/100.,\n",
    "                    dod = 5/100.,\n",
    "                    delta = 0.1)\n",
    "array_hants *= 100"
   ]
  },
  {
   "cell_type": "code",
   "execution_count": 39,
   "metadata": {
    "collapsed": false
   },
   "outputs": [
    {
     "data": {
      "image/png": "[encoded data removed]",
      "text/plain": [
       "<matplotlib.figure.Figure at 0x12aaa0b8>"
      ]
     },
     "metadata": {},
     "output_type": "display_data"
    }
   ],
   "source": [
    "fig = plt.figure(figsize=(15,3))\n",
    "\n",
    "ax2 = fig.add_subplot(111)\n",
    "img2 = ax2.imshow(np.ma.masked_equal(array_hants, 0), cmap='viridis',interpolation = 'nearest')\n",
    "ax2.set_xlabel('Long')\n",
    "ax2.set_ylabel('ansi')\n",
    "ax2.set_title('ORIGINAL array shape: '+str(array_org.shape))\n",
    "\n",
    "plt.colorbar(img2, orientation='horizontal', ax=ax2)\n",
    "plt.tight_layout()\n",
    "#plt.savefig(r'D:\\tmp\\HANTS_OUT//slice_ansi_long.png', dpi=200)\n",
    "plt.show()"
   ]
  },
  {
   "cell_type": "code",
   "execution_count": 40,
   "metadata": {
    "collapsed": false
   },
   "outputs": [
    {
     "data": {
      "text/plain": [
       "[<matplotlib.lines.Line2D at 0x121943c8>]"
      ]
     },
     "execution_count": 40,
     "metadata": {},
     "output_type": "execute_result"
    },
    {
     "data": {
      "image/png": "[encoded data removed]",
      "text/plain": [
       "<matplotlib.figure.Figure at 0x12194978>"
      ]
     },
     "metadata": {},
     "output_type": "display_data"
    }
   ],
   "source": [
    "plt.plot(array_org1[10])\n",
    "plt.plot(array_hants[10])"
   ]
  },
  {
   "cell_type": "code",
   "execution_count": 185,
   "metadata": {
    "collapsed": false
   },
   "outputs": [
    {
     "data": {
      "text/plain": [
       "array([[ 0,  0,  3],\n",
       "       [ 4,  5,  6],\n",
       "       [ 7,  0,  0],\n",
       "       [10, 11, 12],\n",
       "       [13, 14, 15]])"
      ]
     },
     "execution_count": 185,
     "metadata": {},
     "output_type": "execute_result"
    }
   ],
   "source": [
    "a = np.array([[0,0,3],[4,5,6],[7,0,0],[10,11,12],[13,14,15]])\n",
    "b = np.zeros_like(a)\n",
    "a"
   ]
  },
  {
   "cell_type": "code",
   "execution_count": 188,
   "metadata": {
    "collapsed": false
   },
   "outputs": [],
   "source": [
    "# select all rows containg note more than 50% 0 values\n",
    "percent = np.sum(a == 0, axis=-1) / float(check.shape[1])\n",
    "percent = percent >= 0.5\n",
    "slice = np.invert(percent).nonzero()[0][0:2]"
   ]
  },
  {
   "cell_type": "code",
   "execution_count": 189,
   "metadata": {
    "collapsed": false
   },
   "outputs": [
    {
     "data": {
      "text/plain": [
       "array([[ 4,  5,  6],\n",
       "       [10, 11, 12]])"
      ]
     },
     "execution_count": 189,
     "metadata": {},
     "output_type": "execute_result"
    }
   ],
   "source": [
    "# select first two rows satisfying 'slice'\n",
    "a[slice]"
   ]
  },
  {
   "cell_type": "code",
   "execution_count": 190,
   "metadata": {
    "collapsed": false
   },
   "outputs": [],
   "source": [
    "# do something and place modified rows on same index of zero array\n",
    "b[slice] = a[slice] * 2"
   ]
  },
  {
   "cell_type": "code",
   "execution_count": 191,
   "metadata": {
    "collapsed": false
   },
   "outputs": [
    {
     "data": {
      "text/plain": [
       "array([[ 0,  0,  0],\n",
       "       [ 8, 10, 12],\n",
       "       [ 0,  0,  0],\n",
       "       [20, 22, 24],\n",
       "       [ 0,  0,  0]])"
      ]
     },
     "execution_count": 191,
     "metadata": {},
     "output_type": "execute_result"
    }
   ],
   "source": [
    "b"
   ]
  },
  {
   "cell_type": "code",
   "execution_count": 192,
   "metadata": {
    "collapsed": true
   },
   "outputs": [],
   "source": [
    "import base64\n",
    "import uuid\n",
    "# get a UUID - URL safe, Base64\n",
    "def get_a_uuid():\n",
    "    r_uuid = base64.urlsafe_b64encode(uuid.uuid4().bytes)\n",
    "    return r_uuid.replace('=', '')"
   ]
  },
  {
   "cell_type": "code",
   "execution_count": 285,
   "metadata": {
    "collapsed": false
   },
   "outputs": [
    {
     "data": {
      "text/plain": [
       "'emIL2mskTqWvR1yfks5eMQ'"
      ]
     },
     "execution_count": 285,
     "metadata": {},
     "output_type": "execute_result"
    }
   ],
   "source": [
    "get_a_uuid()"
   ]
  },
  {
   "cell_type": "code",
   "execution_count": null,
   "metadata": {
    "collapsed": true
   },
   "outputs": [],
   "source": []
  },
  {
   "cell_type": "code",
   "execution_count": null,
   "metadata": {
    "collapsed": true
   },
   "outputs": [],
   "source": []
  }
 ],
 "metadata": {
  "kernelspec": {
   "display_name": "Python 2",
   "language": "python",
   "name": "python2"
  },
  "language_info": {
   "codemirror_mode": {
    "name": "ipython",
    "version": 2
   },
   "file_extension": ".py",
   "mimetype": "text/x-python",
   "name": "python",
   "nbconvert_exporter": "python",
   "pygments_lexer": "ipython2",
   "version": "2.7.6"
  }
 },
 "nbformat": 4,
 "nbformat_minor": 0
}
