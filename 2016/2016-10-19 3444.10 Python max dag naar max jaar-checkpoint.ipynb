{
 "cells": [
  {
   "cell_type": "code",
   "execution_count": 1,
   "metadata": {
    "collapsed": false
   },
   "outputs": [],
   "source": [
    "import pandas as pd\n",
    "import matplotlib.pyplot as plt\n",
    "import matplotlib.dates as mdates\n",
    "import numpy as np\n",
    "#import seaborn as sns\n",
    "%matplotlib inline\n",
    "#sns.set(style=\"white\", palette=\"BuGn_d\")"
   ]
  },
  {
   "cell_type": "code",
   "execution_count": 2,
   "metadata": {
    "collapsed": true
   },
   "outputs": [],
   "source": [
    "excel_in = r'D:\\Projects\\Pr\\3444.10//dag_debieten_Brommelen_Munstergeleen_oudRoosteren.xlsx'"
   ]
  },
  {
   "cell_type": "code",
   "execution_count": 3,
   "metadata": {
    "collapsed": false
   },
   "outputs": [],
   "source": [
    "ds_br = pd.read_excel(excel_in, sheetname='Brommelen')#, index_col = 'TIJD')\n",
    "ds_mg = pd.read_excel(excel_in, sheetname='Munstergeleen')#, index_col = 'TIJD')\n",
    "ds_or = pd.read_excel(excel_in, sheetname='Oud_Roosteren')#, index_col = 'TIJD')"
   ]
  },
  {
   "cell_type": "code",
   "execution_count": 4,
   "metadata": {
    "collapsed": false
   },
   "outputs": [],
   "source": [
    "ds_br.TIJD = pd.to_datetime(ds_br['TIJD'], format='%Y-%M-%D')\n",
    "ds_br.set_index(['TIJD'],inplace=True)\n",
    "\n",
    "ds_mg.TIJD = pd.to_datetime(ds_mg['TIJD'], format='%Y-%M-%D')\n",
    "ds_mg.set_index(['TIJD'],inplace=True)\n",
    "\n",
    "ds_or.TIJD = pd.to_datetime(ds_or['TIJD'], format='%Y-%M-%D')\n",
    "ds_or.set_index(['TIJD'],inplace=True)"
   ]
  },
  {
   "cell_type": "code",
   "execution_count": 5,
   "metadata": {
    "collapsed": false
   },
   "outputs": [],
   "source": [
    "# plt.plot(ds_br.index,ds_br['Q.max (m3/s)'])\n",
    "# plt.show()\n",
    "\n",
    "# plt.plot(ds_mg.index,ds_mg['Q.max (m3/s)'])\n",
    "# plt.show()\n",
    "\n",
    "# plt.plot(ds_or.index,ds_or['Q.max (m3/s)'])\n",
    "# plt.show()"
   ]
  },
  {
   "cell_type": "code",
   "execution_count": 6,
   "metadata": {
    "collapsed": false
   },
   "outputs": [],
   "source": [
    "ds_br_yr = ds_br.groupby(ds_br.index.year).max()\n",
    "ds_br_yr.reset_index(inplace=True)\n",
    "ds_br_yr.rename(columns = {'index':'TIJD', 'Q.max (m3/s)':'Brommelen'}, inplace = True)\n",
    "ds_br_yr.TIJD = pd.to_datetime(ds_br_yr['TIJD'], format='%Y')\n",
    "ds_br_yr.set_index('TIJD', inplace=True)\n",
    "\n",
    "ds_mg_yr = ds_mg.groupby(ds_mg.index.year).max()\n",
    "ds_mg_yr.reset_index(inplace=True)\n",
    "ds_mg_yr.rename(columns = {'index':'TIJD', 'Q.max (m3/s)':'Munstergeleen'}, inplace = True)\n",
    "ds_mg_yr.TIJD = pd.to_datetime(ds_mg_yr['TIJD'], format='%Y')\n",
    "ds_mg_yr.set_index('TIJD', inplace=True)\n",
    "\n",
    "ds_or_yr = ds_or.groupby(ds_or.index.year).max()\n",
    "ds_or_yr.reset_index(inplace=True)\n",
    "ds_or_yr.rename(columns = {'index':'TIJD', 'Q.max (m3/s)':'Oud-Roosteren'}, inplace = True)\n",
    "ds_or_yr.TIJD = pd.to_datetime(ds_or_yr['TIJD'], format='%Y')\n",
    "ds_or_yr.set_index('TIJD', inplace=True)"
   ]
  },
  {
   "cell_type": "code",
   "execution_count": 7,
   "metadata": {
    "collapsed": false
   },
   "outputs": [
    {
     "data": {
      "text/html": [
       "<div>\n",
       "<table border=\"1\" class=\"dataframe\">\n",
       "  <thead>\n",
       "    <tr style=\"text-align: right;\">\n",
       "      <th></th>\n",
       "      <th>Brommelen</th>\n",
       "      <th>Munstergeleen</th>\n",
       "      <th>Oud-Roosteren</th>\n",
       "    </tr>\n",
       "  </thead>\n",
       "  <tbody>\n",
       "    <tr>\n",
       "      <th>1971</th>\n",
       "      <td>NaN</td>\n",
       "      <td>NaN</td>\n",
       "      <td>18.185</td>\n",
       "    </tr>\n",
       "    <tr>\n",
       "      <th>1972</th>\n",
       "      <td>NaN</td>\n",
       "      <td>NaN</td>\n",
       "      <td>20.981</td>\n",
       "    </tr>\n",
       "    <tr>\n",
       "      <th>1973</th>\n",
       "      <td>NaN</td>\n",
       "      <td>NaN</td>\n",
       "      <td>12.964</td>\n",
       "    </tr>\n",
       "    <tr>\n",
       "      <th>1974</th>\n",
       "      <td>NaN</td>\n",
       "      <td>NaN</td>\n",
       "      <td>22.644</td>\n",
       "    </tr>\n",
       "    <tr>\n",
       "      <th>1975</th>\n",
       "      <td>NaN</td>\n",
       "      <td>NaN</td>\n",
       "      <td>22.644</td>\n",
       "    </tr>\n",
       "  </tbody>\n",
       "</table>\n",
       "</div>"
      ],
      "text/plain": [
       "      Brommelen  Munstergeleen  Oud-Roosteren\n",
       "1971        NaN            NaN         18.185\n",
       "1972        NaN            NaN         20.981\n",
       "1973        NaN            NaN         12.964\n",
       "1974        NaN            NaN         22.644\n",
       "1975        NaN            NaN         22.644"
      ]
     },
     "execution_count": 7,
     "metadata": {},
     "output_type": "execute_result"
    }
   ],
   "source": [
    "ds_comb = pd.concat([ds_br_yr, ds_mg_yr, ds_or_yr], axis=1)\n",
    "ds_comb.index = ds_comb.index.format(formatter=lambda x: int(x.strftime('%Y')))\n",
    "ds_comb.head()"
   ]
  },
  {
   "cell_type": "code",
   "execution_count": 8,
   "metadata": {
    "collapsed": false
   },
   "outputs": [],
   "source": [
    "ds_comb.to_excel(r'D:\\Projects\\Pr\\3444.10//jaar_debieten_Brommelen_Munstergeleen_oudRoosteren.xlsx')"
   ]
  },
  {
   "cell_type": "code",
   "execution_count": null,
   "metadata": {
    "collapsed": true
   },
   "outputs": [],
   "source": []
  },
  {
   "cell_type": "code",
   "execution_count": null,
   "metadata": {
    "collapsed": false
   },
   "outputs": [],
   "source": [
    "ax = ds_brm_yr.plot(kind='bar')\n",
    "xtl=[item.get_text()[:4] for item in ax.get_xticklabels()]\n",
    "_=ax.set_xticklabels(xtl)"
   ]
  },
  {
   "cell_type": "code",
   "execution_count": null,
   "metadata": {
    "collapsed": true
   },
   "outputs": [],
   "source": []
  },
  {
   "cell_type": "code",
   "execution_count": null,
   "metadata": {
    "collapsed": true
   },
   "outputs": [],
   "source": []
  },
  {
   "cell_type": "code",
   "execution_count": null,
   "metadata": {
    "collapsed": false
   },
   "outputs": [],
   "source": [
    "fig, ax = plt.subplots(figsize=(14, 6))\n",
    "ax = ds_brm_yr.plot(kind='line', ax =ax)\n",
    "# xtl=[item.get_text()[:4] for item in ax.get_xticklabels()]\n",
    "# _=ax.set_xticklabels(xtl)\n",
    "#ax.get_xaxis().set_minor_formatter(mdates.DateFormatter('%Y'))\n",
    "ax.set_title('Q.max / jaar te Brommelen')\n",
    "ax.set_ylabel('Q.max (m3/s)')\n",
    "ax.set_xlabel('')\n",
    "plt.savefig(r'D:\\Projects\\Pr\\3444.10\\png//QmaxJaar_line_Brommelen.png', dpi=400)\n",
    "plt.show()"
   ]
  },
  {
   "cell_type": "code",
   "execution_count": null,
   "metadata": {
    "collapsed": true
   },
   "outputs": [],
   "source": []
  }
 ],
 "metadata": {
  "kernelspec": {
   "display_name": "Python 3",
   "language": "python",
   "name": "python3"
  },
  "language_info": {
   "codemirror_mode": {
    "name": "ipython",
    "version": 3
   },
   "file_extension": ".py",
   "mimetype": "text/x-python",
   "name": "python",
   "nbconvert_exporter": "python",
   "pygments_lexer": "ipython3",
   "version": "3.5.2"
  }
 },
 "nbformat": 4,
 "nbformat_minor": 0
}
