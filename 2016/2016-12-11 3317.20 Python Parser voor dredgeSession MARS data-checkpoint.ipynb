{
 "cells": [
  {
   "cell_type": "code",
   "execution_count": 1,
   "metadata": {
    "collapsed": true
   },
   "outputs": [],
   "source": [
    "import pandas as pd\n",
    "import glob\n",
    "import geopandas as gpd"
   ]
  },
  {
   "cell_type": "code",
   "execution_count": 2,
   "metadata": {
    "collapsed": false
   },
   "outputs": [],
   "source": [
    "def getIxensumM3(df):\n",
    "    # init mass delta series\n",
    "    s = pd.Series(index=df.index, name='mass_delta')\n",
    "\n",
    "    # initiate the empty and full massa ship with first loading session\n",
    "    mass_empty = df.iloc[0]['dredgeSessionMassEmptyShip']\n",
    "    mass_full = df.iloc[0]['dredgeSessionMassFullShip']\n",
    "    dM = mass_full - mass_empty\n",
    "    s[df.index[0]] = dM\n",
    "\n",
    "    # compute delta mass for all dumping sessions\n",
    "    for index, row in df[1::].iterrows():    \n",
    "        if row['dredgeSessionType'] == 'LOADING':\n",
    "            mass_empty = mass_full\n",
    "            mass_full = row['dredgeSessionMassFullShip']\n",
    "            dM = mass_full - mass_empty\n",
    "            s[index] = dM\n",
    "        if row['dredgeSessionType'] == 'DUMPING':\n",
    "            mass_empty = row['dredgeSessionMassEmptyShip']\n",
    "            dM = mass_full - mass_empty\n",
    "            s[index] = dM\n",
    "            mass_full = mass_empty\n",
    "\n",
    "    # compute total dumping TDS\n",
    "    m3_dumping = df.loc[df['dredgeSessionType'] == 'LOADING']['dredgeSessionM3'].sum()\n",
    "    maxdM = s[df.loc[df['dredgeSessionType'] == 'DUMPING'].index].max()\n",
    "\n",
    "    # index of DUMPING sessions with highest delta mass \n",
    "    ix_maxdM = (s==maxdM).argmax()\n",
    "    \n",
    "    return ix_maxdM, m3_dumping"
   ]
  },
  {
   "cell_type": "code",
   "execution_count": 3,
   "metadata": {
    "collapsed": false
   },
   "outputs": [],
   "source": [
    "folder = r'D:\\Projects\\Pr\\3317.20\\MARSreizen\\parser_utf16//*'\n",
    "file_out = r'D:\\Projects\\Pr\\3317.20\\MARSreizen\\parser_utf8/mette-maria.txt'\n",
    "bv_shp = r'D:\\OMS_Waddenzee\\trunk\\fews\\Config\\MapLayerFiles\\Baggervakken//Baggervakken.shp'"
   ]
  },
  {
   "cell_type": "code",
   "execution_count": 4,
   "metadata": {
    "collapsed": false
   },
   "outputs": [],
   "source": [
    "file_list = glob.glob(folder, recursive=True)"
   ]
  },
  {
   "cell_type": "code",
   "execution_count": 5,
   "metadata": {
    "collapsed": false
   },
   "outputs": [],
   "source": [
    "df = pd.read_csv(file_list[0], sep='\\t', encoding='utf-16-le')\n",
    "for i in file_list[1::]:\n",
    "    # print (i)\n",
    "    df2 = pd.read_csv(i, sep='\\t', encoding='utf-16-le')\n",
    "    df = df.append(df2)\n",
    "df = df.reset_index(drop=True)    "
   ]
  },
  {
   "cell_type": "code",
   "execution_count": 6,
   "metadata": {
    "collapsed": false
   },
   "outputs": [],
   "source": [
    "df.sort_values(['tripId', 'dredgeSessionEndDt'], inplace=True)"
   ]
  },
  {
   "cell_type": "code",
   "execution_count": 7,
   "metadata": {
    "collapsed": false
   },
   "outputs": [],
   "source": [
    "# select shapefile\n",
    "right = gpd.read_file(bv_shp)[['ID_MARS', 'tds_m3']]\n",
    "\n",
    "# apply a leftish join on\n",
    "df = df.merge(right, how='left', left_on='dredgeSessionLocation', right_on='ID_MARS')\n",
    "# compute kuubs\n",
    "df['dredgeSessionM3'] = df['dredgeSessionQuantity'] * df['tds_m3']\n",
    "# drop the unwanted columns\n",
    "df.drop(['ID_MARS','tds_m3'], axis=1, inplace=True)"
   ]
  },
  {
   "cell_type": "code",
   "execution_count": 8,
   "metadata": {
    "collapsed": false
   },
   "outputs": [],
   "source": [
    "uq_tripId = df['tripId'].unique()\n",
    "for tripId in uq_tripId:\n",
    "    # get slice of dataframe based on tripId\n",
    "    df3 = df.loc[df['tripId'] == tripId].copy()\n",
    "    \n",
    "    # get the index of the dumping sessions with the highest delta mass\n",
    "    # this is supposed to be the session with the most amount dumped M3\n",
    "    # and get the sum of all loaded M3\n",
    "    dumpix, sumM3 = getIxensumM3(df3)\n",
    "    \n",
    "    # assign these M3 values in the main dataframe\n",
    "    df.loc[df.index == dumpix, 'dredgeSessionM3'] = sumM3"
   ]
  },
  {
   "cell_type": "code",
   "execution_count": 9,
   "metadata": {
    "collapsed": false
   },
   "outputs": [],
   "source": [
    "s_nan = dict(zip(df.columns,['-',-999,'-','-',-999,-999,'-','-','-','-','-','-',-999,'1-1-1970 00:00','1-1-1970 00:00',-999,'0:00:00',-999,-999,-999,-999,-999,-999,-999,-999,-999,-999,-999,-999,-999,-999,-999,-999,-999,'0:00:00',-999,-999,-999,-999,-999,-999,-999,-999,-999,'-', '-','1-1-1970 00:00','1-1-1970 00:00','0:00:00',-999,-999,-999,-999,-999]))"
   ]
  },
  {
   "cell_type": "code",
   "execution_count": 10,
   "metadata": {
    "collapsed": true
   },
   "outputs": [],
   "source": [
    "df.fillna(s_nan, inplace=True)\n",
    "df[['ls_endTs','dredgeSessionId']] = df[['ls_endTs','dredgeSessionId']].astype(int)\n",
    "# write to csv\n",
    "df.to_csv(file_out, sep='\\t', index=False)"
   ]
  },
  {
   "cell_type": "code",
   "execution_count": null,
   "metadata": {
    "collapsed": true
   },
   "outputs": [],
   "source": []
  }
 ],
 "metadata": {
  "kernelspec": {
   "display_name": "Python 3",
   "language": "python",
   "name": "python3"
  },
  "language_info": {
   "codemirror_mode": {
    "name": "ipython",
    "version": 3
   },
   "file_extension": ".py",
   "mimetype": "text/x-python",
   "name": "python",
   "nbconvert_exporter": "python",
   "pygments_lexer": "ipython3",
   "version": "3.5.2"
  }
 },
 "nbformat": 4,
 "nbformat_minor": 0
}
