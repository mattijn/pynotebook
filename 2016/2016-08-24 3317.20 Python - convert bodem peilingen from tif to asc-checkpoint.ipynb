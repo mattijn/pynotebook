{
 "cells": [
  {
   "cell_type": "code",
   "execution_count": 1,
   "metadata": {
    "collapsed": true
   },
   "outputs": [],
   "source": [
    "from xml.etree import ElementTree\n",
    "from xml.dom import minidom\n",
    "import glob, os\n",
    "from xml.etree.ElementTree import Element, SubElement, Comment\n",
    "import subprocess as sp\n",
    "import pandas as pd\n",
    "from datetime import datetime"
   ]
  },
  {
   "cell_type": "code",
   "execution_count": 2,
   "metadata": {
    "collapsed": true
   },
   "outputs": [],
   "source": [
    "def prettify(elem):\n",
    "    \"\"\"Return a pretty-printed XML string for the Element.\n",
    "    \"\"\"\n",
    "    rough_string = ElementTree.tostring(elem, 'utf-8')\n",
    "    reparsed = minidom.parseString(rough_string)\n",
    "    return reparsed.toprettyxml(indent=\"  \")"
   ]
  },
  {
   "cell_type": "code",
   "execution_count": 3,
   "metadata": {
    "collapsed": false
   },
   "outputs": [],
   "source": [
    "def writeOGRVRT(basename, fullpath):\n",
    "    top = Element('OGRVRTDataSource')\n",
    "    child = SubElement(top, 'OGRVRTLayer')\n",
    "    child.set('name', basename)\n",
    "    sub_child_1 = SubElement(child, 'SrcDataSource')\n",
    "    sub_child_1.text = fullpath\n",
    "    sub_child_2 = SubElement(child, 'GeometryType')\n",
    "    sub_child_2.text = 'wkbPoint'\n",
    "    sub_child_3 = SubElement(child, 'LayerSRS')\n",
    "    sub_child_3.text = 'EPSG:28992'\n",
    "    sub_child_4 = SubElement(child, 'GeometryField')\n",
    "    sub_child_4.set('encoding','PointFromColumns')\n",
    "    sub_child_4.set('x','field_1')\n",
    "    sub_child_4.set('y','field_2')\n",
    "    sub_child_4.set('z','field_3')\n",
    "\n",
    "    return prettify(top)"
   ]
  },
  {
   "cell_type": "code",
   "execution_count": 30,
   "metadata": {
    "collapsed": false
   },
   "outputs": [
    {
     "name": "stdout",
     "output_type": "stream",
     "text": [
      "vak7_20150904000000\n",
      "C:\\Python35\\Lib\\site-packages\\osgeo//gdal_translate.exe -of AAIGrid D:\\Projects\\Pr\\3317.20\\Toeleveringen\\divide\\vak7\\vak7_20150904000000.tif D:\\Projects\\Pr\\3317.20\\Toeleveringen\\divide\\vak7/asc\\vak7_20150904000000.asc\n",
      "vak7_20151029000000\n",
      "C:\\Python35\\Lib\\site-packages\\osgeo//gdal_translate.exe -of AAIGrid D:\\Projects\\Pr\\3317.20\\Toeleveringen\\divide\\vak7\\vak7_20151029000000.tif D:\\Projects\\Pr\\3317.20\\Toeleveringen\\divide\\vak7/asc\\vak7_20151029000000.asc\n",
      "vak7_20151104000000\n",
      "C:\\Python35\\Lib\\site-packages\\osgeo//gdal_translate.exe -of AAIGrid D:\\Projects\\Pr\\3317.20\\Toeleveringen\\divide\\vak7\\vak7_20151104000000.tif D:\\Projects\\Pr\\3317.20\\Toeleveringen\\divide\\vak7/asc\\vak7_20151104000000.asc\n",
      "vak7_20160112000000\n",
      "C:\\Python35\\Lib\\site-packages\\osgeo//gdal_translate.exe -of AAIGrid D:\\Projects\\Pr\\3317.20\\Toeleveringen\\divide\\vak7\\vak7_20160112000000.tif D:\\Projects\\Pr\\3317.20\\Toeleveringen\\divide\\vak7/asc\\vak7_20160112000000.asc\n",
      "vak7_20160303000000\n",
      "C:\\Python35\\Lib\\site-packages\\osgeo//gdal_translate.exe -of AAIGrid D:\\Projects\\Pr\\3317.20\\Toeleveringen\\divide\\vak7\\vak7_20160303000000.tif D:\\Projects\\Pr\\3317.20\\Toeleveringen\\divide\\vak7/asc\\vak7_20160303000000.asc\n",
      "vak7_20160311000000\n",
      "C:\\Python35\\Lib\\site-packages\\osgeo//gdal_translate.exe -of AAIGrid D:\\Projects\\Pr\\3317.20\\Toeleveringen\\divide\\vak7\\vak7_20160311000000.tif D:\\Projects\\Pr\\3317.20\\Toeleveringen\\divide\\vak7/asc\\vak7_20160311000000.asc\n",
      "vak7_20160504000000\n",
      "C:\\Python35\\Lib\\site-packages\\osgeo//gdal_translate.exe -of AAIGrid D:\\Projects\\Pr\\3317.20\\Toeleveringen\\divide\\vak7\\vak7_20160504000000.tif D:\\Projects\\Pr\\3317.20\\Toeleveringen\\divide\\vak7/asc\\vak7_20160504000000.asc\n",
      "vak7_20160510000000\n",
      "C:\\Python35\\Lib\\site-packages\\osgeo//gdal_translate.exe -of AAIGrid D:\\Projects\\Pr\\3317.20\\Toeleveringen\\divide\\vak7\\vak7_20160510000000.tif D:\\Projects\\Pr\\3317.20\\Toeleveringen\\divide\\vak7/asc\\vak7_20160510000000.asc\n",
      "vak8_20160428000000\n",
      "C:\\Python35\\Lib\\site-packages\\osgeo//gdal_translate.exe -of AAIGrid D:\\Projects\\Pr\\3317.20\\Toeleveringen\\divide\\vak8\\vak8_20160428000000.tif D:\\Projects\\Pr\\3317.20\\Toeleveringen\\divide\\vak8/asc\\vak8_20160428000000.asc\n",
      "vak9_20150903000000\n",
      "C:\\Python35\\Lib\\site-packages\\osgeo//gdal_translate.exe -of AAIGrid D:\\Projects\\Pr\\3317.20\\Toeleveringen\\divide\\vak9\\vak9_20150903000000.tif D:\\Projects\\Pr\\3317.20\\Toeleveringen\\divide\\vak9/asc\\vak9_20150903000000.asc\n",
      "vak9_20151028000000\n",
      "C:\\Python35\\Lib\\site-packages\\osgeo//gdal_translate.exe -of AAIGrid D:\\Projects\\Pr\\3317.20\\Toeleveringen\\divide\\vak9\\vak9_20151028000000.tif D:\\Projects\\Pr\\3317.20\\Toeleveringen\\divide\\vak9/asc\\vak9_20151028000000.asc\n",
      "vak9_20160113000000\n",
      "C:\\Python35\\Lib\\site-packages\\osgeo//gdal_translate.exe -of AAIGrid D:\\Projects\\Pr\\3317.20\\Toeleveringen\\divide\\vak9\\vak9_20160113000000.tif D:\\Projects\\Pr\\3317.20\\Toeleveringen\\divide\\vak9/asc\\vak9_20160113000000.asc\n",
      "vak9_20160429000000\n",
      "C:\\Python35\\Lib\\site-packages\\osgeo//gdal_translate.exe -of AAIGrid D:\\Projects\\Pr\\3317.20\\Toeleveringen\\divide\\vak9\\vak9_20160429000000.tif D:\\Projects\\Pr\\3317.20\\Toeleveringen\\divide\\vak9/asc\\vak9_20160429000000.asc\n",
      "vak10_2016030000000\n",
      "C:\\Python35\\Lib\\site-packages\\osgeo//gdal_translate.exe -of AAIGrid D:\\Projects\\Pr\\3317.20\\Toeleveringen\\divide\\vak10\\vak10_2016030000000.tif D:\\Projects\\Pr\\3317.20\\Toeleveringen\\divide\\vak10/asc\\vak10_2016030000000.asc\n",
      "vak11_2016042000000\n",
      "C:\\Python35\\Lib\\site-packages\\osgeo//gdal_translate.exe -of AAIGrid D:\\Projects\\Pr\\3317.20\\Toeleveringen\\divide\\vak11\\vak11_2016042000000.tif D:\\Projects\\Pr\\3317.20\\Toeleveringen\\divide\\vak11/asc\\vak11_2016042000000.asc\n",
      "vak12_2015091000000\n",
      "C:\\Python35\\Lib\\site-packages\\osgeo//gdal_translate.exe -of AAIGrid D:\\Projects\\Pr\\3317.20\\Toeleveringen\\divide\\vak12\\vak12_2015091000000.tif D:\\Projects\\Pr\\3317.20\\Toeleveringen\\divide\\vak12/asc\\vak12_2015091000000.asc\n",
      "vak12_2015110000000\n",
      "C:\\Python35\\Lib\\site-packages\\osgeo//gdal_translate.exe -of AAIGrid D:\\Projects\\Pr\\3317.20\\Toeleveringen\\divide\\vak12\\vak12_2015110000000.tif D:\\Projects\\Pr\\3317.20\\Toeleveringen\\divide\\vak12/asc\\vak12_2015110000000.asc\n",
      "vak12_2016010000000\n",
      "C:\\Python35\\Lib\\site-packages\\osgeo//gdal_translate.exe -of AAIGrid D:\\Projects\\Pr\\3317.20\\Toeleveringen\\divide\\vak12\\vak12_2016010000000.tif D:\\Projects\\Pr\\3317.20\\Toeleveringen\\divide\\vak12/asc\\vak12_2016010000000.asc\n",
      "vak12_2016030000000\n",
      "C:\\Python35\\Lib\\site-packages\\osgeo//gdal_translate.exe -of AAIGrid D:\\Projects\\Pr\\3317.20\\Toeleveringen\\divide\\vak12\\vak12_2016030000000.tif D:\\Projects\\Pr\\3317.20\\Toeleveringen\\divide\\vak12/asc\\vak12_2016030000000.asc\n",
      "vak12_2016042000000\n",
      "C:\\Python35\\Lib\\site-packages\\osgeo//gdal_translate.exe -of AAIGrid D:\\Projects\\Pr\\3317.20\\Toeleveringen\\divide\\vak12\\vak12_2016042000000.tif D:\\Projects\\Pr\\3317.20\\Toeleveringen\\divide\\vak12/asc\\vak12_2016042000000.asc\n",
      "vak13_2015090000000\n",
      "C:\\Python35\\Lib\\site-packages\\osgeo//gdal_translate.exe -of AAIGrid D:\\Projects\\Pr\\3317.20\\Toeleveringen\\divide\\vak13\\vak13_2015090000000.tif D:\\Projects\\Pr\\3317.20\\Toeleveringen\\divide\\vak13/asc\\vak13_2015090000000.asc\n",
      "vak13_2015110000000\n",
      "C:\\Python35\\Lib\\site-packages\\osgeo//gdal_translate.exe -of AAIGrid D:\\Projects\\Pr\\3317.20\\Toeleveringen\\divide\\vak13\\vak13_2015110000000.tif D:\\Projects\\Pr\\3317.20\\Toeleveringen\\divide\\vak13/asc\\vak13_2015110000000.asc\n",
      "vak13_2016010000000\n",
      "C:\\Python35\\Lib\\site-packages\\osgeo//gdal_translate.exe -of AAIGrid D:\\Projects\\Pr\\3317.20\\Toeleveringen\\divide\\vak13\\vak13_2016010000000.tif D:\\Projects\\Pr\\3317.20\\Toeleveringen\\divide\\vak13/asc\\vak13_2016010000000.asc\n",
      "vak13_2016030000000\n",
      "C:\\Python35\\Lib\\site-packages\\osgeo//gdal_translate.exe -of AAIGrid D:\\Projects\\Pr\\3317.20\\Toeleveringen\\divide\\vak13\\vak13_2016030000000.tif D:\\Projects\\Pr\\3317.20\\Toeleveringen\\divide\\vak13/asc\\vak13_2016030000000.asc\n",
      "vak14_2015090000000\n",
      "C:\\Python35\\Lib\\site-packages\\osgeo//gdal_translate.exe -of AAIGrid D:\\Projects\\Pr\\3317.20\\Toeleveringen\\divide\\vak14\\vak14_2015090000000.tif D:\\Projects\\Pr\\3317.20\\Toeleveringen\\divide\\vak14/asc\\vak14_2015090000000.asc\n",
      "vak14_2015102000000\n",
      "C:\\Python35\\Lib\\site-packages\\osgeo//gdal_translate.exe -of AAIGrid D:\\Projects\\Pr\\3317.20\\Toeleveringen\\divide\\vak14\\vak14_2015102000000.tif D:\\Projects\\Pr\\3317.20\\Toeleveringen\\divide\\vak14/asc\\vak14_2015102000000.asc\n",
      "vak14_2016010000000\n",
      "C:\\Python35\\Lib\\site-packages\\osgeo//gdal_translate.exe -of AAIGrid D:\\Projects\\Pr\\3317.20\\Toeleveringen\\divide\\vak14\\vak14_2016010000000.tif D:\\Projects\\Pr\\3317.20\\Toeleveringen\\divide\\vak14/asc\\vak14_2016010000000.asc\n",
      "vak14_2016030000000\n",
      "C:\\Python35\\Lib\\site-packages\\osgeo//gdal_translate.exe -of AAIGrid D:\\Projects\\Pr\\3317.20\\Toeleveringen\\divide\\vak14\\vak14_2016030000000.tif D:\\Projects\\Pr\\3317.20\\Toeleveringen\\divide\\vak14/asc\\vak14_2016030000000.asc\n",
      "vak14_2016042000000\n",
      "C:\\Python35\\Lib\\site-packages\\osgeo//gdal_translate.exe -of AAIGrid D:\\Projects\\Pr\\3317.20\\Toeleveringen\\divide\\vak14\\vak14_2016042000000.tif D:\\Projects\\Pr\\3317.20\\Toeleveringen\\divide\\vak14/asc\\vak14_2016042000000.asc\n",
      "vak15_2016011000000\n",
      "C:\\Python35\\Lib\\site-packages\\osgeo//gdal_translate.exe -of AAIGrid D:\\Projects\\Pr\\3317.20\\Toeleveringen\\divide\\vak15\\vak15_2016011000000.tif D:\\Projects\\Pr\\3317.20\\Toeleveringen\\divide\\vak15/asc\\vak15_2016011000000.asc\n",
      "vak15_2016042000000\n",
      "C:\\Python35\\Lib\\site-packages\\osgeo//gdal_translate.exe -of AAIGrid D:\\Projects\\Pr\\3317.20\\Toeleveringen\\divide\\vak15\\vak15_2016042000000.tif D:\\Projects\\Pr\\3317.20\\Toeleveringen\\divide\\vak15/asc\\vak15_2016042000000.asc\n",
      "vak16_2015090000000\n",
      "C:\\Python35\\Lib\\site-packages\\osgeo//gdal_translate.exe -of AAIGrid D:\\Projects\\Pr\\3317.20\\Toeleveringen\\divide\\vak16\\vak16_2015090000000.tif D:\\Projects\\Pr\\3317.20\\Toeleveringen\\divide\\vak16/asc\\vak16_2015090000000.asc\n",
      "vak16_2015110000000\n",
      "C:\\Python35\\Lib\\site-packages\\osgeo//gdal_translate.exe -of AAIGrid D:\\Projects\\Pr\\3317.20\\Toeleveringen\\divide\\vak16\\vak16_2015110000000.tif D:\\Projects\\Pr\\3317.20\\Toeleveringen\\divide\\vak16/asc\\vak16_2015110000000.asc\n",
      "vak16_2016010000000\n",
      "C:\\Python35\\Lib\\site-packages\\osgeo//gdal_translate.exe -of AAIGrid D:\\Projects\\Pr\\3317.20\\Toeleveringen\\divide\\vak16\\vak16_2016010000000.tif D:\\Projects\\Pr\\3317.20\\Toeleveringen\\divide\\vak16/asc\\vak16_2016010000000.asc\n",
      "vak16_2016030000000\n",
      "C:\\Python35\\Lib\\site-packages\\osgeo//gdal_translate.exe -of AAIGrid D:\\Projects\\Pr\\3317.20\\Toeleveringen\\divide\\vak16\\vak16_2016030000000.tif D:\\Projects\\Pr\\3317.20\\Toeleveringen\\divide\\vak16/asc\\vak16_2016030000000.asc\n",
      "vak16_2016050000000\n",
      "C:\\Python35\\Lib\\site-packages\\osgeo//gdal_translate.exe -of AAIGrid D:\\Projects\\Pr\\3317.20\\Toeleveringen\\divide\\vak16\\vak16_2016050000000.tif D:\\Projects\\Pr\\3317.20\\Toeleveringen\\divide\\vak16/asc\\vak16_2016050000000.asc\n",
      "vak17_2015090000000\n",
      "C:\\Python35\\Lib\\site-packages\\osgeo//gdal_translate.exe -of AAIGrid D:\\Projects\\Pr\\3317.20\\Toeleveringen\\divide\\vak17\\vak17_2015090000000.tif D:\\Projects\\Pr\\3317.20\\Toeleveringen\\divide\\vak17/asc\\vak17_2015090000000.asc\n",
      "vak17_2015110000000\n",
      "C:\\Python35\\Lib\\site-packages\\osgeo//gdal_translate.exe -of AAIGrid D:\\Projects\\Pr\\3317.20\\Toeleveringen\\divide\\vak17\\vak17_2015110000000.tif D:\\Projects\\Pr\\3317.20\\Toeleveringen\\divide\\vak17/asc\\vak17_2015110000000.asc\n",
      "vak17_2016022000000\n",
      "C:\\Python35\\Lib\\site-packages\\osgeo//gdal_translate.exe -of AAIGrid D:\\Projects\\Pr\\3317.20\\Toeleveringen\\divide\\vak17\\vak17_2016022000000.tif D:\\Projects\\Pr\\3317.20\\Toeleveringen\\divide\\vak17/asc\\vak17_2016022000000.asc\n",
      "vak18_2015102000000\n",
      "C:\\Python35\\Lib\\site-packages\\osgeo//gdal_translate.exe -of AAIGrid D:\\Projects\\Pr\\3317.20\\Toeleveringen\\divide\\vak18\\vak18_2015102000000.tif D:\\Projects\\Pr\\3317.20\\Toeleveringen\\divide\\vak18/asc\\vak18_2015102000000.asc\n",
      "vak19_2016042000000_m\n",
      "C:\\Python35\\Lib\\site-packages\\osgeo//gdal_translate.exe -of AAIGrid D:\\Projects\\Pr\\3317.20\\Toeleveringen\\divide\\vak19\\vak19_2016042000000_m.tif D:\\Projects\\Pr\\3317.20\\Toeleveringen\\divide\\vak19/asc\\vak19_2016042000000_m.asc\n",
      "vak20_2015091000000\n",
      "C:\\Python35\\Lib\\site-packages\\osgeo//gdal_translate.exe -of AAIGrid D:\\Projects\\Pr\\3317.20\\Toeleveringen\\divide\\vak20\\vak20_2015091000000.tif D:\\Projects\\Pr\\3317.20\\Toeleveringen\\divide\\vak20/asc\\vak20_2015091000000.asc\n",
      "vak20_2015102000000\n",
      "C:\\Python35\\Lib\\site-packages\\osgeo//gdal_translate.exe -of AAIGrid D:\\Projects\\Pr\\3317.20\\Toeleveringen\\divide\\vak20\\vak20_2015102000000.tif D:\\Projects\\Pr\\3317.20\\Toeleveringen\\divide\\vak20/asc\\vak20_2015102000000.asc\n",
      "vak20_2016010000000\n",
      "C:\\Python35\\Lib\\site-packages\\osgeo//gdal_translate.exe -of AAIGrid D:\\Projects\\Pr\\3317.20\\Toeleveringen\\divide\\vak20\\vak20_2016010000000.tif D:\\Projects\\Pr\\3317.20\\Toeleveringen\\divide\\vak20/asc\\vak20_2016010000000.asc\n",
      "vak20_2016030000000\n",
      "C:\\Python35\\Lib\\site-packages\\osgeo//gdal_translate.exe -of AAIGrid D:\\Projects\\Pr\\3317.20\\Toeleveringen\\divide\\vak20\\vak20_2016030000000.tif D:\\Projects\\Pr\\3317.20\\Toeleveringen\\divide\\vak20/asc\\vak20_2016030000000.asc\n",
      "vak20_2016050000000\n",
      "C:\\Python35\\Lib\\site-packages\\osgeo//gdal_translate.exe -of AAIGrid D:\\Projects\\Pr\\3317.20\\Toeleveringen\\divide\\vak20\\vak20_2016050000000.tif D:\\Projects\\Pr\\3317.20\\Toeleveringen\\divide\\vak20/asc\\vak20_2016050000000.asc\n",
      "vak21_2015090000000\n",
      "C:\\Python35\\Lib\\site-packages\\osgeo//gdal_translate.exe -of AAIGrid D:\\Projects\\Pr\\3317.20\\Toeleveringen\\divide\\vak21\\vak21_2015090000000.tif D:\\Projects\\Pr\\3317.20\\Toeleveringen\\divide\\vak21/asc\\vak21_2015090000000.asc\n",
      "vak21_2015102000000\n",
      "C:\\Python35\\Lib\\site-packages\\osgeo//gdal_translate.exe -of AAIGrid D:\\Projects\\Pr\\3317.20\\Toeleveringen\\divide\\vak21\\vak21_2015102000000.tif D:\\Projects\\Pr\\3317.20\\Toeleveringen\\divide\\vak21/asc\\vak21_2015102000000.asc\n",
      "vak21_2016010000000\n",
      "C:\\Python35\\Lib\\site-packages\\osgeo//gdal_translate.exe -of AAIGrid D:\\Projects\\Pr\\3317.20\\Toeleveringen\\divide\\vak21\\vak21_2016010000000.tif D:\\Projects\\Pr\\3317.20\\Toeleveringen\\divide\\vak21/asc\\vak21_2016010000000.asc\n",
      "vak21_2016030000000\n",
      "C:\\Python35\\Lib\\site-packages\\osgeo//gdal_translate.exe -of AAIGrid D:\\Projects\\Pr\\3317.20\\Toeleveringen\\divide\\vak21\\vak21_2016030000000.tif D:\\Projects\\Pr\\3317.20\\Toeleveringen\\divide\\vak21/asc\\vak21_2016030000000.asc\n",
      "vak21_2016042000000\n",
      "C:\\Python35\\Lib\\site-packages\\osgeo//gdal_translate.exe -of AAIGrid D:\\Projects\\Pr\\3317.20\\Toeleveringen\\divide\\vak21\\vak21_2016042000000.tif D:\\Projects\\Pr\\3317.20\\Toeleveringen\\divide\\vak21/asc\\vak21_2016042000000.asc\n",
      "vak22_2015090000000\n",
      "C:\\Python35\\Lib\\site-packages\\osgeo//gdal_translate.exe -of AAIGrid D:\\Projects\\Pr\\3317.20\\Toeleveringen\\divide\\vak22\\vak22_2015090000000.tif D:\\Projects\\Pr\\3317.20\\Toeleveringen\\divide\\vak22/asc\\vak22_2015090000000.asc\n",
      "vak22_2015102000000\n",
      "C:\\Python35\\Lib\\site-packages\\osgeo//gdal_translate.exe -of AAIGrid D:\\Projects\\Pr\\3317.20\\Toeleveringen\\divide\\vak22\\vak22_2015102000000.tif D:\\Projects\\Pr\\3317.20\\Toeleveringen\\divide\\vak22/asc\\vak22_2015102000000.asc\n",
      "vak22_2016010000000\n",
      "C:\\Python35\\Lib\\site-packages\\osgeo//gdal_translate.exe -of AAIGrid D:\\Projects\\Pr\\3317.20\\Toeleveringen\\divide\\vak22\\vak22_2016010000000.tif D:\\Projects\\Pr\\3317.20\\Toeleveringen\\divide\\vak22/asc\\vak22_2016010000000.asc\n",
      "vak22_2016030000000\n",
      "C:\\Python35\\Lib\\site-packages\\osgeo//gdal_translate.exe -of AAIGrid D:\\Projects\\Pr\\3317.20\\Toeleveringen\\divide\\vak22\\vak22_2016030000000.tif D:\\Projects\\Pr\\3317.20\\Toeleveringen\\divide\\vak22/asc\\vak22_2016030000000.asc\n",
      "vak23_2015090000000\n",
      "C:\\Python35\\Lib\\site-packages\\osgeo//gdal_translate.exe -of AAIGrid D:\\Projects\\Pr\\3317.20\\Toeleveringen\\divide\\vak23\\vak23_2015090000000.tif D:\\Projects\\Pr\\3317.20\\Toeleveringen\\divide\\vak23/asc\\vak23_2015090000000.asc\n",
      "vak23_2015102000000\n",
      "C:\\Python35\\Lib\\site-packages\\osgeo//gdal_translate.exe -of AAIGrid D:\\Projects\\Pr\\3317.20\\Toeleveringen\\divide\\vak23\\vak23_2015102000000.tif D:\\Projects\\Pr\\3317.20\\Toeleveringen\\divide\\vak23/asc\\vak23_2015102000000.asc\n",
      "vak23_2016010000000\n",
      "C:\\Python35\\Lib\\site-packages\\osgeo//gdal_translate.exe -of AAIGrid D:\\Projects\\Pr\\3317.20\\Toeleveringen\\divide\\vak23\\vak23_2016010000000.tif D:\\Projects\\Pr\\3317.20\\Toeleveringen\\divide\\vak23/asc\\vak23_2016010000000.asc\n",
      "vak23_2016030000000\n",
      "C:\\Python35\\Lib\\site-packages\\osgeo//gdal_translate.exe -of AAIGrid D:\\Projects\\Pr\\3317.20\\Toeleveringen\\divide\\vak23\\vak23_2016030000000.tif D:\\Projects\\Pr\\3317.20\\Toeleveringen\\divide\\vak23/asc\\vak23_2016030000000.asc\n",
      "vak23_2016042000000\n",
      "C:\\Python35\\Lib\\site-packages\\osgeo//gdal_translate.exe -of AAIGrid D:\\Projects\\Pr\\3317.20\\Toeleveringen\\divide\\vak23\\vak23_2016042000000.tif D:\\Projects\\Pr\\3317.20\\Toeleveringen\\divide\\vak23/asc\\vak23_2016042000000.asc\n",
      "vak24_2016042000000\n",
      "C:\\Python35\\Lib\\site-packages\\osgeo//gdal_translate.exe -of AAIGrid D:\\Projects\\Pr\\3317.20\\Toeleveringen\\divide\\vak24\\vak24_2016042000000.tif D:\\Projects\\Pr\\3317.20\\Toeleveringen\\divide\\vak24/asc\\vak24_2016042000000.asc\n"
     ]
    }
   ],
   "source": [
    "for i in range(7,25):\n",
    "    directory = r'D:\\Projects\\Pr\\3317.20\\Toeleveringen\\divide\\vak'+str(i)\n",
    "    asc_dir = r'D:\\Projects\\Pr\\3317.20\\Toeleveringen\\divide\\vak'+str(i)+\"/asc\"\n",
    "    gdal_translate = r'C:\\Python35\\Lib\\site-packages\\osgeo//gdal_translate.exe'\n",
    "\n",
    "    for root, dirs, files in os.walk(directory):\n",
    "        for file in files:\n",
    "            if file.endswith('.tif'):\n",
    "                old_name = os.path.join( os.path.abspath(root), file )\n",
    "                base, extension = os.path.splitext(file)\n",
    "                print (base)\n",
    "\n",
    "                # convert tif to asc\n",
    "                asc_out = os.path.join(asc_dir,base+'.asc')\n",
    "                command = [gdal_translate, '-of','AAIGrid',old_name,asc_out]\n",
    "                print (sp.list2cmdline(command))\n",
    "                norm = sp.Popen(sp.list2cmdline(command),stdout=sp.PIPE, shell=True)\n",
    "                norm.communicate()"
   ]
  },
  {
   "cell_type": "code",
   "execution_count": 19,
   "metadata": {
    "collapsed": false
   },
   "outputs": [
    {
     "name": "stdout",
     "output_type": "stream",
     "text": [
      "vak6_20150903000000\n",
      "C:\\Python35\\Lib\\site-packages\\osgeo//gdal_translate.exe -of AAIGrid D:\\Projects\\Pr\\3317.20\\Toeleveringen\\divide\\vak6\\vak6_20150903000000.tif D:\\Projects\\Pr\\3317.20\\Toeleveringen\\divide\\vak6\\asc\\vak6_20150903000000.asc\n",
      "vak6_20150914000000\n",
      "C:\\Python35\\Lib\\site-packages\\osgeo//gdal_translate.exe -of AAIGrid D:\\Projects\\Pr\\3317.20\\Toeleveringen\\divide\\vak6\\vak6_20150914000000.tif D:\\Projects\\Pr\\3317.20\\Toeleveringen\\divide\\vak6\\asc\\vak6_20150914000000.asc\n",
      "vak6_20151028000000\n",
      "C:\\Python35\\Lib\\site-packages\\osgeo//gdal_translate.exe -of AAIGrid D:\\Projects\\Pr\\3317.20\\Toeleveringen\\divide\\vak6\\vak6_20151028000000.tif D:\\Projects\\Pr\\3317.20\\Toeleveringen\\divide\\vak6\\asc\\vak6_20151028000000.asc\n",
      "vak6_20160113000000\n",
      "C:\\Python35\\Lib\\site-packages\\osgeo//gdal_translate.exe -of AAIGrid D:\\Projects\\Pr\\3317.20\\Toeleveringen\\divide\\vak6\\vak6_20160113000000.tif D:\\Projects\\Pr\\3317.20\\Toeleveringen\\divide\\vak6\\asc\\vak6_20160113000000.asc\n",
      "vak6_20160302000000\n",
      "C:\\Python35\\Lib\\site-packages\\osgeo//gdal_translate.exe -of AAIGrid D:\\Projects\\Pr\\3317.20\\Toeleveringen\\divide\\vak6\\vak6_20160302000000.tif D:\\Projects\\Pr\\3317.20\\Toeleveringen\\divide\\vak6\\asc\\vak6_20160302000000.asc\n",
      "vak6_20160309000000\n",
      "C:\\Python35\\Lib\\site-packages\\osgeo//gdal_translate.exe -of AAIGrid D:\\Projects\\Pr\\3317.20\\Toeleveringen\\divide\\vak6\\vak6_20160309000000.tif D:\\Projects\\Pr\\3317.20\\Toeleveringen\\divide\\vak6\\asc\\vak6_20160309000000.asc\n",
      "vak6_20160428000000\n",
      "C:\\Python35\\Lib\\site-packages\\osgeo//gdal_translate.exe -of AAIGrid D:\\Projects\\Pr\\3317.20\\Toeleveringen\\divide\\vak6\\vak6_20160428000000.tif D:\\Projects\\Pr\\3317.20\\Toeleveringen\\divide\\vak6\\asc\\vak6_20160428000000.asc\n"
     ]
    }
   ],
   "source": [
    "directory = r'D:\\Projects\\Pr\\3317.20\\Toeleveringen\\divide\\vak'+str(i)\n",
    "asc_dir = r'D:\\Projects\\Pr\\3317.20\\Toeleveringen\\divide\\vak'+str(i)+'\\asc'\n",
    "gdal_translate = r'C:\\Python35\\Lib\\site-packages\\osgeo//gdal_translate.exe'\n",
    "\n",
    "for root, dirs, files in os.walk(directory):\n",
    "    for file in files:\n",
    "        if file.endswith('.tif'):\n",
    "            old_name = os.path.join( os.path.abspath(root), file )\n",
    "            base, extension = os.path.splitext(file)\n",
    "            print (base)\n",
    "            \n",
    "            # convert tif to asc\n",
    "            asc_out = os.path.join(asc_dir,base+'.asc')\n",
    "            command = [gdal_translate, '-of','AAIGrid',old_name,asc_out]\n",
    "            print (sp.list2cmdline(command))\n",
    "            norm = sp.Popen(sp.list2cmdline(command),stdout=sp.PIPE, shell=True)\n",
    "            norm.communicate()"
   ]
  },
  {
   "cell_type": "code",
   "execution_count": null,
   "metadata": {
    "collapsed": true
   },
   "outputs": [],
   "source": []
  }
 ],
 "metadata": {
  "kernelspec": {
   "display_name": "Python 3",
   "language": "python",
   "name": "python3"
  },
  "language_info": {
   "codemirror_mode": {
    "name": "ipython",
    "version": 3
   },
   "file_extension": ".py",
   "mimetype": "text/x-python",
   "name": "python",
   "nbconvert_exporter": "python",
   "pygments_lexer": "ipython3",
   "version": "3.5.2"
  }
 },
 "nbformat": 4,
 "nbformat_minor": 0
}
