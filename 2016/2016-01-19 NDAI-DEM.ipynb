{
 "cells": [
  {
   "cell_type": "code",
   "execution_count": 1,
   "metadata": {
    "collapsed": false
   },
   "outputs": [],
   "source": [
    "import matplotlib.pyplot as plt\n",
    "import numpy as np\n",
    "import math\n",
    "%matplotlib inline"
   ]
  },
  {
   "cell_type": "markdown",
   "metadata": {},
   "source": [
    "<p>The traditional NDAI is computed as follow:</p>\n",
    "$$\n",
    "NDAI_{ijk} = \\alpha\\cdot NVAI_{ijk} - (1-\\alpha)\\cdot NTAI_{ijk}\n",
    "$$<p>Where $NDAI_{ijk}$ is the NDAI-value for pixel $i$ during day $j$ for year $k$. $NVAI_{ijk}$ is the NVAI-value for pixel $i$ during day $j$ for year $k$, $NTAI_{ijk}$ is the NTAI-value for pixel $i$ during day $j$ for year $k$ and $\\alpha$ is used to set the importance of each separated condition index and should have a value between $0$ and $1$ and is normally set to $0.5$.</p>"
   ]
  },
  {
   "cell_type": "markdown",
   "metadata": {},
   "source": [
    "<p>The elevation corrected NDAI, NDAI-DEM is computed as follow:</p>\n",
    "<p>\n",
    "$$\n",
    "\\DeclareMathOperator\\erf{erf}\n",
    "NDAI\\text{-}DEM_{ijk} = \\alpha\\cdot NVAI_{ijk} - (1-\\alpha)\\cdot NTAI_{ijk} \\cdot -\\erf(DEM_{norm})\n",
    "$$\n",
    "</p><p>Where $NDAI\\text{-}DEM_{ijk}$ is the NDAI-DEM-value for pixel $i$ during day $j$ for year $k$. $NVAI_{ijk}$ is the NVAI-value for pixel $i$ during day $j$ for year $k$, $NTAI_{ijk}$ is the NTAI-value for pixel $i$ during day $j$ for year $k$ and $\\alpha$ is used to set the importance of each separated condition index and should have a value between $0$ and $1$ and is normally set to $0.5$.\n",
    "</p>\n",
    "$\\erf()$ is defined as the error function of sigmoid shape defined as:\n",
    "<p>\n",
    "$$ \n",
    "\\erf(DEM_{norm}) = \\frac{2}{\\sqrt{\\pi}}\\int_0^{DEM_{norm}} \\! e^{-t^2} \\, \\mathrm{d}x\n",
    "$$\n",
    "</p>\n",
    "and the $DEM_{norm}$ is the normalised digital elevation model (DEM) computed in two-steps as follow:<br>\n",
    "<p>\n",
    "$$\n",
    "N_{DEM} = \\frac{DEM - DEM_{Med}}{\\max{DEM} - \\min{DEM}}\n",
    "$$\n",
    "</p>\n",
    "<p>\n",
    "where $DEM_{Med}$ is the median of $DEM$ and $\\max{DEM}$ and $\\min{DEM}$ the maximum and minimum respectively. The resulting $N_{DEM}$ is scaled between $-3$ and $3$ to follow the appropriate shape of the error function:<br>\n",
    "</p>\n",
    "<p>\n",
    "$$\n",
    "DEM_{norm} = \\frac{(c-b)(N_{DEM} - \\min{N_{DEM}})}{\\max{N_{DEM}} - \\min{N_{DEM}}} + b\n",
    "$$\n",
    "</p>\n",
    "where $b$ is $-3$ and $c$ is $3$"
   ]
  },
  {
   "cell_type": "code",
   "execution_count": 2,
   "metadata": {
    "collapsed": true
   },
   "outputs": [],
   "source": [
    "def errorfunction(x):\n",
    "    a = []\n",
    "    for item in x:\n",
    "        a.append(-1*math.erf(item))\n",
    "    return a\n",
    "\n",
    "def erf(x):\n",
    "    return -1*math.erf(x)"
   ]
  },
  {
   "cell_type": "code",
   "execution_count": 4,
   "metadata": {
    "collapsed": false
   },
   "outputs": [],
   "source": [
    "x = np.arange(-3., 3., 0.1)\n",
    "erfP = errorfunction(x)"
   ]
  },
  {
   "cell_type": "code",
   "execution_count": 5,
   "metadata": {
    "collapsed": false
   },
   "outputs": [
    {
     "data": {
      "image/png": "[encoded data removed]",
      "text/plain": [
       "<matplotlib.figure.Figure at 0x5f6fe50>"
      ]
     },
     "metadata": {},
     "output_type": "display_data"
    }
   ],
   "source": [
    "plt.plot(x,erfP)\n",
    "plt.show()"
   ]
  },
  {
   "cell_type": "code",
   "execution_count": 6,
   "metadata": {
    "collapsed": false
   },
   "outputs": [
    {
     "data": {
      "text/plain": [
       "[<matplotlib.lines.Line2D at 0x6184b30>]"
      ]
     },
     "execution_count": 6,
     "metadata": {},
     "output_type": "execute_result"
    },
    {
     "data": {
      "image/png": "[encoded data removed]",
      "text/plain": [
       "<matplotlib.figure.Figure at 0x60d8770>"
      ]
     },
     "metadata": {},
     "output_type": "display_data"
    }
   ],
   "source": [
    "dem = np.array([1,2,4,8,16,32,64,128,256,512,1024,2048,4096,8192])\n",
    "plt.plot(dem)"
   ]
  },
  {
   "cell_type": "code",
   "execution_count": 7,
   "metadata": {
    "collapsed": false
   },
   "outputs": [],
   "source": [
    "normed = (dem - np.median(dem)) / (dem.max() - dem.min())\n",
    "b = -3\n",
    "c = 3\n",
    "outputX = (((c-b)*(normed - normed.min())) / (normed.max() - normed.min())) + b"
   ]
  },
  {
   "cell_type": "code",
   "execution_count": 8,
   "metadata": {
    "collapsed": false
   },
   "outputs": [
    {
     "name": "stdout",
     "output_type": "stream",
     "text": [
      "[-0.025008283936374498, -0.025008322272212613, -0.02500839945104516, -0.02500855585708378, -0.02500887702296556, -0.025009554090304142, -0.025011058363661187, -0.025014768110567576, -0.02502600905419161, -0.025076720828514254, -0.025546804499557707, -0.03768608837891735, -0.3998450217914514, -0.7749917160636255]\n",
      "[-0.025000000000000022, -0.025000000000000022, -0.025000000000000022, -0.025000000000000022, -0.025000000000000022, -0.025000000000000022, -0.025000000000000022, -0.025000000000000022, -0.025000000000000022, -0.025000000000000022, -0.025000000000000022, -0.025000000000000022, -0.025000000000000022, -0.025000000000000022]\n"
     ]
    }
   ],
   "source": [
    "a = 0.5\n",
    "NVAI = -0.8\n",
    "NTAI = -0.75\n",
    "NDAI_DEM = []\n",
    "NDAI = []\n",
    "for NDEM in outputX:\n",
    "    #print i\n",
    "    NDAI_DEM.append(a * NVAI - (1-a) * NTAI * erf(NDEM))\n",
    "    NDAI.append(a * NVAI - (1-a) * NTAI)\n",
    "print NDAI_DEM\n",
    "print NDAI"
   ]
  },
  {
   "cell_type": "code",
   "execution_count": 9,
   "metadata": {
    "collapsed": false
   },
   "outputs": [
    {
     "data": {
      "text/plain": [
       "<matplotlib.legend.Legend at 0x60320b0>"
      ]
     },
     "execution_count": 9,
     "metadata": {},
     "output_type": "execute_result"
    },
    {
     "data": {
      "image/png": "[encoded data removed]",
      "text/plain": [
       "<matplotlib.figure.Figure at 0x6223f30>"
      ]
     },
     "metadata": {},
     "output_type": "display_data"
    }
   ],
   "source": [
    "plt.plot(dem,NDAI_DEM, label=\"NDAI-DEM\")\n",
    "plt.plot(dem,NDAI, label=\"NDAI\")\n",
    "plt.xlabel('elevation')\n",
    "plt.ylabel('ndai / ndai-dem')\n",
    "plt.legend(loc=3)"
   ]
  },
  {
   "cell_type": "code",
   "execution_count": null,
   "metadata": {
    "collapsed": true
   },
   "outputs": [],
   "source": []
  }
 ],
 "metadata": {
  "kernelspec": {
   "display_name": "Python 2",
   "language": "python",
   "name": "python2"
  },
  "language_info": {
   "codemirror_mode": {
    "name": "ipython",
    "version": 2
   },
   "file_extension": ".py",
   "mimetype": "text/x-python",
   "name": "python",
   "nbconvert_exporter": "python",
   "pygments_lexer": "ipython2",
   "version": "2.7.8"
  }
 },
 "nbformat": 4,
 "nbformat_minor": 0
}
