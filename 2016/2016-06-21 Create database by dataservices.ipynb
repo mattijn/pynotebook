{
 "cells": [
  {
   "cell_type": "code",
   "execution_count": 1,
   "metadata": {
    "collapsed": true,
    "deletable": true,
    "editable": true
   },
   "outputs": [],
   "source": [
    "import requests\n",
    "import urllib.parse\n",
    "import zeep"
   ]
  },
  {
   "cell_type": "code",
   "execution_count": null,
   "metadata": {
    "collapsed": true
   },
   "outputs": [],
   "source": []
  },
  {
   "cell_type": "code",
   "execution_count": 9,
   "metadata": {
    "collapsed": false
   },
   "outputs": [],
   "source": [
    "class dataportal(object):\n",
    "    \n",
    "    class errors(object):\n",
    "        def nosetDataservice():     \n",
    "            raise AttributeError('dataservice not known. set first using hkv.setDataservice()') \n",
    "    \n",
    "    def setDataservice(self, dataservice):\n",
    "        \"\"\"\n",
    "        function to set URL for dataservice to be used in other functions\n",
    "        \"\"\"\n",
    "        setattr(dataportal, 'dataservice', dataservice)\n",
    "        wsdl = urllib.parse.urljoin(self.dataservice,'database.asmx?WSDL')     \n",
    "        self.client = zeep.Client(wsdl=wsdl)                                    \n",
    "        return print(self.dataservice, 'will be used as portal')\n",
    "        \n",
    "    def createDatabase(self,database):\n",
    "        \"\"\"\n",
    "        Create database\n",
    "        \"\"\"\n",
    "        if not hasattr(self, 'dataservice'):\n",
    "            self.errors.nosetDataservice()\n",
    "            \n",
    "        url = urllib.parse.urljoin(self.dataservice,'database.asmx/create?database='+database)\n",
    "        r = requests.get(url)\n",
    "        return r.json()\n",
    "\n",
    "    def infoDatabase(self,database):\n",
    "        \"\"\"\n",
    "        Check database version\n",
    "        \"\"\"\n",
    "        if not hasattr(self, 'dataservice'):\n",
    "            self.errors.nosetDataservice()        \n",
    "        url = urllib.parse.urljoin(self.dataservice,'database.asmx/create?database='+database)\n",
    "        r = requests.get(url)\n",
    "        return r.json()\n",
    "\n",
    "    def setEntryDatabase(self,database, entry, data):\n",
    "        if not hasattr(self, 'dataservice'):\n",
    "            self.errors.nosetDataservice() \n",
    "        \n",
    "        # Add entry to database (becomes BLOB)\n",
    "        zeep_out = self.client.service.create(database, entry, data)\n",
    "        return json.loads(zeep_out.decode('utf-8'))    \n",
    "\n",
    "    def getEntryDatabase(self,database, entry):\n",
    "        \"\"\"\n",
    "        Get entry after creater/insert\n",
    "        \"\"\"\n",
    "        if not hasattr(self, 'dataservice'):\n",
    "            self.errors.nosetDataservice()        \n",
    "        url = urllib.parse.urljoin(self.dataservice,'database.asmx/create?database='+database+'&key='+entry)\n",
    "        r = requests.get(url)\n",
    "        return r.json()\n",
    "\n",
    "    def deleteEntryDatabase(self,database, entry):\n",
    "        # delete data from database\n",
    "        if not hasattr(self, 'dataservice'):\n",
    "            self.errors.nosetDataservice()        \n",
    "        url = urllib.parse.urljoin(self.dataservice,'database.asmx/create?database='+database+'&key='+entry)\n",
    "        r = requests.get(url)\n",
    "        return r.json()\n",
    "dataportal = dataportal()    "
   ]
  },
  {
   "cell_type": "code",
   "execution_count": 10,
   "metadata": {
    "collapsed": false
   },
   "outputs": [],
   "source": [
    "dataservice = 'http://85.17.82.66/dataservices/'\n",
    "database = 'Myanmar'\n",
    "\n",
    "dataportal.setDataservice(dataservice=dataservice)\n",
    "\n",
    "dataportal.createDatabase(database=database)"
   ]
  },
  {
   "cell_type": "code",
   "execution_count": null,
   "metadata": {
    "collapsed": true
   },
   "outputs": [],
   "source": []
  },
  {
   "cell_type": "code",
   "execution_count": null,
   "metadata": {
    "collapsed": true
   },
   "outputs": [],
   "source": []
  },
  {
   "cell_type": "code",
   "execution_count": null,
   "metadata": {
    "collapsed": true
   },
   "outputs": [],
   "source": []
  },
  {
   "cell_type": "code",
   "execution_count": 16,
   "metadata": {
    "collapsed": true
   },
   "outputs": [],
   "source": [
    "import json"
   ]
  },
  {
   "cell_type": "code",
   "execution_count": 25,
   "metadata": {
    "collapsed": false,
    "deletable": true,
    "editable": true
   },
   "outputs": [
    {
     "data": {
      "text/plain": [
       "{'database': 'x3', 'date': '2017-06-23 22:24:41', 'version': '0.2.0.0'}"
      ]
     },
     "execution_count": 25,
     "metadata": {},
     "output_type": "execute_result"
    }
   ],
   "source": [
    "# Create database\n",
    "url = r'http://85.17.82.66/dataservices/database.asmx/create?database=x3'\n",
    "r = requests.get(url)\n",
    "r.json()"
   ]
  },
  {
   "cell_type": "code",
   "execution_count": 26,
   "metadata": {
    "collapsed": false,
    "deletable": true,
    "editable": true
   },
   "outputs": [
    {
     "data": {
      "text/plain": [
       "{'database': 'x3', 'date': '2017-06-23 22:24:41', 'version': '0.2.0.0'}"
      ]
     },
     "execution_count": 26,
     "metadata": {},
     "output_type": "execute_result"
    }
   ],
   "source": [
    "# Check database version\n",
    "url = r'http://85.17.82.66/dataservices/database.asmx/version?database=x3'\n",
    "r = requests.get(url)\n",
    "r.json()"
   ]
  },
  {
   "cell_type": "code",
   "execution_count": 27,
   "metadata": {
    "collapsed": false,
    "deletable": true,
    "editable": true
   },
   "outputs": [
    {
     "data": {
      "text/plain": [
       "{'data': [],\n",
       " 'database': 'x3',\n",
       " 'date': '2017-06-23 22:24:41',\n",
       " 'version': '0.2.0.0',\n",
       " 'visualisation': []}"
      ]
     },
     "execution_count": 27,
     "metadata": {},
     "output_type": "execute_result"
    }
   ],
   "source": [
    "# Check database info\n",
    "url = r'http://85.17.82.66/dataservices/database.asmx/info?database=x3'\n",
    "r = requests.get(url)\n",
    "json.loads(r.content.decode('utf-8'))"
   ]
  },
  {
   "cell_type": "code",
   "execution_count": 28,
   "metadata": {
    "collapsed": false,
    "deletable": true,
    "editable": true
   },
   "outputs": [
    {
     "name": "stdout",
     "output_type": "stream",
     "text": [
      "\n",
      "Prefixes:\n",
      "     ns0: http://tempuri.org/\n",
      "     xsd: http://www.w3.org/2001/XMLSchema\n",
      "\n",
      "Global elements:\n",
      "     ns0:create(database: xsd:string, key: xsd:string, description: xsd:string, data: xsd:string)\n",
      "     ns0:createResponse(createResult: xsd:string)\n",
      "     ns0:delete(database: xsd:string, key: xsd:string)\n",
      "     ns0:deleteResponse()\n",
      "     ns0:list(database: xsd:string)\n",
      "     ns0:listResponse()\n",
      "     ns0:read(database: xsd:string, key: xsd:string)\n",
      "     ns0:readResponse()\n",
      "     ns0:string(xsd:string)\n",
      "     ns0:update(database: xsd:string, key: xsd:string, description: xsd:string, data: xsd:string)\n",
      "     ns0:updateResponse(updateResult: xsd:string)\n",
      "     \n",
      "\n",
      "Global types:\n",
      "     xsd:anyType\n",
      "     xsd:ENTITIES\n",
      "     xsd:ENTITY\n",
      "     xsd:ID\n",
      "     xsd:IDREF\n",
      "     xsd:IDREFS\n",
      "     xsd:NCName\n",
      "     xsd:NMTOKEN\n",
      "     xsd:NMTOKENS\n",
      "     xsd:NOTATION\n",
      "     xsd:Name\n",
      "     xsd:QName\n",
      "     xsd:anySimpleType\n",
      "     xsd:anyURI\n",
      "     xsd:base64Binary\n",
      "     xsd:boolean\n",
      "     xsd:byte\n",
      "     xsd:date\n",
      "     xsd:dateTime\n",
      "     xsd:decimal\n",
      "     xsd:double\n",
      "     xsd:duration\n",
      "     xsd:float\n",
      "     xsd:gDay\n",
      "     xsd:gMonth\n",
      "     xsd:gMonthDay\n",
      "     xsd:gYear\n",
      "     xsd:gYearMonth\n",
      "     xsd:hexBinary\n",
      "     xsd:int\n",
      "     xsd:integer\n",
      "     xsd:language\n",
      "     xsd:long\n",
      "     xsd:negativeInteger\n",
      "     xsd:nonNegativeInteger\n",
      "     xsd:nonPositiveInteger\n",
      "     xsd:normalizedString\n",
      "     xsd:positiveInteger\n",
      "     xsd:short\n",
      "     xsd:string\n",
      "     xsd:time\n",
      "     xsd:token\n",
      "     xsd:unsignedByte\n",
      "     xsd:unsignedInt\n",
      "     xsd:unsignedLong\n",
      "     xsd:unsignedShort\n",
      "\n",
      "Bindings:\n",
      "     HttpGetBinding: {http://tempuri.org/}dataHttpGet\n",
      "     HttpPostBinding: {http://tempuri.org/}dataHttpPost\n",
      "     Soap11Binding: {http://tempuri.org/}dataSoap\n",
      "     Soap12Binding: {http://tempuri.org/}dataSoap12\n",
      "\n",
      "Service: data\n",
      "     Port: dataSoap (Soap11Binding: {http://tempuri.org/}dataSoap)\n",
      "         Operations:\n",
      "            create(database: xsd:string, key: xsd:string, description: xsd:string, data: xsd:string) -> createResult: xsd:string\n",
      "            delete(database: xsd:string, key: xsd:string) -> \n",
      "            list(database: xsd:string) -> \n",
      "            read(database: xsd:string, key: xsd:string) -> \n",
      "            update(database: xsd:string, key: xsd:string, description: xsd:string, data: xsd:string) -> updateResult: xsd:string\n",
      "\n",
      "     Port: dataSoap12 (Soap12Binding: {http://tempuri.org/}dataSoap12)\n",
      "         Operations:\n",
      "            create(database: xsd:string, key: xsd:string, description: xsd:string, data: xsd:string) -> createResult: xsd:string\n",
      "            delete(database: xsd:string, key: xsd:string) -> \n",
      "            list(database: xsd:string) -> \n",
      "            read(database: xsd:string, key: xsd:string) -> \n",
      "            update(database: xsd:string, key: xsd:string, description: xsd:string, data: xsd:string) -> updateResult: xsd:string\n",
      "\n",
      "     Port: dataHttpGet (HttpGetBinding: {http://tempuri.org/}dataHttpGet)\n",
      "         Operations:\n",
      "            create(database: xsd:string, key: xsd:string, description: xsd:string, data: xsd:string) -> xsd:string\n",
      "            delete(database: xsd:string, key: xsd:string)\n",
      "            list(database: xsd:string)\n",
      "            read(database: xsd:string, key: xsd:string)\n",
      "            update(database: xsd:string, key: xsd:string, description: xsd:string, data: xsd:string) -> xsd:string\n",
      "\n",
      "     Port: dataHttpPost (HttpPostBinding: {http://tempuri.org/}dataHttpPost)\n",
      "         Operations:\n",
      "            create(database: xsd:string, key: xsd:string, description: xsd:string, data: xsd:string) -> xsd:string\n",
      "            delete(database: xsd:string, key: xsd:string)\n",
      "            list(database: xsd:string)\n",
      "            read(database: xsd:string, key: xsd:string)\n",
      "            update(database: xsd:string, key: xsd:string, description: xsd:string, data: xsd:string) -> xsd:string\n",
      "\n"
     ]
    }
   ],
   "source": [
    "import zeep\n",
    "client = zeep.Client(wsdl='http://85.17.82.66/dataservices/data.asmx?WSDL')\n",
    "client.wsdl.dump()"
   ]
  },
  {
   "cell_type": "code",
   "execution_count": 29,
   "metadata": {
    "collapsed": false,
    "deletable": true,
    "editable": true
   },
   "outputs": [
    {
     "data": {
      "text/plain": [
       "{'date': '2017-06-23 22:24:47',\n",
       " 'id': '679fd623-fab0-42a2-891f-b925620c6ec7',\n",
       " 'key': 'example_key'}"
      ]
     },
     "execution_count": 29,
     "metadata": {},
     "output_type": "execute_result"
    }
   ],
   "source": [
    "# Set data using create datarecord\n",
    "zeep_out = client.service.create(database='x3', key='example_key',description='viewsdata',data='[10,9,8,7,6,5,4,3,2,1]')\n",
    "json.loads(zeep_out)"
   ]
  },
  {
   "cell_type": "code",
   "execution_count": null,
   "metadata": {
    "collapsed": true
   },
   "outputs": [],
   "source": []
  },
  {
   "cell_type": "code",
   "execution_count": 24,
   "metadata": {
    "collapsed": false,
    "deletable": true,
    "editable": true
   },
   "outputs": [
    {
     "data": {
      "text/plain": [
       "{'exception': 'database does not exists'}"
      ]
     },
     "execution_count": 24,
     "metadata": {},
     "output_type": "execute_result"
    }
   ],
   "source": [
    "# Overwrite set data using create is possible\n",
    "zeep_out = client.service.create(database='x3', key='example_key',description='viewsdata',data='[11,9,8,7,6,5,4,3,2,1]')\n",
    "json.loads(zeep_out)"
   ]
  },
  {
   "cell_type": "code",
   "execution_count": null,
   "metadata": {
    "collapsed": false,
    "deletable": true,
    "editable": true
   },
   "outputs": [],
   "source": [
    "# Get data after create datarecord\n",
    "url = r'http://85.17.82.66/dataservices/data.asmx/read?database=x3&key=example_key'\n",
    "r = requests.get(url)\n",
    "json.loads(r.content.decode('utf-8'))"
   ]
  },
  {
   "cell_type": "code",
   "execution_count": null,
   "metadata": {
    "collapsed": false,
    "deletable": true,
    "editable": true
   },
   "outputs": [],
   "source": [
    "# Also possible to use update\n",
    "#database: xsd:string, key: xsd:string, description: xsd:string, data: xsd:string\n",
    "zeep_out = client.service.update(database= 'x3', key='example_key',description='',data='[12,10,9,8,7,6,5,4,3,2,1]')\n",
    "json.loads(zeep_out)"
   ]
  },
  {
   "cell_type": "code",
   "execution_count": 31,
   "metadata": {
    "collapsed": false,
    "deletable": true,
    "editable": true
   },
   "outputs": [
    {
     "data": {
      "text/plain": [
       "[10, 9, 8, 7, 6, 5, 4, 3, 2, 1]"
      ]
     },
     "execution_count": 31,
     "metadata": {},
     "output_type": "execute_result"
    }
   ],
   "source": [
    "# Get data after update datarecord\n",
    "url = r'http://85.17.82.66/dataservices/data.asmx/read?database=x3&key=example_key'\n",
    "r = requests.get(url)\n",
    "json.loads(r.content.decode('utf-8'))"
   ]
  },
  {
   "cell_type": "code",
   "execution_count": null,
   "metadata": {
    "collapsed": false,
    "deletable": true,
    "editable": true
   },
   "outputs": [],
   "source": [
    "# delete data from database\n",
    "url = r'http://85.17.82.66/dataservices/data.asmx/delete?database=x3&key=example_key'\n",
    "r = requests.get(url)\n",
    "json.loads(r.content.decode('utf-8'))"
   ]
  },
  {
   "cell_type": "code",
   "execution_count": 30,
   "metadata": {
    "collapsed": false,
    "deletable": true,
    "editable": true
   },
   "outputs": [
    {
     "data": {
      "text/plain": [
       "[{'date': '2017-06-23 22:24:47',\n",
       "  'description': 'viewsdata',\n",
       "  'id': '679fd623-fab0-42a2-891f-b925620c6ec7',\n",
       "  'key': 'example_key'}]"
      ]
     },
     "execution_count": 30,
     "metadata": {},
     "output_type": "execute_result"
    }
   ],
   "source": [
    "# list data from database\n",
    "url = r'http://85.17.82.66/dataservices/data.asmx/list?database=x3'\n",
    "r = requests.get(url)\n",
    "json.loads(r.content.decode('utf-8'))"
   ]
  },
  {
   "cell_type": "code",
   "execution_count": null,
   "metadata": {
    "collapsed": false,
    "deletable": true,
    "editable": true
   },
   "outputs": [],
   "source": [
    "# list overview from database\n",
    "url = r'http://85.17.82.66/dataservices/database.asmx/info?database=x3'\n",
    "r = requests.get(url)\n",
    "json.loads(r.content.decode('utf-8'))"
   ]
  },
  {
   "cell_type": "code",
   "execution_count": null,
   "metadata": {
    "collapsed": true,
    "deletable": true,
    "editable": true
   },
   "outputs": [],
   "source": []
  }
 ],
 "metadata": {
  "kernelspec": {
   "display_name": "Python 3",
   "language": "python",
   "name": "python3"
  },
  "language_info": {
   "codemirror_mode": {
    "name": "ipython",
    "version": 3
   },
   "file_extension": ".py",
   "mimetype": "text/x-python",
   "name": "python",
   "nbconvert_exporter": "python",
   "pygments_lexer": "ipython3",
   "version": "3.5.2"
  }
 },
 "nbformat": 4,
 "nbformat_minor": 2
}
