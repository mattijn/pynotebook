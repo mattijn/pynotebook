{
 "cells": [
  {
   "cell_type": "code",
   "execution_count": 1,
   "metadata": {
    "collapsed": true
   },
   "outputs": [],
   "source": [
    "import numpy as np\n",
    "from osgeo import gdal\n",
    "import pandas as pd\n",
    "%matplotlib inline\n",
    "import matplotlib.pyplot as plt\n",
    "import os\n",
    "from __future__ import division\n",
    "import matplotlib\n",
    "import matplotlib.colors as mcolors\n",
    "import matplotlib.pyplot as plt"
   ]
  },
  {
   "cell_type": "code",
   "execution_count": 2,
   "metadata": {
    "collapsed": true
   },
   "outputs": [],
   "source": [
    "import cartopy.crs as ccrs\n",
    "import cartopy.feature as cfeature\n",
    "from cartopy.io.shapereader import Reader\n",
    "from cartopy.mpl.gridliner import LATITUDE_FORMATTER, LONGITUDE_FORMATTER\n",
    "import matplotlib.ticker as mticker\n",
    "from matplotlib import gridspec\n",
    "from cartopy.io import shapereader\n",
    "import shapely.geometry as sgeom"
   ]
  },
  {
   "cell_type": "code",
   "execution_count": 3,
   "metadata": {
    "collapsed": true
   },
   "outputs": [],
   "source": [
    "def make_colormap(seq):\n",
    "    \"\"\"Return a LinearSegmentedColormap\n",
    "    seq: a sequence of floats and RGB-tuples. The floats should be increasing\n",
    "    and in the interval (0,1).\n",
    "    \"\"\"\n",
    "    seq = [(None,) * 3, 0.0] + list(seq) + [1.0, (None,) * 3]\n",
    "    cdict = {'red': [], 'green': [], 'blue': []}\n",
    "    for i, item in enumerate(seq):\n",
    "        if isinstance(item, float):\n",
    "            r1, g1, b1 = seq[i - 1]\n",
    "            r2, g2, b2 = seq[i + 1]\n",
    "            cdict['red'].append([item, r1, r2])\n",
    "            cdict['green'].append([item, g1, g2])\n",
    "            cdict['blue'].append([item, b1, b2])\n",
    "    return mcolors.LinearSegmentedColormap('CustomMap', cdict)\n",
    "c = mcolors.ColorConverter().to_rgb\n",
    "\n",
    "def cmap_discretize(cmap, N):\n",
    "    \"\"\"Return a discrete colormap from the continuous colormap cmap.\n",
    "    \n",
    "        cmap: colormap instance, eg. cm.jet. \n",
    "        N: number of colors.\n",
    "    \n",
    "    Example\n",
    "        x = resize(arange(100), (5,100))\n",
    "        djet = cmap_discretize(cm.jet, 5)\n",
    "        imshow(x, cmap=djet)\n",
    "    \"\"\"\n",
    "\n",
    "    if type(cmap) == str:\n",
    "        cmap = get_cmap(cmap)\n",
    "    colors_i = np.concatenate((np.linspace(0, 1., N), (0.,0.,0.,0.)))\n",
    "    colors_rgba = cmap(colors_i)\n",
    "    indices = np.linspace(0, 1., N+1)\n",
    "    cdict = {}\n",
    "    for ki,key in enumerate(('red','green','blue')):\n",
    "        cdict[key] = [ (indices[i], colors_rgba[i-1,ki], colors_rgba[i,ki]) for i in xrange(N+1) ]\n",
    "    # Return colormap object.\n",
    "    return matplotlib.colors.LinearSegmentedColormap(cmap.name + \"_%d\"%N, cdict, 1024)"
   ]
  },
  {
   "cell_type": "code",
   "execution_count": 4,
   "metadata": {
    "collapsed": true
   },
   "outputs": [],
   "source": [
    "def saveRaster(path, array, dsSource, datatype=3, formatraster=\"GTiff\", nan=None): \n",
    "    \"\"\"\n",
    "    Datatypes:\n",
    "    unknown = 0\n",
    "    byte = 1\n",
    "    unsigned int16 = 2\n",
    "    signed int16 = 3\n",
    "    unsigned int32 = 4\n",
    "    signed int32 = 5\n",
    "    float32 = 6\n",
    "    float64 = 7\n",
    "    complex int16 = 8\n",
    "    complex int32 = 9\n",
    "    complex float32 = 10\n",
    "    complex float64 = 11\n",
    "    float32 = 6, \n",
    "    signed int = 3\n",
    "    \n",
    "    Formatraster:\n",
    "    GeoTIFF = GTiff\n",
    "    Erdas = HFA (output = .img)\n",
    "    OGC web map service = WMS\n",
    "    png = PNG\n",
    "    \"\"\"\n",
    "    # Set Driver\n",
    "    format_ = formatraster #save as format\n",
    "    driver = gdal.GetDriverByName( format_ )\n",
    "    driver.Register()\n",
    "    \n",
    "    # Set Metadata for Raster output\n",
    "    cols = dsSource.RasterXSize\n",
    "    rows = dsSource.RasterYSize\n",
    "    bands = dsSource.RasterCount\n",
    "    datatype = datatype#band.DataType\n",
    "    \n",
    "    # Set Projection for Raster\n",
    "    outDataset = driver.Create(path, cols, rows, bands, datatype)\n",
    "    geoTransform = dsSource.GetGeoTransform()\n",
    "    outDataset.SetGeoTransform(geoTransform)\n",
    "    proj = dsSource.GetProjection()\n",
    "    outDataset.SetProjection(proj)\n",
    "    \n",
    "    # Write output to band 1 of new Raster and write NaN value\n",
    "    outBand = outDataset.GetRasterBand(1)\n",
    "    if nan != None:\n",
    "        outBand.SetNoDataValue(nan)\n",
    "    outBand.WriteArray(array) #save input array\n",
    "    #outBand.WriteArray(dem)\n",
    "    \n",
    "    # Close and finalise newly created Raster\n",
    "    #F_M01 = None\n",
    "    outBand = None\n",
    "    proj = None\n",
    "    geoTransform = None\n",
    "    outDataset = None\n",
    "    driver = None\n",
    "    datatype = None\n",
    "    bands = None\n",
    "    rows = None\n",
    "    cols = None\n",
    "    driver = None\n",
    "    array = None"
   ]
  },
  {
   "cell_type": "code",
   "execution_count": 5,
   "metadata": {
    "collapsed": true
   },
   "outputs": [],
   "source": [
    "def listall(RootFolder, varname='',extension='.png'):\n",
    "    lists = [os.path.join(root, name)\n",
    "             for root, dirs, files in os.walk(RootFolder)\n",
    "             for name in files\n",
    "             if varname in name\n",
    "             if name.endswith(extension)]\n",
    "    return lists"
   ]
  },
  {
   "cell_type": "code",
   "execution_count": 16,
   "metadata": {
    "collapsed": false
   },
   "outputs": [],
   "source": [
    "LST_doy_min = np.array(listall(r'J:\\MAX_MIN_NDVI_recon_LST_recon\\doy_LST', varname='MIN', extension='.tif'))\n",
    "LST_doy_max = np.array(listall(r'J:\\MAX_MIN_NDVI_recon_LST_recon\\doy_LST', varname='MAX', extension='.tif'))\n",
    "LST_doy_mean = np.array(listall(r'J:\\MAX_MIN_NDVI_recon_LST_recon\\doy_LST', varname='MEAN', extension='.tif'))\n",
    "NDVI_doy_min = np.array(listall(r'J:\\MAX_MIN_NDVI_recon_LST_recon\\doy_NDVI', varname='MIN', extension='.tif'))\n",
    "NDVI_doy_max = np.array(listall(r'J:\\MAX_MIN_NDVI_recon_LST_recon\\doy_NDVI', varname='MAX', extension='.tif'))\n",
    "NDVI_doy_mean = np.array(listall(r'J:\\MAX_MIN_NDVI_recon_LST_recon\\doy_NDVI', varname='MEAN', extension='.tif'))"
   ]
  },
  {
   "cell_type": "code",
   "execution_count": 17,
   "metadata": {
    "collapsed": false
   },
   "outputs": [],
   "source": [
    "nvai_cmap = make_colormap([c('#781800'), c('#B34700'),0.1, c('#B34700'), c('#F09400'),0.2, c('#F09400'), c('#FFBE3B'), 0.3, \n",
    "                       c('#FFBE3B'), c('#FFD88A'),0.4, c('#FFD88A'), c('#FFD88A'),0.5, c('#FFFFFF'), c('#B6D676'), 0.6,\n",
    "                       c('#B6D676'), c('#8BBA2D'),0.7, c('#8BBA2D'), c('#60A100'),0.8, c('#60A100'), c('#1B8500'), 0.9,\n",
    "                       c('#1B8500'), c('#006915')])"
   ]
  },
  {
   "cell_type": "code",
   "execution_count": 18,
   "metadata": {
    "collapsed": false
   },
   "outputs": [
    {
     "name": "stdout",
     "output_type": "stream",
     "text": [
      "geotransform (73.43693268, 0.01, 0.0, 53.57324112, 0.0, -0.01)\n",
      "raster X size 6163\n",
      "raster Y size 3537\n"
     ]
    }
   ],
   "source": [
    "ds = gdal.Open(NDVI_doy_min[0])\n",
    "print 'geotransform', ds.GetGeoTransform()\n",
    "print 'raster X size', ds.RasterXSize\n",
    "print 'raster Y size', ds.RasterYSize\n",
    "\n",
    "#data_ma = np.ma.masked_equal(NVAI_max,NVAI_max[0][0])\n",
    "gt = ds.GetGeoTransform()\n",
    "proj = ds.GetProjection()\n",
    "\n",
    "xres = gt[1]\n",
    "yres = gt[5]\n",
    "\n",
    "# get the edge coordinates and add half the resolution \n",
    "# to go to center coordinates\n",
    "xmin = gt[0] + xres * 0.5\n",
    "xmax = gt[0] + (xres * ds.RasterXSize) - xres * 0.5\n",
    "ymin = gt[3] + (yres * ds.RasterYSize) + yres * 0.5\n",
    "ymax = gt[3] - yres * 0.5\n",
    "\n",
    "#ds = None\n",
    "gridlons = np.mgrid[xmin:xmax+xres:xres]\n",
    "gridlats = np.mgrid[ymax+yres:ymin:yres]"
   ]
  },
  {
   "cell_type": "code",
   "execution_count": 30,
   "metadata": {
    "collapsed": false
   },
   "outputs": [
    {
     "name": "stdout",
     "output_type": "stream",
     "text": [
      "0 J:\\MAX_MIN_NDVI_recon_LST_recon\\doy_NDVI\\NDVI_MAX_320.tif\n"
     ]
    }
   ],
   "source": [
    "for idx, file_ in enumerate(NDVI_doy_max[319:320]):\n",
    "    print idx, file_"
   ]
  },
  {
   "cell_type": "code",
   "execution_count": 32,
   "metadata": {
    "collapsed": false
   },
   "outputs": [
    {
     "name": "stdout",
     "output_type": "stream",
     "text": [
      "0 J:\\MAX_MIN_NDVI_recon_LST_recon\\doy_NDVI\\NDVI_MAX_320.tif\n"
     ]
    }
   ],
   "source": [
    "for idx, file_ in enumerate(NDVI_doy_max[319:320]):\n",
    "    print idx, file_"
   ]
  },
  {
   "cell_type": "code",
   "execution_count": 34,
   "metadata": {
    "collapsed": false
   },
   "outputs": [
    {
     "data": {
      "text/plain": [
       "'J:\\\\MAX_MIN_NDVI_recon_LST_recon\\\\doy_NDVI\\\\NDVI_MAX_120.tif'"
      ]
     },
     "execution_count": 34,
     "metadata": {},
     "output_type": "execute_result"
    }
   ],
   "source": [
    "NDVI_doy_max[119]"
   ]
  },
  {
   "cell_type": "code",
   "execution_count": 36,
   "metadata": {
    "collapsed": false
   },
   "outputs": [
    {
     "name": "stdout",
     "output_type": "stream",
     "text": [
      "0 J:\\MAX_MIN_NDVI_recon_LST_recon\\doy_NDVI\\NDVI_MAX_320.tif\n"
     ]
    }
   ],
   "source": [
    "for idx, file_ in enumerate(NDVI_doy_max[319:320]):\n",
    "    print idx, file_\n",
    "    idx = 319\n",
    "    NDVI_max  = gdal.Open(NDVI_doy_max[idx], gdal.GA_ReadOnly).ReadAsArray()/10000\n",
    "    NDVI_max  = np.ma.masked_less_equal(NDVI_max,0)\n",
    "    NDVI_min  = gdal.Open(NDVI_doy_min[idx], gdal.GA_ReadOnly).ReadAsArray()/10000\n",
    "    NDVI_min  = np.ma.masked_less_equal(NDVI_min,0)\n",
    "    NDVI_mean = gdal.Open(NDVI_doy_mean[idx], gdal.GA_ReadOnly).ReadAsArray()/10000\n",
    "    NDVI_mean  = np.ma.masked_less_equal(NDVI_mean,0)\n",
    "    \n",
    "    NVAI_max = np.float64((NDVI_max - NDVI_mean) / (NDVI_max - NDVI_min))\n",
    "    NVAI_min = np.float64((NDVI_min - NDVI_mean) / (NDVI_max - NDVI_min))        \n",
    "\n",
    "    \n",
    "#     f= plt.figure()\n",
    "#     ax = f.add_subplot(111)\n",
    "#     im = ax.imshow(NVAI_max, cmap=cmap_discretize(nvai_cmap,10),vmin=-1,vmax=1)\n",
    "#     plt.colorbar(im, fraction=0.0476, pad=0.08, orientation='horizontal')\n",
    "#     text_plot =  ('MAX DOY'+str(idx+1).zfill(3)+'\\n'+'mean: '+str(np.round(NVAI_max.mean(),2))+'\\n'+\n",
    "#                   'max:  '+str(np.round(NVAI_max.max(),2))+'\\n'+'min:  '+str(np.round(NVAI_max.min(),2)))\n",
    "\n",
    "#     plt.text(0.9, 0.1,text_plot, ha='center', va='center', transform=ax.transAxes)    \n",
    "#     plt.tight_layout()\n",
    "#     plt.savefig(r'D:\\Data\\NDAI_VHI_GROUNDTRUTH\\png\\min_max_doy//MAX_doy_'+str(idx+1).zfill(3)+'.png',dpi=200)    \n",
    "#     plt.clf()\n",
    "#     plt.close()    \n",
    "#     #NVAI_max = None\n",
    "    \n",
    "\n",
    "#     f= plt.figure()\n",
    "#     ax = f.add_subplot(111)\n",
    "#     im = ax.imshow(NVAI_min, cmap=cmap_discretize(nvai_cmap,10),vmin=-1,vmax=1)\n",
    "#     plt.colorbar(im, fraction=0.0476, pad=0.08, orientation='horizontal')\n",
    "#     text_plot =  ('MIN DOY'+str(idx+1).zfill(3)+'\\n'+'mean: '+str(np.round(NVAI_min.mean(),2))+'\\n'+\n",
    "#                   'max:  '+str(np.round(NVAI_min.max(),2))+'\\n'+'min:  '+str(np.round(NVAI_min.min(),2)))\n",
    "\n",
    "#     plt.text(0.9, 0.1,text_plot, ha='center', va='center', transform=ax.transAxes)    \n",
    "#     plt.tight_layout()\n",
    "#     plt.savefig(r'D:\\Data\\NDAI_VHI_GROUNDTRUTH\\png\\min_max_doy//MIN_doy_'+str(idx+1).zfill(3)+'.png',dpi=200)    \n",
    "#     plt.clf()\n",
    "#     plt.close()  \n",
    "    #NVAI_min = None\n",
    "    \n",
    "    \n",
    "    fname = r'D:\\Data\\ChinaShapefile\\CHN_adm//CHN_adm1.shp'\n",
    "    fig = plt.figure(figsize=(12,12))\n",
    "    #extent = [gridlons.min(), gridlons.max(),gridlats.min(),gridlats.max()]\n",
    "    extent = [73.5,140,14,53.6]\n",
    "    #img_extent = (73.5,140,14,53.6)\n",
    "    # PLOT CENTER\n",
    "    ax = plt.axes(projection=ccrs.AlbersEqualArea(central_longitude=100, central_latitude=15))\n",
    "    ax.set_extent(extent)\n",
    "    coastline = cfeature.COASTLINE.scale='50m'\n",
    "    borders = cfeature.BORDERS.scale='50m'\n",
    "\n",
    "    gl = ax.gridlines()\n",
    "    gl.xlocator = mticker.FixedLocator([50, 70,90,110,130,150,170])\n",
    "    gl.ylocator = mticker.FixedLocator([10,  20,  30,  40,  50, 60])\n",
    "    gl.xformatter = LONGITUDE_FORMATTER\n",
    "    gl.yformatter = LATITUDE_FORMATTER\n",
    "\n",
    "    ax.add_feature(cfeature.LAND, facecolor='0.85',zorder=0)\n",
    "    ax.add_feature(cfeature.COASTLINE, linewidth=0.2, edgecolor='black',zorder=1)\n",
    "    ax.add_feature(cfeature.BORDERS, linewidth=0.2, edgecolor='black',zorder=1)\n",
    "    ax.add_geometries(Reader(fname).geometries(),\n",
    "                      ccrs.PlateCarree(),\n",
    "                      facecolor='none', linewidth=0.2,edgecolor='black',zorder=2)\n",
    "\n",
    "    #ax.imshow(np.flipud(data_ma), extent = img_extent, transform=ccrs.PlateCarree())\n",
    "    im = plt.pcolormesh(gridlons, gridlats, NVAI_max, transform=ccrs.PlateCarree(), vmin=0, vmax=1, zorder=1, \n",
    "                        cmap=cmap_discretize(nvai_cmap,10))#, norm=norm, cmap=cmap)\n",
    "\n",
    "    cb = plt.colorbar(im, fraction=0.0476, pad=0.04, orientation='horizontal')#, ticks=bounds,norm=norm\n",
    "    text_plot =  ('MAX DOY'+str(idx+1).zfill(3)+'\\n'+'mean: '+str(np.round(NVAI_max.mean(),2))+'\\n'+\n",
    "                  'max:  '+str(np.round(NVAI_max.max(),2))+'\\n'+'min:  '+str(np.round(NVAI_max.min(),2)))\n",
    "\n",
    "    plt.text(0.9, 0.1,text_plot, ha='center', va='center', transform=ax.transAxes)\n",
    "    plt.savefig(r'D:\\Data\\NDAI_VHI_GROUNDTRUTH\\png\\min_max_doy//1MAX_doy_'+str(idx+1).zfill(3)+'.png',dpi=200)\n",
    "    plt.clf()\n",
    "    plt.close()\n",
    "\n",
    "    fname = r'D:\\Data\\ChinaShapefile\\CHN_adm//CHN_adm1.shp'\n",
    "    fig = plt.figure(figsize=(12,12))\n",
    "    #extent = [gridlons.min(), gridlons.max(),gridlats.min(),gridlats.max()]\n",
    "    extent = [73.5,140,14,53.6]\n",
    "    #img_extent = (73.5,140,14,53.6)\n",
    "    # PLOT CENTER\n",
    "    ax = plt.axes(projection=ccrs.AlbersEqualArea(central_longitude=100, central_latitude=15))\n",
    "    ax.set_extent(extent)\n",
    "    coastline = cfeature.COASTLINE.scale='50m'\n",
    "    borders = cfeature.BORDERS.scale='50m'\n",
    "\n",
    "    gl = ax.gridlines()\n",
    "    gl.xlocator = mticker.FixedLocator([50, 70,90,110,130,150,170])\n",
    "    gl.ylocator = mticker.FixedLocator([10,  20,  30,  40,  50, 60])\n",
    "    gl.xformatter = LONGITUDE_FORMATTER\n",
    "    gl.yformatter = LATITUDE_FORMATTER\n",
    "\n",
    "    ax.add_feature(cfeature.LAND, facecolor='0.85',zorder=0)\n",
    "    ax.add_feature(cfeature.COASTLINE, linewidth=0.2, edgecolor='black',zorder=1)\n",
    "    ax.add_feature(cfeature.BORDERS, linewidth=0.2, edgecolor='black',zorder=1)\n",
    "    ax.add_geometries(Reader(fname).geometries(),\n",
    "                      ccrs.PlateCarree(),\n",
    "                      facecolor='none', linewidth=0.2,edgecolor='black',zorder=2)\n",
    "\n",
    "    #ax.imshow(np.flipud(data_ma), extent = img_extent, transform=ccrs.PlateCarree())\n",
    "    im = plt.pcolormesh(gridlons, gridlats, NVAI_min, transform=ccrs.PlateCarree(), vmin=-1, vmax=0, zorder=1, \n",
    "                        cmap=cmap_discretize(nvai_cmap,10))#, norm=norm, cmap=cmap)\n",
    "\n",
    "    cb = plt.colorbar(im, fraction=0.0476, pad=0.04, orientation='horizontal')#, ticks=bounds,norm=norm\n",
    "    text_plot =  ('MIN DOY'+str(idx+1).zfill(3)+'\\n'+'mean: '+str(np.round(NVAI_min.mean(),2))+'\\n'+\n",
    "                  'max:  '+str(np.round(NVAI_min.max(),2))+'\\n'+'min:  '+str(np.round(NVAI_min.min(),2)))\n",
    "\n",
    "    plt.text(0.9, 0.1,text_plot, ha='center', va='center', transform=ax.transAxes)\n",
    "    plt.savefig(r'D:\\Data\\NDAI_VHI_GROUNDTRUTH\\png\\min_max_doy//1MIN_doy_'+str(idx+1).zfill(3)+'.png',dpi=200)\n",
    "    plt.clf()\n",
    "    plt.close()"
   ]
  },
  {
   "cell_type": "code",
   "execution_count": 40,
   "metadata": {
    "collapsed": false
   },
   "outputs": [
    {
     "data": {
      "image/png": "[encoded data removed]",
      "text/plain": [
       "<matplotlib.figure.Figure at 0x139aef28>"
      ]
     },
     "metadata": {},
     "output_type": "display_data"
    }
   ],
   "source": [
    "plt.hist(NVAI_max.compressed(),bins=100)\n",
    "plt.show()"
   ]
  },
  {
   "cell_type": "code",
   "execution_count": 41,
   "metadata": {
    "collapsed": false
   },
   "outputs": [
    {
     "data": {
      "image/png": "[encoded data removed]",
      "text/plain": [
       "<matplotlib.figure.Figure at 0x3d97dc88>"
      ]
     },
     "metadata": {},
     "output_type": "display_data"
    }
   ],
   "source": [
    "plt.hist(NVAI_min.compressed(),bins=100)\n",
    "plt.show()"
   ]
  },
  {
   "cell_type": "code",
   "execution_count": null,
   "metadata": {
    "collapsed": true
   },
   "outputs": [],
   "source": []
  }
 ],
 "metadata": {
  "kernelspec": {
   "display_name": "Python 2",
   "language": "python",
   "name": "python2"
  },
  "language_info": {
   "codemirror_mode": {
    "name": "ipython",
    "version": 2
   },
   "file_extension": ".py",
   "mimetype": "text/x-python",
   "name": "python",
   "nbconvert_exporter": "python",
   "pygments_lexer": "ipython2",
   "version": "2.7.6"
  }
 },
 "nbformat": 4,
 "nbformat_minor": 0
}
