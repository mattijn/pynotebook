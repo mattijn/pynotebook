{
 "cells": [
  {
   "cell_type": "code",
   "execution_count": null,
   "metadata": {
    "collapsed": false
   },
   "outputs": [],
   "source": [
    "from xml.etree import ElementTree\n",
    "from xml.dom import minidom\n",
    "import glob, os, sys\n",
    "from xml.etree.ElementTree import Element, SubElement, Comment\n",
    "import subprocess as sp\n",
    "import pandas as pd\n",
    "from datetime import datetime\n",
    "from osgeo import ogr\n",
    "import logging"
   ]
  },
  {
   "cell_type": "code",
   "execution_count": null,
   "metadata": {
    "collapsed": true
   },
   "outputs": [],
   "source": [
    "# Set INPUT parameters\n",
    "# ruweDataDir    :: input raw survey data\n",
    "# asciiDataDir   :: output folder\n",
    "# workDir        :: working directory (emptied each run)\n",
    "# bgShp          :: background polygon shapefile of baggervakken\n",
    "# logFile        :: file used to store logs\n",
    "\n",
    "ruweDataDir = r'D:\\Projects\\Pr\\3317.20\\BodempeilingScript\\survey_ruweData'\n",
    "asciiDataDir = r'D:\\Projects\\Pr\\3317.20\\BodempeilingScript\\survey_asciiData'\n",
    "workdir = r'D:\\Projects\\Pr\\3317.20\\BodempeilingScript\\tmp'\n",
    "bg_shp = r'D:\\Projects\\Pr\\3317.20\\BodempeilingScript\\achtergrondShp//achtergrond_shape.shp' # achtergrond_shapeObj3.shp'\n",
    "logFile = r'D:\\Projects\\Pr\\3317.20\\BodempeilingScript\\log\\log_file.out'"
   ]
  },
  {
   "cell_type": "code",
   "execution_count": null,
   "metadata": {
    "collapsed": true
   },
   "outputs": [],
   "source": [
    "# Set path OGR/GDAL files \n",
    "# ogr2ogr        :: converts simple features data between file formats\n",
    "# gdalwarp       :: image reprojection and warping utility\n",
    "# gdal_rasterize :: burns vector geometries into a raster\n",
    "# gdal_translate :: converts raster data between different formats\n",
    "# gdalbuildvrt   :: builds a VRT from a list of datasets\n",
    "# gdalinfo       :: lists information about a raster dataset\n",
    "\n",
    "ogr2ogr = r'C:\\Python35\\Lib\\site-packages\\osgeo//ogr2ogr.exe'\n",
    "gdalwarp = r'C:\\Python35\\Lib\\site-packages\\osgeo//gdalwarp.exe'\n",
    "gdal_rasterize = r'C:\\Python35\\Lib\\site-packages\\osgeo//gdal_rasterize.exe'\n",
    "gdal_translate = r'C:\\Python35\\Lib\\site-packages\\osgeo//gdal_translate.exe'\n",
    "gdalbuildvrt = r'C:\\Python35\\Lib\\site-packages\\osgeo//gdalbuildvrt.exe'\n",
    "gdalinfo = r'C:\\Python35\\Lib\\site-packages\\osgeo\\gdalinfo.exe'"
   ]
  },
  {
   "cell_type": "code",
   "execution_count": null,
   "metadata": {
    "collapsed": false
   },
   "outputs": [],
   "source": [
    "logger = logging.getLogger('survey2arcinfoascii')\n",
    "hdlr = logging.FileHandler(logFile)\n",
    "formatter = logging.Formatter('%(asctime)s %(levelname)s %(message)s')\n",
    "hdlr.setFormatter(formatter)\n",
    "logger.addHandler(hdlr) \n",
    "logger.setLevel(logging.INFO)"
   ]
  },
  {
   "cell_type": "code",
   "execution_count": null,
   "metadata": {
    "collapsed": true
   },
   "outputs": [],
   "source": [
    "def prettify(elem):\n",
    "    \"\"\"Return a pretty-printed XML string for the Element.\n",
    "    \"\"\"\n",
    "    rough_string = ElementTree.tostring(elem, 'utf-8')\n",
    "    reparsed = minidom.parseString(rough_string)\n",
    "    return reparsed.toprettyxml(indent=\"  \")\n",
    "\n",
    "def writeOGRVRT(basename, fullpath):\n",
    "    top = Element('OGRVRTDataSource')\n",
    "    child = SubElement(top, 'OGRVRTLayer')\n",
    "    child.set('name', basename)\n",
    "    sub_child_1 = SubElement(child, 'SrcDataSource')\n",
    "    sub_child_1.text = fullpath\n",
    "    sub_child_2 = SubElement(child, 'GeometryType')\n",
    "    sub_child_2.text = 'wkbPoint'\n",
    "    sub_child_3 = SubElement(child, 'LayerSRS')\n",
    "    sub_child_3.text = 'EPSG:28992'\n",
    "    sub_child_4 = SubElement(child, 'GeometryField')\n",
    "    sub_child_4.set('encoding','PointFromColumns')\n",
    "    sub_child_4.set('x','field_1')\n",
    "    sub_child_4.set('y','field_2')\n",
    "    sub_child_4.set('z','field_3')\n",
    "\n",
    "    return prettify(top)"
   ]
  },
  {
   "cell_type": "code",
   "execution_count": null,
   "metadata": {
    "collapsed": false
   },
   "outputs": [],
   "source": [
    "logger.info ('Empty tmp dir %s' % (workdir))\n",
    "filelist = glob.glob(workdir+'//*')\n",
    "for f in filelist:\n",
    "    os.remove(f)\n",
    " \n",
    "driver = ogr.GetDriverByName('ESRI Shapefile')\n",
    "\n",
    "dataSource = driver.Open(bg_shp, 0) # 0 means read-only. 1 means writeable.\n",
    "\n",
    "# Check to see if shapefile is found.\n",
    "if dataSource is None:\n",
    "    logger.error ('Could not open %s' % (bg_shp))\n",
    "else:\n",
    "    logger.info ('Opened %s' % (bg_shp))\n",
    "    layer = dataSource.GetLayer()\n",
    "    bg_shp_features = layer.GetFeatureCount()\n",
    "    logger.info ('Name of layer: %s' % layer.GetDescription())\n",
    "    logger.info (\"Number of features in %s: %d\" % (os.path.basename(bg_shp),bg_shp_features))\n",
    "    \n",
    "    for i in range(bg_shp_features):\n",
    "        feat = layer.GetFeature(i)\n",
    "        obID = feat.GetField('OBJECTID')    \n",
    "    logger.info (obID)"
   ]
  },
  {
   "cell_type": "code",
   "execution_count": null,
   "metadata": {
    "collapsed": false
   },
   "outputs": [],
   "source": [
    "for root, dirs, files in os.walk(ruweDataDir):\n",
    "    for file in files:\n",
    "        if file.endswith('.asc'):\n",
    "            init_file = os.path.join( os.path.abspath(root), file )\n",
    "            base, extension = os.path.splitext(file)\n",
    "            logger.info (init_file)\n",
    "            \n",
    "            # 0 get timestamp\n",
    "            dateISO = datetime(int('20'+base[15:17]), int(base[17:19]), int(base[19:21]))\n",
    "            t = dateISO.strftime(\"%Y%m%d%H%M%S\")\n",
    "            logger.info (t)            \n",
    "            \n",
    "            # 1 convert survey data to CSV format\n",
    "            a = os.path.join(workdir,t+'.csv')\n",
    "            df = pd.read_csv(init_file, header=None)\n",
    "            df.to_csv(a, header=False, index=False, sep=';')\n",
    "            \n",
    "            # 2 build OGRVRT from CSV file\n",
    "            b = os.path.join(workdir,t+'.vrt')\n",
    "            with open(b, 'w') as the_file:\n",
    "                the_file.write(writeOGRVRT(t, a))\n",
    "                \n",
    "            # 3 create RASTER from OGRVRT\n",
    "            c = os.path.join(workdir,t+'.tif')\n",
    "            command = [gdal_rasterize, '-a','field_3','-tr','1.0','1.0', '-l',t,b,c]\n",
    "            logger.info (sp.list2cmdline(command))\n",
    "            norm = sp.Popen(sp.list2cmdline(command),stdout=sp.PIPE, shell=True)\n",
    "            norm.communicate()\n",
    "\n",
    "            \n",
    "            for feature in range(bg_shp_features):\n",
    "                feat = layer.GetFeature(feature)\n",
    "                obID = feat.GetField('OBJECTID')    \n",
    "                logger.info (obID)            \n",
    "                \n",
    "                # 4 clip point RASTER with feature achtergrond SHP\n",
    "                d = os.path.join(workdir,'peilingGrid'+str(obID).zfill(2)+'_'+t+'.tif.vrt')\n",
    "                command = [gdalwarp, '-srcnodata', '0', '-dstnodata', '-9999', '-overwrite','-of', 'VRT', '-crop_to_cutline', \n",
    "                           '-cutline', bg_shp, '-cwhere', 'OBJECTID = '+str(obID), c, d]            \n",
    "                logger.info (sp.list2cmdline(command))\n",
    "                norm = sp.Popen(sp.list2cmdline(command),stdout=sp.PIPE, shell=True)\n",
    "                norm.communicate()\n",
    "                \n",
    "                # 5A convert feature achtergrond SHP to RASTER\n",
    "                e = os.path.join(workdir,'peilingGrid'+str(obID).zfill(2)+'_'+t+'_bg_tmp'+'.tif')\n",
    "                command = [gdal_rasterize, '-a', 'NoDataValu', '-a_srs', 'EPSG:28992', '-where', 'OBJECTID = '+str(obID), \n",
    "                           '-tr', '1.0', '1.0', '-l', layer.GetDescription(), bg_shp, e]         \n",
    "                logger.info (sp.list2cmdline(command))\n",
    "                norm = sp.Popen(sp.list2cmdline(command),stdout=sp.PIPE, shell=True)\n",
    "                norm.communicate()\n",
    "                \n",
    "                # 5B clip achtergrond RASTER\n",
    "                f = os.path.join(workdir,'peilingGrid'+str(obID).zfill(2)+'_'+t+'_bg'+'.tif.vrt')\n",
    "                command = [gdalwarp, '-srcnodata', '-9999', '-dstnodata', '-9999', '-of', 'VRT', '-tr', '1.0', '1.0', \n",
    "                           '-overwrite', '-crop_to_cutline', '-cutline', bg_shp, '-cwhere', 'OBJECTID = '+str(obID), e, f]            \n",
    "                logger.info (sp.list2cmdline(command))\n",
    "                norm = sp.Popen(sp.list2cmdline(command),stdout=sp.PIPE, shell=True)\n",
    "                norm.communicate()                                \n",
    "\n",
    "                # 6 Build VRT data source of point RASTER and feature achtergrond RASTER                \n",
    "                g = os.path.join(workdir,'peilingGrid'+str(obID).zfill(2)+'_'+t+'.vrt')\n",
    "                command = [gdalbuildvrt, '-srcnodata', '-9999', g, d, f]\n",
    "                logger.info (sp.list2cmdline(command))\n",
    "                norm = sp.Popen(sp.list2cmdline(command),stdout=sp.PIPE, shell=True)\n",
    "                norm.communicate()\n",
    "\n",
    "                # 7 Convert VRT to ArcInfoASCII\n",
    "                h = os.path.join(asciiDataDir,'peilingGrid'+str(obID).zfill(2)+'_'+t+'.asc')\n",
    "                command = [gdal_translate, '-of', 'AAIGrid', '-tr', '1.0', '1.0', g, h]\n",
    "                logger.info (sp.list2cmdline(command))\n",
    "                norm = sp.Popen(sp.list2cmdline(command),stdout=sp.PIPE, shell=True)\n",
    "                norm.communicate()\n",
    "                \n",
    "                # 8 Only keep the ArcInfoASCIIs that contains data\n",
    "                command = gdalinfo + ' -mm ' + h + ' | find \"Computed\"'\n",
    "                logger.info (command)\n",
    "                norm = sp.Popen(command, stdout=sp.PIPE, shell=True).communicate()\n",
    "                logger.info (norm)\n",
    "                if len(norm[0]) == 0:                    \n",
    "                    for fl in glob.glob(h[0:-4]+'*'):\n",
    "                        os.remove(fl)"
   ]
  },
  {
   "cell_type": "code",
   "execution_count": null,
   "metadata": {
    "collapsed": true
   },
   "outputs": [],
   "source": []
  }
 ],
 "metadata": {
  "kernelspec": {
   "display_name": "Python 3",
   "language": "python",
   "name": "python3"
  },
  "language_info": {
   "codemirror_mode": {
    "name": "ipython",
    "version": 3
   },
   "file_extension": ".py",
   "mimetype": "text/x-python",
   "name": "python",
   "nbconvert_exporter": "python",
   "pygments_lexer": "ipython3",
   "version": "3.5.2"
  }
 },
 "nbformat": 4,
 "nbformat_minor": 0
}
