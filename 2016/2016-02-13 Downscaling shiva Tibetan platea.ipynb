{
 "cells": [
  {
   "cell_type": "code",
   "execution_count": 1,
   "metadata": {
    "collapsed": false
   },
   "outputs": [],
   "source": [
    "import numpy as np\n",
    "from osgeo import gdal\n",
    "import os\n",
    "import subprocess as sp\n",
    "import matplotlib.pyplot as plt\n",
    "import datetime\n",
    "%matplotlib inline"
   ]
  },
  {
   "cell_type": "code",
   "execution_count": 2,
   "metadata": {
    "collapsed": true
   },
   "outputs": [],
   "source": [
    "def saveRaster(path, array, dsSource, datatype=3, formatraster=\"GTiff\", nan=None): \n",
    "    \"\"\"\n",
    "    Datatypes:\n",
    "    unknown = 0\n",
    "    byte = 1\n",
    "    unsigned int16 = 2\n",
    "    signed int16 = 3\n",
    "    unsigned int32 = 4\n",
    "    signed int32 = 5\n",
    "    float32 = 6\n",
    "    float64 = 7\n",
    "    complex int16 = 8\n",
    "    complex int32 = 9\n",
    "    complex float32 = 10\n",
    "    complex float64 = 11\n",
    "    float32 = 6, \n",
    "    signed int = 3\n",
    "    \n",
    "    Formatraster:\n",
    "    GeoTIFF = GTiff\n",
    "    Erdas = HFA (output = .img)\n",
    "    OGC web map service = WMS\n",
    "    png = PNG\n",
    "    \"\"\"\n",
    "    # Set Driver\n",
    "    format_ = formatraster #save as format\n",
    "    driver = gdal.GetDriverByName( format_ )\n",
    "    driver.Register()\n",
    "    \n",
    "    # Set Metadata for Raster output\n",
    "    cols = dsSource.RasterXSize\n",
    "    rows = dsSource.RasterYSize\n",
    "    bands = dsSource.RasterCount\n",
    "    datatype = datatype#band.DataType\n",
    "    \n",
    "    # Set Projection for Raster\n",
    "    outDataset = driver.Create(path, cols, rows, bands, datatype)\n",
    "    geoTransform = dsSource.GetGeoTransform()\n",
    "    outDataset.SetGeoTransform(geoTransform)\n",
    "    proj = dsSource.GetProjection()\n",
    "    outDataset.SetProjection(proj)\n",
    "    \n",
    "    if bands > 1:\n",
    "        for i in range(bands):\n",
    "            # Write output to band 1 of new Raster and write NaN value\n",
    "            outBand = outDataset.GetRasterBand(i+1)\n",
    "            if nan != None:\n",
    "                outBand.SetNoDataValue(nan)\n",
    "            outBand.WriteArray(array[i]) #save input array\n",
    "            #outBand.WriteArray(dem)\n",
    "    else:\n",
    "        outBand = outDataset.GetRasterBand(bands)        \n",
    "        if nan != None:\n",
    "            outBand.SetNoDataValue(nan)        \n",
    "        outBand.WriteArray(array) #save input array            \n",
    "    \n",
    "    # Close and finalise newly created Raster\n",
    "    #F_M01 = None\n",
    "    outBand = None\n",
    "    proj = None\n",
    "    geoTransform = None\n",
    "    outDataset = None\n",
    "    driver = None\n",
    "    datatype = None\n",
    "    bands = None\n",
    "    rows = None\n",
    "    cols = None\n",
    "    driver = None\n",
    "    array = None"
   ]
  },
  {
   "cell_type": "code",
   "execution_count": 3,
   "metadata": {
    "collapsed": true
   },
   "outputs": [],
   "source": [
    "def listall(RootFolder, varname='',extension='.tif'):\n",
    "    lists = [os.path.join(root, name)\n",
    "             for root, dirs, files in os.walk(RootFolder)\n",
    "             for name in files\n",
    "             if varname in name\n",
    "             if name.endswith(extension)]\n",
    "    return lists"
   ]
  },
  {
   "cell_type": "code",
   "execution_count": 4,
   "metadata": {
    "collapsed": false
   },
   "outputs": [],
   "source": [
    "def nearestDate(dates, pivot):\n",
    "    return min(dates, key=lambda x: abs(x - pivot))"
   ]
  },
  {
   "cell_type": "code",
   "execution_count": null,
   "metadata": {
    "collapsed": true
   },
   "outputs": [],
   "source": [
    "NDVIClip_Day = r'D:\\Downloads\\Mattijn@Shiva\\2015-10-09 NDVI'\n",
    "srcfolder = listall(NDVIClip_Day)\n",
    "dstfolder = r'D:\\Downloads\\Mattijn@Shiva\\NDVI025//'"
   ]
  },
  {
   "cell_type": "code",
   "execution_count": null,
   "metadata": {
    "collapsed": false
   },
   "outputs": [],
   "source": [
    "for srcfile in srcfolder:\n",
    "    dstfile = dstfolder + srcfile[-17::]\n",
    "    command = [\"gdalwarp\",\"-tr\",\"0.25\",\"0.25\",srcfile,dstfile,\"-overwrite\"]\n",
    "    \n",
    "    print (sp.list2cmdline(command))\n",
    "    norm = sp.Popen(sp.list2cmdline(command),stdout=sp.PIPE, shell=True)  \n",
    "    norm.communicate()      \n",
    "\n",
    "    srcfile = dstfile\n",
    "    dstfile = dstfolder + \"_25_\" +srcfile[-17::]\n",
    "    command = [\"gdalwarp\",\"-tr\",\"0.05\",\"0.05\",srcfile,dstfile,\"-overwrite\"]\n",
    "    \n",
    "    print (sp.list2cmdline(command))\n",
    "    norm = sp.Popen(sp.list2cmdline(command),stdout=sp.PIPE, shell=True)  \n",
    "    norm.communicate()"
   ]
  },
  {
   "cell_type": "code",
   "execution_count": 5,
   "metadata": {
    "collapsed": false
   },
   "outputs": [],
   "source": [
    "NDVI = r'D:\\Downloads\\Mattijn@Shiva\\2015-10-09 NDVI'\n",
    "NDVI_srcfolder = listall(NDVI)\n",
    "\n",
    "NDVI_dates = []\n",
    "for NDVI_srcfile in NDVI_srcfolder:\n",
    "    NDVI_year = int(NDVI_srcfile[-12:-8])\n",
    "    NDVI_month = int(NDVI_srcfile[-8:-6])\n",
    "    NDVI_day = int(NDVI_srcfile[-6:-4])\n",
    "    NDVI_date = datetime.datetime(NDVI_year,NDVI_month,NDVI_day)\n",
    "    NDVI_dates.append(NDVI_date)\n",
    "    #print NDVI_date\n",
    "\n",
    "NDVI_jan = []\n",
    "NDVI_feb = []\n",
    "NDVI_mar = []\n",
    "NDVI_apr = []\n",
    "NDVI_may = []\n",
    "NDVI_jun = []\n",
    "NDVI_jul = []\n",
    "NDVI_aug = []\n",
    "NDVI_sep = []\n",
    "NDVI_oct = []\n",
    "NDVI_nov = []\n",
    "NDVI_dec = []\n",
    "\n",
    "for NDVI_date in NDVI_dates:\n",
    "    if NDVI_date.month == 1:\n",
    "        NDVI_jan.append(NDVI_date)\n",
    "    if NDVI_date.month == 2:\n",
    "        NDVI_feb.append(NDVI_date)\n",
    "    if NDVI_date.month == 3:\n",
    "        NDVI_mar.append(NDVI_date)\n",
    "    if NDVI_date.month == 4:\n",
    "        NDVI_apr.append(NDVI_date)\n",
    "    if NDVI_date.month == 5:\n",
    "        NDVI_may.append(NDVI_date)\n",
    "    if NDVI_date.month == 6:\n",
    "        NDVI_jun.append(NDVI_date)        \n",
    "    if NDVI_date.month == 7:\n",
    "        NDVI_jul.append(NDVI_date)\n",
    "    if NDVI_date.month == 8:\n",
    "        NDVI_aug.append(NDVI_date)\n",
    "    if NDVI_date.month == 9:\n",
    "        NDVI_sep.append(NDVI_date)\n",
    "    if NDVI_date.month == 10:\n",
    "        NDVI_oct.append(NDVI_date)        \n",
    "    if NDVI_date.month == 11:\n",
    "        NDVI_nov.append(NDVI_date)\n",
    "    if NDVI_date.month == 12:\n",
    "        NDVI_dec.append(NDVI_date)            "
   ]
  },
  {
   "cell_type": "code",
   "execution_count": 6,
   "metadata": {
    "collapsed": true
   },
   "outputs": [],
   "source": [
    "NDVI_25 = r'D:\\Downloads\\Mattijn@Shiva\\NDVI025'\n",
    "NDVI_25_srcfolder = listall(NDVI_25)\n",
    "\n",
    "NDVI_25_dates = []\n",
    "for NDVI_25_srcfile in NDVI_25_srcfolder:\n",
    "    NDVI_25_year = int(NDVI_25_srcfile[-12:-8])\n",
    "    NDVI_25_month = int(NDVI_25_srcfile[-8:-6])\n",
    "    NDVI_25_day = int(NDVI_25_srcfile[-6:-4])\n",
    "    NDVI_25_date = datetime.datetime(NDVI_25_year,NDVI_25_month,NDVI_25_day)\n",
    "    NDVI_25_dates.append(NDVI_25_date)\n",
    "    #print NDVI_25_date\n",
    "\n",
    "NDVI_25_jan = []\n",
    "NDVI_25_feb = []\n",
    "NDVI_25_mar = []\n",
    "NDVI_25_apr = []\n",
    "NDVI_25_may = []\n",
    "NDVI_25_jun = []\n",
    "NDVI_25_jul = []\n",
    "NDVI_25_aug = []\n",
    "NDVI_25_sep = []\n",
    "NDVI_25_oct = []\n",
    "NDVI_25_nov = []\n",
    "NDVI_25_dec = []\n",
    "\n",
    "for NDVI_25_date in NDVI_25_dates:\n",
    "    if NDVI_25_date.month == 1:\n",
    "        NDVI_25_jan.append(NDVI_25_date)\n",
    "    if NDVI_25_date.month == 2:\n",
    "        NDVI_25_feb.append(NDVI_25_date)\n",
    "    if NDVI_25_date.month == 3:\n",
    "        NDVI_25_mar.append(NDVI_25_date)\n",
    "    if NDVI_25_date.month == 4:\n",
    "        NDVI_25_apr.append(NDVI_25_date)\n",
    "    if NDVI_25_date.month == 5:\n",
    "        NDVI_25_may.append(NDVI_25_date)\n",
    "    if NDVI_25_date.month == 6:\n",
    "        NDVI_25_jun.append(NDVI_25_date)        \n",
    "    if NDVI_25_date.month == 7:\n",
    "        NDVI_25_jul.append(NDVI_25_date)\n",
    "    if NDVI_25_date.month == 8:\n",
    "        NDVI_25_aug.append(NDVI_25_date)\n",
    "    if NDVI_25_date.month == 9:\n",
    "        NDVI_25_sep.append(NDVI_25_date)\n",
    "    if NDVI_25_date.month == 10:\n",
    "        NDVI_25_oct.append(NDVI_25_date)        \n",
    "    if NDVI_25_date.month == 11:\n",
    "        NDVI_25_nov.append(NDVI_25_date)\n",
    "    if NDVI_25_date.month == 12:\n",
    "        NDVI_25_dec.append(NDVI_25_date)            "
   ]
  },
  {
   "cell_type": "code",
   "execution_count": 7,
   "metadata": {
    "collapsed": false
   },
   "outputs": [],
   "source": [
    "TRMM = r'D:\\Downloads\\Mattijn@Shiva\\2015-07-24 BiasCorrection TRMM\\TRMM_clip_day_05resolution//'\n",
    "TRMM_srcfolder = listall(TRMM)\n",
    "\n",
    "TRMM_dates = []\n",
    "for TRMM_srcfile in TRMM_srcfolder:\n",
    "    TRMM_year = int(TRMM_srcfile[-16:-12])\n",
    "    TRMM_month = int(TRMM_srcfile[-11:-9])\n",
    "    TRMM_day = int(TRMM_srcfile[-8:-6])\n",
    "    TRMM_date = datetime.datetime(TRMM_year,TRMM_month,TRMM_day)\n",
    "    TRMM_dates.append(TRMM_date)\n",
    "    #print TRMM_date\n",
    "    \n",
    "TRMM_jan = []\n",
    "TRMM_feb = []\n",
    "TRMM_mar = []\n",
    "TRMM_apr = []\n",
    "TRMM_may = []\n",
    "TRMM_jun = []\n",
    "TRMM_jul = []\n",
    "TRMM_aug = []\n",
    "TRMM_sep = []\n",
    "TRMM_oct = []\n",
    "TRMM_nov = []\n",
    "TRMM_dec = []\n",
    "\n",
    "for TRMM_date in TRMM_dates:\n",
    "    if TRMM_date.month == 1:\n",
    "        TRMM_jan.append(TRMM_date)\n",
    "    if TRMM_date.month == 2:\n",
    "        TRMM_feb.append(TRMM_date)\n",
    "    if TRMM_date.month == 3:\n",
    "        TRMM_mar.append(TRMM_date)\n",
    "    if TRMM_date.month == 4:\n",
    "        TRMM_apr.append(TRMM_date)\n",
    "    if TRMM_date.month == 5:\n",
    "        TRMM_may.append(TRMM_date)\n",
    "    if TRMM_date.month == 6:\n",
    "        TRMM_jun.append(TRMM_date)        \n",
    "    if TRMM_date.month == 7:\n",
    "        TRMM_jul.append(TRMM_date)\n",
    "    if TRMM_date.month == 8:\n",
    "        TRMM_aug.append(TRMM_date)\n",
    "    if TRMM_date.month == 9:\n",
    "        TRMM_sep.append(TRMM_date)\n",
    "    if TRMM_date.month == 10:\n",
    "        TRMM_oct.append(TRMM_date)        \n",
    "    if TRMM_date.month == 11:\n",
    "        TRMM_nov.append(TRMM_date)\n",
    "    if TRMM_date.month == 12:\n",
    "        TRMM_dec.append(TRMM_date)            "
   ]
  },
  {
   "cell_type": "code",
   "execution_count": 8,
   "metadata": {
    "collapsed": false
   },
   "outputs": [],
   "source": [
    "# get longitude latitude arrays\n",
    "LAT_005_srcfile = r'D:\\Downloads\\Mattijn@Shiva\\lonlat//LAT_005.tif'\n",
    "ds_LAT_005 = gdal.Open(LAT_005_srcfile).ReadAsArray()\n",
    "\n",
    "LAT_025_srcfile = r'D:\\Downloads\\Mattijn@Shiva\\lonlat//LAT.tif'\n",
    "ds_LAT_025 = gdal.Open(LAT_025_srcfile).ReadAsArray()\n",
    "\n",
    "LON_005_srcfile = r'D:\\Downloads\\Mattijn@Shiva\\lonlat//LON_005.tif'\n",
    "ds_LON_005 = gdal.Open(LON_005_srcfile).ReadAsArray()\n",
    "\n",
    "LON_025_srcfile = r'D:\\Downloads\\Mattijn@Shiva\\lonlat//LON.tif'\n",
    "ds_LON_025 = gdal.Open(LON_025_srcfile).ReadAsArray()\n",
    "ds_base = gdal.Open(LON_025_srcfile)"
   ]
  },
  {
   "cell_type": "code",
   "execution_count": 9,
   "metadata": {
    "collapsed": true
   },
   "outputs": [],
   "source": [
    "DEM_005_srcfile = r'D:\\Downloads\\Mattijn@Shiva\\srtm_dem//SRTM_DEM_Clip_005res.tif'\n",
    "ds_DEM_005 = gdal.Open(DEM_005_srcfile).ReadAsArray()\n",
    "\n",
    "DEM_025_srcfile = r'D:\\Downloads\\Mattijn@Shiva\\srtm_dem//SRTM_DEM_Clip_005ares.tif'\n",
    "ds_DEM_025 = gdal.Open(DEM_025_srcfile).ReadAsArray()"
   ]
  },
  {
   "cell_type": "code",
   "execution_count": null,
   "metadata": {
    "collapsed": false
   },
   "outputs": [],
   "source": [
    "#jan\n",
    "for TRMM_date in NDVI_jan:\n",
    "    try:\n",
    "        ds_TRMM = gdal.Open(TRMM_srcfolder[TRMM_dates.index(TRMM_date)]).ReadAsArray()\n",
    "        ds_NDVI = gdal.Open(NDVI_srcfolder[NDVI_dates.index(nearestDate(NDVI_jan,TRMM_date))]).ReadAsArray()[1::,0:-1]\n",
    "        ds_NDVI_025 = gdal.Open(NDVI_25_srcfolder[NDVI_25_dates.index(nearestDate(NDVI_25_jan,TRMM_date))]).ReadAsArray()\n",
    "\n",
    "        ds_TRMM_ols = (\n",
    "                      17.343 * (ds_NDVI_025 - ds_NDVI) + \n",
    "                      0.328 * (ds_LAT_025 - ds_LAT_005) +\n",
    "                      -0.439 * (ds_LON_025 - ds_LON_005) +\n",
    "                      0 * (ds_DEM_025 - ds_DEM_005) \n",
    "                      )\n",
    "        ds_TRMM_ols[np.where(ds_TRMM_ols < 0)] = 0\n",
    "        ds_TRMM_ols[np.where(ds_TRMM == 0)] = 0\n",
    "\n",
    "        folder_out = r'D:\\Downloads\\Mattijn@Shiva\\TRMM_005_35stations//'\n",
    "        file_out = 'TRMM'+NDVI_srcfolder[NDVI_dates.index(nearestDate(NDVI_jan,TRMM_date))][-13::]\n",
    "        out_url = folder_out + file_out\n",
    "        saveRaster(out_url, ds_TRMM_ols, ds_base, 6)\n",
    "    except:\n",
    "        print TRMM_date\n",
    "        continue"
   ]
  },
  {
   "cell_type": "code",
   "execution_count": null,
   "metadata": {
    "collapsed": false
   },
   "outputs": [],
   "source": [
    "#feb\n",
    "for TRMM_date in NDVI_feb:\n",
    "    try:\n",
    "        ds_TRMM = gdal.Open(TRMM_srcfolder[TRMM_dates.index(TRMM_date)]).ReadAsArray()\n",
    "        ds_NDVI = gdal.Open(NDVI_srcfolder[NDVI_dates.index(nearestDate(NDVI_feb,TRMM_date))]).ReadAsArray()[1::,0:-1]\n",
    "        ds_NDVI_025 = gdal.Open(NDVI_25_srcfolder[NDVI_25_dates.index(nearestDate(NDVI_25_feb,TRMM_date))]).ReadAsArray()\n",
    "\n",
    "        ds_TRMM_ols = (\n",
    "                      8.054 * (ds_NDVI_025 - ds_NDVI) + \n",
    "                      0 * (ds_LAT_025 - ds_LAT_005) + \n",
    "                      -0.261 * (ds_LON_025 - ds_LON_005) +\n",
    "                      0 * (ds_DEM_025 - ds_DEM_005) \n",
    "                      )\n",
    "        ds_TRMM_ols[np.where(ds_TRMM_ols<0)] = 0\n",
    "        ds_TRMM_ols[np.where(ds_TRMM==0)] = 0\n",
    "\n",
    "        folder_out = r'D:\\Downloads\\Mattijn@Shiva\\TRMM_005_35stations//'\n",
    "        file_out = 'TRMM'+NDVI_srcfolder[NDVI_dates.index(nearestDate(NDVI_feb,TRMM_date))][-13::]\n",
    "        out_url = folder_out + file_out\n",
    "        saveRaster(out_url, ds_TRMM_ols, ds_base, 6)\n",
    "    except:\n",
    "        print TRMM_date\n",
    "        continue"
   ]
  },
  {
   "cell_type": "code",
   "execution_count": 11,
   "metadata": {
    "collapsed": false
   },
   "outputs": [],
   "source": [
    "#mar\n",
    "for TRMM_date in NDVI_mar:\n",
    "    try:\n",
    "        ds_TRMM = gdal.Open(TRMM_srcfolder[TRMM_dates.index(TRMM_date)]).ReadAsArray()\n",
    "        ds_NDVI = gdal.Open(NDVI_srcfolder[NDVI_dates.index(nearestDate(NDVI_mar,TRMM_date))]).ReadAsArray()[1::,0:-1]\n",
    "        ds_NDVI_025 = gdal.Open(NDVI_25_srcfolder[NDVI_25_dates.index(nearestDate(NDVI_25_mar,TRMM_date))]).ReadAsArray()\n",
    "\n",
    "        ds_TRMM_ols = (\n",
    "                      11.376 * (ds_NDVI_025 - ds_NDVI) + \n",
    "                      0 * (ds_LAT_025 - ds_LAT_005) + \n",
    "                      0 * (ds_LON_025 - ds_LON_005) +\n",
    "                      0 * (ds_DEM_025 - ds_DEM_005) \n",
    "                      )\n",
    "        ds_TRMM_ols[np.where(ds_TRMM_ols<0)] = 0\n",
    "        ds_TRMM_ols[np.where(ds_TRMM==0)] = 0\n",
    "\n",
    "        folder_out = r'D:\\Downloads\\Mattijn@Shiva\\TRMM_005_35stations//'\n",
    "        file_out = 'TRMM'+NDVI_srcfolder[NDVI_dates.index(nearestDate(NDVI_mar,TRMM_date))][-13::]\n",
    "        out_url = folder_out + file_out\n",
    "        saveRaster(out_url, ds_TRMM_ols, ds_base, 6)\n",
    "    except:\n",
    "        print TRMM_date\n",
    "        continue"
   ]
  },
  {
   "cell_type": "code",
   "execution_count": 12,
   "metadata": {
    "collapsed": true
   },
   "outputs": [],
   "source": [
    "#apr\n",
    "for TRMM_date in NDVI_apr:\n",
    "    try:\n",
    "        ds_TRMM = gdal.Open(TRMM_srcfolder[TRMM_dates.index(TRMM_date)]).ReadAsArray()\n",
    "        ds_NDVI = gdal.Open(NDVI_srcfolder[NDVI_dates.index(nearestDate(NDVI_apr,TRMM_date))]).ReadAsArray()[1::,0:-1]\n",
    "        ds_NDVI_025 = gdal.Open(NDVI_25_srcfolder[NDVI_25_dates.index(nearestDate(NDVI_25_apr,TRMM_date))]).ReadAsArray()\n",
    "\n",
    "        ds_TRMM_ols = (\n",
    "                      23.243 * (ds_NDVI_025 - ds_NDVI) + \n",
    "                      0 * (ds_LAT_025 - ds_LAT_005) + \n",
    "                      -0.449 * (ds_LON_025 - ds_LON_005) +\n",
    "                      -0.003 * (ds_DEM_025 - ds_DEM_005) \n",
    "                      )\n",
    "        ds_TRMM_ols[np.where(ds_TRMM_ols<0)] = 0\n",
    "        ds_TRMM_ols[np.where(ds_TRMM==0)] = 0\n",
    "\n",
    "        folder_out = r'D:\\Downloads\\Mattijn@Shiva\\TRMM_005_35stations//'\n",
    "        file_out = 'TRMM'+NDVI_srcfolder[NDVI_dates.index(nearestDate(NDVI_apr,TRMM_date))][-13::]\n",
    "        out_url = folder_out + file_out\n",
    "        saveRaster(out_url, ds_TRMM_ols, ds_base, 6)\n",
    "    except:\n",
    "        print TRMM_date\n",
    "        continue"
   ]
  },
  {
   "cell_type": "code",
   "execution_count": 13,
   "metadata": {
    "collapsed": true
   },
   "outputs": [],
   "source": [
    "#may\n",
    "for TRMM_date in NDVI_may:\n",
    "    try:\n",
    "        ds_TRMM = gdal.Open(TRMM_srcfolder[TRMM_dates.index(TRMM_date)]).ReadAsArray()\n",
    "        ds_NDVI = gdal.Open(NDVI_srcfolder[NDVI_dates.index(nearestDate(NDVI_may,TRMM_date))]).ReadAsArray()[1::,0:-1]\n",
    "        ds_NDVI_025 = gdal.Open(NDVI_25_srcfolder[NDVI_25_dates.index(nearestDate(NDVI_25_may,TRMM_date))]).ReadAsArray()\n",
    "\n",
    "        ds_TRMM_ols = (\n",
    "                      66.687 * (ds_NDVI_025 - ds_NDVI) + \n",
    "                      0 * (ds_LAT_025 - ds_LAT_005) + \n",
    "                      -0.826 * (ds_LON_025 - ds_LON_005) +\n",
    "                      -0.005 * (ds_DEM_025 - ds_DEM_005) \n",
    "                      )\n",
    "        ds_TRMM_ols[np.where(ds_TRMM_ols<0)] = 0\n",
    "        ds_TRMM_ols[np.where(ds_TRMM==0)] = 0\n",
    "\n",
    "        folder_out = r'D:\\Downloads\\Mattijn@Shiva\\TRMM_005_35stations//'\n",
    "        file_out = 'TRMM'+NDVI_srcfolder[NDVI_dates.index(nearestDate(NDVI_may,TRMM_date))][-13::]\n",
    "        out_url = folder_out + file_out\n",
    "        saveRaster(out_url, ds_TRMM_ols, ds_base, 6)\n",
    "    except:\n",
    "        print TRMM_date\n",
    "        continue"
   ]
  },
  {
   "cell_type": "code",
   "execution_count": 14,
   "metadata": {
    "collapsed": true
   },
   "outputs": [],
   "source": [
    "#jun\n",
    "for TRMM_date in NDVI_may:\n",
    "    try:\n",
    "        ds_TRMM = gdal.Open(TRMM_srcfolder[TRMM_dates.index(TRMM_date)]).ReadAsArray()\n",
    "        ds_NDVI = gdal.Open(NDVI_srcfolder[NDVI_dates.index(nearestDate(NDVI_jun,TRMM_date))]).ReadAsArray()[1::,0:-1]\n",
    "        ds_NDVI_025 = gdal.Open(NDVI_25_srcfolder[NDVI_25_dates.index(nearestDate(NDVI_25_jun,TRMM_date))]).ReadAsArray()\n",
    "\n",
    "        ds_TRMM_ols = (\n",
    "                      0 * (ds_NDVI_025 - ds_NDVI) +\n",
    "                      -2.225 * (ds_LAT_025 - ds_LAT_005) + \n",
    "                      0 * (ds_LON_025 - ds_LON_005) +\n",
    "                      -0.010 * (ds_DEM_025 - ds_DEM_005) \n",
    "                      )\n",
    "        ds_TRMM_ols[np.where(ds_TRMM_ols<0)] = 0\n",
    "        ds_TRMM_ols[np.where(ds_TRMM==0)] = 0\n",
    "\n",
    "        folder_out = r'D:\\Downloads\\Mattijn@Shiva\\TRMM_005_35stations//'\n",
    "        file_out = 'TRMM'+NDVI_srcfolder[NDVI_dates.index(nearestDate(NDVI_jun,TRMM_date))][-13::]\n",
    "        out_url = folder_out + file_out\n",
    "        saveRaster(out_url, ds_TRMM_ols, ds_base, 6)\n",
    "    except:\n",
    "        print TRMM_date\n",
    "        continue"
   ]
  },
  {
   "cell_type": "code",
   "execution_count": 15,
   "metadata": {
    "collapsed": true
   },
   "outputs": [],
   "source": [
    "#jul\n",
    "for TRMM_date in NDVI_may:\n",
    "    try:\n",
    "        ds_TRMM = gdal.Open(TRMM_srcfolder[TRMM_dates.index(TRMM_date)]).ReadAsArray()\n",
    "        ds_NDVI = gdal.Open(NDVI_srcfolder[NDVI_dates.index(nearestDate(NDVI_jul,TRMM_date))]).ReadAsArray()[1::,0:-1]\n",
    "        ds_NDVI_025 = gdal.Open(NDVI_25_srcfolder[NDVI_25_dates.index(nearestDate(NDVI_25_jul,TRMM_date))]).ReadAsArray()\n",
    "\n",
    "        ds_TRMM_ols = (\n",
    "                      0 * (ds_NDVI_025 - ds_NDVI) +\n",
    "                      -3.44 * (ds_LAT_025 - ds_LAT_005) + \n",
    "                      0 * (ds_LON_025 - ds_LON_005) +\n",
    "                      -0.011 * (ds_DEM_025 - ds_DEM_005) \n",
    "                      )\n",
    "        ds_TRMM_ols[np.where(ds_TRMM_ols<0)] = 0\n",
    "        ds_TRMM_ols[np.where(ds_TRMM==0)] = 0\n",
    "\n",
    "        folder_out = r'D:\\Downloads\\Mattijn@Shiva\\TRMM_005_35stations//'\n",
    "        file_out = 'TRMM'+NDVI_srcfolder[NDVI_dates.index(nearestDate(NDVI_jul,TRMM_date))][-13::]\n",
    "        out_url = folder_out + file_out\n",
    "        saveRaster(out_url, ds_TRMM_ols, ds_base, 6)\n",
    "    except:\n",
    "        print TRMM_date\n",
    "        continue"
   ]
  },
  {
   "cell_type": "code",
   "execution_count": 16,
   "metadata": {
    "collapsed": true
   },
   "outputs": [],
   "source": [
    "#aug\n",
    "for TRMM_date in NDVI_may:\n",
    "    try:\n",
    "        ds_TRMM = gdal.Open(TRMM_srcfolder[TRMM_dates.index(TRMM_date)]).ReadAsArray()\n",
    "        ds_NDVI = gdal.Open(NDVI_srcfolder[NDVI_dates.index(nearestDate(NDVI_aug,TRMM_date))]).ReadAsArray()[1::,0:-1]\n",
    "        ds_NDVI_025 = gdal.Open(NDVI_25_srcfolder[NDVI_25_dates.index(nearestDate(NDVI_25_aug,TRMM_date))]).ReadAsArray()\n",
    "\n",
    "        ds_TRMM_ols = (\n",
    "                      26.455 * (ds_NDVI_025 - ds_NDVI) +\n",
    "                      -2.495 * (ds_LAT_025 - ds_LAT_005) + \n",
    "                      0 * (ds_LON_025 - ds_LON_005) +\n",
    "                      -0.005 * (ds_DEM_025 - ds_DEM_005) \n",
    "                      )\n",
    "        ds_TRMM_ols[np.where(ds_TRMM_ols<0)] = 0\n",
    "        ds_TRMM_ols[np.where(ds_TRMM==0)] = 0\n",
    "\n",
    "        folder_out = r'D:\\Downloads\\Mattijn@Shiva\\TRMM_005_35stations//'\n",
    "        file_out = 'TRMM'+NDVI_srcfolder[NDVI_dates.index(nearestDate(NDVI_aug,TRMM_date))][-13::]\n",
    "        out_url = folder_out + file_out\n",
    "        saveRaster(out_url, ds_TRMM_ols, ds_base, 6)\n",
    "    except:\n",
    "        print TRMM_date\n",
    "        continue"
   ]
  },
  {
   "cell_type": "code",
   "execution_count": 17,
   "metadata": {
    "collapsed": true
   },
   "outputs": [],
   "source": [
    "#sep\n",
    "for TRMM_date in NDVI_may:\n",
    "    try:\n",
    "        ds_TRMM = gdal.Open(TRMM_srcfolder[TRMM_dates.index(TRMM_date)]).ReadAsArray()\n",
    "        ds_NDVI = gdal.Open(NDVI_srcfolder[NDVI_dates.index(nearestDate(NDVI_sep,TRMM_date))]).ReadAsArray()[1::,0:-1]\n",
    "        ds_NDVI_025 = gdal.Open(NDVI_25_srcfolder[NDVI_25_dates.index(nearestDate(NDVI_25_sep,TRMM_date))]).ReadAsArray()\n",
    "\n",
    "        ds_TRMM_ols = (\n",
    "                      22.639 * (ds_NDVI_025 - ds_NDVI) +\n",
    "                      -0.006 * (ds_LAT_025 - ds_LAT_005) + \n",
    "                      0 * (ds_LON_025 - ds_LON_005) +\n",
    "                      -1.662 * (ds_DEM_025 - ds_DEM_005) \n",
    "                      )\n",
    "        ds_TRMM_ols[np.where(ds_TRMM_ols<0)] = 0\n",
    "        ds_TRMM_ols[np.where(ds_TRMM==0)] = 0\n",
    "\n",
    "        folder_out = r'D:\\Downloads\\Mattijn@Shiva\\TRMM_005_35stations//'\n",
    "        file_out = 'TRMM'+NDVI_srcfolder[NDVI_dates.index(nearestDate(NDVI_sep,TRMM_date))][-13::]\n",
    "        out_url = folder_out + file_out\n",
    "        saveRaster(out_url, ds_TRMM_ols, ds_base, 6)\n",
    "    except:\n",
    "        print TRMM_date\n",
    "        continue"
   ]
  },
  {
   "cell_type": "code",
   "execution_count": 18,
   "metadata": {
    "collapsed": true
   },
   "outputs": [],
   "source": [
    "#oct\n",
    "for TRMM_date in NDVI_may:\n",
    "    try:\n",
    "        ds_TRMM = gdal.Open(TRMM_srcfolder[TRMM_dates.index(TRMM_date)]).ReadAsArray()\n",
    "        ds_NDVI = gdal.Open(NDVI_srcfolder[NDVI_dates.index(nearestDate(NDVI_oct,TRMM_date))]).ReadAsArray()[1::,0:-1]\n",
    "        ds_NDVI_025 = gdal.Open(NDVI_25_srcfolder[NDVI_25_dates.index(nearestDate(NDVI_25_oct,TRMM_date))]).ReadAsArray()\n",
    "\n",
    "        ds_TRMM_ols = (\n",
    "                      42.422 * (ds_NDVI_025 - ds_NDVI) +\n",
    "                      0 * (ds_LAT_025 - ds_LAT_005) + \n",
    "                      -0.808 * (ds_LON_025 - ds_LON_005) +\n",
    "                      -0.003 * (ds_DEM_025 - ds_DEM_005) \n",
    "                      )\n",
    "        ds_TRMM_ols[np.where(ds_TRMM_ols<0)] = 0\n",
    "        ds_TRMM_ols[np.where(ds_TRMM==0)] = 0\n",
    "\n",
    "        folder_out = r'D:\\Downloads\\Mattijn@Shiva\\TRMM_005_35stations//'\n",
    "        file_out = 'TRMM'+NDVI_srcfolder[NDVI_dates.index(nearestDate(NDVI_oct,TRMM_date))][-13::]\n",
    "        out_url = folder_out + file_out\n",
    "        saveRaster(out_url, ds_TRMM_ols, ds_base, 6)\n",
    "    except:\n",
    "        print TRMM_date\n",
    "        continue"
   ]
  },
  {
   "cell_type": "code",
   "execution_count": 19,
   "metadata": {
    "collapsed": true
   },
   "outputs": [],
   "source": [
    "#nov\n",
    "for TRMM_date in NDVI_may:\n",
    "    try:\n",
    "        ds_TRMM = gdal.Open(TRMM_srcfolder[TRMM_dates.index(TRMM_date)]).ReadAsArray()\n",
    "        ds_NDVI = gdal.Open(NDVI_srcfolder[NDVI_dates.index(nearestDate(NDVI_nov,TRMM_date))]).ReadAsArray()[1::,0:-1]\n",
    "        ds_NDVI_025 = gdal.Open(NDVI_25_srcfolder[NDVI_25_dates.index(nearestDate(NDVI_25_nov,TRMM_date))]).ReadAsArray()\n",
    "\n",
    "        ds_TRMM_ols = (\n",
    "                      6.204 * (ds_NDVI_025 - ds_NDVI) +\n",
    "                      0 * (ds_LAT_025 - ds_LAT_005) + \n",
    "                      0 * (ds_LON_025 - ds_LON_005) +\n",
    "                      0 * (ds_DEM_025 - ds_DEM_005) \n",
    "                      )\n",
    "        ds_TRMM_ols[np.where(ds_TRMM_ols<0)] = 0\n",
    "        ds_TRMM_ols[np.where(ds_TRMM==0)] = 0\n",
    "\n",
    "        folder_out = r'D:\\Downloads\\Mattijn@Shiva\\TRMM_005_35stations//'\n",
    "        file_out = 'TRMM'+NDVI_srcfolder[NDVI_dates.index(nearestDate(NDVI_nov,TRMM_date))][-13::]\n",
    "        out_url = folder_out + file_out\n",
    "        saveRaster(out_url, ds_TRMM_ols, ds_base, 6)\n",
    "    except:\n",
    "        print TRMM_date\n",
    "        continue"
   ]
  },
  {
   "cell_type": "code",
   "execution_count": null,
   "metadata": {
    "collapsed": true
   },
   "outputs": [],
   "source": []
  },
  {
   "cell_type": "code",
   "execution_count": null,
   "metadata": {
    "collapsed": false
   },
   "outputs": [],
   "source": [
    "0 * 2 + 1 * 2 + 0 * 3 + 1 * 4"
   ]
  },
  {
   "cell_type": "code",
   "execution_count": null,
   "metadata": {
    "collapsed": false
   },
   "outputs": [],
   "source": [
    "\n",
    "im = plt.imshow(ds_TRMM_ols)\n",
    "plt.colorbar(im)"
   ]
  },
  {
   "cell_type": "code",
   "execution_count": null,
   "metadata": {
    "collapsed": false
   },
   "outputs": [],
   "source": [
    "im = plt.imshow(ds_TRMM)\n",
    "plt.colorbar(im)"
   ]
  },
  {
   "cell_type": "code",
   "execution_count": null,
   "metadata": {
    "collapsed": false
   },
   "outputs": [],
   "source": [
    "im = plt.imshow(ds_NDVI_025)\n",
    "plt.colorbar(im)"
   ]
  },
  {
   "cell_type": "code",
   "execution_count": null,
   "metadata": {
    "collapsed": false
   },
   "outputs": [],
   "source": [
    "for NDVI_srcfile in NDVI_srcfolder[0:1]:\n",
    "    print NDVI_srcfile\n",
    "    ds_NDVI = gdal.Open(NDVI_srcfile).ReadAsArray()[1::,0:-1]"
   ]
  },
  {
   "cell_type": "code",
   "execution_count": null,
   "metadata": {
    "collapsed": true
   },
   "outputs": [],
   "source": []
  },
  {
   "cell_type": "code",
   "execution_count": null,
   "metadata": {
    "collapsed": true
   },
   "outputs": [],
   "source": [
    "ds_test_tmpfilename = gdal.Open(tmpfilename).ReadAsArray()\n",
    "logging.info(ds_test_tmpfilename[0])\n",
    "\n",
    "ds=gdal.Open(tmpfilename)\n",
    "clippedfilename='test'+str(j.toordinal())+'clip.tif' \n",
    "\n",
    "path_base = \"/var/www/html/wps/CHN_adm\"\n",
    "CHN_adm_gpkg = os.path.join(path_base, \"CHN_adm.gpkg\")\n",
    "\n",
    "command = [\"/usr/bin/gdalwarp\",\"-cutline\",CHN_adm_gpkg,\"-csql\",\"SELECT NAME_3 FROM CHN_adm3 WHERE NAME_1 = '\"+NAME_1+\"' and NAME_2 = '\"+NAME_2+\"' and NAME_3 = '\"+NAME_3+\"'\",\"-crop_to_cutline\",\"-of\",\"GTiff\",\"-dstnodata\",\"-9999\",tmpfilename,clippedfilename, \"-overwrite\"]\n",
    "\n",
    "logging.info(sp.list2cmdline(command))\n",
    "#print (sp.list2cmdline(command))\n",
    "\n",
    "norm = sp.Popen(sp.list2cmdline(command),stdout=sp.PIPE, shell=True)  \n",
    "norm.communicate()   \n",
    "\n",
    "ds=gdal.Open(clippedfilename)\n",
    "ds_clip = ds.ReadAsArray() \n",
    "\n",
    "ds=gdal.Open(tmpfilename)\n",
    "ds_clip = ds.ReadAsArray()     "
   ]
  }
 ],
 "metadata": {
  "kernelspec": {
   "display_name": "Python 2",
   "language": "python",
   "name": "python2"
  },
  "language_info": {
   "codemirror_mode": {
    "name": "ipython",
    "version": 2
   },
   "file_extension": ".py",
   "mimetype": "text/x-python",
   "name": "python",
   "nbconvert_exporter": "python",
   "pygments_lexer": "ipython2",
   "version": "2.7.6"
  }
 },
 "nbformat": 4,
 "nbformat_minor": 0
}
