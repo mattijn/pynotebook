{
 "cells": [
  {
   "cell_type": "code",
   "execution_count": null,
   "metadata": {
    "collapsed": true
   },
   "outputs": [],
   "source": [
    "from xml.etree import ElementTree\n",
    "from xml.dom import minidom\n",
    "import glob, os\n",
    "from xml.etree.ElementTree import Element, SubElement, Comment\n",
    "import subprocess as sp\n",
    "import pandas as pd\n",
    "from datetime import datetime"
   ]
  },
  {
   "cell_type": "code",
   "execution_count": null,
   "metadata": {
    "collapsed": true
   },
   "outputs": [],
   "source": [
    "def prettify(elem):\n",
    "    \"\"\"Return a pretty-printed XML string for the Element.\n",
    "    \"\"\"\n",
    "    rough_string = ElementTree.tostring(elem, 'utf-8')\n",
    "    reparsed = minidom.parseString(rough_string)\n",
    "    return reparsed.toprettyxml(indent=\"  \")"
   ]
  },
  {
   "cell_type": "code",
   "execution_count": null,
   "metadata": {
    "collapsed": false
   },
   "outputs": [],
   "source": [
    "def writeOGRVRT(basename, fullpath):\n",
    "    top = Element('OGRVRTDataSource')\n",
    "    child = SubElement(top, 'OGRVRTLayer')\n",
    "    child.set('name', basename)\n",
    "    sub_child_1 = SubElement(child, 'SrcDataSource')\n",
    "    sub_child_1.text = fullpath\n",
    "    sub_child_2 = SubElement(child, 'GeometryType')\n",
    "    sub_child_2.text = 'wkbPoint'\n",
    "    sub_child_3 = SubElement(child, 'LayerSRS')\n",
    "    sub_child_3.text = 'EPSG:28992'\n",
    "    sub_child_4 = SubElement(child, 'GeometryField')\n",
    "    sub_child_4.set('encoding','PointFromColumns')\n",
    "    sub_child_4.set('x','field_1')\n",
    "    sub_child_4.set('y','field_2')\n",
    "    sub_child_4.set('z','field_3')\n",
    "\n",
    "    return prettify(top)"
   ]
  },
  {
   "cell_type": "code",
   "execution_count": null,
   "metadata": {
    "collapsed": true
   },
   "outputs": [],
   "source": [
    "directory = r'D:\\Projects\\Pr\\3317.20\\Toeleveringen\\peiling_all'\n",
    "csv_dir = r'D:\\Projects\\Pr\\3317.20\\Toeleveringen\\peiling_all\\csv_OGRVRT'\n",
    "vrt_dir = r'D:\\Projects\\Pr\\3317.20\\Toeleveringen\\peiling_all\\vrt_OGRVRT'\n",
    "shp_dir = r'D:\\Projects\\Pr\\3317.20\\Toeleveringen\\peiling_all\\shp_OGRVRT'\n",
    "asc_dir = r'D:\\Projects\\Pr\\3317.20\\Toeleveringen\\peiling_all\\asc_OGRVRT'\n",
    "ogr2ogr = r'C:\\Python35\\Lib\\site-packages\\osgeo//ogr2ogr.exe'\n",
    "gdal_rasterize = r'C:\\Python35\\Lib\\site-packages\\osgeo//gdal_rasterize.exe'"
   ]
  },
  {
   "cell_type": "code",
   "execution_count": null,
   "metadata": {
    "collapsed": false
   },
   "outputs": [],
   "source": [
    "for root, dirs, files in os.walk(directory):\n",
    "    for file in files:\n",
    "        if file.endswith('.asc'):\n",
    "            old_name = os.path.join( os.path.abspath(root), file )\n",
    "            base, extension = os.path.splitext(file)\n",
    "            #print (base)"
   ]
  },
  {
   "cell_type": "code",
   "execution_count": null,
   "metadata": {
    "collapsed": false
   },
   "outputs": [],
   "source": [
    "for root, dirs, files in os.walk(directory):\n",
    "    for file in files:\n",
    "        if file.endswith('.asc'):\n",
    "            old_name = os.path.join( os.path.abspath(root), file )\n",
    "            base, extension = os.path.splitext(file)\n",
    "            print (base)\n",
    "            \n",
    "            #write csv\n",
    "            csv_out = os.path.join(csv_dir,base+'.csv')\n",
    "            df = pd.read_csv(old_name, header=None)\n",
    "            df.to_csv(csv_out, header=False, index=False, sep=';')\n",
    "            \n",
    "            # write vrt \n",
    "            vrt_out = os.path.join(vrt_dir,base+'.vrt')\n",
    "            with open(vrt_out, 'w') as the_file:\n",
    "                the_file.write(writeOGRVRT(base, csv_out))\n",
    "            \n",
    "            # convert asc to shp\n",
    "            shp_out = os.path.join(shp_dir,base+'.shp')\n",
    "            command = [ogr2ogr, '-f','ESRI Shapefile',shp_out,vrt_out]\n",
    "            print (sp.list2cmdline(command))\n",
    "            norm = sp.Popen(sp.list2cmdline(command),stdout=sp.PIPE, shell=True)\n",
    "            norm.communicate()\n",
    "            \n",
    "            # convert base date to fews_data \n",
    "            # see: https://publicwiki.deltares.nl/display/FEWSDOC/ArcInfoAscii\n",
    "            dateISO = datetime(int('20'+base[15:17]), int(base[17:19]), int(base[19:21]))\n",
    "            dateStr = dateISO.strftime(\"%Y%m%d%M%S\")\n",
    "            \n",
    "            # get path out\n",
    "            loc_out = (base[22::]).replace('_','')\n",
    "            loc_out = loc_out.replace('-','')\n",
    "            base_par_loc = 'peiling'+loc_out            \n",
    "            arcinfoascii_out = base_par_loc + '_' + dateStr + '.asc'\n",
    "            print (arcinfoascii_out)\n",
    "            \n",
    "            # convert shp to arcinfoascii [asc]\n",
    "            asc_out = os.path.join(asc_dir,arcinfoascii_out)\n",
    "            command = [gdal_rasterize, '-a','field_3','-of','AAIGrid','-tr','1.0','1.0','-l',base,shp_out,asc_out]\n",
    "            print (sp.list2cmdline(command))\n",
    "            norm = sp.Popen(sp.list2cmdline(command),stdout=sp.PIPE, shell=True)\n",
    "            norm.communicate()            "
   ]
  },
  {
   "cell_type": "code",
   "execution_count": null,
   "metadata": {
    "collapsed": true
   },
   "outputs": [],
   "source": []
  }
 ],
 "metadata": {
  "kernelspec": {
   "display_name": "Python 3",
   "language": "python",
   "name": "python3"
  },
  "language_info": {
   "codemirror_mode": {
    "name": "ipython",
    "version": 3
   },
   "file_extension": ".py",
   "mimetype": "text/x-python",
   "name": "python",
   "nbconvert_exporter": "python",
   "pygments_lexer": "ipython3",
   "version": "3.5.2"
  }
 },
 "nbformat": 4,
 "nbformat_minor": 0
}
