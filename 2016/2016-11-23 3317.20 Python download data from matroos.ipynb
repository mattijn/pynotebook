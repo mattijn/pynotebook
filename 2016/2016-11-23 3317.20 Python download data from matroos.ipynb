{
 "cells": [
  {
   "cell_type": "code",
   "execution_count": 1,
   "metadata": {
    "collapsed": false
   },
   "outputs": [],
   "source": [
    "from requests import get\n",
    "import datetime \n",
    "from datetime import datetime, timedelta\n",
    "from bs4 import BeautifulSoup\n",
    "from itertools import permutations, islice\n",
    "import os\n",
    "from multiprocessing.pool import ThreadPool\n",
    "from time import time as timer"
   ]
  },
  {
   "cell_type": "code",
   "execution_count": 7,
   "metadata": {
    "collapsed": true
   },
   "outputs": [],
   "source": [
    "def paralise_downloads(params):    \n",
    "    \"\"\"\n",
    "    params[0]   :  baseimportdir (to save netcdf)\n",
    "    params[1]   :  source (model naam matroos)\n",
    "    params[2]   :  variable (variable naam matroos)\n",
    "    params[3]   :  from_time (start time matroos)\n",
    "    params[4]   :  to_time (end time matroos)\n",
    "    params[5]   :  strnow (current time matroos)\n",
    "    params[6]   :  stridetime (interval matroos)\n",
    "    params[7]   :  cellx (cell size x)\n",
    "    params[8]   :  celly (cell size y)    \n",
    "    params[9]   :  xn (cell count x)    \n",
    "    params[10]  :  yn (cell count y)        \n",
    "    \"\"\"\n",
    "    try:\n",
    "        # print(params)\n",
    "        url = r'http://matroos.rws.nl:80//matroos/scripts/matroos.pl?source='+params[1]+'&anal=000000000000&z=0&xmin=99000.000000&xmax=285400.000000&ymin=540000.000000&ymax=642750.000000&coords=RD&xmin_abs=&xmax_abs=285280&ymin_abs=347988&ymax_abs=679972&color='+params[2]+'&interpolate=size&now='+params[5]+'&to='+params[4]+'&from='+params[3]+'&outputformat=nc&stridex=&stridey=&stridetime='+params[6]+'&xn='+params[9]+'&yn='+params[10]+'&celly='+params[8]+'&cellx='+params[7]+'&fieldoutput='+params[2]+'&format=nc'\n",
    "        out = os.path.join(params[0], params[1], params[2], params[2]+'_'+params[3]+'_'+params[4]+'.nc')\n",
    "        print('-----\\n',url,'\\n-----')        \n",
    "        download(url, out)\n",
    "        #response = get(url)\n",
    "        return url, out, None\n",
    "    except Exception as e:\n",
    "        return url, out, e\n",
    "\n",
    "def download(url, file_name):\n",
    "    # open in binary mode\n",
    "    with open(file_name, \"wb\") as file:\n",
    "        # get request\n",
    "        matroos_pl = get(url)\n",
    "        # write to file\n",
    "        file.write(matroos_pl.content) \n",
    "        \n",
    "\n",
    "def nth(iterable, n, default=None):\n",
    "    \"Returns the nth item or a default value\"\n",
    "    return next(islice(iterable, n, None), default)        "
   ]
  },
  {
   "cell_type": "code",
   "execution_count": 3,
   "metadata": {
    "collapsed": true
   },
   "outputs": [],
   "source": [
    "baseImportDir = r'D:\\OMS_Waddenzee\\trunk\\fews\\Import\\rws\\matroos'\n",
    "source = 'hmcn_kustfijn'\n",
    "variables = ['VELV', 'VELU', 'SEP'] # 'H' \n",
    "data_php_url = r'http://matroos.rws.nl/maps/start/data.php?source=hmcn_kustfijn&addmap=&format=txt&coords=RD&xmin_abs=-71712.4&xmax_abs=285280&ymin_abs=347988&ymax_abs=679972&interpolate=size&xmin=99000.000000&xmax=285400.000000&ymin=540000.000000&ymax=642750.000000&anal=000000000000'"
   ]
  },
  {
   "cell_type": "code",
   "execution_count": 4,
   "metadata": {
    "collapsed": false,
    "scrolled": false
   },
   "outputs": [
    {
     "name": "stdout",
     "output_type": "stream",
     "text": [
      "[['D:\\\\OMS_Waddenzee\\\\trunk\\\\fews\\\\Import\\\\rws\\\\matroos', 'hmcn_kustfijn', 'VELV', '201611241320', '201611260420', '201611240000', '1', '197', '255', '942', '402'], ['D:\\\\OMS_Waddenzee\\\\trunk\\\\fews\\\\Import\\\\rws\\\\matroos', 'hmcn_kustfijn', 'VELU', '201611241320', '201611260420', '201611240000', '1', '197', '255', '942', '402'], ['D:\\\\OMS_Waddenzee\\\\trunk\\\\fews\\\\Import\\\\rws\\\\matroos', 'hmcn_kustfijn', 'SEP', '201611241320', '201611260420', '201611240000', '1', '197', '255', '942', '402']]\n"
     ]
    }
   ],
   "source": [
    "## FIRST CHECK WHAT IS THE CURRENT DATE AND END DATES AND USE TO SET START DATE\n",
    "data_php = get(data_php_url, auth=('HKVtestAccount', 'Mi2eez0azeiga'))\n",
    "html = data_php.content\n",
    "\n",
    "soup = BeautifulSoup(html, \"html.parser\")\n",
    "\n",
    "# get strnow element from soup\n",
    "iso_strnow = datetime.strptime(soup.find('input', attrs={'name': 'strnow'}).get('value'), '%Y-%m-%d %H:%M:%S')\n",
    "strnow = iso_strnow.strftime('%Y%m%d%H%M')\n",
    "\n",
    "# get stridetime from soup\n",
    "stridetime = soup.find('option', text='  0.2 hour').get('value')\n",
    "\n",
    "# get cell size / count size source\n",
    "cellx = soup.find('input', attrs={'name': 'cellx'}).get('value')\n",
    "celly = soup.find('input', attrs={'name': 'celly'}).get('value')\n",
    "xn = soup.find('input', attrs={'name': 'xn'}).get('value')\n",
    "yn = soup.find('input', attrs={'name': 'yn'}).get('value')\n",
    "\n",
    "# get all dates of the from list\n",
    "soup_from = soup.find('select', attrs={'name':'from'})\n",
    "dates_str = []\n",
    "for ix in range(len(soup_from)):\n",
    "    try:\n",
    "        dates_str.append(nth(soup_from.children, ix).text)\n",
    "    except:\n",
    "        pass\n",
    "dates_str = dates_str[1::]\n",
    "\n",
    "# convert date_str to datetime dates list\n",
    "dates = [datetime.strptime(date, '%Y-%m-%d %H:%M:%S') for date in dates_str]\n",
    "\n",
    "# get current time \n",
    "now = datetime.now()\n",
    "\n",
    "# get closest date in dates list to current time\n",
    "iso_from_time = min(dates, key=lambda d: abs(d-now))\n",
    "from_time = iso_from_time.strftime('%Y%m%d%H%M')\n",
    "iso_to_time = dates[0]\n",
    "to_time = iso_to_time.strftime('%Y%m%d%H%M')\n",
    "\n",
    "# get parameters as list option\n",
    "parameters = []\n",
    "for variable in variables:\n",
    "    parameters.append([baseImportDir,source,variable,from_time,to_time,strnow,stridetime, cellx, celly, xn, yn])\n",
    "print (parameters)"
   ]
  },
  {
   "cell_type": "code",
   "execution_count": 8,
   "metadata": {
    "collapsed": false,
    "scrolled": false
   },
   "outputs": [
    {
     "name": "stdout",
     "output_type": "stream",
     "text": [
      "-----\n",
      "-----\n",
      " http://matroos.rws.nl:80//matroos/scripts/matroos.pl?source=hmcn_kustfijn&anal=000000000000&z=0&xmin=99000.000000&xmax=285400.000000&ymin=540000.000000&ymax=642750.000000&coords=RD&xmin_abs=&xmax_abs=285280&ymin_abs=347988&ymax_abs=679972&color=VELU&interpolate=size&now=201611240000&to=201611260420&from=201611241320&outputformat=nc&stridex=&stridey=&stridetime=1&xn=942&yn=402&celly=255&cellx=197&fieldoutput=VELU&format=nc \n",
      "-----\n",
      "-----\n",
      " http://matroos.rws.nl:80//matroos/scripts/matroos.pl?source=hmcn_kustfijn&anal=000000000000&z=0&xmin=99000.000000&xmax=285400.000000&ymin=540000.000000&ymax=642750.000000&coords=RD&xmin_abs=&xmax_abs=285280&ymin_abs=347988&ymax_abs=679972&color=SEP&interpolate=size&now=201611240000&to=201611260420&from=201611241320&outputformat=nc&stridex=&stridey=&stridetime=1&xn=942&yn=402&celly=255&cellx=197&fieldoutput=SEP&format=nc \n",
      "-----\n",
      " http://matroos.rws.nl:80//matroos/scripts/matroos.pl?source=hmcn_kustfijn&anal=000000000000&z=0&xmin=99000.000000&xmax=285400.000000&ymin=540000.000000&ymax=642750.000000&coords=RD&xmin_abs=&xmax_abs=285280&ymin_abs=347988&ymax_abs=679972&color=VELV&interpolate=size&now=201611240000&to=201611260420&from=201611241320&outputformat=nc&stridex=&stridey=&stridetime=1&xn=942&yn=402&celly=255&cellx=197&fieldoutput=VELV&format=nc \n",
      "-----\n",
      "'D:\\\\OMS_Waddenzee\\\\trunk\\\\fews\\\\Import\\\\rws\\\\matroos\\\\hmcn_kustfijn\\\\SEP\\\\SEP_201611241320_201611260420.nc' fetched in 510.0079998970032s\n",
      "'D:\\\\OMS_Waddenzee\\\\trunk\\\\fews\\\\Import\\\\rws\\\\matroos\\\\hmcn_kustfijn\\\\VELV\\\\VELV_201611241320_201611260420.nc' fetched in 513.5880000591278s\n",
      "'D:\\\\OMS_Waddenzee\\\\trunk\\\\fews\\\\Import\\\\rws\\\\matroos\\\\hmcn_kustfijn\\\\VELU\\\\VELU_201611241320_201611260420.nc' fetched in 564.1579999923706s\n",
      "Elapsed Time: 564.1579999923706\n"
     ]
    }
   ],
   "source": [
    "# retrieve matroos data in parallel\n",
    "start = timer()\n",
    "results = ThreadPool(20).imap_unordered(paralise_downloads, parameters)\n",
    "\n",
    "for url, out, error in results:\n",
    "    if error is None:\n",
    "        print(\"%r fetched in %ss\" % (out, timer() - start))\n",
    "    else:\n",
    "        print(\"error fetching %r: %s\" % (out, error))\n",
    "        \n",
    "print(\"Elapsed Time: %s\" % (timer() - start,))"
   ]
  },
  {
   "cell_type": "code",
   "execution_count": null,
   "metadata": {
    "collapsed": true
   },
   "outputs": [],
   "source": []
  }
 ],
 "metadata": {
  "kernelspec": {
   "display_name": "Python 3",
   "language": "python",
   "name": "python3"
  },
  "language_info": {
   "codemirror_mode": {
    "name": "ipython",
    "version": 3
   },
   "file_extension": ".py",
   "mimetype": "text/x-python",
   "name": "python",
   "nbconvert_exporter": "python",
   "pygments_lexer": "ipython3",
   "version": "3.5.2"
  }
 },
 "nbformat": 4,
 "nbformat_minor": 0
}
