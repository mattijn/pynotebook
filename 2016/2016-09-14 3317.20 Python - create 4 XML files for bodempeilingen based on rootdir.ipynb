{
 "cells": [
  {
   "cell_type": "code",
   "execution_count": 1,
   "metadata": {
    "collapsed": true,
    "jupyter": {
     "outputs_hidden": true
    }
   },
   "outputs": [],
   "source": [
    "from xml.etree import ElementTree\n",
    "from xml.dom import minidom\n",
    "import glob, os, sys, time\n",
    "from shutil import copy\n",
    "from xml.etree.ElementTree import Element, SubElement, Comment\n",
    "from itertools import islice\n",
    "import re"
   ]
  },
  {
   "cell_type": "code",
   "execution_count": 2,
   "metadata": {
    "collapsed": true,
    "jupyter": {
     "outputs_hidden": true
    }
   },
   "outputs": [],
   "source": [
    "def prettify(elem):\n",
    "    \"\"\"Return a pretty-printed XML string for the Element.\n",
    "    \"\"\"\n",
    "    rough_string = ElementTree.tostring(elem, 'utf-8')\n",
    "    reparsed = minidom.parseString(rough_string)\n",
    "    return reparsed.toprettyxml(indent=\"  \")\n",
    "\n",
    "def gridXml(filename, header, top):\n",
    "    reg = SubElement(top,'regular')\n",
    "    reg.set('locationId','l.'+filename[0:7])\n",
    "    child_1 = SubElement(reg, 'rows').text = str(header[1])\n",
    "    child_2 = SubElement(reg, 'columns').text = str(header[0])\n",
    "    child_3 = SubElement(reg, 'geoDatum').text = 'Rijks Driehoekstelsel'\n",
    "    child_4 = SubElement(reg, 'firstCellCenter')\n",
    "    child_4_sub = SubElement(child_4, 'x').text = str(header[2]+0.5)\n",
    "    child_4_sub = SubElement(child_4, 'y').text = str(header[3]+header[1]-0.5)\n",
    "    child_5 = SubElement(reg, 'xCellSize').text = str(header[4])\n",
    "    child_6 = SubElement(reg, 'yCellSize').text = str(header[4])\n",
    "    return top\n",
    "\n",
    "def idMapXml(filename, top):\n",
    "    map_ = SubElement(top,'map')\n",
    "    map_.set('internalLocation','l.'+filename[0:7])\n",
    "    map_.set('externalParameter',filename[0:7])\n",
    "    map_.set('internalParameter','h.m')\n",
    "    map_.set('externalLocation','ARC_INFO_LOC')\n",
    "    return top\n",
    "\n",
    "def LocationsXml(filename, top):\n",
    "    map_ = SubElement(top,'location')\n",
    "    map_.set('id','l.'+filename[0:7])\n",
    "    map_.set('name','Baggervak '+filename[4:7])\n",
    "    map_sub = SubElement(map_, 'x').text = str(0)\n",
    "    map_sub = SubElement(map_, 'y').text = str(0)\n",
    "    return top\n",
    "\n",
    "def LocationSetsXml(filename, top, child):\n",
    "    locId = SubElement(child,'locationId').text = 'l.'+filename[0:7]\n",
    "    return top\n",
    "\n",
    "non_decimal = re.compile(r'[^\\d.,-]+')"
   ]
  },
  {
   "cell_type": "code",
   "execution_count": 3,
   "metadata": {
    "collapsed": true,
    "jupyter": {
     "outputs_hidden": true
    }
   },
   "outputs": [],
   "source": [
    "asciiDataDir = r'D:\\OMS_Waddenzee\\trunk\\fews'\n",
    "rootDir = r'D:\\OMS_Waddenzee\\trunk\\fews'\n",
    "xmldir = os.path.join(rootDir, r'ImportInterim\\geoxyz\\bodempeilingen\\XMLGenerated')"
   ]
  },
  {
   "cell_type": "code",
   "execution_count": 14,
   "metadata": {
    "collapsed": false,
    "jupyter": {
     "outputs_hidden": false
    }
   },
   "outputs": [],
   "source": [
    "asciiFiles = []\n",
    "asciiFile_fullPath = []\n",
    "for root, dirs, files in os.walk(asciiDataDir):\n",
    "    for file in files:\n",
    "        if file.startswith('grid') and file.endswith('.asc'):\n",
    "            asciiFiles.append(file)\n",
    "            asciiFile_fullPath.append(os.path.join( os.path.abspath(root), file ))\n",
    "\n",
    "asciiLocs = []\n",
    "for file in asciiFiles:\n",
    "    asciiLocs.append(file[0:7])\n",
    "\n",
    "asciiLocsUnique = list(set(asciiLocs))\n",
    "asciiLocsUnique.sort()\n",
    "\n",
    "asciiFilesUnique = []\n",
    "asciiFilesUnique_fullPath = []\n",
    "for i in asciiLocsUnique:\n",
    "    asciiFilesUnique.append(next(obj for obj in asciiFiles if obj[0:7]==i))\n",
    "    asciiFilesUnique_fullPath.append(next(obj for obj in asciiFile_fullPath if obj[-26:-19]==i))"
   ]
  },
  {
   "cell_type": "code",
   "execution_count": 17,
   "metadata": {
    "collapsed": false,
    "jupyter": {
     "outputs_hidden": false
    }
   },
   "outputs": [
    {
     "data": {
      "text/plain": [
       "141"
      ]
     },
     "execution_count": 17,
     "metadata": {},
     "output_type": "execute_result"
    }
   ],
   "source": [
    "len(asciiFilesUnique_fullPath)"
   ]
  },
  {
   "cell_type": "code",
   "execution_count": 18,
   "metadata": {
    "collapsed": false,
    "jupyter": {
     "outputs_hidden": false
    }
   },
   "outputs": [
    {
     "data": {
      "text/plain": [
       "141"
      ]
     },
     "execution_count": 18,
     "metadata": {},
     "output_type": "execute_result"
    }
   ],
   "source": [
    "len(asciiFilesUnique)"
   ]
  },
  {
   "cell_type": "code",
   "execution_count": 12,
   "metadata": {
    "collapsed": false,
    "jupyter": {
     "outputs_hidden": false
    }
   },
   "outputs": [
    {
     "data": {
      "text/plain": [
       "'grid063'"
      ]
     },
     "execution_count": 12,
     "metadata": {},
     "output_type": "execute_result"
    }
   ],
   "source": [
    "asciiFile_fullPath[0][-26:-19]"
   ]
  },
  {
   "cell_type": "code",
   "execution_count": null,
   "metadata": {
    "collapsed": true,
    "jupyter": {
     "outputs_hidden": true
    }
   },
   "outputs": [],
   "source": []
  },
  {
   "cell_type": "code",
   "execution_count": null,
   "metadata": {
    "collapsed": true,
    "jupyter": {
     "outputs_hidden": true
    }
   },
   "outputs": [],
   "source": []
  },
  {
   "cell_type": "code",
   "execution_count": null,
   "metadata": {
    "collapsed": true,
    "jupyter": {
     "outputs_hidden": true
    }
   },
   "outputs": [],
   "source": []
  },
  {
   "cell_type": "code",
   "execution_count": 19,
   "metadata": {
    "collapsed": false,
    "jupyter": {
     "outputs_hidden": false
    }
   },
   "outputs": [],
   "source": [
    "# CREATE Grids.xml\n",
    "# file to save\n",
    "grids_xml = c = os.path.join(xmldir,'Grids.xml')\n",
    "#grids_xml = r'D:\\Projects\\Pr\\3317.20\\BodempeilingScript_v4\\xml\\Grids.xml'\n",
    "\n",
    "# start xml\n",
    "top = Element('grids')\n",
    "top.set('xmlns','http://www.wldelft.nl/fews')\n",
    "top.set('xmlns:xsi','http://www.w3.org/2001/XMLSchema-instance')\n",
    "top.set('xsi:schemaLocation','http://www.wldelft.nl/fews ../../../Schemas/grids.xsd')\n",
    "\n",
    "for idx, grid in enumerate(asciiFilesUnique):\n",
    "    init_file = asciiFilesUnique_fullPath[idx]\n",
    "    with open(init_file, 'r') as f:\n",
    "        head = list(islice(f, 6))\n",
    "        #print (head)\n",
    "        head_rp = non_decimal.sub('', str(head).replace('-',','))\n",
    "        head_strp = [int(float(x.strip())) for x in head_rp.split(',') if x]\n",
    "        top = gridXml(grid,head_strp, top)      \n",
    "\n",
    "# save xml to file\n",
    "with open(grids_xml, 'w') as the_file:\n",
    "    the_file.write(prettify(top))"
   ]
  },
  {
   "cell_type": "code",
   "execution_count": null,
   "metadata": {
    "collapsed": true,
    "jupyter": {
     "outputs_hidden": true
    }
   },
   "outputs": [],
   "source": []
  },
  {
   "cell_type": "code",
   "execution_count": null,
   "metadata": {
    "collapsed": false,
    "jupyter": {
     "outputs_hidden": false
    }
   },
   "outputs": [],
   "source": [
    "# CREATE id.Surveyor.History.xml\n",
    "# file to save\n",
    "# id_Surveyor_History_xml = r'D:\\Projects\\Pr\\3317.20\\BodempeilingScript_v4\\xml\\id.Surveyor.History.xml'\n",
    "id_Surveyor_History_xml = os.path.join(xmldir,'id.Surveyor.grids.xml')\n",
    "\n",
    "# start xml\n",
    "top = Element('idMap')\n",
    "top.set('xmlns','http://www.wldelft.nl/fews')\n",
    "top.set('xmlns:xsi','http://www.w3.org/2001/XMLSchema-instance')\n",
    "top.set('xsi:schemaLocation','http://www.wldelft.nl/fews ../../../Schemas/idMap.xsd')\n",
    "top.set('version','1.1')\n",
    "for grid in asciiLocsUnique:\n",
    "    top = idMapXml(grid, top)      \n",
    "\n",
    "# save xml to file\n",
    "with open(id_Surveyor_History_xml, 'w') as the_file:\n",
    "    the_file.write(prettify(top))"
   ]
  },
  {
   "cell_type": "code",
   "execution_count": null,
   "metadata": {
    "collapsed": true,
    "jupyter": {
     "outputs_hidden": true
    }
   },
   "outputs": [],
   "source": []
  },
  {
   "cell_type": "code",
   "execution_count": null,
   "metadata": {
    "collapsed": true,
    "jupyter": {
     "outputs_hidden": true
    }
   },
   "outputs": [],
   "source": []
  },
  {
   "cell_type": "code",
   "execution_count": null,
   "metadata": {
    "collapsed": false,
    "jupyter": {
     "outputs_hidden": false
    }
   },
   "outputs": [],
   "source": [
    "# CREATE Locations.xml\n",
    "# file to save\n",
    "# Locations_xml = r'D:\\Projects\\Pr\\3317.20\\BodempeilingScript_v4\\xml\\Locations.xml'\n",
    "Locations_xml = os.path.join(xmldir,'Locations.xml')\n",
    "\n",
    "# start xml\n",
    "top = Element('locations')\n",
    "top.set('version','1.1')\n",
    "top.set('xmlns','http://www.wldelft.nl/fews')\n",
    "top.set('xmlns:xsi','http://www.w3.org/2001/XMLSchema-instance')\n",
    "top.set('xsi:schemaLocation','http://www.wldelft.nl/fews ../../../Schemas/idMap.xsd')\n",
    "child = SubElement(top, 'geoDatum').text = 'Rijks Driehoekstelsel'\n",
    "\n",
    "for grid in asciiLocsUnique:\n",
    "    top = LocationsXml(grid, top)\n",
    "\n",
    "# save xml to file\n",
    "with open(Locations_xml, 'w') as the_file:\n",
    "    the_file.write(prettify(top))"
   ]
  },
  {
   "cell_type": "code",
   "execution_count": null,
   "metadata": {
    "collapsed": false,
    "jupyter": {
     "outputs_hidden": false
    }
   },
   "outputs": [],
   "source": [
    "# CREATE LocationSets.xml\n",
    "# file to save\n",
    "# LocationSets_xml = r'D:\\Projects\\Pr\\3317.20\\BodempeilingScript_v4\\xml\\LocationSets.xml'\n",
    "LocationSets_xml = os.path.join(xmldir,'LocationSets.xml')\n",
    "# start xml\n",
    "top = Element('locationSets')\n",
    "top.set('version','1.1')\n",
    "top.set('xmlns','http://www.wldelft.nl/fews')\n",
    "top.set('xmlns:xsi','http://www.w3.org/2001/XMLSchema-instance')\n",
    "top.set('xsi:schemaLocation','http://www.wldelft.nl/fews ../../../Schemas/idMap.xsd')\n",
    "child = SubElement(top, 'locationSet')\n",
    "child.set('id','ls.baggervak.mosaic')\n",
    "child.set('name','Baggervakken Mosaic')\n",
    "\n",
    "for grid in asciiLocsUnique:\n",
    "    top = LocationSetsXml(grid, top, child)\n",
    "\n",
    "# save xml to file\n",
    "with open(LocationSets_xml, 'w') as the_file:\n",
    "    the_file.write(prettify(top))   "
   ]
  },
  {
   "cell_type": "code",
   "execution_count": null,
   "metadata": {
    "collapsed": true,
    "jupyter": {
     "outputs_hidden": true
    }
   },
   "outputs": [],
   "source": []
  },
  {
   "cell_type": "code",
   "execution_count": null,
   "metadata": {
    "collapsed": true,
    "jupyter": {
     "outputs_hidden": true
    }
   },
   "outputs": [],
   "source": []
  }
 ],
 "metadata": {
  "kernelspec": {
   "display_name": "Python 3",
   "language": "python",
   "name": "python3"
  },
  "language_info": {
   "codemirror_mode": {
    "name": "ipython",
    "version": 3
   },
   "file_extension": ".py",
   "mimetype": "text/x-python",
   "name": "python",
   "nbconvert_exporter": "python",
   "pygments_lexer": "ipython3",
   "version": "3.6.5"
  }
 },
 "nbformat": 4,
 "nbformat_minor": 4
}
