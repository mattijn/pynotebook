{
 "cells": [
  {
   "cell_type": "code",
   "execution_count": 9,
   "metadata": {
    "collapsed": true
   },
   "outputs": [],
   "source": [
    "inp_in = r'D:\\Projects\\Pr\\3398.10\\rekencluster/tisw_res_single.inp'\n",
    "inp_out = r'D:\\Projects\\Pr\\3398.10\\rekencluster/tisw_res_COMB_OUT.inp'\n",
    "first_locationID = 3\n",
    "first_percentage = 1/6.\n",
    "second_locationID = 400\n",
    "second_percentage = 5/6."
   ]
  },
  {
   "cell_type": "code",
   "execution_count": null,
   "metadata": {
    "collapsed": true
   },
   "outputs": [],
   "source": [
    "#-------------------------------------------------------------------------------\n",
    "# Name:        inp-formatter\n",
    "# Purpose:     separate inp input files into two inp files with unique locations\n",
    "#              where each location receive a certain percentage of the orginal\n",
    "#              input values\n",
    "# Author:      hoek\n",
    "#\n",
    "# Created:     03/08/2016\n",
    "# Copyright:   (c) hoek 2016\n",
    "# Licence:     <your licence>\n",
    "# Example:     C:\\Python27>python inp-formatter.py D:\\Projects\\Pr\\3398.10\\rekencluster/tisw_res_single.inp D:\\Projects\\Pr\\3398.10\\rekencluster/tisw_res_COMB_OUT.inp 3 400 0.1666 0.8333\n",
    "#\n",
    "# inp_in = r'D:\\Projects\\Pr\\3398.10\\rekencluster/tisw_res_single.inp'\n",
    "# inp_out = r'D:\\Projects\\Pr\\3398.10\\rekencluster/tisw_res_COMB_OUT.inp'\n",
    "# first_locationID = 3\n",
    "# second_locationID = 400\n",
    "# first_percentage = 1/6.\n",
    "# second_percentage = 5/6.\n",
    "#-------------------------------------------------------------------------------\n",
    "\n",
    "import argparse\n",
    "import pandas as pd\n",
    "\n",
    "def parseArguments():\n",
    "    # Create argument parser\n",
    "    parser = argparse.ArgumentParser()\n",
    "\n",
    "    # Positional mandatory arguments\n",
    "    parser.add_argument(\"inp_in\", help=\"input inp-file\", type=str)\n",
    "    parser.add_argument(\"inp_out\", help=\"output inp-file\", type=str)\n",
    "    parser.add_argument(\"first_locationID\", help=\"location id of first inp-file\", type=int)\n",
    "    parser.add_argument(\"second_locationID\", help=\"location id of second inp-file\", type=int)\n",
    "    parser.add_argument(\"first_percentage\", help=\"percentage to apply to first inp-file, default is 1/6\", type=float, default=1/6.)\n",
    "    parser.add_argument(\"second_percentage\", help=\"percentage to apply to second inp-file, default is 5/6\", type=float, default=5/6.)\n",
    "\n",
    "    # Print version\n",
    "    parser.add_argument(\"--version\", action=\"version\", version='%(prog)s - Version 1.0')\n",
    "\n",
    "    # Parse arguments\n",
    "    args = parser.parse_args()\n",
    "    return args\n",
    "\n",
    "def formatter(i):\n",
    "    \"\"\"\n",
    "    input is single dictionary item\n",
    "    output is string in correct inp-format\n",
    "    \n",
    "    example input dictionary item:\n",
    "    {'jaar': 2016.0, 'dag': 147.0, 'locatie': 400.0, 'waarde': 0.0}\n",
    "    example output string inp-format:\n",
    "    '         147.00  2016       400                    0.00000'    \n",
    "    \"\"\"\n",
    "    dag = \"{0:.2f}\".format(i['dag']).rjust(15)\n",
    "    jaar = \"{0:d}\".format(int(i['jaar'])).rjust(6)\n",
    "    locatie = \"{0:d}\".format(int(i['locatie'])).rjust(10)\n",
    "    spatie = '{: >20s}'.format(\" \")\n",
    "    waarde = \"{0:.5f}\".format(i['waarde'])\n",
    "    totaal = dag+jaar+locatie+spatie+waarde\n",
    "    return totaal\n",
    "\n",
    "if __name__ == \"__main__\":\n",
    "    \n",
    "    args = parseArguments()\n",
    "    \n",
    "    # read the inp-file into 2 separate dataframes\n",
    "    first = pd.read_csv(args.inp_in, sep='\\s+', header=None, names=['dag','jaar','locatie','waarde'])\n",
    "    second = pd.read_csv(args.inp_in, sep='\\s+', header=None, names=['dag','jaar','locatie','waarde'])\n",
    "\n",
    "    # set the locationID as desired \n",
    "    first['locatie'] = args.first_locationID\n",
    "    first['waarde'] = first['waarde'] * args.first_percentage\n",
    "\n",
    "    # apply 1/6 and 5/6 to the waarde-column\n",
    "    second['locatie'] = args.second_locationID\n",
    "    second['waarde'] = second['waarde'] * args.second_percentage\n",
    "\n",
    "    # concatenate the dataframes and write to dictionary\n",
    "    df = pd.concat([first,second])\n",
    "    df2dict = df.to_dict('records')\n",
    "    print df2dict[-1]\n",
    "    # create output inp-file and write the values includeing fixed-width separation\n",
    "\n",
    "    with open(args.inp_out, 'w') as thefile:\n",
    "        for item in df2dict:\n",
    "            fmt_item = formatter(item)\n",
    "            thefile.write(\"%s\\n\" % fmt_item)"
   ]
  },
  {
   "cell_type": "code",
   "execution_count": 7,
   "metadata": {
    "collapsed": false
   },
   "outputs": [
    {
     "name": "stdout",
     "output_type": "stream",
     "text": [
      "{'jaar': 2016.0, 'dag': 147.0, 'locatie': 400.0, 'waarde': 0.0}\n"
     ]
    }
   ],
   "source": []
  },
  {
   "cell_type": "code",
   "execution_count": 6,
   "metadata": {
    "collapsed": false
   },
   "outputs": [
    {
     "data": {
      "text/plain": [
       "'         147.00  2016       400                    0.00000'"
      ]
     },
     "execution_count": 6,
     "metadata": {},
     "output_type": "execute_result"
    }
   ],
   "source": [
    "totaal"
   ]
  },
  {
   "cell_type": "code",
   "execution_count": 11,
   "metadata": {
    "collapsed": false
   },
   "outputs": [
    {
     "data": {
      "text/plain": [
       "0.16666666666666666"
      ]
     },
     "execution_count": 11,
     "metadata": {},
     "output_type": "execute_result"
    }
   ],
   "source": [
    "1/6."
   ]
  },
  {
   "cell_type": "code",
   "execution_count": 12,
   "metadata": {
    "collapsed": false
   },
   "outputs": [
    {
     "data": {
      "text/plain": [
       "0.8333333333333334"
      ]
     },
     "execution_count": 12,
     "metadata": {},
     "output_type": "execute_result"
    }
   ],
   "source": [
    "5/6.\n"
   ]
  },
  {
   "cell_type": "code",
   "execution_count": null,
   "metadata": {
    "collapsed": true
   },
   "outputs": [],
   "source": []
  }
 ],
 "metadata": {
  "kernelspec": {
   "display_name": "Python 2",
   "language": "python",
   "name": "python2"
  },
  "language_info": {
   "codemirror_mode": {
    "name": "ipython",
    "version": 2
   },
   "file_extension": ".py",
   "mimetype": "text/x-python",
   "name": "python",
   "nbconvert_exporter": "python",
   "pygments_lexer": "ipython2",
   "version": "2.7.12"
  }
 },
 "nbformat": 4,
 "nbformat_minor": 0
}
