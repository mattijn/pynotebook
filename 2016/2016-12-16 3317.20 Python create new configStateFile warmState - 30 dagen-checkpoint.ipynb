{
 "cells": [
  {
   "cell_type": "code",
   "execution_count": 9,
   "metadata": {
    "collapsed": true,
    "deletable": true,
    "editable": true
   },
   "outputs": [],
   "source": [
    "from xml.etree import ElementTree\n",
    "from xml.dom import minidom\n",
    "from xml.etree.ElementTree import Element, SubElement, Comment"
   ]
  },
  {
   "cell_type": "code",
   "execution_count": 10,
   "metadata": {
    "collapsed": true,
    "deletable": true,
    "editable": true
   },
   "outputs": [],
   "source": [
    "def prettify(elem):\n",
    "    \"\"\"Return a pretty-printed XML string for the Element.\n",
    "    \"\"\"\n",
    "    rough_string = ElementTree.tostring(elem, 'utf-8')\n",
    "    reparsed = minidom.parseString(rough_string)\n",
    "    return reparsed.toprettyxml(indent=\"  \")"
   ]
  },
  {
   "cell_type": "code",
   "execution_count": 11,
   "metadata": {
    "collapsed": true,
    "deletable": true,
    "editable": true
   },
   "outputs": [],
   "source": [
    "statedir = r'D:\\OMS_Waddenzee\\trunk\\fews\\Modules\\depthUpdate\\state'\n",
    "state_config_read = \"%s/exportStateConfig.xml\" % statedir\n",
    "state_config_write = \"%s/importStateConfig.xml\" % statedir"
   ]
  },
  {
   "cell_type": "code",
   "execution_count": 21,
   "metadata": {
    "collapsed": false,
    "deletable": true,
    "editable": true
   },
   "outputs": [
    {
     "data": {
      "text/plain": [
       "'2016-11-16'"
      ]
     },
     "execution_count": 21,
     "metadata": {},
     "output_type": "execute_result"
    }
   ],
   "source": [
    "\n",
    "eTree[2].attrib.get('date')"
   ]
  },
  {
   "cell_type": "code",
   "execution_count": 25,
   "metadata": {
    "collapsed": false,
    "deletable": true,
    "editable": true
   },
   "outputs": [
    {
     "data": {
      "text/plain": [
       "'D:\\\\OMS_Waddenzee\\\\trunk\\\\fews\\\\Modules\\\\depthUpdate\\\\state\\\\state.nc'"
      ]
     },
     "execution_count": 25,
     "metadata": {},
     "output_type": "execute_result"
    }
   ],
   "source": [
    "eTree[3][0].text"
   ]
  },
  {
   "cell_type": "code",
   "execution_count": 20,
   "metadata": {
    "collapsed": false,
    "deletable": true,
    "editable": true
   },
   "outputs": [
    {
     "data": {
      "text/plain": [
       "'1.0'"
      ]
     },
     "execution_count": 20,
     "metadata": {},
     "output_type": "execute_result"
    }
   ],
   "source": [
    "eTree[1].text"
   ]
  },
  {
   "cell_type": "code",
   "execution_count": 26,
   "metadata": {
    "collapsed": true,
    "deletable": true,
    "editable": true
   },
   "outputs": [],
   "source": [
    "# start xml\n",
    "xml = Element('State')\n",
    "xml.set('xmlns','http://www.wldelft.nl/fews')\n",
    "xml.set('xmlns:xsi','http://www.w3.org/2001/XMLSchema-instance')\n",
    "xml.set('xsi:schemaLocation','http://www.wldelft.nl/fews/PI http://fews.wldelft.nl/schemas/version1.0/pi-schemas/pi_state.xsd')\n",
    "xml.set('version','1.2')\n",
    "\n",
    "stateID = SubElement(xml,'stateId').text = eTree[0].text\n",
    "timeZone = SubElement(xml,'timeZone').text = eTree[1].text\n",
    "dateTime = SubElement(xml,'dateTime')\n",
    "dateTime.set('date','2016-11-16')\n",
    "dateTime.set('time',eTree[2].attrib.get('time'))\n",
    "stateLoc = SubElement(xml,'stateLoc')\n",
    "stateLoc.set('type','file')\n",
    "readLocation = SubElement(stateLoc, 'readLocation').text = eTree[3][0].text\n",
    "writeLocation = SubElement(stateLoc, 'writeLocation').text = eTree[3][1].text\n",
    "\n",
    "# save xml to file\n",
    "with open(state_config_write, 'w') as the_file:\n",
    "    the_file.write(prettify(xml))  "
   ]
  },
  {
   "cell_type": "code",
   "execution_count": 30,
   "metadata": {
    "collapsed": false,
    "deletable": true,
    "editable": true
   },
   "outputs": [],
   "source": [
    "def writeState(state_config_read, state_config_write, stateTime):\n",
    "    \"\"\"\n",
    "    stateFile  ::  absolute path to write xml file\n",
    "    stateTime  ::  in 'yyyy-mm-dd' format\n",
    "    \"\"\"\n",
    "    eTree = ElementTree.parse(state_config_read).getroot()\n",
    "    # start xml\n",
    "    xml = Element('State')\n",
    "    xml.set('xmlns','http://www.wldelft.nl/fews')\n",
    "    xml.set('xmlns:xsi','http://www.w3.org/2001/XMLSchema-instance')\n",
    "    xml.set('xsi:schemaLocation','http://www.wldelft.nl/fews/PI http://fews.wldelft.nl/schemas/version1.0/pi-schemas/pi_state.xsd')\n",
    "    xml.set('version','1.2')\n",
    "\n",
    "    stateID = SubElement(xml,'stateId').text = eTree[0].text\n",
    "    timeZone = SubElement(xml,'timeZone').text = eTree[1].text\n",
    "    dateTime = SubElement(xml,'dateTime')\n",
    "    dateTime.set('date',stateTime)\n",
    "    dateTime.set('time',eTree[2].attrib.get('time'))\n",
    "    stateLoc = SubElement(xml,'stateLoc')\n",
    "    stateLoc.set('type','file')\n",
    "    readLocation = SubElement(stateLoc, 'readLocation').text = eTree[3][0].text\n",
    "    writeLocation = SubElement(stateLoc, 'writeLocation').text = eTree[3][1].text\n",
    "\n",
    "    # save xml to file\n",
    "    with open(state_config_write, 'w') as the_file:\n",
    "        the_file.write(prettify(xml))      "
   ]
  },
  {
   "cell_type": "code",
   "execution_count": 33,
   "metadata": {
    "collapsed": true,
    "deletable": true,
    "editable": true
   },
   "outputs": [],
   "source": [
    "writeState(stateFile=\"%s/importStateConfig.xml\" % statedir, stateTime='2016-11-14')"
   ]
  },
  {
   "cell_type": "code",
   "execution_count": null,
   "metadata": {
    "collapsed": true,
    "deletable": true,
    "editable": true
   },
   "outputs": [],
   "source": []
  },
  {
   "cell_type": "code",
   "execution_count": null,
   "metadata": {
    "collapsed": true,
    "deletable": true,
    "editable": true
   },
   "outputs": [],
   "source": []
  },
  {
   "cell_type": "code",
   "execution_count": null,
   "metadata": {
    "collapsed": true,
    "deletable": true,
    "editable": true
   },
   "outputs": [],
   "source": [
    "# open runfile.xml and get time0 date in datetime format\n",
    "e = ElementTree.parse(runfile_xml).getroot()\n",
    "time0 = e[3].attrib.get('date') # e[3] is time0 in xml file\n",
    "# get timezone element as integer\n",
    "timezone=int(float(e[0].text))\n",
    "\n",
    "# get t0 element as datetime object\n",
    "time0_date = e[3].attrib.get('date') # e[3] is time0 in xml file"
   ]
  }
 ],
 "metadata": {
  "kernelspec": {
   "display_name": "Python 3",
   "language": "python",
   "name": "python3"
  },
  "language_info": {
   "codemirror_mode": {
    "name": "ipython",
    "version": 3
   },
   "file_extension": ".py",
   "mimetype": "text/x-python",
   "name": "python",
   "nbconvert_exporter": "python",
   "pygments_lexer": "ipython3",
   "version": "3.5.2"
  }
 },
 "nbformat": 4,
 "nbformat_minor": 0
}
