{
 "cells": [
  {
   "cell_type": "code",
   "execution_count": 1,
   "metadata": {
    "collapsed": true
   },
   "outputs": [],
   "source": [
    "import numpy as np\n",
    "import pandas as pd\n",
    "from datetime import datetime\n",
    "import matplotlib.pyplot as plt\n",
    "%matplotlib inline"
   ]
  },
  {
   "cell_type": "markdown",
   "metadata": {},
   "source": [
    "# NDVI"
   ]
  },
  {
   "cell_type": "code",
   "execution_count": 3,
   "metadata": {
    "collapsed": false
   },
   "outputs": [],
   "source": [
    "# --------*-*-*-*-*-*--------  HANTS code  --------*-*-*-*-*-*--------  HANTS code  --------*-*-*-*-*-*-----\n",
    "\n",
    "# Computing diagonal for each row of a 2d array. See: http://stackoverflow.com/q/27214027/2459096\n",
    "def makediag3d(M):\n",
    "    b = np.zeros((M.shape[0], M.shape[1] * M.shape[1]))\n",
    "    b[:, ::M.shape[1] + 1] = M\n",
    "    return b.reshape(M.shape[0], M.shape[1], M.shape[1]) \n",
    "\n",
    "def get_starter_matrix(base_period_len, sample_count, frequencies_considered_count):\n",
    "    nr = min(2 * frequencies_considered_count + 1,\n",
    "                  sample_count)  # number of 2*+1 frequencies, or number of input images\n",
    "    mat = np.zeros(shape=(nr, sample_count))\n",
    "    mat[0, :] = 1\n",
    "    ang = 2 * np.pi * np.arange(base_period_len) / base_period_len\n",
    "    cs = np.cos(ang)\n",
    "    sn = np.sin(ang)\n",
    "    # create some standard sinus and cosinus functions and put in matrix\n",
    "    i = np.arange(1, frequencies_considered_count + 1)\n",
    "    ts = np.arange(sample_count)\n",
    "    for column in xrange(sample_count):\n",
    "        index = np.mod(i * ts[column], base_period_len)\n",
    "        # index looks like 000, 123, 246, etc, until it wraps around (for len(i)==3)\n",
    "        mat[2 * i - 1, column] = cs.take(index)\n",
    "        mat[2 * i, column] = sn.take(index)\n",
    "\n",
    "    return mat        \n",
    "\n",
    "def HANTS(sample_count, inputs,\n",
    "          frequencies_considered_count=3,\n",
    "          outliers_to_reject='Hi',\n",
    "          low=0., high=255,\n",
    "          fit_error_tolerance=5,\n",
    "          delta=0.1, \n",
    "          base=2):\n",
    "    \"\"\"\n",
    "    Function to apply the Harmonic analysis of time series applied to arrays\n",
    "\n",
    "    sample_count    = nr. of images (total number of actual samples of the time series)\n",
    "    base_period_len    = length of the base period, measured in virtual samples\n",
    "            (days, dekads, months, etc.)\n",
    "    frequencies_considered_count    = number of frequencies to be considered above the zero frequency\n",
    "    inputs     = array of input sample values (e.g. NDVI values)\n",
    "    ts    = array of size sample_count of time sample indicators\n",
    "            (indicates virtual sample number relative to the base period);\n",
    "            numbers in array ts maybe greater than base_period_len\n",
    "            If no aux file is used (no time samples), we assume ts(i)= i,\n",
    "            where i=1, ..., sample_count\n",
    "    outliers_to_reject  = 2-character string indicating rejection of high or low outliers\n",
    "            select from 'Hi', 'Lo' or 'None'\n",
    "    low   = valid range minimum\n",
    "    high  = valid range maximum (values outside the valid range are rejeced\n",
    "            right away)\n",
    "    fit_error_tolerance   = fit error tolerance (points deviating more than fit_error_tolerance from curve\n",
    "            fit are rejected)\n",
    "    dod   = degree of overdeterminedness (iteration stops if number of\n",
    "            points reaches the minimum required for curve fitting, plus\n",
    "            dod). This is a safety measure\n",
    "    delta = small positive number (e.g. 0.1) to suppress high amplitudes\n",
    "    base  = define the base period, default is 1, meaning it is equal to size as the input \n",
    "            values, if 2 it will double this period. So for annual series, the base period becomes\n",
    "            two years\n",
    "    \"\"\"\n",
    "\n",
    "    # define some parameters\n",
    "    if base == 1:\n",
    "        base_period_len = sample_count  #\n",
    "    if base == 2:\n",
    "        base_period_len = sample_count*2  #\n",
    "\n",
    "    # check which setting to set for outlier filtering\n",
    "    if outliers_to_reject == 'Hi':\n",
    "        sHiLo = -1\n",
    "    elif outliers_to_reject == 'Lo':\n",
    "        sHiLo = 1\n",
    "    else:\n",
    "        sHiLo = 0\n",
    "\n",
    "    nr = min(2 * frequencies_considered_count + 1,\n",
    "             sample_count)  # number of 2*+1 frequencies, or number of input images\n",
    "\n",
    "    # create empty arrays to fill\n",
    "    outputs = np.zeros(shape=(inputs.shape[0], sample_count))\n",
    "\n",
    "    mat = get_starter_matrix(base_period_len, sample_count, frequencies_considered_count)\n",
    "\n",
    "    # repeat the mat array over the number of arrays in inputs\n",
    "    # and create arrays with ones with shape inputs where high and low values are set to 0\n",
    "    mat = np.tile(mat[None].T, (1, inputs.shape[0])).T\n",
    "    p = np.ones_like(inputs)\n",
    "    p[(low >= inputs) | (inputs > high)] = 0\n",
    "    nout = np.sum(p == 0, axis=-1)  # count the outliers for each timeseries\n",
    "\n",
    "    # prepare for while loop\n",
    "    ready = np.zeros((inputs.shape[0]), dtype=bool)  # all timeseries set to false\n",
    "\n",
    "    dod = 1  # (2*frequencies_considered_count-1)  # Um, no it isn't :/\n",
    "    noutmax = sample_count - nr - dod\n",
    "    # prepare to add delta to suppress high amplitudes but not for [0,0]\n",
    "    Adelta = np.tile(np.diag(np.ones(nr))[None].T, (1, inputs.shape[0])).T * delta\n",
    "    Adelta[:, 0, 0] -= delta\n",
    "    \n",
    "    for _ in xrange(sample_count):\n",
    "        if ready.all():\n",
    "            break\n",
    "        # print '--------*-*-*-*',it.value, '*-*-*-*--------'\n",
    "        # multiply outliers with timeseries\n",
    "        za = np.einsum('ijk,ik->ij', mat, p * inputs)\n",
    "\n",
    "        # multiply mat with the multiplication of multiply diagonal of p with transpose of mat\n",
    "        diag = makediag3d(p)\n",
    "        A = np.einsum('ajk,aki->aji', mat, np.einsum('aij,jka->ajk', diag, mat.T))\n",
    "        # add delta to suppress high amplitudes but not for [0,0]\n",
    "        A += Adelta\n",
    "        #A[:, 0, 0] = A[:, 0, 0] - delta\n",
    "\n",
    "        # solve linear matrix equation and define reconstructed timeseries\n",
    "        zr = np.linalg.solve(A, za)\n",
    "        outputs = np.einsum('ijk,kj->ki', mat.T, zr)\n",
    "\n",
    "        # calculate error and sort err by index\n",
    "        err = p * (sHiLo * (outputs - inputs))\n",
    "        rankVec = np.argsort(err, axis=1, )\n",
    "\n",
    "        # select maximum error and compute new ready status\n",
    "        maxerr = np.max(err, axis=-1)\n",
    "        #maxerr = np.diag(err.take(rankVec[:, sample_count - 1], axis=-1))\n",
    "        ready = (maxerr <= fit_error_tolerance) | (nout == noutmax)\n",
    "\n",
    "        # if ready is still false\n",
    "        if not ready.all():\n",
    "            j = rankVec.take(sample_count - 1, axis=-1)\n",
    "\n",
    "            p.T[j.T, np.indices(j.shape)] = p.T[j.T, np.indices(j.shape)] * ready.astype(\n",
    "                int)  #*check\n",
    "            nout += 1\n",
    "\n",
    "    return outputs\n",
    "\n",
    "\n",
    "# Compute semi-random time series array with numb standing for number of timeseries\n",
    "def array_in(numb):\n",
    "    y = np.array([5.0, 2.0, 10.0, 12.0, 18.0, 23.0, 27.0, 40.0, 60.0, 70.0, 90.0, 160.0, 190.0,\n",
    "                  210.0, 104.0, 90.0, 170.0, 50.0, 120.0, 60.0, 40.0, 30.0, 28.0, 24.0, 15.0,\n",
    "                  10.0])\n",
    "    y = np.tile(y[None].T, (1, numb)).T\n",
    "    kl = (np.random.randint(2, size=(numb, 26)) *\n",
    "          np.random.randint(2, size=(numb, 26)) + 1)\n",
    "    kl[kl == 2] = 0\n",
    "    y = y * kl\n",
    "    return y"
   ]
  },
  {
   "cell_type": "code",
   "execution_count": 4,
   "metadata": {
    "collapsed": false
   },
   "outputs": [],
   "source": [
    "file_in = r'D:\\Downloads\\ZhouJie@Mattijn//MODIS-8day-ndvi_2.xlsx'\n",
    "df_myd = pd.read_excel(file_in, sheetname=0, header=0)\n",
    "df_mod = pd.read_excel(file_in, sheetname=1, header=0)"
   ]
  },
  {
   "cell_type": "code",
   "execution_count": 5,
   "metadata": {
    "collapsed": false
   },
   "outputs": [],
   "source": [
    "timestamps = []\n",
    "for idx, val in enumerate(df_myd['system:index']):\n",
    "    year = val[-12:-8]\n",
    "    month = val[-7:-5]\n",
    "    day = val[-4:-2]\n",
    "    #print i[-4:-2]\n",
    "    #pd.Timestamp()\n",
    "    date = pd.Timestamp(year+'-'+month+'-'+day)\n",
    "    timestamps.append(date)\n",
    "    #df['system:index'][idx] = date\n",
    "df_myd['timestamps'] = timestamps    \n",
    "#df_myd = df_myd.set_index(['timestamps','LC_type'])\n",
    "\n",
    "timestamps = []\n",
    "for idx, val in enumerate(df_mod['system:index']):\n",
    "    year = val[-12:-8]\n",
    "    month = val[-7:-5]\n",
    "    day = val[-4:-2]\n",
    "    #print i[-4:-2]\n",
    "    #pd.Timestamp()\n",
    "    date = pd.Timestamp(year+'-'+month+'-'+day)\n",
    "    timestamps.append(date)\n",
    "    #df['system:index'][idx] = date\n",
    "df_mod['timestamps'] = timestamps    \n",
    "#df_mod = df_mod.set_index(['timestamps','LC_type'])\n",
    "df_mod_myd = pd.concat([df_mod,df_myd])\n",
    "df_mod_myd.set_index(['timestamps','LC_type'], inplace=True)\n",
    "df_mod_myd.sortlevel(inplace=True)"
   ]
  },
  {
   "cell_type": "code",
   "execution_count": 6,
   "metadata": {
    "collapsed": false
   },
   "outputs": [],
   "source": [
    "# Rainfed_croplands\n",
    "df_RC = df_mod_myd.loc[df_mod_myd.index.get_level_values('LC_type') == 'Rainfed_croplands']\n",
    "df_RC.reset_index(inplace=True)\n",
    "df_RC.set_index('timestamps', inplace=True)\n",
    "\n",
    "# Mosaic_cropland_vegetation\n",
    "df_MC = df_mod_myd.loc[df_mod_myd.index.get_level_values('LC_type') == 'Mosaic_cropland_vegetation']\n",
    "df_MC.reset_index(inplace=True)\n",
    "df_MC.set_index('timestamps', inplace=True)\n",
    "\n",
    "# Mosaic_cropland_vegetation\n",
    "df_MC = df_mod_myd.loc[df_mod_myd.index.get_level_values('LC_type') == 'Mosaic_cropland_vegetation']\n",
    "df_MC.reset_index(inplace=True)\n",
    "df_MC.set_index('timestamps', inplace=True)\n",
    "\n",
    "# Mosaic_vegetation_cropland\n",
    "df_MV = df_mod_myd.loc[df_mod_myd.index.get_level_values('LC_type') == 'Mosaic_vegetation_cropland']\n",
    "df_MV.reset_index(inplace=True)\n",
    "df_MV.set_index('timestamps', inplace=True)\n",
    "\n",
    "# Open_needleleaved_deciduous_evergreen_forest\n",
    "df_ON = df_mod_myd.loc[df_mod_myd.index.get_level_values('LC_type') == 'Open_needleleaved_deciduous_evergreen_forest']\n",
    "df_ON.reset_index(inplace=True)\n",
    "df_ON.set_index('timestamps', inplace=True)\n",
    "\n",
    "# Closed_to_open_herbaceous_vegetation\n",
    "df_CO = df_mod_myd.loc[df_mod_myd.index.get_level_values('LC_type') == 'Closed_to_open_herbaceous_vegetation']\n",
    "df_CO.reset_index(inplace=True)\n",
    "df_CO.set_index('timestamps', inplace=True)\n",
    "\n",
    "# Sparse_vegetation\n",
    "df_SV = df_mod_myd.loc[df_mod_myd.index.get_level_values('LC_type') == 'Sparse_vegetation']\n",
    "df_SV.reset_index(inplace=True)\n",
    "df_SV.set_index('timestamps', inplace=True)\n",
    "\n",
    "# Bare_areas\n",
    "df_BA = df_mod_myd.loc[df_mod_myd.index.get_level_values('LC_type') == 'Bare_areas']\n",
    "df_BA.reset_index(inplace=True)\n",
    "df_BA.set_index('timestamps', inplace=True)"
   ]
  },
  {
   "cell_type": "code",
   "execution_count": 7,
   "metadata": {
    "collapsed": false
   },
   "outputs": [
    {
     "data": {
      "text/plain": [
       "array([u'Bare_areas', u'Closed_to_open_herbaceous_vegetation',\n",
       "       u'Mosaic_cropland_vegetation', u'Mosaic_vegetation_cropland',\n",
       "       u'Open_needleleaved_deciduous_evergreen_forest',\n",
       "       u'Rainfed_croplands', u'Sparse_vegetation'], dtype=object)"
      ]
     },
     "execution_count": 7,
     "metadata": {},
     "output_type": "execute_result"
    }
   ],
   "source": [
    "np.unique(df_mod_myd.index.get_level_values('LC_type'))"
   ]
  },
  {
   "cell_type": "code",
   "execution_count": 8,
   "metadata": {
    "collapsed": false
   },
   "outputs": [
    {
     "data": {
      "text/plain": [
       "array([2001, 2002, 2003, 2004, 2005, 2006, 2007, 2008, 2009, 2010, 2011,\n",
       "       2012, 2013, 2014])"
      ]
     },
     "execution_count": 8,
     "metadata": {},
     "output_type": "execute_result"
    }
   ],
   "source": [
    "# get all unique years in the range\n",
    "un_years = np.unique(df_mod_myd.index.get_level_values('timestamps').year)\n",
    "un_years"
   ]
  },
  {
   "cell_type": "code",
   "execution_count": 9,
   "metadata": {
    "collapsed": false
   },
   "outputs": [],
   "source": [
    "# for i in un_years:\n",
    "#     period = str(i)\n",
    "#     df_RC['NDVI'][period].plot(style='-', label = 'RC', legend=True)\n",
    "#     df_MC['NDVI'][period].plot(style='-', label = 'MC', legend=True)\n",
    "#     df_MV['NDVI'][period].plot(style='-', label = 'MV', legend=True)\n",
    "#     df_ON['NDVI'][period].plot(style='-', label = 'ON', legend=True)\n",
    "#     df_CO['NDVI'][period].plot(style='-', label = 'CO', legend=True)\n",
    "#     df_SV['NDVI'][period].plot(style='-', label = 'SV', legend=True)\n",
    "#     df_BA['NDVI'][period].plot(style='-', label = 'BA', legend=True)\n",
    "#     plt.show()"
   ]
  },
  {
   "cell_type": "code",
   "execution_count": 10,
   "metadata": {
    "collapsed": false
   },
   "outputs": [
    {
     "data": {
      "text/plain": [
       "<matplotlib.axes._subplots.AxesSubplot at 0xddfb438>"
      ]
     },
     "execution_count": 10,
     "metadata": {},
     "output_type": "execute_result"
    },
    {
     "data": {
      "image/png": "[encoded data removed]",
      "text/plain": [
       "<matplotlib.figure.Figure at 0xe012e48>"
      ]
     },
     "metadata": {},
     "output_type": "display_data"
    }
   ],
   "source": [
    "# create empty pandas series to append later on\n",
    "ts_RC = pd.Series()\n",
    "# apply hants for each year separated\n",
    "for i in un_years:    \n",
    "    period = str(i)\n",
    "    # do hants for period for land cover type:\n",
    "    # RC\n",
    "    y_RC = df_RC['NDVI'][period].as_matrix()[None]\n",
    "    y_RC_HANTS = HANTS(y_RC.shape[-1], y_RC, 6, outliers_to_reject='Lo', low=-2000, \n",
    "                       high = 10000, fit_error_tolerance=500, base = 2)\n",
    "    \n",
    "    #print df_RC['NDVI'][period].index\n",
    "    #print y_RC_HANTS[0]\n",
    "    # convert output to timeseries of single year and append to ts_RC\n",
    "    ts_RC_period = pd.Series(y_RC_HANTS[0], index=df_RC['NDVI'][period].index)\n",
    "    ts_RC = ts_RC.append(ts_RC_period)\n",
    "    \n",
    "# # visually compare original with hants reconstructed\n",
    "# df_RC['NDVI'].plot()\n",
    "# ts_RC.plot()\n",
    "\n",
    "# resample the 8 day values to daily values and linearly interpolate in between\n",
    "ts_RC = ts_RC.resample('d')\n",
    "ts_RC.interpolate(inplace=True)\n",
    "# calculate the svi through some fancy oneliner\n",
    "svi_RC = ts_RC.groupby([ts_RC.index.month, ts_RC.index.day]).apply(lambda g: (g - g.mean())/g.std())\n",
    "# plot the svi for period 2009\n",
    "#svi_RC['2009'].as_matrix()\n",
    "svi_RC['2009'].plot()"
   ]
  },
  {
   "cell_type": "code",
   "execution_count": 11,
   "metadata": {
    "collapsed": false
   },
   "outputs": [
    {
     "data": {
      "text/plain": [
       "timestamps\n",
       "2009-01-01   -0.007867\n",
       "2009-01-02   -0.040875\n",
       "2009-01-03   -0.075000\n",
       "2009-01-04   -0.110217\n",
       "2009-01-05   -0.146491\n",
       "Freq: D, dtype: float64"
      ]
     },
     "execution_count": 11,
     "metadata": {},
     "output_type": "execute_result"
    }
   ],
   "source": [
    "svi_RC['2009'].head()"
   ]
  },
  {
   "cell_type": "code",
   "execution_count": 12,
   "metadata": {
    "collapsed": true
   },
   "outputs": [],
   "source": [
    "list_df = [df_RC,df_MC,df_MV,df_ON,df_CO,df_SV,df_BA]\n",
    "land_tp = ['RC','MC','MV','ON','CO','SV','BA']"
   ]
  },
  {
   "cell_type": "code",
   "execution_count": 13,
   "metadata": {
    "collapsed": false
   },
   "outputs": [
    {
     "data": {
      "text/html": [
       "<div>\n",
       "<table border=\"1\" class=\"dataframe\">\n",
       "  <thead>\n",
       "    <tr style=\"text-align: right;\">\n",
       "      <th></th>\n",
       "      <th>RC</th>\n",
       "      <th>MC</th>\n",
       "      <th>MV</th>\n",
       "      <th>ON</th>\n",
       "      <th>CO</th>\n",
       "      <th>SV</th>\n",
       "      <th>BA</th>\n",
       "    </tr>\n",
       "    <tr>\n",
       "      <th>timestamps</th>\n",
       "      <th></th>\n",
       "      <th></th>\n",
       "      <th></th>\n",
       "      <th></th>\n",
       "      <th></th>\n",
       "      <th></th>\n",
       "      <th></th>\n",
       "    </tr>\n",
       "  </thead>\n",
       "  <tbody>\n",
       "    <tr>\n",
       "      <th>2009-01-01</th>\n",
       "      <td>NaN</td>\n",
       "      <td>NaN</td>\n",
       "      <td>NaN</td>\n",
       "      <td>NaN</td>\n",
       "      <td>NaN</td>\n",
       "      <td>NaN</td>\n",
       "      <td>NaN</td>\n",
       "    </tr>\n",
       "    <tr>\n",
       "      <th>2009-01-02</th>\n",
       "      <td>NaN</td>\n",
       "      <td>NaN</td>\n",
       "      <td>NaN</td>\n",
       "      <td>NaN</td>\n",
       "      <td>NaN</td>\n",
       "      <td>NaN</td>\n",
       "      <td>NaN</td>\n",
       "    </tr>\n",
       "    <tr>\n",
       "      <th>2009-01-03</th>\n",
       "      <td>NaN</td>\n",
       "      <td>NaN</td>\n",
       "      <td>NaN</td>\n",
       "      <td>NaN</td>\n",
       "      <td>NaN</td>\n",
       "      <td>NaN</td>\n",
       "      <td>NaN</td>\n",
       "    </tr>\n",
       "    <tr>\n",
       "      <th>2009-01-04</th>\n",
       "      <td>NaN</td>\n",
       "      <td>NaN</td>\n",
       "      <td>NaN</td>\n",
       "      <td>NaN</td>\n",
       "      <td>NaN</td>\n",
       "      <td>NaN</td>\n",
       "      <td>NaN</td>\n",
       "    </tr>\n",
       "    <tr>\n",
       "      <th>2009-01-05</th>\n",
       "      <td>NaN</td>\n",
       "      <td>NaN</td>\n",
       "      <td>NaN</td>\n",
       "      <td>NaN</td>\n",
       "      <td>NaN</td>\n",
       "      <td>NaN</td>\n",
       "      <td>NaN</td>\n",
       "    </tr>\n",
       "  </tbody>\n",
       "</table>\n",
       "</div>"
      ],
      "text/plain": [
       "             RC   MC   MV   ON   CO   SV   BA\n",
       "timestamps                                   \n",
       "2009-01-01  NaN  NaN  NaN  NaN  NaN  NaN  NaN\n",
       "2009-01-02  NaN  NaN  NaN  NaN  NaN  NaN  NaN\n",
       "2009-01-03  NaN  NaN  NaN  NaN  NaN  NaN  NaN\n",
       "2009-01-04  NaN  NaN  NaN  NaN  NaN  NaN  NaN\n",
       "2009-01-05  NaN  NaN  NaN  NaN  NaN  NaN  NaN"
      ]
     },
     "execution_count": 13,
     "metadata": {},
     "output_type": "execute_result"
    }
   ],
   "source": [
    "df_shp = pd.DataFrame(index=svi_RC['2009'].index, columns=land_tp)\n",
    "df_shp.head()"
   ]
  },
  {
   "cell_type": "code",
   "execution_count": null,
   "metadata": {
    "collapsed": true
   },
   "outputs": [],
   "source": []
  },
  {
   "cell_type": "code",
   "execution_count": 14,
   "metadata": {
    "collapsed": false
   },
   "outputs": [
    {
     "name": "stdout",
     "output_type": "stream",
     "text": [
      "RC\n",
      "MC\n",
      "MV\n",
      "ON\n",
      "CO\n",
      "SV\n",
      "BA\n"
     ]
    }
   ],
   "source": [
    "for idx, df_LC in enumerate(list_df):\n",
    "    #print df_LC.head()\n",
    "    LC = land_tp[idx]\n",
    "    print LC\n",
    "    # create empty pandas series to append later on\n",
    "    ts_LC = pd.Series()\n",
    "    # apply hants for each year separated\n",
    "    for i in un_years:    \n",
    "        period = str(i)\n",
    "        # do hants for period for land cover type:\n",
    "        # RC\n",
    "        y_LC = df_LC['NDVI'][period].as_matrix()[None]\n",
    "        y_LC_HANTS = HANTS(y_LC.shape[-1], y_LC, 6, outliers_to_reject='Lo', low=-2000, \n",
    "                           high = 10000, fit_error_tolerance=500, base = 2)\n",
    "\n",
    "        #print df_RC['NDVI'][period].index\n",
    "        #print y_RC_HANTS[0]\n",
    "        # convert output to timeseries of single year and append to ts_RC\n",
    "        ts_LC_period = pd.Series(y_LC_HANTS[0], index=df_LC['NDVI'][period].index)\n",
    "        ts_LC = ts_LC.append(ts_LC_period)\n",
    "\n",
    "    # # visually compare original with hants reconstructed\n",
    "    # df_RC['NDVI'].plot()\n",
    "    # ts_RC.plot()\n",
    "\n",
    "    # resample the 8 day values to daily values and linearly interpolate in between\n",
    "    ts_LC = ts_LC.resample('d')\n",
    "    ts_LC.interpolate(inplace = True)\n",
    "    # calculate the svi through some fancy oneliner\n",
    "    svi_LC = ts_LC.groupby([ts_LC.index.month, ts_LC.index.day]).apply(lambda g: (g - g.mean())/g.std())\n",
    "    # plot the svi for period 2009\n",
    "    #svi_RC['2009'].as_matrix()\n",
    "    df_shp[LC] = svi_LC['2009']\n",
    "    #svi_LC['2009'].plot()"
   ]
  },
  {
   "cell_type": "code",
   "execution_count": 15,
   "metadata": {
    "collapsed": false
   },
   "outputs": [
    {
     "data": {
      "text/html": [
       "<div>\n",
       "<table border=\"1\" class=\"dataframe\">\n",
       "  <thead>\n",
       "    <tr style=\"text-align: right;\">\n",
       "      <th></th>\n",
       "      <th>RC</th>\n",
       "      <th>MC</th>\n",
       "      <th>MV</th>\n",
       "      <th>ON</th>\n",
       "      <th>CO</th>\n",
       "      <th>SV</th>\n",
       "      <th>BA</th>\n",
       "    </tr>\n",
       "    <tr>\n",
       "      <th>timestamps</th>\n",
       "      <th></th>\n",
       "      <th></th>\n",
       "      <th></th>\n",
       "      <th></th>\n",
       "      <th></th>\n",
       "      <th></th>\n",
       "      <th></th>\n",
       "    </tr>\n",
       "  </thead>\n",
       "  <tbody>\n",
       "    <tr>\n",
       "      <th>2009-01-01</th>\n",
       "      <td>-0.007867</td>\n",
       "      <td>0.116449</td>\n",
       "      <td>0.582571</td>\n",
       "      <td>-1.515537</td>\n",
       "      <td>0.767543</td>\n",
       "      <td>0.006135</td>\n",
       "      <td>-0.677043</td>\n",
       "    </tr>\n",
       "    <tr>\n",
       "      <th>2009-01-02</th>\n",
       "      <td>-0.040875</td>\n",
       "      <td>0.075006</td>\n",
       "      <td>0.500041</td>\n",
       "      <td>-1.507272</td>\n",
       "      <td>0.756857</td>\n",
       "      <td>0.063044</td>\n",
       "      <td>-0.613552</td>\n",
       "    </tr>\n",
       "    <tr>\n",
       "      <th>2009-01-03</th>\n",
       "      <td>-0.075000</td>\n",
       "      <td>0.034097</td>\n",
       "      <td>0.408546</td>\n",
       "      <td>-1.497159</td>\n",
       "      <td>0.745556</td>\n",
       "      <td>0.119482</td>\n",
       "      <td>-0.549928</td>\n",
       "    </tr>\n",
       "    <tr>\n",
       "      <th>2009-01-04</th>\n",
       "      <td>-0.110217</td>\n",
       "      <td>-0.006079</td>\n",
       "      <td>0.309630</td>\n",
       "      <td>-1.484950</td>\n",
       "      <td>0.733665</td>\n",
       "      <td>0.175244</td>\n",
       "      <td>-0.486383</td>\n",
       "    </tr>\n",
       "    <tr>\n",
       "      <th>2009-01-05</th>\n",
       "      <td>-0.146491</td>\n",
       "      <td>-0.045345</td>\n",
       "      <td>0.205665</td>\n",
       "      <td>-1.470371</td>\n",
       "      <td>0.721216</td>\n",
       "      <td>0.230142</td>\n",
       "      <td>-0.423121</td>\n",
       "    </tr>\n",
       "  </tbody>\n",
       "</table>\n",
       "</div>"
      ],
      "text/plain": [
       "                  RC        MC        MV        ON        CO        SV  \\\n",
       "timestamps                                                               \n",
       "2009-01-01 -0.007867  0.116449  0.582571 -1.515537  0.767543  0.006135   \n",
       "2009-01-02 -0.040875  0.075006  0.500041 -1.507272  0.756857  0.063044   \n",
       "2009-01-03 -0.075000  0.034097  0.408546 -1.497159  0.745556  0.119482   \n",
       "2009-01-04 -0.110217 -0.006079  0.309630 -1.484950  0.733665  0.175244   \n",
       "2009-01-05 -0.146491 -0.045345  0.205665 -1.470371  0.721216  0.230142   \n",
       "\n",
       "                  BA  \n",
       "timestamps            \n",
       "2009-01-01 -0.677043  \n",
       "2009-01-02 -0.613552  \n",
       "2009-01-03 -0.549928  \n",
       "2009-01-04 -0.486383  \n",
       "2009-01-05 -0.423121  "
      ]
     },
     "execution_count": 15,
     "metadata": {},
     "output_type": "execute_result"
    }
   ],
   "source": [
    "df_shp.head()"
   ]
  },
  {
   "cell_type": "code",
   "execution_count": 16,
   "metadata": {
    "collapsed": false
   },
   "outputs": [
    {
     "data": {
      "text/plain": [
       "<matplotlib.axes._subplots.AxesSubplot at 0xdfbb278>"
      ]
     },
     "execution_count": 16,
     "metadata": {},
     "output_type": "execute_result"
    },
    {
     "data": {
      "image/png": "[encoded data removed]",
      "text/plain": [
       "<matplotlib.figure.Figure at 0xe43c860>"
      ]
     },
     "metadata": {},
     "output_type": "display_data"
    }
   ],
   "source": [
    "df_shp['RC'].plot()"
   ]
  },
  {
   "cell_type": "code",
   "execution_count": 17,
   "metadata": {
    "collapsed": false
   },
   "outputs": [
    {
     "data": {
      "text/plain": [
       "<matplotlib.axes._subplots.AxesSubplot at 0xdfbae10>"
      ]
     },
     "execution_count": 17,
     "metadata": {},
     "output_type": "execute_result"
    },
    {
     "data": {
      "image/png": "[encoded data removed]",
      "text/plain": [
       "<matplotlib.figure.Figure at 0xdfa49e8>"
      ]
     },
     "metadata": {},
     "output_type": "display_data"
    }
   ],
   "source": [
    "# from the svi extract a single year and get the annual component\n",
    "period = '2009'\n",
    "y1_RC = svi_RC[period].as_matrix()[None]\n",
    "y1_RC_HANTS = HANTS(y1_RC.shape[-1], y1_RC, 1, outliers_to_reject='Lo', low=-2000, \n",
    "                    high = 10000, fit_error_tolerance=500, base=1)\n",
    "ts1_RC_period = pd.Series(y1_RC_HANTS[0], index=svi_RC[period].index)\n",
    "ts1_RC_period.plot()"
   ]
  },
  {
   "cell_type": "code",
   "execution_count": 19,
   "metadata": {
    "collapsed": false
   },
   "outputs": [
    {
     "data": {
      "text/plain": [
       "365"
      ]
     },
     "execution_count": 19,
     "metadata": {},
     "output_type": "execute_result"
    }
   ],
   "source": [
    "y1_RC.size"
   ]
  },
  {
   "cell_type": "code",
   "execution_count": 20,
   "metadata": {
    "collapsed": false
   },
   "outputs": [
    {
     "data": {
      "text/plain": [
       "365L"
      ]
     },
     "execution_count": 20,
     "metadata": {},
     "output_type": "execute_result"
    }
   ],
   "source": [
    "y1_RC.shape[-1]"
   ]
  },
  {
   "cell_type": "markdown",
   "metadata": {
    "collapsed": true
   },
   "source": [
    "# PRECIPITATION"
   ]
  },
  {
   "cell_type": "code",
   "execution_count": 21,
   "metadata": {
    "collapsed": false
   },
   "outputs": [],
   "source": [
    "from osgeo import gdal, ogr\n",
    "import os\n",
    "import subprocess as sp\n",
    "from datetime import datetime, timedelta\n",
    "import numpy as np\n",
    "import pandas as pd\n",
    "%matplotlib inline\n",
    "import matplotlib.pyplot as plt"
   ]
  },
  {
   "cell_type": "code",
   "execution_count": 22,
   "metadata": {
    "collapsed": true
   },
   "outputs": [],
   "source": [
    "def listall(RootFolder, varname='',extension='.png'):\n",
    "    lists = [os.path.join(root, name)\n",
    "             for root, dirs, files in os.walk(RootFolder)\n",
    "             for name in files\n",
    "             if varname in name\n",
    "             if name.endswith(extension)]\n",
    "    return lists"
   ]
  },
  {
   "cell_type": "code",
   "execution_count": 23,
   "metadata": {
    "collapsed": false
   },
   "outputs": [
    {
     "name": "stdout",
     "output_type": "stream",
     "text": [
      "D:\\Data\\0_DAILY_INTERVAL_NDVI_TRMM\\InnerMongolia\\TRMM2_2009\\10_Day_Period\\10_DaySums_StdNormAnomalyRes\\TRMM_IM_2009001.tif 2009-01-01 00:00:00\n"
     ]
    }
   ],
   "source": [
    "# 10_DAY_COMPOSITE PRECIPITATION ANOMALIY\n",
    "# get index from tif files\n",
    "files = listall(r'D:\\Data\\0_DAILY_INTERVAL_NDVI_TRMM\\InnerMongolia\\TRMM2_2009\\10_Day_Period\\10_DaySums_StdNormAnomalyRes', extension='.tif')\n",
    "index = []\n",
    "for i in files:\n",
    "    # get date\n",
    "    year = int(i[-11:-7])\n",
    "    doy = int(i[-7:-4])\n",
    "    date = datetime(year, 1, 1) + timedelta(doy - 1)\n",
    "    date = pd.Timestamp(str(date.year)+'-'+str(date.month)+'-'+str(date.day))\n",
    "    #date = np.datetime64(date)    \n",
    "    #date = pd.Timestamp(np.datetime_as_string(date))\n",
    "    index.append(date)\n",
    "index = np.array(index)\n",
    "print files[0], index[0]"
   ]
  },
  {
   "cell_type": "code",
   "execution_count": 24,
   "metadata": {
    "collapsed": false
   },
   "outputs": [
    {
     "data": {
      "text/html": [
       "<div>\n",
       "<table border=\"1\" class=\"dataframe\">\n",
       "  <thead>\n",
       "    <tr style=\"text-align: right;\">\n",
       "      <th></th>\n",
       "      <th>BA</th>\n",
       "      <th>CO</th>\n",
       "      <th>MC</th>\n",
       "      <th>MV</th>\n",
       "      <th>ON</th>\n",
       "      <th>RC</th>\n",
       "      <th>SV</th>\n",
       "    </tr>\n",
       "  </thead>\n",
       "  <tbody>\n",
       "    <tr>\n",
       "      <th>2009-01-01</th>\n",
       "      <td>NaN</td>\n",
       "      <td>NaN</td>\n",
       "      <td>NaN</td>\n",
       "      <td>NaN</td>\n",
       "      <td>NaN</td>\n",
       "      <td>NaN</td>\n",
       "      <td>NaN</td>\n",
       "    </tr>\n",
       "    <tr>\n",
       "      <th>2009-01-02</th>\n",
       "      <td>NaN</td>\n",
       "      <td>NaN</td>\n",
       "      <td>NaN</td>\n",
       "      <td>NaN</td>\n",
       "      <td>NaN</td>\n",
       "      <td>NaN</td>\n",
       "      <td>NaN</td>\n",
       "    </tr>\n",
       "    <tr>\n",
       "      <th>2009-01-03</th>\n",
       "      <td>NaN</td>\n",
       "      <td>NaN</td>\n",
       "      <td>NaN</td>\n",
       "      <td>NaN</td>\n",
       "      <td>NaN</td>\n",
       "      <td>NaN</td>\n",
       "      <td>NaN</td>\n",
       "    </tr>\n",
       "    <tr>\n",
       "      <th>2009-01-04</th>\n",
       "      <td>NaN</td>\n",
       "      <td>NaN</td>\n",
       "      <td>NaN</td>\n",
       "      <td>NaN</td>\n",
       "      <td>NaN</td>\n",
       "      <td>NaN</td>\n",
       "      <td>NaN</td>\n",
       "    </tr>\n",
       "    <tr>\n",
       "      <th>2009-01-05</th>\n",
       "      <td>NaN</td>\n",
       "      <td>NaN</td>\n",
       "      <td>NaN</td>\n",
       "      <td>NaN</td>\n",
       "      <td>NaN</td>\n",
       "      <td>NaN</td>\n",
       "      <td>NaN</td>\n",
       "    </tr>\n",
       "  </tbody>\n",
       "</table>\n",
       "</div>"
      ],
      "text/plain": [
       "             BA   CO   MC   MV   ON   RC   SV\n",
       "2009-01-01  NaN  NaN  NaN  NaN  NaN  NaN  NaN\n",
       "2009-01-02  NaN  NaN  NaN  NaN  NaN  NaN  NaN\n",
       "2009-01-03  NaN  NaN  NaN  NaN  NaN  NaN  NaN\n",
       "2009-01-04  NaN  NaN  NaN  NaN  NaN  NaN  NaN\n",
       "2009-01-05  NaN  NaN  NaN  NaN  NaN  NaN  NaN"
      ]
     },
     "execution_count": 24,
     "metadata": {},
     "output_type": "execute_result"
    }
   ],
   "source": [
    "# get columns from shp file\n",
    "shp_filename = r'D:\\Data\\ChinaShapefile//LC_types.shp'\n",
    "siteID_list = []\n",
    "ds = ogr.Open(shp_filename)\n",
    "lyr = ds.GetLayer()\n",
    "for feat in lyr:\n",
    "    # get siteID from Field\n",
    "    siteID = str(feat.GetField('LC_typce'))\n",
    "    siteID_list.append(siteID)\n",
    "siteID_array = np.array(siteID_list)\n",
    "columns = np.unique(siteID_array).astype(str)   \n",
    "\n",
    "# create empty DataFrame\n",
    "df = pd.DataFrame(index=index, columns=columns)\n",
    "#df_shp = pd.DataFrame(index=index, columns=columns)\n",
    "df.head()"
   ]
  },
  {
   "cell_type": "code",
   "execution_count": 25,
   "metadata": {
    "collapsed": false
   },
   "outputs": [
    {
     "name": "stdout",
     "output_type": "stream",
     "text": [
      "2009-01-01 00:00:00\n",
      "2009-01-02 00:00:00\n",
      "2009-01-03 00:00:00\n",
      "2009-01-04 00:00:00\n",
      "2009-01-05 00:00:00\n",
      "2009-01-06 00:00:00\n",
      "2009-01-07 00:00:00\n",
      "2009-01-08 00:00:00\n",
      "2009-01-09 00:00:00\n",
      "2009-01-10 00:00:00\n",
      "2009-01-11 00:00:00\n",
      "2009-01-12 00:00:00\n",
      "2009-01-13 00:00:00\n",
      "2009-01-14 00:00:00\n",
      "2009-01-15 00:00:00\n",
      "2009-01-16 00:00:00\n",
      "2009-01-17 00:00:00\n",
      "2009-01-18 00:00:00\n",
      "2009-01-19 00:00:00\n",
      "2009-01-20 00:00:00\n",
      "2009-01-21 00:00:00\n",
      "2009-01-22 00:00:00\n",
      "2009-01-23 00:00:00\n",
      "2009-01-24 00:00:00\n",
      "2009-01-25 00:00:00\n",
      "2009-01-26 00:00:00\n",
      "2009-01-27 00:00:00\n",
      "2009-01-28 00:00:00\n",
      "2009-01-29 00:00:00\n",
      "2009-01-30 00:00:00\n",
      "2009-01-31 00:00:00\n",
      "2009-02-01 00:00:00\n",
      "2009-02-02 00:00:00\n",
      "2009-02-03 00:00:00\n",
      "2009-02-04 00:00:00\n",
      "2009-02-05 00:00:00\n",
      "2009-02-06 00:00:00\n",
      "2009-02-07 00:00:00\n",
      "2009-02-08 00:00:00\n",
      "2009-02-09 00:00:00\n",
      "2009-02-10 00:00:00\n",
      "2009-02-11 00:00:00\n",
      "2009-02-12 00:00:00\n",
      "2009-02-13 00:00:00\n",
      "2009-02-14 00:00:00\n",
      "2009-02-15 00:00:00\n",
      "2009-02-16 00:00:00\n",
      "2009-02-17 00:00:00\n",
      "2009-02-18 00:00:00\n",
      "2009-02-19 00:00:00\n",
      "2009-02-20 00:00:00\n",
      "2009-02-21 00:00:00\n",
      "2009-02-22 00:00:00\n",
      "2009-02-23 00:00:00\n",
      "2009-02-24 00:00:00\n",
      "2009-02-25 00:00:00\n",
      "2009-02-26 00:00:00\n",
      "2009-02-27 00:00:00\n",
      "2009-02-28 00:00:00\n",
      "2009-03-01 00:00:00\n",
      "2009-03-02 00:00:00\n",
      "2009-03-03 00:00:00\n",
      "2009-03-04 00:00:00\n",
      "2009-03-05 00:00:00\n",
      "2009-03-06 00:00:00\n",
      "2009-03-07 00:00:00\n",
      "2009-03-08 00:00:00\n",
      "2009-03-09 00:00:00\n",
      "2009-03-10 00:00:00\n",
      "2009-03-11 00:00:00\n",
      "2009-03-12 00:00:00\n",
      "2009-03-13 00:00:00\n",
      "2009-03-14 00:00:00\n",
      "2009-03-15 00:00:00\n",
      "2009-03-16 00:00:00\n",
      "2009-03-17 00:00:00\n",
      "2009-03-18 00:00:00\n",
      "2009-03-19 00:00:00\n",
      "2009-03-20 00:00:00\n",
      "2009-03-21 00:00:00\n",
      "2009-03-22 00:00:00\n",
      "2009-03-23 00:00:00\n",
      "2009-03-24 00:00:00\n",
      "2009-03-25 00:00:00\n",
      "2009-03-26 00:00:00\n",
      "2009-03-27 00:00:00\n",
      "2009-03-28 00:00:00\n",
      "2009-03-29 00:00:00\n",
      "2009-03-30 00:00:00\n",
      "2009-03-31 00:00:00\n",
      "2009-04-01 00:00:00\n",
      "2009-04-02 00:00:00\n",
      "2009-04-03 00:00:00\n",
      "2009-04-04 00:00:00\n",
      "2009-04-05 00:00:00\n",
      "2009-04-06 00:00:00\n",
      "2009-04-07 00:00:00\n",
      "2009-04-08 00:00:00\n",
      "2009-04-09 00:00:00\n",
      "2009-04-10 00:00:00\n",
      "2009-04-11 00:00:00\n",
      "2009-04-12 00:00:00\n",
      "2009-04-13 00:00:00\n",
      "2009-04-14 00:00:00\n",
      "2009-04-15 00:00:00\n",
      "2009-04-16 00:00:00\n",
      "2009-04-17 00:00:00\n",
      "2009-04-18 00:00:00\n",
      "2009-04-19 00:00:00\n",
      "2009-04-20 00:00:00\n",
      "2009-04-21 00:00:00\n",
      "2009-04-22 00:00:00\n",
      "2009-04-23 00:00:00\n",
      "2009-04-24 00:00:00\n",
      "2009-04-25 00:00:00\n",
      "2009-04-26 00:00:00\n",
      "2009-04-27 00:00:00\n",
      "2009-04-28 00:00:00\n",
      "2009-04-29 00:00:00\n",
      "2009-04-30 00:00:00\n",
      "2009-05-01 00:00:00\n",
      "2009-05-02 00:00:00\n",
      "2009-05-03 00:00:00\n",
      "2009-05-04 00:00:00\n",
      "2009-05-05 00:00:00\n",
      "2009-05-06 00:00:00\n",
      "2009-05-07 00:00:00\n",
      "2009-05-08 00:00:00\n",
      "2009-05-09 00:00:00\n",
      "2009-05-10 00:00:00\n",
      "2009-05-11 00:00:00\n",
      "2009-05-12 00:00:00\n",
      "2009-05-13 00:00:00\n",
      "2009-05-14 00:00:00\n",
      "2009-05-15 00:00:00\n",
      "2009-05-16 00:00:00\n",
      "2009-05-17 00:00:00\n",
      "2009-05-18 00:00:00\n",
      "2009-05-19 00:00:00\n",
      "2009-05-20 00:00:00\n",
      "2009-05-21 00:00:00\n",
      "2009-05-22 00:00:00\n",
      "2009-05-23 00:00:00\n",
      "2009-05-24 00:00:00\n",
      "2009-05-25 00:00:00\n",
      "2009-05-26 00:00:00\n",
      "2009-05-27 00:00:00\n",
      "2009-05-28 00:00:00\n",
      "2009-05-29 00:00:00\n",
      "2009-05-30 00:00:00\n",
      "2009-05-31 00:00:00\n",
      "2009-06-01 00:00:00\n",
      "2009-06-02 00:00:00\n",
      "2009-06-03 00:00:00\n",
      "2009-06-04 00:00:00\n",
      "2009-06-05 00:00:00\n",
      "2009-06-06 00:00:00\n",
      "2009-06-07 00:00:00\n",
      "2009-06-08 00:00:00\n",
      "2009-06-09 00:00:00\n",
      "2009-06-10 00:00:00\n",
      "2009-06-11 00:00:00\n",
      "2009-06-12 00:00:00\n",
      "2009-06-13 00:00:00\n",
      "2009-06-14 00:00:00\n",
      "2009-06-15 00:00:00\n",
      "2009-06-16 00:00:00\n",
      "2009-06-17 00:00:00\n",
      "2009-06-18 00:00:00\n",
      "2009-06-19 00:00:00\n",
      "2009-06-20 00:00:00\n",
      "2009-06-21 00:00:00\n",
      "2009-06-22 00:00:00\n",
      "2009-06-23 00:00:00\n",
      "2009-06-24 00:00:00\n",
      "2009-06-25 00:00:00\n",
      "2009-06-26 00:00:00\n",
      "2009-06-27 00:00:00\n",
      "2009-06-28 00:00:00\n",
      "2009-06-29 00:00:00\n",
      "2009-06-30 00:00:00\n",
      "2009-07-01 00:00:00\n",
      "2009-07-02 00:00:00\n",
      "2009-07-03 00:00:00\n",
      "2009-07-04 00:00:00\n",
      "2009-07-05 00:00:00\n",
      "2009-07-06 00:00:00\n",
      "2009-07-07 00:00:00\n",
      "2009-07-08 00:00:00\n",
      "2009-07-09 00:00:00\n",
      "2009-07-10 00:00:00\n",
      "2009-07-11 00:00:00\n",
      "2009-07-12 00:00:00\n",
      "2009-07-13 00:00:00\n",
      "2009-07-14 00:00:00\n",
      "2009-07-15 00:00:00\n",
      "2009-07-16 00:00:00\n",
      "2009-07-17 00:00:00\n",
      "2009-07-18 00:00:00\n",
      "2009-07-20 00:00:00\n",
      "2009-07-21 00:00:00\n",
      "2009-07-22 00:00:00\n",
      "2009-07-23 00:00:00\n",
      "2009-07-24 00:00:00\n",
      "2009-07-25 00:00:00\n",
      "2009-07-26 00:00:00\n",
      "2009-07-27 00:00:00\n",
      "2009-07-28 00:00:00\n",
      "2009-07-29 00:00:00\n",
      "2009-07-30 00:00:00\n",
      "2009-07-31 00:00:00\n",
      "2009-08-01 00:00:00\n",
      "2009-08-02 00:00:00\n",
      "2009-08-03 00:00:00\n",
      "2009-08-04 00:00:00\n",
      "2009-08-05 00:00:00\n",
      "2009-08-06 00:00:00\n",
      "2009-08-07 00:00:00\n",
      "2009-08-08 00:00:00\n",
      "2009-08-09 00:00:00\n",
      "2009-08-10 00:00:00\n",
      "2009-08-11 00:00:00\n",
      "2009-08-12 00:00:00\n",
      "2009-08-13 00:00:00\n",
      "2009-08-14 00:00:00\n",
      "2009-08-15 00:00:00\n",
      "2009-08-16 00:00:00\n",
      "2009-08-17 00:00:00\n",
      "2009-08-18 00:00:00\n",
      "2009-08-19 00:00:00\n",
      "2009-08-20 00:00:00\n",
      "2009-08-21 00:00:00\n",
      "2009-08-22 00:00:00\n",
      "2009-08-23 00:00:00\n",
      "2009-08-24 00:00:00\n",
      "2009-08-25 00:00:00\n",
      "2009-08-26 00:00:00\n",
      "2009-08-27 00:00:00\n",
      "2009-08-28 00:00:00\n",
      "2009-08-29 00:00:00\n",
      "2009-08-30 00:00:00\n",
      "2009-08-31 00:00:00\n",
      "2009-09-01 00:00:00\n",
      "2009-09-02 00:00:00\n",
      "2009-09-03 00:00:00\n",
      "2009-09-04 00:00:00\n",
      "2009-09-05 00:00:00\n",
      "2009-09-06 00:00:00\n",
      "2009-09-07 00:00:00\n",
      "2009-09-08 00:00:00\n",
      "2009-09-09 00:00:00\n",
      "2009-09-10 00:00:00\n",
      "2009-09-11 00:00:00\n",
      "2009-09-12 00:00:00\n",
      "2009-09-13 00:00:00\n",
      "2009-09-14 00:00:00\n",
      "2009-09-15 00:00:00\n",
      "2009-09-16 00:00:00\n",
      "2009-09-17 00:00:00\n",
      "2009-09-18 00:00:00\n",
      "2009-09-19 00:00:00\n",
      "2009-09-20 00:00:00\n",
      "2009-09-21 00:00:00\n",
      "2009-09-22 00:00:00\n",
      "2009-09-23 00:00:00\n",
      "2009-09-24 00:00:00\n",
      "2009-09-25 00:00:00\n",
      "2009-09-26 00:00:00\n",
      "2009-09-27 00:00:00\n",
      "2009-09-28 00:00:00\n",
      "2009-09-29 00:00:00\n",
      "2009-09-30 00:00:00\n",
      "2009-10-01 00:00:00\n",
      "2009-10-02 00:00:00\n",
      "2009-10-03 00:00:00\n",
      "2009-10-04 00:00:00\n",
      "2009-10-05 00:00:00\n",
      "2009-10-06 00:00:00\n",
      "2009-10-07 00:00:00\n",
      "2009-10-08 00:00:00\n",
      "2009-10-09 00:00:00\n",
      "2009-10-10 00:00:00\n",
      "2009-10-11 00:00:00\n",
      "2009-10-12 00:00:00\n",
      "2009-10-13 00:00:00\n",
      "2009-10-14 00:00:00\n",
      "2009-10-15 00:00:00\n",
      "2009-10-16 00:00:00\n",
      "2009-10-17 00:00:00\n",
      "2009-10-18 00:00:00\n",
      "2009-10-19 00:00:00\n",
      "2009-10-20 00:00:00\n",
      "2009-10-21 00:00:00\n",
      "2009-10-22 00:00:00\n",
      "2009-10-23 00:00:00\n",
      "2009-10-24 00:00:00\n",
      "2009-10-25 00:00:00\n",
      "2009-10-26 00:00:00\n",
      "2009-10-27 00:00:00\n",
      "2009-10-28 00:00:00\n",
      "2009-10-29 00:00:00\n",
      "2009-10-30 00:00:00\n",
      "2009-10-31 00:00:00\n",
      "2009-11-01 00:00:00\n",
      "2009-11-02 00:00:00\n",
      "2009-11-03 00:00:00\n",
      "2009-11-04 00:00:00\n",
      "2009-11-05 00:00:00\n",
      "2009-11-06 00:00:00\n",
      "2009-11-07 00:00:00\n",
      "2009-11-08 00:00:00\n",
      "2009-11-09 00:00:00\n",
      "2009-11-10 00:00:00\n",
      "2009-11-11 00:00:00\n",
      "2009-11-12 00:00:00\n",
      "2009-11-13 00:00:00\n",
      "2009-11-14 00:00:00\n",
      "2009-11-15 00:00:00\n",
      "2009-11-16 00:00:00\n",
      "2009-11-17 00:00:00\n",
      "2009-11-18 00:00:00\n",
      "2009-11-19 00:00:00\n",
      "2009-11-20 00:00:00\n",
      "2009-11-21 00:00:00\n",
      "2009-11-22 00:00:00\n",
      "2009-11-23 00:00:00\n",
      "2009-11-24 00:00:00\n",
      "2009-11-25 00:00:00\n",
      "2009-11-26 00:00:00\n",
      "2009-11-27 00:00:00\n",
      "2009-11-28 00:00:00\n",
      "2009-11-29 00:00:00\n",
      "2009-11-30 00:00:00\n",
      "2009-12-01 00:00:00\n",
      "2009-12-02 00:00:00\n",
      "2009-12-03 00:00:00\n",
      "2009-12-04 00:00:00\n",
      "2009-12-05 00:00:00\n",
      "2009-12-06 00:00:00\n",
      "2009-12-07 00:00:00\n",
      "2009-12-08 00:00:00\n",
      "2009-12-09 00:00:00\n",
      "2009-12-10 00:00:00\n",
      "2009-12-11 00:00:00\n",
      "2009-12-12 00:00:00\n",
      "2009-12-13 00:00:00\n",
      "2009-12-14 00:00:00\n",
      "2009-12-15 00:00:00\n",
      "2009-12-16 00:00:00\n",
      "2009-12-17 00:00:00\n",
      "2009-12-18 00:00:00\n",
      "2009-12-19 00:00:00\n",
      "2009-12-20 00:00:00\n",
      "2009-12-21 00:00:00\n",
      "2009-12-22 00:00:00\n",
      "2009-12-23 00:00:00\n",
      "2009-12-24 00:00:00\n",
      "2009-12-25 00:00:00\n",
      "2009-12-26 00:00:00\n",
      "2009-12-27 00:00:00\n",
      "2009-12-28 00:00:00\n",
      "2009-12-29 00:00:00\n",
      "2009-12-30 00:00:00\n",
      "2009-12-31 00:00:00\n"
     ]
    }
   ],
   "source": [
    "for i in files:\n",
    "    # load raster GeoTransform, RasterBand    \n",
    "    try:\n",
    "        src_ds = gdal.Open(i) \n",
    "        gt = src_ds.GetGeoTransform()\n",
    "        rb = src_ds.GetRasterBand(1)\n",
    "\n",
    "        # get date\n",
    "        year = int(i[-11:-7])\n",
    "        doy = int(i[-7:-4])\n",
    "        date = datetime(year, 1, 1) + timedelta(doy - 1)\n",
    "        date = pd.Timestamp(str(date.year)+'-'+str(date.month)+'-'+str(date.day))\n",
    "        #date = np.datetime64(date)\n",
    "        #date = pd.Timestamp(np.datetime_as_string(date))\n",
    "        print date\n",
    "    except Exception, e:\n",
    "        print e, i\n",
    "        continue\n",
    "        \n",
    "    ds = ogr.Open(shp_filename)\n",
    "    lyr = ds.GetLayer()\n",
    "    for feat in lyr:\n",
    "        try:\n",
    "            # get siteID from Field\n",
    "\n",
    "            siteID = str(feat.GetField('LC_typce'))\n",
    "            #if siteID == '50353':\n",
    "\n",
    "            # get lon/lat from GeometryRef\n",
    "            geom = feat.GetGeometryRef()\n",
    "            mx,my=geom.GetX(), geom.GetY()  #coord in map units\n",
    "\n",
    "            # convert from map to pixel coordinates.    \n",
    "            px = int((mx - gt[0]) / gt[1]) #x pixel\n",
    "            py = int((my - gt[3]) / gt[5]) #y pixel\n",
    "\n",
    "            # get single pixel\n",
    "            pixel = rb.ReadAsArray(px,py,1,1)\n",
    "            #array_ID_nine = np.ma.masked_equal(array_ID_nine, 0)\n",
    "            #stationID_mean = np.ma.mean(array_ID_nine)\n",
    "            # stationID_mean = np.nanmean(array_ID_nine)            \n",
    "            # set pandas dataframe value\n",
    "            df.ix[date][siteID] = pixel[0][0]\n",
    "            #print siteID#, px, py, stationID_mean, df.ix[date][siteID]\n",
    "        except Exception, e:\n",
    "            #print e, i, feat.GetFID()\n",
    "            continue"
   ]
  },
  {
   "cell_type": "code",
   "execution_count": 26,
   "metadata": {
    "collapsed": false
   },
   "outputs": [],
   "source": [
    "df_new = df[df.columns[0]].astype(float)\n",
    "df_new = df_new.resample('H')\n",
    "df_new.interpolate(inplace=True)"
   ]
  },
  {
   "cell_type": "code",
   "execution_count": 27,
   "metadata": {
    "collapsed": false
   },
   "outputs": [
    {
     "data": {
      "text/plain": [
       "364"
      ]
     },
     "execution_count": 27,
     "metadata": {},
     "output_type": "execute_result"
    },
    {
     "data": {
      "image/png": "[encoded data removed]",
      "text/plain": [
       "<matplotlib.figure.Figure at 0xf1ad198>"
      ]
     },
     "metadata": {},
     "output_type": "display_data"
    }
   ],
   "source": [
    "NDVI = df_shp['RC'].as_matrix()\n",
    "P = df['BA'].as_matrix()\n",
    "plt.plot(P)\n",
    "P.size"
   ]
  },
  {
   "cell_type": "code",
   "execution_count": 28,
   "metadata": {
    "collapsed": false
   },
   "outputs": [
    {
     "data": {
      "text/plain": [
       "99.134343780422057"
      ]
     },
     "execution_count": 28,
     "metadata": {},
     "output_type": "execute_result"
    }
   ],
   "source": [
    "y1_RC.max()*100"
   ]
  },
  {
   "cell_type": "code",
   "execution_count": 29,
   "metadata": {
    "collapsed": false
   },
   "outputs": [
    {
     "ename": "ValueError",
     "evalue": "einstein sum subscripts string contains too many subscripts for operand 1",
     "output_type": "error",
     "traceback": [
      "\u001b[1;31m---------------------------------------------------------------------------\u001b[0m",
      "\u001b[1;31mValueError\u001b[0m                                Traceback (most recent call last)",
      "\u001b[1;32m<ipython-input-29-1737c937eb9b>\u001b[0m in \u001b[0;36m<module>\u001b[1;34m()\u001b[0m\n\u001b[0;32m      2\u001b[0m \u001b[0my1_RC\u001b[0m \u001b[1;33m=\u001b[0m \u001b[0mP\u001b[0m\u001b[1;33m+\u001b[0m\u001b[1;36m1\u001b[0m\u001b[1;33m\u001b[0m\u001b[0m\n\u001b[0;32m      3\u001b[0m y1_RC_HANTS = HANTS(y1_RC.size, y1_RC, 1, outliers_to_reject='Lo', low=-100, \n\u001b[1;32m----> 4\u001b[1;33m                     high = 100, fit_error_tolerance=0.5, base=1)\n\u001b[0m\u001b[0;32m      5\u001b[0m \u001b[0mts1_RC_period\u001b[0m \u001b[1;33m=\u001b[0m \u001b[0mpd\u001b[0m\u001b[1;33m.\u001b[0m\u001b[0mSeries\u001b[0m\u001b[1;33m(\u001b[0m\u001b[0my1_RC_HANTS\u001b[0m\u001b[1;33m[\u001b[0m\u001b[1;36m0\u001b[0m\u001b[1;33m]\u001b[0m\u001b[1;33m,\u001b[0m \u001b[0mindex\u001b[0m\u001b[1;33m=\u001b[0m\u001b[0msvi_RC\u001b[0m\u001b[1;33m[\u001b[0m\u001b[0mperiod\u001b[0m\u001b[1;33m]\u001b[0m\u001b[1;33m.\u001b[0m\u001b[0mindex\u001b[0m\u001b[1;33m)\u001b[0m\u001b[1;33m\u001b[0m\u001b[0m\n\u001b[0;32m      6\u001b[0m \u001b[0mts1_RC_period\u001b[0m\u001b[1;33m.\u001b[0m\u001b[0mplot\u001b[0m\u001b[1;33m(\u001b[0m\u001b[1;33m)\u001b[0m\u001b[1;33m\u001b[0m\u001b[0m\n",
      "\u001b[1;32m<ipython-input-3-e65b4d30ed93>\u001b[0m in \u001b[0;36mHANTS\u001b[1;34m(sample_count, inputs, frequencies_considered_count, outliers_to_reject, low, high, fit_error_tolerance, delta, base)\u001b[0m\n\u001b[0;32m    105\u001b[0m         \u001b[1;31m# print '--------*-*-*-*',it.value, '*-*-*-*--------'\u001b[0m\u001b[1;33m\u001b[0m\u001b[1;33m\u001b[0m\u001b[0m\n\u001b[0;32m    106\u001b[0m         \u001b[1;31m# multiply outliers with timeseries\u001b[0m\u001b[1;33m\u001b[0m\u001b[1;33m\u001b[0m\u001b[0m\n\u001b[1;32m--> 107\u001b[1;33m         \u001b[0mza\u001b[0m \u001b[1;33m=\u001b[0m \u001b[0mnp\u001b[0m\u001b[1;33m.\u001b[0m\u001b[0meinsum\u001b[0m\u001b[1;33m(\u001b[0m\u001b[1;34m'ijk,ik->ij'\u001b[0m\u001b[1;33m,\u001b[0m \u001b[0mmat\u001b[0m\u001b[1;33m,\u001b[0m \u001b[0mp\u001b[0m \u001b[1;33m*\u001b[0m \u001b[0minputs\u001b[0m\u001b[1;33m)\u001b[0m\u001b[1;33m\u001b[0m\u001b[0m\n\u001b[0m\u001b[0;32m    108\u001b[0m \u001b[1;33m\u001b[0m\u001b[0m\n\u001b[0;32m    109\u001b[0m         \u001b[1;31m# multiply mat with the multiplication of multiply diagonal of p with transpose of mat\u001b[0m\u001b[1;33m\u001b[0m\u001b[1;33m\u001b[0m\u001b[0m\n",
      "\u001b[1;31mValueError\u001b[0m: einstein sum subscripts string contains too many subscripts for operand 1"
     ]
    }
   ],
   "source": [
    "# from the svi extract a single year and get the annual component\n",
    "y1_RC = P+1\n",
    "y1_RC_HANTS = HANTS(y1_RC.size, y1_RC, 1, outliers_to_reject='Lo', low=-100, \n",
    "                    high = 100, fit_error_tolerance=0.5, base=1)\n",
    "ts1_RC_period = pd.Series(y1_RC_HANTS[0], index=svi_RC[period].index)\n",
    "ts1_RC_period.plot()"
   ]
  },
  {
   "cell_type": "markdown",
   "metadata": {},
   "source": [
    "# COMPUTE MULTITAPER + UNCERTAINTY"
   ]
  },
  {
   "cell_type": "code",
   "execution_count": 30,
   "metadata": {
    "collapsed": true
   },
   "outputs": [],
   "source": [
    "%matplotlib inline\n",
    "from __future__ import division\n",
    "from osgeo import gdal\n",
    "import numpy as np\n",
    "import scipy.signal\n",
    "import os\n",
    "import matplotlib.pyplot as plt\n",
    "import nitime.algorithms as tsa\n",
    "import random\n",
    "import os\n",
    "from osgeo import gdal\n",
    "import scipy.signal\n",
    "from mpl_toolkits.axes_grid1 import host_subplot\n",
    "import mpl_toolkits.axisartist as AA"
   ]
  },
  {
   "cell_type": "code",
   "execution_count": 31,
   "metadata": {
    "collapsed": false
   },
   "outputs": [],
   "source": [
    "def dB(x, out=None):\n",
    "    if out is None:\n",
    "        return 10 * np.log10(x)\n",
    "    else:\n",
    "        np.log10(x, out)\n",
    "        np.multiply(out, 10, out)\n",
    "        \n",
    "def mtem(x, y):\n",
    "    \"\"\"\n",
    "    multitaper estimation method\n",
    "    input:\n",
    "    x  first time series\n",
    "    y  second time series\n",
    "\n",
    "    output:\n",
    "    fkx  power spectral density x\n",
    "    fky  power spectral density y\n",
    "    cxy  cross-spectral density xy\n",
    "    coh  coherence\n",
    "    ph  phase between xy at input freq\n",
    "    \n",
    "    \"\"\"\n",
    "    print ('x size', x.shape)\n",
    "    print ('y size', y.shape)\n",
    "    \n",
    "    # apply multi taper cross spectral density from nitime module\n",
    "    f, pcsd_est = tsa.multi_taper_csd(np.vstack([x,y]), Fs=1., low_bias=True, adaptive=True, sides='onesided')\n",
    "    \n",
    "    # output is MxMxN matrix, extract the psd and csd\n",
    "    fkx = pcsd_est.diagonal().T[0]\n",
    "    fky = pcsd_est.diagonal().T[1]\n",
    "    cxy = pcsd_est.diagonal(+1).T.ravel()\n",
    "    \n",
    "    # using complex argument of cxy extract phase component\n",
    "    ph = np.angle(cxy)\n",
    "    \n",
    "    # calculate coherence using csd and psd\n",
    "    coh = np.abs(cxy)**2 / (fkx * fky)   \n",
    "    \n",
    "    return f, fkx, fky, cxy, ph, coh \n",
    "\n",
    "def mtem_unct(x_, y_, cf, mc_no=20):\n",
    "    \"\"\"\n",
    "    Uncertainty function using Monte Carlo analysis\n",
    "    Input:\n",
    "    x_ = timeseries x\n",
    "    y_ = timeseries y\n",
    "    cf = coherence function between x and y\n",
    "    mc_no = number of iterations default is 20, minimum is 3\n",
    "    \n",
    "    Output:\n",
    "    phif = phase uncertainty bounded between 0 and pi\n",
    "    \"\"\"\n",
    "    print ('iteration no is', mc_no)\n",
    "    \n",
    "    data = np.vstack([x_,y_])\n",
    "    # number of iterations\n",
    "    # flip coherence and horizontal stack    \n",
    "    cg = np.hstack((cf[:-1], np.flipud(cf[:-1])))\n",
    "    \n",
    "    # random time series fx\n",
    "    mc_fx = np.random.standard_normal(size=(mc_no,len(data[0])))\n",
    "    mc_fx = mc_fx / np.sum(abs(mc_fx),axis=1)[None].T\n",
    "    \n",
    "    # random time series fy\n",
    "    mc_fy = np.random.standard_normal(size=(mc_no,len(data[0])))\n",
    "    mc_fy = mc_fy / np.sum(abs(mc_fy),axis=1)[None].T\n",
    "    \n",
    "    # create semi random timeseries based on magnitude squared coherence\n",
    "    # and inverse fourier transform for ys\n",
    "    ys = np.real(np.fft.ifft(mc_fy * np.sqrt(1 - cg ** 2))) \n",
    "    ys = ys + np.real(np.fft.ifft(mc_fx *cg))\n",
    "    \n",
    "    # inverse fourier transform for xs\n",
    "    xs = np.real(np.fft.ifft(mc_fx))\n",
    "    \n",
    "    # spectral analysis\n",
    "    f_s, pcsd_est = tsa.multi_taper_csd(np.vstack([xs,ys]), Fs=1., low_bias=True, adaptive=True, sides='onesided')\n",
    "    cxyi = pcsd_est.diagonal(+int(xs.shape[0])).T\n",
    "    phi = np.angle(cxyi)\n",
    "    \n",
    "    # sort and average the highest uncertianties\n",
    "    pl = int(round(0.975*mc_no)+1)\n",
    "    phi = np.sort(phi,axis=0)        \n",
    "    phi = phi[((mc_no+1)-pl):pl]\n",
    "    phi = np.array([phi[pl-2,:],-phi[pl-mc_no,:]])\n",
    "    phi = phi.mean(axis=0)#\n",
    "    phi = np.convolve(phi, np.array([1,1,1])/3)\n",
    "    phif = phi[1:-1]\n",
    "    return phif\n",
    "\n",
    "def pad_extend(m1, m2, tile_no=100, extend=0):\n",
    "    \"\"\"\n",
    "    Input 'm1':\n",
    "    Signal 1\n",
    "    Input 'm2':\n",
    "    Signal 2\n",
    "    Input 'extend':\n",
    "    0 = repeat signal\n",
    "    1 = padd with zeroes left\n",
    "    2 = padd with zeroes right\n",
    "    3 = padd with zeroes on both sides\n",
    "    Input 'tile_no':\n",
    "    number of times to pad or extend the signal\n",
    "    \n",
    "    Output \n",
    "    x,y,t = repeated/padded signals + evenly spaced interval of the range\n",
    "    \"\"\"\n",
    "    \n",
    "    \n",
    "    if extend == 0:\n",
    "        x = np.tile(m1, tile_no+1)\n",
    "        y = np.tile(m2, tile_no+1)\n",
    "    elif extend == 1:\n",
    "        x = np.lib.pad(m1, (len(m1)*(tile_no),0), 'constant', constant_values=0)\n",
    "        y = np.lib.pad(m2, (len(m2)*(tile_no),0), 'constant', constant_values=0)    \n",
    "    \n",
    "    elif extend == 2:\n",
    "        x = np.lib.pad(m1, (0,len(m1)*(tile_no)), 'constant', constant_values=0)\n",
    "        y = np.lib.pad(m2, (0,len(m1)*(tile_no)), 'constant', constant_values=0)    \n",
    "    \n",
    "    elif extend == 3:\n",
    "        x = np.lib.pad(m1, (len(m1)*tile_no/2,len(m1)*(tile_no/2)), 'constant', constant_values=0)\n",
    "        y = np.lib.pad(m2, (len(m2)*tile_no/2,len(m1)*(tile_no/2)), 'constant', constant_values=0)    \n",
    "    \n",
    "    if len(x) % 2 != 0:\n",
    "        x = x[:-1]\n",
    "    \n",
    "    if len(y) % 2 != 0:\n",
    "        y = y[:-1]\n",
    "        \n",
    "    t = np.arange(x.shape[0])\n",
    "    return x,y,t\n",
    "\n",
    "\n",
    "def plotCrossSpectral(f,ph,coh,phif):\n",
    "    plt.figure(figsize=(14,4.5))\n",
    "    \n",
    "    ## PLOT 5\n",
    "    plt.subplot(121)\n",
    "    \n",
    "    plt.grid(axis='y')\n",
    "    plt.plot(f,coh, 'y')\n",
    "    \n",
    "    plt.axvspan(vspan_start,vspan_end, color='gray', alpha=0.2)\n",
    "    plt.axvspan(0.0054,0.0056, color='gray', alpha=0.2)\n",
    "    plt.axvspan(0.0081,0.0083, color='gray', alpha=0.2)\n",
    "    plt.axvspan(0.0108,0.0110, color='gray', alpha=0.2)\n",
    "    \n",
    "    plt.xticks([(1/366),(1./(366./2)),(1./(366./3)),(1./(366./4))],[str(0.0027),str(0.0055),str(0.0082),str(0.0109)])\n",
    "    plt.xlim(xlim_start,xlim_end)\n",
    "    plt.ylim(0,1.01)\n",
    "    \n",
    "    plt.ylabel('coherence')\n",
    "    plt.xlabel('frequency (Hz)')\n",
    "    plt.title('coherence x/y with repeated ts: '+str(tile_no))\n",
    "    \n",
    "    ## PLOT 9\n",
    "    rad2time = ph/(2*np.pi*f)\n",
    "    mtcl2time = phif/(2*np.pi*f)\n",
    "    neg_time= np.where(rad2time<0)\n",
    "    dur_cycl = (1/f)\n",
    "    rad2time[neg_time] = rad2time[neg_time]+dur_cycl[neg_time]\n",
    "    \n",
    "    \n",
    "    ax = host_subplot(122, axes_class=AA.Axes)\n",
    "    \n",
    "    p1 = plt.Rectangle((0, 0), 1, 1, fc='c', ec='c')\n",
    "    p2, = ax.plot(f, rad2time, color='m', zorder=5, label='Phase')\n",
    "    p3, = ax.plot(f, dur_cycl, color='gray', linestyle='-.', zorder=5, label='Period')\n",
    "    p4, = ax.plot(f, dur_cycl/2, color='gray', linestyle='--', zorder=5, label='Halve period')\n",
    "    \n",
    "    ax.fill_between(f,(rad2time+mtcl2time),(rad2time-mtcl2time), where=(((rad2time+mtcl2time)<dur_cycl)), \n",
    "                 facecolor='c' ,edgecolor='c', lw=0.0 ,interpolate=True, zorder=4)\n",
    "    ax.fill_between(f,(rad2time-mtcl2time),dur_cycl, where=(((rad2time+mtcl2time)>dur_cycl)),\n",
    "                 facecolor='c' ,edgecolor='c', lw=0.0 ,interpolate=True, zorder=4)\n",
    "    ax.fill_between(f,(rad2time+mtcl2time)-dur_cycl, where=(((rad2time+mtcl2time)>0)),\n",
    "                 facecolor='c' ,edgecolor='c', lw=0.0 ,interpolate=True, zorder=4)\n",
    "    ax.fill_between(f,((rad2time-mtcl2time)+dur_cycl),dur_cycl, where=((rad2time-mtcl2time)<0), \n",
    "                 facecolor='c' ,edgecolor='c', lw=0.0 ,interpolate=True, zorder=4)\n",
    "    \n",
    "    ax.set_xlim([xlim_start,xlim_end])\n",
    "    ax.set_ylim([0,365])\n",
    "    ax.set_xticks([(1/366),(1./(366./2)),(1./(366./3)),(1./(366./4))])\n",
    "    ax.set_xticklabels([str(0.0027),str(0.0055),str(0.0082),str(0.0109)])\n",
    "    \n",
    "    ax.set_xlabel('frequency (Hz)')\n",
    "    ax.set_ylabel('phase (day)')\n",
    "    ax.set_title('t (month)', loc='left', fontsize=10)\n",
    "    \n",
    "    p5= plt.axvspan(vspan_start,vspan_end, color='gray', alpha=0.2, zorder=-1)\n",
    "    plt.axvspan(0.0054,0.0056, color='gray', alpha=0.2)\n",
    "    plt.axvspan(0.0081,0.0083, color='gray', alpha=0.2)\n",
    "    plt.axvspan(0.0108,0.0110, color='gray', alpha=0.2)\n",
    "    #axvspan(0.099,0.101, color='gray', alpha=0.1, zorder=0)\n",
    "    \n",
    "    ax2 = ax.twin() # ax2 is responsible for \"top\" axis and \"right\" axis\n",
    "    ax2.set_xlabel('phase spectrum x/y + uncertainty')\n",
    "    ax2.set_xticks([(1/366),(1./(366./2)),(1./(366./3)),(1./(366./4))])\n",
    "    ax2.set_xticklabels([str(12),str(6),str(4),str(3)])\n",
    "    ax2.axis[\"right\"].major_ticklabels.set_visible(False)\n",
    "    ax2.xaxis.label.set_size(2)\n",
    "    \n",
    "    \n",
    "    lg = plt.legend([p3,p4], ['single period','halve period'], ncol=1)\n",
    "    lg.get_frame().set_ec('lightgray')\n",
    "    lg.get_frame().set_lw(0.5)\n",
    "    plt.grid(axis='y', zorder=0 )\n",
    "    \n",
    "    plt.gcf().tight_layout()\n",
    "    #plt.savefig(r'C:\\Users\\lenovo\\Documents\\HOME//nodetrending_2007_Wet_nohants.png', dpi=400)\n",
    "    \n",
    "    # frequency index\n",
    "    #f_lb = 0.0054 # vspan_start \n",
    "    #f_ub = 0.0056 # vspan_end\n",
    "    #f_ix = np.where((f > f_lb) * (f < f_ub))[0]\n",
    "    #p_r2t = np.mean(rad2time[f_ix], -1)\n",
    "    #p_ph = np.mean(ph[f_ix], -1)\n",
    "    #print ('phase in radian is', round(p_ph,2))\n",
    "    #print ('which correspond to', round(p_r2t,2), 'day')\n",
    "    #plt.savefig(r'C:\\Users\\lenovo\\Documents\\HOME\\2015-02-05_pics4progress//nodetrending_2006_Wet_nohants.png', dpi=400)\n",
    "    plt.show()\n",
    "    plt.close()"
   ]
  },
  {
   "cell_type": "code",
   "execution_count": 32,
   "metadata": {
    "collapsed": false
   },
   "outputs": [],
   "source": [
    "P_ = P - P.mean()\n",
    "NDVI_ = NDVI[0:-1] - NDVI[0:-1].mean()"
   ]
  },
  {
   "cell_type": "code",
   "execution_count": 33,
   "metadata": {
    "collapsed": true
   },
   "outputs": [],
   "source": [
    "tile_no = 50\n",
    "P__, NDVI__, t_ = pad_extend(P_, NDVI_, tile_no=tile_no, extend = 0)\n",
    "x, y, t = pad_extend(P__, NDVI__, tile_no=1, extend = 3)"
   ]
  },
  {
   "cell_type": "code",
   "execution_count": 34,
   "metadata": {
    "collapsed": false
   },
   "outputs": [
    {
     "name": "stdout",
     "output_type": "stream",
     "text": [
      "((37128L,), (37128L,))\n"
     ]
    },
    {
     "data": {
      "text/plain": [
       "[<matplotlib.lines.Line2D at 0x1ad8d550>]"
      ]
     },
     "execution_count": 34,
     "metadata": {},
     "output_type": "execute_result"
    },
    {
     "data": {
      "image/png": "[encoded data removed]",
      "text/plain": [
       "<matplotlib.figure.Figure at 0x1acf47b8>"
      ]
     },
     "metadata": {},
     "output_type": "display_data"
    }
   ],
   "source": [
    "print (x.shape, y.shape)\n",
    "plt.plot(x)"
   ]
  },
  {
   "cell_type": "code",
   "execution_count": 35,
   "metadata": {
    "collapsed": false
   },
   "outputs": [
    {
     "name": "stdout",
     "output_type": "stream",
     "text": [
      "('x size', (37128L,))\n",
      "('y size', (37128L,))\n",
      "('iteration no is', 5)\n"
     ]
    },
    {
     "name": "stderr",
     "output_type": "stream",
     "text": [
      "D:\\Python27x64\\lib\\site-packages\\nitime\\utils.py:571: RuntimeWarning: Breaking due to iterative meltdown in nitime.utils.adaptive_weights.\n",
      "  warnings.warn(e_s, RuntimeWarning)\n"
     ]
    }
   ],
   "source": [
    "f, fkx, fky, cxy, ph, coh = mtem(x,y)\n",
    "phif = mtem_unct(x,y,coh, mc_no=5)"
   ]
  },
  {
   "cell_type": "code",
   "execution_count": 36,
   "metadata": {
    "collapsed": false
   },
   "outputs": [
    {
     "name": "stderr",
     "output_type": "stream",
     "text": [
      "D:\\Python27x64\\lib\\site-packages\\numpy\\core\\numeric.py:462: ComplexWarning: Casting complex values to real discards the imaginary part\n",
      "  return array(a, dtype, copy=False, order=order)\n"
     ]
    },
    {
     "data": {
      "image/png": "[encoded data removed]",
      "text/plain": [
       "<matplotlib.figure.Figure at 0x1b043cc0>"
      ]
     },
     "metadata": {},
     "output_type": "display_data"
    }
   ],
   "source": [
    "vspan_start = 0.0026\n",
    "vspan_end = 0.0028\n",
    "xlim_start = 0.000\n",
    "xlim_end = 0.012#0.012\n",
    "plotCrossSpectral(f,ph,coh,phif)"
   ]
  },
  {
   "cell_type": "code",
   "execution_count": null,
   "metadata": {
    "collapsed": true
   },
   "outputs": [],
   "source": [
    "# from the svi extract a single year and get the annual component\n",
    "period = '2009'\n",
    "y1_RC = svi_RC[period].as_matrix()[None]\n",
    "y1_RC_HANTS = HANTS(y1_RC.shape[-1], y1_RC, 1, outliers_to_reject='Lo', low=-2000, \n",
    "                    high = 10000, fit_error_tolerance=500, base=1)\n",
    "ts1_RC_period = pd.Series(y1_RC_HANTS[0], index=svi_RC[period].index)\n",
    "ts1_RC_period.plot()"
   ]
  }
 ],
 "metadata": {
  "kernelspec": {
   "display_name": "Python 2",
   "language": "python",
   "name": "python2"
  },
  "language_info": {
   "codemirror_mode": {
    "name": "ipython",
    "version": 2
   },
   "file_extension": ".py",
   "mimetype": "text/x-python",
   "name": "python",
   "nbconvert_exporter": "python",
   "pygments_lexer": "ipython2",
   "version": "2.7.6"
  }
 },
 "nbformat": 4,
 "nbformat_minor": 0
}
