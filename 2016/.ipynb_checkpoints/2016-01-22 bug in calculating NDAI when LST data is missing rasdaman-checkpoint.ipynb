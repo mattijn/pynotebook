{
 "cells": [
  {
   "cell_type": "code",
   "execution_count": 1,
   "metadata": {
    "collapsed": true
   },
   "outputs": [],
   "source": [
    "#!/usr/bin/env python\n",
    "# coding: utf-8\n",
    "\n",
    "# from pywps.Process import WPSProcess \n",
    "import logging\n",
    "\n",
    "import matplotlib \n",
    "# logging.info('get backend before set')\n",
    "# print('get backend before set')\n",
    "# logging.info(matplotlib.matplotlib_fname())\n",
    "# print(matplotlib.matplotlib_fname())\n",
    "# logging.info(matplotlib.get_backend())\n",
    "# print(matplotlib.get_backend())\n",
    "# matplotlib.rcParams['backend'] = 'AGG'\n",
    "# matplotlib.use('AGG')\n",
    "\n",
    "# logging.info('get backend after set')\n",
    "# logging.info(matplotlib.get_backend())\n",
    "\n",
    "import sys\n",
    "import os\n",
    "import matplotlib.pyplot as plt\n",
    "import cartopy.crs as ccrs\n",
    "from cartopy.mpl.gridliner import LATITUDE_FORMATTER, LONGITUDE_FORMATTER\n",
    "import matplotlib.ticker as mticker\n",
    "import matplotlib.colors as mcolors\n",
    "import matplotlib.colorbar as mcb\n",
    "import cartopy.feature as cfeature\n",
    "from matplotlib import gridspec\n",
    "from datetime import datetime\n",
    "import warnings\n",
    "from osgeo import gdal\n",
    "import numpy as np\n",
    "from osgeo import gdal, ogr, osr\n",
    "import sys\n",
    "import pandas as pd\n",
    "import geopandas as gpd\n",
    "from matplotlib import gridspec\n",
    "from cartopy.io import shapereader\n",
    "import shapely.geometry as sgeom\n",
    "import numpy as np\n",
    "import matplotlib as mpl\n",
    "import urllib\n",
    "import numpy\n",
    "import numpy as np\n",
    "import numpy.ma as ma\n",
    "from lxml import etree\n",
    "from datetime import datetime, timedelta\n",
    "import matplotlib\n",
    "import matplotlib.colors as mcolors\n",
    "import matplotlib.pyplot as plt\n",
    "import numpy as np\n",
    "import matplotlib.colors as mcolors\n",
    "# sys.path.insert(0, r'/var/www/html/wps/pywps/processes/NDAI_PROCESSING/CDMA')\n",
    "# import cdma"
   ]
  },
  {
   "cell_type": "code",
   "execution_count": 16,
   "metadata": {
    "collapsed": true
   },
   "outputs": [],
   "source": [
    "def datelist_irregular_coverage(root, start_date, start, cur_date):\n",
    "    \"\"\"\n",
    "    retrieve irregular datelist and requested current position in regards to total no. of observations\n",
    "    \"\"\"\n",
    "    \n",
    "    #root[0]                - wcs:CoverageDescription\n",
    "    #root[0][0]             - boundedBy \n",
    "    #root[0][0][0]          - Envelope\n",
    "    #root[0][0][0][0]       - lowerCorner\n",
    "    # --- \n",
    "    #root[0]                - wcs:CoverageDescription\n",
    "    #root[0][3]             - domainSet\n",
    "    #root[0][3][0]          - gmlrgrid:ReferenceableGridByVectors\n",
    "    #root[0][3][0][5]       - gmlrgrid:generalGridAxis\n",
    "    #root[0][3][0][5][0]    - gmlrgrid:GeneralGridAxis\n",
    "    #root[0][3][0][5][0][1] - gmlrgrid:coefficients\n",
    "\n",
    "    # get sample size coefficients from XML root\n",
    "    sample_size = root[0][3][0][5][0][1].text #sample size\n",
    "    #print root[0][3][0][5][0][1].text #sample size\n",
    "    \n",
    "    # use coverage start_date and sample_size array to create all dates in ANSI\n",
    "    array_stepsize = np.fromstring(sample_size, dtype=int, sep=' ')\n",
    "    #print np.fromstring(sample_size, dtype=int, sep=' ')\n",
    "    array_all_ansi = array_stepsize + start_date   \n",
    "    \n",
    "    # create array of all dates in ISO\n",
    "    list_all_dates = []\n",
    "    for stepsize in array_stepsize:\n",
    "        date_and_stepsize = start + timedelta(stepsize - 1)\n",
    "        list_all_dates.append(date_and_stepsize)\n",
    "        #print date_and_stepsize\n",
    "    array_all_dates = np.array(list_all_dates)  \n",
    "    \n",
    "    # create array of all dates as DOY\n",
    "    list_all_yday = []\n",
    "    for j in array_all_dates:\n",
    "        yday = j.timetuple().tm_yday\n",
    "        list_all_yday.append(yday)\n",
    "        #print yday\n",
    "    array_all_yday = np.array(list_all_yday)    \n",
    "    \n",
    "    # subtract user date of all dates in ISO \n",
    "    # to find the nearest available coverage date\n",
    "    array_diff_dates = array_all_dates - cur_date\n",
    "    idx_nearest_date = find_nearest(array_diff_dates, timedelta(0))\n",
    "    nearest_date = array_all_dates[idx_nearest_date]    \n",
    "    \n",
    "    # select all coresponding DOY of all years for ANSI and ISO dates\n",
    "    array_selected_ansi = array_all_ansi[array_all_yday == nearest_date.timetuple().tm_yday]\n",
    "    array_selected_dates = array_all_dates[array_all_yday == nearest_date.timetuple().tm_yday]\n",
    "    print array_selected_ansi\n",
    "    \n",
    "    # get index of nearest date in selection array\n",
    "    idx_nearest_date_selected = numpy.where(array_selected_dates==nearest_date)[0][0]  \n",
    "    print idx_nearest_date_selected\n",
    "    \n",
    "    # return datelist in ANSI and the index of the nearest date\n",
    "    return array_selected_ansi, idx_nearest_date_selected\n",
    "\n",
    "def find_nearest(array,value):\n",
    "    return (np.abs(array-value)).argmin()"
   ]
  },
  {
   "cell_type": "code",
   "execution_count": 2,
   "metadata": {
    "collapsed": true
   },
   "outputs": [],
   "source": [
    "def listall(RootFolder, varname='',extension='.png'):\n",
    "    lists = [os.path.join(root, name)\n",
    "             for root, dirs, files in os.walk(RootFolder)\n",
    "             for name in files\n",
    "             if varname in name\n",
    "             if name.endswith(extension)]\n",
    "    return lists"
   ]
  },
  {
   "cell_type": "code",
   "execution_count": 115,
   "metadata": {
    "collapsed": false
   },
   "outputs": [
    {
     "name": "stdout",
     "output_type": "stream",
     "text": [
      "irregular\n",
      "all missing dates:  ['2000-02-18', '2000-03-05', '2000-03-21', '2000-04-06', '2000-04-22', '2000-05-08', '2000-05-24', '2000-06-09', '2000-06-25', '2000-07-11', '2000-07-27', '2000-08-12', '2000-08-28', '2000-09-13', '2000-09-29', '2000-10-15', '2000-10-31', '2000-11-16', '2000-12-02', '2000-12-18', '2001-01-17', '2001-02-02', '2001-02-18', '2001-03-06', '2001-03-22', '2001-04-07', '2001-04-23', '2001-05-09', '2001-05-25', '2001-06-10', '2001-06-26', '2001-07-12', '2001-07-28', '2001-08-13', '2001-08-29', '2001-09-14', '2001-09-30', '2001-10-16', '2001-11-01', '2001-11-17', '2002-01-17', '2002-02-02', '2002-02-18', '2002-03-06', '2002-03-22', '2002-04-07', '2002-04-23', '2002-05-09', '2002-05-25', '2002-06-10', '2002-06-26', '2002-07-12', '2002-07-28', '2002-08-13', '2002-08-29', '2002-09-14', '2002-09-30', '2002-10-16', '2002-11-01', '2002-11-17', '2002-12-03', '2002-12-19', '2003-01-17', '2003-02-02', '2003-03-06', '2003-03-22', '2003-04-07', '2003-04-23', '2003-05-09', '2003-05-25', '2003-06-10', '2003-06-26', '2003-07-12', '2003-07-28', '2003-08-13', '2003-08-29', '2003-09-14', '2003-09-30', '2003-10-16', '2003-11-01', '2003-11-17', '2003-12-03', '2003-12-19', '2004-01-17', '2004-02-02', '2004-02-18', '2004-03-05', '2004-03-21', '2004-04-06', '2004-04-22', '2004-05-08', '2004-05-24', '2004-06-09', '2004-06-25', '2004-07-11', '2004-07-27', '2004-08-12', '2004-08-28', '2004-09-13', '2004-09-29', '2004-10-15', '2004-10-31', '2004-12-02', '2004-12-18', '2005-01-17', '2005-02-02', '2005-02-18', '2005-03-06', '2005-03-22', '2005-04-07', '2005-04-23', '2005-05-09', '2005-05-25', '2005-06-10', '2005-06-26', '2005-07-12', '2005-07-28', '2005-08-13', '2005-08-29', '2005-09-14', '2005-09-30', '2005-10-16', '2005-11-01', '2005-11-17', '2005-12-03', '2005-12-19', '2006-01-17', '2006-02-02', '2006-02-18', '2006-03-06', '2006-03-22', '2006-04-07', '2006-04-23', '2006-05-09', '2006-05-25', '2006-06-10', '2006-06-26', '2006-07-12', '2006-07-28', '2006-08-13', '2006-08-29', '2006-09-14', '2006-09-30', '2006-10-16', '2006-11-01', '2006-11-17', '2006-12-03', '2006-12-19', '2007-01-17', '2007-02-02', '2007-02-18', '2007-03-06', '2007-03-22', '2007-04-07', '2007-04-23', '2007-05-09', '2007-05-25', '2007-06-10', '2007-06-26', '2007-07-12', '2007-07-28', '2007-08-13', '2007-08-29', '2007-09-14', '2007-09-30', '2007-10-16', '2007-11-01', '2007-11-17', '2007-12-03', '2007-12-19', '2008-01-17', '2008-02-02', '2008-02-18', '2008-03-05', '2008-03-21', '2008-04-06', '2008-04-22', '2008-05-08', '2008-05-24', '2008-06-09', '2008-06-25', '2008-07-11', '2008-07-27', '2008-08-12', '2008-08-28', '2008-10-15', '2008-10-31', '2008-11-16', '2008-12-02', '2008-12-18', '2009-01-17', '2009-02-02', '2009-02-18', '2009-03-06', '2009-03-22', '2009-04-07', '2009-04-23', '2009-05-09', '2009-05-25', '2009-06-10', '2009-06-26', '2009-07-12', '2009-07-28', '2009-08-13', '2009-08-29', '2009-09-14', '2009-09-30', '2009-10-16', '2009-11-01', '2009-11-17', '2009-12-03', '2009-12-19', '2010-01-17', '2010-02-02', '2010-02-18', '2010-03-06', '2010-03-22', '2010-04-07', '2010-04-23', '2010-05-09', '2010-05-25', '2010-06-10', '2010-06-26', '2010-07-12', '2010-07-28', '2010-08-13', '2010-08-29', '2010-09-14', '2010-09-30', '2010-10-16', '2010-11-01', '2010-11-17', '2010-12-03', '2010-12-19', '2011-01-17', '2011-02-02', '2011-02-18', '2011-03-06', '2011-04-07', '2011-04-23', '2011-05-09', '2011-05-25', '2011-06-10', '2011-06-26', '2011-07-12', '2011-07-28', '2011-08-13', '2011-08-29', '2011-09-14', '2011-09-30', '2011-10-16', '2011-11-01', '2011-11-17', '2011-12-03', '2011-12-19', '2012-01-17', '2012-02-02', '2012-02-18', '2012-03-05', '2012-03-21', '2012-04-06', '2012-04-22', '2012-05-08', '2012-05-24', '2012-06-09', '2012-06-25', '2012-07-11', '2012-07-27', '2012-08-12', '2012-08-28', '2012-09-13', '2012-09-29', '2012-10-31', '2012-11-16', '2012-12-02', '2012-12-18', '2013-01-17', '2013-02-02', '2013-02-18', '2013-03-06', '2013-03-22', '2013-04-07', '2013-04-23', '2013-05-09', '2013-05-25', '2013-06-10', '2013-06-26', '2013-07-12', '2013-07-28', '2013-08-13', '2013-08-29', '2013-09-14', '2013-09-30', '2013-10-16', '2013-11-01', '2013-11-17', '2013-12-03', '2013-12-19', '2014-01-17', '2014-02-02', '2014-02-18', '2014-03-06', '2014-03-22', '2014-04-07', '2014-04-23', '2014-05-09', '2014-05-25', '2014-06-10', '2014-06-26', '2014-07-12', '2014-07-28', '2014-08-13', '2014-08-29', '2014-09-14', '2014-09-30', '2014-10-16', '2014-11-01', '2014-11-17', '2014-12-03', '2014-12-19', '2015-01-17', '2015-02-02', '2015-02-18', '2015-03-06', '2015-03-22', '2015-04-07', '2015-04-23', '2015-05-09', '2015-05-25', '2015-06-10', '2015-06-26', '2015-07-12', '2015-07-28', '2015-08-13', '2015-08-29', '2015-09-14', '2015-09-30', '2015-10-16', '2015-11-01', '2015-11-17', '2015-12-19', '2016-01-01']\n"
     ]
    }
   ],
   "source": [
    "logging.info('test')\n",
    "#date='2015-06-30'\n",
    "endpoint='http://192.168.1.104:8080/rasdaman/ows'\n",
    "field={}\n",
    "field['SERVICE']='WCS'\n",
    "field['VERSION']='2.0.1'\n",
    "field['REQUEST']='DescribeCoverage'\n",
    "field['COVERAGEID']='NDVI_MOD13C1005_uptodate'#'NDVI_MOD13C1005'#'trmm_3b42_coverage_1'\n",
    "url_values = urllib.urlencode(field,doseq=True)\n",
    "full_url = endpoint + '?' + url_values\n",
    "data = urllib.urlopen(full_url).read()\n",
    "root = etree.fromstring(data)\n",
    "lc = root.find(\".//{http://www.opengis.net/gml/3.2}lowerCorner\").text\n",
    "uc = root.find(\".//{http://www.opengis.net/gml/3.2}upperCorner\").text\n",
    "start_date = int((lc.split(' '))[2])\n",
    "end_date = int((uc.split(' '))[2])\n",
    "#print [start_date, end_date]\n",
    "\n",
    "#generate the dates list \n",
    "start = datetime.fromtimestamp((start_date-(datetime(1970,1,1)-datetime(1601,1,1)).days)*24*60*60)\n",
    "#print start\n",
    "\n",
    "try:    \n",
    "    # get sample size coefficients from XML root\n",
    "    sample_size = root[0][3][0][5][0][1].text #sample size\n",
    "    #print root[0][3][0][5][0][1].text #sample size\n",
    "\n",
    "    # use coverage start_date and sample_size array to create all dates in ANSI\n",
    "    array_stepsize = np.fromstring(sample_size, dtype=int, sep=' ')\n",
    "    #print np.fromstring(sample_size, dtype=int, sep=' ')\n",
    "    array_all_ansi = array_stepsize + start_date  \n",
    "    #print 'irregular'\n",
    "    print 'irregular'\n",
    "    #print array_all_ansi\n",
    "except IndexError:\n",
    "    datelist, cur_pos = datelist_regular_coverage(root, start_date, start, cur_date)\n",
    "    #print 'regular'\n",
    "    print 'regular'\n",
    "\n",
    "# create array of all dates in ISO\n",
    "list_all_dates = []\n",
    "for stepsize in array_stepsize:\n",
    "    date_and_stepsize = start + timedelta(stepsize - 1)\n",
    "    list_all_dates.append(date_and_stepsize)\n",
    "    #print date_and_stepsize\n",
    "array_all_dates = np.array(list_all_dates)\n",
    "#print array_all_dates\n",
    "\n",
    "# create array of all dates in string\n",
    "array_all_date_string = []\n",
    "for i in array_all_dates:\n",
    "    date_string = str(i.year).zfill(2)+'-'+str(i.month).zfill(2)+'-'+str(i.day).zfill(2)\n",
    "    array_all_date_string.append(date_string)\n",
    "#print array_all_date_string\n",
    "    \n",
    "dates_wcs = []\n",
    "for i in array_all_date_string:\n",
    "    year = int(i[-10:-6])\n",
    "    month = int(i[-5:-3])\n",
    "    day = int(i[-2::])\n",
    "    last_date_wcs = datetime(year,month,day)\n",
    "    dates_wcs.append(last_date_wcs)\n",
    "#print dates_wcs\n",
    "dates_unique = dates_wcs\n",
    "array_sel_date_string = []\n",
    "for i in dates_unique:\n",
    "    date_string = str(i.year).zfill(2)+'-'+str(i.month).zfill(2)+'-'+str(i.day).zfill(2)\n",
    "    array_sel_date_string.append(date_string)\n",
    "\n",
    "array_sel_date_string.sort()\n",
    "#print 'all missing dates: ', array_sel_date_string\n",
    "#array_sel_even_date_string = np.array_split(array_sel_date_string,4)[0]\n",
    "print 'all missing dates: ', array_sel_date_string"
   ]
  },
  {
   "cell_type": "code",
   "execution_count": 118,
   "metadata": {
    "collapsed": false
   },
   "outputs": [
    {
     "name": "stdout",
     "output_type": "stream",
     "text": [
      "2016-01-02 08:00:00\n"
     ]
    }
   ],
   "source": [
    "print datetime.fromtimestamp((end_date-(datetime(1970,1,1)-datetime(1601,1,1)).days)*24*60*60)"
   ]
  },
  {
   "cell_type": "code",
   "execution_count": 108,
   "metadata": {
    "collapsed": false
   },
   "outputs": [
    {
     "name": "stdout",
     "output_type": "stream",
     "text": [
      "2015-12-19\n"
     ]
    }
   ],
   "source": [
    "date = array_sel_date_string[-2]\n",
    "print date"
   ]
  },
  {
   "cell_type": "code",
   "execution_count": 109,
   "metadata": {
    "collapsed": false
   },
   "outputs": [],
   "source": [
    "##request image cube for the specified date and area by WCS.\n",
    "#firstly we get the temporal length of avaliable NDVI data from the DescribeCoverage of WCS\n",
    "endpoint='http://192.168.1.104:8080/rasdaman/ows'\n",
    "field={}\n",
    "field['SERVICE']='WCS'\n",
    "field['VERSION']='2.0.1'\n",
    "field['REQUEST']='DescribeCoverage'\n",
    "field['COVERAGEID']='NDVI_MOD13C1005_uptodate'#'LST_MOD11C2005_uptodate'\n",
    "url_values = urllib.urlencode(field,doseq=True)\n",
    "full_url = endpoint + '?' + url_values\n",
    "data = urllib.urlopen(full_url).read()\n",
    "root = etree.fromstring(data)\n",
    "lc = root.find(\".//{http://www.opengis.net/gml/3.2}lowerCorner\").text\n",
    "uc = root.find(\".//{http://www.opengis.net/gml/3.2}upperCorner\").text\n",
    "start_date=int((lc.split(' '))[2])\n",
    "end_date=int((uc.split(' '))[2])\n",
    "#print [start_date, end_date]\n",
    "\n",
    "#generate the dates list \n",
    "cur_date = datetime.strptime(date,\"%Y-%m-%d\")\n",
    "#startt=145775\n",
    "start = datetime.fromtimestamp((start_date-(datetime(1970,1,1)-datetime(1601,1,1)).days)*24*60*60)"
   ]
  },
  {
   "cell_type": "code",
   "execution_count": 111,
   "metadata": {
    "collapsed": false
   },
   "outputs": [
    {
     "name": "stdout",
     "output_type": "stream",
     "text": [
      "145780 2000-02-19 08:00:00 2015-12-19 00:00:00\n",
      "[146084 146815 147180 147545 147911 148276 148641 149006 149372 149737\n",
      " 150102 150467 150833 151198 151563]\n",
      "14\n"
     ]
    }
   ],
   "source": [
    "print start_date, start, cur_date\n",
    "datelist, cur_pos = datelist_irregular_coverage(root, start_date, start, cur_date)"
   ]
  },
  {
   "cell_type": "code",
   "execution_count": 112,
   "metadata": {
    "collapsed": false
   },
   "outputs": [
    {
     "data": {
      "text/plain": [
       "151563"
      ]
     },
     "execution_count": 112,
     "metadata": {},
     "output_type": "execute_result"
    }
   ],
   "source": [
    "datelist[cur_pos]"
   ]
  },
  {
   "cell_type": "code",
   "execution_count": 114,
   "metadata": {
    "collapsed": false
   },
   "outputs": [
    {
     "name": "stdout",
     "output_type": "stream",
     "text": [
      "2000-12-19 08:00:00\n",
      "2002-12-20 08:00:00\n",
      "2003-12-20 08:00:00\n",
      "2004-12-19 08:00:00\n",
      "2005-12-20 08:00:00\n",
      "2006-12-20 08:00:00\n",
      "2007-12-20 08:00:00\n",
      "2008-12-19 08:00:00\n",
      "2009-12-20 08:00:00\n",
      "2010-12-20 08:00:00\n",
      "2011-12-20 08:00:00\n",
      "2012-12-19 08:00:00\n",
      "2013-12-20 08:00:00\n",
      "2014-12-20 08:00:00\n",
      "2015-12-20 08:00:00\n"
     ]
    }
   ],
   "source": [
    "for d in datelist:\n",
    "    print datetime.fromtimestamp((d - (datetime(1970,1,1) - datetime(1601,1,1)).days)*24*60*60)"
   ]
  },
  {
   "cell_type": "code",
   "execution_count": null,
   "metadata": {
    "collapsed": true
   },
   "outputs": [],
   "source": []
  }
 ],
 "metadata": {
  "kernelspec": {
   "display_name": "Python 2",
   "language": "python",
   "name": "python2"
  },
  "language_info": {
   "codemirror_mode": {
    "name": "ipython",
    "version": 2
   },
   "file_extension": ".py",
   "mimetype": "text/x-python",
   "name": "python",
   "nbconvert_exporter": "python",
   "pygments_lexer": "ipython2",
   "version": "2.7.6"
  }
 },
 "nbformat": 4,
 "nbformat_minor": 0
}
