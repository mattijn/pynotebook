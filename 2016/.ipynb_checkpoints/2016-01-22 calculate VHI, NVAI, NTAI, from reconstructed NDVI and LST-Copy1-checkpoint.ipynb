{
 "cells": [
  {
   "cell_type": "code",
   "execution_count": 1,
   "metadata": {
    "collapsed": true
   },
   "outputs": [],
   "source": [
    "from osgeo import gdal, ogr, gdalconst\n",
    "import os\n",
    "import subprocess as sp\n",
    "from datetime import datetime, timedelta\n",
    "import numpy as np\n",
    "import pandas as pd"
   ]
  },
  {
   "cell_type": "code",
   "execution_count": 2,
   "metadata": {
    "collapsed": true
   },
   "outputs": [],
   "source": [
    "def saveRaster(path, array, dsSource, datatype=3, formatraster=\"GTiff\", nan=None): \n",
    "    \"\"\"\n",
    "    Datatypes:\n",
    "    unknown = 0\n",
    "    byte = 1\n",
    "    unsigned int16 = 2\n",
    "    signed int16 = 3\n",
    "    unsigned int32 = 4\n",
    "    signed int32 = 5\n",
    "    float32 = 6\n",
    "    float64 = 7\n",
    "    complex int16 = 8\n",
    "    complex int32 = 9\n",
    "    complex float32 = 10\n",
    "    complex float64 = 11\n",
    "    float32 = 6, \n",
    "    signed int = 3\n",
    "    \n",
    "    Formatraster:\n",
    "    GeoTIFF = GTiff\n",
    "    Erdas = HFA (output = .img)\n",
    "    OGC web map service = WMS\n",
    "    png = PNG\n",
    "    \"\"\"\n",
    "    # Set Driver\n",
    "    format_ = formatraster #save as format\n",
    "    driver = gdal.GetDriverByName( format_ )\n",
    "    driver.Register()\n",
    "    \n",
    "    # Set Metadata for Raster output\n",
    "    cols = dsSource.RasterXSize\n",
    "    rows = dsSource.RasterYSize\n",
    "    bands = dsSource.RasterCount\n",
    "    datatype = datatype#band.DataType\n",
    "    \n",
    "    # Set Projection for Raster\n",
    "    outDataset = driver.Create(path, cols, rows, bands, datatype)\n",
    "    geoTransform = dsSource.GetGeoTransform()\n",
    "    outDataset.SetGeoTransform(geoTransform)\n",
    "    proj = dsSource.GetProjection()\n",
    "    outDataset.SetProjection(proj)\n",
    "    \n",
    "    # Write output to band 1 of new Raster and write NaN value\n",
    "    outBand = outDataset.GetRasterBand(1)\n",
    "    if nan != None:\n",
    "        outBand.SetNoDataValue(nan)\n",
    "    outBand.WriteArray(array) #save input array\n",
    "    #outBand.WriteArray(dem)\n",
    "    \n",
    "    # Close and finalise newly created Raster\n",
    "    #F_M01 = None\n",
    "    outBand = None\n",
    "    proj = None\n",
    "    geoTransform = None\n",
    "    outDataset = None\n",
    "    driver = None\n",
    "    datatype = None\n",
    "    bands = None\n",
    "    rows = None\n",
    "    cols = None\n",
    "    driver = None\n",
    "    array = None"
   ]
  },
  {
   "cell_type": "code",
   "execution_count": 3,
   "metadata": {
    "collapsed": true
   },
   "outputs": [],
   "source": [
    "%matplotlib inline\n",
    "import matplotlib.pyplot as plt"
   ]
  },
  {
   "cell_type": "code",
   "execution_count": 4,
   "metadata": {
    "collapsed": true
   },
   "outputs": [],
   "source": [
    "def listall(RootFolder, varname='',extension='.png'):\n",
    "    lists = [os.path.join(root, name)\n",
    "             for root, dirs, files in os.walk(RootFolder)\n",
    "             for name in files\n",
    "             if varname in name\n",
    "             if name.endswith(extension)]\n",
    "    return lists"
   ]
  },
  {
   "cell_type": "code",
   "execution_count": 5,
   "metadata": {
    "collapsed": true
   },
   "outputs": [],
   "source": [
    "# get index from tif files\n",
    "files_LST  = listall(r'J:\\LST_recon', extension='.tif')\n",
    "files_NDVI = listall(r'J:\\NDVI_recon', extension='.tif')\n",
    "#max_LST = r'J:\\MAX_MIN_NDVI_recon_LST_recon//LST_recon_max_int.tif'\n",
    "#min_LST = r'J:\\MAX_MIN_NDVI_recon_LST_recon//LST_recon_min_int.tif'\n",
    "max_NDVI = r'J:\\MAX_MIN_NDVI_recon_LST_recon//NDVI_recon_max_int.tif'\n",
    "min_NDVI = r'J:\\MAX_MIN_NDVI_recon_LST_recon//NDVI_recon_min_int.tif'\n",
    "alpha = 0.5"
   ]
  },
  {
   "cell_type": "code",
   "execution_count": 6,
   "metadata": {
    "collapsed": false
   },
   "outputs": [],
   "source": [
    "LST_dates = []\n",
    "LST_doy_list = []\n",
    "for LST in files_LST:\n",
    "    #print LST\n",
    "    LST_year = int(LST[-22:-18])\n",
    "    LST_doy = int(LST[-7:-4])\n",
    "    LST_date = datetime(LST_year, 1, 1) + timedelta(LST_doy - 1)\n",
    "    LST_string = str(LST_date.year).zfill(2)+'-'+str(LST_date.month).zfill(2)+'-'+str(LST_date.day).zfill(2)\n",
    "    #LST_date = np.datetime64(LST_date)\n",
    "    #LST_date = pd.Timestamp(np.datetime_as_string(LST_date))    \n",
    "    LST_dates.append(LST_date)\n",
    "    LST_yday = LST_date.timetuple().tm_yday\n",
    "    LST_doy_list.append(LST_yday)    \n",
    "\n",
    "NDVI_dates = []\n",
    "NDVI_doy_list = []\n",
    "for NDVI in files_NDVI:\n",
    "    #print NDVI\n",
    "    NDVI_year = int(NDVI[-23:-19])\n",
    "    NDVI_doy = int(NDVI[-7:-4])\n",
    "    NDVI_date = datetime(NDVI_year, 1, 1) + timedelta(NDVI_doy - 1)\n",
    "    NDVI_string = str(NDVI_date.year).zfill(2)+'-'+str(NDVI_date.month).zfill(2)+'-'+str(NDVI_date.day).zfill(2)    \n",
    "    #NDVI_date = np.datetime64(NDVI_date)\n",
    "    #NDVI_date = pd.Timestamp(np.datetime_as_string(NDVI_date))\n",
    "    NDVI_dates.append(NDVI_date)\n",
    "    NDVI_yday = NDVI_date.timetuple().tm_yday\n",
    "    NDVI_doy_list.append(NDVI_yday)"
   ]
  },
  {
   "cell_type": "code",
   "execution_count": null,
   "metadata": {
    "collapsed": false
   },
   "outputs": [
    {
     "name": "stdout",
     "output_type": "stream",
     "text": [
      "2000-01-03 00:00:00\n",
      "LST\n",
      "NDVI\n",
      "2000-01-04 00:00:00\n",
      "LST\n",
      "NDVI\n",
      "2000-01-05 00:00:00\n",
      "LST\n",
      "NDVI"
     ]
    }
   ],
   "source": [
    "for idx, date in enumerate(LST_dates[2:365]):\n",
    "    print date\n",
    "    print 'LST'\n",
    "    LST_in = LST_dates[idx]\n",
    "    LST_single_doy_all_year = np.array(LST_dates)[np.array(LST_doy_list) == date.timetuple().tm_yday]\n",
    "    \n",
    "    # calculate maximum and minimum based on selection\n",
    "    base_file = files_LST[LST_dates.index(LST_single_doy_all_year[0])]\n",
    "    base_mean = gdal.Open(base_file, gdalconst.GA_ReadOnly).ReadAsArray()\n",
    "    base_mean -= base_mean\n",
    "    for jdx, doy in enumerate(LST_single_doy_all_year):\n",
    "        #print files_LST[LST_dates.index(doy)]\n",
    "        ds = gdal.Open(files_LST[LST_dates.index(doy)], gdalconst.GA_ReadOnly).ReadAsArray()\n",
    "        base_mean += ds\n",
    "        #base_max = np.maximum.reduce([ds, base_max])\n",
    "        #base_min = np.minimum.reduce([ds, base_min])        \n",
    "    # save max and min LST\n",
    "    base_mean /= len(LST_single_doy_all_year)\n",
    "    ds_base = gdal.Open(files_LST[LST_dates.index(doy)], gdalconst.GA_ReadOnly)\n",
    "    date_of_year = str(date.timetuple().tm_yday).zfill(3)\n",
    "    saveRaster(r'J:\\MAX_MIN_NDVI_recon_LST_recon\\doy_LST//LST_MEAN_'+date_of_year+'.tif', \n",
    "               base_mean, ds_base)\n",
    "    #saveRaster(r'J:\\MAX_MIN_NDVI_recon_LST_recon\\doy_LST//LST_MIN_'+date_of_year+'.tif', \n",
    "    #           base_min, ds_base)    \n",
    "    \n",
    "    print 'NDVI'    \n",
    "    NDVI_in = NDVI_dates.index(date)\n",
    "    NDVI_single_doy_all_year = np.array(NDVI_dates)[np.array(NDVI_doy_list) == date.timetuple().tm_yday]\n",
    "    \n",
    "    # calculate maximum and minimum based on selection\n",
    "    base_file = files_NDVI[NDVI_dates.index(NDVI_single_doy_all_year[0])]\n",
    "    base_mean = gdal.Open(base_file, gdalconst.GA_ReadOnly).ReadAsArray()\n",
    "    base_mean -= base_mean   \n",
    "    for jdx, doy in enumerate(NDVI_single_doy_all_year):\n",
    "        #print files_NDVI[NDVI_dates.index(doy)]\n",
    "        ds = gdal.Open(files_NDVI[NDVI_dates.index(doy)], gdalconst.GA_ReadOnly).ReadAsArray()\n",
    "        base_mean += ds\n",
    "        #base_max = np.maximum.reduce([ds, base_max])\n",
    "        #base_min = np.minimum.reduce([ds, base_min])         \n",
    "    # save max and min LST\n",
    "    ds_base = gdal.Open(files_NDVI[NDVI_dates.index(doy)], gdalconst.GA_ReadOnly)\n",
    "    base_mean /= len(LST_single_doy_all_year)\n",
    "    date_of_year = str(date.timetuple().tm_yday).zfill(3)\n",
    "    saveRaster(r'J:\\MAX_MIN_NDVI_recon_LST_recon\\doy_NDVI//NDVI_MEAN_'+date_of_year+'.tif', \n",
    "               base_mean, ds_base)\n",
    "    #saveRaster(r'J:\\MAX_MIN_NDVI_recon_LST_recon\\doy_NDVI//NDVI_MIN_'+date_of_year+'.tif', \n",
    "    #           base_min, ds_base)        "
   ]
  },
  {
   "cell_type": "code",
   "execution_count": null,
   "metadata": {
    "collapsed": false
   },
   "outputs": [],
   "source": [
    "plt.imshow(base_min)"
   ]
  },
  {
   "cell_type": "code",
   "execution_count": null,
   "metadata": {
    "collapsed": false
   },
   "outputs": [],
   "source": [
    "\n",
    "LST_date = datetime(LST_year, 1, 1) + timedelta(LST_doy - 1)\n",
    "LST_date = np.datetime64(LST_date)\n",
    "LST_date = pd.Timestamp(np.datetime_as_string(LST_date))\n",
    "LST_date\n",
    "NDVI_date = datetime(NDVI_year, 1, 1) + timedelta(NDVI_doy - 1)\n",
    "NDVI_date = np.datetime64(NDVI_date)\n",
    "NDVI_date = pd.Timestamp(np.datetime_as_string(NDVI_date))\n",
    "NDVI_date"
   ]
  },
  {
   "cell_type": "code",
   "execution_count": null,
   "metadata": {
    "collapsed": false
   },
   "outputs": [],
   "source": [
    "base_max = gdal.Open(files[0], gdalconst.GA_ReadOnly).ReadAsArray()\n",
    "base_min = gdal.Open(files[0], gdalconst.GA_ReadOnly).ReadAsArray()\n",
    "for idx, file_ in enumerate(files):\n",
    "    print idx\n",
    "    ds = gdal.Open(file_, gdalconst.GA_ReadOnly).ReadAsArray()\n",
    "    base_max = np.maximum.reduce([ds, base_max])\n",
    "    base_min = np.minimum.reduce([ds, base_min])"
   ]
  },
  {
   "cell_type": "code",
   "execution_count": null,
   "metadata": {
    "collapsed": true
   },
   "outputs": [],
   "source": [
    "ds_base = gdal.Open(file_, gdalconst.GA_ReadOnly)"
   ]
  },
  {
   "cell_type": "code",
   "execution_count": null,
   "metadata": {
    "collapsed": false
   },
   "outputs": [],
   "source": [
    "saveRaster(r'J:\\MAX_MIN_NDVI_recon_LST_recon//LST_recon_min_int.tif', base_min, ds_base, datatype = 3)\n",
    "saveRaster(r'J:\\MAX_MIN_NDVI_recon_LST_recon//LST_recon_max_int.tif', base_max, ds_base, datatype = 3)"
   ]
  },
  {
   "cell_type": "code",
   "execution_count": null,
   "metadata": {
    "collapsed": false
   },
   "outputs": [],
   "source": [
    "im = plt.imshow(base_max)\n",
    "plt.colorbar(im)"
   ]
  },
  {
   "cell_type": "code",
   "execution_count": null,
   "metadata": {
    "collapsed": true
   },
   "outputs": [],
   "source": []
  }
 ],
 "metadata": {
  "kernelspec": {
   "display_name": "Python 2",
   "language": "python",
   "name": "python2"
  },
  "language_info": {
   "codemirror_mode": {
    "name": "ipython",
    "version": 2
   },
   "file_extension": ".py",
   "mimetype": "text/x-python",
   "name": "python",
   "nbconvert_exporter": "python",
   "pygments_lexer": "ipython2",
   "version": "2.7.6"
  }
 },
 "nbformat": 4,
 "nbformat_minor": 0
}
