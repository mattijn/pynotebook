{
 "cells": [
  {
   "cell_type": "code",
   "execution_count": 1,
   "metadata": {
    "collapsed": true
   },
   "outputs": [],
   "source": [
    "import subprocess as sp\n",
    "import os\n",
    "from datetime import datetime, timedelta\n",
    "import numpy as np\n",
    "import pandas as pd"
   ]
  },
  {
   "cell_type": "code",
   "execution_count": 2,
   "metadata": {
    "collapsed": true
   },
   "outputs": [],
   "source": [
    "def listall(RootFolder, varname='',extension='.png'):\n",
    "    lists = [os.path.join(root, name)\n",
    "             for root, dirs, files in os.walk(RootFolder)\n",
    "             for name in files\n",
    "             if varname in name\n",
    "             if name.endswith(extension)]\n",
    "    return lists"
   ]
  },
  {
   "cell_type": "code",
   "execution_count": 3,
   "metadata": {
    "collapsed": false
   },
   "outputs": [],
   "source": [
    "files = listall(r'J:\\NDVI_recon', extension='.tif')\n",
    "index = []\n",
    "for i in files:\n",
    "    # get date\n",
    "    year = int(i[-23:-19])\n",
    "    doy = int(i[-7:-4])\n",
    "    date = datetime(year, 1, 1) + timedelta(doy - 1)\n",
    "    date = np.datetime64(date)\n",
    "    date = pd.Timestamp(np.datetime_as_string(date))\n",
    "    index.append(date)\n",
    "index = np.array(index)\n",
    "df = pd.DataFrame(index=index)"
   ]
  },
  {
   "cell_type": "code",
   "execution_count": 4,
   "metadata": {
    "collapsed": false
   },
   "outputs": [],
   "source": [
    "month = df.index.map(lambda x: x.month)\n",
    "year = df.index.map(lambda x: x.year)\n",
    "day = df.index.map(lambda x: x.day)\n",
    "doy =  df.index.map(lambda x: x.dayofyear)\n",
    "# select only dates between certain month\n",
    "df_sel = (df[(month >= 1) & (month <=6)] + \n",
    "          df[(month >= 10) & (month <=12)]).sort_index()\n",
    "index_sel = pd.Series(np.in1d(df.index,df_sel.index))"
   ]
  },
  {
   "cell_type": "code",
   "execution_count": null,
   "metadata": {
    "collapsed": false
   },
   "outputs": [
    {
     "name": "stdout",
     "output_type": "stream",
     "text": [
      "\"C:\\Program Files\\GDAL//gdal_translate.exe\" -projwin 116.84693268 34.10324112 117.44 33.26 -of GTiff J:\\NDVI_recon\\2000\\CN_2000_NDVI_recon.001.tif J:\\NDVI_recon_Yongqiao//NDVI_Yongqiao_2000-01-01.tif\n",
      "\"C:\\Program Files\\GDAL//gdal_translate.exe\" -projwin 116.84693268 34.10324112 117.44 33.26 -of GTiff J:\\NDVI_recon\\2000\\CN_2000_NDVI_recon.002.tif J:\\NDVI_recon_Yongqiao//NDVI_Yongqiao_2000-01-02.tif\n",
      "\"C:\\Program Files\\GDAL//gdal_translate.exe\" -projwin 116.84693268 34.10324112 117.44 33.26 -of GTiff J:\\NDVI_recon\\2000\\CN_2000_NDVI_recon.003.tif J:\\NDVI_recon_Yongqiao//NDVI_Yongqiao_2000-01-03.tif\n",
      "\"C:\\Program Files\\GDAL//gdal_translate.exe\" -projwin 116.84693268 34.10324112 117.44 33.26 -of GTiff J:\\NDVI_recon\\2000\\CN_2000_NDVI_recon.004.tif J:\\NDVI_recon_Yongqiao//NDVI_Yongqiao_2000-01-04.tif\n",
      "\"C:\\Program Files\\GDAL//gdal_translate.exe\" -projwin 116.84693268 34.10324112 117.44 33.26 -of GTiff J:\\NDVI_recon\\2000\\CN_2000_NDVI_recon.005.tif J:\\NDVI_recon_Yongqiao//NDVI_Yongqiao_2000-01-05.tif\n",
      "\"C:\\Program Files\\GDAL//gdal_translate.exe\" -projwin 116.84693268 34.10324112 117.44 33.26 -of GTiff J:\\NDVI_recon\\2000\\CN_2000_NDVI_recon.006.tif J:\\NDVI_recon_Yongqiao//NDVI_Yongqiao_2000-01-06.tif\n",
      "\"C:\\Program Files\\GDAL//gdal_translate.exe\" -projwin 116.84693268 34.10324112 117.44 33.26 -of GTiff J:\\NDVI_recon\\2000\\CN_2000_NDVI_recon.007.tif J:\\NDVI_recon_Yongqiao//NDVI_Yongqiao_2000-01-07.tif\n",
      "\"C:\\Program Files\\GDAL//gdal_translate.exe\" -projwin 116.84693268 34.10324112 117.44 33.26 -of GTiff J:\\NDVI_recon\\2000\\CN_2000_NDVI_recon.008.tif J:\\NDVI_recon_Yongqiao//NDVI_Yongqiao_2000-01-08.tif\n",
      "\"C:\\Program Files\\GDAL//gdal_translate.exe\" -projwin 116.84693268 34.10324112 117.44 33.26 -of GTiff J:\\NDVI_recon\\2000\\CN_2000_NDVI_recon.009.tif J:\\NDVI_recon_Yongqiao//NDVI_Yongqiao_2000-01-09.tif\n",
      "\"C:\\Program Files\\GDAL//gdal_translate.exe\" -projwin 116.84693268 34.10324112 117.44 33.26 -of GTiff J:\\NDVI_recon\\2000\\CN_2000_NDVI_recon.010.tif J:\\NDVI_recon_Yongqiao//NDVI_Yongqiao_2000-01-10.tif\n",
      "\"C:\\Program Files\\GDAL//gdal_translate.exe\" -projwin 116.84693268 34.10324112 117.44 33.26 -of GTiff J:\\NDVI_recon\\2000\\CN_2000_NDVI_recon.011.tif J:\\NDVI_recon_Yongqiao//NDVI_Yongqiao_2000-01-11.tif\n",
      "\"C:\\Program Files\\GDAL//gdal_translate.exe\" -projwin 116.84693268 34.10324112 117.44 33.26 -of GTiff J:\\NDVI_recon\\2000\\CN_2000_NDVI_recon.012.tif J:\\NDVI_recon_Yongqiao//NDVI_Yongqiao_2000-01-12.tif\n",
      "\"C:\\Program Files\\GDAL//gdal_translate.exe\" -projwin 116.84693268 34.10324112 117.44 33.26 -of GTiff J:\\NDVI_recon\\2000\\CN_2000_NDVI_recon.013.tif J:\\NDVI_recon_Yongqiao//NDVI_Yongqiao_2000-01-13.tif\n",
      "\"C:\\Program Files\\GDAL//gdal_translate.exe\" -projwin 116.84693268 34.10324112 117.44 33.26 -of GTiff J:\\NDVI_recon\\2000\\CN_2000_NDVI_recon.014.tif J:\\NDVI_recon_Yongqiao//NDVI_Yongqiao_2000-01-14.tif\n",
      "\"C:\\Program Files\\GDAL//gdal_translate.exe\" -projwin 116.84693268 34.10324112 117.44 33.26 -of GTiff J:\\NDVI_recon\\2000\\CN_2000_NDVI_recon.015.tif J:\\NDVI_recon_Yongqiao//NDVI_Yongqiao_2000-01-15.tif\n",
      "\"C:\\Program Files\\GDAL//gdal_translate.exe\" -projwin 116.84693268 34.10324112 117.44 33.26 -of GTiff J:\\NDVI_recon\\2000\\CN_2000_NDVI_recon.016.tif J:\\NDVI_recon_Yongqiao//NDVI_Yongqiao_2000-01-16.tif\n",
      "\"C:\\Program Files\\GDAL//gdal_translate.exe\" -projwin 116.84693268 34.10324112 117.44 33.26 -of GTiff J:\\NDVI_recon\\2000\\CN_2000_NDVI_recon.017.tif J:\\NDVI_recon_Yongqiao//NDVI_Yongqiao_2000-01-17.tif\n",
      "\"C:\\Program Files\\GDAL//gdal_translate.exe\" -projwin 116.84693268 34.10324112 117.44 33.26 -of GTiff J:\\NDVI_recon\\2000\\CN_2000_NDVI_recon.018.tif J:\\NDVI_recon_Yongqiao//NDVI_Yongqiao_2000-01-18.tif\n",
      "\"C:\\Program Files\\GDAL//gdal_translate.exe\" -projwin 116.84693268 34.10324112 117.44 33.26 -of GTiff J:\\NDVI_recon\\2000\\CN_2000_NDVI_recon.019.tif J:\\NDVI_recon_Yongqiao//NDVI_Yongqiao_2000-01-19.tif\n",
      "\"C:\\Program Files\\GDAL//gdal_translate.exe\" -projwin 116.84693268 34.10324112 117.44 33.26 -of GTiff J:\\NDVI_recon\\2000\\CN_2000_NDVI_recon.020.tif J:\\NDVI_recon_Yongqiao//NDVI_Yongqiao_2000-01-20.tif\n",
      "\"C:\\Program Files\\GDAL//gdal_translate.exe\" -projwin 116.84693268 34.10324112 117.44 33.26 -of GTiff J:\\NDVI_recon\\2000\\CN_2000_NDVI_recon.021.tif J:\\NDVI_recon_Yongqiao//NDVI_Yongqiao_2000-01-21.tif\n",
      "\"C:\\Program Files\\GDAL//gdal_translate.exe\" -projwin 116.84693268 34.10324112 117.44 33.26 -of GTiff J:\\NDVI_recon\\2000\\CN_2000_NDVI_recon.022.tif J:\\NDVI_recon_Yongqiao//NDVI_Yongqiao_2000-01-22.tif\n",
      "\"C:\\Program Files\\GDAL//gdal_translate.exe\" -projwin 116.84693268 34.10324112 117.44 33.26 -of GTiff J:\\NDVI_recon\\2000\\CN_2000_NDVI_recon.023.tif J:\\NDVI_recon_Yongqiao//NDVI_Yongqiao_2000-01-23.tif\n",
      "\"C:\\Program Files\\GDAL//gdal_translate.exe\" -projwin 116.84693268 34.10324112 117.44 33.26 -of GTiff J:\\NDVI_recon\\2000\\CN_2000_NDVI_recon.024.tif J:\\NDVI_recon_Yongqiao//NDVI_Yongqiao_2000-01-24.tif\n",
      "\"C:\\Program Files\\GDAL//gdal_translate.exe\" -projwin 116.84693268 34.10324112 117.44 33.26 -of GTiff J:\\NDVI_recon\\2000\\CN_2000_NDVI_recon.025.tif J:\\NDVI_recon_Yongqiao//NDVI_Yongqiao_2000-01-25.tif\n",
      "\"C:\\Program Files\\GDAL//gdal_translate.exe\" -projwin 116.84693268 34.10324112 117.44 33.26 -of GTiff J:\\NDVI_recon\\2000\\CN_2000_NDVI_recon.026.tif J:\\NDVI_recon_Yongqiao//NDVI_Yongqiao_2000-01-26.tif\n",
      "\"C:\\Program Files\\GDAL//gdal_translate.exe\" -projwin 116.84693268 34.10324112 117.44 33.26 -of GTiff J:\\NDVI_recon\\2000\\CN_2000_NDVI_recon.027.tif J:\\NDVI_recon_Yongqiao//NDVI_Yongqiao_2000-01-27.tif\n",
      "\"C:\\Program Files\\GDAL//gdal_translate.exe\" -projwin 116.84693268 34.10324112 117.44 33.26 -of GTiff J:\\NDVI_recon\\2000\\CN_2000_NDVI_recon.028.tif J:\\NDVI_recon_Yongqiao//NDVI_Yongqiao_2000-01-28.tif\n",
      "\"C:\\Program Files\\GDAL//gdal_translate.exe\" -projwin 116.84693268 34.10324112 117.44 33.26 -of GTiff J:\\NDVI_recon\\2000\\CN_2000_NDVI_recon.029.tif J:\\NDVI_recon_Yongqiao//NDVI_Yongqiao_2000-01-29.tif\n",
      "\"C:\\Program Files\\GDAL//gdal_translate.exe\" -projwin 116.84693268 34.10324112 117.44 33.26 -of GTiff J:\\NDVI_recon\\2000\\CN_2000_NDVI_recon.030.tif J:\\NDVI_recon_Yongqiao//NDVI_Yongqiao_2000-01-30.tif\n",
      "\"C:\\Program Files\\GDAL//gdal_translate.exe\" -projwin 116.84693268 34.10324112 117.44 33.26 -of GTiff J:\\NDVI_recon\\2000\\CN_2000_NDVI_recon.031.tif J:\\NDVI_recon_Yongqiao//NDVI_Yongqiao_2000-01-31.tif\n",
      "\"C:\\Program Files\\GDAL//gdal_translate.exe\" -projwin 116.84693268 34.10324112 117.44 33.26 -of GTiff J:\\NDVI_recon\\2000\\CN_2000_NDVI_recon.032.tif J:\\NDVI_recon_Yongqiao//NDVI_Yongqiao_2000-02-01.tif\n",
      "\"C:\\Program Files\\GDAL//gdal_translate.exe\" -projwin 116.84693268 34.10324112 117.44 33.26 -of GTiff J:\\NDVI_recon\\2000\\CN_2000_NDVI_recon.033.tif J:\\NDVI_recon_Yongqiao//NDVI_Yongqiao_2000-02-02.tif\n",
      "\"C:\\Program Files\\GDAL//gdal_translate.exe\" -projwin 116.84693268 34.10324112 117.44 33.26 -of GTiff J:\\NDVI_recon\\2000\\CN_2000_NDVI_recon.034.tif J:\\NDVI_recon_Yongqiao//NDVI_Yongqiao_2000-02-03.tif\n",
      "\"C:\\Program Files\\GDAL//gdal_translate.exe\" -projwin 116.84693268 34.10324112 117.44 33.26 -of GTiff J:\\NDVI_recon\\2000\\CN_2000_NDVI_recon.035.tif J:\\NDVI_recon_Yongqiao//NDVI_Yongqiao_2000-02-04.tif\n",
      "\"C:\\Program Files\\GDAL//gdal_translate.exe\" -projwin 116.84693268 34.10324112 117.44 33.26 -of GTiff J:\\NDVI_recon\\2000\\CN_2000_NDVI_recon.036.tif J:\\NDVI_recon_Yongqiao//NDVI_Yongqiao_2000-02-05.tif"
     ]
    }
   ],
   "source": [
    "# prulletaria\n",
    "gdal_translate = r'C:\\Program Files\\GDAL//gdal_translate.exe'\n",
    "out_base = r'J:\\NDVI_recon_Yongqiao//'\n",
    "\n",
    "\n",
    "117.42693268\n",
    "extent = [116.84693268,117.44,33.26,34.10324112]\n",
    "\n",
    "for idx, val in enumerate(index_sel):    \n",
    "    if val == True:\n",
    "        out_file = 'NDVI_Yongqiao_'+str(index[idx].year)+'-'+str(index[idx].month).zfill(2)+'-'+str(index[idx].day).zfill(2)\n",
    "        command = [gdal_translate, '-projwin', str(extent[0]),str(extent[3]),\n",
    "                   str(extent[1]),str(extent[2]),'-of','GTiff', files[idx],\n",
    "                   out_base+out_file+'.tif']\n",
    "        print (sp.list2cmdline(command))\n",
    "        norm = sp.Popen(sp.list2cmdline(command),stdout=sp.PIPE, shell=True)\n",
    "        norm.communicate()"
   ]
  },
  {
   "cell_type": "code",
   "execution_count": null,
   "metadata": {
    "collapsed": false
   },
   "outputs": [],
   "source": []
  },
  {
   "cell_type": "code",
   "execution_count": null,
   "metadata": {
    "collapsed": true
   },
   "outputs": [],
   "source": []
  }
 ],
 "metadata": {
  "kernelspec": {
   "display_name": "Python 2",
   "language": "python",
   "name": "python2"
  },
  "language_info": {
   "codemirror_mode": {
    "name": "ipython",
    "version": 2
   },
   "file_extension": ".py",
   "mimetype": "text/x-python",
   "name": "python",
   "nbconvert_exporter": "python",
   "pygments_lexer": "ipython2",
   "version": "2.7.6"
  }
 },
 "nbformat": 4,
 "nbformat_minor": 0
}
