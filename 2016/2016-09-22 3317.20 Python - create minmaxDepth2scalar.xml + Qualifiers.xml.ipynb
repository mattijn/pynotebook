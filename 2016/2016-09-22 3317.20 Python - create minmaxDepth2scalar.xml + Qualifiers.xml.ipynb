{
 "cells": [
  {
   "cell_type": "code",
   "execution_count": 1,
   "metadata": {
    "collapsed": false
   },
   "outputs": [],
   "source": [
    "from xml.etree import ElementTree\n",
    "from xml.dom import minidom\n",
    "import glob, os, sys, time\n",
    "from shutil import copy\n",
    "from xml.etree.ElementTree import Element, SubElement, Comment\n",
    "import subprocess as sp\n",
    "import pandas as pd\n",
    "from datetime import datetime\n",
    "from osgeo import ogr\n",
    "import logging\n",
    "import re\n",
    "non_decimal = re.compile(r'[^\\d.,-]+')"
   ]
  },
  {
   "cell_type": "code",
   "execution_count": 2,
   "metadata": {
    "collapsed": true
   },
   "outputs": [],
   "source": [
    "def prettify(elem):\n",
    "    \"\"\"Return a pretty-printed XML string for the Element.\n",
    "    \"\"\"\n",
    "    rough_string = ElementTree.tostring(elem, 'utf-8')\n",
    "    reparsed = minidom.parseString(rough_string)\n",
    "    return reparsed.toprettyxml(indent=\"  \")"
   ]
  },
  {
   "cell_type": "code",
   "execution_count": 35,
   "metadata": {
    "collapsed": true
   },
   "outputs": [],
   "source": [
    "def QualifiersXml(grid, top):\n",
    "    map_ = SubElement(top,'qualifier')\n",
    "    map_.set('id','q.'+grid)\n",
    "    map_.set('name','q.'+grid)\n",
    "    map_sub = SubElement(map_, 'shortName').text = 'q.'+grid\n",
    "    return top"
   ]
  },
  {
   "cell_type": "code",
   "execution_count": 30,
   "metadata": {
    "collapsed": false
   },
   "outputs": [],
   "source": [
    "def minmaxDepth2scalar(grids_list, minmax = 'max'):     \n",
    "    \n",
    "    # start xml\n",
    "    top = Element('transformationModule')\n",
    "    top.set('version','1.0')\n",
    "    top.set('xmlns','http://www.wldelft.nl/fews')\n",
    "    top.set('xmlns:xsi','http://www.w3.org/2001/XMLSchema-instance')\n",
    "    top.set('xsi:schemaLocation','http://www.wldelft.nl/fews ../../../../Schemas/transformationModule.xsd')\n",
    "    \n",
    "    # define grid specific variables    \n",
    "    for grid in grids_list:    \n",
    "\n",
    "        var0 = SubElement(top, 'variable')\n",
    "        var0sub0 = SubElement(var0, 'variableId').text = minmax+'Depth.'+grid\n",
    "        var0sub1 = SubElement(var0, 'timeSeriesSet')\n",
    "        var0sub1sub0 = SubElement(var0sub1, 'moduleInstanceId').text = 'pr.diffMapping.'+minmax+'Depth'\n",
    "        var0sub1sub1 = SubElement(var0sub1, 'valueType').text = 'grid'\n",
    "        var0sub1sub2 = SubElement(var0sub1, 'parameterId').text = 'h.'+minmax+'Depth'\n",
    "        var0sub1sub3 = SubElement(var0sub1, 'qualifierId').text = 'h.conditional'\n",
    "        var0sub1sub4 = SubElement(var0sub1, 'locationId').text = 'l.'+grid\n",
    "        var0sub1sub5 = SubElement(var0sub1, 'timeSeriesType').text = 'external historical'\n",
    "        var0sub1sub6 = SubElement(var0sub1, 'timeStep')\n",
    "        var0sub1sub6.set('unit','day')\n",
    "        var0sub1sub7 = SubElement(var0sub1, 'relativeViewPeriod')\n",
    "        var0sub1sub7.set('startOverrulable','true')\n",
    "        var0sub1sub7.set('endOverrulable','true')\n",
    "        var0sub1sub7.set('unit','week')\n",
    "        var0sub1sub7.set('start','-1')\n",
    "        var0sub1sub7.set('end','0')\n",
    "        var0sub1sub8 = SubElement(var0sub1, 'readWriteMode').text = 'read only'\n",
    "   \n",
    "        var1 = SubElement(top, 'variable')\n",
    "        var1sub0 = SubElement(var1, 'variableId').text = minmax+'Sum.'+grid+'.2.scalar'\n",
    "        var1sub1 = SubElement(var1, 'timeSeriesSet')\n",
    "        var1sub1sub0 = SubElement(var1sub1, 'moduleInstanceId').text = 'pr.'+minmax+'Depth2scalar'\n",
    "        var1sub1sub1 = SubElement(var1sub1, 'valueType').text = 'scalar'\n",
    "        var1sub1sub2 = SubElement(var1sub1, 'parameterId').text = 'm.'+minmax+'Sum'        \n",
    "        var1sub1sub3 = SubElement(var1sub1, 'qualifierId').text = 'q.'+grid\n",
    "        var1sub1sub4 = SubElement(var1sub1, 'locationSetId').text = 'ls.baggervakken'\n",
    "        var1sub1sub5 = SubElement(var1sub1, 'timeSeriesType').text = 'temporary'\n",
    "        var1sub1sub6 = SubElement(var1sub1, 'timeStep')\n",
    "        var1sub1sub6.set('unit','day')\n",
    "        var1sub1sub6 = SubElement(var1sub1, 'relativeViewPeriod')\n",
    "        var1sub1sub6.set('startOverrulable','true')\n",
    "        var1sub1sub6.set('endOverrulable','true')\n",
    "        var1sub1sub6.set('unit','week')\n",
    "        var1sub1sub6.set('start','-1')\n",
    "        var1sub1sub6.set('end','0')\n",
    "        var1sub1sub7 = SubElement(var1sub1, 'readWriteMode').text = 'add originals'\n",
    "\n",
    "\n",
    "    # define grid specific transformations\n",
    "    for grid in grids_list:       \n",
    "\n",
    "        tra0 = SubElement(top, 'transformation')\n",
    "        tra0.set('id',minmax+'Depth.'+grid+'.2.'+minmax+'Sum.scalar')\n",
    "        tra0sub0 = SubElement(tra0, 'interpolationSpatial')\n",
    "        tra0sub0sub0 = SubElement(tra0sub0, 'sum')\n",
    "\n",
    "        tra0sub0sub0sub0 = SubElement(tra0sub0sub0, 'inputVariable')\n",
    "        tra0sub0sub0sub0sub0 = SubElement(tra0sub0sub0sub0, 'variableId').text = minmax+'Depth.'+grid\n",
    "        tra0sub0sub0sub1 = SubElement(tra0sub0sub0, 'outputVariable')\n",
    "        tra0sub0sub0sub1sub0 = SubElement(tra0sub0sub0sub1, 'variableId').text = minmax+'Sum.'+grid+'.2.scalar'\n",
    "        \n",
    "        tra1 = SubElement(top, 'transformation')\n",
    "        tra1.set('id',minmax+'Sum.scalar.2.'+minmax+'Sum.scalar.'+grid)\n",
    "        tra1sub0 = SubElement(tra1, 'interpolationSerial')\n",
    "        tra1sub0sub0 = SubElement(tra1sub0, 'default')\n",
    "\n",
    "        tra1sub0sub0sub0 = SubElement(tra1sub0sub0, 'inputVariable')\n",
    "        tra1sub0sub0sub0sub0 = SubElement(tra1sub0sub0sub0, 'variableId').text =minmax+'Sum.'+grid+'.2.scalar'\n",
    "        tra1sub0sub0sub1 = SubElement(tra1sub0sub0, 'defaultValue').text = '0'\n",
    "        tra1sub0sub0sub2 = SubElement(tra1sub0sub0, 'outputVariable')\n",
    "        tra1sub0sub0sub2sub0 = SubElement(tra1sub0sub0sub2, 'variableId').text =minmax+'Sum.'+grid+'.2.scalar'        \n",
    "\n",
    "    tra2 = SubElement(top, 'transformation')\n",
    "    tra2.set('id','sumQualifiers.'+minmax+'Sum')\n",
    "    tra2sub0 = SubElement(tra2, 'user')\n",
    "    tra2sub0sub0 = SubElement(tra2sub0, 'simple')\n",
    "    \n",
    "    \n",
    "    list_grids = ''\n",
    "    for grid in grids_list:\n",
    "        tra2sub0sub0sub0 = SubElement(tra2sub0sub0, 'inputVariableDefinition')\n",
    "        tra2sub0sub0sub0sub0 = SubElement(tra2sub0sub0sub0, 'variableId').text = grid\n",
    "\n",
    "        tra2sub0sub0sub0sub1 = SubElement(tra2sub0sub0sub0, 'timeSeriesSet')\n",
    "        tra2sub0sub0sub0sub1sub0 = SubElement(tra2sub0sub0sub0sub1, 'moduleInstanceId').text = 'pr.'+minmax+'Depth2scalar'\n",
    "        tra2sub0sub0sub0sub1sub1 = SubElement(tra2sub0sub0sub0sub1, 'valueType').text = 'scalar'\n",
    "        tra2sub0sub0sub0sub1sub2 = SubElement(tra2sub0sub0sub0sub1, 'parameterId').text = 'm.'+minmax+'Sum'  \n",
    "        tra2sub0sub0sub0sub1sub3 = SubElement(tra2sub0sub0sub0sub1, 'qualifierId').text = 'q.'+grid \n",
    "        tra2sub0sub0sub0sub1sub4 = SubElement(tra2sub0sub0sub0sub1, 'locationSetId').text = 'ls.baggervakken'\n",
    "        tra2sub0sub0sub0sub1sub5 = SubElement(tra2sub0sub0sub0sub1, 'timeSeriesType').text = 'temporary'\n",
    "        tra2sub0sub0sub0sub1sub6 = SubElement(tra2sub0sub0sub0sub1, 'timeStep')\n",
    "        tra2sub0sub0sub0sub1sub6.set('unit','day')\n",
    "        tra2sub0sub0sub0sub1sub7 = SubElement(tra2sub0sub0sub0sub1, 'relativeViewPeriod')\n",
    "        tra2sub0sub0sub0sub1sub7.set('startOverrulable','true')\n",
    "        tra2sub0sub0sub0sub1sub7.set('endOverrulable','true')\n",
    "        tra2sub0sub0sub0sub1sub7.set('unit','week')\n",
    "        tra2sub0sub0sub0sub1sub7.set('start','-1')\n",
    "        tra2sub0sub0sub0sub1sub7.set('end','0')\n",
    "        tra2sub0sub0sub0sub1sub8 = SubElement(tra2sub0sub0sub0sub1, 'readWriteMode').text = 'read only'\n",
    "\n",
    "        list_grids += grid+'+'\n",
    "        \n",
    "    tra2sub0sub0sub2 = SubElement(tra2sub0sub0, 'expression').text = list_grids[:-1]\n",
    "    tra2sub0sub0sub3 = SubElement(tra2sub0sub0, 'outputVariable')   \n",
    "    \n",
    "    tra2sub0sub0sub3sub0 = SubElement(tra2sub0sub0sub3, 'timeSeriesSet')\n",
    "    tra2sub0sub0sub3sub0sub0 = SubElement(tra2sub0sub0sub3sub0, 'moduleInstanceId').text = 'pr.'+minmax+'Depth2scalar'\n",
    "    tra2sub0sub0sub3sub0sub1 = SubElement(tra2sub0sub0sub3sub0, 'valueType').text = 'scalar'\n",
    "    tra2sub0sub0sub3sub0sub2 = SubElement(tra2sub0sub0sub3sub0, 'parameterId').text = 'm.'+minmax+'Sum'  \n",
    "    tra2sub0sub0sub3sub0sub3 = SubElement(tra2sub0sub0sub3sub0, 'qualifierId').text = 'q.all'\n",
    "    tra2sub0sub0sub3sub0sub4 = SubElement(tra2sub0sub0sub3sub0, 'locationSetId').text = 'ls.baggervakken'\n",
    "    tra2sub0sub0sub3sub0sub5 = SubElement(tra2sub0sub0sub3sub0, 'timeSeriesType').text = 'external historical'\n",
    "    tra2sub0sub0sub3sub0sub6 = SubElement(tra2sub0sub0sub3sub0, 'timeStep')\n",
    "    tra2sub0sub0sub3sub0sub6.set('unit','day')\n",
    "    tra2sub0sub0sub3sub0sub7 = SubElement(tra2sub0sub0sub3sub0, 'relativeViewPeriod')\n",
    "    tra2sub0sub0sub3sub0sub7.set('startOverrulable','true')\n",
    "    tra2sub0sub0sub3sub0sub7.set('endOverrulable','true')\n",
    "    tra2sub0sub0sub3sub0sub7.set('unit','week')\n",
    "    tra2sub0sub0sub3sub0sub7.set('start','-1')\n",
    "    tra2sub0sub0sub3sub0sub7.set('end','0')\n",
    "    tra2sub0sub0sub3sub0sub8 = SubElement(tra2sub0sub0sub3sub0, 'readWriteMode').text = 'add originals'    \n",
    "\n",
    "    return top"
   ]
  },
  {
   "cell_type": "code",
   "execution_count": 31,
   "metadata": {
    "collapsed": true
   },
   "outputs": [],
   "source": [
    "rootDir = r'D:\\OMS_Waddenzee\\trunk\\fews'\n",
    "tmpDir = r'D:\\OMS_Waddenzee\\trunk\\fews\\ImportInterim\\geoxyz\\bodempeilingen'\n",
    "logDir = r'D:\\OMS_Waddenzee\\trunk\\src\\log'\n",
    "logFile = os.path.join(logDir, 'logfile4minmaxDepth2scalar.out')\n",
    "xmldir = os.path.join(tmpDir, 'XMLGenerated')"
   ]
  },
  {
   "cell_type": "code",
   "execution_count": 32,
   "metadata": {
    "collapsed": true
   },
   "outputs": [],
   "source": [
    "asciiFiles = []\n",
    "asciiFile_fullPath = []\n",
    "for root, dirs, files in os.walk(rootDir):\n",
    "    for file in files:\n",
    "        if file.startswith('grid') and file.endswith('.asc'):\n",
    "            asciiFiles.append(file)\n",
    "            asciiFile_fullPath.append(os.path.join( os.path.abspath(root), file ))\n",
    "\n",
    "asciiLocs = []\n",
    "for file in asciiFiles:\n",
    "    asciiLocs.append(file[0:7])\n",
    "\n",
    "asciiLocsUnique = list(set(asciiLocs))\n",
    "asciiLocsUnique.sort()"
   ]
  },
  {
   "cell_type": "code",
   "execution_count": 38,
   "metadata": {
    "collapsed": true
   },
   "outputs": [],
   "source": [
    "# CREATE Qualifiers.xml\n",
    "# file to save\n",
    "Qualifiers_xml = os.path.join(xmldir,'Qualifiers.xml')\n",
    "\n",
    "# start xml\n",
    "top = Element('qualifiers')\n",
    "top.set('xmlns','http://www.wldelft.nl/fews')\n",
    "top.set('xmlns:xsi','http://www.w3.org/2001/XMLSchema-instance')\n",
    "top.set('xsi:schemaLocation','http://www.wldelft.nl/fews ../../../Schemas/qualifiers.xsd')\n",
    "\n",
    "for grid in asciiLocsUnique:\n",
    "    top = QualifiersXml(grid, top)\n",
    "\n",
    "# save xml to file\n",
    "with open(Qualifiers_xml, 'w') as the_file:\n",
    "    the_file.write(prettify(top))    "
   ]
  },
  {
   "cell_type": "code",
   "execution_count": 33,
   "metadata": {
    "collapsed": false
   },
   "outputs": [],
   "source": [
    "# CREATE pr.maxDepth2scalar.xml\n",
    "# file to save\n",
    "maxDepth2scalar_xml = os.path.join(xmldir,'pr.maxDepth2scalar.xml')\n",
    "\n",
    "top = minmaxDepth2scalar(asciiLocsUnique, minmax = 'max')\n",
    "\n",
    "# save xml to file\n",
    "with open(maxDepth2scalar_xml, 'w') as the_file:\n",
    "    the_file.write(prettify(top))   "
   ]
  },
  {
   "cell_type": "code",
   "execution_count": 39,
   "metadata": {
    "collapsed": true
   },
   "outputs": [],
   "source": [
    "# CREATE pr.minDepth2scalar.xml\n",
    "# file to save\n",
    "minDepth2scalar_xml = os.path.join(xmldir,'pr.minDepth2scalar.xml')\n",
    "\n",
    "top = minmaxDepth2scalar(asciiLocsUnique, minmax = 'min')\n",
    "\n",
    "# save xml to file\n",
    "with open(minDepth2scalar_xml, 'w') as the_file:\n",
    "    the_file.write(prettify(top))   "
   ]
  },
  {
   "cell_type": "code",
   "execution_count": null,
   "metadata": {
    "collapsed": true
   },
   "outputs": [],
   "source": []
  }
 ],
 "metadata": {
  "kernelspec": {
   "display_name": "Python 3",
   "language": "python",
   "name": "python3"
  },
  "language_info": {
   "codemirror_mode": {
    "name": "ipython",
    "version": 3
   },
   "file_extension": ".py",
   "mimetype": "text/x-python",
   "name": "python",
   "nbconvert_exporter": "python",
   "pygments_lexer": "ipython3",
   "version": "3.5.2"
  }
 },
 "nbformat": 4,
 "nbformat_minor": 0
}
