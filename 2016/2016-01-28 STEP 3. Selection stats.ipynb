{
 "cells": [
  {
   "cell_type": "code",
   "execution_count": 1,
   "metadata": {
    "collapsed": false
   },
   "outputs": [],
   "source": [
    "import pandas as pd\n",
    "import numpy as np\n",
    "import matplotlib.pyplot as plt\n",
    "from osgeo import gdal, ogr\n",
    "#import seaborn as sns\n",
    "%matplotlib inline"
   ]
  },
  {
   "cell_type": "code",
   "execution_count": 55,
   "metadata": {
    "collapsed": false
   },
   "outputs": [],
   "source": [
    "def shapethedata(df_DI, df_GT, df_PR, df_ID, landclass = 'veg'):\n",
    "    \"\"\"\n",
    "    input\n",
    "    output\n",
    "    \"\"\"\n",
    "    if landclass == 'all':\n",
    "        all_classes = [11,14,20,30,40,50,60,70,90,100,110,120,130,140,150,160,170,180,190,200,210,220,230]\n",
    "        df_LU_condition = df_LU.T[df_LU.T.isin(all_classes)].dropna().T\n",
    "    if landclass == 'veg':\n",
    "        vegetation = [11,14,20,30,40,50,60,70,90,100,110,120,130,140,160,170,180,]\n",
    "        df_LU_condition = df_LU.T[df_LU.T.isin(vegetation)].dropna().T\n",
    "    if landclass == 'crop':\n",
    "        cropland = [11,14]\n",
    "        df_LU_condition = df_LU.T[df_LU.T.isin(cropland)].dropna().T\n",
    "    \n",
    "    #df_LU_condition\n",
    "    #df_LU.T[(df_LU.T == [11,14])].dropna()#.T\n",
    "\n",
    "    rs_list = []\n",
    "    gt_list = []\n",
    "    pr_list = []\n",
    "    st_list = []\n",
    "\n",
    "    for i in df_LU_condition:\n",
    "        #print i\n",
    "        ID = i\n",
    "        df = pd.concat([df_DI[ID], df_GT[ID]], axis=1)    \n",
    "        df.columns = ['di','gt']\n",
    "        df['prv'] = pd.Series([df_PR[ID].tolist()[0] for x in range(df.shape[0])], index=df.index)\n",
    "        df['ID'] = pd.Series([df_ID[ID].tolist()[0] for x in range(df.shape[0])], index=df.index)\n",
    "        #df.dropna(inplace = True)\n",
    "        df.fillna(0, inplace=True)   \n",
    "\n",
    "        # select observations containing 30 or more consecutive drought days\n",
    "        #df1 = df.loc[df.groupby((~(df.index.to_series().diff() ==  pd.Timedelta(1, unit='d'))\n",
    "        #                        ).astype(int).cumsum() ).transform(len).iloc[:, 0] >= 30] \n",
    "\n",
    "        df1 = df\n",
    "        \n",
    "        rs_list = rs_list + df1.ix[:,0].tolist()\n",
    "        gt_list = gt_list + df1.ix[:,1].tolist()    \n",
    "        pr_list = pr_list + df1.ix[:,2].tolist()\n",
    "        st_list = st_list + df1.ix[:,3].tolist()    \n",
    "        #plt.scatter(df_concat.ix[:,1],df_concat.ix[:,0])\n",
    "        #plt.xlim(0,4)\n",
    "        #plt.xticks([1,2,3],['Light','Medium','Heavy'])\n",
    "    #plt.show()\n",
    "    # convert to numpy array\n",
    "    rs_array = np.array(rs_list)\n",
    "    gt_array = np.array(gt_list)\n",
    "    pr_array = np.array(pr_list)\n",
    "    st_array = np.array(st_list)\n",
    "\n",
    "    # convert to pandas series\n",
    "    rs_Series = pd.Series(rs_array)\n",
    "    gt_Series = pd.Series(gt_array)\n",
    "    pr_Series = pd.Series(pr_array)\n",
    "    st_Series = pd.Series(st_array)\n",
    "\n",
    "    df_new = pd.concat([gt_Series, rs_Series, pr_Series, st_Series], axis=1)\n",
    "    df_new.columns = ['ground-truth','remote-sensing','province','ID']\n",
    "    df_new.sort('ground-truth', inplace = True)\n",
    "\n",
    "    np.unique(df_new['province'])\n",
    "    sel_names = ['Ningxia Hui','Shanxi','Shandong','Gansu','Guangxi','Chongqing']\n",
    "\n",
    "    df_new_sel = df_new.loc[df_new['province'].isin(sel_names)]\n",
    "    #df_new_sel.head()\n",
    "    return df_new_sel"
   ]
  },
  {
   "cell_type": "code",
   "execution_count": 3,
   "metadata": {
    "collapsed": true
   },
   "outputs": [],
   "source": [
    "def setBoxColors(bp, bp_col = 1):\n",
    "    if bp_col == 1:\n",
    "        plt.setp(bp['boxes'], color=\"#2C7BB6\", linewidth=2)\n",
    "        #plt.setp(bp['caps'][0], color=\"#2C7BB6\", linewidth=2)\n",
    "        plt.setp(bp['caps'], color=\"#2C7BB6\", linewidth=2)\n",
    "        #plt.setp(bp['whiskers'][0], color=\"#2C7BB6\", linestyle='-', linewidth=2)\n",
    "        plt.setp(bp['whiskers'], color=\"#2C7BB6\", linestyle='-', linewidth=2)\n",
    "        #plt.setp(bp['fliers'][0], color=\"#2C7BB6\", linewidth=2)\n",
    "        plt.setp(bp['fliers'], color=\"#2C7BB6\", linewidth=2)\n",
    "        plt.setp(bp['medians'], color=\"#2C7BB6\", linewidth=2)\n",
    "\n",
    "    if bp_col == 2:\n",
    "        plt.setp(bp['boxes'], color='#FF6600', linewidth=2)\n",
    "        #plt.setp(bp['caps'][2], color='#FF6600', linewidth=2)\n",
    "        plt.setp(bp['caps'], color='#FF6600', linewidth=2)\n",
    "        #plt.setp(bp['whiskers'][2], color='#FF6600', linestyle='--', linewidth=2)\n",
    "        plt.setp(bp['whiskers'], color='#FF6600', linestyle='-', linewidth=2)\n",
    "        #plt.setp(bp['fliers'][2], color='#FF6600', linewidth=2)\n",
    "        plt.setp(bp['fliers'], color='#FF6600', linewidth=2)\n",
    "        plt.setp(bp['medians'], color='#FF6600', linewidth=2)"
   ]
  },
  {
   "cell_type": "code",
   "execution_count": 4,
   "metadata": {
    "collapsed": false
   },
   "outputs": [],
   "source": [
    "df_LU = pd.read_pickle(r'D:\\Data\\NDAI_VHI_GROUNDTRUTH//RS_LANDUSE.pkl')\n",
    "df_GT = pd.read_pickle(r'D:\\Data\\NDAI_VHI_GROUNDTRUTH//groundtruth_2003_2013.pkl')\n",
    "df_PR = pd.read_pickle(r'D:\\Data\\NDAI_VHI_GROUNDTRUTH//GT_Province.pkl')\n",
    "df_ID = pd.read_pickle(r'D:\\Data\\NDAI_VHI_GROUNDTRUTH//GT_StationID.pkl')"
   ]
  },
  {
   "cell_type": "code",
   "execution_count": 118,
   "metadata": {
    "collapsed": false
   },
   "outputs": [],
   "source": [
    "#df_DI_VHI = pd.read_pickle(r'D:\\Data\\NDAI_VHI_GROUNDTRUTH//RS_VHI2_2003_2013.pkl')\n",
    "#df_DI_VCI = pd.read_pickle(r'D:\\Data\\NDAI_VHI_GROUNDTRUTH//RS_VCI_2003_2013.pkl')\n",
    "df_DI_TCI = pd.read_pickle(r'D:\\Data\\NDAI_VHI_GROUNDTRUTH//RS_TCI_2003_2013.pkl')"
   ]
  },
  {
   "cell_type": "code",
   "execution_count": 119,
   "metadata": {
    "collapsed": true
   },
   "outputs": [],
   "source": [
    "#df_DI_NDAI = pd.read_pickle(r'D:\\Data\\NDAI_VHI_GROUNDTRUTH//RS_NDAI_2003_2013.pkl')\n",
    "#df_DI_NVAI = pd.read_pickle(r'D:\\Data\\NDAI_VHI_GROUNDTRUTH//RS_NVAI_2003_2013.pkl')\n",
    "df_DI_NTAI = pd.read_pickle(r'D:\\Data\\NDAI_VHI_GROUNDTRUTH//RS_NTAI_2003_2013.pkl')"
   ]
  },
  {
   "cell_type": "code",
   "execution_count": 117,
   "metadata": {
    "collapsed": true
   },
   "outputs": [],
   "source": [
    "df_DI_NVAI = None\n",
    "df_DI_VCI = None"
   ]
  },
  {
   "cell_type": "code",
   "execution_count": 120,
   "metadata": {
    "collapsed": false
   },
   "outputs": [
    {
     "name": "stderr",
     "output_type": "stream",
     "text": [
      "D:\\Python27x64\\lib\\site-packages\\ipykernel\\__main__.py:62: FutureWarning: sort(columns=....) is deprecated, use sort_values(by=.....)\n"
     ]
    }
   ],
   "source": [
    "df_first = shapethedata(df_DI_TCI, df_GT, df_PR, df_ID, landclass = 'all')\n",
    "df_second = shapethedata(df_DI_NTAI, df_GT, df_PR, df_ID, landclass = 'all')\n",
    "#label_first = 'VCI'\n",
    "#label_second = 'NVAI'\n",
    "#label_landuse = 'cropland'\n",
    "#label_landuse = 'vegetated area'\n",
    "#label_landuse = 'China'"
   ]
  },
  {
   "cell_type": "code",
   "execution_count": 110,
   "metadata": {
    "collapsed": true
   },
   "outputs": [],
   "source": [
    "boxes_first = []\n",
    "boxes_second = []\n",
    "\n",
    "labels_first = []\n",
    "labels_second = []\n",
    "\n",
    "positions_first = []\n",
    "positions_second = []"
   ]
  },
  {
   "cell_type": "code",
   "execution_count": 121,
   "metadata": {
    "collapsed": true
   },
   "outputs": [],
   "source": [
    "boxes_first.append(df_first[df_first['ground-truth']>=1]['remote-sensing'].as_matrix()/1000)\n",
    "boxes_second.append((df_second[df_second['ground-truth']>=1]['remote-sensing'].as_matrix()/1000)-1)\n",
    "\n",
    "labels_first.append('TCI')\n",
    "labels_second.append('NTAI')\n",
    "\n",
    "positions_first.append(3)\n",
    "positions_second.append(4)"
   ]
  },
  {
   "cell_type": "code",
   "execution_count": 148,
   "metadata": {
    "collapsed": true
   },
   "outputs": [],
   "source": [
    "from itertools import chain\n",
    "l = [list(a) for a in zip(labels_first, labels_second)]\n",
    "labels = list(chain.from_iterable(l))"
   ]
  },
  {
   "cell_type": "code",
   "execution_count": 194,
   "metadata": {
    "collapsed": false
   },
   "outputs": [
    {
     "data": {
      "image/png": "[encoded data removed]",
      "text/plain": [
       "<matplotlib.figure.Figure at 0x8c8cf748>"
      ]
     },
     "metadata": {},
     "output_type": "display_data"
    }
   ],
   "source": [
    "cl_boxes = ['orange','#22A884', 'lightblue']\n",
    "fig, ax1 = plt.subplots(figsize=(10,5))    \n",
    "ax2 = ax1.twinx()\n",
    "ax1.hlines(0.5, 0, 7, linewidth = 2, zorder = 0)\n",
    "bp = ax1.boxplot(boxes_first, positions = positions_first,#, labels=labels_first,\n",
    "                 widths= 0.3, sym = '', patch_artist = True)\n",
    "setBoxColors(bp, bp_col = 1)\n",
    "for idx, val in enumerate(bp['boxes']):\n",
    "    plt.setp(val, facecolor = cl_boxes[idx])\n",
    "for tl in ax1.get_yticklabels():\n",
    "    tl.set_color(\"#2C7BB6\")\n",
    "\n",
    "bp = ax2.boxplot(boxes_second, positions = positions_second, \n",
    "                widths= 0.3, sym = '', patch_artist = True)\n",
    "setBoxColors(bp, bp_col = 2)\n",
    "for idx, val in enumerate(bp['boxes']):\n",
    "    plt.setp(val, facecolor = cl_boxes[idx])\n",
    "for tl in ax2.get_yticklabels():\n",
    "    tl.set_color('#FF6600')\n",
    "\n",
    "ax1.set_ylim(-0.0,1.005)\n",
    "ax1.set_yticks([0,0.25,0.5,0.75,1.0])\n",
    "ax2.set_ylim(-1.00,1.01)\n",
    "ax1.set_ylabel('VCI / TCI / VHI')\n",
    "ax2.set_ylabel('NVAI / NTAI / NDAI')\n",
    "\n",
    "ax1.set_xticks(range(1,20))\n",
    "ax1.set_xticklabels(labels, rotation=90)\n",
    "\n",
    "plt.xlim(0,7)\n",
    "plt.grid()\n",
    "plt.title('Comparison Drought Indicators over China')\n",
    "plt.tight_layout()\n",
    "\n",
    "plt.savefig(r'D:\\Data\\NDAI_VHI_GROUNDTRUTH\\png//comp_DI_china.png', dpi=200)"
   ]
  },
  {
   "cell_type": "code",
   "execution_count": 156,
   "metadata": {
    "collapsed": false
   },
   "outputs": [],
   "source": [
    "labels = ['VCI', 'NVAI', 'TCI', 'NTAI', 'VHI', 'NDAI']"
   ]
  },
  {
   "cell_type": "code",
   "execution_count": 300,
   "metadata": {
    "collapsed": false
   },
   "outputs": [
    {
     "data": {
      "text/plain": [
       "array([ 0.48033333,  0.48544444,  0.48466667, ...,  0.33311111,\n",
       "        0.32711111,  0.36622222])"
      ]
     },
     "execution_count": 300,
     "metadata": {},
     "output_type": "execute_result"
    }
   ],
   "source": [
    "boxes_first[2]"
   ]
  },
  {
   "cell_type": "code",
   "execution_count": 298,
   "metadata": {
    "collapsed": false
   },
   "outputs": [
    {
     "data": {
      "text/plain": [
       "array([ 0.48033333,  0.48544444,  0.48466667, ...,  0.33311111,\n",
       "        0.32711111,  0.36622222])"
      ]
     },
     "execution_count": 298,
     "metadata": {},
     "output_type": "execute_result"
    }
   ],
   "source": [
    "tci_in"
   ]
  },
  {
   "cell_type": "code",
   "execution_count": 337,
   "metadata": {
    "collapsed": true
   },
   "outputs": [],
   "source": [
    "tci_in = boxes_first[1]\n",
    "ntai_in = boxes_second[1]"
   ]
  },
  {
   "cell_type": "code",
   "execution_count": 338,
   "metadata": {
    "collapsed": false
   },
   "outputs": [],
   "source": [
    "df_tci_ntai = pd.DataFrame([tci_in,ntai_in]).T\n",
    "df_tci_ntai.columns = ['tci','ntai']\n",
    "df_tci_ntai.dropna(inplace=True)"
   ]
  },
  {
   "cell_type": "code",
   "execution_count": 339,
   "metadata": {
    "collapsed": false
   },
   "outputs": [],
   "source": [
    "x = df_tci_ntai['tci'].as_matrix()\n",
    "y = df_tci_ntai['ntai'].as_matrix()"
   ]
  },
  {
   "cell_type": "code",
   "execution_count": 268,
   "metadata": {
    "collapsed": false
   },
   "outputs": [
    {
     "name": "stderr",
     "output_type": "stream",
     "text": [
      "D:\\Python27x64\\lib\\site-packages\\matplotlib\\__init__.py:872: UserWarning: axes.color_cycle is deprecated and replaced with axes.prop_cycle; please use the latter.\n",
      "  warnings.warn(self.msg_depr % (key, alt_key))\n"
     ]
    }
   ],
   "source": [
    "import numpy as np\n",
    "import pandas as pd\n",
    "from scipy import stats, integrate\n",
    "import matplotlib.pyplot as plt\n",
    "import seaborn as sns\n",
    "sns.set(color_codes=True)"
   ]
  },
  {
   "cell_type": "code",
   "execution_count": 340,
   "metadata": {
    "collapsed": false
   },
   "outputs": [
    {
     "data": {
      "image/png": "[encoded data removed]",
      "text/plain": [
       "<matplotlib.figure.Figure at 0x112bcc978>"
      ]
     },
     "metadata": {},
     "output_type": "display_data"
    }
   ],
   "source": [
    "from scipy import stats\n",
    "def r2(x, y):\n",
    "    return stats.pearsonr(x, y)[0] ** 2\n",
    "\n",
    "with sns.axes_style(\"white\"):\n",
    "    ax = sns.jointplot(x=x, y=y, kind=\"hex\", color=\"k\", xlim=(0,1), ylim=(-1,1), #gridsize=20,\n",
    "                       size=6, stat_func=r2);\n",
    "    rg = sns.regplot(x, y, ax=ax.ax_joint, scatter=False, color='k', line_kws={\"linewidth\": 1},)    \n",
    "\n",
    "#ax.x.data.axes.set_xticks([0,0.25,0.5,0.75,1])\n",
    "\n",
    "ax.ax_joint.set_xticks([0,0.25,0.5,0.75,1])\n",
    "ax.ax_joint.hlines(0,-1,1,linestyle='--', zorder=1, linewidth=1, color='gray')\n",
    "ax.ax_joint.vlines(0.5,-1,1,linestyle='--', zorder=1, linewidth=1, color='gray')\n",
    "ax.set_axis_labels('VCI','NVAI')\n",
    "\n",
    "\n",
    "ax.savefig(r'D:\\Data\\NDAI_VHI_GROUNDTRUTH\\png//comp_NVAI_VCI_china.png', dpi=200)"
   ]
  },
  {
   "cell_type": "code",
   "execution_count": 279,
   "metadata": {
    "collapsed": true
   },
   "outputs": [],
   "source": [
    "import scipy.stats as st_ft"
   ]
  },
  {
   "cell_type": "code",
   "execution_count": null,
   "metadata": {
    "collapsed": true
   },
   "outputs": [],
   "source": [
    "st_ft."
   ]
  },
  {
   "cell_type": "code",
   "execution_count": 73,
   "metadata": {
    "collapsed": false
   },
   "outputs": [
    {
     "data": {
      "image/png": "[encoded data removed]",
      "text/plain": [
       "<matplotlib.figure.Figure at 0x1971839e8>"
      ]
     },
     "metadata": {},
     "output_type": "display_data"
    }
   ],
   "source": [
    "# PREPARE THE DATA\n",
    "# LEFT AXIS\n",
    "ax1_counter = 0\n",
    "ax1_boxes = []\n",
    "ax1_labels = []\n",
    "ax1_positions = []\n",
    "for key, grp in df_first.groupby('ground-truth'):\n",
    "    if key == 0:\n",
    "        key = 'No drought'\n",
    "    if key == 1:\n",
    "        key = 'Medium'\n",
    "    if key == 2:\n",
    "        key = 'Light'\n",
    "    if key == 3:\n",
    "        key = 'Heavy'\n",
    "    ax1_labels.append(key+' ('+label_first+')')\n",
    "    ax1_boxes.append((grp['remote-sensing']/1000).as_matrix())\n",
    "    ax1_positions.append(ax1_counter)\n",
    "    ax1_counter += 2\n",
    "\n",
    "# RIGHT AXIS    \n",
    "ax2_counter = 1\n",
    "ax2_boxes = []\n",
    "ax2_labels = []\n",
    "ax2_positions = []\n",
    "for key, grp in df_second.groupby('ground-truth'):\n",
    "    if key == 0:\n",
    "        key = 'No drought'\n",
    "    if key == 1:\n",
    "        key = 'Medium'\n",
    "    if key == 2:\n",
    "        key = 'Light'\n",
    "    if key == 3:\n",
    "        key = 'Heavy'    \n",
    "    ax2_labels.append(key+' ('+label_second+')')\n",
    "    #ax2_boxes.append(grp['remote-sensing'].as_matrix())\n",
    "    ax2_boxes.append(((grp['remote-sensing']/1000)-1).as_matrix())\n",
    "    ax2_positions.append(ax2_counter)\n",
    "    ax2_counter += 2  \n",
    "\n",
    "from itertools import chain\n",
    "l = [list(a) for a in zip(ax1_labels, ax2_labels)]\n",
    "labels = list(chain.from_iterable(l))   \n",
    "\n",
    "# PLOT THE DATA    \n",
    "cl_boxes = ['#440154','#414487', '#2A788E', '#22A884', '#7AD151', '#FDE725']\n",
    "cl_boxes = ['gray','yellow', 'orange', 'red']\n",
    "\n",
    "fig, ax1 = plt.subplots(figsize=(10,5))    \n",
    "ax2 = ax1.twinx()\n",
    "\n",
    "bp = ax1.boxplot(ax1_boxes, positions=ax1_positions, labels=ax1_labels, \n",
    "                 widths= 0.3, sym = '', patch_artist = True)\n",
    "setBoxColors(bp, bp_col = 1)\n",
    "for idx, val in enumerate(bp['boxes']):\n",
    "    plt.setp(val, facecolor = cl_boxes[idx])\n",
    "for tl in ax1.get_yticklabels():\n",
    "    tl.set_color(\"#2C7BB6\")\n",
    "\n",
    "bp = ax2.boxplot(ax2_boxes, positions=ax2_positions, \n",
    "                 widths= 0.3, sym = '', patch_artist = True)\n",
    "setBoxColors(bp, bp_col = 2)\n",
    "for idx, val in enumerate(bp['boxes']):\n",
    "    plt.setp(val, facecolor = cl_boxes[idx])\n",
    "for tl in ax2.get_yticklabels():\n",
    "    tl.set_color('#FF6600')\n",
    "\n",
    "ax1.set_ylim(0,1)\n",
    "ax1.set_yticks([0,0.25,0.5,0.75,1.0])\n",
    "ax1.set_ylabel(label_first)\n",
    "ax2.set_ylim(-1,1)\n",
    "ax2.set_ylabel(label_second)\n",
    "ax1.hlines(0.5, -1,12, zorder=0, linewidth=2)\n",
    "\n",
    "ax1.set_xticks(range(0,20))\n",
    "ax1.set_xticklabels(labels, rotation=90)\n",
    "\n",
    "ax2.set_xticks(range(0,20))\n",
    "ax2.set_xticklabels(labels, rotation=90)\n",
    "\n",
    "plt.xlim(-1,8)\n",
    "plt.grid()\n",
    "plt.title(label_first+' & '+label_second+' stratified by provinces over '+label_landuse)\n",
    "#plt.minorticks_on()\n",
    "plt.legend(loc='best')\n",
    "plt.tight_layout()\n",
    "plt.savefig(r'D:\\Data\\NDAI_VHI_GROUNDTRUTH\\png//'+label_first+'_'+label_second+'_severity_'+label_landuse+'.png', dpi=200)\n",
    "plt.show()"
   ]
  },
  {
   "cell_type": "code",
   "execution_count": null,
   "metadata": {
    "collapsed": true
   },
   "outputs": [],
   "source": []
  },
  {
   "cell_type": "code",
   "execution_count": null,
   "metadata": {
    "collapsed": false
   },
   "outputs": [],
   "source": [
    "'''\n",
    "Make a colorbar as a separate figure.\n",
    "'''\n",
    "\n",
    "from matplotlib import pyplot\n",
    "import matplotlib as mpl\n",
    "\n",
    "# Make a figure and axes with dimensions as desired.\n",
    "fig = pyplot.figure(figsize=(8, 3))\n",
    "\n",
    "ax3 = fig.add_axes([0.05, 0.15, 0.9, 0.15])\n",
    "\n",
    "# The third example illustrates the use of custom length colorbar\n",
    "# extensions, used on a colorbar with discrete intervals.\n",
    "cmap = plt.cm.viridis\n",
    "                     \n",
    "#cmap.set_over((1., 0., 0.))\n",
    "#cmap.set_under((0., 0., 1.))\n",
    "\n",
    "bounds = range(0,7)\n",
    "norm = mpl.colors.BoundaryNorm(bounds, cmap.N)\n",
    "cb3 = mpl.colorbar.ColorbarBase(ax3, cmap=cmap,\n",
    "                                norm=norm,\n",
    "                                #boundaries=[-10] + bounds + [10],\n",
    "                                #extend='both',\n",
    "                                # Make the length of each extension\n",
    "                                # the same as the length of the\n",
    "                                # interior colors:\n",
    "                                extendfrac='auto',\n",
    "                                ticks=bounds,\n",
    "                                spacing='uniform',\n",
    "                                orientation='horizontal')\n",
    "cb3.set_label('Custom extension lengths, some other units')\n",
    "\n",
    "pyplot.show()"
   ]
  },
  {
   "cell_type": "code",
   "execution_count": null,
   "metadata": {
    "collapsed": false
   },
   "outputs": [],
   "source": []
  },
  {
   "cell_type": "code",
   "execution_count": null,
   "metadata": {
    "collapsed": true
   },
   "outputs": [],
   "source": [
    "import matplotlib as mpl"
   ]
  },
  {
   "cell_type": "code",
   "execution_count": null,
   "metadata": {
    "collapsed": false
   },
   "outputs": [],
   "source": [
    "print 'unique stations', len(np.unique(df_new['ID']))\n",
    "print 'observations', df_new.shape\n",
    "\n",
    "df_new_mi = df_new.set_index(['province','ID'])\n",
    "\n",
    "pr_name_list = []\n",
    "pr_uniquestations_list = []\n",
    "for prov in df_new_mi.index.levels[0]:\n",
    "    pr_name_list.append(prov)\n",
    "    pr_uniquestations_list.append(len(np.unique(df_new_mi.ix[prov].index)))\n",
    "    \n",
    "df_unique_stations = pd.DataFrame(pr_uniquestations_list, index = pr_name_list, columns=['unique stations'])    \n",
    "df_unique_stations\n",
    "\n",
    "from collections import Counter\n",
    "count_pr = Counter(df_new['province'].tolist()).most_common()\n",
    "\n",
    "pr_unqna_list = []\n",
    "pr_unqva_list = []\n",
    "for i in range(len(count_pr)):\n",
    "    pr_unqna_list.append(count_pr[i][0])\n",
    "    pr_unqva_list.append(count_pr[i][1])    \n",
    "\n",
    "df_stations = pd.DataFrame(pr_unqva_list, index=pr_unqna_list, columns=['total observations'])\n",
    "df_stations.head()\n",
    "\n",
    "df_to_us = pd.concat((df_stations,df_unique_stations), axis=1).sort(['unique stations'], ascending=False)\n",
    "df_to_us.to_csv(r'D:\\Data\\NDAI_VHI_GROUNDTRUTH\\csv//total_unique_vegetation.csv')\n",
    "\n",
    "df_area = pd.Series([140000,82300,454000,236660,174000,33940,187700,469000,167000,185900,212000,166600,187400,146000,1200000,66400,720000,205600,156700,156000,487700,394000,101800],index=np.unique(df_new['province']))\n",
    "df_area_stations = pd.concat([df_stations,df_area], join='inner', axis=1)\n",
    "df_area_stations.columns = ['stations', 'area']\n",
    "df_area_stations.head()\n",
    "\n",
    "df_sel = df_area_stations['stations']/df_area_stations['area']*1000\n",
    "sel_names = df_sel[df_sel>=1].index"
   ]
  },
  {
   "cell_type": "code",
   "execution_count": null,
   "metadata": {
    "collapsed": false
   },
   "outputs": [],
   "source": [
    "plt.boxplot(grp['remote-sensing'].as_matrix(),positions=[8])\n",
    "plt.show()"
   ]
  },
  {
   "cell_type": "code",
   "execution_count": null,
   "metadata": {
    "collapsed": true
   },
   "outputs": [],
   "source": []
  },
  {
   "cell_type": "code",
   "execution_count": null,
   "metadata": {
    "collapsed": false
   },
   "outputs": [],
   "source": [
    "plt.figure(figsize=(10,5))\n",
    "ax = sns.boxplot((df_new_sel['remote-sensing'])/1000, groupby=df_new_sel['province'], fliersize=0.1)\n",
    "for item in ax.get_xticklabels():\n",
    "    item.set_rotation(45)\n",
    "title = 'VHI vs CMA'\n",
    "ylabel = 'VHI'\n",
    "ax.set_ylim(0,1)\n",
    "ax.set_title(title)\n",
    "ax.set_ylabel(ylabel)\n",
    "plt.tight_layout()\n",
    "#plt.savefig(r'C:\\Users\\lenovo\\Desktop//'+title+'.png', dpi=200)"
   ]
  },
  {
   "cell_type": "code",
   "execution_count": null,
   "metadata": {
    "collapsed": false
   },
   "outputs": [],
   "source": [
    "plt.figure(figsize=(10,5))\n",
    "# define outlier properties\n",
    "flierprops = dict(marker='o', markersize=5, color='k')\n",
    "ax = sns.boxplot((df_new_sel['remote-sensing'])/1000, groupby=df_new_sel['ground-truth'], fliersize=5,\n",
    "                flierprops=flierprops)\n",
    "for item in ax.get_xticklabels():\n",
    "    item.set_rotation(45)\n",
    "title = 'VHI vs CMA'\n",
    "ylabel = 'VHI'\n",
    "ax.set_ylim(0,1)\n",
    "ax.set_title(title)\n",
    "ax.set_ylabel(ylabel)\n",
    "plt.tight_layout()\n",
    "#plt.savefig(r'C:\\Users\\lenovo\\Desktop//'+title+'.png', dpi=200)"
   ]
  },
  {
   "cell_type": "code",
   "execution_count": null,
   "metadata": {
    "collapsed": false
   },
   "outputs": [],
   "source": [
    "df_stations.head()"
   ]
  },
  {
   "cell_type": "code",
   "execution_count": null,
   "metadata": {
    "collapsed": false
   },
   "outputs": [],
   "source": []
  },
  {
   "cell_type": "code",
   "execution_count": null,
   "metadata": {
    "collapsed": false
   },
   "outputs": [],
   "source": []
  },
  {
   "cell_type": "code",
   "execution_count": null,
   "metadata": {
    "collapsed": false
   },
   "outputs": [],
   "source": [
    "sel_names[0]"
   ]
  },
  {
   "cell_type": "code",
   "execution_count": null,
   "metadata": {
    "collapsed": false
   },
   "outputs": [],
   "source": [
    "ax = sns.boxplot(df_new['remote-sensing'], groupby=df_new['ground-truth'])\n",
    "ax.set_xticklabels(['light', 'medium','heavy'])\n",
    "ax.set_title('NDAI vs CMA')"
   ]
  },
  {
   "cell_type": "code",
   "execution_count": null,
   "metadata": {
    "collapsed": false
   },
   "outputs": [],
   "source": [
    "df = df_concat[df_concat['gt']>0]"
   ]
  },
  {
   "cell_type": "code",
   "execution_count": null,
   "metadata": {
    "collapsed": false
   },
   "outputs": [],
   "source": [
    "%%timeit\n",
    "row_labels = df.index[(df.index.to_series() - df.index.to_series().shift(2)) == pd.Timedelta(2, unit='d')]\n",
    "rows = [x - pd.Timedelta(n, unit='d') for n in range(0,3) for x in row_labels]\n",
    "rows = sorted(rows)\n",
    "df1 = df.loc[rows].groupby(df.loc[rows].index).first()"
   ]
  },
  {
   "cell_type": "code",
   "execution_count": null,
   "metadata": {
    "collapsed": false
   },
   "outputs": [],
   "source": [
    "idx = pd.DatetimeIndex(['2003-04-10', '2003-04-11', '2003-04-12', '2003-04-13','2003-04-17','2003-05-02', '2003-05-03', '2003-05-04','2003-07-23', '2003-07-24'])\n",
    "df = pd.DataFrame(np.random.random((10,2)),index=idx)\n",
    "df"
   ]
  },
  {
   "cell_type": "code",
   "execution_count": null,
   "metadata": {
    "collapsed": false
   },
   "outputs": [],
   "source": [
    "row_labels = df.index[(df.index.to_series() - df.index.to_series().shift(2)) == pd.Timedelta(2, unit='d')]\n",
    "rows = [x - pd.Timedelta(n, unit='d') for n in range(0,3) for x in row_labels]\n",
    "rows = sorted(rows)\n",
    "df.loc[rows].drop_duplicates()"
   ]
  },
  {
   "cell_type": "code",
   "execution_count": null,
   "metadata": {
    "collapsed": true
   },
   "outputs": [],
   "source": []
  }
 ],
 "metadata": {
  "kernelspec": {
   "display_name": "Python 2",
   "language": "python",
   "name": "python2"
  },
  "language_info": {
   "codemirror_mode": {
    "name": "ipython",
    "version": 2
   },
   "file_extension": ".py",
   "mimetype": "text/x-python",
   "name": "python",
   "nbconvert_exporter": "python",
   "pygments_lexer": "ipython2",
   "version": "2.7.6"
  }
 },
 "nbformat": 4,
 "nbformat_minor": 0
}
