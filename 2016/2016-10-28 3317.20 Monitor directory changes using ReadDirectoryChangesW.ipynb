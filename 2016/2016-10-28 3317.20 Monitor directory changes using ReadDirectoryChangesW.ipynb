{
 "cells": [
  {
   "cell_type": "code",
   "execution_count": 5,
   "metadata": {
    "collapsed": false
   },
   "outputs": [],
   "source": [
    "import os\n",
    "\n",
    "import win32file\n",
    "import win32con"
   ]
  },
  {
   "cell_type": "code",
   "execution_count": 7,
   "metadata": {
    "collapsed": true
   },
   "outputs": [],
   "source": [
    "ACTIONS = {\n",
    "  1 : \"Created\",\n",
    "  2 : \"Deleted\",\n",
    "  3 : \"Updated\",\n",
    "  4 : \"Renamed from something\",\n",
    "  5 : \"Renamed to something\"\n",
    "}\n",
    "# Thanks to Claudio Grondi for the correct set of numbers\n",
    "FILE_LIST_DIRECTORY = 0x0001\n",
    "\n",
    "path_to_watch = r'D:\\OMS_Waddenzee\\trunk\\fews\\ImportBackup\\geoxyz\\bodempeilingen\\ruweData'"
   ]
  },
  {
   "cell_type": "code",
   "execution_count": null,
   "metadata": {
    "collapsed": false
   },
   "outputs": [],
   "source": [
    "hDir = win32file.CreateFile (\n",
    "  path_to_watch,\n",
    "  FILE_LIST_DIRECTORY,\n",
    "  win32con.FILE_SHARE_READ | win32con.FILE_SHARE_WRITE | win32con.FILE_SHARE_DELETE,\n",
    "  None,\n",
    "  win32con.OPEN_EXISTING,\n",
    "  win32con.FILE_FLAG_BACKUP_SEMANTICS,\n",
    "  None\n",
    ")\n",
    "while 1:\n",
    "    #\n",
    "    # ReadDirectoryChangesW takes a previously-created\n",
    "    # handle to a directory, a buffer size for results,\n",
    "    # a flag to indicate whether to watch subtrees and\n",
    "    # a filter of what changes to notify.\n",
    "    #\n",
    "    # NB Tim Juchcinski reports that he needed to up\n",
    "    # the buffer size to be sure of picking up all\n",
    "    # events when a large number of files were\n",
    "    # deleted at once.\n",
    "    #\n",
    "    results = win32file.ReadDirectoryChangesW (        \n",
    "        hDir,\n",
    "        1024,\n",
    "        True,\n",
    "        win32con.FILE_NOTIFY_CHANGE_FILE_NAME |\n",
    "        win32con.FILE_NOTIFY_CHANGE_DIR_NAME |\n",
    "        win32con.FILE_NOTIFY_CHANGE_ATTRIBUTES |\n",
    "        win32con.FILE_NOTIFY_CHANGE_SIZE |\n",
    "        win32con.FILE_NOTIFY_CHANGE_LAST_WRITE |\n",
    "        win32con.FILE_NOTIFY_CHANGE_SECURITY,\n",
    "        None,\n",
    "        None\n",
    "        )\n",
    "    for action, file in results:            \n",
    "        full_filename = os.path.join (path_to_watch, file)\n",
    "        print (full_filename, ACTIONS.get (action, \"Unknown\"))"
   ]
  },
  {
   "cell_type": "markdown",
   "metadata": {},
   "source": [
    "# Another method"
   ]
  },
  {
   "cell_type": "code",
   "execution_count": 1,
   "metadata": {
    "collapsed": true
   },
   "outputs": [],
   "source": [
    "import os\n",
    "import datetime as dt"
   ]
  },
  {
   "cell_type": "code",
   "execution_count": null,
   "metadata": {
    "collapsed": true
   },
   "outputs": [],
   "source": [
    "path_to_watch = r'D:\\OMS_Waddenzee\\trunk\\fews\\ImportBackup\\geoxyz\\bodempeilingen\\ruweData'\n",
    "\n",
    "now = dt.datetime.now()\n",
    "ago = now-dt.timedelta(days=1)\n",
    "\n",
    "fname_new = []\n",
    "for root, dirs,files in os.walk(path_to_watch):  \n",
    "    for fname in files:\n",
    "        path = os.path.join(root, fname)\n",
    "        st = os.stat(path)    \n",
    "        atime = dt.datetime.fromtimestamp(st.st_atime)\n",
    "        if atime > ago:\n",
    "            fname_new.append(fname)\n",
    "#             print('%s modified %s'%(fname, atime))"
   ]
  },
  {
   "cell_type": "code",
   "execution_count": 14,
   "metadata": {
    "collapsed": false
   },
   "outputs": [
    {
     "data": {
      "text/plain": [
       "['Geoxyz_161001_testdataset1.pts',\n",
       " 'Geoxyz_161003_testdataset2.pts',\n",
       " 'Geoxyz_161010_testdataset3.pts',\n",
       " 'Geoxyz_161013_testdataset4a.pts',\n",
       " 'Geoxyz_161015_testdataset4b.pts',\n",
       " 'Geoxyz_161020_testdataset5.pts']"
      ]
     },
     "execution_count": 14,
     "metadata": {},
     "output_type": "execute_result"
    }
   ],
   "source": [
    "fname_new"
   ]
  },
  {
   "cell_type": "code",
   "execution_count": 25,
   "metadata": {
    "collapsed": false
   },
   "outputs": [],
   "source": [
    "import HTML\n",
    "\n",
    "table_data = [\n",
    "        ['Smith',       'John',         30],\n",
    "        ['Carpenter',   'Jack',         47],\n",
    "        ['Johnson',     'Paul',         62],\n",
    "    ]\n",
    "\n",
    "htmlcode = HTML.table(table_data,\n",
    "    header_row=['Last name',   'First name',   'Age'])\n",
    "print (htmlcode)"
   ]
  },
  {
   "cell_type": "code",
   "execution_count": null,
   "metadata": {
    "collapsed": true
   },
   "outputs": [],
   "source": [
    "['one','two','three','four','five','six','seven','eight','nine']"
   ]
  },
  {
   "cell_type": "code",
   "execution_count": 24,
   "metadata": {
    "collapsed": false
   },
   "outputs": [
    {
     "ename": "TypeError",
     "evalue": "'float' object cannot be interpreted as an integer",
     "output_type": "error",
     "traceback": [
      "\u001b[0;31m---------------------------------------------------------------------------\u001b[0m",
      "\u001b[0;31mTypeError\u001b[0m                                 Traceback (most recent call last)",
      "\u001b[0;32m<ipython-input-24-becd2ac23b38>\u001b[0m in \u001b[0;36m<module>\u001b[0;34m()\u001b[0m\n\u001b[1;32m      2\u001b[0m \u001b[0;34m\u001b[0m\u001b[0m\n\u001b[1;32m      3\u001b[0m \u001b[0mtest_data\u001b[0m \u001b[0;34m=\u001b[0m \u001b[0;34m[\u001b[0m\u001b[0mstr\u001b[0m\u001b[0;34m(\u001b[0m\u001b[0mx\u001b[0m\u001b[0;34m)\u001b[0m \u001b[0;32mfor\u001b[0m \u001b[0mx\u001b[0m \u001b[0;32min\u001b[0m \u001b[0mrange\u001b[0m\u001b[0;34m(\u001b[0m\u001b[0;36m20\u001b[0m\u001b[0;34m)\u001b[0m\u001b[0;34m]\u001b[0m\u001b[0;34m\u001b[0m\u001b[0m\n\u001b[0;32m----> 4\u001b[0;31m \u001b[0mformatted_data\u001b[0m \u001b[0;34m=\u001b[0m \u001b[0mfit_data_to_columns\u001b[0m\u001b[0;34m(\u001b[0m\u001b[0mtest_data\u001b[0m\u001b[0;34m,\u001b[0m \u001b[0mint\u001b[0m\u001b[0;34m(\u001b[0m\u001b[0;36m5\u001b[0m\u001b[0;34m)\u001b[0m\u001b[0;34m)\u001b[0m\u001b[0;34m\u001b[0m\u001b[0m\n\u001b[0m\u001b[1;32m      5\u001b[0m \u001b[0mtable\u001b[0m \u001b[0;34m=\u001b[0m \u001b[0mSimpleTable\u001b[0m\u001b[0;34m(\u001b[0m\u001b[0mformatted_data\u001b[0m\u001b[0;34m)\u001b[0m\u001b[0;34m\u001b[0m\u001b[0m\n\u001b[1;32m      6\u001b[0m \u001b[0mhtml_page\u001b[0m \u001b[0;34m=\u001b[0m \u001b[0mHTMLPage\u001b[0m\u001b[0;34m(\u001b[0m\u001b[0mtable\u001b[0m\u001b[0;34m)\u001b[0m\u001b[0;34m\u001b[0m\u001b[0m\n",
      "\u001b[0;32m<ipython-input-21-1a87634fc518>\u001b[0m in \u001b[0;36mfit_data_to_columns\u001b[0;34m(data, num_cols)\u001b[0m\n\u001b[1;32m    252\u001b[0m         \u001b[0mnum_iterations\u001b[0m \u001b[0;34m+=\u001b[0m \u001b[0;36m1\u001b[0m\u001b[0;34m\u001b[0m\u001b[0m\n\u001b[1;32m    253\u001b[0m \u001b[0;34m\u001b[0m\u001b[0m\n\u001b[0;32m--> 254\u001b[0;31m     \u001b[0;32mreturn\u001b[0m \u001b[0;34m[\u001b[0m\u001b[0mdata\u001b[0m\u001b[0;34m[\u001b[0m\u001b[0mnum_cols\u001b[0m\u001b[0;34m*\u001b[0m\u001b[0mi\u001b[0m\u001b[0;34m:\u001b[0m\u001b[0mnum_cols\u001b[0m\u001b[0;34m*\u001b[0m\u001b[0mi\u001b[0m \u001b[0;34m+\u001b[0m \u001b[0mnum_cols\u001b[0m\u001b[0;34m]\u001b[0m \u001b[0;32mfor\u001b[0m \u001b[0mi\u001b[0m \u001b[0;32min\u001b[0m \u001b[0mrange\u001b[0m\u001b[0;34m(\u001b[0m\u001b[0mnum_iterations\u001b[0m\u001b[0;34m)\u001b[0m\u001b[0;34m]\u001b[0m\u001b[0;34m\u001b[0m\u001b[0m\n\u001b[0m\u001b[1;32m    255\u001b[0m \u001b[0;34m\u001b[0m\u001b[0m\n\u001b[1;32m    256\u001b[0m \u001b[0;34m\u001b[0m\u001b[0m\n",
      "\u001b[0;31mTypeError\u001b[0m: 'float' object cannot be interpreted as an integer"
     ]
    }
   ],
   "source": [
    "# import simpletable\n",
    "\n",
    "test_data = [str(x) for x in range(20)]\n",
    "formatted_data = fit_data_to_columns(test_data, int(5))\n",
    "table = SimpleTable(formatted_data)\n",
    "html_page = HTMLPage(table)"
   ]
  },
  {
   "cell_type": "code",
   "execution_count": null,
   "metadata": {
    "collapsed": true
   },
   "outputs": [],
   "source": []
  }
 ],
 "metadata": {
  "kernelspec": {
   "display_name": "Python 3",
   "language": "python",
   "name": "python3"
  },
  "language_info": {
   "codemirror_mode": {
    "name": "ipython",
    "version": 3
   },
   "file_extension": ".py",
   "mimetype": "text/x-python",
   "name": "python",
   "nbconvert_exporter": "python",
   "pygments_lexer": "ipython3",
   "version": "3.5.2"
  }
 },
 "nbformat": 4,
 "nbformat_minor": 0
}
