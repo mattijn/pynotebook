{
 "cells": [
  {
   "cell_type": "code",
   "execution_count": 2,
   "metadata": {
    "collapsed": false
   },
   "outputs": [],
   "source": [
    "import pandas as pd"
   ]
  },
  {
   "cell_type": "code",
   "execution_count": 39,
   "metadata": {
    "collapsed": false
   },
   "outputs": [],
   "source": [
    "def to_xml(df, filename=None, mode='w'):\n",
    "    def row_to_xml(row):\n",
    "        xml = []\n",
    "        xml.append('<tableRecord discharge=\"{0}\" stage=\"{1}\"/>'.format(row.iloc[0], row.iloc[1]))\n",
    "        return '\\n'.join(xml)\n",
    "    res = '\\n'.join(df.apply(row_to_xml, axis=1))\n",
    "\n",
    "    if filename is None:\n",
    "        return res\n",
    "    with open(filename, mode) as f:\n",
    "        f.write(res)\n",
    "\n",
    "pd.DataFrame.to_xml = to_xml"
   ]
  },
  {
   "cell_type": "code",
   "execution_count": 43,
   "metadata": {
    "collapsed": false
   },
   "outputs": [
    {
     "data": {
      "text/html": [
       "<div>\n",
       "<table border=\"1\" class=\"dataframe\">\n",
       "  <thead>\n",
       "    <tr style=\"text-align: right;\">\n",
       "      <th></th>\n",
       "      <th>Q</th>\n",
       "      <th>H-a</th>\n",
       "      <th>H</th>\n",
       "    </tr>\n",
       "  </thead>\n",
       "  <tbody>\n",
       "    <tr>\n",
       "      <th>0</th>\n",
       "      <td>-2.31620</td>\n",
       "      <td>2.0</td>\n",
       "      <td>103.84</td>\n",
       "    </tr>\n",
       "    <tr>\n",
       "      <th>1</th>\n",
       "      <td>6.44875</td>\n",
       "      <td>2.5</td>\n",
       "      <td>104.34</td>\n",
       "    </tr>\n",
       "    <tr>\n",
       "      <th>2</th>\n",
       "      <td>17.69250</td>\n",
       "      <td>3.0</td>\n",
       "      <td>104.84</td>\n",
       "    </tr>\n",
       "    <tr>\n",
       "      <th>3</th>\n",
       "      <td>31.41505</td>\n",
       "      <td>3.5</td>\n",
       "      <td>105.34</td>\n",
       "    </tr>\n",
       "    <tr>\n",
       "      <th>4</th>\n",
       "      <td>47.61640</td>\n",
       "      <td>4.0</td>\n",
       "      <td>105.84</td>\n",
       "    </tr>\n",
       "  </tbody>\n",
       "</table>\n",
       "</div>"
      ],
      "text/plain": [
       "          Q  H-a       H\n",
       "0  -2.31620  2.0  103.84\n",
       "1   6.44875  2.5  104.34\n",
       "2  17.69250  3.0  104.84\n",
       "3  31.41505  3.5  105.34\n",
       "4  47.61640  4.0  105.84"
      ]
     },
     "execution_count": 43,
     "metadata": {},
     "output_type": "execute_result"
    }
   ],
   "source": [
    "df = pd.read_excel(r'D:\\2702.10\\RatingCurves/nabogo.xlsx')\n",
    "df.head()"
   ]
  },
  {
   "cell_type": "code",
   "execution_count": 42,
   "metadata": {
    "collapsed": true
   },
   "outputs": [],
   "source": [
    "df.ix[:,['Q','H']].to_xml(r'D:\\2702.10\\RatingCurves\\nabogo.xml')"
   ]
  },
  {
   "cell_type": "code",
   "execution_count": 34,
   "metadata": {
    "collapsed": false
   },
   "outputs": [
    {
     "data": {
      "text/plain": [
       "'<tableRecord discharge=\"-2.3162\" stage=\"103.84\"/>'"
      ]
     },
     "execution_count": 34,
     "metadata": {},
     "output_type": "execute_result"
    }
   ],
   "source": []
  },
  {
   "cell_type": "code",
   "execution_count": null,
   "metadata": {
    "collapsed": true
   },
   "outputs": [],
   "source": []
  }
 ],
 "metadata": {
  "kernelspec": {
   "display_name": "Python 2",
   "language": "python",
   "name": "python2"
  },
  "language_info": {
   "codemirror_mode": {
    "name": "ipython",
    "version": 2
   },
   "file_extension": ".py",
   "mimetype": "text/x-python",
   "name": "python",
   "nbconvert_exporter": "python",
   "pygments_lexer": "ipython2",
   "version": "2.7.12"
  }
 },
 "nbformat": 4,
 "nbformat_minor": 0
}
