{
 "cells": [
  {
   "cell_type": "code",
   "execution_count": 2,
   "metadata": {
    "collapsed": false
   },
   "outputs": [],
   "source": [
    "import os\n",
    "from pathlib import Path\n",
    "import itertools\n",
    "import logging\n",
    "import subprocess as sp"
   ]
  },
  {
   "cell_type": "code",
   "execution_count": 3,
   "metadata": {
    "collapsed": false
   },
   "outputs": [],
   "source": [
    "rootDir = r'D:\\OMS_Waddenzee\\trunk\\fews'\n",
    "asciiDataDir = os.path.join(rootDir, r'Import\\geoxyz\\bodempeilingen\\asciiData')\n",
    "workdir = os.path.join(rootDir, r'ImportInterim\\geoxyz\\bodempeilingen\\tmpData')\n",
    "xmldir = os.path.join(rootDir, r'ImportInterim\\geoxyz\\bodempeilingen\\XMLGenerated')\n",
    "logFile = os.path.join(rootDir, r'ImportInterim\\geoxyz\\bodempeilingen//log_file.out')"
   ]
  },
  {
   "cell_type": "code",
   "execution_count": 4,
   "metadata": {
    "collapsed": true
   },
   "outputs": [],
   "source": [
    "logger = logging.getLogger('survey2arcinfoascii')\n",
    "hdlr = logging.FileHandler(logFile)\n",
    "formatter = logging.Formatter('%(asctime)s %(levelname)s %(message)s')\n",
    "hdlr.setFormatter(formatter)\n",
    "logger.addHandler(hdlr) \n",
    "logger.setLevel(logging.INFO)"
   ]
  },
  {
   "cell_type": "code",
   "execution_count": 5,
   "metadata": {
    "collapsed": true
   },
   "outputs": [],
   "source": [
    "rootOgrGdal = r'C:\\Python35\\Lib\\site-packages\\osgeo'\n",
    "ogr2ogr = os.path.join(rootOgrGdal, 'ogr2ogr.exe')\n",
    "gdalwarp = os.path.join(rootOgrGdal, 'gdalwarp.exe')\n",
    "gdal_rasterize = os.path.join(rootOgrGdal, 'gdal_rasterize.exe')\n",
    "gdal_translate = os.path.join(rootOgrGdal, 'gdal_translate.exe')\n",
    "gdalbuildvrt = os.path.join(rootOgrGdal, 'gdalbuildvrt.exe')\n",
    "gdalinfo = os.path.join(rootOgrGdal, 'gdalinfo.exe')\n",
    "ogrinfo = os.path.join(rootOgrGdal, 'ogrinfo.exe')"
   ]
  },
  {
   "cell_type": "code",
   "execution_count": 6,
   "metadata": {
    "collapsed": true
   },
   "outputs": [],
   "source": [
    "def iter_incrementing_file_names(path):\n",
    "    \"\"\"\n",
    "    Iterate incrementing file names. Start with path and add \" (n)\" before the\n",
    "    extension, where n starts at 1 and increases.\n",
    "\n",
    "    :param path: Some path\n",
    "    :return: An iterator.\n",
    "    \"\"\"\n",
    "    yield path\n",
    "    prefix, ext = os.path.splitext(path)\n",
    "    for i in itertools.count(start=1, step=1):\n",
    "        no = str(i).zfill(2)\n",
    "        # yield prefix + '_{0}'.format(i) + ext\n",
    "        yield prefix + '_'+no + ext\n",
    "\n",
    "def get_unique_filename(file_in):\n",
    "    for filename in iter_incrementing_file_names(file_in):\n",
    "        new_fn = Path(filename)\n",
    "        if new_fn.is_file():\n",
    "            pass\n",
    "        else:\n",
    "            return filename\n",
    "\n",
    "\n",
    "# In[4]:\n",
    "\n",
    "def filterbyvalue(seq, value, end_prefix):\n",
    "    for el in seq:\n",
    "#         print (el)\n",
    "        if el[0:end_prefix]==value: \n",
    "            yield el\n",
    "\n",
    "\n",
    "# In[5]:\n",
    "\n",
    "def get_unique_lists(in_files, end_prefix = 10):\n",
    "    all_lists = []\n",
    "    for idx in range(len(in_files)):\n",
    "        new_list = []\n",
    "        for inf in filterbyvalue(in_files, in_files[idx][0:end_prefix], end_prefix):\n",
    "            new_list.append(inf)\n",
    "#         print (new_list)\n",
    "        all_lists.append(new_list)\n",
    "    unique_data = [list(x) for x in set(tuple(x) for x in all_lists)]\n",
    "    return ([item for item in unique_data if len(item) > 1])"
   ]
  },
  {
   "cell_type": "code",
   "execution_count": 49,
   "metadata": {
    "collapsed": true
   },
   "outputs": [],
   "source": [
    "def saveRaster(path, array, dsSource, datatype=3, formatraster=\"GTiff\", nan=None): \n",
    "    \"\"\"\n",
    "    Datatypes:\n",
    "    unknown = 0\n",
    "    byte = 1\n",
    "    unsigned int16 = 2\n",
    "    signed int16 = 3\n",
    "    unsigned int32 = 4\n",
    "    signed int32 = 5\n",
    "    float32 = 6\n",
    "    float64 = 7\n",
    "    complex int16 = 8\n",
    "    complex int32 = 9\n",
    "    complex float32 = 10\n",
    "    complex float64 = 11\n",
    "    float32 = 6, \n",
    "    signed int = 3\n",
    "    \n",
    "    Formatraster:\n",
    "    GeoTIFF = GTiff\n",
    "    Erdas = HFA (output = .img)\n",
    "    OGC web map service = WMS\n",
    "    png = PNG\n",
    "    \"\"\"\n",
    "    # Set Driver\n",
    "    format_ = formatraster #save as format\n",
    "    driver = gdal.GetDriverByName( format_ )\n",
    "    driver.Register()\n",
    "    \n",
    "    # Set Metadata for Raster output\n",
    "    cols = dsSource.RasterXSize\n",
    "    rows = dsSource.RasterYSize\n",
    "    bands = dsSource.RasterCount\n",
    "    datatype = datatype#band.DataType\n",
    "    \n",
    "    # Set Projection for Raster\n",
    "    outDataset = driver.Create(path, cols, rows, bands, datatype)\n",
    "    geoTransform = dsSource.GetGeoTransform()\n",
    "    outDataset.SetGeoTransform(geoTransform)\n",
    "    proj = dsSource.GetProjection()\n",
    "    outDataset.SetProjection(proj)\n",
    "    \n",
    "    # Write output to band 1 of new Raster and write NaN value\n",
    "    outBand = outDataset.GetRasterBand(1)\n",
    "    if nan != None:\n",
    "        outBand.SetNoDataValue(nan)\n",
    "    outBand.WriteArray(array) #save input array\n",
    "    #outBand.WriteArray(dem)\n",
    "    outBand.GetStatistics(0,1)\n",
    "    # Close and finalise newly created Raster\n",
    "    #F_M01 = None\n",
    "    outBand = None\n",
    "    proj = None\n",
    "    geoTransform = None\n",
    "    outDataset = None\n",
    "    driver = None\n",
    "    datatype = None\n",
    "    bands = None\n",
    "    rows = None\n",
    "    cols = None\n",
    "    driver = None\n",
    "    array = None"
   ]
  },
  {
   "cell_type": "code",
   "execution_count": null,
   "metadata": {
    "collapsed": true
   },
   "outputs": [],
   "source": []
  },
  {
   "cell_type": "code",
   "execution_count": 10,
   "metadata": {
    "collapsed": false
   },
   "outputs": [],
   "source": [
    "# merge ascis from same date and same grid\n",
    "asc_files = []\n",
    "for file in os.listdir(asciiDataDir):\n",
    "    if file.endswith(\".asc\"):\n",
    "        asc_files.append(file)\n",
    "\n",
    "grid_date_groups = get_unique_lists(asc_files, 18) # 18 is geoxyz_ + timestamp yymmddhh"
   ]
  },
  {
   "cell_type": "code",
   "execution_count": null,
   "metadata": {
    "collapsed": false,
    "scrolled": true
   },
   "outputs": [],
   "source": [
    "# if none groups exist, do quit\n",
    "if len(grid_date_groups) > 0:\n",
    "\n",
    "    for group in grid_date_groups:\n",
    "        i = os.path.join(asciiDataDir, group[0]) # path to first ascii file    \n",
    "        j = get_unique_filename(os.path.join(workdir,'grid_date_group.txt'))\n",
    "        with open(j, 'w') as thefile:\n",
    "            for grid in group:\n",
    "                thefile.write(\"%s\\n\" % os.path.join(asciiDataDir, grid))\n",
    "\n",
    "        # 10 Create VRT from ascii group \n",
    "        k = get_unique_filename(os.path.join(workdir,'group_'+group[0][0:7]+'.vrt')) # create unique vrt file\n",
    "        command = [gdalbuildvrt, '-input_file_list',  j, k]\n",
    "        logger.info (sp.list2cmdline(command))\n",
    "        # print (sp.list2cmdline(command))\n",
    "        norm = sp.Popen(sp.list2cmdline(command),stdout=sp.PIPE, shell=True)\n",
    "        norm.communicate()\n",
    "\n",
    "        # 11 Merge VRT to ascii-grid\n",
    "        l = get_unique_filename(i) # create unique asc file\n",
    "        command = [gdal_translate, '-of', 'AAIGrid', k, l]\n",
    "        logger.info (sp.list2cmdline(command))\n",
    "        # print (sp.list2cmdline(command))\n",
    "        norm = sp.Popen(sp.list2cmdline(command),stdout=sp.PIPE, shell=True)\n",
    "        norm.communicate()\n",
    "\n",
    "        # remove grids from before merge and change grid from new_name to org_name\n",
    "        try:\n",
    "            for grid in group:\n",
    "                os.remove(os.path.join(asciiDataDir, grid))    \n",
    "            os.rename(l, i)\n",
    "        except Exception as ex:\n",
    "            logger.info (ex)\n",
    "            continue   "
   ]
  },
  {
   "cell_type": "code",
   "execution_count": 11,
   "metadata": {
    "collapsed": false
   },
   "outputs": [
    {
     "data": {
      "text/plain": [
       "[['grid076_20160331120000.asc', 'grid076_20160331120000_01.asc']]"
      ]
     },
     "execution_count": 11,
     "metadata": {},
     "output_type": "execute_result"
    }
   ],
   "source": [
    "grid_date_groups"
   ]
  },
  {
   "cell_type": "code",
   "execution_count": 12,
   "metadata": {
    "collapsed": false
   },
   "outputs": [],
   "source": [
    "from osgeo import gdal\n",
    "import numpy as np\n",
    "from matplotlib import pyplot as plt\n",
    "%matplotlib inline"
   ]
  },
  {
   "cell_type": "code",
   "execution_count": 50,
   "metadata": {
    "collapsed": false
   },
   "outputs": [
    {
     "name": "stdout",
     "output_type": "stream",
     "text": [
      "C:\\Python35\\Lib\\site-packages\\osgeo\\gdal_translate.exe -of AAIGrid -a_nodata -9999 D:\\OMS_Waddenzee\\trunk\\fews\\Import\\geoxyz\\bodempeilingen\\asciiData\\grid076_20160331120000_02dfg.tif D:\\OMS_Waddenzee\\trunk\\fews\\Import\\geoxyz\\bodempeilingen\\asciiData\\grid076_20160331120000_02dfg.asc\n"
     ]
    },
    {
     "name": "stderr",
     "output_type": "stream",
     "text": [
      "c:\\python35\\lib\\site-packages\\ipykernel\\__main__.py:18: MaskedArrayFutureWarning: setting an item on a masked array which has a shared mask will not copy the mask and also change the original mask array in the future.\n",
      "Check the NumPy 1.11 release notes for more information.\n"
     ]
    }
   ],
   "source": [
    "for group in grid_date_groups:\n",
    "    i = os.path.join(asciiDataDir, group[0])\n",
    "    ds_i = gdal.Open(i, gdal.GA_ReadOnly)\n",
    "    ds_d = ds_i.ReadAsArray()\n",
    "    ds_d_cp = np.copy(ds_d)\n",
    "    ds_d_cp = np.ma.masked_equal(ds_d_cp, -9999.)\n",
    "    \n",
    "    for idx in range(len(group)-1):\n",
    "        j = os.path.join(asciiDataDir, group[idx+1])\n",
    "        ds = gdal.Open(j, gdal.GA_ReadOnly).ReadAsArray()\n",
    "        ds_msk = np.ma.masked_equal(ds, -9999.)\n",
    "        \n",
    "        # get first slice of copy, get second slice of original\n",
    "        k = ds_d_cp[::] \n",
    "        l = ds_msk[::]  \n",
    "\n",
    "        # update first slice based on second slice\n",
    "        k[~l.mask] = l.compressed()\n",
    "        \n",
    "    # create file \n",
    "    m = get_unique_filename(i)[:-4]+'.tif'\n",
    "    saveRaster(m, ds_d_cp.data, ds_i, datatype=7, formatraster=\"GTiff\", nan=-9999.)\n",
    "\n",
    "    # covert to AAIGrid\n",
    "    # 11 Merge VRT to ascii-grid\n",
    "    n = m[:-4]+'.asc' # create unique asc file\n",
    "    command = [gdal_translate, '-of', 'AAIGrid', '-a_nodata', '-9999', m, n]\n",
    "    logger.info (sp.list2cmdline(command))\n",
    "    print (sp.list2cmdline(command))\n",
    "    norm = sp.Popen(sp.list2cmdline(command),stdout=sp.PIPE, shell=True)\n",
    "    norm.communicate()    "
   ]
  },
  {
   "cell_type": "code",
   "execution_count": 38,
   "metadata": {
    "collapsed": false
   },
   "outputs": [
    {
     "data": {
      "text/plain": [
       "[['grid076_20160331120000.asc', 'grid076_20160331120000_01.asc']]"
      ]
     },
     "execution_count": 38,
     "metadata": {},
     "output_type": "execute_result"
    }
   ],
   "source": [
    "grid_date_groups"
   ]
  },
  {
   "cell_type": "code",
   "execution_count": 21,
   "metadata": {
    "collapsed": false
   },
   "outputs": [
    {
     "data": {
      "text/plain": [
       "<matplotlib.image.AxesImage at 0x9367fd0>"
      ]
     },
     "execution_count": 21,
     "metadata": {},
     "output_type": "execute_result"
    },
    {
     "data": {
      "image/png": "[encoded data removed]",
      "text/plain": [
       "<matplotlib.figure.Figure at 0x91d7f60>"
      ]
     },
     "metadata": {},
     "output_type": "display_data"
    }
   ],
   "source": [
    "plt.imshow(ds_d_cp.data)"
   ]
  },
  {
   "cell_type": "code",
   "execution_count": 17,
   "metadata": {
    "collapsed": false
   },
   "outputs": [
    {
     "data": {
      "text/plain": [
       "<matplotlib.image.AxesImage at 0x8ec9a90>"
      ]
     },
     "execution_count": 17,
     "metadata": {},
     "output_type": "execute_result"
    },
    {
     "data": {
      "image/png": "[encoded data removed]",
      "text/plain": [
       "<matplotlib.figure.Figure at 0x8192898>"
      ]
     },
     "metadata": {},
     "output_type": "display_data"
    }
   ],
   "source": [
    "plt.imshow(k)"
   ]
  },
  {
   "cell_type": "code",
   "execution_count": 37,
   "metadata": {
    "collapsed": false
   },
   "outputs": [
    {
     "data": {
      "text/plain": [
       "<matplotlib.image.AxesImage at 0x7d4fc18>"
      ]
     },
     "execution_count": 37,
     "metadata": {},
     "output_type": "execute_result"
    },
    {
     "data": {
      "image/png": "[encoded data removed]",
      "text/plain": [
       "<matplotlib.figure.Figure at 0x7e46f28>"
      ]
     },
     "metadata": {},
     "output_type": "display_data"
    }
   ],
   "source": [
    "plt.imshow(k.data)"
   ]
  },
  {
   "cell_type": "code",
   "execution_count": 25,
   "metadata": {
    "collapsed": false
   },
   "outputs": [
    {
     "data": {
      "text/plain": [
       "-9999.0"
      ]
     },
     "execution_count": 25,
     "metadata": {},
     "output_type": "execute_result"
    }
   ],
   "source": [
    "np.unique(k.data)[0]"
   ]
  },
  {
   "cell_type": "code",
   "execution_count": 23,
   "metadata": {
    "collapsed": false
   },
   "outputs": [
    {
     "data": {
      "text/plain": [
       "(620, 425)"
      ]
     },
     "execution_count": 23,
     "metadata": {},
     "output_type": "execute_result"
    }
   ],
   "source": [
    "k.shape"
   ]
  },
  {
   "cell_type": "code",
   "execution_count": 24,
   "metadata": {
    "collapsed": false
   },
   "outputs": [
    {
     "data": {
      "text/plain": [
       "(620, 425)"
      ]
     },
     "execution_count": 24,
     "metadata": {},
     "output_type": "execute_result"
    }
   ],
   "source": [
    "ds_d_cp.shape"
   ]
  },
  {
   "cell_type": "code",
   "execution_count": null,
   "metadata": {
    "collapsed": true
   },
   "outputs": [],
   "source": []
  }
 ],
 "metadata": {
  "kernelspec": {
   "display_name": "Python 3",
   "language": "python",
   "name": "python3"
  },
  "language_info": {
   "codemirror_mode": {
    "name": "ipython",
    "version": 3
   },
   "file_extension": ".py",
   "mimetype": "text/x-python",
   "name": "python",
   "nbconvert_exporter": "python",
   "pygments_lexer": "ipython3",
   "version": "3.5.2"
  }
 },
 "nbformat": 4,
 "nbformat_minor": 0
}
