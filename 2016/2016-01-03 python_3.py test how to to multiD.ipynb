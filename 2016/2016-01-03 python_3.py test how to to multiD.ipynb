{
 "cells": [
  {
   "cell_type": "code",
   "execution_count": 1,
   "metadata": {
    "collapsed": false
   },
   "outputs": [],
   "source": [
    "#from pywps.Process import WPSProcess  \n",
    "from types import FloatType\n",
    "from lxml import etree\n",
    "#import xml.etree.cElementTree as etree\n",
    "import urllib2\n",
    "import jdcal\n",
    "import numpy as np\n",
    "import cStringIO\n",
    "from cStringIO import StringIO\n",
    "import pandas as pd\n",
    "import json\n",
    "import datetime\n",
    "import logging\n",
    "\n",
    "def GetCoverageNames():\n",
    "    file_json = r'D:\\tmp//coverages_names.json'\n",
    "    with open(file_json) as json_data:\n",
    "        d = json.load(json_data)\n",
    "    _CoverageID_NDVI = d['COVG_NAME_NDVI_MOD13C1005']\n",
    "    _CoverageID_LST  = d['COVG_NAME_LST_MOD11C2005']\n",
    "    return _CoverageID_NDVI, _CoverageID_LST\n",
    "\n",
    "# --------*-*-*-*-*-*--------  WPSProcess  --------*-*-*-*-*-*--------  WPSProcess  --------*-*-*-*-*-*-----\n",
    "# Computing diagonal for each row of a 2d array. See: http://stackoverflow.com/q/27214027/2459096\n",
    "def makediag3d(M):\n",
    "    b = np.zeros((M.shape[0], M.shape[1] * M.shape[1]))\n",
    "    b[:, ::M.shape[1] + 1] = M\n",
    "    \n",
    "    logging.info('function `makediag3d` complete')    \n",
    "    return b.reshape(M.shape[0], M.shape[1], M.shape[1]) \n",
    "\n",
    "def get_starter_matrix(base_period_len, sample_count, frequencies_considered_count):\n",
    "    nr = min(2 * frequencies_considered_count + 1,\n",
    "                  sample_count)  # number of 2*+1 frequencies, or number of input images\n",
    "    mat = np.zeros(shape=(nr, sample_count))\n",
    "    mat[0, :] = 1\n",
    "    ang = 2 * np.pi * np.arange(base_period_len) / base_period_len\n",
    "    cs = np.cos(ang)\n",
    "    sn = np.sin(ang)\n",
    "    # create some standard sinus and cosinus functions and put in matrix\n",
    "    i = np.arange(1, frequencies_considered_count + 1)\n",
    "    ts = np.arange(sample_count)\n",
    "    for column in xrange(sample_count):\n",
    "        index = np.mod(i * ts[column], base_period_len)\n",
    "        # index looks like 000, 123, 246, etc, until it wraps around (for len(i)==3)\n",
    "        mat[2 * i - 1, column] = cs.take(index)\n",
    "        mat[2 * i, column] = sn.take(index)\n",
    "\n",
    "    logging.info('function `get_starter_matrix` complete')\n",
    "    return mat\n",
    "\n",
    "def HANTS(sample_count, inputs,\n",
    "          frequencies_considered_count=3,\n",
    "          outliers_to_reject='Lo',\n",
    "          low=0., high=255,\n",
    "          fit_error_tolerance=5,\n",
    "          delta=0.1):\n",
    "    \"\"\"\n",
    "    Function to apply the Harmonic analysis of time series applied to arrays\n",
    "\n",
    "    sample_count    = nr. of images (total number of actual samples of the time series)\n",
    "    base_period_len    = length of the base period, measured in virtual samples\n",
    "            (days, dekads, months, etc.)\n",
    "    frequencies_considered_count    = number of frequencies to be considered above the zero frequency\n",
    "    inputs     = array of input sample values (e.g. NDVI values)\n",
    "    ts    = array of size sample_count of time sample indicators\n",
    "            (indicates virtual sample number relative to the base period);\n",
    "            numbers in array ts maybe greater than base_period_len\n",
    "            If no aux file is used (no time samples), we assume ts(i)= i,\n",
    "            where i=1, ..., sample_count\n",
    "    outliers_to_reject  = 2-character string indicating rejection of high or low outliers\n",
    "            select from 'Hi', 'Lo' or 'None'\n",
    "    low   = valid range minimum\n",
    "    high  = valid range maximum (values outside the valid range are rejeced\n",
    "            right away)\n",
    "    fit_error_tolerance   = fit error tolerance (points deviating more than fit_error_tolerance from curve\n",
    "            fit are rejected)\n",
    "    dod   = degree of overdeterminedness (iteration stops if number of\n",
    "            points reaches the minimum required for curve fitting, plus\n",
    "            dod). This is a safety measure\n",
    "    delta = small positive number (e.g. 0.1) to suppress high amplitudes\n",
    "    \"\"\"\n",
    "\n",
    "    # define some parameters\n",
    "    base_period_len = sample_count  #\n",
    "\n",
    "    # check which setting to set for outlier filtering\n",
    "    if outliers_to_reject == 'Hi':\n",
    "        sHiLo = -1\n",
    "    elif outliers_to_reject == 'Lo':\n",
    "        sHiLo = 1\n",
    "    else:\n",
    "        sHiLo = 0\n",
    "\n",
    "    nr = min(2 * frequencies_considered_count + 1,\n",
    "             sample_count)  # number of 2*+1 frequencies, or number of input images\n",
    "\n",
    "    # create empty arrays to fill\n",
    "    outputs = np.zeros(shape=(inputs.shape[0], sample_count))\n",
    "\n",
    "    mat = get_starter_matrix(base_period_len, sample_count, frequencies_considered_count)\n",
    "\n",
    "    # repeat the mat array over the number of arrays in inputs\n",
    "    # and create arrays with ones with shape inputs where high and low values are set to 0\n",
    "    mat = np.tile(mat[None].T, (1, inputs.shape[0])).T\n",
    "    p = np.ones_like(inputs)\n",
    "    p[(low >= inputs) | (inputs > high)] = 0\n",
    "    nout = np.sum(p == 0, axis=-1)  # count the outliers for each timeseries\n",
    "\n",
    "    # prepare for while loop\n",
    "    ready = np.zeros((inputs.shape[0]), dtype=bool)  # all timeseries set to false\n",
    "\n",
    "    dod = 1  # (2*frequencies_considered_count-1)  # Um, no it isn't :/\n",
    "    noutmax = sample_count - nr - dod\n",
    "    # prepare to add delta to suppress high amplitudes but not for [0,0]\n",
    "    Adelta = np.tile(np.diag(np.ones(nr))[None].T, (1, inputs.shape[0])).T * delta\n",
    "    Adelta[:, 0, 0] -= delta\n",
    "    \n",
    "    for _ in xrange(sample_count):\n",
    "        if ready.all():\n",
    "            break        \n",
    "        \n",
    "        # multiply outliers with timeseries\n",
    "        za = np.einsum('ijk,ik->ij', mat, p * inputs)\n",
    "        #print za\n",
    "\n",
    "        # multiply mat with the multiplication of multiply diagonal of p with transpose of mat\n",
    "        diag = makediag3d(p)\n",
    "        #print diag\n",
    "        \n",
    "        A = np.einsum('ajk,aki->aji', mat, np.einsum('aij,jka->ajk', diag, mat.T))\n",
    "        # add delta to suppress high amplitudes but not for [0,0]\n",
    "        A += Adelta\n",
    "        #A[:, 0, 0] = A[:, 0, 0] - delta\n",
    "        #print A\n",
    "\n",
    "        # solve linear matrix equation and define reconstructed timeseries\n",
    "        zr = np.linalg.solve(A, za)\n",
    "        #print zr\n",
    "        \n",
    "        outputs = np.einsum('ijk,kj->ki', mat.T, zr)\n",
    "        #print outputs\n",
    "\n",
    "        # calculate error and sort err by index\n",
    "        err = p * (sHiLo * (outputs - inputs))\n",
    "        rankVec = np.argsort(err, axis=1, )\n",
    "\n",
    "        # select maximum error and compute new ready status\n",
    "        maxerr = np.max(err, axis=-1)\n",
    "        #maxerr = np.diag(err.take(rankVec[:, sample_count - 1], axis=-1))\n",
    "        ready = (maxerr <= fit_error_tolerance) | (nout == noutmax)        \n",
    "\n",
    "        # if ready is still false\n",
    "        if not ready.all():\n",
    "            j = rankVec.take(sample_count - 1, axis=-1)\n",
    "\n",
    "            p.T[j.T, np.indices(j.shape)] = p.T[j.T, np.indices(j.shape)] * ready.astype(\n",
    "                int)  #*check\n",
    "            nout += 1\n",
    "\n",
    "    logging.info('function `HANTS` complete')\n",
    "    return outputs\n",
    "\n",
    "def convert_ansi_date(date, offset=0.5):\n",
    "    logging.info('function `convert_ansi_date` complete')\n",
    "    return jdcal.jd2gcal(2305812.5, date + offset) # 0.5 offset is to adjust from night to noon\n",
    "\n",
    "def unix_time(dt):\n",
    "    epoch = datetime.datetime.utcfromtimestamp(0)\n",
    "    delta = dt - epoch\n",
    "    logging.info('function `unix_time` complete')\n",
    "    return delta.total_seconds()    \n",
    "\n",
    "def unix_time_millis(dt):\n",
    "    logging.info('function `unix_time_millis` complete')\n",
    "    return int(unix_time(dt) * 1000)\n",
    "\n",
    "def region(pixel):\n",
    "    \"\"\"\n",
    "    Extract pixel or regio:\n",
    "    region1pix = single lat/lon\n",
    "    region4pix = block of 4 pixels [2x2]\n",
    "    region9pix = block of 9 pixels [3x3]\n",
    "    \"\"\"\n",
    "    if pixel == 0:\n",
    "        regionpix = [0,0]\n",
    "    elif pixel == 4:\n",
    "        regionpix = [-0.025,0.025]\n",
    "    elif pixel == 9:\n",
    "        regionpix = [-0.075,0.075]\n",
    "    else:\n",
    "        return\n",
    "    return regionpix"
   ]
  },
  {
   "cell_type": "code",
   "execution_count": 2,
   "metadata": {
    "collapsed": false
   },
   "outputs": [],
   "source": [
    "pixOff = 4\n",
    "lonIn = 100\n",
    "latIn = 37\n",
    "covID = 'NDVI_MOD13C1005_uptodate'\n",
    "fromDateIn = '2014-01-01'\n",
    "toDateIn = '2015-01-01'\n",
    "#full_url = \"http://192.168.1.104:8080/rasdaman/ows/wcs2?service=WCS&version=2.0.1&request=GetCoverage&coverageId=\"+coverageID+\"&subset=Long(\"+Long1+\",\"+Long2+\")&subset=Lat(\"+Lat1+\",\"+Lat2+\")&subset=ansi(\"+str(from_date)+\",\"+str(to_date)+\")\""
   ]
  },
  {
   "cell_type": "code",
   "execution_count": 77,
   "metadata": {
    "collapsed": false
   },
   "outputs": [
    {
     "name": "stdout",
     "output_type": "stream",
     "text": [
      "irregular coverages\n",
      "0\n",
      "dates irregular\n"
     ]
    }
   ],
   "source": [
    "regionpix = region(int(pixOff))\n",
    "\n",
    "Long1 = str(float(lonIn) + regionpix[0])\n",
    "Long2 = str(float(lonIn) + regionpix[1])\n",
    "Lat1 = str(float(latIn) + regionpix[0])\n",
    "Lat2 = str(float(latIn) + regionpix[1])\n",
    "\n",
    "coverageID = covID\n",
    "from_date = fromDateIn\n",
    "to_date = toDateIn\n",
    "\n",
    "full_url = \"http://192.168.1.104:8080/rasdaman/ows/wcs2?service=WCS&version=2.0.1&request=GetCoverage&coverageId=\"+coverageID+\"&subset=Long(\"+Long1+\",\"+Long2+\")&subset=Lat(\"+Lat1+\",\"+Lat2+\")&subset=ansi(%22\"+str(from_date)+\"%22,%22\"+str(to_date)+\"%22)\"\n",
    "logging.info(full_url)\n",
    "f = urllib2.urlopen(full_url)  \n",
    "f_ = f.read()\n",
    "\n",
    "CoverageID_NDVI, CoverageID_LST = GetCoverageNames()\n",
    "\n",
    "if f_[0:400].split('\"')[5] == CoverageID_LST: \n",
    "    scaling_value = 1000.\n",
    "if f_[0:400].split('\"')[5] == CoverageID_NDVI:\n",
    "    scaling_value = 10000.   \n",
    "\n",
    "logging.info(scaling_value)\n",
    "root = etree.fromstring(f_)    \n",
    "\n",
    "#parser = etree.XMLParser(encoding=\"utf-8\")\n",
    "#xml_in = self.input.getValue()\n",
    "\n",
    "\n",
    "#tree = etree.parse(xml_in, parser=parser)\n",
    "\n",
    "#logging.info(tree)\n",
    "\n",
    "\n",
    "\n",
    "#root = tree.getroot()  \n",
    "\n",
    "frequencies = int(3)\n",
    "variable_out = int(2)\n",
    "if variable_out == 1:\n",
    "    outliers = \"Hi\"    \n",
    "elif variable_out == 2:\n",
    "    outliers = \"Lo\"\n",
    "else:\n",
    "    outliers = \"None\"         \n",
    "\n",
    "\n",
    "# read grid envelope of domain set\n",
    "xml_low_env = cStringIO.StringIO(root[1][0][0][0][0].text)\n",
    "xml_high_env = cStringIO.StringIO(root[1][0][0][0][1].text)\n",
    "\n",
    "# load grid envelope as numpy array\n",
    "low_env = np.loadtxt(xml_low_env, dtype='int', delimiter=' ')\n",
    "high_env = np.loadtxt(xml_high_env, dtype='int', delimiter=' ')\n",
    "ts_shape = high_env - low_env + 1\n",
    "\n",
    "easting = ts_shape[0]\n",
    "northing = ts_shape[1]\n",
    "time = ts_shape[2]\n",
    "\n",
    "## extract the dates\n",
    "#sd = ansi_date_to_greg_date(low_env[2]+140734)\n",
    "#ed = ansi_date_to_greg_date(high_env[2]+140734)\n",
    "\n",
    "# extract the values we need from the parsed XML\n",
    "sta_date_ansi = np.loadtxt(cStringIO.StringIO(root[0][0][0].text))[2] # 150116\n",
    "end_date_ansi = np.loadtxt(cStringIO.StringIO(root[0][0][1].text))[2] # 150852\n",
    "sta_date_rasd = np.loadtxt(cStringIO.StringIO(root[1][0][0][0][0].text))[2] # 9382\n",
    "end_date_rasd = np.loadtxt(cStringIO.StringIO(root[1][0][0][0][1].text))[2] # 9427\n",
    "#timestep_date = np.loadtxt(cStringIO.StringIO(root[1][0][5].text))[2] # 16\n",
    "\n",
    "## compute the start and end-date\n",
    "#dif_date_anra = sta_date_ansi - sta_date_rasd\n",
    "#dif_date_rasd = end_date_rasd - sta_date_rasd + 1\n",
    "#end_date_anra = dif_date_rasd * timestep_date + sta_date_rasd + dif_date_anra\n",
    "\n",
    "#sd = convert_ansi_date(sta_date_ansi) # (2012, 1, 2, 0.5)\n",
    "#ed = convert_ansi_date(end_date_anra) # (2014, 1, 7, 0.5)\n",
    "\n",
    "## convert dates to pandas date_range\n",
    "#str_date = str(sd[1])+'.'+str(sd[2])+'.'+str(sd[0])+'.'+str(int(np.round(sd[3]*24)))+':00'\n",
    "#end_date = str(ed[1])+'.'+str(ed[2])+'.'+str(ed[0])+'.'+str(int(np.round(ed[3]*24)))+':00'\n",
    "#freq_date = str(int(timestep_date))+'D'\n",
    "#dates = pd.date_range(str_date,end_date, freq=freq_date)\n",
    "#dates = dates[:-1]\n",
    "\n",
    "#logging.info('dates converted from ANSI to ISO 8601')\n",
    "\n",
    "## read data block of range set\n",
    "#xml_ts = cStringIO.StringIO(root[2][0][1].text)\n",
    "\n",
    "## load data block as numpy array\n",
    "#ts = np.loadtxt(xml_ts, dtype='float', delimiter=',')         \n",
    "#ts_reshape = ts.reshape((easting*northing,time)) #Easting = ts_shape[0], Northing = ts_shape[1], time = ts_shape[2]\n",
    "\n",
    "try:\n",
    "    # check if regular coverage and ignore empty warnings\n",
    "    with warnings.catch_warnings(): \n",
    "        warnings.simplefilter(\"ignore\")\n",
    "        timestep_date = np.loadtxt(StringIO(root[1][0][5].text))[2] # 16    \n",
    "        cov_reg = 1\n",
    "        print 'regular coverages'\n",
    "except:        \n",
    "    # check if irregular coverage\n",
    "    array_stepsize = np.loadtxt(StringIO(root[1][0][5][0][1].text)) #array sample interval \n",
    "    cov_reg = 0    \n",
    "    print 'irregular coverages'    \n",
    "\n",
    "# compute the start and end-date\n",
    "dif_date_anra = sta_date_ansi - sta_date_rasd\n",
    "dif_date_rasd = end_date_rasd - sta_date_rasd + 1\n",
    "\n",
    "# convert dates to pandas date_range\n",
    "#str_date = pd.Timestamp.fromtimestamp((sta_date_ansi.astype('<m8[D]') - \n",
    "#                                       (np.datetime64('1970-01-01') - np.datetime64('1601-01-01'))\n",
    "#                                       ).astype('<m8[s]').astype(int))\n",
    "#end_date = pd.Timestamp.fromtimestamp((end_date_ansi.astype('<m8[D]') - \n",
    "#                                       (np.datetime64('1970-01-01') - np.datetime64('1601-01-01'))\n",
    "#                                       ).astype('<m8[s]').astype(int))\n",
    "str_date = pd.Timestamp(str(from_date)+' 08:00:00') # get start date from user input instead of rasdaman coverage\n",
    "end_date = pd.Timestamp(str(to_date)+' 08:00:00') # get end date from user input instead of rasdaman coverage\n",
    "\n",
    "print cov_reg\n",
    "if cov_reg == 1:\n",
    "    # regular coverage    \n",
    "    freq_date = str(int(timestep_date))+'D'\n",
    "    dates = pd.date_range(str_date,end_date, freq=freq_date)\n",
    "    dates = dates[:-1]\n",
    "    print 'dates regular'\n",
    "elif cov_reg == 0:\n",
    "    # irregular coverage\n",
    "    time_delta = pd.TimedeltaIndex(array_stepsize, unit = 'D')\n",
    "    dates = pd.Series(np.array(str_date).repeat(len(array_stepsize)))\n",
    "    dates += time_delta\n",
    "    print 'dates irregular'    \n",
    "\n",
    "logging.info('dates converted from ANSI to ISO 8601')    \n",
    "\n",
    "# read data block of range set\n",
    "xml_ts = StringIO(root[2][0][1].text)\n",
    "\n",
    "# load data block as numpy array\n",
    "ts = np.loadtxt(xml_ts, dtype='float', delimiter=',')\n",
    "\n",
    "try:\n",
    "    ts_reshape = ts.reshape((easting*northing,time)) #Easting = ts_shape[0], Northing = ts_shape[1], time = ts_shape[2]\n",
    "except:\n",
    "    # sometimes length regular coverages is incorrect\n",
    "    ts = ts[:-1]\n",
    "    ts_reshape = ts.reshape((easting*northing,time))\n",
    "%matplotlib inline\n",
    "import matplotlib.pyplot as plt"
   ]
  },
  {
   "cell_type": "code",
   "execution_count": 78,
   "metadata": {
    "collapsed": false
   },
   "outputs": [
    {
     "data": {
      "text/plain": [
       "<matplotlib.axes._subplots.AxesSubplot at 0x1136d240>"
      ]
     },
     "execution_count": 78,
     "metadata": {},
     "output_type": "execute_result"
    },
    {
     "data": {
      "image/png": "[encoded data removed]",
      "text/plain": [
       "<matplotlib.figure.Figure at 0x11360ac8>"
      ]
     },
     "metadata": {},
     "output_type": "display_data"
    }
   ],
   "source": [
    "ts_reshape_mean = ts_reshape.mean(axis=0)\n",
    "df_org = pd.DataFrame(ts_reshape_mean.flatten()/scaling_value,dates)\n",
    "df_org.plot()"
   ]
  },
  {
   "cell_type": "code",
   "execution_count": 48,
   "metadata": {
    "collapsed": false
   },
   "outputs": [
    {
     "ename": "LinAlgError",
     "evalue": "Singular matrix",
     "output_type": "error",
     "traceback": [
      "\u001b[1;31m---------------------------------------------------------------------------\u001b[0m",
      "\u001b[1;31mLinAlgError\u001b[0m                               Traceback (most recent call last)",
      "\u001b[1;32m<ipython-input-48-6456cee4ece1>\u001b[0m in \u001b[0;36m<module>\u001b[1;34m()\u001b[0m\n\u001b[0;32m      2\u001b[0m \u001b[0mfrequencies\u001b[0m \u001b[1;33m=\u001b[0m \u001b[0mnp\u001b[0m\u001b[1;33m.\u001b[0m\u001b[0mround\u001b[0m\u001b[1;33m(\u001b[0m\u001b[0mlen\u001b[0m\u001b[1;33m(\u001b[0m\u001b[0mts_reshape_mean\u001b[0m\u001b[1;33m)\u001b[0m \u001b[1;33m*\u001b[0m \u001b[1;36m16.\u001b[0m \u001b[1;33m/\u001b[0m \u001b[1;36m365\u001b[0m \u001b[1;33m*\u001b[0m \u001b[0mfrequencies\u001b[0m\u001b[1;33m)\u001b[0m\u001b[1;33m.\u001b[0m\u001b[0mastype\u001b[0m\u001b[1;33m(\u001b[0m\u001b[0mint\u001b[0m\u001b[1;33m)\u001b[0m\u001b[1;33m\u001b[0m\u001b[0m\n\u001b[0;32m      3\u001b[0m \u001b[0mfrequencies\u001b[0m\u001b[1;33m\u001b[0m\u001b[0m\n\u001b[1;32m----> 4\u001b[1;33m \u001b[0mpyhants\u001b[0m \u001b[1;33m=\u001b[0m \u001b[0mHANTS\u001b[0m\u001b[1;33m(\u001b[0m\u001b[0msample_count\u001b[0m\u001b[1;33m=\u001b[0m\u001b[0mtime\u001b[0m\u001b[1;33m,\u001b[0m \u001b[0minputs\u001b[0m\u001b[1;33m=\u001b[0m\u001b[0mts_reshape\u001b[0m\u001b[1;33m,\u001b[0m \u001b[0mfrequencies_considered_count\u001b[0m\u001b[1;33m=\u001b[0m\u001b[0mfrequencies\u001b[0m\u001b[1;33m,\u001b[0m  \u001b[0moutliers_to_reject\u001b[0m\u001b[1;33m=\u001b[0m\u001b[0moutliers\u001b[0m\u001b[1;33m)\u001b[0m\u001b[1;33m\u001b[0m\u001b[0m\n\u001b[0m\u001b[0;32m      5\u001b[0m \u001b[1;31m#pyhants = HANTS(time, ts_reshape/100, frequencies, outliers)\u001b[0m\u001b[1;33m\u001b[0m\u001b[1;33m\u001b[0m\u001b[0m\n\u001b[0;32m      6\u001b[0m \u001b[1;31m#pyhants *= 100\u001b[0m\u001b[1;33m\u001b[0m\u001b[1;33m\u001b[0m\u001b[0m\n",
      "\u001b[1;32m<ipython-input-1-cc65ce9a8720>\u001b[0m in \u001b[0;36mHANTS\u001b[1;34m(sample_count, inputs, frequencies_considered_count, outliers_to_reject, low, high, fit_error_tolerance, delta)\u001b[0m\n\u001b[0;32m    136\u001b[0m \u001b[1;33m\u001b[0m\u001b[0m\n\u001b[0;32m    137\u001b[0m         \u001b[1;31m# solve linear matrix equation and define reconstructed timeseries\u001b[0m\u001b[1;33m\u001b[0m\u001b[1;33m\u001b[0m\u001b[0m\n\u001b[1;32m--> 138\u001b[1;33m         \u001b[0mzr\u001b[0m \u001b[1;33m=\u001b[0m \u001b[0mnp\u001b[0m\u001b[1;33m.\u001b[0m\u001b[0mlinalg\u001b[0m\u001b[1;33m.\u001b[0m\u001b[0msolve\u001b[0m\u001b[1;33m(\u001b[0m\u001b[0mA\u001b[0m\u001b[1;33m,\u001b[0m \u001b[0mza\u001b[0m\u001b[1;33m)\u001b[0m\u001b[1;33m\u001b[0m\u001b[0m\n\u001b[0m\u001b[0;32m    139\u001b[0m         \u001b[1;31m#print zr\u001b[0m\u001b[1;33m\u001b[0m\u001b[1;33m\u001b[0m\u001b[0m\n\u001b[0;32m    140\u001b[0m \u001b[1;33m\u001b[0m\u001b[0m\n",
      "\u001b[1;32mD:\\Python27x64\\lib\\site-packages\\numpy\\linalg\\linalg.pyc\u001b[0m in \u001b[0;36msolve\u001b[1;34m(a, b)\u001b[0m\n\u001b[0;32m    379\u001b[0m     \u001b[0msignature\u001b[0m \u001b[1;33m=\u001b[0m \u001b[1;34m'DD->D'\u001b[0m \u001b[1;32mif\u001b[0m \u001b[0misComplexType\u001b[0m\u001b[1;33m(\u001b[0m\u001b[0mt\u001b[0m\u001b[1;33m)\u001b[0m \u001b[1;32melse\u001b[0m \u001b[1;34m'dd->d'\u001b[0m\u001b[1;33m\u001b[0m\u001b[0m\n\u001b[0;32m    380\u001b[0m     \u001b[0mextobj\u001b[0m \u001b[1;33m=\u001b[0m \u001b[0mget_linalg_error_extobj\u001b[0m\u001b[1;33m(\u001b[0m\u001b[0m_raise_linalgerror_singular\u001b[0m\u001b[1;33m)\u001b[0m\u001b[1;33m\u001b[0m\u001b[0m\n\u001b[1;32m--> 381\u001b[1;33m     \u001b[0mr\u001b[0m \u001b[1;33m=\u001b[0m \u001b[0mgufunc\u001b[0m\u001b[1;33m(\u001b[0m\u001b[0ma\u001b[0m\u001b[1;33m,\u001b[0m \u001b[0mb\u001b[0m\u001b[1;33m,\u001b[0m \u001b[0msignature\u001b[0m\u001b[1;33m=\u001b[0m\u001b[0msignature\u001b[0m\u001b[1;33m,\u001b[0m \u001b[0mextobj\u001b[0m\u001b[1;33m=\u001b[0m\u001b[0mextobj\u001b[0m\u001b[1;33m)\u001b[0m\u001b[1;33m\u001b[0m\u001b[0m\n\u001b[0m\u001b[0;32m    382\u001b[0m \u001b[1;33m\u001b[0m\u001b[0m\n\u001b[0;32m    383\u001b[0m     \u001b[1;32mreturn\u001b[0m \u001b[0mwrap\u001b[0m\u001b[1;33m(\u001b[0m\u001b[0mr\u001b[0m\u001b[1;33m.\u001b[0m\u001b[0mastype\u001b[0m\u001b[1;33m(\u001b[0m\u001b[0mresult_t\u001b[0m\u001b[1;33m)\u001b[0m\u001b[1;33m)\u001b[0m\u001b[1;33m\u001b[0m\u001b[0m\n",
      "\u001b[1;32mD:\\Python27x64\\lib\\site-packages\\numpy\\linalg\\linalg.pyc\u001b[0m in \u001b[0;36m_raise_linalgerror_singular\u001b[1;34m(err, flag)\u001b[0m\n\u001b[0;32m     88\u001b[0m \u001b[1;33m\u001b[0m\u001b[0m\n\u001b[0;32m     89\u001b[0m \u001b[1;32mdef\u001b[0m \u001b[0m_raise_linalgerror_singular\u001b[0m\u001b[1;33m(\u001b[0m\u001b[0merr\u001b[0m\u001b[1;33m,\u001b[0m \u001b[0mflag\u001b[0m\u001b[1;33m)\u001b[0m\u001b[1;33m:\u001b[0m\u001b[1;33m\u001b[0m\u001b[0m\n\u001b[1;32m---> 90\u001b[1;33m     \u001b[1;32mraise\u001b[0m \u001b[0mLinAlgError\u001b[0m\u001b[1;33m(\u001b[0m\u001b[1;34m\"Singular matrix\"\u001b[0m\u001b[1;33m)\u001b[0m\u001b[1;33m\u001b[0m\u001b[0m\n\u001b[0m\u001b[0;32m     91\u001b[0m \u001b[1;33m\u001b[0m\u001b[0m\n\u001b[0;32m     92\u001b[0m \u001b[1;32mdef\u001b[0m \u001b[0m_raise_linalgerror_nonposdef\u001b[0m\u001b[1;33m(\u001b[0m\u001b[0merr\u001b[0m\u001b[1;33m,\u001b[0m \u001b[0mflag\u001b[0m\u001b[1;33m)\u001b[0m\u001b[1;33m:\u001b[0m\u001b[1;33m\u001b[0m\u001b[0m\n",
      "\u001b[1;31mLinAlgError\u001b[0m: Singular matrix"
     ]
    }
   ],
   "source": [
    "# compute HANTS\n",
    "frequencies = np.round(len(ts_reshape_mean) * 16. / 365 * frequencies).astype(int)\n",
    "frequencies\n",
    "pyhants = HANTS(sample_count=time, inputs=ts_reshape, frequencies_considered_count=frequencies,  outliers_to_reject=outliers)\n",
    "#pyhants = HANTS(time, ts_reshape/100, frequencies, outliers)\n",
    "#pyhants *= 100\n",
    "pyhants_mean = pyhants.mean(axis=0)\n",
    "df = pd.DataFrame(pyhants_mean.flatten()/scaling_value,dates)\n",
    "df_org = pd.DataFrame(ts_reshape_mean.flatten()/scaling_value,dates)"
   ]
  },
  {
   "cell_type": "code",
   "execution_count": 43,
   "metadata": {
    "collapsed": false
   },
   "outputs": [
    {
     "data": {
      "text/plain": [
       "<matplotlib.axes._subplots.AxesSubplot at 0x113ec9b0>"
      ]
     },
     "execution_count": 43,
     "metadata": {},
     "output_type": "execute_result"
    },
    {
     "data": {
      "image/png": "[encoded data removed]",
      "text/plain": [
       "<matplotlib.figure.Figure at 0x10bf7d30>"
      ]
     },
     "metadata": {},
     "output_type": "display_data"
    },
    {
     "data": {
      "image/png": "[encoded data removed]",
      "text/plain": [
       "<matplotlib.figure.Figure at 0x110105f8>"
      ]
     },
     "metadata": {},
     "output_type": "display_data"
    }
   ],
   "source": [
    "df.plot()\n",
    "df_org.plot()"
   ]
  },
  {
   "cell_type": "code",
   "execution_count": 183,
   "metadata": {
    "collapsed": false
   },
   "outputs": [
    {
     "data": {
      "text/plain": [
       "<matplotlib.image.AxesImage at 0x11ca7358>"
      ]
     },
     "execution_count": 183,
     "metadata": {},
     "output_type": "execute_result"
    },
    {
     "data": {
      "image/png": "[encoded data removed]",
      "text/plain": [
       "<matplotlib.figure.Figure at 0x11c746a0>"
      ]
     },
     "metadata": {},
     "output_type": "display_data"
    }
   ],
   "source": [
    "data = ts_reshape\n",
    "plt.imshow(data, interpolation='nearest')\n"
   ]
  },
  {
   "cell_type": "code",
   "execution_count": 184,
   "metadata": {
    "collapsed": false
   },
   "outputs": [
    {
     "name": "stdout",
     "output_type": "stream",
     "text": [
      "[0 2 3]\n"
     ]
    },
    {
     "data": {
      "text/plain": [
       "array([[-1028.,  -203., -1091.,  -674.,  -474.,  1466.,  3846.,  5051.,\n",
       "         -225.,   -86.,   312.,   642.,  7348.,   -64.,  -555.,    48.,\n",
       "         8778.,  1393.,    56.,  4949.,     0., -1066.],\n",
       "       [-1088.,  -428., -1105.,  -361.,  -473.,  4482.,  1515.,  2432.,\n",
       "         2063.,  -233.,   192.,   530.,  7060.,   520.,   -73.,  -630.,\n",
       "         4457.,   472.,   496.,  5454.,  1955., -1541.],\n",
       "       [-1748.,  -537., -1056.,  -601.,  -633.,   275.,  2000.,   -52.,\n",
       "         1150.,   -35.,   172.,  -641.,  5270.,   894.,   -84.,   -34.,\n",
       "        -1055.,  -103.,  2083.,  2226.,  -359., -1640.]])"
      ]
     },
     "execution_count": 184,
     "metadata": {},
     "output_type": "execute_result"
    }
   ],
   "source": [
    "data[1] = -3000\n",
    "mask = data == -3000\n",
    "slice = np.invert(mask)[:,0].nonzero()[0]\n",
    "print slice\n",
    "data[slice]"
   ]
  },
  {
   "cell_type": "code",
   "execution_count": 185,
   "metadata": {
    "collapsed": false
   },
   "outputs": [
    {
     "data": {
      "text/plain": [
       "array([0, 2, 3], dtype=int64)"
      ]
     },
     "execution_count": 185,
     "metadata": {},
     "output_type": "execute_result"
    }
   ],
   "source": [
    "mask = data.mean(axis=-1) == -3000\n",
    "slice = np.invert(mask).nonzero()[0]\n",
    "slice"
   ]
  },
  {
   "cell_type": "code",
   "execution_count": 186,
   "metadata": {
    "collapsed": false
   },
   "outputs": [],
   "source": [
    "pyhants = HANTS(sample_count=time, inputs=data[slice]/100, frequencies_considered_count=frequencies,  outliers_to_reject=outliers)"
   ]
  },
  {
   "cell_type": "code",
   "execution_count": 187,
   "metadata": {
    "collapsed": true
   },
   "outputs": [],
   "source": [
    "out = np.empty_like(data)\n",
    "out.fill(np.nan)"
   ]
  },
  {
   "cell_type": "code",
   "execution_count": 188,
   "metadata": {
    "collapsed": false
   },
   "outputs": [],
   "source": [
    "out[slice] = pyhants"
   ]
  },
  {
   "cell_type": "code",
   "execution_count": 189,
   "metadata": {
    "collapsed": false
   },
   "outputs": [
    {
     "data": {
      "text/plain": [
       "array([[  83.03920391,   50.53165187,   11.89771176,  -10.99734535,\n",
       "          -7.13959275,   16.50929623,   40.53102485,   47.22949294,\n",
       "          33.45294849,   12.99542002,    6.79190807,   27.67799664,\n",
       "          70.37332636,  113.84394969,  134.68898283,  122.54536715,\n",
       "          87.00547901,   51.26292334,   36.73508009,   49.05947256,\n",
       "          74.90312022,   91.62096776],\n",
       "       [          nan,           nan,           nan,           nan,\n",
       "                  nan,           nan,           nan,           nan,\n",
       "                  nan,           nan,           nan,           nan,\n",
       "                  nan,           nan,           nan,           nan,\n",
       "                  nan,           nan,           nan,           nan,\n",
       "                  nan,           nan],\n",
       "       [ 120.60908224,   89.54117296,   51.42428593,   28.50481225,\n",
       "          29.41454469,   44.6184423 ,   54.94824388,   46.78266467,\n",
       "          22.84210926,    0.75868114,    0.30511752,   28.30888714,\n",
       "          72.12116958,  106.70593211,  110.93820821,   82.1192583 ,\n",
       "          38.64510268,    8.65960973,   12.02460731,   47.54384162,\n",
       "          93.9090604 ,  123.63822948],\n",
       "       [  30.68844486,   11.85761263,   -7.08569143,  -15.29859005,\n",
       "          -9.07108797,    5.72242185,   17.99774821,   19.55505923,\n",
       "          11.15129748,    2.18787502,    4.09834165,   21.95667998,\n",
       "          50.16290197,   75.34322171,   84.67455352,   74.0918075 ,\n",
       "          50.8521358 ,   28.72132633,   19.02825722,   23.59903162,\n",
       "          34.24918386,   39.00963935]])"
      ]
     },
     "execution_count": 189,
     "metadata": {},
     "output_type": "execute_result"
    }
   ],
   "source": [
    "out"
   ]
  },
  {
   "cell_type": "code",
   "execution_count": 205,
   "metadata": {
    "collapsed": false
   },
   "outputs": [],
   "source": [
    "percent = np.sum(data == -3000, axis=-1) / float(data.shape[1])\n",
    "percent = percent >= 0.9"
   ]
  },
  {
   "cell_type": "code",
   "execution_count": 206,
   "metadata": {
    "collapsed": false
   },
   "outputs": [
    {
     "data": {
      "text/plain": [
       "array([0, 2, 3], dtype=int64)"
      ]
     },
     "execution_count": 206,
     "metadata": {},
     "output_type": "execute_result"
    }
   ],
   "source": [
    "slice = np.invert(percent).nonzero()[0]\n",
    "slice"
   ]
  },
  {
   "cell_type": "code",
   "execution_count": null,
   "metadata": {
    "collapsed": true
   },
   "outputs": [],
   "source": []
  }
 ],
 "metadata": {
  "kernelspec": {
   "display_name": "Python 2",
   "language": "python",
   "name": "python2"
  },
  "language_info": {
   "codemirror_mode": {
    "name": "ipython",
    "version": 2
   },
   "file_extension": ".py",
   "mimetype": "text/x-python",
   "name": "python",
   "nbconvert_exporter": "python",
   "pygments_lexer": "ipython2",
   "version": "2.7.6"
  }
 },
 "nbformat": 4,
 "nbformat_minor": 0
}
